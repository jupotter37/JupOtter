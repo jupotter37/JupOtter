{
  "nbformat": 4,
  "nbformat_minor": 0,
  "metadata": {
    "colab": {
      "name": "LTV Analysis-Medium v2.ipynb",
      "provenance": [],
      "collapsed_sections": [],
      "mount_file_id": "1bQRGxv9bGyAY9vdbJ88h_WmBVw9a5W1X",
      "authorship_tag": "ABX9TyPwcJVIcTqMxGzYQJ4DJbee",
      "include_colab_link": true
    },
    "kernelspec": {
      "display_name": "Python 3",
      "language": "python",
      "name": "python3"
    },
    "language_info": {
      "codemirror_mode": {
        "name": "ipython",
        "version": 3
      },
      "file_extension": ".py",
      "mimetype": "text/x-python",
      "name": "python",
      "nbconvert_exporter": "python",
      "pygments_lexer": "ipython3",
      "version": "3.7.6"
    },
    "varInspector": {
      "cols": {
        "lenName": 16,
        "lenType": 16,
        "lenVar": 40
      },
      "kernels_config": {
        "python": {
          "delete_cmd_postfix": "",
          "delete_cmd_prefix": "del ",
          "library": "var_list.py",
          "varRefreshCmd": "print(var_dic_list())"
        },
        "r": {
          "delete_cmd_postfix": ") ",
          "delete_cmd_prefix": "rm(",
          "library": "var_list.r",
          "varRefreshCmd": "cat(var_dic_list()) "
        }
      },
      "types_to_exclude": [
        "module",
        "function",
        "builtin_function_or_method",
        "instance",
        "_Feature"
      ],
      "window_display": false
    }
  },
  "cells": [
    {
      "cell_type": "markdown",
      "metadata": {
        "id": "view-in-github",
        "colab_type": "text"
      },
      "source": [
        "<a href=\"https://colab.research.google.com/github/finlytics-hub/LTV_predictions/blob/master/LTV_Analysis.ipynb\" target=\"_parent\"><img src=\"https://colab.research.google.com/assets/colab-badge.svg\" alt=\"Open In Colab\"/></a>"
      ]
    },
    {
      "cell_type": "markdown",
      "metadata": {
        "colab_type": "text",
        "id": "Kw-osmHK3LIQ"
      },
      "source": [
        "# Environment Setup"
      ]
    },
    {
      "cell_type": "code",
      "metadata": {
        "colab_type": "code",
        "id": "OjUUOUC4bcNk",
        "colab": {}
      },
      "source": [
        "# import and install all required libraries\n",
        "import pandas as pd\n",
        "import seaborn as sns\n",
        "import datetime as dt\n",
        "import matplotlib.pyplot as plt\n",
        "import numpy as np\n",
        "\n",
        "! pip install lifetimes==0.11.3\n",
        "from lifetimes.plotting import *\n",
        "from lifetimes.utils import *\n",
        "from lifetimes import BetaGeoFitter\n",
        "from lifetimes import GammaGammaFitter"
      ],
      "execution_count": null,
      "outputs": []
    },
    {
      "cell_type": "code",
      "metadata": {
        "colab_type": "code",
        "id": "I7miQRQn6KNb",
        "colab": {}
      },
      "source": [
        "# Load data\n",
        "data = pd.read_csv('.../OnlineRetail_2yrs.csv')"
      ],
      "execution_count": 2,
      "outputs": []
    },
    {
      "cell_type": "markdown",
      "metadata": {
        "colab_type": "text",
        "id": "3k3Dzjoc90Mr"
      },
      "source": [
        "# EDA and Data Preprocessing"
      ]
    },
    {
      "cell_type": "code",
      "metadata": {
        "colab_type": "code",
        "id": "zSGoHrh-9yX8",
        "colab": {
          "base_uri": "https://localhost:8080/",
          "height": 359
        },
        "outputId": "b62a636e-1635-4442-abfc-7ba4d70abf01"
      },
      "source": [
        "data.head(10)"
      ],
      "execution_count": 3,
      "outputs": [
        {
          "output_type": "execute_result",
          "data": {
            "text/html": [
              "<div>\n",
              "<style scoped>\n",
              "    .dataframe tbody tr th:only-of-type {\n",
              "        vertical-align: middle;\n",
              "    }\n",
              "\n",
              "    .dataframe tbody tr th {\n",
              "        vertical-align: top;\n",
              "    }\n",
              "\n",
              "    .dataframe thead th {\n",
              "        text-align: right;\n",
              "    }\n",
              "</style>\n",
              "<table border=\"1\" class=\"dataframe\">\n",
              "  <thead>\n",
              "    <tr style=\"text-align: right;\">\n",
              "      <th></th>\n",
              "      <th>Invoice</th>\n",
              "      <th>StockCode</th>\n",
              "      <th>Description</th>\n",
              "      <th>Quantity</th>\n",
              "      <th>InvoiceDate</th>\n",
              "      <th>Price</th>\n",
              "      <th>Customer ID</th>\n",
              "      <th>Country</th>\n",
              "    </tr>\n",
              "  </thead>\n",
              "  <tbody>\n",
              "    <tr>\n",
              "      <th>0</th>\n",
              "      <td>489434</td>\n",
              "      <td>85048</td>\n",
              "      <td>15CM CHRISTMAS GLASS BALL 20 LIGHTS</td>\n",
              "      <td>12.0</td>\n",
              "      <td>1/12/2009 7:45</td>\n",
              "      <td>6.95</td>\n",
              "      <td>13085.0</td>\n",
              "      <td>United Kingdom</td>\n",
              "    </tr>\n",
              "    <tr>\n",
              "      <th>1</th>\n",
              "      <td>489434</td>\n",
              "      <td>79323P</td>\n",
              "      <td>PINK CHERRY LIGHTS</td>\n",
              "      <td>12.0</td>\n",
              "      <td>1/12/2009 7:45</td>\n",
              "      <td>6.75</td>\n",
              "      <td>13085.0</td>\n",
              "      <td>United Kingdom</td>\n",
              "    </tr>\n",
              "    <tr>\n",
              "      <th>2</th>\n",
              "      <td>489434</td>\n",
              "      <td>79323W</td>\n",
              "      <td>WHITE CHERRY LIGHTS</td>\n",
              "      <td>12.0</td>\n",
              "      <td>1/12/2009 7:45</td>\n",
              "      <td>6.75</td>\n",
              "      <td>13085.0</td>\n",
              "      <td>United Kingdom</td>\n",
              "    </tr>\n",
              "    <tr>\n",
              "      <th>3</th>\n",
              "      <td>489434</td>\n",
              "      <td>22041</td>\n",
              "      <td>RECORD FRAME 7\" SINGLE SIZE</td>\n",
              "      <td>48.0</td>\n",
              "      <td>1/12/2009 7:45</td>\n",
              "      <td>2.10</td>\n",
              "      <td>13085.0</td>\n",
              "      <td>United Kingdom</td>\n",
              "    </tr>\n",
              "    <tr>\n",
              "      <th>4</th>\n",
              "      <td>489434</td>\n",
              "      <td>21232</td>\n",
              "      <td>STRAWBERRY CERAMIC TRINKET BOX</td>\n",
              "      <td>24.0</td>\n",
              "      <td>1/12/2009 7:45</td>\n",
              "      <td>1.25</td>\n",
              "      <td>13085.0</td>\n",
              "      <td>United Kingdom</td>\n",
              "    </tr>\n",
              "    <tr>\n",
              "      <th>5</th>\n",
              "      <td>489434</td>\n",
              "      <td>22064</td>\n",
              "      <td>PINK DOUGHNUT TRINKET POT</td>\n",
              "      <td>24.0</td>\n",
              "      <td>1/12/2009 7:45</td>\n",
              "      <td>1.65</td>\n",
              "      <td>13085.0</td>\n",
              "      <td>United Kingdom</td>\n",
              "    </tr>\n",
              "    <tr>\n",
              "      <th>6</th>\n",
              "      <td>489434</td>\n",
              "      <td>21871</td>\n",
              "      <td>SAVE THE PLANET MUG</td>\n",
              "      <td>24.0</td>\n",
              "      <td>1/12/2009 7:45</td>\n",
              "      <td>1.25</td>\n",
              "      <td>13085.0</td>\n",
              "      <td>United Kingdom</td>\n",
              "    </tr>\n",
              "    <tr>\n",
              "      <th>7</th>\n",
              "      <td>489434</td>\n",
              "      <td>21523</td>\n",
              "      <td>FANCY FONT HOME SWEET HOME DOORMAT</td>\n",
              "      <td>10.0</td>\n",
              "      <td>1/12/2009 7:45</td>\n",
              "      <td>5.95</td>\n",
              "      <td>13085.0</td>\n",
              "      <td>United Kingdom</td>\n",
              "    </tr>\n",
              "    <tr>\n",
              "      <th>8</th>\n",
              "      <td>489435</td>\n",
              "      <td>22350</td>\n",
              "      <td>CAT BOWL</td>\n",
              "      <td>12.0</td>\n",
              "      <td>1/12/2009 7:46</td>\n",
              "      <td>2.55</td>\n",
              "      <td>13085.0</td>\n",
              "      <td>United Kingdom</td>\n",
              "    </tr>\n",
              "    <tr>\n",
              "      <th>9</th>\n",
              "      <td>489435</td>\n",
              "      <td>22349</td>\n",
              "      <td>DOG BOWL , CHASING BALL DESIGN</td>\n",
              "      <td>12.0</td>\n",
              "      <td>1/12/2009 7:46</td>\n",
              "      <td>3.75</td>\n",
              "      <td>13085.0</td>\n",
              "      <td>United Kingdom</td>\n",
              "    </tr>\n",
              "  </tbody>\n",
              "</table>\n",
              "</div>"
            ],
            "text/plain": [
              "  Invoice StockCode  ... Customer ID         Country\n",
              "0  489434     85048  ...     13085.0  United Kingdom\n",
              "1  489434    79323P  ...     13085.0  United Kingdom\n",
              "2  489434    79323W  ...     13085.0  United Kingdom\n",
              "3  489434     22041  ...     13085.0  United Kingdom\n",
              "4  489434     21232  ...     13085.0  United Kingdom\n",
              "5  489434     22064  ...     13085.0  United Kingdom\n",
              "6  489434     21871  ...     13085.0  United Kingdom\n",
              "7  489434     21523  ...     13085.0  United Kingdom\n",
              "8  489435     22350  ...     13085.0  United Kingdom\n",
              "9  489435     22349  ...     13085.0  United Kingdom\n",
              "\n",
              "[10 rows x 8 columns]"
            ]
          },
          "metadata": {
            "tags": []
          },
          "execution_count": 3
        }
      ]
    },
    {
      "cell_type": "code",
      "metadata": {
        "colab_type": "code",
        "id": "eU-EInX395p2",
        "colab": {
          "base_uri": "https://localhost:8080/",
          "height": 272
        },
        "outputId": "e484b1ef-2999-4da0-b072-b56ab0d9e93f"
      },
      "source": [
        "data.info()"
      ],
      "execution_count": 4,
      "outputs": [
        {
          "output_type": "stream",
          "text": [
            "<class 'pandas.core.frame.DataFrame'>\n",
            "RangeIndex: 981331 entries, 0 to 981330\n",
            "Data columns (total 8 columns):\n",
            " #   Column       Non-Null Count   Dtype  \n",
            "---  ------       --------------   -----  \n",
            " 0   Invoice      981330 non-null  object \n",
            " 1   StockCode    981330 non-null  object \n",
            " 2   Description  976948 non-null  object \n",
            " 3   Quantity     981330 non-null  float64\n",
            " 4   InvoiceDate  981330 non-null  object \n",
            " 5   Price        981330 non-null  float64\n",
            " 6   Customer ID  741301 non-null  float64\n",
            " 7   Country      981330 non-null  object \n",
            "dtypes: float64(3), object(5)\n",
            "memory usage: 59.9+ MB\n"
          ],
          "name": "stdout"
        }
      ]
    },
    {
      "cell_type": "code",
      "metadata": {
        "colab_type": "code",
        "id": "aIj0zulh-3he",
        "colab": {
          "base_uri": "https://localhost:8080/",
          "height": 204
        },
        "outputId": "0cb080ba-d68b-487b-bb6d-ac1fde8388fe"
      },
      "source": [
        "# Convert InvoiceDate into DateTime format and extract the date values\n",
        "data['InvoiceDate'] = pd.to_datetime(data['InvoiceDate']).dt.date\n",
        "# drop rows with missing CustomerID as our analysis will be at the individual customer level\n",
        "data.dropna(axis = 0, subset = ['Customer ID'], inplace = True)\n",
        "# filter out the negative values from Quantity field as these could relate to returns that are not relevant to LTV predictions\n",
        "data = data[(data['Quantity'] > 0)]\n",
        "# create a new column for Sales per invoice and filter out only the required columns for the Lifetimes package\n",
        "data['Sales'] = data['Quantity'] * data['Price']\n",
        "data_final = data[['Customer ID', 'InvoiceDate', 'Sales']]\n",
        "data_final.head()"
      ],
      "execution_count": 5,
      "outputs": [
        {
          "output_type": "execute_result",
          "data": {
            "text/html": [
              "<div>\n",
              "<style scoped>\n",
              "    .dataframe tbody tr th:only-of-type {\n",
              "        vertical-align: middle;\n",
              "    }\n",
              "\n",
              "    .dataframe tbody tr th {\n",
              "        vertical-align: top;\n",
              "    }\n",
              "\n",
              "    .dataframe thead th {\n",
              "        text-align: right;\n",
              "    }\n",
              "</style>\n",
              "<table border=\"1\" class=\"dataframe\">\n",
              "  <thead>\n",
              "    <tr style=\"text-align: right;\">\n",
              "      <th></th>\n",
              "      <th>Customer ID</th>\n",
              "      <th>InvoiceDate</th>\n",
              "      <th>Sales</th>\n",
              "    </tr>\n",
              "  </thead>\n",
              "  <tbody>\n",
              "    <tr>\n",
              "      <th>0</th>\n",
              "      <td>13085.0</td>\n",
              "      <td>2009-01-12</td>\n",
              "      <td>83.4</td>\n",
              "    </tr>\n",
              "    <tr>\n",
              "      <th>1</th>\n",
              "      <td>13085.0</td>\n",
              "      <td>2009-01-12</td>\n",
              "      <td>81.0</td>\n",
              "    </tr>\n",
              "    <tr>\n",
              "      <th>2</th>\n",
              "      <td>13085.0</td>\n",
              "      <td>2009-01-12</td>\n",
              "      <td>81.0</td>\n",
              "    </tr>\n",
              "    <tr>\n",
              "      <th>3</th>\n",
              "      <td>13085.0</td>\n",
              "      <td>2009-01-12</td>\n",
              "      <td>100.8</td>\n",
              "    </tr>\n",
              "    <tr>\n",
              "      <th>4</th>\n",
              "      <td>13085.0</td>\n",
              "      <td>2009-01-12</td>\n",
              "      <td>30.0</td>\n",
              "    </tr>\n",
              "  </tbody>\n",
              "</table>\n",
              "</div>"
            ],
            "text/plain": [
              "   Customer ID InvoiceDate  Sales\n",
              "0      13085.0  2009-01-12   83.4\n",
              "1      13085.0  2009-01-12   81.0\n",
              "2      13085.0  2009-01-12   81.0\n",
              "3      13085.0  2009-01-12  100.8\n",
              "4      13085.0  2009-01-12   30.0"
            ]
          },
          "metadata": {
            "tags": []
          },
          "execution_count": 5
        }
      ]
    },
    {
      "cell_type": "code",
      "metadata": {
        "colab_type": "code",
        "id": "aHOeH5h9Xvyx",
        "colab": {
          "base_uri": "https://localhost:8080/",
          "height": 187
        },
        "outputId": "e574afa2-1b18-44ab-f301-dd958d87d99f"
      },
      "source": [
        "data_final.info()"
      ],
      "execution_count": 6,
      "outputs": [
        {
          "output_type": "stream",
          "text": [
            "<class 'pandas.core.frame.DataFrame'>\n",
            "Int64Index: 725296 entries, 0 to 981330\n",
            "Data columns (total 3 columns):\n",
            " #   Column       Non-Null Count   Dtype  \n",
            "---  ------       --------------   -----  \n",
            " 0   Customer ID  725296 non-null  float64\n",
            " 1   InvoiceDate  725296 non-null  object \n",
            " 2   Sales        725296 non-null  float64\n",
            "dtypes: float64(2), object(1)\n",
            "memory usage: 22.1+ MB\n"
          ],
          "name": "stdout"
        }
      ]
    },
    {
      "cell_type": "code",
      "metadata": {
        "colab_type": "code",
        "id": "g8qD3Kt1DE9j",
        "colab": {
          "base_uri": "https://localhost:8080/",
          "height": 390
        },
        "outputId": "5d60675f-86d8-44e8-e47e-b367c174c225"
      },
      "source": [
        "# transform our transaction level data into the required summary form for Lifetimes\n",
        "data_summary = summary_data_from_transaction_data(data_final, customer_id_col = 'Customer ID', datetime_col = 'InvoiceDate', monetary_value_col = 'Sales', freq = 'D')\n",
        "# used freq = 'D' since we have a daily transactions log\n",
        "data_summary.head(10)"
      ],
      "execution_count": 7,
      "outputs": [
        {
          "output_type": "execute_result",
          "data": {
            "text/html": [
              "<div>\n",
              "<style scoped>\n",
              "    .dataframe tbody tr th:only-of-type {\n",
              "        vertical-align: middle;\n",
              "    }\n",
              "\n",
              "    .dataframe tbody tr th {\n",
              "        vertical-align: top;\n",
              "    }\n",
              "\n",
              "    .dataframe thead th {\n",
              "        text-align: right;\n",
              "    }\n",
              "</style>\n",
              "<table border=\"1\" class=\"dataframe\">\n",
              "  <thead>\n",
              "    <tr style=\"text-align: right;\">\n",
              "      <th></th>\n",
              "      <th>frequency</th>\n",
              "      <th>recency</th>\n",
              "      <th>T</th>\n",
              "      <th>monetary_value</th>\n",
              "    </tr>\n",
              "    <tr>\n",
              "      <th>Customer ID</th>\n",
              "      <th></th>\n",
              "      <th></th>\n",
              "      <th></th>\n",
              "      <th></th>\n",
              "    </tr>\n",
              "  </thead>\n",
              "  <tbody>\n",
              "    <tr>\n",
              "      <th>12346.0</th>\n",
              "      <td>7.0</td>\n",
              "      <td>400.0</td>\n",
              "      <td>726.0</td>\n",
              "      <td>11066.637143</td>\n",
              "    </tr>\n",
              "    <tr>\n",
              "      <th>12608.0</th>\n",
              "      <td>0.0</td>\n",
              "      <td>0.0</td>\n",
              "      <td>405.0</td>\n",
              "      <td>0.000000</td>\n",
              "    </tr>\n",
              "    <tr>\n",
              "      <th>12745.0</th>\n",
              "      <td>1.0</td>\n",
              "      <td>147.0</td>\n",
              "      <td>575.0</td>\n",
              "      <td>266.930000</td>\n",
              "    </tr>\n",
              "    <tr>\n",
              "      <th>12746.0</th>\n",
              "      <td>0.0</td>\n",
              "      <td>0.0</td>\n",
              "      <td>541.0</td>\n",
              "      <td>0.000000</td>\n",
              "    </tr>\n",
              "    <tr>\n",
              "      <th>12747.0</th>\n",
              "      <td>25.0</td>\n",
              "      <td>858.0</td>\n",
              "      <td>881.0</td>\n",
              "      <td>355.835600</td>\n",
              "    </tr>\n",
              "    <tr>\n",
              "      <th>12748.0</th>\n",
              "      <td>202.0</td>\n",
              "      <td>967.0</td>\n",
              "      <td>972.0</td>\n",
              "      <td>279.101436</td>\n",
              "    </tr>\n",
              "    <tr>\n",
              "      <th>12749.0</th>\n",
              "      <td>6.0</td>\n",
              "      <td>555.0</td>\n",
              "      <td>578.0</td>\n",
              "      <td>1020.433333</td>\n",
              "    </tr>\n",
              "    <tr>\n",
              "      <th>12777.0</th>\n",
              "      <td>0.0</td>\n",
              "      <td>0.0</td>\n",
              "      <td>488.0</td>\n",
              "      <td>0.000000</td>\n",
              "    </tr>\n",
              "    <tr>\n",
              "      <th>12819.0</th>\n",
              "      <td>0.0</td>\n",
              "      <td>0.0</td>\n",
              "      <td>519.0</td>\n",
              "      <td>0.000000</td>\n",
              "    </tr>\n",
              "    <tr>\n",
              "      <th>12820.0</th>\n",
              "      <td>10.0</td>\n",
              "      <td>897.0</td>\n",
              "      <td>942.0</td>\n",
              "      <td>254.122000</td>\n",
              "    </tr>\n",
              "  </tbody>\n",
              "</table>\n",
              "</div>"
            ],
            "text/plain": [
              "             frequency  recency      T  monetary_value\n",
              "Customer ID                                           \n",
              "12346.0            7.0    400.0  726.0    11066.637143\n",
              "12608.0            0.0      0.0  405.0        0.000000\n",
              "12745.0            1.0    147.0  575.0      266.930000\n",
              "12746.0            0.0      0.0  541.0        0.000000\n",
              "12747.0           25.0    858.0  881.0      355.835600\n",
              "12748.0          202.0    967.0  972.0      279.101436\n",
              "12749.0            6.0    555.0  578.0     1020.433333\n",
              "12777.0            0.0      0.0  488.0        0.000000\n",
              "12819.0            0.0      0.0  519.0        0.000000\n",
              "12820.0           10.0    897.0  942.0      254.122000"
            ]
          },
          "metadata": {
            "tags": []
          },
          "execution_count": 7
        }
      ]
    },
    {
      "cell_type": "code",
      "metadata": {
        "id": "bcwQQjTpAACn",
        "colab_type": "code",
        "colab": {}
      },
      "source": [
        "# retain only those customers with frequency > 0\n",
        "data_summary = data_summary[data_summary['frequency'] > 0]"
      ],
      "execution_count": 8,
      "outputs": []
    },
    {
      "cell_type": "code",
      "metadata": {
        "id": "g9eGQ2TwlYpl",
        "colab_type": "code",
        "colab": {
          "base_uri": "https://localhost:8080/",
          "height": 297
        },
        "outputId": "0fce32d6-7c67-4f8b-be80-0e833ca57e37"
      },
      "source": [
        "# Some descriptive statistics of the summary data\n",
        "data_summary.describe()"
      ],
      "execution_count": 9,
      "outputs": [
        {
          "output_type": "execute_result",
          "data": {
            "text/html": [
              "<div>\n",
              "<style scoped>\n",
              "    .dataframe tbody tr th:only-of-type {\n",
              "        vertical-align: middle;\n",
              "    }\n",
              "\n",
              "    .dataframe tbody tr th {\n",
              "        vertical-align: top;\n",
              "    }\n",
              "\n",
              "    .dataframe thead th {\n",
              "        text-align: right;\n",
              "    }\n",
              "</style>\n",
              "<table border=\"1\" class=\"dataframe\">\n",
              "  <thead>\n",
              "    <tr style=\"text-align: right;\">\n",
              "      <th></th>\n",
              "      <th>frequency</th>\n",
              "      <th>recency</th>\n",
              "      <th>T</th>\n",
              "      <th>monetary_value</th>\n",
              "    </tr>\n",
              "  </thead>\n",
              "  <tbody>\n",
              "    <tr>\n",
              "      <th>count</th>\n",
              "      <td>3820.000000</td>\n",
              "      <td>3820.000000</td>\n",
              "      <td>3820.000000</td>\n",
              "      <td>3820.000000</td>\n",
              "    </tr>\n",
              "    <tr>\n",
              "      <th>mean</th>\n",
              "      <td>6.490052</td>\n",
              "      <td>434.977225</td>\n",
              "      <td>582.336126</td>\n",
              "      <td>426.423990</td>\n",
              "    </tr>\n",
              "    <tr>\n",
              "      <th>std</th>\n",
              "      <td>10.721823</td>\n",
              "      <td>260.047471</td>\n",
              "      <td>231.164939</td>\n",
              "      <td>2775.554294</td>\n",
              "    </tr>\n",
              "    <tr>\n",
              "      <th>min</th>\n",
              "      <td>1.000000</td>\n",
              "      <td>1.000000</td>\n",
              "      <td>10.000000</td>\n",
              "      <td>3.900000</td>\n",
              "    </tr>\n",
              "    <tr>\n",
              "      <th>25%</th>\n",
              "      <td>2.000000</td>\n",
              "      <td>218.000000</td>\n",
              "      <td>427.750000</td>\n",
              "      <td>190.233036</td>\n",
              "    </tr>\n",
              "    <tr>\n",
              "      <th>50%</th>\n",
              "      <td>3.000000</td>\n",
              "      <td>424.000000</td>\n",
              "      <td>619.000000</td>\n",
              "      <td>301.855000</td>\n",
              "    </tr>\n",
              "    <tr>\n",
              "      <th>75%</th>\n",
              "      <td>7.000000</td>\n",
              "      <td>623.000000</td>\n",
              "      <td>701.000000</td>\n",
              "      <td>440.570500</td>\n",
              "    </tr>\n",
              "    <tr>\n",
              "      <th>max</th>\n",
              "      <td>202.000000</td>\n",
              "      <td>1062.000000</td>\n",
              "      <td>1062.000000</td>\n",
              "      <td>168469.600000</td>\n",
              "    </tr>\n",
              "  </tbody>\n",
              "</table>\n",
              "</div>"
            ],
            "text/plain": [
              "         frequency      recency            T  monetary_value\n",
              "count  3820.000000  3820.000000  3820.000000     3820.000000\n",
              "mean      6.490052   434.977225   582.336126      426.423990\n",
              "std      10.721823   260.047471   231.164939     2775.554294\n",
              "min       1.000000     1.000000    10.000000        3.900000\n",
              "25%       2.000000   218.000000   427.750000      190.233036\n",
              "50%       3.000000   424.000000   619.000000      301.855000\n",
              "75%       7.000000   623.000000   701.000000      440.570500\n",
              "max     202.000000  1062.000000  1062.000000   168469.600000"
            ]
          },
          "metadata": {
            "tags": []
          },
          "execution_count": 9
        }
      ]
    },
    {
      "cell_type": "markdown",
      "metadata": {
        "id": "Lbwd-rDgywMD",
        "colab_type": "text"
      },
      "source": [
        "# BG/NBD Model Training & Visualisation"
      ]
    },
    {
      "cell_type": "code",
      "metadata": {
        "id": "2Hfl_hAlzBtK",
        "colab_type": "code",
        "colab": {
          "base_uri": "https://localhost:8080/",
          "height": 34
        },
        "outputId": "3f91d38c-8e52-40e0-cdf7-0f00a148730a"
      },
      "source": [
        "# fit the BG/NBD model to our data_summary\n",
        "bgf = BetaGeoFitter()\n",
        "bgf.fit(data_summary['frequency'], data_summary['recency'], data_summary['T'])"
      ],
      "execution_count": 10,
      "outputs": [
        {
          "output_type": "execute_result",
          "data": {
            "text/plain": [
              "<lifetimes.BetaGeoFitter: fitted with 3820 subjects, a: 0.08, alpha: 142.04, b: 0.90, r: 1.72>"
            ]
          },
          "metadata": {
            "tags": []
          },
          "execution_count": 10
        }
      ]
    },
    {
      "cell_type": "code",
      "metadata": {
        "id": "Te5RJK_P8fma",
        "colab_type": "code",
        "colab": {
          "base_uri": "https://localhost:8080/",
          "height": 294
        },
        "outputId": "df7f6f00-8279-4b2a-d5f6-64702184aa8e"
      },
      "source": [
        "# plot the estimated gamma distribution of λ (customers' propensities to purchase)\n",
        "plot_transaction_rate_heterogeneity(bgf);"
      ],
      "execution_count": 11,
      "outputs": [
        {
          "output_type": "display_data",
          "data": {
            "image/png": "[encoded data removed]",
            "text/plain": [
              "<Figure size 432x288 with 1 Axes>"
            ]
          },
          "metadata": {
            "tags": [],
            "needs_background": "light"
          }
        }
      ]
    },
    {
      "cell_type": "code",
      "metadata": {
        "id": "E2h0cUGc8khS",
        "colab_type": "code",
        "colab": {
          "base_uri": "https://localhost:8080/",
          "height": 294
        },
        "outputId": "695d5e1b-1ffc-41aa-bd5b-730887f470a9"
      },
      "source": [
        "# plot the estimated beta distribution of p, a customers' probability of dropping out immediately after a transaction\n",
        "plot_dropout_rate_heterogeneity(bgf);"
      ],
      "execution_count": 12,
      "outputs": [
        {
          "output_type": "display_data",
          "data": {
            "image/png": "[encoded data removed]",
            "text/plain": [
              "<Figure size 432x288 with 1 Axes>"
            ]
          },
          "metadata": {
            "tags": [],
            "needs_background": "light"
          }
        }
      ]
    },
    {
      "cell_type": "code",
      "metadata": {
        "id": "shjKDB_G0Hlr",
        "colab_type": "code",
        "colab": {
          "base_uri": "https://localhost:8080/",
          "height": 528
        },
        "outputId": "65a83e38-7bcc-4d73-84c5-debc91fcd43f"
      },
      "source": [
        "# visualize our frequency/recency matrix\n",
        "fig = plt.figure(figsize=(12,8))\n",
        "plot_frequency_recency_matrix(bgf, T = 7);"
      ],
      "execution_count": 13,
      "outputs": [
        {
          "output_type": "display_data",
          "data": {
            "image/png": "[encoded data removed]",
            "text/plain": [
              "<Figure size 864x576 with 2 Axes>"
            ]
          },
          "metadata": {
            "tags": [],
            "needs_background": "light"
          }
        }
      ]
    },
    {
      "cell_type": "code",
      "metadata": {
        "id": "N9YlshPy1f0E",
        "colab_type": "code",
        "colab": {
          "base_uri": "https://localhost:8080/",
          "height": 528
        },
        "outputId": "a1e74ba8-50d1-4128-8333-c9af32234257"
      },
      "source": [
        "# Now let's visualise the probability of a customer being alive\n",
        "fig = plt.figure(figsize=(12,8))\n",
        "plot_probability_alive_matrix(bgf);"
      ],
      "execution_count": 14,
      "outputs": [
        {
          "output_type": "display_data",
          "data": {
            "image/png": "[encoded data removed]",
            "text/plain": [
              "<Figure size 864x576 with 2 Axes>"
            ]
          },
          "metadata": {
            "tags": [],
            "needs_background": "light"
          }
        }
      ]
    },
    {
      "cell_type": "markdown",
      "metadata": {
        "id": "z-DCpdzS8NJ0",
        "colab_type": "text"
      },
      "source": [
        "# Model Validation"
      ]
    },
    {
      "cell_type": "code",
      "metadata": {
        "id": "SQkLgE938UV9",
        "colab_type": "code",
        "colab": {
          "base_uri": "https://localhost:8080/",
          "height": 235
        },
        "outputId": "23e0265d-1105-45f1-d085-18989b67050a"
      },
      "source": [
        "# partition the dataset into a calibration and a holdout dataset\n",
        "summary_cal_holdout = calibration_and_holdout_data(data_final, 'Customer ID', 'InvoiceDate', freq = \"D\", monetary_value_col = 'Sales', calibration_period_end='2011-06-30')\n",
        "summary_cal_holdout.head()"
      ],
      "execution_count": 15,
      "outputs": [
        {
          "output_type": "execute_result",
          "data": {
            "text/html": [
              "<div>\n",
              "<style scoped>\n",
              "    .dataframe tbody tr th:only-of-type {\n",
              "        vertical-align: middle;\n",
              "    }\n",
              "\n",
              "    .dataframe tbody tr th {\n",
              "        vertical-align: top;\n",
              "    }\n",
              "\n",
              "    .dataframe thead th {\n",
              "        text-align: right;\n",
              "    }\n",
              "</style>\n",
              "<table border=\"1\" class=\"dataframe\">\n",
              "  <thead>\n",
              "    <tr style=\"text-align: right;\">\n",
              "      <th></th>\n",
              "      <th>frequency_cal</th>\n",
              "      <th>recency_cal</th>\n",
              "      <th>T_cal</th>\n",
              "      <th>monetary_value_cal</th>\n",
              "      <th>frequency_holdout</th>\n",
              "      <th>monetary_value_holdout</th>\n",
              "      <th>duration_holdout</th>\n",
              "    </tr>\n",
              "    <tr>\n",
              "      <th>Customer ID</th>\n",
              "      <th></th>\n",
              "      <th></th>\n",
              "      <th></th>\n",
              "      <th></th>\n",
              "      <th></th>\n",
              "      <th></th>\n",
              "      <th></th>\n",
              "    </tr>\n",
              "  </thead>\n",
              "  <tbody>\n",
              "    <tr>\n",
              "      <th>12346.0</th>\n",
              "      <td>7.0</td>\n",
              "      <td>400.0</td>\n",
              "      <td>563.0</td>\n",
              "      <td>11066.637143</td>\n",
              "      <td>0.0</td>\n",
              "      <td>0.0000</td>\n",
              "      <td>163.0</td>\n",
              "    </tr>\n",
              "    <tr>\n",
              "      <th>12608.0</th>\n",
              "      <td>0.0</td>\n",
              "      <td>0.0</td>\n",
              "      <td>242.0</td>\n",
              "      <td>0.000000</td>\n",
              "      <td>0.0</td>\n",
              "      <td>0.0000</td>\n",
              "      <td>163.0</td>\n",
              "    </tr>\n",
              "    <tr>\n",
              "      <th>12745.0</th>\n",
              "      <td>1.0</td>\n",
              "      <td>147.0</td>\n",
              "      <td>412.0</td>\n",
              "      <td>266.930000</td>\n",
              "      <td>0.0</td>\n",
              "      <td>0.0000</td>\n",
              "      <td>163.0</td>\n",
              "    </tr>\n",
              "    <tr>\n",
              "      <th>12746.0</th>\n",
              "      <td>0.0</td>\n",
              "      <td>0.0</td>\n",
              "      <td>378.0</td>\n",
              "      <td>0.000000</td>\n",
              "      <td>0.0</td>\n",
              "      <td>0.0000</td>\n",
              "      <td>163.0</td>\n",
              "    </tr>\n",
              "    <tr>\n",
              "      <th>12747.0</th>\n",
              "      <td>22.0</td>\n",
              "      <td>716.0</td>\n",
              "      <td>718.0</td>\n",
              "      <td>356.498182</td>\n",
              "      <td>3.0</td>\n",
              "      <td>42.1172</td>\n",
              "      <td>163.0</td>\n",
              "    </tr>\n",
              "  </tbody>\n",
              "</table>\n",
              "</div>"
            ],
            "text/plain": [
              "             frequency_cal  ...  duration_holdout\n",
              "Customer ID                 ...                  \n",
              "12346.0                7.0  ...             163.0\n",
              "12608.0                0.0  ...             163.0\n",
              "12745.0                1.0  ...             163.0\n",
              "12746.0                0.0  ...             163.0\n",
              "12747.0               22.0  ...             163.0\n",
              "\n",
              "[5 rows x 7 columns]"
            ]
          },
          "metadata": {
            "tags": []
          },
          "execution_count": 15
        }
      ]
    },
    {
      "cell_type": "code",
      "metadata": {
        "id": "bSc6MZYv9v7v",
        "colab_type": "code",
        "colab": {
          "base_uri": "https://localhost:8080/",
          "height": 513
        },
        "outputId": "b5c783b5-e1da-4262-f79a-23f5dff9c3bf"
      },
      "source": [
        "# again, retain only the +ve frequency_cal values\n",
        "summary_cal_holdout = summary_cal_holdout[summary_cal_holdout['frequency_cal'] > 0]\n",
        "# compare the predicted # of repeat puchases with actual repeat purchases during the holdout period\n",
        "bgf_cal = BetaGeoFitter()\n",
        "bgf_cal.fit(summary_cal_holdout['frequency_cal'], summary_cal_holdout['recency_cal'], summary_cal_holdout['T_cal'])\n",
        "plot_calibration_purchases_vs_holdout_purchases(bgf_cal, summary_cal_holdout, kind = 'frequency_cal', n = int(summary_cal_holdout['frequency_holdout'].max()), figsize = (12,8));"
      ],
      "execution_count": 16,
      "outputs": [
        {
          "output_type": "display_data",
          "data": {
            "image/png": "[encoded data removed]",
            "text/plain": [
              "<Figure size 864x576 with 1 Axes>"
            ]
          },
          "metadata": {
            "tags": [],
            "needs_background": "light"
          }
        }
      ]
    },
    {
      "cell_type": "markdown",
      "metadata": {
        "id": "rNUL7TBBRaKH",
        "colab_type": "text"
      },
      "source": [
        "# Gamma-Gamma Model Fitting"
      ]
    },
    {
      "cell_type": "code",
      "metadata": {
        "id": "8CY-7IdKS7_g",
        "colab_type": "code",
        "colab": {
          "base_uri": "https://localhost:8080/",
          "height": 34
        },
        "outputId": "45f1b9b4-0827-48c6-89c9-dc2be27d5c9d"
      },
      "source": [
        "# Let's fit the Gamma-Gamma model to our data_summary\n",
        "ggf = GammaGammaFitter()\n",
        "ggf.fit(frequency = data_summary['frequency'], monetary_value = data_summary['monetary_value'])"
      ],
      "execution_count": 17,
      "outputs": [
        {
          "output_type": "execute_result",
          "data": {
            "text/plain": [
              "<lifetimes.GammaGammaFitter: fitted with 3820 subjects, p: 2.21, q: 3.91, v: 508.58>"
            ]
          },
          "metadata": {
            "tags": []
          },
          "execution_count": 17
        }
      ]
    },
    {
      "cell_type": "markdown",
      "metadata": {
        "id": "nuCrRaAFv2rF",
        "colab_type": "text"
      },
      "source": [
        "# Prediction Time!"
      ]
    },
    {
      "cell_type": "code",
      "metadata": {
        "colab_type": "code",
        "id": "77Uar0J8v1F9",
        "colab": {
          "base_uri": "https://localhost:8080/",
          "height": 235
        },
        "outputId": "736e7980-df21-4847-d142-becd23e4952c"
      },
      "source": [
        "# Calculate the expected number of repeat purchases up to time t for a randomly chosen individual from the population\n",
        "t = 30 # to calculate the number of expected repeat purchases over the next 30 days\n",
        "data_summary['predicted_purchases'] = bgf.conditional_expected_number_of_purchases_up_to_time(t, data_summary['frequency'], data_summary['recency'], data_summary['T'])\n",
        "data_summary.sort_values(by='predicted_purchases').tail(5)"
      ],
      "execution_count": 18,
      "outputs": [
        {
          "output_type": "execute_result",
          "data": {
            "text/html": [
              "<div>\n",
              "<style scoped>\n",
              "    .dataframe tbody tr th:only-of-type {\n",
              "        vertical-align: middle;\n",
              "    }\n",
              "\n",
              "    .dataframe tbody tr th {\n",
              "        vertical-align: top;\n",
              "    }\n",
              "\n",
              "    .dataframe thead th {\n",
              "        text-align: right;\n",
              "    }\n",
              "</style>\n",
              "<table border=\"1\" class=\"dataframe\">\n",
              "  <thead>\n",
              "    <tr style=\"text-align: right;\">\n",
              "      <th></th>\n",
              "      <th>frequency</th>\n",
              "      <th>recency</th>\n",
              "      <th>T</th>\n",
              "      <th>monetary_value</th>\n",
              "      <th>predicted_purchases</th>\n",
              "    </tr>\n",
              "    <tr>\n",
              "      <th>Customer ID</th>\n",
              "      <th></th>\n",
              "      <th></th>\n",
              "      <th></th>\n",
              "      <th></th>\n",
              "      <th></th>\n",
              "    </tr>\n",
              "  </thead>\n",
              "  <tbody>\n",
              "    <tr>\n",
              "      <th>12971.0</th>\n",
              "      <td>98.0</td>\n",
              "      <td>716.0</td>\n",
              "      <td>725.0</td>\n",
              "      <td>162.360612</td>\n",
              "      <td>3.438204</td>\n",
              "    </tr>\n",
              "    <tr>\n",
              "      <th>14606.0</th>\n",
              "      <td>180.0</td>\n",
              "      <td>998.0</td>\n",
              "      <td>1003.0</td>\n",
              "      <td>170.255889</td>\n",
              "      <td>4.751843</td>\n",
              "    </tr>\n",
              "    <tr>\n",
              "      <th>15311.0</th>\n",
              "      <td>195.0</td>\n",
              "      <td>1062.0</td>\n",
              "      <td>1062.0</td>\n",
              "      <td>594.605846</td>\n",
              "      <td>4.894931</td>\n",
              "    </tr>\n",
              "    <tr>\n",
              "      <th>17841.0</th>\n",
              "      <td>192.0</td>\n",
              "      <td>1031.0</td>\n",
              "      <td>1031.0</td>\n",
              "      <td>366.423490</td>\n",
              "      <td>4.947514</td>\n",
              "    </tr>\n",
              "    <tr>\n",
              "      <th>12748.0</th>\n",
              "      <td>202.0</td>\n",
              "      <td>967.0</td>\n",
              "      <td>972.0</td>\n",
              "      <td>279.101436</td>\n",
              "      <td>5.475191</td>\n",
              "    </tr>\n",
              "  </tbody>\n",
              "</table>\n",
              "</div>"
            ],
            "text/plain": [
              "             frequency  recency       T  monetary_value  predicted_purchases\n",
              "Customer ID                                                                 \n",
              "12971.0           98.0    716.0   725.0      162.360612             3.438204\n",
              "14606.0          180.0    998.0  1003.0      170.255889             4.751843\n",
              "15311.0          195.0   1062.0  1062.0      594.605846             4.894931\n",
              "17841.0          192.0   1031.0  1031.0      366.423490             4.947514\n",
              "12748.0          202.0    967.0   972.0      279.101436             5.475191"
            ]
          },
          "metadata": {
            "tags": []
          },
          "execution_count": 18
        }
      ]
    },
    {
      "cell_type": "code",
      "metadata": {
        "id": "7m9RS6lvB9nk",
        "colab_type": "code",
        "colab": {
          "base_uri": "https://localhost:8080/",
          "height": 235
        },
        "outputId": "9f1c9de7-f104-49c9-c02b-bfb784fec08b"
      },
      "source": [
        "# Calculate probability of being currently alive and assign to each CustomerID\n",
        "data_summary['p_alive'] = bgf.conditional_probability_alive(data_summary['frequency'], data_summary['recency'], data_summary['T'])\n",
        "data_summary.sort_values(by='predicted_purchases').tail(5)"
      ],
      "execution_count": 19,
      "outputs": [
        {
          "output_type": "execute_result",
          "data": {
            "text/html": [
              "<div>\n",
              "<style scoped>\n",
              "    .dataframe tbody tr th:only-of-type {\n",
              "        vertical-align: middle;\n",
              "    }\n",
              "\n",
              "    .dataframe tbody tr th {\n",
              "        vertical-align: top;\n",
              "    }\n",
              "\n",
              "    .dataframe thead th {\n",
              "        text-align: right;\n",
              "    }\n",
              "</style>\n",
              "<table border=\"1\" class=\"dataframe\">\n",
              "  <thead>\n",
              "    <tr style=\"text-align: right;\">\n",
              "      <th></th>\n",
              "      <th>frequency</th>\n",
              "      <th>recency</th>\n",
              "      <th>T</th>\n",
              "      <th>monetary_value</th>\n",
              "      <th>predicted_purchases</th>\n",
              "      <th>p_alive</th>\n",
              "    </tr>\n",
              "    <tr>\n",
              "      <th>Customer ID</th>\n",
              "      <th></th>\n",
              "      <th></th>\n",
              "      <th></th>\n",
              "      <th></th>\n",
              "      <th></th>\n",
              "      <th></th>\n",
              "    </tr>\n",
              "  </thead>\n",
              "  <tbody>\n",
              "    <tr>\n",
              "      <th>12971.0</th>\n",
              "      <td>98.0</td>\n",
              "      <td>716.0</td>\n",
              "      <td>725.0</td>\n",
              "      <td>162.360612</td>\n",
              "      <td>3.438204</td>\n",
              "      <td>0.997802</td>\n",
              "    </tr>\n",
              "    <tr>\n",
              "      <th>14606.0</th>\n",
              "      <td>180.0</td>\n",
              "      <td>998.0</td>\n",
              "      <td>1003.0</td>\n",
              "      <td>170.255889</td>\n",
              "      <td>4.751843</td>\n",
              "      <td>0.999063</td>\n",
              "    </tr>\n",
              "    <tr>\n",
              "      <th>15311.0</th>\n",
              "      <td>195.0</td>\n",
              "      <td>1062.0</td>\n",
              "      <td>1062.0</td>\n",
              "      <td>594.605846</td>\n",
              "      <td>4.894931</td>\n",
              "      <td>0.999609</td>\n",
              "    </tr>\n",
              "    <tr>\n",
              "      <th>17841.0</th>\n",
              "      <td>192.0</td>\n",
              "      <td>1031.0</td>\n",
              "      <td>1031.0</td>\n",
              "      <td>366.423490</td>\n",
              "      <td>4.947514</td>\n",
              "      <td>0.999603</td>\n",
              "    </tr>\n",
              "    <tr>\n",
              "      <th>12748.0</th>\n",
              "      <td>202.0</td>\n",
              "      <td>967.0</td>\n",
              "      <td>972.0</td>\n",
              "      <td>279.101436</td>\n",
              "      <td>5.475191</td>\n",
              "      <td>0.999057</td>\n",
              "    </tr>\n",
              "  </tbody>\n",
              "</table>\n",
              "</div>"
            ],
            "text/plain": [
              "             frequency  recency  ...  predicted_purchases   p_alive\n",
              "Customer ID                      ...                               \n",
              "12971.0           98.0    716.0  ...             3.438204  0.997802\n",
              "14606.0          180.0    998.0  ...             4.751843  0.999063\n",
              "15311.0          195.0   1062.0  ...             4.894931  0.999609\n",
              "17841.0          192.0   1031.0  ...             4.947514  0.999603\n",
              "12748.0          202.0    967.0  ...             5.475191  0.999057\n",
              "\n",
              "[5 rows x 6 columns]"
            ]
          },
          "metadata": {
            "tags": []
          },
          "execution_count": 19
        }
      ]
    },
    {
      "cell_type": "code",
      "metadata": {
        "id": "tcTLcWG7TdW8",
        "colab_type": "code",
        "colab": {
          "base_uri": "https://localhost:8080/",
          "height": 280
        },
        "outputId": "7f723487-a048-4bbc-cffc-8f74f6c65887"
      },
      "source": [
        "sns.distplot(data_summary['p_alive']);"
      ],
      "execution_count": 20,
      "outputs": [
        {
          "output_type": "display_data",
          "data": {
            "image/png": "[encoded data removed]",
            "text/plain": [
              "<Figure size 432x288 with 1 Axes>"
            ]
          },
          "metadata": {
            "tags": [],
            "needs_background": "light"
          }
        }
      ]
    },
    {
      "cell_type": "code",
      "metadata": {
        "id": "lAgAR_8lRga2",
        "colab_type": "code",
        "colab": {
          "base_uri": "https://localhost:8080/",
          "height": 85
        },
        "outputId": "68d452fd-ae59-41aa-b908-74a1376b7b78"
      },
      "source": [
        "data_summary['churn'] = ['churned' if p_alive < 0.5 else 'not churned' for p_alive in data_summary['p_alive']]\n",
        "data_summary['churn'][(data_summary['p_alive'] >= 0.5) & (data_summary['p_alive'] < 0.75)] = \"high risk\"\n",
        "data_summary['churn'].value_counts()"
      ],
      "execution_count": 21,
      "outputs": [
        {
          "output_type": "execute_result",
          "data": {
            "text/plain": [
              "not churned    3012\n",
              "churned         418\n",
              "high risk       390\n",
              "Name: churn, dtype: int64"
            ]
          },
          "metadata": {
            "tags": []
          },
          "execution_count": 21
        }
      ]
    },
    {
      "cell_type": "code",
      "metadata": {
        "colab_type": "code",
        "id": "zZo3J3uJweWe",
        "colab": {
          "base_uri": "https://localhost:8080/",
          "height": 235
        },
        "outputId": "05cf7ba5-5583-4c36-a414-3230323ddea2"
      },
      "source": [
        "# After applying Gamma-Gamma model, now we can estimate average transaction value for each customer over his/her lifetime\n",
        "data_summary['predicted_Sales'] = ggf.conditional_expected_average_profit(data_summary['frequency'], data_summary['monetary_value'])\n",
        "data_summary.head()"
      ],
      "execution_count": 24,
      "outputs": [
        {
          "output_type": "execute_result",
          "data": {
            "text/html": [
              "<div>\n",
              "<style scoped>\n",
              "    .dataframe tbody tr th:only-of-type {\n",
              "        vertical-align: middle;\n",
              "    }\n",
              "\n",
              "    .dataframe tbody tr th {\n",
              "        vertical-align: top;\n",
              "    }\n",
              "\n",
              "    .dataframe thead th {\n",
              "        text-align: right;\n",
              "    }\n",
              "</style>\n",
              "<table border=\"1\" class=\"dataframe\">\n",
              "  <thead>\n",
              "    <tr style=\"text-align: right;\">\n",
              "      <th></th>\n",
              "      <th>frequency</th>\n",
              "      <th>recency</th>\n",
              "      <th>T</th>\n",
              "      <th>monetary_value</th>\n",
              "      <th>predicted_purchases</th>\n",
              "      <th>p_alive</th>\n",
              "      <th>churn</th>\n",
              "      <th>predicted_Sales</th>\n",
              "    </tr>\n",
              "    <tr>\n",
              "      <th>Customer ID</th>\n",
              "      <th></th>\n",
              "      <th></th>\n",
              "      <th></th>\n",
              "      <th></th>\n",
              "      <th></th>\n",
              "      <th></th>\n",
              "      <th></th>\n",
              "      <th></th>\n",
              "    </tr>\n",
              "  </thead>\n",
              "  <tbody>\n",
              "    <tr>\n",
              "      <th>12346.0</th>\n",
              "      <td>7.0</td>\n",
              "      <td>400.0</td>\n",
              "      <td>726.0</td>\n",
              "      <td>11066.637143</td>\n",
              "      <td>0.180163</td>\n",
              "      <td>0.598812</td>\n",
              "      <td>high risk</td>\n",
              "      <td>9378.319099</td>\n",
              "    </tr>\n",
              "    <tr>\n",
              "      <th>12745.0</th>\n",
              "      <td>1.0</td>\n",
              "      <td>147.0</td>\n",
              "      <td>575.0</td>\n",
              "      <td>266.930000</td>\n",
              "      <td>0.056790</td>\n",
              "      <td>0.500635</td>\n",
              "      <td>high risk</td>\n",
              "      <td>335.079712</td>\n",
              "    </tr>\n",
              "    <tr>\n",
              "      <th>12747.0</th>\n",
              "      <td>25.0</td>\n",
              "      <td>858.0</td>\n",
              "      <td>881.0</td>\n",
              "      <td>355.835600</td>\n",
              "      <td>0.778232</td>\n",
              "      <td>0.994413</td>\n",
              "      <td>not churned</td>\n",
              "      <td>357.388678</td>\n",
              "    </tr>\n",
              "    <tr>\n",
              "      <th>12748.0</th>\n",
              "      <td>202.0</td>\n",
              "      <td>967.0</td>\n",
              "      <td>972.0</td>\n",
              "      <td>279.101436</td>\n",
              "      <td>5.475191</td>\n",
              "      <td>0.999057</td>\n",
              "      <td>not churned</td>\n",
              "      <td>279.798520</td>\n",
              "    </tr>\n",
              "    <tr>\n",
              "      <th>12749.0</th>\n",
              "      <td>6.0</td>\n",
              "      <td>555.0</td>\n",
              "      <td>578.0</td>\n",
              "      <td>1020.433333</td>\n",
              "      <td>0.315755</td>\n",
              "      <td>0.983687</td>\n",
              "      <td>not churned</td>\n",
              "      <td>906.592768</td>\n",
              "    </tr>\n",
              "  </tbody>\n",
              "</table>\n",
              "</div>"
            ],
            "text/plain": [
              "             frequency  recency      T  ...   p_alive        churn  predicted_Sales\n",
              "Customer ID                             ...                                        \n",
              "12346.0            7.0    400.0  726.0  ...  0.598812    high risk      9378.319099\n",
              "12745.0            1.0    147.0  575.0  ...  0.500635    high risk       335.079712\n",
              "12747.0           25.0    858.0  881.0  ...  0.994413  not churned       357.388678\n",
              "12748.0          202.0    967.0  972.0  ...  0.999057  not churned       279.798520\n",
              "12749.0            6.0    555.0  578.0  ...  0.983687  not churned       906.592768\n",
              "\n",
              "[5 rows x 8 columns]"
            ]
          },
          "metadata": {
            "tags": []
          },
          "execution_count": 24
        }
      ]
    },
    {
      "cell_type": "code",
      "metadata": {
        "colab_type": "code",
        "id": "FTbLxoK4weWi",
        "colab": {
          "base_uri": "https://localhost:8080/",
          "height": 235
        },
        "outputId": "70a0c05a-8a8e-4963-e00f-f352be3e0188"
      },
      "source": [
        "# Final piece of the puzzle - calculate LTV for each customer over the next 12 months with an assumed monthly discount rate of 0.01%\n",
        "data_summary['LTV'] = ggf.customer_lifetime_value(\n",
        "    bgf, #the model to use to predict the number of future transactions\n",
        "    data_summary['frequency'], data_summary['recency'], data_summary['T'], data_summary['monetary_value'],\n",
        "    time = 12, # number of months to predict LTV for\n",
        "    discount_rate = 0.01 # monthly discount rate ~ 12.7% annually\n",
        ")\n",
        "data_summary.head()"
      ],
      "execution_count": 25,
      "outputs": [
        {
          "output_type": "execute_result",
          "data": {
            "text/html": [
              "<div>\n",
              "<style scoped>\n",
              "    .dataframe tbody tr th:only-of-type {\n",
              "        vertical-align: middle;\n",
              "    }\n",
              "\n",
              "    .dataframe tbody tr th {\n",
              "        vertical-align: top;\n",
              "    }\n",
              "\n",
              "    .dataframe thead th {\n",
              "        text-align: right;\n",
              "    }\n",
              "</style>\n",
              "<table border=\"1\" class=\"dataframe\">\n",
              "  <thead>\n",
              "    <tr style=\"text-align: right;\">\n",
              "      <th></th>\n",
              "      <th>frequency</th>\n",
              "      <th>recency</th>\n",
              "      <th>T</th>\n",
              "      <th>monetary_value</th>\n",
              "      <th>predicted_purchases</th>\n",
              "      <th>p_alive</th>\n",
              "      <th>churn</th>\n",
              "      <th>predicted_Sales</th>\n",
              "      <th>LTV</th>\n",
              "    </tr>\n",
              "    <tr>\n",
              "      <th>Customer ID</th>\n",
              "      <th></th>\n",
              "      <th></th>\n",
              "      <th></th>\n",
              "      <th></th>\n",
              "      <th></th>\n",
              "      <th></th>\n",
              "      <th></th>\n",
              "      <th></th>\n",
              "      <th></th>\n",
              "    </tr>\n",
              "  </thead>\n",
              "  <tbody>\n",
              "    <tr>\n",
              "      <th>12346.0</th>\n",
              "      <td>7.0</td>\n",
              "      <td>400.0</td>\n",
              "      <td>726.0</td>\n",
              "      <td>11066.637143</td>\n",
              "      <td>0.180163</td>\n",
              "      <td>0.598812</td>\n",
              "      <td>high risk</td>\n",
              "      <td>9378.319099</td>\n",
              "      <td>18738.461340</td>\n",
              "    </tr>\n",
              "    <tr>\n",
              "      <th>12745.0</th>\n",
              "      <td>1.0</td>\n",
              "      <td>147.0</td>\n",
              "      <td>575.0</td>\n",
              "      <td>266.930000</td>\n",
              "      <td>0.056790</td>\n",
              "      <td>0.500635</td>\n",
              "      <td>high risk</td>\n",
              "      <td>335.079712</td>\n",
              "      <td>208.808918</td>\n",
              "    </tr>\n",
              "    <tr>\n",
              "      <th>12747.0</th>\n",
              "      <td>25.0</td>\n",
              "      <td>858.0</td>\n",
              "      <td>881.0</td>\n",
              "      <td>355.835600</td>\n",
              "      <td>0.778232</td>\n",
              "      <td>0.994413</td>\n",
              "      <td>not churned</td>\n",
              "      <td>357.388678</td>\n",
              "      <td>3095.060099</td>\n",
              "    </tr>\n",
              "    <tr>\n",
              "      <th>12748.0</th>\n",
              "      <td>202.0</td>\n",
              "      <td>967.0</td>\n",
              "      <td>972.0</td>\n",
              "      <td>279.101436</td>\n",
              "      <td>5.475191</td>\n",
              "      <td>0.999057</td>\n",
              "      <td>not churned</td>\n",
              "      <td>279.798520</td>\n",
              "      <td>17070.707489</td>\n",
              "    </tr>\n",
              "    <tr>\n",
              "      <th>12749.0</th>\n",
              "      <td>6.0</td>\n",
              "      <td>555.0</td>\n",
              "      <td>578.0</td>\n",
              "      <td>1020.433333</td>\n",
              "      <td>0.315755</td>\n",
              "      <td>0.983687</td>\n",
              "      <td>not churned</td>\n",
              "      <td>906.592768</td>\n",
              "      <td>3165.452100</td>\n",
              "    </tr>\n",
              "  </tbody>\n",
              "</table>\n",
              "</div>"
            ],
            "text/plain": [
              "             frequency  recency  ...  predicted_Sales           LTV\n",
              "Customer ID                      ...                               \n",
              "12346.0            7.0    400.0  ...      9378.319099  18738.461340\n",
              "12745.0            1.0    147.0  ...       335.079712    208.808918\n",
              "12747.0           25.0    858.0  ...       357.388678   3095.060099\n",
              "12748.0          202.0    967.0  ...       279.798520  17070.707489\n",
              "12749.0            6.0    555.0  ...       906.592768   3165.452100\n",
              "\n",
              "[5 rows x 9 columns]"
            ]
          },
          "metadata": {
            "tags": []
          },
          "execution_count": 25
        }
      ]
    },
    {
      "cell_type": "code",
      "metadata": {
        "id": "oIbH24kb_G4_",
        "colab_type": "code",
        "colab": {
          "base_uri": "https://localhost:8080/",
          "height": 700
        },
        "outputId": "fa43a8c2-0d13-4b20-b837-001664253027"
      },
      "source": [
        "# Let's identify our top 20 customers based on LTV\n",
        "best_projected_cust_LTV = data_summary.sort_values('LTV').tail(20)\n",
        "best_projected_cust_LTV"
      ],
      "execution_count": 26,
      "outputs": [
        {
          "output_type": "execute_result",
          "data": {
            "text/html": [
              "<div>\n",
              "<style scoped>\n",
              "    .dataframe tbody tr th:only-of-type {\n",
              "        vertical-align: middle;\n",
              "    }\n",
              "\n",
              "    .dataframe tbody tr th {\n",
              "        vertical-align: top;\n",
              "    }\n",
              "\n",
              "    .dataframe thead th {\n",
              "        text-align: right;\n",
              "    }\n",
              "</style>\n",
              "<table border=\"1\" class=\"dataframe\">\n",
              "  <thead>\n",
              "    <tr style=\"text-align: right;\">\n",
              "      <th></th>\n",
              "      <th>frequency</th>\n",
              "      <th>recency</th>\n",
              "      <th>T</th>\n",
              "      <th>monetary_value</th>\n",
              "      <th>predicted_purchases</th>\n",
              "      <th>p_alive</th>\n",
              "      <th>churn</th>\n",
              "      <th>predicted_Sales</th>\n",
              "      <th>LTV</th>\n",
              "    </tr>\n",
              "    <tr>\n",
              "      <th>Customer ID</th>\n",
              "      <th></th>\n",
              "      <th></th>\n",
              "      <th></th>\n",
              "      <th></th>\n",
              "      <th></th>\n",
              "      <th></th>\n",
              "      <th></th>\n",
              "      <th></th>\n",
              "      <th></th>\n",
              "    </tr>\n",
              "  </thead>\n",
              "  <tbody>\n",
              "    <tr>\n",
              "      <th>15749.0</th>\n",
              "      <td>1.0</td>\n",
              "      <td>197.0</td>\n",
              "      <td>236.0</td>\n",
              "      <td>22998.400000</td>\n",
              "      <td>0.192763</td>\n",
              "      <td>0.898172</td>\n",
              "      <td>not churned</td>\n",
              "      <td>10156.861949</td>\n",
              "      <td>21151.652445</td>\n",
              "    </tr>\n",
              "    <tr>\n",
              "      <th>16422.0</th>\n",
              "      <td>91.0</td>\n",
              "      <td>680.0</td>\n",
              "      <td>698.0</td>\n",
              "      <td>694.664725</td>\n",
              "      <td>3.286202</td>\n",
              "      <td>0.993793</td>\n",
              "      <td>not churned</td>\n",
              "      <td>690.283106</td>\n",
              "      <td>25202.276486</td>\n",
              "    </tr>\n",
              "    <tr>\n",
              "      <th>12931.0</th>\n",
              "      <td>42.0</td>\n",
              "      <td>1040.0</td>\n",
              "      <td>1062.0</td>\n",
              "      <td>2171.127143</td>\n",
              "      <td>1.083837</td>\n",
              "      <td>0.995944</td>\n",
              "      <td>not churned</td>\n",
              "      <td>2116.984880</td>\n",
              "      <td>25578.027733</td>\n",
              "    </tr>\n",
              "    <tr>\n",
              "      <th>13798.0</th>\n",
              "      <td>98.0</td>\n",
              "      <td>849.0</td>\n",
              "      <td>850.0</td>\n",
              "      <td>768.906837</td>\n",
              "      <td>3.009507</td>\n",
              "      <td>0.999140</td>\n",
              "      <td>not churned</td>\n",
              "      <td>763.851478</td>\n",
              "      <td>25585.680940</td>\n",
              "    </tr>\n",
              "    <tr>\n",
              "      <th>15838.0</th>\n",
              "      <td>28.0</td>\n",
              "      <td>713.0</td>\n",
              "      <td>725.0</td>\n",
              "      <td>2631.000000</td>\n",
              "      <td>1.022660</td>\n",
              "      <td>0.995885</td>\n",
              "      <td>not churned</td>\n",
              "      <td>2530.380718</td>\n",
              "      <td>28747.172575</td>\n",
              "    </tr>\n",
              "    <tr>\n",
              "      <th>14088.0</th>\n",
              "      <td>13.0</td>\n",
              "      <td>411.0</td>\n",
              "      <td>422.0</td>\n",
              "      <td>3949.358462</td>\n",
              "      <td>0.775024</td>\n",
              "      <td>0.992170</td>\n",
              "      <td>not churned</td>\n",
              "      <td>3622.244698</td>\n",
              "      <td>30977.979773</td>\n",
              "    </tr>\n",
              "    <tr>\n",
              "      <th>15769.0</th>\n",
              "      <td>39.0</td>\n",
              "      <td>717.0</td>\n",
              "      <td>758.0</td>\n",
              "      <td>2223.700513</td>\n",
              "      <td>1.337981</td>\n",
              "      <td>0.987092</td>\n",
              "      <td>not churned</td>\n",
              "      <td>2163.815167</td>\n",
              "      <td>32181.504367</td>\n",
              "    </tr>\n",
              "    <tr>\n",
              "      <th>15311.0</th>\n",
              "      <td>195.0</td>\n",
              "      <td>1062.0</td>\n",
              "      <td>1062.0</td>\n",
              "      <td>594.605846</td>\n",
              "      <td>4.894931</td>\n",
              "      <td>0.999609</td>\n",
              "      <td>not churned</td>\n",
              "      <td>593.215374</td>\n",
              "      <td>32378.690579</td>\n",
              "    </tr>\n",
              "    <tr>\n",
              "      <th>14298.0</th>\n",
              "      <td>44.0</td>\n",
              "      <td>705.0</td>\n",
              "      <td>758.0</td>\n",
              "      <td>2023.197500</td>\n",
              "      <td>1.480717</td>\n",
              "      <td>0.972922</td>\n",
              "      <td>not churned</td>\n",
              "      <td>1975.735726</td>\n",
              "      <td>32520.654941</td>\n",
              "    </tr>\n",
              "    <tr>\n",
              "      <th>13089.0</th>\n",
              "      <td>131.0</td>\n",
              "      <td>1025.0</td>\n",
              "      <td>1031.0</td>\n",
              "      <td>888.318779</td>\n",
              "      <td>3.387036</td>\n",
              "      <td>0.998852</td>\n",
              "      <td>not churned</td>\n",
              "      <td>883.338034</td>\n",
              "      <td>33352.947035</td>\n",
              "    </tr>\n",
              "    <tr>\n",
              "      <th>17949.0</th>\n",
              "      <td>70.0</td>\n",
              "      <td>1028.0</td>\n",
              "      <td>1031.0</td>\n",
              "      <td>1668.029714</td>\n",
              "      <td>1.829984</td>\n",
              "      <td>0.998692</td>\n",
              "      <td>not churned</td>\n",
              "      <td>1644.417773</td>\n",
              "      <td>33543.227145</td>\n",
              "    </tr>\n",
              "    <tr>\n",
              "      <th>15061.0</th>\n",
              "      <td>67.0</td>\n",
              "      <td>1057.0</td>\n",
              "      <td>1062.0</td>\n",
              "      <td>2008.116119</td>\n",
              "      <td>1.707981</td>\n",
              "      <td>0.998486</td>\n",
              "      <td>not churned</td>\n",
              "      <td>1976.923884</td>\n",
              "      <td>37645.444489</td>\n",
              "    </tr>\n",
              "    <tr>\n",
              "      <th>16029.0</th>\n",
              "      <td>70.0</td>\n",
              "      <td>820.0</td>\n",
              "      <td>850.0</td>\n",
              "      <td>1699.404857</td>\n",
              "      <td>2.145164</td>\n",
              "      <td>0.990235</td>\n",
              "      <td>not churned</td>\n",
              "      <td>1675.214642</td>\n",
              "      <td>39993.940175</td>\n",
              "    </tr>\n",
              "    <tr>\n",
              "      <th>16684.0</th>\n",
              "      <td>34.0</td>\n",
              "      <td>869.0</td>\n",
              "      <td>881.0</td>\n",
              "      <td>4293.930882</td>\n",
              "      <td>1.042661</td>\n",
              "      <td>0.996586</td>\n",
              "      <td>not churned</td>\n",
              "      <td>4148.513152</td>\n",
              "      <td>48142.237148</td>\n",
              "    </tr>\n",
              "    <tr>\n",
              "      <th>14096.0</th>\n",
              "      <td>16.0</td>\n",
              "      <td>292.0</td>\n",
              "      <td>304.0</td>\n",
              "      <td>4066.348125</td>\n",
              "      <td>1.179337</td>\n",
              "      <td>0.992291</td>\n",
              "      <td>not churned</td>\n",
              "      <td>3787.031059</td>\n",
              "      <td>49099.793973</td>\n",
              "    </tr>\n",
              "    <tr>\n",
              "      <th>17511.0</th>\n",
              "      <td>50.0</td>\n",
              "      <td>1025.0</td>\n",
              "      <td>1031.0</td>\n",
              "      <td>3449.898200</td>\n",
              "      <td>1.318756</td>\n",
              "      <td>0.998013</td>\n",
              "      <td>not churned</td>\n",
              "      <td>3371.441699</td>\n",
              "      <td>49555.259857</td>\n",
              "    </tr>\n",
              "    <tr>\n",
              "      <th>13694.0</th>\n",
              "      <td>82.0</td>\n",
              "      <td>946.0</td>\n",
              "      <td>972.0</td>\n",
              "      <td>2365.279512</td>\n",
              "      <td>2.237116</td>\n",
              "      <td>0.993326</td>\n",
              "      <td>not churned</td>\n",
              "      <td>2334.068436</td>\n",
              "      <td>58178.262063</td>\n",
              "    </tr>\n",
              "    <tr>\n",
              "      <th>17450.0</th>\n",
              "      <td>30.0</td>\n",
              "      <td>513.0</td>\n",
              "      <td>516.0</td>\n",
              "      <td>8097.180333</td>\n",
              "      <td>1.439239</td>\n",
              "      <td>0.997063</td>\n",
              "      <td>not churned</td>\n",
              "      <td>7773.549423</td>\n",
              "      <td>123861.214166</td>\n",
              "    </tr>\n",
              "    <tr>\n",
              "      <th>16446.0</th>\n",
              "      <td>1.0</td>\n",
              "      <td>117.0</td>\n",
              "      <td>206.0</td>\n",
              "      <td>168469.600000</td>\n",
              "      <td>0.196099</td>\n",
              "      <td>0.841584</td>\n",
              "      <td>not churned</td>\n",
              "      <td>73011.857606</td>\n",
              "      <td>154308.875820</td>\n",
              "    </tr>\n",
              "    <tr>\n",
              "      <th>18102.0</th>\n",
              "      <td>66.0</td>\n",
              "      <td>1050.0</td>\n",
              "      <td>1062.0</td>\n",
              "      <td>9189.930455</td>\n",
              "      <td>1.681845</td>\n",
              "      <td>0.997727</td>\n",
              "      <td>not churned</td>\n",
              "      <td>9018.041370</td>\n",
              "      <td>169097.187140</td>\n",
              "    </tr>\n",
              "  </tbody>\n",
              "</table>\n",
              "</div>"
            ],
            "text/plain": [
              "             frequency  recency  ...  predicted_Sales            LTV\n",
              "Customer ID                      ...                                \n",
              "15749.0            1.0    197.0  ...     10156.861949   21151.652445\n",
              "16422.0           91.0    680.0  ...       690.283106   25202.276486\n",
              "12931.0           42.0   1040.0  ...      2116.984880   25578.027733\n",
              "13798.0           98.0    849.0  ...       763.851478   25585.680940\n",
              "15838.0           28.0    713.0  ...      2530.380718   28747.172575\n",
              "14088.0           13.0    411.0  ...      3622.244698   30977.979773\n",
              "15769.0           39.0    717.0  ...      2163.815167   32181.504367\n",
              "15311.0          195.0   1062.0  ...       593.215374   32378.690579\n",
              "14298.0           44.0    705.0  ...      1975.735726   32520.654941\n",
              "13089.0          131.0   1025.0  ...       883.338034   33352.947035\n",
              "17949.0           70.0   1028.0  ...      1644.417773   33543.227145\n",
              "15061.0           67.0   1057.0  ...      1976.923884   37645.444489\n",
              "16029.0           70.0    820.0  ...      1675.214642   39993.940175\n",
              "16684.0           34.0    869.0  ...      4148.513152   48142.237148\n",
              "14096.0           16.0    292.0  ...      3787.031059   49099.793973\n",
              "17511.0           50.0   1025.0  ...      3371.441699   49555.259857\n",
              "13694.0           82.0    946.0  ...      2334.068436   58178.262063\n",
              "17450.0           30.0    513.0  ...      7773.549423  123861.214166\n",
              "16446.0            1.0    117.0  ...     73011.857606  154308.875820\n",
              "18102.0           66.0   1050.0  ...      9018.041370  169097.187140\n",
              "\n",
              "[20 rows x 9 columns]"
            ]
          },
          "metadata": {
            "tags": []
          },
          "execution_count": 26
        }
      ]
    }
  ]
}