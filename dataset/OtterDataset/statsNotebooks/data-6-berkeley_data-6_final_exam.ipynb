{
 "cells": [
  {
   "cell_type": "markdown",
   "metadata": {},
   "source": [
    "# Data C6 Final Exam - Summer 2020\n",
    "\n"
   ]
  },
  {
   "cell_type": "markdown",
   "metadata": {},
   "source": [
    "The final exam for DATA C6, Summer 2020, opens on **Wednesday, August 12 at 5 PM PDT** and is due on **Friday, August 14 at 9 PM PDT** on Gradescope. It will be completed as a Jupyter notebook. The exam should take around two hours to complete, but you may take as long as you need given that you submit the exam to Gradescope before the deadline on Friday. We recommend that you start and submit it well in advance of the deadline. \n",
    "\n",
    "This exam will be **open resource and zero communication.** You are allowed to use any resources, including the Data C6 cheat sheet or the Data 8 Python Reference, to help you complete your exam. However, you may *not* share or discuss any aspect of the exam with anyone else until after 9 PM on Friday, August 14. This includes electronic communications, such as phone, text, email, internet conferencing, etc. Violations of the zero communications policy will result in zero credit for the entire exam and a report to the Center for Student Conduct. Under the usual rules against plagiarism, you may not copy any text or answer from a peer or outside source; all of your work must be original.\n",
    "\n",
    "If you require any clarifications about the exam, please email the instructors at `castro.ian@berkeley.edu` or make a private post on Piazza. We will not provide any help in answering questions, but if a clarification must be made, it will be announced to the full class on bCourses or Piazza. \n",
    "\n",
    "As part of the exam, we require each student to affirm compliance with the guidelines by signing the following academic integrity statement:\n",
    "\n",
    "**“On my honor, I have neither given nor received inappropriate assistance in completing this exam and I have abided by the zero-communication condition. As a member of the UC Berkeley community, I act with honesty, integrity, and respect for others.\"**\n",
    "\n",
    "Please type your name and student ID in the Markdown cell to affirm your compliance with the policies above. Students who fail to do so will receive a zero on the exam."
   ]
  },
  {
   "cell_type": "markdown",
   "metadata": {},
   "source": [
    "**Question 0.** \n",
    "\n",
    "I agree to abide by the policies stated above and have not collaborated or discussed the exam with anyone.\n",
    "\n",
    "Name: [TYPE NAME HERE]\n",
    "\n",
    "Student ID: [TYPE STUDENT ID HERE]\n",
    "\n",
    "Date: [TYPE DATE HERE]"
   ]
  },
  {
   "cell_type": "code",
   "execution_count": null,
   "metadata": {
    "collapsed": true
   },
   "outputs": [],
   "source": [
    "# The following cell will import all of the libraries and modules necessary to complete the final exam. \n",
    "# Do not change this cell - just run it.\n",
    "\n",
    "import numpy as np\n",
    "import math\n",
    "\n",
    "from datascience import *\n",
    "import matplotlib\n",
    "%matplotlib inline\n",
    "import matplotlib.pyplot as plt\n",
    "plt.style.use('fivethirtyeight')\n",
    "\n",
    "Table.interactive_plots()"
   ]
  },
  {
   "cell_type": "markdown",
   "metadata": {},
   "source": [
    "## Question 1: Debugging Functions in Python\n",
    "\n",
    "Ian is writing functions to make his life easier when he's coding. However, all of them produce an error or the incorrect output! Help him out by changing the code so that each function produces the correct output specified in the docstring. \n",
    "\n",
    "In general, you may fix the code by doing the following: changing the functions used; changing the arguments of functions; adding or removing commas or parentheses; changing variables and booleans; changing the order of functions; adding or removing assignment statements; and more. This list of changes you may make is not exhaustive.\n",
    "\n",
    "However, the primary requirement is that you may **not** add or remove any lines from the code, or significantly change the structure of the function."
   ]
  },
  {
   "cell_type": "code",
   "execution_count": null,
   "metadata": {
    "collapsed": true
   },
   "outputs": [],
   "source": [
    "# Question 1.1\n",
    "def print_all(array):\n",
    "    \"\"\"Given an array, print each value in that array on a separate line\"\"\"\n",
    "    for value in range(array):\n",
    "        print(value)"
   ]
  },
  {
   "cell_type": "code",
   "execution_count": null,
   "metadata": {
    "collapsed": true
   },
   "outputs": [],
   "source": [
    "# Question 1.2\n",
    "def hypotenuse(a, b):\n",
    "    \"\"\"Given the legs, a and b, of a triangle, return the length\n",
    "    of the hypotenuse under the Pythagorean theorem\"\"\"\n",
    "    return (a**2) + (b**2) ** (1/2)"
   ]
  },
  {
   "cell_type": "code",
   "execution_count": null,
   "metadata": {
    "collapsed": true
   },
   "outputs": [],
   "source": [
    "# Question 1.3\n",
    "def sorter(table):\n",
    "    \"\"\"Given a 2 column table, the first being categories and the second being a quantitative variable, \n",
    "    return the category with the smallest value of the quantitative variable\"\"\"\n",
    "    ordered_tbl = table.sort(0, descending = True)\n",
    "    return ordered_tbl.item(0).column(0)"
   ]
  },
  {
   "cell_type": "code",
   "execution_count": null,
   "metadata": {
    "collapsed": true
   },
   "outputs": [],
   "source": [
    "# Question 1.4\n",
    "def percent_to_prop(array):\n",
    "    \"\"\"Given an array of percentages in strings, convert all of them to proportions as floats.\n",
    "    Return values in an array. For example: [3%, 50%] = [0.03, 0.5]\"\"\"\n",
    "    props_array = make_array()\n",
    "    for i in array:\n",
    "        prop = float(i.strip(%) / 100)\n",
    "        np.append(prop, props_array)\n",
    "    return props_array"
   ]
  },
  {
   "cell_type": "code",
   "execution_count": null,
   "metadata": {
    "collapsed": true
   },
   "outputs": [],
   "source": [
    "# Question 1.5\n",
    "def sum_to_num(number):\n",
    "    \"\"\"Given a number, add all integers from 0 to that number.\n",
    "    For example: if number = 3, then return 0 + 1 + 2 + 3\"\"\"\n",
    "    if num != 0:\n",
    "        return num + sum_to_num(num-1)\n",
    "    else:\n",
    "        return 0"
   ]
  },
  {
   "cell_type": "code",
   "execution_count": null,
   "metadata": {
    "collapsed": true
   },
   "outputs": [],
   "source": [
    "# Question 1.6\n",
    "def frequency_chart(table, values_label):\n",
    "    \"\"\"Given a table of data, print a bar chart of values, with the longest bars first and the shortest bars last,\n",
    "    showing the frequencies (as proportions) of all unique values in the table.\n",
    "    Args: table is the table of data; values_label is the string for the column of the values for the bar categories\"\"\"\n",
    "    sample_size = table.num_rows\n",
    "    counts_tbl = table.group(\"values_label\").sort(1, descending = False)\n",
    "    frequencies = counts_tbl.column(\"Counts\") / sample_size\n",
    "    frequency_tbl = Table().with_columns(\"Categories\", counts_tbl.column(0),\n",
    "                                        \"Frequencies\", frequencies)\n",
    "    frequency_tbl.barh(\"Categories\")"
   ]
  },
  {
   "cell_type": "markdown",
   "metadata": {},
   "source": [
    "## Question 2: Rock, Paper, Scissors\n",
    "\n",
    "Shivani is trying to write code to simulate a game of rock, paper, scissors. Her goal is to use computation and simulation to find the probability of winning the game, assuming both players randomly select \"Rock\", \"Paper\", or \"Scissors\". \n",
    "\n",
    "If you are not familiar with the game, there are three rules:\n",
    "\n",
    "1. Rock beats scissors.\n",
    "\n",
    "2. Scissors beats paper.\n",
    "\n",
    "3. Paper beats rock.\n",
    "\n",
    "For each game, we will do **best out of 1** to decide the winner. \n",
    "\n",
    "Shivani will simulate playing 1000 games against Meghana. Assuming both players randomly select a play (rock, paper, or scissors), count the number of Shivani's wins in the variable `num_wins`. Then, use `num_wins` to calculate the empirical probability of her winning. Complete the following outline so that Shivani can do this! We've added some comments to help guide your answer."
   ]
  },
  {
   "cell_type": "code",
   "execution_count": null,
   "metadata": {
    "collapsed": true
   },
   "outputs": [],
   "source": [
    "num_wins = ...\n",
    "num_games = ...\n",
    "plays = make_array(\"Rock\", \"Paper\", \"Scissors\")\n",
    "\n",
    "for one_game in ...:\n",
    "    # Each player randomly selects a play.\n",
    "    shivani = ...  \n",
    "    meghana = ...\n",
    "    \n",
    "    if ...:\n",
    "        num_wins = ... ## Shivani and Meghana play the same move and tie.\n",
    "    \n",
    "    elif shivani == ...:\n",
    "        if meghana == ...:\n",
    "            num_wins = ... ## Shivani wins with Rock\n",
    "        else:\n",
    "            num_wins = ... ## Shivani loses\n",
    "            \n",
    "    elif ...:\n",
    "        if ...: \n",
    "            num_wins = ... ## Shivani wins with Scissors\n",
    "        else: \n",
    "            num_wins = ... ## Shivani loses\n",
    "            \n",
    "    elif ...:\n",
    "        if ...: \n",
    "            num_wins = ... ## Shivani wins with Paper\n",
    "        else: \n",
    "            num_wins = ... ## Shivani loses\n",
    "    \n",
    "    else:\n",
    "        print(\"Invalid move!\")\n",
    "\n",
    "win_prob = ...\n",
    "\n",
    "## This line will show the results! You don't need to change anything here. \n",
    "print(\"Out of \" + str(num_games) + \" games, Shivani had a winning proportion of \" + str(win_prob) + \".\")"
   ]
  },
  {
   "cell_type": "markdown",
   "metadata": {},
   "source": [
    "## Question 3: Alcohol Consumption throughout the World\n",
    "\n",
    "In 2010, the World Health Organization used data from the United Nations and the alcohol industry to study how much alcohol someone in a specific country would consume on average in one year. In other words, they calculated the annual per capita consumption of alcohol in various countries. This is important since alcohol has economic and cultural value but excessive consumption may have a detrimental effect on health and social outcomes and can lead to abuse and alcoholism.\n",
    "\n",
    "The following dataset, called `drinks`, contains the information the WHO collected, along with the amount of servings for each type of drink (beer, spirits/liquor, and wine) based on country-level consumption data. For this question, let's learn more about how much the world drinks. We'll focus on beer consumption specifically."
   ]
  },
  {
   "cell_type": "code",
   "execution_count": null,
   "metadata": {
    "collapsed": true
   },
   "outputs": [],
   "source": [
    "# Just run this cell to view the dataset. \n",
    "drinks = Table().read_table('drinks.csv')\n",
    "drinks.show(5)\n",
    "print(\"There are \" + str(drinks.num_rows) + \" countries in the dataset.\")"
   ]
  },
  {
   "cell_type": "markdown",
   "metadata": {},
   "source": [
    "**Question 3.1:** First, let's learn more about the dataset. On average, how many servings of beer per capita is consumed by people in the countries in the dataset? Assign that value to `avg_liters`. "
   ]
  },
  {
   "cell_type": "code",
   "execution_count": null,
   "metadata": {
    "collapsed": true
   },
   "outputs": [],
   "source": [
    "avg_beers = ...\n",
    "avg_beers"
   ]
  },
  {
   "cell_type": "markdown",
   "metadata": {},
   "source": [
    "**Question 3.2:** What are the 5 countries that consume the most beer per capita? Assign `top_5` to a 5 row table that contains these countries, in order, with the same columns as `drinks`. "
   ]
  },
  {
   "cell_type": "code",
   "execution_count": null,
   "metadata": {
    "collapsed": true
   },
   "outputs": [],
   "source": [
    "top_5 = ...\n",
    "top_5"
   ]
  },
  {
   "cell_type": "markdown",
   "metadata": {},
   "source": [
    "**Question 3.3:** How much beer does the United States (\"usa\") as a whole consume? In 2010, the US population was 309.3 million people. Assign that value as a float to variable `us_beer_consumed`. "
   ]
  },
  {
   "cell_type": "code",
   "execution_count": null,
   "metadata": {
    "collapsed": true
   },
   "outputs": [],
   "source": [
    "us_beer_consumed = ...\n",
    "us_beer_consumed "
   ]
  },
  {
   "cell_type": "markdown",
   "metadata": {},
   "source": [
    "**Question 3.4:** For the next question, we've created a density histogram of the `drinks` table, showing the distribution of servings of beer per capita consumed in the world. Use the histogram to answer the questions in the Markdown cells below. **Make sure you show your work; we will not give credit for answers that do not show work.** If you cannot calculate a value, write \"Unknown\" and explain why we cannot calculate it. Round your answers to the nearest hundredth. \n",
    "\n",
    "Assume that the histogram shows all of the countries in the dataset.\n",
    "\n",
    "**3.4.1:** What is the total area of the bars shown in the histogram? \n",
    "\n",
    "**3.4.2:** What is the percentage of countries in the dataset that drink more than 50 beers per capita? \n",
    "\n",
    "**3.4.3:** What is the number of countries in the dataset that drink between 100 and 200 beers per capita? \n",
    "\n",
    "**3.4.4:** What is the number of countries in the dataset that drink less than the average calculated in Question 3.1?"
   ]
  },
  {
   "cell_type": "code",
   "execution_count": null,
   "metadata": {
    "collapsed": true
   },
   "outputs": [],
   "source": [
    "## Just run this cell. \n",
    "bins = np.arange(0, 450, 50)\n",
    "drinks.hist(\"beer_servings\", bins = bins)"
   ]
  },
  {
   "cell_type": "markdown",
   "metadata": {},
   "source": [
    "*Type your answers here, replacing this text.*\n",
    "\n",
    "3.4.1: ...\n",
    "\n",
    "3.4.2: ...\n",
    "\n",
    "3.4.3: ...\n",
    "\n",
    "3.4.4: ..."
   ]
  },
  {
   "cell_type": "markdown",
   "metadata": {},
   "source": [
    "## Question 4: COVID-19 Testing\n",
    "\n",
    "For the following question, we will work on calculating probabilities. To answer these questions, you will calculate the probabilities of certain events occurring. Assign your calculated probabilities to the specified variables in each coding cell. **You must show your work in the coding cell by using Python mathematical operators, such as +.** If you would like to explain your answers, you can use comments (designated with #) in the coding cell. Leave all of your answers as proportions from 0-1.\n",
    "\n",
    "\n",
    "**Question 4.1:** As a warm-up, let's work with a standard deck of playing cards. What is the probability that you draw two spades **or** two hearts in a row without replacement? Assign this value to `q4_1`."
   ]
  },
  {
   "cell_type": "code",
   "execution_count": null,
   "metadata": {
    "collapsed": true
   },
   "outputs": [],
   "source": [
    "q4_1 = ...\n",
    "q4_1"
   ]
  },
  {
   "cell_type": "markdown",
   "metadata": {},
   "source": [
    "Now, let's get into COVID-19 testing. As you may know, tests for infection are not perfect and may occasionally give incorrect results. \n",
    "\n",
    "For example: let's say you have COVID-19 (hopefully you never do), take a test, and receive a negative result. This is a *false negative*, since you actually have the disease. Alternatively, if you do not have COVID-19, take a test, and receive a positive result, this is called a *false positive.* \n",
    "\n",
    "Obviously, a false negative is much worse, since we do not want an infected patient unintentionally spreading the disease. Currently, the rates of obtaining a false negative or false positive are unclear, but we know that they change depending on the type of test administered (e.g. a molecular PCR test vs a throat swab). \n",
    "\n",
    "For our purposes, let's assume that we are working in a New York City hospital. The probability of a randomly selected patient having COVID-19 in New York City is 20%. For a molecular PCR test, the false negative rate is 2% and the false positive rate is 5%. For a throat swab, the false negative rate is 40% and the false positive rate is 1%. \n",
    "\n",
    "Hint: You should try drawing out a tree to calculate all of the probabilities. For example: What is the probability of not having COVID-19? What is the probability of getting a positive test result and having COVID-19?\n",
    "\n",
    "**Question 4.2:** What is the probability that a randomly selected patient has COVID-19 and receives a false negative using a molecular PCR test?  Assign this probability to `q4_2`."
   ]
  },
  {
   "cell_type": "code",
   "execution_count": null,
   "metadata": {
    "collapsed": true
   },
   "outputs": [],
   "source": [
    "q4_2 = \n",
    "q4_2"
   ]
  },
  {
   "cell_type": "markdown",
   "metadata": {},
   "source": [
    "**Question 4.3:** What is the probability that a randomly selected patient does not have COVID-19 and receives a negative test result using the throat swab? Assign this probability to `q4_3`."
   ]
  },
  {
   "cell_type": "code",
   "execution_count": null,
   "metadata": {
    "collapsed": true
   },
   "outputs": [],
   "source": [
    "q4_3 = \n",
    "q4_3"
   ]
  },
  {
   "cell_type": "markdown",
   "metadata": {},
   "source": [
    "**Question 4.4:** We randomly select a patient that has COVID-19, test them using a throat swab, and receive a negative result. The hospital decides to re-test using a molecular PCR test, and the patient now receives a positive result. What is the probability of this occurring? Assign this probability to `q4_4`."
   ]
  },
  {
   "cell_type": "code",
   "execution_count": null,
   "metadata": {
    "collapsed": true
   },
   "outputs": [],
   "source": [
    "q4_4 = \n",
    "q4_4"
   ]
  },
  {
   "cell_type": "markdown",
   "metadata": {},
   "source": [
    "## Question 5: Food Access in the United States\n",
    "\n",
    "For this question, we have a dataset called `food_access` that shows data about food accessibility in various US counties from 2010 to 2015. This data is important because it helps us learn more about what areas are considered \"food deserts,\" which are areas that have limited access to nutritional food, which is often associated with poverty. Social programs, such as the federal EBT program and the state-level CalFresh program, aim to solve this problem.\n",
    "\n",
    "Some important columns in this table are `housing_units`, the number of housing units available in the county; `urban_pct`, the percentage of housing units that are urban in the county; `low_access_#`, the number of people in the county that live more than # (1, 10, or 20) miles away from their nearest grocery store; and `carless_pct`, the percentage of people in the county who do not have a car in their household."
   ]
  },
  {
   "cell_type": "code",
   "execution_count": null,
   "metadata": {
    "collapsed": true
   },
   "outputs": [],
   "source": [
    "food_access = Table().read_table(\"food_access.csv\")\n",
    "food_access.show(5)"
   ]
  },
  {
   "cell_type": "markdown",
   "metadata": {},
   "source": [
    "**Question 5.1:** What state has the highest average number of people who live more than 20 miles away from their nearest grocery store? Set the variable `avg_low_access_state` to a string of code of the state (e.g. CA) that has this value."
   ]
  },
  {
   "cell_type": "code",
   "execution_count": null,
   "metadata": {
    "collapsed": true
   },
   "outputs": [],
   "source": [
    "avg_low_access_state = \n",
    "avg_low_access_state"
   ]
  },
  {
   "cell_type": "markdown",
   "metadata": {},
   "source": [
    "**Question 5.2:** What county in the United States has the highest *number* of urban housing units? Set the variable `urban_county` to the string of the county that has this value."
   ]
  },
  {
   "cell_type": "code",
   "execution_count": null,
   "metadata": {
    "collapsed": true
   },
   "outputs": [],
   "source": [
    "urban_county = \n",
    "urban_county"
   ]
  },
  {
   "cell_type": "markdown",
   "metadata": {},
   "source": [
    "**Question 5.3:** Let's define urban areas as places that have a value greater than 80 in `urban_pct`. Does the urban-ness of an area have an effect on the number of people who own cars?\n",
    "\n",
    "Calculate the average percentage of people who do not own cars (`carless_pct`) for urban areas and non-urban areas; assign this value to `urban_avg_carless_pct` and `nonurban_avg_carless_pct` respectively. Then, using those variables, calculate the absolute difference between them and assign it to the variable `difference`."
   ]
  },
  {
   "cell_type": "code",
   "execution_count": null,
   "metadata": {
    "collapsed": true
   },
   "outputs": [],
   "source": [
    "urban_avg_carless_pct = \n",
    "nonurban_avg_carless_pct = \n",
    "difference = \n",
    "difference"
   ]
  },
  {
   "cell_type": "markdown",
   "metadata": {},
   "source": [
    "**Question 5.4:** Using the `food_access` table, create a scatterplot showing the relationship between the percentage of urban housing units in a county and the number of people in the county who live more than 1 mile away from their nearest grocery store."
   ]
  },
  {
   "cell_type": "code",
   "execution_count": null,
   "metadata": {
    "collapsed": true
   },
   "outputs": [],
   "source": []
  },
  {
   "cell_type": "markdown",
   "metadata": {},
   "source": [
    "**Question 5.5:** As you should have noticed, there is a relatively clear pattern in the graph. Why might this pattern exist? Describe *one* potential reason why we see this relationship between the two variables in the Markdown cell below."
   ]
  },
  {
   "cell_type": "markdown",
   "metadata": {},
   "source": [
    "*Type your answer here, replacing this text.*"
   ]
  },
  {
   "cell_type": "markdown",
   "metadata": {},
   "source": [
    "## Question 6: Is the UC representative of California's population?"
   ]
  },
  {
   "cell_type": "markdown",
   "metadata": {
    "collapsed": true
   },
   "source": [
    "The California Master Plan for Higher Education was created in 1960 and played a significant role in developing California's three-tier university and college systems: the California Community Colleges (CCC), California State Universities (CSU), and Universities of California (UC). As part of that plan, the goal was to create a system of schools of high quality with broad access; in California, higher education was planned to be a system for social mobility through educational opportunity.\n",
    "\n",
    "However - as you may know, not everyone has access to higher education due to larger, systematic issues and structures. Assuming that everyone in California *should* have access to our higher education system, we want to discover: is the University of California system reflective of the state population?\n",
    "\n",
    "We will focus on the enrollment of Hispanic/Latinx students as our measure. In 2019, 24.8% of students at the University of California identified as Hispanic/Latinx. However, Hispanic and Latinx people make up 39.4% of California's population. Is this difference of ~15% due to random chance or due to some other factor? \n",
    "\n",
    "At the UC, there were 226,125 students enrolled in 2019. Obviously, that is a sample size that is way too large to code, so for this question, let's imagine we only took **a sample of 500** with the same proportions as the student population at the UC."
   ]
  },
  {
   "cell_type": "code",
   "execution_count": null,
   "metadata": {
    "collapsed": true
   },
   "outputs": [],
   "source": [
    "## This is some data you will need to use.\n",
    "uc_hispanic = make_array(0.248, 0.752) ## 0.248 refers to the proportion of Hispanic/Latinx folks in the UC\n",
    "ca_hispanic = make_array(0.394, 0.606) ## 0.394 refers to the proportion of Hispanic/Latinx folks in CA\n",
    "sample_size = 500"
   ]
  },
  {
   "cell_type": "markdown",
   "metadata": {},
   "source": [
    "**Question 6.1:** What are the proper null and alternative hypotheses to answer the question, \"Is the University of California representative of California's population?\" \n",
    "\n",
    "As stated above, we will use the proportion of Hispanic/Latinx identifying people as the statistic to test this. Type your answer in the Markdown cell below."
   ]
  },
  {
   "cell_type": "markdown",
   "metadata": {},
   "source": [
    "*Type your answer here, replacing the text.*\n",
    "\n",
    "Null hypothesis: ...\n",
    "\n",
    "Alternative hypothesis: ..."
   ]
  },
  {
   "cell_type": "markdown",
   "metadata": {},
   "source": [
    "For this question, we will use a new function, called `sample_proportions(sample_size, model_proportions)`, that takes in two arguments: the size of the sample we want to simulate and the proportions of values we want to simulate from. This function will return an array of the same length as the second argument, `model_proportions`, that is reflective of the proportions we would observe if we created a sample. If you need help understanding this, check the Data 8 Python reference sheet.\n",
    "\n",
    "It works like this:\n",
    "\n",
    "`coin = make_array(0.5, 0.5) ## Assume the first 0.5 refers to Heads and the second 0.5 refers to Tails`\n",
    "\n",
    "`sample_proportions(10, coin)`\n",
    "\n",
    "`Output: [0.4, 0.6] ## This tells us that out of 10 flips, 0.4 of them were Heads and 0.6 of them were Tails.`\n",
    "\n",
    "**Question 6.2:** We will use this function to simulate the process of sampling from the population of California. We wrote some code below using it. Does the cell below return an *empirical probability* or a *theoretical probability*? Type your answer, along with an explanation, in the Markdown cell below the coding cell."
   ]
  },
  {
   "cell_type": "code",
   "execution_count": null,
   "metadata": {
    "collapsed": true
   },
   "outputs": [],
   "source": [
    "## Just run this cell. \n",
    "one_sim_sample = sample_proportions(sample_size, ca_hispanic)\n",
    "one_sim_sample.item(0)"
   ]
  },
  {
   "cell_type": "markdown",
   "metadata": {},
   "source": [
    "*Type your answer to Question 6.2 here, replacing this text.*"
   ]
  },
  {
   "cell_type": "markdown",
   "metadata": {},
   "source": [
    "**Question 6.3:** Complete the following code to properly simulate the process of sampling 500 people under the null hypothesis. Calculate the proportion of Hispanic/Latinx people in each simulated sample, and save all of the proportions in the array `sim_props`. Create 1000 simulated samples. \n",
    "\n",
    "Use the `sample_proportions` function to create the simulated samples."
   ]
  },
  {
   "cell_type": "code",
   "execution_count": null,
   "metadata": {
    "collapsed": true
   },
   "outputs": [],
   "source": [
    "num_trials = ...\n",
    "sim_props = make_array()\n",
    "\n",
    "for i in ...:\n",
    "    sim_sample_props = ...\n",
    "    sim_prop_hispanic = ...\n",
    "    sim_props = np.append(..., ...)\n",
    "\n",
    "sim_props"
   ]
  },
  {
   "cell_type": "markdown",
   "metadata": {},
   "source": [
    "**Question 6.4:** The following cell will generate a histogram of the simulated test statistics. Based on the observed result at the University of California, would we reject or fail to reject your null hypothesis? Why or why not? Type your answer in the Markdown cell below the coding cell."
   ]
  },
  {
   "cell_type": "code",
   "execution_count": null,
   "metadata": {
    "collapsed": true
   },
   "outputs": [],
   "source": [
    "## Just run this cell. \n",
    "bins = np.arange(0.22, 0.50, 0.02)\n",
    "Table().with_columns(\"Simulated Proportions\", sim_props).hist(0)"
   ]
  },
  {
   "cell_type": "markdown",
   "metadata": {},
   "source": [
    "*Type your answer here, replacing this text.*"
   ]
  },
  {
   "cell_type": "markdown",
   "metadata": {},
   "source": [
    "**Question 6.5:** If we decreased the sample size, what would happen to the range/variability of the simulated statistics? Would it increase, decrease, or stay approximately the same? Why? Type your answer in the Markdown cell below."
   ]
  },
  {
   "cell_type": "markdown",
   "metadata": {},
   "source": [
    "*Type your answer here, replacing this text.*"
   ]
  },
  {
   "cell_type": "markdown",
   "metadata": {},
   "source": [
    "## Question 7: Stereotype Threat\n",
    "\n",
    "Stereotype threat is a sociological concept which refers to the predicament in which people are or feel themselves to be at risk of conforming to stereotypes about their social group. The existence of negative stereotypes about one's group has been found to play a detrimental role in one's academic performance, regardless of that individual's own intelligence or if they were directly confronted with those stereotypes. This is a significant contributor to the \"scholastic achievement gap\" for ethnic minorities and women, even though these groups have been shown to just as capable, if not more capable, than groups that do not have negative stereotypes. \n",
    "\n",
    "In the 1990s, researchers at Stanford University studied the effects of stereotype threat on the test performance of African Americans. In one of their experiments, they had 114 undergraduate students from Stanford complete questions from the verbal portion of the Graduate Record Examination (GRE). Before they took the exam, the examiner, a white man, told students in one group that the study was concerned with \"various personal factors involved in performance on problems requiring reading and verbal reasoning abilities [and that it was] a genuine test of your verbal abilities and limitations so that we may better understand the factors involved in both.\" We will call this group, Group A. The other group, Group B, was not told this statement. The students – Black and white, and male and female – were randomly assigned to each group and each group had representatives from each demographic group. \n",
    "\n",
    "Upon analysis of the test results, the researchers found that Black students in Group A were able to solve 8 questions on average. White students in Group A were able to solve 12 questions on average. In Group B, both Black and White students solved 12 questions on average. Under their null hypothesis, that Black and White students would solve the same number of questions on average, they found that their observed result only occurred less than 1% of the time. \n",
    "\n",
    "The researchers write: \"Black participants performed worse than white participants when the test was presented as a measure of their ability, but improved dramatically, matching the performance of whites, when the test was presented as less reflective of ability.\" "
   ]
  },
  {
   "cell_type": "markdown",
   "metadata": {
    "collapsed": true
   },
   "source": [
    "**Question 7.1:** Describe the treatment condition in the Markdown cell below in 1-2 sentences."
   ]
  },
  {
   "cell_type": "markdown",
   "metadata": {},
   "source": [
    "*Type your answer here, replacing this text.*"
   ]
  },
  {
   "cell_type": "markdown",
   "metadata": {},
   "source": [
    "**Question 7.2:** What was the outcome measured in this experiment? Describe it in 1-2 sentences in the Markdown cell below."
   ]
  },
  {
   "cell_type": "markdown",
   "metadata": {},
   "source": [
    "*Type your answer here, replacing this text.*"
   ]
  },
  {
   "cell_type": "markdown",
   "metadata": {},
   "source": [
    "**Question 7.3:** Based on the information provided, can we attribute the difference between Group A and Group B to the treatment? Explain why or why not in the Markdown cell below. "
   ]
  },
  {
   "cell_type": "markdown",
   "metadata": {},
   "source": [
    "*Type your answer here, replacing this text.*"
   ]
  },
  {
   "cell_type": "markdown",
   "metadata": {},
   "source": [
    "**Question 7.4:** If we repeated this study at UC Berkeley today in 2020, could we expect to receive similar results? Explain why or why not in the Markdown cell below. "
   ]
  },
  {
   "cell_type": "markdown",
   "metadata": {},
   "source": [
    "*Type your answer here, replacing this text.*"
   ]
  },
  {
   "cell_type": "markdown",
   "metadata": {},
   "source": [
    "## Question 8: Presidential Approval\n",
    "\n",
    "From August 1st to 6th, Georgetown University conducted a poll of 1000 likely voters (Americans who are more likely than others to go to vote in November), asking them for their opinions on President Trump. The pollsters asked the following question:\n",
    "\n",
    "\"How would you rate the job that Donald Trump has been doing as President? Do you approve or disapprove of the job he is doing?\"\n",
    "\n",
    "From the 1000 likely voters surveyed, 42% said that they approved, 55% said that they disapproved, and 3% said they were unsure. Assuming that this poll was truly representative of Donald Trump's approval among likely voters, what is the true proportion of likely voters in the United States that approve of Donald Trump's presidency? Let's use a bootstrap to find out.\n",
    "\n",
    "The following cell contains the dataset of responses from Georgetown's survey. The codes are as follows:\n",
    "\n",
    "| Code | Response |\n",
    "| ---  | -------  |\n",
    "| 0 | Approve |\n",
    "| 1 | Disapprove |\n",
    "| 2 | Unsure |"
   ]
  },
  {
   "cell_type": "code",
   "execution_count": null,
   "metadata": {
    "collapsed": true
   },
   "outputs": [],
   "source": [
    "# Just run this cell. \n",
    "gt_survey = Table().read_table(\"gt_survey.csv\")\n",
    "gt_survey.show(5)"
   ]
  },
  {
   "cell_type": "markdown",
   "metadata": {},
   "source": [
    "**Question 8.1:** Create a function called `prop_approve` that takes in a 1 column table in the same format as `gt_survey` and  returns the proportion of people who respond that they approve of President Trump's work.\n",
    "\n",
    "Call this function on `gt_survey` to find the observed proportion and set it to the variable `observed_prop`."
   ]
  },
  {
   "cell_type": "code",
   "execution_count": null,
   "metadata": {
    "collapsed": true
   },
   "outputs": [],
   "source": [
    "def prop_approve(sample):\n",
    "    sample_size = ...\n",
    "    num_approve = ...\n",
    "    return ...\n",
    "\n",
    "observed_prop = ...\n",
    "observed_prop"
   ]
  },
  {
   "cell_type": "markdown",
   "metadata": {},
   "source": [
    "**Question 8.2:** Using the `gt_survey` sample, complete the following code to perform the bootstrap, creating 1000 resamples. With each resample, calculate the proportion of people who respond that they approve of President Trump's work. Save each proportion in an array called `resampled_props`. \n",
    "\n",
    "Then, create a histogram using `resampled_props` to view the distribution of the resampled proportion of approvals. Make sure you use informative bins. \n",
    "\n",
    "The cell may take some time to run, so be patient!"
   ]
  },
  {
   "cell_type": "code",
   "execution_count": null,
   "metadata": {
    "collapsed": true
   },
   "outputs": [],
   "source": [
    "num_resamples = ...\n",
    "sample_size = ...\n",
    "resampled_props = make_array()\n",
    "\n",
    "for i in ...:\n",
    "    resample_survey = ..\n",
    "    resample_survey_prop = ...\n",
    "    resampled_props = ...\n",
    "\n",
    "..."
   ]
  },
  {
   "cell_type": "markdown",
   "metadata": {},
   "source": [
    "**Question 8.3:** Finally, let's estimate the true population proportion of likely voters who approve! Create a 95% confidence interval using your resampled proportions."
   ]
  },
  {
   "cell_type": "code",
   "execution_count": null,
   "metadata": {
    "collapsed": true
   },
   "outputs": [],
   "source": [
    "ci_lower_bound = ...\n",
    "ci_upper_bound = ...\n",
    "\n",
    "## This line of code will print your interval.\n",
    "print(\"Your 95% confidence interval is \" + str(ci_lower_bound) + \" to \" + str(ci_upper_bound) + \".\")"
   ]
  },
  {
   "cell_type": "markdown",
   "metadata": {},
   "source": [
    "**Question 8.4:** In our case, we received a confidence interval of [0.387, 0.45]. Your interval may differ due to random chance. We will use our interval to make a few statements for this next question. \n",
    "\n",
    "For each statement, say whether the statement is True or False. If the statement is False, rewrite the statement so it is correct. Place your answers in the Markdown cell below. \n",
    "\n",
    "**8.4.1:** There is a 95% chance that the true proportion of likely voters who approve of President Trump is somewhere between 0.387 and 0.45.\n",
    "\n",
    "**8.4.2:** It is accurate to say that there is a high chance that likely voters who approve of President Trump are a minority in the United States. \n",
    "\n",
    "**8.4.3:** If we ran your code in Questions 9.2 and 9.3 10000 times, approximately 500 of the intervals we create would include the true population proportion of voters who approve of President Trump. "
   ]
  },
  {
   "cell_type": "markdown",
   "metadata": {},
   "source": [
    "*Type your answer here, replacing this text.*\n",
    "\n",
    "**8.4.1:**\n",
    "\n",
    "**8.4.2:**\n",
    "\n",
    "**8.4.3:**"
   ]
  },
  {
   "cell_type": "markdown",
   "metadata": {},
   "source": [
    "## Question 9: Data Memes\n",
    "\n",
    "If you could describe your experience in Data C6 in one meme, what meme would that be? Link (or embed) it below. We hope this summer was useful and that you were able to learn something. Best of luck in your first year and if you need anything, please don't hesitate to reach out to us! Thank you all for being part of the pilot class for Data C6. \n",
    "\n",
    "(This question will not be graded, but extra brownie points for students who make their own memes!)"
   ]
  },
  {
   "cell_type": "markdown",
   "metadata": {},
   "source": [
    "*Insert the link to your meme here. You can also convert this cell to a code cell and use IPython or another library to display the image.*"
   ]
  },
  {
   "cell_type": "markdown",
   "metadata": {},
   "source": [
    "### Submission\n",
    "\n",
    "Congratulations on completing the final for DATA C6! To submit your final exam, please click \"Save and Checkpoint\" (or click on the floppy disk) and then download this file as a .ipynb notebook by clicking on \"Download\" in the toolbar at the top of this page or clicking on \"File\" > \"Download as\" > \"Notebook (.ipynb)\". \n",
    "\n",
    "Then, go to our [class Gradescope page](https://www.gradescope.com/courses/136698) and submit your notebook under the \"Final Exam\" assignment. You may submit and re-submit as many times as you would like until the deadline of Friday, August 14, 9 PM PDT, but we will only grade your most recent submission. \n",
    "\n",
    "Make sure your final notebook contains all of your answers and that it submitted to Gradescope by viewing your .ipynb file and checking if you received a confirmation email from Gradescope. We will not accept any late submissions, so please double check your submission. "
   ]
  },
  {
   "cell_type": "code",
   "execution_count": null,
   "metadata": {
    "collapsed": true
   },
   "outputs": [],
   "source": []
  }
 ],
 "metadata": {
  "kernelspec": {
   "display_name": "Python 3",
   "language": "python",
   "name": "python3"
  },
  "language_info": {
   "codemirror_mode": {
    "name": "ipython",
    "version": 3
   },
   "file_extension": ".py",
   "mimetype": "text/x-python",
   "name": "python",
   "nbconvert_exporter": "python",
   "pygments_lexer": "ipython3",
   "version": "3.6.1"
  }
 },
 "nbformat": 4,
 "nbformat_minor": 2
}
