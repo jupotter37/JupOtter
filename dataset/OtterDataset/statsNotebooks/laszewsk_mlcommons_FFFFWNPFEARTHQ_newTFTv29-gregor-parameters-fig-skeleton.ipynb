{
 "cells": [
  {
   "cell_type": "markdown",
   "metadata": {
    "id": "s_qNSzzyaCbD"
   },
   "source": [
    "##### Copyright 2019 The TensorFlow Authors and Geoffrey Fox 2020\n"
   ]
  },
  {
   "cell_type": "code",
   "execution_count": null,
   "metadata": {},
   "outputs": [],
   "source": [
    "! which python\n",
    "! python --version\n",
    "! pwd"
   ]
  },
  {
   "cell_type": "code",
   "execution_count": null,
   "metadata": {
    "cellView": "form",
    "id": "jmjh290raIky"
   },
   "outputs": [],
   "source": [
    "#@title Licensed under the Apache License, Version 2.0 (the \"License\");\n",
    "# you may not use this file except in compliance with the License.\n",
    "# You may obtain a copy of the License at\n",
    "#\n",
    "# https://www.apache.org/licenses/LICENSE-2.0\n",
    "#\n",
    "# Unless required by applicable law or agreed to in writing, software\n",
    "# distributed under the License is distributed on an \"AS IS\" BASIS,\n",
    "# WITHOUT WARRANTIES OR CONDITIONS OF ANY KIND, either express or implied.\n",
    "# See the License for theRunTFTCustomVersion Epoch specific language governing permissions and\n",
    "# limitations under the License."
   ]
  },
  {
   "cell_type": "code",
   "execution_count": null,
   "metadata": {},
   "outputs": [],
   "source": [
    "from cloudmesh.common.util import banner\n",
    "\n",
    "import os\n",
    "import sys\n",
    "import pwd\n",
    "import socket\n",
    "import pathlib\n",
    "import humanize\n",
    "\n",
    "from cloudmesh.common.console import Console\n",
    "from cloudmesh.common.Shell import Shell\n",
    "from cloudmesh.common.dotdict import dotdict\n",
    "from cloudmesh.common.Printer import Printer\n",
    "from cloudmesh.common.StopWatchMllog import progress\n",
    "from cloudmesh.common.StopWatchMllog import StopWatch\n",
    "from cloudmesh.common.util import readfile\n",
    "\n",
    "from cloudmesh.gpu.gpu import Gpu\n",
    "from pprint import pprint\n",
    "import sys\n",
    "\n",
    "from IPython.display import display\n",
    "import tensorflow_datasets as tfds\n",
    "import tensorflow as tf\n",
    "from tqdm.keras import TqdmCallback\n",
    "from tqdm import tnrange\n",
    "from tqdm import notebook\n",
    "from tqdm import tqdm\n",
    "from tensorflow.keras.models import Sequential\n",
    "from tensorflow.keras.layers import LSTM\n",
    "from tensorflow.keras.layers import GRU\n",
    "from tensorflow.keras.layers import Dense\n",
    "\n",
    "import os\n",
    "import subprocess\n",
    "import gc\n",
    "from csv import reader\n",
    "from csv import writer\n",
    "import sys\n",
    "import random\n",
    "import math\n",
    "import numpy as np\n",
    "import matplotlib.pyplot as plt\n",
    "from textwrap import wrap\n",
    "import pandas as pd\n",
    "import io as io\n",
    "import string\n",
    "\n",
    "import time\n",
    "import datetime\n",
    "from datetime import timedelta\n",
    "from datetime import date\n",
    "# TODO: better would be to distinguish them and not overwrite the one datetime with the other.\n",
    "from datetime import datetime\n",
    "import yaml\n",
    "\n",
    "from typing import Dict\n",
    "from typing import Tuple\n",
    "from typing import Optional\n",
    "from typing import List\n",
    "from typing import Union\n",
    "from typing import Callable\n",
    "\n",
    "import matplotlib\n",
    "import matplotlib.patches as patches\n",
    "# import matplotlib.pyplot as plt\n",
    "from matplotlib.figure import Figure\n",
    "from matplotlib.path import Path\n",
    "import matplotlib.dates as mdates\n",
    "import scipy as sc\n",
    "import scipy.linalg as solver\n",
    "from matplotlib import colors\n",
    "import enum\n",
    "import pandas as pd\n",
    "import abc\n",
    "import json\n",
    "import psutil\n",
    "\n",
    "gregor = True\n",
    "\n",
    "%load_ext autotime\n",
    "\n",
    "StopWatch.activate_mllog()\n",
    "content = readfile(\"config.yaml\")\n",
    "config = yaml.safe_load(content)\n",
    "\n",
    "# StopWatch.organization_mllog(**config)\n",
    "StopWatch.organization_submission(**config)\n",
    "\n",
    "filename = './earthquake-fig-2.log'\n",
    "filename = Shell.map_filename(filename).path\n",
    "print(filename)\n",
    "Shell.rm(filename)\n",
    "\n",
    "# StopWatch_Original.progress(0, filename=filename)\n",
    "progress(progress=0, filename=filename)\n",
    "StopWatch.start(\"total\", mllog_key=\"RUN_START\")\n",
    "\n",
    "print(Printer.attribute(config))"
   ]
  },
  {
   "cell_type": "code",
   "execution_count": null,
   "metadata": {},
   "outputs": [],
   "source": [
    "\n",
    "try:\n",
    "    in_interactive_notebook = config[\"system\"][\"notebook\"][\"interactive\"]\n",
    "except KeyError:\n",
    "    in_interactive_notebook = False\n",
    "\n",
    "in_colab = 'google.colab' in sys.modules\n",
    "\n",
    "in_rivanna = config[\"system\"][\"host\"] == \"rivanna\"\n",
    "#in_rivanna = \"hpc.virginia.edu\" in socket.getfqdn()\n",
    "\n",
    "in_dgxstation = config[\"system\"][\"host\"] == \"dgxstation\"\n",
    "in_ubuntu = config[\"system\"][\"host\"] == \"ubuntu\"\n",
    "in_summit = config[\"system\"][\"host\"] == \"summit\"\n",
    "\n",
    "if 'colortheme' in config:\n",
    "    colortheme = config['colortheme'] == \"True\"\n",
    "else:\n",
    "    colortheme = True\n",
    "\n",
    "\n",
    "if in_colab:\n",
    "    # Avoids scroll-in-the-scroll in the entire Notebook\n",
    "    #test\n",
    "    from IPython.display import Javascript\n",
    "    def resize_colab_cell():\n",
    "      display(Javascript('google.colab.output.setIframeHeight(0, true, {maxHeight: 20000})'))\n",
    "    get_ipython().events.register('pre_run_cell', resize_colab_cell)\n",
    "\n",
    "    from google.colab import drive\n",
    "    drive.mount('/content/gdrive')\n",
    "\n",
    "if in_rivanna or gregor or in_ubuntu or in_dgxstation or in_summit:\n",
    "    tf.config.set_soft_device_placement(config['set_soft_device_placement'])\n",
    "    tf.debugging.set_log_device_placement(config['debugging_set_log_device_placement'])\n",
    "\n",
    "\n",
    "# tf.test.is_gpu_available\n"
   ]
  },
  {
   "cell_type": "code",
   "execution_count": null,
   "metadata": {},
   "outputs": [],
   "source": [
    "def TIME_start(name, mllog_key=\"BLOCK_START\", **kwargs):\n",
    "    banner(f\"Start timer {name}\")\n",
    "    StopWatch.start(name, mllog_key=mllog_key, **kwargs)\n",
    "\n",
    "def TIME_stop(name, mllog_key=\"BLOCK_STOP\", **kwargs):\n",
    "    StopWatch.stop(name, mllog_key=mllog_key, **kwargs)\n",
    "    t = StopWatch.get(name)\n",
    "    h = humanize.naturaldelta(timedelta(seconds=t))\n",
    "    banner(f\"Stop timer {name}: {t}s or {h}\")\n"
   ]
  },
  {
   "cell_type": "code",
   "execution_count": null,
   "metadata": {},
   "outputs": [],
   "source": [
    "# who am i\n",
    "\n",
    "config['user'] = Shell.run('whoami').strip()\n",
    "try:\n",
    "    config['user_id'] = Shell.run('id -u').strip()\n",
    "    config['group_id'] = Shell.run('id -g').strip()\n",
    "except subprocess.CalledProcessError:\n",
    "    print(\"The command <id> is not on your path.\")\n",
    "\n",
    "print(Printer.attribute(config))"
   ]
  },
  {
   "cell_type": "code",
   "execution_count": null,
   "metadata": {},
   "outputs": [],
   "source": [
    "StopWatch.benchmark()"
   ]
  },
  {
   "cell_type": "code",
   "execution_count": null,
   "metadata": {},
   "outputs": [],
   "source": [
    "r = Gpu().system()\n",
    "\n",
    "try:\n",
    "    ## Once Cloudmesh GPU PR2 is merged, the above block can be removed and the below be used.\n",
    "    config['gpuname'] = [x['product_name'] for x in r]\n",
    "    config['gpuvendor'] = [x.get('vendor', \"Unknown Vendor\") for x in r]\n",
    "except:\n",
    "    pass\n",
    "\n",
    "print (Printer.attribute(config))"
   ]
  },
  {
   "cell_type": "code",
   "execution_count": null,
   "metadata": {},
   "outputs": [],
   "source": [
    "%matplotlib inline\n",
    "\n",
    "def SAVEFIG(fig, filename, path=None, formats=('png', 'pdf'), bbox_inches=\"tight\"):\n",
    "\n",
    "    if \"data.images\" in config:\n",
    "        directory = config[\"data\"][\"images\"]\n",
    "    else:\n",
    "        directory = \"images\"\n",
    "\n",
    "    if not os.path.exists(directory):\n",
    "        Shell.mkdir(directory)\n",
    "\n",
    "    local_path = directory\n",
    "\n",
    "    fileout = f\"{local_path}/{filename}\".replace(\"\\n\", \" \").replace(\">\", \" \").replace(\"<\", \" \")\n",
    "    for my_format in formats:\n",
    "        fig.savefig(f\"{fileout}.{my_format}\", format=my_format, bbox_inches=bbox_inches)\n",
    "    return fig, tuple(f'{fileout}.{fmt}' for fmt in formats)\n",
    "\n",
    "from matplotlib.transforms import Bbox\n",
    "\n",
    "#https://stackoverflow.com/questions/4325733/save-a-subplot-in-matplotlib\n",
    "def full_extent(ax, pad=0.0):\n",
    "    \"\"\"Get the full extent of an axes, including axes labels, tick labels, and\n",
    "    titles.\"\"\"\n",
    "    # For text objects, we need to draw the figure first, otherwise the extents\n",
    "    # are undefined.\n",
    "    ax.figure.canvas.draw()\n",
    "    items = ax.get_xticklabels() + ax.get_yticklabels()\n",
    "#    items += [ax, ax.title, ax.xaxis.label, ax.yaxis.label]\n",
    "    items += [ax, ax.title]\n",
    "    bbox = Bbox.union([item.get_window_extent() for item in items])\n",
    "\n",
    "    return bbox.expanded(1.0 + pad, 1.0 + pad)"
   ]
  },
  {
   "cell_type": "code",
   "execution_count": null,
   "metadata": {},
   "outputs": [],
   "source": [
    "# Set Runname\n",
    "RunName = 'EARTHQ-newTFTv29'\n",
    "RunComment = ' TFT Dev on EarthQuakes --  2 weeks 3 months 6 months 1 year d_model 160  dropout 0.1 Location Based Validation BS 64 Simple 2 layers CUDA LSTM MSE corrected MHA Plot 28'\n",
    "\n",
    "#\n",
    "# StopWatch.benchmark(sysinfo=True)\n",
    "# make sure we have free memory in it\n",
    "# replace the following and if needed read from StopWatch\n",
    "memory = StopWatch.get_sysinfo()[\"mem.available\"]\n",
    "print(f'Your runtime has {memory} of available RAM\\n')\n",
    "\n",
    "config['runname'] = RunName"
   ]
  },
  {
   "cell_type": "code",
   "execution_count": null,
   "outputs": [],
   "source": [
    "progress(progress=1, filename=filename)"
   ],
   "metadata": {
    "collapsed": false
   }
  },
  {
   "cell_type": "markdown",
   "metadata": {},
   "source": [
    "# Initial System Code"
   ]
  },
  {
   "cell_type": "code",
   "execution_count": null,
   "metadata": {},
   "outputs": [],
   "source": [
    "TIME_start(\"INIT\", mllog_key=\"INIT_START\")\n",
    "if colortheme:\n",
    "    startbold = \"\\033[1m\"\n",
    "    resetfonts = \"\\033[0m\"\n",
    "    startred = '\\033[31m'\n",
    "\n",
    "    startpurple = '\\033[35m'\n",
    "    startyellowbkg = '\\033[43m'\n",
    "else:\n",
    "    startbold = \"\"\n",
    "    resetfonts = \"\"\n",
    "    startred = ''\n",
    "\n",
    "    startpurple = ''\n",
    "    startyellowbkg = ''\n",
    "\n",
    "banner(\"System information\")\n",
    "r = StopWatch.systeminfo()\n",
    "print (r)"
   ]
  },
  {
   "cell_type": "code",
   "execution_count": null,
   "metadata": {},
   "outputs": [],
   "source": [
    "\n",
    "banner(\"nvidia-smi\")\n",
    "gpu_info = Shell.run(\"nvidia-smi\")\n",
    "if gpu_info.find('failed') >= 0:\n",
    "  print('Select the Runtime > \"Change runtime type\" menu to enable a GPU accelerator, ')\n",
    "else:\n",
    "  print(gpu_info)\n",
    "\n"
   ]
  },
  {
   "cell_type": "markdown",
   "metadata": {},
   "source": [
    "# Transformer model for science data based on original for language understanding"
   ]
  },
  {
   "cell_type": "markdown",
   "metadata": {},
   "source": [
    "<table class=\"tfo-notebook-buttons\" align=\"left\">\n",
    "  <td>\n",
    "    <a target=\"_blank\" href=\"https://www.tensorflow.org/tutorials/text/transformer\">\n",
    "    <img src=\"https://www.tensorflow.org/images/tf_logo_32px.png\" />\n",
    "    View on TensorFlow.org</a>\n",
    "  </td>\n",
    "  <td>\n",
    "    <a target=\"_blank\" href=\"https://colab.research.google.com/github/tensorflow/docs/blob/master/site/en/tutorials/text/transformer.ipynb\">\n",
    "    <img src=\"https://www.tensorflow.org/images/colab_logo_32px.png\" />\n",
    "    Run in Google Colab</a>\n",
    "  </td>\n",
    "  <td>\n",
    "    <a target=\"_blank\" href=\"https://github.com/tensorflow/docs/blob/master/site/en/tutorials/text/transformer.ipynb\">\n",
    "    <img src=\"https://www.tensorflow.org/images/GitHub-Mark-32px.png\" />\n",
    "    View source on GitHub</a>\n",
    "  </td>\n",
    "  <td>\n",
    "    <a href=\"https://storage.googleapis.com/tensorflow_docs/docs/site/en/tutorials/text/transformer.ipynb\"><img src=\"https://www.tensorflow.org/images/download_logo_32px.png\" />Download notebook</a>\n",
    "  </td>\n",
    "</table>"
   ]
  },
  {
   "cell_type": "markdown",
   "metadata": {},
   "source": [
    "## Science Data Parameters and Sizes"
   ]
  },
  {
   "cell_type": "markdown",
   "metadata": {},
   "source": [
    "-------\n",
    "Here is structure of science time series module. We will need several arrays that will need to be flattened at times. Note Python defaults to row major i.e. final index describes contiguous positions in memory\n",
    "\n",
    "\n",
    "At highest level data is labeled by Time and Location\n",
    "\n",
    "*   Ttot is total number of time steps\n",
    "*   Tseq is length of each sequence in time steps\n",
    "*   Num_Seq is number of sequences in time: Num_Seq = Ttot-Tseq + 1\n",
    "*   Nloc is Number of locations. The locations could be a 1D list or have array structure such as an image.\n",
    "*   Nsample is number of data samples Nloc * Num_Seq\n",
    "\n",
    "\n",
    "\n",
    "\n",
    "Input data is at each location\n",
    "*   Nprop time independent properties describing the location\n",
    "*   Nforcing is number of time dependent forcing features INPUT at each time value\n",
    "\n",
    "\n",
    "Output (predicted) data at each location and for each time sequence is\n",
    "*   Npred predicted time dependent values defined at every time step\n",
    "*   Recorded at Nforecast time values measured wrt final time value of sequence\n",
    "*   ForecastDay is an array of length Nforecast defining how many days into future prediction is. Typically ForecastDay[0] = 1 and Nforecast is often 1\n",
    "*   There is also a class of science problems that are more similar to classic Seq2Seq. Here Nforecast = Tseq and ForecastDay = [-Tseq+1 ... 0]\n",
    "*   We also support Nwishful predictions of events in future such probability of an earthquake of magnitude 6 in next 3 years. These are defined by araays EventType and Timestart, TimeInterval of length Nwishful. EventType is user defined and Timestart, TimeInterval is measured in time steps\n",
    "*   Any missing output values should be set to NaN and Loss function must ensure that these points are ignored in derivative calculation and value calculation\n",
    "\n",
    "We have an input module that supports either LSTM or Transformer (multi-head attention) models\n",
    "\n",
    "Example Problem AICov\n",
    "\n",
    "*   Ttot = 114\n",
    "*   Tseq = 9\n",
    "*   Num_Seq = 106\n",
    "*   Nloc = 110\n",
    "\n",
    "\n",
    "*   Nprop = 35\n",
    "*   Nforcing = 5 including infections, fatalities, plus 3 temporal position variables (last 3 not in current version)\n",
    " \n",
    " \n",
    "*   Npred = 2 (predicted infections and fatalities). Could be 5 if predicted temporal position of output)\n",
    "*   Nforecast= 15\n",
    "*   ForecastDay = [1, 2, .......14, 15]\n",
    "*   Nwishful = 0\n",
    "\n",
    "\n",
    "\n",
    "\n",
    "\n",
    "\n",
    "\n",
    "\n",
    "\n",
    "\n",
    "\n",
    "\n",
    "\n",
    "\n",
    "\n",
    "\n",
    "\n",
    "\n"
   ]
  },
  {
   "cell_type": "markdown",
   "metadata": {},
   "source": [
    "## Science Data Arrays"
   ]
  },
  {
   "cell_type": "markdown",
   "metadata": {},
   "source": [
    "Typical Arrays\n",
    "\n",
    "\n",
    "[ time, Location ] as Pandas array with label [name of time-dependent variable] as an array or just name of Pandas array\n",
    "\n",
    "time labels rows indexed by datetime or the difference datetime - start\n",
    "\n",
    "Non windowed data is stored with propert name as row index and location as column index\n",
    "[ static property, Location]\n",
    "\n",
    "Covid Input is\n",
    "[Sequence number 0..Num_Seq-1 ] [ Location 0..Nloc-1 ] [position in time sequence Tseq]  [ Input Features]\n",
    "\n",
    "Covid Output is \n",
    "[Sequence number Num_Seq ] [ Location Nloc ]  [ Output Features] \n",
    "\n",
    "Output Features are [ ipred = 0 ..Npred-1 ] [ iforecast = 0 ..Nforecast-1 ]\n",
    "\n",
    "Input Features are static fields followed by if present by dynamic system fields (cos-theta sin-theta linear) chosen followed by cases, deaths. In fact this is user chosen as they set static and dynamic system properties to use"
   ]
  },
  {
   "cell_type": "markdown",
   "metadata": {},
   "source": [
    "We will have various numpy and pandas arrays where we designate label\n",
    "\n",
    "[Ttot] is all time values \n",
    "\n",
    "[Num_Seq]  is all sequences of window size ***Tseq***\n",
    "\n",
    "We can select time values or sequences [Ttot-reason] [Num_Seq-reason] for a given \"reason\"\n",
    "\n",
    "[Num_Seq][Tseq] is all time values in all sequences\n",
    "\n",
    "[Nloc] is all locations while [Nloc-reason] is subset of locations for given \"reason\"\n",
    "\n",
    "[Model1] is initial embedding of each data point\n",
    "\n",
    "[Model1+TrPosEnc] is initial embedding of each data point with Transformer style positional encoding\n",
    "\n",
    "[Nforcing] is time dependent input parameters and [Nprop] static properties while [ExPosEnc] are explicit positional (temporal) encoding.\n",
    "\n",
    "[Nforcing+ExPosEnc+Nprop] are all possible inputs\n",
    "\n",
    "[Npred] is predicted values with [Npred+ExPosEnc] as predictions plus encodings with actually used [Predvals] = [Npred+ExPosEnc-Selout] \n",
    "\n",
    "[Predtimes] = [Forecast time range] are times forecasted with \"time range\" separately defined\n",
    "\n"
   ]
  },
  {
   "cell_type": "markdown",
   "metadata": {},
   "source": [
    "### Define Basic Control parameters"
   ]
  },
  {
   "cell_type": "code",
   "execution_count": null,
   "metadata": {},
   "outputs": [],
   "source": [
    "def wraptotext(textinput,size=None):\n",
    "  if size is None:\n",
    "    size = 120\n",
    "  textlist = wrap(textinput,size)\n",
    "  textresult = textlist[0]\n",
    "  for itext in range(1,len(textlist)):\n",
    "    textresult += '\\n'+textlist[itext]\n",
    "  return textresult\n",
    "\n",
    "def timenow():\n",
    "  now = datetime.now()\n",
    "  return now.strftime(\"%m/%d/%Y, %H:%M:%S\") + \" UTC\"\n",
    "\n",
    "def float32fromstrwithNaN(instr):\n",
    "  if instr == 'NaN':\n",
    "    return NaN\n",
    "  return np.float32(instr)\n",
    "\n",
    "def printexit(exitmessage):\n",
    "  print(exitmessage)\n",
    "  sys.exit()\n",
    "\n",
    "def strrnd(value):\n",
    "  return str(round(value,4))\n",
    "\n",
    "NaN = np.float32(\"NaN\")\n",
    "\n",
    "ScaleProperties = False\n",
    "ConvertDynamicPredictedQuantity = False\n",
    "ConvertDynamicProperties = True\n",
    "GenerateFutures = False\n",
    "GenerateSequences = False\n",
    "PredictionsfromInputs = False\n",
    "RereadMay2020 = False\n",
    "UseOLDCovariates = False\n",
    "Dropearlydata = 0\n",
    "NIHCovariates = False \n",
    "UseFutures = True\n",
    "Usedaystart = False \n",
    "PopulationNorm = False\n",
    "SymbolicWindows = False\n",
    "Hydrology = False\n",
    "Earthquake = False\n",
    "EarthquakeImagePlots = False\n",
    "AddSpecialstoSummedplots = False\n",
    "UseRealDatesonplots = False\n",
    "Dumpoutkeyplotsaspics = False\n",
    "OutputNetworkPictures = False\n",
    "NumpredbasicperTime = 2\n",
    "NumpredFuturedperTime = 2\n",
    "NumTimeSeriesCalculated = 0\n",
    "Dailyunit = 1\n",
    "TimeIntervalUnitName = 'Day'\n",
    "InitialDate = datetime(2000,1,1)\n",
    "NumberofTimeunits = 0\n",
    "Num_Time =0\n",
    "FinalDate = datetime(2000,1,1)\n",
    "GlobalTrainingLoss = 0.0\n",
    "GlobalValidationLoss = 0.0\n",
    "\n",
    "# Type of Testing\n",
    "LocationBasedValidation = False\n",
    "LocationValidationFraction = 0.0\n",
    "LocationTrainingfraction = 1.0\n",
    "RestartLocationBasedValidation = False\n",
    "\n",
    "global SeparateValandTrainingPlots\n",
    "SeparateValandTrainingPlots = True\n",
    "Plotsplitsize = -1 # if > 1 split time in plots\n",
    "\n",
    "GarbageCollect = True\n",
    "GarbageCollectionLimit = 0\n",
    "\n",
    "current_time = timenow()\n",
    "print(startbold + startred + current_time + ' ' + f'{RunName} {RunComment}' + resetfonts)\n",
    "\n",
    "Earthquake = True\n"
   ]
  },
  {
   "cell_type": "markdown",
   "metadata": {},
   "source": [
    "## Define input structure\n",
    "\n",
    "Read in data and set it up for Tensorflow with training and validation\n"
   ]
  },
  {
   "cell_type": "markdown",
   "metadata": {},
   "source": [
    "Set train_examples, val_examples as science training and validatioon set.\n",
    "\n",
    "The shuffling of Science Data needs some care. We have ***Tseq*** * size of {[Num_Seq][Nloc]} locations in each sample. In simplease case the last is just a decomposition over location; not over time. Let's Nloc-sel be number of locations per sample. It will be helpful if Nloc-sel is divisable by 2. \n",
    "\n",
    "Perhaps Nloc-sel = 2 6 or 10 is reasonable.\n",
    "\n",
    "Then you shuffle locations every epoch and divide them into groups of size Nloc-sel with 50% overlap so you get locations\n",
    "\n",
    "0 1 2 3 4 5; \n",
    "\n",
    "3 4 5 6 7 8; \n",
    "\n",
    "6 7 8 9 10 11 etc.\n",
    "\n",
    "Every locations appears twice in an epoch (for each time value). You need to randomly add locations at end of sequence so it is divisiuble by Nloc-sel e.g add 4 random positions to the end if Nloc=110 and Nloc-sel = 6. Note last group of 6 has members 112 113 114 0 1 2\n",
    "\n",
    "After spatial structure set up, randomly shuffle in Num_Seq where there is an argument to do all locations for a partcular time value together.\n",
    "\n",
    "For validation, it is probably best to select validation location before chopping them into groups of size Nloc-sel\n",
    "\n",
    "How one groups locations for inference is not clear. One idea is to take trained network and use it to find for each location which other locations have the most attention with it. Use those locations in  prediction"
   ]
  },
  {
   "cell_type": "markdown",
   "metadata": {},
   "source": [
    "More general input. \n",
    "NaN allowed value\n",
    "\n",
    "* Number time values\n",
    "* Number locations\n",
    "* Number driving values\n",
    "* Number predicted values\n",
    "\n",
    "For COVID driving same as predicted\n",
    "\n",
    "* a) Clean up >=0 daily\n",
    "* b) Normalize\n",
    "* c) Add Futures\n",
    "* d) Add time/location encoding\n"
   ]
  },
  {
   "cell_type": "markdown",
   "metadata": {},
   "source": [
    "### Setup File Systems"
   ]
  },
  {
   "cell_type": "code",
   "execution_count": null,
   "metadata": {},
   "outputs": [],
   "source": [
    "if in_colab:\n",
    "    # find the data\n",
    "    COLABROOTDIR=\"/content/gdrive/My Drive/Colab Datasets\"\n",
    "elif in_interactive_notebook:\n",
    "    COLABROOTDIR = config[\"system\"][\"notebook\"][\"colabrootdir\"]\n",
    "else:\n",
    "    # base_path = f'{config[\"run\"][\"workdir\"]}'\n",
    "    base_path = f'{config[\"run\"][\"filesystem\"]}/mlcommons' \\\n",
    "                f'/{config[\"experiment\"][\"TFTTransformerepochs\"]}' \\\n",
    "                f'/{config[\"experiment\"][\"repeat\"]}'\n",
    "\n",
    "    COLABROOTDIR = f'{base_path}/{config[\"run\"][\"datadir\"]}'\n",
    "\n",
    "print (COLABROOTDIR)\n",
    "\n",
    "if not os.path.exists(COLABROOTDIR):\n",
    "    Console.error(f\"Missing data directory: {COLABROOTDIR}\")\n",
    "    sys.exit(1)\n",
    "\n",
    "if not os.path.exists(f'{COLABROOTDIR}/EarthquakeDec2020/Outputs'):\n",
    "    Shell.mkdir(f'{COLABROOTDIR}/EarthquakeDec2020/Outputs')\n",
    "\n",
    "os.environ[\"COLABROOTDIR\"] = COLABROOTDIR\n",
    "APPLDIR=f\"{COLABROOTDIR}/EarthquakeDec2020\"\n",
    "GRAPHICSDIR=f\"{APPLDIR}/Outputs\"\n",
    "CHECKPOINTDIR = f\"{APPLDIR}/checkpoints/{RunName}dir/\"\n",
    "Shell.mkdir(CHECKPOINTDIR)\n",
    "print(f'Checkpoint set up in directory {CHECKPOINTDIR}')\n",
    "\n",
    "config['checkpointdir'] = CHECKPOINTDIR\n",
    "config['appldir'] = APPLDIR\n",
    "config['colabrootdir'] = COLABROOTDIR\n",
    "\n",
    "print(Printer.attribute(config))\n",
    "TIME_stop(\"INIT\", mllog_key=\"INIT_STOP\")"
   ]
  },
  {
   "cell_type": "markdown",
   "metadata": {},
   "source": [
    "### Space Filling Curves"
   ]
  },
  {
   "cell_type": "code",
   "execution_count": null,
   "metadata": {},
   "outputs": [],
   "source": [
    "\n",
    "StopWatch.event(\"gilbert2d_Graph_Done\")\n",
    "StopWatch.event(\"faults_ndarray_Graph_Done\")\n",
    "\n"
   ]
  },
  {
   "cell_type": "markdown",
   "metadata": {},
   "source": [
    "# CELL READ DATA"
   ]
  },
  {
   "cell_type": "code",
   "execution_count": null,
   "metadata": {},
   "outputs": [],
   "source": [
    "\n",
    "# Daily Read in Version\n",
    "TIME_start(\"EVAL\", mllog_key=\"EVAL_START\")\n",
    "TIME_start(\"PLOTS\")\n",
    "TIME_start(\"CELL_READ_DATA\")\n",
    "TIME_start(\"SPACE_FILLING_CURVE\")\n",
    "TIME_stop(\"SPACE_FILLING_CURVE\")\n",
    "StopWatch.event(\"Observables_summed_over_space_Plotted\")\n",
    "TIME_stop(\"CELL_READ_DATA\")"
   ]
  },
  {
   "cell_type": "markdown",
   "metadata": {},
   "source": [
    "### Earthquake Eigensystems"
   ]
  },
  {
   "cell_type": "code",
   "execution_count": null,
   "metadata": {},
   "outputs": [],
   "source": []
  },
  {
   "cell_type": "code",
   "execution_count": null,
   "outputs": [],
   "source": [
    "progress(progress=2, filename=filename)"
   ],
   "metadata": {
    "collapsed": false
   }
  },
  {
   "cell_type": "markdown",
   "metadata": {},
   "source": [
    "### Multiplicity Data"
   ]
  },
  {
   "cell_type": "code",
   "execution_count": null,
   "metadata": {},
   "outputs": [],
   "source": [
    "TIME_start(\"MULTIPLICITY_DATA\")\n"
   ]
  },
  {
   "cell_type": "code",
   "execution_count": null,
   "metadata": {},
   "outputs": [],
   "source": [
    "\n",
    "#StopWatch.stop(f\"QRegions_Graph_Done_jplot\", mllog_key=\"EVAL_STOP\")\n",
    "\n",
    "StopWatch.event(f\"QRegions_Graph_Done_jplot\")\n",
    "StopWatch.event(f\"_Graph_Done event_num:\")\n",
    "\n",
    "StopWatch.event(f\"_Graph_Done\")\n",
    "\n",
    "StopWatch.event(f\"2_Graph_Done\")\n",
    "\n",
    "StopWatch.event(f\"3_Graph_Done\")\n",
    "\n",
    "\n",
    "StopWatch.event(f\"4_Graph_Done\")\n",
    "\n",
    "\n",
    "StopWatch.event(f\"5_Graph_Done\")\n",
    "\n",
    "\n",
    "TIME_stop(\"MULTIPLICITY_DATA\")\n",
    "# progress"
   ]
  },
  {
   "cell_type": "markdown",
   "metadata": {},
   "source": [
    "### End of Earthquake. Reset Timing"
   ]
  },
  {
   "cell_type": "code",
   "execution_count": null,
   "outputs": [],
   "source": [
    "progress(progress=10, filename=filename)"
   ],
   "metadata": {
    "collapsed": false
   }
  },
  {
   "cell_type": "code",
   "execution_count": null,
   "metadata": {},
   "outputs": [],
   "source": []
  },
  {
   "cell_type": "markdown",
   "metadata": {},
   "source": [
    "### Set Earthquake Execution Mode"
   ]
  },
  {
   "cell_type": "code",
   "execution_count": null,
   "metadata": {},
   "outputs": [],
   "source": []
  },
  {
   "cell_type": "markdown",
   "metadata": {},
   "source": [
    "### Plot Earthquake Images"
   ]
  },
  {
   "cell_type": "code",
   "execution_count": null,
   "metadata": {},
   "outputs": [],
   "source": [
    "StopWatch.event(f\"fault_discovery\")\n",
    "\n",
    "StopWatch.event('Full_Magnitude_Ranges')\n",
    "\n",
    "StopWatch.event(f'Local_Magnitude_Ranges_')\n",
    "\n",
    "StopWatch.event(\"PLOTTED_EARTHQUAKE_IMAGES\")\n",
    "TIME_stop(\"PLOTS\")"
   ]
  },
  {
   "cell_type": "markdown",
   "metadata": {},
   "source": [
    "### Read and setup NIH Covariates August 2020 and January, April 2021 Data\n",
    "\n",
    "new collection of time dependent covariates (even if constant).\n",
    "\n",
    "cases and deaths and location property from previous data\n"
   ]
  },
  {
   "cell_type": "markdown",
   "metadata": {},
   "source": [
    "## Process Input Data  in various ways\n",
    "\n"
   ]
  },
  {
   "cell_type": "markdown",
   "metadata": {},
   "source": [
    "### Set TFT Mode"
   ]
  },
  {
   "cell_type": "code",
   "execution_count": null,
   "metadata": {},
   "outputs": [],
   "source": []
  },
  {
   "cell_type": "markdown",
   "metadata": {},
   "source": [
    "### Convert Cumulative to Daily"
   ]
  },
  {
   "cell_type": "code",
   "execution_count": null,
   "metadata": {},
   "outputs": [],
   "source": []
  },
  {
   "cell_type": "markdown",
   "metadata": {},
   "source": [
    "### Normalize All Static and Dynamic Properties\n",
    "\n",
    "for Static Properties BasicInputStaticProps[Nloc,NpropperTimeStatic] converts to NormedInputStaticProps[Nloc,NpropperTimeStatic]"
   ]
  },
  {
   "cell_type": "code",
   "execution_count": null,
   "metadata": {},
   "outputs": [],
   "source": []
  },
  {
   "cell_type": "markdown",
   "metadata": {},
   "source": [
    "### Set up Futures\n",
    "\n",
    "-- currently at unit time level "
   ]
  },
  {
   "cell_type": "code",
   "execution_count": null,
   "metadata": {},
   "outputs": [],
   "source": []
  },
  {
   "cell_type": "markdown",
   "metadata": {},
   "source": [
    "### Set up mappings of locations\n",
    "\n",
    "In next cell, we map locations for BEFORE location etc added\n",
    "\n",
    "In cell after that we do same for sequences"
   ]
  },
  {
   "cell_type": "code",
   "execution_count": null,
   "metadata": {},
   "outputs": [],
   "source": []
  },
  {
   "cell_type": "markdown",
   "metadata": {},
   "source": [
    "###Property and Prediction  Data Structures\n",
    "\n",
    "Two important Lists Properties and Predictions that are related\n",
    "\n",
    " * Data stored in series is for properties, the calculated value occuring at or ending that day\n",
    " * For predictions, the data is the calculated value from that date or later. \n",
    "\n",
    " * We store data labelled by time so that\n",
    "  * for inputs we use time 0 upto last value - 1 i.e. position [length of array - 1]\n",
    "  * for outputs (predictions) with sequence Tseq, we use array locations [Tseq] to [length of array -1]\n",
    "  * This implies Num_Seq = Num_Time - Tseq\n",
    "\n",
    "\n",
    "**Properties**\n",
    "\n",
    "Everything appears in Property list -- both input and output (predicted)\n",
    "DynamicPropertyTimeSeries holds input property time series where value is value at that time using data before this time for aggregations\n",
    "  * NpropperTimeStatic is the number of static properties -- typically read in or calculated from input information\n",
    "  * NpropperTimeDynamicInput is total number of input time series\n",
    "  * NpropperTimeDynamicCalculated is total number of calculated dynamic quantities  used in Time series analysis as input properties and/or output predictions\n",
    "  * NpropperTimeDynamic = NpropperTimeDynamicInput + NpropperTimeDynamicCalculated ONLY includes input properties\n",
    "  * NpropperTime = NpropperTimeStatic + NpropperTimeDynamic will not include futures and NOT include calculated predictions\n",
    "  * InputPropertyNames is a list of size NpropperTime holding names\n",
    "  * NpropperTimeMAX = NpropperTime + NumTimeSeriesCalculated has calculated predictions following input properties ignoring futures \n",
    "  * QuantityStatistics has 7 statistics used in normalizing for NpropperTimeMAX properties\n",
    "  * Normalization takes NpropperTimeStatic static features in BasicInputStaticProps and stores in NormedInputStaticProps\n",
    "  * Normalization takes NpropperTimeDynamicInput dynamic features in BasicInputTimeSeries and stores in NormedInputTimeSeries\n",
    "  * Normalization takes NpropperTimeDynamicCalculated dynamic features in DynamicPropertyTimeSeries and stores in NormedDynamicPropertyTimeSeries\n",
    "\n",
    "**Predictions**\n",
    "\n",
    " * NumpredbasicperTime can be 1 upto NpropperTimeDynamic and are part of dynamic input series. It includes input values that are to be predicted (these MUST be at start) plus NumTimeSeriesCalculated calculated series\n",
    " * NumpredFuturedperTime is <= NumpredbasicperTime and is the number of input dynamic series that are futured\n",
    " * NumTimeSeriesCalculated is number of calculated (not as futures) time series stored in CalculatedTimeSeries and names in NamespredCalculated\n",
    " * Typically NumpredbasicperTime = NumTimeSeriesCalculated + NumpredFuturedperTime (**Currently this is assumed**)\n",
    " * Normalization takes NumTimeSeriesCalculated calculated series in CalculatedTimeSeries and stores in NormedCalculatedTimeSeries\n",
    " * Predictions per Time are  NpredperTime = NumpredbasicperTime + NumpredFuturedperTime*LengthFutures\n",
    " * Predictions per sequence Npredperseq = NpredperTime\n",
    "\n"
   ]
  },
  {
   "cell_type": "markdown",
   "metadata": {},
   "source": [
    "### Set Requested Properties Predictions Encodings"
   ]
  },
  {
   "cell_type": "code",
   "execution_count": null,
   "metadata": {},
   "outputs": [],
   "source": []
  },
  {
   "cell_type": "markdown",
   "metadata": {},
   "source": [
    "### Choose Input and Predicted Quantities"
   ]
  },
  {
   "cell_type": "code",
   "execution_count": null,
   "metadata": {},
   "outputs": [],
   "source": []
  },
  {
   "cell_type": "markdown",
   "metadata": {},
   "source": [
    "### Calculate Futures\n",
    "\n",
    "Start Predictions"
   ]
  },
  {
   "cell_type": "code",
   "execution_count": null,
   "metadata": {},
   "outputs": [],
   "source": []
  },
  {
   "cell_type": "markdown",
   "metadata": {},
   "source": [
    "### Set up Predictions \n",
    "\n",
    "first for time arrays; we will extend to sequences next. Sequences include the predictions for final time in sequence.\n",
    "\n",
    "This is prediction for sequence ending one day before the labelling time index. So sequence must end one unit before last time value\n",
    "\n",
    "Note this is  \"pure forecast\" which are of quantities used in driving data allowing us to iitialize prediction to input\n",
    "\n",
    "NaN represents non existent data"
   ]
  },
  {
   "cell_type": "code",
   "execution_count": null,
   "metadata": {},
   "outputs": [],
   "source": []
  },
  {
   "cell_type": "markdown",
   "metadata": {},
   "source": [
    "### Clean-up Input quantities#################"
   ]
  },
  {
   "cell_type": "code",
   "execution_count": null,
   "metadata": {},
   "outputs": [],
   "source": []
  },
  {
   "cell_type": "markdown",
   "metadata": {},
   "source": [
    "###Setup Sequences and UseTFTModel"
   ]
  },
  {
   "cell_type": "code",
   "execution_count": null,
   "metadata": {},
   "outputs": [],
   "source": []
  },
  {
   "cell_type": "markdown",
   "metadata": {},
   "source": [
    "###Generate Sequences from Time labelled data \n",
    "given Tseq set above"
   ]
  },
  {
   "cell_type": "code",
   "execution_count": null,
   "metadata": {},
   "outputs": [],
   "source": []
  },
  {
   "cell_type": "markdown",
   "metadata": {},
   "source": [
    "### Define Possible Temporal and Spatial Positional Encodings"
   ]
  },
  {
   "cell_type": "code",
   "execution_count": null,
   "metadata": {},
   "outputs": [],
   "source": []
  },
  {
   "cell_type": "code",
   "execution_count": null,
   "outputs": [],
   "source": [
    "progress(progress=20, filename=filename)"
   ],
   "metadata": {
    "collapsed": false
   }
  },
  {
   "cell_type": "markdown",
   "metadata": {},
   "source": [
    "### Add in Temporal and Spatial Encoding"
   ]
  },
  {
   "cell_type": "code",
   "execution_count": null,
   "metadata": {},
   "outputs": [],
   "source": []
  },
  {
   "cell_type": "markdown",
   "metadata": {},
   "source": [
    "###Set up NNSE and Plots including Futures"
   ]
  },
  {
   "cell_type": "code",
   "execution_count": null,
   "metadata": {},
   "outputs": [],
   "source": []
  },
  {
   "cell_type": "markdown",
   "metadata": {},
   "source": [
    "## Location Based Validation"
   ]
  },
  {
   "cell_type": "code",
   "execution_count": null,
   "metadata": {},
   "outputs": [],
   "source": []
  },
  {
   "cell_type": "markdown",
   "metadata": {},
   "source": [
    "## LSTM Control Parameters EDIT"
   ]
  },
  {
   "cell_type": "code",
   "execution_count": null,
   "metadata": {},
   "outputs": [],
   "source": []
  },
  {
   "cell_type": "markdown",
   "metadata": {},
   "source": [
    "## Important Parameters defining Transformer project EDIT"
   ]
  },
  {
   "cell_type": "code",
   "execution_count": null,
   "metadata": {},
   "outputs": [],
   "source": []
  },
  {
   "cell_type": "markdown",
   "metadata": {},
   "source": [
    "## General Control Parameters"
   ]
  },
  {
   "cell_type": "code",
   "execution_count": null,
   "metadata": {},
   "outputs": [],
   "source": []
  },
  {
   "cell_type": "code",
   "execution_count": null,
   "metadata": {},
   "outputs": [],
   "source": [
    "\n",
    "TIME_stop(\"EVAL\")"
   ]
  },
  {
   "cell_type": "markdown",
   "metadata": {},
   "source": [
    "## Useful Time series utilities"
   ]
  },
  {
   "cell_type": "markdown",
   "metadata": {},
   "source": [
    "### DLprediction\n",
    "\n",
    "Prediction and Visualization LSTM+Transformer"
   ]
  },
  {
   "cell_type": "code",
   "execution_count": null,
   "metadata": {},
   "outputs": [],
   "source": [
    "StopWatch.start('DLprediction Iteration')\n",
    "StopWatch.stop('DLprediction Iteration')\n",
    "StopWatch.start('DLprediction Model Fit')\n",
    "StopWatch.stop('DLprediction Model Fit')\n",
    "StopWatch.start('DLprediction Performance Loss')\n",
    "StopWatch.stop('DLprediction Performance Loss')\n",
    "StopWatch.event(f\"RunTFTCustomVersion MSE_\")\n"
   ]
  },
  {
   "cell_type": "markdown",
   "metadata": {},
   "source": [
    "### Spatial Earthquake Plots"
   ]
  },
  {
   "cell_type": "code",
   "execution_count": null,
   "metadata": {},
   "outputs": [],
   "source": []
  },
  {
   "cell_type": "markdown",
   "metadata": {},
   "source": [
    "###Organize Location v Time Plots"
   ]
  },
  {
   "cell_type": "code",
   "execution_count": null,
   "metadata": {},
   "outputs": [],
   "source": []
  },
  {
   "cell_type": "markdown",
   "metadata": {},
   "source": []
  },
  {
   "cell_type": "markdown",
   "metadata": {},
   "source": [
    "### Summed & By Location Plots"
   ]
  },
  {
   "cell_type": "code",
   "execution_count": null,
   "metadata": {},
   "outputs": [],
   "source": [
    "TIME_start(f\"DLResults_Graphs timer_num\")\n",
    "StopWatch.event(f\"RunTFTCustomVersion DLResults Graph Title event_num:\")\n",
    "\n",
    "TIME_stop(f\"DLResults_Graphs timer_num\")\n",
    "StopWatch.event(f\"prediction_plot_ event_num:\")\n",
    "StopWatch.event(f\"earthquake_pred_ event_num:\")\n",
    "\n",
    "StopWatch.event(f\"predvsreal_ event_num:\")\n"
   ]
  },
  {
   "cell_type": "code",
   "execution_count": null,
   "outputs": [],
   "source": [
    "progress(progress=40, filename=filename)"
   ],
   "metadata": {
    "collapsed": false
   }
  },
  {
   "cell_type": "markdown",
   "metadata": {},
   "source": [
    "### Calculate\n",
    "\n",
    "\n"
   ]
  },
  {
   "cell_type": "code",
   "execution_count": null,
   "metadata": {},
   "outputs": [],
   "source": [
    "\n",
    "StopWatch.event(f\"NNSE event_num:\")\n"
   ]
  },
  {
   "cell_type": "code",
   "execution_count": null,
   "metadata": {},
   "outputs": [],
   "source": []
  },
  {
   "cell_type": "markdown",
   "metadata": {},
   "source": [
    "### Custom Loss Functions"
   ]
  },
  {
   "cell_type": "code",
   "execution_count": null,
   "metadata": {},
   "outputs": [],
   "source": []
  },
  {
   "cell_type": "markdown",
   "metadata": {},
   "source": [
    "### Utility: Shuffle, Finalize\n"
   ]
  },
  {
   "cell_type": "code",
   "execution_count": null,
   "metadata": {},
   "outputs": [],
   "source": [
    "StopWatch.event(f\"_Graph_Done event_num:\")\n"
   ]
  },
  {
   "cell_type": "markdown",
   "metadata": {},
   "source": [
    "### DLPrediction2E printloss ?DEL"
   ]
  },
  {
   "cell_type": "code",
   "execution_count": null,
   "metadata": {},
   "outputs": [],
   "source": []
  },
  {
   "cell_type": "markdown",
   "metadata": {},
   "source": [
    "### DLPrediction2F Sensitivity"
   ]
  },
  {
   "cell_type": "code",
   "execution_count": null,
   "metadata": {},
   "outputs": [],
   "source": []
  },
  {
   "cell_type": "markdown",
   "metadata": {},
   "source": [
    "# TFT Model"
   ]
  },
  {
   "cell_type": "markdown",
   "metadata": {},
   "source": [
    "##Set up TFT"
   ]
  },
  {
   "cell_type": "markdown",
   "metadata": {},
   "source": [
    "###Data and Input Types"
   ]
  },
  {
   "cell_type": "code",
   "execution_count": null,
   "metadata": {},
   "outputs": [],
   "source": []
  },
  {
   "cell_type": "markdown",
   "metadata": {},
   "source": [
    "###Convert FFFFWNPF to TFT"
   ]
  },
  {
   "cell_type": "code",
   "execution_count": null,
   "metadata": {},
   "outputs": [],
   "source": [
    "\n",
    "StopWatch.event(f\"Predicted_Data_\")\n",
    "StopWatch.event(f\"TFTdfTotalSpec event_num:\")\n",
    "\n"
   ]
  },
  {
   "cell_type": "markdown",
   "metadata": {},
   "source": [
    "###TFT Setup"
   ]
  },
  {
   "cell_type": "code",
   "execution_count": null,
   "metadata": {},
   "outputs": [],
   "source": []
  },
  {
   "cell_type": "markdown",
   "metadata": {},
   "source": [
    "###Base Formatter"
   ]
  },
  {
   "cell_type": "code",
   "execution_count": null,
   "metadata": {},
   "outputs": [],
   "source": [
    "\n"
   ]
  },
  {
   "cell_type": "markdown",
   "metadata": {},
   "source": [
    "###TFT FFFFWNPF Formatter"
   ]
  },
  {
   "cell_type": "code",
   "execution_count": null,
   "metadata": {},
   "outputs": [],
   "source": []
  },
  {
   "cell_type": "markdown",
   "metadata": {},
   "source": [
    "###Set TFT Parameter Dictionary"
   ]
  },
  {
   "cell_type": "code",
   "execution_count": null,
   "metadata": {},
   "outputs": [],
   "source": []
  },
  {
   "cell_type": "code",
   "execution_count": null,
   "outputs": [],
   "source": [
    "progress(progress=60, filename=filename)"
   ],
   "metadata": {
    "collapsed": false
   }
  },
  {
   "cell_type": "markdown",
   "metadata": {},
   "source": [
    "###TFTTools"
   ]
  },
  {
   "cell_type": "code",
   "execution_count": null,
   "metadata": {},
   "outputs": [],
   "source": []
  },
  {
   "cell_type": "markdown",
   "metadata": {},
   "source": [
    "### Setup  Classic TFT"
   ]
  },
  {
   "cell_type": "code",
   "execution_count": null,
   "metadata": {},
   "outputs": [],
   "source": []
  },
  {
   "cell_type": "markdown",
   "metadata": {},
   "source": [
    "###Read TFT Data"
   ]
  },
  {
   "cell_type": "code",
   "execution_count": null,
   "metadata": {},
   "outputs": [],
   "source": [
    "StopWatch.start(\"data head setup train\")\n",
    "StopWatch.stop(\"data head setup train\")\n",
    "StopWatch.start(\"data head setup valid\")\n",
    "StopWatch.stop(\"data head setup valid\")\n",
    "StopWatch.start(\"data head setup test\")\n",
    "StopWatch.stop(\"data head setup test\")\n",
    "StopWatch.start(\"data head setup\")\n",
    "StopWatch.stop(\"data head setup\")\n"
   ]
  },
  {
   "cell_type": "code",
   "execution_count": null,
   "metadata": {},
   "outputs": [],
   "source": []
  },
  {
   "cell_type": "markdown",
   "metadata": {},
   "source": [
    "##Predict TFT "
   ]
  },
  {
   "cell_type": "code",
   "execution_count": null,
   "metadata": {},
   "outputs": [],
   "source": []
  },
  {
   "cell_type": "code",
   "execution_count": null,
   "metadata": {},
   "outputs": [],
   "source": []
  },
  {
   "cell_type": "markdown",
   "metadata": {},
   "source": [
    "###Visualize TFT\n",
    "\n",
    "Called from finalizeDL"
   ]
  },
  {
   "cell_type": "code",
   "execution_count": null,
   "metadata": {},
   "outputs": [],
   "source": [
    "TIME_start(f\"RunTFTCustomVersion bestfit finalize VisualizeTFT TFTSaveandInterpret setFFFFmapping timer_num:\")\n",
    "TIME_stop(f\"RunTFTCustomVersion bestfit finalize VisualizeTFT TFTSaveandInterpret setFFFFmapping timer_num:\")\n",
    "TIME_start(f\"RunTFTCustomVersion bestfit finalize VisualizeTFT DLprediction timer_num:\")\n",
    "TIME_stop(f\"RunTFTCustomVersion bestfit finalize VisualizeTFT DLprediction timer_num:\")\n"
   ]
  },
  {
   "cell_type": "markdown",
   "metadata": {},
   "source": [
    "##TFT Routines"
   ]
  },
  {
   "cell_type": "markdown",
   "metadata": {},
   "source": [
    "### GLUplusskip: Gated Linear unit plus add and norm with Skip"
   ]
  },
  {
   "cell_type": "code",
   "execution_count": null,
   "metadata": {},
   "outputs": [],
   "source": []
  },
  {
   "cell_type": "markdown",
   "metadata": {},
   "source": [
    "###Linear Layer (Dense)"
   ]
  },
  {
   "cell_type": "code",
   "execution_count": null,
   "metadata": {},
   "outputs": [],
   "source": []
  },
  {
   "cell_type": "markdown",
   "metadata": {},
   "source": [
    "###Apply MLP"
   ]
  },
  {
   "cell_type": "code",
   "execution_count": null,
   "metadata": {},
   "outputs": [],
   "source": []
  },
  {
   "cell_type": "markdown",
   "metadata": {},
   "source": [
    "###GRN Gated Residual Network"
   ]
  },
  {
   "cell_type": "code",
   "execution_count": null,
   "metadata": {},
   "outputs": [],
   "source": []
  },
  {
   "cell_type": "markdown",
   "metadata": {},
   "source": [
    "###Process Static Variables"
   ]
  },
  {
   "cell_type": "code",
   "execution_count": null,
   "metadata": {},
   "outputs": [],
   "source": []
  },
  {
   "cell_type": "markdown",
   "metadata": {},
   "source": [
    "###Process Dynamic Variables"
   ]
  },
  {
   "cell_type": "code",
   "execution_count": null,
   "metadata": {},
   "outputs": [],
   "source": []
  },
  {
   "cell_type": "markdown",
   "metadata": {},
   "source": [
    "###TFT LSTM"
   ]
  },
  {
   "cell_type": "code",
   "execution_count": null,
   "metadata": {},
   "outputs": [],
   "source": [
    "\n"
   ]
  },
  {
   "cell_type": "markdown",
   "metadata": {},
   "source": [
    "###TFT Multihead Temporal Attention"
   ]
  },
  {
   "cell_type": "code",
   "execution_count": null,
   "metadata": {},
   "outputs": [],
   "source": []
  },
  {
   "cell_type": "code",
   "execution_count": null,
   "metadata": {},
   "outputs": [],
   "source": []
  },
  {
   "cell_type": "code",
   "execution_count": null,
   "metadata": {},
   "outputs": [],
   "source": []
  },
  {
   "cell_type": "markdown",
   "metadata": {},
   "source": [
    "###TFTFullNetwork"
   ]
  },
  {
   "cell_type": "code",
   "execution_count": null,
   "metadata": {},
   "outputs": [],
   "source": []
  },
  {
   "cell_type": "code",
   "execution_count": null,
   "outputs": [],
   "source": [
    "progress(progress=70, filename=filename)"
   ],
   "metadata": {
    "collapsed": false
   }
  },
  {
   "cell_type": "markdown",
   "metadata": {},
   "source": [
    "##TFT Run & Output"
   ]
  },
  {
   "cell_type": "markdown",
   "metadata": {},
   "source": [
    "### General Utilities"
   ]
  },
  {
   "cell_type": "code",
   "execution_count": null,
   "metadata": {},
   "outputs": [],
   "source": []
  },
  {
   "cell_type": "markdown",
   "metadata": {},
   "source": [
    "### Tensorflow  Monitor"
   ]
  },
  {
   "cell_type": "code",
   "execution_count": null,
   "metadata": {},
   "outputs": [],
   "source": [
    "\n",
    "StopWatch.event(f\"RunTFTCustomVersion Epoch: event_num:\")\n",
    "\n",
    "StopWatch.event(f\"RunTFTCustomVersion Last Loss Best Loss event_num:\")\n",
    "StopWatch.event(f\"RunTFTCustomVersion Best Fit event_num:\")\n",
    "StopWatch.event(f\"RunTFTCustomVersion Best Fit event_num:\")\n"
   ]
  },
  {
   "cell_type": "markdown",
   "metadata": {},
   "source": [
    "###TFT Output"
   ]
  },
  {
   "cell_type": "code",
   "execution_count": null,
   "metadata": {},
   "outputs": [],
   "source": [
    "\n",
    "StopWatch.event(f\"RunTFTCustomVersion bestfit finalize make graph event_num:\")\n",
    "TIME_start(f\"RunTFTCustomVersion bestfit finalize TFTTestpredict timer_num:\")\n",
    "TIME_stop(f\"RunTFTCustomVersion bestfit finalize TFTTestpredict timer_num:\")\n",
    "TIME_start(f\"RunTFTCustomVersion bestfit finalize VisualizeTFT timer_num:\")\n",
    "StopWatch.event(f\"RunTFTCustomVersion bestfit finalize VisualizeTFT event_num:\")\n",
    "TIME_stop(f\"RunTFTCustomVersion bestfit finalize VisualizeTFT timer_num:\")\n"
   ]
  },
  {
   "cell_type": "code",
   "execution_count": null,
   "outputs": [],
   "source": [],
   "metadata": {
    "collapsed": false
   }
  },
  {
   "cell_type": "markdown",
   "metadata": {},
   "source": [
    "###TFTcustommodel\n",
    "\n",
    "Control Full TFT Network"
   ]
  },
  {
   "cell_type": "code",
   "execution_count": null,
   "metadata": {},
   "outputs": [],
   "source": []
  },
  {
   "cell_type": "markdown",
   "metadata": {},
   "source": [
    "### TFT Overall Batch Training\n",
    "\n",
    "* TIME not set explicitly\n",
    "* Weights allowed or not\n",
    "* Assumes TFTFullNetwork is full Network"
   ]
  },
  {
   "cell_type": "code",
   "execution_count": null,
   "metadata": {},
   "outputs": [],
   "source": [
    "\n",
    "TIME_start(f\"RunTFTCustomVersion init timer_num:\", mllog_key=\"BLOCK_START\")\n",
    "\n",
    "TIME_stop(f\"RunTFTCustomVersion init timer_num:\", mllog_key=\"BLOCK_STOP\")\n",
    "\n",
    "TIME_start(f\"RunTFTCustomVersion restore timer_num:\", mllog_key=\"BLOCK_START\")\n",
    "TIME_stop(f\"RunTFTCustomVersion restore timer_num:\")\n",
    "\n",
    "TIME_start(f\"RunTFTCustomVersion analysis timer_num:\", mllog_key=\"BLOCK_START\")\n",
    "TIME_stop(f\"RunTFTCustomVersion analysis timer_num:\", mllog_key=\"BLOCK_STOP\")\n",
    "TIME_start(f\"RunTFTCustomVersion train timer_num:\", mllog_key=\"EVAL_START\")\n",
    "TIME_start(f\"RunTFTCustomVersion train Epoch: timer_num:\", mllog_key=\"EPOCH_START\")\n",
    "StopWatch.event(f\"RunTFTCustomVersion train Epoch:-start event_num:\")\n",
    "StopWatch.start('DLTFTCustom TrainTest Split')\n",
    "StopWatch.stop('DLTFTCustom TrainTest Split')\n",
    "StopWatch.start('DLTFTCustom Reshape Data')\n",
    "StopWatch.stop('DLTFTCustom Reshape Data')\n",
    "StopWatch.start('DLTFTCustom Train Data')\n",
    "StopWatch.stop('DLTFTCustom Train Data')\n",
    "StopWatch.event(f\"RunTFTCustomVersion train Epoch:-stop event_num:\")\n",
    "TIME_stop(f\"RunTFTCustomVersion train Epoch: timer_num:\", mllog_key=\"EPOCH_STOP\")\n",
    "\n",
    "TIME_start(f\"RunTFTCustomVersion validation Epoch: timer_num:\", mllog_key=\"EVAL_START\")\n",
    "TIME_start(f\"RunTFTCustomVersion validation bestfit Epoch: timer_num:\")\n",
    "StopWatch.start('TFTSymbolicWindows')\n",
    "StopWatch.start('label1')\n",
    "StopWatch.stop('label1')\n",
    "StopWatch.start('label3')\n",
    "StopWatch.stop('label3')\n",
    "StopWatch.start('label2')\n",
    "StopWatch.stop('label2')\n",
    "StopWatch.stop('TFTSymbolicWindows')\n",
    "\n",
    "TIME_stop(f\"RunTFTCustomVersion validation Epoch: timer_num:\", mllog_key=\"EVAL_STOP\")\n",
    "\n",
    "# Decide on best fit\n",
    "TIME_start(f\"RunTFTCustomVersion bestfit Epoch: timer_num:\")\n",
    "\n",
    "TIME_stop(f\"RunTFTCustomVersion bestfit Epoch: timer_num:\")\n",
    "TIME_stop(f\"RunTFTCustomVersion validation bestfit Epoch: timer_num:\")\n",
    "TIME_stop(f\"RunTFTCustomVersion bestfit Epoch: timer_num:\")\n",
    "TIME_stop(f\"RunTFTCustomVersion validation bestfit Epoch: timer_num:\")\n",
    "TIME_stop(f\"RunTFTCustomVersion train timer_num:\", mllog_key=\"EVAL_STOP\")\n",
    "TIME_start(f\"RunTFTCustomVersion bestfit timer_num:\", mllog_key=\"BLOCK_START\")\n",
    "\n",
    "TIME_start(f\"RunTFTCustomVersion bestfit TFTTrainingMonitor timer_num:\", mllog_key=\"BLOCK_START\")\n",
    "TIME_stop(f\"RunTFTCustomVersion bestfit TFTTrainingMonitor timer_num:\", mllog_key=\"BLOCK_STOP\")\n",
    "\n",
    "TIME_start(f\"RunTFTCustomVersion bestfit Checkpointfinalstate timer_num:\", mllog_key=\"BLOCK_START\")\n",
    "TIME_stop(f\"RunTFTCustomVersion bestfit Checkpointfinalstate timer_num:\", mllog_key=\"BLOCK_STOP\")\n",
    "StopWatch.event(f\"RunTFTCustomVersion Train Loss Val Loss event_num:\")\n",
    "TIME_start(f\"RunTFTCustomVersion bestfit summary timer_num:\")\n",
    "TIME_stop(f\"RunTFTCustomVersion bestfit summary timer_num:\")\n",
    "\n",
    "TIME_start(f\"RunTFTCustomVersion bestfit network summary timer_num:\")\n",
    "TIME_stop(f\"RunTFTCustomVersion bestfit network summary timer_num:\")\n",
    "\n",
    "\n",
    "TIME_start(f\"RunTFTCustomVersion bestfit TFTLSTMEncoder summary timer_num:\")\n",
    "TIME_stop(f\"RunTFTCustomVersion bestfit TFTLSTMEncoder summary timer_num:\")\n",
    "\n",
    "TIME_start(f\"RunTFTCustomVersion bestfit TFTLSTMDecoder summary timer_num:\")\n",
    "TIME_stop(f\"RunTFTCustomVersion bestfit TFTLSTMDecoder summary timer_num:\")\n",
    "\n",
    "TIME_start(f\"RunTFTCustomVersion bestfit Network attn layer summary timer_num:\")\n",
    "TIME_stop(f\"RunTFTCustomVersion bestfit Network attn layer summary timer_num:\")\n",
    "\n",
    "TIME_start(f\"RunTFTCustomVersion bestfit Network attn layer attention summary timer_num:\")\n",
    "TIME_stop(f\"RunTFTCustomVersion bestfit Network attn layer attention summary timer_num:\")\n",
    "TIME_start(f\"RunTFTCustomVersion bestfit Model build graph timer_num:\")\n",
    "TIME_stop(f\"RunTFTCustomVersion bestfit Model build graph timer_num:\")\n",
    "\n",
    "TIME_start(f\"RunTFTCustomVersion bestfit Network build graph timer_num:\")\n",
    "TIME_stop(f\"RunTFTCustomVersion bestfit Network build graph timer_num:\")\n",
    "\n",
    "TIME_start(f\"RunTFTCustomVersion bestfit finalize timer_num:\")\n",
    "\n",
    "TIME_stop(f\"RunTFTCustomVersion bestfit finalize timer_num:\")\n",
    "\n",
    "TIME_stop(f\"RunTFTCustomVersion bestfit timer_num:\", mllog_key=\"BLOCK_STOP\")\n"
   ]
  },
  {
   "cell_type": "markdown",
   "metadata": {},
   "source": []
  },
  {
   "cell_type": "markdown",
   "metadata": {},
   "source": [
    "\n",
    "###Run TFT"
   ]
  },
  {
   "cell_type": "code",
   "execution_count": null,
   "metadata": {},
   "outputs": [],
   "source": [
    "# Run TFT Only\n",
    "TIME_start(\"RunTFTCustomVersion tft only\")\n",
    "\n",
    "TIME_stop(\"RunTFTCustomVersion tft only\")\n"
   ]
  },
  {
   "cell_type": "code",
   "execution_count": null,
   "metadata": {},
   "outputs": [],
   "source": []
  },
  {
   "cell_type": "code",
   "execution_count": null,
   "outputs": [],
   "source": [
    "progress(progress=80, filename=filename)"
   ],
   "metadata": {
    "collapsed": false
   }
  },
  {
   "cell_type": "code",
   "execution_count": null,
   "metadata": {},
   "outputs": [],
   "source": [
    "TIME_start(\"RunTFTCustomVersion print\")\n",
    "TIME_stop(\"RunTFTCustomVersion print\")\n",
    "\n",
    "TIME_start(\"RunTFTCustomVersion A\")\n",
    "TIME_stop(\"RunTFTCustomVersion A\")"
   ]
  },
  {
   "cell_type": "code",
   "execution_count": null,
   "metadata": {},
   "outputs": [],
   "source": [
    "StopWatch.stop(\"total\", mllog_key=\"RUN_STOP\")\n",
    "StopWatch.benchmark()"
   ]
  },
  {
   "cell_type": "code",
   "execution_count": null,
   "metadata": {},
   "outputs": [],
   "source": [
    "import re\n",
    "\n",
    "#StopWatch.event(config)\n",
    "#StopWatch.event(f\"gpu={}\")\n",
    "#StopWatch.benchmark(sysinfo=False, tag=\"This_is_final\")\n",
    "StopWatch.benchmark(sysinfo=False, attributes=\"short\")\n",
    "\n",
    "if in_rivanna:\n",
    "    print(str(sys.executable))\n",
    "    print(\"Run in Rivanna\")\n",
    "    test_localscratch = re.search('localscratch', str(sys.executable))\n",
    "    test_scratch = re.search('scratch', str(sys.executable))\n",
    "    test_project = re.search('project', str(sys.executable))\n",
    "    if test_localscratch != None:\n",
    "        print('Working Directory = ' + str(test_localscratch.group(0)))\n",
    "    if test_scratch != None:\n",
    "        print('Working Directory = ' + str(test_scratch.group(0)))\n",
    "    if test_project != None:\n",
    "        print('Working Directory = ' + str(test_project.group(0)))\n",
    "    print('Number of Epochs = ' + str(config['experiment']['TFTTransformerepochs']))\n",
    "    print('Card = ' + str(config['experiment']['card_name']))\n",
    "    print(\"Partition is \" + str(os.getenv('SLURM_JOB_PARTITION')))\n",
    "    print(\"Job ID is \" + str(os.getenv(\"SLURM_JOB_ID\")))"
   ]
  },
  {
   "cell_type": "code",
   "execution_count": null,
   "outputs": [],
   "source": [
    "StopWatch.status_submission(success=True)\n",
    "progress(progress=100, filename=filename)"
   ],
   "metadata": {
    "collapsed": false
   }
  },
  {
   "cell_type": "code",
   "execution_count": null,
   "metadata": {},
   "outputs": [],
   "source": [
    "sys.exit(0)"
   ]
  },
  {
   "cell_type": "markdown",
   "metadata": {
    "id": "w7sWeoGSNREO"
   },
   "source": [
    "#End modified TFT"
   ]
  }
 ],
 "metadata": {
  "accelerator": "GPU",
  "colab": {
   "collapsed_sections": [
    "6CdCNdQ_yGWV"
   ],
   "machine_shape": "hm",
   "name": "FFFFWNPFEARTHQ-newTFTv29",
   "provenance": []
  },
  "kernelspec": {
   "display_name": "Python 3 (ipykernel)",
   "language": "python",
   "name": "python3"
  },
  "language_info": {
   "codemirror_mode": {
    "name": "ipython",
    "version": 3
   },
   "file_extension": ".py",
   "mimetype": "text/x-python",
   "name": "python",
   "nbconvert_exporter": "python",
   "pygments_lexer": "ipython3",
   "version": "3.10.4"
  },
  "widgets": {
   "application/vnd.jupyter.widget-state+json": {
    "04db645a3ea4484687590011b78cf901": {
     "model_module": "@jupyter-widgets/controls",
     "model_module_version": "1.5.0",
     "model_name": "DescriptionStyleModel",
     "state": {
      "_model_module": "@jupyter-widgets/controls",
      "_model_module_version": "1.5.0",
      "_model_name": "DescriptionStyleModel",
      "_view_count": null,
      "_view_module": "@jupyter-widgets/base",
      "_view_module_version": "1.2.0",
      "_view_name": "StyleView",
      "description_width": ""
     }
    },
    "0634f0a96f5d406cae0d78a1b8f24346": {
     "model_module": "@jupyter-widgets/controls",
     "model_module_version": "1.5.0",
     "model_name": "HBoxModel",
     "state": {
      "_dom_classes": [],
      "_model_module": "@jupyter-widgets/controls",
      "_model_module_version": "1.5.0",
      "_model_name": "HBoxModel",
      "_view_count": null,
      "_view_module": "@jupyter-widgets/controls",
      "_view_module_version": "1.5.0",
      "_view_name": "HBoxView",
      "box_style": "",
      "children": [
       "IPY_MODEL_d03038f77d084d1b9b0e4f42b2ebb622",
       "IPY_MODEL_9b04396d9eb2420e9259b8573eef3b70",
       "IPY_MODEL_c23fefbc3cdd4ad38d1eb3f741ab1f51"
      ],
      "layout": "IPY_MODEL_f28ff11c09ab4843bfaacf725b997f95"
     }
    },
    "0a1d9b55698544a581539f34595b7755": {
     "model_module": "@jupyter-widgets/base",
     "model_module_version": "1.2.0",
     "model_name": "LayoutModel",
     "state": {
      "_model_module": "@jupyter-widgets/base",
      "_model_module_version": "1.2.0",
      "_model_name": "LayoutModel",
      "_view_count": null,
      "_view_module": "@jupyter-widgets/base",
      "_view_module_version": "1.2.0",
      "_view_name": "LayoutView",
      "align_content": null,
      "align_items": null,
      "align_self": null,
      "border": null,
      "bottom": null,
      "display": null,
      "flex": null,
      "flex_flow": null,
      "grid_area": null,
      "grid_auto_columns": null,
      "grid_auto_flow": null,
      "grid_auto_rows": null,
      "grid_column": null,
      "grid_gap": null,
      "grid_row": null,
      "grid_template_areas": null,
      "grid_template_columns": null,
      "grid_template_rows": null,
      "height": null,
      "justify_content": null,
      "justify_items": null,
      "left": null,
      "margin": null,
      "max_height": null,
      "max_width": null,
      "min_height": null,
      "min_width": null,
      "object_fit": null,
      "object_position": null,
      "order": null,
      "overflow": null,
      "overflow_x": null,
      "overflow_y": null,
      "padding": null,
      "right": null,
      "top": null,
      "visibility": null,
      "width": null
     }
    },
    "4c5a70fcb0e64de5892f41aabba46b81": {
     "model_module": "@jupyter-widgets/base",
     "model_module_version": "1.2.0",
     "model_name": "LayoutModel",
     "state": {
      "_model_module": "@jupyter-widgets/base",
      "_model_module_version": "1.2.0",
      "_model_name": "LayoutModel",
      "_view_count": null,
      "_view_module": "@jupyter-widgets/base",
      "_view_module_version": "1.2.0",
      "_view_name": "LayoutView",
      "align_content": null,
      "align_items": null,
      "align_self": null,
      "border": null,
      "bottom": null,
      "display": null,
      "flex": null,
      "flex_flow": null,
      "grid_area": null,
      "grid_auto_columns": null,
      "grid_auto_flow": null,
      "grid_auto_rows": null,
      "grid_column": null,
      "grid_gap": null,
      "grid_row": null,
      "grid_template_areas": null,
      "grid_template_columns": null,
      "grid_template_rows": null,
      "height": null,
      "justify_content": null,
      "justify_items": null,
      "left": null,
      "margin": null,
      "max_height": null,
      "max_width": null,
      "min_height": null,
      "min_width": null,
      "object_fit": null,
      "object_position": null,
      "order": null,
      "overflow": null,
      "overflow_x": null,
      "overflow_y": null,
      "padding": null,
      "right": null,
      "top": null,
      "visibility": null,
      "width": null
     }
    },
    "9b04396d9eb2420e9259b8573eef3b70": {
     "model_module": "@jupyter-widgets/controls",
     "model_module_version": "1.5.0",
     "model_name": "FloatProgressModel",
     "state": {
      "_dom_classes": [],
      "_model_module": "@jupyter-widgets/controls",
      "_model_module_version": "1.5.0",
      "_model_name": "FloatProgressModel",
      "_view_count": null,
      "_view_module": "@jupyter-widgets/controls",
      "_view_module_version": "1.5.0",
      "_view_name": "ProgressView",
      "bar_style": "",
      "description": "",
      "description_tooltip": null,
      "layout": "IPY_MODEL_4c5a70fcb0e64de5892f41aabba46b81",
      "max": 1775,
      "min": 0,
      "orientation": "horizontal",
      "style": "IPY_MODEL_ce660d6f798d472199837af0be65be0a",
      "value": 1775
     }
    },
    "bcee1a2685974293af383558e636e347": {
     "model_module": "@jupyter-widgets/controls",
     "model_module_version": "1.5.0",
     "model_name": "DescriptionStyleModel",
     "state": {
      "_model_module": "@jupyter-widgets/controls",
      "_model_module_version": "1.5.0",
      "_model_name": "DescriptionStyleModel",
      "_view_count": null,
      "_view_module": "@jupyter-widgets/base",
      "_view_module_version": "1.2.0",
      "_view_name": "StyleView",
      "description_width": ""
     }
    },
    "c23fefbc3cdd4ad38d1eb3f741ab1f51": {
     "model_module": "@jupyter-widgets/controls",
     "model_module_version": "1.5.0",
     "model_name": "HTMLModel",
     "state": {
      "_dom_classes": [],
      "_model_module": "@jupyter-widgets/controls",
      "_model_module_version": "1.5.0",
      "_model_name": "HTMLModel",
      "_view_count": null,
      "_view_module": "@jupyter-widgets/controls",
      "_view_module_version": "1.5.0",
      "_view_name": "HTMLView",
      "description": "",
      "description_tooltip": null,
      "layout": "IPY_MODEL_decf3f3a60c3460694dab0bd74a621a5",
      "placeholder": "​",
      "style": "IPY_MODEL_bcee1a2685974293af383558e636e347",
      "value": " 1775/1775 [30:38&lt;00:00,  4.73sequences/s, Call=1775, TotalLoss=0.00525]"
     }
    },
    "ce660d6f798d472199837af0be65be0a": {
     "model_module": "@jupyter-widgets/controls",
     "model_module_version": "1.5.0",
     "model_name": "ProgressStyleModel",
     "state": {
      "_model_module": "@jupyter-widgets/controls",
      "_model_module_version": "1.5.0",
      "_model_name": "ProgressStyleModel",
      "_view_count": null,
      "_view_module": "@jupyter-widgets/base",
      "_view_module_version": "1.2.0",
      "_view_name": "StyleView",
      "bar_color": null,
      "description_width": ""
     }
    },
    "d03038f77d084d1b9b0e4f42b2ebb622": {
     "model_module": "@jupyter-widgets/controls",
     "model_module_version": "1.5.0",
     "model_name": "HTMLModel",
     "state": {
      "_dom_classes": [],
      "_model_module": "@jupyter-widgets/controls",
      "_model_module_version": "1.5.0",
      "_model_name": "HTMLModel",
      "_view_count": null,
      "_view_module": "@jupyter-widgets/controls",
      "_view_module_version": "1.5.0",
      "_view_name": "HTMLView",
      "description": "",
      "description_tooltip": null,
      "layout": "IPY_MODEL_0a1d9b55698544a581539f34595b7755",
      "placeholder": "​",
      "style": "IPY_MODEL_04db645a3ea4484687590011b78cf901",
      "value": "Predict loop: 100%"
     }
    },
    "decf3f3a60c3460694dab0bd74a621a5": {
     "model_module": "@jupyter-widgets/base",
     "model_module_version": "1.2.0",
     "model_name": "LayoutModel",
     "state": {
      "_model_module": "@jupyter-widgets/base",
      "_model_module_version": "1.2.0",
      "_model_name": "LayoutModel",
      "_view_count": null,
      "_view_module": "@jupyter-widgets/base",
      "_view_module_version": "1.2.0",
      "_view_name": "LayoutView",
      "align_content": null,
      "align_items": null,
      "align_self": null,
      "border": null,
      "bottom": null,
      "display": null,
      "flex": null,
      "flex_flow": null,
      "grid_area": null,
      "grid_auto_columns": null,
      "grid_auto_flow": null,
      "grid_auto_rows": null,
      "grid_column": null,
      "grid_gap": null,
      "grid_row": null,
      "grid_template_areas": null,
      "grid_template_columns": null,
      "grid_template_rows": null,
      "height": null,
      "justify_content": null,
      "justify_items": null,
      "left": null,
      "margin": null,
      "max_height": null,
      "max_width": null,
      "min_height": null,
      "min_width": null,
      "object_fit": null,
      "object_position": null,
      "order": null,
      "overflow": null,
      "overflow_x": null,
      "overflow_y": null,
      "padding": null,
      "right": null,
      "top": null,
      "visibility": null,
      "width": null
     }
    },
    "f28ff11c09ab4843bfaacf725b997f95": {
     "model_module": "@jupyter-widgets/base",
     "model_module_version": "1.2.0",
     "model_name": "LayoutModel",
     "state": {
      "_model_module": "@jupyter-widgets/base",
      "_model_module_version": "1.2.0",
      "_model_name": "LayoutModel",
      "_view_count": null,
      "_view_module": "@jupyter-widgets/base",
      "_view_module_version": "1.2.0",
      "_view_name": "LayoutView",
      "align_content": null,
      "align_items": null,
      "align_self": null,
      "border": null,
      "bottom": null,
      "display": null,
      "flex": null,
      "flex_flow": null,
      "grid_area": null,
      "grid_auto_columns": null,
      "grid_auto_flow": null,
      "grid_auto_rows": null,
      "grid_column": null,
      "grid_gap": null,
      "grid_row": null,
      "grid_template_areas": null,
      "grid_template_columns": null,
      "grid_template_rows": null,
      "height": null,
      "justify_content": null,
      "justify_items": null,
      "left": null,
      "margin": null,
      "max_height": null,
      "max_width": null,
      "min_height": null,
      "min_width": null,
      "object_fit": null,
      "object_position": null,
      "order": null,
      "overflow": null,
      "overflow_x": null,
      "overflow_y": null,
      "padding": null,
      "right": null,
      "top": null,
      "visibility": null,
      "width": null
     }
    }
   }
  }
 },
 "nbformat": 4,
 "nbformat_minor": 4
}
