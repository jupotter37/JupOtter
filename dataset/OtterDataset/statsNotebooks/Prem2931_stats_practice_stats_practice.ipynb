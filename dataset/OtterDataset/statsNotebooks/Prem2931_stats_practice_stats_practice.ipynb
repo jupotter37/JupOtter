{
 "cells": [
  {
   "cell_type": "code",
   "execution_count": 1,
   "id": "06575fc2",
   "metadata": {},
   "outputs": [],
   "source": [
    "#Q1.Generate a list of 100 integers containing values between 90 to 130 and store it in the variable int_list. After generating the list, find the following:\n",
    "\n",
    "#(i) Write a Python function to calculate the mean of a given list of numbers.Create a function to find the median of a list of numbers.\n",
    "\n",
    "#(ii) Develop a program to compute the mode of a list of integers.\n",
    "\n",
    "#(iii) Implement a function to calculate the weighted mean of a list of values and their corresponding weights.\n",
    "\n",
    "#(iv) Write a Python function to find the geometric mean of a list of positive numbers.\n",
    "\n",
    "#(v) Create a program to calculate the harmonic mean of a list of values.\n",
    "\n",
    "#(vi) Build a function to determine the midrange of a list of numbers (average of the minimum and maximum).\n",
    "\n",
    "#(vii) Implement a Python program to find the trimmed mean of a list, excluding a certain percentage of outliers."
   ]
  },
  {
   "cell_type": "code",
   "execution_count": 2,
   "id": "e03fa254",
   "metadata": {},
   "outputs": [],
   "source": [
    "import numpy as np\n",
    "import pandas as pd"
   ]
  },
  {
   "cell_type": "code",
   "execution_count": 3,
   "id": "ae74922c",
   "metadata": {},
   "outputs": [],
   "source": [
    "int_list = np.random.randint(90,130,100)"
   ]
  },
  {
   "cell_type": "code",
   "execution_count": 4,
   "id": "f8f85b4a",
   "metadata": {},
   "outputs": [
    {
     "data": {
      "text/plain": [
       "108.51"
      ]
     },
     "execution_count": 4,
     "metadata": {},
     "output_type": "execute_result"
    }
   ],
   "source": [
    "# (i) (i) Write a Python function to calculate the mean of a given list of numbers.Create a function to find the median of a list of numbers.\n",
    "def calc_mean(list):\n",
    "    return np.mean(list)\n",
    "\n",
    "def calc_median(list):\n",
    "    return np.median(list)\n",
    "\n",
    "calc_median(int_list)\n",
    "calc_mean(int_list)"
   ]
  },
  {
   "cell_type": "code",
   "execution_count": 5,
   "id": "18f280f4",
   "metadata": {},
   "outputs": [
    {
     "data": {
      "text/plain": [
       "100"
      ]
     },
     "execution_count": 5,
     "metadata": {},
     "output_type": "execute_result"
    }
   ],
   "source": [
    "# (ii) Develop a program to compute the mode of a list of integers.\n",
    "\n",
    "import statistics\n",
    "\n",
    "def calc_mode(list):\n",
    "    return statistics.mode(list)\n",
    "\n",
    "calc_mode(int_list)"
   ]
  },
  {
   "cell_type": "code",
   "execution_count": 6,
   "id": "f5a486ec",
   "metadata": {},
   "outputs": [
    {
     "data": {
      "text/plain": [
       "108.9937111871359"
      ]
     },
     "execution_count": 6,
     "metadata": {},
     "output_type": "execute_result"
    }
   ],
   "source": [
    "# (iii) Implement a function to calculate the weighted mean of a list of values and their corresponding weights.\n",
    "weights = np.random.uniform(0.5,1.5,100)\n",
    "\n",
    "np.average(int_list,weights=weights)"
   ]
  },
  {
   "cell_type": "code",
   "execution_count": 7,
   "id": "7fae620a",
   "metadata": {},
   "outputs": [
    {
     "data": {
      "text/plain": [
       "107.88282471341714"
      ]
     },
     "execution_count": 7,
     "metadata": {},
     "output_type": "execute_result"
    }
   ],
   "source": [
    "#(iv) Write a Python function to find the geometric mean of a list of positive numbers.\n",
    "statistics.geometric_mean(int_list)"
   ]
  },
  {
   "cell_type": "code",
   "execution_count": 8,
   "id": "368d3d29",
   "metadata": {},
   "outputs": [
    {
     "data": {
      "text/plain": [
       "107.26130084236998"
      ]
     },
     "execution_count": 8,
     "metadata": {},
     "output_type": "execute_result"
    }
   ],
   "source": [
    "# (v) Create a program to calculate the harmonic mean of a list of values.\n",
    "statistics.harmonic_mean(int_list)"
   ]
  },
  {
   "cell_type": "code",
   "execution_count": 9,
   "id": "d7461b27",
   "metadata": {},
   "outputs": [
    {
     "data": {
      "text/plain": [
       "109.5"
      ]
     },
     "execution_count": 9,
     "metadata": {},
     "output_type": "execute_result"
    }
   ],
   "source": [
    "#(vi) Build a function to determine the midrange of a list of numbers (average of the minimum and maximum).\n",
    "def calc_midrange(list):\n",
    "    return (min(list) + max(int_list)) / 2\n",
    "\n",
    "calc_midrange(int_list)"
   ]
  },
  {
   "cell_type": "code",
   "execution_count": 10,
   "id": "c3e3fe2f",
   "metadata": {},
   "outputs": [
    {
     "data": {
      "text/plain": [
       "108.325"
      ]
     },
     "execution_count": 10,
     "metadata": {},
     "output_type": "execute_result"
    }
   ],
   "source": [
    "#(vii) Implement a Python program to find the trimmed mean of a list, excluding a certain percentage of\n",
    "#       outliers.\n",
    "\n",
    "from scipy.stats import trim_mean\n",
    "\n",
    "trim_mean(int_list,0.1)"
   ]
  },
  {
   "cell_type": "code",
   "execution_count": 11,
   "id": "fd4d1af6",
   "metadata": {},
   "outputs": [],
   "source": [
    "# Q2. Generate a list of 500 integers containing values between 200 to 300 and store it in the variable int_list2. After generating the list, find the following:\n",
    "\n",
    "# (i) Compare the given list of visualization for the given data:\n",
    "\n",
    "# 1. Frequency & Gaussian distribution\n",
    "\n",
    "# 2. Frequency smoothened KDE plot\n",
    "\n",
    "# 3. Gaussian distribution & smoothened KDE plot\n",
    "# (ii) Write a Python function to calculate the range of a given list of numbers.\n",
    "\n",
    "# (iii) Create a program to find the variance and standard deviation of a list of numbers.\n",
    "\n",
    "# (iv) Implement a function to compute the interquartile range (IQR) of a list of values.\n",
    "\n",
    "# (v) Build a program to calculate the coefficient of variation for a dataset.\n",
    "\n",
    "# (vi) Write a Python function to find the mean absolute deviation (MAD) of a list of numbers.\n",
    "\n",
    "# (vii) Create a program to calculate the quartile deviation of a list of values.\n",
    "\n",
    "# (viii) Implement a function to find the range-based coefficient of dispersion for a dataset"
   ]
  },
  {
   "cell_type": "code",
   "execution_count": 12,
   "id": "b190d68b",
   "metadata": {},
   "outputs": [],
   "source": [
    "int_list2 = np.random.randint(200,300,500)"
   ]
  },
  {
   "cell_type": "code",
   "execution_count": 13,
   "id": "1020e130",
   "metadata": {},
   "outputs": [
    {
     "data": {
      "image/png": "[encoded data removed]",
      "text/plain": [
       "<Figure size 640x480 with 1 Axes>"
      ]
     },
     "metadata": {},
     "output_type": "display_data"
    }
   ],
   "source": [
    "# (i) Compare the given list of visualization for the given data:\n",
    "\n",
    "# 1. Frequency & Gaussian distribution\n",
    "\n",
    "import matplotlib.pyplot as plt\n",
    "import seaborn as sns\n",
    "import numpy as np\n",
    "from scipy.stats import norm\n",
    "\n",
    "plt.hist(int_list2, density=True, bins=30, alpha=0.6, color=\"skyblue\",edgecolor='black')\n",
    "\n",
    "# Gaussian distribution line\n",
    "mean = np.mean(int_list2)\n",
    "std_dev = np.std(int_list2)\n",
    "x = np.linspace(200, 300, 1000)\n",
    "plt.plot(x, norm.pdf(x, mean, std_dev), color='red', label=\"Gaussian Distribution\")\n",
    "\n",
    "plt.title(\"Frequency Histogram with Gaussian Distribution\")\n",
    "plt.xlabel(\"Values\")\n",
    "plt.ylabel(\"Density\")\n",
    "plt.legend()\n",
    "plt.show()\n"
   ]
  },
  {
   "cell_type": "code",
   "execution_count": 14,
   "id": "9dad587a",
   "metadata": {},
   "outputs": [
    {
     "data": {
      "image/png": "[encoded data removed]",
      "text/plain": [
       "<Figure size 640x480 with 1 Axes>"
      ]
     },
     "metadata": {},
     "output_type": "display_data"
    }
   ],
   "source": [
    "    # 2. Frequency smoothened KDE plot\n",
    "\n",
    "sns.histplot(int_list2, kde=True, bins=30, color='green', edgecolor='black')\n",
    "\n",
    "plt.title(\"Frequency Histogram with Smoothened KDE Plot\")\n",
    "plt.xlabel(\"Values\")\n",
    "plt.ylabel(\"Density\")\n",
    "plt.show()"
   ]
  },
  {
   "cell_type": "code",
   "execution_count": 15,
   "id": "6ff6eef7",
   "metadata": {},
   "outputs": [
    {
     "data": {
      "image/png": "[encoded data removed]",
      "text/plain": [
       "<Figure size 640x480 with 1 Axes>"
      ]
     },
     "metadata": {},
     "output_type": "display_data"
    }
   ],
   "source": [
    "# 3. Gaussian distribution & smoothened KDE plot\n",
    "\n",
    "# Gaussian distribution line\n",
    "plt.plot(x, norm.pdf(x, mean, std_dev), color='red', label=\"Gaussian Distribution\")\n",
    "\n",
    "# KDE plot\n",
    "sns.kdeplot(int_list2, color='green', label=\"KDE Plot\", fill=True)\n",
    "\n",
    "plt.title(\"Gaussian Distribution and KDE Plot\")\n",
    "plt.xlabel(\"Values\")\n",
    "plt.ylabel(\"Density\")\n",
    "plt.legend()\n",
    "plt.show()"
   ]
  },
  {
   "cell_type": "code",
   "execution_count": 16,
   "id": "25f71667",
   "metadata": {},
   "outputs": [
    {
     "data": {
      "text/plain": [
       "99"
      ]
     },
     "execution_count": 16,
     "metadata": {},
     "output_type": "execute_result"
    }
   ],
   "source": [
    "#   (ii) Write a Python function to calculate the range of a given list of numbers.\n",
    "\n",
    "def calc_range(list):\n",
    "    return max(list) - min(list)\n",
    "\n",
    "calc_range(int_list2)"
   ]
  },
  {
   "cell_type": "code",
   "execution_count": 17,
   "id": "13fbab77",
   "metadata": {},
   "outputs": [
    {
     "name": "stdout",
     "output_type": "stream",
     "text": [
      "Variance: 806.691564\n",
      "Standard Deviation: 28.402316173157427\n"
     ]
    }
   ],
   "source": [
    "#   (iii) Create a program to find the variance and standard deviation of a list of numbers.\n",
    "\n",
    "variance = np.var(int_list2)\n",
    "std_dev = np.std(int_list2)\n",
    "\n",
    "print(\"Variance:\", variance)\n",
    "print(\"Standard Deviation:\", std_dev)"
   ]
  },
  {
   "cell_type": "code",
   "execution_count": 18,
   "id": "54715413",
   "metadata": {},
   "outputs": [
    {
     "data": {
      "text/plain": [
       "47.0"
      ]
     },
     "execution_count": 18,
     "metadata": {},
     "output_type": "execute_result"
    }
   ],
   "source": [
    "#   (iv) Implement a function to compute the interquartile range (IQR) of a list of values.\n",
    "import numpy as np\n",
    "\n",
    "def calculate_iqr(numbers):\n",
    "    q75, q25 = np.percentile(numbers, [75, 25])\n",
    "    return q75 - q25\n",
    "\n",
    "calculate_iqr(int_list2)"
   ]
  },
  {
   "cell_type": "code",
   "execution_count": 19,
   "id": "61f88aa3",
   "metadata": {},
   "outputs": [
    {
     "data": {
      "text/plain": [
       "11.351572773297775"
      ]
     },
     "execution_count": 19,
     "metadata": {},
     "output_type": "execute_result"
    }
   ],
   "source": [
    "#   (v) Build a program to calculate the coefficient of variation for a dataset.\n",
    "\n",
    "\n",
    "# The coefficient of variation is the ratio of the standard deviation to the mean, often expressed as a percentage.\n",
    "\n",
    "def calculate_coefficient_of_variation(numbers):\n",
    "    mean = np.mean(numbers)\n",
    "    std_dev = np.std(numbers)\n",
    "    return (std_dev / mean) * 100\n",
    "\n",
    "calculate_coefficient_of_variation(int_list2)"
   ]
  },
  {
   "cell_type": "code",
   "execution_count": 20,
   "id": "3a90d65b",
   "metadata": {},
   "outputs": [
    {
     "data": {
      "text/plain": [
       "24.607528"
      ]
     },
     "execution_count": 20,
     "metadata": {},
     "output_type": "execute_result"
    }
   ],
   "source": [
    "#   (vi) Write a Python function to find the mean absolute deviation (MAD) of a list of numbers.\n",
    "\n",
    "# MAD is the average of the absolute differences between each value and the mean.\n",
    "\n",
    "def calculate_mad(numbers):\n",
    "    mean = np.mean(numbers)\n",
    "    return np.mean([abs(x - mean) for x in numbers])\n",
    "\n",
    "calculate_mad(int_list2)"
   ]
  },
  {
   "cell_type": "code",
   "execution_count": 21,
   "id": "158f1dc3",
   "metadata": {},
   "outputs": [
    {
     "data": {
      "text/plain": [
       "23.5"
      ]
     },
     "execution_count": 21,
     "metadata": {},
     "output_type": "execute_result"
    }
   ],
   "source": [
    "#   (vii) Create a program to calculate the quartile deviation of a list of values.\n",
    "\n",
    "\n",
    "# The quartile deviation is half of the interquartile range (IQR).\n",
    "\n",
    "def calculate_quartile_deviation(numbers):\n",
    "    iqr = calculate_iqr(numbers)\n",
    "    return iqr / 2\n",
    "\n",
    "calculate_quartile_deviation(int_list2)"
   ]
  },
  {
   "cell_type": "code",
   "execution_count": 22,
   "id": "d6082f96",
   "metadata": {},
   "outputs": [
    {
     "data": {
      "text/plain": [
       "0.3956739646531258"
      ]
     },
     "execution_count": 22,
     "metadata": {},
     "output_type": "execute_result"
    }
   ],
   "source": [
    "#   (viii) Implement a function to find the range-based coefficient of dispersion for a dataset.\n",
    "\n",
    "# The range-based coefficient of dispersion is calculated as:\n",
    "#                 Coefficient of Dispersion = Range / Mean\n",
    "\n",
    "def calculate_coefficient_of_dispersion(numbers):\n",
    "    range_value = calc_range(numbers) \n",
    "    mean = np.mean(numbers)\n",
    "    return range_value / mean\n",
    "\n",
    "calculate_coefficient_of_dispersion(int_list2)"
   ]
  },
  {
   "cell_type": "code",
   "execution_count": 23,
   "id": "b2e736b7",
   "metadata": {},
   "outputs": [
    {
     "data": {
      "text/plain": [
       "(3.2, 1.56)"
      ]
     },
     "execution_count": 23,
     "metadata": {},
     "output_type": "execute_result"
    }
   ],
   "source": [
    "#Q3.Write a Python class representing a discrete random variable with methods to calculate its expected value and variance.\n",
    "\n",
    "# code>>\n",
    "# Define the DiscreteRandomVariable class as described above\n",
    "\n",
    "class DiscreteRandomVariable:\n",
    "    def __init__(self, values, probabilities):\n",
    "        \"\"\"\n",
    "        Initialize the DiscreteRandomVariable with values and probabilities.\n",
    "        \n",
    "        :param values: List of possible values of the random variable.\n",
    "        :param probabilities: List of probabilities associated with each value.\n",
    "        \"\"\"\n",
    "        if len(values) != len(probabilities):\n",
    "            raise ValueError(\"The number of values must match the number of probabilities.\")\n",
    "        if abs(sum(probabilities) - 1.0) > 1e-6:\n",
    "            raise ValueError(\"The sum of probabilities must be 1.\")\n",
    "        \n",
    "        self.values = values\n",
    "        self.probabilities = probabilities\n",
    "\n",
    "    def expected_value(self):\n",
    "        \"\"\"\n",
    "        Calculate the expected value (mean) of the random variable.\n",
    "        \n",
    "        :return: Expected value (float).\n",
    "        \"\"\"\n",
    "        return sum(value * prob for value, prob in zip(self.values, self.probabilities))\n",
    "\n",
    "    def variance(self):\n",
    "        \"\"\"\n",
    "        Calculate the variance of the random variable.\n",
    "        \n",
    "        :return: Variance (float).\n",
    "        \"\"\"\n",
    "        mean = self.expected_value()\n",
    "        return sum(((value - mean) ** 2) * prob for value, prob in zip(self.values, self.probabilities))\n",
    "\n",
    "# Define the values and their associated probabilities\n",
    "values = [1, 2, 3, 4, 5]\n",
    "probabilities = [0.1, 0.2, 0.3, 0.2, 0.2]\n",
    "\n",
    "# Create an instance of DiscreteRandomVariable\n",
    "random_variable = DiscreteRandomVariable(values, probabilities)\n",
    "\n",
    "# Calculate expected value and variance\n",
    "expected_value = random_variable.expected_value()\n",
    "variance = random_variable.variance()\n",
    "\n",
    "expected_value, variance"
   ]
  },
  {
   "cell_type": "code",
   "execution_count": 24,
   "id": "dcf1af56",
   "metadata": {},
   "outputs": [
    {
     "name": "stdout",
     "output_type": "stream",
     "text": [
      "Expected Value: 3.4833333333333334 \n",
      "Variance: 3.0830555555555557\n"
     ]
    }
   ],
   "source": [
    "#Q4.Implement a program to simulate the rolling of a fair six-sided die and calculate the expected value and variance of the outcomes.\n",
    "\n",
    "# code>>\n",
    "import numpy as np\n",
    "\n",
    "# Step 1: Define the parameters for the die and the simulation\n",
    "num_rolls = 10000\n",
    "die_faces = [1,2,3,4,5,6]\n",
    "\n",
    "# Step 2: Simulate rolling the die\n",
    "rolls = np.random.choice(die_faces, size=die_faces)\n",
    "\n",
    "# Step 3: Expected value\n",
    "expected_value = np.mean(rolls)\n",
    "\n",
    "# Step 3: Variance\n",
    "variance = np.var(rolls)\n",
    "\n",
    "# Print result\n",
    "print(f\"Expected Value: {expected_value} \\nVariance: {variance}\")"
   ]
  },
  {
   "cell_type": "code",
   "execution_count": 25,
   "id": "febdf7c7",
   "metadata": {},
   "outputs": [],
   "source": [
    "#Q5.Create a Python function to generate random samples from a given probability distribution (e.g., binomial, Poisson) and calculate their mean and variance.\n",
    "\n",
    "# code>>\n",
    "import numpy as np\n",
    "\n",
    "def sample_distribution(dist_type, params, sample_size=1000):\n",
    "\n",
    "    if dist_type == 'binomial':\n",
    "        n = params.get('n')\n",
    "        p = params.get('p')\n",
    "        samples = np.random.binomial(n, p, sample_size)\n",
    "\n",
    "\n",
    "    elif dist_type == 'poisson':\n",
    "        lam = params.get('lambda')\n",
    "        samples = np.random.poisson(lam, sample_size)\n",
    "\n",
    "    elif dist_type == 'normal':\n",
    "        mean = params.get('mean')\n",
    "        std_dev = params.get('std_dev')\n",
    "        samples = np.random.normal(mean,std_dev,sample_size)\n",
    "\n",
    "    else:\n",
    "        raise ValueError(\"Unsupported distribution type. Choose 'binomial', 'poisson', or 'normal'.\")\n",
    "    \n",
    "    sample_mean = np.mean(samples)\n",
    "    sample_variance = np.var(samples)\n",
    "\n",
    "    return sample_mean, sample_variance"
   ]
  },
  {
   "cell_type": "code",
   "execution_count": 26,
   "id": "1b0d4008",
   "metadata": {},
   "outputs": [],
   "source": [
    "binomial_params = {'n':10, 'p':0.5}\n",
    "poisson_params = {'lambda':4}\n",
    "normal_params = {'mean':0, 'std_dev':1}"
   ]
  },
  {
   "cell_type": "code",
   "execution_count": 27,
   "id": "93ea0425",
   "metadata": {},
   "outputs": [],
   "source": [
    "binomial_mean, binomial_variance = sample_distribution('binomial', binomial_params)\n",
    "poisson_mean, poisson_variance = sample_distribution('poisson', poisson_params)\n",
    "normal_mean, normal_variance = sample_distribution('normal', normal_params)"
   ]
  },
  {
   "cell_type": "code",
   "execution_count": 28,
   "id": "c5370e17",
   "metadata": {},
   "outputs": [
    {
     "name": "stdout",
     "output_type": "stream",
     "text": [
      "Binomial Distribution: Mean = 5.023, Variance = 2.4164710000000005\n",
      "Poisson Distribution: Mean = 3.934, Variance = 4.145644\n",
      "Normal Distribution: Mean = -0.01934708025935847, Variance = 1.0105560882524134\n"
     ]
    }
   ],
   "source": [
    "print(f\"Binomial Distribution: Mean = {binomial_mean}, Variance = {binomial_variance}\")\n",
    "print(f\"Poisson Distribution: Mean = {poisson_mean}, Variance = {poisson_variance}\")\n",
    "print(f\"Normal Distribution: Mean = {normal_mean}, Variance = {normal_variance}\")"
   ]
  },
  {
   "cell_type": "code",
   "execution_count": 30,
   "id": "8522ca57",
   "metadata": {},
   "outputs": [],
   "source": [
    "#Q6.Write a Python script to generate random numbers from a Gaussian (normal) distribution and compute the mean, variance, and standard deviation of the samples\n",
    "\n",
    "import numpy as np\n",
    "\n",
    "def gaussian_distribution(mean,std_dev,sample_size):\n",
    "    # Generate random samples from a normal distribution\n",
    "    samples = np.random.normal(mean,std_dev,sample_size)\n",
    "\n",
    "    # Calculate statistics\n",
    "    samples_mean = np.mean(samples)\n",
    "    samples_var = np.var(samples)\n",
    "    samples_std_dev = np.std(samples)\n",
    "\n",
    "    return samples_mean, samples_var, samples_std_dev"
   ]
  },
  {
   "cell_type": "code",
   "execution_count": 31,
   "id": "efead82e",
   "metadata": {},
   "outputs": [],
   "source": [
    "mean=0\n",
    "std_dev=1\n",
    "sample_size=1000"
   ]
  },
  {
   "cell_type": "code",
   "execution_count": 32,
   "id": "916ce565",
   "metadata": {},
   "outputs": [],
   "source": [
    "samples_mean, samples_var, samples_std_dev = gaussian_distribution(mean,std_dev,sample_size)"
   ]
  },
  {
   "cell_type": "code",
   "execution_count": 33,
   "id": "482128b8",
   "metadata": {},
   "outputs": [
    {
     "name": "stdout",
     "output_type": "stream",
     "text": [
      "Generated 1000 samples from a Gaussian distribution with mean = 0 and std_dev = 1\n",
      "Sample Mean: 0.00927480042565594\n",
      "Sample Variance: 1.0088076090345683\n",
      "Sample Standard Deviation: 1.0043941502391223\n"
     ]
    }
   ],
   "source": [
    "print(f\"Generated {sample_size} samples from a Gaussian distribution with mean = {mean} and std_dev = {std_dev}\")\n",
    "print(f\"Sample Mean: {samples_mean}\")\n",
    "print(f\"Sample Variance: {samples_var}\")\n",
    "print(f\"Sample Standard Deviation: {samples_std_dev}\")"
   ]
  },
  {
   "cell_type": "code",
   "execution_count": 34,
   "id": "03fa95e0",
   "metadata": {},
   "outputs": [],
   "source": [
    "# Q7.Use seaborn library to load tips dataset. Find the following from the dataset for the columns total_bill and tip`:\n",
    "\n",
    "# (i) Write a Python function that calculates their skewness\n",
    "\n",
    "# (ii) Create a program that determines whether the columns exhibit positive skewness, negative skewness, or is approximately symmetric.\n",
    "\n",
    "# (iii) Write a function that calculates the covariance between two columns.\n",
    "\n",
    "# (iv) Implement a Python program that calculates the Pearson correlation coefficient between two columns.\n",
    "\n",
    "# (v) Write a script to visualize the correlation between two specific columns in a Pandas DataFrame using scatter plots."
   ]
  },
  {
   "cell_type": "code",
   "execution_count": 35,
   "id": "167bcd38",
   "metadata": {},
   "outputs": [],
   "source": [
    "import numpy as np\n",
    "import pandas as pd\n",
    "import matplotlib.pyplot as plt\n",
    "import seaborn as sns\n",
    "from scipy.stats import skew"
   ]
  },
  {
   "cell_type": "code",
   "execution_count": 36,
   "id": "682b2d20",
   "metadata": {},
   "outputs": [
    {
     "data": {
      "text/html": [
       "<div>\n",
       "<style scoped>\n",
       "    .dataframe tbody tr th:only-of-type {\n",
       "        vertical-align: middle;\n",
       "    }\n",
       "\n",
       "    .dataframe tbody tr th {\n",
       "        vertical-align: top;\n",
       "    }\n",
       "\n",
       "    .dataframe thead th {\n",
       "        text-align: right;\n",
       "    }\n",
       "</style>\n",
       "<table border=\"1\" class=\"dataframe\">\n",
       "  <thead>\n",
       "    <tr style=\"text-align: right;\">\n",
       "      <th></th>\n",
       "      <th>total_bill</th>\n",
       "      <th>tip</th>\n",
       "      <th>sex</th>\n",
       "      <th>smoker</th>\n",
       "      <th>day</th>\n",
       "      <th>time</th>\n",
       "      <th>size</th>\n",
       "    </tr>\n",
       "  </thead>\n",
       "  <tbody>\n",
       "    <tr>\n",
       "      <th>0</th>\n",
       "      <td>16.99</td>\n",
       "      <td>1.01</td>\n",
       "      <td>Female</td>\n",
       "      <td>No</td>\n",
       "      <td>Sun</td>\n",
       "      <td>Dinner</td>\n",
       "      <td>2</td>\n",
       "    </tr>\n",
       "    <tr>\n",
       "      <th>1</th>\n",
       "      <td>10.34</td>\n",
       "      <td>1.66</td>\n",
       "      <td>Male</td>\n",
       "      <td>No</td>\n",
       "      <td>Sun</td>\n",
       "      <td>Dinner</td>\n",
       "      <td>3</td>\n",
       "    </tr>\n",
       "    <tr>\n",
       "      <th>2</th>\n",
       "      <td>21.01</td>\n",
       "      <td>3.50</td>\n",
       "      <td>Male</td>\n",
       "      <td>No</td>\n",
       "      <td>Sun</td>\n",
       "      <td>Dinner</td>\n",
       "      <td>3</td>\n",
       "    </tr>\n",
       "    <tr>\n",
       "      <th>3</th>\n",
       "      <td>23.68</td>\n",
       "      <td>3.31</td>\n",
       "      <td>Male</td>\n",
       "      <td>No</td>\n",
       "      <td>Sun</td>\n",
       "      <td>Dinner</td>\n",
       "      <td>2</td>\n",
       "    </tr>\n",
       "    <tr>\n",
       "      <th>4</th>\n",
       "      <td>24.59</td>\n",
       "      <td>3.61</td>\n",
       "      <td>Female</td>\n",
       "      <td>No</td>\n",
       "      <td>Sun</td>\n",
       "      <td>Dinner</td>\n",
       "      <td>4</td>\n",
       "    </tr>\n",
       "  </tbody>\n",
       "</table>\n",
       "</div>"
      ],
      "text/plain": [
       "   total_bill   tip     sex smoker  day    time  size\n",
       "0       16.99  1.01  Female     No  Sun  Dinner     2\n",
       "1       10.34  1.66    Male     No  Sun  Dinner     3\n",
       "2       21.01  3.50    Male     No  Sun  Dinner     3\n",
       "3       23.68  3.31    Male     No  Sun  Dinner     2\n",
       "4       24.59  3.61  Female     No  Sun  Dinner     4"
      ]
     },
     "execution_count": 36,
     "metadata": {},
     "output_type": "execute_result"
    }
   ],
   "source": [
    "df = sns.load_dataset('tips')\n",
    "df.head()"
   ]
  },
  {
   "cell_type": "code",
   "execution_count": 37,
   "id": "18941dd0",
   "metadata": {},
   "outputs": [],
   "source": [
    "total_bill = df['total_bill']\n",
    "tip = df['tip']"
   ]
  },
  {
   "cell_type": "code",
   "execution_count": 38,
   "id": "4289bfd8",
   "metadata": {},
   "outputs": [
    {
     "name": "stdout",
     "output_type": "stream",
     "text": [
      "Skewness of total_bill: 1.1262346334818638\n",
      "Skewness of tip: 1.4564266884221506\n"
     ]
    }
   ],
   "source": [
    "#   (i) Write a Python function that calculates their skewness\n",
    "\n",
    "# code>>\n",
    "def calc_skewness(column):\n",
    "    return skew(column)\n",
    "\n",
    "total_bill_skewness = calc_skewness(total_bill)\n",
    "tip_skewness = calc_skewness(tip)\n",
    "\n",
    "print(f\"Skewness of total_bill: {total_bill_skewness}\")\n",
    "print(f\"Skewness of tip: {tip_skewness}\")"
   ]
  },
  {
   "cell_type": "code",
   "execution_count": 39,
   "id": "ed89cd62",
   "metadata": {},
   "outputs": [
    {
     "name": "stdout",
     "output_type": "stream",
     "text": [
      "total_bill exhibits positive skewness.\n",
      "tip exhibits positive skewness.\n"
     ]
    }
   ],
   "source": [
    "# (ii) Create a program that determines whether the columns exhibit positive skewness, negative skewness, or is\n",
    "# approximately symmetric.\n",
    "\n",
    "# code>>\n",
    "def skewness_type(column, column_name):\n",
    "    skewness = calc_skewness(column)\n",
    "    if skewness > 0:\n",
    "        print(f\"{column_name} exhibits positive skewness.\")\n",
    "    elif skewness < 0:\n",
    "        print(f\"{column_name} exhibits negative skewness.\")\n",
    "    else:\n",
    "        print(f\"{column_name} is approximately symmetric.\")\n",
    "\n",
    "# Check skewness type for both columns\n",
    "skewness_type(total_bill, 'total_bill')\n",
    "skewness_type(tip, 'tip')"
   ]
  },
  {
   "cell_type": "code",
   "execution_count": 40,
   "id": "6e4c2a40",
   "metadata": {},
   "outputs": [
    {
     "name": "stdout",
     "output_type": "stream",
     "text": [
      "Covariance between total_bill and tip: 8.28938891762967\n"
     ]
    }
   ],
   "source": [
    "#   (iii) Write a function that calculates the covariance between two columns.\n",
    "\n",
    "# code>>\n",
    "def calc_covariance(column1, column2):\n",
    "    return np.cov(column1,column2,ddof=0)[0,1]\n",
    "\n",
    "covariance = calc_covariance(total_bill, tip)\n",
    "print(f\"Covariance between total_bill and tip: {covariance}\")"
   ]
  },
  {
   "cell_type": "code",
   "execution_count": 41,
   "id": "0cbd5208",
   "metadata": {},
   "outputs": [
    {
     "name": "stdout",
     "output_type": "stream",
     "text": [
      "Pearson correlation coefficient between total_bill and tip: 0.6757341092113646\n"
     ]
    }
   ],
   "source": [
    "#   (iv) Implement a Python program that calculates the Pearson correlation coefficient between two columns.\n",
    "\n",
    "# code>>\n",
    "def calc_pearson_corr(col1, col2):\n",
    "    return np.corrcoef(col1,col2)[0,1]\n",
    "\n",
    "pearson_corr = calc_pearson_corr(total_bill, tip)\n",
    "print(f\"Pearson correlation coefficient between total_bill and tip: {pearson_corr}\")"
   ]
  },
  {
   "cell_type": "code",
   "execution_count": 42,
   "id": "a514cc6d",
   "metadata": {},
   "outputs": [
    {
     "data": {
      "image/png": "[encoded data removed]",
      "text/plain": [
       "<Figure size 1000x800 with 1 Axes>"
      ]
     },
     "metadata": {},
     "output_type": "display_data"
    }
   ],
   "source": [
    "#  (v) Write a script to visualize the correlation between two specific columns in a Pandas DataFrame using\n",
    "# scatter plots.\n",
    "\n",
    "# code>>\n",
    "\n",
    "plt.figure(figsize=(10,8))\n",
    "plt.scatter(df['total_bill'], df['tip'], alpha=0.6,color='green', edgecolors='black')\n",
    "plt.title(\"Scatter Plot of Total Bill vs Tip\")  \n",
    "plt.xlabel(\"Total Bill\")  \n",
    "plt.ylabel(\"Tip\")  \n",
    "plt.grid(True)  \n",
    "plt.show() "
   ]
  },
  {
   "cell_type": "code",
   "execution_count": 43,
   "id": "87ddcae4",
   "metadata": {},
   "outputs": [
    {
     "name": "stdout",
     "output_type": "stream",
     "text": [
      "The PDF value at x = 1.5 for N(0, 1^2) is 0.12951759566589174\n"
     ]
    }
   ],
   "source": [
    "#Q8.Write a Python function to calculate the probability density function (PDF) of a continuous random variable for a given normal distribution.\n",
    "\n",
    "# code>>\n",
    "from scipy.stats import norm\n",
    "\n",
    "def normal_pdf(x, mean, std_dev):\n",
    "    return norm.pdf(x, mean, std_dev)\n",
    "\n",
    "x = 1.5\n",
    "mean = 0\n",
    "std_dev = 1\n",
    "pdf = normal_pdf(x, mean, std_dev)\n",
    "print(f\"The PDF value at x = {x} for N({mean}, {std_dev}^2) is {pdf}\")"
   ]
  },
  {
   "cell_type": "code",
   "execution_count": 44,
   "id": "cf9d163e",
   "metadata": {},
   "outputs": [
    {
     "name": "stdout",
     "output_type": "stream",
     "text": [
      "The CDF value at x = 2.0 for an exponential distribution with rate λ = 0.5 is 0.6321205588285577\n",
      "Verification with scipy: The CDF value at x = 2.0 is 0.6321205588285577\n"
     ]
    }
   ],
   "source": [
    "#Q9.Create a program to calculate the cumulative distribution function (CDF) of exponential distribution.\n",
    "\n",
    "import math\n",
    "from scipy.stats import expon\n",
    "\n",
    "def exponential_cdf(x, rate):\n",
    "\n",
    "    return 1 - math.exp(-rate * x)\n",
    "\n",
    "# Example usage with manual formula\n",
    "x = 2.0\n",
    "rate = 0.5  # Rate parameter λ\n",
    "cdf_value = exponential_cdf(x, rate)\n",
    "print(f\"The CDF value at x = {x} for an exponential distribution with rate λ = {rate} is {cdf_value}\")\n",
    "\n",
    "\n",
    "# Verification with scipy\n",
    "mean = 1 / rate\n",
    "cdf_value_scipy = expon.cdf(x, scale=mean)  # scale=1/λ is the mean\n",
    "print(f\"Verification with scipy: The CDF value at x = {x} is {cdf_value_scipy}\")"
   ]
  },
  {
   "cell_type": "code",
   "execution_count": 45,
   "id": "fcb50f1a",
   "metadata": {},
   "outputs": [
    {
     "name": "stdout",
     "output_type": "stream",
     "text": [
      "The PMF value for k = 3 and λ = 2.5 is = 0.21376301724973648\n"
     ]
    }
   ],
   "source": [
    "#Q10.Write a Python function to calculate the probability mass function (PMF) of Poisson distribution.\n",
    "\n",
    "from scipy.stats import poisson\n",
    "\n",
    "def poisson_pmf(k, lam):\n",
    "   \n",
    "    if k < 0:\n",
    "        raise ValueError(\"Number of events (k) must be a non-negative integer.\")\n",
    "    \n",
    "    return poisson.pmf(k, lam)\n",
    "\n",
    "\n",
    "k = 3  # number of events\n",
    "lam = 2.5  # average rate of events\n",
    "pmf = poisson_pmf(k, lam)\n",
    "print(f\"The PMF value for k = {k} and λ = {lam} is = {pmf}\")"
   ]
  },
  {
   "cell_type": "code",
   "execution_count": 47,
   "id": "ac468baf",
   "metadata": {},
   "outputs": [],
   "source": [
    "#Q11.A company wants to test if a new website layout leads to a higher conversion rate (percentage of visitors who make a purchase). They collect data from the old and new layouts to compare.\n",
    "\n",
    "#To generate the data use the following command:\n",
    "\n",
    "import numpy as np\n",
    "# 50 purchases out of 1000 visitors\n",
    "old_layout = np.array([1] * 50 + [0] * 950)\n",
    "# 70 purchases out of 1000 visitors  \n",
    "new_layout = np.array([1] * 70 + [0] * 930)\n",
    "#Apply z-test to find which layout is successful."
   ]
  },
  {
   "cell_type": "code",
   "execution_count": 48,
   "id": "907fc227",
   "metadata": {},
   "outputs": [],
   "source": [
    "import numpy as np\n",
    "import scipy.stats as stats"
   ]
  },
  {
   "cell_type": "code",
   "execution_count": 49,
   "id": "74b44349",
   "metadata": {},
   "outputs": [],
   "source": [
    "# Data for old and new layouts\n",
    "old_layout = np.array([1] * 50 + [0] * 950)\n",
    "new_layout = np.array([1] * 70 + [0] * 930)"
   ]
  },
  {
   "cell_type": "code",
   "execution_count": 50,
   "id": "fee5770e",
   "metadata": {},
   "outputs": [
    {
     "data": {
      "text/plain": [
       "(1000, 1000)"
      ]
     },
     "execution_count": 50,
     "metadata": {},
     "output_type": "execute_result"
    }
   ],
   "source": [
    "# Sample size\n",
    "n_old = len(old_layout)\n",
    "n_new = len(old_layout)\n",
    "n_old, n_new"
   ]
  },
  {
   "cell_type": "code",
   "execution_count": 51,
   "id": "58c0bbd9",
   "metadata": {},
   "outputs": [
    {
     "data": {
      "text/plain": [
       "(0.05, 0.07)"
      ]
     },
     "execution_count": 51,
     "metadata": {},
     "output_type": "execute_result"
    }
   ],
   "source": [
    "# Sample proportions\n",
    "p_old = np.mean(old_layout)\n",
    "p_new = np.mean(new_layout)\n",
    "p_old, p_new"
   ]
  },
  {
   "cell_type": "code",
   "execution_count": 52,
   "id": "dbc9067f",
   "metadata": {},
   "outputs": [
    {
     "data": {
      "text/plain": [
       "0.06"
      ]
     },
     "execution_count": 52,
     "metadata": {},
     "output_type": "execute_result"
    }
   ],
   "source": [
    "# Pooled proportion\n",
    "p_pooled = (np.sum(old_layout) + np.sum(new_layout)) / (n_old + n_new) # 50+70 / 1000+1000\n",
    "p_pooled"
   ]
  },
  {
   "cell_type": "code",
   "execution_count": 54,
   "id": "5d826c2d",
   "metadata": {},
   "outputs": [
    {
     "data": {
      "text/plain": [
       "0.010620734437881403"
      ]
     },
     "execution_count": 54,
     "metadata": {},
     "output_type": "execute_result"
    }
   ],
   "source": [
    "# Standard error\n",
    "SE = np.sqrt(p_pooled * (1 - p_pooled) * (1 / n_old + 1 / n_new))\n",
    "SE"
   ]
  },
  {
   "cell_type": "code",
   "execution_count": 55,
   "id": "5ea9c173",
   "metadata": {},
   "outputs": [
    {
     "data": {
      "text/plain": [
       "1.883108942886774"
      ]
     },
     "execution_count": 55,
     "metadata": {},
     "output_type": "execute_result"
    }
   ],
   "source": [
    "# Z test Statistics \n",
    "z_score = (p_new - p_old) / SE\n",
    "z_score"
   ]
  },
  {
   "cell_type": "code",
   "execution_count": 56,
   "id": "5f3c9f4b",
   "metadata": {},
   "outputs": [
    {
     "data": {
      "text/plain": [
       "0.029842802766213095"
      ]
     },
     "execution_count": 56,
     "metadata": {},
     "output_type": "execute_result"
    }
   ],
   "source": [
    "# P value\n",
    "p_value = 1 - stats.norm.cdf(z_score)\n",
    "p_value"
   ]
  },
  {
   "cell_type": "code",
   "execution_count": 57,
   "id": "0d3e3180",
   "metadata": {},
   "outputs": [
    {
     "data": {
      "text/plain": [
       "(1.883108942886774, 0.029842802766213095)"
      ]
     },
     "execution_count": 57,
     "metadata": {},
     "output_type": "execute_result"
    }
   ],
   "source": [
    "z_score, p_value"
   ]
  },
  {
   "cell_type": "code",
   "execution_count": 58,
   "id": "4e269ffe",
   "metadata": {},
   "outputs": [
    {
     "name": "stdout",
     "output_type": "stream",
     "text": [
      "we can reject the null hypothesis. The new layout has a significantly higher conversion rate.\n"
     ]
    }
   ],
   "source": [
    "alpha = 0.05\n",
    "\n",
    "# Make a decision\n",
    "if p_value < alpha:\n",
    "    print(\"we can reject the null hypothesis. The new layout has a significantly higher conversion rate.\")\n",
    "else:\n",
    "    print(\"we failed to reject the null hypothesis. There is no significant difference between the two layouts.\")"
   ]
  },
  {
   "cell_type": "code",
   "execution_count": 61,
   "id": "7007e41c",
   "metadata": {},
   "outputs": [],
   "source": [
    "# Q12.A tutoring service claims that its program improves students' exam scores. A sample of students who participated in the program was taken, and their scores before and after the program were recorded.\n",
    "\n",
    "# Use the below code to generate samples of respective arrays of marks:\n",
    "\n",
    "before_program = np.array([75, 80, 85, 70, 90, 78, 92, 88, 82, 87])\n",
    "after_program = np.array([80, 85, 90, 80, 92, 80, 95, 90, 85, 88])\n",
    "#Use z-test to find if the claims made by tutor are true or false."
   ]
  },
  {
   "cell_type": "code",
   "execution_count": 62,
   "id": "d28e0614",
   "metadata": {},
   "outputs": [],
   "source": [
    "import numpy as np\n",
    "from scipy.stats import norm"
   ]
  },
  {
   "cell_type": "code",
   "execution_count": 63,
   "id": "456657be",
   "metadata": {},
   "outputs": [],
   "source": [
    "# Sample data from before and after program\n",
    "before_program = np.array([75, 80, 85, 70, 90, 78, 92, 88, 82, 87])\n",
    "after_program = np.array([80, 85, 90, 80, 92, 80, 95, 90, 85, 88])"
   ]
  },
  {
   "cell_type": "code",
   "execution_count": 64,
   "id": "03a1f72b",
   "metadata": {},
   "outputs": [],
   "source": [
    "# Null Hypothesis :  There is no significant improvement in scores after the program.\n",
    "# Alternate Hypothesis : There is a significant improvement in scores after the program."
   ]
  },
  {
   "cell_type": "code",
   "execution_count": 65,
   "id": "97342305",
   "metadata": {},
   "outputs": [
    {
     "data": {
      "text/plain": [
       "array([ 5,  5,  5, 10,  2,  2,  3,  2,  3,  1])"
      ]
     },
     "execution_count": 65,
     "metadata": {},
     "output_type": "execute_result"
    }
   ],
   "source": [
    "# We calculate difference because it is paired data\n",
    "difference = after_program - before_program\n",
    "difference"
   ]
  },
  {
   "cell_type": "code",
   "execution_count": 66,
   "id": "513c03bc",
   "metadata": {},
   "outputs": [
    {
     "data": {
      "text/plain": [
       "(3.8, 2.4819347291981715)"
      ]
     },
     "execution_count": 66,
     "metadata": {},
     "output_type": "execute_result"
    }
   ],
   "source": [
    "# Calc. mean and std_dev of diffrernce\n",
    "mean_diff = np.mean(difference)\n",
    "std_dev_diff = np.std(difference)\n",
    "mean_diff, std_dev_diff"
   ]
  },
  {
   "cell_type": "code",
   "execution_count": 67,
   "id": "9ce787ec",
   "metadata": {},
   "outputs": [
    {
     "data": {
      "text/plain": [
       "10"
      ]
     },
     "execution_count": 67,
     "metadata": {},
     "output_type": "execute_result"
    }
   ],
   "source": [
    "# np of samples\n",
    "n = len(difference)\n",
    "n"
   ]
  },
  {
   "cell_type": "code",
   "execution_count": 68,
   "id": "54c0d1ab",
   "metadata": {},
   "outputs": [
    {
     "data": {
      "text/plain": [
       "(4.841648318657442, 6.438325487190255e-07)"
      ]
     },
     "execution_count": 68,
     "metadata": {},
     "output_type": "execute_result"
    }
   ],
   "source": [
    "# Calc zscore\n",
    "z_score = mean_diff / (std_dev_diff / np.sqrt(n))\n",
    "\n",
    "# Pvalue\n",
    "p_value = 1 - norm.cdf(z_score)\n",
    "\n",
    "z_score, p_value"
   ]
  },
  {
   "cell_type": "code",
   "execution_count": 69,
   "id": "e1941e4a",
   "metadata": {},
   "outputs": [
    {
     "name": "stdout",
     "output_type": "stream",
     "text": [
      "Reject the null hypothesis. There is strong evidence to support the tutoring service's claim that their program significantly improves students' exam scores.\n"
     ]
    }
   ],
   "source": [
    "# Set significance level\n",
    "alpha = 0.05\n",
    "\n",
    "# Check if the p-value is less than the significance level\n",
    "if p_value < alpha:\n",
    "    print(\"Reject the null hypothesis. There is strong evidence to support the tutoring service's claim that their program significantly improves students' exam scores.\")\n",
    "else:\n",
    "    print(\"Fail to reject the null hypothesis. There is insufficient evidence to support the claim that the tutoring service's program significantly improves students' exam scores.\")"
   ]
  },
  {
   "cell_type": "code",
   "execution_count": 70,
   "id": "45d4da8b",
   "metadata": {},
   "outputs": [],
   "source": [
    "# Q13.A pharmaceutical company wants to determine if a new drug is effective in reducing blood pressure. They conduct a study and record blood pressure measurements before and after administering the drug.\n",
    "\n",
    "# Use the below code to generate samples of respective arrays of blood pressure:\n",
    "\n",
    "before_drug = np.array([145, 150, 140, 135, 155, 160, 152, 148, 130, 138])\n",
    "\n",
    "after_drug = np.array([130, 140, 132, 128, 145, 148, 138, 136, 125, 130])\n",
    "#Implement z-test to find if the drug really works or not"
   ]
  },
  {
   "cell_type": "code",
   "execution_count": 71,
   "id": "49ee1297",
   "metadata": {},
   "outputs": [],
   "source": [
    "import numpy as np\n",
    "from scipy.stats import norm"
   ]
  },
  {
   "cell_type": "code",
   "execution_count": 72,
   "id": "90a2107b",
   "metadata": {},
   "outputs": [],
   "source": [
    "# Null hypothesis: The drug does not reduce blood pressure on average\n",
    "# Alternate hypothesis: The drug reduces blood pressure on average"
   ]
  },
  {
   "cell_type": "code",
   "execution_count": 73,
   "id": "9cd2911a",
   "metadata": {},
   "outputs": [],
   "source": [
    "# Blood pressure data before and after administering the drug\n",
    "before_drug = np.array([145, 150, 140, 135, 155, 160, 152, 148, 130, 138])\n",
    "after_drug = np.array([130, 140, 132, 128, 145, 148, 138, 136, 125, 130])"
   ]
  },
  {
   "cell_type": "code",
   "execution_count": 74,
   "id": "6f8cc8b4",
   "metadata": {},
   "outputs": [
    {
     "data": {
      "text/plain": [
       "array([15, 10,  8,  7, 10, 12, 14, 12,  5,  8])"
      ]
     },
     "execution_count": 74,
     "metadata": {},
     "output_type": "execute_result"
    }
   ],
   "source": [
    "difference = before_drug - after_drug\n",
    "difference"
   ]
  },
  {
   "cell_type": "code",
   "execution_count": 75,
   "id": "0417db24",
   "metadata": {},
   "outputs": [
    {
     "data": {
      "text/plain": [
       "(10.1, 3.014962686336267)"
      ]
     },
     "execution_count": 75,
     "metadata": {},
     "output_type": "execute_result"
    }
   ],
   "source": [
    "# calc mean and std_dev of difference\n",
    "mean_diff_bp = np.mean(difference)\n",
    "std_dev_bp = np.std(difference)\n",
    "\n",
    "mean_diff_bp, std_dev_bp"
   ]
  },
  {
   "cell_type": "code",
   "execution_count": 76,
   "id": "320067f8",
   "metadata": {},
   "outputs": [
    {
     "data": {
      "text/plain": [
       "10"
      ]
     },
     "execution_count": 76,
     "metadata": {},
     "output_type": "execute_result"
    }
   ],
   "source": [
    "# no. of samples\n",
    "n = len(difference)\n",
    "n"
   ]
  },
  {
   "cell_type": "code",
   "execution_count": 77,
   "id": "cdc963d0",
   "metadata": {},
   "outputs": [
    {
     "data": {
      "text/plain": [
       "(4.841648318657442, 6.438325487190255e-07)"
      ]
     },
     "execution_count": 77,
     "metadata": {},
     "output_type": "execute_result"
    }
   ],
   "source": [
    "# Calc zscore\n",
    "z_score_bp = mean_diff_bp / (std_dev_bp / np.sqrt(n))\n",
    "\n",
    "# Calc pvalue\n",
    "p_value_bp = 1 - norm.cdf(z_score)\n",
    "\n",
    "z_score, p_value"
   ]
  },
  {
   "cell_type": "code",
   "execution_count": 78,
   "id": "b271622d",
   "metadata": {},
   "outputs": [
    {
     "name": "stdout",
     "output_type": "stream",
     "text": [
      "Reject the null hypothesis. There is strong evidence to support the claim that the drug significantly reduces blood pressure.\n"
     ]
    }
   ],
   "source": [
    "# Set significance level\n",
    "alpha = 0.05\n",
    "\n",
    "# Check if the p-value is less than the significance level\n",
    "if p_value_bp< alpha:\n",
    "    print(\"Reject the null hypothesis. There is strong evidence to support the claim that the drug significantly reduces blood pressure.\")\n",
    "else:\n",
    "    print(\"Fail to reject the null hypothesis. There is insufficient evidence to support the claim that the drug significantly reduces blood pressure.\")"
   ]
  },
  {
   "cell_type": "code",
   "execution_count": 80,
   "id": "e9a5aaf4",
   "metadata": {},
   "outputs": [],
   "source": [
    "# Q14.A customer service department claims that their average response time is less than 5 minutes. A sample of recent customer interactions was taken, and the response times were recorded.\n",
    "\n",
    "# Implement the below code to generate the array of response time:\n",
    "\n",
    "response_times = np.array([4.3, 3.8, 5.1, 4.9, 4.7, 4.2, 5.2, 4.5, 4.6, 4.4])\n",
    "#Implement z-test to find the claims made by customer service department are tru or false"
   ]
  },
  {
   "cell_type": "code",
   "execution_count": 81,
   "id": "38924258",
   "metadata": {},
   "outputs": [],
   "source": [
    "import numpy as np\n",
    "from scipy.stats import norm"
   ]
  },
  {
   "cell_type": "code",
   "execution_count": 82,
   "id": "d17c9ade",
   "metadata": {},
   "outputs": [],
   "source": [
    "response_times = np.array([4.3, 3.8, 5.1, 4.9, 4.7, 4.2, 5.2, 4.5, 4.6, 4.4])"
   ]
  },
  {
   "cell_type": "code",
   "execution_count": 83,
   "id": "c360fa4d",
   "metadata": {},
   "outputs": [
    {
     "data": {
      "text/plain": [
       "(4.57, 0.4050925820105819)"
      ]
     },
     "execution_count": 83,
     "metadata": {},
     "output_type": "execute_result"
    }
   ],
   "source": [
    "# Claimed mean response time (null hypothesis)\n",
    "claimed_mean = 5\n",
    "# Calculate sample mean and standard deviation\n",
    "sample_mean = np.mean(response_times)\n",
    "sample_std_dev = np.std(response_times)\n",
    "\n",
    "sample_mean, sample_std_dev"
   ]
  },
  {
   "cell_type": "code",
   "execution_count": 84,
   "id": "6c59e00b",
   "metadata": {},
   "outputs": [
    {
     "data": {
      "text/plain": [
       "10"
      ]
     },
     "execution_count": 84,
     "metadata": {},
     "output_type": "execute_result"
    }
   ],
   "source": [
    "# no of response\n",
    "n = len(response_times)\n",
    "n"
   ]
  },
  {
   "cell_type": "code",
   "execution_count": 85,
   "id": "982f1adf",
   "metadata": {},
   "outputs": [
    {
     "data": {
      "text/plain": [
       "(-3.356712648559143, 0.00039437520387081387)"
      ]
     },
     "execution_count": 85,
     "metadata": {},
     "output_type": "execute_result"
    }
   ],
   "source": [
    "# zscore \n",
    "z_score_response_times = (sample_mean - claimed_mean) / (sample_std_dev / np.sqrt(n))\n",
    "\n",
    "# pvalue \n",
    "p_value_response_times = norm.cdf(z_score_response_times) # left tailed test\n",
    "\n",
    "z_score_response_times, p_value_response_times"
   ]
  },
  {
   "cell_type": "code",
   "execution_count": 86,
   "id": "4a8569d0",
   "metadata": {},
   "outputs": [
    {
     "name": "stdout",
     "output_type": "stream",
     "text": [
      "Reject the null hypothesis. The average response time is likely less than 5 minutes.\n"
     ]
    }
   ],
   "source": [
    "alpha = 0.05  # significance level\n",
    "if p_value_response_times< alpha:\n",
    "    print(\"Reject the null hypothesis. The average response time is likely less than 5 minutes.\")\n",
    "else:\n",
    "    print(\"Fail to reject the null hypothesis. No evidence suggests the average response time is less than 5 minutes.\")"
   ]
  },
  {
   "cell_type": "code",
   "execution_count": 87,
   "id": "d5bbcfc6",
   "metadata": {},
   "outputs": [],
   "source": [
    "# Q15.A company is testing two different website layouts to see which one leads to higher click-through rates. Write a Python function to perform an A/B test analysis, including calculating the t-statistic, degrees of freedom, and p-value.\n",
    "\n",
    "# Use the following data:\n",
    "\n",
    "layout_a_clicks = [28, 32, 33, 29, 31, 34, 30, 35, 36, 37]\n",
    "\n",
    "layout_b_clicks = [40, 41, 38, 42, 39, 44, 43, 41, 45, 47]"
   ]
  },
  {
   "cell_type": "code",
   "execution_count": 88,
   "id": "d4447962",
   "metadata": {},
   "outputs": [],
   "source": [
    "from scipy.stats import t\n",
    "import numpy as np\n",
    "layout_a_clicks = [28, 32, 33, 29, 31, 34, 30, 35, 36, 37]\n",
    "layout_b_clicks = [40, 41, 38, 42, 39, 44, 43, 41, 45, 47]"
   ]
  },
  {
   "cell_type": "code",
   "execution_count": 89,
   "id": "7a1de5af",
   "metadata": {},
   "outputs": [],
   "source": [
    "def ab_analysis(layout_a_clicks, layout_b_clicks):\n",
    "    # calc mean\n",
    "    mean_a = np.mean(layout_a_clicks)\n",
    "    mean_b = np.mean(layout_b_clicks)\n",
    "\n",
    "    # calc std_dev\n",
    "    std_a = np.std(layout_a_clicks)\n",
    "    std_b = np.std(layout_b_clicks)\n",
    "\n",
    "    # Sample size\n",
    "    n_a = len(layout_a_clicks)\n",
    "    n_b = len(layout_b_clicks)\n",
    "\n",
    "    # Calculate the t-statistic\n",
    "    pooled_std = np.sqrt((std_a**2 / n_a) + (std_b**2 / n_b))\n",
    "    t_statistics = (mean_a - mean_b) / pooled_std\n",
    "\n",
    "    # Degrees of freedom (assuming equal variances)\n",
    "    df = n_a + n_b - 2\n",
    "\n",
    "    # Calculating the p-Value\n",
    "    p_value = 2 * t.cdf(-abs(t_statistics), df)\n",
    "\n",
    "    return t_statistics, df, p_value"
   ]
  },
  {
   "cell_type": "code",
   "execution_count": 90,
   "id": "d114a7fd",
   "metadata": {},
   "outputs": [
    {
     "name": "stdout",
     "output_type": "stream",
     "text": [
      "T-statistic: -7.692875136699702\n",
      "Degrees of freedom: 18\n",
      "P-value: 4.2602886535737106e-07\n",
      "Reject the null hypothesis: There is a statistically significant difference between Layout A and Layout B.\n"
     ]
    }
   ],
   "source": [
    "layout_a_clicks = [28, 32, 33, 29, 31, 34, 30, 35, 36, 37]\n",
    "layout_b_clicks = [40, 41, 38, 42, 39, 44, 43, 41, 45, 47]\n",
    "\n",
    "significance_level = 0.05\n",
    "t_statistics, df, p_value = ab_analysis(layout_a_clicks, layout_b_clicks)\n",
    "\n",
    "print(f\"T-statistic: {t_statistics}\")\n",
    "print(f\"Degrees of freedom: {df}\")\n",
    "print(f\"P-value: {p_value}\")\n",
    "\n",
    "# Decision making\n",
    "if p_value < significance_level:\n",
    "        print(\"Reject the null hypothesis: There is a statistically significant difference between Layout A and Layout B.\")\n",
    "else:\n",
    "        print(\"Fail to reject the null hypothesis: There is no statistically significant difference between Layout A and Layout B.\")"
   ]
  },
  {
   "cell_type": "code",
   "execution_count": 91,
   "id": "bd64847b",
   "metadata": {},
   "outputs": [],
   "source": [
    "# Q16.A pharmaceutical company wants to determine if a new drug is more effective than an existing drug in reducing cholesterol levels. Create a program to analyze the clinical trial data and calculate the tstatistic and p-value for the treatment effect.\n",
    "\n",
    "# Use the following data of cholestrol level:\n",
    "\n",
    "existing_drug_levels = [180, 182, 175, 185, 178, 176, 172, 184, 179, 183]\n",
    "\n",
    "new_drug_levels = [170, 172, 165, 168, 175, 173, 170, 178, 172, 176]"
   ]
  },
  {
   "cell_type": "code",
   "execution_count": 92,
   "id": "14aa1509",
   "metadata": {},
   "outputs": [],
   "source": [
    "import scipy.stats as stats\n",
    "import numpy as np"
   ]
  },
  {
   "cell_type": "code",
   "execution_count": 93,
   "id": "96f4ddf0",
   "metadata": {},
   "outputs": [],
   "source": [
    "# Data for cholesterol levels\n",
    "existing_drug_levels = [180, 182, 175, 185, 178, 176, 172, 184, 179, 183]\n",
    "new_drug_levels =      [170, 172, 165, 168, 175, 173, 170, 178, 172, 176]"
   ]
  },
  {
   "cell_type": "code",
   "execution_count": 94,
   "id": "a60e8b51",
   "metadata": {},
   "outputs": [
    {
     "data": {
      "text/plain": [
       "(10, 10)"
      ]
     },
     "execution_count": 94,
     "metadata": {},
     "output_type": "execute_result"
    }
   ],
   "source": [
    "# Sample size\n",
    "n_existing = len(existing_drug_levels)\n",
    "n_new = len(new_drug_levels)\n",
    "n_existing, n_new"
   ]
  },
  {
   "cell_type": "code",
   "execution_count": 95,
   "id": "9185dd84",
   "metadata": {},
   "outputs": [
    {
     "data": {
      "text/plain": [
       "(179.4, 171.9)"
      ]
     },
     "execution_count": 95,
     "metadata": {},
     "output_type": "execute_result"
    }
   ],
   "source": [
    "# Sample mean of both\n",
    "mean_existing = np.mean(existing_drug_levels)\n",
    "mean_new = np.mean(new_drug_levels)\n",
    "mean_existing, mean_new"
   ]
  },
  {
   "cell_type": "code",
   "execution_count": 96,
   "id": "d2f000fc",
   "metadata": {},
   "outputs": [
    {
     "data": {
      "text/plain": [
       "(4.004996878900157, 3.6728735344413916)"
      ]
     },
     "execution_count": 96,
     "metadata": {},
     "output_type": "execute_result"
    }
   ],
   "source": [
    "# Sample std_dev\n",
    "std_existing = np.std(existing_drug_levels)\n",
    "std_new = np.std(new_drug_levels)\n",
    "std_existing, std_new"
   ]
  },
  {
   "cell_type": "code",
   "execution_count": 97,
   "id": "f72439c2",
   "metadata": {},
   "outputs": [
    {
     "data": {
      "text/plain": [
       "4.364450175013195"
      ]
     },
     "execution_count": 97,
     "metadata": {},
     "output_type": "execute_result"
    }
   ],
   "source": [
    "# T stat\n",
    "pooled_std = np.sqrt((std_existing**2 / n_existing) + (std_new**2 / n_new))\n",
    "\n",
    "t_statistic = (mean_existing - mean_new) / pooled_std\n",
    "t_statistic"
   ]
  },
  {
   "cell_type": "code",
   "execution_count": 98,
   "id": "0a1d2598",
   "metadata": {},
   "outputs": [
    {
     "data": {
      "text/plain": [
       "18"
      ]
     },
     "execution_count": 98,
     "metadata": {},
     "output_type": "execute_result"
    }
   ],
   "source": [
    "# degree of freedom\n",
    "df = n_existing + n_new -2\n",
    "df"
   ]
  },
  {
   "cell_type": "code",
   "execution_count": 99,
   "id": "addf9d1c",
   "metadata": {},
   "outputs": [
    {
     "data": {
      "text/plain": [
       "0.00037373609400592755"
      ]
     },
     "execution_count": 99,
     "metadata": {},
     "output_type": "execute_result"
    }
   ],
   "source": [
    "# Pvalue\n",
    "p_value = 2 * (1 - t.cdf(abs(t_statistic), df))\n",
    "p_value"
   ]
  },
  {
   "cell_type": "code",
   "execution_count": 100,
   "id": "f987b7be",
   "metadata": {},
   "outputs": [
    {
     "data": {
      "text/plain": [
       "(4.364450175013195, 0.00037373609400592755)"
      ]
     },
     "execution_count": 100,
     "metadata": {},
     "output_type": "execute_result"
    }
   ],
   "source": [
    "t_statistic, p_value"
   ]
  },
  {
   "cell_type": "code",
   "execution_count": 101,
   "id": "28c25731",
   "metadata": {},
   "outputs": [
    {
     "name": "stdout",
     "output_type": "stream",
     "text": [
      "T Statistics= 4.364450175013195\n",
      "P Value= 0.00037373609400592755\n",
      "Reject the null hypothesis: The new drug is more effective in reducing cholesterol levels.\n"
     ]
    }
   ],
   "source": [
    "# Significance level\n",
    "alpha = 0.05\n",
    "\n",
    "# Decision statement\n",
    "if p_value < alpha:\n",
    "    decision = \"Reject the null hypothesis: The new drug is more effective in reducing cholesterol levels.\"\n",
    "else:\n",
    "    decision = \"Fail to reject the null hypothesis: There is not enough evidence to conclude that the new drug is more effective.\"\n",
    "\n",
    "# Print the decision statement\n",
    "print(f\"T Statistics= {t_statistic}\")\n",
    "print(f\"P Value= {p_value}\")\n",
    "print(decision)"
   ]
  },
  {
   "cell_type": "code",
   "execution_count": 102,
   "id": "c3750bf6",
   "metadata": {},
   "outputs": [],
   "source": [
    "# Q17.A school district introduces an educational intervention program to improve math scores. Write a Python function to analyze pre- and post-intervention test scores, calculating the t-statistic and p-value to determine if the intervention had a significant impact.\n",
    "\n",
    "# Use the following data of test score:\n",
    "\n",
    "pre_intervention_scores = [80, 85, 90, 75, 88, 82, 92, 78, 85, 87]\n",
    "\n",
    "post_intervention_scores = [90, 92, 88, 92, 95, 91, 96, 93, 89, 93]"
   ]
  },
  {
   "cell_type": "code",
   "execution_count": 103,
   "id": "50d9c8a0",
   "metadata": {},
   "outputs": [],
   "source": [
    "from scipy.stats import ttest_rel"
   ]
  },
  {
   "cell_type": "code",
   "execution_count": 104,
   "id": "69fef100",
   "metadata": {},
   "outputs": [],
   "source": [
    "# Pre- and post-intervention test scores\n",
    "pre_intervention_scores = [80, 85, 90, 75, 88, 82, 92, 78, 85, 87]\n",
    "post_intervention_scores = [90, 92, 88, 92, 95, 91, 96, 93, 89, 93]"
   ]
  },
  {
   "cell_type": "code",
   "execution_count": 106,
   "id": "9bd1b6ad",
   "metadata": {},
   "outputs": [
    {
     "data": {
      "text/plain": [
       "(-4.42840883965761, 0.0016509548165795493)"
      ]
     },
     "execution_count": 106,
     "metadata": {},
     "output_type": "execute_result"
    }
   ],
   "source": [
    "# t test\n",
    "t_stat, p_value = ttest_rel(pre_intervention_scores, post_intervention_scores)\n",
    "t_stat, p_value"
   ]
  },
  {
   "cell_type": "code",
   "execution_count": 107,
   "id": "2ae1f2ce",
   "metadata": {},
   "outputs": [
    {
     "name": "stdout",
     "output_type": "stream",
     "text": [
      "Reject the null hypothsis.The intervention had a statistically significant impact on test scores.\n"
     ]
    }
   ],
   "source": [
    "alpha = 0.05  # Significance level\n",
    "if p_value < alpha:\n",
    "    print(\"Reject the null hypothsis.The intervention had a statistically significant impact on test scores.\")\n",
    "else:\n",
    "    print(\"Failed to reject null hypothesis.The intervention did not have a statistically significant impact on test scores.\")"
   ]
  },
  {
   "cell_type": "code",
   "execution_count": 108,
   "id": "9cfe7f02",
   "metadata": {},
   "outputs": [],
   "source": [
    "# Q18.? An HR department wants to investigate if there's a gender-based salary gap within the company. Develop a program to analyze salary data, calculate the t-statistic, and determine if there's a statistically significant difference between the average salaries of male and female employees.\n",
    "\n",
    "# Use the below code to generate synthetic data:\n",
    "\n",
    "# Generate synthetic salary data for male and female employees\n",
    "\n",
    "np.random.seed(0)  # For reproducibility\n",
    "\n",
    "male_salaries = np.random.normal(loc=50000, scale=10000, size=20)\n",
    "\n",
    "female_salaries = np.random.normal(loc=55000, scale=9000, size=20)"
   ]
  },
  {
   "cell_type": "code",
   "execution_count": 109,
   "id": "64fc0831",
   "metadata": {},
   "outputs": [],
   "source": [
    "import scipy.stats as stats"
   ]
  },
  {
   "cell_type": "code",
   "execution_count": 110,
   "id": "660b18c4",
   "metadata": {},
   "outputs": [],
   "source": [
    "np.random.seed(0)  # For reproducibility\n",
    "\n",
    "male_salaries = np.random.normal(loc=50000, scale=10000, size=20)\n",
    "\n",
    "female_salaries = np.random.normal(loc=55000, scale=9000, size=20)"
   ]
  },
  {
   "cell_type": "code",
   "execution_count": 111,
   "id": "a38290a5",
   "metadata": {},
   "outputs": [
    {
     "data": {
      "text/plain": [
       "(0.061142089696313844, 0.9515826849267927)"
      ]
     },
     "execution_count": 111,
     "metadata": {},
     "output_type": "execute_result"
    }
   ],
   "source": [
    "t_stat, p_value = stats.ttest_ind(male_salaries, female_salaries, equal_var=False)\n",
    "\n",
    "t_stat, p_value"
   ]
  },
  {
   "cell_type": "code",
   "execution_count": 112,
   "id": "244ab4a4",
   "metadata": {},
   "outputs": [
    {
     "name": "stdout",
     "output_type": "stream",
     "text": [
      "T-statistic: 0.061142089696313844\n",
      "P-value: 0.9515826849267927\n"
     ]
    }
   ],
   "source": [
    "# Display results\n",
    "print(\"T-statistic:\", t_stat)\n",
    "print(\"P-value:\", p_value)"
   ]
  },
  {
   "cell_type": "code",
   "execution_count": 113,
   "id": "fd2e5c7b",
   "metadata": {},
   "outputs": [
    {
     "name": "stdout",
     "output_type": "stream",
     "text": [
      "Failed to reject null hypothesis.There is no statistically significant gender-based salary gap.\n"
     ]
    }
   ],
   "source": [
    "alpha = 0.05  # Significance level\n",
    "if p_value < alpha:\n",
    "    print(\"Reject the null hypothesis.There is a statistically significant gender-based salary gap.\")\n",
    "else:\n",
    "    print(\"Failed to reject null hypothesis.There is no statistically significant gender-based salary gap.\")"
   ]
  },
  {
   "cell_type": "code",
   "execution_count": 114,
   "id": "e4a8233e",
   "metadata": {},
   "outputs": [],
   "source": [
    "import scipy.stats as stats"
   ]
  },
  {
   "cell_type": "code",
   "execution_count": 115,
   "id": "4edf1fde",
   "metadata": {},
   "outputs": [
    {
     "data": {
      "text/plain": [
       "(11.325830417646698, 1.078754084378157e-14)"
      ]
     },
     "execution_count": 115,
     "metadata": {},
     "output_type": "execute_result"
    }
   ],
   "source": [
    "version1_scores = [85, 88, 82, 89, 87, 84, 90, 88, 85, 86, 91, 83, 87, 84, 89, 86, 84, 88, 85, 86, 89, 90, 87, 88, 85]\n",
    "\n",
    "version2_scores = [80, 78, 83, 81, 79, 82, 76, 80, 78, 81, 77, 82, 80, 79, 82, 79, 80, 81, 79, 82, 79, 78, 80, 81, 82]\n",
    "t_stat, pvalue = stats.ttest_ind(version1_scores, version2_scores, equal_var=False)\n",
    "t_stat, pvalue "
   ]
  },
  {
   "cell_type": "code",
   "execution_count": 116,
   "id": "f93073af",
   "metadata": {},
   "outputs": [
    {
     "name": "stdout",
     "output_type": "stream",
     "text": [
      "Reject the null hypothesis. There is a statistically significant difference in quality between the two versions.\n"
     ]
    }
   ],
   "source": [
    "alpha = 0.05  # Significance level\n",
    "if pvalue < alpha:\n",
    "        print(\"Reject the null hypothesis. There is a statistically significant difference in quality between the two versions.\")\n",
    "else:\n",
    "        print(\"Failed to reject the null hypothesis. There is no statistically significant difference in quality between the two versions.\")"
   ]
  },
  {
   "cell_type": "code",
   "execution_count": 117,
   "id": "aed19eca",
   "metadata": {},
   "outputs": [],
   "source": [
    "# Q20.A restaurant chain collects customer satisfaction scores for two different branches. Write a program to analyze the scores, calculate the t-statistic, and determine if there's a statistically significant difference in customer satisfaction between the branches.\n",
    "\n",
    "# Use the below data of scores:\n",
    "\n",
    "branch_a_scores = [4, 5, 3, 4, 5, 4, 5, 3, 4, 4, 5, 4, 4, 3, 4, 5, 5, 4, 3, 4, 5, 4, 3, 5, 4, 4, 5, 3, 4, 5, 4]\n",
    "\n",
    "branch_b_scores = [3, 4, 2, 3, 4, 3, 4, 2, 3, 3, 4, 3, 3, 2, 3, 4, 4, 3, 2, 3, 4, 3, 2, 4, 3, 3, 4, 2, 3, 4, 3]"
   ]
  },
  {
   "cell_type": "code",
   "execution_count": 118,
   "id": "b0828afb",
   "metadata": {},
   "outputs": [],
   "source": [
    "import scipy.stats as stats"
   ]
  },
  {
   "cell_type": "code",
   "execution_count": 119,
   "id": "d6eae64f",
   "metadata": {},
   "outputs": [
    {
     "data": {
      "text/plain": [
       "(5.480077554195743, 8.895290509945655e-07)"
      ]
     },
     "execution_count": 119,
     "metadata": {},
     "output_type": "execute_result"
    }
   ],
   "source": [
    "branch_a_scores = [4, 5, 3, 4, 5, 4, 5, 3, 4, 4, 5, 4, 4, 3, 4, 5, 5, 4, 3, 4, 5, 4, 3, 5, 4, 4, 5, 3, 4, 5, 4]\n",
    "branch_b_scores = [3, 4, 2, 3, 4, 3, 4, 2, 3, 3, 4, 3, 3, 2, 3, 4, 4, 3, 2, 3, 4, 3, 2, 4, 3, 3, 4, 2, 3, 4, 3]\n",
    "t_stat, pvalue = stats.ttest_ind(branch_a_scores, branch_b_scores, equal_var=False)\n",
    "t_stat, pvalue"
   ]
  },
  {
   "cell_type": "code",
   "execution_count": 120,
   "id": "344d9826",
   "metadata": {},
   "outputs": [
    {
     "name": "stdout",
     "output_type": "stream",
     "text": [
      "T-statistic: 5.480077554195743\n",
      "P-value: 8.895290509945655e-07\n"
     ]
    }
   ],
   "source": [
    "# Display results\n",
    "print(\"T-statistic:\", t_stat)\n",
    "print(\"P-value:\", pvalue)"
   ]
  },
  {
   "cell_type": "code",
   "execution_count": 121,
   "id": "ea0f94c6",
   "metadata": {},
   "outputs": [
    {
     "name": "stdout",
     "output_type": "stream",
     "text": [
      "Reject the null hypothesis. There is a statistically significant difference in customer satisfaction between the two branches.\n"
     ]
    }
   ],
   "source": [
    "# Interpretation\n",
    "alpha = 0.05  # Significance level\n",
    "if pvalue < alpha:\n",
    "    print(\"Reject the null hypothesis. There is a statistically significant difference in customer satisfaction between the two branches.\")\n",
    "else:\n",
    "    print(\"Failed to reject to null hypothesis. There is no statistically significant difference in customer satisfaction between the two branches.\")"
   ]
  },
  {
   "cell_type": "code",
   "execution_count": 124,
   "id": "bdbc9f54",
   "metadata": {},
   "outputs": [
    {
     "ename": "TypeError",
     "evalue": "unsupported operand type(s) for +: 'int' and 'str'",
     "output_type": "error",
     "traceback": [
      "\u001b[1;31m---------------------------------------------------------------------------\u001b[0m",
      "\u001b[1;31mTypeError\u001b[0m                                 Traceback (most recent call last)",
      "Cell \u001b[1;32mIn[124], line 7\u001b[0m\n\u001b[0;32m      1\u001b[0m \u001b[38;5;66;03m# Q21.A political analyst wants to determine if there is a significant association between age groups and voter preferences (Candidate A or Candidate B). They collect data from a sample of 500 voters and classify them into different age groups and candidate preferences. Perform a Chi-Square test to determine if there is a significant association between age groups and voter preferences.\u001b[39;00m\n\u001b[0;32m      2\u001b[0m \n\u001b[0;32m      3\u001b[0m \u001b[38;5;66;03m# Use the below code to generate data:\u001b[39;00m\n\u001b[0;32m      5\u001b[0m np\u001b[38;5;241m.\u001b[39mrandom\u001b[38;5;241m.\u001b[39mseed(\u001b[38;5;241m0\u001b[39m)\n\u001b[1;32m----> 7\u001b[0m age_groups \u001b[38;5;241m=\u001b[39m np\u001b[38;5;241m.\u001b[39mrandom\u001b[38;5;241m.\u001b[39mchoice([ \u001b[38;5;241m18\u001b[39m, \u001b[38;5;241m30\u001b[39m , \u001b[38;5;241m31\u001b[39m, \u001b[38;5;241m50\u001b[39m , \u001b[38;5;241m51\u001b[39m\u001b[38;5;241m+\u001b[39m\u001b[38;5;124m'\u001b[39m\u001b[38;5;124m, 51+\u001b[39m\u001b[38;5;124m'\u001b[39m], size\u001b[38;5;241m=\u001b[39m\u001b[38;5;241m30\u001b[39m)\n\u001b[0;32m      9\u001b[0m voter_preferences \u001b[38;5;241m=\u001b[39m np\u001b[38;5;241m.\u001b[39mrandom\u001b[38;5;241m.\u001b[39mchoice([\u001b[38;5;124m'\u001b[39m\u001b[38;5;124mCandidate A\u001b[39m\u001b[38;5;124m'\u001b[39m, \u001b[38;5;124m'\u001b[39m\u001b[38;5;124mCandidate B\u001b[39m\u001b[38;5;124m'\u001b[39m], size\u001b[38;5;241m=\u001b[39m\u001b[38;5;241m30\u001b[39m)\n",
      "\u001b[1;31mTypeError\u001b[0m: unsupported operand type(s) for +: 'int' and 'str'"
     ]
    }
   ],
   "source": [
    "# Q21.A political analyst wants to determine if there is a significant association between age groups and voter preferences (Candidate A or Candidate B). They collect data from a sample of 500 voters and classify them into different age groups and candidate preferences. Perform a Chi-Square test to determine if there is a significant association between age groups and voter preferences.\n",
    "\n",
    "# Use the below code to generate data:\n",
    "\n",
    "np.random.seed(0)\n",
    "\n",
    "age_groups = np.random.choice([ 18, 30 , 31, 50 , 51+', 51+'], size=30)\n",
    "\n",
    "voter_preferences = np.random.choice(['Candidate A', 'Candidate B'], size=30)"
   ]
  },
  {
   "cell_type": "code",
   "execution_count": 125,
   "id": "208c0fc3",
   "metadata": {},
   "outputs": [],
   "source": [
    "import numpy as np\n",
    "import scipy.stats as stats\n",
    "import pandas as pd"
   ]
  },
  {
   "cell_type": "code",
   "execution_count": 126,
   "id": "a7723304",
   "metadata": {},
   "outputs": [],
   "source": [
    "np.random.seed(0)\n",
    "\n",
    "age_groups = np.random.choice(['18-30' , '31-50' , '51+'], size=30)\n",
    "\n",
    "voter_preferences = np.random.choice(['Candidate A', 'Candidate B'], size=30)"
   ]
  },
  {
   "cell_type": "code",
   "execution_count": 127,
   "id": "c8936925",
   "metadata": {},
   "outputs": [],
   "source": [
    "data = pd.DataFrame({\n",
    "    'Age Group': age_groups,\n",
    "    'Voter Preference': voter_preferences\n",
    "})\n",
    "contigency_table = pd.crosstab(data['Age Group'], data['Voter Preference'])"
   ]
  },
  {
   "cell_type": "code",
   "execution_count": 128,
   "id": "dbd85662",
   "metadata": {},
   "outputs": [
    {
     "data": {
      "text/html": [
       "<div>\n",
       "<style scoped>\n",
       "    .dataframe tbody tr th:only-of-type {\n",
       "        vertical-align: middle;\n",
       "    }\n",
       "\n",
       "    .dataframe tbody tr th {\n",
       "        vertical-align: top;\n",
       "    }\n",
       "\n",
       "    .dataframe thead th {\n",
       "        text-align: right;\n",
       "    }\n",
       "</style>\n",
       "<table border=\"1\" class=\"dataframe\">\n",
       "  <thead>\n",
       "    <tr style=\"text-align: right;\">\n",
       "      <th>Voter Preference</th>\n",
       "      <th>Candidate A</th>\n",
       "      <th>Candidate B</th>\n",
       "    </tr>\n",
       "    <tr>\n",
       "      <th>Age Group</th>\n",
       "      <th></th>\n",
       "      <th></th>\n",
       "    </tr>\n",
       "  </thead>\n",
       "  <tbody>\n",
       "    <tr>\n",
       "      <th>18-30</th>\n",
       "      <td>4</td>\n",
       "      <td>8</td>\n",
       "    </tr>\n",
       "    <tr>\n",
       "      <th>31-50</th>\n",
       "      <td>6</td>\n",
       "      <td>5</td>\n",
       "    </tr>\n",
       "    <tr>\n",
       "      <th>51+</th>\n",
       "      <td>4</td>\n",
       "      <td>3</td>\n",
       "    </tr>\n",
       "  </tbody>\n",
       "</table>\n",
       "</div>"
      ],
      "text/plain": [
       "Voter Preference  Candidate A  Candidate B\n",
       "Age Group                                 \n",
       "18-30                       4            8\n",
       "31-50                       6            5\n",
       "51+                         4            3"
      ]
     },
     "execution_count": 128,
     "metadata": {},
     "output_type": "execute_result"
    }
   ],
   "source": [
    "contigency_table"
   ]
  },
  {
   "cell_type": "code",
   "execution_count": 129,
   "id": "a9b0176b",
   "metadata": {},
   "outputs": [],
   "source": [
    "chi2, p, dof, expected = stats.chi2_contingency(contigency_table)"
   ]
  },
  {
   "cell_type": "code",
   "execution_count": 130,
   "id": "5b700269",
   "metadata": {},
   "outputs": [
    {
     "name": "stdout",
     "output_type": "stream",
     "text": [
      "Chi-Square Statistic: 1.4401669758812612\n",
      "P-value: 0.48671161971286614\n",
      "Degrees of Freedom: 2\n",
      "Expected Frequencies Table:\n",
      " [[5.6        6.4       ]\n",
      " [5.13333333 5.86666667]\n",
      " [3.26666667 3.73333333]]\n"
     ]
    }
   ],
   "source": [
    "print(\"Chi-Square Statistic:\", chi2)\n",
    "print(\"P-value:\", p)\n",
    "print(\"Degrees of Freedom:\", dof)\n",
    "print(\"Expected Frequencies Table:\\n\", expected)"
   ]
  },
  {
   "cell_type": "code",
   "execution_count": 131,
   "id": "cd88cfe8",
   "metadata": {},
   "outputs": [
    {
     "name": "stdout",
     "output_type": "stream",
     "text": [
      "Failed to reject null hypo. There is no significant association between age groups and voter preferences.\n"
     ]
    }
   ],
   "source": [
    "alpha = 0.05\n",
    "if p < alpha:\n",
    "    print(\"Reject the null hypo. There is a significant association between age groups and voter preferences.\")\n",
    "else:\n",
    "    print(\"Failed to reject null hypo. There is no significant association between age groups and voter preferences.\")"
   ]
  },
  {
   "cell_type": "code",
   "execution_count": 132,
   "id": "7111aee4",
   "metadata": {},
   "outputs": [],
   "source": [
    "# Q22.A company conducted a customer satisfaction survey to determine if there is a significant relationship between product satisfaction levels (Satisfied, Neutral, Dissatisfied) and the region where customers are located (East, West, North, South). The survey data is summarized in a contingency table. Conduct a ChiSquare test to determine if there is a significant relationship between product satisfaction levels and customer regions.\n",
    "\n",
    "# Sample data:\n",
    "\n",
    "#Sample data: Product satisfaction levels (rows) vs. Customer regions (columns)\n",
    "\n",
    "data = np.array([[50, 30, 40, 20], [30, 40, 30, 50], [20, 30, 40, 30]])"
   ]
  },
  {
   "cell_type": "code",
   "execution_count": 133,
   "id": "d8888a63",
   "metadata": {},
   "outputs": [],
   "source": [
    "import numpy as np\n",
    "import scipy.stats as stats\n",
    "import pandas as pd"
   ]
  },
  {
   "cell_type": "code",
   "execution_count": 134,
   "id": "058d8342",
   "metadata": {},
   "outputs": [],
   "source": [
    "data = np.array([[50, 30, 40, 20], [30, 40, 30, 50], [20, 30, 40, 30]])"
   ]
  },
  {
   "cell_type": "code",
   "execution_count": 135,
   "id": "57458d19",
   "metadata": {},
   "outputs": [],
   "source": [
    "# Define rows and columns\n",
    "satisfaction_levels = [\"Satisfied\", \"Neutral\", \"Dissatisfied\"]\n",
    "regions = [\"East\", \"West\", \"North\", \"South\"]"
   ]
  },
  {
   "cell_type": "code",
   "execution_count": 136,
   "id": "13175de5",
   "metadata": {},
   "outputs": [
    {
     "data": {
      "text/html": [
       "<div>\n",
       "<style scoped>\n",
       "    .dataframe tbody tr th:only-of-type {\n",
       "        vertical-align: middle;\n",
       "    }\n",
       "\n",
       "    .dataframe tbody tr th {\n",
       "        vertical-align: top;\n",
       "    }\n",
       "\n",
       "    .dataframe thead th {\n",
       "        text-align: right;\n",
       "    }\n",
       "</style>\n",
       "<table border=\"1\" class=\"dataframe\">\n",
       "  <thead>\n",
       "    <tr style=\"text-align: right;\">\n",
       "      <th></th>\n",
       "      <th>East</th>\n",
       "      <th>West</th>\n",
       "      <th>North</th>\n",
       "      <th>South</th>\n",
       "    </tr>\n",
       "  </thead>\n",
       "  <tbody>\n",
       "    <tr>\n",
       "      <th>Satisfied</th>\n",
       "      <td>50</td>\n",
       "      <td>30</td>\n",
       "      <td>40</td>\n",
       "      <td>20</td>\n",
       "    </tr>\n",
       "    <tr>\n",
       "      <th>Neutral</th>\n",
       "      <td>30</td>\n",
       "      <td>40</td>\n",
       "      <td>30</td>\n",
       "      <td>50</td>\n",
       "    </tr>\n",
       "    <tr>\n",
       "      <th>Dissatisfied</th>\n",
       "      <td>20</td>\n",
       "      <td>30</td>\n",
       "      <td>40</td>\n",
       "      <td>30</td>\n",
       "    </tr>\n",
       "  </tbody>\n",
       "</table>\n",
       "</div>"
      ],
      "text/plain": [
       "              East  West  North  South\n",
       "Satisfied       50    30     40     20\n",
       "Neutral         30    40     30     50\n",
       "Dissatisfied    20    30     40     30"
      ]
     },
     "execution_count": 136,
     "metadata": {},
     "output_type": "execute_result"
    }
   ],
   "source": [
    "# Create a df\n",
    "df = pd.DataFrame(data, index=satisfaction_levels, columns=regions)\n",
    "df"
   ]
  },
  {
   "cell_type": "code",
   "execution_count": 137,
   "id": "bdaadec2",
   "metadata": {},
   "outputs": [
    {
     "name": "stdout",
     "output_type": "stream",
     "text": [
      "\n",
      "Chi-Square Statistic: 27.777056277056275\n",
      "P-value: 0.00010349448486004387\n",
      "Degrees of Freedom: 6\n"
     ]
    }
   ],
   "source": [
    "# Chi square test\n",
    "chi2, p, dof, expected = stats.chi2_contingency(df)\n",
    "# Display results\n",
    "print(\"\\nChi-Square Statistic:\", chi2)\n",
    "print(\"P-value:\", p)\n",
    "print(\"Degrees of Freedom:\", dof)"
   ]
  },
  {
   "cell_type": "code",
   "execution_count": 138,
   "id": "9e1d35b2",
   "metadata": {},
   "outputs": [
    {
     "data": {
      "text/html": [
       "<div>\n",
       "<style scoped>\n",
       "    .dataframe tbody tr th:only-of-type {\n",
       "        vertical-align: middle;\n",
       "    }\n",
       "\n",
       "    .dataframe tbody tr th {\n",
       "        vertical-align: top;\n",
       "    }\n",
       "\n",
       "    .dataframe thead th {\n",
       "        text-align: right;\n",
       "    }\n",
       "</style>\n",
       "<table border=\"1\" class=\"dataframe\">\n",
       "  <thead>\n",
       "    <tr style=\"text-align: right;\">\n",
       "      <th></th>\n",
       "      <th>East</th>\n",
       "      <th>West</th>\n",
       "      <th>North</th>\n",
       "      <th>South</th>\n",
       "    </tr>\n",
       "  </thead>\n",
       "  <tbody>\n",
       "    <tr>\n",
       "      <th>Satisfied</th>\n",
       "      <td>34.146341</td>\n",
       "      <td>34.146341</td>\n",
       "      <td>37.560976</td>\n",
       "      <td>34.146341</td>\n",
       "    </tr>\n",
       "    <tr>\n",
       "      <th>Neutral</th>\n",
       "      <td>36.585366</td>\n",
       "      <td>36.585366</td>\n",
       "      <td>40.243902</td>\n",
       "      <td>36.585366</td>\n",
       "    </tr>\n",
       "    <tr>\n",
       "      <th>Dissatisfied</th>\n",
       "      <td>29.268293</td>\n",
       "      <td>29.268293</td>\n",
       "      <td>32.195122</td>\n",
       "      <td>29.268293</td>\n",
       "    </tr>\n",
       "  </tbody>\n",
       "</table>\n",
       "</div>"
      ],
      "text/plain": [
       "                   East       West      North      South\n",
       "Satisfied     34.146341  34.146341  37.560976  34.146341\n",
       "Neutral       36.585366  36.585366  40.243902  36.585366\n",
       "Dissatisfied  29.268293  29.268293  32.195122  29.268293"
      ]
     },
     "execution_count": 138,
     "metadata": {},
     "output_type": "execute_result"
    }
   ],
   "source": [
    "# Convert the expected frequencies to a DataFrame for easier reading\n",
    "expected_df = pd.DataFrame(expected, index=satisfaction_levels, columns=regions)\n",
    "expected_df"
   ]
  },
  {
   "cell_type": "code",
   "execution_count": 139,
   "id": "675a7e49",
   "metadata": {},
   "outputs": [
    {
     "name": "stdout",
     "output_type": "stream",
     "text": [
      "\n",
      "Conclusion: Reject the null hypothesis. There is a significant relationship between product satisfaction levels and customer regions.\n"
     ]
    }
   ],
   "source": [
    "alpha = 0.05\n",
    "if p < alpha:\n",
    "    print(\"\\nConclusion: Reject the null hypothesis. There is a significant relationship between product satisfaction levels and customer regions.\")\n",
    "else:\n",
    "    print(\"\\nConclusion: failed to reject the null hypothesis. There is no significant relationship between product satisfaction levels and customer regions.\")"
   ]
  },
  {
   "cell_type": "code",
   "execution_count": 140,
   "id": "f68e8076",
   "metadata": {},
   "outputs": [],
   "source": [
    "# Q23. A company implemented an employee training program to improve job performance (Effective, Neutral, Ineffective). After the training, they collected data from a sample of employees and classified them based on their job performance before and after the training. Perform a Chi-Square test to determine if there is a significant difference between job performance levels before and after the training.\n",
    "\n",
    "# Sample data:\n",
    "\n",
    "# Sample data: Job performance levels before (rows) and after (columns) training\n",
    "\n",
    "data = np.array([[50, 30, 20], [30, 40, 30], [20, 30, 40]])"
   ]
  },
  {
   "cell_type": "code",
   "execution_count": 141,
   "id": "0de91cfc",
   "metadata": {},
   "outputs": [],
   "source": [
    "import numpy as np\n",
    "import scipy.stats as stats\n",
    "import pandas as pd"
   ]
  },
  {
   "cell_type": "code",
   "execution_count": 142,
   "id": "8c73d145",
   "metadata": {},
   "outputs": [],
   "source": [
    "data = np.array([[50, 30, 20], [30, 40, 30], [20, 30, 40]])"
   ]
  },
  {
   "cell_type": "code",
   "execution_count": 143,
   "id": "763336db",
   "metadata": {},
   "outputs": [
    {
     "data": {
      "text/html": [
       "<div>\n",
       "<style scoped>\n",
       "    .dataframe tbody tr th:only-of-type {\n",
       "        vertical-align: middle;\n",
       "    }\n",
       "\n",
       "    .dataframe tbody tr th {\n",
       "        vertical-align: top;\n",
       "    }\n",
       "\n",
       "    .dataframe thead th {\n",
       "        text-align: right;\n",
       "    }\n",
       "</style>\n",
       "<table border=\"1\" class=\"dataframe\">\n",
       "  <thead>\n",
       "    <tr style=\"text-align: right;\">\n",
       "      <th></th>\n",
       "      <th>Effective</th>\n",
       "      <th>Neutral</th>\n",
       "      <th>Ineffective</th>\n",
       "    </tr>\n",
       "  </thead>\n",
       "  <tbody>\n",
       "    <tr>\n",
       "      <th>Effective</th>\n",
       "      <td>50</td>\n",
       "      <td>30</td>\n",
       "      <td>20</td>\n",
       "    </tr>\n",
       "    <tr>\n",
       "      <th>Neutral</th>\n",
       "      <td>30</td>\n",
       "      <td>40</td>\n",
       "      <td>30</td>\n",
       "    </tr>\n",
       "    <tr>\n",
       "      <th>Ineffective</th>\n",
       "      <td>20</td>\n",
       "      <td>30</td>\n",
       "      <td>40</td>\n",
       "    </tr>\n",
       "  </tbody>\n",
       "</table>\n",
       "</div>"
      ],
      "text/plain": [
       "             Effective  Neutral  Ineffective\n",
       "Effective           50       30           20\n",
       "Neutral             30       40           30\n",
       "Ineffective         20       30           40"
      ]
     },
     "execution_count": 143,
     "metadata": {},
     "output_type": "execute_result"
    }
   ],
   "source": [
    "# Define row and column labels\n",
    "performance_levels_before = [\"Effective\", \"Neutral\", \"Ineffective\"]\n",
    "performance_levels_after = [\"Effective\", \"Neutral\", \"Ineffective\"]\n",
    "\n",
    "# Create a DataFrame\n",
    "df = pd.DataFrame(data, index=performance_levels_before, columns=performance_levels_after)\n",
    "df"
   ]
  },
  {
   "cell_type": "code",
   "execution_count": 144,
   "id": "42983bba",
   "metadata": {},
   "outputs": [],
   "source": [
    "# Perform the Chi-Square test\n",
    "chi2, p, dof, expected = stats.chi2_contingency(df)"
   ]
  },
  {
   "cell_type": "code",
   "execution_count": 145,
   "id": "0100ea2d",
   "metadata": {},
   "outputs": [
    {
     "name": "stdout",
     "output_type": "stream",
     "text": [
      "\n",
      "Chi-Square Statistic: 22.161728395061726\n",
      "P-value: 0.00018609719479882557\n",
      "Degrees of Freedom: 4\n"
     ]
    }
   ],
   "source": [
    "# Display results\n",
    "print(\"\\nChi-Square Statistic:\", chi2)\n",
    "print(\"P-value:\", p)\n",
    "print(\"Degrees of Freedom:\", dof)"
   ]
  },
  {
   "cell_type": "code",
   "execution_count": 146,
   "id": "283418bb",
   "metadata": {},
   "outputs": [
    {
     "data": {
      "text/html": [
       "<div>\n",
       "<style scoped>\n",
       "    .dataframe tbody tr th:only-of-type {\n",
       "        vertical-align: middle;\n",
       "    }\n",
       "\n",
       "    .dataframe tbody tr th {\n",
       "        vertical-align: top;\n",
       "    }\n",
       "\n",
       "    .dataframe thead th {\n",
       "        text-align: right;\n",
       "    }\n",
       "</style>\n",
       "<table border=\"1\" class=\"dataframe\">\n",
       "  <thead>\n",
       "    <tr style=\"text-align: right;\">\n",
       "      <th></th>\n",
       "      <th>Effective</th>\n",
       "      <th>Neutral</th>\n",
       "      <th>Ineffective</th>\n",
       "    </tr>\n",
       "  </thead>\n",
       "  <tbody>\n",
       "    <tr>\n",
       "      <th>Effective</th>\n",
       "      <td>34.482759</td>\n",
       "      <td>34.482759</td>\n",
       "      <td>31.034483</td>\n",
       "    </tr>\n",
       "    <tr>\n",
       "      <th>Neutral</th>\n",
       "      <td>34.482759</td>\n",
       "      <td>34.482759</td>\n",
       "      <td>31.034483</td>\n",
       "    </tr>\n",
       "    <tr>\n",
       "      <th>Ineffective</th>\n",
       "      <td>31.034483</td>\n",
       "      <td>31.034483</td>\n",
       "      <td>27.931034</td>\n",
       "    </tr>\n",
       "  </tbody>\n",
       "</table>\n",
       "</div>"
      ],
      "text/plain": [
       "             Effective    Neutral  Ineffective\n",
       "Effective    34.482759  34.482759    31.034483\n",
       "Neutral      34.482759  34.482759    31.034483\n",
       "Ineffective  31.034483  31.034483    27.931034"
      ]
     },
     "execution_count": 146,
     "metadata": {},
     "output_type": "execute_result"
    }
   ],
   "source": [
    "# Convert the expected frequencies to a DataFrame for easier reading\n",
    "expected_df = pd.DataFrame(expected, index=performance_levels_before, columns=performance_levels_after)\n",
    "(expected_df)"
   ]
  },
  {
   "cell_type": "code",
   "execution_count": 147,
   "id": "d9e344e2",
   "metadata": {},
   "outputs": [
    {
     "name": "stdout",
     "output_type": "stream",
     "text": [
      "\n",
      "Conclusion: There is a significant difference in job performance levels before and after training.\n"
     ]
    }
   ],
   "source": [
    "# Decision making\n",
    "alpha = 0.05\n",
    "if p < alpha:\n",
    "    print(\"\\nConclusion: There is a significant difference in job performance levels before and after training.\")\n",
    "else:\n",
    "    print(\"\\nConclusion: There is no significant difference in job performance levels before and after training.\")"
   ]
  },
  {
   "cell_type": "code",
   "execution_count": 149,
   "id": "ab959dcd",
   "metadata": {},
   "outputs": [],
   "source": [
    "# Q24.A company produces three different versions of a product: Standard, Premium, and Deluxe. The company wants to determine if there is a significant difference in customer satisfaction scores among the three product versions. They conducted a survey and collected customer satisfaction scores for each version from a random sample of customers. Perform an ANOVA test to determine if there is a significant difference in customer satisfaction scores.\n",
    "\n",
    "# Use the following data:\n",
    "\n",
    "# Sample data: Customer satisfaction scores for each product version\n",
    "\n",
    "standard_scores = [80, 85, 90, 78, 88, 82, 92, 78, 85, 87]\n",
    "\n",
    "premium_scores = [90, 92, 88, 92, 95, 91, 96, 93, 89, 93]\n",
    "\n",
    "deluxe_scores = [95, 98, 92, 97, 96, 94, 98, 97, 92, 99]"
   ]
  },
  {
   "cell_type": "code",
   "execution_count": 150,
   "id": "987f4418",
   "metadata": {},
   "outputs": [],
   "source": [
    "import numpy as np\n",
    "import scipy.stats as stats\n",
    "import pandas as pd"
   ]
  },
  {
   "cell_type": "code",
   "execution_count": 151,
   "id": "4d91f62d",
   "metadata": {},
   "outputs": [],
   "source": [
    "standard_scores = [80, 85, 90, 78, 88, 82, 92, 78, 85, 87]\n",
    "premium_scores = [90, 92, 88, 92, 95, 91, 96, 93, 89, 93]\n",
    "deluxe_scores = [95, 98, 92, 97, 96, 94, 98, 97, 92, 99]\n",
    "data = {\n",
    "    'Standard': standard_scores,\n",
    "    'Premium': premium_scores,\n",
    "    'Deluxe': deluxe_scores\n",
    "}"
   ]
  },
  {
   "cell_type": "code",
   "execution_count": 152,
   "id": "45a2856f",
   "metadata": {},
   "outputs": [
    {
     "data": {
      "text/html": [
       "<div>\n",
       "<style scoped>\n",
       "    .dataframe tbody tr th:only-of-type {\n",
       "        vertical-align: middle;\n",
       "    }\n",
       "\n",
       "    .dataframe tbody tr th {\n",
       "        vertical-align: top;\n",
       "    }\n",
       "\n",
       "    .dataframe thead th {\n",
       "        text-align: right;\n",
       "    }\n",
       "</style>\n",
       "<table border=\"1\" class=\"dataframe\">\n",
       "  <thead>\n",
       "    <tr style=\"text-align: right;\">\n",
       "      <th></th>\n",
       "      <th>Standard</th>\n",
       "      <th>Premium</th>\n",
       "      <th>Deluxe</th>\n",
       "    </tr>\n",
       "  </thead>\n",
       "  <tbody>\n",
       "    <tr>\n",
       "      <th>0</th>\n",
       "      <td>80</td>\n",
       "      <td>90</td>\n",
       "      <td>95</td>\n",
       "    </tr>\n",
       "    <tr>\n",
       "      <th>1</th>\n",
       "      <td>85</td>\n",
       "      <td>92</td>\n",
       "      <td>98</td>\n",
       "    </tr>\n",
       "    <tr>\n",
       "      <th>2</th>\n",
       "      <td>90</td>\n",
       "      <td>88</td>\n",
       "      <td>92</td>\n",
       "    </tr>\n",
       "    <tr>\n",
       "      <th>3</th>\n",
       "      <td>78</td>\n",
       "      <td>92</td>\n",
       "      <td>97</td>\n",
       "    </tr>\n",
       "    <tr>\n",
       "      <th>4</th>\n",
       "      <td>88</td>\n",
       "      <td>95</td>\n",
       "      <td>96</td>\n",
       "    </tr>\n",
       "    <tr>\n",
       "      <th>5</th>\n",
       "      <td>82</td>\n",
       "      <td>91</td>\n",
       "      <td>94</td>\n",
       "    </tr>\n",
       "    <tr>\n",
       "      <th>6</th>\n",
       "      <td>92</td>\n",
       "      <td>96</td>\n",
       "      <td>98</td>\n",
       "    </tr>\n",
       "    <tr>\n",
       "      <th>7</th>\n",
       "      <td>78</td>\n",
       "      <td>93</td>\n",
       "      <td>97</td>\n",
       "    </tr>\n",
       "    <tr>\n",
       "      <th>8</th>\n",
       "      <td>85</td>\n",
       "      <td>89</td>\n",
       "      <td>92</td>\n",
       "    </tr>\n",
       "    <tr>\n",
       "      <th>9</th>\n",
       "      <td>87</td>\n",
       "      <td>93</td>\n",
       "      <td>99</td>\n",
       "    </tr>\n",
       "  </tbody>\n",
       "</table>\n",
       "</div>"
      ],
      "text/plain": [
       "   Standard  Premium  Deluxe\n",
       "0        80       90      95\n",
       "1        85       92      98\n",
       "2        90       88      92\n",
       "3        78       92      97\n",
       "4        88       95      96\n",
       "5        82       91      94\n",
       "6        92       96      98\n",
       "7        78       93      97\n",
       "8        85       89      92\n",
       "9        87       93      99"
      ]
     },
     "execution_count": 152,
     "metadata": {},
     "output_type": "execute_result"
    }
   ],
   "source": [
    "df = pd.DataFrame(data)\n",
    "df"
   ]
  },
  {
   "cell_type": "code",
   "execution_count": 153,
   "id": "6abf20b5",
   "metadata": {},
   "outputs": [
    {
     "name": "stdout",
     "output_type": "stream",
     "text": [
      "\n",
      "ANOVA Test Statistic (F): 27.03556231003039\n",
      "P-value: 3.5786328857349003e-07\n"
     ]
    }
   ],
   "source": [
    "# Perform the ANOVA test\n",
    "f_statistic, p_value = stats.f_oneway(standard_scores, premium_scores, deluxe_scores)\n",
    "# Display results\n",
    "print(\"\\nANOVA Test Statistic (F):\", f_statistic)\n",
    "print(\"P-value:\", p_value)"
   ]
  },
  {
   "cell_type": "code",
   "execution_count": 154,
   "id": "e3e3b69b",
   "metadata": {},
   "outputs": [
    {
     "name": "stdout",
     "output_type": "stream",
     "text": [
      "\n",
      "Conclusion: There is a significant difference in customer satisfaction scores among the product versions.\n"
     ]
    }
   ],
   "source": [
    "alpha = 0.05\n",
    "if p_value < alpha:\n",
    "    print(\"\\nConclusion: There is a significant difference in customer satisfaction scores among the product versions.\")\n",
    "else:\n",
    "    print(\"\\nConclusion: There is no significant difference in customer satisfaction scores among the product versions.\")"
   ]
  },
  {
   "cell_type": "code",
   "execution_count": null,
   "id": "a9f2a59b",
   "metadata": {},
   "outputs": [],
   "source": []
  }
 ],
 "metadata": {
  "kernelspec": {
   "display_name": "Python 3 (ipykernel)",
   "language": "python",
   "name": "python3"
  },
  "language_info": {
   "codemirror_mode": {
    "name": "ipython",
    "version": 3
   },
   "file_extension": ".py",
   "mimetype": "text/x-python",
   "name": "python",
   "nbconvert_exporter": "python",
   "pygments_lexer": "ipython3",
   "version": "3.11.5"
  }
 },
 "nbformat": 4,
 "nbformat_minor": 5
}
