{
  "nbformat": 4,
  "nbformat_minor": 0,
  "metadata": {
    "colab": {
      "name": "Statistical  & Probability Notebook : Part 1.ipynb",
      "provenance": [],
      "toc_visible": true
    },
    "kernelspec": {
      "name": "python3",
      "display_name": "Python 3"
    },
    "language_info": {
      "name": "python"
    }
  },
  "cells": [
    {
      "cell_type": "markdown",
      "metadata": {
        "id": "5_i086CARGQk"
      },
      "source": [
        "# **Statistical  & Probability Notebook : House Prices - Advanced Regression Techniques**"
      ]
    },
    {
      "cell_type": "markdown",
      "metadata": {
        "id": "cudAddQXRUwP"
      },
      "source": [
        "## **Part 1**"
      ]
    },
    {
      "cell_type": "code",
      "metadata": {
        "id": "2eIgc43XY12Y"
      },
      "source": [
        "# for basic operations\n",
        "import numpy as np \n",
        "import pandas as pd \n",
        "\n",
        "# for data visualizations\n",
        "import seaborn as sns\n",
        "import matplotlib.pyplot as plt"
      ],
      "execution_count": 1,
      "outputs": []
    },
    {
      "cell_type": "code",
      "metadata": {
        "colab": {
          "base_uri": "https://localhost:8080/"
        },
        "id": "NKB9gRnmY2ug",
        "outputId": "77e3ba26-f63f-4368-a028-d1c6c76dcea3"
      },
      "source": [
        "# reading the data\n",
        "data = pd.read_csv('/content/sample_data/dataset.csv')\n",
        "\n",
        "# check the shape of the dataset\n",
        "data.shape"
      ],
      "execution_count": 2,
      "outputs": [
        {
          "output_type": "execute_result",
          "data": {
            "text/plain": [
              "(1460, 81)"
            ]
          },
          "metadata": {
            "tags": []
          },
          "execution_count": 2
        }
      ]
    },
    {
      "cell_type": "code",
      "metadata": {
        "colab": {
          "base_uri": "https://localhost:8080/",
          "height": 244
        },
        "id": "MrGX3sYRXqYR",
        "outputId": "55061855-5422-442e-fdcc-6d17000cfcd1"
      },
      "source": [
        "data.head()"
      ],
      "execution_count": 3,
      "outputs": [
        {
          "output_type": "execute_result",
          "data": {
            "text/html": [
              "<div>\n",
              "<style scoped>\n",
              "    .dataframe tbody tr th:only-of-type {\n",
              "        vertical-align: middle;\n",
              "    }\n",
              "\n",
              "    .dataframe tbody tr th {\n",
              "        vertical-align: top;\n",
              "    }\n",
              "\n",
              "    .dataframe thead th {\n",
              "        text-align: right;\n",
              "    }\n",
              "</style>\n",
              "<table border=\"1\" class=\"dataframe\">\n",
              "  <thead>\n",
              "    <tr style=\"text-align: right;\">\n",
              "      <th></th>\n",
              "      <th>Id</th>\n",
              "      <th>MSSubClass</th>\n",
              "      <th>MSZoning</th>\n",
              "      <th>LotFrontage</th>\n",
              "      <th>LotArea</th>\n",
              "      <th>Street</th>\n",
              "      <th>Alley</th>\n",
              "      <th>LotShape</th>\n",
              "      <th>LandContour</th>\n",
              "      <th>Utilities</th>\n",
              "      <th>LotConfig</th>\n",
              "      <th>LandSlope</th>\n",
              "      <th>Neighborhood</th>\n",
              "      <th>Condition1</th>\n",
              "      <th>Condition2</th>\n",
              "      <th>BldgType</th>\n",
              "      <th>HouseStyle</th>\n",
              "      <th>OverallQual</th>\n",
              "      <th>OverallCond</th>\n",
              "      <th>YearBuilt</th>\n",
              "      <th>YearRemodAdd</th>\n",
              "      <th>RoofStyle</th>\n",
              "      <th>RoofMatl</th>\n",
              "      <th>Exterior1st</th>\n",
              "      <th>Exterior2nd</th>\n",
              "      <th>MasVnrType</th>\n",
              "      <th>MasVnrArea</th>\n",
              "      <th>ExterQual</th>\n",
              "      <th>ExterCond</th>\n",
              "      <th>Foundation</th>\n",
              "      <th>BsmtQual</th>\n",
              "      <th>BsmtCond</th>\n",
              "      <th>BsmtExposure</th>\n",
              "      <th>BsmtFinType1</th>\n",
              "      <th>BsmtFinSF1</th>\n",
              "      <th>BsmtFinType2</th>\n",
              "      <th>BsmtFinSF2</th>\n",
              "      <th>BsmtUnfSF</th>\n",
              "      <th>TotalBsmtSF</th>\n",
              "      <th>Heating</th>\n",
              "      <th>...</th>\n",
              "      <th>CentralAir</th>\n",
              "      <th>Electrical</th>\n",
              "      <th>1stFlrSF</th>\n",
              "      <th>2ndFlrSF</th>\n",
              "      <th>LowQualFinSF</th>\n",
              "      <th>GrLivArea</th>\n",
              "      <th>BsmtFullBath</th>\n",
              "      <th>BsmtHalfBath</th>\n",
              "      <th>FullBath</th>\n",
              "      <th>HalfBath</th>\n",
              "      <th>BedroomAbvGr</th>\n",
              "      <th>KitchenAbvGr</th>\n",
              "      <th>KitchenQual</th>\n",
              "      <th>TotRmsAbvGrd</th>\n",
              "      <th>Functional</th>\n",
              "      <th>Fireplaces</th>\n",
              "      <th>FireplaceQu</th>\n",
              "      <th>GarageType</th>\n",
              "      <th>GarageYrBlt</th>\n",
              "      <th>GarageFinish</th>\n",
              "      <th>GarageCars</th>\n",
              "      <th>GarageArea</th>\n",
              "      <th>GarageQual</th>\n",
              "      <th>GarageCond</th>\n",
              "      <th>PavedDrive</th>\n",
              "      <th>WoodDeckSF</th>\n",
              "      <th>OpenPorchSF</th>\n",
              "      <th>EnclosedPorch</th>\n",
              "      <th>3SsnPorch</th>\n",
              "      <th>ScreenPorch</th>\n",
              "      <th>PoolArea</th>\n",
              "      <th>PoolQC</th>\n",
              "      <th>Fence</th>\n",
              "      <th>MiscFeature</th>\n",
              "      <th>MiscVal</th>\n",
              "      <th>MoSold</th>\n",
              "      <th>YrSold</th>\n",
              "      <th>SaleType</th>\n",
              "      <th>SaleCondition</th>\n",
              "      <th>SalePrice</th>\n",
              "    </tr>\n",
              "  </thead>\n",
              "  <tbody>\n",
              "    <tr>\n",
              "      <th>0</th>\n",
              "      <td>1</td>\n",
              "      <td>60</td>\n",
              "      <td>RL</td>\n",
              "      <td>65.0</td>\n",
              "      <td>8450</td>\n",
              "      <td>Pave</td>\n",
              "      <td>NaN</td>\n",
              "      <td>Reg</td>\n",
              "      <td>Lvl</td>\n",
              "      <td>AllPub</td>\n",
              "      <td>Inside</td>\n",
              "      <td>Gtl</td>\n",
              "      <td>CollgCr</td>\n",
              "      <td>Norm</td>\n",
              "      <td>Norm</td>\n",
              "      <td>1Fam</td>\n",
              "      <td>2Story</td>\n",
              "      <td>7</td>\n",
              "      <td>5</td>\n",
              "      <td>2003</td>\n",
              "      <td>2003</td>\n",
              "      <td>Gable</td>\n",
              "      <td>CompShg</td>\n",
              "      <td>VinylSd</td>\n",
              "      <td>VinylSd</td>\n",
              "      <td>BrkFace</td>\n",
              "      <td>196.0</td>\n",
              "      <td>Gd</td>\n",
              "      <td>TA</td>\n",
              "      <td>PConc</td>\n",
              "      <td>Gd</td>\n",
              "      <td>TA</td>\n",
              "      <td>No</td>\n",
              "      <td>GLQ</td>\n",
              "      <td>706</td>\n",
              "      <td>Unf</td>\n",
              "      <td>0</td>\n",
              "      <td>150</td>\n",
              "      <td>856</td>\n",
              "      <td>GasA</td>\n",
              "      <td>...</td>\n",
              "      <td>Y</td>\n",
              "      <td>SBrkr</td>\n",
              "      <td>856</td>\n",
              "      <td>854</td>\n",
              "      <td>0</td>\n",
              "      <td>1710</td>\n",
              "      <td>1</td>\n",
              "      <td>0</td>\n",
              "      <td>2</td>\n",
              "      <td>1</td>\n",
              "      <td>3</td>\n",
              "      <td>1</td>\n",
              "      <td>Gd</td>\n",
              "      <td>8</td>\n",
              "      <td>Typ</td>\n",
              "      <td>0</td>\n",
              "      <td>NaN</td>\n",
              "      <td>Attchd</td>\n",
              "      <td>2003.0</td>\n",
              "      <td>RFn</td>\n",
              "      <td>2</td>\n",
              "      <td>548</td>\n",
              "      <td>TA</td>\n",
              "      <td>TA</td>\n",
              "      <td>Y</td>\n",
              "      <td>0</td>\n",
              "      <td>61</td>\n",
              "      <td>0</td>\n",
              "      <td>0</td>\n",
              "      <td>0</td>\n",
              "      <td>0</td>\n",
              "      <td>NaN</td>\n",
              "      <td>NaN</td>\n",
              "      <td>NaN</td>\n",
              "      <td>0</td>\n",
              "      <td>2</td>\n",
              "      <td>2008</td>\n",
              "      <td>WD</td>\n",
              "      <td>Normal</td>\n",
              "      <td>208500</td>\n",
              "    </tr>\n",
              "    <tr>\n",
              "      <th>1</th>\n",
              "      <td>2</td>\n",
              "      <td>20</td>\n",
              "      <td>RL</td>\n",
              "      <td>80.0</td>\n",
              "      <td>9600</td>\n",
              "      <td>Pave</td>\n",
              "      <td>NaN</td>\n",
              "      <td>Reg</td>\n",
              "      <td>Lvl</td>\n",
              "      <td>AllPub</td>\n",
              "      <td>FR2</td>\n",
              "      <td>Gtl</td>\n",
              "      <td>Veenker</td>\n",
              "      <td>Feedr</td>\n",
              "      <td>Norm</td>\n",
              "      <td>1Fam</td>\n",
              "      <td>1Story</td>\n",
              "      <td>6</td>\n",
              "      <td>8</td>\n",
              "      <td>1976</td>\n",
              "      <td>1976</td>\n",
              "      <td>Gable</td>\n",
              "      <td>CompShg</td>\n",
              "      <td>MetalSd</td>\n",
              "      <td>MetalSd</td>\n",
              "      <td>None</td>\n",
              "      <td>0.0</td>\n",
              "      <td>TA</td>\n",
              "      <td>TA</td>\n",
              "      <td>CBlock</td>\n",
              "      <td>Gd</td>\n",
              "      <td>TA</td>\n",
              "      <td>Gd</td>\n",
              "      <td>ALQ</td>\n",
              "      <td>978</td>\n",
              "      <td>Unf</td>\n",
              "      <td>0</td>\n",
              "      <td>284</td>\n",
              "      <td>1262</td>\n",
              "      <td>GasA</td>\n",
              "      <td>...</td>\n",
              "      <td>Y</td>\n",
              "      <td>SBrkr</td>\n",
              "      <td>1262</td>\n",
              "      <td>0</td>\n",
              "      <td>0</td>\n",
              "      <td>1262</td>\n",
              "      <td>0</td>\n",
              "      <td>1</td>\n",
              "      <td>2</td>\n",
              "      <td>0</td>\n",
              "      <td>3</td>\n",
              "      <td>1</td>\n",
              "      <td>TA</td>\n",
              "      <td>6</td>\n",
              "      <td>Typ</td>\n",
              "      <td>1</td>\n",
              "      <td>TA</td>\n",
              "      <td>Attchd</td>\n",
              "      <td>1976.0</td>\n",
              "      <td>RFn</td>\n",
              "      <td>2</td>\n",
              "      <td>460</td>\n",
              "      <td>TA</td>\n",
              "      <td>TA</td>\n",
              "      <td>Y</td>\n",
              "      <td>298</td>\n",
              "      <td>0</td>\n",
              "      <td>0</td>\n",
              "      <td>0</td>\n",
              "      <td>0</td>\n",
              "      <td>0</td>\n",
              "      <td>NaN</td>\n",
              "      <td>NaN</td>\n",
              "      <td>NaN</td>\n",
              "      <td>0</td>\n",
              "      <td>5</td>\n",
              "      <td>2007</td>\n",
              "      <td>WD</td>\n",
              "      <td>Normal</td>\n",
              "      <td>181500</td>\n",
              "    </tr>\n",
              "    <tr>\n",
              "      <th>2</th>\n",
              "      <td>3</td>\n",
              "      <td>60</td>\n",
              "      <td>RL</td>\n",
              "      <td>68.0</td>\n",
              "      <td>11250</td>\n",
              "      <td>Pave</td>\n",
              "      <td>NaN</td>\n",
              "      <td>IR1</td>\n",
              "      <td>Lvl</td>\n",
              "      <td>AllPub</td>\n",
              "      <td>Inside</td>\n",
              "      <td>Gtl</td>\n",
              "      <td>CollgCr</td>\n",
              "      <td>Norm</td>\n",
              "      <td>Norm</td>\n",
              "      <td>1Fam</td>\n",
              "      <td>2Story</td>\n",
              "      <td>7</td>\n",
              "      <td>5</td>\n",
              "      <td>2001</td>\n",
              "      <td>2002</td>\n",
              "      <td>Gable</td>\n",
              "      <td>CompShg</td>\n",
              "      <td>VinylSd</td>\n",
              "      <td>VinylSd</td>\n",
              "      <td>BrkFace</td>\n",
              "      <td>162.0</td>\n",
              "      <td>Gd</td>\n",
              "      <td>TA</td>\n",
              "      <td>PConc</td>\n",
              "      <td>Gd</td>\n",
              "      <td>TA</td>\n",
              "      <td>Mn</td>\n",
              "      <td>GLQ</td>\n",
              "      <td>486</td>\n",
              "      <td>Unf</td>\n",
              "      <td>0</td>\n",
              "      <td>434</td>\n",
              "      <td>920</td>\n",
              "      <td>GasA</td>\n",
              "      <td>...</td>\n",
              "      <td>Y</td>\n",
              "      <td>SBrkr</td>\n",
              "      <td>920</td>\n",
              "      <td>866</td>\n",
              "      <td>0</td>\n",
              "      <td>1786</td>\n",
              "      <td>1</td>\n",
              "      <td>0</td>\n",
              "      <td>2</td>\n",
              "      <td>1</td>\n",
              "      <td>3</td>\n",
              "      <td>1</td>\n",
              "      <td>Gd</td>\n",
              "      <td>6</td>\n",
              "      <td>Typ</td>\n",
              "      <td>1</td>\n",
              "      <td>TA</td>\n",
              "      <td>Attchd</td>\n",
              "      <td>2001.0</td>\n",
              "      <td>RFn</td>\n",
              "      <td>2</td>\n",
              "      <td>608</td>\n",
              "      <td>TA</td>\n",
              "      <td>TA</td>\n",
              "      <td>Y</td>\n",
              "      <td>0</td>\n",
              "      <td>42</td>\n",
              "      <td>0</td>\n",
              "      <td>0</td>\n",
              "      <td>0</td>\n",
              "      <td>0</td>\n",
              "      <td>NaN</td>\n",
              "      <td>NaN</td>\n",
              "      <td>NaN</td>\n",
              "      <td>0</td>\n",
              "      <td>9</td>\n",
              "      <td>2008</td>\n",
              "      <td>WD</td>\n",
              "      <td>Normal</td>\n",
              "      <td>223500</td>\n",
              "    </tr>\n",
              "    <tr>\n",
              "      <th>3</th>\n",
              "      <td>4</td>\n",
              "      <td>70</td>\n",
              "      <td>RL</td>\n",
              "      <td>60.0</td>\n",
              "      <td>9550</td>\n",
              "      <td>Pave</td>\n",
              "      <td>NaN</td>\n",
              "      <td>IR1</td>\n",
              "      <td>Lvl</td>\n",
              "      <td>AllPub</td>\n",
              "      <td>Corner</td>\n",
              "      <td>Gtl</td>\n",
              "      <td>Crawfor</td>\n",
              "      <td>Norm</td>\n",
              "      <td>Norm</td>\n",
              "      <td>1Fam</td>\n",
              "      <td>2Story</td>\n",
              "      <td>7</td>\n",
              "      <td>5</td>\n",
              "      <td>1915</td>\n",
              "      <td>1970</td>\n",
              "      <td>Gable</td>\n",
              "      <td>CompShg</td>\n",
              "      <td>Wd Sdng</td>\n",
              "      <td>Wd Shng</td>\n",
              "      <td>None</td>\n",
              "      <td>0.0</td>\n",
              "      <td>TA</td>\n",
              "      <td>TA</td>\n",
              "      <td>BrkTil</td>\n",
              "      <td>TA</td>\n",
              "      <td>Gd</td>\n",
              "      <td>No</td>\n",
              "      <td>ALQ</td>\n",
              "      <td>216</td>\n",
              "      <td>Unf</td>\n",
              "      <td>0</td>\n",
              "      <td>540</td>\n",
              "      <td>756</td>\n",
              "      <td>GasA</td>\n",
              "      <td>...</td>\n",
              "      <td>Y</td>\n",
              "      <td>SBrkr</td>\n",
              "      <td>961</td>\n",
              "      <td>756</td>\n",
              "      <td>0</td>\n",
              "      <td>1717</td>\n",
              "      <td>1</td>\n",
              "      <td>0</td>\n",
              "      <td>1</td>\n",
              "      <td>0</td>\n",
              "      <td>3</td>\n",
              "      <td>1</td>\n",
              "      <td>Gd</td>\n",
              "      <td>7</td>\n",
              "      <td>Typ</td>\n",
              "      <td>1</td>\n",
              "      <td>Gd</td>\n",
              "      <td>Detchd</td>\n",
              "      <td>1998.0</td>\n",
              "      <td>Unf</td>\n",
              "      <td>3</td>\n",
              "      <td>642</td>\n",
              "      <td>TA</td>\n",
              "      <td>TA</td>\n",
              "      <td>Y</td>\n",
              "      <td>0</td>\n",
              "      <td>35</td>\n",
              "      <td>272</td>\n",
              "      <td>0</td>\n",
              "      <td>0</td>\n",
              "      <td>0</td>\n",
              "      <td>NaN</td>\n",
              "      <td>NaN</td>\n",
              "      <td>NaN</td>\n",
              "      <td>0</td>\n",
              "      <td>2</td>\n",
              "      <td>2006</td>\n",
              "      <td>WD</td>\n",
              "      <td>Abnorml</td>\n",
              "      <td>140000</td>\n",
              "    </tr>\n",
              "    <tr>\n",
              "      <th>4</th>\n",
              "      <td>5</td>\n",
              "      <td>60</td>\n",
              "      <td>RL</td>\n",
              "      <td>84.0</td>\n",
              "      <td>14260</td>\n",
              "      <td>Pave</td>\n",
              "      <td>NaN</td>\n",
              "      <td>IR1</td>\n",
              "      <td>Lvl</td>\n",
              "      <td>AllPub</td>\n",
              "      <td>FR2</td>\n",
              "      <td>Gtl</td>\n",
              "      <td>NoRidge</td>\n",
              "      <td>Norm</td>\n",
              "      <td>Norm</td>\n",
              "      <td>1Fam</td>\n",
              "      <td>2Story</td>\n",
              "      <td>8</td>\n",
              "      <td>5</td>\n",
              "      <td>2000</td>\n",
              "      <td>2000</td>\n",
              "      <td>Gable</td>\n",
              "      <td>CompShg</td>\n",
              "      <td>VinylSd</td>\n",
              "      <td>VinylSd</td>\n",
              "      <td>BrkFace</td>\n",
              "      <td>350.0</td>\n",
              "      <td>Gd</td>\n",
              "      <td>TA</td>\n",
              "      <td>PConc</td>\n",
              "      <td>Gd</td>\n",
              "      <td>TA</td>\n",
              "      <td>Av</td>\n",
              "      <td>GLQ</td>\n",
              "      <td>655</td>\n",
              "      <td>Unf</td>\n",
              "      <td>0</td>\n",
              "      <td>490</td>\n",
              "      <td>1145</td>\n",
              "      <td>GasA</td>\n",
              "      <td>...</td>\n",
              "      <td>Y</td>\n",
              "      <td>SBrkr</td>\n",
              "      <td>1145</td>\n",
              "      <td>1053</td>\n",
              "      <td>0</td>\n",
              "      <td>2198</td>\n",
              "      <td>1</td>\n",
              "      <td>0</td>\n",
              "      <td>2</td>\n",
              "      <td>1</td>\n",
              "      <td>4</td>\n",
              "      <td>1</td>\n",
              "      <td>Gd</td>\n",
              "      <td>9</td>\n",
              "      <td>Typ</td>\n",
              "      <td>1</td>\n",
              "      <td>TA</td>\n",
              "      <td>Attchd</td>\n",
              "      <td>2000.0</td>\n",
              "      <td>RFn</td>\n",
              "      <td>3</td>\n",
              "      <td>836</td>\n",
              "      <td>TA</td>\n",
              "      <td>TA</td>\n",
              "      <td>Y</td>\n",
              "      <td>192</td>\n",
              "      <td>84</td>\n",
              "      <td>0</td>\n",
              "      <td>0</td>\n",
              "      <td>0</td>\n",
              "      <td>0</td>\n",
              "      <td>NaN</td>\n",
              "      <td>NaN</td>\n",
              "      <td>NaN</td>\n",
              "      <td>0</td>\n",
              "      <td>12</td>\n",
              "      <td>2008</td>\n",
              "      <td>WD</td>\n",
              "      <td>Normal</td>\n",
              "      <td>250000</td>\n",
              "    </tr>\n",
              "  </tbody>\n",
              "</table>\n",
              "<p>5 rows × 81 columns</p>\n",
              "</div>"
            ],
            "text/plain": [
              "   Id  MSSubClass MSZoning  ...  SaleType  SaleCondition SalePrice\n",
              "0   1          60       RL  ...        WD         Normal    208500\n",
              "1   2          20       RL  ...        WD         Normal    181500\n",
              "2   3          60       RL  ...        WD         Normal    223500\n",
              "3   4          70       RL  ...        WD        Abnorml    140000\n",
              "4   5          60       RL  ...        WD         Normal    250000\n",
              "\n",
              "[5 rows x 81 columns]"
            ]
          },
          "metadata": {
            "tags": []
          },
          "execution_count": 3
        }
      ]
    },
    {
      "cell_type": "code",
      "metadata": {
        "colab": {
          "base_uri": "https://localhost:8080/"
        },
        "id": "cWWM90PdZwny",
        "outputId": "9b7fb487-0296-453b-a554-d8122d61514f"
      },
      "source": [
        "# let's check the columns in the dataset\n",
        "data.columns"
      ],
      "execution_count": 4,
      "outputs": [
        {
          "output_type": "execute_result",
          "data": {
            "text/plain": [
              "Index(['Id', 'MSSubClass', 'MSZoning', 'LotFrontage', 'LotArea', 'Street',\n",
              "       'Alley', 'LotShape', 'LandContour', 'Utilities', 'LotConfig',\n",
              "       'LandSlope', 'Neighborhood', 'Condition1', 'Condition2', 'BldgType',\n",
              "       'HouseStyle', 'OverallQual', 'OverallCond', 'YearBuilt', 'YearRemodAdd',\n",
              "       'RoofStyle', 'RoofMatl', 'Exterior1st', 'Exterior2nd', 'MasVnrType',\n",
              "       'MasVnrArea', 'ExterQual', 'ExterCond', 'Foundation', 'BsmtQual',\n",
              "       'BsmtCond', 'BsmtExposure', 'BsmtFinType1', 'BsmtFinSF1',\n",
              "       'BsmtFinType2', 'BsmtFinSF2', 'BsmtUnfSF', 'TotalBsmtSF', 'Heating',\n",
              "       'HeatingQC', 'CentralAir', 'Electrical', '1stFlrSF', '2ndFlrSF',\n",
              "       'LowQualFinSF', 'GrLivArea', 'BsmtFullBath', 'BsmtHalfBath', 'FullBath',\n",
              "       'HalfBath', 'BedroomAbvGr', 'KitchenAbvGr', 'KitchenQual',\n",
              "       'TotRmsAbvGrd', 'Functional', 'Fireplaces', 'FireplaceQu', 'GarageType',\n",
              "       'GarageYrBlt', 'GarageFinish', 'GarageCars', 'GarageArea', 'GarageQual',\n",
              "       'GarageCond', 'PavedDrive', 'WoodDeckSF', 'OpenPorchSF',\n",
              "       'EnclosedPorch', '3SsnPorch', 'ScreenPorch', 'PoolArea', 'PoolQC',\n",
              "       'Fence', 'MiscFeature', 'MiscVal', 'MoSold', 'YrSold', 'SaleType',\n",
              "       'SaleCondition', 'SalePrice'],\n",
              "      dtype='object')"
            ]
          },
          "metadata": {
            "tags": []
          },
          "execution_count": 4
        }
      ]
    },
    {
      "cell_type": "markdown",
      "metadata": {
        "id": "gT5zZluE0zLH"
      },
      "source": [
        " **Dataset**"
      ]
    },
    {
      "cell_type": "markdown",
      "metadata": {
        "id": "QpzIPtPdywFk"
      },
      "source": [
        "I have choosen one of the most famous datasets, **House Prices - Advanced Regression Techniques**, and plotted the statistical and probable analysis for the same, using various theorums.\n",
        "There are many columns, some of which are:\n",
        "\n",
        "SalePrice — the property’s sale price in dollars. This is the target variable that we are trying to predict.\n",
        "\n",
        "LotFrontage — Linear feet of street connected to property\n",
        "\n",
        "LotArea — Lot size in square feet\n",
        "\n",
        "Street — Type of road access\n",
        "\n",
        "LotShape — General shape of property\n",
        "\n",
        "LandContour — Flatness of the property\n",
        "\n",
        "Utilities — Type of utilities available\n",
        "\n",
        "LotConfig — Lot configuration "
      ]
    },
    {
      "cell_type": "markdown",
      "metadata": {
        "id": "eOJyLRmXmY5x"
      },
      "source": [
        "## Statistical Inference"
      ]
    },
    {
      "cell_type": "markdown",
      "metadata": {
        "id": "lBvSU_V0mjk6"
      },
      "source": [
        "### Sample Mean and population Mean"
      ]
    },
    {
      "cell_type": "markdown",
      "metadata": {
        "id": "9aUA0jNBmrBS"
      },
      "source": [
        "**Consider a sample of 500 houses at random from 1460 houses and find it's mean SalePrice and compare it with mean SalePrice of whole dataset.**"
      ]
    },
    {
      "cell_type": "code",
      "metadata": {
        "colab": {
          "base_uri": "https://localhost:8080/"
        },
        "id": "CnE-SQGBmzkK",
        "outputId": "f66b10b4-cbb9-4310-8b07-6d18124b36c6"
      },
      "source": [
        "# lets take seed so that everytime the random values come out to be constant\n",
        "np.random.seed(6)\n",
        "\n",
        "# lets take 500 sample values from the dataset of 1460 values\n",
        "sample_ages = np.random.choice(a= data['SalePrice'], size=500)\n",
        "\n",
        "# getting the sample mean\n",
        "print (\"Sample mean:\", sample_ages.mean() )          \n",
        "\n",
        "# getting the population mean\n",
        "print(\"Population mean:\", data['SalePrice'].mean())\n",
        "\n",
        "# difference in both mean\n",
        "print(\"Difference in mean:\", (data['SalePrice'].mean() -  sample_ages.mean()))"
      ],
      "execution_count": 5,
      "outputs": [
        {
          "output_type": "stream",
          "text": [
            "Sample mean: 177499.802\n",
            "Population mean: 180921.19589041095\n",
            "Difference in mean: 3421.3938904109527\n"
          ],
          "name": "stdout"
        }
      ]
    },
    {
      "cell_type": "markdown",
      "metadata": {
        "id": "vqXxaaMhYbcX"
      },
      "source": [
        "Here, we found that the mean SalePrice of Sample taken randomly of 500 houses, differs from that of total dataset, by the amount shown in result."
      ]
    },
    {
      "cell_type": "markdown",
      "metadata": {
        "id": "KLN6MoAgm3xC"
      },
      "source": [
        "### **Central Limit Theorem**"
      ]
    },
    {
      "cell_type": "markdown",
      "metadata": {
        "id": "kScsHbvvoq1i"
      },
      "source": [
        "The central limit theorem tells us that no matter what the distribution of the population is, the shape of the sampling distribution will approach normality as the sample size (N) increases."
      ]
    },
    {
      "cell_type": "markdown",
      "metadata": {
        "id": "kD1qWrVHoC9R"
      },
      "source": [
        "**Assumptions Behind the Central Limit Theorem**"
      ]
    },
    {
      "cell_type": "markdown",
      "metadata": {
        "id": "05Rt6KPKlplS"
      },
      "source": [
        "\n",
        "\n",
        "1. The data must follow the randomization condition, that is it must be sampled randomly\n",
        "2. Samples should be independent of each other. One sample should not influence the other samples\n",
        "3. Sample size should be not more than 10% of the population when sampling is done without replacement\n",
        "4. The sample size should be sufficiently large. When the population is skewed or asymmetric, the sample size should be large. If the population is symmetric, then we can draw small samples as well. \n",
        "In general, a sample size of 30 is considered sufficient when the population is symmetric."
      ]
    },
    {
      "cell_type": "markdown",
      "metadata": {
        "id": "eJfySsehoLoX"
      },
      "source": [
        "**Formula**"
      ]
    },
    {
      "cell_type": "markdown",
      "metadata": {
        "id": "OXoy72MxnC9Q"
      },
      "source": [
        "\n",
        "\n",
        "The central limit theorem (CLT) is a statistical theory that states that given a sufficiently large sample size from a population with a finite level of variance, **the mean of all samples from the same population will be approximately equal to the mean of the population.**\n",
        "\n",
        "$ \\mu_\\bar{x}=\\mu $\n",
        "\n",
        "where,\n",
        "\n",
        "$\\mu_\\bar{x}$ =  Mean of the sample means\n",
        "\n",
        "µ     =  Population mean\n",
        "\n",
        "\n",
        "\n"
      ]
    },
    {
      "cell_type": "markdown",
      "metadata": {
        "id": "5WNR1BB5mKil"
      },
      "source": [
        "\n",
        "Further, all of the samples will follow an approximate normal distribution pattern, with **all variances being approximately equal to the variance of the population divided by each sample's size.**\n",
        "\n",
        "$ \\sigma_\\bar{x}=\\frac{\\sigma }{\\sqrt{n}} $ \n",
        " \n",
        "where,\n",
        "\n",
        "$\\sigma_\\bar{x}$ = Standard deviation of the sample mean\n",
        "\n",
        "σ     = Population standard deviation\n",
        "\n",
        "n     = sample size"
      ]
    },
    {
      "cell_type": "markdown",
      "metadata": {
        "id": "QFuBzGs1oOPD"
      },
      "source": [
        "**Asymptotic Behaviour**"
      ]
    },
    {
      "cell_type": "markdown",
      "metadata": {
        "id": "XdOLXJBToUTL"
      },
      "source": [
        "“Asymptotic” refers to how an estimator behaves as the sample size gets larger (i.e. tends to infinity). “Normality” refers to the normal distribution, so an estimator that is asymptotically normal will have an approximately normal distribution as the sample size gets infinitely large.\n",
        "\n",
        "The central limit theorem gives only an asymptotic distribution. As an approximation for a finite number of observations, it provides a reasonable approximation only when close to the peak of the normal distribution and it requires a very large number of observations to stretch into the tails."
      ]
    },
    {
      "cell_type": "code",
      "metadata": {
        "colab": {
          "base_uri": "https://localhost:8080/",
          "height": 881
        },
        "id": "qrzMw8yynH3Q",
        "outputId": "6d58883e-65be-4aaf-e5b3-d830bded40a8"
      },
      "source": [
        "\n",
        "# provides capability to define function with partial arguments\n",
        "from functools import partial\n",
        "\n",
        "# number of samples to average over.\n",
        "n=np.array([1, 2, 3, 5, 10, 100, 200])\n",
        "\n",
        "# number of times samples of size n are taken. Try varying this number.\n",
        "N = 1000\n",
        "\n",
        "# number of bin boundaries on plots\n",
        "nobb=101\n",
        "\n",
        "# mean of exponential distribution\n",
        "exp_mean=3\n",
        "\n",
        "# parameters of beta distribution\n",
        "a,b=0.7,0.5 \n",
        "\n",
        "dist=[partial(np.random.random), \n",
        "      partial(np.random.exponential, exp_mean),\n",
        "      partial(np.random.beta, a, b)]\n",
        "\n",
        "# lets define the title names.\n",
        "title_names=[\"Flat\",\n",
        "             \"Exponential (mean=%.1f)\" % exp_mean, \n",
        "             \"Beta (a=%.1f, b=%.1f)\" % (a,b)]\n",
        "\n",
        "# ranges of the three distributions\n",
        "drange=np.array([[0,1],[0,10],[0,1]]) \n",
        "\n",
        "# means of the three distributions\n",
        "means=np.array([0.5,exp_mean,a/(a+b)])\n",
        "\n",
        "# variances of the three distributions\n",
        "var=np.array([1/12,exp_mean**2,a*b/((a+b+1)*(a+b)**2)]) \n",
        "\n",
        "# generates random samples in the specified ranges for the respective distributions.\n",
        "binrange=np.array([np.linspace(p,q,nobb) for p,q in drange]) \n",
        "ln,ld=len(n),len(dist)\n",
        "plt.figure(figsize=((ld*4)+1,(ln*2)+1))\n",
        "\n",
        " # loop over number of n samples to average over\n",
        "for i in range(ln):\n",
        "     # loop over the different distributions\n",
        "    for j in range(ld):\n",
        "        plt.subplot(ln,ld,i*ld+1+j)\n",
        "        plt.hist(np.mean(dist[j]((N,n[i])),1),binrange[j])\n",
        "        plt.xlim(drange[j])\n",
        "        if j==0:\n",
        "            plt.ylabel('n=%i' % n[i],fontsize=15)        \n",
        "        if i==0:\n",
        "            plt.title(title_names[j], fontsize=15)\n",
        "        else:\n",
        "            clt=(1/(np.sqrt(2*np.pi*var[j]/n[i])))*np.exp(-(((binrange[j]-means[j])**2)*n[i]/(2*var[j])))\n",
        "            plt.plot(binrange[j],clt,'y',linewidth=2)     \n",
        "plt.show()"
      ],
      "execution_count": 6,
      "outputs": [
        {
          "output_type": "display_data",
          "data": {
            "image/png": "[encoded data removed]",
            "text/plain": [
              "<Figure size 936x1080 with 21 Axes>"
            ]
          },
          "metadata": {
            "tags": [],
            "needs_background": "light"
          }
        }
      ]
    },
    {
      "cell_type": "markdown",
      "metadata": {
        "id": "GtHYJg9xqMNE"
      },
      "source": [
        "**Inference from graph**"
      ]
    },
    {
      "cell_type": "markdown",
      "metadata": {
        "id": "pjLmmph5nkI2"
      },
      "source": [
        "Here, we get a good bell-shaped curve and the sampling distribution approaches normal distribution as the sample sizes increase. Therefore, we can consider the sampling distributions as normal and can use these distributions for further analysis."
      ]
    },
    {
      "cell_type": "markdown",
      "metadata": {
        "id": "HBKMPS56nVMe"
      },
      "source": [
        "In the graphs above the yellow curve is the predicted Gaussian distribution from the Central Limit Thereom. The rate of convergence of the sample mean to the Gaussian depends on the original parent distribution. \n",
        "\n",
        "Also, the mean of Gaussian distribution is the same as the original parent distribution, the width of Gaussian distribution varies with sample size as  1/√n ."
      ]
    },
    {
      "cell_type": "markdown",
      "metadata": {
        "id": "eM37AY_gnvHq"
      },
      "source": [
        "### **Confidence Interval**"
      ]
    },
    {
      "cell_type": "markdown",
      "metadata": {
        "id": "0KbXE0agnwt-"
      },
      "source": [
        "Confidence Interval (CI) is a type of estimation computed from the statistics of the observed data. This proposes the range of plausible values for an unknown parameter (for example, the mean). The interval has got an associated confidence level that the true parameter is in the proposed range.\n",
        "\n",
        "The confidence interval of the mean of a measurement variable is commonly estimated on the assumption that the statistic follows a normal distribution, and that the variance is therefore independent of the mean. This is known as a normal approximation confidence interval."
      ]
    },
    {
      "cell_type": "markdown",
      "metadata": {
        "id": "SW_67R_RtJur"
      },
      "source": [
        "**Assumptions Behind the Confidence Interval Theorem**"
      ]
    },
    {
      "cell_type": "markdown",
      "metadata": {
        "id": "1uTobFBztNcH"
      },
      "source": [
        "1. Randomization Condition: The data must be sampled randomly.\n",
        "2. Independence Assumption: The sample values must be independent of each other and the occurrence of one event has no influence on the next event.\n",
        "3. 10% Condition: When the sample is drawn without replacement the sample size and n should be no more than 10% of the population.\n",
        "4. Estimate the variability of mean but not directly.\n",
        "Sample means may be normally distributed, estimate of the standard error is a sample statistic, and therefore subject to error. This error is worst for small sample sizes, and results in  estimated confidence interval being too narrow. Hence use the t-correction for small samples (always for n < 30; preferably for n < 100)."
      ]
    },
    {
      "cell_type": "markdown",
      "metadata": {
        "id": "2pjAd4izufXF"
      },
      "source": [
        "**Formula**"
      ]
    },
    {
      "cell_type": "markdown",
      "metadata": {
        "id": "QYxU9baCrbLH"
      },
      "source": [
        "$ CI = \\bar{x} \\bar{+}  \\frac{s}{\\sqrt{n}} $\n",
        "\n",
        "where,\n",
        "\n",
        "CI\t=\tconfidence interval\n",
        "\n",
        "$\\bar{x}$\t=\tsample mean\n",
        "\n",
        "z\t=\tconfidence level value\n",
        "\n",
        "s\t=\tsample standard deviation\n",
        "\n",
        "n\t=\tsample size"
      ]
    },
    {
      "cell_type": "code",
      "metadata": {
        "colab": {
          "base_uri": "https://localhost:8080/"
        },
        "id": "CBK0I8yfnzxI",
        "outputId": "b9e689e6-e00a-48e3-94a9-2c2c82b8001a"
      },
      "source": [
        "# lets import the scipy package\n",
        "import scipy.stats as stats\n",
        "import math\n",
        "\n",
        "# lets seed the random values\n",
        "np.random.seed(10)\n",
        "\n",
        "# lets take a sample size\n",
        "sample_size = 1000\n",
        "sample = np.random.choice(a= data['SalePrice'],\n",
        "                          size = sample_size)\n",
        "sample_mean = sample.mean()\n",
        "\n",
        "# Get the z-critical value*\n",
        "z_critical = stats.norm.ppf(q = 0.95)  \n",
        "\n",
        " # Check the z-critical value  \n",
        "print(\"z-critical value: \",z_critical)                                \n",
        "\n",
        "# Get the population standard deviation\n",
        "pop_stdev = data['SalePrice'].std()  \n",
        "\n",
        "# checking the margin of error\n",
        "margin_of_error = z_critical * (pop_stdev/math.sqrt(sample_size)) \n",
        "\n",
        "# defining our confidence interval\n",
        "confidence_interval = (sample_mean - margin_of_error,\n",
        "                       sample_mean + margin_of_error)  \n",
        "\n",
        "# lets print the results\n",
        "print(\"Confidence interval:\",end=\" \")\n",
        "print(confidence_interval)\n",
        "print(\"True mean: {}\".format(data['SalePrice'].mean()))"
      ],
      "execution_count": 7,
      "outputs": [
        {
          "output_type": "stream",
          "text": [
            "z-critical value:  1.6448536269514722\n",
            "Confidence interval: (178338.05201966673, 186602.42998033328)\n",
            "True mean: 180921.19589041095\n"
          ],
          "name": "stdout"
        }
      ]
    },
    {
      "cell_type": "code",
      "metadata": {
        "colab": {
          "base_uri": "https://localhost:8080/",
          "height": 558
        },
        "id": "4XfWeMfAntjX",
        "outputId": "f7e1241a-1dc5-460e-d35b-f189a4975391"
      },
      "source": [
        "\n",
        "sample_size = 500\n",
        "\n",
        "intervals = []\n",
        "sample_means = []\n",
        "\n",
        "for sample in range(25):\n",
        "    sample = np.random.choice(a= data['SalePrice'], size = sample_size)\n",
        "    sample_mean = sample.mean()\n",
        "    sample_means.append(sample_mean)\n",
        "\n",
        "     # Get the z-critical value* \n",
        "    z_critical = stats.norm.ppf(q = 0.975)         \n",
        "\n",
        "    # Get the population standard deviation\n",
        "    pop_stdev = data['SalePrice'].std()  \n",
        "\n",
        "    stats.norm.ppf(q = 0.025)\n",
        "\n",
        "    margin_of_error = z_critical * (pop_stdev/math.sqrt(sample_size))\n",
        "\n",
        "    confidence_interval = (sample_mean - margin_of_error,\n",
        "                           sample_mean + margin_of_error)  \n",
        "    \n",
        "    intervals.append(confidence_interval)\n",
        "    \n",
        "\n",
        "plt.figure(figsize=(13, 9))\n",
        "\n",
        "plt.errorbar(x=np.arange(0.1, 25, 1), \n",
        "             y=sample_means, \n",
        "             yerr=[(top-bot)/2 for top,bot in intervals],\n",
        "             fmt='o')\n",
        "\n",
        "plt.hlines(xmin=0, xmax=25,\n",
        "           y=data['SalePrice'].mean(), \n",
        "           linewidth=2.0,\n",
        "           color=\"red\")\n",
        "plt.title('Confidence Intervals for 25 Trials', fontsize = 20)\n",
        "plt.show()\n"
      ],
      "execution_count": 8,
      "outputs": [
        {
          "output_type": "display_data",
          "data": {
            "image/png": "[encoded data removed]",
            "text/plain": [
              "<Figure size 936x648 with 1 Axes>"
            ]
          },
          "metadata": {
            "tags": [],
            "needs_background": "light"
          }
        }
      ]
    },
    {
      "cell_type": "markdown",
      "metadata": {
        "id": "QOxL2x0gvshX"
      },
      "source": [
        "**Inference from graph**"
      ]
    },
    {
      "cell_type": "markdown",
      "metadata": {
        "id": "w8a398w8oL6p"
      },
      "source": [
        "The true mean is contained in our interval.\n",
        "A confidence interval of 95% would mean that if we take many samples and create confidence intervals for each of them, 95% of our samples' confidence intervals will contain the true population mean.\n"
      ]
    },
    {
      "cell_type": "markdown",
      "metadata": {
        "id": "GFWChMljvVwH"
      },
      "source": [
        "Here, in graph it is easily visible that 95% of the times the blue lines(the sample meean) overlaps with the red line(the true mean), also 5% of the times it is expected to not overlap with the red line(the true mean)."
      ]
    }
  ]
}