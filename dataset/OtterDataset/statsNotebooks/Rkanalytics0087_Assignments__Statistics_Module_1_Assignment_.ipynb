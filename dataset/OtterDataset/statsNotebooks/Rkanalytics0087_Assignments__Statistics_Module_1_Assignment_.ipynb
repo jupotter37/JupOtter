{
  "nbformat": 4,
  "nbformat_minor": 0,
  "metadata": {
    "colab": {
      "provenance": []
    },
    "kernelspec": {
      "name": "python3",
      "display_name": "Python 3"
    },
    "language_info": {
      "name": "python"
    }
  },
  "cells": [
    {
      "cell_type": "markdown",
      "source": [
        "# **Statistics Module 1 Assignment**"
      ],
      "metadata": {
        "id": "_MRITAGjWZK4"
      }
    },
    {
      "cell_type": "markdown",
      "source": [
        "### **1. Explain the different types of data (qualitative and quantitative) and provide examples of each. Discuss nominal, ordinal, interval, and ratio scales.**"
      ],
      "metadata": {
        "id": "RE8gS_ayWo9v"
      }
    },
    {
      "cell_type": "code",
      "source": [
        "# Data came from different source which alter the nature of data\n",
        "\n",
        "# There are two types of Data\n",
        "\n",
        "## Quantitative Data (Numerical Data)\n",
        "\n",
        "# Discrete data means whole numbers. You cannot break it further. It will take specific finite whole number. If you will try to break it or added.\n",
        "# it will lose the meaning.\n",
        "\n",
        "# Continous data: Any values in a range or you can a any real values(include decimal).\n",
        "\n",
        "## Qualitative Data (Categorical)\n",
        "\n",
        "# Nominal data means no order in categorical data naturally. exmple blood group, gender, colors, race, eithicty, and martial status.\n",
        "\n",
        "# Ordinal data means they have an order in categorical data naturally.example rank, good, bad, true, false, high, low."
      ],
      "metadata": {
        "id": "7CoN5HZBYyzb"
      },
      "execution_count": null,
      "outputs": []
    },
    {
      "cell_type": "markdown",
      "source": [
        "### **2. What are the measures of central tendency, and when should you use each? Discuss the mean, median,and mode with examples and situations where each is appropriate.**"
      ],
      "metadata": {
        "id": "xqPVX7nPWzAY"
      }
    },
    {
      "cell_type": "code",
      "source": [
        "# Descriptive statistics is a summarisation of data without adding or substracting\n",
        "# any element or anything(in data) at a specific instance/time.\n",
        "\n",
        "# Three types of Descriptive statistics:-\n",
        "# 1.) Measure of Cnetral Tendency\n",
        "# 2.) Measure of Dispersion\n",
        "# 3.) Measure of Symmetiricity\n",
        "\n",
        "### Measure of Central Tendency:- it help to find out that values can represent the whole data or C.T represents the center point of a data-set.\n",
        "# MEAN\n",
        "# MEDIUM\n",
        "# MODE\n",
        "\n",
        "# These topics will mostly use in exploratory data analysis.\n",
        "\n",
        "## Mean is also known as average a+b+c/3 = mean. Arthmatic value.\n",
        "#  Mean = ∑x\n",
        "#         n\n",
        "\n",
        "# ∑  summation\n",
        "# 𝑥  = represents the sum of all the values in the data set.\n",
        "\n",
        "# 𝑛 = is the number of values in the data set.\n",
        "\n",
        "## Medium:- Physical mid point of dataset.\n",
        "#           for example:- [1,2,2,4,5,6]\n",
        "#           sort the data - 1,2,2,4,5,6\n",
        "#           count the no. of elements -- 6\n",
        "#           if count is even = [1,2,3,4,5,6]\n",
        "#           we choose the mid values like 3,4 then calaculate the average (3+4)/2\n",
        "#           if count is odd = [1,2,3,4,5]\n",
        "#           we choose the mide values like 3. then we dont need to do any calacution further.\n",
        "#           What is Physical mid point? it is the   (medium:middle most element)\n",
        "#            -------------------------------------------------------------------\n",
        "#            1          2           3          4         5          6          7\n",
        "\n",
        "#          If you change 1st or last value the mediun will me the same.\n",
        "\n",
        "#          TWO Seniorio\n",
        "\n",
        "#           Mean:- 1+2+3+4+5/5 = 3 if we change the 1 = 1000(outliers = number which much higher or lower number as compare to other number) the annswer will be different.\n",
        "\n",
        "#           Medium:- 1,2,3,4,5 = 3 but in case of mediun it does  not change the much. until unless their is change in ordern or sorting the data set.\n",
        "\n",
        "#           Conclusion is mean is affected by outliers whereas the mediun is not affected by outliers.\n",
        "\n",
        "\n",
        "\n",
        "# Mode -  Maximum freuency\n",
        "\n",
        "#         {1,2,3,4,5,5,3,5,4,3,5,5,5,6,7,8,9,10}\n",
        "#          Mode  = 5\n",
        "#         In all of these cases(mean, mediun, mode), we are trying ro represent the data with the central value.\n",
        "\n",
        "\n",
        "# On which type of data we calculate the mean, mediun, mode?\n",
        "# if data is continous (numerical data) then you can calcuate the mean and mediiun\n",
        "# if the data is categorical data then you can calculate the mode.\n",
        "\n",
        "# use cases of central tendency\n",
        "# Age    =  25 26 -- 23 25,  = Age is continuous varible, we need to impute or replace the missing value with mean. If thier no outliers.\n",
        "# Gender =  M  -- M  M  F, = Gender is categorical varible, then we will mode. and use the value with highest frequency(mostly repeated).\n",
        "# Weight =  80 70 30 -- 1000, =  if outlier is presented then u need to use mediun.\n",
        "# Salary =  -- 50 60 70 45\n",
        "\n",
        "# IF YOU want to perform calculation then you should replace or fill the emppty space data. thesr missing values is also know as miss value imputation.\n"
      ],
      "metadata": {
        "id": "HL2Mv2V1ZgdU"
      },
      "execution_count": null,
      "outputs": []
    },
    {
      "cell_type": "markdown",
      "source": [
        "### **3. Explain the concept of dispersion. How do variance and standard deviation measure the spread of data?**"
      ],
      "metadata": {
        "id": "AN1KvUYnWzEI"
      }
    },
    {
      "cell_type": "code",
      "source": [
        "# There are two type of dispersions\n",
        "#     Variance\n",
        "#     Standard Deviation\n",
        "\n",
        "\n",
        "### Variable is the average of the square differences from the mean. variance is to understand how the data is distributed in the data set.\n",
        "#   variance talk about spreaad at an overall level.\n",
        "#\n",
        "#             Formula:-   The formula for popluation Variance (σ²) is:          The formula for Sample Variance (s²) is:\n",
        "\n",
        "#                         σ² = Σ (xi - μ)² / n                                  s² = Σ (xi - x̄)²\n",
        "#                                                                                       (n - 1)\n",
        "\n",
        "#             Where:                                                            Where:\n",
        "\n",
        "#              xi = individual data points                                      xi = individual data points\n",
        "#              μ = mean(Popluation mean) of the dataset                         x̄ = sample mean\n",
        "#              n = number of data points(element)                               n = sample size\n",
        "#              Σ = summation symbol (sum of the squared deviations)             Σ = summation symbol (sum of the squared deviations)\n",
        "\n",
        "# How to calacuate the variance in steps\n",
        "\n",
        "# 1.) calculate mean\n",
        "# 2.) for each number in data, subtract the mean & the no.\n",
        "# 3.) Square of difference\n",
        "# 4.) Calculate the average of sqaures of difference\n",
        "\n",
        "# data = {1,2,3,3,4,4}\n",
        "#              _                    _\n",
        "# X   mean-no.(x)    (mean-no.)sq(x-x)\n",
        "# 1     -1.83        3.34\n",
        "# 2     -0.83        0.688\n",
        "# 3      0.17        0.028\n",
        "# 3      0.17        0.028\n",
        "# 4      1.17        1.3689\n",
        "# 4      1.17        1.3689\n",
        "#                    6.82\n",
        "# MEAN = 17/6= 2.83\n",
        "#\n",
        "#                      s² = 6.82   6.82\n",
        "#                          ----- = ---  = 1.37\n",
        "#                           n-1     5\n",
        "\n",
        "\n",
        "### Standard deviation:- standard deviation is a measure of spread out numbers are (square root of variance).\n",
        "\n",
        "\n",
        "\n",
        "#             Formula:-   The formula for popluation Variance (σ²) is:          The formula for Sample Variance (s²) is:\n",
        "\n",
        "#                         σ = √σ²(poplution)                                              s² = Σ (xi - x̄)² / (n - 1) or s = √σ²(sample)\n",
        "\n",
        "#             Where:                                                            Where:\n",
        "\n",
        "#              σ² = Variance                                                    xi = individual data points\n",
        "#              For Population Standard Deviation                                x̄ = sample mean\n",
        "#              σ = √(Σ (xi - μ)² / N)                                           n = sample size\n",
        "#              s = √(Σ (xi - x̄)² / (n - 1))                                     Σ = summation symbol (sum of the squared deviations)\n",
        "#              Σ = summation symbol (sum of the squared deviations)\n",
        "\n",
        "# Why std dev ?\n",
        "#  ---> Varience can be huge no becuase it talks about spread at a overall level. Comparsion of each no wrt varience becomes difficult.\n",
        "#        n\n",
        "#  --->  Σ   (X- μ)²  ---> (DISTANCE- AVERAGE DISTANCE)²\n",
        "#       i-1  ------       -----------------------------   = (3M-5M)² = M²\n",
        "#              N                       N                       N\n",
        "#\n",
        "#\n",
        "### IMPORTANT\n",
        "#            Formula:- The formula for popluation Variance (σ²) is:\n",
        "\n",
        "#                  Variance = σ² = Σ (xi - μ)² / n"
      ],
      "metadata": {
        "id": "iagPoIGkZyl-"
      },
      "execution_count": null,
      "outputs": []
    },
    {
      "cell_type": "markdown",
      "source": [
        "### **4. What is a box plot, and what can it tell you about the distribution of data?**"
      ],
      "metadata": {
        "id": "pzn_yc0aWzHv"
      }
    },
    {
      "cell_type": "code",
      "source": [
        "\n",
        "# A box plot (or box-and-whisker plot) is a visual representation of the distribution of a dataset.  It displays the five-number summary of the data:\n",
        "\n",
        "# * Minimum: The smallest value in the dataset.\n",
        "# * First Quartile (Q1): The 25th percentile, meaning 25% of the data falls below this value.\n",
        "# * Median (Q2): The 50th percentile, also known as the middle value.  Half of the data is above and half is below the median.\n",
        "# * Third Quartile (Q3): The 75th percentile, meaning 75% of the data falls below this value.\n",
        "# * Maximum: The largest value in the dataset.\n",
        "\n",
        "# The box in a box plot represents the interquartile range (IQR), which is the difference between the third quartile (Q3) and the first quartile (Q1) (IQR = Q3 - Q1). The line inside the box represents the median.  The \"whiskers\" extend from the box to the minimum and maximum values, or to a certain distance (often 1.5 times the IQR) from the quartiles.  Data points beyond the whiskers are considered outliers and are often plotted as individual points.\n",
        "\n",
        "# What a box plot can tell you:\n",
        "\n",
        "# * **Central Tendency:** The median line within the box gives a clear indication of the central value of the data.\n",
        "# * **Spread or Dispersion:** The length of the box (IQR) shows the spread of the middle 50% of the data. Longer boxes indicate greater variability. The whiskers provide information about the range of the data, excluding outliers.\n",
        "# * **Skewness:** The position of the median within the box can reveal the skewness of the distribution. If the median is closer to Q1, the distribution is right-skewed (positively skewed). If the median is closer to Q3, the distribution is left-skewed (negatively skewed). A symmetrical distribution will have the median in the middle of the box.\n",
        "# * **Outliers:** Outliers are easily identified as individual points beyond the whiskers. They suggest extreme values or potential errors in the data.\n",
        "# * **Comparison:** Box plots are excellent for comparing the distributions of multiple datasets side-by-side. You can easily see differences in central tendency, spread, and skewness between groups."
      ],
      "metadata": {
        "id": "HWiQElGbaJAK"
      },
      "execution_count": null,
      "outputs": []
    },
    {
      "cell_type": "code",
      "source": [
        "# BOX-PLOT\n",
        "data = [2,3,4,5,6,7,9,14,23,35,43,54]\n",
        "data\n",
        "import seaborn as sns\n",
        "sns.boxplot(data) # upper feice and lower fence"
      ],
      "metadata": {
        "colab": {
          "base_uri": "https://localhost:8080/",
          "height": 428
        },
        "id": "0hrzUiXKaejP",
        "outputId": "7a209d36-10ea-4691-ab6a-ba5f269443b3"
      },
      "execution_count": 4,
      "outputs": [
        {
          "output_type": "execute_result",
          "data": {
            "text/plain": [
              "<Axes: >"
            ]
          },
          "metadata": {},
          "execution_count": 4
        },
        {
          "output_type": "display_data",
          "data": {
            "text/plain": [
              "<Figure size 640x480 with 1 Axes>"
            ],
            "image/png": "[encoded data removed]"
          },
          "metadata": {}
        }
      ]
    },
    {
      "cell_type": "markdown",
      "source": [
        "### **5. Discuss the role of random sampling in making inferences about populations.**"
      ],
      "metadata": {
        "id": "O4Mr3G_uXMnK"
      }
    },
    {
      "cell_type": "code",
      "source": [
        "\n",
        "# Random sampling plays a crucial role in making inferences about populations because it allows researchers to draw conclusions about a larger group based on a smaller, representative subset.  Here's a breakdown:\n",
        "\n",
        "#**1. Representative Sample:** The primary goal of random sampling is to create a sample that accurately reflects the characteristics of the population of interest.  Non-random sampling methods (e.g., convenience sampling) can introduce bias, where the sample doesn't accurately represent the population, leading to flawed conclusions.  Random sampling minimizes this bias.\n",
        "\n",
        "#**2. Probability-Based Inference:** Random sampling allows researchers to calculate the probability of observing the sample data if a particular hypothesis about the population is true.  This probabilistic framework is essential for hypothesis testing and constructing confidence intervals.  Without random sampling, these probabilities cannot be reliably calculated.\n",
        "\n",
        "#**3. Generalizability:**  A randomly selected sample allows for generalizing findings from the sample to the population.  The degree to which the sample represents the population determines the confidence in these generalizations.  Random sampling increases the likelihood that the sample's characteristics are similar to the population's, making the inferences more reliable.\n",
        "\n",
        "#**4. Minimizing Bias:**  Random sampling helps minimize various types of bias:\n",
        "#    * **Selection Bias:**  Ensuring every member of the population has an equal chance of being selected reduces the chance that certain subgroups are over- or under-represented.\n",
        "#    * **Sampling Bias:** Random sampling techniques aim to avoid systematic errors in the selection process.\n",
        "#    * **Measurement Bias:** While random sampling addresses selection issues, measurement bias (errors in data collection) remains a concern.  Careful data collection procedures are necessary regardless of the sampling method.\n",
        "\n",
        "#**5. Statistical Significance:**  Random sampling is fundamental to determining statistical significance.  Statistical tests rely on the assumption that the data come from a random sample.  This assumption allows researchers to determine whether observed differences between groups are likely due to a real effect or simply due to random chance."
      ],
      "metadata": {
        "id": "FZ1GM-psatko"
      },
      "execution_count": 5,
      "outputs": []
    },
    {
      "cell_type": "markdown",
      "source": [
        "### **6. Explain the concept of skewness and its types. How does skewness affect the interpretation of data?**"
      ],
      "metadata": {
        "id": "SAOAT8BzXst4"
      }
    },
    {
      "cell_type": "code",
      "source": [
        "# symmetricity means talk about shape of the data( as per the histogram or bargraph if the high bar as compare to other bar it means it has higher frequency than other and vice versa).\n",
        "\n",
        "# symmetric :- if any is exactly towart(same) the left and right then it is symmtry.  for example if an sqaure's 50% data is lies on both side right and left is it is symmetric\n",
        "\n",
        "#\n",
        "\n",
        "## We use sknewness to measure the symmeticity of any shape. Sknewnes means inlcied to some side\n",
        "#            xi - μ\n",
        "# skewness = -------\n",
        "#            n.σcube3\n",
        "\n",
        "## TYPE OF SKEWNESS\n",
        "# 1.) No sknewness = 0\n",
        "# in shape with high frquency points on mid is peak point and you can consider it as mode and median point. mode and median and mean all lie on same point\n",
        "# example [1,2,3,4,5] = 3 is mean = median = mode\n",
        "\n",
        "# 2.) Positve skewed data or tail is on right side of distribution(most of the lies on right side ) example log-normal distrubution\n",
        "# mean medium mode lies on different point on right side\n",
        "#  mean< median< mode\n",
        "\n",
        "# 3.) left skewed data or distribution or negative skewed data\n",
        "# mean medium mode lies on different point on left side\n",
        "# mean > median> mode\n",
        "\n",
        "# used cases\n",
        "# some of the ML alogorithms requires symmetric data to build the ML model.\n",
        "# if not symmteric we need to do different type data transformation. like log transformation, exponential transformation, reciprocal transformation, square root or square transformation, box-cox transformation\n",
        "\n",
        "# why data is sknewes\n",
        "# 1.) Nature of data\n",
        "# 2.) Presence of outliers\n",
        "# 3.)\n"
      ],
      "metadata": {
        "id": "-RvdRJyaMorU"
      },
      "execution_count": null,
      "outputs": []
    },
    {
      "cell_type": "markdown",
      "source": [
        "### **7. What is the interquartile range (IQR), and how is it used to detect outliers?**"
      ],
      "metadata": {
        "id": "XdpyK0FyXsw1"
      }
    },
    {
      "cell_type": "code",
      "source": [
        "### Quartile:- quartile are values that are divide a list of numbers into quarters.\n",
        "#              put the no. in order\n",
        "#              Then cut the no into 4 equal Parts\n",
        "#              The quartiles are at the cut.\n",
        "\n",
        "#### Inter-quartile range -> IQR = Q3-Q1 ( Since iqr deals with q3 and q1 it will not affected by outliers.)\n",
        "# IQR is use detect outliers.\n",
        "\n",
        "# use case of IQR. Firstly outliers is extreme values\n",
        "# Lower frence :- Q1 -1.5* IQR\n",
        "# Upper frence :- q3 + 1.5* IQR\n",
        "# As data science use Box-wisker plot --> To detect outliers\n",
        "    #      2,3,3,3,3,4,4,5,5,5,6, 6,6,7, 8,99\n",
        "#      --->|---------------------------------|<-- higher frence\n",
        "#        q0       q1       q2      q3       q4"
      ],
      "metadata": {
        "id": "xEthxvuIbzH4"
      },
      "execution_count": null,
      "outputs": []
    },
    {
      "cell_type": "markdown",
      "source": [
        "### **8. Discuss the conditions under which the binomial distribution is used.**"
      ],
      "metadata": {
        "id": "HUKb753mXs0N"
      }
    },
    {
      "cell_type": "code",
      "source": [
        "\n",
        "\n",
        "#The binomial distribution is used when:\n",
        "\n",
        "#1. **Fixed Number of Trials:** There's a fixed number of trials (or observations) denoted by 'n'.\n",
        "\n",
        "#2. **Independent Trials:** Each trial is independent of the others. The outcome of one trial doesn't influence the outcome of any other trial.\n",
        "\n",
        "#3. **Two Outcomes:** Each trial has only two possible outcomes: success or failure.\n",
        "\n",
        "#4. **Constant Probability:** The probability of success (denoted by 'p') is constant for each trial.  The probability of failure (1-p) is also constant.\n"
      ],
      "metadata": {
        "id": "jJf0S2hgcTDm"
      },
      "execution_count": null,
      "outputs": []
    },
    {
      "cell_type": "markdown",
      "source": [
        "### **9. Explain the properties of the normal distribution and the empirical rule (68-95-99.7 rule).**"
      ],
      "metadata": {
        "id": "EnzzNb4GXs3z"
      }
    },
    {
      "cell_type": "code",
      "source": [
        "\n",
        "# Properties of the Normal Distribution:\n",
        "\n",
        "# 1. Symmetry: The normal distribution is perfectly symmetrical around its mean.  This means that the left and right sides of the distribution are mirror images of each other.\n",
        "\n",
        "# 2. Mean, Median, and Mode: In a normal distribution, the mean, median, and mode are all equal and located at the center of the distribution.\n",
        "\n",
        "# 3. Empirical Rule (68-95-99.7 Rule): This rule describes the proportion of data that falls within a certain number of standard deviations from the mean:\n",
        "#    - Approximately 68% of the data falls within one standard deviation of the mean.\n",
        "#    - Approximately 95% of the data falls within two standard deviations of the mean.\n",
        "#    - Approximately 99.7% of the data falls within three standard deviations of the mean.\n",
        "\n",
        "# 4. Bell Shape: The normal distribution has a characteristic bell shape, with the highest point at the mean. The curve extends infinitely in both directions, gradually approaching the horizontal axis but never quite touching it.\n",
        "\n",
        "# 5. Defined by Mean and Standard Deviation: The shape and location of a normal distribution are entirely determined by its mean (μ) and standard deviation (σ).  Different means shift the distribution along the horizontal axis, and different standard deviations change the spread of the distribution. A larger standard deviation indicates greater variability or spread of the data.\n",
        "\n",
        "# 6. Continuous Distribution: The normal distribution is a continuous probability distribution.  This means that the variable can take on any value within a given range, not just discrete values.\n",
        "\n",
        "# 7. Area under the Curve: The total area under the normal distribution curve is equal to 1 (or 100%). The area under the curve between two points represents the probability that the variable will fall within that range.\n",
        "\n",
        "\n",
        "# Importance of the Empirical Rule:\n",
        "\n",
        "# The empirical rule is a useful tool for understanding the spread of data in a normal distribution. It allows you to quickly estimate the proportion of observations that fall within specific intervals around the mean without needing to consult a statistical table or software.  For example, if you know the mean and standard deviation of a normally distributed variable, you can estimate the probability that a randomly selected value will fall within a certain range based on the empirical rule."
      ],
      "metadata": {
        "id": "gZazAXGucjy3"
      },
      "execution_count": 6,
      "outputs": []
    },
    {
      "cell_type": "markdown",
      "source": [
        "### **10. Provide a real-life example of a Poisson process and calculate the probability for a specific event.**"
      ],
      "metadata": {
        "id": "Dvs4diKpYGCS"
      }
    },
    {
      "cell_type": "code",
      "source": [
        "\n",
        "import math\n",
        "\n",
        "def poisson_probability(k, lam):\n",
        "  \"\"\"Calculates the probability of k events in a Poisson process with rate lam.\n",
        "\n",
        "  Args:\n",
        "    k: The number of events.\n",
        "    lam: The average rate of events (lambda).\n",
        "\n",
        "  Returns:\n",
        "    The probability of observing k events.\n",
        "  \"\"\"\n",
        "  return (lam**k * math.exp(-lam)) / math.factorial(k)\n",
        "\n",
        "# Example: Number of cars passing a certain point on a highway per hour.\n",
        "# Assume an average of 10 cars pass per hour (lam = 10).\n",
        "# What is the probability of exactly 12 cars passing in the next hour?\n",
        "\n",
        "lam = 10  # Average rate of cars passing per hour\n",
        "k = 12    # Number of cars we're interested in\n",
        "\n",
        "probability = poisson_probability(k, lam)\n",
        "\n",
        "print(f\"The probability of exactly 12 cars passing in the next hour is: {probability:.4f}\")"
      ],
      "metadata": {
        "colab": {
          "base_uri": "https://localhost:8080/"
        },
        "id": "0VKqo6xWcveM",
        "outputId": "ed2d421b-e762-41fa-8ec6-9bc0d39f03b4"
      },
      "execution_count": 7,
      "outputs": [
        {
          "output_type": "stream",
          "name": "stdout",
          "text": [
            "The probability of exactly 12 cars passing in the next hour is: 0.0948\n"
          ]
        }
      ]
    },
    {
      "cell_type": "markdown",
      "source": [
        "### **11. Explain what a random variable is and differentiate between discrete and continuous random variables.**"
      ],
      "metadata": {
        "id": "6LbEtObOYIM8"
      }
    },
    {
      "cell_type": "code",
      "source": [
        "\n",
        "# A random variable is a variable whose value is a numerical outcome of a random phenomenon.  In essence, it's a function that maps the outcomes of a random experiment to numerical values.\n",
        "\n",
        "# Discrete Random Variable:\n",
        "# A discrete random variable can only take on a finite number of values or a countably infinite number of values.  These values are often integers, but they don't have to be.  Think of things you can count.\n",
        "\n",
        "# Examples:\n",
        "# * The number of heads when flipping a coin five times (can be 0, 1, 2, 3, 4, or 5)\n",
        "# * The number of cars passing a certain point on a highway in an hour\n",
        "# * The number of defective items in a batch of 100\n",
        "\n",
        "\n",
        "# Continuous Random Variable:\n",
        "# A continuous random variable can take on any value within a given range or interval.  These values are typically measured, not counted.  There are infinitely many possible values between any two given values.\n",
        "\n",
        "# Examples:\n",
        "# * The height of a student (can take on any value within a range, not just specific heights)\n",
        "# * The temperature of a room\n",
        "# * The time it takes to complete a task"
      ],
      "metadata": {
        "id": "XGtEiEqKc4k1"
      },
      "execution_count": 8,
      "outputs": []
    },
    {
      "cell_type": "markdown",
      "source": [
        "### **12. Provide an example dataset, calculate both covariance and correlation, and interpret the results.**"
      ],
      "metadata": {
        "id": "OjNgjA8RYIPo"
      }
    },
    {
      "cell_type": "code",
      "source": [
        "\n",
        "import numpy as np\n",
        "import pandas as pd\n",
        "\n",
        "# Example dataset (replace with your actual data)\n",
        "data = {'Hours_Studied': [2, 3, 5, 7, 8],\n",
        "        'Exam_Score': [60, 70, 80, 90, 95]}\n",
        "df = pd.DataFrame(data)\n",
        "\n",
        "# Calculate covariance\n",
        "covariance = np.cov(df['Hours_Studied'], df['Exam_Score'])[0, 1]\n",
        "print(f\"Covariance: {covariance}\")\n",
        "\n",
        "# Calculate correlation\n",
        "correlation = np.corrcoef(df['Hours_Studied'], df['Exam_Score'])[0, 1]\n",
        "print(f\"Correlation: {correlation}\")\n",
        "\n",
        "\n",
        "# Interpretation\n",
        "print(\"\\nInterpretation:\")\n",
        "if covariance > 0:\n",
        "    print(\"Positive covariance: As hours studied increase, exam scores tend to increase.\")\n",
        "elif covariance < 0:\n",
        "    print(\"Negative covariance: As hours studied increase, exam scores tend to decrease.\")\n",
        "else:\n",
        "    print(\"Zero covariance: No linear relationship between hours studied and exam scores.\")\n",
        "\n",
        "if abs(correlation) == 1:\n",
        "  print(f\"Perfect linear relationship, with a {'positive' if correlation > 0 else 'negative'} correlation\")\n",
        "elif abs(correlation) > 0.7:\n",
        "  print(\"Strong linear relationship\")\n",
        "elif abs(correlation) > 0.3:\n",
        "  print(\"Moderate linear relationship\")\n",
        "else:\n",
        "  print(\"Weak linear relationship\")"
      ],
      "metadata": {
        "colab": {
          "base_uri": "https://localhost:8080/"
        },
        "id": "NxhxqeYeWb-6",
        "outputId": "24a98cc3-bff9-4e4b-8d4b-416768d343eb"
      },
      "execution_count": 9,
      "outputs": [
        {
          "output_type": "stream",
          "name": "stdout",
          "text": [
            "Covariance: 36.25\n",
            "Correlation: 0.9930575144556762\n",
            "\n",
            "Interpretation:\n",
            "Positive covariance: As hours studied increase, exam scores tend to increase.\n",
            "Strong linear relationship\n"
          ]
        }
      ]
    },
    {
      "cell_type": "code",
      "source": [],
      "metadata": {
        "id": "Frdcgn_mXK1Q"
      },
      "execution_count": null,
      "outputs": []
    }
  ]
}