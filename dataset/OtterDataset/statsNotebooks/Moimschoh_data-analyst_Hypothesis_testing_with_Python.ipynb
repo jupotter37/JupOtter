{
  "cells": [
    {
      "cell_type": "markdown",
      "metadata": {
        "id": "view-in-github",
        "colab_type": "text"
      },
      "source": [
        "<a href=\"https://colab.research.google.com/github/Moimschoh/data-analyst/blob/main/Hypothesis_testing_with_Python.ipynb\" target=\"_parent\"><img src=\"https://colab.research.google.com/assets/colab-badge.svg\" alt=\"Open In Colab\"/></a>"
      ]
    },
    {
      "cell_type": "markdown",
      "id": "2cc7501b",
      "metadata": {
        "id": "2cc7501b"
      },
      "source": [
        "# Exemplar: Hypothesis testing with Python"
      ]
    },
    {
      "cell_type": "markdown",
      "id": "84c29eb9",
      "metadata": {
        "id": "84c29eb9"
      },
      "source": [
        "## **Introduction**"
      ]
    },
    {
      "cell_type": "markdown",
      "id": "3d88f950",
      "metadata": {
        "id": "3d88f950"
      },
      "source": [
        "As we've been learning, analysis of variance (commonly called ANOVA) is a group of statistical techniques that test the difference of means among three or more groups. It's a powerful tool for determining whether population means are different across groups and for answering a wide range of business questions.\n",
        "\n",
        "In this activity, we are a data professional working with historical marketing promotion data. we will use the data to run a one-way ANOVA and a post hoc ANOVA test. Then, we will communicate your results to stakeholders.\n",
        "\n",
        "In our dataset, each row corresponds to an independent marketing promotion, where our business uses TV, social media, radio, and influencer promotions to increase sales. we have previously provided insights about how different promotion types affect sales; now stakeholders want to know if sales are significantly different among various TV and influencer promotion types.\n",
        "\n",
        "To address this request, a one-way ANOVA test will enable us to determine if there is a statistically significant difference in sales among groups. This includes:\n",
        "\n",
        "* Using plots and descriptive statistics to select a categorical independent variable\n",
        "* Creating and fitting a linear regression model with the selected categorical independent variable\n",
        "* Checking model assumptions\n",
        "* Performing and interpreting a one-way ANOVA test\n",
        "* Comparing pairs of groups using an ANOVA post hoc test\n",
        "* Interpreting model outputs and communicating the results to nontechnical stakeholders"
      ]
    },
    {
      "cell_type": "markdown",
      "id": "dc513978",
      "metadata": {
        "id": "dc513978"
      },
      "source": [
        "## **Step 1: Imports**\n"
      ]
    },
    {
      "cell_type": "markdown",
      "id": "db3ea900",
      "metadata": {
        "id": "db3ea900"
      },
      "source": [
        "Import pandas, pyplot from matplotlib, seaborn, api from statsmodels, ols from statsmodels.formula.api, and pairwise_tukeyhsd from statsmodels.stats.multicomp."
      ]
    },
    {
      "cell_type": "code",
      "execution_count": null,
      "id": "2fbe247f",
      "metadata": {
        "id": "2fbe247f"
      },
      "outputs": [],
      "source": [
        "# Import libraries and packages.\n",
        "\n",
        "\n",
        "\n",
        "import pandas as pd\n",
        "import matplotlib.pyplot as plt\n",
        "import seaborn as sns\n",
        "import statsmodels.api as sm\n",
        "from statsmodels.formula.api import ols\n",
        "from statsmodels.stats.multicomp import pairwise_tukeyhsd"
      ]
    },
    {
      "cell_type": "markdown",
      "id": "7f4517a7",
      "metadata": {
        "id": "7f4517a7"
      },
      "source": [
        "Load the dataset `marketing_sales_data.csv` as `data`, and display the first five rows. The variables in the dataset have been adjusted to suit the objectives of this lab."
      ]
    },
    {
      "cell_type": "code",
      "execution_count": null,
      "id": "bfd30337",
      "metadata": {
        "id": "bfd30337",
        "outputId": "9827eb17-1ba6-4547-8058-e348b4edb146"
      },
      "outputs": [
        {
          "data": {
            "text/html": [
              "<div>\n",
              "<style scoped>\n",
              "    .dataframe tbody tr th:only-of-type {\n",
              "        vertical-align: middle;\n",
              "    }\n",
              "\n",
              "    .dataframe tbody tr th {\n",
              "        vertical-align: top;\n",
              "    }\n",
              "\n",
              "    .dataframe thead th {\n",
              "        text-align: right;\n",
              "    }\n",
              "</style>\n",
              "<table border=\"1\" class=\"dataframe\">\n",
              "  <thead>\n",
              "    <tr style=\"text-align: right;\">\n",
              "      <th></th>\n",
              "      <th>TV</th>\n",
              "      <th>Radio</th>\n",
              "      <th>Social Media</th>\n",
              "      <th>Influencer</th>\n",
              "      <th>Sales</th>\n",
              "    </tr>\n",
              "  </thead>\n",
              "  <tbody>\n",
              "    <tr>\n",
              "      <th>0</th>\n",
              "      <td>Low</td>\n",
              "      <td>1.218354</td>\n",
              "      <td>1.270444</td>\n",
              "      <td>Micro</td>\n",
              "      <td>90.054222</td>\n",
              "    </tr>\n",
              "    <tr>\n",
              "      <th>1</th>\n",
              "      <td>Medium</td>\n",
              "      <td>14.949791</td>\n",
              "      <td>0.274451</td>\n",
              "      <td>Macro</td>\n",
              "      <td>222.741668</td>\n",
              "    </tr>\n",
              "    <tr>\n",
              "      <th>2</th>\n",
              "      <td>Low</td>\n",
              "      <td>10.377258</td>\n",
              "      <td>0.061984</td>\n",
              "      <td>Mega</td>\n",
              "      <td>102.774790</td>\n",
              "    </tr>\n",
              "    <tr>\n",
              "      <th>3</th>\n",
              "      <td>High</td>\n",
              "      <td>26.469274</td>\n",
              "      <td>7.070945</td>\n",
              "      <td>Micro</td>\n",
              "      <td>328.239378</td>\n",
              "    </tr>\n",
              "    <tr>\n",
              "      <th>4</th>\n",
              "      <td>High</td>\n",
              "      <td>36.876302</td>\n",
              "      <td>7.618605</td>\n",
              "      <td>Mega</td>\n",
              "      <td>351.807328</td>\n",
              "    </tr>\n",
              "  </tbody>\n",
              "</table>\n",
              "</div>"
            ],
            "text/plain": [
              "       TV      Radio  Social Media Influencer       Sales\n",
              "0     Low   1.218354      1.270444      Micro   90.054222\n",
              "1  Medium  14.949791      0.274451      Macro  222.741668\n",
              "2     Low  10.377258      0.061984       Mega  102.774790\n",
              "3    High  26.469274      7.070945      Micro  328.239378\n",
              "4    High  36.876302      7.618605       Mega  351.807328"
            ]
          },
          "execution_count": 2,
          "metadata": {},
          "output_type": "execute_result"
        }
      ],
      "source": [
        "# Load the data.\n",
        "\n",
        "\n",
        "\n",
        "data = pd.read_csv('marketing_sales_data.csv')\n",
        "\n",
        "# Display the first five rows.\n",
        "\n",
        "\n",
        "\n",
        "data.head()"
      ]
    },
    {
      "cell_type": "markdown",
      "id": "ff4842ab",
      "metadata": {
        "id": "ff4842ab"
      },
      "source": [
        "The features in the data are:\n",
        "* TV promotion budget (in Low, Medium, and High categories)\n",
        "* Social media promotion budget (in millions of dollars)\n",
        "* Radio promotion budget (in millions of dollars)\n",
        "* Sales (in millions of dollars)\n",
        "* Influencer size (in Mega, Macro, Nano, and Micro categories)"
      ]
    },
    {
      "cell_type": "markdown",
      "id": "4b69cbb8",
      "metadata": {
        "id": "4b69cbb8"
      },
      "source": [
        "**Question:** Why is it useful to perform exploratory data analysis before constructing a linear regression model?\n",
        "\n",
        "Potential reasons include:\n",
        "\n",
        "* To understand which variables are present in the data\n",
        "* To consider the distribution of features, such as minimum, mean, and maximum values\n",
        "* To plot the relationship between the independent and dependent variables and visualize which features have a linear relationship\n",
        "* To identify issues with the data, such as incorrect or missing values."
      ]
    },
    {
      "cell_type": "markdown",
      "id": "29956620",
      "metadata": {
        "id": "29956620"
      },
      "source": [
        "## **Step 2: Data exploration**\n"
      ]
    },
    {
      "cell_type": "markdown",
      "id": "7b2d982c",
      "metadata": {
        "id": "7b2d982c"
      },
      "source": [
        "First, we use a boxplot to determine how `Sales` vary based on the `TV` promotion budget category."
      ]
    },
    {
      "cell_type": "code",
      "execution_count": null,
      "id": "0213b8fc",
      "metadata": {
        "id": "0213b8fc",
        "outputId": "09ae9918-19ec-4857-d457-d4eb2bc4aa33"
      },
      "outputs": [
        {
          "data": {
            "image/png": "[encoded data removed]",
            "text/plain": [
              "<Figure size 640x480 with 1 Axes>"
            ]
          },
          "metadata": {},
          "output_type": "display_data"
        }
      ],
      "source": [
        "# Create a boxplot with TV and Sales.\n",
        "\n",
        "\n",
        "sns.boxplot(x = \"TV\", y = \"Sales\", data = data);"
      ]
    },
    {
      "cell_type": "markdown",
      "id": "d4f08152",
      "metadata": {
        "id": "d4f08152"
      },
      "source": [
        "\n",
        "\n",
        "Use the `boxplot()` function from `seaborn`.\n",
        "\n"
      ]
    },
    {
      "cell_type": "markdown",
      "id": "84377688",
      "metadata": {
        "id": "84377688",
        "jp-MarkdownHeadingCollapsed": true,
        "tags": []
      },
      "source": [
        "\n",
        "\n",
        "Use `TV` as the `x` argument, `Sales` as the `y` argument, and `data` as the `data` argument.\n"
      ]
    },
    {
      "cell_type": "markdown",
      "id": "e0183c15",
      "metadata": {
        "id": "e0183c15"
      },
      "source": [
        "**Question:** Is there variation in `Sales` based off the `TV` promotion budget?\n",
        "\n",
        "There is considerable variation in `Sales` across the `TV` groups. The significance of these differences can be tested with a one-way ANOVA."
      ]
    },
    {
      "cell_type": "markdown",
      "id": "76236f69",
      "metadata": {
        "id": "76236f69"
      },
      "source": [
        "Now, use a boxplot to determine how `Sales` vary based on the `Influencer` size category."
      ]
    },
    {
      "cell_type": "code",
      "execution_count": null,
      "id": "d1503675",
      "metadata": {
        "id": "d1503675",
        "outputId": "4ec314f9-ea1b-4bd6-9077-6ebfaafde5ff"
      },
      "outputs": [
        {
          "data": {
            "image/png": "[encoded data removed]",
            "text/plain": [
              "<Figure size 640x480 with 1 Axes>"
            ]
          },
          "metadata": {},
          "output_type": "display_data"
        }
      ],
      "source": [
        "# Create a boxplot with Influencer and Sales.\n",
        "\n",
        "\n",
        "sns.boxplot(x = \"Influencer\", y = \"Sales\", data = data);"
      ]
    },
    {
      "cell_type": "markdown",
      "id": "6afb27b7",
      "metadata": {
        "id": "6afb27b7"
      },
      "source": [
        "**Question:** Is there variation in `Sales` based off the `Influencer` size?\n",
        "\n",
        "There is some variation in `Sales` across the `Influencer` groups, but it may not be significant."
      ]
    },
    {
      "cell_type": "markdown",
      "id": "3781d828",
      "metadata": {
        "id": "3781d828"
      },
      "source": [
        "### Remove missing data\n",
        "\n",
        " This dataset contains rows with missing values. To correct this, drop these rows. Then, confirm the data contains no missing values."
      ]
    },
    {
      "cell_type": "code",
      "execution_count": null,
      "id": "0879bacc",
      "metadata": {
        "id": "0879bacc",
        "outputId": "b3a50f3f-698c-4f8e-8396-d7e09106a241"
      },
      "outputs": [
        {
          "data": {
            "text/plain": [
              "TV              0\n",
              "Radio           0\n",
              "Social Media    0\n",
              "Influencer      0\n",
              "Sales           0\n",
              "dtype: int64"
            ]
          },
          "execution_count": 5,
          "metadata": {},
          "output_type": "execute_result"
        }
      ],
      "source": [
        "# Drop rows that contain missing data and update the DataFrame.\n",
        "\n",
        "\n",
        "data = data.dropna(axis=0)\n",
        "\n",
        "\n",
        "# Confirm the data contain no missing values.\n",
        "\n",
        "\n",
        "data.isnull().sum(axis=0)"
      ]
    },
    {
      "cell_type": "markdown",
      "id": "74f9963b",
      "metadata": {
        "id": "74f9963b"
      },
      "source": [
        "\n",
        "\n",
        "The `dropna()` function removes missing values from an object (e.g., DataFrame).\n",
        "\n"
      ]
    },
    {
      "cell_type": "markdown",
      "id": "96e01e89",
      "metadata": {
        "id": "96e01e89"
      },
      "source": [
        ">\n",
        "\n",
        "Verify the data is updated properly after the rows containing missing data are dropped.\n",
        "\n"
      ]
    },
    {
      "cell_type": "markdown",
      "id": "7dc2a315",
      "metadata": {
        "id": "7dc2a315"
      },
      "source": [
        "## **Step 3: Model building**"
      ]
    },
    {
      "cell_type": "markdown",
      "id": "4cf0c18c",
      "metadata": {
        "id": "4cf0c18c"
      },
      "source": [
        "Fit a linear regression model that predicts `Sales` using one of the independent categorical variables in `data`. Refer to your previous code for defining and fitting a linear regression model."
      ]
    },
    {
      "cell_type": "code",
      "execution_count": null,
      "id": "152a138e",
      "metadata": {
        "id": "152a138e",
        "outputId": "d839100c-52df-43ad-8310-3a966d786195"
      },
      "outputs": [
        {
          "data": {
            "text/html": [
              "<table class=\"simpletable\">\n",
              "<caption>OLS Regression Results</caption>\n",
              "<tr>\n",
              "  <th>Dep. Variable:</th>          <td>Sales</td>      <th>  R-squared:         </th> <td>   0.874</td> \n",
              "</tr>\n",
              "<tr>\n",
              "  <th>Model:</th>                   <td>OLS</td>       <th>  Adj. R-squared:    </th> <td>   0.874</td> \n",
              "</tr>\n",
              "<tr>\n",
              "  <th>Method:</th>             <td>Least Squares</td>  <th>  F-statistic:       </th> <td>   1971.</td> \n",
              "</tr>\n",
              "<tr>\n",
              "  <th>Date:</th>             <td>Wed, 31 Jul 2024</td> <th>  Prob (F-statistic):</th> <td>8.81e-256</td>\n",
              "</tr>\n",
              "<tr>\n",
              "  <th>Time:</th>                 <td>15:36:11</td>     <th>  Log-Likelihood:    </th> <td> -2778.9</td> \n",
              "</tr>\n",
              "<tr>\n",
              "  <th>No. Observations:</th>      <td>   569</td>      <th>  AIC:               </th> <td>   5564.</td> \n",
              "</tr>\n",
              "<tr>\n",
              "  <th>Df Residuals:</th>          <td>   566</td>      <th>  BIC:               </th> <td>   5577.</td> \n",
              "</tr>\n",
              "<tr>\n",
              "  <th>Df Model:</th>              <td>     2</td>      <th>                     </th>     <td> </td>    \n",
              "</tr>\n",
              "<tr>\n",
              "  <th>Covariance Type:</th>      <td>nonrobust</td>    <th>                     </th>     <td> </td>    \n",
              "</tr>\n",
              "</table>\n",
              "<table class=\"simpletable\">\n",
              "<tr>\n",
              "         <td></td>            <th>coef</th>     <th>std err</th>      <th>t</th>      <th>P>|t|</th>  <th>[0.025</th>    <th>0.975]</th>  \n",
              "</tr>\n",
              "<tr>\n",
              "  <th>Intercept</th>       <td>  300.5296</td> <td>    2.417</td> <td>  124.360</td> <td> 0.000</td> <td>  295.783</td> <td>  305.276</td>\n",
              "</tr>\n",
              "<tr>\n",
              "  <th>C(TV)[T.Low]</th>    <td> -208.8133</td> <td>    3.329</td> <td>  -62.720</td> <td> 0.000</td> <td> -215.353</td> <td> -202.274</td>\n",
              "</tr>\n",
              "<tr>\n",
              "  <th>C(TV)[T.Medium]</th> <td> -101.5061</td> <td>    3.325</td> <td>  -30.526</td> <td> 0.000</td> <td> -108.038</td> <td>  -94.975</td>\n",
              "</tr>\n",
              "</table>\n",
              "<table class=\"simpletable\">\n",
              "<tr>\n",
              "  <th>Omnibus:</th>       <td>450.714</td> <th>  Durbin-Watson:     </th> <td>   2.002</td>\n",
              "</tr>\n",
              "<tr>\n",
              "  <th>Prob(Omnibus):</th> <td> 0.000</td>  <th>  Jarque-Bera (JB):  </th> <td>  35.763</td>\n",
              "</tr>\n",
              "<tr>\n",
              "  <th>Skew:</th>          <td>-0.044</td>  <th>  Prob(JB):          </th> <td>1.71e-08</td>\n",
              "</tr>\n",
              "<tr>\n",
              "  <th>Kurtosis:</th>      <td> 1.775</td>  <th>  Cond. No.          </th> <td>    3.86</td>\n",
              "</tr>\n",
              "</table><br/><br/>Notes:<br/>[1] Standard Errors assume that the covariance matrix of the errors is correctly specified."
            ],
            "text/plain": [
              "<class 'statsmodels.iolib.summary.Summary'>\n",
              "\"\"\"\n",
              "                            OLS Regression Results                            \n",
              "==============================================================================\n",
              "Dep. Variable:                  Sales   R-squared:                       0.874\n",
              "Model:                            OLS   Adj. R-squared:                  0.874\n",
              "Method:                 Least Squares   F-statistic:                     1971.\n",
              "Date:                Wed, 31 Jul 2024   Prob (F-statistic):          8.81e-256\n",
              "Time:                        15:36:11   Log-Likelihood:                -2778.9\n",
              "No. Observations:                 569   AIC:                             5564.\n",
              "Df Residuals:                     566   BIC:                             5577.\n",
              "Df Model:                           2                                         \n",
              "Covariance Type:            nonrobust                                         \n",
              "===================================================================================\n",
              "                      coef    std err          t      P>|t|      [0.025      0.975]\n",
              "-----------------------------------------------------------------------------------\n",
              "Intercept         300.5296      2.417    124.360      0.000     295.783     305.276\n",
              "C(TV)[T.Low]     -208.8133      3.329    -62.720      0.000    -215.353    -202.274\n",
              "C(TV)[T.Medium]  -101.5061      3.325    -30.526      0.000    -108.038     -94.975\n",
              "==============================================================================\n",
              "Omnibus:                      450.714   Durbin-Watson:                   2.002\n",
              "Prob(Omnibus):                  0.000   Jarque-Bera (JB):               35.763\n",
              "Skew:                          -0.044   Prob(JB):                     1.71e-08\n",
              "Kurtosis:                       1.775   Cond. No.                         3.86\n",
              "==============================================================================\n",
              "\n",
              "Notes:\n",
              "[1] Standard Errors assume that the covariance matrix of the errors is correctly specified.\n",
              "\"\"\""
            ]
          },
          "execution_count": 6,
          "metadata": {},
          "output_type": "execute_result"
        }
      ],
      "source": [
        "# Define the OLS formula.\n",
        "\n",
        "\n",
        "\n",
        "ols_formula = 'Sales ~ C(TV)'\n",
        "\n",
        "# Create an OLS model.\n",
        "\n",
        "\n",
        "\n",
        "OLS = ols(formula = ols_formula, data = data)\n",
        "\n",
        "# Fit the model.\n",
        "\n",
        "\n",
        "\n",
        "model = OLS.fit()\n",
        "\n",
        "# Save the results summary.\n",
        "\n",
        "\n",
        "\n",
        "model_results = model.summary()\n",
        "\n",
        "# Display the model results.\n",
        "\n",
        "\n",
        "\n",
        "model_results"
      ]
    },
    {
      "cell_type": "markdown",
      "id": "538d1dc9",
      "metadata": {
        "id": "538d1dc9"
      },
      "source": [
        "\n",
        "\n",
        "Use the `ols()` function from `statsmodels.formula.api`, which creates a model from a formula and DataFrame, to create an OLS model.\n",
        "\n",
        "\n"
      ]
    },
    {
      "cell_type": "markdown",
      "id": "1d3692fa",
      "metadata": {
        "id": "1d3692fa",
        "jp-MarkdownHeadingCollapsed": true,
        "tags": []
      },
      "source": [
        "\n",
        "\n",
        "Use `C()` around the variable name in the ols formula to indicate a variable is categorical.\n",
        "    \n",
        "Be sure the variable string names exactly match the column names in `data`.\n"
      ]
    },
    {
      "cell_type": "markdown",
      "id": "673e80ad",
      "metadata": {
        "id": "673e80ad"
      },
      "source": [
        "**Question:** Which categorical variable did you choose for the model? Why?\n",
        "\n",
        "* `TV` was selected as the preceding analysis showed a strong relationship between the `TV` promotion budget and the average `Sales`.\n",
        "* `Influencer` was not selected because it did not show a strong relationship to `Sales` in the analysis."
      ]
    },
    {
      "cell_type": "markdown",
      "id": "340d713e",
      "metadata": {
        "id": "340d713e",
        "tags": []
      },
      "source": [
        "### Check model assumptions"
      ]
    },
    {
      "cell_type": "markdown",
      "id": "61f5b086",
      "metadata": {
        "id": "61f5b086"
      },
      "source": [
        "Now, check the four linear regression assumptions are upheld for your model."
      ]
    },
    {
      "cell_type": "markdown",
      "id": "70cb3f10",
      "metadata": {
        "id": "70cb3f10",
        "tags": []
      },
      "source": [
        "**Question:** Is the linearity assumption met?\n",
        "\n",
        "Because your model does not have any continuous independent variables, the linearity assumption is not required."
      ]
    },
    {
      "cell_type": "markdown",
      "id": "7fb53ed2",
      "metadata": {
        "id": "7fb53ed2"
      },
      "source": [
        "The independent observation assumption states that each observation in the dataset is independent. As each marketing promotion (row) is independent from one another, the independence assumption is not violated."
      ]
    },
    {
      "cell_type": "markdown",
      "id": "b01a7a9f",
      "metadata": {
        "id": "b01a7a9f"
      },
      "source": [
        "Next, verify that the normality assumption is upheld for the model."
      ]
    },
    {
      "cell_type": "code",
      "execution_count": null,
      "id": "8d5b1974",
      "metadata": {
        "id": "8d5b1974",
        "outputId": "ffff6771-35d1-4465-93ea-cd8056c11a32"
      },
      "outputs": [
        {
          "data": {
            "image/png": "[encoded data removed]",
            "text/plain": [
              "<Figure size 800x400 with 2 Axes>"
            ]
          },
          "metadata": {},
          "output_type": "display_data"
        }
      ],
      "source": [
        "# Calculate the residuals.\n",
        "\n",
        "\n",
        "\n",
        "residuals = model.resid\n",
        "\n",
        "# Create a 1x2 plot figure.\n",
        "fig, axes = plt.subplots(1, 2, figsize = (8,4))\n",
        "\n",
        "# Create a histogram with the residuals.\n",
        "\n",
        "\n",
        "\n",
        "sns.histplot(residuals, ax=axes[0])\n",
        "\n",
        "# Set the x label of the residual plot.\n",
        "axes[0].set_xlabel(\"Residual Value\")\n",
        "\n",
        "# Set the title of the residual plot.\n",
        "axes[0].set_title(\"Histogram of Residuals\")\n",
        "\n",
        "# Create a QQ plot of the residuals.\n",
        "\n",
        "\n",
        "sm.qqplot(residuals, line='s',ax = axes[1])\n",
        "\n",
        "# Set the title of the QQ plot.\n",
        "axes[1].set_title(\"Normal QQ Plot\")\n",
        "\n",
        "# Use matplotlib's tight_layout() function to add space between plots for a cleaner appearance.\n",
        "plt.tight_layout()\n",
        "\n",
        "# Show the plot.\n",
        "plt.show()"
      ]
    },
    {
      "cell_type": "markdown",
      "id": "177a0586",
      "metadata": {
        "id": "177a0586"
      },
      "source": [
        "\n",
        "\n",
        "Use `model.resid` to get the residuals from a fit model called `model`.\n",
        "\n"
      ]
    },
    {
      "cell_type": "markdown",
      "id": "8a23499f",
      "metadata": {
        "id": "8a23499f"
      },
      "source": [
        "<details>\n",
        "\n",
        "\n",
        "For the histogram, pass the residuals as the first argument in the `seaborn` `histplot()` function.\n",
        "    \n",
        "For the QQ-plot, pass the residuals as the first argument in the `statsmodels` `qqplot()` function.\n",
        "\n"
      ]
    },
    {
      "cell_type": "markdown",
      "id": "62867970",
      "metadata": {
        "id": "62867970"
      },
      "source": [
        "**Question:** Is the normality assumption met?\n",
        "\n",
        "There is reasonable concern that the normality assumption is not met when `TV` is used as the independent variable predicting `Sales`. The normal q-q forms an 'S' that deviates off the red diagonal line, which is not desired behavior.\n",
        "\n",
        "However, for the purpose of the lab, continue assuming the normality assumption is met."
      ]
    },
    {
      "cell_type": "markdown",
      "id": "cbe64927",
      "metadata": {
        "id": "cbe64927"
      },
      "source": [
        "Now, verify the constant variance (homoscedasticity) assumption is met for this model."
      ]
    },
    {
      "cell_type": "code",
      "execution_count": null,
      "id": "e5e9c369",
      "metadata": {
        "id": "e5e9c369",
        "outputId": "740a539a-63bc-4c93-b444-b601ab26a6db"
      },
      "outputs": [
        {
          "data": {
            "image/png": "[encoded data removed]",
            "text/plain": [
              "<Figure size 640x480 with 1 Axes>"
            ]
          },
          "metadata": {},
          "output_type": "display_data"
        }
      ],
      "source": [
        "# Create a scatter plot with the fitted values from the model and the residuals.\n",
        "\n",
        "\n",
        "fig = sns.scatterplot(x = model.fittedvalues, y = model.resid)\n",
        "\n",
        "# Set the x axis label\n",
        "fig.set_xlabel(\"Fitted Values\")\n",
        "\n",
        "# Set the y axis label\n",
        "fig.set_ylabel(\"Residuals\")\n",
        "\n",
        "# Set the title\n",
        "fig.set_title(\"Fitted Values v. Residuals\")\n",
        "\n",
        "# Add a line at y = 0 to visualize the variance of residuals above and below 0.\n",
        "\n",
        "\n",
        "fig.axhline(0)\n",
        "\n",
        "# Show the plot\n",
        "plt.show()"
      ]
    },
    {
      "cell_type": "markdown",
      "id": "8fc456c8",
      "metadata": {
        "id": "8fc456c8",
        "jp-MarkdownHeadingCollapsed": true,
        "tags": []
      },
      "source": [
        "\n",
        "Use `model.fittedvalues` to get the fitted values from the fit model called `model`.\n",
        "\n"
      ]
    },
    {
      "cell_type": "markdown",
      "id": "d4c07320",
      "metadata": {
        "id": "d4c07320",
        "jp-MarkdownHeadingCollapsed": true,
        "tags": []
      },
      "source": [
        "\n",
        "\n",
        "\n",
        "Call the `scatterplot()` function from the `seaborn` library and pass in the fitted values and residuals.\n",
        "    \n",
        "Add a line to a figure using the `axline()` function.\n",
        "\n"
      ]
    },
    {
      "cell_type": "markdown",
      "id": "0463827f",
      "metadata": {
        "id": "0463827f"
      },
      "source": [
        "**Question:** Is the constant variance (homoscedasticity) assumption met?\n",
        "\n",
        "The variance where there are fitted values is similarly distributed, validating that the constant variance assumption is met."
      ]
    },
    {
      "cell_type": "markdown",
      "id": "79cc2ce6",
      "metadata": {
        "id": "79cc2ce6"
      },
      "source": [
        "## **Step 4: Results and evaluation**"
      ]
    },
    {
      "cell_type": "markdown",
      "id": "fb2b2bb4",
      "metadata": {
        "id": "fb2b2bb4"
      },
      "source": [
        "First, display the OLS regression results."
      ]
    },
    {
      "cell_type": "code",
      "execution_count": null,
      "id": "6c715e4d",
      "metadata": {
        "id": "6c715e4d",
        "outputId": "bb9734f5-3d8b-4ebc-b8d6-fe4f0125d2b5"
      },
      "outputs": [
        {
          "data": {
            "text/html": [
              "<table class=\"simpletable\">\n",
              "<caption>OLS Regression Results</caption>\n",
              "<tr>\n",
              "  <th>Dep. Variable:</th>          <td>Sales</td>      <th>  R-squared:         </th> <td>   0.874</td> \n",
              "</tr>\n",
              "<tr>\n",
              "  <th>Model:</th>                   <td>OLS</td>       <th>  Adj. R-squared:    </th> <td>   0.874</td> \n",
              "</tr>\n",
              "<tr>\n",
              "  <th>Method:</th>             <td>Least Squares</td>  <th>  F-statistic:       </th> <td>   1971.</td> \n",
              "</tr>\n",
              "<tr>\n",
              "  <th>Date:</th>             <td>Wed, 31 Jul 2024</td> <th>  Prob (F-statistic):</th> <td>8.81e-256</td>\n",
              "</tr>\n",
              "<tr>\n",
              "  <th>Time:</th>                 <td>15:36:11</td>     <th>  Log-Likelihood:    </th> <td> -2778.9</td> \n",
              "</tr>\n",
              "<tr>\n",
              "  <th>No. Observations:</th>      <td>   569</td>      <th>  AIC:               </th> <td>   5564.</td> \n",
              "</tr>\n",
              "<tr>\n",
              "  <th>Df Residuals:</th>          <td>   566</td>      <th>  BIC:               </th> <td>   5577.</td> \n",
              "</tr>\n",
              "<tr>\n",
              "  <th>Df Model:</th>              <td>     2</td>      <th>                     </th>     <td> </td>    \n",
              "</tr>\n",
              "<tr>\n",
              "  <th>Covariance Type:</th>      <td>nonrobust</td>    <th>                     </th>     <td> </td>    \n",
              "</tr>\n",
              "</table>\n",
              "<table class=\"simpletable\">\n",
              "<tr>\n",
              "         <td></td>            <th>coef</th>     <th>std err</th>      <th>t</th>      <th>P>|t|</th>  <th>[0.025</th>    <th>0.975]</th>  \n",
              "</tr>\n",
              "<tr>\n",
              "  <th>Intercept</th>       <td>  300.5296</td> <td>    2.417</td> <td>  124.360</td> <td> 0.000</td> <td>  295.783</td> <td>  305.276</td>\n",
              "</tr>\n",
              "<tr>\n",
              "  <th>C(TV)[T.Low]</th>    <td> -208.8133</td> <td>    3.329</td> <td>  -62.720</td> <td> 0.000</td> <td> -215.353</td> <td> -202.274</td>\n",
              "</tr>\n",
              "<tr>\n",
              "  <th>C(TV)[T.Medium]</th> <td> -101.5061</td> <td>    3.325</td> <td>  -30.526</td> <td> 0.000</td> <td> -108.038</td> <td>  -94.975</td>\n",
              "</tr>\n",
              "</table>\n",
              "<table class=\"simpletable\">\n",
              "<tr>\n",
              "  <th>Omnibus:</th>       <td>450.714</td> <th>  Durbin-Watson:     </th> <td>   2.002</td>\n",
              "</tr>\n",
              "<tr>\n",
              "  <th>Prob(Omnibus):</th> <td> 0.000</td>  <th>  Jarque-Bera (JB):  </th> <td>  35.763</td>\n",
              "</tr>\n",
              "<tr>\n",
              "  <th>Skew:</th>          <td>-0.044</td>  <th>  Prob(JB):          </th> <td>1.71e-08</td>\n",
              "</tr>\n",
              "<tr>\n",
              "  <th>Kurtosis:</th>      <td> 1.775</td>  <th>  Cond. No.          </th> <td>    3.86</td>\n",
              "</tr>\n",
              "</table><br/><br/>Notes:<br/>[1] Standard Errors assume that the covariance matrix of the errors is correctly specified."
            ],
            "text/plain": [
              "<class 'statsmodels.iolib.summary.Summary'>\n",
              "\"\"\"\n",
              "                            OLS Regression Results                            \n",
              "==============================================================================\n",
              "Dep. Variable:                  Sales   R-squared:                       0.874\n",
              "Model:                            OLS   Adj. R-squared:                  0.874\n",
              "Method:                 Least Squares   F-statistic:                     1971.\n",
              "Date:                Wed, 31 Jul 2024   Prob (F-statistic):          8.81e-256\n",
              "Time:                        15:36:11   Log-Likelihood:                -2778.9\n",
              "No. Observations:                 569   AIC:                             5564.\n",
              "Df Residuals:                     566   BIC:                             5577.\n",
              "Df Model:                           2                                         \n",
              "Covariance Type:            nonrobust                                         \n",
              "===================================================================================\n",
              "                      coef    std err          t      P>|t|      [0.025      0.975]\n",
              "-----------------------------------------------------------------------------------\n",
              "Intercept         300.5296      2.417    124.360      0.000     295.783     305.276\n",
              "C(TV)[T.Low]     -208.8133      3.329    -62.720      0.000    -215.353    -202.274\n",
              "C(TV)[T.Medium]  -101.5061      3.325    -30.526      0.000    -108.038     -94.975\n",
              "==============================================================================\n",
              "Omnibus:                      450.714   Durbin-Watson:                   2.002\n",
              "Prob(Omnibus):                  0.000   Jarque-Bera (JB):               35.763\n",
              "Skew:                          -0.044   Prob(JB):                     1.71e-08\n",
              "Kurtosis:                       1.775   Cond. No.                         3.86\n",
              "==============================================================================\n",
              "\n",
              "Notes:\n",
              "[1] Standard Errors assume that the covariance matrix of the errors is correctly specified.\n",
              "\"\"\""
            ]
          },
          "execution_count": 9,
          "metadata": {},
          "output_type": "execute_result"
        }
      ],
      "source": [
        "# Display the model results summary.\n",
        "\n",
        "\n",
        "model_results"
      ]
    },
    {
      "cell_type": "markdown",
      "id": "0bd771a4",
      "metadata": {
        "id": "0bd771a4"
      },
      "source": [
        "**Question:** What is your interpretation of the model's R-squared?\n",
        "\n",
        "Using `TV` as the independent variable results in a linear regression model with $R^{2} = 0.874$. In other words, the model explains $87.4\\%$ of the variation in `Sales`. This makes the model an effective predictor of `Sales`."
      ]
    },
    {
      "cell_type": "markdown",
      "id": "dacfd8d3",
      "metadata": {
        "id": "dacfd8d3",
        "tags": []
      },
      "source": [
        "**Question:** What is your intepretation of the coefficient estimates? Are the coefficients statistically significant?\n",
        "\n",
        "The default `TV` category for the model is `High`, because there are coefficients for the other two `TV` categories, `Medium` and `Low`. According to the model, `Sales` with a `Medium` or `Low` `TV` category are lower on average than `Sales` with a `High` `TV` category. For example, the model predicts that a `Low` `TV` promotion would be 208.813 (in millions of dollars) lower in `Sales` on average than a `High` `TV` promotion.\n",
        "\n",
        "The p-value for all coefficients is $0.000$, meaning all coefficients are statistically significant at $p=0.05$. The 95% confidence intervals for each coefficient should be reported when presenting results to stakeholders. For instance, there is a $95\\%$ chance the interval $[-215.353,-202.274]$ contains the true parameter of the slope of $\\beta_{TVLow}$, which is the estimated difference in promotion sales when a `Low` `TV` promotion is chosen instead of a `High` `TV` promotion."
      ]
    },
    {
      "cell_type": "markdown",
      "id": "f99a5b5d",
      "metadata": {
        "id": "f99a5b5d"
      },
      "source": [
        "**Question:** Do you think your model could be improved? Why or why not? How?\n",
        "\n",
        "Given how accurate `TV` was as a predictor, the model could be improved with a more granular view of the `TV` promotions, such as additional categories or the actual `TV` promotion budgets. Further, additional variables, such as the location of the marketing campaign or the time of year, may increase model accuracy."
      ]
    },
    {
      "cell_type": "markdown",
      "id": "00ea924d",
      "metadata": {
        "id": "00ea924d"
      },
      "source": [
        "### Perform a one-way ANOVA test\n",
        "\n",
        "With the model fit, run a one-way ANOVA test to determine whether there is a statistically significant difference in `Sales` among groups."
      ]
    },
    {
      "cell_type": "code",
      "execution_count": null,
      "id": "636c2cca",
      "metadata": {
        "id": "636c2cca",
        "outputId": "60838468-0b68-4394-902c-af3f4a6af11e",
        "scrolled": true
      },
      "outputs": [
        {
          "data": {
            "text/html": [
              "<div>\n",
              "<style scoped>\n",
              "    .dataframe tbody tr th:only-of-type {\n",
              "        vertical-align: middle;\n",
              "    }\n",
              "\n",
              "    .dataframe tbody tr th {\n",
              "        vertical-align: top;\n",
              "    }\n",
              "\n",
              "    .dataframe thead th {\n",
              "        text-align: right;\n",
              "    }\n",
              "</style>\n",
              "<table border=\"1\" class=\"dataframe\">\n",
              "  <thead>\n",
              "    <tr style=\"text-align: right;\">\n",
              "      <th></th>\n",
              "      <th>sum_sq</th>\n",
              "      <th>df</th>\n",
              "      <th>F</th>\n",
              "      <th>PR(&gt;F)</th>\n",
              "    </tr>\n",
              "  </thead>\n",
              "  <tbody>\n",
              "    <tr>\n",
              "      <th>C(TV)</th>\n",
              "      <td>4.052692e+06</td>\n",
              "      <td>2.0</td>\n",
              "      <td>1971.455737</td>\n",
              "      <td>8.805550e-256</td>\n",
              "    </tr>\n",
              "    <tr>\n",
              "      <th>Residual</th>\n",
              "      <td>5.817589e+05</td>\n",
              "      <td>566.0</td>\n",
              "      <td>NaN</td>\n",
              "      <td>NaN</td>\n",
              "    </tr>\n",
              "  </tbody>\n",
              "</table>\n",
              "</div>"
            ],
            "text/plain": [
              "                sum_sq     df            F         PR(>F)\n",
              "C(TV)     4.052692e+06    2.0  1971.455737  8.805550e-256\n",
              "Residual  5.817589e+05  566.0          NaN            NaN"
            ]
          },
          "execution_count": 10,
          "metadata": {},
          "output_type": "execute_result"
        }
      ],
      "source": [
        "# Create an one-way ANOVA table for the fit model.\n",
        "\n",
        "\n",
        "sm.stats.anova_lm(model, typ=2)"
      ]
    },
    {
      "cell_type": "markdown",
      "id": "996c40b7",
      "metadata": {
        "id": "996c40b7"
      },
      "source": [
        "\n",
        "\n",
        "There is a function in `statsmodels.api` (i.e. `sm`) that peforms an ANOVA test for a fit linear model.\n"
      ]
    },
    {
      "cell_type": "markdown",
      "id": "1b7a5ee2",
      "metadata": {
        "id": "1b7a5ee2"
      },
      "source": [
        "\n",
        "\n",
        "Use the `anova_lm()` function from `sm.stats`.\n"
      ]
    },
    {
      "cell_type": "markdown",
      "id": "abc392ff",
      "metadata": {
        "id": "abc392ff"
      },
      "source": [
        "**Question:** What are the null and alternative hypotheses for the ANOVA test?\n",
        "\n",
        "The null hypothesis is that there is no difference in `Sales` based on the `TV` promotion budget.\n",
        "\n",
        "The alternative hypothesis is that there is a difference in `Sales` based on the `TV` promotion budget."
      ]
    },
    {
      "cell_type": "markdown",
      "id": "2d944553",
      "metadata": {
        "id": "2d944553"
      },
      "source": [
        "**Question:** What is our conclusion from the one-way ANOVA test?\n",
        "\n",
        "The F-test statistic is 1971.46 and the p-value is $8.81 * 10^{-256}$ (i.e., very small). Because the p-value is less than 0.05, we would reject the null hypothesis that there is no difference in `Sales` based on the `TV` promotion budget."
      ]
    },
    {
      "cell_type": "markdown",
      "id": "82390710",
      "metadata": {
        "id": "82390710"
      },
      "source": [
        "**Question:** What did the ANOVA test tell us?\n",
        "\n",
        "The results of the one-way ANOVA test indicate that you can reject the null hypothesis in favor of the alternative hypothesis. There is a statistically significant difference in `Sales` among `TV` groups."
      ]
    },
    {
      "cell_type": "markdown",
      "id": "eb386394",
      "metadata": {
        "id": "eb386394"
      },
      "source": [
        "### Perform an ANOVA post hoc test\n",
        "\n",
        "If we have significant results from the one-way ANOVA test, we can apply ANOVA post hoc tests such as the Tukey’s HSD post hoc test.\n",
        "\n",
        "we run the Tukey’s HSD post hoc test to compare if there is a significant difference between each pair of categories for TV."
      ]
    },
    {
      "cell_type": "code",
      "execution_count": null,
      "id": "d6016414",
      "metadata": {
        "id": "d6016414",
        "outputId": "3ebeb14a-67ce-4183-d601-2422b80b7470"
      },
      "outputs": [
        {
          "data": {
            "text/html": [
              "<table class=\"simpletable\">\n",
              "<caption>Multiple Comparison of Means - Tukey HSD, FWER=0.05</caption>\n",
              "<tr>\n",
              "  <th>group1</th> <th>group2</th> <th>meandiff</th>  <th>p-adj</th>   <th>lower</th>     <th>upper</th>   <th>reject</th>\n",
              "</tr>\n",
              "<tr>\n",
              "   <td>High</td>    <td>Low</td>  <td>-208.8133</td>  <td>0.0</td>  <td>-216.6367</td> <td>-200.9898</td>  <td>True</td> \n",
              "</tr>\n",
              "<tr>\n",
              "   <td>High</td>  <td>Medium</td> <td>-101.5061</td>  <td>0.0</td>  <td>-109.3202</td> <td>-93.6921</td>   <td>True</td> \n",
              "</tr>\n",
              "<tr>\n",
              "    <td>Low</td>  <td>Medium</td> <td>107.3072</td>   <td>0.0</td>   <td>99.7066</td>  <td>114.9077</td>   <td>True</td> \n",
              "</tr>\n",
              "</table>"
            ],
            "text/plain": [
              "<class 'statsmodels.iolib.table.SimpleTable'>"
            ]
          },
          "execution_count": 11,
          "metadata": {},
          "output_type": "execute_result"
        }
      ],
      "source": [
        "# Perform the Tukey's HSD post hoc test.\n",
        "\n",
        "\n",
        "tukey_oneway = pairwise_tukeyhsd(endog = data[\"Sales\"], groups = data[\"TV\"])\n",
        "\n",
        "# Display the results\n",
        "tukey_oneway.summary()"
      ]
    },
    {
      "cell_type": "markdown",
      "id": "e6de58ca",
      "metadata": {
        "id": "e6de58ca"
      },
      "source": [
        "\n",
        "\n",
        "\n",
        "Use the `pairwise_tukeyhsd()` function from `statsmodels.stats.multicomp`.\n",
        "\n"
      ]
    },
    {
      "cell_type": "markdown",
      "id": "ba4f1f77",
      "metadata": {
        "id": "ba4f1f77"
      },
      "source": [
        "\n",
        "\n",
        "The `endog` argument in `pairwise_tukeyhsd` indicates which variable is being compared across groups (i.e., `Sales`). The `groups` argument in `pairwise_tukeyhsd` tells the function which variable holds the group you’re interested in reviewing.\n",
        "\n"
      ]
    },
    {
      "cell_type": "markdown",
      "id": "c28ccdd5",
      "metadata": {
        "id": "c28ccdd5"
      },
      "source": [
        "**Question:** What is your interpretation of the Tukey HSD test?\n",
        "\n",
        "The first row, which compares the `High` and `Low` `TV` groups, indicates that you can reject the null hypothesis that there is no significant difference between the `Sales` of these two groups.\n",
        "\n",
        "we can also reject the null hypotheses for the two other pairwise comparisons that compare `High` to `Medium` and `Low` to `Medium`."
      ]
    },
    {
      "cell_type": "markdown",
      "id": "8c0cb305",
      "metadata": {
        "id": "8c0cb305"
      },
      "source": [
        "**Question:** What did the post hoc tell us?\n",
        "\n",
        "A post hoc test was conducted to determine which `TV` groups are different and how many are different from each other. This provides more detail than the one-way ANOVA results, which can at most determine that at least one group is different. Further, using the Tukey HSD controls for the increasing probability of incorrectly rejecting a null hypothesis from peforming multiple tests.\n",
        "\n",
        "The results were that `Sales` is not the same between any pair of `TV` groups."
      ]
    },
    {
      "cell_type": "markdown",
      "id": "09ebc885",
      "metadata": {
        "id": "09ebc885"
      },
      "source": [
        "## **Considerations**\n",
        "\n",
        "**What are some key takeaways that you learned during this lab?**\n",
        "\n",
        "* Box-plots are a helpful tool for visualizing the distribution of a variable across groups.\n",
        "* One-way ANOVA can be used to determine if there are significant differences among the means of three or more groups.\n",
        "* ANOVA post hoc tests provide a more detailed view of the pairwise differences between groups.\n",
        "\n",
        "**What summary would you provide to stakeholders? Consider the statistical significance of key relationships and differences in distribution.**\n",
        "\n",
        "High TV promotion budgets result in significantly more sales than both medium and low TV promotion budgets. Medium TV promotion budgets result in significantly more sales than low TV promotion budgets.\n",
        "\n",
        "\n",
        "Specifically, following are estimates for the difference between the mean sales resulting from different pairs of TV promotions, as determined by the Tukey's HSD test:\n",
        "\n",
        "* Estimated difference between the mean sales resulting from High and Low TV promotions: \\\\$208.81 million (with 95% confidence that the exact value for this difference is between 200.99 and 216.64 million dollars).\n",
        "* Estimated difference between the mean sales resulting from High and Medium TV promotions: \\\\$101.51 million (with 95% confidence that the exact value for this difference is between 93.69 and 109.32 million dollars).\n",
        "* difference between the mean sales resulting from Medium and Low TV promotions: \\\\$107.31 million (with 95\\% confidence that the exact value for this difference is between 99.71 and 114.91 million dollars).\n",
        "\n",
        "The linear regression model estimating `Sales` from `TV` had an R-squared of $0.871, making it a fairly accurate estimator. The model showed a statistically significant relationship between the `TV` promotion budget and `Sales`.\n",
        "\n",
        "The results of the one-way ANOVA test indicate that the null hypothesis that there is no difference in Sales based on the TV promotion budget can be rejected. Through the ANOVA post hoc test, a significant difference between all pairs of TV promotions was found.\n",
        "\n",
        "The difference in the distribution of sales across TV promotions was determined significant by both a one-way ANOVA test and a Tukey’s HSD test.\n"
      ]
    },
    {
      "cell_type": "markdown",
      "id": "f702acd0",
      "metadata": {
        "id": "f702acd0"
      },
      "source": [
        "#### **Reference**\n",
        "[Saragih, H.S. *Dummy Marketing and Sales Data*](https://www.kaggle.com/datasets/harrimansaragih/dummy-advertising-and-sales-data)"
      ]
    }
  ],
  "metadata": {
    "colab": {
      "provenance": [],
      "include_colab_link": true
    },
    "kernelspec": {
      "display_name": "Python 3 (ipykernel)",
      "language": "python",
      "name": "python3"
    },
    "language_info": {
      "codemirror_mode": {
        "name": "ipython",
        "version": 3
      },
      "file_extension": ".py",
      "mimetype": "text/x-python",
      "name": "python",
      "nbconvert_exporter": "python",
      "pygments_lexer": "ipython3",
      "version": "3.9.13"
    }
  },
  "nbformat": 4,
  "nbformat_minor": 5
}