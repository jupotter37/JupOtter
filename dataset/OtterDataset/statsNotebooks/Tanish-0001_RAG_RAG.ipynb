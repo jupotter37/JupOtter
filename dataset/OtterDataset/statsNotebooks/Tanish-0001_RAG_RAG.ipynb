{
 "cells": [
  {
   "metadata": {
    "ExecuteTime": {
     "end_time": "2024-08-15T15:20:40.773107Z",
     "start_time": "2024-08-15T15:20:40.762235Z"
    }
   },
   "cell_type": "code",
   "source": [
    "import os\n",
    "from langchain.text_splitter import RecursiveCharacterTextSplitter\n",
    "from langchain_community.document_loaders import PyPDFLoader\n",
    "from langchain_community.vectorstores import Chroma\n",
    "from langchain_core.output_parsers import StrOutputParser\n",
    "from langchain_google_genai import ChatGoogleGenerativeAI\n",
    "from langchain_google_genai import GoogleGenerativeAIEmbeddings\n",
    "from langchain.prompts import ChatPromptTemplate\n",
    "from operator import itemgetter"
   ],
   "id": "dcccaace4315033b",
   "outputs": [],
   "execution_count": 2
  },
  {
   "metadata": {
    "ExecuteTime": {
     "end_time": "2024-08-15T15:20:41.614842Z",
     "start_time": "2024-08-15T15:20:41.594492Z"
    }
   },
   "cell_type": "code",
   "source": [
    "os.environ['LANGCHAIN_TRACING_V2'] = 'true'\n",
    "os.environ['LANGCHAIN_ENDPOINT'] = 'https://api.smith.langchain.com'\n",
    "os.environ['LANGCHAIN_API_KEY'] = ''\n",
    "os.environ['GOOGLE_API_KEY'] = ''"
   ],
   "id": "830cb80299a8160a",
   "outputs": [],
   "execution_count": 3
  },
  {
   "metadata": {
    "ExecuteTime": {
     "end_time": "2024-08-15T15:22:04.358423Z",
     "start_time": "2024-08-15T15:20:43.541629Z"
    }
   },
   "cell_type": "code",
   "source": [
    "loader1 = PyPDFLoader(r'SI Chronicles 23-24 Sem I.pdf')\n",
    "loader2 = PyPDFLoader(r'Placement Chronicles 2023-24.pdf')\n",
    "pages = loader1.load()\n",
    "pages.extend(loader2.load())\n",
    "\n",
    "print(len(pages))"
   ],
   "id": "c1c6fab0f8f84923",
   "outputs": [
    {
     "name": "stdout",
     "output_type": "stream",
     "text": [
      "226\n"
     ]
    }
   ],
   "execution_count": 4
  },
  {
   "metadata": {
    "ExecuteTime": {
     "end_time": "2024-08-15T16:49:37.175244Z",
     "start_time": "2024-08-15T16:49:08.287895Z"
    }
   },
   "cell_type": "code",
   "source": [
    "text_splitter = RecursiveCharacterTextSplitter.from_tiktoken_encoder(chunk_size=800, chunk_overlap=50)\n",
    "splits = text_splitter.split_documents(pages)\n",
    "\n",
    "vectorstore = Chroma.from_documents(documents=splits, embedding=GoogleGenerativeAIEmbeddings(model=\"models/embedding-001\"))\n",
    "retriever = vectorstore.as_retriever(search_kwargs={\"k\": 10})\n",
    "\n",
    "llm = ChatGoogleGenerativeAI(model=\"gemini-1.5-pro\", temperature=0)"
   ],
   "id": "3e2196048e9fc4d5",
   "outputs": [],
   "execution_count": 5
  },
  {
   "metadata": {
    "ExecuteTime": {
     "end_time": "2024-08-15T17:18:46.776585Z",
     "start_time": "2024-08-15T17:18:42.951471Z"
    }
   },
   "cell_type": "code",
   "source": [
    "# Template for decomposing the question into five sub-questions\n",
    "template = \"\"\"You are a helpful assistant that generates multiple sub-questions related to an input question. \\n\n",
    "The goal is to break down the input into a set of sub-problems / sub-questions that can be answers in isolation. \\n\n",
    "Generate only the sub-problems using as little formatting as needed.\\n\n",
    "You must make them relevant from the perspective of a college student seeking help in securing placements. \\n\n",
    "Generate multiple sub-questions related to: {question} \\n\n",
    "Output (5 queries):\"\"\"\n",
    "prompt_decomposition = ChatPromptTemplate.from_template(template)\n",
    "\n",
    "generate_queries_decomposition = (prompt_decomposition | llm | StrOutputParser() | (lambda x: x.split(\"\\n\")))\n",
    "\n",
    "\n",
    "question = \"What do I need to do to secure a placement in the finance field?\"\n",
    "questions = generate_queries_decomposition.invoke({\"question\": question})\n",
    "\n",
    "questions = [q for q in questions if q]  # remove any empty strings\n",
    "print(questions)"
   ],
   "id": "39392a9324ade1c4",
   "outputs": [
    {
     "name": "stdout",
     "output_type": "stream",
     "text": [
      "['What are the typical entry-level roles in finance that I should target?', 'What skills and experiences do employers look for in finance candidates?', 'How can I build a strong resume and cover letter for finance placements?', 'What are the best resources for finding finance internships and job openings?', 'How can I prepare for finance interviews and assessment centers? ']\n"
     ]
    }
   ],
   "execution_count": 8
  },
  {
   "metadata": {
    "ExecuteTime": {
     "end_time": "2024-08-15T17:21:51.450018Z",
     "start_time": "2024-08-15T17:19:52.994049Z"
    }
   },
   "cell_type": "code",
   "source": [
    "# Template to answer sub-questions. Context is retrieved using HyDE\n",
    "template = \"\"\"You are a helpful assistant that answers questions based on the following context: {context}\\n\n",
    "You must answer the questions from the perspective of a college student seeking help in securing placements. \\n\n",
    "Answer using as little formatting as possible.\\n\n",
    "Question: {question}\\n\"\"\"\n",
    "\n",
    "prompt = ChatPromptTemplate.from_template(template)\n",
    "\n",
    "def retrieve_and_rag(prompt_rag, sub_questions):\n",
    "    rag_results = []\n",
    "    \n",
    "    # Template to generate the hypothetical document\n",
    "    hyde_template = \"\"\"Please write a scientific paper passage to answer the question\n",
    "    Question: {question}\n",
    "    Passage:\"\"\"\n",
    "    prompt_hyde = ChatPromptTemplate.from_template(hyde_template)\n",
    "\n",
    "    for sub_question in sub_questions:\n",
    "        \n",
    "        retrieval_chain = prompt_hyde | llm | StrOutputParser() | retriever\n",
    "        retrieved_docs = retrieval_chain.invoke({\"question\": sub_question})\n",
    "        \n",
    "        ans_chain = prompt_rag | llm | StrOutputParser()\n",
    "        ans = ans_chain.invoke({\"context\": retrieved_docs, \"question\": sub_question})\n",
    "        rag_results.append(ans)\n",
    "\n",
    "    return rag_results\n",
    "\n",
    "\n",
    "answers = retrieve_and_rag(prompt, questions)\n",
    "# print(answers)\n",
    "\n",
    "def format_qa_pairs(questions, answers):\n",
    "\n",
    "    formatted_string = \"\"\n",
    "    for i, (question, answer) in enumerate(zip(questions, answers)):\n",
    "        formatted_string += f\"Question {i}: {question}\\nAnswer {i}: {answer}\\n\\n\"\n",
    "    return formatted_string.strip()\n",
    "\n",
    "\n",
    "context = format_qa_pairs(questions, answers)\n",
    "\n",
    "# Template to answer the main question, context is the previously answered sub-questions in the form of QA pairs\n",
    "template = \"\"\"Here is a set of Q+A pairs:\n",
    "\n",
    "{context}\n",
    "\n",
    "Use these to synthesize an answer to the question: {question}\n",
    "\"\"\"\n",
    "\n",
    "prompt = ChatPromptTemplate.from_template(template)\n",
    "\n",
    "final_rag_chain = (\n",
    "        prompt\n",
    "        | llm\n",
    "        | StrOutputParser()\n",
    ")\n",
    "\n",
    "print(final_rag_chain.invoke({\"context\": context, \"question\": question}))"
   ],
   "id": "5565973bf6d2108d",
   "outputs": [
    {
     "name": "stderr",
     "output_type": "stream",
     "text": [
      "Retrying langchain_google_genai.chat_models._chat_with_retry.<locals>._chat_with_retry in 2.0 seconds as it raised ResourceExhausted: 429 Resource has been exhausted (e.g. check quota)..\n",
      "Retrying langchain_google_genai.chat_models._chat_with_retry.<locals>._chat_with_retry in 2.0 seconds as it raised ResourceExhausted: 429 Resource has been exhausted (e.g. check quota)..\n",
      "Retrying langchain_google_genai.chat_models._chat_with_retry.<locals>._chat_with_retry in 4.0 seconds as it raised ResourceExhausted: 429 Resource has been exhausted (e.g. check quota)..\n",
      "Retrying langchain_google_genai.chat_models._chat_with_retry.<locals>._chat_with_retry in 8.0 seconds as it raised ResourceExhausted: 429 Resource has been exhausted (e.g. check quota)..\n",
      "Retrying langchain_google_genai.chat_models._chat_with_retry.<locals>._chat_with_retry in 2.0 seconds as it raised ResourceExhausted: 429 Resource has been exhausted (e.g. check quota)..\n",
      "Retrying langchain_google_genai.chat_models._chat_with_retry.<locals>._chat_with_retry in 4.0 seconds as it raised ResourceExhausted: 429 Resource has been exhausted (e.g. check quota)..\n",
      "Retrying langchain_google_genai.chat_models._chat_with_retry.<locals>._chat_with_retry in 2.0 seconds as it raised ResourceExhausted: 429 Resource has been exhausted (e.g. check quota)..\n",
      "Retrying langchain_google_genai.chat_models._chat_with_retry.<locals>._chat_with_retry in 4.0 seconds as it raised ResourceExhausted: 429 Resource has been exhausted (e.g. check quota)..\n",
      "Retrying langchain_google_genai.chat_models._chat_with_retry.<locals>._chat_with_retry in 2.0 seconds as it raised ResourceExhausted: 429 Resource has been exhausted (e.g. check quota)..\n",
      "Retrying langchain_google_genai.chat_models._chat_with_retry.<locals>._chat_with_retry in 4.0 seconds as it raised ResourceExhausted: 429 Resource has been exhausted (e.g. check quota)..\n",
      "Retrying langchain_google_genai.chat_models._chat_with_retry.<locals>._chat_with_retry in 8.0 seconds as it raised ResourceExhausted: 429 Resource has been exhausted (e.g. check quota)..\n"
     ]
    },
    {
     "name": "stdout",
     "output_type": "stream",
     "text": [
      "To secure a placement in the competitive finance field, you need a multi-pronged approach focusing on skills, experience, and job search strategies:\n",
      "\n",
      "**1. Build a Strong Foundation:**\n",
      "\n",
      "* **Solid understanding of financial concepts:** This is non-negotiable. Ensure you have a firm grasp of core financial principles.\n",
      "* **Technical Skills:**  Quantitative roles are in high demand. Brush up on your math, statistics, and probability. Practice coding challenges on platforms like LeetCode, focusing on medium to hard difficulty levels. Familiarize yourself with data structures, algorithms, and concepts like parallel computing.\n",
      "* **Relevant Experience:**  Prior work experience, even if not directly in finance, is valuable. Highlight internships, projects, or coursework involving quantitative finance, financial modeling, data analysis, or market research.\n",
      "\n",
      "**2. Tailor Your Application:**\n",
      "\n",
      "* **Resume:**  Showcase finance-related experiences prominently. Quantify your achievements whenever possible. Use keywords relevant to the specific roles you're targeting.\n",
      "* **Cover Letter:**  Personalize each letter, demonstrating your passion for finance and aligning your skills with the company's needs. Mention specific projects or experiences that showcase your abilities.\n",
      "\n",
      "**3. Prepare for the Interview Process:**\n",
      "\n",
      "* **Technical Proficiency:** Be prepared to explain technical concepts clearly and solve coding problems during interviews. Practice articulating your thought process aloud.\n",
      "* **Behavioral Questions:**  Prepare for questions about your resume, career goals, and interest in finance. Be ready to discuss your experiences in detail and highlight your transferable skills.\n",
      "* **Research and Questions:**  Thoroughly research each company you're interviewing with and prepare thoughtful questions to demonstrate your interest and engagement.\n",
      "\n",
      "**4. Leverage Resources:**\n",
      "\n",
      "* **Placement Chronicles:** While not directly providing job openings, analyze placement chronicles to understand industry trends, company preferences, and the skills employers seek.\n",
      "* **Networking:** Attend industry events, connect with professionals on LinkedIn, and reach out to alumni working in finance to gain insights and expand your network.\n",
      "\n",
      "Securing a finance placement requires a combination of technical proficiency, relevant experience, and strong self-presentation skills. By focusing on these areas and actively pursuing opportunities, you can increase your chances of success in this competitive field. \n",
      "\n"
     ]
    }
   ],
   "execution_count": 10
  },
  {
   "metadata": {},
   "cell_type": "code",
   "execution_count": null,
   "source": "",
   "id": "16148af49d193d05",
   "outputs": []
  }
 ],
 "metadata": {
  "kernelspec": {
   "display_name": "Python 3",
   "language": "python",
   "name": "python3"
  },
  "language_info": {
   "codemirror_mode": {
    "name": "ipython",
    "version": 2
   },
   "file_extension": ".py",
   "mimetype": "text/x-python",
   "name": "python",
   "nbconvert_exporter": "python",
   "pygments_lexer": "ipython2",
   "version": "2.7.6"
  }
 },
 "nbformat": 4,
 "nbformat_minor": 5
}
