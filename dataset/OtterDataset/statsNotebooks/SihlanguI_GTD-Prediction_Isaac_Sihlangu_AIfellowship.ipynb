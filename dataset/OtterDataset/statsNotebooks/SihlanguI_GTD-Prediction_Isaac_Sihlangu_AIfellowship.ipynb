{
 "cells": [
  {
   "cell_type": "markdown",
   "metadata": {},
   "source": [
    "## Author : Isaac Sihlangu\n",
    "\n",
    "## Prediction of terrosist attack perpetrator"
   ]
  },
  {
   "cell_type": "code",
   "execution_count": 1,
   "metadata": {},
   "outputs": [],
   "source": [
    "#Importing important modules\n",
    "import pandas as pd # Data manipulations\n",
    "import matplotlib.pylab as plt # Data visualization\n",
    "import numpy as np  # Basic statistics and data manipulation\n",
    "from collections import Counter\n",
    "import seaborn as sns\n",
    "\n",
    "# Feature selection\n",
    "from sklearn.feature_extraction import DictVectorizer\n",
    "from sklearn.decomposition import PCA\n",
    "from sklearn.model_selection import train_test_split\n",
    "from sklearn.decomposition import TruncatedSVD\n",
    "from sklearn.model_selection import cross_val_score\n",
    "from sklearn import model_selection\n",
    "from sklearn.metrics import classification_report\n",
    "from sklearn.metrics import confusion_matrix\n",
    "from sklearn.metrics import accuracy_score\n",
    "\n",
    "# Loading Machine Learning Classifiers\n",
    "from sklearn.neighbors import KNeighborsClassifier\n",
    "from sklearn.tree import DecisionTreeClassifier\n",
    "from sklearn.ensemble import RandomForestClassifier\n",
    "from sklearn import svm\n"
   ]
  },
  {
   "cell_type": "markdown",
   "metadata": {},
   "source": [
    "## Project description\n",
    "In this project we are going to build a models that can predict which terrorist group may have been responsible for the terrorist attack incident. Features like weapon, attack type and many more others will be used to predict."
   ]
  },
  {
   "cell_type": "markdown",
   "metadata": {},
   "source": [
    "## Data Description\n",
    "Global Terrorism Database (GTD) is an open-source database including information on terrorist events around the world from 1970 through 2014. Some portion of the attacks have not been attributed to a particular terrorist group."
   ]
  },
  {
   "cell_type": "markdown",
   "metadata": {},
   "source": [
    "## Loading in the data"
   ]
  },
  {
   "cell_type": "code",
   "execution_count": 2,
   "metadata": {},
   "outputs": [],
   "source": [
    "# Read in the data using pandas\n",
    "data = pd.read_excel('globalterrorismdb_0617dist.xlsx')"
   ]
  },
  {
   "cell_type": "markdown",
   "metadata": {},
   "source": [
    "## Data Pre-processing"
   ]
  },
  {
   "cell_type": "code",
   "execution_count": 3,
   "metadata": {},
   "outputs": [
    {
     "data": {
      "text/html": [
       "<div>\n",
       "<style scoped>\n",
       "    .dataframe tbody tr th:only-of-type {\n",
       "        vertical-align: middle;\n",
       "    }\n",
       "\n",
       "    .dataframe tbody tr th {\n",
       "        vertical-align: top;\n",
       "    }\n",
       "\n",
       "    .dataframe thead th {\n",
       "        text-align: right;\n",
       "    }\n",
       "</style>\n",
       "<table border=\"1\" class=\"dataframe\">\n",
       "  <thead>\n",
       "    <tr style=\"text-align: right;\">\n",
       "      <th></th>\n",
       "      <th>eventid</th>\n",
       "      <th>iyear</th>\n",
       "      <th>imonth</th>\n",
       "      <th>iday</th>\n",
       "      <th>approxdate</th>\n",
       "      <th>extended</th>\n",
       "      <th>resolution</th>\n",
       "      <th>country</th>\n",
       "      <th>country_txt</th>\n",
       "      <th>region</th>\n",
       "      <th>...</th>\n",
       "      <th>addnotes</th>\n",
       "      <th>scite1</th>\n",
       "      <th>scite2</th>\n",
       "      <th>scite3</th>\n",
       "      <th>dbsource</th>\n",
       "      <th>INT_LOG</th>\n",
       "      <th>INT_IDEO</th>\n",
       "      <th>INT_MISC</th>\n",
       "      <th>INT_ANY</th>\n",
       "      <th>related</th>\n",
       "    </tr>\n",
       "  </thead>\n",
       "  <tbody>\n",
       "    <tr>\n",
       "      <th>0</th>\n",
       "      <td>197000000001</td>\n",
       "      <td>1970</td>\n",
       "      <td>7</td>\n",
       "      <td>2</td>\n",
       "      <td>NaN</td>\n",
       "      <td>0</td>\n",
       "      <td>NaT</td>\n",
       "      <td>58</td>\n",
       "      <td>Dominican Republic</td>\n",
       "      <td>2</td>\n",
       "      <td>...</td>\n",
       "      <td>NaN</td>\n",
       "      <td>NaN</td>\n",
       "      <td>NaN</td>\n",
       "      <td>NaN</td>\n",
       "      <td>PGIS</td>\n",
       "      <td>0</td>\n",
       "      <td>0</td>\n",
       "      <td>0</td>\n",
       "      <td>0</td>\n",
       "      <td>NaN</td>\n",
       "    </tr>\n",
       "    <tr>\n",
       "      <th>1</th>\n",
       "      <td>197000000002</td>\n",
       "      <td>1970</td>\n",
       "      <td>0</td>\n",
       "      <td>0</td>\n",
       "      <td>NaN</td>\n",
       "      <td>0</td>\n",
       "      <td>NaT</td>\n",
       "      <td>130</td>\n",
       "      <td>Mexico</td>\n",
       "      <td>1</td>\n",
       "      <td>...</td>\n",
       "      <td>NaN</td>\n",
       "      <td>NaN</td>\n",
       "      <td>NaN</td>\n",
       "      <td>NaN</td>\n",
       "      <td>PGIS</td>\n",
       "      <td>0</td>\n",
       "      <td>1</td>\n",
       "      <td>1</td>\n",
       "      <td>1</td>\n",
       "      <td>NaN</td>\n",
       "    </tr>\n",
       "    <tr>\n",
       "      <th>2</th>\n",
       "      <td>197001000001</td>\n",
       "      <td>1970</td>\n",
       "      <td>1</td>\n",
       "      <td>0</td>\n",
       "      <td>NaN</td>\n",
       "      <td>0</td>\n",
       "      <td>NaT</td>\n",
       "      <td>160</td>\n",
       "      <td>Philippines</td>\n",
       "      <td>5</td>\n",
       "      <td>...</td>\n",
       "      <td>NaN</td>\n",
       "      <td>NaN</td>\n",
       "      <td>NaN</td>\n",
       "      <td>NaN</td>\n",
       "      <td>PGIS</td>\n",
       "      <td>-9</td>\n",
       "      <td>-9</td>\n",
       "      <td>1</td>\n",
       "      <td>1</td>\n",
       "      <td>NaN</td>\n",
       "    </tr>\n",
       "    <tr>\n",
       "      <th>3</th>\n",
       "      <td>197001000002</td>\n",
       "      <td>1970</td>\n",
       "      <td>1</td>\n",
       "      <td>0</td>\n",
       "      <td>NaN</td>\n",
       "      <td>0</td>\n",
       "      <td>NaT</td>\n",
       "      <td>78</td>\n",
       "      <td>Greece</td>\n",
       "      <td>8</td>\n",
       "      <td>...</td>\n",
       "      <td>NaN</td>\n",
       "      <td>NaN</td>\n",
       "      <td>NaN</td>\n",
       "      <td>NaN</td>\n",
       "      <td>PGIS</td>\n",
       "      <td>-9</td>\n",
       "      <td>-9</td>\n",
       "      <td>1</td>\n",
       "      <td>1</td>\n",
       "      <td>NaN</td>\n",
       "    </tr>\n",
       "    <tr>\n",
       "      <th>4</th>\n",
       "      <td>197001000003</td>\n",
       "      <td>1970</td>\n",
       "      <td>1</td>\n",
       "      <td>0</td>\n",
       "      <td>NaN</td>\n",
       "      <td>0</td>\n",
       "      <td>NaT</td>\n",
       "      <td>101</td>\n",
       "      <td>Japan</td>\n",
       "      <td>4</td>\n",
       "      <td>...</td>\n",
       "      <td>NaN</td>\n",
       "      <td>NaN</td>\n",
       "      <td>NaN</td>\n",
       "      <td>NaN</td>\n",
       "      <td>PGIS</td>\n",
       "      <td>-9</td>\n",
       "      <td>-9</td>\n",
       "      <td>1</td>\n",
       "      <td>1</td>\n",
       "      <td>NaN</td>\n",
       "    </tr>\n",
       "  </tbody>\n",
       "</table>\n",
       "<p>5 rows × 135 columns</p>\n",
       "</div>"
      ],
      "text/plain": [
       "        eventid  iyear  imonth  iday approxdate  extended resolution  country  \\\n",
       "0  197000000001   1970       7     2        NaN         0        NaT       58   \n",
       "1  197000000002   1970       0     0        NaN         0        NaT      130   \n",
       "2  197001000001   1970       1     0        NaN         0        NaT      160   \n",
       "3  197001000002   1970       1     0        NaN         0        NaT       78   \n",
       "4  197001000003   1970       1     0        NaN         0        NaT      101   \n",
       "\n",
       "          country_txt  region   ...    addnotes scite1 scite2  scite3  \\\n",
       "0  Dominican Republic       2   ...         NaN    NaN    NaN     NaN   \n",
       "1              Mexico       1   ...         NaN    NaN    NaN     NaN   \n",
       "2         Philippines       5   ...         NaN    NaN    NaN     NaN   \n",
       "3              Greece       8   ...         NaN    NaN    NaN     NaN   \n",
       "4               Japan       4   ...         NaN    NaN    NaN     NaN   \n",
       "\n",
       "   dbsource  INT_LOG  INT_IDEO INT_MISC INT_ANY  related  \n",
       "0      PGIS        0         0        0       0      NaN  \n",
       "1      PGIS        0         1        1       1      NaN  \n",
       "2      PGIS       -9        -9        1       1      NaN  \n",
       "3      PGIS       -9        -9        1       1      NaN  \n",
       "4      PGIS       -9        -9        1       1      NaN  \n",
       "\n",
       "[5 rows x 135 columns]"
      ]
     },
     "execution_count": 3,
     "metadata": {},
     "output_type": "execute_result"
    }
   ],
   "source": [
    "# Viewing the data\n",
    "data.head()"
   ]
  },
  {
   "cell_type": "code",
   "execution_count": 4,
   "metadata": {},
   "outputs": [
    {
     "name": "stdout",
     "output_type": "stream",
     "text": [
      "=========================================================================================================\n",
      "The number of training examples is  170350 and number of attributes is 135\n",
      "=========================================================================================================\n"
     ]
    }
   ],
   "source": [
    "print '========================================================================================================='\n",
    "print 'The number of training examples is ',data.shape[0],'and number of attributes is',data.shape[1]\n",
    "print '========================================================================================================='"
   ]
  },
  {
   "cell_type": "markdown",
   "metadata": {},
   "source": [
    "This data was collected from different sources, that would result in data inconsistance. To solve the problem, we are going to remove all the unknown targets name. Removing the unknown group is motivated by the fact that  we don't know which group does the unknown belong too, and as such we cannot classify them as one group since the data was collected from different resources. It might happen that the incident was from different types of groups which then will be classified as the unknown in our dataset."
   ]
  },
  {
   "cell_type": "code",
   "execution_count": 5,
   "metadata": {},
   "outputs": [
    {
     "name": "stdout",
     "output_type": "stream",
     "text": [
      "==========================================================================================================\n",
      "The total number of terrosist groups:  3454\n",
      "The percentage of the unkwonn groups out of the whole dataset is :  45.967713531 %\n",
      "==========================================================================================================\n"
     ]
    }
   ],
   "source": [
    "# Getting all the known terosit group name from the dataset.\n",
    "unknown_g = [ngroup for ngroup in data['gname'] if ngroup=='Unknown']\n",
    "print '=========================================================================================================='\n",
    "print 'The total number of terrosist groups: ',len(data['gname'].unique())\n",
    "print 'The percentage of the unkwonn groups out of the whole dataset is : ',float(len(unknown_g))/len(data['gname'])*100,'%'\n",
    "print '=========================================================================================================='"
   ]
  },
  {
   "cell_type": "markdown",
   "metadata": {},
   "source": [
    "We can note that from above the unknown group is the most common group in the dataset, about 54% of the dataset is from the unknown group. So this results furthur motivate why we should remove the unknown group, because if we train the classifier with the unknown, this will result in biased results, since we do not know which class does the unknown fall under. Again since the data was collected from different source, we will set a threshold in which we will remove all the groups with less than 10 attacks reported."
   ]
  },
  {
   "cell_type": "code",
   "execution_count": 6,
   "metadata": {},
   "outputs": [],
   "source": [
    "# Selecting only the data with the known groups and removing groups with 10 attacks or less\n",
    "filtereddata =data[data['gname']!='Unknown'] \n",
    "fg = []    # Filtered groups\n",
    "for tgroup, number in  Counter(data['gname']).items():\n",
    "    if number > 10:\n",
    "        fg.append(tgroup)\n",
    "        \n",
    "filtereddata=filtereddata[filtereddata['gname'].isin(fg)]"
   ]
  },
  {
   "cell_type": "code",
   "execution_count": 7,
   "metadata": {},
   "outputs": [
    {
     "name": "stdout",
     "output_type": "stream",
     "text": [
      "=========================================================================================================\n",
      "The number of training examples is  85522 and number of attributes is 135\n",
      "=========================================================================================================\n"
     ]
    }
   ],
   "source": [
    "print '========================================================================================================='\n",
    "print 'The number of training examples is ',filtereddata.shape[0],'and number of attributes is',filtereddata.shape[1]\n",
    "print '========================================================================================================='"
   ]
  },
  {
   "cell_type": "markdown",
   "metadata": {},
   "source": [
    "We can note the number of training example went down after removing the inconsistant data. Now we are going to check if our features cointains some nan values."
   ]
  },
  {
   "cell_type": "code",
   "execution_count": 8,
   "metadata": {},
   "outputs": [
    {
     "name": "stdout",
     "output_type": "stream",
     "text": [
      "=========================================================================================================\n",
      "Number of features that cointains nan values is them 104 out of 135\n",
      "=========================================================================================================\n"
     ]
    }
   ],
   "source": [
    "counter = 0\n",
    "for feature in data.columns:\n",
    "    if filtereddata[feature].isnull().sum() !=0:\n",
    "        counter += 1\n",
    "print '========================================================================================================='\n",
    "print 'Number of features that cointains nan values is them', counter, 'out of',filtereddata.shape[1]\n",
    "print '========================================================================================================='"
   ]
  },
  {
   "cell_type": "code",
   "execution_count": 9,
   "metadata": {},
   "outputs": [],
   "source": [
    "filt = filtereddata "
   ]
  },
  {
   "cell_type": "markdown",
   "metadata": {},
   "source": [
    "We can note that all the columns/features contains null values in them, so we are going to remove all the features that has 80% of null values."
   ]
  },
  {
   "cell_type": "code",
   "execution_count": 10,
   "metadata": {},
   "outputs": [],
   "source": [
    "# Dropping all the features with more than 80% of values which are null\n",
    "for feature in filtereddata.columns:\n",
    "    perc = filtereddata[str(feature)].isnull().sum()/float(len(filtereddata))# Percentage of null values in a column\n",
    "    if perc >= 0.8:\n",
    "        filtereddata = filtereddata.drop(feature,1)"
   ]
  },
  {
   "cell_type": "markdown",
   "metadata": {},
   "source": [
    "After removing columns/features that coitains 80% of null values the number of features/columns went down."
   ]
  },
  {
   "cell_type": "code",
   "execution_count": 11,
   "metadata": {},
   "outputs": [
    {
     "name": "stdout",
     "output_type": "stream",
     "text": [
      "=========================================================================================================\n",
      "Number of traning examples 85522  and number of features is  67\n",
      "=========================================================================================================\n"
     ]
    }
   ],
   "source": [
    "print '========================================================================================================='\n",
    "print 'Number of traning examples',filtereddata.shape[0],' and number of features is ',filtereddata.shape[1]\n",
    "print '========================================================================================================='"
   ]
  },
  {
   "cell_type": "markdown",
   "metadata": {},
   "source": [
    "Below we are going to look at basic statistics of the data."
   ]
  },
  {
   "cell_type": "code",
   "execution_count": 12,
   "metadata": {},
   "outputs": [
    {
     "data": {
      "text/html": [
       "<div>\n",
       "<style scoped>\n",
       "    .dataframe tbody tr th:only-of-type {\n",
       "        vertical-align: middle;\n",
       "    }\n",
       "\n",
       "    .dataframe tbody tr th {\n",
       "        vertical-align: top;\n",
       "    }\n",
       "\n",
       "    .dataframe thead th {\n",
       "        text-align: right;\n",
       "    }\n",
       "</style>\n",
       "<table border=\"1\" class=\"dataframe\">\n",
       "  <thead>\n",
       "    <tr style=\"text-align: right;\">\n",
       "      <th></th>\n",
       "      <th>count</th>\n",
       "      <th>mean</th>\n",
       "      <th>std</th>\n",
       "      <th>min</th>\n",
       "      <th>25%</th>\n",
       "      <th>50%</th>\n",
       "      <th>75%</th>\n",
       "      <th>max</th>\n",
       "    </tr>\n",
       "  </thead>\n",
       "  <tbody>\n",
       "    <tr>\n",
       "      <th>eventid</th>\n",
       "      <td>85522.0</td>\n",
       "      <td>1.999853e+11</td>\n",
       "      <td>1.372294e+09</td>\n",
       "      <td>1.970000e+11</td>\n",
       "      <td>1.988033e+11</td>\n",
       "      <td>2.001081e+11</td>\n",
       "      <td>2.014041e+11</td>\n",
       "      <td>2.017013e+11</td>\n",
       "    </tr>\n",
       "    <tr>\n",
       "      <th>iyear</th>\n",
       "      <td>85522.0</td>\n",
       "      <td>1.999787e+03</td>\n",
       "      <td>1.372222e+01</td>\n",
       "      <td>1.970000e+03</td>\n",
       "      <td>1.988000e+03</td>\n",
       "      <td>2.001000e+03</td>\n",
       "      <td>2.014000e+03</td>\n",
       "      <td>2.016000e+03</td>\n",
       "    </tr>\n",
       "    <tr>\n",
       "      <th>imonth</th>\n",
       "      <td>85522.0</td>\n",
       "      <td>6.475994e+00</td>\n",
       "      <td>3.378995e+00</td>\n",
       "      <td>0.000000e+00</td>\n",
       "      <td>4.000000e+00</td>\n",
       "      <td>6.000000e+00</td>\n",
       "      <td>9.000000e+00</td>\n",
       "      <td>1.200000e+01</td>\n",
       "    </tr>\n",
       "    <tr>\n",
       "      <th>iday</th>\n",
       "      <td>85522.0</td>\n",
       "      <td>1.541431e+01</td>\n",
       "      <td>8.760658e+00</td>\n",
       "      <td>0.000000e+00</td>\n",
       "      <td>8.000000e+00</td>\n",
       "      <td>1.500000e+01</td>\n",
       "      <td>2.300000e+01</td>\n",
       "      <td>3.100000e+01</td>\n",
       "    </tr>\n",
       "    <tr>\n",
       "      <th>extended</th>\n",
       "      <td>85522.0</td>\n",
       "      <td>5.536587e-02</td>\n",
       "      <td>2.286943e-01</td>\n",
       "      <td>0.000000e+00</td>\n",
       "      <td>0.000000e+00</td>\n",
       "      <td>0.000000e+00</td>\n",
       "      <td>0.000000e+00</td>\n",
       "      <td>1.000000e+00</td>\n",
       "    </tr>\n",
       "    <tr>\n",
       "      <th>country</th>\n",
       "      <td>85522.0</td>\n",
       "      <td>1.411322e+02</td>\n",
       "      <td>1.276666e+02</td>\n",
       "      <td>4.000000e+00</td>\n",
       "      <td>6.100000e+01</td>\n",
       "      <td>1.380000e+02</td>\n",
       "      <td>1.820000e+02</td>\n",
       "      <td>1.004000e+03</td>\n",
       "    </tr>\n",
       "    <tr>\n",
       "      <th>region</th>\n",
       "      <td>85522.0</td>\n",
       "      <td>6.719195e+00</td>\n",
       "      <td>3.061465e+00</td>\n",
       "      <td>1.000000e+00</td>\n",
       "      <td>3.000000e+00</td>\n",
       "      <td>6.000000e+00</td>\n",
       "      <td>1.000000e+01</td>\n",
       "      <td>1.200000e+01</td>\n",
       "    </tr>\n",
       "    <tr>\n",
       "      <th>latitude</th>\n",
       "      <td>82437.0</td>\n",
       "      <td>2.137030e+01</td>\n",
       "      <td>1.962933e+01</td>\n",
       "      <td>-5.315461e+01</td>\n",
       "      <td>7.689167e+00</td>\n",
       "      <td>2.509607e+01</td>\n",
       "      <td>3.499591e+01</td>\n",
       "      <td>6.040393e+01</td>\n",
       "    </tr>\n",
       "    <tr>\n",
       "      <th>longitude</th>\n",
       "      <td>82437.0</td>\n",
       "      <td>1.746738e+01</td>\n",
       "      <td>6.306569e+01</td>\n",
       "      <td>-1.578190e+02</td>\n",
       "      <td>-7.319996e+00</td>\n",
       "      <td>3.510225e+01</td>\n",
       "      <td>6.736875e+01</td>\n",
       "      <td>1.793667e+02</td>\n",
       "    </tr>\n",
       "    <tr>\n",
       "      <th>specificity</th>\n",
       "      <td>85520.0</td>\n",
       "      <td>1.542703e+00</td>\n",
       "      <td>1.087890e+00</td>\n",
       "      <td>1.000000e+00</td>\n",
       "      <td>1.000000e+00</td>\n",
       "      <td>1.000000e+00</td>\n",
       "      <td>1.000000e+00</td>\n",
       "      <td>5.000000e+00</td>\n",
       "    </tr>\n",
       "    <tr>\n",
       "      <th>vicinity</th>\n",
       "      <td>85522.0</td>\n",
       "      <td>7.145530e-02</td>\n",
       "      <td>2.956310e-01</td>\n",
       "      <td>-9.000000e+00</td>\n",
       "      <td>0.000000e+00</td>\n",
       "      <td>0.000000e+00</td>\n",
       "      <td>0.000000e+00</td>\n",
       "      <td>1.000000e+00</td>\n",
       "    </tr>\n",
       "    <tr>\n",
       "      <th>crit1</th>\n",
       "      <td>85522.0</td>\n",
       "      <td>9.972756e-01</td>\n",
       "      <td>5.212537e-02</td>\n",
       "      <td>0.000000e+00</td>\n",
       "      <td>1.000000e+00</td>\n",
       "      <td>1.000000e+00</td>\n",
       "      <td>1.000000e+00</td>\n",
       "      <td>1.000000e+00</td>\n",
       "    </tr>\n",
       "    <tr>\n",
       "      <th>crit2</th>\n",
       "      <td>85522.0</td>\n",
       "      <td>9.918968e-01</td>\n",
       "      <td>8.965272e-02</td>\n",
       "      <td>0.000000e+00</td>\n",
       "      <td>1.000000e+00</td>\n",
       "      <td>1.000000e+00</td>\n",
       "      <td>1.000000e+00</td>\n",
       "      <td>1.000000e+00</td>\n",
       "    </tr>\n",
       "    <tr>\n",
       "      <th>crit3</th>\n",
       "      <td>85522.0</td>\n",
       "      <td>8.402984e-01</td>\n",
       "      <td>3.663312e-01</td>\n",
       "      <td>0.000000e+00</td>\n",
       "      <td>1.000000e+00</td>\n",
       "      <td>1.000000e+00</td>\n",
       "      <td>1.000000e+00</td>\n",
       "      <td>1.000000e+00</td>\n",
       "    </tr>\n",
       "    <tr>\n",
       "      <th>doubtterr</th>\n",
       "      <td>85522.0</td>\n",
       "      <td>-1.237810e-01</td>\n",
       "      <td>1.714990e+00</td>\n",
       "      <td>-9.000000e+00</td>\n",
       "      <td>0.000000e+00</td>\n",
       "      <td>0.000000e+00</td>\n",
       "      <td>0.000000e+00</td>\n",
       "      <td>1.000000e+00</td>\n",
       "    </tr>\n",
       "    <tr>\n",
       "      <th>multiple</th>\n",
       "      <td>85522.0</td>\n",
       "      <td>1.832160e-01</td>\n",
       "      <td>3.868458e-01</td>\n",
       "      <td>0.000000e+00</td>\n",
       "      <td>0.000000e+00</td>\n",
       "      <td>0.000000e+00</td>\n",
       "      <td>0.000000e+00</td>\n",
       "      <td>1.000000e+00</td>\n",
       "    </tr>\n",
       "    <tr>\n",
       "      <th>success</th>\n",
       "      <td>85522.0</td>\n",
       "      <td>9.155656e-01</td>\n",
       "      <td>2.780398e-01</td>\n",
       "      <td>0.000000e+00</td>\n",
       "      <td>1.000000e+00</td>\n",
       "      <td>1.000000e+00</td>\n",
       "      <td>1.000000e+00</td>\n",
       "      <td>1.000000e+00</td>\n",
       "    </tr>\n",
       "    <tr>\n",
       "      <th>suicide</th>\n",
       "      <td>85522.0</td>\n",
       "      <td>4.049250e-02</td>\n",
       "      <td>1.971124e-01</td>\n",
       "      <td>0.000000e+00</td>\n",
       "      <td>0.000000e+00</td>\n",
       "      <td>0.000000e+00</td>\n",
       "      <td>0.000000e+00</td>\n",
       "      <td>1.000000e+00</td>\n",
       "    </tr>\n",
       "    <tr>\n",
       "      <th>attacktype1</th>\n",
       "      <td>85522.0</td>\n",
       "      <td>3.351956e+00</td>\n",
       "      <td>2.072397e+00</td>\n",
       "      <td>1.000000e+00</td>\n",
       "      <td>2.000000e+00</td>\n",
       "      <td>3.000000e+00</td>\n",
       "      <td>3.000000e+00</td>\n",
       "      <td>9.000000e+00</td>\n",
       "    </tr>\n",
       "    <tr>\n",
       "      <th>targtype1</th>\n",
       "      <td>85522.0</td>\n",
       "      <td>8.129943e+00</td>\n",
       "      <td>6.581807e+00</td>\n",
       "      <td>1.000000e+00</td>\n",
       "      <td>3.000000e+00</td>\n",
       "      <td>4.000000e+00</td>\n",
       "      <td>1.400000e+01</td>\n",
       "      <td>2.200000e+01</td>\n",
       "    </tr>\n",
       "    <tr>\n",
       "      <th>targsubtype1</th>\n",
       "      <td>81933.0</td>\n",
       "      <td>4.627258e+01</td>\n",
       "      <td>3.084958e+01</td>\n",
       "      <td>1.000000e+00</td>\n",
       "      <td>2.200000e+01</td>\n",
       "      <td>3.400000e+01</td>\n",
       "      <td>7.400000e+01</td>\n",
       "      <td>1.110000e+02</td>\n",
       "    </tr>\n",
       "    <tr>\n",
       "      <th>natlty1</th>\n",
       "      <td>85015.0</td>\n",
       "      <td>1.299267e+02</td>\n",
       "      <td>9.006483e+01</td>\n",
       "      <td>4.000000e+00</td>\n",
       "      <td>6.100000e+01</td>\n",
       "      <td>1.410000e+02</td>\n",
       "      <td>1.850000e+02</td>\n",
       "      <td>1.004000e+03</td>\n",
       "    </tr>\n",
       "    <tr>\n",
       "      <th>guncertain1</th>\n",
       "      <td>85148.0</td>\n",
       "      <td>1.565157e-01</td>\n",
       "      <td>3.633457e-01</td>\n",
       "      <td>0.000000e+00</td>\n",
       "      <td>0.000000e+00</td>\n",
       "      <td>0.000000e+00</td>\n",
       "      <td>0.000000e+00</td>\n",
       "      <td>1.000000e+00</td>\n",
       "    </tr>\n",
       "    <tr>\n",
       "      <th>individual</th>\n",
       "      <td>85522.0</td>\n",
       "      <td>3.215547e-03</td>\n",
       "      <td>5.661488e-02</td>\n",
       "      <td>0.000000e+00</td>\n",
       "      <td>0.000000e+00</td>\n",
       "      <td>0.000000e+00</td>\n",
       "      <td>0.000000e+00</td>\n",
       "      <td>1.000000e+00</td>\n",
       "    </tr>\n",
       "    <tr>\n",
       "      <th>nperps</th>\n",
       "      <td>46395.0</td>\n",
       "      <td>-5.038011e+01</td>\n",
       "      <td>3.268140e+02</td>\n",
       "      <td>-9.900000e+01</td>\n",
       "      <td>-9.900000e+01</td>\n",
       "      <td>-9.900000e+01</td>\n",
       "      <td>1.000000e+00</td>\n",
       "      <td>2.500000e+04</td>\n",
       "    </tr>\n",
       "    <tr>\n",
       "      <th>nperpcap</th>\n",
       "      <td>45106.0</td>\n",
       "      <td>-2.155855e+00</td>\n",
       "      <td>1.517580e+01</td>\n",
       "      <td>-9.900000e+01</td>\n",
       "      <td>0.000000e+00</td>\n",
       "      <td>0.000000e+00</td>\n",
       "      <td>0.000000e+00</td>\n",
       "      <td>4.060000e+02</td>\n",
       "    </tr>\n",
       "    <tr>\n",
       "      <th>claimed</th>\n",
       "      <td>46319.0</td>\n",
       "      <td>2.076254e-01</td>\n",
       "      <td>1.116612e+00</td>\n",
       "      <td>-9.000000e+00</td>\n",
       "      <td>0.000000e+00</td>\n",
       "      <td>0.000000e+00</td>\n",
       "      <td>1.000000e+00</td>\n",
       "      <td>1.000000e+00</td>\n",
       "    </tr>\n",
       "    <tr>\n",
       "      <th>weaptype1</th>\n",
       "      <td>85522.0</td>\n",
       "      <td>6.577793e+00</td>\n",
       "      <td>2.395992e+00</td>\n",
       "      <td>1.000000e+00</td>\n",
       "      <td>5.000000e+00</td>\n",
       "      <td>6.000000e+00</td>\n",
       "      <td>6.000000e+00</td>\n",
       "      <td>1.300000e+01</td>\n",
       "    </tr>\n",
       "    <tr>\n",
       "      <th>weapsubtype1</th>\n",
       "      <td>73630.0</td>\n",
       "      <td>1.020475e+01</td>\n",
       "      <td>6.469663e+00</td>\n",
       "      <td>1.000000e+00</td>\n",
       "      <td>5.000000e+00</td>\n",
       "      <td>1.100000e+01</td>\n",
       "      <td>1.600000e+01</td>\n",
       "      <td>3.000000e+01</td>\n",
       "    </tr>\n",
       "    <tr>\n",
       "      <th>nkill</th>\n",
       "      <td>79377.0</td>\n",
       "      <td>3.258312e+00</td>\n",
       "      <td>1.500309e+01</td>\n",
       "      <td>0.000000e+00</td>\n",
       "      <td>0.000000e+00</td>\n",
       "      <td>1.000000e+00</td>\n",
       "      <td>2.000000e+00</td>\n",
       "      <td>1.500000e+03</td>\n",
       "    </tr>\n",
       "    <tr>\n",
       "      <th>nkillus</th>\n",
       "      <td>47429.0</td>\n",
       "      <td>9.234856e-02</td>\n",
       "      <td>8.873712e+00</td>\n",
       "      <td>0.000000e+00</td>\n",
       "      <td>0.000000e+00</td>\n",
       "      <td>0.000000e+00</td>\n",
       "      <td>0.000000e+00</td>\n",
       "      <td>1.358000e+03</td>\n",
       "    </tr>\n",
       "    <tr>\n",
       "      <th>nkillter</th>\n",
       "      <td>45917.0</td>\n",
       "      <td>9.080515e-01</td>\n",
       "      <td>6.118440e+00</td>\n",
       "      <td>0.000000e+00</td>\n",
       "      <td>0.000000e+00</td>\n",
       "      <td>0.000000e+00</td>\n",
       "      <td>0.000000e+00</td>\n",
       "      <td>5.000000e+02</td>\n",
       "    </tr>\n",
       "    <tr>\n",
       "      <th>nwound</th>\n",
       "      <td>75101.0</td>\n",
       "      <td>3.481285e+00</td>\n",
       "      <td>4.387025e+01</td>\n",
       "      <td>0.000000e+00</td>\n",
       "      <td>0.000000e+00</td>\n",
       "      <td>0.000000e+00</td>\n",
       "      <td>2.000000e+00</td>\n",
       "      <td>7.366000e+03</td>\n",
       "    </tr>\n",
       "    <tr>\n",
       "      <th>nwoundus</th>\n",
       "      <td>47291.0</td>\n",
       "      <td>4.772578e-02</td>\n",
       "      <td>3.153731e+00</td>\n",
       "      <td>0.000000e+00</td>\n",
       "      <td>0.000000e+00</td>\n",
       "      <td>0.000000e+00</td>\n",
       "      <td>0.000000e+00</td>\n",
       "      <td>6.500000e+02</td>\n",
       "    </tr>\n",
       "    <tr>\n",
       "      <th>nwoundte</th>\n",
       "      <td>44386.0</td>\n",
       "      <td>1.932817e-01</td>\n",
       "      <td>2.144487e+00</td>\n",
       "      <td>0.000000e+00</td>\n",
       "      <td>0.000000e+00</td>\n",
       "      <td>0.000000e+00</td>\n",
       "      <td>0.000000e+00</td>\n",
       "      <td>2.000000e+02</td>\n",
       "    </tr>\n",
       "    <tr>\n",
       "      <th>property</th>\n",
       "      <td>85522.0</td>\n",
       "      <td>-3.148780e-01</td>\n",
       "      <td>2.892208e+00</td>\n",
       "      <td>-9.000000e+00</td>\n",
       "      <td>0.000000e+00</td>\n",
       "      <td>1.000000e+00</td>\n",
       "      <td>1.000000e+00</td>\n",
       "      <td>1.000000e+00</td>\n",
       "    </tr>\n",
       "    <tr>\n",
       "      <th>propextent</th>\n",
       "      <td>30623.0</td>\n",
       "      <td>3.329099e+00</td>\n",
       "      <td>5.053221e-01</td>\n",
       "      <td>1.000000e+00</td>\n",
       "      <td>3.000000e+00</td>\n",
       "      <td>3.000000e+00</td>\n",
       "      <td>4.000000e+00</td>\n",
       "      <td>4.000000e+00</td>\n",
       "    </tr>\n",
       "    <tr>\n",
       "      <th>propvalue</th>\n",
       "      <td>18966.0</td>\n",
       "      <td>3.526550e+05</td>\n",
       "      <td>2.185659e+07</td>\n",
       "      <td>-9.900000e+01</td>\n",
       "      <td>-9.900000e+01</td>\n",
       "      <td>-9.900000e+01</td>\n",
       "      <td>1.500000e+04</td>\n",
       "      <td>2.700000e+09</td>\n",
       "    </tr>\n",
       "    <tr>\n",
       "      <th>ishostkid</th>\n",
       "      <td>85404.0</td>\n",
       "      <td>7.314646e-02</td>\n",
       "      <td>5.166916e-01</td>\n",
       "      <td>-9.000000e+00</td>\n",
       "      <td>0.000000e+00</td>\n",
       "      <td>0.000000e+00</td>\n",
       "      <td>0.000000e+00</td>\n",
       "      <td>1.000000e+00</td>\n",
       "    </tr>\n",
       "    <tr>\n",
       "      <th>ransom</th>\n",
       "      <td>46175.0</td>\n",
       "      <td>-1.330590e-01</td>\n",
       "      <td>1.153510e+00</td>\n",
       "      <td>-9.000000e+00</td>\n",
       "      <td>0.000000e+00</td>\n",
       "      <td>0.000000e+00</td>\n",
       "      <td>0.000000e+00</td>\n",
       "      <td>1.000000e+00</td>\n",
       "    </tr>\n",
       "    <tr>\n",
       "      <th>INT_LOG</th>\n",
       "      <td>85522.0</td>\n",
       "      <td>-8.128084e-01</td>\n",
       "      <td>2.708298e+00</td>\n",
       "      <td>-9.000000e+00</td>\n",
       "      <td>0.000000e+00</td>\n",
       "      <td>0.000000e+00</td>\n",
       "      <td>0.000000e+00</td>\n",
       "      <td>1.000000e+00</td>\n",
       "    </tr>\n",
       "    <tr>\n",
       "      <th>INT_IDEO</th>\n",
       "      <td>85522.0</td>\n",
       "      <td>-6.753818e-01</td>\n",
       "      <td>2.790955e+00</td>\n",
       "      <td>-9.000000e+00</td>\n",
       "      <td>0.000000e+00</td>\n",
       "      <td>0.000000e+00</td>\n",
       "      <td>0.000000e+00</td>\n",
       "      <td>1.000000e+00</td>\n",
       "    </tr>\n",
       "    <tr>\n",
       "      <th>INT_MISC</th>\n",
       "      <td>85522.0</td>\n",
       "      <td>1.079021e-01</td>\n",
       "      <td>5.295523e-01</td>\n",
       "      <td>-9.000000e+00</td>\n",
       "      <td>0.000000e+00</td>\n",
       "      <td>0.000000e+00</td>\n",
       "      <td>0.000000e+00</td>\n",
       "      <td>1.000000e+00</td>\n",
       "    </tr>\n",
       "    <tr>\n",
       "      <th>INT_ANY</th>\n",
       "      <td>85522.0</td>\n",
       "      <td>-5.184046e-01</td>\n",
       "      <td>2.702886e+00</td>\n",
       "      <td>-9.000000e+00</td>\n",
       "      <td>0.000000e+00</td>\n",
       "      <td>0.000000e+00</td>\n",
       "      <td>1.000000e+00</td>\n",
       "      <td>1.000000e+00</td>\n",
       "    </tr>\n",
       "  </tbody>\n",
       "</table>\n",
       "</div>"
      ],
      "text/plain": [
       "                count          mean           std           min           25%  \\\n",
       "eventid       85522.0  1.999853e+11  1.372294e+09  1.970000e+11  1.988033e+11   \n",
       "iyear         85522.0  1.999787e+03  1.372222e+01  1.970000e+03  1.988000e+03   \n",
       "imonth        85522.0  6.475994e+00  3.378995e+00  0.000000e+00  4.000000e+00   \n",
       "iday          85522.0  1.541431e+01  8.760658e+00  0.000000e+00  8.000000e+00   \n",
       "extended      85522.0  5.536587e-02  2.286943e-01  0.000000e+00  0.000000e+00   \n",
       "country       85522.0  1.411322e+02  1.276666e+02  4.000000e+00  6.100000e+01   \n",
       "region        85522.0  6.719195e+00  3.061465e+00  1.000000e+00  3.000000e+00   \n",
       "latitude      82437.0  2.137030e+01  1.962933e+01 -5.315461e+01  7.689167e+00   \n",
       "longitude     82437.0  1.746738e+01  6.306569e+01 -1.578190e+02 -7.319996e+00   \n",
       "specificity   85520.0  1.542703e+00  1.087890e+00  1.000000e+00  1.000000e+00   \n",
       "vicinity      85522.0  7.145530e-02  2.956310e-01 -9.000000e+00  0.000000e+00   \n",
       "crit1         85522.0  9.972756e-01  5.212537e-02  0.000000e+00  1.000000e+00   \n",
       "crit2         85522.0  9.918968e-01  8.965272e-02  0.000000e+00  1.000000e+00   \n",
       "crit3         85522.0  8.402984e-01  3.663312e-01  0.000000e+00  1.000000e+00   \n",
       "doubtterr     85522.0 -1.237810e-01  1.714990e+00 -9.000000e+00  0.000000e+00   \n",
       "multiple      85522.0  1.832160e-01  3.868458e-01  0.000000e+00  0.000000e+00   \n",
       "success       85522.0  9.155656e-01  2.780398e-01  0.000000e+00  1.000000e+00   \n",
       "suicide       85522.0  4.049250e-02  1.971124e-01  0.000000e+00  0.000000e+00   \n",
       "attacktype1   85522.0  3.351956e+00  2.072397e+00  1.000000e+00  2.000000e+00   \n",
       "targtype1     85522.0  8.129943e+00  6.581807e+00  1.000000e+00  3.000000e+00   \n",
       "targsubtype1  81933.0  4.627258e+01  3.084958e+01  1.000000e+00  2.200000e+01   \n",
       "natlty1       85015.0  1.299267e+02  9.006483e+01  4.000000e+00  6.100000e+01   \n",
       "guncertain1   85148.0  1.565157e-01  3.633457e-01  0.000000e+00  0.000000e+00   \n",
       "individual    85522.0  3.215547e-03  5.661488e-02  0.000000e+00  0.000000e+00   \n",
       "nperps        46395.0 -5.038011e+01  3.268140e+02 -9.900000e+01 -9.900000e+01   \n",
       "nperpcap      45106.0 -2.155855e+00  1.517580e+01 -9.900000e+01  0.000000e+00   \n",
       "claimed       46319.0  2.076254e-01  1.116612e+00 -9.000000e+00  0.000000e+00   \n",
       "weaptype1     85522.0  6.577793e+00  2.395992e+00  1.000000e+00  5.000000e+00   \n",
       "weapsubtype1  73630.0  1.020475e+01  6.469663e+00  1.000000e+00  5.000000e+00   \n",
       "nkill         79377.0  3.258312e+00  1.500309e+01  0.000000e+00  0.000000e+00   \n",
       "nkillus       47429.0  9.234856e-02  8.873712e+00  0.000000e+00  0.000000e+00   \n",
       "nkillter      45917.0  9.080515e-01  6.118440e+00  0.000000e+00  0.000000e+00   \n",
       "nwound        75101.0  3.481285e+00  4.387025e+01  0.000000e+00  0.000000e+00   \n",
       "nwoundus      47291.0  4.772578e-02  3.153731e+00  0.000000e+00  0.000000e+00   \n",
       "nwoundte      44386.0  1.932817e-01  2.144487e+00  0.000000e+00  0.000000e+00   \n",
       "property      85522.0 -3.148780e-01  2.892208e+00 -9.000000e+00  0.000000e+00   \n",
       "propextent    30623.0  3.329099e+00  5.053221e-01  1.000000e+00  3.000000e+00   \n",
       "propvalue     18966.0  3.526550e+05  2.185659e+07 -9.900000e+01 -9.900000e+01   \n",
       "ishostkid     85404.0  7.314646e-02  5.166916e-01 -9.000000e+00  0.000000e+00   \n",
       "ransom        46175.0 -1.330590e-01  1.153510e+00 -9.000000e+00  0.000000e+00   \n",
       "INT_LOG       85522.0 -8.128084e-01  2.708298e+00 -9.000000e+00  0.000000e+00   \n",
       "INT_IDEO      85522.0 -6.753818e-01  2.790955e+00 -9.000000e+00  0.000000e+00   \n",
       "INT_MISC      85522.0  1.079021e-01  5.295523e-01 -9.000000e+00  0.000000e+00   \n",
       "INT_ANY       85522.0 -5.184046e-01  2.702886e+00 -9.000000e+00  0.000000e+00   \n",
       "\n",
       "                       50%           75%           max  \n",
       "eventid       2.001081e+11  2.014041e+11  2.017013e+11  \n",
       "iyear         2.001000e+03  2.014000e+03  2.016000e+03  \n",
       "imonth        6.000000e+00  9.000000e+00  1.200000e+01  \n",
       "iday          1.500000e+01  2.300000e+01  3.100000e+01  \n",
       "extended      0.000000e+00  0.000000e+00  1.000000e+00  \n",
       "country       1.380000e+02  1.820000e+02  1.004000e+03  \n",
       "region        6.000000e+00  1.000000e+01  1.200000e+01  \n",
       "latitude      2.509607e+01  3.499591e+01  6.040393e+01  \n",
       "longitude     3.510225e+01  6.736875e+01  1.793667e+02  \n",
       "specificity   1.000000e+00  1.000000e+00  5.000000e+00  \n",
       "vicinity      0.000000e+00  0.000000e+00  1.000000e+00  \n",
       "crit1         1.000000e+00  1.000000e+00  1.000000e+00  \n",
       "crit2         1.000000e+00  1.000000e+00  1.000000e+00  \n",
       "crit3         1.000000e+00  1.000000e+00  1.000000e+00  \n",
       "doubtterr     0.000000e+00  0.000000e+00  1.000000e+00  \n",
       "multiple      0.000000e+00  0.000000e+00  1.000000e+00  \n",
       "success       1.000000e+00  1.000000e+00  1.000000e+00  \n",
       "suicide       0.000000e+00  0.000000e+00  1.000000e+00  \n",
       "attacktype1   3.000000e+00  3.000000e+00  9.000000e+00  \n",
       "targtype1     4.000000e+00  1.400000e+01  2.200000e+01  \n",
       "targsubtype1  3.400000e+01  7.400000e+01  1.110000e+02  \n",
       "natlty1       1.410000e+02  1.850000e+02  1.004000e+03  \n",
       "guncertain1   0.000000e+00  0.000000e+00  1.000000e+00  \n",
       "individual    0.000000e+00  0.000000e+00  1.000000e+00  \n",
       "nperps       -9.900000e+01  1.000000e+00  2.500000e+04  \n",
       "nperpcap      0.000000e+00  0.000000e+00  4.060000e+02  \n",
       "claimed       0.000000e+00  1.000000e+00  1.000000e+00  \n",
       "weaptype1     6.000000e+00  6.000000e+00  1.300000e+01  \n",
       "weapsubtype1  1.100000e+01  1.600000e+01  3.000000e+01  \n",
       "nkill         1.000000e+00  2.000000e+00  1.500000e+03  \n",
       "nkillus       0.000000e+00  0.000000e+00  1.358000e+03  \n",
       "nkillter      0.000000e+00  0.000000e+00  5.000000e+02  \n",
       "nwound        0.000000e+00  2.000000e+00  7.366000e+03  \n",
       "nwoundus      0.000000e+00  0.000000e+00  6.500000e+02  \n",
       "nwoundte      0.000000e+00  0.000000e+00  2.000000e+02  \n",
       "property      1.000000e+00  1.000000e+00  1.000000e+00  \n",
       "propextent    3.000000e+00  4.000000e+00  4.000000e+00  \n",
       "propvalue    -9.900000e+01  1.500000e+04  2.700000e+09  \n",
       "ishostkid     0.000000e+00  0.000000e+00  1.000000e+00  \n",
       "ransom        0.000000e+00  0.000000e+00  1.000000e+00  \n",
       "INT_LOG       0.000000e+00  0.000000e+00  1.000000e+00  \n",
       "INT_IDEO      0.000000e+00  0.000000e+00  1.000000e+00  \n",
       "INT_MISC      0.000000e+00  0.000000e+00  1.000000e+00  \n",
       "INT_ANY       0.000000e+00  1.000000e+00  1.000000e+00  "
      ]
     },
     "execution_count": 12,
     "metadata": {},
     "output_type": "execute_result"
    }
   ],
   "source": [
    "filtereddata.describe().transpose()"
   ]
  },
  {
   "cell_type": "markdown",
   "metadata": {},
   "source": [
    "We are going to check the kind of data that our data cointains. Looking at the table above we can emmidiately tell that we have missing values on some of the attributes. We need to take care of those missing values by replacing them by the median value so that we can be able to perform some computation without running into erros. This choice is largely motivated by the following reasons simplicity and performance. \n",
    "The maximum number of counts that we can see from the above table is 85522, so we are going to search for all those attributes with less count so that we can remove them with 0."
   ]
  },
  {
   "cell_type": "code",
   "execution_count": 13,
   "metadata": {},
   "outputs": [
    {
     "data": {
      "text/plain": [
       "eventid               int64\n",
       "iyear                 int64\n",
       "imonth                int64\n",
       "iday                  int64\n",
       "extended              int64\n",
       "country               int64\n",
       "country_txt          object\n",
       "region                int64\n",
       "region_txt           object\n",
       "provstate            object\n",
       "city                 object\n",
       "latitude            float64\n",
       "longitude           float64\n",
       "specificity         float64\n",
       "vicinity              int64\n",
       "location             object\n",
       "summary              object\n",
       "crit1                 int64\n",
       "crit2                 int64\n",
       "crit3                 int64\n",
       "doubtterr             int64\n",
       "multiple              int64\n",
       "success               int64\n",
       "suicide               int64\n",
       "attacktype1           int64\n",
       "attacktype1_txt      object\n",
       "targtype1             int64\n",
       "targtype1_txt        object\n",
       "targsubtype1        float64\n",
       "targsubtype1_txt     object\n",
       "                     ...   \n",
       "individual            int64\n",
       "nperps              float64\n",
       "nperpcap            float64\n",
       "claimed             float64\n",
       "weaptype1             int64\n",
       "weaptype1_txt        object\n",
       "weapsubtype1        float64\n",
       "weapsubtype1_txt     object\n",
       "weapdetail           object\n",
       "nkill               float64\n",
       "nkillus             float64\n",
       "nkillter            float64\n",
       "nwound              float64\n",
       "nwoundus            float64\n",
       "nwoundte            float64\n",
       "property              int64\n",
       "propextent          float64\n",
       "propextent_txt       object\n",
       "propvalue           float64\n",
       "propcomment          object\n",
       "ishostkid           float64\n",
       "ransom              float64\n",
       "scite1               object\n",
       "scite2               object\n",
       "scite3               object\n",
       "dbsource             object\n",
       "INT_LOG               int64\n",
       "INT_IDEO              int64\n",
       "INT_MISC              int64\n",
       "INT_ANY               int64\n",
       "Length: 67, dtype: object"
      ]
     },
     "execution_count": 13,
     "metadata": {},
     "output_type": "execute_result"
    }
   ],
   "source": [
    "filtereddata.dtypes"
   ]
  },
  {
   "cell_type": "markdown",
   "metadata": {},
   "source": [
    "Looking at the above we can note that we have different types of data sets, we have integers, float and strings which are reffered to as pandas object. So we are going to remove all the data that cointains strings in it. In other words we going to select only numerical data."
   ]
  },
  {
   "cell_type": "code",
   "execution_count": 14,
   "metadata": {},
   "outputs": [],
   "source": [
    "ft = []\n",
    "for feature in filtereddata.columns:\n",
    "    if np.dtype(filtereddata[feature]) == 'float64' and 'int64':\n",
    "        ft.append(str(feature))\n",
    "filtereddata = filtereddata[ft]"
   ]
  },
  {
   "cell_type": "code",
   "execution_count": 15,
   "metadata": {},
   "outputs": [
    {
     "name": "stdout",
     "output_type": "stream",
     "text": [
      "==========================================================================================================\n",
      "Number of traning examples 85522  and number of features is  20\n",
      "==========================================================================================================\n"
     ]
    }
   ],
   "source": [
    "print '=========================================================================================================='\n",
    "print 'Number of traning examples',filtereddata.shape[0],' and number of features is ',filtereddata.shape[1]\n",
    "print '=========================================================================================================='"
   ]
  },
  {
   "cell_type": "markdown",
   "metadata": {},
   "source": [
    "Below is number of null values per feature, we are going to replace the null values by the median value instead of the mean. The reason for chosing is motivated by the mean is sensitive to outliers."
   ]
  },
  {
   "cell_type": "code",
   "execution_count": 16,
   "metadata": {},
   "outputs": [
    {
     "data": {
      "text/plain": [
       "latitude         3085\n",
       "longitude        3085\n",
       "specificity         2\n",
       "targsubtype1     3589\n",
       "natlty1           507\n",
       "guncertain1       374\n",
       "nperps          39127\n",
       "nperpcap        40416\n",
       "claimed         39203\n",
       "weapsubtype1    11892\n",
       "nkill            6145\n",
       "nkillus         38093\n",
       "nkillter        39605\n",
       "nwound          10421\n",
       "nwoundus        38231\n",
       "nwoundte        41136\n",
       "propextent      54899\n",
       "propvalue       66556\n",
       "ishostkid         118\n",
       "ransom          39347\n",
       "dtype: int64"
      ]
     },
     "execution_count": 16,
     "metadata": {},
     "output_type": "execute_result"
    }
   ],
   "source": [
    "filtereddata.isnull().sum()"
   ]
  },
  {
   "cell_type": "code",
   "execution_count": 17,
   "metadata": {},
   "outputs": [],
   "source": [
    "# Removing null data by a median value\n",
    "clean_data = filtereddata.fillna(data.median())"
   ]
  },
  {
   "cell_type": "code",
   "execution_count": 18,
   "metadata": {},
   "outputs": [
    {
     "data": {
      "text/plain": [
       "latitude        0\n",
       "longitude       0\n",
       "specificity     0\n",
       "targsubtype1    0\n",
       "natlty1         0\n",
       "guncertain1     0\n",
       "nperps          0\n",
       "nperpcap        0\n",
       "claimed         0\n",
       "weapsubtype1    0\n",
       "nkill           0\n",
       "nkillus         0\n",
       "nkillter        0\n",
       "nwound          0\n",
       "nwoundus        0\n",
       "nwoundte        0\n",
       "propextent      0\n",
       "propvalue       0\n",
       "ishostkid       0\n",
       "ransom          0\n",
       "dtype: int64"
      ]
     },
     "execution_count": 18,
     "metadata": {},
     "output_type": "execute_result"
    }
   ],
   "source": [
    "# Checking if we still have non-values in our dataset\n",
    "clean_data.isnull().sum()"
   ]
  },
  {
   "cell_type": "code",
   "execution_count": 19,
   "metadata": {},
   "outputs": [
    {
     "data": {
      "text/html": [
       "<div>\n",
       "<style scoped>\n",
       "    .dataframe tbody tr th:only-of-type {\n",
       "        vertical-align: middle;\n",
       "    }\n",
       "\n",
       "    .dataframe tbody tr th {\n",
       "        vertical-align: top;\n",
       "    }\n",
       "\n",
       "    .dataframe thead th {\n",
       "        text-align: right;\n",
       "    }\n",
       "</style>\n",
       "<table border=\"1\" class=\"dataframe\">\n",
       "  <thead>\n",
       "    <tr style=\"text-align: right;\">\n",
       "      <th></th>\n",
       "      <th>latitude</th>\n",
       "      <th>longitude</th>\n",
       "      <th>specificity</th>\n",
       "      <th>targsubtype1</th>\n",
       "      <th>natlty1</th>\n",
       "      <th>guncertain1</th>\n",
       "      <th>nperps</th>\n",
       "      <th>nperpcap</th>\n",
       "      <th>claimed</th>\n",
       "      <th>weapsubtype1</th>\n",
       "      <th>nkill</th>\n",
       "      <th>nkillus</th>\n",
       "      <th>nkillter</th>\n",
       "      <th>nwound</th>\n",
       "      <th>nwoundus</th>\n",
       "      <th>nwoundte</th>\n",
       "      <th>propextent</th>\n",
       "      <th>propvalue</th>\n",
       "      <th>ishostkid</th>\n",
       "      <th>ransom</th>\n",
       "    </tr>\n",
       "  </thead>\n",
       "  <tbody>\n",
       "    <tr>\n",
       "      <th>1</th>\n",
       "      <td>19.432608</td>\n",
       "      <td>-99.133207</td>\n",
       "      <td>1.0</td>\n",
       "      <td>45.0</td>\n",
       "      <td>21.0</td>\n",
       "      <td>0.0</td>\n",
       "      <td>7.0</td>\n",
       "      <td>0.0</td>\n",
       "      <td>0.0</td>\n",
       "      <td>12.0</td>\n",
       "      <td>0.0</td>\n",
       "      <td>0.0</td>\n",
       "      <td>0.0</td>\n",
       "      <td>0.0</td>\n",
       "      <td>0.0</td>\n",
       "      <td>0.0</td>\n",
       "      <td>3.0</td>\n",
       "      <td>-99.0</td>\n",
       "      <td>1.0</td>\n",
       "      <td>1.0</td>\n",
       "    </tr>\n",
       "    <tr>\n",
       "      <th>5</th>\n",
       "      <td>37.005105</td>\n",
       "      <td>-89.176269</td>\n",
       "      <td>1.0</td>\n",
       "      <td>22.0</td>\n",
       "      <td>217.0</td>\n",
       "      <td>0.0</td>\n",
       "      <td>-99.0</td>\n",
       "      <td>-99.0</td>\n",
       "      <td>0.0</td>\n",
       "      <td>5.0</td>\n",
       "      <td>0.0</td>\n",
       "      <td>0.0</td>\n",
       "      <td>0.0</td>\n",
       "      <td>0.0</td>\n",
       "      <td>0.0</td>\n",
       "      <td>0.0</td>\n",
       "      <td>3.0</td>\n",
       "      <td>-99.0</td>\n",
       "      <td>0.0</td>\n",
       "      <td>0.0</td>\n",
       "    </tr>\n",
       "    <tr>\n",
       "      <th>6</th>\n",
       "      <td>-34.891151</td>\n",
       "      <td>-56.187214</td>\n",
       "      <td>1.0</td>\n",
       "      <td>25.0</td>\n",
       "      <td>218.0</td>\n",
       "      <td>0.0</td>\n",
       "      <td>3.0</td>\n",
       "      <td>0.0</td>\n",
       "      <td>0.0</td>\n",
       "      <td>2.0</td>\n",
       "      <td>0.0</td>\n",
       "      <td>0.0</td>\n",
       "      <td>0.0</td>\n",
       "      <td>0.0</td>\n",
       "      <td>0.0</td>\n",
       "      <td>0.0</td>\n",
       "      <td>3.0</td>\n",
       "      <td>-99.0</td>\n",
       "      <td>0.0</td>\n",
       "      <td>0.0</td>\n",
       "    </tr>\n",
       "    <tr>\n",
       "      <th>10</th>\n",
       "      <td>43.468500</td>\n",
       "      <td>-89.744299</td>\n",
       "      <td>1.0</td>\n",
       "      <td>27.0</td>\n",
       "      <td>217.0</td>\n",
       "      <td>0.0</td>\n",
       "      <td>-99.0</td>\n",
       "      <td>0.0</td>\n",
       "      <td>0.0</td>\n",
       "      <td>16.0</td>\n",
       "      <td>0.0</td>\n",
       "      <td>0.0</td>\n",
       "      <td>0.0</td>\n",
       "      <td>0.0</td>\n",
       "      <td>0.0</td>\n",
       "      <td>0.0</td>\n",
       "      <td>3.0</td>\n",
       "      <td>0.0</td>\n",
       "      <td>0.0</td>\n",
       "      <td>0.0</td>\n",
       "    </tr>\n",
       "    <tr>\n",
       "      <th>11</th>\n",
       "      <td>39.740010</td>\n",
       "      <td>-104.992259</td>\n",
       "      <td>1.0</td>\n",
       "      <td>28.0</td>\n",
       "      <td>217.0</td>\n",
       "      <td>0.0</td>\n",
       "      <td>-99.0</td>\n",
       "      <td>-99.0</td>\n",
       "      <td>0.0</td>\n",
       "      <td>19.0</td>\n",
       "      <td>0.0</td>\n",
       "      <td>0.0</td>\n",
       "      <td>0.0</td>\n",
       "      <td>0.0</td>\n",
       "      <td>0.0</td>\n",
       "      <td>0.0</td>\n",
       "      <td>3.0</td>\n",
       "      <td>305.0</td>\n",
       "      <td>0.0</td>\n",
       "      <td>0.0</td>\n",
       "    </tr>\n",
       "  </tbody>\n",
       "</table>\n",
       "</div>"
      ],
      "text/plain": [
       "     latitude   longitude  specificity  targsubtype1  natlty1  guncertain1  \\\n",
       "1   19.432608  -99.133207          1.0          45.0     21.0          0.0   \n",
       "5   37.005105  -89.176269          1.0          22.0    217.0          0.0   \n",
       "6  -34.891151  -56.187214          1.0          25.0    218.0          0.0   \n",
       "10  43.468500  -89.744299          1.0          27.0    217.0          0.0   \n",
       "11  39.740010 -104.992259          1.0          28.0    217.0          0.0   \n",
       "\n",
       "    nperps  nperpcap  claimed  weapsubtype1  nkill  nkillus  nkillter  nwound  \\\n",
       "1      7.0       0.0      0.0          12.0    0.0      0.0       0.0     0.0   \n",
       "5    -99.0     -99.0      0.0           5.0    0.0      0.0       0.0     0.0   \n",
       "6      3.0       0.0      0.0           2.0    0.0      0.0       0.0     0.0   \n",
       "10   -99.0       0.0      0.0          16.0    0.0      0.0       0.0     0.0   \n",
       "11   -99.0     -99.0      0.0          19.0    0.0      0.0       0.0     0.0   \n",
       "\n",
       "    nwoundus  nwoundte  propextent  propvalue  ishostkid  ransom  \n",
       "1        0.0       0.0         3.0      -99.0        1.0     1.0  \n",
       "5        0.0       0.0         3.0      -99.0        0.0     0.0  \n",
       "6        0.0       0.0         3.0      -99.0        0.0     0.0  \n",
       "10       0.0       0.0         3.0        0.0        0.0     0.0  \n",
       "11       0.0       0.0         3.0      305.0        0.0     0.0  "
      ]
     },
     "execution_count": 19,
     "metadata": {},
     "output_type": "execute_result"
    }
   ],
   "source": [
    "clean_data.head()"
   ]
  },
  {
   "cell_type": "code",
   "execution_count": 20,
   "metadata": {},
   "outputs": [],
   "source": [
    "# Adding the target column on the clean data\n",
    "clean_data['target'] = filt['gname']"
   ]
  },
  {
   "cell_type": "code",
   "execution_count": 21,
   "metadata": {},
   "outputs": [
    {
     "data": {
      "text/html": [
       "<div>\n",
       "<style scoped>\n",
       "    .dataframe tbody tr th:only-of-type {\n",
       "        vertical-align: middle;\n",
       "    }\n",
       "\n",
       "    .dataframe tbody tr th {\n",
       "        vertical-align: top;\n",
       "    }\n",
       "\n",
       "    .dataframe thead th {\n",
       "        text-align: right;\n",
       "    }\n",
       "</style>\n",
       "<table border=\"1\" class=\"dataframe\">\n",
       "  <thead>\n",
       "    <tr style=\"text-align: right;\">\n",
       "      <th></th>\n",
       "      <th>latitude</th>\n",
       "      <th>longitude</th>\n",
       "      <th>specificity</th>\n",
       "      <th>targsubtype1</th>\n",
       "      <th>natlty1</th>\n",
       "      <th>guncertain1</th>\n",
       "      <th>nperps</th>\n",
       "      <th>nperpcap</th>\n",
       "      <th>claimed</th>\n",
       "      <th>weapsubtype1</th>\n",
       "      <th>...</th>\n",
       "      <th>nkillus</th>\n",
       "      <th>nkillter</th>\n",
       "      <th>nwound</th>\n",
       "      <th>nwoundus</th>\n",
       "      <th>nwoundte</th>\n",
       "      <th>propextent</th>\n",
       "      <th>propvalue</th>\n",
       "      <th>ishostkid</th>\n",
       "      <th>ransom</th>\n",
       "      <th>target</th>\n",
       "    </tr>\n",
       "  </thead>\n",
       "  <tbody>\n",
       "    <tr>\n",
       "      <th>1</th>\n",
       "      <td>19.432608</td>\n",
       "      <td>-99.133207</td>\n",
       "      <td>1.0</td>\n",
       "      <td>45.0</td>\n",
       "      <td>21.0</td>\n",
       "      <td>0.0</td>\n",
       "      <td>7.0</td>\n",
       "      <td>0.0</td>\n",
       "      <td>0.0</td>\n",
       "      <td>12.0</td>\n",
       "      <td>...</td>\n",
       "      <td>0.0</td>\n",
       "      <td>0.0</td>\n",
       "      <td>0.0</td>\n",
       "      <td>0.0</td>\n",
       "      <td>0.0</td>\n",
       "      <td>3.0</td>\n",
       "      <td>-99.0</td>\n",
       "      <td>1.0</td>\n",
       "      <td>1.0</td>\n",
       "      <td>23rd of September Communist League</td>\n",
       "    </tr>\n",
       "    <tr>\n",
       "      <th>5</th>\n",
       "      <td>37.005105</td>\n",
       "      <td>-89.176269</td>\n",
       "      <td>1.0</td>\n",
       "      <td>22.0</td>\n",
       "      <td>217.0</td>\n",
       "      <td>0.0</td>\n",
       "      <td>-99.0</td>\n",
       "      <td>-99.0</td>\n",
       "      <td>0.0</td>\n",
       "      <td>5.0</td>\n",
       "      <td>...</td>\n",
       "      <td>0.0</td>\n",
       "      <td>0.0</td>\n",
       "      <td>0.0</td>\n",
       "      <td>0.0</td>\n",
       "      <td>0.0</td>\n",
       "      <td>3.0</td>\n",
       "      <td>-99.0</td>\n",
       "      <td>0.0</td>\n",
       "      <td>0.0</td>\n",
       "      <td>Black Nationalists</td>\n",
       "    </tr>\n",
       "    <tr>\n",
       "      <th>6</th>\n",
       "      <td>-34.891151</td>\n",
       "      <td>-56.187214</td>\n",
       "      <td>1.0</td>\n",
       "      <td>25.0</td>\n",
       "      <td>218.0</td>\n",
       "      <td>0.0</td>\n",
       "      <td>3.0</td>\n",
       "      <td>0.0</td>\n",
       "      <td>0.0</td>\n",
       "      <td>2.0</td>\n",
       "      <td>...</td>\n",
       "      <td>0.0</td>\n",
       "      <td>0.0</td>\n",
       "      <td>0.0</td>\n",
       "      <td>0.0</td>\n",
       "      <td>0.0</td>\n",
       "      <td>3.0</td>\n",
       "      <td>-99.0</td>\n",
       "      <td>0.0</td>\n",
       "      <td>0.0</td>\n",
       "      <td>Tupamaros (Uruguay)</td>\n",
       "    </tr>\n",
       "    <tr>\n",
       "      <th>10</th>\n",
       "      <td>43.468500</td>\n",
       "      <td>-89.744299</td>\n",
       "      <td>1.0</td>\n",
       "      <td>27.0</td>\n",
       "      <td>217.0</td>\n",
       "      <td>0.0</td>\n",
       "      <td>-99.0</td>\n",
       "      <td>0.0</td>\n",
       "      <td>0.0</td>\n",
       "      <td>16.0</td>\n",
       "      <td>...</td>\n",
       "      <td>0.0</td>\n",
       "      <td>0.0</td>\n",
       "      <td>0.0</td>\n",
       "      <td>0.0</td>\n",
       "      <td>0.0</td>\n",
       "      <td>3.0</td>\n",
       "      <td>0.0</td>\n",
       "      <td>0.0</td>\n",
       "      <td>0.0</td>\n",
       "      <td>Weather Underground, Weathermen</td>\n",
       "    </tr>\n",
       "    <tr>\n",
       "      <th>11</th>\n",
       "      <td>39.740010</td>\n",
       "      <td>-104.992259</td>\n",
       "      <td>1.0</td>\n",
       "      <td>28.0</td>\n",
       "      <td>217.0</td>\n",
       "      <td>0.0</td>\n",
       "      <td>-99.0</td>\n",
       "      <td>-99.0</td>\n",
       "      <td>0.0</td>\n",
       "      <td>19.0</td>\n",
       "      <td>...</td>\n",
       "      <td>0.0</td>\n",
       "      <td>0.0</td>\n",
       "      <td>0.0</td>\n",
       "      <td>0.0</td>\n",
       "      <td>0.0</td>\n",
       "      <td>3.0</td>\n",
       "      <td>305.0</td>\n",
       "      <td>0.0</td>\n",
       "      <td>0.0</td>\n",
       "      <td>Left-Wing Militants</td>\n",
       "    </tr>\n",
       "  </tbody>\n",
       "</table>\n",
       "<p>5 rows × 21 columns</p>\n",
       "</div>"
      ],
      "text/plain": [
       "     latitude   longitude  specificity  targsubtype1  natlty1  guncertain1  \\\n",
       "1   19.432608  -99.133207          1.0          45.0     21.0          0.0   \n",
       "5   37.005105  -89.176269          1.0          22.0    217.0          0.0   \n",
       "6  -34.891151  -56.187214          1.0          25.0    218.0          0.0   \n",
       "10  43.468500  -89.744299          1.0          27.0    217.0          0.0   \n",
       "11  39.740010 -104.992259          1.0          28.0    217.0          0.0   \n",
       "\n",
       "    nperps  nperpcap  claimed  weapsubtype1  \\\n",
       "1      7.0       0.0      0.0          12.0   \n",
       "5    -99.0     -99.0      0.0           5.0   \n",
       "6      3.0       0.0      0.0           2.0   \n",
       "10   -99.0       0.0      0.0          16.0   \n",
       "11   -99.0     -99.0      0.0          19.0   \n",
       "\n",
       "                   ...                  nkillus  nkillter  nwound  nwoundus  \\\n",
       "1                  ...                      0.0       0.0     0.0       0.0   \n",
       "5                  ...                      0.0       0.0     0.0       0.0   \n",
       "6                  ...                      0.0       0.0     0.0       0.0   \n",
       "10                 ...                      0.0       0.0     0.0       0.0   \n",
       "11                 ...                      0.0       0.0     0.0       0.0   \n",
       "\n",
       "    nwoundte  propextent  propvalue  ishostkid  ransom  \\\n",
       "1        0.0         3.0      -99.0        1.0     1.0   \n",
       "5        0.0         3.0      -99.0        0.0     0.0   \n",
       "6        0.0         3.0      -99.0        0.0     0.0   \n",
       "10       0.0         3.0        0.0        0.0     0.0   \n",
       "11       0.0         3.0      305.0        0.0     0.0   \n",
       "\n",
       "                                target  \n",
       "1   23rd of September Communist League  \n",
       "5                   Black Nationalists  \n",
       "6                  Tupamaros (Uruguay)  \n",
       "10     Weather Underground, Weathermen  \n",
       "11                 Left-Wing Militants  \n",
       "\n",
       "[5 rows x 21 columns]"
      ]
     },
     "execution_count": 21,
     "metadata": {},
     "output_type": "execute_result"
    }
   ],
   "source": [
    "clean_data.head()"
   ]
  },
  {
   "cell_type": "markdown",
   "metadata": {},
   "source": [
    "## Feature Selection"
   ]
  },
  {
   "cell_type": "markdown",
   "metadata": {},
   "source": [
    "First we are going to compute the histogram of each feature on the clean data, to check the distrubutions."
   ]
  },
  {
   "cell_type": "code",
   "execution_count": 22,
   "metadata": {},
   "outputs": [
    {
     "data": {
      "image/png": "[encoded data removed]",
      "text/plain": [
       "<Figure size 1800x1440 with 20 Axes>"
      ]
     },
     "metadata": {},
     "output_type": "display_data"
    }
   ],
   "source": [
    "clean_data.hist(figsize=(25,20),layout=(5,4))\n",
    "plt.show()"
   ]
  },
  {
   "cell_type": "markdown",
   "metadata": {},
   "source": [
    "It can be noticed that most of the features are catergorical(i.e 0 or 1). We can see a wide range of nationalities represented by the natlty1, longitude and latidude features. We can also see wide range of wepons used, and also different types of targets. "
   ]
  },
  {
   "cell_type": "markdown",
   "metadata": {},
   "source": [
    "Below we are going to look at the correlation of features."
   ]
  },
  {
   "cell_type": "code",
   "execution_count": 50,
   "metadata": {},
   "outputs": [
    {
     "data": {
      "image/png": "[encoded data removed]",
      "text/plain": [
       "<Figure size 720x504 with 2 Axes>"
      ]
     },
     "metadata": {},
     "output_type": "display_data"
    }
   ],
   "source": [
    "# Feature correletions\n",
    "plt.figure(figsize=(10,7))\n",
    "sns.heatmap(clean_data.corr())\n",
    "plt.show()"
   ]
  },
  {
   "cell_type": "markdown",
   "metadata": {},
   "source": [
    "This is a powerful plot from which a lot of inspiration about the data can be drawn. For example, we can see a possible correlation between b1 and b4 and b6 and hb6 just to note few. From this we are motivated to look at correlation matrix and find out which features are highly correleted so that we can remove one of them from the training set because is not giving any new additional information. In fact as result it may causes our algorithms to have low accuracy score on our test data. We can also note the relationship between each feature and the distribution of different classes."
   ]
  },
  {
   "cell_type": "markdown",
   "metadata": {},
   "source": [
    "#### Correleation matrix\n",
    "We are going to compute correlation between all combination of features. The correlation coefficient will tell us how two features compare. The correlation coefficient value can be an value between -1 and 1. It is 1 if the correlated parameters are directly proportional, 0 if no correlation and -1 if correlated parameters are anti-correlated. We are going to drop all features which are highly correleted. We will drop all features with correleation coefficient which is greater that 0.95. In order to choose which feature to drop between highly correleted features we are going to look at features that has multiple correlations, and drop them. Features are highly correleted are not giving the learning algorithm any additional information."
   ]
  },
  {
   "cell_type": "code",
   "execution_count": 24,
   "metadata": {},
   "outputs": [],
   "source": [
    "# Create correlation matrix\n",
    "corr_matrix =clean_data.corr().abs()\n",
    "# Select upper triangle of correlation matrix\n",
    "upper = corr_matrix.where(np.triu(np.ones(corr_matrix.shape), k=1).astype(np.bool))\n",
    "\n",
    "# Find index of feature columns with correlation greater than 0.95\n",
    "to_drop = [column for column in upper.columns if any(upper[column] > 0.95)]\n",
    "\n",
    "#Dropping all highly correleted features.\n",
    "no_corr = clean_data.drop(clean_data.columns[to_drop], axis=1)\n"
   ]
  },
  {
   "cell_type": "code",
   "execution_count": 25,
   "metadata": {},
   "outputs": [
    {
     "name": "stdout",
     "output_type": "stream",
     "text": [
      "========================================================================================================\n",
      "Shape of the low correlection data: (85522, 21)\n",
      "========================================================================================================\n"
     ]
    }
   ],
   "source": [
    "print '========================================================================================================'\n",
    "print 'Shape of the low correlection data:',no_corr.shape\n",
    "print '========================================================================================================'"
   ]
  },
  {
   "cell_type": "markdown",
   "metadata": {},
   "source": [
    "We can note that all the features are retained, this tells us that there are no features with correlation coffiecient of greater that 0.95. The correlation between features is pretty much low."
   ]
  },
  {
   "cell_type": "code",
   "execution_count": 26,
   "metadata": {},
   "outputs": [
    {
     "data": {
      "image/png": "[encoded data removed]",
      "text/plain": [
       "<Figure size 720x504 with 2 Axes>"
      ]
     },
     "metadata": {},
     "output_type": "display_data"
    }
   ],
   "source": [
    "# Feature correletions\n",
    "plt.figure(figsize=(10,7))\n",
    "sns.heatmap(no_corr.corr())\n",
    "plt.show()"
   ]
  },
  {
   "cell_type": "markdown",
   "metadata": {},
   "source": [
    "To deal with high dimentinalty of feature space, we are going to make use of Analysis of variance (ANOVA) investigates the relationship between categorical independent variables and continuous dependent variables. It can be used to test whether the means of several groups are equal. The ANOVA table tells us the proportion of variance explained by the feature or groups of features to the total variance in the data. Obviously the features that explain the largest proportion of the variance should be retained.\n"
   ]
  },
  {
   "cell_type": "code",
   "execution_count": 27,
   "metadata": {},
   "outputs": [],
   "source": [
    "#Encoding terrorist organisation with numerical values to train the data\n",
    "features = clean_data.drop('target',axis=1)\n",
    "target = clean_data[\"target\"]\n",
    "from sklearn import preprocessing\n",
    "le = preprocessing.LabelEncoder()\n",
    "le.fit(target)\n",
    "gname_encoded = le.transform(target)"
   ]
  },
  {
   "cell_type": "code",
   "execution_count": 28,
   "metadata": {},
   "outputs": [
    {
     "name": "stderr",
     "output_type": "stream",
     "text": [
      "/usr/local/lib/python2.7/dist-packages/sklearn/cross_validation.py:41: DeprecationWarning: This module was deprecated in version 0.18 in favor of the model_selection module into which all the refactored classes and functions are moved. Also note that the interface of the new CV iterators are different from that of this module. This module will be removed in 0.20.\n",
      "  \"This module will be removed in 0.20.\", DeprecationWarning)\n"
     ]
    }
   ],
   "source": [
    "#Spliting data into training and testing test to cross validate trained 80/20 split model\n",
    "from sklearn.cross_validation import train_test_split\n",
    "# Using all the features\n",
    "X_train, X_test, y_train, y_test = train_test_split(features, \n",
    "                                                    gname_encoded, \n",
    "                                                    test_size = 0.2, \n",
    "                                                    random_state = 0)"
   ]
  },
  {
   "cell_type": "code",
   "execution_count": 29,
   "metadata": {},
   "outputs": [],
   "source": [
    "from sklearn.feature_selection import SelectKBest\n",
    "from sklearn.feature_selection import f_classif\n",
    "# Create an SelectKBest object to select features with three best ANOVA F-Values\n",
    "fvalue_selector = SelectKBest(f_classif, k=3)\n",
    "# Apply the SelectKBest object to the features and target\n",
    "X_kbest = fvalue_selector.fit_transform(X_train,y_train)\n",
    "# Test data\n",
    "X_ktest = fvalue_selector.fit_transform(X_test,y_test)\n"
   ]
  },
  {
   "cell_type": "markdown",
   "metadata": {},
   "source": [
    "## Training different types of Machine Learning Algorithm"
   ]
  },
  {
   "cell_type": "markdown",
   "metadata": {},
   "source": [
    "## Random Forest Classifier\n",
    "\n",
    "A random forest is a meta estimator that fits a number of classifying decision trees on various sub-samples of the dataset and use averaging to improve the predictive accuracy and control over-fitting. The sub-sample size is always the same as the original input sample size"
   ]
  },
  {
   "cell_type": "code",
   "execution_count": 30,
   "metadata": {},
   "outputs": [
    {
     "data": {
      "text/plain": [
       "RandomForestClassifier(bootstrap=True, class_weight=None, criterion='gini',\n",
       "            max_depth=None, max_features=None, max_leaf_nodes=None,\n",
       "            min_impurity_decrease=0.0, min_impurity_split=None,\n",
       "            min_samples_leaf=1, min_samples_split=2,\n",
       "            min_weight_fraction_leaf=0.0, n_estimators=10, n_jobs=2,\n",
       "            oob_score=False, random_state=10, verbose=0, warm_start=False)"
      ]
     },
     "execution_count": 30,
     "metadata": {},
     "output_type": "execute_result"
    }
   ],
   "source": [
    "# Creating a random forest classifier\n",
    "rndm =  RandomForestClassifier(n_jobs=2,random_state=10,n_estimators=10,max_features=None)\n",
    "# Training the classifier\n",
    "rndm.fit(X_train,y_train)"
   ]
  },
  {
   "cell_type": "markdown",
   "metadata": {},
   "source": [
    "## Model evaluation"
   ]
  },
  {
   "cell_type": "code",
   "execution_count": 31,
   "metadata": {},
   "outputs": [
    {
     "name": "stdout",
     "output_type": "stream",
     "text": [
      "============================================================================================================\n",
      "Misclassification error rate: 0.239\n",
      "The accuracy is:  76.08 %\n",
      "============================================================================================================\n"
     ]
    },
    {
     "data": {
      "image/png": "[encoded data removed]",
      "text/plain": [
       "<Figure size 1440x720 with 1 Axes>"
      ]
     },
     "metadata": {},
     "output_type": "display_data"
    }
   ],
   "source": [
    "# Using the model to predict the unseen data\n",
    "pred_rndm = rndm.predict(X_test)\n",
    "# Creating confusion matrix\n",
    "#print pd.crosstab(y_test, pred_rndm, rownames=['Actual clases'], colnames=['Predicted clases'])\n",
    "\n",
    "# Computing error rate for the model\n",
    "print '============================================================================================================'\n",
    "print \"Misclassification error rate:\",round(np.mean(pred_rndm!=y_test),3)\n",
    "print 'The accuracy is: ',round(accuracy_score(y_test,pred_rndm)*100,2),'%'\n",
    "print '============================================================================================================'\n",
    "\n",
    "# Looking at feature importance using random forest classifier\n",
    "importances = rndm.feature_importances_\n",
    "std = np.std([tree.feature_importances_ for tree in rndm.estimators_],\n",
    "             axis=0)\n",
    "indices = np.argsort(importances)[::-1]\n",
    "\n",
    "# Plot the feature importances of the forest\n",
    "plt.figure(figsize=(20,10))\n",
    "plt.title(\"Feature importances\")\n",
    "plt.bar(range(X_train.shape[1]), importances[indices],\n",
    "       color=\"g\", align=\"center\")\n",
    "plt.xticks(range(X_train.shape[1]), indices,rotation=60)\n",
    "plt.xlim([-1, X_train.shape[1]])\n",
    "plt.show()\n"
   ]
  },
  {
   "cell_type": "markdown",
   "metadata": {},
   "source": [
    "### Considering only the important features\n",
    "Now we are going to retain only features where their feature importance is greater than 0.1."
   ]
  },
  {
   "cell_type": "code",
   "execution_count": 32,
   "metadata": {},
   "outputs": [],
   "source": [
    "# Getting indeces where the feature importance is greater than 0.06\n",
    "indices = np.where(importances>0.06)\n",
    "# Extracting those features whose indices are greater than 0.06\n",
    "X_trainF = np.array(X_train)[:,indices][:,0]\n",
    "X_testF = np.array(X_test)[:, indices][:,0]"
   ]
  },
  {
   "cell_type": "code",
   "execution_count": 33,
   "metadata": {},
   "outputs": [
    {
     "name": "stdout",
     "output_type": "stream",
     "text": [
      "============================================================================================================\n",
      "Misclassification error rate: 0.279\n",
      "The accuracy is:  72.148 %\n",
      "============================================================================================================\n"
     ]
    }
   ],
   "source": [
    "# Creating a random forest classifier\n",
    "rndm =  RandomForestClassifier(n_jobs=2,random_state=10,n_estimators=10)\n",
    "# Training the classifier\n",
    "rndm.fit(X_trainF,y_train)\n",
    "\n",
    "# Using the model to predict the unseen data\n",
    "pred_rndm = rndm.predict(X_testF)\n",
    "\n",
    "# Computing error rate for and the accuracy for the model\n",
    "print '============================================================================================================'\n",
    "print \"Misclassification error rate:\",round(np.mean(pred_rndm!=y_test),3)\n",
    "print 'The accuracy is: ',round(accuracy_score(y_test,pred_rndm)*100,3),'%'\n",
    "print '============================================================================================================'"
   ]
  },
  {
   "cell_type": "markdown",
   "metadata": {},
   "source": [
    "#### Looking at  Analysis of variance method and F-value"
   ]
  },
  {
   "cell_type": "code",
   "execution_count": 34,
   "metadata": {},
   "outputs": [
    {
     "name": "stdout",
     "output_type": "stream",
     "text": [
      "============================================================================================================\n",
      "Misclassification error rate: 0.286\n",
      "The accuracy is:  71.441 %\n",
      "============================================================================================================\n"
     ]
    }
   ],
   "source": [
    "# Creating a random forest classifier\n",
    "rndm =  RandomForestClassifier(n_jobs=2,random_state=10,n_estimators=10)\n",
    "# Training the classifier\n",
    "rndm.fit(X_kbest,y_train)\n",
    "# Using the model to predict the unseen data\n",
    "pred_anova = rndm.predict(X_ktest)\n",
    "# Creating confusion matrix\n",
    "#print pd.crosstab(Y_test, pred_anova, rownames=['Actual clases'], colnames=['Predicted clases'])\n",
    "# Computing error rate for the model\n",
    "print '============================================================================================================'\n",
    "print \"Misclassification error rate:\",round(np.mean(pred_anova!=y_test),3)\n",
    "print 'The accuracy is: ',round(accuracy_score(y_test,pred_anova)*100,3),'%'\n",
    "print '============================================================================================================'"
   ]
  },
  {
   "cell_type": "markdown",
   "metadata": {},
   "source": [
    "It can be noticed that the high accuracy is obtained when we use all the features,followed by feature importance from random forest and lastly ANONA and yield the lowest accuracy."
   ]
  },
  {
   "cell_type": "markdown",
   "metadata": {},
   "source": [
    "## Support Vector Machine \n",
    "**Training the model using all the features**"
   ]
  },
  {
   "cell_type": "code",
   "execution_count": 35,
   "metadata": {},
   "outputs": [
    {
     "name": "stdout",
     "output_type": "stream",
     "text": [
      "===========================================================================================================\n",
      "Misclassification error rate: 0.412\n",
      "The accuracy is:  58.831 %\n",
      "===========================================================================================================\n"
     ]
    }
   ],
   "source": [
    "# Creating SVM classifier\n",
    "svms = svm.SVC()\n",
    "# Training the classifier\n",
    "svms.fit(X_train,y_train)\n",
    "# Predicting using the unseen data\n",
    "predi = svms.predict(X_test)\n",
    "# Creating a confusion matrix\n",
    "print '==========================================================================================================='\n",
    "print \"Misclassification error rate:\",round(np.mean(predi!=y_test),3)\n",
    "print 'The accuracy is: ',round(accuracy_score(y_test,predi)*100,3),'%'\n",
    "print '==========================================================================================================='"
   ]
  },
  {
   "cell_type": "markdown",
   "metadata": {},
   "source": [
    "**Training the model using features selected from RF classifer**"
   ]
  },
  {
   "cell_type": "code",
   "execution_count": 37,
   "metadata": {},
   "outputs": [
    {
     "name": "stdout",
     "output_type": "stream",
     "text": [
      " ===========================================================================================================\n",
      "Misclassification error rate: 0.312\n",
      "The accuracy is:  68.804 %\n",
      "===========================================================================================================\n"
     ]
    }
   ],
   "source": [
    "# RF features\n",
    "svms.fit(X_trainF,y_train)\n",
    "predic = svms.predict(X_testF)\n",
    "print '==========================================================================================================='\n",
    "print \"Misclassification error rate:\",round(np.mean(predic!=y_test),3)\n",
    "print 'The accuracy is: ',round(accuracy_score(y_test,predic)*100,3),'%'\n",
    "print '==========================================================================================================='"
   ]
  },
  {
   "cell_type": "markdown",
   "metadata": {},
   "source": [
    "**ANOVA and F-value**"
   ]
  },
  {
   "cell_type": "code",
   "execution_count": 39,
   "metadata": {},
   "outputs": [
    {
     "name": "stdout",
     "output_type": "stream",
     "text": [
      "===========================================================================================================\n",
      "Misclassification error rate: 0.317\n",
      "The accuracy is:  68.319 %\n",
      "===========================================================================================================\n"
     ]
    }
   ],
   "source": [
    "svms = svm.SVC()\n",
    "svms.fit(X_kbest,y_train)\n",
    "pred_f = svms.predict(X_ktest)\n",
    "\n",
    "print '==========================================================================================================='\n",
    "print \"Misclassification error rate:\",round(np.mean(pred_f!=y_test),3)\n",
    "print 'The accuracy is: ',round(accuracy_score(y_test,pred_f)*100,3),'%'\n",
    "print '==========================================================================================================='"
   ]
  },
  {
   "cell_type": "markdown",
   "metadata": {},
   "source": [
    "## **Decision Tree Classifier**\n",
    "\n",
    "Decision tree is a supervised learning algorithm. It works for both categorical and continuous input (features) and output (predicted) variables. Tree-based methods partition the feature space into a set of rectangles, and then fit a simple model (like a constant) in each one. They are conceptually simple yet powerful."
   ]
  },
  {
   "cell_type": "markdown",
   "metadata": {},
   "source": [
    "**Training using all the features**"
   ]
  },
  {
   "cell_type": "code",
   "execution_count": 45,
   "metadata": {},
   "outputs": [
    {
     "name": "stdout",
     "output_type": "stream",
     "text": [
      "===========================================================================================================\n",
      "Misclassification error rate: 0.28\n",
      "The accuracy is:  72.03 %\n",
      "===========================================================================================================\n"
     ]
    }
   ],
   "source": [
    "# Creating a decision tree classifier\n",
    "dtree = DecisionTreeClassifier(criterion='gini',max_depth=None)\n",
    "dtree.fit(X_train,y_train)\n",
    "pred_d = dtree.predict(X_test)\n",
    "print '==========================================================================================================='\n",
    "print \"Misclassification error rate:\",round(np.mean(pred_d!=y_test),3)\n",
    "print 'The accuracy is: ',round(accuracy_score(y_test,pred_d)*100,2),'%'\n",
    "print '==========================================================================================================='"
   ]
  },
  {
   "cell_type": "markdown",
   "metadata": {},
   "source": [
    "#### RF features"
   ]
  },
  {
   "cell_type": "code",
   "execution_count": 46,
   "metadata": {},
   "outputs": [
    {
     "name": "stdout",
     "output_type": "stream",
     "text": [
      "===========================================================================================================\n",
      "Misclassification error rate: 0.297\n",
      "The accuracy is:  70.278 %\n",
      "===========================================================================================================\n"
     ]
    }
   ],
   "source": [
    "# RF features\n",
    "dtree.fit(X_trainF,y_train)\n",
    "predic = dtree.predict(X_testF)\n",
    "print '==========================================================================================================='\n",
    "print \"Misclassification error rate:\",round(np.mean(predic!=y_test),3)\n",
    "print 'The accuracy is: ',round(accuracy_score(y_test,predic)*100,3),'%'\n",
    "print '==========================================================================================================='"
   ]
  },
  {
   "cell_type": "markdown",
   "metadata": {},
   "source": [
    "**ANOVA and F-value features**"
   ]
  },
  {
   "cell_type": "code",
   "execution_count": 50,
   "metadata": {},
   "outputs": [
    {
     "name": "stdout",
     "output_type": "stream",
     "text": [
      "===========================================================================================================\n",
      "Misclassification error rate: 0.297\n",
      "The accuracy is:  70.289 %\n",
      "===========================================================================================================\n"
     ]
    }
   ],
   "source": [
    "#ANOVA\n",
    "dtree.fit(X_kbest,y_train)\n",
    "predic = dtree.predict(X_ktest)\n",
    "\n",
    "print '==========================================================================================================='\n",
    "print \"Misclassification error rate:\",round(np.mean(predic!=y_test),3)\n",
    "print 'The accuracy is: ',round(accuracy_score(y_test,predic)*100,3),'%'\n",
    "print '==========================================================================================================='"
   ]
  },
  {
   "cell_type": "markdown",
   "metadata": {},
   "source": [
    "## **KNeighbors classifier**\n",
    "\n",
    "\n",
    "The k-nearest neighbour classifier, is **non-parametric** and it is an **instant based** algorithm.\n",
    "\n",
    "- *Non-parametric* means it makes no explicit assumptions about the functional form of F, avoiding the dangers of mismodeling the underlying distribution of the data.\n",
    "\n",
    "- *Instance-based* learning means that our algorithm doesn’t explicitly learn a model. Instead, it chooses to memorize the training instances which are subsequently used as “knowledge” for the prediction phase. \n",
    "\n",
    "\n",
    "\n",
    "The K-nearest neighbor algorithm essentially boils down to forming a majority vote between the K most similar instances to a given “unseen” observation. Similarity is defined according to a distance metric between two data points. A popular choice is the Euclidean distance given by\n",
    "$$d(x,x') = \\sqrt{(x_{1} - x'_{1})^{2} + (x_{2} - x'_{2})^{2} +...+ (x_{n} - x'_{n})^{2} } $$\n",
    "\n",
    "but other measures can be more suitable for a given setting and include the Manhattan, Chebyshev and Hamming distance.\n",
    "\n",
    "More formally, given a positive integer K, an unseen observation x and a similarity metric dd, KNN classifier performs the following two steps:\n",
    "\n",
    "- It runs through the whole dataset computing dd between $x$ and each training observation. We’ll call the K points in the training data that are closest to $x$ the set X.\n",
    "\n",
    "- It then estimates the conditional probability for each class, that is, the fraction of points in X with that given class label. \n",
    "\n",
    "$$P(y = j|X = x) = \\frac{1}{K} \\sum_{i → X}I(y^{i} = j) $$\n",
    "\n",
    "where $I(x)$ is the indicator function which evaluates to 1 when the argument $x$ is true and 0 otherwise.\n",
    "\n",
    "Finally, our input $x$ gets assigned to the class with the largest probability. An alternate way of understanding KNN is by thinking about it as calculating a decision boundary.\n",
    "\n",
    "\n",
    "\n",
    "like most machine learning algorithms, the K in KNN is a hyperparameter that you, as a designer, must pick in order to get the best possible fit for the data set. Intuitively, you can think of K as controlling the shape of the decision boundary we talked about earlier.\n",
    "\n",
    "When K is small, we are restraining the region of a given prediction and forcing our classifier to be “more blind” to the overall distribution. A small value for K provides the most flexible fit, which will have low bias but high variance. Graphically, our decision boundary will be more jagged.\n",
    "\n",
    "On the other hand, a higher K averages more voters in each prediction and hence is more resilient to outliers. Larger values of K will have smoother decision boundaries which means lower variance but increased bias.\n",
    "\n"
   ]
  },
  {
   "cell_type": "markdown",
   "metadata": {},
   "source": [
    "**Training using all the features**"
   ]
  },
  {
   "cell_type": "code",
   "execution_count": 48,
   "metadata": {},
   "outputs": [],
   "source": [
    "error_rate = []\n",
    "import seaborn as sns\n",
    "% matplotlib inline\n",
    "for i in range(1,60):\n",
    "    \n",
    "    knn = KNeighborsClassifier(n_neighbors=i)\n",
    "    knn.fit(X_train,y_train)\n",
    "    pred_i = knn.predict(X_test)\n",
    "    error_rate.append(np.mean(pred_i != y_test))\n"
   ]
  },
  {
   "cell_type": "code",
   "execution_count": 49,
   "metadata": {},
   "outputs": [
    {
     "data": {
      "image/png": "[encoded data removed]",
      "text/plain": [
       "<Figure size 720x432 with 1 Axes>"
      ]
     },
     "metadata": {},
     "output_type": "display_data"
    }
   ],
   "source": [
    "plt.figure(figsize=(10,6))\n",
    "plt.plot(range(1,60),error_rate,color='blue', linestyle='dashed', marker='o',\n",
    "    markerfacecolor='red', markersize=8)\n",
    "plt.title('Error Rate vs. K Value', fontsize=20)\n",
    "plt.xlabel('K',fontsize=15)\n",
    "plt.ylabel('Error (misclassification) Rate',fontsize=15)\n",
    "plt.show()"
   ]
  },
  {
   "cell_type": "markdown",
   "metadata": {},
   "source": [
    "The error rate plot above indicate the lowest error rate that can be obtained by KNN is  about 33% with a k-value corrrepomding to 1 as shown on the plot. But at K=1, we were overfitting the boundaries. Hence, error rate initially decreases and reaches a minima. After the minima point, it then increase with increasing K."
   ]
  },
  {
   "cell_type": "code",
   "execution_count": 42,
   "metadata": {},
   "outputs": [
    {
     "name": "stdout",
     "output_type": "stream",
     "text": [
      "===========================================================================================================\n",
      "('Misclassification error rate:', 0.339)\n",
      "('The accuracy is: ', 66.115, '%')\n",
      "===========================================================================================================\n"
     ]
    }
   ],
   "source": [
    "knn = KNeighborsClassifier(n_neighbors=4)\n",
    "knn.fit(X_train,y_train)\n",
    "pred_k = knn.predict(X_test)\n",
    "\n",
    "print '==========================================================================================================='\n",
    "print(\"Misclassification error rate:\",round(np.mean(pred_k!=y_test),3))\n",
    "print('The accuracy is: ',round(accuracy_score(y_test,pred_k)*100,3),'%')\n",
    "print '==========================================================================================================='"
   ]
  },
  {
   "cell_type": "markdown",
   "metadata": {},
   "source": [
    "**RF features**"
   ]
  },
  {
   "cell_type": "code",
   "execution_count": 40,
   "metadata": {},
   "outputs": [
    {
     "name": "stdout",
     "output_type": "stream",
     "text": [
      "===========================================================================================================\n",
      "Misclassification error rate: 0.317\n",
      "The accuracy is:  68.337 %\n",
      "===========================================================================================================\n"
     ]
    }
   ],
   "source": [
    "# RF features\n",
    "knn = KNeighborsClassifier(n_neighbors=4)\n",
    "knn.fit(X_trainF,y_train)\n",
    "pred_k = knn.predict(X_testF)\n",
    "print '==========================================================================================================='\n",
    "print \"Misclassification error rate:\",round(np.mean(pred_k!=y_test),3)\n",
    "print 'The accuracy is: ',round(accuracy_score(y_test,pred_k)*100,3),'%'\n",
    "print '==========================================================================================================='"
   ]
  },
  {
   "cell_type": "markdown",
   "metadata": {},
   "source": [
    "#### ANOVA F-test"
   ]
  },
  {
   "cell_type": "code",
   "execution_count": 47,
   "metadata": {},
   "outputs": [
    {
     "name": "stdout",
     "output_type": "stream",
     "text": [
      "===========================================================================================================\n",
      "('Misclassification error rate:', 0.313)\n",
      "('The accuracy is: ', 68.699, '%')\n",
      "===========================================================================================================\n"
     ]
    }
   ],
   "source": [
    "# ANOVA F-test\n",
    "knn = KNeighborsClassifier(n_neighbors=4)\n",
    "knn.fit(X_kbest,y_train)\n",
    "pred_k = knn.predict(X_ktest)\n",
    "print '==========================================================================================================='\n",
    "print(\"Misclassification error rate:\",round(np.mean(pred_k!=y_test),3))\n",
    "print('The accuracy is: ',round(accuracy_score(y_test,pred_k)*100,3),'%')\n",
    "print '==========================================================================================================='\n",
    "\n"
   ]
  },
  {
   "cell_type": "code",
   "execution_count": 51,
   "metadata": {},
   "outputs": [
    {
     "data": {
      "text/html": [
       "<div>\n",
       "<style scoped>\n",
       "    .dataframe tbody tr th:only-of-type {\n",
       "        vertical-align: middle;\n",
       "    }\n",
       "\n",
       "    .dataframe tbody tr th {\n",
       "        vertical-align: top;\n",
       "    }\n",
       "\n",
       "    .dataframe thead th {\n",
       "        text-align: right;\n",
       "    }\n",
       "</style>\n",
       "<table border=\"1\" class=\"dataframe\">\n",
       "  <thead>\n",
       "    <tr style=\"text-align: right;\">\n",
       "      <th></th>\n",
       "      <th>Models</th>\n",
       "      <th>Accuracy of all Features %</th>\n",
       "      <th>Accurary of RF best features %</th>\n",
       "      <th>Accuracy of ANOVA &amp; F-test Features %</th>\n",
       "    </tr>\n",
       "  </thead>\n",
       "  <tbody>\n",
       "    <tr>\n",
       "      <th>0</th>\n",
       "      <td>Random Forest Clasifier</td>\n",
       "      <td>76.08</td>\n",
       "      <td>72.15</td>\n",
       "      <td>71.44</td>\n",
       "    </tr>\n",
       "    <tr>\n",
       "      <th>1</th>\n",
       "      <td>Support Vector Machines</td>\n",
       "      <td>58.83</td>\n",
       "      <td>68.80</td>\n",
       "      <td>68.28</td>\n",
       "    </tr>\n",
       "    <tr>\n",
       "      <th>2</th>\n",
       "      <td>Decison Tree classifier</td>\n",
       "      <td>72.05</td>\n",
       "      <td>70.27</td>\n",
       "      <td>70.30</td>\n",
       "    </tr>\n",
       "    <tr>\n",
       "      <th>3</th>\n",
       "      <td>KNeighbour</td>\n",
       "      <td>66.12</td>\n",
       "      <td>69.28</td>\n",
       "      <td>68.70</td>\n",
       "    </tr>\n",
       "  </tbody>\n",
       "</table>\n",
       "</div>"
      ],
      "text/plain": [
       "                    Models  Accuracy of all Features %  \\\n",
       "0  Random Forest Clasifier                       76.08   \n",
       "1  Support Vector Machines                       58.83   \n",
       "2  Decison Tree classifier                       72.05   \n",
       "3               KNeighbour                       66.12   \n",
       "\n",
       "   Accurary of RF best features %  Accuracy of ANOVA & F-test Features %  \n",
       "0                           72.15                                  71.44  \n",
       "1                           68.80                                  68.28  \n",
       "2                           70.27                                  70.30  \n",
       "3                           69.28                                  68.70  "
      ]
     },
     "execution_count": 51,
     "metadata": {},
     "output_type": "execute_result"
    }
   ],
   "source": [
    "# Summary of all the Classifier\n",
    "from collections import OrderedDict\n",
    "sales = OrderedDict( [('Models', ['Random Forest Clasifier', 'Support Vector Machines', 'Decison Tree classifier','KNeighbour']),\n",
    "          ('Accuracy of all Features %', [76.08,58.83,72.05,66.12]),\n",
    "          ('Accurary of RF best features %',[72.15,68.80,70.27,69.28]),\n",
    "          ('Accuracy of ANOVA & F-test Features %', [71.44, 68.28,70.30,68.70])\n",
    "          \n",
    "          ])\n",
    "df = pd.DataFrame.from_dict(sales)\n",
    "df"
   ]
  },
  {
   "cell_type": "markdown",
   "metadata": {},
   "source": [
    "## Conclusion\n",
    "It can be noticed that for Random Forest Classifier did well in all feature space selected as compared to other three, followed by Decision Tree classifier, KNeighbour classifier and lastly the Support Vector Machine. As for the RF classifier we can note that the accuracy decreases as we do feature dimension reduction, which is the opposite with the SVM, we see an increase with accuracy as we do dimensionality reduction."
   ]
  },
  {
   "cell_type": "code",
   "execution_count": null,
   "metadata": {},
   "outputs": [],
   "source": []
  }
 ],
 "metadata": {
  "kernelspec": {
   "display_name": "Python 2",
   "language": "python",
   "name": "python2"
  },
  "language_info": {
   "codemirror_mode": {
    "name": "ipython",
    "version": 2
   },
   "file_extension": ".py",
   "mimetype": "text/x-python",
   "name": "python",
   "nbconvert_exporter": "python",
   "pygments_lexer": "ipython2",
   "version": "2.7.12"
  }
 },
 "nbformat": 4,
 "nbformat_minor": 2
}
