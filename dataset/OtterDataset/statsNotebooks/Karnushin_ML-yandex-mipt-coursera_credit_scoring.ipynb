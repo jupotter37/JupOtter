{
 "cells": [
  {
   "cell_type": "markdown",
   "metadata": {},
   "source": [
    "## Credit scoring"
   ]
  },
  {
   "cell_type": "markdown",
   "metadata": {},
   "source": [
    "Task in russian\n",
    "\n",
    "**1** Размер кредитного лимита (LIMIT_BAL). В двух группах, тех людей, кто вернул кредит (default = 0) и тех, кто его не вернул (default = 1) проверьте гипотезы: a) о равенстве медианных значений кредитного лимита с помощью подходящей интервальной оценки b) о равенстве распределений с помощью одного из подходящих непараметрических критериев проверки равенства средних. Значимы ли полученные результаты с практической точки зрения ?\n",
    "    \n",
    "**2** Пол (SEX): Проверьте гипотезу о том, что гендерный состав группы людей вернувших и не вернувших кредит отличается. Хорошо, если вы предоставите несколько различных решений этой задачи (с помощью доверительного интервала и подходящего статистического критерия)\n",
    "    \n",
    "**3** Образование (EDUCATION): Проверьте гипотезу о том, что образование не влияет на то, вернет ли человек долг.  Предложите способ наглядного представления разницы в ожидаемых и наблюдаемых значениях количества человек вернувших и не вернувших долг. Например, составьте таблицу сопряженности \"образование\" на \"возврат долга\", где значением ячейки была бы разность между наблюдаемым и ожидаемым количеством человек. Как бы вы предложили модифицировать таблицу так, чтобы привести значения ячеек к одному масштабу не потеряв в интерпретируемости ? Наличие какого образования является наилучшим индикатором того, что человек отдаст долг ? наоборт, не отдаст долг ?\n",
    "    \n",
    "**4** Семейное положение (MARRIAGE): Проверьте, как связан семейный статус с индикатором дефолта: нужно предложить меру, по которой можно измерить возможную связь этих переменных и посчитать ее значение.\n",
    "    \n",
    "**5** Возраст (AGE): Относительно двух групп людей вернувших и не вернувших кредит проверьте следующие гипотезы: a) о равенстве медианных значений возрастов людей b) о равенстве распределений с помощью одного из подходящих непараметрических критериев проверки равенства средних. Значимы ли полученные результаты с практической точки зрения ?"
   ]
  },
  {
   "cell_type": "markdown",
   "metadata": {},
   "source": [
    "By default $\\alpha$ = 0.05"
   ]
  },
  {
   "cell_type": "code",
   "execution_count": 1,
   "metadata": {},
   "outputs": [],
   "source": [
    "import pandas as pd\n",
    "import numpy as np\n",
    "\n",
    "from scipy import stats\n",
    "import seaborn as sns\n",
    "import matplotlib.pyplot as plt\n",
    "\n",
    "import itertools"
   ]
  },
  {
   "cell_type": "code",
   "execution_count": 2,
   "metadata": {},
   "outputs": [],
   "source": [
    "SEED = 42\n",
    "ALPHA = 0.05"
   ]
  },
  {
   "cell_type": "code",
   "execution_count": 3,
   "metadata": {},
   "outputs": [
    {
     "data": {
      "text/html": [
       "<div>\n",
       "<style scoped>\n",
       "    .dataframe tbody tr th:only-of-type {\n",
       "        vertical-align: middle;\n",
       "    }\n",
       "\n",
       "    .dataframe tbody tr th {\n",
       "        vertical-align: top;\n",
       "    }\n",
       "\n",
       "    .dataframe thead th {\n",
       "        text-align: right;\n",
       "    }\n",
       "</style>\n",
       "<table border=\"1\" class=\"dataframe\">\n",
       "  <thead>\n",
       "    <tr style=\"text-align: right;\">\n",
       "      <th></th>\n",
       "      <th>ID</th>\n",
       "      <th>LIMIT_BAL</th>\n",
       "      <th>SEX</th>\n",
       "      <th>EDUCATION</th>\n",
       "      <th>MARRIAGE</th>\n",
       "      <th>AGE</th>\n",
       "      <th>PAY_0</th>\n",
       "      <th>PAY_2</th>\n",
       "      <th>PAY_3</th>\n",
       "      <th>PAY_4</th>\n",
       "      <th>...</th>\n",
       "      <th>BILL_AMT4</th>\n",
       "      <th>BILL_AMT5</th>\n",
       "      <th>BILL_AMT6</th>\n",
       "      <th>PAY_AMT1</th>\n",
       "      <th>PAY_AMT2</th>\n",
       "      <th>PAY_AMT3</th>\n",
       "      <th>PAY_AMT4</th>\n",
       "      <th>PAY_AMT5</th>\n",
       "      <th>PAY_AMT6</th>\n",
       "      <th>default</th>\n",
       "    </tr>\n",
       "  </thead>\n",
       "  <tbody>\n",
       "    <tr>\n",
       "      <th>0</th>\n",
       "      <td>1</td>\n",
       "      <td>20000</td>\n",
       "      <td>2</td>\n",
       "      <td>2</td>\n",
       "      <td>1</td>\n",
       "      <td>24</td>\n",
       "      <td>2</td>\n",
       "      <td>2</td>\n",
       "      <td>0</td>\n",
       "      <td>0</td>\n",
       "      <td>...</td>\n",
       "      <td>0</td>\n",
       "      <td>0</td>\n",
       "      <td>0</td>\n",
       "      <td>0</td>\n",
       "      <td>689</td>\n",
       "      <td>0</td>\n",
       "      <td>0</td>\n",
       "      <td>0</td>\n",
       "      <td>0</td>\n",
       "      <td>1</td>\n",
       "    </tr>\n",
       "    <tr>\n",
       "      <th>1</th>\n",
       "      <td>2</td>\n",
       "      <td>120000</td>\n",
       "      <td>2</td>\n",
       "      <td>2</td>\n",
       "      <td>2</td>\n",
       "      <td>26</td>\n",
       "      <td>0</td>\n",
       "      <td>2</td>\n",
       "      <td>0</td>\n",
       "      <td>0</td>\n",
       "      <td>...</td>\n",
       "      <td>3272</td>\n",
       "      <td>3455</td>\n",
       "      <td>3261</td>\n",
       "      <td>0</td>\n",
       "      <td>1000</td>\n",
       "      <td>1000</td>\n",
       "      <td>1000</td>\n",
       "      <td>0</td>\n",
       "      <td>2000</td>\n",
       "      <td>1</td>\n",
       "    </tr>\n",
       "    <tr>\n",
       "      <th>2</th>\n",
       "      <td>3</td>\n",
       "      <td>90000</td>\n",
       "      <td>2</td>\n",
       "      <td>2</td>\n",
       "      <td>2</td>\n",
       "      <td>34</td>\n",
       "      <td>0</td>\n",
       "      <td>0</td>\n",
       "      <td>0</td>\n",
       "      <td>0</td>\n",
       "      <td>...</td>\n",
       "      <td>14331</td>\n",
       "      <td>14948</td>\n",
       "      <td>15549</td>\n",
       "      <td>1518</td>\n",
       "      <td>1500</td>\n",
       "      <td>1000</td>\n",
       "      <td>1000</td>\n",
       "      <td>1000</td>\n",
       "      <td>5000</td>\n",
       "      <td>0</td>\n",
       "    </tr>\n",
       "    <tr>\n",
       "      <th>3</th>\n",
       "      <td>4</td>\n",
       "      <td>50000</td>\n",
       "      <td>2</td>\n",
       "      <td>2</td>\n",
       "      <td>1</td>\n",
       "      <td>37</td>\n",
       "      <td>0</td>\n",
       "      <td>0</td>\n",
       "      <td>0</td>\n",
       "      <td>0</td>\n",
       "      <td>...</td>\n",
       "      <td>28314</td>\n",
       "      <td>28959</td>\n",
       "      <td>29547</td>\n",
       "      <td>2000</td>\n",
       "      <td>2019</td>\n",
       "      <td>1200</td>\n",
       "      <td>1100</td>\n",
       "      <td>1069</td>\n",
       "      <td>1000</td>\n",
       "      <td>0</td>\n",
       "    </tr>\n",
       "    <tr>\n",
       "      <th>4</th>\n",
       "      <td>5</td>\n",
       "      <td>50000</td>\n",
       "      <td>1</td>\n",
       "      <td>2</td>\n",
       "      <td>1</td>\n",
       "      <td>57</td>\n",
       "      <td>0</td>\n",
       "      <td>0</td>\n",
       "      <td>0</td>\n",
       "      <td>0</td>\n",
       "      <td>...</td>\n",
       "      <td>20940</td>\n",
       "      <td>19146</td>\n",
       "      <td>19131</td>\n",
       "      <td>2000</td>\n",
       "      <td>36681</td>\n",
       "      <td>10000</td>\n",
       "      <td>9000</td>\n",
       "      <td>689</td>\n",
       "      <td>679</td>\n",
       "      <td>0</td>\n",
       "    </tr>\n",
       "  </tbody>\n",
       "</table>\n",
       "<p>5 rows × 25 columns</p>\n",
       "</div>"
      ],
      "text/plain": [
       "   ID  LIMIT_BAL  SEX  EDUCATION  MARRIAGE  AGE  PAY_0  PAY_2  PAY_3  PAY_4  \\\n",
       "0   1      20000    2          2         1   24      2      2      0      0   \n",
       "1   2     120000    2          2         2   26      0      2      0      0   \n",
       "2   3      90000    2          2         2   34      0      0      0      0   \n",
       "3   4      50000    2          2         1   37      0      0      0      0   \n",
       "4   5      50000    1          2         1   57      0      0      0      0   \n",
       "\n",
       "   ...  BILL_AMT4  BILL_AMT5  BILL_AMT6  PAY_AMT1  PAY_AMT2  PAY_AMT3  \\\n",
       "0  ...          0          0          0         0       689         0   \n",
       "1  ...       3272       3455       3261         0      1000      1000   \n",
       "2  ...      14331      14948      15549      1518      1500      1000   \n",
       "3  ...      28314      28959      29547      2000      2019      1200   \n",
       "4  ...      20940      19146      19131      2000     36681     10000   \n",
       "\n",
       "   PAY_AMT4  PAY_AMT5  PAY_AMT6  default  \n",
       "0         0         0         0        1  \n",
       "1      1000         0      2000        1  \n",
       "2      1000      1000      5000        0  \n",
       "3      1100      1069      1000        0  \n",
       "4      9000       689       679        0  \n",
       "\n",
       "[5 rows x 25 columns]"
      ]
     },
     "execution_count": 3,
     "metadata": {},
     "output_type": "execute_result"
    }
   ],
   "source": [
    "df = pd.read_csv('credit_card_default_analysis.csv')\n",
    "df.head()"
   ]
  },
  {
   "cell_type": "code",
   "execution_count": 4,
   "metadata": {},
   "outputs": [],
   "source": [
    "df0 = df[df['default']==0]\n",
    "df1 = df[df['default']==1]"
   ]
  },
  {
   "cell_type": "markdown",
   "metadata": {},
   "source": [
    "### 1"
   ]
  },
  {
   "cell_type": "code",
   "execution_count": 5,
   "metadata": {},
   "outputs": [
    {
     "data": {
      "image/png": "[encoded data removed]",
      "text/plain": [
       "<Figure size 432x288 with 1 Axes>"
      ]
     },
     "metadata": {
      "needs_background": "light"
     },
     "output_type": "display_data"
    }
   ],
   "source": [
    "sns.distplot(df0['LIMIT_BAL'], label='default=0')\n",
    "sns.distplot(df1['LIMIT_BAL'], label='default=1')\n",
    "plt.legend(loc='best')\n",
    "plt.show()"
   ]
  },
  {
   "cell_type": "code",
   "execution_count": 6,
   "metadata": {},
   "outputs": [],
   "source": [
    "def get_bootstrap_samples(data, n_samples):\n",
    "    indices = np.random.randint(0, len(data), (n_samples, len(data)))\n",
    "    samples = data[indices]\n",
    "    return samples\n",
    "\n",
    "def stat_intervals(stats_boost, alpha, method='percentile', true_stat=None):\n",
    "    \n",
    "    if method not in ['percentile', 'perc', 'empirical', 'empir']:\n",
    "        raise ValueError('Using non availiable method')\n",
    "    \n",
    "    if method in ['empirical', 'empir'] and true_stat is None:\n",
    "        raise ValueError('Attempt of calculating CI using empirical bootstrap without giving true statistics\\\n",
    "        on original sample. true_stat must be given!')\n",
    "    \n",
    "    if method in ['percentile', 'perc']:\n",
    "        boundaries = np.percentile(stats_boost, [100 * alpha / 2., 100 * (1 - alpha / 2.)])\n",
    "    else:\n",
    "        z = stats.norm.ppf(1-ALPHA/2)\n",
    "        std = np.std(stats_boost, ddof=1)\n",
    "        boundaries = (true_stat - z*std, true_stat + z*std)\n",
    "    return boundaries"
   ]
  },
  {
   "cell_type": "markdown",
   "metadata": {},
   "source": [
    "column LIMIT_BAL\n",
    "\n",
    "a)\n",
    "<br>\n",
    "$H_0:med(X_1) = med(X_2)$\n",
    "<br>\n",
    "$H_1:med(X_1) \\neq med(X_2)$\n",
    "\n",
    "Since need to compare medians I'll use bootstrap\n",
    "<br>\n",
    "I'd like also to compare percentile and emperical bootstrap"
   ]
  },
  {
   "cell_type": "code",
   "execution_count": 7,
   "metadata": {},
   "outputs": [
    {
     "name": "stdout",
     "output_type": "stream",
     "text": [
      "true medians in sample 0: 150000.0 and sample 1: 90000.0\n"
     ]
    }
   ],
   "source": [
    "med0 = df.loc[df['default']==0, 'LIMIT_BAL'].median()\n",
    "med1 = df.loc[df['default']==1, 'LIMIT_BAL'].median()\n",
    "print(f\"true medians in sample 0: {med0} and sample 1: {med1}\")"
   ]
  },
  {
   "cell_type": "code",
   "execution_count": 8,
   "metadata": {},
   "outputs": [],
   "source": [
    "np.random.seed(SEED)\n",
    "\n",
    "medians0 = list(map(np.median, get_bootstrap_samples(df0['LIMIT_BAL'].values, 1000)))\n",
    "medians1 = list(map(np.median, get_bootstrap_samples(df1['LIMIT_BAL'].values, 1000)))"
   ]
  },
  {
   "cell_type": "code",
   "execution_count": 9,
   "metadata": {},
   "outputs": [
    {
     "name": "stdout",
     "output_type": "stream",
     "text": [
      "CI for median in 0 group via perc bootstrap: [150000. 150000.]\n",
      "CI for median in 1 group via perc bootstrap: [80000. 90000.]\n"
     ]
    }
   ],
   "source": [
    "print(f\"CI for median in 0 group via perc bootstrap: {stat_intervals(medians0, ALPHA)}\")\n",
    "print(f\"CI for median in 1 group via perc bootstrap: {stat_intervals(medians1, ALPHA)}\")"
   ]
  },
  {
   "cell_type": "code",
   "execution_count": 10,
   "metadata": {},
   "outputs": [
    {
     "name": "stdout",
     "output_type": "stream",
     "text": [
      "CI for median in 0 group via empir bootstrap: (148927.55864321944, 151072.44135678056)\n",
      "CI for median in 1 group via empir bootstrap: (85883.93082619597, 94116.06917380403)\n"
     ]
    }
   ],
   "source": [
    "print(f\"CI for median in 0 group via empir bootstrap: {stat_intervals(medians0, ALPHA, 'empir', med0)}\")\n",
    "print(f\"CI for median in 1 group via empir bootstrap: {stat_intervals(medians1, ALPHA, 'empir', med1)}\")"
   ]
  },
  {
   "cell_type": "markdown",
   "metadata": {},
   "source": [
    "As I expected we can conduct the same from both of them.\n",
    "\n",
    "Conclusion: a) $H_0$ is rejected (result is significant) since CI are not crossed"
   ]
  },
  {
   "cell_type": "markdown",
   "metadata": {},
   "source": [
    "b)\n",
    "\n",
    "$H_0: F_{X_1}(x) = F_{X_2}(x)$\n",
    "<br>\n",
    "$H_1: F_{X_1}(x) = F_{X_2}(x+\\delta), \\delta \\neq 0$\n",
    "\n",
    "Let's check using test based on permutations and test Mann-Whitneyu"
   ]
  },
  {
   "cell_type": "code",
   "execution_count": 11,
   "metadata": {
    "scrolled": true
   },
   "outputs": [],
   "source": [
    "def permutation_t_stat_ind(sample1, sample2):\n",
    "    return np.mean(sample1) - np.mean(sample2)\n",
    "\n",
    "def get_random_combinations(n1, n2, max_combinations):\n",
    "    index = list(range(n1 + n2))\n",
    "    indices = set([tuple(index)])\n",
    "    for i in range(max_combinations - 1):\n",
    "        np.random.shuffle(index)\n",
    "        indices.add(tuple(index))\n",
    "    return [(index[:n1], index[n1:]) for index in indices]\n",
    "\n",
    "def permutation_zero_dist_ind(sample1, sample2, max_combinations = None):\n",
    "    joined_sample = np.hstack((sample1, sample2))\n",
    "    \n",
    "    n1 = len(sample1)\n",
    "    n2 = len(sample2)\n",
    "    n = len(joined_sample)\n",
    "    \n",
    "    if max_combinations:\n",
    "        indices = get_random_combinations(n1, n2, max_combinations)\n",
    "    else:\n",
    "        indices = [(list(index), list(filter(lambda i: i not in index, range(n))) \\\n",
    "                   ) for index in itertools.combinations(range(n), n1)]\n",
    "    \n",
    "    distr = [joined_sample[list(i[0])].mean() - joined_sample[list(i[1])].mean() \\\n",
    "             for i in indices]\n",
    "    return distr\n",
    "\n",
    "def permutation_test(sample, mean, max_permutations = None, alternative = 'two-sided'):\n",
    "    if alternative not in ('two-sided', 'less', 'greater'):\n",
    "        raise ValueError(\"alternative not recognized\\n\"\n",
    "                         \"should be 'two-sided', 'less' or 'greater'\")\n",
    "    \n",
    "    t_stat = permutation_t_stat_ind(sample, mean)\n",
    "    \n",
    "    zero_distr = permutation_zero_dist_ind(sample, mean, max_permutations)\n",
    "    \n",
    "    if alternative == 'two-sided':\n",
    "        return sum([1. if abs(x) >= abs(t_stat) else 0. for x in zero_distr]) / len(zero_distr)\n",
    "    \n",
    "    if alternative == 'less':\n",
    "        return sum([1. if x <= t_stat else 0. for x in zero_distr]) / len(zero_distr)\n",
    "\n",
    "    if alternative == 'greater':\n",
    "        return sum([1. if x >= t_stat else 0. for x in zero_distr]) / len(zero_distr)"
   ]
  },
  {
   "cell_type": "markdown",
   "metadata": {},
   "source": [
    "_Mann-Whitneyu_"
   ]
  },
  {
   "cell_type": "code",
   "execution_count": 12,
   "metadata": {},
   "outputs": [
    {
     "name": "stdout",
     "output_type": "stream",
     "text": [
      "MannwhitneyuResult(statistic=59257217.5, pvalue=6.127742909111652e-190)\n"
     ]
    }
   ],
   "source": [
    "print(stats.mannwhitneyu(df0['LIMIT_BAL'], df1['LIMIT_BAL']))"
   ]
  },
  {
   "cell_type": "markdown",
   "metadata": {},
   "source": [
    "https://ru.wikipedia.org/wiki/U-критерий_Манна_—_Уитни\n",
    "\n",
    "**By that link we can get that it's not correct to use mannwhitney criterion when there're lots of equal elements in sample, so it's more preferable to use permutated criterion**"
   ]
  },
  {
   "cell_type": "code",
   "execution_count": 13,
   "metadata": {},
   "outputs": [
    {
     "name": "stdout",
     "output_type": "stream",
     "text": [
      "Number of elems in arrays: 80, 65\n",
      "Number of equal elems: 64\n"
     ]
    }
   ],
   "source": [
    "un1, un2 = df0['LIMIT_BAL'].unique(), df1['LIMIT_BAL'].unique()\n",
    "print(f\"Number of elems in arrays: {un1.shape[0]}, {un2.shape[0]}\")\n",
    "print(f\"Number of equal elems: {len(set(un1) & set(un2))}\")"
   ]
  },
  {
   "cell_type": "markdown",
   "metadata": {},
   "source": [
    "_Criterion based on permutations_"
   ]
  },
  {
   "cell_type": "code",
   "execution_count": 14,
   "metadata": {},
   "outputs": [
    {
     "name": "stdout",
     "output_type": "stream",
     "text": [
      "p-value=0.002\n"
     ]
    }
   ],
   "source": [
    "print(f\"p-value={permutation_test(df0['LIMIT_BAL'], df1['LIMIT_BAL'], max_permutations=500)}\")"
   ]
  },
  {
   "cell_type": "markdown",
   "metadata": {},
   "source": [
    "Conclusion: b) $H_0$ is rejected (result is significant)"
   ]
  },
  {
   "cell_type": "markdown",
   "metadata": {},
   "source": [
    "**Common conclusion:** we can see that a feature LIMIT_BAL is significant based on practical siginificance"
   ]
  },
  {
   "cell_type": "markdown",
   "metadata": {},
   "source": [
    "### 2"
   ]
  },
  {
   "cell_type": "code",
   "execution_count": 15,
   "metadata": {},
   "outputs": [],
   "source": [
    "def matthews_corr(a, b, c, d):\n",
    "    \"\"\"\n",
    "    Parameters:\n",
    "        ---------------\n",
    "        |X1\\X2| 0 | 1 |\n",
    "        |--------------\n",
    "        |  0  | a | b |\n",
    "        |  1  | c | d |\n",
    "        ---------------\n",
    "    \n",
    "    Return:\n",
    "        Matthews' correlation\n",
    "    \n",
    "    \"\"\"\n",
    "    numerator = a*d - b*c\n",
    "    denominator = np.sqrt((a+b)*(a+c)*(b+d)*(c+d))\n",
    "    return numerator / denominator\n",
    "\n",
    "def proportions_diff_z_test(z_stat, alternative = 'two-sided'):\n",
    "    if alternative not in ('two-sided', 'less', 'greater'):\n",
    "        raise ValueError(\"alternative not recognized\\n\"\n",
    "                         \"should be 'two-sided', 'less' or 'greater'\")\n",
    "    \n",
    "    if alternative == 'two-sided':\n",
    "        return 2 * (1 - stats.norm.cdf(np.abs(z_stat)))\n",
    "    \n",
    "    if alternative == 'less':\n",
    "        return stats.norm.cdf(z_stat)\n",
    "\n",
    "    if alternative == 'greater':\n",
    "        return 1 - stats.norm.cdf(z_stat)\n",
    "\n",
    "def proportions_diff_z_stat_ind(n1=None, n2=None, cnt_pos1=None, cnt_pos2=None,\n",
    "                                p1=None, p2=None, sample1=None, sample2=None):\n",
    "    if sample1 is not None:\n",
    "        n1 = len(sample1)\n",
    "        cnt_pos1 = sum(sample1)\n",
    "        #подсчет вероятноти для 1-й популяции\n",
    "        p1 = cnt_pos1 / n1\n",
    "    elif n1 is not None and cnt_pos1 is not None:\n",
    "        p1 = cnt_pos1 / n1\n",
    "    else:\n",
    "        assert(n1 is not None) , 'You give no sample, no cnt_pos1, so it must be p1 and n1'\n",
    "        \n",
    "    if sample2 is not None:\n",
    "        n2 = len(sample2)\n",
    "        cnt_pos2 = sum(sample2)\n",
    "        #подсчет вероятноти для 2-й популяции\n",
    "        p2 = cnt_pos2 / n2\n",
    "    elif n2 is not None and cnt_pos2 is not None:\n",
    "        p2 = cnt_pos2 / n2\n",
    "    else:\n",
    "        assert(n1 is not None) , 'You give no sample, no cnt_pos1, so it must be p1 and n1'\n",
    "        \n",
    "    P = (p1*n1 + p2*n2) / (n1 + n2)\n",
    "    \n",
    "    return (p1 - p2) / np.sqrt(P * (1 - P) * (1. / n1 + 1. / n2))\n",
    "\n"
   ]
  },
  {
   "cell_type": "code",
   "execution_count": 25,
   "metadata": {},
   "outputs": [
    {
     "data": {
      "text/html": [
       "<div>\n",
       "<style scoped>\n",
       "    .dataframe tbody tr th:only-of-type {\n",
       "        vertical-align: middle;\n",
       "    }\n",
       "\n",
       "    .dataframe tbody tr th {\n",
       "        vertical-align: top;\n",
       "    }\n",
       "\n",
       "    .dataframe thead th {\n",
       "        text-align: right;\n",
       "    }\n",
       "</style>\n",
       "<table border=\"1\" class=\"dataframe\">\n",
       "  <thead>\n",
       "    <tr style=\"text-align: right;\">\n",
       "      <th>default</th>\n",
       "      <th>0</th>\n",
       "      <th>1</th>\n",
       "    </tr>\n",
       "    <tr>\n",
       "      <th>SEX</th>\n",
       "      <th></th>\n",
       "      <th></th>\n",
       "    </tr>\n",
       "  </thead>\n",
       "  <tbody>\n",
       "    <tr>\n",
       "      <th>1</th>\n",
       "      <td>9015</td>\n",
       "      <td>2873</td>\n",
       "    </tr>\n",
       "    <tr>\n",
       "      <th>2</th>\n",
       "      <td>14349</td>\n",
       "      <td>3763</td>\n",
       "    </tr>\n",
       "  </tbody>\n",
       "</table>\n",
       "</div>"
      ],
      "text/plain": [
       "default      0     1\n",
       "SEX                 \n",
       "1         9015  2873\n",
       "2        14349  3763"
      ]
     },
     "execution_count": 25,
     "metadata": {},
     "output_type": "execute_result"
    }
   ],
   "source": [
    "subtable = pd.crosstab(df['SEX'], df['default'])\n",
    "#or the same\n",
    "#subtable = df.pivot_table(index='SEX', values=\"LIMIT_BAL\", columns='default', aggfunc = len, fill_value=0)\n",
    "subtable"
   ]
  },
  {
   "cell_type": "code",
   "execution_count": 294,
   "metadata": {},
   "outputs": [
    {
     "name": "stdout",
     "output_type": "stream",
     "text": [
      "9015 2873 14349 3763\n"
     ]
    }
   ],
   "source": [
    "a = subtable[subtable.index.get_level_values('SEX')==1][0].values[0]\n",
    "b = subtable[subtable.index.get_level_values('SEX')==1][1].values[0]\n",
    "c = subtable[subtable.index.get_level_values('SEX')==2][0].values[0]\n",
    "d = subtable[subtable.index.get_level_values('SEX')==2][1].values[0]\n",
    "print(a, b, c, d)"
   ]
  },
  {
   "cell_type": "code",
   "execution_count": 295,
   "metadata": {},
   "outputs": [
    {
     "data": {
      "image/png": "[encoded data removed]",
      "text/plain": [
       "<Figure size 432x288 with 1 Axes>"
      ]
     },
     "metadata": {
      "needs_background": "light"
     },
     "output_type": "display_data"
    }
   ],
   "source": [
    "stacked = subtable.stack().reset_index().rename(columns={0:'count'})\n",
    "sns.barplot(x=stacked['SEX'], y=stacked['count'], hue=stacked['default'])\n",
    "#or subtable.plot.bar(rot=0)\n",
    "plt.show()"
   ]
  },
  {
   "cell_type": "markdown",
   "metadata": {},
   "source": [
    "**Check if sex impact on returning debt or not**\n",
    "\n",
    "By hand:"
   ]
  },
  {
   "cell_type": "code",
   "execution_count": 111,
   "metadata": {},
   "outputs": [
    {
     "name": "stdout",
     "output_type": "stream",
     "text": [
      "Stat=47.90543311657907, p-value=8.945510998614736e-12\n"
     ]
    }
   ],
   "source": [
    "vals = [a, b, c, d]\n",
    "matt_corr = matthews_corr(*vals)\n",
    "n = np.sum(vals)\n",
    "mcc_stat = n * (matthews_corr(*vals))**2\n",
    "print(f\"Stat={mcc_stat}, p-value={2*(1-stats.chi2.cdf(abs(mcc_stat), df=1))}\")"
   ]
  },
  {
   "cell_type": "markdown",
   "metadata": {},
   "source": [
    "Using $\\chi^2$"
   ]
  },
  {
   "cell_type": "code",
   "execution_count": 112,
   "metadata": {},
   "outputs": [
    {
     "name": "stdout",
     "output_type": "stream",
     "text": [
      "Stat=47.70879689062111, p-value=4.944678999412044e-12\n"
     ]
    }
   ],
   "source": [
    "mcc_stat2, pval = stats.chi2_contingency([[a, b], [c, d]])[:2]\n",
    "print(f\"Stat={mcc_stat2}, p-value={pval}\")"
   ]
  },
  {
   "cell_type": "markdown",
   "metadata": {},
   "source": [
    "Let's check fraction of men that returned and didn't return debt and compare them using **Wilson's CI**"
   ]
  },
  {
   "cell_type": "code",
   "execution_count": 297,
   "metadata": {},
   "outputs": [],
   "source": [
    "from statsmodels.stats.proportion import proportion_confint"
   ]
  },
  {
   "cell_type": "code",
   "execution_count": 303,
   "metadata": {},
   "outputs": [
    {
     "name": "stdout",
     "output_type": "stream",
     "text": [
      "frac1=0.38585002568053417, frac2=0.43294153104279687\n"
     ]
    }
   ],
   "source": [
    "frac0 =  a / (a+c)\n",
    "frac1 =  b / (b+d)\n",
    "print(f\"frac1={frac0}, frac2={frac1}\")"
   ]
  },
  {
   "cell_type": "markdown",
   "metadata": {},
   "source": [
    "i like wilson's conf int but in this case it seems that it doesn't matter wilson or normal since probabilities is quite big"
   ]
  },
  {
   "cell_type": "code",
   "execution_count": 302,
   "metadata": {},
   "outputs": [
    {
     "name": "stdout",
     "output_type": "stream",
     "text": [
      "CI Wilson fot strategy #1 (0.3796273158089251, 0.392110265969876)\n",
      "CI Wilson fot strategy #2 (0.421062418034934, 0.4448982369717182)\n"
     ]
    }
   ],
   "source": [
    "print(f\"CI Wilson fot strategy #1 {proportion_confint(a, a+c, method = 'wilson')}\")\n",
    "print(f\"CI Wilson fot strategy #2 {proportion_confint(b, b+d, method = 'wilson')}\")"
   ]
  },
  {
   "cell_type": "markdown",
   "metadata": {},
   "source": [
    "Based on Wilson's CI we can make a conclusion that fraction of men is less in a group who didn't return debt.\n",
    "\n",
    "It also means I guess that gender group members are different between groups who didn't return debt (default=1) and who return debt (default=0)"
   ]
  },
  {
   "cell_type": "markdown",
   "metadata": {},
   "source": [
    "Let's also use **z-test for fractions for independent samples**"
   ]
  },
  {
   "cell_type": "code",
   "execution_count": 310,
   "metadata": {},
   "outputs": [
    {
     "name": "stdout",
     "output_type": "stream",
     "text": [
      "z-test for independent fraction p-value=4.472866521609831e-12\n"
     ]
    }
   ],
   "source": [
    "z_stat = proportions_diff_z_stat_ind(n1=a+c, n2=b+d, cnt_pos1=a, cnt_pos2=b)\n",
    "print(f\"z-test for independent fraction p-value={proportions_diff_z_test(z_stat)}\")"
   ]
  },
  {
   "cell_type": "markdown",
   "metadata": {},
   "source": [
    "### 3\n",
    "\n",
    "$H_0:$ education doesn't impact on default (returning debt)\n",
    "<br> it's the same that $H_0:$ V Cramer corr = 0 "
   ]
  },
  {
   "cell_type": "code",
   "execution_count": 15,
   "metadata": {},
   "outputs": [
    {
     "data": {
      "text/html": [
       "<div>\n",
       "<style scoped>\n",
       "    .dataframe tbody tr th:only-of-type {\n",
       "        vertical-align: middle;\n",
       "    }\n",
       "\n",
       "    .dataframe tbody tr th {\n",
       "        vertical-align: top;\n",
       "    }\n",
       "\n",
       "    .dataframe thead th {\n",
       "        text-align: right;\n",
       "    }\n",
       "</style>\n",
       "<table border=\"1\" class=\"dataframe\">\n",
       "  <thead>\n",
       "    <tr style=\"text-align: right;\">\n",
       "      <th>default</th>\n",
       "      <th>0</th>\n",
       "      <th>1</th>\n",
       "    </tr>\n",
       "    <tr>\n",
       "      <th>EDUCATION</th>\n",
       "      <th></th>\n",
       "      <th></th>\n",
       "    </tr>\n",
       "  </thead>\n",
       "  <tbody>\n",
       "    <tr>\n",
       "      <th>0</th>\n",
       "      <td>14</td>\n",
       "      <td>0</td>\n",
       "    </tr>\n",
       "    <tr>\n",
       "      <th>1</th>\n",
       "      <td>8549</td>\n",
       "      <td>2036</td>\n",
       "    </tr>\n",
       "    <tr>\n",
       "      <th>2</th>\n",
       "      <td>10700</td>\n",
       "      <td>3330</td>\n",
       "    </tr>\n",
       "    <tr>\n",
       "      <th>3</th>\n",
       "      <td>3680</td>\n",
       "      <td>1237</td>\n",
       "    </tr>\n",
       "    <tr>\n",
       "      <th>4</th>\n",
       "      <td>116</td>\n",
       "      <td>7</td>\n",
       "    </tr>\n",
       "    <tr>\n",
       "      <th>5</th>\n",
       "      <td>262</td>\n",
       "      <td>18</td>\n",
       "    </tr>\n",
       "    <tr>\n",
       "      <th>6</th>\n",
       "      <td>43</td>\n",
       "      <td>8</td>\n",
       "    </tr>\n",
       "  </tbody>\n",
       "</table>\n",
       "</div>"
      ],
      "text/plain": [
       "default        0     1\n",
       "EDUCATION             \n",
       "0             14     0\n",
       "1           8549  2036\n",
       "2          10700  3330\n",
       "3           3680  1237\n",
       "4            116     7\n",
       "5            262    18\n",
       "6             43     8"
      ]
     },
     "execution_count": 15,
     "metadata": {},
     "output_type": "execute_result"
    }
   ],
   "source": [
    "##data.pivot_table(values='ID', index='EDUCATION', columns='default', aggfunc='count')\n",
    "subtable = pd.crosstab(df['EDUCATION'], df['default'])\n",
    "subtable"
   ]
  },
  {
   "cell_type": "code",
   "execution_count": 16,
   "metadata": {},
   "outputs": [
    {
     "data": {
      "image/png": "[encoded data removed]",
      "text/plain": [
       "<Figure size 432x288 with 1 Axes>"
      ]
     },
     "metadata": {
      "needs_background": "light"
     },
     "output_type": "display_data"
    }
   ],
   "source": [
    "stacked = subtable.stack().reset_index().rename(columns={0:'count'})\n",
    "sns.barplot(x=stacked['EDUCATION'], y=stacked['count'], hue=stacked['default'])\n",
    "plt.show()"
   ]
  },
  {
   "cell_type": "code",
   "execution_count": 17,
   "metadata": {},
   "outputs": [
    {
     "name": "stdout",
     "output_type": "stream",
     "text": [
      "cramer's V corr=0.07376009713252163, stat=163.21655786997073, p-value=1.2332626245415605e-32\n"
     ]
    }
   ],
   "source": [
    "k1 = df['EDUCATION'].unique().shape[0]\n",
    "k2 = df['default'].unique().shape[0]\n",
    "\n",
    "stat_p = stats.chi2_contingency(subtable)[:2]\n",
    "n = df.shape[0] #==sum(df.groupby(by=['EDUCATION'])['default'].count().values)\n",
    "v_cram_corr = np.sqrt(stat_p[0]/(n * (min(k1,k2)-1)))\n",
    "print(f\"cramer's V corr={v_cram_corr}, stat={stat_p[0]}, p-value={stat_p[1]}\")"
   ]
  },
  {
   "cell_type": "code",
   "execution_count": 18,
   "metadata": {},
   "outputs": [
    {
     "data": {
      "text/html": [
       "<div>\n",
       "<style scoped>\n",
       "    .dataframe tbody tr th:only-of-type {\n",
       "        vertical-align: middle;\n",
       "    }\n",
       "\n",
       "    .dataframe tbody tr th {\n",
       "        vertical-align: top;\n",
       "    }\n",
       "\n",
       "    .dataframe thead th {\n",
       "        text-align: right;\n",
       "    }\n",
       "</style>\n",
       "<table border=\"1\" class=\"dataframe\">\n",
       "  <thead>\n",
       "    <tr style=\"text-align: right;\">\n",
       "      <th>default</th>\n",
       "      <th>0</th>\n",
       "      <th>1</th>\n",
       "    </tr>\n",
       "    <tr>\n",
       "      <th>EDUCATION</th>\n",
       "      <th></th>\n",
       "      <th></th>\n",
       "    </tr>\n",
       "  </thead>\n",
       "  <tbody>\n",
       "    <tr>\n",
       "      <th>0</th>\n",
       "      <td>14</td>\n",
       "      <td>0</td>\n",
       "    </tr>\n",
       "    <tr>\n",
       "      <th>1</th>\n",
       "      <td>8549</td>\n",
       "      <td>2036</td>\n",
       "    </tr>\n",
       "    <tr>\n",
       "      <th>2</th>\n",
       "      <td>10700</td>\n",
       "      <td>3330</td>\n",
       "    </tr>\n",
       "    <tr>\n",
       "      <th>3</th>\n",
       "      <td>3680</td>\n",
       "      <td>1237</td>\n",
       "    </tr>\n",
       "    <tr>\n",
       "      <th>4</th>\n",
       "      <td>116</td>\n",
       "      <td>7</td>\n",
       "    </tr>\n",
       "    <tr>\n",
       "      <th>5</th>\n",
       "      <td>262</td>\n",
       "      <td>18</td>\n",
       "    </tr>\n",
       "    <tr>\n",
       "      <th>6</th>\n",
       "      <td>43</td>\n",
       "      <td>8</td>\n",
       "    </tr>\n",
       "  </tbody>\n",
       "</table>\n",
       "</div>"
      ],
      "text/plain": [
       "default        0     1\n",
       "EDUCATION             \n",
       "0             14     0\n",
       "1           8549  2036\n",
       "2          10700  3330\n",
       "3           3680  1237\n",
       "4            116     7\n",
       "5            262    18\n",
       "6             43     8"
      ]
     },
     "execution_count": 18,
     "metadata": {},
     "output_type": "execute_result"
    }
   ],
   "source": [
    "subtable"
   ]
  },
  {
   "cell_type": "markdown",
   "metadata": {},
   "source": [
    "Let's calculate $P_i = \\frac{m}{n}$, where $m$ - number of returning credits (default=0), $n$ - number of taken debts\n",
    "$i$ - id of education."
   ]
  },
  {
   "cell_type": "code",
   "execution_count": 19,
   "metadata": {},
   "outputs": [
    {
     "name": "stdout",
     "output_type": "stream",
     "text": [
      "EDUCATION\n",
      "0    1.000000\n",
      "1    0.807652\n",
      "2    0.762651\n",
      "3    0.748424\n",
      "4    0.943089\n",
      "5    0.935714\n",
      "6    0.843137\n",
      "Name: count, dtype: float64\n"
     ]
    }
   ],
   "source": [
    "print(stacked[stacked['default']==0].groupby(by=['EDUCATION'])['count'].sum() / \n",
    "      stacked.groupby(by=['EDUCATION'])['count'].sum())"
   ]
  },
  {
   "cell_type": "code",
   "execution_count": 20,
   "metadata": {},
   "outputs": [],
   "source": [
    "chi2_stat = stats.chi2_contingency(subtable)[0]\n",
    "subtable_exp = stats.chi2_contingency(subtable)[3]"
   ]
  },
  {
   "cell_type": "markdown",
   "metadata": {},
   "source": [
    "Plor corrplot of remainders (==heatmap i guess) using this [link](http://www.sthda.com/english/articles/31-principal-component-methods-in-r-practical-guide/120-correspondence-analysis-theory-and-practice/#chi-square-test)"
   ]
  },
  {
   "cell_type": "markdown",
   "metadata": {},
   "source": [
    "0-5 is about level of education (0 is the highest), 6 - there're no data about of education of people.\n",
    "\n",
    "I guess that the highest probability that a person return debt is the persons with level of education 0,4,5 and the smalest one it's the persons with education's level 2 and 3\n",
    "\n",
    "So in general education impacts on returning debt"
   ]
  },
  {
   "cell_type": "code",
   "execution_count": 23,
   "metadata": {},
   "outputs": [
    {
     "data": {
      "image/png": "[encoded data removed]",
      "text/plain": [
       "<Figure size 432x288 with 2 Axes>"
      ]
     },
     "metadata": {
      "needs_background": "light"
     },
     "output_type": "display_data"
    }
   ],
   "source": [
    "r = (subtable.values - subtable_exp) / np.sqrt(subtable_exp)\n",
    "sns.heatmap(r , annot=True)\n",
    "plt.show()"
   ]
  },
  {
   "cell_type": "markdown",
   "metadata": {},
   "source": [
    "### 4"
   ]
  },
  {
   "cell_type": "code",
   "execution_count": 248,
   "metadata": {},
   "outputs": [
    {
     "data": {
      "text/html": [
       "<div>\n",
       "<style scoped>\n",
       "    .dataframe tbody tr th:only-of-type {\n",
       "        vertical-align: middle;\n",
       "    }\n",
       "\n",
       "    .dataframe tbody tr th {\n",
       "        vertical-align: top;\n",
       "    }\n",
       "\n",
       "    .dataframe thead th {\n",
       "        text-align: right;\n",
       "    }\n",
       "</style>\n",
       "<table border=\"1\" class=\"dataframe\">\n",
       "  <thead>\n",
       "    <tr style=\"text-align: right;\">\n",
       "      <th>default</th>\n",
       "      <th>0</th>\n",
       "      <th>1</th>\n",
       "    </tr>\n",
       "    <tr>\n",
       "      <th>MARRIAGE</th>\n",
       "      <th></th>\n",
       "      <th></th>\n",
       "    </tr>\n",
       "  </thead>\n",
       "  <tbody>\n",
       "    <tr>\n",
       "      <th>0</th>\n",
       "      <td>49</td>\n",
       "      <td>5</td>\n",
       "    </tr>\n",
       "    <tr>\n",
       "      <th>1</th>\n",
       "      <td>10453</td>\n",
       "      <td>3206</td>\n",
       "    </tr>\n",
       "    <tr>\n",
       "      <th>2</th>\n",
       "      <td>12623</td>\n",
       "      <td>3341</td>\n",
       "    </tr>\n",
       "    <tr>\n",
       "      <th>3</th>\n",
       "      <td>239</td>\n",
       "      <td>84</td>\n",
       "    </tr>\n",
       "  </tbody>\n",
       "</table>\n",
       "</div>"
      ],
      "text/plain": [
       "default       0     1\n",
       "MARRIAGE             \n",
       "0            49     5\n",
       "1         10453  3206\n",
       "2         12623  3341\n",
       "3           239    84"
      ]
     },
     "execution_count": 248,
     "metadata": {},
     "output_type": "execute_result"
    }
   ],
   "source": [
    "subtable = pd.crosstab(df['MARRIAGE'], df['default'])\n",
    "subtable"
   ]
  },
  {
   "cell_type": "markdown",
   "metadata": {},
   "source": [
    "MARRIAGE:\n",
    "    \n",
    "    0 - a person refused to give an answer\n",
    "    1 - married\n",
    "    2 - single\n",
    "    3 - there're no data"
   ]
  },
  {
   "cell_type": "code",
   "execution_count": 277,
   "metadata": {},
   "outputs": [
    {
     "name": "stdout",
     "output_type": "stream",
     "text": [
      "cramer's V corr=0.030281682633212386, stat=27.5094090929579, p-value=1.5633210355976673e-07\n"
     ]
    }
   ],
   "source": [
    "k1 = df['MARRIAGE'].unique().shape[0]\n",
    "k2 = df['default'].unique().shape[0]\n",
    "\n",
    "stat_p = stats.chi2_contingency(subtable)[:2]\n",
    "n = df.shape[0] #==sum(df.groupby(by=['EDUCATION'])['default'].count().values)\n",
    "v_cram_corr = np.sqrt(stat_p[0]/(n * (min(k1,k2)-1)))\n",
    "print(f\"cramer's V corr={v_cram_corr}, stat={stat_p[0]}, p-value={stat_p[1]}\")"
   ]
  },
  {
   "cell_type": "markdown",
   "metadata": {},
   "source": [
    "Since we have to measure correlation between 'marriage' and 'default'. I suppose we should drop instances where marriage in (0, 3) and check corr on the known data"
   ]
  },
  {
   "cell_type": "markdown",
   "metadata": {},
   "source": [
    "What if we'll treat both of variables as binary ones and use matthews corr"
   ]
  },
  {
   "cell_type": "code",
   "execution_count": 268,
   "metadata": {},
   "outputs": [],
   "source": [
    "df_marr = df[df['MARRIAGE'].isin([1,2])]"
   ]
  },
  {
   "cell_type": "code",
   "execution_count": 273,
   "metadata": {},
   "outputs": [
    {
     "data": {
      "text/html": [
       "<div>\n",
       "<style scoped>\n",
       "    .dataframe tbody tr th:only-of-type {\n",
       "        vertical-align: middle;\n",
       "    }\n",
       "\n",
       "    .dataframe tbody tr th {\n",
       "        vertical-align: top;\n",
       "    }\n",
       "\n",
       "    .dataframe thead th {\n",
       "        text-align: right;\n",
       "    }\n",
       "</style>\n",
       "<table border=\"1\" class=\"dataframe\">\n",
       "  <thead>\n",
       "    <tr style=\"text-align: right;\">\n",
       "      <th>default</th>\n",
       "      <th>0</th>\n",
       "      <th>1</th>\n",
       "    </tr>\n",
       "    <tr>\n",
       "      <th>MARRIAGE</th>\n",
       "      <th></th>\n",
       "      <th></th>\n",
       "    </tr>\n",
       "  </thead>\n",
       "  <tbody>\n",
       "    <tr>\n",
       "      <th>1</th>\n",
       "      <td>10453</td>\n",
       "      <td>3206</td>\n",
       "    </tr>\n",
       "    <tr>\n",
       "      <th>2</th>\n",
       "      <td>12623</td>\n",
       "      <td>3341</td>\n",
       "    </tr>\n",
       "  </tbody>\n",
       "</table>\n",
       "</div>"
      ],
      "text/plain": [
       "default       0     1\n",
       "MARRIAGE             \n",
       "1         10453  3206\n",
       "2         12623  3341"
      ]
     },
     "execution_count": 273,
     "metadata": {},
     "output_type": "execute_result"
    }
   ],
   "source": [
    "subtable = pd.crosstab(df_marr['MARRIAGE'], df_marr['default'])\n",
    "subtable"
   ]
  },
  {
   "cell_type": "code",
   "execution_count": 274,
   "metadata": {},
   "outputs": [
    {
     "name": "stdout",
     "output_type": "stream",
     "text": [
      "10453 3206 12623 3341\n"
     ]
    }
   ],
   "source": [
    "a = subtable[subtable.index.get_level_values('MARRIAGE')==1][0].values[0]\n",
    "b = subtable[subtable.index.get_level_values('MARRIAGE')==1][1].values[0]\n",
    "c = subtable[subtable.index.get_level_values('MARRIAGE')==2][0].values[0]\n",
    "d = subtable[subtable.index.get_level_values('MARRIAGE')==2][1].values[0]\n",
    "print(a, b, c, d)"
   ]
  },
  {
   "cell_type": "code",
   "execution_count": 275,
   "metadata": {},
   "outputs": [
    {
     "name": "stdout",
     "output_type": "stream",
     "text": [
      "Matthews corr=-0.030555369920445503\n"
     ]
    }
   ],
   "source": [
    "print(f\"Matthews corr={matthews_corr(*[a,b,c,d])}\")"
   ]
  },
  {
   "cell_type": "code",
   "execution_count": 276,
   "metadata": {},
   "outputs": [
    {
     "name": "stdout",
     "output_type": "stream",
     "text": [
      "Stat=27.5094090929579, p-value=1.5633210355976673e-07\n"
     ]
    }
   ],
   "source": [
    "mcc_stat2, pval = stats.chi2_contingency([[a, b], [c, d]])[:2]\n",
    "print(f\"Stat={mcc_stat2}, p-value={pval}\")"
   ]
  },
  {
   "cell_type": "markdown",
   "metadata": {},
   "source": [
    "Well, we get that there's a bit correlation between marriage status and default value, but it's really small I guess.\n",
    "\n",
    "Based on both of correlations (V Cramer and Matthews) I'd like to say that marriage status means smth about returning debts and there's some correlation"
   ]
  },
  {
   "cell_type": "markdown",
   "metadata": {},
   "source": [
    "### 5"
   ]
  },
  {
   "cell_type": "markdown",
   "metadata": {},
   "source": [
    "column AGE\n",
    "\n",
    "a)\n",
    "<br>\n",
    "$H_0:med(X_1) = med(X_2)$\n",
    "<br>\n",
    "$H_1:med(X_1) \\neq med(X_2)$\n",
    "\n",
    "Since need to compare medians I'll use percentile bootstrap"
   ]
  },
  {
   "cell_type": "code",
   "execution_count": 288,
   "metadata": {},
   "outputs": [
    {
     "name": "stdout",
     "output_type": "stream",
     "text": [
      "true medians in sample 0: 34.0 and sample 1: 34.0\n"
     ]
    }
   ],
   "source": [
    "med0 = df.loc[df['default']==0, 'AGE'].median()\n",
    "med1 = df.loc[df['default']==1, 'AGE'].median()\n",
    "print(f\"true medians in sample 0: {med0} and sample 1: {med1}\")"
   ]
  },
  {
   "cell_type": "code",
   "execution_count": 251,
   "metadata": {},
   "outputs": [],
   "source": [
    "np.random.seed(SEED)\n",
    "\n",
    "medians0 = list(map(np.median, get_bootstrap_samples(df0['AGE'].values, 1000)))\n",
    "medians1 = list(map(np.median, get_bootstrap_samples(df1['AGE'].values, 1000)))"
   ]
  },
  {
   "cell_type": "code",
   "execution_count": 252,
   "metadata": {},
   "outputs": [
    {
     "name": "stdout",
     "output_type": "stream",
     "text": [
      "CI for median in 0 group via perc bootstrap: [34. 34.]\n",
      "CI for median in 1 group via perc bootstrap: [34. 35.]\n"
     ]
    }
   ],
   "source": [
    "print(f\"CI for median in 0 group via perc bootstrap: {stat_intervals(medians0, ALPHA)}\")\n",
    "print(f\"CI for median in 1 group via perc bootstrap: {stat_intervals(medians1, ALPHA)}\")"
   ]
  },
  {
   "cell_type": "markdown",
   "metadata": {},
   "source": [
    "Since they are crossed let's look at difference of medians"
   ]
  },
  {
   "cell_type": "code",
   "execution_count": 263,
   "metadata": {},
   "outputs": [
    {
     "name": "stdout",
     "output_type": "stream",
     "text": [
      "95% confidence interval for the difference between medians: [-1.  0.]\n"
     ]
    }
   ],
   "source": [
    "delta_median_scores = list(map(lambda x: x[0] - x[1], zip(medians0, medians1)))\n",
    "print(f\"95% confidence interval for the difference between medians: {stat_intervals(delta_median_scores, ALPHA)}\")"
   ]
  },
  {
   "cell_type": "markdown",
   "metadata": {},
   "source": [
    "a) Conclusion: well, since there's zero value in CI $H_0$ cannnot be rejected"
   ]
  },
  {
   "cell_type": "markdown",
   "metadata": {},
   "source": [
    "b)\n",
    "\n",
    "$H_0: F_{X_1}(x) = F_{X_2}(x)$\n",
    "<br>\n",
    "$H_1: F_{X_1}(x) = F_{X_2}(x+\\delta), \\delta \\neq 0$\n",
    "\n",
    "Let's check using test based on permutations"
   ]
  },
  {
   "cell_type": "code",
   "execution_count": 283,
   "metadata": {},
   "outputs": [
    {
     "name": "stdout",
     "output_type": "stream",
     "text": [
      "p-value=0.026\n"
     ]
    }
   ],
   "source": [
    "print(f\"p-value={permutation_test(df0['AGE'], df1['AGE'], max_permutations=500)}\")"
   ]
  },
  {
   "cell_type": "markdown",
   "metadata": {},
   "source": [
    "Conclusion: b) $H_0$ is rejected"
   ]
  },
  {
   "cell_type": "markdown",
   "metadata": {},
   "source": [
    "Let's look at the distributions of these 2 groups"
   ]
  },
  {
   "cell_type": "code",
   "execution_count": 290,
   "metadata": {},
   "outputs": [
    {
     "data": {
      "image/png": "[encoded data removed]",
      "text/plain": [
       "<Figure size 432x288 with 1 Axes>"
      ]
     },
     "metadata": {
      "needs_background": "light"
     },
     "output_type": "display_data"
    }
   ],
   "source": [
    "sns.distplot(df0['AGE'], label='default=0')\n",
    "sns.distplot(df1['AGE'], label='default=1')\n",
    "plt.vlines(med0, 0, 0.08, label='median')\n",
    "plt.legend(loc='best')\n",
    "plt.show()"
   ]
  },
  {
   "cell_type": "markdown",
   "metadata": {},
   "source": [
    "Well, in sample where default=0 we can observe 2 peaks that are strongly higher than every column of sample where default=1.\n",
    "\n",
    "I guess that cos of that we have rejected $H_0$ on comparing 2 distributions but not rejected $H_0$ on comparing 2 medians\n",
    "\n",
    "So I don't see any practical significance based on these hypotheses about age and dependency of it and returning debt in this case but if we look at quantile I suppose we can discover some differences.\n",
    "\n",
    "So to sum up it's just a case of particular data and in general this feature is important"
   ]
  },
  {
   "cell_type": "code",
   "execution_count": null,
   "metadata": {},
   "outputs": [],
   "source": []
  }
 ],
 "metadata": {
  "kernelspec": {
   "display_name": "Python 3",
   "language": "python",
   "name": "python3"
  },
  "language_info": {
   "codemirror_mode": {
    "name": "ipython",
    "version": 3
   },
   "file_extension": ".py",
   "mimetype": "text/x-python",
   "name": "python",
   "nbconvert_exporter": "python",
   "pygments_lexer": "ipython3",
   "version": "3.7.6"
  }
 },
 "nbformat": 4,
 "nbformat_minor": 2
}
