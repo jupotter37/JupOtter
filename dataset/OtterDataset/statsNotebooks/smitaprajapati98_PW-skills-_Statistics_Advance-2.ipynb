{
 "cells": [
  {
   "cell_type": "markdown",
   "id": "6fd5b19f-dc68-4314-89a8-c0e2bbb92d4f",
   "metadata": {},
   "source": [
    "# Q1: What are the Probability Mass Function (PMF) and Probability Density Function (PDF)? Explain with an example."
   ]
  },
  {
   "cell_type": "markdown",
   "id": "a44fd314-1a08-4441-8459-dee1debcd8e0",
   "metadata": {},
   "source": [
    "### Probability Mass Function (PMF):\n",
    "The Probability Mass Function (PMF) is used for discrete random variables and gives the probability that a specific value takes place. It provides the probability of each possible outcome as a discrete probability distribution.\n",
    "Example of PMF:\n",
    "Consider rolling a fair six-sided die. The PMF of this scenario would give us the probability of getting each face (1, 2, 3, 4, 5, or 6) after rolling the die. Since each outcome is equally likely, the PMF for this situation would be: PMF(x) = 1/6 for x ∈ {1, 2, 3, 4, 5, 6} and PMF(x) = 0 for other values of x.\n",
    "\n",
    "### Probability Density Function (PDF):\n",
    "The Probability Density Function (PDF) is used for continuous random variables and provides the likelihood of a random variable falling within a specific range. Unlike PMF, the PDF doesn't directly give the probability at specific points due to the continuous nature of the variable.\n",
    "### Example of PDF:\n",
    "A common example is the standard normal distribution (mean = 0 and standard deviation = 1). The PDF of the standard normal distribution is the bell-shaped curve, also known as the Gaussian curve. It provides the probability density for different values within the range of the distribution. The PDF can be denoted as f(x), and its specific formula is: f(x) = (1 / √(2π)) * e^((-x^2) / 2), where 'e' is the base of the natural logarithm."
   ]
  },
  {
   "cell_type": "markdown",
   "id": "aad163cd-e230-43aa-a23c-ecfc28f6b648",
   "metadata": {},
   "source": [
    "# Q2: What is Cumulative Density Function (CDF)? Explain with an example. Why CDF is used?"
   ]
  },
  {
   "cell_type": "markdown",
   "id": "c4127e5e-9819-423f-94ad-eaf119c0a00c",
   "metadata": {},
   "source": [
    "- The Cumulative Density Function (CDF) is a function that provides the cumulative probability that a random variable takes on a value less than or equal to a given point. For discrete random variables, the CDF is the sum of the probabilities up to that point, and for continuous random variables, it is the integral of the probability density function up to that point.\n",
    "\n",
    "### Example of CDF:\n",
    "Let's consider a fair six-sided die again. The CDF at a specific point 'x' will give us the probability of rolling a value less than or equal to 'x'. For example, the CDF at x = 3 would be 1/2, as there is a 50% chance of rolling a number less than or equal to 3 on the die.\n",
    "\n",
    "### Why CDF is used?\n",
    "The CDF is essential because it gives us information about the probabilities of outcomes for a random variable across a range of values. It helps in understanding the cumulative distribution of the variable and is useful for computing percentiles and making probabilistic statements about the data."
   ]
  },
  {
   "cell_type": "markdown",
   "id": "9109545e-c132-413c-b13d-e688373c31eb",
   "metadata": {},
   "source": [
    "# Q3: What are some examples of situations where the normal distribution might be used as a model? Explain how the parameters of the normal distribution relate to the shape of the distribution.\n"
   ]
  },
  {
   "cell_type": "markdown",
   "id": "5d609386-e2d0-4ed0-8c61-690c10e5fd05",
   "metadata": {},
   "source": [
    "- The normal distribution is commonly used as a model for continuous random variables in various fields due to its widespread occurrence in nature and real-world phenomena. Some examples of situations where the normal distribution might be used as a model include:\n",
    "\n",
    "- Heights of Individuals: The heights of adult humans tend to follow a roughly normal distribution, with the majority of people clustered around the mean height.\n",
    "\n",
    "- IQ Scores: Intelligence quotient (IQ) scores are often modeled using a normal distribution, where the mean IQ is typically set to 100 and the standard deviation is 15.\n",
    "\n",
    "- Measurement Errors: Errors in measurements, such as the length of an object or the time taken to perform a task, often follow a normal distribution.\n",
    "\n",
    "- Test Scores: Test scores in standardized exams, like SAT or GRE, are often modeled using a normal distribution.\n",
    "\n",
    "### Parameters of the normal distribution relate to the shape of the distribution as follows:\n",
    "\n",
    "- Mean (μ): The mean determines the center of the distribution. It is the value around which the data is symmetrically distributed.\n",
    "- Standard Deviation (σ): The standard deviation controls the spread or dispersion of the data points around the mean. A larger standard deviation leads to a wider distribution, while a smaller standard deviation results in a narrower distribution.\n",
    "- Variance (σ^2): The variance is the square of the standard deviation and represents the average squared distance of data points from the mean. It also affects the shape of the distribution."
   ]
  },
  {
   "cell_type": "markdown",
   "id": "3d42371a-693a-43e0-8206-678f6b52a10f",
   "metadata": {},
   "source": [
    "# Q4: Explain the importance of Normal Distribution. Give a few real-life examples of Normal Distribution. "
   ]
  },
  {
   "cell_type": "markdown",
   "id": "1a0ffb20-7042-4849-96e5-7379496c8f6f",
   "metadata": {},
   "source": [
    "- The normal distribution holds significant importance in statistics and various scientific fields due to several reasons:\n",
    "\n",
    "- Central Limit Theorem: The sum or average of a large number of independent and identically distributed random variables tends to follow a normal distribution, regardless of the original distribution. This property is essential for many statistical inference techniques.\n",
    "\n",
    "- Data Modeling: Many real-world phenomena, such as measurements, errors, IQ scores, and physical attributes, can be effectively modeled by the normal distribution.\n",
    "\n",
    "- Statistical Analysis: The normal distribution simplifies statistical calculations and makes it easier to derive probabilistic statements and confidence intervals.\n",
    "\n",
    "### Real-life examples of Normal Distribution:\n",
    "\n",
    "- The distribution of heights of adult males in a population.\n",
    "- The distribution of exam scores in a class where the test is well-designed and the scores are relatively evenly distributed around the mean.\n",
    "- The distribution of weights of products manufactured in a factory, assuming the production process is well-controlled and stable.\n",
    "- The distribution of IQ scores in a large population."
   ]
  },
  {
   "cell_type": "markdown",
   "id": "2d1d7c29-1878-4e81-8500-080685072cbc",
   "metadata": {},
   "source": [
    "# Q5: What is Bernaulli Distribution? Give an Example. What is the difference between Bernoulli Distribution and Binomial Distribution?"
   ]
  },
  {
   "cell_type": "markdown",
   "id": "bd6bf2c7-2bbd-4af8-914d-af04fa403243",
   "metadata": {},
   "source": [
    "### Bernoulli Distribution:\n",
    "- The Bernoulli distribution models a single experiment or trial with two possible outcomes: success (coded as 1) and failure (coded as 0). It is used for a discrete random variable representing a binary event, where the probability of success (p) remains constant for each trial.\n",
    "\n",
    "### Example of Bernoulli Distribution:\n",
    "- A coin flip experiment is a classic example of a Bernoulli distribution, where the outcome can be either \"heads\" (success) or \"tails\" (failure).\n",
    "\n",
    "### Difference between Bernoulli Distribution and Binomial Distribution:\n",
    "\n",
    "### Number of Trials:\n",
    "\n",
    "- Bernoulli Distribution: Represents a single trial with two outcomes (success or failure).\n",
    "- Binomial Distribution: Represents the number of successes in a fixed number of independent Bernoulli trials.\n",
    "### Probability of Success:\n",
    "\n",
    "- Bernoulli Distribution: Assumes a constant probability of success (p) for each trial.\n",
    "- Binomial Distribution: Requires both the number of trials (n) and the probability of success (p) for each trial.\n",
    "### Nature:\n",
    "\n",
    "- Bernoulli Distribution: Describes the outcome of a single experiment.\n",
    "- Binomial Distribution: Describes the number of successes in multiple, independent experiments.\n",
    "### Probability Mass Function (PMF):\n",
    "\n",
    "- Bernoulli Distribution: PMF is given by P(X = x) = p^x * (1 - p)^(1-x) for x ∈ {0, 1}.\n",
    "- Binomial Distribution: PMF is given by P(X = k) = C(n, k) * p^k * (1 - p)^(n-k) for k ∈ {0, 1, ..., n}, where C(n, k) is the binomial coefficient."
   ]
  },
  {
   "cell_type": "markdown",
   "id": "35cb3099-bb1c-47e7-bf2d-c045cd2dd6e6",
   "metadata": {},
   "source": [
    "# Q6. Consider a dataset with a mean of 50 and a standard deviation of 10. If we assume that the dataset is normally distributed, what is the probability that a randomly selected observation will be greater than 60? Use the appropriate formula and show your calculations."
   ]
  },
  {
   "cell_type": "markdown",
   "id": "d7022a24-96ee-456f-8e3d-0305997e2895",
   "metadata": {},
   "source": [
    "### Probability of randomly selected observation being greater than 60:\n",
    "\n",
    "To find the probability that a randomly selected observation will be greater than 60, we can use the standard normal distribution (z-distribution) since the dataset is assumed to be normally distributed. First, we need to standardize the value 60 using the z-score formula, and then we can find the corresponding probability from the standard normal distribution table or using a statistical tool like Python.\n",
    "\n",
    "The z-score formula is:\n",
    "z = (X - μ) / σ\n",
    "\n",
    "where:\n",
    "X = Value (in this case, 60)\n",
    "μ = Mean of the dataset (given as 50)\n",
    "σ = Standard deviation of the dataset (given as 10)\n",
    "\n",
    "Calculations:\n",
    "z = (60 - 50) / 10\n",
    "z = 1\n",
    "\n",
    "Now, we find the probability of z > 1 from the standard normal distribution table or using Python. The probability that a randomly selected observation will be greater than 60 is approximately 0.1587 or 15.87%.\n",
    "\n",
    "\n"
   ]
  },
  {
   "cell_type": "markdown",
   "id": "8e9ad39f-d33d-4139-a2f5-85c2453924a0",
   "metadata": {},
   "source": [
    "# Q7: Explain uniform Distribution with an example."
   ]
  },
  {
   "cell_type": "markdown",
   "id": "577339fd-5b57-413f-976c-03db6cc912d2",
   "metadata": {},
   "source": [
    "### Uniform Distribution:\n",
    "\n",
    "Uniform Distribution is a probability distribution where all possible outcomes have equal probability of occurrence. In other words, in a uniform distribution, every value within a specified range has the same likelihood of being observed. It is a continuous distribution with a constant probability density over the defined interval.\n",
    "\n",
    "Example of Uniform Distribution:\n",
    "Consider rolling a fair six-sided die. Each outcome (1, 2, 3, 4, 5, or 6) has an equal probability of 1/6. This is an example of a discrete uniform distribution. For a continuous uniform distribution, we can consider a random variable X representing the time it takes to complete a task, where X can take any value between 0 and 10 hours with an equal probability density of 1/10."
   ]
  },
  {
   "cell_type": "markdown",
   "id": "075a06fa-06f8-4459-a711-3e9b9d27679e",
   "metadata": {},
   "source": [
    "# Q8: What is the z score? State the importance of the z score."
   ]
  },
  {
   "cell_type": "markdown",
   "id": "66170fc4-0e77-4bf2-ba33-bcf8c3a27973",
   "metadata": {},
   "source": [
    "### Z-score and its Importance:\n",
    "\n",
    "The Z-score (also known as the standard score) is a statistical measure that quantifies the number of standard deviations a data point is from the mean of a dataset. It is calculated using the formula:\n",
    "\n",
    "Z = (X - μ) / σ\n",
    "\n",
    "where:\n",
    "X = Data point\n",
    "μ = Mean of the dataset\n",
    "σ = Standard deviation of the dataset\n",
    "\n",
    "### Importance of Z-score:\n",
    "1. Standardization: Z-scores standardize the data, allowing for easier comparison and analysis of different datasets with varying units and scales.\n",
    "\n",
    "2. Outlier Detection: Z-scores help identify outliers in a dataset. Data points with Z-scores greater than a threshold (e.g., |Z| > 2 or |Z| > 3) are considered potential outliers.\n",
    "\n",
    "3. Probability Calculation: Z-scores are used to find probabilities in a standard normal distribution table, allowing for easy calculation of probabilities for any given value in a normal distribution."
   ]
  },
  {
   "cell_type": "markdown",
   "id": "51599975-018d-49eb-9d13-cf1517ac21d5",
   "metadata": {},
   "source": [
    "# Q9: What is Central Limit Theorem? State the significance of the Central Limit Theorem."
   ]
  },
  {
   "cell_type": "markdown",
   "id": "3b7de361-f27c-4869-bb19-acc7aacc89f9",
   "metadata": {},
   "source": [
    "### Central Limit Theorem (CLT):\n",
    "\n",
    "Central Limit Theorem states that the sampling distribution of the sample means approaches a normal distribution as the sample size increases, regardless of the shape of the original population distribution. This holds true even if the population distribution is not normal. The theorem is a fundamental concept in statistics and has several significant implications.\n",
    "\n",
    "### Significance of the Central Limit Theorem:\n",
    "\n",
    "1. Large Sample Assumption: CLT allows statisticians to use the normal distribution to make inferences about population parameters based on sample statistics, even when the population distribution is unknown or not normally distributed.\n",
    "\n",
    "2. Sampling Variability: It helps us understand the distribution of sample means and highlights that sample means from different samples may vary but tend to cluster around the population mean.\n",
    "\n",
    "3. Hypothesis Testing and Confidence Intervals: CLT enables the use of parametric tests (e.g., t-tests, ANOVA) and the construction of confidence intervals for population parameters based on sample statistics.\n"
   ]
  },
  {
   "cell_type": "markdown",
   "id": "a574e70a-d111-4eb0-bb59-a204cc385d87",
   "metadata": {},
   "source": [
    "# Q10: State the assumptions of the Central Limit Theorem."
   ]
  },
  {
   "cell_type": "markdown",
   "id": "69dcae35-829b-4b85-b71f-43b0d88646b6",
   "metadata": {},
   "source": [
    "### Assumptions of the Central Limit Theorem:\n",
    "\n",
    "1. Random Sampling: The samples must be obtained through a random sampling process, meaning each element in the population has an equal chance of being selected.\n",
    "\n",
    "2. Independence: The observations within each sample and between samples must be independent of each other.\n",
    "\n",
    "3. Sample Size: The sample size should be sufficiently large. While there is no strict threshold for what constitutes \"sufficiently large,\" a commonly accepted guideline is that the sample size should be at least 30.\n",
    "\n",
    "4. Finite Variance: The population from which the samples are drawn should have a finite variance. If the population variance is infinite, the CLT might not hold"
   ]
  },
  {
   "cell_type": "code",
   "execution_count": null,
   "id": "7f5c9738-3711-4ca9-a7f2-e58fcbe5a253",
   "metadata": {},
   "outputs": [],
   "source": []
  },
  {
   "cell_type": "code",
   "execution_count": null,
   "id": "27db5120-4479-4b4f-aadb-857859d6d08c",
   "metadata": {},
   "outputs": [],
   "source": []
  }
 ],
 "metadata": {
  "kernelspec": {
   "display_name": "Python 3 (ipykernel)",
   "language": "python",
   "name": "python3"
  },
  "language_info": {
   "codemirror_mode": {
    "name": "ipython",
    "version": 3
   },
   "file_extension": ".py",
   "mimetype": "text/x-python",
   "name": "python",
   "nbconvert_exporter": "python",
   "pygments_lexer": "ipython3",
   "version": "3.10.9"
  }
 },
 "nbformat": 4,
 "nbformat_minor": 5
}
