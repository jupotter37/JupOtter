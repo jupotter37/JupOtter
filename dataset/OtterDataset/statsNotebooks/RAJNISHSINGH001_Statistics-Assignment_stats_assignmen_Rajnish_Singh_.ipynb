{
  "nbformat": 4,
  "nbformat_minor": 0,
  "metadata": {
    "colab": {
      "provenance": []
    },
    "kernelspec": {
      "name": "python3",
      "display_name": "Python 3"
    },
    "language_info": {
      "name": "python"
    }
  },
  "cells": [
    {
      "cell_type": "markdown",
      "source": [
        "question1. Generate a list of 100 integers containing values between 90 to 130 and store it in the variable `int_list`.\n",
        "After generating the list, f"
      ],
      "metadata": {
        "id": "DV1K2OelvDeW"
      }
    },
    {
      "cell_type": "code",
      "execution_count": 1,
      "metadata": {
        "id": "CX8kz-JHsGWp"
      },
      "outputs": [],
      "source": [
        "import random\n",
        "\n",
        "# Generate a list of 100 integers between 90 and 130\n",
        "int_list = [random.randint(90, 130) for _ in range(100)]\n"
      ]
    },
    {
      "cell_type": "markdown",
      "source": [
        "(i) Write a Python function to calculate the mean of a given list of numbers.\n",
        "\n",
        "Create a function to find the median of a list of numbers."
      ],
      "metadata": {
        "id": "rVlCq03yvdD1"
      }
    },
    {
      "cell_type": "code",
      "source": [
        "def calculate_mean(nums):\n",
        "    return sum(nums) / len(nums)\n"
      ],
      "metadata": {
        "id": "AtvVy500vk9S"
      },
      "execution_count": 2,
      "outputs": []
    },
    {
      "cell_type": "code",
      "source": [
        "def calculate_median(nums):\n",
        "    sorted_nums = sorted(nums)\n",
        "    n = len(sorted_nums)\n",
        "    if n % 2 == 0:\n",
        "        return (sorted_nums[n//2 - 1] + sorted_nums[n//2]) / 2\n",
        "    else:\n",
        "        return sorted_nums[n//2]\n"
      ],
      "metadata": {
        "id": "Sv9w25XRv2zU"
      },
      "execution_count": null,
      "outputs": []
    },
    {
      "cell_type": "markdown",
      "source": [
        " (ii) Develop a program to compute the mode of a list of integers.\n",
        "\n"
      ],
      "metadata": {
        "id": "EUAwc67Wvon_"
      }
    },
    {
      "cell_type": "code",
      "source": [
        "from collections import Counter\n",
        "\n",
        "def calculate_mode(nums):\n",
        "    count = Counter(nums)\n",
        "    most_common = count.most_common(1)\n",
        "    return most_common[0][0]  # Returns the most frequent number\n"
      ],
      "metadata": {
        "id": "UtArlw4sv68O"
      },
      "execution_count": 3,
      "outputs": []
    },
    {
      "cell_type": "markdown",
      "source": [
        "(iii) Implement a function to calculate the weighted mean of a list of values and their corresponding weights."
      ],
      "metadata": {
        "id": "V16HkZvLwIc8"
      }
    },
    {
      "cell_type": "code",
      "source": [
        "def calculate_weighted_mean(values, weights):\n",
        "    weighted_sum = sum(val * wt for val, wt in zip(values, weights))\n",
        "    total_weight = sum(weights)\n",
        "    return weighted_sum / total_weight if total_weight != 0 else None\n"
      ],
      "metadata": {
        "id": "Y0ahTneKwRiO"
      },
      "execution_count": null,
      "outputs": []
    },
    {
      "cell_type": "markdown",
      "source": [
        " (iv) Write a Python function to find the geometric mean of a list of positive numbers."
      ],
      "metadata": {
        "id": "oRx8O_VdwTIo"
      }
    },
    {
      "cell_type": "code",
      "source": [
        "import math\n",
        "\n",
        "def calculate_geometric_mean(nums):\n",
        "    product = 1\n",
        "    for num in nums:\n",
        "        product *= num\n",
        "    return product**(1/len(nums)) if len(nums) > 0 else None\n",
        "\n"
      ],
      "metadata": {
        "id": "VJ4QiQQCwXfG"
      },
      "execution_count": null,
      "outputs": []
    },
    {
      "cell_type": "markdown",
      "source": [
        "  (v) Create a program to calculate the harmonic mean of a list of values."
      ],
      "metadata": {
        "id": "yzBu-ME8woLn"
      }
    },
    {
      "cell_type": "code",
      "source": [
        "def calculate_harmonic_mean(nums):\n",
        "    if all(num > 0 for num in nums):\n",
        "        return len(nums) / sum(1/num for num in nums)\n",
        "    else:\n",
        "        return None  # Harmonic mean is undefined for non-positive numbers\n"
      ],
      "metadata": {
        "id": "G77DcB0RwpjN"
      },
      "execution_count": null,
      "outputs": []
    },
    {
      "cell_type": "markdown",
      "source": [
        "  (vi) Build a function to determine the midrange of a list of numbers (average of the minimum and maximum)"
      ],
      "metadata": {
        "id": "TrKuFPW8w6Jl"
      }
    },
    {
      "cell_type": "code",
      "source": [
        "def calculate_midrange(nums):\n",
        "    return (min(nums) + max(nums)) / 2\n"
      ],
      "metadata": {
        "id": "UPQvzA_9xBtI"
      },
      "execution_count": null,
      "outputs": []
    },
    {
      "cell_type": "markdown",
      "source": [
        " (vii) Implement a Python program to find the trimmed mean of a list, excluding a certain percentage of\n",
        "outliers.\n"
      ],
      "metadata": {
        "id": "IuA87rPPxFAH"
      }
    },
    {
      "cell_type": "code",
      "source": [
        "def calculate_trimmed_mean(nums, trim_percentage):\n",
        "    sorted_nums = sorted(nums)\n",
        "    n = len(sorted_nums)\n",
        "    trim_count = int(n * trim_percentage / 100)\n",
        "\n",
        "    trimmed_nums = sorted_nums[trim_count:n-trim_count]\n",
        "    return sum(trimmed_nums) / len(trimmed_nums) if len(trimmed_nums) > 0 else None\n"
      ],
      "metadata": {
        "id": "PWG8eeOYxGHQ"
      },
      "execution_count": null,
      "outputs": []
    },
    {
      "cell_type": "markdown",
      "source": [
        "question2.. Generate a list of 500 integers containing values between 200 to 300 and store it in the variable `int_list2`.\n",
        "After generating the list, find the following:"
      ],
      "metadata": {
        "id": "kTDvEcTGx7-s"
      }
    },
    {
      "cell_type": "code",
      "source": [
        "import random\n",
        "\n",
        "# Generate a list of 500 integers between 200 and 300\n",
        "int_list2 = [random.randint(200, 300) for _ in range(500)]\n"
      ],
      "metadata": {
        "id": "SoUZtcFByElX"
      },
      "execution_count": null,
      "outputs": []
    },
    {
      "cell_type": "markdown",
      "source": [
        "  (i) Compare the given list of visualization for the given data:\n",
        "\n",
        "    \n",
        "\n",
        "    1. Frequency & Gaussian distribution\n",
        "\n",
        "    2. Frequency smoothened KDE plot\n",
        "\n",
        "    3. Gaussian distribution & smoothened KDE plot"
      ],
      "metadata": {
        "id": "-lb9UpwTyIWC"
      }
    },
    {
      "cell_type": "code",
      "source": [
        "import matplotlib.pyplot as plt\n",
        "import seaborn as sns\n",
        "import numpy as np\n",
        "import scipy.stats as stats\n",
        "\n",
        "# Frequency Plot & Gaussian Distribution\n",
        "plt.figure(figsize=(14, 7))\n",
        "sns.histplot(int_list2, kde=True, stat='density', bins=30, color='skyblue', edgecolor='black')\n",
        "plt.title('Frequency & Gaussian Distribution')\n",
        "plt.xlabel('Value')\n",
        "plt.ylabel('Density')\n",
        "plt.grid(True)\n",
        "plt.show()\n",
        "\n",
        "# Smoothened KDE Plot\n",
        "plt.figure(figsize=(14, 7))\n",
        "sns.kdeplot(int_list2, shade=True, color='red')\n",
        "plt.title('Frequency Smoothened KDE Plot')\n",
        "plt.xlabel('Value')\n",
        "plt.ylabel('Density')\n",
        "plt.grid(True)\n",
        "plt.show()\n",
        "\n",
        "# Gaussian Distribution & Smoothened KDE Plot\n",
        "plt.figure(figsize=(14, 7))\n",
        "sns.kdeplot(int_list2, shade=True, color='red')\n",
        "sns.histplot(int_list2, kde=True, stat='density', bins=30, color='skyblue', edgecolor='black')\n",
        "plt.title('Gaussian Distribution & Smoothened KDE Plot')\n",
        "plt.xlabel('Value')\n",
        "plt.ylabel('Density')\n",
        "plt.grid(True)\n",
        "plt.show()\n"
      ],
      "metadata": {
        "id": "3xzr1WgryNqB"
      },
      "execution_count": null,
      "outputs": []
    },
    {
      "cell_type": "markdown",
      "source": [
        " (ii) Write a Python function to calculate the range of a given list of numbers."
      ],
      "metadata": {
        "id": "AW8qfBYOyRCz"
      }
    },
    {
      "cell_type": "code",
      "source": [
        "def calculate_range(nums):\n",
        "    return max(nums) - min(nums)\n",
        "\n",
        "# Calculate range of int_list2\n",
        "range_val = calculate_range(int_list2)\n",
        "print(f\"Range: {range_val}\")\n"
      ],
      "metadata": {
        "id": "1ZQgNPDSyYtW"
      },
      "execution_count": null,
      "outputs": []
    },
    {
      "cell_type": "markdown",
      "source": [
        "  (iii) Create a program to find the variance and standard deviation of a list of numbers."
      ],
      "metadata": {
        "id": "M6d3fIN9ydF3"
      }
    },
    {
      "cell_type": "code",
      "source": [
        "def calculate_variance(nums):\n",
        "    mean = sum(nums) / len(nums)\n",
        "    return sum((x - mean) ** 2 for x in nums) / len(nums)\n",
        "\n",
        "def calculate_standard_deviation(nums):\n",
        "    return calculate_variance(nums) ** 0.5\n",
        "\n",
        "# Calculate variance and standard deviation of int_list2\n",
        "variance = calculate_variance(int_list2)\n",
        "std_deviation = calculate_standard_deviation(int_list2)\n",
        "\n",
        "print(f\"Variance: {variance}\")\n",
        "print(f\"Standard Deviation: {std_deviation}\")\n"
      ],
      "metadata": {
        "id": "cUoa7OUqyel8"
      },
      "execution_count": null,
      "outputs": []
    },
    {
      "cell_type": "markdown",
      "source": [
        " (iv) Implement a function to compute the interquartile range (IQR) of a list of values."
      ],
      "metadata": {
        "id": "3CSNC3X6ylb1"
      }
    },
    {
      "cell_type": "code",
      "source": [
        "def calculate_iqr(nums):\n",
        "    sorted_nums = sorted(nums)\n",
        "    n = len(sorted_nums)\n",
        "\n",
        "    # Q1 (25th percentile) and Q3 (75th percentile)\n",
        "    Q1 = np.percentile(sorted_nums, 25)\n",
        "    Q3 = np.percentile(sorted_nums, 75)\n",
        "\n",
        "    return Q3 - Q1\n",
        "\n",
        "# Calculate the IQR of int_list2\n",
        "iqr = calculate_iqr(int_list2)\n",
        "print(f\"Interquartile Range (IQR): {iqr}\")\n"
      ],
      "metadata": {
        "id": "nbPbSMTNym6n"
      },
      "execution_count": null,
      "outputs": []
    },
    {
      "cell_type": "markdown",
      "source": [
        " (v) Build a program to calculate the coefficient of variation for a dataset."
      ],
      "metadata": {
        "id": "9QKpWM-tyrIZ"
      }
    },
    {
      "cell_type": "code",
      "source": [
        "def calculate_coefficient_of_variation(nums):\n",
        "    mean = calculate_mean(nums)\n",
        "    std_deviation = calculate_standard_deviation(nums)\n",
        "    return std_deviation / mean\n",
        "\n",
        "# Calculate Coefficient of Variation of int_list2\n",
        "coefficient_of_variation = calculate_coefficient_of_variation(int_list2)\n",
        "print(f\"Coefficient of Variation: {coefficient_of_variation}\")\n"
      ],
      "metadata": {
        "id": "2YiXfpJWywFs"
      },
      "execution_count": null,
      "outputs": []
    },
    {
      "cell_type": "markdown",
      "source": [
        " (vi) Write a Python function to find the mean absolute deviation (MAD) of a list of numbers."
      ],
      "metadata": {
        "id": "dkexAcUly0aP"
      }
    },
    {
      "cell_type": "code",
      "source": [
        "def calculate_mad(nums):\n",
        "    mean = sum(nums) / len(nums)\n",
        "    return sum(abs(x - mean) for x in nums) / len(nums)\n",
        "\n",
        "# Calculate MAD of int_list2\n",
        "mad = calculate_mad(int_list2)\n",
        "print(f\"Mean Absolute Deviation (MAD): {mad}\")\n"
      ],
      "metadata": {
        "id": "CNePGIX3y7j5"
      },
      "execution_count": null,
      "outputs": []
    },
    {
      "cell_type": "markdown",
      "source": [
        "  (vii) Create a program to calculate the quartile deviation of a list of values."
      ],
      "metadata": {
        "id": "sd_-rKqdy_uT"
      }
    },
    {
      "cell_type": "code",
      "source": [
        "def calculate_quartile_deviation(nums):\n",
        "    sorted_nums = sorted(nums)\n",
        "    Q1 = np.percentile(sorted_nums, 25)\n",
        "    Q3 = np.percentile(sorted_nums, 75)\n",
        "    return (Q3 - Q1) / 2\n",
        "\n",
        "# Calculate Quartile Deviation of int_list2\n",
        "quartile_deviation = calculate_quartile_deviation(int_list2)\n",
        "print(f\"Quartile Deviation: {quartile_deviation}\")\n"
      ],
      "metadata": {
        "id": "RH-e6xjrzBF3"
      },
      "execution_count": null,
      "outputs": []
    },
    {
      "cell_type": "markdown",
      "source": [
        " (viii) Implement a function to find the range-based coefficient of dispersion for a dataset."
      ],
      "metadata": {
        "id": "rKrZg1lPzJFj"
      }
    },
    {
      "cell_type": "code",
      "source": [
        "def calculate_range_based_dispersion(nums):\n",
        "    return (max(nums) - min(nums)) / (max(nums) + min(nums))\n",
        "\n",
        "# Calculate Range-Based Coefficient of Dispersion for int_list2\n",
        "dispersion = calculate_range_based_dispersion(int_list2)\n",
        "print(f\"Range-Based Coefficient of Dispersion: {dispersion}\")\n"
      ],
      "metadata": {
        "id": "0gzEiYx_zKqW"
      },
      "execution_count": null,
      "outputs": []
    },
    {
      "cell_type": "markdown",
      "source": [
        "3.   Write a Python class representing a discrete random variable with methods to calculate its expected\n",
        "value and variance."
      ],
      "metadata": {
        "id": "bh6BXTy2zxjE"
      }
    },
    {
      "cell_type": "code",
      "source": [
        "class DiscreteRandomVariable:\n",
        "    def __init__(self, values, probabilities):\n",
        "        \"\"\"\n",
        "        Initialize the discrete random variable with given values and probabilities.\n",
        "\n",
        "        :param values: List of values the random variable can take.\n",
        "        :param probabilities: List of probabilities associated with each value.\n",
        "        \"\"\"\n",
        "        if len(values) != len(probabilities):\n",
        "            raise ValueError(\"The number of values and probabilities must be the same.\")\n",
        "\n",
        "        if sum(probabilities) != 1:\n",
        "            raise ValueError(\"The sum of probabilities must be 1.\")\n",
        "\n",
        "        self.values = values\n",
        "        self.probabilities = probabilities\n",
        "\n",
        "    def expected_value(self):\n",
        "        \"\"\"\n",
        "        Calculate the expected value (mean) of the discrete random variable.\n",
        "\n",
        "        :return: Expected value of the random variable.\n",
        "        \"\"\"\n",
        "        return sum(value * prob for value, prob in zip(self.values, self.probabilities))\n",
        "\n",
        "    def variance(self):\n",
        "        \"\"\"\n",
        "        Calculate the variance of the discrete random variable.\n",
        "\n",
        "        :return: Variance of the random variable.\n",
        "        \"\"\"\n",
        "        expected_val = self.expected_value()\n",
        "        # Calculate E(X^2)\n",
        "        expected_val_squared = sum((value**2) * prob for value, prob in zip(self.values, self.probabilities))\n",
        "        # Variance formula: Var(X) = E(X^2) - (E(X))^2\n",
        "        return expected_val_squared - expected_val**2\n",
        "\n",
        "# Example usage:\n",
        "values = [1, 2, 3, 4]  # Example values for the random variable\n",
        "probabilities = [0.1, 0.2, 0.4, 0.3]  # Corresponding probabilities for each value\n",
        "\n",
        "# Create an instance of DiscreteRandomVariable\n",
        "random_var = DiscreteRandomVariable(values, probabilities)\n",
        "\n",
        "# Calculate expected value and variance\n",
        "expected_val = random_var.expected_value()\n",
        "variance_val = random_var.variance()\n",
        "\n",
        "print(f\"Expected Value: {expected_val}\")\n",
        "print(f\"Variance: {variance_val}\")\n"
      ],
      "metadata": {
        "colab": {
          "base_uri": "https://localhost:8080/"
        },
        "id": "ribQowI1z59v",
        "outputId": "eb324495-38aa-4764-a2c7-923b31905f50"
      },
      "execution_count": 7,
      "outputs": [
        {
          "output_type": "stream",
          "name": "stdout",
          "text": [
            "Expected Value: 2.9000000000000004\n",
            "Variance: 0.8899999999999988\n"
          ]
        }
      ]
    },
    {
      "cell_type": "markdown",
      "source": [
        "4.  Implement a program to simulate the rolling of a fair six-sided die and calculate the expected value and\n",
        "variance of the outcomes.\n"
      ],
      "metadata": {
        "id": "9X7k_PMQ0Lsw"
      }
    },
    {
      "cell_type": "code",
      "source": [
        "import random\n",
        "\n",
        "def simulate_die_rolls(num_rolls):\n",
        "    # Simulate rolling a fair six-sided die\n",
        "    rolls = [random.randint(1, 6) for _ in range(num_rolls)]\n",
        "    return rolls\n",
        "\n",
        "def calculate_expected_value(rolls):\n",
        "    # The expected value of a fair die is 3.5 (mean of 1, 2, 3, 4, 5, 6)\n",
        "    return sum(rolls) / len(rolls)\n",
        "\n",
        "def calculate_variance(rolls, expected_value):\n",
        "    # Variance = E(X^2) - (E(X))^2\n",
        "    expected_value_squared = sum(x**2 for x in rolls) / len(rolls)\n",
        "    return expected_value_squared - expected_value**2\n",
        "\n",
        "# Simulate 1000 rolls of a fair six-sided die\n",
        "num_rolls = 1000\n",
        "rolls = simulate_die_rolls(num_rolls)\n",
        "\n",
        "# Calculate expected value and variance from simulation\n",
        "expected_val = calculate_expected_value(rolls)\n",
        "variance_val = calculate_variance(rolls, expected_val)\n",
        "\n",
        "# Display the results\n",
        "print(f\"Simulated Expected Value: {expected_val:.2f}\")\n",
        "print(f\"Simulated Variance: {variance_val:.2f}\")\n",
        "\n",
        "# Theoretical Expected Value and Variance for a fair six-sided die\n",
        "theoretical_expected_value = 3.5\n",
        "theoretical_variance = (35 / 6) - theoretical_expected_value ** 2  # Var(X) = E(X^2) - (E(X))^2\n",
        "\n",
        "print(f\"Theoretical Expected Value: {theoretical_expected_value}\")\n",
        "print(f\"Theoretical Variance: {theoretical_variance:.2f}\")\n"
      ],
      "metadata": {
        "colab": {
          "base_uri": "https://localhost:8080/"
        },
        "id": "GYSJxWH00Qxv",
        "outputId": "0be7fe14-6f81-4439-866f-42ce8d66685a"
      },
      "execution_count": 6,
      "outputs": [
        {
          "output_type": "stream",
          "name": "stdout",
          "text": [
            "Simulated Expected Value: 3.40\n",
            "Simulated Variance: 2.83\n",
            "Theoretical Expected Value: 3.5\n",
            "Theoretical Variance: -6.42\n"
          ]
        }
      ]
    },
    {
      "cell_type": "markdown",
      "source": [
        "5.   Create a Python function to generate random samples from a given probability distribution (e.g.,\n",
        "binomial, Poisson) and calculate their mean and variance."
      ],
      "metadata": {
        "id": "d3QNdUGy0Vvw"
      }
    },
    {
      "cell_type": "code",
      "source": [
        "import numpy as np\n",
        "\n",
        "def generate_random_samples(distribution_type, *params, num_samples=1000):\n",
        "    \"\"\"\n",
        "    Generate random samples from a specified probability distribution and calculate their mean and variance.\n",
        "\n",
        "    :param distribution_type: The type of the distribution ('binomial', 'poisson', etc.).\n",
        "    :param params: Parameters for the chosen distribution.\n",
        "                   For 'binomial': n (number of trials), p (probability of success).\n",
        "                   For 'poisson': lam (rate or expected value).\n",
        "    :param num_samples: The number of random samples to generate (default is 1000).\n",
        "    :return: The mean and variance of the generated samples.\n",
        "    \"\"\"\n",
        "\n",
        "    # Generate random samples based on the chosen distribution\n",
        "    if distribution_type == 'binomial':\n",
        "        n, p = params\n",
        "        samples = np.random.binomial(n, p, num_samples)\n",
        "    elif distribution_type == 'poisson':\n",
        "        lam = params[0]\n",
        "        samples = np.random.poisson(lam, num_samples)\n",
        "    else:\n",
        "        raise ValueError(\"Unsupported distribution type. Use 'binomial' or 'poisson'.\")\n",
        "\n",
        "    # Calculate mean and variance\n",
        "    mean = np.mean(samples)\n",
        "    variance = np.var(samples)\n",
        "\n",
        "    return mean, variance\n",
        "\n",
        "# Example Usage:\n",
        "# 1. Binomial Distribution with n=10 trials, p=0.5 probability of success\n",
        "binomial_mean, binomial_variance = generate_random_samples('binomial', 10, 0.5)\n",
        "print(f\"Binomial Distribution (n=10, p=0.5): Mean = {binomial_mean}, Variance = {binomial_variance}\")\n",
        "\n",
        "# 2. Poisson Distribution with lambda=5 (expected number of events)\n",
        "poisson_mean, poisson_variance = generate_random_samples('poisson', 5)\n",
        "print(f\"Poisson Distribution (lambda=5): Mean = {poisson_mean}, Variance = {poisson_variance}\")\n"
      ],
      "metadata": {
        "colab": {
          "base_uri": "https://localhost:8080/"
        },
        "id": "icah4TUN0jg0",
        "outputId": "d5685ffd-b9f7-4693-d045-52a0cf604df8"
      },
      "execution_count": 5,
      "outputs": [
        {
          "output_type": "stream",
          "name": "stdout",
          "text": [
            "Binomial Distribution (n=10, p=0.5): Mean = 5.0, Variance = 2.466\n",
            "Poisson Distribution (lambda=5): Mean = 4.966, Variance = 5.090843999999999\n"
          ]
        }
      ]
    },
    {
      "cell_type": "markdown",
      "source": [
        "6.  Write a Python script to generate random numbers from a Gaussian (normal) distribution and compute\n",
        "the mean, variance, and standard deviation of the samples."
      ],
      "metadata": {
        "id": "9-m4Wb8W0wp6"
      }
    },
    {
      "cell_type": "code",
      "source": [
        "import numpy as np\n",
        "\n",
        "def generate_normal_samples(mean, std_dev, num_samples=1000):\n",
        "    \"\"\"\n",
        "    Generate random numbers from a normal (Gaussian) distribution and calculate their mean,\n",
        "    variance, and standard deviation.\n",
        "\n",
        "    :param mean: The mean (mu) of the normal distribution.\n",
        "    :param std_dev: The standard deviation (sigma) of the normal distribution.\n",
        "    :param num_samples: The number of random samples to generate (default is 1000).\n",
        "    :return: Mean, variance, and standard deviation of the generated samples.\n",
        "    \"\"\"\n",
        "    # Generate random samples from a normal distribution\n",
        "    samples = np.random.normal(loc=mean, scale=std_dev, size=num_samples)\n",
        "\n",
        "    # Calculate mean, variance, and standard deviation\n",
        "    sample_mean = np.mean(samples)\n",
        "    sample_variance = np.var(samples)\n",
        "    sample_std_dev = np.std(samples)\n",
        "\n",
        "    return sample_mean, sample_variance, sample_std_dev\n",
        "\n",
        "# Example usage:\n",
        "mean = 0  # Mean of the distribution\n",
        "std_dev = 1  # Standard deviation of the distribution\n",
        "num_samples = 1000  # Number of samples to generate\n",
        "\n",
        "# Generate the samples and calculate statistics\n",
        "sample_mean, sample_variance, sample_std_dev = generate_normal_samples(mean, std_dev, num_samples)\n",
        "\n",
        "# Display the results\n",
        "print(f\"Generated {num_samples} samples from a Gaussian distribution:\")\n",
        "print(f\"Sample Mean: {sample_mean:.2f}\")\n",
        "print(f\"Sample Variance: {sample_variance:.2f}\")\n",
        "print(f\"Sample Standard Deviation: {sample_std_dev:.2f}\")\n",
        "\n",
        "# Compare with theoretical values for Gaussian distribution\n",
        "print(\"\\nTheoretical values:\")\n",
        "print(f\"Theoretical Mean: {mean}\")\n",
        "print(f\"Theoretical Variance: {std_dev**2}\")\n",
        "print(f\"Theoretical Standard Deviation: {std_dev}\")\n"
      ],
      "metadata": {
        "colab": {
          "base_uri": "https://localhost:8080/"
        },
        "id": "DlHmWI6f1FzI",
        "outputId": "5ad2b595-e414-44c7-e248-94f0627386b4"
      },
      "execution_count": 4,
      "outputs": [
        {
          "output_type": "stream",
          "name": "stdout",
          "text": [
            "Generated 1000 samples from a Gaussian distribution:\n",
            "Sample Mean: 0.03\n",
            "Sample Variance: 1.01\n",
            "Sample Standard Deviation: 1.01\n",
            "\n",
            "Theoretical values:\n",
            "Theoretical Mean: 0\n",
            "Theoretical Variance: 1\n",
            "Theoretical Standard Deviation: 1\n"
          ]
        }
      ]
    },
    {
      "cell_type": "markdown",
      "source": [
        "7.  (i) Write a Python function that calculates their skewness."
      ],
      "metadata": {
        "id": "jPR92x251VT3"
      }
    },
    {
      "cell_type": "code",
      "source": [
        "def calculate_skewness(column):\n",
        "    return column.skew()\n"
      ],
      "metadata": {
        "id": "T5b2f7d91ttR"
      },
      "execution_count": 8,
      "outputs": []
    },
    {
      "cell_type": "markdown",
      "source": [
        "(ii) Create a program that determines whether the columns exhibit positive skewness, negative skewness, or is\n",
        "approximately symmetric."
      ],
      "metadata": {
        "id": "EJParuFx1yJ0"
      }
    },
    {
      "cell_type": "code",
      "source": [
        "def determine_skewness_type(column):\n",
        "    skew = calculate_skewness(column)\n",
        "    if skew > 0:\n",
        "        return \"Positive skew\"\n",
        "    elif skew < 0:\n",
        "        return \"Negative skew\"\n",
        "    else:\n",
        "        return \"Approximately symmetric\"\n"
      ],
      "metadata": {
        "id": "wNOVjrs71_VL"
      },
      "execution_count": null,
      "outputs": []
    },
    {
      "cell_type": "markdown",
      "source": [
        " (iii) Write a function that calculates the covariance between two columns."
      ],
      "metadata": {
        "id": "BrJaH0HG2AXS"
      }
    },
    {
      "cell_type": "code",
      "source": [
        "def calculate_covariance(column1, column2):\n",
        "    return column1.cov(column2)\n"
      ],
      "metadata": {
        "id": "HIpTTtC32F9a"
      },
      "execution_count": 9,
      "outputs": []
    },
    {
      "cell_type": "markdown",
      "source": [
        "  (iv) Implement a Python program that calculates the Pearson correlation coefficient between two columns."
      ],
      "metadata": {
        "id": "GQGtwOef2KF4"
      }
    },
    {
      "cell_type": "code",
      "source": [
        "def calculate_pearson_correlation(column1, column2):\n",
        "    return column1.corr(column2)\n"
      ],
      "metadata": {
        "id": "Id4t6RsO2ScF"
      },
      "execution_count": null,
      "outputs": []
    },
    {
      "cell_type": "markdown",
      "source": [
        " (v) Write a script to visualize the correlation between two specific columns in a Pandas DataFrame using\n",
        "scatter plots."
      ],
      "metadata": {
        "id": "s1LoBsO22VP-"
      }
    },
    {
      "cell_type": "code",
      "source": [
        "def plot_scatter(column1, column2):\n",
        "    plt.figure(figsize=(8, 6))\n",
        "    plt.scatter(column1, column2, alpha=0.6)\n",
        "    plt.title(f'Scatter Plot of {column1.name} vs {column2.name}')\n",
        "    plt.xlabel(column1.name)\n",
        "    plt.ylabel(column2.name)\n",
        "    plt.grid(True)\n",
        "    plt.show()\n"
      ],
      "metadata": {
        "id": "-qxVX8gK2WzZ"
      },
      "execution_count": 11,
      "outputs": []
    },
    {
      "cell_type": "markdown",
      "source": [
        "8.. Write a Python function to calculate the probability density function (PDF) of a continuous random\n",
        "variable for a given normal distribution.\n"
      ],
      "metadata": {
        "id": "A6L9u4Ow2fbb"
      }
    },
    {
      "cell_type": "code",
      "source": [
        "import numpy as np\n",
        "\n",
        "def normal_pdf(x, mu, sigma):\n",
        "    \"\"\"\n",
        "    Calculate the Probability Density Function (PDF) of a normal distribution.\n",
        "\n",
        "    :param x: The value at which to compute the PDF.\n",
        "    :param mu: The mean of the normal distribution (mu).\n",
        "    :param sigma: The standard deviation of the normal distribution (sigma).\n",
        "    :return: The PDF value at x for the normal distribution.\n",
        "    \"\"\"\n",
        "    # Calculate the PDF using the formula for a normal distribution\n",
        "    coefficient = 1 / (sigma * np.sqrt(2 * np.pi))\n",
        "    exponent = np.exp(-0.5 * ((x - mu) / sigma) ** 2)\n",
        "    return coefficient * exponent\n",
        "\n",
        "# Example usage:\n",
        "mu = 0  # Mean of the distribution\n",
        "sigma = 1  # Standard deviation of the distribution\n",
        "x_values = [-3, -1, 0, 1, 3]  # Values at which to compute the PDF\n",
        "\n",
        "# Calculate and print the PDF for each value in x_values\n",
        "for x in x_values:\n",
        "    pdf_value = normal_pdf(x, mu, sigma)\n",
        "    print(f\"PDF at x = {x}: {pdf_value:.4f}\")\n"
      ],
      "metadata": {
        "colab": {
          "base_uri": "https://localhost:8080/"
        },
        "id": "ZnZo5sm02pdA",
        "outputId": "a7abde02-9e8a-4d9c-96b1-b9f3cbeff82e"
      },
      "execution_count": 10,
      "outputs": [
        {
          "output_type": "stream",
          "name": "stdout",
          "text": [
            "PDF at x = -3: 0.0044\n",
            "PDF at x = -1: 0.2420\n",
            "PDF at x = 0: 0.3989\n",
            "PDF at x = 1: 0.2420\n",
            "PDF at x = 3: 0.0044\n"
          ]
        }
      ]
    },
    {
      "cell_type": "markdown",
      "source": [
        "9.  Create a program to calculate the cumulative distribution function (CDF) of exponential distribution."
      ],
      "metadata": {
        "id": "XUV5vyYy2v68"
      }
    },
    {
      "cell_type": "code",
      "source": [
        "import numpy as np\n",
        "\n",
        "def exponential_cdf(x, lambd):\n",
        "    \"\"\"\n",
        "    Calculate the CDF of an exponential distribution.\n",
        "\n",
        "    :param x: The value at which to calculate the CDF.\n",
        "    :param lambd: The rate parameter (lambda) of the exponential distribution.\n",
        "    :return: The CDF value at x for the exponential distribution.\n",
        "    \"\"\"\n",
        "    if x < 0:\n",
        "        return 0  # Exponential CDF is 0 for negative x\n",
        "    return 1 - np.exp(-lambd * x)\n",
        "\n",
        "# Example usage\n",
        "lambda_value = 1.5  # Rate parameter (lambda)\n",
        "x_values = [0, 1, 2, 3, 4]  # Values to calculate the CDF\n",
        "\n",
        "# Calculate and print the CDF for each value in x_values\n",
        "for x in x_values:\n",
        "    cdf_value = exponential_cdf(x, lambda_value)\n",
        "    print(f\"CDF at x = {x}: {cdf_value:.4f}\")\n"
      ],
      "metadata": {
        "colab": {
          "base_uri": "https://localhost:8080/"
        },
        "id": "HAxqKHl33Cj-",
        "outputId": "b70376bf-b0a7-4233-c260-335e75fab994"
      },
      "execution_count": 12,
      "outputs": [
        {
          "output_type": "stream",
          "name": "stdout",
          "text": [
            "CDF at x = 0: 0.0000\n",
            "CDF at x = 1: 0.7769\n",
            "CDF at x = 2: 0.9502\n",
            "CDF at x = 3: 0.9889\n",
            "CDF at x = 4: 0.9975\n"
          ]
        }
      ]
    },
    {
      "cell_type": "markdown",
      "source": [
        "10.. Write a Python function to calculate the probability mass function (PMF) of Poisson distribution."
      ],
      "metadata": {
        "id": "ZzUVcLcs3JIr"
      }
    },
    {
      "cell_type": "code",
      "source": [
        "import math\n",
        "\n",
        "def poisson_pmf(k, lambd):\n",
        "    \"\"\"\n",
        "    Calculate the Probability Mass Function (PMF) of a Poisson distribution.\n",
        "\n",
        "    :param k: The number of occurrences (random variable).\n",
        "    :param lambd: The rate parameter (lambda) of the Poisson distribution.\n",
        "    :return: The PMF value for the Poisson distribution at k.\n",
        "    \"\"\"\n",
        "    if k < 0 or lambd <= 0:\n",
        "        raise ValueError(\"k must be a non-negative integer and lambda must be positive.\")\n",
        "\n",
        "    # Calculate the PMF using the formula\n",
        "    pmf_value = (lambd**k * math.exp(-lambd)) / math.factorial(k)\n",
        "    return pmf_value\n",
        "\n",
        "# Example usage:\n",
        "lambda_value = 3  # Rate parameter (lambda)\n",
        "k_values = [0, 1, 2, 3, 4, 5]  # Number of occurrences (k)\n",
        "\n",
        "# Calculate and print the PMF for each value in k_values\n",
        "for k in k_values:\n",
        "    pmf_value = poisson_pmf(k, lambda_value)\n",
        "    print(f\"PMF at k = {k}: {pmf_value:.4f}\")\n"
      ],
      "metadata": {
        "colab": {
          "base_uri": "https://localhost:8080/"
        },
        "id": "pY-RSvQ_3MPt",
        "outputId": "ba463883-51dd-4253-d793-99e3319dc147"
      },
      "execution_count": 13,
      "outputs": [
        {
          "output_type": "stream",
          "name": "stdout",
          "text": [
            "PMF at k = 0: 0.0498\n",
            "PMF at k = 1: 0.1494\n",
            "PMF at k = 2: 0.2240\n",
            "PMF at k = 3: 0.2240\n",
            "PMF at k = 4: 0.1680\n",
            "PMF at k = 5: 0.1008\n"
          ]
        }
      ]
    },
    {
      "cell_type": "markdown",
      "source": [
        "11. A company wants to test if a new website layout leads to a higher conversion rate (percentage of visitors\n",
        "who make a purchase). They collect data from the old and new layouts to compare."
      ],
      "metadata": {
        "id": "84uRWtQe33ie"
      }
    },
    {
      "cell_type": "code",
      "source": [
        "import numpy as np\n",
        "from statsmodels.stats.proportion import proportions_ztest\n",
        "\n",
        "# Generate data\n",
        "old_layout = np.array([1] * 50 + [0] * 950)  # 50 purchases out of 1000 visitors\n",
        "new_layout = np.array([1] * 70 + [0] * 930)  # 70 purchases out of 1000 visitors\n",
        "\n",
        "# Calculate the number of successes (purchases) and the total number of trials (visitors)\n",
        "successes = np.array([np.sum(old_layout), np.sum(new_layout)])\n",
        "totals = np.array([len(old_layout), len(new_layout)])\n",
        "\n",
        "# Perform z-test for proportions\n",
        "z_stat, p_value = proportions_ztest(successes, totals, alternative='larger')\n",
        "\n",
        "# Output the results\n",
        "print(f\"Z-statistic: {z_stat:.4f}\")\n",
        "print(f\"P-value: {p_value:.4f}\")\n",
        "\n",
        "# Interpretation of the p-value\n",
        "if p_value < 0.05:\n",
        "    print(\"The new layout leads to a statistically significant higher conversion rate.\")\n",
        "else:\n",
        "    print(\"There is no statistically significant difference in conversion rates between the old and new layouts.\")\n"
      ],
      "metadata": {
        "colab": {
          "base_uri": "https://localhost:8080/"
        },
        "id": "C6cqeQaz4AHi",
        "outputId": "89341c58-1b4c-404c-e840-2146a7e9d8c0"
      },
      "execution_count": 14,
      "outputs": [
        {
          "output_type": "stream",
          "name": "stdout",
          "text": [
            "Z-statistic: -1.8831\n",
            "P-value: 0.9702\n",
            "There is no statistically significant difference in conversion rates between the old and new layouts.\n"
          ]
        }
      ]
    },
    {
      "cell_type": "markdown",
      "source": [
        "12. A tutoring service claims that its program improves students' exam scores. A sample of students who\n",
        "participated in the program was taken, and their scores before and after the program were recorded.\n",
        "\n",
        "\n",
        "Use the below code to generate samples of respective arrays of marks:\n",
        "\n",
        "```python\n",
        "\n",
        "before_program = np.array([75, 80, 85, 70, 90, 78, 92, 88, 82, 87])\n",
        "\n",
        "after_program = np.array([80, 85, 90, 80, 92, 80, 95, 90, 85, 88])\n",
        "\n",
        "```\n",
        "\n",
        "Use z-test to find if the claims made by tutor are true or false."
      ],
      "metadata": {
        "id": "fGKi1wJ-5IZr"
      }
    },
    {
      "cell_type": "code",
      "source": [
        "import numpy as np\n",
        "from scipy.stats import norm\n",
        "\n",
        "# Sample data\n",
        "before_program = np.array([75, 80, 85, 70, 90, 78, 92, 88, 82, 87])\n",
        "after_program = np.array([80, 85, 90, 80, 92, 80, 95, 90, 85, 88])\n",
        "\n",
        "# Step 1: Calculate the differences (after - before)\n",
        "differences = after_program - before_program\n",
        "\n",
        "# Step 2: Calculate the mean and standard deviation of the differences\n",
        "mean_difference = np.mean(differences)\n",
        "std_difference = np.std(differences, ddof=1)  # Sample standard deviation\n",
        "\n",
        "# Step 3: Number of paired samples\n",
        "n = len(differences)\n",
        "\n",
        "# Step 4: Calculate the z-statistic\n",
        "z_statistic = mean_difference / (std_difference / np.sqrt(n))\n",
        "\n",
        "# Step 5: Calculate the p-value (one-tailed test)\n",
        "p_value = 1 - norm.cdf(z_statistic)\n",
        "\n",
        "# Output the results\n",
        "print(f\"Z-statistic: {z_statistic:.4f}\")\n",
        "print(f\"P-value: {p_value:.4f}\")\n",
        "\n",
        "# Interpretation of the p-value\n",
        "if p_value < 0.05:\n",
        "    print(\"The tutoring program has a statistically significant effect on exam scores.\")\n",
        "else:\n",
        "    print(\"There is no statistically significant effect of the tutoring program on exam scores.\")\n"
      ],
      "metadata": {
        "colab": {
          "base_uri": "https://localhost:8080/"
        },
        "id": "vIWuDOPh5gWE",
        "outputId": "5fff4d92-6f0a-4289-8710-6785d59be0bc"
      },
      "execution_count": 15,
      "outputs": [
        {
          "output_type": "stream",
          "name": "stdout",
          "text": [
            "Z-statistic: 4.5932\n",
            "P-value: 0.0000\n",
            "The tutoring program has a statistically significant effect on exam scores.\n"
          ]
        }
      ]
    },
    {
      "cell_type": "markdown",
      "source": [
        "13.  A pharmaceutical company wants to determine if a new drug is effective in reducing blood pressure. They\n",
        "conduct a study and record blood pressure measurements before and after administering the drug.\n",
        "\n",
        "\n",
        "Use the below code to generate samples of respective arrays of blood pressure:\n",
        "\n",
        "\n",
        "```python\n",
        "\n",
        "before_drug = np.array([145, 150, 140, 135, 155, 160, 152, 148, 130, 138])\n",
        "\n",
        "after_drug = np.array([130, 140, 132, 128, 145, 148, 138, 136, 125, 130])\n",
        "\n",
        "  ```\n",
        "\n",
        "\n",
        "Implement z-test to find if the drug really works or not."
      ],
      "metadata": {
        "id": "f82B3X-F5tEQ"
      }
    },
    {
      "cell_type": "code",
      "source": [
        "import numpy as np\n",
        "from scipy.stats import norm\n",
        "\n",
        "# Sample data\n",
        "before_drug = np.array([145, 150, 140, 135, 155, 160, 152, 148, 130, 138])\n",
        "after_drug = np.array([130, 140, 132, 128, 145, 148, 138, 136, 125, 130])\n",
        "\n",
        "# Step 1: Calculate the differences (before - after)\n",
        "differences = before_drug - after_drug\n",
        "\n",
        "# Step 2: Calculate the mean and standard deviation of the differences\n",
        "mean_difference = np.mean(differences)\n",
        "std_difference = np.std(differences, ddof=1)  # Sample standard deviation\n",
        "\n",
        "# Step 3: Number of paired samples\n",
        "n = len(differences)\n",
        "\n",
        "# Step 4: Calculate the z-statistic\n",
        "z_statistic = mean_difference / (std_difference / np.sqrt(n))\n",
        "\n",
        "# Step 5: Calculate the p-value (one-tailed test)\n",
        "p_value = 1 - norm.cdf(z_statistic)\n",
        "\n",
        "# Output the results\n",
        "print(f\"Z-statistic: {z_statistic:.4f}\")\n",
        "print(f\"P-value: {p_value:.4f}\")\n",
        "\n",
        "# Interpretation of the p-value\n",
        "if p_value < 0.05:\n",
        "    print(\"The drug has a statistically significant effect in reducing blood pressure.\")\n",
        "else:\n",
        "    print(\"There is no statistically significant effect of the drug in reducing blood pressure.\")\n"
      ],
      "metadata": {
        "colab": {
          "base_uri": "https://localhost:8080/"
        },
        "id": "uZL_ms0k57iB",
        "outputId": "d2202fd9-b26c-4da2-e53d-8246bcf5168a"
      },
      "execution_count": 16,
      "outputs": [
        {
          "output_type": "stream",
          "name": "stdout",
          "text": [
            "Z-statistic: 10.0499\n",
            "P-value: 0.0000\n",
            "The drug has a statistically significant effect in reducing blood pressure.\n"
          ]
        }
      ]
    },
    {
      "cell_type": "markdown",
      "source": [
        "14.. A customer service department claims that their average response time is less than 5 minutes. A sample\n",
        "of recent customer interactions was taken, and the response times were recorded.\n",
        "\n",
        "\n",
        "Implement the below code to generate the array of response time:\n",
        "\n",
        "```python\n",
        "\n",
        "response_times = np.array([4.3, 3.8, 5.1, 4.9, 4.7, 4.2, 5.2, 4.5, 4.6, 4.4])\n",
        "\n",
        "```\n",
        "\n",
        "Implement z-test to find the claims made by customer service department are tru or false."
      ],
      "metadata": {
        "id": "BpjiU0196aAT"
      }
    },
    {
      "cell_type": "code",
      "source": [
        "import numpy as np\n",
        "from scipy.stats import norm\n",
        "\n",
        "# Sample data\n",
        "response_times = np.array([4.3, 3.8, 5.1, 4.9, 4.7, 4.2, 5.2, 4.5, 4.6, 4.4])\n",
        "\n",
        "# Population mean (claimed by customer service)\n",
        "population_mean = 5\n",
        "\n",
        "# Step 1: Calculate the sample mean and standard deviation\n",
        "sample_mean = np.mean(response_times)\n",
        "sample_std = np.std(response_times, ddof=1)  # Sample standard deviation\n",
        "n = len(response_times)\n",
        "\n",
        "# Step 2: Calculate the z-statistic\n",
        "z_statistic = (sample_mean - population_mean) / (sample_std / np.sqrt(n))\n",
        "\n",
        "# Step 3: Calculate the p-value for one-tailed test\n",
        "p_value = norm.cdf(z_statistic)  # One-tailed test\n",
        "\n",
        "# Output the results\n",
        "print(f\"Z-statistic: {z_statistic:.4f}\")\n",
        "print(f\"P-value: {p_value:.4f}\")\n",
        "\n",
        "# Interpretation of the p-value\n",
        "if p_value < 0.05:\n",
        "    print(\"The customer service department's claim is statistically significant: response times are less than 5 minutes on average.\")\n",
        "else:\n",
        "    print(\"There is no statistical evidence to support the customer service department's claim that response times are less than 5 minutes.\")\n"
      ],
      "metadata": {
        "colab": {
          "base_uri": "https://localhost:8080/"
        },
        "id": "LnCxnDd16j0E",
        "outputId": "777213cb-310c-4809-f7e9-f7549075b11e"
      },
      "execution_count": 17,
      "outputs": [
        {
          "output_type": "stream",
          "name": "stdout",
          "text": [
            "Z-statistic: -3.1845\n",
            "P-value: 0.0007\n",
            "The customer service department's claim is statistically significant: response times are less than 5 minutes on average.\n"
          ]
        }
      ]
    },
    {
      "cell_type": "markdown",
      "source": [
        "15.. A company is testing two different website layouts to see which one leads to higher click-through rates.\n",
        "Write a Python function to perform an A/B test analysis, including calculating the t-statistic, degrees of\n",
        "freedom, and p-value.\n",
        "\n",
        "\n",
        "Use the following data:\n",
        "\n",
        "```python\n",
        "\n",
        "layout_a_clicks = [28, 32, 33, 29, 31, 34, 30, 35, 36, 37]\n",
        "\n",
        "layout_b_clicks = [40, 41, 38, 42, 39, 44, 43, 41, 45, 47]"
      ],
      "metadata": {
        "id": "HTl5BgP_6-2B"
      }
    },
    {
      "cell_type": "code",
      "source": [
        "import numpy as np\n",
        "from scipy import stats\n",
        "\n",
        "# Data: Number of clicks for layouts A and B\n",
        "layout_a_clicks = [28, 32, 33, 29, 31, 34, 30, 35, 36, 37]\n",
        "layout_b_clicks = [40, 41, 38, 42, 39, 44, 43, 41, 45, 47]\n",
        "\n",
        "# Step 1: Calculate sample means and standard deviations\n",
        "mean_a = np.mean(layout_a_clicks)\n",
        "mean_b = np.mean(layout_b_clicks)\n",
        "\n",
        "std_a = np.std(layout_a_clicks, ddof=1)\n",
        "std_b = np.std(layout_b_clicks, ddof=1)\n",
        "\n",
        "n_a = len(layout_a_clicks)\n",
        "n_b = len(layout_b_clicks)\n",
        "\n",
        "# Step 2: Calculate pooled standard error (SE)\n",
        "SE = np.sqrt((std_a**2 / n_a) + (std_b**2 / n_b))\n",
        "\n",
        "# Step 3: Calculate the t-statistic\n",
        "t_statistic = (mean_a - mean_b) / SE\n",
        "\n",
        "# Step 4: Calculate degrees of freedom (using Welch's approximation)\n",
        "df = ((std_a**2 / n_a + std_b**2 / n_b)**2) / \\\n",
        "     ((std_a**2 / n_a)**2 / (n_a - 1) + (std_b**2 / n_b)**2 / (n_b - 1))\n",
        "\n",
        "# Step 5: Calculate the p-value (two-tailed test)\n",
        "p_value = 2 * (1 - stats.t.cdf(abs(t_statistic), df))  # Two-tailed test\n",
        "\n",
        "# Step 6: Output the results\n",
        "print(f\"Mean of Layout A: {mean_a:.2f}\")\n",
        "print(f\"Mean of Layout B: {mean_b:.2f}\")\n",
        "print(f\"Standard deviation of Layout A: {std_a:.2f}\")\n",
        "print(f\"Standard deviation of Layout B: {std_b:.2f}\")\n",
        "print(f\"t-statistic: {t_statistic:.4f}\")\n",
        "print(f\"Degrees of freedom: {df:.2f}\")\n",
        "print(f\"P-value: {p_value:.4f}\")\n",
        "\n",
        "# Step 7: Interpretation of results\n",
        "if p_value < 0.05:\n",
        "    print(\"There is a significant difference between the click-through rates of Layout A and Layout B.\")\n",
        "else:\n",
        "    print(\"There is no significant difference between the click-through rates of Layout A and Layout B.\")\n"
      ],
      "metadata": {
        "colab": {
          "base_uri": "https://localhost:8080/"
        },
        "id": "ialtFSlC7Crg",
        "outputId": "c6c62e80-4d8c-4de7-8ab3-fdc2fc5c90f5"
      },
      "execution_count": 18,
      "outputs": [
        {
          "output_type": "stream",
          "name": "stdout",
          "text": [
            "Mean of Layout A: 32.50\n",
            "Mean of Layout B: 42.00\n",
            "Standard deviation of Layout A: 3.03\n",
            "Standard deviation of Layout B: 2.79\n",
            "t-statistic: -7.2981\n",
            "Degrees of freedom: 17.88\n",
            "P-value: 0.0000\n",
            "There is a significant difference between the click-through rates of Layout A and Layout B.\n"
          ]
        }
      ]
    },
    {
      "cell_type": "markdown",
      "source": [
        "16.  A pharmaceutical company wants to determine if a new drug is more effective than an existing drug in\n",
        "reducing cholesterol levels. Create a program to analyze the clinical trial data and calculate the tstatistic and p-value for the treatment effect.\n",
        "\n",
        "\n",
        "Use the following data of cholestrol level:\n",
        "\n",
        "```python\n",
        "\n",
        "existing_drug_levels = [180, 182, 175, 185, 178, 176, 172, 184, 179, 183]\n",
        "\n",
        "new_drug_levels = [170, 172, 165, 168, 175, 173, 170, 178, 172, 176]"
      ],
      "metadata": {
        "id": "NJioq_qO7Ozo"
      }
    },
    {
      "cell_type": "code",
      "source": [
        "import numpy as np\n",
        "from scipy import stats\n",
        "\n",
        "# Data: Cholesterol levels for existing and new drugs\n",
        "existing_drug_levels = [180, 182, 175, 185, 178, 176, 172, 184, 179, 183]\n",
        "new_drug_levels = [170, 172, 165, 168, 175, 173, 170, 178, 172, 176]\n",
        "\n",
        "# Step 1: Calculate sample means and standard deviations\n",
        "mean_existing = np.mean(existing_drug_levels)\n",
        "mean_new = np.mean(new_drug_levels)\n",
        "\n",
        "std_existing = np.std(existing_drug_levels, ddof=1)  # Sample standard deviation\n",
        "std_new = np.std(new_drug_levels, ddof=1)  # Sample standard deviation\n",
        "\n",
        "n_existing = len(existing_drug_levels)\n",
        "n_new = len(new_drug_levels)\n",
        "\n",
        "# Step 2: Calculate pooled standard error (SE)\n",
        "SE = np.sqrt((std_existing**2 / n_existing) + (std_new**2 / n_new))\n",
        "\n",
        "# Step 3: Calculate the t-statistic\n",
        "t_statistic = (mean_existing - mean_new) / SE\n",
        "\n",
        "# Step 4: Calculate degrees of freedom (using Welch's approximation)\n",
        "df = ((std_existing**2 / n_existing + std_new**2 / n_new)**2) / \\\n",
        "     ((std_existing**2 / n_existing)**2 / (n_existing - 1) + (std_new**2 / n_new)**2 / (n_new - 1))\n",
        "\n",
        "# Step 5: Calculate the p-value (one-tailed test)\n",
        "p_value = stats.t.cdf(t_statistic, df)  # One-tailed test (since we are testing if the new drug is more effective)\n",
        "\n",
        "# Output the results\n",
        "print(f\"Mean cholesterol level (Existing Drug): {mean_existing:.2f}\")\n",
        "print(f\"Mean cholesterol level (New Drug): {mean_new:.2f}\")\n",
        "print(f\"Standard deviation (Existing Drug): {std_existing:.2f}\")\n",
        "print(f\"Standard deviation (New Drug): {std_new:.2f}\")\n",
        "print(f\"t-statistic: {t_statistic:.4f}\")\n",
        "print(f\"Degrees of freedom: {df:.2f}\")\n",
        "print(f\"P-value: {p_value:.4f}\")\n",
        "\n",
        "# Step 6: Interpretation of results\n",
        "if p_value < 0.05:\n",
        "    print(\"The new drug is statistically more effective in reducing cholesterol levels.\")\n",
        "else:\n",
        "    print(\"There is no statistically significant difference in cholesterol levels between the new and existing drugs.\")\n"
      ],
      "metadata": {
        "colab": {
          "base_uri": "https://localhost:8080/"
        },
        "id": "1S8vxfNY7a1q",
        "outputId": "a354c8e7-4e49-41da-c290-aaa9821a3749"
      },
      "execution_count": 19,
      "outputs": [
        {
          "output_type": "stream",
          "name": "stdout",
          "text": [
            "Mean cholesterol level (Existing Drug): 179.40\n",
            "Mean cholesterol level (New Drug): 171.90\n",
            "Standard deviation (Existing Drug): 4.22\n",
            "Standard deviation (New Drug): 3.87\n",
            "t-statistic: 4.1405\n",
            "Degrees of freedom: 17.87\n",
            "P-value: 0.9997\n",
            "There is no statistically significant difference in cholesterol levels between the new and existing drugs.\n"
          ]
        }
      ]
    },
    {
      "cell_type": "markdown",
      "source": [
        "17.   A school district introduces an educational intervention program to improve math scores. Write a Python\n",
        "function to analyze pre- and post-intervention test scores, calculating the t-statistic and p-value to\n",
        "determine if the intervention had a significant impact.\n",
        "\n",
        "\n",
        "Use the following data of test score:\n",
        "\n",
        "\n",
        "  ```python\n",
        "\n",
        "  pre_intervention_scores = [80, 85, 90, 75, 88, 82, 92, 78, 85, 87]\n",
        "\n",
        "  post_intervention_scores = [90, 92, 88, 92, 95, 91, 96, 93, 89, 93"
      ],
      "metadata": {
        "id": "5BFLnOO97mJu"
      }
    },
    {
      "cell_type": "code",
      "source": [
        "import numpy as np\n",
        "from scipy import stats\n",
        "\n",
        "# Data: Cholesterol levels for existing and new drugs\n",
        "existing_drug_levels = [180, 182, 175, 185, 178, 176, 172, 184, 179, 183]\n",
        "new_drug_levels = [170, 172, 165, 168, 175, 173, 170, 178, 172, 176]\n",
        "\n",
        "# Step 1: Calculate sample means and standard deviations\n",
        "mean_existing = np.mean(existing_drug_levels)\n",
        "mean_new = np.mean(new_drug_levels)\n",
        "\n",
        "std_existing = np.std(existing_drug_levels, ddof=1)  # Sample standard deviation\n",
        "std_new = np.std(new_drug_levels, ddof=1)  # Sample standard deviation\n",
        "\n",
        "n_existing = len(existing_drug_levels)\n",
        "n_new = len(new_drug_levels)\n",
        "\n",
        "# Step 2: Calculate pooled standard error (SE)\n",
        "SE = np.sqrt((std_existing**2 / n_existing) + (std_new**2 / n_new))\n",
        "\n",
        "# Step 3: Calculate the t-statistic\n",
        "t_statistic = (mean_existing - mean_new) / SE\n",
        "\n",
        "# Step 4: Calculate degrees of freedom (using Welch's approximation)\n",
        "df = ((std_existing**2 / n_existing + std_new**2 / n_new)**2) / \\\n",
        "     ((std_existing**2 / n_existing)**2 / (n_existing - 1) + (std_new**2 / n_new)**2 / (n_new - 1))\n",
        "\n",
        "# Step 5: Calculate the p-value (one-tailed test)\n",
        "p_value = stats.t.cdf(t_statistic, df)  # One-tailed test (since we are testing if the new drug is more effective)\n",
        "\n",
        "# Output the results\n",
        "print(f\"Mean cholesterol level (Existing Drug): {mean_existing:.2f}\")\n",
        "print(f\"Mean cholesterol level (New Drug): {mean_new:.2f}\")\n",
        "print(f\"Standard deviation (Existing Drug): {std_existing:.2f}\")\n",
        "print(f\"Standard deviation (New Drug): {std_new:.2f}\")\n",
        "print(f\"t-statistic: {t_statistic:.4f}\")\n",
        "print(f\"Degrees of freedom: {df:.2f}\")\n",
        "print(f\"P-value: {p_value:.4f}\")\n",
        "\n",
        "# Step 6: Interpretation of results\n",
        "if p_value < 0.05:\n",
        "    print(\"The new drug is statistically more effective in reducing cholesterol levels.\")\n",
        "else:\n",
        "    print(\"There is no statistically significant difference in cholesterol levels between the new and existing drugs.\")\n"
      ],
      "metadata": {
        "colab": {
          "base_uri": "https://localhost:8080/"
        },
        "id": "UZoAkx1v7vx_",
        "outputId": "9eca60df-b9b8-41cf-ebd5-8cb3cfea780a"
      },
      "execution_count": 20,
      "outputs": [
        {
          "output_type": "stream",
          "name": "stdout",
          "text": [
            "Mean cholesterol level (Existing Drug): 179.40\n",
            "Mean cholesterol level (New Drug): 171.90\n",
            "Standard deviation (Existing Drug): 4.22\n",
            "Standard deviation (New Drug): 3.87\n",
            "t-statistic: 4.1405\n",
            "Degrees of freedom: 17.87\n",
            "P-value: 0.9997\n",
            "There is no statistically significant difference in cholesterol levels between the new and existing drugs.\n"
          ]
        }
      ]
    },
    {
      "cell_type": "markdown",
      "source": [
        "18.   An HR department wants to investigate if there's a gender-based salary gap within the company. Develop\n",
        "a program to analyze salary data, calculate the t-statistic, and determine if there's a statistically\n",
        "significant difference between the average salaries of male and female employees.\n",
        "\n",
        "\n",
        "Use the below code to generate synthetic data:\n",
        "\n",
        "\n",
        "```python\n",
        "\n",
        "# Generate synthetic salary data for male and female employees\n",
        "\n",
        "np.random.seed(0)  # For reproducibility\n",
        "\n",
        "male_salaries = np.random.normal(loc=50000, scale=10000, size=20)\n",
        "\n",
        "female_salaries = np.random.normal(loc=55000, scale=9000, size=20)"
      ],
      "metadata": {
        "id": "RjSgY8cD8GYs"
      }
    },
    {
      "cell_type": "code",
      "source": [
        "import numpy as np\n",
        "from scipy import stats\n",
        "\n",
        "# Generate synthetic salary data for male and female employees\n",
        "np.random.seed(0)  # For reproducibility\n",
        "\n",
        "male_salaries = np.random.normal(loc=50000, scale=10000, size=20)\n",
        "female_salaries = np.random.normal(loc=55000, scale=9000, size=20)\n",
        "\n",
        "# Step 1: Calculate sample means and standard deviations\n",
        "mean_male = np.mean(male_salaries)\n",
        "mean_female = np.mean(female_salaries)\n",
        "\n",
        "std_male = np.std(male_salaries, ddof=1)  # Sample standard deviation\n",
        "std_female = np.std(female_salaries, ddof=1)  # Sample standard deviation\n",
        "\n",
        "n_male = len(male_salaries)\n",
        "n_female = len(female_salaries)\n",
        "\n",
        "# Step 2: Calculate pooled standard error (SE)\n",
        "SE = np.sqrt((std_male**2 / n_male) + (std_female**2 / n_female))\n",
        "\n",
        "# Step 3: Calculate the t-statistic\n",
        "t_statistic = (mean_male - mean_female) / SE\n",
        "\n",
        "# Step 4: Calculate degrees of freedom (using Welch's approximation)\n",
        "df = ((std_male**2 / n_male + std_female**2 / n_female)**2) / \\\n",
        "     ((std_male**2 / n_male)**2 / (n_male - 1) + (std_female**2 / n_female)**2 / (n_female - 1))\n",
        "\n",
        "# Step 5: Calculate the p-value (two-tailed test)\n",
        "p_value = 2 * (1 - stats.t.cdf(abs(t_statistic), df))  # Two-tailed test\n",
        "\n",
        "# Output the results\n",
        "print(f\"Mean salary (Male): {mean_male:.2f}\")\n",
        "print(f\"Mean salary (Female): {mean_female:.2f}\")\n",
        "print(f\"Standard deviation (Male): {std_male:.2f}\")\n",
        "print(f\"Standard deviation (Female): {std_female:.2f}\")\n",
        "print(f\"t-statistic: {t_statistic:.4f}\")\n",
        "print(f\"Degrees of freedom: {df:.2f}\")\n",
        "print(f\"P-value: {p_value:.4f}\")\n",
        "\n",
        "# Step 6: Interpretation of results\n",
        "if p_value < 0.05:\n",
        "    print(\"There is a statistically significant difference in the average salaries of male and female employees.\")\n",
        "else:\n",
        "    print(\"There is no statistically significant difference in the average salaries of male and female employees.\")\n"
      ],
      "metadata": {
        "colab": {
          "base_uri": "https://localhost:8080/"
        },
        "id": "qbaPBiVJ8Mju",
        "outputId": "105ab494-14cf-4a47-ef1c-0e217d65dfee"
      },
      "execution_count": 21,
      "outputs": [
        {
          "output_type": "stream",
          "name": "stdout",
          "text": [
            "Mean salary (Male): 55693.35\n",
            "Mean salary (Female): 55501.75\n",
            "Standard deviation (Male): 8722.69\n",
            "Standard deviation (Female): 10968.10\n",
            "t-statistic: 0.0611\n",
            "Degrees of freedom: 36.17\n",
            "P-value: 0.9516\n",
            "There is no statistically significant difference in the average salaries of male and female employees.\n"
          ]
        }
      ]
    },
    {
      "cell_type": "markdown",
      "source": [
        "19.   A manufacturer produces two different versions of a product and wants to compare their quality scores.\n",
        "Create a Python function to analyze quality assessment data, calculate the t-statistic, and decide\n",
        "whether there's a significant difference in quality between the two versions.\n",
        "\n",
        "\n",
        "Use the following data:\n",
        "\n",
        "\n",
        "```python\n",
        "\n",
        "version1_scores = [85, 88, 82, 89, 87, 84, 90, 88, 85, 86, 91, 83, 87, 84, 89, 86, 84, 88, 85, 86, 89, 90, 87, 88, 85]\n",
        "\n",
        "version2_scores = [80, 78, 83, 81, 79, 82, 76, 80, 78, 81, 77, 82, 80, 79, 82, 79, 80, 81, 79, 82, 79, 78, 80, 81, 82]"
      ],
      "metadata": {
        "id": "tN9Dj53l8bE6"
      }
    },
    {
      "cell_type": "code",
      "source": [
        "import numpy as np\n",
        "from scipy import stats\n",
        "\n",
        "# Data: Quality scores for Version 1 and Version 2\n",
        "version1_scores = [85, 88, 82, 89, 87, 84, 90, 88, 85, 86, 91, 83, 87, 84, 89, 86, 84, 88, 85, 86, 89, 90, 87, 88, 85]\n",
        "version2_scores = [80, 78, 83, 81, 79, 82, 76, 80, 78, 81, 77, 82, 80, 79, 82, 79, 80, 81, 79, 82, 79, 78, 80, 81, 82]\n",
        "\n",
        "# Step 1: Calculate sample means and standard deviations\n",
        "mean_version1 = np.mean(version1_scores)\n",
        "mean_version2 = np.mean(version2_scores)\n",
        "\n",
        "std_version1 = np.std(version1_scores, ddof=1)  # Sample standard deviation\n",
        "std_version2 = np.std(version2_scores, ddof=1)  # Sample standard deviation\n",
        "\n",
        "n_version1 = len(version1_scores)\n",
        "n_version2 = len(version2_scores)\n",
        "\n",
        "# Step 2: Calculate pooled standard error (SE)\n",
        "SE = np.sqrt((std_version1**2 / n_version1) + (std_version2**2 / n_version2))\n",
        "\n",
        "# Step 3: Calculate the t-statistic\n",
        "t_statistic = (mean_version1 - mean_version2) / SE\n",
        "\n",
        "# Step 4: Calculate degrees of freedom (using Welch's approximation)\n",
        "df = ((std_version1**2 / n_version1 + std_version2**2 / n_version2)**2) / \\\n",
        "     ((std_version1**2 / n_version1)**2 / (n_version1 - 1) + (std_version2**2 / n_version2)**2 / (n_version2 - 1))\n",
        "\n",
        "# Step 5: Calculate the p-value (two-tailed test)\n",
        "p_value = 2 * (1 - stats.t.cdf(abs(t_statistic), df))  # Two-tailed test\n",
        "\n",
        "# Output the results\n",
        "print(f\"Mean score (Version 1): {mean_version1:.2f}\")\n",
        "print(f\"Mean score (Version 2): {mean_version2:.2f}\")\n",
        "print(f\"Standard deviation (Version 1): {std_version1:.2f}\")\n",
        "print(f\"Standard deviation (Version 2): {std_version2:.2f}\")\n",
        "print(f\"t-statistic: {t_statistic:.4f}\")\n",
        "print(f\"Degrees of freedom: {df:.2f}\")\n",
        "print(f\"P-value: {p_value:.4f}\")\n",
        "\n",
        "# Step 6: Interpretation of results\n",
        "if p_value < 0.05:\n",
        "    print(\"There is a statistically significant difference in the quality scores between the two versions.\")\n",
        "else:\n",
        "    print(\"There is no statistically significant difference in the quality scores between the two versions.\")\n"
      ],
      "metadata": {
        "colab": {
          "base_uri": "https://localhost:8080/"
        },
        "id": "F78CDE1T8iL-",
        "outputId": "b635f2a6-275c-400f-e95d-21554b0ff4c5"
      },
      "execution_count": 22,
      "outputs": [
        {
          "output_type": "stream",
          "name": "stdout",
          "text": [
            "Mean score (Version 1): 86.64\n",
            "Mean score (Version 2): 79.96\n",
            "Standard deviation (Version 1): 2.36\n",
            "Standard deviation (Version 2): 1.77\n",
            "t-statistic: 11.3258\n",
            "Degrees of freedom: 44.47\n",
            "P-value: 0.0000\n",
            "There is a statistically significant difference in the quality scores between the two versions.\n"
          ]
        }
      ]
    },
    {
      "cell_type": "markdown",
      "source": [
        " 20. A restaurant chain collects customer satisfaction scores for two different branches. Write a program to\n",
        "analyze the scores, calculate the t-statistic, and determine if there's a statistically significant difference in\n",
        "customer satisfaction between the branches.\n",
        "\n",
        "\n",
        "Use the below data of scores:\n",
        "\n",
        "  ```python\n",
        "\n",
        "branch_a_scores = [4, 5, 3, 4, 5, 4, 5, 3, 4, 4, 5, 4, 4, 3, 4, 5, 5, 4, 3, 4, 5, 4, 3, 5, 4, 4, 5, 3, 4, 5, 4]\n",
        "\n",
        "branch_b_scores = [3, 4, 2, 3, 4, 3, 4, 2, 3, 3, 4, 3, 3, 2, 3, 4, 4, 3, 2, 3, 4, 3, 2, 4, 3, 3, 4, 2, 3, 4, 3]"
      ],
      "metadata": {
        "id": "5amnQMtf8rdT"
      }
    },
    {
      "cell_type": "code",
      "source": [
        "import numpy as np\n",
        "from scipy import stats\n",
        "\n",
        "# Data: Customer satisfaction scores for Branch A and Branch B\n",
        "branch_a_scores = [4, 5, 3, 4, 5, 4, 5, 3, 4, 4, 5, 4, 4, 3, 4, 5, 5, 4, 3, 4, 5, 4, 3, 5, 4, 4, 5, 3, 4, 5, 4]\n",
        "branch_b_scores = [3, 4, 2, 3, 4, 3, 4, 2, 3, 3, 4, 3, 3, 2, 3, 4, 4, 3, 2, 3, 4, 3, 2, 4, 3, 3, 4, 2, 3, 4, 3]\n",
        "\n",
        "# Step 1: Calculate sample means and standard deviations\n",
        "mean_a = np.mean(branch_a_scores)\n",
        "mean_b = np.mean(branch_b_scores)\n",
        "\n",
        "std_a = np.std(branch_a_scores, ddof=1)  # Sample standard deviation for Branch A\n",
        "std_b = np.std(branch_b_scores, ddof=1)  # Sample standard deviation for Branch B\n",
        "\n",
        "n_a = len(branch_a_scores)\n",
        "n_b = len(branch_b_scores)\n",
        "\n",
        "# Step 2: Calculate pooled standard error (SE)\n",
        "SE = np.sqrt((std_a**2 / n_a) + (std_b**2 / n_b))\n",
        "\n",
        "# Step 3: Calculate the t-statistic\n",
        "t_statistic = (mean_a - mean_b) / SE\n",
        "\n",
        "# Step 4: Calculate degrees of freedom (using Welch's approximation)\n",
        "df = ((std_a**2 / n_a + std_b**2 / n_b)**2) / \\\n",
        "     ((std_a**2 / n_a)**2 / (n_a - 1) + (std_b**2 / n_b)**2 / (n_b - 1))\n",
        "\n",
        "# Step 5: Calculate the p-value (two-tailed test)\n",
        "p_value = 2 * (1 - stats.t.cdf(abs(t_statistic), df))  # Two-tailed test\n",
        "\n",
        "# Output the results\n",
        "print(f\"Mean score (Branch A): {mean_a:.2f}\")\n",
        "print(f\"Mean score (Branch B): {mean_b:.2f}\")\n",
        "print(f\"Standard deviation (Branch A): {std_a:.2f}\")\n",
        "print(f\"Standard deviation (Branch B): {std_b:.2f}\")\n",
        "print(f\"t-statistic: {t_statistic:.4f}\")\n",
        "print(f\"Degrees of freedom: {df:.2f}\")\n",
        "print(f\"P-value: {p_value:.4f}\")\n",
        "\n",
        "# Step 6: Interpretation of results\n",
        "if p_value < 0.05:\n",
        "    print(\"There is a statistically significant difference in customer satisfaction between Branch A and Branch B.\")\n",
        "else:\n",
        "    print(\"There is no statistically significant difference in customer satisfaction between Branch A and Branch B.\")\n"
      ],
      "metadata": {
        "colab": {
          "base_uri": "https://localhost:8080/"
        },
        "id": "MshdZolS8s6E",
        "outputId": "391f0c2c-b3ed-4b1c-faf4-8eed8859489b"
      },
      "execution_count": 23,
      "outputs": [
        {
          "output_type": "stream",
          "name": "stdout",
          "text": [
            "Mean score (Branch A): 4.13\n",
            "Mean score (Branch B): 3.13\n",
            "Standard deviation (Branch A): 0.72\n",
            "Standard deviation (Branch B): 0.72\n",
            "t-statistic: 5.4801\n",
            "Degrees of freedom: 60.00\n",
            "P-value: 0.0000\n",
            "There is a statistically significant difference in customer satisfaction between Branch A and Branch B.\n"
          ]
        }
      ]
    },
    {
      "cell_type": "markdown",
      "source": [
        "21..A political analyst wants to determine if there is a significant association between age groups and voter\n",
        "preferences (Candidate A or Candidate B). They collect data from a sample of 500 voters and classify\n",
        "them into different age groups and candidate preferences. Perform a Chi-Square test to determine if\n",
        "there is a significant association between age groups and voter preferences.\n",
        "\n",
        "\n",
        "Use the below code to generate data:\n",
        "\n",
        "```python\n",
        "\n",
        "np.random.seed(0)\n",
        "\n",
        "age_groups = np.random.choice([ 18 30 , 31 50 , 51+', 51+'], size=30)\n",
        "\n",
        "voter_preferences = np.random.choice(['Candidate A', 'Candidate B'], size=30)"
      ],
      "metadata": {
        "id": "xgTKaozg87xf"
      }
    },
    {
      "cell_type": "code",
      "source": [
        "import numpy as np\n",
        "import pandas as pd\n",
        "from scipy.stats import chi2_contingency\n",
        "\n",
        "# Step 1: Generate synthetic data\n",
        "np.random.seed(0)\n",
        "\n",
        "# Simulating 30 voters with age groups and preferences\n",
        "age_groups = np.random.choice(['18-30', '31-50', '51+'], size=30)\n",
        "voter_preferences = np.random.choice(['Candidate A', 'Candidate B'], size=30)\n",
        "\n",
        "# Step 2: Create a contingency table\n",
        "data = pd.crosstab(age_groups, voter_preferences, margins=False)\n",
        "\n",
        "# Step 3: Perform the Chi-Square test of independence\n",
        "chi2, p_value, dof, expected = chi2_contingency(data)\n",
        "\n",
        "# Step 4: Output the results\n",
        "print(\"Contingency Table:\")\n",
        "print(data)\n",
        "print(\"\\nChi-Square Statistic:\", chi2)\n",
        "print(\"Degrees of Freedom:\", dof)\n",
        "print(\"Expected Frequencies Table:\")\n",
        "print(expected)\n",
        "print(\"P-value:\", p_value)\n",
        "\n",
        "# Step 5: Interpretation of results\n",
        "if p_value < 0.05:\n",
        "    print(\"\\nThere is a significant association between age groups and voter preferences.\")\n",
        "else:\n",
        "    print(\"\\nThere is no significant association between age groups and voter preferences.\")\n"
      ],
      "metadata": {
        "colab": {
          "base_uri": "https://localhost:8080/"
        },
        "id": "4g6SyMw98-83",
        "outputId": "6976954c-5dc9-4476-f5b0-422c5cde2a0a"
      },
      "execution_count": 24,
      "outputs": [
        {
          "output_type": "stream",
          "name": "stdout",
          "text": [
            "Contingency Table:\n",
            "col_0  Candidate A  Candidate B\n",
            "row_0                          \n",
            "18-30            4            8\n",
            "31-50            6            5\n",
            "51+              4            3\n",
            "\n",
            "Chi-Square Statistic: 1.4401669758812612\n",
            "Degrees of Freedom: 2\n",
            "Expected Frequencies Table:\n",
            "[[5.6        6.4       ]\n",
            " [5.13333333 5.86666667]\n",
            " [3.26666667 3.73333333]]\n",
            "P-value: 0.48671161971286614\n",
            "\n",
            "There is no significant association between age groups and voter preferences.\n"
          ]
        }
      ]
    },
    {
      "cell_type": "markdown",
      "source": [
        " 22. A company conducted a customer satisfaction survey to determine if there is a significant relationship\n",
        "between product satisfaction levels (Satisfied, Neutral, Dissatisfied) and the region where customers are\n",
        "located (East, West, North, South). The survey data is summarized in a contingency table. Conduct a ChiSquare test to determine if there is a significant relationship between product satisfaction levels and\n",
        "customer regions.\n",
        "\n",
        "\n",
        "Sample data:\n",
        "\n",
        "```python\n",
        "\n",
        "#Sample data: Product satisfaction levels (rows) vs. Customer regions (columns)\n",
        "\n",
        "data = np.array([[50, 30, 40, 20], [30, 40, 30, 50], [20, 30, 40, 30]])"
      ],
      "metadata": {
        "id": "wW5_Pki_9WsY"
      }
    },
    {
      "cell_type": "code",
      "source": [
        "import numpy as np\n",
        "from scipy.stats import chi2_contingency\n",
        "\n",
        "# Sample data: Product satisfaction levels (rows) vs. Customer regions (columns)\n",
        "# Rows represent satisfaction levels: Satisfied, Neutral, Dissatisfied\n",
        "# Columns represent customer regions: East, West, North, South\n",
        "data = np.array([[50, 30, 40, 20], [30, 40, 30, 50], [20, 30, 40, 30]])\n",
        "\n",
        "# Step 1: Perform the Chi-Square test of independence\n",
        "chi2_stat, p_value, dof, expected = chi2_contingency(data)\n",
        "\n",
        "# Step 2: Output the results\n",
        "print(\"Observed Data:\")\n",
        "print(data)\n",
        "print(\"\\nChi-Square Statistic:\", chi2_stat)\n",
        "print(\"Degrees of Freedom:\", dof)\n",
        "print(\"Expected Frequencies Table:\")\n",
        "print(expected)\n",
        "print(\"P-value:\", p_value)\n",
        "\n",
        "# Step 3: Interpretation of results\n",
        "if p_value < 0.05:\n",
        "    print(\"\\nThere is a significant relationship between product satisfaction levels and customer regions.\")\n",
        "else:\n",
        "    print(\"\\nThere is no significant relationship between product satisfaction levels and customer regions.\")\n"
      ],
      "metadata": {
        "colab": {
          "base_uri": "https://localhost:8080/"
        },
        "id": "VtaHCXh29YTw",
        "outputId": "12b744e9-f480-4cb2-f615-554a4f67f238"
      },
      "execution_count": 25,
      "outputs": [
        {
          "output_type": "stream",
          "name": "stdout",
          "text": [
            "Observed Data:\n",
            "[[50 30 40 20]\n",
            " [30 40 30 50]\n",
            " [20 30 40 30]]\n",
            "\n",
            "Chi-Square Statistic: 27.777056277056275\n",
            "Degrees of Freedom: 6\n",
            "Expected Frequencies Table:\n",
            "[[34.14634146 34.14634146 37.56097561 34.14634146]\n",
            " [36.58536585 36.58536585 40.24390244 36.58536585]\n",
            " [29.26829268 29.26829268 32.19512195 29.26829268]]\n",
            "P-value: 0.00010349448486004387\n",
            "\n",
            "There is a significant relationship between product satisfaction levels and customer regions.\n"
          ]
        }
      ]
    },
    {
      "cell_type": "markdown",
      "source": [
        " 23. A company implemented an employee training program to improve job performance (Effective, Neutral,\n",
        "Ineffective). After the training, they collected data from a sample of employees and classified them based\n",
        "on their job performance before and after the training. Perform a Chi-Square test to determine if there is a\n",
        "significant difference between job performance levels before and after the training.\n",
        "\n",
        "\n",
        "Sample data:\n",
        "\n",
        "```python\n",
        "\n",
        "# Sample data: Job performance levels before (rows) and after (columns) training\n",
        "\n",
        "data = np.array([[50, 30, 20], [30, 40, 30], [20, 30, 40]])"
      ],
      "metadata": {
        "id": "aYJxVVCM9juf"
      }
    },
    {
      "cell_type": "code",
      "source": [
        "import numpy as np\n",
        "from scipy.stats import chi2_contingency\n",
        "\n",
        "# Sample data: Job performance levels before (rows) and after (columns) training\n",
        "# Rows: Before training (Effective, Neutral, Ineffective)\n",
        "# Columns: After training (Effective, Neutral, Ineffective)\n",
        "data = np.array([[50, 30, 20], [30, 40, 30], [20, 30, 40]])\n",
        "\n",
        "# Step 1: Perform the Chi-Square test of independence\n",
        "chi2_stat, p_value, dof, expected = chi2_contingency(data)\n",
        "\n",
        "# Step 2: Output the results\n",
        "print(\"Observed Data:\")\n",
        "print(data)\n",
        "print(\"\\nChi-Square Statistic:\", chi2_stat)\n",
        "print(\"Degrees of Freedom:\", dof)\n",
        "print(\"Expected Frequencies Table:\")\n",
        "print(expected)\n",
        "print(\"P-value:\", p_value)\n",
        "\n",
        "# Step 3: Interpretation of results\n",
        "if p_value < 0.05:\n",
        "    print(\"\\nThere is a significant difference in job performance levels before and after training.\")\n",
        "else:\n",
        "    print(\"\\nThere is no significant difference in job performance levels before and after training.\")\n"
      ],
      "metadata": {
        "colab": {
          "base_uri": "https://localhost:8080/"
        },
        "id": "UOWMTcC-98eR",
        "outputId": "a59ecd32-2ca4-46b5-bb1e-97e3ba11b33d"
      },
      "execution_count": 26,
      "outputs": [
        {
          "output_type": "stream",
          "name": "stdout",
          "text": [
            "Observed Data:\n",
            "[[50 30 20]\n",
            " [30 40 30]\n",
            " [20 30 40]]\n",
            "\n",
            "Chi-Square Statistic: 22.161728395061726\n",
            "Degrees of Freedom: 4\n",
            "Expected Frequencies Table:\n",
            "[[34.48275862 34.48275862 31.03448276]\n",
            " [34.48275862 34.48275862 31.03448276]\n",
            " [31.03448276 31.03448276 27.93103448]]\n",
            "P-value: 0.00018609719479882557\n",
            "\n",
            "There is a significant difference in job performance levels before and after training.\n"
          ]
        }
      ]
    },
    {
      "cell_type": "markdown",
      "source": [
        " 24. A company produces three different versions of a product: Standard, Premium, and Deluxe. The\n",
        "company wants to determine if there is a significant difference in customer satisfaction scores among the\n",
        "three product versions. They conducted a survey and collected customer satisfaction scores for each\n",
        "version from a random sample of customers. Perform an ANOVA test to determine if there is a significant\n",
        "difference in customer satisfaction scores.\n",
        "\n",
        "\n",
        "  Use the following data:\n",
        "\n",
        "  ```python\n",
        "\n",
        "  # Sample data: Customer satisfaction scores for each product version\n",
        "\n",
        "  standard_scores = [80, 85, 90, 78, 88, 82, 92, 78, 85, 87]\n",
        "\n",
        "  premium_scores = [90, 92, 88, 92, 95, 91, 96, 93, 89, 93]\n",
        "\n",
        "  deluxe_scores = [95, 98, 92, 97, 96, 94, 98, 97, 92, 99]"
      ],
      "metadata": {
        "id": "D1N-CbGm-Lmg"
      }
    },
    {
      "cell_type": "code",
      "source": [
        "import numpy as np\n",
        "from scipy.stats import f_oneway\n",
        "\n",
        "# Sample data: Customer satisfaction scores for each product version\n",
        "standard_scores = [80, 85, 90, 78, 88, 82, 92, 78, 85, 87]\n",
        "premium_scores = [90, 92, 88, 92, 95, 91, 96, 93, 89, 93]\n",
        "deluxe_scores = [95, 98, 92, 97, 96, 94, 98, 97, 92, 99]\n",
        "\n",
        "# Step 1: Perform the One-Way ANOVA test\n",
        "f_stat, p_value = f_oneway(standard_scores, premium_scores, deluxe_scores)\n",
        "\n",
        "# Step 2: Output the results\n",
        "print(\"F-statistic:\", f_stat)\n",
        "print(\"P-value:\", p_value)\n",
        "\n",
        "# Step 3: Interpretation of results\n",
        "if p_value < 0.05:\n",
        "    print(\"\\nThere is a significant difference in customer satisfaction scores among the product versions.\")\n",
        "else:\n",
        "    print(\"\\nThere is no significant difference in customer satisfaction scores among the product versions.\")\n"
      ],
      "metadata": {
        "colab": {
          "base_uri": "https://localhost:8080/"
        },
        "id": "wextT5O4-NEz",
        "outputId": "719ccaa3-d3e0-46a2-ae7f-71614985b06b"
      },
      "execution_count": 27,
      "outputs": [
        {
          "output_type": "stream",
          "name": "stdout",
          "text": [
            "F-statistic: 27.03556231003039\n",
            "P-value: 3.5786328857349003e-07\n",
            "\n",
            "There is a significant difference in customer satisfaction scores among the product versions.\n"
          ]
        }
      ]
    }
  ]
}