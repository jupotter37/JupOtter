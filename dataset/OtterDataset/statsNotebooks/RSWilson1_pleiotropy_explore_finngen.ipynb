{
 "cells": [
  {
   "cell_type": "code",
   "execution_count": 1,
   "metadata": {},
   "outputs": [
    {
     "data": {
      "text/html": [
       "    <style>\n",
       "        .bk-notebook-logo {\n",
       "            display: block;\n",
       "            width: 20px;\n",
       "            height: 20px;\n",
       "            background-image: url(data:image/png;base64,iVBORw0KGgoAAAANSUhEUgAAABQAAAAUCAYAAACNiR0NAAAABHNCSVQICAgIfAhkiAAAAAlwSFlzAAALEgAACxIB0t1+/AAAABx0RVh0U29mdHdhcmUAQWRvYmUgRmlyZXdvcmtzIENTNui8sowAAAOkSURBVDiNjZRtaJVlGMd/1/08zzln5zjP1LWcU9N0NkN8m2CYjpgQYQXqSs0I84OLIC0hkEKoPtiH3gmKoiJDU7QpLgoLjLIQCpEsNJ1vqUOdO7ppbuec5+V+rj4ctwzd8IIbbi6u+8f1539dt3A78eXC7QizUF7gyV1fD1Yqg4JWz84yffhm0qkFqBogB9rM8tZdtwVsPUhWhGcFJngGeWrPzHm5oaMmkfEg1usvLFyc8jLRqDOMru7AyC8saQr7GG7f5fvDeH7Ej8CM66nIF+8yngt6HWaKh7k49Soy9nXurCi1o3qUbS3zWfrYeQDTB/Qj6kX6Ybhw4B+bOYoLKCC9H3Nu/leUTZ1JdRWkkn2ldcCamzrcf47KKXdAJllSlxAOkRgyHsGC/zRday5Qld9DyoM4/q/rUoy/CXh3jzOu3bHUVZeU+DEn8FInkPBFlu3+nW3Nw0mk6vCDiWg8CeJaxEwuHS3+z5RgY+YBR6V1Z1nxSOfoaPa4LASWxxdNp+VWTk7+4vzaou8v8PN+xo+KY2xsw6une2frhw05CTYOmQvsEhjhWjn0bmXPjpE1+kplmmkP3suftwTubK9Vq22qKmrBhpY4jvd5afdRA3wGjFAgcnTK2s4hY0/GPNIb0nErGMCRxWOOX64Z8RAC4oCXdklmEvcL8o0BfkNK4lUg9HTl+oPlQxdNo3Mg4Nv175e/1LDGzZen30MEjRUtmXSfiTVu1kK8W4txyV6BMKlbgk3lMwYCiusNy9fVfvvwMxv8Ynl6vxoByANLTWplvuj/nF9m2+PDtt1eiHPBr1oIfhCChQMBw6Aw0UulqTKZdfVvfG7VcfIqLG9bcldL/+pdWTLxLUy8Qq38heUIjh4XlzZxzQm19lLFlr8vdQ97rjZVOLf8nclzckbcD4wxXMidpX30sFd37Fv/GtwwhzhxGVAprjbg0gCAEeIgwCZyTV2Z1REEW8O4py0wsjeloKoMr6iCY6dP92H6Vw/oTyICIthibxjm/DfN9lVz8IqtqKYLUXfoKVMVQVVJOElGjrnnUt9T9wbgp8AyYKaGlqingHZU/uG2NTZSVqwHQTWkx9hxjkpWDaCg6Ckj5qebgBVbT3V3NNXMSiWSDdGV3hrtzla7J+duwPOToIg42ChPQOQjspnSlp1V+Gjdged7+8UN5CRAV7a5EdFNwCjEaBR27b3W890TE7g24NAP/mMDXRWrGoFPQI9ls/MWO2dWFAar/xcOIImbbpA3zgAAAABJRU5ErkJggg==);\n",
       "        }\n",
       "    </style>\n",
       "    <div>\n",
       "        <a href=\"https://bokeh.org\" target=\"_blank\" class=\"bk-notebook-logo\"></a>\n",
       "        <span id=\"ef8f553e-9814-414d-8339-30f7c54b19f5\">Loading BokehJS ...</span>\n",
       "    </div>\n"
      ]
     },
     "metadata": {},
     "output_type": "display_data"
    },
    {
     "data": {
      "application/javascript": "'use strict';\n(function(root) {\n  function now() {\n    return new Date();\n  }\n\n  const force = true;\n\n  if (typeof root._bokeh_onload_callbacks === \"undefined\" || force === true) {\n    root._bokeh_onload_callbacks = [];\n    root._bokeh_is_loading = undefined;\n  }\n\nconst JS_MIME_TYPE = 'application/javascript';\n  const HTML_MIME_TYPE = 'text/html';\n  const EXEC_MIME_TYPE = 'application/vnd.bokehjs_exec.v0+json';\n  const CLASS_NAME = 'output_bokeh rendered_html';\n\n  /**\n   * Render data to the DOM node\n   */\n  function render(props, node) {\n    const script = document.createElement(\"script\");\n    node.appendChild(script);\n  }\n\n  /**\n   * Handle when an output is cleared or removed\n   */\n  function handleClearOutput(event, handle) {\n    function drop(id) {\n      const view = Bokeh.index.get_by_id(id)\n      if (view != null) {\n        view.model.document.clear()\n        Bokeh.index.delete(view)\n      }\n    }\n\n    const cell = handle.cell;\n\n    const id = cell.output_area._bokeh_element_id;\n    const server_id = cell.output_area._bokeh_server_id;\n\n    // Clean up Bokeh references\n    if (id != null) {\n      drop(id)\n    }\n\n    if (server_id !== undefined) {\n      // Clean up Bokeh references\n      const cmd_clean = \"from bokeh.io.state import curstate; print(curstate().uuid_to_server['\" + server_id + \"'].get_sessions()[0].document.roots[0]._id)\";\n      cell.notebook.kernel.execute(cmd_clean, {\n        iopub: {\n          output: function(msg) {\n            const id = msg.content.text.trim()\n            drop(id)\n          }\n        }\n      });\n      // Destroy server and session\n      const cmd_destroy = \"import bokeh.io.notebook as ion; ion.destroy_server('\" + server_id + \"')\";\n      cell.notebook.kernel.execute(cmd_destroy);\n    }\n  }\n\n  /**\n   * Handle when a new output is added\n   */\n  function handleAddOutput(event, handle) {\n    const output_area = handle.output_area;\n    const output = handle.output;\n\n    // limit handleAddOutput to display_data with EXEC_MIME_TYPE content only\n    if ((output.output_type != \"display_data\") || (!Object.prototype.hasOwnProperty.call(output.data, EXEC_MIME_TYPE))) {\n      return\n    }\n\n    const toinsert = output_area.element.find(\".\" + CLASS_NAME.split(' ')[0]);\n\n    if (output.metadata[EXEC_MIME_TYPE][\"id\"] !== undefined) {\n      toinsert[toinsert.length - 1].firstChild.textContent = output.data[JS_MIME_TYPE];\n      // store reference to embed id on output_area\n      output_area._bokeh_element_id = output.metadata[EXEC_MIME_TYPE][\"id\"];\n    }\n    if (output.metadata[EXEC_MIME_TYPE][\"server_id\"] !== undefined) {\n      const bk_div = document.createElement(\"div\");\n      bk_div.innerHTML = output.data[HTML_MIME_TYPE];\n      const script_attrs = bk_div.children[0].attributes;\n      for (let i = 0; i < script_attrs.length; i++) {\n        toinsert[toinsert.length - 1].firstChild.setAttribute(script_attrs[i].name, script_attrs[i].value);\n        toinsert[toinsert.length - 1].firstChild.textContent = bk_div.children[0].textContent\n      }\n      // store reference to server id on output_area\n      output_area._bokeh_server_id = output.metadata[EXEC_MIME_TYPE][\"server_id\"];\n    }\n  }\n\n  function register_renderer(events, OutputArea) {\n\n    function append_mime(data, metadata, element) {\n      // create a DOM node to render to\n      const toinsert = this.create_output_subarea(\n        metadata,\n        CLASS_NAME,\n        EXEC_MIME_TYPE\n      );\n      this.keyboard_manager.register_events(toinsert);\n      // Render to node\n      const props = {data: data, metadata: metadata[EXEC_MIME_TYPE]};\n      render(props, toinsert[toinsert.length - 1]);\n      element.append(toinsert);\n      return toinsert\n    }\n\n    /* Handle when an output is cleared or removed */\n    events.on('clear_output.CodeCell', handleClearOutput);\n    events.on('delete.Cell', handleClearOutput);\n\n    /* Handle when a new output is added */\n    events.on('output_added.OutputArea', handleAddOutput);\n\n    /**\n     * Register the mime type and append_mime function with output_area\n     */\n    OutputArea.prototype.register_mime_type(EXEC_MIME_TYPE, append_mime, {\n      /* Is output safe? */\n      safe: true,\n      /* Index of renderer in `output_area.display_order` */\n      index: 0\n    });\n  }\n\n  // register the mime type if in Jupyter Notebook environment and previously unregistered\n  if (root.Jupyter !== undefined) {\n    const events = require('base/js/events');\n    const OutputArea = require('notebook/js/outputarea').OutputArea;\n\n    if (OutputArea.prototype.mime_types().indexOf(EXEC_MIME_TYPE) == -1) {\n      register_renderer(events, OutputArea);\n    }\n  }\n  if (typeof (root._bokeh_timeout) === \"undefined\" || force === true) {\n    root._bokeh_timeout = Date.now() + 5000;\n    root._bokeh_failed_load = false;\n  }\n\n  const NB_LOAD_WARNING = {'data': {'text/html':\n     \"<div style='background-color: #fdd'>\\n\"+\n     \"<p>\\n\"+\n     \"BokehJS does not appear to have successfully loaded. If loading BokehJS from CDN, this \\n\"+\n     \"may be due to a slow or bad network connection. Possible fixes:\\n\"+\n     \"</p>\\n\"+\n     \"<ul>\\n\"+\n     \"<li>re-rerun `output_notebook()` to attempt to load from CDN again, or</li>\\n\"+\n     \"<li>use INLINE resources instead, as so:</li>\\n\"+\n     \"</ul>\\n\"+\n     \"<code>\\n\"+\n     \"from bokeh.resources import INLINE\\n\"+\n     \"output_notebook(resources=INLINE)\\n\"+\n     \"</code>\\n\"+\n     \"</div>\"}};\n\n  function display_loaded(error = null) {\n    const el = document.getElementById(\"ef8f553e-9814-414d-8339-30f7c54b19f5\");\n    if (el != null) {\n      const html = (() => {\n        if (typeof root.Bokeh === \"undefined\") {\n          if (error == null) {\n            return \"BokehJS is loading ...\";\n          } else {\n            return \"BokehJS failed to load.\";\n          }\n        } else {\n          const prefix = `BokehJS ${root.Bokeh.version}`;\n          if (error == null) {\n            return `${prefix} successfully loaded.`;\n          } else {\n            return `${prefix} <b>encountered errors</b> while loading and may not function as expected.`;\n          }\n        }\n      })();\n      el.innerHTML = html;\n\n      if (error != null) {\n        const wrapper = document.createElement(\"div\");\n        wrapper.style.overflow = \"auto\";\n        wrapper.style.height = \"5em\";\n        wrapper.style.resize = \"vertical\";\n        const content = document.createElement(\"div\");\n        content.style.fontFamily = \"monospace\";\n        content.style.whiteSpace = \"pre-wrap\";\n        content.style.backgroundColor = \"rgb(255, 221, 221)\";\n        content.textContent = error.stack ?? error.toString();\n        wrapper.append(content);\n        el.append(wrapper);\n      }\n    } else if (Date.now() < root._bokeh_timeout) {\n      setTimeout(() => display_loaded(error), 100);\n    }\n  }\n\n  function run_callbacks() {\n    try {\n      root._bokeh_onload_callbacks.forEach(function(callback) {\n        if (callback != null)\n          callback();\n      });\n    } finally {\n      delete root._bokeh_onload_callbacks\n    }\n    console.debug(\"Bokeh: all callbacks have finished\");\n  }\n\n  function load_libs(css_urls, js_urls, callback) {\n    if (css_urls == null) css_urls = [];\n    if (js_urls == null) js_urls = [];\n\n    root._bokeh_onload_callbacks.push(callback);\n    if (root._bokeh_is_loading > 0) {\n      console.debug(\"Bokeh: BokehJS is being loaded, scheduling callback at\", now());\n      return null;\n    }\n    if (js_urls == null || js_urls.length === 0) {\n      run_callbacks();\n      return null;\n    }\n    console.debug(\"Bokeh: BokehJS not loaded, scheduling load and callback at\", now());\n    root._bokeh_is_loading = css_urls.length + js_urls.length;\n\n    function on_load() {\n      root._bokeh_is_loading--;\n      if (root._bokeh_is_loading === 0) {\n        console.debug(\"Bokeh: all BokehJS libraries/stylesheets loaded\");\n        run_callbacks()\n      }\n    }\n\n    function on_error(url) {\n      console.error(\"failed to load \" + url);\n    }\n\n    for (let i = 0; i < css_urls.length; i++) {\n      const url = css_urls[i];\n      const element = document.createElement(\"link\");\n      element.onload = on_load;\n      element.onerror = on_error.bind(null, url);\n      element.rel = \"stylesheet\";\n      element.type = \"text/css\";\n      element.href = url;\n      console.debug(\"Bokeh: injecting link tag for BokehJS stylesheet: \", url);\n      document.body.appendChild(element);\n    }\n\n    for (let i = 0; i < js_urls.length; i++) {\n      const url = js_urls[i];\n      const element = document.createElement('script');\n      element.onload = on_load;\n      element.onerror = on_error.bind(null, url);\n      element.async = false;\n      element.src = url;\n      console.debug(\"Bokeh: injecting script tag for BokehJS library: \", url);\n      document.head.appendChild(element);\n    }\n  };\n\n  function inject_raw_css(css) {\n    const element = document.createElement(\"style\");\n    element.appendChild(document.createTextNode(css));\n    document.body.appendChild(element);\n  }\n\n  const js_urls = [\"https://cdn.bokeh.org/bokeh/release/bokeh-3.4.1.min.js\", \"https://cdn.bokeh.org/bokeh/release/bokeh-gl-3.4.1.min.js\", \"https://cdn.bokeh.org/bokeh/release/bokeh-widgets-3.4.1.min.js\", \"https://cdn.bokeh.org/bokeh/release/bokeh-tables-3.4.1.min.js\", \"https://cdn.bokeh.org/bokeh/release/bokeh-mathjax-3.4.1.min.js\"];\n  const css_urls = [];\n\n  const inline_js = [    function(Bokeh) {\n      Bokeh.set_log_level(\"info\");\n    },\nfunction(Bokeh) {\n    }\n  ];\n\n  function run_inline_js() {\n    if (root.Bokeh !== undefined || force === true) {\n      try {\n            for (let i = 0; i < inline_js.length; i++) {\n      inline_js[i].call(root, root.Bokeh);\n    }\n\n      } catch (error) {display_loaded(error);throw error;\n      }if (force === true) {\n        display_loaded();\n      }} else if (Date.now() < root._bokeh_timeout) {\n      setTimeout(run_inline_js, 100);\n    } else if (!root._bokeh_failed_load) {\n      console.log(\"Bokeh: BokehJS failed to load within specified timeout.\");\n      root._bokeh_failed_load = true;\n    } else if (force !== true) {\n      const cell = $(document.getElementById(\"ef8f553e-9814-414d-8339-30f7c54b19f5\")).parents('.cell').data().cell;\n      cell.output_area.append_execute_result(NB_LOAD_WARNING)\n    }\n  }\n\n  if (root._bokeh_is_loading === 0) {\n    console.debug(\"Bokeh: BokehJS loaded, going straight to plotting\");\n    run_inline_js();\n  } else {\n    load_libs(css_urls, js_urls, function() {\n      console.debug(\"Bokeh: BokehJS plotting callback run at\", now());\n      run_inline_js();\n    });\n  }\n}(window));",
      "application/vnd.bokehjs_load.v0+json": ""
     },
     "metadata": {},
     "output_type": "display_data"
    }
   ],
   "source": [
    "#imports\n",
    "\n",
    "from gentropy.common.session import Session\n",
    "from gentropy.dataset.summary_statistics import SummaryStatistics\n",
    "from pyspark.sql.functions import col\n",
    "from gentropy.dataset.study_locus import StudyLocus\n",
    "from gentropy.dataset.study_index import StudyIndex\n",
    "import hail as hl\n",
    "import os"
   ]
  },
  {
   "cell_type": "markdown",
   "metadata": {},
   "source": [
    "### Set up session and import data, glimpse data"
   ]
  },
  {
   "cell_type": "code",
   "execution_count": 3,
   "metadata": {},
   "outputs": [
    {
     "name": "stdout",
     "output_type": "stream",
     "text": [
      "24/06/19 13:01:46 WARN SparkSession: Using an existing Spark session; only runtime SQL configurations will take effect.\n"
     ]
    },
    {
     "ename": "ValueError",
     "evalue": "Parquet file is empty: data/",
     "output_type": "error",
     "traceback": [
      "\u001b[0;31m---------------------------------------------------------------------------\u001b[0m",
      "\u001b[0;31mValueError\u001b[0m                                Traceback (most recent call last)",
      "Cell \u001b[0;32mIn[3], line 10\u001b[0m\n\u001b[1;32m      7\u001b[0m \u001b[38;5;66;03m#path_cred_sets=\"gs://genetics_etl_python_playground/releases/24.03/credible_set/finngen_susie\"\u001b[39;00m\n\u001b[1;32m      8\u001b[0m \u001b[38;5;66;03m#local path\u001b[39;00m\n\u001b[1;32m      9\u001b[0m path_cred_sets\u001b[38;5;241m=\u001b[39m\u001b[38;5;124m\"\u001b[39m\u001b[38;5;124mdata/\u001b[39m\u001b[38;5;124m\"\u001b[39m\n\u001b[0;32m---> 10\u001b[0m sl\u001b[38;5;241m=\u001b[39m\u001b[43mStudyLocus\u001b[49m\u001b[38;5;241;43m.\u001b[39;49m\u001b[43mfrom_parquet\u001b[49m\u001b[43m(\u001b[49m\u001b[43msession\u001b[49m\u001b[38;5;241;43m=\u001b[39;49m\u001b[43msession\u001b[49m\u001b[43m,\u001b[49m\u001b[43mpath\u001b[49m\u001b[38;5;241;43m=\u001b[39;49m\u001b[43mpath_cred_sets\u001b[49m\u001b[43m)\u001b[49m\n\u001b[1;32m     12\u001b[0m df\u001b[38;5;241m=\u001b[39msl\u001b[38;5;241m.\u001b[39mdf\n\u001b[1;32m     13\u001b[0m df\u001b[38;5;241m.\u001b[39mshow()\n",
      "File \u001b[0;32m~/anaconda3/envs/py310/lib/python3.10/site-packages/gentropy/dataset/dataset.py:94\u001b[0m, in \u001b[0;36mDataset.from_parquet\u001b[0;34m(cls, session, path, **kwargs)\u001b[0m\n\u001b[1;32m     92\u001b[0m df \u001b[38;5;241m=\u001b[39m session\u001b[38;5;241m.\u001b[39mread_parquet(path, schema\u001b[38;5;241m=\u001b[39mschema, \u001b[38;5;241m*\u001b[39m\u001b[38;5;241m*\u001b[39mkwargs)\n\u001b[1;32m     93\u001b[0m \u001b[38;5;28;01mif\u001b[39;00m df\u001b[38;5;241m.\u001b[39misEmpty():\n\u001b[0;32m---> 94\u001b[0m     \u001b[38;5;28;01mraise\u001b[39;00m \u001b[38;5;167;01mValueError\u001b[39;00m(\u001b[38;5;124mf\u001b[39m\u001b[38;5;124m\"\u001b[39m\u001b[38;5;124mParquet file is empty: \u001b[39m\u001b[38;5;132;01m{\u001b[39;00mpath\u001b[38;5;132;01m}\u001b[39;00m\u001b[38;5;124m\"\u001b[39m)\n\u001b[1;32m     95\u001b[0m \u001b[38;5;28;01mreturn\u001b[39;00m \u001b[38;5;28mcls\u001b[39m(_df\u001b[38;5;241m=\u001b[39mdf, _schema\u001b[38;5;241m=\u001b[39mschema)\n",
      "\u001b[0;31mValueError\u001b[0m: Parquet file is empty: data/"
     ]
    }
   ],
   "source": [
    "\n",
    "#create session\n",
    "#increase ram\n",
    "# session.spark.conf.set(\"spark.executor.memory\", \"6g\")\n",
    "session = Session(extended_spark_conf={\"spark.driver.memory\": \"4g\"})\n",
    "\n",
    "#path_cred_sets=\"gs://genetics_etl_python_playground/releases/24.03/credible_set/finngen_susie\"\n",
    "#local path\n",
    "path_cred_sets=\"data/\"\n",
    "sl=StudyLocus.from_parquet(session=session,path=path_cred_sets)\n",
    "\n",
    "df=sl.df\n",
    "df.show()\n",
    "\n",
    "df.printSchema()\n",
    "df.groupBy('chromosome').count().show()\n",
    "\n",
    "# Chromosome to analyze\n",
    "chromosome = 1\n"
   ]
  },
  {
   "cell_type": "markdown",
   "metadata": {},
   "source": [
    "#### Count rows of data for FINNGEN"
   ]
  },
  {
   "cell_type": "code",
   "execution_count": 76,
   "metadata": {},
   "outputs": [
    {
     "name": "stdout",
     "output_type": "stream",
     "text": [
      "+--------------------+----------------+----------+---------+--------------------+--------------------+----------+------+--------------+--------------+-------------------------------+-------------+-------------------+---------------+-----------------+----------------+------------------+------------+-----------+----------+-----+--------------------+\n",
      "|        studyLocusId|       variantId|chromosome| position|              region|             studyId|      beta|zScore|pValueMantissa|pValueExponent|effectAlleleFrequencyFromSource|standardError|subStudyDescription|qualityControls|finemappingMethod|credibleSetIndex|credibleSetlog10BF|purityMeanR2|purityMinR2|sampleSize|ldSet|               locus|\n",
      "+--------------------+----------------+----------+---------+--------------------+--------------------+----------+------+--------------+--------------+-------------------------------+-------------+-------------------+---------------+-----------------+----------------+------------------+------------+-----------+----------+-----+--------------------+\n",
      "|-4321433822078863824| X_139181000_T_C|         X|139181000|chrX:137681000-14...|FINNGEN_R10_AB1_A...|   2.86304|  null|         4.813|            -8|                     2.22581E-4|      0.52455|               null|           null|            SuSie|               1|     1.70259644043|        null|       null|      null| null|[{true, true, 12....|\n",
      "|-8834373840002212949|  8_10298515_T_C|         8| 10298515|chr8:8798515-1179...|FINNGEN_R10_AB1_E...|-0.0588362|  null|         4.286|            -9|                       0.459103|    0.0100185|               null|           null|            SuSie|               1|     2.60073732753|        null|       null|      null| null|[{true, true, 14....|\n",
      "| 6777403764798924738| 1_207577223_T_C|         1|207577223|chr1:206077223-20...|FINNGEN_R10_AD_LO...|   -0.1419|  null|         5.606|            -9|                       0.192564|    0.0243475|               null|           null|            SuSie|               1|      2.8396165773|        null|       null|      null| null|[{true, true, 14....|\n",
      "| -449669912623639707| 5_147809858_A_T|         5|147809858|chr5:146309858-14...|FINNGEN_R10_ALCOP...|  0.957038|  null|         1.834|           -25|                      0.0163017|    0.0917698|               null|           null|            SuSie|               1|     19.3360904304|        null|       null|      null| null|[{true, true, 51....|\n",
      "|-4088063185825261065| 7_142776421_A_T|         7|142776421|chr7:141274035-14...|FINNGEN_R10_ALCOP...|  0.266648|  null|         9.678|           -16|                       0.395797|    0.0332029|               null|           null|            SuSie|               2|     14.5506996572|        null|       null|      null| null|[{true, true, 40....|\n",
      "|-1053454535747008153|  10_8990592_C_G|        10|  8990592|chr10:7495529-104...|FINNGEN_R10_ALLER...| -0.615852|  null|         5.084|           -10|                      0.0074858|    0.0990676|               null|           null|            SuSie|               2|     1.36804871221|        null|       null|      null| null|[{true, true, 13....|\n",
      "| -573200752412831577| 4_110799841_T_G|         4|110799841|chr4:109299841-11...|FINNGEN_R10_APPEN...|  0.188528|  null|         1.099|           -26|                        0.30536|    0.0176311|               null|           null|            SuSie|               1|     25.4426951401|        null|       null|      null| null|[{true, true, 67....|\n",
      "| 2100396048952520337|   9_6209697_A_G|         9|  6209697|chr9:4709697-7709697|FINNGEN_R10_ASTHM...|  -0.10692|  null|         2.164|           -17|                       0.237102|    0.0126015|               null|           null|            SuSie|               1|     14.0992228056|        null|       null|      null| null|[{true, true, 41....|\n",
      "|-8101042068517509118| 5_111092097_C_T|         5|111092097|chr5:109592097-11...|FINNGEN_R10_ASTHM...|  0.152091|  null|          1.27|           -12|                       0.308492|    0.0214288|               null|           null|            SuSie|               1|       6.158411841|        null|       null|      null| null|[{true, true, 22....|\n",
      "| 5460317870253651211|15_67169867_C_CT|        15| 67169867|chr15:65669867-68...|FINNGEN_R10_ASTHM...|  0.124632|  null|         2.932|           -10|                       0.362486|    0.0197754|               null|           null|            SuSie|               1|     3.57950851911|        null|       null|      null| null|[{true, true, 17....|\n",
      "| 8773121994999880264| 13_42407276_G_C|        13| 42407276|chr13:40907276-43...|FINNGEN_R10_ASTHM...|  0.223847|  null|         3.213|            -8|                       0.110112|    0.0404828|               null|           null|            SuSie|               1|      1.4730933512|        null|       null|      null| null|[{true, true, 11....|\n",
      "|-7503983325929765700|   1_1199727_C_T|         1|  1199727|chr1:1052522-4052522|FINNGEN_R10_ASTHM...|   0.22688|  null|         9.086|            -6|                      0.0672616|    0.0511237|               null|           null|            SuSie|               2|    0.906051518185|        null|       null|      null| null|[{true, true, 8.9...|\n",
      "|-9016930053228614453|5_156995417_A_AT|         5|156995417|chr5:155495417-15...|     FINNGEN_R10_AUD|   0.31178|  null|          2.34|            -8|                     0.00971201|    0.0558267|               null|           null|            SuSie|               1|     1.46056225007|        null|       null|      null| null|[{true, true, 13....|\n",
      "| 1286277558553693427| 2_143392045_T_A|         2|143392045|chr2:141892045-14...|FINNGEN_R10_AUD_S...| 0.0571667|  null|         2.692|            -8|                       0.322118|    0.0102811|               null|           null|            SuSie|               1|     1.77322094275|        null|       null|      null| null|[{true, true, 11....|\n",
      "|  999133142022146231| 10_62297443_A_G|        10| 62297443|chr10:60541271-63...|FINNGEN_R10_AUTOI...|-0.0296042|  null|         3.248|            -8|                       0.374668|   0.00535577|               null|           null|            SuSie|               2|      5.4978626207|        null|       null|      null| null|[{true, true, 20....|\n",
      "| 6842874150696919064| 16_85651514_G_A|        16| 85651514|chr16:84151514-87...|FINNGEN_R10_AUTOI...| 0.0342245|  null|         4.087|            -8|                        0.22204|    0.0062373|               null|           null|            SuSie|               1|     2.06831790356|        null|       null|      null| null|[{true, true, 13....|\n",
      "| 1522058532032713463| 17_39932164_T_C|        17| 39932164|chr17:38432164-43...|FINNGEN_R10_AUTOI...|-0.0341013|  null|         5.497|           -11|                       0.494405|   0.00520087|               null|           null|            SuSie|               2|     4.92825218542|        null|       null|      null| null|[{true, true, 20....|\n",
      "| 4621287901443034568| 19_10352442_G_C|        19| 10352442|chr19:8852442-118...|FINNGEN_R10_AUTOI...| -0.159891|  null|         6.563|           -25|                      0.0302264|    0.0155131|               null|           null|            SuSie|               1|     18.0365716426|        null|       null|      null| null|[{true, true, 51....|\n",
      "|-5544109762146767547| 1_113834946_A_G|         1|113834946|chr1:109654187-11...|FINNGEN_R10_AUTOI...| -0.228059|  null|         1.268|          -225|                       0.148114|   0.00711194|               null|           null|            SuSie|               1|     224.000333462|        null|       null|      null| null|[{true, true, 526...|\n",
      "|-1684312030271962307| 22_39274176_A_C|        22| 39274176|chr22:33808619-40...|FINNGEN_R10_AUTOI...| 0.0431967|  null|         1.529|           -14|                       0.301281|   0.00562083|               null|           null|            SuSie|               2|     6.56151263058|        null|       null|      null| null|[{true, true, 24....|\n",
      "+--------------------+----------------+----------+---------+--------------------+--------------------+----------+------+--------------+--------------+-------------------------------+-------------+-------------------+---------------+-----------------+----------------+------------------+------------+-----------+----------+-----+--------------------+\n",
      "only showing top 20 rows\n",
      "\n"
     ]
    },
    {
     "data": {
      "text/plain": [
       "13966"
      ]
     },
     "execution_count": 76,
     "metadata": {},
     "output_type": "execute_result"
    }
   ],
   "source": [
    "sl.df=df\n",
    "\n",
    "df.show()\n",
    "#total rows\n",
    "df.count()\n",
    "# 13966"
   ]
  },
  {
   "cell_type": "markdown",
   "metadata": {},
   "source": [
    "#### Number of distinct studies\n",
    "\n",
    "1194 studies in total"
   ]
  },
  {
   "cell_type": "code",
   "execution_count": 75,
   "metadata": {},
   "outputs": [
    {
     "data": {
      "text/plain": [
       "1194"
      ]
     },
     "execution_count": 75,
     "metadata": {},
     "output_type": "execute_result"
    }
   ],
   "source": [
    "#number of unique study ids\n",
    "df.select('studyId').distinct().count() # number of unique study ids/traits\n",
    "# 1194"
   ]
  },
  {
   "cell_type": "markdown",
   "metadata": {},
   "source": [
    "#### Load study index"
   ]
  },
  {
   "cell_type": "markdown",
   "metadata": {},
   "source": [
    "##### Number of distinct studies in index\n",
    "\n",
    "2408"
   ]
  },
  {
   "cell_type": "code",
   "execution_count": 78,
   "metadata": {},
   "outputs": [
    {
     "name": "stdout",
     "output_type": "stream",
     "text": [
      "2408\n",
      "2408\n"
     ]
    }
   ],
   "source": [
    "study_index_df=study_index.df\n",
    "#number of unique study ids\n",
    "print(study_index_df.select('studyId').distinct().count()) # number of unique study ids/traits\n",
    "#number of rows\n",
    "print(study_index_df.count())\n",
    "# Both 2408 so rows = unique study ids"
   ]
  },
  {
   "cell_type": "markdown",
   "metadata": {},
   "source": [
    "##### Join the study locus table and study index to find overlap"
   ]
  },
  {
   "cell_type": "code",
   "execution_count": 79,
   "metadata": {},
   "outputs": [
    {
     "name": "stdout",
     "output_type": "stream",
     "text": [
      "+--------------------+--------------------+---------------+----------+---------+--------------------+----------+------+--------------+--------------+-------------------------------+-------------+-------------------+---------------+-----------------+----------------+------------------+------------+-----------+----------+-----+--------------------+-----------+---------+--------------------+------------------------+------+------------------+--------+----------------+----------------------+---------------+------------------+----------------------------------+--------------------+------+---------+--------+---------+---------------------+-------------------+------------------+---------------+-------------+--------------------+-----------+\n",
      "|             studyId|        studyLocusId|      variantId|chromosome| position|              region|      beta|zScore|pValueMantissa|pValueExponent|effectAlleleFrequencyFromSource|standardError|subStudyDescription|qualityControls|finemappingMethod|credibleSetIndex|credibleSetlog10BF|purityMeanR2|purityMinR2|sampleSize|ldSet|               locus|  projectId|studyType|     traitFromSource|traitFromSourceMappedIds|geneId|tissueFromSourceId|pubmedId|publicationTitle|publicationFirstAuthor|publicationDate|publicationJournal|backgroundTraitFromSourceMappedIds|   initialSampleSize|nCases|nControls|nSamples|  cohorts|ldPopulationStructure|   discoverySamples|replicationSamples|qualityControls|analysisFlags|summarystatsLocation|hasSumstats|\n",
      "+--------------------+--------------------+---------------+----------+---------+--------------------+----------+------+--------------+--------------+-------------------------------+-------------+-------------------+---------------+-----------------+----------------+------------------+------------+-----------+----------+-----+--------------------+-----------+---------+--------------------+------------------------+------+------------------+--------+----------------+----------------------+---------------+------------------+----------------------------------+--------------------+------+---------+--------+---------+---------------------+-------------------+------------------+---------------+-------------+--------------------+-----------+\n",
      "|FINNGEN_R10_AB1_A...|-4321433822078863824|X_139181000_T_C|         X|139181000|chrX:137681000-14...|   2.86304|  null|         4.813|            -8|                     2.22581E-4|      0.52455|               null|           null|            SuSie|               1|     1.70259644043|        null|       null|      null| null|[{true, true, 12....|FINNGEN_R10|     gwas|          Amoebiasis|           [EFO_0007144]|  null|              null|    null|            null|                  null|           null|              null|                              null|377,277 (210,870 ...|   160|   367214|  367374|[FinnGen]|         [{fin, 1.0}]|[{377277, Finnish}]|              null|           null|         null|gs://finngen-publ...|       true|\n",
      "|FINNGEN_R10_AB1_E...|-8834373840002212949| 8_10298515_T_C|         8| 10298515|chr8:8798515-1179...|-0.0588362|  null|         4.286|            -9|                       0.459103|    0.0100185|               null|           null|            SuSie|               1|     2.60073732753|        null|       null|      null| null|[{true, true, 14....|FINNGEN_R10|     gwas|          Erysipelas|           [EFO_1001462]|  null|              null|    null|            null|                  null|           null|              null|                              null|377,277 (210,870 ...| 22261|   363227|  385488|[FinnGen]|         [{fin, 1.0}]|[{377277, Finnish}]|              null|           null|         null|gs://finngen-publ...|       true|\n",
      "|FINNGEN_R10_AD_LO...| 6777403764798924738|1_207577223_T_C|         1|207577223|chr1:206077223-20...|   -0.1419|  null|         5.606|            -9|                       0.192564|    0.0243475|               null|           null|            SuSie|               1|      2.8396165773|        null|       null|      null| null|[{true, true, 14....|FINNGEN_R10|     gwas|Alzheimer’s disea...|           [EFO_1001870]|  null|              null|    null|            null|                  null|           null|              null|                              null|377,277 (210,870 ...|  7308|   183753|  191061|[FinnGen]|         [{fin, 1.0}]|[{377277, Finnish}]|              null|           null|         null|gs://finngen-publ...|       true|\n",
      "|FINNGEN_R10_ALCOP...| -449669912623639707|5_147809858_A_T|         5|147809858|chr5:146309858-14...|  0.957038|  null|         1.834|           -25|                      0.0163017|    0.0917698|               null|           null|            SuSie|               1|     19.3360904304|        null|       null|      null| null|[{true, true, 51....|FINNGEN_R10|     gwas|Alcohol-induced c...|           [EFO_1002013]|  null|              null|    null|            null|                  null|           null|              null|                              null|377,277 (210,870 ...|  1959|   410222|  412181|[FinnGen]|         [{fin, 1.0}]|[{377277, Finnish}]|              null|           null|         null|gs://finngen-publ...|       true|\n",
      "|FINNGEN_R10_ALCOP...|-4088063185825261065|7_142776421_A_T|         7|142776421|chr7:141274035-14...|  0.266648|  null|         9.678|           -16|                       0.395797|    0.0332029|               null|           null|            SuSie|               2|     14.5506996572|        null|       null|      null| null|[{true, true, 40....|FINNGEN_R10|     gwas|Alcohol-induced c...|           [EFO_1002013]|  null|              null|    null|            null|                  null|           null|              null|                              null|377,277 (210,870 ...|  1959|   410222|  412181|[FinnGen]|         [{fin, 1.0}]|[{377277, Finnish}]|              null|           null|         null|gs://finngen-publ...|       true|\n",
      "+--------------------+--------------------+---------------+----------+---------+--------------------+----------+------+--------------+--------------+-------------------------------+-------------+-------------------+---------------+-----------------+----------------+------------------+------------+-----------+----------+-----+--------------------+-----------+---------+--------------------+------------------------+------+------------------+--------+----------------+----------------------+---------------+------------------+----------------------------------+--------------------+------+---------+--------+---------+---------------------+-------------------+------------------+---------------+-------------+--------------------+-----------+\n",
      "only showing top 5 rows\n",
      "\n",
      "13966\n",
      "+--------------------+--------------------+---------------+----------+---------+--------------------+----------+------+--------------+--------------+-------------------------------+-------------+-------------------+---------------+-----------------+----------------+------------------+------------+-----------+----------+-----+--------------------+-----------+---------+--------------------+------------------------+------+------------------+--------+----------------+----------------------+---------------+------------------+----------------------------------+--------------------+------+---------+--------+---------+---------------------+-------------------+------------------+---------------+-------------+--------------------+-----------+\n",
      "|             studyId|        studyLocusId|      variantId|chromosome| position|              region|      beta|zScore|pValueMantissa|pValueExponent|effectAlleleFrequencyFromSource|standardError|subStudyDescription|qualityControls|finemappingMethod|credibleSetIndex|credibleSetlog10BF|purityMeanR2|purityMinR2|sampleSize|ldSet|               locus|  projectId|studyType|     traitFromSource|traitFromSourceMappedIds|geneId|tissueFromSourceId|pubmedId|publicationTitle|publicationFirstAuthor|publicationDate|publicationJournal|backgroundTraitFromSourceMappedIds|   initialSampleSize|nCases|nControls|nSamples|  cohorts|ldPopulationStructure|   discoverySamples|replicationSamples|qualityControls|analysisFlags|summarystatsLocation|hasSumstats|\n",
      "+--------------------+--------------------+---------------+----------+---------+--------------------+----------+------+--------------+--------------+-------------------------------+-------------+-------------------+---------------+-----------------+----------------+------------------+------------+-----------+----------+-----+--------------------+-----------+---------+--------------------+------------------------+------+------------------+--------+----------------+----------------------+---------------+------------------+----------------------------------+--------------------+------+---------+--------+---------+---------------------+-------------------+------------------+---------------+-------------+--------------------+-----------+\n",
      "|FINNGEN_R10_AB1_A...|-4321433822078863824|X_139181000_T_C|         X|139181000|chrX:137681000-14...|   2.86304|  null|         4.813|            -8|                     2.22581E-4|      0.52455|               null|           null|            SuSie|               1|     1.70259644043|        null|       null|      null| null|[{true, true, 12....|FINNGEN_R10|     gwas|          Amoebiasis|           [EFO_0007144]|  null|              null|    null|            null|                  null|           null|              null|                              null|377,277 (210,870 ...|   160|   367214|  367374|[FinnGen]|         [{fin, 1.0}]|[{377277, Finnish}]|              null|           null|         null|gs://finngen-publ...|       true|\n",
      "|FINNGEN_R10_AB1_E...|-8834373840002212949| 8_10298515_T_C|         8| 10298515|chr8:8798515-1179...|-0.0588362|  null|         4.286|            -9|                       0.459103|    0.0100185|               null|           null|            SuSie|               1|     2.60073732753|        null|       null|      null| null|[{true, true, 14....|FINNGEN_R10|     gwas|          Erysipelas|           [EFO_1001462]|  null|              null|    null|            null|                  null|           null|              null|                              null|377,277 (210,870 ...| 22261|   363227|  385488|[FinnGen]|         [{fin, 1.0}]|[{377277, Finnish}]|              null|           null|         null|gs://finngen-publ...|       true|\n",
      "|FINNGEN_R10_AD_LO...| 6777403764798924738|1_207577223_T_C|         1|207577223|chr1:206077223-20...|   -0.1419|  null|         5.606|            -9|                       0.192564|    0.0243475|               null|           null|            SuSie|               1|      2.8396165773|        null|       null|      null| null|[{true, true, 14....|FINNGEN_R10|     gwas|Alzheimer’s disea...|           [EFO_1001870]|  null|              null|    null|            null|                  null|           null|              null|                              null|377,277 (210,870 ...|  7308|   183753|  191061|[FinnGen]|         [{fin, 1.0}]|[{377277, Finnish}]|              null|           null|         null|gs://finngen-publ...|       true|\n",
      "|FINNGEN_R10_ALCOP...| -449669912623639707|5_147809858_A_T|         5|147809858|chr5:146309858-14...|  0.957038|  null|         1.834|           -25|                      0.0163017|    0.0917698|               null|           null|            SuSie|               1|     19.3360904304|        null|       null|      null| null|[{true, true, 51....|FINNGEN_R10|     gwas|Alcohol-induced c...|           [EFO_1002013]|  null|              null|    null|            null|                  null|           null|              null|                              null|377,277 (210,870 ...|  1959|   410222|  412181|[FinnGen]|         [{fin, 1.0}]|[{377277, Finnish}]|              null|           null|         null|gs://finngen-publ...|       true|\n",
      "|FINNGEN_R10_ALCOP...|-4088063185825261065|7_142776421_A_T|         7|142776421|chr7:141274035-14...|  0.266648|  null|         9.678|           -16|                       0.395797|    0.0332029|               null|           null|            SuSie|               2|     14.5506996572|        null|       null|      null| null|[{true, true, 40....|FINNGEN_R10|     gwas|Alcohol-induced c...|           [EFO_1002013]|  null|              null|    null|            null|                  null|           null|              null|                              null|377,277 (210,870 ...|  1959|   410222|  412181|[FinnGen]|         [{fin, 1.0}]|[{377277, Finnish}]|              null|           null|         null|gs://finngen-publ...|       true|\n",
      "+--------------------+--------------------+---------------+----------+---------+--------------------+----------+------+--------------+--------------+-------------------------------+-------------+-------------------+---------------+-----------------+----------------+------------------+------------+-----------+----------+-----+--------------------+-----------+---------+--------------------+------------------------+------+------------------+--------+----------------+----------------------+---------------+------------------+----------------------------------+--------------------+------+---------+--------+---------+---------------------+-------------------+------------------+---------------+-------------+--------------------+-----------+\n",
      "only showing top 5 rows\n",
      "\n",
      "13966\n"
     ]
    }
   ],
   "source": [
    "joined_df = df.join(study_index_df, on='studyId', how='inner')\n",
    "joined_df.show(5)\n",
    "print(joined_df.count())\n",
    "# 13966 # No data loss in join\n",
    "\n",
    "left_joined_df = df.join(study_index_df, on='studyId', how='left')\n",
    "left_joined_df.show(5)\n",
    "print(left_joined_df.count())\n",
    "# 13966 # No data loss in left join"
   ]
  },
  {
   "cell_type": "code",
   "execution_count": 80,
   "metadata": {},
   "outputs": [
    {
     "data": {
      "text/plain": [
       "1214"
      ]
     },
     "execution_count": 80,
     "metadata": {},
     "output_type": "execute_result"
    }
   ],
   "source": [
    "# filter out rows where studyId is null - no entries present\n",
    "#df.filter(col(\"studyId\").isNull()).show()\n",
    "\n",
    "#unique trait id arrays\n",
    "study_index_df.select('traitFromSourceMappedIds').distinct().count()\n"
   ]
  },
  {
   "cell_type": "markdown",
   "metadata": {},
   "source": [
    "##### Check anit-filter for rows removed"
   ]
  },
  {
   "cell_type": "code",
   "execution_count": 82,
   "metadata": {},
   "outputs": [
    {
     "name": "stdout",
     "output_type": "stream",
     "text": [
      "+--------------------+--------------------+------------------+----------+---------+--------------------+----------+------+--------------+--------------+-------------------------------+-------------+-------------------+---------------+-----------------+----------------+------------------+------------+-----------+----------+-----+--------------------+-----------+---------+--------------------+------------------------+------+------------------+--------+----------------+----------------------+---------------+------------------+----------------------------------+--------------------+------+---------+--------+---------+---------------------+-------------------+------------------+---------------+-------------+--------------------+-----------+\n",
      "|             studyId|        studyLocusId|         variantId|chromosome| position|              region|      beta|zScore|pValueMantissa|pValueExponent|effectAlleleFrequencyFromSource|standardError|subStudyDescription|qualityControls|finemappingMethod|credibleSetIndex|credibleSetlog10BF|purityMeanR2|purityMinR2|sampleSize|ldSet|               locus|  projectId|studyType|     traitFromSource|traitFromSourceMappedIds|geneId|tissueFromSourceId|pubmedId|publicationTitle|publicationFirstAuthor|publicationDate|publicationJournal|backgroundTraitFromSourceMappedIds|   initialSampleSize|nCases|nControls|nSamples|  cohorts|ldPopulationStructure|   discoverySamples|replicationSamples|qualityControls|analysisFlags|summarystatsLocation|hasSumstats|\n",
      "+--------------------+--------------------+------------------+----------+---------+--------------------+----------+------+--------------+--------------+-------------------------------+-------------+-------------------+---------------+-----------------+----------------+------------------+------------+-----------+----------+-----+--------------------+-----------+---------+--------------------+------------------------+------+------------------+--------+----------------+----------------------+---------------+------------------+----------------------------------+--------------------+------+---------+--------+---------+---------------------+-------------------+------------------+---------------+-------------+--------------------+-----------+\n",
      "|FINNGEN_R10_APPEN...| -573200752412831577|   4_110799841_T_G|         4|110799841|chr4:109299841-11...|  0.188528|  null|         1.099|           -26|                        0.30536|    0.0176311|               null|           null|            SuSie|               1|     25.4426951401|        null|       null|      null| null|[{true, true, 67....|FINNGEN_R10|     gwas|Acute appendiciti...|                    null|  null|              null|    null|            null|                  null|           null|              null|                              null|377,277 (210,870 ...|  7358|   378082|  385440|[FinnGen]|         [{fin, 1.0}]|[{377277, Finnish}]|              null|           null|         null|gs://finngen-publ...|       true|\n",
      "|     FINNGEN_R10_AUD|-9016930053228614453|  5_156995417_A_AT|         5|156995417|chr5:155495417-15...|   0.31178|  null|          2.34|            -8|                     0.00971201|    0.0558267|               null|           null|            SuSie|               1|     1.46056225007|        null|       null|      null| null|[{true, true, 13....|FINNGEN_R10|     gwas|Alcohol use disor...|                    null|  null|              null|    null|            null|                  null|           null|              null|                              null|377,277 (210,870 ...| 17197|   394984|  412181|[FinnGen]|         [{fin, 1.0}]|[{377277, Finnish}]|              null|           null|         null|gs://finngen-publ...|       true|\n",
      "|FINNGEN_R10_AUD_S...| 1286277558553693427|   2_143392045_T_A|         2|143392045|chr2:141892045-14...| 0.0571667|  null|         2.692|            -8|                       0.322118|    0.0102811|               null|           null|            SuSie|               1|     1.77322094275|        null|       null|      null| null|[{true, true, 11....|FINNGEN_R10|     gwas|Alcohol use disor...|                    null|  null|              null|    null|            null|                  null|           null|              null|                              null|377,277 (210,870 ...| 24070|   388111|  412181|[FinnGen]|         [{fin, 1.0}]|[{377277, Finnish}]|              null|           null|         null|gs://finngen-publ...|       true|\n",
      "|FINNGEN_R10_AUTOI...|-6740461021620410096|1_198686994_TTTG_T|         1|198686994|chr1:196126439-19...|-0.0420695|  null|         9.162|            -9|                       0.274094|    0.0073221|               null|           null|            SuSie|               2|      2.2058872048|        null|       null|      null| null|[{true, true, 12....|FINNGEN_R10|     gwas|Autoimmune diseas...|                    null|  null|              null|    null|            null|                  null|           null|              null|                              null|377,277 (210,870 ...| 58156|   305535|  363691|[FinnGen]|         [{fin, 1.0}]|[{377277, Finnish}]|              null|           null|         null|gs://finngen-publ...|       true|\n",
      "|FINNGEN_R10_AUTOI...|-3850276832899279760|   20_59159698_G_A|        20| 59159698|chr20:57659698-60...|-0.0487204|  null|         1.806|            -8|                        0.17334|   0.00865429|               null|           null|            SuSie|               1|     1.77027317201|        null|       null|      null| null|[{true, true, 13....|FINNGEN_R10|     gwas|Autoimmune diseas...|                    null|  null|              null|    null|            null|                  null|           null|              null|                              null|377,277 (210,870 ...| 58156|   305535|  363691|[FinnGen]|         [{fin, 1.0}]|[{377277, Finnish}]|              null|           null|         null|gs://finngen-publ...|       true|\n",
      "+--------------------+--------------------+------------------+----------+---------+--------------------+----------+------+--------------+--------------+-------------------------------+-------------+-------------------+---------------+-----------------+----------------+------------------+------------+-----------+----------+-----+--------------------+-----------+---------+--------------------+------------------------+------+------------------+--------+----------------+----------------------+---------------+------------------+----------------------------------+--------------------+------+---------+--------+---------+---------------------+-------------------+------------------+---------------+-------------+--------------------+-----------+\n",
      "only showing top 5 rows\n",
      "\n"
     ]
    }
   ],
   "source": [
    "# show data that has empty traitFromSourceMappedIds\n",
    "empty_trait_df = left_joined_df.filter((col(\"traitFromSourceMappedIds\").isNull()) | (size(col(\"traitFromSourceMappedIds\")) == 0))\n",
    "empty_trait_df.show(5)"
   ]
  },
  {
   "cell_type": "markdown",
   "metadata": {},
   "source": [
    "##### Counts for df sizes\n",
    "\n",
    "Study Locus df = 13966\n",
    "\n",
    "Joined SL and SI df = 13966\n",
    "\n",
    "Filtered left-joined DF = 8418"
   ]
  },
  {
   "cell_type": "code",
   "execution_count": 83,
   "metadata": {},
   "outputs": [
    {
     "name": "stdout",
     "output_type": "stream",
     "text": [
      "13966\n",
      "13966\n",
      "8418\n"
     ]
    }
   ],
   "source": [
    "print(df.count())\n",
    "print(joined_df.count())\n",
    "print(filtered_df.count())\n"
   ]
  },
  {
   "cell_type": "markdown",
   "metadata": {},
   "source": [
    "# Run from here"
   ]
  },
  {
   "cell_type": "code",
   "execution_count": 29,
   "metadata": {},
   "outputs": [],
   "source": [
    "#imports\n",
    "\n",
    "from gentropy.common.session import Session\n",
    "from gentropy.dataset.summary_statistics import SummaryStatistics\n",
    "from pyspark.sql.functions import col\n",
    "from gentropy.dataset.study_locus import StudyLocus\n",
    "from gentropy.dataset.study_index import StudyIndex\n",
    "import hail as hl\n",
    "import os\n",
    "\n",
    "# Chromosome to analyze\n",
    "chromosome = 1"
   ]
  },
  {
   "cell_type": "markdown",
   "metadata": {},
   "source": [
    "### Load study Index"
   ]
  },
  {
   "cell_type": "code",
   "execution_count": 12,
   "metadata": {},
   "outputs": [],
   "source": [
    "# load study index\n",
    "path_si=\"data/index/\"\n",
    "study_index=StudyIndex.from_parquet(session=session, path=path_si)"
   ]
  },
  {
   "cell_type": "markdown",
   "metadata": {},
   "source": [
    "#### Use Gentropy SL overlap function to find overlap between CSs for using COLOC"
   ]
  },
  {
   "cell_type": "code",
   "execution_count": 3,
   "metadata": {},
   "outputs": [
    {
     "name": "stderr",
     "output_type": "stream",
     "text": [
      "Setting default log level to \"WARN\".\n",
      "To adjust logging level use sc.setLogLevel(newLevel). For SparkR, use setLogLevel(newLevel).\n"
     ]
    },
    {
     "name": "stdout",
     "output_type": "stream",
     "text": [
      "24/06/19 13:06:19 WARN NativeCodeLoader: Unable to load native-hadoop library for your platform... using builtin-java classes where applicable\n"
     ]
    },
    {
     "name": "stderr",
     "output_type": "stream",
     "text": [
      "                                                                                \r"
     ]
    },
    {
     "name": "stdout",
     "output_type": "stream",
     "text": [
      "24/06/19 13:06:29 WARN CacheManager: Asked to cache already cached data.\n",
      "DataFrame[leftStudyLocusId: bigint, rightStudyLocusId: bigint, chromosome: string, tagVariantId: string, statistics: struct<left_logBF:double,left_posteriorProbability:double,left_beta:double,left_pValueMantissa:float,left_pValueExponent:int,right_logBF:double,right_posteriorProbability:double,right_beta:double,right_pValueMantissa:float,right_pValueExponent:int>]\n",
      "<class 'pyspark.sql.dataframe.DataFrame'>\n"
     ]
    },
    {
     "name": "stderr",
     "output_type": "stream",
     "text": [
      "                                                                                \r"
     ]
    }
   ],
   "source": [
    "from gentropy.dataset.study_locus import StudyLocus, StudyLocusOverlap\n",
    "from datetime import datetime\n",
    "#create session\n",
    "session = Session(extended_spark_conf={\"spark.driver.memory\": \"6g\"})\n",
    "\n",
    "#path_cred_sets=\"gs://genetics_etl_python_playground/releases/24.03/credible_set/finngen_susie\"\n",
    "#local path\n",
    "path_cred_sets=\"data/study_locus/\"\n",
    "sl=StudyLocus.from_parquet(session=session,path=path_cred_sets)\n",
    "study_index=StudyIndex.from_parquet(session=session, path=\"data/index/\")\n",
    "# Find Overlaps\n",
    "study_locus_overlap_intra = sl.find_overlaps(study_index, intra_study_overlap=True)\n",
    "study_locus_overlap_inter = sl.find_overlaps(study_index, intra_study_overlap=False)\n",
    "study_locus_combined = study_locus_overlap_intra.df.unionByName(study_locus_overlap_inter.df)\n",
    "print(study_locus_combined)\n",
    "print(type(study_locus_combined))\n",
    "date = datetime.now().strftime(\"%Y-%m-%d_%H-%M-%S\")\n",
    "study_locus_combined.write.parquet(f\"data/overlaps_{date}/\")\n",
    "\n"
   ]
  },
  {
   "cell_type": "code",
   "execution_count": 8,
   "metadata": {},
   "outputs": [
    {
     "name": "stdout",
     "output_type": "stream",
     "text": [
      "+----------------+-----------------+----------+------------+----------+\n",
      "|leftStudyLocusId|rightStudyLocusId|chromosome|tagVariantId|statistics|\n",
      "+----------------+-----------------+----------+------------+----------+\n",
      "+----------------+-----------------+----------+------------+----------+\n",
      "\n",
      "None\n",
      "0\n"
     ]
    },
    {
     "name": "stderr",
     "output_type": "stream",
     "text": [
      "                                                                                \r"
     ]
    },
    {
     "name": "stdout",
     "output_type": "stream",
     "text": [
      "+--------------------+--------------------+----------+----------------+--------------------+\n",
      "|    leftStudyLocusId|   rightStudyLocusId|chromosome|    tagVariantId|          statistics|\n",
      "+--------------------+--------------------+----------+----------------+--------------------+\n",
      "|-3544786763432086627|-9215091430977920480|         1| 1_26607100_AC_A|{11.005551205553,...|\n",
      "|-3544786763432086627|-9215091430977920480|         1|  1_26675220_A_G|{11.8288220892832...|\n",
      "|-3544786763432086627|-9215091430977920480|         1|  1_26675402_G_A|{11.5844899925472...|\n",
      "|-3544786763432086627|-9215091430977920480|         1|  1_26676156_T_C|{11.820897830622,...|\n",
      "|-3544786763432086627|-9215091430977920480|         1|  1_26688257_C_G|{11.6264599364101...|\n",
      "|-3544786763432086627|-9215091430977920480|         1|  1_26710663_T_G|{11.1957213194904...|\n",
      "|-3544786763432086627|-9215091430977920480|         1|  1_26724732_A_G|{11.1957213194904...|\n",
      "|-3544786763432086627|-9215091430977920480|         1|  1_26727525_A_G|{11.1953533579047...|\n",
      "|-3544786763432086627|-9215091430977920480|         1|  1_26750763_T_A|{11.1955177151282...|\n",
      "|-3544786763432086627|-9215091430977920480|         1|  1_26751875_G_A|{11.1955993759318...|\n",
      "|-3544786763432086627|-9215091430977920480|         1|  1_26771828_G_A|{11.1962123161251...|\n",
      "|-3544786763432086627|-9215091430977920480|         1|  1_26778568_C_T|{11.2266230656109...|\n",
      "|-3544786763432086627|-9215091430977920480|         1|  1_26787956_G_A|{11.1945925134486...|\n",
      "|-3544786763432086627|-9215091430977920480|         1|  1_26815377_A_G|{11.1832857101866...|\n",
      "|-3544786763432086627|-9215091430977920480|         1|  1_26817084_T_C|{11.1805961123034...|\n",
      "|-3544786763432086627|-9215091430977920480|         1|  1_26820453_G_T|{null, null, null...|\n",
      "|-3544786763432086627|-9215091430977920480|         1|1_26868145_T_TTG|{null, null, null...|\n",
      "|-3544786763432086627|-9215091430977920480|         1|  1_26871242_T_A|{null, null, null...|\n",
      "|-3544786763432086627|-9215091430977920480|         1|  1_26872446_C_G|{null, null, null...|\n",
      "|-3544786763432086627|-9215091430977920480|         1|  1_26873665_T_C|{null, null, null...|\n",
      "+--------------------+--------------------+----------+----------------+--------------------+\n",
      "only showing top 20 rows\n",
      "\n",
      "None\n"
     ]
    },
    {
     "name": "stderr",
     "output_type": "stream",
     "text": [
      "[Stage 117:===============================>                         (5 + 4) / 9]\r"
     ]
    },
    {
     "name": "stdout",
     "output_type": "stream",
     "text": [
      "4537734\n"
     ]
    },
    {
     "name": "stderr",
     "output_type": "stream",
     "text": [
      "                                                                                \r"
     ]
    }
   ],
   "source": [
    "# Count the number of rows in the overlap DataFrame\n",
    "print(study_locus_overlap_intra.df.show())\n",
    "print(study_locus_overlap_intra.df.count())\n",
    "print(study_locus_overlap_inter.df.show())\n",
    "print(study_locus_overlap_inter.df.count())"
   ]
  },
  {
   "cell_type": "markdown",
   "metadata": {},
   "source": [
    "#### Import StudyLocus Overlaps INTER AND INTRA for coloc"
   ]
  },
  {
   "cell_type": "code",
   "execution_count": 9,
   "metadata": {},
   "outputs": [
    {
     "name": "stdout",
     "output_type": "stream",
     "text": [
      "4537734\n"
     ]
    }
   ],
   "source": [
    "study_locus_overlaps = StudyLocusOverlap.from_parquet(session=session, path=\"data/overlaps_2024-06-19_13-06-30/\")\n",
    "# count the number of rows in the overlap DataFrame\n",
    "print(study_locus_overlaps.df.count())"
   ]
  },
  {
   "cell_type": "markdown",
   "metadata": {},
   "source": [
    "##### Example of output"
   ]
  },
  {
   "cell_type": "code",
   "execution_count": 132,
   "metadata": {},
   "outputs": [
    {
     "name": "stderr",
     "output_type": "stream",
     "text": [
      "                                                                                \r"
     ]
    },
    {
     "name": "stdout",
     "output_type": "stream",
     "text": [
      "+--------------------+--------------------+----------+------------------+--------------------+\n",
      "|    leftStudyLocusId|   rightStudyLocusId|chromosome|      tagVariantId|          statistics|\n",
      "+--------------------+--------------------+----------+------------------+--------------------+\n",
      "|-3544786763432086627|-9215091430977920480|         1|   1_26607100_AC_A|{11.005551205553,...|\n",
      "|-3544786763432086627|-9215091430977920480|         1|    1_26675220_A_G|{11.8288220892832...|\n",
      "|-3544786763432086627|-9215091430977920480|         1|    1_26675402_G_A|{11.5844899925472...|\n",
      "|-3544786763432086627|-9215091430977920480|         1|    1_26676156_T_C|{11.820897830622,...|\n",
      "|-3544786763432086627|-9215091430977920480|         1|    1_26688257_C_G|{11.6264599364101...|\n",
      "|-3544786763432086627|-9215091430977920480|         1|    1_26710663_T_G|{11.1957213194904...|\n",
      "|-3544786763432086627|-9215091430977920480|         1|    1_26724732_A_G|{11.1957213194904...|\n",
      "|-3544786763432086627|-9215091430977920480|         1|    1_26727525_A_G|{11.1953533579047...|\n",
      "|-3544786763432086627|-9215091430977920480|         1|    1_26750763_T_A|{11.1955177151282...|\n",
      "|-3544786763432086627|-9215091430977920480|         1|    1_26751875_G_A|{11.1955993759318...|\n",
      "|-3544786763432086627|-9215091430977920480|         1|    1_26771828_G_A|{11.1962123161251...|\n",
      "|-3544786763432086627|-9215091430977920480|         1|    1_26778568_C_T|{11.2266230656109...|\n",
      "|-3544786763432086627|-9215091430977920480|         1|    1_26787956_G_A|{11.1945925134486...|\n",
      "|-3544786763432086627|-9215091430977920480|         1|    1_26815377_A_G|{11.1832857101866...|\n",
      "|-3544786763432086627|-9215091430977920480|         1|    1_26817084_T_C|{11.1805961123034...|\n",
      "|-3544786763432086627|-9215091430977920480|         1|    1_26820453_G_T|{null, null, null...|\n",
      "|-3544786763432086627|-9215091430977920480|         1|  1_26868145_T_TTG|{null, null, null...|\n",
      "|-3544786763432086627|-9215091430977920480|         1|    1_26871242_T_A|{null, null, null...|\n",
      "|-3544786763432086627|-9215091430977920480|         1|    1_26872446_C_G|{null, null, null...|\n",
      "|-3544786763432086627|-9215091430977920480|         1|    1_26873665_T_C|{null, null, null...|\n",
      "|-3544786763432086627|-9215091430977920480|         1|    1_26887623_A_G|{null, null, null...|\n",
      "| 1761471768808025546|-9215091430977920480|         1|    1_23619093_G_A|{2.58159194451649...|\n",
      "| 1761471768808025546|-9215091430977920480|         1|    1_23669552_G_A|{2.06300969604926...|\n",
      "| 1761471768808025546|-9215091430977920480|         1|    1_23673514_A_G|{2.15479898509313...|\n",
      "| 1761471768808025546|-9215091430977920480|         1|    1_23741694_A_C|{2.02902404664017...|\n",
      "| 1761471768808025546|-9215091430977920480|         1|   1_23948077_GT_G|{2.32942648007559...|\n",
      "| 1761471768808025546|-9215091430977920480|         1|    1_24046481_C_T|{1.56545661938064...|\n",
      "| 1761471768808025546|-9215091430977920480|         1|    1_24046875_C_T|{1.58998266330059...|\n",
      "| 1761471768808025546|-9215091430977920480|         1|   1_24164759_C_CT|{1.91598715093027...|\n",
      "| 1761471768808025546|-9215091430977920480|         1|    1_24181896_C_T|{4.17137687211609...|\n",
      "| 1761471768808025546|-9215091430977920480|         1|    1_24438229_G_A|{1.65818562094555...|\n",
      "| 1761471768808025546|-9215091430977920480|         1|    1_24485172_T_C|{1.67207826520763...|\n",
      "| 1761471768808025546|-9215091430977920480|         1|    1_24493166_G_A|{1.66710526725467...|\n",
      "| 1761471768808025546|-9215091430977920480|         1|    1_24560669_A_G|{1.89213347592953...|\n",
      "| 1761471768808025546|-9215091430977920480|         1|    1_24561586_T_C|{1.6378319093118,...|\n",
      "| 1761471768808025546|-9215091430977920480|         1|    1_24580220_A_G|{2.86896102933144...|\n",
      "| 1761471768808025546|-9215091430977920480|         1|    1_24609712_G_A|{1.53312064725657...|\n",
      "| 1761471768808025546|-9215091430977920480|         1|    1_24690346_T_C|{3.83613115795292...|\n",
      "| 1761471768808025546|-9215091430977920480|         1|    1_24717289_A_G|{3.54357583298751...|\n",
      "| 1761471768808025546|-9215091430977920480|         1|    1_24720684_A_G|{3.33522986044484...|\n",
      "| 1761471768808025546|-9215091430977920480|         1|    1_24721721_C_G|{3.36851555457473...|\n",
      "| 1761471768808025546|-9215091430977920480|         1|    1_24739381_C_G|{4.56399783817603...|\n",
      "| 1761471768808025546|-9215091430977920480|         1|    1_24739957_T_C|{8.17259778952304...|\n",
      "| 1761471768808025546|-9215091430977920480|         1|1_24750320_TGGTA_T|{3.60137780148276...|\n",
      "| 1761471768808025546|-9215091430977920480|         1|    1_24763955_G_C|{7.99628246156441...|\n",
      "| 1761471768808025546|-9215091430977920480|         1|    1_24766982_C_T|{7.77748188544869...|\n",
      "| 1761471768808025546|-9215091430977920480|         1|    1_24786996_C_G|{7.57961884977895...|\n",
      "| 1761471768808025546|-9215091430977920480|         1|    1_24797499_G_A|{8.06063999840406...|\n",
      "| 1761471768808025546|-9215091430977920480|         1|    1_24808513_C_T|{8.05015461347155...|\n",
      "| 1761471768808025546|-9215091430977920480|         1|    1_24821800_G_T|{8.01069073123509...|\n",
      "+--------------------+--------------------+----------+------------------+--------------------+\n",
      "only showing top 50 rows\n",
      "\n",
      "None\n"
     ]
    },
    {
     "name": "stderr",
     "output_type": "stream",
     "text": [
      "[Stage 3596:==============>                                         (1 + 3) / 4]\r"
     ]
    },
    {
     "name": "stdout",
     "output_type": "stream",
     "text": [
      "+----------------+-----------------+----------+------------+----------+\n",
      "|leftStudyLocusId|rightStudyLocusId|chromosome|tagVariantId|statistics|\n",
      "+----------------+-----------------+----------+------------+----------+\n",
      "+----------------+-----------------+----------+------------+----------+\n",
      "\n",
      "None\n"
     ]
    },
    {
     "name": "stderr",
     "output_type": "stream",
     "text": [
      "                                                                                \r"
     ]
    }
   ],
   "source": [
    "print(study_locus_overlaps.df.show(50))\n",
    "df = study_locus_overlaps.df\n",
    "filtered_row = df.filter((df.leftStudyLocusId == -3544786763432086627) & (df.rightStudyLocusId == -3544786763432086627))\n",
    "print(filtered_row.show())\n",
    "# no overlaps for a single locus therefore no colocalisation found."
   ]
  },
  {
   "cell_type": "markdown",
   "metadata": {},
   "source": [
    "#### Colocalisation for SL overlap"
   ]
  },
  {
   "cell_type": "code",
   "execution_count": 10,
   "metadata": {},
   "outputs": [
    {
     "name": "stderr",
     "output_type": "stream",
     "text": [
      "                                                                                \r"
     ]
    },
    {
     "name": "stdout",
     "output_type": "stream",
     "text": [
      "+----------+--------------------+--------------------+--------------------------+--------------------+--------------------+--------------------+--------------------+--------------------+------------------+--------------------+\n",
      "|chromosome|    leftStudyLocusId|   rightStudyLocusId|numberColocalisingVariants|                  h0|                  h1|                  h2|                  h3|                  h4|          log2h4h3|colocalisationMethod|\n",
      "+----------+--------------------+--------------------+--------------------------+--------------------+--------------------+--------------------+--------------------+--------------------+------------------+--------------------+\n",
      "|         1|-7739811754326032609|-8580726767903703361|                         9|1.982276920469156...|1.341592281969666...|3.353873509699807...|  0.0217208566430716|  0.9779437558698183|5.4925985869166185|               COLOC|\n",
      "|         1|-7180920194711895424|-8803538001521518159|                         2|1.445687016280731...|9.711416173937053...|2.300574357372228...|5.459589784325688E-4|  0.9994540170446677| 10.83813192169471|               COLOC|\n",
      "|         1|-7145299275585606737|-8780263499383943526|                         9|2.214284252036586...|2.477526412888766...|8.790067799587312E-6| 0.00884391571771801|   0.991147293966509|6.8082703850246515|               COLOC|\n",
      "|         1|-6982916822936356932|-8404678411441676549|                         3|5.869043156597877...|2.295631145634673...|7.67887463182419E-12|0.002005540660627491|  0.9979921637005416|  8.95889346138511|               COLOC|\n",
      "|         1|-6976441487811867207|-9003725253470911662|                         5|2.482527593649097...|9.71465357072029E-35|3.752589310645847...|4.689362048186816E-4|  0.9995310637576619|11.057644020411137|               COLOC|\n",
      "|         1|-6915892345573764258|-8379240879582418428|                         2|2.512489977763670...|1.024671711604165...|2.793564027467762...|1.394419103122991E-4|  0.9998605580896959|12.807846954169282|               COLOC|\n",
      "|         1|-6806256958093033363|-7962406418940120779|                        35|1.924958440454688...|1.999402237966289...|1.951421454361538E-9| 0.01928817472043934|  0.9807118231281988| 5.668040740805544|               COLOC|\n",
      "|         1|-6754932436874375933|-9190784749517929122|                         3|8.565460901593673...|2.404818663109087...|1.475090010185164...|0.003144572602001958|  0.9968554273980036| 8.308376532480825|               COLOC|\n",
      "|         1|-6754932436874375933|-7180920194711895424|                         2|6.83871070854909E-81|1.920020338947894...|4.593910371744178...|2.900655592543833...|  0.9997099152405486|  11.7509148067463|               COLOC|\n",
      "|         1|-6665342140887893858|-7158114885585522331|                        81|1.474291692780112...|1.360247092225562...|1.040119159845221...| 0.09506108122836666|   0.904938907010195| 3.250893682127023|               COLOC|\n",
      "|         1|-6537580501025996148|-7314330756286545625|                         3|1.954371244527008...|4.853404102674819...|8.355763884447051E-8|0.001076111776794...|  0.9989238046655596| 9.858402887089731|               COLOC|\n",
      "|         1|-6429284521705920777|-9013767566002770179|                       777|2.698141231099939E-9|3.860712684708754...|0.062089771706713495|  0.8883797573176531|0.049530429670366416|-4.164789478570101|               COLOC|\n",
      "|         1|-6077882869059078660|-9003725253470911662|                         5|2.241871150082478...|8.460926923598817...|3.388812972378169...|2.792331517825764...|  0.9997207665093345|11.805839239733206|               COLOC|\n",
      "|         1|-6077882869059078660|-7739811754326032609|                         9|5.51113453516146E-11|2.079928035621036...|3.729900439702032E-9|0.013090117406130183|  0.9867018860052956| 6.236064324417278|               COLOC|\n",
      "|         1|-5964812524197899578|-8329014260451803785|                         8|3.111033661175143...|6.567875140399252E-6|2.068539491508759...|0.003370405759761...|  0.9966023098598465|  8.20795182111606|               COLOC|\n",
      "|         1|-5616666047137734091|-7180920194711895424|                         2|3.214871748443797...|1.805878449163851...|2.159593130696513...|2.133138842667766...|  0.9997866680569525|12.194426702283351|               COLOC|\n",
      "|         1|-5556402962622423205|-6856914540680514982|                        14|5.804146043731302...|1.031829177533135...|1.332749304020768E-5|0.001370682836443...|  0.9986056133372786|  9.50887642289989|               COLOC|\n",
      "|         1|-5544109762146767547|-7314330756286545625|                         1|                 0.0|2.338949821409692...|2.075694643718163...|                 0.0|                 1.0|              null|               COLOC|\n",
      "|         1|-5544109762146767547|-5616666047137734091|                         1|3.695205550282926...|1.780225989148114...|2.0756946437184E-228|3.695205550652473...|                 1.0| 968.1173490887036|               COLOC|\n",
      "|         1|-5446870277669156631|-6668309564054392349|                         3|1.032835507277973...|2.100930237201216...|3.305370606228926...|0.005729345373746371|  0.9942354896615984| 7.439073483325427|               COLOC|\n",
      "+----------+--------------------+--------------------+--------------------------+--------------------+--------------------+--------------------+--------------------+--------------------+------------------+--------------------+\n",
      "only showing top 20 rows\n",
      "\n",
      "None\n"
     ]
    },
    {
     "name": "stderr",
     "output_type": "stream",
     "text": [
      "                                                                                \r"
     ]
    },
    {
     "name": "stdout",
     "output_type": "stream",
     "text": [
      "+----------+--------------------+--------------------+--------------------------+--------------------+--------------------+--------------------+--------------------+------------------+------------------+--------------------+\n",
      "|chromosome|    leftStudyLocusId|   rightStudyLocusId|numberColocalisingVariants|                  h0|                  h1|                  h2|                  h3|                h4|          log2h4h3|colocalisationMethod|\n",
      "+----------+--------------------+--------------------+--------------------------+--------------------+--------------------+--------------------+--------------------+------------------+------------------+--------------------+\n",
      "|         1|-7739811754326032609|-8580726767903703361|                         9|1.982276920469156...|1.341592281969666...|3.353873509699807...|  0.0217208566430716|0.9779437558698183|5.4925985869166185|               COLOC|\n",
      "|         1|-7180920194711895424|-8803538001521518159|                         2|1.445687016280731...|9.711416173937053...|2.300574357372228...|5.459589784325688E-4|0.9994540170446677| 10.83813192169471|               COLOC|\n",
      "|         1|-7145299275585606737|-8780263499383943526|                         9|2.214284252036586...|2.477526412888766...|8.790067799587312E-6| 0.00884391571771801| 0.991147293966509|6.8082703850246515|               COLOC|\n",
      "|         1|-6982916822936356932|-8404678411441676549|                         3|5.869043156597877...|2.295631145634673...|7.67887463182419E-12|0.002005540660627491|0.9979921637005416|  8.95889346138511|               COLOC|\n",
      "|         1|-6976441487811867207|-9003725253470911662|                         5|2.482527593649097...|9.71465357072029E-35|3.752589310645847...|4.689362048186816E-4|0.9995310637576619|11.057644020411137|               COLOC|\n",
      "|         1|-6915892345573764258|-8379240879582418428|                         2|2.512489977763670...|1.024671711604165...|2.793564027467762...|1.394419103122991E-4|0.9998605580896959|12.807846954169282|               COLOC|\n",
      "|         1|-6806256958093033363|-7962406418940120779|                        35|1.924958440454688...|1.999402237966289...|1.951421454361538E-9| 0.01928817472043934|0.9807118231281988| 5.668040740805544|               COLOC|\n",
      "|         1|-6754932436874375933|-9190784749517929122|                         3|8.565460901593673...|2.404818663109087...|1.475090010185164...|0.003144572602001958|0.9968554273980036| 8.308376532480825|               COLOC|\n",
      "|         1|-6754932436874375933|-7180920194711895424|                         2|6.83871070854909E-81|1.920020338947894...|4.593910371744178...|2.900655592543833...|0.9997099152405486|  11.7509148067463|               COLOC|\n",
      "|         1|-6665342140887893858|-7158114885585522331|                        81|1.474291692780112...|1.360247092225562...|1.040119159845221...| 0.09506108122836666| 0.904938907010195| 3.250893682127023|               COLOC|\n",
      "|         1|-6537580501025996148|-7314330756286545625|                         3|1.954371244527008...|4.853404102674819...|8.355763884447051E-8|0.001076111776794...|0.9989238046655596| 9.858402887089731|               COLOC|\n",
      "|         1|-6077882869059078660|-9003725253470911662|                         5|2.241871150082478...|8.460926923598817...|3.388812972378169...|2.792331517825764...|0.9997207665093345|11.805839239733206|               COLOC|\n",
      "|         1|-6077882869059078660|-7739811754326032609|                         9|5.51113453516146E-11|2.079928035621036...|3.729900439702032E-9|0.013090117406130183|0.9867018860052956| 6.236064324417278|               COLOC|\n",
      "|         1|-5964812524197899578|-8329014260451803785|                         8|3.111033661175143...|6.567875140399252E-6|2.068539491508759...|0.003370405759761...|0.9966023098598465|  8.20795182111606|               COLOC|\n",
      "|         1|-5616666047137734091|-7180920194711895424|                         2|3.214871748443797...|1.805878449163851...|2.159593130696513...|2.133138842667766...|0.9997866680569525|12.194426702283351|               COLOC|\n",
      "|         1|-5556402962622423205|-6856914540680514982|                        14|5.804146043731302...|1.031829177533135...|1.332749304020768E-5|0.001370682836443...|0.9986056133372786|  9.50887642289989|               COLOC|\n",
      "|         1|-5544109762146767547|-7314330756286545625|                         1|                 0.0|2.338949821409692...|2.075694643718163...|                 0.0|               1.0|              null|               COLOC|\n",
      "|         1|-5544109762146767547|-5616666047137734091|                         1|3.695205550282926...|1.780225989148114...|2.0756946437184E-228|3.695205550652473...|               1.0| 968.1173490887036|               COLOC|\n",
      "|         1|-5446870277669156631|-6668309564054392349|                         3|1.032835507277973...|2.100930237201216...|3.305370606228926...|0.005729345373746371|0.9942354896615984| 7.439073483325427|               COLOC|\n",
      "|         1|-5446870277669156631|-6429284521705920777|                       777| 9.62239693883112E-7|1.958073364638387...| 1.37684823503118E-5|0.001803779692118...| 0.997985682249374| 9.111852164450202|               COLOC|\n",
      "+----------+--------------------+--------------------+--------------------------+--------------------+--------------------+--------------------+--------------------+------------------+------------------+--------------------+\n",
      "only showing top 20 rows\n",
      "\n",
      "None\n"
     ]
    },
    {
     "name": "stderr",
     "output_type": "stream",
     "text": [
      "[Stage 132:===================>                                     (3 + 6) / 9]\r"
     ]
    },
    {
     "name": "stdout",
     "output_type": "stream",
     "text": [
      "+----------+--------------------+--------------------+--------------------------+--------------------+--------------------+--------------------+--------------------+------------------+------------------+--------------------+\n",
      "|chromosome|    leftStudyLocusId|   rightStudyLocusId|numberColocalisingVariants|                  h0|                  h1|                  h2|                  h3|                h4|          log2h4h3|colocalisationMethod|\n",
      "+----------+--------------------+--------------------+--------------------------+--------------------+--------------------+--------------------+--------------------+------------------+------------------+--------------------+\n",
      "|         1|-6077882869059078660|-7739811754326032609|                         9|5.51113453516146E-11|2.079928035621036...|3.729900439702032E-9|0.013090117406130183|0.9867018860052956| 6.236064324417278|               COLOC|\n",
      "|         1|-7739811754326032609|-8580726767903703361|                         9|1.982276920469156...|1.341592281969666...|3.353873509699807...|  0.0217208566430716|0.9779437558698183|5.4925985869166185|               COLOC|\n",
      "|         1| 1641425910263186189|-7739811754326032609|                        10|6.301530347587577...|6.770442569951211E-5|4.264841548121541...|0.003585852352794079|0.9963464431782271| 8.118187577377613|               COLOC|\n",
      "|         1| 7035051816557915135|-7739811754326032609|                         9|5.841403451293542...|3.589690009653572...|3.953424319883411...|0.023318468755182266|0.9763225622438494| 5.387812911350457|               COLOC|\n",
      "|         1| 2440361898080707210|-7739811754326032609|                         9|2.745188822923565...|3.917762902742722...|1.857926155197322...|0.025541100453160864|0.9740671232377095|  5.25312860140476|               COLOC|\n",
      "|         1|-3398133524321575098|-7739811754326032609|                         9|3.368884837177283...|3.408372865022183...|2.280039609870442...|0.022090079450458662|0.9775690832607237|   5.4677281463033|               COLOC|\n",
      "|         1|-7739811754326032609|-9003725253470911662|                         9|2.374761468389327...|1.607223301957237...|3.589690009653547E-4|  0.0233184687551826|0.9763225622438563| 5.387812911350446|               COLOC|\n",
      "|         1| 7810678520698326619|-7739811754326032609|                         9|5.76724910981206E-30|3.589690009653572...|3.903237138073034...|  0.0233184687551826|0.9763225622438563| 5.387812911350446|               COLOC|\n",
      "|         1|-6976441487811867207|-7739811754326032609|                         9|4.014039677324839...|1.570778306130170...|2.716676260017428...|0.009640724442661699|0.9902021974510428| 6.682437780284545|               COLOC|\n",
      "|         1|  622425396178407438|-7739811754326032609|                        10|1.429142063135659E-6|1.185531990925747...|9.672355940271697E-5| 0.00703086375911915|0.9927524303403217| 7.141588238502169|               COLOC|\n",
      "+----------+--------------------+--------------------+--------------------------+--------------------+--------------------+--------------------+--------------------+------------------+------------------+--------------------+\n",
      "\n",
      "None\n"
     ]
    },
    {
     "name": "stderr",
     "output_type": "stream",
     "text": [
      "                                                                                \r"
     ]
    }
   ],
   "source": [
    "from gentropy.method.colocalisation import Coloc\n",
    "from gentropy.dataset.colocalisation import Colocalisation\n",
    "import pyspark.sql.functions as F\n",
    "\n",
    "# 1. Perform Colocalization\n",
    "coloc_results = Coloc.colocalise(study_locus_overlaps)\n",
    "\n",
    "print(coloc_results.df.show())\n",
    "\n",
    "# 2. Analyze Colocalization Results\n",
    "# Filter for significant colocalization (e.g., using a threshold for PP.H4)\n",
    "significant_coloc = coloc_results.filter(F.col(\"h4\") > 0.8)\n",
    "\n",
    "# Print the results\n",
    "print(significant_coloc.df.show())\n",
    "\n",
    "# Print subset 7739811754326032609\n",
    "filtered_row = coloc_results.df.filter((coloc_results.df.leftStudyLocusId == -7739811754326032609) | (coloc_results.df.rightStudyLocusId == -7739811754326032609))\n",
    "print(filtered_row.show())\n"
   ]
  },
  {
   "cell_type": "code",
   "execution_count": 14,
   "metadata": {},
   "outputs": [
    {
     "name": "stdout",
     "output_type": "stream",
     "text": [
      "24/06/19 13:20:43 WARN CacheManager: Asked to cache already cached data.\n",
      "24/06/19 13:20:43 WARN CacheManager: Asked to cache already cached data.\n"
     ]
    },
    {
     "name": "stderr",
     "output_type": "stream",
     "text": [
      "                                                                                \r"
     ]
    }
   ],
   "source": [
    "# Running coloc step function for debugging\n",
    "from gentropy.colocalisation import ColocalisationStep\n",
    "coloc = ColocalisationStep(session=session, credible_set_path=path_cred_sets, study_index_path=path_si, coloc_path = \"output\", colocalisation_method=\"Coloc\")\n"
   ]
  },
  {
   "cell_type": "code",
   "execution_count": 15,
   "metadata": {},
   "outputs": [
    {
     "name": "stdout",
     "output_type": "stream",
     "text": [
      "<gentropy.colocalisation.ColocalisationStep object at 0x7f4b503fb5b0>\n",
      "+--------------------+--------------------+----------+--------------------+--------------------------+--------------------+--------------------+--------------------+--------------------+--------------------+------------------+----+\n",
      "|    leftStudyLocusId|   rightStudyLocusId|chromosome|colocalisationMethod|numberColocalisingVariants|                  h0|                  h1|                  h2|                  h3|                  h4|          log2h4h3|clpp|\n",
      "+--------------------+--------------------+----------+--------------------+--------------------------+--------------------+--------------------+--------------------+--------------------+--------------------+------------------+----+\n",
      "|-7739811754326032609|-8580726767903703361|         1|               COLOC|                         9|1.982276920469156...|1.341592281969666...|3.353873509699807...|  0.0217208566430716|  0.9779437558698183|5.4925985869166185|null|\n",
      "|-7180920194711895424|-8803538001521518159|         1|               COLOC|                         2|1.445687016280731...|9.711416173937053...|2.300574357372228...|5.459589784325688E-4|  0.9994540170446677| 10.83813192169471|null|\n",
      "|-7145299275585606737|-8780263499383943526|         1|               COLOC|                         9|2.214284252036586...|2.477526412888766...|8.790067799587312E-6| 0.00884391571771801|   0.991147293966509|6.8082703850246515|null|\n",
      "|-6982916822936356932|-8404678411441676549|         1|               COLOC|                         3|5.869043156597877...|2.295631145634673...|7.67887463182419E-12|0.002005540660627491|  0.9979921637005416|  8.95889346138511|null|\n",
      "|-6976441487811867207|-9003725253470911662|         1|               COLOC|                         5|2.482527593649097...|9.71465357072029E-35|3.752589310645847...|4.689362048186816E-4|  0.9995310637576619|11.057644020411137|null|\n",
      "|-6915892345573764258|-8379240879582418428|         1|               COLOC|                         2|2.512489977763670...|1.024671711604165...|2.793564027467762...|1.394419103122991E-4|  0.9998605580896959|12.807846954169282|null|\n",
      "|-6806256958093033363|-7962406418940120779|         1|               COLOC|                        35|1.924958440454688...|1.999402237966289...|1.951421454361538E-9| 0.01928817472043934|  0.9807118231281988| 5.668040740805544|null|\n",
      "|-6754932436874375933|-9190784749517929122|         1|               COLOC|                         3|8.565460901593673...|2.404818663109087...|1.475090010185164...|0.003144572602001958|  0.9968554273980036| 8.308376532480825|null|\n",
      "|-6754932436874375933|-7180920194711895424|         1|               COLOC|                         2|6.83871070854909E-81|1.920020338947894...|4.593910371744178...|2.900655592543833...|  0.9997099152405486|  11.7509148067463|null|\n",
      "|-6665342140887893858|-7158114885585522331|         1|               COLOC|                        81|1.474291692780112...|1.360247092225562...|1.040119159845221...| 0.09506108122836666|   0.904938907010195| 3.250893682127023|null|\n",
      "|-6537580501025996148|-7314330756286545625|         1|               COLOC|                         3|1.954371244527008...|4.853404102674819...|8.355763884447051E-8|0.001076111776794...|  0.9989238046655596| 9.858402887089731|null|\n",
      "|-6429284521705920777|-9013767566002770179|         1|               COLOC|                       777|2.698141231099939E-9|3.860712684708754...|0.062089771706713495|  0.8883797573176531|0.049530429670366416|-4.164789478570101|null|\n",
      "|-6077882869059078660|-9003725253470911662|         1|               COLOC|                         5|2.241871150082478...|8.460926923598817...|3.388812972378169...|2.792331517825764...|  0.9997207665093345|11.805839239733206|null|\n",
      "|-6077882869059078660|-7739811754326032609|         1|               COLOC|                         9|5.51113453516146E-11|2.079928035621036...|3.729900439702032E-9|0.013090117406130183|  0.9867018860052956| 6.236064324417278|null|\n",
      "|-5964812524197899578|-8329014260451803785|         1|               COLOC|                         8|3.111033661175143...|6.567875140399252E-6|2.068539491508759...|0.003370405759761...|  0.9966023098598465|  8.20795182111606|null|\n",
      "|-5616666047137734091|-7180920194711895424|         1|               COLOC|                         2|3.214871748443797...|1.805878449163851...|2.159593130696513...|2.133138842667766...|  0.9997866680569525|12.194426702283351|null|\n",
      "|-5556402962622423205|-6856914540680514982|         1|               COLOC|                        14|5.804146043731302...|1.031829177533135...|1.332749304020768E-5|0.001370682836443...|  0.9986056133372786|  9.50887642289989|null|\n",
      "|-5544109762146767547|-7314330756286545625|         1|               COLOC|                         1|                 0.0|2.338949821409692...|2.075694643718163...|                 0.0|                 1.0|              null|null|\n",
      "|-5544109762146767547|-5616666047137734091|         1|               COLOC|                         1|3.695205550282926...|1.780225989148114...|2.0756946437184E-228|3.695205550652473...|                 1.0| 968.1173490887036|null|\n",
      "|-5446870277669156631|-6668309564054392349|         1|               COLOC|                         3|1.032835507277973...|2.100930237201216...|3.305370606228926...|0.005729345373746371|  0.9942354896615984| 7.439073483325427|null|\n",
      "+--------------------+--------------------+----------+--------------------+--------------------------+--------------------+--------------------+--------------------+--------------------+--------------------+------------------+----+\n",
      "only showing top 20 rows\n",
      "\n",
      "None\n",
      "+--------------------+--------------------+----------+--------------------+--------------------------+--------------------+--------------------+--------------------+--------------------+------------------+------------------+----+\n",
      "|    leftStudyLocusId|   rightStudyLocusId|chromosome|colocalisationMethod|numberColocalisingVariants|                  h0|                  h1|                  h2|                  h3|                h4|          log2h4h3|clpp|\n",
      "+--------------------+--------------------+----------+--------------------+--------------------------+--------------------+--------------------+--------------------+--------------------+------------------+------------------+----+\n",
      "|-7739811754326032609|-8580726767903703361|         1|               COLOC|                         9|1.982276920469156...|1.341592281969666...|3.353873509699807...|  0.0217208566430716|0.9779437558698183|5.4925985869166185|null|\n",
      "|-6077882869059078660|-7739811754326032609|         1|               COLOC|                         9|5.51113453516146E-11|2.079928035621036...|3.729900439702032E-9|0.013090117406130183|0.9867018860052956| 6.236064324417278|null|\n",
      "|-7739811754326032609|-9003725253470911662|         1|               COLOC|                         9|2.374761468389327...|1.607223301957237...|3.589690009653547E-4|  0.0233184687551826|0.9763225622438563| 5.387812911350446|null|\n",
      "|-6976441487811867207|-7739811754326032609|         1|               COLOC|                         9|4.014039677324839...|1.570778306130170...|2.716676260017428...|0.009640724442661699|0.9902021974510428| 6.682437780284545|null|\n",
      "| 7810678520698326619|-7739811754326032609|         1|               COLOC|                         9|5.76724910981206E-30|3.589690009653572...|3.903237138073034...|  0.0233184687551826|0.9763225622438563| 5.387812911350446|null|\n",
      "|  622425396178407438|-7739811754326032609|         1|               COLOC|                        10|1.429142063135659E-6|1.185531990925747...|9.672355940271697E-5| 0.00703086375911915|0.9927524303403217| 7.141588238502169|null|\n",
      "| 1641425910263186189|-7739811754326032609|         1|               COLOC|                        10|6.301530347587577...|6.770442569951211E-5|4.264841548121541...|0.003585852352794079|0.9963464431782271| 8.118187577377613|null|\n",
      "|-3398133524321575098|-7739811754326032609|         1|               COLOC|                         9|3.368884837177283...|3.408372865022183...|2.280039609870442...|0.022090079450458662|0.9775690832607237|   5.4677281463033|null|\n",
      "| 2440361898080707210|-7739811754326032609|         1|               COLOC|                         9|2.745188822923565...|3.917762902742722...|1.857926155197322...|0.025541100453160864|0.9740671232377095|  5.25312860140476|null|\n",
      "| 7035051816557915135|-7739811754326032609|         1|               COLOC|                         9|5.841403451293542...|3.589690009653572...|3.953424319883411...|0.023318468755182266|0.9763225622438494| 5.387812911350457|null|\n",
      "+--------------------+--------------------+----------+--------------------+--------------------------+--------------------+--------------------+--------------------+--------------------+------------------+------------------+----+\n",
      "\n",
      "None\n"
     ]
    }
   ],
   "source": [
    "print(coloc)\n",
    "from gentropy.dataset.colocalisation import Colocalisation\n",
    "output_path = \"output/coloc/\"\n",
    "coloc_step_results = Colocalisation.from_parquet(session=session,path=output_path)\n",
    "print(coloc_step_results.df.show())\n",
    "\n",
    "# Print subset -7739811754326032609\n",
    "filtered_row = coloc_step_results.df.filter((coloc_step_results.df.leftStudyLocusId == -7739811754326032609) | (coloc_step_results.df.rightStudyLocusId == -7739811754326032609))\n",
    "print(filtered_row.show())\n",
    "# Find any matching rows\n",
    "for row in coloc_step_results.df.collect():\n",
    "    if row.leftStudyLocusId == row.rightStudyLocusId:\n",
    "        print(row)"
   ]
  },
  {
   "cell_type": "code",
   "execution_count": 16,
   "metadata": {},
   "outputs": [
    {
     "name": "stderr",
     "output_type": "stream",
     "text": [
      "[Stage 179:============================================>            (7 + 2) / 9]\r"
     ]
    },
    {
     "name": "stdout",
     "output_type": "stream",
     "text": [
      "32429\n"
     ]
    },
    {
     "name": "stderr",
     "output_type": "stream",
     "text": [
      "                                                                                \r"
     ]
    }
   ],
   "source": [
    "print(significant_coloc.df.count())"
   ]
  },
  {
   "cell_type": "code",
   "execution_count": 53,
   "metadata": {},
   "outputs": [
    {
     "name": "stdout",
     "output_type": "stream",
     "text": [
      "<class 'gentropy.dataset.colocalisation.Colocalisation'>\n",
      "<class 'pyspark.sql.dataframe.DataFrame'>\n"
     ]
    }
   ],
   "source": [
    "# Show the schema of the colocalization results\n",
    "schema = Colocalisation.get_schema()\n",
    "#print(schema)\n",
    "print(type(significant_coloc))\n",
    "print(type(significant_coloc.df))\n"
   ]
  },
  {
   "cell_type": "code",
   "execution_count": 17,
   "metadata": {},
   "outputs": [
    {
     "name": "stderr",
     "output_type": "stream",
     "text": [
      "                                                                                \r"
     ]
    }
   ],
   "source": [
    "# Convert pyspark dataframe to pandas dataframe\n",
    "\n",
    "coloc_pd_df = significant_coloc.df.toPandas()\n"
   ]
  },
  {
   "cell_type": "code",
   "execution_count": 18,
   "metadata": {},
   "outputs": [
    {
     "data": {
      "text/html": [
       "<div>\n",
       "<style scoped>\n",
       "    .dataframe tbody tr th:only-of-type {\n",
       "        vertical-align: middle;\n",
       "    }\n",
       "\n",
       "    .dataframe tbody tr th {\n",
       "        vertical-align: top;\n",
       "    }\n",
       "\n",
       "    .dataframe thead th {\n",
       "        text-align: right;\n",
       "    }\n",
       "</style>\n",
       "<table border=\"1\" class=\"dataframe\">\n",
       "  <thead>\n",
       "    <tr style=\"text-align: right;\">\n",
       "      <th></th>\n",
       "      <th>chromosome</th>\n",
       "      <th>leftStudyLocusId</th>\n",
       "      <th>rightStudyLocusId</th>\n",
       "      <th>numberColocalisingVariants</th>\n",
       "      <th>h0</th>\n",
       "      <th>h1</th>\n",
       "      <th>h2</th>\n",
       "      <th>h3</th>\n",
       "      <th>h4</th>\n",
       "      <th>log2h4h3</th>\n",
       "      <th>colocalisationMethod</th>\n",
       "    </tr>\n",
       "  </thead>\n",
       "  <tbody>\n",
       "    <tr>\n",
       "      <th>0</th>\n",
       "      <td>1</td>\n",
       "      <td>-7739811754326032609</td>\n",
       "      <td>-8580726767903703361</td>\n",
       "      <td>9</td>\n",
       "      <td>1.982277e-12</td>\n",
       "      <td>1.341592e-10</td>\n",
       "      <td>3.353874e-04</td>\n",
       "      <td>0.021721</td>\n",
       "      <td>0.977944</td>\n",
       "      <td>5.492599</td>\n",
       "      <td>COLOC</td>\n",
       "    </tr>\n",
       "    <tr>\n",
       "      <th>1</th>\n",
       "      <td>1</td>\n",
       "      <td>-7180920194711895424</td>\n",
       "      <td>-8803538001521518159</td>\n",
       "      <td>2</td>\n",
       "      <td>1.445687e-14</td>\n",
       "      <td>9.711416e-10</td>\n",
       "      <td>2.300574e-08</td>\n",
       "      <td>0.000546</td>\n",
       "      <td>0.999454</td>\n",
       "      <td>10.838132</td>\n",
       "      <td>COLOC</td>\n",
       "    </tr>\n",
       "    <tr>\n",
       "      <th>2</th>\n",
       "      <td>1</td>\n",
       "      <td>-7145299275585606737</td>\n",
       "      <td>-8780263499383943526</td>\n",
       "      <td>9</td>\n",
       "      <td>2.214284e-13</td>\n",
       "      <td>2.477526e-10</td>\n",
       "      <td>8.790068e-06</td>\n",
       "      <td>0.008844</td>\n",
       "      <td>0.991147</td>\n",
       "      <td>6.808270</td>\n",
       "      <td>COLOC</td>\n",
       "    </tr>\n",
       "    <tr>\n",
       "      <th>3</th>\n",
       "      <td>1</td>\n",
       "      <td>-6982916822936356932</td>\n",
       "      <td>-8404678411441676549</td>\n",
       "      <td>3</td>\n",
       "      <td>5.869043e-15</td>\n",
       "      <td>2.295631e-06</td>\n",
       "      <td>7.678875e-12</td>\n",
       "      <td>0.002006</td>\n",
       "      <td>0.997992</td>\n",
       "      <td>8.958893</td>\n",
       "      <td>COLOC</td>\n",
       "    </tr>\n",
       "    <tr>\n",
       "      <th>4</th>\n",
       "      <td>1</td>\n",
       "      <td>-6976441487811867207</td>\n",
       "      <td>-9003725253470911662</td>\n",
       "      <td>5</td>\n",
       "      <td>2.482528e-42</td>\n",
       "      <td>9.714654e-35</td>\n",
       "      <td>3.752589e-11</td>\n",
       "      <td>0.000469</td>\n",
       "      <td>0.999531</td>\n",
       "      <td>11.057644</td>\n",
       "      <td>COLOC</td>\n",
       "    </tr>\n",
       "  </tbody>\n",
       "</table>\n",
       "</div>"
      ],
      "text/plain": [
       "  chromosome     leftStudyLocusId    rightStudyLocusId  \\\n",
       "0          1 -7739811754326032609 -8580726767903703361   \n",
       "1          1 -7180920194711895424 -8803538001521518159   \n",
       "2          1 -7145299275585606737 -8780263499383943526   \n",
       "3          1 -6982916822936356932 -8404678411441676549   \n",
       "4          1 -6976441487811867207 -9003725253470911662   \n",
       "\n",
       "   numberColocalisingVariants            h0            h1            h2  \\\n",
       "0                           9  1.982277e-12  1.341592e-10  3.353874e-04   \n",
       "1                           2  1.445687e-14  9.711416e-10  2.300574e-08   \n",
       "2                           9  2.214284e-13  2.477526e-10  8.790068e-06   \n",
       "3                           3  5.869043e-15  2.295631e-06  7.678875e-12   \n",
       "4                           5  2.482528e-42  9.714654e-35  3.752589e-11   \n",
       "\n",
       "         h3        h4   log2h4h3 colocalisationMethod  \n",
       "0  0.021721  0.977944   5.492599                COLOC  \n",
       "1  0.000546  0.999454  10.838132                COLOC  \n",
       "2  0.008844  0.991147   6.808270                COLOC  \n",
       "3  0.002006  0.997992   8.958893                COLOC  \n",
       "4  0.000469  0.999531  11.057644                COLOC  "
      ]
     },
     "execution_count": 18,
     "metadata": {},
     "output_type": "execute_result"
    }
   ],
   "source": [
    "# Show the first 5 rows of the pandas dataframe\n",
    "coloc_pd_df.head(5)\n",
    "\n",
    "# Summary of df\n",
    "#coloc_pd_df.describe()"
   ]
  },
  {
   "cell_type": "markdown",
   "metadata": {},
   "source": [
    "#### Filter left-joined df\n",
    "\n",
    "Remove all rows with no EFO entries in column \"traitFromSourceMappedIds\""
   ]
  },
  {
   "cell_type": "code",
   "execution_count": null,
   "metadata": {},
   "outputs": [
    {
     "name": "stdout",
     "output_type": "stream",
     "text": [
      "+--------------------+--------------------+--------------------+----------+---------+--------------------+----------+------+--------------+--------------+-------------------------------+-------------+-------------------+---------------+-----------------+----------------+------------------+------------+-----------+----------+-----+--------------------+-----------+---------+--------------------+------------------------+------+------------------+--------+----------------+----------------------+---------------+------------------+----------------------------------+--------------------+------+---------+--------+---------+---------------------+-------------------+------------------+---------------+-------------+--------------------+-----------+\n",
      "|             studyId|        studyLocusId|           variantId|chromosome| position|              region|      beta|zScore|pValueMantissa|pValueExponent|effectAlleleFrequencyFromSource|standardError|subStudyDescription|qualityControls|finemappingMethod|credibleSetIndex|credibleSetlog10BF|purityMeanR2|purityMinR2|sampleSize|ldSet|               locus|  projectId|studyType|     traitFromSource|traitFromSourceMappedIds|geneId|tissueFromSourceId|pubmedId|publicationTitle|publicationFirstAuthor|publicationDate|publicationJournal|backgroundTraitFromSourceMappedIds|   initialSampleSize|nCases|nControls|nSamples|  cohorts|ldPopulationStructure|   discoverySamples|replicationSamples|qualityControls|analysisFlags|summarystatsLocation|hasSumstats|\n",
      "+--------------------+--------------------+--------------------+----------+---------+--------------------+----------+------+--------------+--------------+-------------------------------+-------------+-------------------+---------------+-----------------+----------------+------------------+------------+-----------+----------+-----+--------------------+-----------+---------+--------------------+------------------------+------+------------------+--------+----------------+----------------------+---------------+------------------+----------------------------------+--------------------+------+---------+--------+---------+---------------------+-------------------+------------------+---------------+-------------+--------------------+-----------+\n",
      "|FINNGEN_R10_AB1_A...|-4321433822078863824|     X_139181000_T_C|         X|139181000|chrX:137681000-14...|   2.86304|  null|         4.813|            -8|                     2.22581E-4|      0.52455|               null|           null|            SuSie|               1|     1.70259644043|        null|       null|      null| null|[{true, true, 12....|FINNGEN_R10|     gwas|          Amoebiasis|           [EFO_0007144]|  null|              null|    null|            null|                  null|           null|              null|                              null|377,277 (210,870 ...|   160|   367214|  367374|[FinnGen]|         [{fin, 1.0}]|[{377277, Finnish}]|              null|           null|         null|gs://finngen-publ...|       true|\n",
      "|FINNGEN_R10_AB1_E...|-8834373840002212949|      8_10298515_T_C|         8| 10298515|chr8:8798515-1179...|-0.0588362|  null|         4.286|            -9|                       0.459103|    0.0100185|               null|           null|            SuSie|               1|     2.60073732753|        null|       null|      null| null|[{true, true, 14....|FINNGEN_R10|     gwas|          Erysipelas|           [EFO_1001462]|  null|              null|    null|            null|                  null|           null|              null|                              null|377,277 (210,870 ...| 22261|   363227|  385488|[FinnGen]|         [{fin, 1.0}]|[{377277, Finnish}]|              null|           null|         null|gs://finngen-publ...|       true|\n",
      "|FINNGEN_R10_AD_LO...| 6777403764798924738|     1_207577223_T_C|         1|207577223|chr1:206077223-20...|   -0.1419|  null|         5.606|            -9|                       0.192564|    0.0243475|               null|           null|            SuSie|               1|      2.8396165773|        null|       null|      null| null|[{true, true, 14....|FINNGEN_R10|     gwas|Alzheimer’s disea...|           [EFO_1001870]|  null|              null|    null|            null|                  null|           null|              null|                              null|377,277 (210,870 ...|  7308|   183753|  191061|[FinnGen]|         [{fin, 1.0}]|[{377277, Finnish}]|              null|           null|         null|gs://finngen-publ...|       true|\n",
      "|FINNGEN_R10_ALCOP...| -449669912623639707|     5_147809858_A_T|         5|147809858|chr5:146309858-14...|  0.957038|  null|         1.834|           -25|                      0.0163017|    0.0917698|               null|           null|            SuSie|               1|     19.3360904304|        null|       null|      null| null|[{true, true, 51....|FINNGEN_R10|     gwas|Alcohol-induced c...|           [EFO_1002013]|  null|              null|    null|            null|                  null|           null|              null|                              null|377,277 (210,870 ...|  1959|   410222|  412181|[FinnGen]|         [{fin, 1.0}]|[{377277, Finnish}]|              null|           null|         null|gs://finngen-publ...|       true|\n",
      "|FINNGEN_R10_ALCOP...|-4088063185825261065|     7_142776421_A_T|         7|142776421|chr7:141274035-14...|  0.266648|  null|         9.678|           -16|                       0.395797|    0.0332029|               null|           null|            SuSie|               2|     14.5506996572|        null|       null|      null| null|[{true, true, 40....|FINNGEN_R10|     gwas|Alcohol-induced c...|           [EFO_1002013]|  null|              null|    null|            null|                  null|           null|              null|                              null|377,277 (210,870 ...|  1959|   410222|  412181|[FinnGen]|         [{fin, 1.0}]|[{377277, Finnish}]|              null|           null|         null|gs://finngen-publ...|       true|\n",
      "|FINNGEN_R10_ALLER...|-1053454535747008153|      10_8990592_C_G|        10|  8990592|chr10:7495529-104...| -0.615852|  null|         5.084|           -10|                      0.0074858|    0.0990676|               null|           null|            SuSie|               2|     1.36804871221|        null|       null|      null| null|[{true, true, 13....|FINNGEN_R10|     gwas|Allergic asthma (...|         [MONDO_0004784]|  null|              null|    null|            null|                  null|           null|              null|                              null|377,277 (210,870 ...| 10723|   228085|  238808|[FinnGen]|         [{fin, 1.0}]|[{377277, Finnish}]|              null|           null|         null|gs://finngen-publ...|       true|\n",
      "|FINNGEN_R10_ASTHM...| 2100396048952520337|       9_6209697_A_G|         9|  6209697|chr9:4709697-7709697|  -0.10692|  null|         2.164|           -17|                       0.237102|    0.0126015|               null|           null|            SuSie|               1|     14.0992228056|        null|       null|      null| null|[{true, true, 41....|FINNGEN_R10|     gwas|Asthma-related ac...|    [EFO_0000270, MON...|  null|              null|    null|            null|                  null|           null|              null|                              null|377,277 (210,870 ...| 17810|   365497|  383307|[FinnGen]|         [{fin, 1.0}]|[{377277, Finnish}]|              null|           null|         null|gs://finngen-publ...|       true|\n",
      "|FINNGEN_R10_ASTHM...|-8101042068517509118|     5_111092097_C_T|         5|111092097|chr5:109592097-11...|  0.152091|  null|          1.27|           -12|                       0.308492|    0.0214288|               null|           null|            SuSie|               1|       6.158411841|        null|       null|      null| null|[{true, true, 22....|FINNGEN_R10|     gwas|  Asthma and allergy|         [MONDO_0004784]|  null|              null|    null|            null|                  null|           null|              null|                              null|377,277 (210,870 ...|  5206|   225703|  230909|[FinnGen]|         [{fin, 1.0}]|[{377277, Finnish}]|              null|           null|         null|gs://finngen-publ...|       true|\n",
      "|FINNGEN_R10_ASTHM...| 5460317870253651211|    15_67169867_C_CT|        15| 67169867|chr15:65669867-68...|  0.124632|  null|         2.932|           -10|                       0.362486|    0.0197754|               null|           null|            SuSie|               1|     3.57950851911|        null|       null|      null| null|[{true, true, 17....|FINNGEN_R10|     gwas|Childhood asthma ...|           [EFO_0004591]|  null|              null|    null|            null|                  null|           null|              null|                              null|377,277 (210,870 ...|  6603|   219734|  226337|[FinnGen]|         [{fin, 1.0}]|[{377277, Finnish}]|              null|           null|         null|gs://finngen-publ...|       true|\n",
      "|FINNGEN_R10_ASTHM...| 8773121994999880264|     13_42407276_G_C|        13| 42407276|chr13:40907276-43...|  0.223847|  null|         3.213|            -8|                       0.110112|    0.0404828|               null|           null|            SuSie|               1|      1.4730933512|        null|       null|      null| null|[{true, true, 11....|FINNGEN_R10|     gwas|Suggestive for eo...|           [EFO_0000270]|  null|              null|    null|            null|                  null|           null|              null|                              null|377,277 (210,870 ...|  2763|   365497|  368260|[FinnGen]|         [{fin, 1.0}]|[{377277, Finnish}]|              null|           null|         null|gs://finngen-publ...|       true|\n",
      "|FINNGEN_R10_ASTHM...|-7503983325929765700|       1_1199727_C_T|         1|  1199727|chr1:1052522-4052522|   0.22688|  null|         9.086|            -6|                      0.0672616|    0.0511237|               null|           null|            SuSie|               2|    0.906051518185|        null|       null|      null| null|[{true, true, 8.9...|FINNGEN_R10|     gwas|Suggestive for eo...|           [EFO_0000270]|  null|              null|    null|            null|                  null|           null|              null|                              null|377,277 (210,870 ...|  2763|   365497|  368260|[FinnGen]|         [{fin, 1.0}]|[{377277, Finnish}]|              null|           null|         null|gs://finngen-publ...|       true|\n",
      "|FINNGEN_R10_AUTOI...|  999133142022146231|     10_62297443_A_G|        10| 62297443|chr10:60541271-63...|-0.0296042|  null|         3.248|            -8|                       0.374668|   0.00535577|               null|           null|            SuSie|               2|      5.4978626207|        null|       null|      null| null|[{true, true, 20....|FINNGEN_R10|     gwas| Autoimmune diseases|           [EFO_0005140]|  null|              null|    null|            null|                  null|           null|              null|                              null|377,277 (210,870 ...|105677|   306504|  412181|[FinnGen]|         [{fin, 1.0}]|[{377277, Finnish}]|              null|           null|         null|gs://finngen-publ...|       true|\n",
      "|FINNGEN_R10_AUTOI...| 6842874150696919064|     16_85651514_G_A|        16| 85651514|chr16:84151514-87...| 0.0342245|  null|         4.087|            -8|                        0.22204|    0.0062373|               null|           null|            SuSie|               1|     2.06831790356|        null|       null|      null| null|[{true, true, 13....|FINNGEN_R10|     gwas| Autoimmune diseases|           [EFO_0005140]|  null|              null|    null|            null|                  null|           null|              null|                              null|377,277 (210,870 ...|105677|   306504|  412181|[FinnGen]|         [{fin, 1.0}]|[{377277, Finnish}]|              null|           null|         null|gs://finngen-publ...|       true|\n",
      "|FINNGEN_R10_AUTOI...| 1522058532032713463|     17_39932164_T_C|        17| 39932164|chr17:38432164-43...|-0.0341013|  null|         5.497|           -11|                       0.494405|   0.00520087|               null|           null|            SuSie|               2|     4.92825218542|        null|       null|      null| null|[{true, true, 20....|FINNGEN_R10|     gwas| Autoimmune diseases|           [EFO_0005140]|  null|              null|    null|            null|                  null|           null|              null|                              null|377,277 (210,870 ...|105677|   306504|  412181|[FinnGen]|         [{fin, 1.0}]|[{377277, Finnish}]|              null|           null|         null|gs://finngen-publ...|       true|\n",
      "|FINNGEN_R10_AUTOI...| 4621287901443034568|     19_10352442_G_C|        19| 10352442|chr19:8852442-118...| -0.159891|  null|         6.563|           -25|                      0.0302264|    0.0155131|               null|           null|            SuSie|               1|     18.0365716426|        null|       null|      null| null|[{true, true, 51....|FINNGEN_R10|     gwas| Autoimmune diseases|           [EFO_0005140]|  null|              null|    null|            null|                  null|           null|              null|                              null|377,277 (210,870 ...|105677|   306504|  412181|[FinnGen]|         [{fin, 1.0}]|[{377277, Finnish}]|              null|           null|         null|gs://finngen-publ...|       true|\n",
      "|FINNGEN_R10_AUTOI...|-5544109762146767547|     1_113834946_A_G|         1|113834946|chr1:109654187-11...| -0.228059|  null|         1.268|          -225|                       0.148114|   0.00711194|               null|           null|            SuSie|               1|     224.000333462|        null|       null|      null| null|[{true, true, 526...|FINNGEN_R10|     gwas| Autoimmune diseases|           [EFO_0005140]|  null|              null|    null|            null|                  null|           null|              null|                              null|377,277 (210,870 ...|105677|   306504|  412181|[FinnGen]|         [{fin, 1.0}]|[{377277, Finnish}]|              null|           null|         null|gs://finngen-publ...|       true|\n",
      "|FINNGEN_R10_AUTOI...|-1684312030271962307|     22_39274176_A_C|        22| 39274176|chr22:33808619-40...| 0.0431967|  null|         1.529|           -14|                       0.301281|   0.00562083|               null|           null|            SuSie|               2|     6.56151263058|        null|       null|      null| null|[{true, true, 24....|FINNGEN_R10|     gwas| Autoimmune diseases|           [EFO_0005140]|  null|              null|    null|            null|                  null|           null|              null|                              null|377,277 (210,870 ...|105677|   306504|  412181|[FinnGen]|         [{fin, 1.0}]|[{377277, Finnish}]|              null|           null|         null|gs://finngen-publ...|       true|\n",
      "|FINNGEN_R10_AUTOI...|-7030097284748916614|      2_24633234_A_T|         2| 24633234|chr2:23133234-261...|-0.0336849|  null|         3.595|            -9|                       0.293067|   0.00570752|               null|           null|            SuSie|               1|     1.68727531516|        null|       null|      null| null|[{true, true, 10....|FINNGEN_R10|     gwas| Autoimmune diseases|           [EFO_0005140]|  null|              null|    null|            null|                  null|           null|              null|                              null|377,277 (210,870 ...|105677|   306504|  412181|[FinnGen]|         [{fin, 1.0}]|[{377277, Finnish}]|              null|           null|         null|gs://finngen-publ...|       true|\n",
      "|FINNGEN_R10_AUTOI...|  793824854801299327|     3_188373850_T_G|         3|188373850|chr3:186873850-18...| -0.055615|  null|         2.398|           -25|                       0.383438|   0.00534595|               null|           null|            SuSie|               1|      16.961852363|        null|       null|      null| null|[{true, true, 46....|FINNGEN_R10|     gwas| Autoimmune diseases|           [EFO_0005140]|  null|              null|    null|            null|                  null|           null|              null|                              null|377,277 (210,870 ...|105677|   306504|  412181|[FinnGen]|         [{fin, 1.0}]|[{377277, Finnish}]|              null|           null|         null|gs://finngen-publ...|       true|\n",
      "|FINNGEN_R10_AUTOI...|  252126389418101760|     3_187951446_C_A|         3|187951446|chr3:186873850-18...|-0.0388431|  null|         1.133|           -10|                       0.247163|   0.00602402|               null|           null|            SuSie|               3|     1.90758774244|        null|       null|      null| null|[{true, true, 12....|FINNGEN_R10|     gwas| Autoimmune diseases|           [EFO_0005140]|  null|              null|    null|            null|                  null|           null|              null|                              null|377,277 (210,870 ...|105677|   306504|  412181|[FinnGen]|         [{fin, 1.0}]|[{377277, Finnish}]|              null|           null|         null|gs://finngen-publ...|       true|\n",
      "|FINNGEN_R10_AUTOI...|-8521545126137992755|      4_26089576_A_G|         4| 26089576|chr4:24589576-275...| 0.0473122|  null|         1.682|           -16|                       0.282134|   0.00573981|               null|           null|            SuSie|               1|     10.3424969362|        null|       null|      null| null|[{true, true, 31....|FINNGEN_R10|     gwas| Autoimmune diseases|           [EFO_0005140]|  null|              null|    null|            null|                  null|           null|              null|                              null|377,277 (210,870 ...|105677|   306504|  412181|[FinnGen]|         [{fin, 1.0}]|[{377277, Finnish}]|              null|           null|         null|gs://finngen-publ...|       true|\n",
      "|FINNGEN_R10_AUTOI...|-2395244516468856742|      4_40258109_G_A|         4| 40258109|chr4:38758109-417...|-0.0388303|  null|          1.93|           -13|                       0.434399|    0.0052805|               null|           null|            SuSie|               1|     5.83753934893|        null|       null|      null| null|[{true, true, 23....|FINNGEN_R10|     gwas| Autoimmune diseases|           [EFO_0005140]|  null|              null|    null|            null|                  null|           null|              null|                              null|377,277 (210,870 ...|105677|   306504|  412181|[FinnGen]|         [{fin, 1.0}]|[{377277, Finnish}]|              null|           null|         null|gs://finngen-publ...|       true|\n",
      "|FINNGEN_R10_AUTOI...| 5119208617827603243|      5_77239986_T_G|         5| 77239986|chr5:75739986-787...| 0.0485641|  null|         2.467|           -20|                        0.41327|   0.00525591|               null|           null|            SuSie|               1|     14.0857952111|        null|       null|      null| null|[{true, true, 40....|FINNGEN_R10|     gwas| Autoimmune diseases|           [EFO_0005140]|  null|              null|    null|            null|                  null|           null|              null|                              null|377,277 (210,870 ...|105677|   306504|  412181|[FinnGen]|         [{fin, 1.0}]|[{377277, Finnish}]|              null|           null|         null|gs://finngen-publ...|       true|\n",
      "|FINNGEN_R10_AUTOI...| 3141906595438496023|     6_111592059_C_T|         6|111592059|chr6:110092059-11...|   0.05721|  null|         7.024|            -9|                      0.0724415|   0.00988025|               null|           null|            SuSie|               1|     2.75721408226|        null|       null|      null| null|[{true, true, 14....|FINNGEN_R10|     gwas| Autoimmune diseases|           [EFO_0005140]|  null|              null|    null|            null|                  null|           null|              null|                              null|377,277 (210,870 ...|105677|   306504|  412181|[FinnGen]|         [{fin, 1.0}]|[{377277, Finnish}]|              null|           null|         null|gs://finngen-publ...|       true|\n",
      "|FINNGEN_R10_AUTOI...| 2249282051354335335|     6_137897421_C_T|         6|137897421|chr6:136178425-13...| 0.0406983|  null|         1.039|            -5|                       0.084727|   0.00923112|               null|           null|            SuSie|               2|     5.60881494399|        null|       null|      null| null|[{true, true, 22....|FINNGEN_R10|     gwas| Autoimmune diseases|           [EFO_0005140]|  null|              null|    null|            null|                  null|           null|              null|                              null|377,277 (210,870 ...|105677|   306504|  412181|[FinnGen]|         [{fin, 1.0}]|[{377277, Finnish}]|              null|           null|         null|gs://finngen-publ...|       true|\n",
      "|FINNGEN_R10_AUTOI...| 9151457196265296865|     6_166968316_A_G|         6|166968316|chr6:165468316-16...|-0.0467556|  null|         2.564|           -18|                        0.37185|   0.00535621|               null|           null|            SuSie|               1|      12.784959934|        null|       null|      null| null|[{true, true, 36....|FINNGEN_R10|     gwas| Autoimmune diseases|           [EFO_0005140]|  null|              null|    null|            null|                  null|           null|              null|                              null|377,277 (210,870 ...|105677|   306504|  412181|[FinnGen]|         [{fin, 1.0}]|[{377277, Finnish}]|              null|           null|         null|gs://finngen-publ...|       true|\n",
      "|FINNGEN_R10_AUTOI...|  535458724035112664|9_4300208_TCACACA...|         9|  4300208|chr9:2800208-5800208|-0.0389574|  null|         1.076|           -11|                       0.302624|    0.0057325|               null|           null|            SuSie|               1|     3.87766945245|        null|       null|      null| null|[{true, true, 19....|FINNGEN_R10|     gwas| Autoimmune diseases|           [EFO_0005140]|  null|              null|    null|            null|                  null|           null|              null|                              null|377,277 (210,870 ...|105677|   306504|  412181|[FinnGen]|         [{fin, 1.0}]|[{377277, Finnish}]|              null|           null|         null|gs://finngen-publ...|       true|\n",
      "|FINNGEN_R10_AUTOI...| 8214285247273460612|      9_97794690_A_G|         9| 97794690|chr9:96294690-992...| 0.0840913|  null|          1.38|           -53|                       0.347589|   0.00545657|               null|           null|            SuSie|               1|     49.7099493585|        null|       null|      null| null|[{true, true, 122...|FINNGEN_R10|     gwas| Autoimmune diseases|           [EFO_0005140]|  null|              null|    null|            null|                  null|           null|              null|                              null|377,277 (210,870 ...|105677|   306504|  412181|[FinnGen]|         [{fin, 1.0}]|[{377277, Finnish}]|              null|           null|         null|gs://finngen-publ...|       true|\n",
      "|FINNGEN_R10_C3_BR...| 6121168380811982156|     1_143272168_G_T|         1|143272168|chr1:141772168-14...|  0.107343|  null|         1.058|           -15|                       0.334363|    0.0133846|               null|           null|            SuSie|               1|     9.38406552114|        null|       null|      null| null|[{true, true, 29....|FINNGEN_R10|     gwas|Malignant neoplas...|         [MONDO_0007254]|  null|              null|    null|            null|                  null|           null|              null|                              null|377,277 (210,870 ...| 18786|   182927|  201713|[FinnGen]|         [{fin, 1.0}]|[{377277, Finnish}]|              null|           null|         null|gs://finngen-publ...|       true|\n",
      "|FINNGEN_R10_C3_BR...|-8544322005100514599|     9_108124560_C_T|         9|108124560|chr9:106574792-10...|  0.114844|  null|          2.56|           -21|                       0.337705|    0.0121152|               null|           null|            SuSie|               2|     8.66375735572|        null|       null|      null| null|[{true, true, 27....|FINNGEN_R10|     gwas|Malignant neoplas...|         [MONDO_0007254]|  null|              null|    null|            null|                  null|           null|              null|                              null|377,277 (210,870 ...| 18786|   182927|  201713|[FinnGen]|         [{fin, 1.0}]|[{377277, Finnish}]|              null|           null|         null|gs://finngen-publ...|       true|\n",
      "+--------------------+--------------------+--------------------+----------+---------+--------------------+----------+------+--------------+--------------+-------------------------------+-------------+-------------------+---------------+-----------------+----------------+------------------+------------+-----------+----------+-----+--------------------+-----------+---------+--------------------+------------------------+------+------------------+--------+----------------+----------------------+---------------+------------------+----------------------------------+--------------------+------+---------+--------+---------+---------------------+-------------------+------------------+---------------+-------------+--------------------+-----------+\n",
      "only showing top 30 rows\n",
      "\n",
      "+------------------------+\n",
      "|traitFromSourceMappedIds|\n",
      "+------------------------+\n",
      "|           [EFO_0000270]|\n",
      "|           [EFO_0005203]|\n",
      "|         [MONDO_0020019]|\n",
      "|           [EFO_0000713]|\n",
      "|           [EFO_0000701]|\n",
      "|           [EFO_0005803]|\n",
      "|           [EFO_1000627]|\n",
      "|           [EFO_0009606]|\n",
      "|           [EFO_0003829]|\n",
      "|           [EFO_0009665]|\n",
      "|            [HP_0030833]|\n",
      "|           [EFO_0003776]|\n",
      "|         [MONDO_0045002]|\n",
      "|           [EFO_0007429]|\n",
      "|         [MONDO_0005090]|\n",
      "|           [EFO_0006788]|\n",
      "|            [HP_0000545]|\n",
      "|           [CHEBI_35469]|\n",
      "|    [EFO_0003950, EFO...|\n",
      "|           [EFO_0000274]|\n",
      "|           [EFO_1001406]|\n",
      "|        [Orphanet_71862]|\n",
      "|            [HP_0003040]|\n",
      "|           [EFO_0009472]|\n",
      "|           [EFO_1001436]|\n",
      "|         [MONDO_0007254]|\n",
      "|           [EFO_0000668]|\n",
      "|           [EFO_0000706]|\n",
      "|            [HP_0000023]|\n",
      "|           [EFO_1001986]|\n",
      "+------------------------+\n",
      "only showing top 30 rows\n",
      "\n"
     ]
    },
    {
     "data": {
      "text/plain": [
       "729"
      ]
     },
     "metadata": {},
     "output_type": "display_data"
    }
   ],
   "source": [
    "from pyspark.sql.functions import col, size\n",
    "\n",
    "# Filter to keep rows with non-empty traitFromSourceMappedIds\n",
    "filtered_df = left_joined_df.filter((col(\"traitFromSourceMappedIds\").isNotNull()) & (size(col(\"traitFromSourceMappedIds\")) > 0))\n",
    "\n",
    "# Show the first 30 rows of the filtered DataFrame\n",
    "filtered_df.show(30)\n",
    "\n",
    "filtered_df.select('traitFromSourceMappedIds').distinct().show(30)\n",
    "filtered_df.select('traitFromSourceMappedIds').distinct().count()\n",
    "\n"
   ]
  }
 ],
 "metadata": {
  "kernelspec": {
   "display_name": "py310",
   "language": "python",
   "name": "python3"
  },
  "language_info": {
   "codemirror_mode": {
    "name": "ipython",
    "version": 3
   },
   "file_extension": ".py",
   "mimetype": "text/x-python",
   "name": "python",
   "nbconvert_exporter": "python",
   "pygments_lexer": "ipython3",
   "version": "3.10.14"
  }
 },
 "nbformat": 4,
 "nbformat_minor": 2
}
