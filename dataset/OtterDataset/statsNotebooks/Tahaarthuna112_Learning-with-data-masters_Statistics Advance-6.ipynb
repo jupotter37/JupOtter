{
 "cells": [
  {
   "cell_type": "code",
   "execution_count": null,
   "id": "5f10320e-cabb-4c65-b471-ada8451e4451",
   "metadata": {},
   "outputs": [],
   "source": [
    "Q1. Explain the assumptions required to use ANOVA and provide examples of violations that could impact \n",
    "the validity of the results."
   ]
  },
  {
   "cell_type": "code",
   "execution_count": null,
   "id": "1f9a8e2b-9e13-4078-9a45-14b8c0b7dbb8",
   "metadata": {},
   "outputs": [],
   "source": [
    "Analysis of Variance (ANOVA) is a statistical method used to compare means among multiple groups. To obtain valid results from ANOVA, certain assumptions must be met. Here are the key assumptions for one-way ANOVA:\n",
    "\n",
    "1. Normality: The data within each group should be approximately normally distributed. Violation of this assumption could lead to inaccurate results. For example, if the data is heavily skewed or has outliers, it may affect the normality assumption.\n",
    "\n",
    "2. Homogeneity of Variances (Homoscedasticity): The variances of the groups being compared should be approximately equal. In other words, the spread of scores in one group should be roughly the same as the spread in another group. Violation of homogeneity of variances can lead to Type I errors (false positives) or Type II errors (false negatives). For instance, if one group has much larger variance than another, it can impact the validity of the results.\n",
    "\n",
    "3. Independence: Observations within each group must be independent of each other. This means that the value of one observation should not be related to the value of any other observation. Violation of independence can lead to biased results. For example, if measurements over time are taken from the same subjects, there might be autocorrelation issues that violate independence.\n",
    "\n",
    "4. Random Sampling: The data points should be randomly selected from the population. If the sampling process is not random, the generalizability of the results to the broader population may be compromised.\n",
    "\n",
    "Examples of Violations and their Impact:\n",
    "\n",
    "1. Non-Normality: If the assumption of normality is violated, the p-values and confidence intervals may be inaccurate. Remedies include transforming the data or using non-parametric alternatives if transformation doesn't work.\n",
    "\n",
    "2. Heterogeneity of Variances: Unequal variances can lead to inflated Type I errors. If homogeneity of variances is violated, using Welch's ANOVA or transforming the data can be considered as alternatives.\n",
    "\n",
    "3. Independence Violation: If observations are not independent, it can lead to pseudoreplication and impact the precision of estimates. Clustering of data points or repeated measures without proper consideration can violate this assumption.\n",
    "\n",
    "4. Non-Random Sampling: If the sample is not randomly selected, the generalizability of the results to the broader population may be compromised. This can be addressed by ensuring a random sampling process.\n",
    "\n",
    "It's essential to check these assumptions before interpreting the results of an ANOVA to ensure the validity of the conclusions drawn from the analysis. If assumptions are violated, alternative statistical methods or data transformations may be considered."
   ]
  },
  {
   "cell_type": "code",
   "execution_count": null,
   "id": "88cb8904-0db8-4192-810d-5c4b0ab6b811",
   "metadata": {},
   "outputs": [],
   "source": [
    "Q2. What are the three types of ANOVA, and in what situations would each be used?"
   ]
  },
  {
   "cell_type": "code",
   "execution_count": null,
   "id": "17f0da62-c9df-4c0d-b093-09fe7e5deade",
   "metadata": {},
   "outputs": [],
   "source": [
    "There are three main types of ANOVA (Analysis of Variance), each designed for different experimental designs and research questions:\n",
    "\n",
    "1. One-Way ANOVA:\n",
    "   - Use Case: Used when comparing the means of three or more independent (unrelated) groups to determine if there are any statistically significant differences among the group means.\n",
    "   - Example: Suppose you want to compare the average test scores of students from three different schools to see if there is a significant difference in performance.\n",
    "\n",
    "2. Two-Way ANOVA:\n",
    "   - Use Case: Used when there are two independent variables (factors) and you want to examine their individual and interactive effects on the dependent variable.\n",
    "   - Example: Consider a study where you are investigating the effects of both diet and exercise on weight loss. Diet and exercise are the two independent variables, and weight loss is the dependent variable. Two-way ANOVA helps determine if there are significant main effects and interaction effects.\n",
    "\n",
    "3. Repeated Measures ANOVA:\n",
    "   - Use Case: Used when the same subjects are used for each treatment or measurement, such as in a longitudinal study or when subjects are measured under different conditions.\n",
    "   - Example: Suppose you are measuring the blood pressure of the same group of individuals before and after treatment with three different medications. Repeated Measures ANOVA allows you to analyze whether there are significant differences in blood pressure measurements across the three medications while accounting for the repeated measurements on the same individuals.\n",
    "\n",
    "Each type of ANOVA is appropriate for different study designs, and the choice depends on the nature of the independent variables, the experimental design, and the research question being addressed. It's crucial to select the right type of ANOVA to ensure accurate and meaningful interpretation of the results."
   ]
  },
  {
   "cell_type": "code",
   "execution_count": null,
   "id": "cec2f484-bacf-41ba-9be1-98fd76071c91",
   "metadata": {},
   "outputs": [],
   "source": [
    "Q3. What is the partitioning of variance in ANOVA, and why is it important to understand this concept?"
   ]
  },
  {
   "cell_type": "code",
   "execution_count": null,
   "id": "18f41dac-f49f-48aa-a5a7-6bd5be1d3284",
   "metadata": {},
   "outputs": [],
   "source": [
    "The partitioning of variance in ANOVA refers to the division of the total variability in the data into different components that can be attributed to various sources. Understanding this concept is crucial because it allows researchers to identify and quantify the sources of variability, providing insights into the relative importance of different factors in explaining the variation observed in the dependent variable.\n",
    "\n",
    "In a general sense, the total variance observed in a dataset (Total Sum of Squares, SST) can be decomposed into three main components in the context of ANOVA:\n",
    "\n",
    "1. Between-Group Variability (Sum of Squares Between, SSB):\n",
    "   - This component represents the variation in the dependent variable that can be attributed to differences between the group means. In other words, it assesses whether the means of different groups are significantly different from each other.\n",
    "\n",
    "2. Within-Group Variability (Sum of Squares Within, SSW or SSE):\n",
    "   - This component represents the variation within each group, measuring how much individual scores within a group differ from the group mean. It reflects the random variability or error in the data that cannot be attributed to the group differences.\n",
    "\n",
    "3. Total Variability (Total Sum of Squares, SST):\n",
    "   - This is the overall variability in the entire dataset, considering all observations across all groups. It is the sum of the between-group and within-group variability.\n",
    "\n",
    "The partitioning of variance is typically presented in the form of an ANOVA table, which summarizes the contributions of each component to the total variance. The table includes degrees of freedom, sum of squares, mean squares, and F-ratio values.\n",
    "\n",
    "Understanding the partitioning of variance is important for several reasons:\n",
    "\n",
    "- Interpretation of Results: It helps researchers interpret the relative contributions of different factors to the observed variation in the dependent variable.\n",
    "\n",
    "- Assessment of Group Differences: It allows for testing the significance of group differences by comparing the variability between groups to the variability within groups.\n",
    "\n",
    "- Identification of Sources of Variation: It helps identify whether the independent variable(s) have a significant effect on the dependent variable and whether this effect is due to systematic differences between groups.\n",
    "\n",
    "- Model Fit and Effect Size: It provides insights into how well the model fits the data and the magnitude of the effect size, aiding in the overall understanding of the study's results.\n",
    "\n",
    "In summary, understanding the partitioning of variance in ANOVA is fundamental for drawing valid conclusions from the analysis and gaining insights into the factors that contribute to variability in the data."
   ]
  },
  {
   "cell_type": "code",
   "execution_count": null,
   "id": "37a24249-36ec-4f8d-a124-f6bf5d57ca00",
   "metadata": {},
   "outputs": [],
   "source": [
    "Q4. How would you calculate the total sum of squares (SST), explained sum of squares (SSE), and residual \n",
    "sum of squares (SSR) in a one-way ANOVA using Python?"
   ]
  },
  {
   "cell_type": "code",
   "execution_count": 1,
   "id": "4537bdd6-ac6c-4754-bea8-716108e12d23",
   "metadata": {},
   "outputs": [
    {
     "name": "stdout",
     "output_type": "stream",
     "text": [
      "Total Sum of Squares (SST): 283.3333333333333\n",
      "Explained Sum of Squares (SSE): 253.33333333333331\n",
      "Residual Sum of Squares (SSR): 30.0\n",
      "F-statistic: 50.666666666666664\n",
      "P-value: 1.4090989859003613e-06\n"
     ]
    }
   ],
   "source": [
    "import numpy as np\n",
    "from scipy import stats\n",
    "\n",
    "# Generate example data (replace this with your actual data)\n",
    "group1 = np.array([5, 8, 7, 6, 9])\n",
    "group2 = np.array([10, 12, 11, 13, 9])\n",
    "group3 = np.array([15, 18, 17, 16, 19])\n",
    "\n",
    "# Combine the data into a single array or list\n",
    "data = np.concatenate([group1, group2, group3])\n",
    "\n",
    "# Generate corresponding group labels\n",
    "labels = ['Group 1'] * len(group1) + ['Group 2'] * len(group2) + ['Group 3'] * len(group3)\n",
    "\n",
    "# Perform one-way ANOVA\n",
    "f_statistic, p_value = stats.f_oneway(group1, group2, group3)\n",
    "\n",
    "# Calculate the mean of the entire dataset\n",
    "grand_mean = np.mean(data)\n",
    "\n",
    "# Calculate Total Sum of Squares (SST)\n",
    "sst = np.sum((data - grand_mean) ** 2)\n",
    "\n",
    "# Calculate Explained Sum of Squares (SSE)\n",
    "sse = np.sum([(np.mean(group) - grand_mean) ** 2 * len(group) for group in [group1, group2, group3]])\n",
    "\n",
    "# Calculate Residual Sum of Squares (SSR)\n",
    "ssr = sst - sse\n",
    "\n",
    "print(\"Total Sum of Squares (SST):\", sst)\n",
    "print(\"Explained Sum of Squares (SSE):\", sse)\n",
    "print(\"Residual Sum of Squares (SSR):\", ssr)\n",
    "print(\"F-statistic:\", f_statistic)\n",
    "print(\"P-value:\", p_value)\n"
   ]
  },
  {
   "cell_type": "code",
   "execution_count": null,
   "id": "b434cc18-d6e3-481b-8b24-356e770ddc47",
   "metadata": {},
   "outputs": [],
   "source": [
    "Q5. In a two-way ANOVA, how would you calculate the main effects and interaction effects using Python?"
   ]
  },
  {
   "cell_type": "code",
   "execution_count": 2,
   "id": "0decbbf2-ecc4-48e1-8d7d-b390f4f5756d",
   "metadata": {},
   "outputs": [
    {
     "name": "stdout",
     "output_type": "stream",
     "text": [
      "Main Effect A: 262.76562592923057\n",
      "Main Effect B: 65.85028381800637\n",
      "Interaction Effect: 0.28571428571436563\n",
      "              sum_sq   df           F    PR(>F)\n",
      "A         262.765626  1.0  574.799807  0.001735\n",
      "B          65.850284  1.0  144.047496  0.006871\n",
      "A:B         0.285714  1.0    0.625000  0.512050\n",
      "Residual    0.914286  2.0         NaN       NaN\n"
     ]
    }
   ],
   "source": [
    "import pandas as pd\n",
    "import statsmodels.api as sm\n",
    "from statsmodels.formula.api import ols\n",
    "\n",
    "# Generate example data (replace this with your actual data)\n",
    "data = {'A': [10, 15, 20, 25, 30],\n",
    "        'B': [5, 10, 15, 20, 25],\n",
    "        'Y': [22, 28, 32, 38, 44]}\n",
    "\n",
    "df = pd.DataFrame(data)\n",
    "\n",
    "# Fit a two-way ANOVA model\n",
    "model = ols('Y ~ A * B', data=df).fit()\n",
    "\n",
    "# Perform ANOVA\n",
    "anova_table = sm.stats.anova_lm(model, typ=2)\n",
    "\n",
    "# Extract main effects and interaction effects\n",
    "main_effect_A = anova_table['sum_sq']['A'] / anova_table['df']['A']\n",
    "main_effect_B = anova_table['sum_sq']['B'] / anova_table['df']['B']\n",
    "interaction_effect = anova_table['sum_sq']['A:B'] / anova_table['df']['A:B']\n",
    "\n",
    "print(\"Main Effect A:\", main_effect_A)\n",
    "print(\"Main Effect B:\", main_effect_B)\n",
    "print(\"Interaction Effect:\", interaction_effect)\n",
    "print(anova_table)\n"
   ]
  },
  {
   "cell_type": "code",
   "execution_count": null,
   "id": "75ac0b16-9b68-4e4a-a8c8-a2343bff69d8",
   "metadata": {},
   "outputs": [],
   "source": [
    "Q6. Suppose you conducted a one-way ANOVA and obtained an F-statistic of 5.23 and a p-value of 0.02. \n",
    "What can you conclude about the differences between the groups, and how would you interpret these \n",
    "results?"
   ]
  },
  {
   "cell_type": "code",
   "execution_count": null,
   "id": "a13b6f19-01e8-4b2c-b0e0-47c597d98953",
   "metadata": {},
   "outputs": [],
   "source": [
    "In a one-way ANOVA, the F-statistic is used to test whether there are statistically significant differences among the means of three or more groups. The p-value associated with the F-statistic helps determine the significance of these differences. Here's how to interpret the results:\n",
    "\n",
    "1. **Null Hypothesis (H0):** The null hypothesis in ANOVA is that there are no significant differences among the group means. Mathematically, it's stated as \\(H_0: \\mu_1 = \\mu_2 = \\ldots = \\mu_k\\), where \\(\\mu_1, \\mu_2, \\ldots, \\mu_k\\) are the population means of the groups.\n",
    "\n",
    "2. **Alternative Hypothesis (H1):** The alternative hypothesis is that there are at least two group means that are significantly different.\n",
    "\n",
    "Given your results (F-statistic = 5.23, p-value = 0.02):\n",
    "\n",
    "- **F-statistic:** This is a ratio of the variance between groups to the variance within groups. A larger F-statistic suggests that the means of at least some groups are different.\n",
    "\n",
    "- **p-value:** The p-value is the probability of observing an F-statistic as extreme as the one computed from the sample data, assuming the null hypothesis is true. In this case, a p-value of 0.02 indicates that there is a 2% probability of observing such extreme F-statistic values under the assumption that there are no true differences among the group means.\n",
    "\n",
    "**Interpretation:**\n",
    "\n",
    "- If the p-value is less than the significance level (commonly set at 0.05), you reject the null hypothesis.\n",
    "\n",
    "- In this case, the p-value is 0.02, which is less than 0.05. Therefore, you would reject the null hypothesis.\n",
    "\n",
    "**Conclusion:**\n",
    "\n",
    "Given the rejection of the null hypothesis, you can conclude that there is evidence to suggest that at least two group means are significantly different. However, the ANOVA test itself doesn't tell you which specific groups are different. If you find a significant result, post-hoc tests or pairwise comparisons can be conducted to identify where the differences lie.\n",
    "\n",
    "Remember that statistical significance does not imply practical significance, and it's important to consider the context of your study and the effect size in addition to the p-value."
   ]
  },
  {
   "cell_type": "code",
   "execution_count": null,
   "id": "9f0b0888-65ff-4599-a4d9-07e8265f9ba4",
   "metadata": {},
   "outputs": [],
   "source": [
    "Q7. In a repeated measures ANOVA, how would you handle missing data, and what are the potential \n",
    "consequences of using different methods to handle missing data?"
   ]
  },
  {
   "cell_type": "code",
   "execution_count": null,
   "id": "09aae963-a439-44bd-8b42-65303e8b045c",
   "metadata": {},
   "outputs": [],
   "source": [
    "Handling missing data in a repeated measures ANOVA is crucial for obtaining accurate and reliable results. The choice of method for handling missing data can impact the validity of the analysis. Here are some common approaches and their potential consequences:\n",
    "\n",
    "1. Complete Case Analysis (Listwise Deletion):\n",
    "   - Handling Missing Data: Exclude cases with missing data, analyzing only the cases with complete data for all variables.\n",
    "   - Consequences: This method can lead to biased results if the missing data are not missing completely at random. It may reduce the sample size and statistical power, and the remaining sample may not be representative of the entire dataset.\n",
    "\n",
    "2. Mean Imputation:\n",
    "   - Handling Missing Data: Replace missing values with the mean of the observed values for the respective variable.\n",
    "   - Consequences: Mean imputation can introduce bias and underestimate the variability in the data. It assumes that the missing values are missing completely at random and that the variable has a normal distribution.\n",
    "\n",
    "3. Last Observation Carried Forward (LOCF) or Next Observation Carried Backward (NOCB):**\n",
    "   - Handling Missing Data: Use the last observed value for a missing data point (LOCF) or the next observed value (NOCB).\n",
    "   - Consequences: This method may not be appropriate if the missing data are not missing completely at random. It can introduce bias, especially if there is a trend in the data.\n",
    "\n",
    "4. Interpolation or Linear Regression Imputation:\n",
    "   - Handling Missing Data: Predict missing values based on the observed values using a linear regression model or other interpolation methods.\n",
    "   - Consequences: While more sophisticated than mean imputation, this method assumes a linear relationship and may not accurately capture the true pattern of missing data. It can introduce bias if the relationship is not linear.\n",
    "\n",
    "5. Multiple Imputation:\n",
    "   - Handling Missing Data: Impute missing values multiple times to create multiple complete datasets and then analyze each dataset separately, combining the results.\n",
    "   - Consequences: Multiple imputation is a more advanced technique that accounts for uncertainty related to missing data. It provides more reliable estimates if the assumption of missing at random holds. However, it requires more computational resources.\n",
    "\n",
    "6. Model-Based Imputation:\n",
    "   - Handling Missing Data: Use statistical models to impute missing values based on the observed data.\n",
    "   - Consequences: Model-based imputation can provide accurate estimates if the model assumptions are met. However, model misspecification can lead to biased results.\n",
    "\n",
    "Important Considerations:\n",
    "- It's crucial to assess whether the missing data are missing completely at random, missing at random, or missing not at random. Different methods make different assumptions about the nature of missingness.\n",
    "- The chosen method should align with the assumptions of the statistical model and the characteristics of the missing data.\n",
    "- Sensitivity analyses, comparing results across different imputation methods, can provide insights into the robustness of the findings.\n",
    "\n",
    "In summary, handling missing data in repeated measures ANOVA requires careful consideration of the assumptions and potential consequences associated with each imputation method. The choice of method should be guided by the characteristics of the data and the research context."
   ]
  },
  {
   "cell_type": "code",
   "execution_count": null,
   "id": "53489703-b92a-432a-b8e8-c2e03ba2610c",
   "metadata": {},
   "outputs": [],
   "source": [
    "Q8. What are some common post-hoc tests used after ANOVA, and when would you use each one? Provide \n",
    "an example of a situation where a post-hoc test might be necessary."
   ]
  },
  {
   "cell_type": "code",
   "execution_count": null,
   "id": "9d2b1883-e1bb-446c-99a4-cb765640d49f",
   "metadata": {},
   "outputs": [],
   "source": [
    "Post-hoc tests are conducted after an Analysis of Variance (ANOVA) to further explore and compare specific group differences when the ANOVA indicates that at least one group differs significantly from the others. Common post-hoc tests include:\n",
    "\n",
    "1. Tukey's Honestly Significant Difference (HSD) Test:\n",
    "   - Use Case: Tukey's HSD is appropriate when you have equal sample sizes and want to conduct pairwise comparisons between all possible pairs of group means.\n",
    "   - Example: In a study comparing the effects of three different treatments on blood pressure, if the ANOVA indicates a significant difference, Tukey's HSD can be used to determine which specific pairs of treatments are significantly different from each other.\n",
    "\n",
    "2. Bonferroni Correction:\n",
    "   - Use Case: Bonferroni correction is conservative and suitable when you want to control the familywise error rate (the probability of making at least one Type I error across all comparisons).\n",
    "   - Example: If you are conducting multiple pairwise comparisons (e.g., comparing the means of multiple groups), the Bonferroni correction can be applied to adjust the significance level for each comparison, reducing the chance of making a Type I error.\n",
    "\n",
    "3. Scheffé's Test:\n",
    "   - Use Case: Scheffé's test is more conservative than Tukey's HSD and is suitable when sample sizes are unequal and when making a large number of comparisons.\n",
    "   - Example: In an educational study comparing the performance of students from different schools, if the ANOVA indicates differences, Scheffé's test can be used for pairwise comparisons.\n",
    "\n",
    "4. Dunnett's Test:\n",
    "   - Use Case: Dunnett's test is appropriate when you have a control group and want to compare all other groups to the control.\n",
    "   - Example: In a pharmaceutical study comparing the effectiveness of different drugs with a placebo as the control group, Dunnett's test can be used to determine which drugs differ significantly from the placebo.\n",
    "\n",
    "5. Games-Howell Test:\n",
    "   - Use Case: Games-Howell is a robust post-hoc test suitable for unequal variances and sample sizes.\n",
    "   - Example: In a study comparing the effects of different teaching methods across multiple classrooms with varying numbers of students, Games-Howell can be used for pairwise comparisons.\n",
    "\n",
    "Example Situation:\n",
    "Suppose you are conducting a study on the impact of three different training programs on employee performance. After conducting a one-way ANOVA, you find a significant difference among the means. To understand which specific training programs lead to different performance outcomes, you would conduct post-hoc tests. Tukey's HSD could be appropriate for equal sample sizes, while Games-Howell might be more suitable if the sample sizes are unequal and the variances are not equal.\n",
    "\n",
    "It's important to consider the characteristics of your data, the assumptions of the post-hoc test, and the context of your study when choosing a post-hoc test. The goal is to make meaningful and valid pairwise comparisons while controlling for Type I errors introduced by multiple testing."
   ]
  },
  {
   "cell_type": "code",
   "execution_count": null,
   "id": "a949721f-371a-4da0-8878-ab8cd33a668e",
   "metadata": {},
   "outputs": [],
   "source": [
    "Q9. A researcher wants to compare the mean weight loss of three diets: A, B, and C. They collect data from \n",
    "50 participants who were randomly assigned to one of the diets. Conduct a one-way ANOVA using Python \n",
    "to determine if there are any significant differences between the mean weight loss of the three diets. \n",
    "Report the F-statistic and p-value, and interpret the results."
   ]
  },
  {
   "cell_type": "code",
   "execution_count": 4,
   "id": "64c6cebd-af71-4dd5-a1b3-9d32ba85bcdd",
   "metadata": {},
   "outputs": [
    {
     "name": "stdout",
     "output_type": "stream",
     "text": [
      "F-statistic: 60.35724557746856\n",
      "p-value: 7.310396587520461e-20\n",
      "Reject the null hypothesis. There are significant differences between the mean weight loss of the three diets.\n"
     ]
    }
   ],
   "source": [
    "import numpy as np\n",
    "from scipy import stats\n",
    "\n",
    "# Generate example data (replace this with your actual data)\n",
    "np.random.seed(42)  # for reproducibility\n",
    "diet_A = np.random.normal(5, 1, 50)  # mean weight loss of 5 kg, standard deviation of 1 kg\n",
    "diet_B = np.random.normal(6, 1, 50)  # mean weight loss of 6 kg, standard deviation of 1 kg\n",
    "diet_C = np.random.normal(4, 1, 50)  # mean weight loss of 4 kg, standard deviation of 1 kg\n",
    "\n",
    "# Combine the data into a single array\n",
    "data = np.concatenate([diet_A, diet_B, diet_C])\n",
    "\n",
    "# Generate corresponding group labels\n",
    "labels = ['Diet A'] * 50 + ['Diet B'] * 50 + ['Diet C'] * 50\n",
    "\n",
    "# Perform one-way ANOVA\n",
    "f_statistic, p_value = stats.f_oneway(diet_A, diet_B, diet_C)\n",
    "\n",
    "# Interpret the results\n",
    "print(\"F-statistic:\", f_statistic)\n",
    "print(\"p-value:\", p_value)\n",
    "\n",
    "# Compare p-value to the significance level (e.g., 0.05) to make a decision\n",
    "alpha = 0.05\n",
    "if p_value < alpha:\n",
    "    print(\"Reject the null hypothesis. There are significant differences between the mean weight loss of the three diets.\")\n",
    "else:\n",
    "    print(\"Fail to reject the null hypothesis. There is no significant difference between the mean weight loss of the three diets.\")\n"
   ]
  },
  {
   "cell_type": "code",
   "execution_count": null,
   "id": "b7498281-382b-4f4d-9ecf-4113362749c0",
   "metadata": {},
   "outputs": [],
   "source": [
    "Q10. A company wants to know if there are any significant differences in the average time it takes to \n",
    "complete a task using three different software programs: Program A, Program B, and Program C. They \n",
    "randomly assign 30 employees to one of the programs and record the time it takes each employee to \n",
    "complete the task. Conduct a two-way ANOVA using Python to determine if there are any main effects or \n",
    "interaction effects between the software programs and employee experience level (novice vs. \n",
    "experienced). Report the F-statistics and p-values, and interpret the results."
   ]
  },
  {
   "cell_type": "code",
   "execution_count": 5,
   "id": "a4bf209f-2b03-471d-b799-a6a06a864ee1",
   "metadata": {},
   "outputs": [
    {
     "name": "stdout",
     "output_type": "stream",
     "text": [
      "Requirement already satisfied: statsmodels in /opt/conda/lib/python3.10/site-packages (0.13.5)\n",
      "Requirement already satisfied: pandas>=0.25 in /opt/conda/lib/python3.10/site-packages (from statsmodels) (1.5.2)\n",
      "Requirement already satisfied: numpy>=1.17 in /opt/conda/lib/python3.10/site-packages (from statsmodels) (1.23.5)\n",
      "Requirement already satisfied: packaging>=21.3 in /opt/conda/lib/python3.10/site-packages (from statsmodels) (22.0)\n",
      "Requirement already satisfied: scipy>=1.3 in /opt/conda/lib/python3.10/site-packages (from statsmodels) (1.9.3)\n",
      "Requirement already satisfied: patsy>=0.5.2 in /opt/conda/lib/python3.10/site-packages (from statsmodels) (0.5.3)\n",
      "Requirement already satisfied: python-dateutil>=2.8.1 in /opt/conda/lib/python3.10/site-packages (from pandas>=0.25->statsmodels) (2.8.2)\n",
      "Requirement already satisfied: pytz>=2020.1 in /opt/conda/lib/python3.10/site-packages (from pandas>=0.25->statsmodels) (2022.6)\n",
      "Requirement already satisfied: six in /opt/conda/lib/python3.10/site-packages (from patsy>=0.5.2->statsmodels) (1.16.0)\n",
      "Note: you may need to restart the kernel to use updated packages.\n"
     ]
    }
   ],
   "source": [
    "pip install statsmodels\n"
   ]
  },
  {
   "cell_type": "code",
   "execution_count": 6,
   "id": "70c61977-5671-41cb-896c-d0f583786541",
   "metadata": {},
   "outputs": [
    {
     "name": "stdout",
     "output_type": "stream",
     "text": [
      "ANOVA Table:\n",
      "                        sum_sq    df         F    PR(>F)\n",
      "Program               2.514772   2.0  0.344485  0.709581\n",
      "Experience            0.479063   1.0  0.131248  0.718051\n",
      "Program:Experience    1.592393   2.0  0.218133  0.804472\n",
      "Residual            306.603758  84.0       NaN       NaN\n",
      "\n",
      "Main Effect Program: 1.2573861645744455\n",
      "Main Effect Experience: 0.4790627618847487\n",
      "Interaction Effect: 0.7961965610999509\n"
     ]
    }
   ],
   "source": [
    "import pandas as pd\n",
    "import statsmodels.api as sm\n",
    "from statsmodels.formula.api import ols\n",
    "\n",
    "# Generate example data (replace this with your actual data)\n",
    "np.random.seed(42)  # for reproducibility\n",
    "\n",
    "# Creating a DataFrame with random data\n",
    "data = {\n",
    "    'Time': np.random.normal(loc=10, scale=2, size=90),\n",
    "    'Program': np.repeat(['Program A', 'Program B', 'Program C'], 30),\n",
    "    'Experience': np.tile(['Novice', 'Experienced'], 45),\n",
    "}\n",
    "\n",
    "df = pd.DataFrame(data)\n",
    "\n",
    "# Fit a two-way ANOVA model\n",
    "model = ols('Time ~ Program * Experience', data=df).fit()\n",
    "\n",
    "# Perform ANOVA\n",
    "anova_table = sm.stats.anova_lm(model, typ=2)\n",
    "\n",
    "# Extract main effects and interaction effects\n",
    "main_effect_program = anova_table['sum_sq']['Program'] / anova_table['df']['Program']\n",
    "main_effect_experience = anova_table['sum_sq']['Experience'] / anova_table['df']['Experience']\n",
    "interaction_effect = anova_table['sum_sq']['Program:Experience'] / anova_table['df']['Program:Experience']\n",
    "\n",
    "# Print ANOVA table and effects\n",
    "print(\"ANOVA Table:\")\n",
    "print(anova_table)\n",
    "print(\"\\nMain Effect Program:\", main_effect_program)\n",
    "print(\"Main Effect Experience:\", main_effect_experience)\n",
    "print(\"Interaction Effect:\", interaction_effect)\n"
   ]
  },
  {
   "cell_type": "code",
   "execution_count": null,
   "id": "69355be0-542c-460c-929d-0e92c2339bad",
   "metadata": {},
   "outputs": [],
   "source": [
    "Q11. An educational researcher is interested in whether a new teaching method improves student test \n",
    "scores. They randomly assign 100 students to either the control group (traditional teaching method) or the \n",
    "experimental group (new teaching method) and administer a test at the end of the semester. Conduct a \n",
    "two-sample t-test using Python to determine if there are any significant differences in test scores \n",
    "between the two groups. If the results are significant, follow up with a post-hoc test to determine which \n",
    "group(s) differ significantly from each other."
   ]
  },
  {
   "cell_type": "code",
   "execution_count": 7,
   "id": "a27475f0-3c72-4042-a799-9a3362a36403",
   "metadata": {},
   "outputs": [
    {
     "name": "stdout",
     "output_type": "stream",
     "text": [
      "Two-sample t-test:\n",
      "t-statistic: -4.754695943505281\n",
      "p-value: 3.819135262679478e-06\n",
      "Reject the null hypothesis. There is a significant difference in test scores between the two groups.\n",
      "\n",
      "Tukey's HSD post-hoc test:\n",
      "  Multiple Comparison of Means - Tukey HSD, FWER=0.05   \n",
      "========================================================\n",
      " group1    group2    meandiff p-adj lower  upper  reject\n",
      "--------------------------------------------------------\n",
      "Control Experimental   6.2615   0.0 3.6645 8.8585   True\n",
      "--------------------------------------------------------\n"
     ]
    }
   ],
   "source": [
    "import numpy as np\n",
    "from scipy import stats\n",
    "import statsmodels.api as sm\n",
    "from statsmodels.stats.multicomp import pairwise_tukeyhsd\n",
    "\n",
    "# Generate example data (replace this with your actual data)\n",
    "np.random.seed(42)  # for reproducibility\n",
    "control_group = np.random.normal(70, 10, 100)  # mean test score of 70, standard deviation of 10\n",
    "experimental_group = np.random.normal(75, 10, 100)  # mean test score of 75, standard deviation of 10\n",
    "\n",
    "# Perform two-sample t-test\n",
    "t_statistic, p_value = stats.ttest_ind(control_group, experimental_group)\n",
    "\n",
    "# Interpret the results of the t-test\n",
    "print(\"Two-sample t-test:\")\n",
    "print(\"t-statistic:\", t_statistic)\n",
    "print(\"p-value:\", p_value)\n",
    "\n",
    "# Check if the results are significant\n",
    "alpha = 0.05\n",
    "if p_value < alpha:\n",
    "    print(\"Reject the null hypothesis. There is a significant difference in test scores between the two groups.\")\n",
    "else:\n",
    "    print(\"Fail to reject the null hypothesis. There is no significant difference in test scores between the two groups.\")\n",
    "\n",
    "# Post-hoc analysis (Tukey's HSD)\n",
    "data = np.concatenate([control_group, experimental_group])\n",
    "group_labels = ['Control'] * 100 + ['Experimental'] * 100\n",
    "\n",
    "tukey_results = pairwise_tukeyhsd(data, group_labels)\n",
    "\n",
    "# Print the results of Tukey's HSD\n",
    "print(\"\\nTukey's HSD post-hoc test:\")\n",
    "print(tukey_results)\n"
   ]
  },
  {
   "cell_type": "code",
   "execution_count": null,
   "id": "d620deb8-df60-427d-9505-4b5b1ee4a7c6",
   "metadata": {},
   "outputs": [],
   "source": [
    "Q12. A researcher wants to know if there are any significant differences in the average daily sales of three \n",
    "retail stores: Store A, Store B, and Store C. They randomly select 30 days and record the sales for each store \n",
    "on those days. Conduct a repeated measures ANOVA using Python to determine if there are any \n",
    "significant differences in sales between the three stores. If the results are significant, follow up with a post\u0002hoc test to determine which store(s) differ significantly from each other."
   ]
  },
  {
   "cell_type": "code",
   "execution_count": 8,
   "id": "ff14df48-771a-4ece-a32b-d378e32e5e1a",
   "metadata": {},
   "outputs": [
    {
     "name": "stdout",
     "output_type": "stream",
     "text": [
      "One-way ANOVA:\n",
      "F-statistic: 3.9643113062294972\n",
      "p-value: 0.022506615095246253\n",
      "Reject the null hypothesis. There is a significant difference in average daily sales between the three stores.\n",
      "\n",
      "Tukey's HSD post-hoc test:\n",
      "  Multiple Comparison of Means - Tukey HSD, FWER=0.05  \n",
      "=======================================================\n",
      " group1  group2 meandiff p-adj   lower    upper  reject\n",
      "-------------------------------------------------------\n",
      "Store A Store B  11.3397 0.0567  -0.2571 22.9365  False\n",
      "Store A Store C  -0.9794 0.9779 -12.5762 10.6175  False\n",
      "Store B Store C -12.3191 0.0347 -23.9159 -0.7222   True\n",
      "-------------------------------------------------------\n"
     ]
    }
   ],
   "source": [
    "import numpy as np\n",
    "import pandas as pd\n",
    "from scipy.stats import f_oneway\n",
    "from statsmodels.stats.multicomp import pairwise_tukeyhsd\n",
    "\n",
    "# Generate example data (replace this with your actual data)\n",
    "np.random.seed(42)  # for reproducibility\n",
    "sales_store_A = np.random.normal(100, 20, 30)  # mean sales of 100, standard deviation of 20\n",
    "sales_store_B = np.random.normal(110, 20, 30)  # mean sales of 110, standard deviation of 20\n",
    "sales_store_C = np.random.normal(95, 20, 30)   # mean sales of 95, standard deviation of 20\n",
    "\n",
    "# Combine the data into a DataFrame\n",
    "df = pd.DataFrame({\n",
    "    'Store A': sales_store_A,\n",
    "    'Store B': sales_store_B,\n",
    "    'Store C': sales_store_C,\n",
    "})\n",
    "\n",
    "# Melt the DataFrame for easier analysis\n",
    "df_melted = pd.melt(df, var_name='Store', value_name='Sales')\n",
    "\n",
    "# Perform one-way ANOVA\n",
    "f_statistic, p_value = f_oneway(df['Store A'], df['Store B'], df['Store C'])\n",
    "\n",
    "# Interpret the results of the one-way ANOVA\n",
    "print(\"One-way ANOVA:\")\n",
    "print(\"F-statistic:\", f_statistic)\n",
    "print(\"p-value:\", p_value)\n",
    "\n",
    "# Check if the results are significant\n",
    "alpha = 0.05\n",
    "if p_value < alpha:\n",
    "    print(\"Reject the null hypothesis. There is a significant difference in average daily sales between the three stores.\")\n",
    "else:\n",
    "    print(\"Fail to reject the null hypothesis. There is no significant difference in average daily sales between the three stores.\")\n",
    "\n",
    "# Post-hoc analysis (Tukey's HSD)\n",
    "tukey_results = pairwise_tukeyhsd(df_melted['Sales'], df_melted['Store'])\n",
    "\n",
    "# Print the results of Tukey's HSD\n",
    "print(\"\\nTukey's HSD post-hoc test:\")\n",
    "print(tukey_results)\n"
   ]
  },
  {
   "cell_type": "code",
   "execution_count": null,
   "id": "fdd04ed8-3cfa-4622-b348-b4e1982e7c3d",
   "metadata": {},
   "outputs": [],
   "source": []
  }
 ],
 "metadata": {
  "kernelspec": {
   "display_name": "Python 3 (ipykernel)",
   "language": "python",
   "name": "python3"
  },
  "language_info": {
   "codemirror_mode": {
    "name": "ipython",
    "version": 3
   },
   "file_extension": ".py",
   "mimetype": "text/x-python",
   "name": "python",
   "nbconvert_exporter": "python",
   "pygments_lexer": "ipython3",
   "version": "3.10.8"
  }
 },
 "nbformat": 4,
 "nbformat_minor": 5
}
