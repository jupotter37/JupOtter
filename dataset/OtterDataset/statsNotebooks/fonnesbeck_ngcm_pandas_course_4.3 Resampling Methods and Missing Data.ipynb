{
 "cells": [
  {
   "cell_type": "markdown",
   "metadata": {},
   "source": [
    "# Resampling Methods\n",
    "\n",
    "Resampling is the process of repeatedly **drawing subsamples** from a training dataset, and fitting a model to each sample with the goal of discovering additional properties or information about the model. For example, in a regression modeling context, we can fit a particular regression model to each sample, and observe **how the fits vary** among the samples. \n",
    "\n",
    "We will introduce two important resampling methods:\n",
    "\n",
    "* cross-validation\n",
    "* bootstrapping\n",
    "\n",
    "Both have important uses in statistical and machine learning applications, particularly for **assessing** models, performing model **selection**, and estimating the **precision** of parameter estimates."
   ]
  },
  {
   "cell_type": "markdown",
   "metadata": {},
   "source": [
    "## Cross-validation\n",
    "\n",
    "One approach for evaluating the fit of a particular model is to divide the available dataset into two parts and:\n",
    "\n",
    "* use one subset to fit the model\n",
    "* used the other subset to test the model\n",
    "\n",
    "What do we mean by \"test\"? If the model fit is a good one, then providing new data to the model should generate predicted outputs that are close to the observed outputs. This can be quantified by calculating the **test error**.  "
   ]
  },
  {
   "cell_type": "code",
   "execution_count": 3,
   "metadata": {
    "collapsed": true
   },
   "outputs": [],
   "source": [
    "%matplotlib inline\n",
    "import numpy as np\n",
    "import pandas as pd\n",
    "import matplotlib.pyplot as plt"
   ]
  },
  {
   "cell_type": "code",
   "execution_count": 3,
   "metadata": {
    "collapsed": false
   },
   "outputs": [
    {
     "name": "stderr",
     "output_type": "stream",
     "text": [
      "/usr/local/lib/python3.4/site-packages/pandas/io/parsers.py:648: ParserWarning: Falling back to the 'python' engine because the 'c' engine does not support regex separators; you can avoid this warning by specifying engine='python'.\n",
      "  ParserWarning)\n"
     ]
    },
    {
     "data": {
      "text/plain": [
       "<matplotlib.collections.PathCollection at 0x10a3be668>"
      ]
     },
     "execution_count": 3,
     "metadata": {},
     "output_type": "execute_result"
    },
    {
     "data": {
      "image/png": "[encoded data removed]",
      "text/plain": [
       "<matplotlib.figure.Figure at 0x108b26898>"
      ]
     },
     "metadata": {},
     "output_type": "display_data"
    }
   ],
   "source": [
    "salmon = pd.read_table(\"../data/salmon.dat\", sep='\\s*', index_col=0)\n",
    "plt.scatter(x=salmon.spawners, y=salmon.recruits)"
   ]
  },
  {
   "cell_type": "markdown",
   "metadata": {},
   "source": [
    "On the one extreme, a linear relationship is underfit; on the other, we see that including a very large number of polynomial terms is clearly overfitting the data."
   ]
  },
  {
   "cell_type": "code",
   "execution_count": 4,
   "metadata": {
    "collapsed": false
   },
   "outputs": [
    {
     "data": {
      "text/plain": [
       "<matplotlib.collections.PathCollection at 0x10a519d68>"
      ]
     },
     "execution_count": 4,
     "metadata": {},
     "output_type": "execute_result"
    },
    {
     "data": {
      "image/png": "[encoded data removed]",
      "text/plain": [
       "<matplotlib.figure.Figure at 0x10a419c50>"
      ]
     },
     "metadata": {},
     "output_type": "display_data"
    }
   ],
   "source": [
    "fig, axes = plt.subplots(1, 2, figsize=(14,6))\n",
    "\n",
    "xvals = np.arange(salmon.spawners.min(), salmon.spawners.max())\n",
    "\n",
    "fit1 = np.polyfit(salmon.spawners, salmon.recruits, 1)\n",
    "p1 = np.poly1d(fit1)\n",
    "axes[0].plot(xvals, p1(xvals))\n",
    "axes[0].scatter(x=salmon.spawners, y=salmon.recruits)\n",
    "\n",
    "fit15 = np.polyfit(salmon.spawners, salmon.recruits, 15)\n",
    "p15 = np.poly1d(fit15)\n",
    "axes[1].plot(xvals, p15(xvals))\n",
    "axes[1].scatter(x=salmon.spawners, y=salmon.recruits)"
   ]
  },
  {
   "cell_type": "markdown",
   "metadata": {},
   "source": [
    "We can select an appropriate polynomial order for the model using **cross-validation**, in which we hold out a testing subset from our dataset, fit the model to the remaining data, and evaluate its performance on the held-out subset."
   ]
  },
  {
   "cell_type": "code",
   "execution_count": 5,
   "metadata": {
    "collapsed": false
   },
   "outputs": [],
   "source": [
    "test_set = salmon.sample(frac=0.3)"
   ]
  },
  {
   "cell_type": "code",
   "execution_count": 6,
   "metadata": {
    "collapsed": false
   },
   "outputs": [],
   "source": [
    "train_set = salmon.drop(test_set.index)"
   ]
  },
  {
   "cell_type": "markdown",
   "metadata": {},
   "source": [
    "A natural criterion to evaluate model performance is root mean square error."
   ]
  },
  {
   "cell_type": "code",
   "execution_count": 7,
   "metadata": {
    "collapsed": true
   },
   "outputs": [],
   "source": [
    "def rmse(x, y, coefs):\n",
    "    yfit = np.polyval(coefs, x)\n",
    "    return np.sqrt(np.mean((y - yfit) ** 2))"
   ]
  },
  {
   "cell_type": "markdown",
   "metadata": {},
   "source": [
    "We can now evaluate the model at varying polynomial degrees, and compare their fit."
   ]
  },
  {
   "cell_type": "code",
   "execution_count": 8,
   "metadata": {
    "collapsed": false
   },
   "outputs": [
    {
     "data": {
      "text/plain": [
       "<matplotlib.text.Text at 0x10a83bcc0>"
      ]
     },
     "execution_count": 8,
     "metadata": {},
     "output_type": "execute_result"
    },
    {
     "data": {
      "image/png": "[encoded data removed]",
      "text/plain": [
       "<matplotlib.figure.Figure at 0x10a552c50>"
      ]
     },
     "metadata": {},
     "output_type": "display_data"
    }
   ],
   "source": [
    "# suppress warnings from Polyfit\n",
    "import warnings\n",
    "warnings.filterwarnings('ignore', message='Polyfit*')\n",
    "\n",
    "degrees = np.arange(13)\n",
    "train_err = np.zeros(len(degrees))\n",
    "validation_err = np.zeros(len(degrees))\n",
    "\n",
    "for i, d in enumerate(degrees):\n",
    "    p = np.polyfit(train_set.spawners, train_set.recruits, d)\n",
    "\n",
    "    train_err[i] = rmse(train_set.spawners, train_set.recruits, p)\n",
    "    validation_err[i] = rmse(test_set.spawners, test_set.recruits, p)\n",
    "\n",
    "fig, ax = plt.subplots()\n",
    "\n",
    "ax.plot(degrees, validation_err, lw=2, label = 'cross-validation error')\n",
    "ax.plot(degrees, train_err, lw=2, label = 'training error')\n",
    "\n",
    "ax.legend(loc=0)\n",
    "ax.set_xlabel('degree of fit')\n",
    "ax.set_ylabel('rms error')"
   ]
  },
  {
   "cell_type": "markdown",
   "metadata": {},
   "source": [
    "In the cross-validation above, notice that the error is high for both very low and very high polynomial values, while training error declines monotonically with degree. The cross-validation error is composed of two components: **bias** and **variance**. When a model is underfit, bias is low but variance is high, while when a model is overfit, the reverse is true.\n",
    "\n",
    "One can show that the MSE decomposes into a sum of the bias (squared) and variance of the estimator:\n",
    "\n",
    "$$\\begin{aligned}\n",
    "\\text{Var}(\\hat{\\theta}) &= E[\\hat{\\theta} - \\theta]^2 - (E[\\hat{\\theta} - \\theta])^2 \\\\\n",
    "\\Rightarrow E[\\hat{\\theta} - \\theta]^2 &= \\text{Var}(\\hat{\\theta}) + \\text{Bias}(\\hat{\\theta})^2\n",
    "\\end{aligned}$$\n",
    "\n",
    "The training error, on the other hand, does not have this tradeoff; it will always decrease (or at least, never increase) as variables (polynomial terms) are added to the model."
   ]
  },
  {
   "cell_type": "markdown",
   "metadata": {},
   "source": [
    "## K-fold Cross-validation\n",
    "\n",
    "In the example above, our validation was based on just one random split of the data. Try re-running the above example on a different random subset, and examine the result.\n",
    "\n",
    "There are two issues with this:\n",
    "\n",
    "1. Your particular random subset may not be representative\n",
    "2. The fitted model will have higher variance relative to a model fit to the complete dataset"
   ]
  },
  {
   "cell_type": "markdown",
   "metadata": {},
   "source": [
    "In **k-fold cross-validation**, the training set is split into *k* smaller sets. Then, for each of the k \"folds\":\n",
    "\n",
    "1. trained model on *k-1* of the folds as training data\n",
    "2. validate this model the remaining fold, using an appropriate metric\n",
    "\n",
    "The performance measure reported by k-fold CV is then the average of the *k* computed values. This approach can be computationally expensive, but does not waste too much data, which is an advantage over having a fixed test subset."
   ]
  },
  {
   "cell_type": "markdown",
   "metadata": {},
   "source": [
    "### Example: Cross-validation subsets\n",
    "\n",
    "Extend the subsetting operation from above to create five random partitions of the dataset."
   ]
  },
  {
   "cell_type": "code",
   "execution_count": 9,
   "metadata": {
    "collapsed": true
   },
   "outputs": [],
   "source": [
    "# Write your answer here"
   ]
  },
  {
   "cell_type": "code",
   "execution_count": 29,
   "metadata": {
    "collapsed": false
   },
   "outputs": [
    {
     "data": {
      "image/png": "[encoded data removed]",
      "text/plain": [
       "<matplotlib.figure.Figure at 0x10af5d668>"
      ]
     },
     "metadata": {},
     "output_type": "display_data"
    }
   ],
   "source": [
    "fig, axes = plt.subplots(1, k, figsize=(14,4))\n",
    "for i in range(k):\n",
    "    axes[i].plot(train_subsets[i].spawners, train_subsets[i].recruits, 'ro')\n",
    "    axes[i].plot(test_subsets[i].spawners, test_subsets[i].recruits, 'bo')\n",
    "    \n",
    "plt.tight_layout()"
   ]
  },
  {
   "cell_type": "markdown",
   "metadata": {},
   "source": [
    "We can now perform k-fold cross-validation, and report the average error over all of the folds."
   ]
  },
  {
   "cell_type": "code",
   "execution_count": 34,
   "metadata": {
    "collapsed": false
   },
   "outputs": [
    {
     "data": {
      "text/plain": [
       "<matplotlib.text.Text at 0x10d83add8>"
      ]
     },
     "execution_count": 34,
     "metadata": {},
     "output_type": "execute_result"
    },
    {
     "data": {
      "image/png": "[encoded data removed]",
      "text/plain": [
       "<matplotlib.figure.Figure at 0x10d7cce10>"
      ]
     },
     "metadata": {},
     "output_type": "display_data"
    }
   ],
   "source": [
    "from sklearn.cross_validation import cross_val_score, KFold\n",
    "import warnings\n",
    "warnings.filterwarnings('ignore', message='Polyfit*')\n",
    "\n",
    "k = 5\n",
    "degrees = np.arange(8)\n",
    "k_fold_err = np.empty(len(degrees))\n",
    "\n",
    "for i, d in enumerate(degrees):\n",
    "    \n",
    "    error = np.empty(k)\n",
    "    \n",
    "    #for j, fold in enumerate(gen_k_folds(salmon, k)):\n",
    "    for j, fold in enumerate(KFold(len(salmon), n_folds=k)):\n",
    "\n",
    "        training, validation = fold\n",
    "        \n",
    "        y_train, x_train = salmon.values[training].T\n",
    "        y_test, x_test = salmon.values[validation].T\n",
    "        \n",
    "        p = np.polyfit(x_train, y_train, d)\n",
    "        \n",
    "        error[j] = rmse(x_test, y_test, p)\n",
    "\n",
    "    k_fold_err[i] = error.mean()\n",
    "        \n",
    "\n",
    "fig, ax = plt.subplots()\n",
    "\n",
    "ax.plot(degrees, k_fold_err, lw=2)\n",
    "ax.set_xlabel('degree of fit')\n",
    "ax.set_ylabel('average rms error')"
   ]
  },
  {
   "cell_type": "markdown",
   "metadata": {},
   "source": [
    "# Bootstrapping\n",
    "\n",
    "Parametric inference can be **non-robust**:\n",
    "\n",
    "* inaccurate if parametric assumptions are violated\n",
    "* if we rely on asymptotic results, we may not achieve an acceptable level of accuracy\n",
    "\n",
    "Parmetric inference can be **difficult**:\n",
    "\n",
    "* derivation of sampling distribution may not be possible\n",
    "\n",
    "An alternative is to estimate the sampling distribution of a statistic *empirically* without making assumptions about the form of the population.\n",
    "\n",
    "We have seen this already with the kernel density estimate."
   ]
  },
  {
   "cell_type": "markdown",
   "metadata": {},
   "source": [
    "### Non-parametric Bootstrap\n",
    "\n",
    "The bootstrap is a resampling method discovered by [Brad Efron](http://www.jstor.org/discover/10.2307/2958830?uid=3739568&uid=2&uid=4&uid=3739256&sid=21102342537691) that allows one to approximate the true sampling distribution of a dataset, and thereby obtain estimates of the mean and variance of the distribution.\n",
    "\n",
    "Bootstrap sample:\n",
    "\n",
    "<div style=\"font-size: 120%;\">  \n",
    "$$S_1^* = \\{x_{11}^*, x_{12}^*, \\ldots, x_{1n}^*\\}$$\n",
    "</div>"
   ]
  },
  {
   "cell_type": "markdown",
   "metadata": {},
   "source": [
    "$S_i^*$ is a sample of size $n$, **with** replacement.\n",
    "\n",
    "In Python, we have already seen sampling. If we want to use NumPy for this, we can permute the column of names to obtain a sample:"
   ]
  },
  {
   "cell_type": "code",
   "execution_count": 41,
   "metadata": {
    "collapsed": false
   },
   "outputs": [
    {
     "data": {
      "text/plain": [
       "array(['del Carlo, Mr. Sebastiano', 'Stanton, Mr. Samuel Ward',\n",
       "       'Moor, Mrs. (Beila)', 'Skoog, Miss. Mabel', 'Collyer, Mr. Harvey'], dtype=object)"
      ]
     },
     "execution_count": 41,
     "metadata": {},
     "output_type": "execute_result"
    }
   ],
   "source": [
    "titanic = pd.read_excel(\"../data/titanic.xls\", \"titanic\")\n",
    "\n",
    "np.random.permutation(titanic.name)[:5]"
   ]
  },
  {
   "cell_type": "markdown",
   "metadata": {},
   "source": [
    "Sampling is even easier in pandas; `DataFrame` and `Series` objects have `sample` methods that allow for sampling without the need for outside functions."
   ]
  },
  {
   "cell_type": "code",
   "execution_count": 4,
   "metadata": {
    "collapsed": false
   },
   "outputs": [
    {
     "data": {
      "text/plain": [
       "771                        Devaney, Miss. Margaret Delia\n",
       "344                              Bentham, Miss. Lilian W\n",
       "173                                   Keeping, Mr. Edwin\n",
       "111                       Fortune, Miss. Alice Elizabeth\n",
       "61     Cavendish, Mrs. Tyrell William (Julia Florence...\n",
       "Name: name, dtype: object"
      ]
     },
     "execution_count": 4,
     "metadata": {},
     "output_type": "execute_result"
    }
   ],
   "source": [
    "titanic.name.sample(n=5)"
   ]
  },
  {
   "cell_type": "markdown",
   "metadata": {},
   "source": [
    "We can use either method to generate a sample *with* replacement, which we can use when bootstrapping."
   ]
  },
  {
   "cell_type": "code",
   "execution_count": 5,
   "metadata": {
    "collapsed": false
   },
   "outputs": [
    {
     "data": {
      "text/plain": [
       "615                         Alhomaki, Mr. Ilmari Rudolf\n",
       "882                               Jardin, Mr. Jose Neto\n",
       "820     Goldsmith, Master. Frank John William \"Frankie\"\n",
       "1200                                  Simmons, Mr. John\n",
       "93                                Dodge, Dr. Washington\n",
       "Name: name, dtype: object"
      ]
     },
     "execution_count": 5,
     "metadata": {},
     "output_type": "execute_result"
    }
   ],
   "source": [
    "titanic.name.sample(n=5, replace=True)"
   ]
  },
  {
   "cell_type": "markdown",
   "metadata": {},
   "source": [
    "We regard S as an \"estimate\" of population P\n",
    "\n",
    "> population : sample :: sample : bootstrap sample\n",
    "\n",
    "The idea is to generate replicate bootstrap samples:\n",
    "\n",
    "<div style=\"font-size: 120%;\">  \n",
    "$$S^* = \\{S_1^*, S_2^*, \\ldots, S_R^*\\}$$\n",
    "</div>"
   ]
  },
  {
   "cell_type": "markdown",
   "metadata": {},
   "source": [
    "Compute statistic $t$ (estimate) for each bootstrap sample:\n",
    "\n",
    "<div style=\"font-size: 120%;\">  \n",
    "$$T_i^* = t(S^*)$$\n",
    "</div>"
   ]
  },
  {
   "cell_type": "code",
   "execution_count": 42,
   "metadata": {
    "collapsed": false
   },
   "outputs": [
    {
     "data": {
      "image/png": "[encoded data removed]",
      "text/plain": [
       "<matplotlib.figure.Figure at 0x10db603c8>"
      ]
     },
     "metadata": {},
     "output_type": "display_data"
    }
   ],
   "source": [
    "# Sample size\n",
    "n = 10\n",
    "# Bootstrap replicates\n",
    "R = 1000\n",
    "\n",
    "# Original sample (n=10)\n",
    "data = np.random.normal(size=n)\n",
    "\n",
    "# 1000 bootstrap samples of size 10\n",
    "s = [data[np.random.randint(0,n,n)].mean() for i in range(R)]\n",
    "_ = plt.hist(s, bins=30)"
   ]
  },
  {
   "cell_type": "markdown",
   "metadata": {},
   "source": [
    "### Bootstrap Estimates\n",
    "\n",
    "From our bootstrapped samples, we can extract *estimates* of the expectation and its variance:\n",
    "\n",
    "$$\\bar{T}^* = \\hat{E}(T^*) = \\frac{\\sum_i T_i^*}{R}$$\n",
    "\n",
    "$$\\hat{\\text{Var}}(T^*) = \\frac{\\sum_i (T_i^* - \\bar{T}^*)^2}{R-1}$$\n"
   ]
  },
  {
   "cell_type": "code",
   "execution_count": 7,
   "metadata": {
    "collapsed": false
   },
   "outputs": [
    {
     "data": {
      "text/plain": [
       "-0.010634994068604737"
      ]
     },
     "execution_count": 7,
     "metadata": {},
     "output_type": "execute_result"
    }
   ],
   "source": [
    "boot_mean = np.sum(s)/R\n",
    "boot_mean"
   ]
  },
  {
   "cell_type": "code",
   "execution_count": 8,
   "metadata": {
    "collapsed": false
   },
   "outputs": [
    {
     "data": {
      "text/plain": [
       "0.096424540347488735"
      ]
     },
     "execution_count": 8,
     "metadata": {},
     "output_type": "execute_result"
    }
   ],
   "source": [
    "boot_var = ((np.array(s) - boot_mean) ** 2).sum() / (R-1)\n",
    "boot_var"
   ]
  },
  {
   "cell_type": "markdown",
   "metadata": {},
   "source": [
    "Since we have estimated the expectation of the bootstrapped statistics, we can estimate the **bias** of T:\n",
    "\n",
    "$$\\hat{B}^* = \\bar{T}^* - T$$\n"
   ]
  },
  {
   "cell_type": "code",
   "execution_count": 9,
   "metadata": {
    "collapsed": false
   },
   "outputs": [
    {
     "data": {
      "text/plain": [
       "0.0020411066725416153"
      ]
     },
     "execution_count": 9,
     "metadata": {},
     "output_type": "execute_result"
    }
   ],
   "source": [
    "boot_mean - np.mean(x)"
   ]
  },
  {
   "cell_type": "markdown",
   "metadata": {},
   "source": [
    "### Bootstrap error\n",
    "\n",
    "There are two sources of error in bootstrap estimates:\n",
    "\n",
    "1. **Sampling error** from the selection of $S$.\n",
    "2. **Bootstrap error** from failing to enumerate all possible bootstrap samples.\n",
    "\n",
    "For the sake of accuracy, it is prudent to choose at least R=1000"
   ]
  },
  {
   "cell_type": "markdown",
   "metadata": {},
   "source": [
    "### Bootstrap Percentile Intervals\n",
    "\n",
    "An attractive feature of bootstrap statistics is the ease with which you can obtain an estimate of *uncertainty* for a given statistic. We simply use the empirical quantiles of the bootstrapped statistics to obtain percentiles corresponding to a confidence interval of interest.\n",
    "\n",
    "This employs the *ordered* bootstrap replicates:\n",
    "\n",
    "$$T_{(1)}^*, T_{(2)}^*, \\ldots, T_{(R)}^*$$\n",
    "\n",
    "Simply extract the $100(\\alpha/2)$ and $100(1-\\alpha/2)$ percentiles:\n",
    "\n",
    "$$T_{[(R+1)\\alpha/2]}^* \\lt \\theta \\lt T_{[(R+1)(1-\\alpha/2)]}^*$$"
   ]
  },
  {
   "cell_type": "code",
   "execution_count": 10,
   "metadata": {
    "collapsed": false
   },
   "outputs": [
    {
     "data": {
      "text/plain": [
       "array([-0.91967048, -0.90973162, -0.85767483, -0.84810824, -0.84662028,\n",
       "       -0.80051498, -0.79946227, -0.78140612, -0.76458429, -0.70469327])"
      ]
     },
     "execution_count": 10,
     "metadata": {},
     "output_type": "execute_result"
    }
   ],
   "source": [
    "s_sorted = np.sort(s)\n",
    "s_sorted[:10]"
   ]
  },
  {
   "cell_type": "code",
   "execution_count": 11,
   "metadata": {
    "collapsed": false
   },
   "outputs": [
    {
     "data": {
      "text/plain": [
       "array([ 0.69152391,  0.70901094,  0.73117777,  0.73601627,  0.74650045,\n",
       "        0.75194324,  0.77321301,  0.78102524,  0.78689248,  0.78751011])"
      ]
     },
     "execution_count": 11,
     "metadata": {},
     "output_type": "execute_result"
    }
   ],
   "source": [
    "s_sorted[-10:]"
   ]
  },
  {
   "cell_type": "code",
   "execution_count": 12,
   "metadata": {
    "collapsed": false
   },
   "outputs": [
    {
     "data": {
      "text/plain": [
       "array([-0.61936385,  0.59574587])"
      ]
     },
     "execution_count": 12,
     "metadata": {},
     "output_type": "execute_result"
    }
   ],
   "source": [
    "alpha = 0.05\n",
    "s_sorted[[(R+1)*alpha/2, (R+1)*(1-alpha/2)]]"
   ]
  },
  {
   "cell_type": "markdown",
   "metadata": {},
   "source": [
    "### Exercise: Cervical dystonia bootstrap estimates\n",
    "\n",
    "Use bootstrapping to estimate the mean of one of the treatment groups, and calculate percentile intervals for the mean."
   ]
  },
  {
   "cell_type": "code",
   "execution_count": null,
   "metadata": {
    "collapsed": true
   },
   "outputs": [],
   "source": [
    "# Write your answer here"
   ]
  },
  {
   "cell_type": "markdown",
   "metadata": {},
   "source": [
    "# Missing Data\n",
    "\n",
    "Missing data is a common problem in most real-world scientific datasets. While the best way for dealing with missing data will always be preventing their occurrence in the first place, it usually can't be helped, particularly when data are collected passively or voluntarily, or when data collection and recording is distributed among several people. There are a variety of ways for dealing with missing data, from the very naïve to the very sophisticated, and unfortunately the more common approaches tend to be *ad hoc* and will usually do more harm than good. \n",
    "\n",
    "It turns out that more robust methods for imputation are not as difficult to implement as they first appear to be. Two of the best ones are Bayesian imputation and multiple imputation. In this section, we will use multiple imputation to account for missing data in a regression analysis. \n",
    "\n",
    "As a motivating example, we will use a dataset of educational outcomes for children with hearing impairment. Here, we are interested in determining factors that are associated with better or poorer learning outcomes. There is a suite of available predictors, including gender (`male`), number of siblings in the household (`siblings`), an index of family involvement (`family_inv`), whether the primary household language is not English (`non_english`), the presence of a previous disability (`prev_disab`), non-white race (`non_white`), the age at the time of testing (in months, `age_test`), whether hearing loss is not severe (`non_severe_hl`), whether the subject's mother obtained a high school diploma or better (`mother_hs`), and whether the hearing impairment was identified by 3 months of age (`early_ident`)."
   ]
  },
  {
   "cell_type": "code",
   "execution_count": 36,
   "metadata": {
    "collapsed": false,
    "scrolled": false
   },
   "outputs": [
    {
     "data": {
      "text/html": [
       "<div style=\"max-height:1000px;max-width:1500px;overflow:auto;\">\n",
       "<table border=\"1\" class=\"dataframe\">\n",
       "  <thead>\n",
       "    <tr style=\"text-align: right;\">\n",
       "      <th></th>\n",
       "      <th>score</th>\n",
       "      <th>male</th>\n",
       "      <th>siblings</th>\n",
       "      <th>family_inv</th>\n",
       "      <th>non_english</th>\n",
       "      <th>prev_disab</th>\n",
       "      <th>age_test</th>\n",
       "      <th>non_severe_hl</th>\n",
       "      <th>mother_hs</th>\n",
       "      <th>early_ident</th>\n",
       "      <th>non_white</th>\n",
       "    </tr>\n",
       "  </thead>\n",
       "  <tbody>\n",
       "    <tr>\n",
       "      <th>0</th>\n",
       "      <td>40</td>\n",
       "      <td>0</td>\n",
       "      <td>2</td>\n",
       "      <td>2</td>\n",
       "      <td>False</td>\n",
       "      <td>NaN</td>\n",
       "      <td>55</td>\n",
       "      <td>1</td>\n",
       "      <td>NaN</td>\n",
       "      <td>False</td>\n",
       "      <td>False</td>\n",
       "    </tr>\n",
       "    <tr>\n",
       "      <th>1</th>\n",
       "      <td>31</td>\n",
       "      <td>1</td>\n",
       "      <td>0</td>\n",
       "      <td>NaN</td>\n",
       "      <td>False</td>\n",
       "      <td>0</td>\n",
       "      <td>53</td>\n",
       "      <td>0</td>\n",
       "      <td>0</td>\n",
       "      <td>False</td>\n",
       "      <td>False</td>\n",
       "    </tr>\n",
       "    <tr>\n",
       "      <th>2</th>\n",
       "      <td>83</td>\n",
       "      <td>1</td>\n",
       "      <td>1</td>\n",
       "      <td>1</td>\n",
       "      <td>True</td>\n",
       "      <td>0</td>\n",
       "      <td>52</td>\n",
       "      <td>1</td>\n",
       "      <td>NaN</td>\n",
       "      <td>False</td>\n",
       "      <td>True</td>\n",
       "    </tr>\n",
       "    <tr>\n",
       "      <th>3</th>\n",
       "      <td>75</td>\n",
       "      <td>0</td>\n",
       "      <td>3</td>\n",
       "      <td>NaN</td>\n",
       "      <td>False</td>\n",
       "      <td>0</td>\n",
       "      <td>55</td>\n",
       "      <td>0</td>\n",
       "      <td>1</td>\n",
       "      <td>False</td>\n",
       "      <td>False</td>\n",
       "    </tr>\n",
       "    <tr>\n",
       "      <th>5</th>\n",
       "      <td>62</td>\n",
       "      <td>0</td>\n",
       "      <td>0</td>\n",
       "      <td>4</td>\n",
       "      <td>False</td>\n",
       "      <td>1</td>\n",
       "      <td>50</td>\n",
       "      <td>0</td>\n",
       "      <td>NaN</td>\n",
       "      <td>False</td>\n",
       "      <td>False</td>\n",
       "    </tr>\n",
       "  </tbody>\n",
       "</table>\n",
       "</div>"
      ],
      "text/plain": [
       "   score  male  siblings  family_inv non_english  prev_disab  age_test  \\\n",
       "0     40     0         2           2       False         NaN        55   \n",
       "1     31     1         0         NaN       False           0        53   \n",
       "2     83     1         1           1        True           0        52   \n",
       "3     75     0         3         NaN       False           0        55   \n",
       "5     62     0         0           4       False           1        50   \n",
       "\n",
       "   non_severe_hl  mother_hs early_ident non_white  \n",
       "0              1        NaN       False     False  \n",
       "1              0          0       False     False  \n",
       "2              1        NaN       False      True  \n",
       "3              0          1       False     False  \n",
       "5              0        NaN       False     False  "
      ]
     },
     "execution_count": 36,
     "metadata": {},
     "output_type": "execute_result"
    }
   ],
   "source": [
    "test_scores = pd.read_csv('../data/test_scores.csv', index_col=0)\n",
    "test_scores.head()"
   ]
  },
  {
   "cell_type": "markdown",
   "metadata": {},
   "source": [
    "For three variables in the dataset, there are incomplete records."
   ]
  },
  {
   "cell_type": "code",
   "execution_count": 37,
   "metadata": {
    "collapsed": false
   },
   "outputs": [
    {
     "data": {
      "text/plain": [
       "score             0\n",
       "male              0\n",
       "siblings          0\n",
       "family_inv       33\n",
       "non_english       0\n",
       "prev_disab       18\n",
       "age_test          0\n",
       "non_severe_hl     0\n",
       "mother_hs        73\n",
       "early_ident       0\n",
       "non_white         0\n",
       "dtype: int64"
      ]
     },
     "execution_count": 37,
     "metadata": {},
     "output_type": "execute_result"
    }
   ],
   "source": [
    "test_scores.isnull().sum(0)"
   ]
  },
  {
   "cell_type": "markdown",
   "metadata": {},
   "source": [
    "## Strategies for dealing with missing data\n",
    "\n",
    "The easiest (and worst) way to deal with missing data is to ignore it. That is, simply run the analysis, missing values and all, hoping for the best. If your software is any good, this approach will simply not work; the algorithm will try to operate on data that includes missing values, and propagate them, resulting in statistics and estimates that cannot be calculated, which will typically raise errors. If your software is poor, it will make some assumption or decision about the missing values, and proceed to generate  results conditional on the assumption, which creates problems that may never be detected because no indication was given to any potential problem. \n",
    "\n",
    "The next easiest (worst) approach to analyzing data with missing values is to conduct list-wise deletion, by deleting the records that have missing values. This is called **complete case analysis**, because only records that are complete get retained for the analysis. The degree to which complete case analysis is undesirable depends on the mechanism by which data have become missing.\n",
    "\n",
    "## Types of Missingness\n",
    "\n",
    "- **Missing completely at random (MCAR)**: When data are MCAR, missing cases are, on average, identical to non-missing cases, with respect to the model. Ignoring the missingness will reduce the power of the analysis, but will not bias inference.\n",
    "- **Missing at random (MAR)**: Missing data depends (usually probabilistically) on measured values, and hence can be modeled by variables observed in the data set. Accounting for the values which “cause” the missing data will produce unbiased results in an analysis.\n",
    "- **Missing not at random(MNAR)**: Missing data depend on unmeasured or unknown variables. There is no information available to account for the missingness.\n",
    "\n",
    "The very best-case scenario for using complete case analysis, which corresponds to MCAR missingness, results in a loss of power due to the reduction in sample size. The analysis will lose the information contained in the non-missing elements of a partially-missing record. When data are not missing completely at random, inferences from complete case analysis may be biased due to systematic differences between missing and non-missing records that affects the estimates of key parameters.\n",
    "\n",
    "One alternative to complete case analysis is to simply fill (*impute*) the missing values with a reasonable guess a the true value, such as the mean, median or modal value of the fully-observed records. This imputation, while not recovering any information regarding the missing value itself for use in the analysis, does provide a mechanism for including the non-missing values in the analysis, thereby making use of all available information.\n",
    "\n",
    "Performing imputation via mean substitution is easy in Pandas, via the DataFrame/Series `fillna` method."
   ]
  },
  {
   "cell_type": "code",
   "execution_count": 38,
   "metadata": {
    "collapsed": false
   },
   "outputs": [
    {
     "data": {
      "text/plain": [
       "1.1256038647342994"
      ]
     },
     "execution_count": 38,
     "metadata": {},
     "output_type": "execute_result"
    }
   ],
   "source": [
    "test_scores.siblings.mean()"
   ]
  },
  {
   "cell_type": "code",
   "execution_count": 39,
   "metadata": {
    "collapsed": false
   },
   "outputs": [
    {
     "data": {
      "text/plain": [
       "0      2\n",
       "1      0\n",
       "2      1\n",
       "3      3\n",
       "5      0\n",
       "6      1\n",
       "7      2\n",
       "9      0\n",
       "10     0\n",
       "12     1\n",
       "13     0\n",
       "14     2\n",
       "16     2\n",
       "17     1\n",
       "18     1\n",
       "19     0\n",
       "21     1\n",
       "23     1\n",
       "25     1\n",
       "26     1\n",
       "27     1\n",
       "28     1\n",
       "29     1\n",
       "30     2\n",
       "31     1\n",
       "32     1\n",
       "33     2\n",
       "34     1\n",
       "35     0\n",
       "36     1\n",
       "      ..\n",
       "194    1\n",
       "195    1\n",
       "196    0\n",
       "198    1\n",
       "199    1\n",
       "200    1\n",
       "201    1\n",
       "202    3\n",
       "203    1\n",
       "204    1\n",
       "205    0\n",
       "206    3\n",
       "207    1\n",
       "208    1\n",
       "209    0\n",
       "210    0\n",
       "211    0\n",
       "212    1\n",
       "213    1\n",
       "214    2\n",
       "215    2\n",
       "216    1\n",
       "217    1\n",
       "218    2\n",
       "219    1\n",
       "220    2\n",
       "221    2\n",
       "222    1\n",
       "223    2\n",
       "224    2\n",
       "Name: siblings, dtype: float64"
      ]
     },
     "execution_count": 39,
     "metadata": {},
     "output_type": "execute_result"
    }
   ],
   "source": [
    "test_scores.siblings.fillna(test_scores.siblings.mean())"
   ]
  },
  {
   "cell_type": "markdown",
   "metadata": {},
   "source": [
    "This approach may be reasonable under the MCAR assumption, but may induce bias under a MAR scenario, whereby missing values may differ systematically relative to non-missing values, making the particular summary statistic used for imputation *biased* as a mean/median/modal value for the missing values.\n",
    "\n",
    "Beyond this, the use of a single imputed value to stand in place of the actual missing value glosses over the *uncertainty* associated with this guess at the true value. Any subsequent analysis procedure (*e.g.* regression analysis) will behave as if the imputed value were observed, despite the fact that we are actually unsure of the actual value for the missing variable. The practical consequence of this is that the variance of any estimates resulting from the imputed dataset will be artificially reduced.\n",
    "\n",
    "## Multiple Imputation\n",
    "\n",
    "One robust alternative to addressing missing data is **multiple imputation** (Schaffer 1999, van Buuren 2012). It produces unbiases parameter estimates, while simultaneously accounting for the uncertainty associated with imputing missing values. It is conceptually and mechanistically straightforward, and produces complete datasets that may be analyzed using any statistical methodology or software one chooses, as if the data had no missing values to begin with.\n",
    "\n",
    "Multiple imputation generates imputed values based on a regression model. This regression model will help us generate reasonable values, particularly if data are MAR, since it uses information in the dataset that may be informative in predicting what the true value may be. Ideally, we want predictor variables that are correlated with the missing variable, and with the mechanism of missingness, if any. For example, one might be able to use test scores from one subject to predict missing test scores from another; or, the probability of income reporting to be missing may vary systematically according to the education level of the individual."
   ]
  },
  {
   "cell_type": "markdown",
   "metadata": {},
   "source": [
    "To see if there is any potential information among the variables in our dataset to use for imputation, it is helpful to calculate the pairwise correlation between all the variables. Since we have discrete variables in our data, the [Spearman rank correlation coefficient](http://www.wikiwand.com/en/Spearman%27s_rank_correlation_coefficient) is appropriate."
   ]
  },
  {
   "cell_type": "code",
   "execution_count": 40,
   "metadata": {
    "collapsed": false
   },
   "outputs": [
    {
     "data": {
      "text/html": [
       "<div style=\"max-height:1000px;max-width:1500px;overflow:auto;\">\n",
       "<table border=\"1\" class=\"dataframe\">\n",
       "  <thead>\n",
       "    <tr style=\"text-align: right;\">\n",
       "      <th></th>\n",
       "      <th>score</th>\n",
       "      <th>male</th>\n",
       "      <th>siblings</th>\n",
       "      <th>family_inv</th>\n",
       "      <th>non_english</th>\n",
       "      <th>prev_disab</th>\n",
       "      <th>age_test</th>\n",
       "      <th>non_severe_hl</th>\n",
       "      <th>mother_hs</th>\n",
       "      <th>early_ident</th>\n",
       "      <th>non_white</th>\n",
       "    </tr>\n",
       "  </thead>\n",
       "  <tbody>\n",
       "    <tr>\n",
       "      <th>score</th>\n",
       "      <td>1.000000</td>\n",
       "      <td>0.073063</td>\n",
       "      <td>-0.085044</td>\n",
       "      <td>-0.539019</td>\n",
       "      <td>-0.278798</td>\n",
       "      <td>-0.184426</td>\n",
       "      <td>0.024057</td>\n",
       "      <td>0.140305</td>\n",
       "      <td>0.228500</td>\n",
       "      <td>0.222711</td>\n",
       "      <td>-0.345061</td>\n",
       "    </tr>\n",
       "    <tr>\n",
       "      <th>male</th>\n",
       "      <td>0.073063</td>\n",
       "      <td>1.000000</td>\n",
       "      <td>-0.072006</td>\n",
       "      <td>-0.008714</td>\n",
       "      <td>0.053338</td>\n",
       "      <td>-0.052054</td>\n",
       "      <td>-0.081165</td>\n",
       "      <td>0.031825</td>\n",
       "      <td>0.050372</td>\n",
       "      <td>-0.007690</td>\n",
       "      <td>-0.048638</td>\n",
       "    </tr>\n",
       "    <tr>\n",
       "      <th>siblings</th>\n",
       "      <td>-0.085044</td>\n",
       "      <td>-0.072006</td>\n",
       "      <td>1.000000</td>\n",
       "      <td>0.078471</td>\n",
       "      <td>-0.049989</td>\n",
       "      <td>-0.038020</td>\n",
       "      <td>0.104905</td>\n",
       "      <td>-0.003689</td>\n",
       "      <td>0.096268</td>\n",
       "      <td>0.077318</td>\n",
       "      <td>0.006234</td>\n",
       "    </tr>\n",
       "    <tr>\n",
       "      <th>family_inv</th>\n",
       "      <td>-0.539019</td>\n",
       "      <td>-0.008714</td>\n",
       "      <td>0.078471</td>\n",
       "      <td>1.000000</td>\n",
       "      <td>0.221696</td>\n",
       "      <td>0.082314</td>\n",
       "      <td>-0.029120</td>\n",
       "      <td>-0.092815</td>\n",
       "      <td>-0.358898</td>\n",
       "      <td>0.006370</td>\n",
       "      <td>0.401617</td>\n",
       "    </tr>\n",
       "    <tr>\n",
       "      <th>non_english</th>\n",
       "      <td>-0.278798</td>\n",
       "      <td>0.053338</td>\n",
       "      <td>-0.049989</td>\n",
       "      <td>0.221696</td>\n",
       "      <td>1.000000</td>\n",
       "      <td>-0.021996</td>\n",
       "      <td>0.068095</td>\n",
       "      <td>-0.047775</td>\n",
       "      <td>-0.199639</td>\n",
       "      <td>-0.015812</td>\n",
       "      <td>0.225428</td>\n",
       "    </tr>\n",
       "    <tr>\n",
       "      <th>prev_disab</th>\n",
       "      <td>-0.184426</td>\n",
       "      <td>-0.052054</td>\n",
       "      <td>-0.038020</td>\n",
       "      <td>0.082314</td>\n",
       "      <td>-0.021996</td>\n",
       "      <td>1.000000</td>\n",
       "      <td>0.136604</td>\n",
       "      <td>0.048132</td>\n",
       "      <td>0.137893</td>\n",
       "      <td>0.046592</td>\n",
       "      <td>-0.021367</td>\n",
       "    </tr>\n",
       "    <tr>\n",
       "      <th>age_test</th>\n",
       "      <td>0.024057</td>\n",
       "      <td>-0.081165</td>\n",
       "      <td>0.104905</td>\n",
       "      <td>-0.029120</td>\n",
       "      <td>0.068095</td>\n",
       "      <td>0.136604</td>\n",
       "      <td>1.000000</td>\n",
       "      <td>-0.122811</td>\n",
       "      <td>0.016760</td>\n",
       "      <td>0.033789</td>\n",
       "      <td>0.068430</td>\n",
       "    </tr>\n",
       "    <tr>\n",
       "      <th>non_severe_hl</th>\n",
       "      <td>0.140305</td>\n",
       "      <td>0.031825</td>\n",
       "      <td>-0.003689</td>\n",
       "      <td>-0.092815</td>\n",
       "      <td>-0.047775</td>\n",
       "      <td>0.048132</td>\n",
       "      <td>-0.122811</td>\n",
       "      <td>1.000000</td>\n",
       "      <td>-0.015996</td>\n",
       "      <td>0.008211</td>\n",
       "      <td>0.028480</td>\n",
       "    </tr>\n",
       "    <tr>\n",
       "      <th>mother_hs</th>\n",
       "      <td>0.228500</td>\n",
       "      <td>0.050372</td>\n",
       "      <td>0.096268</td>\n",
       "      <td>-0.358898</td>\n",
       "      <td>-0.199639</td>\n",
       "      <td>0.137893</td>\n",
       "      <td>0.016760</td>\n",
       "      <td>-0.015996</td>\n",
       "      <td>1.000000</td>\n",
       "      <td>0.024411</td>\n",
       "      <td>-0.214209</td>\n",
       "    </tr>\n",
       "    <tr>\n",
       "      <th>early_ident</th>\n",
       "      <td>0.222711</td>\n",
       "      <td>-0.007690</td>\n",
       "      <td>0.077318</td>\n",
       "      <td>0.006370</td>\n",
       "      <td>-0.015812</td>\n",
       "      <td>0.046592</td>\n",
       "      <td>0.033789</td>\n",
       "      <td>0.008211</td>\n",
       "      <td>0.024411</td>\n",
       "      <td>1.000000</td>\n",
       "      <td>-0.022854</td>\n",
       "    </tr>\n",
       "    <tr>\n",
       "      <th>non_white</th>\n",
       "      <td>-0.345061</td>\n",
       "      <td>-0.048638</td>\n",
       "      <td>0.006234</td>\n",
       "      <td>0.401617</td>\n",
       "      <td>0.225428</td>\n",
       "      <td>-0.021367</td>\n",
       "      <td>0.068430</td>\n",
       "      <td>0.028480</td>\n",
       "      <td>-0.214209</td>\n",
       "      <td>-0.022854</td>\n",
       "      <td>1.000000</td>\n",
       "    </tr>\n",
       "  </tbody>\n",
       "</table>\n",
       "</div>"
      ],
      "text/plain": [
       "                  score      male  siblings  family_inv  non_english  \\\n",
       "score          1.000000  0.073063 -0.085044   -0.539019    -0.278798   \n",
       "male           0.073063  1.000000 -0.072006   -0.008714     0.053338   \n",
       "siblings      -0.085044 -0.072006  1.000000    0.078471    -0.049989   \n",
       "family_inv    -0.539019 -0.008714  0.078471    1.000000     0.221696   \n",
       "non_english   -0.278798  0.053338 -0.049989    0.221696     1.000000   \n",
       "prev_disab    -0.184426 -0.052054 -0.038020    0.082314    -0.021996   \n",
       "age_test       0.024057 -0.081165  0.104905   -0.029120     0.068095   \n",
       "non_severe_hl  0.140305  0.031825 -0.003689   -0.092815    -0.047775   \n",
       "mother_hs      0.228500  0.050372  0.096268   -0.358898    -0.199639   \n",
       "early_ident    0.222711 -0.007690  0.077318    0.006370    -0.015812   \n",
       "non_white     -0.345061 -0.048638  0.006234    0.401617     0.225428   \n",
       "\n",
       "               prev_disab  age_test  non_severe_hl  mother_hs  early_ident  \\\n",
       "score           -0.184426  0.024057       0.140305   0.228500     0.222711   \n",
       "male            -0.052054 -0.081165       0.031825   0.050372    -0.007690   \n",
       "siblings        -0.038020  0.104905      -0.003689   0.096268     0.077318   \n",
       "family_inv       0.082314 -0.029120      -0.092815  -0.358898     0.006370   \n",
       "non_english     -0.021996  0.068095      -0.047775  -0.199639    -0.015812   \n",
       "prev_disab       1.000000  0.136604       0.048132   0.137893     0.046592   \n",
       "age_test         0.136604  1.000000      -0.122811   0.016760     0.033789   \n",
       "non_severe_hl    0.048132 -0.122811       1.000000  -0.015996     0.008211   \n",
       "mother_hs        0.137893  0.016760      -0.015996   1.000000     0.024411   \n",
       "early_ident      0.046592  0.033789       0.008211   0.024411     1.000000   \n",
       "non_white       -0.021367  0.068430       0.028480  -0.214209    -0.022854   \n",
       "\n",
       "               non_white  \n",
       "score          -0.345061  \n",
       "male           -0.048638  \n",
       "siblings        0.006234  \n",
       "family_inv      0.401617  \n",
       "non_english     0.225428  \n",
       "prev_disab     -0.021367  \n",
       "age_test        0.068430  \n",
       "non_severe_hl   0.028480  \n",
       "mother_hs      -0.214209  \n",
       "early_ident    -0.022854  \n",
       "non_white       1.000000  "
      ]
     },
     "execution_count": 40,
     "metadata": {},
     "output_type": "execute_result"
    }
   ],
   "source": [
    "test_scores.dropna().corr(method='spearman')"
   ]
  },
  {
   "cell_type": "markdown",
   "metadata": {},
   "source": [
    "We will try to impute missing values the mother's high school education indicator variable, which takes values of 0 for no high school diploma, or 1 for high school diploma or greater. The appropriate model to predict binary variables is a **logistic regression**. We will use the scikit-learn implementation, `LogisticRegression`."
   ]
  },
  {
   "cell_type": "code",
   "execution_count": 41,
   "metadata": {
    "collapsed": true
   },
   "outputs": [],
   "source": [
    "from sklearn.linear_model import LogisticRegression\n",
    "from sklearn.preprocessing import StandardScaler"
   ]
  },
  {
   "cell_type": "markdown",
   "metadata": {},
   "source": [
    "To keep things simple, we will only use variables that are themselves complete to build the predictive model, hence our subset of predictors will exclude family involvement score (`family_inv`) and previous disability (`prev_disab`)."
   ]
  },
  {
   "cell_type": "code",
   "execution_count": 42,
   "metadata": {
    "collapsed": false
   },
   "outputs": [],
   "source": [
    "impute_subset = test_scores.drop(labels=['family_inv','prev_disab','score'], axis=1)"
   ]
  },
  {
   "cell_type": "markdown",
   "metadata": {},
   "source": [
    "Next, we scale the predictor variables to range from 0 to 1, to improve the performance of the regression model."
   ]
  },
  {
   "cell_type": "code",
   "execution_count": 43,
   "metadata": {
    "collapsed": false
   },
   "outputs": [],
   "source": [
    "y = impute_subset.pop('mother_hs').values\n",
    "X = StandardScaler().fit_transform(impute_subset.astype(float))"
   ]
  },
  {
   "cell_type": "markdown",
   "metadata": {},
   "source": [
    "The *training* and *test* sets in this case will be the non-missing and missing values, respectively, since we want to use supervised learning to build our predictive model."
   ]
  },
  {
   "cell_type": "code",
   "execution_count": 44,
   "metadata": {
    "collapsed": false
   },
   "outputs": [],
   "source": [
    "missing = np.isnan(y)"
   ]
  },
  {
   "cell_type": "markdown",
   "metadata": {},
   "source": [
    "Next, we create a `LogisticRegression` model, and fit it using the non-missing observations."
   ]
  },
  {
   "cell_type": "code",
   "execution_count": 45,
   "metadata": {
    "collapsed": false
   },
   "outputs": [
    {
     "data": {
      "text/plain": [
       "LogisticRegression(C=1.0, class_weight=None, dual=False, fit_intercept=True,\n",
       "          intercept_scaling=1, max_iter=100, multi_class='ovr',\n",
       "          penalty='l2', random_state=None, solver='liblinear', tol=0.0001,\n",
       "          verbose=0)"
      ]
     },
     "execution_count": 45,
     "metadata": {},
     "output_type": "execute_result"
    }
   ],
   "source": [
    "mod = LogisticRegression()\n",
    "mod.fit(X[~missing], y[~missing])"
   ]
  },
  {
   "cell_type": "markdown",
   "metadata": {
    "collapsed": false
   },
   "source": [
    "Conveniently, scikit-learn models have `predict` methods for generating predictions from the model, using new data. Here, we will pass the predictor values for the subset with `mother_hs` missing."
   ]
  },
  {
   "cell_type": "code",
   "execution_count": 46,
   "metadata": {
    "collapsed": false
   },
   "outputs": [
    {
     "data": {
      "text/plain": [
       "array([ 1.,  0.,  1.,  1.,  0.,  1.,  1.,  0.,  1.,  1.,  1.,  1.,  1.,\n",
       "        1.,  1.,  0.,  1.,  0.,  1.,  1.,  1.,  1.,  1.,  1.,  0.,  1.,\n",
       "        0.,  1.,  1.,  1.,  1.,  1.,  0.,  1.,  0.,  1.,  1.,  1.,  1.,\n",
       "        1.,  0.,  1.,  1.,  1.,  1.,  1.,  1.,  1.,  1.,  1.,  0.,  1.,\n",
       "        1.,  1.,  1.,  1.,  1.,  0.,  1.,  1.,  1.,  1.,  1.,  1.,  1.,\n",
       "        1.,  1.,  1.,  0.,  1.,  1.,  1.,  1.])"
      ]
     },
     "execution_count": 46,
     "metadata": {},
     "output_type": "execute_result"
    }
   ],
   "source": [
    "mother_hs_pred = mod.predict(X[missing])\n",
    "mother_hs_pred"
   ]
  },
  {
   "cell_type": "markdown",
   "metadata": {},
   "source": [
    "These values can then be inserted in place of the missing values, and an analysis can be performed on the entire dataset.\n",
    "\n",
    "However, this is still just a single imputation for each missing value, and hence glosses over the uncertainty associated with the derivation of the imputes. Multiple imputation proceeds by imputing several values, to generate several complete datasets and performing the same analysis on all of them. With a set of estimates in hand, an *average* estimate can be obtained that more adequately accounts for the uncertainty, hopefully providing more robust inference than from a single impute.\n",
    "\n",
    "There are a variety of ways to generate multiple imputations. We will exploit regularization in order to do this. The `LogisticRegression` class from scikit-learn provides facilities for regularization using either L2 (resulting in ridge regression) or L1 (resulting in LASSO regression) penalties. The degree of regularization in either case is controlled by the `C` parameter, whereby large values of `C` give more freedom to the model, while smaller values of C constrain the model more. We can use a selection of `C` values to obtain a range of predictions from variants of the same model. For example:"
   ]
  },
  {
   "cell_type": "code",
   "execution_count": 47,
   "metadata": {
    "collapsed": false
   },
   "outputs": [
    {
     "data": {
      "text/plain": [
       "array([ 1.,  0.,  1.,  1.,  0.,  1.,  1.,  0.,  1.,  1.,  1.,  1.,  1.,\n",
       "        1.,  1.,  0.,  1.,  0.,  1.,  1.,  1.,  1.,  1.,  1.,  0.,  1.,\n",
       "        0.,  1.,  1.,  1.,  1.,  1.,  0.,  1.,  0.,  0.,  1.,  1.,  1.,\n",
       "        1.,  0.,  1.,  1.,  1.,  1.,  1.,  1.,  1.,  1.,  1.,  0.,  1.,\n",
       "        1.,  1.,  1.,  1.,  1.,  0.,  1.,  1.,  1.,  1.,  1.,  1.,  1.,\n",
       "        1.,  1.,  1.,  0.,  1.,  1.,  1.,  1.])"
      ]
     },
     "execution_count": 47,
     "metadata": {},
     "output_type": "execute_result"
    }
   ],
   "source": [
    "mod2 = LogisticRegression(C=1, penalty='l1')\n",
    "mod2.fit(X[~missing], y[~missing])\n",
    "mod2.predict(X[missing])"
   ]
  },
  {
   "cell_type": "code",
   "execution_count": 55,
   "metadata": {
    "collapsed": false
   },
   "outputs": [
    {
     "data": {
      "text/plain": [
       "array([ 1.,  1.,  1.,  1.,  0.,  1.,  1.,  1.,  1.,  1.,  1.,  1.,  1.,\n",
       "        1.,  1.,  1.,  1.,  0.,  1.,  1.,  1.,  1.,  1.,  1.,  0.,  1.,\n",
       "        0.,  1.,  1.,  1.,  1.,  1.,  1.,  1.,  1.,  0.,  1.,  1.,  1.,\n",
       "        1.,  0.,  1.,  1.,  1.,  1.,  1.,  1.,  1.,  1.,  1.,  0.,  1.,\n",
       "        1.,  1.,  1.,  1.,  1.,  0.,  1.,  1.,  1.,  1.,  1.,  1.,  1.,\n",
       "        1.,  1.,  1.,  1.,  1.,  1.,  1.,  1.])"
      ]
     },
     "execution_count": 55,
     "metadata": {},
     "output_type": "execute_result"
    }
   ],
   "source": [
    "mod2 = LogisticRegression(C=0.4, penalty='l1')\n",
    "mod2.fit(X[~missing], y[~missing])\n",
    "mod2.predict(X[missing])"
   ]
  },
  {
   "cell_type": "markdown",
   "metadata": {},
   "source": [
    "Surprisingly few imputations are required to acheive reasonable estimates, with 3-10 usually sufficient. We will use 3."
   ]
  },
  {
   "cell_type": "code",
   "execution_count": 56,
   "metadata": {
    "collapsed": true
   },
   "outputs": [],
   "source": [
    "mother_hs_imp = []\n",
    "\n",
    "for C in 0.1, 0.4, 2:\n",
    "    \n",
    "    mod = LogisticRegression(C=C, penalty='l1')\n",
    "    mod.fit(X[~missing], y[~missing])\n",
    "    imputed = mod.predict(X[missing])\n",
    "    mother_hs_imp.append(imputed)"
   ]
  },
  {
   "cell_type": "code",
   "execution_count": 57,
   "metadata": {
    "collapsed": false
   },
   "outputs": [
    {
     "data": {
      "text/plain": [
       "[array([ 1.,  1.,  1.,  1.,  1.,  1.,  1.,  1.,  1.,  1.,  1.,  1.,  1.,\n",
       "         1.,  1.,  1.,  1.,  1.,  1.,  1.,  1.,  1.,  1.,  1.,  1.,  1.,\n",
       "         1.,  1.,  1.,  1.,  1.,  1.,  1.,  1.,  1.,  1.,  1.,  1.,  1.,\n",
       "         1.,  1.,  1.,  1.,  1.,  1.,  1.,  1.,  1.,  1.,  1.,  1.,  1.,\n",
       "         1.,  1.,  1.,  1.,  1.,  1.,  1.,  1.,  1.,  1.,  1.,  1.,  1.,\n",
       "         1.,  1.,  1.,  1.,  1.,  1.,  1.,  1.]),\n",
       " array([ 1.,  1.,  1.,  1.,  0.,  1.,  1.,  1.,  1.,  1.,  1.,  1.,  1.,\n",
       "         1.,  1.,  1.,  1.,  0.,  1.,  1.,  1.,  1.,  1.,  1.,  0.,  1.,\n",
       "         0.,  1.,  1.,  1.,  1.,  1.,  1.,  1.,  1.,  0.,  1.,  1.,  1.,\n",
       "         1.,  0.,  1.,  1.,  1.,  1.,  1.,  1.,  1.,  1.,  1.,  0.,  1.,\n",
       "         1.,  1.,  1.,  1.,  1.,  0.,  1.,  1.,  1.,  1.,  1.,  1.,  1.,\n",
       "         1.,  1.,  1.,  1.,  1.,  1.,  1.,  1.]),\n",
       " array([ 1.,  0.,  1.,  1.,  0.,  1.,  1.,  0.,  1.,  1.,  1.,  1.,  1.,\n",
       "         1.,  1.,  0.,  1.,  0.,  1.,  1.,  1.,  1.,  1.,  1.,  0.,  1.,\n",
       "         0.,  1.,  1.,  1.,  1.,  1.,  0.,  1.,  0.,  1.,  1.,  1.,  1.,\n",
       "         1.,  0.,  1.,  1.,  1.,  1.,  1.,  1.,  1.,  1.,  1.,  0.,  1.,\n",
       "         1.,  1.,  1.,  1.,  1.,  0.,  1.,  1.,  1.,  1.,  1.,  1.,  1.,\n",
       "         1.,  1.,  1.,  0.,  1.,  1.,  1.,  1.])]"
      ]
     },
     "execution_count": 57,
     "metadata": {},
     "output_type": "execute_result"
    }
   ],
   "source": [
    "mother_hs_imp"
   ]
  },
  {
   "cell_type": "markdown",
   "metadata": {},
   "source": [
    "Now we can perform 3 separate analyses, using the method of our choice, each based upon a different set of imputed values. \n",
    "\n",
    "We will "
   ]
  },
  {
   "cell_type": "code",
   "execution_count": 62,
   "metadata": {
    "collapsed": false
   },
   "outputs": [],
   "source": [
    "from sklearn import linear_model\n",
    "\n",
    "coefficients = []\n",
    "\n",
    "for imputes in mother_hs_imp:\n",
    "    \n",
    "    regr = linear_model.LinearRegression()\n",
    "    \n",
    "    X = test_scores.drop(labels=['family_inv','prev_disab'], axis=1)\n",
    "    X.loc[missing, 'mother_hs'] = imputes\n",
    "    y = X.pop('score')\n",
    "    regr.fit(X, y)\n",
    "    coefficients.append(regr.coef_)"
   ]
  },
  {
   "cell_type": "code",
   "execution_count": 64,
   "metadata": {
    "collapsed": false
   },
   "outputs": [
    {
     "data": {
      "text/html": [
       "<div style=\"max-height:1000px;max-width:1500px;overflow:auto;\">\n",
       "<table border=\"1\" class=\"dataframe\">\n",
       "  <thead>\n",
       "    <tr style=\"text-align: right;\">\n",
       "      <th></th>\n",
       "      <th>male</th>\n",
       "      <th>siblings</th>\n",
       "      <th>non_english</th>\n",
       "      <th>age_test</th>\n",
       "      <th>non_severe_hl</th>\n",
       "      <th>mother_hs</th>\n",
       "      <th>early_ident</th>\n",
       "      <th>non_white</th>\n",
       "    </tr>\n",
       "  </thead>\n",
       "  <tbody>\n",
       "    <tr>\n",
       "      <th>0</th>\n",
       "      <td>-1.067003</td>\n",
       "      <td>-2.357046</td>\n",
       "      <td>-11.595782</td>\n",
       "      <td>0.464223</td>\n",
       "      <td>5.378508</td>\n",
       "      <td>6.760373</td>\n",
       "      <td>7.626037</td>\n",
       "      <td>-9.052654</td>\n",
       "    </tr>\n",
       "    <tr>\n",
       "      <th>1</th>\n",
       "      <td>-1.481119</td>\n",
       "      <td>-2.738123</td>\n",
       "      <td>-9.672844</td>\n",
       "      <td>0.378593</td>\n",
       "      <td>5.513913</td>\n",
       "      <td>10.464116</td>\n",
       "      <td>7.822660</td>\n",
       "      <td>-8.541135</td>\n",
       "    </tr>\n",
       "    <tr>\n",
       "      <th>2</th>\n",
       "      <td>-1.747683</td>\n",
       "      <td>-2.671041</td>\n",
       "      <td>-8.653736</td>\n",
       "      <td>0.389529</td>\n",
       "      <td>5.527252</td>\n",
       "      <td>9.953979</td>\n",
       "      <td>7.636700</td>\n",
       "      <td>-8.405001</td>\n",
       "    </tr>\n",
       "  </tbody>\n",
       "</table>\n",
       "</div>"
      ],
      "text/plain": [
       "       male  siblings  non_english  age_test  non_severe_hl  mother_hs  \\\n",
       "0 -1.067003 -2.357046   -11.595782  0.464223       5.378508   6.760373   \n",
       "1 -1.481119 -2.738123    -9.672844  0.378593       5.513913  10.464116   \n",
       "2 -1.747683 -2.671041    -8.653736  0.389529       5.527252   9.953979   \n",
       "\n",
       "   early_ident  non_white  \n",
       "0     7.626037  -9.052654  \n",
       "1     7.822660  -8.541135  \n",
       "2     7.636700  -8.405001  "
      ]
     },
     "execution_count": 64,
     "metadata": {},
     "output_type": "execute_result"
    }
   ],
   "source": [
    "coeff_labels = ['male',\n",
    "                'siblings',\n",
    "                'non_english',\n",
    "                'age_test',\n",
    "                'non_severe_hl',\n",
    "                'mother_hs',\n",
    "                'early_ident',\n",
    "                'non_white']\n",
    "\n",
    "coef_df = pd.DataFrame(coefficients, columns=coeff_labels)\n",
    "coef_df"
   ]
  },
  {
   "cell_type": "code",
   "execution_count": 66,
   "metadata": {
    "collapsed": false
   },
   "outputs": [
    {
     "data": {
      "text/plain": [
       "male            -1.431935\n",
       "siblings        -2.588737\n",
       "non_english     -9.974121\n",
       "age_test         0.410782\n",
       "non_severe_hl    5.473224\n",
       "mother_hs        9.059489\n",
       "early_ident      7.695133\n",
       "non_white       -8.666263\n",
       "dtype: float64"
      ]
     },
     "execution_count": 66,
     "metadata": {},
     "output_type": "execute_result"
    }
   ],
   "source": [
    "coef_df.mean()"
   ]
  },
  {
   "cell_type": "code",
   "execution_count": 72,
   "metadata": {
    "collapsed": false
   },
   "outputs": [
    {
     "data": {
      "text/plain": [
       "male              1.572293\n",
       "siblings         -3.388291\n",
       "non_english      -8.025037\n",
       "age_test          0.506523\n",
       "non_severe_hl     5.772677\n",
       "mother_hs        10.666549\n",
       "early_ident       9.942757\n",
       "non_white        -9.111430\n",
       "dtype: float64"
      ]
     },
     "execution_count": 72,
     "metadata": {},
     "output_type": "execute_result"
    }
   ],
   "source": [
    "regr_complete = linear_model.LinearRegression()\n",
    "X_complete = test_scores.drop(labels=['family_inv','prev_disab'], axis=1).dropna()\n",
    "y_complete = X_complete.pop('score')\n",
    "regr_complete.fit(X_complete, y_complete)\n",
    "pd.Series(regr_complete.coef_, index=coeff_labels)"
   ]
  },
  {
   "cell_type": "code",
   "execution_count": 74,
   "metadata": {
    "collapsed": false
   },
   "outputs": [
    {
     "data": {
      "text/plain": [
       "male             -1.068601\n",
       "siblings         -2.297816\n",
       "non_english     -10.857035\n",
       "age_test          0.454713\n",
       "non_severe_hl     5.302381\n",
       "mother_hs        10.367914\n",
       "early_ident       7.725014\n",
       "non_white        -8.774047\n",
       "dtype: float64"
      ]
     },
     "execution_count": 74,
     "metadata": {},
     "output_type": "execute_result"
    }
   ],
   "source": [
    "regr_mean = linear_model.LinearRegression()\n",
    "X_mean = test_scores.drop(labels=['family_inv','prev_disab'], axis=1)\n",
    "X_mean = X_mean.fillna(X_mean.mean())\n",
    "y_mean = X_mean.pop('score')\n",
    "regr_mean.fit(X_mean, y_mean)\n",
    "pd.Series(regr_mean.coef_, index=coeff_labels)"
   ]
  },
  {
   "cell_type": "markdown",
   "metadata": {},
   "source": [
    "---"
   ]
  },
  {
   "cell_type": "code",
   "execution_count": 1,
   "metadata": {
    "collapsed": false
   },
   "outputs": [
    {
     "data": {
      "text/html": [
       "<style>\n",
       "    @font-face {\n",
       "        font-family: \"Computer Modern\";\n",
       "        src: url('http://mirrors.ctan.org/fonts/cm-unicode/fonts/otf/cmunss.otf');\n",
       "    }\n",
       "    div.cell{\n",
       "        width: 90%;\n",
       "/*        margin-left:auto;*/\n",
       "/*        margin-right:auto;*/\n",
       "    }\n",
       "    ul {\n",
       "        line-height: 145%;\n",
       "        font-size: 90%;\n",
       "    }\n",
       "    li {\n",
       "        margin-bottom: 1em;\n",
       "    }\n",
       "    h1 {\n",
       "        font-family: Helvetica, serif;\n",
       "    }\n",
       "    h4{\n",
       "        margin-top: 12px;\n",
       "        margin-bottom: 3px;\n",
       "       }\n",
       "    div.text_cell_render{\n",
       "        font-family: Computer Modern, \"Helvetica Neue\", Arial, Helvetica, Geneva, sans-serif;\n",
       "        line-height: 145%;\n",
       "        font-size: 130%;\n",
       "        width: 90%;\n",
       "        margin-left:auto;\n",
       "        margin-right:auto;\n",
       "    }\n",
       "    .CodeMirror{\n",
       "            font-family: \"Source Code Pro\", source-code-pro,Consolas, monospace;\n",
       "    }\n",
       "/*    .prompt{\n",
       "        display: None;\n",
       "    }*/\n",
       "    .text_cell_render h5 {\n",
       "        font-weight: 300;\n",
       "        font-size: 16pt;\n",
       "        color: #4057A1;\n",
       "        font-style: italic;\n",
       "        margin-bottom: 0.5em;\n",
       "        margin-top: 0.5em;\n",
       "        display: block;\n",
       "    }\n",
       "\n",
       "    .warning{\n",
       "        color: rgb( 240, 20, 20 )\n",
       "        }\n",
       "</style>\n",
       "<script>\n",
       "    MathJax.Hub.Config({\n",
       "                        TeX: {\n",
       "                           extensions: [\"AMSmath.js\"]\n",
       "                           },\n",
       "                tex2jax: {\n",
       "                    inlineMath: [ ['$','$'], [\"\\\\(\",\"\\\\)\"] ],\n",
       "                    displayMath: [ ['$$','$$'], [\"\\\\[\",\"\\\\]\"] ]\n",
       "                },\n",
       "                displayAlign: 'center', // Change this to 'center' to center equations.\n",
       "                \"HTML-CSS\": {\n",
       "                    styles: {'.MathJax_Display': {\"margin\": 4}}\n",
       "                }\n",
       "        });\n",
       "</script>"
      ],
      "text/plain": [
       "<IPython.core.display.HTML object>"
      ]
     },
     "execution_count": 1,
     "metadata": {},
     "output_type": "execute_result"
    }
   ],
   "source": [
    "from IPython.core.display import HTML\n",
    "def css_styling():\n",
    "    styles = open(\"styles/custom.css\", \"r\").read()\n",
    "    return HTML(styles)\n",
    "css_styling()"
   ]
  }
 ],
 "metadata": {
  "kernelspec": {
   "display_name": "Python 3",
   "language": "python",
   "name": "python3"
  },
  "language_info": {
   "codemirror_mode": {
    "name": "ipython",
    "version": 3
   },
   "file_extension": ".py",
   "mimetype": "text/x-python",
   "name": "python",
   "nbconvert_exporter": "python",
   "pygments_lexer": "ipython3",
   "version": "3.4.2"
  }
 },
 "nbformat": 4,
 "nbformat_minor": 0
}
