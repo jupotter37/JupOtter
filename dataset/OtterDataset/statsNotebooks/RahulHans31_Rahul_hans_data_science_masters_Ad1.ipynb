{
 "cells": [
  {
   "cell_type": "markdown",
   "id": "4ade81de",
   "metadata": {},
   "source": [
    "Q1. What is the Probability density function?"
   ]
  },
  {
   "cell_type": "markdown",
   "id": "325a6267",
   "metadata": {},
   "source": [
    "\n",
    "The Probability Density Function (PDF) is a statistical concept used in probability theory and statistics to describe the likelihood of a continuous random variable taking on a specific value. For a continuous random variable X, the PDF is denoted as \n",
    "f(x), and it represents the rate at which the probability of X changes with respect to the variable \n",
    "x."
   ]
  },
  {
   "cell_type": "markdown",
   "id": "88493a07",
   "metadata": {},
   "source": [
    "Q2. What are the types of Probability distribution?"
   ]
  },
  {
   "cell_type": "markdown",
   "id": "5bc17177",
   "metadata": {},
   "source": [
    "There are several types of probability distributions, and they can be broadly categorized into two main types: discrete probability distributions and continuous probability distributions.\n",
    "\n",
    "1. **Discrete Probability Distributions:**\n",
    "   - **Bernoulli Distribution:** Models a random experiment with only two possible outcomes (success or failure).\n",
    "   - **Binomial Distribution:** Describes the number of successes in a fixed number of independent Bernoulli trials.\n",
    "   - **Poisson Distribution:** Models the number of events that occur within a fixed interval of time or space.\n",
    "\n",
    "2. **Continuous Probability Distributions:**\n",
    "   - **Normal Distribution (Gaussian Distribution):** Characterized by a symmetric bell-shaped curve and is widely used in statistics.\n",
    "   - **Uniform Distribution:** All values within a given interval are equally likely.\n",
    "   - **Exponential Distribution:** Models the time until a specific event occurs, often used in reliability and survival analysis.\n",
    "   - **Gamma Distribution:** Generalizes the exponential distribution and is used for modeling waiting times.\n",
    "   - **Beta Distribution:** Often used as a distribution for probabilities in Bayesian statistics.\n",
    "   - **Cauchy Distribution:** Has heavy tails and no defined mean or variance, commonly used in physics.\n",
    "\n",
    "These are some of the most common probability distributions, and each has its own characteristics and applications in various fields of science, engineering, and statistics. The choice of distribution depends on the nature of the random variable being modeled and the characteristics of the data."
   ]
  },
  {
   "cell_type": "markdown",
   "id": "83652f80",
   "metadata": {},
   "source": [
    "Q3. Write a Python function to calculate the probability density function of a normal distribution with\n",
    "given mean and standard deviation at a given point."
   ]
  },
  {
   "cell_type": "code",
   "execution_count": 7,
   "id": "95f6d9da",
   "metadata": {},
   "outputs": [
    {
     "name": "stdout",
     "output_type": "stream",
     "text": [
      " the value at 1.5 is 0.12951759566589174\n"
     ]
    }
   ],
   "source": [
    "from scipy.stats import norm\n",
    "# Example usage:\n",
    "mean_value = 0\n",
    "std_dev_value = 1\n",
    "point = 1.5\n",
    "pdf_value = norm.pdf(point, loc=mean_value, scale=std_dev_value)\n",
    "print(f\" the value at {point} is {pdf_value}\")"
   ]
  },
  {
   "cell_type": "markdown",
   "id": "8c1b4d38",
   "metadata": {},
   "source": [
    "Q4. What are the properties of Binomial distribution? Give two examples of events where binomial\n",
    "distribution can be applied."
   ]
  },
  {
   "cell_type": "markdown",
   "id": "00a82538",
   "metadata": {},
   "source": [
    "Fixed Number of Trials: The number of trials (denoted as \n",
    "n) is fixed in a binomial distribution.\n",
    "\n",
    "Independence: Each trial is independent of the others, meaning the outcome of one trial does not affect the outcome of another.\n",
    "\n",
    "Constant Probability of Success: The probability of success (denoted as \n",
    "p) is constant for each trial.\n",
    "\n",
    "Two Possible Outcomes: Each trial results in one of two mutually exclusive outcomes: success or failure.\n",
    "\n",
    "Notation: If \n",
    "\n",
    "X follows a binomial distribution with parameters \n",
    "\n",
    "n (number of trials) and \n",
    "\n",
    "p (probability of success), it is denoted as \n",
    "X∼Bin(n,p).\n",
    "\n",
    "Coin Flips:\n",
    "\n",
    "Scenario: Suppose you flip a fair coin (where the probability of getting heads, \n",
    "\n",
    "p, is 0.5) five times.\n",
    "\n",
    "Quality Control:\n",
    "\n",
    "Scenario: In a manufacturing process, each item produced may be defective with a certain probability. Suppose you are inspecting 10 randomly selected items."
   ]
  },
  {
   "cell_type": "markdown",
   "id": "833bfd0c",
   "metadata": {},
   "source": [
    "Q5. Generate a random sample of size 1000 from a binomial distribution with probability of success 0.4\n",
    "and plot a histogram of the results using matplotlib."
   ]
  },
  {
   "cell_type": "code",
   "execution_count": 9,
   "id": "61e67824",
   "metadata": {},
   "outputs": [
    {
     "data": {
      "image/png": "[encoded data removed]",
      "text/plain": [
       "<Figure size 432x288 with 1 Axes>"
      ]
     },
     "metadata": {
      "needs_background": "light"
     },
     "output_type": "display_data"
    }
   ],
   "source": [
    "import numpy as np\n",
    "import matplotlib.pyplot as plt\n",
    "np.random.seed(42)\n",
    "sample_size = 1000\n",
    "probability_of_success = 0.4\n",
    "random_sample = np.random.binomial(n=1, p=probability_of_success, size=sample_size)\n",
    "plt.hist(random_sample, bins=[-0.5, 0.5, 1.5], edgecolor='black')  \n",
    "plt.title('Binomial Distribution Random Sample')\n",
    "plt.xlabel('Outcome (0: Failure, 1: Success)')\n",
    "plt.ylabel('Frequency')\n",
    "plt.show()\n"
   ]
  },
  {
   "cell_type": "markdown",
   "id": "d28d73b4",
   "metadata": {},
   "source": [
    "Q6. Write a Python function to calculate the cumulative distribution function of a Poisson distribution\n",
    "with given mean at a given point."
   ]
  },
  {
   "cell_type": "code",
   "execution_count": 14,
   "id": "d9255342",
   "metadata": {},
   "outputs": [
    {
     "name": "stdout",
     "output_type": "stream",
     "text": [
      "The CDF value at 3 in a Poisson distribution with mean 2.5 is: 0.7575761331330659\n"
     ]
    }
   ],
   "source": [
    "from math import exp, factorial\n",
    "\n",
    "def poisson_cdf(mean, k):\n",
    "    cdf_value = 0\n",
    "    for i in range(k + 1):\n",
    "        cdf_value += (exp(-mean) * (mean ** i)) / factorial(i)\n",
    "    return cdf_value\n",
    "\n",
    "# Example usage:\n",
    "mean_value = 2.5\n",
    "point = 3\n",
    "\n",
    "result = poisson_cdf(mean_value, point)\n",
    "print(f\"The CDF value at {point} in a Poisson distribution with mean {mean_value} is: {result}\")\n"
   ]
  },
  {
   "cell_type": "markdown",
   "id": "4b9821fc",
   "metadata": {},
   "source": [
    "Q7. How Binomial distribution different from Poisson distribution?"
   ]
  },
  {
   "cell_type": "markdown",
   "id": "2fc4bc60",
   "metadata": {},
   "source": [
    "The Binomial distribution and Poisson distribution are both probability distributions used to model the number of successes in a series of independent trials. However, there are key differences between them:\n",
    "\n",
    "1. **Number of Trials:**\n",
    "   - **Binomial Distribution:** It is used to model the number of successes in a fixed number (\\(n\\)) of independent and identical trials.\n",
    "   - **Poisson Distribution:** It models the number of events that occur in a fixed interval of time or space, where the average rate of occurrence (\\(\\lambda\\)) is known, but the number of trials is not specified.\n",
    "\n",
    "2. **Nature of Events:**\n",
    "   - **Binomial Distribution:** Deals with discrete events, where each trial can result in one of two outcomes (success or failure).\n",
    "   - **Poisson Distribution:** Models the number of occurrences of rare events in a continuous spectrum, such as the number of phone calls received in a call center in a given minute.\n",
    "\n",
    "3. **Parameters:**\n",
    "   - **Binomial Distribution:** It requires two parameters - the number of trials (\\(n\\)) and the probability of success in each trial (\\(p\\)).\n",
    "   - **Poisson Distribution:** It requires one parameter - the average rate of occurrence (\\(\\lambda\\)).\n",
    "\n",
    "4. **Assumptions:**\n",
    "   - **Binomial Distribution:** Assumes a fixed number of trials with a constant probability of success.\n",
    "   - **Poisson Distribution:** Assumes events occur randomly and independently at a constant average rate.\n",
    "\n",
    "5. **Shape of Distribution:**\n",
    "   - **Binomial Distribution:** Becomes more symmetric and bell-shaped as the number of trials increases (approaches a normal distribution with large \\(n\\)).\n",
    "   - **Poisson Distribution:** Has a right-skewed distribution, especially for small values of \\(\\lambda\\).\n",
    "\n"
   ]
  },
  {
   "cell_type": "markdown",
   "id": "e05cb9be",
   "metadata": {},
   "source": [
    "Q8. Generate a random sample of size 1000 from a Poisson distribution with mean 5 and calculate the\n",
    "sample mean and variance."
   ]
  },
  {
   "cell_type": "code",
   "execution_count": 15,
   "id": "070f3442",
   "metadata": {},
   "outputs": [
    {
     "name": "stdout",
     "output_type": "stream",
     "text": [
      "Sample Mean: 4.985\n",
      "Sample Variance: 4.9967749999999995\n"
     ]
    }
   ],
   "source": [
    "import numpy as np\n",
    "np.random.seed(42)\n",
    "sample_size = 1000\n",
    "mean_value = 5\n",
    "random_sample = np.random.poisson(lam=mean_value, size=sample_size)\n",
    "sample_mean = np.mean(random_sample)\n",
    "sample_variance = np.var(random_sample)\n",
    "\n",
    "print(f\"Sample Mean: {sample_mean}\")\n",
    "print(f\"Sample Variance: {sample_variance}\")\n"
   ]
  },
  {
   "cell_type": "markdown",
   "id": "3f86d7df",
   "metadata": {},
   "source": [
    "Q9. How mean and variance are related in Binomial distribution and Poisson distribution?"
   ]
  },
  {
   "cell_type": "markdown",
   "id": "faf2b26d",
   "metadata": {},
   "source": [
    "Binomial Distribution:\n",
    "For a Binomial distribution with parameters \n",
    "\n",
    "n (number of trials) and \n",
    "\n",
    "p (probability of success in each trial), the mean and variance are given by:\n",
    "μ=np\n",
    "var=np(1−p)\n",
    "\n",
    "Here, the variance is directly proportional to both the number of trials (\n",
    "\n",
    "n) and the probability of success (\n",
    "\n",
    "p). As the number of trials increases, the distribution becomes more concentrated around the mean.\n",
    "\n",
    "Poisson Distribution:\n",
    "For a Poisson distribution with parameter \n",
    "\n",
    "λ (average rate of events), the mean and variance are both equal to \n",
    "\n",
    "μ=λ\n",
    "var=λ\n",
    "\n",
    "In the Poisson distribution, the mean and variance are equal, and both are determined by the average rate of occurrence (\n",
    "\n",
    "λ). This implies that the spread of the distribution is solely determined by the average rate.\n",
    "\n",
    "Relationship:\n",
    "In summary:\n",
    "\n",
    "For the Binomial distribution, the variance depends on both the number of trials and the probability of success.\n",
    "For the Poisson distribution, the variance is solely determined by the average rate of occurrence."
   ]
  },
  {
   "cell_type": "markdown",
   "id": "1a82241b",
   "metadata": {},
   "source": [
    "Q10. In normal distribution with respect to mean position, where does the least frequent data appear?"
   ]
  },
  {
   "cell_type": "markdown",
   "id": "7dbd9c5c",
   "metadata": {},
   "source": [
    "About 95% falls within two standard deviations (μ−2σ to \n",
    "(μ+2σ).\n",
    ".\n",
    "About 99.7% falls within three standard deviations (\n",
    "μ−3σ to \n",
    "(μ+3σ)."
   ]
  },
  {
   "cell_type": "code",
   "execution_count": null,
   "id": "2a387406",
   "metadata": {},
   "outputs": [],
   "source": []
  }
 ],
 "metadata": {
  "kernelspec": {
   "display_name": "Python 3 (ipykernel)",
   "language": "python",
   "name": "python3"
  },
  "language_info": {
   "codemirror_mode": {
    "name": "ipython",
    "version": 3
   },
   "file_extension": ".py",
   "mimetype": "text/x-python",
   "name": "python",
   "nbconvert_exporter": "python",
   "pygments_lexer": "ipython3",
   "version": "3.9.7"
  }
 },
 "nbformat": 4,
 "nbformat_minor": 5
}
