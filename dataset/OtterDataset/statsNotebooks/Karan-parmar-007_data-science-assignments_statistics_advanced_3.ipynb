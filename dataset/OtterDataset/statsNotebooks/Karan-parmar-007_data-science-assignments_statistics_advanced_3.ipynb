{
 "cells": [
  {
   "cell_type": "markdown",
   "metadata": {},
   "source": [
    "# **Statistic Advanced 3**"
   ]
  },
  {
   "cell_type": "markdown",
   "metadata": {},
   "source": [
    "### **Q1: What is Estimation Statistics? Explain point estimate and interval estimate.**"
   ]
  },
  {
   "cell_type": "markdown",
   "metadata": {},
   "source": [
    "Estimation statistics involves using sample data to estimate population parameters. These estimates provide insights into the characteristics of the population when direct measurement of the entire population is not feasible. Estimation can be broadly categorized into two types: point estimation and interval estimation.\n",
    "\n",
    "### Point Estimate:\n",
    "A point estimate is a single value used to estimate a population parameter. It's typically derived from sample data and serves as the best guess or approximation of the true value of the parameter. For example, the sample mean (\\( \\bar{x} \\)) is often used as a point estimate of the population mean (\\( \\mu \\)), and the sample proportion (\\( \\hat{p} \\)) is used as a point estimate of the population proportion (\\( p \\)).\n",
    "\n",
    "### Interval Estimate:\n",
    "An interval estimate provides a range of values within which the true population parameter is likely to lie, along with a level of confidence. It takes into account the uncertainty associated with estimating population parameters from sample data. Interval estimates are expressed as a range, also known as a confidence interval. For example, a 95% confidence interval for the population mean (\\( \\mu \\)) would consist of a lower bound and an upper bound within which we are 95% confident that the true population mean lies.\n",
    "\n",
    "### Importance of Estimation Statistics:\n",
    "1. **Inference**: Estimation statistics forms the basis for making inferences about population parameters based on sample data. It allows researchers to draw conclusions and make decisions about the population using information obtained from a subset of the population.\n",
    "   \n",
    "2. **Decision-Making**: Interval estimates provide decision-makers with a range of plausible values for population parameters, along with an indication of the level of uncertainty associated with the estimates. This helps in making informed decisions.\n",
    "\n",
    "3. **Research Design**: Estimation statistics guides the design of research studies by determining appropriate sample sizes and sampling methods to obtain reliable estimates of population parameters.\n",
    "\n",
    "4. **Policy Development**: Reliable estimates of population parameters obtained through estimation statistics are essential for developing effective policies and strategies in various fields, such as public health, economics, and social sciences.\n",
    "\n",
    "In summary, estimation statistics plays a crucial role in quantifying uncertainty, making inferences, and informing decision-making processes based on sample data. Point estimates provide single-value approximations of population parameters, while interval estimates provide ranges of plausible values along with measures of confidence."
   ]
  },
  {
   "cell_type": "markdown",
   "metadata": {},
   "source": [
    "### **Q2. Write a Python function to estimate the population mean using a sample mean and standard deviation.**"
   ]
  },
  {
   "cell_type": "code",
   "execution_count": 2,
   "metadata": {},
   "outputs": [
    {
     "name": "stdout",
     "output_type": "stream",
     "text": [
      "Estimated population mean: 75.0\n"
     ]
    }
   ],
   "source": [
    "import math\n",
    "def population_mean(sample_mean, standard_deviation, sample_size):\n",
    "\n",
    "    population_mean = sample_mean * math.sqrt(sample_size) / standard_deviation\n",
    "    \n",
    "    return population_mean\n",
    "sample_mean = 75\n",
    "sample_std_dev = 10\n",
    "sample_size = 100\n",
    "\n",
    "estimated_population_mean = population_mean(sample_mean, sample_std_dev, sample_size)\n",
    "print(\"Estimated population mean:\", estimated_population_mean)"
   ]
  },
  {
   "cell_type": "markdown",
   "metadata": {},
   "source": [
    "### **Q3: What is Hypothesis testing? Why is it used? State the importance of Hypothesis testing.**"
   ]
  },
  {
   "cell_type": "markdown",
   "metadata": {},
   "source": [
    "Hypothesis testing is a statistical method used to make inferences about population parameters based on sample data. It involves formulating a hypothesis about the population parameter, collecting data, and using statistical techniques to determine whether the observed data provides enough evidence to accept or reject the hypothesis.\n",
    "\n",
    "### Key Components of Hypothesis Testing:\n",
    "1. **Null Hypothesis (\\( H_0 \\))**: The null hypothesis is a statement of no effect or no difference. It represents the status quo or the assumption that there is no relationship or effect in the population. It's typically denoted as \\( H_0 \\).\n",
    "\n",
    "2. **Alternative Hypothesis (\\( H_1 \\) or \\( H_a \\))**: The alternative hypothesis is the statement we are trying to gather evidence for. It represents the opposite of the null hypothesis and suggests that there is a relationship or effect in the population. It's denoted as \\( H_1 \\) or \\( H_a \\).\n",
    "\n",
    "3. **Test Statistic**: The test statistic is a numerical value calculated from the sample data. It quantifies the difference between the observed data and what we would expect to see if the null hypothesis were true.\n",
    "\n",
    "4. **Significance Level (\\( \\alpha \\))**: The significance level is the threshold for determining whether to reject the null hypothesis. It represents the probability of incorrectly rejecting the null hypothesis when it is true. Common significance levels include 0.05 (5%) and 0.01 (1%).\n",
    "\n",
    "5. **P-value**: The p-value is the probability of obtaining the observed test statistic, or a more extreme value, if the null hypothesis were true. A smaller p-value suggests stronger evidence against the null hypothesis.\n",
    "\n",
    "### Importance of Hypothesis Testing:\n",
    "1. **Decision-Making**: Hypothesis testing provides a systematic framework for making decisions based on empirical evidence. It helps researchers and decision-makers determine whether to accept or reject a hypothesis, guiding actions and policies.\n",
    "\n",
    "2. **Scientific Inquiry**: Hypothesis testing is fundamental to the scientific method. It allows researchers to evaluate theories, test predictions, and draw conclusions based on empirical data.\n",
    "\n",
    "3. **Inference**: Hypothesis testing enables inference about population parameters from sample data. It provides a way to generalize findings from a sample to a larger population.\n",
    "\n",
    "4. **Quality Control**: In fields such as manufacturing and quality control, hypothesis testing is used to assess product quality, monitor processes, and identify areas for improvement.\n",
    "\n",
    "5. **Research Validation**: Hypothesis testing is used to validate research findings and support scientific claims. It helps ensure that research results are reliable and replicable.\n",
    "\n",
    "In summary, hypothesis testing is a fundamental statistical tool used to make decisions, draw inferences, and validate scientific claims based on empirical evidence. It provides a systematic framework for evaluating hypotheses and contributes to the advancement of knowledge in various fields."
   ]
  },
  {
   "cell_type": "markdown",
   "metadata": {},
   "source": [
    "### **Q4. Create a hypothesis that states whether the average weight of male college students is greater than the average weight of female college students.**"
   ]
  },
  {
   "cell_type": "markdown",
   "metadata": {},
   "source": [
    "Null Hypothesis (H0): \n",
    "The average weight of male college students is equal to or less than the average weight of female college students.\n",
    "\n",
    "Alternative Hypothesis (H1): \n",
    "The average weight of male college students is greater than the average weight of female college students."
   ]
  },
  {
   "cell_type": "markdown",
   "metadata": {},
   "source": [
    "### **Q5. Write a Python script to conduct a hypothesis test on the difference between two population means, given a sample from each population.**"
   ]
  },
  {
   "cell_type": "code",
   "execution_count": 3,
   "metadata": {},
   "outputs": [
    {
     "name": "stdout",
     "output_type": "stream",
     "text": [
      "Test Statistic: 4.5573271518765\n",
      "P-value: 0.0018564144776255106\n",
      "Null Hypothesis: Rejected\n"
     ]
    }
   ],
   "source": [
    "from scipy import stats\n",
    "\n",
    "def hypothesis_test(sample1, sample2, alpha=0.05):\n",
    "\n",
    "    t_statistic, p_value = stats.ttest_ind(sample1, sample2)\n",
    "    \n",
    "\n",
    "    if p_value < alpha:\n",
    "        null_hypothesis = \"Rejected\"\n",
    "    else:\n",
    "        null_hypothesis = \"Not Rejected\"\n",
    "    \n",
    "\n",
    "    result = {\n",
    "        \"Test Statistic\": t_statistic,\n",
    "        \"P-value\": p_value,\n",
    "        \"Null Hypothesis\": null_hypothesis\n",
    "    }\n",
    "    \n",
    "    return result\n",
    "\n",
    "\n",
    "sample1 = [78, 82, 75, 85, 80]  \n",
    "sample2 = [72, 70, 68, 74, 71]  \n",
    "\n",
    "test_result = hypothesis_test(sample1, sample2)\n",
    "print(\"Test Statistic:\", test_result[\"Test Statistic\"])\n",
    "print(\"P-value:\", test_result[\"P-value\"])\n",
    "print(\"Null Hypothesis:\", test_result[\"Null Hypothesis\"])\n"
   ]
  },
  {
   "cell_type": "markdown",
   "metadata": {},
   "source": [
    "### **Q6: What is a null and alternative hypothesis? Give some examples.**"
   ]
  },
  {
   "cell_type": "markdown",
   "metadata": {},
   "source": [
    "In hypothesis testing, the null hypothesis (\\( H_0 \\)) and the alternative hypothesis (\\( H_1 \\)) are two competing statements about a population parameter or a statistical relationship that we want to test using sample data.\n",
    "\n",
    "### Null Hypothesis (\\( H_0 \\)):\n",
    "- The null hypothesis is a statement of no effect, no difference, or no relationship. It represents the default assumption or the status quo.\n",
    "- In hypothesis testing, we aim to either reject or fail to reject the null hypothesis based on the evidence from the sample data.\n",
    "- It's denoted as \\( H_0 \\).\n",
    "\n",
    "### Alternative Hypothesis (\\( H_1 \\)):\n",
    "- The alternative hypothesis is a statement that contradicts the null hypothesis. It represents what we are trying to gather evidence for.\n",
    "- It can take different forms, such as stating that there is an effect, a difference, or a relationship.\n",
    "- It's denoted as \\( H_1 \\) or \\( H_a \\).\n",
    "\n",
    "### Examples:\n",
    "1. **Example 1 - Mean Comparison**:\n",
    "   - Null Hypothesis (\\( H_0 \\)): The mean IQ score of students in a school is 100.\n",
    "   - Alternative Hypothesis (\\( H_1 \\)): The mean IQ score of students in a school is not 100 (two-tailed test).\n",
    "\n",
    "2. **Example 2 - Proportion Comparison**:\n",
    "   - Null Hypothesis (\\( H_0 \\)): The proportion of customers satisfied with a product is 0.8.\n",
    "   - Alternative Hypothesis (\\( H_1 \\)): The proportion of customers satisfied with a product is less than 0.8 (one-tailed test).\n",
    "\n",
    "3. **Example 3 - Difference in Means**:\n",
    "   - Null Hypothesis (\\( H_0 \\)): There is no difference in the mean blood pressure levels between two groups.\n",
    "   - Alternative Hypothesis (\\( H_1 \\)): There is a difference in the mean blood pressure levels between two groups.\n",
    "\n",
    "4. **Example 4 - Correlation**:\n",
    "   - Null Hypothesis (\\( H_0 \\)): There is no correlation between hours of study and exam scores.\n",
    "   - Alternative Hypothesis (\\( H_1 \\)): There is a positive correlation between hours of study and exam scores.\n",
    "\n",
    "In each example, the null hypothesis represents the absence of an effect or relationship, while the alternative hypothesis represents the presence of an effect or relationship that we are interested in testing."
   ]
  },
  {
   "cell_type": "markdown",
   "metadata": {},
   "source": [
    "### **Q7: Write down the steps involved in hypothesis testing.**"
   ]
  },
  {
   "cell_type": "markdown",
   "metadata": {},
   "source": [
    "The process of hypothesis testing involves several steps to determine whether to accept or reject a null hypothesis based on sample data. Here are the general steps involved in hypothesis testing:\n",
    "\n",
    "### 1. Formulate Hypotheses:\n",
    "- Define the null hypothesis (\\( H_0 \\)) and the alternative hypothesis (\\( H_1 \\)) based on the research question and the hypothesis to be tested.\n",
    "- Determine the appropriate form of the alternative hypothesis (e.g., one-tailed or two-tailed).\n",
    "\n",
    "### 2. Choose Significance Level (\\( \\alpha \\)):\n",
    "- Select the significance level (\\( \\alpha \\)), which represents the probability of incorrectly rejecting the null hypothesis when it is true. Common values include 0.05 (5%) or 0.01 (1%).\n",
    "\n",
    "### 3. Select Test Statistic:\n",
    "- Choose an appropriate test statistic based on the sample data and the hypotheses being tested. The choice of test statistic depends on factors such as the type of data (e.g., continuous, categorical) and the research question.\n",
    "\n",
    "### 4. Collect Sample Data:\n",
    "- Collect data from a representative sample that is relevant to the research question and hypotheses being tested. Ensure that the data collection process follows appropriate sampling methods and avoids bias.\n",
    "\n",
    "### 5. Compute Test Statistic:\n",
    "- Calculate the value of the chosen test statistic using the sample data. The test statistic quantifies the difference between the observed data and what would be expected if the null hypothesis were true.\n",
    "\n",
    "### 6. Determine Critical Region:\n",
    "- Determine the critical region or rejection region based on the chosen significance level (\\( \\alpha \\)) and the null hypothesis. This represents the range of values of the test statistic that would lead to the rejection of the null hypothesis.\n",
    "\n",
    "### 7. Compare Test Statistic and Critical Region:\n",
    "- Compare the calculated test statistic to the critical region. If the test statistic falls within the critical region, reject the null hypothesis. If the test statistic falls outside the critical region, fail to reject the null hypothesis.\n",
    "\n",
    "### 8. Draw Conclusion:\n",
    "- Based on the comparison in step 7, draw a conclusion about the null hypothesis. State whether there is sufficient evidence to reject the null hypothesis in favor of the alternative hypothesis, or if there is insufficient evidence to reject the null hypothesis.\n",
    "\n",
    "### 9. Interpret Results:\n",
    "- Interpret the results of the hypothesis test in the context of the research question and the hypotheses being tested. Discuss the practical implications of the findings and any limitations of the study.\n",
    "\n",
    "By following these steps systematically, researchers can make informed decisions about the hypotheses being tested and draw reliable conclusions based on sample data."
   ]
  },
  {
   "cell_type": "markdown",
   "metadata": {},
   "source": [
    "### **Q8. Define p-value and explain its significance in hypothesis testing.**"
   ]
  },
  {
   "cell_type": "markdown",
   "metadata": {},
   "source": [
    "The p-value, or probability value, is a measure of the evidence against a null hypothesis in hypothesis testing. It represents the probability of obtaining the observed test statistic, or a more extreme value, if the null hypothesis were true. In other words, the p-value quantifies the strength of the evidence against the null hypothesis based on the sample data.\n",
    "\n",
    "### Significance of the p-value in Hypothesis Testing:\n",
    "\n",
    "1. **Decision Rule**: The p-value provides a basis for decision-making in hypothesis testing. If the p-value is smaller than the chosen significance level (\\( \\alpha \\)), typically 0.05 or 0.01, it indicates that the observed data are unlikely to occur under the null hypothesis. In such cases, the null hypothesis is rejected in favor of the alternative hypothesis.\n",
    "\n",
    "2. **Strength of Evidence**: A smaller p-value indicates stronger evidence against the null hypothesis. For example, a p-value of 0.01 provides stronger evidence against the null hypothesis than a p-value of 0.05. Researchers can use the magnitude of the p-value to assess the strength of the evidence and the robustness of the findings.\n",
    "\n",
    "3. **Interpretation**: The p-value helps researchers interpret the results of hypothesis tests in the context of the research question and the hypotheses being tested. A small p-value suggests that the observed data are inconsistent with the null hypothesis, providing support for the alternative hypothesis. On the other hand, a large p-value suggests that the observed data are consistent with the null hypothesis, indicating a lack of evidence against it.\n",
    "\n",
    "4. **Comparisons**: The p-value allows for comparisons across different studies or experiments. Researchers can compare the p-values obtained from different hypothesis tests to assess the strength of evidence against the null hypothesis in various contexts. This helps in synthesizing evidence from multiple studies and drawing more robust conclusions.\n",
    "\n",
    "5. **Sensitivity Analysis**: Sensitivity analysis involves examining how changes in the sample size or other parameters affect the results of hypothesis tests. The p-value serves as a useful tool for conducting sensitivity analysis and assessing the robustness of the findings to different scenarios.\n",
    "\n",
    "In summary, the p-value is a crucial concept in hypothesis testing, providing a quantitative measure of the evidence against the null hypothesis. It guides decision-making, helps interpret results, and facilitates comparisons across studies, ultimately contributing to the advancement of scientific knowledge."
   ]
  },
  {
   "cell_type": "markdown",
   "metadata": {},
   "source": [
    "### **Q9. Generate a Student's t-distribution plot using Python's matplotlib library, with the degrees of freedom parameter set to 10.**"
   ]
  },
  {
   "cell_type": "code",
   "execution_count": 5,
   "metadata": {},
   "outputs": [
    {
     "data": {
      "image/png": "[encoded data removed]",
      "text/plain": [
       "<Figure size 800x600 with 1 Axes>"
      ]
     },
     "metadata": {},
     "output_type": "display_data"
    }
   ],
   "source": [
    "import numpy as np\n",
    "import matplotlib.pyplot as plt\n",
    "from scipy.stats import t\n",
    "\n",
    "dof = 10\n",
    "\n",
    "# Generate x values for the plot\n",
    "x = np.linspace(-4, 4, 1000)\n",
    "\n",
    "# Calculate the probability density function (PDF) values for the t-distribution\n",
    "pdf_values = t.pdf(x, dof)\n",
    "\n",
    "# Plot the t-distribution\n",
    "plt.figure(figsize=(8, 6))\n",
    "plt.plot(x, pdf_values, label=f\"Student's t-distribution (df={dof})\")\n",
    "plt.title(\"Student's t-distribution\")\n",
    "plt.xlabel(\"x\")\n",
    "plt.ylabel(\"Probability Density\")\n",
    "plt.legend()\n",
    "plt.grid(True)\n",
    "plt.show()\n"
   ]
  },
  {
   "cell_type": "markdown",
   "metadata": {},
   "source": [
    "### **Q10. Write a Python program to calculate the two-sample t-test for independent samples, given two random samples of equal size and a null hypothesis that the population means are equal.**"
   ]
  },
  {
   "cell_type": "code",
   "execution_count": 6,
   "metadata": {},
   "outputs": [
    {
     "name": "stdout",
     "output_type": "stream",
     "text": [
      "T-test Statistic: -1.667735196132027\n",
      "P-value: 0.09856078338184529\n",
      "Null Hypothesis: Not Rejected\n"
     ]
    }
   ],
   "source": [
    "from scipy.stats import ttest_ind\n",
    "import numpy as np\n",
    "\n",
    "def two_sample_t_test(sample1, sample2, alpha=0.05):\n",
    "\n",
    "    # Perform two-sample t-test\n",
    "    t_statistic, p_value = ttest_ind(sample1, sample2)\n",
    "    \n",
    "    # Determine whether to reject the null hypothesis\n",
    "    if p_value < alpha:\n",
    "        null_hypothesis = \"Rejected\"\n",
    "    else:\n",
    "        null_hypothesis = \"Not Rejected\"\n",
    "    \n",
    "    return t_statistic, p_value, null_hypothesis\n",
    "\n",
    "# Generate two random samples of equal size\n",
    "sample_size = 50\n",
    "np.random.seed(0)  # For reproducibility\n",
    "sample1 = np.random.normal(loc=50, scale=10, size=sample_size)  # Example sample 1\n",
    "sample2 = np.random.normal(loc=55, scale=10, size=sample_size)  # Example sample 2\n",
    "\n",
    "# Perform two-sample t-test\n",
    "t_statistic, p_value, null_hypothesis = two_sample_t_test(sample1, sample2)\n",
    "print(\"T-test Statistic:\", t_statistic)\n",
    "print(\"P-value:\", p_value)\n",
    "print(\"Null Hypothesis:\", null_hypothesis)\n"
   ]
  },
  {
   "cell_type": "markdown",
   "metadata": {},
   "source": [
    "### **Q11: What is Student’s t distribution? When to use the t-Distribution.**"
   ]
  },
  {
   "cell_type": "markdown",
   "metadata": {},
   "source": [
    "Student's t-distribution, often referred to simply as the t-distribution, is a probability distribution that is symmetric and bell-shaped like the normal distribution, but with heavier tails. It is named after William Sealy Gosset, who published under the pseudonym \"Student.\"\n",
    "\n",
    "### Characteristics of the t-Distribution:\n",
    "1. **Symmetry**: The t-distribution is symmetric around its mean.\n",
    "2. **Bell-shaped**: Like the normal distribution, the t-distribution is bell-shaped.\n",
    "3. **Heavier Tails**: The tails of the t-distribution are heavier than those of the normal distribution, which means it has more probability in the tails.\n",
    "4. **Parameterized by Degrees of Freedom**: The shape of the t-distribution depends on the degrees of freedom (\\(df\\)), which determines the thickness of the tails. As \\(df\\) increases, the t-distribution approaches the shape of the standard normal distribution.\n",
    "\n",
    "### When to Use the t-Distribution:\n",
    "The t-distribution is commonly used in statistical inference, particularly in situations where the population standard deviation is unknown and the sample size is small. Here are some scenarios where the t-distribution is typically used:\n",
    "\n",
    "1. **Small Sample Sizes**: When the sample size is small (typically less than 30) and the population standard deviation is unknown, the t-distribution is used instead of the normal distribution for making inferences about the population mean.\n",
    "\n",
    "2. **Estimation of Population Parameters**: In hypothesis testing and confidence interval estimation for the population mean, the t-distribution is used when the population standard deviation is unknown and the sample size is small.\n",
    "\n",
    "3. **Comparing Means**: When comparing means from two independent samples (e.g., in the independent samples t-test), the t-distribution is used to calculate the test statistic and determine statistical significance.\n",
    "\n",
    "4. **Regression Analysis**: In linear regression analysis, the t-distribution is used to construct confidence intervals and perform hypothesis tests for the regression coefficients.\n",
    "\n",
    "Overall, the t-distribution is used in situations where the assumptions of normality and/or known population standard deviation are violated, especially when dealing with small sample sizes. It provides a more accurate inference compared to using the normal distribution in such cases."
   ]
  },
  {
   "cell_type": "markdown",
   "metadata": {},
   "source": [
    "### **Q12: What is t-statistic? State the formula for t-statistic.**"
   ]
  },
  {
   "cell_type": "markdown",
   "metadata": {},
   "source": [
    "The t-statistic is a measure of how much the sample mean differs from the null hypothesis mean, relative to the variability in the sample data. It is used in hypothesis testing to assess the strength of evidence against the null hypothesis.\n",
    "\n",
    "### Formula for t-Statistic:\n",
    "The formula for calculating the t-statistic depends on the context of the hypothesis test being performed. Here are the general formulas for different scenarios:\n",
    "\n",
    "\n",
    "1. **One-Sample t-Test**:\n",
    "\n",
    "     $$\n",
    "     t = \\frac{\\bar{x} - \\mu_0}{\\frac{s}{\\sqrt{n}}}\n",
    "     $$\n",
    "\n",
    "\n",
    "2. **Two-Sample t-Test for Independent Samples**:\n",
    "\n",
    "     $$\n",
    "     t = \\frac{\\bar{x}_1 - \\bar{x}_2}{\\sqrt{\\frac{s_1^2}{n_1} + \\frac{s_2^2}{n_2}}}\n",
    "     $$\n",
    "\n",
    "\n",
    "3. **Two-Sample t-Test for Paired Samples**:\n",
    "\n",
    "     $$\n",
    "     t = \\frac{\\bar{d}}{\\frac{s_d}{\\sqrt{n}}}\n",
    "     $$\n",
    "\n",
    "\n",
    "When you include these formulas in a markdown cell in a Jupyter Notebook and execute the cell, Jupyter Notebook will render them as mathematical expressions. Make sure that your Jupyter Notebook environment has MathJax enabled to render LaTeX. If MathJax is not enabled by default, you may need to enable it manually in your Jupyter Notebook settings or configurations.\n",
    "\n",
    "The t-statistic measures the number of standard errors that the sample mean is away from the null hypothesis mean. A larger absolute value of the t-statistic indicates stronger evidence against the null hypothesis."
   ]
  },
  {
   "cell_type": "markdown",
   "metadata": {},
   "source": [
    "### **Q13. A coffee shop owner wants to estimate the average daily revenue for their shop. They take a random sample of 50 days and find the sample mean revenue to be $500 with a standard deviation of $50. Estimate the population mean revenue with a 95% confidence interval.**\n",
    "\n",
    "### **Q14. A researcher hypothesizes that a new drug will decrease blood pressure by 10 mmHg. They conduct a clinical trial with 100 patients and find that the sample mean decrease in blood pressure is 8 mmHg with a standard deviation of 3 mmHg. Test the hypothesis with a significance level of 0.05.**\n",
    "\n",
    "### **Q15. An electronics company produces a certain type of product with a mean weight of 5 pounds and a standard deviation of 0.5 pounds. A random sample of 25 products is taken, and the sample mean weight is found to be 4.8 pounds. Test the hypothesis that the true mean weight of the products is less than 5 pounds with a significance level of 0.01.**\n",
    "\n",
    "### **Q16. Two groups of students are given different study materials to prepare for a test. The first group (n1 = 30) has a mean score of 80 with a standard deviation of 10, and the second group (n2 = 40) has a mean score of 75 with a standard deviation of 8. Test the hypothesis that the population means for the two groups are equal with a significance level of 0.01.**\n",
    "\n",
    "### **Q17. A marketing company wants to estimate the average number of ads watched by viewers during a TV program. They take a random sample of 50 viewers and find that the sample mean is 4 with a standard deviation of 1.5. Estimate the population mean with a 99% confidence interval.**"
   ]
  },
  {
   "cell_type": "code",
   "execution_count": 7,
   "metadata": {},
   "outputs": [
    {
     "name": "stdout",
     "output_type": "stream",
     "text": [
      "95% Confidence Interval for population mean revenue: (486.1407070887437, 513.8592929112564)\n"
     ]
    }
   ],
   "source": [
    "import numpy as np\n",
    "\n",
    "# Given data\n",
    "sample_mean = 500\n",
    "sample_std = 50\n",
    "sample_size = 50\n",
    "confidence_level = 0.95\n",
    "\n",
    "# Calculate Z-score for 95% confidence level\n",
    "Z = 1.96\n",
    "\n",
    "# Calculate standard error\n",
    "standard_error = sample_std / np.sqrt(sample_size)\n",
    "\n",
    "# Calculate margin of error\n",
    "margin_of_error = Z * standard_error\n",
    "\n",
    "# Calculate confidence interval\n",
    "lower_bound = sample_mean - margin_of_error\n",
    "upper_bound = sample_mean + margin_of_error\n",
    "\n",
    "# Print confidence interval\n",
    "print(\"95% Confidence Interval for population mean revenue:\", (lower_bound, upper_bound))\n"
   ]
  },
  {
   "cell_type": "code",
   "execution_count": 8,
   "metadata": {},
   "outputs": [
    {
     "name": "stdout",
     "output_type": "stream",
     "text": [
      "t-statistic: -6.666666666666667\n",
      "Critical value: 1.9842169515086827\n",
      "Reject the null hypothesis\n"
     ]
    }
   ],
   "source": [
    "from scipy.stats import t\n",
    "\n",
    "# Given data\n",
    "sample_mean = 8\n",
    "population_mean = 10\n",
    "sample_std = 3\n",
    "sample_size = 100\n",
    "alpha = 0.05  # significance level\n",
    "\n",
    "# Calculate the t-statistic\n",
    "t_statistic = (sample_mean - population_mean) / (sample_std / (sample_size ** 0.5))\n",
    "\n",
    "# Degrees of freedom\n",
    "df = sample_size - 1\n",
    "\n",
    "# Calculate the critical value\n",
    "critical_value = t.ppf(1 - alpha / 2, df)\n",
    "\n",
    "# Print results\n",
    "print(\"t-statistic:\", t_statistic)\n",
    "print(\"Critical value:\", critical_value)\n",
    "\n",
    "# Compare t-statistic with critical value\n",
    "if abs(t_statistic) > critical_value:\n",
    "    print(\"Reject the null hypothesis\")\n",
    "else:\n",
    "    print(\"Fail to reject the null hypothesis\")\n"
   ]
  },
  {
   "cell_type": "code",
   "execution_count": 9,
   "metadata": {},
   "outputs": [
    {
     "name": "stdout",
     "output_type": "stream",
     "text": [
      "t-statistic: -2.0000000000000018\n",
      "Critical value: -2.4921594731575762\n",
      "Fail to reject the null hypothesis\n"
     ]
    }
   ],
   "source": [
    "from scipy.stats import t\n",
    "\n",
    "# Given data\n",
    "sample_mean = 4.8\n",
    "population_mean = 5\n",
    "sample_std = 0.5\n",
    "sample_size = 25\n",
    "alpha = 0.01  # significance level\n",
    "\n",
    "# Calculate the t-statistic\n",
    "t_statistic = (sample_mean - population_mean) / (sample_std / (sample_size ** 0.5))\n",
    "\n",
    "# Degrees of freedom\n",
    "df = sample_size - 1\n",
    "\n",
    "# Calculate the critical value\n",
    "critical_value = t.ppf(alpha, df)\n",
    "\n",
    "# Print results\n",
    "print(\"t-statistic:\", t_statistic)\n",
    "print(\"Critical value:\", critical_value)\n",
    "\n",
    "# Compare t-statistic with critical value\n",
    "if t_statistic < critical_value:\n",
    "    print(\"Reject the null hypothesis\")\n",
    "else:\n",
    "    print(\"Fail to reject the null hypothesis\")\n"
   ]
  },
  {
   "cell_type": "code",
   "execution_count": null,
   "metadata": {},
   "outputs": [],
   "source": []
  },
  {
   "cell_type": "code",
   "execution_count": 10,
   "metadata": {},
   "outputs": [
    {
     "name": "stdout",
     "output_type": "stream",
     "text": [
      "99% Confidence Interval for population mean number of ads watched: (3.453547879499036, 4.546452120500964)\n"
     ]
    }
   ],
   "source": [
    "import numpy as np\n",
    "\n",
    "# Given data\n",
    "sample_mean = 4\n",
    "sample_std = 1.5\n",
    "sample_size = 50\n",
    "confidence_level = 0.99\n",
    "\n",
    "# Calculate Z-score for 99% confidence level\n",
    "Z = 2.576\n",
    "\n",
    "# Calculate standard error\n",
    "standard_error = sample_std / np.sqrt(sample_size)\n",
    "\n",
    "# Calculate margin of error\n",
    "margin_of_error = Z * standard_error\n",
    "\n",
    "# Calculate confidence interval\n",
    "lower_bound = sample_mean - margin_of_error\n",
    "upper_bound = sample_mean + margin_of_error\n",
    "\n",
    "# Print confidence interval\n",
    "print(\"99% Confidence Interval for population mean number of ads watched:\", (lower_bound, upper_bound))\n"
   ]
  },
  {
   "cell_type": "code",
   "execution_count": 11,
   "metadata": {},
   "outputs": [
    {
     "name": "stdout",
     "output_type": "stream",
     "text": [
      "t-statistic: 2.2511258444537408\n",
      "Critical value: 2.650081298694729\n",
      "Fail to reject the null hypothesis\n"
     ]
    }
   ],
   "source": [
    "from scipy.stats import t\n",
    "\n",
    "# Given data\n",
    "mean1 = 80\n",
    "std1 = 10\n",
    "n1 = 30\n",
    "\n",
    "mean2 = 75\n",
    "std2 = 8\n",
    "n2 = 40\n",
    "\n",
    "alpha = 0.01  # significance level\n",
    "\n",
    "# Calculate the t-statistic\n",
    "t_statistic = (mean1 - mean2) / ((std1**2 / n1 + std2**2 / n2)**0.5)\n",
    "\n",
    "# Degrees of freedom\n",
    "df = n1 + n2 - 2\n",
    "\n",
    "# Calculate the critical value (two-tailed test)\n",
    "critical_value = t.ppf(1 - alpha / 2, df)\n",
    "\n",
    "# Print results\n",
    "print(\"t-statistic:\", t_statistic)\n",
    "print(\"Critical value:\", critical_value)\n",
    "\n",
    "# Compare t-statistic with critical value\n",
    "if abs(t_statistic) > critical_value:\n",
    "    print(\"Reject the null hypothesis\")\n",
    "else:\n",
    "    print(\"Fail to reject the null hypothesis\")\n"
   ]
  },
  {
   "cell_type": "markdown",
   "metadata": {},
   "source": [
    "# **COMPLETE**"
   ]
  }
 ],
 "metadata": {
  "kernelspec": {
   "display_name": "Python 3",
   "language": "python",
   "name": "python3"
  },
  "language_info": {
   "codemirror_mode": {
    "name": "ipython",
    "version": 3
   },
   "file_extension": ".py",
   "mimetype": "text/x-python",
   "name": "python",
   "nbconvert_exporter": "python",
   "pygments_lexer": "ipython3",
   "version": "3.12.1"
  }
 },
 "nbformat": 4,
 "nbformat_minor": 2
}
