{
  "cells": [
    {
      "cell_type": "markdown",
      "metadata": {
        "id": "CeUOYktpXtOz"
      },
      "source": [
        "# Project 3: Parsing and Transformers"
      ]
    },
    {
      "cell_type": "markdown",
      "metadata": {
        "id": "35m1Uv47jiNX"
      },
      "source": [
        "This project covers constituency parsing and the Transformer neural network architecture.  First, you will implement a Transformer encoder, using a part-of-speech tagging task as an initial test of your implementation.  Then, you will implement a Transformer-based constituency parser.  Your parser will be trained to classify span labels, then you will implement the CKY algorithm to turn the predictions into trees.\n",
        "\n"
      ]
    },
    {
      "cell_type": "markdown",
      "metadata": {
        "id": "acPh_4GwYID0"
      },
      "source": [
        "## Setup"
      ]
    },
    {
      "cell_type": "code",
      "execution_count": null,
      "metadata": {},
      "outputs": [],
      "source": []
    },
    {
      "cell_type": "markdown",
      "metadata": {
        "id": "c7cggO7mjZ5L"
      },
      "source": [
        "The dependencies for this project include:\n",
        "* `torch` for modeling and training\n",
        "* `sentencepiece` for subword tokenization\n",
        "* `nltk` for loading and working with parse tree data structures\n",
        "* `svgling` for rendering parse trees in the browser"
      ]
    },
    {
      "cell_type": "code",
      "execution_count": 1,
      "metadata": {
        "execution": {
          "iopub.execute_input": "2023-03-16T15:39:06.507337Z",
          "iopub.status.busy": "2023-03-16T15:39:06.507011Z",
          "iopub.status.idle": "2023-03-16T15:39:20.834953Z",
          "shell.execute_reply": "2023-03-16T15:39:20.834142Z",
          "shell.execute_reply.started": "2023-03-16T15:39:06.507257Z"
        },
        "id": "4LV8KY6_unfe",
        "trusted": true
      },
      "outputs": [],
      "source": [
        "%%capture\n",
        "!pip install --upgrade nltk sentencepiece svgling tqdm\n",
        "\n",
        "# Standard library imports\n",
        "from copy import deepcopy\n",
        "import json\n",
        "import math\n",
        "import random\n",
        "\n",
        "# Third party imports\n",
        "import matplotlib.pyplot as plt\n",
        "import numpy as np\n",
        "import sentencepiece\n",
        "import torch\n",
        "import torch.nn as nn\n",
        "import torch.nn.functional as F\n",
        "from torch.nn.utils.rnn import pad_sequence\n",
        "import tqdm.notebook\n",
        "\n",
        "import nltk\n",
        "from nltk.corpus.reader.bracket_parse import BracketParseCorpusReader\n",
        "\n",
        "import svgling\n",
        "svgling.disable_nltk_png()"
      ]
    },
    {
      "cell_type": "markdown",
      "metadata": {
        "id": "KNT_TURTwIlW"
      },
      "source": [
        "Before proceeding, let's verify that we're connected to a GPU runtime and that `torch` can detect the GPU.\n",
        "We'll define a variable `device` here to use throughout the code so that we can easily change to run on CPU for debugging."
      ]
    },
    {
      "cell_type": "code",
      "execution_count": 2,
      "metadata": {
        "colab": {
          "base_uri": "https://localhost:8080/"
        },
        "execution": {
          "iopub.execute_input": "2023-03-16T15:39:20.837123Z",
          "iopub.status.busy": "2023-03-16T15:39:20.836828Z",
          "iopub.status.idle": "2023-03-16T15:39:20.905904Z",
          "shell.execute_reply": "2023-03-16T15:39:20.904798Z",
          "shell.execute_reply.started": "2023-03-16T15:39:20.837088Z"
        },
        "id": "KYpIPtqtwVwh",
        "outputId": "c1e32f35-0089-4ba8-9240-d9fea41ef785",
        "trusted": true
      },
      "outputs": [
        {
          "name": "stdout",
          "output_type": "stream",
          "text": [
            "Using device: cuda\n"
          ]
        }
      ],
      "source": [
        "assert torch.cuda.is_available()\n",
        "device = torch.device(\"cuda\")\n",
        "print(\"Using device:\", device)"
      ]
    },
    {
      "cell_type": "markdown",
      "metadata": {
        "id": "ANK-5cMtYSyH"
      },
      "source": [
        "## Data"
      ]
    },
    {
      "cell_type": "markdown",
      "metadata": {
        "id": "BZGmlRlB-2uo"
      },
      "source": [
        "The code below downloads the standard Penn Treebank data splits for parsing: sections 2-21 are used for training, section 22 for validation, and section 23 for testing. For consistency, we'll use these same splits for part-of-speech tagging, but we should note that most academic papers use a different way of splitting up the Penn Treebank data for the part-of-speech tagging task."
      ]
    },
    {
      "cell_type": "code",
      "execution_count": 3,
      "metadata": {
        "colab": {
          "base_uri": "https://localhost:8080/"
        },
        "execution": {
          "iopub.execute_input": "2023-03-16T15:39:20.907687Z",
          "iopub.status.busy": "2023-03-16T15:39:20.907205Z",
          "iopub.status.idle": "2023-03-16T15:39:21.395885Z",
          "shell.execute_reply": "2023-03-16T15:39:21.395029Z",
          "shell.execute_reply.started": "2023-03-16T15:39:20.907652Z"
        },
        "id": "ZMYj6yJKZ2j_",
        "outputId": "03fede8c-72d7-4ff0-ae3b-a09c77e4e623",
        "trusted": true
      },
      "outputs": [
        {
          "name": "stdout",
          "output_type": "stream",
          "text": [
            "Archive:  parsing-data.zip\n",
            "  inflating: train                   \n",
            "  inflating: dev                     \n",
            "  inflating: test                    \n",
            "   creating: EVALB/\n",
            "  inflating: EVALB/.DS_Store         \n",
            "   creating: EVALB/bug/\n",
            "  inflating: EVALB/bug/bug.gld       \n",
            "  inflating: EVALB/bug/bug.rsl-new   \n",
            "  inflating: EVALB/bug/bug.rsl-old   \n",
            "  inflating: EVALB/bug/bug.tst       \n",
            "  inflating: EVALB/COLLINS.prm       \n",
            "  inflating: EVALB/evalb.c           \n",
            "  inflating: EVALB/LICENSE           \n",
            "  inflating: EVALB/Makefile          \n",
            "  inflating: EVALB/new.prm           \n",
            "  inflating: EVALB/nk.prm            \n",
            "  inflating: EVALB/README            \n",
            "   creating: EVALB/sample/\n",
            "  inflating: EVALB/sample/sample.gld  \n",
            "  inflating: EVALB/sample/sample.prm  \n",
            "  inflating: EVALB/sample/sample.rsl  \n",
            "  inflating: EVALB/sample/sample.tst  \n",
            "  inflating: EVALB/tgrep_proc.prl    \n"
          ]
        }
      ],
      "source": [
        "%%bash\n",
        "if [ ! -e parsing-data.zip ]; then\n",
        "  wget --quiet https://storage.googleapis.com/cs288-parsing-project/parsing-data.zip\n",
        "fi\n",
        "rm -rf train dev test EVALB/\n",
        "unzip parsing-data.zip"
      ]
    },
    {
      "cell_type": "markdown",
      "metadata": {
        "id": "FBZaWRRf_n_i"
      },
      "source": [
        "Let's take a look at the format of the data:"
      ]
    },
    {
      "cell_type": "code",
      "execution_count": 4,
      "metadata": {
        "colab": {
          "base_uri": "https://localhost:8080/"
        },
        "execution": {
          "iopub.execute_input": "2023-03-16T15:39:21.399150Z",
          "iopub.status.busy": "2023-03-16T15:39:21.398814Z",
          "iopub.status.idle": "2023-03-16T15:39:22.351404Z",
          "shell.execute_reply": "2023-03-16T15:39:22.350520Z",
          "shell.execute_reply.started": "2023-03-16T15:39:21.399114Z"
        },
        "id": "sNUNK7Bg_qgx",
        "outputId": "7294c61c-2178-46e9-ab3e-e3479f8efebd",
        "trusted": true
      },
      "outputs": [
        {
          "name": "stdout",
          "output_type": "stream",
          "text": [
            "(TOP (S (PP (IN In) (NP (NP (DT an) (NNP Oct.) (CD 19) (NN review)) (PP (IN of) (NP (`` ``) (NP (DT The) (NN Misanthrope)) ('' '') (PP (IN at) (NP (NP (NNP Chicago) (POS 's)) (NNP Goodman) (NNP Theatre))))) (PRN (-LRB- -LRB-) (`` ``) (S (NP (VBN Revitalized) (NNS Classics)) (VP (VBP Take) (NP (DT the) (NN Stage)) (PP (IN in) (NP (NNP Windy) (NNP City))))) (, ,) ('' '') (NP (NN Leisure) (CC &) (NNS Arts)) (-RRB- -RRB-)))) (, ,) (NP (NP (NP (DT the) (NN role)) (PP (IN of) (NP (NNP Celimene)))) (, ,) (VP (VBN played) (PP (IN by) (NP (NNP Kim) (NNP Cattrall)))) (, ,)) (VP (VBD was) (VP (ADVP (RB mistakenly)) (VBN attributed) (PP (TO to) (NP (NNP Christina) (NNP Haag))))) (. .)))\n",
            "(TOP (S (NP (NNP Ms.) (NNP Haag)) (VP (VBZ plays) (NP (NNP Elianti))) (. .)))\n"
          ]
        }
      ],
      "source": [
        "!head -n 2 train"
      ]
    },
    {
      "cell_type": "markdown",
      "metadata": {
        "id": "i6-ahhuG_rIN"
      },
      "source": [
        "The files include one tree per line. We'll use the `BracketParseCorpusReader` from `nltk` to load the data."
      ]
    },
    {
      "cell_type": "code",
      "execution_count": 5,
      "metadata": {
        "execution": {
          "iopub.execute_input": "2023-03-16T15:39:22.355106Z",
          "iopub.status.busy": "2023-03-16T15:39:22.354875Z",
          "iopub.status.idle": "2023-03-16T15:39:22.360966Z",
          "shell.execute_reply": "2023-03-16T15:39:22.360261Z",
          "shell.execute_reply.started": "2023-03-16T15:39:22.355081Z"
        },
        "id": "eGzu6IjkBW74",
        "trusted": true
      },
      "outputs": [],
      "source": [
        "READER = BracketParseCorpusReader('.', ['train', 'dev', 'test'])"
      ]
    },
    {
      "cell_type": "markdown",
      "metadata": {
        "id": "k1aBbR3snOjV"
      },
      "source": [
        "## Vocabulary"
      ]
    },
    {
      "cell_type": "markdown",
      "metadata": {
        "id": "asT2gaZ7_48T"
      },
      "source": [
        "We first extract the sentences alone from the data and construct a subword vocabulary, much like in Project 2. We use a subword vocabulary because it allows us to largely avoid the issue of having unknown words at test time."
      ]
    },
    {
      "cell_type": "code",
      "execution_count": 6,
      "metadata": {
        "colab": {
          "base_uri": "https://localhost:8080/"
        },
        "execution": {
          "iopub.execute_input": "2023-03-16T15:39:22.362658Z",
          "iopub.status.busy": "2023-03-16T15:39:22.362249Z",
          "iopub.status.idle": "2023-03-16T15:39:22.375883Z",
          "shell.execute_reply": "2023-03-16T15:39:22.375210Z",
          "shell.execute_reply.started": "2023-03-16T15:39:22.362623Z"
        },
        "id": "WSyRQHA4CIWO",
        "outputId": "8a1f64c5-c5c9-46cc-ecf8-934cb53515de",
        "trusted": true
      },
      "outputs": [
        {
          "data": {
            "text/plain": [
              "['Ms.', 'Haag', 'plays', 'Elianti', '.']"
            ]
          },
          "execution_count": 6,
          "metadata": {},
          "output_type": "execute_result"
        }
      ],
      "source": [
        "READER.sents('train')[1]"
      ]
    },
    {
      "cell_type": "code",
      "execution_count": 7,
      "metadata": {
        "execution": {
          "iopub.execute_input": "2023-03-16T15:39:22.378654Z",
          "iopub.status.busy": "2023-03-16T15:39:22.377617Z",
          "iopub.status.idle": "2023-03-16T15:39:25.828727Z",
          "shell.execute_reply": "2023-03-16T15:39:25.828025Z",
          "shell.execute_reply.started": "2023-03-16T15:39:22.378619Z"
        },
        "id": "Yasw_R3hB_13",
        "trusted": true
      },
      "outputs": [],
      "source": [
        "with open('sentences.txt', 'w') as f:\n",
        "  for sent in READER.sents('train'):\n",
        "    f.write(' '.join(sent) + '\\n')"
      ]
    },
    {
      "cell_type": "code",
      "execution_count": 8,
      "metadata": {
        "colab": {
          "base_uri": "https://localhost:8080/"
        },
        "execution": {
          "iopub.execute_input": "2023-03-16T15:39:25.830347Z",
          "iopub.status.busy": "2023-03-16T15:39:25.830114Z",
          "iopub.status.idle": "2023-03-16T15:39:26.783910Z",
          "shell.execute_reply": "2023-03-16T15:39:26.783004Z",
          "shell.execute_reply.started": "2023-03-16T15:39:25.830310Z"
        },
        "id": "uxfmTYt_B8Cm",
        "outputId": "cdb221fa-cd73-40aa-cd61-06a37ab84e11",
        "trusted": true
      },
      "outputs": [
        {
          "name": "stdout",
          "output_type": "stream",
          "text": [
            "In an Oct. 19 review of `` The Misanthrope '' at Chicago 's Goodman Theatre -LRB- `` Revitalized Classics Take the Stage in Windy City , '' Leisure & Arts -RRB- , the role of Celimene , played by Kim Cattrall , was mistakenly attributed to Christina Haag .\n",
            "Ms. Haag plays Elianti .\n"
          ]
        }
      ],
      "source": [
        "!head -n 2 sentences.txt"
      ]
    },
    {
      "cell_type": "code",
      "execution_count": 9,
      "metadata": {
        "execution": {
          "iopub.execute_input": "2023-03-16T15:39:26.786260Z",
          "iopub.status.busy": "2023-03-16T15:39:26.785969Z",
          "iopub.status.idle": "2023-03-16T15:39:32.587550Z",
          "shell.execute_reply": "2023-03-16T15:39:32.586801Z",
          "shell.execute_reply.started": "2023-03-16T15:39:26.786226Z"
        },
        "id": "8xSUaso9vo1V",
        "trusted": true
      },
      "outputs": [],
      "source": [
        "args = {\n",
        "    \"pad_id\": 0,\n",
        "    \"bos_id\": 1,\n",
        "    \"eos_id\": 2,\n",
        "    \"unk_id\": 3,\n",
        "    \"input\": \"sentences.txt\",\n",
        "    \"vocab_size\": 16000,\n",
        "    \"model_prefix\": \"ptb\",\n",
        "}\n",
        "combined_args = \" \".join(\n",
        "    \"--{}={}\".format(key, value) for key, value in args.items())\n",
        "sentencepiece.SentencePieceTrainer.Train(combined_args)"
      ]
    },
    {
      "cell_type": "code",
      "execution_count": 10,
      "metadata": {
        "colab": {
          "base_uri": "https://localhost:8080/"
        },
        "execution": {
          "iopub.execute_input": "2023-03-16T15:39:32.591970Z",
          "iopub.status.busy": "2023-03-16T15:39:32.591444Z",
          "iopub.status.idle": "2023-03-16T15:39:33.531646Z",
          "shell.execute_reply": "2023-03-16T15:39:33.530738Z",
          "shell.execute_reply.started": "2023-03-16T15:39:32.591933Z"
        },
        "id": "Xj-OHYlppX4N",
        "outputId": "6f34176f-6eea-46f8-d4d7-3ad4695c82f5",
        "trusted": true
      },
      "outputs": [
        {
          "name": "stdout",
          "output_type": "stream",
          "text": [
            "<pad>\t0\n",
            "<s>\t0\n",
            "</s>\t0\n",
            "<unk>\t0\n",
            "s\t-2.85529\n",
            "▁,\t-3.27864\n",
            "▁the\t-3.386\n",
            "▁.\t-3.51108\n",
            "▁\t-3.70671\n",
            "▁to\t-4.02158\n"
          ]
        }
      ],
      "source": [
        "!head -n 10 ptb.vocab"
      ]
    },
    {
      "cell_type": "code",
      "execution_count": 11,
      "metadata": {
        "colab": {
          "base_uri": "https://localhost:8080/"
        },
        "execution": {
          "iopub.execute_input": "2023-03-16T15:39:33.534736Z",
          "iopub.status.busy": "2023-03-16T15:39:33.534106Z",
          "iopub.status.idle": "2023-03-16T15:39:33.571572Z",
          "shell.execute_reply": "2023-03-16T15:39:33.570759Z",
          "shell.execute_reply.started": "2023-03-16T15:39:33.534696Z"
        },
        "id": "SJYzMQxfvrr0",
        "outputId": "87042c99-96fb-4bb2-ef19-35a04f0dc5b5",
        "trusted": true
      },
      "outputs": [
        {
          "data": {
            "text/plain": [
              "True"
            ]
          },
          "execution_count": 11,
          "metadata": {},
          "output_type": "execute_result"
        }
      ],
      "source": [
        "VOCAB = sentencepiece.SentencePieceProcessor()\n",
        "VOCAB.Load(\"ptb.model\")"
      ]
    },
    {
      "cell_type": "markdown",
      "metadata": {
        "id": "qsxRb6TOVHn5"
      },
      "source": [
        "We define some constants here for special tokens that you may find useful in the following sections."
      ]
    },
    {
      "cell_type": "code",
      "execution_count": 12,
      "metadata": {
        "execution": {
          "iopub.execute_input": "2023-03-16T15:39:33.573375Z",
          "iopub.status.busy": "2023-03-16T15:39:33.572965Z",
          "iopub.status.idle": "2023-03-16T15:39:33.580134Z",
          "shell.execute_reply": "2023-03-16T15:39:33.579348Z",
          "shell.execute_reply.started": "2023-03-16T15:39:33.573337Z"
        },
        "id": "xheKi30BVVJC",
        "trusted": true
      },
      "outputs": [],
      "source": [
        "PAD_ID = VOCAB.PieceToId(\"<pad>\")\n",
        "BOS_ID = VOCAB.PieceToId(\"<s>\")\n",
        "EOS_ID = VOCAB.PieceToId(\"</s>\")\n",
        "UNK_ID = VOCAB.PieceToId(\"<unk>\")"
      ]
    },
    {
      "cell_type": "markdown",
      "metadata": {
        "id": "-uzrJDCU1Tei"
      },
      "source": [
        "## Part-of-Speech Tagging: Task Setup"
      ]
    },
    {
      "cell_type": "markdown",
      "metadata": {
        "id": "1P3NgM0cBHnD"
      },
      "source": [
        "We will now begin preparing for the part-of-speech tagging task.  In this task, we will label each word token in a sentence or corpus with a part-of-speech tag.  Note the difference between operating over word tokens in a corpus and Project 0 where we operated over unique word types.  In this setup, we may see each word type many times, and we also take the context where it appears into account.\n",
        "\n",
        "For this task we provide you with all of the data processing code, while you will implement the model using the Transformer architecture. However, please take note of the input pipeline here because you will need to implement your own data processing for the second half of the project.\n",
        "\n",
        "Although we would like to use a subword vocabulary to better handle rare words, the part-of-speech and parsing tasks are defined in terms of words, not subwords.  After encoding a sentence at the subword level with an encoder (LSTM or Transformer), we will then move to the word level by selecting a single representation per word.  In the `encode_sentence` function below, we will create a boolean mask to select from the last subword of every word.  Tagging decisions will be made based on the vector associated with this last subword. (You may modify this to, for example, use the first word piece instead, though that seems to perform slightly worse at least for the baseline model.)"
      ]
    },
    {
      "cell_type": "code",
      "execution_count": 13,
      "metadata": {
        "execution": {
          "iopub.execute_input": "2023-03-16T15:39:33.581687Z",
          "iopub.status.busy": "2023-03-16T15:39:33.581378Z",
          "iopub.status.idle": "2023-03-16T15:39:33.591153Z",
          "shell.execute_reply": "2023-03-16T15:39:33.590368Z",
          "shell.execute_reply.started": "2023-03-16T15:39:33.581652Z"
        },
        "id": "tvlk8axRvGiB",
        "trusted": true
      },
      "outputs": [],
      "source": [
        "def encode_sentence(sent):\n",
        "  \"\"\"Prepares a sentence for input to the model, including subword tokenization.\n",
        "\n",
        "  Args:\n",
        "    sent: a list of words (each word is a string)\n",
        "  Returns:\n",
        "    A tuple (ids, is_word_end).\n",
        "      ids: a list of token ids in the subword vocabulary\n",
        "      is_word_end: a list with elements of type bool, where True indicates that\n",
        "                   the word piece at that position is the last within its word.\n",
        "  \"\"\"\n",
        "  ids = []\n",
        "  is_word_end = []\n",
        "  for word in sent:\n",
        "    word_ids = VOCAB.EncodeAsIds(word)\n",
        "    ids.extend(word_ids)\n",
        "    is_word_end.extend([False] * (len(word_ids) - 1) + [True])\n",
        "  return ids, is_word_end"
      ]
    },
    {
      "cell_type": "code",
      "execution_count": 14,
      "metadata": {
        "colab": {
          "base_uri": "https://localhost:8080/"
        },
        "execution": {
          "iopub.execute_input": "2023-03-16T15:39:33.592630Z",
          "iopub.status.busy": "2023-03-16T15:39:33.592231Z",
          "iopub.status.idle": "2023-03-16T15:39:33.609236Z",
          "shell.execute_reply": "2023-03-16T15:39:33.608526Z",
          "shell.execute_reply.started": "2023-03-16T15:39:33.592553Z"
        },
        "id": "5ww4AEIRvA6P",
        "outputId": "3de8484a-125c-41d5-87e3-d24287790c7d",
        "trusted": true
      },
      "outputs": [
        {
          "name": "stdout",
          "output_type": "stream",
          "text": [
            "Vocabulary size: 16000\n",
            "\n",
            "['In', 'an', 'Oct.', '19', 'review', 'of', '``', 'The', 'Misanthrope', \"''\", 'at', 'Chicago', \"'s\", 'Goodman', 'Theatre', '-LRB-', '``', 'Revitalized', 'Classics', 'Take', 'the', 'Stage', 'in', 'Windy', 'City', ',', \"''\", 'Leisure', '&', 'Arts', '-RRB-', ',', 'the', 'role', 'of', 'Celimene', ',', 'played', 'by', 'Kim', 'Cattrall', ',', 'was', 'mistakenly', 'attributed', 'to', 'Christina', 'Haag', '.']\n",
            "['▁In', '▁an', '▁Oct', '.', '▁19', '▁review', '▁of', '▁``', '▁The', '▁Mis', 'anthrop', 'e', \"▁''\", '▁at', '▁Chicago', \"▁'\", 's', '▁Good', 'man', '▁The', 'at', 're', '▁-', 'L', 'RB', '-', '▁``', '▁Rev', 'ital', 'ized', '▁Classic', 's', '▁Take', '▁the', '▁St', 'age', '▁in', '▁Wind', 'y', '▁City', '▁,', \"▁''\", '▁L', 'eisure', '▁', '&', '▁Art', 's', '▁-', 'R', 'RB', '-', '▁,', '▁the', '▁role', '▁of', '▁Cel', 'imene', '▁,', '▁play', 'ed', '▁by', '▁Kim', '▁Ca', 't', 't', 'rall', '▁,', '▁was', '▁mistaken', 'ly', '▁attribute', 'd', '▁to', '▁Christin', 'a', '▁Haag', '▁.']\n",
            "[True, True, False, True, True, True, True, True, True, False, False, True, True, True, True, False, True, False, True, False, False, True, False, False, False, True, True, False, False, True, False, True, True, True, False, True, True, False, True, True, True, True, False, True, False, True, False, True, False, False, False, True, True, True, True, True, False, True, True, False, True, True, True, False, False, False, True, True, True, False, True, False, True, True, False, True, True, True]\n",
            "In an Oct. 19 review of `` The Misanthrope '' at Chicago 's Goodman Theatre -LRB- `` Revitalized Classics Take the Stage in Windy City , '' Leisure & Arts -RRB- , the role of Celimene , played by Kim Cattrall , was mistakenly attributed to Christina Haag .\n",
            "[67, 45, 279, 14, 648, 1475, 10, 28, 25, 8232, 13326, 50, 30, 40, 661, 20, 4, 2060, 172, 25, 688, 180, 59, 92, 61, 19, 28, 2941, 1346, 1344, 7954, 4, 6381, 6, 1293, 1111, 16, 8054, 21, 1017, 5, 30, 516, 13789, 8, 103, 3050, 4, 59, 90, 61, 19, 5, 6, 1073, 10, 8301, 11897, 5, 711, 12, 36, 5354, 4662, 17, 17, 14568, 5, 41, 8602, 22, 2123, 13, 9, 14798, 132, 9362, 7]\n",
            "In an Oct. 19 review of `` The Misanthrope '' at Chicago 's Goodman Theatre -LRB- `` Revitalized Classics Take the Stage in Windy City , '' Leisure & Arts -RRB- , the role of Celimene , played by Kim Cattrall , was mistakenly attributed to Christina Haag .\n",
            "\n",
            "['Ms.', 'Haag', 'plays', 'Elianti', '.']\n",
            "['▁M', 's', '.', '▁Haag', '▁play', 's', '▁Eli', 'anti', '▁.']\n",
            "[False, False, True, True, False, True, False, True, True]\n",
            "Ms. Haag plays Elianti .\n",
            "[126, 4, 14, 9362, 711, 4, 4386, 8675, 7]\n",
            "Ms. Haag plays Elianti .\n",
            "\n"
          ]
        }
      ],
      "source": [
        "print(\"Vocabulary size:\", VOCAB.GetPieceSize())\n",
        "print()\n",
        "\n",
        "for sent in READER.sents('train')[:2]:\n",
        "  indices, is_word_end = encode_sentence(sent)\n",
        "  pieces = [VOCAB.IdToPiece(index) for index in indices]\n",
        "  print(sent)\n",
        "  print(pieces)\n",
        "  print(is_word_end)\n",
        "  print(VOCAB.DecodePieces(pieces))\n",
        "  print(indices)\n",
        "  print(VOCAB.DecodeIds(indices))\n",
        "  print()"
      ]
    },
    {
      "cell_type": "markdown",
      "metadata": {
        "id": "nZZGwaM4qWK6"
      },
      "source": [
        "Now we turn our attention to the desired output from the model, namely a sequence of part of speech tags. The `READER` object from NLTK has a method for returing word-and-tag tuples read from the data."
      ]
    },
    {
      "cell_type": "code",
      "execution_count": 15,
      "metadata": {
        "colab": {
          "base_uri": "https://localhost:8080/"
        },
        "execution": {
          "iopub.execute_input": "2023-03-16T15:39:33.610940Z",
          "iopub.status.busy": "2023-03-16T15:39:33.610614Z",
          "iopub.status.idle": "2023-03-16T15:39:33.618286Z",
          "shell.execute_reply": "2023-03-16T15:39:33.617333Z",
          "shell.execute_reply.started": "2023-03-16T15:39:33.610907Z"
        },
        "id": "tmO_829vG9RO",
        "outputId": "27e84531-f657-4e6b-b8f7-b6ebc57a31e7",
        "trusted": true
      },
      "outputs": [
        {
          "data": {
            "text/plain": [
              "[('Ms.', 'NNP'),\n",
              " ('Haag', 'NNP'),\n",
              " ('plays', 'VBZ'),\n",
              " ('Elianti', 'NNP'),\n",
              " ('.', '.')]"
            ]
          },
          "execution_count": 15,
          "metadata": {},
          "output_type": "execute_result"
        }
      ],
      "source": [
        "READER.tagged_sents('train')[1]"
      ]
    },
    {
      "cell_type": "markdown",
      "metadata": {
        "id": "gY26VRXtBR5J"
      },
      "source": [
        "Running the cell below will print a definition and some examples for each part-of-speech class."
      ]
    },
    {
      "cell_type": "code",
      "execution_count": 16,
      "metadata": {
        "colab": {
          "base_uri": "https://localhost:8080/"
        },
        "execution": {
          "iopub.execute_input": "2023-03-16T15:39:33.620171Z",
          "iopub.status.busy": "2023-03-16T15:39:33.619909Z",
          "iopub.status.idle": "2023-03-16T15:39:33.675211Z",
          "shell.execute_reply": "2023-03-16T15:39:33.674504Z",
          "shell.execute_reply.started": "2023-03-16T15:39:33.620139Z"
        },
        "id": "-iDS1lcXvQaN",
        "outputId": "a34f7910-5ab1-4f98-aa81-7b2b243755be",
        "trusted": true
      },
      "outputs": [
        {
          "name": "stdout",
          "output_type": "stream",
          "text": [
            "$: dollar\n",
            "    $ -$ --$ A$ C$ HK$ M$ NZ$ S$ U.S.$ US$\n",
            "'': closing quotation mark\n",
            "    ' ''\n",
            "(: opening parenthesis\n",
            "    ( [ {\n",
            "): closing parenthesis\n",
            "    ) ] }\n",
            ",: comma\n",
            "    ,\n",
            "--: dash\n",
            "    --\n",
            ".: sentence terminator\n",
            "    . ! ?\n",
            ":: colon or ellipsis\n",
            "    : ; ...\n",
            "CC: conjunction, coordinating\n",
            "    & 'n and both but either et for less minus neither nor or plus so\n",
            "    therefore times v. versus vs. whether yet\n",
            "CD: numeral, cardinal\n",
            "    mid-1890 nine-thirty forty-two one-tenth ten million 0.5 one forty-\n",
            "    seven 1987 twenty '79 zero two 78-degrees eighty-four IX '60s .025\n",
            "    fifteen 271,124 dozen quintillion DM2,000 ...\n",
            "DT: determiner\n",
            "    all an another any both del each either every half la many much nary\n",
            "    neither no some such that the them these this those\n",
            "EX: existential there\n",
            "    there\n",
            "FW: foreign word\n",
            "    gemeinschaft hund ich jeux habeas Haementeria Herr K'ang-si vous\n",
            "    lutihaw alai je jour objets salutaris fille quibusdam pas trop Monte\n",
            "    terram fiche oui corporis ...\n",
            "IN: preposition or conjunction, subordinating\n",
            "    astride among uppon whether out inside pro despite on by throughout\n",
            "    below within for towards near behind atop around if like until below\n",
            "    next into if beside ...\n",
            "JJ: adjective or numeral, ordinal\n",
            "    third ill-mannered pre-war regrettable oiled calamitous first separable\n",
            "    ectoplasmic battery-powered participatory fourth still-to-be-named\n",
            "    multilingual multi-disciplinary ...\n",
            "JJR: adjective, comparative\n",
            "    bleaker braver breezier briefer brighter brisker broader bumper busier\n",
            "    calmer cheaper choosier cleaner clearer closer colder commoner costlier\n",
            "    cozier creamier crunchier cuter ...\n",
            "JJS: adjective, superlative\n",
            "    calmest cheapest choicest classiest cleanest clearest closest commonest\n",
            "    corniest costliest crassest creepiest crudest cutest darkest deadliest\n",
            "    dearest deepest densest dinkiest ...\n",
            "LS: list item marker\n",
            "    A A. B B. C C. D E F First G H I J K One SP-44001 SP-44002 SP-44005\n",
            "    SP-44007 Second Third Three Two * a b c d first five four one six three\n",
            "    two\n",
            "MD: modal auxiliary\n",
            "    can cannot could couldn't dare may might must need ought shall should\n",
            "    shouldn't will would\n",
            "NN: noun, common, singular or mass\n",
            "    common-carrier cabbage knuckle-duster Casino afghan shed thermostat\n",
            "    investment slide humour falloff slick wind hyena override subhumanity\n",
            "    machinist ...\n",
            "NNP: noun, proper, singular\n",
            "    Motown Venneboerger Czestochwa Ranzer Conchita Trumplane Christos\n",
            "    Oceanside Escobar Kreisler Sawyer Cougar Yvette Ervin ODI Darryl CTCA\n",
            "    Shannon A.K.C. Meltex Liverpool ...\n",
            "NNPS: noun, proper, plural\n",
            "    Americans Americas Amharas Amityvilles Amusements Anarcho-Syndicalists\n",
            "    Andalusians Andes Andruses Angels Animals Anthony Antilles Antiques\n",
            "    Apache Apaches Apocrypha ...\n",
            "NNS: noun, common, plural\n",
            "    undergraduates scotches bric-a-brac products bodyguards facets coasts\n",
            "    divestitures storehouses designs clubs fragrances averages\n",
            "    subjectivists apprehensions muses factory-jobs ...\n",
            "PDT: pre-determiner\n",
            "    all both half many quite such sure this\n",
            "POS: genitive marker\n",
            "    ' 's\n",
            "PRP: pronoun, personal\n",
            "    hers herself him himself hisself it itself me myself one oneself ours\n",
            "    ourselves ownself self she thee theirs them themselves they thou thy us\n",
            "PRP$: pronoun, possessive\n",
            "    her his mine my our ours their thy your\n",
            "RB: adverb\n",
            "    occasionally unabatingly maddeningly adventurously professedly\n",
            "    stirringly prominently technologically magisterially predominately\n",
            "    swiftly fiscally pitilessly ...\n",
            "RBR: adverb, comparative\n",
            "    further gloomier grander graver greater grimmer harder harsher\n",
            "    healthier heavier higher however larger later leaner lengthier less-\n",
            "    perfectly lesser lonelier longer louder lower more ...\n",
            "RBS: adverb, superlative\n",
            "    best biggest bluntest earliest farthest first furthest hardest\n",
            "    heartiest highest largest least less most nearest second tightest worst\n",
            "RP: particle\n",
            "    aboard about across along apart around aside at away back before behind\n",
            "    by crop down ever fast for forth from go high i.e. in into just later\n",
            "    low more off on open out over per pie raising start teeth that through\n",
            "    under unto up up-pp upon whole with you\n",
            "SYM: symbol\n",
            "    % & ' '' ''. ) ). * + ,. < = > @ A[fj] U.S U.S.S.R * ** ***\n",
            "TO: \"to\" as preposition or infinitive marker\n",
            "    to\n",
            "UH: interjection\n",
            "    Goodbye Goody Gosh Wow Jeepers Jee-sus Hubba Hey Kee-reist Oops amen\n",
            "    huh howdy uh dammit whammo shucks heck anyways whodunnit honey golly\n",
            "    man baby diddle hush sonuvabitch ...\n",
            "VB: verb, base form\n",
            "    ask assemble assess assign assume atone attention avoid bake balkanize\n",
            "    bank begin behold believe bend benefit bevel beware bless boil bomb\n",
            "    boost brace break bring broil brush build ...\n",
            "VBD: verb, past tense\n",
            "    dipped pleaded swiped regummed soaked tidied convened halted registered\n",
            "    cushioned exacted snubbed strode aimed adopted belied figgered\n",
            "    speculated wore appreciated contemplated ...\n",
            "VBG: verb, present participle or gerund\n",
            "    telegraphing stirring focusing angering judging stalling lactating\n",
            "    hankerin' alleging veering capping approaching traveling besieging\n",
            "    encrypting interrupting erasing wincing ...\n",
            "VBN: verb, past participle\n",
            "    multihulled dilapidated aerosolized chaired languished panelized used\n",
            "    experimented flourished imitated reunifed factored condensed sheared\n",
            "    unsettled primed dubbed desired ...\n",
            "VBP: verb, present tense, not 3rd person singular\n",
            "    predominate wrap resort sue twist spill cure lengthen brush terminate\n",
            "    appear tend stray glisten obtain comprise detest tease attract\n",
            "    emphasize mold postpone sever return wag ...\n",
            "VBZ: verb, present tense, 3rd person singular\n",
            "    bases reconstructs marks mixes displeases seals carps weaves snatches\n",
            "    slumps stretches authorizes smolders pictures emerges stockpiles\n",
            "    seduces fizzes uses bolsters slaps speaks pleads ...\n",
            "WDT: WH-determiner\n",
            "    that what whatever which whichever\n",
            "WP: WH-pronoun\n",
            "    that what whatever whatsoever which who whom whosoever\n",
            "WP$: WH-pronoun, possessive\n",
            "    whose\n",
            "WRB: Wh-adverb\n",
            "    how however whence whenever where whereby whereever wherein whereof why\n",
            "``: opening quotation mark\n",
            "    ` ``\n"
          ]
        }
      ],
      "source": [
        "nltk.download('tagsets')\n",
        "nltk.help.upenn_tagset()"
      ]
    },
    {
      "cell_type": "markdown",
      "metadata": {
        "id": "veJzgeJDBdw1"
      },
      "source": [
        "We construct a part of speech tag vocabulary by iterating over all tags in the training data. Note that opening parentheses `(` are escaped as `-LRB-` in the data format (and similarly `)` is escaped as `-RRB-`)"
      ]
    },
    {
      "cell_type": "code",
      "execution_count": 17,
      "metadata": {
        "colab": {
          "base_uri": "https://localhost:8080/"
        },
        "execution": {
          "iopub.execute_input": "2023-03-16T15:39:33.676756Z",
          "iopub.status.busy": "2023-03-16T15:39:33.676422Z",
          "iopub.status.idle": "2023-03-16T15:39:36.919829Z",
          "shell.execute_reply": "2023-03-16T15:39:36.918923Z",
          "shell.execute_reply.started": "2023-03-16T15:39:33.676718Z"
        },
        "id": "u_QW5pk2G7-W",
        "outputId": "11e1e1f6-1a4e-413c-9e2b-7e64f2327163",
        "trusted": true
      },
      "outputs": [
        {
          "name": "stdout",
          "output_type": "stream",
          "text": [
            "['#', '$', \"''\", ',', '-LRB-', '-RRB-', '.', ':', 'CC', 'CD', 'DT', 'EX', 'FW', 'IN', 'JJ', 'JJR', 'JJS', 'LS', 'MD', 'NN', 'NNP', 'NNPS', 'NNS', 'PDT', 'POS', 'PRP', 'PRP$', 'RB', 'RBR', 'RBS', 'RP', 'SYM', 'TO', 'UH', 'VB', 'VBD', 'VBG', 'VBN', 'VBP', 'VBZ', 'WDT', 'WP', 'WP$', 'WRB', '``']\n"
          ]
        }
      ],
      "source": [
        "def get_pos_vocab():\n",
        "  all_pos = set()\n",
        "  for sent in READER.tagged_sents('train'):\n",
        "    for word, pos in sent:\n",
        "      all_pos.add(pos)\n",
        "  return sorted(all_pos)\n",
        "\n",
        "PARTS_OF_SPEECH = get_pos_vocab()\n",
        "print(PARTS_OF_SPEECH)"
      ]
    },
    {
      "cell_type": "markdown",
      "metadata": {
        "id": "ifj0Isu3B5Hj"
      },
      "source": [
        "The `POSTaggingDataset` object defined below is a PyTorch Dataset object for this task.\n",
        "\n",
        "Each example in the dataset is a feature dictionary, consisting of word piece `ids`, and corresponding label ids (`labels`). We associate a word's label with the last subword. Any remaining subwords, as well as special tokens like the start token or padding token, will have a label of -1 assigned to them. This will signal that we shouldn't compute a loss for that label.\n",
        "\n",
        "We also define a `collate` function that takes care of padding when examples are batched together. "
      ]
    },
    {
      "cell_type": "code",
      "execution_count": 18,
      "metadata": {
        "execution": {
          "iopub.execute_input": "2023-03-16T15:39:36.921561Z",
          "iopub.status.busy": "2023-03-16T15:39:36.921221Z",
          "iopub.status.idle": "2023-03-16T15:39:36.932672Z",
          "shell.execute_reply": "2023-03-16T15:39:36.931795Z",
          "shell.execute_reply.started": "2023-03-16T15:39:36.921522Z"
        },
        "id": "dT4iBQ1eBoSJ",
        "trusted": true
      },
      "outputs": [],
      "source": [
        "class POSTaggingDataset(torch.utils.data.Dataset):\n",
        "  def __init__(self, split):\n",
        "    assert split in ('train', 'dev', 'test')\n",
        "    self.sents = READER.tagged_sents(split)\n",
        "    if split == 'train':\n",
        "      # To speed up training, we only train on short sentences.\n",
        "      self.sents = [sent for sent in self.sents if len(sent) <= 40]\n",
        "\n",
        "  def __len__(self):\n",
        "    return len(self.sents)\n",
        "\n",
        "  def __getitem__(self, index):\n",
        "    sent = self.sents[index]\n",
        "    ids, is_word_end = encode_sentence([word for word, pos in sent])\n",
        "    ids = [BOS_ID] + ids + [EOS_ID]\n",
        "    is_word_end = [False] + is_word_end + [False]\n",
        "    ids = torch.tensor(ids)\n",
        "    is_word_end = torch.tensor(is_word_end)\n",
        "    labels = torch.full_like(ids, -1)\n",
        "    labels[is_word_end] = torch.tensor(\n",
        "        [PARTS_OF_SPEECH.index(pos) for word, pos in sent])\n",
        "    return {'ids': ids, 'labels': labels}\n",
        "\n",
        "  @staticmethod\n",
        "  def collate(batch):\n",
        "    ids = pad_sequence(\n",
        "        [item['ids'] for item in batch],\n",
        "        batch_first=True, padding_value=PAD_ID)\n",
        "    labels = pad_sequence(\n",
        "        [item['labels'] for item in batch],\n",
        "        batch_first=True, padding_value=-1)\n",
        "    return {'ids': ids.to(device), 'labels': labels.to(device)}"
      ]
    },
    {
      "cell_type": "code",
      "execution_count": 19,
      "metadata": {
        "colab": {
          "base_uri": "https://localhost:8080/"
        },
        "execution": {
          "iopub.execute_input": "2023-03-16T15:39:36.934298Z",
          "iopub.status.busy": "2023-03-16T15:39:36.934037Z",
          "iopub.status.idle": "2023-03-16T15:39:40.321514Z",
          "shell.execute_reply": "2023-03-16T15:39:40.320765Z",
          "shell.execute_reply.started": "2023-03-16T15:39:36.934264Z"
        },
        "id": "gt5E2Pr_skQL",
        "outputId": "b465e4a0-9973-4061-eccf-5e086998e23c",
        "trusted": true
      },
      "outputs": [
        {
          "data": {
            "text/plain": [
              "{'ids': tensor([   1,  126,    4,   14, 9362,  711,    4, 4386, 8675,    7,    2]),\n",
              " 'labels': tensor([-1, -1, -1, 20, 20, -1, 39, -1, 20,  6, -1])}"
            ]
          },
          "execution_count": 19,
          "metadata": {},
          "output_type": "execute_result"
        }
      ],
      "source": [
        "dataset_for_inspection = POSTaggingDataset('train')\n",
        "datum = dataset_for_inspection[0]\n",
        "datum"
      ]
    },
    {
      "cell_type": "code",
      "execution_count": 20,
      "metadata": {
        "colab": {
          "base_uri": "https://localhost:8080/"
        },
        "execution": {
          "iopub.execute_input": "2023-03-16T15:39:40.323011Z",
          "iopub.status.busy": "2023-03-16T15:39:40.322750Z",
          "iopub.status.idle": "2023-03-16T15:39:40.329064Z",
          "shell.execute_reply": "2023-03-16T15:39:40.328375Z",
          "shell.execute_reply.started": "2023-03-16T15:39:40.322977Z"
        },
        "id": "73v2WPBAGDFN",
        "outputId": "dc0ffb19-40ac-4d4b-ee36-06e62f1df006",
        "trusted": true
      },
      "outputs": [
        {
          "name": "stdout",
          "output_type": "stream",
          "text": [
            " 0 -     <s>\n",
            " 1 -     ▁M\n",
            " 2 -     s\n",
            " 3 NNP   .\n",
            " 4 NNP   ▁Haag\n",
            " 5 -     ▁play\n",
            " 6 VBZ   s\n",
            " 7 -     ▁Eli\n",
            " 8 NNP   anti\n",
            " 9 .     ▁.\n",
            "10 -     </s>\n"
          ]
        }
      ],
      "source": [
        "for i, (piece_id, label) in enumerate(zip(datum['ids'].tolist(),\n",
        "                                          datum['labels'].tolist())):\n",
        "  print('{:2d} {: <5} {}'.format(\n",
        "      i, \"-\" if label == -1 else PARTS_OF_SPEECH[label],\n",
        "      VOCAB.IdToPiece(piece_id)))"
      ]
    },
    {
      "cell_type": "code",
      "execution_count": 21,
      "metadata": {
        "colab": {
          "base_uri": "https://localhost:8080/"
        },
        "execution": {
          "iopub.execute_input": "2023-03-16T15:39:40.330654Z",
          "iopub.status.busy": "2023-03-16T15:39:40.330261Z",
          "iopub.status.idle": "2023-03-16T15:39:43.377261Z",
          "shell.execute_reply": "2023-03-16T15:39:43.376560Z",
          "shell.execute_reply.started": "2023-03-16T15:39:40.330611Z"
        },
        "id": "drIp8PNRJ_hP",
        "outputId": "bd09d201-c439-45ce-e27d-2d6b526ca446",
        "trusted": true
      },
      "outputs": [
        {
          "data": {
            "text/plain": [
              "{'ids': tensor([[    1,   239,    16,  2047,     5,  4668, 12836,    13,  1924, 14186,\n",
              "              5,  3292,    20,     4,   376,  2082,    10,   371,  2512,     4,\n",
              "              5,    26,   684,    11,   327,    19,   115,  1679,     9,  1513,\n",
              "              8,     4,   135,  1146,     4,    53,  3365,     9,  1148,  4031,\n",
              "              4,    23,   272,     4,  3634,    36,     6,   407,  5933,  4531,\n",
              "           3361,     7,     2],\n",
              "         [    1,  5136,  1301,     5,    93,    84,     4,   370,   294,    16,\n",
              "           2047,     5,     8,     3,  5544,     5,  6293,     5,  4335,  4239,\n",
              "             15,  5416,   177,     5,    15,     8,    71,  2410,    16,  4935,\n",
              "              7,     2,     0,     0,     0,     0,     0,     0,     0,     0,\n",
              "              0,     0,     0,     0,     0,     0,     0,     0,     0,     0,\n",
              "              0,     0,     0]], device='cuda:0'),\n",
              " 'labels': tensor([[-1,  8, 13, 20,  3, -1, -1, 20, -1, 20,  3, 20, -1, 24, 19, 19, 13, 14,\n",
              "          -1, 22,  3, -1, 35, 10, -1, -1, 14, 19, 32, 34, -1, -1, 14, -1, 22, 13,\n",
              "          19, 32, 14, -1, 22, 13, -1, 22, 37, 13, 10, -1, -1, 20, 19,  6, -1],\n",
              "         [-1, -1, 27,  3, 19, -1, 22, 35, 28, 13, 20,  3, -1, -1, 20,  3, 20,  3,\n",
              "          -1, 20,  8, -1, 20,  3,  8, -1, 35, 37, 13, 20,  6, -1, -1, -1, -1, -1,\n",
              "          -1, -1, -1, -1, -1, -1, -1, -1, -1, -1, -1, -1, -1, -1, -1, -1, -1]],\n",
              "        device='cuda:0')}"
            ]
          },
          "execution_count": 21,
          "metadata": {},
          "output_type": "execute_result"
        }
      ],
      "source": [
        "data_loader_for_inspection = torch.utils.data.DataLoader(\n",
        "    dataset_for_inspection, batch_size=2, shuffle=True,\n",
        "    collate_fn=dataset_for_inspection.collate)\n",
        "next(iter(data_loader_for_inspection))"
      ]
    },
    {
      "cell_type": "markdown",
      "metadata": {
        "id": "KiSPP3tdyaid"
      },
      "source": [
        "## Training Loop and Baseline POS Tagging Model"
      ]
    },
    {
      "cell_type": "markdown",
      "metadata": {
        "id": "gGIIy0230Zdc"
      },
      "source": [
        "Now it's time to build a model. At a high level, the model will encode the sentence using a Transformer architecture, then project to a softmax over the vocabulary at each word position.  We've implemented the overall model framework already, including computing the softmax cross-entropy loss for training the tagger."
      ]
    },
    {
      "cell_type": "code",
      "execution_count": 22,
      "metadata": {
        "execution": {
          "iopub.execute_input": "2023-03-16T15:39:47.449299Z",
          "iopub.status.busy": "2023-03-16T15:39:47.449034Z",
          "iopub.status.idle": "2023-03-16T15:39:47.459583Z",
          "shell.execute_reply": "2023-03-16T15:39:47.458107Z",
          "shell.execute_reply.started": "2023-03-16T15:39:47.449272Z"
        },
        "id": "Dz3pUko2L8Fj",
        "trusted": true
      },
      "outputs": [],
      "source": [
        "class POSTaggingModel(nn.Module):\n",
        "  def encode(self, batch):\n",
        "    # you will override this function in a subclass below\n",
        "    raise NotImplementedError()\n",
        "\n",
        "  def compute_loss(self, batch):\n",
        "    logits = self.encode(batch)\n",
        "    logits = logits.reshape((-1, logits.shape[-1]))\n",
        "    labels = batch['labels'].reshape((-1,))\n",
        "    res = F.cross_entropy(logits, labels, ignore_index=-1, reduction='mean')\n",
        "    return res\n",
        "  \n",
        "  def get_validation_metric(self, batch_size=8):\n",
        "    dataset = POSTaggingDataset('dev')\n",
        "    data_loader = torch.utils.data.DataLoader(\n",
        "      dataset, batch_size=batch_size, collate_fn=dataset.collate)\n",
        "    self.eval()\n",
        "    correct = 0\n",
        "    total = 0\n",
        "    with torch.no_grad():\n",
        "      for batch in data_loader:\n",
        "        mask = (batch['labels'] != -1)\n",
        "        predicted_labels = self.encode(batch).argmax(-1)\n",
        "        predicted_labels = predicted_labels[mask]\n",
        "        gold_labels = batch['labels'][mask]\n",
        "        correct += (predicted_labels == gold_labels).sum().item()\n",
        "        total += gold_labels.shape[0]\n",
        "    return correct / total"
      ]
    },
    {
      "cell_type": "markdown",
      "metadata": {
        "id": "jx9jJQb58nUY"
      },
      "source": [
        "We define the following functions for training.  This code will run as provided, but you are welcome to modify the training loop to adjust the optimizer settings, modify the learning rate schedule, etc.\n",
        "\n",
        "When training transformers, it has been found that early training can be unstable unless the learning rate starts out very low.  To alleviate this instability, we'll use a schedule where the learning rate is increased linearly from 0 to its maximum value during a warm-up phase, and is then decayed as training progresses.\n",
        "\n",
        "You may change the duration of the warmup phase or disable it entirely, but bear in mind that warmup is generally seen as a key ingredient for stably training Transformer models. "
      ]
    },
    {
      "cell_type": "code",
      "execution_count": 23,
      "metadata": {
        "execution": {
          "iopub.execute_input": "2023-03-16T15:40:09.010392Z",
          "iopub.status.busy": "2023-03-16T15:40:09.009762Z",
          "iopub.status.idle": "2023-03-16T15:40:09.021289Z",
          "shell.execute_reply": "2023-03-16T15:40:09.020533Z",
          "shell.execute_reply.started": "2023-03-16T15:40:09.010352Z"
        },
        "id": "VKc1pwaZzcUN",
        "trusted": true
      },
      "outputs": [],
      "source": [
        "def train(model, num_epochs, batch_size, model_file,\n",
        "          learning_rate=8e-4, dataset_cls=POSTaggingDataset):\n",
        "  \"\"\"Train the model and save its best checkpoint.\n",
        "  \n",
        "  Model performance across epochs is evaluated on the validation set. The best\n",
        "  checkpoint obtained during training will be stored on disk and loaded back\n",
        "  into the model at the end of training.\n",
        "  \"\"\"\n",
        "  dataset = dataset_cls('train')\n",
        "  data_loader = torch.utils.data.DataLoader(\n",
        "    dataset, batch_size=batch_size, shuffle=True, collate_fn=dataset.collate)\n",
        "  optimizer = torch.optim.Adam(\n",
        "      model.parameters(),\n",
        "      lr=learning_rate, betas=(0.9, 0.98), eps=1e-9)\n",
        "  scheduler = torch.optim.lr_scheduler.OneCycleLR(\n",
        "      optimizer,\n",
        "      learning_rate,\n",
        "      epochs=num_epochs,\n",
        "      steps_per_epoch=len(data_loader),\n",
        "      pct_start=0.02,  # Warm up for 2% of the total training time\n",
        "      )\n",
        "  best_metric = 0.0\n",
        "  for epoch in tqdm.notebook.trange(num_epochs, desc=\"training\", unit=\"epoch\"):\n",
        "    with tqdm.notebook.tqdm(\n",
        "        data_loader,\n",
        "        desc=\"epoch {}\".format(epoch + 1),\n",
        "        unit=\"batch\",\n",
        "        total=len(data_loader)) as batch_iterator:\n",
        "      model.train()\n",
        "      total_loss = 0.0\n",
        "      for i, batch in enumerate(batch_iterator, start=1):\n",
        "        optimizer.zero_grad()\n",
        "        loss = model.compute_loss(batch)\n",
        "        total_loss += loss.item()\n",
        "        loss.backward()\n",
        "        optimizer.step()\n",
        "        scheduler.step()\n",
        "        batch_iterator.set_postfix(mean_loss=total_loss / i)\n",
        "      validation_metric = model.get_validation_metric()\n",
        "      batch_iterator.set_postfix(\n",
        "          mean_loss=total_loss / i,\n",
        "          validation_metric=validation_metric)\n",
        "      if validation_metric > best_metric:\n",
        "        print(\n",
        "            \"Obtained a new best validation metric of {:.3f}, saving model \"\n",
        "            \"checkpoint to {}...\".format(validation_metric, model_file))\n",
        "        torch.save(model.state_dict(), model_file)\n",
        "        best_metric = validation_metric\n",
        "  print(\"Reloading best model checkpoint from {}...\".format(model_file))\n",
        "  model.load_state_dict(torch.load(model_file))"
      ]
    },
    {
      "cell_type": "markdown",
      "metadata": {
        "id": "GZYFBChe8-2F"
      },
      "source": [
        "We can now train a very simple baseline model that learns a single parameter per part of speech tag.\n",
        "\n",
        "A classifier where each word is assigned its most-frequent tag from the training data (and unknown words are treated as nouns) has 92.2% validation accuracy with our current splits. However, with our subword vocabulary (and taking the last subword as representative of each word), the accuracy is instead 87.6%. The `BaselineModel` should achieve roughly this accuracy."
      ]
    },
    {
      "cell_type": "code",
      "execution_count": 24,
      "metadata": {
        "execution": {
          "iopub.execute_input": "2023-03-16T15:40:09.695503Z",
          "iopub.status.busy": "2023-03-16T15:40:09.694785Z",
          "iopub.status.idle": "2023-03-16T15:40:09.701067Z",
          "shell.execute_reply": "2023-03-16T15:40:09.699454Z",
          "shell.execute_reply.started": "2023-03-16T15:40:09.695466Z"
        },
        "id": "pdKjXH-a2HyF",
        "trusted": true
      },
      "outputs": [],
      "source": [
        "class BaselineModel(POSTaggingModel):\n",
        "  def __init__(self):\n",
        "    super().__init__()\n",
        "    self.lookup = nn.Embedding(VOCAB.GetPieceSize(), len(PARTS_OF_SPEECH))\n",
        "\n",
        "  def encode(self, batch):\n",
        "    ids = batch['ids']\n",
        "    return self.lookup(ids)"
      ]
    },
    {
      "cell_type": "code",
      "execution_count": 25,
      "metadata": {
        "execution": {
          "iopub.execute_input": "2023-03-16T15:40:09.905958Z",
          "iopub.status.busy": "2023-03-16T15:40:09.905359Z",
          "iopub.status.idle": "2023-03-16T15:40:09.919964Z",
          "shell.execute_reply": "2023-03-16T15:40:09.919076Z",
          "shell.execute_reply.started": "2023-03-16T15:40:09.905922Z"
        },
        "id": "thNLsZ04Z0A-",
        "trusted": true
      },
      "outputs": [],
      "source": [
        "baseline_model = BaselineModel().to(device)\n",
        "#train(baseline_model, num_epochs=5, batch_size=64,\n",
        "#      model_file=\"baseline_model.pt\", learning_rate=0.1)"
      ]
    },
    {
      "cell_type": "markdown",
      "metadata": {
        "id": "4MEVY7vOKVbp"
      },
      "source": [
        "Having trained the model, we can examine its predictions on an example from the validation set."
      ]
    },
    {
      "cell_type": "code",
      "execution_count": 26,
      "metadata": {
        "execution": {
          "iopub.execute_input": "2023-03-16T15:40:10.823515Z",
          "iopub.status.busy": "2023-03-16T15:40:10.823253Z",
          "iopub.status.idle": "2023-03-16T15:40:10.832019Z",
          "shell.execute_reply": "2023-03-16T15:40:10.831101Z",
          "shell.execute_reply.started": "2023-03-16T15:40:10.823487Z"
        },
        "id": "Gh7Kx_R8VH0Q",
        "trusted": true
      },
      "outputs": [],
      "source": [
        "def predict_tags(tagging_model, split, limit=None):\n",
        "  assert split in ('dev', 'test')\n",
        "  sents = READER.sents(split)\n",
        "  dataset = POSTaggingDataset(split)\n",
        "  data_loader = torch.utils.data.DataLoader(\n",
        "    dataset, batch_size=8, shuffle=False, collate_fn=dataset.collate)\n",
        "  tagging_model.eval()\n",
        "  pred_tagged_sents = []\n",
        "  with torch.no_grad():\n",
        "    for batch in data_loader:\n",
        "      mask = (batch['labels'] != -1)\n",
        "      predicted_labels = tagging_model.encode(batch).argmax(-1)\n",
        "      for i in range(batch['ids'].shape[0]):\n",
        "        example_predicted_tags = [\n",
        "            PARTS_OF_SPEECH[label] for label in predicted_labels[i][mask[i]]]\n",
        "        sent = sents[len(pred_tagged_sents)]\n",
        "        assert len(sent) == len(example_predicted_tags)\n",
        "        pred_tagged_sents.append(list(zip(sent, example_predicted_tags)))\n",
        "        if limit is not None and len(pred_tagged_sents) >= limit:\n",
        "          return pred_tagged_sents\n",
        "  return pred_tagged_sents"
      ]
    },
    {
      "cell_type": "code",
      "execution_count": 27,
      "metadata": {
        "colab": {
          "base_uri": "https://localhost:8080/"
        },
        "execution": {
          "iopub.execute_input": "2023-03-16T15:40:11.595911Z",
          "iopub.status.busy": "2023-03-16T15:40:11.595629Z",
          "iopub.status.idle": "2023-03-16T15:40:11.771783Z",
          "shell.execute_reply": "2023-03-16T15:40:11.770904Z",
          "shell.execute_reply.started": "2023-03-16T15:40:11.595880Z"
        },
        "id": "_ZjD3vvyWg0s",
        "outputId": "0db44092-59ee-4245-8262-4673dbba7270",
        "trusted": true
      },
      "outputs": [
        {
          "data": {
            "text/plain": [
              "[[('Influential', 'IN'),\n",
              "  ('members', 'SYM'),\n",
              "  ('of', 'SYM'),\n",
              "  ('the', 'DT'),\n",
              "  ('House', 'RP'),\n",
              "  ('Ways', 'RP'),\n",
              "  ('and', 'UH'),\n",
              "  ('Means', 'RP'),\n",
              "  ('Committee', '#'),\n",
              "  ('introduced', 'WDT'),\n",
              "  ('legislation', 'IN'),\n",
              "  ('that', 'IN'),\n",
              "  ('would', 'VBP'),\n",
              "  ('restrict', 'POS'),\n",
              "  ('how', 'VBG'),\n",
              "  ('the', 'DT'),\n",
              "  ('new', 'UH'),\n",
              "  ('savings-and-loan', 'MD'),\n",
              "  ('bailout', 'WP$'),\n",
              "  ('agency', 'VB'),\n",
              "  ('can', 'VBD'),\n",
              "  ('raise', 'VBN'),\n",
              "  ('capital', 'LS'),\n",
              "  (',', 'VB'),\n",
              "  ('creating', '``'),\n",
              "  ('another', 'PRP'),\n",
              "  ('potential', '.'),\n",
              "  ('obstacle', 'VBG'),\n",
              "  ('to', 'TO'),\n",
              "  ('the', 'DT'),\n",
              "  ('government', 'TO'),\n",
              "  (\"'s\", 'RP'),\n",
              "  ('sale', 'JJ'),\n",
              "  ('of', 'SYM'),\n",
              "  ('sick', 'PRP$'),\n",
              "  ('thrifts', 'RP'),\n",
              "  ('.', 'WP$')]]"
            ]
          },
          "execution_count": 27,
          "metadata": {},
          "output_type": "execute_result"
        }
      ],
      "source": [
        "predict_tags(baseline_model, 'dev', limit=1)"
      ]
    },
    {
      "cell_type": "markdown",
      "metadata": {
        "id": "vb7NfD4BD7I_"
      },
      "source": [
        "## Transformer POS Tagging Model"
      ]
    },
    {
      "cell_type": "markdown",
      "metadata": {
        "id": "xRLmOHQzE4He"
      },
      "source": [
        "Your task is to implement the Transformer architecture (https://arxiv.org/pdf/1706.03762.pdf) and apply it to tagging.\n",
        "\n",
        "Here is a diagram of the architecture you will implement:\n",
        "\n",
        "<img src=\"https://www.researchgate.net/publication/334288604/figure/fig1/AS:778232232148992@1562556431066/The-Transformer-encoder-structure.ppm\" width=\"180em\">\n",
        "\n",
        "This portion is referred to as the \"Transformer Encoder\". In the paper there is also a decoder portion for generating text one token at a time; such a decoder is not needed for this project.\n",
        "\n",
        "The key elements of the Transformer are a multi-headed attention mechanism, and a feed-forward layer.\n",
        "\n",
        "Each sub-layer (whether multi-head attention of feed forward) uses a residual connection followed by Layer Normalization (`nn.LayerNorm` in pytorch). Both residual connections and normalizations are crucial to being able to train a model that's more than a couple layers deep.\n"
      ]
    },
    {
      "cell_type": "markdown",
      "metadata": {
        "id": "xbL92ahgw09l"
      },
      "source": [
        "The first part is multi-head self-attention. In this layer, you will need to:\n",
        "- Apply linear projections to convert the feature vector at each token into separate vectors for the query, key, and value.\n",
        "- Apply attention, scaling the logits by $\\frac{1}{sqrt(d_{qkv})}$.\n",
        "- Ensure proper masking, such that padding tokens are never attended to.\n",
        "- Perform attention `n_head` times in parallel, where the results are concatenated and then projected using a linear layer.\n",
        "\n",
        "<img src=\"https://www.researchgate.net/publication/332139525/figure/fig3/AS:743081083158528@1554175744311/a-The-Transformer-model-architecture-b-left-Scaled-Dot-Product-Attention.ppm\" width=\"360em\">\n",
        "\n",
        "You should include two types of dropout in your code (with probability set by the  `dropout` argument):\n",
        "- Dropout should be applied to the output of the attention layer (just prior to the residual connection, denoted by \"Add & Norm\" in the first figure)\n",
        "- Dropout should *also* be applied to attention probabilites, right after the softmax operation that's applied to query-key dot products. This type of dropout stochastically prevents a query position from attending to a fraction of key positions, which can help generalization. (Note that the probabilities will no longer sum to 1, but that's okay - they will still have an expectation of 1 due to PyTorch's dropout rescaling)\n",
        "\n",
        "Notes:\n",
        "- Query, key, and value vectors should have shape `[batch_size, n_heads, sequence_len, d_qkv]`\n",
        "- Attention logits and probabilities should have shape `[batch_size, n_heads, sequence_len, sequence_len]`\n",
        "- Vaswani et al. define the output of the attention layer as concatenating the various heads and then multiplying by a matrix $W^O$. It's also possible to implement this is a sum without ever calling `torch.cat`: note that $\\text{Concat}(head_1, \\ldots, head_h)W^O = head_1 W^O_1 + \\ldots + head_h W^O_h$ where $W^O = \\begin{bmatrix} W^O_1\\\\ \\vdots\\\\ W^O_h\\end{bmatrix}$"
      ]
    },
    {
      "cell_type": "code",
      "execution_count": 28,
      "metadata": {
        "execution": {
          "iopub.execute_input": "2023-03-16T18:27:05.566317Z",
          "iopub.status.busy": "2023-03-16T18:27:05.566065Z",
          "iopub.status.idle": "2023-03-16T18:27:05.579912Z",
          "shell.execute_reply": "2023-03-16T18:27:05.577241Z",
          "shell.execute_reply.started": "2023-03-16T18:27:05.566288Z"
        },
        "id": "IZ4v4TKJXzdE",
        "trusted": true
      },
      "outputs": [],
      "source": [
        "import pdb\n",
        "\n",
        "class MultiHeadAttention(nn.Module):\n",
        "  def __init__(self, d_model=256, n_head=8, d_qkv=64, dropout=0.1, **kwargs):\n",
        "    super().__init__()\n",
        "    self.d_model = d_model\n",
        "    self.n_head = n_head\n",
        "    self.d_qkv = d_qkv\n",
        "\n",
        "    # We provide these model parameters to give an example of a weight\n",
        "    # initialization approach that we know works well for our tasks. Feel free\n",
        "    # to delete these lines and write your own, if you would like.\n",
        "    # self.w_q = nn.Parameter(torch.Tensor(n_head, d_model, d_qkv))\n",
        "    # self.w_k = nn.Parameter(torch.Tensor(n_head, d_model, d_qkv))\n",
        "    # self.w_v = nn.Parameter(torch.Tensor(n_head, d_model, d_qkv))\n",
        "    # self.w_o = nn.Parameter(torch.Tensor(n_head, d_qkv, d_model))\n",
        "    # nn.init.xavier_normal_(self.w_q)\n",
        "    # nn.init.xavier_normal_(self.w_k)\n",
        "    # nn.init.xavier_normal_(self.w_v)\n",
        "    # nn.init.xavier_normal_(self.w_o)\n",
        "\n",
        "    # The hyperparameters given as arguments to this function and others\n",
        "    # should be sufficient to reach the score targets for this project\n",
        "\n",
        "    \"\"\"YOUR CODE HERE\"\"\"\n",
        "\n",
        "    # BEGIN SOLUTION\n",
        "\n",
        "    self.q_w = nn.Linear(d_model, n_head * d_qkv)\n",
        "    self.k_w = nn.Linear(d_model, n_head * d_qkv)\n",
        "    self.v_w = nn.Linear(d_model, n_head * d_qkv)\n",
        "    \n",
        "    self.o_w = nn.Linear(n_head * d_qkv, d_model)\n",
        "    self.dropout = nn.Dropout(dropout)\n",
        "\n",
        "    self.scale_factor = d_qkv ** -0.5\n",
        "    self.softmax = nn.Softmax(dim=-1)\n",
        " \n",
        "    # END SOLUTION\n",
        "  \n",
        "  def forward(self, x, mask):\n",
        "    \"\"\"Runs the multi-head self-attention layer.\n",
        "\n",
        "    Args:\n",
        "      x: the input to the layer, a tensor of shape [batch size, length, d_model]\n",
        "      mask: a mask for disallowing attention to padding tokens. You will need to\n",
        "            construct the mask yourself further on in this notebook. You may\n",
        "            implement masking in any way; there is no requirement that you use\n",
        "            a particular form for the mask object.\n",
        "    Returns:\n",
        "      A single tensor containing the output from this layer\n",
        "    \"\"\"\n",
        "    \"\"\"YOUR CODE HERE\"\"\"\n",
        "    # Implementation tip: using torch.einsum will greatly simplify the code that\n",
        "    # you need to write.\n",
        "    \n",
        "    q = self.q_w(x)\n",
        "    k = self.k_w(x)\n",
        "    v = self.v_w(x)\n",
        "\n",
        "    # reshape the tensors to have n_head dimensions\n",
        "    q = q.view(q.shape[0], q.shape[1], self.n_head, self.d_qkv)\n",
        "    k = k.view(k.shape[0], k.shape[1], self.n_head, self.d_qkv)\n",
        "    v = v.view(v.shape[0], v.shape[1], self.n_head, self.d_qkv)\n",
        "\n",
        "    # transpose the tensors to prepare them for the batch matrix multiplication\n",
        "    q = q.transpose(1, 2)\n",
        "    k = k.transpose(1, 2)\n",
        "    v = v.transpose(1, 2)\n",
        "\n",
        "    # calculate the dot products\n",
        "    qk = torch.einsum('b h i d, b h j d -> b h i j', q, k)\n",
        "\n",
        "    # scale the dot products\n",
        "    qk /= np.sqrt(self.d_qkv)\n",
        "\n",
        "    # mask the padded positions if mask is not None\n",
        "    if mask is not None:\n",
        "        qk = qk.masked_fill(mask == 0, float('-inf'))\n",
        "\n",
        "    # apply the softmax activation\n",
        "    attn_weights = F.softmax(qk, dim=-1)\n",
        "\n",
        "    # apply the dropout\n",
        "    attn_weights = self.dropout(attn_weights)\n",
        "\n",
        "    # calculate the weighted sum of the values\n",
        "    weighted_sum = torch.einsum('b h i j, b h j d -> b h i d', attn_weights, v)\n",
        "\n",
        "    # concatenate the n_head dimensions back into the d_model dimension\n",
        "    weighted_sum = weighted_sum.transpose(1, 2)\n",
        "    weighted_sum = weighted_sum.contiguous().view(weighted_sum.shape[0], weighted_sum.shape[1], -1)\n",
        "\n",
        "    # apply the final linear layer\n",
        "    attn_output = self.o_w(weighted_sum)\n",
        "\n",
        "    return attn_output\n",
        "\n",
        "\n",
        "#     # BEGIN SOLUTION\n",
        "#     batch_size, seq_len, d_model = x.size()\n",
        "\n",
        "#     # Linear transformation of input to query, key, and value\n",
        "#     q = self.q_w(x).view(batch_size, seq_len, self.n_head, self.d_qkv).transpose(1, 2)\n",
        "#     k = self.k_w(x).view(batch_size, seq_len, self.n_head, self.d_qkv).transpose(1, 2)\n",
        "#     v = self.v_w(x).view(batch_size, seq_len, self.n_head, self.d_qkv).transpose(1, 2)\n",
        "\n",
        "#     # Compute attention scores using dot product\n",
        "#     scores = torch.matmul(q, k.transpose(-2, -1)) / np.sqrt(self.d_qkv)\n",
        "    \n",
        "    \n",
        "#     if mask is not None:\n",
        "# #         print(scores.shape)\n",
        "#         # scores = scores.masked_fill(mask == 0, -1e9)\n",
        "#           scores = scores.masked_fill(mask==0, float(\"-inf\"))\n",
        "#     attn_weights = F.softmax(scores, dim=-1)\n",
        "#     attn_weights = self.dropout(attn_weights)\n",
        "\n",
        "#     # Compute attention output\n",
        "#     attn_output = torch.matmul(attn_weights, v)\n",
        "\n",
        "#     # Reshape attention output and apply linear transformation\n",
        "#     attn_output = attn_output.transpose(1, 2).contiguous().view(batch_size, seq_len, -1)\n",
        "#     attn_output = self.o_w(attn_output)\n",
        "    \n",
        "# #     print(scores.shape)\n",
        "# #     print(mask.shape)\n",
        "# #     print('hi')\n",
        "    \n",
        "#     return attn_output\n",
        "#     # END SOLUTION"
      ]
    },
    {
      "cell_type": "markdown",
      "metadata": {
        "id": "BSLWy_8Ne82f"
      },
      "source": [
        "The other component is the position-wise feed forward layer. This layer's architecture is sometimes called dense-relu-dense, because it consists of two dense linear layers with ReLU nonlinearity in the middle. The dropout here is typically applied at the output of the layer instead of next to the non-linearity in the middle."
      ]
    },
    {
      "cell_type": "code",
      "execution_count": 29,
      "metadata": {
        "execution": {
          "iopub.execute_input": "2023-03-16T18:27:06.659589Z",
          "iopub.status.busy": "2023-03-16T18:27:06.659321Z",
          "iopub.status.idle": "2023-03-16T18:27:06.667157Z",
          "shell.execute_reply": "2023-03-16T18:27:06.665345Z",
          "shell.execute_reply.started": "2023-03-16T18:27:06.659559Z"
        },
        "id": "aYq9acgnXvhk",
        "trusted": true
      },
      "outputs": [],
      "source": [
        "class PositionwiseFeedForward(nn.Module):\n",
        "  def __init__(self, d_model, d_ff, dropout=0.1):\n",
        "    super().__init__()\n",
        "    \"\"\"YOUR CODE HERE\"\"\"\n",
        "\n",
        "    # BEGIN SOLUTION\n",
        "    self.linear1 = nn.Linear(d_model, d_ff)\n",
        "    self.relu = nn.ReLU()\n",
        "    self.dropout = nn.Dropout(dropout)\n",
        "    self.linear2 = nn.Linear(d_ff, d_model)\n",
        "    # END SOLUTION\n",
        "\n",
        "  def forward(self, x):\n",
        "    \"\"\"YOUR CODE HERE\"\"\"\n",
        "\n",
        "    # BEGIN SOLUTION\n",
        "    out = self.linear1(x)\n",
        "    out = self.relu(out)\n",
        "    out = self.dropout(out)\n",
        "    out = self.linear2(out)\n",
        "    return out\n",
        "    # END SOLUTION"
      ]
    },
    {
      "cell_type": "markdown",
      "metadata": {
        "id": "Gm0-10wAfA5N"
      },
      "source": [
        "Combining the two gives the full transformer encoder architecture."
      ]
    },
    {
      "cell_type": "code",
      "execution_count": 30,
      "metadata": {
        "execution": {
          "iopub.execute_input": "2023-03-16T18:27:07.238798Z",
          "iopub.status.busy": "2023-03-16T18:27:07.238538Z",
          "iopub.status.idle": "2023-03-16T18:27:07.250597Z",
          "shell.execute_reply": "2023-03-16T18:27:07.249901Z",
          "shell.execute_reply.started": "2023-03-16T18:27:07.238767Z"
        },
        "id": "CahKqIbqKDTf",
        "trusted": true
      },
      "outputs": [],
      "source": [
        "class ResidualConnection(nn.Module):\n",
        "    def __init__(self, d_model, dropout):\n",
        "        super().__init__()\n",
        "        self.dropout = nn.Dropout(dropout)\n",
        "        self.layer_norm = nn.LayerNorm(d_model)\n",
        "\n",
        "    def forward(self, x, residual):\n",
        "        return self.layer_norm(residual + self.dropout(x))\n",
        "    \n",
        "    \n",
        "class TransformerEncoder(nn.Module):\n",
        "  def __init__(self, d_model=256, d_ff=1024, n_layers=8, n_head=8, d_qkv=64,\n",
        "               dropout=0.1):\n",
        "    super().__init__()\n",
        "    # Implementation tip: if you are storing nn.Module objects in a list, use\n",
        "    # nn.ModuleList. If you use assignment statements of the form\n",
        "    # `self.sublayers = [x, y, z]` with a plain python list instead of a\n",
        "    # ModuleList, you might find that none of the sub-layer parameters are\n",
        "    # trained.\n",
        "\n",
        "    \"\"\"YOUR CODE HERE\"\"\"\n",
        "\n",
        "    # BEGIN SOLUTION\n",
        "    self.d_model = d_model\n",
        "    self.d_ff = d_ff\n",
        "    self.n_layers = n_layers\n",
        "    self.n_head = n_head\n",
        "    self.d_qkv = d_qkv\n",
        "    self.dropout = nn.Dropout(p=dropout)\n",
        "\n",
        "    self.self_attentions = nn.ModuleList([MultiHeadAttention(d_model, n_head, d_qkv) for _ in range(n_layers)])\n",
        "    self.pos_ffns = nn.ModuleList([PositionwiseFeedForward(d_model, d_ff) for _ in range(n_layers)])\n",
        "    self.layer_norms = nn.ModuleList([nn.LayerNorm(d_model) for _ in range(n_layers)])\n",
        "    self.residual_connections = nn.ModuleList([ResidualConnection(d_model, dropout) for _ in range(n_layers)])\n",
        "\n",
        "    # END SOLUTION\n",
        "\n",
        "  def forward(self, x, mask):\n",
        "    \"\"\"Runs the Transformer encoder.\n",
        "\n",
        "    Args:\n",
        "      x: the input to the Transformer, a tensor of shape\n",
        "         [batch size, length, d_model]\n",
        "      mask: a mask for disallowing attention to padding tokens. You will need to\n",
        "            construct the mask yourself further on in this notebook. You may\n",
        "            implement masking in any way; there is no requirement that you use\n",
        "            a particular form for the mask object.\n",
        "    Returns:\n",
        "      A single tensor containing the output from the Transformer\n",
        "    \"\"\"\n",
        "\n",
        "    \"\"\"YOUR CODE HERE\"\"\"\n",
        "\n",
        "    # BEGIN SOLUTION\n",
        "    for i in range(self.n_layers):\n",
        "        # Multi-head attention\n",
        "        attn = self.self_attentions[i](x, mask)\n",
        "        drop = self.dropout(attn)\n",
        "        norm = self.layer_norms[i](self.residual_connections[i](drop, x))\n",
        "\n",
        "        # Position-wise feedforward network\n",
        "        ffn = self.pos_ffns[i](norm)\n",
        "        drop = self.dropout(ffn)\n",
        "        out = self.layer_norms[i](self.residual_connections[i](drop, norm))\n",
        "        \n",
        "        x = out\n",
        "\n",
        "    return x\n",
        "    # END SOLUTION"
      ]
    },
    {
      "cell_type": "markdown",
      "metadata": {
        "id": "m2mLail6UMjN"
      },
      "source": [
        "Unlike with recurrent neural networks, word order is not encoded in the Transformer architecture directly. Instead, positions of words are provided in the form of position embeddings that are added to the feature vector of each word. The exact formulation of the position embeddings tends to be implementation-dependent, and a number of approaches have been proposed in the literature. The `AddPositionalEncoding` class below provides a version of positional encoding, with dropout, that we found to work well for parsing (the second task in this assignment). However, you are allowed to use a different implementation if you would like."
      ]
    },
    {
      "cell_type": "code",
      "execution_count": 31,
      "metadata": {
        "execution": {
          "iopub.execute_input": "2023-03-16T18:27:07.839614Z",
          "iopub.status.busy": "2023-03-16T18:27:07.839335Z",
          "iopub.status.idle": "2023-03-16T18:27:07.846708Z",
          "shell.execute_reply": "2023-03-16T18:27:07.845584Z",
          "shell.execute_reply.started": "2023-03-16T18:27:07.839580Z"
        },
        "id": "OQx5ZmlZt0H2",
        "trusted": true
      },
      "outputs": [],
      "source": [
        "class AddPositionalEncoding(nn.Module):\n",
        "  def __init__(self, d_model=256, input_dropout=0.1, timing_dropout=0.1,\n",
        "               max_len=512):\n",
        "    super().__init__()\n",
        "    self.timing_table = nn.Parameter(torch.FloatTensor(max_len, d_model))\n",
        "    nn.init.normal_(self.timing_table)\n",
        "    self.input_dropout = nn.Dropout(input_dropout)\n",
        "    self.timing_dropout = nn.Dropout(timing_dropout)\n",
        "  \n",
        "  def forward(self, x):\n",
        "    \"\"\"\n",
        "    Args:\n",
        "      x: A tensor of shape [batch size, length, d_model]\n",
        "    \"\"\"\n",
        "    x = self.input_dropout(x)\n",
        "    timing = self.timing_table[None, :x.shape[1], :]\n",
        "    timing = self.timing_dropout(timing)\n",
        "    return x + timing"
      ]
    },
    {
      "cell_type": "markdown",
      "metadata": {
        "id": "RK6B7pvEVl-H"
      },
      "source": [
        "Complete the `TransformerPOSTaggingModel` below. Your goal is to achieve a target of 95% accuracy, or higher, on the validation set."
      ]
    },
    {
      "cell_type": "code",
      "execution_count": 32,
      "metadata": {
        "execution": {
          "iopub.execute_input": "2023-03-16T18:27:08.465576Z",
          "iopub.status.busy": "2023-03-16T18:27:08.464801Z",
          "iopub.status.idle": "2023-03-16T18:27:08.472372Z",
          "shell.execute_reply": "2023-03-16T18:27:08.471651Z",
          "shell.execute_reply.started": "2023-03-16T18:27:08.465539Z"
        },
        "id": "inIqeRH6VlfW",
        "trusted": true
      },
      "outputs": [],
      "source": [
        "class TransformerPOSTaggingModel(POSTaggingModel):\n",
        "  def __init__(self):\n",
        "    super().__init__()\n",
        "    d_model = 256\n",
        "    self.add_timing = AddPositionalEncoding(d_model)\n",
        "    self.encoder = TransformerEncoder(d_model)\n",
        "    \"\"\"YOUR CODE HERE.\"\"\"\n",
        "\n",
        "    # BEGIN SOLUTION\n",
        "    self.embedding = nn.Embedding(VOCAB.GetPieceSize(), d_model)\n",
        "    self.norm = nn.LayerNorm(d_model)\n",
        "    self.projection = nn.Linear(d_model, len(PARTS_OF_SPEECH))\n",
        "    # END SOLUTION\n",
        "\n",
        "  def encode(self, batch):\n",
        "    \"\"\"\n",
        "    Args:\n",
        "      batch: an input batch as a dictionary; the key 'ids' holds the vocab ids\n",
        "        of the subword tokens in a tensor of size [batch_size, sequence_length]\n",
        "    Returns:\n",
        "      A single tensor containing logits for each subword token\n",
        "        You don't need to filter the unlabeled subwords - this is handled by our\n",
        "        code above.\n",
        "    \"\"\"\n",
        "\n",
        "    # Implementation tip: you will want to use another normalization layer\n",
        "    # between the output of the encoder and the final projection layer\n",
        "\n",
        "    \"\"\"YOUR CODE HERE.\"\"\"\n",
        "\n",
        "    # BEGIN SOLUTION\n",
        "    ids = batch['ids']\n",
        "    mask = (ids != 0).unsqueeze(1).unsqueeze(2)\n",
        "    embeddings = self.embedding(ids)\n",
        "    embeddings = self.add_timing(embeddings)\n",
        "    hidden_states = self.encoder(embeddings, mask)\n",
        "    hidden_states = self.norm(hidden_states)\n",
        "    logits = self.projection(hidden_states)\n",
        "    return logits\n",
        "    # END SOLUTION"
      ]
    },
    {
      "cell_type": "code",
      "execution_count": null,
      "metadata": {
        "colab": {
          "base_uri": "https://localhost:8080/",
          "height": 540,
          "referenced_widgets": [
            "43ace51490a54ff588630f840cf1efd6",
            "3da47cde049a4c12bf67136dbe121c9b",
            "744f8532321443cb9eb4472a2c1d980b",
            "c743074f55b74a51b0e92b9545630fa1",
            "bf3c8622e59243138e0e17395311199a",
            "fa77a65efecf450387f3c2f363badcf1",
            "6566b0d5dbfa4ca4bde114f17de9fc0a",
            "b7d3ebfbecb14171afa8c77a82094b9a",
            "8ed4a53289084a8ea6a36f50c7b10d9d",
            "14d050d52a5b4508887f7b2537ac6283",
            "d7dbb79108cc4cab910bfe6c247cc53e",
            "b7dd75f4991d48ecafe89e8db0090f95",
            "1b31866d2d3a4a538284d16b29666a4d",
            "65f6566bb74f4b54bb77710f808c3064",
            "dd77d0b7ab4e4abfb6fc722703ce73fd",
            "943b7654a6664eff9d4599ce412de565",
            "983026ff9de6466ea161a6e5bd1b46af",
            "6f5ba683e652456d899303c16e1f290c",
            "a4963aa7b3ed46aaafd914409fed6aaf",
            "d2d3fa76e9ed431db22071b25747fad5",
            "397da604523f42eea8c916c43ba04e17",
            "94282642cba54211a41c7ddb08e6895a",
            "2534ce7141254f8eb1130c8c3f076ca0",
            "8919dd0080724ace90801e7990bdfba3",
            "ae2f7997337c4a83a59bc9a440c665c7",
            "566a1205bd77406db5890d2201283afb",
            "f4511d8c0bbd4936b0c3a36084ce7651",
            "3bfeb0271549492e8f88537efc80b96e",
            "ad6d046434e0409ebdeec7774ef8bd63",
            "6b8509e0e4c44bc8b4c2a7f40d7aa69a",
            "89adb0d3de23443b8d542840f0d76c40",
            "9d25876a60a74abc9fe679c4637f25b7",
            "11843df37d144659a506abdd327cb83c",
            "00568c68eb4b41fb8bbb1fc6dc650714",
            "70ddfdb6f53f494bb5a16a7a8ab60364",
            "d6b09b9644d44163847ebbc289e7856c",
            "7fe77254267543a281d4e81d6122696e",
            "9836524747324c0b90170d1fd61d1bf2",
            "8141b4e041b04544a3b9bd78b38f5eaf",
            "e3352b334c784b8cbce158f822b2f071",
            "ac18ac18c7a94684bfcafc1e693361cc",
            "12b97d638db249eeb7d6d603839712bf",
            "abe1516da7354ccbaa14e218b3f26e7b",
            "2b02c613f4e5482aa6bc51c5de00adac",
            "60c4298f41294b95a59ee0504a067be3",
            "d229ac42e45c4dbba3ca502a83bd92dd",
            "8742063d7761468e8ba258abb5086fda",
            "e0dd7b0494e2479e8a4199be42079517",
            "2a49922c65b74bddbd8a7e27beec449a",
            "80651e12d845427281806143ca1a8b15",
            "fb578e88ea02492cbdb8b51d4d6fa68f",
            "a95a1cf547644461b935e461710cf331",
            "8ccaa2fb5d444b4abbc5febd01880b95",
            "cf0b5b700751460c9dd24d874f82fcb2",
            "bcc772c0b2ef4c66a86a5064d2ff46dc",
            "284dd72227c0403094fd239c58afb0f6",
            "d455b2b345a04b4d8f82cb283ed6cf20",
            "faf02cc7c9e5449e8d6a43a9ebfea612",
            "6257ea76c47c4bd4bac4d4c1ad376ff2",
            "b2b7773448124cc5951ce80b2450a0f2",
            "eb998e164ca64e24a67930aee9bd186d",
            "2e1fbd4804fb4cb4a969c3f265a8917e",
            "5ceddea164844ae4b7374f29a3c224cf",
            "ffea60da698c46cd9611bbf433844053",
            "52b910841fb04b6c8da00d5e7f91f15c",
            "d215b50de9a1431c9d05b9b0a4f5eaf8",
            "0b82bdc5d3e44891a5fc11f3a6f737ca",
            "9cf9f2e9663141a4a4c31895390c6a33",
            "df942f3901f141e79bd726059556c2e7",
            "f75aed72edea4e1bbbe12459ad2a50af",
            "049200118ff54f8888a1943437427528",
            "0ace9e49e247459d987e382d957eee02",
            "a7ddee2f39d84f4dbe11f18687533d05",
            "4c44799686fd4f95a43adbc9fd599813",
            "c4118fc3dc92410f894409fdcac10606",
            "8144f31e914149059181d27cd6e33091",
            "4c58deac608a4199b9e291ac877291bc",
            "239d42739a4c47389700f258bf5b854d",
            "b379814f06b445b48dabbadd2acec0b7",
            "295fd609508546ca84083bdcd7599f78",
            "4c4b7115e04f4f41b0d9c72cdecba504",
            "3c1bc6e26b60436ea26fa32e45fa3a14",
            "9811b98fa60e477d84d9492f77e9c981",
            "5c6200847d114de18854c04d74c78466",
            "2e92f24087744a32a5ca9392937bdcf3",
            "671264768c504ac9ac4836a01264ffcd",
            "faae4b79b72849eebc78a5bc63fbcd78",
            "1ea7b2d2fe594cabb3b14d4357749dd6",
            "569e190525634a93989012c6710df8af",
            "6f2a1cec390d49b0915e236d7e51a33b",
            "b55a6cbe77354032879a45a67a4c793c",
            "c2bc08e4d59f434197e392b3b9e66638",
            "3add02560a584d0bb10b87ef34e426ba",
            "c729b3cf2c0c4f48ae2b123af8777ad8",
            "c34b45cd4b9347bdbdea5877ecb8a47f",
            "d6d2014513614a64929082dfa16f0a0b",
            "7f930a7e6fca41e88ce452926e607761",
            "85da4ea1046941a2b7b0943f168bf784",
            "99dd0bd28fa149768592599aeec78180",
            "4ec0f7daa1a14faab804e2bd9d919850",
            "fe5258c37e6a4be5ae86951ba9443c47",
            "90993290d5b6460e892aaf0a705c20fa",
            "f5154a42cd634c92b0a88efd8160877f",
            "5abdb59f0111437da11416cc7c1f11c3",
            "09f055354d324b51a9a2b10dcf67a820",
            "b4e72e6755e742c0b9f3280743711bc5",
            "720fad2167dc4e048f3bae516c9380fe",
            "11788c3e5cd34f97b3859915d927d40b",
            "15ebcab5690d4233b44490dd14699749",
            "63a8b36804c24db1928d1780a1507d6a",
            "645be7b558f7464290fbee6f20dfbdb9",
            "499f0cf00fef4121801283019246f2bc",
            "54c7432ba7b946f2b02e8106516ccda2",
            "68db17430ea74d0aaf6ad68ca1bb8f11",
            "df3dea34c7094eda96e5f621c388c1aa",
            "997b026237f54badbc69884b83753bfb",
            "afb7441bb4554dceae818a063666170a",
            "3d60d4ea929e45509778e88ac98f2c0d",
            "4ff60f40011c4bf49334684721f4adc3",
            "bdeb0680f0e4441c87f2b22c467f29f6",
            "642db70ec660475a8824ffb8f7069f02",
            "7249581ef726436faf4364ea92006845",
            "b410469339d648a99e5ce786c260d415",
            "70df7243660a4f53b6a3e773bf2add92",
            "16f0f4300c804416b6dda96d0f30727c",
            "5e15d2f4246c4c48a6d21020f7cb8f1b",
            "c2eb6df8981147499b905b2304053f94",
            "02d8f31652824dad9d4d637eafe7510c",
            "e0de5a4290024ddb941b623f9ac8907c",
            "d24e4d2feec04b049b6aa49077bfe38d",
            "c2abb4d47b934d02996241aa5ecfb247",
            "cdf6ce73a253464090e080f4bbac7a45"
          ]
        },
        "execution": {
          "iopub.execute_input": "2023-03-16T19:43:20.381305Z",
          "iopub.status.busy": "2023-03-16T19:43:20.381030Z"
        },
        "id": "5o812OQHufeg",
        "outputId": "06f4009b-0df4-4901-80e4-8b1f0b7e5d8d",
        "trusted": true
      },
      "outputs": [
        {
          "data": {
            "application/vnd.jupyter.widget-view+json": {
              "model_id": "43ace51490a54ff588630f840cf1efd6",
              "version_major": 2,
              "version_minor": 0
            },
            "text/plain": [
              "training:   0%|          | 0/16 [00:00<?, ?epoch/s]"
            ]
          },
          "metadata": {},
          "output_type": "display_data"
        },
        {
          "data": {
            "application/vnd.jupyter.widget-view+json": {
              "model_id": "b7dd75f4991d48ecafe89e8db0090f95",
              "version_major": 2,
              "version_minor": 0
            },
            "text/plain": [
              "epoch 1:   0%|          | 0/2298 [00:00<?, ?batch/s]"
            ]
          },
          "metadata": {},
          "output_type": "display_data"
        },
        {
          "name": "stdout",
          "output_type": "stream",
          "text": [
            "Obtained a new best validation metric of 0.902, saving model checkpoint to tagging_model.pt...\n"
          ]
        },
        {
          "data": {
            "application/vnd.jupyter.widget-view+json": {
              "model_id": "2534ce7141254f8eb1130c8c3f076ca0",
              "version_major": 2,
              "version_minor": 0
            },
            "text/plain": [
              "epoch 2:   0%|          | 0/2298 [00:00<?, ?batch/s]"
            ]
          },
          "metadata": {},
          "output_type": "display_data"
        },
        {
          "name": "stdout",
          "output_type": "stream",
          "text": [
            "Obtained a new best validation metric of 0.927, saving model checkpoint to tagging_model.pt...\n"
          ]
        },
        {
          "data": {
            "application/vnd.jupyter.widget-view+json": {
              "model_id": "00568c68eb4b41fb8bbb1fc6dc650714",
              "version_major": 2,
              "version_minor": 0
            },
            "text/plain": [
              "epoch 3:   0%|          | 0/2298 [00:00<?, ?batch/s]"
            ]
          },
          "metadata": {},
          "output_type": "display_data"
        },
        {
          "name": "stdout",
          "output_type": "stream",
          "text": [
            "Obtained a new best validation metric of 0.933, saving model checkpoint to tagging_model.pt...\n"
          ]
        },
        {
          "data": {
            "application/vnd.jupyter.widget-view+json": {
              "model_id": "60c4298f41294b95a59ee0504a067be3",
              "version_major": 2,
              "version_minor": 0
            },
            "text/plain": [
              "epoch 4:   0%|          | 0/2298 [00:00<?, ?batch/s]"
            ]
          },
          "metadata": {},
          "output_type": "display_data"
        },
        {
          "name": "stdout",
          "output_type": "stream",
          "text": [
            "Obtained a new best validation metric of 0.942, saving model checkpoint to tagging_model.pt...\n"
          ]
        },
        {
          "data": {
            "application/vnd.jupyter.widget-view+json": {
              "model_id": "284dd72227c0403094fd239c58afb0f6",
              "version_major": 2,
              "version_minor": 0
            },
            "text/plain": [
              "epoch 5:   0%|          | 0/2298 [00:00<?, ?batch/s]"
            ]
          },
          "metadata": {},
          "output_type": "display_data"
        },
        {
          "name": "stdout",
          "output_type": "stream",
          "text": [
            "Obtained a new best validation metric of 0.946, saving model checkpoint to tagging_model.pt...\n"
          ]
        },
        {
          "data": {
            "application/vnd.jupyter.widget-view+json": {
              "model_id": "0b82bdc5d3e44891a5fc11f3a6f737ca",
              "version_major": 2,
              "version_minor": 0
            },
            "text/plain": [
              "epoch 6:   0%|          | 0/2298 [00:00<?, ?batch/s]"
            ]
          },
          "metadata": {},
          "output_type": "display_data"
        },
        {
          "data": {
            "application/vnd.jupyter.widget-view+json": {
              "model_id": "239d42739a4c47389700f258bf5b854d",
              "version_major": 2,
              "version_minor": 0
            },
            "text/plain": [
              "epoch 7:   0%|          | 0/2298 [00:00<?, ?batch/s]"
            ]
          },
          "metadata": {},
          "output_type": "display_data"
        },
        {
          "name": "stdout",
          "output_type": "stream",
          "text": [
            "Obtained a new best validation metric of 0.951, saving model checkpoint to tagging_model.pt...\n"
          ]
        },
        {
          "data": {
            "application/vnd.jupyter.widget-view+json": {
              "model_id": "569e190525634a93989012c6710df8af",
              "version_major": 2,
              "version_minor": 0
            },
            "text/plain": [
              "epoch 8:   0%|          | 0/2298 [00:00<?, ?batch/s]"
            ]
          },
          "metadata": {},
          "output_type": "display_data"
        },
        {
          "name": "stdout",
          "output_type": "stream",
          "text": [
            "Obtained a new best validation metric of 0.951, saving model checkpoint to tagging_model.pt...\n"
          ]
        },
        {
          "data": {
            "application/vnd.jupyter.widget-view+json": {
              "model_id": "4ec0f7daa1a14faab804e2bd9d919850",
              "version_major": 2,
              "version_minor": 0
            },
            "text/plain": [
              "epoch 9:   0%|          | 0/2298 [00:00<?, ?batch/s]"
            ]
          },
          "metadata": {},
          "output_type": "display_data"
        },
        {
          "name": "stdout",
          "output_type": "stream",
          "text": [
            "Obtained a new best validation metric of 0.955, saving model checkpoint to tagging_model.pt...\n"
          ]
        },
        {
          "data": {
            "application/vnd.jupyter.widget-view+json": {
              "model_id": "645be7b558f7464290fbee6f20dfbdb9",
              "version_major": 2,
              "version_minor": 0
            },
            "text/plain": [
              "epoch 10:   0%|          | 0/2298 [00:00<?, ?batch/s]"
            ]
          },
          "metadata": {},
          "output_type": "display_data"
        },
        {
          "data": {
            "application/vnd.jupyter.widget-view+json": {
              "model_id": "7249581ef726436faf4364ea92006845",
              "version_major": 2,
              "version_minor": 0
            },
            "text/plain": [
              "epoch 11:   0%|          | 0/2298 [00:00<?, ?batch/s]"
            ]
          },
          "metadata": {},
          "output_type": "display_data"
        }
      ],
      "source": [
        "# You are welcome to adjust these parameters based on your model implementation.\n",
        "num_epochs = 16\n",
        "batch_size = 16\n",
        "\n",
        "tagging_model = TransformerPOSTaggingModel().to(device)\n",
        "train(tagging_model, num_epochs, batch_size, \"tagging_model.pt\")"
      ]
    },
    {
      "cell_type": "markdown",
      "metadata": {
        "id": "_CQVsw0yhhne"
      },
      "source": [
        "*You should download the `tagging_model.pt` file now so you can use it for generating submission files below even if your session gets disconnected before you finish.*"
      ]
    },
    {
      "cell_type": "code",
      "execution_count": null,
      "metadata": {
        "execution": {
          "iopub.execute_input": "2023-03-16T18:27:42.767329Z",
          "iopub.status.busy": "2023-03-16T18:27:42.767045Z",
          "iopub.status.idle": "2023-03-16T18:27:42.917874Z",
          "shell.execute_reply": "2023-03-16T18:27:42.917019Z",
          "shell.execute_reply.started": "2023-03-16T18:27:42.767297Z"
        },
        "id": "_yPpbQ6wWFto",
        "trusted": true
      },
      "outputs": [],
      "source": [
        "predict_tags(tagging_model, 'dev', limit=1)"
      ]
    },
    {
      "cell_type": "markdown",
      "metadata": {
        "id": "u15C5gGLMVSa"
      },
      "source": [
        "## Parsing: Task Setup"
      ]
    },
    {
      "cell_type": "markdown",
      "metadata": {
        "id": "R7I01Tl1MYR9"
      },
      "source": [
        "Next, let's move on from predicting tags to predicting full syntax trees. Let's start by taking a look at an example tree and the `nltk.tree.Tree` class."
      ]
    },
    {
      "cell_type": "code",
      "execution_count": null,
      "metadata": {
        "execution": {
          "iopub.execute_input": "2023-03-16T18:27:43.383248Z",
          "iopub.status.busy": "2023-03-16T18:27:43.382989Z",
          "iopub.status.idle": "2023-03-16T18:27:43.396994Z",
          "shell.execute_reply": "2023-03-16T18:27:43.396096Z",
          "shell.execute_reply.started": "2023-03-16T18:27:43.383219Z"
        },
        "id": "YAj1lz-w_Hxq",
        "trusted": true
      },
      "outputs": [],
      "source": [
        "example_tree = nltk.tree.Tree.fromstring(\"(TOP (S (NP (PRP She)) (VP (VBZ enjoys) (S (VP (VBG playing) (NP (NN tennis))))) (. .)))\")\n",
        "print(example_tree)\n",
        "example_tree"
      ]
    },
    {
      "cell_type": "markdown",
      "metadata": {
        "id": "6n2YvVNSfkus"
      },
      "source": [
        "The approach in this project is to treat parsing as a span classification task. Each span in the sentence (that is, each combination of start and end position) will be assigned a label. Constituents will be labeled with their syntactic category, while non-constituents will recieve a special null label.\n",
        "\n",
        "In the tree above, \"enjoys playing tennis\" will be assigned the label \"VP\", while \"She enjoys playing\" will be assigned the null label.\n",
        "\n",
        "However, there is a slight issue applying this to the tree above: the span \"playing tennis\" is simultaneously a verb phrase (VP) and a nested clause (S). To resolve this issue, we introduce a special chain label \"S+VP\" for this situation.\n",
        "\n",
        "The function `collapse_unary_strip_pos` transforms trees to collapse such unary chains. It also strips part-of-speech labels (which can be predicted by the tagger in the previous part of this project), as well as the root label \"TOP\"."
      ]
    },
    {
      "cell_type": "code",
      "execution_count": null,
      "metadata": {
        "execution": {
          "iopub.execute_input": "2023-03-16T18:27:43.719518Z",
          "iopub.status.busy": "2023-03-16T18:27:43.718672Z",
          "iopub.status.idle": "2023-03-16T18:27:43.725051Z",
          "shell.execute_reply": "2023-03-16T18:27:43.724321Z",
          "shell.execute_reply.started": "2023-03-16T18:27:43.719474Z"
        },
        "id": "XVMG0H5c_SkK",
        "trusted": true
      },
      "outputs": [],
      "source": [
        "def collapse_unary_strip_pos(tree):\n",
        "    def strip_pos(tree):\n",
        "        if len(tree) == 1 and isinstance(tree[0], str):\n",
        "            return tree[0]\n",
        "        else:\n",
        "            return nltk.tree.Tree(tree.label(), [strip_pos(child) for child in tree])\n",
        "    collapsed_tree = strip_pos(tree)\n",
        "    collapsed_tree.collapse_unary(collapsePOS=True)\n",
        "    if collapsed_tree.label() == 'TOP' and len(collapsed_tree) == 1:\n",
        "        collapsed_tree = collapsed_tree[0]\n",
        "    return collapsed_tree "
      ]
    },
    {
      "cell_type": "code",
      "execution_count": null,
      "metadata": {
        "execution": {
          "iopub.execute_input": "2023-03-16T18:27:43.960251Z",
          "iopub.status.busy": "2023-03-16T18:27:43.959437Z",
          "iopub.status.idle": "2023-03-16T18:27:43.969242Z",
          "shell.execute_reply": "2023-03-16T18:27:43.968530Z",
          "shell.execute_reply.started": "2023-03-16T18:27:43.960213Z"
        },
        "id": "7cW56XoA__q9",
        "trusted": true
      },
      "outputs": [],
      "source": [
        "collapsed_tree = collapse_unary_strip_pos(example_tree)\n",
        "collapsed_tree"
      ]
    },
    {
      "cell_type": "markdown",
      "metadata": {
        "id": "XEPtgUl2LGVu"
      },
      "source": [
        "Tree objects behaves like lists, in that they can be indexed to produce child nodes. Calling `.label()` returns its label.  If a child is a word instead of a subtree node, it will be a Python string."
      ]
    },
    {
      "cell_type": "code",
      "execution_count": null,
      "metadata": {
        "execution": {
          "iopub.execute_input": "2023-03-16T18:27:44.294952Z",
          "iopub.status.busy": "2023-03-16T18:27:44.294514Z",
          "iopub.status.idle": "2023-03-16T18:27:44.311006Z",
          "shell.execute_reply": "2023-03-16T18:27:44.310285Z",
          "shell.execute_reply.started": "2023-03-16T18:27:44.294915Z"
        },
        "id": "tc6GfgWJygrv",
        "trusted": true
      },
      "outputs": [],
      "source": [
        "print('Child 0 is:', collapsed_tree[0])\n",
        "display(collapsed_tree[0])\n",
        "print('Child 1 is:', collapsed_tree[1])\n",
        "display(collapsed_tree[1])\n",
        "print('Child 1 label is:', collapsed_tree[1].label())"
      ]
    },
    {
      "cell_type": "markdown",
      "metadata": {
        "id": "AQ9UFCYqLjAZ"
      },
      "source": [
        "Your first task for parsing will be to implement an `encode_tree` function that maps from Tree objects to sets of spans with labels and starting/end positions. Since we're using a subword tokenization, the span start/end position will be defined in terms of subword positions. The start position is inclusive and the end is exclusive.  (Note that `▁` is considered part of the span of the following word even if it is not attached.)\n",
        "\n",
        "Below, we provide an `encode_tree` function that hard-codes the output for our example sentence as an illustration.  We also have code that iterates through the spans returned by `encode_tree` and prints the corresponding fragments from the original tree object."
      ]
    },
    {
      "cell_type": "code",
      "execution_count": null,
      "metadata": {
        "execution": {
          "iopub.execute_input": "2023-03-16T18:27:44.717274Z",
          "iopub.status.busy": "2023-03-16T18:27:44.716675Z",
          "iopub.status.idle": "2023-03-16T18:27:44.722555Z",
          "shell.execute_reply": "2023-03-16T18:27:44.721787Z",
          "shell.execute_reply.started": "2023-03-16T18:27:44.717234Z"
        },
        "id": "weARf84FI3EL",
        "trusted": true
      },
      "outputs": [],
      "source": [
        "def encode_tree(tree):\n",
        "    s = ' '.join(example_tree.leaves())\n",
        "    if s != 'She enjoys playing tennis .':\n",
        "        raise NotImplementedError(\"You should implement encode_tree\")\n",
        "    ids = VOCAB.EncodeAsIds(s)\n",
        "    word_end_mask = [True, False, True, False, True, False, False, True, True]\n",
        "    spans = [\n",
        "      (0, 1, 'NP'), (5, 8, 'NP'), (3, 8, 'S+VP'), (1, 8, 'VP'), (0, 9, 'S')]\n",
        "    return ids, word_end_mask, spans"
      ]
    },
    {
      "cell_type": "code",
      "execution_count": null,
      "metadata": {
        "execution": {
          "iopub.execute_input": "2023-03-16T18:27:44.881420Z",
          "iopub.status.busy": "2023-03-16T18:27:44.880819Z",
          "iopub.status.idle": "2023-03-16T18:27:44.924564Z",
          "shell.execute_reply": "2023-03-16T18:27:44.923889Z",
          "shell.execute_reply.started": "2023-03-16T18:27:44.881383Z"
        },
        "id": "MvpuRlj4M_-u",
        "trusted": true
      },
      "outputs": [],
      "source": [
        "piece_ids, _, spans = encode_tree(example_tree)\n",
        "print([VOCAB.IdToPiece(piece_id) for piece_id in piece_ids])\n",
        "print()\n",
        "\n",
        "subtrees = list(example_tree.subtrees())\n",
        "for start, end, label in spans:\n",
        "    s = VOCAB.DecodeIds(piece_ids[start:end])\n",
        "    for subtree in subtrees:\n",
        "        if s == ' '.join(subtree.leaves()):\n",
        "            print(label, 'starting at subword', start, 'and ending at', end, ':')\n",
        "            display(svgling.draw_tree(subtree, font_size=8))\n",
        "            print()\n",
        "            break"
      ]
    },
    {
      "cell_type": "markdown",
      "metadata": {
        "id": "5dGk0UlgJ4Di"
      },
      "source": [
        "Your task is to implement `encode_tree` so that it works for all trees, rather than returning hard-coded results."
      ]
    },
    {
      "cell_type": "code",
      "execution_count": null,
      "metadata": {
        "execution": {
          "iopub.execute_input": "2023-03-16T18:27:45.202827Z",
          "iopub.status.busy": "2023-03-16T18:27:45.202575Z",
          "iopub.status.idle": "2023-03-16T18:27:45.213490Z",
          "shell.execute_reply": "2023-03-16T18:27:45.212793Z",
          "shell.execute_reply.started": "2023-03-16T18:27:45.202796Z"
        },
        "id": "LalYW2FVJyUG",
        "trusted": true
      },
      "outputs": [],
      "source": [
        "def encode_tree(tree):\n",
        "    \"\"\"\"Converts a tree into subword token ids and a list of labeled spans.\n",
        "\n",
        "    Args:\n",
        "    tree: an nltk.tree.Tree object\n",
        "\n",
        "    Returns:\n",
        "    A tuple (ids, is_word_end, spans)\n",
        "      ids: a list of token ids in the subword vocabulary\n",
        "      is_word_end: a list with elements of type bool, where True indicates that\n",
        "                   the word piece at that position is the last within its word.\n",
        "      spans: a list of tuples of the form (start, end, label), where `start` is\n",
        "             the position in ids where the span starts, `end` is the ending\n",
        "             point in the span (exclusive), and `label` is a string indicating\n",
        "             the syntactic label for the constituent.\n",
        "    \"\"\"\n",
        "    # BEGIN SOLUTION\n",
        "    ## Moved the _convert function for it to work. It was giving me a bug otherwise.\n",
        "    def _convert(tree, leaves, is_word_end, out, start):\n",
        "        if isinstance(tree, str):\n",
        "            # Base case: leaf node (i.e., a word)\n",
        "            word_ids = VOCAB.EncodeAsIds(tree)\n",
        "            out.extend(word_ids)\n",
        "            is_word_end.extend([False] * (len(word_ids) - 1) + [True])\n",
        "            return len(word_ids)\n",
        "\n",
        "        else:\n",
        "            # Recursive case: non-leaf node (i.e., a constituent)\n",
        "            start_index = len(out)\n",
        "            label = tree.label()\n",
        "            for child in tree:\n",
        "                child_len = _convert(child, leaves, is_word_end, out, start=start_index)\n",
        "            end_index = len(out)\n",
        "            if label:\n",
        "                # Only add spans for labeled nodes\n",
        "                spans.append((start_index, end_index, label))\n",
        "            return end_index - start_index\n",
        "        # END SOLUTION\n",
        "        \n",
        "    tree = collapse_unary_strip_pos(tree)\n",
        "    # Implementation tip: it may help to look at encode_sentence, provided earlier\n",
        "    \"\"\"YOUR CODE HERE\"\"\"\n",
        "\n",
        "    # Initialize output lists\n",
        "    ids = []\n",
        "    is_word_end = []\n",
        "    spans = []\n",
        "\n",
        "    # Traverse tree and convert words and labels to subword tokens\n",
        "    _convert(tree, tree.leaves(), is_word_end, ids, start=0)\n",
        "\n",
        "    return ids, is_word_end, spans\n"
      ]
    },
    {
      "cell_type": "code",
      "execution_count": null,
      "metadata": {
        "execution": {
          "iopub.execute_input": "2023-03-16T18:27:45.392094Z",
          "iopub.status.busy": "2023-03-16T18:27:45.391817Z",
          "iopub.status.idle": "2023-03-16T18:27:45.432315Z",
          "shell.execute_reply": "2023-03-16T18:27:45.431475Z",
          "shell.execute_reply.started": "2023-03-16T18:27:45.392063Z"
        },
        "id": "FT8ICnjE9FYZ",
        "trusted": true
      },
      "outputs": [],
      "source": [
        "piece_ids, _, spans = encode_tree(example_tree)\n",
        "print([VOCAB.IdToPiece(piece_id) for piece_id in piece_ids])\n",
        "print()\n",
        "\n",
        "subtrees = list(example_tree.subtrees())\n",
        "for start, end, label in spans:\n",
        "    s = VOCAB.DecodeIds(piece_ids[start:end])\n",
        "    for subtree in subtrees:\n",
        "        if s == ' '.join(subtree.leaves()):\n",
        "            print(label, 'starting at subword', start, 'and ending at', end, ':')\n",
        "            display(svgling.draw_tree(subtree, font_size=8))\n",
        "            print()\n",
        "            break"
      ]
    },
    {
      "cell_type": "markdown",
      "metadata": {
        "id": "3JQECbjjL9wV"
      },
      "source": [
        "Here is a simple test that your implementation is correct. The `assert` statement should not produce any errors for a correct implementation."
      ]
    },
    {
      "cell_type": "code",
      "execution_count": null,
      "metadata": {
        "execution": {
          "iopub.execute_input": "2023-03-16T18:27:45.754469Z",
          "iopub.status.busy": "2023-03-16T18:27:45.754210Z",
          "iopub.status.idle": "2023-03-16T18:27:47.182627Z",
          "shell.execute_reply": "2023-03-16T18:27:47.181877Z",
          "shell.execute_reply.started": "2023-03-16T18:27:45.754439Z"
        },
        "id": "W1GQ_-sXN_Qr",
        "trusted": true
      },
      "outputs": [],
      "source": [
        "for tree in READER.parsed_sents('dev'):\n",
        "    piece_ids, _, spans = encode_tree(tree)\n",
        "    if UNK_ID in piece_ids:\n",
        "        continue  # skip verifying this sentence\n",
        "    span_strs = [VOCAB.DecodeIds(piece_ids[start:end]) for start, end, _ in spans]\n",
        "    assert set([' '.join(subtree.leaves()) for subtree in tree.subtrees() \n",
        "                if not isinstance(subtree[0], str)]) == set(span_strs)"
      ]
    },
    {
      "cell_type": "markdown",
      "metadata": {
        "id": "ssrIa50sKUKi"
      },
      "source": [
        "Now we can take inventory of all span labels in the training data. The validation and test sets have a few span labels outside this set because collapsing unary chains creates additional labels, so we also introduce an `UNK` label. Finally, there is a null label to represent that a span is not a syntactic constituent."
      ]
    },
    {
      "cell_type": "code",
      "execution_count": null,
      "metadata": {
        "execution": {
          "iopub.execute_input": "2023-03-16T18:27:47.185428Z",
          "iopub.status.busy": "2023-03-16T18:27:47.184895Z",
          "iopub.status.idle": "2023-03-16T18:28:05.623045Z",
          "shell.execute_reply": "2023-03-16T18:28:05.622257Z",
          "shell.execute_reply.started": "2023-03-16T18:27:47.185388Z"
        },
        "id": "NTWsre3cTJyR",
        "trusted": true
      },
      "outputs": [],
      "source": [
        "SPAN_LABELS = set()\n",
        "for tree in READER.parsed_sents('train'):\n",
        "  _, _, spans = encode_tree(tree)\n",
        "  for _, _, label in spans:\n",
        "    SPAN_LABELS.add(label)\n",
        "SPAN_LABELS = ['', 'UNK'] + sorted(SPAN_LABELS)\n",
        "print(len(SPAN_LABELS))\n",
        "# This is another check to ensure that your implementation matches ours.\n",
        "assert len(SPAN_LABELS) == 114"
      ]
    },
    {
      "cell_type": "markdown",
      "metadata": {
        "id": "u8fEciiRLLHT"
      },
      "source": [
        "The implementation of the `ParsingDataset` class below is left for you to complete, based on the requirements of your model. You may wish to refer to the earlier `POSTaggingDataset` when implementing this class."
      ]
    },
    {
      "cell_type": "code",
      "execution_count": null,
      "metadata": {
        "execution": {
          "iopub.execute_input": "2023-03-16T18:28:05.624814Z",
          "iopub.status.busy": "2023-03-16T18:28:05.624387Z",
          "iopub.status.idle": "2023-03-16T18:28:05.639651Z",
          "shell.execute_reply": "2023-03-16T18:28:05.639016Z",
          "shell.execute_reply.started": "2023-03-16T18:28:05.624774Z"
        },
        "id": "jGOw6mS_JH67",
        "trusted": true
      },
      "outputs": [],
      "source": [
        "\n",
        "class ParsingDataset(torch.utils.data.Dataset):\n",
        "  def __init__(self, split):\n",
        "    assert split in ('train', 'dev', 'test')\n",
        "    self.trees = READER.parsed_sents(split)\n",
        "    if split == 'train':\n",
        "      # To speed up training, we only train on short sentences.\n",
        "      self.trees = [tree for tree in self.trees if len(tree.leaves()) <= 40]\n",
        "\n",
        "\n",
        "  def __len__(self):\n",
        "    return len(self.trees)\n",
        "\n",
        "  def __getitem__(self, index):\n",
        "    \"\"\" This function loads a single tree into tensors for 'ids', 'labels', and\n",
        "    'is_word_end'.\n",
        "\n",
        "    See 'collate' function below for a description of the batched version of the\n",
        "    tensors to return.\n",
        "    \"\"\"\n",
        "\n",
        "    tree = self.trees[index]\n",
        "    \"\"\"YOUR CODE HERE\"\"\"\n",
        "\n",
        "    # don't forget to add BOS_ID and EOS_ID to the start and end of the sentence\n",
        "    \n",
        "    # note that you will need to check for unknown labels and replace them with\n",
        "    #  'UNK' (because of unique unary chains in the validation and test sets)\n",
        "\n",
        "    # use '' (index 0) as the null label for spans that aren't constituents\n",
        "    # you will need a separate index (such as -1) for positions that should not\n",
        "    #  receive loss\n",
        "\n",
        "#     BEGIN SOLUTION\n",
        "    ids, is_word_end, spans = encode_tree(tree)\n",
        "    START_ENC = BOS_ID\n",
        "    END_ENC = EOS_ID\n",
        "    tree_encodings = torch.tensor([START_ENC] + ids + [END_ENC])\n",
        "    encodings_is_word_end = torch.tensor([False] + is_word_end + [False])\n",
        "\n",
        "\n",
        "    n = tree_encodings.size(0)\n",
        "\n",
        "    labels = torch.ones(n, n, dtype=torch.float32)\n",
        "\n",
        "    labels = torch.triu(labels, diagonal=1) \n",
        "    labels = labels - 1  \n",
        "    labels[0] = -1 \n",
        "#     print(labels)\n",
        "    \n",
        "    # add in labels from parsed spans\n",
        "    for i, j, span_type in spans:\n",
        "        if span_type in SPAN_LABELS:\n",
        "            label_value = SPAN_LABELS.index(span_type)\n",
        "        else:\n",
        "            label_value = 1\n",
        "        for k in range(i+1, j+1):\n",
        "            if k == j:\n",
        "                # end token\n",
        "#                 print(labels)\n",
        "                labels[i+1, j+1] = label_value\n",
        "    \n",
        "    \n",
        "    \n",
        "    return {\"ids\": tree_encodings, \"labels\": labels, \"is_word_end\": encodings_is_word_end}\n",
        "\n",
        "   \n",
        "    # END SOLTUION\n",
        "\n",
        "\n",
        "  @staticmethod\n",
        "  def collate(batch):\n",
        "    \"\"\" This function takes a list of examples as output by your __getitem__\n",
        "    function and turns them into batched tensors.\n",
        "    \n",
        "    Returns:\n",
        "      A dictionary with three keys.\n",
        "      * 'ids' holds a tensor of shape [batch_size, max_sentence_length] and\n",
        "        dtype torch.long (where max length is taken within this batch).\n",
        "      * 'labels' is a required feature that's used by our evaluation logic. It\n",
        "        should be a torch.long tensor of shape\n",
        "        [batch_size, max_sentence_length, max_sentence_length] with\n",
        "        labels[batch, i, j] representing the label of the span starting at\n",
        "        subword position i and ending at subword position j (exclusive).\n",
        "      * 'is_word_end' is a required feature that's used by our skeleton code.\n",
        "        It should be a torch.bool tensor of shape [batch_size, max_sentence_length],\n",
        "        with True values at the last sub-word piece for each word.\n",
        "    \"\"\"\n",
        "\n",
        "    \"\"\"YOUR CODE HERE\"\"\"\n",
        "\n",
        "    # BEGIN SOLUTION\n",
        "    \n",
        "    max_len = max(len(ex['ids']) for ex in batch)\n",
        "    ids = torch.zeros((len(batch), max_len), dtype=torch.long)\n",
        "    labels = torch.full((len(batch), max_len, max_len), -1, dtype=torch.long)\n",
        "    is_word_end = torch.zeros((len(batch), max_len), dtype=torch.bool)\n",
        "\n",
        "    for i, ex in enumerate(batch):\n",
        "        cur_len = len(ex['ids'])\n",
        "        ids[i, :cur_len] = ex['ids']\n",
        "        labels[i, :cur_len, :cur_len] = ex['labels']\n",
        "        is_word_end[i, :cur_len] = ex['is_word_end']\n",
        "  \n",
        "\n",
        "    # END SOLUTION\n",
        "\n",
        "    return {\n",
        "        'ids': ids.to(device),\n",
        "        'labels': labels.to(device),\n",
        "        'is_word_end': is_word_end.to(device),\n",
        "        }\n"
      ]
    },
    {
      "cell_type": "code",
      "execution_count": null,
      "metadata": {
        "execution": {
          "iopub.execute_input": "2023-03-16T18:28:05.643042Z",
          "iopub.status.busy": "2023-03-16T18:28:05.642846Z",
          "iopub.status.idle": "2023-03-16T18:28:19.105875Z",
          "shell.execute_reply": "2023-03-16T18:28:19.105133Z",
          "shell.execute_reply.started": "2023-03-16T18:28:05.643017Z"
        },
        "id": "WVvc7HMrShBl",
        "trusted": true
      },
      "outputs": [],
      "source": [
        "dataset_for_inspection = ParsingDataset('train')\n",
        "print(dataset_for_inspection.trees[0].leaves())\n",
        "dataset_for_inspection[0]"
      ]
    },
    {
      "cell_type": "markdown",
      "metadata": {
        "id": "itUNYvsUJg9d"
      },
      "source": [
        "The cell below sanity-checks your implementation of the `labels` and `is_word_end` features of the dataset. The tests are not exhaustive, but any errors are an indication that you have not constructed the batched examples correctly."
      ]
    },
    {
      "cell_type": "code",
      "execution_count": null,
      "metadata": {
        "execution": {
          "iopub.execute_input": "2023-03-16T18:28:19.108009Z",
          "iopub.status.busy": "2023-03-16T18:28:19.107486Z",
          "iopub.status.idle": "2023-03-16T18:29:37.635610Z",
          "shell.execute_reply": "2023-03-16T18:29:37.634884Z",
          "shell.execute_reply.started": "2023-03-16T18:28:19.107960Z"
        },
        "id": "qVp6aSizEDHR",
        "trusted": true
      },
      "outputs": [],
      "source": [
        "dataset_for_check = ParsingDataset('dev')\n",
        "batch_size_for_check = 16\n",
        "data_loader_for_test = torch.utils.data.DataLoader(\n",
        "    dataset_for_check, batch_size=batch_size_for_check, shuffle=False,\n",
        "    collate_fn=dataset_for_check.collate)\n",
        "\n",
        "for batch_num, batch in enumerate(data_loader_for_test):\n",
        "  for example_num in range(batch['ids'].shape[0]):\n",
        "    tree = dataset_for_check.trees[\n",
        "        batch_size_for_check * batch_num + example_num]\n",
        "    piece_ids = batch['ids'][example_num].cpu().numpy().tolist()\n",
        "    labels = batch['labels'][example_num].cpu().numpy()\n",
        "    is_word_end = batch['is_word_end'][example_num].cpu().numpy()\n",
        "\n",
        "    if UNK_ID in piece_ids:\n",
        "      continue  # skip verifying this sentence\n",
        "\n",
        "    constituents = set([\n",
        "      ' '.join(subtree.leaves())\n",
        "      for subtree in tree.subtrees() if not isinstance(subtree[0], str)])\n",
        "    expected_labels = [\n",
        "        subtree.label()\n",
        "        for subtree in collapse_unary_strip_pos(tree).subtrees()]\n",
        "\n",
        "    labels_from_dataset = []\n",
        "    for i in range(labels.shape[0]):\n",
        "      for j in range(labels.shape[1]):\n",
        "        span_str = VOCAB.DecodeIds(piece_ids[i:j])\n",
        "        try:\n",
        "          if not piece_ids[i:j]:\n",
        "            assert labels[i, j] == -1, (\n",
        "                'This range is not a span and must have label -1')\n",
        "          elif (BOS_ID in piece_ids[i:j]\n",
        "                or EOS_ID in piece_ids[i:j]\n",
        "                or PAD_ID in piece_ids[i:j]):\n",
        "            assert labels[i, j] == -1, (\n",
        "              'This span contains a start, stop, or padding token and must have '\n",
        "              'label -1')\n",
        "          elif span_str not in constituents:\n",
        "            assert labels[i, j] == 0, (\n",
        "              'This span is not a constituent, but its label is not 0')\n",
        "          else:\n",
        "            # The span may be a constituent (or this may be a false positive,\n",
        "            # because this verification code only looks at string equality)\n",
        "            assert 0 <= labels[i, j] < len(SPAN_LABELS), (\n",
        "              'The assigned label is not valid for this span')\n",
        "            if labels[i, j] != 0:\n",
        "              labels_from_dataset.append(SPAN_LABELS[labels[i, j]])\n",
        "          \n",
        "          if labels[i, j] > 0:\n",
        "            assert i == 0 or piece_ids[i-1] == BOS_ID or is_word_end[i-1], (\n",
        "              'This labeled span does not start on a word boundary')\n",
        "            assert j == 0 or piece_ids[j-1] == BOS_ID or is_word_end[j-1], (\n",
        "              'This labeled span does not end on a word boundary')\n",
        "        except AssertionError as e:\n",
        "          print(f'ERROR at span [i = {i}, j = {j}, label = {labels[i,j]}]')\n",
        "          print(str(e))\n",
        "          print()\n",
        "          for i, (piece_id, is_word_end_bool) in enumerate(zip(piece_ids,\n",
        "                                                               is_word_end)):\n",
        "            print('{:2d} {: <10} {}'.format(\n",
        "                i, \"(word end)\" if is_word_end_bool else \"\",\n",
        "                VOCAB.IdToPiece(piece_id)))\n",
        "          raise\n",
        "\n",
        "    assert sorted(expected_labels) == sorted(labels_from_dataset), (\n",
        "        f'The dataset has {len(labels_from_dataset)} non-empty labels for this '\n",
        "        f'example, which do not match the {len(expected_labels)} labels in the '\n",
        "        f'original tree')"
      ]
    },
    {
      "cell_type": "markdown",
      "metadata": {
        "id": "TPWrN4Eb2lN5"
      },
      "source": [
        "## Parsing: Model"
      ]
    },
    {
      "cell_type": "markdown",
      "metadata": {
        "id": "DcmWjcttMRck"
      },
      "source": [
        "Next, you will implement a Transformer-based parsing model. Below is a base class that checks performance on the validation set based on a local decision at each span.  Later, you will implement CKY decoding that ensures the output is a tree rather than a set of possibly-intersecting spans."
      ]
    },
    {
      "cell_type": "code",
      "execution_count": null,
      "metadata": {
        "execution": {
          "iopub.execute_input": "2023-03-16T18:29:37.637142Z",
          "iopub.status.busy": "2023-03-16T18:29:37.636895Z",
          "iopub.status.idle": "2023-03-16T18:29:37.646509Z",
          "shell.execute_reply": "2023-03-16T18:29:37.645787Z",
          "shell.execute_reply.started": "2023-03-16T18:29:37.637106Z"
        },
        "id": "kcT3t6lVz2ij",
        "trusted": true
      },
      "outputs": [],
      "source": [
        "class ParsingModel(nn.Module):\n",
        "  def encode(self, batch):\n",
        "    # you will override this below\n",
        "    raise NotImplementedError()\n",
        "\n",
        "  def compute_loss(self, batch):\n",
        "    # you will override this below\n",
        "    raise NotImplementedError()\n",
        "\n",
        "  def get_validation_metric(self):\n",
        "    dataset = ParsingDataset('dev')\n",
        "    data_loader = torch.utils.data.DataLoader(\n",
        "      dataset, batch_size=8, collate_fn=dataset.collate)\n",
        "    self.eval()\n",
        "    total_gold_spans = 0\n",
        "    total_predicted_spans = 0\n",
        "    total_correct = 0\n",
        "    with torch.no_grad():\n",
        "      for batch in data_loader:\n",
        "        mask = (batch['labels'] != -1)\n",
        "        model_output = self.encode(batch)\n",
        "        predicted_labels = model_output.argmax(-1)\n",
        "        predicted_labels = predicted_labels[mask]\n",
        "        gold_labels = batch['labels'][mask]\n",
        "\n",
        "        total_gold_spans += (gold_labels != 0).sum().item()\n",
        "        total_predicted_spans += (predicted_labels != 0).sum().item()\n",
        "        total_correct += ((predicted_labels == gold_labels) & (gold_labels != 0)\n",
        "            ).sum().item()\n",
        "\n",
        "    if total_predicted_spans != 0:\n",
        "      precision = total_correct / total_predicted_spans\n",
        "    else:\n",
        "      precision = 0.0\n",
        "    recall = total_correct / total_gold_spans\n",
        "    if precision == 0.0 or recall == 0.0:\n",
        "      f1 = 0.0\n",
        "    else:\n",
        "      f1 = 2 * precision * recall / (precision + recall)\n",
        "    # For convenience, we represent precion/recall/F1 as percentage points.\n",
        "    precision *= 100\n",
        "    recall *= 100\n",
        "    f1 *= 100\n",
        "    print(f\"precision={precision:.2f} recall={recall:.2f} f1={f1:.2f}\")\n",
        "    return f1"
      ]
    },
    {
      "cell_type": "markdown",
      "metadata": {
        "id": "XgUDTDfSMh4O"
      },
      "source": [
        "Here is a skeleton for the parsing model that you should fill in. The parser should:\n",
        "- Run a Transformer encoder to produce a vector at each position in the sentence.\n",
        "- Compute a vector for each span, by subtracting the vectors for the start and endpoints. You may also try other options, such as adding, averaging, or concatenating.\n",
        "- Run an MLP span classifier that takes these span vectors as input. The MLP should have one layer of nonlinearity. In our implementation, the MLP also includes a Layer Normalization step."
      ]
    },
    {
      "cell_type": "code",
      "execution_count": null,
      "metadata": {
        "execution": {
          "iopub.execute_input": "2023-03-16T18:29:37.648352Z",
          "iopub.status.busy": "2023-03-16T18:29:37.647598Z",
          "iopub.status.idle": "2023-03-16T18:29:37.663477Z",
          "shell.execute_reply": "2023-03-16T18:29:37.662727Z",
          "shell.execute_reply.started": "2023-03-16T18:29:37.648307Z"
        },
        "id": "SVFDYz2E9FYb",
        "trusted": true
      },
      "outputs": [],
      "source": [
        "print(len(SPAN_LABELS))\n"
      ]
    },
    {
      "cell_type": "code",
      "execution_count": null,
      "metadata": {
        "execution": {
          "iopub.execute_input": "2023-03-16T19:41:19.908002Z",
          "iopub.status.busy": "2023-03-16T19:41:19.907682Z",
          "iopub.status.idle": "2023-03-16T19:41:19.920340Z",
          "shell.execute_reply": "2023-03-16T19:41:19.919656Z",
          "shell.execute_reply.started": "2023-03-16T19:41:19.907968Z"
        },
        "id": "X75QefU4N_jj",
        "trusted": true
      },
      "outputs": [],
      "source": [
        "class TransformerParsingModel(ParsingModel):\n",
        "    def __init__(self):\n",
        "        super().__init__()\n",
        "        d_model = 256\n",
        "        self.add_timing = AddPositionalEncoding(d_model)\n",
        "        self.encoder = TransformerEncoder(d_model)\n",
        "        \"\"\"YOUR CODE HERE.\"\"\"\n",
        "\n",
        "        # BEGIN SOLUTION\n",
        "        self.mlp = nn.Sequential(\n",
        "            nn.LayerNorm(d_model),\n",
        "            nn.Linear(d_model, d_model),\n",
        "            nn.ReLU(),\n",
        "            nn.Linear(d_model, len(SPAN_LABELS)),\n",
        "        )\n",
        "        \n",
        "        self.embedding = nn.Embedding(VOCAB.GetPieceSize(), d_model)\n",
        "\n",
        "        # END SOLUTION\n",
        "\n",
        "\n",
        "    def encode(self, batch):\n",
        "        \"\"\"Returns logits for each label and each span in the sentence.\n",
        "\n",
        "        Returns:\n",
        "          A float tensor of shape [batch_size, length, length, len(SPAN_LABELS)],\n",
        "          where the element at position [n, i, j, l] represents the score (logit) of\n",
        "          assigning label l to the span beginning at subword position i and ending\n",
        "          at position j (exclusive), for the n-th example in the batch.\n",
        "        \"\"\"\n",
        "\n",
        "        \"\"\"YOUR CODE HERE\"\"\"\n",
        "\n",
        "        # You don't need to worry about is_word_end here or in compute_loss\n",
        "        # You can train with non-end subwords still in place (with null labels) and\n",
        "        # we'll handle adjusting for subwords for you in the evaluation functions\n",
        "\n",
        "        # BEGIN SOLUTION\n",
        "        x = batch[\"ids\"]\n",
        "        length = x.shape[1]\n",
        "#         x = x.float()\n",
        "# #         print(x.shape)\n",
        "# #         print(x.shape)\n",
        "        \n",
        "#         x = x.unsqueeze(-1)\n",
        "        x = self.embedding(x)\n",
        "        embeddings = self.add_timing(x)\n",
        "        mask = (batch['ids'] != PAD_ID).unsqueeze(1).unsqueeze(2)\n",
        "#         mask = torch.where(x == PAD_ID, False, True)\n",
        "#         print(mask.shape)\n",
        "        \n",
        "#         print('hi')\n",
        "#         print(embeddings.shape)\n",
        "#         print(mask.size())\n",
        "        encoded = self.encoder(embeddings, mask)\n",
        "        # print(encoded.shape)\n",
        "        \n",
        "        \n",
        "         # Compute the span representations\n",
        "        start_embeddings = encoded.unsqueeze(2).expand(-1, -1, x.size(1), -1)\n",
        "        end_embeddings = encoded.unsqueeze(1).expand(-1, x.size(1), -1, -1)\n",
        "\n",
        "        # span_embeddings = end_embeddings - start_embeddings \n",
        "        span_embeddings = start_embeddings - end_embeddings \n",
        "        span_embeddings = span_embeddings.reshape((-1, span_embeddings.shape[-1]))\n",
        "#         print(span_embeddings.shape)\n",
        "        span_representations = self.mlp(span_embeddings)\n",
        "        \n",
        "\n",
        "        # Reshape the output to [batch_size, length, length, num_labels]\n",
        "        batch_size, length, _ = x.size()\n",
        "        span_representations = span_representations.reshape(batch_size, length, length, -1)\n",
        "        \n",
        "        return span_representations\n",
        "        \n",
        "        # END SOLUTION\n",
        "  \n",
        "    def compute_loss(self, batch):\n",
        "        \"\"\"This function should compute a cross-entropy loss for training the model.\n",
        "\n",
        "        Note that labels should be set to -1 wherever there is no classification\n",
        "        decision to make; for example, due to padding or at positions [..., i, j, :]\n",
        "        where i >= j (i.e. the supposed start position is equal to or comes after\n",
        "        the end position).\n",
        "        \"\"\"\n",
        "#         logits = self.encode(batch)\n",
        "#         labels = batch['labels']\n",
        "\n",
        "        \"\"\"YOUR CODE HERE\"\"\"\n",
        "\n",
        "        # BEGIN SOLUTION\n",
        "        logits = self.encode(batch)\n",
        "        logits = logits.reshape((-1, logits.shape[-1]))\n",
        "        \n",
        "        labels = batch['labels'].reshape((-1,))\n",
        "#         print('hola')\n",
        "#         print(logits.shape)\n",
        "#         print(labels.shape)\n",
        "        res = F.cross_entropy(logits, labels, ignore_index=-1, reduction='mean')\n",
        "        return res\n",
        "        \n",
        "        # END SOLUTION"
      ]
    },
    {
      "cell_type": "markdown",
      "metadata": {
        "id": "10cgiAnyFi-A"
      },
      "source": [
        "The code below trains the parser.\n",
        "\n",
        "In our implementation, it reports a validation score of 66-70 F1 after a single epoch and 80-82 F1 after 5 epochs. If you observe worse performance, we recommend that you debug and adjust your model rather than waiting for the full 16 epochs to complete. When debugging, be sure to also check your Transformer implementation: a buggy version of the Transformer might work for part of speech tagging, but not for the harder task of parsing.\n",
        "\n",
        "After training completes, our implementation reports 86.4 validation F1. Each epoch takes about 1.5 minutes on a fast GPU instance."
      ]
    },
    {
      "cell_type": "code",
      "execution_count": null,
      "metadata": {
        "execution": {
          "iopub.execute_input": "2023-03-16T19:41:20.572191Z",
          "iopub.status.busy": "2023-03-16T19:41:20.571482Z",
          "iopub.status.idle": "2023-03-16T19:42:58.047455Z",
          "shell.execute_reply": "2023-03-16T19:42:58.046266Z",
          "shell.execute_reply.started": "2023-03-16T19:41:20.572149Z"
        },
        "id": "zcZNJ8m-UwRF",
        "trusted": true
      },
      "outputs": [],
      "source": [
        "# You are welcome to adjust these parameters based on your model implementation.\n",
        "num_epochs = 16\n",
        "batch_size = 16\n",
        "\n",
        "parsing_model = TransformerParsingModel().to(device)\n",
        "train(parsing_model, num_epochs, batch_size, \"parsing_model.pt\",\n",
        "      dataset_cls=ParsingDataset)"
      ]
    },
    {
      "cell_type": "markdown",
      "metadata": {
        "id": "tnSnBH-EMnuQ"
      },
      "source": [
        "_We recommend that you download `parsing_model.pt` now in case your runtime gets disconnected._\n",
        "\n",
        "Having trained a parser, it is now time to have it produce trees. The `predict` function will run your parser on batches from the dataset; however, it requires that you implement the `cky_decode` function a few cells down."
      ]
    },
    {
      "cell_type": "code",
      "execution_count": null,
      "metadata": {
        "execution": {
          "iopub.status.busy": "2023-03-16T18:29:49.607083Z",
          "iopub.status.idle": "2023-03-16T18:29:49.607654Z",
          "shell.execute_reply": "2023-03-16T18:29:49.607446Z",
          "shell.execute_reply.started": "2023-03-16T18:29:49.607421Z"
        },
        "id": "RGk0toh0OIDK",
        "trusted": true
      },
      "outputs": [],
      "source": [
        "def predict(parsing_model, split, tagging_model=None):\n",
        "  assert split in ('dev', 'test')\n",
        "  if tagging_model is None:\n",
        "    tagged_sents = READER.tagged_sents(split)\n",
        "  else:\n",
        "    tagged_sents = predict_tags(tagging_model, split)\n",
        "  \n",
        "  label_scores_charts = predict_span_label_scores(parsing_model, split)\n",
        "\n",
        "  pred_trees = []\n",
        "  for tagged_sent, label_scores_chart in zip(tagged_sents, label_scores_charts):\n",
        "    leaves = [nltk.tree.Tree(tag, [word]) for word, tag in tagged_sent]\n",
        "  #   tree = cky_decode(leaves, label_scores_chart)\n",
        "  #   tree = uncollapse_tree(tree)\n",
        "  #   pred_trees.append(tree)\n",
        "  # return pred_trees\n",
        "  return leaves\n",
        "\n",
        "\n",
        "def predict_span_label_scores(parsing_model, split):\n",
        "  assert split in ('dev', 'test')\n",
        "  dataset = ParsingDataset(split)\n",
        "  data_loader = torch.utils.data.DataLoader(\n",
        "    dataset, batch_size=8, shuffle=False, collate_fn=dataset.collate)\n",
        "  parsing_model.eval()\n",
        "  all_label_scores_charts = []\n",
        "  with torch.no_grad():\n",
        "    for batch in data_loader:\n",
        "      label_scores_charts = parsing_model.encode(batch)\n",
        "      label_scores_charts = F.log_softmax(label_scores_charts, dim=-1) # Not necessary, but okay to keep. \n",
        "      for i in range(batch['ids'].shape[0]):\n",
        "        label_scores_chart = label_scores_charts[i]\n",
        "\n",
        "        # The data pipeline uses is_word_end for consistency with the part of\n",
        "        # speech tagging models, but here we need is_word_start instead. Note\n",
        "        # that because span endpoints use exclusive indexing, the index actually\n",
        "        # points to the first subword in the next word.\n",
        "        is_word_end = batch['is_word_end'][i]\n",
        "        is_word_start = F.pad(is_word_end, (1, -1), value=False)\n",
        "        is_word_start[1] = True\n",
        "\n",
        "        # Extract scores for whole words only, ignoring any model decisions that\n",
        "        # have a span start or end halfway through a word. Evaluation for\n",
        "        # parsing typically uses the ground-truth tokenization from the dataset.\n",
        "        label_scores_chart = label_scores_chart[\n",
        "            is_word_start, : ,:][:, is_word_start, :]\n",
        "        label_scores_chart = label_scores_chart.cpu().numpy()\n",
        "\n",
        "        all_label_scores_charts.append(label_scores_chart)\n",
        "\n",
        "  return all_label_scores_charts\n",
        "\n",
        "\n",
        "def uncollapse_tree(tree):\n",
        "  if isinstance(tree, str):\n",
        "    return tree\n",
        "  else:\n",
        "    labels = tree.label().split('+')\n",
        "    children = []\n",
        "    for child in tree:\n",
        "      child = uncollapse_tree(child)\n",
        "      if isinstance(child, str) and (len(tree) > 1\n",
        "                                     or labels[-1] not in PARTS_OF_SPEECH):\n",
        "        child = nltk.tree.Tree('UNK', [child])\n",
        "      children.append(child)\n",
        "    for label in labels[::-1]:\n",
        "      children = [nltk.tree.Tree(label, children)]\n",
        "    return children[0]"
      ]
    },
    {
      "cell_type": "markdown",
      "metadata": {
        "id": "xDMZUA84NM2R"
      },
      "source": [
        "The argmax model predictions are not guaranteed to be a valid tree: some of the spans may intersect with one another, which is not allowed in our syntactic formalism. Your next task is to implement CKY decoding, which will be used to find the highest-scoring tree under the model (i.e. the set of span label assignments with highest probability, among all sets where none of the spans intersect).  You can reference the parsing lecture slides if you aren't sure where to start.  Note that the lecture slides CKY required special handling for unary chains, but you will not need to implement this case because we have collapsed all unary chains into a single label.  Also, while traditional CKY had to maximize over production rules (between a span label and its children's labels), here we can maximize over span labels independently because we aren't modeling interactions between adjacent labels.\n",
        "\n",
        "CKY is designed to handle binary trees, but some productions have greater than two children.  For this project, we will handle non-binary productions by allowing intermediate dummy nodes with a special null label, implemented in the code as an empty string '' at index 0 in SPAN_LABELS.  All non-spans are assigned this label.  You should allow your CKY to select spans with the null label, but then collapse them out when creating the tree.  For example, to create a trinary production \"(A  b c d)\", CKY would select a tree that looks like \"(A  b (null  c d))\" or \"(A  (null  b c) d)\" and then would remove the null nodes to get \"(A  b c d)\" like we wanted.\n",
        "\n",
        "You will find that if you allow CKY to select null labels and you directly use log probabilities as the scores, you will often end up with trees made up entirely of null labels.  This happens because many spans have a very high probability assigned to the null label (because they clearly shouldn't be a constituent), and choosing a maximum probability tree will be biased towards selecting these.  To avoid having high-probability null labels competing with non-null labels, we can normalize our scores in a different way: for each span, we will subtract the score (logit) of the null label from the scores of all the labels (both null and non-null).  This will make all null label scores 0, and scale the other label scores of the span appropriately.  This normalization will make it so that if a local span decision would prefer a non-null label it will have positive score, and thus have higher score than all 0-score null labels.  That way, we will prefer to use spans with non-null labels unless they conflict with eachother.\n",
        "\n",
        "Implementation tip: Don't forget that it is possible for the tree to have labels on spans of length 1.  These labels will go directly above the part of speech label.  Take a look at the example tree at the beginning of \"Parsing: Setup\", which has a NP span label directly above the NN part-of-speech label."
      ]
    },
    {
      "cell_type": "code",
      "execution_count": null,
      "metadata": {
        "execution": {
          "iopub.status.busy": "2023-03-16T18:29:49.608692Z",
          "iopub.status.idle": "2023-03-16T18:29:49.609533Z",
          "shell.execute_reply": "2023-03-16T18:29:49.609315Z",
          "shell.execute_reply.started": "2023-03-16T18:29:49.609282Z"
        },
        "id": "Bk1v6zptPrtL",
        "trusted": true
      },
      "outputs": [],
      "source": [
        "def cky_decode(leaves, label_scores_chart):\n",
        "  \"\"\"YOUR CODE HERE\"\"\"\n",
        "  # BEGIN SOLUTION\n",
        "\n",
        "  \n",
        "\n",
        "  # END SOLUTION\n",
        "\n",
        "  if 'you have not implemented this function yet':\n",
        "    print('Leaves are:')\n",
        "    print(leaves)\n",
        "    print('label_scores_chart has the following shape:')\n",
        "    print(label_scores_chart.shape)\n",
        "    raise NotImplementedError()"
      ]
    },
    {
      "cell_type": "markdown",
      "metadata": {
        "id": "ZF7gyh-HNY7W"
      },
      "source": [
        "The code below runs the parser on the validation data and displays one of the trees."
      ]
    },
    {
      "cell_type": "code",
      "execution_count": null,
      "metadata": {
        "execution": {
          "iopub.status.busy": "2023-03-16T18:29:49.610620Z",
          "iopub.status.idle": "2023-03-16T18:29:49.611165Z",
          "shell.execute_reply": "2023-03-16T18:29:49.610955Z",
          "shell.execute_reply.started": "2023-03-16T18:29:49.610931Z"
        },
        "id": "T3CLSr4cQODq",
        "trusted": true
      },
      "outputs": [],
      "source": [
        "predicted_dev_trees = predict(parsing_model, 'dev')\n",
        "predicted_dev_trees[6]"
      ]
    },
    {
      "cell_type": "markdown",
      "metadata": {
        "id": "TFbnEobgQIWx"
      },
      "source": [
        "## Final evaluation"
      ]
    },
    {
      "cell_type": "markdown",
      "metadata": {
        "id": "gb5gwdPjQ9gi"
      },
      "source": [
        "The standard evaluation for parsing is typically performed using the EVALB software (https://nlp.cs.nyu.edu/evalb/). The F1 score it reports is slightly different than what we reported during training. For one, this score is computed over original spans, without collapsing unary chains. For a constituent to be considered correct, its label must match the ground-truth label. EVALB also ignores punctuation when determining whether spans are correct.\n",
        "\n",
        "The metrics reported by EVALB include:\n",
        "- *Bracketing Recall*: Number of correct constituents divided by the number of constituents in the ground-truth data\n",
        "- *Bracketing Precision*: Number of correct constituents divided by the number of constituents in the predicted trees\n",
        "- *Bracketing FMeasure*: The F1 score, which is the harmonic mean of the Bracketing Recall and Bracketing Precision\n",
        "- *Complete Match*: Percentage of sentences where recall and precision are both 100%\n",
        "- *Average crossing*: Number of constituents crossing a ground-truth constituent divided by the number of sentences\n",
        "- *No crossing*: Percentage of sentences which have 0 crossing brackets\n",
        "\n",
        "Metrics are reported both for the full dataset and for the subset of sentences that have length 40 or shorter.\n",
        "\n",
        "Your model should be able to achieve an F1 score (\"Bracketing FMeasure\") **above 89.0 for sentences of length 40 or shorter** (\"len<=40\"). **The autograder will check this number as part of grading.**\n",
        "\n",
        "In the interest of speed, the code in this project only trains on short sentences, and our recommended hyperparameters keep the model size small. Relaxing these restrictions and training for about a day can give better results, possibly as high as 92 F1 on sentences of all lengths."
      ]
    },
    {
      "cell_type": "code",
      "execution_count": null,
      "metadata": {
        "execution": {
          "iopub.status.busy": "2023-03-16T15:37:50.966504Z",
          "iopub.status.idle": "2023-03-16T15:37:50.967099Z",
          "shell.execute_reply": "2023-03-16T15:37:50.966883Z",
          "shell.execute_reply.started": "2023-03-16T15:37:50.966852Z"
        },
        "id": "gNePLbPGQkrk",
        "trusted": true
      },
      "outputs": [],
      "source": [
        "# We first need to compile the EVALB program\n",
        "!cd EVALB; make "
      ]
    },
    {
      "cell_type": "code",
      "execution_count": null,
      "metadata": {
        "execution": {
          "iopub.status.busy": "2023-03-16T15:37:50.968239Z",
          "iopub.status.idle": "2023-03-16T15:37:50.968859Z",
          "shell.execute_reply": "2023-03-16T15:37:50.968620Z",
          "shell.execute_reply.started": "2023-03-16T15:37:50.968590Z"
        },
        "id": "m7vBflpYQKof",
        "trusted": true
      },
      "outputs": [],
      "source": [
        "with open('./dev_predictions_parser_only.txt', 'w') as f:\n",
        "  for tree in predicted_dev_trees:\n",
        "    f.write(' '.join(str(tree).split()) + '\\n')"
      ]
    },
    {
      "cell_type": "code",
      "execution_count": null,
      "metadata": {
        "execution": {
          "iopub.status.busy": "2023-03-16T15:37:50.970189Z",
          "iopub.status.idle": "2023-03-16T15:37:50.970792Z",
          "shell.execute_reply": "2023-03-16T15:37:50.970565Z",
          "shell.execute_reply.started": "2023-03-16T15:37:50.970537Z"
        },
        "id": "G-DeuFtciydn",
        "trusted": true
      },
      "outputs": [],
      "source": [
        "!EVALB/evalb -p EVALB/nk.prm dev dev_predictions_parser_only.txt | tail -n 29"
      ]
    },
    {
      "cell_type": "markdown",
      "metadata": {
        "id": "p4phpKIGu4MW"
      },
      "source": [
        "# Report: Parsing Error Analysis\n",
        "\n",
        "For this section, you will perform error analysis on your parser. You should aim for no more than 1-page worth of text, but may use more pages to fit any figures and visualizations you deem appropriate. You may use any editor you like, but we recommend using LaTeX and working in an environment like Overleaf. \n",
        "\n",
        "You are free to decide on what analysis to perform. Your analysis should dive into the details of an aspect of the model's behavior beyond just reporting its evaluation performance from EVALB. Some examples of what you could do: \n",
        "\n",
        "* Analyze precision-recall curves, training graphs, or other experimental statistics. \n",
        "* Comparison of model performance across word categories or sentence types (e.g. NP vs VP), accompanied by appropriate statistics. \n",
        "* A qualitative analysis of how your model resolves instances of structural ambiguity in sentences you write (https://allthingslinguistic.com/post/52411342274/how-many-meanings-can-you-get-for-the-sentence-i).\n",
        "* etc.\n",
        "\n",
        "For full credit, your report should include the following: \n",
        "1. An in depth analysis of your choice into an aspect of the model's parsing behavior. \n",
        "2. Figures supporting your analysis, e.g. plots, tables, parse trees predicted by your model and ground-truth trees from the development set, etc. \n",
        "\n",
        "When you submit the report, name it **report.pdf**. "
      ]
    },
    {
      "cell_type": "markdown",
      "metadata": {
        "id": "kotdLszxHWWJ"
      },
      "source": [
        "## Submission"
      ]
    },
    {
      "cell_type": "markdown",
      "metadata": {
        "id": "-onu93vgG2-U"
      },
      "source": [
        "Your submission should consist of your code, as well as parsing and tagging predictions for both validation and test data. Turn in the following files on Gradescope:\n",
        "* hw3.ipynb (this file; please rename to match)\n",
        "* dev_predictions_tagger_only.txt\n",
        "* dev_spans.txt\n",
        "* dev_predictions_parser_only.txt\n",
        "* test_predictions.txt\n",
        "* report.pdf\n",
        "\n",
        "Here, the `predict` function runs both the tagger and the parser, combining their results into a single tree object. The predicted trees are saved as text files, with one line per tree.\n",
        "\n",
        "Be sure to check the output of the autograder after it runs.  It should confirm that no files are missing and that the output files have the correct format."
      ]
    },
    {
      "cell_type": "code",
      "execution_count": null,
      "metadata": {
        "execution": {
          "iopub.status.busy": "2023-03-16T15:37:50.971973Z",
          "iopub.status.idle": "2023-03-16T15:37:50.972607Z",
          "shell.execute_reply": "2023-03-16T15:37:50.972362Z",
          "shell.execute_reply.started": "2023-03-16T15:37:50.972334Z"
        },
        "id": "MEKX13O00oXI",
        "trusted": true
      },
      "outputs": [],
      "source": [
        "# Uncomment this code to restore models from a checkpoint.\n",
        "\n",
        "tagging_model = TransformerPOSTaggingModel().to(device)\n",
        "tagging_model.load_state_dict(torch.load('tagging_model.pt'))\n",
        "parsing_model = TransformerParsingModel().to(device)\n",
        "parsing_model.load_state_dict(torch.load('parsing_model.pt'))\n",
        "\n",
        "with open('./dev_predictions_tagger_only.txt', 'w') as f:\n",
        "  for tagged_sent in predict_tags(tagging_model, 'dev'):\n",
        "    leaves = [nltk.tree.Tree(tag, [word]) for word, tag in tagged_sent]\n",
        "    dummy_tree = nltk.tree.Tree('TOP', leaves)\n",
        "    f.write(' '.join(str(dummy_tree).split()) + '\\n')\n",
        "\n",
        "with open('./dev_spans.txt', 'w') as f:\n",
        "  for n, chart in enumerate(predict_span_label_scores(parsing_model, 'dev')):\n",
        "    chart = np.argmax(chart, -1)\n",
        "    for i in range(chart.shape[0]):\n",
        "      for j in range(i+1, chart.shape[1]):\n",
        "        if chart[i, j] > 0:\n",
        "          f.write(f'{n} {i} {j} {SPAN_LABELS[chart[i, j]]}\\n')\n",
        "\n",
        "with open('./dev_predictions_parser_only.txt', 'w') as f:\n",
        "  for tree in predict(parsing_model, 'dev'):\n",
        "    f.write(' '.join(str(tree).split()) + '\\n')\n",
        "\n",
        "with open('./test_predictions.txt', 'w') as f:\n",
        "  for tree in predict(parsing_model, 'test', tagging_model=tagging_model):\n",
        "    f.write(' '.join(str(tree).split()) + '\\n')"
      ]
    },
    {
      "cell_type": "markdown",
      "metadata": {
        "id": "lLDTsOfv-8oR"
      },
      "source": [
        "For full credit on the tagging portion:\n",
        "- `dev_tagging_accuracy` must exceed 95\n",
        "- `test_tagging_accuracy` should exceed 94\n",
        "\n",
        "For full credit on the parsing portion:\n",
        "- `dev_f1` must exceed 89\n",
        "- `test_f1` should exceed 88\n",
        "\n",
        "For partial credit on the parsing portion, due to not having implemented CKY:\n",
        "- `dev_f1_no_cky` should exceed 86\n"
      ]
    },
    {
      "cell_type": "code",
      "execution_count": null,
      "metadata": {
        "id": "O49rpSXuiGwP"
      },
      "outputs": [],
      "source": []
    }
  ],
  "metadata": {
    "accelerator": "GPU",
    "colab": {
      "provenance": []
    },
    "gpuClass": "standard",
    "kernelspec": {
      "display_name": "Python 3",
      "language": "python",
      "name": "python3"
    },
    "language_info": {
      "codemirror_mode": {
        "name": "ipython",
        "version": 3
      },
      "file_extension": ".py",
      "mimetype": "text/x-python",
      "name": "python",
      "nbconvert_exporter": "python",
      "pygments_lexer": "ipython3",
      "version": "3.7.12"
    },
    "widgets": {
      "application/vnd.jupyter.widget-state+json": {
        "00568c68eb4b41fb8bbb1fc6dc650714": {
          "model_module": "@jupyter-widgets/controls",
          "model_module_version": "1.5.0",
          "model_name": "HBoxModel",
          "state": {
            "_dom_classes": [],
            "_model_module": "@jupyter-widgets/controls",
            "_model_module_version": "1.5.0",
            "_model_name": "HBoxModel",
            "_view_count": null,
            "_view_module": "@jupyter-widgets/controls",
            "_view_module_version": "1.5.0",
            "_view_name": "HBoxView",
            "box_style": "",
            "children": [
              "IPY_MODEL_70ddfdb6f53f494bb5a16a7a8ab60364",
              "IPY_MODEL_d6b09b9644d44163847ebbc289e7856c",
              "IPY_MODEL_7fe77254267543a281d4e81d6122696e"
            ],
            "layout": "IPY_MODEL_9836524747324c0b90170d1fd61d1bf2"
          }
        },
        "02d8f31652824dad9d4d637eafe7510c": {
          "model_module": "@jupyter-widgets/controls",
          "model_module_version": "1.5.0",
          "model_name": "DescriptionStyleModel",
          "state": {
            "_model_module": "@jupyter-widgets/controls",
            "_model_module_version": "1.5.0",
            "_model_name": "DescriptionStyleModel",
            "_view_count": null,
            "_view_module": "@jupyter-widgets/base",
            "_view_module_version": "1.2.0",
            "_view_name": "StyleView",
            "description_width": ""
          }
        },
        "049200118ff54f8888a1943437427528": {
          "model_module": "@jupyter-widgets/base",
          "model_module_version": "1.2.0",
          "model_name": "LayoutModel",
          "state": {
            "_model_module": "@jupyter-widgets/base",
            "_model_module_version": "1.2.0",
            "_model_name": "LayoutModel",
            "_view_count": null,
            "_view_module": "@jupyter-widgets/base",
            "_view_module_version": "1.2.0",
            "_view_name": "LayoutView",
            "align_content": null,
            "align_items": null,
            "align_self": null,
            "border": null,
            "bottom": null,
            "display": null,
            "flex": null,
            "flex_flow": null,
            "grid_area": null,
            "grid_auto_columns": null,
            "grid_auto_flow": null,
            "grid_auto_rows": null,
            "grid_column": null,
            "grid_gap": null,
            "grid_row": null,
            "grid_template_areas": null,
            "grid_template_columns": null,
            "grid_template_rows": null,
            "height": null,
            "justify_content": null,
            "justify_items": null,
            "left": null,
            "margin": null,
            "max_height": null,
            "max_width": null,
            "min_height": null,
            "min_width": null,
            "object_fit": null,
            "object_position": null,
            "order": null,
            "overflow": null,
            "overflow_x": null,
            "overflow_y": null,
            "padding": null,
            "right": null,
            "top": null,
            "visibility": null,
            "width": null
          }
        },
        "09f055354d324b51a9a2b10dcf67a820": {
          "model_module": "@jupyter-widgets/base",
          "model_module_version": "1.2.0",
          "model_name": "LayoutModel",
          "state": {
            "_model_module": "@jupyter-widgets/base",
            "_model_module_version": "1.2.0",
            "_model_name": "LayoutModel",
            "_view_count": null,
            "_view_module": "@jupyter-widgets/base",
            "_view_module_version": "1.2.0",
            "_view_name": "LayoutView",
            "align_content": null,
            "align_items": null,
            "align_self": null,
            "border": null,
            "bottom": null,
            "display": null,
            "flex": null,
            "flex_flow": null,
            "grid_area": null,
            "grid_auto_columns": null,
            "grid_auto_flow": null,
            "grid_auto_rows": null,
            "grid_column": null,
            "grid_gap": null,
            "grid_row": null,
            "grid_template_areas": null,
            "grid_template_columns": null,
            "grid_template_rows": null,
            "height": null,
            "justify_content": null,
            "justify_items": null,
            "left": null,
            "margin": null,
            "max_height": null,
            "max_width": null,
            "min_height": null,
            "min_width": null,
            "object_fit": null,
            "object_position": null,
            "order": null,
            "overflow": null,
            "overflow_x": null,
            "overflow_y": null,
            "padding": null,
            "right": null,
            "top": null,
            "visibility": null,
            "width": null
          }
        },
        "0ace9e49e247459d987e382d957eee02": {
          "model_module": "@jupyter-widgets/base",
          "model_module_version": "1.2.0",
          "model_name": "LayoutModel",
          "state": {
            "_model_module": "@jupyter-widgets/base",
            "_model_module_version": "1.2.0",
            "_model_name": "LayoutModel",
            "_view_count": null,
            "_view_module": "@jupyter-widgets/base",
            "_view_module_version": "1.2.0",
            "_view_name": "LayoutView",
            "align_content": null,
            "align_items": null,
            "align_self": null,
            "border": null,
            "bottom": null,
            "display": null,
            "flex": null,
            "flex_flow": null,
            "grid_area": null,
            "grid_auto_columns": null,
            "grid_auto_flow": null,
            "grid_auto_rows": null,
            "grid_column": null,
            "grid_gap": null,
            "grid_row": null,
            "grid_template_areas": null,
            "grid_template_columns": null,
            "grid_template_rows": null,
            "height": null,
            "justify_content": null,
            "justify_items": null,
            "left": null,
            "margin": null,
            "max_height": null,
            "max_width": null,
            "min_height": null,
            "min_width": null,
            "object_fit": null,
            "object_position": null,
            "order": null,
            "overflow": null,
            "overflow_x": null,
            "overflow_y": null,
            "padding": null,
            "right": null,
            "top": null,
            "visibility": null,
            "width": null
          }
        },
        "0b82bdc5d3e44891a5fc11f3a6f737ca": {
          "model_module": "@jupyter-widgets/controls",
          "model_module_version": "1.5.0",
          "model_name": "HBoxModel",
          "state": {
            "_dom_classes": [],
            "_model_module": "@jupyter-widgets/controls",
            "_model_module_version": "1.5.0",
            "_model_name": "HBoxModel",
            "_view_count": null,
            "_view_module": "@jupyter-widgets/controls",
            "_view_module_version": "1.5.0",
            "_view_name": "HBoxView",
            "box_style": "",
            "children": [
              "IPY_MODEL_9cf9f2e9663141a4a4c31895390c6a33",
              "IPY_MODEL_df942f3901f141e79bd726059556c2e7",
              "IPY_MODEL_f75aed72edea4e1bbbe12459ad2a50af"
            ],
            "layout": "IPY_MODEL_049200118ff54f8888a1943437427528"
          }
        },
        "11788c3e5cd34f97b3859915d927d40b": {
          "model_module": "@jupyter-widgets/controls",
          "model_module_version": "1.5.0",
          "model_name": "ProgressStyleModel",
          "state": {
            "_model_module": "@jupyter-widgets/controls",
            "_model_module_version": "1.5.0",
            "_model_name": "ProgressStyleModel",
            "_view_count": null,
            "_view_module": "@jupyter-widgets/base",
            "_view_module_version": "1.2.0",
            "_view_name": "StyleView",
            "bar_color": null,
            "description_width": ""
          }
        },
        "11843df37d144659a506abdd327cb83c": {
          "model_module": "@jupyter-widgets/controls",
          "model_module_version": "1.5.0",
          "model_name": "DescriptionStyleModel",
          "state": {
            "_model_module": "@jupyter-widgets/controls",
            "_model_module_version": "1.5.0",
            "_model_name": "DescriptionStyleModel",
            "_view_count": null,
            "_view_module": "@jupyter-widgets/base",
            "_view_module_version": "1.2.0",
            "_view_name": "StyleView",
            "description_width": ""
          }
        },
        "12b97d638db249eeb7d6d603839712bf": {
          "model_module": "@jupyter-widgets/controls",
          "model_module_version": "1.5.0",
          "model_name": "ProgressStyleModel",
          "state": {
            "_model_module": "@jupyter-widgets/controls",
            "_model_module_version": "1.5.0",
            "_model_name": "ProgressStyleModel",
            "_view_count": null,
            "_view_module": "@jupyter-widgets/base",
            "_view_module_version": "1.2.0",
            "_view_name": "StyleView",
            "bar_color": null,
            "description_width": ""
          }
        },
        "14d050d52a5b4508887f7b2537ac6283": {
          "model_module": "@jupyter-widgets/base",
          "model_module_version": "1.2.0",
          "model_name": "LayoutModel",
          "state": {
            "_model_module": "@jupyter-widgets/base",
            "_model_module_version": "1.2.0",
            "_model_name": "LayoutModel",
            "_view_count": null,
            "_view_module": "@jupyter-widgets/base",
            "_view_module_version": "1.2.0",
            "_view_name": "LayoutView",
            "align_content": null,
            "align_items": null,
            "align_self": null,
            "border": null,
            "bottom": null,
            "display": null,
            "flex": null,
            "flex_flow": null,
            "grid_area": null,
            "grid_auto_columns": null,
            "grid_auto_flow": null,
            "grid_auto_rows": null,
            "grid_column": null,
            "grid_gap": null,
            "grid_row": null,
            "grid_template_areas": null,
            "grid_template_columns": null,
            "grid_template_rows": null,
            "height": null,
            "justify_content": null,
            "justify_items": null,
            "left": null,
            "margin": null,
            "max_height": null,
            "max_width": null,
            "min_height": null,
            "min_width": null,
            "object_fit": null,
            "object_position": null,
            "order": null,
            "overflow": null,
            "overflow_x": null,
            "overflow_y": null,
            "padding": null,
            "right": null,
            "top": null,
            "visibility": null,
            "width": null
          }
        },
        "15ebcab5690d4233b44490dd14699749": {
          "model_module": "@jupyter-widgets/base",
          "model_module_version": "1.2.0",
          "model_name": "LayoutModel",
          "state": {
            "_model_module": "@jupyter-widgets/base",
            "_model_module_version": "1.2.0",
            "_model_name": "LayoutModel",
            "_view_count": null,
            "_view_module": "@jupyter-widgets/base",
            "_view_module_version": "1.2.0",
            "_view_name": "LayoutView",
            "align_content": null,
            "align_items": null,
            "align_self": null,
            "border": null,
            "bottom": null,
            "display": null,
            "flex": null,
            "flex_flow": null,
            "grid_area": null,
            "grid_auto_columns": null,
            "grid_auto_flow": null,
            "grid_auto_rows": null,
            "grid_column": null,
            "grid_gap": null,
            "grid_row": null,
            "grid_template_areas": null,
            "grid_template_columns": null,
            "grid_template_rows": null,
            "height": null,
            "justify_content": null,
            "justify_items": null,
            "left": null,
            "margin": null,
            "max_height": null,
            "max_width": null,
            "min_height": null,
            "min_width": null,
            "object_fit": null,
            "object_position": null,
            "order": null,
            "overflow": null,
            "overflow_x": null,
            "overflow_y": null,
            "padding": null,
            "right": null,
            "top": null,
            "visibility": null,
            "width": null
          }
        },
        "16f0f4300c804416b6dda96d0f30727c": {
          "model_module": "@jupyter-widgets/controls",
          "model_module_version": "1.5.0",
          "model_name": "HTMLModel",
          "state": {
            "_dom_classes": [],
            "_model_module": "@jupyter-widgets/controls",
            "_model_module_version": "1.5.0",
            "_model_name": "HTMLModel",
            "_view_count": null,
            "_view_module": "@jupyter-widgets/controls",
            "_view_module_version": "1.5.0",
            "_view_name": "HTMLView",
            "description": "",
            "description_tooltip": null,
            "layout": "IPY_MODEL_c2abb4d47b934d02996241aa5ecfb247",
            "placeholder": "​",
            "style": "IPY_MODEL_cdf6ce73a253464090e080f4bbac7a45",
            "value": " 282/2298 [00:12&lt;01:22, 24.42batch/s, mean_loss=0.112]"
          }
        },
        "1b31866d2d3a4a538284d16b29666a4d": {
          "model_module": "@jupyter-widgets/controls",
          "model_module_version": "1.5.0",
          "model_name": "HTMLModel",
          "state": {
            "_dom_classes": [],
            "_model_module": "@jupyter-widgets/controls",
            "_model_module_version": "1.5.0",
            "_model_name": "HTMLModel",
            "_view_count": null,
            "_view_module": "@jupyter-widgets/controls",
            "_view_module_version": "1.5.0",
            "_view_name": "HTMLView",
            "description": "",
            "description_tooltip": null,
            "layout": "IPY_MODEL_983026ff9de6466ea161a6e5bd1b46af",
            "placeholder": "​",
            "style": "IPY_MODEL_6f5ba683e652456d899303c16e1f290c",
            "value": "epoch 1: 100%"
          }
        },
        "1ea7b2d2fe594cabb3b14d4357749dd6": {
          "model_module": "@jupyter-widgets/controls",
          "model_module_version": "1.5.0",
          "model_name": "DescriptionStyleModel",
          "state": {
            "_model_module": "@jupyter-widgets/controls",
            "_model_module_version": "1.5.0",
            "_model_name": "DescriptionStyleModel",
            "_view_count": null,
            "_view_module": "@jupyter-widgets/base",
            "_view_module_version": "1.2.0",
            "_view_name": "StyleView",
            "description_width": ""
          }
        },
        "239d42739a4c47389700f258bf5b854d": {
          "model_module": "@jupyter-widgets/controls",
          "model_module_version": "1.5.0",
          "model_name": "HBoxModel",
          "state": {
            "_dom_classes": [],
            "_model_module": "@jupyter-widgets/controls",
            "_model_module_version": "1.5.0",
            "_model_name": "HBoxModel",
            "_view_count": null,
            "_view_module": "@jupyter-widgets/controls",
            "_view_module_version": "1.5.0",
            "_view_name": "HBoxView",
            "box_style": "",
            "children": [
              "IPY_MODEL_b379814f06b445b48dabbadd2acec0b7",
              "IPY_MODEL_295fd609508546ca84083bdcd7599f78",
              "IPY_MODEL_4c4b7115e04f4f41b0d9c72cdecba504"
            ],
            "layout": "IPY_MODEL_3c1bc6e26b60436ea26fa32e45fa3a14"
          }
        },
        "2534ce7141254f8eb1130c8c3f076ca0": {
          "model_module": "@jupyter-widgets/controls",
          "model_module_version": "1.5.0",
          "model_name": "HBoxModel",
          "state": {
            "_dom_classes": [],
            "_model_module": "@jupyter-widgets/controls",
            "_model_module_version": "1.5.0",
            "_model_name": "HBoxModel",
            "_view_count": null,
            "_view_module": "@jupyter-widgets/controls",
            "_view_module_version": "1.5.0",
            "_view_name": "HBoxView",
            "box_style": "",
            "children": [
              "IPY_MODEL_8919dd0080724ace90801e7990bdfba3",
              "IPY_MODEL_ae2f7997337c4a83a59bc9a440c665c7",
              "IPY_MODEL_566a1205bd77406db5890d2201283afb"
            ],
            "layout": "IPY_MODEL_f4511d8c0bbd4936b0c3a36084ce7651"
          }
        },
        "284dd72227c0403094fd239c58afb0f6": {
          "model_module": "@jupyter-widgets/controls",
          "model_module_version": "1.5.0",
          "model_name": "HBoxModel",
          "state": {
            "_dom_classes": [],
            "_model_module": "@jupyter-widgets/controls",
            "_model_module_version": "1.5.0",
            "_model_name": "HBoxModel",
            "_view_count": null,
            "_view_module": "@jupyter-widgets/controls",
            "_view_module_version": "1.5.0",
            "_view_name": "HBoxView",
            "box_style": "",
            "children": [
              "IPY_MODEL_d455b2b345a04b4d8f82cb283ed6cf20",
              "IPY_MODEL_faf02cc7c9e5449e8d6a43a9ebfea612",
              "IPY_MODEL_6257ea76c47c4bd4bac4d4c1ad376ff2"
            ],
            "layout": "IPY_MODEL_b2b7773448124cc5951ce80b2450a0f2"
          }
        },
        "295fd609508546ca84083bdcd7599f78": {
          "model_module": "@jupyter-widgets/controls",
          "model_module_version": "1.5.0",
          "model_name": "FloatProgressModel",
          "state": {
            "_dom_classes": [],
            "_model_module": "@jupyter-widgets/controls",
            "_model_module_version": "1.5.0",
            "_model_name": "FloatProgressModel",
            "_view_count": null,
            "_view_module": "@jupyter-widgets/controls",
            "_view_module_version": "1.5.0",
            "_view_name": "ProgressView",
            "bar_style": "success",
            "description": "",
            "description_tooltip": null,
            "layout": "IPY_MODEL_2e92f24087744a32a5ca9392937bdcf3",
            "max": 2298,
            "min": 0,
            "orientation": "horizontal",
            "style": "IPY_MODEL_671264768c504ac9ac4836a01264ffcd",
            "value": 2298
          }
        },
        "2a49922c65b74bddbd8a7e27beec449a": {
          "model_module": "@jupyter-widgets/base",
          "model_module_version": "1.2.0",
          "model_name": "LayoutModel",
          "state": {
            "_model_module": "@jupyter-widgets/base",
            "_model_module_version": "1.2.0",
            "_model_name": "LayoutModel",
            "_view_count": null,
            "_view_module": "@jupyter-widgets/base",
            "_view_module_version": "1.2.0",
            "_view_name": "LayoutView",
            "align_content": null,
            "align_items": null,
            "align_self": null,
            "border": null,
            "bottom": null,
            "display": null,
            "flex": null,
            "flex_flow": null,
            "grid_area": null,
            "grid_auto_columns": null,
            "grid_auto_flow": null,
            "grid_auto_rows": null,
            "grid_column": null,
            "grid_gap": null,
            "grid_row": null,
            "grid_template_areas": null,
            "grid_template_columns": null,
            "grid_template_rows": null,
            "height": null,
            "justify_content": null,
            "justify_items": null,
            "left": null,
            "margin": null,
            "max_height": null,
            "max_width": null,
            "min_height": null,
            "min_width": null,
            "object_fit": null,
            "object_position": null,
            "order": null,
            "overflow": null,
            "overflow_x": null,
            "overflow_y": null,
            "padding": null,
            "right": null,
            "top": null,
            "visibility": null,
            "width": null
          }
        },
        "2b02c613f4e5482aa6bc51c5de00adac": {
          "model_module": "@jupyter-widgets/controls",
          "model_module_version": "1.5.0",
          "model_name": "DescriptionStyleModel",
          "state": {
            "_model_module": "@jupyter-widgets/controls",
            "_model_module_version": "1.5.0",
            "_model_name": "DescriptionStyleModel",
            "_view_count": null,
            "_view_module": "@jupyter-widgets/base",
            "_view_module_version": "1.2.0",
            "_view_name": "StyleView",
            "description_width": ""
          }
        },
        "2e1fbd4804fb4cb4a969c3f265a8917e": {
          "model_module": "@jupyter-widgets/controls",
          "model_module_version": "1.5.0",
          "model_name": "DescriptionStyleModel",
          "state": {
            "_model_module": "@jupyter-widgets/controls",
            "_model_module_version": "1.5.0",
            "_model_name": "DescriptionStyleModel",
            "_view_count": null,
            "_view_module": "@jupyter-widgets/base",
            "_view_module_version": "1.2.0",
            "_view_name": "StyleView",
            "description_width": ""
          }
        },
        "2e92f24087744a32a5ca9392937bdcf3": {
          "model_module": "@jupyter-widgets/base",
          "model_module_version": "1.2.0",
          "model_name": "LayoutModel",
          "state": {
            "_model_module": "@jupyter-widgets/base",
            "_model_module_version": "1.2.0",
            "_model_name": "LayoutModel",
            "_view_count": null,
            "_view_module": "@jupyter-widgets/base",
            "_view_module_version": "1.2.0",
            "_view_name": "LayoutView",
            "align_content": null,
            "align_items": null,
            "align_self": null,
            "border": null,
            "bottom": null,
            "display": null,
            "flex": null,
            "flex_flow": null,
            "grid_area": null,
            "grid_auto_columns": null,
            "grid_auto_flow": null,
            "grid_auto_rows": null,
            "grid_column": null,
            "grid_gap": null,
            "grid_row": null,
            "grid_template_areas": null,
            "grid_template_columns": null,
            "grid_template_rows": null,
            "height": null,
            "justify_content": null,
            "justify_items": null,
            "left": null,
            "margin": null,
            "max_height": null,
            "max_width": null,
            "min_height": null,
            "min_width": null,
            "object_fit": null,
            "object_position": null,
            "order": null,
            "overflow": null,
            "overflow_x": null,
            "overflow_y": null,
            "padding": null,
            "right": null,
            "top": null,
            "visibility": null,
            "width": null
          }
        },
        "397da604523f42eea8c916c43ba04e17": {
          "model_module": "@jupyter-widgets/base",
          "model_module_version": "1.2.0",
          "model_name": "LayoutModel",
          "state": {
            "_model_module": "@jupyter-widgets/base",
            "_model_module_version": "1.2.0",
            "_model_name": "LayoutModel",
            "_view_count": null,
            "_view_module": "@jupyter-widgets/base",
            "_view_module_version": "1.2.0",
            "_view_name": "LayoutView",
            "align_content": null,
            "align_items": null,
            "align_self": null,
            "border": null,
            "bottom": null,
            "display": null,
            "flex": null,
            "flex_flow": null,
            "grid_area": null,
            "grid_auto_columns": null,
            "grid_auto_flow": null,
            "grid_auto_rows": null,
            "grid_column": null,
            "grid_gap": null,
            "grid_row": null,
            "grid_template_areas": null,
            "grid_template_columns": null,
            "grid_template_rows": null,
            "height": null,
            "justify_content": null,
            "justify_items": null,
            "left": null,
            "margin": null,
            "max_height": null,
            "max_width": null,
            "min_height": null,
            "min_width": null,
            "object_fit": null,
            "object_position": null,
            "order": null,
            "overflow": null,
            "overflow_x": null,
            "overflow_y": null,
            "padding": null,
            "right": null,
            "top": null,
            "visibility": null,
            "width": null
          }
        },
        "3add02560a584d0bb10b87ef34e426ba": {
          "model_module": "@jupyter-widgets/base",
          "model_module_version": "1.2.0",
          "model_name": "LayoutModel",
          "state": {
            "_model_module": "@jupyter-widgets/base",
            "_model_module_version": "1.2.0",
            "_model_name": "LayoutModel",
            "_view_count": null,
            "_view_module": "@jupyter-widgets/base",
            "_view_module_version": "1.2.0",
            "_view_name": "LayoutView",
            "align_content": null,
            "align_items": null,
            "align_self": null,
            "border": null,
            "bottom": null,
            "display": null,
            "flex": null,
            "flex_flow": null,
            "grid_area": null,
            "grid_auto_columns": null,
            "grid_auto_flow": null,
            "grid_auto_rows": null,
            "grid_column": null,
            "grid_gap": null,
            "grid_row": null,
            "grid_template_areas": null,
            "grid_template_columns": null,
            "grid_template_rows": null,
            "height": null,
            "justify_content": null,
            "justify_items": null,
            "left": null,
            "margin": null,
            "max_height": null,
            "max_width": null,
            "min_height": null,
            "min_width": null,
            "object_fit": null,
            "object_position": null,
            "order": null,
            "overflow": null,
            "overflow_x": null,
            "overflow_y": null,
            "padding": null,
            "right": null,
            "top": null,
            "visibility": null,
            "width": null
          }
        },
        "3bfeb0271549492e8f88537efc80b96e": {
          "model_module": "@jupyter-widgets/base",
          "model_module_version": "1.2.0",
          "model_name": "LayoutModel",
          "state": {
            "_model_module": "@jupyter-widgets/base",
            "_model_module_version": "1.2.0",
            "_model_name": "LayoutModel",
            "_view_count": null,
            "_view_module": "@jupyter-widgets/base",
            "_view_module_version": "1.2.0",
            "_view_name": "LayoutView",
            "align_content": null,
            "align_items": null,
            "align_self": null,
            "border": null,
            "bottom": null,
            "display": null,
            "flex": null,
            "flex_flow": null,
            "grid_area": null,
            "grid_auto_columns": null,
            "grid_auto_flow": null,
            "grid_auto_rows": null,
            "grid_column": null,
            "grid_gap": null,
            "grid_row": null,
            "grid_template_areas": null,
            "grid_template_columns": null,
            "grid_template_rows": null,
            "height": null,
            "justify_content": null,
            "justify_items": null,
            "left": null,
            "margin": null,
            "max_height": null,
            "max_width": null,
            "min_height": null,
            "min_width": null,
            "object_fit": null,
            "object_position": null,
            "order": null,
            "overflow": null,
            "overflow_x": null,
            "overflow_y": null,
            "padding": null,
            "right": null,
            "top": null,
            "visibility": null,
            "width": null
          }
        },
        "3c1bc6e26b60436ea26fa32e45fa3a14": {
          "model_module": "@jupyter-widgets/base",
          "model_module_version": "1.2.0",
          "model_name": "LayoutModel",
          "state": {
            "_model_module": "@jupyter-widgets/base",
            "_model_module_version": "1.2.0",
            "_model_name": "LayoutModel",
            "_view_count": null,
            "_view_module": "@jupyter-widgets/base",
            "_view_module_version": "1.2.0",
            "_view_name": "LayoutView",
            "align_content": null,
            "align_items": null,
            "align_self": null,
            "border": null,
            "bottom": null,
            "display": null,
            "flex": null,
            "flex_flow": null,
            "grid_area": null,
            "grid_auto_columns": null,
            "grid_auto_flow": null,
            "grid_auto_rows": null,
            "grid_column": null,
            "grid_gap": null,
            "grid_row": null,
            "grid_template_areas": null,
            "grid_template_columns": null,
            "grid_template_rows": null,
            "height": null,
            "justify_content": null,
            "justify_items": null,
            "left": null,
            "margin": null,
            "max_height": null,
            "max_width": null,
            "min_height": null,
            "min_width": null,
            "object_fit": null,
            "object_position": null,
            "order": null,
            "overflow": null,
            "overflow_x": null,
            "overflow_y": null,
            "padding": null,
            "right": null,
            "top": null,
            "visibility": null,
            "width": null
          }
        },
        "3d60d4ea929e45509778e88ac98f2c0d": {
          "model_module": "@jupyter-widgets/base",
          "model_module_version": "1.2.0",
          "model_name": "LayoutModel",
          "state": {
            "_model_module": "@jupyter-widgets/base",
            "_model_module_version": "1.2.0",
            "_model_name": "LayoutModel",
            "_view_count": null,
            "_view_module": "@jupyter-widgets/base",
            "_view_module_version": "1.2.0",
            "_view_name": "LayoutView",
            "align_content": null,
            "align_items": null,
            "align_self": null,
            "border": null,
            "bottom": null,
            "display": null,
            "flex": null,
            "flex_flow": null,
            "grid_area": null,
            "grid_auto_columns": null,
            "grid_auto_flow": null,
            "grid_auto_rows": null,
            "grid_column": null,
            "grid_gap": null,
            "grid_row": null,
            "grid_template_areas": null,
            "grid_template_columns": null,
            "grid_template_rows": null,
            "height": null,
            "justify_content": null,
            "justify_items": null,
            "left": null,
            "margin": null,
            "max_height": null,
            "max_width": null,
            "min_height": null,
            "min_width": null,
            "object_fit": null,
            "object_position": null,
            "order": null,
            "overflow": null,
            "overflow_x": null,
            "overflow_y": null,
            "padding": null,
            "right": null,
            "top": null,
            "visibility": null,
            "width": null
          }
        },
        "3da47cde049a4c12bf67136dbe121c9b": {
          "model_module": "@jupyter-widgets/controls",
          "model_module_version": "1.5.0",
          "model_name": "HTMLModel",
          "state": {
            "_dom_classes": [],
            "_model_module": "@jupyter-widgets/controls",
            "_model_module_version": "1.5.0",
            "_model_name": "HTMLModel",
            "_view_count": null,
            "_view_module": "@jupyter-widgets/controls",
            "_view_module_version": "1.5.0",
            "_view_name": "HTMLView",
            "description": "",
            "description_tooltip": null,
            "layout": "IPY_MODEL_fa77a65efecf450387f3c2f363badcf1",
            "placeholder": "​",
            "style": "IPY_MODEL_6566b0d5dbfa4ca4bde114f17de9fc0a",
            "value": "training:  62%"
          }
        },
        "43ace51490a54ff588630f840cf1efd6": {
          "model_module": "@jupyter-widgets/controls",
          "model_module_version": "1.5.0",
          "model_name": "HBoxModel",
          "state": {
            "_dom_classes": [],
            "_model_module": "@jupyter-widgets/controls",
            "_model_module_version": "1.5.0",
            "_model_name": "HBoxModel",
            "_view_count": null,
            "_view_module": "@jupyter-widgets/controls",
            "_view_module_version": "1.5.0",
            "_view_name": "HBoxView",
            "box_style": "",
            "children": [
              "IPY_MODEL_3da47cde049a4c12bf67136dbe121c9b",
              "IPY_MODEL_744f8532321443cb9eb4472a2c1d980b",
              "IPY_MODEL_c743074f55b74a51b0e92b9545630fa1"
            ],
            "layout": "IPY_MODEL_bf3c8622e59243138e0e17395311199a"
          }
        },
        "499f0cf00fef4121801283019246f2bc": {
          "model_module": "@jupyter-widgets/controls",
          "model_module_version": "1.5.0",
          "model_name": "HTMLModel",
          "state": {
            "_dom_classes": [],
            "_model_module": "@jupyter-widgets/controls",
            "_model_module_version": "1.5.0",
            "_model_name": "HTMLModel",
            "_view_count": null,
            "_view_module": "@jupyter-widgets/controls",
            "_view_module_version": "1.5.0",
            "_view_name": "HTMLView",
            "description": "",
            "description_tooltip": null,
            "layout": "IPY_MODEL_997b026237f54badbc69884b83753bfb",
            "placeholder": "​",
            "style": "IPY_MODEL_afb7441bb4554dceae818a063666170a",
            "value": "epoch 10: 100%"
          }
        },
        "4c44799686fd4f95a43adbc9fd599813": {
          "model_module": "@jupyter-widgets/base",
          "model_module_version": "1.2.0",
          "model_name": "LayoutModel",
          "state": {
            "_model_module": "@jupyter-widgets/base",
            "_model_module_version": "1.2.0",
            "_model_name": "LayoutModel",
            "_view_count": null,
            "_view_module": "@jupyter-widgets/base",
            "_view_module_version": "1.2.0",
            "_view_name": "LayoutView",
            "align_content": null,
            "align_items": null,
            "align_self": null,
            "border": null,
            "bottom": null,
            "display": null,
            "flex": null,
            "flex_flow": null,
            "grid_area": null,
            "grid_auto_columns": null,
            "grid_auto_flow": null,
            "grid_auto_rows": null,
            "grid_column": null,
            "grid_gap": null,
            "grid_row": null,
            "grid_template_areas": null,
            "grid_template_columns": null,
            "grid_template_rows": null,
            "height": null,
            "justify_content": null,
            "justify_items": null,
            "left": null,
            "margin": null,
            "max_height": null,
            "max_width": null,
            "min_height": null,
            "min_width": null,
            "object_fit": null,
            "object_position": null,
            "order": null,
            "overflow": null,
            "overflow_x": null,
            "overflow_y": null,
            "padding": null,
            "right": null,
            "top": null,
            "visibility": null,
            "width": null
          }
        },
        "4c4b7115e04f4f41b0d9c72cdecba504": {
          "model_module": "@jupyter-widgets/controls",
          "model_module_version": "1.5.0",
          "model_name": "HTMLModel",
          "state": {
            "_dom_classes": [],
            "_model_module": "@jupyter-widgets/controls",
            "_model_module_version": "1.5.0",
            "_model_name": "HTMLModel",
            "_view_count": null,
            "_view_module": "@jupyter-widgets/controls",
            "_view_module_version": "1.5.0",
            "_view_name": "HTMLView",
            "description": "",
            "description_tooltip": null,
            "layout": "IPY_MODEL_faae4b79b72849eebc78a5bc63fbcd78",
            "placeholder": "​",
            "style": "IPY_MODEL_1ea7b2d2fe594cabb3b14d4357749dd6",
            "value": " 2298/2298 [01:41&lt;00:00, 17.54batch/s, mean_loss=0.166]"
          }
        },
        "4c58deac608a4199b9e291ac877291bc": {
          "model_module": "@jupyter-widgets/controls",
          "model_module_version": "1.5.0",
          "model_name": "DescriptionStyleModel",
          "state": {
            "_model_module": "@jupyter-widgets/controls",
            "_model_module_version": "1.5.0",
            "_model_name": "DescriptionStyleModel",
            "_view_count": null,
            "_view_module": "@jupyter-widgets/base",
            "_view_module_version": "1.2.0",
            "_view_name": "StyleView",
            "description_width": ""
          }
        },
        "4ec0f7daa1a14faab804e2bd9d919850": {
          "model_module": "@jupyter-widgets/controls",
          "model_module_version": "1.5.0",
          "model_name": "HBoxModel",
          "state": {
            "_dom_classes": [],
            "_model_module": "@jupyter-widgets/controls",
            "_model_module_version": "1.5.0",
            "_model_name": "HBoxModel",
            "_view_count": null,
            "_view_module": "@jupyter-widgets/controls",
            "_view_module_version": "1.5.0",
            "_view_name": "HBoxView",
            "box_style": "",
            "children": [
              "IPY_MODEL_fe5258c37e6a4be5ae86951ba9443c47",
              "IPY_MODEL_90993290d5b6460e892aaf0a705c20fa",
              "IPY_MODEL_f5154a42cd634c92b0a88efd8160877f"
            ],
            "layout": "IPY_MODEL_5abdb59f0111437da11416cc7c1f11c3"
          }
        },
        "4ff60f40011c4bf49334684721f4adc3": {
          "model_module": "@jupyter-widgets/controls",
          "model_module_version": "1.5.0",
          "model_name": "ProgressStyleModel",
          "state": {
            "_model_module": "@jupyter-widgets/controls",
            "_model_module_version": "1.5.0",
            "_model_name": "ProgressStyleModel",
            "_view_count": null,
            "_view_module": "@jupyter-widgets/base",
            "_view_module_version": "1.2.0",
            "_view_name": "StyleView",
            "bar_color": null,
            "description_width": ""
          }
        },
        "52b910841fb04b6c8da00d5e7f91f15c": {
          "model_module": "@jupyter-widgets/base",
          "model_module_version": "1.2.0",
          "model_name": "LayoutModel",
          "state": {
            "_model_module": "@jupyter-widgets/base",
            "_model_module_version": "1.2.0",
            "_model_name": "LayoutModel",
            "_view_count": null,
            "_view_module": "@jupyter-widgets/base",
            "_view_module_version": "1.2.0",
            "_view_name": "LayoutView",
            "align_content": null,
            "align_items": null,
            "align_self": null,
            "border": null,
            "bottom": null,
            "display": null,
            "flex": null,
            "flex_flow": null,
            "grid_area": null,
            "grid_auto_columns": null,
            "grid_auto_flow": null,
            "grid_auto_rows": null,
            "grid_column": null,
            "grid_gap": null,
            "grid_row": null,
            "grid_template_areas": null,
            "grid_template_columns": null,
            "grid_template_rows": null,
            "height": null,
            "justify_content": null,
            "justify_items": null,
            "left": null,
            "margin": null,
            "max_height": null,
            "max_width": null,
            "min_height": null,
            "min_width": null,
            "object_fit": null,
            "object_position": null,
            "order": null,
            "overflow": null,
            "overflow_x": null,
            "overflow_y": null,
            "padding": null,
            "right": null,
            "top": null,
            "visibility": null,
            "width": null
          }
        },
        "54c7432ba7b946f2b02e8106516ccda2": {
          "model_module": "@jupyter-widgets/controls",
          "model_module_version": "1.5.0",
          "model_name": "FloatProgressModel",
          "state": {
            "_dom_classes": [],
            "_model_module": "@jupyter-widgets/controls",
            "_model_module_version": "1.5.0",
            "_model_name": "FloatProgressModel",
            "_view_count": null,
            "_view_module": "@jupyter-widgets/controls",
            "_view_module_version": "1.5.0",
            "_view_name": "ProgressView",
            "bar_style": "success",
            "description": "",
            "description_tooltip": null,
            "layout": "IPY_MODEL_3d60d4ea929e45509778e88ac98f2c0d",
            "max": 2298,
            "min": 0,
            "orientation": "horizontal",
            "style": "IPY_MODEL_4ff60f40011c4bf49334684721f4adc3",
            "value": 2298
          }
        },
        "566a1205bd77406db5890d2201283afb": {
          "model_module": "@jupyter-widgets/controls",
          "model_module_version": "1.5.0",
          "model_name": "HTMLModel",
          "state": {
            "_dom_classes": [],
            "_model_module": "@jupyter-widgets/controls",
            "_model_module_version": "1.5.0",
            "_model_name": "HTMLModel",
            "_view_count": null,
            "_view_module": "@jupyter-widgets/controls",
            "_view_module_version": "1.5.0",
            "_view_name": "HTMLView",
            "description": "",
            "description_tooltip": null,
            "layout": "IPY_MODEL_9d25876a60a74abc9fe679c4637f25b7",
            "placeholder": "​",
            "style": "IPY_MODEL_11843df37d144659a506abdd327cb83c",
            "value": " 2298/2298 [01:41&lt;00:00, 24.33batch/s, mean_loss=0.306]"
          }
        },
        "569e190525634a93989012c6710df8af": {
          "model_module": "@jupyter-widgets/controls",
          "model_module_version": "1.5.0",
          "model_name": "HBoxModel",
          "state": {
            "_dom_classes": [],
            "_model_module": "@jupyter-widgets/controls",
            "_model_module_version": "1.5.0",
            "_model_name": "HBoxModel",
            "_view_count": null,
            "_view_module": "@jupyter-widgets/controls",
            "_view_module_version": "1.5.0",
            "_view_name": "HBoxView",
            "box_style": "",
            "children": [
              "IPY_MODEL_6f2a1cec390d49b0915e236d7e51a33b",
              "IPY_MODEL_b55a6cbe77354032879a45a67a4c793c",
              "IPY_MODEL_c2bc08e4d59f434197e392b3b9e66638"
            ],
            "layout": "IPY_MODEL_3add02560a584d0bb10b87ef34e426ba"
          }
        },
        "5abdb59f0111437da11416cc7c1f11c3": {
          "model_module": "@jupyter-widgets/base",
          "model_module_version": "1.2.0",
          "model_name": "LayoutModel",
          "state": {
            "_model_module": "@jupyter-widgets/base",
            "_model_module_version": "1.2.0",
            "_model_name": "LayoutModel",
            "_view_count": null,
            "_view_module": "@jupyter-widgets/base",
            "_view_module_version": "1.2.0",
            "_view_name": "LayoutView",
            "align_content": null,
            "align_items": null,
            "align_self": null,
            "border": null,
            "bottom": null,
            "display": null,
            "flex": null,
            "flex_flow": null,
            "grid_area": null,
            "grid_auto_columns": null,
            "grid_auto_flow": null,
            "grid_auto_rows": null,
            "grid_column": null,
            "grid_gap": null,
            "grid_row": null,
            "grid_template_areas": null,
            "grid_template_columns": null,
            "grid_template_rows": null,
            "height": null,
            "justify_content": null,
            "justify_items": null,
            "left": null,
            "margin": null,
            "max_height": null,
            "max_width": null,
            "min_height": null,
            "min_width": null,
            "object_fit": null,
            "object_position": null,
            "order": null,
            "overflow": null,
            "overflow_x": null,
            "overflow_y": null,
            "padding": null,
            "right": null,
            "top": null,
            "visibility": null,
            "width": null
          }
        },
        "5c6200847d114de18854c04d74c78466": {
          "model_module": "@jupyter-widgets/controls",
          "model_module_version": "1.5.0",
          "model_name": "DescriptionStyleModel",
          "state": {
            "_model_module": "@jupyter-widgets/controls",
            "_model_module_version": "1.5.0",
            "_model_name": "DescriptionStyleModel",
            "_view_count": null,
            "_view_module": "@jupyter-widgets/base",
            "_view_module_version": "1.2.0",
            "_view_name": "StyleView",
            "description_width": ""
          }
        },
        "5ceddea164844ae4b7374f29a3c224cf": {
          "model_module": "@jupyter-widgets/base",
          "model_module_version": "1.2.0",
          "model_name": "LayoutModel",
          "state": {
            "_model_module": "@jupyter-widgets/base",
            "_model_module_version": "1.2.0",
            "_model_name": "LayoutModel",
            "_view_count": null,
            "_view_module": "@jupyter-widgets/base",
            "_view_module_version": "1.2.0",
            "_view_name": "LayoutView",
            "align_content": null,
            "align_items": null,
            "align_self": null,
            "border": null,
            "bottom": null,
            "display": null,
            "flex": null,
            "flex_flow": null,
            "grid_area": null,
            "grid_auto_columns": null,
            "grid_auto_flow": null,
            "grid_auto_rows": null,
            "grid_column": null,
            "grid_gap": null,
            "grid_row": null,
            "grid_template_areas": null,
            "grid_template_columns": null,
            "grid_template_rows": null,
            "height": null,
            "justify_content": null,
            "justify_items": null,
            "left": null,
            "margin": null,
            "max_height": null,
            "max_width": null,
            "min_height": null,
            "min_width": null,
            "object_fit": null,
            "object_position": null,
            "order": null,
            "overflow": null,
            "overflow_x": null,
            "overflow_y": null,
            "padding": null,
            "right": null,
            "top": null,
            "visibility": null,
            "width": null
          }
        },
        "5e15d2f4246c4c48a6d21020f7cb8f1b": {
          "model_module": "@jupyter-widgets/base",
          "model_module_version": "1.2.0",
          "model_name": "LayoutModel",
          "state": {
            "_model_module": "@jupyter-widgets/base",
            "_model_module_version": "1.2.0",
            "_model_name": "LayoutModel",
            "_view_count": null,
            "_view_module": "@jupyter-widgets/base",
            "_view_module_version": "1.2.0",
            "_view_name": "LayoutView",
            "align_content": null,
            "align_items": null,
            "align_self": null,
            "border": null,
            "bottom": null,
            "display": null,
            "flex": null,
            "flex_flow": null,
            "grid_area": null,
            "grid_auto_columns": null,
            "grid_auto_flow": null,
            "grid_auto_rows": null,
            "grid_column": null,
            "grid_gap": null,
            "grid_row": null,
            "grid_template_areas": null,
            "grid_template_columns": null,
            "grid_template_rows": null,
            "height": null,
            "justify_content": null,
            "justify_items": null,
            "left": null,
            "margin": null,
            "max_height": null,
            "max_width": null,
            "min_height": null,
            "min_width": null,
            "object_fit": null,
            "object_position": null,
            "order": null,
            "overflow": null,
            "overflow_x": null,
            "overflow_y": null,
            "padding": null,
            "right": null,
            "top": null,
            "visibility": null,
            "width": null
          }
        },
        "60c4298f41294b95a59ee0504a067be3": {
          "model_module": "@jupyter-widgets/controls",
          "model_module_version": "1.5.0",
          "model_name": "HBoxModel",
          "state": {
            "_dom_classes": [],
            "_model_module": "@jupyter-widgets/controls",
            "_model_module_version": "1.5.0",
            "_model_name": "HBoxModel",
            "_view_count": null,
            "_view_module": "@jupyter-widgets/controls",
            "_view_module_version": "1.5.0",
            "_view_name": "HBoxView",
            "box_style": "",
            "children": [
              "IPY_MODEL_d229ac42e45c4dbba3ca502a83bd92dd",
              "IPY_MODEL_8742063d7761468e8ba258abb5086fda",
              "IPY_MODEL_e0dd7b0494e2479e8a4199be42079517"
            ],
            "layout": "IPY_MODEL_2a49922c65b74bddbd8a7e27beec449a"
          }
        },
        "6257ea76c47c4bd4bac4d4c1ad376ff2": {
          "model_module": "@jupyter-widgets/controls",
          "model_module_version": "1.5.0",
          "model_name": "HTMLModel",
          "state": {
            "_dom_classes": [],
            "_model_module": "@jupyter-widgets/controls",
            "_model_module_version": "1.5.0",
            "_model_name": "HTMLModel",
            "_view_count": null,
            "_view_module": "@jupyter-widgets/controls",
            "_view_module_version": "1.5.0",
            "_view_name": "HTMLView",
            "description": "",
            "description_tooltip": null,
            "layout": "IPY_MODEL_52b910841fb04b6c8da00d5e7f91f15c",
            "placeholder": "​",
            "style": "IPY_MODEL_d215b50de9a1431c9d05b9b0a4f5eaf8",
            "value": " 2298/2298 [01:41&lt;00:00, 23.36batch/s, mean_loss=0.202]"
          }
        },
        "63a8b36804c24db1928d1780a1507d6a": {
          "model_module": "@jupyter-widgets/controls",
          "model_module_version": "1.5.0",
          "model_name": "DescriptionStyleModel",
          "state": {
            "_model_module": "@jupyter-widgets/controls",
            "_model_module_version": "1.5.0",
            "_model_name": "DescriptionStyleModel",
            "_view_count": null,
            "_view_module": "@jupyter-widgets/base",
            "_view_module_version": "1.2.0",
            "_view_name": "StyleView",
            "description_width": ""
          }
        },
        "642db70ec660475a8824ffb8f7069f02": {
          "model_module": "@jupyter-widgets/controls",
          "model_module_version": "1.5.0",
          "model_name": "DescriptionStyleModel",
          "state": {
            "_model_module": "@jupyter-widgets/controls",
            "_model_module_version": "1.5.0",
            "_model_name": "DescriptionStyleModel",
            "_view_count": null,
            "_view_module": "@jupyter-widgets/base",
            "_view_module_version": "1.2.0",
            "_view_name": "StyleView",
            "description_width": ""
          }
        },
        "645be7b558f7464290fbee6f20dfbdb9": {
          "model_module": "@jupyter-widgets/controls",
          "model_module_version": "1.5.0",
          "model_name": "HBoxModel",
          "state": {
            "_dom_classes": [],
            "_model_module": "@jupyter-widgets/controls",
            "_model_module_version": "1.5.0",
            "_model_name": "HBoxModel",
            "_view_count": null,
            "_view_module": "@jupyter-widgets/controls",
            "_view_module_version": "1.5.0",
            "_view_name": "HBoxView",
            "box_style": "",
            "children": [
              "IPY_MODEL_499f0cf00fef4121801283019246f2bc",
              "IPY_MODEL_54c7432ba7b946f2b02e8106516ccda2",
              "IPY_MODEL_68db17430ea74d0aaf6ad68ca1bb8f11"
            ],
            "layout": "IPY_MODEL_df3dea34c7094eda96e5f621c388c1aa"
          }
        },
        "6566b0d5dbfa4ca4bde114f17de9fc0a": {
          "model_module": "@jupyter-widgets/controls",
          "model_module_version": "1.5.0",
          "model_name": "DescriptionStyleModel",
          "state": {
            "_model_module": "@jupyter-widgets/controls",
            "_model_module_version": "1.5.0",
            "_model_name": "DescriptionStyleModel",
            "_view_count": null,
            "_view_module": "@jupyter-widgets/base",
            "_view_module_version": "1.2.0",
            "_view_name": "StyleView",
            "description_width": ""
          }
        },
        "65f6566bb74f4b54bb77710f808c3064": {
          "model_module": "@jupyter-widgets/controls",
          "model_module_version": "1.5.0",
          "model_name": "FloatProgressModel",
          "state": {
            "_dom_classes": [],
            "_model_module": "@jupyter-widgets/controls",
            "_model_module_version": "1.5.0",
            "_model_name": "FloatProgressModel",
            "_view_count": null,
            "_view_module": "@jupyter-widgets/controls",
            "_view_module_version": "1.5.0",
            "_view_name": "ProgressView",
            "bar_style": "success",
            "description": "",
            "description_tooltip": null,
            "layout": "IPY_MODEL_a4963aa7b3ed46aaafd914409fed6aaf",
            "max": 2298,
            "min": 0,
            "orientation": "horizontal",
            "style": "IPY_MODEL_d2d3fa76e9ed431db22071b25747fad5",
            "value": 2298
          }
        },
        "671264768c504ac9ac4836a01264ffcd": {
          "model_module": "@jupyter-widgets/controls",
          "model_module_version": "1.5.0",
          "model_name": "ProgressStyleModel",
          "state": {
            "_model_module": "@jupyter-widgets/controls",
            "_model_module_version": "1.5.0",
            "_model_name": "ProgressStyleModel",
            "_view_count": null,
            "_view_module": "@jupyter-widgets/base",
            "_view_module_version": "1.2.0",
            "_view_name": "StyleView",
            "bar_color": null,
            "description_width": ""
          }
        },
        "68db17430ea74d0aaf6ad68ca1bb8f11": {
          "model_module": "@jupyter-widgets/controls",
          "model_module_version": "1.5.0",
          "model_name": "HTMLModel",
          "state": {
            "_dom_classes": [],
            "_model_module": "@jupyter-widgets/controls",
            "_model_module_version": "1.5.0",
            "_model_name": "HTMLModel",
            "_view_count": null,
            "_view_module": "@jupyter-widgets/controls",
            "_view_module_version": "1.5.0",
            "_view_name": "HTMLView",
            "description": "",
            "description_tooltip": null,
            "layout": "IPY_MODEL_bdeb0680f0e4441c87f2b22c467f29f6",
            "placeholder": "​",
            "style": "IPY_MODEL_642db70ec660475a8824ffb8f7069f02",
            "value": " 2298/2298 [01:41&lt;00:00, 24.90batch/s, mean_loss=0.123]"
          }
        },
        "6b8509e0e4c44bc8b4c2a7f40d7aa69a": {
          "model_module": "@jupyter-widgets/base",
          "model_module_version": "1.2.0",
          "model_name": "LayoutModel",
          "state": {
            "_model_module": "@jupyter-widgets/base",
            "_model_module_version": "1.2.0",
            "_model_name": "LayoutModel",
            "_view_count": null,
            "_view_module": "@jupyter-widgets/base",
            "_view_module_version": "1.2.0",
            "_view_name": "LayoutView",
            "align_content": null,
            "align_items": null,
            "align_self": null,
            "border": null,
            "bottom": null,
            "display": null,
            "flex": null,
            "flex_flow": null,
            "grid_area": null,
            "grid_auto_columns": null,
            "grid_auto_flow": null,
            "grid_auto_rows": null,
            "grid_column": null,
            "grid_gap": null,
            "grid_row": null,
            "grid_template_areas": null,
            "grid_template_columns": null,
            "grid_template_rows": null,
            "height": null,
            "justify_content": null,
            "justify_items": null,
            "left": null,
            "margin": null,
            "max_height": null,
            "max_width": null,
            "min_height": null,
            "min_width": null,
            "object_fit": null,
            "object_position": null,
            "order": null,
            "overflow": null,
            "overflow_x": null,
            "overflow_y": null,
            "padding": null,
            "right": null,
            "top": null,
            "visibility": null,
            "width": null
          }
        },
        "6f2a1cec390d49b0915e236d7e51a33b": {
          "model_module": "@jupyter-widgets/controls",
          "model_module_version": "1.5.0",
          "model_name": "HTMLModel",
          "state": {
            "_dom_classes": [],
            "_model_module": "@jupyter-widgets/controls",
            "_model_module_version": "1.5.0",
            "_model_name": "HTMLModel",
            "_view_count": null,
            "_view_module": "@jupyter-widgets/controls",
            "_view_module_version": "1.5.0",
            "_view_name": "HTMLView",
            "description": "",
            "description_tooltip": null,
            "layout": "IPY_MODEL_c729b3cf2c0c4f48ae2b123af8777ad8",
            "placeholder": "​",
            "style": "IPY_MODEL_c34b45cd4b9347bdbdea5877ecb8a47f",
            "value": "epoch 8: 100%"
          }
        },
        "6f5ba683e652456d899303c16e1f290c": {
          "model_module": "@jupyter-widgets/controls",
          "model_module_version": "1.5.0",
          "model_name": "DescriptionStyleModel",
          "state": {
            "_model_module": "@jupyter-widgets/controls",
            "_model_module_version": "1.5.0",
            "_model_name": "DescriptionStyleModel",
            "_view_count": null,
            "_view_module": "@jupyter-widgets/base",
            "_view_module_version": "1.2.0",
            "_view_name": "StyleView",
            "description_width": ""
          }
        },
        "70ddfdb6f53f494bb5a16a7a8ab60364": {
          "model_module": "@jupyter-widgets/controls",
          "model_module_version": "1.5.0",
          "model_name": "HTMLModel",
          "state": {
            "_dom_classes": [],
            "_model_module": "@jupyter-widgets/controls",
            "_model_module_version": "1.5.0",
            "_model_name": "HTMLModel",
            "_view_count": null,
            "_view_module": "@jupyter-widgets/controls",
            "_view_module_version": "1.5.0",
            "_view_name": "HTMLView",
            "description": "",
            "description_tooltip": null,
            "layout": "IPY_MODEL_8141b4e041b04544a3b9bd78b38f5eaf",
            "placeholder": "​",
            "style": "IPY_MODEL_e3352b334c784b8cbce158f822b2f071",
            "value": "epoch 3: 100%"
          }
        },
        "70df7243660a4f53b6a3e773bf2add92": {
          "model_module": "@jupyter-widgets/controls",
          "model_module_version": "1.5.0",
          "model_name": "FloatProgressModel",
          "state": {
            "_dom_classes": [],
            "_model_module": "@jupyter-widgets/controls",
            "_model_module_version": "1.5.0",
            "_model_name": "FloatProgressModel",
            "_view_count": null,
            "_view_module": "@jupyter-widgets/controls",
            "_view_module_version": "1.5.0",
            "_view_name": "ProgressView",
            "bar_style": "",
            "description": "",
            "description_tooltip": null,
            "layout": "IPY_MODEL_e0de5a4290024ddb941b623f9ac8907c",
            "max": 2298,
            "min": 0,
            "orientation": "horizontal",
            "style": "IPY_MODEL_d24e4d2feec04b049b6aa49077bfe38d",
            "value": 282
          }
        },
        "720fad2167dc4e048f3bae516c9380fe": {
          "model_module": "@jupyter-widgets/base",
          "model_module_version": "1.2.0",
          "model_name": "LayoutModel",
          "state": {
            "_model_module": "@jupyter-widgets/base",
            "_model_module_version": "1.2.0",
            "_model_name": "LayoutModel",
            "_view_count": null,
            "_view_module": "@jupyter-widgets/base",
            "_view_module_version": "1.2.0",
            "_view_name": "LayoutView",
            "align_content": null,
            "align_items": null,
            "align_self": null,
            "border": null,
            "bottom": null,
            "display": null,
            "flex": null,
            "flex_flow": null,
            "grid_area": null,
            "grid_auto_columns": null,
            "grid_auto_flow": null,
            "grid_auto_rows": null,
            "grid_column": null,
            "grid_gap": null,
            "grid_row": null,
            "grid_template_areas": null,
            "grid_template_columns": null,
            "grid_template_rows": null,
            "height": null,
            "justify_content": null,
            "justify_items": null,
            "left": null,
            "margin": null,
            "max_height": null,
            "max_width": null,
            "min_height": null,
            "min_width": null,
            "object_fit": null,
            "object_position": null,
            "order": null,
            "overflow": null,
            "overflow_x": null,
            "overflow_y": null,
            "padding": null,
            "right": null,
            "top": null,
            "visibility": null,
            "width": null
          }
        },
        "7249581ef726436faf4364ea92006845": {
          "model_module": "@jupyter-widgets/controls",
          "model_module_version": "1.5.0",
          "model_name": "HBoxModel",
          "state": {
            "_dom_classes": [],
            "_model_module": "@jupyter-widgets/controls",
            "_model_module_version": "1.5.0",
            "_model_name": "HBoxModel",
            "_view_count": null,
            "_view_module": "@jupyter-widgets/controls",
            "_view_module_version": "1.5.0",
            "_view_name": "HBoxView",
            "box_style": "",
            "children": [
              "IPY_MODEL_b410469339d648a99e5ce786c260d415",
              "IPY_MODEL_70df7243660a4f53b6a3e773bf2add92",
              "IPY_MODEL_16f0f4300c804416b6dda96d0f30727c"
            ],
            "layout": "IPY_MODEL_5e15d2f4246c4c48a6d21020f7cb8f1b"
          }
        },
        "744f8532321443cb9eb4472a2c1d980b": {
          "model_module": "@jupyter-widgets/controls",
          "model_module_version": "1.5.0",
          "model_name": "FloatProgressModel",
          "state": {
            "_dom_classes": [],
            "_model_module": "@jupyter-widgets/controls",
            "_model_module_version": "1.5.0",
            "_model_name": "FloatProgressModel",
            "_view_count": null,
            "_view_module": "@jupyter-widgets/controls",
            "_view_module_version": "1.5.0",
            "_view_name": "ProgressView",
            "bar_style": "",
            "description": "",
            "description_tooltip": null,
            "layout": "IPY_MODEL_b7d3ebfbecb14171afa8c77a82094b9a",
            "max": 16,
            "min": 0,
            "orientation": "horizontal",
            "style": "IPY_MODEL_8ed4a53289084a8ea6a36f50c7b10d9d",
            "value": 10
          }
        },
        "7f930a7e6fca41e88ce452926e607761": {
          "model_module": "@jupyter-widgets/controls",
          "model_module_version": "1.5.0",
          "model_name": "ProgressStyleModel",
          "state": {
            "_model_module": "@jupyter-widgets/controls",
            "_model_module_version": "1.5.0",
            "_model_name": "ProgressStyleModel",
            "_view_count": null,
            "_view_module": "@jupyter-widgets/base",
            "_view_module_version": "1.2.0",
            "_view_name": "StyleView",
            "bar_color": null,
            "description_width": ""
          }
        },
        "7fe77254267543a281d4e81d6122696e": {
          "model_module": "@jupyter-widgets/controls",
          "model_module_version": "1.5.0",
          "model_name": "HTMLModel",
          "state": {
            "_dom_classes": [],
            "_model_module": "@jupyter-widgets/controls",
            "_model_module_version": "1.5.0",
            "_model_name": "HTMLModel",
            "_view_count": null,
            "_view_module": "@jupyter-widgets/controls",
            "_view_module_version": "1.5.0",
            "_view_name": "HTMLView",
            "description": "",
            "description_tooltip": null,
            "layout": "IPY_MODEL_abe1516da7354ccbaa14e218b3f26e7b",
            "placeholder": "​",
            "style": "IPY_MODEL_2b02c613f4e5482aa6bc51c5de00adac",
            "value": " 2298/2298 [01:41&lt;00:00, 24.72batch/s, mean_loss=0.257]"
          }
        },
        "80651e12d845427281806143ca1a8b15": {
          "model_module": "@jupyter-widgets/base",
          "model_module_version": "1.2.0",
          "model_name": "LayoutModel",
          "state": {
            "_model_module": "@jupyter-widgets/base",
            "_model_module_version": "1.2.0",
            "_model_name": "LayoutModel",
            "_view_count": null,
            "_view_module": "@jupyter-widgets/base",
            "_view_module_version": "1.2.0",
            "_view_name": "LayoutView",
            "align_content": null,
            "align_items": null,
            "align_self": null,
            "border": null,
            "bottom": null,
            "display": null,
            "flex": null,
            "flex_flow": null,
            "grid_area": null,
            "grid_auto_columns": null,
            "grid_auto_flow": null,
            "grid_auto_rows": null,
            "grid_column": null,
            "grid_gap": null,
            "grid_row": null,
            "grid_template_areas": null,
            "grid_template_columns": null,
            "grid_template_rows": null,
            "height": null,
            "justify_content": null,
            "justify_items": null,
            "left": null,
            "margin": null,
            "max_height": null,
            "max_width": null,
            "min_height": null,
            "min_width": null,
            "object_fit": null,
            "object_position": null,
            "order": null,
            "overflow": null,
            "overflow_x": null,
            "overflow_y": null,
            "padding": null,
            "right": null,
            "top": null,
            "visibility": null,
            "width": null
          }
        },
        "8141b4e041b04544a3b9bd78b38f5eaf": {
          "model_module": "@jupyter-widgets/base",
          "model_module_version": "1.2.0",
          "model_name": "LayoutModel",
          "state": {
            "_model_module": "@jupyter-widgets/base",
            "_model_module_version": "1.2.0",
            "_model_name": "LayoutModel",
            "_view_count": null,
            "_view_module": "@jupyter-widgets/base",
            "_view_module_version": "1.2.0",
            "_view_name": "LayoutView",
            "align_content": null,
            "align_items": null,
            "align_self": null,
            "border": null,
            "bottom": null,
            "display": null,
            "flex": null,
            "flex_flow": null,
            "grid_area": null,
            "grid_auto_columns": null,
            "grid_auto_flow": null,
            "grid_auto_rows": null,
            "grid_column": null,
            "grid_gap": null,
            "grid_row": null,
            "grid_template_areas": null,
            "grid_template_columns": null,
            "grid_template_rows": null,
            "height": null,
            "justify_content": null,
            "justify_items": null,
            "left": null,
            "margin": null,
            "max_height": null,
            "max_width": null,
            "min_height": null,
            "min_width": null,
            "object_fit": null,
            "object_position": null,
            "order": null,
            "overflow": null,
            "overflow_x": null,
            "overflow_y": null,
            "padding": null,
            "right": null,
            "top": null,
            "visibility": null,
            "width": null
          }
        },
        "8144f31e914149059181d27cd6e33091": {
          "model_module": "@jupyter-widgets/base",
          "model_module_version": "1.2.0",
          "model_name": "LayoutModel",
          "state": {
            "_model_module": "@jupyter-widgets/base",
            "_model_module_version": "1.2.0",
            "_model_name": "LayoutModel",
            "_view_count": null,
            "_view_module": "@jupyter-widgets/base",
            "_view_module_version": "1.2.0",
            "_view_name": "LayoutView",
            "align_content": null,
            "align_items": null,
            "align_self": null,
            "border": null,
            "bottom": null,
            "display": null,
            "flex": null,
            "flex_flow": null,
            "grid_area": null,
            "grid_auto_columns": null,
            "grid_auto_flow": null,
            "grid_auto_rows": null,
            "grid_column": null,
            "grid_gap": null,
            "grid_row": null,
            "grid_template_areas": null,
            "grid_template_columns": null,
            "grid_template_rows": null,
            "height": null,
            "justify_content": null,
            "justify_items": null,
            "left": null,
            "margin": null,
            "max_height": null,
            "max_width": null,
            "min_height": null,
            "min_width": null,
            "object_fit": null,
            "object_position": null,
            "order": null,
            "overflow": null,
            "overflow_x": null,
            "overflow_y": null,
            "padding": null,
            "right": null,
            "top": null,
            "visibility": null,
            "width": null
          }
        },
        "85da4ea1046941a2b7b0943f168bf784": {
          "model_module": "@jupyter-widgets/base",
          "model_module_version": "1.2.0",
          "model_name": "LayoutModel",
          "state": {
            "_model_module": "@jupyter-widgets/base",
            "_model_module_version": "1.2.0",
            "_model_name": "LayoutModel",
            "_view_count": null,
            "_view_module": "@jupyter-widgets/base",
            "_view_module_version": "1.2.0",
            "_view_name": "LayoutView",
            "align_content": null,
            "align_items": null,
            "align_self": null,
            "border": null,
            "bottom": null,
            "display": null,
            "flex": null,
            "flex_flow": null,
            "grid_area": null,
            "grid_auto_columns": null,
            "grid_auto_flow": null,
            "grid_auto_rows": null,
            "grid_column": null,
            "grid_gap": null,
            "grid_row": null,
            "grid_template_areas": null,
            "grid_template_columns": null,
            "grid_template_rows": null,
            "height": null,
            "justify_content": null,
            "justify_items": null,
            "left": null,
            "margin": null,
            "max_height": null,
            "max_width": null,
            "min_height": null,
            "min_width": null,
            "object_fit": null,
            "object_position": null,
            "order": null,
            "overflow": null,
            "overflow_x": null,
            "overflow_y": null,
            "padding": null,
            "right": null,
            "top": null,
            "visibility": null,
            "width": null
          }
        },
        "8742063d7761468e8ba258abb5086fda": {
          "model_module": "@jupyter-widgets/controls",
          "model_module_version": "1.5.0",
          "model_name": "FloatProgressModel",
          "state": {
            "_dom_classes": [],
            "_model_module": "@jupyter-widgets/controls",
            "_model_module_version": "1.5.0",
            "_model_name": "FloatProgressModel",
            "_view_count": null,
            "_view_module": "@jupyter-widgets/controls",
            "_view_module_version": "1.5.0",
            "_view_name": "ProgressView",
            "bar_style": "success",
            "description": "",
            "description_tooltip": null,
            "layout": "IPY_MODEL_a95a1cf547644461b935e461710cf331",
            "max": 2298,
            "min": 0,
            "orientation": "horizontal",
            "style": "IPY_MODEL_8ccaa2fb5d444b4abbc5febd01880b95",
            "value": 2298
          }
        },
        "8919dd0080724ace90801e7990bdfba3": {
          "model_module": "@jupyter-widgets/controls",
          "model_module_version": "1.5.0",
          "model_name": "HTMLModel",
          "state": {
            "_dom_classes": [],
            "_model_module": "@jupyter-widgets/controls",
            "_model_module_version": "1.5.0",
            "_model_name": "HTMLModel",
            "_view_count": null,
            "_view_module": "@jupyter-widgets/controls",
            "_view_module_version": "1.5.0",
            "_view_name": "HTMLView",
            "description": "",
            "description_tooltip": null,
            "layout": "IPY_MODEL_3bfeb0271549492e8f88537efc80b96e",
            "placeholder": "​",
            "style": "IPY_MODEL_ad6d046434e0409ebdeec7774ef8bd63",
            "value": "epoch 2: 100%"
          }
        },
        "89adb0d3de23443b8d542840f0d76c40": {
          "model_module": "@jupyter-widgets/controls",
          "model_module_version": "1.5.0",
          "model_name": "ProgressStyleModel",
          "state": {
            "_model_module": "@jupyter-widgets/controls",
            "_model_module_version": "1.5.0",
            "_model_name": "ProgressStyleModel",
            "_view_count": null,
            "_view_module": "@jupyter-widgets/base",
            "_view_module_version": "1.2.0",
            "_view_name": "StyleView",
            "bar_color": null,
            "description_width": ""
          }
        },
        "8ccaa2fb5d444b4abbc5febd01880b95": {
          "model_module": "@jupyter-widgets/controls",
          "model_module_version": "1.5.0",
          "model_name": "ProgressStyleModel",
          "state": {
            "_model_module": "@jupyter-widgets/controls",
            "_model_module_version": "1.5.0",
            "_model_name": "ProgressStyleModel",
            "_view_count": null,
            "_view_module": "@jupyter-widgets/base",
            "_view_module_version": "1.2.0",
            "_view_name": "StyleView",
            "bar_color": null,
            "description_width": ""
          }
        },
        "8ed4a53289084a8ea6a36f50c7b10d9d": {
          "model_module": "@jupyter-widgets/controls",
          "model_module_version": "1.5.0",
          "model_name": "ProgressStyleModel",
          "state": {
            "_model_module": "@jupyter-widgets/controls",
            "_model_module_version": "1.5.0",
            "_model_name": "ProgressStyleModel",
            "_view_count": null,
            "_view_module": "@jupyter-widgets/base",
            "_view_module_version": "1.2.0",
            "_view_name": "StyleView",
            "bar_color": null,
            "description_width": ""
          }
        },
        "90993290d5b6460e892aaf0a705c20fa": {
          "model_module": "@jupyter-widgets/controls",
          "model_module_version": "1.5.0",
          "model_name": "FloatProgressModel",
          "state": {
            "_dom_classes": [],
            "_model_module": "@jupyter-widgets/controls",
            "_model_module_version": "1.5.0",
            "_model_name": "FloatProgressModel",
            "_view_count": null,
            "_view_module": "@jupyter-widgets/controls",
            "_view_module_version": "1.5.0",
            "_view_name": "ProgressView",
            "bar_style": "success",
            "description": "",
            "description_tooltip": null,
            "layout": "IPY_MODEL_720fad2167dc4e048f3bae516c9380fe",
            "max": 2298,
            "min": 0,
            "orientation": "horizontal",
            "style": "IPY_MODEL_11788c3e5cd34f97b3859915d927d40b",
            "value": 2298
          }
        },
        "94282642cba54211a41c7ddb08e6895a": {
          "model_module": "@jupyter-widgets/controls",
          "model_module_version": "1.5.0",
          "model_name": "DescriptionStyleModel",
          "state": {
            "_model_module": "@jupyter-widgets/controls",
            "_model_module_version": "1.5.0",
            "_model_name": "DescriptionStyleModel",
            "_view_count": null,
            "_view_module": "@jupyter-widgets/base",
            "_view_module_version": "1.2.0",
            "_view_name": "StyleView",
            "description_width": ""
          }
        },
        "943b7654a6664eff9d4599ce412de565": {
          "model_module": "@jupyter-widgets/base",
          "model_module_version": "1.2.0",
          "model_name": "LayoutModel",
          "state": {
            "_model_module": "@jupyter-widgets/base",
            "_model_module_version": "1.2.0",
            "_model_name": "LayoutModel",
            "_view_count": null,
            "_view_module": "@jupyter-widgets/base",
            "_view_module_version": "1.2.0",
            "_view_name": "LayoutView",
            "align_content": null,
            "align_items": null,
            "align_self": null,
            "border": null,
            "bottom": null,
            "display": null,
            "flex": null,
            "flex_flow": null,
            "grid_area": null,
            "grid_auto_columns": null,
            "grid_auto_flow": null,
            "grid_auto_rows": null,
            "grid_column": null,
            "grid_gap": null,
            "grid_row": null,
            "grid_template_areas": null,
            "grid_template_columns": null,
            "grid_template_rows": null,
            "height": null,
            "justify_content": null,
            "justify_items": null,
            "left": null,
            "margin": null,
            "max_height": null,
            "max_width": null,
            "min_height": null,
            "min_width": null,
            "object_fit": null,
            "object_position": null,
            "order": null,
            "overflow": null,
            "overflow_x": null,
            "overflow_y": null,
            "padding": null,
            "right": null,
            "top": null,
            "visibility": null,
            "width": null
          }
        },
        "9811b98fa60e477d84d9492f77e9c981": {
          "model_module": "@jupyter-widgets/base",
          "model_module_version": "1.2.0",
          "model_name": "LayoutModel",
          "state": {
            "_model_module": "@jupyter-widgets/base",
            "_model_module_version": "1.2.0",
            "_model_name": "LayoutModel",
            "_view_count": null,
            "_view_module": "@jupyter-widgets/base",
            "_view_module_version": "1.2.0",
            "_view_name": "LayoutView",
            "align_content": null,
            "align_items": null,
            "align_self": null,
            "border": null,
            "bottom": null,
            "display": null,
            "flex": null,
            "flex_flow": null,
            "grid_area": null,
            "grid_auto_columns": null,
            "grid_auto_flow": null,
            "grid_auto_rows": null,
            "grid_column": null,
            "grid_gap": null,
            "grid_row": null,
            "grid_template_areas": null,
            "grid_template_columns": null,
            "grid_template_rows": null,
            "height": null,
            "justify_content": null,
            "justify_items": null,
            "left": null,
            "margin": null,
            "max_height": null,
            "max_width": null,
            "min_height": null,
            "min_width": null,
            "object_fit": null,
            "object_position": null,
            "order": null,
            "overflow": null,
            "overflow_x": null,
            "overflow_y": null,
            "padding": null,
            "right": null,
            "top": null,
            "visibility": null,
            "width": null
          }
        },
        "983026ff9de6466ea161a6e5bd1b46af": {
          "model_module": "@jupyter-widgets/base",
          "model_module_version": "1.2.0",
          "model_name": "LayoutModel",
          "state": {
            "_model_module": "@jupyter-widgets/base",
            "_model_module_version": "1.2.0",
            "_model_name": "LayoutModel",
            "_view_count": null,
            "_view_module": "@jupyter-widgets/base",
            "_view_module_version": "1.2.0",
            "_view_name": "LayoutView",
            "align_content": null,
            "align_items": null,
            "align_self": null,
            "border": null,
            "bottom": null,
            "display": null,
            "flex": null,
            "flex_flow": null,
            "grid_area": null,
            "grid_auto_columns": null,
            "grid_auto_flow": null,
            "grid_auto_rows": null,
            "grid_column": null,
            "grid_gap": null,
            "grid_row": null,
            "grid_template_areas": null,
            "grid_template_columns": null,
            "grid_template_rows": null,
            "height": null,
            "justify_content": null,
            "justify_items": null,
            "left": null,
            "margin": null,
            "max_height": null,
            "max_width": null,
            "min_height": null,
            "min_width": null,
            "object_fit": null,
            "object_position": null,
            "order": null,
            "overflow": null,
            "overflow_x": null,
            "overflow_y": null,
            "padding": null,
            "right": null,
            "top": null,
            "visibility": null,
            "width": null
          }
        },
        "9836524747324c0b90170d1fd61d1bf2": {
          "model_module": "@jupyter-widgets/base",
          "model_module_version": "1.2.0",
          "model_name": "LayoutModel",
          "state": {
            "_model_module": "@jupyter-widgets/base",
            "_model_module_version": "1.2.0",
            "_model_name": "LayoutModel",
            "_view_count": null,
            "_view_module": "@jupyter-widgets/base",
            "_view_module_version": "1.2.0",
            "_view_name": "LayoutView",
            "align_content": null,
            "align_items": null,
            "align_self": null,
            "border": null,
            "bottom": null,
            "display": null,
            "flex": null,
            "flex_flow": null,
            "grid_area": null,
            "grid_auto_columns": null,
            "grid_auto_flow": null,
            "grid_auto_rows": null,
            "grid_column": null,
            "grid_gap": null,
            "grid_row": null,
            "grid_template_areas": null,
            "grid_template_columns": null,
            "grid_template_rows": null,
            "height": null,
            "justify_content": null,
            "justify_items": null,
            "left": null,
            "margin": null,
            "max_height": null,
            "max_width": null,
            "min_height": null,
            "min_width": null,
            "object_fit": null,
            "object_position": null,
            "order": null,
            "overflow": null,
            "overflow_x": null,
            "overflow_y": null,
            "padding": null,
            "right": null,
            "top": null,
            "visibility": null,
            "width": null
          }
        },
        "997b026237f54badbc69884b83753bfb": {
          "model_module": "@jupyter-widgets/base",
          "model_module_version": "1.2.0",
          "model_name": "LayoutModel",
          "state": {
            "_model_module": "@jupyter-widgets/base",
            "_model_module_version": "1.2.0",
            "_model_name": "LayoutModel",
            "_view_count": null,
            "_view_module": "@jupyter-widgets/base",
            "_view_module_version": "1.2.0",
            "_view_name": "LayoutView",
            "align_content": null,
            "align_items": null,
            "align_self": null,
            "border": null,
            "bottom": null,
            "display": null,
            "flex": null,
            "flex_flow": null,
            "grid_area": null,
            "grid_auto_columns": null,
            "grid_auto_flow": null,
            "grid_auto_rows": null,
            "grid_column": null,
            "grid_gap": null,
            "grid_row": null,
            "grid_template_areas": null,
            "grid_template_columns": null,
            "grid_template_rows": null,
            "height": null,
            "justify_content": null,
            "justify_items": null,
            "left": null,
            "margin": null,
            "max_height": null,
            "max_width": null,
            "min_height": null,
            "min_width": null,
            "object_fit": null,
            "object_position": null,
            "order": null,
            "overflow": null,
            "overflow_x": null,
            "overflow_y": null,
            "padding": null,
            "right": null,
            "top": null,
            "visibility": null,
            "width": null
          }
        },
        "99dd0bd28fa149768592599aeec78180": {
          "model_module": "@jupyter-widgets/controls",
          "model_module_version": "1.5.0",
          "model_name": "DescriptionStyleModel",
          "state": {
            "_model_module": "@jupyter-widgets/controls",
            "_model_module_version": "1.5.0",
            "_model_name": "DescriptionStyleModel",
            "_view_count": null,
            "_view_module": "@jupyter-widgets/base",
            "_view_module_version": "1.2.0",
            "_view_name": "StyleView",
            "description_width": ""
          }
        },
        "9cf9f2e9663141a4a4c31895390c6a33": {
          "model_module": "@jupyter-widgets/controls",
          "model_module_version": "1.5.0",
          "model_name": "HTMLModel",
          "state": {
            "_dom_classes": [],
            "_model_module": "@jupyter-widgets/controls",
            "_model_module_version": "1.5.0",
            "_model_name": "HTMLModel",
            "_view_count": null,
            "_view_module": "@jupyter-widgets/controls",
            "_view_module_version": "1.5.0",
            "_view_name": "HTMLView",
            "description": "",
            "description_tooltip": null,
            "layout": "IPY_MODEL_0ace9e49e247459d987e382d957eee02",
            "placeholder": "​",
            "style": "IPY_MODEL_a7ddee2f39d84f4dbe11f18687533d05",
            "value": "epoch 6: 100%"
          }
        },
        "9d25876a60a74abc9fe679c4637f25b7": {
          "model_module": "@jupyter-widgets/base",
          "model_module_version": "1.2.0",
          "model_name": "LayoutModel",
          "state": {
            "_model_module": "@jupyter-widgets/base",
            "_model_module_version": "1.2.0",
            "_model_name": "LayoutModel",
            "_view_count": null,
            "_view_module": "@jupyter-widgets/base",
            "_view_module_version": "1.2.0",
            "_view_name": "LayoutView",
            "align_content": null,
            "align_items": null,
            "align_self": null,
            "border": null,
            "bottom": null,
            "display": null,
            "flex": null,
            "flex_flow": null,
            "grid_area": null,
            "grid_auto_columns": null,
            "grid_auto_flow": null,
            "grid_auto_rows": null,
            "grid_column": null,
            "grid_gap": null,
            "grid_row": null,
            "grid_template_areas": null,
            "grid_template_columns": null,
            "grid_template_rows": null,
            "height": null,
            "justify_content": null,
            "justify_items": null,
            "left": null,
            "margin": null,
            "max_height": null,
            "max_width": null,
            "min_height": null,
            "min_width": null,
            "object_fit": null,
            "object_position": null,
            "order": null,
            "overflow": null,
            "overflow_x": null,
            "overflow_y": null,
            "padding": null,
            "right": null,
            "top": null,
            "visibility": null,
            "width": null
          }
        },
        "a4963aa7b3ed46aaafd914409fed6aaf": {
          "model_module": "@jupyter-widgets/base",
          "model_module_version": "1.2.0",
          "model_name": "LayoutModel",
          "state": {
            "_model_module": "@jupyter-widgets/base",
            "_model_module_version": "1.2.0",
            "_model_name": "LayoutModel",
            "_view_count": null,
            "_view_module": "@jupyter-widgets/base",
            "_view_module_version": "1.2.0",
            "_view_name": "LayoutView",
            "align_content": null,
            "align_items": null,
            "align_self": null,
            "border": null,
            "bottom": null,
            "display": null,
            "flex": null,
            "flex_flow": null,
            "grid_area": null,
            "grid_auto_columns": null,
            "grid_auto_flow": null,
            "grid_auto_rows": null,
            "grid_column": null,
            "grid_gap": null,
            "grid_row": null,
            "grid_template_areas": null,
            "grid_template_columns": null,
            "grid_template_rows": null,
            "height": null,
            "justify_content": null,
            "justify_items": null,
            "left": null,
            "margin": null,
            "max_height": null,
            "max_width": null,
            "min_height": null,
            "min_width": null,
            "object_fit": null,
            "object_position": null,
            "order": null,
            "overflow": null,
            "overflow_x": null,
            "overflow_y": null,
            "padding": null,
            "right": null,
            "top": null,
            "visibility": null,
            "width": null
          }
        },
        "a7ddee2f39d84f4dbe11f18687533d05": {
          "model_module": "@jupyter-widgets/controls",
          "model_module_version": "1.5.0",
          "model_name": "DescriptionStyleModel",
          "state": {
            "_model_module": "@jupyter-widgets/controls",
            "_model_module_version": "1.5.0",
            "_model_name": "DescriptionStyleModel",
            "_view_count": null,
            "_view_module": "@jupyter-widgets/base",
            "_view_module_version": "1.2.0",
            "_view_name": "StyleView",
            "description_width": ""
          }
        },
        "a95a1cf547644461b935e461710cf331": {
          "model_module": "@jupyter-widgets/base",
          "model_module_version": "1.2.0",
          "model_name": "LayoutModel",
          "state": {
            "_model_module": "@jupyter-widgets/base",
            "_model_module_version": "1.2.0",
            "_model_name": "LayoutModel",
            "_view_count": null,
            "_view_module": "@jupyter-widgets/base",
            "_view_module_version": "1.2.0",
            "_view_name": "LayoutView",
            "align_content": null,
            "align_items": null,
            "align_self": null,
            "border": null,
            "bottom": null,
            "display": null,
            "flex": null,
            "flex_flow": null,
            "grid_area": null,
            "grid_auto_columns": null,
            "grid_auto_flow": null,
            "grid_auto_rows": null,
            "grid_column": null,
            "grid_gap": null,
            "grid_row": null,
            "grid_template_areas": null,
            "grid_template_columns": null,
            "grid_template_rows": null,
            "height": null,
            "justify_content": null,
            "justify_items": null,
            "left": null,
            "margin": null,
            "max_height": null,
            "max_width": null,
            "min_height": null,
            "min_width": null,
            "object_fit": null,
            "object_position": null,
            "order": null,
            "overflow": null,
            "overflow_x": null,
            "overflow_y": null,
            "padding": null,
            "right": null,
            "top": null,
            "visibility": null,
            "width": null
          }
        },
        "abe1516da7354ccbaa14e218b3f26e7b": {
          "model_module": "@jupyter-widgets/base",
          "model_module_version": "1.2.0",
          "model_name": "LayoutModel",
          "state": {
            "_model_module": "@jupyter-widgets/base",
            "_model_module_version": "1.2.0",
            "_model_name": "LayoutModel",
            "_view_count": null,
            "_view_module": "@jupyter-widgets/base",
            "_view_module_version": "1.2.0",
            "_view_name": "LayoutView",
            "align_content": null,
            "align_items": null,
            "align_self": null,
            "border": null,
            "bottom": null,
            "display": null,
            "flex": null,
            "flex_flow": null,
            "grid_area": null,
            "grid_auto_columns": null,
            "grid_auto_flow": null,
            "grid_auto_rows": null,
            "grid_column": null,
            "grid_gap": null,
            "grid_row": null,
            "grid_template_areas": null,
            "grid_template_columns": null,
            "grid_template_rows": null,
            "height": null,
            "justify_content": null,
            "justify_items": null,
            "left": null,
            "margin": null,
            "max_height": null,
            "max_width": null,
            "min_height": null,
            "min_width": null,
            "object_fit": null,
            "object_position": null,
            "order": null,
            "overflow": null,
            "overflow_x": null,
            "overflow_y": null,
            "padding": null,
            "right": null,
            "top": null,
            "visibility": null,
            "width": null
          }
        },
        "ac18ac18c7a94684bfcafc1e693361cc": {
          "model_module": "@jupyter-widgets/base",
          "model_module_version": "1.2.0",
          "model_name": "LayoutModel",
          "state": {
            "_model_module": "@jupyter-widgets/base",
            "_model_module_version": "1.2.0",
            "_model_name": "LayoutModel",
            "_view_count": null,
            "_view_module": "@jupyter-widgets/base",
            "_view_module_version": "1.2.0",
            "_view_name": "LayoutView",
            "align_content": null,
            "align_items": null,
            "align_self": null,
            "border": null,
            "bottom": null,
            "display": null,
            "flex": null,
            "flex_flow": null,
            "grid_area": null,
            "grid_auto_columns": null,
            "grid_auto_flow": null,
            "grid_auto_rows": null,
            "grid_column": null,
            "grid_gap": null,
            "grid_row": null,
            "grid_template_areas": null,
            "grid_template_columns": null,
            "grid_template_rows": null,
            "height": null,
            "justify_content": null,
            "justify_items": null,
            "left": null,
            "margin": null,
            "max_height": null,
            "max_width": null,
            "min_height": null,
            "min_width": null,
            "object_fit": null,
            "object_position": null,
            "order": null,
            "overflow": null,
            "overflow_x": null,
            "overflow_y": null,
            "padding": null,
            "right": null,
            "top": null,
            "visibility": null,
            "width": null
          }
        },
        "ad6d046434e0409ebdeec7774ef8bd63": {
          "model_module": "@jupyter-widgets/controls",
          "model_module_version": "1.5.0",
          "model_name": "DescriptionStyleModel",
          "state": {
            "_model_module": "@jupyter-widgets/controls",
            "_model_module_version": "1.5.0",
            "_model_name": "DescriptionStyleModel",
            "_view_count": null,
            "_view_module": "@jupyter-widgets/base",
            "_view_module_version": "1.2.0",
            "_view_name": "StyleView",
            "description_width": ""
          }
        },
        "ae2f7997337c4a83a59bc9a440c665c7": {
          "model_module": "@jupyter-widgets/controls",
          "model_module_version": "1.5.0",
          "model_name": "FloatProgressModel",
          "state": {
            "_dom_classes": [],
            "_model_module": "@jupyter-widgets/controls",
            "_model_module_version": "1.5.0",
            "_model_name": "FloatProgressModel",
            "_view_count": null,
            "_view_module": "@jupyter-widgets/controls",
            "_view_module_version": "1.5.0",
            "_view_name": "ProgressView",
            "bar_style": "success",
            "description": "",
            "description_tooltip": null,
            "layout": "IPY_MODEL_6b8509e0e4c44bc8b4c2a7f40d7aa69a",
            "max": 2298,
            "min": 0,
            "orientation": "horizontal",
            "style": "IPY_MODEL_89adb0d3de23443b8d542840f0d76c40",
            "value": 2298
          }
        },
        "afb7441bb4554dceae818a063666170a": {
          "model_module": "@jupyter-widgets/controls",
          "model_module_version": "1.5.0",
          "model_name": "DescriptionStyleModel",
          "state": {
            "_model_module": "@jupyter-widgets/controls",
            "_model_module_version": "1.5.0",
            "_model_name": "DescriptionStyleModel",
            "_view_count": null,
            "_view_module": "@jupyter-widgets/base",
            "_view_module_version": "1.2.0",
            "_view_name": "StyleView",
            "description_width": ""
          }
        },
        "b2b7773448124cc5951ce80b2450a0f2": {
          "model_module": "@jupyter-widgets/base",
          "model_module_version": "1.2.0",
          "model_name": "LayoutModel",
          "state": {
            "_model_module": "@jupyter-widgets/base",
            "_model_module_version": "1.2.0",
            "_model_name": "LayoutModel",
            "_view_count": null,
            "_view_module": "@jupyter-widgets/base",
            "_view_module_version": "1.2.0",
            "_view_name": "LayoutView",
            "align_content": null,
            "align_items": null,
            "align_self": null,
            "border": null,
            "bottom": null,
            "display": null,
            "flex": null,
            "flex_flow": null,
            "grid_area": null,
            "grid_auto_columns": null,
            "grid_auto_flow": null,
            "grid_auto_rows": null,
            "grid_column": null,
            "grid_gap": null,
            "grid_row": null,
            "grid_template_areas": null,
            "grid_template_columns": null,
            "grid_template_rows": null,
            "height": null,
            "justify_content": null,
            "justify_items": null,
            "left": null,
            "margin": null,
            "max_height": null,
            "max_width": null,
            "min_height": null,
            "min_width": null,
            "object_fit": null,
            "object_position": null,
            "order": null,
            "overflow": null,
            "overflow_x": null,
            "overflow_y": null,
            "padding": null,
            "right": null,
            "top": null,
            "visibility": null,
            "width": null
          }
        },
        "b379814f06b445b48dabbadd2acec0b7": {
          "model_module": "@jupyter-widgets/controls",
          "model_module_version": "1.5.0",
          "model_name": "HTMLModel",
          "state": {
            "_dom_classes": [],
            "_model_module": "@jupyter-widgets/controls",
            "_model_module_version": "1.5.0",
            "_model_name": "HTMLModel",
            "_view_count": null,
            "_view_module": "@jupyter-widgets/controls",
            "_view_module_version": "1.5.0",
            "_view_name": "HTMLView",
            "description": "",
            "description_tooltip": null,
            "layout": "IPY_MODEL_9811b98fa60e477d84d9492f77e9c981",
            "placeholder": "​",
            "style": "IPY_MODEL_5c6200847d114de18854c04d74c78466",
            "value": "epoch 7: 100%"
          }
        },
        "b410469339d648a99e5ce786c260d415": {
          "model_module": "@jupyter-widgets/controls",
          "model_module_version": "1.5.0",
          "model_name": "HTMLModel",
          "state": {
            "_dom_classes": [],
            "_model_module": "@jupyter-widgets/controls",
            "_model_module_version": "1.5.0",
            "_model_name": "HTMLModel",
            "_view_count": null,
            "_view_module": "@jupyter-widgets/controls",
            "_view_module_version": "1.5.0",
            "_view_name": "HTMLView",
            "description": "",
            "description_tooltip": null,
            "layout": "IPY_MODEL_c2eb6df8981147499b905b2304053f94",
            "placeholder": "​",
            "style": "IPY_MODEL_02d8f31652824dad9d4d637eafe7510c",
            "value": "epoch 11:  12%"
          }
        },
        "b4e72e6755e742c0b9f3280743711bc5": {
          "model_module": "@jupyter-widgets/controls",
          "model_module_version": "1.5.0",
          "model_name": "DescriptionStyleModel",
          "state": {
            "_model_module": "@jupyter-widgets/controls",
            "_model_module_version": "1.5.0",
            "_model_name": "DescriptionStyleModel",
            "_view_count": null,
            "_view_module": "@jupyter-widgets/base",
            "_view_module_version": "1.2.0",
            "_view_name": "StyleView",
            "description_width": ""
          }
        },
        "b55a6cbe77354032879a45a67a4c793c": {
          "model_module": "@jupyter-widgets/controls",
          "model_module_version": "1.5.0",
          "model_name": "FloatProgressModel",
          "state": {
            "_dom_classes": [],
            "_model_module": "@jupyter-widgets/controls",
            "_model_module_version": "1.5.0",
            "_model_name": "FloatProgressModel",
            "_view_count": null,
            "_view_module": "@jupyter-widgets/controls",
            "_view_module_version": "1.5.0",
            "_view_name": "ProgressView",
            "bar_style": "success",
            "description": "",
            "description_tooltip": null,
            "layout": "IPY_MODEL_d6d2014513614a64929082dfa16f0a0b",
            "max": 2298,
            "min": 0,
            "orientation": "horizontal",
            "style": "IPY_MODEL_7f930a7e6fca41e88ce452926e607761",
            "value": 2298
          }
        },
        "b7d3ebfbecb14171afa8c77a82094b9a": {
          "model_module": "@jupyter-widgets/base",
          "model_module_version": "1.2.0",
          "model_name": "LayoutModel",
          "state": {
            "_model_module": "@jupyter-widgets/base",
            "_model_module_version": "1.2.0",
            "_model_name": "LayoutModel",
            "_view_count": null,
            "_view_module": "@jupyter-widgets/base",
            "_view_module_version": "1.2.0",
            "_view_name": "LayoutView",
            "align_content": null,
            "align_items": null,
            "align_self": null,
            "border": null,
            "bottom": null,
            "display": null,
            "flex": null,
            "flex_flow": null,
            "grid_area": null,
            "grid_auto_columns": null,
            "grid_auto_flow": null,
            "grid_auto_rows": null,
            "grid_column": null,
            "grid_gap": null,
            "grid_row": null,
            "grid_template_areas": null,
            "grid_template_columns": null,
            "grid_template_rows": null,
            "height": null,
            "justify_content": null,
            "justify_items": null,
            "left": null,
            "margin": null,
            "max_height": null,
            "max_width": null,
            "min_height": null,
            "min_width": null,
            "object_fit": null,
            "object_position": null,
            "order": null,
            "overflow": null,
            "overflow_x": null,
            "overflow_y": null,
            "padding": null,
            "right": null,
            "top": null,
            "visibility": null,
            "width": null
          }
        },
        "b7dd75f4991d48ecafe89e8db0090f95": {
          "model_module": "@jupyter-widgets/controls",
          "model_module_version": "1.5.0",
          "model_name": "HBoxModel",
          "state": {
            "_dom_classes": [],
            "_model_module": "@jupyter-widgets/controls",
            "_model_module_version": "1.5.0",
            "_model_name": "HBoxModel",
            "_view_count": null,
            "_view_module": "@jupyter-widgets/controls",
            "_view_module_version": "1.5.0",
            "_view_name": "HBoxView",
            "box_style": "",
            "children": [
              "IPY_MODEL_1b31866d2d3a4a538284d16b29666a4d",
              "IPY_MODEL_65f6566bb74f4b54bb77710f808c3064",
              "IPY_MODEL_dd77d0b7ab4e4abfb6fc722703ce73fd"
            ],
            "layout": "IPY_MODEL_943b7654a6664eff9d4599ce412de565"
          }
        },
        "bcc772c0b2ef4c66a86a5064d2ff46dc": {
          "model_module": "@jupyter-widgets/controls",
          "model_module_version": "1.5.0",
          "model_name": "DescriptionStyleModel",
          "state": {
            "_model_module": "@jupyter-widgets/controls",
            "_model_module_version": "1.5.0",
            "_model_name": "DescriptionStyleModel",
            "_view_count": null,
            "_view_module": "@jupyter-widgets/base",
            "_view_module_version": "1.2.0",
            "_view_name": "StyleView",
            "description_width": ""
          }
        },
        "bdeb0680f0e4441c87f2b22c467f29f6": {
          "model_module": "@jupyter-widgets/base",
          "model_module_version": "1.2.0",
          "model_name": "LayoutModel",
          "state": {
            "_model_module": "@jupyter-widgets/base",
            "_model_module_version": "1.2.0",
            "_model_name": "LayoutModel",
            "_view_count": null,
            "_view_module": "@jupyter-widgets/base",
            "_view_module_version": "1.2.0",
            "_view_name": "LayoutView",
            "align_content": null,
            "align_items": null,
            "align_self": null,
            "border": null,
            "bottom": null,
            "display": null,
            "flex": null,
            "flex_flow": null,
            "grid_area": null,
            "grid_auto_columns": null,
            "grid_auto_flow": null,
            "grid_auto_rows": null,
            "grid_column": null,
            "grid_gap": null,
            "grid_row": null,
            "grid_template_areas": null,
            "grid_template_columns": null,
            "grid_template_rows": null,
            "height": null,
            "justify_content": null,
            "justify_items": null,
            "left": null,
            "margin": null,
            "max_height": null,
            "max_width": null,
            "min_height": null,
            "min_width": null,
            "object_fit": null,
            "object_position": null,
            "order": null,
            "overflow": null,
            "overflow_x": null,
            "overflow_y": null,
            "padding": null,
            "right": null,
            "top": null,
            "visibility": null,
            "width": null
          }
        },
        "bf3c8622e59243138e0e17395311199a": {
          "model_module": "@jupyter-widgets/base",
          "model_module_version": "1.2.0",
          "model_name": "LayoutModel",
          "state": {
            "_model_module": "@jupyter-widgets/base",
            "_model_module_version": "1.2.0",
            "_model_name": "LayoutModel",
            "_view_count": null,
            "_view_module": "@jupyter-widgets/base",
            "_view_module_version": "1.2.0",
            "_view_name": "LayoutView",
            "align_content": null,
            "align_items": null,
            "align_self": null,
            "border": null,
            "bottom": null,
            "display": null,
            "flex": null,
            "flex_flow": null,
            "grid_area": null,
            "grid_auto_columns": null,
            "grid_auto_flow": null,
            "grid_auto_rows": null,
            "grid_column": null,
            "grid_gap": null,
            "grid_row": null,
            "grid_template_areas": null,
            "grid_template_columns": null,
            "grid_template_rows": null,
            "height": null,
            "justify_content": null,
            "justify_items": null,
            "left": null,
            "margin": null,
            "max_height": null,
            "max_width": null,
            "min_height": null,
            "min_width": null,
            "object_fit": null,
            "object_position": null,
            "order": null,
            "overflow": null,
            "overflow_x": null,
            "overflow_y": null,
            "padding": null,
            "right": null,
            "top": null,
            "visibility": null,
            "width": null
          }
        },
        "c2abb4d47b934d02996241aa5ecfb247": {
          "model_module": "@jupyter-widgets/base",
          "model_module_version": "1.2.0",
          "model_name": "LayoutModel",
          "state": {
            "_model_module": "@jupyter-widgets/base",
            "_model_module_version": "1.2.0",
            "_model_name": "LayoutModel",
            "_view_count": null,
            "_view_module": "@jupyter-widgets/base",
            "_view_module_version": "1.2.0",
            "_view_name": "LayoutView",
            "align_content": null,
            "align_items": null,
            "align_self": null,
            "border": null,
            "bottom": null,
            "display": null,
            "flex": null,
            "flex_flow": null,
            "grid_area": null,
            "grid_auto_columns": null,
            "grid_auto_flow": null,
            "grid_auto_rows": null,
            "grid_column": null,
            "grid_gap": null,
            "grid_row": null,
            "grid_template_areas": null,
            "grid_template_columns": null,
            "grid_template_rows": null,
            "height": null,
            "justify_content": null,
            "justify_items": null,
            "left": null,
            "margin": null,
            "max_height": null,
            "max_width": null,
            "min_height": null,
            "min_width": null,
            "object_fit": null,
            "object_position": null,
            "order": null,
            "overflow": null,
            "overflow_x": null,
            "overflow_y": null,
            "padding": null,
            "right": null,
            "top": null,
            "visibility": null,
            "width": null
          }
        },
        "c2bc08e4d59f434197e392b3b9e66638": {
          "model_module": "@jupyter-widgets/controls",
          "model_module_version": "1.5.0",
          "model_name": "HTMLModel",
          "state": {
            "_dom_classes": [],
            "_model_module": "@jupyter-widgets/controls",
            "_model_module_version": "1.5.0",
            "_model_name": "HTMLModel",
            "_view_count": null,
            "_view_module": "@jupyter-widgets/controls",
            "_view_module_version": "1.5.0",
            "_view_name": "HTMLView",
            "description": "",
            "description_tooltip": null,
            "layout": "IPY_MODEL_85da4ea1046941a2b7b0943f168bf784",
            "placeholder": "​",
            "style": "IPY_MODEL_99dd0bd28fa149768592599aeec78180",
            "value": " 2298/2298 [01:41&lt;00:00, 22.97batch/s, mean_loss=0.15]"
          }
        },
        "c2eb6df8981147499b905b2304053f94": {
          "model_module": "@jupyter-widgets/base",
          "model_module_version": "1.2.0",
          "model_name": "LayoutModel",
          "state": {
            "_model_module": "@jupyter-widgets/base",
            "_model_module_version": "1.2.0",
            "_model_name": "LayoutModel",
            "_view_count": null,
            "_view_module": "@jupyter-widgets/base",
            "_view_module_version": "1.2.0",
            "_view_name": "LayoutView",
            "align_content": null,
            "align_items": null,
            "align_self": null,
            "border": null,
            "bottom": null,
            "display": null,
            "flex": null,
            "flex_flow": null,
            "grid_area": null,
            "grid_auto_columns": null,
            "grid_auto_flow": null,
            "grid_auto_rows": null,
            "grid_column": null,
            "grid_gap": null,
            "grid_row": null,
            "grid_template_areas": null,
            "grid_template_columns": null,
            "grid_template_rows": null,
            "height": null,
            "justify_content": null,
            "justify_items": null,
            "left": null,
            "margin": null,
            "max_height": null,
            "max_width": null,
            "min_height": null,
            "min_width": null,
            "object_fit": null,
            "object_position": null,
            "order": null,
            "overflow": null,
            "overflow_x": null,
            "overflow_y": null,
            "padding": null,
            "right": null,
            "top": null,
            "visibility": null,
            "width": null
          }
        },
        "c34b45cd4b9347bdbdea5877ecb8a47f": {
          "model_module": "@jupyter-widgets/controls",
          "model_module_version": "1.5.0",
          "model_name": "DescriptionStyleModel",
          "state": {
            "_model_module": "@jupyter-widgets/controls",
            "_model_module_version": "1.5.0",
            "_model_name": "DescriptionStyleModel",
            "_view_count": null,
            "_view_module": "@jupyter-widgets/base",
            "_view_module_version": "1.2.0",
            "_view_name": "StyleView",
            "description_width": ""
          }
        },
        "c4118fc3dc92410f894409fdcac10606": {
          "model_module": "@jupyter-widgets/controls",
          "model_module_version": "1.5.0",
          "model_name": "ProgressStyleModel",
          "state": {
            "_model_module": "@jupyter-widgets/controls",
            "_model_module_version": "1.5.0",
            "_model_name": "ProgressStyleModel",
            "_view_count": null,
            "_view_module": "@jupyter-widgets/base",
            "_view_module_version": "1.2.0",
            "_view_name": "StyleView",
            "bar_color": null,
            "description_width": ""
          }
        },
        "c729b3cf2c0c4f48ae2b123af8777ad8": {
          "model_module": "@jupyter-widgets/base",
          "model_module_version": "1.2.0",
          "model_name": "LayoutModel",
          "state": {
            "_model_module": "@jupyter-widgets/base",
            "_model_module_version": "1.2.0",
            "_model_name": "LayoutModel",
            "_view_count": null,
            "_view_module": "@jupyter-widgets/base",
            "_view_module_version": "1.2.0",
            "_view_name": "LayoutView",
            "align_content": null,
            "align_items": null,
            "align_self": null,
            "border": null,
            "bottom": null,
            "display": null,
            "flex": null,
            "flex_flow": null,
            "grid_area": null,
            "grid_auto_columns": null,
            "grid_auto_flow": null,
            "grid_auto_rows": null,
            "grid_column": null,
            "grid_gap": null,
            "grid_row": null,
            "grid_template_areas": null,
            "grid_template_columns": null,
            "grid_template_rows": null,
            "height": null,
            "justify_content": null,
            "justify_items": null,
            "left": null,
            "margin": null,
            "max_height": null,
            "max_width": null,
            "min_height": null,
            "min_width": null,
            "object_fit": null,
            "object_position": null,
            "order": null,
            "overflow": null,
            "overflow_x": null,
            "overflow_y": null,
            "padding": null,
            "right": null,
            "top": null,
            "visibility": null,
            "width": null
          }
        },
        "c743074f55b74a51b0e92b9545630fa1": {
          "model_module": "@jupyter-widgets/controls",
          "model_module_version": "1.5.0",
          "model_name": "HTMLModel",
          "state": {
            "_dom_classes": [],
            "_model_module": "@jupyter-widgets/controls",
            "_model_module_version": "1.5.0",
            "_model_name": "HTMLModel",
            "_view_count": null,
            "_view_module": "@jupyter-widgets/controls",
            "_view_module_version": "1.5.0",
            "_view_name": "HTMLView",
            "description": "",
            "description_tooltip": null,
            "layout": "IPY_MODEL_14d050d52a5b4508887f7b2537ac6283",
            "placeholder": "​",
            "style": "IPY_MODEL_d7dbb79108cc4cab910bfe6c247cc53e",
            "value": " 10/16 [17:27&lt;10:22, 103.80s/epoch]"
          }
        },
        "cdf6ce73a253464090e080f4bbac7a45": {
          "model_module": "@jupyter-widgets/controls",
          "model_module_version": "1.5.0",
          "model_name": "DescriptionStyleModel",
          "state": {
            "_model_module": "@jupyter-widgets/controls",
            "_model_module_version": "1.5.0",
            "_model_name": "DescriptionStyleModel",
            "_view_count": null,
            "_view_module": "@jupyter-widgets/base",
            "_view_module_version": "1.2.0",
            "_view_name": "StyleView",
            "description_width": ""
          }
        },
        "cf0b5b700751460c9dd24d874f82fcb2": {
          "model_module": "@jupyter-widgets/base",
          "model_module_version": "1.2.0",
          "model_name": "LayoutModel",
          "state": {
            "_model_module": "@jupyter-widgets/base",
            "_model_module_version": "1.2.0",
            "_model_name": "LayoutModel",
            "_view_count": null,
            "_view_module": "@jupyter-widgets/base",
            "_view_module_version": "1.2.0",
            "_view_name": "LayoutView",
            "align_content": null,
            "align_items": null,
            "align_self": null,
            "border": null,
            "bottom": null,
            "display": null,
            "flex": null,
            "flex_flow": null,
            "grid_area": null,
            "grid_auto_columns": null,
            "grid_auto_flow": null,
            "grid_auto_rows": null,
            "grid_column": null,
            "grid_gap": null,
            "grid_row": null,
            "grid_template_areas": null,
            "grid_template_columns": null,
            "grid_template_rows": null,
            "height": null,
            "justify_content": null,
            "justify_items": null,
            "left": null,
            "margin": null,
            "max_height": null,
            "max_width": null,
            "min_height": null,
            "min_width": null,
            "object_fit": null,
            "object_position": null,
            "order": null,
            "overflow": null,
            "overflow_x": null,
            "overflow_y": null,
            "padding": null,
            "right": null,
            "top": null,
            "visibility": null,
            "width": null
          }
        },
        "d215b50de9a1431c9d05b9b0a4f5eaf8": {
          "model_module": "@jupyter-widgets/controls",
          "model_module_version": "1.5.0",
          "model_name": "DescriptionStyleModel",
          "state": {
            "_model_module": "@jupyter-widgets/controls",
            "_model_module_version": "1.5.0",
            "_model_name": "DescriptionStyleModel",
            "_view_count": null,
            "_view_module": "@jupyter-widgets/base",
            "_view_module_version": "1.2.0",
            "_view_name": "StyleView",
            "description_width": ""
          }
        },
        "d229ac42e45c4dbba3ca502a83bd92dd": {
          "model_module": "@jupyter-widgets/controls",
          "model_module_version": "1.5.0",
          "model_name": "HTMLModel",
          "state": {
            "_dom_classes": [],
            "_model_module": "@jupyter-widgets/controls",
            "_model_module_version": "1.5.0",
            "_model_name": "HTMLModel",
            "_view_count": null,
            "_view_module": "@jupyter-widgets/controls",
            "_view_module_version": "1.5.0",
            "_view_name": "HTMLView",
            "description": "",
            "description_tooltip": null,
            "layout": "IPY_MODEL_80651e12d845427281806143ca1a8b15",
            "placeholder": "​",
            "style": "IPY_MODEL_fb578e88ea02492cbdb8b51d4d6fa68f",
            "value": "epoch 4: 100%"
          }
        },
        "d24e4d2feec04b049b6aa49077bfe38d": {
          "model_module": "@jupyter-widgets/controls",
          "model_module_version": "1.5.0",
          "model_name": "ProgressStyleModel",
          "state": {
            "_model_module": "@jupyter-widgets/controls",
            "_model_module_version": "1.5.0",
            "_model_name": "ProgressStyleModel",
            "_view_count": null,
            "_view_module": "@jupyter-widgets/base",
            "_view_module_version": "1.2.0",
            "_view_name": "StyleView",
            "bar_color": null,
            "description_width": ""
          }
        },
        "d2d3fa76e9ed431db22071b25747fad5": {
          "model_module": "@jupyter-widgets/controls",
          "model_module_version": "1.5.0",
          "model_name": "ProgressStyleModel",
          "state": {
            "_model_module": "@jupyter-widgets/controls",
            "_model_module_version": "1.5.0",
            "_model_name": "ProgressStyleModel",
            "_view_count": null,
            "_view_module": "@jupyter-widgets/base",
            "_view_module_version": "1.2.0",
            "_view_name": "StyleView",
            "bar_color": null,
            "description_width": ""
          }
        },
        "d455b2b345a04b4d8f82cb283ed6cf20": {
          "model_module": "@jupyter-widgets/controls",
          "model_module_version": "1.5.0",
          "model_name": "HTMLModel",
          "state": {
            "_dom_classes": [],
            "_model_module": "@jupyter-widgets/controls",
            "_model_module_version": "1.5.0",
            "_model_name": "HTMLModel",
            "_view_count": null,
            "_view_module": "@jupyter-widgets/controls",
            "_view_module_version": "1.5.0",
            "_view_name": "HTMLView",
            "description": "",
            "description_tooltip": null,
            "layout": "IPY_MODEL_eb998e164ca64e24a67930aee9bd186d",
            "placeholder": "​",
            "style": "IPY_MODEL_2e1fbd4804fb4cb4a969c3f265a8917e",
            "value": "epoch 5: 100%"
          }
        },
        "d6b09b9644d44163847ebbc289e7856c": {
          "model_module": "@jupyter-widgets/controls",
          "model_module_version": "1.5.0",
          "model_name": "FloatProgressModel",
          "state": {
            "_dom_classes": [],
            "_model_module": "@jupyter-widgets/controls",
            "_model_module_version": "1.5.0",
            "_model_name": "FloatProgressModel",
            "_view_count": null,
            "_view_module": "@jupyter-widgets/controls",
            "_view_module_version": "1.5.0",
            "_view_name": "ProgressView",
            "bar_style": "success",
            "description": "",
            "description_tooltip": null,
            "layout": "IPY_MODEL_ac18ac18c7a94684bfcafc1e693361cc",
            "max": 2298,
            "min": 0,
            "orientation": "horizontal",
            "style": "IPY_MODEL_12b97d638db249eeb7d6d603839712bf",
            "value": 2298
          }
        },
        "d6d2014513614a64929082dfa16f0a0b": {
          "model_module": "@jupyter-widgets/base",
          "model_module_version": "1.2.0",
          "model_name": "LayoutModel",
          "state": {
            "_model_module": "@jupyter-widgets/base",
            "_model_module_version": "1.2.0",
            "_model_name": "LayoutModel",
            "_view_count": null,
            "_view_module": "@jupyter-widgets/base",
            "_view_module_version": "1.2.0",
            "_view_name": "LayoutView",
            "align_content": null,
            "align_items": null,
            "align_self": null,
            "border": null,
            "bottom": null,
            "display": null,
            "flex": null,
            "flex_flow": null,
            "grid_area": null,
            "grid_auto_columns": null,
            "grid_auto_flow": null,
            "grid_auto_rows": null,
            "grid_column": null,
            "grid_gap": null,
            "grid_row": null,
            "grid_template_areas": null,
            "grid_template_columns": null,
            "grid_template_rows": null,
            "height": null,
            "justify_content": null,
            "justify_items": null,
            "left": null,
            "margin": null,
            "max_height": null,
            "max_width": null,
            "min_height": null,
            "min_width": null,
            "object_fit": null,
            "object_position": null,
            "order": null,
            "overflow": null,
            "overflow_x": null,
            "overflow_y": null,
            "padding": null,
            "right": null,
            "top": null,
            "visibility": null,
            "width": null
          }
        },
        "d7dbb79108cc4cab910bfe6c247cc53e": {
          "model_module": "@jupyter-widgets/controls",
          "model_module_version": "1.5.0",
          "model_name": "DescriptionStyleModel",
          "state": {
            "_model_module": "@jupyter-widgets/controls",
            "_model_module_version": "1.5.0",
            "_model_name": "DescriptionStyleModel",
            "_view_count": null,
            "_view_module": "@jupyter-widgets/base",
            "_view_module_version": "1.2.0",
            "_view_name": "StyleView",
            "description_width": ""
          }
        },
        "dd77d0b7ab4e4abfb6fc722703ce73fd": {
          "model_module": "@jupyter-widgets/controls",
          "model_module_version": "1.5.0",
          "model_name": "HTMLModel",
          "state": {
            "_dom_classes": [],
            "_model_module": "@jupyter-widgets/controls",
            "_model_module_version": "1.5.0",
            "_model_name": "HTMLModel",
            "_view_count": null,
            "_view_module": "@jupyter-widgets/controls",
            "_view_module_version": "1.5.0",
            "_view_name": "HTMLView",
            "description": "",
            "description_tooltip": null,
            "layout": "IPY_MODEL_397da604523f42eea8c916c43ba04e17",
            "placeholder": "​",
            "style": "IPY_MODEL_94282642cba54211a41c7ddb08e6895a",
            "value": " 2298/2298 [01:50&lt;00:00, 16.18batch/s, mean_loss=0.642]"
          }
        },
        "df3dea34c7094eda96e5f621c388c1aa": {
          "model_module": "@jupyter-widgets/base",
          "model_module_version": "1.2.0",
          "model_name": "LayoutModel",
          "state": {
            "_model_module": "@jupyter-widgets/base",
            "_model_module_version": "1.2.0",
            "_model_name": "LayoutModel",
            "_view_count": null,
            "_view_module": "@jupyter-widgets/base",
            "_view_module_version": "1.2.0",
            "_view_name": "LayoutView",
            "align_content": null,
            "align_items": null,
            "align_self": null,
            "border": null,
            "bottom": null,
            "display": null,
            "flex": null,
            "flex_flow": null,
            "grid_area": null,
            "grid_auto_columns": null,
            "grid_auto_flow": null,
            "grid_auto_rows": null,
            "grid_column": null,
            "grid_gap": null,
            "grid_row": null,
            "grid_template_areas": null,
            "grid_template_columns": null,
            "grid_template_rows": null,
            "height": null,
            "justify_content": null,
            "justify_items": null,
            "left": null,
            "margin": null,
            "max_height": null,
            "max_width": null,
            "min_height": null,
            "min_width": null,
            "object_fit": null,
            "object_position": null,
            "order": null,
            "overflow": null,
            "overflow_x": null,
            "overflow_y": null,
            "padding": null,
            "right": null,
            "top": null,
            "visibility": null,
            "width": null
          }
        },
        "df942f3901f141e79bd726059556c2e7": {
          "model_module": "@jupyter-widgets/controls",
          "model_module_version": "1.5.0",
          "model_name": "FloatProgressModel",
          "state": {
            "_dom_classes": [],
            "_model_module": "@jupyter-widgets/controls",
            "_model_module_version": "1.5.0",
            "_model_name": "FloatProgressModel",
            "_view_count": null,
            "_view_module": "@jupyter-widgets/controls",
            "_view_module_version": "1.5.0",
            "_view_name": "ProgressView",
            "bar_style": "success",
            "description": "",
            "description_tooltip": null,
            "layout": "IPY_MODEL_4c44799686fd4f95a43adbc9fd599813",
            "max": 2298,
            "min": 0,
            "orientation": "horizontal",
            "style": "IPY_MODEL_c4118fc3dc92410f894409fdcac10606",
            "value": 2298
          }
        },
        "e0dd7b0494e2479e8a4199be42079517": {
          "model_module": "@jupyter-widgets/controls",
          "model_module_version": "1.5.0",
          "model_name": "HTMLModel",
          "state": {
            "_dom_classes": [],
            "_model_module": "@jupyter-widgets/controls",
            "_model_module_version": "1.5.0",
            "_model_name": "HTMLModel",
            "_view_count": null,
            "_view_module": "@jupyter-widgets/controls",
            "_view_module_version": "1.5.0",
            "_view_name": "HTMLView",
            "description": "",
            "description_tooltip": null,
            "layout": "IPY_MODEL_cf0b5b700751460c9dd24d874f82fcb2",
            "placeholder": "​",
            "style": "IPY_MODEL_bcc772c0b2ef4c66a86a5064d2ff46dc",
            "value": " 2298/2298 [01:41&lt;00:00, 24.50batch/s, mean_loss=0.226]"
          }
        },
        "e0de5a4290024ddb941b623f9ac8907c": {
          "model_module": "@jupyter-widgets/base",
          "model_module_version": "1.2.0",
          "model_name": "LayoutModel",
          "state": {
            "_model_module": "@jupyter-widgets/base",
            "_model_module_version": "1.2.0",
            "_model_name": "LayoutModel",
            "_view_count": null,
            "_view_module": "@jupyter-widgets/base",
            "_view_module_version": "1.2.0",
            "_view_name": "LayoutView",
            "align_content": null,
            "align_items": null,
            "align_self": null,
            "border": null,
            "bottom": null,
            "display": null,
            "flex": null,
            "flex_flow": null,
            "grid_area": null,
            "grid_auto_columns": null,
            "grid_auto_flow": null,
            "grid_auto_rows": null,
            "grid_column": null,
            "grid_gap": null,
            "grid_row": null,
            "grid_template_areas": null,
            "grid_template_columns": null,
            "grid_template_rows": null,
            "height": null,
            "justify_content": null,
            "justify_items": null,
            "left": null,
            "margin": null,
            "max_height": null,
            "max_width": null,
            "min_height": null,
            "min_width": null,
            "object_fit": null,
            "object_position": null,
            "order": null,
            "overflow": null,
            "overflow_x": null,
            "overflow_y": null,
            "padding": null,
            "right": null,
            "top": null,
            "visibility": null,
            "width": null
          }
        },
        "e3352b334c784b8cbce158f822b2f071": {
          "model_module": "@jupyter-widgets/controls",
          "model_module_version": "1.5.0",
          "model_name": "DescriptionStyleModel",
          "state": {
            "_model_module": "@jupyter-widgets/controls",
            "_model_module_version": "1.5.0",
            "_model_name": "DescriptionStyleModel",
            "_view_count": null,
            "_view_module": "@jupyter-widgets/base",
            "_view_module_version": "1.2.0",
            "_view_name": "StyleView",
            "description_width": ""
          }
        },
        "eb998e164ca64e24a67930aee9bd186d": {
          "model_module": "@jupyter-widgets/base",
          "model_module_version": "1.2.0",
          "model_name": "LayoutModel",
          "state": {
            "_model_module": "@jupyter-widgets/base",
            "_model_module_version": "1.2.0",
            "_model_name": "LayoutModel",
            "_view_count": null,
            "_view_module": "@jupyter-widgets/base",
            "_view_module_version": "1.2.0",
            "_view_name": "LayoutView",
            "align_content": null,
            "align_items": null,
            "align_self": null,
            "border": null,
            "bottom": null,
            "display": null,
            "flex": null,
            "flex_flow": null,
            "grid_area": null,
            "grid_auto_columns": null,
            "grid_auto_flow": null,
            "grid_auto_rows": null,
            "grid_column": null,
            "grid_gap": null,
            "grid_row": null,
            "grid_template_areas": null,
            "grid_template_columns": null,
            "grid_template_rows": null,
            "height": null,
            "justify_content": null,
            "justify_items": null,
            "left": null,
            "margin": null,
            "max_height": null,
            "max_width": null,
            "min_height": null,
            "min_width": null,
            "object_fit": null,
            "object_position": null,
            "order": null,
            "overflow": null,
            "overflow_x": null,
            "overflow_y": null,
            "padding": null,
            "right": null,
            "top": null,
            "visibility": null,
            "width": null
          }
        },
        "f4511d8c0bbd4936b0c3a36084ce7651": {
          "model_module": "@jupyter-widgets/base",
          "model_module_version": "1.2.0",
          "model_name": "LayoutModel",
          "state": {
            "_model_module": "@jupyter-widgets/base",
            "_model_module_version": "1.2.0",
            "_model_name": "LayoutModel",
            "_view_count": null,
            "_view_module": "@jupyter-widgets/base",
            "_view_module_version": "1.2.0",
            "_view_name": "LayoutView",
            "align_content": null,
            "align_items": null,
            "align_self": null,
            "border": null,
            "bottom": null,
            "display": null,
            "flex": null,
            "flex_flow": null,
            "grid_area": null,
            "grid_auto_columns": null,
            "grid_auto_flow": null,
            "grid_auto_rows": null,
            "grid_column": null,
            "grid_gap": null,
            "grid_row": null,
            "grid_template_areas": null,
            "grid_template_columns": null,
            "grid_template_rows": null,
            "height": null,
            "justify_content": null,
            "justify_items": null,
            "left": null,
            "margin": null,
            "max_height": null,
            "max_width": null,
            "min_height": null,
            "min_width": null,
            "object_fit": null,
            "object_position": null,
            "order": null,
            "overflow": null,
            "overflow_x": null,
            "overflow_y": null,
            "padding": null,
            "right": null,
            "top": null,
            "visibility": null,
            "width": null
          }
        },
        "f5154a42cd634c92b0a88efd8160877f": {
          "model_module": "@jupyter-widgets/controls",
          "model_module_version": "1.5.0",
          "model_name": "HTMLModel",
          "state": {
            "_dom_classes": [],
            "_model_module": "@jupyter-widgets/controls",
            "_model_module_version": "1.5.0",
            "_model_name": "HTMLModel",
            "_view_count": null,
            "_view_module": "@jupyter-widgets/controls",
            "_view_module_version": "1.5.0",
            "_view_name": "HTMLView",
            "description": "",
            "description_tooltip": null,
            "layout": "IPY_MODEL_15ebcab5690d4233b44490dd14699749",
            "placeholder": "​",
            "style": "IPY_MODEL_63a8b36804c24db1928d1780a1507d6a",
            "value": " 2298/2298 [01:40&lt;00:00, 25.37batch/s, mean_loss=0.137]"
          }
        },
        "f75aed72edea4e1bbbe12459ad2a50af": {
          "model_module": "@jupyter-widgets/controls",
          "model_module_version": "1.5.0",
          "model_name": "HTMLModel",
          "state": {
            "_dom_classes": [],
            "_model_module": "@jupyter-widgets/controls",
            "_model_module_version": "1.5.0",
            "_model_name": "HTMLModel",
            "_view_count": null,
            "_view_module": "@jupyter-widgets/controls",
            "_view_module_version": "1.5.0",
            "_view_name": "HTMLView",
            "description": "",
            "description_tooltip": null,
            "layout": "IPY_MODEL_8144f31e914149059181d27cd6e33091",
            "placeholder": "​",
            "style": "IPY_MODEL_4c58deac608a4199b9e291ac877291bc",
            "value": " 2298/2298 [01:41&lt;00:00, 25.53batch/s, mean_loss=0.183]"
          }
        },
        "fa77a65efecf450387f3c2f363badcf1": {
          "model_module": "@jupyter-widgets/base",
          "model_module_version": "1.2.0",
          "model_name": "LayoutModel",
          "state": {
            "_model_module": "@jupyter-widgets/base",
            "_model_module_version": "1.2.0",
            "_model_name": "LayoutModel",
            "_view_count": null,
            "_view_module": "@jupyter-widgets/base",
            "_view_module_version": "1.2.0",
            "_view_name": "LayoutView",
            "align_content": null,
            "align_items": null,
            "align_self": null,
            "border": null,
            "bottom": null,
            "display": null,
            "flex": null,
            "flex_flow": null,
            "grid_area": null,
            "grid_auto_columns": null,
            "grid_auto_flow": null,
            "grid_auto_rows": null,
            "grid_column": null,
            "grid_gap": null,
            "grid_row": null,
            "grid_template_areas": null,
            "grid_template_columns": null,
            "grid_template_rows": null,
            "height": null,
            "justify_content": null,
            "justify_items": null,
            "left": null,
            "margin": null,
            "max_height": null,
            "max_width": null,
            "min_height": null,
            "min_width": null,
            "object_fit": null,
            "object_position": null,
            "order": null,
            "overflow": null,
            "overflow_x": null,
            "overflow_y": null,
            "padding": null,
            "right": null,
            "top": null,
            "visibility": null,
            "width": null
          }
        },
        "faae4b79b72849eebc78a5bc63fbcd78": {
          "model_module": "@jupyter-widgets/base",
          "model_module_version": "1.2.0",
          "model_name": "LayoutModel",
          "state": {
            "_model_module": "@jupyter-widgets/base",
            "_model_module_version": "1.2.0",
            "_model_name": "LayoutModel",
            "_view_count": null,
            "_view_module": "@jupyter-widgets/base",
            "_view_module_version": "1.2.0",
            "_view_name": "LayoutView",
            "align_content": null,
            "align_items": null,
            "align_self": null,
            "border": null,
            "bottom": null,
            "display": null,
            "flex": null,
            "flex_flow": null,
            "grid_area": null,
            "grid_auto_columns": null,
            "grid_auto_flow": null,
            "grid_auto_rows": null,
            "grid_column": null,
            "grid_gap": null,
            "grid_row": null,
            "grid_template_areas": null,
            "grid_template_columns": null,
            "grid_template_rows": null,
            "height": null,
            "justify_content": null,
            "justify_items": null,
            "left": null,
            "margin": null,
            "max_height": null,
            "max_width": null,
            "min_height": null,
            "min_width": null,
            "object_fit": null,
            "object_position": null,
            "order": null,
            "overflow": null,
            "overflow_x": null,
            "overflow_y": null,
            "padding": null,
            "right": null,
            "top": null,
            "visibility": null,
            "width": null
          }
        },
        "faf02cc7c9e5449e8d6a43a9ebfea612": {
          "model_module": "@jupyter-widgets/controls",
          "model_module_version": "1.5.0",
          "model_name": "FloatProgressModel",
          "state": {
            "_dom_classes": [],
            "_model_module": "@jupyter-widgets/controls",
            "_model_module_version": "1.5.0",
            "_model_name": "FloatProgressModel",
            "_view_count": null,
            "_view_module": "@jupyter-widgets/controls",
            "_view_module_version": "1.5.0",
            "_view_name": "ProgressView",
            "bar_style": "success",
            "description": "",
            "description_tooltip": null,
            "layout": "IPY_MODEL_5ceddea164844ae4b7374f29a3c224cf",
            "max": 2298,
            "min": 0,
            "orientation": "horizontal",
            "style": "IPY_MODEL_ffea60da698c46cd9611bbf433844053",
            "value": 2298
          }
        },
        "fb578e88ea02492cbdb8b51d4d6fa68f": {
          "model_module": "@jupyter-widgets/controls",
          "model_module_version": "1.5.0",
          "model_name": "DescriptionStyleModel",
          "state": {
            "_model_module": "@jupyter-widgets/controls",
            "_model_module_version": "1.5.0",
            "_model_name": "DescriptionStyleModel",
            "_view_count": null,
            "_view_module": "@jupyter-widgets/base",
            "_view_module_version": "1.2.0",
            "_view_name": "StyleView",
            "description_width": ""
          }
        },
        "fe5258c37e6a4be5ae86951ba9443c47": {
          "model_module": "@jupyter-widgets/controls",
          "model_module_version": "1.5.0",
          "model_name": "HTMLModel",
          "state": {
            "_dom_classes": [],
            "_model_module": "@jupyter-widgets/controls",
            "_model_module_version": "1.5.0",
            "_model_name": "HTMLModel",
            "_view_count": null,
            "_view_module": "@jupyter-widgets/controls",
            "_view_module_version": "1.5.0",
            "_view_name": "HTMLView",
            "description": "",
            "description_tooltip": null,
            "layout": "IPY_MODEL_09f055354d324b51a9a2b10dcf67a820",
            "placeholder": "​",
            "style": "IPY_MODEL_b4e72e6755e742c0b9f3280743711bc5",
            "value": "epoch 9: 100%"
          }
        },
        "ffea60da698c46cd9611bbf433844053": {
          "model_module": "@jupyter-widgets/controls",
          "model_module_version": "1.5.0",
          "model_name": "ProgressStyleModel",
          "state": {
            "_model_module": "@jupyter-widgets/controls",
            "_model_module_version": "1.5.0",
            "_model_name": "ProgressStyleModel",
            "_view_count": null,
            "_view_module": "@jupyter-widgets/base",
            "_view_module_version": "1.2.0",
            "_view_name": "StyleView",
            "bar_color": null,
            "description_width": ""
          }
        }
      }
    }
  },
  "nbformat": 4,
  "nbformat_minor": 0
}
