{
 "cells": [
  {
   "cell_type": "markdown",
   "metadata": {
    "id": "ZbukHYEEVVn2"
   },
   "source": [
    "# Module 11: Naïve Bayes\n"
   ]
  },
  {
   "cell_type": "markdown",
   "metadata": {
    "id": "AYwQj-hTVVn8"
   },
   "source": [
    "## Assignment overview\n",
    "\n",
    "\n",
    "In this assignment, we will apply the Naïve Bayes technique to a database that contains text messages.\n",
    "Naïve Bayes is a classification technique based on Bayes’ Theorem with an assumption of independence among predictors. \n",
    "\n",
    "For clarity, Bayes' Theorem is stated mathematically as the following equation,\n",
    "\n",
    "$$P(A | B) = \\frac{P(B|A)P(A)}{P(B)},$$\n",
    "\n",
    "where\n",
    "\n",
    " - $P(A| B)$ is a conditional probability: the likelihood of event $A$ occurring given that $B$ is true.\n",
    " - $P(B|A)$ is also a conditional probability: the likelihood of event $B$ occurring given that $A$ is true.\n",
    " - $P(A)$ and $P(B)$ are the probabilities of observing $A$ and $B$.\n",
    "\n",
    "\n",
    "In simple terms, a Naïve Bayes classifier assumes that the presence of a particular feature in a class is unrelated to the presence of any other feature. For example, a fruit may be considered to be an apple if it is red, round, and about three inches in diameter. Even if these features depend on each other or upon the existence of the other features, these properties independently contribute to the probability that this fruit is an apple and that is why it is known as ‘Naïve’.\n",
    "\n",
    "This assignment is designed to help you apply the machine learning algorithms you have learnt using packages in Python. Python concepts, instructions, and the starter code are embedded within this Jupyter Notebook to help guide you as you progress through the assignment. Remember to run the code of each code cell prior to your submission. Upon completing the assignment, we encourage you to compare your work against the solution file to perform a self assessment.\n",
    "\n",
    "\n",
    "### Learning objectives\n",
    "\n",
    "- Use Bayes's Theorem to calculate  conditional probabilities\n",
    "- Outline the exact Bayes algorithm and the drawbacks to this approach\n",
    "- Outline the exact Naïve Bayes algorithm and explain the class-conditional independence\n",
    "- Discuss real-life applications of Naïve Bayes"
   ]
  },
  {
   "cell_type": "markdown",
   "metadata": {
    "id": "vdYEmEMDVVn9"
   },
   "source": [
    "## Index:\n",
    "\n",
    "\n",
    "#### Module 11:  Naïve Bayes\n",
    "\n",
    "- [Part 1 - Importing the data set and exploratory data analysis (EDA)](#part1)\n",
    "- [Part 2 - Shuffling  and splitting the text messages](#part3)\n",
    "- [Part 3 - Building a simple Naïve Bayes classifier from scratch](#part4)\n",
    "- [Part 4 - Explaining the code given in Part 4](#part5)\n",
    "- [Part 5 - Training the classifier `train`](#part6)\n",
    "- [Part 6 - Exploring the performance of the `train` classifier ](#part7)\n",
    "- [Part 7 - Training the train2 classifier ](#part9)\n"
   ]
  },
  {
   "cell_type": "markdown",
   "metadata": {
    "id": "O9xqRe3tVVn-"
   },
   "source": [
    "\n",
    "## Module 11:  Naïve Bayes \n",
    "\n",
    "\n",
    "In Module 11, you learnt about the **Naïve Bayes algorithm** for classification. \n",
    "\n",
    "The pseudo-algorithm for Naïve Bayes can be summarised as follows: \n",
    "1. Load the training and test data.\n",
    "2. Shuffle the messages and split them.\n",
    "3. Build a simple Naïve Bayes classifier from scratch.\n",
    "4. Train the classifier and explore the performance."
   ]
  },
  {
   "cell_type": "markdown",
   "metadata": {
    "id": "wM4zo0yGVVn_"
   },
   "source": [
    "###  Build a Naïve Bayes spam filter\n",
    "\n",
    "\n",
    "For this exercise, we will use the data set  “SMSSpamCollection” (downloadable from [here](https://archive.ics.uci.edu/ml/machine-learning-databases/00228/)) to build a Naïve Bayes spam filter by going through the following steps:\n",
    "\n",
    "1. Load the data file.\n",
    "2. Build a simple Naïve Bayes classifier. While Python’s SciKit-Learn library has a Naïve Bayes classifier, it works with continuous probability distributions and assumes numerical features. Although it is possible to transform categorical variables into numerical features using a binary encoding, we will instead build a simple Naïve Bayes classifier from scratch.\n",
    "3. Explain the code given in Part 2.\n",
    "4. Use your training set to train the classifier ‘train’. Note that the interfaces of our classifiers require you to pass the ham and spam messages separately.\n",
    "5. Using the validation set, explore how the  classifier performs out-of-sample.\n",
    "6. Define a second classifier, and compare its performance with the one defined in Part 3.\n"
   ]
  },
  {
   "cell_type": "markdown",
   "metadata": {
    "id": "2qrUy_vrVVoA"
   },
   "source": [
    "[Back to top](#Index:) \n",
    "\n",
    "<a id='part1'></a>\n",
    "\n",
    "### Part 1 - Importing the data set and  exploratory data analysis (EDA)\n",
    "\n",
    "We begin by using `pandas` to import the data set. To do so, we import `pandas` first and we read the file using the `.read_csv()` function by passing the name of the data set we want to read as a string.\n",
    "\n",
    "Notice that, because the rows in the  data set are separated using a `\\t`, we specified the type of delimiter in the `.read_csv()` function (the default value is `,`). Additionally, we specified the list of column names to use (`\"label\"` and `\"sms\"`).\n",
    "\n",
    "Complete the code cell below by adding the name of the dataset inside `.read_csv()`."
   ]
  },
  {
   "cell_type": "code",
   "execution_count": 2,
   "metadata": {
    "id": "VfA-OzSVVVoA"
   },
   "outputs": [],
   "source": [
    "import pandas as pd\n",
    "\n",
    "messages = pd.read_csv('data\\SMSSpamCollection', sep = '\\t', names = [\"label\", \"sms\"])"
   ]
  },
  {
   "cell_type": "markdown",
   "metadata": {
    "id": "ds0E3u9xVVoC"
   },
   "source": [
    "Before performing any algorithm on the dataframe, it is always good practice to perform exploratory data analysis.\n",
    "\n",
    "We begin by visualising the first ten rows of the dataframe df using the function .head(). By default, .head() displays the first five rows of a dataframe.\n",
    "\n",
    "Complete the code cell below by passing the desired number of rows to the function .head() as an integer."
   ]
  },
  {
   "cell_type": "code",
   "execution_count": 4,
   "metadata": {
    "id": "BovlnlHPVVoC"
   },
   "outputs": [
    {
     "data": {
      "text/html": [
       "<div>\n",
       "<style scoped>\n",
       "    .dataframe tbody tr th:only-of-type {\n",
       "        vertical-align: middle;\n",
       "    }\n",
       "\n",
       "    .dataframe tbody tr th {\n",
       "        vertical-align: top;\n",
       "    }\n",
       "\n",
       "    .dataframe thead th {\n",
       "        text-align: right;\n",
       "    }\n",
       "</style>\n",
       "<table border=\"1\" class=\"dataframe\">\n",
       "  <thead>\n",
       "    <tr style=\"text-align: right;\">\n",
       "      <th></th>\n",
       "      <th>label</th>\n",
       "      <th>sms</th>\n",
       "    </tr>\n",
       "  </thead>\n",
       "  <tbody>\n",
       "    <tr>\n",
       "      <th>0</th>\n",
       "      <td>ham</td>\n",
       "      <td>Go until jurong point, crazy.. Available only ...</td>\n",
       "    </tr>\n",
       "    <tr>\n",
       "      <th>1</th>\n",
       "      <td>ham</td>\n",
       "      <td>Ok lar... Joking wif u oni...</td>\n",
       "    </tr>\n",
       "    <tr>\n",
       "      <th>2</th>\n",
       "      <td>spam</td>\n",
       "      <td>Free entry in 2 a wkly comp to win FA Cup fina...</td>\n",
       "    </tr>\n",
       "    <tr>\n",
       "      <th>3</th>\n",
       "      <td>ham</td>\n",
       "      <td>U dun say so early hor... U c already then say...</td>\n",
       "    </tr>\n",
       "    <tr>\n",
       "      <th>4</th>\n",
       "      <td>ham</td>\n",
       "      <td>Nah I don't think he goes to usf, he lives aro...</td>\n",
       "    </tr>\n",
       "    <tr>\n",
       "      <th>5</th>\n",
       "      <td>spam</td>\n",
       "      <td>FreeMsg Hey there darling it's been 3 week's n...</td>\n",
       "    </tr>\n",
       "    <tr>\n",
       "      <th>6</th>\n",
       "      <td>ham</td>\n",
       "      <td>Even my brother is not like to speak with me. ...</td>\n",
       "    </tr>\n",
       "    <tr>\n",
       "      <th>7</th>\n",
       "      <td>ham</td>\n",
       "      <td>As per your request 'Melle Melle (Oru Minnamin...</td>\n",
       "    </tr>\n",
       "    <tr>\n",
       "      <th>8</th>\n",
       "      <td>spam</td>\n",
       "      <td>WINNER!! As a valued network customer you have...</td>\n",
       "    </tr>\n",
       "    <tr>\n",
       "      <th>9</th>\n",
       "      <td>spam</td>\n",
       "      <td>Had your mobile 11 months or more? U R entitle...</td>\n",
       "    </tr>\n",
       "  </tbody>\n",
       "</table>\n",
       "</div>"
      ],
      "text/plain": [
       "  label                                                sms\n",
       "0   ham  Go until jurong point, crazy.. Available only ...\n",
       "1   ham                      Ok lar... Joking wif u oni...\n",
       "2  spam  Free entry in 2 a wkly comp to win FA Cup fina...\n",
       "3   ham  U dun say so early hor... U c already then say...\n",
       "4   ham  Nah I don't think he goes to usf, he lives aro...\n",
       "5  spam  FreeMsg Hey there darling it's been 3 week's n...\n",
       "6   ham  Even my brother is not like to speak with me. ...\n",
       "7   ham  As per your request 'Melle Melle (Oru Minnamin...\n",
       "8  spam  WINNER!! As a valued network customer you have...\n",
       "9  spam  Had your mobile 11 months or more? U R entitle..."
      ]
     },
     "execution_count": 4,
     "metadata": {},
     "output_type": "execute_result"
    }
   ],
   "source": [
    "messages.head(10)"
   ]
  },
  {
   "cell_type": "markdown",
   "metadata": {
    "id": "U2MwJf7EVVoD"
   },
   "source": [
    "\n",
    "Next, we retrieve some more information about our dataframe by using the properties `.shape` and `columns` and the function `.describe()`.\n",
    "\n",
    "Here's a brief description of what each of the above functions does:\n",
    "- shape: returns a tuple representing the dimensionality of the dataframe.\n",
    "- columns: returns the column labels of the dataframe.\n",
    "- describe(): returns summary statistics of the columns in the dataframe provided, such as mean, count, standard deviation and so on.\n",
    "\n",
    "Run the cells below to review information about the dataframe."
   ]
  },
  {
   "cell_type": "code",
   "execution_count": 5,
   "metadata": {
    "id": "8j7wf26wVVoD"
   },
   "outputs": [
    {
     "data": {
      "text/plain": [
       "(5572, 2)"
      ]
     },
     "execution_count": 5,
     "metadata": {},
     "output_type": "execute_result"
    }
   ],
   "source": [
    "messages.shape"
   ]
  },
  {
   "cell_type": "code",
   "execution_count": 6,
   "metadata": {
    "id": "8LK-ZLCVVVoE"
   },
   "outputs": [
    {
     "data": {
      "text/plain": [
       "Index(['label', 'sms'], dtype='object')"
      ]
     },
     "execution_count": 6,
     "metadata": {},
     "output_type": "execute_result"
    }
   ],
   "source": [
    "messages.columns"
   ]
  },
  {
   "cell_type": "code",
   "execution_count": 7,
   "metadata": {
    "id": "odZ4M8ClVVoE"
   },
   "outputs": [
    {
     "data": {
      "text/html": [
       "<div>\n",
       "<style scoped>\n",
       "    .dataframe tbody tr th:only-of-type {\n",
       "        vertical-align: middle;\n",
       "    }\n",
       "\n",
       "    .dataframe tbody tr th {\n",
       "        vertical-align: top;\n",
       "    }\n",
       "\n",
       "    .dataframe thead th {\n",
       "        text-align: right;\n",
       "    }\n",
       "</style>\n",
       "<table border=\"1\" class=\"dataframe\">\n",
       "  <thead>\n",
       "    <tr style=\"text-align: right;\">\n",
       "      <th></th>\n",
       "      <th>label</th>\n",
       "      <th>sms</th>\n",
       "    </tr>\n",
       "  </thead>\n",
       "  <tbody>\n",
       "    <tr>\n",
       "      <th>count</th>\n",
       "      <td>5572</td>\n",
       "      <td>5572</td>\n",
       "    </tr>\n",
       "    <tr>\n",
       "      <th>unique</th>\n",
       "      <td>2</td>\n",
       "      <td>5169</td>\n",
       "    </tr>\n",
       "    <tr>\n",
       "      <th>top</th>\n",
       "      <td>ham</td>\n",
       "      <td>Sorry, I'll call later</td>\n",
       "    </tr>\n",
       "    <tr>\n",
       "      <th>freq</th>\n",
       "      <td>4825</td>\n",
       "      <td>30</td>\n",
       "    </tr>\n",
       "  </tbody>\n",
       "</table>\n",
       "</div>"
      ],
      "text/plain": [
       "       label                     sms\n",
       "count   5572                    5572\n",
       "unique     2                    5169\n",
       "top      ham  Sorry, I'll call later\n",
       "freq    4825                      30"
      ]
     },
     "execution_count": 7,
     "metadata": {},
     "output_type": "execute_result"
    }
   ],
   "source": [
    "messages.describe()"
   ]
  },
  {
   "cell_type": "markdown",
   "metadata": {
    "id": "2VOv6RhaVVoE"
   },
   "source": [
    "[Back to top](#Index:) \n",
    "\n",
    "<a id='part3'></a>\n",
    "\n",
    "### Part 2 - Shuffling  and splitting the text messages\n",
    "\n",
    "In the third part of this assignment, we shuffle the messages and split them into a training set (2,500 messages), a validation set (1,000 messages) and a test set (all remaining messages).\n",
    "\n",
    "We begin by shuffling the messages. This can be done in `pandas` by using the function `sample`.\n",
    "\n",
    "Complete the code cell below by applying the function `.sample()` to messages. Set the argument `frac = 1` and `random_state = 0`. `frac` denotes the proportion of the datadrame to sample, and `random_state` is a random seed that ensures reproducibility. \n",
    "\n",
    "Next, \n",
    "reset the index of `messages` to align with the shuffled messages by using the function `reset_index` with the appropriate argument. \n",
    "\n",
    "You can find the documentation about `.reset_index()` [here](https://pandas.pydata.org/pandas-docs/stable/reference/api/pandas.DataFrame.reset_index.html)."
   ]
  },
  {
   "cell_type": "code",
   "execution_count": 8,
   "metadata": {
    "id": "_Mk-HgkJVVoF"
   },
   "outputs": [],
   "source": [
    "# frac=1: It specifies the fraction of rows to sample from the DataFrame. Setting it to 1 means that we are sampling all the rows (100% of the data).\n",
    "#random_state=0: This is a random seed that ensures reproducibility. By setting it to a specific value (in this case, 0), the random shuffling will be the same every time you run the code. This is useful for getting consistent results when working with random processes in data analysis.\n",
    "messages = messages.sample(frac = 1, random_state = 0).reset_index(drop = True)\n",
    "\n",
    "#shuffle sms and reset the index\n",
    "#messages = "
   ]
  },
  {
   "cell_type": "markdown",
   "metadata": {
    "id": "k-RRxJUtVVoF"
   },
   "source": [
    "Run the code cell below to visualise the updated dataframe."
   ]
  },
  {
   "cell_type": "code",
   "execution_count": 9,
   "metadata": {
    "id": "MgjQZRoGVVoF"
   },
   "outputs": [
    {
     "data": {
      "text/html": [
       "<div>\n",
       "<style scoped>\n",
       "    .dataframe tbody tr th:only-of-type {\n",
       "        vertical-align: middle;\n",
       "    }\n",
       "\n",
       "    .dataframe tbody tr th {\n",
       "        vertical-align: top;\n",
       "    }\n",
       "\n",
       "    .dataframe thead th {\n",
       "        text-align: right;\n",
       "    }\n",
       "</style>\n",
       "<table border=\"1\" class=\"dataframe\">\n",
       "  <thead>\n",
       "    <tr style=\"text-align: right;\">\n",
       "      <th></th>\n",
       "      <th>label</th>\n",
       "      <th>sms</th>\n",
       "    </tr>\n",
       "  </thead>\n",
       "  <tbody>\n",
       "    <tr>\n",
       "      <th>0</th>\n",
       "      <td>ham</td>\n",
       "      <td>Storming msg: Wen u lift d phne, u say \"HELLO\"...</td>\n",
       "    </tr>\n",
       "    <tr>\n",
       "      <th>1</th>\n",
       "      <td>spam</td>\n",
       "      <td>&lt;Forwarded from 448712404000&gt;Please CALL 08712...</td>\n",
       "    </tr>\n",
       "    <tr>\n",
       "      <th>2</th>\n",
       "      <td>ham</td>\n",
       "      <td>And also I've sorta blown him off a couple tim...</td>\n",
       "    </tr>\n",
       "    <tr>\n",
       "      <th>3</th>\n",
       "      <td>ham</td>\n",
       "      <td>Sir Goodmorning, Once free call me.</td>\n",
       "    </tr>\n",
       "    <tr>\n",
       "      <th>4</th>\n",
       "      <td>ham</td>\n",
       "      <td>All will come alive.better correct any good lo...</td>\n",
       "    </tr>\n",
       "  </tbody>\n",
       "</table>\n",
       "</div>"
      ],
      "text/plain": [
       "  label                                                sms\n",
       "0   ham  Storming msg: Wen u lift d phne, u say \"HELLO\"...\n",
       "1  spam  <Forwarded from 448712404000>Please CALL 08712...\n",
       "2   ham  And also I've sorta blown him off a couple tim...\n",
       "3   ham                Sir Goodmorning, Once free call me.\n",
       "4   ham  All will come alive.better correct any good lo..."
      ]
     },
     "execution_count": 9,
     "metadata": {},
     "output_type": "execute_result"
    }
   ],
   "source": [
    "messages.head()"
   ]
  },
  {
   "cell_type": "markdown",
   "metadata": {
    "id": "NOOLoyrlVVoF"
   },
   "source": [
    "Next, we need to split the messages into a training set (2,500 messages), a validation set (1,000 messages) and a test set (remaining messages).\n",
    "\n",
    "In the code cell below, we have defined the messages and their correspoding labels. Next, we split the messages into the required sets according to the instructions."
   ]
  },
  {
   "cell_type": "code",
   "execution_count": 11,
   "metadata": {
    "id": "dtIamOp3VVoF"
   },
   "outputs": [],
   "source": [
    "msgs = list(messages.sms) \n",
    "lbls =list(messages.label) \n",
    "trainingMsgs = msgs[:2500] \n",
    "valMsgs = msgs[2500:3500] \n",
    "testingMsgs = msgs[3500:]"
   ]
  },
  {
   "cell_type": "markdown",
   "metadata": {
    "id": "4lRuuENJVVoG"
   },
   "source": [
    "Following the syntax used above, complete the cell below to split the labels into training set, a validation set, and a test set."
   ]
  },
  {
   "cell_type": "code",
   "execution_count": 12,
   "metadata": {
    "id": "D8vXucInVVoG"
   },
   "outputs": [],
   "source": [
    "trainingLbls = lbls[:2500]\n",
    "valLbls = lbls[2500:3500]\n",
    "testingLbls = lbls[3500:]"
   ]
  },
  {
   "cell_type": "markdown",
   "metadata": {
    "id": "i4wpv1lRVVoG"
   },
   "source": [
    "[Back to top](#Index:) \n",
    "\n",
    "<a id='part4'></a>\n",
    "\n",
    "### Part 3 - Building a simple Naïve Bayes classifier from scratch\n",
    "\n",
    "While Python’s SciKit-Learn library has a Naïve Bayes classifier (see [here](https://scikit-learn.org/stable/modules/naive_bayes.html) for more information), it works with continuous probability distributions and assumes numerical features. \n",
    "\n",
    "Although it is possible to transform categorical variables into numerical features using a binary encoding, we will instead build a simple Naıve Bayes classifier from scratch."
   ]
  },
  {
   "cell_type": "code",
   "execution_count": 15,
   "metadata": {
    "id": "7J7kTwTVVVoG"
   },
   "outputs": [],
   "source": [
    "import numpy as np\n",
    "\n",
    "\n",
    "class NaiveBayesForSpam:\n",
    "    #This method is used for training the Naive Bayes classifier. It takes two arguments, hamMessages (a list of \"ham\" or non-spam messages) and spamMessages (a list of \"spam\" messages).\n",
    "    def train (self, hamMessages, spamMessages):\n",
    "        # contain all unique words found in both hamMessages and spamMessages. It does so by joining the messages, splitting them into words, and converting them into a set.\n",
    "        self.words = set (' '.join (hamMessages + spamMessages).split())\n",
    "        #NumPy array of length 2 and initialised with zeros\n",
    "        self.priors = np.zeros (2)\n",
    "        #stores the prior probabilities of messages being \"ham\" or \"spam\".\n",
    "        self.priors[0] = float (len (hamMessages)) / (len (hamMessages) + len (spamMessages))\n",
    "        self.priors[1] = 1.0 - self.priors[0]\n",
    "        #a list that will store the likelihood probabilities for each word in self.words. It is initialized as an empty list.\n",
    "        self.likelihoods = []\n",
    "        \n",
    "        #A loop iterates through each word in self.words. For each word, it calculates two probabilities, prob1 and prob2, representing the likelihood of the word occurring in \"ham\" and \"spam\" messages, respectively.\n",
    "        for i, w in enumerate (self.words):\n",
    "            #prob1 and prob2 are calculated based on the count of messages in hamMessages and spamMessages that contain the word. \n",
    "            #Laplace smoothing is applied by adding 1.0 to the numerator and the count of messages in the respective category to the denominator.\n",
    "            #len([m for m in hamMessages if w in m]) calculates the count of \"ham\" messages that contain the word w.\n",
    "            prob1 = (1.0 + len ([m for m in hamMessages if w in m])) / len (hamMessages)\n",
    "            prob2 = (1.0 + len ([m for m in spamMessages if w in m])) / len (spamMessages)\n",
    "            #ensures that the likelihoods are not greater than 0.95, preventing extreme values.\n",
    "            self.likelihoods.append ([min (prob1, 0.95), min (prob2, 0.95)])\n",
    "        #is converted into a NumPy array and transposed to have two rows, one for \"ham\" and one for \"spam\" likelihoods.    \n",
    "        self.likelihoods = np.array (self.likelihoods).T\n",
    "    \n",
    "    #This method is used to predict whether a given message is \"ham\" or \"spam\". It takes a single argument, message, which is the text message to classify.\n",
    "    def predict (self, message):\n",
    "        #initialised as a copy of self.priors, representing the prior probabilities.\n",
    "        posteriors = np.copy (self.priors)\n",
    "        for i, w in enumerate (self.words):\n",
    "            #If the word is found in the lowercase version of the message, it updates the posteriors by multiplying them by the corresponding likelihoods from self.likelihoods.\n",
    "            if w in message.lower():  # convert to lower-case\n",
    "                posteriors *= self.likelihoods[:,i]\n",
    "            else:                                   \n",
    "                #If the word is not found in the message, it updates the posteriors by multiplying them by (1 - likelihoods), essentially updating with the complement of the likelihoods.\n",
    "                posteriors *= np.ones (2) - self.likelihoods[:,i]\n",
    "            posteriors = posteriors / np.linalg.norm (posteriors)  # normalise to ensure they sum up to 1.\n",
    "        if posteriors[0] > 0.5:\n",
    "            return ['ham', posteriors[0]]\n",
    "        return ['spam', posteriors[1]]    \n",
    "\n",
    "    #is used to evaluate the performance of the classifier on a set of messages with known labels. It takes two arguments, messages (a list of text messages) and labels (a list of corresponding labels, either \"ham\" or \"spam\").\n",
    "    def score (self, messages, labels):\n",
    "        #initializes a 2x2 confusion matrix confusion to keep track of true positives, true negatives, false positives, and false negatives.\n",
    "        confusion = np.zeros(4).reshape (2,2)\n",
    "        # It iterates through each message in messages and compares the predicted label (using the predict method) with the true label.\n",
    "        for m, l in zip (messages, labels):\n",
    "            # Based on the predictions and true labels, it updates the confusion matrix by incrementing the appropriate counts.\n",
    "            if self.predict(m)[0] == 'ham' and l == 'ham':\n",
    "                confusion[0,0] += 1\n",
    "            elif self.predict(m)[0] == 'ham' and l == 'spam':\n",
    "                confusion[0,1] += 1\n",
    "            elif self.predict(m)[0] == 'spam' and l == 'ham':\n",
    "                confusion[1,0] += 1\n",
    "            elif self.predict(m)[0] == 'spam' and l == 'spam':\n",
    "                confusion[1,1] += 1\n",
    "        # calculates the accuracy by summing the counts of true positives and true negatives and dividing by the total number of samples in the dataset. It returns both the accuracy and the confusion matrix.\n",
    "        return (confusion[0,0] + confusion[1,1]) / float (confusion.sum()), confusion"
   ]
  },
  {
   "cell_type": "markdown",
   "metadata": {
    "id": "aOxEpqaEVVoH"
   },
   "source": [
    "### [Back to top](#Index:) \n",
    "\n",
    "<a id='part5'></a>\n",
    "\n",
    "### Part 4 - Explaining the code given in Part 3\n",
    "\n",
    "Before explaining the code given in Part 3, it is important to have some level of intuition as to what a spammy text message might look like. Usually they have words designed to catch your eye and, in some sense, tempt you to open them. Also, spam messages tend to have words written in all capital letters and use a lot of exclamation marks.\n",
    "\n"
   ]
  },
  {
   "cell_type": "markdown",
   "metadata": {
    "id": "sQz_PzZPVVoH"
   },
   "source": [
    "Answer the following questions to explain the code from Part 3. You can double-click this cell to write your answers. \n",
    "\n",
    "- What is the role of the `train` function?\n",
    "[Jing's Answer]: This method is used for training the Naive Bayes classifier. It takes two arguments, hamMessages (a list of \"ham\" or non-spam messages) and spamMessages (a list of \"spam\" messages).\n",
    "\n",
    "\n",
    "\n",
    "\n",
    "\n",
    "- What does the `predict` function do?\n",
    "[Jing's Answer]: This method is used to predict whether a given message is \"ham\" or \"spam\". It takes a single argument, message, which is the text message to classify. For each word in self.words, it calculates the likelihood of the word being present or absent in the message. It then updates the posterior probabilities accordingly. Finally, it normalises the posteriors and returns the predicted label (\"ham\" or \"spam\") along with the posterior probability.\n",
    "\n",
    "\n",
    "\n",
    "\n",
    "\n",
    "- After the training and test data sets, the remaining messages go through the `score` function. How does this function analyze the remaining messages?\n",
    "[Jing's Answer]: The 'score' function evaluates the performance of the classifier on the remaining messages and returns both the accuracy and the confusion matrix.\n",
    "\n",
    "\n",
    "\n",
    "\n",
    "\n"
   ]
  },
  {
   "cell_type": "markdown",
   "metadata": {
    "id": "cpXIKDIBVVoH"
   },
   "source": [
    "[Back to top](#Index:) \n",
    "\n",
    "<a id='part6'></a>\n",
    "\n",
    "### Part 5 - Training the `train`  classifier\n",
    "\n",
    "Looking at the definition of the function `train` in Part 3, we can see that the training functions require the `ham` and `spam` messages to be passed on separately.\n",
    "\n",
    "The `ham` messages can be passed using the code given below:"
   ]
  },
  {
   "cell_type": "code",
   "execution_count": 16,
   "metadata": {
    "id": "5-rZvqEuVVoI"
   },
   "outputs": [],
   "source": [
    "hammsgs = [m for (m, l) in zip(trainingMsgs, trainingLbls) if 'ham' in l]"
   ]
  },
  {
   "cell_type": "markdown",
   "metadata": {
    "id": "gDwCgh3hVVoI"
   },
   "source": [
    "Complete the cell below to pass the spam messages."
   ]
  },
  {
   "cell_type": "code",
   "execution_count": 17,
   "metadata": {
    "id": "t6CfUZIAVVoI"
   },
   "outputs": [],
   "source": [
    "spammsgs = [m for (m, l) in zip(trainingMsgs, trainingLbls) if 'spam' in l]"
   ]
  },
  {
   "cell_type": "markdown",
   "metadata": {
    "id": "Ultr_1GHVVoI"
   },
   "source": [
    "Run the cell below to see how many `ham` and `spam` messages we have."
   ]
  },
  {
   "cell_type": "code",
   "execution_count": 18,
   "metadata": {
    "id": "z82K5Pf3VVoI"
   },
   "outputs": [
    {
     "name": "stdout",
     "output_type": "stream",
     "text": [
      "2170\n",
      "330\n"
     ]
    }
   ],
   "source": [
    "print(len(hammsgs))\n",
    "print(len(spammsgs))"
   ]
  },
  {
   "cell_type": "markdown",
   "metadata": {
    "id": "_cVxEIUkVVoJ"
   },
   "source": [
    "Perfect, their sum equals 2500 as expected. \n",
    "\n",
    "Next, we need to create the classifier for our analysis using the function `NaiveBayesForSpam`(). Complete the cell below to create the classifier `clf`.\n",
    "\n",
    "Next, train `hammsgs` and `spammsgs` using the function `train`. \n",
    "\n",
    "*HINT:* For this last part, look at the definition of the function `.train()`."
   ]
  },
  {
   "cell_type": "code",
   "execution_count": 20,
   "metadata": {
    "id": "B6JAClmmVVoJ"
   },
   "outputs": [],
   "source": [
    "#define the classifier\n",
    "clf = NaiveBayesForSpam()\n",
    "\n",
    "#train it\n",
    "clf.train(hammsgs,spammsgs)"
   ]
  },
  {
   "cell_type": "markdown",
   "metadata": {
    "id": "WBHzFKZMVVoJ"
   },
   "source": [
    "[Back to top](#Index:) \n",
    "\n",
    "<a id='part7'></a>\n",
    "\n",
    "### Part 6 - Exploring the performance of the `train` classifier.\n",
    "\n",
    "We can explore the performance of the two classifiers on the *validation set* by using the function `.score()`.\n",
    "\n",
    "Complete the code cell below to compute the score and the confusion matrix for this case.\n",
    "\n",
    "\n",
    "**IMPORTANT NOTE: Results in the following sections  will change. This is expected due to the random shuffling. The results will be different for each shuffling. To ensure reproducible results, define `random_state` in the `sample` method when shuffling the data in [Part 2 - Shuffling  and splitting the text messages](#part3).**\n"
   ]
  },
  {
   "cell_type": "code",
   "execution_count": 21,
   "metadata": {
    "id": "8q0PKPWyVVoJ"
   },
   "outputs": [],
   "source": [
    "score, confusion = clf.score (valMsgs,valLbls )"
   ]
  },
  {
   "cell_type": "markdown",
   "metadata": {
    "id": "yMB890uDVVoJ"
   },
   "source": [
    "Run the code cells below to print the score and the confusion matrix."
   ]
  },
  {
   "cell_type": "code",
   "execution_count": 22,
   "metadata": {
    "id": "idYmtsIEVVoJ"
   },
   "outputs": [
    {
     "name": "stdout",
     "output_type": "stream",
     "text": [
      "The overall performance is: 0.977\n"
     ]
    }
   ],
   "source": [
    "print(\"The overall performance is:\", score)"
   ]
  },
  {
   "cell_type": "code",
   "execution_count": 23,
   "metadata": {
    "id": "ENQu7ahHVVoK"
   },
   "outputs": [
    {
     "name": "stdout",
     "output_type": "stream",
     "text": [
      "The confusion matrix is:\n",
      " [[864.  20.]\n",
      " [  3. 113.]]\n"
     ]
    }
   ],
   "source": [
    "print(\"The confusion matrix is:\\n\", confusion)"
   ]
  },
  {
   "cell_type": "markdown",
   "metadata": {
    "id": "9pAw4_2eVVoK"
   },
   "source": [
    "Our data is not equally divided into the two classes. As a baseline, let’s see what the\n",
    "success rate would be if we always guessed `ham`.\n",
    "\n",
    "Run the code cell below to print the new score."
   ]
  },
  {
   "cell_type": "code",
   "execution_count": 24,
   "metadata": {
    "id": "gexGWIqUVVoK"
   },
   "outputs": [
    {
     "name": "stdout",
     "output_type": "stream",
     "text": [
      "new_score 0.867\n"
     ]
    }
   ],
   "source": [
    "print('new_score', len([1 for l in valLbls if 'ham' in l]) / float (len ( valLbls)))"
   ]
  },
  {
   "cell_type": "markdown",
   "metadata": {
    "id": "oMT1FeDwVVoK"
   },
   "source": [
    "Compare the baseline score to the performance on the validation set. Which is better?\n",
    "\n",
    "We can also calculate the sample error by calculating the score and the confusion matrix on the *training set*."
   ]
  },
  {
   "cell_type": "code",
   "execution_count": 26,
   "metadata": {
    "id": "yNZHfo3MVVoK"
   },
   "outputs": [],
   "source": [
    "#Note: this cell may take a LONG time to run!\n",
    "score, confusion = clf.score (trainingMsgs, trainingLbls )"
   ]
  },
  {
   "cell_type": "code",
   "execution_count": 27,
   "metadata": {
    "id": "-F6cVDZAVVoK"
   },
   "outputs": [
    {
     "name": "stdout",
     "output_type": "stream",
     "text": [
      "The overall performance is: 0.9796\n"
     ]
    }
   ],
   "source": [
    "print(\"The overall performance is:\", score)"
   ]
  },
  {
   "cell_type": "code",
   "execution_count": 28,
   "metadata": {
    "id": "ywLW_YAtVVoK"
   },
   "outputs": [
    {
     "name": "stdout",
     "output_type": "stream",
     "text": [
      "The confusion matrix is:\n",
      " [[2.169e+03 5.000e+01]\n",
      " [1.000e+00 2.800e+02]]\n"
     ]
    }
   ],
   "source": [
    "print(\"The confusion matrix is:\\n\", confusion)"
   ]
  },
  {
   "cell_type": "markdown",
   "metadata": {
    "id": "M23Jnd3VVVoL"
   },
   "source": [
    "[Back to top](#Index:) \n",
    "\n",
    "<a id='part9'></a>\n",
    "\n",
    "### Part 7 - The `train2` classifier\n",
    "\n",
    "In this section, we will define a second classifier, `train2`, and compare its performance to the classifier `train` defined above.\n",
    "\n",
    "The `train2` classifier is defined in the code cell below."
   ]
  },
  {
   "cell_type": "code",
   "execution_count": 29,
   "metadata": {
    "id": "ibOUCjZ6VVoL"
   },
   "outputs": [],
   "source": [
    "class NaiveBayesForSpam:\n",
    "    def train2 ( self , hamMessages , spamMessages) :\n",
    "            self.words = set (' '.join (hamMessages + spamMessages).split())\n",
    "            self.priors = np. zeros (2)\n",
    "            self.priors [0] = float (len (hamMessages)) / (len (hamMessages) +len( spamMessages ) )\n",
    "            self.priors [1] = 1.0 - self . priors [0] \n",
    "            self.likelihoods = []\n",
    "            spamkeywords = [ ]\n",
    "            for i, w in enumerate (self.words):\n",
    "                prob1 = (1.0 + len ([m for m in hamMessages if w in m])) /len ( hamMessages )\n",
    "                prob2 = (1.0 + len ([m for m in spamMessages if w in m])) /len ( spamMessages ) \n",
    "                if prob1 * 20 < prob2:\n",
    "                    self.likelihoods.append([min (prob1 , 0.95) , min (prob2 , 0.95) ])\n",
    "                    spamkeywords . append (w) \n",
    "            self.words = spamkeywords\n",
    "            self.likelihoods = np.array (self.likelihoods).T \n",
    "            \n",
    "    def predict (self, message):\n",
    "        posteriors = np.copy (self.priors)\n",
    "        for i, w in enumerate (self.words):\n",
    "            if w in message.lower():  # convert to lower-case\n",
    "                posteriors *= self.likelihoods[:,i]\n",
    "            else:                                   \n",
    "                posteriors *= np.ones (2) - self.likelihoods[:,i]\n",
    "            posteriors = posteriors / np.linalg.norm (posteriors)  # normalise\n",
    "        if posteriors[0] > 0.5:\n",
    "            return ['ham', posteriors[0]]\n",
    "        return ['spam', posteriors[1]]    \n",
    "\n",
    "    def score (self, messages, labels):\n",
    "        confusion = np.zeros(4).reshape (2,2)\n",
    "        for m, l in zip (messages, labels):\n",
    "            if self.predict(m)[0] == 'ham' and l == 'ham':\n",
    "                confusion[0,0] += 1\n",
    "            elif self.predict(m)[0] == 'ham' and l == 'spam':\n",
    "                confusion[0,1] += 1\n",
    "            elif self.predict(m)[0] == 'spam' and l == 'ham':\n",
    "                confusion[1,0] += 1\n",
    "            elif self.predict(m)[0] == 'spam' and l == 'spam':\n",
    "                confusion[1,1] += 1\n",
    "        return (confusion[0,0] + confusion[1,1]) / float (confusion.sum()), confusion"
   ]
  },
  {
   "cell_type": "markdown",
   "metadata": {
    "id": "wGDBh5nRVVoL"
   },
   "source": [
    "Next, we need to update the classifier for our analysis using the function `NaiveBayesForSpam`(). Complete the cell below to create the classifier `clf`.\n",
    "\n",
    "Next, train `hammsgs` and `spammsgs` using the function `train2`. \n",
    "\n",
    "*HINT:* For this last part, look at the definition of the function `.train2()`."
   ]
  },
  {
   "cell_type": "code",
   "execution_count": 30,
   "metadata": {
    "id": "ZtpJcUgrVVoL"
   },
   "outputs": [],
   "source": [
    "#define the classifier\n",
    "clf = NaiveBayesForSpam()\n",
    "\n",
    "#train it\n",
    "clf.train2(hammsgs,spammsgs)"
   ]
  },
  {
   "cell_type": "markdown",
   "metadata": {
    "id": "roSB4Kq2VVoL"
   },
   "source": [
    "Re-compute the score and the confusion matrix on the *validation set* using the updated classifier."
   ]
  },
  {
   "cell_type": "code",
   "execution_count": 31,
   "metadata": {
    "id": "Gte-b0NJVVoL"
   },
   "outputs": [],
   "source": [
    "#Again, this cell may take a long time to run!\n",
    "score_2, confusion_2 = clf.score(valMsgs,valLbls)"
   ]
  },
  {
   "cell_type": "markdown",
   "metadata": {
    "id": "_pteZJpjVVoL"
   },
   "source": [
    "Run the code cells below to get the updated values."
   ]
  },
  {
   "cell_type": "code",
   "execution_count": 32,
   "metadata": {
    "id": "IECLiX3pVVoM"
   },
   "outputs": [
    {
     "name": "stdout",
     "output_type": "stream",
     "text": [
      "The overall performance is:  0.979\n"
     ]
    }
   ],
   "source": [
    "print(\"The overall performance is: \", score_2)"
   ]
  },
  {
   "cell_type": "code",
   "execution_count": 33,
   "metadata": {
    "id": "mOG1wywLVVoM"
   },
   "outputs": [
    {
     "name": "stdout",
     "output_type": "stream",
     "text": [
      "The confusion matrix is:\n",
      " [[863.  17.]\n",
      " [  4. 116.]]\n"
     ]
    }
   ],
   "source": [
    "print(\"The confusion matrix is:\\n\", confusion_2)"
   ]
  },
  {
   "cell_type": "markdown",
   "metadata": {
    "id": "wXzHjzlYVVoM"
   },
   "source": [
    "Good job on completing the assignment!"
   ]
  }
 ],
 "metadata": {
  "colab": {
   "collapsed_sections": [],
   "name": "IMP_PCMLAI_naive_bayes.ipynb",
   "provenance": []
  },
  "kernelspec": {
   "display_name": "Python 3 (ipykernel)",
   "language": "python",
   "name": "python3"
  },
  "language_info": {
   "codemirror_mode": {
    "name": "ipython",
    "version": 3
   },
   "file_extension": ".py",
   "mimetype": "text/x-python",
   "name": "python",
   "nbconvert_exporter": "python",
   "pygments_lexer": "ipython3",
   "version": "3.10.9"
  }
 },
 "nbformat": 4,
 "nbformat_minor": 1
}
