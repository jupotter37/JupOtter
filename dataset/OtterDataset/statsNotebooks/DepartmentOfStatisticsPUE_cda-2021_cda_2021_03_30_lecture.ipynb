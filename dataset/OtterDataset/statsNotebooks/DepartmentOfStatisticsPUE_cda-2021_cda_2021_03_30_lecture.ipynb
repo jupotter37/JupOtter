{
  "nbformat": 4,
  "nbformat_minor": 0,
  "metadata": {
    "colab": {
      "name": "cda_2021_03_30_lecture.ipynb",
      "provenance": [],
      "collapsed_sections": [],
      "authorship_tag": "ABX9TyMCIDZo1JD/pjFmzjc6UjWn",
      "include_colab_link": true
    },
    "kernelspec": {
      "name": "ir",
      "display_name": "R"
    },
    "language_info": {
      "name": "R"
    }
  },
  "cells": [
    {
      "cell_type": "markdown",
      "metadata": {
        "id": "view-in-github",
        "colab_type": "text"
      },
      "source": [
        "<a href=\"https://colab.research.google.com/github/DepartmentOfStatisticsPUE/cda-2021/blob/main/notebooks/cda_2021_03_30_lecture.ipynb\" target=\"_parent\"><img src=\"https://colab.research.google.com/assets/colab-badge.svg\" alt=\"Open In Colab\"/></a>"
      ]
    },
    {
      "cell_type": "markdown",
      "metadata": {
        "id": "EUUwyNo07MBK"
      },
      "source": [
        "## Analysis of contingency tables\n",
        "\n",
        "During lectures we will focus on:\n",
        "\n",
        "+ measuring associations in contingency tables\n",
        "+ measuring odds ratios etc\n",
        "+ visualising contingency tables with correspondence analysis"
      ]
    },
    {
      "cell_type": "code",
      "metadata": {
        "colab": {
          "base_uri": "https://localhost:8080/"
        },
        "id": "5W3MnhtW7J_A",
        "outputId": "8d11eb26-25e1-4b8e-f869-803f5c300b90"
      },
      "source": [
        "install.packages(\"vcd\")"
      ],
      "execution_count": 1,
      "outputs": [
        {
          "output_type": "stream",
          "text": [
            "Installing package into ‘/usr/local/lib/R/site-library’\n",
            "(as ‘lib’ is unspecified)\n",
            "\n",
            "also installing the dependencies ‘zoo’, ‘lmtest’\n",
            "\n",
            "\n"
          ],
          "name": "stderr"
        }
      ]
    },
    {
      "cell_type": "code",
      "metadata": {
        "colab": {
          "base_uri": "https://localhost:8080/"
        },
        "id": "OlfCKew37nWT",
        "outputId": "e26e558d-cc2e-42a5-b3ba-e8fffdbbda11"
      },
      "source": [
        "library(vcd)"
      ],
      "execution_count": 3,
      "outputs": [
        {
          "output_type": "stream",
          "text": [
            "Loading required package: grid\n",
            "\n"
          ],
          "name": "stderr"
        }
      ]
    },
    {
      "cell_type": "markdown",
      "metadata": {
        "id": "rbCx-DqK7o3x"
      },
      "source": [
        "We create some data based on real study"
      ]
    },
    {
      "cell_type": "code",
      "metadata": {
        "colab": {
          "base_uri": "https://localhost:8080/",
          "height": 190
        },
        "id": "ClgnCWef7r86",
        "outputId": "81ef54f8-9d25-4ad1-bd4f-d132883f1140"
      },
      "source": [
        "data_vec <- c(1933, 1175, 1186, 646, 579, 671, 707, 780, 767, 768, 962, 1126)\n",
        "data_mat <- matrix(data = data_vec, nrow = 4, ncol = 3, byrow = T)\n",
        "rownames(data_mat) <- c(\"Rural\", \"city 20k\", \"city 20k-100k\", \"city 100k+\")\n",
        "colnames(data_mat) <- c(\"Realised\",\"Refusals\",\"Errors\")\n",
        "data_mat"
      ],
      "execution_count": 4,
      "outputs": [
        {
          "output_type": "display_data",
          "data": {
            "text/plain": [
              "              Realised Refusals Errors\n",
              "Rural         1933     1175     1186  \n",
              "city 20k       646      579      671  \n",
              "city 20k-100k  707      780      767  \n",
              "city 100k+     768      962     1126  "
            ],
            "text/latex": "A matrix: 4 × 3 of type dbl\n\\begin{tabular}{r|lll}\n  & Realised & Refusals & Errors\\\\\n\\hline\n\tRural & 1933 & 1175 & 1186\\\\\n\tcity 20k &  646 &  579 &  671\\\\\n\tcity 20k-100k &  707 &  780 &  767\\\\\n\tcity 100k+ &  768 &  962 & 1126\\\\\n\\end{tabular}\n",
            "text/markdown": "\nA matrix: 4 × 3 of type dbl\n\n| <!--/--> | Realised | Refusals | Errors |\n|---|---|---|---|\n| Rural | 1933 | 1175 | 1186 |\n| city 20k |  646 |  579 |  671 |\n| city 20k-100k |  707 |  780 |  767 |\n| city 100k+ |  768 |  962 | 1126 |\n\n",
            "text/html": [
              "<table class=\"dataframe\">\n",
              "<caption>A matrix: 4 × 3 of type dbl</caption>\n",
              "<thead>\n",
              "\t<tr><th></th><th scope=col>Realised</th><th scope=col>Refusals</th><th scope=col>Errors</th></tr>\n",
              "</thead>\n",
              "<tbody>\n",
              "\t<tr><th scope=row>Rural</th><td>1933</td><td>1175</td><td>1186</td></tr>\n",
              "\t<tr><th scope=row>city 20k</th><td> 646</td><td> 579</td><td> 671</td></tr>\n",
              "\t<tr><th scope=row>city 20k-100k</th><td> 707</td><td> 780</td><td> 767</td></tr>\n",
              "\t<tr><th scope=row>city 100k+</th><td> 768</td><td> 962</td><td>1126</td></tr>\n",
              "</tbody>\n",
              "</table>\n"
            ]
          },
          "metadata": {
            "tags": []
          }
        }
      ]
    },
    {
      "cell_type": "code",
      "metadata": {
        "colab": {
          "base_uri": "https://localhost:8080/",
          "height": 34
        },
        "id": "3xqjqGct9czj",
        "outputId": "1a0f2ec9-9337-4ce4-fe91-a4995f80c1f1"
      },
      "source": [
        "sum(data_mat)"
      ],
      "execution_count": 7,
      "outputs": [
        {
          "output_type": "display_data",
          "data": {
            "text/plain": [
              "[1] 11300"
            ],
            "text/latex": "11300",
            "text/markdown": "11300",
            "text/html": [
              "11300"
            ]
          },
          "metadata": {
            "tags": []
          }
        }
      ]
    },
    {
      "cell_type": "markdown",
      "metadata": {
        "id": "cZG9LE6x9FDZ"
      },
      "source": [
        "Let's calculate proportions with `prop.table` function"
      ]
    },
    {
      "cell_type": "code",
      "metadata": {
        "colab": {
          "base_uri": "https://localhost:8080/",
          "height": 190
        },
        "id": "oTNoQQDR9EZu",
        "outputId": "c499c88c-0b52-454c-d3e7-6d899ce0d76f"
      },
      "source": [
        "prop.table(data_mat)*100 ## general proportions in the data"
      ],
      "execution_count": 6,
      "outputs": [
        {
          "output_type": "display_data",
          "data": {
            "text/plain": [
              "              Realised  Refusals  Errors   \n",
              "Rural         17.106195 10.398230 10.495575\n",
              "city 20k       5.716814  5.123894  5.938053\n",
              "city 20k-100k  6.256637  6.902655  6.787611\n",
              "city 100k+     6.796460  8.513274  9.964602"
            ],
            "text/latex": "A matrix: 4 × 3 of type dbl\n\\begin{tabular}{r|lll}\n  & Realised & Refusals & Errors\\\\\n\\hline\n\tRural & 17.106195 & 10.398230 & 10.495575\\\\\n\tcity 20k &  5.716814 &  5.123894 &  5.938053\\\\\n\tcity 20k-100k &  6.256637 &  6.902655 &  6.787611\\\\\n\tcity 100k+ &  6.796460 &  8.513274 &  9.964602\\\\\n\\end{tabular}\n",
            "text/markdown": "\nA matrix: 4 × 3 of type dbl\n\n| <!--/--> | Realised | Refusals | Errors |\n|---|---|---|---|\n| Rural | 17.106195 | 10.398230 | 10.495575 |\n| city 20k |  5.716814 |  5.123894 |  5.938053 |\n| city 20k-100k |  6.256637 |  6.902655 |  6.787611 |\n| city 100k+ |  6.796460 |  8.513274 |  9.964602 |\n\n",
            "text/html": [
              "<table class=\"dataframe\">\n",
              "<caption>A matrix: 4 × 3 of type dbl</caption>\n",
              "<thead>\n",
              "\t<tr><th></th><th scope=col>Realised</th><th scope=col>Refusals</th><th scope=col>Errors</th></tr>\n",
              "</thead>\n",
              "<tbody>\n",
              "\t<tr><th scope=row>Rural</th><td>17.106195</td><td>10.398230</td><td>10.495575</td></tr>\n",
              "\t<tr><th scope=row>city 20k</th><td> 5.716814</td><td> 5.123894</td><td> 5.938053</td></tr>\n",
              "\t<tr><th scope=row>city 20k-100k</th><td> 6.256637</td><td> 6.902655</td><td> 6.787611</td></tr>\n",
              "\t<tr><th scope=row>city 100k+</th><td> 6.796460</td><td> 8.513274</td><td> 9.964602</td></tr>\n",
              "</tbody>\n",
              "</table>\n"
            ]
          },
          "metadata": {
            "tags": []
          }
        }
      ]
    },
    {
      "cell_type": "code",
      "metadata": {
        "colab": {
          "base_uri": "https://localhost:8080/",
          "height": 190
        },
        "id": "WX3oIHWe9n1V",
        "outputId": "5129190f-c8a9-4a23-d6dd-9d3bbc598d6d"
      },
      "source": [
        "prop.table(data_mat, margin = 1)*100 ## row proportions"
      ],
      "execution_count": 8,
      "outputs": [
        {
          "output_type": "display_data",
          "data": {
            "text/plain": [
              "              Realised Refusals Errors  \n",
              "Rural         45.01630 27.36376 27.61993\n",
              "city 20k      34.07173 30.53797 35.39030\n",
              "city 20k-100k 31.36646 34.60515 34.02839\n",
              "city 100k+    26.89076 33.68347 39.42577"
            ],
            "text/latex": "A matrix: 4 × 3 of type dbl\n\\begin{tabular}{r|lll}\n  & Realised & Refusals & Errors\\\\\n\\hline\n\tRural & 45.01630 & 27.36376 & 27.61993\\\\\n\tcity 20k & 34.07173 & 30.53797 & 35.39030\\\\\n\tcity 20k-100k & 31.36646 & 34.60515 & 34.02839\\\\\n\tcity 100k+ & 26.89076 & 33.68347 & 39.42577\\\\\n\\end{tabular}\n",
            "text/markdown": "\nA matrix: 4 × 3 of type dbl\n\n| <!--/--> | Realised | Refusals | Errors |\n|---|---|---|---|\n| Rural | 45.01630 | 27.36376 | 27.61993 |\n| city 20k | 34.07173 | 30.53797 | 35.39030 |\n| city 20k-100k | 31.36646 | 34.60515 | 34.02839 |\n| city 100k+ | 26.89076 | 33.68347 | 39.42577 |\n\n",
            "text/html": [
              "<table class=\"dataframe\">\n",
              "<caption>A matrix: 4 × 3 of type dbl</caption>\n",
              "<thead>\n",
              "\t<tr><th></th><th scope=col>Realised</th><th scope=col>Refusals</th><th scope=col>Errors</th></tr>\n",
              "</thead>\n",
              "<tbody>\n",
              "\t<tr><th scope=row>Rural</th><td>45.01630</td><td>27.36376</td><td>27.61993</td></tr>\n",
              "\t<tr><th scope=row>city 20k</th><td>34.07173</td><td>30.53797</td><td>35.39030</td></tr>\n",
              "\t<tr><th scope=row>city 20k-100k</th><td>31.36646</td><td>34.60515</td><td>34.02839</td></tr>\n",
              "\t<tr><th scope=row>city 100k+</th><td>26.89076</td><td>33.68347</td><td>39.42577</td></tr>\n",
              "</tbody>\n",
              "</table>\n"
            ]
          },
          "metadata": {
            "tags": []
          }
        }
      ]
    },
    {
      "cell_type": "code",
      "metadata": {
        "colab": {
          "base_uri": "https://localhost:8080/",
          "height": 190
        },
        "id": "B_Xj4N-m-NoB",
        "outputId": "759837ff-1809-4ef9-d16e-8cb3df72a03b"
      },
      "source": [
        "prop.table(data_mat, margin = 2)*100"
      ],
      "execution_count": 9,
      "outputs": [
        {
          "output_type": "display_data",
          "data": {
            "text/plain": [
              "              Realised Refusals Errors  \n",
              "Rural         47.68130 33.60984 31.62667\n",
              "city 20k      15.93488 16.56178 17.89333\n",
              "city 20k-100k 17.43957 22.31121 20.45333\n",
              "city 100k+    18.94425 27.51716 30.02667"
            ],
            "text/latex": "A matrix: 4 × 3 of type dbl\n\\begin{tabular}{r|lll}\n  & Realised & Refusals & Errors\\\\\n\\hline\n\tRural & 47.68130 & 33.60984 & 31.62667\\\\\n\tcity 20k & 15.93488 & 16.56178 & 17.89333\\\\\n\tcity 20k-100k & 17.43957 & 22.31121 & 20.45333\\\\\n\tcity 100k+ & 18.94425 & 27.51716 & 30.02667\\\\\n\\end{tabular}\n",
            "text/markdown": "\nA matrix: 4 × 3 of type dbl\n\n| <!--/--> | Realised | Refusals | Errors |\n|---|---|---|---|\n| Rural | 47.68130 | 33.60984 | 31.62667 |\n| city 20k | 15.93488 | 16.56178 | 17.89333 |\n| city 20k-100k | 17.43957 | 22.31121 | 20.45333 |\n| city 100k+ | 18.94425 | 27.51716 | 30.02667 |\n\n",
            "text/html": [
              "<table class=\"dataframe\">\n",
              "<caption>A matrix: 4 × 3 of type dbl</caption>\n",
              "<thead>\n",
              "\t<tr><th></th><th scope=col>Realised</th><th scope=col>Refusals</th><th scope=col>Errors</th></tr>\n",
              "</thead>\n",
              "<tbody>\n",
              "\t<tr><th scope=row>Rural</th><td>47.68130</td><td>33.60984</td><td>31.62667</td></tr>\n",
              "\t<tr><th scope=row>city 20k</th><td>15.93488</td><td>16.56178</td><td>17.89333</td></tr>\n",
              "\t<tr><th scope=row>city 20k-100k</th><td>17.43957</td><td>22.31121</td><td>20.45333</td></tr>\n",
              "\t<tr><th scope=row>city 100k+</th><td>18.94425</td><td>27.51716</td><td>30.02667</td></tr>\n",
              "</tbody>\n",
              "</table>\n"
            ]
          },
          "metadata": {
            "tags": []
          }
        }
      ]
    },
    {
      "cell_type": "markdown",
      "metadata": {
        "id": "1b0SVmTz-dOm"
      },
      "source": [
        "How can we verify relationship within this table? For this task we may use:\n",
        " \n",
        "+ `chisq.test` -- which covers both veryfing whether given variable comes from some distribution and calculating $\\chi^2$ test\n",
        "+ `vcd::assocstats` -- calculates association statistics ($\\chi^2$ test, Cramers' V, etc.)"
      ]
    },
    {
      "cell_type": "code",
      "metadata": {
        "colab": {
          "base_uri": "https://localhost:8080/",
          "height": 102
        },
        "id": "N5UL9aKM-6bU",
        "outputId": "fd33b24c-9cc8-4e0b-9dd9-4e34ae5ca2df"
      },
      "source": [
        "chisq.test(data_mat)"
      ],
      "execution_count": 10,
      "outputs": [
        {
          "output_type": "display_data",
          "data": {
            "text/plain": [
              "\n",
              "\tPearson's Chi-squared test\n",
              "\n",
              "data:  data_mat\n",
              "X-squared = 290.2, df = 6, p-value < 2.2e-16\n"
            ]
          },
          "metadata": {
            "tags": []
          }
        }
      ]
    },
    {
      "cell_type": "code",
      "metadata": {
        "colab": {
          "base_uri": "https://localhost:8080/",
          "height": 136
        },
        "id": "_9C8t0kFBBDT",
        "outputId": "09b98409-374c-41e4-c37c-512b4b45f0ed"
      },
      "source": [
        "assocstats(data_mat)"
      ],
      "execution_count": 11,
      "outputs": [
        {
          "output_type": "display_data",
          "data": {
            "text/plain": [
              "                    X^2 df P(> X^2)\n",
              "Likelihood Ratio 290.04  6        0\n",
              "Pearson          290.20  6        0\n",
              "\n",
              "Phi-Coefficient   : NA \n",
              "Contingency Coeff.: 0.158 \n",
              "Cramer's V        : 0.113 "
            ]
          },
          "metadata": {
            "tags": []
          }
        }
      ]
    },
    {
      "cell_type": "markdown",
      "metadata": {
        "id": "QvMh9_xZBKqi"
      },
      "source": [
        "Output of the assocstats function\n",
        "\n",
        "+ Likelihood Ratio -- alternative way to verify the hypothesis\n",
        "```\n",
        "Likelihood Ratio 290.04  6        0\n",
        "```\n",
        "+ Pearson -- is $\\chi^2$ Statistic\n",
        "```\n",
        "Pearson          290.20  6        0\n",
        "```\n",
        "\n",
        "+ 3 statistics that refer to strength of relationship\n",
        "```\n",
        "Phi-Coefficient   : NA \n",
        "Contingency Coeff.: 0.158 \n",
        "Cramer's V        : 0.113 \n",
        "```"
      ]
    },
    {
      "cell_type": "markdown",
      "metadata": {
        "id": "ttS49YlvDbOW"
      },
      "source": [
        "## Odds and log-odds\n",
        "\n",
        "Assume that we have the following random variable (passing CDA lecture) that follows Bernoulli distribution\n",
        "\n",
        "$$\n",
        "X \\sim \\text{Bernoulli}(p = 0.7)\n",
        "$$"
      ]
    },
    {
      "cell_type": "code",
      "metadata": {
        "colab": {
          "base_uri": "https://localhost:8080/",
          "height": 34
        },
        "id": "kNuCY-3uBzRC",
        "outputId": "496b9f71-3e62-4818-9f45-94100b593b7d"
      },
      "source": [
        "0.7 / (1-0.7) * 10"
      ],
      "execution_count": 13,
      "outputs": [
        {
          "output_type": "display_data",
          "data": {
            "text/plain": [
              "[1] 23.33333"
            ],
            "text/latex": "23.3333333333333",
            "text/markdown": "23.3333333333333",
            "text/html": [
              "23.3333333333333"
            ]
          },
          "metadata": {
            "tags": []
          }
        }
      ]
    },
    {
      "cell_type": "markdown",
      "metadata": {
        "id": "s3KUYYnEEdJ3"
      },
      "source": [
        "Some artificaion example about covd-19 vaccines, probability of success (i.e. not being ill with covid-19 after vaccination) is 0.90. What is the odds? \n",
        "\n"
      ]
    },
    {
      "cell_type": "code",
      "metadata": {
        "colab": {
          "base_uri": "https://localhost:8080/",
          "height": 34
        },
        "id": "w_OD6lRbE0Dp",
        "outputId": "de0ab80b-de7b-478f-dddc-a299b5db2ecb"
      },
      "source": [
        "0.9/0.1*1000"
      ],
      "execution_count": 15,
      "outputs": [
        {
          "output_type": "display_data",
          "data": {
            "text/plain": [
              "[1] 9000"
            ],
            "text/latex": "9000",
            "text/markdown": "9000",
            "text/html": [
              "9000"
            ]
          },
          "metadata": {
            "tags": []
          }
        }
      ]
    },
    {
      "cell_type": "markdown",
      "metadata": {
        "id": "675ShELFGkyi"
      },
      "source": [
        "Let's calculate odds ratios for the following example:\n",
        "\n",
        "1. we compare rural vs cities\n",
        "2. we compare participation in the study vs refusals"
      ]
    },
    {
      "cell_type": "code",
      "metadata": {
        "id": "Pn-y7J84Gvkd"
      },
      "source": [
        "rural_part <- 1933\n",
        "rural_refu <- 1175\n",
        "city_part <- 646+707+768\n",
        "city_refu <- 579 + 780 + 962"
      ],
      "execution_count": 17,
      "outputs": []
    },
    {
      "cell_type": "code",
      "metadata": {
        "colab": {
          "base_uri": "https://localhost:8080/",
          "height": 51
        },
        "id": "1UnjnnOqG_zY",
        "outputId": "f4bcf654-0684-4ce7-a6c3-02e8091ff2ff"
      },
      "source": [
        "prob_part_rural <- rural_part/(rural_part + rural_refu)\n",
        "prob_part_rural ## probability of participation in the study for people who live in rural parts\n",
        "prob_part_city <- city_part / (city_part + city_refu)\n",
        "prob_part_city ## probability of participation in the study for people who live in cities"
      ],
      "execution_count": 22,
      "outputs": [
        {
          "output_type": "display_data",
          "data": {
            "text/plain": [
              "[1] 0.6219434"
            ],
            "text/latex": "0.621943371943372",
            "text/markdown": "0.621943371943372",
            "text/html": [
              "0.621943371943372"
            ]
          },
          "metadata": {
            "tags": []
          }
        },
        {
          "output_type": "display_data",
          "data": {
            "text/plain": [
              "[1] 0.4774876"
            ],
            "text/latex": "0.477487618190005",
            "text/markdown": "0.477487618190005",
            "text/html": [
              "0.477487618190005"
            ]
          },
          "metadata": {
            "tags": []
          }
        }
      ]
    },
    {
      "cell_type": "markdown",
      "metadata": {
        "id": "I6pqmaYbHq8g"
      },
      "source": [
        "Now, let's calculate odds ratios:\n",
        "\n",
        "$$\n",
        "\\text{ODDS ratios} = \\frac{\\text{Odds for rural}}{\\text{Odds for cities}}\n",
        "$$\n",
        "\n"
      ]
    },
    {
      "cell_type": "code",
      "metadata": {
        "colab": {
          "base_uri": "https://localhost:8080/",
          "height": 34
        },
        "id": "nZJozbWvH_zm",
        "outputId": "b1093a45-411b-4341-e2ac-9a58cfcb796c"
      },
      "source": [
        "odds_rural <- prob_part_rural / (1-prob_part_rural)\n",
        "odds_city <- prob_part_city / (1-prob_part_city)\n",
        "odds_ratio <- odds_rural/odds_city\n",
        "odds_ratio"
      ],
      "execution_count": 25,
      "outputs": [
        {
          "output_type": "display_data",
          "data": {
            "text/plain": [
              "[1] 1.800232"
            ],
            "text/latex": "1.80023192592815",
            "text/markdown": "1.80023192592815",
            "text/html": [
              "1.80023192592815"
            ]
          },
          "metadata": {
            "tags": []
          }
        }
      ]
    },
    {
      "cell_type": "markdown",
      "metadata": {
        "id": "2KYTYzqKIMfH"
      },
      "source": [
        "**Interpretation of this result**: odds ratio is higher than 1, which means that there is relationship between place of living and participation in survey. Value 1.8 means that, for example: if we have 100 people who participated in the study and lived in cities, we have 180 people who participated in the study and lived in rural areas.\n"
      ]
    },
    {
      "cell_type": "code",
      "metadata": {
        "colab": {
          "base_uri": "https://localhost:8080/",
          "height": 34
        },
        "id": "kpYqYCGDI61C",
        "outputId": "228c0116-f599-414c-b1ef-8361e404e32a"
      },
      "source": [
        "log(odds_ratio)"
      ],
      "execution_count": 26,
      "outputs": [
        {
          "output_type": "display_data",
          "data": {
            "text/plain": [
              "[1] 0.5879155"
            ],
            "text/latex": "0.587915504339826",
            "text/markdown": "0.587915504339826",
            "text/html": [
              "0.587915504339826"
            ]
          },
          "metadata": {
            "tags": []
          }
        }
      ]
    }
  ]
}