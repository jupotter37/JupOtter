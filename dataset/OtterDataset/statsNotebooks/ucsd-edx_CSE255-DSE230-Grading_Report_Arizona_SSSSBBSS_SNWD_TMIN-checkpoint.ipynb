{
 "cells": [
  {
   "cell_type": "markdown",
   "metadata": {
    "ExecuteTime": {
     "end_time": "2017-05-14T10:15:19.669187Z",
     "start_time": "2017-05-14T10:15:19.655072"
    }
   },
   "source": [
    "# Arizona Weather Analysis\n",
    "\n",
    "This is a report on the historical analysis of weather patterns in an area that approximately overlaps the area east of Phoenix, Arizona.\n",
    "\n",
    "The data we will use here comes from [NOAA](https://www.ncdc.noaa.gov/). Specifically, it was downloaded from This [FTP site](ftp://ftp.ncdc.noaa.gov/pub/data/ghcn/daily/).\n",
    "\n",
    "We focused on six measurements:\n",
    "* **TMIN, TMAX:** the daily minimum and maximum temperature.\n",
    "* **TOBS:** The average temperature for each day.\n",
    "* **PRCP:** Daily Percipitation (in mm)\n",
    "* **SNOW:** Daily snowfall (in mm)\n",
    "* **SNWD:** The depth of accumulated snow.\n",
    "\n",
    "## Sanity-check: comparison with outside sources\n",
    "\n",
    "<p>We start by comparing some of the general statistics with graphs that we obtained from a site called <a href=\"http://www.usclimatedata.com/climate/show-low/arizona/united-states/usaz0213\" target=\"_blank\">US Climate Data</a> The graph below shows the daily minimum and maximum temperatures for each month, as well as the total precipitation for each month.</p>\n",
    "\n",
    "<p>&nbsp;</p>\n",
    "\n",
    "<p><img alt=\"Climate_arizona.jpg\" src=\"r_figures/r_figure1/arizona_show_low_weather.jpeg\" /></p>\n",
    "\n",
    "<p>&nbsp;</p>\n",
    "\n",
    "<p>We see that the min daily&nbsp;temperature agree with the ones we got from our data, once we translate Fahrenheit to Centigrade. However, the max daily temperature is slightly lower than our data. This is plausible as the data is from Show Low, AZ, a single town, while our data is the mean value of an area.</p>\n",
    "\n",
    "<p>&nbsp;</p>\n",
    "\n",
    "<p><img alt=\"TMIN,TMAX.png\" src=\"r_figures/r_figure1/TMIN,TMAX.png\" style=\"height:300px; width:800px\" /></p>\n",
    "\n",
    "<p>To compare the precipitation&nbsp;we need to translate millimeter/day to millimeter/month. According to our analysis the average rainfall is around 1.50 mm/day which translates to about 45 millimeter&nbsp;per month. According to US-Climate-Data the average rainfall is closer to 40 millimeter per month. Notice that in both graph there is a sudden rise in July, and the peak of precipitation is in August. </p>\n",
    "\n",
    "<p>&nbsp;<img alt=\"PRCP.png\" src=\"r_figures/r_figure1/PRCP.png\" style=\"height:450px; width:600px\" /></p>\n"
   ]
  },
  {
   "cell_type": "markdown",
   "metadata": {
    "ExecuteTime": {
     "end_time": "2017-05-14T10:25:43.525002Z",
     "start_time": "2017-05-14T10:25:43.513857"
    }
   },
   "source": [
    "## PCA analysis\n",
    "\n",
    "For each of the six measurement, we compute the percentate of the variance explained as a function of the number of eigen-vectors used.\n",
    "\n",
    "### Percentage of variance explained.\n",
    "![VarExplained1.png](r_figures/r_figure1/VarExplained1.png)\n",
    "We see that the top 5 eigen-vectors explain 70% of variance for TMIN, 70% for TOBS and 60% for TMAX. These three are all well explained by the top 5 eigenvectors. Specially, the first eigen-vector explains most of the variance. For example, the first eigen-vector of TMIN explains 70% of the variance. \n",
    "\n",
    "\n",
    "![VarExplained2.png](r_figures/r_figure1/VarExplained2.png)\n",
    "\n",
    "The top 5 eigenvectors explain 9% of the variance for PRCP and 15% for SNOW. Both are low values. On the other hand the top 5 eigenvectors explain %85 of the variance for SNWD. This means that these top 5 eigenvectors capture most of the variation in the snow signals. Based on that we will dig deeper into the PCA analysis for snow-depth.\n",
    "\n",
    "It makes sense that SNWD would be less noisy than SNOW. That is because SNWD is a decaying integral of SNOW and, as such, varies less between days and between the same date on diffferent years."
   ]
  },
  {
   "cell_type": "markdown",
   "metadata": {
    "ExecuteTime": {
     "end_time": "2017-05-14T10:35:33.921717Z",
     "start_time": "2017-05-14T10:35:33.914424"
    }
   },
   "source": [
    "## Analysis of snow depth\n",
    "\n",
    "We choose to analyze the eigen-decomposition for snow-depth because the first 4 eigen-vectors explain 80% of the variance.\n",
    "\n",
    "First, we graph the mean and the top 4 eigen-vectors.\n",
    "\n",
    "We observe that the snow season is from mid-november to the end of April, where the early February marks the peak of the snow-depth.\n",
    "![SNWD_mean_eigs.png](r_figures/r_figure1/SNWD_mean_eigs.png)"
   ]
  },
  {
   "cell_type": "markdown",
   "metadata": {},
   "source": [
    "Next we interpret the eigen-functions. The first eigen-function (eig1) has a shape very similar to the mean function. The main difference is that the eigen-function is close to zero during November while the mean is not. Also, the eigen-function peaks at mid February while the mean peaks at late January. The interpretation of this shape is that eig1 represents the overall amount of snow above/below the mean, but without changing the distribution over time.\n",
    "\n",
    "**eig2,eig3 and eig4** are similar in the following way. They all oscilate between positive and negative values. In other words, they correspond to changing the distribution of the snow depth over the winter months, but they don't change the total (much).\n",
    "\n",
    "They can be interpreted as follows:\n",
    "* **eig2:** less snow in Dec. - mid Feb., more snow in mid Feb. - Apr..\n",
    "* **eig3:** less snow in Dec., more snow in Jan. - mid Feb., less snow in mid Feb. - mid Apr.\n",
    "* **eig4:** more snow in Jan., less snow in Feb. - Mar., more snow in Apr.\n"
   ]
  },
  {
   "cell_type": "markdown",
   "metadata": {},
   "source": [
    "### Examples of reconstructions\n",
    "\n",
    "#### Coeff1\n",
    "Coeff1: most positive\n",
    "![SNWD_grid_Pos_coeff1.png](r_figures/r_figure1/SNWD_grid_Pos_coeff1.png)\n",
    "Coeff1: most negative\n",
    "![SNWD_grid_neg_coeff1.png](r_figures/r_figure1/SNWD_grid_neg_coeff1.png)\n",
    "Large positive values of coeff1 correspond to overall more snow. Low values correspond to overall less snow.\n",
    "\n",
    "#### Coeff2\n",
    "Coeff2: most positive\n",
    "![SNWD_grid_Pos_coeff2.png](r_figures/r_figure1/SNWD_grid_Pos_coeff2.png)\n",
    "Coeff2: most negative\n",
    "![SNWD_grid_neg_coeff2.png](r_figures/r_figure1/SNWD_grid_neg_coeff2.png)\n",
    "\n",
    "Large positive values of coeff2 correspond to a late snow season (most of the snowfall is after mid Feb. Negative values for coeff2 correspond to an early snow season (most of the snow is before Jan.\n",
    "#### Coeff3\n",
    "Coeff3: most positive\n",
    "![SNWD_grid_Pos_coeff3.png](r_figures/r_figure1/SNWD_grid_Pos_coeff3.png)\n",
    "Coeff3: most negative\n",
    "![SNWD_grid_neg_coeff3.png](r_figures/r_figure1/SNWD_grid_neg_coeff3.png)\n",
    "\n",
    "Large positive values of coeff3 correspond to a snow season with two spikes: one in the start of january, the other at the end of february. Negative values of coeff3 correspond to a season with a single peak at the end of Jan.\n",
    "\n",
    "In all the above graphs, the target snow depth is much larger than mean value. The reason could be that those target contributes to most variance in our dataset, so that our eigen reconstruction mainly focuses on these data point. \n",
    "\n"
   ]
  },
  {
   "cell_type": "markdown",
   "metadata": {},
   "source": [
    "### Cumulative distribution frequency \n",
    "#### Coeff1, res1\n",
    "![SNWD_res_1_CDF.png](r_figures/r_figure1/SNWD_res_1_CDF.png)\n",
    "![SNWD_coeff1_CDF.png](r_figures/r_figure1/SNWD_coeff_1_CDF.png)\n",
    "Most data points have positive coeff1\n",
    "#### Coeff2, res2\n",
    "![SNWD_res_2_CDF.png](r_figures/r_figure1/SNWD_res_2_CDF.png)\n",
    "![SNWD_coeff1_CDF.png](r_figures/r_figure1/SNWD_coeff_2_CDF.png)\n",
    "Most data points have negative coeff2\n",
    "#### Coeff3, res3\n",
    "![SNWD_res_2_CDF.png](r_figures/r_figure1/SNWD_res_3_CDF.png)\n",
    "![SNWD_coeff1_CDF.png](r_figures/r_figure1/SNWD_coeff_3_CDF.png)\n",
    "Data points with positive coeff3 and negative coeff3 have similar number"
   ]
  },
  {
   "cell_type": "markdown",
   "metadata": {},
   "source": [
    "### Measuring the relationship between stations\n",
    "We first want to see whether the mean by day or mean by station better explains the data variance.\n",
    "We construct a matrix which one row represents all days of snow depth measurement for a single station. We concatenate all measurements of the same station to form a long row. \n",
    "For days where only parts of the stations have measurement, we set the value as `nan`.\n",
    "The resulting matrix has 29 rows and 39420 columns, which means we have 29 stations.\n",
    "\n",
    "We then subtract the matrix by mean_by_day and mean_by_station, and compare the RMS of resulting matrixs.  \n",
    "`total RMS                   =  130.905204609\n",
    "RMS removing mean-by-station =  117.678548937\n",
    "RMS removing mean-by-day     =  91.5009428836`  \n",
    "The result shows that mean-by-day better explains the variance. \n",
    "\n",
    "We then plot the cumulative distribution frequncy of daily snow depth. The graph shows that around 15% of all days have non zero snow depth.\n",
    "![SNWD_daily_CDF_allstation.png](r_figures/r_figure1/SNWD_daily_CDF_allstation.png)\n",
    "\n",
    "#### Measuring statistical significance of different stations snow depth correlation\n",
    "We use the following method to compute the statistical significance of two stations' correlation:  \n",
    "Fix two stations. We restrict our attention to the days for which we have measurements for both stations, and define the following notation:\n",
    "* $m$ : the total number of days (for which we have measurements for both stations).\n",
    "* $n_1$ : the number of days that it rained on station 1\n",
    "* $n_2$ : the number of days that it rained on station 2\n",
    "* $l$ : the number of days that it rained on both stations.\n",
    "\n",
    "We want to calculate the probability that the number of overlap days is $l$ given $m,n_1,n_2$.\n",
    "\n",
    "The answer is:\n",
    "$$\n",
    "P = {m \\choose l,n_1-l,n_2-l,m-n_1-n_2+l} /{m \\choose n_1}{m \\choose n_2}\n",
    "$$\n",
    "\n",
    "Where\n",
    "$$\n",
    "{m \\choose l,n_1-l,n_2-l,m-n_1-n_2+l} = \\frac{m!}{l! (n_1-l)! (n_2-l)! (m-n_1-n_2+l)!}\n",
    "$$\n",
    "\n",
    "We use the fact that $\\Gamma(n+1) = n!$ and denote $G(n) \\doteq \\log \\Gamma(n+1)$\n",
    "$$\n",
    "\\log P = \\left[G(m) - G(l) -G(n_1-l) -G(n_2-l) -G(m-n_1-n_2+l) \\right] - \n",
    "\\left[G(m)-G(n_1)-G(m-n_1)\\right] - \\left[G(m)-G(n_2)-G(m-n_2)\\right]\n",
    "$$\n",
    "Which slightly simplifies to \n",
    "$$\n",
    "\\log P = -G(l) -G(n_1-l) -G(n_2-l) -G(m-n_1-n_2+l) - G(m)+G(n_1)+G(m-n_1) +G(n_2)+G(m-n_2)\n",
    "$$\n",
    "\n",
    "The log probability scales with $m$ the length of the overlap. So to get a per-day significance we consider $\n",
    "\\frac{1}{m} \\log P $  \n",
    "$\\log P$ is negative. The smaller $\\log P$ is, the more significant the two stations' snow depth are correlated.\n",
    "The station correlation matrix is as follows:\n",
    "![SNWD_station_correlation_DF](r_figures/r_figure1/SNWD_station_correlation_matrix.png)\n",
    "The diagonal is the correlation between same station, which is set as 0.4.\n",
    "\n",
    "We plot the distribution of correlation significance.\n",
    "![SNWD_station_correlation_DF](r_figures/r_figure1/SNWD_station_correlation_DF.png)\n",
    "The figure shows that most station pairs' correlation significance is around 0.1. The single peak at 0.4 is because we arbitrarily set significance value of the same station as 0.4, i.e. (station1, station1)'s significance value is set as 0.4.\n",
    "\n",
    "##### PCA decomposition of correlation matrix\n",
    "We then use PCA for station snow depth correlation matrix to see whether there is some pattern for stations' correlation. \n",
    "![SNWD_station_correlation_DF](r_figures/r_figure1/SNWD_station_correlation_PCA.png)\n",
    "\n",
    "To see whether there is clustering pattern in correlation matrix and how PCA eigen vectors explains it, we order the matrix according to each PCA eigen vector's element order. We only use 4 eigen vectors in the following analysis. \n",
    "![SNWD_station_correlation_eigenOrder](r_figures/r_figure1/SNWD_station_correlation_PCA_eigenOrder.png)\n",
    "In the first and third graph, there is clustering in the upper left corner and down right corner, in the second graph there is clustring in the down right corner. \n",
    "\n",
    "As 4 eigen vectors explain more than 60% of the variance in correlation matrix, we represent each station by a tuple of 4 elements, where each one is the element of respective eigen vector. To see the spatial distribution, we plot the 4-element tuple on map. The size of the triangle represent the absolute value of the tuple's element value. Hollow triangle means the value is larger than zero, and solid triangle means the value is smaller than zero. \n",
    "![AZ_weather_map](r_figures/r_figure1/AZ_SNWD_map.jpeg)  \n",
    "\n",
    "There is some clustering pattern. For example, the three green triangles at bottom right seems to be a cluster.\n"
   ]
  },
  {
   "cell_type": "markdown",
   "metadata": {},
   "source": [
    "### Measuring relationship between stations' TMIN\n",
    "\n",
    "Although snow depth's variance is largely explained by a few eigen vectors, our area is located in a hot and dry region such that few stations have snow depth record. For example, according to <a href=\"http://www.usclimatedata.com/climate/arizona/united-states/3172#\" target=\"_blank\">US Climate Data</a> the area near Phoenix has no snow fall at all, and in the above map our data indeed has no SNWD record near Phoenix. \n",
    "\n",
    "As TMIN should have more records, and its variance is also explained 70% by just one eigen vector, we want to explore whether we can see clearer clustering pattern for TMIN. \n",
    "\n",
    "We plot distribution frequency graph of pair-wise TMIN correlation significance. The figure show that there are more stations with high correlation than for SNWD.\n",
    "![SNWD_station_correlation_DF](r_figures/r_figure1/TMIN_station_correlation_DF.png)\n",
    "We plot similar PCA correlation matrix as follows. All figures show clear clustering pattern.\n",
    "![TMIN_station_correlation_eigenOrder](r_figures/r_figure1/TMIN_station_correlation_PCA_eigenOrder.png)\n",
    "\n",
    "We plot the 4-element tuple for TMIN on map. \n",
    "![AZ_weather_map](r_figures/r_figure1/AZ_TMIN_map.jpeg)  \n",
    "\n",
    "The area near Phoenix city has mainly hollow red triangles. We guess this is a high temperature area, and hollow red triangle represent a cluster with high average TMIN. \n",
    "The area in the upper middle mainly has solid green triangles. We guess this is a low temperature area. \n",
    "\n",
    "To confirm our guess, we checked weather.com for the area with hollow red triangles, which is around <a href=\"https://www.google.com/maps/place/Apache+Junction,+AZ/@33.4002701,-111.5656474,13z/data=!3m1!4b1!4m5!3m4!1s0x872bb6f168df69c1:0x702c0500cea34b0!8m2!3d33.4150485!4d-111.5495777\" target=\"_blank\">Apache Junction</a>. Its <a href=\"https://weather.com/weather/monthly/l/USAZ0005:1:US\" target=\"_blank\">annual TMIN</a> is as follows. \n",
    "\n",
    "![AJ_TMIN](r_figures/r_figure1/AZ_TMIN_apache_junction.jpeg)  \n",
    "\n",
    "The area with solid green triangles is near <a href=\"https://www.google.com/maps/place/Hon+Dah+Ski+%26+Outdoor+Sport/@34.0975089,-110.4667385,9z/data=!4m13!1m7!3m6!1s0x872f2905cd3521f7:0xc60fd8f7ee55d508!2sShow+Low,+AZ+85901!3b1!8m2!3d34.2542084!4d-110.0298327!3m4!1s0x0:0xf7de7a3088c41a1f!8m2!3d34.096438!4d-109.908632\" target=\"_blank\">Pinetop Lakes</a>. Its <a href=\"https://weather.com/weather/monthly/l/85935:4:US\" target=\"_blank\">annual TMIN</a> is as follows. \n",
    "\n",
    "![PL_TMIN](r_figures/r_figure1/AZ_TMIN_show_low.jpeg)  \n",
    "Apache Junction indeed has higher overall TMIN than Pinetop Lakes. The reason could be that Apache Junction has much lower elevation than Pinetop. Apache Junction's elevation is around 500 meter while Pinetop's elevaton is over 1800 meter. \n"
   ]
  },
  {
   "cell_type": "markdown",
   "metadata": {
    "ExecuteTime": {
     "end_time": "2017-05-14T16:02:37.437924Z",
     "start_time": "2017-05-14T16:02:37.314968"
    }
   },
   "source": []
  }
 ],
 "metadata": {
  "kernelspec": {
   "display_name": "Python 2",
   "language": "python",
   "name": "python2"
  },
  "language_info": {
   "codemirror_mode": {
    "name": "ipython",
    "version": 2
   },
   "file_extension": ".py",
   "mimetype": "text/x-python",
   "name": "python",
   "nbconvert_exporter": "python",
   "pygments_lexer": "ipython2",
   "version": "2.7.13"
  }
 },
 "nbformat": 4,
 "nbformat_minor": 2
}
