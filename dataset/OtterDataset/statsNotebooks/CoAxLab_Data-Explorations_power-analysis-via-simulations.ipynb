{
 "cells": [
  {
   "cell_type": "markdown",
   "metadata": {},
   "source": [
    "# Tutorial: Running basic power analyses\n",
    "\n",
    "This lab focuses on power analyses and introduces how to simulate power in R.\n",
    "\n",
    "## Goals:\n",
    "* Learn the algorithm for simulating power analyses\n",
    "* Learn how to write a function to simulate data \n",
    "* Learn how to write a function to run power analyses"
   ]
  },
  {
   "cell_type": "markdown",
   "metadata": {
    "id": "kRC72qOJulaa"
   },
   "source": [
    "---\n",
    "# Simulating power\n",
    "\n",
    "How do you determine the sample size necessary to obtain a real effect (with a desired probability)? The typical approach to this is to run a power analysis for known distributions, which analytically calculates how many participants you need to have in order to have an 80% chance, for example, to detect an effect. One tool to accomplish this is called [G-power](http://www.psychologie.hhu.de/arbeitsgruppen/allgemeine-psychologie-und-arbeitspsychologie/gpower.html).\n",
    "\n",
    "The problems with using G-power and similar analytical tools are that:\n",
    "- you can only use them for analyses they have implemented that have a simple analytical solution (e.g., t-tests, ANOVA). They do not offer power analyses for mixed-effects regressions and many other tools that you have learned in the class.\n",
    "- they calculate power only as a function of \"number of participants\" - they do not take into account the fact that increasing the number of observations per participant can also increase power, by decreasing variability in individual estimates\n",
    "\n",
    "One solution to these problems is to analyze the power to detect an effect by simulation. The idea is quite simple - you generate artificial data by choosing plausible parameters based on the existing literature (this will be described in more detail below), then you run the analysis of your choice on the simulated data. The proportion of simulations in which you find a statistically significant result is the power of your study, or the probability with which you can expect to find a real effect of that size in your sample.\n"
   ]
  },
  {
   "cell_type": "markdown",
   "metadata": {
    "id": "lxls4C03ulad"
   },
   "source": [
    "## Basic algorithm\n",
    "\n",
    "Simulation power analyses follow these steps, on which we'll expand in the subsequent sections:\n",
    "1. Determine the sources of variance - between subject variability, trial-by-trial variability, etc.\n",
    "2. Write a **data simulation** function with the following form:\n",
    "    - input: parameters that control sample size, number of trials, means and variances of conditions\n",
    "    - procedure: simulate observations given these parameters\n",
    "    - output: simulated dataset\n",
    "3. Write an **analysis** function:\n",
    "    - input: simulated dataset\n",
    "    - procedure: run analysis and extract statistical significance\n",
    "    - output: statistical significance value (p-value, change in AIC or  change in BIC, whether confidence intervals for coefficients overlap with zero, etc.)\n",
    "4. Write a **for-loop** that:\n",
    "    - repeatedly runs the prior two functions for different sample sizes and numbers of trials, and extracts parameter estimates and whether the analysis is significant\n",
    "5. Assess the simulation in terms of three **quality metrics** (see lecture and/or Beaujean reading):\n",
    "    - Coverage\n",
    "    - Relative parameter estimate bias\n",
    "    - Relative standard error bias"
   ]
  },
  {
   "cell_type": "markdown",
   "metadata": {
    "id": "hJDK-DbDulaf"
   },
   "source": [
    "### Determine the sources of variance"
   ]
  },
  {
   "cell_type": "markdown",
   "metadata": {
    "id": "djx_2ff-ulaf"
   },
   "source": [
    "The outcome of any statistical analysis depends on how much your observations vary as you sample them. Variance comes from many sources -- there are individual differences, noisy sampling, trial-by-trial variability, etc. Which of these variance sources you need to specify depends on the analysis you want to run.\n",
    "\n",
    "Let's start with a simple example. Say you want to determine whether horses are on average taller than zebras using a t-test. There is a \"true\" underlying difference in the population (fun fact: horses are taller than zebras). So let's that if you measure the heights of all horses and all zebras you would get the following population parameters:\n",
    "\n",
    "$$\\mu_h = 163 cm$$\n",
    "$$\\mu_z = 135 cm$$"
   ]
  },
  {
   "cell_type": "markdown",
   "metadata": {
    "id": "bdWecDe2ulag"
   },
   "source": [
    "However, because there is variability present within horse and zebra height, if you collect 5 measurements from each group, you would get sample statistics that are similar but not identical to the population parameters. It is even possible that you would, by chance (with such a small sample) get a group of zebras that are on average taller than the group of horses. \n",
    "\n",
    "Therefore, in order to run a power analysis for a t-test comparing the height of zebras and horses, you need to specify the expected variability of height for each group. \n",
    "\n",
    "Let's say that height is *normally distributed* with the above means ($\\mu_h$ and $\\mu_z$) and standard deviations of:"
   ]
  },
  {
   "cell_type": "markdown",
   "metadata": {
    "id": "b1LmLJVoulah"
   },
   "source": [
    "$$\\sigma_h = 15cm$$\n",
    "$$\\sigma_z = 7cm$$"
   ]
  },
  {
   "cell_type": "markdown",
   "metadata": {
    "id": "9dLrsJyiulai"
   },
   "source": [
    "Or, written more compactly:"
   ]
  },
  {
   "cell_type": "markdown",
   "metadata": {
    "id": "ZcscvXG1ulaj"
   },
   "source": [
    "$$Height_h \\sim \\mathcal{N}(\\mu_h,\\,\\sigma_h^{2})$$\n",
    "$$Height_z \\sim \\mathcal{N}(\\mu_z,\\,\\sigma_z^{2})$$\n"
   ]
  },
  {
   "cell_type": "markdown",
   "metadata": {
    "id": "sXYjjMQQulaj"
   },
   "source": [
    "### Write a function to simulate artificial data\n",
    "Now let's write a function to simulate some data consistent with the above parameters."
   ]
  },
  {
   "cell_type": "code",
   "execution_count": null,
   "metadata": {
    "id": "M_uNBq7Wulak"
   },
   "outputs": [],
   "source": [
    "# a function for simulating data for two groups. Sample size is the number of people in each group\n",
    "simulate_data <- function(sample_size, group1_mu, group1_sd, group2_mu, group2_sd) {\n",
    "    # draw observation from a normal distribution\n",
    "    obs_group1 <- rnorm(sample_size, group1_mu, group1_sd)\n",
    "    obs_group2 <- rnorm(sample_size, group2_mu, group2_sd)\n",
    "    return(data.frame(group1=obs_group1, group2=obs_group2))\n",
    "}"
   ]
  },
  {
   "cell_type": "markdown",
   "metadata": {
    "id": "SqG_OpMfulal"
   },
   "source": [
    "With the first function we can simulate the heights for 5 zebras and 5 horses:"
   ]
  },
  {
   "cell_type": "code",
   "execution_count": null,
   "metadata": {
    "colab": {
     "base_uri": "https://localhost:8080/"
    },
    "executionInfo": {
     "elapsed": 389,
     "status": "ok",
     "timestamp": 1616532275199,
     "user": {
      "displayName": "Patience Stevens",
      "photoUrl": "https://lh3.googleusercontent.com/a-/AOh14Gi-_9ZqhIFhAv1oMehJNvNuIKSTyrFQHzjxQKhx=s64",
      "userId": "01994571539255174942"
     },
     "user_tz": 240
    },
    "id": "t5RH--g8ulam",
    "outputId": "1f29401a-ed78-4ef0-b4c5-beb8cf71855a"
   },
   "outputs": [
    {
     "name": "stdout",
     "output_type": "stream",
     "text": [
      "    group1   group2\n",
      "1 161.4690 149.8151\n",
      "2 147.4244 146.1182\n",
      "3 178.3596 125.8281\n",
      "4 141.2860 143.7526\n",
      "5 154.0626 136.3627\n"
     ]
    }
   ],
   "source": [
    "set.seed(040819) # this just helps us get the same \"random\" result every time we run it - for demo purposes\n",
    "heights = simulate_data(sample_size = 5, group1_mu = 163, group1_sd = 15, \n",
    "                        group2_mu = 135, group2_sd = 7)\n",
    "print(heights)"
   ]
  },
  {
   "cell_type": "markdown",
   "metadata": {
    "id": "UQiQQvVEulao"
   },
   "source": [
    "### Write a function to conduct your intended analysis\n",
    "Now we can write a function to perform the t-test for the two groups. "
   ]
  },
  {
   "cell_type": "code",
   "execution_count": null,
   "metadata": {
    "id": "HxVsC5omulao"
   },
   "outputs": [],
   "source": [
    "# a function for running a t-test and extracting p-value\n",
    "run_analysis <- function(data) {\n",
    "    fit <- t.test(data$group1, data$group2)\n",
    "    return(c(fit$estimate[1] - fit$estimate[2],fit$stderr,fit$p.value)) # this outputs the effect size, standard error, and significance for quality metrics \n",
    "}"
   ]
  },
  {
   "cell_type": "markdown",
   "metadata": {
    "id": "I26VHqg-ulap"
   },
   "source": [
    "With this second function we can run an independent samples `t.test` and extract the `p.value`:"
   ]
  },
  {
   "cell_type": "code",
   "execution_count": null,
   "metadata": {
    "colab": {
     "base_uri": "https://localhost:8080/",
     "height": 34
    },
    "executionInfo": {
     "elapsed": 238,
     "status": "ok",
     "timestamp": 1616533646923,
     "user": {
      "displayName": "Patience Stevens",
      "photoUrl": "https://lh3.googleusercontent.com/a-/AOh14Gi-_9ZqhIFhAv1oMehJNvNuIKSTyrFQHzjxQKhx=s64",
      "userId": "01994571539255174942"
     },
     "user_tz": 240
    },
    "id": "6G2GrfhKulap",
    "outputId": "1b24e776-9647-4f42-b58e-a30f6c11829e"
   },
   "outputs": [
    {
     "data": {
      "text/html": [
       "<strong>:</strong> 0.0743144889811368"
      ],
      "text/latex": [
       "\\textbf{:} 0.0743144889811368"
      ],
      "text/markdown": [
       "**:** 0.0743144889811368"
      ],
      "text/plain": [
       "           \n",
       "0.07431449 "
      ]
     },
     "metadata": {
      "tags": []
     },
     "output_type": "display_data"
    }
   ],
   "source": [
    "run_analysis(heights)[3]"
   ]
  },
  {
   "cell_type": "markdown",
   "metadata": {
    "id": "E_mO8xfRulaq"
   },
   "source": [
    "Now, this particular sample did not have significantly different heights ($p > 0.05$). However, this may have just been chance - selecting only 5 of each group might actually give us a significant difference *most* of the time, but not this time. If we repeat this process many times for this particular sample size, in what proportion of cases will we find a significant difference? Let's put both previous functions together to simulate the data and calculate the statistical result 1000 times. Note that we can also control our definition of \"significant\" by specifying an alpha-level for the p-value. "
   ]
  },
  {
   "cell_type": "code",
   "execution_count": null,
   "metadata": {
    "id": "DBNKLdsSular"
   },
   "outputs": [],
   "source": [
    "# a function for repeatedly running the t-test on multiple samples drawn with the same parameters\n",
    "repeat_analysis <- function(n_simulations, alpha, sample_size, group1_mu, group1_sd, group2_mu, group2_sd) {\n",
    "    simouts <- matrix(rep(NA,n_simulations*3),nrow=n_simulations,ncol=3) # empty vector to store ests, stderr, p-values from each simulation\n",
    "    \n",
    "    # loop for repeating the simulation\n",
    "    for (i in 1:n_simulations) {\n",
    "        data <- simulate_data(sample_size, group1_mu, group1_sd, group2_mu, group2_sd) # simulate the data using the defined function\n",
    "        simouts[i,] <- run_analysis(data) # run the analysis, and add outputs to the matrix\n",
    "    }\n",
    "    \n",
    "    # calculate coverage (AKA power)\n",
    "    cvg <- mean(simouts[,3] <= alpha) # this is the same as the number of sims that successfully rejected null divided by total number of sims - probability of correctly rejecting the null!\n",
    "    # calculate relative parameter estimate bias\n",
    "    theta_bias <- ( mean(simouts[,1]) - (group1_mu-group2_mu) ) / (group1_mu-group2_mu)\n",
    "    # calculate relative standard error bias \n",
    "    sigma_bias <- (mean(simouts[,2]) - sd(simouts[,1])) / sd(simouts[,1])\n",
    "\n",
    "    return(list(cvg = cvg, theta_bias=theta_bias, sigma_bias=sigma_bias, p.values=simouts[,3])) #return a list with the power as the probability of a sig. result and the corresponding p-values\n",
    "}\n"
   ]
  },
  {
   "cell_type": "markdown",
   "metadata": {
    "id": "SbirK8uZulas"
   },
   "source": [
    "For 1000 simulations of 5 participants per group and an alpha significance level of 0.05, we have a power of:"
   ]
  },
  {
   "cell_type": "code",
   "execution_count": null,
   "metadata": {
    "colab": {
     "base_uri": "https://localhost:8080/",
     "height": 147
    },
    "executionInfo": {
     "elapsed": 896,
     "status": "ok",
     "timestamp": 1616535560201,
     "user": {
      "displayName": "Patience Stevens",
      "photoUrl": "https://lh3.googleusercontent.com/a-/AOh14Gi-_9ZqhIFhAv1oMehJNvNuIKSTyrFQHzjxQKhx=s64",
      "userId": "01994571539255174942"
     },
     "user_tz": 240
    },
    "id": "6r_fGNRsulat",
    "outputId": "c0c3b391-07dc-4c72-c546-50eeac590696"
   },
   "outputs": [
    {
     "data": {
      "text/html": [
       "<dl>\n",
       "\t<dt>$cvg</dt>\n",
       "\t\t<dd>0.86</dd>\n",
       "\t<dt>$theta_bias</dt>\n",
       "\t\t<dd>-0.0208046123467318</dd>\n",
       "\t<dt>$sigma_bias</dt>\n",
       "\t\t<dd>-0.0451000217137926</dd>\n",
       "</dl>\n"
      ],
      "text/latex": [
       "\\begin{description}\n",
       "\\item[\\$cvg] 0.86\n",
       "\\item[\\$theta\\_bias] -0.0208046123467318\n",
       "\\item[\\$sigma\\_bias] -0.0451000217137926\n",
       "\\end{description}\n"
      ],
      "text/markdown": [
       "$cvg\n",
       ":   0.86\n",
       "$theta_bias\n",
       ":   -0.0208046123467318\n",
       "$sigma_bias\n",
       ":   -0.0451000217137926\n",
       "\n",
       "\n"
      ],
      "text/plain": [
       "$cvg\n",
       "[1] 0.86\n",
       "\n",
       "$theta_bias\n",
       "[1] -0.02080461\n",
       "\n",
       "$sigma_bias\n",
       "[1] -0.04510002\n"
      ]
     },
     "metadata": {
      "tags": []
     },
     "output_type": "display_data"
    }
   ],
   "source": [
    "set.seed(040819)\n",
    "results = repeat_analysis(n_simulations = 1000, alpha = 0.05, sample_size = 5,\n",
    "                          group1_mu=163, group1_sd = 15, group2_mu = 135, group2_sd = 7)\n",
    "results[1:3]"
   ]
  },
  {
   "cell_type": "markdown",
   "metadata": {
    "id": "Od7vMkg2ulat"
   },
   "source": [
    "This means that there is a 86% probability that we correctly reject the null (no difference in heights between horses and zebras) at p < 0.05 if we measure the heights of 5 animals per group. Additionally, we see there's a 2% difference between the original, generative effect size and the mean effect sizes of the simulated fits, and 4.5% difference between the simulated fits' standard errors and the standard deviation of estimates across the fits. \n",
    "\n",
    "Try varying the number of simulations in the code above (from 1000 to 10000, for example) and see how that impacts each of the bias terms. You'll notice that `theta_bias` gets smaller, while `sigma_bias` stays about the same. This is because with more simulations the effect size estimate is getting more accurate (Law of Large Numbers), but because there are still very few animals in each sample the effect size estimate still varies a lot from one simulation to the next. Thus, most of the model fits are under-estimating the parameter estimate variance. \n",
    "\n",
    "\n",
    "If we measure 10 animals per group instead, we have much greater power to detect an effect:"
   ]
  },
  {
   "cell_type": "code",
   "execution_count": null,
   "metadata": {
    "colab": {
     "base_uri": "https://localhost:8080/",
     "height": 147
    },
    "executionInfo": {
     "elapsed": 837,
     "status": "ok",
     "timestamp": 1616536123262,
     "user": {
      "displayName": "Patience Stevens",
      "photoUrl": "https://lh3.googleusercontent.com/a-/AOh14Gi-_9ZqhIFhAv1oMehJNvNuIKSTyrFQHzjxQKhx=s64",
      "userId": "01994571539255174942"
     },
     "user_tz": 240
    },
    "id": "KGGVfifKula3",
    "outputId": "503fe2d1-0fd3-4ca4-8cba-35baf0842264"
   },
   "outputs": [
    {
     "data": {
      "text/html": [
       "<dl>\n",
       "\t<dt>$cvg</dt>\n",
       "\t\t<dd>0.999</dd>\n",
       "\t<dt>$theta_bias</dt>\n",
       "\t\t<dd>0.00173086593671076</dd>\n",
       "\t<dt>$sigma_bias</dt>\n",
       "\t\t<dd>-0.0370144165042127</dd>\n",
       "</dl>\n"
      ],
      "text/latex": [
       "\\begin{description}\n",
       "\\item[\\$cvg] 0.999\n",
       "\\item[\\$theta\\_bias] 0.00173086593671076\n",
       "\\item[\\$sigma\\_bias] -0.0370144165042127\n",
       "\\end{description}\n"
      ],
      "text/markdown": [
       "$cvg\n",
       ":   0.999\n",
       "$theta_bias\n",
       ":   0.00173086593671076\n",
       "$sigma_bias\n",
       ":   -0.0370144165042127\n",
       "\n",
       "\n"
      ],
      "text/plain": [
       "$cvg\n",
       "[1] 0.999\n",
       "\n",
       "$theta_bias\n",
       "[1] 0.001730866\n",
       "\n",
       "$sigma_bias\n",
       "[1] -0.03701442\n"
      ]
     },
     "metadata": {
      "tags": []
     },
     "output_type": "display_data"
    }
   ],
   "source": [
    "set.seed(040819)\n",
    "results = repeat_analysis(n_simulations = 1000, alpha = 0.05, sample_size = 10,\n",
    "                          group1_mu=163, group1_sd = 15, group2_mu = 135, group2_sd = 7)\n",
    "results[1:3]"
   ]
  },
  {
   "cell_type": "markdown",
   "metadata": {
    "id": "TzDOvlc1-3t1"
   },
   "source": [
    "Now we have 99% chance of correctly rejecting the null, and both of our biases have gotten smaller as well. *Comprehension check: why did `sigma_bias` decrease when we increased the number of animals?*"
   ]
  },
  {
   "cell_type": "markdown",
   "metadata": {
    "id": "RgSZE4n2ula4"
   },
   "source": [
    "If we become more conservative with our statistical threshold (by decreasing the alpha value), power decreases, while the biases don't change much:"
   ]
  },
  {
   "cell_type": "code",
   "execution_count": null,
   "metadata": {
    "colab": {
     "base_uri": "https://localhost:8080/",
     "height": 147
    },
    "executionInfo": {
     "elapsed": 747,
     "status": "ok",
     "timestamp": 1616536125544,
     "user": {
      "displayName": "Patience Stevens",
      "photoUrl": "https://lh3.googleusercontent.com/a-/AOh14Gi-_9ZqhIFhAv1oMehJNvNuIKSTyrFQHzjxQKhx=s64",
      "userId": "01994571539255174942"
     },
     "user_tz": 240
    },
    "id": "jnJdP-Hdula4",
    "outputId": "d5a12598-c7d1-4784-fc68-414021071fee"
   },
   "outputs": [
    {
     "data": {
      "text/html": [
       "<dl>\n",
       "\t<dt>$cvg</dt>\n",
       "\t\t<dd>0.811</dd>\n",
       "\t<dt>$theta_bias</dt>\n",
       "\t\t<dd>0.00493198128999189</dd>\n",
       "\t<dt>$sigma_bias</dt>\n",
       "\t\t<dd>-0.0319896690283605</dd>\n",
       "</dl>\n"
      ],
      "text/latex": [
       "\\begin{description}\n",
       "\\item[\\$cvg] 0.811\n",
       "\\item[\\$theta\\_bias] 0.00493198128999189\n",
       "\\item[\\$sigma\\_bias] -0.0319896690283605\n",
       "\\end{description}\n"
      ],
      "text/markdown": [
       "$cvg\n",
       ":   0.811\n",
       "$theta_bias\n",
       ":   0.00493198128999189\n",
       "$sigma_bias\n",
       ":   -0.0319896690283605\n",
       "\n",
       "\n"
      ],
      "text/plain": [
       "$cvg\n",
       "[1] 0.811\n",
       "\n",
       "$theta_bias\n",
       "[1] 0.004931981\n",
       "\n",
       "$sigma_bias\n",
       "[1] -0.03198967\n"
      ]
     },
     "metadata": {
      "tags": []
     },
     "output_type": "display_data"
    }
   ],
   "source": [
    "set.seed(18546)\n",
    "results = repeat_analysis(n_simulations = 1000, alpha = 0.001, sample_size = 10,\n",
    "                          group1_mu=163, group1_sd = 15, group2_mu = 135, group2_sd = 7)\n",
    "results[1:3]"
   ]
  },
  {
   "cell_type": "markdown",
   "metadata": {
    "id": "bHlrt6BVula5"
   },
   "source": [
    "To make it clearer, we can visualize the distribution of p.values obtained from each simulation:"
   ]
  },
  {
   "cell_type": "code",
   "execution_count": null,
   "metadata": {
    "colab": {
     "base_uri": "https://localhost:8080/",
     "height": 351
    },
    "executionInfo": {
     "elapsed": 1871,
     "status": "ok",
     "timestamp": 1616535288880,
     "user": {
      "displayName": "Patience Stevens",
      "photoUrl": "https://lh3.googleusercontent.com/a-/AOh14Gi-_9ZqhIFhAv1oMehJNvNuIKSTyrFQHzjxQKhx=s64",
      "userId": "01994571539255174942"
     },
     "user_tz": 240
    },
    "id": "Yil1ytZkula6",
    "outputId": "6a16945a-cffd-4a9b-dff5-99afa31f9017"
   },
   "outputs": [
    {
     "name": "stderr",
     "output_type": "stream",
     "text": [
      "`stat_bin()` using `bins = 30`. Pick better value with `binwidth`.\n",
      "\n"
     ]
    },
    {
     "data": {
      "image/png": "[encoded data removed]",
      "text/plain": [
       "plot without title"
      ]
     },
     "metadata": {
      "image/png": {
       "height": 300,
       "width": 540
      },
      "tags": []
     },
     "output_type": "display_data"
    }
   ],
   "source": [
    "require(tidyverse)\n",
    "options(repr.plot.width=9, repr.plot.height=5)\n",
    "\n",
    "results_n5 = repeat_analysis(1000, 0.05, 5, 163, 15, 135, 7)\n",
    "results_n10 = repeat_analysis(1000, 0.05, 10, 163, 15, 135, 7)\n",
    "\n",
    "\n",
    "power_df = data.frame(cbind(n5 = results_n5$p.values, n10 = results_n10$p.values)) %>% \n",
    "            gather('n_samples', c('n5', 'n10'), value = 'p.values')\n",
    "\n",
    "\n",
    "ggplot(power_df, aes(x=p.values)) + geom_histogram() + facet_grid(.~n_samples)"
   ]
  },
  {
   "cell_type": "markdown",
   "metadata": {
    "id": "_4xrwsaKPoWK"
   },
   "source": [
    "When $n = 10$, nearly all the samples yielded $p$-values below 0.05. The distribution of $p$-values for $n=5$ is wider, with more non-significant values."
   ]
  },
  {
   "cell_type": "markdown",
   "metadata": {
    "id": "om-7lRWIula7"
   },
   "source": [
    "### Vary the sample size and alpha levels"
   ]
  },
  {
   "cell_type": "markdown",
   "metadata": {
    "id": "0nrIRMJhula7"
   },
   "source": [
    "Before, we asked what the power was when we varied the number of samples, or the number of people that we collected data from. Now, for the inverse question. How many **animals** do we need to be 95% certain that we will detect the true significant difference in heights between horses and zebras? Yes, you could manually vary the above function's parameters until you obtain a desired level of power, but we can instead simulate data for different sample sizes in an automated way and choose the sample size that gives us the desired power. \n",
    "\n",
    "To do this, we can use the `tidyverse` package to create a dataframe with parameters, then simulate data for each row of the dataframe, store the results in a column, then run the analysis on that column and store the resulting p.value. If you need a reminder of the details of `tidyverse`, revisit the tutorial for \"05 - Data as objects and architectures\"."
   ]
  },
  {
   "cell_type": "code",
   "execution_count": null,
   "metadata": {
    "id": "9BZYWflhula8"
   },
   "outputs": [],
   "source": [
    "# first, create a data.frame to store the results\n",
    "dat <- expand.grid(sample_size = 2:20, alpha = c(0.05,0.01,0.001)) #vary the criterion for sig. and the sample size\n",
    "dat$id <- 1:nrow(dat) #identify each combination of parameters as a separate parameter case for below (otherwise, \"unnesting\" will be impossible)\n",
    "\n",
    "# then use tidyverse functions to run the analysis for each sample size\n",
    "results <- dat  %>%  #using the dataframe defined above\n",
    "    nest(parameters :=  c(sample_size,alpha)) %>% # separate the parameters into lists split by parameter combo case and call the new column of lists 'parameters' \n",
    "    mutate(power = map(parameters, ~ repeat_analysis(1000, .$alpha, .$sample_size, 163, 15, 135, 7)$cvg))  %>%  # note: \"map\" is like running a for loop, but more efficiently\n",
    "    #for each case within parameters, repeat the analysis, varying the alpha and sample size\n",
    "    #store the power associated with all cases as a new variable called power \n",
    "    unnest(c(parameters, power)) #return the dataframe to an unnested state, making each element of the list its own row"
   ]
  },
  {
   "cell_type": "code",
   "execution_count": null,
   "metadata": {
    "colab": {
     "base_uri": "https://localhost:8080/",
     "height": 283
    },
    "executionInfo": {
     "elapsed": 245,
     "status": "ok",
     "timestamp": 1616536757823,
     "user": {
      "displayName": "Patience Stevens",
      "photoUrl": "https://lh3.googleusercontent.com/a-/AOh14Gi-_9ZqhIFhAv1oMehJNvNuIKSTyrFQHzjxQKhx=s64",
      "userId": "01994571539255174942"
     },
     "user_tz": 240
    },
    "id": "dIvE0K-2ula-",
    "outputId": "42f6d9d8-9017-4b95-812e-76d8b9230213"
   },
   "outputs": [
    {
     "data": {
      "text/html": [
       "<table class=\"dataframe\">\n",
       "<caption>A tibble: 6 × 4</caption>\n",
       "<thead>\n",
       "\t<tr><th scope=col>id</th><th scope=col>sample_size</th><th scope=col>alpha</th><th scope=col>power</th></tr>\n",
       "\t<tr><th scope=col>&lt;int&gt;</th><th scope=col>&lt;int&gt;</th><th scope=col>&lt;dbl&gt;</th><th scope=col>&lt;dbl&gt;</th></tr>\n",
       "</thead>\n",
       "<tbody>\n",
       "\t<tr><td>1</td><td>2</td><td>0.05</td><td>0.178</td></tr>\n",
       "\t<tr><td>2</td><td>3</td><td>0.05</td><td>0.451</td></tr>\n",
       "\t<tr><td>3</td><td>4</td><td>0.05</td><td>0.704</td></tr>\n",
       "\t<tr><td>4</td><td>5</td><td>0.05</td><td>0.847</td></tr>\n",
       "\t<tr><td>5</td><td>6</td><td>0.05</td><td>0.942</td></tr>\n",
       "\t<tr><td>6</td><td>7</td><td>0.05</td><td>0.982</td></tr>\n",
       "</tbody>\n",
       "</table>\n"
      ],
      "text/latex": [
       "A tibble: 6 × 4\n",
       "\\begin{tabular}{llll}\n",
       " id & sample\\_size & alpha & power\\\\\n",
       " <int> & <int> & <dbl> & <dbl>\\\\\n",
       "\\hline\n",
       "\t 1 & 2 & 0.05 & 0.178\\\\\n",
       "\t 2 & 3 & 0.05 & 0.451\\\\\n",
       "\t 3 & 4 & 0.05 & 0.704\\\\\n",
       "\t 4 & 5 & 0.05 & 0.847\\\\\n",
       "\t 5 & 6 & 0.05 & 0.942\\\\\n",
       "\t 6 & 7 & 0.05 & 0.982\\\\\n",
       "\\end{tabular}\n"
      ],
      "text/markdown": [
       "\n",
       "A tibble: 6 × 4\n",
       "\n",
       "| id &lt;int&gt; | sample_size &lt;int&gt; | alpha &lt;dbl&gt; | power &lt;dbl&gt; |\n",
       "|---|---|---|---|\n",
       "| 1 | 2 | 0.05 | 0.178 |\n",
       "| 2 | 3 | 0.05 | 0.451 |\n",
       "| 3 | 4 | 0.05 | 0.704 |\n",
       "| 4 | 5 | 0.05 | 0.847 |\n",
       "| 5 | 6 | 0.05 | 0.942 |\n",
       "| 6 | 7 | 0.05 | 0.982 |\n",
       "\n"
      ],
      "text/plain": [
       "  id sample_size alpha power\n",
       "1 1  2           0.05  0.178\n",
       "2 2  3           0.05  0.451\n",
       "3 3  4           0.05  0.704\n",
       "4 4  5           0.05  0.847\n",
       "5 5  6           0.05  0.942\n",
       "6 6  7           0.05  0.982"
      ]
     },
     "metadata": {
      "tags": []
     },
     "output_type": "display_data"
    }
   ],
   "source": [
    "head(results) #now for each combination of sample size and alpha we have a power estimate, neatly arranged "
   ]
  },
  {
   "cell_type": "markdown",
   "metadata": {
    "id": "GxFd91tZula_"
   },
   "source": [
    "Now we can plot the power level for the different sample sizes and alpha levels:"
   ]
  },
  {
   "cell_type": "code",
   "execution_count": null,
   "metadata": {
    "colab": {
     "base_uri": "https://localhost:8080/",
     "height": 317
    },
    "executionInfo": {
     "elapsed": 761,
     "status": "ok",
     "timestamp": 1616536769696,
     "user": {
      "displayName": "Patience Stevens",
      "photoUrl": "https://lh3.googleusercontent.com/a-/AOh14Gi-_9ZqhIFhAv1oMehJNvNuIKSTyrFQHzjxQKhx=s64",
      "userId": "01994571539255174942"
     },
     "user_tz": 240
    },
    "id": "dXDMki3Dula_",
    "outputId": "1544883e-2b4e-444e-df97-23efa4ac1bb4"
   },
   "outputs": [
    {
     "data": {
      "image/png": "[encoded data removed]",
      "text/plain": [
       "plot without title"
      ]
     },
     "metadata": {
      "image/png": {
       "height": 300,
       "width": 480
      },
      "tags": []
     },
     "output_type": "display_data"
    }
   ],
   "source": [
    "options(repr.plot.width=8) # resetting size of plot\n",
    "ggplot(results, aes(sample_size, power, color=as.factor(alpha), group=alpha)) +\n",
    "    geom_point() +\n",
    "    geom_line() +\n",
    "    geom_hline(yintercept = 0.8) + # Drew lines at these values because they are\n",
    "    geom_hline(yintercept = 0.95) + # both traditionally used power thresholds\n",
    "    scale_color_discrete('Alpha level') +\n",
    "    scale_x_continuous('Sample size') +\n",
    "    theme_classic() # this just makes it pretty"
   ]
  },
  {
   "cell_type": "markdown",
   "metadata": {
    "id": "8BWwF_vOulbA"
   },
   "source": [
    "You can see that for a power of 95%, you need 13 animals per group to detect a difference in height at the 0.001 threshold for significance.  Progressively fewer animals are needed to reach the same power at less strict alpha thresholds. Now you can see the beauty of using data simulation as a tool for power analyses! \n",
    "\n"
   ]
  },
  {
   "cell_type": "markdown",
   "metadata": {
    "id": "kMXLgGeYulbA"
   },
   "source": [
    "---\n",
    "# Extending to more complicated analyses: example with mixed-models"
   ]
  },
  {
   "cell_type": "markdown",
   "metadata": {
    "id": "F_pNXv6DulbB"
   },
   "source": [
    "The basic procedure outlined above and the functions presented can be extended to any type of analysis in which there is a significance threshold (e.g., alpha). The only thing that has to be changed is the generation of the data and the analysis function. In generating the data, the most complicated thing is specifying the variance structure. \n",
    "\n",
    "Let's take for example a mixed-effects regression of reaction times in a priming lexical decision experiment. We are interested in whether people make a lexical decision (\"Is this string a word or not?\") faster after semantically congruent prime (seeing \"red\" before \"orange\") rather than semantically incongruent prime (seeing \"rod\" before \"orange\"). \n",
    "\n",
    "How do we generate data for this? Typical psycholinguistic experiments use repeated measures designs where each participant performs many trials in each condition. The reaction time to any trial is determined by:\n",
    "\n",
    "- mean of each condition (expected population priming effect)\n",
    "- individual differences in overall speed ( $\\beta_{subject\\_intercept}$ ; different intercepts for each subject)\n",
    "- individual differences in effect of priming condition ($\\beta_{subject\\_slope}$ ; some people might show stronger differences between the two conditions than others)\n",
    "- trial-by-trial variation\n"
   ]
  },
  {
   "cell_type": "markdown",
   "metadata": {
    "id": "EAAgWgRGulbB"
   },
   "source": [
    "So our mixed effects model and data structure would be as follows:"
   ]
  },
  {
   "cell_type": "markdown",
   "metadata": {
    "id": "RMfq_3xkulbB"
   },
   "source": [
    "$$RTs = \\beta_{subject\\_intercept} + \\beta_{subject\\_slope} * condition + \\epsilon_{trial}$$"
   ]
  },
  {
   "cell_type": "markdown",
   "metadata": {
    "id": "HVvKvbBIdGw7"
   },
   "source": [
    "In the formula above, $\\beta_{subject\\_intercept}$ and $\\beta_{subject\\_slope}$ are both vectors, with each value corresponding to an individual subject's average reaction time speed or mean reaction time difference between conditions, respectively. We can reframe each of these terms as the mean value across subjects, plus a noise vector $\\epsilon$, centered at 0, which accounts for each individual's deviation from the mean:"
   ]
  },
  {
   "cell_type": "markdown",
   "metadata": {
    "id": "SSPqzb2OulbC"
   },
   "source": [
    "$$\\beta_{subject\\_intercept} = \\beta_{overall\\_intercept} + \\epsilon_{intercept}$$"
   ]
  },
  {
   "cell_type": "markdown",
   "metadata": {
    "id": "gAC7GB4VulbC"
   },
   "source": [
    "$$\\beta_{subject\\_slope} = \\beta_{mean\\_difference} + \\epsilon_{slope}$$"
   ]
  },
  {
   "cell_type": "markdown",
   "metadata": {
    "id": "VJ0lHXnAebAg"
   },
   "source": [
    "Now, the $\\epsilon$ terms are sampled from normal distributions centered at 0:"
   ]
  },
  {
   "cell_type": "markdown",
   "metadata": {
    "id": "BbTIQfb_ulbC"
   },
   "source": [
    "$$\\epsilon_{trial} \\sim \\mathcal{N}(0, \\sigma_{trial}^2)$$"
   ]
  },
  {
   "cell_type": "markdown",
   "metadata": {
    "id": "tPQe9zeTulbD"
   },
   "source": [
    "$$\\epsilon_{intercept} \\sim \\mathcal{N}(0, \\sigma_{intercept}^2)$$"
   ]
  },
  {
   "cell_type": "markdown",
   "metadata": {
    "id": "3wEEcymGulbD"
   },
   "source": [
    "$$\\epsilon_{slope} \\sim \\mathcal{N}(0, \\sigma_{slope}^2)$$"
   ]
  },
  {
   "cell_type": "markdown",
   "metadata": {
    "id": "xzUqHM01ulbE"
   },
   "source": [
    "So in our simulation we need to specify 5 parameters for the data generation:\n",
    "- $\\beta_{overall\\_intercept}$ (Average RTs for congruent primes)\n",
    "- $\\beta_{mean\\_difference}$ (Average RT difference between congruent and incongruent primes)\n",
    "- $\\sigma_{trial}$ (The standard deviation of RTs on each trial, if each participant responds to the same item)\n",
    "- $\\sigma_{intercept}$ (How much individual subjects vary in their overall speed)\n",
    "- $\\sigma_{mean\\_difference}$ (How much individual subjects vary in how strongly they are affected by priming)"
   ]
  },
  {
   "cell_type": "markdown",
   "metadata": {
    "id": "YUirzsdBulbE"
   },
   "source": [
    "Let's pick some plausible parameters based on prior literature and educated guessing:\n",
    "\n",
    "$$\\beta_{overall\\_intercept} = 700 ms.$$"
   ]
  },
  {
   "cell_type": "markdown",
   "metadata": {
    "id": "9CdU_MuFulbF"
   },
   "source": [
    "$$\\beta_{mean\\_difference} = 50 ms.$$"
   ]
  },
  {
   "cell_type": "markdown",
   "metadata": {
    "id": "G8p5wGDdulbG"
   },
   "source": [
    "$$\\sigma_{trial} = 200 ms.$$"
   ]
  },
  {
   "cell_type": "markdown",
   "metadata": {
    "id": "ct63tdV0ulbG"
   },
   "source": [
    "$$\\sigma_{intercept} = 100 ms.$$ "
   ]
  },
  {
   "cell_type": "markdown",
   "metadata": {
    "id": "QM2BFto1ulbG"
   },
   "source": [
    "$$\\sigma_{mean\\_difference} = 50 ms.$$"
   ]
  },
  {
   "cell_type": "markdown",
   "metadata": {
    "id": "jnKkTjYRf3-v"
   },
   "source": [
    "*Note: when doing a real power analysis simulation, you may want to identify a plausible range and test a few values within it to make sure these \"guesses\" don't drastically impact your power analysis.*"
   ]
  },
  {
   "cell_type": "markdown",
   "metadata": {
    "id": "y_DWoONsulbH"
   },
   "source": [
    "How many subjects and trials per subject do we need to achieve 80% power? Let's adapt the functions we wrote above so we can answer these questions. \n",
    "\n",
    "*Check out the documentation for [map](https://purrr.tidyverse.org/reference/index.html) and [nest](https://tidyr.tidyverse.org/reference/nest.html) to help understand the code below.*"
   ]
  },
  {
   "cell_type": "code",
   "execution_count": null,
   "metadata": {
    "colab": {
     "base_uri": "https://localhost:8080/"
    },
    "executionInfo": {
     "elapsed": 191595,
     "status": "ok",
     "timestamp": 1616679734436,
     "user": {
      "displayName": "Patience Stevens",
      "photoUrl": "https://lh3.googleusercontent.com/a-/AOh14Gi-_9ZqhIFhAv1oMehJNvNuIKSTyrFQHzjxQKhx=s64",
      "userId": "01994571539255174942"
     },
     "user_tz": 240
    },
    "id": "9rt4oU3Uaq1U",
    "outputId": "f28325e8-3f88-48a5-d4d8-9ce89fb305e7"
   },
   "outputs": [
    {
     "name": "stderr",
     "output_type": "stream",
     "text": [
      "Installing package into ‘/usr/local/lib/R/site-library’\n",
      "(as ‘lib’ is unspecified)\n",
      "\n",
      "also installing the dependencies ‘minqa’, ‘nloptr’, ‘statmod’, ‘RcppEigen’\n",
      "\n",
      "\n",
      "Loading required package: Matrix\n",
      "\n",
      "Warning message in system(\"timedatectl\", intern = TRUE):\n",
      "“running command 'timedatectl' had status 1”\n",
      "── \u001b[1mAttaching packages\u001b[22m ─────────────────────────────────────── tidyverse 1.3.0 ──\n",
      "\n",
      "\u001b[32m✔\u001b[39m \u001b[34mggplot2\u001b[39m 3.3.3     \u001b[32m✔\u001b[39m \u001b[34mpurrr  \u001b[39m 0.3.4\n",
      "\u001b[32m✔\u001b[39m \u001b[34mtibble \u001b[39m 3.1.0     \u001b[32m✔\u001b[39m \u001b[34mdplyr  \u001b[39m 1.0.5\n",
      "\u001b[32m✔\u001b[39m \u001b[34mtidyr  \u001b[39m 1.1.3     \u001b[32m✔\u001b[39m \u001b[34mstringr\u001b[39m 1.4.0\n",
      "\u001b[32m✔\u001b[39m \u001b[34mreadr  \u001b[39m 1.4.0     \u001b[32m✔\u001b[39m \u001b[34mforcats\u001b[39m 0.5.1\n",
      "\n",
      "── \u001b[1mConflicts\u001b[22m ────────────────────────────────────────── tidyverse_conflicts() ──\n",
      "\u001b[31m✖\u001b[39m \u001b[34mtidyr\u001b[39m::\u001b[32mexpand()\u001b[39m masks \u001b[34mMatrix\u001b[39m::expand()\n",
      "\u001b[31m✖\u001b[39m \u001b[34mdplyr\u001b[39m::\u001b[32mfilter()\u001b[39m masks \u001b[34mstats\u001b[39m::filter()\n",
      "\u001b[31m✖\u001b[39m \u001b[34mdplyr\u001b[39m::\u001b[32mlag()\u001b[39m    masks \u001b[34mstats\u001b[39m::lag()\n",
      "\u001b[31m✖\u001b[39m \u001b[34mtidyr\u001b[39m::\u001b[32mpack()\u001b[39m   masks \u001b[34mMatrix\u001b[39m::pack()\n",
      "\u001b[31m✖\u001b[39m \u001b[34mtidyr\u001b[39m::\u001b[32munpack()\u001b[39m masks \u001b[34mMatrix\u001b[39m::unpack()\n",
      "\n"
     ]
    }
   ],
   "source": [
    "install.packages(\"lme4\")\n",
    "library(lme4) # we need lme4 so we can do test-runs of mixed effects analyses. \n",
    "require(tidyverse) # in case tidyverse needs to be re-loaded"
   ]
  },
  {
   "cell_type": "code",
   "execution_count": null,
   "metadata": {
    "id": "G86aO7xPulbH"
   },
   "outputs": [],
   "source": [
    "# a function for simulating data for mixed-model.\n",
    "simulate_data <- function(n_subjects, n_trials, intercept, \n",
    "                          slope, intercept_sd, slope_sd, trial_sd) {\n",
    "    # draw observation from a normal distribution\n",
    "    subject_intercepts <- rnorm(n_subjects, intercept, intercept_sd) # sample from a distribution centered at mean subject RT, varying with sd of subject RT\n",
    "    subject_slopes <- rnorm(n_subjects, slope, slope_sd) # sample from distribution centered at mean effect size, varying with sd of effect size\n",
    "    dat <- data.frame(subject = 1:n_subjects, intercept = subject_intercepts, slope=subject_slopes)\n",
    "    # generate trials for each subject\n",
    "    dat <- dat  %>% \n",
    "        nest(., parameters :=  c(intercept, slope))  %>% # for each subject\n",
    "        # sample n_trials values for two new vars using \"intercept\" and \"slope\" values calculated above, adding trial variability using trial_sd\n",
    "        # congruent just uses intercept for mean (the baseline condition, faster RT), \n",
    "        # incongruent uses intercept+slope to account for effect of being slower condition\n",
    "        mutate(congruent = map(parameters, ~rnorm(n_trials, intercept, trial_sd)),\n",
    "               incongruent = map(parameters, ~rnorm(n_trials, intercept+slope, trial_sd)))  %>%  # \n",
    "        unnest(c(congruent,incongruent), .drop = FALSE)  %>%\n",
    "        unnest(parameters)  %>% # ungroup the data so it's a normal data frame again\n",
    "        gather(prime, rt, congruent, incongruent) # puts it in long form - tidy data! \n",
    "    return(dat)\n",
    "}\n",
    "\n",
    "\n",
    "# a function for running a mixed-model and extracting coverage, theta_bias, sigma_bias, and p-values. \n",
    "run_analysis <- function(data) {\n",
    "    # fit null and alternative model\n",
    "    m0 <- lmer(rt ~ 1 + (prime||subject), data=data, REML=FALSE, control=lmerControl(calc.derivs = FALSE)) # null model\n",
    "    m1 <- lmer(rt ~ prime + (prime||subject), data=data, REML=FALSE, control=lmerControl(calc.derivs = FALSE)) # alternative model\n",
    "\n",
    "    est <- fixef(m1)[2] # estimate of Incongruent - Congruent difference in RT \n",
    "    se <- summary(m1)$coef[, 2, drop = FALSE][2] # stderr of estimate\n",
    "    m_bic <- BIC(m0, m1)$BIC#Outputs Bayesian Information Criterion to assess goodness of model fit\n",
    "    statistic <- diff(m_bic)#You can replace with change in AIC or a p-value for a likelihood ratio statistic\n",
    "    return(c(est,se,statistic))\n",
    "}"
   ]
  },
  {
   "cell_type": "markdown",
   "metadata": {
    "id": "cCcHMBKbulbH"
   },
   "source": [
    "Before we run the full analysis, just for demonstration, here is simulated data for some subjects:"
   ]
  },
  {
   "cell_type": "code",
   "execution_count": null,
   "metadata": {
    "colab": {
     "base_uri": "https://localhost:8080/",
     "height": 802
    },
    "executionInfo": {
     "elapsed": 717,
     "status": "ok",
     "timestamp": 1616679818928,
     "user": {
      "displayName": "Patience Stevens",
      "photoUrl": "https://lh3.googleusercontent.com/a-/AOh14Gi-_9ZqhIFhAv1oMehJNvNuIKSTyrFQHzjxQKhx=s64",
      "userId": "01994571539255174942"
     },
     "user_tz": 240
    },
    "id": "pZHoFWYgulbI",
    "outputId": "c1583267-751c-4c91-d74c-273762008144"
   },
   "outputs": [
    {
     "name": "stderr",
     "output_type": "stream",
     "text": [
      "Warning message:\n",
      "“The `.drop` argument of `unnest()` is deprecated as of tidyr 1.0.0.\n",
      "All list-columns are now preserved.\n",
      "\u001b[90mThis warning is displayed once every 8 hours.\u001b[39m\n",
      "\u001b[90mCall `lifecycle::last_warnings()` to see where this warning was generated.\u001b[39m”\n"
     ]
    },
    {
     "data": {
      "text/html": [
       "<table class=\"dataframe\">\n",
       "<caption>A tibble: 20 × 5</caption>\n",
       "<thead>\n",
       "\t<tr><th scope=col>subject</th><th scope=col>intercept</th><th scope=col>slope</th><th scope=col>prime</th><th scope=col>rt</th></tr>\n",
       "\t<tr><th scope=col>&lt;int&gt;</th><th scope=col>&lt;dbl&gt;</th><th scope=col>&lt;dbl&gt;</th><th scope=col>&lt;chr&gt;</th><th scope=col>&lt;dbl&gt;</th></tr>\n",
       "</thead>\n",
       "<tbody>\n",
       "\t<tr><td>1</td><td>658.1670</td><td>116.9944</td><td>congruent</td><td> 637.7850</td></tr>\n",
       "\t<tr><td>1</td><td>658.1670</td><td>116.9944</td><td>congruent</td><td> 355.5954</td></tr>\n",
       "\t<tr><td>1</td><td>658.1670</td><td>116.9944</td><td>congruent</td><td> 312.3804</td></tr>\n",
       "\t<tr><td>1</td><td>658.1670</td><td>116.9944</td><td>congruent</td><td> 683.2322</td></tr>\n",
       "\t<tr><td>1</td><td>658.1670</td><td>116.9944</td><td>congruent</td><td> 641.0751</td></tr>\n",
       "\t<tr><td>1</td><td>658.1670</td><td>116.9944</td><td>congruent</td><td> 851.6410</td></tr>\n",
       "\t<tr><td>1</td><td>658.1670</td><td>116.9944</td><td>congruent</td><td> 541.0341</td></tr>\n",
       "\t<tr><td>1</td><td>658.1670</td><td>116.9944</td><td>congruent</td><td> 597.7813</td></tr>\n",
       "\t<tr><td>1</td><td>658.1670</td><td>116.9944</td><td>congruent</td><td>1001.2272</td></tr>\n",
       "\t<tr><td>1</td><td>658.1670</td><td>116.9944</td><td>congruent</td><td>1019.9264</td></tr>\n",
       "\t<tr><td>2</td><td>807.1596</td><td> 74.3634</td><td>congruent</td><td> 630.8723</td></tr>\n",
       "\t<tr><td>2</td><td>807.1596</td><td> 74.3634</td><td>congruent</td><td> 666.1075</td></tr>\n",
       "\t<tr><td>2</td><td>807.1596</td><td> 74.3634</td><td>congruent</td><td> 765.4990</td></tr>\n",
       "\t<tr><td>2</td><td>807.1596</td><td> 74.3634</td><td>congruent</td><td> 715.1133</td></tr>\n",
       "\t<tr><td>2</td><td>807.1596</td><td> 74.3634</td><td>congruent</td><td> 515.6113</td></tr>\n",
       "\t<tr><td>2</td><td>807.1596</td><td> 74.3634</td><td>congruent</td><td> 663.6446</td></tr>\n",
       "\t<tr><td>2</td><td>807.1596</td><td> 74.3634</td><td>congruent</td><td> 676.5442</td></tr>\n",
       "\t<tr><td>2</td><td>807.1596</td><td> 74.3634</td><td>congruent</td><td> 850.1468</td></tr>\n",
       "\t<tr><td>2</td><td>807.1596</td><td> 74.3634</td><td>congruent</td><td> 564.6080</td></tr>\n",
       "\t<tr><td>2</td><td>807.1596</td><td> 74.3634</td><td>congruent</td><td> 603.1024</td></tr>\n",
       "</tbody>\n",
       "</table>\n"
      ],
      "text/latex": [
       "A tibble: 20 × 5\n",
       "\\begin{tabular}{lllll}\n",
       " subject & intercept & slope & prime & rt\\\\\n",
       " <int> & <dbl> & <dbl> & <chr> & <dbl>\\\\\n",
       "\\hline\n",
       "\t 1 & 658.1670 & 116.9944 & congruent &  637.7850\\\\\n",
       "\t 1 & 658.1670 & 116.9944 & congruent &  355.5954\\\\\n",
       "\t 1 & 658.1670 & 116.9944 & congruent &  312.3804\\\\\n",
       "\t 1 & 658.1670 & 116.9944 & congruent &  683.2322\\\\\n",
       "\t 1 & 658.1670 & 116.9944 & congruent &  641.0751\\\\\n",
       "\t 1 & 658.1670 & 116.9944 & congruent &  851.6410\\\\\n",
       "\t 1 & 658.1670 & 116.9944 & congruent &  541.0341\\\\\n",
       "\t 1 & 658.1670 & 116.9944 & congruent &  597.7813\\\\\n",
       "\t 1 & 658.1670 & 116.9944 & congruent & 1001.2272\\\\\n",
       "\t 1 & 658.1670 & 116.9944 & congruent & 1019.9264\\\\\n",
       "\t 2 & 807.1596 &  74.3634 & congruent &  630.8723\\\\\n",
       "\t 2 & 807.1596 &  74.3634 & congruent &  666.1075\\\\\n",
       "\t 2 & 807.1596 &  74.3634 & congruent &  765.4990\\\\\n",
       "\t 2 & 807.1596 &  74.3634 & congruent &  715.1133\\\\\n",
       "\t 2 & 807.1596 &  74.3634 & congruent &  515.6113\\\\\n",
       "\t 2 & 807.1596 &  74.3634 & congruent &  663.6446\\\\\n",
       "\t 2 & 807.1596 &  74.3634 & congruent &  676.5442\\\\\n",
       "\t 2 & 807.1596 &  74.3634 & congruent &  850.1468\\\\\n",
       "\t 2 & 807.1596 &  74.3634 & congruent &  564.6080\\\\\n",
       "\t 2 & 807.1596 &  74.3634 & congruent &  603.1024\\\\\n",
       "\\end{tabular}\n"
      ],
      "text/markdown": [
       "\n",
       "A tibble: 20 × 5\n",
       "\n",
       "| subject &lt;int&gt; | intercept &lt;dbl&gt; | slope &lt;dbl&gt; | prime &lt;chr&gt; | rt &lt;dbl&gt; |\n",
       "|---|---|---|---|---|\n",
       "| 1 | 658.1670 | 116.9944 | congruent |  637.7850 |\n",
       "| 1 | 658.1670 | 116.9944 | congruent |  355.5954 |\n",
       "| 1 | 658.1670 | 116.9944 | congruent |  312.3804 |\n",
       "| 1 | 658.1670 | 116.9944 | congruent |  683.2322 |\n",
       "| 1 | 658.1670 | 116.9944 | congruent |  641.0751 |\n",
       "| 1 | 658.1670 | 116.9944 | congruent |  851.6410 |\n",
       "| 1 | 658.1670 | 116.9944 | congruent |  541.0341 |\n",
       "| 1 | 658.1670 | 116.9944 | congruent |  597.7813 |\n",
       "| 1 | 658.1670 | 116.9944 | congruent | 1001.2272 |\n",
       "| 1 | 658.1670 | 116.9944 | congruent | 1019.9264 |\n",
       "| 2 | 807.1596 |  74.3634 | congruent |  630.8723 |\n",
       "| 2 | 807.1596 |  74.3634 | congruent |  666.1075 |\n",
       "| 2 | 807.1596 |  74.3634 | congruent |  765.4990 |\n",
       "| 2 | 807.1596 |  74.3634 | congruent |  715.1133 |\n",
       "| 2 | 807.1596 |  74.3634 | congruent |  515.6113 |\n",
       "| 2 | 807.1596 |  74.3634 | congruent |  663.6446 |\n",
       "| 2 | 807.1596 |  74.3634 | congruent |  676.5442 |\n",
       "| 2 | 807.1596 |  74.3634 | congruent |  850.1468 |\n",
       "| 2 | 807.1596 |  74.3634 | congruent |  564.6080 |\n",
       "| 2 | 807.1596 |  74.3634 | congruent |  603.1024 |\n",
       "\n"
      ],
      "text/plain": [
       "   subject intercept slope    prime     rt       \n",
       "1  1       658.1670  116.9944 congruent  637.7850\n",
       "2  1       658.1670  116.9944 congruent  355.5954\n",
       "3  1       658.1670  116.9944 congruent  312.3804\n",
       "4  1       658.1670  116.9944 congruent  683.2322\n",
       "5  1       658.1670  116.9944 congruent  641.0751\n",
       "6  1       658.1670  116.9944 congruent  851.6410\n",
       "7  1       658.1670  116.9944 congruent  541.0341\n",
       "8  1       658.1670  116.9944 congruent  597.7813\n",
       "9  1       658.1670  116.9944 congruent 1001.2272\n",
       "10 1       658.1670  116.9944 congruent 1019.9264\n",
       "11 2       807.1596   74.3634 congruent  630.8723\n",
       "12 2       807.1596   74.3634 congruent  666.1075\n",
       "13 2       807.1596   74.3634 congruent  765.4990\n",
       "14 2       807.1596   74.3634 congruent  715.1133\n",
       "15 2       807.1596   74.3634 congruent  515.6113\n",
       "16 2       807.1596   74.3634 congruent  663.6446\n",
       "17 2       807.1596   74.3634 congruent  676.5442\n",
       "18 2       807.1596   74.3634 congruent  850.1468\n",
       "19 2       807.1596   74.3634 congruent  564.6080\n",
       "20 2       807.1596   74.3634 congruent  603.1024"
      ]
     },
     "metadata": {
      "tags": []
     },
     "output_type": "display_data"
    }
   ],
   "source": [
    "set.seed(04082020)\n",
    "dat <- simulate_data(10, 10, 700, 50, 100,50,200)\n",
    "head(dat, n=20)"
   ]
  },
  {
   "cell_type": "markdown",
   "metadata": {
    "id": "JYuw3pciulbJ"
   },
   "source": [
    "And here's the output of the mixed effects model concerning the effect of priming:"
   ]
  },
  {
   "cell_type": "code",
   "execution_count": null,
   "metadata": {
    "colab": {
     "base_uri": "https://localhost:8080/",
     "height": 34
    },
    "executionInfo": {
     "elapsed": 550,
     "status": "ok",
     "timestamp": 1616679823291,
     "user": {
      "displayName": "Patience Stevens",
      "photoUrl": "https://lh3.googleusercontent.com/a-/AOh14Gi-_9ZqhIFhAv1oMehJNvNuIKSTyrFQHzjxQKhx=s64",
      "userId": "01994571539255174942"
     },
     "user_tz": 240
    },
    "id": "X_ZS6_C_ulbJ",
    "outputId": "2024c6fa-5dfe-43ed-e3f2-738217c0f6f4",
    "scrolled": true
   },
   "outputs": [
    {
     "data": {
      "text/html": [
       "<style>\n",
       ".dl-inline {width: auto; margin:0; padding: 0}\n",
       ".dl-inline>dt, .dl-inline>dd {float: none; width: auto; display: inline-block}\n",
       ".dl-inline>dt::after {content: \":\\0020\"; padding-right: .5ex}\n",
       ".dl-inline>dt:not(:first-of-type) {padding-left: .5ex}\n",
       "</style><dl class=dl-inline><dt>primeincongruent</dt><dd>32.8173297042845</dd><dt>2</dt><dd>26.4064196916696</dd><dt>3</dt><dd>3.75975221724593</dd></dl>\n"
      ],
      "text/latex": [
       "\\begin{description*}\n",
       "\\item[primeincongruent] 32.8173297042845\n",
       "\\item[2] 26.4064196916696\n",
       "\\item[3] 3.75975221724593\n",
       "\\end{description*}\n"
      ],
      "text/markdown": [
       "primeincongruent\n",
       ":   32.81732970428452\n",
       ":   26.40641969166963\n",
       ":   3.75975221724593\n",
       "\n"
      ],
      "text/plain": [
       "primeincongruent                                   \n",
       "       32.817330        26.406420         3.759752 "
      ]
     },
     "metadata": {
      "tags": []
     },
     "output_type": "display_data"
    }
   ],
   "source": [
    "run_analysis(dat)"
   ]
  },
  {
   "cell_type": "markdown",
   "metadata": {
    "id": "Daz1facqulbK"
   },
   "source": [
    "Let's run the simulation for various number of subjects and trials. First define the function..."
   ]
  },
  {
   "cell_type": "code",
   "execution_count": null,
   "metadata": {
    "id": "uIlU6UfCulbL"
   },
   "outputs": [],
   "source": [
    "# a function for repeatedly running the analysis on multiple samples drawn with the same parameters\n",
    "repeat_analysis <- function(n_simulations, alpha, n_subjects, n_trials, intercept, slope, intercept_sd, slope_sd, trial_sd) {\n",
    "    simouts <- matrix(rep(NA,3*n_simulations),nrow=n_simulations) # empty vector to store outputs from each simulation\n",
    "    # loop for repeating the simulation\n",
    "    for (i in 1:n_simulations) {\n",
    "        data <- simulate_data(n_subjects, n_trials, intercept,\n",
    "                              slope, intercept_sd, slope_sd, trial_sd)\n",
    "        simouts[i,] <- run_analysis(data) # save the analysis outputs for this sim.\n",
    "    }\n",
    "    \n",
    "    # calculate how many of the simulations had significant results (coverage)\n",
    "    power <- mean(simouts[,3] <= -20) # -20 is a good standard threshold for strong evidence, see Raftery & Kass 1995\n",
    "    # calculate relative parameter estimate bias\n",
    "    theta_bias <- ( mean(simouts[,1]) - slope ) / (slope)\n",
    "    # calculate relative standard error bias \n",
    "    sigma_bias <- (mean(simouts[,2]) - sd(simouts[,1])) / sd(simouts[,1])\n",
    "    return(list(power = power, theta_bias = theta_bias, sigma_bias = sigma_bias))\n",
    "}"
   ]
  },
  {
   "cell_type": "markdown",
   "metadata": {
    "id": "ooxDWu7PkLyw"
   },
   "source": [
    "Then run it. *(Note: this takes a LONG time to run! About an hour.)*"
   ]
  },
  {
   "cell_type": "code",
   "execution_count": null,
   "metadata": {
    "colab": {
     "base_uri": "https://localhost:8080/"
    },
    "executionInfo": {
     "elapsed": 4958831,
     "status": "ok",
     "timestamp": 1616685263425,
     "user": {
      "displayName": "Patience Stevens",
      "photoUrl": "https://lh3.googleusercontent.com/a-/AOh14Gi-_9ZqhIFhAv1oMehJNvNuIKSTyrFQHzjxQKhx=s64",
      "userId": "01994571539255174942"
     },
     "user_tz": 240
    },
    "id": "RqhGnX29ulbM",
    "outputId": "59d0f2cb-3f3e-4ee8-d664-3e342b4729fb",
    "scrolled": false
   },
   "outputs": [
    {
     "name": "stderr",
     "output_type": "stream",
     "text": [
      "Warning message in optwrap(optimizer, devfun, opt$par, lower = rho$lower, control = control, :\n",
      "“convergence code -4 from nloptwrap: NLOPT_ROUNDOFF_LIMITED: Roundoff errors led to a breakdown of the optimization algorithm. In this case, the returned minimum may still be useful. (e.g. this error occurs in NEWUOA if one tries to achieve a tolerance too close to machine precision.)”\n"
     ]
    }
   ],
   "source": [
    "dat <- expand.grid(n_subjects = c(20,30,40), n_trials = c(20,40,60))\n",
    "dat$id <- 1:nrow(dat)\n",
    "# then use tidyverse functions to run the analysis for each sample size (takes ~30-60 minutes)\n",
    "results <- dat  %>% \n",
    "    nest(parameters :=  c(n_subjects, n_trials)) %>%\n",
    "    # nest(-id, .key = 'parameters')  %>% \n",
    "    mutate(power = map(parameters, ~ repeat_analysis(1000, 0.05, .$n_subjects, .$n_trials, 700, 50, 100,50,200)$power),\n",
    "    theta_bias = map(parameters, ~ repeat_analysis(1000, 0.05, .$n_subjects, .$n_trials, 700, 50, 100,50,200)$theta_bias),\n",
    "    sigma_bias = map(parameters, ~ repeat_analysis(1000, 0.05, .$n_subjects, .$n_trials, 700, 50, 100,50,200)$sigma_bias))  %>% \n",
    "    unnest(c(parameters, power, theta_bias, sigma_bias))"
   ]
  },
  {
   "cell_type": "code",
   "execution_count": null,
   "metadata": {
    "colab": {
     "base_uri": "https://localhost:8080/",
     "height": 376
    },
    "executionInfo": {
     "elapsed": 683,
     "status": "ok",
     "timestamp": 1616685338960,
     "user": {
      "displayName": "Patience Stevens",
      "photoUrl": "https://lh3.googleusercontent.com/a-/AOh14Gi-_9ZqhIFhAv1oMehJNvNuIKSTyrFQHzjxQKhx=s64",
      "userId": "01994571539255174942"
     },
     "user_tz": 240
    },
    "id": "Me8b4crQulbM",
    "outputId": "5b472910-6128-438c-a973-a4f40f9dbcde"
   },
   "outputs": [
    {
     "data": {
      "text/html": [
       "<table class=\"dataframe\">\n",
       "<caption>A tibble: 9 × 6</caption>\n",
       "<thead>\n",
       "\t<tr><th scope=col>id</th><th scope=col>n_subjects</th><th scope=col>n_trials</th><th scope=col>power</th><th scope=col>theta_bias</th><th scope=col>sigma_bias</th></tr>\n",
       "\t<tr><th scope=col>&lt;int&gt;</th><th scope=col>&lt;dbl&gt;</th><th scope=col>&lt;dbl&gt;</th><th scope=col>&lt;dbl&gt;</th><th scope=col>&lt;dbl&gt;</th><th scope=col>&lt;dbl&gt;</th></tr>\n",
       "</thead>\n",
       "<tbody>\n",
       "\t<tr><td>1</td><td>20</td><td>20</td><td>0.006</td><td> 0.0064193681</td><td>0.07373782</td></tr>\n",
       "\t<tr><td>2</td><td>30</td><td>20</td><td>0.042</td><td>-0.0005266041</td><td>0.05806434</td></tr>\n",
       "\t<tr><td>3</td><td>40</td><td>20</td><td>0.144</td><td>-0.0084401088</td><td>0.02913024</td></tr>\n",
       "\t<tr><td>4</td><td>20</td><td>40</td><td>0.084</td><td>-0.0114760522</td><td>0.03539564</td></tr>\n",
       "\t<tr><td>5</td><td>30</td><td>40</td><td>0.379</td><td>-0.0018886991</td><td>0.08232914</td></tr>\n",
       "\t<tr><td>6</td><td>40</td><td>40</td><td>0.747</td><td>-0.0020882135</td><td>0.05321679</td></tr>\n",
       "\t<tr><td>7</td><td>20</td><td>60</td><td>0.374</td><td>-0.0042098324</td><td>0.05045607</td></tr>\n",
       "\t<tr><td>8</td><td>30</td><td>60</td><td>0.810</td><td>-0.0067931351</td><td>0.05428755</td></tr>\n",
       "\t<tr><td>9</td><td>40</td><td>60</td><td>0.974</td><td> 0.0029677427</td><td>0.02187785</td></tr>\n",
       "</tbody>\n",
       "</table>\n"
      ],
      "text/latex": [
       "A tibble: 9 × 6\n",
       "\\begin{tabular}{llllll}\n",
       " id & n\\_subjects & n\\_trials & power & theta\\_bias & sigma\\_bias\\\\\n",
       " <int> & <dbl> & <dbl> & <dbl> & <dbl> & <dbl>\\\\\n",
       "\\hline\n",
       "\t 1 & 20 & 20 & 0.006 &  0.0064193681 & 0.07373782\\\\\n",
       "\t 2 & 30 & 20 & 0.042 & -0.0005266041 & 0.05806434\\\\\n",
       "\t 3 & 40 & 20 & 0.144 & -0.0084401088 & 0.02913024\\\\\n",
       "\t 4 & 20 & 40 & 0.084 & -0.0114760522 & 0.03539564\\\\\n",
       "\t 5 & 30 & 40 & 0.379 & -0.0018886991 & 0.08232914\\\\\n",
       "\t 6 & 40 & 40 & 0.747 & -0.0020882135 & 0.05321679\\\\\n",
       "\t 7 & 20 & 60 & 0.374 & -0.0042098324 & 0.05045607\\\\\n",
       "\t 8 & 30 & 60 & 0.810 & -0.0067931351 & 0.05428755\\\\\n",
       "\t 9 & 40 & 60 & 0.974 &  0.0029677427 & 0.02187785\\\\\n",
       "\\end{tabular}\n"
      ],
      "text/markdown": [
       "\n",
       "A tibble: 9 × 6\n",
       "\n",
       "| id &lt;int&gt; | n_subjects &lt;dbl&gt; | n_trials &lt;dbl&gt; | power &lt;dbl&gt; | theta_bias &lt;dbl&gt; | sigma_bias &lt;dbl&gt; |\n",
       "|---|---|---|---|---|---|\n",
       "| 1 | 20 | 20 | 0.006 |  0.0064193681 | 0.07373782 |\n",
       "| 2 | 30 | 20 | 0.042 | -0.0005266041 | 0.05806434 |\n",
       "| 3 | 40 | 20 | 0.144 | -0.0084401088 | 0.02913024 |\n",
       "| 4 | 20 | 40 | 0.084 | -0.0114760522 | 0.03539564 |\n",
       "| 5 | 30 | 40 | 0.379 | -0.0018886991 | 0.08232914 |\n",
       "| 6 | 40 | 40 | 0.747 | -0.0020882135 | 0.05321679 |\n",
       "| 7 | 20 | 60 | 0.374 | -0.0042098324 | 0.05045607 |\n",
       "| 8 | 30 | 60 | 0.810 | -0.0067931351 | 0.05428755 |\n",
       "| 9 | 40 | 60 | 0.974 |  0.0029677427 | 0.02187785 |\n",
       "\n"
      ],
      "text/plain": [
       "  id n_subjects n_trials power theta_bias    sigma_bias\n",
       "1 1  20         20       0.006  0.0064193681 0.07373782\n",
       "2 2  30         20       0.042 -0.0005266041 0.05806434\n",
       "3 3  40         20       0.144 -0.0084401088 0.02913024\n",
       "4 4  20         40       0.084 -0.0114760522 0.03539564\n",
       "5 5  30         40       0.379 -0.0018886991 0.08232914\n",
       "6 6  40         40       0.747 -0.0020882135 0.05321679\n",
       "7 7  20         60       0.374 -0.0042098324 0.05045607\n",
       "8 8  30         60       0.810 -0.0067931351 0.05428755\n",
       "9 9  40         60       0.974  0.0029677427 0.02187785"
      ]
     },
     "metadata": {
      "tags": []
     },
     "output_type": "display_data"
    }
   ],
   "source": [
    "results"
   ]
  },
  {
   "cell_type": "code",
   "execution_count": null,
   "metadata": {
    "colab": {
     "base_uri": "https://localhost:8080/",
     "height": 1000
    },
    "executionInfo": {
     "elapsed": 2333,
     "status": "ok",
     "timestamp": 1616685376149,
     "user": {
      "displayName": "Patience Stevens",
      "photoUrl": "https://lh3.googleusercontent.com/a-/AOh14Gi-_9ZqhIFhAv1oMehJNvNuIKSTyrFQHzjxQKhx=s64",
      "userId": "01994571539255174942"
     },
     "user_tz": 240
    },
    "id": "mfQPV0FMulbN",
    "outputId": "b65d8325-f555-4f6d-e6e8-9768cdf3aa1b"
   },
   "outputs": [
    {
     "data": {
      "image/png": "[encoded data removed]",
      "text/plain": [
       "plot without title"
      ]
     },
     "metadata": {
      "image/png": {
       "height": 480,
       "width": 600
      },
      "tags": []
     },
     "output_type": "display_data"
    },
    {
     "data": {
      "image/png": "[encoded data removed]",
      "text/plain": [
       "plot without title"
      ]
     },
     "metadata": {
      "image/png": {
       "height": 480,
       "width": 600
      },
      "tags": []
     },
     "output_type": "display_data"
    },
    {
     "data": {
      "image/png": "[encoded data removed]",
      "text/plain": [
       "plot without title"
      ]
     },
     "metadata": {
      "image/png": {
       "height": 480,
       "width": 600
      },
      "tags": []
     },
     "output_type": "display_data"
    }
   ],
   "source": [
    "options(repr.plot.width=10, repr.plot.height=8)\n",
    "ggplot(results, aes(n_subjects, power, color=as.factor(n_trials), group=n_trials)) +\n",
    "    geom_point() +\n",
    "    geom_line() +\n",
    "    geom_hline(yintercept = 0.8) + # again, thresholds for acceptable power\n",
    "    geom_hline(yintercept = 0.95) +\n",
    "    scale_color_discrete('Number of trials per subject') +\n",
    "    scale_x_continuous('Number of subjects') +\n",
    "    scale_y_continuous('Statistical power (for Delta BIC <= -20)') +\n",
    "    theme_classic()\n",
    "\n",
    "\n",
    "ggplot(results, aes(n_subjects, sigma_bias, color=as.factor(n_trials), group=n_trials)) +\n",
    "    geom_point() +\n",
    "    geom_line() +\n",
    "    scale_color_discrete('Number of trials per subject') +\n",
    "    scale_x_continuous('Number of subjects') +\n",
    "    scale_y_continuous('Sigma Bias') +\n",
    "    theme_classic()\n",
    "\n",
    "ggplot(results, aes(n_subjects, theta_bias, color=as.factor(n_trials), group=n_trials)) +\n",
    "    geom_point() +\n",
    "    geom_line() +\n",
    "    scale_color_discrete('Number of trials per subject') +\n",
    "    scale_x_continuous('Number of subjects') +\n",
    "    scale_y_continuous('Theta Bias') +\n",
    "    theme_classic()"
   ]
  },
  {
   "cell_type": "markdown",
   "metadata": {
    "id": "-WyFfVk8ulbO"
   },
   "source": [
    "The first plot above shows the percentage of simulations for each combination of number of subjects and number of trials that passed our criterion for a significant model (using BIC instead of p-value in this case). So, you can see that power is a function of both the number of subjects and the number of trials per subject. \n",
    "\n",
    "Neither of the bias estimates show a clear trend with respect to number of subjects. We'd expect this for `theta_bias`, but `sigma_bias` typically does go down with more trials as discussed above. The lack of an effect may be because there were only a thousand of each set of simulations. However, we can see that all of the `theta_bias` terms for sufficiently powered subject-trial combinations are between -0.008 and 0.005, which seems acceptably close to 0. `sigma_bias` is much more positive for 30 subjects, 60 trials than for 40 subjects, 60 trials, meaning that the model estimates of variance are more inflated relative to actual variance in this case. But again, we may need to increase the number of simulations per subject-trial combination to make these bias estimates more interpretable. \n",
    "\n",
    "Our main takeaway from this analysis would be that 30 subjects, with 60 trials per subject may be sufficiently powered (>80%), but using closer to 40 subjects may yield a more accurate model. "
   ]
  },
  {
   "cell_type": "markdown",
   "metadata": {
    "id": "wP4GG3VBulbO"
   },
   "source": [
    "## But what is more important, number of subjects or number of trials?\n",
    "\n",
    "This depends on the relative sizes of the $\\sigma_{trial}$ and $\\sigma_{slope}$, i.e., how much observations vary from trial to trial, and how much the true effect varies from subject to subject. If the variability associated wtih the $\\sigma_{slope}$ is relatively large, adding more subjects will be more important for estimating the population level difference, because it will improve its estimation more than adding more trials. If, however, people are more homogeneous, and respond similarly to the manipulation, then adding more trials would be more efficient. To test this out, you can run the above simulation for different values of $\\sigma_{trial}$ and $\\sigma_{slope}$, and see it for yourself."
   ]
  },
  {
   "cell_type": "markdown",
   "metadata": {
    "id": "EUcIQPSCulbP"
   },
   "source": [
    "*Notebook authored by Ven Popov and edited by Krista Bond, Charles Wu, Patience Stevens, and Amy Sentis.*"
   ]
  }
 ],
 "metadata": {
  "colab": {
   "collapsed_sections": [],
   "name": "power-analysis-via-simulations.ipynb",
   "provenance": []
  },
  "kernelspec": {
   "display_name": "R",
   "language": "R",
   "name": "ir"
  },
  "language_info": {
   "codemirror_mode": "r",
   "file_extension": ".r",
   "mimetype": "text/x-r-source",
   "name": "R",
   "pygments_lexer": "r",
   "version": "4.0.2"
  }
 },
 "nbformat": 4,
 "nbformat_minor": 1
}