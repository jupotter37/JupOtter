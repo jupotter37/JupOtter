{
 "cells": [
  {
   "cell_type": "markdown",
   "metadata": {},
   "source": [
    "![NERLab](http://www.fee.unicamp.br/sites/default/files/docentes/leoelias/imagens/logo_v1%28WEB%29.png)\n",
    "--"
   ]
  },
  {
   "cell_type": "markdown",
   "metadata": {},
   "source": [
    "# NeMu: A neuromuscular model notebook\n",
    "\n",
    "The present Python notebook (dubbed NeMu) encompasses a brief description and a mathematical model of the mechanisms underlying the generation of surface electromyogram (sEMG) and the muscle force during voluntary isometric contractions.\n",
    "\n",
    "- Version 0.1: January 06, 2019;\n",
    "- Version 0.2: July 22, 2019;\n",
    "- Version 0.3: October 03, 2019;\n",
    "- Version 0.4 | Last update: November 09, 2020.\n",
    "\n",
    "Authors:  \n",
    "[Ricardo Gonçalves Molinari](mailto:molinari@gmail.com) and [Leonardo Abdala Elias](mailto:leoelias@fee.unicamp.br)\n",
    "\n",
    "# Import libraries and create model objects"
   ]
  },
  {
   "cell_type": "code",
   "execution_count": 16,
   "metadata": {},
   "outputs": [],
   "source": [
    "if 'google.colab' in str(get_ipython()):\n",
    "    !git clone -l -s https://github.com/molinaris/neuromuscular_notebook cloned-repo\n",
    "    %cd cloned-repo\n",
    "    !ls\n",
    "\n",
    "from nerlab import  fug, emg, force, util\n",
    "import ipywidgets as wi\n",
    "\n",
    "util.config_plots()\n",
    "mnpool = fug.Phemo()\n",
    "muscle_emg = emg.Emg_mod(mnpool)\n",
    "muscle_force = force.Muscle_force(mnpool)\n",
    "sim = util.sim_results(mnpool, muscle_emg, muscle_force)"
   ]
  },
  {
   "cell_type": "markdown",
   "metadata": {},
   "source": [
    "# The motor pool model\n",
    "## Recruitment pattern of motor units\n",
    "\n",
    "This section of the model generates the static input-output relationship of the motor pool. Here, we adopted the phenomenological model by [Fuglevand et al. (1993)](https://doi.org/10.1152/jn.1993.70.6.2470 \"Models of recruitment and rate coding organization in motor-unit pools\"), where the common drive to the motor neuron (MN) pool is mapped into the motor unit (MU) firing rate. A key aspect of this mapping is the recruitment pattern of MUs.\n",
    "\n",
    "As well known, each MU encompasses a single MN and its innervated muscle fibers. In the present model, three types of MUs were represented:\n",
    "\n",
    "- Type I (or S) MUs: low-threshold MUs with slowly contracting muscle units;\n",
    "- Type IIa (or FR) MUs: these MUs have a higher recruitment threshold (as compared to type I MUs) and its muscle units are fast contracting but fatigue resistant;\n",
    "- Type IIb (or FF) MUs: these MUs have the highest recruitment threshold with fast contracting and fatigable muscle units.\n",
    "\n",
    "### Recruitment Range\n",
    "___Recruitment range___  is used to define the recruitment threshold excitation ($RTE$) of each MU.\n",
    "\n",
    "$$RTE_i  =exp \\left ( \\frac{ln(R_R)i}{n} \\right )$$\n",
    "\n",
    "where:\n",
    "- $RTE_i$ is the recruitment threshold excitation of the MU $i$;\n",
    "- $R_R$ is the recruitment range;\n",
    "- $i$ is the MU index;\n",
    "- $n$ is the total number of MUs.  \n",
    "\n",
    "\n",
    "### Relationship between MU firing rate and the excitatory drive\n",
    "\n",
    "The following equation is used to define the ***firing rate*** of each MU as a function of the ***excitatory (common) drive***.\n",
    "\n",
    "$$\\begin{align}\n",
    "     if \\quad e(t) \\ge RTE_i , \\quad  fr_i(t) &= g_{i}(e(t)-RTE_i) + MFR \\\\\n",
    "     else \\quad fr_i(t) & = 0\\\\\n",
    "    \\end{align}$$\n",
    "\n",
    "where:\n",
    "- $e(t)$ is the excitatory (common) drive as a function of time;\n",
    "- $fr_i(t)$ is the mean firing rate of the $i$-th MU at time $t$; \n",
    "- $MFR$ is the minimum firing rate;\n",
    "- $PFR_i$ is the peak firing rate of the $i$-th MU, defined by: \n",
    "\n",
    "$$ PFR_i   = PFR_1 - PFRD \\frac{RTE_i}{RTE_n} $$\n",
    "    \n",
    "- $PFRD$ is the difference between the peak firing rate of the first and the last recruited MU of the pool;\n",
    "\n",
    "- $g_{i}$ is the gain of the relationship between the excitatory drive and the firing rate for the $i$-th MU, defined by:\n",
    "\n",
    "$$ \\begin{align}\n",
    "    g_{i} &= g_{f}(i) \\frac{PFR_i - MFR}{e_{max} - RTE_i} \\\\\n",
    "    e_{max} &= \\frac{RTE_n}{\\tilde{e}_{LR}} \\\\\n",
    "\\end{align}$$\n",
    "\n",
    "where:\n",
    "- $e_{max}$ is the maximum excitatory drive to the MN pool;\n",
    "- $\\tilde{e}_{LR}$ is the normalized (by $e_{max}$) excitatory drive that recruit the last MN.\n",
    "- $g_{f}(i)$ is a function of $i$ that returns $n$ ($n$ = number of MNs) evenly spaced numbers over the interval defined by a gain factor $g_{1}$ and 1.\n",
    "\n",
    "If the checkbox __Same gain for all MNs?__ is checked, $g_i = g_n$, resulting in the same gain for all MNs:\n",
    "\n",
    "$$ g_{i} = \\frac{PFR_n - MFR}{e_{max} - RTE_n} $$\n",
    "\n",
    "For more information about the physiology of MUs, please refer to the monograph by [Kernell (2006)](https://doi.org/10.1093/acprof:oso/9780198526551.001.0001 \"The Motoneurone and its Muscle Fibres\")."
   ]
  },
  {
   "cell_type": "code",
   "execution_count": 19,
   "metadata": {
    "code_folding": []
   },
   "outputs": [
    {
     "data": {
      "application/vnd.jupyter.widget-view+json": {
       "model_id": "0ee0875925f84a578d81cb0f7c1d2493",
       "version_major": 2,
       "version_minor": 0
      },
      "text/plain": [
       "HBox(children=(HBox(children=(VBox(children=(IntSlider(value=102, continuous_update=False, description='# Type…"
      ]
     },
     "metadata": {},
     "output_type": "display_data"
    }
   ],
   "source": [
    "ui1,ws1 = util.wi1()\n",
    "out1 = wi.interactive_output(mnpool.view_organization, ws1)\n",
    "display(wi.HBox([ui1,out1]))"
   ]
  },
  {
   "cell_type": "markdown",
   "metadata": {},
   "source": [
    "## Definition of the excitatory (common) drive\n",
    "\n",
    "The common drive and the recruitment pattern of the MUs (defined above) are used to generate the MU spike trains. These spike trains will command the muscle units so as to produce muscle force and electromyogram (EMG).\n",
    "\n",
    "Different force intesities (percentage of the maximum force) may be explored with ***Trapezoidal*** or ***Sinusoidal*** commands. To simulate a steady isometric contraction, you can choose the ***Trapezoidal*** command, and then define ***Plateau on*** as zero and ***Plateau off*** as the final simulation time.\n",
    "\n",
    "MU recruitment and de-recruitment can be observed using a ***Trapezoidal*** command, but in this scenario the value of the parameter ***Onset*** should be less than the ***Plateau on***, and ***Offset*** should be less than ***Plateau off***.\n",
    "\n",
    "Periodic contractions can be simulated by changing the command to the ***Sinusoidal*** waveform, with the following parameters: ***Peak Intensity*** and ***Frequency***."
   ]
  },
  {
   "cell_type": "code",
   "execution_count": 18,
   "metadata": {
    "code_folding": []
   },
   "outputs": [
    {
     "data": {
      "application/vnd.jupyter.widget-view+json": {
       "model_id": "6b64a77dbe1945c18bf292fff78d69da",
       "version_major": 2,
       "version_minor": 0
      },
      "text/plain": [
       "HBox(children=(VBox(children=(IntSlider(value=20000, continuous_update=False, description='Sampling [Hz]:', la…"
      ]
     },
     "metadata": {},
     "output_type": "display_data"
    }
   ],
   "source": [
    "ws2,ui2 = util.wi2()\n",
    "out2 = wi.interactive_output(mnpool.view_excitatory,ws2)\n",
    "display(wi.HBox([ui2,out2]))"
   ]
  },
  {
   "cell_type": "markdown",
   "metadata": {},
   "source": [
    "## Motor unit spike trains\n",
    "\n",
    "The MU activity (spike trains) resembles a sthocastic point process with a gaussian distribution. The model by [Fuglevand et al. (1993)](https://doi.org/10.1152/jn.1993.70.6.2470 \"Models of recruitment and rate coding organization in motor-unit pools\") simulates the spike times as:\n",
    "\n",
    "$$ t_{i,j}= \\mu + \\sigma. Z + t_{i,j-1}$$\n",
    "\n",
    "where:\n",
    "- $ t_{i,j}$ is the $j$-th spike time of the $i$-th MU;\n",
    "- $ \\mu $ is the mean interspike interval (ISI);\n",
    "- $ \\sigma $ is the standard deviation of each ISI, defined as a function of the coefficient of variation ($cv$) and $\\mu$ ($\\sigma = \\mu . cv$);\n",
    "- $ Z$ represents how the spike time deviates from the mean value (a random value between -3.9 and 3.9 from a gaussian distribution).  \n",
    "\n",
    "### Motor unit synchronization\n",
    "\n",
    "Convergent presynaptic commands to the spinal MNs promote common fluctuations on the membrane potentials of these cells. These common sources increases the probability of synchronous discharges of MUs (the so-called MU synchronization).\n",
    "\n",
    "To simulate this phenomenon, we adopted the model by [Yao et al. 2000](https://doi.org/10.1152/jn.2000.83.1.441 \"Motor-Unit Synchronization Increases EMG Amplitude and Decreases Force Steadiness of Simulated Contractions\"). However, an extra step was added to the algorithm in order to deal with time varying excitations (trapezoidal and sinusoidal). The modification followed the proposal by [Shin et al. 2018](https://doi.org/10.1088/1741-2552/aa925d \"Relative contribution of different altered motor unit control to muscle weakness in stroke: a simulation study\"), where the synchronization process is limited to spike times ocurring in a maximum interval of 15 ms.\n",
    "\n",
    "The ***Synch. Level [%]*** operates as follows:\n",
    "1. For each MU in the pool, a percentage of the spike times are randomly picked up to serve as a reference for spike adjustment;\n",
    "2. Given a reference spike, the algorithm selects a percentage of recruited MUs and finds the closest discharge to be adjusted (i.e., the discharge with the minimum distance between the reference spike and all other spikes from the selected MUs). \n",
    "3. The spike time selected in *step 2* is adjusted to the reference spike. A small amount of variability is imposed by the parameter ***Synch. $\\sigma$ [ms]***, so the reference spike time is the mean value while ***Synch. $\\sigma$ [ms]*** is the standard deviation of a gaussian distribution."
   ]
  },
  {
   "cell_type": "code",
   "execution_count": 4,
   "metadata": {
    "code_folding": []
   },
   "outputs": [
    {
     "data": {
      "application/vnd.jupyter.widget-view+json": {
       "model_id": "2356b928d198403ca4335d7a5cfdc6d0",
       "version_major": 2,
       "version_minor": 0
      },
      "text/plain": [
       "interactive(children=(FloatSlider(value=20.0, description='ISI $cv$ [%]:', layout=Layout(width='300px'), max=5…"
      ]
     },
     "metadata": {},
     "output_type": "display_data"
    }
   ],
   "source": [
    "wi3 = util.wi3()\n",
    "_ = wi.interact_manual(mnpool.view_neural_command, CoV = wi3[0], \n",
    "                       synch_level = wi3[1], sigma = wi3[2])"
   ]
  },
  {
   "cell_type": "markdown",
   "metadata": {},
   "source": [
    "# Surface electromyogram (sEMG)\n",
    "\n",
    "The surface electromyogram (sEMG) emerges from the electric activity of the muscle fibers during a given contraction. Currents flowing across the sarcolemma (as a result of the muscle fiber action potential) produce an electric potential that can be recorded by extracellular electrodes. The recorded extracellular potentials are spatially filtered by the volume conductor, which includes the muscle, adipose, and skin tissues. It is worth noting that the MU territories are sparsely distributed in the muscle cross-section. Here, we represented the sEMG recorded by bipolar electrode (*red triangle* in the following graph) located on the skin.\n",
    "\n",
    "\n",
    "## Muscle cross section morphology\n",
    "\n",
    "Four different morphologies for the muscle cross section were included to represent the desired muscle. The following morphologies were included: ***Circle***, ***Ring***, ***Pizza***, and ***Ellipse***. Also, cross-section area (***CSA***), fat thickness (***Fat layer [mm]***), and skin thickness (***Skin layer [mm]***) are properties to be adjusted. For the ***Ring***, ***Pizza***, and ***Ellipse*** morphologies you need to adjust two additional parameters:\n",
    "\n",
    "- ***Proportion*** defines, for the ***Ring*** morphology, the ratio between internal and external muscle radii and, for the ***Ellipse***, the ratio between semi-minor and semi-major axes;\n",
    "- ***Theta [rad]*** defines the \"opening\" of the choosen geometry. In other words, the angle formed between the vertical line (which passes through the origin) and the line that defines the \"side\" boundary of the muscle ***CSA***, which also passes through the origin."
   ]
  },
  {
   "cell_type": "code",
   "execution_count": 5,
   "metadata": {},
   "outputs": [
    {
     "data": {
      "application/vnd.jupyter.widget-view+json": {
       "model_id": "11ee703a52134033afddddb0bd9ee19a",
       "version_major": 2,
       "version_minor": 0
      },
      "text/plain": [
       "HBox(children=(VBox(children=(RadioButtons(description='CSA morphology:', index=1, layout=Layout(width='300px'…"
      ]
     },
     "metadata": {},
     "output_type": "display_data"
    }
   ],
   "source": [
    "ws4,ui4 = util.wi4()\n",
    "out4 = wi.interactive_output(muscle_emg.view_morpho, ws4)\n",
    "display(wi.HBox([ui4, out4]))"
   ]
  },
  {
   "cell_type": "markdown",
   "metadata": {},
   "source": [
    "## Motor unit distribution within the muscle CSA\n",
    "\n",
    "Many human muscles present some level of MU regionalization within the muscle CSA ([Johnson et al. 1973](https://doi.org/10.1016/0022-510X(73)90023-3 \"Data on the distribution of fibre types in thirty-six human muscles\")). To simulate this MU regionalization, we defined two different distributions, one for MUs innervating type I muscle fibers and another for MUs innervating type II muscle fibers. Each MU position is defined using polar coordinates. All MUs will have their polar angles defined by a random variable with uniform distribution whose limits depend on the choosen morphology. The radial coordinate of each MU is also defined as a random variable, but with a gaussian distribution.\n",
    "\n",
    "The distribution of the radial coordinate is adjusted by the variable ***Type I $\\mu$*** (normalized by the muscle external radius), which defines the center (average) of the distribution for Type I MUs. Also, ***Type I $\\sigma$*** (normalized by the muscle external radius) defines the standard deviation of the gaussian distribution of the radius for Type I MUs. Similarly, ***Type II $\\mu$*** and ***Type II $\\sigma$*** define the center (average) and the standard deviation (both normalized by the muscle external radius) of the distribution for Type II (a and b) MUs, respectively.\n",
    "\n",
    "### Muscle fiber ratio\n",
    "\n",
    "The MU territory area is highly correlated with the number of muscle fibers innervated by a single MN, which varies across the MU pool ([Enoka and Fuglevand 2001](https://doi.org/10.1002/1097-4598(200101)24:1<4::AID-MUS13>3.0.CO;2-F \"Motor unit physiology: Some unresolved issues\")). A typical skeletal muscle comprises many MUs with relatively few muscle fibers and few MUs with a large quantity of muscle fibers.  This MU innervation ratio along the motor pool can be modelled as:\n",
    "\n",
    "$$y_i = y_1e^{\\displaystyle \\left( \\frac{ln(R_{in})i}{n} \\right)}$$\n",
    "\n",
    "where:\n",
    "- $y_i$ is the innervation number of the $i$-th MU;\n",
    "- $y_1$ is the innervation number of the smallest MU;\n",
    "- $n$ is the total number of MUs;\n",
    "- $R_{in}$ is the ***Innervation ratio*** between the largest ($y_n$) and smallest ($y_1$) MU."
   ]
  },
  {
   "cell_type": "code",
   "execution_count": 6,
   "metadata": {
    "code_folding": []
   },
   "outputs": [
    {
     "data": {
      "application/vnd.jupyter.widget-view+json": {
       "model_id": "56f8ae84599e409e8a638a64a9755034",
       "version_major": 2,
       "version_minor": 0
      },
      "text/plain": [
       "VBox(children=(VBox(children=(FloatSlider(value=0.7, continuous_update=False, description='Type I MU $\\\\mu$', …"
      ]
     },
     "metadata": {},
     "output_type": "display_data"
    }
   ],
   "source": [
    "ui5,ws5 = util.wi5()\n",
    "out5 = wi.interactive_output(muscle_emg.view_distribution, ws5)\n",
    "display(wi.VBox([ui5, out5]))"
   ]
  },
  {
   "cell_type": "markdown",
   "metadata": {},
   "source": [
    "## Motor unit action potentials (MUAPs)\n",
    "\n",
    "MU action potentials (MUAPs) observed from bipolar electrodes at skin surface can be represented by 1st and 2nd order Hermite-Rodriguez (HR) functions ([Lo Conte et al. 1994](http://doi.org/10.1109/10.335863 \"Hermite Expansions of Compact Support Waveforms: Applications to Myoelectric Signals\")). These functions fit well the MUAPs shape and has been used in previous studies. The 1st-order HR function models biphasic MUAPs while the 2nd-order HR function models triphasic MUAPs. These functions are defined by the following equations:\n",
    "\n",
    "$$\\begin{align}\n",
    "HR_1(t) &= \\frac{A_M.(t-t_{AP})}{\\lambda_M} e^{\\displaystyle  - \\left (\\frac{t-t_{AP}}{\\lambda_M} \\right )^2}u(t-t_{AP}) \\\\\n",
    "HR_2(t) &= A_M \\left [1 - 2 \\left ( \\frac{t-t_{AP}}{\\lambda_M} \\right )^2 \\right ] e^{\\displaystyle - \\left (\\frac{t-t_{AP}}{\\lambda_M} \\right )^2} u(t-t_{AP})\n",
    "\\end{align}$$\n",
    "\n",
    "where:\n",
    "- $HR_k$ is the $k$-th order Hermite-Rodriguez (HR) function;\n",
    "- $A_M$ is the amplitude factor;\n",
    "- $\\lambda_M$ is the duration factor;\n",
    "- $t$ is simulation time;\n",
    "- $t_{AP}$ is the MU discharge time;\n",
    "- $u$ is the Heaviside (step) function.\n",
    "\n",
    "For each MU, distinct amplitude and duration factors are attributed. To define each MUAP amplitude factor, an exponential interpolation between the ___First MUAP Amplitude [mV]___ and the ___Last MUAP Amplitude [mV]___ is used. The same method is adopted to define the duration factors of each MUAP.\n",
    "\n",
    "In the present model, the MUAP can represented by either 1st-order or 2nd-order HR functions, which are randomly (equal probability) asigned to the MUs."
   ]
  },
  {
   "cell_type": "code",
   "execution_count": 7,
   "metadata": {},
   "outputs": [
    {
     "data": {
      "application/vnd.jupyter.widget-view+json": {
       "model_id": "916b32ad0ad647d88c1b3b6bf00b189a",
       "version_major": 2,
       "version_minor": 0
      },
      "text/plain": [
       "HBox(children=(VBox(children=(RadioButtons(description='Hermite-Rodriguez function:', layout=Layout(width='300…"
      ]
     },
     "metadata": {},
     "output_type": "display_data"
    }
   ],
   "source": [
    "ui6,ws6 = util.wi6()\n",
    "out6 = wi.interactive_output(muscle_emg.view_muap, ws6)\n",
    "display(wi.HBox([ui6, out6]))"
   ]
  },
  {
   "cell_type": "markdown",
   "metadata": {},
   "source": [
    "## Volume conductor (spatial filtering)\n",
    "\n",
    "The volume conductor (characterized by muscle, fat, and skin tissues) filtering effect is modelled as isotropic and proportional to the distance between the MU territory center and the electrode on the skin surface. The the following equations ([Cisi and Kohn 2008](http://doi.org/10.1007/s10827-008-0092-8 \"Simulation system of spinal cord motor nuclei and associated nerves and muscles, in a Web-based architecture\")) were used to model the amplitude attenuation and MUAP widening caused by the spatial filtering of the volume conductor:\n",
    "\n",
    "$$\\begin{align}\n",
    "V &= V_0 e^{ \\left ( \\frac{-d}{\\tau_{at}} \\right )} \\\\\n",
    "T &= T_0(1+Cd)\n",
    "\\end{align} $$\n",
    "\n",
    "where:\n",
    "- $V$ is the MUAP amplitude recorded by the surface electrode;\n",
    "- $V_0$ is the MUAP amplitude at the center of the MU territory;\n",
    "- $d$ is the distance between the center of the MU territory and the center of the bipolar EMG sensor;\n",
    "- $\\tau_{at}$ is the ___Amplitude Attenuation Factor [$mm^{-1}$]___;\n",
    "- $T$ is the MUAP duration at the electrode;\n",
    "- $T_0$ is the MUAP duration at the center of the MU territory;\n",
    "- $C$ is the MUAP ___Widening Factor [$mm^{-1}$]___."
   ]
  },
  {
   "cell_type": "code",
   "execution_count": 8,
   "metadata": {},
   "outputs": [
    {
     "data": {
      "application/vnd.jupyter.widget-view+json": {
       "model_id": "af9f61de2b3e4a7c8480499016168933",
       "version_major": 2,
       "version_minor": 0
      },
      "text/plain": [
       "VBox(children=(FloatSlider(value=5.0, continuous_update=False, description='$\\\\tau_{at}$ [mm]:', layout=Layout…"
      ]
     },
     "metadata": {},
     "output_type": "display_data"
    },
    {
     "data": {
      "application/vnd.jupyter.widget-view+json": {
       "model_id": "81abd2d850934c4c8ec0bdc50b48f69d",
       "version_major": 2,
       "version_minor": 0
      },
      "text/plain": [
       "Output()"
      ]
     },
     "metadata": {},
     "output_type": "display_data"
    }
   ],
   "source": [
    "ui7,ws7 = util.wi7()        \n",
    "out7= wi.interactive_output(muscle_emg.view_attenuation,ws7)\n",
    "display(ui7,out7)"
   ]
  },
  {
   "cell_type": "markdown",
   "metadata": {},
   "source": [
    "## Generation of sEMG\n",
    "\n",
    "The surface electromyogram (sEMG) is modelled as the summed activity of all filtered MUAP trains of recruited MUs.\n",
    "\n",
    "To mimic experimental recordings, an additive gaussian noise can be summed to the sEMG signal generated by the model. The amplitude of this interference noise is adjusted by the ___Noise standard deviation [mV]___ parameter. Also, a 4th-order Butterworth bandpass filter was applied to the sEMG signal to represent the anti-aliasing filter present in EMG devices. The parameters ___High-pass cutoff frequency [Hz]___ and ___Low-pass cutoff frequency [Hz]___ define the lower and higher cutoff frequencies of the filter, respectively."
   ]
  },
  {
   "cell_type": "code",
   "execution_count": 9,
   "metadata": {
    "code_folding": []
   },
   "outputs": [
    {
     "data": {
      "application/vnd.jupyter.widget-view+json": {
       "model_id": "8cff76970bc84169a7423862f8960ee9",
       "version_major": 2,
       "version_minor": 0
      },
      "text/plain": [
       "interactive(children=(Checkbox(value=True, description='Add Noise', layout=Layout(width='400px'), style=Descri…"
      ]
     },
     "metadata": {},
     "output_type": "display_data"
    }
   ],
   "source": [
    "wi8 = util.wi8()\n",
    "_ = wi.interact_manual(muscle_emg.view_semg, add_noise = wi8[0], noise_level = wi8[1], \n",
    "                       add_filter = wi8[4], bplc = wi8[2], bphc = wi8[3])"
   ]
  },
  {
   "cell_type": "markdown",
   "metadata": {},
   "source": [
    "## Analysis of sEMG signal"
   ]
  },
  {
   "cell_type": "code",
   "execution_count": 10,
   "metadata": {
    "scrolled": false
   },
   "outputs": [
    {
     "data": {
      "application/vnd.jupyter.widget-view+json": {
       "model_id": "104be2c455a546ce93baaa245ce6f992",
       "version_major": 2,
       "version_minor": 0
      },
      "text/plain": [
       "VBox(children=(FloatRangeSlider(value=(0.0, 4999.950000000001), continuous_update=False, description='Analysis…"
      ]
     },
     "metadata": {},
     "output_type": "display_data"
    },
    {
     "data": {
      "application/vnd.jupyter.widget-view+json": {
       "model_id": "55178427d1e44181b4777442eb7aa0b5",
       "version_major": 2,
       "version_minor": 0
      },
      "text/plain": [
       "Output()"
      ]
     },
     "metadata": {},
     "output_type": "display_data"
    }
   ],
   "source": [
    "ui9,ws9 = util.wi9(muscle_emg)\n",
    "out9 = wi.interactive_output(muscle_emg.analysis, ws9)\n",
    "display(ui9, out9)"
   ]
  },
  {
   "cell_type": "markdown",
   "metadata": {},
   "source": [
    "# Muscle force\n",
    "\n",
    "## Motor unit twitch\n",
    "\n",
    "MU twitch is the mechanical response of muscle fibers to action potentials arriving at the neuromuscular junction. Under isometric conditions, muscle twitch can be modelled as the impulse response of a second-order critically damped system  ([Milner-brown et al. 1973](https://doi.org/10.1113/jphysiol.1973.sp010087 \"The contractile properties of human motor units during voluntary isometric contractions\")). The general formula for the impulse response of a second-order critically damped system is:\n",
    "\n",
    "$$ F(t) = P \\frac{t}{T}e^{\\displaystyle \\left( \\frac{-t}{T} \\right)}u(t) \\; , \\quad t \\in \\Re$$\n",
    "\n",
    "where:\n",
    "- $F(t)$ is the MU twitch force;\n",
    "- $P$ is the twitch amplitude;\n",
    "- $T$ is the time to peak;\n",
    "- $u(t)$ is the Heaviside (step) function.\n",
    "\n",
    "The twitch amplitude is related to the MU size and the MU recruitment threshold. This relationship can be modelled by the following equation ([Fuglevand et al. 1993](https://doi.org/10.1152/jn.1993.70.6.2470 \"Models of recruitment and rate coding organization in motor-unit pools\")):\n",
    "\n",
    "$$ P_i = P_1e^{\\displaystyle \\left( \\frac{ln(R_P)i}{n}\\right) }$$\n",
    "\n",
    "where:\n",
    "- $P_i$ is the peak twitch force of the $i$-th MU;\n",
    "- $P_1$ is the peak twitch force of the first MU;\n",
    "- $R_P$ is the the range of twitch forces;\n",
    "- $n$ is the number of MUs in the pool.\n",
    "\n",
    "The range of twitch time-to-peak along the MU pool can be modelled by an exponential function, as proposed in the original paper by [Fuglevand et al. 1993](https://doi.org/10.1152/jn.1993.70.6.2470 \"Models of recruitment and rate coding organization in motor-unit pools\") (see the equation below).\n",
    "\n",
    "$$ T_i=T_L \\left ( \\frac{1}{P_i} \\right )^{\\displaystyle \\left( \\frac{1}{log_{R_T}(R_P)} \\right)} $$\n",
    "\n",
    "where:\n",
    "- $T_i$ is the twitch time-to-peak of the $i$-th MU;\n",
    "- $T_L$ is the largest $T_i$;\n",
    "- $R_T$ is the desired range of $T_i$ for the MU pool.\n",
    "\n",
    "In some human muscles there is no evident relation between the twitch time-to-peak and the MU recruitment threshold ([Bigland-Ritche et al. 1998](http:doi.org/10.1177/107385849800400413 \"Contractile properties of human motor units: Is man a cat?\")). This condition can be simulated here by checking the button `Random uniform`, so that the MU twitch time-to-peak is uncorrelated with the twitch amplitude. The time-to-peak of each MU will be uniformly distributed between the interval defined by $T_L/R_T$ and $T_L$."
   ]
  },
  {
   "cell_type": "code",
   "execution_count": 11,
   "metadata": {},
   "outputs": [
    {
     "data": {
      "application/vnd.jupyter.widget-view+json": {
       "model_id": "6a1b583721ec4e068d724a3ec97eb15c",
       "version_major": 2,
       "version_minor": 0
      },
      "text/plain": [
       "HBox(children=(VBox(children=(IntSlider(value=3, continuous_update=False, description='$P_1$ [mN]:', layout=La…"
      ]
     },
     "metadata": {},
     "output_type": "display_data"
    }
   ],
   "source": [
    "ui10,ws10 = util.wi10()\n",
    "out10 = wi.interactive_output(muscle_force.view_mu_twitch, ws10)\n",
    "display(wi.HBox([ui10,out10]))"
   ]
  },
  {
   "cell_type": "markdown",
   "metadata": {},
   "source": [
    "## Motor unit tetanic force\n",
    "\n",
    "The MU behavior has several nonlinear properties, including the relation between the MU isometric force and the stimulus frequency ([Milner-brown et al. 1973](https://doi.org/10.1113/jphysiol.1973.sp010087 \"The contractile properties of human motor units during voluntary isometric contractions\")). The so-called force-frequency relationship has a sigmoidal shape, so that the force of the MU saturates at high-frequency stimulation. Typically, the stimulus rate for MU force saturation is higher than 50 imp/s for muscles that control the digits of the hand ([Fuglevand et al 1999](https://doi.org/10.1152/jn.1999.81.4.1718 \"Force-Frequency and Fatigue Properties of Motor Units in Muscles That Control Digits of the Human Hand\")). Also, the shape of the force-frequency relationship depends on the contractile properties of the MU. Fast-contracting MUs tend to fuse faster when compared with slowly-contracting MUs. It is also important to note that the stimulus rate for MU force saturation is much higher than the firing rate produced by the MU during a maximum voluntary contraction (mean rate of ~35 imp/s for the first dorsal interosseous muscle, [Enoka and Fuglevand 2001](https://doi.org/https://doi.org/10.1002/1097-4598(200101)24:1<4::AID-MUS13>3.0.CO;2-F \"Motor unit physiology: Some unresolved issues:\")).\n",
    "\n",
    "To simulate the saturation mechanisms, i.e., the nonlinear relationship between stimulus rate and MU force, we used the following function ([Watanabe et al. 2013](https://doi.org/10.1152/jn.00073.2013 \"Influences of premotoneuronal command statistics on the scaling of motor output variability during isometric plantar flexion\")):\n",
    "\n",
    "$$ F_{sat} (t)=\\frac{1-e^{-cF(t)}}{1+e^{-cF(t)}} $$\n",
    "\n",
    "To find the parameter $c$, we first stimulate the MU at a rate that produces the desired $F_{sat}$ of the MU. After, the MU is stimulated with a single pulse to produce a unitary twitch amplitude ($P=1$). Then, we use the secant method (root-finding algorithm with secant lines and with better approximations at each step) to find the value of $c$ that solve the following equation:\n",
    "\n",
    "$$max(F_{sat}(t)) - 0.999 = 0$$"
   ]
  },
  {
   "cell_type": "code",
   "execution_count": 12,
   "metadata": {},
   "outputs": [
    {
     "data": {
      "application/vnd.jupyter.widget-view+json": {
       "model_id": "dae5003846a240a9a9f2e3006aec2af8",
       "version_major": 2,
       "version_minor": 0
      },
      "text/plain": [
       "VBox(children=(IntSlider(value=75, continuous_update=False, description='MU${}_1$ saturation frequency [imp/s]…"
      ]
     },
     "metadata": {},
     "output_type": "display_data"
    },
    {
     "data": {
      "application/vnd.jupyter.widget-view+json": {
       "model_id": "904f9e7deb9b4c4290704eff13d38b1f",
       "version_major": 2,
       "version_minor": 0
      },
      "text/plain": [
       "Output()"
      ]
     },
     "metadata": {},
     "output_type": "display_data"
    }
   ],
   "source": [
    "ui11,ws11 = util.wi11(muscle_force)\n",
    "out11 = wi.interactive_output(muscle_force.view_saturation, ws11)\n",
    "display(ui11, out11)"
   ]
  },
  {
   "cell_type": "markdown",
   "metadata": {},
   "source": [
    "## Generation of muscle force\n",
    "\n",
    "At this point, all force parameters are defined and the simulation is ready to be performed (press the `Run Interact` button). To speed up simulations, we used a digital filter to produce the twitch time course described above. The spike train was modelled as a train of Kronecker deltas:\n",
    "\n",
    "$$ s(m) = \\sum_j \\delta(m-m_j) \\; , \\quad m \\in Z$$\n",
    "\n",
    "where:\n",
    "- $m_j$ is the $j$-th MU spike sample;\n",
    "- $\\delta(m)$ is the Kronecker delta function.\n",
    "\n",
    "The discrete-time version of the twitch model was obtained by the impulse invariance technique, where the z-transform  was used to obtain the difference equation (see below) that describes the linear part of the force developed by the MU ([Cisi and Kohn 2008](https://doi.org/10.1007/s10827-008-0092-8 \"Simulation system of spinal cord motor nuclei and associated nerves and muscles, in a Web-based architecture.\")).\n",
    "\n",
    "$$     \\begin{split}\n",
    "F_{MU_i}(m) =  2 \\, e^{\\displaystyle \\left( \\frac{- \\Delta t}{T_{i}} \\right )} \\, F_{MU_i} (m-1) \\, -e^{\\displaystyle \\left ( \\frac{-2 \\Delta t}{T_i} \\right )}F_{MU_i}(m-2)   \\\\\n",
    " + \\frac{\\displaystyle P_i \\, \\Delta t^2}{\\displaystyle T_i} e^{\\displaystyle \\left (  1- \\frac{\\Delta t}{T_i} \\right )} s(m-1)\n",
    "    \\end{split} $$\n",
    "\n",
    "where:\n",
    "- $F_{MU_i}(m)$ is the force of the $i$-th MU at sample $m$;\n",
    "- $\\Delta t$ is the integration time step;\n",
    "\n",
    "The last step during the MU force generation is the saturation mechanism described previously. Finally, the whole muscle force is calculated as the sum of all MU forces."
   ]
  },
  {
   "cell_type": "code",
   "execution_count": 13,
   "metadata": {},
   "outputs": [
    {
     "data": {
      "application/vnd.jupyter.widget-view+json": {
       "model_id": "7f02902cf8e34fe1b41d18787cad7d6e",
       "version_major": 2,
       "version_minor": 0
      },
      "text/plain": [
       "interactive(children=(Button(description='Run Interact', style=ButtonStyle()), Output()), _dom_classes=('widge…"
      ]
     },
     "metadata": {},
     "output_type": "display_data"
    }
   ],
   "source": [
    "wif = wi.interact_manual(muscle_force.view_force)"
   ]
  },
  {
   "cell_type": "markdown",
   "metadata": {},
   "source": [
    "## Analysis of muscle force signal"
   ]
  },
  {
   "cell_type": "code",
   "execution_count": 14,
   "metadata": {
    "scrolled": false
   },
   "outputs": [
    {
     "data": {
      "application/vnd.jupyter.widget-view+json": {
       "model_id": "6bb43f6a12b3440ebed2325afe53507d",
       "version_major": 2,
       "version_minor": 0
      },
      "text/plain": [
       "VBox(children=(FloatRangeSlider(value=(0.0, 5999.950000000001), description='Analysis interval [ms]', layout=L…"
      ]
     },
     "metadata": {},
     "output_type": "display_data"
    },
    {
     "data": {
      "application/vnd.jupyter.widget-view+json": {
       "model_id": "fc8a2810e78246e28ce2fdf37e2d862f",
       "version_major": 2,
       "version_minor": 0
      },
      "text/plain": [
       "Output()"
      ]
     },
     "metadata": {},
     "output_type": "display_data"
    }
   ],
   "source": [
    "ui12, ws12 = util.wi12(muscle_force)\n",
    "out12 = wi.interactive_output(muscle_force.analysis, ws12)\n",
    "display(ui12, out12)"
   ]
  },
  {
   "cell_type": "markdown",
   "metadata": {},
   "source": [
    "# Saving simulation results\n",
    "\n",
    "The configuration used to simulate this neuromuscular system and its results can be saved in the following folder: `\\simulation_results\\folder_name`. The ***folder name*** can be selected in the following cell. To save it, just click on **Run interact** button.\n"
   ]
  },
  {
   "cell_type": "code",
   "execution_count": 15,
   "metadata": {},
   "outputs": [
    {
     "data": {
      "application/vnd.jupyter.widget-view+json": {
       "model_id": "387182d77e374d0788f59d86cfb46fcb",
       "version_major": 2,
       "version_minor": 0
      },
      "text/plain": [
       "interactive(children=(Checkbox(value=True, description='Save simulation config.'), Checkbox(value=True, descri…"
      ]
     },
     "metadata": {},
     "output_type": "display_data"
    }
   ],
   "source": [
    "ws13 = util.wi13()\n",
    "_ = wi.interact_manual(sim.save_results, \n",
    "                       save_conf = ws13[0], save_spikes = ws13[1], \n",
    "                       save_emg  = ws13[2], save_force  = ws13[3],\n",
    "                       save_dist = ws13[4], save_muap   = ws13[5], \n",
    "                       save_CT   = ws13[6], folder_name = ws13[7])"
   ]
  },
  {
   "cell_type": "code",
   "execution_count": null,
   "metadata": {},
   "outputs": [],
   "source": []
  }
 ],
 "metadata": {
  "kernelspec": {
   "display_name": "Python 3",
   "language": "python",
   "name": "python3"
  },
  "language_info": {
   "codemirror_mode": {
    "name": "ipython",
    "version": 3
   },
   "file_extension": ".py",
   "mimetype": "text/x-python",
   "name": "python",
   "nbconvert_exporter": "python",
   "pygments_lexer": "ipython3",
   "version": "3.8.3"
  },
  "toc": {
   "base_numbering": 1,
   "nav_menu": {},
   "number_sections": true,
   "sideBar": true,
   "skip_h1_title": false,
   "title_cell": "Table of Contents",
   "title_sidebar": "Contents",
   "toc_cell": false,
   "toc_position": {
    "height": "762px",
    "left": "766.4px",
    "top": "141.133px",
    "width": "323.767px"
   },
   "toc_section_display": true,
   "toc_window_display": true
  }
 },
 "nbformat": 4,
 "nbformat_minor": 2
}
