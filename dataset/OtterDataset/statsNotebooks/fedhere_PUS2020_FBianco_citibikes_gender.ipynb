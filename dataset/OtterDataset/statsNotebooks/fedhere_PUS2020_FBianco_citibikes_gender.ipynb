{
  "nbformat": 4,
  "nbformat_minor": 0,
  "metadata": {
    "anaconda-cloud": {},
    "kernelspec": {
      "display_name": "Python 2",
      "language": "python",
      "name": "python2"
    },
    "language_info": {
      "codemirror_mode": {
        "name": "ipython",
        "version": 2
      },
      "file_extension": ".py",
      "mimetype": "text/x-python",
      "name": "python",
      "nbconvert_exporter": "python",
      "pygments_lexer": "ipython2",
      "version": "2.7.12"
    },
    "colab": {
      "name": "citibikes_gender.ipynb",
      "provenance": [],
      "include_colab_link": true
    }
  },
  "cells": [
    {
      "cell_type": "markdown",
      "metadata": {
        "id": "view-in-github",
        "colab_type": "text"
      },
      "source": [
        "<a href=\"https://colab.research.google.com/github/fedhere/PUS2020_FBianco/blob/master/HW3/citibikes_gender.ipynb\" target=\"_parent\"><img src=\"https://colab.research.google.com/assets/colab-badge.svg\" alt=\"Open In Colab\"/></a>"
      ]
    },
    {
      "cell_type": "code",
      "metadata": {
        "id": "j0DWHUaMgPrC",
        "colab_type": "code",
        "colab": {}
      },
      "source": [
        ""
      ],
      "execution_count": null,
      "outputs": []
    },
    {
      "cell_type": "markdown",
      "metadata": {
        "id": "4aESq4aYc3Tw",
        "colab_type": "text"
      },
      "source": [
        "# Written by Federica B. Bianco @fedhere\n",
        "# for UDel PUS2020\n",
        "# This is my example of Assignment 2.\n",
        "# Assignment 2 you should design your own investigation into the citibike data.\n",
        "- # Come up with a question about the Citibike data usage. It can be anything that involves Categorical data. \n",
        "At this point of the class it is easier to run tests of proportions or similar, and work with categorical data. Categorical cn be anhything that can be punt into classes (e.g. day/night, male/female, 2014/2015/2016.... as long as you set up your experiment the proper way!)\n",
        "- # Choose the significance threshold\n",
        "- # Clearly state they Null and Alternate hypothesis (in words and a math formula)\n",
        "- # Wrangle the data so that it is ready for your analysis.\n",
        "- # Explore the data statistical properties (mean, standard deviation...)\n",
        "- # Answer your question with a Z test\n",
        "- # Answer your question with a xhi square test of proportions"
      ]
    },
    {
      "cell_type": "code",
      "metadata": {
        "scrolled": true,
        "id": "LEcE6IScc3Tx",
        "colab_type": "code",
        "colab": {
          "base_uri": "https://localhost:8080/",
          "height": 105
        },
        "outputId": "d59b8380-b23f-4351-b5cc-c8edf93b9c5f"
      },
      "source": [
        "from __future__  import print_function, division\n",
        "import pylab as plt\n",
        "import pandas as pd\n",
        "import numpy as np\n",
        "\n",
        "%pylab inline\n"
      ],
      "execution_count": null,
      "outputs": [
        {
          "output_type": "stream",
          "text": [
            "Populating the interactive namespace from numpy and matplotlib\n"
          ],
          "name": "stdout"
        },
        {
          "output_type": "stream",
          "text": [
            "/usr/local/lib/python2.7/dist-packages/IPython/core/magics/pylab.py:161: UserWarning: pylab import has clobbered these variables: ['plt']\n",
            "`%matplotlib` prevents importing * from pylab and numpy\n",
            "  \"\\n`%matplotlib` prevents importing * from pylab and numpy\"\n"
          ],
          "name": "stderr"
        }
      ]
    },
    {
      "cell_type": "markdown",
      "metadata": {
        "id": "V-bKj0Xjc3T5",
        "colab_type": "text"
      },
      "source": [
        "# IDEA:\n",
        "## Women are less likely than men to choose biking _for commuting_\n",
        "\n",
        "# NULL HYPOTHESIS:\n",
        "## The proportion of men biking on weekends is _the same_ or _higher_  than the proportion of women biking on weekends\n",
        "\n",
        "# _$H_0$_ : $\\frac{W_{\\mathrm{weekend}}}{W_{\\mathrm{total}}} <= \\frac{M_{\\mathrm{weekend}}}{M_{\\mathrm{total}}}$\n",
        "# _$H_1$_ : $\\frac{W_{\\mathrm{weekend}}}{W_{\\mathrm{total}}} > \\frac{M_{\\mathrm{total}}}{M_{\\mathrm{total}}}$\n",
        "\n",
        "or identically:\n",
        "\n",
        "# _$H_0$_ : $\\frac{W_{\\mathrm{weekend}}}{W_{\\mathrm{total}}} - \\frac{M_{\\mathrm{weekend}}}{M_{\\mathrm{total}}} <= 0 $\n",
        "# _$H_1$_ : $\\frac{W_{\\mathrm{weekend}}}{W_{\\mathrm{total}}} - \\frac{M_{\\mathrm{weekend}}}{M_{\\mathrm{total}}} > 0$\n",
        "## I will use a significance level  $\\alpha=0.05$\n",
        "\n",
        "#### which means i want the probability of getting a result at least as significant as mine to be less then 5%"
      ]
    },
    {
      "cell_type": "markdown",
      "metadata": {
        "id": "I-bfLntac3T7",
        "colab_type": "text"
      },
      "source": [
        "## I am starting with a single month of data:  reading data from citibike csv file from May 2019\n",
        "\n",
        "what I want is the date and time of the beginning of each trip. pandas has an easy method to read csv files, and an easy method to convert strinds to dates.\n",
        "\n",
        "if i read a csv file with pandas the content is stored in a \"DataFrame\". You can think of it as a python dictionary in many ways,but it has many added capabilities: it is easy to convert variables within it, it knows how to plot itself, etc."
      ]
    },
    {
      "cell_type": "code",
      "metadata": {
        "id": "TLDKMJbyc3UL",
        "colab_type": "code",
        "colab": {}
      },
      "source": [
        "datestring = '201905'\n",
        "cbMay19 = pd.read_csv(\"https://s3.amazonaws.com/tripdata/\"+ datestring + \"-citibike-tripdata.csv.zip\")"
      ],
      "execution_count": null,
      "outputs": []
    },
    {
      "cell_type": "code",
      "metadata": {
        "id": "c-Xh0btXc3UT",
        "colab_type": "code",
        "colab": {
          "base_uri": "https://localhost:8080/",
          "height": 394
        },
        "outputId": "a755f75a-cca5-4b6a-a5f8-529e7a31fb31"
      },
      "source": [
        "cbMay19.head()"
      ],
      "execution_count": null,
      "outputs": [
        {
          "output_type": "execute_result",
          "data": {
            "text/plain": [
              "   tripduration                 starttime                  stoptime  \\\n",
              "0           139  2019-05-01 00:00:01.9010  2019-05-01 00:02:21.5170   \n",
              "1           754  2019-05-01 00:00:03.0210  2019-05-01 00:12:37.6920   \n",
              "2          2308  2019-05-01 00:00:04.6270  2019-05-01 00:38:33.1710   \n",
              "3           143  2019-05-01 00:00:19.3340  2019-05-01 00:02:42.5200   \n",
              "4           138  2019-05-01 00:00:22.1840  2019-05-01 00:02:40.6480   \n",
              "\n",
              "   start station id         start station name  start station latitude  \\\n",
              "0               447            8 Ave & W 52 St               40.763707   \n",
              "1              3258           W 27 St & 10 Ave               40.750182   \n",
              "2              3093       N 6 St & Bedford Ave               40.717452   \n",
              "3              3486  Schermerhorn St & Bond St               40.688417   \n",
              "4               388           W 26 St & 10 Ave               40.749718   \n",
              "\n",
              "   start station longitude  end station id            end station name  \\\n",
              "0               -73.985162             423             W 54 St & 9 Ave   \n",
              "1               -74.002184            3255             8 Ave & W 31 St   \n",
              "2               -73.958509            3676  Van Brunt St & Van Dyke St   \n",
              "3               -73.984517            3412      Pacific St & Nevins St   \n",
              "4               -74.002950             494             W 26 St & 8 Ave   \n",
              "\n",
              "   end station latitude  end station longitude  bikeid    usertype  \\\n",
              "0             40.765849             -73.986905   31170  Subscriber   \n",
              "1             40.750585             -73.994685   25560    Customer   \n",
              "2             40.675833             -74.014726   33369  Subscriber   \n",
              "3             40.685376             -73.983021   32041  Subscriber   \n",
              "4             40.747348             -73.997236   35237  Subscriber   \n",
              "\n",
              "   birth year  gender  \n",
              "0        1983       1  \n",
              "1        1969       0  \n",
              "2        1978       1  \n",
              "3        1997       1  \n",
              "4        1967       1  "
            ],
            "text/html": [
              "<div>\n",
              "<style scoped>\n",
              "    .dataframe tbody tr th:only-of-type {\n",
              "        vertical-align: middle;\n",
              "    }\n",
              "\n",
              "    .dataframe tbody tr th {\n",
              "        vertical-align: top;\n",
              "    }\n",
              "\n",
              "    .dataframe thead th {\n",
              "        text-align: right;\n",
              "    }\n",
              "</style>\n",
              "<table border=\"1\" class=\"dataframe\">\n",
              "  <thead>\n",
              "    <tr style=\"text-align: right;\">\n",
              "      <th></th>\n",
              "      <th>tripduration</th>\n",
              "      <th>starttime</th>\n",
              "      <th>stoptime</th>\n",
              "      <th>start station id</th>\n",
              "      <th>start station name</th>\n",
              "      <th>start station latitude</th>\n",
              "      <th>start station longitude</th>\n",
              "      <th>end station id</th>\n",
              "      <th>end station name</th>\n",
              "      <th>end station latitude</th>\n",
              "      <th>end station longitude</th>\n",
              "      <th>bikeid</th>\n",
              "      <th>usertype</th>\n",
              "      <th>birth year</th>\n",
              "      <th>gender</th>\n",
              "    </tr>\n",
              "  </thead>\n",
              "  <tbody>\n",
              "    <tr>\n",
              "      <th>0</th>\n",
              "      <td>139</td>\n",
              "      <td>2019-05-01 00:00:01.9010</td>\n",
              "      <td>2019-05-01 00:02:21.5170</td>\n",
              "      <td>447</td>\n",
              "      <td>8 Ave &amp; W 52 St</td>\n",
              "      <td>40.763707</td>\n",
              "      <td>-73.985162</td>\n",
              "      <td>423</td>\n",
              "      <td>W 54 St &amp; 9 Ave</td>\n",
              "      <td>40.765849</td>\n",
              "      <td>-73.986905</td>\n",
              "      <td>31170</td>\n",
              "      <td>Subscriber</td>\n",
              "      <td>1983</td>\n",
              "      <td>1</td>\n",
              "    </tr>\n",
              "    <tr>\n",
              "      <th>1</th>\n",
              "      <td>754</td>\n",
              "      <td>2019-05-01 00:00:03.0210</td>\n",
              "      <td>2019-05-01 00:12:37.6920</td>\n",
              "      <td>3258</td>\n",
              "      <td>W 27 St &amp; 10 Ave</td>\n",
              "      <td>40.750182</td>\n",
              "      <td>-74.002184</td>\n",
              "      <td>3255</td>\n",
              "      <td>8 Ave &amp; W 31 St</td>\n",
              "      <td>40.750585</td>\n",
              "      <td>-73.994685</td>\n",
              "      <td>25560</td>\n",
              "      <td>Customer</td>\n",
              "      <td>1969</td>\n",
              "      <td>0</td>\n",
              "    </tr>\n",
              "    <tr>\n",
              "      <th>2</th>\n",
              "      <td>2308</td>\n",
              "      <td>2019-05-01 00:00:04.6270</td>\n",
              "      <td>2019-05-01 00:38:33.1710</td>\n",
              "      <td>3093</td>\n",
              "      <td>N 6 St &amp; Bedford Ave</td>\n",
              "      <td>40.717452</td>\n",
              "      <td>-73.958509</td>\n",
              "      <td>3676</td>\n",
              "      <td>Van Brunt St &amp; Van Dyke St</td>\n",
              "      <td>40.675833</td>\n",
              "      <td>-74.014726</td>\n",
              "      <td>33369</td>\n",
              "      <td>Subscriber</td>\n",
              "      <td>1978</td>\n",
              "      <td>1</td>\n",
              "    </tr>\n",
              "    <tr>\n",
              "      <th>3</th>\n",
              "      <td>143</td>\n",
              "      <td>2019-05-01 00:00:19.3340</td>\n",
              "      <td>2019-05-01 00:02:42.5200</td>\n",
              "      <td>3486</td>\n",
              "      <td>Schermerhorn St &amp; Bond St</td>\n",
              "      <td>40.688417</td>\n",
              "      <td>-73.984517</td>\n",
              "      <td>3412</td>\n",
              "      <td>Pacific St &amp; Nevins St</td>\n",
              "      <td>40.685376</td>\n",
              "      <td>-73.983021</td>\n",
              "      <td>32041</td>\n",
              "      <td>Subscriber</td>\n",
              "      <td>1997</td>\n",
              "      <td>1</td>\n",
              "    </tr>\n",
              "    <tr>\n",
              "      <th>4</th>\n",
              "      <td>138</td>\n",
              "      <td>2019-05-01 00:00:22.1840</td>\n",
              "      <td>2019-05-01 00:02:40.6480</td>\n",
              "      <td>388</td>\n",
              "      <td>W 26 St &amp; 10 Ave</td>\n",
              "      <td>40.749718</td>\n",
              "      <td>-74.002950</td>\n",
              "      <td>494</td>\n",
              "      <td>W 26 St &amp; 8 Ave</td>\n",
              "      <td>40.747348</td>\n",
              "      <td>-73.997236</td>\n",
              "      <td>35237</td>\n",
              "      <td>Subscriber</td>\n",
              "      <td>1967</td>\n",
              "      <td>1</td>\n",
              "    </tr>\n",
              "  </tbody>\n",
              "</table>\n",
              "</div>"
            ]
          },
          "metadata": {
            "tags": []
          },
          "execution_count": 22
        }
      ]
    },
    {
      "cell_type": "code",
      "metadata": {
        "id": "oFCbtqm_c3UY",
        "colab_type": "code",
        "colab": {
          "base_uri": "https://localhost:8080/",
          "height": 119
        },
        "outputId": "94f3c100-49d6-44a8-c8cf-0174e1da7fbd"
      },
      "source": [
        "cbMay19.columns"
      ],
      "execution_count": null,
      "outputs": [
        {
          "output_type": "execute_result",
          "data": {
            "text/plain": [
              "Index([u'tripduration', u'starttime', u'stoptime', u'start station id',\n",
              "       u'start station name', u'start station latitude',\n",
              "       u'start station longitude', u'end station id', u'end station name',\n",
              "       u'end station latitude', u'end station longitude', u'bikeid',\n",
              "       u'usertype', u'birth year', u'gender'],\n",
              "      dtype='object')"
            ]
          },
          "metadata": {
            "tags": []
          },
          "execution_count": 23
        }
      ]
    },
    {
      "cell_type": "code",
      "metadata": {
        "id": "kzf6FJ4ueuRm",
        "colab_type": "code",
        "colab": {}
      },
      "source": [
        "#add a datetime object\n",
        "cbMay19[\"date\"] = pd.to_datetime(cbMay19.starttime)"
      ],
      "execution_count": null,
      "outputs": []
    },
    {
      "cell_type": "code",
      "metadata": {
        "id": "kAkhVwZKc3Uc",
        "colab_type": "code",
        "colab": {}
      },
      "source": [
        "#clean up\n",
        "cbMay19.drop(['tripduration', 'starttime', 'stoptime', 'start station id',\n",
        "       'start station name', 'start station latitude',\n",
        "       'start station longitude', 'end station id', 'end station name',\n",
        "       'end station latitude', 'end station longitude', 'bikeid', 'usertype',\n",
        "       'birth year'], axis=1, inplace=True)"
      ],
      "execution_count": null,
      "outputs": []
    },
    {
      "cell_type": "code",
      "metadata": {
        "id": "muiMvWLac3Ui",
        "colab_type": "code",
        "colab": {
          "base_uri": "https://localhost:8080/",
          "height": 204
        },
        "outputId": "dc43120f-9410-4a26-ae5a-1010260d0237"
      },
      "source": [
        "cbMay19.head()"
      ],
      "execution_count": null,
      "outputs": [
        {
          "output_type": "execute_result",
          "data": {
            "text/plain": [
              "   gender                    date\n",
              "0       1 2019-05-01 00:00:01.901\n",
              "1       0 2019-05-01 00:00:03.021\n",
              "2       1 2019-05-01 00:00:04.627\n",
              "3       1 2019-05-01 00:00:19.334\n",
              "4       1 2019-05-01 00:00:22.184"
            ],
            "text/html": [
              "<div>\n",
              "<style scoped>\n",
              "    .dataframe tbody tr th:only-of-type {\n",
              "        vertical-align: middle;\n",
              "    }\n",
              "\n",
              "    .dataframe tbody tr th {\n",
              "        vertical-align: top;\n",
              "    }\n",
              "\n",
              "    .dataframe thead th {\n",
              "        text-align: right;\n",
              "    }\n",
              "</style>\n",
              "<table border=\"1\" class=\"dataframe\">\n",
              "  <thead>\n",
              "    <tr style=\"text-align: right;\">\n",
              "      <th></th>\n",
              "      <th>gender</th>\n",
              "      <th>date</th>\n",
              "    </tr>\n",
              "  </thead>\n",
              "  <tbody>\n",
              "    <tr>\n",
              "      <th>0</th>\n",
              "      <td>1</td>\n",
              "      <td>2019-05-01 00:00:01.901</td>\n",
              "    </tr>\n",
              "    <tr>\n",
              "      <th>1</th>\n",
              "      <td>0</td>\n",
              "      <td>2019-05-01 00:00:03.021</td>\n",
              "    </tr>\n",
              "    <tr>\n",
              "      <th>2</th>\n",
              "      <td>1</td>\n",
              "      <td>2019-05-01 00:00:04.627</td>\n",
              "    </tr>\n",
              "    <tr>\n",
              "      <th>3</th>\n",
              "      <td>1</td>\n",
              "      <td>2019-05-01 00:00:19.334</td>\n",
              "    </tr>\n",
              "    <tr>\n",
              "      <th>4</th>\n",
              "      <td>1</td>\n",
              "      <td>2019-05-01 00:00:22.184</td>\n",
              "    </tr>\n",
              "  </tbody>\n",
              "</table>\n",
              "</div>"
            ]
          },
          "metadata": {
            "tags": []
          },
          "execution_count": 26
        }
      ]
    },
    {
      "cell_type": "markdown",
      "metadata": {
        "id": "MNdxEpGHc3Uy",
        "colab_type": "text"
      },
      "source": [
        "### Lets separate males (_m) from females (_w) to test the hypotheses.\n",
        "### In this csv file gender == 1 is male, gender == 2 is female (0 is missing value)\n",
        "\n",
        "### Lets plot the number of trips per week day"
      ]
    },
    {
      "cell_type": "code",
      "metadata": {
        "id": "OdRcsrlNc3U5",
        "colab_type": "code",
        "colab": {
          "base_uri": "https://localhost:8080/",
          "height": 323
        },
        "outputId": "190b248e-201d-4fc6-91e4-f479298234fc"
      },
      "source": [
        "#instad of plotting with matplotlib i.e. plot() i use the plot method in pandas\n",
        "\n",
        "cbMay19_w = cbMay19[cbMay19['gender'] == 2].drop([\"gender\"], axis=1)\n",
        "counts_w = cbMay19_w['date'].groupby([cbMay19_w.date.dt.weekday]).count()\n",
        "\n",
        "ax = counts_w.plot(kind=\"bar\", \n",
        "                                                                        color='IndianRed', \n",
        "                                                                        label='female')\n",
        "cbMay19_m = cbMay19[cbMay19['gender'] == 1].drop([\"gender\"], axis=1)\n",
        "counts_m = cbMay19_m['date'].groupby([cbMay19_m.date.dt.weekday]).count()\n",
        "\n",
        "ax = counts_m.plot(kind=\"bar\", \n",
        "                                                                        color='SteelBlue', \n",
        "                                                                        alpha=0.5,\n",
        "                                                                        label='male', ax=ax)\n",
        "\n",
        "tmp = ax.xaxis.set_ticklabels(['Mon', 'Tue', 'Wed', 'Thu', 'Fri', 'Sat', 'Sun'])\n",
        "plt.legend();\n",
        "plt.title(\"number of rides by gender and day of the week\\nMay 2019\");\n",
        "plt.ylabel(\"number of rides\");"
      ],
      "execution_count": null,
      "outputs": [
        {
          "output_type": "display_data",
          "data": {
            "image/png": "[encoded data removed]",
            "text/plain": [
              "<Figure size 432x288 with 1 Axes>"
            ]
          },
          "metadata": {
            "tags": [],
            "needs_background": "light"
          }
        }
      ]
    },
    {
      "cell_type": "markdown",
      "metadata": {
        "id": "pcfSras_c3U-",
        "colab_type": "text"
      },
      "source": [
        "## Figure 1a: Distribution of Citibike bikers by gender in May 2019, absolute counts"
      ]
    },
    {
      "cell_type": "code",
      "metadata": {
        "id": "WlgfGw7fc3VC",
        "colab_type": "code",
        "colab": {
          "base_uri": "https://localhost:8080/",
          "height": 34
        },
        "outputId": "f21aef12-9b8d-48d0-b70e-ad6adad9ed72"
      },
      "source": [
        "\n",
        "norm_w = len(cbMay19_w)\n",
        "error_w = cbMay19_w[\"date\"][cbMay19_w.date.dt.weekday < 5].groupby(cbMay19_w.date.dt.date).count().std()\n",
        "eweekend_w = cbMay19_w[\"date\"][cbMay19_w.date.dt.weekday >= 5].groupby(cbMay19_w.date.dt.date).count().std()\n",
        "norm_w, error_w, eweekend_w"
      ],
      "execution_count": null,
      "outputs": [
        {
          "output_type": "execute_result",
          "data": {
            "text/plain": [
              "(462613, 3668.692203253557, 6529.945848605047)"
            ]
          },
          "metadata": {
            "tags": []
          },
          "execution_count": 101
        }
      ]
    },
    {
      "cell_type": "code",
      "metadata": {
        "id": "mHj3iV8ZhWi4",
        "colab_type": "code",
        "colab": {
          "base_uri": "https://localhost:8080/",
          "height": 34
        },
        "outputId": "ffba7cdd-5024-49ea-b426-8d65cad271ed"
      },
      "source": [
        "\n",
        "norm_m = len(cbMay19_m)\n",
        "error_m = cbMay19_m[\"date\"][cbMay19_m.date.dt.weekday < 5].groupby(cbMay19_m.date.dt.date).count().std()\n",
        "eweekend_m = cbMay19_m[\"date\"][cbMay19_m.date.dt.weekday >= 5].groupby(cbMay19_m.date.dt.date).count().std()\n",
        "norm_m, error_m, eweekend_m"
      ],
      "execution_count": null,
      "outputs": [
        {
          "output_type": "execute_result",
          "data": {
            "text/plain": [
              "(1293779, 9078.43530575564, 13369.043033921955)"
            ]
          },
          "metadata": {
            "tags": []
          },
          "execution_count": 102
        }
      ]
    },
    {
      "cell_type": "code",
      "metadata": {
        "id": "mS_rU17jhS34",
        "colab_type": "code",
        "colab": {
          "base_uri": "https://localhost:8080/",
          "height": 318
        },
        "outputId": "df8c64c0-ae4b-4109-9926-3c5044851ae8"
      },
      "source": [
        "ax=((counts_w) / norm_w).plot(kind=\"bar\",color='IndianRed', label='women bikers')\n",
        "(counts_m / norm_m).plot(kind=\"bar\", alpha=0.5, \n",
        "                           color='SteelBlue', label='men bikers', ax=ax)\n",
        "ax.xaxis.set_ticklabels(['Mon','Tue','Wed','Thu','Fri','Sat','Sun'], fontsize=20)\n",
        "ax.set_ylabel (\"Number of rides\")\n",
        "ax.set_xlabel (\"Day of the week\")\n",
        "plt.legend();\n"
      ],
      "execution_count": null,
      "outputs": [
        {
          "output_type": "display_data",
          "data": {
            "image/png": "[encoded data removed]",
            "text/plain": [
              "<Figure size 432x288 with 1 Axes>"
            ]
          },
          "metadata": {
            "tags": [],
            "needs_background": "light"
          }
        }
      ]
    },
    {
      "cell_type": "markdown",
      "metadata": {
        "id": "PpzvA4zMc3VT",
        "colab_type": "text"
      },
      "source": [
        "## Figure 2: Distribution of Citibike bikers by gender in May 2019, normalized"
      ]
    },
    {
      "cell_type": "markdown",
      "metadata": {
        "id": "HTcHdUwgc3VT",
        "colab_type": "text"
      },
      "source": [
        "we can add up the weekend days and normalize by the totals, then this becomes a test of proportions, (like the one seen in the [employment notebook](https://github.com/fedhere/UInotebooks/blob/master/hypothesistesting/effectivenes%20of%20NYC%20Post-Prison%20Employment%20Programs.save.ipynb))"
      ]
    },
    {
      "cell_type": "markdown",
      "metadata": {
        "id": "-zeLT9kDc3VU",
        "colab_type": "text"
      },
      "source": [
        "## Set up the test of proportions\n",
        "### I need the fraction of women that bikes during the weekdays and the fraction that bikes during weekends, and the same for men"
      ]
    },
    {
      "cell_type": "code",
      "metadata": {
        "id": "L17v7s_PlXN2",
        "colab_type": "code",
        "colab": {
          "base_uri": "https://localhost:8080/",
          "height": 51
        },
        "outputId": "7842aca8-8328-4c02-8153-ce1fcd89a0c9"
      },
      "source": [
        "week_m"
      ],
      "execution_count": null,
      "outputs": [
        {
          "output_type": "execute_result",
          "data": {
            "text/plain": [
              "date    0.815188\n",
              "dtype: float64"
            ]
          },
          "metadata": {
            "tags": []
          },
          "execution_count": 104
        }
      ]
    },
    {
      "cell_type": "code",
      "metadata": {
        "id": "SuF58t1Nc3VV",
        "colab_type": "code",
        "colab": {
          "base_uri": "https://localhost:8080/",
          "height": 259
        },
        "outputId": "916d6c10-042c-4995-e1db-c6b257b7a52d"
      },
      "source": [
        "fig = plt.figure(figsize=(10,3))\n",
        "ax1 = fig.add_subplot(121)\n",
        "ax2 = fig.add_subplot(122)\n",
        "\n",
        "week_w = sum(counts_w[:-2]) * 1.0 / norm_w  #fraction of women riding on week days\n",
        "weekend_w = sum(counts_w[-2:]) * 1.0 / norm_w  #fraction of women riding on weekends\n",
        "eweek_w = error_w / norm_w  #error on fraction number of women riding on week days\n",
        "eweekend_w = error_w_weekend / norm_w #error on fraction number of women riding on weekends\n",
        "\n",
        "#same nomenclature as above\n",
        "week_m = sum(counts_m[:-2]) * 1.0 / norm_m\n",
        "weekend_m = sum(counts_m[-2:]) * 1.0 / norm_m\n",
        "eweek_m= error_m / norm_m  #error on fraction number of men riding on week days\n",
        "eweekend_m = error_m_weekend / norm_m #error on fraction number of men riding on weekends\n",
        "\n",
        "print(\"Men: week:{0:.3f}, weekend:{1:.3f}, weekend error:{2:.3f}, weekend error:{3:.3f}\"\\\n",
        "      .format(week_m, weekend_m, eweek_m, eweekend_m))\n",
        "print(\"Women: week:{0:.3f}, weekend:{1:.3f}, weekend error:{2:.3f}, weekend error:{3:.3f}\"\\\n",
        "      .format(week_w, weekend_w, eweek_w, eweekend_w))\n",
        "\n",
        "ax1.errorbar([0.4], [week_m], yerr=[eweek_m], fmt='o', label='men')\n",
        "ax1.errorbar([0.2], [week_w], yerr=[eweek_w], fmt='o', label='women')\n",
        "ax1.set_xlim(0, 0.5)\n",
        "ax2.errorbar([0.4], [weekend_m], yerr=[eweekend_m], fmt='o', label='men')\n",
        "ax2.errorbar([0.2], [weekend_w], yerr=[eweekend_w], fmt='o', label='women')\n",
        "ax1.set_xlim(0, 0.5)\n",
        "ax1.set_title(\"week days\")\n",
        "ax2.set_title(\"weekends\")\n",
        "ax2.set_ylabel(\"Fraction of normalized rides by gender\")\n",
        "ax1.set_ylabel(\"Fraction of normalized rides by gender\")\n",
        "ax1.set_xticks([])\n",
        "ax2.set_xticks([])\n",
        "plt.xlim(-0.5, 1.5)\n",
        "plt.legend();"
      ],
      "execution_count": null,
      "outputs": [
        {
          "output_type": "stream",
          "text": [
            "Men: week:0.815, weekend:0.185, weekend error:0.007, weekend error:0.010\n",
            "Women: week:0.777, weekend:0.223, weekend error:0.008, weekend error:0.014\n"
          ],
          "name": "stdout"
        },
        {
          "output_type": "display_data",
          "data": {
            "image/png": "[encoded data removed]",
            "text/plain": [
              "<Figure size 720x216 with 2 Axes>"
            ]
          },
          "metadata": {
            "tags": [],
            "needs_background": "light"
          }
        }
      ]
    },
    {
      "cell_type": "markdown",
      "metadata": {
        "id": "_3Ta2efIc3VY",
        "colab_type": "text"
      },
      "source": [
        "## Figure 3: Fraction of Citibike bikers per gender in May 2019 for week days (left) and weekends (right)"
      ]
    },
    {
      "cell_type": "markdown",
      "metadata": {
        "id": "0CA3MzuQc3VZ",
        "colab_type": "text"
      },
      "source": [
        "### Is the percentage of women that ride on weekends lower or equal to that of man?\n",
        "## The statistics is: \n",
        "# $z = \\frac{(p_0 - p_1)}{SE} $\n",
        "# $p =\\frac{p_0  n_0 + p_1  n_1}{n_0+n_1}$\n",
        "# $SE = \\sqrt{ p  ( 1 - p )  (\\frac{1}{n_0} + \\frac{1}{n_1}) }$\n",
        "## and in this notation \n",
        "# $p_0 = \\frac{W_{\\mathrm{weekend}}}{W_{\\mathrm{total}}}$\n",
        "### and \n",
        "# $p_1 = \\frac{M_{\\mathrm{weekend}}}{M_{\\mathrm{total}}}$\n"
      ]
    },
    {
      "cell_type": "code",
      "metadata": {
        "id": "6V1HV4Dqc3VZ",
        "colab_type": "code",
        "colab": {
          "base_uri": "https://localhost:8080/",
          "height": 51
        },
        "outputId": "4fec662e-dd3b-4de3-9d5f-cac73d5310a4"
      },
      "source": [
        "P0mP1 = weekend_w - weekend_m\n",
        "print (\"difference between man and women on weekend: {:.2f}\".format(P0mP1))\n",
        "if P0mP1 <= 0:\n",
        "    # we are done...\n",
        "    print(\"In accordance with Null Hypothesis\")\n",
        "else:\n",
        "    # morework to do\n",
        "    print (\"We must check the significance before we reject the Null Hypothesis\")"
      ],
      "execution_count": null,
      "outputs": [
        {
          "output_type": "stream",
          "text": [
            "difference between man and women on weekend: 0.04\n",
            "We must check the significance before we reject the Null Hypothesis\n"
          ],
          "name": "stdout"
        }
      ]
    },
    {
      "cell_type": "markdown",
      "metadata": {
        "id": "QiCYIssgc3Vc",
        "colab_type": "text"
      },
      "source": [
        "### Is this difference statistically significant?"
      ]
    },
    {
      "cell_type": "code",
      "metadata": {
        "id": "qhAtxqHjc3Vd",
        "colab_type": "code",
        "colab": {
          "base_uri": "https://localhost:8080/",
          "height": 34
        },
        "outputId": "e8704a5b-20e4-40c9-d9d0-ebadd74ec272"
      },
      "source": [
        "# defining the functions that calculate the statistics\n",
        "# the lambda style definition is NOT APPROVED BY PEP8 and you should avoind it\n",
        "# but I am putting it here since you may encounter it in your coding life.\n",
        "# confront the equation in the markdown cell above with these function to understand as they work\n",
        "\n",
        "def ztest_p(p0, p1, n0, n1): \n",
        "  return (p0 * n0 + p1 * n1) / (n0 + n1)\n",
        "def ztest_se(p0, p1, n0, n1):\n",
        "  p = ztest_p(p0, p1, n0, n1)\n",
        "  return np.sqrt(p * (1 - p) * (1.0 / n0 + 1.0 / n1)) #standard error\n",
        "def zscore(p0, p1, n0, n1) : \n",
        "  return (p0 - p1) / ztest_se(p0, p1, n0, n1)\n",
        "\n",
        "# calculations\n",
        "\n",
        "z = zscore(weekend_w, weekend_m, norm_w, norm_m)\n",
        "print (\"The z statistics is %.2f\"%z) "
      ],
      "execution_count": null,
      "outputs": [
        {
          "output_type": "stream",
          "text": [
            "The z statistics is 55.71\n"
          ],
          "name": "stdout"
        }
      ]
    },
    {
      "cell_type": "markdown",
      "metadata": {
        "id": "ooW3J7vuc3Vg",
        "colab_type": "text"
      },
      "source": [
        "## The largest number reported in  z stats tables is (thpically) 3, which gives  a p value\n",
        "## $p <0.0002$, which is smaller then my chosen $\\alpha=0.05$ - so yes, it is statistically significant (by a lot!)"
      ]
    },
    {
      "cell_type": "markdown",
      "metadata": {
        "id": "PvOZWSxwc3Vi",
        "colab_type": "text"
      },
      "source": [
        "# We reject the Null Hypothesis that man are more likely to commute than women $p< 0.05$\n"
      ]
    },
    {
      "cell_type": "markdown",
      "metadata": {
        "id": "Z0FGKQCec3WY",
        "colab_type": "text"
      },
      "source": [
        "# Let's check the _effect size_: \n",
        "# there are 2 formulae I find in the literature\n",
        "# $r = \\frac{z}{\\sqrt{(n_0+n_1)}}$\n",
        "# and\n",
        "# $h =  2 (\\arcsin \\sqrt{p_0} -  \\arcsin \\sqrt{p_1} )$. https://en.wikipedia.org/wiki/Cohen%27s_h"
      ]
    },
    {
      "cell_type": "code",
      "metadata": {
        "id": "uqt1K2H1c3WY",
        "colab_type": "code",
        "colab": {}
      },
      "source": [
        "def r_effectsize (z, n0, n1) :\n",
        "  return z / np.sqrt(n0 + n0)\n",
        "def h_effectsize (p0, p1): \n",
        "  return 2 * (np.arcsin(np.sqrt(p0)) - np.arcsin(np.sqrt(p1)))"
      ],
      "execution_count": null,
      "outputs": []
    },
    {
      "cell_type": "code",
      "metadata": {
        "id": "4-16b2mRc3Wb",
        "colab_type": "code",
        "colab": {
          "base_uri": "https://localhost:8080/",
          "height": 34
        },
        "outputId": "50ea27a1-876a-4265-8f5f-8378355224fe"
      },
      "source": [
        "r = r_effectsize(z, norm_w, norm_m)\n",
        "print ('r effect size {:.2f}'.format(r))"
      ],
      "execution_count": null,
      "outputs": [
        {
          "output_type": "stream",
          "text": [
            "r effect size 0.06\n"
          ],
          "name": "stdout"
        }
      ]
    },
    {
      "cell_type": "code",
      "metadata": {
        "id": "mRv9PIAAc3Wd",
        "colab_type": "code",
        "colab": {
          "base_uri": "https://localhost:8080/",
          "height": 34
        },
        "outputId": "ffd056d2-eddc-4ad9-f166-bd80f45cd6f1"
      },
      "source": [
        "h = h_effectsize(weekend_w, weekend_m)\n",
        "print (\"Cohen's h effect size {:.2f}\".format(h))"
      ],
      "execution_count": null,
      "outputs": [
        {
          "output_type": "stream",
          "text": [
            "Cohen's h effect size 0.09\n"
          ],
          "name": "stdout"
        }
      ]
    },
    {
      "cell_type": "markdown",
      "metadata": {
        "id": "_6DfLh9cc3Wf",
        "colab_type": "text"
      },
      "source": [
        "# In all these cases we have SMALL EFFECT SIZE"
      ]
    },
    {
      "cell_type": "code",
      "metadata": {
        "id": "FdUeaaLLc3Wf",
        "colab_type": "code",
        "colab": {}
      },
      "source": [
        ""
      ],
      "execution_count": null,
      "outputs": []
    }
  ]
}