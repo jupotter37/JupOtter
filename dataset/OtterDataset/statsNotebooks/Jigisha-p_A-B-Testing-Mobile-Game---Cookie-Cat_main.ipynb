{
 "cells": [
  {
   "cell_type": "markdown",
   "metadata": {},
   "source": [
    "### Installing required packages"
   ]
  },
  {
   "cell_type": "code",
   "execution_count": 1,
   "metadata": {},
   "outputs": [],
   "source": [
    "import warnings\n",
    "warnings.simplefilter(action='ignore')\n",
    "import itertools\n",
    "import numpy as np\n",
    "import pandas as pd\n",
    "import matplotlib.pyplot as plt\n",
    "import seaborn as sns\n",
    "# !pip install statsmodels\n",
    "import statsmodels.stats.api as sms\n",
    "from scipy.stats import ttest_1samp, shapiro, levene, ttest_ind, mannwhitneyu, \\\n",
    "    pearsonr, spearmanr, kendalltau, f_oneway, kruskal\n",
    "from statsmodels.stats.proportion import proportions_ztest\n",
    "\n",
    "pd.set_option('display.max_columns', None)\n",
    "pd.set_option('display.max_rows', 10)\n",
    "pd.set_option('display.width', 500)\n",
    "pd.set_option('display.float_format', lambda x: '%.5f' % x)"
   ]
  },
  {
   "cell_type": "markdown",
   "metadata": {},
   "source": [
    "### Loading the dataset"
   ]
  },
  {
   "cell_type": "code",
   "execution_count": 2,
   "metadata": {},
   "outputs": [
    {
     "data": {
      "text/html": [
       "<div>\n",
       "<style scoped>\n",
       "    .dataframe tbody tr th:only-of-type {\n",
       "        vertical-align: middle;\n",
       "    }\n",
       "\n",
       "    .dataframe tbody tr th {\n",
       "        vertical-align: top;\n",
       "    }\n",
       "\n",
       "    .dataframe thead th {\n",
       "        text-align: right;\n",
       "    }\n",
       "</style>\n",
       "<table border=\"1\" class=\"dataframe\">\n",
       "  <thead>\n",
       "    <tr style=\"text-align: right;\">\n",
       "      <th></th>\n",
       "      <th>userid</th>\n",
       "      <th>version</th>\n",
       "      <th>sum_gamerounds</th>\n",
       "      <th>retention_1</th>\n",
       "      <th>retention_7</th>\n",
       "    </tr>\n",
       "  </thead>\n",
       "  <tbody>\n",
       "    <tr>\n",
       "      <th>0</th>\n",
       "      <td>116</td>\n",
       "      <td>gate_30</td>\n",
       "      <td>3</td>\n",
       "      <td>False</td>\n",
       "      <td>False</td>\n",
       "    </tr>\n",
       "    <tr>\n",
       "      <th>1</th>\n",
       "      <td>337</td>\n",
       "      <td>gate_30</td>\n",
       "      <td>38</td>\n",
       "      <td>True</td>\n",
       "      <td>False</td>\n",
       "    </tr>\n",
       "    <tr>\n",
       "      <th>2</th>\n",
       "      <td>377</td>\n",
       "      <td>gate_40</td>\n",
       "      <td>165</td>\n",
       "      <td>True</td>\n",
       "      <td>False</td>\n",
       "    </tr>\n",
       "    <tr>\n",
       "      <th>3</th>\n",
       "      <td>483</td>\n",
       "      <td>gate_40</td>\n",
       "      <td>1</td>\n",
       "      <td>False</td>\n",
       "      <td>False</td>\n",
       "    </tr>\n",
       "    <tr>\n",
       "      <th>4</th>\n",
       "      <td>488</td>\n",
       "      <td>gate_40</td>\n",
       "      <td>179</td>\n",
       "      <td>True</td>\n",
       "      <td>True</td>\n",
       "    </tr>\n",
       "  </tbody>\n",
       "</table>\n",
       "</div>"
      ],
      "text/plain": [
       "   userid  version  sum_gamerounds  retention_1  retention_7\n",
       "0     116  gate_30               3        False        False\n",
       "1     337  gate_30              38         True        False\n",
       "2     377  gate_40             165         True        False\n",
       "3     483  gate_40               1        False        False\n",
       "4     488  gate_40             179         True         True"
      ]
     },
     "execution_count": 2,
     "metadata": {},
     "output_type": "execute_result"
    }
   ],
   "source": [
    "df1 = pd.read_csv(\"Data/cookie_cats.csv\")\n",
    "df = df1.copy()\n",
    "df.head()"
   ]
  },
  {
   "cell_type": "markdown",
   "metadata": {},
   "source": [
    "### Dataset Overview"
   ]
  },
  {
   "cell_type": "code",
   "execution_count": 3,
   "metadata": {},
   "outputs": [
    {
     "data": {
      "text/html": [
       "<div>\n",
       "<style scoped>\n",
       "    .dataframe tbody tr th:only-of-type {\n",
       "        vertical-align: middle;\n",
       "    }\n",
       "\n",
       "    .dataframe tbody tr th {\n",
       "        vertical-align: top;\n",
       "    }\n",
       "\n",
       "    .dataframe thead th {\n",
       "        text-align: right;\n",
       "    }\n",
       "</style>\n",
       "<table border=\"1\" class=\"dataframe\">\n",
       "  <thead>\n",
       "    <tr style=\"text-align: right;\">\n",
       "      <th></th>\n",
       "      <th>userid</th>\n",
       "      <th>version</th>\n",
       "      <th>sum_gamerounds</th>\n",
       "      <th>retention_1</th>\n",
       "      <th>retention_7</th>\n",
       "    </tr>\n",
       "  </thead>\n",
       "  <tbody>\n",
       "    <tr>\n",
       "      <th>90184</th>\n",
       "      <td>9999441</td>\n",
       "      <td>gate_40</td>\n",
       "      <td>97</td>\n",
       "      <td>True</td>\n",
       "      <td>False</td>\n",
       "    </tr>\n",
       "    <tr>\n",
       "      <th>90185</th>\n",
       "      <td>9999479</td>\n",
       "      <td>gate_40</td>\n",
       "      <td>30</td>\n",
       "      <td>False</td>\n",
       "      <td>False</td>\n",
       "    </tr>\n",
       "    <tr>\n",
       "      <th>90186</th>\n",
       "      <td>9999710</td>\n",
       "      <td>gate_30</td>\n",
       "      <td>28</td>\n",
       "      <td>True</td>\n",
       "      <td>False</td>\n",
       "    </tr>\n",
       "    <tr>\n",
       "      <th>90187</th>\n",
       "      <td>9999768</td>\n",
       "      <td>gate_40</td>\n",
       "      <td>51</td>\n",
       "      <td>True</td>\n",
       "      <td>False</td>\n",
       "    </tr>\n",
       "    <tr>\n",
       "      <th>90188</th>\n",
       "      <td>9999861</td>\n",
       "      <td>gate_40</td>\n",
       "      <td>16</td>\n",
       "      <td>False</td>\n",
       "      <td>False</td>\n",
       "    </tr>\n",
       "  </tbody>\n",
       "</table>\n",
       "</div>"
      ],
      "text/plain": [
       "        userid  version  sum_gamerounds  retention_1  retention_7\n",
       "90184  9999441  gate_40              97         True        False\n",
       "90185  9999479  gate_40              30        False        False\n",
       "90186  9999710  gate_30              28         True        False\n",
       "90187  9999768  gate_40              51         True        False\n",
       "90188  9999861  gate_40              16        False        False"
      ]
     },
     "execution_count": 3,
     "metadata": {},
     "output_type": "execute_result"
    }
   ],
   "source": [
    "df.tail()"
   ]
  },
  {
   "cell_type": "code",
   "execution_count": 4,
   "metadata": {},
   "outputs": [
    {
     "data": {
      "text/plain": [
       "(90189, 5)"
      ]
     },
     "execution_count": 4,
     "metadata": {},
     "output_type": "execute_result"
    }
   ],
   "source": [
    "df.shape"
   ]
  },
  {
   "cell_type": "code",
   "execution_count": 5,
   "metadata": {},
   "outputs": [
    {
     "name": "stdout",
     "output_type": "stream",
     "text": [
      "<class 'pandas.core.frame.DataFrame'>\n",
      "RangeIndex: 90189 entries, 0 to 90188\n",
      "Data columns (total 5 columns):\n",
      " #   Column          Non-Null Count  Dtype \n",
      "---  ------          --------------  ----- \n",
      " 0   userid          90189 non-null  int64 \n",
      " 1   version         90189 non-null  object\n",
      " 2   sum_gamerounds  90189 non-null  int64 \n",
      " 3   retention_1     90189 non-null  bool  \n",
      " 4   retention_7     90189 non-null  bool  \n",
      "dtypes: bool(2), int64(2), object(1)\n",
      "memory usage: 2.2+ MB\n"
     ]
    }
   ],
   "source": [
    "df.info()"
   ]
  },
  {
   "cell_type": "code",
   "execution_count": 6,
   "metadata": {},
   "outputs": [
    {
     "data": {
      "text/html": [
       "<div>\n",
       "<style scoped>\n",
       "    .dataframe tbody tr th:only-of-type {\n",
       "        vertical-align: middle;\n",
       "    }\n",
       "\n",
       "    .dataframe tbody tr th {\n",
       "        vertical-align: top;\n",
       "    }\n",
       "\n",
       "    .dataframe thead th {\n",
       "        text-align: right;\n",
       "    }\n",
       "</style>\n",
       "<table border=\"1\" class=\"dataframe\">\n",
       "  <thead>\n",
       "    <tr style=\"text-align: right;\">\n",
       "      <th></th>\n",
       "      <th>count</th>\n",
       "      <th>mean</th>\n",
       "      <th>std</th>\n",
       "      <th>min</th>\n",
       "      <th>25%</th>\n",
       "      <th>50%</th>\n",
       "      <th>75%</th>\n",
       "      <th>max</th>\n",
       "    </tr>\n",
       "  </thead>\n",
       "  <tbody>\n",
       "    <tr>\n",
       "      <th>userid</th>\n",
       "      <td>90189.00000</td>\n",
       "      <td>4998412.23450</td>\n",
       "      <td>2883285.60770</td>\n",
       "      <td>116.00000</td>\n",
       "      <td>2512230.00000</td>\n",
       "      <td>4995815.00000</td>\n",
       "      <td>7496452.00000</td>\n",
       "      <td>9999861.00000</td>\n",
       "    </tr>\n",
       "    <tr>\n",
       "      <th>sum_gamerounds</th>\n",
       "      <td>90189.00000</td>\n",
       "      <td>51.87246</td>\n",
       "      <td>195.05086</td>\n",
       "      <td>0.00000</td>\n",
       "      <td>5.00000</td>\n",
       "      <td>16.00000</td>\n",
       "      <td>51.00000</td>\n",
       "      <td>49854.00000</td>\n",
       "    </tr>\n",
       "  </tbody>\n",
       "</table>\n",
       "</div>"
      ],
      "text/plain": [
       "                     count          mean           std       min           25%           50%           75%           max\n",
       "userid         90189.00000 4998412.23450 2883285.60770 116.00000 2512230.00000 4995815.00000 7496452.00000 9999861.00000\n",
       "sum_gamerounds 90189.00000      51.87246     195.05086   0.00000       5.00000      16.00000      51.00000   49854.00000"
      ]
     },
     "execution_count": 6,
     "metadata": {},
     "output_type": "execute_result"
    }
   ],
   "source": [
    "df.describe().T"
   ]
  },
  {
   "cell_type": "code",
   "execution_count": 7,
   "metadata": {},
   "outputs": [
    {
     "data": {
      "text/plain": [
       "userid            0\n",
       "version           0\n",
       "sum_gamerounds    0\n",
       "retention_1       0\n",
       "retention_7       0\n",
       "dtype: int64"
      ]
     },
     "execution_count": 7,
     "metadata": {},
     "output_type": "execute_result"
    }
   ],
   "source": [
    "df.isnull().sum()"
   ]
  },
  {
   "cell_type": "markdown",
   "metadata": {},
   "source": [
    "### Descriptive Statistics\n",
    "Our two groups are 'gate30' and 'gate40' since we will do the A/B test according to our business problem. Accordingly, let's get to know our data more closely."
   ]
  },
  {
   "cell_type": "code",
   "execution_count": 8,
   "metadata": {},
   "outputs": [
    {
     "data": {
      "text/html": [
       "<div>\n",
       "<style scoped>\n",
       "    .dataframe tbody tr th:only-of-type {\n",
       "        vertical-align: middle;\n",
       "    }\n",
       "\n",
       "    .dataframe tbody tr th {\n",
       "        vertical-align: top;\n",
       "    }\n",
       "\n",
       "    .dataframe thead th {\n",
       "        text-align: right;\n",
       "    }\n",
       "</style>\n",
       "<table border=\"1\" class=\"dataframe\">\n",
       "  <thead>\n",
       "    <tr style=\"text-align: right;\">\n",
       "      <th></th>\n",
       "      <th>userid</th>\n",
       "    </tr>\n",
       "    <tr>\n",
       "      <th>version</th>\n",
       "      <th></th>\n",
       "    </tr>\n",
       "  </thead>\n",
       "  <tbody>\n",
       "    <tr>\n",
       "      <th>gate_30</th>\n",
       "      <td>44700</td>\n",
       "    </tr>\n",
       "    <tr>\n",
       "      <th>gate_40</th>\n",
       "      <td>45489</td>\n",
       "    </tr>\n",
       "  </tbody>\n",
       "</table>\n",
       "</div>"
      ],
      "text/plain": [
       "         userid\n",
       "version        \n",
       "gate_30   44700\n",
       "gate_40   45489"
      ]
     },
     "execution_count": 8,
     "metadata": {},
     "output_type": "execute_result"
    }
   ],
   "source": [
    "# Number of unique players in groups A and B.\n",
    "\n",
    "df.groupby(\"version\")[[\"userid\"]].nunique()"
   ]
  },
  {
   "cell_type": "code",
   "execution_count": 9,
   "metadata": {},
   "outputs": [
    {
     "data": {
      "text/html": [
       "<div>\n",
       "<style scoped>\n",
       "    .dataframe tbody tr th:only-of-type {\n",
       "        vertical-align: middle;\n",
       "    }\n",
       "\n",
       "    .dataframe tbody tr th {\n",
       "        vertical-align: top;\n",
       "    }\n",
       "\n",
       "    .dataframe thead tr th {\n",
       "        text-align: left;\n",
       "    }\n",
       "\n",
       "    .dataframe thead tr:last-of-type th {\n",
       "        text-align: right;\n",
       "    }\n",
       "</style>\n",
       "<table border=\"1\" class=\"dataframe\">\n",
       "  <thead>\n",
       "    <tr>\n",
       "      <th></th>\n",
       "      <th colspan=\"3\" halign=\"left\">sum_gamerounds</th>\n",
       "    </tr>\n",
       "    <tr>\n",
       "      <th></th>\n",
       "      <th>mean</th>\n",
       "      <th>max</th>\n",
       "      <th>count</th>\n",
       "    </tr>\n",
       "    <tr>\n",
       "      <th>version</th>\n",
       "      <th></th>\n",
       "      <th></th>\n",
       "      <th></th>\n",
       "    </tr>\n",
       "  </thead>\n",
       "  <tbody>\n",
       "    <tr>\n",
       "      <th>gate_30</th>\n",
       "      <td>52.45626</td>\n",
       "      <td>49854</td>\n",
       "      <td>44700</td>\n",
       "    </tr>\n",
       "    <tr>\n",
       "      <th>gate_40</th>\n",
       "      <td>51.29878</td>\n",
       "      <td>2640</td>\n",
       "      <td>45489</td>\n",
       "    </tr>\n",
       "  </tbody>\n",
       "</table>\n",
       "</div>"
      ],
      "text/plain": [
       "        sum_gamerounds              \n",
       "                  mean    max  count\n",
       "version                             \n",
       "gate_30       52.45626  49854  44700\n",
       "gate_40       51.29878   2640  45489"
      ]
     },
     "execution_count": 9,
     "metadata": {},
     "output_type": "execute_result"
    }
   ],
   "source": [
    "df.groupby(\"version\").agg({\"sum_gamerounds\" : [\"mean\",\"max\",\"count\"]})"
   ]
  },
  {
   "cell_type": "code",
   "execution_count": 10,
   "metadata": {},
   "outputs": [
    {
     "data": {
      "text/plain": [
       "<Axes: xlabel='version', ylabel='count'>"
      ]
     },
     "execution_count": 10,
     "metadata": {},
     "output_type": "execute_result"
    },
    {
     "data": {
      "image/png": "[encoded data removed]",
      "text/plain": [
       "<Figure size 640x480 with 1 Axes>"
      ]
     },
     "metadata": {},
     "output_type": "display_data"
    }
   ],
   "source": [
    "df.groupby(\"version\")[\"sum_gamerounds\"].count()\n",
    "sns.countplot(x=\"version\",palette=\"Paired\",data=df)"
   ]
  },
  {
   "cell_type": "code",
   "execution_count": 11,
   "metadata": {},
   "outputs": [
    {
     "data": {
      "text/plain": [
       "<Axes: xlabel='version'>"
      ]
     },
     "execution_count": 11,
     "metadata": {},
     "output_type": "execute_result"
    },
    {
     "data": {
      "image/png": "[encoded data removed]",
      "text/plain": [
       "<Figure size 640x480 with 1 Axes>"
      ]
     },
     "metadata": {},
     "output_type": "display_data"
    }
   ],
   "source": [
    "df.groupby(\"version\")[\"sum_gamerounds\"].mean().plot(kind=\"bar\", color=[ \"red\", \"cyan\"])"
   ]
  },
  {
   "cell_type": "markdown",
   "metadata": {},
   "source": [
    "If we interpret the results, the average number of game rounds seems to be more for 'gate30'. But what if it happened by chance?"
   ]
  },
  {
   "cell_type": "markdown",
   "metadata": {},
   "source": [
    "# A/B Testing\n",
    "<Img src=\"Images/AB.png\">\n",
    "\n",
    "### What is A/B Testing?\n",
    "A/B testing, also known as split testing, is a method of comparing two versions of a web page or app against each other to determine which one performs better. It is a common practice used in marketing, product development, and user experience optimization to make data-driven decisions and improve overall performance.\n",
    "\n",
    "### Why is A/B Testing done?\n",
    "The primary purpose of A/B testing is to identify which variation (A or B) of a web page or app produces better results in terms of a specific key performance indicator (KPI). This could be anything from click-through rates, conversion rates, user engagement, or any other measurable metric that aligns with the organization's goals. By comparing two versions under controlled conditions, businesses can gather objective data and make informed decisions to improve their digital assets and achieve better outcomes.\n",
    "\n",
    "### A/B Test Phases\n",
    "To apply the A/B Testing for the dataset we should have follow the fundamental steps according to literature of the A/B Testing. These steps can be seen below:\n",
    "\n",
    "- Hypothesis\n",
    "- Assumptions Control\n",
    "- Apply of the Hyphothesis\n",
    "\n",
    "##### 1. Hypothesis\n",
    "The hypothesis stage of A/B testing is the stage where the underlying hypothesis of the test is determined and the purpose of the experiment is clearly defined.\n",
    "<br>\n",
    "According to the literature, the A/B test has two hypotheses, H0 and H1. Let us explain these hypotheses.\n",
    "<br>\n",
    "<B>H0 : null hypothesis\n",
    "<br>\n",
    "H1 : alternative hypothesis</B>\n",
    "<br>\n",
    "The hypothesis we want to test is whether H1 is true with probability.\n",
    "<br>\n",
    "\n",
    "<b>Attention!</b>\n",
    "\n",
    "“H0 hypothesis is rejected” or “H0 hypothesis cannot be rejected”. Therefore, an interpretation such as \"H0 hypothesis is accepted\" or \"H1 hypothesis is accepted\" cannot be made.\n",
    "\n",
    "H0: \"There is no statistically significant difference between 'gate30' and 'gate40'. \"\n",
    "##### 2.Assumptions Control\n",
    "<b>2.1 Normal Distribution</b>\n",
    "<br>\n",
    "The normality assumption is based on the assumption that the data have a normal distribution. The normal distribution is a type of distribution in which the data are distributed in the form of a bell curve, symmetrical with its mean and variability with its standard deviation.\n",
    "<br><br>\n",
    "The assumption of normality in A/B tests is especially important so that parametric tests (for example, independent two-sample t-test) can produce accurate results. Parametric tests work on the assumption that the data fit a normal distribution, and the validity of this assumption increases the reliability of the results.\n",
    "<br><br>\n",
    "Various methods can be used to evaluate whether the normality assumption is valid. The Shapiro-Wilk Test is also a statistical method that tests the conformity of the data to the normal distribution. The H0 hypothesis states that the data have a normal distribution.\n",
    "<br><br>\n",
    "If the data do not satisfy the assumption of normality, alternative methods such as non-parametric tests (for example, Mann-Whitney U test) or transformation of the data can be used. Non-parametric tests are statistical methods that can work with data that do not satisfy the assumption of normality.\n",
    "\n",
    "##### H0 : The assumption of normal distribution is provided.\n",
    "##### H1 : The assumption of normal distribution is not provided.\n",
    "##### p-value < 0.05 => H0 -> Reject\n",
    "##### p-value > 0.05 => H0 -> Cannot Reject"
   ]
  },
  {
   "cell_type": "code",
   "execution_count": 12,
   "metadata": {},
   "outputs": [
    {
     "name": "stdout",
     "output_type": "stream",
     "text": [
      "Test Stat = 0.0881, p-value = 0.0000\n"
     ]
    }
   ],
   "source": [
    "# gate30\n",
    "\n",
    "test_stat, pvalue = shapiro(df.loc[df[\"version\"] == \"gate_30\", \"sum_gamerounds\"])\n",
    "print(\"Test Stat = %.4f, p-value = %.4f\" % (test_stat, pvalue))"
   ]
  },
  {
   "cell_type": "code",
   "execution_count": 13,
   "metadata": {},
   "outputs": [
    {
     "name": "stdout",
     "output_type": "stream",
     "text": [
      "Test Stat = 0.4826, p-value = 0.0000\n"
     ]
    }
   ],
   "source": [
    "# gate40\n",
    "\n",
    "test_stat, pvalue = shapiro(df.loc[df[\"version\"] == \"gate_40\", \"sum_gamerounds\"])\n",
    "print(\"Test Stat = %.4f, p-value = %.4f\" % (test_stat, pvalue))"
   ]
  },
  {
   "cell_type": "code",
   "execution_count": 14,
   "metadata": {},
   "outputs": [],
   "source": [
    "# In both cases, p-value = 0. The normality assumption was rejected because it was less than 0.05."
   ]
  },
  {
   "cell_type": "markdown",
   "metadata": {},
   "source": [
    "<b>2.2 Variance Homogeneity Assumption</b>\n",
    "\n",
    "<br>In statistical methods such as A/B testing, the assumption of homogeneity of variance is based on the assumption that data distributions between two or more groups have the same or similar variance. This assumption refers to the situation where the data of the groups show homogeneous and similar variability.\n",
    "<br><br>\n",
    "Homogeneity of variance is especially important in parametric tests such as ANOVA (Analysis of Variance) and independent two-sample t-test. These tests produce more reliable results when the data conform to the assumption of homogeneity of variance. If the assumption of homogeneity of variance is not valid, alternative test methods or transformations can be used.\n",
    "<br><br>\n",
    "Various methods can be used to control and evaluate variance homogeneity. Levene's test is a statistical test that evaluates whether the variances of the groups are homogeneous. The H0 hypothesis states that the variances of the groups are homogeneous.\n",
    "<br><br>\n",
    "##### H0 : The variance is homogeneous.\n",
    "##### H1 : The variance is not homogeneous.\n",
    "##### p-value < 0.05 => H0 -> Reject\n",
    "##### p-value > 0.05 => H0 -> Cannot Reject"
   ]
  },
  {
   "cell_type": "code",
   "execution_count": 15,
   "metadata": {},
   "outputs": [
    {
     "name": "stdout",
     "output_type": "stream",
     "text": [
      "Test Stat = 0.5292, p-value = 0.4669\n"
     ]
    }
   ],
   "source": [
    "test_stat, pvalue = levene(df.loc[df[\"version\"] == \"gate_30\", \"sum_gamerounds\"],\n",
    "                            df.loc[df[\"version\"] == \"gate_40\", \"sum_gamerounds\"])\n",
    "print(\"Test Stat = %.4f, p-value = %.4f\" % (test_stat, pvalue))"
   ]
  },
  {
   "cell_type": "code",
   "execution_count": 16,
   "metadata": {},
   "outputs": [],
   "source": [
    "# H0 cannot be rejected because the p-value is greater than 0.05."
   ]
  },
  {
   "cell_type": "markdown",
   "metadata": {},
   "source": [
    "##### 3. Apply of the Hyphothesis\n",
    "<br><br>\n",
    "If the normality assumption is rejected for the A/B test, but the variance homogeneity assumption is satisfied, then it is recommended to use non-parametric test methods.\n",
    "<br><br>\n",
    "Non-parametric tests are statistical tests used when data do not satisfy the normality assumption or do not comply with other assumptions.\n",
    "<br><br>\n",
    "The <b>Mann-Whitney U Test</b> is a test used to compare two independent groups. If the homogeneity of variance assumption is not met, Welch's t-test can be used instead.\n",
    "<br><br>\n",
    "##### p-value < 0.05 => H0 -> Reject\n",
    "##### p-value > 0.05 => H0 -> Cannot Reject"
   ]
  },
  {
   "cell_type": "code",
   "execution_count": 17,
   "metadata": {},
   "outputs": [
    {
     "name": "stdout",
     "output_type": "stream",
     "text": [
      "Test Stat = 1024331250.5000, p-value = 0.0502\n"
     ]
    }
   ],
   "source": [
    "test_stat, pvalue = mannwhitneyu(df.loc[df[\"version\"] == \"gate_30\", \"sum_gamerounds\"],\n",
    "                            df.loc[df[\"version\"] == \"gate_40\", \"sum_gamerounds\"])\n",
    "print(\"Test Stat = %.4f, p-value = %.4f\" % (test_stat, pvalue))"
   ]
  },
  {
   "cell_type": "code",
   "execution_count": 18,
   "metadata": {},
   "outputs": [],
   "source": [
    "# H0 cannot be rejected because the p-value is greater than 0.05.\n",
    "# That is, there is no statistically significant difference between 'gate30' and 'gate40' with 95% confidence. Therefore, the result came about by chance."
   ]
  },
  {
   "cell_type": "markdown",
   "metadata": {},
   "source": [
    "#### Summary\n",
    "In this notebook work, we tried to understand the business problem for Cookie Cats Games. The company was undecided about where to place the door in the game. We decided to analyze how the location of this door affects the continuation of their earnings. First of all, we got to know the dataset. Afterwards, we made a short analysis between the variables. At the end of this analysis, gate30 seemed to be more advantageous. But we needed to prove it statistically. We formed our H0 hypothesis and said 'there is no statistically significant difference between these two doors'. We then used the shapiro test for the assumption of normality and the levene test for homogeneity of variance. We used the non-parametric Mann-Whitney U Test as the normality assumption was rejected. As a result, we can say that there is no statistically significant difference between these two doors with 95% confidence. Therefore, the company can continue to use gate30."
   ]
  }
 ],
 "metadata": {
  "kernelspec": {
   "display_name": "ABTest",
   "language": "python",
   "name": "python3"
  },
  "language_info": {
   "codemirror_mode": {
    "name": "ipython",
    "version": 3
   },
   "file_extension": ".py",
   "mimetype": "text/x-python",
   "name": "python",
   "nbconvert_exporter": "python",
   "pygments_lexer": "ipython3",
   "version": "3.10.6"
  }
 },
 "nbformat": 4,
 "nbformat_minor": 2
}
