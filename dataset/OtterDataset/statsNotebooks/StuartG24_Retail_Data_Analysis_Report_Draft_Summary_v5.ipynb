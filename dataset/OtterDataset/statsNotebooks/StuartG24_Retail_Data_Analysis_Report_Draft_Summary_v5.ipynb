{
 "cells": [
  {
   "cell_type": "markdown",
   "metadata": {},
   "source": [
    "# Summary\n",
    "- ?? high-level summary of conclusions\n",
    "- ?? report objectives etc??\n",
    "\n",
    "\n"
   ]
  },
  {
   "cell_type": "markdown",
   "metadata": {},
   "source": [
    "# Objectives & Approach\n",
    "\n",
    "This report describes the findings from an analysis of sales review data for the major US retail chain, JCPenney. It is the final assignment for the module ITNPBD2 - Representing and Manipulating Data.  This analysis uses the five datasets provided, with some supplementary data to augment.\n",
    "\n",
    "The report is structured into four sections:\n",
    "\n",
    "- Summary\n",
    "- Data Collation, Exploration & Preparation\n",
    "- Data Analysis\n",
    "- Conclusions\n",
    "\n",
    "## Approach\n",
    "\n",
    "This is intended primarily as a business report to identify and make recommendations for improvements; with appropriate supporting evidence. In addition, there is a need to meet the additional assignment objectives of:\n",
    "\n",
    "- Demonstrate that a data science process (here CRISP-DM) has been followed\n",
    "- Demonstrate the use of Python for data manipulation and analysis\n",
    "\n",
    "However, once the analysis commenced it quickly became evident that two challenges needed to be addressed. The first is that trying to produce a single PDF report with commentary, Python code and runtime output would result in a very long and difficult to read artefact. The second challenge was that a brief examination of the data using Data Wrangler (Microsoft, 2023) quickly revealed that the data was of very poor quality and would make any meaningful business conclusions possibly meaningless.\n",
    "\n",
    "As a result, the following approach has been taken:\n",
    "\n",
    "- Focus on the data preparation part of the process and make recommendations on areas to improve\n",
    "- Carry out some limited business analysis, but really to demonstrate techniques and not make any business recommendations\n",
    "- From a process and coding perspective, establish a set of processes that can be reused when better quality source data can be provided\n",
    "\n",
    "And in terms of assignment documents:\n",
    "\n",
    "- Submit a report PDF with limited Python code\n",
    "- Submit the set of Jupyter Notebooks used to produce the above\n",
    "\n",
    "## CRISP-DM\n",
    "\n",
    "The approach to the analysis follows the first four parts of the six stage \"CRoss-Industry Standard Process for Data Mining' (CRISP-DM) process (Ncr et al., 1999), (Hotz, 2024). In summary, this process is:\n",
    "\n",
    "1. Business Understanding: Define project objectives and requirements by collaborating with stakeholders\n",
    "2. Data Understanding: Collect and explore data, analysing its characteristics and quality\n",
    "3. Data Preparation: Clean, handle missing values, and transform variables to create a structured dataset\n",
    "4. Modelling: Apply various techniques such as machine learning algorithms or statistical models to the prepared data\n",
    "5. Evaluation: Rigorously assess models based on predefined criteria, including performance and reliability\n",
    "6. Deployment: Integrate successful models into existing systems and monitor their effectiveness\n",
    "\n",
    "## Who Are JCPenney?\n",
    "\n",
    "JCPenney (JCP) is a major North American department store chain [Wikipedia](https://en.wikipedia.org/wiki/JCPenney), operating as Penney OpCo LLC. JCP has 656 stores in 49 states plus Puerto Rico according to the [JCP Store Locator](https://www.jcpenney.com/locations/index.html). \n",
    "\n",
    "In 2020, JCP filed for bankruptcy and were purchased by an asset management company, a large number of stores were also closed. Later, in August 2023, JCP announced a major turnaround plan to replace its current website and inventory management systems, as well as make major upgrades to its retails stores (ModernRetail, 2023).\n"
   ]
  },
  {
   "cell_type": "markdown",
   "metadata": {},
   "source": [
    "# Conclusions\n",
    "\n"
   ]
  },
  {
   "cell_type": "markdown",
   "metadata": {},
   "source": [
    "# References\n",
    "\n",
    "Microsoft (2023) https://devblogs.microsoft.com/python/data-wrangler-release/\n",
    "\n",
    "Ncr, P.C. et al. (1999) ‘CRISP-DM 1.0’ \n",
    "\n",
    "Hotz (2024) https://www.datascience-pm.com/crisp-dm-2/\n",
    "\n",
    "Modern Retail (2023) https://www.modernretail.co/operations/jcpenney-is-the-latest-department-store-to-announce-a-major-turnaround-plan/\n",
    "\n",
    "\n",
    "\n",
    "xxxx\n",
    "\n",
    "Spiegel, M.R. and Schiller, J. (2012) Schaum’s Outline Probability and Statistics. 4th edn. McGraw Hill.\n",
    "\n",
    "\n",
    "\n"
   ]
  }
 ],
 "metadata": {
  "kernelspec": {
   "display_name": "base",
   "language": "python",
   "name": "python3"
  },
  "language_info": {
   "codemirror_mode": {
    "name": "ipython",
    "version": 3
   },
   "file_extension": ".py",
   "mimetype": "text/x-python",
   "name": "python",
   "nbconvert_exporter": "python",
   "pygments_lexer": "ipython3",
   "version": "3.12.4"
  }
 },
 "nbformat": 4,
 "nbformat_minor": 2
}
