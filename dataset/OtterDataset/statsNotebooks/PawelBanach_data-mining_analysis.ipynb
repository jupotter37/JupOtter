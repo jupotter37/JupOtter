{
 "cells": [
  {
   "cell_type": "code",
   "execution_count": 3,
   "metadata": {},
   "outputs": [
    {
     "name": "stderr",
     "output_type": "stream",
     "text": [
      "/home/michal/modules/anaconda3/envs/py36/lib/python3.6/site-packages/IPython/core/interactiveshell.py:3018: DtypeWarning: Columns (5) have mixed types. Specify dtype option on import or set low_memory=False.\n",
      "  interactivity=interactivity, compiler=compiler, result=result)\n"
     ]
    }
   ],
   "source": [
    "import itertools\n",
    "from collections import Counter\n",
    "import pandas as pd\n",
    "\n",
    "journal_summary = pd.read_csv('./scimagojr 2017.csv', sep=';')\n",
    "categories_journal = []\n",
    "for index, row in journal_summary.iterrows():\n",
    "    categories_journal.append([row[\"Title\"], row[\"Categories\"].replace(\" (Q1)\", \"\").replace(\" (Q2)\", \"\")\n",
    "                               .replace(\" (Q3)\", \"\").replace(\" (Q4)\", \"\").strip()])\n",
    "categories_journal;\n"
   ]
  },
  {
   "cell_type": "code",
   "execution_count": 4,
   "metadata": {},
   "outputs": [],
   "source": [
    "def get_journal_category(journal_name):\n",
    "    for journal in categories_journal:\n",
    "        if journal[0] == journal_name:\n",
    "            return journal[1].split(\";\")"
   ]
  },
  {
   "cell_type": "code",
   "execution_count": 3,
   "metadata": {},
   "outputs": [
    {
     "data": {
      "text/plain": [
       "['Hardware and Architecture',\n",
       " ' Computer Networks and Communications',\n",
       " ' Software']"
      ]
     },
     "execution_count": 3,
     "metadata": {},
     "output_type": "execute_result"
    }
   ],
   "source": [
    "get_journal_category('World Wide Web')\n"
   ]
  },
  {
   "cell_type": "code",
   "execution_count": 5,
   "metadata": {},
   "outputs": [
    {
     "name": "stdout",
     "output_type": "stream",
     "text": [
      "0 [('Electrical and Electronic Engineering', 7), ('Software', 6), ('Artificial Intelligence', 6), ('Computer Networks and Communications', 5), ('Computer Science Applications', 5), ('Information Systems', 3), ('Biochemistry', 3), ('Cognitive Neuroscience', 3), ('Molecular Biology', 3), ('Computer Vision and Pattern Recognition', 3)]\n",
      "1 [('Software', 12), ('Computer Science Applications', 12), ('Electrical and Electronic Engineering', 10), ('Hardware and Architecture', 6), ('Computer Networks and Communications', 6), ('Control and Systems Engineering', 5), ('Artificial Intelligence', 5), ('Cognitive Neuroscience', 4), ('Modeling and Simulation', 4), ('Computer Vision and Pattern Recognition', 4)]\n",
      "2 [('Software', 11), ('Computer Networks and Communications', 10), ('Hardware and Architecture', 7), ('Electrical and Electronic Engineering', 7), ('Computer Science Applications', 6), ('Information Systems', 4), ('Computer Science (miscellaneous)', 3), ('Biochemistry', 3), ('Computational Theory and Mathematics', 3), ('Molecular Biology', 3)]\n",
      "3 [('Electrical and Electronic Engineering', 18), ('Computer Networks and Communications', 13), ('Computer Science Applications', 9), ('Information Systems', 7), ('Software', 6), ('Hardware and Architecture', 4), ('Signal Processing', 4), ('Biochemistry', 3), ('Control and Systems Engineering', 3), ('Modeling and Simulation', 2)]\n",
      "4 [('Software', 12), ('Artificial Intelligence', 9), ('Cognitive Neuroscience', 7), ('Computer Vision and Pattern Recognition', 7), ('Computer Science Applications', 7), ('Modeling and Simulation', 4), ('Molecular Biology', 4), ('Applied Mathematics', 4), ('Signal Processing', 4), ('Health Informatics', 3)]\n",
      "5 [('Software', 10), ('Computer Networks and Communications', 5), ('Computer Science Applications', 5), ('Electrical and Electronic Engineering', 4), ('Hardware and Architecture', 3), ('Biochemistry', 3), ('Molecular Biology', 3), ('Modeling and Simulation', 3), ('Information Systems', 2), ('Computer Science (miscellaneous)', 2)]\n",
      "6 [('Artificial Intelligence', 17), ('Software', 13), ('Computer Science Applications', 7), ('Language and Linguistics', 6), ('Linguistics and Language', 6), ('Computer Vision and Pattern Recognition', 6), ('Cognitive Neuroscience', 5), ('Signal Processing', 4), ('Statistics and Probability', 3), ('Biochemistry', 3)]\n",
      "7 [('Software', 7), ('Applied Mathematics', 7), ('Theoretical Computer Science', 6), ('Management Science and Operations Research', 6), ('Computer Science Applications', 6), ('Discrete Mathematics and Combinatorics', 5), ('Computational Mathematics', 5), ('Computational Theory and Mathematics', 5), ('Molecular Biology', 4), ('Information Systems', 3)]\n",
      "8 [('Software', 12), ('Applied Mathematics', 7), ('Hardware and Architecture', 6), ('Computer Science Applications', 6), ('Theoretical Computer Science', 5), ('Computational Mathematics', 5), ('Computer Science (miscellaneous)', 5), ('Computer Networks and Communications', 4), ('Molecular Biology', 4), ('Modeling and Simulation', 4)]\n",
      "9 [('Electrical and Electronic Engineering', 11), ('Computer Science Applications', 9), ('Software', 8), ('Computer Networks and Communications', 7), ('Information Systems', 6), ('Artificial Intelligence', 5), ('Atomic and Molecular Physics, and Optics', 3), ('Biochemistry', 3), ('Computer Vision and Pattern Recognition', 3), ('Signal Processing', 3)]\n",
      "10 [('Computer Science Applications', 11), ('Molecular Biology', 9), ('Computational Mathematics', 7), ('Computational Theory and Mathematics', 7), ('Software', 7), ('Artificial Intelligence', 7), ('Genetics', 5), ('Biochemistry', 5), ('Information Systems', 4), ('Applied Mathematics', 4)]\n",
      "11 [('Electrical and Electronic Engineering', 14), ('Computer Science Applications', 12), ('Software', 11), ('Computer Networks and Communications', 11), ('Information Systems', 6), ('Control and Systems Engineering', 5), ('Hardware and Architecture', 4), ('Artificial Intelligence', 4), ('Atomic and Molecular Physics, and Optics', 3), ('Biochemistry', 3)]\n",
      "12 [('Electrical and Electronic Engineering', 11), ('Software', 7), ('Hardware and Architecture', 6), ('Computer Science Applications', 6), ('Computer Networks and Communications', 4), ('Modeling and Simulation', 4), ('Atomic and Molecular Physics, and Optics', 3), ('Biochemistry', 3), ('Cognitive Neuroscience', 3), ('Artificial Intelligence', 3)]\n",
      "13 [('Information Systems', 11), ('Computer Science Applications', 7), ('Computer Networks and Communications', 6), ('Library and Information Sciences', 6), ('Management of Technology and Innovation', 6), ('Software', 5), ('Management Science and Operations Research', 5), ('Strategy and Management', 5), ('Economics and Econometrics', 5), ('Information Systems and Management', 4)]\n",
      "14 [('Software', 14), ('Computer Vision and Pattern Recognition', 8), ('Artificial Intelligence', 7), ('Computer Graphics and Computer-Aided Design', 6), ('Computer Science Applications', 6), ('Cognitive Neuroscience', 5), ('Modeling and Simulation', 4), ('Signal Processing', 4), ('Computational Mathematics', 4), ('Biochemistry', 3)]\n",
      "15 [('Software', 12), ('Computer Science Applications', 9), ('Artificial Intelligence', 7), ('Computer Networks and Communications', 6), ('Electrical and Electronic Engineering', 4), ('Molecular Biology', 4), ('Applied Mathematics', 4), ('Engineering (miscellaneous)', 4), ('Information Systems', 3), ('Hardware and Architecture', 3)]\n",
      "16 [('Software', 10), ('Computer Science Applications', 10), ('Electrical and Electronic Engineering', 8), ('Modeling and Simulation', 6), ('Artificial Intelligence', 6), ('Information Systems', 4), ('Hardware and Architecture', 4), ('Geography, Planning and Development', 4), ('Applied Mathematics', 4), ('Signal Processing', 4)]\n",
      "17 [('Software', 12), ('Computer Science Applications', 11), ('Human-Computer Interaction', 9), ('Computer Networks and Communications', 6), ('Artificial Intelligence', 5), ('Information Systems', 4), ('Computational Theory and Mathematics', 4), ('Molecular Biology', 4), ('Biochemistry', 3), ('Electrical and Electronic Engineering', 3)]\n",
      "18 [('Software', 12), ('Computer Networks and Communications', 10), ('Electrical and Electronic Engineering', 10), ('Computer Science Applications', 7), ('Artificial Intelligence', 6), ('Information Systems', 5), ('Hardware and Architecture', 4), ('Modeling and Simulation', 4), ('Computer Vision and Pattern Recognition', 3), ('Signal Processing', 3)]\n",
      "19 [('Software', 12), ('Artificial Intelligence', 12), ('Computer Science Applications', 8), ('Control and Systems Engineering', 6), ('Cognitive Neuroscience', 6), ('Electrical and Electronic Engineering', 4), ('Computer Networks and Communications', 3), ('Biochemistry', 3), ('Mathematics (miscellaneous)', 3), ('Computational Mathematics', 3)]\n",
      "20 [('Software', 13), ('Artificial Intelligence', 11), ('Computer Science Applications', 10), ('Control and Systems Engineering', 7), ('Cognitive Neuroscience', 7), ('Electrical and Electronic Engineering', 5), ('Computer Vision and Pattern Recognition', 4), ('Biochemistry', 3), ('Human-Computer Interaction', 3), ('Molecular Biology', 3)]\n",
      "21 [('Electrical and Electronic Engineering', 12), ('Software', 8), ('Computer Science Applications', 7), ('Computer Networks and Communications', 5), ('Hardware and Architecture', 4), ('Atomic and Molecular Physics, and Optics', 3), ('Biochemistry', 3), ('Computational Mathematics', 3), ('Molecular Biology', 3), ('Applied Mathematics', 3)]\n",
      "22 [('Software', 12), ('Computer Science Applications', 11), ('Control and Systems Engineering', 9), ('Electrical and Electronic Engineering', 6), ('Modeling and Simulation', 5), ('Applied Mathematics', 4), ('Molecular Biology', 4), ('Artificial Intelligence', 4), ('Hardware and Architecture', 3), ('Biochemistry', 3)]\n",
      "23 [('Software', 8), ('Computer Networks and Communications', 7), ('Information Systems', 6), ('Computer Science Applications', 6), ('Artificial Intelligence', 6), ('Biochemistry', 3), ('Molecular Biology', 3), ('Computer Science (miscellaneous)', 3), ('Hardware and Architecture', 2), ('Atomic and Molecular Physics, and Optics', 2)]\n",
      "24 [('Computer Science Applications', 10), ('Artificial Intelligence', 10), ('Software', 9), ('Molecular Biology', 7), ('Computational Mathematics', 6), ('Biochemistry', 5), ('Computational Theory and Mathematics', 4), ('Genetics', 4), ('Modeling and Simulation', 4), ('Cognitive Neuroscience', 4)]\n"
     ]
    },
    {
     "name": "stdout",
     "output_type": "stream",
     "text": [
      "25 [('Electrical and Electronic Engineering', 10), ('Computer Science Applications', 9), ('Software', 8), ('Artificial Intelligence', 6), ('Computer Networks and Communications', 5), ('Signal Processing', 5), ('Computer Vision and Pattern Recognition', 4), ('Information Systems', 3), ('Atomic and Molecular Physics, and Optics', 3), ('Biochemistry', 3)]\n",
      "26 [('Software', 13), ('Artificial Intelligence', 10), ('Computer Science Applications', 8), ('Signal Processing', 5), ('Electrical and Electronic Engineering', 5), ('Computer Networks and Communications', 4), ('Computer Vision and Pattern Recognition', 4), ('Hardware and Architecture', 3), ('Biochemistry', 3), ('Cognitive Neuroscience', 3)]\n",
      "27 [('Electrical and Electronic Engineering', 17), ('Computer Networks and Communications', 16), ('Software', 8), ('Computer Science Applications', 8), ('Information Systems', 7), ('Hardware and Architecture', 6), ('Atomic and Molecular Physics, and Optics', 3), ('Biochemistry', 3), ('Modeling and Simulation', 3), ('Applied Mathematics', 3)]\n",
      "28 [('Software', 12), ('Computer Science Applications', 10), ('Artificial Intelligence', 8), ('Computer Networks and Communications', 5), ('Electrical and Electronic Engineering', 5), ('Signal Processing', 5), ('Hardware and Architecture', 4), ('Computer Vision and Pattern Recognition', 4), ('Modeling and Simulation', 4), ('Biochemistry', 3)]\n",
      "29 [('Computer Networks and Communications', 9), ('Software', 7), ('Applied Mathematics', 7), ('Electrical and Electronic Engineering', 6), ('Information Systems', 4), ('Hardware and Architecture', 4), ('Computer Science Applications', 4), ('Discrete Mathematics and Combinatorics', 3), ('Modeling and Simulation', 3), ('Theoretical Computer Science', 2)]\n",
      "30 [('Software', 9), ('Computer Networks and Communications', 9), ('Computer Science Applications', 9), ('Information Systems', 6), ('Hardware and Architecture', 5), ('Human-Computer Interaction', 4), ('Electrical and Electronic Engineering', 4), ('Engineering (miscellaneous)', 4), ('Biochemistry', 3), ('Modeling and Simulation', 3)]\n",
      "31 [('Software', 14), ('Artificial Intelligence', 12), ('Computer Science Applications', 8), ('Control and Systems Engineering', 6), ('Information Systems', 5), ('Electrical and Electronic Engineering', 4), ('Signal Processing', 4), ('Theoretical Computer Science', 4), ('Computer Science (miscellaneous)', 4), ('Biochemistry', 3)]\n",
      "32 [('Software', 13), ('Artificial Intelligence', 10), ('Computer Science Applications', 9), ('Computer Networks and Communications', 5), ('Electrical and Electronic Engineering', 5), ('Engineering (miscellaneous)', 4), ('Hardware and Architecture', 3), ('Biochemistry', 3), ('Cognitive Neuroscience', 3), ('Modeling and Simulation', 3)]\n",
      "33 [('Software', 9), ('Computer Science Applications', 8), ('Modeling and Simulation', 5), ('Molecular Biology', 5), ('Computer Science (miscellaneous)', 5), ('Artificial Intelligence', 5), ('Computer Networks and Communications', 4), ('Computational Mathematics', 4), ('Applied Mathematics', 4), ('Hardware and Architecture', 3)]\n",
      "34 [('Electrical and Electronic Engineering', 11), ('Computer Science Applications', 11), ('Software', 10), ('Applied Mathematics', 5), ('Modeling and Simulation', 5), ('Computer Networks and Communications', 4), ('Signal Processing', 4), ('Artificial Intelligence', 4), ('Computer Science (miscellaneous)', 4), ('Atomic and Molecular Physics, and Optics', 3)]\n",
      "35 [('Software', 14), ('Computer Science Applications', 8), ('Artificial Intelligence', 7), ('Modeling and Simulation', 5), ('Electrical and Electronic Engineering', 5), ('Control and Systems Engineering', 5), ('Engineering (miscellaneous)', 4), ('Computer Science (miscellaneous)', 4), ('Management Science and Operations Research', 3), ('Applied Mathematics', 3)]\n",
      "36 [('Software', 11), ('Electrical and Electronic Engineering', 10), ('Computer Science Applications', 7), ('Artificial Intelligence', 5), ('Control and Systems Engineering', 5), ('Modeling and Simulation', 5), ('Hardware and Architecture', 3), ('Computer Networks and Communications', 3), ('Atomic and Molecular Physics, and Optics', 3), ('Engineering (miscellaneous)', 3)]\n",
      "37 [('Software', 10), ('Computer Science Applications', 8), ('Information Systems', 6), ('Modeling and Simulation', 6), ('Hardware and Architecture', 5), ('Management Science and Operations Research', 5), ('Applied Mathematics', 5), ('Statistics and Probability', 4), ('Computational Theory and Mathematics', 4), ('Computer Networks and Communications', 3)]\n",
      "38 [('Software', 14), ('Artificial Intelligence', 11), ('Electrical and Electronic Engineering', 10), ('Computer Science Applications', 8), ('Information Systems', 5), ('Signal Processing', 5), ('Hardware and Architecture', 3), ('Computer Networks and Communications', 3), ('Applied Mathematics', 3), ('Engineering (miscellaneous)', 3)]\n",
      "39 [('Software', 11), ('Computer Science Applications', 10), ('Electrical and Electronic Engineering', 8), ('Artificial Intelligence', 7), ('Cognitive Neuroscience', 6), ('Modeling and Simulation', 4), ('Computer Vision and Pattern Recognition', 4), ('Control and Systems Engineering', 4), ('Computer Networks and Communications', 3), ('Atomic and Molecular Physics, and Optics', 3)]\n",
      "40 [('Software', 12), ('Electrical and Electronic Engineering', 11), ('Computer Science Applications', 8), ('Computer Vision and Pattern Recognition', 7), ('Artificial Intelligence', 6), ('Signal Processing', 5), ('Modeling and Simulation', 5), ('Computer Networks and Communications', 4), ('Applied Mathematics', 4), ('Control and Systems Engineering', 3)]\n",
      "41 [('Software', 11), ('Hardware and Architecture', 5), ('Artificial Intelligence', 5), ('Computer Science Applications', 5), ('Computer Networks and Communications', 4), ('Electrical and Electronic Engineering', 4), ('Applied Mathematics', 4), ('Modeling and Simulation', 4), ('Biochemistry', 3), ('Computer Vision and Pattern Recognition', 3)]\n",
      "42 [('Software', 15), ('Computer Science Applications', 11), ('Artificial Intelligence', 9), ('Control and Systems Engineering', 6), ('Electrical and Electronic Engineering', 5), ('Computer Vision and Pattern Recognition', 5), ('Cognitive Neuroscience', 4), ('Computational Theory and Mathematics', 4), ('Information Systems', 3), ('Computer Networks and Communications', 3)]\n",
      "43 [('Computer Science Applications', 11), ('Software', 10), ('Artificial Intelligence', 9), ('Cognitive Neuroscience', 5), ('Electrical and Electronic Engineering', 5), ('Modeling and Simulation', 4), ('Computational Mathematics', 4), ('Control and Systems Engineering', 4), ('Management Science and Operations Research', 3), ('Computational Theory and Mathematics', 3)]\n",
      "44 [('Software', 9), ('Computer Science Applications', 6), ('Artificial Intelligence', 6), ('Hardware and Architecture', 4), ('Applied Mathematics', 4), ('Molecular Biology', 4), ('Computer Science (miscellaneous)', 4), ('Electrical and Electronic Engineering', 4), ('Modeling and Simulation', 4), ('Biochemistry', 3)]\n",
      "45 [('Software', 10), ('Artificial Intelligence', 7), ('Theoretical Computer Science', 7), ('Applied Mathematics', 6), ('Electrical and Electronic Engineering', 6), ('Computational Mathematics', 5), ('Computer Science (miscellaneous)', 5), ('Computer Science Applications', 5), ('Information Systems', 4), ('Engineering (miscellaneous)', 4)]\n",
      "46 [('Software', 10), ('Artificial Intelligence', 7), ('Computer Science Applications', 7), ('Computer Vision and Pattern Recognition', 6), ('Signal Processing', 6), ('Electrical and Electronic Engineering', 5), ('Hardware and Architecture', 3), ('Biochemistry', 3), ('Computational Mathematics', 3), ('Molecular Biology', 3)]\n",
      "47 [('Computer Science Applications', 9), ('Software', 7), ('Artificial Intelligence', 7), ('Computational Mathematics', 6), ('Applied Mathematics', 6), ('Electrical and Electronic Engineering', 6), ('Molecular Biology', 5), ('Cognitive Neuroscience', 5), ('Statistics and Probability', 5), ('Computational Theory and Mathematics', 4)]\n",
      "48 [('Software', 8), ('Computer Science Applications', 6), ('Artificial Intelligence', 6), ('Electrical and Electronic Engineering', 4), ('Molecular Biology', 4), ('Modeling and Simulation', 4), ('Information Systems', 3), ('Hardware and Architecture', 3), ('Computer Networks and Communications', 3), ('Biochemistry', 3)]\n",
      "49 [('Software', 11), ('Computer Science Applications', 8), ('Information Systems', 6), ('Modeling and Simulation', 5), ('Computer Networks and Communications', 4), ('Computer Science (miscellaneous)', 4), ('Management Information Systems', 4), ('Electrical and Electronic Engineering', 4), ('Control and Systems Engineering', 4), ('Hardware and Architecture', 3)]\n",
      "50 [('Software', 13), ('Computer Science Applications', 9), ('Artificial Intelligence', 9), ('Electrical and Electronic Engineering', 6), ('Signal Processing', 6), ('Molecular Biology', 4), ('Computer Vision and Pattern Recognition', 4), ('Modeling and Simulation', 4), ('Computer Networks and Communications', 3), ('Atomic and Molecular Physics, and Optics', 3)]\n"
     ]
    },
    {
     "name": "stdout",
     "output_type": "stream",
     "text": [
      "51 [('Electrical and Electronic Engineering', 8), ('Software', 7), ('Computer Science Applications', 6), ('Hardware and Architecture', 5), ('Applied Mathematics', 4), ('Modeling and Simulation', 4), ('Computer Networks and Communications', 3), ('Atomic and Molecular Physics, and Optics', 3), ('Biochemistry', 3), ('Artificial Intelligence', 3)]\n",
      "52 [('Software', 11), ('Computer Science Applications', 9), ('Computer Networks and Communications', 6), ('Modeling and Simulation', 6), ('Electrical and Electronic Engineering', 5), ('Information Systems', 4), ('Molecular Biology', 4), ('Hardware and Architecture', 3), ('Biochemistry', 3), ('Applied Mathematics', 3)]\n",
      "53 [('Software', 13), ('Computer Science Applications', 12), ('Electrical and Electronic Engineering', 9), ('Artificial Intelligence', 7), ('Control and Systems Engineering', 6), ('Signal Processing', 4), ('Hardware and Architecture', 3), ('Atomic and Molecular Physics, and Optics', 3), ('Biochemistry', 3), ('Computer Vision and Pattern Recognition', 3)]\n",
      "54 [('Software', 10), ('Electrical and Electronic Engineering', 9), ('Artificial Intelligence', 9), ('Computer Science Applications', 6), ('Computer Vision and Pattern Recognition', 5), ('Signal Processing', 5), ('Control and Systems Engineering', 4), ('Cognitive Neuroscience', 3), ('Computer Networks and Communications', 2), ('Atomic and Molecular Physics, and Optics', 2)]\n",
      "55 [('Electrical and Electronic Engineering', 8), ('Software', 7), ('Artificial Intelligence', 7), ('Computer Science Applications', 7), ('Signal Processing', 6), ('Control and Systems Engineering', 4), ('Biochemistry', 3), ('Computer Vision and Pattern Recognition', 3), ('Computer Science (miscellaneous)', 3), ('Computational Mathematics', 3)]\n",
      "56 [('Electrical and Electronic Engineering', 14), ('Software', 12), ('Computer Science Applications', 8), ('Signal Processing', 6), ('Hardware and Architecture', 5), ('Artificial Intelligence', 5), ('Computer Vision and Pattern Recognition', 5), ('Computer Networks and Communications', 4), ('Modeling and Simulation', 4), ('Atomic and Molecular Physics, and Optics', 3)]\n",
      "57 [('Computer Science Applications', 11), ('Computer Networks and Communications', 10), ('Electrical and Electronic Engineering', 9), ('Software', 6), ('Applied Mathematics', 5), ('Molecular Biology', 5), ('Information Systems', 4), ('Hardware and Architecture', 4), ('Biochemistry', 4), ('Computational Mathematics', 4)]\n",
      "58 [('Software', 10), ('Computer Networks and Communications', 8), ('Electrical and Electronic Engineering', 8), ('Computer Science Applications', 7), ('Artificial Intelligence', 7), ('Hardware and Architecture', 5), ('Information Systems', 4), ('Biochemistry', 3), ('Computational Mathematics', 3), ('Molecular Biology', 3)]\n",
      "59 [('Software', 10), ('Computer Science Applications', 8), ('Artificial Intelligence', 6), ('Modeling and Simulation', 5), ('Information Systems', 4), ('Molecular Biology', 4), ('Biochemistry', 3), ('Applied Mathematics', 3), ('Computational Mathematics', 3), ('Computational Theory and Mathematics', 3)]\n",
      "60 [('Software', 11), ('Computer Science Applications', 9), ('Artificial Intelligence', 9), ('Applied Mathematics', 6), ('Molecular Biology', 6), ('Cognitive Neuroscience', 6), ('Modeling and Simulation', 5), ('Information Systems', 4), ('Hardware and Architecture', 4), ('Computational Mathematics', 4)]\n",
      "61 [('Computer Science Applications', 12), ('Software', 10), ('Electrical and Electronic Engineering', 6), ('Computational Mathematics', 5), ('Computational Theory and Mathematics', 5), ('Modeling and Simulation', 5), ('Molecular Biology', 5), ('Hardware and Architecture', 5), ('Applied Mathematics', 5), ('Theoretical Computer Science', 5)]\n",
      "62 [('Software', 16), ('Hardware and Architecture', 6), ('Molecular Biology', 6), ('Applied Mathematics', 6), ('Modeling and Simulation', 6), ('Information Systems', 5), ('Computer Science Applications', 5), ('Theoretical Computer Science', 5), ('Artificial Intelligence', 4), ('Computer Networks and Communications', 3)]\n",
      "63 [('Software', 10), ('Computer Science Applications', 7), ('Electrical and Electronic Engineering', 6), ('Computer Networks and Communications', 5), ('Artificial Intelligence', 5), ('Applied Mathematics', 4), ('Biochemistry', 4), ('Molecular Biology', 4), ('Computational Mathematics', 4), ('Computer Vision and Pattern Recognition', 4)]\n",
      "64 [('Software', 10), ('Electrical and Electronic Engineering', 8), ('Computer Networks and Communications', 7), ('Computer Science Applications', 6), ('Information Systems', 5), ('Modeling and Simulation', 3), ('Engineering (miscellaneous)', 3), ('Computational Mathematics', 3), ('Mathematics (miscellaneous)', 3), ('Hardware and Architecture', 2)]\n",
      "65 [('Software', 9), ('Computer Networks and Communications', 9), ('Electrical and Electronic Engineering', 7), ('Computer Science Applications', 7), ('Hardware and Architecture', 5), ('Artificial Intelligence', 4), ('Information Systems', 3), ('Cognitive Neuroscience', 3), ('Computer Science (miscellaneous)', 2), ('Medicine (miscellaneous)', 2)]\n",
      "66 [('Software', 16), ('Artificial Intelligence', 13), ('Computer Science Applications', 8), ('Hardware and Architecture', 5), ('Computer Networks and Communications', 5), ('Theoretical Computer Science', 5), ('Information Systems', 4), ('Computer Science (miscellaneous)', 4), ('Engineering (miscellaneous)', 4), ('Computational Theory and Mathematics', 4)]\n",
      "67 [('Software', 12), ('Artificial Intelligence', 9), ('Computer Science Applications', 8), ('Electrical and Electronic Engineering', 8), ('Signal Processing', 5), ('Computer Vision and Pattern Recognition', 4), ('Control and Systems Engineering', 4), ('Information Systems', 3), ('Hardware and Architecture', 3), ('Health Informatics', 3)]\n",
      "68 [('Software', 10), ('Electrical and Electronic Engineering', 10), ('Computer Science Applications', 9), ('Hardware and Architecture', 5), ('Computer Networks and Communications', 5), ('Modeling and Simulation', 4), ('Artificial Intelligence', 4), ('Information Systems', 3), ('Biochemistry', 3), ('Molecular Biology', 3)]\n",
      "69 [('Computer Science Applications', 11), ('Electrical and Electronic Engineering', 9), ('Software', 7), ('Molecular Biology', 5), ('Hardware and Architecture', 4), ('Biochemistry', 4), ('Applied Mathematics', 4), ('Modeling and Simulation', 4), ('Computational Mathematics', 4), ('Computer Science (miscellaneous)', 4)]\n",
      "70 [('Computer Science Applications', 10), ('Software', 8), ('Artificial Intelligence', 6), ('Cognitive Neuroscience', 5), ('Electrical and Electronic Engineering', 4), ('Control and Systems Engineering', 4), ('Information Systems', 3), ('Computer Networks and Communications', 3), ('Molecular Biology', 3), ('Biochemistry', 3)]\n",
      "71 [('Electrical and Electronic Engineering', 13), ('Computer Science Applications', 13), ('Software', 9), ('Applied Mathematics', 6), ('Information Systems', 5), ('Computer Networks and Communications', 5), ('Modeling and Simulation', 5), ('Theoretical Computer Science', 5), ('Computational Mathematics', 5), ('Computational Theory and Mathematics', 5)]\n",
      "72 [('Software', 11), ('Artificial Intelligence', 8), ('Computer Science Applications', 7), ('Information Systems', 6), ('Electrical and Electronic Engineering', 6), ('Cognitive Neuroscience', 4), ('Computer Science (miscellaneous)', 4), ('Control and Systems Engineering', 4), ('Modeling and Simulation', 4), ('Computational Mathematics', 4)]\n",
      "73 [('Electrical and Electronic Engineering', 11), ('Computer Science Applications', 10), ('Software', 8), ('Artificial Intelligence', 6), ('Information Systems', 4), ('Hardware and Architecture', 4), ('Applied Mathematics', 4), ('Computational Mathematics', 4), ('Computer Networks and Communications', 3), ('Atomic and Molecular Physics, and Optics', 3)]\n",
      "74 [('Software', 9), ('Statistics and Probability', 7), ('Applied Mathematics', 7), ('Artificial Intelligence', 7), ('Computer Science Applications', 7), ('Modeling and Simulation', 5), ('Molecular Biology', 5), ('Statistics, Probability and Uncertainty', 4), ('Information Systems', 4), ('Theoretical Computer Science', 4)]\n",
      "75 [('Software', 8), ('Electrical and Electronic Engineering', 7), ('Computer Science Applications', 6), ('Hardware and Architecture', 5), ('Control and Systems Engineering', 4), ('Artificial Intelligence', 4), ('Computer Science (miscellaneous)', 3), ('Engineering (miscellaneous)', 3), ('Information Systems', 2), ('Computer Networks and Communications', 2)]\n",
      "76 [('Software', 10), ('Computer Networks and Communications', 7), ('Electrical and Electronic Engineering', 7), ('Artificial Intelligence', 7), ('Information Systems', 6), ('Hardware and Architecture', 6), ('Applied Mathematics', 5), ('Modeling and Simulation', 5), ('Computational Mathematics', 4), ('Theoretical Computer Science', 4)]\n",
      "77 [('Software', 14), ('Artificial Intelligence', 8), ('Computer Science Applications', 8), ('Information Systems', 6), ('Applied Mathematics', 6), ('Hardware and Architecture', 5), ('Computer Networks and Communications', 4), ('Cognitive Neuroscience', 4), ('Computer Vision and Pattern Recognition', 4), ('Computer Science (miscellaneous)', 3)]\n"
     ]
    },
    {
     "name": "stdout",
     "output_type": "stream",
     "text": [
      "78 [('Software', 4), ('Computer Science (miscellaneous)', 4), ('Electrical and Electronic Engineering', 4), ('Computer Networks and Communications', 3), ('Artificial Intelligence', 3), ('Computer Science Applications', 3), ('Hardware and Architecture', 2), ('Physics and Astronomy (miscellaneous)', 2), ('Information Systems', 2), ('Engineering (miscellaneous)', 2)]\n",
      "79 [('Computer Networks and Communications', 4), ('Communication', 3), ('Information Systems', 3), ('Human-Computer Interaction', 2), ('Software', 2), ('Law', 2), ('Economics and Econometrics', 2), ('Management of Technology and Innovation', 2), ('Strategy and Management', 2), ('Language and Linguistics', 1)]\n",
      "80 [('Software', 11), ('Computer Science Applications', 7), ('Electrical and Electronic Engineering', 6), ('Artificial Intelligence', 6), ('Control and Systems Engineering', 4), ('Computer Vision and Pattern Recognition', 4), ('Signal Processing', 4), ('Information Systems', 3), ('Computer Networks and Communications', 3), ('Biochemistry', 3)]\n",
      "81 [('Software', 2), ('Cognitive Neuroscience', 2), ('Arts and Humanities (miscellaneous)', 1), ('Human-Computer Interaction', 1), ('Psychology (miscellaneous)', 1), ('Communication', 1), ('Language and Linguistics', 1), ('Linguistics and Language', 1), ('Hardware and Architecture', 1), ('Computer Networks and Communications', 1)]\n",
      "82 [('Software', 2), ('Information Systems', 1), ('Computer Networks and Communications', 1), ('Hardware and Architecture', 1), ('Computational Theory and Mathematics', 1), ('Computer Science (miscellaneous)', 1), ('Engineering (miscellaneous)', 1), ('Human-Computer Interaction', 1), ('Applied Psychology', 1)]\n",
      "83 [('Software', 7), ('Computer Networks and Communications', 6), ('Information Systems', 4), ('Electrical and Electronic Engineering', 4), ('Hardware and Architecture', 3), ('Computer Science Applications', 1), ('Theoretical Computer Science', 1), ('Artificial Intelligence', 1)]\n",
      "84 [('Software', 2), ('Electrical and Electronic Engineering', 2), ('Information Systems', 1), ('Cellular and Molecular Neuroscience', 1), ('Computational Theory and Mathematics', 1), ('Ecology', 1), ('Ecology, Evolution, Behavior and Systematics', 1), ('Genetics', 1), ('Modeling and Simulation', 1), ('Molecular Biology', 1)]\n",
      "85 []\n",
      "86 [('Information Systems', 1), ('Software', 1)]\n",
      "87 [('Software', 2), ('Hardware and Architecture', 1), ('Computer Networks and Communications', 1), ('Information Systems', 1), ('Electrical and Electronic Engineering', 1), ('Computer Science (miscellaneous)', 1), ('Engineering (miscellaneous)', 1), ('Materials Science (miscellaneous)', 1)]\n",
      "88 [('Software', 2), ('Hardware and Architecture', 1), ('Computer Networks and Communications', 1), ('Information Systems', 1)]\n",
      "89 [('Agronomy and Crop Science', 1), ('Animal Science and Zoology', 1), ('Computer Science Applications', 1), ('Forestry', 1), ('Horticulture', 1), ('Hardware and Architecture', 1), ('Computer Networks and Communications', 1), ('Software', 1)]\n",
      "90 [('Computer Networks and Communications', 2), ('Software', 2), ('Hardware and Architecture', 1), ('Information Systems', 1), ('Electrical and Electronic Engineering', 1)]\n",
      "91 [('Communication', 1), ('Language and Linguistics', 1), ('Linguistics and Language', 1), ('Education', 1), ('E-learning', 1), ('Computer Science Applications', 1), ('Hardware and Architecture', 1), ('Computer Networks and Communications', 1), ('Software', 1)]\n",
      "92 [('Software', 3), ('Computer Science Applications', 2), ('Control and Systems Engineering', 2), ('Information Systems', 2), ('Artificial Intelligence', 1), ('Control and Optimization', 1), ('Human-Computer Interaction', 1), ('Mathematics (miscellaneous)', 1), ('Hardware and Architecture', 1), ('Computer Networks and Communications', 1)]\n",
      "93 [('Information Systems', 1), ('Software', 1)]\n",
      "94 [('Analytical Chemistry', 1), ('Atomic and Molecular Physics, and Optics', 1), ('Electrical and Electronic Engineering', 1), ('Instrumentation', 1), ('Medicine (miscellaneous)', 1), ('Biochemistry', 1)]\n",
      "95 [('Software', 3), ('Hardware and Architecture', 2), ('Modeling and Simulation', 1), ('Computer Networks and Communications', 1), ('Information Systems', 1)]\n",
      "96 [('Software', 2), ('Hardware and Architecture', 1), ('Computer Networks and Communications', 1), ('Information Systems', 1)]\n",
      "97 [('Software', 2), ('Artificial Intelligence', 2), ('Physics and Astronomy (miscellaneous)', 1), ('Information Systems', 1), ('Cognitive Neuroscience', 1), ('Computer Vision and Pattern Recognition', 1), ('Signal Processing', 1)]\n",
      "98 [('Health Informatics', 1), ('Software', 1), ('Computer Science Applications', 1), ('Computational Mathematics', 1), ('Computational Theory and Mathematics', 1), ('Genetics', 1), ('Medicine (miscellaneous)', 1), ('Molecular Biology', 1), ('Hardware and Architecture', 1), ('Physics and Astronomy (miscellaneous)', 1)]\n",
      "99 [('Software', 3), ('Computer Science Applications', 2), ('Health Informatics', 1), ('Information Systems', 1), ('Applied Mathematics', 1), ('Biochemistry', 1), ('Molecular Biology', 1), ('Structural Biology', 1), ('Hardware and Architecture', 1), ('Computer Networks and Communications', 1)]\n",
      "100 [('Analytical Chemistry', 1), ('Atomic and Molecular Physics, and Optics', 1), ('Electrical and Electronic Engineering', 1), ('Instrumentation', 1), ('Medicine (miscellaneous)', 1), ('Biochemistry', 1), ('Information Systems', 1), ('Software', 1)]\n",
      "101 []\n",
      "102 [('Software', 5), ('Artificial Intelligence', 2), ('Information Systems', 1), ('Hardware and Architecture', 1), ('Computer Networks and Communications', 1), ('Control and Systems Engineering', 1), ('Computer Science Applications', 1), ('Mathematics (miscellaneous)', 1), ('Engineering (miscellaneous)', 1), ('Computer Vision and Pattern Recognition', 1)]\n",
      "103 [('Software', 3), ('Hardware and Architecture', 1), ('Computer Networks and Communications', 1), ('Information Systems', 1), ('Artificial Intelligence', 1), ('Computer Vision and Pattern Recognition', 1), ('Signal Processing', 1), ('Computer Science Applications', 1), ('Management Science and Operations Research', 1)]\n",
      "104 [('Software', 2), ('Ecological Modeling', 1), ('Environmental Science (miscellaneous)', 1), ('Geography, Planning and Development', 1), ('Urban Studies', 1), ('Hardware and Architecture', 1), ('Computer Networks and Communications', 1), ('Earth and Planetary Sciences (miscellaneous)', 1), ('Information Systems', 1)]\n",
      "105 [('Computer Science Applications', 2), ('Agronomy and Crop Science', 1), ('Animal Science and Zoology', 1), ('Forestry', 1), ('Horticulture', 1), ('Earth and Planetary Sciences (miscellaneous)', 1), ('Information Systems', 1), ('Software', 1), ('Analytical Chemistry', 1), ('Atomic and Molecular Physics, and Optics', 1)]\n",
      "106 [('Information Systems', 2), ('Library and Information Sciences', 2), ('Education', 1), ('Communication', 1)]\n",
      "107 [('Computer Science (miscellaneous)', 1), ('Computer Science Applications', 1), ('Arts and Humanities (miscellaneous)', 1), ('Developmental and Educational Psychology', 1), ('Information Systems', 1), ('Information Systems and Management', 1), ('Management Information Systems', 1)]\n",
      "108 [('Information Systems', 1), ('Software', 1), ('Electrical and Electronic Engineering', 1), ('Safety, Risk, Reliability and Quality', 1), ('Surfaces, Coatings and Films', 1), ('Atomic and Molecular Physics, and Optics', 1), ('Condensed Matter Physics', 1), ('Electronic, Optical and Magnetic Materials', 1), ('Nanoscience and Nanotechnology', 1)]\n",
      "109 [('Software', 2), ('Computer Networks and Communications', 2), ('Information Systems', 1), ('Arts and Humanities (miscellaneous)', 1), ('Human-Computer Interaction', 1), ('Psychology (miscellaneous)', 1), ('Computer Science Applications', 1), ('Management of Technology and Innovation', 1), ('Marketing', 1), ('Hardware and Architecture', 1)]\n",
      "110 [('Analytical Chemistry', 1), ('Atomic and Molecular Physics, and Optics', 1), ('Electrical and Electronic Engineering', 1), ('Instrumentation', 1), ('Medicine (miscellaneous)', 1), ('Biochemistry', 1), ('Information Systems', 1), ('Software', 1)]\n",
      "111 [('Software', 2), ('Information Systems', 1), ('Artificial Intelligence', 1), ('Control and Systems Engineering', 1), ('Statistics and Probability', 1)]\n"
     ]
    },
    {
     "name": "stdout",
     "output_type": "stream",
     "text": [
      "112 [('Arts and Humanities (miscellaneous)', 1), ('Human-Computer Interaction', 1), ('Psychology (miscellaneous)', 1)]\n",
      "113 [('Language and Linguistics', 3), ('Linguistics and Language', 3), ('Software', 2), ('Communication', 1), ('Hardware and Architecture', 1), ('Computer Networks and Communications', 1), ('Artificial Intelligence', 1), ('Arts and Humanities (miscellaneous)', 1), ('Human-Computer Interaction', 1), ('Psychology (miscellaneous)', 1)]\n",
      "114 [('Ecological Modeling', 1), ('Environmental Engineering', 1), ('Software', 1), ('Computational Theory and Mathematics', 1), ('Management of Technology and Innovation', 1), ('Management Science and Operations Research', 1), ('Modeling and Simulation', 1), ('Strategy and Management', 1), ('Numerical Analysis', 1), ('Statistics, Probability and Uncertainty', 1)]\n",
      "115 [('Computer Graphics and Computer-Aided Design', 1), ('Software', 1)]\n",
      "116 [('Artificial Intelligence', 3), ('Software', 2), ('Applied Mathematics', 2), ('Discrete Mathematics and Combinatorics', 2), ('Logic', 1), ('Engineering (miscellaneous)', 1), ('Statistics and Probability', 1), ('Hardware and Architecture', 1), ('Computer Networks and Communications', 1), ('Computational Mathematics', 1)]\n",
      "117 [('Software', 2), ('Computer Networks and Communications', 1), ('Hardware and Architecture', 1), ('Computational Theory and Mathematics', 1)]\n",
      "118 [('Electrical and Electronic Engineering', 1), ('Atomic and Molecular Physics, and Optics', 1), ('Condensed Matter Physics', 1), ('Electronic, Optical and Magnetic Materials', 1), ('Nanoscience and Nanotechnology', 1), ('Surfaces, Coatings and Films', 1)]\n",
      "119 [('Software', 2), ('Hardware and Architecture', 1), ('Computer Networks and Communications', 1), ('Information Systems', 1), ('Language and Linguistics', 1), ('Linguistics and Language', 1), ('Education', 1), ('Library and Information Sciences', 1)]\n",
      "120 [('Hardware and Architecture', 1), ('Computer Networks and Communications', 1), ('Software', 1)]\n",
      "121 [('Library and Information Sciences', 5), ('Information Systems', 5), ('Education', 1), ('Computer Science Applications', 1), ('Arts and Humanities (miscellaneous)', 1), ('Human-Computer Interaction', 1), ('Psychology (miscellaneous)', 1)]\n",
      "122 [('Information Systems', 1), ('Software', 1)]\n",
      "123 [('Analytical Chemistry', 1), ('Atomic and Molecular Physics, and Optics', 1), ('Electrical and Electronic Engineering', 1), ('Instrumentation', 1), ('Medicine (miscellaneous)', 1), ('Biochemistry', 1), ('Industrial and Manufacturing Engineering', 1), ('Computer Science Applications', 1), ('Control and Systems Engineering', 1)]\n",
      "124 [('Applied Mathematics', 5), ('Computational Mathematics', 2), ('Hardware and Architecture', 1), ('Computer Networks and Communications', 1), ('Software', 1), ('Mathematics (miscellaneous)', 1), ('Analysis', 1), ('Numerical Analysis', 1), ('Discrete Mathematics and Combinatorics', 1)]\n",
      "125 [('Computational Mathematics', 2), ('Chemistry (miscellaneous)', 1), ('Biochemistry', 1), ('Computational Theory and Mathematics', 1), ('Computer Science Applications', 1), ('Molecular Biology', 1), ('Statistics and Probability', 1), ('Computer Vision and Pattern Recognition', 1), ('Control and Systems Engineering', 1), ('Electrical and Electronic Engineering', 1)]\n",
      "126 [('Electrical and Electronic Engineering', 1), ('Hardware and Architecture', 1), ('Physics and Astronomy (miscellaneous)', 1)]\n",
      "127 [('Software', 3), ('Hardware and Architecture', 2), ('Computer Networks and Communications', 2), ('Information Systems', 2), ('E-learning', 1), ('Management Information Systems', 1)]\n",
      "128 [('Computer Science Applications', 1), ('Library and Information Sciences', 1), ('Social Sciences (miscellaneous)', 1), ('Computational Mathematics', 1), ('Organic Chemistry', 1), ('Biochemistry', 1), ('Structural Biology', 1)]\n",
      "129 [('Computer Networks and Communications', 3), ('Information Systems', 2), ('Software', 2), ('Electrical and Electronic Engineering', 2), ('Communication', 1), ('Law', 1), ('Hardware and Architecture', 1)]\n",
      "130 []\n",
      "131 []\n",
      "132 [('Hardware and Architecture', 1), ('Computer Networks and Communications', 1), ('Software', 1)]\n",
      "133 [('Computer Science Applications', 2), ('Information Systems and Management', 1), ('Management Science and Operations Research', 1), ('Modeling and Simulation', 1), ('Industrial and Manufacturing Engineering', 1), ('Industrial Relations', 1), ('Management Information Systems', 1), ('Strategy and Management', 1), ('Information Systems', 1), ('Software', 1)]\n",
      "134 [('Computer Science Applications', 2), ('Computational Mathematics', 1), ('Computational Theory and Mathematics', 1), ('Biochemistry', 1), ('Genetics', 1), ('Molecular Biology', 1), ('Drug Discovery', 1), ('Physical and Theoretical Chemistry', 1)]\n",
      "135 [('Analytical Chemistry', 1), ('Atomic and Molecular Physics, and Optics', 1), ('Electrical and Electronic Engineering', 1), ('Instrumentation', 1), ('Medicine (miscellaneous)', 1), ('Biochemistry', 1), ('Artificial Intelligence', 1), ('Control and Optimization', 1), ('Mechanical Engineering', 1), ('Information Systems', 1)]\n",
      "136 [('Software', 2), ('Information Systems', 1), ('Hardware and Architecture', 1), ('Computer Networks and Communications', 1)]\n",
      "137 [('Applied Psychology', 1), ('Human Factors and Ergonomics', 1), ('Behavioral Neuroscience', 1), ('Applied Mathematics', 1)]\n",
      "138 [('Software', 2), ('Information Systems', 1), ('Electrical and Electronic Engineering', 1), ('Control and Systems Engineering', 1)]\n",
      "139 [('Electrical and Electronic Engineering', 1), ('Signal Processing', 1), ('Electronic, Optical and Magnetic Materials', 1), ('Modeling and Simulation', 1), ('Statistical and Nonlinear Physics', 1), ('Theoretical Computer Science', 1), ('Information Systems', 1), ('Software', 1), ('Multidisciplinary', 1)]\n",
      "140 [('Software', 2), ('Earth and Planetary Sciences (miscellaneous)', 1), ('Information Systems', 1), ('Hardware and Architecture', 1), ('Computer Networks and Communications', 1)]\n",
      "141 [('Hardware and Architecture', 1), ('Computer Networks and Communications', 1), ('Software', 1)]\n",
      "142 [('Chemistry (miscellaneous)', 1), ('Computational Mathematics', 1), ('Computer Science Applications', 1), ('Drug Discovery', 1), ('Physical and Theoretical Chemistry', 1), ('Hardware and Architecture', 1), ('Computer Networks and Communications', 1), ('Software', 1)]\n",
      "143 []\n",
      "144 [('Electrical and Electronic Engineering', 1), ('Control and Systems Engineering', 1)]\n",
      "145 [('Computer Networks and Communications', 2), ('Software', 2), ('Hardware and Architecture', 1), ('Human-Computer Interaction', 1), ('Information Systems', 1)]\n",
      "146 [('Hardware and Architecture', 1), ('Computer Networks and Communications', 1), ('Software', 1)]\n",
      "147 []\n",
      "148 [('Information Systems', 1), ('Software', 1)]\n",
      "149 [('Information Systems', 1), ('Software', 1)]\n",
      "150 [('Information Systems', 2), ('Analytical Chemistry', 1), ('Atomic and Molecular Physics, and Optics', 1), ('Electrical and Electronic Engineering', 1), ('Instrumentation', 1), ('Medicine (miscellaneous)', 1), ('Biochemistry', 1), ('Software', 1), ('Geography, Planning and Development', 1), ('Library and Information Sciences', 1)]\n",
      "151 [('Electrical and Electronic Engineering', 1), ('Control and Systems Engineering', 1)]\n",
      "152 [('Software', 2), ('Hardware and Architecture', 1), ('Computer Networks and Communications', 1), ('Information Systems', 1)]\n",
      "153 [('Multidisciplinary', 1)]\n",
      "154 [('Library and Information Sciences', 2), ('Information Systems', 2), ('Computer Science Applications', 1), ('E-learning', 1), ('Law', 1), ('Sociology and Political Science', 1), ('Health Informatics', 1), ('Computer Science (miscellaneous)', 1), ('Electrical and Electronic Engineering', 1), ('Engineering (miscellaneous)', 1)]\n",
      "155 []\n",
      "156 [('Information Systems', 2), ('Computer Networks and Communications', 2), ('Software', 1), ('Electrical and Electronic Engineering', 1)]\n",
      "157 [('Hardware and Architecture', 1), ('Computer Networks and Communications', 1), ('Software', 1), ('Applied Mathematics', 1), ('Computational Mathematics', 1), ('Theoretical Computer Science', 1)]\n",
      "158 [('Electrical and Electronic Engineering', 1), ('Control and Systems Engineering', 1)]\n",
      "159 [('Control and Systems Engineering', 1), ('Electrical and Electronic Engineering', 1), ('Hardware and Architecture', 1), ('Physics and Astronomy (miscellaneous)', 1)]\n",
      "160 []\n"
     ]
    },
    {
     "name": "stdout",
     "output_type": "stream",
     "text": [
      "161 [('Health Informatics', 1), ('Software', 1), ('Computer Science Applications', 1)]\n",
      "162 [('Information Systems', 1), ('Software', 1)]\n",
      "163 [('Arts and Humanities (miscellaneous)', 1), ('Human-Computer Interaction', 1), ('Psychology (miscellaneous)', 1)]\n",
      "164 [('Software', 2), ('Information Systems', 1), ('Computer Networks and Communications', 1)]\n",
      "165 [('Arts and Humanities (miscellaneous)', 1), ('Human-Computer Interaction', 1), ('Psychology (miscellaneous)', 1)]\n",
      "166 [('Software', 1), ('Artificial Intelligence', 1)]\n",
      "167 []\n",
      "168 [('Electrical and Electronic Engineering', 3), ('Computer Science Applications', 2), ('Modeling and Simulation', 1), ('Information Systems', 1), ('Software', 1)]\n",
      "169 [('Electrical and Electronic Engineering', 1), ('Control and Systems Engineering', 1), ('Information Systems', 1), ('Software', 1)]\n",
      "170 [('Analytical Chemistry', 1), ('Atomic and Molecular Physics, and Optics', 1), ('Electrical and Electronic Engineering', 1), ('Instrumentation', 1), ('Medicine (miscellaneous)', 1), ('Biochemistry', 1)]\n",
      "171 [('Hardware and Architecture', 1), ('Computer Networks and Communications', 1), ('Software', 1)]\n",
      "172 []\n",
      "173 [('Software', 3), ('Information Systems', 1), ('Hardware and Architecture', 1), ('Modeling and Simulation', 1), ('Artificial Intelligence', 1)]\n",
      "174 []\n",
      "175 [('Biochemistry', 2), ('Computer Science Applications', 2), ('Molecular Biology', 2), ('Computational Mathematics', 1), ('Computational Theory and Mathematics', 1), ('Statistics and Probability', 1), ('Genetics', 1), ('Applied Mathematics', 1), ('Structural Biology', 1), ('Communication', 1)]\n",
      "176 [('Computer Vision and Pattern Recognition', 1), ('Control and Systems Engineering', 1), ('Electrical and Electronic Engineering', 1), ('Signal Processing', 1), ('Software', 1)]\n",
      "177 [('Education', 1), ('E-learning', 1), ('Computer Science Applications', 1)]\n",
      "178 [('Information Systems', 1), ('Software', 1), ('Analytical Chemistry', 1), ('Atomic and Molecular Physics, and Optics', 1), ('Electrical and Electronic Engineering', 1), ('Instrumentation', 1), ('Medicine (miscellaneous)', 1), ('Biochemistry', 1)]\n",
      "179 [('Computer Science (miscellaneous)', 1)]\n",
      "180 [('Software', 3), ('Computer Science (miscellaneous)', 1), ('Computer Graphics and Computer-Aided Design', 1), ('Mathematics (miscellaneous)', 1), ('Modeling and Simulation', 1), ('Hardware and Architecture', 1), ('Computer Networks and Communications', 1), ('Information Systems', 1)]\n",
      "181 [('Genetics', 1), ('Computer Networks and Communications', 1), ('Electrical and Electronic Engineering', 1)]\n",
      "182 [('Information Systems', 1), ('Software', 1)]\n",
      "183 [('Software', 2), ('Control and Systems Engineering', 1), ('Signal Processing', 1), ('Information Systems', 1)]\n",
      "184 []\n",
      "185 [('Radiology, Nuclear Medicine and Imaging', 1)]\n",
      "186 [('Information Systems', 1), ('Software', 1)]\n",
      "187 []\n",
      "188 [('Computer Science Applications', 1), ('Library and Information Sciences', 1), ('Social Sciences (miscellaneous)', 1)]\n",
      "189 []\n",
      "190 [('Analytical Chemistry', 1), ('Atomic and Molecular Physics, and Optics', 1), ('Electrical and Electronic Engineering', 1), ('Instrumentation', 1), ('Medicine (miscellaneous)', 1), ('Biochemistry', 1)]\n",
      "191 [('Hardware and Architecture', 1), ('Computer Networks and Communications', 1), ('Software', 1)]\n",
      "192 [('Computational Mathematics', 1), ('Organic Chemistry', 1), ('Biochemistry', 1), ('Structural Biology', 1)]\n",
      "193 [('Ecological Modeling', 1), ('Environmental Engineering', 1), ('Software', 1), ('Artificial Intelligence', 1), ('Logic', 1)]\n",
      "194 [('Chemistry (miscellaneous)', 1), ('Computational Mathematics', 1), ('Physics and Astronomy (miscellaneous)', 1)]\n",
      "195 [('Hardware and Architecture', 1), ('Computer Networks and Communications', 1), ('Software', 1)]\n",
      "196 []\n",
      "197 [('Hardware and Architecture', 1), ('Computer Networks and Communications', 1), ('Software', 1)]\n",
      "198 [('Applied Mathematics', 1), ('Computational Mathematics', 1)]\n",
      "199 [('Algebra and Number Theory', 1), ('Analysis', 1), ('Geometry and Topology', 1), ('Logic', 1), ('Mathematical Physics', 1)]\n"
     ]
    }
   ],
   "source": [
    "journals = pd.read_csv('./jorunals.csv', sep=';', header=None)\n",
    "\n",
    "for index, row in journals.iterrows():\n",
    "    categories = []\n",
    "    for a in range(len(row)):\n",
    "        category = get_journal_category(str(row[a]))\n",
    "        if category is not None:\n",
    "            categories.append(category)\n",
    "    flat_list = [item.strip() for sublist in categories for item in sublist]\n",
    "    a = Counter(flat_list)\n",
    "    print(index, a.most_common(10))\n",
    "        "
   ]
  },
  {
   "cell_type": "code",
   "execution_count": 8,
   "metadata": {},
   "outputs": [
    {
     "name": "stdout",
     "output_type": "stream",
     "text": [
      "199 [('Algebra and Number Theory', 1), ('Analysis', 1), ('Geometry and Topology', 1), ('Logic', 1), ('Mathematical Physics', 1)]\n"
     ]
    }
   ],
   "source": [
    "def most_common_categories(row, index):\n",
    "    categories = []\n",
    "    for a in range(len(row)):\n",
    "        category = get_journal_category(str(row[a]))\n",
    "        if category is not None:\n",
    "            categories.append(category)\n",
    "flat_list = [item.strip() for sublist in categories for item in sublist]\n",
    "a = Counter(flat_list)\n",
    "print(index, a.most_common(5))"
   ]
  },
  {
   "cell_type": "code",
   "execution_count": null,
   "metadata": {},
   "outputs": [],
   "source": [
    "from bs4 import BeautifulSoup\n",
    "import requests\n",
    "from lxml import etree\n",
    "\n",
    "\n",
    "def get_author_department(authors):\n",
    "    i = 0\n",
    "    try:\n",
    "        author_universities = []\n",
    "        for author in authors set(authors):\n",
    "            if i%10 == 0: \n",
    "                print(i)\n",
    "            url = 'https://scholar.google.com/citations?hl=en&view_op=search_authors&mauthors=' + author\n",
    "            response = requests.get(url)\n",
    "            soup = BeautifulSoup(response.content, features=\"lxml\")\n",
    "            b = soup.findAll(\"div\", {\"class\": \"gsc_oai_aff\"})\n",
    "            if (len(b) > 0):\n",
    "                print(b[0].text)\n",
    "                author_universities.append(b[0].text)\n",
    "            i = i + 1\n",
    "        print(author_universities)    \n",
    "        return author_universities        \n",
    "    except Exception as e:\n",
    "        return []      \n",
    "   "
   ]
  },
  {
   "cell_type": "code",
   "execution_count": null,
   "metadata": {},
   "outputs": [
    {
     "name": "stdout",
     "output_type": "stream",
     "text": [
      "0\n",
      "[]\n",
      "0 []\n",
      "0\n",
      "[]\n",
      "0 []\n",
      "0\n",
      "[]\n",
      "0 []\n",
      "0\n",
      "[]\n",
      "0 []\n",
      "0\n",
      "[]\n",
      "0 []\n",
      "0\n",
      "[]\n",
      "0 []\n",
      "0\n",
      "[]\n",
      "0 []\n",
      "0\n",
      "[]\n",
      "0 []\n",
      "0\n",
      "[]\n",
      "0 []\n",
      "0\n",
      "[]\n",
      "0 []\n",
      "0\n",
      "[]\n",
      "0 []\n",
      "0\n",
      "[]\n",
      "0 []\n",
      "0\n"
     ]
    }
   ],
   "source": [
    "authors_from_csv = pd.read_csv('./authors.csv', sep=';', header=None)\n",
    "for index, row in authors_from_csv.iterrows():\n",
    "    authors = []\n",
    "    \n",
    "    for a in range(len(row)):\n",
    "        author = get_author_department(set(\"Paszynski\"))\n",
    "        a = Counter(author)\n",
    "        print(index, a.most_common(10)) \n",
    "        if author is not None:\n",
    "            authors.append(author)\n",
    "           \n",
    "    #flat_list = [item.strip() for sublist in authors for item in sublist]\n",
    "  "
   ]
  },
  {
   "cell_type": "code",
   "execution_count": null,
   "metadata": {},
   "outputs": [],
   "source": [
    "Raport:\n",
    "    slajdy -> najciekwasze rezultaty, mogą też być rezultaty negatywne, statystyki, najciekawsze analizy, \n",
    "                dodatkowe pomysły, sjady nie na prezentacje tylko do czytania (nie do prezentacji dla wszystkich)\n",
    "        ,raport ma coś wnosić, wizualizacja, pokazać rezultaty \n",
    "    18.01"
   ]
  }
 ],
 "metadata": {
  "kernelspec": {
   "display_name": "Python 3",
   "language": "python",
   "name": "python3"
  },
  "language_info": {
   "codemirror_mode": {
    "name": "ipython",
    "version": 3
   },
   "file_extension": ".py",
   "mimetype": "text/x-python",
   "name": "python",
   "nbconvert_exporter": "python",
   "pygments_lexer": "ipython3",
   "version": "3.6.6"
  }
 },
 "nbformat": 4,
 "nbformat_minor": 2
}
