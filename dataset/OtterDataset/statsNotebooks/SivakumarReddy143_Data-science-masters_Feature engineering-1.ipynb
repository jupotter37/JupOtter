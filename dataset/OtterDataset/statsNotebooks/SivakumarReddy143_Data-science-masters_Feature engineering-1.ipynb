{
 "cells": [
  {
   "cell_type": "markdown",
   "metadata": {},
   "source": [
    "## 1)What are missing values in a dataset? Why is it essential to handle missing values? Name some algorithms that are not affected by missing values."
   ]
  },
  {
   "cell_type": "markdown",
   "metadata": {},
   "source": [
    "### Missing Values in a Dataset\n",
    "Missing values in a dataset are instances where no data value is stored for a variable in an observation. This can happen for a variety of reasons, such as data entry errors, measurement errors, or data corruption. Missing values are common in real-world datasets and can pose challenges for data analysis and machine learning.\n",
    "\n",
    "### Why It Is Essential to Handle Missing Values\n",
    "Handling missing values is crucial because they can lead to several issues in data analysis and modeling:\n",
    "1. **Bias and Inaccuracy**: Models built on data with missing values can produce biased or inaccurate results, as the missing data may not be representative of the entire population.\n",
    "2. **Algorithm Limitations**: Many machine learning algorithms require a complete dataset and cannot handle missing values directly, which can lead to errors or crashes.\n",
    "3. **Loss of Information**: Simply removing rows with missing values can result in a significant loss of data, especially if the dataset is small or the missing values are widespread.\n",
    "4. **Imputation Impact**: Improper handling of missing values, such as using mean or median imputation without careful consideration, can distort the underlying data distribution and relationships.\n",
    "\n",
    "### Algorithms Not Affected by Missing Values\n",
    "Some machine learning algorithms are more robust to missing values and can handle them without requiring explicit imputation. Examples include:\n",
    "\n",
    "1. **Decision Trees** (e.g., CART, Random Forests):\n",
    "   - Decision trees can handle missing values by splitting on available features and using surrogate splits to deal with missing data. Random forests, an ensemble of decision trees, inherit this capability.\n",
    "\n",
    "2. **k-Nearest Neighbors (k-NN)**:\n",
    "   - The k-NN algorithm can ignore missing values during distance calculations by considering only the non-missing values for each pair of observations.\n",
    "\n",
    "3. **Gradient Boosting Machines (GBMs)**:\n",
    "   - Some implementations of GBMs, like LightGBM, have built-in methods to handle missing values by assigning a separate category for missing data or using an optimized algorithm to handle them during training.\n",
    "\n",
    "4. **Naive Bayes**:\n",
    "   - Naive Bayes can handle missing values by ignoring the missing features during probability calculations.\n",
    "\n",
    "### Methods to Handle Missing Values\n",
    "In cases where algorithms do not natively handle missing values, there are several strategies to manage them:\n",
    "1. **Deletion**:\n",
    "   - **Listwise Deletion**: Remove entire rows with any missing values.\n",
    "   - **Pairwise Deletion**: Use all available data by calculating statistics using non-missing values only.\n",
    "   \n",
    "2. **Imputation**:\n",
    "   - **Mean/Median/Mode Imputation**: Replace missing values with the mean, median, or mode of the respective feature.\n",
    "   - **Predictive Imputation**: Use a machine learning model to predict and fill in missing values based on other features.\n",
    "   - **K-nearest Neighbors Imputation**: Impute missing values using the average of the k-nearest neighbors.\n",
    "\n",
    "3. **Using Algorithms with Built-in Handling**:\n",
    "   - Prefer using algorithms that can handle missing values natively, as mentioned earlier.\n",
    "\n",
    "4. **Flagging**:\n",
    "   - Create a new binary feature to indicate whether a value was missing, which can help some models understand the pattern of missingness.\n",
    "\n",
    "Handling missing values carefully is a crucial step in the data preprocessing pipeline, ensuring that the resulting models are accurate and reliable."
   ]
  },
  {
   "cell_type": "markdown",
   "metadata": {},
   "source": [
    "## Q2: List down techniques used to handle missing data. Give an example of each with python code."
   ]
  },
  {
   "cell_type": "markdown",
   "metadata": {},
   "source": [
    "**Droping rows**"
   ]
  },
  {
   "cell_type": "code",
   "execution_count": 1,
   "metadata": {},
   "outputs": [
    {
     "data": {
      "text/html": [
       "<div>\n",
       "<style scoped>\n",
       "    .dataframe tbody tr th:only-of-type {\n",
       "        vertical-align: middle;\n",
       "    }\n",
       "\n",
       "    .dataframe tbody tr th {\n",
       "        vertical-align: top;\n",
       "    }\n",
       "\n",
       "    .dataframe thead th {\n",
       "        text-align: right;\n",
       "    }\n",
       "</style>\n",
       "<table border=\"1\" class=\"dataframe\">\n",
       "  <thead>\n",
       "    <tr style=\"text-align: right;\">\n",
       "      <th></th>\n",
       "      <th>survived</th>\n",
       "      <th>pclass</th>\n",
       "      <th>sex</th>\n",
       "      <th>age</th>\n",
       "      <th>sibsp</th>\n",
       "      <th>parch</th>\n",
       "      <th>fare</th>\n",
       "      <th>embarked</th>\n",
       "      <th>class</th>\n",
       "      <th>who</th>\n",
       "      <th>adult_male</th>\n",
       "      <th>deck</th>\n",
       "      <th>embark_town</th>\n",
       "      <th>alive</th>\n",
       "      <th>alone</th>\n",
       "    </tr>\n",
       "  </thead>\n",
       "  <tbody>\n",
       "    <tr>\n",
       "      <th>0</th>\n",
       "      <td>0</td>\n",
       "      <td>3</td>\n",
       "      <td>male</td>\n",
       "      <td>22.0</td>\n",
       "      <td>1</td>\n",
       "      <td>0</td>\n",
       "      <td>7.2500</td>\n",
       "      <td>S</td>\n",
       "      <td>Third</td>\n",
       "      <td>man</td>\n",
       "      <td>True</td>\n",
       "      <td>NaN</td>\n",
       "      <td>Southampton</td>\n",
       "      <td>no</td>\n",
       "      <td>False</td>\n",
       "    </tr>\n",
       "    <tr>\n",
       "      <th>1</th>\n",
       "      <td>1</td>\n",
       "      <td>1</td>\n",
       "      <td>female</td>\n",
       "      <td>38.0</td>\n",
       "      <td>1</td>\n",
       "      <td>0</td>\n",
       "      <td>71.2833</td>\n",
       "      <td>C</td>\n",
       "      <td>First</td>\n",
       "      <td>woman</td>\n",
       "      <td>False</td>\n",
       "      <td>C</td>\n",
       "      <td>Cherbourg</td>\n",
       "      <td>yes</td>\n",
       "      <td>False</td>\n",
       "    </tr>\n",
       "    <tr>\n",
       "      <th>2</th>\n",
       "      <td>1</td>\n",
       "      <td>3</td>\n",
       "      <td>female</td>\n",
       "      <td>26.0</td>\n",
       "      <td>0</td>\n",
       "      <td>0</td>\n",
       "      <td>7.9250</td>\n",
       "      <td>S</td>\n",
       "      <td>Third</td>\n",
       "      <td>woman</td>\n",
       "      <td>False</td>\n",
       "      <td>NaN</td>\n",
       "      <td>Southampton</td>\n",
       "      <td>yes</td>\n",
       "      <td>True</td>\n",
       "    </tr>\n",
       "    <tr>\n",
       "      <th>3</th>\n",
       "      <td>1</td>\n",
       "      <td>1</td>\n",
       "      <td>female</td>\n",
       "      <td>35.0</td>\n",
       "      <td>1</td>\n",
       "      <td>0</td>\n",
       "      <td>53.1000</td>\n",
       "      <td>S</td>\n",
       "      <td>First</td>\n",
       "      <td>woman</td>\n",
       "      <td>False</td>\n",
       "      <td>C</td>\n",
       "      <td>Southampton</td>\n",
       "      <td>yes</td>\n",
       "      <td>False</td>\n",
       "    </tr>\n",
       "    <tr>\n",
       "      <th>4</th>\n",
       "      <td>0</td>\n",
       "      <td>3</td>\n",
       "      <td>male</td>\n",
       "      <td>35.0</td>\n",
       "      <td>0</td>\n",
       "      <td>0</td>\n",
       "      <td>8.0500</td>\n",
       "      <td>S</td>\n",
       "      <td>Third</td>\n",
       "      <td>man</td>\n",
       "      <td>True</td>\n",
       "      <td>NaN</td>\n",
       "      <td>Southampton</td>\n",
       "      <td>no</td>\n",
       "      <td>True</td>\n",
       "    </tr>\n",
       "  </tbody>\n",
       "</table>\n",
       "</div>"
      ],
      "text/plain": [
       "   survived  pclass     sex   age  sibsp  parch     fare embarked  class  \\\n",
       "0         0       3    male  22.0      1      0   7.2500        S  Third   \n",
       "1         1       1  female  38.0      1      0  71.2833        C  First   \n",
       "2         1       3  female  26.0      0      0   7.9250        S  Third   \n",
       "3         1       1  female  35.0      1      0  53.1000        S  First   \n",
       "4         0       3    male  35.0      0      0   8.0500        S  Third   \n",
       "\n",
       "     who  adult_male deck  embark_town alive  alone  \n",
       "0    man        True  NaN  Southampton    no  False  \n",
       "1  woman       False    C    Cherbourg   yes  False  \n",
       "2  woman       False  NaN  Southampton   yes   True  \n",
       "3  woman       False    C  Southampton   yes  False  \n",
       "4    man        True  NaN  Southampton    no   True  "
      ]
     },
     "execution_count": 1,
     "metadata": {},
     "output_type": "execute_result"
    }
   ],
   "source": [
    "import seaborn as sns\n",
    "df=sns.load_dataset('titanic')\n",
    "df.head()"
   ]
  },
  {
   "cell_type": "code",
   "execution_count": 2,
   "metadata": {},
   "outputs": [
    {
     "name": "stdout",
     "output_type": "stream",
     "text": [
      "<class 'pandas.core.frame.DataFrame'>\n",
      "RangeIndex: 891 entries, 0 to 890\n",
      "Data columns (total 15 columns):\n",
      " #   Column       Non-Null Count  Dtype   \n",
      "---  ------       --------------  -----   \n",
      " 0   survived     891 non-null    int64   \n",
      " 1   pclass       891 non-null    int64   \n",
      " 2   sex          891 non-null    object  \n",
      " 3   age          714 non-null    float64 \n",
      " 4   sibsp        891 non-null    int64   \n",
      " 5   parch        891 non-null    int64   \n",
      " 6   fare         891 non-null    float64 \n",
      " 7   embarked     889 non-null    object  \n",
      " 8   class        891 non-null    category\n",
      " 9   who          891 non-null    object  \n",
      " 10  adult_male   891 non-null    bool    \n",
      " 11  deck         203 non-null    category\n",
      " 12  embark_town  889 non-null    object  \n",
      " 13  alive        891 non-null    object  \n",
      " 14  alone        891 non-null    bool    \n",
      "dtypes: bool(2), category(2), float64(2), int64(4), object(5)\n",
      "memory usage: 80.7+ KB\n"
     ]
    }
   ],
   "source": [
    "df.info()"
   ]
  },
  {
   "cell_type": "code",
   "execution_count": 3,
   "metadata": {},
   "outputs": [
    {
     "data": {
      "text/plain": [
       "survived         0\n",
       "pclass           0\n",
       "sex              0\n",
       "age            177\n",
       "sibsp            0\n",
       "parch            0\n",
       "fare             0\n",
       "embarked         2\n",
       "class            0\n",
       "who              0\n",
       "adult_male       0\n",
       "deck           688\n",
       "embark_town      2\n",
       "alive            0\n",
       "alone            0\n",
       "dtype: int64"
      ]
     },
     "execution_count": 3,
     "metadata": {},
     "output_type": "execute_result"
    }
   ],
   "source": [
    "df.isnull().sum()"
   ]
  },
  {
   "cell_type": "code",
   "execution_count": 4,
   "metadata": {},
   "outputs": [
    {
     "data": {
      "text/plain": [
       "(891, 15)"
      ]
     },
     "execution_count": 4,
     "metadata": {},
     "output_type": "execute_result"
    }
   ],
   "source": [
    "df.shape"
   ]
  },
  {
   "cell_type": "markdown",
   "metadata": {},
   "source": [
    "**here there is a huge loss of data by droping null values in row wise from 891 to 182**"
   ]
  },
  {
   "cell_type": "code",
   "execution_count": 5,
   "metadata": {},
   "outputs": [
    {
     "data": {
      "text/plain": [
       "(182, 15)"
      ]
     },
     "execution_count": 5,
     "metadata": {},
     "output_type": "execute_result"
    }
   ],
   "source": [
    "df.dropna().shape"
   ]
  },
  {
   "cell_type": "code",
   "execution_count": 6,
   "metadata": {},
   "outputs": [
    {
     "data": {
      "text/html": [
       "<div>\n",
       "<style scoped>\n",
       "    .dataframe tbody tr th:only-of-type {\n",
       "        vertical-align: middle;\n",
       "    }\n",
       "\n",
       "    .dataframe tbody tr th {\n",
       "        vertical-align: top;\n",
       "    }\n",
       "\n",
       "    .dataframe thead th {\n",
       "        text-align: right;\n",
       "    }\n",
       "</style>\n",
       "<table border=\"1\" class=\"dataframe\">\n",
       "  <thead>\n",
       "    <tr style=\"text-align: right;\">\n",
       "      <th></th>\n",
       "      <th>survived</th>\n",
       "      <th>pclass</th>\n",
       "      <th>sex</th>\n",
       "      <th>sibsp</th>\n",
       "      <th>parch</th>\n",
       "      <th>fare</th>\n",
       "      <th>class</th>\n",
       "      <th>who</th>\n",
       "      <th>adult_male</th>\n",
       "      <th>alive</th>\n",
       "      <th>alone</th>\n",
       "    </tr>\n",
       "  </thead>\n",
       "  <tbody>\n",
       "    <tr>\n",
       "      <th>0</th>\n",
       "      <td>0</td>\n",
       "      <td>3</td>\n",
       "      <td>male</td>\n",
       "      <td>1</td>\n",
       "      <td>0</td>\n",
       "      <td>7.2500</td>\n",
       "      <td>Third</td>\n",
       "      <td>man</td>\n",
       "      <td>True</td>\n",
       "      <td>no</td>\n",
       "      <td>False</td>\n",
       "    </tr>\n",
       "    <tr>\n",
       "      <th>1</th>\n",
       "      <td>1</td>\n",
       "      <td>1</td>\n",
       "      <td>female</td>\n",
       "      <td>1</td>\n",
       "      <td>0</td>\n",
       "      <td>71.2833</td>\n",
       "      <td>First</td>\n",
       "      <td>woman</td>\n",
       "      <td>False</td>\n",
       "      <td>yes</td>\n",
       "      <td>False</td>\n",
       "    </tr>\n",
       "    <tr>\n",
       "      <th>2</th>\n",
       "      <td>1</td>\n",
       "      <td>3</td>\n",
       "      <td>female</td>\n",
       "      <td>0</td>\n",
       "      <td>0</td>\n",
       "      <td>7.9250</td>\n",
       "      <td>Third</td>\n",
       "      <td>woman</td>\n",
       "      <td>False</td>\n",
       "      <td>yes</td>\n",
       "      <td>True</td>\n",
       "    </tr>\n",
       "    <tr>\n",
       "      <th>3</th>\n",
       "      <td>1</td>\n",
       "      <td>1</td>\n",
       "      <td>female</td>\n",
       "      <td>1</td>\n",
       "      <td>0</td>\n",
       "      <td>53.1000</td>\n",
       "      <td>First</td>\n",
       "      <td>woman</td>\n",
       "      <td>False</td>\n",
       "      <td>yes</td>\n",
       "      <td>False</td>\n",
       "    </tr>\n",
       "    <tr>\n",
       "      <th>4</th>\n",
       "      <td>0</td>\n",
       "      <td>3</td>\n",
       "      <td>male</td>\n",
       "      <td>0</td>\n",
       "      <td>0</td>\n",
       "      <td>8.0500</td>\n",
       "      <td>Third</td>\n",
       "      <td>man</td>\n",
       "      <td>True</td>\n",
       "      <td>no</td>\n",
       "      <td>True</td>\n",
       "    </tr>\n",
       "    <tr>\n",
       "      <th>...</th>\n",
       "      <td>...</td>\n",
       "      <td>...</td>\n",
       "      <td>...</td>\n",
       "      <td>...</td>\n",
       "      <td>...</td>\n",
       "      <td>...</td>\n",
       "      <td>...</td>\n",
       "      <td>...</td>\n",
       "      <td>...</td>\n",
       "      <td>...</td>\n",
       "      <td>...</td>\n",
       "    </tr>\n",
       "    <tr>\n",
       "      <th>886</th>\n",
       "      <td>0</td>\n",
       "      <td>2</td>\n",
       "      <td>male</td>\n",
       "      <td>0</td>\n",
       "      <td>0</td>\n",
       "      <td>13.0000</td>\n",
       "      <td>Second</td>\n",
       "      <td>man</td>\n",
       "      <td>True</td>\n",
       "      <td>no</td>\n",
       "      <td>True</td>\n",
       "    </tr>\n",
       "    <tr>\n",
       "      <th>887</th>\n",
       "      <td>1</td>\n",
       "      <td>1</td>\n",
       "      <td>female</td>\n",
       "      <td>0</td>\n",
       "      <td>0</td>\n",
       "      <td>30.0000</td>\n",
       "      <td>First</td>\n",
       "      <td>woman</td>\n",
       "      <td>False</td>\n",
       "      <td>yes</td>\n",
       "      <td>True</td>\n",
       "    </tr>\n",
       "    <tr>\n",
       "      <th>888</th>\n",
       "      <td>0</td>\n",
       "      <td>3</td>\n",
       "      <td>female</td>\n",
       "      <td>1</td>\n",
       "      <td>2</td>\n",
       "      <td>23.4500</td>\n",
       "      <td>Third</td>\n",
       "      <td>woman</td>\n",
       "      <td>False</td>\n",
       "      <td>no</td>\n",
       "      <td>False</td>\n",
       "    </tr>\n",
       "    <tr>\n",
       "      <th>889</th>\n",
       "      <td>1</td>\n",
       "      <td>1</td>\n",
       "      <td>male</td>\n",
       "      <td>0</td>\n",
       "      <td>0</td>\n",
       "      <td>30.0000</td>\n",
       "      <td>First</td>\n",
       "      <td>man</td>\n",
       "      <td>True</td>\n",
       "      <td>yes</td>\n",
       "      <td>True</td>\n",
       "    </tr>\n",
       "    <tr>\n",
       "      <th>890</th>\n",
       "      <td>0</td>\n",
       "      <td>3</td>\n",
       "      <td>male</td>\n",
       "      <td>0</td>\n",
       "      <td>0</td>\n",
       "      <td>7.7500</td>\n",
       "      <td>Third</td>\n",
       "      <td>man</td>\n",
       "      <td>True</td>\n",
       "      <td>no</td>\n",
       "      <td>True</td>\n",
       "    </tr>\n",
       "  </tbody>\n",
       "</table>\n",
       "<p>891 rows × 11 columns</p>\n",
       "</div>"
      ],
      "text/plain": [
       "     survived  pclass     sex  sibsp  parch     fare   class    who  \\\n",
       "0           0       3    male      1      0   7.2500   Third    man   \n",
       "1           1       1  female      1      0  71.2833   First  woman   \n",
       "2           1       3  female      0      0   7.9250   Third  woman   \n",
       "3           1       1  female      1      0  53.1000   First  woman   \n",
       "4           0       3    male      0      0   8.0500   Third    man   \n",
       "..        ...     ...     ...    ...    ...      ...     ...    ...   \n",
       "886         0       2    male      0      0  13.0000  Second    man   \n",
       "887         1       1  female      0      0  30.0000   First  woman   \n",
       "888         0       3  female      1      2  23.4500   Third  woman   \n",
       "889         1       1    male      0      0  30.0000   First    man   \n",
       "890         0       3    male      0      0   7.7500   Third    man   \n",
       "\n",
       "     adult_male alive  alone  \n",
       "0          True    no  False  \n",
       "1         False   yes  False  \n",
       "2         False   yes   True  \n",
       "3         False   yes  False  \n",
       "4          True    no   True  \n",
       "..          ...   ...    ...  \n",
       "886        True    no   True  \n",
       "887       False   yes   True  \n",
       "888       False    no  False  \n",
       "889        True   yes   True  \n",
       "890        True    no   True  \n",
       "\n",
       "[891 rows x 11 columns]"
      ]
     },
     "execution_count": 6,
     "metadata": {},
     "output_type": "execute_result"
    }
   ],
   "source": [
    "df.dropna(axis=1)#column wise"
   ]
  },
  {
   "cell_type": "markdown",
   "metadata": {},
   "source": [
    "<p1>mean value imputation<p1>"
   ]
  },
  {
   "cell_type": "code",
   "execution_count": 7,
   "metadata": {},
   "outputs": [
    {
     "name": "stdout",
     "output_type": "stream",
     "text": [
      "<class 'pandas.core.frame.DataFrame'>\n",
      "RangeIndex: 891 entries, 0 to 890\n",
      "Data columns (total 15 columns):\n",
      " #   Column       Non-Null Count  Dtype   \n",
      "---  ------       --------------  -----   \n",
      " 0   survived     891 non-null    int64   \n",
      " 1   pclass       891 non-null    int64   \n",
      " 2   sex          891 non-null    object  \n",
      " 3   age          714 non-null    float64 \n",
      " 4   sibsp        891 non-null    int64   \n",
      " 5   parch        891 non-null    int64   \n",
      " 6   fare         891 non-null    float64 \n",
      " 7   embarked     889 non-null    object  \n",
      " 8   class        891 non-null    category\n",
      " 9   who          891 non-null    object  \n",
      " 10  adult_male   891 non-null    bool    \n",
      " 11  deck         203 non-null    category\n",
      " 12  embark_town  889 non-null    object  \n",
      " 13  alive        891 non-null    object  \n",
      " 14  alone        891 non-null    bool    \n",
      "dtypes: bool(2), category(2), float64(2), int64(4), object(5)\n",
      "memory usage: 80.7+ KB\n"
     ]
    }
   ],
   "source": [
    "df.info()"
   ]
  },
  {
   "cell_type": "code",
   "execution_count": 8,
   "metadata": {},
   "outputs": [
    {
     "data": {
      "text/plain": [
       "0    22.0\n",
       "1    38.0\n",
       "2    26.0\n",
       "3    35.0\n",
       "4    35.0\n",
       "Name: age, dtype: float64"
      ]
     },
     "execution_count": 8,
     "metadata": {},
     "output_type": "execute_result"
    }
   ],
   "source": [
    "df['age'].head()"
   ]
  },
  {
   "cell_type": "code",
   "execution_count": 9,
   "metadata": {},
   "outputs": [],
   "source": [
    "df['mean_age']=df['age'].fillna(df['age'].mean())"
   ]
  },
  {
   "cell_type": "code",
   "execution_count": 10,
   "metadata": {},
   "outputs": [
    {
     "data": {
      "text/html": [
       "<div>\n",
       "<style scoped>\n",
       "    .dataframe tbody tr th:only-of-type {\n",
       "        vertical-align: middle;\n",
       "    }\n",
       "\n",
       "    .dataframe tbody tr th {\n",
       "        vertical-align: top;\n",
       "    }\n",
       "\n",
       "    .dataframe thead th {\n",
       "        text-align: right;\n",
       "    }\n",
       "</style>\n",
       "<table border=\"1\" class=\"dataframe\">\n",
       "  <thead>\n",
       "    <tr style=\"text-align: right;\">\n",
       "      <th></th>\n",
       "      <th>mean_age</th>\n",
       "      <th>age</th>\n",
       "    </tr>\n",
       "  </thead>\n",
       "  <tbody>\n",
       "    <tr>\n",
       "      <th>210</th>\n",
       "      <td>24.0</td>\n",
       "      <td>24.0</td>\n",
       "    </tr>\n",
       "    <tr>\n",
       "      <th>222</th>\n",
       "      <td>51.0</td>\n",
       "      <td>51.0</td>\n",
       "    </tr>\n",
       "    <tr>\n",
       "      <th>294</th>\n",
       "      <td>24.0</td>\n",
       "      <td>24.0</td>\n",
       "    </tr>\n",
       "    <tr>\n",
       "      <th>730</th>\n",
       "      <td>29.0</td>\n",
       "      <td>29.0</td>\n",
       "    </tr>\n",
       "    <tr>\n",
       "      <th>321</th>\n",
       "      <td>27.0</td>\n",
       "      <td>27.0</td>\n",
       "    </tr>\n",
       "    <tr>\n",
       "      <th>847</th>\n",
       "      <td>35.0</td>\n",
       "      <td>35.0</td>\n",
       "    </tr>\n",
       "    <tr>\n",
       "      <th>450</th>\n",
       "      <td>36.0</td>\n",
       "      <td>36.0</td>\n",
       "    </tr>\n",
       "    <tr>\n",
       "      <th>401</th>\n",
       "      <td>26.0</td>\n",
       "      <td>26.0</td>\n",
       "    </tr>\n",
       "    <tr>\n",
       "      <th>679</th>\n",
       "      <td>36.0</td>\n",
       "      <td>36.0</td>\n",
       "    </tr>\n",
       "    <tr>\n",
       "      <th>442</th>\n",
       "      <td>25.0</td>\n",
       "      <td>25.0</td>\n",
       "    </tr>\n",
       "  </tbody>\n",
       "</table>\n",
       "</div>"
      ],
      "text/plain": [
       "     mean_age   age\n",
       "210      24.0  24.0\n",
       "222      51.0  51.0\n",
       "294      24.0  24.0\n",
       "730      29.0  29.0\n",
       "321      27.0  27.0\n",
       "847      35.0  35.0\n",
       "450      36.0  36.0\n",
       "401      26.0  26.0\n",
       "679      36.0  36.0\n",
       "442      25.0  25.0"
      ]
     },
     "execution_count": 10,
     "metadata": {},
     "output_type": "execute_result"
    }
   ],
   "source": [
    "df[['mean_age','age']].sample(10)"
   ]
  },
  {
   "cell_type": "code",
   "execution_count": 11,
   "metadata": {},
   "outputs": [],
   "source": [
    "df['median_age']=df['age'].fillna(df['age'].median())"
   ]
  },
  {
   "cell_type": "code",
   "execution_count": 12,
   "metadata": {},
   "outputs": [
    {
     "data": {
      "text/html": [
       "<div>\n",
       "<style scoped>\n",
       "    .dataframe tbody tr th:only-of-type {\n",
       "        vertical-align: middle;\n",
       "    }\n",
       "\n",
       "    .dataframe tbody tr th {\n",
       "        vertical-align: top;\n",
       "    }\n",
       "\n",
       "    .dataframe thead th {\n",
       "        text-align: right;\n",
       "    }\n",
       "</style>\n",
       "<table border=\"1\" class=\"dataframe\">\n",
       "  <thead>\n",
       "    <tr style=\"text-align: right;\">\n",
       "      <th></th>\n",
       "      <th>median_age</th>\n",
       "      <th>age</th>\n",
       "    </tr>\n",
       "  </thead>\n",
       "  <tbody>\n",
       "    <tr>\n",
       "      <th>567</th>\n",
       "      <td>29.0</td>\n",
       "      <td>29.0</td>\n",
       "    </tr>\n",
       "    <tr>\n",
       "      <th>643</th>\n",
       "      <td>28.0</td>\n",
       "      <td>NaN</td>\n",
       "    </tr>\n",
       "    <tr>\n",
       "      <th>458</th>\n",
       "      <td>50.0</td>\n",
       "      <td>50.0</td>\n",
       "    </tr>\n",
       "    <tr>\n",
       "      <th>329</th>\n",
       "      <td>16.0</td>\n",
       "      <td>16.0</td>\n",
       "    </tr>\n",
       "    <tr>\n",
       "      <th>503</th>\n",
       "      <td>37.0</td>\n",
       "      <td>37.0</td>\n",
       "    </tr>\n",
       "    <tr>\n",
       "      <th>32</th>\n",
       "      <td>28.0</td>\n",
       "      <td>NaN</td>\n",
       "    </tr>\n",
       "    <tr>\n",
       "      <th>360</th>\n",
       "      <td>40.0</td>\n",
       "      <td>40.0</td>\n",
       "    </tr>\n",
       "    <tr>\n",
       "      <th>432</th>\n",
       "      <td>42.0</td>\n",
       "      <td>42.0</td>\n",
       "    </tr>\n",
       "    <tr>\n",
       "      <th>473</th>\n",
       "      <td>23.0</td>\n",
       "      <td>23.0</td>\n",
       "    </tr>\n",
       "    <tr>\n",
       "      <th>451</th>\n",
       "      <td>28.0</td>\n",
       "      <td>NaN</td>\n",
       "    </tr>\n",
       "  </tbody>\n",
       "</table>\n",
       "</div>"
      ],
      "text/plain": [
       "     median_age   age\n",
       "567        29.0  29.0\n",
       "643        28.0   NaN\n",
       "458        50.0  50.0\n",
       "329        16.0  16.0\n",
       "503        37.0  37.0\n",
       "32         28.0   NaN\n",
       "360        40.0  40.0\n",
       "432        42.0  42.0\n",
       "473        23.0  23.0\n",
       "451        28.0   NaN"
      ]
     },
     "execution_count": 12,
     "metadata": {},
     "output_type": "execute_result"
    }
   ],
   "source": [
    "df[['median_age','age']].sample(10)"
   ]
  },
  {
   "cell_type": "markdown",
   "metadata": {},
   "source": [
    "<p1>mode value imputation<p1>"
   ]
  },
  {
   "cell_type": "code",
   "execution_count": 13,
   "metadata": {},
   "outputs": [
    {
     "data": {
      "text/plain": [
       "array(['S', 'C', 'Q', nan], dtype=object)"
      ]
     },
     "execution_count": 13,
     "metadata": {},
     "output_type": "execute_result"
    }
   ],
   "source": [
    "df['embarked'].unique()"
   ]
  },
  {
   "cell_type": "code",
   "execution_count": 14,
   "metadata": {},
   "outputs": [],
   "source": [
    "df['embarked_mode_fill']=df['embarked'].fillna(df['embarked'].mode()[0])"
   ]
  },
  {
   "cell_type": "code",
   "execution_count": 15,
   "metadata": {},
   "outputs": [
    {
     "data": {
      "text/plain": [
       "array(['S', 'C', 'Q'], dtype=object)"
      ]
     },
     "execution_count": 15,
     "metadata": {},
     "output_type": "execute_result"
    }
   ],
   "source": [
    "df['embarked_mode_fill'].unique()"
   ]
  },
  {
   "cell_type": "markdown",
   "metadata": {},
   "source": [
    "## Q3: Explain the imbalanced data. What will happen if imbalanced data is not handled?"
   ]
  },
  {
   "cell_type": "markdown",
   "metadata": {},
   "source": [
    "Imbalanced data refers to a situation in a classification problem where the distribution of classes is not equal, resulting in one or more classes having significantly fewer samples compared to the others ie. there is an unequal proportion of data points among the different classes.\n",
    "\n",
    "For example, consider a binary classification problem to detect fraudulent transactions. If only a tiny fraction of transactions are fraudulent, and the vast majority are non-fraudulent, the dataset is imbalanced.\n",
    "\n",
    "\n",
    "#### If imbalanced data is not handled properly, several issues may arise:\n",
    "\n",
    "**Biased Model**: When the data is imbalanced, the model can become biased towards the majority class. The classifier may perform well on the majority class but poorly on the minority class. The model may classify almost all examples as the majority class, leading to low sensitivity or recall for the minority class.\n",
    "\n",
    "**Misleading Accuracy**: Accuracy is not an appropriate metric to evaluate model performance on imbalanced data. A model that predicts the majority class for all instances may have high accuracy due to the large number of majority class samples but fail to detect the minority class.\n",
    "\n",
    "**False Positives and Negatives**: A biased model may produce a large number of false positives or false negatives for the minority class. For example, in medical diagnosis, a model may falsely predict that a rare disease is not present in most cases.\n",
    "\n",
    "**Reduced Generalization**: The model's performance on new, unseen data may suffer due to its inability to generalize well across imbalanced classes. It may struggle to make accurate predictions on real-world scenarios.\n",
    "\n",
    "#### To address imbalanced data, various techniques can be employed:\n",
    "\n",
    "**Resampling**: It involves either oversampling the minority class to create more instances or undersampling the majority class to reduce its dominance. Both techniques aim to balance the class distribution.\n",
    "\n",
    "**Synthetic Data Generation**: Techniques like SMOTE (Synthetic Minority Over-sampling Technique) can be used to generate synthetic samples for the minority class.\n",
    "\n",
    "**Cost-Sensitive Learning**: Assigning different misclassification costs to different classes during model training to encourage the model to focus on correctly classifying the minority class.\n",
    "\n",
    "**Ensemble Methods**: Ensemble techniques like Random Forest or Gradient Boosting are often robust to imbalanced data and can improve model performance.\n",
    "\n",
    "**Anomaly Detection Techniques**: In cases where the minority class represents anomalies or rare events, anomaly detection methods can be used to handle imbalanced data effectively."
   ]
  },
  {
   "cell_type": "markdown",
   "metadata": {},
   "source": [
    "## Q4: What are Up-sampling and Down-sampling? Explain with an example when up-sampling and down- sampling are required."
   ]
  },
  {
   "cell_type": "markdown",
   "metadata": {},
   "source": [
    "**Upsampling**: Upsampling involves increasing the number of instances in the minority class to balance the class distribution. This is typically achieved by replicating existing instances of the minority class or by generating synthetic samples using techniques like SMOTE (Synthetic Minority Over-sampling Technique).\n",
    "\n",
    "**Downsampling**: Downsampling involves reducing the number of instances in the majority class to balance the class distribution. This is typically achieved by randomly removing instances from the majority class."
   ]
  },
  {
   "cell_type": "code",
   "execution_count": 16,
   "metadata": {},
   "outputs": [],
   "source": [
    "import pandas as pd\n",
    "from sklearn.datasets import make_classification"
   ]
  },
  {
   "cell_type": "code",
   "execution_count": 17,
   "metadata": {},
   "outputs": [],
   "source": [
    "X,y=make_classification(n_samples=1000,n_features=2,n_classes=2,n_redundant=0,weights=[0.9],random_state=22)"
   ]
  },
  {
   "cell_type": "code",
   "execution_count": 18,
   "metadata": {},
   "outputs": [],
   "source": [
    "df1=pd.DataFrame(X,columns=['f1','f2'])\n",
    "df2=pd.DataFrame(y,columns=['target'])\n",
    "df=pd.concat([df1,df2],axis=1)"
   ]
  },
  {
   "cell_type": "code",
   "execution_count": 19,
   "metadata": {},
   "outputs": [
    {
     "data": {
      "text/html": [
       "<div>\n",
       "<style scoped>\n",
       "    .dataframe tbody tr th:only-of-type {\n",
       "        vertical-align: middle;\n",
       "    }\n",
       "\n",
       "    .dataframe tbody tr th {\n",
       "        vertical-align: top;\n",
       "    }\n",
       "\n",
       "    .dataframe thead th {\n",
       "        text-align: right;\n",
       "    }\n",
       "</style>\n",
       "<table border=\"1\" class=\"dataframe\">\n",
       "  <thead>\n",
       "    <tr style=\"text-align: right;\">\n",
       "      <th></th>\n",
       "      <th>f1</th>\n",
       "      <th>f2</th>\n",
       "      <th>target</th>\n",
       "    </tr>\n",
       "  </thead>\n",
       "  <tbody>\n",
       "    <tr>\n",
       "      <th>0</th>\n",
       "      <td>-0.913617</td>\n",
       "      <td>-1.660768</td>\n",
       "      <td>0</td>\n",
       "    </tr>\n",
       "    <tr>\n",
       "      <th>1</th>\n",
       "      <td>-1.599159</td>\n",
       "      <td>0.161995</td>\n",
       "      <td>0</td>\n",
       "    </tr>\n",
       "    <tr>\n",
       "      <th>2</th>\n",
       "      <td>-1.360127</td>\n",
       "      <td>0.238841</td>\n",
       "      <td>0</td>\n",
       "    </tr>\n",
       "    <tr>\n",
       "      <th>3</th>\n",
       "      <td>-1.120279</td>\n",
       "      <td>0.736165</td>\n",
       "      <td>0</td>\n",
       "    </tr>\n",
       "    <tr>\n",
       "      <th>4</th>\n",
       "      <td>-0.988004</td>\n",
       "      <td>0.981340</td>\n",
       "      <td>0</td>\n",
       "    </tr>\n",
       "  </tbody>\n",
       "</table>\n",
       "</div>"
      ],
      "text/plain": [
       "         f1        f2  target\n",
       "0 -0.913617 -1.660768       0\n",
       "1 -1.599159  0.161995       0\n",
       "2 -1.360127  0.238841       0\n",
       "3 -1.120279  0.736165       0\n",
       "4 -0.988004  0.981340       0"
      ]
     },
     "execution_count": 19,
     "metadata": {},
     "output_type": "execute_result"
    }
   ],
   "source": [
    "df.head()"
   ]
  },
  {
   "cell_type": "code",
   "execution_count": 20,
   "metadata": {},
   "outputs": [
    {
     "data": {
      "text/plain": [
       "(1000, 3)"
      ]
     },
     "execution_count": 20,
     "metadata": {},
     "output_type": "execute_result"
    }
   ],
   "source": [
    "df.shape"
   ]
  },
  {
   "cell_type": "code",
   "execution_count": 21,
   "metadata": {},
   "outputs": [
    {
     "data": {
      "text/plain": [
       "target\n",
       "0    898\n",
       "1    102\n",
       "Name: count, dtype: int64"
      ]
     },
     "execution_count": 21,
     "metadata": {},
     "output_type": "execute_result"
    }
   ],
   "source": [
    "df['target'].value_counts()"
   ]
  },
  {
   "cell_type": "markdown",
   "metadata": {},
   "source": [
    "<h3>Upsampling<h3>"
   ]
  },
  {
   "cell_type": "code",
   "execution_count": 22,
   "metadata": {},
   "outputs": [],
   "source": [
    "from sklearn.utils import resample\n",
    "import matplotlib.pyplot as plt"
   ]
  },
  {
   "cell_type": "code",
   "execution_count": 23,
   "metadata": {},
   "outputs": [
    {
     "data": {
      "text/plain": [
       "<matplotlib.collections.PathCollection at 0x229bdaa7cb0>"
      ]
     },
     "execution_count": 23,
     "metadata": {},
     "output_type": "execute_result"
    },
    {
     "data": {
      "image/png": "[encoded data removed]",
      "text/plain": [
       "<Figure size 640x480 with 1 Axes>"
      ]
     },
     "metadata": {},
     "output_type": "display_data"
    }
   ],
   "source": [
    "plt.scatter(df['f1'],df['f2'],c=df['target'])"
   ]
  },
  {
   "cell_type": "code",
   "execution_count": 24,
   "metadata": {},
   "outputs": [],
   "source": [
    "df_minority=df[df['target']==1]\n",
    "df_majority=df[df['target']==0]"
   ]
  },
  {
   "cell_type": "code",
   "execution_count": 25,
   "metadata": {},
   "outputs": [
    {
     "data": {
      "text/plain": [
       "((102, 3), (898, 3))"
      ]
     },
     "execution_count": 25,
     "metadata": {},
     "output_type": "execute_result"
    }
   ],
   "source": [
    "df_minority.shape,df_majority.shape"
   ]
  },
  {
   "cell_type": "code",
   "execution_count": 26,
   "metadata": {},
   "outputs": [],
   "source": [
    "df_upsampled_data=resample(df_minority,replace=True,n_samples=len(df_majority))"
   ]
  },
  {
   "cell_type": "code",
   "execution_count": 27,
   "metadata": {},
   "outputs": [],
   "source": [
    "df_upsampled=pd.concat([df_majority,df_upsampled_data])"
   ]
  },
  {
   "cell_type": "code",
   "execution_count": 28,
   "metadata": {},
   "outputs": [
    {
     "data": {
      "text/plain": [
       "(1796, 3)"
      ]
     },
     "execution_count": 28,
     "metadata": {},
     "output_type": "execute_result"
    }
   ],
   "source": [
    "df_upsampled.shape"
   ]
  },
  {
   "cell_type": "code",
   "execution_count": 29,
   "metadata": {},
   "outputs": [
    {
     "data": {
      "text/plain": [
       "<matplotlib.collections.PathCollection at 0x229c01cbc80>"
      ]
     },
     "execution_count": 29,
     "metadata": {},
     "output_type": "execute_result"
    },
    {
     "data": {
      "image/png": "[encoded data removed]",
      "text/plain": [
       "<Figure size 640x480 with 1 Axes>"
      ]
     },
     "metadata": {},
     "output_type": "display_data"
    }
   ],
   "source": [
    "plt.scatter(df_upsampled['f1'],df_upsampled['f2'],c=df_upsampled['target'])"
   ]
  },
  {
   "cell_type": "code",
   "execution_count": 30,
   "metadata": {},
   "outputs": [],
   "source": [
    "df_downsample_data=resample(df_majority,replace=True,n_samples=len(df_minority))"
   ]
  },
  {
   "cell_type": "code",
   "execution_count": 31,
   "metadata": {},
   "outputs": [],
   "source": [
    "df_downsample=pd.concat([df_downsample_data,df_minority])"
   ]
  },
  {
   "cell_type": "code",
   "execution_count": 32,
   "metadata": {},
   "outputs": [
    {
     "data": {
      "text/plain": [
       "(204, 3)"
      ]
     },
     "execution_count": 32,
     "metadata": {},
     "output_type": "execute_result"
    }
   ],
   "source": [
    "df_downsample.shape"
   ]
  },
  {
   "cell_type": "code",
   "execution_count": 33,
   "metadata": {},
   "outputs": [
    {
     "data": {
      "text/plain": [
       "<matplotlib.collections.PathCollection at 0x229c0201ee0>"
      ]
     },
     "execution_count": 33,
     "metadata": {},
     "output_type": "execute_result"
    },
    {
     "data": {
      "image/png": "[encoded data removed]",
      "text/plain": [
       "<Figure size 640x480 with 1 Axes>"
      ]
     },
     "metadata": {},
     "output_type": "display_data"
    }
   ],
   "source": [
    "plt.scatter(df_downsample['f1'],df_downsample['f2'],c=df_downsample['target'])"
   ]
  },
  {
   "cell_type": "markdown",
   "metadata": {},
   "source": [
    "## Q5: What is data Augmentation? Explain SMOTE."
   ]
  },
  {
   "cell_type": "markdown",
   "metadata": {},
   "source": [
    "Data augmentation is a technique used to artificially increase the size and diversity of a dataset by creating new variations of the existing data. In various machine learning tasks, especially in computer vision and natural language processing, data augmentation is employed to improve model generalization and robustness. By introducing variations in the data, the model becomes more capable of handling different scenarios and variations that may be encountered in real-world applications.\n",
    "\n",
    "SMOTE (Synthetic Minority Over-sampling Technique) is a specific data augmentation technique designed to address imbalanced datasets in classification problems, where one class has significantly fewer instances than the other class(es). SMOTE creates synthetic samples for the minority class by interpolating between existing minority class instances.\n",
    "\n",
    "How SMOTE works:\n",
    "\n",
    "For each minority class sample, SMOTE selects k nearest neighbors from the same class based on some distance metric (e.g., Euclidean distance) in the feature space.\n",
    "\n",
    "A random neighbor is selected among the k nearest neighbors, and a synthetic sample is generated by linearly interpolating between the selected minority class sample and the random neighbor. The amount of interpolation is controlled by a random value between 0 and 1.\n",
    "\n",
    "The process is repeated until the desired number of synthetic samples is generated to balance the class distribution or reach a specific level of desired balance."
   ]
  },
  {
   "cell_type": "code",
   "execution_count": 34,
   "metadata": {},
   "outputs": [],
   "source": [
    "from sklearn.datasets import make_classification\n",
    "import pandas as pd"
   ]
  },
  {
   "cell_type": "code",
   "execution_count": 35,
   "metadata": {},
   "outputs": [],
   "source": [
    "X,y=make_classification(n_samples=10000,n_classes=2,n_features=2,n_redundant=0,weights=[0.80],random_state=42)"
   ]
  },
  {
   "cell_type": "code",
   "execution_count": 36,
   "metadata": {},
   "outputs": [],
   "source": [
    "df1=pd.DataFrame(X,columns=['f1','f2'])\n",
    "df2=pd.DataFrame(y,columns=['target'])\n",
    "df=pd.concat([df1,df2],axis=1)"
   ]
  },
  {
   "cell_type": "code",
   "execution_count": 37,
   "metadata": {},
   "outputs": [
    {
     "data": {
      "text/html": [
       "<div>\n",
       "<style scoped>\n",
       "    .dataframe tbody tr th:only-of-type {\n",
       "        vertical-align: middle;\n",
       "    }\n",
       "\n",
       "    .dataframe tbody tr th {\n",
       "        vertical-align: top;\n",
       "    }\n",
       "\n",
       "    .dataframe thead th {\n",
       "        text-align: right;\n",
       "    }\n",
       "</style>\n",
       "<table border=\"1\" class=\"dataframe\">\n",
       "  <thead>\n",
       "    <tr style=\"text-align: right;\">\n",
       "      <th></th>\n",
       "      <th>f1</th>\n",
       "      <th>f2</th>\n",
       "      <th>target</th>\n",
       "    </tr>\n",
       "  </thead>\n",
       "  <tbody>\n",
       "    <tr>\n",
       "      <th>0</th>\n",
       "      <td>0.771440</td>\n",
       "      <td>-1.262335</td>\n",
       "      <td>0</td>\n",
       "    </tr>\n",
       "    <tr>\n",
       "      <th>1</th>\n",
       "      <td>-1.292116</td>\n",
       "      <td>-0.409111</td>\n",
       "      <td>0</td>\n",
       "    </tr>\n",
       "    <tr>\n",
       "      <th>2</th>\n",
       "      <td>-1.427221</td>\n",
       "      <td>1.619316</td>\n",
       "      <td>1</td>\n",
       "    </tr>\n",
       "    <tr>\n",
       "      <th>3</th>\n",
       "      <td>-1.862943</td>\n",
       "      <td>1.682255</td>\n",
       "      <td>1</td>\n",
       "    </tr>\n",
       "    <tr>\n",
       "      <th>4</th>\n",
       "      <td>1.326361</td>\n",
       "      <td>0.320554</td>\n",
       "      <td>0</td>\n",
       "    </tr>\n",
       "  </tbody>\n",
       "</table>\n",
       "</div>"
      ],
      "text/plain": [
       "         f1        f2  target\n",
       "0  0.771440 -1.262335       0\n",
       "1 -1.292116 -0.409111       0\n",
       "2 -1.427221  1.619316       1\n",
       "3 -1.862943  1.682255       1\n",
       "4  1.326361  0.320554       0"
      ]
     },
     "execution_count": 37,
     "metadata": {},
     "output_type": "execute_result"
    }
   ],
   "source": [
    "df.head()"
   ]
  },
  {
   "cell_type": "code",
   "execution_count": 38,
   "metadata": {},
   "outputs": [],
   "source": [
    "from imblearn.over_sampling import SMOTE"
   ]
  },
  {
   "cell_type": "code",
   "execution_count": 39,
   "metadata": {},
   "outputs": [],
   "source": [
    "over_sample=SMOTE()"
   ]
  },
  {
   "cell_type": "code",
   "execution_count": 43,
   "metadata": {},
   "outputs": [],
   "source": [
    "X,y=over_sample.fit_resample(df[['f1','f2']],df['target'])"
   ]
  },
  {
   "cell_type": "code",
   "execution_count": 44,
   "metadata": {},
   "outputs": [],
   "source": [
    "df1=pd.DataFrame(X,columns=['f1','f2'])\n",
    "df2=pd.DataFrame(y,columns=['target'])\n",
    "over_sample_df=pd.concat([df1,df2],axis=1)"
   ]
  },
  {
   "cell_type": "code",
   "execution_count": 45,
   "metadata": {},
   "outputs": [
    {
     "data": {
      "text/plain": [
       "(15956, 3)"
      ]
     },
     "execution_count": 45,
     "metadata": {},
     "output_type": "execute_result"
    }
   ],
   "source": [
    "over_sample_df.shape"
   ]
  },
  {
   "cell_type": "code",
   "execution_count": 46,
   "metadata": {},
   "outputs": [
    {
     "data": {
      "text/plain": [
       "<matplotlib.collections.PathCollection at 0x229c1624920>"
      ]
     },
     "execution_count": 46,
     "metadata": {},
     "output_type": "execute_result"
    },
    {
     "data": {
      "image/png": "[encoded data removed]",
      "text/plain": [
       "<Figure size 640x480 with 1 Axes>"
      ]
     },
     "metadata": {},
     "output_type": "display_data"
    }
   ],
   "source": [
    "plt.scatter(over_sample_df['f1'],over_sample_df['f2'],c=over_sample_df['target'])"
   ]
  },
  {
   "cell_type": "markdown",
   "metadata": {},
   "source": [
    "## Q6: What are outliers in a dataset? Why is it essential to handle outliers?"
   ]
  },
  {
   "cell_type": "markdown",
   "metadata": {},
   "source": [
    "Outliers in a dataset are data points that significantly deviate from the rest of the data points. They are observations that lie at an abnormal distance from other data points, often distant from the central tendency (mean or median) of the data. Outliers can be extreme values that are much larger or much smaller than the majority of the data points in a particular feature or attribute.\n",
    "\n",
    "\n",
    "Handling outliers is essential for several reasons:\n",
    "\n",
    "**Data Quality and Accuracy**: Outliers can be the result of data entry errors, measurement errors, or anomalies in the data collection process. Dealing with outliers ensures data quality and accuracy, leading to more reliable analysis and modeling.\n",
    "\n",
    "**Impact on Statistical Analysis**: Outliers can significantly skew statistical analysis and metrics such as mean, standard deviation, and correlation coefficients. Removing or properly handling outliers ensures that these statistics accurately represent the underlying data distribution.\n",
    "\n",
    "**Model Performance**: Outliers can have a disproportionate impact on the model's training process. They can distort the learning algorithm's decision boundaries, leading to poor model performance and predictions. Handling outliers can help build more robust and accurate machine learning models.\n",
    "\n",
    "**Assumptions of Models**: Some machine learning algorithms, such as linear regression, assume that the data follows a normal distribution without significant outliers. Outliers violating these assumptions can lead to biased estimates and incorrect model outputs.\n",
    "\n",
    "**Interpretability and Generalization**: Outliers can cause models to overfit to noise and specific instances in the data, reducing their ability to generalize to new, unseen data. Handling outliers ensures better model interpretability and generalization.\n",
    "\n",
    "\n",
    "Generally the approach used to find outliers is by the boxplot graph"
   ]
  },
  {
   "cell_type": "markdown",
   "metadata": {},
   "source": [
    "## Q7: You are working on a project that requires analyzing customer data. However, you notice that some of the data is missing. What are some techniques you can use to handle the missing data in your analysis?"
   ]
  },
  {
   "cell_type": "markdown",
   "metadata": {},
   "source": [
    "The are several techniques that can be used to handle missing data:\n",
    "\n",
    "#### Deletion:\n",
    "**Listwise Deletion**: Removing entire rows with missing values. It is straightforward but may lead to loss of valuable information if the amount of missing data is significant.\n",
    "<br>**Pairwise Deletion**: Analyzing available data for each pair of variables independently. This method utilizes all available data but may introduce bias in the analysis.\n",
    "\n",
    "#### Imputation:\n",
    "**Mean/Median/Mode Imputation**: Replacing missing values with the mean, median, or mode of the corresponding feature. It is a simple approach but may not be suitable if data follows a skewed distribution.\n",
    "<br>**Regression Imputation**: Using regression models to predict missing values based on other correlated variables.\n",
    "<br>**K-Nearest Neighbors (KNN) Imputation**: Imputing missing values based on the values of the k-nearest neighbors in the feature space.\n",
    "<br>**Multiple Imputation**: Creating multiple imputed datasets to account for uncertainty in the imputation process. This method is particularly useful when the data is missing at random (MAR).\n",
    "\n",
    "#### Forward or Backward Fill:\n",
    "For time series data, missing values can be filled by propagating the last observed value forward or the next observed value backward.\n",
    "\n",
    "#### Interpolation*:\n",
    "Interpolating missing values based on a linear or polynomial relationship between neighboring data points.\n",
    "Using Algorithms Tolerant to Missing Data:\n",
    "\n",
    "Some machine learning algorithms can naturally handle missing data, such as decision trees or random forests.\n",
    "\n",
    "#### Data Augmentation:\n",
    "For certain types of data, data augmentation techniques can be used to generate synthetic data points for missing values.\n",
    "\n",
    "#### Domain Expertise and Business Rules:\n",
    "In some cases, domain knowledge and business rules can guide the handling of missing data. For example, setting missing values to a specific category or default value based on business rules."
   ]
  },
  {
   "cell_type": "markdown",
   "metadata": {},
   "source": [
    "## Q8: You are working with a large dataset and find that a small percentage of the data is missing. What are some strategies you can use to determine if the missing data is missing at random or if there is a pattern to the missing data?"
   ]
  },
  {
   "cell_type": "markdown",
   "metadata": {},
   "source": [
    "Different strategies can be employed to investigate the patterns of missing data:\n",
    "\n",
    "**1. Data Visualization**:\n",
    "\n",
    "Plotting the distribution of missing values across different features can reveal patterns. You can use heatmaps or bar plots to visualize the missingness for each feature.\n",
    "Scatter plots or other visualizations can be helpful in identifying potential relationships between missing values and other variables.\n",
    "\n",
    "**2. Descriptive Statistics**:\n",
    "\n",
    "Computing summary statistics like mean, median, or standard deviation for features with and without missing values can provide insights into potential patterns.\n",
    "\n",
    "**3. Correlation Analysis**:\n",
    "\n",
    "Analyzing the correlation between missingness in one variable and other variables in the dataset may reveal potential relationships. Correlation matrices can be used for this purpose.\n",
    "\n",
    "**4. Hypothesis Testing**:\n",
    "\n",
    "Performing statistical tests to assess if the missingness in a particular variable is related to other variables in the dataset. Chi-square tests or t-tests can be used for this purpose.\n",
    "\n",
    "**5. Imputation and Sensitivity Analysis**:\n",
    "\n",
    "Impute the missing data using different methods (e.g., mean imputation, regression imputation, multiple imputation) and assess the impact of different imputation strategies on the results. If the results are robust to different imputation methods, the missing data might be MCAR or MAR.\n",
    "\n",
    "**6. Investigate Data Collection Process**:\n",
    "\n",
    "Understanding how the data was collected and identifying any potential biases or issues in the data collection process can help identify the reasons behind missing data.\n",
    "\n",
    "**7. Machine Learning Models**:\n",
    "\n",
    "Train a machine learning model to predict the presence or absence of missing values in a particular variable based on other variables. The model can give insights into potential relationships and patterns in the missing data.\n",
    "\n",
    "**8. Pattern Analysis**:\n",
    "\n",
    "Investigate if certain subsets of data have higher or lower missingness than others. For example, missingness might be more prevalent in certain geographical regions or for specific customer segments."
   ]
  },
  {
   "cell_type": "markdown",
   "metadata": {},
   "source": [
    "## Q9: Suppose you are working on a medical diagnosis project and find that the majority of patients in the dataset do not have the condition of interest, while a small percentage do. What are some strategies you can use to evaluate the performance of your machine learning model on this imbalanced dataset?"
   ]
  },
  {
   "cell_type": "markdown",
   "metadata": {},
   "source": [
    "When dealing with imbalanced datasets in a medical diagnosis project, it is crucial to adopt appropriate evaluation strategies to assess the performance of the machine learning model accurately. \n",
    "\n",
    "The strategies to evaluate the model effectively:\n",
    "\n",
    "**Confusion Matrix**: Use a confusion matrix to analyze the model's predictions. It provides a detailed breakdown of true positives, true negatives, false positives, and false negatives.\n",
    "\n",
    "**Accuracy with Caution**: Be cautious when relying solely on accuracy as an evaluation metric, especially for imbalanced datasets. Accuracy might be misleading, as it can be dominated by the majority class, leading to high accuracy but poor performance on the minority class.\n",
    "\n",
    "**Precision, Recall, and F1-score**: Precision (positive predictive value) and recall (sensitivity) are valuable metrics for imbalanced datasets. Precision measures the proportion of true positives among predicted positives, while recall measures the proportion of true positives among actual positives. The F1-score is the harmonic mean of precision and recall, providing a balanced metric that considers both false positives and false negatives.\n",
    "\n",
    "**Receiver Operating Characteristic (ROC) Curve**: Plot the ROC curve to assess the model's performance across different thresholds. The area under the ROC curve (AUC-ROC) is a valuable metric for imbalanced datasets, providing an aggregate measure of the model's discrimination power.\n",
    "\n",
    "**Precision-Recall (PR) Curve**: Use the PR curve when the positive class is of greater interest. It visualizes the trade-off between precision and recall across different probability thresholds.\n",
    "\n",
    "**Cost-Sensitive Learning**: Incorporate class weights or misclassification costs to give more importance to the minority class during training.\n",
    "\n",
    "**Cross-Validation**: Utilize techniques like stratified k-fold cross-validation to ensure that each fold maintains the original class distribution. This helps in obtaining more robust and unbiased performance estimates.\n",
    "\n",
    "**Resampling Methods**: Evaluate the model's performance using resampling techniques like oversampling, undersampling, or SMOTE to balance the class distribution during cross-validation.\n",
    "\n",
    "**Ensemble Methods**: Consider using ensemble methods like Random Forest or Gradient Boosting, which can handle imbalanced datasets better than single models.\n",
    "\n",
    "**Threshold Adjustment**: In certain cases, adjust the classification threshold based on the desired trade-off between precision and recall to optimize the model's performance for the specific application.\n",
    "\n",
    "**Domain Expertise**: Involve domain experts to interpret the model's performance and validate the clinical significance of the results."
   ]
  },
  {
   "cell_type": "markdown",
   "metadata": {},
   "source": [
    "## Q10: When attempting to estimate customer satisfaction for a project, you discover that the dataset is unbalanced, with the bulk of customers reporting being satisfied. What methods can you employ to balance the dataset and down-sample the majority class?"
   ]
  },
  {
   "cell_type": "markdown",
   "metadata": {},
   "source": [
    "To balance the dataset and down-sample the majority class when attempting to estimate customer satisfaction, you can employ various techniques. \n",
    "\n",
    "\n",
    "Down-sampling involves reducing the number of instances in the majority class to match the number of instances in the minority class some methods to achieve this are :\n",
    "\n",
    "**Random Under-Sampling**: Randomly select a subset of instances from the majority class to match the number of instances in the minority class. This approach is simple but may lead to loss of valuable information.\n",
    "\n",
    "**Cluster-Based Under-Sampling**: Divide the majority class into clusters using clustering algorithms and then select a representative subset of instances from each cluster to maintain diversity.\n",
    "\n",
    "**Tomek Links**: Identify pairs of instances, one from the majority class and one from the minority class, that are the nearest neighbors of each other. Remove the majority class instance of each pair.\n",
    "\n",
    "**Edited Nearest Neighbors**: Remove majority class instances that are misclassified by their k-nearest neighbors from the minority class.\n",
    "\n",
    "**NearMiss**: Select majority class instances that are closest to minority class instances based on distance metrics.\n",
    "\n",
    "**Instance Hardness Threshold**: Calculate instance hardness scores for each data point based on the classifier's confidence. Select instances with lower hardness scores from the majority class.\n",
    "\n",
    "**Ensemble Methods**: Use ensemble techniques like EasyEnsemble or BalanceCascade, which create multiple balanced datasets by combining several random subsets of the majority class."
   ]
  },
  {
   "cell_type": "markdown",
   "metadata": {},
   "source": [
    "## Q11: You discover that the dataset is unbalanced with a low percentage of occurrences while working on a project that requires you to estimate the occurrence of a rare event. What methods can you employ to balance the dataset and up-sample the minority class?"
   ]
  },
  {
   "cell_type": "markdown",
   "metadata": {},
   "source": [
    "When dealing with an imbalanced dataset with a low percentage of occurrences of a rare event, you can employ various techniques to balance the dataset and up-sample the minority class.\n",
    "\n",
    "\n",
    "Up-sampling involves increasing the number of instances in the minority class to match the number of instances in the majority class some methods to achieve upsampling are:\n",
    "\n",
    "**Random Over-Sampling**: Randomly duplicate instances from the minority class to increase its size. This approach is simple but may lead to overfitting and an overestimation of the rare event occurrence.\n",
    "\n",
    "**SMOTE (Synthetic Minority Over-sampling Technique)**: Generate synthetic samples for the minority class by interpolating between existing instances. SMOTE selects a random neighbor for each minority class instance and creates synthetic instances along the line connecting the two instances in the feature space.\n",
    "\n",
    "**ADASYN (Adaptive Synthetic Sampling)**: Similar to SMOTE, ADASYN generates synthetic samples for the minority class, but it assigns different weights to different minority class instances based on their difficulty in learning.\n",
    "\n",
    "**SMOTE-ENN (SMOTE with Edited Nearest Neighbors)**: Combine SMOTE and Edited Nearest Neighbors. SMOTE is used to generate synthetic samples, and Edited Nearest Neighbors is then applied to remove noisy samples from the newly generated minority class instances.\n",
    "\n",
    "**Borderline-SMOTE**: Focus on the borderline instances of the minority class, which are close to the decision boundary, and generate synthetic samples for them.\n",
    "\n",
    "**Cluster-Based Over-Sampling**: Cluster the minority class instances and then generate synthetic samples for each cluster to maintain diversity.\n",
    "\n",
    "**MSMOTE (Modified Synthetic Minority Over-sampling Technique)**: Modify SMOTE to balance the class distribution by considering both the minority and majority class.\n",
    "\n",
    "**ADOMS (Adaptive One-Step SMOTE)**: An improved version of SMOTE that adjusts the synthetic samples' location based on the density of the feature space.\n",
    "\n",
    "While using up-sampling techniques we must be careful, as they may lead to overfitting and noise in the data. The goal is to balance the dataset without introducing bias and to maintain the diversity and representativeness of the minority class.\n",
    "\n",
    "After up-sampling the minority class, you will have a more balanced dataset, which can be used for estimating the occurrence of the rare event more accurately. Always evaluate the model's performance on the up-sampled dataset using appropriate evaluation metrics for imbalanced data, such as precision, recall, F1-score, and area under the ROC curve (AUC-ROC). Additionally, cross-validation should be performed to ensure robustness in the evaluation process."
   ]
  }
 ],
 "metadata": {
  "kernelspec": {
   "display_name": "Python 3",
   "language": "python",
   "name": "python3"
  },
  "language_info": {
   "codemirror_mode": {
    "name": "ipython",
    "version": 3
   },
   "file_extension": ".py",
   "mimetype": "text/x-python",
   "name": "python",
   "nbconvert_exporter": "python",
   "pygments_lexer": "ipython3",
   "version": "3.12.1"
  }
 },
 "nbformat": 4,
 "nbformat_minor": 2
}
