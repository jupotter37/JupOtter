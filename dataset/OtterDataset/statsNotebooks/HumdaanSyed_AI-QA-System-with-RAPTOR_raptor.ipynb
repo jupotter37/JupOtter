{
 "cells": [
  {
   "cell_type": "markdown",
   "metadata": {},
   "source": [
    "### Importing Libraries and instantiating models"
   ]
  },
  {
   "cell_type": "code",
   "execution_count": 1,
   "metadata": {},
   "outputs": [
    {
     "name": "stderr",
     "output_type": "stream",
     "text": [
      "d:\\AI Projects\\Long Context RAPTOR\\.conda\\Lib\\site-packages\\tqdm\\auto.py:21: TqdmWarning: IProgress not found. Please update jupyter and ipywidgets. See https://ipywidgets.readthedocs.io/en/stable/user_install.html\n",
      "  from .autonotebook import tqdm as notebook_tqdm\n"
     ]
    }
   ],
   "source": [
    "from langchain_google_genai import GoogleGenerativeAI\n",
    "from getpass import getpass\n",
    "from langchain_huggingface import HuggingFaceEmbeddings\n",
    "import matplotlib.pyplot as plt\n",
    "import tiktoken\n",
    "from langchain.document_loaders.pdf import PyPDFDirectoryLoader\n",
    "from langchain_core.documents import Document\n",
    "from langchain_text_splitters import RecursiveCharacterTextSplitter\n",
    "from langchain_milvus.vectorstores import Milvus\n",
    "from collections import defaultdict\n",
    "from langchain_core.prompts import PromptTemplate\n",
    "from langchain_core.runnables import RunnablePassthrough\n",
    "\n",
    "from typing import Dict, List, Optional, Tuple\n",
    "\n",
    "import numpy as np\n",
    "import pandas as pd\n",
    "import umap\n",
    "from langchain.prompts import ChatPromptTemplate\n",
    "from langchain_core.output_parsers import StrOutputParser\n",
    "from sklearn.mixture import GaussianMixture\n"
   ]
  },
  {
   "cell_type": "code",
   "execution_count": 2,
   "metadata": {},
   "outputs": [],
   "source": [
    "# Getting Gemini API key from user\n",
    "# Instantiating LLM\n",
    "\n",
    "api_key = getpass()\n",
    "model = GoogleGenerativeAI(temperature=0, model=\"gemini-1.5-flash-latest\", google_api_key=api_key)"
   ]
  },
  {
   "cell_type": "code",
   "execution_count": 3,
   "metadata": {},
   "outputs": [],
   "source": [
    "# Instantiating Embedding Model\n",
    "# normalize_embeddings is set True for cosine-similarity\n",
    "\n",
    "EMBEDDING_MODEL_NAME = \"sentence-transformers/all-MiniLM-L6-v2\"\n",
    "\n",
    "embd = HuggingFaceEmbeddings(\n",
    "    model_name=EMBEDDING_MODEL_NAME,\n",
    "    multi_process=True,\n",
    "    model_kwargs={\"device\": \"cpu\"},\n",
    "    encode_kwargs={\"normalize_embeddings\": True},\n",
    ")"
   ]
  },
  {
   "cell_type": "markdown",
   "metadata": {},
   "source": [
    "### Loading data, tokenizing and chunking"
   ]
  },
  {
   "cell_type": "code",
   "execution_count": 4,
   "metadata": {},
   "outputs": [],
   "source": [
    "# Load PDF Directory\n",
    "\n",
    "document_loader = PyPDFDirectoryLoader(\"./data\")\n",
    "documents = document_loader.load()"
   ]
  },
  {
   "cell_type": "code",
   "execution_count": 5,
   "metadata": {},
   "outputs": [
    {
     "data": {
      "image/png": "[encoded data removed]",
      "text/plain": [
       "<Figure size 1000x600 with 1 Axes>"
      ]
     },
     "metadata": {},
     "output_type": "display_data"
    }
   ],
   "source": [
    "\n",
    "# Function that returns token count\n",
    "def num_tokens_from_string(string: str, encoding_name: str) -> int:\n",
    "    \"\"\"Returns the number of tokens in a text string.\"\"\"\n",
    "    encoding = tiktoken.get_encoding(encoding_name)\n",
    "    num_tokens = len(encoding.encode(string))\n",
    "    return num_tokens\n",
    "\n",
    "\n",
    "docs_texts = [d.page_content for d in documents] # Store content of each page in list\n",
    "\n",
    "# Visualize token count in docs_texts\n",
    "counts = [num_tokens_from_string(d, \"cl100k_base\") for d in docs_texts]\n",
    "\n",
    "plt.figure(figsize=(10, 6))\n",
    "plt.hist(counts, bins=30, color=\"blue\", edgecolor=\"black\", alpha=0.7)\n",
    "plt.title(\"Histogram of Token Counts\")\n",
    "plt.xlabel(\"Token Count\")\n",
    "plt.ylabel(\"Frequency\")\n",
    "plt.grid(axis=\"y\", alpha=0.75)\n",
    "\n",
    "plt.show()"
   ]
  },
  {
   "cell_type": "code",
   "execution_count": 6,
   "metadata": {},
   "outputs": [
    {
     "name": "stdout",
     "output_type": "stream",
     "text": [
      "Num tokens in all context: 561253\n"
     ]
    }
   ],
   "source": [
    "# Get total token count \n",
    "d_sorted = sorted(documents, key=lambda x: x.metadata[\"source\"])\n",
    "d_reversed = list(reversed(d_sorted))\n",
    "concatenated_content = \"\\n\\n\\n --- \\n\\n\\n\".join(\n",
    "    [doc.page_content for doc in d_reversed]\n",
    ")\n",
    "print(\n",
    "    \"Num tokens in all context: %s\"\n",
    "    % num_tokens_from_string(concatenated_content, \"cl100k_base\")\n",
    ")"
   ]
  },
  {
   "cell_type": "code",
   "execution_count": 7,
   "metadata": {},
   "outputs": [
    {
     "name": "stdout",
     "output_type": "stream",
     "text": [
      "Number of text splits generated: 956\n"
     ]
    }
   ],
   "source": [
    "# Chunking the data\n",
    "\n",
    "chunk_size_tok = 1000\n",
    "text_splitter = RecursiveCharacterTextSplitter.from_tiktoken_encoder(\n",
    "    chunk_size=chunk_size_tok, chunk_overlap=0\n",
    ")\n",
    "texts_split = text_splitter.split_text(concatenated_content)\n",
    "#\n",
    "print(f\"Number of text splits generated: {len(texts_split)}\")"
   ]
  },
  {
   "cell_type": "markdown",
   "metadata": {},
   "source": [
    "## RAPTOR Tree Construction"
   ]
  },
  {
   "cell_type": "code",
   "execution_count": 8,
   "metadata": {},
   "outputs": [],
   "source": [
    "\n",
    "RANDOM_SEED = 224  # Fixed seed for reproducibility\n",
    "\n",
    "### --- Code from citations referenced above (added comments and docstrings) --- ###\n",
    "\n",
    "\n",
    "def global_cluster_embeddings(\n",
    "    embeddings: np.ndarray,\n",
    "    dim: int,\n",
    "    n_neighbors: Optional[int] = None,\n",
    "    metric: str = \"cosine\",\n",
    ") -> np.ndarray:\n",
    "    \"\"\"\n",
    "    Perform global dimensionality reduction on the embeddings using UMAP.\n",
    "\n",
    "    Parameters:\n",
    "    - embeddings: The input embeddings as a numpy array.\n",
    "    - dim: The target dimensionality for the reduced space.\n",
    "    - n_neighbors: Optional; the number of neighbors to consider for each point.\n",
    "                   If not provided, it defaults to the square root of the number of embeddings.\n",
    "    - metric: The distance metric to use for UMAP.\n",
    "\n",
    "    Returns:\n",
    "    - A numpy array of the embeddings reduced to the specified dimensionality.\n",
    "    \"\"\"\n",
    "    if n_neighbors is None:\n",
    "        n_neighbors = int((len(embeddings) - 1) ** 0.5)\n",
    "    return umap.UMAP(\n",
    "        n_neighbors=n_neighbors, n_components=dim, metric=metric\n",
    "    ).fit_transform(embeddings)\n",
    "\n",
    "\n",
    "def local_cluster_embeddings(\n",
    "    embeddings: np.ndarray, dim: int, num_neighbors: int = 10, metric: str = \"cosine\"\n",
    ") -> np.ndarray:\n",
    "    \"\"\"\n",
    "    Perform local dimensionality reduction on the embeddings using UMAP, typically after global clustering.\n",
    "\n",
    "    Parameters:\n",
    "    - embeddings: The input embeddings as a numpy array.\n",
    "    - dim: The target dimensionality for the reduced space.\n",
    "    - num_neighbors: The number of neighbors to consider for each point.\n",
    "    - metric: The distance metric to use for UMAP.\n",
    "\n",
    "    Returns:\n",
    "    - A numpy array of the embeddings reduced to the specified dimensionality.\n",
    "    \"\"\"\n",
    "    return umap.UMAP(\n",
    "        n_neighbors=num_neighbors, n_components=dim, metric=metric\n",
    "    ).fit_transform(embeddings)\n",
    "\n",
    "\n",
    "def get_optimal_clusters(\n",
    "    embeddings: np.ndarray, max_clusters: int = 50, random_state: int = RANDOM_SEED\n",
    ") -> int:\n",
    "    \"\"\"\n",
    "    Determine the optimal number of clusters using the Bayesian Information Criterion (BIC) with a Gaussian Mixture Model.\n",
    "\n",
    "    Parameters:\n",
    "    - embeddings: The input embeddings as a numpy array.\n",
    "    - max_clusters: The maximum number of clusters to consider.\n",
    "    - random_state: Seed for reproducibility.\n",
    "\n",
    "    Returns:\n",
    "    - An integer representing the optimal number of clusters found.\n",
    "    \"\"\"\n",
    "    max_clusters = min(max_clusters, len(embeddings))\n",
    "    n_clusters = np.arange(1, max_clusters)\n",
    "    bics = []\n",
    "    for n in n_clusters:\n",
    "        gm = GaussianMixture(n_components=n, random_state=random_state)\n",
    "        gm.fit(embeddings)\n",
    "        bics.append(gm.bic(embeddings))\n",
    "    return n_clusters[np.argmin(bics)]\n",
    "\n",
    "\n",
    "def GMM_cluster(embeddings: np.ndarray, threshold: float, random_state: int = 0):\n",
    "    \"\"\"\n",
    "    Cluster embeddings using a Gaussian Mixture Model (GMM) based on a probability threshold.\n",
    "\n",
    "    Parameters:\n",
    "    - embeddings: The input embeddings as a numpy array.\n",
    "    - threshold: The probability threshold for assigning an embedding to a cluster.\n",
    "    - random_state: Seed for reproducibility.\n",
    "\n",
    "    Returns:\n",
    "    - A tuple containing the cluster labels and the number of clusters determined.\n",
    "    \"\"\"\n",
    "    n_clusters = get_optimal_clusters(embeddings)\n",
    "    gm = GaussianMixture(n_components=n_clusters, random_state=random_state)\n",
    "    gm.fit(embeddings)\n",
    "    probs = gm.predict_proba(embeddings)\n",
    "    labels = [np.where(prob > threshold)[0] for prob in probs]\n",
    "    return labels, n_clusters\n",
    "\n",
    "\n",
    "def perform_clustering(\n",
    "    embeddings: np.ndarray,\n",
    "    dim: int,\n",
    "    threshold: float,\n",
    ") -> List[np.ndarray]:\n",
    "    \"\"\"\n",
    "    Perform clustering on the embeddings by first reducing their dimensionality globally, then clustering\n",
    "    using a Gaussian Mixture Model, and finally performing local clustering within each global cluster.\n",
    "\n",
    "    Parameters:\n",
    "    - embeddings: The input embeddings as a numpy array.\n",
    "    - dim: The target dimensionality for UMAP reduction.\n",
    "    - threshold: The probability threshold for assigning an embedding to a cluster in GMM.\n",
    "\n",
    "    Returns:\n",
    "    - A list of numpy arrays, where each array contains the cluster IDs for each embedding.\n",
    "    \"\"\"\n",
    "    if len(embeddings) <= dim + 1:\n",
    "        # Avoid clustering when there's insufficient data\n",
    "        return [np.array([0]) for _ in range(len(embeddings))]\n",
    "\n",
    "    # Global dimensionality reduction\n",
    "    reduced_embeddings_global = global_cluster_embeddings(embeddings, dim)\n",
    "    # Global clustering\n",
    "    global_clusters, n_global_clusters = GMM_cluster(\n",
    "        reduced_embeddings_global, threshold\n",
    "    )\n",
    "\n",
    "    all_local_clusters = [np.array([]) for _ in range(len(embeddings))]\n",
    "    total_clusters = 0\n",
    "\n",
    "    # Iterate through each global cluster to perform local clustering\n",
    "    for i in range(n_global_clusters):\n",
    "        # Extract embeddings belonging to the current global cluster\n",
    "        global_cluster_embeddings_ = embeddings[\n",
    "            np.array([i in gc for gc in global_clusters])\n",
    "        ]\n",
    "\n",
    "        if len(global_cluster_embeddings_) == 0:\n",
    "            continue\n",
    "        if len(global_cluster_embeddings_) <= dim + 1:\n",
    "            # Handle small clusters with direct assignment\n",
    "            local_clusters = [np.array([0]) for _ in global_cluster_embeddings_]\n",
    "            n_local_clusters = 1\n",
    "        else:\n",
    "            # Local dimensionality reduction and clustering\n",
    "            reduced_embeddings_local = local_cluster_embeddings(\n",
    "                global_cluster_embeddings_, dim\n",
    "            )\n",
    "            local_clusters, n_local_clusters = GMM_cluster(\n",
    "                reduced_embeddings_local, threshold\n",
    "            )\n",
    "\n",
    "        # Assign local cluster IDs, adjusting for total clusters already processed\n",
    "        for j in range(n_local_clusters):\n",
    "            local_cluster_embeddings_ = global_cluster_embeddings_[\n",
    "                np.array([j in lc for lc in local_clusters])\n",
    "            ]\n",
    "            indices = np.where(\n",
    "                (embeddings == local_cluster_embeddings_[:, None]).all(-1)\n",
    "            )[1]\n",
    "            for idx in indices:\n",
    "                all_local_clusters[idx] = np.append(\n",
    "                    all_local_clusters[idx], j + total_clusters\n",
    "                )\n",
    "\n",
    "        total_clusters += n_local_clusters\n",
    "\n",
    "    return all_local_clusters\n",
    "\n",
    "\n",
    "### --- Our code below --- ###\n",
    "\n",
    "\n",
    "def embed(texts):\n",
    "    \"\"\"\n",
    "    Generate embeddings for a list of text documents.\n",
    "\n",
    "    This function assumes the existence of an `embd` object with a method `embed_documents`\n",
    "    that takes a list of texts and returns their embeddings.\n",
    "\n",
    "    Parameters:\n",
    "    - texts: List[str], a list of text documents to be embedded.\n",
    "\n",
    "    Returns:\n",
    "    - numpy.ndarray: An array of embeddings for the given text documents.\n",
    "    \"\"\"\n",
    "    text_embeddings = embd.embed_documents(texts)\n",
    "    text_embeddings_np = np.array(text_embeddings)\n",
    "    return text_embeddings_np\n",
    "\n",
    "\n",
    "def embed_cluster_texts(texts):\n",
    "    \"\"\"\n",
    "    Embeds a list of texts and clusters them, returning a DataFrame with texts, their embeddings, and cluster labels.\n",
    "\n",
    "    This function combines embedding generation and clustering into a single step. It assumes the existence\n",
    "    of a previously defined `perform_clustering` function that performs clustering on the embeddings.\n",
    "\n",
    "    Parameters:\n",
    "    - texts: List[str], a list of text documents to be processed.\n",
    "\n",
    "    Returns:\n",
    "    - pandas.DataFrame: A DataFrame containing the original texts, their embeddings, and the assigned cluster labels.\n",
    "    \"\"\"\n",
    "    text_embeddings_np = embed(texts)  # Generate embeddings\n",
    "    cluster_labels = perform_clustering(\n",
    "        text_embeddings_np, 10, 0.1\n",
    "    )  # Perform clustering on the embeddings\n",
    "    df = pd.DataFrame()  # Initialize a DataFrame to store the results\n",
    "    df[\"text\"] = texts  # Store original texts\n",
    "    df[\"embd\"] = list(text_embeddings_np)  # Store embeddings as a list in the DataFrame\n",
    "    df[\"cluster\"] = cluster_labels  # Store cluster labels\n",
    "    return df\n",
    "\n",
    "\n",
    "def fmt_txt(df: pd.DataFrame) -> str:\n",
    "    \"\"\"\n",
    "    Formats the text documents in a DataFrame into a single string.\n",
    "\n",
    "    Parameters:\n",
    "    - df: DataFrame containing the 'text' column with text documents to format.\n",
    "\n",
    "    Returns:\n",
    "    - A single string where all text documents are joined by a specific delimiter.\n",
    "    \"\"\"\n",
    "    unique_txt = df[\"text\"].tolist()\n",
    "    return \"--- --- \\n --- --- \".join(unique_txt)\n",
    "\n",
    "\n",
    "def embed_cluster_summarize_texts(\n",
    "    texts: List[str], level: int\n",
    ") -> Tuple[pd.DataFrame, pd.DataFrame]:\n",
    "    \"\"\"\n",
    "    Embeds, clusters, and summarizes a list of texts. This function first generates embeddings for the texts,\n",
    "    clusters them based on similarity, expands the cluster assignments for easier processing, and then summarizes\n",
    "    the content within each cluster.\n",
    "\n",
    "    Parameters:\n",
    "    - texts: A list of text documents to be processed.\n",
    "    - level: An integer parameter that could define the depth or detail of processing.\n",
    "\n",
    "    Returns:\n",
    "    - Tuple containing two DataFrames:\n",
    "      1. The first DataFrame (`df_clusters`) includes the original texts, their embeddings, and cluster assignments.\n",
    "      2. The second DataFrame (`df_summary`) contains summaries for each cluster, the specified level of detail,\n",
    "         and the cluster identifiers.\n",
    "    \"\"\"\n",
    "\n",
    "    # Embed and cluster the texts, resulting in a DataFrame with 'text', 'embd', and 'cluster' columns\n",
    "    df_clusters = embed_cluster_texts(texts)\n",
    "\n",
    "    # Prepare to expand the DataFrame for easier manipulation of clusters\n",
    "    expanded_list = []\n",
    "\n",
    "    # Expand DataFrame entries to document-cluster pairings for straightforward processing\n",
    "    for index, row in df_clusters.iterrows():\n",
    "        for cluster in row[\"cluster\"]:\n",
    "            expanded_list.append(\n",
    "                {\"text\": row[\"text\"], \"embd\": row[\"embd\"], \"cluster\": cluster}\n",
    "            )\n",
    "\n",
    "    # Create a new DataFrame from the expanded list\n",
    "    expanded_df = pd.DataFrame(expanded_list)\n",
    "\n",
    "    # Retrieve unique cluster identifiers for processing\n",
    "    all_clusters = expanded_df[\"cluster\"].unique()\n",
    "\n",
    "    print(f\"--Generated {len(all_clusters)} clusters--\")\n",
    "\n",
    "    # Summarization\n",
    "    template = \"\"\"Here is information contained in the books, Artificial Intelligence for Dummies, Data Science from Scratch and Python for Data Science for Dummies. \n",
    "    \n",
    "    These books serve to give a basic knowledge of their topics to readers.\n",
    "    \n",
    "    Give a detailed summary of the books provided.\n",
    "    \n",
    "    Documentation:\n",
    "    {context}\n",
    "    \"\"\"\n",
    "    prompt = ChatPromptTemplate.from_template(template)\n",
    "    chain = prompt | model | StrOutputParser()\n",
    "\n",
    "    # Format text within each cluster for summarization\n",
    "    summaries = []\n",
    "    for i in all_clusters:\n",
    "        df_cluster = expanded_df[expanded_df[\"cluster\"] == i]\n",
    "        formatted_txt = fmt_txt(df_cluster)\n",
    "        summaries.append(chain.invoke({\"context\": formatted_txt}))\n",
    "\n",
    "    # Create a DataFrame to store summaries with their corresponding cluster and level\n",
    "    df_summary = pd.DataFrame(\n",
    "        {\n",
    "            \"summaries\": summaries,\n",
    "            \"level\": [level] * len(summaries),\n",
    "            \"cluster\": list(all_clusters),\n",
    "        }\n",
    "    )\n",
    "\n",
    "    return df_clusters, df_summary\n",
    "\n",
    "\n",
    "def recursive_embed_cluster_summarize(\n",
    "    texts: List[str], level: int = 1, n_levels: int = 3\n",
    ") -> Dict[int, Tuple[pd.DataFrame, pd.DataFrame]]:\n",
    "    \"\"\"\n",
    "    Recursively embeds, clusters, and summarizes texts up to a specified level or until\n",
    "    the number of unique clusters becomes 1, storing the results at each level.\n",
    "\n",
    "    Parameters:\n",
    "    - texts: List[str], texts to be processed.\n",
    "    - level: int, current recursion level (starts at 1).\n",
    "    - n_levels: int, maximum depth of recursion.\n",
    "\n",
    "    Returns:\n",
    "    - Dict[int, Tuple[pd.DataFrame, pd.DataFrame]], a dictionary where keys are the recursion\n",
    "      levels and values are tuples containing the clusters DataFrame and summaries DataFrame at that level.\n",
    "    \"\"\"\n",
    "    results = {}  # Dictionary to store results at each level\n",
    "\n",
    "    # Perform embedding, clustering, and summarization for the current level\n",
    "    df_clusters, df_summary = embed_cluster_summarize_texts(texts, level)\n",
    "\n",
    "    # Store the results of the current level\n",
    "    results[level] = (df_clusters, df_summary)\n",
    "\n",
    "    # Determine if further recursion is possible and meaningful\n",
    "    unique_clusters = df_summary[\"cluster\"].nunique()\n",
    "    if level < n_levels and unique_clusters > 1:\n",
    "        # Use summaries as the input texts for the next level of recursion\n",
    "        new_texts = df_summary[\"summaries\"].tolist()\n",
    "        next_level_results = recursive_embed_cluster_summarize(\n",
    "            new_texts, level + 1, n_levels\n",
    "        )\n",
    "\n",
    "        # Merge the results from the next level into the current results dictionary\n",
    "        results.update(next_level_results)\n",
    "\n",
    "    return results"
   ]
  },
  {
   "cell_type": "code",
   "execution_count": 9,
   "metadata": {},
   "outputs": [
    {
     "name": "stdout",
     "output_type": "stream",
     "text": [
      "--Generated 238 clusters--\n",
      "--Generated 49 clusters--\n",
      "--Generated 9 clusters--\n"
     ]
    }
   ],
   "source": [
    "# Build tree (Around 30 mins)\n",
    "leaf_texts = docs_texts\n",
    "results = recursive_embed_cluster_summarize(leaf_texts, level=1, n_levels=3)"
   ]
  },
  {
   "cell_type": "markdown",
   "metadata": {},
   "source": [
    "### Build Vector stores and instantiate retrievers (Around 4 mins)"
   ]
  },
  {
   "cell_type": "code",
   "execution_count": 10,
   "metadata": {},
   "outputs": [],
   "source": [
    "\n",
    "# Initialize all_texts with leaf_texts\n",
    "all_texts = leaf_texts.copy()\n",
    "\n",
    "# Iterate through the results to extract summaries from each level and add them to all_texts\n",
    "for level in sorted(results.keys()):\n",
    "    \n",
    "    summaries = results[level][1][\"summaries\"].tolist()\n",
    "    all_texts.extend(summaries)\n",
    "\n",
    "# Use all_texts to build vector store using MILVUS\n",
    "vectorstore_raptor = Milvus.from_texts(\n",
    "    texts=all_texts,\n",
    "    embedding=embd,\n",
    "    collection_name=\"RaptorCollection\",\n",
    "    connection_args={\n",
    "        \"uri\": \"http://localhost:19530\",\n",
    "    },\n",
    "    drop_old=True,\n",
    ")\n",
    "\n",
    "#Use documents and build vector store for retrieving metadata (Page and Source)\n",
    "vectorstore_metad = Milvus.from_documents(\n",
    "    documents=documents,\n",
    "    embedding=embd,\n",
    "    collection_name=\"MetaData\",\n",
    "    connection_args={\n",
    "        \"uri\": \"http://localhost:19530\",\n",
    "    },\n",
    "    drop_old=True,\n",
    "    )"
   ]
  },
  {
   "cell_type": "code",
   "execution_count": 11,
   "metadata": {},
   "outputs": [],
   "source": [
    "\n",
    "## from langchain_community.retrievers import BM25Retriever\n",
    "## bm25_retriever = BM25Retriever.from_texts(texts = all_texts) => Subpar retrieval when compared to vectore-store retriever\n",
    "\n",
    "\n",
    "# Instantiate response retriever\n",
    "answer_retriever = vectorstore_raptor.as_retriever(search_kwargs={\"k\": 5})\n",
    "\n",
    "#Instatiate metadata retriever\n",
    "metadata_retriever = vectorstore_metad.as_retriever()"
   ]
  },
  {
   "cell_type": "markdown",
   "metadata": {},
   "source": [
    "### Building RAG chain, generating response and source for reference"
   ]
  },
  {
   "cell_type": "code",
   "execution_count": 12,
   "metadata": {},
   "outputs": [],
   "source": [
    "\n",
    "\n",
    "# Prompt\n",
    "PROMPT_TEMPLATE = \"\"\"\n",
    "Human: You are an assistant for question-answering tasks.\n",
    "Use the following pieces of information to provide a concise answer to the question enclosed in <question> tags.\n",
    "If you don't know the answer, just say that you don't know, don't try to make up an answer.\n",
    "<context>\n",
    "{context}\n",
    "</context>\n",
    "\n",
    "<question>\n",
    "{question}\n",
    "</question>\n",
    "\n",
    "The response should be specific and use statistics or numbers when possible.\n",
    "\n",
    "Assistant:\"\"\"\n",
    "\n",
    "prompt = PromptTemplate(\n",
    "    template=PROMPT_TEMPLATE, input_variables=[\"context\", \"question\"]\n",
    ")\n",
    "\n",
    "# Post-processing\n",
    "def format_docs(docs):\n",
    "    return \"\\n\\n\".join(doc.page_content for doc in docs)\n",
    "\n",
    "\n",
    "# Chain\n",
    "rag_chain = (\n",
    "    {\"context\": answer_retriever | format_docs, \"question\": RunnablePassthrough()}\n",
    "    | prompt\n",
    "    | model\n",
    "    | StrOutputParser()\n",
    ")\n",
    "\n",
    "def get_metadata(query):\n",
    "\n",
    "    # Retrieve 4 documents that match the query and get their metadata\n",
    "    metadata_docs = metadata_retriever.invoke(query) \n",
    "    metadata_list = [doc.metadata for doc in metadata_docs]\n",
    "\n",
    "    final_metadata = defaultdict(list)\n",
    "\n",
    "    for d in metadata_list:\n",
    "        final_metadata[d['source']].append(d['page'])\n",
    "\n",
    "    print(\"Source for reference:\" )\n",
    "    for source, pages in final_metadata.items():\n",
    "        print(f\"Book: {source} => Page numbers: {sorted(pages)}\")\n"
   ]
  },
  {
   "cell_type": "code",
   "execution_count": 16,
   "metadata": {},
   "outputs": [
    {
     "name": "stdout",
     "output_type": "stream",
     "text": [
      "Handling missing data is crucial because it can significantly impact the accuracy and reliability of data analysis and machine learning models. If left unaddressed, missing data can lead to biased results, inaccurate predictions, and flawed conclusions.\n",
      "\n",
      "Here are the common methods for managing missing values in Python:\n",
      "\n",
      "**1. Deletion:**\n",
      "\n",
      "* **Listwise Deletion:**  Removes entire rows containing missing values. This is simple but can lead to significant data loss, especially if missing values are frequent.\n",
      "* **Pairwise Deletion:**  Excludes cases with missing values only for specific calculations, but this can introduce bias if missingness is not random.\n",
      "\n",
      "**2. Imputation:**\n",
      "\n",
      "* **Mean/Median/Mode Imputation:** Replaces missing values with the mean, median, or mode of the respective column. This is simple but can distort the distribution of the data.\n",
      "* **K-Nearest Neighbors (KNN) Imputation:**  Uses the values of nearest neighbors to predict missing values. This can be more accurate than simple mean/median imputation but can be computationally expensive.\n",
      "* **Regression Imputation:**  Uses a regression model to predict missing values based on other variables. This can be effective if there is a strong relationship between the missing variable and other variables.\n",
      "\n",
      "**3. Interpolation:**\n",
      "\n",
      "* **Linear Interpolation:**  Estimates missing values based on a linear relationship between neighboring values. This is suitable for data with a clear linear trend.\n",
      "* **Spline Interpolation:**  Uses a smooth curve to estimate missing values, which can be more accurate than linear interpolation for data with non-linear trends.\n",
      "\n",
      "**Difference between Imputation and Interpolation:**\n",
      "\n",
      "* **Imputation:** Replaces missing values with estimated values based on the existing data. It's suitable for situations where the missing values are scattered randomly.\n",
      "* **Interpolation:**  Estimates missing values based on the relationship between neighboring values. It's suitable for data with a clear trend or pattern.\n",
      "\n",
      "**When to prefer one over the other:**\n",
      "\n",
      "* **Imputation:**  Preferable when missing values are scattered randomly and there's no clear trend in the data.\n",
      "* **Interpolation:**  Preferable when there's a clear trend or pattern in the data and missing values are sequential.\n",
      "\n",
      "The choice of method depends on the nature of the data, the extent of missing values, and the specific analysis goals. It's important to carefully consider the potential biases and limitations of each method before applying it. \n",
      "\n",
      "Source for reference:\n",
      "Book: data\\Python_for_Data_Science_For_Dummies.pdf => Page numbers: [132, 133, 134]\n",
      "Book: data\\Artificial_Intelligence_For_Dummies.pdf => Page numbers: [53]\n"
     ]
    }
   ],
   "source": [
    "query = \"Can you explain the importance of handling missing data in a dataset, and describe the different methods available in Python for managing missing values? Additionally, how do techniques like imputation and interpolation differ, and in what scenarios would you prefer one over the other?\"\n",
    "response = rag_chain.invoke(query)\n",
    "\n",
    "# Print Response\n",
    "print(str(response))\n",
    "\n",
    "# Print source\n",
    "get_metadata(query)"
   ]
  },
  {
   "cell_type": "code",
   "execution_count": 15,
   "metadata": {},
   "outputs": [
    {
     "name": "stdout",
     "output_type": "stream",
     "text": [
      "Neural networks are a type of machine learning model inspired by the structure and function of the human brain. They consist of interconnected nodes, called neurons, organized in layers. Each neuron receives input from other neurons, performs a simple calculation, and then outputs a value to other neurons.\n",
      "\n",
      "Here's a breakdown of key components:\n",
      "\n",
      "* **Neurons:** The basic building blocks of a neural network. They receive input signals, perform a weighted sum of those inputs, apply an activation function, and output a value.\n",
      "* **Activation Functions:** These functions introduce non-linearity into the network, allowing it to learn complex patterns. Common activation functions include sigmoid, ReLU, and tanh.\n",
      "* **Layers:** Neurons are organized into layers. The first layer is the input layer, which receives data. The last layer is the output layer, which produces the network's predictions. Hidden layers lie between the input and output layers and perform intermediate computations.\n",
      "* **Weights:** Each connection between neurons has a weight associated with it. These weights represent the strength of the connection and are adjusted during training to improve the network's performance.\n",
      "* **Backpropagation:** This algorithm is used to train neural networks. It calculates the error between the network's predictions and the actual values and uses this error to adjust the weights.\n",
      "\n",
      "**Example: The Perceptron**\n",
      "\n",
      "The perceptron is a simple neural network that can be used to implement simple logic gates. It consists of a single neuron with multiple inputs and a single output. The neuron calculates a weighted sum of its inputs and applies a step function to determine its output.\n",
      "\n",
      "For example, consider a perceptron with two inputs, x1 and x2, and a single output, y. The neuron's output is calculated as follows:\n",
      "\n",
      "```\n",
      "y = step_function(w1 * x1 + w2 * x2 + b)\n",
      "```\n",
      "\n",
      "where w1 and w2 are the weights, b is the bias, and step_function is a function that outputs 1 if its input is greater than or equal to 0, and 0 otherwise.\n",
      "\n",
      "By adjusting the weights and bias, the perceptron can be trained to implement different logic gates, such as AND, OR, and XOR.\n",
      "\n",
      "**Example: Deep Learning**\n",
      "\n",
      "Deep learning is a type of machine learning that uses deep neural networks with multiple hidden layers to learn complex patterns from data. These networks can be used for a wide range of tasks, including image recognition, natural language processing, and machine translation.\n",
      "\n",
      "For example, a deep neural network can be trained to recognize handwritten digits from images. The network would have an input layer that receives the image data, multiple hidden layers that perform intermediate computations, and an output layer that predicts the digit.\n",
      "\n",
      "**Key Advantages of Neural Networks:**\n",
      "\n",
      "* **Non-linearity:** They can learn complex patterns that are not linearly separable.\n",
      "* **Feature Learning:** They can automatically learn features from data, reducing the need for manual feature engineering.\n",
      "* **Generalization:** They can generalize well to new data, even if it is different from the data they were trained on.\n",
      "\n",
      "**Limitations of Neural Networks:**\n",
      "\n",
      "* **Black Box:** It can be difficult to understand how they make predictions.\n",
      "* **Data Requirements:** They require large amounts of data to train effectively.\n",
      "* **Computational Cost:** Training and running large neural networks can be computationally expensive.\n",
      "\n",
      "Overall, neural networks are a powerful tool for machine learning, but they have limitations that need to be considered. \n",
      "\n",
      "Source for reference:\n",
      "Book: data\\Artificial_Intelligence_For_Dummies.pdf => Page numbers: [191, 195, 197]\n",
      "Book: data\\Data_Science_from_Scratch.pdf => Page numbers: [291]\n"
     ]
    }
   ],
   "source": [
    "query = \"Give a detailed explanation of neural networks. Give examples when possible.\"\n",
    "response = rag_chain.invoke(query)\n",
    "\n",
    "# Print Response\n",
    "print(str(response))\n",
    "\n",
    "# Print source\n",
    "get_metadata(query)"
   ]
  },
  {
   "cell_type": "code",
   "execution_count": 54,
   "metadata": {},
   "outputs": [
    {
     "data": {
      "text/plain": [
       "[Document(metadata={'pk': 451348365454083351}, page_content='Chapter 5. Statistics\\nFacts ar e stubborn, but statistics ar e mor e pliable.\\n— Mark T wain\\nStatistics  refers  to the mathematics and techniques with which we\\nunderstand data. It is a rich, enormous field, more suited to a shelf (or\\nroom) in a library than a chapter in a book, and so our discussion will\\nnecessarily not be a deep one. Instead, I’ll try to teach you just enough to be\\ndangerous, and pique your interest just enough that you’ll go of f and learn\\nmore.\\nD e s c r i b i n g  a  S i n g l e  S e t  o f  D a t a\\nThrough  a combination of word of mouth and luck, DataSciencester has\\ngrown to dozens of members, and the VP of Fundraising asks you for some\\nsort of description of how many friends your members have that he can\\ninclude in his elevator pitches.\\nUsing techniques from Chapter 1 , you are easily able to produce this data.\\nBut now you are faced with the problem of how to describe  it.\\nOne obvious description of any dataset is simply the data itself:\\nnum_friends = [100, 49, 41, 40, 25, \\n               # ... and lots more \\n              ]\\nFor a small enough dataset, this might even be the best description. But for\\na lar ger dataset, this is unwieldy and probably opaque. (Imagine staring at a\\nlist of 1 million numbers.) For that reason, we use statistics to distill and\\ncommunicate relevant features of our data.'),\n",
       " Document(metadata={'pk': 451348365454083433}, page_content='Chapter 10. W orking with Data\\nExperts often possess mor e data than judgment.\\n— Colin Powell\\nW orking with data is both an art and a science. W e’ve mostly been talking\\nabout the science part, but in this chapter we’ll look at some of the art.\\nE x p l o r i n g  Y o u r  D a t a\\nAfter  you’ve identified the questions you’re trying to answer and have\\ngotten your hands on some data, you might be tempted to dive in and\\nimmediately start building models and getting answers. But you should\\nresist this ur ge. Y our first step should be to explor e  your data.\\nExploring One-Dimensional Data\\nThe simplest case is when you have a  one-dimensional dataset, which is just\\na collection of numbers. For example, these could be the daily average\\nnumber of minutes each user spends on your site, the number of times each\\nof a collection of data science tutorial videos was watched, or the number of\\npages of each of the data science books in your data science library .\\nAn obvious first step is to compute a few summary statistics. Y ou’d like to\\nknow how many data points you have, the smallest, the lar gest, the mean,\\nand the standard deviation.\\nBut even these don’ t necessarily give you a great understanding. A good\\nnext step is to create a histogram, in which you group your data into\\ndiscrete buckets  and count how many points fall into each bucket:\\nfrom typing import List, Dict \\nfrom collections import Counter \\nimport math \\n '),\n",
       " Document(metadata={'pk': 451348365454084367}, page_content='You\\'ve provided a snippet of code from a book, but you haven\\'t given me the actual summaries of the books \"Artificial Intelligence for Dummies,\" \"Data Science from Scratch,\" and \"Python for Data Science for Dummies.\" \\n\\nTo give you a detailed summary, I need the actual content of those books. \\n\\nHowever, I can tell you that the code snippet you provided is likely from a section on word embeddings or word vectors, a fundamental concept in natural language processing (NLP). \\n\\nHere\\'s a breakdown of what the code does:\\n\\n1. **Creating a Toy Dataset:** The code creates a small dataset of words categorized into different parts of speech (colors, nouns, verbs, adverbs, adjectives). This is a simplified example to illustrate the concept of word vectors.\\n2. **Generating Sentences:** The `make_sentence()` function randomly selects words from each category to create sentences with a consistent structure.\\n3. **Creating a Corpus:** The code generates 50 sentences using the `make_sentence()` function, forming a small corpus of text.\\n\\nThe purpose of this code is to demonstrate how word vectors can be learned from a corpus of text. The idea is that words that appear in similar contexts (like \"red\" and \"blue\" in the example) should have similar word vectors. \\n\\n**To get a detailed summary of the books, please provide the following:**\\n\\n* **The actual content of the books:**  You can either copy and paste relevant sections or provide links to the books.\\n* **Specific topics you\\'re interested in:**  Are you looking for an overview of the entire book, or are you interested in specific chapters or sections?\\n\\nOnce I have this information, I can provide you with a detailed summary of the books. \\n'),\n",
       " Document(metadata={'pk': 451348365454083798}, page_content='12\\nPart I: Getting Started with Python for Data Science  \\nHowever, the mathematical basis behind data science is centuries old\\xa0because \\ndata science is essentially a method of viewing and analyzing  stati stics and \\nprobability. The first essential use of statistics as a term comes in 1749, but  statistics are certainly much older than that. People have used statis\\xad\\ntics\\xa0to recognize patterns for thousands of years. For example, the  historian \\nThucydides (in his History of the Peloponnesian War) describes how the \\nAthenians calculated the height of the wall of Platea in fifth century BC by \\ncounting bricks in an unplastered section of the wall. Because the count \\nneeded to be accurate, the Athenians took the average of the count by several \\nsolders.\\nThe process of quantifying and understanding statistics is relatively new, \\nbut the science itself is quite old. An early attempt to begin documenting the \\n importance of statistics appears in the ninth century when Al‐Kindi wrote \\nManuscript on Deciphering Cryptographic Messages. In this paper, Al‐Kindi \\ndescribes how to use a combination of statistics and frequency analysis to \\n decipher encrypted messages. Even in the beginning, statistics saw use in \\n practical application of science to tasks that seemed virtually impossible to \\ncomplete. Data science continues this process, and to some people it might \\nactually seem like magic.\\nOutlining the core competencies  \\nof a data scientist\\nLike most complex trades today, the data scientist requires knowledge of a broad range of skills in order to perform the required tasks. In fact, so \\nmany different skills are required that data scientists often work in teams. \\nSomeone who is good at gathering data might team up with an analyst and \\nsomeone gifted in presenting information. It would be hard to find a single \\nperson with all the required skills. With this in mind, the following list \\ndescribes areas in which a data scientist could excel (with more compet\\xad\\nencies being better):\\n ✓Data capture: It doesn’t matter what sort of math skills you have if you \\ncan’t obtain data to analyze in the first place. The act of capturing data \\nbegins by managing a data source using database management skills. \\nHowever, raw data isn’t particularly useful in many situations — you \\nmust also understand the data domain so that you can look at the \\ndata and begin formulating the sorts of questions to ask. Finally, you \\nmust have data‐modeling skills so that you understand how the data is \\n connected and whether the data is structured.')]"
      ]
     },
     "execution_count": 54,
     "metadata": {},
     "output_type": "execute_result"
    }
   ],
   "source": [
    "answer_retriever.invoke(\"Generate an answer which summarizes statistics in 200 words. You can use examples.\")"
   ]
  },
  {
   "cell_type": "code",
   "execution_count": 55,
   "metadata": {},
   "outputs": [
    {
     "data": {
      "text/plain": [
       "[Document(metadata={'source': 'data\\\\Artificial_Intelligence_For_Dummies.pdf', 'page': 197, 'pk': 451348365454084675}, page_content='182      PART 3  Working with Software-Based AI Applicationsapplies, also renders nonlinear the resulting recombination of the inputs received \\nby the connections. Both of these neural network components enable the algo -\\nrithm to learn complex target functions that represent the relationship between \\nthe input features and the target outcome.\\nUnderstanding the role of backpropagation\\nLearning occurs in a human brain because of the formation and modification of \\nsynapses between neurons, based on stimuli received by trial-and-error experi-\\nence. Neural networks provide a way to replicate this process as a mathematical \\nformulation called backpropagation. Here’s how this architecture of interconnected \\ncomputing units can solve problems: The units receive an example, and if they \\ndon’t guess correctly, they retrace the problem in the system of existing weights \\nusing backpropagation and fix it by changing some values. This process goes on \\nfor many iterations before a neural network can learn. Iterations in a neural net -\\nwork are called epochs, a name that fits perfectly because a neural network may \\nneed days or weeks of training to learn complex tasks.\\nBackpropagation math is quite advanced and requires knowledge of concepts such \\nas derivatives. You can read a detailed but accessible math description in Machine \\nLearning For Dummies,  2nd Edition, by John Paul Mueller and Luca Massaron \\n(Wiley) and get an overview of the necessary calculations. Backpropagation as a \\nconcept is intuitive enough to grasp and convey because it resembles what people \\ndo when performing a task using iterated approximate trial and error. Since the \\nappearance of the backpropagation algorithm in the 1970s, developers have fixed \\nit many times and are currently discussing whether to rethink it. (You can read the \\nopinion of Geoffrey Hinton, one of the coauthors of the method, at https://\\ntinyurl.com/rrea42wz .) Backpropagation is at the core of the present AI renais -\\nsance. In the past, each neural network learning process improvement resulted in \\nnew applications and a renewed interest in the technique. Also, the current deep \\nlearning revolution, which involves a revival of neural networks (abandoned at \\nthe beginning of the 1990s), resulted from key advances in the way neural net -\\nworks learn from their errors.\\nIntroducing Deep Learning\\nAfter backpropagation, the next improvement in neural networks led to deep \\nlearning. Research continued in spite of the AI winter, and neural networks over-\\ncame technical problems, such as the vanishing gradient,  which limits the '),\n",
       " Document(metadata={'source': 'data\\\\Artificial_Intelligence_For_Dummies.pdf', 'page': 195, 'pk': 451348365454084673}, page_content='180       PART 3  Working with Software-Based AI ApplicationsThe figure shows a simple neural network architecture. Note how the layers filter \\nand process information in a progressive way. This is a feed-forward input  because \\ndata feeds one direction into the network. Connections exclusively link units in \\none layer with units in the following layer (information flows from left to right). \\nNo connections exist between units in the same layer or with units outside the \\nnext layer. Moreover, the information pushes forward (from the left to the right). \\nProcessed data never returns to previous neuron layers.\\nIn more advanced neural network applications, you also have to decide on the \\nlayer types you need and the large number of parameters that will influence the \\nlayers’ behavior. Neural networks are extremely flexible, and that aspect is a  \\ndouble-edged sword: You increase the power of the machine learning tool as \\ncomplexity skyrockets.\\nUsing a neural network is like using a stratified filtering system for water: You \\npour the water from above, and the water is filtered at the bottom. The water has \\nno way to go back up; it just goes forward and straight down, and never laterally. \\nIn the same way, neural networks force data features to flow through the network \\nand mix with each other as dictated by the network’s architecture. By using the \\nbest architecture to mix features, the neural network creates newly composed \\nfeatures at every layer and helps achieve better predictions. Unfortunately, in \\nspite of the efforts of academics to discover a theoretical rule, you have no way to \\ndetermine the best architecture without empirically trying different solutions and \\ntesting whether output data helps predict your target values after flowing through \\nthe network. This need for manual configuration illustrates the no-free-lunch the -\\norem (which you can read about in Chapter\\xa010) in action. The gist of it is that an \\narchitecture that works the best on one task won’t necessarily perform success -\\nfully on other problems.\\nSometimes concepts can be understood better if directly tested in reality. Google \\noffers a Neural Network Playground ( http://playground.tensorflow.org ) in \\nwhich you can actually test how a neural network works in an intuitive manner, \\nas shown in Figure\\xa011-3. You see how the neural network builds a neural network \\nby adding or removing layers and changing kinds of activations.\\nFiguring out the secret is in the weights\\nNeural networks have different layers, with each one having its own weights. \\nWeights  represent the strength of the connection between neurons in the network. \\nWhen the weight of the connection between two layers is small, it means that the \\nnetwork dumps values flowing between them and signals that taking this route \\nisn’t likely to influence the final prediction. Likewise, a large positive or negative \\nvalue affects the values that the next layer receives, thus determining certain pre-\\ndictions. This approach is analogous to brain cells, which don’t stand alone but '),\n",
       " Document(metadata={'source': 'data\\\\Data_Science_from_Scratch.pdf', 'page': 291, 'pk': 451348365454085140}, page_content='Chapter 18. Neural Networks\\nI like nonsense; it wakes up the brain cells.\\n— Dr . Seuss\\nAn  artificial neural network  (or neural network for short)  is a predictive\\nmodel motivated by the way the brain operates. Think of the brain as a\\ncollection of neurons wired together . Each neuron looks at the outputs of\\nthe other neurons that feed into it, does a calculation, and then either fires\\n(if the calculation exceeds some threshold) or doesn’ t (if it doesn’ t).\\nAccordingly , artificial neural networks  consist of artificial neurons, which\\nperform similar calculations over their inputs. Neural networks can solve a\\nwide variety of problems like handwriting recognition and face detection,\\nand they are used heavily in deep learning, one of the trendiest subfields of\\ndata science. However , most neural networks are “black boxes”—\\ninspecting their details doesn’ t give you much understanding of how  they’re\\nsolving a problem. And lar ge neural networks can be dif ficult to train. For\\nmost problems you’ll encounter as a budding data scientist, they’re\\nprobably not the right choice. Someday , when you’re trying to build an\\nartificial intelligence to bring about the Singularity , they very well might be.\\nP e r c e p t r o n s\\nPretty  much the simplest neural network is the per ceptr on , which\\napproximates a single neuron with n  binary inputs. It computes a weighted\\nsum of its inputs and “fires” if that weighted sum is 0 or greater:\\nfrom scratch.linear_algebra import Vector, dot \\n \\ndef step_function(x: float) -> float: \\n    return 1.0 if x >= 0 else 0.0 \\n \\ndef perceptron_output(weights: Vector, bias: float, x: Vector) -> float: '),\n",
       " Document(metadata={'source': 'data\\\\Artificial_Intelligence_For_Dummies.pdf', 'page': 191, 'pk': 451348365454084669}, page_content='176      PART 3  Working with Software-Based AI ApplicationsShaping Neural Networks Similar  \\nto the Human Brain\\nThe following sections present a family of learning algorithms that derive inspi -\\nration from how the brain works. They’re neural networks, the core algorithm of \\nthe connectionists’ tribe that best mimics neurons inside human brains at a \\nsmaller scale. (See Chapter\\xa01 for an overview of the five tribes of machine learning \\nemployed by various scientists.)\\nConnectionism is the machine learning approach based on neuroscience, as well \\nas the example of biologically interconnected networks.\\nIntroducing the neuron\\nHuman brains have billions of neurons, which are cells that receive, process, and \\ntransmit electric and chemical signals. Each neuron possesses a nucleus with fila -\\nments that act as inputs; dendrites that receive signals from other neurons; and a \\nsingle output filament, the axon, that terminates with synapses devoted to outside \\ncommunication. Neurons connect to other neurons and transmit information \\nbetween them using chemicals, whereas information inside the neuron itself is \\nelectrically processed. You can read more about neuronal structure in “What’s the \\nBasic Structure of Nerves?” at Dummies.com (or in Neuroscience For Dummies,  2nd \\nEdition, by Frank Amthor (Wiley).\\nReverse-engineering how a brain processes signals helps the connectionists \\ndefine neural networks based on biological analogies and their components. Con-\\nnectionists thus use an abundance of brain terms such as neurons, activation, and \\nconnections as names for mathematical operations. Yet, in spite of the biological \\nterms, neural networks resemble nothing more than a series of multiplications \\nand summations when you check their math formulations. These algorithms are \\nextraordinarily effective at solving complex problems such as image and sound \\nrecognition or machine language translation; using specialized hardware, they \\ncan execute prediction computations quickly.\\nStarting with the miraculous perceptron\\nThe core of a neural network algorithm is the neuron (also called a unit). Many \\nneurons arranged in an interconnected structure make up a neural network, with \\neach neuron linking to the inputs and outputs of other neurons. Thus, a neuron \\ncan input data from examples or transmit the results of other neurons, depending \\non its location in the neural network.')]"
      ]
     },
     "execution_count": 55,
     "metadata": {},
     "output_type": "execute_result"
    }
   ],
   "source": [
    "metadata_retriever.invoke(\"Give a detailed explanation of neural networks. Give examples when possible.\")"
   ]
  },
  {
   "cell_type": "code",
   "execution_count": 56,
   "metadata": {},
   "outputs": [
    {
     "data": {
      "text/plain": [
       "[Document(metadata={'pk': 451348365454084255}, page_content='## Summary of \"Artificial Intelligence for Dummies\", \"Data Science from Scratch\", and \"Python for Data Science for Dummies\"\\n\\nThis summary focuses on the sections provided, which primarily deal with neural networks and deep learning. \\n\\n**\"Artificial Intelligence for Dummies\"**\\n\\n* **Chapter 11: Improving AI with Deep Learning:** This chapter introduces the concept of neural networks, drawing parallels to the human brain\\'s structure and function. It explains the basic components of a neural network, including neurons, activation functions, and layers. \\n* **Key Concepts:**\\n    * **Neural Networks:** Inspired by the human brain, these networks consist of interconnected neurons that process information through layers.\\n    * **Activation Functions:** These functions determine whether a neuron \"fires\" based on the input it receives.\\n    * **Backpropagation:** This algorithm allows neural networks to learn by adjusting weights based on errors in their predictions.\\n    * **Deep Learning:** This is a type of neural network with multiple hidden layers, enabling it to learn complex patterns from large datasets.\\n    * **Vanishing Gradient:** This problem arises in deep networks where signals can become too small to propagate through layers, hindering learning.\\n    * **GPUs:** These specialized processors are crucial for training deep networks due to their ability to handle complex calculations.\\n\\n**\"Data Science from Scratch\"**\\n\\n* **Chapter 18: Neural Networks:** This chapter provides a more practical approach to neural networks, focusing on their implementation in Python. It covers the basic building blocks of neural networks, including perceptrons and feed-forward networks.\\n* **Key Concepts:**\\n    * **Perceptron:** A simple neural network that simulates a single neuron with binary inputs.\\n    * **Feed-Forward Networks:** These networks consist of multiple layers of neurons, with information flowing in one direction.\\n    * **Sigmoid Function:** A smooth approximation of the step function used in neural networks to activate neurons.\\n\\n**\"Python for Data Science for Dummies\"**\\n\\n* **No specific sections on neural networks or deep learning are provided.**\\n\\n**Overall Summary:**\\n\\nThe provided sections offer a basic introduction to neural networks and deep learning, emphasizing their biological inspiration and practical applications. They explain the core concepts, including neuron structure, activation functions, backpropagation, and the challenges of training deep networks. The \"Artificial Intelligence for Dummies\" chapter provides a more conceptual overview, while the \"Data Science from Scratch\" chapter focuses on practical implementation in Python. \\n\\n**Note:** This summary is based on the provided excerpts and may not cover all aspects of the books. For a comprehensive understanding, it is recommended to read the full books. \\n'),\n",
       " Document(metadata={'pk': 451348365454083086}, page_content='182      PART 3  Working with Software-Based AI Applicationsapplies, also renders nonlinear the resulting recombination of the inputs received \\nby the connections. Both of these neural network components enable the algo -\\nrithm to learn complex target functions that represent the relationship between \\nthe input features and the target outcome.\\nUnderstanding the role of backpropagation\\nLearning occurs in a human brain because of the formation and modification of \\nsynapses between neurons, based on stimuli received by trial-and-error experi-\\nence. Neural networks provide a way to replicate this process as a mathematical \\nformulation called backpropagation. Here’s how this architecture of interconnected \\ncomputing units can solve problems: The units receive an example, and if they \\ndon’t guess correctly, they retrace the problem in the system of existing weights \\nusing backpropagation and fix it by changing some values. This process goes on \\nfor many iterations before a neural network can learn. Iterations in a neural net -\\nwork are called epochs, a name that fits perfectly because a neural network may \\nneed days or weeks of training to learn complex tasks.\\nBackpropagation math is quite advanced and requires knowledge of concepts such \\nas derivatives. You can read a detailed but accessible math description in Machine \\nLearning For Dummies,  2nd Edition, by John Paul Mueller and Luca Massaron \\n(Wiley) and get an overview of the necessary calculations. Backpropagation as a \\nconcept is intuitive enough to grasp and convey because it resembles what people \\ndo when performing a task using iterated approximate trial and error. Since the \\nappearance of the backpropagation algorithm in the 1970s, developers have fixed \\nit many times and are currently discussing whether to rethink it. (You can read the \\nopinion of Geoffrey Hinton, one of the coauthors of the method, at https://\\ntinyurl.com/rrea42wz .) Backpropagation is at the core of the present AI renais -\\nsance. In the past, each neural network learning process improvement resulted in \\nnew applications and a renewed interest in the technique. Also, the current deep \\nlearning revolution, which involves a revival of neural networks (abandoned at \\nthe beginning of the 1990s), resulted from key advances in the way neural net -\\nworks learn from their errors.\\nIntroducing Deep Learning\\nAfter backpropagation, the next improvement in neural networks led to deep \\nlearning. Research continued in spite of the AI winter, and neural networks over-\\ncame technical problems, such as the vanishing gradient,  which limits the '),\n",
       " Document(metadata={'pk': 451348365454083084}, page_content='180       PART 3  Working with Software-Based AI ApplicationsThe figure shows a simple neural network architecture. Note how the layers filter \\nand process information in a progressive way. This is a feed-forward input  because \\ndata feeds one direction into the network. Connections exclusively link units in \\none layer with units in the following layer (information flows from left to right). \\nNo connections exist between units in the same layer or with units outside the \\nnext layer. Moreover, the information pushes forward (from the left to the right). \\nProcessed data never returns to previous neuron layers.\\nIn more advanced neural network applications, you also have to decide on the \\nlayer types you need and the large number of parameters that will influence the \\nlayers’ behavior. Neural networks are extremely flexible, and that aspect is a  \\ndouble-edged sword: You increase the power of the machine learning tool as \\ncomplexity skyrockets.\\nUsing a neural network is like using a stratified filtering system for water: You \\npour the water from above, and the water is filtered at the bottom. The water has \\nno way to go back up; it just goes forward and straight down, and never laterally. \\nIn the same way, neural networks force data features to flow through the network \\nand mix with each other as dictated by the network’s architecture. By using the \\nbest architecture to mix features, the neural network creates newly composed \\nfeatures at every layer and helps achieve better predictions. Unfortunately, in \\nspite of the efforts of academics to discover a theoretical rule, you have no way to \\ndetermine the best architecture without empirically trying different solutions and \\ntesting whether output data helps predict your target values after flowing through \\nthe network. This need for manual configuration illustrates the no-free-lunch the -\\norem (which you can read about in Chapter\\xa010) in action. The gist of it is that an \\narchitecture that works the best on one task won’t necessarily perform success -\\nfully on other problems.\\nSometimes concepts can be understood better if directly tested in reality. Google \\noffers a Neural Network Playground ( http://playground.tensorflow.org ) in \\nwhich you can actually test how a neural network works in an intuitive manner, \\nas shown in Figure\\xa011-3. You see how the neural network builds a neural network \\nby adding or removing layers and changing kinds of activations.\\nFiguring out the secret is in the weights\\nNeural networks have different layers, with each one having its own weights. \\nWeights  represent the strength of the connection between neurons in the network. \\nWhen the weight of the connection between two layers is small, it means that the \\nnetwork dumps values flowing between them and signals that taking this route \\nisn’t likely to influence the final prediction. Likewise, a large positive or negative \\nvalue affects the values that the next layer receives, thus determining certain pre-\\ndictions. This approach is analogous to brain cells, which don’t stand alone but '),\n",
       " Document(metadata={'pk': 451348365454084356}, page_content='## Summary of \"Artificial Intelligence for Dummies\", \"Data Science from Scratch\", and \"Python for Data Science for Dummies\"\\n\\nThis summary focuses on the sections of the books related to neural networks and recurrent neural networks, as those are the topics highlighted in the provided text excerpt.\\n\\n**\"Artificial Intelligence for Dummies\"**\\n\\nThis book likely provides a high-level introduction to artificial intelligence (AI), including neural networks. It might cover:\\n\\n* **Basic concepts of AI:** What is AI, different types of AI, and its applications.\\n* **Neural networks:** A simplified explanation of how neural networks work, including concepts like neurons, layers, activation functions, and training.\\n* **Types of neural networks:**  A brief overview of different neural network architectures like feedforward networks, convolutional neural networks (CNNs), and recurrent neural networks (RNNs).\\n* **Applications of neural networks:** Examples of how neural networks are used in various fields like image recognition, natural language processing, and robotics.\\n\\n**\"Data Science from Scratch\"**\\n\\nThis book likely delves deeper into the implementation of neural networks, focusing on building them from scratch using Python. It might cover:\\n\\n* **Mathematical foundations:**  Explaining the mathematical concepts behind neural networks, including linear algebra, calculus, and probability.\\n* **Implementation details:**  Providing code examples and explanations for building neural networks using Python libraries like NumPy and TensorFlow.\\n* **Training and optimization:**  Discussing different training algorithms like gradient descent and backpropagation, as well as techniques for optimizing model performance.\\n* **Practical applications:**  Demonstrating how to apply neural networks to real-world data science problems.\\n\\n**\"Python for Data Science for Dummies\"**\\n\\nThis book likely focuses on using Python for data science tasks, including working with neural networks. It might cover:\\n\\n* **Python libraries for data science:**  Introducing popular Python libraries like Pandas, Scikit-learn, and Keras for data manipulation, analysis, and machine learning.\\n* **Neural network libraries:**  Explaining how to use libraries like Keras and TensorFlow to build and train neural networks in Python.\\n* **Preprocessing and feature engineering:**  Discussing techniques for preparing data for neural network training.\\n* **Model evaluation and selection:**  Explaining how to evaluate the performance of neural networks and choose the best model for a given task.\\n\\n**The Text Excerpt**\\n\\nThe provided text excerpt focuses on the implementation of a simple recurrent neural network (RNN) in Python. It highlights:\\n\\n* **Linear layer:**  Explaining how a linear layer, which represents the dot product of weights and inputs, is implemented.\\n* **Dropout layer:**  Describing how a dropout layer is used to prevent overfitting by randomly dropping out neurons during training.\\n* **Simple RNN:**  Presenting a basic implementation of an RNN, which uses a hidden state to store information from previous inputs.\\n* **Limitations of simple RNNs:**  Discussing the limitations of simple RNNs, such as their difficulty in learning long-range dependencies.\\n* **Character-level RNNs:**  Illustrating how RNNs can be used to generate text by learning patterns from character sequences.\\n\\n**Overall**\\n\\nThe three books provide a comprehensive introduction to AI, data science, and neural networks. \"Artificial Intelligence for Dummies\" offers a high-level overview, \"Data Science from Scratch\" focuses on implementation details, and \"Python for Data Science for Dummies\" emphasizes using Python for data science tasks, including neural networks. The text excerpt provides a practical example of implementing a simple RNN in Python, highlighting key concepts and limitations. \\n')]"
      ]
     },
     "execution_count": 56,
     "metadata": {},
     "output_type": "execute_result"
    }
   ],
   "source": [
    "answer_retriever.invoke(\"Give a detailed explanation of neural networks. Give examples when possible.\")"
   ]
  },
  {
   "cell_type": "code",
   "execution_count": 58,
   "metadata": {},
   "outputs": [
    {
     "name": "stdout",
     "output_type": "stream",
     "text": [
      "Statistics is the science of collecting, analyzing, interpreting, and presenting data. It's a powerful tool for understanding patterns, trends, and relationships within data.  \n",
      "\n",
      "For example, imagine you want to understand the average height of people in a city. You could collect data on the heights of a sample of people, calculate the average height, and use this information to estimate the average height of the entire city's population.\n",
      "\n",
      "Statistics is used in many different fields, including:\n",
      "\n",
      "* **Business:** To track sales, analyze customer behavior, and make informed decisions about marketing and product development.\n",
      "* **Healthcare:** To study the effectiveness of treatments, monitor disease outbreaks, and improve patient care.\n",
      "* **Science:** To analyze experimental data, test hypotheses, and make discoveries.\n",
      "\n",
      "Statistics is a vast field with many different techniques and methods. Some common statistical concepts include:\n",
      "\n",
      "* **Mean:** The average of a set of numbers.\n",
      "* **Standard deviation:** A measure of how spread out a set of numbers is.\n",
      "* **Correlation:** A measure of the relationship between two variables.\n",
      "* **Regression:** A statistical technique used to predict the value of one variable based on the value of another variable.\n",
      "\n",
      "By understanding statistics, we can gain valuable insights from data and make better decisions in our personal and professional lives. \n",
      "\n"
     ]
    }
   ],
   "source": [
    "## k = 5\n",
    "response =rag_chain.invoke(\"Generate an answer which summarizes statistics in 200 words. You can use examples.\")\n",
    "print(str(response))"
   ]
  },
  {
   "cell_type": "code",
   "execution_count": 59,
   "metadata": {},
   "outputs": [
    {
     "name": "stdout",
     "output_type": "stream",
     "text": [
      "The hashing trick is a technique used to convert text data into numerical vectors. It involves using a hash function to map each word to a unique index within a predefined range. This allows you to represent text data as a sparse vector, where most entries are zero, and only the indices corresponding to the words present in the text are set to one.\n",
      "\n",
      "Here's a code example demonstrating the hashing trick:\n",
      "\n",
      "```python\n",
      "def hashing_trick(input_string, vector_size=20):\n",
      "    feature_vector = [0] * vector_size\n",
      "    for word in input_string.split(' '):\n",
      "        index = abs(hash(word)) % vector_size\n",
      "        feature_vector[index] = 1\n",
      "    return feature_vector\n",
      "\n",
      "input_string = 'Python for data science'\n",
      "feature_vector = hashing_trick(input_string, vector_size=20)\n",
      "print(feature_vector)\n",
      "```\n",
      "\n",
      "This code defines a function `hashing_trick` that takes an input string and a vector size as arguments. It then iterates over each word in the input string, calculates its hash value, and uses the modulo operation to map it to an index within the specified vector size. Finally, it creates a feature vector of the specified size, where the indices corresponding to the hashed words are set to 1.\n",
      "\n",
      "For example, if the input string is \"Python for data science\" and the vector size is 20, the resulting feature vector will be a list of 20 elements, with 1s at the indices corresponding to the hashed values of \"Python\", \"for\", \"data\", and \"science\", and 0s at all other indices.\n",
      "\n"
     ]
    }
   ],
   "source": [
    "## k = 5\n",
    "response =rag_chain.invoke(\"Demonstrate the hashing trick and give a specific code example\")\n",
    "print(str(response))"
   ]
  },
  {
   "cell_type": "code",
   "execution_count": 43,
   "metadata": {},
   "outputs": [
    {
     "name": "stdout",
     "output_type": "stream",
     "text": [
      "Statistics is the science of collecting, analyzing, interpreting, and presenting data. It's a powerful tool for understanding patterns, making predictions, and drawing conclusions from information. \n",
      "\n",
      "For example, imagine you want to know the average height of students in a school. You could collect data by measuring the height of every student. Then, you could use statistical methods to calculate the average height, which would give you a representative measure of the students' heights.\n",
      "\n",
      "Statistics is used in many different fields, including:\n",
      "\n",
      "* **Business:** To analyze sales data, track customer behavior, and make informed decisions about marketing and pricing.\n",
      "* **Healthcare:** To study the effectiveness of treatments, track disease outbreaks, and improve patient care.\n",
      "* **Science:** To analyze experimental results, test hypotheses, and make discoveries.\n",
      "\n",
      "Statistics is a vast and complex field, but even a basic understanding can be incredibly useful in everyday life. By learning how to collect, analyze, and interpret data, you can make more informed decisions and better understand the world around you. \n",
      "\n"
     ]
    }
   ],
   "source": [
    "## k = 4\n",
    "response =rag_chain.invoke(\"Generate an answer which summarizes statistics in 200 words. You can use examples.\")\n",
    "print(str(response))"
   ]
  },
  {
   "cell_type": "code",
   "execution_count": 44,
   "metadata": {},
   "outputs": [
    {
     "name": "stdout",
     "output_type": "stream",
     "text": [
      "The hashing trick is a technique used to convert text data into numerical feature vectors. It involves using a hash function to map each word to a unique index within a predefined range. This allows you to represent text data as a sparse vector, where most entries are zero, and only the indices corresponding to the words present in the text are set to one.\n",
      "\n",
      "Here's a code example demonstrating the hashing trick:\n",
      "\n",
      "```python\n",
      "def hashing_trick(input_string, vector_size=20):\n",
      "    feature_vector = [0] * vector_size\n",
      "    for word in input_string.split(' '):\n",
      "        index = abs(hash(word)) % vector_size\n",
      "        feature_vector[index] = 1\n",
      "    return feature_vector\n",
      "\n",
      "input_string = 'Python for data science'\n",
      "feature_vector = hashing_trick(input_string, vector_size=20)\n",
      "print(feature_vector)  # Output: [1, 0, 0, 0, 0, 1, 0, 0, 0, 0, 0, 0, 0, 0, 0, 0, 1, 0, 1, 0]\n",
      "```\n",
      "\n",
      "In this example, the `hashing_trick` function takes an input string and a vector size as arguments. It splits the input string into words, hashes each word using the built-in `hash` function, and then calculates an index within the specified vector size using the modulo operator (`%`). The function then sets the corresponding index in the feature vector to 1.\n",
      "\n",
      "The output of the code is a sparse vector of length 20, where the indices corresponding to the words \"Python\", \"for\", \"data\", and \"science\" are set to 1, and all other indices are 0.\n",
      "\n"
     ]
    }
   ],
   "source": [
    "## k = 4\n",
    "response =rag_chain.invoke(\"Demonstrate the hashing trick and give a specific code example\")\n",
    "print(str(response))"
   ]
  },
  {
   "cell_type": "code",
   "execution_count": 45,
   "metadata": {},
   "outputs": [
    {
     "name": "stdout",
     "output_type": "stream",
     "text": [
      "Neural networks are a type of machine learning algorithm inspired by the structure and function of the human brain. They consist of interconnected nodes, called neurons, organized in layers. Each neuron receives input from other neurons, processes it using a mathematical function called an activation function, and then outputs a value to other neurons.\n",
      "\n",
      "Here's a breakdown of key components:\n",
      "\n",
      "* **Neurons:** The basic building blocks of a neural network. They receive input signals, perform a weighted sum of these inputs, and apply an activation function to produce an output.\n",
      "* **Activation Functions:** These functions introduce non-linearity into the network, allowing it to learn complex patterns. Common activation functions include sigmoid, ReLU, and tanh.\n",
      "* **Layers:** Neurons are organized into layers. The first layer is the input layer, which receives data. The last layer is the output layer, which produces the network's predictions. Hidden layers lie between the input and output layers and perform complex computations.\n",
      "* **Weights:** Each connection between neurons has a weight associated with it. These weights represent the strength of the connection and are adjusted during training to improve the network's performance.\n",
      "* **Backpropagation:** This algorithm is used to train neural networks. It calculates the error between the network's predictions and the actual values and then adjusts the weights to minimize this error.\n",
      "\n",
      "**Example:**\n",
      "\n",
      "Imagine you want to build a neural network to classify images of cats and dogs.\n",
      "\n",
      "1. **Input Layer:** The input layer would receive the image data, which could be represented as a matrix of pixel values.\n",
      "2. **Hidden Layers:** These layers would process the image data, extracting features like edges, shapes, and textures.\n",
      "3. **Output Layer:** The output layer would produce a probability score for each class (cat or dog). The class with the highest probability would be the network's prediction.\n",
      "\n",
      "**Training:**\n",
      "\n",
      "During training, the network is fed with labeled images (images with known classifications). The network adjusts its weights based on the error between its predictions and the actual labels. This process is repeated for many iterations until the network achieves a desired level of accuracy.\n",
      "\n",
      "**Types of Neural Networks:**\n",
      "\n",
      "* **Feedforward Networks:** Information flows in one direction, from the input layer to the output layer.\n",
      "* **Convolutional Neural Networks (CNNs):** Specialized for image recognition, they use convolutional filters to extract features from images.\n",
      "* **Recurrent Neural Networks (RNNs):** Designed for sequential data, they have feedback loops that allow them to remember past information.\n",
      "\n",
      "**Applications:**\n",
      "\n",
      "Neural networks are used in a wide range of applications, including:\n",
      "\n",
      "* **Image Recognition:** Identifying objects in images, such as faces, cars, and animals.\n",
      "* **Natural Language Processing:** Understanding and generating human language, such as machine translation and text summarization.\n",
      "* **Speech Recognition:** Converting spoken words into text.\n",
      "* **Robotics:** Controlling robots and enabling them to perform tasks.\n",
      "* **Financial Modeling:** Predicting stock prices and other financial indicators.\n",
      "\n",
      "Neural networks are powerful tools for solving complex problems, and their applications continue to expand as research and development progress.\n",
      "\n"
     ]
    }
   ],
   "source": [
    "## k = 4\n",
    "response =rag_chain.invoke(\"Give a detailed explanation of neural networks. Give examples when possible.\")\n",
    "print(str(response))"
   ]
  },
  {
   "cell_type": "code",
   "execution_count": 46,
   "metadata": {},
   "outputs": [
    {
     "name": "stdout",
     "output_type": "stream",
     "text": [
      "Handling missing data is crucial because it can significantly impact the accuracy and reliability of data analysis and machine learning models.  Missing data can lead to biased results, inaccurate predictions, and flawed conclusions.\n",
      "\n",
      "Here are the methods available in Python for managing missing values:\n",
      "\n",
      "* **Finding Missing Data:** The `isnull()` method in Pandas identifies missing values in a Series or DataFrame.\n",
      "* **Encoding Missingness:**\n",
      "    * **`fillna()`:** This method fills missing values with a specified value, such as the mean, median, or a constant.\n",
      "    * **`dropna()`:** This method removes rows or columns containing missing values.\n",
      "* **Imputing Missing Data:**\n",
      "    * **`Imputer` from Scikit-learn:** This class provides various strategies for replacing missing values, including mean, median, or most frequent value.\n",
      "\n",
      "**Imputation vs. Interpolation:**\n",
      "\n",
      "* **Imputation:** Replaces missing values with estimated values based on existing data. It's suitable for handling missing values in numerical data.\n",
      "* **Interpolation:**  Estimates missing values based on the relationship between existing data points. It's often used for time series data or data with a clear trend.\n",
      "\n",
      "**When to use Imputation vs. Interpolation:**\n",
      "\n",
      "* **Imputation:** Use when the missing values are likely to be similar to the existing values in the dataset. For example, if you have a dataset of customer ages and some ages are missing, you can impute the missing ages using the mean or median age of existing customers.\n",
      "* **Interpolation:** Use when the data has a clear trend or pattern. For example, if you have a dataset of stock prices over time and some prices are missing, you can use interpolation to estimate the missing prices based on the trend of the existing prices.\n",
      "\n",
      "In summary, handling missing data is essential for accurate data analysis. Python provides various methods for managing missing values, including imputation and interpolation. The choice between these techniques depends on the nature of the data and the specific requirements of the analysis. \n",
      "\n"
     ]
    }
   ],
   "source": [
    "## k = 4\n",
    "response =rag_chain.invoke(\"Can you explain the importance of handling missing data in a dataset, and describe the different methods available in Python for managing missing values? Additionally, how do techniques like imputation and interpolation differ, and in what scenarios would you prefer one over the other?\")\n",
    "print(str(response))"
   ]
  },
  {
   "cell_type": "code",
   "execution_count": 28,
   "metadata": {},
   "outputs": [
    {
     "name": "stdout",
     "output_type": "stream",
     "text": [
      "Statistics is a branch of mathematics that deals with the collection, analysis, interpretation, presentation, and organization of data. It helps us understand patterns, trends, and relationships within data sets. \n",
      "\n",
      "For example, imagine you want to know the average height of students in a school. You could collect data on the height of each student, then calculate the average height. This average height represents a statistical measure that summarizes the entire data set. \n",
      "\n",
      "Statistics is used in many fields, including healthcare, finance, marketing, and social sciences. It helps us make informed decisions based on data, rather than relying on intuition or guesswork. \n",
      "\n"
     ]
    }
   ],
   "source": [
    "# BM25 retriever\n",
    "response =rag_chain.invoke(\"Generate an answer which summarizes statistics in 200 words. You can use examples.\")\n",
    "print(str(response))"
   ]
  },
  {
   "cell_type": "code",
   "execution_count": 29,
   "metadata": {},
   "outputs": [
    {
     "name": "stdout",
     "output_type": "stream",
     "text": [
      "```python\n",
      "import sklearn.feature_extraction.text as txt\n",
      "sklearn_hashing_trick = txt.HashingVectorizer(\n",
      "     n_features=20, binary=True, norm=None) \n",
      "enconder = txt.CountVectorizer()\n",
      "texts = ['Python for data science',         'Python for machine learning']\n",
      "\n",
      "%timeit enconded = enconder.fit_transform(texts)\n",
      "# 1000 loops, best of 3: 1.27 ms per loop\n",
      "\n",
      "%timeit  hashing = sklearn_hashing_trick.transform(texts)\n",
      "# 10000 loops, best of 3: 158 µs per loop\n",
      "```\n",
      "\n",
      "The hashing trick is faster than one hot encoder, and it’s possible to explain the difference by noting that the latter is an optimized algorithm that keeps track of how the words are encoded, something that the hashing trick doesn’t do. \n",
      "\n"
     ]
    }
   ],
   "source": [
    "# BM25 retriever\n",
    "response =rag_chain.invoke(\"Demonstrate the hashing trick and give a specific code example\")\n",
    "print(str(response))"
   ]
  },
  {
   "cell_type": "code",
   "execution_count": 40,
   "metadata": {},
   "outputs": [
    {
     "name": "stdout",
     "output_type": "stream",
     "text": [
      "I'm sorry, but the provided context doesn't contain information about neural networks. Therefore, I cannot provide a detailed explanation of them. \n",
      "\n"
     ]
    }
   ],
   "source": [
    "# BM25 retriever\n",
    "response =rag_chain.invoke(\"Give a detailed explanation of neural networks. Give examples when possible.\")\n",
    "print(str(response))"
   ]
  },
  {
   "cell_type": "code",
   "execution_count": 32,
   "metadata": {},
   "outputs": [
    {
     "name": "stdout",
     "output_type": "stream",
     "text": [
      "Missing data can significantly skew analysis results, leading to inaccurate conclusions.  Here's why:\n",
      "\n",
      "* **Bias:** Missing data can introduce bias into your analysis, as the missing values may not be randomly distributed. This can lead to misleading results and incorrect inferences.\n",
      "* **Reduced Sample Size:** Missing data reduces the effective sample size, which can decrease the statistical power of your analysis and make it harder to detect significant relationships.\n",
      "* **Incorrect Model Fitting:** Missing data can lead to incorrect model fitting, as the model may be trained on incomplete information. This can result in poor predictions and inaccurate insights.\n",
      "\n",
      "**Methods for Handling Missing Data in Python:**\n",
      "\n",
      "1. **Deletion:**\n",
      "   * **Listwise Deletion:**  Removes entire rows with missing values. This is simple but can lead to significant data loss, especially if missing values are frequent.\n",
      "   * **Pairwise Deletion:**  Uses only complete cases for each analysis, but this can lead to different sample sizes for different analyses.\n",
      "\n",
      "2. **Imputation:**\n",
      "   * **Mean/Median/Mode Imputation:** Replaces missing values with the mean, median, or mode of the respective column. This is simple but can introduce bias if the missing values are not randomly distributed.\n",
      "   * **K-Nearest Neighbors (KNN) Imputation:**  Uses the values of the k nearest neighbors to predict the missing value. This can be more accurate than mean/median/mode imputation, but it can be computationally expensive.\n",
      "   * **Regression Imputation:** Uses a regression model to predict the missing value based on other variables in the dataset. This can be more accurate than KNN imputation, but it requires careful model selection and validation.\n",
      "\n",
      "3. **Interpolation:**\n",
      "   * **Linear Interpolation:**  Estimates missing values by drawing a straight line between the known values. This is suitable for data with a linear trend.\n",
      "   * **Spline Interpolation:**  Uses a smooth curve to estimate missing values. This is suitable for data with a non-linear trend.\n",
      "\n",
      "**Imputation vs. Interpolation:**\n",
      "\n",
      "* **Imputation:**  Replaces missing values with estimated values based on the existing data. It is suitable for handling missing values in numerical data.\n",
      "* **Interpolation:**  Estimates missing values based on the trend of the data. It is suitable for handling missing values in time series data or data with a clear trend.\n",
      "\n",
      "**Choosing the Right Method:**\n",
      "\n",
      "The best method for handling missing data depends on the specific dataset and the analysis goals. Consider the following factors:\n",
      "\n",
      "* **Nature of the Missing Data:**  Is the missing data random or systematic?\n",
      "* **Amount of Missing Data:**  How much data is missing?\n",
      "* **Type of Data:**  Is the data numerical or categorical?\n",
      "* **Analysis Goals:**  What are you trying to achieve with the analysis?\n",
      "\n",
      "For example, if you have a small amount of missing data in a numerical variable and the missing values are likely to be randomly distributed, mean/median/mode imputation might be sufficient. However, if you have a large amount of missing data in a time series dataset, interpolation might be a better choice. \n",
      "\n"
     ]
    }
   ],
   "source": [
    "# BM25 retriever\n",
    "response =rag_chain.invoke(\"Can you explain the importance of handling missing data in a dataset, and describe the different methods available in Python for managing missing values? Additionally, how do techniques like imputation and interpolation differ, and in what scenarios would you prefer one over the other?\")\n",
    "print(str(response))"
   ]
  },
  {
   "cell_type": "code",
   "execution_count": null,
   "metadata": {},
   "outputs": [],
   "source": []
  }
 ],
 "metadata": {
  "kernelspec": {
   "display_name": "Python 3",
   "language": "python",
   "name": "python3"
  },
  "language_info": {
   "codemirror_mode": {
    "name": "ipython",
    "version": 3
   },
   "file_extension": ".py",
   "mimetype": "text/x-python",
   "name": "python",
   "nbconvert_exporter": "python",
   "pygments_lexer": "ipython3",
   "version": "3.11.9"
  }
 },
 "nbformat": 4,
 "nbformat_minor": 2
}
