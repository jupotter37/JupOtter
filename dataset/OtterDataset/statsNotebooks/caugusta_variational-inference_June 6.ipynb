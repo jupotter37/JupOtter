{
 "metadata": {
  "name": "",
  "signature": "sha256:6794dea5166465a3089915b602fe3fe7d7c5b06b649c968cdaacb4c1db5aaa44"
 },
 "nbformat": 3,
 "nbformat_minor": 0,
 "worksheets": [
  {
   "cells": [
    {
     "cell_type": "markdown",
     "metadata": {},
     "source": [
      "#The General idea of posterior inference#\n",
      "\n",
      "If the posterior distribution is tractable, then we can use exact inference methods. If instead the posterior distribution is intractable, there are two general approaches we can take to resolve this:\n",
      "\n",
      "a) Deterministic approximate inference (classical variational inference)\n",
      "\n",
      "b) Stochastic approximate inference (MCMC, stochastic variational inference).\n",
      "\n",
      "##Classical (mean field) variational inference###\n",
      "\n",
      "While there are other algorithms available, the most popular method for variational inference uses the mean-field approximation. The crux of the approximation is this: we assume the hidden variables are independent. Of course, this does not work for many models. However, it provides a quick and easy approximation. For this reason, many researchers have cited variational methods as being faster than MCMC (but this is a controversial statement). We construct a function that is close to the true posterior in terms of KL divergence, then perform inference on this nice, known function. Results are approximate.\n",
      "\n",
      "##Markov chain Monte Carlo##\n",
      "\n",
      "Posterior inference is carried out using samples from the posterior. We construct a Markov chain that has a stationary distribution equal to the posterior distribution, and run the chain to \"convergence\" (which is a blurry term - convergence diagnostics are still under development). Then we sample from the stationary distribution of the Markov chain, which gives us posterior samples. MCMC will yield exact results if the process is allowed to run forever. These chains, though, often exhibit slow mixing, which means that MCMC can take a long time to yield good results.\n",
      "\n",
      "##Stochastic variational inference##\n",
      "\n",
      "Classical variational inference uses the entire dataset in each iteration of the algorithm. Thus, classical variational methods do not scale to large datasets. Stochastic variational inference solves this problem, but adds others. Instead of looking at the entire dataset to perform a parameter update, we sample one datapoint uniformly from the set of observations and use just that observation to inform parameter changes. The stochasticity here comes entirely from sampling noise. While the algorithm as described is entirely online, extensions to minibatches have been implemented. Full batch stochastic variational inference is equivalent to classical variational inference. One new problem introduced by this method is the requirement of a step size schedule, to be described later (one solution has been provided by Ranganath et al, ICML 2013). Future work includes extending the methodology to time series models (started by Johnson and Willsky, ICML 2014), and to non-exponential family models.\n",
      "\n",
      "\n",
      "\n"
     ]
    },
    {
     "cell_type": "markdown",
     "metadata": {},
     "source": [
      "## Mean field variational inference ##\n",
      "\n",
      "### The setup ###\n",
      "\n",
      "Suppose we have data $X = \\left\\{x_1, \\ldots, x_n \\right\\}$, global hidden variables $\\beta$ and local hidden variables $Z = \\left\\{z_1, \\ldots, z_n\\right\\}$. Notice we have one local hidden variable for each observation $x_i$ and the global hidden variables do not necessarily have dimension $n$. This setup can be shown using a plate diagram (below)."
     ]
    },
    {
     "cell_type": "markdown",
     "metadata": {},
     "source": [
      "<img src=\"https://github.com/caugusta/variational-inference/raw/master/PlateModel.png\" alt=\"A plate model with N observations\" style=\"width:250px\">"
     ]
    },
    {
     "cell_type": "markdown",
     "metadata": {},
     "source": [
      "A plate model (above) is a schematic for a model distribution, showing the conditional dependencies. In a plate model, a rectangle with a total (n) in the bottom right indicates that all variables or parameters inside the rectangle (the \"plate\") are indexed from 1 to n. So we have a pictoral representation of $z_i : i = 1, \\ldots, n$ and $x_i : i = 1, \\ldots, n$. The notation for unobserved variables (hidden units, in this case $z_i$ and $\\beta$) in a plate diagram is an unfilled circle. Observed variables (visible units, in this case $x_i$) are filled circles. Outside the plate are variables or parameters that are not repeated n times. That is, $\\beta$ is a vector of global hidden variables, which means the length of the vector is not necessarily $n$. The arrows between components in the plate model show how each variable or parameter is related. For example, the arrow from $\\beta$ to $z_i$ indicates that the value of $z_i$ dependes on the value of $\\beta$. Taken as a whole, the plate model shows that the joint (model) distribution $P(x, z, \\beta)$, and illustrates the dependencies in the model."
     ]
    },
    {
     "cell_type": "markdown",
     "metadata": {},
     "source": [
      "For example, in a Gaussian mixture model, the global parameters $\\beta$ would be the means and precision matrices of the components, and the local parameters $z$ would be the identity of the component that the observation belongs to. (http://www-users.cs.york.ac.uk/adrian/Papers/Journals/TSMC-B06.pdf)\n",
      "\n"
     ]
    },
    {
     "cell_type": "markdown",
     "metadata": {},
     "source": [
      "The model then looks like this:\n",
      "    \n",
      "    \n",
      "\\begin{align}\n",
      "P(x, z, \\beta) &= P(\\beta) \\prod_{i=1}^n P(z_i \\mid \\beta) P(x_i \\mid z_i, \\beta) %P(x_i, z_i \\mid \\beta)\n",
      "\\end{align}"
     ]
    },
    {
     "cell_type": "markdown",
     "metadata": {},
     "source": [
      "Note that given the global hidden parameters, $\\beta$, the local hidden variables $z$ are conditionally independent. While the assumption of total independence (the mean field assumption) doesn't really hold, there is some independence structure here that we are exploiting."
     ]
    },
    {
     "cell_type": "markdown",
     "metadata": {},
     "source": [
      "The goal, as usual, is to infer the posterior distribution over the hidden variables, given the observed data:\n",
      "\n",
      "$$P(z, \\beta \\mid x)$$"
     ]
    },
    {
     "cell_type": "markdown",
     "metadata": {},
     "source": [
      "Again, the problem is that the posterior distribution is intractable, because the normalization constant $P(x)$ (aka the partition function) is intractable. Recall the relationship from Bayesian statistics:\n",
      "\n",
      "$$P(A, B \\mid C) = \\frac{P(A, B, C)}{P(C)}$$\n",
      "\n",
      "Using this relationship, we can show the formula needed to calculate the posterior distribution:\n",
      "\n",
      "$$P(z, \\beta \\mid x) = \\frac{P(z, \\beta, x)}{\\int_z \\int_\\beta P(z, \\beta, x)\\ d\\beta\\ dz}$$\n",
      "\n",
      "\n",
      "\n",
      "where the denominator comes from marginalizing over the global hidden variables $\\beta$ and the local hidden variables $z$, which means the denominator becomes a function of the data alone (hence calling it the marginal likelihood)."
     ]
    },
    {
     "cell_type": "markdown",
     "metadata": {},
     "source": [
      "We have the joint distribution from our model, and what we're lacking is the marginal likelihood, $P(x)$.\n",
      "\n",
      "<!--\n",
      "Denote the incomplete data log-likelihood by $P(x \\mid \\beta)$ and the complete data log likelihood by $P(x, z \\mid \\beta)$. Assuming $z$ to be given is equivalent to assuming the cluster assignment is given for each observation in the case of a Gaussian mixture model.\n",
      "\n",
      "Often we do not have the cluster labels, so they are considered a nuisance parameter. We integrate over them to obtain the incomplete data log-likelihood:\n",
      "\n",
      "$${\\rm{ln\\ }} P(x \\mid \\beta) = {\\rm{ln\\ }} \\int_{z} P(x, z \\mid \\beta) dz$$\n",
      "-->\n",
      "\n",
      "We can derive a lower bound for the marginal likelihood \n",
      "\n",
      "\n",
      "\\begin{align}\n",
      "{\\rm{ln}}\\ P(x) &= {\\rm{ln}} \\int_z \\int_\\beta P(z, \\beta, x)\\ d\\beta\\ dz \\\\[0.5em]\n",
      "&= {\\rm{ln}} \\int_z \\int_\\beta Q(z, \\beta) \\frac{P(z, \\beta, x)}{Q(z, \\beta)}\\ d\\beta\\ dz \\\\[0.5em]\n",
      "&= {\\rm{ln\\ }} E_Q \\left[\\frac{P(z, \\beta, x)}{Q(z, \\beta)} \\right] {\\rm{\\, since\\ E_X(g(X)) = \\int_x g(x)f(x) dx,\\ by\\ definition\\ of\\ expectation,\\ taking\\ the\\ expectation\\ with\\ respect\\ to\\ Q(\\beta, z)}}\\\\[0.5em]\n",
      "&\\ge E_Q\\ {\\rm{ln}} \\left[\\frac{P(z, \\beta, x)}{Q(z, \\beta)} \\right] {\\rm{\\, by\\ Jensen's\\ Inequality}} \\\\[0.5em]\n",
      "&= E_Q \\left[{\\rm{ln\\ }} P(z, \\beta, x)\\right] - E_Q \\left[{\\rm{ln\\ }} {Q(z, \\beta)}\\right] \\\\[0.5em]\n",
      "&= {\\mathcal{L}}(Q) \\\\\n",
      "\\end{align}\n",
      "\n",
      "<!--\n",
      "Suppose we have the complete data (that is, we have the cluster assignment $z_i$ for each data point $x_i$, and we have the observations $x_i$). Since the likelihood is a function of $x$ and $z$, denote it $P(x, z \\mid \\beta)$. We want to maximize the likelihood given the model parameters.\n",
      "\n",
      "$$P(\\beta \\mid x, z) = \\frac{P(x, z \\mid \\beta) P(\\beta)}{ \\int_\\beta P(x, z \\mid \\beta) P(\\beta)d\\beta}$$\n",
      "\n",
      "\n",
      "\n",
      "\n",
      "\n",
      "The posterior distribution is intractable because the normalization constant (marginal likelihood) is intractable. \n",
      "\n",
      ": HERE! This is weird because my model distribution would change, right? \n",
      "\n",
      "The likelihood function for the observed data and the hidden variables \n",
      "\n",
      "$$P(x \\mid \\beta, z) = \\int_z \\int_\\beta P(x, z, \\beta)dzd\\beta$$\n",
      "\n",
      "\n",
      "$$P(x \\mid \\beta, z) = \\int_z \\int_\\beta P(x, z \\mid \\beta)dzd\\beta$$\n",
      "-->"
     ]
    },
    {
     "cell_type": "markdown",
     "metadata": {},
     "source": [
      "So we have $${\\rm{\\ ln\\ }} P(x) = \\mathcal{L}(Q) + {\\rm{KL}}(Q || P)$$ (I can send you the proof of this one).\n",
      "\n",
      "To maximize the marginal likelihood, ${\\rm{\\ ln\\ }} P(x)$, we need to maximize the lower bound or minimize the KL divergence between the distribution $Q(z, \\beta)$ and the joint posterior distribution $P(z , \\beta \\mid x)$. Remember the KL divergence is never less than 0, so the log likelihood will always be at least $\\mathcal{L}(Q)$ (so $\\mathcal{L}(Q )$ is a lower bound on the log likelihood). For later, note:\n",
      "\n",
      "$$\\mathcal{L}(Q) =  {\\rm{\\ ln\\ }} P(x) - {\\rm{KL}}(Q || P)$$\n",
      "\n",
      "so $\\mathcal{L}(Q)$ is maximized when ${\\rm{KL}}(Q || P)$ is 0."
     ]
    },
    {
     "cell_type": "markdown",
     "metadata": {},
     "source": [
      "<!--\n",
      "The distribution $Q$ is important here and in the variational inference version of the EM algorithm.\n",
      "\n",
      "In the EM algorithm, we have to evaluate the expectation of the complete data log likelihood with respec to $Q$, since\n",
      "\n",
      "$${\\mathcal{L}}(Q , \\beta) = E_Q \\left[{\\rm{ln\\ }} P(x, z \\mid \\beta)\\right] - E_Q \\left[{\\rm{ln\\ }} {Q(z)}\\right]$$\n",
      "\n",
      "The problem is that we often don't have the complete data log likelihood. We usually don't know the values of the $z_i$ variables. All of the information we have about them, though, can be quantified in the posterior for $z$:\n",
      "\n",
      "$$P(z \\mid x, \\beta)$$\n",
      "-->\n",
      "\n",
      "The classical EM algorithm, using this decomposition for the log likelihood, is:\n",
      "\n",
      "#### Algorithm for General EM using the log likelihood decomposition####\n",
      "\n",
      "\n",
      "1. Initialize model parameters $\\beta_c$\n",
      "2. E-step: holding $\\beta_c$ constant, maximize $\\mathcal{L}(Q)$ with respect to $Q(z, \\beta)$ (note because of the decomposition, the maximizer will be exactly the posterior distribution $P(z , \\beta \\mid x)$.\n",
      "3. M-step: holding $Q(z, \\beta_c)$ constant, maximize $\\mathcal{L}(Q)$ with respect to $\\beta$. \n",
      "4. Continue until convergence.\n",
      "\n",
      "\n",
      "\n",
      "<!--\n",
      "We get a value $\\theta_{new}$, which means $KL(Q || P)$ is now nonzero because Q is being held fixed under $\\theta_c$, and the new posterior distribution will be $P(Z \\mid X, \\theta_{new})$. So the log likelihood ${\\rm{\\ ln\\ }} P(X \\mid \\theta)$ will increase\n",
      "-->"
     ]
    },
    {
     "cell_type": "markdown",
     "metadata": {},
     "source": [
      "#### What happens when the posterior distribution is intractable? ####\n",
      "\n",
      "In the E-step of the EM algorithm, the distribution $Q$ that maximized the lower bound on the log likelihood was the posterior distribution $P(z, \\beta \\mid x)$. \n",
      "\n",
      "Often, the posterior distribution is intractable.\n",
      "\n",
      "In mean field variational inference, the function $Q$ is assumed to factor over the latent variables and parameters. That is, \n",
      "\n",
      "$$Q(z, \\beta) = Q(z)Q(\\beta)$$\n",
      "\n",
      "Recall there are $n$ values of $z$, so we have:\n",
      "\n",
      "\\begin{align}\n",
      "Q(z, \\beta) &= \\prod\\limits_{j=1}^n Q(z_j)Q(\\beta) \\\\[0.5em]\n",
      "&= Q(\\beta)\\prod\\limits_{j=1}^n Q(z_j)\\\\[0.5em]\n",
      "&= Q(\\beta \\mid \\lambda) \\prod\\limits_{j=1}^n Q(z_j \\mid \\phi_j)\\\\[0.5em]\n",
      "\\end{align}\n",
      "\n",
      "where each variational distribution $Q(\\beta)$ and $Q(z_j)$ has its own set of (variational) parameters, $\\lambda$ for $Q(\\beta)$ and $\\phi_j$ for $Q(z_j)$. Then we minimize the KL divergence between the factorized distribution $Q(z, \\beta)$ and the true posterior distribution $P(z \\mid x, \\beta$)."
     ]
    },
    {
     "cell_type": "markdown",
     "metadata": {},
     "source": [
      "We need to optimize the variational parameteres $\\lambda$, $\\phi$ alternately to yield the closest possible distribution, within this factorized family, to the true posterior distribution. This looks very similar to the steps in the EM algorithm (we hold one unknown quantity fixed and maximize with respect to the other unknown quantity, then the other way around). After some derivation, we can arrive at the iterative updates for the $Q(z, \\beta)$ distribution (Bishop 2006):\n",
      "\n",
      "####The complete algorithm is:####\n",
      "\n",
      "1. Initialize the parameters of all of the variational distributions $Q_j(Z_j),\\ j = 1, \\ldots, n$\n",
      "2. For j in 1:n\n",
      "    $$Q^{new}_j(Z_j, \\beta) = \\displaystyle{\\frac{{\\rm{exp}}\\left\\{ E_{Q_{i \\ne j, \\beta}} \\left[ {\\rm{\\ln\\ }} P(X, Z, \\beta) \\right]\\right\\}}{\\int_{Z_j} \\rm{exp}\\left\\{ E_{Q_{i \\ne j, \\beta}} \\left[ {\\rm{\\ln\\ }} P(X, Z, \\beta) \\right]\\right\\} d{Z_j}}}$$\n",
      "    \n",
      "3. Iterate until convergence.\n",
      "\n",
      "\n",
      "#### A quick note on the relationship between EM and VB ####\n",
      "\n",
      "Variational EM is a particular algorithm associated with variational inference. While the description above is rather general, the only difference between the EM algorithm and variational EM arises in the M step (Ghahramani, 2003). Instead of maximizing with respect to the unknown parameter $\\beta$ as in the traditional EM algorithm, the maximization is with respect to the parameter's distribution, $q(\\beta)$. If the distribution is restricted to be a point mass, using a Dirac delta function, we recover the original EM algorithm (Ghahramani and Beal, 2001).\n",
      "\n"
     ]
    },
    {
     "cell_type": "markdown",
     "metadata": {},
     "source": [
      "\n",
      "## Example: Gaussian mixture models using VB ##"
     ]
    },
    {
     "cell_type": "code",
     "collapsed": false,
     "input": [
      "#This will work regardless of your Python version\n",
      "import numpy as np\n",
      "import matplotlib.pyplot as plt\n",
      "%matplotlib inline \n",
      "\n",
      "#Get 50 samples from each of 4 separate 2D Multivariate Normal distributions\n",
      "x0 = np.random.multivariate_normal([0, 0], [[2, 0], [0, 0.1]], size=50)\n",
      "x1 = np.random.multivariate_normal([0, 0], [[0.1, 0], [0, 2]], size=50)\n",
      "x2 = np.random.multivariate_normal([2, 2], [[2, -1.5], [-1.5, 2]], size=50)\n",
      "x3 = np.random.multivariate_normal([-2, -2], [[0.5, 0], [0, 0.5]], size=50)\n",
      "\n",
      "\n",
      "#concatenate all of the observations together\n",
      "obs = np.vstack([x0, x1, x2, x3]) #this version is used in the online example\n",
      "obsplot = np.r_[x0, x1, x2, x3]  #this version is for my plot. The only difference is formatting.\n",
      "\n",
      "#and plot them\n",
      "plt.plot(obs[:,0][0:49], obs[:,1][0:49], 'ro', obs[:,0][50:99], obs[:,1][50:99], 'bo', obs[:,0][100:149], obs[:,1][100:149], 'rx', obs[:,0][150:199], obs[:,1][150:199], 'bx',)\n",
      "plt.xlabel('x')\n",
      "plt.ylabel('y')\n",
      "min0 = min(obs[:,0]) - 1\n",
      "min1 = min(obs[:,1]) - 1\n",
      "max0 = max(obs[:,0]) + 1\n",
      "max1 = max(obs[:,1]) + 1\n",
      "plt.axis([min0, max0, min1, max1])\n",
      "plt.title('Example data from four MVN distributions')\n",
      "plt.show()\n"
     ],
     "language": "python",
     "metadata": {},
     "outputs": [
      {
       "metadata": {},
       "output_type": "display_data",
       "png": "[encoded data removed]",
       "text": [
        "<matplotlib.figure.Figure at 0x106443150>"
       ]
      }
     ],
     "prompt_number": 31
    },
    {
     "cell_type": "markdown",
     "metadata": {},
     "source": [
      "Now suppose we didn't know the cluster labels. That is, we don't know which of our 4 MVN distributions an observation comes from. We can visualize this with a plot without the colours - just the raw data:"
     ]
    },
    {
     "cell_type": "markdown",
     "metadata": {},
     "source": [
      "<img src=\"https://github.com/caugusta/variational-inference/raw/master/FromOnline1.png\" alt=\"\" style=\"width:500px\">"
     ]
    },
    {
     "cell_type": "markdown",
     "metadata": {},
     "source": [
      "####Model####\n",
      "\n",
      "For clarity, let us denote the number of the data vectors with N\n",
      "\n"
     ]
    },
    {
     "cell_type": "code",
     "collapsed": false,
     "input": [
      "N = 200"
     ],
     "language": "python",
     "metadata": {},
     "outputs": [],
     "prompt_number": 8
    },
    {
     "cell_type": "markdown",
     "metadata": {},
     "source": [
      "and the dimensionality of the data vectors with D:"
     ]
    },
    {
     "cell_type": "code",
     "collapsed": false,
     "input": [
      "D = 2"
     ],
     "language": "python",
     "metadata": {},
     "outputs": [],
     "prompt_number": 9
    },
    {
     "cell_type": "markdown",
     "metadata": {},
     "source": [
      "Since we don't know how many clusters our dataset has, we'll start with some large number of clusters, and the algorithm will pare this number down to a 'best guess' as to the true number of clusters. "
     ]
    },
    {
     "cell_type": "code",
     "collapsed": false,
     "input": [
      "K = 10"
     ],
     "language": "python",
     "metadata": {},
     "outputs": [],
     "prompt_number": 10
    },
    {
     "cell_type": "markdown",
     "metadata": {},
     "source": [
      "Remember when we have more than 2 possible clusters (we're assuming 10 here to be safe), we use a Categorical distribution. So the cluster assignments Z will have a Categorical distribution, and the prior for the cluster assignmenat probabilities $P(\\pi)$ will have a Dirichlet distribution:\n",
      "\n",
      "$$P(\\pi) = Dir(\\pi \\mid \\alpha)$$\n",
      "\n",
      "(More about Dirichlet distributions [here](http://en.wikipedia.org/wiki/Dirichlet_distribution), but for this example you only need to know that it's the conjugate prior of the Categorical distribution)\n"
     ]
    },
    {
     "cell_type": "code",
     "collapsed": false,
     "input": [
      "#This part will only work with Python 3.0\n",
      "\n",
      "from bayespy.nodes import Dirichlet, Categorical\n",
      "\n",
      "#Create a Dirichlet process prior for the cluster assignments our P(\\pi) \n",
      "alpha = Dirichlet(1e-5*npones(K), name = 'alpha') \n",
      "\n",
      "#The cluster assignments themselves follow a Categorical distribution\n",
      "#Since there are N observations, there will be N cluster assignments\n",
      "Z = Categorical(alpha, plates=(N,), name='z')\n"
     ],
     "language": "python",
     "metadata": {},
     "outputs": []
    },
    {
     "cell_type": "markdown",
     "metadata": {},
     "source": [
      "We also want to find the mean vectors and precision matrices of the clusters themselves (the precision matrix is the inverse of the covariance matrix, and is arguably nicer to work with when deriving the math behind this process). The conjugate prior of the mean of a Gaussian distribution is another Gaussian, and we will have exactly K elements in our mean vector, $\\mu$ (each cluster will have its own mean). \n",
      "\n",
      "The conjugate prior of the precision matrix $\\Lambda$ (inverse of the covariance matrix) is a Wishart distribution. (More about [Wishart distributions](http://en.wikipedia.org/wiki/Wishart_distribution)).\n",
      "\n",
      "(Side note: Some people like to put all of this together and talk about a Normal-inverse-Wishart distribution as a conjugate prior for a multivariate Normal distribution with unknown mean and covariance matrix. If you're interested, here's the [Wikipedia article](http://en.wikipedia.org/wiki/Normal-inverse-Wishart_distribution).)\n",
      "\n",
      "So we have:\n",
      "\n",
      "$$P(\\Lambda) = \\prod_{k = 1}^{K} \\mathcal{W}(\\lambda_k \\mid W_0, \\eta_0)$$\n",
      "\n",
      "$$P(\\mu \\mid \\Lambda) = \\prod_{k = 1}^{K} \\mathcal{N}(\\mu_k \\mid m_0, (\\beta_0 \\lambda_k)^{-1})$$"
     ]
    },
    {
     "cell_type": "code",
     "collapsed": false,
     "input": [
      "#This part will only work with Python 3.0\n",
      "\n",
      "from bayespy.nodes import Gaussian, Wishart\n",
      "\n",
      "mu = Gaussian(np.zeros(D), 1e-5*np.identity(D), plates=(K,), name='mu')\n",
      "\n",
      "Lambda = Wishart(D, 1e-5*np.identity(D), plates=(K,), name='Lambda')\n",
      "\n"
     ],
     "language": "python",
     "metadata": {},
     "outputs": []
    },
    {
     "cell_type": "markdown",
     "metadata": {},
     "source": [
      "We know that our data come from a Gaussian mixture distribution, but we don't know anything else. We create a Gaussian mixture distribution object:"
     ]
    },
    {
     "cell_type": "code",
     "collapsed": false,
     "input": [
      "#This part will only work with Python 3.0\n",
      "from bayespy.nodes import Mixture\n",
      "\n",
      " Y = Mixture(Z, Gaussian, mu, Lambda, name='Y') #This is the object\n",
      " Y.observe(obs) #and these are the model observations - the data."
     ],
     "language": "python",
     "metadata": {},
     "outputs": []
    },
    {
     "cell_type": "markdown",
     "metadata": {},
     "source": [
      "Now we randomly initialize our cluster assignments $z$ to start everything off:"
     ]
    },
    {
     "cell_type": "code",
     "collapsed": false,
     "input": [
      "#This part will only work with Python 3.0\n",
      "Z.initialize_from_random()"
     ],
     "language": "python",
     "metadata": {},
     "outputs": []
    },
    {
     "cell_type": "markdown",
     "metadata": {},
     "source": [
      "Now we're ready to perform inference (get distributional estimates) on the hidden values, given the data:\n",
      "\n",
      "Z (cluster assignments), \n",
      "\n",
      "$\\Lambda$ (the precision matrix), \n",
      "\n",
      "$\\mu$ (the vector of means),\n",
      "\n",
      "$K$ (the number of clusters), and\n",
      "\n",
      "$\\pi$ (the probability of being in a cluster)"
     ]
    },
    {
     "cell_type": "markdown",
     "metadata": {},
     "source": [
      "####Inference####"
     ]
    },
    {
     "cell_type": "markdown",
     "metadata": {},
     "source": [
      "We create a Variational Bayes object (same as variational inference in this case). "
     ]
    },
    {
     "cell_type": "code",
     "collapsed": false,
     "input": [
      "#This part will only work with Python 3.0\n",
      "from bayespy.inference import VB\n",
      "\n",
      "Q = VB(Y, mu, Lambda, Z, alpha)\n",
      "\n",
      "Q.update(repeat=1000)\n",
      "\n",
      "#This is the output:\n",
      "#Iteration 1: loglike=-1.402345e+03 (... seconds)\n",
      "#...\n",
      "#Iteration 61: loglike=-8.888464e+02 (... seconds)\n",
      "#Converged at iteration 61.\n"
     ],
     "language": "python",
     "metadata": {},
     "outputs": []
    },
    {
     "cell_type": "markdown",
     "metadata": {},
     "source": [
      "All of the results can be visualized in the following plot:\n",
      "    \n",
      "<img src=\"https://github.com/caugusta/variational-inference/raw/master/FromOnline2.png\" alt=\"\" style=\"width:500px\">"
     ]
    },
    {
     "cell_type": "markdown",
     "metadata": {},
     "source": [
      "So the algorithm has found all four clusters, and has figured out the cluster means and covariances, visualized by the ellipsoids. It has also figured out which observations belong to each cluster, with a few expections. It's clear that it would be hard to figure out the cluster assignment for the data point on the far right, for example."
     ]
    },
    {
     "cell_type": "markdown",
     "metadata": {},
     "source": [
      "### Summary ###\n",
      "\n",
      "Variational inference is useful when the posterior distribution is intractable. It is similar to several methods, like the EM (expectation-maximization) algorithm, especially for mixtures of Gaussians. According to Bishop (2006), there are some advantages to variational inference over the EM algorithm:\n",
      "\n",
      "1. The singularities that we see in the (frequentist) EM algorithm do not arise in this Bayesian treatment.\n",
      "\n",
      "2. If we choose a large number of initial clusters (here we chose K = 10), we don't have to worry about overfitting. The EM algorithm cannot find the number of clusters.\n",
      "\n",
      "3. Finding the optimal value of K did not require the extra step of cross-validation.\n",
      "\n",
      "Variational methods have been extended beyond the mean-field assumption, and have been extended to stochastic versions (see Hoffman et al 2013)."
     ]
    },
    {
     "cell_type": "markdown",
     "metadata": {},
     "source": [
      "## Markov chain Monte Carlo ##\n",
      "\n",
      "The general process of MCMC is to construct a Markov chain that converges to the unknown posterior distribution, then draw samples from the Markov chain once it reaches equilibrium. These samples can be regarded as dependent samples from the posterior distribution.\n",
      "\n",
      "One of the most popular methods of MCMC is the random walk Metropolis-Hastings version:\n",
      "\n",
      "### RWMH MCMC ###\n",
      "\n",
      "1. Initialize parameters from their prior distributions\n",
      "2. Calculate the log likelihood of the data under the current parameter settings.\n",
      "3. Propose new candidate values for the parameters, using a symmetric proposal distribution and the current values.\n",
      "4. Calculate the log likelihood of the data under the candidate parameter values.\n",
      "5. Calculate the acceptance probability.\n",
      "6. Stochastically accept the candidate values of the parameters according to the acceptance probability.\n",
      "7. Go to 2) until the maximum number of iterations has been reached.\n",
      "\n",
      "\n",
      "\n"
     ]
    },
    {
     "cell_type": "markdown",
     "metadata": {},
     "source": [
      "Variational inference differs fundamentally from this approach as there is no stochasticity in the classical variational inference algorithm. Also, in stochastic variational inference, the only randomness introduced is through sampling noise. By contrast, in MCMC, the act of moving from one set of parameter values to another is governed by a transition probability.\n",
      "\n",
      "A simpler algorithm for MCMC is obtained through straightforward Gibbs sampling. While the algorithm is slightly different, the result remains the same: we use a Markov chain to stand in for the posterior distribution and sample from the Markov chain at equilibrium. Again, the parameter values are chosen stochastically, not updated deterministically, which constitutes the major difference between variational inference and Gibbs sampling.\n",
      "\n",
      "###Algorithm for Gibbs Sampling### \n",
      "\n",
      "1. Initialize parameters $\\beta_j, j = 1, \\ldots n$ from their prior distributions\n",
      "2. Draw a new value for the $j^{th}$ parameter, given the current settings of all other parameters. Do this for all $n$ parameters.\n",
      "3. Iterate until convergence.\n",
      "\n",
      "([Reference for Gibbs Sampling algorithm](https://pymc-devs.github.io/pymc/theory.html#monte-carlo-methods-in-bayesian-analysis) )"
     ]
    },
    {
     "cell_type": "markdown",
     "metadata": {},
     "source": [
      "### RWMH MCMC for Gaussian mixture model ###"
     ]
    },
    {
     "cell_type": "code",
     "collapsed": false,
     "input": [
      "# -*- coding: utf-8 -*-\n",
      "\n",
      "# Copyright 2011 Tom SF Haines\n",
      "\n",
      "# Licensed under the Apache License, Version 2.0 (the \"License\"); you may not use this file except in compliance with the License. You may obtain a copy of the License at\n",
      "\n",
      "#   http://www.apache.org/licenses/LICENSE-2.0\n",
      "\n",
      "# Unless required by applicable law or agreed to in writing, software distributed under the License is distributed on an \"AS IS\" BASIS, WITHOUT WARRANTIES OR CONDITIONS OF ANY KIND, either express or implied. See the License for the specific language governing permissions and limitations under the License.\n",
      "\n",
      "#https://code.google.com/p/haines/source/browse/gcp/wishart.py\n",
      "\n",
      "\n",
      "import math\n",
      "import random\n",
      "import numpy\n",
      "import numpy.linalg\n",
      "import numpy.random\n",
      "import scipy.special\n",
      "\n",
      "\n",
      "\n",
      "class Wishart:\n",
      "  \"\"\"Simple Wishart distribution class, quite basic really, but has caching to avoid duplicate computation.\"\"\"\n",
      "  def __init__(self, dims):\n",
      "    \"\"\"dims is the number of dimensions - it initialises with the dof set to 1 and the scale set to the identity matrix. Has copy constructor support.\"\"\"\n",
      "    if isinstance(dims, Wishart):\n",
      "      self.dof = dims.dof\n",
      "      self.scale = dims.scale.copy()\n",
      "      self.invScale = dims.invScale.copy() if dims.invScale!=None else None\n",
      "      self.norm = dims.norm\n",
      "      self.cholesky = dims.cholesky.copy() if dims.cholesky!=None else None\n",
      "    else:\n",
      "      self.dof = 1.0\n",
      "      self.scale = numpy.identity(dims, dtype=numpy.float32)\n",
      "      self.invScale = None\n",
      "      self.norm = None\n",
      "      self.cholesky = None\n",
      "\n",
      "  def setDof(self, dof):\n",
      "    \"\"\"Sets the degrees of freedom of the distribution.\"\"\"\n",
      "    self.dof = dof\n",
      "    self.norm = None\n",
      "\n",
      "  def setScale(self, scale):\n",
      "    \"\"\"Sets the scale matrix, must be symmetric positive definite\"\"\"\n",
      "    ns = numpy.array(scale, dtype=numpy.float32)\n",
      "    assert(ns.shape==self.scale.shape)\n",
      "    self.scale = ns\n",
      "    self.invScale = None\n",
      "    self.norm = None\n",
      "    self.cholesky = None\n",
      "\n",
      "  def getDof(self):\n",
      "    \"\"\"Returns the degrees of freedom.\"\"\"\n",
      "    return self.dof\n",
      "\n",
      "  def getScale(self):\n",
      "    \"\"\"Returns the scale matrix.\"\"\"\n",
      "    return self.scale\n",
      "\n",
      "  def getInvScale(self):\n",
      "    \"\"\"Returns the inverse of the scale matrix.\"\"\"\n",
      "    if self.invScale==None:\n",
      "      self.invScale = numpy.linalg.inv(self.scale)\n",
      "    return self.invScale\n",
      "\n",
      "\n",
      "  def getNorm(self):\n",
      "    \"\"\"Returns the normalising constant of the distribution, typically not used by users.\"\"\"\n",
      "    if self.norm==None:\n",
      "      d = self.scale.shape[0]\n",
      "      self.norm  = math.pow(2.0,-0.5*self.dof*d)\n",
      "      self.norm *= math.pow(numpy.linalg.det(self.scale),-0.5*self.dof)\n",
      "      self.norm *= math.pow(math.pi,-0.25*d*(d-1))\n",
      "      for i in xrange(d):\n",
      "        self.norm /= scipy.special.gamma(0.5*(n-i))\n",
      "    return self.norm\n",
      "\n",
      "  def prob(self, mat):\n",
      "    \"\"\"Returns the probability of the provided matrix, which must be the same shape as the scale matrix and also symmetric and positive definite.\"\"\"\n",
      "    d = self.scale.shape[0]\n",
      "    val  = math.pow(numpy.linalg.det(mat),0.5*(n-1-d))\n",
      "    val *= math.exp(-0.5 * numpy.linalg.trace(numpy.dot(mat,self.getInvScale())))\n",
      "    return self.getNorm() * val\n",
      "\n",
      "\n",
      "  def sample(self):\n",
      "    \"\"\"Returns a draw from the distribution - will be a symmetric positive definite matrix.\"\"\"\n",
      "    if self.cholesky==None:\n",
      "      self.cholesky = numpy.linalg.cholesky(self.scale)\n",
      "    d = self.scale.shape[0]\n",
      "    a = numpy.zeros((d,d),dtype=numpy.float32)\n",
      "    for r in xrange(d):\n",
      "      if r!=0: a[r,:r] = numpy.random.normal(size=(r,))\n",
      "      a[r,r] = math.sqrt(random.gammavariate(0.5*(self.dof-d+1),2.0))\n",
      "    return numpy.dot(numpy.dot(numpy.dot(self.cholesky,a),a.T),self.cholesky.T)\n",
      "\n",
      "\n",
      "  def __str__(self):\n",
      "    return '{dof:%f, scale:%s}'%(self.dof, str(self.scale))"
     ],
     "language": "python",
     "metadata": {},
     "outputs": [],
     "prompt_number": 50
    },
    {
     "cell_type": "code",
     "collapsed": false,
     "input": [
      "import pymc as pm\n",
      "\n",
      "#Lambda = Wishart(D, 1e-5*np.identity(D), plates=(K,), name='Lambda')\n",
      "mu = np.random.multivariate_normal(np.zeros(D), 1e-5*np.identity(D), 4)\n",
      "L1 = Wishart(4)\n",
      "Lambda = L1.sample\n",
      "print Lambda\n",
      "#Lambda = pm.Wishart(\"cov_matrix_inv\", 200 ,np.linalg.inv(cov_matrix))\n",
      "\n",
      "#print mu\n",
      "#mu = pm.Normal('mu', np.zeros(D), 1e-5*np.identity(D), size=4)\n",
      "#centers = pm.Normal('centers', [0.3, 0.7], [1/(0.1)**2, 1/(0.1)**2], size=2)\n",
      "\n",
      "\n",
      "#print 1e-5*np.identity(D)\n",
      "\n",
      "#observations = pm.Normal('samples_model', mu=mu, tau=tau, value=samples, observed=True)\n",
      "#model = pm.Model([obs, mu, Lambda, Z, alpha])\n",
      "\n",
      "#mcmc = pm.MCMC(model)\n",
      "#mcmc.sample(100000, 30000)"
     ],
     "language": "python",
     "metadata": {},
     "outputs": [
      {
       "ename": "AttributeError",
       "evalue": "'function' object has no attribute 'value'",
       "output_type": "pyerr",
       "traceback": [
        "\u001b[0;31m---------------------------------------------------------------------------\u001b[0m\n\u001b[0;31mAttributeError\u001b[0m                            Traceback (most recent call last)",
        "\u001b[0;32m<ipython-input-57-04c2eaeeac79>\u001b[0m in \u001b[0;36m<module>\u001b[0;34m()\u001b[0m\n\u001b[1;32m      5\u001b[0m \u001b[0mL1\u001b[0m \u001b[0;34m=\u001b[0m \u001b[0mWishart\u001b[0m\u001b[0;34m(\u001b[0m\u001b[0;36m4\u001b[0m\u001b[0;34m)\u001b[0m\u001b[0;34m\u001b[0m\u001b[0m\n\u001b[1;32m      6\u001b[0m \u001b[0mLambda\u001b[0m \u001b[0;34m=\u001b[0m \u001b[0mL1\u001b[0m\u001b[0;34m.\u001b[0m\u001b[0msample\u001b[0m\u001b[0;34m\u001b[0m\u001b[0m\n\u001b[0;32m----> 7\u001b[0;31m \u001b[0;32mprint\u001b[0m \u001b[0mLambda\u001b[0m\u001b[0;34m.\u001b[0m\u001b[0mvalue\u001b[0m\u001b[0;34m(\u001b[0m\u001b[0;34m)\u001b[0m\u001b[0;34m\u001b[0m\u001b[0m\n\u001b[0m\u001b[1;32m      8\u001b[0m \u001b[0;31m#Lambda = pm.Wishart(\"cov_matrix_inv\", 200 ,np.linalg.inv(cov_matrix))\u001b[0m\u001b[0;34m\u001b[0m\u001b[0;34m\u001b[0m\u001b[0m\n\u001b[1;32m      9\u001b[0m \u001b[0;34m\u001b[0m\u001b[0m\n",
        "\u001b[0;31mAttributeError\u001b[0m: 'function' object has no attribute 'value'"
       ]
      }
     ],
     "prompt_number": 57
    },
    {
     "cell_type": "markdown",
     "metadata": {},
     "source": [
      "## Stochastic variational inference ##"
     ]
    },
    {
     "cell_type": "code",
     "collapsed": false,
     "input": [],
     "language": "python",
     "metadata": {},
     "outputs": []
    }
   ],
   "metadata": {}
  }
 ]
}