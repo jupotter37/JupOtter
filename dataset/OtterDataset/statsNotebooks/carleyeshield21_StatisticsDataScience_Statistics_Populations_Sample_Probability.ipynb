{
 "cells": [
  {
   "cell_type": "markdown",
   "id": "e293a759-e16d-4dca-a74c-06f2ac511293",
   "metadata": {},
   "source": [
    "##### Progress Check * 8.8 Among 100 couples who had undergone marital counseling, 60 couples described their relationships as improved, and among this latter group, 45 couples had children. The remaining couples described their relationships as unimproved, and among this group, 5 couples had children. (Hint: Using a frequency analysis, begin with the 100 couples, first branch into the number of couples with improved and unimproved relationships, then under each of these numbers, branch into the number of couples with children and without children. Enter a number at each point of the diagram before proceeding.)\n",
    "\n",
    "(a) What is the probability of randomly selecting a couple who described their relationship as improved?\n",
    "\n",
    "answer: 60/100\n",
    "\n",
    "(b) What is the probability of randomly selecting a couple with children?\n",
    "\n",
    "answer: (45+5)/100\n",
    "\n",
    "(c) What is the conditional probability of randomly selecting a couple with children, given that their relationship was described as improved?\n",
    "\n",
    "answer: 45/60\n",
    "\n",
    "(d) What is the conditional probability of randomly selecting a couple without children, given that their relationship was described as not improved?\n",
    "\n",
    "answer: 35/40\n",
    "\n",
    "(e) What is the conditional probability of an improved relationship, given that a couple has children?\n",
    "\n",
    "answer: 45/(45+5)"
   ]
  },
  {
   "cell_type": "markdown",
   "id": "df49eb49-c6a1-4064-8f8b-4710d9eb3a8d",
   "metadata": {},
   "source": [
    "##### Progress Check * 8.9 Referring to the standard normal table (Table A, Appendix C), find the probability that a randomly selected z score will be\n",
    "\n",
    "(a) above 1.96\n",
    "\n",
    "answer: 0.0250\n",
    "\n",
    "(b) either above 1.96 or below –1.96\n",
    "\n",
    "answer: 0.0250 + 0.0250 = 0.0500\n",
    "\n",
    "(c) between –1.96 and 1.96\n",
    "\n",
    "answer: 0.4750 + 0.4750 = 0.9500\n",
    "\n",
    "(d) either above 2.58 or below –2.58\n",
    "\n",
    "answer: 0.0049 + 0.0049 = 0.0098"
   ]
  },
  {
   "cell_type": "markdown",
   "id": "15d43a3a-8be5-4c3c-86ab-15e7250c73c6",
   "metadata": {},
   "source": [
    "##### 8.14 The probability of a boy being born equals .50, or 1/2, as does the probability of a girl being born. For a randomly selected family with two children, what’s the probability of\n",
    "\n",
    "(a) two boys, that is, a boy and a boy? (Reminder: Before using either the addition or multiplication rule, satisfy yourself that the \n",
    "various events are either mutually exclusive or independent, respectively.)\n",
    "\n",
    "answer: 0.5 * 0.5 = 0.25\n",
    "\n",
    "(b) two girls?\n",
    "\n",
    "answer: 0.5 * 0.5 = 0.25\n",
    "\n",
    "(c) either two boys or two girls?\n",
    "\n",
    "answer: 0.25 + 0.25 = 0.5"
   ]
  },
  {
   "cell_type": "markdown",
   "id": "d676c2d7-c79e-43a2-bd1f-15abcb0d73fd",
   "metadata": {},
   "source": [
    "##### 8.15 Assume the same probabilities as in the previous question. For a randomly selected family with three children, what’s the probability of\n",
    "(a) three boys?\n",
    "\n",
    "answer: 0.5 * 0.5 * 0.5  = 0.125\n",
    "\n",
    "(b) three girls?\n",
    "\n",
    "answer: 0.5 * 0.5 * 0.5  = 0.125\n",
    "\n",
    "(c) either three boys or three girls?\n",
    "\n",
    "answer: 0.125 + 0.125 = 0.25\n",
    "\n",
    "(d) neither three boys nor three girls? (Hint: This question can be answered indirectly by first finding the opposite of the specified outcome, then subtracting from 1.)\n",
    "\n",
    "answer: 1 - 0.25 = 0.75"
   ]
  },
  {
   "cell_type": "markdown",
   "id": "9c426ec1-348c-4413-af62-2e4df1c86969",
   "metadata": {},
   "source": [
    "##### 8.16 A traditional test for extrasensory perception (ESP) involves a set of playing cards, each of which shows a different symbol (circle, square, cross, star, or wavy lines). If C represents a correct guess and I an incorrect guess, what is the probability of\n",
    "(a) C?\n",
    "\n",
    "answer: 1/5\n",
    "\n",
    "(b) CI (in that order) for two guesses?\n",
    "\n",
    "answer: 1/5 * 4/5\n",
    "\n",
    "(c) CCC for three guesses?\n",
    "\n",
    "answer: 1/5 * 1/5 * 1/5\n",
    "\n",
    "(d) III for three guesses?\n",
    "\n",
    "answer: 4/5 * 4/5 * 4/5"
   ]
  },
  {
   "cell_type": "markdown",
   "id": "b4f77faf-186d-473e-8859-28b9e5603c0b",
   "metadata": {},
   "source": [
    "##### 8.17 In a school population, assume that the probability of being white equals .40; black equals .30; Hispanic equals .20; and Asian-American equals .10. What is the probability of\n",
    "\n",
    "Pw = 0.40;  Pb = 0.30;  Pa = 0.10\n",
    "\n",
    "(a) a student being either white or black.\n",
    "\n",
    "answer: Pw + Pb = 0.40 + 0.30 = 0.70\n",
    "\n",
    "(b) a student being neither white nor black.\n",
    "\n",
    "answer: 1 - 0.7 = 0.30\n",
    "\n",
    "(c) pairs of black and white students being selected together, assuming ethnic background has no role.\n",
    "\n",
    "answer: 0.40 * 0.30 = 0.12\n",
    "\n",
    "(d) given that a black student has been selected, that his/her companion is white, assuming ethnic background has no role.\n",
    "\n",
    "answer: 0.40\n",
    "\n",
    "(e) given that a black student has been selected, that his/her companion is white,assuming students tend to congregate with companions with similar ethnic backgrounds. In this case, would the probability of the companion being white be lessthan .40, equal to .40, or more than .40?\n",
    "\n",
    "answer: less than 0.40"
   ]
  },
  {
   "cell_type": "markdown",
   "id": "677925a7-cd15-472f-861a-6eb6c28aed6d",
   "metadata": {},
   "source": [
    "##### 8.18 In Against All Odds, the TV series on statistics (available at http://www.learner.org/ resources/series65.html), statistician Bruce Hoadley discusses the catastrophic failure of the Challenger space shuttle in 1986. Hoadley estimates that there was a failure probability of .02 for each of the six O-rings (designed to prevent the escape of potentially explosive burning gases from the joints of the segmented rocket boosters).\n",
    "(a) What was the success probability of each O-ring?\n",
    "\n",
    "answer: 0.98\n",
    "\n",
    "(b) Given that the six O-rings function independently of each other, what was the probability that all six O-rings would succeed, that is, perform as designed? In other words, what was the success probability of the first O-ring and the second O-ring and the third O-ring, and so forth?\n",
    "\n",
    "answer: (0.98 * 0.98 * 0.98 * 0.98 * 0.98 * 0.98) = 0.8858\n",
    "\n",
    "(c) Given that you know the probability that all six O-rings would succeed (from the previous question), what was the probability that at least one O-ring would fail? (Hint: Use your answer to the previous question to solve this problem.) \n",
    "\n",
    "answer: 1 - 0.8858 = 0.1142\n",
    "\n",
    "(d) Given the abysmal failure rate revealed by your answer to the previous question, why, you might wonder, was this space mission even attempted? According to Hoadley, missile engineers thought that a secondary set of O-rings would function independently of the primary set of O-rings. If true and if the failure probability of each of the secondary O-rings was the same as that for each primary O-ring (.02), what would be the probability that both the primary and secondary O-rings would fail at any one joint? (Hint: Concentrate on the present question, ignoring your answers to previous questions.)\n",
    "\n",
    "answer: 0.02 * 0.02 = 0.0004\n",
    "\n",
    "(e) In fact, under conditions of low temperature, as on the morning of the Challenger catastrophe, both primary and secondary O-rings lost their flexibility, and whenever the primary O-ring failed, its associated secondary O-ring also failed. Under these conditions, what would be the conditional probability of a secondary O-ring failure, given the failure of its associated primary O-ring? (Note: Any probability, including a conditional probability, can vary between 0 and 1.)\n",
    "\n",
    "answer: 1"
   ]
  },
  {
   "cell_type": "markdown",
   "id": "84d7144d-dc14-4215-8be8-2b11182ce0c5",
   "metadata": {},
   "source": [
    "##### 8.19 A sensor is used to monitor the performance of a nuclear reactor. The sensor accurately reflects the state of the reactor with a probability of .97. But with a probability of .02, it gives a false alarm (by reporting excessive radiation even though the reactor is performing normally), and with a probability of .01, it misses excessive radiation (by failing to report excessive radiation even though the reactor is performing abnormally). Pr = 0.97; Pf = 0.02; Pr = 0.01\n",
    "(a) What is the probability that a sensor will give an incorrect report, that is, either a false alarm or a miss?\n",
    "\n",
    "answer: 0.02 + 0.01 = 0.03\n",
    "\n",
    "(b) To reduce costly shutdowns caused by false alarms, management introduces a second completely independent sensor, and the reactor is shut down only when both sensors report excessive radiation. (According to this perspective, solitary reports of excessive radiation should be viewed as false alarms and ignored, since both sensors provide accurate information much of the time.) What is the new probability that\n",
    "the reactor will be shut down because of simultaneous false alarms by both the first and second sensors?\n",
    "\n",
    "answer: 0.02 * 0.02 = 0.0004\n",
    "\n",
    "(c) Being more concerned about failures to detect excessive radiation, someone who lives near the nuclear reactor proposes an entirely different strategy: Shut down the reactor whenever either sensor reports excessive radiation. (According to this point of view, even a solitary report of excessive radiation should trigger a shutdown, since a failure to detect excessive radiation is potentially catastrophic.) If this policy were adopted, what is the new probability that excessive radiation will be missed simultaneously by both the first and second sensors?\n",
    "\n",
    "answer: 0.01 * 0.01 = 0.0001"
   ]
  },
  {
   "cell_type": "markdown",
   "id": "8c83e738-b3c7-4e3c-833c-34f9f14f1b2c",
   "metadata": {},
   "source": [
    "##### 8.20 Continue to assume that people are equally likely to be born during any of the months. However, just for the sake of this exercise, assume that there is a tendency for married couples to have been born during the same month. Furthermore, we wish to calculate the probability of a husband and wife both being born during December.\n",
    "\n",
    "(a) It would be appropriate to use the multiplication rule for independent outcomes. True or False?\n",
    "\n",
    "answer: False. The multiplication rule is not valid when events are dependent. The multiplication rule for independent events is used when the occurrence of one event does not affect the occurrence of the other. In this case, the assumption that married couples have a tendency to be born in the same month suggests a potential dependence between the events. Therefore, the events may not be independent, and the multiplication rule for independent events may not be appropriate.\n",
    "\n",
    "(b) The probability of a married couple both being born during December is smaller than, equal to, or larger than (1⁄12)(1⁄12)=1⁄144.\n",
    "\n",
    "answer: Larger than 1/144. The probability of a married couple both being born during December is larger than (1⁄12)(1⁄12) = 1⁄144. This is because the assumption of a tendency for married couples to be born in the same month increases the likelihood of both being born in December compared to the assumption of independence. The actual probability would depend on the strength of the tendency assumed.\n",
    "\n",
    "(c) With only the previous information, it would be possible to calculate the actual probability of a married couple both being born during December. True or False?\n",
    "\n",
    "answer: False. The value of the conditional probability is not known. Without information about the specific tendency or correlation between the birth months of married couples, it is not possible to calculate the actual probability of a married couple both being born during December. The assumption of a tendency for married couples to share the same birth month is too vague to provide a precise probability without more detailed information."
   ]
  },
  {
   "cell_type": "markdown",
   "id": "7af3b6f6-6995-45a8-9dc7-aa5e58fea939",
   "metadata": {},
   "source": [
    "##### 8.21 Assume that the probability of breast cancer equals .01 for women in the 50–59 age group. Furthermore, if a woman does have breast cancer, the probability of a true positive mammogram (correct detection of breast cancer) equals .80 and the probability of a false negative mammogram (a miss) equals .20. On the other hand, if a woman does not have breast cancer, the probability of a true negative mammogram (correct nondetection) equals .90 and the probability of a false positive mammogram (a false alarm) equals .10. (Hint: Use a frequency analysis to answer questions. To facilitate checking your answers with those in the book, begin with a total of 1,000 women, then branch into the number of women who do or do not have breast cancer, and finally, under each of these numbers, branch into the number of women with positive and negative mammograms.)\n",
    "\n",
    "(a) What is the probability that a randomly selected woman will have a positive mammogram?\n",
    "\n",
    "answer: (99 + 8)/1000 = 0.107\n",
    "\n",
    "(b) What is the probability of having breast cancer, given a positive mammogram?\n",
    "\n",
    "answer: (8/(8+99)) = 0.07476\n",
    "\n",
    "(c) What is the probability of not having breast cancer, given a negative mammogram?\n",
    "\n",
    "answer: 891/(891+2) = 0.9977"
   ]
  },
  {
   "cell_type": "code",
   "execution_count": 5,
   "id": "cc1515c3-d99a-441f-bbc6-a9ec67d38878",
   "metadata": {},
   "outputs": [
    {
     "data": {
      "image/png": "[encoded data removed]",
      "text/plain": [
       "<IPython.core.display.Image object>"
      ]
     },
     "execution_count": 5,
     "metadata": {},
     "output_type": "execute_result"
    }
   ],
   "source": [
    "from IPython.display import Image\n",
    "image_path1 = \"stat_infographic/solution_8_21_witte.png\"\n",
    "Image(filename=image_path1)"
   ]
  }
 ],
 "metadata": {
  "kernelspec": {
   "display_name": "Python 3 (ipykernel)",
   "language": "python",
   "name": "python3"
  },
  "language_info": {
   "codemirror_mode": {
    "name": "ipython",
    "version": 3
   },
   "file_extension": ".py",
   "mimetype": "text/x-python",
   "name": "python",
   "nbconvert_exporter": "python",
   "pygments_lexer": "ipython3",
   "version": "3.10.12"
  }
 },
 "nbformat": 4,
 "nbformat_minor": 5
}
