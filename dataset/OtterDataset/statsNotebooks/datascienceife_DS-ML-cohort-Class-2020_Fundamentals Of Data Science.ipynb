{
 "cells": [
  {
   "cell_type": "markdown",
   "metadata": {},
   "source": [
    "Hi, my name is Bunmi and I'll be taking you lessons on Fundamentals of Data Science. In this notebook, I'll be using python.\n",
    "\n",
    "This Tutorial Session is going to cover the following points\n",
    "\n",
    "  1. What Is Data All About?\n",
    "\n",
    "\n",
    "  2. How Statistics Is Related To Data Science ?\n",
    "\n",
    "\n",
    "  3. Why Is Statistics Important For Data Science ?\n",
    "\n",
    "\n",
    "  4. How is data gathered, stored and processed ?\n",
    "  \n",
    "  \n",
    "  5. Introduction to Pandas and Numpy\n",
    "  \n",
    "  \n",
    "  6. Statistical Analysis of Data using Numpy and Pandas\n",
    "\n",
    "\n",
    "  5. Exercises\n",
    "  \n",
    "I am going to take this class assumming that you already know python and can write a few lines of python codes\n",
    "\n",
    "\n",
    "So, lets start with the definitions ;\n",
    "\n",
    "1. What is Data All About ?\n",
    "\n",
    "      Data Science according to Wikipedia is defined as a multi-disciplinary field that uses scientific methods, processes, algorithms and systems to extract knowledge and insights from structured and unstructured data.\n",
    "         \n",
    "      Data Science is alsothe extraction of knowledge from data, using ideas from mathematics, statistics, machine learning, computer programming, data engineering, etc\n",
    "      \n",
    "      I define Data Science asthe process by which raw data undergoes cleaning, analysis, restructuring and other manipulations which requires understanding of the data given to be able to make correct predictions on the data.\n",
    "\n",
    "2. What is Statistics ?\n",
    "\n",
    "      Statistics is mainly the study of the collection, analysis, interpretation, presentation, and organization of data.\n",
    "      \n",
    "3. How Is Statistics Related To Data Science ?\n",
    "\n",
    "      Data science combines multidisciplinary fields to interpret data for decision making whereas statistics refers to mathematical analysis which use quantified models to represent a given set of data.\n",
    "      \n",
    "      Statistics provides the methodology to collect , analyse and make conclusions from data. It is very useful for data analysis.\n",
    "      \n",
    "4. Why then is Statistics important to Data Science ?\n",
    " \n",
    "      Statistics allows us to represent variability in the data as well as a prior knowledge of parameters, the concept underlying Bayesian statistics .\n",
    "      \n",
    "      Statistical distributions also enable us to choose adequate subsequent analytic models and methods.\n",
    "   \n",
    "5. How Is Data Gathered And Stored ?\n",
    "    \n",
    "    \n",
    "    \n",
    "      \n",
    "Now that I have answered these questions, time for the main business !\n",
    "\n",
    "In python, there are a lots of libaries used for statistics , I'll name a few\n",
    "\n",
    "1. Numpy\n",
    "\n",
    "2. Pandas\n",
    "\n",
    "3. Matplotlib\n",
    "\n",
    "4. Scipy\n",
    "\n",
    "5. Scikit-Learn\n",
    "\n",
    "6. TensorFlow\n",
    "\n",
    "7. Keras, and so on\n",
    "\n",
    "I'll talk about the first four.\n",
    "\n",
    "1. Numpy :\n",
    "\n",
    "    NumPy, short for Numerical Python, is the foundational package for scientific computing in Python is a fundamental Python libary meant for scientific computing. It comes with a powerful N-dimensional array object and broadcating functions. \n",
    "    \n",
    "    One of its primary purposes with regards to data analysis is as the primary container for data to be passed between algorithms. What do I mean ?\n",
    "    \n",
    "    For numerical data, NumPy arrays are a much more efficient way of storing and manipulating data than the other built-in Python data structures. \n",
    "    \n",
    "2. Pandas\n",
    "\n",
    "    Pandas provides rich data structures and functions designed to make working with structured data fast, easy, and expressive.\n",
    "    \n",
    "    It is, as you will see, one of the critical ingredients enabling Python to be a powerful and productive data analysis environment. \n",
    "    \n",
    "    It aims to serve as the fudamental high-level building block for carrying out real-world data analysis using python. \n",
    "    \n",
    "    One of its most powerful features is to translate complex data Operations using mere one or two commands, it also features time sereies functionality.\n",
    "    \n",
    "3. Matplotlib :\n",
    "    Matplotlib is a two-dimensional plotting libary for  Python . It is capable of producing high-quality figures in different hardcopy formats and interactive cross-platform. It is usually used in Python shell, Python scripts, Ipython shell, Jupyter Notebook, GUI toolkits.\n",
    "    \n",
    "4. Scipy :\n",
    "    SciPy is a collection of packages addressing a number of different standard problem domains in scientific computing. It comes with alot of modules for integration, linear algebra, optimization and statistics. Numppy arrays are basic structures used by SciPy.  Here is a sampling of the packages included:\n",
    "    \n",
    "    • scipy.integrate: numerical integration routines and differential equation solvers \n",
    "    \n",
    "    • scipy.linalg: linear algebra routines and matrix decompositions extending beyond those provided in numpy.linalg.\n",
    "    \n",
    "    • scipy.optimize: function optimizers (minimizers) and root finding algorithms\n",
    "    \n",
    "    • scipy.signal: signal processing tools \n",
    "    \n",
    "    • scipy.sparse: sparse matrices and sparse linear system solvers\n",
    "    \n",
    "    • scipy.stats: standard continuous and discrete probability distributions (density functions, samplers, continuous distribution functions), various statistical tests, and more descriptive statistics\n",
    "    \n",
    "    \n",
    "      But, for the purpose of this class, I'll limit us to just Numpy and Pandas\n",
    "      \n",
    "      I'll recommend that you have Anaconda installed on your system and working.\n",
    "      \n",
    "So, lets start with Numpy !"
   ]
  },
  {
   "cell_type": "code",
   "execution_count": 1,
   "metadata": {},
   "outputs": [
    {
     "name": "stdout",
     "output_type": "stream",
     "text": "1.16.4\n"
    }
   ],
   "source": [
    "# importing Numpy\n",
    "import numpy as np\n",
    "print(np.__version__)"
   ]
  },
  {
   "cell_type": "markdown",
   "metadata": {},
   "source": [
    "Lets begin with a few simple operations."
   ]
  },
  {
   "cell_type": "code",
   "execution_count": 2,
   "metadata": {},
   "outputs": [
    {
     "data": {
      "text/plain": "array([1, 2, 3, 4, 5, 6])"
     },
     "execution_count": 2,
     "metadata": {},
     "output_type": "execute_result"
    }
   ],
   "source": [
    "# Lets create a numpy array first\n",
    "# Creating an array from a list of numbers\n",
    "np_array = np.array([1, 2, 3, 4, 5, 6])\n",
    "np_array"
   ]
  },
  {
   "cell_type": "code",
   "execution_count": 3,
   "metadata": {},
   "outputs": [
    {
     "data": {
      "text/plain": "array([[1, 2, 3],\n       [4, 5, 6]])"
     },
     "execution_count": 3,
     "metadata": {},
     "output_type": "execute_result"
    }
   ],
   "source": [
    "# Creating an array from two lists of numbers\n",
    "np_array_2 = np.array([[1, 2, 3], [4, 5, 6]])\n",
    "np_array_2\n",
    "# This is also known as a 2-dimensional array"
   ]
  },
  {
   "cell_type": "code",
   "execution_count": 4,
   "metadata": {},
   "outputs": [
    {
     "data": {
      "text/plain": "array([[1, 2, 3],\n       [2, 3, 4],\n       [4, 5, 6]])"
     },
     "execution_count": 4,
     "metadata": {},
     "output_type": "execute_result"
    }
   ],
   "source": [
    "# Creating an array from three list of numbers\n",
    "np_array_3 = np.array([[1, 2, 3], [2, 3, 4], [4, 5, 6]])\n",
    "np_array_3\n",
    "# This is also known as a three dimensional data"
   ]
  },
  {
   "cell_type": "code",
   "execution_count": 5,
   "metadata": {},
   "outputs": [
    {
     "name": "stdout",
     "output_type": "stream",
     "text": "The mean of 1-d array is : 3.5\nThe mean of 2-d array is : 3.5\nThe mean of 3-d array is : 3.3333333333333335\n"
    }
   ],
   "source": [
    "# Lets calculatethe mean \n",
    "print('The mean of 1-d array is :',np.mean(np_array))\n",
    "print('The mean of 2-d array is :',np.mean(np_array_2))\n",
    "print('The mean of 3-d array is :',np.mean(np_array_3))"
   ]
  },
  {
   "cell_type": "code",
   "execution_count": 6,
   "metadata": {},
   "outputs": [
    {
     "name": "stdout",
     "output_type": "stream",
     "text": "The median of 1-d array is : 3.5\nThe median of 2-d array is : 3.5\nThe median of 3-d array is : 3.0\n"
    }
   ],
   "source": [
    "# the median\n",
    "print('The median of 1-d array is :',np.median(np_array))\n",
    "print('The median of 2-d array is :',np.median(np_array_2))\n",
    "print('The median of 3-d array is :',np.median(np_array_3))"
   ]
  },
  {
   "cell_type": "code",
   "execution_count": 7,
   "metadata": {},
   "outputs": [
    {
     "name": "stdout",
     "output_type": "stream",
     "text": "The standard deviation of 1-d array is : 1.707825127659933\nThe standard deviation of 2-d array is : 1.707825127659933\nThe standard deviation of 3-d array is : 1.4907119849998598\n"
    }
   ],
   "source": [
    "# You cant calculate the mode ofan array using np.mode, we will treat this later in pandas\n",
    "# the standard deviation\n",
    "print('The standard deviation of 1-d array is :',np.std(np_array))\n",
    "print('The standard deviation of 2-d array is :',np.std(np_array_2))\n",
    "print('The standard deviation of 3-d array is :',np.std(np_array_3))"
   ]
  },
  {
   "cell_type": "code",
   "execution_count": 8,
   "metadata": {},
   "outputs": [
    {
     "data": {
      "text/plain": "array([0, 1, 2, 3, 4])"
     },
     "execution_count": 8,
     "metadata": {},
     "output_type": "execute_result"
    }
   ],
   "source": [
    "# You can also create a numpy array using a built in function known as np.arange\n",
    "# arange is an array-valued version of the built-in Python range function:\n",
    "# i.e , it returns an array instead of a list\n",
    "np.arange(5)"
   ]
  },
  {
   "cell_type": "code",
   "execution_count": 9,
   "metadata": {},
   "outputs": [
    {
     "data": {
      "text/plain": "array([ 0,  1,  2,  3,  4,  5,  6,  7,  8,  9, 10, 11, 12, 13, 14])"
     },
     "execution_count": 9,
     "metadata": {},
     "output_type": "execute_result"
    }
   ],
   "source": [
    "np.arange(15)"
   ]
  },
  {
   "cell_type": "code",
   "execution_count": 10,
   "metadata": {},
   "outputs": [
    {
     "data": {
      "text/plain": "(15,)"
     },
     "execution_count": 10,
     "metadata": {},
     "output_type": "execute_result"
    }
   ],
   "source": [
    "# To check the shape of an array\n",
    "np.arange(15).shape"
   ]
  },
  {
   "cell_type": "code",
   "execution_count": 11,
   "metadata": {},
   "outputs": [
    {
     "data": {
      "text/plain": "array([[ 0.,  1.,  2.,  3.,  4.],\n       [ 5.,  6.,  7.,  8.,  9.],\n       [10., 11., 12., 13., 14.]])"
     },
     "execution_count": 11,
     "metadata": {},
     "output_type": "execute_result"
    }
   ],
   "source": [
    "# Here, we created an array and decide to reshape it from (15, 1) to a (5, 3) array\n",
    "np.arange(15.).reshape((3, 5))"
   ]
  },
  {
   "cell_type": "code",
   "execution_count": 12,
   "metadata": {},
   "outputs": [
    {
     "data": {
      "text/plain": "(3, 5)"
     },
     "execution_count": 12,
     "metadata": {},
     "output_type": "execute_result"
    }
   ],
   "source": [
    "np.arange(15.).reshape((3, 5)).shape"
   ]
  },
  {
   "cell_type": "code",
   "execution_count": 13,
   "metadata": {},
   "outputs": [
    {
     "data": {
      "text/plain": "dtype('float64')"
     },
     "execution_count": 13,
     "metadata": {},
     "output_type": "execute_result"
    }
   ],
   "source": [
    "# you can also find the datatype of an array by using the .dtype function\n",
    "np.arange(15.).dtype"
   ]
  },
  {
   "cell_type": "code",
   "execution_count": 14,
   "metadata": {},
   "outputs": [
    {
     "data": {
      "text/plain": "array([ 0,  1,  2,  3,  4,  5,  6,  7,  8,  9, 10, 11, 12, 13, 14],\n      dtype=int64)"
     },
     "execution_count": 14,
     "metadata": {},
     "output_type": "execute_result"
    }
   ],
   "source": [
    "# you can also convert an array from one datatype to the other using .astype function\n",
    "np.arange(15.).astype(np.int64)# 64 bit integer"
   ]
  },
  {
   "cell_type": "markdown",
   "execution_count": null,
   "metadata": {},
   "outputs": [],
   "source": [
    "<h3>\n",
    "    \n",
    "   Here is a simple classwork :\n",
    "    \n",
    "   1. Create a multidimensional array for a range of 50 numbers\n",
    "    \n",
    "    \n",
    "   2. using the same array, give various transformations the array can undergo\n",
    "    \n",
    "    \n",
    "   3. Find the mean, median and standard deviation of the array\n",
    "   \n",
    "   \n",
    "   4. Create a dataframe for five of your friends in a range of 50"
   ]
  },
  {
   "cell_type": "code",
   "execution_count": 15,
   "metadata": {},
   "outputs": [
    {
     "data": {
      "text/plain": "array([[ 0,  1,  2,  3,  4],\n       [ 5,  6,  7,  8,  9],\n       [10, 11, 12, 13, 14],\n       [15, 16, 17, 18, 19]])"
     },
     "execution_count": 15,
     "metadata": {},
     "output_type": "execute_result"
    }
   ],
   "source": [
    "s3 = np.arange(20).reshape((4, 5))\n",
    "s3"
   ]
  },
  {
   "cell_type": "code",
   "execution_count": 16,
   "metadata": {},
   "outputs": [
    {
     "data": {
      "text/plain": "array([5, 6, 7, 8, 9])"
     },
     "execution_count": 16,
     "metadata": {},
     "output_type": "execute_result"
    }
   ],
   "source": [
    "# We can also perform various selections such as selecting the second row in the array\n",
    "s3[1]"
   ]
  },
  {
   "cell_type": "code",
   "execution_count": 17,
   "metadata": {},
   "outputs": [
    {
     "data": {
      "text/plain": "array([[ 5,  6,  7,  8,  9],\n       [10, 11, 12, 13, 14],\n       [15, 16, 17, 18, 19]])"
     },
     "execution_count": 17,
     "metadata": {},
     "output_type": "execute_result"
    }
   ],
   "source": [
    "s3[1:5]"
   ]
  },
  {
   "cell_type": "code",
   "execution_count": 18,
   "metadata": {},
   "outputs": [
    {
     "data": {
      "text/plain": "array([[-5, -5, -5, -5, -5],\n       [ 0,  0,  0,  0,  0],\n       [ 5,  5,  5,  5,  5],\n       [10, 10, 10, 10, 10]])"
     },
     "execution_count": 18,
     "metadata": {},
     "output_type": "execute_result"
    }
   ],
   "source": [
    "# subtracting the first row from the original array\n",
    "s3 - s3[1]"
   ]
  },
  {
   "cell_type": "code",
   "execution_count": 19,
   "metadata": {},
   "outputs": [
    {
     "data": {
      "text/plain": "array([-5, -4, -3, -2, -1])"
     },
     "execution_count": 19,
     "metadata": {},
     "output_type": "execute_result"
    }
   ],
   "source": [
    "s3[1]-10"
   ]
  },
  {
   "cell_type": "code",
   "execution_count": 20,
   "metadata": {},
   "outputs": [
    {
     "data": {
      "text/plain": "2"
     },
     "execution_count": 20,
     "metadata": {},
     "output_type": "execute_result"
    }
   ],
   "source": [
    "s3[0][2]\n",
    "# gives the value in the first row, third column"
   ]
  },
  {
   "cell_type": "code",
   "execution_count": 21,
   "metadata": {},
   "outputs": [
    {
     "data": {
      "text/plain": "9"
     },
     "execution_count": 21,
     "metadata": {},
     "output_type": "execute_result"
    }
   ],
   "source": [
    "s3[1][4]"
   ]
  },
  {
   "cell_type": "code",
   "execution_count": 22,
   "metadata": {},
   "outputs": [
    {
     "data": {
      "text/plain": "array([[0.        , 1.        , 1.41421356, 1.73205081, 2.        ],\n       [2.23606798, 2.44948974, 2.64575131, 2.82842712, 3.        ],\n       [3.16227766, 3.31662479, 3.46410162, 3.60555128, 3.74165739],\n       [3.87298335, 4.        , 4.12310563, 4.24264069, 4.35889894]])"
     },
     "execution_count": 22,
     "metadata": {},
     "output_type": "execute_result"
    }
   ],
   "source": [
    "# Square root of an array\n",
    "np.sqrt(s3)"
   ]
  },
  {
   "cell_type": "code",
   "execution_count": 23,
   "metadata": {},
   "outputs": [
    {
     "data": {
      "text/plain": "array([[1.00000000e+00, 2.71828183e+00, 7.38905610e+00, 2.00855369e+01,\n        5.45981500e+01],\n       [1.48413159e+02, 4.03428793e+02, 1.09663316e+03, 2.98095799e+03,\n        8.10308393e+03],\n       [2.20264658e+04, 5.98741417e+04, 1.62754791e+05, 4.42413392e+05,\n        1.20260428e+06],\n       [3.26901737e+06, 8.88611052e+06, 2.41549528e+07, 6.56599691e+07,\n        1.78482301e+08]])"
     },
     "execution_count": 23,
     "metadata": {},
     "output_type": "execute_result"
    }
   ],
   "source": [
    "# the exponential of an array\n",
    "np.exp(s3)"
   ]
  },
  {
   "cell_type": "code",
   "execution_count": 24,
   "metadata": {},
   "outputs": [
    {
     "data": {
      "text/plain": "array([[  0,  -1,  -2,  -3,  -4],\n       [ -5,  -6,  -7,  -8,  -9],\n       [-10, -11, -12, -13, -14],\n       [-15, -16, -17, -18, -19]])"
     },
     "execution_count": 24,
     "metadata": {},
     "output_type": "execute_result"
    }
   ],
   "source": [
    "-s3"
   ]
  },
  {
   "cell_type": "code",
   "execution_count": 25,
   "metadata": {},
   "outputs": [
    {
     "data": {
      "text/plain": "array([[ 0,  1,  2,  3,  4],\n       [ 5,  6,  7,  8,  9],\n       [10, 11, 12, 13, 14],\n       [15, 16, 17, 18, 19]])"
     },
     "execution_count": 25,
     "metadata": {},
     "output_type": "execute_result"
    }
   ],
   "source": [
    "# to convert a negative array to a +ve one use .abs\n",
    "np.abs(-s3)"
   ]
  },
  {
   "cell_type": "code",
   "execution_count": 26,
   "metadata": {},
   "outputs": [
    {
     "data": {
      "text/plain": "array([[ 0,  1,  2,  3,  4],\n       [ 5,  6,  7,  8,  9],\n       [10, 11, 12, 13, 14],\n       [15, 16, 17, 18, 19]])"
     },
     "execution_count": 26,
     "metadata": {},
     "output_type": "execute_result"
    }
   ],
   "source": [
    "# we can arrange the values in an array in descending order\n",
    "s3.sort()\n",
    "s3"
   ]
  },
  {
   "cell_type": "markdown",
   "metadata": {},
   "source": [
    "Now, moving on to Pandas\n",
    "\n",
    "In pandas, we can either have a Series a Dataframe, or a Panel\n",
    "\n",
    "What is a Series ?\n",
    "A Series is a one-dimensional array-like object containing an array of data (of any NumPy data type) and an associated array of data labels, called its index. The simplest Series is formed from only an array of data. Series is a 1D labeled homogeneously-typed array\n",
    "\n",
    "What is a DataFrame ?\n",
    "A DataFrame represents a tabular, spreadsheet-like data structure containing an ordered collection of columns, each of which can be a different value type (numeric, string, boolean, etc.). The DataFrame has both a row and column index; it can be thought of as a dict of Series (one for all sharing the same index). DataFrame is a general 2D labeled, size-mutable tabular structure with potentially heterogeneously-typed columns\n",
    "\n",
    "What is a Panel ?\n",
    "\n",
    " The term panel data is derived from econometrics and is partially responsible for the name pandas: pan(el)-da(ta)-s. The names for the 3 axes are intended to give some semantic meaning to describing operations involving panel data and, in particular, econometric analysis of panel data. However, for the strict purposes of slicing and dicing a collection of DataFrame objects, you may ﬁnd the axis names slightly arbitrary: \n",
    " \n",
    " • items: axis 0, each item corresponds to a DataFrame contained inside\n",
    " • major_axis: axis 1, it is the index(rows) of each of the DataFrames \n",
    " • minor_axis: axis 2, it is the columns of each of the DataFrames \n",
    " \n",
    "Panel General 3D labeled, also size-mutable array\n",
    "\n",
    "Lets start with Series"
   ]
  },
  {
   "cell_type": "code",
   "execution_count": 27,
   "metadata": {},
   "outputs": [
    {
     "data": {
      "text/plain": "a    1\nb    2\nc    3\nd    4\ne    5\ndtype: int64"
     },
     "execution_count": 27,
     "metadata": {},
     "output_type": "execute_result"
    }
   ],
   "source": [
    "# importing pandas\n",
    "import pandas as pd\n",
    "ser = pd.Series([1, 2, 3, 4, 5], index=['a', 'b', 'c', 'd', 'e'])\n",
    "ser"
   ]
  },
  {
   "cell_type": "code",
   "execution_count": 28,
   "metadata": {},
   "outputs": [
    {
     "data": {
      "text/plain": "array([1, 2, 3, 4, 5], dtype=int64)"
     },
     "execution_count": 28,
     "metadata": {},
     "output_type": "execute_result"
    }
   ],
   "source": [
    "ser.values"
   ]
  },
  {
   "cell_type": "code",
   "execution_count": 29,
   "metadata": {},
   "outputs": [
    {
     "data": {
      "text/plain": "Index(['a', 'b', 'c', 'd', 'e'], dtype='object')"
     },
     "execution_count": 29,
     "metadata": {},
     "output_type": "execute_result"
    }
   ],
   "source": [
    "ser.index"
   ]
  },
  {
   "cell_type": "code",
   "execution_count": 30,
   "metadata": {},
   "outputs": [
    {
     "data": {
      "text/plain": "12"
     },
     "execution_count": 30,
     "metadata": {},
     "output_type": "execute_result"
    }
   ],
   "source": [
    "ser[2]*4"
   ]
  },
  {
   "cell_type": "code",
   "execution_count": 31,
   "metadata": {},
   "outputs": [],
   "source": [
    "s2 = pd.Series(np.arange(5))"
   ]
  },
  {
   "cell_type": "code",
   "execution_count": 32,
   "metadata": {},
   "outputs": [
    {
     "data": {
      "text/plain": "a   NaN\nb   NaN\nc   NaN\nd   NaN\ne   NaN\n0   NaN\n1   NaN\n2   NaN\n3   NaN\n4   NaN\ndtype: float64"
     },
     "execution_count": 32,
     "metadata": {},
     "output_type": "execute_result"
    }
   ],
   "source": [
    "ser + s2\n",
    "# This is because they dont have the same index"
   ]
  },
  {
   "cell_type": "code",
   "execution_count": 33,
   "metadata": {},
   "outputs": [
    {
     "data": {
      "text/plain": "a    0\nb    1\nc    2\nd    3\ne    4\nf    5\ng    6\ndtype: int32"
     },
     "execution_count": 33,
     "metadata": {},
     "output_type": "execute_result"
    }
   ],
   "source": [
    "s3 = pd.Series(np.arange(7), index=list('abcdefg'))\n",
    "s3"
   ]
  },
  {
   "cell_type": "code",
   "execution_count": 34,
   "metadata": {},
   "outputs": [
    {
     "data": {
      "text/plain": "a    1.0\nb    3.0\nc    5.0\nd    7.0\ne    9.0\nf    NaN\ng    NaN\ndtype: float64"
     },
     "execution_count": 34,
     "metadata": {},
     "output_type": "execute_result"
    }
   ],
   "source": [
    "ser + s3"
   ]
  },
  {
   "cell_type": "code",
   "execution_count": 35,
   "metadata": {},
   "outputs": [
    {
     "data": {
      "text/plain": "a    1.0\nb    1.0\nc    1.0\nd    1.0\ne    1.0\nf    NaN\ng    NaN\ndtype: float64"
     },
     "execution_count": 35,
     "metadata": {},
     "output_type": "execute_result"
    }
   ],
   "source": [
    "ser - s3"
   ]
  },
  {
   "cell_type": "code",
   "execution_count": 36,
   "metadata": {},
   "outputs": [
    {
     "data": {
      "text/plain": "a     0.0\nb     2.0\nc     6.0\nd    12.0\ne    20.0\nf     NaN\ng     NaN\ndtype: float64"
     },
     "execution_count": 36,
     "metadata": {},
     "output_type": "execute_result"
    }
   ],
   "source": [
    "ser * s3"
   ]
  },
  {
   "cell_type": "code",
   "execution_count": 37,
   "metadata": {},
   "outputs": [
    {
     "data": {
      "text/plain": "a         inf\nb    2.000000\nc    1.500000\nd    1.333333\ne    1.250000\nf         NaN\ng         NaN\ndtype: float64"
     },
     "execution_count": 37,
     "metadata": {},
     "output_type": "execute_result"
    }
   ],
   "source": [
    "ser / s3\n",
    "# 0 / 0 is infinite"
   ]
  },
  {
   "cell_type": "markdown",
   "metadata": {},
   "source": [
    "Moving on to dataframes"
   ]
  },
  {
   "cell_type": "code",
   "execution_count": 38,
   "metadata": {},
   "outputs": [],
   "source": [
    "#We can create a dataframe from a dictionary\n",
    "dict1 = {'one' : pd.Series([1., 2., 3., 7], index=['a', 'b', 'c', 'd']), 'two' : pd.Series([1., 2., 3., 4.], index=['a', 'b', 'c', 'd'])} "
   ]
  },
  {
   "cell_type": "code",
   "execution_count": 39,
   "metadata": {},
   "outputs": [
    {
     "data": {
      "text/html": "<div>\n<style scoped>\n    .dataframe tbody tr th:only-of-type {\n        vertical-align: middle;\n    }\n\n    .dataframe tbody tr th {\n        vertical-align: top;\n    }\n\n    .dataframe thead th {\n        text-align: right;\n    }\n</style>\n<table border=\"1\" class=\"dataframe\">\n  <thead>\n    <tr style=\"text-align: right;\">\n      <th></th>\n      <th>one</th>\n      <th>two</th>\n    </tr>\n  </thead>\n  <tbody>\n    <tr>\n      <th>a</th>\n      <td>1.0</td>\n      <td>1.0</td>\n    </tr>\n    <tr>\n      <th>b</th>\n      <td>2.0</td>\n      <td>2.0</td>\n    </tr>\n    <tr>\n      <th>c</th>\n      <td>3.0</td>\n      <td>3.0</td>\n    </tr>\n    <tr>\n      <th>d</th>\n      <td>7.0</td>\n      <td>4.0</td>\n    </tr>\n  </tbody>\n</table>\n</div>",
      "text/plain": "   one  two\na  1.0  1.0\nb  2.0  2.0\nc  3.0  3.0\nd  7.0  4.0"
     },
     "execution_count": 39,
     "metadata": {},
     "output_type": "execute_result"
    }
   ],
   "source": [
    "df = pd.DataFrame(dict1)\n",
    "df"
   ]
  },
  {
   "cell_type": "code",
   "execution_count": 40,
   "metadata": {},
   "outputs": [
    {
     "data": {
      "text/html": "<div>\n<style scoped>\n    .dataframe tbody tr th:only-of-type {\n        vertical-align: middle;\n    }\n\n    .dataframe tbody tr th {\n        vertical-align: top;\n    }\n\n    .dataframe thead th {\n        text-align: right;\n    }\n</style>\n<table border=\"1\" class=\"dataframe\">\n  <thead>\n    <tr style=\"text-align: right;\">\n      <th></th>\n      <th>one</th>\n      <th>two</th>\n    </tr>\n  </thead>\n  <tbody>\n    <tr>\n      <th>d</th>\n      <td>7.0</td>\n      <td>4.0</td>\n    </tr>\n    <tr>\n      <th>b</th>\n      <td>2.0</td>\n      <td>2.0</td>\n    </tr>\n    <tr>\n      <th>a</th>\n      <td>1.0</td>\n      <td>1.0</td>\n    </tr>\n  </tbody>\n</table>\n</div>",
      "text/plain": "   one  two\nd  7.0  4.0\nb  2.0  2.0\na  1.0  1.0"
     },
     "execution_count": 40,
     "metadata": {},
     "output_type": "execute_result"
    }
   ],
   "source": [
    "pd.DataFrame(dict1, index=['d', 'b', 'a']) "
   ]
  },
  {
   "cell_type": "code",
   "execution_count": 41,
   "metadata": {},
   "outputs": [],
   "source": [
    "# from ndarrays or lists\n",
    "# The ndarrays must all be the same length. If an index is passed, it must clearly also be the same length as the arrays. \n",
    "# If no index is passed, the result will be range(n), where n is the array length.\n",
    "dict2 = {'first':np.arange(10), 'secnd':np.arange(10, 20)}"
   ]
  },
  {
   "cell_type": "code",
   "execution_count": 42,
   "metadata": {},
   "outputs": [
    {
     "data": {
      "text/html": "<div>\n<style scoped>\n    .dataframe tbody tr th:only-of-type {\n        vertical-align: middle;\n    }\n\n    .dataframe tbody tr th {\n        vertical-align: top;\n    }\n\n    .dataframe thead th {\n        text-align: right;\n    }\n</style>\n<table border=\"1\" class=\"dataframe\">\n  <thead>\n    <tr style=\"text-align: right;\">\n      <th></th>\n      <th>first</th>\n      <th>secnd</th>\n    </tr>\n  </thead>\n  <tbody>\n    <tr>\n      <th>0</th>\n      <td>0</td>\n      <td>10</td>\n    </tr>\n    <tr>\n      <th>1</th>\n      <td>1</td>\n      <td>11</td>\n    </tr>\n    <tr>\n      <th>2</th>\n      <td>2</td>\n      <td>12</td>\n    </tr>\n    <tr>\n      <th>3</th>\n      <td>3</td>\n      <td>13</td>\n    </tr>\n    <tr>\n      <th>4</th>\n      <td>4</td>\n      <td>14</td>\n    </tr>\n    <tr>\n      <th>5</th>\n      <td>5</td>\n      <td>15</td>\n    </tr>\n    <tr>\n      <th>6</th>\n      <td>6</td>\n      <td>16</td>\n    </tr>\n    <tr>\n      <th>7</th>\n      <td>7</td>\n      <td>17</td>\n    </tr>\n    <tr>\n      <th>8</th>\n      <td>8</td>\n      <td>18</td>\n    </tr>\n    <tr>\n      <th>9</th>\n      <td>9</td>\n      <td>19</td>\n    </tr>\n  </tbody>\n</table>\n</div>",
      "text/plain": "   first  secnd\n0      0     10\n1      1     11\n2      2     12\n3      3     13\n4      4     14\n5      5     15\n6      6     16\n7      7     17\n8      8     18\n9      9     19"
     },
     "execution_count": 42,
     "metadata": {},
     "output_type": "execute_result"
    }
   ],
   "source": [
    "pd.DataFrame(dict2)"
   ]
  },
  {
   "cell_type": "markdown",
   "metadata": {},
   "source": [
    "<h3 > Lets move to Selection and Slicing methods </h3>\n",
    "\n",
    "<b> There are various methods for selection and slicing which include:\n",
    "    \n",
    "   1. .iloc method, which is positional oriented\n",
    "   \n",
    "   \n",
    "   2. .loc method, which is label oriented\n",
    "   \n",
    "   \n",
    "   3. the general method , .ix which can behave as the .iloc or .loc fuction, depending on the type of arguments passed into it"
   ]
  },
  {
   "cell_type": "code",
   "execution_count": 43,
   "metadata": {},
   "outputs": [],
   "source": [
    "# create a dataframe and a copy\n",
    "import pandas as pd\n",
    "df = pd.DataFrame({'A': [1, 2, 2, 2, 1, 2],\n",
    "                   'B': [1, 2, 3, 4, 2, 4],\n",
    "                   'C': [3, 4, 6, 6, 5, 1],\n",
    "                   }, index=['a', 'b', 'c', 'd', 'e', 'f'])\n",
    "df2 = df.copy()"
   ]
  },
  {
   "cell_type": "code",
   "execution_count": 44,
   "metadata": {},
   "outputs": [
    {
     "data": {
      "text/html": "<div>\n<style scoped>\n    .dataframe tbody tr th:only-of-type {\n        vertical-align: middle;\n    }\n\n    .dataframe tbody tr th {\n        vertical-align: top;\n    }\n\n    .dataframe thead th {\n        text-align: right;\n    }\n</style>\n<table border=\"1\" class=\"dataframe\">\n  <thead>\n    <tr style=\"text-align: right;\">\n      <th></th>\n      <th>A</th>\n      <th>B</th>\n      <th>C</th>\n    </tr>\n  </thead>\n  <tbody>\n    <tr>\n      <th>a</th>\n      <td>1</td>\n      <td>1</td>\n      <td>3</td>\n    </tr>\n    <tr>\n      <th>b</th>\n      <td>2</td>\n      <td>2</td>\n      <td>4</td>\n    </tr>\n    <tr>\n      <th>c</th>\n      <td>2</td>\n      <td>3</td>\n      <td>6</td>\n    </tr>\n    <tr>\n      <th>d</th>\n      <td>2</td>\n      <td>4</td>\n      <td>6</td>\n    </tr>\n    <tr>\n      <th>e</th>\n      <td>1</td>\n      <td>2</td>\n      <td>5</td>\n    </tr>\n    <tr>\n      <th>f</th>\n      <td>2</td>\n      <td>4</td>\n      <td>1</td>\n    </tr>\n  </tbody>\n</table>\n</div>",
      "text/plain": "   A  B  C\na  1  1  3\nb  2  2  4\nc  2  3  6\nd  2  4  6\ne  1  2  5\nf  2  4  1"
     },
     "execution_count": 44,
     "metadata": {},
     "output_type": "execute_result"
    }
   ],
   "source": [
    "df"
   ]
  },
  {
   "cell_type": "code",
   "execution_count": 45,
   "metadata": {},
   "outputs": [
    {
     "name": "stdout",
     "output_type": "stream",
     "text": "A    1\nB    1\nC    3\nName: a, dtype: int64\nA    1\nB    1\nC    3\nName: a, dtype: int64\n"
    }
   ],
   "source": [
    "print(df.iloc[0])\n",
    "\n",
    "print(df.loc['a'])\n",
    "\n",
    "#print(df.iloc['a'])\n",
    "# prints out all the values on row a i.e position\n",
    "# df.iloc['a'] gives an error because the position of a is 0 since it is the first row. i.e position oriented"
   ]
  },
  {
   "cell_type": "code",
   "execution_count": 46,
   "metadata": {},
   "outputs": [
    {
     "data": {
      "text/html": "<div>\n<style scoped>\n    .dataframe tbody tr th:only-of-type {\n        vertical-align: middle;\n    }\n\n    .dataframe tbody tr th {\n        vertical-align: top;\n    }\n\n    .dataframe thead th {\n        text-align: right;\n    }\n</style>\n<table border=\"1\" class=\"dataframe\">\n  <thead>\n    <tr style=\"text-align: right;\">\n      <th></th>\n      <th>A</th>\n      <th>B</th>\n      <th>C</th>\n    </tr>\n  </thead>\n  <tbody>\n    <tr>\n      <th>b</th>\n      <td>2</td>\n      <td>2</td>\n      <td>4</td>\n    </tr>\n    <tr>\n      <th>c</th>\n      <td>2</td>\n      <td>3</td>\n      <td>6</td>\n    </tr>\n    <tr>\n      <th>d</th>\n      <td>2</td>\n      <td>4</td>\n      <td>6</td>\n    </tr>\n  </tbody>\n</table>\n</div>",
      "text/plain": "   A  B  C\nb  2  2  4\nc  2  3  6\nd  2  4  6"
     },
     "execution_count": 46,
     "metadata": {},
     "output_type": "execute_result"
    }
   ],
   "source": [
    "df.iloc[1:4]"
   ]
  },
  {
   "cell_type": "code",
   "execution_count": 47,
   "metadata": {},
   "outputs": [
    {
     "data": {
      "text/html": "<div>\n<style scoped>\n    .dataframe tbody tr th:only-of-type {\n        vertical-align: middle;\n    }\n\n    .dataframe tbody tr th {\n        vertical-align: top;\n    }\n\n    .dataframe thead th {\n        text-align: right;\n    }\n</style>\n<table border=\"1\" class=\"dataframe\">\n  <thead>\n    <tr style=\"text-align: right;\">\n      <th></th>\n      <th>A</th>\n      <th>B</th>\n      <th>C</th>\n    </tr>\n  </thead>\n  <tbody>\n    <tr>\n      <th>c</th>\n      <td>2</td>\n      <td>3</td>\n      <td>6</td>\n    </tr>\n    <tr>\n      <th>d</th>\n      <td>2</td>\n      <td>4</td>\n      <td>6</td>\n    </tr>\n    <tr>\n      <th>e</th>\n      <td>1</td>\n      <td>2</td>\n      <td>5</td>\n    </tr>\n  </tbody>\n</table>\n</div>",
      "text/plain": "   A  B  C\nc  2  3  6\nd  2  4  6\ne  1  2  5"
     },
     "execution_count": 47,
     "metadata": {},
     "output_type": "execute_result"
    }
   ],
   "source": [
    "df.loc['c':'e']# it is label oriented\n",
    "# prints out the rows with labels from 1 to 3"
   ]
  },
  {
   "cell_type": "code",
   "execution_count": 48,
   "metadata": {},
   "outputs": [
    {
     "name": "stderr",
     "output_type": "stream",
     "text": "C:\\Users\\Bunmi\\Anaconda3-2019\\lib\\site-packages\\ipykernel_launcher.py:1: DeprecationWarning: \n.ix is deprecated. Please use\n.loc for label based indexing or\n.iloc for positional indexing\n\nSee the documentation here:\nhttp://pandas.pydata.org/pandas-docs/stable/indexing.html#ix-indexer-is-deprecated\n  \"\"\"Entry point for launching an IPython kernel.\n"
    },
    {
     "data": {
      "text/html": "<div>\n<style scoped>\n    .dataframe tbody tr th:only-of-type {\n        vertical-align: middle;\n    }\n\n    .dataframe tbody tr th {\n        vertical-align: top;\n    }\n\n    .dataframe thead th {\n        text-align: right;\n    }\n</style>\n<table border=\"1\" class=\"dataframe\">\n  <thead>\n    <tr style=\"text-align: right;\">\n      <th></th>\n      <th>A</th>\n      <th>B</th>\n      <th>C</th>\n    </tr>\n  </thead>\n  <tbody>\n    <tr>\n      <th>a</th>\n      <td>1</td>\n      <td>1</td>\n      <td>3</td>\n    </tr>\n    <tr>\n      <th>b</th>\n      <td>2</td>\n      <td>2</td>\n      <td>4</td>\n    </tr>\n    <tr>\n      <th>c</th>\n      <td>2</td>\n      <td>3</td>\n      <td>6</td>\n    </tr>\n  </tbody>\n</table>\n</div>",
      "text/plain": "   A  B  C\na  1  1  3\nb  2  2  4\nc  2  3  6"
     },
     "execution_count": 48,
     "metadata": {},
     "output_type": "execute_result"
    }
   ],
   "source": [
    "df.ix[0:3] # same as .iloc[0:3], it is general"
   ]
  },
  {
   "cell_type": "code",
   "execution_count": 49,
   "metadata": {},
   "outputs": [
    {
     "name": "stderr",
     "output_type": "stream",
     "text": "C:\\Users\\Bunmi\\Anaconda3-2019\\lib\\site-packages\\ipykernel_launcher.py:1: DeprecationWarning: \n.ix is deprecated. Please use\n.loc for label based indexing or\n.iloc for positional indexing\n\nSee the documentation here:\nhttp://pandas.pydata.org/pandas-docs/stable/indexing.html#ix-indexer-is-deprecated\n  \"\"\"Entry point for launching an IPython kernel.\n"
    },
    {
     "data": {
      "text/html": "<div>\n<style scoped>\n    .dataframe tbody tr th:only-of-type {\n        vertical-align: middle;\n    }\n\n    .dataframe tbody tr th {\n        vertical-align: top;\n    }\n\n    .dataframe thead th {\n        text-align: right;\n    }\n</style>\n<table border=\"1\" class=\"dataframe\">\n  <thead>\n    <tr style=\"text-align: right;\">\n      <th></th>\n      <th>A</th>\n      <th>B</th>\n      <th>C</th>\n    </tr>\n  </thead>\n  <tbody>\n    <tr>\n      <th>a</th>\n      <td>1</td>\n      <td>1</td>\n      <td>3</td>\n    </tr>\n    <tr>\n      <th>b</th>\n      <td>2</td>\n      <td>2</td>\n      <td>4</td>\n    </tr>\n    <tr>\n      <th>c</th>\n      <td>2</td>\n      <td>3</td>\n      <td>6</td>\n    </tr>\n    <tr>\n      <th>d</th>\n      <td>2</td>\n      <td>4</td>\n      <td>6</td>\n    </tr>\n  </tbody>\n</table>\n</div>",
      "text/plain": "   A  B  C\na  1  1  3\nb  2  2  4\nc  2  3  6\nd  2  4  6"
     },
     "execution_count": 49,
     "metadata": {},
     "output_type": "execute_result"
    }
   ],
   "source": [
    "df.ix['a': 'd'] # same as .loc['a':'d']"
   ]
  },
  {
   "cell_type": "code",
   "execution_count": 50,
   "metadata": {},
   "outputs": [
    {
     "data": {
      "text/html": "<div>\n<style scoped>\n    .dataframe tbody tr th:only-of-type {\n        vertical-align: middle;\n    }\n\n    .dataframe tbody tr th {\n        vertical-align: top;\n    }\n\n    .dataframe thead th {\n        text-align: right;\n    }\n</style>\n<table border=\"1\" class=\"dataframe\">\n  <thead>\n    <tr style=\"text-align: right;\">\n      <th></th>\n      <th>a</th>\n      <th>b</th>\n      <th>c</th>\n    </tr>\n  </thead>\n  <tbody>\n    <tr>\n      <th>0</th>\n      <td>-2.030643</td>\n      <td>0.550329</td>\n      <td>-0.344068</td>\n    </tr>\n    <tr>\n      <th>1</th>\n      <td>0.381677</td>\n      <td>0.071595</td>\n      <td>-0.722977</td>\n    </tr>\n    <tr>\n      <th>2</th>\n      <td>0.314379</td>\n      <td>0.407667</td>\n      <td>0.310344</td>\n    </tr>\n    <tr>\n      <th>3</th>\n      <td>1.568394</td>\n      <td>-2.384506</td>\n      <td>-0.490804</td>\n    </tr>\n  </tbody>\n</table>\n</div>",
      "text/plain": "          a         b         c\n0 -2.030643  0.550329 -0.344068\n1  0.381677  0.071595 -0.722977\n2  0.314379  0.407667  0.310344\n3  1.568394 -2.384506 -0.490804"
     },
     "execution_count": 50,
     "metadata": {},
     "output_type": "execute_result"
    }
   ],
   "source": [
    "# creating a dataframe using random numbers which contain negative numbers\n",
    "d4 = pd.DataFrame(np.random.randn(4, 3), columns=list('abc'), index=np.arange(4))\n",
    "d4"
   ]
  },
  {
   "cell_type": "code",
   "execution_count": 51,
   "metadata": {},
   "outputs": [
    {
     "data": {
      "text/html": "<div>\n<style scoped>\n    .dataframe tbody tr th:only-of-type {\n        vertical-align: middle;\n    }\n\n    .dataframe tbody tr th {\n        vertical-align: top;\n    }\n\n    .dataframe thead th {\n        text-align: right;\n    }\n</style>\n<table border=\"1\" class=\"dataframe\">\n  <thead>\n    <tr style=\"text-align: right;\">\n      <th></th>\n      <th>a</th>\n      <th>b</th>\n      <th>c</th>\n    </tr>\n  </thead>\n  <tbody>\n    <tr>\n      <th>0</th>\n      <td>2.030643</td>\n      <td>0.550329</td>\n      <td>0.344068</td>\n    </tr>\n    <tr>\n      <th>1</th>\n      <td>0.381677</td>\n      <td>0.071595</td>\n      <td>0.722977</td>\n    </tr>\n    <tr>\n      <th>2</th>\n      <td>0.314379</td>\n      <td>0.407667</td>\n      <td>0.310344</td>\n    </tr>\n    <tr>\n      <th>3</th>\n      <td>1.568394</td>\n      <td>2.384506</td>\n      <td>0.490804</td>\n    </tr>\n  </tbody>\n</table>\n</div>",
      "text/plain": "          a         b         c\n0  2.030643  0.550329  0.344068\n1  0.381677  0.071595  0.722977\n2  0.314379  0.407667  0.310344\n3  1.568394  2.384506  0.490804"
     },
     "execution_count": 51,
     "metadata": {},
     "output_type": "execute_result"
    }
   ],
   "source": [
    "# To convert all the negative values in a dataframe to positive, use the absolute function .abs()\n",
    "np.abs(d4)"
   ]
  },
  {
   "cell_type": "code",
   "execution_count": 52,
   "metadata": {},
   "outputs": [
    {
     "data": {
      "text/plain": "a    0.233808\nb   -1.354915\nc   -1.247505\ndtype: float64"
     },
     "execution_count": 52,
     "metadata": {},
     "output_type": "execute_result"
    }
   ],
   "source": [
    "# You can also take the sum of all the rows by the columns\n",
    "d4.sum()"
   ]
  },
  {
   "cell_type": "code",
   "execution_count": 53,
   "metadata": {},
   "outputs": [
    {
     "data": {
      "text/plain": "0   -1.824382\n1   -0.269705\n2    1.032391\n3   -1.306916\ndtype: float64"
     },
     "execution_count": 53,
     "metadata": {},
     "output_type": "execute_result"
    }
   ],
   "source": [
    "d4.sum(axis=1)\n",
    "# to sum the columns by the rows"
   ]
  },
  {
   "cell_type": "code",
   "execution_count": 54,
   "metadata": {},
   "outputs": [
    {
     "data": {
      "text/html": "<div>\n<style scoped>\n    .dataframe tbody tr th:only-of-type {\n        vertical-align: middle;\n    }\n\n    .dataframe tbody tr th {\n        vertical-align: top;\n    }\n\n    .dataframe thead th {\n        text-align: right;\n    }\n</style>\n<table border=\"1\" class=\"dataframe\">\n  <thead>\n    <tr style=\"text-align: right;\">\n      <th></th>\n      <th>a</th>\n      <th>b</th>\n      <th>c</th>\n    </tr>\n  </thead>\n  <tbody>\n    <tr>\n      <th>count</th>\n      <td>4.000000</td>\n      <td>4.000000</td>\n      <td>4.000000</td>\n    </tr>\n    <tr>\n      <th>mean</th>\n      <td>0.058452</td>\n      <td>-0.338729</td>\n      <td>-0.311876</td>\n    </tr>\n    <tr>\n      <th>std</th>\n      <td>1.507118</td>\n      <td>1.378538</td>\n      <td>0.443175</td>\n    </tr>\n    <tr>\n      <th>min</th>\n      <td>-2.030643</td>\n      <td>-2.384506</td>\n      <td>-0.722977</td>\n    </tr>\n    <tr>\n      <th>25%</th>\n      <td>-0.271876</td>\n      <td>-0.542430</td>\n      <td>-0.548847</td>\n    </tr>\n    <tr>\n      <th>50%</th>\n      <td>0.348028</td>\n      <td>0.239631</td>\n      <td>-0.417436</td>\n    </tr>\n    <tr>\n      <th>75%</th>\n      <td>0.678356</td>\n      <td>0.443333</td>\n      <td>-0.180465</td>\n    </tr>\n    <tr>\n      <th>max</th>\n      <td>1.568394</td>\n      <td>0.550329</td>\n      <td>0.310344</td>\n    </tr>\n  </tbody>\n</table>\n</div>",
      "text/plain": "              a         b         c\ncount  4.000000  4.000000  4.000000\nmean   0.058452 -0.338729 -0.311876\nstd    1.507118  1.378538  0.443175\nmin   -2.030643 -2.384506 -0.722977\n25%   -0.271876 -0.542430 -0.548847\n50%    0.348028  0.239631 -0.417436\n75%    0.678356  0.443333 -0.180465\nmax    1.568394  0.550329  0.310344"
     },
     "execution_count": 54,
     "metadata": {},
     "output_type": "execute_result"
    }
   ],
   "source": [
    "# instead of performing individual statistics, pandas has a .describe() function that give the summary statistics of a dataframe\n",
    "d4.describe()"
   ]
  },
  {
   "cell_type": "markdown",
   "execution_count": null,
   "metadata": {},
   "outputs": [],
   "source": [
    "<h3> Time for classwork . This time, I want you to :</h3>  \n",
    "    \n",
    "\n",
    "1. Create a dataset having the information of 7 diffrent school students on their names, matric number, and three courses they offer.\n",
    "\n",
    "    \n",
    "2. Give the summary statistics of each student and give the three best students in the dataset in order of their marks scored for each course\n",
    "\n",
    "3. Give the total score for each course of the student"
   ]
  },
  {
   "cell_type": "code",
   "execution_count": 55,
   "metadata": {},
   "outputs": [
    {
     "data": {
      "text/plain": "0    q\n1    q\n2    w\n3    q\n4    r\n5    t\ndtype: object"
     },
     "execution_count": 55,
     "metadata": {},
     "output_type": "execute_result"
    }
   ],
   "source": [
    "\n",
    "d5 = pd.Series(['q', 'q', 'w', 'q', 'r', 't'], index=np.arange(6))\n",
    "d5"
   ]
  },
  {
   "cell_type": "code",
   "execution_count": 56,
   "metadata": {},
   "outputs": [
    {
     "data": {
      "text/plain": "count     6\nunique    4\ntop       q\nfreq      3\ndtype: object"
     },
     "execution_count": 56,
     "metadata": {},
     "output_type": "execute_result"
    }
   ],
   "source": [
    "# for non numeric data, it also gives a summary statistics\n",
    "d5.describe()"
   ]
  },
  {
   "cell_type": "code",
   "execution_count": 57,
   "metadata": {},
   "outputs": [
    {
     "data": {
      "text/html": "<div>\n<style scoped>\n    .dataframe tbody tr th:only-of-type {\n        vertical-align: middle;\n    }\n\n    .dataframe tbody tr th {\n        vertical-align: top;\n    }\n\n    .dataframe thead th {\n        text-align: right;\n    }\n</style>\n<table border=\"1\" class=\"dataframe\">\n  <thead>\n    <tr style=\"text-align: right;\">\n      <th></th>\n      <th>a</th>\n      <th>b</th>\n      <th>c</th>\n      <th>d</th>\n      <th>e</th>\n      <th>f</th>\n      <th>g</th>\n      <th>h</th>\n      <th>i</th>\n      <th>j</th>\n      <th>k</th>\n      <th>l</th>\n      <th>m</th>\n      <th>n</th>\n      <th>o</th>\n      <th>p</th>\n      <th>q</th>\n      <th>r</th>\n      <th>s</th>\n      <th>t</th>\n    </tr>\n  </thead>\n  <tbody>\n    <tr>\n      <th>0</th>\n      <td>1000</td>\n      <td>1001</td>\n      <td>1002</td>\n      <td>1003</td>\n      <td>1004</td>\n      <td>1005</td>\n      <td>1006</td>\n      <td>1007</td>\n      <td>1008</td>\n      <td>1009</td>\n      <td>1010</td>\n      <td>1011</td>\n      <td>1012</td>\n      <td>1013</td>\n      <td>1014</td>\n      <td>1015</td>\n      <td>1016</td>\n      <td>1017</td>\n      <td>1018</td>\n      <td>1019</td>\n    </tr>\n    <tr>\n      <th>1</th>\n      <td>1020</td>\n      <td>1021</td>\n      <td>1022</td>\n      <td>1023</td>\n      <td>1024</td>\n      <td>1025</td>\n      <td>1026</td>\n      <td>1027</td>\n      <td>1028</td>\n      <td>1029</td>\n      <td>1030</td>\n      <td>1031</td>\n      <td>1032</td>\n      <td>1033</td>\n      <td>1034</td>\n      <td>1035</td>\n      <td>1036</td>\n      <td>1037</td>\n      <td>1038</td>\n      <td>1039</td>\n    </tr>\n    <tr>\n      <th>2</th>\n      <td>1040</td>\n      <td>1041</td>\n      <td>1042</td>\n      <td>1043</td>\n      <td>1044</td>\n      <td>1045</td>\n      <td>1046</td>\n      <td>1047</td>\n      <td>1048</td>\n      <td>1049</td>\n      <td>1050</td>\n      <td>1051</td>\n      <td>1052</td>\n      <td>1053</td>\n      <td>1054</td>\n      <td>1055</td>\n      <td>1056</td>\n      <td>1057</td>\n      <td>1058</td>\n      <td>1059</td>\n    </tr>\n    <tr>\n      <th>3</th>\n      <td>1060</td>\n      <td>1061</td>\n      <td>1062</td>\n      <td>1063</td>\n      <td>1064</td>\n      <td>1065</td>\n      <td>1066</td>\n      <td>1067</td>\n      <td>1068</td>\n      <td>1069</td>\n      <td>1070</td>\n      <td>1071</td>\n      <td>1072</td>\n      <td>1073</td>\n      <td>1074</td>\n      <td>1075</td>\n      <td>1076</td>\n      <td>1077</td>\n      <td>1078</td>\n      <td>1079</td>\n    </tr>\n    <tr>\n      <th>4</th>\n      <td>1080</td>\n      <td>1081</td>\n      <td>1082</td>\n      <td>1083</td>\n      <td>1084</td>\n      <td>1085</td>\n      <td>1086</td>\n      <td>1087</td>\n      <td>1088</td>\n      <td>1089</td>\n      <td>1090</td>\n      <td>1091</td>\n      <td>1092</td>\n      <td>1093</td>\n      <td>1094</td>\n      <td>1095</td>\n      <td>1096</td>\n      <td>1097</td>\n      <td>1098</td>\n      <td>1099</td>\n    </tr>\n    <tr>\n      <th>5</th>\n      <td>1100</td>\n      <td>1101</td>\n      <td>1102</td>\n      <td>1103</td>\n      <td>1104</td>\n      <td>1105</td>\n      <td>1106</td>\n      <td>1107</td>\n      <td>1108</td>\n      <td>1109</td>\n      <td>1110</td>\n      <td>1111</td>\n      <td>1112</td>\n      <td>1113</td>\n      <td>1114</td>\n      <td>1115</td>\n      <td>1116</td>\n      <td>1117</td>\n      <td>1118</td>\n      <td>1119</td>\n    </tr>\n    <tr>\n      <th>6</th>\n      <td>1120</td>\n      <td>1121</td>\n      <td>1122</td>\n      <td>1123</td>\n      <td>1124</td>\n      <td>1125</td>\n      <td>1126</td>\n      <td>1127</td>\n      <td>1128</td>\n      <td>1129</td>\n      <td>1130</td>\n      <td>1131</td>\n      <td>1132</td>\n      <td>1133</td>\n      <td>1134</td>\n      <td>1135</td>\n      <td>1136</td>\n      <td>1137</td>\n      <td>1138</td>\n      <td>1139</td>\n    </tr>\n    <tr>\n      <th>7</th>\n      <td>1140</td>\n      <td>1141</td>\n      <td>1142</td>\n      <td>1143</td>\n      <td>1144</td>\n      <td>1145</td>\n      <td>1146</td>\n      <td>1147</td>\n      <td>1148</td>\n      <td>1149</td>\n      <td>1150</td>\n      <td>1151</td>\n      <td>1152</td>\n      <td>1153</td>\n      <td>1154</td>\n      <td>1155</td>\n      <td>1156</td>\n      <td>1157</td>\n      <td>1158</td>\n      <td>1159</td>\n    </tr>\n    <tr>\n      <th>8</th>\n      <td>1160</td>\n      <td>1161</td>\n      <td>1162</td>\n      <td>1163</td>\n      <td>1164</td>\n      <td>1165</td>\n      <td>1166</td>\n      <td>1167</td>\n      <td>1168</td>\n      <td>1169</td>\n      <td>1170</td>\n      <td>1171</td>\n      <td>1172</td>\n      <td>1173</td>\n      <td>1174</td>\n      <td>1175</td>\n      <td>1176</td>\n      <td>1177</td>\n      <td>1178</td>\n      <td>1179</td>\n    </tr>\n    <tr>\n      <th>9</th>\n      <td>1180</td>\n      <td>1181</td>\n      <td>1182</td>\n      <td>1183</td>\n      <td>1184</td>\n      <td>1185</td>\n      <td>1186</td>\n      <td>1187</td>\n      <td>1188</td>\n      <td>1189</td>\n      <td>1190</td>\n      <td>1191</td>\n      <td>1192</td>\n      <td>1193</td>\n      <td>1194</td>\n      <td>1195</td>\n      <td>1196</td>\n      <td>1197</td>\n      <td>1198</td>\n      <td>1199</td>\n    </tr>\n    <tr>\n      <th>10</th>\n      <td>1200</td>\n      <td>1201</td>\n      <td>1202</td>\n      <td>1203</td>\n      <td>1204</td>\n      <td>1205</td>\n      <td>1206</td>\n      <td>1207</td>\n      <td>1208</td>\n      <td>1209</td>\n      <td>1210</td>\n      <td>1211</td>\n      <td>1212</td>\n      <td>1213</td>\n      <td>1214</td>\n      <td>1215</td>\n      <td>1216</td>\n      <td>1217</td>\n      <td>1218</td>\n      <td>1219</td>\n    </tr>\n    <tr>\n      <th>11</th>\n      <td>1220</td>\n      <td>1221</td>\n      <td>1222</td>\n      <td>1223</td>\n      <td>1224</td>\n      <td>1225</td>\n      <td>1226</td>\n      <td>1227</td>\n      <td>1228</td>\n      <td>1229</td>\n      <td>1230</td>\n      <td>1231</td>\n      <td>1232</td>\n      <td>1233</td>\n      <td>1234</td>\n      <td>1235</td>\n      <td>1236</td>\n      <td>1237</td>\n      <td>1238</td>\n      <td>1239</td>\n    </tr>\n    <tr>\n      <th>12</th>\n      <td>1240</td>\n      <td>1241</td>\n      <td>1242</td>\n      <td>1243</td>\n      <td>1244</td>\n      <td>1245</td>\n      <td>1246</td>\n      <td>1247</td>\n      <td>1248</td>\n      <td>1249</td>\n      <td>1250</td>\n      <td>1251</td>\n      <td>1252</td>\n      <td>1253</td>\n      <td>1254</td>\n      <td>1255</td>\n      <td>1256</td>\n      <td>1257</td>\n      <td>1258</td>\n      <td>1259</td>\n    </tr>\n    <tr>\n      <th>13</th>\n      <td>1260</td>\n      <td>1261</td>\n      <td>1262</td>\n      <td>1263</td>\n      <td>1264</td>\n      <td>1265</td>\n      <td>1266</td>\n      <td>1267</td>\n      <td>1268</td>\n      <td>1269</td>\n      <td>1270</td>\n      <td>1271</td>\n      <td>1272</td>\n      <td>1273</td>\n      <td>1274</td>\n      <td>1275</td>\n      <td>1276</td>\n      <td>1277</td>\n      <td>1278</td>\n      <td>1279</td>\n    </tr>\n    <tr>\n      <th>14</th>\n      <td>1280</td>\n      <td>1281</td>\n      <td>1282</td>\n      <td>1283</td>\n      <td>1284</td>\n      <td>1285</td>\n      <td>1286</td>\n      <td>1287</td>\n      <td>1288</td>\n      <td>1289</td>\n      <td>1290</td>\n      <td>1291</td>\n      <td>1292</td>\n      <td>1293</td>\n      <td>1294</td>\n      <td>1295</td>\n      <td>1296</td>\n      <td>1297</td>\n      <td>1298</td>\n      <td>1299</td>\n    </tr>\n    <tr>\n      <th>15</th>\n      <td>1300</td>\n      <td>1301</td>\n      <td>1302</td>\n      <td>1303</td>\n      <td>1304</td>\n      <td>1305</td>\n      <td>1306</td>\n      <td>1307</td>\n      <td>1308</td>\n      <td>1309</td>\n      <td>1310</td>\n      <td>1311</td>\n      <td>1312</td>\n      <td>1313</td>\n      <td>1314</td>\n      <td>1315</td>\n      <td>1316</td>\n      <td>1317</td>\n      <td>1318</td>\n      <td>1319</td>\n    </tr>\n    <tr>\n      <th>16</th>\n      <td>1320</td>\n      <td>1321</td>\n      <td>1322</td>\n      <td>1323</td>\n      <td>1324</td>\n      <td>1325</td>\n      <td>1326</td>\n      <td>1327</td>\n      <td>1328</td>\n      <td>1329</td>\n      <td>1330</td>\n      <td>1331</td>\n      <td>1332</td>\n      <td>1333</td>\n      <td>1334</td>\n      <td>1335</td>\n      <td>1336</td>\n      <td>1337</td>\n      <td>1338</td>\n      <td>1339</td>\n    </tr>\n    <tr>\n      <th>17</th>\n      <td>1340</td>\n      <td>1341</td>\n      <td>1342</td>\n      <td>1343</td>\n      <td>1344</td>\n      <td>1345</td>\n      <td>1346</td>\n      <td>1347</td>\n      <td>1348</td>\n      <td>1349</td>\n      <td>1350</td>\n      <td>1351</td>\n      <td>1352</td>\n      <td>1353</td>\n      <td>1354</td>\n      <td>1355</td>\n      <td>1356</td>\n      <td>1357</td>\n      <td>1358</td>\n      <td>1359</td>\n    </tr>\n    <tr>\n      <th>18</th>\n      <td>1360</td>\n      <td>1361</td>\n      <td>1362</td>\n      <td>1363</td>\n      <td>1364</td>\n      <td>1365</td>\n      <td>1366</td>\n      <td>1367</td>\n      <td>1368</td>\n      <td>1369</td>\n      <td>1370</td>\n      <td>1371</td>\n      <td>1372</td>\n      <td>1373</td>\n      <td>1374</td>\n      <td>1375</td>\n      <td>1376</td>\n      <td>1377</td>\n      <td>1378</td>\n      <td>1379</td>\n    </tr>\n    <tr>\n      <th>19</th>\n      <td>1380</td>\n      <td>1381</td>\n      <td>1382</td>\n      <td>1383</td>\n      <td>1384</td>\n      <td>1385</td>\n      <td>1386</td>\n      <td>1387</td>\n      <td>1388</td>\n      <td>1389</td>\n      <td>1390</td>\n      <td>1391</td>\n      <td>1392</td>\n      <td>1393</td>\n      <td>1394</td>\n      <td>1395</td>\n      <td>1396</td>\n      <td>1397</td>\n      <td>1398</td>\n      <td>1399</td>\n    </tr>\n    <tr>\n      <th>20</th>\n      <td>1400</td>\n      <td>1401</td>\n      <td>1402</td>\n      <td>1403</td>\n      <td>1404</td>\n      <td>1405</td>\n      <td>1406</td>\n      <td>1407</td>\n      <td>1408</td>\n      <td>1409</td>\n      <td>1410</td>\n      <td>1411</td>\n      <td>1412</td>\n      <td>1413</td>\n      <td>1414</td>\n      <td>1415</td>\n      <td>1416</td>\n      <td>1417</td>\n      <td>1418</td>\n      <td>1419</td>\n    </tr>\n    <tr>\n      <th>21</th>\n      <td>1420</td>\n      <td>1421</td>\n      <td>1422</td>\n      <td>1423</td>\n      <td>1424</td>\n      <td>1425</td>\n      <td>1426</td>\n      <td>1427</td>\n      <td>1428</td>\n      <td>1429</td>\n      <td>1430</td>\n      <td>1431</td>\n      <td>1432</td>\n      <td>1433</td>\n      <td>1434</td>\n      <td>1435</td>\n      <td>1436</td>\n      <td>1437</td>\n      <td>1438</td>\n      <td>1439</td>\n    </tr>\n    <tr>\n      <th>22</th>\n      <td>1440</td>\n      <td>1441</td>\n      <td>1442</td>\n      <td>1443</td>\n      <td>1444</td>\n      <td>1445</td>\n      <td>1446</td>\n      <td>1447</td>\n      <td>1448</td>\n      <td>1449</td>\n      <td>1450</td>\n      <td>1451</td>\n      <td>1452</td>\n      <td>1453</td>\n      <td>1454</td>\n      <td>1455</td>\n      <td>1456</td>\n      <td>1457</td>\n      <td>1458</td>\n      <td>1459</td>\n    </tr>\n    <tr>\n      <th>23</th>\n      <td>1460</td>\n      <td>1461</td>\n      <td>1462</td>\n      <td>1463</td>\n      <td>1464</td>\n      <td>1465</td>\n      <td>1466</td>\n      <td>1467</td>\n      <td>1468</td>\n      <td>1469</td>\n      <td>1470</td>\n      <td>1471</td>\n      <td>1472</td>\n      <td>1473</td>\n      <td>1474</td>\n      <td>1475</td>\n      <td>1476</td>\n      <td>1477</td>\n      <td>1478</td>\n      <td>1479</td>\n    </tr>\n    <tr>\n      <th>24</th>\n      <td>1480</td>\n      <td>1481</td>\n      <td>1482</td>\n      <td>1483</td>\n      <td>1484</td>\n      <td>1485</td>\n      <td>1486</td>\n      <td>1487</td>\n      <td>1488</td>\n      <td>1489</td>\n      <td>1490</td>\n      <td>1491</td>\n      <td>1492</td>\n      <td>1493</td>\n      <td>1494</td>\n      <td>1495</td>\n      <td>1496</td>\n      <td>1497</td>\n      <td>1498</td>\n      <td>1499</td>\n    </tr>\n  </tbody>\n</table>\n</div>",
      "text/plain": "       a     b     c     d     e     f     g     h     i     j     k     l  \\\n0   1000  1001  1002  1003  1004  1005  1006  1007  1008  1009  1010  1011   \n1   1020  1021  1022  1023  1024  1025  1026  1027  1028  1029  1030  1031   \n2   1040  1041  1042  1043  1044  1045  1046  1047  1048  1049  1050  1051   \n3   1060  1061  1062  1063  1064  1065  1066  1067  1068  1069  1070  1071   \n4   1080  1081  1082  1083  1084  1085  1086  1087  1088  1089  1090  1091   \n5   1100  1101  1102  1103  1104  1105  1106  1107  1108  1109  1110  1111   \n6   1120  1121  1122  1123  1124  1125  1126  1127  1128  1129  1130  1131   \n7   1140  1141  1142  1143  1144  1145  1146  1147  1148  1149  1150  1151   \n8   1160  1161  1162  1163  1164  1165  1166  1167  1168  1169  1170  1171   \n9   1180  1181  1182  1183  1184  1185  1186  1187  1188  1189  1190  1191   \n10  1200  1201  1202  1203  1204  1205  1206  1207  1208  1209  1210  1211   \n11  1220  1221  1222  1223  1224  1225  1226  1227  1228  1229  1230  1231   \n12  1240  1241  1242  1243  1244  1245  1246  1247  1248  1249  1250  1251   \n13  1260  1261  1262  1263  1264  1265  1266  1267  1268  1269  1270  1271   \n14  1280  1281  1282  1283  1284  1285  1286  1287  1288  1289  1290  1291   \n15  1300  1301  1302  1303  1304  1305  1306  1307  1308  1309  1310  1311   \n16  1320  1321  1322  1323  1324  1325  1326  1327  1328  1329  1330  1331   \n17  1340  1341  1342  1343  1344  1345  1346  1347  1348  1349  1350  1351   \n18  1360  1361  1362  1363  1364  1365  1366  1367  1368  1369  1370  1371   \n19  1380  1381  1382  1383  1384  1385  1386  1387  1388  1389  1390  1391   \n20  1400  1401  1402  1403  1404  1405  1406  1407  1408  1409  1410  1411   \n21  1420  1421  1422  1423  1424  1425  1426  1427  1428  1429  1430  1431   \n22  1440  1441  1442  1443  1444  1445  1446  1447  1448  1449  1450  1451   \n23  1460  1461  1462  1463  1464  1465  1466  1467  1468  1469  1470  1471   \n24  1480  1481  1482  1483  1484  1485  1486  1487  1488  1489  1490  1491   \n\n       m     n     o     p     q     r     s     t  \n0   1012  1013  1014  1015  1016  1017  1018  1019  \n1   1032  1033  1034  1035  1036  1037  1038  1039  \n2   1052  1053  1054  1055  1056  1057  1058  1059  \n3   1072  1073  1074  1075  1076  1077  1078  1079  \n4   1092  1093  1094  1095  1096  1097  1098  1099  \n5   1112  1113  1114  1115  1116  1117  1118  1119  \n6   1132  1133  1134  1135  1136  1137  1138  1139  \n7   1152  1153  1154  1155  1156  1157  1158  1159  \n8   1172  1173  1174  1175  1176  1177  1178  1179  \n9   1192  1193  1194  1195  1196  1197  1198  1199  \n10  1212  1213  1214  1215  1216  1217  1218  1219  \n11  1232  1233  1234  1235  1236  1237  1238  1239  \n12  1252  1253  1254  1255  1256  1257  1258  1259  \n13  1272  1273  1274  1275  1276  1277  1278  1279  \n14  1292  1293  1294  1295  1296  1297  1298  1299  \n15  1312  1313  1314  1315  1316  1317  1318  1319  \n16  1332  1333  1334  1335  1336  1337  1338  1339  \n17  1352  1353  1354  1355  1356  1357  1358  1359  \n18  1372  1373  1374  1375  1376  1377  1378  1379  \n19  1392  1393  1394  1395  1396  1397  1398  1399  \n20  1412  1413  1414  1415  1416  1417  1418  1419  \n21  1432  1433  1434  1435  1436  1437  1438  1439  \n22  1452  1453  1454  1455  1456  1457  1458  1459  \n23  1472  1473  1474  1475  1476  1477  1478  1479  \n24  1492  1493  1494  1495  1496  1497  1498  1499  "
     },
     "execution_count": 57,
     "metadata": {},
     "output_type": "execute_result"
    }
   ],
   "source": [
    "d6 = pd.DataFrame(np.arange(1000, 1500).reshape(25, -1), columns=list('abcdefghijklmnopqrst'), index=np.arange(25))\n",
    "d6\n",
    "\n",
    "# I just created a dataframe of numbers between 1000 and 1500 with columns between a and t and rows between 1 and 25"
   ]
  },
  {
   "cell_type": "code",
   "execution_count": 58,
   "metadata": {},
   "outputs": [],
   "source": [
    "# This is how I got the size of the rows and columns\n",
    "a = np.arange(1000, 1500).reshape(25, -1)"
   ]
  },
  {
   "cell_type": "code",
   "execution_count": 59,
   "metadata": {},
   "outputs": [
    {
     "data": {
      "text/plain": "(25, 20)"
     },
     "execution_count": 59,
     "metadata": {},
     "output_type": "execute_result"
    }
   ],
   "source": [
    "a.shape"
   ]
  },
  {
   "cell_type": "markdown",
   "metadata": {},
   "source": [
    "Lets continue"
   ]
  },
  {
   "cell_type": "code",
   "execution_count": 60,
   "metadata": {},
   "outputs": [
    {
     "data": {
      "text/html": "<div>\n<style scoped>\n    .dataframe tbody tr th:only-of-type {\n        vertical-align: middle;\n    }\n\n    .dataframe tbody tr th {\n        vertical-align: top;\n    }\n\n    .dataframe thead th {\n        text-align: right;\n    }\n</style>\n<table border=\"1\" class=\"dataframe\">\n  <thead>\n    <tr style=\"text-align: right;\">\n      <th></th>\n      <th>a</th>\n      <th>b</th>\n      <th>c</th>\n      <th>d</th>\n      <th>e</th>\n      <th>f</th>\n      <th>g</th>\n      <th>h</th>\n      <th>i</th>\n      <th>j</th>\n      <th>k</th>\n      <th>l</th>\n      <th>m</th>\n      <th>n</th>\n      <th>o</th>\n      <th>p</th>\n      <th>q</th>\n      <th>r</th>\n      <th>s</th>\n      <th>t</th>\n    </tr>\n  </thead>\n  <tbody>\n    <tr>\n      <th>20</th>\n      <td>0.014493</td>\n      <td>0.014482</td>\n      <td>0.014472</td>\n      <td>0.014461</td>\n      <td>0.014451</td>\n      <td>0.014440</td>\n      <td>0.014430</td>\n      <td>0.014420</td>\n      <td>0.014409</td>\n      <td>0.014399</td>\n      <td>0.014388</td>\n      <td>0.014378</td>\n      <td>0.014368</td>\n      <td>0.014358</td>\n      <td>0.014347</td>\n      <td>0.014337</td>\n      <td>0.014327</td>\n      <td>0.014316</td>\n      <td>0.014306</td>\n      <td>0.014296</td>\n    </tr>\n    <tr>\n      <th>21</th>\n      <td>0.014286</td>\n      <td>0.014276</td>\n      <td>0.014265</td>\n      <td>0.014255</td>\n      <td>0.014245</td>\n      <td>0.014235</td>\n      <td>0.014225</td>\n      <td>0.014215</td>\n      <td>0.014205</td>\n      <td>0.014194</td>\n      <td>0.014184</td>\n      <td>0.014174</td>\n      <td>0.014164</td>\n      <td>0.014154</td>\n      <td>0.014144</td>\n      <td>0.014134</td>\n      <td>0.014124</td>\n      <td>0.014114</td>\n      <td>0.014104</td>\n      <td>0.014094</td>\n    </tr>\n    <tr>\n      <th>22</th>\n      <td>0.014085</td>\n      <td>0.014075</td>\n      <td>0.014065</td>\n      <td>0.014055</td>\n      <td>0.014045</td>\n      <td>0.014035</td>\n      <td>0.014025</td>\n      <td>0.014015</td>\n      <td>0.014006</td>\n      <td>0.013996</td>\n      <td>0.013986</td>\n      <td>0.013976</td>\n      <td>0.013966</td>\n      <td>0.013957</td>\n      <td>0.013947</td>\n      <td>0.013937</td>\n      <td>0.013928</td>\n      <td>0.013918</td>\n      <td>0.013908</td>\n      <td>0.013899</td>\n    </tr>\n    <tr>\n      <th>23</th>\n      <td>0.013889</td>\n      <td>0.013879</td>\n      <td>0.013870</td>\n      <td>0.013860</td>\n      <td>0.013850</td>\n      <td>0.013841</td>\n      <td>0.013831</td>\n      <td>0.013822</td>\n      <td>0.013812</td>\n      <td>0.013803</td>\n      <td>0.013793</td>\n      <td>0.013784</td>\n      <td>0.013774</td>\n      <td>0.013765</td>\n      <td>0.013755</td>\n      <td>0.013746</td>\n      <td>0.013736</td>\n      <td>0.013727</td>\n      <td>0.013717</td>\n      <td>0.013708</td>\n    </tr>\n    <tr>\n      <th>24</th>\n      <td>0.013699</td>\n      <td>0.013689</td>\n      <td>0.013680</td>\n      <td>0.013671</td>\n      <td>0.013661</td>\n      <td>0.013652</td>\n      <td>0.013643</td>\n      <td>0.013633</td>\n      <td>0.013624</td>\n      <td>0.013615</td>\n      <td>0.013605</td>\n      <td>0.013596</td>\n      <td>0.013587</td>\n      <td>0.013578</td>\n      <td>0.013569</td>\n      <td>0.013559</td>\n      <td>0.013550</td>\n      <td>0.013541</td>\n      <td>0.013532</td>\n      <td>0.013523</td>\n    </tr>\n  </tbody>\n</table>\n</div>",
      "text/plain": "           a         b         c         d         e         f         g  \\\n20  0.014493  0.014482  0.014472  0.014461  0.014451  0.014440  0.014430   \n21  0.014286  0.014276  0.014265  0.014255  0.014245  0.014235  0.014225   \n22  0.014085  0.014075  0.014065  0.014055  0.014045  0.014035  0.014025   \n23  0.013889  0.013879  0.013870  0.013860  0.013850  0.013841  0.013831   \n24  0.013699  0.013689  0.013680  0.013671  0.013661  0.013652  0.013643   \n\n           h         i         j         k         l         m         n  \\\n20  0.014420  0.014409  0.014399  0.014388  0.014378  0.014368  0.014358   \n21  0.014215  0.014205  0.014194  0.014184  0.014174  0.014164  0.014154   \n22  0.014015  0.014006  0.013996  0.013986  0.013976  0.013966  0.013957   \n23  0.013822  0.013812  0.013803  0.013793  0.013784  0.013774  0.013765   \n24  0.013633  0.013624  0.013615  0.013605  0.013596  0.013587  0.013578   \n\n           o         p         q         r         s         t  \n20  0.014347  0.014337  0.014327  0.014316  0.014306  0.014296  \n21  0.014144  0.014134  0.014124  0.014114  0.014104  0.014094  \n22  0.013947  0.013937  0.013928  0.013918  0.013908  0.013899  \n23  0.013755  0.013746  0.013736  0.013727  0.013717  0.013708  \n24  0.013569  0.013559  0.013550  0.013541  0.013532  0.013523  "
     },
     "execution_count": 60,
     "metadata": {},
     "output_type": "execute_result"
    }
   ],
   "source": [
    "# to calculate the percentage of each variable\n",
    "a = d6.pct_change()\n",
    "# To show the last 5 rows of the datframe\n",
    "a.tail()"
   ]
  },
  {
   "cell_type": "code",
   "execution_count": 61,
   "metadata": {},
   "outputs": [
    {
     "data": {
      "text/html": "<div>\n<style scoped>\n    .dataframe tbody tr th:only-of-type {\n        vertical-align: middle;\n    }\n\n    .dataframe tbody tr th {\n        vertical-align: top;\n    }\n\n    .dataframe thead th {\n        text-align: right;\n    }\n</style>\n<table border=\"1\" class=\"dataframe\">\n  <thead>\n    <tr style=\"text-align: right;\">\n      <th></th>\n      <th>a</th>\n      <th>b</th>\n      <th>c</th>\n      <th>d</th>\n      <th>e</th>\n      <th>f</th>\n      <th>g</th>\n      <th>h</th>\n      <th>i</th>\n      <th>j</th>\n      <th>k</th>\n      <th>l</th>\n      <th>m</th>\n      <th>n</th>\n      <th>o</th>\n      <th>p</th>\n      <th>q</th>\n      <th>r</th>\n      <th>s</th>\n      <th>t</th>\n    </tr>\n  </thead>\n  <tbody>\n    <tr>\n      <th>a</th>\n      <td>1.000000</td>\n      <td>1.000000</td>\n      <td>1.000000</td>\n      <td>1.000000</td>\n      <td>1.000000</td>\n      <td>1.000000</td>\n      <td>1.000000</td>\n      <td>1.0</td>\n      <td>1.0</td>\n      <td>1.0</td>\n      <td>1.0</td>\n      <td>1.0</td>\n      <td>0.999999</td>\n      <td>0.999999</td>\n      <td>0.999999</td>\n      <td>0.999999</td>\n      <td>0.999999</td>\n      <td>0.999999</td>\n      <td>0.999999</td>\n      <td>0.999999</td>\n    </tr>\n    <tr>\n      <th>b</th>\n      <td>1.000000</td>\n      <td>1.000000</td>\n      <td>1.000000</td>\n      <td>1.000000</td>\n      <td>1.000000</td>\n      <td>1.000000</td>\n      <td>1.000000</td>\n      <td>1.0</td>\n      <td>1.0</td>\n      <td>1.0</td>\n      <td>1.0</td>\n      <td>1.0</td>\n      <td>1.000000</td>\n      <td>0.999999</td>\n      <td>0.999999</td>\n      <td>0.999999</td>\n      <td>0.999999</td>\n      <td>0.999999</td>\n      <td>0.999999</td>\n      <td>0.999999</td>\n    </tr>\n    <tr>\n      <th>c</th>\n      <td>1.000000</td>\n      <td>1.000000</td>\n      <td>1.000000</td>\n      <td>1.000000</td>\n      <td>1.000000</td>\n      <td>1.000000</td>\n      <td>1.000000</td>\n      <td>1.0</td>\n      <td>1.0</td>\n      <td>1.0</td>\n      <td>1.0</td>\n      <td>1.0</td>\n      <td>1.000000</td>\n      <td>1.000000</td>\n      <td>0.999999</td>\n      <td>0.999999</td>\n      <td>0.999999</td>\n      <td>0.999999</td>\n      <td>0.999999</td>\n      <td>0.999999</td>\n    </tr>\n    <tr>\n      <th>d</th>\n      <td>1.000000</td>\n      <td>1.000000</td>\n      <td>1.000000</td>\n      <td>1.000000</td>\n      <td>1.000000</td>\n      <td>1.000000</td>\n      <td>1.000000</td>\n      <td>1.0</td>\n      <td>1.0</td>\n      <td>1.0</td>\n      <td>1.0</td>\n      <td>1.0</td>\n      <td>1.000000</td>\n      <td>1.000000</td>\n      <td>1.000000</td>\n      <td>0.999999</td>\n      <td>0.999999</td>\n      <td>0.999999</td>\n      <td>0.999999</td>\n      <td>0.999999</td>\n    </tr>\n    <tr>\n      <th>e</th>\n      <td>1.000000</td>\n      <td>1.000000</td>\n      <td>1.000000</td>\n      <td>1.000000</td>\n      <td>1.000000</td>\n      <td>1.000000</td>\n      <td>1.000000</td>\n      <td>1.0</td>\n      <td>1.0</td>\n      <td>1.0</td>\n      <td>1.0</td>\n      <td>1.0</td>\n      <td>1.000000</td>\n      <td>1.000000</td>\n      <td>1.000000</td>\n      <td>1.000000</td>\n      <td>0.999999</td>\n      <td>0.999999</td>\n      <td>0.999999</td>\n      <td>0.999999</td>\n    </tr>\n    <tr>\n      <th>f</th>\n      <td>1.000000</td>\n      <td>1.000000</td>\n      <td>1.000000</td>\n      <td>1.000000</td>\n      <td>1.000000</td>\n      <td>1.000000</td>\n      <td>1.000000</td>\n      <td>1.0</td>\n      <td>1.0</td>\n      <td>1.0</td>\n      <td>1.0</td>\n      <td>1.0</td>\n      <td>1.000000</td>\n      <td>1.000000</td>\n      <td>1.000000</td>\n      <td>1.000000</td>\n      <td>1.000000</td>\n      <td>1.000000</td>\n      <td>0.999999</td>\n      <td>0.999999</td>\n    </tr>\n    <tr>\n      <th>g</th>\n      <td>1.000000</td>\n      <td>1.000000</td>\n      <td>1.000000</td>\n      <td>1.000000</td>\n      <td>1.000000</td>\n      <td>1.000000</td>\n      <td>1.000000</td>\n      <td>1.0</td>\n      <td>1.0</td>\n      <td>1.0</td>\n      <td>1.0</td>\n      <td>1.0</td>\n      <td>1.000000</td>\n      <td>1.000000</td>\n      <td>1.000000</td>\n      <td>1.000000</td>\n      <td>1.000000</td>\n      <td>1.000000</td>\n      <td>1.000000</td>\n      <td>0.999999</td>\n    </tr>\n    <tr>\n      <th>h</th>\n      <td>1.000000</td>\n      <td>1.000000</td>\n      <td>1.000000</td>\n      <td>1.000000</td>\n      <td>1.000000</td>\n      <td>1.000000</td>\n      <td>1.000000</td>\n      <td>1.0</td>\n      <td>1.0</td>\n      <td>1.0</td>\n      <td>1.0</td>\n      <td>1.0</td>\n      <td>1.000000</td>\n      <td>1.000000</td>\n      <td>1.000000</td>\n      <td>1.000000</td>\n      <td>1.000000</td>\n      <td>1.000000</td>\n      <td>1.000000</td>\n      <td>1.000000</td>\n    </tr>\n    <tr>\n      <th>i</th>\n      <td>1.000000</td>\n      <td>1.000000</td>\n      <td>1.000000</td>\n      <td>1.000000</td>\n      <td>1.000000</td>\n      <td>1.000000</td>\n      <td>1.000000</td>\n      <td>1.0</td>\n      <td>1.0</td>\n      <td>1.0</td>\n      <td>1.0</td>\n      <td>1.0</td>\n      <td>1.000000</td>\n      <td>1.000000</td>\n      <td>1.000000</td>\n      <td>1.000000</td>\n      <td>1.000000</td>\n      <td>1.000000</td>\n      <td>1.000000</td>\n      <td>1.000000</td>\n    </tr>\n    <tr>\n      <th>j</th>\n      <td>1.000000</td>\n      <td>1.000000</td>\n      <td>1.000000</td>\n      <td>1.000000</td>\n      <td>1.000000</td>\n      <td>1.000000</td>\n      <td>1.000000</td>\n      <td>1.0</td>\n      <td>1.0</td>\n      <td>1.0</td>\n      <td>1.0</td>\n      <td>1.0</td>\n      <td>1.000000</td>\n      <td>1.000000</td>\n      <td>1.000000</td>\n      <td>1.000000</td>\n      <td>1.000000</td>\n      <td>1.000000</td>\n      <td>1.000000</td>\n      <td>1.000000</td>\n    </tr>\n    <tr>\n      <th>k</th>\n      <td>1.000000</td>\n      <td>1.000000</td>\n      <td>1.000000</td>\n      <td>1.000000</td>\n      <td>1.000000</td>\n      <td>1.000000</td>\n      <td>1.000000</td>\n      <td>1.0</td>\n      <td>1.0</td>\n      <td>1.0</td>\n      <td>1.0</td>\n      <td>1.0</td>\n      <td>1.000000</td>\n      <td>1.000000</td>\n      <td>1.000000</td>\n      <td>1.000000</td>\n      <td>1.000000</td>\n      <td>1.000000</td>\n      <td>1.000000</td>\n      <td>1.000000</td>\n    </tr>\n    <tr>\n      <th>l</th>\n      <td>1.000000</td>\n      <td>1.000000</td>\n      <td>1.000000</td>\n      <td>1.000000</td>\n      <td>1.000000</td>\n      <td>1.000000</td>\n      <td>1.000000</td>\n      <td>1.0</td>\n      <td>1.0</td>\n      <td>1.0</td>\n      <td>1.0</td>\n      <td>1.0</td>\n      <td>1.000000</td>\n      <td>1.000000</td>\n      <td>1.000000</td>\n      <td>1.000000</td>\n      <td>1.000000</td>\n      <td>1.000000</td>\n      <td>1.000000</td>\n      <td>1.000000</td>\n    </tr>\n    <tr>\n      <th>m</th>\n      <td>0.999999</td>\n      <td>1.000000</td>\n      <td>1.000000</td>\n      <td>1.000000</td>\n      <td>1.000000</td>\n      <td>1.000000</td>\n      <td>1.000000</td>\n      <td>1.0</td>\n      <td>1.0</td>\n      <td>1.0</td>\n      <td>1.0</td>\n      <td>1.0</td>\n      <td>1.000000</td>\n      <td>1.000000</td>\n      <td>1.000000</td>\n      <td>1.000000</td>\n      <td>1.000000</td>\n      <td>1.000000</td>\n      <td>1.000000</td>\n      <td>1.000000</td>\n    </tr>\n    <tr>\n      <th>n</th>\n      <td>0.999999</td>\n      <td>0.999999</td>\n      <td>1.000000</td>\n      <td>1.000000</td>\n      <td>1.000000</td>\n      <td>1.000000</td>\n      <td>1.000000</td>\n      <td>1.0</td>\n      <td>1.0</td>\n      <td>1.0</td>\n      <td>1.0</td>\n      <td>1.0</td>\n      <td>1.000000</td>\n      <td>1.000000</td>\n      <td>1.000000</td>\n      <td>1.000000</td>\n      <td>1.000000</td>\n      <td>1.000000</td>\n      <td>1.000000</td>\n      <td>1.000000</td>\n    </tr>\n    <tr>\n      <th>o</th>\n      <td>0.999999</td>\n      <td>0.999999</td>\n      <td>0.999999</td>\n      <td>1.000000</td>\n      <td>1.000000</td>\n      <td>1.000000</td>\n      <td>1.000000</td>\n      <td>1.0</td>\n      <td>1.0</td>\n      <td>1.0</td>\n      <td>1.0</td>\n      <td>1.0</td>\n      <td>1.000000</td>\n      <td>1.000000</td>\n      <td>1.000000</td>\n      <td>1.000000</td>\n      <td>1.000000</td>\n      <td>1.000000</td>\n      <td>1.000000</td>\n      <td>1.000000</td>\n    </tr>\n    <tr>\n      <th>p</th>\n      <td>0.999999</td>\n      <td>0.999999</td>\n      <td>0.999999</td>\n      <td>0.999999</td>\n      <td>1.000000</td>\n      <td>1.000000</td>\n      <td>1.000000</td>\n      <td>1.0</td>\n      <td>1.0</td>\n      <td>1.0</td>\n      <td>1.0</td>\n      <td>1.0</td>\n      <td>1.000000</td>\n      <td>1.000000</td>\n      <td>1.000000</td>\n      <td>1.000000</td>\n      <td>1.000000</td>\n      <td>1.000000</td>\n      <td>1.000000</td>\n      <td>1.000000</td>\n    </tr>\n    <tr>\n      <th>q</th>\n      <td>0.999999</td>\n      <td>0.999999</td>\n      <td>0.999999</td>\n      <td>0.999999</td>\n      <td>0.999999</td>\n      <td>1.000000</td>\n      <td>1.000000</td>\n      <td>1.0</td>\n      <td>1.0</td>\n      <td>1.0</td>\n      <td>1.0</td>\n      <td>1.0</td>\n      <td>1.000000</td>\n      <td>1.000000</td>\n      <td>1.000000</td>\n      <td>1.000000</td>\n      <td>1.000000</td>\n      <td>1.000000</td>\n      <td>1.000000</td>\n      <td>1.000000</td>\n    </tr>\n    <tr>\n      <th>r</th>\n      <td>0.999999</td>\n      <td>0.999999</td>\n      <td>0.999999</td>\n      <td>0.999999</td>\n      <td>0.999999</td>\n      <td>1.000000</td>\n      <td>1.000000</td>\n      <td>1.0</td>\n      <td>1.0</td>\n      <td>1.0</td>\n      <td>1.0</td>\n      <td>1.0</td>\n      <td>1.000000</td>\n      <td>1.000000</td>\n      <td>1.000000</td>\n      <td>1.000000</td>\n      <td>1.000000</td>\n      <td>1.000000</td>\n      <td>1.000000</td>\n      <td>1.000000</td>\n    </tr>\n    <tr>\n      <th>s</th>\n      <td>0.999999</td>\n      <td>0.999999</td>\n      <td>0.999999</td>\n      <td>0.999999</td>\n      <td>0.999999</td>\n      <td>0.999999</td>\n      <td>1.000000</td>\n      <td>1.0</td>\n      <td>1.0</td>\n      <td>1.0</td>\n      <td>1.0</td>\n      <td>1.0</td>\n      <td>1.000000</td>\n      <td>1.000000</td>\n      <td>1.000000</td>\n      <td>1.000000</td>\n      <td>1.000000</td>\n      <td>1.000000</td>\n      <td>1.000000</td>\n      <td>1.000000</td>\n    </tr>\n    <tr>\n      <th>t</th>\n      <td>0.999999</td>\n      <td>0.999999</td>\n      <td>0.999999</td>\n      <td>0.999999</td>\n      <td>0.999999</td>\n      <td>0.999999</td>\n      <td>0.999999</td>\n      <td>1.0</td>\n      <td>1.0</td>\n      <td>1.0</td>\n      <td>1.0</td>\n      <td>1.0</td>\n      <td>1.000000</td>\n      <td>1.000000</td>\n      <td>1.000000</td>\n      <td>1.000000</td>\n      <td>1.000000</td>\n      <td>1.000000</td>\n      <td>1.000000</td>\n      <td>1.000000</td>\n    </tr>\n  </tbody>\n</table>\n</div>",
      "text/plain": "          a         b         c         d         e         f         g    h  \\\na  1.000000  1.000000  1.000000  1.000000  1.000000  1.000000  1.000000  1.0   \nb  1.000000  1.000000  1.000000  1.000000  1.000000  1.000000  1.000000  1.0   \nc  1.000000  1.000000  1.000000  1.000000  1.000000  1.000000  1.000000  1.0   \nd  1.000000  1.000000  1.000000  1.000000  1.000000  1.000000  1.000000  1.0   \ne  1.000000  1.000000  1.000000  1.000000  1.000000  1.000000  1.000000  1.0   \nf  1.000000  1.000000  1.000000  1.000000  1.000000  1.000000  1.000000  1.0   \ng  1.000000  1.000000  1.000000  1.000000  1.000000  1.000000  1.000000  1.0   \nh  1.000000  1.000000  1.000000  1.000000  1.000000  1.000000  1.000000  1.0   \ni  1.000000  1.000000  1.000000  1.000000  1.000000  1.000000  1.000000  1.0   \nj  1.000000  1.000000  1.000000  1.000000  1.000000  1.000000  1.000000  1.0   \nk  1.000000  1.000000  1.000000  1.000000  1.000000  1.000000  1.000000  1.0   \nl  1.000000  1.000000  1.000000  1.000000  1.000000  1.000000  1.000000  1.0   \nm  0.999999  1.000000  1.000000  1.000000  1.000000  1.000000  1.000000  1.0   \nn  0.999999  0.999999  1.000000  1.000000  1.000000  1.000000  1.000000  1.0   \no  0.999999  0.999999  0.999999  1.000000  1.000000  1.000000  1.000000  1.0   \np  0.999999  0.999999  0.999999  0.999999  1.000000  1.000000  1.000000  1.0   \nq  0.999999  0.999999  0.999999  0.999999  0.999999  1.000000  1.000000  1.0   \nr  0.999999  0.999999  0.999999  0.999999  0.999999  1.000000  1.000000  1.0   \ns  0.999999  0.999999  0.999999  0.999999  0.999999  0.999999  1.000000  1.0   \nt  0.999999  0.999999  0.999999  0.999999  0.999999  0.999999  0.999999  1.0   \n\n     i    j    k    l         m         n         o         p         q  \\\na  1.0  1.0  1.0  1.0  0.999999  0.999999  0.999999  0.999999  0.999999   \nb  1.0  1.0  1.0  1.0  1.000000  0.999999  0.999999  0.999999  0.999999   \nc  1.0  1.0  1.0  1.0  1.000000  1.000000  0.999999  0.999999  0.999999   \nd  1.0  1.0  1.0  1.0  1.000000  1.000000  1.000000  0.999999  0.999999   \ne  1.0  1.0  1.0  1.0  1.000000  1.000000  1.000000  1.000000  0.999999   \nf  1.0  1.0  1.0  1.0  1.000000  1.000000  1.000000  1.000000  1.000000   \ng  1.0  1.0  1.0  1.0  1.000000  1.000000  1.000000  1.000000  1.000000   \nh  1.0  1.0  1.0  1.0  1.000000  1.000000  1.000000  1.000000  1.000000   \ni  1.0  1.0  1.0  1.0  1.000000  1.000000  1.000000  1.000000  1.000000   \nj  1.0  1.0  1.0  1.0  1.000000  1.000000  1.000000  1.000000  1.000000   \nk  1.0  1.0  1.0  1.0  1.000000  1.000000  1.000000  1.000000  1.000000   \nl  1.0  1.0  1.0  1.0  1.000000  1.000000  1.000000  1.000000  1.000000   \nm  1.0  1.0  1.0  1.0  1.000000  1.000000  1.000000  1.000000  1.000000   \nn  1.0  1.0  1.0  1.0  1.000000  1.000000  1.000000  1.000000  1.000000   \no  1.0  1.0  1.0  1.0  1.000000  1.000000  1.000000  1.000000  1.000000   \np  1.0  1.0  1.0  1.0  1.000000  1.000000  1.000000  1.000000  1.000000   \nq  1.0  1.0  1.0  1.0  1.000000  1.000000  1.000000  1.000000  1.000000   \nr  1.0  1.0  1.0  1.0  1.000000  1.000000  1.000000  1.000000  1.000000   \ns  1.0  1.0  1.0  1.0  1.000000  1.000000  1.000000  1.000000  1.000000   \nt  1.0  1.0  1.0  1.0  1.000000  1.000000  1.000000  1.000000  1.000000   \n\n          r         s         t  \na  0.999999  0.999999  0.999999  \nb  0.999999  0.999999  0.999999  \nc  0.999999  0.999999  0.999999  \nd  0.999999  0.999999  0.999999  \ne  0.999999  0.999999  0.999999  \nf  1.000000  0.999999  0.999999  \ng  1.000000  1.000000  0.999999  \nh  1.000000  1.000000  1.000000  \ni  1.000000  1.000000  1.000000  \nj  1.000000  1.000000  1.000000  \nk  1.000000  1.000000  1.000000  \nl  1.000000  1.000000  1.000000  \nm  1.000000  1.000000  1.000000  \nn  1.000000  1.000000  1.000000  \no  1.000000  1.000000  1.000000  \np  1.000000  1.000000  1.000000  \nq  1.000000  1.000000  1.000000  \nr  1.000000  1.000000  1.000000  \ns  1.000000  1.000000  1.000000  \nt  1.000000  1.000000  1.000000  "
     },
     "execution_count": 61,
     "metadata": {},
     "output_type": "execute_result"
    }
   ],
   "source": [
    "# To find the correlation between all the columns with respect to each other\n",
    "a.corr()"
   ]
  },
  {
   "cell_type": "code",
   "execution_count": 62,
   "metadata": {},
   "outputs": [
    {
     "data": {
      "text/plain": "0.9999989885618293"
     },
     "execution_count": 62,
     "metadata": {},
     "output_type": "execute_result"
    }
   ],
   "source": [
    "#To find the correlation between two columns : column 1 and column 18,\n",
    "a.a.corr(a.r)"
   ]
  },
  {
   "cell_type": "code",
   "execution_count": 63,
   "metadata": {},
   "outputs": [
    {
     "data": {
      "text/plain": "a    0.999999\nb    0.999999\nc    0.999999\nd    1.000000\ne    1.000000\nf    1.000000\ng    1.000000\nh    1.000000\ni    1.000000\nj    1.000000\nk    1.000000\nl    1.000000\nm    1.000000\nn    1.000000\no    1.000000\np    1.000000\nq    1.000000\nr    1.000000\ns    1.000000\nt    1.000000\ndtype: float64"
     },
     "execution_count": 63,
     "metadata": {},
     "output_type": "execute_result"
    }
   ],
   "source": [
    "# To find the correlation of a column 'o' and the rest of the columns,\n",
    "a.corrwith(a.o)"
   ]
  },
  {
   "cell_type": "code",
   "execution_count": 64,
   "metadata": {},
   "outputs": [
    {
     "data": {
      "text/plain": "a   -0.835013\nb    0.798879\nc   -0.225149\nd         NaN\ne         NaN\nf         NaN\ng         NaN\nh         NaN\ni         NaN\nj         NaN\nk         NaN\nl         NaN\nm         NaN\nn         NaN\no         NaN\np         NaN\nq         NaN\nr         NaN\ns         NaN\nt         NaN\ndtype: float64"
     },
     "execution_count": 64,
     "metadata": {},
     "output_type": "execute_result"
    }
   ],
   "source": [
    "# you can even find the correlation between two different dataframes\n",
    "a.corrwith(d4)"
   ]
  },
  {
   "cell_type": "markdown",
   "metadata": {},
   "source": [
    "Lets talk a little about Panels"
   ]
  },
  {
   "cell_type": "code",
   "execution_count": 65,
   "metadata": {},
   "outputs": [],
   "source": [
    "frame2 = pd.DataFrame({'A': [1000, 1200, 1300, 1250, 1400, 1000, 1200, 1300, 1250, 1400, 5000, 3000],\n",
    "                       'B': [200, 210, 220, 230, 250, 270, 240, 270, 200, 3000, 700, 1000],\n",
    "                       'C': [1, 2, 3, 2, 1, 4, 4, 5, 100, 60, 7, 7]},\n",
    "                      index=np.arange(12))\n",
    "frame3 = pd.DataFrame(np.arange(36).reshape(12, 3), columns=list('DEF'))\n",
    "frame4 = pd.DataFrame(np.random.randn(12, 3), columns=list('GHI'))"
   ]
  },
  {
   "cell_type": "code",
   "execution_count": 66,
   "metadata": {},
   "outputs": [
    {
     "name": "stderr",
     "output_type": "stream",
     "text": "C:\\Users\\Bunmi\\Anaconda3-2019\\lib\\site-packages\\IPython\\core\\interactiveshell.py:3325: FutureWarning: \nPanel is deprecated and will be removed in a future version.\nThe recommended way to represent these types of 3-dimensional data are with a MultiIndex on a DataFrame, via the Panel.to_frame() method\nAlternatively, you can use the xarray package http://xarray.pydata.org/en/stable/.\nPandas provides a `.to_xarray()` method to help automate this conversion.\n\n  exec(code_obj, self.user_global_ns, self.user_ns)\nC:\\Users\\Bunmi\\Anaconda3-2019\\lib\\site-packages\\pandas\\core\\panel.py:155: FutureWarning: Sorting because non-concatenation axis is not aligned. A future version\nof pandas will change to not sort by default.\n\nTo accept the future behavior, pass 'sort=False'.\n\nTo retain the current behavior and silence the warning, pass 'sort=True'.\n\n  minor_axis=minor_axis, copy=copy, dtype=dtype)\n"
    },
    {
     "data": {
      "text/plain": "<class 'pandas.core.panel.Panel'>\nDimensions: 3 (items) x 12 (major_axis) x 9 (minor_axis)\nItems axis: frame1 to frame3\nMajor_axis axis: 0 to 11\nMinor_axis axis: A to I"
     },
     "execution_count": 66,
     "metadata": {},
     "output_type": "execute_result"
    }
   ],
   "source": [
    "panel_1 = pd.Panel({'frame1':frame2, 'frame2':frame3, 'frame3':frame4})\n",
    "panel_1"
   ]
  },
  {
   "cell_type": "markdown",
   "metadata": {},
   "source": [
    "Idioms in Pandas"
   ]
  },
  {
   "cell_type": "code",
   "execution_count": 67,
   "metadata": {},
   "outputs": [
    {
     "data": {
      "text/html": "<div>\n<style scoped>\n    .dataframe tbody tr th:only-of-type {\n        vertical-align: middle;\n    }\n\n    .dataframe tbody tr th {\n        vertical-align: top;\n    }\n\n    .dataframe thead th {\n        text-align: right;\n    }\n</style>\n<table border=\"1\" class=\"dataframe\">\n  <thead>\n    <tr style=\"text-align: right;\">\n      <th></th>\n      <th>AAA</th>\n      <th>BBB</th>\n      <th>CCC</th>\n    </tr>\n  </thead>\n  <tbody>\n    <tr>\n      <th>0</th>\n      <td>4</td>\n      <td>10</td>\n      <td>100</td>\n    </tr>\n    <tr>\n      <th>1</th>\n      <td>5</td>\n      <td>20</td>\n      <td>50</td>\n    </tr>\n    <tr>\n      <th>2</th>\n      <td>6</td>\n      <td>30</td>\n      <td>-30</td>\n    </tr>\n    <tr>\n      <th>3</th>\n      <td>7</td>\n      <td>40</td>\n      <td>-50</td>\n    </tr>\n  </tbody>\n</table>\n</div>",
      "text/plain": "   AAA  BBB  CCC\n0    4   10  100\n1    5   20   50\n2    6   30  -30\n3    7   40  -50"
     },
     "execution_count": 67,
     "metadata": {},
     "output_type": "execute_result"
    }
   ],
   "source": [
    "# I am assuming you guys are familiar with python dictionaries well\n",
    "# Lets create a dataframe to work with\n",
    "df = pd.DataFrame({'AAA' : [4,5,6,7], 'BBB' : [10,20,30,40],'CCC' : [100,50,-30,-50]})\n",
    "df"
   ]
  },
  {
   "cell_type": "code",
   "execution_count": 68,
   "metadata": {},
   "outputs": [
    {
     "name": "stderr",
     "output_type": "stream",
     "text": "C:\\Users\\Bunmi\\Anaconda3-2019\\lib\\site-packages\\ipykernel_launcher.py:2: DeprecationWarning: \n.ix is deprecated. Please use\n.loc for label based indexing or\n.iloc for positional indexing\n\nSee the documentation here:\nhttp://pandas.pydata.org/pandas-docs/stable/indexing.html#ix-indexer-is-deprecated\n  \n"
    },
    {
     "data": {
      "text/html": "<div>\n<style scoped>\n    .dataframe tbody tr th:only-of-type {\n        vertical-align: middle;\n    }\n\n    .dataframe tbody tr th {\n        vertical-align: top;\n    }\n\n    .dataframe thead th {\n        text-align: right;\n    }\n</style>\n<table border=\"1\" class=\"dataframe\">\n  <thead>\n    <tr style=\"text-align: right;\">\n      <th></th>\n      <th>AAA</th>\n      <th>BBB</th>\n      <th>CCC</th>\n    </tr>\n  </thead>\n  <tbody>\n    <tr>\n      <th>0</th>\n      <td>4</td>\n      <td>10</td>\n      <td>100</td>\n    </tr>\n    <tr>\n      <th>1</th>\n      <td>5</td>\n      <td>-1</td>\n      <td>50</td>\n    </tr>\n    <tr>\n      <th>2</th>\n      <td>6</td>\n      <td>-1</td>\n      <td>-30</td>\n    </tr>\n    <tr>\n      <th>3</th>\n      <td>7</td>\n      <td>-1</td>\n      <td>-50</td>\n    </tr>\n  </tbody>\n</table>\n</div>",
      "text/plain": "   AAA  BBB  CCC\n0    4   10  100\n1    5   -1   50\n2    6   -1  -30\n3    7   -1  -50"
     },
     "execution_count": 68,
     "metadata": {},
     "output_type": "execute_result"
    }
   ],
   "source": [
    "# an if-then statement on a column\n",
    "df.ix[df.AAA >= 5, 'BBB'] = -1\n",
    "df"
   ]
  },
  {
   "cell_type": "code",
   "execution_count": 69,
   "metadata": {},
   "outputs": [
    {
     "name": "stderr",
     "output_type": "stream",
     "text": "C:\\Users\\Bunmi\\Anaconda3-2019\\lib\\site-packages\\ipykernel_launcher.py:2: DeprecationWarning: \n.ix is deprecated. Please use\n.loc for label based indexing or\n.iloc for positional indexing\n\nSee the documentation here:\nhttp://pandas.pydata.org/pandas-docs/stable/indexing.html#ix-indexer-is-deprecated\n  \n"
    },
    {
     "data": {
      "text/html": "<div>\n<style scoped>\n    .dataframe tbody tr th:only-of-type {\n        vertical-align: middle;\n    }\n\n    .dataframe tbody tr th {\n        vertical-align: top;\n    }\n\n    .dataframe thead th {\n        text-align: right;\n    }\n</style>\n<table border=\"1\" class=\"dataframe\">\n  <thead>\n    <tr style=\"text-align: right;\">\n      <th></th>\n      <th>AAA</th>\n      <th>BBB</th>\n      <th>CCC</th>\n    </tr>\n  </thead>\n  <tbody>\n    <tr>\n      <th>0</th>\n      <td>4</td>\n      <td>10</td>\n      <td>100</td>\n    </tr>\n    <tr>\n      <th>1</th>\n      <td>5</td>\n      <td>555</td>\n      <td>555</td>\n    </tr>\n    <tr>\n      <th>2</th>\n      <td>6</td>\n      <td>555</td>\n      <td>555</td>\n    </tr>\n    <tr>\n      <th>3</th>\n      <td>7</td>\n      <td>555</td>\n      <td>555</td>\n    </tr>\n  </tbody>\n</table>\n</div>",
      "text/plain": "   AAA  BBB  CCC\n0    4   10  100\n1    5  555  555\n2    6  555  555\n3    7  555  555"
     },
     "execution_count": 69,
     "metadata": {},
     "output_type": "execute_result"
    }
   ],
   "source": [
    "# an if-then to two columns\n",
    "df.ix[df.AAA >= 5, ['BBB', 'CCC']] = 555\n",
    "df"
   ]
  },
  {
   "cell_type": "code",
   "execution_count": 70,
   "metadata": {},
   "outputs": [
    {
     "data": {
      "text/html": "<div>\n<style scoped>\n    .dataframe tbody tr th:only-of-type {\n        vertical-align: middle;\n    }\n\n    .dataframe tbody tr th {\n        vertical-align: top;\n    }\n\n    .dataframe thead th {\n        text-align: right;\n    }\n</style>\n<table border=\"1\" class=\"dataframe\">\n  <thead>\n    <tr style=\"text-align: right;\">\n      <th></th>\n      <th>AAA</th>\n      <th>BBB</th>\n      <th>CCC</th>\n    </tr>\n  </thead>\n  <tbody>\n    <tr>\n      <th>0</th>\n      <td>4</td>\n      <td>-200</td>\n      <td>100</td>\n    </tr>\n    <tr>\n      <th>1</th>\n      <td>5</td>\n      <td>-200</td>\n      <td>-200</td>\n    </tr>\n    <tr>\n      <th>2</th>\n      <td>6</td>\n      <td>-200</td>\n      <td>555</td>\n    </tr>\n    <tr>\n      <th>3</th>\n      <td>7</td>\n      <td>-200</td>\n      <td>-200</td>\n    </tr>\n  </tbody>\n</table>\n</div>",
      "text/plain": "   AAA  BBB  CCC\n0    4 -200  100\n1    5 -200 -200\n2    6 -200  555\n3    7 -200 -200"
     },
     "execution_count": 70,
     "metadata": {},
     "output_type": "execute_result"
    }
   ],
   "source": [
    "# or you can use a pandas mask\n",
    "df_mask = pd.DataFrame({'AAA' : [True]*4, 'BBB':[False]*4, 'CCC':[True, False]*2})\n",
    "df.where(df_mask, -200)"
   ]
  },
  {
   "cell_type": "code",
   "execution_count": 71,
   "metadata": {},
   "outputs": [
    {
     "data": {
      "text/html": "<div>\n<style scoped>\n    .dataframe tbody tr th:only-of-type {\n        vertical-align: middle;\n    }\n\n    .dataframe tbody tr th {\n        vertical-align: top;\n    }\n\n    .dataframe thead th {\n        text-align: right;\n    }\n</style>\n<table border=\"1\" class=\"dataframe\">\n  <thead>\n    <tr style=\"text-align: right;\">\n      <th></th>\n      <th>AAA</th>\n      <th>BBB</th>\n      <th>CCC</th>\n    </tr>\n  </thead>\n  <tbody>\n    <tr>\n      <th>0</th>\n      <td>4</td>\n      <td>10</td>\n      <td>100</td>\n    </tr>\n    <tr>\n      <th>1</th>\n      <td>5</td>\n      <td>20</td>\n      <td>50</td>\n    </tr>\n    <tr>\n      <th>2</th>\n      <td>6</td>\n      <td>30</td>\n      <td>-30</td>\n    </tr>\n    <tr>\n      <th>3</th>\n      <td>7</td>\n      <td>40</td>\n      <td>-50</td>\n    </tr>\n  </tbody>\n</table>\n</div>",
      "text/plain": "   AAA  BBB  CCC\n0    4   10  100\n1    5   20   50\n2    6   30  -30\n3    7   40  -50"
     },
     "execution_count": 71,
     "metadata": {},
     "output_type": "execute_result"
    }
   ],
   "source": [
    "df = pd.DataFrame({'AAA' : [4,5,6,7], 'BBB' : [10,20,30,40],'CCC' : [100,50,-30,-50]})\n",
    "df"
   ]
  },
  {
   "cell_type": "code",
   "execution_count": 72,
   "metadata": {},
   "outputs": [
    {
     "data": {
      "text/html": "<div>\n<style scoped>\n    .dataframe tbody tr th:only-of-type {\n        vertical-align: middle;\n    }\n\n    .dataframe tbody tr th {\n        vertical-align: top;\n    }\n\n    .dataframe thead th {\n        text-align: right;\n    }\n</style>\n<table border=\"1\" class=\"dataframe\">\n  <thead>\n    <tr style=\"text-align: right;\">\n      <th></th>\n      <th>AAA</th>\n      <th>BBB</th>\n      <th>CCC</th>\n      <th>new</th>\n    </tr>\n  </thead>\n  <tbody>\n    <tr>\n      <th>0</th>\n      <td>4</td>\n      <td>10</td>\n      <td>100</td>\n      <td>low</td>\n    </tr>\n    <tr>\n      <th>1</th>\n      <td>5</td>\n      <td>20</td>\n      <td>50</td>\n      <td>low</td>\n    </tr>\n    <tr>\n      <th>2</th>\n      <td>6</td>\n      <td>30</td>\n      <td>-30</td>\n      <td>high</td>\n    </tr>\n    <tr>\n      <th>3</th>\n      <td>7</td>\n      <td>40</td>\n      <td>-50</td>\n      <td>high</td>\n    </tr>\n  </tbody>\n</table>\n</div>",
      "text/plain": "   AAA  BBB  CCC   new\n0    4   10  100   low\n1    5   20   50   low\n2    6   30  -30  high\n3    7   40  -50  high"
     },
     "execution_count": 72,
     "metadata": {},
     "output_type": "execute_result"
    }
   ],
   "source": [
    "# or you can create a new column based on a particular column in the dataframe\n",
    "df['new']=np.where(df['BBB']> 20, 'high', 'low')\n",
    "df\n",
    "# same as an if-else statement only that we use numpy function np.where()"
   ]
  },
  {
   "cell_type": "code",
   "execution_count": 73,
   "metadata": {},
   "outputs": [],
   "source": [
    "df.loc[(df['BBB'] > 25) | (df['CCC'] >= 75), 'AAA'] = 0.1"
   ]
  },
  {
   "cell_type": "code",
   "execution_count": 80,
   "metadata": {},
   "outputs": [],
   "source": [
    " #rank isalsoaDataFramemethodandcanrankeithertherows(axis=0)orthecolumns(axis=1). NaN valuesare excluded from the ranking.\n",
    "\n",
    " \n",
    " s = pd.Series(np.random.np.random.randn(5), index=list('abcde'))"
   ]
  },
  {
   "cell_type": "code",
   "execution_count": 81,
   "metadata": {},
   "outputs": [],
   "source": [
    "s['d'] = s['b'] # so there's a tie"
   ]
  },
  {
   "cell_type": "code",
   "execution_count": 82,
   "metadata": {},
   "outputs": [
    {
     "data": {
      "text/plain": "a    4.0\nb    2.5\nc    1.0\nd    2.5\ne    5.0\ndtype: float64"
     },
     "execution_count": 82,
     "metadata": {},
     "output_type": "execute_result"
    }
   ],
   "source": [
    "s.rank() "
   ]
  },
  {
   "cell_type": "markdown",
   "execution_count": null,
   "metadata": {},
   "outputs": [],
   "source": [
    "Assignments\n",
    "\n",
    "\n",
    "1. Using the students dataset above, \n",
    "\n",
    "    a. . Give the students with the 2nd to 6th position in class\n",
    "\n",
    "    b. If a new student is added to the class, what will be the total mark for that student in each course if the mean of each course increases by 5%\n",
    "\n",
    "    c. Give the rank of each student from the highest to the lowest\n",
    "\n",
    "    d. Write a python function that gives the top three students in the class for any class given\n",
    "\n",
    "2. Create a dataframe of 10 columns having 100 rows\n",
    "\n",
    "    a. create a subset of the dataframe (also a dataframe) with values from the 35th to 78th position\n",
    "\n",
    "    b. for each item in the subset that is grater than 60, repalce with 0\n",
    "\n",
    "    c. what is the maximum correlation each column can have with the other (apart from itself)\n"
   ]
  },
  {
   "cell_type": "markdown",
   "execution_count": null,
   "metadata": {},
   "outputs": [],
   "source": [
    "Thank you for participating!\n",
    "\n",
    "If you have any questions, see me after the class\n",
    "\n",
    "Good day!"
   ]
  },
  {
   "cell_type": "code",
   "execution_count": null,
   "metadata": {},
   "outputs": [],
   "source": []
  }
 ],
 "metadata": {
  "kernelspec": {
   "display_name": "Python 3",
   "language": "python",
   "name": "python3"
  },
  "language_info": {
   "codemirror_mode": {
    "name": "ipython",
    "version": 3
   },
   "file_extension": ".py",
   "mimetype": "text/x-python",
   "name": "python",
   "nbconvert_exporter": "python",
   "pygments_lexer": "ipython3",
   "version": "3.7.3-final"
  }
 },
 "nbformat": 4,
 "nbformat_minor": 2
}