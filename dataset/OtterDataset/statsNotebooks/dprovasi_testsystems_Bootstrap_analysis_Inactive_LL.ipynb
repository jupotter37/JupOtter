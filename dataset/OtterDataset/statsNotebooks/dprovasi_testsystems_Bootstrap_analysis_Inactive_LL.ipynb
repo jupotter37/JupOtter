{
 "cells": [
  {
   "cell_type": "markdown",
   "metadata": {
    "hide_input": false
   },
   "source": [
    "# Bootstrap analysis: LL Inactive interface\n",
    "Analysis of the TRAM runs on the bootstrap samples for convergence calculation "
   ]
  },
  {
   "cell_type": "markdown",
   "metadata": {
    "heading_collapsed": true
   },
   "source": [
    "## Do analysis"
   ]
  },
  {
   "cell_type": "code",
   "execution_count": 1,
   "metadata": {
    "collapsed": false,
    "hidden": true,
    "hide_input": false
   },
   "outputs": [
    {
     "data": {
      "text/plain": [
       "u'2.2.7'"
      ]
     },
     "execution_count": 1,
     "metadata": {},
     "output_type": "execute_result"
    }
   ],
   "source": [
    "import numpy as np\n",
    "import pickle\n",
    "import pyemma\n",
    "import datetime \n",
    "import sys,os,re\n",
    "import pandas as pd\n",
    "pyemma.__version__"
   ]
  },
  {
   "cell_type": "markdown",
   "metadata": {
    "heading_collapsed": true,
    "hidden": true
   },
   "source": [
    "### Read file list"
   ]
  },
  {
   "cell_type": "code",
   "execution_count": 2,
   "metadata": {
    "collapsed": false,
    "hidden": true
   },
   "outputs": [],
   "source": [
    "base_dir = '/sc/orga/scratch/pradad01/TRAM/Inactive/'\n",
    "dir = base_dir+'Errors/LL/'\n",
    "\n",
    "## get the list of all MSM models in this folder [fraction]/[sampleID]/MSM.pck\n",
    "file_list = []\n",
    "for root,dirs,files in os.walk(dir):\n",
    "        for f in files:\n",
    "            subdir=root.replace(dir, '')\n",
    "            if re.search(\"MSM.pck$\",f):\n",
    "                name=root+'/'+f\n",
    "                fraction,replica=re.search(\"([0-9]+)/([0-9]+)\",subdir).group(1,2)\n",
    "                ## convert fraction and replica to int for proper ordering of the results\n",
    "                file_list.append((int(fraction),int(replica),name))\n",
    "\n",
    "df=pd.DataFrame(file_list,columns=['fraction','replica','file'])\n",
    "#df"
   ]
  },
  {
   "cell_type": "markdown",
   "metadata": {
    "heading_collapsed": true,
    "hidden": true
   },
   "source": [
    "### Calculate MFPT from bulk to non-bulk in all models"
   ]
  },
  {
   "cell_type": "code",
   "execution_count": 3,
   "metadata": {
    "collapsed": false,
    "hidden": true
   },
   "outputs": [],
   "source": [
    "# add columns to store results\n",
    "df['mfpt_on_all'] = pd.Series( index=df.index)\n",
    "df['mfpt_off_all'] = pd.Series( index=df.index)"
   ]
  },
  {
   "cell_type": "markdown",
   "metadata": {
    "hidden": true
   },
   "source": [
    "#### statistics definition\n",
    "We define a simple statistics to evaluate convergence\n",
    "1. I use here the MFPT from the bulk to any other state **is this reasonable??**\n",
    "2. I always ask for 15 macrostates, irrespective of lambdas **is this reasonable??**\n",
    "2. also note that bulk is identified from largest component. **is this reasonable??**\n",
    "3. I'm not sure of active set indices below. please check!"
   ]
  },
  {
   "cell_type": "code",
   "execution_count": 4,
   "metadata": {
    "collapsed": false,
    "hidden": true
   },
   "outputs": [],
   "source": [
    "def get_simple_statistics(msm):\n",
    "\n",
    "    # we use 15 PCCA+ clusters as in Analysis_Inactive_LL.ipynb\n",
    "    pcca=pyemma.msm.PCCA(MSM.P,15)\n",
    "\n",
    "    ## find which macrostate contains more microstates, we assume this to be the bulk\n",
    "    #pop_macro=np.array([len(MSM.active_set[micro]) for i,micro in enumerate(pcca.metastable_sets)])\n",
    "    pop_macro2=np.array([len(micro) for i,micro in enumerate(pcca.metastable_sets)])\n",
    "    bulk_macro_ID = np.argmax(pop_macro2)\n",
    "    \n",
    "    ## be very careful with the active set indices here. DOUBLE CHECK!!\n",
    "    bulk_microstates = pcca.metastable_sets[bulk_macro_ID]\n",
    "    # nonbulk is all the rest (I hate python)\n",
    "    nonbulk_microstates = np.concatenate(pcca.metastable_sets[:bulk_macro_ID] + pcca.metastable_sets[(bulk_macro_ID+1):])\n",
    "    # start-end order\n",
    "    #bind_toanything_steps = MSM.mfpt(bulk_microstates, nonbulk_microstates)\n",
    "    bind_toanything_steps = MSM.mfpt(nonbulk_microstates, bulk_microstates)\n",
    "    unbind_fromanything_steps = MSM.mfpt(bulk_microstates,nonbulk_microstates)\n",
    "    \n",
    "    return bind_toanything_steps, unbind_fromanything_steps\n"
   ]
  },
  {
   "cell_type": "code",
   "execution_count": 5,
   "metadata": {
    "collapsed": false,
    "hidden": true
   },
   "outputs": [
    {
     "name": "stdout",
     "output_type": "stream",
     "text": [
      "/sc/orga/scratch/pradad01/TRAM/Inactive/Errors/LL/100/1/MSM.pck\n",
      "/sc/orga/scratch/pradad01/TRAM/Inactive/Errors/LL/100/2/MSM.pck\n",
      "/sc/orga/scratch/pradad01/TRAM/Inactive/Errors/LL/100/3/MSM.pck\n",
      "/sc/orga/scratch/pradad01/TRAM/Inactive/Errors/LL/100/4/MSM.pck\n",
      "/sc/orga/scratch/pradad01/TRAM/Inactive/Errors/LL/100/6/MSM.pck\n",
      "/sc/orga/scratch/pradad01/TRAM/Inactive/Errors/LL/90/1/MSM.pck\n",
      "/sc/orga/scratch/pradad01/TRAM/Inactive/Errors/LL/90/2/MSM.pck\n",
      "/sc/orga/scratch/pradad01/TRAM/Inactive/Errors/LL/90/3/MSM.pck\n",
      "/sc/orga/scratch/pradad01/TRAM/Inactive/Errors/LL/90/4/MSM.pck\n",
      "/sc/orga/scratch/pradad01/TRAM/Inactive/Errors/LL/90/5/MSM.pck\n",
      "/sc/orga/scratch/pradad01/TRAM/Inactive/Errors/LL/90/6/MSM.pck\n",
      "/sc/orga/scratch/pradad01/TRAM/Inactive/Errors/LL/80/1/MSM.pck\n",
      "/sc/orga/scratch/pradad01/TRAM/Inactive/Errors/LL/80/2/MSM.pck\n",
      "/sc/orga/scratch/pradad01/TRAM/Inactive/Errors/LL/80/3/MSM.pck\n",
      "/sc/orga/scratch/pradad01/TRAM/Inactive/Errors/LL/80/5/MSM.pck\n",
      "/sc/orga/scratch/pradad01/TRAM/Inactive/Errors/LL/80/6/MSM.pck\n",
      "/sc/orga/scratch/pradad01/TRAM/Inactive/Errors/LL/70/1/MSM.pck\n",
      "/sc/orga/scratch/pradad01/TRAM/Inactive/Errors/LL/70/2/MSM.pck\n",
      "/sc/orga/scratch/pradad01/TRAM/Inactive/Errors/LL/70/3/MSM.pck\n",
      "/sc/orga/scratch/pradad01/TRAM/Inactive/Errors/LL/70/4/MSM.pck\n",
      "/sc/orga/scratch/pradad01/TRAM/Inactive/Errors/LL/70/5/MSM.pck\n",
      "/sc/orga/scratch/pradad01/TRAM/Inactive/Errors/LL/70/6/MSM.pck\n",
      "/sc/orga/scratch/pradad01/TRAM/Inactive/Errors/LL/60/1/MSM.pck\n",
      "/sc/orga/scratch/pradad01/TRAM/Inactive/Errors/LL/60/2/MSM.pck\n",
      "/sc/orga/scratch/pradad01/TRAM/Inactive/Errors/LL/60/3/MSM.pck\n",
      "/sc/orga/scratch/pradad01/TRAM/Inactive/Errors/LL/60/4/MSM.pck\n",
      "/sc/orga/scratch/pradad01/TRAM/Inactive/Errors/LL/60/5/MSM.pck\n",
      "/sc/orga/scratch/pradad01/TRAM/Inactive/Errors/LL/60/6/MSM.pck\n"
     ]
    }
   ],
   "source": [
    "for i,file in enumerate(df['file']):\n",
    "    print(file)\n",
    "    MSM= pickle.load(open( file, \"rb\" ) )\n",
    "    MFPT_to, MFPT_from =get_simple_statistics(MSM)\n",
    "    #df['mfpt'][i]=MFPT\n",
    "    df.loc[i,('mfpt_on_all')]=MFPT_to\n",
    "    df.loc[i,('mfpt_off_all')]=MFPT_from\n",
    "        "
   ]
  },
  {
   "cell_type": "code",
   "execution_count": 6,
   "metadata": {
    "collapsed": false,
    "hidden": true,
    "scrolled": true
   },
   "outputs": [
    {
     "data": {
      "text/html": [
       "<div>\n",
       "<table border=\"1\" class=\"dataframe\">\n",
       "  <thead>\n",
       "    <tr style=\"text-align: right;\">\n",
       "      <th></th>\n",
       "      <th>fraction</th>\n",
       "      <th>replica</th>\n",
       "      <th>file</th>\n",
       "      <th>mfpt_on_all</th>\n",
       "      <th>mfpt_off_all</th>\n",
       "      <th>log_mfpt_on_all</th>\n",
       "      <th>log_mfpt_off_all</th>\n",
       "    </tr>\n",
       "  </thead>\n",
       "  <tbody>\n",
       "    <tr>\n",
       "      <th>27</th>\n",
       "      <td>60</td>\n",
       "      <td>6</td>\n",
       "      <td>/sc/orga/scratch/pradad01/TRAM/Inactive/Errors...</td>\n",
       "      <td>5090.744471</td>\n",
       "      <td>3190.027197</td>\n",
       "      <td>3.706781</td>\n",
       "      <td>3.503794</td>\n",
       "    </tr>\n",
       "    <tr>\n",
       "      <th>25</th>\n",
       "      <td>60</td>\n",
       "      <td>4</td>\n",
       "      <td>/sc/orga/scratch/pradad01/TRAM/Inactive/Errors...</td>\n",
       "      <td>3199.049072</td>\n",
       "      <td>3850.389530</td>\n",
       "      <td>3.505021</td>\n",
       "      <td>3.585505</td>\n",
       "    </tr>\n",
       "    <tr>\n",
       "      <th>24</th>\n",
       "      <td>60</td>\n",
       "      <td>3</td>\n",
       "      <td>/sc/orga/scratch/pradad01/TRAM/Inactive/Errors...</td>\n",
       "      <td>3614.387450</td>\n",
       "      <td>4154.794017</td>\n",
       "      <td>3.558035</td>\n",
       "      <td>3.618549</td>\n",
       "    </tr>\n",
       "    <tr>\n",
       "      <th>23</th>\n",
       "      <td>60</td>\n",
       "      <td>2</td>\n",
       "      <td>/sc/orga/scratch/pradad01/TRAM/Inactive/Errors...</td>\n",
       "      <td>5185.978509</td>\n",
       "      <td>7961.958321</td>\n",
       "      <td>3.714831</td>\n",
       "      <td>3.901020</td>\n",
       "    </tr>\n",
       "    <tr>\n",
       "      <th>22</th>\n",
       "      <td>60</td>\n",
       "      <td>1</td>\n",
       "      <td>/sc/orga/scratch/pradad01/TRAM/Inactive/Errors...</td>\n",
       "      <td>6396.764696</td>\n",
       "      <td>8155.719630</td>\n",
       "      <td>3.805960</td>\n",
       "      <td>3.911462</td>\n",
       "    </tr>\n",
       "    <tr>\n",
       "      <th>26</th>\n",
       "      <td>60</td>\n",
       "      <td>5</td>\n",
       "      <td>/sc/orga/scratch/pradad01/TRAM/Inactive/Errors...</td>\n",
       "      <td>3143.721626</td>\n",
       "      <td>4177.914351</td>\n",
       "      <td>3.497444</td>\n",
       "      <td>3.620960</td>\n",
       "    </tr>\n",
       "    <tr>\n",
       "      <th>21</th>\n",
       "      <td>70</td>\n",
       "      <td>6</td>\n",
       "      <td>/sc/orga/scratch/pradad01/TRAM/Inactive/Errors...</td>\n",
       "      <td>3921.478492</td>\n",
       "      <td>4299.415146</td>\n",
       "      <td>3.593450</td>\n",
       "      <td>3.633409</td>\n",
       "    </tr>\n",
       "    <tr>\n",
       "      <th>20</th>\n",
       "      <td>70</td>\n",
       "      <td>5</td>\n",
       "      <td>/sc/orga/scratch/pradad01/TRAM/Inactive/Errors...</td>\n",
       "      <td>4787.487398</td>\n",
       "      <td>3814.660121</td>\n",
       "      <td>3.680108</td>\n",
       "      <td>3.581456</td>\n",
       "    </tr>\n",
       "    <tr>\n",
       "      <th>19</th>\n",
       "      <td>70</td>\n",
       "      <td>4</td>\n",
       "      <td>/sc/orga/scratch/pradad01/TRAM/Inactive/Errors...</td>\n",
       "      <td>6932.669639</td>\n",
       "      <td>2012.638467</td>\n",
       "      <td>3.840901</td>\n",
       "      <td>3.303766</td>\n",
       "    </tr>\n",
       "    <tr>\n",
       "      <th>18</th>\n",
       "      <td>70</td>\n",
       "      <td>3</td>\n",
       "      <td>/sc/orga/scratch/pradad01/TRAM/Inactive/Errors...</td>\n",
       "      <td>4284.602334</td>\n",
       "      <td>3424.917459</td>\n",
       "      <td>3.631911</td>\n",
       "      <td>3.534650</td>\n",
       "    </tr>\n",
       "    <tr>\n",
       "      <th>17</th>\n",
       "      <td>70</td>\n",
       "      <td>2</td>\n",
       "      <td>/sc/orga/scratch/pradad01/TRAM/Inactive/Errors...</td>\n",
       "      <td>4105.406213</td>\n",
       "      <td>3851.219200</td>\n",
       "      <td>3.613356</td>\n",
       "      <td>3.585598</td>\n",
       "    </tr>\n",
       "    <tr>\n",
       "      <th>16</th>\n",
       "      <td>70</td>\n",
       "      <td>1</td>\n",
       "      <td>/sc/orga/scratch/pradad01/TRAM/Inactive/Errors...</td>\n",
       "      <td>4373.753007</td>\n",
       "      <td>6794.125412</td>\n",
       "      <td>3.640854</td>\n",
       "      <td>3.832134</td>\n",
       "    </tr>\n",
       "    <tr>\n",
       "      <th>15</th>\n",
       "      <td>80</td>\n",
       "      <td>6</td>\n",
       "      <td>/sc/orga/scratch/pradad01/TRAM/Inactive/Errors...</td>\n",
       "      <td>3869.466544</td>\n",
       "      <td>3738.155210</td>\n",
       "      <td>3.587651</td>\n",
       "      <td>3.572657</td>\n",
       "    </tr>\n",
       "    <tr>\n",
       "      <th>14</th>\n",
       "      <td>80</td>\n",
       "      <td>5</td>\n",
       "      <td>/sc/orga/scratch/pradad01/TRAM/Inactive/Errors...</td>\n",
       "      <td>5003.078081</td>\n",
       "      <td>3893.206582</td>\n",
       "      <td>3.699237</td>\n",
       "      <td>3.590307</td>\n",
       "    </tr>\n",
       "    <tr>\n",
       "      <th>13</th>\n",
       "      <td>80</td>\n",
       "      <td>3</td>\n",
       "      <td>/sc/orga/scratch/pradad01/TRAM/Inactive/Errors...</td>\n",
       "      <td>4375.848297</td>\n",
       "      <td>4068.626416</td>\n",
       "      <td>3.641062</td>\n",
       "      <td>3.609448</td>\n",
       "    </tr>\n",
       "    <tr>\n",
       "      <th>11</th>\n",
       "      <td>80</td>\n",
       "      <td>1</td>\n",
       "      <td>/sc/orga/scratch/pradad01/TRAM/Inactive/Errors...</td>\n",
       "      <td>6154.250080</td>\n",
       "      <td>8541.905475</td>\n",
       "      <td>3.789175</td>\n",
       "      <td>3.931555</td>\n",
       "    </tr>\n",
       "    <tr>\n",
       "      <th>12</th>\n",
       "      <td>80</td>\n",
       "      <td>2</td>\n",
       "      <td>/sc/orga/scratch/pradad01/TRAM/Inactive/Errors...</td>\n",
       "      <td>5183.281688</td>\n",
       "      <td>4054.697499</td>\n",
       "      <td>3.714605</td>\n",
       "      <td>3.607958</td>\n",
       "    </tr>\n",
       "    <tr>\n",
       "      <th>10</th>\n",
       "      <td>90</td>\n",
       "      <td>6</td>\n",
       "      <td>/sc/orga/scratch/pradad01/TRAM/Inactive/Errors...</td>\n",
       "      <td>4041.235812</td>\n",
       "      <td>3995.581591</td>\n",
       "      <td>3.606514</td>\n",
       "      <td>3.601580</td>\n",
       "    </tr>\n",
       "    <tr>\n",
       "      <th>9</th>\n",
       "      <td>90</td>\n",
       "      <td>5</td>\n",
       "      <td>/sc/orga/scratch/pradad01/TRAM/Inactive/Errors...</td>\n",
       "      <td>4091.198893</td>\n",
       "      <td>3508.389379</td>\n",
       "      <td>3.611851</td>\n",
       "      <td>3.545108</td>\n",
       "    </tr>\n",
       "    <tr>\n",
       "      <th>8</th>\n",
       "      <td>90</td>\n",
       "      <td>4</td>\n",
       "      <td>/sc/orga/scratch/pradad01/TRAM/Inactive/Errors...</td>\n",
       "      <td>3902.483069</td>\n",
       "      <td>3754.497061</td>\n",
       "      <td>3.591341</td>\n",
       "      <td>3.574552</td>\n",
       "    </tr>\n",
       "    <tr>\n",
       "      <th>7</th>\n",
       "      <td>90</td>\n",
       "      <td>3</td>\n",
       "      <td>/sc/orga/scratch/pradad01/TRAM/Inactive/Errors...</td>\n",
       "      <td>3622.442041</td>\n",
       "      <td>3738.256204</td>\n",
       "      <td>3.559001</td>\n",
       "      <td>3.572669</td>\n",
       "    </tr>\n",
       "    <tr>\n",
       "      <th>6</th>\n",
       "      <td>90</td>\n",
       "      <td>2</td>\n",
       "      <td>/sc/orga/scratch/pradad01/TRAM/Inactive/Errors...</td>\n",
       "      <td>5902.856053</td>\n",
       "      <td>8307.332148</td>\n",
       "      <td>3.771062</td>\n",
       "      <td>3.919462</td>\n",
       "    </tr>\n",
       "    <tr>\n",
       "      <th>5</th>\n",
       "      <td>90</td>\n",
       "      <td>1</td>\n",
       "      <td>/sc/orga/scratch/pradad01/TRAM/Inactive/Errors...</td>\n",
       "      <td>5530.738188</td>\n",
       "      <td>9073.093297</td>\n",
       "      <td>3.742783</td>\n",
       "      <td>3.957755</td>\n",
       "    </tr>\n",
       "    <tr>\n",
       "      <th>4</th>\n",
       "      <td>100</td>\n",
       "      <td>6</td>\n",
       "      <td>/sc/orga/scratch/pradad01/TRAM/Inactive/Errors...</td>\n",
       "      <td>4746.964028</td>\n",
       "      <td>3784.108779</td>\n",
       "      <td>3.676416</td>\n",
       "      <td>3.577964</td>\n",
       "    </tr>\n",
       "    <tr>\n",
       "      <th>3</th>\n",
       "      <td>100</td>\n",
       "      <td>4</td>\n",
       "      <td>/sc/orga/scratch/pradad01/TRAM/Inactive/Errors...</td>\n",
       "      <td>3421.333824</td>\n",
       "      <td>4044.276138</td>\n",
       "      <td>3.534195</td>\n",
       "      <td>3.606841</td>\n",
       "    </tr>\n",
       "    <tr>\n",
       "      <th>2</th>\n",
       "      <td>100</td>\n",
       "      <td>3</td>\n",
       "      <td>/sc/orga/scratch/pradad01/TRAM/Inactive/Errors...</td>\n",
       "      <td>3878.386571</td>\n",
       "      <td>3766.619813</td>\n",
       "      <td>3.588651</td>\n",
       "      <td>3.575952</td>\n",
       "    </tr>\n",
       "    <tr>\n",
       "      <th>1</th>\n",
       "      <td>100</td>\n",
       "      <td>2</td>\n",
       "      <td>/sc/orga/scratch/pradad01/TRAM/Inactive/Errors...</td>\n",
       "      <td>4518.985941</td>\n",
       "      <td>3726.296285</td>\n",
       "      <td>3.655041</td>\n",
       "      <td>3.571277</td>\n",
       "    </tr>\n",
       "    <tr>\n",
       "      <th>0</th>\n",
       "      <td>100</td>\n",
       "      <td>1</td>\n",
       "      <td>/sc/orga/scratch/pradad01/TRAM/Inactive/Errors...</td>\n",
       "      <td>4254.538424</td>\n",
       "      <td>3603.972259</td>\n",
       "      <td>3.628852</td>\n",
       "      <td>3.556781</td>\n",
       "    </tr>\n",
       "  </tbody>\n",
       "</table>\n",
       "</div>"
      ],
      "text/plain": [
       "    fraction  replica                                               file  \\\n",
       "27        60        6  /sc/orga/scratch/pradad01/TRAM/Inactive/Errors...   \n",
       "25        60        4  /sc/orga/scratch/pradad01/TRAM/Inactive/Errors...   \n",
       "24        60        3  /sc/orga/scratch/pradad01/TRAM/Inactive/Errors...   \n",
       "23        60        2  /sc/orga/scratch/pradad01/TRAM/Inactive/Errors...   \n",
       "22        60        1  /sc/orga/scratch/pradad01/TRAM/Inactive/Errors...   \n",
       "26        60        5  /sc/orga/scratch/pradad01/TRAM/Inactive/Errors...   \n",
       "21        70        6  /sc/orga/scratch/pradad01/TRAM/Inactive/Errors...   \n",
       "20        70        5  /sc/orga/scratch/pradad01/TRAM/Inactive/Errors...   \n",
       "19        70        4  /sc/orga/scratch/pradad01/TRAM/Inactive/Errors...   \n",
       "18        70        3  /sc/orga/scratch/pradad01/TRAM/Inactive/Errors...   \n",
       "17        70        2  /sc/orga/scratch/pradad01/TRAM/Inactive/Errors...   \n",
       "16        70        1  /sc/orga/scratch/pradad01/TRAM/Inactive/Errors...   \n",
       "15        80        6  /sc/orga/scratch/pradad01/TRAM/Inactive/Errors...   \n",
       "14        80        5  /sc/orga/scratch/pradad01/TRAM/Inactive/Errors...   \n",
       "13        80        3  /sc/orga/scratch/pradad01/TRAM/Inactive/Errors...   \n",
       "11        80        1  /sc/orga/scratch/pradad01/TRAM/Inactive/Errors...   \n",
       "12        80        2  /sc/orga/scratch/pradad01/TRAM/Inactive/Errors...   \n",
       "10        90        6  /sc/orga/scratch/pradad01/TRAM/Inactive/Errors...   \n",
       "9         90        5  /sc/orga/scratch/pradad01/TRAM/Inactive/Errors...   \n",
       "8         90        4  /sc/orga/scratch/pradad01/TRAM/Inactive/Errors...   \n",
       "7         90        3  /sc/orga/scratch/pradad01/TRAM/Inactive/Errors...   \n",
       "6         90        2  /sc/orga/scratch/pradad01/TRAM/Inactive/Errors...   \n",
       "5         90        1  /sc/orga/scratch/pradad01/TRAM/Inactive/Errors...   \n",
       "4        100        6  /sc/orga/scratch/pradad01/TRAM/Inactive/Errors...   \n",
       "3        100        4  /sc/orga/scratch/pradad01/TRAM/Inactive/Errors...   \n",
       "2        100        3  /sc/orga/scratch/pradad01/TRAM/Inactive/Errors...   \n",
       "1        100        2  /sc/orga/scratch/pradad01/TRAM/Inactive/Errors...   \n",
       "0        100        1  /sc/orga/scratch/pradad01/TRAM/Inactive/Errors...   \n",
       "\n",
       "    mfpt_on_all  mfpt_off_all  log_mfpt_on_all  log_mfpt_off_all  \n",
       "27  5090.744471   3190.027197         3.706781          3.503794  \n",
       "25  3199.049072   3850.389530         3.505021          3.585505  \n",
       "24  3614.387450   4154.794017         3.558035          3.618549  \n",
       "23  5185.978509   7961.958321         3.714831          3.901020  \n",
       "22  6396.764696   8155.719630         3.805960          3.911462  \n",
       "26  3143.721626   4177.914351         3.497444          3.620960  \n",
       "21  3921.478492   4299.415146         3.593450          3.633409  \n",
       "20  4787.487398   3814.660121         3.680108          3.581456  \n",
       "19  6932.669639   2012.638467         3.840901          3.303766  \n",
       "18  4284.602334   3424.917459         3.631911          3.534650  \n",
       "17  4105.406213   3851.219200         3.613356          3.585598  \n",
       "16  4373.753007   6794.125412         3.640854          3.832134  \n",
       "15  3869.466544   3738.155210         3.587651          3.572657  \n",
       "14  5003.078081   3893.206582         3.699237          3.590307  \n",
       "13  4375.848297   4068.626416         3.641062          3.609448  \n",
       "11  6154.250080   8541.905475         3.789175          3.931555  \n",
       "12  5183.281688   4054.697499         3.714605          3.607958  \n",
       "10  4041.235812   3995.581591         3.606514          3.601580  \n",
       "9   4091.198893   3508.389379         3.611851          3.545108  \n",
       "8   3902.483069   3754.497061         3.591341          3.574552  \n",
       "7   3622.442041   3738.256204         3.559001          3.572669  \n",
       "6   5902.856053   8307.332148         3.771062          3.919462  \n",
       "5   5530.738188   9073.093297         3.742783          3.957755  \n",
       "4   4746.964028   3784.108779         3.676416          3.577964  \n",
       "3   3421.333824   4044.276138         3.534195          3.606841  \n",
       "2   3878.386571   3766.619813         3.588651          3.575952  \n",
       "1   4518.985941   3726.296285         3.655041          3.571277  \n",
       "0   4254.538424   3603.972259         3.628852          3.556781  "
      ]
     },
     "execution_count": 6,
     "metadata": {},
     "output_type": "execute_result"
    }
   ],
   "source": [
    "## calc logs of times and \n",
    "df[['log_mfpt_on_all','log_mfpt_off_all']]=df[['mfpt_on_all','mfpt_off_all']].apply(np.log10)\n",
    "df.sort_values('fraction')"
   ]
  },
  {
   "cell_type": "markdown",
   "metadata": {
    "heading_collapsed": true,
    "hidden": true
   },
   "source": [
    "### aggregate and find probabilities\n",
    "\n",
    "1. Define best value from the full estimate (I use here the average of the 100% estimates, but these are resampled, should we use the real value from the original TRAM?). \n",
    "2. Then calculate fraction of results within a given confidence interval around it. I use the Noe' definition here\n",
    "\n",
    "\n",
    "$$ P(f) = {\\rm Prob}( \\frac{\\log k_{\\rm full}}{1+z} \\le  \\log k \\le (1+z) \\log k_{\\rm full}) $$\n",
    "where $\\log k$ are sampled from bootstrap data using a fraction $f$ of the unbiased data, and \n",
    "\n",
    "$$\\log k_{\\rm full} = \\langle \\log k\\rangle_{100\\%}$$ \n",
    "is the average of the estimates of bootstrap samples using the full set of unbiased data.\n",
    "\n"
   ]
  },
  {
   "cell_type": "code",
   "execution_count": 7,
   "metadata": {
    "collapsed": false,
    "hidden": true
   },
   "outputs": [
    {
     "data": {
      "text/plain": [
       "fraction\n",
       "60     3.631345\n",
       "70     3.666763\n",
       "80     3.686346\n",
       "90     3.647092\n",
       "100    3.616631\n",
       "Name: mean, dtype: float64"
      ]
     },
     "execution_count": 7,
     "metadata": {},
     "output_type": "execute_result"
    }
   ],
   "source": [
    "## we don't really need percentiles here\n",
    "def p15(x): return np.percentile(x,15)\n",
    "def p95(x): return np.percentile(x,95)\n",
    "\n",
    "## D contains the aggregate\n",
    "D=df[['fraction','log_mfpt_on_all','log_mfpt_off_all']].groupby('fraction').agg([np.min,p15, np.mean, np.std,p95,np.max ])\n",
    "D.log_mfpt_on_all['mean']"
   ]
  },
  {
   "cell_type": "markdown",
   "metadata": {
    "hidden": true,
    "hide_input": true
   },
   "source": [
    "#### calc fraction falling within CI"
   ]
  },
  {
   "cell_type": "code",
   "execution_count": 9,
   "metadata": {
    "collapsed": false,
    "hidden": true
   },
   "outputs": [
    {
     "data": {
      "text/html": [
       "<div>\n",
       "<table border=\"1\" class=\"dataframe\">\n",
       "  <thead>\n",
       "    <tr>\n",
       "      <th></th>\n",
       "      <th colspan=\"2\" halign=\"left\">log_mfpt_on_all</th>\n",
       "      <th colspan=\"2\" halign=\"left\">log_mfpt_off_all</th>\n",
       "    </tr>\n",
       "    <tr>\n",
       "      <th></th>\n",
       "      <th>frac20</th>\n",
       "      <th>frac5</th>\n",
       "      <th>frac20</th>\n",
       "      <th>frac5</th>\n",
       "    </tr>\n",
       "    <tr>\n",
       "      <th>fraction</th>\n",
       "      <th></th>\n",
       "      <th></th>\n",
       "      <th></th>\n",
       "      <th></th>\n",
       "    </tr>\n",
       "  </thead>\n",
       "  <tbody>\n",
       "    <tr>\n",
       "      <th>60</th>\n",
       "      <td>1.0</td>\n",
       "      <td>0.833333</td>\n",
       "      <td>1.0</td>\n",
       "      <td>0.666667</td>\n",
       "    </tr>\n",
       "    <tr>\n",
       "      <th>70</th>\n",
       "      <td>1.0</td>\n",
       "      <td>0.833333</td>\n",
       "      <td>1.0</td>\n",
       "      <td>0.666667</td>\n",
       "    </tr>\n",
       "    <tr>\n",
       "      <th>80</th>\n",
       "      <td>1.0</td>\n",
       "      <td>1.000000</td>\n",
       "      <td>1.0</td>\n",
       "      <td>0.800000</td>\n",
       "    </tr>\n",
       "    <tr>\n",
       "      <th>90</th>\n",
       "      <td>1.0</td>\n",
       "      <td>1.000000</td>\n",
       "      <td>1.0</td>\n",
       "      <td>0.666667</td>\n",
       "    </tr>\n",
       "    <tr>\n",
       "      <th>100</th>\n",
       "      <td>1.0</td>\n",
       "      <td>1.000000</td>\n",
       "      <td>1.0</td>\n",
       "      <td>1.000000</td>\n",
       "    </tr>\n",
       "  </tbody>\n",
       "</table>\n",
       "</div>"
      ],
      "text/plain": [
       "         log_mfpt_on_all           log_mfpt_off_all          \n",
       "                  frac20     frac5           frac20     frac5\n",
       "fraction                                                     \n",
       "60                   1.0  0.833333              1.0  0.666667\n",
       "70                   1.0  0.833333              1.0  0.666667\n",
       "80                   1.0  1.000000              1.0  0.800000\n",
       "90                   1.0  1.000000              1.0  0.666667\n",
       "100                  1.0  1.000000              1.0  1.000000"
      ]
     },
     "execution_count": 9,
     "metadata": {},
     "output_type": "execute_result"
    }
   ],
   "source": [
    "# calc the estimates from the 100% sample mean\n",
    "on_mean_100 = D.log_mfpt_on_all.loc[100,'mean']\n",
    "off_mean_100 = D.log_mfpt_off_all.loc[100,'mean']\n",
    "\n",
    "\n",
    "## calc what fraction falls within 1/(1+z) and (1+z) of mean_ (noe uses z=100%, I use z=20%)\n",
    "def frac_NOE(x,mean_,z): return 1.*np.logical_and(x>mean_/(1.+z), x<mean_*(1.+z)).sum()/x.shape[0]\n",
    "\n",
    "def frac20 (x): return frac_NOE(x,on_mean_100,z=0.2)\n",
    "def frac5 (x): return frac_NOE(x,on_mean_100,z=0.05)\n",
    "Eon=df[['fraction','log_mfpt_on_all']].groupby('fraction').agg([frac20,frac5])\n",
    "\n",
    "def frac20 (x): return frac_NOE(x,off_mean_100,z=0.2)\n",
    "def frac5 (x): return frac_NOE(x,off_mean_100,z=0.05)\n",
    "Eoff=df[['fraction','log_mfpt_off_all']].groupby('fraction').agg([frac20,frac5])\n",
    "\n",
    "\n",
    "D2=pd.concat([D, Eon,Eoff], axis=1)\n",
    "pd.concat([Eon,Eoff], axis=1)"
   ]
  },
  {
   "cell_type": "markdown",
   "metadata": {},
   "source": [
    "## Report values and probabilities\n",
    "\n",
    "We calculate the distribution of binding and unbinding mean first-passage times using bootstrap.\n",
    "and then alculate the fraction of results within a given confidence interval around it, i.e. the probability \n",
    "$$ P(f) = {\\rm Prob}( \\frac{\\log k_{\\rm full}}{1+z} \\le  \\log k \\le (1+z) \\log k_{\\rm full}) $$\n",
    "where $\\log k$ are sampled from bootstrap data using a fraction $f$ of the unbiased data, and \n",
    "$$\\log k_{\\rm full} = \\langle \\log k\\rangle_{100\\%}$$ \n",
    "is the average of the estimates of bootstrap samples using the full set of unbiased data.\n"
   ]
  },
  {
   "cell_type": "code",
   "execution_count": 44,
   "metadata": {
    "collapsed": false,
    "hide_input": true
   },
   "outputs": [
    {
     "data": {
      "image/png": "[encoded data removed]",
      "text/plain": [
       "<matplotlib.figure.Figure at 0x7f6f0f4bf6d0>"
      ]
     },
     "metadata": {},
     "output_type": "display_data"
    }
   ],
   "source": [
    "%matplotlib inline\n",
    "import matplotlib as mpl\n",
    "import matplotlib.pyplot as plt\n",
    "\n",
    "#plt.plot(MM[:,0],MM[:,1],marker='.',linewidth=0,label='w/ replacem')\n",
    "\n",
    "#f, ax = plt.subplots(1,2, sharey=True)\n",
    "\n",
    "\n",
    "plt.errorbar(D.index,D.log_mfpt_on_all['mean'], \n",
    "             yerr=[D.log_mfpt_on_all['mean']-D.log_mfpt_on_all['p15'],\n",
    "                   D.log_mfpt_on_all['p95']-D.log_mfpt_on_all['mean']],\n",
    "             linewidth=3,label='MFPT_on',marker='o')\n",
    "\n",
    "\n",
    "## plot the off times with a small offset\n",
    "plt.errorbar(D.index+1,D.log_mfpt_off_all['mean'], \n",
    "             yerr=[D.log_mfpt_off_all['mean']-D.log_mfpt_off_all['p15'],\n",
    "                   D.log_mfpt_off_all['p95']-D.log_mfpt_off_all['mean']],\n",
    "             linewidth=3,label='MFPT_off',marker='s')\n",
    "\n",
    "\n",
    "plt.xlim(50,105)\n",
    "plt.legend()\n",
    "plt.xlabel('fraction of unbiased')\n",
    "plt.ylabel('log MFPT/steps')\n",
    "plt.grid()\n",
    "plt.savefig('values.pdf')"
   ]
  },
  {
   "cell_type": "markdown",
   "metadata": {},
   "source": [
    "Stability of the mean first-passage times from any interface to bulk and from bulk to any interface for increasing fractions of the unbiased simulations used. Errorbars are 95% percentiles from 6 bootstrap samples for each fraction. Data for Inactive left-Left TRAM"
   ]
  },
  {
   "cell_type": "code",
   "execution_count": 43,
   "metadata": {
    "collapsed": false,
    "hide_input": true
   },
   "outputs": [
    {
     "data": {
      "text/html": [
       "<div>\n",
       "<table border=\"1\" class=\"dataframe\">\n",
       "  <thead>\n",
       "    <tr style=\"text-align: right;\">\n",
       "      <th></th>\n",
       "      <th>log_mfpt_on_all</th>\n",
       "      <th>log_mfpt_off_all</th>\n",
       "    </tr>\n",
       "    <tr>\n",
       "      <th>fraction</th>\n",
       "      <th></th>\n",
       "      <th></th>\n",
       "    </tr>\n",
       "  </thead>\n",
       "  <tbody>\n",
       "    <tr>\n",
       "      <th>60</th>\n",
       "      <td>1.0</td>\n",
       "      <td>1.0</td>\n",
       "    </tr>\n",
       "    <tr>\n",
       "      <th>70</th>\n",
       "      <td>1.0</td>\n",
       "      <td>1.0</td>\n",
       "    </tr>\n",
       "    <tr>\n",
       "      <th>80</th>\n",
       "      <td>1.0</td>\n",
       "      <td>1.0</td>\n",
       "    </tr>\n",
       "    <tr>\n",
       "      <th>90</th>\n",
       "      <td>1.0</td>\n",
       "      <td>1.0</td>\n",
       "    </tr>\n",
       "    <tr>\n",
       "      <th>100</th>\n",
       "      <td>1.0</td>\n",
       "      <td>1.0</td>\n",
       "    </tr>\n",
       "  </tbody>\n",
       "</table>\n",
       "</div>"
      ],
      "text/plain": [
       "          log_mfpt_on_all  log_mfpt_off_all\n",
       "fraction                                   \n",
       "60                    1.0               1.0\n",
       "70                    1.0               1.0\n",
       "80                    1.0               1.0\n",
       "90                    1.0               1.0\n",
       "100                   1.0               1.0"
      ]
     },
     "execution_count": 43,
     "metadata": {},
     "output_type": "execute_result"
    }
   ],
   "source": [
    "#print only the frac20 probabilities\n",
    "D2.xs('frac20',level=1,axis=1)"
   ]
  },
  {
   "cell_type": "markdown",
   "metadata": {},
   "source": [
    "Probablity $P(f)$ to find the best estimate of the MFPTs in the confidence intervals from bootstrap sampling. the CI were defined following Noe's definition (i.e. z% reduction or increase from best estimate of log time), but using a STRICTER value of z (20% vs 100% in Noe's TRAM paper). Probability of 1.0 indicates convergence."
   ]
  },
  {
   "cell_type": "code",
   "execution_count": 46,
   "metadata": {
    "collapsed": false,
    "hide_input": true
   },
   "outputs": [
    {
     "data": {
      "image/png": "[encoded data removed]",
      "text/plain": [
       "<matplotlib.figure.Figure at 0x7f6f0f45d2d0>"
      ]
     },
     "metadata": {},
     "output_type": "display_data"
    }
   ],
   "source": [
    "plt.plot(D2.index,D2.log_mfpt_on_all['frac20'],marker='o',label='prob_find_off 20%')\n",
    "plt.plot(D2.index+1,D2.log_mfpt_off_all['frac20'],marker='o',label='prob_find_on 20%')\n",
    "plt.title(\"Probability to find MFPT (20% intervals)\")\n",
    "plt.legend()\n",
    "plt.savefig('probs.pdf')"
   ]
  },
  {
   "cell_type": "code",
   "execution_count": null,
   "metadata": {
    "collapsed": true
   },
   "outputs": [],
   "source": []
  }
 ],
 "metadata": {
  "kernelspec": {
   "display_name": "Python 2",
   "language": "python",
   "name": "python2"
  },
  "language_info": {
   "codemirror_mode": {
    "name": "ipython",
    "version": 2
   },
   "file_extension": ".py",
   "mimetype": "text/x-python",
   "name": "python",
   "nbconvert_exporter": "python",
   "pygments_lexer": "ipython2",
   "version": "2.7.12"
  },
  "toc": {
   "nav_menu": {
    "height": "121px",
    "width": "252px"
   },
   "navigate_menu": true,
   "number_sections": true,
   "sideBar": true,
   "threshold": 4,
   "toc_cell": false,
   "toc_section_display": "block",
   "toc_window_display": false
  }
 },
 "nbformat": 4,
 "nbformat_minor": 0
}
