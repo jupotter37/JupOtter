{
 "cells": [
  {
   "cell_type": "markdown",
   "metadata": {},
   "source": [
    "## LSH Analysis\n",
    "\n",
    "Compare predicted and actual variant correlations.\n",
    "\n",
    "Steps:\n",
    "\n",
    "- Select a subset of variants to scope evaluation to (optional)\n",
    "- Load ground-truth pair-wise LD\n",
    "- Load hashes and determine pair-wise collision\n",
    "- Analyze results, looking for when collisions start occurring as the true LD increases"
   ]
  },
  {
   "cell_type": "code",
   "execution_count": 1,
   "metadata": {},
   "outputs": [],
   "source": [
    "from pyspark.sql import SparkSession\n",
    "from pyspark.sql.types import ByteType, IntegerType\n",
    "from pyspark.sql import functions as F\n",
    "import os\n",
    "import pandas as pd\n",
    "import numpy as np\n",
    "import matplotlib.pyplot as plt\n",
    "%run {os.environ['NB_DIR']}/nb.py\n",
    "%run $BENCHMARK_METHOD_DIR/common.py\n",
    "dataset_path = ld_prune_lsh.dataset_path\n",
    "analysis_path = ld_prune_lsh.analysis_path\n",
    "\n",
    "ds_name = DATASET_HM\n",
    "sample_rate = .1\n",
    "min_ld = .1\n",
    "eval_sample_rate = .25\n",
    "\n",
    "# ds_name = DATASET_SIM\n",
    "# sample_rate = 1\n",
    "# min_ld = .1\n",
    "# eval_sample_rate = None\n",
    "\n",
    "ds_config = DATASET_CONFIG[ds_name]\n",
    "spark = SparkSession.builder.master(\"local[*]\").getOrCreate()"
   ]
  },
  {
   "cell_type": "code",
   "execution_count": 2,
   "metadata": {},
   "outputs": [],
   "source": [
    "# h, g = 4096, 4\n",
    "#h, g = 64, 4096\n",
    "#h, g = 32, 4096\n",
    "h, g, projection = 28, 16384, 'random'\n",
    "# h, g, projection = 28, 16384, 'orthogonal'"
   ]
  },
  {
   "cell_type": "markdown",
   "metadata": {},
   "source": [
    "### Select Variants"
   ]
  },
  {
   "cell_type": "code",
   "execution_count": 3,
   "metadata": {},
   "outputs": [
    {
     "data": {
      "text/plain": [
       "2664"
      ]
     },
     "execution_count": 3,
     "metadata": {},
     "output_type": "execute_result"
    }
   ],
   "source": [
    "#/tmp/benchmark_datasets/hapmap-sr=0.05.parquet\n",
    "dfv = spark.read.parquet(dataset_path(ds_name, ext='parquet', sr=sample_rate)).select('row_idx')\n",
    "if eval_sample_rate is not None:\n",
    "    dfv = dfv.sample(fraction=eval_sample_rate, seed=1, withReplacement=False)\n",
    "variants = list(map(int, dfv.toPandas()['row_idx'].unique()))\n",
    "len(variants)"
   ]
  },
  {
   "cell_type": "markdown",
   "metadata": {},
   "source": [
    "### Load True Pairwise LD"
   ]
  },
  {
   "cell_type": "code",
   "execution_count": 4,
   "metadata": {},
   "outputs": [
    {
     "data": {
      "text/plain": [
       "DataFrame[i: bigint, j: bigint, value: double]"
      ]
     },
     "execution_count": 4,
     "metadata": {},
     "output_type": "execute_result"
    }
   ],
   "source": [
    "def get_ld_matrix(rows=None):\n",
    "    path = dataset_path(ds_name, ext='parquet', sr=sample_rate, minld=min_ld) \n",
    "    df = spark.read.parquet(path).withColumnRenamed('entry', 'value')\n",
    "    if rows is not None:\n",
    "        df = df.filter(df.i.isin(rows) & df.j.isin(rows))\n",
    "    return df\n",
    "dfp = get_ld_matrix(variants)\n",
    "dfp"
   ]
  },
  {
   "cell_type": "code",
   "execution_count": 5,
   "metadata": {},
   "outputs": [
    {
     "data": {
      "text/plain": [
       "476295"
      ]
     },
     "execution_count": 5,
     "metadata": {},
     "output_type": "execute_result"
    }
   ],
   "source": [
    "dfp.count()"
   ]
  },
  {
   "cell_type": "code",
   "execution_count": 6,
   "metadata": {},
   "outputs": [
    {
     "data": {
      "text/plain": [
       "count    476295.000000\n",
       "mean          0.150158\n",
       "std           0.051158\n",
       "min           0.100000\n",
       "25%           0.116402\n",
       "50%           0.137240\n",
       "75%           0.169508\n",
       "max           1.000000\n",
       "Name: value, dtype: float64"
      ]
     },
     "execution_count": 6,
     "metadata": {},
     "output_type": "execute_result"
    }
   ],
   "source": [
    "dfp.toPandas()['value'].describe()"
   ]
  },
  {
   "cell_type": "markdown",
   "metadata": {},
   "source": [
    "### Load Hash Buckets"
   ]
  },
  {
   "cell_type": "code",
   "execution_count": 7,
   "metadata": {},
   "outputs": [
    {
     "name": "stdout",
     "output_type": "stream",
     "text": [
      "/home/eczech/data/gwas/benchmark/datasets/ld_prune/lsh/hapmap-sr=0.1-h=28-g=16384-p=random.parquet\n"
     ]
    },
    {
     "data": {
      "text/plain": [
       "DataFrame[hash_bucket: bigint, variant: bigint, hash_group: bigint, hash_value: bigint, index: bigint]"
      ]
     },
     "execution_count": 7,
     "metadata": {},
     "output_type": "execute_result"
    }
   ],
   "source": [
    "def get_hashes(h, g, projection, rows=None, remove_singletons=True):\n",
    "    path = dataset_path(ds_name, ext='parquet', sr=sample_rate, h=h, g=g, p=projection)\n",
    "    print(path)\n",
    "    df = spark.read.parquet(path)\n",
    "    if rows is not None:\n",
    "        df = df.filter(df.variant.isin(rows))\n",
    "    \n",
    "    # Remove singleton buckets since they imply no pairs\n",
    "    if remove_singletons:\n",
    "        cts = df.groupby('hash_bucket').count()\n",
    "        cts = cts.filter(cts['count'] > 1)\n",
    "        df = df.join(cts, 'hash_bucket', 'left_semi')\n",
    "    return df\n",
    "\n",
    "dfh = get_hashes(h, g, projection, rows=variants, remove_singletons=True)\n",
    "dfh"
   ]
  },
  {
   "cell_type": "code",
   "execution_count": 8,
   "metadata": {},
   "outputs": [],
   "source": [
    "assert dfh.agg(F.countDistinct(dfh['variant']).alias('ct')).select('ct').head(1)[0]['ct'] <= len(variants)"
   ]
  },
  {
   "cell_type": "code",
   "execution_count": 9,
   "metadata": {},
   "outputs": [
    {
     "data": {
      "text/plain": [
       "1881376"
      ]
     },
     "execution_count": 9,
     "metadata": {},
     "output_type": "execute_result"
    }
   ],
   "source": [
    "dfh.count()"
   ]
  },
  {
   "cell_type": "markdown",
   "metadata": {},
   "source": [
    "### Compute Collisions"
   ]
  },
  {
   "cell_type": "code",
   "execution_count": 10,
   "metadata": {},
   "outputs": [],
   "source": [
    "def get_hashed_pairs(h, g, projection, **kwargs):\n",
    "    dfh = get_hashes(h, g, projection, **kwargs)\n",
    "    \n",
    "    df1 = dfh.select('variant', 'hash_bucket')\\\n",
    "        .withColumnRenamed('variant', 'i')\\\n",
    "        .withColumnRenamed('hash_bucket', 'i_hb')\n",
    "    df2 = dfh.select('variant', 'hash_bucket')\\\n",
    "        .withColumnRenamed('variant', 'j')\\\n",
    "        .withColumnRenamed('hash_bucket', 'j_hb')\n",
    "\n",
    "    df = df1.join(df2, [df1.i_hb == df2.j_hb], how='inner')\n",
    "    df = df.filter(df.j > df.i) # Upper triangle only\n",
    "    df = df.groupby(['i', 'j']).count()\n",
    "    return df\n",
    "\n",
    "def write_hashed_pairs(h, g, projection, **kwargs):\n",
    "    df = get_hashed_pairs(h, g, projection, **kwargs)\n",
    "    path = analysis_path('hash_pairs', ext='parquet', h=h, g=g, p=projection)\n",
    "    df.write.parquet(path, mode='overwrite')\n",
    "    return path"
   ]
  },
  {
   "cell_type": "code",
   "execution_count": 11,
   "metadata": {},
   "outputs": [
    {
     "name": "stdout",
     "output_type": "stream",
     "text": [
      "/home/eczech/data/gwas/benchmark/datasets/ld_prune/lsh/hapmap-sr=0.1-h=28-g=16384-p=random.parquet\n",
      "CPU times: user 889 ms, sys: 188 ms, total: 1.08 s\n",
      "Wall time: 25 s\n"
     ]
    },
    {
     "data": {
      "text/plain": [
       "'/home/eczech/data/gwas/benchmark/analysis/ld_prune/lsh/hash_pairs-h=28-g=16384-p=random.parquet'"
      ]
     },
     "execution_count": 11,
     "metadata": {},
     "output_type": "execute_result"
    }
   ],
   "source": [
    "%%time\n",
    "path = write_hashed_pairs(h, g, projection, rows=variants, remove_singletons=True)\n",
    "path"
   ]
  },
  {
   "cell_type": "markdown",
   "metadata": {},
   "source": [
    "### Merge "
   ]
  },
  {
   "cell_type": "code",
   "execution_count": 12,
   "metadata": {},
   "outputs": [
    {
     "data": {
      "text/plain": [
       "DataFrame[i: bigint, j: bigint, h_count: bigint, p_value: double, status: string]"
      ]
     },
     "execution_count": 12,
     "metadata": {},
     "output_type": "execute_result"
    }
   ],
   "source": [
    "def get_merged_results(dfh, dfp):\n",
    "    dfh = dfh.withColumnRenamed('count', 'h_count')\n",
    "    dfp = dfp.withColumnRenamed('value', 'p_value')\n",
    "    \n",
    "    df = dfh.join(dfp, ['i', 'j'], how='outer')\n",
    "    df = df.withColumn(\n",
    "        'status', \n",
    "        F.when(df.h_count.isNull(), 'only_p')\n",
    "        .when(df.p_value.isNull(), 'only_h')\n",
    "        .otherwise('both')\n",
    "    )\n",
    "    return df\n",
    "dfm = get_merged_results(spark.read.parquet(path), dfp)\n",
    "dfm"
   ]
  },
  {
   "cell_type": "code",
   "execution_count": 13,
   "metadata": {},
   "outputs": [
    {
     "name": "stdout",
     "output_type": "stream",
     "text": [
      "<class 'pandas.core.frame.DataFrame'>\n",
      "RangeIndex: 476535 entries, 0 to 476534\n",
      "Data columns (total 5 columns):\n",
      "i          476535 non-null int64\n",
      "j          476535 non-null int64\n",
      "h_count    1424 non-null float64\n",
      "p_value    476295 non-null float64\n",
      "status     476535 non-null object\n",
      "dtypes: float64(2), int64(2), object(1)\n",
      "memory usage: 18.2+ MB\n",
      "None\n"
     ]
    },
    {
     "data": {
      "text/html": [
       "<div>\n",
       "<style scoped>\n",
       "    .dataframe tbody tr th:only-of-type {\n",
       "        vertical-align: middle;\n",
       "    }\n",
       "\n",
       "    .dataframe tbody tr th {\n",
       "        vertical-align: top;\n",
       "    }\n",
       "\n",
       "    .dataframe thead th {\n",
       "        text-align: right;\n",
       "    }\n",
       "</style>\n",
       "<table border=\"1\" class=\"dataframe\">\n",
       "  <thead>\n",
       "    <tr style=\"text-align: right;\">\n",
       "      <th></th>\n",
       "      <th>i</th>\n",
       "      <th>j</th>\n",
       "      <th>h_count</th>\n",
       "      <th>p_value</th>\n",
       "      <th>status</th>\n",
       "    </tr>\n",
       "  </thead>\n",
       "  <tbody>\n",
       "    <tr>\n",
       "      <th>0</th>\n",
       "      <td>1</td>\n",
       "      <td>5486</td>\n",
       "      <td>NaN</td>\n",
       "      <td>0.150639</td>\n",
       "      <td>only_p</td>\n",
       "    </tr>\n",
       "    <tr>\n",
       "      <th>1</th>\n",
       "      <td>7</td>\n",
       "      <td>4635</td>\n",
       "      <td>NaN</td>\n",
       "      <td>0.121675</td>\n",
       "      <td>only_p</td>\n",
       "    </tr>\n",
       "    <tr>\n",
       "      <th>2</th>\n",
       "      <td>10</td>\n",
       "      <td>8846</td>\n",
       "      <td>NaN</td>\n",
       "      <td>0.141519</td>\n",
       "      <td>only_p</td>\n",
       "    </tr>\n",
       "    <tr>\n",
       "      <th>3</th>\n",
       "      <td>10</td>\n",
       "      <td>9641</td>\n",
       "      <td>NaN</td>\n",
       "      <td>0.173441</td>\n",
       "      <td>only_p</td>\n",
       "    </tr>\n",
       "    <tr>\n",
       "      <th>4</th>\n",
       "      <td>12</td>\n",
       "      <td>4589</td>\n",
       "      <td>NaN</td>\n",
       "      <td>0.176680</td>\n",
       "      <td>only_p</td>\n",
       "    </tr>\n",
       "  </tbody>\n",
       "</table>\n",
       "</div>"
      ],
      "text/plain": [
       "    i     j  h_count   p_value  status\n",
       "0   1  5486      NaN  0.150639  only_p\n",
       "1   7  4635      NaN  0.121675  only_p\n",
       "2  10  8846      NaN  0.141519  only_p\n",
       "3  10  9641      NaN  0.173441  only_p\n",
       "4  12  4589      NaN  0.176680  only_p"
      ]
     },
     "execution_count": 13,
     "metadata": {},
     "output_type": "execute_result"
    }
   ],
   "source": [
    "df = dfm.toPandas()\n",
    "print(df.info())\n",
    "df.head()"
   ]
  },
  {
   "cell_type": "code",
   "execution_count": 14,
   "metadata": {},
   "outputs": [
    {
     "data": {
      "text/plain": [
       "only_p    475111\n",
       "both        1184\n",
       "only_h       240\n",
       "Name: status, dtype: int64"
      ]
     },
     "execution_count": 14,
     "metadata": {},
     "output_type": "execute_result"
    }
   ],
   "source": [
    "df['status'].value_counts()"
   ]
  },
  {
   "cell_type": "code",
   "execution_count": 15,
   "metadata": {},
   "outputs": [
    {
     "data": {
      "text/plain": [
       "False    476274\n",
       "True         21\n",
       "Name: p_value, dtype: int64"
      ]
     },
     "execution_count": 15,
     "metadata": {},
     "output_type": "execute_result"
    }
   ],
   "source": [
    "(df[df['p_value'].notnull()]['p_value'] >= 1).value_counts()"
   ]
  },
  {
   "cell_type": "code",
   "execution_count": 16,
   "metadata": {},
   "outputs": [
    {
     "data": {
      "text/plain": [
       "both      195\n",
       "only_p      4\n",
       "Name: status, dtype: int64"
      ]
     },
     "execution_count": 16,
     "metadata": {},
     "output_type": "execute_result"
    }
   ],
   "source": [
    "df[df['p_value'] >= .9]['status'].value_counts()"
   ]
  },
  {
   "cell_type": "code",
   "execution_count": 21,
   "metadata": {},
   "outputs": [
    {
     "data": {
      "text/plain": [
       "Text(0.5, 1.0, 'hapmap\\nSample rate = 0.1')"
      ]
     },
     "execution_count": 21,
     "metadata": {},
     "output_type": "execute_result"
    },
    {
     "data": {
      "image/png": "[encoded data removed]",
      "text/plain": [
       "<Figure size 1152x288 with 2 Axes>"
      ]
     },
     "metadata": {
      "needs_background": "light"
     },
     "output_type": "display_data"
    }
   ],
   "source": [
    "fig, axs = plt.subplots(1, 2)\n",
    "fig.set_size_inches(16, 4)\n",
    "\n",
    "ax = df['p_value'].plot(kind='hist', bins=64, ax=axs[0])\n",
    "ax.set_xlabel('$LD$ (pearson r)')\n",
    "ax.set_yscale('symlog')\n",
    "ax.set_title(f'{ds_name}\\nSample rate = {sample_rate}')\n",
    "\n",
    "ax = (df['p_value']**2).plot(kind='hist', bins=64, ax=axs[1])\n",
    "ax.set_xlabel('$r^2$ (squared pearson r)')\n",
    "ax.set_yscale('symlog')\n",
    "ax.set_title(f'{ds_name}\\nSample rate = {sample_rate}')"
   ]
  },
  {
   "cell_type": "markdown",
   "metadata": {},
   "source": [
    "### Visualize"
   ]
  },
  {
   "cell_type": "code",
   "execution_count": 18,
   "metadata": {},
   "outputs": [],
   "source": [
    "def get_metrics(df, threshold, step):\n",
    "    df = df.copy()\n",
    "    def get_filtered_status(r):\n",
    "        if pd.isnull(r['p_value']):\n",
    "            return 'only_h'\n",
    "        if r['p_value'] < threshold and r['status'] == 'both':\n",
    "            return 'only_h'\n",
    "        # Drop this case from further calculations\n",
    "        if r['p_value'] < threshold and r['status'] == 'only_p':\n",
    "            return None\n",
    "        return r['status']\n",
    "        \n",
    "    # Calculate integrated statistics \n",
    "    df['status'] = df.apply(get_filtered_status, axis=1)\n",
    "    df = df[df['status'].notnull()]\n",
    "    cts = df['status'].value_counts().to_dict()\n",
    "    ntot = len(df)\n",
    "    nbt = cts.get('both', 0)\n",
    "    nop = cts.get('only_p', 0)\n",
    "    noh = cts.get('only_h', 0)\n",
    "    \n",
    "    # Calculate interval statistics\n",
    "    df = df[(df['p_value'] >= threshold) & (df['p_value'] < threshold + step)]\n",
    "    cts = df['status'].value_counts().to_dict()\n",
    "    nibt = cts.get('both', 0) \n",
    "    niop = cts.get('only_p', 0)\n",
    "    return dict(\n",
    "        threshold=threshold,\n",
    "        n_total=ntot,\n",
    "        n_both=nbt,\n",
    "        n_only_p=nop,\n",
    "        n_only_h=noh,\n",
    "        precision=nbt / (nbt + noh) if nbt + noh > 0 else 0,\n",
    "        recall=nbt / (nbt + nop) if nbt + nop > 0 else 0,\n",
    "        n_int_bt=nibt,\n",
    "        n_int_op=niop,\n",
    "        ecp=nibt / (nibt + niop) if nibt + niop > 0 else 0\n",
    "    )\n",
    "\n",
    "def plot_stats(df):\n",
    "    fig, axs = plt.subplots(1, 2)\n",
    "    fig.set_size_inches(20, 5)\n",
    "    df.set_index('threshold')[['precision', 'recall']].plot(\n",
    "        ax=axs[0], title='Integrated Statistics\\nCalculated for x >= LD')\n",
    "    df.set_index('threshold')[['ecp', 'tcp']].rename(columns={\n",
    "        'ecp': 'empirical_collision_probability',\n",
    "        'tcp': 'theoretical_collision_probability'\n",
    "    }).plot(ax=axs[1], title='Interval Statistics\\nCalculated for LD <= x < LD + step')\n",
    "    for ax in axs:\n",
    "        ax.set_xlabel('True Cosine Similarity (LD)')\n",
    "    fig.suptitle(f'LSH Results\\n(dataset={ds_name}, sample_rate={sample_rate}, h={h}, g={g})')"
   ]
  },
  {
   "cell_type": "code",
   "execution_count": 19,
   "metadata": {},
   "outputs": [
    {
     "data": {
      "text/plain": [
       "'/home/eczech/data/gwas/benchmark/analysis/ld_prune/lsh/stats-ds=hapmap-esr=0.25-h=28-g=16384-p=random.csv'"
      ]
     },
     "execution_count": 19,
     "metadata": {},
     "output_type": "execute_result"
    }
   ],
   "source": [
    "dfstat = pd.DataFrame([\n",
    "    pd.Series(get_metrics(df, t, step=.1))\n",
    "    for t in list(np.arange(.1, 1, step=.1))\n",
    "]).assign(tcp=lambda df: hash_collision_probability(df['threshold'], h=h, g=g))\n",
    "path = analysis_path('stats', ext='csv', ds=ds_name, esr=eval_sample_rate, h=h, g=g, p=projection)\n",
    "dfstat.to_csv(path, index=False)\n",
    "path"
   ]
  },
  {
   "cell_type": "code",
   "execution_count": 22,
   "metadata": {},
   "outputs": [
    {
     "data": {
      "text/html": [
       "<div>\n",
       "<style scoped>\n",
       "    .dataframe tbody tr th:only-of-type {\n",
       "        vertical-align: middle;\n",
       "    }\n",
       "\n",
       "    .dataframe tbody tr th {\n",
       "        vertical-align: top;\n",
       "    }\n",
       "\n",
       "    .dataframe thead th {\n",
       "        text-align: right;\n",
       "    }\n",
       "</style>\n",
       "<table border=\"1\" class=\"dataframe\">\n",
       "  <thead>\n",
       "    <tr style=\"text-align: right;\">\n",
       "      <th></th>\n",
       "      <th>threshold</th>\n",
       "      <th>n_total</th>\n",
       "      <th>n_both</th>\n",
       "      <th>n_only_p</th>\n",
       "      <th>n_only_h</th>\n",
       "      <th>precision</th>\n",
       "      <th>recall</th>\n",
       "      <th>n_int_bt</th>\n",
       "      <th>n_int_op</th>\n",
       "      <th>ecp</th>\n",
       "      <th>tcp</th>\n",
       "    </tr>\n",
       "  </thead>\n",
       "  <tbody>\n",
       "    <tr>\n",
       "      <th>0</th>\n",
       "      <td>0.1</td>\n",
       "      <td>476399.0</td>\n",
       "      <td>869.0</td>\n",
       "      <td>475426.0</td>\n",
       "      <td>104.0</td>\n",
       "      <td>0.893114</td>\n",
       "      <td>0.001824</td>\n",
       "      <td>128.0</td>\n",
       "      <td>417659.0</td>\n",
       "      <td>0.000306</td>\n",
       "      <td>0.000345</td>\n",
       "    </tr>\n",
       "    <tr>\n",
       "      <th>1</th>\n",
       "      <td>0.2</td>\n",
       "      <td>58740.0</td>\n",
       "      <td>741.0</td>\n",
       "      <td>57767.0</td>\n",
       "      <td>232.0</td>\n",
       "      <td>0.761562</td>\n",
       "      <td>0.012665</td>\n",
       "      <td>74.0</td>\n",
       "      <td>53060.0</td>\n",
       "      <td>0.001393</td>\n",
       "      <td>0.001786</td>\n",
       "    </tr>\n",
       "    <tr>\n",
       "      <th>2</th>\n",
       "      <td>0.3</td>\n",
       "      <td>5680.0</td>\n",
       "      <td>667.0</td>\n",
       "      <td>4707.0</td>\n",
       "      <td>306.0</td>\n",
       "      <td>0.685509</td>\n",
       "      <td>0.124116</td>\n",
       "      <td>37.0</td>\n",
       "      <td>3818.0</td>\n",
       "      <td>0.009598</td>\n",
       "      <td>0.008700</td>\n",
       "    </tr>\n",
       "    <tr>\n",
       "      <th>3</th>\n",
       "      <td>0.4</td>\n",
       "      <td>1862.0</td>\n",
       "      <td>630.0</td>\n",
       "      <td>889.0</td>\n",
       "      <td>343.0</td>\n",
       "      <td>0.647482</td>\n",
       "      <td>0.414747</td>\n",
       "      <td>38.0</td>\n",
       "      <td>612.0</td>\n",
       "      <td>0.058462</td>\n",
       "      <td>0.040377</td>\n",
       "    </tr>\n",
       "    <tr>\n",
       "      <th>4</th>\n",
       "      <td>0.5</td>\n",
       "      <td>1250.0</td>\n",
       "      <td>592.0</td>\n",
       "      <td>277.0</td>\n",
       "      <td>381.0</td>\n",
       "      <td>0.608428</td>\n",
       "      <td>0.681243</td>\n",
       "      <td>65.0</td>\n",
       "      <td>199.0</td>\n",
       "      <td>0.246212</td>\n",
       "      <td>0.174900</td>\n",
       "    </tr>\n",
       "    <tr>\n",
       "      <th>5</th>\n",
       "      <td>0.6</td>\n",
       "      <td>1051.0</td>\n",
       "      <td>527.0</td>\n",
       "      <td>78.0</td>\n",
       "      <td>446.0</td>\n",
       "      <td>0.541624</td>\n",
       "      <td>0.871074</td>\n",
       "      <td>126.0</td>\n",
       "      <td>46.0</td>\n",
       "      <td>0.732558</td>\n",
       "      <td>0.598995</td>\n",
       "    </tr>\n",
       "    <tr>\n",
       "      <th>6</th>\n",
       "      <td>0.7</td>\n",
       "      <td>1005.0</td>\n",
       "      <td>401.0</td>\n",
       "      <td>32.0</td>\n",
       "      <td>572.0</td>\n",
       "      <td>0.412127</td>\n",
       "      <td>0.926097</td>\n",
       "      <td>119.0</td>\n",
       "      <td>25.0</td>\n",
       "      <td>0.826389</td>\n",
       "      <td>0.990130</td>\n",
       "    </tr>\n",
       "    <tr>\n",
       "      <th>7</th>\n",
       "      <td>0.8</td>\n",
       "      <td>980.0</td>\n",
       "      <td>282.0</td>\n",
       "      <td>7.0</td>\n",
       "      <td>691.0</td>\n",
       "      <td>0.289825</td>\n",
       "      <td>0.975779</td>\n",
       "      <td>89.0</td>\n",
       "      <td>1.0</td>\n",
       "      <td>0.988889</td>\n",
       "      <td>1.000000</td>\n",
       "    </tr>\n",
       "    <tr>\n",
       "      <th>8</th>\n",
       "      <td>0.9</td>\n",
       "      <td>979.0</td>\n",
       "      <td>193.0</td>\n",
       "      <td>6.0</td>\n",
       "      <td>780.0</td>\n",
       "      <td>0.198356</td>\n",
       "      <td>0.969849</td>\n",
       "      <td>172.0</td>\n",
       "      <td>6.0</td>\n",
       "      <td>0.966292</td>\n",
       "      <td>1.000000</td>\n",
       "    </tr>\n",
       "  </tbody>\n",
       "</table>\n",
       "</div>"
      ],
      "text/plain": [
       "   threshold   n_total  n_both  n_only_p  n_only_h  precision    recall  \\\n",
       "0        0.1  476399.0   869.0  475426.0     104.0   0.893114  0.001824   \n",
       "1        0.2   58740.0   741.0   57767.0     232.0   0.761562  0.012665   \n",
       "2        0.3    5680.0   667.0    4707.0     306.0   0.685509  0.124116   \n",
       "3        0.4    1862.0   630.0     889.0     343.0   0.647482  0.414747   \n",
       "4        0.5    1250.0   592.0     277.0     381.0   0.608428  0.681243   \n",
       "5        0.6    1051.0   527.0      78.0     446.0   0.541624  0.871074   \n",
       "6        0.7    1005.0   401.0      32.0     572.0   0.412127  0.926097   \n",
       "7        0.8     980.0   282.0       7.0     691.0   0.289825  0.975779   \n",
       "8        0.9     979.0   193.0       6.0     780.0   0.198356  0.969849   \n",
       "\n",
       "   n_int_bt  n_int_op       ecp       tcp  \n",
       "0     128.0  417659.0  0.000306  0.000345  \n",
       "1      74.0   53060.0  0.001393  0.001786  \n",
       "2      37.0    3818.0  0.009598  0.008700  \n",
       "3      38.0     612.0  0.058462  0.040377  \n",
       "4      65.0     199.0  0.246212  0.174900  \n",
       "5     126.0      46.0  0.732558  0.598995  \n",
       "6     119.0      25.0  0.826389  0.990130  \n",
       "7      89.0       1.0  0.988889  1.000000  \n",
       "8     172.0       6.0  0.966292  1.000000  "
      ]
     },
     "execution_count": 22,
     "metadata": {},
     "output_type": "execute_result"
    }
   ],
   "source": [
    "# Hapmap: h, g, p = 28, 16384, orthogonal\n",
    "dfstat"
   ]
  },
  {
   "cell_type": "code",
   "execution_count": 27,
   "metadata": {},
   "outputs": [
    {
     "data": {
      "image/png": "[encoded data removed]",
      "text/plain": [
       "<Figure size 1440x360 with 2 Axes>"
      ]
     },
     "metadata": {
      "needs_background": "light"
     },
     "output_type": "display_data"
    }
   ],
   "source": [
    "plot_stats(dfstat)"
   ]
  },
  {
   "cell_type": "code",
   "execution_count": 20,
   "metadata": {},
   "outputs": [
    {
     "data": {
      "text/html": [
       "<div>\n",
       "<style scoped>\n",
       "    .dataframe tbody tr th:only-of-type {\n",
       "        vertical-align: middle;\n",
       "    }\n",
       "\n",
       "    .dataframe tbody tr th {\n",
       "        vertical-align: top;\n",
       "    }\n",
       "\n",
       "    .dataframe thead th {\n",
       "        text-align: right;\n",
       "    }\n",
       "</style>\n",
       "<table border=\"1\" class=\"dataframe\">\n",
       "  <thead>\n",
       "    <tr style=\"text-align: right;\">\n",
       "      <th></th>\n",
       "      <th>threshold</th>\n",
       "      <th>n_total</th>\n",
       "      <th>n_both</th>\n",
       "      <th>n_only_p</th>\n",
       "      <th>n_only_h</th>\n",
       "      <th>precision</th>\n",
       "      <th>recall</th>\n",
       "      <th>n_int_bt</th>\n",
       "      <th>n_int_op</th>\n",
       "      <th>ecp</th>\n",
       "      <th>tcp</th>\n",
       "    </tr>\n",
       "  </thead>\n",
       "  <tbody>\n",
       "    <tr>\n",
       "      <th>0</th>\n",
       "      <td>0.1</td>\n",
       "      <td>476535.0</td>\n",
       "      <td>1184.0</td>\n",
       "      <td>475111.0</td>\n",
       "      <td>240.0</td>\n",
       "      <td>0.831461</td>\n",
       "      <td>0.002486</td>\n",
       "      <td>295.0</td>\n",
       "      <td>417492.0</td>\n",
       "      <td>0.000706</td>\n",
       "      <td>0.000345</td>\n",
       "    </tr>\n",
       "    <tr>\n",
       "      <th>1</th>\n",
       "      <td>0.2</td>\n",
       "      <td>59043.0</td>\n",
       "      <td>889.0</td>\n",
       "      <td>57619.0</td>\n",
       "      <td>535.0</td>\n",
       "      <td>0.624298</td>\n",
       "      <td>0.015195</td>\n",
       "      <td>170.0</td>\n",
       "      <td>52964.0</td>\n",
       "      <td>0.003199</td>\n",
       "      <td>0.001786</td>\n",
       "    </tr>\n",
       "    <tr>\n",
       "      <th>2</th>\n",
       "      <td>0.3</td>\n",
       "      <td>6079.0</td>\n",
       "      <td>719.0</td>\n",
       "      <td>4655.0</td>\n",
       "      <td>705.0</td>\n",
       "      <td>0.504916</td>\n",
       "      <td>0.133792</td>\n",
       "      <td>50.0</td>\n",
       "      <td>3805.0</td>\n",
       "      <td>0.012970</td>\n",
       "      <td>0.008700</td>\n",
       "    </tr>\n",
       "    <tr>\n",
       "      <th>3</th>\n",
       "      <td>0.4</td>\n",
       "      <td>2274.0</td>\n",
       "      <td>669.0</td>\n",
       "      <td>850.0</td>\n",
       "      <td>755.0</td>\n",
       "      <td>0.469803</td>\n",
       "      <td>0.440421</td>\n",
       "      <td>53.0</td>\n",
       "      <td>597.0</td>\n",
       "      <td>0.081538</td>\n",
       "      <td>0.040377</td>\n",
       "    </tr>\n",
       "    <tr>\n",
       "      <th>4</th>\n",
       "      <td>0.5</td>\n",
       "      <td>1677.0</td>\n",
       "      <td>616.0</td>\n",
       "      <td>253.0</td>\n",
       "      <td>808.0</td>\n",
       "      <td>0.432584</td>\n",
       "      <td>0.708861</td>\n",
       "      <td>70.0</td>\n",
       "      <td>194.0</td>\n",
       "      <td>0.265152</td>\n",
       "      <td>0.174900</td>\n",
       "    </tr>\n",
       "    <tr>\n",
       "      <th>5</th>\n",
       "      <td>0.6</td>\n",
       "      <td>1483.0</td>\n",
       "      <td>546.0</td>\n",
       "      <td>59.0</td>\n",
       "      <td>878.0</td>\n",
       "      <td>0.383427</td>\n",
       "      <td>0.902479</td>\n",
       "      <td>145.0</td>\n",
       "      <td>27.0</td>\n",
       "      <td>0.843023</td>\n",
       "      <td>0.598995</td>\n",
       "    </tr>\n",
       "    <tr>\n",
       "      <th>6</th>\n",
       "      <td>0.7</td>\n",
       "      <td>1456.0</td>\n",
       "      <td>401.0</td>\n",
       "      <td>32.0</td>\n",
       "      <td>1023.0</td>\n",
       "      <td>0.281601</td>\n",
       "      <td>0.926097</td>\n",
       "      <td>117.0</td>\n",
       "      <td>27.0</td>\n",
       "      <td>0.812500</td>\n",
       "      <td>0.990130</td>\n",
       "    </tr>\n",
       "    <tr>\n",
       "      <th>7</th>\n",
       "      <td>0.8</td>\n",
       "      <td>1429.0</td>\n",
       "      <td>284.0</td>\n",
       "      <td>5.0</td>\n",
       "      <td>1140.0</td>\n",
       "      <td>0.199438</td>\n",
       "      <td>0.982699</td>\n",
       "      <td>89.0</td>\n",
       "      <td>1.0</td>\n",
       "      <td>0.988889</td>\n",
       "      <td>1.000000</td>\n",
       "    </tr>\n",
       "    <tr>\n",
       "      <th>8</th>\n",
       "      <td>0.9</td>\n",
       "      <td>1428.0</td>\n",
       "      <td>195.0</td>\n",
       "      <td>4.0</td>\n",
       "      <td>1229.0</td>\n",
       "      <td>0.136938</td>\n",
       "      <td>0.979899</td>\n",
       "      <td>174.0</td>\n",
       "      <td>4.0</td>\n",
       "      <td>0.977528</td>\n",
       "      <td>1.000000</td>\n",
       "    </tr>\n",
       "  </tbody>\n",
       "</table>\n",
       "</div>"
      ],
      "text/plain": [
       "   threshold   n_total  n_both  n_only_p  n_only_h  precision    recall  \\\n",
       "0        0.1  476535.0  1184.0  475111.0     240.0   0.831461  0.002486   \n",
       "1        0.2   59043.0   889.0   57619.0     535.0   0.624298  0.015195   \n",
       "2        0.3    6079.0   719.0    4655.0     705.0   0.504916  0.133792   \n",
       "3        0.4    2274.0   669.0     850.0     755.0   0.469803  0.440421   \n",
       "4        0.5    1677.0   616.0     253.0     808.0   0.432584  0.708861   \n",
       "5        0.6    1483.0   546.0      59.0     878.0   0.383427  0.902479   \n",
       "6        0.7    1456.0   401.0      32.0    1023.0   0.281601  0.926097   \n",
       "7        0.8    1429.0   284.0       5.0    1140.0   0.199438  0.982699   \n",
       "8        0.9    1428.0   195.0       4.0    1229.0   0.136938  0.979899   \n",
       "\n",
       "   n_int_bt  n_int_op       ecp       tcp  \n",
       "0     295.0  417492.0  0.000706  0.000345  \n",
       "1     170.0   52964.0  0.003199  0.001786  \n",
       "2      50.0    3805.0  0.012970  0.008700  \n",
       "3      53.0     597.0  0.081538  0.040377  \n",
       "4      70.0     194.0  0.265152  0.174900  \n",
       "5     145.0      27.0  0.843023  0.598995  \n",
       "6     117.0      27.0  0.812500  0.990130  \n",
       "7      89.0       1.0  0.988889  1.000000  \n",
       "8     174.0       4.0  0.977528  1.000000  "
      ]
     },
     "execution_count": 20,
     "metadata": {},
     "output_type": "execute_result"
    }
   ],
   "source": [
    "# Hapmap: h, g, p = 28, 16384, random\n",
    "dfstat"
   ]
  },
  {
   "cell_type": "code",
   "execution_count": 22,
   "metadata": {},
   "outputs": [
    {
     "data": {
      "image/png": "[encoded data removed]",
      "text/plain": [
       "<Figure size 1440x360 with 2 Axes>"
      ]
     },
     "metadata": {
      "needs_background": "light"
     },
     "output_type": "display_data"
    }
   ],
   "source": [
    "plot_stats(dfstat)"
   ]
  },
  {
   "cell_type": "code",
   "execution_count": 21,
   "metadata": {},
   "outputs": [
    {
     "data": {
      "text/html": [
       "<div>\n",
       "<style scoped>\n",
       "    .dataframe tbody tr th:only-of-type {\n",
       "        vertical-align: middle;\n",
       "    }\n",
       "\n",
       "    .dataframe tbody tr th {\n",
       "        vertical-align: top;\n",
       "    }\n",
       "\n",
       "    .dataframe thead th {\n",
       "        text-align: right;\n",
       "    }\n",
       "</style>\n",
       "<table border=\"1\" class=\"dataframe\">\n",
       "  <thead>\n",
       "    <tr style=\"text-align: right;\">\n",
       "      <th></th>\n",
       "      <th>threshold</th>\n",
       "      <th>n_total</th>\n",
       "      <th>n_both</th>\n",
       "      <th>n_only_p</th>\n",
       "      <th>n_only_h</th>\n",
       "      <th>precision</th>\n",
       "      <th>recall</th>\n",
       "    </tr>\n",
       "  </thead>\n",
       "  <tbody>\n",
       "    <tr>\n",
       "      <th>0</th>\n",
       "      <td>0.10</td>\n",
       "      <td>476295.0</td>\n",
       "      <td>155.0</td>\n",
       "      <td>476140.0</td>\n",
       "      <td>0.0</td>\n",
       "      <td>1.000000</td>\n",
       "      <td>0.000325</td>\n",
       "    </tr>\n",
       "    <tr>\n",
       "      <th>1</th>\n",
       "      <td>0.20</td>\n",
       "      <td>58508.0</td>\n",
       "      <td>155.0</td>\n",
       "      <td>58353.0</td>\n",
       "      <td>0.0</td>\n",
       "      <td>1.000000</td>\n",
       "      <td>0.002649</td>\n",
       "    </tr>\n",
       "    <tr>\n",
       "      <th>2</th>\n",
       "      <td>0.30</td>\n",
       "      <td>5374.0</td>\n",
       "      <td>155.0</td>\n",
       "      <td>5219.0</td>\n",
       "      <td>0.0</td>\n",
       "      <td>1.000000</td>\n",
       "      <td>0.028843</td>\n",
       "    </tr>\n",
       "    <tr>\n",
       "      <th>3</th>\n",
       "      <td>0.40</td>\n",
       "      <td>1519.0</td>\n",
       "      <td>155.0</td>\n",
       "      <td>1364.0</td>\n",
       "      <td>0.0</td>\n",
       "      <td>1.000000</td>\n",
       "      <td>0.102041</td>\n",
       "    </tr>\n",
       "    <tr>\n",
       "      <th>4</th>\n",
       "      <td>0.50</td>\n",
       "      <td>869.0</td>\n",
       "      <td>155.0</td>\n",
       "      <td>714.0</td>\n",
       "      <td>0.0</td>\n",
       "      <td>1.000000</td>\n",
       "      <td>0.178366</td>\n",
       "    </tr>\n",
       "    <tr>\n",
       "      <th>5</th>\n",
       "      <td>0.60</td>\n",
       "      <td>605.0</td>\n",
       "      <td>155.0</td>\n",
       "      <td>450.0</td>\n",
       "      <td>0.0</td>\n",
       "      <td>1.000000</td>\n",
       "      <td>0.256198</td>\n",
       "    </tr>\n",
       "    <tr>\n",
       "      <th>6</th>\n",
       "      <td>0.70</td>\n",
       "      <td>433.0</td>\n",
       "      <td>155.0</td>\n",
       "      <td>278.0</td>\n",
       "      <td>0.0</td>\n",
       "      <td>1.000000</td>\n",
       "      <td>0.357968</td>\n",
       "    </tr>\n",
       "    <tr>\n",
       "      <th>7</th>\n",
       "      <td>0.80</td>\n",
       "      <td>289.0</td>\n",
       "      <td>155.0</td>\n",
       "      <td>134.0</td>\n",
       "      <td>0.0</td>\n",
       "      <td>1.000000</td>\n",
       "      <td>0.536332</td>\n",
       "    </tr>\n",
       "    <tr>\n",
       "      <th>8</th>\n",
       "      <td>0.90</td>\n",
       "      <td>200.0</td>\n",
       "      <td>154.0</td>\n",
       "      <td>45.0</td>\n",
       "      <td>1.0</td>\n",
       "      <td>0.993548</td>\n",
       "      <td>0.773869</td>\n",
       "    </tr>\n",
       "    <tr>\n",
       "      <th>9</th>\n",
       "      <td>0.95</td>\n",
       "      <td>179.0</td>\n",
       "      <td>127.0</td>\n",
       "      <td>24.0</td>\n",
       "      <td>28.0</td>\n",
       "      <td>0.819355</td>\n",
       "      <td>0.841060</td>\n",
       "    </tr>\n",
       "  </tbody>\n",
       "</table>\n",
       "</div>"
      ],
      "text/plain": [
       "   threshold   n_total  n_both  n_only_p  n_only_h  precision    recall\n",
       "0       0.10  476295.0   155.0  476140.0       0.0   1.000000  0.000325\n",
       "1       0.20   58508.0   155.0   58353.0       0.0   1.000000  0.002649\n",
       "2       0.30    5374.0   155.0    5219.0       0.0   1.000000  0.028843\n",
       "3       0.40    1519.0   155.0    1364.0       0.0   1.000000  0.102041\n",
       "4       0.50     869.0   155.0     714.0       0.0   1.000000  0.178366\n",
       "5       0.60     605.0   155.0     450.0       0.0   1.000000  0.256198\n",
       "6       0.70     433.0   155.0     278.0       0.0   1.000000  0.357968\n",
       "7       0.80     289.0   155.0     134.0       0.0   1.000000  0.536332\n",
       "8       0.90     200.0   154.0      45.0       1.0   0.993548  0.773869\n",
       "9       0.95     179.0   127.0      24.0      28.0   0.819355  0.841060"
      ]
     },
     "execution_count": 21,
     "metadata": {},
     "output_type": "execute_result"
    }
   ],
   "source": [
    "# HapMap: h, g = 64, 4096\n",
    "pd.DataFrame([\n",
    "    pd.Series(get_metrics(df, t))\n",
    "    for t in list(np.linspace(.1, .9, 9)) + [.95]\n",
    "])"
   ]
  }
 ],
 "metadata": {
  "kernelspec": {
   "display_name": "Python 3",
   "language": "python",
   "name": "python3"
  },
  "language_info": {
   "codemirror_mode": {
    "name": "ipython",
    "version": 3
   },
   "file_extension": ".py",
   "mimetype": "text/x-python",
   "name": "python",
   "nbconvert_exporter": "python",
   "pygments_lexer": "ipython3",
   "version": "3.7.6"
  }
 },
 "nbformat": 4,
 "nbformat_minor": 4
}
