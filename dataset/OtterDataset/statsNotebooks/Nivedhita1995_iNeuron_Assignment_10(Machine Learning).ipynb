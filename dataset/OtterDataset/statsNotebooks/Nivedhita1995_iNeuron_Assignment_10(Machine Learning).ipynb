{
 "cells": [
  {
   "cell_type": "markdown",
   "id": "e8d08d99",
   "metadata": {},
   "source": [
    "1. Define the Bayesian interpretation of probability."
   ]
  },
  {
   "cell_type": "markdown",
   "id": "618d3e68",
   "metadata": {},
   "source": [
    "The Bayesian interpretation of probability is a perspective that views probability as a measure of uncertainty or degree of belief, rather than just a frequency-based concept. It is based on Bayes' theorem, which provides a mathematical framework for updating prior beliefs in light of new evidence."
   ]
  },
  {
   "cell_type": "markdown",
   "id": "0cff94bb",
   "metadata": {},
   "source": [
    "2. Define probability of a union of two events with equation."
   ]
  },
  {
   "cell_type": "markdown",
   "id": "0160e685",
   "metadata": {},
   "source": [
    "The probability of the union of two events A and B, denoted as P(A ∪ B), is the probability that at least one of the events A or B occurs. It can be calculated using the following equation:\n",
    "\n",
    "P(A ∪ B) = P(A) + P(B) - P(A ∩ B)\n",
    "\n",
    "where:\n",
    "\n",
    "P(A) is the probability of event A.\n",
    "P(B) is the probability of event B.\n",
    "P(A ∩ B) is the probability of the intersection of events A and B, i.e., the probability that both events A and B occur simultaneously."
   ]
  },
  {
   "cell_type": "markdown",
   "id": "3e0a62ac",
   "metadata": {},
   "source": [
    "3. What is joint probability? What is its formula?"
   ]
  },
  {
   "cell_type": "markdown",
   "id": "9a1658c8",
   "metadata": {},
   "source": [
    "Joint probability refers to the probability of two or more events occurring simultaneously. \n",
    "It represents the likelihood of the intersection of multiple events happening together.\n",
    "\n",
    "The joint probability of two events A and B is denoted as P(A and B) or P(A, B). \n",
    "It can be calculated using the following formula:\n",
    "\n",
    "P(A and B) = P(A) * P(B|A)\n",
    "\n",
    "where:\n",
    "\n",
    "P(A) is the probability of event A.\n",
    "P(B|A) is the conditional probability of event B given that event A has occurred."
   ]
  },
  {
   "cell_type": "markdown",
   "id": "5e78c8ca",
   "metadata": {},
   "source": [
    "4. What is chain rule of probability?"
   ]
  },
  {
   "cell_type": "markdown",
   "id": "ea7a5990",
   "metadata": {},
   "source": [
    "The chain rule of probability, also known as the multiplication rule, is a fundamental principle in probability theory that allows us to calculate the probability of the joint occurrence of multiple events by breaking it down into conditional probabilities.\n",
    "\n",
    "The chain rule states that the probability of the intersection of multiple events can be expressed as the product of the conditional probabilities of each event given the occurrence of the previous events. \n",
    "\n",
    "Mathematically, the chain rule can be stated as:\n",
    "\n",
    "P(A1, A2, ..., An) = P(A1) * P(A2|A1) * P(A3|A1, A2) * ... * P(An|A1, A2, ..., An-1)\n",
    "\n",
    "where:\n",
    "\n",
    "P(A1, A2, ..., An) represents the joint probability of events A1, A2, ..., An occurring simultaneously.\n",
    "P(A1) is the probability of event A1.\n",
    "P(A2|A1) is the conditional probability of event A2 occurring given that event A1 has occurred.\n",
    "P(A3|A1, A2) is the conditional probability of event A3 occurring given that events A1 and A2 have occurred.\n",
    "P(An|A1, A2, ..., An-1) is the conditional probability of event An occurring given that events A1, A2, ..., An-1 have occurred."
   ]
  },
  {
   "cell_type": "markdown",
   "id": "6907cec0",
   "metadata": {},
   "source": [
    "5. What is conditional probability means? What is the formula of it?"
   ]
  },
  {
   "cell_type": "markdown",
   "id": "6c0c3cdf",
   "metadata": {},
   "source": [
    "Conditional probability is a measure of the probability of an event occurring given that another event has already occurred. \n",
    "It quantifies how the probability of an event is influenced by the knowledge or occurrence of another event.\n",
    "\n",
    "The conditional probability of an event A given an event B is denoted as P(A|B) and is calculated using the following formula:\n",
    "\n",
    "P(A|B) = P(A and B) / P(B)\n",
    "\n",
    "where:\n",
    "\n",
    "P(A|B) is the conditional probability of event A given event B.\n",
    "P(A and B) is the joint probability of events A and B occurring simultaneously.\n",
    "P(B) is the probability of event B."
   ]
  },
  {
   "cell_type": "markdown",
   "id": "6378ae36",
   "metadata": {},
   "source": [
    "6. What are continuous random variables?"
   ]
  },
  {
   "cell_type": "markdown",
   "id": "1d587f1f",
   "metadata": {},
   "source": [
    "Continuous random variables are variables that can take on any value within a specific range or interval. \n",
    "Unlike discrete random variables, which can only take on distinct values, continuous random variables have an uncountable or infinite number of possible values.\n",
    "Continuous random variables are essential in many statistical and mathematical models, such as in probability theory, regression analysis, and hypothesis testing. \n",
    "They allow for the modeling and analysis of real-world phenomena that involve measurements or quantities that vary continuously."
   ]
  },
  {
   "cell_type": "markdown",
   "id": "fe4719fe",
   "metadata": {},
   "source": [
    "7. What are Bernoulli distributions? What is the formula of it?"
   ]
  },
  {
   "cell_type": "markdown",
   "id": "10d4781d",
   "metadata": {},
   "source": [
    "The Bernoulli distribution is a discrete probability distribution that represents the outcomes of a single binary experiment or trial. \n",
    "It models a random variable that can take one of two possible outcomes, often denoted as \"success\" and \"failure\" or \"1\" and \"0\".\n",
    "The probability mass function (PMF) of the Bernoulli distribution is defined as:\n",
    "\n",
    "P(X = x) = p^x * (1 - p)^(1-x)\n",
    "\n",
    "where:\n",
    "\n",
    "P(X = x) is the probability that the random variable X takes on the value x.\n",
    "p is the probability of a \"success\" or the probability that X equals 1.\n",
    "(1 - p) is the probability of a \"failure\" or the probability that X equals 0.\n",
    "x is either 0 or 1, representing the possible outcomes of the experiment."
   ]
  },
  {
   "cell_type": "markdown",
   "id": "e4b9c5a4",
   "metadata": {},
   "source": [
    "8. What is binomial distribution? What is the formula?"
   ]
  },
  {
   "cell_type": "markdown",
   "id": "af99e7ab",
   "metadata": {},
   "source": [
    "The binomial distribution is a discrete probability distribution that models the number of successes in a fixed number of independent Bernoulli trials. \n",
    "It is widely used in statistics to analyze situations where there are two possible outcomes, typically referred to as \"success\" and \"failure,\" and the trials are identical and independent.\n",
    "The binomial distribution is characterized by two parameters: n and p. The parameter n represents the number of trials or experiments, and p represents the probability of success in a single trial.\n",
    "\n",
    "The probability mass function (PMF) of the binomial distribution is given by the formula:\n",
    "\n",
    "P(X = k) = C(n, k) * p^k * (1 - p)^(n-k)\n",
    "\n",
    "where:\n",
    "\n",
    "P(X = k) is the probability that there are exactly k successes in n trials.\n",
    "C(n, k), also known as \"n choose k\" or the binomial coefficient, is the number of ways to choose k successes from n trials and is calculated as C(n, k) = n! / (k! * (n - k)!).\n",
    "p is the probability of success in a single trial.\n",
    "(1 - p) is the probability of failure in a single trial.\n",
    "k is the number of successes, which can range from 0 to n."
   ]
  },
  {
   "cell_type": "markdown",
   "id": "a67b854d",
   "metadata": {},
   "source": [
    "9. What is Poisson distribution? What is the formula?"
   ]
  },
  {
   "cell_type": "markdown",
   "id": "0adc6134",
   "metadata": {},
   "source": [
    "The Poisson distribution is a discrete probability distribution that models the number of events that occur in a fixed interval of time or space, given the average rate of occurrence. \n",
    "The Poisson distribution is characterized by a single parameter, λ (lambda), which represents the average rate of events occurring in the given interval. λ is a positive real number.\n",
    "\n",
    "The probability mass function (PMF) of the Poisson distribution is given by the formula:\n",
    "\n",
    "P(X = k) = (e^(-λ) * λ^k) / k!\n",
    "\n",
    "where:\n",
    "\n",
    "P(X = k) is the probability that there are exactly k events occurring in the interval.\n",
    "e is the base of the natural logarithm (approximately 2.71828).\n",
    "λ is the average rate of events occurring in the interval.\n",
    "k is the number of events, which can take any non-negative integer value."
   ]
  },
  {
   "cell_type": "markdown",
   "id": "08c328b6",
   "metadata": {},
   "source": [
    "10. Define covariance."
   ]
  },
  {
   "cell_type": "markdown",
   "id": "a0d6e1e2",
   "metadata": {},
   "source": [
    "Covariance is a measure of the relationship between two random variables. It quantifies how changes in one variable are associated with changes in another variable. In other words, it indicates the degree to which two variables vary together.\n",
    "\n",
    "Mathematically, the covariance between two random variables X and Y is defined as:\n",
    "\n",
    "cov(X, Y) = E[(X - E(X))(Y - E(Y))]\n",
    "\n",
    "where:\n",
    "\n",
    "cov(X, Y) represents the covariance between X and Y.\n",
    "E(X) and E(Y) denote the expected values (means) of X and Y, respectively."
   ]
  },
  {
   "cell_type": "markdown",
   "id": "74f33505",
   "metadata": {},
   "source": [
    "11. Define correlation"
   ]
  },
  {
   "cell_type": "markdown",
   "id": "48e8dd63",
   "metadata": {},
   "source": [
    "Correlation is a statistical measure that quantifies the strength and direction of the linear relationship between two variables. It provides a standardized measure of association, allowing for easier interpretation and comparison across different datasets.\n",
    "\n",
    "The correlation coefficient, denoted by the symbol \"r,\" ranges from -1 to +1, where:\n",
    "\n",
    "A correlation coefficient of +1 indicates a perfect positive linear relationship, meaning that as one variable increases, the other variable increases proportionally.\n",
    "A correlation coefficient of -1 indicates a perfect negative linear relationship, meaning that as one variable increases, the other variable decreases proportionally.\n",
    "A correlation coefficient of 0 indicates no linear relationship between the variables.\n",
    "Correlation is often computed using the Pearson correlation coefficient, which is defined as:\n",
    "\n",
    "r = (cov(X, Y)) / (σX * σY)\n",
    "\n",
    "where:\n",
    "\n",
    "cov(X, Y) is the covariance between variables X and Y.\n",
    "σX and σY are the standard deviations of X and Y, respectively."
   ]
  },
  {
   "cell_type": "markdown",
   "id": "cc883463",
   "metadata": {},
   "source": [
    "12. Define sampling with replacement. Give example."
   ]
  },
  {
   "cell_type": "markdown",
   "id": "6acc8032",
   "metadata": {},
   "source": [
    "Sampling with replacement is a sampling technique where each selected item from a population is returned to the population before the next selection. In other words, after an item is chosen, it is placed back into the population, allowing it to be selected again in subsequent draws. This means that each selection is independent and unaffected by previous selections.\n",
    "Example:\n",
    "Suppose we have a bag containing five colored balls: red, blue, green, yellow, and orange. We want to select three balls from the bag using sampling with replacement.\n",
    "\n",
    "In the first draw, we randomly select a ball from the bag, let's say we pick the blue ball. We note down its color and then place it back into the bag.\n",
    "In the second draw, we again randomly select a ball from the bag. This time, we might select the red ball. We note down its color and return it to the bag.\n",
    "In the third draw, we once again randomly select a ball from the bag. Let's say we choose the blue ball again. We note down its color and put it back into the bag."
   ]
  },
  {
   "cell_type": "markdown",
   "id": "d7be91de",
   "metadata": {},
   "source": [
    "13. What is sampling without replacement? Give example."
   ]
  },
  {
   "cell_type": "markdown",
   "id": "560df738",
   "metadata": {},
   "source": [
    "Sampling without replacement is a sampling technique where each selected item from a population is not returned to the population before the next selection. In other words, once an item is chosen, it is removed from the population, and subsequent selections are made from the reduced population.\n",
    "\n",
    "Example:\n",
    "Let's consider a deck of playing cards with 52 cards (4 suits, each with 13 cards). We want to randomly select three cards from the deck using sampling without replacement.\n",
    "\n",
    "In the first draw, we randomly select a card from the deck, let's say we pick the Ace of Spades. We note down the card and remove it from the deck.\n",
    "In the second draw, we again randomly select a card, but this time from the reduced deck. Let's say we pick the Six of Hearts. We note down the card and remove it from the deck.\n",
    "In the third draw, we once again randomly select a card from the remaining deck. Suppose we choose the Queen of Diamonds. We note down the card and remove it from the deck."
   ]
  },
  {
   "cell_type": "markdown",
   "id": "0c0ae1ac",
   "metadata": {},
   "source": [
    "14. What is hypothesis? Give example."
   ]
  },
  {
   "cell_type": "markdown",
   "id": "1587984f",
   "metadata": {},
   "source": [
    "In the context of scientific research and statistics, a hypothesis refers to a proposed explanation or prediction about a phenomenon or relationship between variables. It is a statement that can be tested and evaluated based on empirical evidence.\n",
    "\n",
    "A hypothesis typically consists of two components:\n",
    "\n",
    "Null Hypothesis (H0): This is the default or initial assumption that there is no significant relationship or effect between variables. It represents the absence of an expected relationship or effect.\n",
    "Alternative Hypothesis (Ha or H1): This is the hypothesis that contradicts the null hypothesis. It suggests that there is a significant relationship or effect between variables.\n",
    "Example:\n",
    "The effects of a new drug on reducing blood pressure. They may propose the following hypothesis:\n",
    "\n",
    "Null Hypothesis (H0): The new drug has no significant effect on reducing blood pressure in patients.\n",
    "Alternative Hypothesis (Ha): The new drug significantly reduces blood pressure in patients.\n",
    "\n",
    "In this example, the null hypothesis suggests that the drug has no effect on blood pressure, while the alternative hypothesis suggests that the drug does have an effect."
   ]
  },
  {
   "cell_type": "markdown",
   "id": "dee420c7",
   "metadata": {},
   "source": []
  }
 ],
 "metadata": {
  "kernelspec": {
   "display_name": "Python 3 (ipykernel)",
   "language": "python",
   "name": "python3"
  },
  "language_info": {
   "codemirror_mode": {
    "name": "ipython",
    "version": 3
   },
   "file_extension": ".py",
   "mimetype": "text/x-python",
   "name": "python",
   "nbconvert_exporter": "python",
   "pygments_lexer": "ipython3",
   "version": "3.9.12"
  }
 },
 "nbformat": 4,
 "nbformat_minor": 5
}
