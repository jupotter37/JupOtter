{
 "cells": [
  {
   "cell_type": "markdown",
   "metadata": {},
   "source": [
    "## Data linkage bias analysis tutorial \n",
    "\n",
    "This file is a tutorial on how data linkage error can create bias in statistics.\n",
    "\n",
    "Differential error rates means error can be amplified for subgroups within the data who are better or worse represented.\n",
    "\n",
    "In this example , matched records represent records where MPS/any other data linkage solution has managed to return an NHS number for a patient. Unmatched records are records which failed to trace - perhaps due to poor data quality - and therefore a one time use ID is returned / records are excluded from the analysis. \n",
    "\n",
    "This tutorial shows you how a decision to remove unmatched records can have unintended effects on downstream statistics and analysis. \n"
   ]
  },
  {
   "cell_type": "markdown",
   "metadata": {},
   "source": [
    "##### Data linkage glossary\n",
    "MPS - Master Person Service - the  system that enables data linkage between data sets in NHS England through Person_ID by tracing and verifying key identifiers against the Personal Demographics Service (PDS). \n",
    "\n",
    "Matched - MPS has successfully returned an NHS number as a Person_ID for the record.\n",
    "\n",
    "Unmatched - MPS was unable to return an NHS number for the record. This could be due to poor data quality in the record, or several records looking like close matches. In this instance a 'One time use ID' could be returned instead.\n",
    "\n",
    "Linkage error - Bias introduced to publications and data assets from missed matches, as the distribution of unmatched records is not distributed equitably over the entire population."
   ]
  },
  {
   "cell_type": "code",
   "execution_count": 220,
   "metadata": {},
   "outputs": [],
   "source": [
    "import pandas as pd\n",
    "import numpy as np\n",
    "\n",
    "%run tutorial_data.ipynb\n",
    "\n",
    "data_linkage_df = test_df_1\n",
    "realistic_data_linkage_df = test_df_2\n"
   ]
  },
  {
   "cell_type": "markdown",
   "metadata": {},
   "source": [
    "##### Data profiling\n",
    "Data profiling is the process of examining the data and collecting statistics and information about that data to ensure accurate linkage results.\n",
    "\n",
    "In this example, we are getting a count of which patients are matched and unmatched , and admitted and not admitted to hospital for the original data.\n"
   ]
  },
  {
   "cell_type": "code",
   "execution_count": 221,
   "metadata": {},
   "outputs": [
    {
     "name": "stdout",
     "output_type": "stream",
     "text": [
      "Matched count: 9691\n",
      "Not matched count: 309\n",
      "Admitted count: 6166\n",
      "Not admitted count: 3834\n"
     ]
    }
   ],
   "source": [
    "# Count the number of 'True' values in the 'Matched' column\n",
    "matched_count = data_linkage_df['Matched'].sum()\n",
    "not_matched_count = (~data_linkage_df['Matched']).sum()\n",
    "\n",
    "# Count the number of 'True' values in the 'Matched' column\n",
    "admitted_count = data_linkage_df['Admitted'].sum()\n",
    "not_admitted_count = (~data_linkage_df['Admitted']).sum()\n",
    "\n",
    "print('Matched count:', matched_count)\n",
    "print('Not matched count:', not_matched_count)\n",
    "print('Admitted count:', admitted_count)\n",
    "print('Not admitted count:', not_admitted_count)"
   ]
  },
  {
   "cell_type": "markdown",
   "metadata": {},
   "source": [
    "### Calculating the bias accrued from data linkage error when you cannot view unmatched records\n",
    "\n",
    "If we want to calculate the proportion of people admitted to hospital, and we only have access to matched records, it is as if we cannot see the bottom row of this table.\n",
    "\n",
    "Therefore, we can only calculate it as the number of records matched and admitted over the total number of matched records, or $(A / A+B)$\n",
    "\n",
    "|       | Admitted | Not admitted |\n",
    "| ----------- | ----------- |-----------|\n",
    "| Matched      | A       |B|\n",
    "| Unmatched   | C        |D|"
   ]
  },
  {
   "cell_type": "code",
   "execution_count": 222,
   "metadata": {},
   "outputs": [
    {
     "name": "stdout",
     "output_type": "stream",
     "text": [
      "3711\n",
      "5980\n",
      "61.70673821071097\n"
     ]
    }
   ],
   "source": [
    "matched_and_admitted_count = len(data_linkage_df[(data_linkage_df['Matched'] == True) & (data_linkage_df['Admitted'] == True)]) # A\n",
    "\n",
    "matched_and_not_admitted_count = len(data_linkage_df[(data_linkage_df['Matched'] == True) & (data_linkage_df['Admitted'] == False)]) # B\n",
    "\n",
    "matched_admitted_proportion = matched_and_admitted_count/(matched_and_not_admitted_count+matched_and_admitted_count)*100\n",
    "\n",
    "print(matched_and_not_admitted_count)\n",
    "print(matched_and_admitted_count)\n",
    "print(matched_admitted_proportion)"
   ]
  },
  {
   "cell_type": "markdown",
   "metadata": {},
   "source": [
    "##### Accounting for linkage error\n",
    "\n",
    "Ideally, we want to use the entire quadrant to calculate the admission rates\n",
    "\n",
    "This would be both the matched and unmatched admitted records, over the total records, $(A+C/A+B+C+D)$\n",
    "\n",
    "|       | Admitted | Not admitted |\n",
    "| ----------- | ----------- |-----------|\n",
    "| Matched      | A       |B|\n",
    "| Unmatched   | C        |D|"
   ]
  },
  {
   "cell_type": "code",
   "execution_count": 223,
   "metadata": {},
   "outputs": [],
   "source": [
    "matched_and_admitted_count = len(data_linkage_df[(data_linkage_df['Matched'] == True) & (data_linkage_df['Admitted'] == True)]) # A\n",
    "matched_and_not_admitted_count = len(data_linkage_df[(data_linkage_df['Matched'] == True) & (data_linkage_df['Admitted'] == False)]) # B\n",
    "\n",
    "not_matched_and_admitted_count = len(data_linkage_df[(data_linkage_df['Matched'] == False) & (data_linkage_df['Admitted'] == True)]) # C\n",
    "not_matched_and_not_admitted_count = len(data_linkage_df[(data_linkage_df['Matched'] == False) & (data_linkage_df['Admitted'] == False)]) # D\n",
    "\n",
    "proportion_accounting_for_linkage_error = (\n",
    "    (matched_and_admitted_count+not_matched_and_admitted_count)/\n",
    "    (not_matched_and_admitted_count+matched_and_admitted_count+not_matched_and_not_admitted_count+matched_and_not_admitted_count)\n",
    "    *100\n",
    "    ) # A+C / A+B+C+D \n"
   ]
  },
  {
   "cell_type": "code",
   "execution_count": 224,
   "metadata": {},
   "outputs": [
    {
     "name": "stdout",
     "output_type": "stream",
     "text": [
      "Original proportion of admitted, given only matched records are used: 61.71 %\n",
      "Proportion of admitted, given matched and unmatched records are used: 61.66 %\n",
      "Difference in rates: 0.05 %\n"
     ]
    }
   ],
   "source": [
    "print('Original proportion of admitted, given only matched records are used:', round(matched_admitted_proportion,2), '%')\n",
    "\n",
    "print('Proportion of admitted, given matched and unmatched records are used:', round(proportion_accounting_for_linkage_error,2), '%')\n",
    "\n",
    "print('Difference in rates:', round(matched_admitted_proportion-proportion_accounting_for_linkage_error, 2), '%')"
   ]
  },
  {
   "cell_type": "markdown",
   "metadata": {},
   "source": [
    "### Accounting for linkage error for more 'real data'\n",
    "\n",
    "As can be seen in the first example, including the unmatched records does not have a huge effect because the proportion of admitted patients in both groups is very similar.\n",
    "\n",
    "However, the issue is that data linkage error is not proportionately distributed across the population. Systematic reviews of studies comparing the characteristics of linked and unlinked records have identified that more vulnerable or hard to reach populations are often missed, with the probability of a missed match being associated with a range of characteristics including gender, age, ethnicity, deprivation and health status\n",
    "\n",
    "This can have a massive effect on the downstream data for the specific segments of the population affected.\n",
    "\n",
    "#### Data profiling a more 'realistic' sample\n",
    "\n",
    "In this more 'realistic' data example, the unmatched records contain patients who are younger compared to the matched records - which is often the case in our data sets due to younger people having poorer data quality, for example due to moving house more frequently.\n"
   ]
  },
  {
   "cell_type": "code",
   "execution_count": 225,
   "metadata": {},
   "outputs": [
    {
     "name": "stdout",
     "output_type": "stream",
     "text": [
      "Proportion of matched records: 97.0 %\n"
     ]
    }
   ],
   "source": [
    "matched_records_realistic_data_linkage_df =  realistic_data_linkage_df[(realistic_data_linkage_df['Matched'] == True)]\n",
    "unmatched_records_realistic_data_linkage_df =  realistic_data_linkage_df[(realistic_data_linkage_df['Matched'] == False)]\n",
    "\n",
    "matched_records_realistic_data_linkage_count = len(matched_records_realistic_data_linkage_df)\n",
    "unmatched_records_realistic_data_linkage_count = len(unmatched_records_realistic_data_linkage_df)\n",
    "\n",
    "proportion_of_matched_records = (matched_records_realistic_data_linkage_count/(matched_records_realistic_data_linkage_count+unmatched_records_realistic_data_linkage_count))*100\n",
    "\n",
    "print('Proportion of matched records:', proportion_of_matched_records, '%')"
   ]
  },
  {
   "cell_type": "code",
   "execution_count": 226,
   "metadata": {},
   "outputs": [
    {
     "name": "stdout",
     "output_type": "stream",
     "text": [
      "Average age for matched records: 44.74\n",
      "Average age for unmatched records: 29.56\n"
     ]
    }
   ],
   "source": [
    "average_age_matched = round(matched_records_realistic_data_linkage_df['Age'].mean(),2)\n",
    "average_age_unmatched = round(unmatched_records_realistic_data_linkage_df['Age'].mean(),2)\n",
    "\n",
    "print('Average age for matched records:', average_age_matched)\n",
    "print('Average age for unmatched records:', average_age_unmatched)\n"
   ]
  },
  {
   "cell_type": "markdown",
   "metadata": {},
   "source": [
    "#### How this can affect downstream statistics\n",
    "\n",
    "Hospital admission behaviour would be expected to change for younger patients, as they are less likely to be admitted. This means that bias and error can creep into our calculations, as by not accounting for data linkage error the admission rate could be overstated."
   ]
  },
  {
   "cell_type": "code",
   "execution_count": 227,
   "metadata": {},
   "outputs": [
    {
     "name": "stdout",
     "output_type": "stream",
     "text": [
      "Proportion of records admitted in matched patients: 61.56 %\n"
     ]
    }
   ],
   "source": [
    "realistic_matched_and_admitted_count = len(realistic_data_linkage_df[(realistic_data_linkage_df['Matched'] == True) & (realistic_data_linkage_df['Admitted'] == True)]) # A\n",
    "realistic_matched_and_not_admitted_count = len(realistic_data_linkage_df[(realistic_data_linkage_df['Matched'] == True) & (realistic_data_linkage_df['Admitted'] == False)]) # B\n",
    "\n",
    "realistic_matched_admitted_proportion = realistic_matched_and_admitted_count/(realistic_matched_and_not_admitted_count+realistic_matched_and_admitted_count)*100\n",
    "\n",
    "print('Proportion of records admitted in matched patients:', round(realistic_matched_admitted_proportion,2), '%')"
   ]
  },
  {
   "cell_type": "code",
   "execution_count": 237,
   "metadata": {},
   "outputs": [],
   "source": [
    "realistic_not_matched_and_admitted_count = len(realistic_data_linkage_df[(realistic_data_linkage_df['Matched'] == False) & (realistic_data_linkage_df['Admitted'] == True)]) # C\n",
    "realistic_not_matched_and_not_admitted_count = len(realistic_data_linkage_df[(realistic_data_linkage_df['Matched'] == False) & (realistic_data_linkage_df['Admitted'] == False)]) # D\n",
    "\n",
    "realistic_proportion_admitted_unmatched = (\n",
    "    realistic_not_matched_and_admitted_count/\n",
    "    (realistic_not_matched_and_admitted_count+realistic_not_matched_and_not_admitted_count)\n",
    "    *100\n",
    "    ) # C / (C+D)\n",
    "\n",
    "realistic_proportion_accounting_for_linkage_error = (\n",
    "    (realistic_matched_and_admitted_count+realistic_not_matched_and_admitted_count)/\n",
    "    (realistic_not_matched_and_admitted_count+realistic_matched_and_admitted_count+realistic_not_matched_and_not_admitted_count+realistic_matched_and_not_admitted_count)\n",
    "    *100\n",
    "    ) # A+C / (A+B+C+D)\n",
    "\n",
    "realistic_difference_in_rates =  round((realistic_matched_admitted_proportion-realistic_proportion_accounting_for_linkage_error),2)\n"
   ]
  },
  {
   "cell_type": "code",
   "execution_count": 238,
   "metadata": {},
   "outputs": [
    {
     "name": "stdout",
     "output_type": "stream",
     "text": [
      "Original proportion of admitted, given only matched records are used: 61.56 %\n",
      "Proportion admitted in unmatched records: 34.67 %\n",
      "Proportion of admitted, given matched and unmatched records are used: 60.75 %\n",
      "Difference in rates: 0.81 %\n"
     ]
    }
   ],
   "source": [
    "print('Original proportion of admitted, given only matched records are used:', round(realistic_matched_admitted_proportion, 2), '%')\n",
    "print('Proportion admitted in unmatched records:', round(realistic_proportion_admitted_unmatched,2), '%')\n",
    "print('Proportion of admitted, given matched and unmatched records are used:', round(realistic_proportion_accounting_for_linkage_error, 2), '%')\n",
    "print('Difference in rates:', realistic_difference_in_rates, '%')"
   ]
  },
  {
   "cell_type": "markdown",
   "metadata": {},
   "source": [
    "Seems like there is a fairly large difference, as estimation of the proportion of patients admitted when factoring in linkage error is 60.75%, compared to 61.56. This is a difference of 0.89%, compared to 0.01% in the previous dataframe.\n",
    "\n",
    "But this effect is further amplified when filtering down to subgroups which are worse represented in regards to data linkage error.\n",
    "\n",
    "When we filter to ages 20-30, we can see that the proportion of matched records decreases."
   ]
  },
  {
   "cell_type": "code",
   "execution_count": 235,
   "metadata": {},
   "outputs": [
    {
     "name": "stdout",
     "output_type": "stream",
     "text": [
      "Proportion of matched records: 95.7 %\n"
     ]
    }
   ],
   "source": [
    "realistic_data_linkage_ages_20_30 = (realistic_data_linkage_df[(realistic_data_linkage_df['Age']>=20)&(realistic_data_linkage_df['Age']<=30)])\n",
    "\n",
    "matched_records_realistic_data_linkage_20_30 =  realistic_data_linkage_ages_20_30[(realistic_data_linkage_ages_20_30['Matched'] == True)]\n",
    "unmatched_records_realistic_data_linkage_20_30 =  realistic_data_linkage_ages_20_30[(realistic_data_linkage_ages_20_30['Matched'] == False)]\n",
    "\n",
    "matched_records_realistic_data_linkage_count_20_30 = len(matched_records_realistic_data_linkage_20_30)\n",
    "unmatched_records_realistic_data_linkage_count_20_30 = len(unmatched_records_realistic_data_linkage_20_30)\n",
    "\n",
    "proportion_of_matched_records_20_30 = (matched_records_realistic_data_linkage_count_20_30/(matched_records_realistic_data_linkage_count_20_30+unmatched_records_realistic_data_linkage_count_20_30))*100\n",
    "\n",
    "print('Proportion of matched records:', round(proportion_of_matched_records_20_30, 2), '%')"
   ]
  },
  {
   "cell_type": "code",
   "execution_count": 230,
   "metadata": {},
   "outputs": [
    {
     "name": "stdout",
     "output_type": "stream",
     "text": [
      "Proportion of records admitted in matched patients: 62.37 %\n"
     ]
    }
   ],
   "source": [
    "\n",
    "      \n",
    "realistic_matched_and_admitted_count_20_30 = len(realistic_data_linkage_ages_20_30[(realistic_data_linkage_ages_20_30['Matched'] == True) & (realistic_data_linkage_ages_20_30['Admitted'] == True)]) # A\n",
    "realistic_matched_and_not_admitted_count_20_30 = len(realistic_data_linkage_ages_20_30[(realistic_data_linkage_ages_20_30['Matched'] == True) & (realistic_data_linkage_ages_20_30['Admitted'] == False)]) # B\n",
    "\n",
    "realistic_matched_admitted_proportion_20_30 = realistic_matched_and_admitted_count_20_30/(realistic_matched_and_not_admitted_count_20_30+realistic_matched_and_admitted_count_20_30)*100\n",
    "\n",
    "print('Proportion of records admitted in matched patients:', round(realistic_matched_admitted_proportion_20_30,2), '%')"
   ]
  },
  {
   "cell_type": "code",
   "execution_count": 231,
   "metadata": {},
   "outputs": [],
   "source": [
    "realistic_not_matched_and_admitted_count_20_30 = len(realistic_data_linkage_ages_20_30[(realistic_data_linkage_ages_20_30['Matched'] == False) & (realistic_data_linkage_ages_20_30['Admitted'] == True)]) # C\n",
    "realistic_not_matched_and_not_admitted_count_20_30 = len(realistic_data_linkage_ages_20_30[(realistic_data_linkage_ages_20_30['Matched'] == False) & (realistic_data_linkage_ages_20_30['Admitted'] == False)]) # D\n",
    "\n",
    "realistic_proportion_admitted_unmatched_20_30 = (\n",
    "    realistic_not_matched_and_admitted_count_20_30/\n",
    "    (realistic_not_matched_and_admitted_count_20_30+realistic_not_matched_and_not_admitted_count_20_30)\n",
    "    *100\n",
    "    ) # C / (C+D)\n",
    "\n",
    "realistic_proportion_accounting_for_linkage_error_20_30 = (\n",
    "    (realistic_matched_and_admitted_count_20_30+realistic_not_matched_and_admitted_count_20_30)/\n",
    "    (realistic_not_matched_and_admitted_count_20_30+realistic_matched_and_admitted_count_20_30+realistic_not_matched_and_not_admitted_count_20_30+realistic_matched_and_not_admitted_count_20_30)\n",
    "    *100\n",
    "    ) # A+C / (A+B+C+D)"
   ]
  },
  {
   "cell_type": "code",
   "execution_count": 233,
   "metadata": {},
   "outputs": [
    {
     "name": "stdout",
     "output_type": "stream",
     "text": [
      "Original proportion of admitted, given only matched records are used: 62.37 %\n",
      "Proportion admitted in unmatched records: 39.62 %\n",
      "Proportion of admitted, given matched and unmatched records are used: 61.39 %\n",
      "Difference in rates: 0.98 %\n"
     ]
    }
   ],
   "source": [
    "print('Original proportion of admitted, given only matched records are used:', round(realistic_matched_admitted_proportion_20_30, 2), '%')\n",
    "print('Proportion admitted in unmatched records:', round(realistic_proportion_admitted_unmatched_20_30,2), '%')\n",
    "print('Proportion of admitted, given matched and unmatched records are used:', round(realistic_proportion_accounting_for_linkage_error_20_30, 2), '%')\n",
    "print('Difference in rates:', round((realistic_matched_admitted_proportion_20_30-realistic_proportion_accounting_for_linkage_error_20_30),2), '%')"
   ]
  },
  {
   "cell_type": "markdown",
   "metadata": {},
   "source": [
    "### Calculating the bias accrued from data linkage error when you records are pseudonymised\n",
    "\n",
    "If we want to calculate the proportion of people admitted to hospital, and we only have access to matched records, it is as if we cannot see the bottom row of this table.\n",
    "\n",
    "Therefore, we can only calculate it as the number of records matched and admitted over the total number of matched records, or $(A / A+B)$\n",
    "\n",
    "|       | Admitted | Not admitted |\n",
    "| ----------- | ----------- |-----------|\n",
    "| Matched      | A       |B|\n",
    "| Unmatched   | C        |D|"
   ]
  },
  {
   "cell_type": "markdown",
   "metadata": {},
   "source": [
    "### Review notes\n",
    "\n",
    "\n",
    "\n",
    "who is the audience?  - engage the audience, and bear in mind different learning styles / reading comprehension\n",
    "\n",
    "code is verbose  - not a barrier\n",
    "\n",
    "parts are a bit wordy - level of language needs to be brought down\n",
    "\n",
    "might need some scenarios - what does ‘unmatched’ mean\n",
    "\n",
    "^ young people moving house more, numbers are abstract so try to tell the story\n",
    "\n",
    "work with a smaller cohort (?) - easier to say 5 people are excluded \n",
    "\n",
    "tables are good as a matrix - anything you can show pictorally is a bonus\n",
    "\n",
    "venn diagrams for exclusion? \n",
    "\n",
    "something more small scale - like a scenario - so you can ‘exaggerate’ a big swing\n",
    "\n",
    "X number of people left out due to data linkage issues\n",
    "\n",
    "try not to split out all three DFs   \n",
    "\n",
    "audience - don’t need to ‘sell it’ - people will have to seek this out in some form"
   ]
  },
  {
   "cell_type": "code",
   "execution_count": null,
   "metadata": {},
   "outputs": [],
   "source": []
  }
 ],
 "metadata": {
  "kernelspec": {
   "display_name": ".venv",
   "language": "python",
   "name": "python3"
  },
  "language_info": {
   "codemirror_mode": {
    "name": "ipython",
    "version": 3
   },
   "file_extension": ".py",
   "mimetype": "text/x-python",
   "name": "python",
   "nbconvert_exporter": "python",
   "pygments_lexer": "ipython3",
   "version": "undefined.undefined.undefined"
  }
 },
 "nbformat": 4,
 "nbformat_minor": 2
}
