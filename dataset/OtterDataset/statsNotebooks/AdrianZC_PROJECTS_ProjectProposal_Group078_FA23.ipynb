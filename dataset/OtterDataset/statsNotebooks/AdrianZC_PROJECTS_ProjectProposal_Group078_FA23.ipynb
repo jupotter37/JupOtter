{
 "cells": [
  {
   "cell_type": "markdown",
   "metadata": {},
   "source": [
    "# COGS 108 - Project Proposal"
   ]
  },
  {
   "cell_type": "markdown",
   "metadata": {},
   "source": [
    "# Names\n",
    "\n",
    "- Jiayin(Bella) Li\n",
    "- Lauren Ballesteros\n",
    "- Sara Enkhjargal\n",
    "- Natalie Repetti\n",
    "- Adrian Zhu-Chou"
   ]
  },
  {
   "cell_type": "markdown",
   "metadata": {},
   "source": [
    "# Research Question"
   ]
  },
  {
   "cell_type": "markdown",
   "metadata": {},
   "source": [
    "How does the number of pregnancies of an adult woman(at least 21 years old) of Pima Indian heritage affect their probability of getting diabetes(either Type-I or Type-II)?\n"
   ]
  },
  {
   "cell_type": "markdown",
   "metadata": {},
   "source": [
    "## Background and Prior Work"
   ]
  },
  {
   "cell_type": "markdown",
   "metadata": {},
   "source": [
    "The Pima Indians, also known as the Akimel O’odham, are a Native American tribe predominantly residing in the Salt River Pima–Maricopa Indian Community in Arizona, USA. This community has received attention in the realm of public health due to a high prevalence of diabetes, both Type-I and Type-II, among its members. Researchers have long been intrigued by the unusually high rates of diabetes within this population, leading to extensive studies aimed at understanding the factors contributing to this health issue. (Schulz & Chaudhari, 2015)\n",
    "\n",
    "One of the key factors under investigation is the impact of the number of pregnancies on the likelihood of adult women, specifically those aged 21 and above, developing diabetes. Previous research studies, including the one by Akshay Dattatray Khare, have suggested a potential link between the number of pregnancies a woman experiences and her susceptibility to diabetes (Khare, 2022). Pregnancy induces significant hormone changes in a woman’s body, which can influence insulin sensitivity. For Pima Indian women, exploring this relationship is of particular interest due to the higher prevalence of diabetes in their community. \n",
    "\n",
    "To investigate this relationship, researchers often rely on comprehensive datasets that include information on the number of pregnancies, diabetes status, genetic factors, lifestyle choices and other relevant variables. Analyzing such data sets, like the one available on Kaggle, provides a valuable opportunity to explore the correlation between the number of pregnancies and the likelihood of diabetes in Pima Indian women.(Khare, 2022) By conducting a rigorous analysis of this data, researchers aim to contribute meaningful insights to the field of public health, potentially paving the way for more effective diabetes prevention tailored specifically to these Pima Indian women. (Khare, 2022)\n",
    "\n",
    " **Use inline citation through HTML footnotes to specify which references support which statements** \n",
    "\n",
    "1. <a name=\"cite_note-1\"></a> [^](#cite_ref-1) Diabetes Basic. *Center for Disease Control and Prevention*. https://www.cdc.gov/diabetes/basics/diabetes.html \n",
    "2. <a name=\"cite_note-2\"></a> [^](#cite_ref-2) Diabetes Introduction. *World Health Organization*. https://www.who.int/health-topics/diabetes#tab=tab_1 \n",
    "3. <a name=\"cite_note-3\"></a> [^](#cite_ref-3) AKSHAY DATTATRAY KHARE, Diabetes Dataset. *Kaggle*. https://www.kaggle.com/datasets/akshaydattatraykhare/diabetes-dataset/data \n"
   ]
  },
  {
   "cell_type": "markdown",
   "metadata": {},
   "source": [
    "# Hypothesis\n"
   ]
  },
  {
   "cell_type": "markdown",
   "metadata": {},
   "source": [
    "\n",
    "Our main hypothesis is that: An adult woman of Pima Indian heritage with a greater number of pregnancies is more likely to get diabetes, and their probability of getting diabetes would be higher compared to others.\n",
    "We predicted adult women with a greater number of pregnancies would result in a higher level of Glucose, Blood Pressure, SkinThickness, BMI, and a lower level of Insulin. Besides, a greater number of pregnancies also implies an older age.\n"
   ]
  },
  {
   "cell_type": "markdown",
   "metadata": {},
   "source": [
    "# Data"
   ]
  },
  {
   "cell_type": "markdown",
   "metadata": {},
   "source": [
    "1. Explain what the **ideal** dataset you would want to answer this question. (This should include: What variables? How many observations? Who/what/how would these data be collected? How would these data be stored/organized?)\n",
    "\n",
    "Our ideal dataset should contains about total of 9 variables: the number of Pregnancies, the Glucose level in blood, Blood Pressure measurement, Skin Thickness, Insulin level in blood, BMI, Diabetes Percentage, Age, Outcome of getting Diabetes(Yes=1, No=0). Overall, we should have 1 response variable and 8 explanatory variables.\n",
    "\n",
    "In statistics, a sample size of 30 would be considered as a fairly common choice. Since we are doing Big Data Analysis, a sample size of 30 in our project is not a good choice. By researching, we noticed that the population of Pima Indian heritage is about 7386 as of 2022. Thus, we want to have at least 750 observations in our dataset, which is approximately 10% of the overall population.\n",
    "\n",
    "As we mentioned above, our research topic is focusing on the population of Pima Indian heritage. Our research question focuses on adult women who are at least 21 years old. Thus, we want to collect data from the population of Pima Indian heritage whose age is above 20 years old, either have the pregnancy experience or not, with all their data that corresponds to our variables. Hence, we will search online(such as: kaggle) for our dataset. Those data would be collected and stored in a “.csv” file so that our software environment can easily load it out.\n",
    "\n",
    "2. Search for potential **real** datasets that could provide you with something useful for this project.  You do not have to find every piece of data you will use, but you do need to have demonstrated some idea that (a) this data is gettable and (b) that this data may be different from what your ideal is\n",
    "\n",
    "- (a) Our data is from Kaggle's “Diabetes Dataset”, which is “originally from the National Institute of Diabetes and Digestive and Kidney Diseases. Thus, our dataset is real. Inside this page, it provides a click button where we can download and use the dataset. Moreover, the dataset that it provided is in the “.csv” format with a total of 768 observations, which also met our expectations.\n",
    "- (b) 1. Our ideal dataset is the most updated dataset, which contains the most updated situation of how the number of pregnancies influences the outcome of diabetes. However, our dataset was first created in 2015. So we don't know how many times it has been updated and whether the current version is the most recent one. 2. This dataset didn't specify which type it was focusing on. So in our project, we assumed it included both Type-I and Type-II.\n"
   ]
  },
  {
   "cell_type": "markdown",
   "metadata": {},
   "source": [
    "# Ethics & Privacy"
   ]
  },
  {
   "cell_type": "markdown",
   "metadata": {},
   "source": [
    "- Thoughtful discussion of ethical concerns included\n",
    "- Ethical concerns consider the whole data science process (question asked, data collected, data being used, the bias in data, analysis, post-analysis, etc.)\n",
    "- How your group handled bias/ethical concerns clearly described\n",
    "\n",
    "Acknowledge and address any ethics & privacy related issues of your question(s), proposed dataset(s), and/or analyses. Use the information provided in lecture to guide your group discussion and thinking. If you need further guidance, check out [Deon's Ethics Checklist](http://deon.drivendata.org/#data-science-ethics-checklist). In particular:\n",
    "\n",
    "- Are there any biases/privacy/terms of use issues with the data you propsed?\n",
    "- Are there potential biases in your dataset(s), in terms of who it composes, and how it was collected, that may be problematic in terms of it allowing for equitable analysis? (For example, does your data exclude particular populations, or is it likely to reflect particular human biases in a way that could be a problem?)\n",
    "- How will you set out to detect these specific biases before, during, and after/when communicating your analysis?\n",
    "- Are there any other issues related to your topic area, data, and/or analyses that are potentially problematic in terms of data privacy and equitable impact?\n",
    "- How will you handle issues you identified?\n",
    "\n",
    "To uphold ethics and privacy in our project, our group used a dataset that was available online for public use. The dataset was originally from Kaggle, in which the author disclosed that the data were obtained by the National Institute of Diabetes and Digestive and Kidney Diseases.\n",
    "\n",
    "The obtained dataset and our research question focus on a specific group of people, female Pima Indians above age 21, which excludes all other populations. However, we will ensure not to use this data to make conclusions about the general population, and rather, focus on what the data says about the given sample population. Further, the topic covers possible sensitive issues, such as factors possibly indicative of diabetes. However, the dataset did not contain any personally identifiable information, and the primary focus of obtaining the data was informative, to predict if the patient has diabetes based on objective factors.\n",
    "\n",
    "Lastly, we ensure not to make any harmful causative conclusions, such as “more pregnancies leads to diabetes,” as this communicates false information that does not take into account the different causes of diabetes. Instead, we intend to focus on the correlation between pregnancy and diabetes.\n",
    "\n"
   ]
  },
  {
   "cell_type": "markdown",
   "metadata": {},
   "source": [
    "# Team Expectations "
   ]
  },
  {
   "cell_type": "markdown",
   "metadata": {},
   "source": [
    "\n",
    "Read over the [COGS108 Team Policies](https://github.com/COGS108/Projects/blob/master/COGS108_TeamPolicies.md) individually. Then, include your group’s expectations of one another for successful completion of your COGS108 project below. Discuss and agree on what all of your expectations are. Discuss how your team will communicate throughout the quarter and consider how you will communicate respectfully should conflicts arise. By including each member’s name above and by adding their name to the submission, you are indicating that you have read the COGS108 Team Policies, accept your team’s expectations below, and have every intention to fulfill them. These expectations are for your team’s use and benefit — they won’t be graded for their details.\n",
    "\n",
    "* *Communication to team members if assigned work will not be completed on time.*\n",
    "* *Equal amounts of work load distributed to each team member.*\n",
    "* *Mutual respect for each team member and their needs.*\n",
    "* *Communication with team members if assistance is needed to meet deadlines.*\n",
    "* *Ensure quality of work when doing the task given.*\n",
    "* *Encourage team members to work and offer assistance if applicable.*\n",
    "* *Weekly updates on the progress of the project and discussion about possible changes.*\n",
    "* *Keep project documentation clean and up to date.*\n"
   ]
  },
  {
   "cell_type": "markdown",
   "metadata": {},
   "source": [
    "# Project Timeline Proposal"
   ]
  },
  {
   "cell_type": "markdown",
   "metadata": {},
   "source": [
    "\n",
    "\n",
    "| Date  | Tasks to Complete| Discuss in Discord Anytime |\n",
    "|---|---|---|---|\n",
    "| 10/18  |               | Determine the most effective form of communication for the team.  | \n",
    "| 10/25  |  Previous Final Project Review.  | Discuss and finalize the project topic, hypothesis, and initiate background research. | \n",
    "| 10/27  |  Finalize the topic.     |  Collaborate on refining the project hypothesis and narrowing down the scope. Share thoughts on potential data sources and ethical considerations.| \n",
    "| 11/1   |  Formalize and submit the project proposal.  |  Begin searching for relevant datasets. Discuss the plan of data collection and cleaning.        | \n",
    "| 11/15  | Finalize datasets and finish data cleaning.   | Conduct EDA. Review and edit the EDA. Discuss the overall analysis plan. |\n",
    "| 11/29  | Complete EDA.    |  Collaboratively edit the entire project. Ensure consistency and coherence in the presentation of results and conclusions.  |\n",
    "| 12/5   | Finalize the data analysis. Draft the results, conclusion, and discussion sections of the project.  | Review and edit the final project. |\n",
    "| 12/13  | Complete and submit the final project. Fill out and submit group project surveys.  |                   |\n"
   ]
  }
 ],
 "metadata": {
  "kernelspec": {
   "display_name": "python3",
   "language": "python",
   "name": "python3"
  }
 },
 "nbformat": 4,
 "nbformat_minor": 2
}
