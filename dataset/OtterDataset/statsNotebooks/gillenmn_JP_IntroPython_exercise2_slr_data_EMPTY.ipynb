{
 "cells": [
  {
   "cell_type": "markdown",
   "metadata": {},
   "source": [
    "# Example #2: Exploring Data Science with Python - Analyzing Sea Level Trends\n",
    "\n",
    "In this exercise, we will be importing, analyzing, and plotting NOAA Tide Gauge data to interpret and visualize sea level trends for two sites in MA. We will be learning and utilizing these skills:\n",
    "\n",
    "- Importing CSVs and converting them to a usable format with *pandas*\n",
    "- Plotting data with *matplotlib*\n",
    "- Creating functions\n",
    "\n",
    "*Optional:*\n",
    "- Fitting a regression model to imported data with *sklearn*"
   ]
  },
  {
   "cell_type": "code",
   "execution_count": null,
   "metadata": {},
   "outputs": [],
   "source": [
    "# import libraries\n",
    "import numpy as np\n",
    "import matplotlib.pyplot as plt\n",
    "import pandas as pd\n",
    "from sklearn.linear_model import LinearRegression"
   ]
  },
  {
   "cell_type": "markdown",
   "metadata": {},
   "source": [
    "### 1. Import & Clean Data\n",
    "Let's begin with bringing our tide gauge data into python. I've included two CSV files for sea level data - please click on one of these files to examine the input format. For this first part, we'll be using the Woods Hole data, and working with the `pandas` library. It is best to use `pandas` when working with tabular data, but you can also read & work with files using `numpy`."
   ]
  },
  {
   "cell_type": "code",
   "execution_count": null,
   "metadata": {},
   "outputs": [],
   "source": [
    "# use the pandas read_csv function to bring in the data, and assign it to a variable\n",
    "wh_sl = \n",
    "\n",
    "# print the data type - what does read_csv assign this new variable?\n"
   ]
  },
  {
   "cell_type": "markdown",
   "metadata": {},
   "source": [
    "We can also get a description of the rows, columns, and datatypes in our dataframe using the `info()` function:"
   ]
  },
  {
   "cell_type": "code",
   "execution_count": null,
   "metadata": {},
   "outputs": [],
   "source": [
    "# name_of_dataframe.info()\n"
   ]
  },
  {
   "cell_type": "markdown",
   "metadata": {},
   "source": [
    "The first row of text tells us what the datatype of our input variable is (in this case, a dataframe which we identified above). Following that, we can see the number of rows for all columns, as well as the number of columns in the dataframe. What's neat about this function as well is you can see the specific datatype of values for each respective column. For example, the values in `Year` are all integers, and the specific mean sea level measurement values (`Monthly_MSL`) are floats."
   ]
  },
  {
   "cell_type": "markdown",
   "metadata": {},
   "source": [
    "The `describe()` function provides statistical information on each column of the dataframe:"
   ]
  },
  {
   "cell_type": "code",
   "execution_count": null,
   "metadata": {},
   "outputs": [],
   "source": [
    "# name_of_dataframe.describe()\n"
   ]
  },
  {
   "cell_type": "markdown",
   "metadata": {},
   "source": [
    "To make sure the data was imported correctly, we can examine the first few rows using the `head()` function on the dataframe."
   ]
  },
  {
   "cell_type": "code",
   "execution_count": null,
   "metadata": {},
   "outputs": [],
   "source": [
    "# name_of_dataframe.head()\n"
   ]
  },
  {
   "cell_type": "markdown",
   "metadata": {},
   "source": [
    "We can also examine the last few rows using the `tail()` function."
   ]
  },
  {
   "cell_type": "code",
   "execution_count": null,
   "metadata": {},
   "outputs": [],
   "source": [
    "# name_of_dataframe.tail()\n"
   ]
  },
  {
   "cell_type": "markdown",
   "metadata": {},
   "source": [
    "Now that our data is successfully imported into Python, there's just a couple things we need to fix to make our data more usable.\n",
    "\n",
    "If you notice in the printed dataframe above, the dates are bolded in the left most column. It looks like our columns are mislabeled as well. \n",
    "\n",
    "When Python read in the file, it assigned the first column of the CSV as the table index. This shifted all of the column names over, leaving a column of NaN for our `Low_Coef` parameter. But not to fear! This is an easy fix. We'll incorporate some more pandas functions to process our data into a more usable and accurate format."
   ]
  },
  {
   "cell_type": "code",
   "execution_count": null,
   "metadata": {},
   "outputs": [],
   "source": [
    "# first we reset the index to move the years into the data frame using the .reset_index() function\n",
    "wh_sl2 = \n",
    "\n",
    "## it is good practice to assign new variable names when you are changing aspects of the original dataframe. \n",
    "## that way, if you make a mistake, the original data is preserved in python!\n",
    "\n",
    "# look at data to make sure everything is correct using .head()\n"
   ]
  },
  {
   "cell_type": "code",
   "execution_count": null,
   "metadata": {},
   "outputs": [],
   "source": [
    "## we need to overwrite the dataframe to shift our column names to the correct spots. \n",
    "## we do this by creating a new dataframe and assigning it to a new variable\n",
    "\n",
    "# index the existing column names we want (i.e., Year onwards) and assigning them to a specific variable\n",
    "colNames = \n",
    "\n",
    "# creating the new dataframe by indexing the columns we want - this will remove the NaN column we don't need\n",
    "wh_sl3 = \n",
    "\n",
    "# reassign column names to their proper place\n",
    "\n",
    "\n",
    "# look at the dataframe to make sure everything is correct\n"
   ]
  },
  {
   "cell_type": "markdown",
   "metadata": {},
   "source": [
    "Hooray! We've now have our data cleaned up in a usable format and ready for analysis. We're ready to move onto the next step in this exercise.\n",
    "\n",
    "### 2. Plot Sea Level Data\n",
    "\n",
    "We are ready to plot our newly cleaned up sea level data. We'll be using the `matplotlib` library to visual monthly mean sea level through time for Woods Hole.\n",
    "\n",
    "First, let's assign some variables to values from the dataframe to save us some typing:"
   ]
  },
  {
   "cell_type": "code",
   "execution_count": null,
   "metadata": {},
   "outputs": [],
   "source": [
    "years = \n",
    "msl = \n",
    "\n",
    "print(years)\n",
    "print(msl)"
   ]
  },
  {
   "cell_type": "markdown",
   "metadata": {},
   "source": [
    "Below are commands to plot MSL as a solid black line. We also assign labels to the x and y axis, as well as give the plot a title."
   ]
  },
  {
   "cell_type": "code",
   "execution_count": null,
   "metadata": {},
   "outputs": [],
   "source": [
    "# create a figure\n",
    "fig = plt.figure(figsize=plt.figaspect(0.5))\n",
    "# create a line graph\n",
    "\n",
    "# add X & Y axis labels\n",
    "\n",
    "\n",
    "# add a title\n",
    "\n",
    "# show plot\n"
   ]
  },
  {
   "cell_type": "markdown",
   "metadata": {},
   "source": [
    "Looks awesome! We have so far imported data, processed it into a usable format, and have not visualized our plot with a line graph. Great work!\n",
    "\n",
    "There are other functions within the `matplotlib` library to further customize plots that you create. You can find those & their descriptions in the library documentation (linked in **Relevant Libraries** from main notebook) or with the cheat sheet (linked in **Resources** from main notebook).\n",
    "\n",
    "### 3. Constructing Functions\n",
    "\n",
    "We now have an established workflow to extract, process, and plot sea level data. Wouldn't it be nice if we could use this with other sea level rise data sets? This is where functions come in to help!\n",
    "\n",
    "A function takes generic input variables, performs a series of operations on them (including calculations, data processing, plotting, etc.), and returns a specified variable, figure, or even dataset! These can be written within a script, or as a separate python file. Functions are helpful because:\n",
    "1. You don't have to rewrite the same block of code over & over again\n",
    "2. Figure specifics can be standardized\n",
    "3. Open source potential!\n",
    "\n",
    "For this part of the exercise, we will take our workflow from steps 1 & 2 and combine them all into one function called `plot_sl`."
   ]
  },
  {
   "cell_type": "code",
   "execution_count": null,
   "metadata": {},
   "outputs": [],
   "source": [
    "def plot_sl(filename):\n",
    "    # you have the option to include import statements for specific libraries used in the function here. i recommend doing this if you are writing your functions in a separate script!\n",
    "    \n",
    "    # data processing part\n",
    "    \n",
    "    \n",
    "    \n",
    "    \n",
    "    \n",
    "    \n",
    "    # plot mean sea level\n",
    "    \n",
    "    \n",
    "    \n",
    "    # this code block extracts the site name with some fun string indexing & functions\n",
    "    siteName = filename[:-4].replace('_', ' ')\n",
    "    siteName = siteName[:-3] + ',' + siteName[-3:]\n",
    "    \n",
    "    \n",
    "    \n",
    "    \n",
    "    \n",
    "    \n",
    "    return df3"
   ]
  },
  {
   "cell_type": "markdown",
   "metadata": {},
   "source": [
    "Now let's test our function on the Boston NOAA Tide Gauge Data:"
   ]
  },
  {
   "cell_type": "code",
   "execution_count": null,
   "metadata": {},
   "outputs": [],
   "source": [
    "plot_sl('Boston_MA.csv'); #the ; suppresses the function output, if we deleted this we would see the dataframe"
   ]
  },
  {
   "cell_type": "markdown",
   "metadata": {},
   "source": [
    "It works! We now have a convienent function to use to visualize and process sea level data for any NOAA Tide Gauge station. Functions are a wonderful part of any coding language, especially Python (can you tell that I am a huge fan??).\n",
    "\n",
    "This concludes the in-person section of the excerise. Below is an optional addition to the exercise that fits and plots a linear model to our sea level data using the `sklearn` machine learning library. If you are interested in data analysis, I highly recommend you work through the next section on your own time (if we don't get to it in class).\n",
    "\n",
    "## Exercise #2 Optional Skills Practice\n",
    "\n",
    "### 4. Fit a regression model\n",
    "\n",
    "In order to estimate rates of sea level change, NOAA fits a simple linear regression model to the monthly mean sea level (MSL) data. We'll be replicating this approach and fitting our own linear model with our newly cleaned data, using the machine learning library `sklearn`.\n",
    "\n",
    "If you haven't learned about regressions or don't remember them from previous course work, do not fret! John & Arianna will be reviewing these statistical tools in their classes, **Probability & Statistics** and **Data Analysis**, later in the summer. I highly encourage checking those out if you will be working with a lot of data for your research!"
   ]
  },
  {
   "cell_type": "code",
   "execution_count": null,
   "metadata": {},
   "outputs": [],
   "source": [
    "# first, assign our input and output variables to construct the model\n",
    "\n",
    "# we have to convert these columns of datas into 1D arrays to use with the sklearn functions. we assign the variables using np.array(), and change the dimensions of the array with .reshape()\n",
    "# the -1 in reshape means numpy has to figure out that dimension (i.e., in this case, an unknown number of rows)\n",
    "yrs =  #loc isolates rows and/or columns based on labels\n",
    "msl =  #iloc isolates rows and/or based on index\n",
    "#remember python indexing starts at 0!\n",
    "\n",
    "# make sure we got the right data!\n",
    "print(yrs)\n",
    "print() # just an empty space to separate our two arrays\n",
    "print(msl)"
   ]
  },
  {
   "cell_type": "markdown",
   "metadata": {},
   "source": [
    "These arrays should match their respective columns in the dataframe above. Now we can bring in our linear model setup from sklearn."
   ]
  },
  {
   "cell_type": "code",
   "execution_count": null,
   "metadata": {},
   "outputs": [],
   "source": [
    "# initialize and fit the linear regression model\n",
    "lm = \n",
    "lm.score(yrs,msl) # this extracts our R^2 value"
   ]
  },
  {
   "cell_type": "code",
   "execution_count": null,
   "metadata": {},
   "outputs": [],
   "source": [
    "# use fitted linear model to model predicted MSL values\n"
   ]
  },
  {
   "cell_type": "code",
   "execution_count": null,
   "metadata": {},
   "outputs": [],
   "source": [
    "# extract the model coefficient and intercept\n",
    "slope = \n",
    "intcpt = \n",
    "\n",
    "print('The rate of sea level change for Woods Hole, MA is: ' + str(float(slope)) + ' meters per year.')"
   ]
  },
  {
   "cell_type": "markdown",
   "metadata": {},
   "source": [
    "Neat! We just extracted a rate of sea level rise in meters per year for Woods Hole. We can now overlay the calculated regression line to our raw MSL data we plotted before to examine the fit."
   ]
  },
  {
   "cell_type": "code",
   "execution_count": null,
   "metadata": {},
   "outputs": [],
   "source": [
    "fig = plt.figure(figsize=plt.figaspect(0.5))\n",
    "plt.plot(years,msl, color='k');\n",
    "plt.xlabel('Years',style='italic',fontsize=12);\n",
    "plt.ylabel('Monthly MSL (m)',style='italic',fontsize=12);\n",
    "plt.title('Mean Sea Level for Woods Hole, MA', weight='bold',fontsize=15);\n",
    "\n",
    "# add regression line\n",
    "plt.plot(yrs, modeled_msl, color='r', linewidth=2.0)\n",
    "plt.legend(['NOAA Data','Modeled Linear Trend'])\n",
    "plt.show()\n",
    "\n",
    "# print out model specifications\n",
    "print('Model score (R\\u00b2): ' + str(float(lm.score(yrs,msl))))\n",
    "print('The rate of sea level change for Woods Hole, MA is: ' + str(float(slope)) + ' meters per year.')"
   ]
  },
  {
   "cell_type": "markdown",
   "metadata": {},
   "source": [
    "Congratulations! We just fitted a linear sea level rise model for Woods Hole. This concludes the data science section of the class. "
   ]
  }
 ],
 "metadata": {
  "kernelspec": {
   "display_name": "Python 3",
   "language": "python",
   "name": "python3"
  },
  "language_info": {
   "codemirror_mode": {
    "name": "ipython",
    "version": 3
   },
   "file_extension": ".py",
   "mimetype": "text/x-python",
   "name": "python",
   "nbconvert_exporter": "python",
   "pygments_lexer": "ipython3",
   "version": "3.9.5"
  }
 },
 "nbformat": 4,
 "nbformat_minor": 4
}
