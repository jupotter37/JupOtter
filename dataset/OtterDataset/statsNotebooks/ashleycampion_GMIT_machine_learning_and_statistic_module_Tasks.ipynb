{
 "cells": [
  {
   "cell_type": "markdown",
   "metadata": {},
   "source": [
    "# Tasks\n",
    "### This workbook contains my solutions to the tasks for the Machine Learning and Statistics Module"
   ]
  },
  {
   "cell_type": "markdown",
   "metadata": {},
   "source": [
    "\n",
    "\n",
    "\n",
    "\n",
    "#### Task 1 - October 5th, 2020 \n",
    "Write a Python function called sqrt2 that calculates and prints to the screen the square root of 2 to 100 decimal places. Your code should not depend on any module from the standard library or otherwise. You should research the task first and include references and a description of your algorithm.\n",
    "#### Research\n",
    "Newton's method [1] can be used to calculate the square root of a number by first taking a guess and then iteratively moving closer toward the actual square root. According to Newton's method, one can approach further toward the square root of a number, x, from an initial guess of the square root, z, as follows:\n",
    "\n",
    "$$ z_{next} = z - \\frac{z^2-x}{2z} $$\n",
    "\n",
    "Newton's method is of course straightforward to program in Python - one uses Python's operators (-, * and /) to perform each instance of the calculation, and then one instructs the program to keep performing the calculation, using the output of the previous instance as the input to the next, until the square of the output is however close to the number that one is trying to get the square root of (one could say to within 0.001, for example). One would then specify to how many decimal places one would like one's calculated root to have, in this instance, 100.\n",
    "\n",
    "However, there are two impediments to calculating the square root of 2 to a precision to 100 decimal places without using any Python modules, as anyone who tries will quickly find out:\n",
    "1. Decimal point numbers do not have exact representations in binary floating point, which is essentially what Python's float datatype is, and which is the only datatype available for displaying decimal numbers in Python without the use of modules such as Decimal [2]. This means that we will not likely be able to achieve the accuracy required to display the square root of two to 100 decimal places with precision, i.e. exactly, as in order to do so we would have to perform many very precise calculations involving floating point numbers, which are themselves by definition not exact, i.e. imprecise.\n",
    "2. Python is simply not able to store 100 decimal places in a floating point number\n",
    "\n",
    "It is important to note, however, that the problem is not with the Python operators (-, * and /) or loops, but only the float datatype itself. This means that if we could somehow use the other numerical datatype that does not need to be imported in Python, i.e. the integer, to perform the calculation, we should not have a problem - except, that is, for the fact that the integer datatype by does not cater to decimal places.\n",
    "\n",
    "The trick, then, is to forget about decimal places during the calculation itself, and then insert the decimal place afterwards using the string datatype. What if, instead of calculating the square root of two, we calculated the first hundred digits of the square root of: $$2\\times10^{100000000}$$\n",
    "\n",
    "Looking at the two numbers as strings, the only difference would be that one has a '.' and the other does not; and because integers have exact representations in Python's integer datatype, we should not come across any imprecision as we would have using the float datatype. Credit to here [4] for this solution.\n",
    "\n",
    "What will thus been shown as part of my solution is as follows:\n",
    "1. Python's Math module's sqrt function is not accurate to the 100th decimal place (we will use NASA's calculation of the root of 2 to ~ million decimal places as our comparison [3]), nor is it able to even provide 100 decimal places. From this we can infer that the inaccuracy resides in thh datatype used by this function, namely, the float.\n",
    "2. Python's Decimal module's sqrt function is accurate to 100 decimal places, again indicating that Python's float datatype is what is at issue above.\n",
    "3. Python's float datatype cannot calculate the square root of two such that the difference between the actual root squared and the calculated root squared is less than .0001.\n",
    "4. The square root of two can be calculated by using the integer datatype to calculate the square root of *2\\*10^100000000* and then converting it to a string, slicing to retain only the first 100 characters, and then dutifully inserting the decimal point.\n",
    "\n",
    "\n",
    "[1] https://mathworld.wolfram.com/NewtonsMethod.html\n",
    "\n",
    "[2] https://docs.python.org/2/library/decimal.html\n",
    "\n",
    "[3] https://stackoverflow.com/questions/22162522/how-to-display-a-decimal-number-to-100-decimal-places\n",
    "\n",
    "[4] https://stackoverflow.com/questions/64295245/how-to-get-the-square-root-of-a-number-to-100-decimal-places-without-using-any-l"
   ]
  },
  {
   "cell_type": "code",
   "execution_count": 1,
   "metadata": {},
   "outputs": [
    {
     "data": {
      "text/plain": [
       "2.0000000000000004"
      ]
     },
     "execution_count": 1,
     "metadata": {},
     "output_type": "execute_result"
    }
   ],
   "source": [
    "# hint at the inaccuracy of the sqrt function in the\n",
    "# Math module, which uses floats\n",
    "from math import sqrt\n",
    "sqrt(2)**2"
   ]
  },
  {
   "cell_type": "code",
   "execution_count": 2,
   "metadata": {},
   "outputs": [
    {
     "name": "stdout",
     "output_type": "stream",
     "text": [
      "1.4142135623730951454746218587388284504413604736328125000000000000000000000000000000000000000000000000\n",
      "100\n"
     ]
    }
   ],
   "source": [
    "# print the Math module's square root of 2 to 100\n",
    "# decimal places\n",
    "answer = \"%.100f\" % sqrt(2)\n",
    "print(answer)\n",
    "# confirm that there are 100 decimal places\n",
    "print(len(str((answer))) - 2)"
   ]
  },
  {
   "cell_type": "code",
   "execution_count": 3,
   "metadata": {},
   "outputs": [
    {
     "name": "stdout",
     "output_type": "stream",
     "text": [
      "Python's Math module's sqrt function is accurate to the 15th place, although it provides an answer to the 51th place.\n"
     ]
    }
   ],
   "source": [
    "# we will take NASA's calculation of the root of 2\n",
    "# as accurate to 100 decimal places\n",
    "nasa = \"1.41421356237309504880168872420969807856967187537694807317667973799073247846210703885038753432764157273501384623091229702492483605585073721264412149709993583141322266592750559275579995050115278206057147010955997160597027453459686201472851...\"\n",
    "nasa = nasa[:101]\n",
    "# check at which decimal place the Math module\n",
    "# becomes inaccurate, and thus floats likely\n",
    "# become inaccurate\n",
    "for i in range(102):\n",
    "    if str(answer)[i] != nasa[i]:\n",
    "        accuracy = i - 2\n",
    "        break\n",
    "# check how many places (inaccurate or otherwise)\n",
    "# the math module can calculate the root of 2 to\n",
    "for i in range(102):\n",
    "    if str(answer)[i] != \"0\":\n",
    "        x = 0\n",
    "    if str(answer)[i] == \"0\":\n",
    "               x+=1\n",
    "    if x == 4:\n",
    "        place = i-2-x\n",
    "        break\n",
    "print(\"Python's Math module's sqrt function is accurate to the \" + str(accuracy) + \"th place, although it provides an answer to the \" + str(place) + \"th place.\")"
   ]
  },
  {
   "cell_type": "code",
   "execution_count": 4,
   "metadata": {},
   "outputs": [
    {
     "name": "stdout",
     "output_type": "stream",
     "text": [
      "1.414213562373095048801688724209698078569671875376948073176679737990732478462107038850387534327641572\n",
      "1.414213562373095048801688724209698078569671875376948073176679737990732478462107038850387534327641573\n",
      "True\n"
     ]
    }
   ],
   "source": [
    "# show that the Decimal module can calculate the\n",
    "# square root of 2 to 100 decimal places, by \n",
    "# comparing with NASA's figure, above\n",
    "from decimal import Decimal, getcontext\n",
    "# set the decimal point precision to 100\n",
    "getcontext().prec = 100\n",
    "# get the decimal square root of 3\n",
    "Decimal(2).sqrt()\n",
    "print(nasa)\n",
    "print(Decimal(2).sqrt())\n",
    "# as the NASA has not been rounded, \n",
    "# we will check the first 99 decimal values\n",
    "# for simplicity instead\n",
    "print(str(Decimal(2).sqrt())[:100] == nasa[:100])"
   ]
  },
  {
   "cell_type": "code",
   "execution_count": 5,
   "metadata": {},
   "outputs": [
    {
     "data": {
      "text/plain": [
       "Decimal('-4.44089209850062616169452667236328125E-16')"
      ]
     },
     "execution_count": 5,
     "metadata": {},
     "output_type": "execute_result"
    }
   ],
   "source": [
    "# Find the difference between 2 and the square root of 2\n",
    "# to a hundred decimal places squared\n",
    "# note that this number is far smaller than that for\n",
    "# the Math module's function (.0000000000000004)\n",
    "Decimal(2 - 1.414213562373095048801688724209698078569671875376948073176679737990732478462107038850387534327641573 ** 2)"
   ]
  },
  {
   "cell_type": "code",
   "execution_count": 6,
   "metadata": {},
   "outputs": [],
   "source": [
    "# design an algorithm implementing Newton's Method\n",
    "# Newton's method: better guess = 0.5 * (guess + number / guess)\n",
    "# store the desired precision in a variable\n",
    "# we decide on the precision outside of the function itself\n",
    "# as the requirements of the question do not indicate\n",
    "# that precision should be inputted as a parameter to the function\n",
    "def squareRootOfTwo():\n",
    "    # store 2 in a variable so that we are not\n",
    "    number = 2\n",
    "    # hardcoding values\n",
    "    # have the function take a guess\n",
    "    guess = 1.5\n",
    "    # while the guess is not of a sufficient accuracy,\n",
    "    # apply Newton's algorithm to improve it.\n",
    "    # To check the accuracy of the guess, square it and\n",
    "    # check if the absolute difference between the result \n",
    "    # and the input is less than the desired precision.\n",
    "    while abs(guess ** 2 - number) > precision:\n",
    "        # if greater than the precision, apply Newton's alogrithm\n",
    "        guess = guess - ((guess ** 2 - number) / 2 * guess)\n",
    "        # once the guess is sufficiently accurate the while\n",
    "        # loop ends. Now round the result to your liking\n",
    "    print(\"%.100f\" % guess)\n",
    "    return str(answer)"
   ]
  },
  {
   "cell_type": "code",
   "execution_count": 7,
   "metadata": {},
   "outputs": [
    {
     "name": "stdout",
     "output_type": "stream",
     "text": [
      "1.4177445877362315762582056777318939566612243652343750000000000000000000000000000000000000000000000000\n",
      "0.0 seconds taken\n",
      "Running our function so that the square of the calculated square root of two is between 1.9 and 2.1 provides an approximation of the square root of two to the 51th place.\n"
     ]
    }
   ],
   "source": [
    "# Now we will test Newton's method for calculating\n",
    "# the square of two, and time the calculation\n",
    "import time\n",
    "precision = 0.01\n",
    "start = time.time()\n",
    "answer = squareRootOfTwo()\n",
    "end = time.time()\n",
    "print(str(round(end - start, 1)) + \" seconds taken\")\n",
    "# check how many places (inaccurate or otherwise)\n",
    "# this run of the algorithm calculated the root of 2 to\n",
    "for i in range(len(answer)):\n",
    "    if str(answer)[i] != \"0\":\n",
    "        x = 0\n",
    "    if str(answer)[i] == \"0\":\n",
    "               x+=1\n",
    "    if x == 4:\n",
    "        place = i-2-x\n",
    "        break\n",
    "print(\"Running our function so that the square of the calculated square root of two is between 1.9 and 2.1 provides an approximation of the square root of two to the \" + str(place) + \"th place.\")"
   ]
  },
  {
   "cell_type": "code",
   "execution_count": 8,
   "metadata": {},
   "outputs": [
    {
     "name": "stdout",
     "output_type": "stream",
     "text": [
      "1.4145670714723390659628421417437493801116943359375000000000000000000000000000000000000000000000000000\n",
      "0.9 seconds taken\n",
      "Running our function so that the square of the calculated square root of two is between 1.99 and 2.01 provides an approximation of the square root of two to the 51th place.\n"
     ]
    }
   ],
   "source": [
    "# Same again but to a precision of 0.001\n",
    "# note the increase from 89.6 seconds to seconds\n",
    "import time\n",
    "precision = 0.001\n",
    "start = time.time()\n",
    "answer = squareRootOfTwo()\n",
    "end = time.time()\n",
    "print(str(round(end - start, 1)) + \" seconds taken\")\n",
    "# check how many places (inaccurate or otherwise)\n",
    "# this run of the algorithm calculated the root of 2 to\n",
    "for i in range(len(answer)):\n",
    "    if str(answer)[i] != \"0\":\n",
    "        x = 0\n",
    "    if str(answer)[i] == \"0\":\n",
    "               x+=1\n",
    "    if x == 4:\n",
    "        place = i-2-x\n",
    "        break\n",
    "print(\"Running our function so that the square of the calculated square root of two is between 1.99 and 2.01 provides an approximation of the square root of two to the \" + str(place) + \"th place.\")"
   ]
  },
  {
   "cell_type": "code",
   "execution_count": 9,
   "metadata": {
    "scrolled": true
   },
   "outputs": [
    {
     "name": "stdout",
     "output_type": "stream",
     "text": [
      "1.4142489172699921340381479240022599697113037109375000000000000000000000000000000000000000000000000000\n",
      "89.4 seconds taken\n",
      "Running our function so that the square of the calculated square root of two is between 1.999 and 2.001 provides an approximation of the square root of two to the 51th place.\n"
     ]
    }
   ],
   "source": [
    "# Same again but to a precision of 0.0001\n",
    "# note the increase from 89.6 seconds to seconds\n",
    "import time\n",
    "precision = 0.0001\n",
    "start = time.time()\n",
    "answer = squareRootOfTwo()\n",
    "end = time.time()\n",
    "print(str(round(end - start, 1)) + \" seconds taken\")\n",
    "# check how many places (inaccurate or otherwise)\n",
    "# this run of the algorithm calculated the root of 2 to\n",
    "for i in range(len(answer)):\n",
    "    if str(answer)[i] != \"0\":\n",
    "        x = 0\n",
    "    if str(answer)[i] == \"0\":\n",
    "               x+=1\n",
    "    if x == 4:\n",
    "        place = i-2-x\n",
    "        break\n",
    "print(\"Running our function so that the square of the calculated square root of two is between 1.999 and 2.001 provides an approximation of the square root of two to the \" + str(place) + \"th place.\")"
   ]
  },
  {
   "cell_type": "markdown",
   "metadata": {},
   "source": [
    "We can note two things from the running of our function with different precision demands:\n",
    "1. The number of decimal places remains the same (51) despite varying precision demands, indicating that there is a limit to the number of decimal places that a float is capable of storing.\n",
    "2. The computational expense of calculating the square root of two increases very quickly with respect to an increased demand for precision (from 0.0 seconds at 0.1 precision to 1.1 seconds at 0.001 precision to approximately 100 seconds at 0.0001 precision). If one tries to attain an even greater precision, one will see that the function simply times out, i.e. the precision cannot be attained by Python's float datatype.\n",
    "\n",
    "*The conclusion from this is thus that it is not possible to use the float datatype to calculate the square root of 2 to 100 decimal places.*\n",
    "\n",
    "It is important to note, however, that the problem is not with the Python operators (-, * and /) or loops, but only the float datatype itself. This means that if we could somehow use the other numerical datatype that does not need to be imported in Python, i.e. the integer, to perform the calculation, we should not have a problem - except, that is, for the fact that the integer datatype by does not cater to decimal places.\n",
    "\n",
    "The trick, then, is to forget about decimal places during the calculation itself, and then insert the decimal place afterwards using the string datatype. What if, instead of calculating the square root of two, we calculated the first hundred digits of the square root of:\n",
    "$$2\\times10^{100000000}$$\n",
    " \n",
    "Looking at the two numbers as strings, the only difference would be that one has a '.' and the other does not; and because integers have exact representations in Python's integer datatype, we should not come across any imprecision as we would have using the float datatype."
   ]
  },
  {
   "cell_type": "code",
   "execution_count": 10,
   "metadata": {},
   "outputs": [],
   "source": [
    "# rewrite our function so that it calculates the square root\n",
    "# of 2*10**100000000, and then manipulate this using\n",
    "# string operations into the square root of two\n",
    "def squareRootOfTwo():\n",
    "    number = 2*10**200\n",
    "    # have the function take a guess\n",
    "    guess = number // 2\n",
    "    # while the guess is not of a sufficient accuracy,\n",
    "    # apply Newton's algorithm to improve it.\n",
    "    # This time, because we are dealing with very large\n",
    "    # numbers, it is not practical to check that the answer\n",
    "    # is precise. Instead, we will assume that after 1000\n",
    "    # iterations it is as precise as we need.\n",
    "    for i in range(1000):\n",
    "        # if greater than the precision, apply Newton's alogrithm\n",
    "        guess = guess - ((guess ** 2 - number) // (2 * guess))\n",
    "        # once the guess is sufficiently accurate the while\n",
    "        # loop ends. Now round the result to your liking\n",
    "    return guess"
   ]
  },
  {
   "cell_type": "code",
   "execution_count": 11,
   "metadata": {
    "scrolled": false
   },
   "outputs": [
    {
     "name": "stdout",
     "output_type": "stream",
     "text": [
      "1.414213562373095048801688724209698078569671875376948073176679737990732478462107038850387534327641572\n",
      "1.414213562373095048801688724209698078569671875376948073176679737990732478462107038850387534327641572\n",
      "True\n"
     ]
    }
   ],
   "source": [
    "import time\n",
    "precision = 10**100\n",
    "start = time.time()\n",
    "answer = squareRootOfTwo()\n",
    "end = time.time()\n",
    "# we only want the first 100 characters\n",
    "answer = list((str(answer)[:100]))\n",
    "finalanswer = []\n",
    "# the first character will be the same as answer\n",
    "finalanswer.append(answer[0])\n",
    "# the second will be a decimal point\n",
    "finalanswer.append(\".\")\n",
    "# now add the rest of the characters\n",
    "for i in range(1, len(answer)):\n",
    "    finalanswer.append(answer[i])\n",
    "# print our final answer\n",
    "print(\"\".join(finalanswer))\n",
    "# print NASA's calculation\n",
    "print(nasa[:101])\n",
    "# check if they are the same\n",
    "print(\"\".join(finalanswer) == nasa[:101])\n"
   ]
  },
  {
   "cell_type": "markdown",
   "metadata": {},
   "source": [
    "#### Task 2 November 2nd, 2020: \n",
    "The Chi-squared test for independence is a statistical\n",
    "hypothesis test like a t-test. It is used to analyse whether two categorical variables\n",
    "are independent. The Wikipedia article gives the table below as an example [4],\n",
    "stating the Chi-squared value based on it is approximately 24.6. Use scipy.stats\n",
    "to verify this value and calculate the associated p value. You should include a short\n",
    "note with references justifying your analysis in a markdown cell.\n",
    "\n",
    "<table>\n",
    "    <tr>\n",
    "        <td><td>\n",
    "        <td>A<td>\n",
    "        <td>B<td>\n",
    "        <td>C<td>\n",
    "        <td>D<td>\n",
    "        <td>Total<td>\n",
    "    <tr>\n",
    "    <tr>\n",
    "        <td>White Collar<td>\n",
    "        <td>90<td>\n",
    "        <td>60<td>\n",
    "        <td>104<td>\n",
    "        <td>95<td>\n",
    "        <td>349<td>\n",
    "    <tr>\n",
    "    <tr>\n",
    "        <td>Blue Collar<td>\n",
    "        <td>30<td>\n",
    "        <td>50<td>\n",
    "        <td>51<td>\n",
    "        <td>20<td>\n",
    "        <td>151<td>\n",
    "    <tr>\n",
    "    <tr>\n",
    "        <td>No Collar<td>\n",
    "        <td>30<td>\n",
    "        <td>40<td>\n",
    "        <td>45<td>\n",
    "        <td>35<td>\n",
    "        <td>150<td>\n",
    "    <tr>\n",
    "    <tr>\n",
    "        <td>Total<td>\n",
    "        <td>150<td>\n",
    "        <td>150<td>\n",
    "        <td>200<td>\n",
    "        <td>150<td>\n",
    "        <td>650<td>\n",
    "    <tr>\n",
    "<table>\n",
    "    \n",
    "\n",
    "<br>\n",
    "I will first simply use scipy.stats to find the chi-squared value and the corresponding p-value for this sample. One can achieve that without actually understanding how the chi-squared value is actually calculated.the chi2_contingency function can achieve this for us - it's only mandatory parameter is the array of frequencies for each category."
   ]
  },
  {
   "cell_type": "code",
   "execution_count": 12,
   "metadata": {},
   "outputs": [
    {
     "name": "stdout",
     "output_type": "stream",
     "text": [
      "chi^2 = 24.5712028585826\n",
      "p-value = 0.0004098425861096696\n",
      "As the p-value is less than 0.05, the null hypothesis, that the categories are independent, can be assumed to be false.\n"
     ]
    }
   ],
   "source": [
    "import numpy as np\n",
    "import scipy.stats as ss\n",
    "\n",
    "data = np.array([[90, 60, 104, 95],[30, 50, 51, 20],[30, 40, 45, 35]])\n",
    "\n",
    "chi2, p, dof, expected = ss.chi2_contingency(data)\n",
    "\n",
    "print(f\"chi^2 = {chi2}\")\n",
    "print(f\"p-value = {p}\")\n",
    "if p < 0.05:\n",
    "    print(\"As the p-value is less than 0.05, the null hypothesis, that the categories are independent, can be assumed to be false.\")"
   ]
  },
  {
   "cell_type": "markdown",
   "metadata": {},
   "source": [
    "As regards understanding what the chi-squared test achieves, its meaning is actually quite intuitive. This is in contrast to the chi-squared distribution, whose probability density function is certainly intimidating to look at, and mathematically depends on the gamma function - and many say that to understand the gamma function one must first understand the exponential and the poisson functions... Wikipedia's definition of the test is lucid:\n",
    "\n",
    "> The chi-squared test is a statistical test applied to sets of categorical data to evaluate how likely it is that any observed difference between the sets arose by chance [...] It tests a null hypothesis stating that the frequency distribution of certain events observed in a sample is consistent with a particular theoretical distribution. The events considered must be mutually exclusive and have total probability [1].\n",
    "\n",
    "For example, when we flip a coin, the result is either heads or tails, not both - this covers mutual exclusivity. The result also *must* be either heads or tails, meaning that the probability of heads coming up and that of tails coming up equals 1. Of course, we know that a standard coin has a .5 chance of turning up heads, and .5 chance of turning up tails. Thus, if we flip a coin 100 times, and we get 65 heads and 35 tails, we could use the chi-squared test to evaluate whether the disparity between this and the expected 50/50 outcome should be put down to chance or not. Basically, the chi-squared test may inform us that the disparity would highly unlikely to be down to chance, and it may be that the coin is not evenly weighted, for example.\n",
    "\n",
    "The chi-squares test operates then by calculating the chi-squared value of a sample, or number of samples. To get this value, we must first calculate a value that represents the variance between the expected frequency of a category in question with the actual frequency observed in the sample. The formula for this is:\n",
    "$$\\frac{(expected value - actual value)^2}{expected value}$$\n",
    "\n",
    "This formula is very similar to that for standard deviation, as we would expect, because we are here calculating a kind of variance between the expected and actual frequencies in the sample. To obtain the chi-squared value, we then just sum the 'variance' of each category in each sample:\n",
    "\n",
    "$${\\displaystyle \\chi ^{2}=\\sum _{i=1}^{n}{\\frac {(O_{i}-E_{i})^{2}}{E_{i}}}}$$\n",
    "\n",
    "\n",
    "There are two further things that are important to grasp when understanding how we evaluate the chi-squared value to actually carry out the chi-squared test.\n",
    "1. The higher the chi-squared value, the higher the 'variance' between the expected and actual frequencies for the categories, and thus the higher likelihood that the null hypothesis is false.\n",
    "1. Because the chi-squared value is the sum of the 'variances' for each category and sample, more categories and samples will lead to a higher chi-squared value.\n",
    "\n",
    "When one considers both of the above, it is clear that one must evaluate the chi-squared value differently for different numbers of categories and samples. Thus, while the chi-squared value represents our test-statistic, to obtain the more meaningful 'p-value', we must factor in what are know as the 'degrees of freedom,' which can be calculated from the number of categories and samples. If one looks at the table above, one can see that apart form the first and last rows and columns, each row represents a category, and each column a sample. Basically, the degrees of freedom is the number of pieces of data that we need in order to calculate our test-statistic, here the chi-squared value. In this case, we need $(rows - 1)(columns - 1)$ pieces of data, because (assuming we know the total number of datapoints for each category and the total number of datapoints in each sample, which is a safe assumption) we can calculate the frequency of any one category in any one sample by either subtracting the frequencies of the other categories from the total in that sample, or subtracting the frequencies of the category in the other samples from the total datapoints for that category. Thus, for our coin example, the degrees of freedom would be $(2-1)(2-1) = 2$. \n",
    "\n",
    "Once we are equipped with the chi-squared value and the degrees of freedom, we are then able to plot the probability density function for a chi-squared-distribution with those degrees of freedom. Then, we calculate the area under the function and to the left of the calculated chi-squared value (represented by the x-axis), and if that area is less than 0.95, we can reject the null hypothesis (or accept if greater). This is essentially how the p-value of the test is calculated: $1 - area = Pvalue$.\n",
    "\n",
    "Once the purpose and meaning of the chi-squared test is understood, the actual chi-squared distribution becomes much more manageable. In particular, the manner in which the pdf changes with changing degrees of freedom becomes actually intuitively understandable, as the chi-squared value has been shown above to increase with increasing degrees of freedom.\n",
    "\n",
    "\n",
    "References\n",
    "[1] https://en.wikipedia.org/wiki/Pearson%27s_chi-squared_test\n",
    "\n",
    "[2] https://python-bloggers.com/2020/09/how-to-run-chi-square-test-in-python/"
   ]
  },
  {
   "cell_type": "markdown",
   "metadata": {},
   "source": [
    "#### Task 3 November 16th, 2020\n",
    "The standard deviation of an array of numbers x is\n",
    "calculated using numpy as np.sqrt(np.sum((x - np.mean(x))**2)/len(x)) .\n",
    "However, Microsoft Excel has two different versions of the standard deviation calculation, STDDEV.P and STDDEV.S . The STDDEV.P function performs the above\n",
    "calculation but in the STDDEV.S calculation the division is by len(x)-1 rather\n",
    "than len(x) . Research these Excel functions, writing a note in a Markdown cell\n",
    "about the difference between them. Then use numpy to perform a simulation\n",
    "demonstrating that the STDDEV.S calculation is a better estimate for the standard deviation of a population when performed on a sample. Note that part of\n",
    "this task is to figure out the terminology in the previous sentence.\n",
    "\n",
    "#### Research\n",
    "Like many statistical phenomena, there is both a mathematical and intuitive explanation of why when calculating the standard deviation of a sample we divide the sum of the squared distances of each point from the sample mean (i.e the variance) from the size of the sample minus one rather than simply the size of the sample. I will here eschew the mathematical explanation in favour of the intuitive. I have taken this intuitive explanation mostly from this video [1].\n",
    "\n",
    "Firstly, one must understand the difference between a population and its sample:\n",
    "\n",
    "* A population is a complete set of data.\n",
    "* A sample is a sample from a population, and thus is an incomplete set of data.\n",
    "\n",
    "Secondly, one must understand how variance is calculated:\n",
    "* Variance is a measure of the spread of a dataset, and is measured as a sum of each the datapoint's distances from the mean squared.\n",
    "* The distances are squared for two reasons: (1) to avoid a situation where the negative and positive distances from the mean would simply cancel each other and the variance would be zero - by squaring the distances from the mean the result will always be positive and there will be no cancellingo out; (2) to align with what are called the statistical moments of a distribution, which is a topic for another day.\n",
    "* If you still think that squaring the distances seems somewhat artificial, then you are correct to the extent that variance in itself is not a very meaningful value. It is only when one reduces it by dividing by a certain factor and then getting the square root of the result (thereby to a certain extent undoing the previous squaring of the distances) that one arrives at an intrinsically meaningful value - the standard deviation, which represents how much individual values tend to deviate from the mean.\n",
    "\n",
    "With an understanding of the difference between a population and a sample, and how variance is calculated, understanding \n",
    "Because a sample is an incomplete version of a population, statistical phenomena that are derived from the entirety of a dataset's data points, such as the mean, are likely to be different in the population and the sample because there are data points in the population that are missing in the sample. As suggested above, when calculating the variance of a sample/population, we first need to calculate the sample/population mean. This is simply because the mean is involved in the calculation of variance, as variance is a measure of the data points' distance from the mean. Now this the key thing to understand: if one calculates the mean of a sample and then calculates the variance, *and if one then artifically changes the mean in anyway without changing the datapoints and then recalculates the variance using that artificial mean, this new variance will always be greater than the originally calculated variance.* This because the mean is calculated in such a way that it minimizes the total distance of data points from itself and is as much as possible equidistant from all the datapoints (it is a kind of middle value).\n",
    "\n",
    "As we said above, the population mean is almost always different from the sample mean. This means that the sample variance from the population mean will always be greater than the sample variance from the sample mean. To counteract this bias in the sample variance, we  decrease the value of the denominator when calculating the standard deviation so that its value larger than it would have been had we not decreased it. Thus, instead of dividing by n, we divide be n - 1. But why n - 1?\n",
    "\n",
    "The reason for the choice of -1 is somewhat less intuitive, although related to the foregoing. It involves what are called degrees of freedom. The degrees of freedom represents the number of data points that are 'free to move', or are independent.\n",
    "\n",
    "Take a univariate dataset, i.e. where there is one variable, of which we know the mean. In a sample from the population, each new datapoint, i.e. each value that the variable takes on, is independent of the population value. This is because the population cannot be in any way used to calculate the values in the sample (it might suggest ranges for values, but not actually values themselves.). This means that the degrees of freedom of a population is always the size of the population, n. If we take the *sample* mean, however, the situation is different. Here, in a sense there is no longer a one-way relationship where the mean is derived from the values but not the other way around. This is because if we know all but one of the values in the sample as well as the sample mean, then we also can *derive* the remaining value. This means that the remaining value is actually not independent - it is not 'free.' As such, the degrees of freedom of the sample is the size of the sample minus one, n - 1. When we calculate standard deviation, we divide not by the size of the dataset but by the degrees of freedom. In the case of populations, this just happens to equal the size of the dataset. It is also worth mentioning that the same coincidence happens when first calculating the sample mean. Because at that point we do not know the mean, then every value is free and cannot be derived from any other value available to us - hence the degrees of freedom in that case is equal also the sample size.\n",
    "\n",
    "To demonstrate that dividing by the degrees of freedom provides a more accurate standard deviation value than dividing by the size of the sample, I will do the following:\n",
    "\n",
    "1. Simulate a normally distribute dataset using numpy.random's normal() function, which takes in the standard deviation as a parameter.\n",
    "1. Manually calculate the standard deviation of the population according to both formulas, using 1,000 different samples, to calculate the percentage of times which formula was more accurate.\n",
    "1. To make the demonstration even more interesting, we can perform step 2 for twice, where one time we use the population mean to calculate the standard deviation, and the other time we use the sample mean. We would expect that while the (n-1) calculation would be more accurate when using the sample mean in the calculation, the results are likely to be more evenly split when using the population mean. This is because when we use the sample mean, then the degrees of freedom is equal to n - 1, whereas when we use the population mean, the degrees of freedom is equal to n.\n",
    "\n",
    "[1] https://www.youtube.com/watch?v=wpY9o_OyxoQ"
   ]
  },
  {
   "cell_type": "code",
   "execution_count": 13,
   "metadata": {},
   "outputs": [
    {
     "name": "stdout",
     "output_type": "stream",
     "text": [
      "When calculating the standard deviation of the population using the population mean and a sample, across 1,000 samples, the results are as follows:\n",
      "The STDDEV.S - np.sqrt(np.sum((x - np.mean(x))**2)/(len(x)-1)) - calculation was more accurate 52.5% of the time.\n",
      "\n",
      "When calculating the standard deviation of the population using a sample and its sample mean, across 1,000 samples, the results are as follows:\n",
      "The STDDEV.S calculation was more accurate 99.2% of the time.\n"
     ]
    }
   ],
   "source": [
    "import numpy as np\n",
    "import math\n",
    "rng = np.random.default_rng()\n",
    "\n",
    "\n",
    "mu, sigma, n = 10, 3, 10000 # mean, standard deviation and size of dataset\n",
    "print(f'When calculating the standard deviation of the population using the population mean and a sample, across 1,000 samples, the results are as follows:')\n",
    "answer = 0\n",
    "for i in range(1000):\n",
    "    norm = rng.normal(mu, sigma, n)\n",
    "    popstd = np.sqrt((sum(abs(norm - mu)**2))/len(norm))\n",
    "    sampstd = np.sqrt((sum(abs(norm - mu)**2))/(len(norm)-1))\n",
    "    if abs(sigma - popstd) < abs(sigma - sampstd):\n",
    "            answer+=1\n",
    "print(f'The STDDEV.S - np.sqrt(np.sum((x - np.mean(x))**2)/(len(x)-1)) - calculation was more accurate {answer/10}% of the time.')\n",
    "    \n",
    "n = int(n/math.sqrt(n))\n",
    "print(f'\\nWhen calculating the standard deviation of the population using a sample and its sample mean, across 1,000 samples, the results are as follows:')\n",
    "for i in range(1000):\n",
    "    norm = rng.normal(mu, sigma, n)\n",
    "    popstd = np.sqrt(np.sum((norm - np.mean(norm))**2)/len(norm))\n",
    "    sampstd = np.sqrt(np.sum((norm - np.mean(norm))**2)/(len(norm)-1))\n",
    "    if abs(sigma - popstd) < abs(sigma - sampstd):\n",
    "        answer+=1\n",
    "print(f'The STDDEV.S calculation was more accurate {answer/10}% of the time.')"
   ]
  },
  {
   "cell_type": "markdown",
   "metadata": {},
   "source": [
    "#### Task 4 November 30th, 2020\n",
    "Use scikit-learn to apply k-means clustering to Fisher’s famous Iris data set. You will easily obtain a copy of the data set online. Explain in a Markdown cell how your code works and how accurate it might be, and then explain how your model could be used to make predictions of species of iris.\n",
    "\n",
    "#### Research\n",
    "\n",
    "I did not need to do any research for this task as I had performed much more complex machine learning analysis of the Iris data set in the first semester of this course. The steps I took to complete this task were as follows:\n",
    "\n",
    "1. I obtained the Iris dataset from a GitHub account [1] that provides a csv file of the orginial dataset [2].\n",
    "\n",
    "2. I stored the dataset in a numpy array and removed the label column.\n",
    "\n",
    "3. I used sklearn.cluster's kmeans function [3] to train a model from the dataset.\n",
    "\n",
    "4. I then reviewed the groups the model identified in the dataset, and identified which labels the model used for setosa-like, versicolor-like, and virginica-like data points.\n",
    "\n",
    "5. I then calculate the precision, as well as the false positive and false negative rates for each of the groups. I calculated the precisions in particular as this is a statistic that can be used to easily compare the effectiveness of our kmeans model with other models. Precision is defined as follows:\n",
    "> Precision can be seen as a measure of a classifier’s exactness. For each class, it is defined as the ratio of true positives to the sum of true and false positives. Said another way, “for all instances classified positive, what percent was correct?”\n",
    "\n",
    "6. I then showed how to use the model to attempt to predict an iris flower's species.\n",
    "\n",
    "7. I then reused code I had written elsewhere [5] to perform an LDA of the iris dataset, both using sklearn's built-in method as well as manually, to compare precision of the kmeans model against  the LDA model. The LDA model is far superior in terms of precision.\n",
    "\n",
    "\n",
    "[1] https://gist.github.com/curran/a08a1080b88344b0c8a7\n",
    "\n",
    "[2] https://archive.ics.uci.edu/ml/datasets/Iris\n",
    "\n",
    "[3] https://scikit-learn.org/stable/modules/generated/sklearn.cluster.KMeans.html#sklearn.cluster.KMeans\n",
    "\n",
    "[4] https://github.com/ashleycampion/IrisDataSetProject/blob/master/dimensionalityReduction.py\n",
    "\n",
    "[5] https://www.scikit-yb.org/en/latest/api/classifier/classification_report.html"
   ]
  },
  {
   "cell_type": "code",
   "execution_count": 14,
   "metadata": {
    "scrolled": true
   },
   "outputs": [],
   "source": [
    "# Numerical arrays.\n",
    "import numpy as np\n",
    "\n",
    "# Machine learning - KMeans.\n",
    "import sklearn.cluster as skcl\n",
    "\n",
    "# Plotting.\n",
    "import matplotlib.pyplot as plt\n",
    "\n",
    "# Get the csv file\n",
    "import pandas as pd\n",
    "\n",
    "iris = pd.read_csv(\"https://gist.githubusercontent.com/curran/a08a1080b88344b0c8a7/raw/0e7a9b0a5d22642a06d3d5b9bcbad9890c8ee534/iris.csv\")\n",
    "\n",
    "iris\n",
    "df = iris"
   ]
  },
  {
   "cell_type": "code",
   "execution_count": 15,
   "metadata": {},
   "outputs": [
    {
     "name": "stdout",
     "output_type": "stream",
     "text": [
      "[[5.1 3.5 1.4 0.2]]\n"
     ]
    }
   ],
   "source": [
    "# we want to remove the fifth column of each array, as that is the label\n",
    "irisReady = np.array(iris)[:,0:4]\n",
    "print(irisReady[:1])"
   ]
  },
  {
   "cell_type": "code",
   "execution_count": 16,
   "metadata": {},
   "outputs": [],
   "source": [
    "# Perform kmeans fitting.\n",
    "# n_clusters=3 as we know there are three types of irises\n",
    "kmeans = skcl.KMeans(n_clusters=3, random_state=0).fit(irisReady)"
   ]
  },
  {
   "cell_type": "code",
   "execution_count": 17,
   "metadata": {},
   "outputs": [
    {
     "data": {
      "text/plain": [
       "array([1, 1, 1, 1, 1, 1, 1, 1, 1, 1, 1, 1, 1, 1, 1, 1, 1, 1, 1, 1, 1, 1,\n",
       "       1, 1, 1, 1, 1, 1, 1, 1, 1, 1, 1, 1, 1, 1, 1, 1, 1, 1, 1, 1, 1, 1,\n",
       "       1, 1, 1, 1, 1, 1, 0, 0, 2, 0, 0, 0, 0, 0, 0, 0, 0, 0, 0, 0, 0, 0,\n",
       "       0, 0, 0, 0, 0, 0, 0, 0, 0, 0, 0, 2, 0, 0, 0, 0, 0, 0, 0, 0, 0, 0,\n",
       "       0, 0, 0, 0, 0, 0, 0, 0, 0, 0, 0, 0, 2, 0, 2, 2, 2, 2, 0, 2, 2, 2,\n",
       "       2, 2, 2, 0, 0, 2, 2, 2, 2, 0, 2, 0, 2, 0, 2, 2, 0, 0, 2, 2, 2, 2,\n",
       "       2, 0, 2, 2, 2, 2, 0, 2, 2, 2, 0, 2, 2, 2, 0, 2, 2, 0])"
      ]
     },
     "execution_count": 17,
     "metadata": {},
     "output_type": "execute_result"
    }
   ],
   "source": [
    "# see the labels of each data point, i.e. which of the three groups they are in\n",
    "kmeans.labels_"
   ]
  },
  {
   "cell_type": "code",
   "execution_count": 18,
   "metadata": {},
   "outputs": [
    {
     "name": "stdout",
     "output_type": "stream",
     "text": [
      "11.0% of points were inaccurately identified\n",
      "\n",
      "The precision for setosa-identification was 100.0%\n",
      "0.0% of points identified as setosas were false positives\n",
      "0.0% of points not identified as setosas were false negatives\n",
      "\n",
      "The precision for versicolor-identification was 72.0%\n",
      "28.0% of points identified as versicolor were false positives\n",
      "4.0% of points not identified as versicolor were false negatives\n",
      "\n",
      "The precision for virginica-identification was 96.0%\n",
      "4.0% of points identified as virginicas were false positives\n",
      "28.0% of points not identified as virginicas were false negatives\n"
     ]
    }
   ],
   "source": [
    "# the '1's (the setosas) are clearly accurately identified by our k-means algorithm.\n",
    "# however, there appears to be some overlap between the '0's (versicolor) and the '2's (virginicas).\n",
    "# we can now calculate the percentage of points that were accurately labelled by our model, as well as\n",
    "# the false positive and false negative rates for each type of iris that our k-means model attempts to identify in our sample\n",
    "\n",
    "irisLabels = np.array(iris)[:,4]\n",
    "totalFalse, setosaFalsePos, setosaFalseNeg, versicolorFalsePos, versicolorFalseNeg, virginicaFalsePos, virginicaFalseNeg = 0,0,0,0,0,0,0\n",
    "for label, cluster in zip(irisLabels, kmeans.labels_):\n",
    "    if (label != \"setosa\" and cluster == 1):\n",
    "        setosaFalsePos += 1\n",
    "    elif (label == \"setosa\" and cluster != 1):\n",
    "        setosaFalseNeg +=1\n",
    "\n",
    "    if (label != \"versicolor\" and cluster == 0):\n",
    "        versicolorFalsePos += 1\n",
    "    elif (label == \"versicolor\" and cluster != 0):\n",
    "        versicolorFalseNeg +=1\n",
    "\n",
    "    if (label != \"virginica\" and cluster == 2):\n",
    "        virginicaFalsePos += 1\n",
    "    elif (label == \"virginica\" and cluster != 2):\n",
    "        virginicaFalseNeg += 1\n",
    "\n",
    "unique, counts = np.unique(irisLabels, return_counts=True)\n",
    "\n",
    "totalFalse = setosaFalsePos + versicolorFalsePos + virginicaFalsePos\n",
    "print(f'{(totalFalse / sum(counts)).round(2) * 100}% of points were inaccurately identified\\n')\n",
    "\n",
    "print(f'The precision for setosa-identification was {(counts[0] - setosaFalsePos) / counts[0] * 100}%')\n",
    "setosaFalsePos /= counts[0]\n",
    "print(f'{(setosaFalsePos * 100).round(2)}% of points identified as setosas were false positives')\n",
    "setosaFalseNeg /= counts[0]\n",
    "print(f'{(setosaFalseNeg * 100).round(2)}% of points not identified as setosas were false negatives\\n')\n",
    "\n",
    "print(f'The precision for versicolor-identification was {(counts[1] - versicolorFalsePos) / counts[1] * 100}%')\n",
    "versicolorFalsePos /= counts[1]\n",
    "print(f'{(versicolorFalsePos * 100).round(2)}% of points identified as versicolor were false positives')\n",
    "versicolorFalseNeg /= counts[1]\n",
    "print(f'{(versicolorFalseNeg * 100).round(2)}% of points not identified as versicolor were false negatives\\n')\n",
    "\n",
    "print(f'The precision for virginica-identification was {(counts[2] - virginicaFalsePos) / counts[2] * 100}%')\n",
    "virginicaFalsePos /= counts[2]\n",
    "print(f'{(virginicaFalsePos * 100).round(2)}% of points identified as virginicas were false positives')\n",
    "virginicaFalseNeg /= counts[2]\n",
    "print(f'{(virginicaFalseNeg * 100).round(2)}% of points not identified as virginicas were false negatives')\n"
   ]
  },
  {
   "cell_type": "markdown",
   "metadata": {},
   "source": [
    "While our model successfully grouped all the setosas together, it identified more than a quarter of virginicas as versicolors. Its precision in identying versicolors was also quite low, at 72%. Below we will see than there are other classification algorithms that are able to identify species with much greater precision."
   ]
  },
  {
   "cell_type": "code",
   "execution_count": 19,
   "metadata": {},
   "outputs": [
    {
     "name": "stdout",
     "output_type": "stream",
     "text": [
      "[1 0 2]\n",
      "['setosa' 'versicolor' 'virginica']\n"
     ]
    }
   ],
   "source": [
    "# we can use the kmeans model to attempt to precidt irises' species as follows:\n",
    "predictions = kmeans.predict(np.array([[0,0,0,0,], [3,3,3,3,], [10,10,10,10]]))\n",
    "print(predictions)\n",
    "# we can make the predictions more readable for us as follows:\n",
    "predictions = predictions.astype('str')\n",
    "predictions[predictions == \"1\"] = \"setosa\"\n",
    "predictions[predictions == \"0\"] = \"versicolor\"\n",
    "predictions[predictions == \"2\"] = \"virginica\"\n",
    "print(predictions)"
   ]
  },
  {
   "cell_type": "code",
   "execution_count": 20,
   "metadata": {},
   "outputs": [
    {
     "name": "stdout",
     "output_type": "stream",
     "text": [
      "Here is the confusion matrix for sklearn's LDA of the Iris dataset:\n",
      "[[10  0  0]\n",
      " [ 0 11  0]\n",
      " [ 0  1  8]]\n",
      "\n",
      "Here is the Classification Report for sklearn's LDA of the Iris dataset:\n",
      "              precision    recall  f1-score   support\n",
      "\n",
      "      setosa       1.00      1.00      1.00        10\n",
      "  versicolor       0.92      1.00      0.96        11\n",
      "   virginica       1.00      0.89      0.94         9\n",
      "\n",
      "    accuracy                           0.97        30\n",
      "   macro avg       0.97      0.96      0.97        30\n",
      "weighted avg       0.97      0.97      0.97        30\n",
      "\n"
     ]
    },
    {
     "data": {
      "image/png": "[encoded data removed]",
      "text/plain": [
       "<Figure size 432x288 with 1 Axes>"
      ]
     },
     "metadata": {
      "needs_background": "light"
     },
     "output_type": "display_data"
    },
    {
     "data": {
      "image/png": "[encoded data removed]",
      "text/plain": [
       "<Figure size 432x288 with 1 Axes>"
      ]
     },
     "metadata": {
      "needs_background": "light"
     },
     "output_type": "display_data"
    },
    {
     "data": {
      "image/png": "[encoded data removed]",
      "text/plain": [
       "<Figure size 432x288 with 1 Axes>"
      ]
     },
     "metadata": {
      "needs_background": "light"
     },
     "output_type": "display_data"
    },
    {
     "name": "stdout",
     "output_type": "stream",
     "text": [
      "Eigenvalue 1's explained variance: 0.9914724756595078\n",
      "Eigenvalue 2's explained variance: 0.008527524340492263\n",
      "Eigenvalue 3's explained variance: -6.668818402603966e-17\n",
      "Eigenvalue 4's explained variance: -6.668818402603966e-17\n"
     ]
    },
    {
     "data": {
      "image/png": "[encoded data removed]",
      "text/plain": [
       "<Figure size 432x288 with 1 Axes>"
      ]
     },
     "metadata": {
      "needs_background": "light"
     },
     "output_type": "display_data"
    }
   ],
   "source": [
    "# the below code performs an LDA of the iris dataset for comparison\n",
    "# it will be shown that LDA provides a better model for the Iris dataset\n",
    "\n",
    "\n",
    "# for creating the actual scatter plots we want matplotlib.pyplot\n",
    "import matplotlib.pyplot as plt\n",
    "\n",
    "# we only need access to the 'LinearDiscriminantAnalysis'\n",
    "# and 'PrincipalComponentAnalysis'\n",
    "# functions from sklearn.discriminat_analysis\n",
    "# and sklearn.decomposition respectively\n",
    "from sklearn.discriminant_analysis import LinearDiscriminantAnalysis as LDA\n",
    "from sklearn.decomposition import PCA\n",
    "# to test our models we will need to split our dataset in training\n",
    "# and testing sets; we import train_test_split for this purpose\n",
    "from sklearn.model_selection import train_test_split\n",
    "# we also want to display the classification report\n",
    "# and confusion matrix based on our tests\n",
    "from sklearn.metrics import classification_report, confusion_matrix\n",
    "\n",
    "# we will use the os module to create the\n",
    "# the directory to store the files to\n",
    "\n",
    "\n",
    "\n",
    "def createLDAScatterPlot():\n",
    "\n",
    "    # the code for this is adapted from here:\n",
    "    # # https://sebastianraschka.com/Articles/2014_python_lda.html\n",
    "\n",
    "    # we want to split the dataset into the variables proper\n",
    "    # and the classes, i.e. the species. dataframe.iloc[]\n",
    "    # can do this, which takes two parameters, the first slicing\n",
    "    # the rows, the second the columns. Here we want all the rows,\n",
    "    # and the first four columns. In the second case we only want the\n",
    "    # fifth column\n",
    "    X = df.iloc[:,0:4]\n",
    "    Y = df.iloc[:,4]\n",
    "\n",
    "    # we want to plot this on a 2D plane, so we want to use\n",
    "    # two linear discriminants to perform the LDA, which two\n",
    "    # discriminants will then become the two dimensions that we plot\n",
    "    sklearn_lda = LDA(n_components=2)\n",
    "\n",
    "    # there is a very nice explanation of how the fit() and transform()\n",
    "    # methods work here:\n",
    "    # https://stackoverflow.com/questions/23838056/what-is-the-difference-between-transform-and-fit-transform-in-sklearn\n",
    "    # basically, fit() takes in the training data as a parameter,\n",
    "    # is called with one of sklearn's dimension-reducing algorithms,\n",
    "    # and then creates the learning model that will, once the transform()\n",
    "    # method is called with training/test data, translate each datum's\n",
    "    # variable values into the discriminant values by which, in the case\n",
    "    # of LDA, the datasets classes can best be discriminated by.\n",
    "\n",
    "    # ordinarily we would split the dataset into training data\n",
    "    # and testing data, but because here we want to visualize the\n",
    "    # lda in a plot, we can just use the whole dataset\n",
    "    X_lda_sklearn = sklearn_lda.fit_transform(X, Y)\n",
    "    # we set the size of the test set as 0.2 of the dataset,\n",
    "    # which is a generally well-performing proportion, and\n",
    "    # we don't need to set the random seed parameter. See here:\n",
    "    # https://scikit-learn.org/stable/modules/generated/sklearn.model_selection.train_test_split.html\n",
    "    X_train, X_test, Y_train, Y_test = train_test_split(X, Y, test_size=0.2)\n",
    "    Y_predictions = sklearn_lda.fit(X_train, Y_train).predict(X_test)\n",
    "    # we print the confusion matrix\n",
    "    print(\"Here is the confusion matrix for sklearn's LDA of the Iris dataset:\")\n",
    "    print(confusion_matrix(Y_test, Y_predictions))\n",
    "    print()\n",
    "    # followed by the classification report\n",
    "    print(\"Here is the Classification Report for sklearn's LDA of the Iris dataset:\")\n",
    "    print(classification_report(Y_test, Y_predictions))\n",
    "\n",
    "    # we now just plot these values as normal, using a scatter plot\n",
    "    # so that the individual data points are distinguishable\n",
    "    ax = plt.subplot(111)\n",
    "    for label in [\"setosa\", \"versicolor\",\"virginica\"]:\n",
    "\n",
    "        plt.plot(X_lda_sklearn[:,0][Y == label],\n",
    "                    X_lda_sklearn[:,1][Y == label],\n",
    "                    '.',\n",
    "                    label=label)\n",
    "\n",
    "    plt.xlabel('Linear Discriminate 1')\n",
    "    plt.ylabel('Linear Discriminate 2')\n",
    "\n",
    "    plt.legend()\n",
    "    plt.title(\"Linear Discriminate Analysis\")\n",
    "\n",
    "    # remove axis spines, as they can be distracting\n",
    "    ax.spines[\"top\"].set_visible(False)\n",
    "    ax.spines[\"right\"].set_visible(False)\n",
    "    ax.spines[\"bottom\"].set_visible(False)\n",
    "    ax.spines[\"left\"].set_visible(False)\n",
    "\n",
    "    plt.grid()\n",
    "    plt.tight_layout\n",
    "    plt.show()\n",
    "    plt.close()\n",
    "\n",
    "\n",
    "\n",
    "def createPCAScatterPlot():\n",
    "\n",
    "    # the code for this is adapted from here:\n",
    "    # https://sebastianraschka.com/Articles/2014_python_lda.html\n",
    "\n",
    "    # we want to split the dataset into the variables proper\n",
    "    # and the classes, i.e. the species. dataframe.iloc[]\n",
    "    # can do this, which takes two parameters, the first slicing\n",
    "    # the rows, the second the columns. Here we want all the rows,\n",
    "    # and the first four columns. In the second case we only want the\n",
    "    # fifth column\n",
    "    X = df.iloc[:,0:4]\n",
    "    Y = df.iloc[:,4]\n",
    "\n",
    "\n",
    "    sklearn_pca = PCA(n_components=2)\n",
    "\n",
    "    X_pca_sklearn = sklearn_pca.fit_transform(X, Y)\n",
    "\n",
    "    ax = plt.subplot(111)\n",
    "    for label in [\"setosa\", \"versicolor\",\"virginica\"]:\n",
    "\n",
    "        plt.plot(X_pca_sklearn[:,0][Y == label],\n",
    "                    X_pca_sklearn[:,1][Y == label],\n",
    "                    '.',\n",
    "                    label=label)\n",
    "\n",
    "    plt.xlabel('Principal Component 1')\n",
    "    plt.ylabel('Principal Component 2')\n",
    "\n",
    "    plt.legend()\n",
    "    plt.title(\"Principal Component Analysis\")\n",
    "\n",
    "    # remove axis spines, as they can be distracting\n",
    "    ax.spines[\"top\"].set_visible(False)\n",
    "    ax.spines[\"right\"].set_visible(False)\n",
    "    ax.spines[\"bottom\"].set_visible(False)\n",
    "    ax.spines[\"left\"].set_visible(False)\n",
    "\n",
    "    plt.grid()\n",
    "    plt.tight_layout\n",
    "    plt.show()\n",
    "    plt.close()\n",
    "\n",
    "\n",
    "def homemadeDimensionalityReduction():\n",
    "    ax = plt.subplot(1,1,1)\n",
    "    for label, group in (df.groupby(\"species\")):\n",
    "        # for the third parameter to the plot() function, we use '.'\n",
    "        # to create a scatter plot, i.e. with dots rather than lines\n",
    "        plt.plot(group[\"petal_width\"]*300 + group[\"petal_length\"]*75 + group[\"sepal_length\"]*25 + group[\"sepal_width\"]*25, group[\"sepal_length\"], '.', label=label)\n",
    "\n",
    "    # we add a legend to distinguish between the species, as they\n",
    "    # are included on the same plot. We do not need to include the\n",
    "    # label parameter, as we have already defined the labels in the\n",
    "    # plot() function itself.\n",
    "    # although the legends do not interfere with the points in the plots,\n",
    "    # it is still safer to make them transparant.\n",
    "    plt.legend(framealpha=0.5)\n",
    "    plt.xlabel(\"Petal Width * 300 + Petal Length * 75 + Sepal Length * 25 + Sepal Width * 25\")\n",
    "    plt.ylabel(\"Sepal Length (cm)\")\n",
    "    plt.title(\"A Homemade Discriminant\")\n",
    "    plt.grid()\n",
    "    ax.spines[\"top\"].set_visible(False)\n",
    "    ax.spines[\"right\"].set_visible(False)\n",
    "    ax.spines[\"bottom\"].set_visible(False)\n",
    "    ax.spines[\"left\"].set_visible(False)\n",
    "    plt.show()\n",
    "    # close the plot so that the next plot is not\n",
    "    # superimposed on top of this one\n",
    "    plt.close()\n",
    "\n",
    "\n",
    "\n",
    "def createManualLDA():\n",
    "    # I have used many sources for achieving this, the main\n",
    "    # one being here: https://sebastianraschka.com/Articles/2014_python_lda.html\n",
    "    # to perform LDA, we need to calculate the within-class\n",
    "    # and between-class scatter matricies, and then create\n",
    "    # another matrix from these that we will decompose into\n",
    "    # it eigenvalues, and then we will multiply the dataset\n",
    "    # by the eigenvectors with the highest corresponding\n",
    "    # eigenvalues\n",
    "\n",
    "    # the formula for creating the within-class scatter matrix is:\n",
    "    # the sum of (x−mi) (x−mi)Transposed for each row in each class,\n",
    "    # where x is the row transposed and mi is an array holding the\n",
    "    # means for each column for the current class.\n",
    "\n",
    "    # As the within-class scatter matrix is calculated as a sum, we\n",
    "    # initialize it as a matrix of zeros with dimension d*d, where d\n",
    "    # is the number of features (columns) in the dataset\n",
    "    withinClassScatterMatrix = np.zeros((4, 4))\n",
    "    # create a 2d array containing arrays for the means of each class\n",
    "    speciesMeans = []\n",
    "    for species in ['setosa', 'versicolor', 'virginica']:\n",
    "        speciesMeans.append(np.mean(df[df['species'] == species]).tolist())\n",
    "    # we can use the zip function to iterate through the names of the classes\n",
    "    # and their column means at the same time\n",
    "    for species, mean in zip(['setosa', 'versicolor', 'virginica'], speciesMeans):\n",
    "        # initialize the scatter matrix for the current class\n",
    "        classScatterMatrix = np.zeros((4,4))\n",
    "        # iterate through the rows of the current class\n",
    "        for row in range(len(df[df['species'] == species])):\n",
    "            row = df[df['species'] == species].iloc[row]\n",
    "            # we now need to transpose the row into a d*1 matrix,\n",
    "            # where d is the number of features in the dataset.\n",
    "            row = np.array([row[:4]]).reshape(4,1)\n",
    "            # same for the class means\n",
    "            mean = np.array(mean).reshape(4,1)\n",
    "            # now we just plug everything into the formula to create the\n",
    "            # current classes scatter matrix\n",
    "            classScatterMatrix = classScatterMatrix + (row-mean).dot((row-mean).T)\n",
    "        # once the current classes scatter matrix is created, we add it to the\n",
    "        # within-class scatter matrix\n",
    "        withinClassScatterMatrix = withinClassScatterMatrix + classScatterMatrix\n",
    "        # convert the numpy dtype of the matrix to float. We must do this\n",
    "        # as the dtype of the df species are object, which will be problematic\n",
    "        # later on when we are performing operations on the within-class scatter matrix.\n",
    "    withinClassScatterMatrix = withinClassScatterMatrix.astype('float')\n",
    "\n",
    "    # the formula for creating the between-class scatter matrix is:\n",
    "    # the sum of each classes solution for Ni(mi−m) (mi−m)Transposed, where m is the overall mean,\n",
    "    # mi and Ni are the means and sizes of the respective classes, and all three\n",
    "    # are d*1 matrices, where d is the number of features in the dataset.\n",
    "    # As the between class scatter matrix is calculated as a sum, we\n",
    "    # initialize it as a matrix of zeros with dimension d*d, where d\n",
    "    # is the number of features (columns) in the dataset\n",
    "    betweenClassScatterMatrix = np.zeros((4, 4))\n",
    "    # we need the means of all columns for this.\n",
    "    # dataframe.mean() returns a series object, we want\n",
    "    # to change this to a list with the series.tolist() method.\n",
    "    means = df.mean().tolist()\n",
    "    for i, mean in enumerate(speciesMeans):\n",
    "        # we now need to transpose the 1*4 matrices of overall means\n",
    "        # and means per species into 4*1 matricies.\n",
    "        speciesMeans = np.array([mean]).reshape(4,1)\n",
    "        overallMeans = np.array([means]).reshape(4,1)\n",
    "        # and now we can simply plug everything into the formula\n",
    "        betweenClassScatterMatrix += 50 * (speciesMeans - overallMeans).dot((speciesMeans - overallMeans).T)\n",
    "    # now we want the product of the inverse of the covariance matrix and\n",
    "    # the between class scatter matrix, and we will call this the\n",
    "    # matrixToDecompose\n",
    "    matrixToDecompose = np.linalg.inv(withinClassScatterMatrix).dot(betweenClassScatterMatrix)\n",
    "    # we now need to decompose this matrix into its eigenvalues and\n",
    "    # associated eigenvectors. This is a straightforward process\n",
    "    # in that we can two equations to work with, and in both equations\n",
    "    # there is only one unknown, namely, the eignvalues and eigenvectors\n",
    "    # respectively. The equation to calculate the eigenvalues is:\n",
    "    # determinant of (matrixToDecompose - eigenvalue(identity Matrix)) = 0\n",
    "    # For calculating the eigenvectors we then use:\n",
    "    # (matrixToDecompose - eigenvalue(identity Matrix))eigenvector = 0\n",
    "    # However, there are two aspects here that are prohibitive,\n",
    "    # namely the floating point values in the matrix will make the calculations\n",
    "    # messy, and the first equation will result in polynomial equation of degree four.\n",
    "    # For these reasons I am not going to spend time going through the calculations\n",
    "    # step by step, but will simply let numpy do the work for me.\n",
    "    eigenValues, eigenVectors = np.linalg.eig(matrixToDecompose)\n",
    "\n",
    "    # What we can do at least is to plug the results eigenvalues and eigenvectors\n",
    "    # back into the second of the two equations above, to assure ourselves\n",
    "    # that nothing has gone wrong. We want to make sure that:\n",
    "    # (matrixToDecompose - eigenvalue(identity Matrix))eigenvector = 0\n",
    "    # we can use numpy's assert_array_almost_equal method for this\n",
    "    # saw this here: https://sebastianraschka.com/Articles/2014_python_lda.html\n",
    "    for i, e in enumerate(eigenValues):\n",
    "        np.testing.assert_array_almost_equal(matrixToDecompose @ eigenVectors[:,i].reshape(4,1),\n",
    "                                         e * eigenVectors[:,i].reshape(4,1),\n",
    "                                         decimal=6, err_msg='', verbose=True)\n",
    "\n",
    "    # now that we have the eigenvalues and eigenvectors, we want to rank the\n",
    "    # eigenvalues and determine their associated 'explained variance', which\n",
    "    # expresses (on a scale of 0-1) the model's ability to represent the data,\n",
    "    # or more specifically the model's ability to explain the variance in the\n",
    "    # variables in the dataset. Note that explained variance is referred\n",
    "    # to as η squared (η**2), and its value is equal to the coefficient\n",
    "    # of determination tha is used in regression analysis, R squared.\n",
    "    # see here: https://www.statisticshowto.com/explained-variance-variation/\n",
    "    # In understanding explained variance it is helpful to understand\n",
    "    # what the eigenvalues actually mean here. The eigenvalues\n",
    "    # represent the amount of variance in the variables in the dataset explained\n",
    "    # by their corresponding eigenvectors. See here:\n",
    "    # https://www.thejuliagroup.com/blog/factor-analysis-and-eigenvalues/\n",
    "    # If you add up all of the eigenvalues, you get the total variance in the\n",
    "    # dataset, and as such if you divide each eigenvalue by that total, one\n",
    "    # arrives at the explained variance.\n",
    "    # we don't really want to sort the eigenvalues here, because we want\n",
    "    # their indexes to match the eigenvectors, so we just display them as is\n",
    "    for i, j in enumerate(eigenValues):\n",
    "        # perhaps due to Python's floating point imprecision, the eigenvalues\n",
    "        # are actually complex, so we only want their real aspects\n",
    "        print(f\"Eigenvalue {i+1}'s explained variance: {j.real / sum(eigenValues.real)}\")\n",
    "    # In reality the first eigenvalue is sufficiently that we could capture\n",
    "    # most of the data's variance with it alone, but we want to create a\n",
    "    # scatter plot so we will include the next best eigenvector as a second\n",
    "    # dimension. We now want to create the matrix that we will transform our\n",
    "    # dataset with. This will be created from the eigenvectors corresponding\n",
    "    # to the selected eigenvalues, such that the first column is composed of\n",
    "    # the first eigenvectos and the second the second. To do this we first\n",
    "    # transpose the eigenvectors to a 4*1 shape, and then pass then both to\n",
    "    # numpy's hstack function, explained here: https://www.geeksforgeeks.org/numpy-hstack-in-python/\n",
    "    # this function is capable of taking in arrays of arrays as arguments,\n",
    "    # and adding the first arrays in each array together, and so on.\n",
    "    transformativeMatrix = np.hstack((eigenVectors[:, 0].reshape(4,1).real, eigenVectors[:, 1].reshape(4,1).real))\n",
    "    # now we simply multiply the dataset by this transformative Matrix\n",
    "    # and plot to our heart's content\n",
    "    # when multiply matrices the number of columns in the first\n",
    "    # matrix must be equal to the number of rows in the second,\n",
    "    # so I have removed the species column, to be added in after\n",
    "    LDAspace = df.iloc[:, :4] @ transformativeMatrix\n",
    "    # adding species column back in, code taken from here:\n",
    "    # https://stackoverflow.com/questions/12555323/adding-new-column-to-existing-dataframe-in-python-pandas\n",
    "    LDAspace['species'] = pd.Series(np.array(50 * ['setosa'] + 50 * ['versicollor'] + 50 * ['virginica']), index=df.index)\n",
    "    # and now we just plot as normal\n",
    "    ax = plt.subplot(111)\n",
    "    for label in [\"setosa\", \"versicolor\", \"virginica\"]:\n",
    "\n",
    "        plt.plot(LDAspace.iloc[:, 0][df['species'] == label],\n",
    "                    LDAspace.iloc[:, 1][df['species'] == label],\n",
    "                    '.',\n",
    "                    label=label)\n",
    "\n",
    "    plt.xlabel('Linear Discriminant 1')\n",
    "    plt.ylabel('Linear Discriminant 2')\n",
    "\n",
    "    plt.legend()\n",
    "    plt.title(\"Manual Linear Discriminate Analysis\")\n",
    "\n",
    "    # remove axis spines, as they can be distracting\n",
    "    ax.spines[\"top\"].set_visible(False)\n",
    "    ax.spines[\"right\"].set_visible(False)\n",
    "    ax.spines[\"bottom\"].set_visible(False)\n",
    "    ax.spines[\"left\"].set_visible(False)\n",
    "\n",
    "    plt.grid()\n",
    "    plt.tight_layout\n",
    "    plt.show()\n",
    "    plt.close()\n",
    "\n",
    "\n",
    "createLDAScatterPlot()\n",
    "createPCAScatterPlot()\n",
    "homemadeDimensionalityReduction()\n",
    "createManualLDA()\n",
    "\n",
    "\n",
    "\n",
    "\n",
    "\n",
    "# for eigenvectors: https://medium.com/fintechexplained/what-are-eigenvalues-and-eigenvectors-a-must-know-concept-for-machine-learning-80d0fd330e47\n",
    "\n",
    "# for pca https://scikit-learn.org/stable/auto_examples/decomposition/plot_pca_vs_lda.html\n",
    "\n",
    "# for feature scaling https://benalexkeen.com/feature-scaling-with-scikit-learn/\n",
    "\n",
    "# calculate components https://chrisalbon.com/machine_learning/feature_engineering/select_best_number_of_components_in_lda/"
   ]
  },
  {
   "cell_type": "markdown",
   "metadata": {},
   "source": [
    "You can see that the LDA model's precision is 100% for setosas and versicolors, and 93% for the virginicas. Interestingly, while LDA beats kmeans significantly in terms of versicolor precision (kmeans is 72%), and equals it in terms of setosa precision, it loses slightly in terms of virginica precision (kmeans is 96%)."
   ]
  }
 ],
 "metadata": {
  "kernelspec": {
   "display_name": "Python 3",
   "language": "python",
   "name": "python3"
  },
  "language_info": {
   "codemirror_mode": {
    "name": "ipython",
    "version": 3
   },
   "file_extension": ".py",
   "mimetype": "text/x-python",
   "name": "python",
   "nbconvert_exporter": "python",
   "pygments_lexer": "ipython3",
   "version": "3.7.4"
  }
 },
 "nbformat": 4,
 "nbformat_minor": 2
}
