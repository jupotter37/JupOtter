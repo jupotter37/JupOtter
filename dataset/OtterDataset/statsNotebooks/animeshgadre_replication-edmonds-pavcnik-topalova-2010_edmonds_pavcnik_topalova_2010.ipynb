{
 "cells": [
  {
   "cell_type": "markdown",
   "id": "8a9ac0aa-68dc-4700-9a0e-42be2795d706",
   "metadata": {},
   "source": [
    "# Replication Exercise: Edmonds, Pavcnik and Topalova (2010)"
   ]
  },
  {
   "cell_type": "markdown",
   "id": "feaf0a98-3fe0-4b65-9992-bffc56d10b01",
   "metadata": {},
   "source": [
    "The original paper can be found [here](https://www.aeaweb.org/articles?id=10.1257/app.2.4.42)."
   ]
  },
  {
   "cell_type": "markdown",
   "id": "63172d83-e6c2-4157-b35c-2e29ff1927a1",
   "metadata": {},
   "source": [
    "In this paper, the authors investigate the effect of India's 1991 liberalisation reforms on the human capital investment of households on their children; specifically the decisions with respect to schooling and working. The basic idea is that trade liberalisation often incurs some adjustment costs for the domestic workers, who were otherwise \"protected\", now exposed to the new trade regime. The schooling decisions of households is an important determinant of long-term human capital development. It is thus worth exploring the manner in which these adjustment costs (caused by the \"loss of protection\") affect child labour and school education."
   ]
  },
  {
   "cell_type": "code",
   "execution_count": 1,
   "id": "5bbfe3e5-1c59-4b11-a394-1c9fe265dc58",
   "metadata": {},
   "outputs": [],
   "source": [
    "import numpy as np\n",
    "import pandas as pd\n",
    "import statsmodels.api as sm\n",
    "import statsmodels.formula.api as smf\n",
    "from linearmodels.iv import IV2SLS\n",
    "from IPython.display import display"
   ]
  },
  {
   "cell_type": "markdown",
   "id": "63d0a75a-2317-46cf-b337-12a170992c67",
   "metadata": {},
   "source": [
    "The authors contend that trade liberalisation may affect schooling decisions through primarily three channels: changes in living standards, demand for child labour and returns to education. The representative household has one child, one adult and one decision-maker. The household's net income when the child is enrolled in ac school is given by $y_s = y_o - w^* - c$, where $y_o$ is the household income when the child is not enrolled in a school, $w^*$ is the economic contribution from the child in the absence of schooling and $c$ is the net cost of schooling. Thus, the household's decision to send the child to school is dictated by the constraint:\n",
    "\n",
    "$$\n",
    "u(y_s, s) + e_s \\geq u(y_0, 0) + e_0 \\tag{1}\n",
    "$$\n",
    "\n",
    "where the stochastic term $e_k, k \\in \\{s, 0\\}$. The utility derived by the household by sending the child to school is given by: $u(y_s, s) = v(y_o - w^* - c, p) + \\alpha r$, where $v(-)$ represents the indirect utility from income $y_s$ at consumer prices $p$. Then, the probability of the child being enrolled in a school is given by:\n",
    "\n",
    "$$\n",
    "Pr (s = 1) = Pr(v(y_0 - w^* - c, p) + \\alpha r + e_s \\geq v(y_0, p) + e_0)\n",
    "$$\n",
    "\n",
    "$$\n",
    "Pr (s = 1) = Pr(e_0 - e_s \\leq v(y_o - w^* - c, p) + \\alpha r - v(y_o, p)) \\tag{2}\n",
    "$$\n",
    "\n",
    "The equation 2 can be transformed by taking $u = e_0 - e_s$ with cdf $F(u)$ and strictly positive density $f(u)$:\n",
    "\n",
    "$$\n",
    "Pr (s = 1) = F(v(y_0 - w^* - c, p) + \\alpha r - v(y_0, p))\n",
    "$$\n",
    "\n",
    "Totally differentiating:\n",
    "\n",
    "$$\n",
    "dPr(s = 1) = f(u) \\left ( \\left [ \\frac{\\partial v_s}{\\partial y} - \\frac{\\partial v_0}{\\partial y} \\right ] dy_0 - \\frac{\\partial v_s}{\\partial y} dw^* + \\alpha dr + \\left [ \\frac{\\partial v_s}{\\partial p} - \\frac{\\partial v_0}{\\partial p} \\right ] dp - \\frac{\\partial v_s}{\\partial y} dc \\right ) \\tag{3}\n",
    "$$\n",
    "\n",
    "where $v_s = v(y_0 - w^* - c, p)$ and $v_0 = v(y_0, p)$. The effect of trade liberalisation is abstracted through tariff $t$, which influences the marginal utility of income throught the consumption channel. Given that schooling costs are fixed ($dc = 0$), equation (3) can be reduced to:\n",
    "\n",
    "$$\n",
    "dPr(s = 1) = f(u) \\left ( \\left [ \\frac{\\partial v_s}{\\partial y} - \\frac{\\partial v_0}{\\partial y} \\right ] \\frac{\\partial y_0}{\\partial t} dt - \\frac{\\partial v_s}{\\partial y} \\frac{\\partial w^*}{\\partial t} dt + \\alpha \\frac{\\partial r}{\\partial t} \\right ) \\tag{4}\n",
    "$$\n",
    "\n",
    "From this, it follows that if a decline in tariffs ($dt < 0$) reduce the living standards, then the schooling might also reduce (since $\\frac{\\partial v_s}{\\partial y} > \\frac{\\partial v_0}{\\partial y} > 0$). The schooling of the child might also decline if the child engages in labour and if the returns to education declines. \n",
    "\n",
    "The primary dataset used for the analysis corresponds to the rural samples of rounds 43rd (July 1987–June 1988) and 55th (July 1999–June 2000) of National Sample Survey. The sample is restricted to children in the age bracket 10-14. The summary statistics on schooling and child labour are presented in table 1, which capture the trends from the 38th round (1983) to the 55th (2000)."
   ]
  },
  {
   "cell_type": "code",
   "execution_count": 2,
   "id": "71916da3-626d-4afd-96ca-e68ae69b88c6",
   "metadata": {},
   "outputs": [],
   "source": [
    "child_df = pd.read_stata(\"data/child.dta\")"
   ]
  },
  {
   "cell_type": "code",
   "execution_count": 34,
   "id": "cf6b98a1-3e97-49b6-bbb5-2318a677d2d8",
   "metadata": {},
   "outputs": [
    {
     "name": "stdout",
     "output_type": "stream",
     "text": [
      "Table 1: Activities of Children in Rural India, 1983–2000\n",
      "============================================================\n",
      "               Round 38  Round 43  Round 55\n",
      "Attend School     0.485     0.551     0.727\n",
      "Work              0.360     0.250     0.142\n",
      "Work Only         0.355     0.246     0.137\n",
      "Market Work       0.193     0.138     0.076\n",
      "Domestic Work     0.167     0.112     0.066\n"
     ]
    }
   ],
   "source": [
    "summary = child_df[['schoolattend', 'labor', 'workonly', 'marketwork', 'domesticwork', 'round', 'mult']].dropna()\n",
    "def weighted_mean(x, weights):\n",
    "    return np.average(x, weights=weights)\n",
    "\n",
    "summarystat = summary.groupby(['round']).apply(\n",
    "    lambda x: pd.Series({\n",
    "        'Attend School': weighted_mean(x['schoolattend'], x['mult']),\n",
    "        'Work': weighted_mean(x['labor'], x['mult']),\n",
    "        'Work Only': weighted_mean(x['workonly'], x['mult']),\n",
    "        'Market Work': weighted_mean(x['marketwork'], x['mult']),\n",
    "        'Domestic Work': weighted_mean(x['domesticwork'], x['mult']),\n",
    "    })\n",
    ").T\n",
    "\n",
    "summarystat = summarystat.round(3)\n",
    "summarystat.columns = [f'Round {col}' for col in summarystat.columns]\n",
    "\n",
    "print(\"Table 1: Activities of Children in Rural India, 1983–2000\")\n",
    "print(\"=\"*60)\n",
    "print(summarystat)"
   ]
  },
  {
   "cell_type": "markdown",
   "id": "f9054c80-e435-43c6-800d-100881ee108b",
   "metadata": {},
   "source": [
    "Attend School: if a child reports attending school in the household roster regardless of his/her usual principal activity \\\n",
    "Work: if a child reports participation in market work or domestic work as a principal usual activity \\\n",
    "Work Only: if a child reports market or domestic work as a principal usual activity and does not report attending school \\\n",
    "Market Work: if a child reports work in a household enterprise such as a farm or business, wage work, and begging \\\n",
    "Domestic Work: if a child reports work including chores, collection activities, and sewing, tailoring, weaving, etc. for household use"
   ]
  },
  {
   "cell_type": "markdown",
   "id": "f44be66a-983d-4207-a663-622ad369306c",
   "metadata": {},
   "source": [
    "The authors measure the effect of changes in the national tariffs at the district level. With the introduction of a new tariff regime, the magnitude of reduction in the tariff protection may vary based on the industrial composition of employment of the districts. The authors exploit this heterogeneity and focus on how schooling and child labour change in districts with greater reduction in tariff protection relative to districts with smaller reduction. In essence, a $district d$ has a $district tariff$ at time $t$ which is measured by the 1991 district-specific industry employment weighted average of tariffs. The authors measure employment $Emp_{i,d}$ based on the population and housing census 1991 and subsequently construct industry employment weights $w_{i,d} = \\frac{Emp_{i,d}}{\\sum_i Emp_{i,d}}$ for rural areas. This exercise done for each industry $i$ in district $d$. The district tariff is thus given by:\n",
    "\n",
    "$$\n",
    "tariff_{i,d} = \\sum_i w_{i,d} \\times tariff_{i,t}\\tag{5}\n",
    "$$\n",
    "\n",
    "Another measure called traded tariff $TrTariff_{dt}$ is created using the same equation but for only employment in traded sectors. Table 2 presents the summary statistics of the district tariff in rural India."
   ]
  },
  {
   "cell_type": "code",
   "execution_count": 35,
   "id": "826a7c36-76b9-4409-ad75-e0fc65b0b9d9",
   "metadata": {},
   "outputs": [
    {
     "name": "stdout",
     "output_type": "stream",
     "text": [
      "Table 2: District Tariff Measures in Rural India\n",
      "============================================================\n",
      "                               Round 43  Round 55\n",
      "Tariff                            0.080     0.025\n",
      "Tariff on traded goods            0.883     0.308\n",
      "Agricultural goods only           0.812     0.230\n",
      "Mining and manufacturing only     0.901     0.337\n"
     ]
    }
   ],
   "source": [
    "# Table 2\n",
    "\n",
    "summary2 = child_df[['tariff', 'trallmtariff', 'agralltariff', 'minmfgmtariff', 'round', 'mult']].dropna()\n",
    "def weighted_mean(x, weights):\n",
    "    return np.average(x, weights=weights)\n",
    "\n",
    "summarystat2 = summary2.groupby(['round']).apply(\n",
    "    lambda x: pd.Series({\n",
    "        'Tariff': weighted_mean(x['tariff'], x['mult']),\n",
    "        'Tariff on traded goods': weighted_mean(x['trallmtariff'], x['mult']),\n",
    "        'Agricultural goods only': weighted_mean(x['agralltariff'], x['mult']),\n",
    "        'Mining and manufacturing only': weighted_mean(x['minmfgmtariff'], x['mult']),\n",
    "    })\n",
    ").T\n",
    "\n",
    "summarystat2 = summarystat2.round(3)\n",
    "summarystat2.columns = [f'Round {col}' for col in summarystat2.columns]\n",
    "\n",
    "print(\"Table 2: District Tariff Measures in Rural India\")\n",
    "print(\"=\"*60)\n",
    "print(summarystat2)"
   ]
  },
  {
   "cell_type": "markdown",
   "id": "2887194e-1d58-4f83-ab36-1f85ab180a89",
   "metadata": {},
   "source": [
    "The empirical framework seeks to examine the changes in schooling and child labour that occurred due to differing levels of tariff protections in districts. The base specification explains an indicator $y_{jhdt}$ of whether child $j$, who lives in household $h$ within district $d$, participated in activity $y$ (such as domestic work, school and so on) at time $t$:\n",
    "\n",
    "$$\n",
    "y_{jhdt} = \\beta_0 + \\beta_1 Tariff_{dt} + \\pi (A_{jt}, G_{jt}) + \\alpha H_{ht} + \\tau_t + \\lambda_d + \\epsilon_{jhdt}\\tag{6}\n",
    "$$\n",
    "\n",
    "where $\\pi (A_{jt}, G_{jt})$ is a third-order polynomial that includes the child's age, a gender indicator, and their interactions. The vector $H_{ht} $ represents household characteristics that could influence the household's decision regarding the child's activity. These characteristics include factors such as caste, religion, the gender of the household head, their age, literacy, and education. The primary coefficient of interest in this analysis is given by $\\beta_1$, which corresponds to district tariffs. This specification also takes into account time-invariant characteristics with the district fixed effect $\\lambda_d$. The post-reform fixed effect $\\tau_t$ controls for the average changes in the children activities between the survey rounds 43rd and 55th.\n",
    "\n",
    "In equation (5), the changes in the measure of district tariff $tariff_{i,d}$ is associated with the size of the non-traded sector. Thus, the initial size of the non-traded sector in a district may be linked to varying time trends and can potentially bias the model estimates. The authors circumvent this issue by interacting a measure of pre-reform conditions $D_d$ with the post_reform indicator $\\tau_t$ and by instrumenting district tariff $tariff_{i,d}$ district tariff on traded goods $TrTariff_{dt}$. The main specification then becomes:\n",
    "\n",
    "$$\n",
    "y_{jhdt} = \\beta_0 + \\beta_1 Tariff_{dt} + \\pi (A_{jt}, G_{jt}) + \\alpha H_{ht} + \\delta D_d \\times \\tau_t + \\tau_t + \\lambda_d + \\epsilon_{jhdt}\\tag{7}\n",
    "$$"
   ]
  },
  {
   "cell_type": "code",
   "execution_count": null,
   "id": "3d99a0fa-dff8-4c9a-a15f-6b2eeadbb913",
   "metadata": {},
   "outputs": [],
   "source": [
    "# Table 3\n",
    "\n",
    "tab3 = child_df[child_df['round'] != 38]\n",
    "tab3.loc[:, 'schoolattendtrend'] = child_df['scht'] * child_df['post']"
   ]
  },
  {
   "cell_type": "code",
   "execution_count": 25,
   "id": "b09642a1-3b63-4f39-a26c-2e178284b2e6",
   "metadata": {},
   "outputs": [],
   "source": [
    "cov1 = [\"female\", \"age\", \"fem_age\", \"age2\", \"fem_age2\", \"age3\", \"fem_age3\",\n",
    "        \"sc\", \"st\", \"hindu\", \"islam\", \"christ\", \"sikh\", \"headfemale\", \"headage\",\n",
    "        \"headliterate\", \"headprimary\", \"headmiddle\", \"headsecond\", \"headhigher\", \"post\"]\n",
    "\n",
    "cov2 = [\"female\", \"age\", \"fem_age\", \"age2\", \"fem_age2\", \"age3\", \"fem_age3\",\n",
    "        \"sc\", \"st\", \"hindu\", \"islam\", \"christ\", \"sikh\", \"headfemale\", \"headage\",\n",
    "        \"headliterate\", \"headprimary\", \"headmiddle\", \"headsecond\", \"headhigher\",\n",
    "        \"post\", \"pcnt_litpost\", \"pcnt_scstpost\", \"pcnt_mfgpost\", \"pcnt_farmpost\",\n",
    "        \"pcnt_tradepost\", \"pcnt_tranpost\", \"pcnt_minpost\", \"pcnt_servpost\", \"postlaw1\", \"postlaw2\"]\n",
    "\n",
    "tab3.loc[:, 'district'] = tab3['district'].astype('category')\n",
    "tab3.loc[:, 'stateyear'] = tab3['stateyear'].astype('category')"
   ]
  },
  {
   "cell_type": "code",
   "execution_count": 26,
   "id": "815cd5ce-e8ec-4261-a6e5-ba6282f4645d",
   "metadata": {},
   "outputs": [],
   "source": [
    "all = ['schoolattend', 'tariff', 'trallmtariff'] + cov1 + cov2 + ['district', 'stateyear']\n",
    "tab3 = tab3.dropna(subset=all)"
   ]
  },
  {
   "cell_type": "code",
   "execution_count": null,
   "id": "34515e70-38b4-4429-a1e7-fe59a55e4a00",
   "metadata": {},
   "outputs": [],
   "source": [
    "# Columns 1-3\n",
    "\n",
    "ols_model = smf.ols(f'schoolattend ~ tariff + {\" + \".join(cov1)} + C(district)', data=tab3\n",
    "                   ).fit(cov_type='cluster', cov_kwds={'groups': tab3['stateyear']})\n",
    "ols_results = ols_model.summary()\n",
    "\n",
    "rf_model = smf.ols(f'schoolattend ~ trallmtariff + {\" + \".join(cov2)} + C(district)', data=tab3\n",
    "                  ).fit(cov_type='cluster', cov_kwds={'groups': tab3['stateyear']})\n",
    "rf_results = rf_model.summary()\n",
    "\n",
    "iv_model = IV2SLS.from_formula(f'schoolattend ~ 1 + {\" + \".join(cov2)} + C(district) [tariff ~ trallmtariff]', data=tab3\n",
    "                              ).fit(cov_type='clustered', clusters=tab3['stateyear'])\n",
    "iv_results = iv_model.summary"
   ]
  },
  {
   "cell_type": "code",
   "execution_count": 7,
   "id": "4aff8021-90c8-4c09-bc32-152d7315fad1",
   "metadata": {},
   "outputs": [
    {
     "data": {
      "text/html": [
       "<style type=\"text/css\">\n",
       "#T_5bdc0 th {\n",
       "  font-size: 9pt;\n",
       "  text-align: center;\n",
       "  background-color: ##605d63;\n",
       "}\n",
       "#T_5bdc0 td {\n",
       "  font-size: 9pt;\n",
       "  text-align: center;\n",
       "}\n",
       "</style>\n",
       "<table id=\"T_5bdc0\">\n",
       "  <caption>Table 3: The Effect of Tariffs on School Attendance</caption>\n",
       "  <thead>\n",
       "    <tr>\n",
       "      <th class=\"blank level0\" >&nbsp;</th>\n",
       "      <th id=\"T_5bdc0_level0_col0\" class=\"col_heading level0 col0\" >Coefficients (1)</th>\n",
       "      <th id=\"T_5bdc0_level0_col1\" class=\"col_heading level0 col1\" >SE (1)</th>\n",
       "      <th id=\"T_5bdc0_level0_col2\" class=\"col_heading level0 col2\" >Coefficients (2)</th>\n",
       "      <th id=\"T_5bdc0_level0_col3\" class=\"col_heading level0 col3\" >SE (2)</th>\n",
       "    </tr>\n",
       "  </thead>\n",
       "  <tbody>\n",
       "    <tr>\n",
       "      <th id=\"T_5bdc0_level0_row0\" class=\"row_heading level0 row0\" >post</th>\n",
       "      <td id=\"T_5bdc0_row0_col0\" class=\"data row0 col0\" >0.172***</td>\n",
       "      <td id=\"T_5bdc0_row0_col1\" class=\"data row0 col1\" >0.011000</td>\n",
       "      <td id=\"T_5bdc0_row0_col2\" class=\"data row0 col2\" >nan</td>\n",
       "      <td id=\"T_5bdc0_row0_col3\" class=\"data row0 col3\" >nan</td>\n",
       "    </tr>\n",
       "    <tr>\n",
       "      <th id=\"T_5bdc0_level0_row1\" class=\"row_heading level0 row1\" >tariff</th>\n",
       "      <td id=\"T_5bdc0_row1_col0\" class=\"data row1 col0\" >0.376***</td>\n",
       "      <td id=\"T_5bdc0_row1_col1\" class=\"data row1 col1\" >0.090000</td>\n",
       "      <td id=\"T_5bdc0_row1_col2\" class=\"data row1 col2\" >nan</td>\n",
       "      <td id=\"T_5bdc0_row1_col3\" class=\"data row1 col3\" >nan</td>\n",
       "    </tr>\n",
       "    <tr>\n",
       "      <th id=\"T_5bdc0_level0_row2\" class=\"row_heading level0 row2\" >trallmtariff</th>\n",
       "      <td id=\"T_5bdc0_row2_col0\" class=\"data row2 col0\" >nan</td>\n",
       "      <td id=\"T_5bdc0_row2_col1\" class=\"data row2 col1\" >nan</td>\n",
       "      <td id=\"T_5bdc0_row2_col2\" class=\"data row2 col2\" >0.124**</td>\n",
       "      <td id=\"T_5bdc0_row2_col3\" class=\"data row2 col3\" >0.055000</td>\n",
       "    </tr>\n",
       "  </tbody>\n",
       "</table>\n"
      ],
      "text/plain": [
       "<pandas.io.formats.style.Styler at 0x2618fc0ce90>"
      ]
     },
     "metadata": {},
     "output_type": "display_data"
    }
   ],
   "source": [
    "def add_significance_stars(p_values):\n",
    "    stars = []\n",
    "    for p in p_values:\n",
    "        if p < 0.01:\n",
    "            stars.append('***')\n",
    "        elif p < 0.05:\n",
    "            stars.append('**')\n",
    "        elif p < 0.1:\n",
    "            stars.append('*')\n",
    "        else:\n",
    "            stars.append('')\n",
    "    return stars\n",
    "\n",
    "ols_coeffs = ols_model.params[['tariff', 'post']]\n",
    "ols_se = ols_model.bse[['tariff', 'post']]\n",
    "ols_pvalues = ols_model.pvalues[['tariff', 'post']]\n",
    "\n",
    "rf_coeffs = rf_model.params[['trallmtariff']]\n",
    "rf_se = rf_model.bse[['trallmtariff']]\n",
    "rf_pvalues = rf_model.pvalues[['trallmtariff']]\n",
    "\n",
    "ols_coeffs = ols_coeffs.round(3)\n",
    "ols_se = ols_se.round(3)\n",
    "rf_coeffs = rf_coeffs.round(3)\n",
    "rf_se = rf_se.round(3)\n",
    "\n",
    "ols_stars = add_significance_stars(ols_pvalues)\n",
    "rf_stars = add_significance_stars(rf_pvalues)\n",
    "\n",
    "col12 = pd.DataFrame({\n",
    "    'Coefficients (1)': ols_coeffs.astype(str) + ols_stars,\n",
    "    'SE (1)': ols_se.round(3),\n",
    "    'Coefficients (2)': rf_coeffs.astype(str) + rf_stars,\n",
    "    'SE (2)': rf_se.round(3)\n",
    "})\n",
    "\n",
    "styled_results12 = col12.style.set_table_styles([\n",
    "    {'selector': 'th', 'props': [('font-size', '9pt'), ('text-align', 'center'), ('background-color', '##605d63')]},\n",
    "    {'selector': 'td', 'props': [('font-size', '9pt'), ('text-align', 'center')]},\n",
    "]).set_caption(\"Table 3: The Effect of Tariffs on School Attendance\")\n",
    "\n",
    "display(styled_results12)"
   ]
  },
  {
   "cell_type": "markdown",
   "id": "7e1700ce-dd74-4794-8439-4de17384b388",
   "metadata": {},
   "source": [
    "The OLS estimation of equation (6) is presented in column 1 with predictors district tariff and post-reform indicator for the outcome school attendance. In the second model, the predictor district tariff is replaced with (but not instrumented) with district tariff on traded goods only. The traded goods district tariff shows a smaller increase in schooling than the aggregate district tariff. The post variable in the first model indicates that districts with no tariff change see an increase in the probability of schooling by 17 percentage points."
   ]
  },
  {
   "cell_type": "code",
   "execution_count": 27,
   "id": "96ba0ac2-5bf8-419a-b6d2-83307691210f",
   "metadata": {},
   "outputs": [],
   "source": [
    "# Column 4\n",
    "variables_to_interact = ['regpcnt_serv', 'regpcnt_tran', 'regpcnt_trade',\n",
    "                        'regpcnt_min', 'regpcnt_farm', 'regpcnt_mfg',\n",
    "                        'regpcnt_lit', 'regpcnt_scst']\n",
    "\n",
    "for X in variables_to_interact:\n",
    "    tab3[f'{X}post'] = tab3[X] * tab3['post']\n",
    "\n",
    "cov3 = [\"female\", \"age\", \"fem_age\", \"age2\", \"fem_age2\", \"age3\", \"fem_age3\",\n",
    "        \"sc\", \"st\", \"hindu\", \"islam\", \"christ\", \"sikh\", \"headfemale\", \"headage\",\n",
    "        \"headliterate\", \"headprimary\", \"headmiddle\", \"headsecond\", \"headhigher\",\n",
    "        \"post\"]\n",
    "\n",
    "interaction_terms = [f'{X}post' for X in variables_to_interact]\n",
    "cov3 += interaction_terms + ['postlaw1', 'postlaw2']\n",
    "\n",
    "all = ['schoolattend', 'regtariff', 'regtralltariff'] + cov3 + ['regcod50', 'stateyear']\n",
    "tab3 = tab3.dropna(subset=all)\n",
    "\n",
    "iv_region_model = IV2SLS.from_formula(f'schoolattend ~ 1 + {\" + \".join(cov3)} + C(regcod50) [regtariff ~ regtralltariff]'\n",
    "                                      , data=tab3).fit(cov_type='clustered', clusters=tab3['stateyear'])\n",
    "\n",
    "iv_region_results = iv_region_model.summary"
   ]
  },
  {
   "cell_type": "code",
   "execution_count": 28,
   "id": "2ab594df-eb99-4e43-a10f-b99e15b6364d",
   "metadata": {},
   "outputs": [],
   "source": [
    "# Column 5\n",
    "\n",
    "col5 = child_df[(child_df['round'] == 38) | (child_df['round'] == 43)]\n",
    "col5 = col5.drop(columns=['post'] + [col for col in col5.columns if col.startswith('postlaw')])\n",
    "\n",
    "col5.loc[:, 'post'] = 0\n",
    "col5.loc[col5['round'] == 43, 'post'] = 1\n",
    "\n",
    "variables5 = ['regpcnt_serv', 'regpcnt_tran', 'regpcnt_trade',\n",
    "    'regpcnt_min', 'regpcnt_farm', 'regpcnt_mfg',\n",
    "    'regpcnt_lit', 'regpcnt_scst']\n",
    "\n",
    "for X in variables5:\n",
    "    col5[f'{X}post'] = col5[X] * col5['post']\n",
    "\n",
    "for X in range(1, 4):\n",
    "    law_col = f'law{X}'\n",
    "    postlaw_col = f'postlaw{X}'\n",
    "    \n",
    "    col5[law_col] = (col5['employer'] == X).astype(int)\n",
    "    col5[postlaw_col] = col5[law_col] * col5['post']\n",
    "    \n",
    "    col5 = col5.drop(columns=[law_col])"
   ]
  },
  {
   "cell_type": "code",
   "execution_count": 29,
   "id": "617f11fa-13b1-4ecb-96d8-97017e60b26b",
   "metadata": {},
   "outputs": [],
   "source": [
    "cov4 = [\"female\", \"age\", \"fem_age\", \"age2\", \"fem_age2\", \"age3\", \"fem_age3\",\n",
    "        \"sc\", \"st\", \"hindu\", \"islam\", \"christ\", \"sikh\", \"headfemale\", \"headage\",\n",
    "        \"headliterate\", \"headprimary\", \"headmiddle\", \"headsecond\", \"headhigher\",\n",
    "        \"post\", \"regpcnt_litpost\", \"regpcnt_scstpost\", \"regpcnt_mfgpost\",\n",
    "        \"regpcnt_farmpost\", \"regpcnt_tradepost\", \"regpcnt_tranpost\",\n",
    "        \"regpcnt_minpost\", \"regpcnt_servpost\", \"postlaw1\", \"postlaw2\"]\n",
    "\n",
    "all = ['schoolattend', 'regtarifftest', 'regtrtarifftest'] + cov4 + ['regcod50', 'stateyear']\n",
    "col5 = col5[all].dropna()\n",
    "\n",
    "col5['regcod50'] = col5['regcod50'].astype('category')\n",
    "col5['stateyear'] = col5['stateyear'].astype('category')\n",
    "\n",
    "iv_model5 = IV2SLS.from_formula(\n",
    "    'schoolattend ~ 1 + ' + ' + '.join(cov4) + ' + C(regcod50) [regtarifftest ~ regtrtarifftest]',\n",
    "    data=col5\n",
    ").fit(cov_type='clustered', clusters=col5['stateyear'])\n",
    "\n",
    "iv_results5 = iv_model5.summary"
   ]
  },
  {
   "cell_type": "code",
   "execution_count": 30,
   "id": "0e8bd924-4f49-43d4-92c0-41beb3aae579",
   "metadata": {},
   "outputs": [],
   "source": [
    "col6 = child_df[child_df['round'] != 38]"
   ]
  },
  {
   "cell_type": "code",
   "execution_count": null,
   "id": "43c33684-7ae9-4918-967f-1d1312d12331",
   "metadata": {},
   "outputs": [],
   "source": [
    "# Column 6\n",
    "\n",
    "col6.loc[:, 'schoolattendtrend'] = col6['scht'] * col6['post']\n",
    "\n",
    "cov2 = [\n",
    "    \"female\", \"age\", \"fem_age\", \"age2\", \"fem_age2\", \"age3\", \"fem_age3\",\n",
    "    \"sc\", \"st\", \"hindu\", \"islam\", \"christ\", \"sikh\", \"headfemale\", \"headage\",\n",
    "    \"headliterate\", \"headprimary\", \"headmiddle\", \"headsecond\", \"headhigher\",\n",
    "    \"post\", \"pcnt_litpost\", \"pcnt_scstpost\", \"pcnt_mfgpost\", \"pcnt_farmpost\",\n",
    "    \"pcnt_tradepost\", \"pcnt_tranpost\", \"pcnt_minpost\", \"pcnt_servpost\",\n",
    "    \"postlaw1\", \"postlaw2\"\n",
    "]\n",
    "\n",
    "all = ['schoolattend', 'tariff', 'trallmtariff', 'schoolattendtrend'] + cov2 + ['district', 'stateyear']\n",
    "col6 = col6[all].dropna()\n",
    "\n",
    "col6['district'] = col6['district'].astype('category')\n",
    "col6['stateyear'] = col6['stateyear'].astype('category')"
   ]
  },
  {
   "cell_type": "code",
   "execution_count": 32,
   "id": "47c2b4bd-b240-4874-b9a5-b73df37f0b56",
   "metadata": {},
   "outputs": [],
   "source": [
    "ivtrend_model = IV2SLS.from_formula(\n",
    "    'schoolattend ~ 1 + schoolattendtrend + ' + ' + '.join(cov2) + ' + C(district) [tariff ~ trallmtariff]',\n",
    "    data=col6\n",
    ").fit(cov_type='clustered', clusters=col6['stateyear'])\n",
    "\n",
    "ivtrend_results = ivtrend_model.summary"
   ]
  },
  {
   "cell_type": "code",
   "execution_count": 33,
   "id": "449648ba-a55f-411d-9a7e-8f52025145fc",
   "metadata": {},
   "outputs": [],
   "source": [
    "# Column 7\n",
    "\n",
    "col7 = child_df[child_df['round'] != 38]\n",
    "all = ['schoolattend', 'tariff', 'trallmtariff', 'minmfgmlicense', 'minmfgmfdi', 'bankpercap', \n",
    "       'trallmexp97', 'prmscl_pop2'] + cov2 + ['district', 'stateyear']\n",
    "col7 = col7[all].dropna()"
   ]
  },
  {
   "cell_type": "code",
   "execution_count": 34,
   "id": "33b63e1e-c244-4a7e-96ac-9e863920e609",
   "metadata": {},
   "outputs": [],
   "source": [
    "oref_model = IV2SLS.from_formula(\n",
    "    'schoolattend ~ 1 + ' + ' + '.join(cov2) + ' + minmfgmlicense + minmfgmfdi + bankpercap + trallmexp97 + prmscl_pop2 + C(district) [tariff ~ trallmtariff]',\n",
    "    data=col7\n",
    ").fit(cov_type='clustered', clusters=col7['stateyear'])\n",
    "\n",
    "oref_results = oref_model.summary"
   ]
  },
  {
   "cell_type": "code",
   "execution_count": 35,
   "id": "e538f8d5-ea48-4a56-b285-ab0ad7a41415",
   "metadata": {},
   "outputs": [],
   "source": [
    "# Column 8\n",
    "\n",
    "col8 = child_df[child_df['round'] != 38]\n",
    "all = ['schoolattend', 'tariff', 'trallmtariff', 'inp2tariff', 'inp2trallmtariff', 'constariff'] + cov2 + ['district', 'stateyear']\n",
    "col8 = col8[all].dropna()"
   ]
  },
  {
   "cell_type": "code",
   "execution_count": 36,
   "id": "c7925139-0b9e-4189-b8e0-1a5bd7105470",
   "metadata": {},
   "outputs": [],
   "source": [
    "S7_model = IV2SLS.from_formula(\n",
    "    'schoolattend ~ 1 + ' + ' + '.join(cov2) + ' + constariff + C(district) [tariff + inp2tariff ~ trallmtariff + inp2trallmtariff]',\n",
    "    data=col8\n",
    ").fit(cov_type='clustered', clusters=col8['stateyear'])\n",
    "\n",
    "S7_results = S7_model.summary"
   ]
  },
  {
   "cell_type": "code",
   "execution_count": 41,
   "id": "06b0e863-c929-4937-b3df-d263029f2661",
   "metadata": {},
   "outputs": [
    {
     "data": {
      "text/html": [
       "<style type=\"text/css\">\n",
       "#T_4cb7d th {\n",
       "  font-size: 8.5pt;\n",
       "  text-align: center;\n",
       "  background-color: ##605d63;\n",
       "}\n",
       "#T_4cb7d td {\n",
       "  font-size: 8.5pt;\n",
       "  text-align: center;\n",
       "}\n",
       "</style>\n",
       "<table id=\"T_4cb7d\">\n",
       "  <caption>Table 3: Columns 3-8</caption>\n",
       "  <thead>\n",
       "    <tr>\n",
       "      <th class=\"blank level0\" >&nbsp;</th>\n",
       "      <th id=\"T_4cb7d_level0_col0\" class=\"col_heading level0 col0\" >Coeff (3)</th>\n",
       "      <th id=\"T_4cb7d_level0_col1\" class=\"col_heading level0 col1\" >SE (3)</th>\n",
       "      <th id=\"T_4cb7d_level0_col2\" class=\"col_heading level0 col2\" >Coeff (4)</th>\n",
       "      <th id=\"T_4cb7d_level0_col3\" class=\"col_heading level0 col3\" >SE (4)</th>\n",
       "      <th id=\"T_4cb7d_level0_col4\" class=\"col_heading level0 col4\" >Coeff (5)</th>\n",
       "      <th id=\"T_4cb7d_level0_col5\" class=\"col_heading level0 col5\" >SE (5)</th>\n",
       "      <th id=\"T_4cb7d_level0_col6\" class=\"col_heading level0 col6\" >Coeff (6)</th>\n",
       "      <th id=\"T_4cb7d_level0_col7\" class=\"col_heading level0 col7\" >SE (6)</th>\n",
       "      <th id=\"T_4cb7d_level0_col8\" class=\"col_heading level0 col8\" >Coeff (7)</th>\n",
       "      <th id=\"T_4cb7d_level0_col9\" class=\"col_heading level0 col9\" >SE (7)</th>\n",
       "      <th id=\"T_4cb7d_level0_col10\" class=\"col_heading level0 col10\" >Coeff (8)</th>\n",
       "      <th id=\"T_4cb7d_level0_col11\" class=\"col_heading level0 col11\" >SE (8)</th>\n",
       "    </tr>\n",
       "  </thead>\n",
       "  <tbody>\n",
       "    <tr>\n",
       "      <th id=\"T_4cb7d_level0_row0\" class=\"row_heading level0 row0\" >inp2tariff</th>\n",
       "      <td id=\"T_4cb7d_row0_col0\" class=\"data row0 col0\" >nan</td>\n",
       "      <td id=\"T_4cb7d_row0_col1\" class=\"data row0 col1\" >nan</td>\n",
       "      <td id=\"T_4cb7d_row0_col2\" class=\"data row0 col2\" >nan</td>\n",
       "      <td id=\"T_4cb7d_row0_col3\" class=\"data row0 col3\" >nan</td>\n",
       "      <td id=\"T_4cb7d_row0_col4\" class=\"data row0 col4\" >nan</td>\n",
       "      <td id=\"T_4cb7d_row0_col5\" class=\"data row0 col5\" >nan</td>\n",
       "      <td id=\"T_4cb7d_row0_col6\" class=\"data row0 col6\" >nan</td>\n",
       "      <td id=\"T_4cb7d_row0_col7\" class=\"data row0 col7\" >nan</td>\n",
       "      <td id=\"T_4cb7d_row0_col8\" class=\"data row0 col8\" >nan</td>\n",
       "      <td id=\"T_4cb7d_row0_col9\" class=\"data row0 col9\" >nan</td>\n",
       "      <td id=\"T_4cb7d_row0_col10\" class=\"data row0 col10\" >-0.413</td>\n",
       "      <td id=\"T_4cb7d_row0_col11\" class=\"data row0 col11\" >1.174000</td>\n",
       "    </tr>\n",
       "    <tr>\n",
       "      <th id=\"T_4cb7d_level0_row1\" class=\"row_heading level0 row1\" >regtariff</th>\n",
       "      <td id=\"T_4cb7d_row1_col0\" class=\"data row1 col0\" >nan</td>\n",
       "      <td id=\"T_4cb7d_row1_col1\" class=\"data row1 col1\" >nan</td>\n",
       "      <td id=\"T_4cb7d_row1_col2\" class=\"data row1 col2\" >0.618***</td>\n",
       "      <td id=\"T_4cb7d_row1_col3\" class=\"data row1 col3\" >0.155000</td>\n",
       "      <td id=\"T_4cb7d_row1_col4\" class=\"data row1 col4\" >nan</td>\n",
       "      <td id=\"T_4cb7d_row1_col5\" class=\"data row1 col5\" >nan</td>\n",
       "      <td id=\"T_4cb7d_row1_col6\" class=\"data row1 col6\" >nan</td>\n",
       "      <td id=\"T_4cb7d_row1_col7\" class=\"data row1 col7\" >nan</td>\n",
       "      <td id=\"T_4cb7d_row1_col8\" class=\"data row1 col8\" >nan</td>\n",
       "      <td id=\"T_4cb7d_row1_col9\" class=\"data row1 col9\" >nan</td>\n",
       "      <td id=\"T_4cb7d_row1_col10\" class=\"data row1 col10\" >nan</td>\n",
       "      <td id=\"T_4cb7d_row1_col11\" class=\"data row1 col11\" >nan</td>\n",
       "    </tr>\n",
       "    <tr>\n",
       "      <th id=\"T_4cb7d_level0_row2\" class=\"row_heading level0 row2\" >regtarifftest</th>\n",
       "      <td id=\"T_4cb7d_row2_col0\" class=\"data row2 col0\" >nan</td>\n",
       "      <td id=\"T_4cb7d_row2_col1\" class=\"data row2 col1\" >nan</td>\n",
       "      <td id=\"T_4cb7d_row2_col2\" class=\"data row2 col2\" >nan</td>\n",
       "      <td id=\"T_4cb7d_row2_col3\" class=\"data row2 col3\" >nan</td>\n",
       "      <td id=\"T_4cb7d_row2_col4\" class=\"data row2 col4\" >-0.087</td>\n",
       "      <td id=\"T_4cb7d_row2_col5\" class=\"data row2 col5\" >0.128000</td>\n",
       "      <td id=\"T_4cb7d_row2_col6\" class=\"data row2 col6\" >nan</td>\n",
       "      <td id=\"T_4cb7d_row2_col7\" class=\"data row2 col7\" >nan</td>\n",
       "      <td id=\"T_4cb7d_row2_col8\" class=\"data row2 col8\" >nan</td>\n",
       "      <td id=\"T_4cb7d_row2_col9\" class=\"data row2 col9\" >nan</td>\n",
       "      <td id=\"T_4cb7d_row2_col10\" class=\"data row2 col10\" >nan</td>\n",
       "      <td id=\"T_4cb7d_row2_col11\" class=\"data row2 col11\" >nan</td>\n",
       "    </tr>\n",
       "    <tr>\n",
       "      <th id=\"T_4cb7d_level0_row3\" class=\"row_heading level0 row3\" >schoolattendtrend</th>\n",
       "      <td id=\"T_4cb7d_row3_col0\" class=\"data row3 col0\" >nan</td>\n",
       "      <td id=\"T_4cb7d_row3_col1\" class=\"data row3 col1\" >nan</td>\n",
       "      <td id=\"T_4cb7d_row3_col2\" class=\"data row3 col2\" >nan</td>\n",
       "      <td id=\"T_4cb7d_row3_col3\" class=\"data row3 col3\" >nan</td>\n",
       "      <td id=\"T_4cb7d_row3_col4\" class=\"data row3 col4\" >nan</td>\n",
       "      <td id=\"T_4cb7d_row3_col5\" class=\"data row3 col5\" >nan</td>\n",
       "      <td id=\"T_4cb7d_row3_col6\" class=\"data row3 col6\" >0.178**</td>\n",
       "      <td id=\"T_4cb7d_row3_col7\" class=\"data row3 col7\" >0.077000</td>\n",
       "      <td id=\"T_4cb7d_row3_col8\" class=\"data row3 col8\" >nan</td>\n",
       "      <td id=\"T_4cb7d_row3_col9\" class=\"data row3 col9\" >nan</td>\n",
       "      <td id=\"T_4cb7d_row3_col10\" class=\"data row3 col10\" >nan</td>\n",
       "      <td id=\"T_4cb7d_row3_col11\" class=\"data row3 col11\" >nan</td>\n",
       "    </tr>\n",
       "    <tr>\n",
       "      <th id=\"T_4cb7d_level0_row4\" class=\"row_heading level0 row4\" >tariff</th>\n",
       "      <td id=\"T_4cb7d_row4_col0\" class=\"data row4 col0\" >0.362***</td>\n",
       "      <td id=\"T_4cb7d_row4_col1\" class=\"data row4 col1\" >0.136000</td>\n",
       "      <td id=\"T_4cb7d_row4_col2\" class=\"data row4 col2\" >nan</td>\n",
       "      <td id=\"T_4cb7d_row4_col3\" class=\"data row4 col3\" >nan</td>\n",
       "      <td id=\"T_4cb7d_row4_col4\" class=\"data row4 col4\" >nan</td>\n",
       "      <td id=\"T_4cb7d_row4_col5\" class=\"data row4 col5\" >nan</td>\n",
       "      <td id=\"T_4cb7d_row4_col6\" class=\"data row4 col6\" >0.37**</td>\n",
       "      <td id=\"T_4cb7d_row4_col7\" class=\"data row4 col7\" >0.146000</td>\n",
       "      <td id=\"T_4cb7d_row4_col8\" class=\"data row4 col8\" >0.394***</td>\n",
       "      <td id=\"T_4cb7d_row4_col9\" class=\"data row4 col9\" >0.140000</td>\n",
       "      <td id=\"T_4cb7d_row4_col10\" class=\"data row4 col10\" >0.471*</td>\n",
       "      <td id=\"T_4cb7d_row4_col11\" class=\"data row4 col11\" >0.266000</td>\n",
       "    </tr>\n",
       "  </tbody>\n",
       "</table>\n"
      ],
      "text/plain": [
       "<pandas.io.formats.style.Styler at 0x26186db8690>"
      ]
     },
     "metadata": {},
     "output_type": "display_data"
    }
   ],
   "source": [
    "def extract_model_results(model, variables):\n",
    "    coeffs = model.params[variables]\n",
    "    se = model.std_errors[variables]\n",
    "    pvalues = model.pvalues[variables]\n",
    "\n",
    "    coeffs = coeffs.round(3)\n",
    "    se = se.round(3)\n",
    "    stars = add_significance_stars(pvalues)\n",
    "\n",
    "    return coeffs.astype(str) + stars, se\n",
    "\n",
    "variables_iv_model = ['tariff']\n",
    "variables_iv_region_model = ['regtariff']\n",
    "variables_iv_model5 = ['regtarifftest']\n",
    "variables_ivtrend_model = ['tariff', 'schoolattendtrend']\n",
    "variables_oref_model = ['tariff']\n",
    "variables_S7_model = ['tariff', 'inp2tariff']\n",
    "\n",
    "iv_coeffs, iv_se = extract_model_results(iv_model, variables_iv_model)\n",
    "iv_region_coeffs, iv_region_se = extract_model_results(iv_region_model, variables_iv_region_model)\n",
    "iv_model5_coeffs, iv_model5_se = extract_model_results(iv_model5, variables_iv_model5)\n",
    "ivtrend_coeffs, ivtrend_se = extract_model_results(ivtrend_model, variables_ivtrend_model)\n",
    "oref_coeffs, oref_se = extract_model_results(oref_model, variables_oref_model)\n",
    "S7_coeffs, S7_se = extract_model_results(S7_model, variables_S7_model)\n",
    "\n",
    "col38 = pd.DataFrame({\n",
    "    'Coeff (3)': iv_coeffs,\n",
    "    'SE (3)': iv_se,\n",
    "    'Coeff (4)': iv_region_coeffs,\n",
    "    'SE (4)': iv_region_se,\n",
    "    'Coeff (5)': iv_model5_coeffs,\n",
    "    'SE (5)': iv_model5_se,\n",
    "    'Coeff (6)': ivtrend_coeffs,\n",
    "    'SE (6)': ivtrend_se,\n",
    "    'Coeff (7)': oref_coeffs,\n",
    "    'SE (7)': oref_se,\n",
    "    'Coeff (8)': S7_coeffs,\n",
    "    'SE (8)': S7_se\n",
    "})\n",
    "\n",
    "styled_results = col38.style.set_table_styles([\n",
    "    {'selector': 'th', 'props': [('font-size', '8.5pt'), ('text-align', 'center'), ('background-color', '##605d63')]},\n",
    "    {'selector': 'td', 'props': [('font-size', '8.5pt'), ('text-align', 'center')]},\n",
    "]).set_caption(\"Table 3: Columns 3-8\")\n",
    "\n",
    "display(styled_results)"
   ]
  },
  {
   "cell_type": "markdown",
   "id": "91cbb62d-003d-431f-bf51-c540835bcf60",
   "metadata": {},
   "source": [
    "Column 3 presents the results of the IV estimation of equation (7) in which the district tariff is instrumented by district tariff on traded goods. Models and 4 and 5 include region indicators and an interaction of region indicators with post-reform indicator. In column 6, there are interactions between pre-reform trend in schooling and post-reform indicator (schoolattendtrend) and between initial district conditions and post-reform indicator. This model also includes district indicators. Column 7 controls for some other reform indicators like industry licensing, foreign direct investment, etc. Column 8 controls for consumption and input tariffs. In summary, the results in the table seem to indicate that districts which experience larger tariff decline have lower improvements in schooling attendance. "
   ]
  },
  {
   "cell_type": "code",
   "execution_count": 37,
   "id": "a5b70a0d-996e-47e8-96df-9f47a3d086cd",
   "metadata": {},
   "outputs": [],
   "source": [
    "# Table 4\n",
    "\n",
    "adult_df = pd.read_stata(\"data/adult.dta\")"
   ]
  },
  {
   "cell_type": "code",
   "execution_count": 38,
   "id": "ea4a9385-64bc-4f3b-9884-f363d0e985da",
   "metadata": {},
   "outputs": [],
   "source": [
    "var4 = [\n",
    "    \"age\", \"age2\", \"age3\", \"sc\", \"st\", \"hindu\", \"islam\", \"christ\", \"sikh\",\n",
    "    \"post\", \"pcnt_litpost\", \"pcnt_scstpost\", \"pcnt_mfgpost\", \"pcnt_farmpost\",\n",
    "    \"pcnt_tradepost\", \"pcnt_tranpost\", \"pcnt_minpost\", \"pcnt_servpost\",\n",
    "    \"postlaw1\", \"postlaw2\"\n",
    "]\n",
    "\n",
    "dependent_vars = ['wagework', 'twage']\n",
    "\n",
    "results1 = {}\n",
    "\n",
    "for Y in dependent_vars:\n",
    "    df_subset = adult_df[adult_df['literate'] == 0].dropna(subset=[Y, 'tariff', 'trallmtariff'] + var4)\n",
    "    \n",
    "    formula = f'{Y} ~ 1 + {\" + \".join(var4)} + C(district) [tariff ~ trallmtariff]'\n",
    "    \n",
    "    model1 = IV2SLS.from_formula(formula, data=df_subset).fit(cov_type='clustered', clusters=df_subset['stateyear'])\n",
    "   \n",
    "    results1[Y] = model1"
   ]
  },
  {
   "cell_type": "code",
   "execution_count": 39,
   "id": "c0f06c4a-39b2-4cae-a82f-c0c346169801",
   "metadata": {},
   "outputs": [],
   "source": [
    "summary_table1 = []\n",
    "\n",
    "for Y, model1 in results1.items():\n",
    "    tariff_coeff = model1.params.get('tariff', None)\n",
    "    tariff_se = model1.std_errors.get('tariff', None)\n",
    "   \n",
    "    if tariff_coeff is not None:\n",
    "        tariff_coeff = round(tariff_coeff, 3)\n",
    "    if tariff_se is not None:\n",
    "        tariff_se = round(tariff_se, 3)\n",
    "    \n",
    "    summary_table1.append({'Model': Y, 'Tariff': tariff_coeff, 'SE': tariff_se})\n",
    "\n",
    "summary_df1 = pd.DataFrame(summary_table1)"
   ]
  },
  {
   "cell_type": "code",
   "execution_count": 40,
   "id": "e0045e53-be10-4e59-9fed-259a5345d5fa",
   "metadata": {},
   "outputs": [],
   "source": [
    "var4 = [\n",
    "    \"age\", \"age2\", \"age3\", \"sc\", \"st\", \"hindu\", \"islam\", \"christ\", \"sikh\",\n",
    "    \"post\", \"pcnt_litpost\", \"pcnt_scstpost\", \"pcnt_mfgpost\", \"pcnt_farmpost\",\n",
    "    \"pcnt_tradepost\", \"pcnt_tranpost\", \"pcnt_minpost\", \"pcnt_servpost\",\n",
    "    \"postlaw1\", \"postlaw2\"\n",
    "]\n",
    "\n",
    "dependent_vars = ['wagework', 'twage']\n",
    "\n",
    "results2 = {}\n",
    "\n",
    "for Y in dependent_vars:\n",
    "    df_subset = adult_df[adult_df['literate'] == 1].dropna(subset=[Y, 'tariff', 'trallmtariff'] + var4)\n",
    "    \n",
    "    formula = f'{Y} ~ 1 + {\" + \".join(var4)} + C(district) [tariff ~ trallmtariff]'\n",
    "    \n",
    "    model2 = IV2SLS.from_formula(formula, data=df_subset).fit(cov_type='clustered', clusters=df_subset['stateyear'])\n",
    "    \n",
    "    results2[Y] = model2"
   ]
  },
  {
   "cell_type": "code",
   "execution_count": 45,
   "id": "13b51245-66d4-4f1e-97bf-4414f8df8c83",
   "metadata": {},
   "outputs": [
    {
     "name": "stdout",
     "output_type": "stream",
     "text": [
      "Table 4: The Effect of Tariffs on Adult Male Employment in Wage Work by Literacy Status\n",
      "==================================================\n",
      "Panel A: Illiterate Men\n",
      "==================================================\n",
      "      Model  Tariff     SE\n",
      "0  wagework   0.112  0.292\n",
      "1     twage   0.472  1.763\n",
      "==================================================\n",
      "Panel B: Literate Men\n",
      "==================================================\n",
      "      Model  Tariff     SE\n",
      "0  wagework  -0.210  0.115\n",
      "1     twage  -2.399  0.755\n"
     ]
    }
   ],
   "source": [
    "summary_table2 = []\n",
    "\n",
    "for Y, model2 in results2.items():\n",
    "    tariff_coeff = model2.params.get('tariff', None)\n",
    "    tariff_se = model2.std_errors.get('tariff', None)\n",
    "   \n",
    "    if tariff_coeff is not None:\n",
    "        tariff_coeff = round(tariff_coeff, 3)\n",
    "    if tariff_se is not None:\n",
    "        tariff_se = round(tariff_se, 3)\n",
    "    \n",
    "    summary_table2.append({'Model': Y, 'Tariff': tariff_coeff, 'SE': tariff_se})\n",
    "\n",
    "summary_df2 = pd.DataFrame(summary_table2)\n",
    "\n",
    "print(\"Table 4: The Effect of Tariffs on Adult Male Employment in Wage Work by Literacy Status\")\n",
    "print(\"=\"*50)\n",
    "print(\"Panel A: Illiterate Men\")\n",
    "print(\"=\"*50)\n",
    "print(summary_df1)\n",
    "print(\"=\"*50)\n",
    "print(\"Panel B: Literate Men\")\n",
    "print(\"=\"*50)\n",
    "print(summary_df2)"
   ]
  },
  {
   "cell_type": "markdown",
   "id": "7f81a5e5-9879-433b-b252-27e0d440bc01",
   "metadata": {},
   "source": [
    "In table 4, the results of the estimation of equation (7) are presented. The sample consists of adult males aged 25-50, categorised by literacy. The dependent variables are participation in wage work (wagework) and number of days worked in wage work (twage). For literate men, both participation and days worked increase in respone to a decline in tariff, while the opposite holds true for illiterate men. "
   ]
  },
  {
   "cell_type": "code",
   "execution_count": 42,
   "id": "bae5a9ef-30eb-4122-9c3c-abeacf15d7ea",
   "metadata": {},
   "outputs": [],
   "source": [
    "# Table 5\n",
    "\n",
    "cov5 = [\n",
    "    \"female\", \"age\", \"fem_age\", \"age2\", \"fem_age2\", \"age3\", \"fem_age3\", \n",
    "    \"sc\", \"st\", \"hindu\", \"islam\", \"christ\", \"sikh\", \"headfemale\", \"headage\", \n",
    "    \"headliterate\", \"headprimary\", \"headmiddle\", \"headsecond\", \"headhigher\", \n",
    "    \"post\", \"pcnt_litpost\", \"pcnt_scstpost\", \"pcnt_mfgpost\", \"pcnt_farmpost\", \n",
    "    \"pcnt_tradepost\", \"pcnt_tranpost\", \"pcnt_minpost\", \"pcnt_servpost\", \n",
    "    \"postlaw1\", \"postlaw2\"\n",
    "]\n",
    "\n",
    "dependent_vars = [\"schoolattend\", \"labor\", \"workonly\", \"marketwork\", \"domesticwork\", \"idle\"]\n",
    "\n",
    "results = {}\n",
    "\n",
    "for Y in dependent_vars:\n",
    "    tab5 = child_df.dropna(subset=[Y, 'tariff', 'trallmtariff', 'district', 'stateyear'] + cov5)\n",
    "    \n",
    "    formula = f'{Y} ~ 1 + {\" + \".join(cov5)} + C(district) [tariff ~ trallmtariff]'\n",
    "    \n",
    "    model = IV2SLS.from_formula(formula, data=tab5).fit(cov_type='clustered', clusters=tab5['stateyear'])\n",
    "    \n",
    "    results[Y] = model"
   ]
  },
  {
   "cell_type": "code",
   "execution_count": 43,
   "id": "f7ef6920-efc9-4019-aeda-f510d42f2244",
   "metadata": {},
   "outputs": [
    {
     "name": "stdout",
     "output_type": "stream",
     "text": [
      "Table 5\n",
      "==================================================\n",
      "          Model  Tariff     SE\n",
      "0  schoolattend   0.362  0.136\n",
      "1         labor  -0.117  0.109\n",
      "2      workonly  -0.122  0.110\n",
      "3    marketwork   0.050  0.092\n",
      "4  domesticwork  -0.167  0.075\n",
      "5          idle  -0.240  0.096\n"
     ]
    }
   ],
   "source": [
    "summary_table = []\n",
    "\n",
    "for Y, model in results.items():\n",
    "    tariff_coeff = model.params.get('tariff', None)\n",
    "    tariff_se = model.std_errors.get('tariff', None)\n",
    "    \n",
    "    if tariff_coeff is not None:\n",
    "        tariff_coeff = round(tariff_coeff, 3)\n",
    "    if tariff_se is not None:\n",
    "        tariff_se = round(tariff_se, 3)\n",
    "        \n",
    "    summary_table.append({'Model': Y, 'Tariff': tariff_coeff, 'SE': tariff_se})\n",
    "\n",
    "summary_df = pd.DataFrame(summary_table)\n",
    "\n",
    "print(\"Table 5\")\n",
    "print(\"=\"*50)\n",
    "print(summary_df)"
   ]
  },
  {
   "cell_type": "markdown",
   "id": "d8eb5016-4bd8-4739-bff7-08be09728e19",
   "metadata": {},
   "source": [
    "The table 5 shows how the participation of children in different work categories is affected by district tariff. The equation (7) is estimated for all the work categories as described in table 1. A decline in tariffs seem to reduce time in school and labour, and instead dedicated to more household work. However, it's hard to make sense of why there is an increase in idle time with a decline in tariffs. The authors speculate that this could be an error in the measurement of the activities of the children, or that the child's marginal product in labour activities decreasing to zero can induce them to withdraw from all works. "
   ]
  },
  {
   "cell_type": "code",
   "execution_count": 8,
   "id": "25a484e7-260d-4196-8a94-0d5af141f546",
   "metadata": {},
   "outputs": [],
   "source": [
    "loan_df = pd.read_stata(\"data/loan.dta\")"
   ]
  },
  {
   "cell_type": "code",
   "execution_count": 9,
   "id": "35935109-3c89-404e-ba24-51156f5101bf",
   "metadata": {},
   "outputs": [],
   "source": [
    "# Table 6\n",
    "\n",
    "cov6 = [\n",
    "    \"post\", \"postlaw1\", \"postlaw2\", \"pcnt_litpost\", \"pcnt_scstpost\", \"pcnt_mfgpost\", \n",
    "    \"pcnt_farmpost\", \"pcnt_tradepost\", \"pcnt_tranpost\", \"pcnt_minpost\", \"pcnt_servpost\", \n",
    "    \"sc\", \"st\", \"hindu\", \"islam\", \"christ\", \"sikh\", \"headfemale\", \"headage\", \"headliterate\", \n",
    "    \"headprimary\", \"headmiddle\", \"headsecond\", \"headhigher\"\n",
    "]\n",
    "\n",
    "loan_df1 = loan_df.dropna(subset=['tariff', 'trallmtariff', 'district', 'stateyear'] + cov6)\n",
    "\n",
    "Y = 'eduloan'\n",
    "\n",
    "formula = f'{Y} ~ 1 + {\" + \".join(cov6)} + C(district) [tariff ~ trallmtariff]'\n",
    "\n",
    "model6a = IV2SLS.from_formula(formula, data=loan_df1).fit(cov_type='clustered', clusters=loan_df1['stateyear'])"
   ]
  },
  {
   "cell_type": "code",
   "execution_count": 10,
   "id": "6523e53f-a506-4432-844b-ae14a1e8d703",
   "metadata": {},
   "outputs": [],
   "source": [
    "tariff_coeff = model6a.params['tariff']\n",
    "tariff_se = model6a.std_errors['tariff']\n",
    "\n",
    "tariff_coeff = round(tariff_coeff, 3)\n",
    "tariff_se = round(tariff_se, 3)\n",
    "\n",
    "results_dfa = pd.DataFrame({\n",
    "    'Variable': ['tariff'],\n",
    "    'Coefficient': [tariff_coeff],\n",
    "    'SE': [tariff_se]\n",
    "})"
   ]
  },
  {
   "cell_type": "code",
   "execution_count": 11,
   "id": "6b0c029f-1e19-4dfa-87eb-113cde30f0da",
   "metadata": {},
   "outputs": [],
   "source": [
    "edu_df = pd.read_stata(\"data/educationexp.dta\")"
   ]
  },
  {
   "cell_type": "code",
   "execution_count": 12,
   "id": "a8d05dca-49f2-4787-9daf-5efe457293da",
   "metadata": {},
   "outputs": [],
   "source": [
    "edu_df1 = edu_df.dropna(subset=['tariff', 'trallmtariff', 'district', 'stateyear'] + cov6)\n",
    "\n",
    "Y = 'edupercap'\n",
    "\n",
    "formula = f'{Y} ~ 1 + {\" + \".join(cov6)} + C(district) [tariff ~ trallmtariff]'\n",
    "\n",
    "model6b = IV2SLS.from_formula(formula, data=edu_df1).fit(cov_type='clustered', clusters=edu_df1['stateyear'])"
   ]
  },
  {
   "cell_type": "code",
   "execution_count": 13,
   "id": "78200002-736f-49e9-9b2f-3d11ff303cc2",
   "metadata": {},
   "outputs": [],
   "source": [
    "tariff_coeff = model6b.params['tariff']\n",
    "tariff_se = model6b.std_errors['tariff']\n",
    "\n",
    "tariff_coeff = round(tariff_coeff, 3)\n",
    "tariff_se = round(tariff_se, 3)\n",
    "\n",
    "results_dfb = pd.DataFrame({\n",
    "    'Variable': ['tariff'],\n",
    "    'Coefficient': [tariff_coeff],\n",
    "    'SE': [tariff_se]\n",
    "})"
   ]
  },
  {
   "cell_type": "code",
   "execution_count": 14,
   "id": "dd4d335b-3a45-4744-b726-ed8f4df0f0a6",
   "metadata": {},
   "outputs": [],
   "source": [
    "Y = 'shareeduexp'\n",
    "\n",
    "formula = f'{Y} ~ 1 + {\" + \".join(cov6)} + C(district) [tariff ~ trallmtariff]'\n",
    "\n",
    "model6c = IV2SLS.from_formula(formula, data=edu_df1).fit(cov_type='clustered', clusters=edu_df1['stateyear'])"
   ]
  },
  {
   "cell_type": "code",
   "execution_count": 15,
   "id": "1279a17f-1182-4766-8d22-74cb53da6e6d",
   "metadata": {},
   "outputs": [],
   "source": [
    "tariff_coeff = model6c.params['tariff']\n",
    "tariff_se = model6c.std_errors['tariff']\n",
    "\n",
    "tariff_coeff = round(tariff_coeff, 3)\n",
    "tariff_se = round(tariff_se, 3)\n",
    "\n",
    "results_dfc = pd.DataFrame({\n",
    "    'Variable': ['tariff'],\n",
    "    'Coefficient': [tariff_coeff],\n",
    "    'SE': [tariff_se]\n",
    "})"
   ]
  },
  {
   "cell_type": "code",
   "execution_count": 16,
   "id": "e7e25377-2378-440f-939b-25f3b410f4e6",
   "metadata": {},
   "outputs": [],
   "source": [
    "eduexp_df = pd.read_stata(\"data/eduexpend4252.dta\")"
   ]
  },
  {
   "cell_type": "code",
   "execution_count": 17,
   "id": "f95d54a7-e8a7-436f-a781-6219dae4409e",
   "metadata": {},
   "outputs": [],
   "source": [
    "cov6d = [\n",
    "    \"post\", \"postlaw1\", \"postlaw2\", \"pcnt_litpost\", \"pcnt_scstpost\", \"pcnt_mfgpost\", \n",
    "    \"pcnt_farmpost\", \"pcnt_tradepost\", \"pcnt_tranpost\", \"pcnt_minpost\", \"pcnt_servpost\", \n",
    "    \"sc\", \"st\", \"headfemale\", \"headage\", \"headliterate\", \n",
    "    \"headprimary\", \"headmiddle\", \"headsecond\", \"headhigher\"\n",
    "]\n",
    "\n",
    "\n",
    "eduexp_df = eduexp_df.dropna(subset=['tariff4', 'trallmtariff4', 'district', 'stateyear', 'toteduexp'] + cov6d)\n",
    "\n",
    "\n",
    "Y = 'toteduexp'\n",
    "\n",
    "formula = f'{Y} ~ 1 + {\" + \".join(cov6d)} + C(district) [tariff4 ~ trallmtariff4]'\n",
    "\n",
    "model6d = IV2SLS.from_formula(formula, data=eduexp_df, weights=eduexp_df['mult_comb']\n",
    "                             ).fit(cov_type='clustered', clusters=eduexp_df['stateyear'])"
   ]
  },
  {
   "cell_type": "code",
   "execution_count": 18,
   "id": "0d07ede1-671c-4b15-8815-c0285da5aeb1",
   "metadata": {},
   "outputs": [],
   "source": [
    "tariff_coeff = model6d.params['tariff4']\n",
    "tariff_se = model6d.std_errors['tariff4']\n",
    "\n",
    "tariff_coeff = round(tariff_coeff, 3)\n",
    "tariff_se = round(tariff_se, 3)\n",
    "\n",
    "results_dfd = pd.DataFrame({\n",
    "    'Variable': ['tariff'],\n",
    "    'Coefficient': [tariff_coeff],\n",
    "    'SE': [tariff_se]\n",
    "})"
   ]
  },
  {
   "cell_type": "code",
   "execution_count": 19,
   "id": "1d3f1c14-54e6-4300-99e2-cfb3b0c40608",
   "metadata": {},
   "outputs": [],
   "source": [
    "eduexp_df = eduexp_df.dropna(subset=['tariff4', 'trallmtariff4', 'district', 'stateyear', 'shareeduexp'] + cov6d)\n",
    "\n",
    "\n",
    "Y = 'shareeduexp'\n",
    "\n",
    "formula = f'{Y} ~ 1 + {\" + \".join(cov6d)} + C(district) [tariff4 ~ trallmtariff4]'\n",
    "\n",
    "model6e = IV2SLS.from_formula(formula, data=eduexp_df, weights=eduexp_df['mult_comb']\n",
    "                             ).fit(cov_type='clustered', clusters=eduexp_df['stateyear'])"
   ]
  },
  {
   "cell_type": "code",
   "execution_count": 20,
   "id": "9c7ed67f-9558-4a34-9100-2a107491dc85",
   "metadata": {},
   "outputs": [
    {
     "name": "stdout",
     "output_type": "stream",
     "text": [
      "Table 6: The Effect of Tariffs on Educational Expenditures\n",
      "==================================================\n",
      "  Variable  Coefficient    SE\n",
      "0   tariff        -0.03  0.01\n",
      "==================================================\n",
      "  Variable  Coefficient     SE\n",
      "0   tariff       16.581  4.526\n",
      "==================================================\n",
      "  Variable  Coefficient     SE\n",
      "0   tariff        0.054  0.016\n",
      "==================================================\n",
      "  Variable  Coefficient     SE\n",
      "0   tariff        27.29  8.089\n",
      "==================================================\n",
      "  Variable  Coefficient     SE\n",
      "0   tariff        0.044  0.028\n"
     ]
    }
   ],
   "source": [
    "tariff_coeff = model6e.params['tariff4']\n",
    "tariff_se = model6e.std_errors['tariff4']\n",
    "\n",
    "tariff_coeff = round(tariff_coeff, 3)\n",
    "tariff_se = round(tariff_se, 3)\n",
    "\n",
    "results_dfe = pd.DataFrame({\n",
    "    'Variable': ['tariff'],\n",
    "    'Coefficient': [tariff_coeff],\n",
    "    'SE': [tariff_se]\n",
    "})\n",
    "\n",
    "print(\"Table 6: The Effect of Tariffs on Educational Expenditures\")\n",
    "print(\"=\"*50)\n",
    "print(results_dfa)\n",
    "print(\"=\"*50)\n",
    "print(results_dfb)\n",
    "print(\"=\"*50)\n",
    "print(results_dfc)\n",
    "print(\"=\"*50)\n",
    "print(results_dfd)\n",
    "print(\"=\"*50)\n",
    "print(results_dfe)"
   ]
  },
  {
   "cell_type": "markdown",
   "id": "6c84e582-834f-4761-88db-431bfacf8169",
   "metadata": {},
   "source": [
    "The authors try to investigate whether tariff declines could lead to decline in educational expenditure through the channel of poverty. That is, districts with high intensity of tariff decline might in some cases exacerbate poverty and reduce the household's investment in child education. In the first row of table 6, the negative effect of tariff suggests that high tariff decline is associated with households taking a loan to finance education. Rows 2 and 3 show the effect of tariff on household per capita expenditure on education and the share of education in household expenditure. The decline in these variables of household expenditure of education corresponds well with the increase in loan for education. This result also matches up well with the findings from table 5 about tariff induced decline in school attendance."
   ]
  },
  {
   "cell_type": "code",
   "execution_count": 26,
   "id": "9c953f00-8eec-499e-b2ea-05dc6ae31eb2",
   "metadata": {},
   "outputs": [],
   "source": [
    "eduexp_df = pd.read_stata(\"data/eduexpend4252.dta\")"
   ]
  },
  {
   "cell_type": "code",
   "execution_count": 27,
   "id": "437c7f31-eb78-4a4d-ba0b-98541e6e2042",
   "metadata": {},
   "outputs": [],
   "source": [
    "# Table 7\n",
    "\n",
    "eduexp_df = eduexp_df.dropna(subset=['tariff4', 'trallmtariff4', 'district', 'stateyear', \n",
    "                                     'tar_meal', 'tar_schlshp', 'tar_free', 'attend', 'enrolled', \n",
    "                                     'trmalltar_free', 'trmalltar_meal', 'trmalltar_schlshp'] + cov6d)\n",
    "\n",
    "X_vars = ['attend', 'enrolled']\n",
    "\n",
    "models = {}\n",
    "\n",
    "for X in X_vars:\n",
    "    \n",
    "        formula = (f'{X} ~ 1 + {\" + \".join(cov6d)} + C(district) '\n",
    "                   f'[tariff4 + tar_meal ~ trmalltar_meal + trallmtariff4]')\n",
    "        \n",
    "        model7 = IV2SLS.from_formula(formula, data=eduexp_df, weights=eduexp_df['mult_comb']\n",
    "                                    ).fit(cov_type='clustered', clusters=eduexp_df['stateyear'])\n",
    "       \n",
    "        models[X] = model7"
   ]
  },
  {
   "cell_type": "code",
   "execution_count": 28,
   "id": "78ddca39-7e66-427f-be64-e4535e7ab977",
   "metadata": {},
   "outputs": [
    {
     "name": "stdout",
     "output_type": "stream",
     "text": [
      "Table 7: Panel  A\n",
      "\n",
      "================================================================================\n",
      "\n",
      "Results for attend:\n",
      "tariff4     0.798595\n",
      "tar_meal   -0.737046\n",
      "Name: parameter, dtype: float64\n",
      "tariff4     0.226790\n",
      "tar_meal    0.297791\n",
      "Name: stderr, dtype: float64\n",
      "tariff4     0.000429\n",
      "tar_meal    0.013322\n",
      "Name: pvalue, dtype: float64\n",
      "\n",
      "================================================================================\n",
      "\n",
      "Table 7: Panel  A\n",
      "\n",
      "================================================================================\n",
      "\n",
      "Results for enrolled:\n",
      "tariff4     0.770442\n",
      "tar_meal   -0.641632\n",
      "Name: parameter, dtype: float64\n",
      "tariff4     0.220232\n",
      "tar_meal    0.307710\n",
      "Name: stderr, dtype: float64\n",
      "tariff4     0.000468\n",
      "tar_meal    0.037053\n",
      "Name: pvalue, dtype: float64\n",
      "\n",
      "================================================================================\n",
      "\n"
     ]
    }
   ],
   "source": [
    "for X in models:\n",
    "    print(\"Table 7: Panel  A\")\n",
    "    print(\"\\n\" + \"=\"*80 + \"\\n\") \n",
    "    print(f\"Results for {X}:\")\n",
    "    print(models[X].params[['tariff4', 'tar_meal']])\n",
    "    print(models[X].std_errors[['tariff4', 'tar_meal']])  \n",
    "    print(models[X].pvalues[['tariff4', 'tar_meal']])  \n",
    "    print(\"\\n\" + \"=\"*80 + \"\\n\") "
   ]
  },
  {
   "cell_type": "markdown",
   "id": "6aba9c0c-8ed5-4176-9203-3e36ca64e199",
   "metadata": {},
   "source": [
    "In table 7, the measure of district tariff is interacted with free midday meal, scholarships and free tution. The dependent variables are school attendance and enrollment. Panel A contains the interaction of tariff and midday meal, Panel B contains the interaction of tariff and scholarships and Panel C contains the interaction of tariff and free tuition."
   ]
  },
  {
   "cell_type": "code",
   "execution_count": 29,
   "id": "7a749189-1ab0-47ab-9f5d-5955c441f5e6",
   "metadata": {},
   "outputs": [],
   "source": [
    "# Table 7: Panel B\n",
    "models = {}\n",
    "\n",
    "for X in X_vars:\n",
    "    \n",
    "        formula = (f'{X} ~ 1 + {\" + \".join(cov6d)} + C(district) '\n",
    "                   f'[tariff4 + tar_schlshp ~ trmalltar_schlshp + trallmtariff4]')\n",
    "        \n",
    "        model7b = IV2SLS.from_formula(formula, data=eduexp_df, weights=eduexp_df['mult_comb']\n",
    "                                     ).fit(cov_type='clustered', clusters=eduexp_df['stateyear'])\n",
    "        \n",
    "        models[X] = model7b"
   ]
  },
  {
   "cell_type": "code",
   "execution_count": 30,
   "id": "26b07cad-f935-4b90-8ae1-4e70126f31d7",
   "metadata": {},
   "outputs": [
    {
     "name": "stdout",
     "output_type": "stream",
     "text": [
      "Table 7: Panel  B\n",
      "\n",
      "================================================================================\n",
      "\n",
      "Results for attend:\n",
      "tariff4        0.592451\n",
      "tar_schlshp   -1.107483\n",
      "Name: parameter, dtype: float64\n",
      "tariff4        0.186170\n",
      "tar_schlshp    3.070023\n",
      "Name: stderr, dtype: float64\n",
      "tariff4        0.001461\n",
      "tar_schlshp    0.718293\n",
      "Name: pvalue, dtype: float64\n",
      "\n",
      "================================================================================\n",
      "\n",
      "Table 7: Panel  B\n",
      "\n",
      "================================================================================\n",
      "\n",
      "Results for enrolled:\n",
      "tariff4        0.594518\n",
      "tar_schlshp   -1.695559\n",
      "Name: parameter, dtype: float64\n",
      "tariff4        0.185263\n",
      "tar_schlshp    3.100940\n",
      "Name: stderr, dtype: float64\n",
      "tariff4        0.001332\n",
      "tar_schlshp    0.584524\n",
      "Name: pvalue, dtype: float64\n",
      "\n",
      "================================================================================\n",
      "\n"
     ]
    }
   ],
   "source": [
    "for X in models:\n",
    "    print(\"Table 7: Panel  B\")\n",
    "    print(\"\\n\" + \"=\"*80 + \"\\n\") \n",
    "    print(f\"Results for {X}:\")\n",
    "    print(models[X].params[['tariff4', 'tar_schlshp']])\n",
    "    print(models[X].std_errors[['tariff4', 'tar_schlshp']])  \n",
    "    print(models[X].pvalues[['tariff4', 'tar_schlshp']])  \n",
    "    print(\"\\n\" + \"=\"*80 + \"\\n\") "
   ]
  },
  {
   "cell_type": "code",
   "execution_count": 31,
   "id": "272579c2-7fd9-4f13-9001-c817b8b2aa22",
   "metadata": {},
   "outputs": [],
   "source": [
    "# Table 7: Panel C\n",
    "models = {}\n",
    "\n",
    "for X in X_vars:\n",
    "    \n",
    "        formula = (f'{X} ~ 1 + {\" + \".join(cov6d)} + C(district) '\n",
    "                   f'[tariff4 + tar_free ~ trmalltar_free + trallmtariff4]')\n",
    "        \n",
    "        model7c = IV2SLS.from_formula(formula, data=eduexp_df, weights=eduexp_df['mult_comb']\n",
    "                                     ).fit(cov_type='clustered', clusters=eduexp_df['stateyear'])\n",
    "        \n",
    "        models[X] = model7c"
   ]
  },
  {
   "cell_type": "code",
   "execution_count": 32,
   "id": "a6abc5c0-2192-4abb-ab7a-93b0dc6cfea0",
   "metadata": {},
   "outputs": [
    {
     "name": "stdout",
     "output_type": "stream",
     "text": [
      "Table 7: Panel  C\n",
      "\n",
      "================================================================================\n",
      "\n",
      "Results for attend:\n",
      "tariff4     3.187643\n",
      "tar_free   -2.678858\n",
      "Name: parameter, dtype: float64\n",
      "tariff4     1.885163\n",
      "tar_free    1.954244\n",
      "Name: stderr, dtype: float64\n",
      "tariff4     0.090854\n",
      "tar_free    0.170440\n",
      "Name: pvalue, dtype: float64\n",
      "\n",
      "================================================================================\n",
      "\n",
      "Table 7: Panel  C\n",
      "\n",
      "================================================================================\n",
      "\n",
      "Results for enrolled:\n",
      "tariff4     3.254809\n",
      "tar_free   -2.748844\n",
      "Name: parameter, dtype: float64\n",
      "tariff4     1.857098\n",
      "tar_free    1.928974\n",
      "Name: stderr, dtype: float64\n",
      "tariff4     0.079665\n",
      "tar_free    0.154149\n",
      "Name: pvalue, dtype: float64\n",
      "\n",
      "================================================================================\n",
      "\n"
     ]
    }
   ],
   "source": [
    "for X in models:\n",
    "    print(\"Table 7: Panel  C\")\n",
    "    print(\"\\n\" + \"=\"*80 + \"\\n\") \n",
    "    print(f\"Results for {X}:\")\n",
    "    print(models[X].params[['tariff4', 'tar_free']])\n",
    "    print(models[X].std_errors[['tariff4', 'tar_free']])  \n",
    "    print(models[X].pvalues[['tariff4', 'tar_free']])  \n",
    "    print(\"\\n\" + \"=\"*80 + \"\\n\") "
   ]
  },
  {
   "cell_type": "markdown",
   "id": "782fc80a-644e-4d3f-9178-3bb7429cc08b",
   "metadata": {},
   "source": [
    "It can be gathered from all the three panels that the prevalence of welfare provisions for school kids can to some extent alleviate the negative effects of tariff declines on school attendance and enrollment. "
   ]
  },
  {
   "cell_type": "code",
   "execution_count": 12,
   "id": "a8764b99-1bcd-4360-bacd-04f8e6a2a44b",
   "metadata": {},
   "outputs": [],
   "source": [
    "dist_df = pd.read_stata(\"data/district.dta\")"
   ]
  },
  {
   "cell_type": "code",
   "execution_count": 13,
   "id": "8d0a12ab-94eb-4b14-b016-5152208da8c5",
   "metadata": {},
   "outputs": [],
   "source": [
    "# Table 8\n",
    "\n",
    "tab8 = dist_df[dist_df['bigstate'] == 1]\n",
    "\n",
    "cov8 = [\n",
    "    \"pcnt_litpost\", \"pcnt_scstpost\", \"pcnt_mfgpost\", \"pcnt_farmpost\", \n",
    "    \"pcnt_tradepost\", \"pcnt_tranpost\", \"pcnt_minpost\", \"pcnt_servpost\", \n",
    "    \"postlaw1\", \"postlaw2\"\n",
    "]\n",
    "\n",
    "tab8a = tab8.dropna(subset=['tariff', 'trallmtariff', 'district', 'stateyear', 'inpov', 'post'] + cov8)\n",
    "\n",
    "formula = (f'inpov ~ 1 + post + {\" + \".join(cov8)} + C(district) '\n",
    "           f'[tariff ~ trallmtariff]')\n",
    "\n",
    "model8a = IV2SLS.from_formula(formula, data=tab8a).fit(cov_type='clustered', clusters=tab8a['stateyear'])"
   ]
  },
  {
   "cell_type": "code",
   "execution_count": 17,
   "id": "34bb854d-f467-406d-872b-5ec92d8026e0",
   "metadata": {},
   "outputs": [
    {
     "name": "stdout",
     "output_type": "stream",
     "text": [
      "Table 8: The Effect of Poverty on Activities of Children\n",
      "============================================================\n",
      "Dependent Variable: Headcount Rate\n",
      "============================================================\n",
      "  Variable  Coefficient     SE\n",
      "0   tariff       -0.494  0.164\n"
     ]
    }
   ],
   "source": [
    "tariff_coeff = model8a.params['tariff']\n",
    "tariff_se = model8a.std_errors['tariff']\n",
    "\n",
    "tariff_coeff = round(tariff_coeff, 3)\n",
    "tariff_se = round(tariff_se, 3)\n",
    "\n",
    "results_df8a = pd.DataFrame({\n",
    "    'Variable': ['tariff'],\n",
    "    'Coefficient': [tariff_coeff],\n",
    "    'SE': [tariff_se]\n",
    "})\n",
    "\n",
    "print(\"Table 8: The Effect of Poverty on Activities of Children\")\n",
    "print(\"=\"*60)\n",
    "print(\"Dependent Variable: Headcount Rate\")\n",
    "print(\"=\"*60)\n",
    "print(results_df8a)"
   ]
  },
  {
   "cell_type": "code",
   "execution_count": 20,
   "id": "78d3d2e4-97de-4a94-9e3f-9c1b5625c7bb",
   "metadata": {},
   "outputs": [],
   "source": [
    "child_df = pd.read_stata(\"data/child.dta\")"
   ]
  },
  {
   "cell_type": "code",
   "execution_count": 49,
   "id": "15ea497e-689d-4b0e-aa1a-9fe999eed318",
   "metadata": {},
   "outputs": [],
   "source": [
    "child_df = child_df[child_df['bigstate'] == 1]"
   ]
  },
  {
   "cell_type": "code",
   "execution_count": 50,
   "id": "ce934aef-5eb7-447d-9fa5-fee61a5499ab",
   "metadata": {},
   "outputs": [],
   "source": [
    "# Table 8\n",
    "\n",
    "cov9 = [\n",
    "    \"female\", \"age\", \"fem_age\", \"age2\", \"fem_age2\", \"age3\", \"fem_age3\", \n",
    "    \"sc\", \"st\", \"hindu\", \"islam\", \"christ\", \"sikh\", \"headfemale\", \"headage\", \n",
    "    \"headliterate\", \"headprimary\", \"headmiddle\", \"headsecond\", \"headhigher\", \n",
    "    \"post\", \"pcnt_litpost\", \"pcnt_scstpost\", \"pcnt_mfgpost\", \"pcnt_farmpost\", \n",
    "    \"pcnt_tradepost\", \"pcnt_tranpost\", \"pcnt_minpost\", \"pcnt_servpost\", \n",
    "    \"postlaw1\", \"postlaw2\"\n",
    "]\n",
    "\n",
    "dependent_vars = [\"schoolattend\", \"labor\", \"workonly\", \"marketwork\", \"domesticwork\", \"idle\"]\n",
    "\n",
    "results = {}\n",
    "\n",
    "for Y in dependent_vars:\n",
    "    tab8 = child_df.dropna(subset=[Y, 'tariff', 'trallmtariff', 'district', 'stateyear', 'inpov'] + cov9)\n",
    "    \n",
    "    formula = f'{Y} ~ 1 + post + {\" + \".join(cov9)} + C(district) [inpov ~ trallmtariff]'\n",
    "    \n",
    "    model = IV2SLS.from_formula(formula, data=tab8).fit(cov_type='clustered', clusters=tab8['stateyear'])\n",
    " \n",
    "    results[Y] = model"
   ]
  },
  {
   "cell_type": "code",
   "execution_count": 51,
   "id": "0059792e-8147-4e83-94b7-8570eef6980a",
   "metadata": {},
   "outputs": [
    {
     "name": "stdout",
     "output_type": "stream",
     "text": [
      "Table 8: The Effect of Poverty on Activities of Children\n",
      "============================================================\n",
      "          Model  Headcount Rate     SE\n",
      "0  schoolattend          -0.794  0.361\n",
      "1         labor           0.303  0.242\n",
      "2      workonly           0.321  0.242\n",
      "3    marketwork          -0.036  0.190\n",
      "4  domesticwork           0.338  0.220\n",
      "5          idle           0.473  0.217\n"
     ]
    }
   ],
   "source": [
    "summary_table = []\n",
    "\n",
    "for Y, model in results.items():\n",
    "    tariff_coeff = model.params.get('inpov', None)\n",
    "    tariff_se = model.std_errors.get('inpov', None)\n",
    "    \n",
    "    if tariff_coeff is not None:\n",
    "        tariff_coeff = round(tariff_coeff, 3)\n",
    "    if tariff_se is not None:\n",
    "        tariff_se = round(tariff_se, 3)\n",
    "        \n",
    "    summary_table.append({'Model': Y, 'Headcount Rate': tariff_coeff, 'SE': tariff_se})\n",
    "\n",
    "summary_df = pd.DataFrame(summary_table)\n",
    "print(\"Table 8: The Effect of Poverty on Activities of Children\")\n",
    "print(\"=\"*60)\n",
    "print(summary_df)"
   ]
  },
  {
   "cell_type": "markdown",
   "id": "587f5ba8-8b9f-4d58-8de5-7c56081cf20b",
   "metadata": {},
   "source": [
    "In table 8, the equation (7) is estimated with the work categories previously described as the dependent variables. The headcount poverty is used in the analysis and instrumented by the district tariff on traded goods. The authors note that the instrument may not be valid in the case that the tariff on traded goods influenced returns to education and demand for child labour, though there is reason to believe this may not be the case. The estimates for schoolattend and marketwork suggest that a reduction in poverty would increase attendance in school and participation in market work, though the overall probability of working would decrease. "
   ]
  },
  {
   "cell_type": "markdown",
   "id": "1e86a4be-2102-47f3-8f23-c1d7df7268a1",
   "metadata": {},
   "source": [
    "In essence, this paper sheds some light on the mechanisms through which the intensity of trade liberalisation may affect human capital decisions of the households. Improvements in schooling and reduction in child labour are noted in the period under question, however districts which experience a high tariff decline show smaller improvements in these measures. The primary channel of this development is through poverty; highly affected districts saw smaller reduction in poverty relative to the national trend. However, this is also function of schooling costs and districts with welfare provisions like free midday meals, scholarships and tuition fare better in this regard. Overall this is a very fun and interesting paper on the local effects of trade liberalisation, though there are some possible heterogeneity issues with regards to the higher tariff intensity->lower relative living standards->lower schooling improvements channel. If you find this paper interesting, you might also enjoy another [paper](https://doi.org/10.7208/chicago/9780226318004.003.0008) in the same vein by Petia Topalova."
   ]
  }
 ],
 "metadata": {
  "kernelspec": {
   "display_name": "Python 3 (ipykernel)",
   "language": "python",
   "name": "python3"
  },
  "language_info": {
   "codemirror_mode": {
    "name": "ipython",
    "version": 3
   },
   "file_extension": ".py",
   "mimetype": "text/x-python",
   "name": "python",
   "nbconvert_exporter": "python",
   "pygments_lexer": "ipython3",
   "version": "3.11.7"
  }
 },
 "nbformat": 4,
 "nbformat_minor": 5
}
