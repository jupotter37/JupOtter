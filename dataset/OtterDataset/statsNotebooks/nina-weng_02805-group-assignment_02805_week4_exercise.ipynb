{
 "cells": [
  {
   "cell_type": "markdown",
   "metadata": {},
   "source": [
    "# 02805 week4 exercise\n",
    "s202997 Nina Weng\n",
    "\n",
    "***Questions:***  \n",
    "*1. about the '#' and '/'<br>2. could we just use the csv in the github<br> 3. need to check the number of nodes*\n",
    "\n",
    "## Prelude: Regular expressions\n",
    "> Exercises: Regular expressions round 1.\n",
    "> \n",
    "> - Read this tutorial to form an overview of regular expressions. This is important to understand the content of the tutorial (also very useful later), so you may actually want to work through the examples.  \n",
    "> - Now, explain in your own words: what are regular expressions?  \n",
    "> - Provide an example of a regex to match 4 digits numbers (by this, I mean precisely 4 digits, you should not match any part of numbers with e.g. 5 digits). In your notebook, use findall to show that your regex works on this test-text. Hint: a great place to test out regular expressions is: https://regex101.com.  \n",
    "> - Provide an example of a regex to match words starting with \"super\". Show that it works on the test-text.  "
   ]
  },
  {
   "cell_type": "markdown",
   "metadata": {},
   "source": [
    "#### > Now, explain in your own words: what are regular expressions?\n",
    "\n",
    "**Answer:  \n",
    "Regular expression is a way to define the pattern of the text. It use differnt units to represent different kind of character so that we could use it to represent a long pattern and see if it matches with the text(or part of the text).**"
   ]
  },
  {
   "cell_type": "markdown",
   "metadata": {},
   "source": [
    "# 02805 week4 exercise\n",
    "s202997 Nina Weng\n",
    "## Prelude: Regular expressions\n",
    "> Exercises: Regular expressions round 1.\n",
    "> \n",
    "> - Read this tutorial to form an overview of regular expressions. This is important to understand the content of the tutorial (also very useful later), so you may actually want to work through the examples.  \n",
    "> - Now, explain in your own words: what are regular expressions?  \n",
    "> - Provide an example of a regex to match 4 digits numbers (by this, I mean precisely 4 digits, you should not match any part of numbers with e.g. 5 digits). In your notebook, use findall to show that your regex works on this test-text. Hint: a great place to test out regular expressions is: https://regex101.com.  \n",
    "> - Provide an example of a regex to match words starting with \"super\". Show that it works on the test-text.  "
   ]
  },
  {
   "cell_type": "markdown",
   "metadata": {},
   "source": [
    "> Provide an example of a regex to match 4 digits numbers (by this, I mean precisely 4 digits, you should not match any part of numbers with e.g. 5 digits). In your notebook, use findall to show that your regex works on this test-text. Hint: a great place to test out regular expressions is: https://regex101.com."
   ]
  },
  {
   "cell_type": "code",
   "execution_count": 1,
   "metadata": {},
   "outputs": [],
   "source": [
    "# get the text from the website\n",
    "import requests\n",
    "r = requests.get('https://raw.githubusercontent.com/SocialComplexityLab/socialgraphs2020/master/files/regex_exercise.txt')\n",
    "text= r.text"
   ]
  },
  {
   "cell_type": "code",
   "execution_count": 2,
   "metadata": {},
   "outputs": [
    {
     "name": "stdout",
     "output_type": "stream",
     "text": [
      "1234\n",
      "9999\n"
     ]
    }
   ],
   "source": [
    "import re\n",
    "\n",
    "fourdigits = re.findall(r'[\\s,.\\'();]\\d\\d\\d\\d[\\s,.\\'();]', text) # not sure\n",
    "for fd in fourdigits:\n",
    "    print(fd[1:-1])"
   ]
  },
  {
   "cell_type": "markdown",
   "metadata": {},
   "source": [
    "> Provide an example of a regex to match words starting with \"super\". Show that it works on the test-text."
   ]
  },
  {
   "cell_type": "code",
   "execution_count": 3,
   "metadata": {},
   "outputs": [
    {
     "name": "stdout",
     "output_type": "stream",
     "text": [
      "superpolaroid\n",
      "supertaxidermy\n",
      "superbeer\n"
     ]
    }
   ],
   "source": [
    "superwords = re.findall(r'\\ssuper[\\w-]*[\\s,.;\\']', text)\n",
    "for sw in superwords:\n",
    "    print(sw[1:-1])"
   ]
  },
  {
   "cell_type": "markdown",
   "metadata": {},
   "source": [
    "> Exercise: Regular expressions round 2. Show that you can extract the wiki-links from the test-text. Perhaps you can find inspiration on stack overflow or similar. Hint: Try to solve this exercise on your own (that's what you will get the most out of - learning wise), but if you get stuck ... you will find the solution in one of the video lectures below."
   ]
  },
  {
   "cell_type": "code",
   "execution_count": 6,
   "metadata": {},
   "outputs": [
    {
     "name": "stdout",
     "output_type": "stream",
     "text": [
      "[[drinking vinegar]]\n",
      "[[gentrify]]\n",
      "[[hashtag]]\n",
      "[[Bicycle|Bicycle(two-wheeled type)]]\n",
      "[[Pitchfork|Pitchfork Magazine]]\n"
     ]
    }
   ],
   "source": [
    "wikipage = 'https://en.wikipedia.org/wiki/'\n",
    "\n",
    "wikiitems = re.findall(r'\\[\\[[\\(\\)\\w\\s\\-\\|]*\\]\\]', text) \n",
    "for item in wikiitems:\n",
    "    print(item)"
   ]
  },
  {
   "cell_type": "code",
   "execution_count": 7,
   "metadata": {},
   "outputs": [
    {
     "name": "stdout",
     "output_type": "stream",
     "text": [
      "https://en.wikipedia.org/wiki/drinking_vinegar\n",
      "https://en.wikipedia.org/wiki/gentrify\n",
      "https://en.wikipedia.org/wiki/hashtag\n",
      "https://en.wikipedia.org/wiki/Bicycle\n",
      "https://en.wikipedia.org/wiki/Pitchfork\n"
     ]
    }
   ],
   "source": [
    "# get the wiki links\n",
    "wikilinks = []\n",
    "for item in wikiitems:\n",
    "    keywords = item[2:-2].split('|')[0].replace(' ','_') # remove the '[[',']]' and choose the first keyword if there's a '|', then replace the space with underline\n",
    "    link = wikipage+keywords\n",
    "    wikilinks.append(link)\n",
    "for w in wikilinks: print(w)"
   ]
  },
  {
   "cell_type": "markdown",
   "metadata": {},
   "source": [
    "## Prelude part 2: Pandas DataFrames"
   ]
  },
  {
   "cell_type": "markdown",
   "metadata": {},
   "source": [
    "## Part A: Download the Wikipedia pages of characters\n",
    "> It's time to download all of the pages of the characters. Use your experience with APIs from Week 1. \n",
    "\n",
    "> A challenge *(Leaving it just for now)*\n",
    ">> However, if you're feeling tough, you can head over to our Hardcore List Parsing notebook, full of tricks to help you try out creating these lists on your own! If you manage to do both Marvel and DC on our own, you will officially have graduated to brown-belt Python hacker. (Black belt challenges coming later in the year.)"
   ]
  },
  {
   "cell_type": "code",
   "execution_count": 4,
   "metadata": {},
   "outputs": [],
   "source": [
    "# as some wiki links contains symbols like ':' and '/' which is not allowed in file name\n",
    "# then we use a function to replace those symbols when necessary\n",
    "\n",
    "# get the name for file saving and reading\n",
    "def file_saving_reading_name(s):\n",
    "    s = s.replace(':','@')\n",
    "    s = s.replace('/','$')\n",
    "    return s\n",
    "\n",
    "# get the name with ':' and '/'\n",
    "def node_name(s):\n",
    "    s = s.replace('@',':')\n",
    "    s = s.replace('$','/')\n",
    "    return s"
   ]
  },
  {
   "cell_type": "code",
   "execution_count": 5,
   "metadata": {},
   "outputs": [
    {
     "name": "stdout",
     "output_type": "stream",
     "text": [
      "1240\n"
     ]
    }
   ],
   "source": [
    "# deal with the marvel part first\n",
    "import csv\n",
    "marvel_file_path = './file/marvel_characters.csv'\n",
    "\n",
    "\n",
    "# collect the wikiitems\n",
    "def get_wiki_ittems(csv_file_path):\n",
    "    wikiitems= []\n",
    "    with open(csv_file_path, encoding=\"utf8\") as f:\n",
    "        csv_reader = csv.reader(f) \n",
    "        for row in csv_reader: \n",
    "            # for the dc file, every row end with ':'\n",
    "            contents = row[0].split(';')[0]\n",
    "            \n",
    "            # the csv file is split by '\\'\n",
    "            contents = contents.split('|')\n",
    "            \n",
    "            # the first one is the number, and the third one is the kword if there's a link\n",
    "            if len(contents) == 3 and contents[2]!=''and contents[0] != '':\n",
    "                \n",
    "                # collect the keywords\n",
    "                # notice that the wiki links uses '_' for blank\n",
    "                character_name = contents[1]\n",
    "                link_keywords = contents[2].replace(' ','_')            \n",
    "\n",
    "                # when it is with '#' it means that there's no wikilink for this character just appear somewhere in other character's pages\n",
    "                # so we drop it\n",
    "                # ask the TA , he suggest to use the part before #\n",
    "                if len(link_keywords.split('#')) ==2 :\n",
    "#                     print(keywords)\n",
    "                    link_keywords = link_keywords.split('#')[0]\n",
    "#                     print(keywords)\n",
    "                # if there's '\\\"'， replace it with ''\n",
    "                link_keywords = link_keywords.replace('\"','')\n",
    "\n",
    "                wikiitems.append(link_keywords)\n",
    "    wikiitems = set(wikiitems)\n",
    "    return wikiitems\n",
    "\n",
    "wikiitems_marvel = get_wiki_ittems(marvel_file_path)\n",
    "\n",
    "print(len(wikiitems_marvel))"
   ]
  },
  {
   "cell_type": "code",
   "execution_count": 6,
   "metadata": {},
   "outputs": [
    {
     "name": "stdout",
     "output_type": "stream",
     "text": [
      "1040\n"
     ]
    }
   ],
   "source": [
    "# get the dc wikiitems from csv\n",
    "dc_file_path = './file/dc_characters.csv'\n",
    "\n",
    "wikiitems_dc = get_wiki_ittems(dc_file_path)\n",
    "\n",
    "print(len(wikiitems_dc))"
   ]
  },
  {
   "cell_type": "code",
   "execution_count": 7,
   "metadata": {},
   "outputs": [],
   "source": [
    "# download the json file\n",
    "# once you done it, you could skip this step forever, this is time consuming\n",
    "import requests\n",
    "import json\n",
    "from tqdm import tqdm\n",
    "\n",
    "\n",
    "baseurl = \"https://en.wikipedia.org/w/api.php?\"\n",
    "action = \"action=query\"\n",
    "content = \"prop=revisions&rvprop=content\"\n",
    "dataformat =\"format=json\""
   ]
  },
  {
   "cell_type": "code",
   "execution_count": 14,
   "metadata": {},
   "outputs": [
    {
     "name": "stderr",
     "output_type": "stream",
     "text": [
      "100%|██████████████████████████████████████████████████████████████████████████████| 1240/1240 [06:54<00:00,  2.99it/s]\n"
     ]
    }
   ],
   "source": [
    "json_path = '.\\data\\marvel\\\\'\n",
    "\n",
    "for kwords in tqdm(wikiitems_marvel):\n",
    "#     kwords = wikiitems_marvel[cha_name]\n",
    "    title = \"titles={}\".format(kwords)\n",
    "    query = \"{}{}&{}&{}&{}\".format(baseurl, action, content, title, dataformat)\n",
    "    \n",
    "    r = requests.get(query)\n",
    "    text= r.text\n",
    "    \n",
    "    # remember to use the file saving and reading version of the kwords name\n",
    "    with open(json_path+file_saving_reading_name(kwords)+'.json', 'w') as f:\n",
    "        json.dump(text, f)\n",
    "        "
   ]
  },
  {
   "cell_type": "code",
   "execution_count": 18,
   "metadata": {},
   "outputs": [
    {
     "name": "stderr",
     "output_type": "stream",
     "text": [
      "100%|██████████████████████████████████████████████████████████████████████████████| 1040/1040 [05:59<00:00,  2.89it/s]\n"
     ]
    }
   ],
   "source": [
    "json_path = '.\\data\\dc\\\\'\n",
    "\n",
    "for kwords in tqdm(wikiitems_dc):\n",
    "#     kwords = wikiitems_dc[cha_name]\n",
    "    title = \"titles={}\".format(kwords)\n",
    "    query = \"{}{}&{}&{}&{}\".format(baseurl, action, content, title, dataformat)\n",
    "    \n",
    "    r = requests.get(query)\n",
    "    text= r.text\n",
    "    \n",
    "    with open(json_path+file_saving_reading_name(kwords)+'.json', 'w') as f:\n",
    "        json.dump(text, f)"
   ]
  },
  {
   "cell_type": "markdown",
   "metadata": {},
   "source": [
    "## Part B: Building the networks\n",
    "> Exercise: Build the network of Comics Characters\n",
    "> \n",
    "> Now we can build the network. Isn't this a little bit cool? What a dataset :)\n",
    ">\n",
    ">The overall strategy for this is the following: Take the pages you have downloaded for each character. Each page corresponds to a politician, which is a node in your network. Find all the hyperlinks in a characters page that link to another node of the network (e.g. an other character). There are many ways to do this, but below, I've tried to break it down into natural steps. Keep in mind that the network should include both DC and Marvel characters (and that it is possible that some DC Characters will have links to Marvel Characters and vice-versa).\n",
    ">\n",
    ">Note: When you add a node to the network, also include an attribute (i.e. that specifies the universe where the character comes from; either DC, or Marvel)\n",
    ">\n",
    "> - Use a regular expression to extract all outgoing links from each of the pages you downloaded above.\n",
    "> - For each link you extract, check if the target is a character. If yes, keep it. If no, discard it.\n",
    "> - Use a NetworkX DiGraph to store the network. Store also the properties of the nodes (i.e. from which universe they hail).\n",
    "> - When have you finished, you'll notice that some nodes do not have any out- or in- degrees. You may discard those from the network."
   ]
  },
  {
   "cell_type": "code",
   "execution_count": 9,
   "metadata": {},
   "outputs": [
    {
     "ename": "NotADirectoryError",
     "evalue": "[Errno 20] Not a directory: '/Users/zhengqing/desktop/marvel_characters.csv'",
     "output_type": "error",
     "traceback": [
      "\u001b[0;31m---------------------------------------------------------------------------\u001b[0m",
      "\u001b[0;31mNotADirectoryError\u001b[0m                        Traceback (most recent call last)",
      "\u001b[0;32m<ipython-input-9-a4902e715a1d>\u001b[0m in \u001b[0;36m<module>\u001b[0;34m\u001b[0m\n\u001b[1;32m     13\u001b[0m     \u001b[0;32mreturn\u001b[0m \u001b[0mchas\u001b[0m\u001b[0;34m\u001b[0m\u001b[0;34m\u001b[0m\u001b[0m\n\u001b[1;32m     14\u001b[0m \u001b[0;34m\u001b[0m\u001b[0m\n\u001b[0;32m---> 15\u001b[0;31m \u001b[0mcharacters_marvel\u001b[0m \u001b[0;34m=\u001b[0m \u001b[0mget_names\u001b[0m\u001b[0;34m(\u001b[0m\u001b[0mdata_folder\u001b[0m\u001b[0;34m)\u001b[0m\u001b[0;34m\u001b[0m\u001b[0;34m\u001b[0m\u001b[0m\n\u001b[0m\u001b[1;32m     16\u001b[0m \u001b[0;34m\u001b[0m\u001b[0m\n\u001b[1;32m     17\u001b[0m \u001b[0mprint\u001b[0m\u001b[0;34m(\u001b[0m\u001b[0;34m'Marvel character number:{} (which has wiki link)'\u001b[0m\u001b[0;34m.\u001b[0m\u001b[0mformat\u001b[0m\u001b[0;34m(\u001b[0m\u001b[0mlen\u001b[0m\u001b[0;34m(\u001b[0m\u001b[0mcharacters_marvel\u001b[0m\u001b[0;34m)\u001b[0m\u001b[0;34m)\u001b[0m\u001b[0;34m)\u001b[0m\u001b[0;34m\u001b[0m\u001b[0;34m\u001b[0m\u001b[0m\n",
      "\u001b[0;32m<ipython-input-9-a4902e715a1d>\u001b[0m in \u001b[0;36mget_names\u001b[0;34m(dir_)\u001b[0m\n\u001b[1;32m      6\u001b[0m \u001b[0;32mdef\u001b[0m \u001b[0mget_names\u001b[0m\u001b[0;34m(\u001b[0m\u001b[0mdir_\u001b[0m\u001b[0;34m)\u001b[0m\u001b[0;34m:\u001b[0m\u001b[0;34m\u001b[0m\u001b[0;34m\u001b[0m\u001b[0m\n\u001b[1;32m      7\u001b[0m     \u001b[0mchas\u001b[0m \u001b[0;34m=\u001b[0m \u001b[0;34m[\u001b[0m\u001b[0;34m]\u001b[0m\u001b[0;34m\u001b[0m\u001b[0;34m\u001b[0m\u001b[0m\n\u001b[0;32m----> 8\u001b[0;31m     \u001b[0mfile_list\u001b[0m \u001b[0;34m=\u001b[0m \u001b[0mos\u001b[0m\u001b[0;34m.\u001b[0m\u001b[0mlistdir\u001b[0m\u001b[0;34m(\u001b[0m\u001b[0mdir_\u001b[0m\u001b[0;34m)\u001b[0m\u001b[0;34m\u001b[0m\u001b[0;34m\u001b[0m\u001b[0m\n\u001b[0m\u001b[1;32m      9\u001b[0m     \u001b[0;32mfor\u001b[0m \u001b[0mf\u001b[0m \u001b[0;32min\u001b[0m \u001b[0mfile_list\u001b[0m\u001b[0;34m:\u001b[0m\u001b[0;34m\u001b[0m\u001b[0;34m\u001b[0m\u001b[0m\n\u001b[1;32m     10\u001b[0m         \u001b[0mname\u001b[0m \u001b[0;34m=\u001b[0m \u001b[0mf\u001b[0m\u001b[0;34m.\u001b[0m\u001b[0msplit\u001b[0m\u001b[0;34m(\u001b[0m\u001b[0;34m'.json'\u001b[0m\u001b[0;34m)\u001b[0m\u001b[0;34m[\u001b[0m\u001b[0;36m0\u001b[0m\u001b[0;34m]\u001b[0m\u001b[0;34m\u001b[0m\u001b[0;34m\u001b[0m\u001b[0m\n",
      "\u001b[0;31mNotADirectoryError\u001b[0m: [Errno 20] Not a directory: '/Users/zhengqing/desktop/marvel_characters.csv'"
     ]
    }
   ],
   "source": [
    "import os\n",
    "# get the characters with the json file, as if the cha do not have a json file, it means that this character do not have a link \n",
    "# so it will be discard anyway\n",
    "\n",
    "data_folder = '/Users/zhengqing/desktop/marvel_characters.csv'\n",
    "def get_names(dir_):\n",
    "    chas = []\n",
    "    file_list = os.listdir(dir_)\n",
    "    for f in file_list:\n",
    "        name = f.split('.json')[0]\n",
    "        name = node_name(name)\n",
    "        chas.append(name)\n",
    "    return chas\n",
    "\n",
    "characters_marvel = get_names(data_folder)\n",
    "\n",
    "print('Marvel character number:{} (which has wiki link)'.format(len(characters_marvel)))"
   ]
  },
  {
   "cell_type": "code",
   "execution_count": 20,
   "metadata": {},
   "outputs": [
    {
     "name": "stdout",
     "output_type": "stream",
     "text": [
      "DC character number:1039 (which has wiki link)\n"
     ]
    }
   ],
   "source": [
    "# deal with dc character\n",
    "data_folder = './data/dc'\n",
    "characters_dc = get_names(data_folder)\n",
    "\n",
    "print('DC character number:{} (which has wiki link)'.format(len(characters_dc)))"
   ]
  },
  {
   "cell_type": "markdown",
   "metadata": {},
   "source": [
    "> - Use a regular expression to extract all outgoing links from each of the pages you downloaded above.  \n",
    "> - For each link you extract, check if the target is a character. If yes, keep it. If no, discard it."
   ]
  },
  {
   "cell_type": "code",
   "execution_count": 1,
   "metadata": {},
   "outputs": [
    {
     "ename": "NameError",
     "evalue": "name 'characters_marvel' is not defined",
     "output_type": "error",
     "traceback": [
      "\u001b[0;31m---------------------------------------------------------------------------\u001b[0m",
      "\u001b[0;31mNameError\u001b[0m                                 Traceback (most recent call last)",
      "\u001b[0;32m<ipython-input-1-50b5f3b150cd>\u001b[0m in \u001b[0;36m<module>\u001b[0;34m\u001b[0m\n\u001b[1;32m     17\u001b[0m \u001b[0;31m# bulid the nodes\u001b[0m\u001b[0;34m\u001b[0m\u001b[0;34m\u001b[0m\u001b[0;34m\u001b[0m\u001b[0m\n\u001b[1;32m     18\u001b[0m \u001b[0mcomics_cha\u001b[0m \u001b[0;34m=\u001b[0m \u001b[0;34m{\u001b[0m\u001b[0;34m}\u001b[0m\u001b[0;34m\u001b[0m\u001b[0;34m\u001b[0m\u001b[0m\n\u001b[0;32m---> 19\u001b[0;31m \u001b[0;32mfor\u001b[0m \u001b[0mcha_name\u001b[0m \u001b[0;32min\u001b[0m \u001b[0mcharacters_marvel\u001b[0m\u001b[0;34m:\u001b[0m\u001b[0;34m\u001b[0m\u001b[0;34m\u001b[0m\u001b[0m\n\u001b[0m\u001b[1;32m     20\u001b[0m     \u001b[0mcomics_cha\u001b[0m\u001b[0;34m[\u001b[0m\u001b[0mcha_name\u001b[0m\u001b[0;34m]\u001b[0m \u001b[0;34m=\u001b[0m \u001b[0;34m{\u001b[0m\u001b[0;34m}\u001b[0m\u001b[0;34m\u001b[0m\u001b[0;34m\u001b[0m\u001b[0m\n\u001b[1;32m     21\u001b[0m     \u001b[0mcomics_cha\u001b[0m\u001b[0;34m[\u001b[0m\u001b[0mcha_name\u001b[0m\u001b[0;34m]\u001b[0m\u001b[0;34m[\u001b[0m\u001b[0;34m'type'\u001b[0m\u001b[0;34m]\u001b[0m \u001b[0;34m=\u001b[0m \u001b[0;34m'Marvel'\u001b[0m\u001b[0;34m\u001b[0m\u001b[0;34m\u001b[0m\u001b[0m\n",
      "\u001b[0;31mNameError\u001b[0m: name 'characters_marvel' is not defined"
     ]
    }
   ],
   "source": [
    "# use a json file to record the edges bewteen links\n",
    "import json\n",
    "import re\n",
    "\n",
    "# get the wiki keywords from a certain text\n",
    "def get_wiki_kwords(text):\n",
    "    wikiitems = re.findall(r'\\[\\[[\\(\\)\\w\\s\\-\\|]*\\]\\]', text) \n",
    "    wikikwords = []\n",
    "    for item in wikiitems:\n",
    "        keywords = item[2:-2].split('|')[0].replace(' ','_')\n",
    "        # remove the '[[',']]' and choose the first keyword if there's a '|', then replace the space with underline\n",
    "        \n",
    "        wikikwords.append(keywords)\n",
    "    return wikikwords\n",
    "\n",
    "\n",
    "# bulid the nodes\n",
    "comics_cha = {}\n",
    "for cha_name in characters_marvel:\n",
    "    comics_cha[cha_name] = {}\n",
    "    comics_cha[cha_name]['type'] = 'Marvel'\n",
    "    comics_cha[cha_name]['edges'] = []\n",
    "    \n",
    "for dc_name in characters_dc:\n",
    "    comics_cha[dc_name] = {}\n",
    "    comics_cha[dc_name]['type'] = 'DC'\n",
    "    comics_cha[dc_name]['edges'] = []\n",
    "    \n",
    "\n",
    "cha_all = characters_marvel+characters_dc\n",
    "# for each node, search for the possible links\n",
    "for cha_name in cha_all:\n",
    "    # get the json file which contains the data of corresponding page\n",
    "    if cha_name in characters_marvel:\n",
    "        file_path = './data/marvel/'+file_saving_reading_name(cha_name)+'.json'\n",
    "    else:\n",
    "        file_path = './data/dc/'+file_saving_reading_name(cha_name)+'.json'\n",
    "    \n",
    "    with open(file_path) as f:\n",
    "        infor = json.load(f)\n",
    "    \n",
    "    # extract all the links using regular expression\n",
    "    kwords = get_wiki_kwords(infor)\n",
    "    \n",
    "    # to check whether the link is in character_name \n",
    "    cha_links = []\n",
    "    for k in kwords:\n",
    "        if k in comics_cha.keys(): cha_links.append(k)\n",
    "    \n",
    "    # avoid repeating\n",
    "    cha_links = set(cha_links)\n",
    "    \n",
    "    # add the links to dict\n",
    "    comics_cha[cha_name]['edges'].extend(cha_links)\n",
    "\n",
    "# store the dataas json\n",
    "file_path = './data/comics_cha.json'\n",
    "with open(file_path, 'w') as f:\n",
    "        json.dump(comics_cha, f)"
   ]
  },
  {
   "cell_type": "markdown",
   "metadata": {},
   "source": [
    "> - Use a NetworkX DiGraph to store the network. Store also the properties of the nodes (i.e. from which universe they hail)."
   ]
  },
  {
   "cell_type": "code",
   "execution_count": 22,
   "metadata": {},
   "outputs": [
    {
     "name": "stdout",
     "output_type": "stream",
     "text": [
      "number of nodes in network:2277\n",
      "number of links in network:33461\n"
     ]
    }
   ],
   "source": [
    "import networkx as nx\n",
    "\n",
    "G = nx.DiGraph()\n",
    "\n",
    "\n",
    "# get the attribute from comics_cha\n",
    "attr_dict = {}\n",
    "for each in comics_cha:\n",
    "    attr_dict[each] = comics_cha[each]['type']\n",
    "\n",
    "# add nodes    \n",
    "G.add_nodes_from(comics_cha.keys())\n",
    "# add attribute of type\n",
    "nx.set_node_attributes(G, attr_dict,'type')\n",
    "\n",
    "\n",
    "# add links\n",
    "for each in comics_cha:\n",
    "    for link in comics_cha[each]['edges']:\n",
    "        G.add_edge(each,link)\n",
    "\n",
    "print('number of nodes in network:{}'.format(len(G.nodes())))\n",
    "print('number of links in network:{}'.format(len(G.edges())))"
   ]
  },
  {
   "cell_type": "markdown",
   "metadata": {},
   "source": [
    "> Exercise: Simple network statistics and analysis\n",
    "> \n",
    "> - What is the number of nodes in the network?\n",
    "> - More importantly, what is the number of links?\n",
    "> - What is the number of links connecting Marvel and DC? What do those links mean?\n",
    "> - Plot the in and out-degree distributions. What do you observe? Can you explain why the in-degree distribution is different from the out-degree distribution?\n",
    "    >>   - Compare the degree distribution to a random network with the same number of nodes and p\n",
    "    >>   - Compare the degree distribution to a scale-free network with the same number of nodes.\n",
    "> - Who are top 5 most connected characters? (Report results for in-degrees and out-degrees). Comment on your findings. Is this what you would have expected.\n",
    "> - Who are the top 5 most connected Marvel characters (again in terms of both in/out-degree)?\n",
    "> - Who are the top 5 most connected DC characters (again in terms of both in/out-degree)?"
   ]
  },
  {
   "cell_type": "markdown",
   "metadata": {},
   "source": [
    "> - What is the number of nodes in the network?\n",
    "> - More importantly, what is the number of links?"
   ]
  },
  {
   "cell_type": "code",
   "execution_count": 23,
   "metadata": {},
   "outputs": [
    {
     "name": "stdout",
     "output_type": "stream",
     "text": [
      "number of nodes in network:2277\n",
      "number of links in network:33461\n"
     ]
    }
   ],
   "source": [
    "print('number of nodes in network:{}'.format(len(G.nodes())))\n",
    "print('number of links in network:{}'.format(len(G.edges())))"
   ]
  },
  {
   "cell_type": "markdown",
   "metadata": {},
   "source": [
    "> What is the number of links connecting Marvel and DC? What do those links mean?"
   ]
  },
  {
   "cell_type": "code",
   "execution_count": 24,
   "metadata": {},
   "outputs": [],
   "source": [
    "links_connecting = []\n",
    "for e in G.edges():\n",
    "    if nx.get_node_attributes(G, 'type')[e[0]] != nx.get_node_attributes(G, 'type')[e[1]]:\n",
    "        links_connecting.append(e)"
   ]
  },
  {
   "cell_type": "code",
   "execution_count": 25,
   "metadata": {},
   "outputs": [
    {
     "name": "stdout",
     "output_type": "stream",
     "text": [
      "There are 781 links connect Marvel and DC. These links mean that there are at least 781 directed relationship bewteen the Marvel and DC characters.\n"
     ]
    }
   ],
   "source": [
    "num_of_connected_links = len(links_connecting)\n",
    "print('There are {} links connect Marvel and DC. These links mean that there are at least {} directed relationship \\\n",
    "bewteen the Marvel and DC characters.'.format(num_of_connected_links,num_of_connected_links))"
   ]
  },
  {
   "cell_type": "markdown",
   "metadata": {},
   "source": [
    "> - Plot the in and out-degree distributions. What do you observe? Can you explain why the in-degree distribution is different from the out-degree distribution?\n",
    "    >>   - Compare the degree distribution to a random network with the same number of nodes and p\n",
    "    >>   - Compare the degree distribution to a scale-free network with the same number of nodes."
   ]
  },
  {
   "cell_type": "code",
   "execution_count": 26,
   "metadata": {},
   "outputs": [
    {
     "name": "stdout",
     "output_type": "stream",
     "text": [
      "In degree\tmax:431\tmin:0\n",
      "Out degree\tmax:126\tmin:0\n",
      "Nodes with in-degree larger than 100: 51\n"
     ]
    },
    {
     "data": {
      "image/png": "[encoded data removed]",
      "text/plain": [
       "<Figure size 432x288 with 1 Axes>"
      ]
     },
     "metadata": {
      "needs_background": "light"
     },
     "output_type": "display_data"
    },
    {
     "data": {
      "image/png": "[encoded data removed]",
      "text/plain": [
       "<Figure size 432x288 with 1 Axes>"
      ]
     },
     "metadata": {
      "needs_background": "light"
     },
     "output_type": "display_data"
    }
   ],
   "source": [
    "import collections\n",
    "import matplotlib.pyplot as plt\n",
    "in_degrees = [d for n,d in G.in_degree()]\n",
    "out_degrees = [d for n,d in G.out_degree()]\n",
    "\n",
    "\n",
    "def plot_degree_distribution(degrees,title):\n",
    "    degreeCount = collections.Counter(degrees)\n",
    "    degree, count = zip(*degreeCount.items())\n",
    "\n",
    "    # plot\n",
    "    width = 1.0\n",
    "    plt.bar(degree, count, align='center', width=width,edgecolor ='black',color = 'lightblue')\n",
    "    plt.title(title,pad = 20.0)\n",
    "    plt.ylabel(\"Count\")\n",
    "    plt.xlabel(\"Degree\")\n",
    "    plt.show()\n",
    "    \n",
    "print('In degree\\tmax:{}\\tmin:{}'.format(max(in_degrees),min(in_degrees)))\n",
    "print('Out degree\\tmax:{}\\tmin:{}'.format(max(out_degrees),min(out_degrees)))\n",
    "print('Nodes with in-degree larger than 100: {}'.format(len([i for i in in_degrees if i >100])))\n",
    "plot_degree_distribution(in_degrees,'In-degree Distribution for Marvel and DC Characters')\n",
    "plot_degree_distribution(out_degrees,'Out-degree Distribution for Marvel and DC Characters')"
   ]
  },
  {
   "cell_type": "markdown",
   "metadata": {},
   "source": [
    "**Answer:  \n",
    "There is a hub in in-degree(which is 411), and the small in-degrees are in huge amount compared with out-degree. According to the meaning of this network, each link represnts there is a link from page A to page B. Therefore, for unimportant characters, it will be less possible for them to be mentioned in other characters' page, which might cause the large amout of 0 and 1 in in-degrees. On the other hand, for very important characters who has lots of relationship with others, will have a larger probability of being a hub in in-degree.**"
   ]
  },
  {
   "cell_type": "markdown",
   "metadata": {},
   "source": [
    ">> - Compare the degree distribution to a random network with the same number of nodes and p"
   ]
  },
  {
   "cell_type": "code",
   "execution_count": 27,
   "metadata": {},
   "outputs": [
    {
     "name": "stdout",
     "output_type": "stream",
     "text": [
      "N:2277\tp:0.006456596221248166\n"
     ]
    }
   ],
   "source": [
    "# calculate the number of nodes and p\n",
    "N = len(G.nodes)\n",
    "p = len(G.edges)/((N-1)*N)\n",
    "\n",
    "print('N:{}\\tp:{}'.format(N,p))"
   ]
  },
  {
   "cell_type": "code",
   "execution_count": 28,
   "metadata": {},
   "outputs": [
    {
     "name": "stdout",
     "output_type": "stream",
     "text": [
      "In degree\tmax:30\tmin:3\n",
      "Out degree\tmax:30\tmin:3\n",
      "Nodes with in-degree larger than 100: 0\n"
     ]
    },
    {
     "data": {
      "image/png": "[encoded data removed]",
      "text/plain": [
       "<Figure size 432x288 with 1 Axes>"
      ]
     },
     "metadata": {
      "needs_background": "light"
     },
     "output_type": "display_data"
    },
    {
     "data": {
      "image/png": "[encoded data removed]",
      "text/plain": [
       "<Figure size 432x288 with 1 Axes>"
      ]
     },
     "metadata": {
      "needs_background": "light"
     },
     "output_type": "display_data"
    }
   ],
   "source": [
    "G_ER = nx.erdos_renyi_graph(N,p,seed=2020,directed = True)\n",
    "\n",
    "in_degrees = [d for n,d in G_ER.in_degree()]\n",
    "out_degrees = [d for n,d in G_ER.out_degree()]\n",
    "print('In degree\\tmax:{}\\tmin:{}'.format(max(in_degrees),min(in_degrees)))\n",
    "print('Out degree\\tmax:{}\\tmin:{}'.format(max(out_degrees),min(out_degrees)))\n",
    "print('Nodes with in-degree larger than 100: {}'.format(len([i for i in in_degrees if i >100])))\n",
    "plot_degree_distribution(in_degrees,'In-degree Distribution for Random Network with Node {} and p = {:.4f}'.format(N,p))\n",
    "plot_degree_distribution(out_degrees,'Out-degree Distribution for Random Network with Node {} and p = {:.4f}'.format(N,p))"
   ]
  },
  {
   "cell_type": "markdown",
   "metadata": {},
   "source": [
    "**Answer:  \n",
    "It could be observed from the degree distribution that for random network, the degrees are in small range, and there is no hub in the network. Also, the degree with the largest probability in random network is around 13 while in real network, that number would be 0, means that in real world there are huge amount of nodes do not have (or have rare number of ) links. In addition to that, the in-degree distribution and the out-degree looks quite similar to each other in random nework, which is also different from real network.**"
   ]
  },
  {
   "cell_type": "markdown",
   "metadata": {},
   "source": [
    ">>   - Compare the degree distribution to a scale-free network with the same number of nodes."
   ]
  },
  {
   "cell_type": "code",
   "execution_count": 29,
   "metadata": {},
   "outputs": [
    {
     "name": "stdout",
     "output_type": "stream",
     "text": [
      "In degree\tmax:1267\tmin:0\n",
      "Out degree\tmax:183\tmin:0\n",
      "Nodes with in-degree larger than 100: 6\n"
     ]
    },
    {
     "data": {
      "image/png": "[encoded data removed]",
      "text/plain": [
       "<Figure size 432x288 with 1 Axes>"
      ]
     },
     "metadata": {
      "needs_background": "light"
     },
     "output_type": "display_data"
    },
    {
     "data": {
      "image/png": "[encoded data removed]",
      "text/plain": [
       "<Figure size 432x288 with 1 Axes>"
      ]
     },
     "metadata": {
      "needs_background": "light"
     },
     "output_type": "display_data"
    }
   ],
   "source": [
    "G_SF=nx.scale_free_graph(N)\n",
    "\n",
    "in_degrees = [d for n,d in G_SF.in_degree()]\n",
    "out_degrees = [d for n,d in G_SF.out_degree()]\n",
    "print('In degree\\tmax:{}\\tmin:{}'.format(max(in_degrees),min(in_degrees)))\n",
    "print('Out degree\\tmax:{}\\tmin:{}'.format(max(out_degrees),min(out_degrees)))\n",
    "print('Nodes with in-degree larger than 100: {}'.format(len([i for i in in_degrees if i >100])))\n",
    "plot_degree_distribution(in_degrees,'In-degree Distribution for Scale Free Network with Node {}'.format(N))\n",
    "plot_degree_distribution(out_degrees,'Out-degree Distribution for Scale Free Network with Node {}'.format(N,p))"
   ]
  },
  {
   "cell_type": "markdown",
   "metadata": {},
   "source": [
    "**Answer:  \n",
    "We could see that there is a hugh hub with more than 1000 degree in in-degree of scale free network, which is way more larger than something around 400 compared with real network of comics characters. However, the number of hubs with more than 100 in-degrees are quite low compared with real network. This fact indicates that in comics network, the amount of main character is not that small (there are 39 hubs with more than 100 in-degrees), the stories are told not only around just 4-5 characters, but in scale free network, the number of hubs will be less while one of which contains an overwhelmly number of in-degrees.**"
   ]
  },
  {
   "cell_type": "markdown",
   "metadata": {},
   "source": [
    "> - Who are top 5 most connected characters? (Report results for in-degrees and out-degrees). Comment on your findings. Is this what you would have expected."
   ]
  },
  {
   "cell_type": "code",
   "execution_count": 30,
   "metadata": {},
   "outputs": [
    {
     "name": "stdout",
     "output_type": "stream",
     "text": [
      "[('Spider-Man', 431), ('Superman', 405), ('Batman', 383), ('Captain_America', 382), ('Justice_League', 318)]\n"
     ]
    }
   ],
   "source": [
    "in_degrees = [(n,d) for n,d in G.in_degree()]\n",
    "in_degrees.sort(key=lambda x: x[1],reverse= True)\n",
    "print(in_degrees[0:5])"
   ]
  },
  {
   "cell_type": "code",
   "execution_count": 31,
   "metadata": {},
   "outputs": [
    {
     "name": "stdout",
     "output_type": "stream",
     "text": [
      "[('Hood_(comics)', 126), ('Venom_(Marvel_Comics_character)', 100), ('New_Warriors', 92), ('Justice_League', 89), ('Psylocke', 84)]\n"
     ]
    }
   ],
   "source": [
    "out_degrees = [(n,d) for n,d in G.out_degree()]\n",
    "out_degrees.sort(key=lambda x: x[1],reverse= True)\n",
    "print(out_degrees[0:5])"
   ]
  },
  {
   "cell_type": "markdown",
   "metadata": {},
   "source": [
    "**Answer:  \n",
    "Is there anybody be able to answer this. Not a big fun of marvel or dc.**"
   ]
  },
  {
   "cell_type": "markdown",
   "metadata": {},
   "source": [
    "> - Who are the top 5 most connected Marvel characters (again in terms of both in/out-degree)?\n",
    "> - Who are the top 5 most connected DC characters (again in terms of both in/out-degree)?"
   ]
  },
  {
   "cell_type": "code",
   "execution_count": 32,
   "metadata": {},
   "outputs": [
    {
     "name": "stdout",
     "output_type": "stream",
     "text": [
      "MARVEL:('Spider-Man', 431)\n",
      "DC:('Superman', 405)\n",
      "DC:('Batman', 383)\n",
      "MARVEL:('Captain_America', 382)\n",
      "DC:('Justice_League', 318)\n",
      "MARVEL:('Iron_Man', 317)\n",
      "MARVEL:('Hulk', 288)\n",
      "MARVEL:('Wolverine_(character)', 276)\n",
      "DC:('Wonder_Woman', 241)\n",
      "DC:('Lex_Luthor', 208)\n"
     ]
    }
   ],
   "source": [
    "marvel_cnt = 0\n",
    "dc_cnt = 0\n",
    "for in_d in in_degrees:\n",
    "    if in_d[0] in characters_marvel and marvel_cnt<5:\n",
    "        print('MARVEL:'+str(in_d))\n",
    "        marvel_cnt+=1\n",
    "    if in_d[0] in characters_dc and dc_cnt<5:\n",
    "        print('DC:'+str(in_d))\n",
    "        dc_cnt+=1\n",
    "    if dc_cnt>=5 and marvel_cnt>=5:\n",
    "        break"
   ]
  },
  {
   "cell_type": "code",
   "execution_count": 33,
   "metadata": {},
   "outputs": [
    {
     "name": "stdout",
     "output_type": "stream",
     "text": [
      "MARVEL:('Hood_(comics)', 126)\n",
      "MARVEL:('Venom_(Marvel_Comics_character)', 100)\n",
      "MARVEL:('New_Warriors', 92)\n",
      "DC:('Justice_League', 89)\n",
      "MARVEL:('Psylocke', 84)\n",
      "DC:('Deathstroke', 83)\n",
      "MARVEL:('Captain_America', 81)\n",
      "DC:('The_Brave_and_the_Bold', 78)\n",
      "DC:('Crime_Syndicate_of_America', 72)\n",
      "DC:('Project_Cadmus', 71)\n"
     ]
    }
   ],
   "source": [
    "marvel_cnt = 0\n",
    "dc_cnt = 0\n",
    "for out_d in out_degrees:\n",
    "    if out_d[0] in characters_marvel and marvel_cnt<5:\n",
    "        print('MARVEL:'+str(out_d))\n",
    "        marvel_cnt+=1\n",
    "    if out_d[0] in characters_dc and dc_cnt<5:\n",
    "        print('DC:'+str(out_d))\n",
    "        dc_cnt+=1\n",
    "    if dc_cnt>=5 and marvel_cnt>=5:\n",
    "        break"
   ]
  },
  {
   "cell_type": "code",
   "execution_count": null,
   "metadata": {},
   "outputs": [],
   "source": []
  }
 ],
 "metadata": {
  "kernelspec": {
   "display_name": "Python 3",
   "language": "python",
   "name": "python3"
  },
  "language_info": {
   "codemirror_mode": {
    "name": "ipython",
    "version": 3
   },
   "file_extension": ".py",
   "mimetype": "text/x-python",
   "name": "python",
   "nbconvert_exporter": "python",
   "pygments_lexer": "ipython3",
   "version": "3.8.3"
  }
 },
 "nbformat": 4,
 "nbformat_minor": 4
}
