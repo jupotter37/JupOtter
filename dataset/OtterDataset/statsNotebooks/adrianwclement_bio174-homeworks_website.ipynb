{
 "cells": [
  {
   "cell_type": "markdown",
   "metadata": {},
   "source": [
    "### MATH058: Introduction to Statistics Final Paper\n",
    "\n",
    "# Analyzing the Existence of Home Advantage for Runners in the Cherry Blossom Race\n",
    "### By Adrian Clement"
   ]
  },
  {
   "cell_type": "markdown",
   "metadata": {},
   "source": [
    "## 0. Request for Funds\n",
    "\n",
    "We determined the smallest meaningful difference for the following investigation of home advantage for runners in Washington D.C.’s Cherry Blossom Race to be 30 seconds. Given a standard deviation of 160 seconds, to allow for the extraction of significant results with an alpha of 0.05 and a power of 0.8, a sample size of at least 894 individuals is needed, which will require additional funding."
   ]
  },
  {
   "cell_type": "markdown",
   "metadata": {},
   "source": [
    "## I. Introduction\n",
    "\n",
    "Home advantage in sports is a phenomenon where individuals or teams playing in a home venue will perform better compared to playing away. Several factors can contribute to this advantage, such as familiarity with the venue or environment, crowd support, or travel fatigue. Understanding these factors can help athletes prepare better for away competitions and guide sports organizations in mitigating excessive home advantage to ensure fairer competition."
   ]
  },
  {
   "cell_type": "markdown",
   "metadata": {},
   "source": [
    "However, it is essential to note that home advantage can manifest differently in different sports. In this report, we are interested in investigating whether home advantage exists for the Cherry Blossom Race—a ten-mile race every April in Washington, D.C. For this competition, we consider local or “home” competitors to be runners from D.C., Maryland, and Virginia, while non-local or “away” runners originate from other locations. Since there are many runners in this race, not all can start at the starting line, so the time it takes a runner to reach the starting line after a race begins will vary. Runners who are local and familiar with the area and race course may be able to get to the race earlier, resulting in them starting in front and taking less time to reach the starting line.\n"
   ]
  },
  {
   "cell_type": "markdown",
   "metadata": {},
   "source": [
    "This report will investigate the relationship between local and non-local runners and the time it takes to reach the starting line (also known as the “lag” time). Specifically, we anticipate that the average time it takes local and non-local runners to reach the starting line will not be the same."
   ]
  },
  {
   "cell_type": "markdown",
   "metadata": {},
   "source": [
    "This paper will contain four sections. Section 2 will discuss the data used in the report, specifically the methods used to collect different athletes’ raw race time data and how we calculated each person’s time to reach the starting line. Section 3 will analyze the data using a two-sample t-test and a randomization test to justify whether locals have a home advantage in the Cherry Blossom Race. Finally, section 4 will conclude this report’s findings and discuss any improvements and further directions that can be taken using this information."
   ]
  },
  {
   "cell_type": "markdown",
   "metadata": {},
   "source": [
    "## II. Methods\n",
    "\n",
    "For this report, we sampled data from a Mosaic data set called TenMileRace. As described previously, individuals originally from D.C., Maryland, or Virginia are considered local, while individuals from different areas are non-local. We then sampled thirty runners from the data set, which consisted of twenty local (n1 = 20) and ten non-local runners (n2 = 10). After this, we determined the time each athlete took to reach the starting line (lag time) by subtracting their official race time (the time it took to complete the race after crossing the starting line) from their total race time (the total time it took to complete the race after it began). These times can be visualized below:\n"
   ]
  },
  {
   "cell_type": "markdown",
   "metadata": {},
   "source": [
    "___\n",
    "\n",
    "![figure1](./resources/figure1.png)"
   ]
  },
  {
   "cell_type": "markdown",
   "metadata": {},
   "source": [
    "Figure 1. Stacked histograms of the time local & non-local lag times for runners (sample size = 30)"
   ]
  },
  {
   "cell_type": "markdown",
   "metadata": {},
   "source": [
    "As seen in the figure above, we can observe that the differences in lag time between the local and non-local competitors differ slightly. Additionally, the histograms of the time local and non-local runners took to reach the starting line are not normal and are somewhat right-skewed. Because of this and our small sample size of thirty, we are not confident that the central limit theorem is in effect. As a result, we will analyze the significance of the differences observed in lag time between local and non-local runners through a randomization test, which we will discuss further in section 3 of this report."
   ]
  },
  {
   "cell_type": "markdown",
   "metadata": {},
   "source": [
    "## III. Data Analysis\n",
    "\n",
    "As described in Section 1, we anticipate that the average time for local and non-local runners to reach the starting line will differ. The respective null and alternative hypotheses for this investigation are provided below, where μ1 is the average time it takes a local runner to reach the starting line, while μ2 is the average time it takes a non-local runner to reach the starting line:\n"
   ]
  },
  {
   "cell_type": "markdown",
   "metadata": {},
   "source": [
    "| Hypothesis   |      Testing      |\n",
    "|----------|:-------------:|\n",
    "| Null Hypothesis |  H<sub>o</sub>: μ1 = μ2 |\n",
    "| Alternative Hypothesis |   H<sub>A</sub>: μ1 ≠ μ2   |"
   ]
  },
  {
   "cell_type": "markdown",
   "metadata": {},
   "source": [
    "We set alpha to the widely accepted value of 0.05 for these hypotheses to minimize the probability of a type I error (rejecting the null hypothesis (Ho) when it is true). As a result, if our p-value is less than 0.05, we will reject the null hypothesis.\n",
    "\tFirst, we conducted a two-sample, two-tailed t-test on our data set of size thirty. We chose a two-tailed test as we are unsure whether the lag time for local runners will be greater or less than the lag time of non-local runners.\n"
   ]
  },
  {
   "cell_type": "markdown",
   "metadata": {},
   "source": [
    "After computing this preliminary two-sample t-test, we calculate the average lag time for local and non-local runners to be 229.45 and 159.70 seconds, respectively. Calculating the difference in lag time between local and non-local runners, we get -69.75 seconds, meaning non-local runners were, on average, 69.75 seconds faster to reach the starting line than their local counterparts. In addition, the average difference in lag time has 95% confidence intervals of -218.34 to 78.84 seconds. Finally, we computed a p-value of 0.34 and a t-score of -0.97 for this data."
   ]
  },
  {
   "cell_type": "markdown",
   "metadata": {},
   "source": [
    "However, it is crucial to note the small sample size of thirty for our data set. Observing the histograms of local and non-local lag times seen in Figure 1, we are not confident that the central limit theorem is in effect. Because of this, we implemented a randomization test to test the statistical significance of our existing data against the null hypothesis further. We do this by shuffling the lag times of local and non-local runners 1000 times, calculating the t-score of each iteration under the null hypothesis, and plotting them in a histogram. Afterward, we compare our observed t-score with the randomly generated t-scores, thus assessing the probability of observing our existing lag times under the null hypothesis. A visualization of this data can be seen below:\n"
   ]
  },
  {
   "cell_type": "markdown",
   "metadata": {},
   "source": [
    "___\n",
    "\n",
    "![figure2](./resources/figure2.png)"
   ]
  },
  {
   "cell_type": "markdown",
   "metadata": {},
   "source": [
    "Figure 2. Distribution of t-scores from randomization test"
   ]
  },
  {
   "cell_type": "markdown",
   "metadata": {},
   "source": [
    "This histogram is normal and represents the distribution of 1000 t-scores generated from randomization under the null hypothesis. Comparing our observed t-score of -0.97 with the distribution above, we calculate a p-value of 0.39 for our t-score, meaning that approximately 39% of all t-scores from the randomization test were weirder than the statistic we observed from our existing data.\n"
   ]
  },
  {
   "cell_type": "markdown",
   "metadata": {},
   "source": [
    "Our initial two-sample t-test yielded a p-value of 0.34. Suspecting that the central limit theorem may not be in effect due to our data’s small sample size of thirty, we conducted a randomization test to verify this p-value. This test produced a p-value of 0.39, similar to the p-value calculated in the preliminary two-sample t-test. Given that this p-value is significantly larger than 0.05, we fail to reject the null hypothesis.\n"
   ]
  },
  {
   "cell_type": "markdown",
   "metadata": {},
   "source": [
    "## IV. Conclusion\n",
    "\n",
    "As seen with the two-sample t-test and randomization test computed in section 3, we found a high probability of observing our data under the null hypothesis. This means that we cannot reject the null hypothesis and conclude that the locality of a runner in the Cherry Blossom Race does not affect the time it will take to reach the starting line. In other words, an advantage based on a competitor’s locality does not exist for runners in this race.\n"
   ]
  },
  {
   "cell_type": "markdown",
   "metadata": {},
   "source": [
    "However, it is essential to note the small sample size analyzed in this investigation. While we did not reject the null hypothesis in this investigation, it is still valuable to observe that due to a sample size of thirty, we observed a wide confidence interval for the average difference in lag times for local and non-local runners, ranging from -218.34 to 78.84 seconds. This indicates great uncertainty for this statistic, meaning there is a high probability of not rejecting the null hypothesis when the alternative hypothesis is true."
   ]
  },
  {
   "cell_type": "markdown",
   "metadata": {},
   "source": [
    "As a result, we can improve this experiment by using a larger sample size, allowing us to achieve a higher power or probability of rejecting the null hypothesis when it is false. Additionally, a one-tailed, two-sample t-test could be used to enhance our statistical power. However, the uncertainty regarding the impact of locality and the presence of a home advantage in the Cherry Blossom Race necessitated a broader two-tailed, two-sample t-test.\n"
   ]
  },
  {
   "cell_type": "markdown",
   "metadata": {},
   "source": [
    "## V. Using a Larger Data Set\n",
    "\n",
    "After completing the investigation above, we acquired a larger set of 8636 observations. Using this new data set, we wish to reexamine whether home advantage exists for local runners in the Cherry Blossom Race. Using the same method described in section 2, we computed the lag time for local and non-local runners and plotted both distributions accordingly, which can be seen below:\n"
   ]
  },
  {
   "cell_type": "markdown",
   "metadata": {},
   "source": [
    "___\n",
    "\n",
    "![figure3](./resources/figure3.png)"
   ]
  },
  {
   "cell_type": "markdown",
   "metadata": {},
   "source": [
    "Figure 3. Stacked histograms of the time local & non-local lag times for runners (sample size = 8636)"
   ]
  },
  {
   "cell_type": "markdown",
   "metadata": {},
   "source": [
    "Here, we can observe that significantly more non-local runners had a lag time between 0 and 50 seconds compared to their local counterparts. This means that many more non-local runners could reach the starting line within a shorter period.\n"
   ]
  },
  {
   "cell_type": "markdown",
   "metadata": {},
   "source": [
    "After again computing a two-tailed, two-sample t-test, we calculate the new average lag time for local and non-local runners to be 217.21 and 193.51 seconds, respectively. Calculating the difference in lag time between local and non-local runners, we get -23.70 seconds. On average, non-local runners were 23.70 seconds faster to reach the starting line than their local counterparts. We also computed a p-value of 0.000003 and a t-score of -4.68 for this more extensive data set.\n"
   ]
  },
  {
   "cell_type": "markdown",
   "metadata": {},
   "source": [
    "Since this p-value of 0.000003 is much smaller than 0.05, we can confidently reject the null hypothesis. We are also certain that the central limit theorem is in effect due to the sample size of 8636 observations. Additionally, we can observe the 95% confidence intervals the t-test provides because we can reject the null hypothesis. The intervals for the average lag time differences were much narrower than in the previous investigation, ranging from -33.63 seconds to -13.77 seconds.\n"
   ]
  },
  {
   "cell_type": "markdown",
   "metadata": {},
   "source": [
    "Because the 95% confidence intervals for the average difference in local and non-local lag times are negative, we can conclude that non-local runners can reach the starting line quicker than local runners. This could be due to how non-local competitors tend to be more serious runners if they have to travel to compete. Being a local could incentivize runners of all abilities to participate in the race due to their proximity. It is also important to note that because the interval does not include zero, we are confident that the average lag times for local and non-local runners differ, providing more evidence to reject the null hypothesis.\n"
   ]
  },
  {
   "cell_type": "markdown",
   "metadata": {},
   "source": [
    "These results undermine entirely the conclusions made in the previous instance of this investigation. Due to the larger sample size of 8636 observations, we can reject the null hypothesis and conclude that a runner’s locality affects how quickly they will reach the starting line of the Cherry Blossom race. More specifically, non-local runners will have shorter lag times compared to their local counterparts.\n"
   ]
  },
  {
   "cell_type": "code",
   "execution_count": 18,
   "metadata": {},
   "outputs": [
    {
     "data": {
      "image/svg+xml": [
       "<svg xmlns=\"http://www.w3.org/2000/svg\" xmlns:xlink=\"http://www.w3.org/1999/xlink\" width=\"400\" height=\"400\">\n",
       "  <!-- Sun -->\n",
       "  <circle cx=\"300\" cy=\"100\" r=\"80\" fill=\"yellow\" stroke=\"black\" stroke-width=\"2\"/>\n",
       "  \n",
       "  <!-- House -->\n",
       "  <rect x=\"100\" y=\"200\" width=\"200\" height=\"160\" fill=\"red\" stroke=\"black\" stroke-width=\"1\"/>\n",
       "  <polygon points=\"100,200 200,120 300,200\" fill=\"red\" stroke=\"black\" stroke-width=\"1\"/>\n",
       "  \n",
       "  <!-- Windows -->\n",
       "  <rect x=\"120\" y=\"220\" width=\"40\" height=\"40\" fill=\"blue\" stroke=\"black\" stroke-width=\"1\"/>\n",
       "  <rect x=\"240\" y=\"220\" width=\"40\" height=\"40\" fill=\"blue\" stroke=\"black\" stroke-width=\"1\"/>\n",
       "  \n",
       "  <!-- Door -->\n",
       "  <rect x=\"180\" y=\"280\" width=\"40\" height=\"80\" fill=\"brown\" stroke=\"black\" stroke-width=\"1\"/>\n",
       "  \n",
       "  <!-- Stick Figures -->\n",
       "  <!-- Head -->\n",
       "  <circle cx=\"60\" cy=\"280\" r=\"20\" fill=\"white\" stroke=\"black\" stroke-width=\"2\"/>\n",
       "  <!-- Body -->\n",
       "  <line x1=\"60\" y1=\"300\" x2=\"60\" y2=\"340\" stroke=\"black\" stroke-width=\"2\"/>\n",
       "  <!-- Arms -->\n",
       "  <line x1=\"40\" y1=\"310\" x2=\"80\" y2=\"310\" stroke=\"black\" stroke-width=\"2\"/>\n",
       "  <!-- Legs -->\n",
       "  <line x1=\"60\" y1=\"340\" x2=\"40\" y2=\"380\" stroke=\"black\" stroke-width=\"2\"/>\n",
       "  <line x1=\"60\" y1=\"340\" x2=\"80\" y2=\"380\" stroke=\"black\" stroke-width=\"2\"/>\n",
       "\n",
       "</svg>"
      ],
      "text/plain": [
       "<IPython.core.display.SVG object>"
      ]
     },
     "metadata": {},
     "output_type": "display_data"
    }
   ],
   "source": [
    "%%SVG\n",
    "<svg width=\"400\" height=\"400\" xmlns=\"http://www.w3.org/2000/svg\" xmlns:xlink=\"http://www.w3.org/1999/xlink\">\n",
    "  <!-- Sun -->\n",
    "  <circle cx=\"300\" cy=\"100\" r=\"80\" fill=\"yellow\" stroke=\"black\" stroke-width=\"2\"/>\n",
    "  \n",
    "  <!-- House -->\n",
    "  <rect x=\"100\" y=\"200\" width=\"200\" height=\"160\" fill=\"red\" stroke=\"black\" stroke-width=\"1\"/>\n",
    "  <polygon points=\"100,200 200,120 300,200\" fill=\"red\" stroke=\"black\" stroke-width=\"1\"/>\n",
    "  \n",
    "  <!-- Windows -->\n",
    "  <rect x=\"120\" y=\"220\" width=\"40\" height=\"40\" fill=\"blue\" stroke=\"black\" stroke-width=\"1\"/>\n",
    "  <rect x=\"240\" y=\"220\" width=\"40\" height=\"40\" fill=\"blue\" stroke=\"black\" stroke-width=\"1\"/>\n",
    "  \n",
    "  <!-- Door -->\n",
    "  <rect x=\"180\" y=\"280\" width=\"40\" height=\"80\" fill=\"brown\" stroke=\"black\" stroke-width=\"1\"/>\n",
    "  \n",
    "  <!-- Stick Figures -->\n",
    "  <!-- Head -->\n",
    "  <circle cx=\"60\" cy=\"280\" r=\"20\" fill=\"white\" stroke=\"black\" stroke-width=\"2\"/>\n",
    "  <!-- Body -->\n",
    "  <line x1=\"60\" y1=\"300\" x2=\"60\" y2=\"340\" stroke=\"black\" stroke-width=\"2\" />\n",
    "  <!-- Arms -->\n",
    "  <line x1=\"40\" y1=\"310\" x2=\"80\" y2=\"310\" stroke=\"black\" stroke-width=\"2\" />\n",
    "  <!-- Legs -->\n",
    "  <line x1=\"60\" y1=\"340\" x2=\"40\" y2=\"380\" stroke=\"black\" stroke-width=\"2\" />\n",
    "  <line x1=\"60\" y1=\"340\" x2=\"80\" y2=\"380\" stroke=\"black\" stroke-width=\"2\" />\n",
    "\n",
    "</svg>\n"
   ]
  }
 ],
 "metadata": {
  "kernelspec": {
   "display_name": "Python 3 (ipykernel)",
   "language": "python",
   "name": "python3"
  },
  "language_info": {
   "codemirror_mode": {
    "name": "ipython",
    "version": 3
   },
   "file_extension": ".py",
   "mimetype": "text/x-python",
   "name": "python",
   "nbconvert_exporter": "python",
   "pygments_lexer": "ipython3",
   "version": "3.11.5"
  }
 },
 "nbformat": 4,
 "nbformat_minor": 4
}
