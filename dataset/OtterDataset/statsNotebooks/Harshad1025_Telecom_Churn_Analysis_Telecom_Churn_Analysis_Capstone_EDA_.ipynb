{
  "nbformat": 4,
  "nbformat_minor": 0,
  "metadata": {
    "colab": {
      "private_outputs": true,
      "provenance": [],
      "collapsed_sections": [
        "7hBIi_osiCS2",
        "JlHwYmJAmNHm",
        "35m5QtbWiB9F",
        "PoPl-ycgm1ru",
        "H0kj-8xxnORC",
        "nA9Y7ga8ng1Z",
        "PBTbrJXOngz2",
        "u3PMJOP6ngxN",
        "Qzkxg6wGgMRO",
        "SuYhuRk3gX9Q",
        "U2RJ9gkRphqQ",
        "R729-2qwoEvK",
        "K5PsBEiBoxKq",
        "N24qI6fOpag8",
        "rESwDSjmqE9o",
        "YDjZkGwo3WTP",
        "94u9TFSi7ffu",
        "vbzDldrJ9HsL",
        "Z45864pp9apC",
        "D08ml0Zr-4g7",
        "J1QTt4BX8RHV",
        "VFF7FuEvZIE_",
        "mKhPJ-n1ZIFB",
        "jr874Y4LZIFB"
      ],
      "include_colab_link": true
    },
    "kernelspec": {
      "name": "python3",
      "display_name": "Python 3"
    },
    "language_info": {
      "name": "python"
    }
  },
  "cells": [
    {
      "cell_type": "markdown",
      "metadata": {
        "id": "view-in-github",
        "colab_type": "text"
      },
      "source": [
        "<a href=\"https://colab.research.google.com/github/Harshad1025/Harshad1025-Capstone-2-telecom-churn-analysis/blob/main/Telecom_Churn_Analysis_Capstone_EDA_.ipynb\" target=\"_parent\"><img src=\"https://colab.research.google.com/assets/colab-badge.svg\" alt=\"Open In Colab\"/></a>"
      ]
    },
    {
      "cell_type": "markdown",
      "source": [
        "# **Project Name**    -\n",
        "\n"
      ],
      "metadata": {
        "id": "vncDsAP0Gaoa"
      }
    },
    {
      "cell_type": "markdown",
      "source": [
        "##### **Project Type**    - EDA\n",
        "##### **Contribution**    - Individual\n",
        "##### **Team Member 1 -Harshad Thombre**\n"
      ],
      "metadata": {
        "id": "beRrZCGUAJYm"
      }
    },
    {
      "cell_type": "markdown",
      "source": [
        "# **Project Summary -**"
      ],
      "metadata": {
        "id": "FJNUwmbgGyua"
      }
    },
    {
      "cell_type": "markdown",
      "source": [
        "Telecom churn analysis is the process of identifying customers who are likely to cancel their service or switch to a different service provider. This is an important problem for telecom companies, as churn can have a significant impact on their revenue and profitability. Orange Telecom's Churn Dataset consists of cleaned customer activity data and a label specifying whether a customer has churned. The goal of the analysis is to understand the factors that contribute to churn and develop strategies to reduce churn by targeting those factors. The first step in conducting an exploratory data analysis (EDA) for telecom churn analysis is data acquisition, which involves obtaining a representative sample of data from the telecom company including customer demographic information, usage patterns, and churn status. The next step is data cleaning, which involves removing any missing or incomplete data and ensuring that the data is in a format that can be easily analyzed. Data visualization involves using plots and charts to visualize the data and identify trends and patterns, while data summarization involves using statistical techniques to summarize the data and understand the relationships between different variables.\n",
        "\n",
        "To reduce churn and improve customer retention, it is important to take a proactive approach. One effective strategy is to modify the International Plan so that the charges are the same as the normal plan. This will help address any potential dissatisfaction with higher charges for international usage. Communication and asking for feedback often can help to identify and address any issues that may lead to churn. Offering promotions periodically can also help to retain customers, as can focusing on customers experiencing problems in states with high churn rates. Paying attention to your best customers and ensuring they receive the support they need is also important. Regular server maintenance and addressing poor network connectivity issues can also help to reduce churn. Developing a roadmap for onboarding new customers can help to ensure a smooth onboarding process and reduce the likelihood of churn. Analyzing churn when it occurs can provide valuable insights into the factors contributing to churn, which can inform strategies for reducing churn. Finally, it is important to stay competitive by keeping up with industry trends and continuously improving the customer experience.\n",
        "\n",
        "Through EDA of the churn dataset, it was found that the charge fields are directly related to the minute fields, the area code may not be relevant and can be excluded, customers with the International Plan tend to churn more often, customers who have had four or more customer service calls churn significantly more than other customers, customers with high day and evening minute usage tend to churn at a higher rate, and there is no clear relationship between churn and the number of calls made or received. In conclusion, to reduce churn and improve customer retention, telecom companies should focus on modifying the International Plan, being proactive with communication and asking for feedback, offering promotions, focusing on customers experiencing problems in states with high churn rates, paying attention to their best customers, and continuously improving the customer experience.\n"
      ],
      "metadata": {
        "id": "F6v_1wHtG2nS"
      }
    },
    {
      "cell_type": "markdown",
      "source": [
        "# **GitHub Link -**"
      ],
      "metadata": {
        "id": "w6K7xa23Elo4"
      }
    },
    {
      "cell_type": "markdown",
      "source": [
        "Provide your GitHub Link here.<br>\n",
        "https://github.com/Harshad1025/Harshad1025-Capstone-2-telecom-churn-analysis"
      ],
      "metadata": {
        "id": "h1o69JH3Eqqn"
      }
    },
    {
      "cell_type": "markdown",
      "source": [
        "# **Problem Statement**\n"
      ],
      "metadata": {
        "id": "yQaldy8SH6Dl"
      }
    },
    {
      "cell_type": "markdown",
      "source": [
        "Telecom churn analysis is like detective work for telecom companies. It helps them figure out which customers might leave or switch to another provider. This is a big deal for these companies because losing customers can seriously affect how much money they make and how well they do as a business."
      ],
      "metadata": {
        "id": "wcYa81UKwRuc"
      }
    },
    {
      "cell_type": "markdown",
      "source": [
        "**Orange S.A., formerly France Télécom S.A., is a French multinational telecommunications corporation. The Orange Telecom's Churn Dataset, consists of cleaned customer activity data (features), along with a churn label specifying whether a customer cancelled the subscription. Explore and analyze the data to discover key factors responsible for customer churn and come up with ways/recommendations to ensure customer retention.**"
      ],
      "metadata": {
        "id": "DpeJGUA3kjGy"
      }
    },
    {
      "cell_type": "markdown",
      "source": [
        "#### **Define Your Business Objective?**"
      ],
      "metadata": {
        "id": "PH-0ReGfmX4f"
      }
    },
    {
      "cell_type": "markdown",
      "source": [
        "* Pinpointing the primary reasons behind customer churn to better understand why they're leaving.\n",
        "* Developing effective strategies and actionable steps to retain valuable customers, ensuring their continued satisfaction and loyalty."
      ],
      "metadata": {
        "id": "oP459p8WxCF4"
      }
    },
    {
      "cell_type": "markdown",
      "source": [
        "# **General Guidelines** : -  "
      ],
      "metadata": {
        "id": "mDgbUHAGgjLW"
      }
    },
    {
      "cell_type": "markdown",
      "source": [
        "1.   Well-structured, formatted, and commented code is required.\n",
        "2.   Exception Handling, Production Grade Code & Deployment Ready Code will be a plus. Those students will be awarded some additional credits.\n",
        "     \n",
        "     The additional credits will have advantages over other students during Star Student selection.\n",
        "       \n",
        "             [ Note: - Deployment Ready Code is defined as, the whole .ipynb notebook should be executable in one go\n",
        "                       without a single error logged. ]\n",
        "\n",
        "3.   Each and every logic should have proper comments.\n",
        "4. You may add as many number of charts you want. Make Sure for each and every chart the following format should be answered.\n",
        "        \n",
        "\n",
        "```\n",
        "# Chart visualization code\n",
        "```\n",
        "            \n",
        "\n",
        "*   Why did you pick the specific chart?\n",
        "*   What is/are the insight(s) found from the chart?\n",
        "* Will the gained insights help creating a positive business impact?\n",
        "Are there any insights that lead to negative growth? Justify with specific reason.\n",
        "\n",
        "5. You have to create at least 20 logical & meaningful charts having important insights.\n",
        "\n",
        "\n",
        "[ Hints : - Do the Vizualization in  a structured way while following \"UBM\" Rule.\n",
        "\n",
        "U - Univariate Analysis,\n",
        "\n",
        "B - Bivariate Analysis (Numerical - Categorical, Numerical - Numerical, Categorical - Categorical)\n",
        "\n",
        "M - Multivariate Analysis\n",
        " ]\n",
        "\n",
        "\n",
        "\n"
      ],
      "metadata": {
        "id": "ZrxVaUj-hHfC"
      }
    },
    {
      "cell_type": "markdown",
      "source": [
        "# ***Let's Begin !***"
      ],
      "metadata": {
        "id": "O_i_v8NEhb9l"
      }
    },
    {
      "cell_type": "markdown",
      "source": [
        "## ***1. Know Your Data***"
      ],
      "metadata": {
        "id": "HhfV-JJviCcP"
      }
    },
    {
      "cell_type": "markdown",
      "source": [
        "### Import Libraries"
      ],
      "metadata": {
        "id": "Y3lxredqlCYt"
      }
    },
    {
      "cell_type": "code",
      "source": [
        "# Import Libraries\n",
        "\n",
        "\n",
        "import functools\n",
        "import os\n",
        "import time\n",
        "import warnings\n",
        "import datetime\n",
        "\n",
        "import numpy as np\n",
        "import pandas as pd\n",
        "import plotly.express as px\n",
        "import seaborn as sns\n",
        "from PIL import Image\n",
        "import matplotlib.pyplot as plt\n",
        "%matplotlib inline\n",
        "\n",
        "warnings.filterwarnings('ignore')\n",
        "\n",
        "\n",
        "pd.set_option('display.max_rows', 20)\n",
        "pd.set_option('display.max_columns', None)\n",
        "pd.set_option('display.width', 200)\n",
        "\n",
        "blue = '\\033[94m'\n",
        "bold = '\\033[1m'\n",
        "italics = '\\033[3m'\n",
        "underline = '\\033[4m'\n",
        "end = '\\033[0m'\n",
        "pretty_print_start = italics+bold+underline+blue\n",
        "pretty_print_end = italics+bold+underline+blue+end"
      ],
      "metadata": {
        "id": "M8Vqi-pPk-HR"
      },
      "execution_count": null,
      "outputs": []
    },
    {
      "cell_type": "markdown",
      "source": [
        "### Dataset Loading"
      ],
      "metadata": {
        "id": "3RnN4peoiCZX"
      }
    },
    {
      "cell_type": "code",
      "source": [
        "# Load Dataset\n",
        "# data = pd.read_csv('/content/telecom_churn.csv')\n",
        "url = 'https://raw.githubusercontent.com/Harshad1025/Harshad1025-Capstone-2-telecom-churn-analysis/088a23924e8cd9eae692dd99ac3343951aa5a308/telecom_churn.csv'\n",
        "data = pd.read_csv(url)"
      ],
      "metadata": {
        "id": "4CkvbW_SlZ_R"
      },
      "execution_count": null,
      "outputs": []
    },
    {
      "cell_type": "markdown",
      "source": [
        "### Dataset First View"
      ],
      "metadata": {
        "id": "x71ZqKXriCWQ"
      }
    },
    {
      "cell_type": "code",
      "source": [
        "# Dataset First Look\n",
        "data.head()"
      ],
      "metadata": {
        "id": "LWNFOSvLl09H"
      },
      "execution_count": null,
      "outputs": []
    },
    {
      "cell_type": "code",
      "source": [
        "data.tail()"
      ],
      "metadata": {
        "id": "IpLOdmif9cMN"
      },
      "execution_count": null,
      "outputs": []
    },
    {
      "cell_type": "code",
      "source": [
        "data.sample(5)"
      ],
      "metadata": {
        "id": "AzMQ52ze9mrF"
      },
      "execution_count": null,
      "outputs": []
    },
    {
      "cell_type": "markdown",
      "source": [
        "### Dataset Rows & Columns count"
      ],
      "metadata": {
        "id": "7hBIi_osiCS2"
      }
    },
    {
      "cell_type": "code",
      "source": [
        "# Dataset Rows & Columns count\n",
        "print(f\"Dataset Rows count: {data.shape[0]}\")\n",
        "print(f\"Dataset Columns count: {data.shape[1]}\")"
      ],
      "metadata": {
        "id": "Kllu7SJgmLij"
      },
      "execution_count": null,
      "outputs": []
    },
    {
      "cell_type": "markdown",
      "source": [
        "### Dataset Information"
      ],
      "metadata": {
        "id": "JlHwYmJAmNHm"
      }
    },
    {
      "cell_type": "code",
      "source": [
        "# Dataset Info\n",
        "data.info()"
      ],
      "metadata": {
        "id": "e9hRXRi6meOf"
      },
      "execution_count": null,
      "outputs": []
    },
    {
      "cell_type": "markdown",
      "source": [
        "#### Duplicate Values"
      ],
      "metadata": {
        "id": "35m5QtbWiB9F"
      }
    },
    {
      "cell_type": "code",
      "source": [
        "# Dataset Duplicate Value Count\n",
        "data.duplicated().sum()"
      ],
      "metadata": {
        "id": "1sLdpKYkmox0"
      },
      "execution_count": null,
      "outputs": []
    },
    {
      "cell_type": "markdown",
      "source": [
        "#### Missing Values/Null Values"
      ],
      "metadata": {
        "id": "PoPl-ycgm1ru"
      }
    },
    {
      "cell_type": "code",
      "source": [
        "# Missing Values/Null Values Count\n",
        "data.isnull().sum()"
      ],
      "metadata": {
        "id": "GgHWkxvamxVg"
      },
      "execution_count": null,
      "outputs": []
    },
    {
      "cell_type": "code",
      "source": [
        "# Visualizing the missing values\n",
        "plt.figure(figsize=(20,10))\n",
        "sns.heatmap(data.isna(), cmap=\"viridis\", cbar_kws={'label': 'Missing Data'})\n",
        "plt.title('Visualization of Missing Values', fontsize=18)\n",
        "plt.show()"
      ],
      "metadata": {
        "id": "3q5wnI3om9sJ"
      },
      "execution_count": null,
      "outputs": []
    },
    {
      "cell_type": "markdown",
      "source": [
        "### What did you know about your dataset?"
      ],
      "metadata": {
        "id": "H0kj-8xxnORC"
      }
    },
    {
      "cell_type": "markdown",
      "source": [
        "\n",
        "\n",
        "1. **Size of the Dataset:**\n",
        "   - The dataset contains 3333 rows and 20 columns.\n",
        "\n",
        "2. **Columns and Data Types:**\n",
        "   - The columns include a mix of numerical and categorical data types.\n",
        "   - There are three main types of data in the dataset: `int64` (integer), `float64` (floating-point), `object` (string or categorical), and `bool` (boolean).\n",
        "\n",
        "3. **Columns and Their Meanings:**\n",
        "   - The dataset includes columns such as 'State,' 'Account length,' 'Area code,' 'International plan,' 'Voice mail plan,' 'Number vmail messages,' and various columns related to the total minutes, calls, and charges for day, evening, night, and international calls.\n",
        "\n",
        "4. **Target Variable:**\n",
        "   - The 'Churn' column appears to be the target variable, indicating whether a customer has canceled the subscription. It is of boolean type (`bool`), it has values of either `True` or `False`.\n",
        "\n",
        "5. **Memory Usage:**\n",
        "   - The memory usage of the dataset is approximately 498.1 KB, indicating the dataset is reasonably sized and should be manageable for analysis.\n",
        "\n",
        "6. **Potential Features:**\n",
        "   - There are features like 'International plan,' 'Voice mail plan,' and 'Customer service calls' that may be crucial for understanding customer behavior and predicting churn.\n",
        "\n",
        "7. **Data Quality:**\n",
        "   - No missing values are reported in the information, suggesting that the dataset is relatively clean. However, further exploration may reveal outliers or anomalies that need attention.\n",
        "\n"
      ],
      "metadata": {
        "id": "Kf2HJ2XLBcxE"
      }
    },
    {
      "cell_type": "markdown",
      "source": [
        "## ***2. Understanding Your Variables***"
      ],
      "metadata": {
        "id": "nA9Y7ga8ng1Z"
      }
    },
    {
      "cell_type": "code",
      "source": [
        "# display only columns that contains text to confirm if dtype is correct or not\n",
        "data.select_dtypes(include=['object','boolean']).columns.tolist()"
      ],
      "metadata": {
        "id": "yNcYzFcS21mg"
      },
      "execution_count": null,
      "outputs": []
    },
    {
      "cell_type": "code",
      "source": [
        "# numeric columns\n",
        "data.select_dtypes(include=['number']).columns.tolist()"
      ],
      "metadata": {
        "id": "mhnFpE4M27C5"
      },
      "execution_count": null,
      "outputs": []
    },
    {
      "cell_type": "code",
      "source": [
        "# Dataset Columns\n",
        "data.columns"
      ],
      "metadata": {
        "id": "j7xfkqrt5Ag5"
      },
      "execution_count": null,
      "outputs": []
    },
    {
      "cell_type": "code",
      "source": [
        "# Dataset Describe\n",
        "data.describe()"
      ],
      "metadata": {
        "id": "DnOaZdaE5Q5t"
      },
      "execution_count": null,
      "outputs": []
    },
    {
      "cell_type": "markdown",
      "source": [
        "In order to see statistics on non-numerical features, one has to explicitly indicate data types of interest in the include parameter."
      ],
      "metadata": {
        "id": "wN6gKyabZjaD"
      }
    },
    {
      "cell_type": "code",
      "source": [
        "# discriptive statistics on non-numerical features\n",
        "data.describe(include=[\"object\", \"bool\"])"
      ],
      "metadata": {
        "id": "Yz3kE3m83AFD"
      },
      "execution_count": null,
      "outputs": []
    },
    {
      "cell_type": "markdown",
      "source": [
        "### Variables Description"
      ],
      "metadata": {
        "id": "PBTbrJXOngz2"
      }
    },
    {
      "cell_type": "markdown",
      "source": [
        "\n",
        "\n",
        "1. **State (Object):**\n",
        "   - The state in which the customer resides.\n",
        "\n",
        "2. **Account length (Integer):**\n",
        "   - The number of days the customer has been an account holder.\n",
        "\n",
        "3. **Area code (Integer):**\n",
        "   - The three-digit area code corresponding to the customer's phone number.\n",
        "\n",
        "4. **International plan (Object):**\n",
        "   - Whether the customer has an international calling plan (Yes/No).\n",
        "\n",
        "5. **Voice mail plan (Object):**\n",
        "   - Whether the customer has a voice mail plan (Yes/No).\n",
        "\n",
        "6. **Number vmail messages (Integer):**\n",
        "   - The number of voice mail messages received by the customer.\n",
        "\n",
        "7. **Total day minutes (Float):**\n",
        "   - The total number of minutes the customer used during the day.\n",
        "\n",
        "8. **Total day calls (Integer):**\n",
        "   - The total number of calls made by the customer during the day.\n",
        "\n",
        "9. **Total day charge (Float):**\n",
        "   - The total charge incurred by the customer for day calls.\n",
        "\n",
        "10. **Total eve minutes (Float):**\n",
        "    - The total number of minutes the customer used during the evening.\n",
        "\n",
        "11. **Total eve calls (Integer):**\n",
        "    - The total number of calls made by the customer during the evening.\n",
        "\n",
        "12. **Total eve charge (Float):**\n",
        "    - The total charge incurred by the customer for evening calls.\n",
        "\n",
        "13. **Total night minutes (Float):**\n",
        "    - The total number of minutes the customer used during the night.\n",
        "\n",
        "14. **Total night calls (Integer):**\n",
        "    - The total number of calls made by the customer during the night.\n",
        "\n",
        "15. **Total night charge (Float):**\n",
        "    - The total charge incurred by the customer for night calls.\n",
        "\n",
        "16. **Total intl minutes (Float):**\n",
        "    - The total number of international minutes used by the customer.\n",
        "\n",
        "17. **Total intl calls (Integer):**\n",
        "    - The total number of international calls made by the customer.\n",
        "\n",
        "18. **Total intl charge (Float):**\n",
        "    - The total charge incurred by the customer for international calls.\n",
        "\n",
        "19. **Customer service calls (Integer):**\n",
        "    - The number of customer service calls made by the customer.\n",
        "\n",
        "20. **Churn (Boolean):**\n",
        "    - The target variable indicating whether the customer has canceled the subscription (True/False).\n",
        "\n"
      ],
      "metadata": {
        "id": "aJV4KIxSnxay"
      }
    },
    {
      "cell_type": "markdown",
      "source": [
        "### Check Unique Values for each variable."
      ],
      "metadata": {
        "id": "u3PMJOP6ngxN"
      }
    },
    {
      "cell_type": "code",
      "source": [
        "print(\"Number of unique values \")\n",
        "for column in data.columns:\n",
        "    unique_values = len(data[column].unique())\n",
        "    print(f\"{column}: {unique_values}\")"
      ],
      "metadata": {
        "id": "QnBQ7Eukbihn"
      },
      "execution_count": null,
      "outputs": []
    },
    {
      "cell_type": "code",
      "source": [
        "data.nunique()"
      ],
      "metadata": {
        "id": "DhEt-d3KDeiC"
      },
      "execution_count": null,
      "outputs": []
    },
    {
      "cell_type": "code",
      "source": [
        "# show all unique values for categorical columns\n",
        "for col in data.select_dtypes(include=['object','boolean']):\n",
        "    print(f\"Feature name : {col}'\\n' values: {data[col].unique()}'\\n'\")"
      ],
      "metadata": {
        "id": "Oq31lReN3yd3"
      },
      "execution_count": null,
      "outputs": []
    },
    {
      "cell_type": "code",
      "source": [
        "columns_to_exclude=[\n",
        "    'Account length',\n",
        "    'Number vmail messages',\n",
        "    'Total day minutes',\n",
        "    'Total day calls',\n",
        "    'Total day charge',\n",
        "    'Total eve minutes',\n",
        "    'Total eve calls',\n",
        "    'Total eve charge',\n",
        "    'Total night minutes',\n",
        "    'Total night calls',\n",
        "    'Total night charge' ,\n",
        "    'Total intl minutes',\n",
        "    'Total intl calls',\n",
        "    'Total intl charge']"
      ],
      "metadata": {
        "id": "PaDj8xx3EYGE"
      },
      "execution_count": null,
      "outputs": []
    },
    {
      "cell_type": "code",
      "source": [
        "# Check Unique Values for each variable\n",
        "for column in data.columns:\n",
        "    if column not in columns_to_exclude:\n",
        "        unique_values = data[column].unique()\n",
        "        print(f\"Unique values for {column}:\", unique_values)\n",
        "        print(\"-\" * 50)\n",
        "\n"
      ],
      "metadata": {
        "id": "zms12Yq5n-jE"
      },
      "execution_count": null,
      "outputs": []
    },
    {
      "cell_type": "markdown",
      "source": [
        "## 3. ***Data Wrangling***"
      ],
      "metadata": {
        "id": "dauF4eBmngu3"
      }
    },
    {
      "cell_type": "markdown",
      "source": [
        "### Data Wrangling Code"
      ],
      "metadata": {
        "id": "bKJF3rekwFvQ"
      }
    },
    {
      "cell_type": "code",
      "source": [
        "# Write your code to make your dataset analysis ready.\n",
        "\n",
        "# created a copy of original dataframe\n",
        "df = data.copy()"
      ],
      "metadata": {
        "id": "wk-9a2fpoLcV"
      },
      "execution_count": null,
      "outputs": []
    },
    {
      "cell_type": "code",
      "source": [
        "# 1) corrected column names\n",
        "df.columns = df.columns.str.strip().str.lower().str.replace(\" \",\"_\" )"
      ],
      "metadata": {
        "id": "Kq6kEp1cGoKN"
      },
      "execution_count": null,
      "outputs": []
    },
    {
      "cell_type": "code",
      "source": [
        "df.columns\n"
      ],
      "metadata": {
        "id": "VLdI5zZy9Dtm"
      },
      "execution_count": null,
      "outputs": []
    },
    {
      "cell_type": "code",
      "source": [
        "# # 3) Label encoding to  international_plans, voice_mail_plan, churn columns\n",
        "# df['international_plan'] = df['international_plan'].replace({'Yes': 1, 'No': 0})\n",
        "# df['voice_mail_plan'] = df['voice_mail_plan'].replace({'Yes': 1, 'No': 0})\n",
        "# df['churn'] = df['churn'].replace({True: 1, False: 0})\n"
      ],
      "metadata": {
        "id": "ALZWQJ8nJhUK"
      },
      "execution_count": null,
      "outputs": []
    },
    {
      "cell_type": "code",
      "source": [
        "# converted from int data type to category [area_code column]\n",
        "df['area_code'] =df['area_code'].astype('category')"
      ],
      "metadata": {
        "id": "-89ls2oND_Re"
      },
      "execution_count": null,
      "outputs": []
    },
    {
      "cell_type": "code",
      "source": [
        "#  4) full state names\n",
        "state_dict={\n",
        "    'KS': 'Kansas',\n",
        "    'OH': 'Ohio',\n",
        "    'NJ': 'New Jersey',\n",
        "    'OK': 'Oklahoma',\n",
        "    'AL': 'Alabama',\n",
        "    'MA': 'Massachusetts',\n",
        "    'MO': 'Missouri',\n",
        "    'LA': 'Louisiana',\n",
        "    'WV': 'West Virginia',\n",
        "    'IN': 'Indiana',\n",
        "    'RI': 'Rhode Island',\n",
        "    'IA': 'Iowa',\n",
        "    'MT': 'Montana',\n",
        "    'NY': 'New York',\n",
        "    'ID': 'Idaho',\n",
        "    'VT': 'Vermont',\n",
        "    'VA': 'Virginia',\n",
        "    'TX': 'Texas',\n",
        "    'FL': 'Florida',\n",
        "    'CO': 'Colorado',\n",
        "    'AZ': 'Arizona',\n",
        "    'SC': 'South Carolina',\n",
        "    'NE': 'Nebraska',\n",
        "    'WY': 'Wyoming',\n",
        "    'HI': 'Hawaii',\n",
        "    'IL': 'Illinois',\n",
        "    'NH': 'New Hampshire',\n",
        "    'GA': 'Georgia',\n",
        "    'AK': 'Alaska',\n",
        "    'MD': 'Maryland',\n",
        "    'AR': 'Arkansas',\n",
        "    'WI': 'Wisconsin',\n",
        "    'OR': 'Oregon',\n",
        "    'MI': 'Michigan',\n",
        "    'DE': 'Delaware',\n",
        "    'UT': 'Utah',\n",
        "    'CA': 'California',\n",
        "    'MN': 'Minnesota',\n",
        "    'SD': 'South Dakota',\n",
        "    'NC': 'North Carolina',\n",
        "    'WA': 'Washington',\n",
        "    'NM': 'New Mexico',\n",
        "    'NV': 'Nevada',\n",
        "    'DC': 'District of Columbia',\n",
        "    'KY': 'Kentucky',\n",
        "    'ME': 'Maine',\n",
        "    'MS': 'Mississippi',\n",
        "    'TN': 'Tennessee',\n",
        "    'PA': 'Pennsylvania',\n",
        "    'CT': 'Connecticut',\n",
        "    'ND': 'North Dakota'\n",
        "    }\n",
        "\n",
        "df['state'] = df['state'].replace(state_dict)\n"
      ],
      "metadata": {
        "id": "FkWuDx9KK1ko"
      },
      "execution_count": null,
      "outputs": []
    },
    {
      "cell_type": "code",
      "source": [
        "df.head()"
      ],
      "metadata": {
        "id": "8Zz70F4vIN8X"
      },
      "execution_count": null,
      "outputs": []
    },
    {
      "cell_type": "code",
      "source": [
        "df.shape"
      ],
      "metadata": {
        "id": "FY-ObAlcNEhm"
      },
      "execution_count": null,
      "outputs": []
    },
    {
      "cell_type": "code",
      "source": [
        "df.info()"
      ],
      "metadata": {
        "id": "BTqkNp52NHXX"
      },
      "execution_count": null,
      "outputs": []
    },
    {
      "cell_type": "code",
      "source": [
        "churn_df = df[df['churn']==True]\n",
        "churn_df.head()"
      ],
      "metadata": {
        "id": "fTdMk5P4XFcC"
      },
      "execution_count": null,
      "outputs": []
    },
    {
      "cell_type": "code",
      "source": [
        "\n",
        "# Total No of Customers Churning\n",
        "print(\"No. of customers Churning :\",df[df['churn']==True].churn.count())\n",
        "\n",
        "# Variable Assigning to churned data\n",
        "churn_df = df[df['churn']==True]\n",
        "\n",
        "# Total No of Unique Area Code\n",
        "print(\"No of Unique Area Code :\", df['area_code'].nunique())\n",
        "\n",
        "# Customers On which Internaltion plan is activated\n",
        "print(\"No of customer with international plan activated :\", df[df['international_plan']=='Yes']['international_plan'].count())\n",
        "\n",
        "# Customers On which Voice mail plan is activated\n",
        "print(\"No of customer with Voice mail plan activated :\",df[df['voice_mail_plan']=='Yes']['voice_mail_plan'].count())\n",
        "\n",
        "churn_df"
      ],
      "metadata": {
        "id": "_C7BdPLdY5ql"
      },
      "execution_count": null,
      "outputs": []
    },
    {
      "cell_type": "code",
      "source": [
        "# Customer churn in percentage\n",
        "cust_churn_perc = churn_df['churn'].count()/df['churn'].count() * 100\n",
        "print(f\"Percentage of customer churning : {round(cust_churn_perc,2)}%\")"
      ],
      "metadata": {
        "id": "94WBs8JWavz8"
      },
      "execution_count": null,
      "outputs": []
    },
    {
      "cell_type": "code",
      "source": [
        "# statistics of churned customers\n",
        "churn_df.describe()"
      ],
      "metadata": {
        "id": "dqP1Bv0v7pX9"
      },
      "execution_count": null,
      "outputs": []
    },
    {
      "cell_type": "markdown",
      "source": [
        "#### Account length wise churn"
      ],
      "metadata": {
        "id": "HAyucNRlzu9e"
      }
    },
    {
      "cell_type": "code",
      "source": [
        "# Account length wise churn data\n",
        "acc_len_churn = churn_df.groupby(['account_length'])['churn'].value_counts().reset_index(name='values').sort_values(by='values',ascending=False).head(10)\n",
        "print(acc_len_churn.sum())\n",
        "acc_len_churn"
      ],
      "metadata": {
        "id": "jMWIPYGe9SQH"
      },
      "execution_count": null,
      "outputs": []
    },
    {
      "cell_type": "markdown",
      "source": [
        "#### Area code wise churn"
      ],
      "metadata": {
        "id": "uIb8Cklx0coN"
      }
    },
    {
      "cell_type": "code",
      "source": [
        "df[df['area_code']==408]['churn'].value_counts().get(1)/df[df['area_code']==408]['churn'].count()"
      ],
      "metadata": {
        "id": "0wpPWx6WNYmP"
      },
      "execution_count": null,
      "outputs": []
    },
    {
      "cell_type": "code",
      "source": [
        "# Area Code wise users count\n",
        "Area_code_user_count = (df.groupby(['area_code'])['churn'].count()).reset_index(name=\"user_count\")\n",
        "Area_code_user_count"
      ],
      "metadata": {
        "id": "vrF0Sq3wMCHs"
      },
      "execution_count": null,
      "outputs": []
    },
    {
      "cell_type": "code",
      "source": [
        "# Area code wise Churn Count\n",
        "Area_code_churn_count = churn_df.groupby(['area_code'])['churn'].value_counts().reset_index(name='Counts')\n",
        "Area_code_churn_count"
      ],
      "metadata": {
        "id": "YhOz4Wiu_WnU"
      },
      "execution_count": null,
      "outputs": []
    },
    {
      "cell_type": "code",
      "source": [
        "# Area Code wise churn percentage\n",
        "Area_code_churn_perc = (df.groupby(['area_code'])['churn'].mean()*100).reset_index()\n",
        "Area_code_churn_perc"
      ],
      "metadata": {
        "id": "ijBnf-OP-mp_"
      },
      "execution_count": null,
      "outputs": []
    },
    {
      "cell_type": "code",
      "source": [
        "# churn rate area code wise\n",
        "churn_area = pd.DataFrame(df.groupby('area_code')['churn'].value_counts())\n",
        "churn_area['churn_rate'] = round(churn_area*100/len(df),2)\n",
        "churn_area"
      ],
      "metadata": {
        "id": "KWIyndNs16VQ"
      },
      "execution_count": null,
      "outputs": []
    },
    {
      "cell_type": "code",
      "source": [
        "# statistical value(mean, median) of all feature of area code wise\n",
        "def get_mean_median(df,area_code):\n",
        "  ''' This fuction gives mean and median of all features'''\n",
        "  try:\n",
        "    return pd.concat([df[df['area_code']==area_code].describe().round(2).iloc[1],\n",
        "          df[df['area_code']==area_code].describe().round(2).iloc[5]], axis = 1).rename(columns={'50%':'Median'})\n",
        "  except:\n",
        "    print(\"Invalid Area code\")"
      ],
      "metadata": {
        "id": "p3m_S0tqCHHY"
      },
      "execution_count": null,
      "outputs": []
    },
    {
      "cell_type": "markdown",
      "source": [
        "##### for area code 408"
      ],
      "metadata": {
        "id": "g1fTXMzzffxU"
      }
    },
    {
      "cell_type": "code",
      "source": [
        "#For areacode = 408\n",
        "get_mean_median(df,408)"
      ],
      "metadata": {
        "id": "Y9hXeBZ9CJmi"
      },
      "execution_count": null,
      "outputs": []
    },
    {
      "cell_type": "code",
      "source": [
        "\n",
        "\n",
        "# Filter the DataFrame for 'area_code' 408\n",
        "a1_df = df[df['area_code'] == 408]\n",
        "\n",
        "# Create a cross-tabulation table\n",
        "cross_tab = pd.crosstab(a1_df['churn'], a1_df['international_plan'])\n",
        "\n",
        "# Display the counts of 'churn' values\n",
        "churn_counts = a1_df['churn'].value_counts()\n",
        "\n",
        "# Display the counts of 'international_plan' values\n",
        "international_plan_counts = a1_df['international_plan'].value_counts()\n",
        "\n",
        "# Calculate the churn rate for each international plan category\n",
        "churn_rate_by_plan = a1_df.groupby(['international_plan'])['churn'].mean().reset_index()\n",
        "\n",
        "# Display the results\n",
        "print(\"Cross-Tabulation Table:\")\n",
        "print(cross_tab)\n",
        "\n",
        "print(\"\\nChurn Counts:\")\n",
        "print(churn_counts)\n",
        "\n",
        "print(\"\\nInternational Plan Counts:\")\n",
        "print(international_plan_counts)\n",
        "\n",
        "print(\"\\nChurn Rate by International Plan:\")\n",
        "print(churn_rate_by_plan)\n"
      ],
      "metadata": {
        "id": "n-KIFC3Ne4cB"
      },
      "execution_count": null,
      "outputs": []
    },
    {
      "cell_type": "markdown",
      "source": [
        "##### for area code 415"
      ],
      "metadata": {
        "id": "h0IYMWgrfzJG"
      }
    },
    {
      "cell_type": "code",
      "source": [
        "#For areacode = 415\n",
        "get_mean_median(df,415)"
      ],
      "metadata": {
        "id": "3Q43PwmuCe5D"
      },
      "execution_count": null,
      "outputs": []
    },
    {
      "cell_type": "code",
      "source": [
        "\n",
        "\n",
        "# Filter the DataFrame for 'area_code' 415\n",
        "a1_df = df[df['area_code'] == 415]\n",
        "\n",
        "# Create a cross-tabulation table\n",
        "cross_tab = pd.crosstab(a1_df['churn'], a1_df['international_plan'])\n",
        "\n",
        "# Display the counts of 'churn' values\n",
        "churn_counts = a1_df['churn'].value_counts()\n",
        "\n",
        "# Display the counts of 'international_plan' values\n",
        "international_plan_counts = a1_df['international_plan'].value_counts()\n",
        "\n",
        "# Calculate the churn rate for each international plan category\n",
        "churn_rate_by_plan = a1_df.groupby(['international_plan'])['churn'].mean().reset_index()\n",
        "\n",
        "# Display the results\n",
        "print(\"Cross-Tabulation Table:\")\n",
        "print(cross_tab)\n",
        "\n",
        "print(\"\\nChurn Counts:\")\n",
        "print(churn_counts)\n",
        "\n",
        "print(\"\\nInternational Plan Counts:\")\n",
        "print(international_plan_counts)\n",
        "\n",
        "print(\"\\nChurn Rate by International Plan:\")\n",
        "print(churn_rate_by_plan)\n"
      ],
      "metadata": {
        "id": "SdKtNonNgX8L"
      },
      "execution_count": null,
      "outputs": []
    },
    {
      "cell_type": "markdown",
      "source": [
        "##### for area code 510"
      ],
      "metadata": {
        "id": "_gJec5iFgnap"
      }
    },
    {
      "cell_type": "code",
      "source": [
        "#For areacode = 510\n",
        "get_mean_median(df,510)"
      ],
      "metadata": {
        "id": "HRCcZVN4Cjx8"
      },
      "execution_count": null,
      "outputs": []
    },
    {
      "cell_type": "code",
      "source": [
        "\n",
        "\n",
        "# Filter the DataFrame for 'area_code' 510\n",
        "a1_df = df[df['area_code'] == 510]\n",
        "\n",
        "# Create a cross-tabulation table\n",
        "cross_tab = pd.crosstab(a1_df['churn'], a1_df['international_plan'])\n",
        "\n",
        "# Display the counts of 'churn' values\n",
        "churn_counts = a1_df['churn'].value_counts()\n",
        "\n",
        "# Display the counts of 'international_plan' values\n",
        "international_plan_counts = a1_df['international_plan'].value_counts()\n",
        "\n",
        "# Calculate the churn rate for each international plan category\n",
        "churn_rate_by_plan = a1_df.groupby(['international_plan'])['churn'].mean().reset_index()\n",
        "\n",
        "# Display the results\n",
        "print(\"Cross-Tabulation Table:\")\n",
        "print(cross_tab)\n",
        "\n",
        "print(\"\\nChurn Counts:\")\n",
        "print(churn_counts)\n",
        "\n",
        "print(\"\\nInternational Plan Counts:\")\n",
        "print(international_plan_counts)\n",
        "\n",
        "print(\"\\nChurn Rate by International Plan:\")\n",
        "print(churn_rate_by_plan)\n"
      ],
      "metadata": {
        "id": "YwVz5sgogna3"
      },
      "execution_count": null,
      "outputs": []
    },
    {
      "cell_type": "markdown",
      "source": [
        "#### State wise churn"
      ],
      "metadata": {
        "id": "U4i6wPZez2zr"
      }
    },
    {
      "cell_type": "code",
      "source": [
        "# Statewise customer churning\n",
        "\n",
        "state_cust_churn = churn_df.groupby(['state'])['churn'].value_counts().reset_index(name='churn_customer')\n",
        "print(state_cust_churn.sum())\n",
        "state_cust_churn"
      ],
      "metadata": {
        "id": "axQgfgTo79Xf"
      },
      "execution_count": null,
      "outputs": []
    },
    {
      "cell_type": "code",
      "source": [
        "bottom_10_states = state_cust_churn.sort_values(by='churn_customer',ascending=True).head(10)\n",
        "bottom_10_states"
      ],
      "metadata": {
        "id": "_eMNhzwLQGdm"
      },
      "execution_count": null,
      "outputs": []
    },
    {
      "cell_type": "code",
      "source": [
        "# top 10 states with highest churners\n",
        "top_10_states = state_cust_churn.sort_values(by='churn_customer',ascending=False).head(10)\n",
        "top_10_states"
      ],
      "metadata": {
        "id": "cLkjVZQY9BAd"
      },
      "execution_count": null,
      "outputs": []
    },
    {
      "cell_type": "markdown",
      "source": [
        "####  state by area code"
      ],
      "metadata": {
        "id": "jjYrBxq-3Efy"
      }
    },
    {
      "cell_type": "code",
      "source": [
        "#Poor Connectivity by intersection of state by area code\n",
        "Area_state_churn = churn_df.groupby(['area_code'])['state'].unique().reset_index(name='unique_state')\n",
        "Area_state_churn"
      ],
      "metadata": {
        "id": "ygxtsj3m_h_f"
      },
      "execution_count": null,
      "outputs": []
    },
    {
      "cell_type": "code",
      "source": [
        "# Assigning the list of state of each area\n",
        "Area_408_state_churn = Area_state_churn.loc[0,'unique_state']\n",
        "Area_415_state_churn = Area_state_churn.loc[1,'unique_state']\n",
        "Area_510_state_churn = Area_state_churn.loc[2,'unique_state']\n",
        "\n",
        "inter_1= set(Area_408_state_churn).intersection(set(Area_415_state_churn))\n",
        "poor_connectivity_states = set(inter_1).intersection(set(Area_510_state_churn))\n",
        "\n",
        "print(f\"Intersection by different areas code of churning gives {len(poor_connectivity_states)} poor connectivity states\")\n",
        "print(\"Try to short down the list of state by different dataset to generate more precise poor connectivity states\")"
      ],
      "metadata": {
        "id": "pgFkSnc0AYK0"
      },
      "execution_count": null,
      "outputs": []
    },
    {
      "cell_type": "markdown",
      "source": [
        "#### churn by International plan"
      ],
      "metadata": {
        "id": "95FDOxAN3vnd"
      }
    },
    {
      "cell_type": "code",
      "source": [
        "# Percentage of Customers with and without international Plan churning to other networks\n",
        "intl_plan_churn = (df.groupby(['international_plan'])['churn'].mean()*100).reset_index(name='Churn %')\n",
        "print(intl_plan_churn)\n",
        "print()\n",
        "\n",
        "# Total number of Customers churning with international plan\n",
        "churn_intl_yes = churn_df[churn_df['international_plan']=='Yes']\n",
        "print(f\"No. of Customers churning having International plan is {churn_intl_yes['international_plan'].value_counts()[0]}\")\n",
        "print()\n",
        "\n",
        "# Total number of Customers churning without international plan\n",
        "churn_intl_no = churn_df[churn_df['international_plan']=='No']\n",
        "print(f\"No. of Customers churning without having International plan is {churn_intl_no['international_plan'].value_counts()[0]}\")"
      ],
      "metadata": {
        "id": "kRcdHzOlBf4f"
      },
      "execution_count": null,
      "outputs": []
    },
    {
      "cell_type": "markdown",
      "source": [
        "#### Churn by Voice Mail plan"
      ],
      "metadata": {
        "id": "t4ePYgRc4QjR"
      }
    },
    {
      "cell_type": "code",
      "source": [
        "# Percentage of People with and without Voice mail Plan churning to other networks\n",
        "vmail_plan_churn = (df.groupby(['voice_mail_plan'])['churn'].mean()*100).reset_index(name='Churn %')\n",
        "print(vmail_plan_churn)\n",
        "\n",
        "# Total number of people churning with vmail plan\n",
        "churn_vmail_yes = churn_df[churn_df['voice_mail_plan']=='Yes']\n",
        "print(f\"\\nNo of Customers churning having vmail plan is {churn_vmail_yes['voice_mail_plan'].value_counts()[0]}\")\n",
        "\n",
        "# Total number of people churning without vmail plan\n",
        "churn_vmail_no = churn_df[churn_df['voice_mail_plan']=='No']\n",
        "print(f\"\\nNo of Customers churning not having vmail plan is {churn_vmail_no['voice_mail_plan'].value_counts()[0]}\")"
      ],
      "metadata": {
        "id": "E5XM8Y3PEIUE"
      },
      "execution_count": null,
      "outputs": []
    },
    {
      "cell_type": "markdown",
      "source": [
        "#### Churn by considering both plans"
      ],
      "metadata": {
        "id": "Ef4y3pG-UIGx"
      }
    },
    {
      "cell_type": "code",
      "source": [
        "# Customers churning having intl plan and vmail plan\n",
        "intl_vmail_yes = churn_df[(churn_df['international_plan'] == 'Yes') & (churn_df['voice_mail_plan'] == 'Yes')]\n",
        "if len(intl_vmail_yes) > 0:\n",
        "    print(f\"\\nNo of Customers churning having intl and vmail plan are {intl_vmail_yes['churn'].value_counts().get(0)}\")\n",
        "else:\n",
        "    print(\"\\nNo customers churning with both intl plan and vmail plan.\")\n",
        "\n",
        "# Customers churning having no intl plan and no vmail plan\n",
        "intl_vmail_no = churn_df[(churn_df['international_plan'] == 'No') & (churn_df['voice_mail_plan'] == 'No')]\n",
        "if len(intl_vmail_no) > 0:\n",
        "    print(f\"\\nNo of Customers churning having no intl plan and no vmail plan are {intl_vmail_no['churn'].value_counts().get(0)}\")\n",
        "else:\n",
        "    print(\"\\nNo customers churning with neither intl plan nor vmail plan.\")\n",
        "\n",
        "# Customers churning having intl plan but no vmail plan\n",
        "intl_yes_vmail_no = churn_df[(churn_df['international_plan'] == 'Yes') & (churn_df['voice_mail_plan'] == 'No')]\n",
        "if len(intl_yes_vmail_no) > 0:\n",
        "    print(f\"\\nNo of Customers churning having intl plan but no vmail plan are {intl_yes_vmail_no['churn'].value_counts().get(0)}\")\n",
        "else:\n",
        "    print(\"\\nNo customers churning with intl plan but no vmail plan.\")\n",
        "\n",
        "# Customers churning having no intl plan but vmail plan\n",
        "intl_no_vmail_yes = churn_df[(churn_df['international_plan'] == 'No') & (churn_df['voice_mail_plan'] == 'Yes')]\n",
        "if len(intl_no_vmail_yes) > 0:\n",
        "    print(f\"\\nNo of Customers churning having no intl plan but vmail plan are {intl_no_vmail_yes['churn'].value_counts().get(0)}\")\n",
        "else:\n",
        "    print(\"\\nNo customers churning with no intl plan but vmail plan.\")\n"
      ],
      "metadata": {
        "id": "2NvYTJhBEllW"
      },
      "execution_count": null,
      "outputs": []
    },
    {
      "cell_type": "code",
      "source": [
        "# no of customer not having both plan\n",
        "\n",
        "\n",
        "customers_with_no_plans = df[(df['international_plan'] == 'No') & (df['voice_mail_plan'] == 'No')]\n",
        "\n",
        "# Count the number of customers with no plans\n",
        "total_customers_with_no_plans = customers_with_no_plans['voice_mail_plan'].count()\n",
        "\n",
        "# Calculate the percentage of customers with both plans who churn\n",
        "churn_percentage = (customers_with_no_plans['churn'].value_counts().get(1) / total_customers_with_no_plans) * 100\n",
        "\n",
        "# Print the result\n",
        "print(f\"Number of customers with no International Plan and no Voice Mail Plan: {total_customers_with_no_plans}\")\n",
        "print(f\"Percentage of churned customers among them: {churn_percentage:.2f}%\")"
      ],
      "metadata": {
        "id": "FdqPGxkG7vMi"
      },
      "execution_count": null,
      "outputs": []
    },
    {
      "cell_type": "code",
      "source": [
        "# no of customer having both plan\n",
        "\n",
        "\n",
        "customers_with_both_plans = df[(df['international_plan'] == 'Yes') & (df['voice_mail_plan'] == 'Yes')]\n",
        "\n",
        "# Count the number of customers with both plans\n",
        "total_customers_with_both_plans = customers_with_both_plans['voice_mail_plan'].count()\n",
        "\n",
        "# Calculate the percentage of customers with both plans who churn\n",
        "churn_percentage = (customers_with_both_plans['churn'].value_counts().get(1) / total_customers_with_both_plans) * 100\n",
        "\n",
        "# Print the result\n",
        "print(f\"Number of customers with both International Plan and Voice Mail Plan: {total_customers_with_both_plans}\")\n",
        "print(f\"Percentage of churned customers among them: {churn_percentage:.2f}%\")\n",
        "\n"
      ],
      "metadata": {
        "id": "f9VMpGvCyps5"
      },
      "execution_count": null,
      "outputs": []
    },
    {
      "cell_type": "code",
      "source": [
        "# no of customer having int plan but no vmail plan\n",
        "\n",
        "customers_with_intl_plan_no_vmail = df[(df['international_plan'] == 'Yes') & (df['voice_mail_plan'] == 'No')]\n",
        "\n",
        "# Count the number of customers with International Plan and no Voice Mail Plan\n",
        "total_customers_intl_plan_no_vmail = customers_with_intl_plan_no_vmail['voice_mail_plan'].count()\n",
        "\n",
        "# Calculate the percentage of customers with International Plan and no Voice Mail Plan who churn\n",
        "churn_percentage_intl_plan_no_vmail = (customers_with_intl_plan_no_vmail['churn'].value_counts().get(1) / total_customers_intl_plan_no_vmail) * 100\n",
        "\n",
        "# Print the result\n",
        "print(f\"Number of customers with International Plan and no Voice Mail Plan: {total_customers_intl_plan_no_vmail}\")\n",
        "print(f\"Percentage of churned customers among them: {churn_percentage_intl_plan_no_vmail:.2f}%\")\n"
      ],
      "metadata": {
        "id": "fE-g9zDEzgvW"
      },
      "execution_count": null,
      "outputs": []
    },
    {
      "cell_type": "code",
      "source": [
        "# no of customer having no int plan but yes vmail plan\n",
        "\n",
        "\n",
        "customers_with_no_intl_plan_vmail_yes = df[(df['international_plan'] == 'No') & (df['voice_mail_plan'] == 'Yes')]\n",
        "\n",
        "# Count the number of customers with no International Plan but with Voice Mail Plan\n",
        "total_customers_no_intl_plan_vmail_yes = customers_with_no_intl_plan_vmail_yes['voice_mail_plan'].count()\n",
        "\n",
        "# Calculate the percentage of customers with no International Plan but with Voice Mail Plan who churn\n",
        "churn_percentage_no_intl_plan_vmail_yes = (customers_with_no_intl_plan_vmail_yes['churn'].value_counts().get(1) / total_customers_no_intl_plan_vmail_yes) * 100\n",
        "\n",
        "# Print the result\n",
        "print(f\"Number of customers with no International Plan but with Voice Mail Plan: {total_customers_no_intl_plan_vmail_yes}\")\n",
        "print(f\"Percentage of churned customers among them: {churn_percentage_no_intl_plan_vmail_yes:.2f}%\")\n"
      ],
      "metadata": {
        "id": "2al5sfkN0IUy"
      },
      "execution_count": null,
      "outputs": []
    },
    {
      "cell_type": "markdown",
      "source": [
        "\n",
        "\n",
        "1. **Churn Rate Overview:**\n",
        "   - The overall churn rate is 14.5%, which is a significant portion of the total customer base.\n",
        "   - It's crucial to understand the characteristics of churners to develop effective retention strategies.\n",
        "\n",
        "2. **International Plan and Churn:**\n",
        "   - Customers with an International Plan but no Voice Mail Plan have a high churn rate of 43.72%. This suggests that factors related to the International Plan may contribute to dissatisfaction or churn.\n",
        "   - Customers without an International Plan but with a Voice Mail Plan have a relatively low churn rate of 5.30%. This implies that having a Voice Mail Plan alone may not strongly influence churn.\n",
        "\n",
        "3. **Voice Mail Plan and Churn:**\n",
        "   - Customers without an International Plan and without a Voice Mail Plan have the highest churn rate, approximately 62%. This group should be a primary focus for understanding the reasons behind such high churn.\n",
        "   - Customers with both an International Plan and a Voice Mail Plan have a high churn rate of 39.13%. This suggests that having both plans does not necessarily lead to higher customer retention.\n",
        "\n",
        "4. **Combination of Plans:**\n",
        "   - The combination of having no International Plan and no Voice Mail Plan seems to be a significant factor in high churn, indicating that these customers might have specific needs or concerns that are not being addressed.\n",
        "   - The group with no International Plan but with a Voice Mail Plan has a lower churn rate, indicating that having a Voice Mail Plan might contribute positively to customer satisfaction.\n",
        "\n",
        "5. **Strategy Implications:**\n",
        "   - There is an opportunity to improve the retention strategy for customers without an International Plan and without a Voice Mail Plan. Understanding their specific needs and addressing any pain points may help reduce churn in this segment.\n",
        "   - The company could investigate the reasons behind the high churn rate for customers with an International Plan but no Voice Mail Plan and implement targeted initiatives to improve satisfaction in this group.\n",
        "   - Offering incentives or promotions to customers without an International Plan but with a Voice Mail Plan could be explored to further decrease the churn rate in this segment.\n",
        "\n",
        "6. **Holistic Approach:**\n",
        "   - It's essential to consider these insights in the context of other variables and factors that may impact churn, such as customer satisfaction surveys, customer support interactions, and market trends.\n",
        "\n",
        "These insights should guide further investigation and strategic planning to address specific needs and pain points of different customer segments. Regular monitoring and adaptation of strategies based on customer feedback and behavior will be crucial in improving overall customer retention."
      ],
      "metadata": {
        "id": "c67Af9mtTZC7"
      }
    },
    {
      "cell_type": "markdown",
      "source": [
        "#### poor connectivity states"
      ],
      "metadata": {
        "id": "IMt4ZH-27IzG"
      }
    },
    {
      "cell_type": "code",
      "source": [
        "# Poor Connectivity States\n",
        "# States Sorted with respect to international and voice mail plan\n",
        "state_intl_vmail_yes=intl_vmail_yes['state'].unique()\n",
        "state_intl_vmail_no =intl_vmail_no['state'].unique()\n",
        "state_intl_yes_vmail_no= intl_yes_vmail_no['state'].unique()\n",
        "state_intl_no_vmail_yes= intl_no_vmail_yes['state'].unique()\n",
        "\n",
        "# Intersection of 4 types of plan made\n",
        "inter_1 = set(state_intl_vmail_yes).intersection(set(state_intl_vmail_no))\n",
        "inter_2 = set(state_intl_yes_vmail_no).intersection(set(state_intl_no_vmail_yes))\n",
        "Intersection =set(inter_1).intersection(set(inter_2))\n",
        "print(f\"List of poor connectivity states are : {list(Intersection)}\")"
      ],
      "metadata": {
        "id": "zEWsLfH_UM9u"
      },
      "execution_count": null,
      "outputs": []
    },
    {
      "cell_type": "markdown",
      "source": [
        "#### Average of feature for churners and non churners"
      ],
      "metadata": {
        "id": "HrW1vsrW9yKQ"
      }
    },
    {
      "cell_type": "code",
      "source": [
        "numerical_columns = df.select_dtypes(include=['number']).columns.tolist()\n",
        "categorical_columns = df.select_dtypes(exclude=['number']).columns.tolist()"
      ],
      "metadata": {
        "id": "YG4wYeex9W3W"
      },
      "execution_count": null,
      "outputs": []
    },
    {
      "cell_type": "code",
      "source": [
        "# Average of feature for churners and non churners\n",
        "for col in numerical_columns:\n",
        "  print(df.groupby('churn')[col].mean().reset_index())\n",
        "  print()\n",
        "\n"
      ],
      "metadata": {
        "id": "pGCCjYM2XxkN"
      },
      "execution_count": null,
      "outputs": []
    },
    {
      "cell_type": "markdown",
      "source": [
        "Based on  average values for various features for churners (True) and non-churners (False)\n",
        "\n",
        "* **Number of Voicemail Messages:**\n",
        "   - Non-churners have a higher average number of voicemail messages (8.60) compared to churners (5.12). This could indicate that engagement with voicemail services is higher among customers who are less likely to churn.\n",
        "\n",
        "* **Total Day Minutes:**\n",
        "   - Churners, on average, have higher total day minutes (206.91) compared to non-churners (175.18). This might suggest that higher usage during daytime hours could be associated with a higher likelihood of churn.\n",
        "\n",
        "* **Total Day Charge:**\n",
        "   - Churners incur higher average day charges (35.18) compared to non-churners (29.78). This aligns with the observation of higher total day minutes among churners.\n",
        "\n",
        "* **Total Evening Minutes and Charges:**\n",
        "   - Churners, on average, have slightly higher total evening minutes and charges compared to non-churners. This suggests that usage patterns during evening hours may also play a role in churn.\n",
        "\n",
        "\n",
        "* **Customer Service Calls:**\n",
        "    - Churners, on average, make more customer service calls (2.23) compared to non-churners (1.45). This is a strong indicator that higher customer service interactions may be associated with a higher likelihood of churn.\n",
        "\n",
        "**Key Insights:**\n",
        "- Churners tend to have higher usage, especially during daytime and evening hours.\n",
        "- Higher customer service call volume is a significant indicator of churn.\n",
        "- Voicemail engagement is higher among non-churners.\n",
        "- Account length alone may not be a strong predictor of churn.\n"
      ],
      "metadata": {
        "id": "ytow03iLXq_C"
      }
    },
    {
      "cell_type": "code",
      "source": [
        "dx = df.copy()"
      ],
      "metadata": {
        "id": "ZsjtL1Li-BCC"
      },
      "execution_count": null,
      "outputs": []
    },
    {
      "cell_type": "markdown",
      "source": [
        "#### Creating new features"
      ],
      "metadata": {
        "id": "D9j1snht-wfI"
      }
    },
    {
      "cell_type": "code",
      "source": [
        "#creating total [calls-minuts-charge] without considering international calls\n",
        "dx[\"no_inter_total_calls\"]=dx['total_day_calls']+dx['total_eve_calls']+dx['total_night_calls']\n",
        "dx[\"no_inter_total_revenue\"]=dx['total_day_charge']+dx['total_eve_charge']+dx['total_night_charge']\n",
        "dx[\"no_inter_total_minutes\"]=dx['total_day_minutes']+dx['total_eve_minutes']+dx['total_night_minutes']\n",
        "\n",
        "# creating total columns with internationl [calls-minuts-charge]\n",
        "dx[\"total_calls\"]=dx['total_day_calls']+dx['total_eve_calls']+dx['total_night_calls']+dx['total_intl_calls']\n",
        "dx[\"total_revenue\"]=dx['total_day_charge']+dx['total_eve_charge']+df['total_night_charge']+dx['total_intl_charge']\n",
        "dx[\"total_minutes\"]=dx['total_day_minutes']+dx['total_eve_minutes']+dx['total_night_minutes']+dx['total_intl_minutes']"
      ],
      "metadata": {
        "id": "typkLyzDIeyx"
      },
      "execution_count": null,
      "outputs": []
    },
    {
      "cell_type": "markdown",
      "source": [
        " #### Revenue is generated with and without  international calls “charge”?"
      ],
      "metadata": {
        "id": "kDiT8vGUC54A"
      }
    },
    {
      "cell_type": "code",
      "source": [
        "# Revenue is generated without international calls “charge”?\n",
        "revenue_without_inter = dx[\"no_inter_total_revenue\"].sum()\n",
        "print(f\"Revenue is generated without international calls: ${revenue_without_inter}\")\n",
        "print()\n",
        "\n",
        "# Revenue is generated with international calls “charge”?\n",
        "total_revenue = dx[\"total_revenue\"].sum()\n",
        "print(f\"Revenue is generated with international calls: ${total_revenue}\")\n",
        "print()\n",
        "\n",
        "# Revenue is generated only from international calls\n",
        "print(f\"Revenue is generated only from international calls: ${round(total_revenue - revenue_without_inter,2)}\")"
      ],
      "metadata": {
        "id": "M9vGbgkTCtc8"
      },
      "execution_count": null,
      "outputs": []
    },
    {
      "cell_type": "markdown",
      "source": [
        "#### How much **revenue** generated from international calls *from people who **have international plan**?*\n",
        "\n",
        "#### also how much **revenue** generated from international calls *from people who **don’t have international plan**?*"
      ],
      "metadata": {
        "id": "_p9jcCmoFN8E"
      }
    },
    {
      "cell_type": "code",
      "source": [
        "# Calculate total cost of international calls for people with an international plan\n",
        "total_cost_intl_plan = df.loc[df['international_plan'] == 'Yes', 'total_intl_charge'].sum()\n",
        "\n",
        "# Calculate total cost of international calls for people without an international plan\n",
        "total_cost_no_intl_plan = df.loc[df['international_plan'] == 'No', 'total_intl_charge'].sum()\n",
        "\n",
        "print(f\"Revenue generated from international calls for people with international plan: ${total_cost_intl_plan:.2f}\")\n",
        "print()\n",
        "print(f\"Revenue generated from international calls for people without international plan: ${total_cost_no_intl_plan:.2f}\")"
      ],
      "metadata": {
        "id": "W1SoE5iHFPTs"
      },
      "execution_count": null,
      "outputs": []
    },
    {
      "cell_type": "markdown",
      "source": [
        "#### cost per min"
      ],
      "metadata": {
        "id": "1r54Ok3p_69o"
      }
    },
    {
      "cell_type": "code",
      "source": [
        "mins_per_call = dx[\"no_inter_total_minutes\"].sum()/ dx[\"no_inter_total_calls\"].sum()\n",
        "print(f\"Minute per call for Non-International calls: {mins_per_call:.2f} min per call\")\n",
        "print()\n",
        "\n",
        "charge_per_min = dx[\"no_inter_total_revenue\"].sum()/ dx[\"no_inter_total_minutes\"].sum()\n",
        "print(f\"Cost per Minute for Non-International Minutes: ${charge_per_min:.2f} per minute\")\n",
        "print()\n",
        "\n",
        "mins_per_call_int = dx[\"total_intl_minutes\"].sum()/ dx[\"total_intl_calls\"].sum()\n",
        "print(f\"Minute per call for International calls: {mins_per_call_int:.2f} min per call\")\n",
        "print()\n",
        "\n",
        "charge_per_min_int =  dx[\"total_intl_charge\"].sum() /dx[\"total_intl_minutes\"].sum()\n",
        "print(f\"Cost per Minute for International Minutes: ${charge_per_min_int:.2f} per minute\")"
      ],
      "metadata": {
        "id": "vGeIJSIBdacP"
      },
      "execution_count": null,
      "outputs": []
    },
    {
      "cell_type": "code",
      "source": [],
      "metadata": {
        "id": "tIWWQ6c-nKHy"
      },
      "execution_count": null,
      "outputs": []
    },
    {
      "cell_type": "code",
      "source": [
        "# Calculate total number of international minutes for people with an international plan\n",
        "total_minutes_intl_plan = df.loc[df['international_plan'] == 'Yes', 'total_intl_minutes'].sum()\n",
        "\n",
        "# Calculate total number of international minutes for people without an international plan\n",
        "total_minutes_no_intl_plan = df.loc[df['international_plan'] == 'No', 'total_intl_minutes'].sum()\n",
        "\n",
        "# Calculate cost per minute for people with an international plan\n",
        "cost_per_minute_intl_plan = total_cost_intl_plan / total_minutes_intl_plan\n",
        "\n",
        "# Calculate cost per minute for people without an international plan\n",
        "cost_per_minute_no_intl_plan = total_cost_no_intl_plan / total_minutes_no_intl_plan\n",
        "\n",
        "print(f\"Cost per minute for people with an international plan: ${cost_per_minute_intl_plan:.2f}\")\n",
        "print()\n",
        "print(f\"Cost per minute for people without an international plan: ${cost_per_minute_no_intl_plan:.2f}\")"
      ],
      "metadata": {
        "id": "AbaxKvDUFovl"
      },
      "execution_count": null,
      "outputs": []
    },
    {
      "cell_type": "code",
      "source": [
        "# Calculate the average cost of international calls for people without an international plan\n",
        "avg_cost_no_intl_plan = df.loc[df['international_plan'] == 'No', 'total_intl_charge'].mean()\n",
        "print(f\"Average cost of international calls for people without an international plan: ${avg_cost_no_intl_plan:.2f}\")\n",
        "print()\n",
        "\n",
        "# Calculate the average cost of international calls for people with an international plan\n",
        "avg_cost_intl_plan = df.loc[df['international_plan'] == 'Yes', 'total_intl_charge'].mean()\n",
        "print(f\"Average cost of international calls for people with an international plan: ${avg_cost_intl_plan:.2f}\")\n"
      ],
      "metadata": {
        "id": "4IbbhBjMj1cu"
      },
      "execution_count": null,
      "outputs": []
    },
    {
      "cell_type": "code",
      "source": [
        "# Group by 'international_plan' and 'churn', and calculate the average charge for each group\n",
        "avg_charge_df = df.groupby(['international_plan', 'churn'])['total_intl_charge'].mean().reset_index(name='avg_intl_charge')\n",
        "\n",
        "# Print the resulting DataFrame\n",
        "avg_charge_df\n"
      ],
      "metadata": {
        "id": "C2oFMl-boY1l"
      },
      "execution_count": null,
      "outputs": []
    },
    {
      "cell_type": "markdown",
      "source": [
        "Based on the provided information, let's draw some conclusions:\n",
        "\n",
        "1. **Average International Charges:**\n",
        "   - Customers with an international plan (Yes) have, on average, a higher total international charge when compared to those without an international plan (No).\n",
        "   - Churning customers (True) tend to have slightly higher average international charges compared to non-churning customers (False) for both international plan categories.\n",
        "\n",
        "2. **Average International Minutes:**\n",
        "   - Customers with an international plan (Yes) have, on average, higher international minutes compared to those without an international plan (No).\n",
        "   - Churning customers (True) tend to have higher average international minutes compared to non-churning customers (False) for both international plan categories.\n",
        "\n",
        "**Key Insights:**\n",
        "- While customers with an international plan tend to have higher average international charges, they also enjoy more international minutes on average.\n",
        "- Churning customers tend to have higher average international charges and international minutes, indicating that international usage may play a role in customer churn.\n",
        "- The difference in average international minutes between churners and non-churners is more pronounced for customers with an international plan.\n"
      ],
      "metadata": {
        "id": "2OPcZkGLqE-C"
      }
    },
    {
      "cell_type": "code",
      "source": [
        "avg_cost_no_intl_plan = churn_df.loc[churn_df['international_plan'] == 'No', 'total_intl_charge'].mean()\n",
        "print(f\"Average cost of international calls for people without an international plan: ${avg_cost_no_intl_plan:.2f}\")\n",
        "print()\n",
        "\n",
        "# Calculate the average cost of international calls for people with an international plan\n",
        "avg_cost_intl_plan = churn_df.loc[churn_df['international_plan'] == 'Yes', 'total_intl_charge'].mean()\n",
        "print(f\"Average cost of international calls for people with an international plan: ${avg_cost_intl_plan:.2f}\")"
      ],
      "metadata": {
        "id": "W3d2OpNKnuVs"
      },
      "execution_count": null,
      "outputs": []
    },
    {
      "cell_type": "code",
      "source": [
        "# Drop rows with missing values in 'total_intl_charge' or 'total_intl_minutes'\n",
        "df_cleaned = df.dropna(subset=['total_intl_charge', 'total_intl_minutes'])\n",
        "\n",
        "# Calculate total cost of international calls for people with an international plan\n",
        "total_cost_intl_plan = df_cleaned.loc[df_cleaned['international_plan'] == 'Yes', 'total_intl_charge'].sum()\n",
        "\n",
        "# Calculate total cost of international calls for people without an international plan\n",
        "total_cost_no_intl_plan = df_cleaned.loc[df_cleaned['international_plan'] == 'No', 'total_intl_charge'].sum()\n",
        "\n",
        "print(f\"Revenue generated from international calls for people with international plan: ${total_cost_intl_plan:.2f}\")\n",
        "print()\n",
        "print(f\"Revenue generated from international calls for people without international plan: ${total_cost_no_intl_plan:.2f}\")\n",
        "\n",
        "# Calculate total number of international minutes for people with an international plan\n",
        "total_minutes_intl_plan = df_cleaned.loc[df_cleaned['international_plan'] == 'Yes', 'total_intl_minutes'].sum()\n",
        "\n",
        "# Calculate total number of international minutes for people without an international plan\n",
        "total_minutes_no_intl_plan = df_cleaned.loc[df_cleaned['international_plan'] == 'No', 'total_intl_minutes'].sum()\n",
        "\n",
        "# Calculate cost per minute for people with an international plan\n",
        "cost_per_minute_intl_plan = total_cost_intl_plan / total_minutes_intl_plan\n",
        "\n",
        "# Calculate cost per minute for people without an international plan\n",
        "cost_per_minute_no_intl_plan = total_cost_no_intl_plan / total_minutes_no_intl_plan\n",
        "\n",
        "print(f\"Cost per minute for people with an international plan: ${cost_per_minute_intl_plan:.2f}\")\n",
        "print()\n",
        "print(f\"Cost per minute for people without an international plan: ${cost_per_minute_no_intl_plan:.2f}\")\n"
      ],
      "metadata": {
        "id": "7nwKWHMXjmDy"
      },
      "execution_count": null,
      "outputs": []
    },
    {
      "cell_type": "markdown",
      "source": [
        "#### Churn with customer service calls"
      ],
      "metadata": {
        "id": "z8y1mwd5AQIL"
      }
    },
    {
      "cell_type": "code",
      "source": [
        "# Customer Service Call data\n",
        "print(\"No of unique service calls made :\", df['customer_service_calls'].nunique())\n",
        "\n",
        "# Percentage of churning based on the customer service calls made\n",
        "(df.groupby(['customer_service_calls'])['churn'].mean()*100).reset_index(name='Perc_churned')"
      ],
      "metadata": {
        "id": "Qj-fohbvoi0a"
      },
      "execution_count": null,
      "outputs": []
    },
    {
      "cell_type": "code",
      "source": [
        "numerical_columns = df.select_dtypes(include=['number']).columns.tolist()\n",
        "categorical_columns = df.select_dtypes(exclude=['number']).columns.tolist()\n",
        "\n",
        "# Print the lists of numerical and categorical columns\n",
        "print(\"Numerical Columns:\", numerical_columns)\n",
        "print(\"Categorical Columns:\", categorical_columns)"
      ],
      "metadata": {
        "id": "ChLkkDOKHxr6"
      },
      "execution_count": null,
      "outputs": []
    },
    {
      "cell_type": "markdown",
      "source": [
        "### What all manipulations have you done and insights you found?"
      ],
      "metadata": {
        "id": "MSa1f5Uengrz"
      }
    },
    {
      "cell_type": "markdown",
      "source": [
        "In data wrangling the first thing we did is to find out how customers have churn and how many are not and their rate. We know that plotting charts will give us more visual representation. So from this we got to know that there are ~14.5 % churn customers are there.\n",
        "\n",
        "After that we did some manipulations on basis of area code which we tabularised it.\n",
        "\n",
        "![download (1).png](data:image/png;base64,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)\n",
        "\n",
        "From above table we can see that more customer are from area code 415 but if we check the distribution of churn it almost same in all area code.\n",
        "* **cost per min**\n",
        "     \n",
        "  - For International calling with and without *International plan*\n",
        "\n",
        "    - With : $0.27\n",
        "\n",
        "    - Without : $0.27\n",
        "  - for international and non international call ( without considering plan)\n",
        "    - international : $0.27\n",
        "    - non international : $0.10\n",
        "\n",
        "\n",
        "**Churn on basis of international plan**\n",
        "\n",
        "In this we found out that those who has international plan their churn rate is higher, almost 42.41 % customers are churned.\n",
        "\n",
        "\n",
        "**Churn on basis of International & Voice mail plan**\n",
        "\n",
        "Total Customer churn are :- 483\n",
        "\n",
        "![download (2).png](data:image/png;base64,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)\n",
        "\n",
        "So, from this table we can say that those who has neither international plan nor having vmail plan are churned high, almost around 62 %."
      ],
      "metadata": {
        "id": "9ytXndWXr46I"
      }
    },
    {
      "cell_type": "markdown",
      "source": [
        "1) corrected column names <br>\n",
        "\n",
        "2) Label encoding to  international_plans, voice_mail_plan, churn columns <br>\n",
        "\n",
        "3) Area code should be a categorical column <br>\n",
        "\n",
        "4)  Full state names are more readable and intuitive for individuals who may not be familiar with state abbreviations. so using full names.\n"
      ],
      "metadata": {
        "id": "LbyXE7I1olp8"
      }
    },
    {
      "cell_type": "markdown",
      "source": [
        "1) **Total day charge is comparatively higher for the users who has churned**\n",
        "```\n",
        "   churn     Mean total_day_charge\n",
        "0  No         29.780421\n",
        "1  Yes        35.175921\n",
        "\n",
        "```\n",
        "\n",
        "\n",
        "\n",
        "```\n",
        "   churn  total_day_minutes\n",
        "0  False         175.175754\n",
        "1   True         206.914079\n",
        "```\n",
        "\n",
        "\n",
        "1) **Users Having inernational plan activated are more likely to churn**\n",
        "\n",
        "```\n",
        "  international_plan    Churn %\n",
        "0                 No  11.495017\n",
        "1                Yes  42.414861\n",
        "```\n",
        "\n",
        "\n",
        "\n",
        "```\n",
        "international_plan\tchurn\tavg_intl_charge\n",
        "\n",
        "  Yes\t           False\t      2.640538\n",
        "  Yes\t           True\t       3.181314\n",
        "```\n",
        "\n",
        "\n",
        "\n",
        "3) **Churners based on int and vmail plan**\n",
        "\n",
        "    i) having both plan 39% churn rate\n",
        "\n",
        "    ii) having int plan but no vmail plan 43% churn rate\n",
        "\n",
        "4) states having churning % greater than 20%"
      ],
      "metadata": {
        "id": "HI8hGQPstPSr"
      }
    },
    {
      "cell_type": "markdown",
      "source": [
        "## ***4. Data Vizualization, Storytelling & Experimenting with charts : Understand the relationships between variables***"
      ],
      "metadata": {
        "id": "GF8Ens_Soomf"
      }
    },
    {
      "cell_type": "markdown",
      "source": [
        "# **Univariate analysis**"
      ],
      "metadata": {
        "id": "tfeNzPNZHR1w"
      }
    },
    {
      "cell_type": "markdown",
      "source": [
        "## ***Categorical columns***"
      ],
      "metadata": {
        "id": "tRLfwteUHcc5"
      }
    },
    {
      "cell_type": "code",
      "source": [
        "\n",
        "total_count = len(df)\n",
        "\n",
        "for column in categorical_columns:\n",
        "    print(f\"Column: {column}\")\n",
        "    value_counts = df[column].value_counts()\n",
        "    percentage_values = (value_counts / total_count) * 100\n",
        "\n",
        "    for value, count in value_counts.items():\n",
        "        percentage = percentage_values[value]\n",
        "        print(f\"{value}: Count = {count}, Percentage = {percentage:.2f}%\")\n",
        "\n",
        "    print(\"\\n\")"
      ],
      "metadata": {
        "id": "Ps4lYnQ3EiF5"
      },
      "execution_count": null,
      "outputs": []
    },
    {
      "cell_type": "markdown",
      "source": [
        "### Chart-1) : Visualization of Dependent Variable *(Donut Chart)*"
      ],
      "metadata": {
        "id": "Qzkxg6wGgMRO"
      }
    },
    {
      "cell_type": "code",
      "source": [
        "churn_percentage = (df['churn'].value_counts() / df.shape[0] * 100).round(2).astype(str) + '%'\n",
        "churn_percentage"
      ],
      "metadata": {
        "id": "dfvxW1ObbWk_"
      },
      "execution_count": null,
      "outputs": []
    },
    {
      "cell_type": "code",
      "source": [
        "data = df['churn'].value_counts()\n",
        "\n",
        "plt.pie(data.values, labels=['Not Churned', 'Churned'], autopct='%1.1f%%', startangle=90)\n",
        "centre_circle = plt.Circle((0, 0), 0.50, fc='white')\n",
        "fig = plt.gcf()\n",
        "fig.gca().add_artist(centre_circle)\n",
        "\n",
        "plt.axis('equal')\n",
        "plt.legend(loc='upper left')\n",
        "plt.title('Customer Churn Rate (%)')\n",
        "plt.show()\n",
        "\n"
      ],
      "metadata": {
        "id": "Mv7aZWrla1j9"
      },
      "execution_count": null,
      "outputs": []
    },
    {
      "cell_type": "markdown",
      "source": [
        "##### 1. Why did you pick the specific chart?"
      ],
      "metadata": {
        "id": "dcB1bMN8c3vf"
      }
    },
    {
      "cell_type": "markdown",
      "source": [
        "I chose a donut chart to visually represent the Churn Distribution due to its aesthetic appeal and clear depiction of the proportion of Churned and Not Churned categories. The central hole enhances visual engagement while maintaining data clarity, making it an effective choice for this categorical analysis."
      ],
      "metadata": {
        "id": "EPo_FUpxc3vg"
      }
    },
    {
      "cell_type": "markdown",
      "source": [
        "##### 2. What is/are the insight(s) found from the chart?"
      ],
      "metadata": {
        "id": "msIC1CYbc3vh"
      }
    },
    {
      "cell_type": "markdown",
      "source": [
        "The donut chart provides a visual insight into the churn distribution, revealing that approximately 14.5% of customers have churned. This indicates the proportion of customers who ended their subscription, giving a quick and clear understanding of the overall churn rate in the dataset."
      ],
      "metadata": {
        "id": "1Ot8zznXc3vh"
      }
    },
    {
      "cell_type": "markdown",
      "source": [
        "##### 3. Will the gained insights help creating a positive business impact?\n",
        "Are there any insights that lead to negative growth? Justify with specific reason."
      ],
      "metadata": {
        "id": "WYl2myO6c3vh"
      }
    },
    {
      "cell_type": "markdown",
      "metadata": {
        "id": "3cspy4FjqxJW"
      },
      "source": [
        "In ideal world the customer churn rate in telecom industry is in between 15 % to 20 % . In this we have 14.5 % churn rate which is not high but still churning customer is bad for business.\n",
        "\n",
        "It's easy to loose customers but too difficult to aquire one. One churned cutomer will make 3-4 customers away those might be acquired by your teleservice provider with \"POWER OF WORDS\".\n",
        "\n",
        "So, definitely churn rate insight is very helpful for further decisions."
      ]
    },
    {
      "cell_type": "markdown",
      "source": [
        "\n",
        "- *Positive Impact:* The pie chart's insight into a 14.5% churn rate provides a quick and clear understanding of the overall churn in the dataset. This information can guide strategic efforts to improve customer retention and loyalty.\n",
        "- *Negative Growth:* If the churn rate is considered high for the industry or business standards, it may lead to negative growth, indicating a potential problem in customer satisfaction and retention strategies.\n"
      ],
      "metadata": {
        "id": "tEp0qy2tc3vi"
      }
    },
    {
      "cell_type": "markdown",
      "source": [
        "### Chart - 2)   Column wise Count plot"
      ],
      "metadata": {
        "id": "SuYhuRk3gX9Q"
      }
    },
    {
      "cell_type": "code",
      "source": [
        "# Distribution of categorical columns using count plots\n",
        "categorical_col = [ 'area_code', 'international_plan', 'voice_mail_plan', 'churn']\n",
        "for column in categorical_col:\n",
        "    plt.figure(figsize=(7, 7))\n",
        "    ax = sns.countplot(data=df, x=column, palette='Set2')\n",
        "\n",
        "    # Adding annotations on top of the bars\n",
        "    for p in ax.patches:\n",
        "        ax.annotate(f'{p.get_height()}', (p.get_x() + p.get_width() / 2., p.get_height()),\n",
        "                    ha='center', va='center', xytext=(0, 10), textcoords='offset points')\n",
        "\n",
        "    plt.xlabel(column)\n",
        "    plt.ylabel('Count')\n",
        "    plt.title(f'Count Plot of {column}')\n",
        "    # plt.xticks(rotation=)\n",
        "\n",
        "\n",
        "    # Show the plot\n",
        "    plt.show()\n",
        "\n",
        "    # Close the plot to avoid overlapping when creating the next plot\n",
        "    plt.close()\n"
      ],
      "metadata": {
        "id": "-2m__42QLmd8"
      },
      "execution_count": null,
      "outputs": []
    },
    {
      "cell_type": "code",
      "source": [
        "# Count plot for states\n",
        "\n",
        "# Get the counts for each state\n",
        "state_counts = df['state'].value_counts()\n",
        "\n",
        "# Sort the states by count\n",
        "sorted_states = state_counts.index\n",
        "\n",
        "# Create a countplot with sorted states\n",
        "plt.figure(figsize=(12, 5))\n",
        "ax = sns.countplot(data=df, x='state', order=sorted_states)\n",
        "\n",
        "# Highlight bars with max and min counts\n",
        "max_count_state = state_counts.idxmax()\n",
        "min_count_state = state_counts.idxmin()\n",
        "\n",
        "# Get the index of the bars corresponding to max and min counts\n",
        "max_index = sorted_states.get_loc(max_count_state)\n",
        "min_index = sorted_states.get_loc(min_count_state)\n",
        "\n",
        "# Highlight bars by setting color\n",
        "ax.patches[max_index].set_facecolor('red')  # Highlight the bar with max count in red\n",
        "ax.patches[min_index].set_facecolor('green')  # Highlight the bar with min count in green\n",
        "\n",
        "\n",
        "plt.xlabel('State')\n",
        "plt.ylabel('Count')\n",
        "plt.title('Count Plot of State ')\n",
        "plt.xticks(rotation=90)\n",
        "\n",
        "plt.show()\n",
        "plt.close()\n"
      ],
      "metadata": {
        "id": "JulQ1tt3z7Zc"
      },
      "execution_count": null,
      "outputs": []
    },
    {
      "cell_type": "markdown",
      "source": [
        "##### 1. Why did you pick the specific chart?"
      ],
      "metadata": {
        "id": "qudqov8MQL7c"
      }
    },
    {
      "cell_type": "markdown",
      "source": [
        "**countplot** is suitable for visualizing categorical data as it efficiently displays the count of each category, offering a quick overview of the distribution of categorical variables."
      ],
      "metadata": {
        "id": "kP8ml9pwQhR0"
      }
    },
    {
      "cell_type": "markdown",
      "source": [
        "##### 2. What is/are the insight(s) found from the chart?"
      ],
      "metadata": {
        "id": "Gr-tsH9tQL7d"
      }
    },
    {
      "cell_type": "markdown",
      "source": [
        "\n",
        "\n",
        "1) **User Counts by Area Code:**\n",
        "This chart shows that most users are in the 415 area code. There are about the same number of users in the 510 and 408 area codes.\n",
        "\n",
        "2) **Distribution of Users with International Plans:** This chart illustrates that the majority of our users, around 90%, do not have an international plan, indicating a low adoption of this service among the customer base.\n",
        "\n",
        "3) **Distribution of Users with Voice Mail Plans:** According to the chart, approximately 27.66% of our users have opted for the voicemail plan, suggesting a moderate level of interest in this feature.\n",
        "\n",
        "4) **Customer Distribution Across States:** This chart highlights that West Virginia has the highest customer count, contrasting with California, which has the lowest number of customers compared to other states.\n",
        "\n",
        "5) We will see the distribution of dependent variable in next graph\n",
        "\n"
      ],
      "metadata": {
        "id": "FZU71O0dRseG"
      }
    },
    {
      "cell_type": "markdown",
      "source": [
        "##### 3. Will the gained insights help creating a positive business impact?\n",
        "\n",
        "##### Are there any insights that lead to negative growth? Justify with specific reason."
      ],
      "metadata": {
        "id": "P-bKU3uRQL7d"
      }
    },
    {
      "cell_type": "markdown",
      "source": [
        "1) **Concentration in Area Code 415:**\n",
        "   - *Positive Impact:* Enables targeted marketing and resource allocation.\n",
        "   - *Negative Growth:* Unlikely, as concentrating resources strategically can be positive.\n",
        "\n",
        "2) **Low Adoption of International Plan:**\n",
        "   - *Positive Impact:* Identifies opportunities for promoting international plans.\n",
        "   - *Negative Growth:* Possible if unaddressed, as it indicates missed revenue opportunities.\n",
        "\n",
        "3) **Moderate Voicemail Plan Adoption:**\n",
        "   - *Positive Impact:* Allows for targeted promotions and improved customer engagement.\n",
        "   - *Negative Growth:* Potential if adoption remains stagnant and the plan is a significant revenue driver.\n",
        "\n",
        "4) **State-wise Customer Distribution:**\n",
        "   - *Positive Impact:* Informs tailored strategies for marketing and service improvements.\n",
        "   - *Negative Growth:* Unlikely from the insight itself, but not addressing low customer counts in certain states could hinder business expansion."
      ],
      "metadata": {
        "id": "PYw1KAlLc5NR"
      }
    },
    {
      "cell_type": "markdown",
      "source": [
        "## ***Numerical Columns***"
      ],
      "metadata": {
        "id": "R_JXlIGef3Al"
      }
    },
    {
      "cell_type": "code",
      "source": [
        "numerical_columns"
      ],
      "metadata": {
        "id": "A3wVG49ghBTU"
      },
      "execution_count": null,
      "outputs": []
    },
    {
      "cell_type": "markdown",
      "source": [
        "### Chart - 3  Distribution of [Call, Call duration and Charges] Across Different Times of Day  (**Box plot , KDE plot**)"
      ],
      "metadata": {
        "id": "AJhzwS4whU4s"
      }
    },
    {
      "cell_type": "markdown",
      "source": [
        "#### Call Distribution Across Different Times of Day"
      ],
      "metadata": {
        "id": "ghhjZQ43U72D"
      }
    },
    {
      "cell_type": "code",
      "source": [
        "import matplotlib.pyplot as plt\n",
        "import seaborn as sns\n",
        "\n",
        "plt.figure(figsize=(14, 6))\n",
        "\n",
        "plt.subplot(1, 3, 1)\n",
        "sns.boxplot(data=df, y='total_day_calls', color='lightblue')\n",
        "plt.ylabel('Total Day Calls', fontsize=12)\n",
        "plt.ylim(bottom=0, top=max(df['total_day_calls']))  # Set common y-axis limits\n",
        "\n",
        "plt.subplot(1, 3, 2)\n",
        "sns.boxplot(data=df, y='total_eve_calls', color='lightgreen')\n",
        "plt.ylabel('Total Eve Calls', fontsize=12)\n",
        "plt.ylim(bottom=0, top=max(df['total_eve_calls']))\n",
        "\n",
        "plt.subplot(1, 3, 3)\n",
        "sns.boxplot(data=df, y='total_night_calls', color='orange')\n",
        "plt.ylabel('Total Night Calls', fontsize=12)\n",
        "plt.ylim(bottom=0, top=max(df['total_night_calls']))\n",
        "\n",
        "plt.suptitle('Call Distribution Across Different Times of Day', fontsize=16)  # Overall title\n",
        "\n",
        "plt.subplots_adjust(wspace=0.4)\n",
        "plt.show()\n"
      ],
      "metadata": {
        "id": "P_DoPtCUhaYH"
      },
      "execution_count": null,
      "outputs": []
    },
    {
      "cell_type": "markdown",
      "source": [
        "##### 1. Why did you pick the specific chart?"
      ],
      "metadata": {
        "id": "t6dVpIINYklI"
      }
    },
    {
      "cell_type": "markdown",
      "source": [
        "I chose boxplots for 'total_day_calls,' 'total_eve_calls,' and 'total_night_calls' because they effectively illustrate the distribution of numerical data, showcasing key statistics like median and quartiles. This visualization choice allows for a clear comparison of call distributions across different times of the day. Boxplots are particularly suitable for displaying variations in multiple categories, making it easy to observe and compare data distribution characteristics."
      ],
      "metadata": {
        "id": "5aaW0BYyYklI"
      }
    },
    {
      "cell_type": "markdown",
      "source": [
        "##### 2. What is/are the insight(s) found from the chart?"
      ],
      "metadata": {
        "id": "ijmpgYnKYklI"
      }
    },
    {
      "cell_type": "markdown",
      "source": [
        "From above plots can see that more calls are made in the morning with respect to the evening and night when it is the lowest"
      ],
      "metadata": {
        "id": "PSx9atu2YklI"
      }
    },
    {
      "cell_type": "markdown",
      "source": [
        "##### 3. Will the gained insights help creating a positive business impact?\n",
        "Are there any insights that lead to negative growth? Justify with specific reason."
      ],
      "metadata": {
        "id": "-JiQyfWJYklI"
      }
    },
    {
      "cell_type": "markdown",
      "source": [
        "**Morning Call Peak:** The graph shows that more calls happen in the morning compared to the evening and night, peaking during those early hours.\n",
        "\n",
        "**Impact on Business:**\n",
        "- *Positive Impact:* Knowing about the morning peak helps the business better plan staff schedules and promotions, making customers happier.\n",
        "\n",
        "- *Negative Growth:* Ignoring the busy morning time might mean missing chances to make customers happier and could lead to slower growth for the business."
      ],
      "metadata": {
        "id": "BcBbebzrYklV"
      }
    },
    {
      "cell_type": "markdown",
      "source": [
        "#### Call Duration Distribution Across Different Times of Day"
      ],
      "metadata": {
        "id": "nOrLtcocXndZ"
      }
    },
    {
      "cell_type": "code",
      "source": [
        "plt.figure(figsize=(14, 6))\n",
        "\n",
        "plt.subplot(1, 3, 1)\n",
        "sns.boxplot(data=df, y='total_day_minutes', color='lightblue')\n",
        "plt.ylabel('Total Day Minutes', fontsize=12)\n",
        "plt.ylim(bottom=0)\n",
        "\n",
        "\n",
        "plt.subplot(1, 3, 2)\n",
        "sns.boxplot(data=df, y='total_eve_minutes', color='lightgreen')\n",
        "plt.ylabel('Total Eve Minutes', fontsize=12)\n",
        "plt.ylim(bottom=0)\n",
        "\n",
        "\n",
        "plt.subplot(1, 3, 3)\n",
        "sns.boxplot(data=df, y='total_night_minutes', color='orange')\n",
        "plt.ylabel('Total Night Minutes', fontsize=12)\n",
        "plt.ylim(bottom=0)\n",
        "\n",
        "plt.suptitle('Call Duration Distribution Across Different Times of Day', fontsize=16)  # Overall title\n",
        "\n",
        "plt.subplots_adjust(wspace=0.4)\n",
        "\n",
        "plt.show()\n"
      ],
      "metadata": {
        "id": "zZzUnwrwlf8H"
      },
      "execution_count": null,
      "outputs": []
    },
    {
      "cell_type": "markdown",
      "source": [
        "##### 1. Why did you pick the specific chart?"
      ],
      "metadata": {
        "id": "fge-S5ZAYoAp"
      }
    },
    {
      "cell_type": "markdown",
      "source": [
        "I chose boxplots for 'total_day_minutes,' 'total_eve_minutes,' and 'total_night_minutes' because they effectively showcase the distribution of call duration, highlighting key statistics like median and quartiles. This visualization choice allows for a clear comparison of call duration across different times of the day. Boxplots are especially suitable for revealing variations in multiple categories, providing a concise summary of the data distribution."
      ],
      "metadata": {
        "id": "5dBItgRVYoAp"
      }
    },
    {
      "cell_type": "markdown",
      "source": [
        "##### 2. What is/are the insight(s) found from the chart?"
      ],
      "metadata": {
        "id": "85gYPyotYoAp"
      }
    },
    {
      "cell_type": "markdown",
      "source": [
        "* Despite having more calls made during the day, we can see that users do not spend longer time on the calls in the day time.\n",
        "* Users tend to talk for longer time in the evening than other times."
      ],
      "metadata": {
        "id": "4jstXR6OYoAp"
      }
    },
    {
      "cell_type": "markdown",
      "source": [
        "##### 3. Will the gained insights help creating a positive business impact?\n",
        "Are there any insights that lead to negative growth? Justify with specific reason."
      ],
      "metadata": {
        "id": "RoGjAbkUYoAp"
      }
    },
    {
      "cell_type": "markdown",
      "source": [
        "\n",
        "**Impact on Business:**\n",
        "- **Positive Impact:** Understanding that people tend to talk longer in the evening can help the company make smarter decisions. For instance, they could create special offers or improve services during the busy evening hours when more customers are on calls. This might include providing extra minutes, reducing costs, or offering other perks. By doing this, the company could make customers happier and more satisfied, leading to a better overall experience.\n",
        "\n",
        "- **Negative Growth:** If the business fails to leverage the insight about shorter morning calls and longer evening calls, it may miss opportunities to tailor services or promotions, potentially leading to stagnation in customer engagement and business growth. Ignoring patterns in call duration might result in misaligned strategies and lower satisfaction during peak usage times."
      ],
      "metadata": {
        "id": "zfJ8IqMcYoAp"
      }
    },
    {
      "cell_type": "markdown",
      "source": [
        "#### Charge Distribution Across Different Times of Day"
      ],
      "metadata": {
        "id": "jeQ285CDZeeb"
      }
    },
    {
      "cell_type": "code",
      "source": [
        "sns.kdeplot(df['total_day_charge'], color='blue', fill=True, label='Day Charge')\n",
        "sns.kdeplot(df['total_eve_charge'], color='green', fill=True, label='Evening Charge')\n",
        "sns.kdeplot(df['total_night_charge'], color='orange', fill=True, label='Night Charge')\n",
        "\n",
        "plt.legend()\n",
        "plt.xlabel('Charge Amount')\n",
        "plt.ylabel('Density')\n",
        "plt.title('Charge Distribution Across Different Times of Day')\n",
        "\n",
        "plt.show()\n",
        "\n"
      ],
      "metadata": {
        "id": "vP47Sa-CZ7rN"
      },
      "execution_count": null,
      "outputs": []
    },
    {
      "cell_type": "code",
      "source": [
        "plt.figure(figsize=(14, 6))\n",
        "\n",
        "plt.subplot(1, 3, 1)\n",
        "sns.boxplot(data=df, y='total_day_charge', color='lightblue')\n",
        "plt.ylabel('Total Day Charge', fontsize=12)\n",
        "plt.ylim(bottom=0)\n",
        "\n",
        "\n",
        "plt.subplot(1, 3, 2)\n",
        "sns.boxplot(data=df, y='total_eve_charge', color='lightgreen')\n",
        "plt.ylabel('Total Eve Charge', fontsize=12)\n",
        "plt.ylim(bottom=0)\n",
        "\n",
        "plt.subplot(1, 3, 3)\n",
        "sns.boxplot(data=df, y='total_night_charge', color='orange')\n",
        "plt.ylabel('Total Night Charge', fontsize=12)\n",
        "plt.ylim(bottom=0)\n",
        "\n",
        "plt.suptitle('Charge Distribution Across Different Times of Day', fontsize=16)  # Overall title\n",
        "\n",
        "plt.subplots_adjust(wspace=0.4)\n",
        "\n",
        "plt.show()\n"
      ],
      "metadata": {
        "id": "irlUoxc8YrdO"
      },
      "execution_count": null,
      "outputs": []
    },
    {
      "cell_type": "markdown",
      "source": [
        "##### 1. Why did you pick the specific chart?"
      ],
      "metadata": {
        "id": "iky9q4vBYrdO"
      }
    },
    {
      "cell_type": "markdown",
      "source": [
        "I chose boxplots for 'total_day_charge,' 'total_eve_charge,' and 'total_night_charge' because they effectively visualize the distribution of call charges, emphasizing key statistics like median and quartiles. This choice allows for a clear comparison of charge distribution across different times of the day. Boxplots succinctly summarize the variability in multiple categories, offering insights into how charges vary during specific periods, which is essential for understanding customer behavior and optimizing pricing strategies."
      ],
      "metadata": {
        "id": "aJRCwT6DYrdO"
      }
    },
    {
      "cell_type": "markdown",
      "source": [
        "##### 2. What is/are the insight(s) found from the chart?"
      ],
      "metadata": {
        "id": "F6T5p64dYrdO"
      }
    },
    {
      "cell_type": "markdown",
      "source": [
        "The charges are maximum in the day time then comes evening and lowest in the night time.\n",
        "These plots are in conjunction with the minutes spoken."
      ],
      "metadata": {
        "id": "Xx8WAJvtYrdO"
      }
    },
    {
      "cell_type": "markdown",
      "source": [
        "##### 3. Will the gained insights help creating a positive business impact?\n",
        "Are there any insights that lead to negative growth? Justify with specific reason."
      ],
      "metadata": {
        "id": "y-Ehk30pYrdP"
      }
    },
    {
      "cell_type": "markdown",
      "source": [
        "**Positive Business Impact:**\n",
        "Charges are highest during the day, followed by the evening and lowest at night, can lead to positive business decisions, if the company could consider offering special promotions or discounted rates during non-peak hours (evening and night) to encourage more usage during those times. This strategy might attract more customers, increase overall usage, and potentially lead to higher customer satisfaction.\n",
        "\n",
        "**Potential Negative Impact:**\n",
        " As we observed, the company charges higher fees during the busiest daytime and evening hours. If the company doesn't provide reasons or justifications for these high charges and doesn't consider offering discounts for extra minutes or other beneficial plans for users, it might lead to user dissatisfaction. Customers may not appreciate paying more, and they might begin exploring other companies that provide similar services at a lower cost. Therefore, if the company intends to increase charges during peak hours, careful consideration is necessary to ensure customer satisfaction and prevent them from switching to other providers"
      ],
      "metadata": {
        "id": "jLNxxz7MYrdP"
      }
    },
    {
      "cell_type": "markdown",
      "source": [
        "### Chart - 4 Histogram + Boxplot for univariate analysis of numerical variables"
      ],
      "metadata": {
        "id": "bamQiAODYuh1"
      }
    },
    {
      "cell_type": "code",
      "source": [
        "# Chart - Bar chart\n",
        "\n",
        "# Set Seaborn style to the default using style parameter\n",
        "sns.set_style('white')\n",
        "\n",
        "\n",
        "\n",
        "plt.figure(figsize=(10, 4))\n",
        "sns.histplot(data=df, x='number_vmail_messages', bins=20, kde=True, color='skyblue', edgecolor='black')\n",
        "\n",
        "\n",
        "plt.xlabel('Number of Voicemail Messages', fontsize=12)\n",
        "plt.ylabel('Frequency', fontsize=12)\n",
        "plt.title('Distribution of Voicemail Messages', fontsize=14)\n",
        "\n",
        "plt.grid(axis='y', linestyle='--', alpha=0.7)\n",
        "plt.yscale('log')\n",
        "plt.show()\n"
      ],
      "metadata": {
        "id": "kuRf4wtuphqN"
      },
      "execution_count": null,
      "outputs": []
    },
    {
      "cell_type": "markdown",
      "source": [
        "##### 1. Why did you pick the specific chart?"
      ],
      "metadata": {
        "id": "bbFf2-_FphqN"
      }
    },
    {
      "cell_type": "markdown",
      "source": [
        "I chose a special kind of bar chart to show how many people use different amounts of voicemail messages. I used logarithmic scale to make it easier to see the details, especially for people who don't use voicemail much. This helps us notice that many people hardly use voicemail, and a few use it a lot."
      ],
      "metadata": {
        "id": "loh7H2nzphqN"
      }
    },
    {
      "cell_type": "markdown",
      "source": [
        "##### 2. What is/are the insight(s) found from the chart?"
      ],
      "metadata": {
        "id": "_ouA3fa0phqN"
      }
    },
    {
      "cell_type": "markdown",
      "source": [
        "A substantial number of clients exhibit near to zero voicemail usage, forming a distinct peak because most of the users dont have voice mail plans, while the distribution for the remaining clients follows a more typical, bell-shaped pattern. This suggests a notable segment of users either does not utilize or has disabled voicemail services, presenting an opportunity for targeted engagement or service customization for this specific group."
      ],
      "metadata": {
        "id": "VECbqPI7phqN"
      }
    },
    {
      "cell_type": "markdown",
      "source": [
        "##### 3. Will the gained insights help creating a positive business impact?\n",
        "Are there any insights that lead to negative growth? Justify with specific reason."
      ],
      "metadata": {
        "id": "Seke61FWphqN"
      }
    },
    {
      "cell_type": "markdown",
      "source": [
        "\n",
        "\n",
        "**Impact on Business:**\n",
        "- *Positive Impact:* Recognizing the significant segment with minimal voicemail usage presents an opportunity for targeted engagement or customized services. This insight can guide personalized marketing strategies or feature enhancements, potentially increasing user satisfaction and loyalty.\n",
        "\n",
        "- *Negative Growth:* Ignoring the distinct voicemail peak might result in missed opportunities for engagement and customization for a notable user segment. Failing to address the specific needs or preferences of this group could lead to dissatisfaction and potential attrition, impacting long-term business growth."
      ],
      "metadata": {
        "id": "DW4_bGpfphqN"
      }
    },
    {
      "cell_type": "code",
      "source": [
        "# Get summary statistics for numerical columns in the DataFrame\n",
        "numeric_summary = df.describe()\n",
        "\n",
        "# Plot distribution and box plots for each numerical column\n",
        "for col in numeric_summary.columns:\n",
        "    # Create subplots\n",
        "    fig, axes = plt.subplots(nrows=1, ncols=2, figsize=(14, 4))\n",
        "\n",
        "    # Distribution plot with KDE\n",
        "    sns.histplot(df[col], ax=axes[0], kde=True, color='#3498db', edgecolor='black')\n",
        "    sns.kdeplot(df[col], ax=axes[0], linestyle='--', linewidth=2, label='KDE')\n",
        "    axes[0].axvline(df[col].mean(), color='#2ecc71', linestyle='--', linewidth=2, label='Mean')\n",
        "    axes[0].axvline(df[col].median(), color='#e74c3c', linestyle='--', linewidth=2, label='Median')\n",
        "    axes[0].set_title(f'Distribution Plot of {col}')\n",
        "    axes[0].legend()\n",
        "\n",
        "    # Box plot with means highlighted\n",
        "    sns.boxplot(df[col], ax=axes[1], orient='h', showmeans=True, color='#95a5a6', linewidth=2)\n",
        "    axes[1].set_title(f'Box Plot of {col}')\n",
        "\n",
        "    # Adjust layout and display title\n",
        "    fig.suptitle(f'Distribution and Box Plot of {col}', fontsize=15)\n",
        "    plt.tight_layout()\n",
        "    plt.show()\n"
      ],
      "metadata": {
        "id": "nAtj07ZKH3BM"
      },
      "execution_count": null,
      "outputs": []
    },
    {
      "cell_type": "markdown",
      "metadata": {
        "id": "Yf0iwWGc4fXD"
      },
      "source": [
        "##### 1. Why did you pick the specific chart?"
      ]
    },
    {
      "cell_type": "markdown",
      "metadata": {
        "id": "k1P6nTsh4fXE"
      },
      "source": [
        "A histplot is a type of chart that displays the distribution of a dataset. It is a graphical representation of the data that shows how often each value or group of values occurs. Histplots are useful for understanding the distribution of a dataset and identifying patterns or trends in the data. It is also useful when dealing with large data sets (greater than 100 observations). It can help detect any unusual observations (outliers) or any gaps in the data.\n",
        "\n",
        "Thus, I used the histogram plot to analysis the variable distributions over the whole dataset whether it's symmetric or not.\n",
        "\n",
        "A boxplot is used to summarize the key statistical characteristics of a dataset, including the median, quartiles, and range, in a single plot. Boxplots are useful for identifying the presence of outliers in a dataset, comparing the distribution of multiple datasets, and understanding the dispersion of the data. They are often used in statistical analysis and data visualization.\n",
        "\n",
        "Thus, for each numerical varibale in the given dataset, I used box plot to analyse the outliers and interquartile range including mean, median, maximum and minimum value."
      ]
    },
    {
      "cell_type": "markdown",
      "metadata": {
        "id": "MpXbMVAJ4fXE"
      },
      "source": [
        "##### 2. What is/are the insight(s) found from the chart?"
      ]
    },
    {
      "cell_type": "markdown",
      "metadata": {
        "id": "BNrawy9l4fXE"
      },
      "source": [
        "From above distribution charts we can see that, all columns are symmetric distributed and mean is nearly same with median for numerical columns."
      ]
    },
    {
      "cell_type": "markdown",
      "metadata": {
        "id": "bUxcanNW4fXF"
      },
      "source": [
        "##### 3. Will the gained insights help creating a positive business impact?\n",
        "Are there any insights that lead to negative growth? Justify with specific reason."
      ]
    },
    {
      "cell_type": "markdown",
      "metadata": {
        "id": "HJWFejOB4fXF"
      },
      "source": [
        "Histogram and Box plot cannot give us whole information regarding data. It's done just to see the distribution of the column data over the dataset."
      ]
    },
    {
      "cell_type": "markdown",
      "source": [
        "# **Bivariate analysis**"
      ],
      "metadata": {
        "id": "k1SbXjwr9VpZ"
      }
    },
    {
      "cell_type": "code",
      "source": [
        "# defining a function for getting percentages\n",
        "def crosstab_function(df, var):\n",
        "    tab = pd.DataFrame(pd.crosstab(df[var], df[\"churn\"], margins=True)).reset_index()\n",
        "    tab['Percentage'] = tab[1] / tab['All'] * 100\n",
        "    tab.columns = [var, 'churn_NO', 'churn_YES', 'total', 'churn_percentage']\n",
        "    return tab"
      ],
      "metadata": {
        "id": "PHmsGZAaazhz"
      },
      "execution_count": null,
      "outputs": []
    },
    {
      "cell_type": "markdown",
      "source": [
        "### Chart - 5)  Scatter plot of **Charge Vs minutes** Across Different Times of Day"
      ],
      "metadata": {
        "id": "U2RJ9gkRphqQ"
      }
    },
    {
      "cell_type": "code",
      "source": [
        "palette = sns.color_palette(\"Set2\")\n",
        "\n",
        "# Create a figure and subplots\n",
        "plt.figure(figsize=(12, 5))\n",
        "\n",
        "# Subplot 1\n",
        "plt.subplot(1, 3, 1)\n",
        "sns.scatterplot(data=df, x='total_day_charge', y='total_day_minutes',\n",
        "                hue='churn', alpha=0.6, palette=palette, marker='o', s=50)\n",
        "plt.title('Total Day', fontsize=12)\n",
        "plt.xlabel('Total Day Charge', fontsize=9)\n",
        "plt.ylabel('Total Day Minutes', fontsize=9)\n",
        "plt.legend(title='Churn', title_fontsize='9', loc='lower right')\n",
        "plt.grid(True, linestyle='--', alpha=0.6)\n",
        "\n",
        "# Subplot 2\n",
        "plt.subplot(1, 3, 2)\n",
        "sns.scatterplot(data=df, x='total_eve_charge', y='total_eve_minutes',\n",
        "                hue='churn', alpha=0.6, palette=palette, marker='o', s=50)\n",
        "plt.title('Total Eve', fontsize=12)\n",
        "plt.xlabel('Total Eve Charge', fontsize=9)\n",
        "plt.ylabel('Total Eve Minutes', fontsize=9)\n",
        "plt.legend(title='Churn', title_fontsize='9', loc='lower right')\n",
        "plt.grid(True, linestyle='--', alpha=0.6)\n",
        "\n",
        "# Subplot 3\n",
        "plt.subplot(1, 3, 3)\n",
        "sns.scatterplot(data=df, x='total_night_charge', y='total_night_minutes',\n",
        "                hue='churn', alpha=0.6, palette=palette, marker='o', s=50)\n",
        "plt.title('Total Night', fontsize=12)\n",
        "plt.xlabel('Total Night Charge', fontsize=9)\n",
        "plt.ylabel('Total Night Minutes', fontsize=9)\n",
        "plt.legend(title='Churn', title_fontsize='9', loc='lower right')\n",
        "plt.grid(True, linestyle='--', alpha=0.6)\n",
        "\n",
        "# Adjust layout\n",
        "plt.tight_layout()\n",
        "\n",
        "# Show the plot\n",
        "plt.show()\n"
      ],
      "metadata": {
        "id": "GM7a4YP4phqQ"
      },
      "execution_count": null,
      "outputs": []
    },
    {
      "cell_type": "markdown",
      "source": [
        "Lets see separate graph of total day min vs total day charge"
      ],
      "metadata": {
        "id": "eyopOvSknjnr"
      }
    },
    {
      "cell_type": "code",
      "source": [
        "\n",
        "palette = sns.color_palette(\"Set2\")\n",
        "\n",
        "# Create a figure and axis\n",
        "plt.figure(figsize=(15, 6))\n",
        "\n",
        "# Plot the jointplot\n",
        "joint_plot = sns.jointplot(data=df, x='total_day_minutes', y='total_day_charge',\n",
        "                           hue='churn', alpha=0.3, marker='o', s=50, palette=palette)\n",
        "\n",
        "# Add a title\n",
        "plt.subplots_adjust(top=0.9)\n",
        "joint_plot.fig.suptitle('Total Day Minutes vs Total Day Charges (Churn vs Non-Churn)', fontsize=16)\n",
        "\n",
        "# Set labels and font size\n",
        "plt.xlabel('Total Day Minutes', fontsize=13)\n",
        "plt.ylabel('Total Day Charges', fontsize=13)\n",
        "\n",
        "# Customize legend\n",
        "joint_plot.ax_joint.legend(title='Churn', title_fontsize='13', loc='lower right')\n",
        "plt.show()\n"
      ],
      "metadata": {
        "id": "ZT2cL-U9QPYC"
      },
      "execution_count": null,
      "outputs": []
    },
    {
      "cell_type": "markdown",
      "source": [
        "**Insight :** We can observe from the three scatterplots that the churn rate is maximum times True in the Day.\n",
        "In the evening and night we can see that the churn rate is not so relevant."
      ],
      "metadata": {
        "id": "8agQvks0phqQ"
      }
    },
    {
      "cell_type": "markdown",
      "source": [
        "#### Calculating the average values for the numerical attributes for *customers who have churned and customers who have not churned*"
      ],
      "metadata": {
        "id": "R729-2qwoEvK"
      }
    },
    {
      "cell_type": "code",
      "source": [
        "# Average of total day calls, total day minutes & total day charge of churn\n",
        "print(\"Average of total day calls, total day minutes & total day charge of churn\")\n",
        "print()\n",
        "cn_dcalls = pd.DataFrame(df.groupby([\"churn\"])['total_day_calls'].mean())\n",
        "print(cn_dcalls)\n",
        "print('')\n",
        "cn_dm = pd.DataFrame(df.groupby([\"churn\"])['total_day_minutes'].mean())\n",
        "print(cn_dm)\n",
        "print('')\n",
        "cn_dc = pd.DataFrame(df.groupby([\"churn\"])['total_day_charge'].mean())\n",
        "print(cn_dc)"
      ],
      "metadata": {
        "id": "r5NQWub7n_3V"
      },
      "execution_count": null,
      "outputs": []
    },
    {
      "cell_type": "code",
      "source": [
        "# Average of total night calls, total night minutes & total night charge of churn\n",
        "print(\"Average of total night calls, total night minutes & total night charge of churn\")\n",
        "print()\n",
        "cn_ncalls = pd.DataFrame(df.groupby([\"churn\"])['total_night_calls'].mean())\n",
        "print(cn_ncalls)\n",
        "print(\" \")\n",
        "cn_nm = pd.DataFrame(df.groupby([\"churn\"])['total_night_minutes'].mean())\n",
        "print(cn_nm)\n",
        "print(\" \")\n",
        "cn_nc = pd.DataFrame(df.groupby([\"churn\"])['total_night_charge'].mean())\n",
        "print(cn_nc)"
      ],
      "metadata": {
        "id": "IFzSAlRXnbX2"
      },
      "execution_count": null,
      "outputs": []
    },
    {
      "cell_type": "code",
      "source": [
        "_# Average of total eve calls, total eve minutes & total evening charge of churn\n",
        "\n",
        "print(\"Average of total eve calls, total eve minutes & total evening charge of churn\")\n",
        "print()\n",
        "cn_ecalls = pd.DataFrame(df.groupby([\"churn\"])['total_eve_calls'].mean())\n",
        "print(cn_ecalls)\n",
        "print(\" \")\n",
        "cn_em = pd.DataFrame(df.groupby([\"churn\"])['total_eve_minutes'].mean())\n",
        "print(cn_em)\n",
        "print(\" \")\n",
        "cn_ec = pd.DataFrame(df.groupby([\"churn\"])['total_eve_charge'].mean())\n",
        "print(cn_ec)"
      ],
      "metadata": {
        "id": "xS0aa2LZn6mr"
      },
      "execution_count": null,
      "outputs": []
    },
    {
      "cell_type": "markdown",
      "source": [
        "#### **Bar plot for Average of calls on the basis of churn**"
      ],
      "metadata": {
        "id": "K5PsBEiBoxKq"
      }
    },
    {
      "cell_type": "code",
      "source": [
        "# Table of average calls of total day, eve & night on basis of churn\n",
        "cn_calls = pd.merge(pd.merge(cn_dcalls,cn_ecalls, on = 'churn'),cn_ncalls,on = 'churn').round(2).T\n",
        "cn_calls"
      ],
      "metadata": {
        "id": "Mv4YfAHOuQYo"
      },
      "execution_count": null,
      "outputs": []
    },
    {
      "cell_type": "code",
      "source": [
        "# Bar plot of above table\n",
        "plt.figure(figsize=(9,6))\n",
        "cn_calls.plot(kind='bar',ylabel='mean')\n",
        "plt.title('Average of calls on the basis of churn', fontsize=18)\n",
        "plt.xlabel(\"calls\", fontsize = 13)\n",
        "plt.ylabel('Average of Calls',fontsize = 13)\n",
        "plt.xticks(rotation=0)\n",
        "plt.show()"
      ],
      "metadata": {
        "id": "6mJv5zbP1bsA"
      },
      "execution_count": null,
      "outputs": []
    },
    {
      "cell_type": "markdown",
      "source": [
        "#### **Bar plot for Average of minutes on the basis of churn**"
      ],
      "metadata": {
        "id": "N24qI6fOpag8"
      }
    },
    {
      "cell_type": "code",
      "source": [
        "# Table of average minutes of total day, eve & night on basis of churn\n",
        "cn_minutes = pd.merge(pd.merge(cn_dm,cn_em, on = 'churn'),cn_nm,on = 'churn').round(2).T\n",
        "cn_minutes"
      ],
      "metadata": {
        "id": "FFLFUHlcxU7M"
      },
      "execution_count": null,
      "outputs": []
    },
    {
      "cell_type": "code",
      "source": [
        "# Bar plot of above table\n",
        "plt.figure(figsize=(9,6))\n",
        "cn_minutes.plot(kind='bar',ylabel='mean')\n",
        "plt.title('Average of minutes on the basis of churn', fontsize=18)\n",
        "plt.xlabel(\"minutes\", fontsize = 13)\n",
        "plt.ylabel('Average of minutes',fontsize = 13)\n",
        "plt.xticks(rotation=0)\n",
        "plt.show()"
      ],
      "metadata": {
        "id": "fDdARZVw1mNR"
      },
      "execution_count": null,
      "outputs": []
    },
    {
      "cell_type": "markdown",
      "source": [
        "#### **Bar plot for Average of charges on the basis of churn**"
      ],
      "metadata": {
        "id": "rESwDSjmqE9o"
      }
    },
    {
      "cell_type": "code",
      "source": [
        "# Table of average charges of total day, eve & night on basis of churn\n",
        "cn_charges = pd.merge(pd.merge(cn_dc,cn_ec, on = 'churn'),cn_nc,on = 'churn').round(2).T\n",
        "cn_charges"
      ],
      "metadata": {
        "id": "8x1VPptPxnkD"
      },
      "execution_count": null,
      "outputs": []
    },
    {
      "cell_type": "code",
      "source": [
        "# Bar plot of above table\n",
        "plt.figure(figsize=(9,7))\n",
        "cn_charges.plot(kind='bar',ylabel='mean')\n",
        "plt.title('Average of charges on the basis of churn', fontsize=18)\n",
        "plt.xlabel(\"Charges\", fontsize = 13)\n",
        "plt.ylabel('Average of charges',fontsize = 13)\n",
        "plt.xticks(rotation=0)\n",
        "plt.show()"
      ],
      "metadata": {
        "id": "KbP3gN0Sx2Al"
      },
      "execution_count": null,
      "outputs": []
    },
    {
      "cell_type": "markdown",
      "metadata": {
        "id": "zqS9ERWism-r"
      },
      "source": [
        "##### 1. Why did you pick the specific chart?"
      ]
    },
    {
      "cell_type": "markdown",
      "metadata": {
        "id": "k4DStsZEsm-r"
      },
      "source": [
        "Scatter plots are used to plot the relationship between two numerical variables. Scatter plots are useful for identifying patterns and trends in data, and they can be used to visualize the relationship between two variables.\n",
        "\n",
        "Thus, we have used the scatter plot to depict the relationship between evening, day & night calls , minutes and charge.\n",
        "\n",
        "Bar charts are used to compare the size or frequency of different categories or groups of data. Bar charts are useful for comparing data across different categories, and they can be used to display a large amount of data in a small space.\n",
        "\n",
        "Thus, we have used the bar plot to show the evening, night and day manipulated data to depict meaningful insights."
      ]
    },
    {
      "cell_type": "markdown",
      "metadata": {
        "id": "n8dVrSV2sm-r"
      },
      "source": [
        "##### 2. What is/are the insight(s) found from the chart?"
      ]
    },
    {
      "cell_type": "markdown",
      "metadata": {
        "id": "qYNocB1Rsm-s"
      },
      "source": [
        "**OVERALL CALLS**\n",
        "\n",
        "1) Scatter Plot\n",
        "- Charges are increasing linearly with the minutes increasing/\n",
        "\n",
        "- A high churn rate is noticeable when comparing day charges to day minutes. As the calling duration increases, the corresponding charges also exhibit an upward trend.\n",
        "- We can observe from the three scatterplots that the churn rate is maximum times True in the Day. In the evening and night we can see that the churn rate is not so relevant.\n",
        "\n",
        "2) Box Plot\n",
        "- Churn customers speak more minutes that non-churn customers at day,evening and night. Hence they pay more charge than non-churn customers.\n",
        "\n",
        "We can retain churn customers if we include master plan.\n",
        "In master plan if a customer is talking more minutes then we can charge a little less amount from him or he can get discount or additional few free minutes to talk.\n",
        "\n",
        "This will make customers happy who are going to churn  and they will not leave the company."
      ]
    },
    {
      "cell_type": "markdown",
      "metadata": {
        "id": "xK6xdAsasm-s"
      },
      "source": [
        "##### 3. Will the gained insights help creating a positive business impact?\n",
        "Are there any insights that lead to negative growth? Justify with specific reason."
      ]
    },
    {
      "cell_type": "markdown",
      "source": [
        "\n",
        "**Positive Business Impact:**\n",
        "1. **Linear Relationship between Charges and Minutes:** The observed linear increase in charges with an increase in minutes suggests that pricing is consistent, making it easier for customers to understand and predict their costs.\n",
        "\n",
        "2. **Churn Analysis:** Identifying a high churn rate when comparing day charges to day minutes provides an opportunity for targeted interventions. Offering special plans, discounts, or additional benefits during peak usage times, especially in the daytime, could potentially retain customers and improve overall satisfaction.\n",
        "\n",
        "3. **Box Plot Analysis:** Understanding that churn customers speak more minutes and pay higher charges suggests an avenue for customer retention. The suggestion to introduce a master plan, offering discounts or extra minutes for heavy users, is a positive strategy that can enhance customer loyalty.\n",
        "\n",
        "**Negative Growth Considerations:**\n",
        "1. **Potential for Negative Growth:** If the company does not address the observed churn pattern and fails to introduce customer-friendly plans or incentives, there is a risk of losing more customers, especially during peak daytime hours. This could lead to negative growth as dissatisfied customers seek alternatives.\n",
        "\n",
        "In conclusion, implementing customer-centric strategies, such as introducing a master plan for heavy users, has the potential to create a positive impact by reducing churn and enhancing customer satisfaction. However, neglecting to address these insights may result in negative growth due to a higher attrition rate, particularly during peak calling times."
      ],
      "metadata": {
        "id": "PLHl_WHA2uno"
      }
    },
    {
      "cell_type": "markdown",
      "source": [
        "### Chart - 6)  International Plan vs Churn"
      ],
      "metadata": {
        "id": "YDjZkGwo3WTP"
      }
    },
    {
      "cell_type": "code",
      "source": [
        "# Chart - 11 visualization code\n",
        "\n",
        "palette = sns.color_palette(\"pastel\")\n",
        "\n",
        "# Create a categorical plot\n",
        "catplot = sns.catplot(data=df, x='international_plan', hue='churn', kind='count')\n",
        "\n",
        "# Add title\n",
        "plt.subplots_adjust(top=0.9)\n",
        "catplot.fig.suptitle('Churn Count Based on International Plan Status', fontsize=16)\n",
        "\n",
        "# Set labels and font size\n",
        "catplot.set_xlabels('International Plan Status', fontsize=12)\n",
        "catplot.set_ylabels('Count', fontsize=12)\n",
        "\n",
        "\n",
        "# Show the plot\n",
        "plt.show()\n",
        "\n"
      ],
      "metadata": {
        "id": "mAQTIvtqp1cj"
      },
      "execution_count": null,
      "outputs": []
    },
    {
      "cell_type": "markdown",
      "source": [
        "##### Assigning values for further charts"
      ],
      "metadata": {
        "id": "94u9TFSi7ffu"
      }
    },
    {
      "cell_type": "code",
      "source": [
        "# Unique values in the 'international_plan' column\n",
        "international_plans = df['international_plan'].unique()\n",
        "\n",
        "# Churn rate (%) for each international plan\n",
        "churn_rate_by_plan = df.groupby('international_plan')['churn'].mean() * 100\n",
        "\n",
        "# Average total international charge for each international plan\n",
        "avg_intl_charge_by_plan = df.groupby('international_plan')['total_intl_charge'].mean()\n",
        "\n",
        "# Average total international minutes for each churn category\n",
        "avg_intl_minutes_by_churn = df.groupby('churn')['total_intl_minutes'].mean()"
      ],
      "metadata": {
        "id": "ZCIFkKEmVlyf"
      },
      "execution_count": null,
      "outputs": []
    },
    {
      "cell_type": "markdown",
      "source": [
        "##### Chart-  Churn rate by international plan"
      ],
      "metadata": {
        "id": "vbzDldrJ9HsL"
      }
    },
    {
      "cell_type": "code",
      "source": [
        "# Visualizing code for Churn rate by international plan\n",
        "\n",
        "plt.figure(figsize=(6, 5))\n",
        "\n",
        "# Bar plot for churn percentage based on international plan\n",
        "plot_churn_percentage = sns.barplot(x=international_plans, y=churn_rate_by_plan)\n",
        "\n",
        "# Annotating the bars with percentages\n",
        "for bar in plot_churn_percentage.patches:\n",
        "    plot_churn_percentage.annotate(format(bar.get_height(), '.2f'),\n",
        "                                    (bar.get_x() + bar.get_width() / 2, bar.get_height()),\n",
        "                                    ha='center', va='center', size=12, xytext=(0, 8),\n",
        "                                    textcoords='offset points')\n",
        "\n",
        "# Setting plot attributes\n",
        "plt.title(\"Churn Rate Based on International Plan\", fontsize=15,pad=20)\n",
        "plt.xlabel('International Plan', fontsize=13)\n",
        "plt.ylabel('Churn Rate (%)', fontsize=13)\n",
        "plt.ylim(0, 45)\n",
        "\n",
        "# Show the plot\n",
        "plt.show()\n"
      ],
      "metadata": {
        "id": "ALwACSEM4ZE1"
      },
      "execution_count": null,
      "outputs": []
    },
    {
      "cell_type": "markdown",
      "source": [
        "##### Chart - Average charges on the basis of International plan"
      ],
      "metadata": {
        "id": "Z45864pp9apC"
      }
    },
    {
      "cell_type": "code",
      "source": [
        "# Visualizing code for average calling charge of customers having international plan\n",
        "plt.figure(figsize=(6,5))\n",
        "plots = sns.barplot(x=international_plans,y=avg_intl_charge_by_plan)\n",
        "for bar in plots.patches:\n",
        "  plots.annotate(format(bar.get_height(),'.2f'),\n",
        "                   (bar.get_x() + bar.get_width() / 2,\n",
        "                    bar.get_height()), ha='center', va='center',\n",
        "                   size=11, xytext=(0, 8),\n",
        "                   textcoords='offset points')\n",
        "plt.title(\" Average charges on the basis of International plan\", fontsize = 15,pad=20)\n",
        "plt.xlabel('International plan', fontsize = 13)\n",
        "plt.ylabel('Charges', fontsize = 13)\n",
        "plt.ylim(0,3.5)\n",
        "plt.show()"
      ],
      "metadata": {
        "id": "-zl1_Kp5Xedg"
      },
      "execution_count": null,
      "outputs": []
    },
    {
      "cell_type": "markdown",
      "source": [
        "##### Chart - Average minutes talked by customers having international plan"
      ],
      "metadata": {
        "id": "D08ml0Zr-4g7"
      }
    },
    {
      "cell_type": "code",
      "source": [
        "# Visualizing code for average minutes talked by customers having international plan\n",
        "plt.figure(figsize=(6, 5))\n",
        "plots = sns.barplot(x=international_plans, y=avg_intl_minutes_by_churn)\n",
        "\n",
        "for bar in plots.patches:\n",
        "    plots.annotate(format(bar.get_height(), '.2f'),\n",
        "                   (bar.get_x() + bar.get_width() / 2,\n",
        "                    bar.get_height()), ha='center', va='center',\n",
        "                   size=12, xytext=(0, 8),\n",
        "                   textcoords='offset points')\n",
        "\n",
        "plt.title(\"Average International Minutes on Basis of International Plan\", fontsize=15, pad=20)\n",
        "plt.xlabel('International Plan', fontsize=13)\n",
        "plt.ylabel('Minutes', fontsize=13)\n",
        "plt.ylim(0, 12)\n",
        "plt.show()\n"
      ],
      "metadata": {
        "id": "jr-TlaH9Y7We"
      },
      "execution_count": null,
      "outputs": []
    },
    {
      "cell_type": "markdown",
      "source": [
        "##### Chart - Average International charges for churned and non-churned users with an international plan"
      ],
      "metadata": {
        "id": "J1QTt4BX8RHV"
      }
    },
    {
      "cell_type": "code",
      "source": [
        "average_charge_by_plan_and_churn = df.groupby(['international_plan', 'churn'])['total_intl_charge'].mean().reset_index(name='avg_intl_charge')\n",
        "\n",
        "# DataFrame for international plans with 'No'\n",
        "international_plan_No_df = average_charge_by_plan_and_churn[average_charge_by_plan_and_churn['international_plan'] == 'No']\n",
        "print(international_plan_No_df)\n",
        "print()\n",
        "\n",
        "# DataFrame for international plans with 'Yes'\n",
        "international_plan_yes_df = average_charge_by_plan_and_churn[average_charge_by_plan_and_churn['international_plan'] == 'Yes']\n",
        "print(international_plan_yes_df)\n"
      ],
      "metadata": {
        "id": "yfbefoPyeSo5"
      },
      "execution_count": null,
      "outputs": []
    },
    {
      "cell_type": "code",
      "source": [
        "plt.figure(figsize=(6, 6))\n",
        "plot = sns.barplot(data=international_plan_No_df, x='churn', y='avg_intl_charge', palette='viridis')\n",
        "\n",
        "# Adding annotations to the bars\n",
        "for index, value in enumerate(international_plan_No_df['avg_intl_charge']):\n",
        "    plot.text(index, value, f'{value:.2f}', ha='center', va='bottom')\n",
        "\n",
        "# Adding labels and title\n",
        "plt.xlabel('Churn')\n",
        "plt.ylabel('Average International Charge')\n",
        "plt.title('Average International charges for churned and non-churned users without an international plan',fontsize = 15,pad=20)\n",
        "\n",
        "# Show the plot\n",
        "plt.show()"
      ],
      "metadata": {
        "id": "-g_pOkwRDDfV"
      },
      "execution_count": null,
      "outputs": []
    },
    {
      "cell_type": "code",
      "source": [
        "\n",
        "plt.figure(figsize=(6, 6))\n",
        "plot = sns.barplot(data=international_plan_yes_df, x='churn', y='avg_intl_charge', palette='viridis')\n",
        "\n",
        "# Adding annotations to the bars\n",
        "for index, value in enumerate(international_plan_yes_df['avg_intl_charge']):\n",
        "    plot.text(index, value, f'{value:.2f}', ha='center', va='bottom')\n",
        "\n",
        "# Adding labels and title\n",
        "plt.xlabel('Churn')\n",
        "plt.ylabel('Average International Charge')\n",
        "plt.title('Average International charges for churned and non-churned users with an international plan',fontsize = 15,pad=20)\n",
        "\n",
        "# Show the plot\n",
        "plt.show()\n"
      ],
      "metadata": {
        "id": "0qMIWEEVy7Pe"
      },
      "execution_count": null,
      "outputs": []
    },
    {
      "cell_type": "markdown",
      "metadata": {
        "id": "VFF7FuEvZIE_"
      },
      "source": [
        "##### 1. Why did you pick the specific chart?"
      ]
    },
    {
      "cell_type": "markdown",
      "metadata": {
        "id": "3W_rhy1KZIFA"
      },
      "source": [
        "Bar charts are used to compare the size or frequency of different categories or groups of data. Bar charts are useful for comparing data across different categories, and they can be used to display a large amount of data in a small space.\n",
        "\n",
        "Thus, we employed a bar chart to illustrate the percentage of customers who churned, considering their international plan status. This visual representation also encapsulated the average calling charges and conversation minutes for customers with an international plan.\n",
        "\n",
        "Furthermore, we extended our analysis to explore the charges, specifically focusing on the average international charges for both churned and non-churned users with an international plan."
      ]
    },
    {
      "cell_type": "markdown",
      "metadata": {
        "id": "mKhPJ-n1ZIFB"
      },
      "source": [
        "##### 2. What is/are the insight(s) found from the chart?"
      ]
    },
    {
      "cell_type": "markdown",
      "source": [
        "In this analysis, we observed that among the users, 3010 do not have an international plan, while 323 users have opted for an international plan. Surprisingly, **42.4% of users with an international plan churn**, a significantly higher rate compared to the 11.4% churn rate among those without an international plan.\n",
        "\n",
        "The likely reason for higher churn among users with an international plan is the average charge for international calls. Churned users with an international plan were charged an average of **3.18**, which is higher than the average charge of **2.64** for non-churned users with an international plan. This indicates that the users who churned had, on average, a higher cost for international calls compared to those who did not churn.\n",
        "\n",
        "Providing additional context, users with an international plan, whether they churned or not, had an average charge of **2.87** and talked for an average of **10.7 minutes**. On the other hand, users without an international plan had a slightly lower average charge of **2.75** and talked for an average of **10.16 minutes**.\n",
        "\n",
        "The average charge for international calls among churned users with an international plan is significantly higher, contributing to their decision to switch providers."
      ],
      "metadata": {
        "id": "YOSYClGIE5jf"
      }
    },
    {
      "cell_type": "markdown",
      "metadata": {
        "id": "jr874Y4LZIFB"
      },
      "source": [
        "##### 3. Will the gained insights help creating a positive business impact?\n",
        "Are there any insights that lead to negative growth? Justify with specific reason."
      ]
    },
    {
      "cell_type": "markdown",
      "metadata": {
        "id": "GqAPiGsJZIFB"
      },
      "source": [
        "Yes, the insights found will definitely help for a positive business impact. Those people who  have international plan they are paying some additional charges to get the plan but the talk time value charge is same as those customers having no international plan. That might be great reason for more churns for those having international plan."
      ]
    },
    {
      "cell_type": "markdown",
      "source": [
        "\n",
        "The insights gained from this analysis can significantly contribute to a **positive business impact**. The observation that users with an international plan have a higher churn rate, primarily due to the elevated average charge for international calls among churned users (3.18), presents a clear opportunity for strategic interventions. Implementing customer-friendly international plans, offering discounts, or providing additional incentives could be effective strategies to retain users and enhance customer satisfaction.\n",
        "\n",
        "**negative business impact**\n",
        "On the flip side, there is potential for negative growth if the company does not address the higher charges for international calls among churned users with an international plan. Neglecting to adjust pricing or introduce targeted plans may result in continued customer churn, impacting overall business growth adversely.\n",
        "\n",
        "In conclusion, the identified insights offer a valuable opportunity for the company to enhance its offerings and retain customers. Strategic adjustments to international plan pricing or the introduction of appealing incentives could lead to positive business outcomes. Conversely, failure to address these insights may result in negative growth, emphasizing the importance of proactive measures to retain and attract customers."
      ],
      "metadata": {
        "id": "2qXSlae2F5C0"
      }
    },
    {
      "cell_type": "markdown",
      "source": [
        "### Chart - 7)  Voice Mail Plan vs Churn"
      ],
      "metadata": {
        "id": "1mfXzjwpIszW"
      }
    },
    {
      "cell_type": "code",
      "source": [
        "crosstab_function(df,'voice_mail_plan')"
      ],
      "metadata": {
        "id": "jkC93uIbfBt4"
      },
      "execution_count": null,
      "outputs": []
    },
    {
      "cell_type": "code",
      "source": [
        "voice_mail_plans = ['No', 'Yes']\n",
        "\n",
        "# Churn rate (%) for each voice mail plan\n",
        "churn_rate_by_voice_mail_plan = df.groupby('voice_mail_plan')['churn'].mean() * 100\n",
        "\n",
        "plt.figure(figsize=(6, 6))\n",
        "voice_mail_plot = sns.barplot(x=voice_mail_plans, y=churn_rate_by_voice_mail_plan)\n",
        "\n",
        "# Annotating the bars with percentages\n",
        "for bar in voice_mail_plot.patches:\n",
        "    voice_mail_plot.annotate(f'{bar.get_height():.2f}%',\n",
        "                             (bar.get_x() + bar.get_width() / 2, bar.get_height()),\n",
        "                             ha='center', va='center', size=11, xytext=(0, 8),\n",
        "                             textcoords='offset points')\n",
        "\n",
        "plt.title(\"Percentage of Customer Churn Based on Voice Mail Plan\", fontsize=15, pad=20)\n",
        "plt.xlabel('Voice Mail Plan', fontsize=13)\n",
        "plt.ylabel('Percentage (%)', fontsize=13)\n",
        "plt.show()\n"
      ],
      "metadata": {
        "id": "8haib6E6hSUr"
      },
      "execution_count": null,
      "outputs": []
    },
    {
      "cell_type": "markdown",
      "metadata": {
        "id": "0Z4VFmowioMV"
      },
      "source": [
        "##### 1. Why did you pick the specific chart?"
      ]
    },
    {
      "cell_type": "markdown",
      "metadata": {
        "id": "L03Bx5QJioMW"
      },
      "source": [
        "Bar charts are used to compare the size or frequency of different categories or groups of data. Bar charts are useful for comparing data across different categories, and they can be used to display a large amount of data in a small space.\n",
        "\n",
        "Thus, we have used bar chart to show the percentage of customers churned having voice mail plan."
      ]
    },
    {
      "cell_type": "markdown",
      "metadata": {
        "id": "qfjzd3HDioMW"
      },
      "source": [
        "##### 2. What is/are the insight(s) found from the chart?"
      ]
    },
    {
      "cell_type": "markdown",
      "metadata": {
        "id": "1sQ23GlSioMW"
      },
      "source": [
        "**VOICE MAIL**\n",
        "\n",
        "2411 dont have a voice mail plan\n",
        "\n",
        "922 have a voice mail plan\n",
        "\n",
        "Among those who dont have a voice mail 16.7 % people churn.\n",
        "\n",
        "Whereas among those who have a voice mail plan only 8.7 % people churn.\n",
        "\n",
        "\n",
        "***Customers  with the Voice Mail Plan tend to churn less frequently***"
      ]
    },
    {
      "cell_type": "markdown",
      "metadata": {
        "id": "9IN7G19wioMX"
      },
      "source": [
        "##### 3. Will the gained insights help creating a positive business impact?\n",
        "Are there any insights that lead to negative growth? Justify with specific reason."
      ]
    },
    {
      "cell_type": "markdown",
      "metadata": {
        "id": "DuwQbJbwioMX"
      },
      "source": [
        "Out of all the users, 2411 don't use voice mail, while 922 do. Interestingly, only 16.7% of users without voice mail churn, whereas among those with voice mail, only 8.7% churn. This implies that having a voice mail plan is associated with lower churn rates.\n",
        "\n",
        "* The insights gained could positively impact business decisions, suggesting that offering a voice mail plan might help retain customers. However, it's important to note that this impact might be only partial, and other factors should be considered in our overall strategy to keep customers.\n",
        "\n",
        "* The insights  don't explicitly point to any negative effects. Nevertheless, a thorough analysis considering various factors is essential to fully understand customer behavior and potential business consequences."
      ]
    },
    {
      "cell_type": "markdown",
      "source": [
        "### Chart - 8)  Area code vs Churn"
      ],
      "metadata": {
        "id": "LFnwV-E1K9Nf"
      }
    },
    {
      "cell_type": "code",
      "execution_count": null,
      "metadata": {
        "id": "IfPf6NmPiyr3"
      },
      "outputs": [],
      "source": [
        "# Area Code wise average churn percentage\n",
        "\n",
        "# Unique area codes\n",
        "unique_area_codes = df['area_code'].unique()\n",
        "\n",
        "# Churn rate (%) for each area code\n",
        "churn_rate_by_area_code = df.groupby('area_code')['churn'].mean() * 100\n",
        "\n",
        "plt.figure(figsize=(6, 5))\n",
        "area_code_plot = sns.barplot(x=unique_area_codes, y=churn_rate_by_area_code)\n",
        "\n",
        "# Annotating the bars with percentages\n",
        "for bar in area_code_plot.patches:\n",
        "    area_code_plot.annotate(f\"{bar.get_height():.2f}%\",\n",
        "                             (bar.get_x() + bar.get_width() / 2, bar.get_height()),\n",
        "                             ha='center', va='center', size=10, xytext=(0, 8),\n",
        "                             textcoords='offset points')\n",
        "\n",
        "plt.title('Area Code vs Churn Percentage', fontsize=15,pad = 15)\n",
        "plt.xlabel('Area Code', fontsize=13)\n",
        "plt.ylabel('Churn Percentage (%)', fontsize=13)\n",
        "plt.ylim(0, 17)\n",
        "plt.show()\n",
        "\n"
      ]
    },
    {
      "cell_type": "markdown",
      "metadata": {
        "id": "yGlzvFRniyr3"
      },
      "source": [
        "##### 1. Why did you pick the specific chart?"
      ]
    },
    {
      "cell_type": "markdown",
      "metadata": {
        "id": "WBY13zG8iyr3"
      },
      "source": [
        "Bar charts are used to compare the size or frequency of different categories or groups of data. Bar charts are useful for comparing data across different categories, and they can be used to display a large amount of data in a small space.\n",
        "\n",
        "To show the average percentage of true churn with respect to Area Code, we have used Bar Chart."
      ]
    },
    {
      "cell_type": "markdown",
      "metadata": {
        "id": "3Y2jF1pViyr4"
      },
      "source": [
        "##### 2. What is/are the insight(s) found from the chart?"
      ]
    },
    {
      "cell_type": "markdown",
      "metadata": {
        "id": "k0yvH9U5iyr4"
      },
      "source": [
        "All Area Code have around 14% Churn rate. So, Area Code doesn't matter."
      ]
    },
    {
      "cell_type": "markdown",
      "metadata": {
        "id": "wh5sFyCFiyr4"
      },
      "source": [
        "##### 3. Will the gained insights help creating a positive business impact?\n",
        "Are there any insights that lead to negative growth? Justify with specific reason."
      ]
    },
    {
      "cell_type": "markdown",
      "metadata": {
        "id": "INDIemp2iyr4"
      },
      "source": [
        "No, Area Code doesn't have any contribution to churn rate for 14% churn rate is same for all the area codes. But while furthur sagreggating the area codes with respective states in those area code, it can be analysed the states in which the issue is happeing. So, We will see in upcoming charts.\n",
        "\n",
        "So, here Area code won't help to create business impact but the respective states wise analysis can help."
      ]
    },
    {
      "cell_type": "markdown",
      "source": [
        "### Chart - 9)  States vs Churn"
      ],
      "metadata": {
        "id": "8UwtggIfMp4a"
      }
    },
    {
      "cell_type": "code",
      "source": [
        "# Vizualizing top 10 churned state\n",
        "\n",
        "avg_churn_by_state = (df.groupby('state')['churn'].mean() * 100).sort_values(ascending=False).head(10)\n",
        "\n",
        "# Create a bar plot\n",
        "plt.figure(figsize=(10, 5))\n",
        "bar_plot = sns.barplot(x=avg_churn_by_state.index, y=avg_churn_by_state.values, palette='viridis')\n",
        "\n",
        "# Annotate each bar with the respective percentage value\n",
        "for bar in bar_plot.patches:\n",
        "    bar_plot.annotate(format(bar.get_height(), '.2f'),\n",
        "                      (bar.get_x() + bar.get_width() / 2, bar.get_height()),\n",
        "                      ha='center', va='center', size=12, xytext=(0, 8),\n",
        "                      textcoords='offset points')\n",
        "bar_plot.set_xticklabels(bar_plot.get_xticklabels(), rotation=30, ha='center')\n",
        "\n",
        "# Set plot title and axis labels\n",
        "plt.title(\"Top 10 States with Highest Churn Percentage\", fontsize=15,pad=15)\n",
        "plt.xlabel('State', fontsize=13)\n",
        "plt.ylabel('Percentage (%)', fontsize=13)\n",
        "\n",
        "plt.ylim(0, 30)\n",
        "plt.show()\n"
      ],
      "metadata": {
        "id": "7fDsLY4VKr7X"
      },
      "execution_count": null,
      "outputs": []
    },
    {
      "cell_type": "code",
      "source": [
        "# Vizualizing top 10 Lowest churned state\n",
        "\n",
        "avg_churn_by_state = (df.groupby('state')['churn'].mean() * 100).sort_values(ascending=True).head(10)\n",
        "\n",
        "# Create a bar plot\n",
        "plt.figure(figsize=(10,5))\n",
        "bar_plot = sns.barplot(x=avg_churn_by_state.index, y=avg_churn_by_state.values, palette='viridis')\n",
        "\n",
        "# Annotate each bar with the respective percentage value\n",
        "for bar in bar_plot.patches:\n",
        "    bar_plot.annotate(format(bar.get_height(), '.2f'),\n",
        "                      (bar.get_x() + bar.get_width() / 2, bar.get_height()),\n",
        "                      ha='center', va='center', size=11, xytext=(0, 8),\n",
        "                      textcoords='offset points')\n",
        "bar_plot.set_xticklabels(bar_plot.get_xticklabels(), rotation=30, ha='center')\n",
        "\n",
        "# Set plot title and axis labels\n",
        "plt.title(\"Top 10 States with Lowest Churn Percentage\", fontsize=15,pad=15)\n",
        "plt.xlabel('State', fontsize=13)\n",
        "plt.ylabel('Percentage (%)', fontsize=13)\n",
        "\n",
        "plt.ylim(0, 20)\n",
        "plt.show()\n"
      ],
      "metadata": {
        "id": "uCgPDLJ1LjDE"
      },
      "execution_count": null,
      "outputs": []
    },
    {
      "cell_type": "markdown",
      "metadata": {
        "id": "18Rz2zX4MF-o"
      },
      "source": [
        "##### 1. Why did you pick the specific chart?"
      ]
    },
    {
      "cell_type": "markdown",
      "metadata": {
        "id": "09BZkhnKMF-o"
      },
      "source": [
        "Bar charts are used to compare the size or frequency of different categories or groups of data. Bar charts are useful for comparing data across different categories, and they can be used to display a large amount of data in a small space.\n",
        "\n",
        "To show the average percentage of true churn with respect to states, we have used Bar Chart."
      ]
    },
    {
      "cell_type": "markdown",
      "metadata": {
        "id": "ajI0NMlvMF-o"
      },
      "source": [
        "##### 2. What is/are the insight(s) found from the chart?"
      ]
    },
    {
      "cell_type": "markdown",
      "metadata": {
        "id": "zimpyLAEMF-o"
      },
      "source": [
        "There are 51 states having different churn rates .\n",
        "\n",
        " **California,\tNew Jersey,\tTexas,\tMaryland,\tSouth Carolina,\tMichigan,\tMississippi,\tWashington,\tNevada,\tMaine** are the ones who have higher churn rate more than 20% which is more than 50% of average churn rate.\n",
        " It may be due to to the poor connectivity or other reasons\n",
        "\n",
        "And **Hawaii,\tAlaska,\tArizona,\tVirginia,\tIowa,\tLouisiana,\tNebraska,\tIllinois,\tWisconsin,\tRhode Island,\tIowa,\tLouisiana,\tNebraska,\tIllinois,\tWisconsin,\tRhode Island** are the ones who have lower churn rate which is less than 10%."
      ]
    },
    {
      "cell_type": "markdown",
      "source": [
        "**Insights:**\n",
        "- **Higher Churn (Above 20%):** California, New Jersey, Texas, Maryland, South Carolina, Michigan, Mississippi, Washington, Nevada, Maine.\n",
        "  - Potential reasons: Poor connectivity, increased competition, and population density.\n",
        "  \n",
        "- **Lower Churn (Below 10%):** Hawaii, Alaska, Arizona, Virginia, Iowa, Louisiana, Nebraska, Illinois, Wisconsin, Rhode Island.\n",
        "  - Possible reasons: Better service quality and lower competition.\n",
        "\n",
        "**Common Reason:**\n",
        "- **Service Quality:** Both higher and lower churn states may be influenced by the perceived quality of telecom services. Addressing service-related issues and investing in customer satisfaction can be crucial.\n",
        "\n"
      ],
      "metadata": {
        "id": "AUSRyG84SHze"
      }
    },
    {
      "cell_type": "markdown",
      "metadata": {
        "id": "8X5v-flkMF-p"
      },
      "source": [
        "##### 3. Will the gained insights help creating a positive business impact?\n",
        "Are there any insights that lead to negative growth? Justify with specific reason."
      ]
    },
    {
      "cell_type": "markdown",
      "source": [
        "Yes, the data of state wise churning depicts that there are lot of states who are having average churn rate more than 20 % which needs to be studied and look for further analysis to decide which factor are causing the churn."
      ],
      "metadata": {
        "id": "tdIY4d29B7uJ"
      }
    },
    {
      "cell_type": "markdown",
      "source": [
        "**Positive Business Impact:**\n",
        "- *Infrastructure Investment:* Improving network quality in high-churn states can enhance customer satisfaction and retention.\n",
        "- *Customer Support Enhancement:* Prioritizing excellent customer service across all states contributes to overall customer satisfaction.\n",
        "- *Targeted Promotions:* Implementing personalized offers in high-churn areas can encourage customer loyalty.\n",
        "\n",
        "**Considerations for Negative Growth:**\n",
        "- *Investment Costs:* The need for substantial investments in infrastructure improvement may strain the budget, impacting short-term profitability.\n",
        "- *Competitive Challenges:* Intensified competition in high-churn states might make retention through promotions challenging, leading to increased marketing costs.\n",
        "- *Changing Preferences:* Consumer preferences are dynamic; strategies based on current insights may become obsolete, requiring ongoing adjustments.\n",
        "\n",
        "While the insights offer avenues for positive impact, businesses must carefully balance the costs of implementation against the potential benefits and adapt strategies to evolving market conditions."
      ],
      "metadata": {
        "id": "K7Hy5NKrBc0r"
      }
    },
    {
      "cell_type": "markdown",
      "source": [
        "### Chart - 10)  Customer Service Calls vs Churn"
      ],
      "metadata": {
        "id": "FMYCf1IIHtRp"
      }
    },
    {
      "cell_type": "code",
      "source": [
        "# Chart - 13 visualization code\n",
        "palette = sns.color_palette(\"pastel\")\n",
        "\n",
        "# Create a categorical plot\n",
        "catplot = sns.catplot(data=df, x='customer_service_calls', hue='churn', kind='count', palette=palette)\n",
        "\n",
        "# Add title\n",
        "plt.subplots_adjust(top=0.9)\n",
        "catplot.fig.suptitle('Churn Count Based on customer_service_calls', fontsize=16)\n",
        "\n",
        "# Set labels and font size\n",
        "catplot.set_xlabels('customer_service_calls', fontsize=12)\n",
        "catplot.set_ylabels('Count', fontsize=12)\n",
        "\n",
        "# Show the plot\n",
        "plt.show()\n"
      ],
      "metadata": {
        "id": "EUfxeq9-p1cl"
      },
      "execution_count": null,
      "outputs": []
    },
    {
      "cell_type": "code",
      "source": [
        "crosstab_function(df[df['customer_service_calls']>3],'customer_service_calls')"
      ],
      "metadata": {
        "id": "pfsreEDogfpd"
      },
      "execution_count": null,
      "outputs": []
    },
    {
      "cell_type": "code",
      "execution_count": null,
      "metadata": {
        "id": "TdPTWpAVphqO"
      },
      "outputs": [],
      "source": [
        "\n",
        "service = pd.DataFrame(df.groupby('customer_service_calls')['churn'].mean() * 100).reset_index()\n",
        "\n",
        "# Visualizing churn rate per customer service calls\n",
        "plt.figure(figsize=(12, 9))\n",
        "plots = sns.barplot(x=service['customer_service_calls'], y=service['churn'])\n",
        "\n",
        "for bar in plots.patches:\n",
        "    plots.annotate(f\"{bar.get_height():.2f}%\",\n",
        "                   (bar.get_x() + bar.get_width() / 2,\n",
        "                    bar.get_height()), ha='center', va='center',\n",
        "                   size=12, xytext=(0, 8),\n",
        "                   textcoords='offset points')\n",
        "\n",
        "plt.title(\"Churn rate per service call\", fontsize=15,pad=15)\n",
        "plt.xlabel('No of cust service call', fontsize=13)\n",
        "plt.ylabel('Percentage (%)', fontsize=13)\n",
        "plt.show()\n"
      ]
    },
    {
      "cell_type": "markdown",
      "metadata": {
        "id": "HP6XQ7oTDPKA"
      },
      "source": [
        "##### 1. Why did you pick the specific chart?"
      ]
    },
    {
      "cell_type": "markdown",
      "metadata": {
        "id": "gl7BHVW7DPKB"
      },
      "source": [
        "Bar charts are used to compare the size or frequency of different categories or groups of data. Bar charts are useful for comparing data across different categories, and they can be used to display a large amount of data in a small space.\n",
        "\n",
        "Thus, we have used the bar plot to show the relationship between churn rate per customer service calls."
      ]
    },
    {
      "cell_type": "markdown",
      "metadata": {
        "id": "sazLbRgvDPKB"
      },
      "source": [
        "##### 2. What is/are the insight(s) found from the chart?"
      ]
    },
    {
      "cell_type": "markdown",
      "metadata": {
        "id": "5k-Tai9VDPKC"
      },
      "source": [
        "**CUSTOMER SERVICE CALL**\n",
        "\n",
        "The service calls of customers varies from 0 to 9 .\n",
        "\n",
        "Those customers who make more service calls they have a high probability of leaving.\n",
        "\n",
        "As we can see from graph , customers with more than 5, their churning rate is more.\n",
        "\n",
        "***Customers with four or more customer service calls churn more than four times as often as do the other customers***"
      ]
    },
    {
      "cell_type": "markdown",
      "metadata": {
        "id": "HlbjBptFDPKC"
      },
      "source": [
        "##### 3. Will the gained insights help creating a positive business impact?\n",
        "Are there any insights that lead to negative growth? Justify with specific reason."
      ]
    },
    {
      "cell_type": "markdown",
      "source": [
        "**Positive Business Impact:**\n",
        "\n",
        "1. **Customer Retention:**\n",
        "   - Proactively addressing customer concerns based on the insights gained can lead to improved customer satisfaction. Satisfied customers are more likely to stay loyal to the business, reducing churn rates.\n",
        "\n",
        "2. **Operational Efficiency:**\n",
        "   - By optimizing the resolution duration and addressing common issues promptly, the business can enhance operational efficiency. Efficient customer service processes contribute to overall cost-effectiveness.\n",
        "\n",
        "3. **Root Cause Analysis:**\n",
        "   - Conducting root cause analysis on recurring issues reported by more than 5 customers enables the business to address underlying problems. Resolving these issues at the source reduces the number of customer service calls and enhances the overall customer experience.\n",
        "\n",
        "4. **Recognition for Customer Service Agents:**\n",
        "   - Providing recognition or incentives for customer service agents who consistently perform well in resolving customer issues can boost morale and motivation. This recognition can contribute to a positive work environment and, in turn, enhance customer service quality.\n",
        "\n",
        "**Considerations for Negative Growth:**\n",
        "\n",
        "1. **Resource Allocation:**\n",
        "   - Intensive focus on resolving individual customer issues may lead to allocating significant resources to a specific customer segment. It's essential to balance personalized service with the overall efficiency of customer service operations.\n",
        "\n",
        "2. **Training and Skill Development:**\n",
        "   - To achieve efficient issue resolution in a single call, ongoing training and skill development for customer service agents are crucial. Neglecting training may result in longer resolution times and decreased customer satisfaction.\n",
        "\n",
        "3. **Overemphasis on Metrics:**\n",
        "   - While optimizing resolution duration is important, an overemphasis on meeting specific metrics may lead to rushed or incomplete issue resolutions. Quality should not be compromised for the sake of speed.\n",
        "\n",
        "In conclusion, the insights gained from customer service data have the potential for a positive business impact by improving customer satisfaction, operational efficiency, and employee morale. However, careful consideration is needed to balance resources, training, and a holistic approach to customer service excellence."
      ],
      "metadata": {
        "id": "SYRRbglhFNBm"
      }
    },
    {
      "cell_type": "markdown",
      "source": [
        "### Chart - 11)  Account Length vs Churn"
      ],
      "metadata": {
        "id": "0tIs8sqOH_JV"
      }
    },
    {
      "cell_type": "code",
      "source": [
        "def plot_account_length_pie(ax, data, title):\n",
        "    # Filtering data based on Account Length\n",
        "    account_data = data.loc[:, ['churn']].value_counts()\n",
        "\n",
        "    # Color palette selection\n",
        "    colors = sns.color_palette('pastel')[0:2]\n",
        "    textprops = {'fontsize': 15}\n",
        "\n",
        "    # Plotting pie chart\n",
        "    ax.pie(account_data, labels=['Not Churn(%)', 'Churn(%)'], startangle=90, colors=colors, autopct=\"%1.1f%%\", textprops=textprops)\n",
        "    ax.set_title(title, fontsize=18)\n",
        "\n",
        "# Create subplots\n",
        "fig, axes = plt.subplots(1, 3, figsize=(20, 7))\n",
        "\n",
        "# less than Two Digit Account Length\n",
        "less_than_two_digit_data = df[(df['account_length'] < 10)]\n",
        "plot_account_length_pie(axes[0], less_than_two_digit_data, 'Less than two Digit Account Length Churn Rate')\n",
        "\n",
        "# Two Digit Account Length\n",
        "two_digit_data = df[(df['account_length'] <= 99) & (df['account_length'] >= 10)]\n",
        "plot_account_length_pie(axes[1], two_digit_data, 'Two Digit Account Length Churn Rate')\n",
        "\n",
        "# Three Digit Account Length\n",
        "three_digit_data = df[(df['account_length'] <= df['account_length'].max()) & (df['account_length'] >= 100)]\n",
        "plot_account_length_pie(axes[2], three_digit_data, 'Three Digit Account Length Churn Rate')\n",
        "\n",
        "\n",
        "# Adjust layout and show the plot\n",
        "plt.tight_layout()\n",
        "plt.legend()\n",
        "plt.show()\n"
      ],
      "metadata": {
        "id": "aypfvZ-cM73-"
      },
      "execution_count": null,
      "outputs": []
    },
    {
      "cell_type": "code",
      "execution_count": null,
      "metadata": {
        "id": "bOtt_DxotcQn"
      },
      "outputs": [],
      "source": [
        "# Box Plot for Account Length attribute\n",
        "plt.figure(figsize=(7,6))\n",
        "sns.boxplot(data=df, x='churn', y='account_length', showmeans = True)\n",
        "plt.title('Account Length Boxplot with Churn', fontsize=15,pad=15)\n",
        "plt.show()"
      ]
    },
    {
      "cell_type": "markdown",
      "metadata": {
        "id": "T5P7-HPH259s"
      },
      "source": [
        "##### 1. Why did you pick the specific chart?"
      ]
    },
    {
      "cell_type": "markdown",
      "metadata": {
        "id": "GxkcYNaB259s"
      },
      "source": [
        "* **Pie charts** are generally used to show the proportions of a whole, and are especially useful for displaying data that has already been calculated as a percentage of the whole.\n",
        "\n",
        " So, I used Pie chart and which helped me to get the percentage comparision of the churn percentage account length wise.\n",
        "\n",
        "\n",
        "* A **boxplot** is used to summarize the key statistical characteristics of a dataset, including the median, quartiles, and range, in a single plot. Boxplots are useful for identifying the presence of outliers in a dataset, comparing the distribution of multiple datasets, and understanding the dispersion of the data. They are often used in statistical analysis and data visualization.\n",
        "\n",
        "  So, I used box plot to get the maximum and minimum value with well sagreggated outliers with well defined mean and median as shown in the box plot graph."
      ]
    },
    {
      "cell_type": "markdown",
      "metadata": {
        "id": "3yS1XvZS259t"
      },
      "source": [
        "##### 2. What is/are the insight(s) found from the chart?"
      ]
    },
    {
      "cell_type": "markdown",
      "metadata": {
        "id": "E-mQ4FNl259t"
      },
      "source": [
        "**Account Length**\n",
        "\n",
        "We can catagories Account Length into three catagories like\n",
        "\n",
        "![Chart 4.PNG](data:image/png;base64,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)\n",
        "\n",
        "\n"
      ]
    },
    {
      "cell_type": "markdown",
      "source": [
        "1. **New Customers (Less than 10 Days):**\n",
        "   - Churning Rate: 8.3%\n",
        "   - Interpretation: New customers with less than 10 days of account length have a relatively low churn rate of 8.3%. This suggests that these customers might be testing the telecom service and might not be satisfied. Providing better onboarding experiences or targeted promotions might help in retaining them.\n",
        "\n",
        "2. **Customers with Account Length Between 10 and 99 Days:**\n",
        "   - Churning Rate: 14%\n",
        "   - Interpretation: Customers with account length between 10 and 99 days have a higher churn rate of 14%. Within this range, customers below 50 days might be considered relatively new and could benefit from more personalized engagement or introductory offers. On the other hand, customers between 55 and 99 days might be at risk, possibly due to dissatisfaction with their current plans. Analyzing their needs and preferences could help in retaining them.\n",
        "\n",
        "3. **Long-Term Customers (More than 100 Days):**\n",
        "   - Churning Rate: 15%\n",
        "   - Interpretation: Customers with account length exceeding 100 days, described as old customers, might be churning due to a lack of additional offers or benefits. It would be beneficial to introduce loyalty programs, exclusive perks, or personalized plans to incentivize them to stay.\n"
      ],
      "metadata": {
        "id": "ahyLpznCM--a"
      }
    },
    {
      "cell_type": "markdown",
      "source": [
        "The key insight found from the chart is that customers with longer account lengths (two and three-digit account lengths) exhibit higher churn rates compared to those with shorter account lengths (less than two-digit). This suggests a potential correlation between account length and customer churn, indicating the need for targeted retention strategies for customers with longer account numbers."
      ],
      "metadata": {
        "id": "qBCwnEERMsgR"
      }
    },
    {
      "cell_type": "markdown",
      "metadata": {
        "id": "7QtB2_NG259t"
      },
      "source": [
        "##### 3. Will the gained insights help creating a positive business impact?\n",
        "Are there any insights that lead to negative growth? Justify with specific reason."
      ]
    },
    {
      "cell_type": "markdown",
      "source": [
        "**Positive Business Impact:**\n",
        "\n",
        "1. **Targeted Retention Strategies:** Tailoring strategies for different customer segments based on account length can help retain customers effectively. For instance, welcoming new customers with special offers, customizing plans for mid-term customers, and implementing loyalty programs for long-term customers.\n",
        "\n",
        "2. **Enhanced Customer Experience:** Addressing specific issues related to different account lengths can significantly improve overall customer satisfaction and loyalty.\n",
        "\n",
        "**Negative Growth Considerations:**\n",
        "\n",
        "1. **Risk of Misinterpretation:** Misinterpreting reasons for churn, especially among new customers, may lead to ineffective strategies. A deeper understanding of customer feedback is essential.\n",
        "\n",
        "2. **Resource Allocation:** Overemphasizing one customer segment may neglect others. Balancing resources across different segments is crucial for a comprehensive approach.\n",
        "\n",
        "3. **External Factors:** While account length is considered, external factors such as market competition and economic conditions might also contribute to churn. Ignoring these factors may limit the impact of retention strategies.\n",
        "\n",
        "4. **Lack of Customer Feedback:** The analysis focuses on churn rates but lacks insights from direct customer feedback. Understanding specific reasons for dissatisfaction is vital for implementing effective solutions."
      ],
      "metadata": {
        "id": "sGTsrF4lOIsn"
      }
    },
    {
      "cell_type": "markdown",
      "source": [],
      "metadata": {
        "id": "WUOEPVdLAAoI"
      }
    },
    {
      "cell_type": "markdown",
      "source": [
        "# **Multivariate analysis**"
      ],
      "metadata": {
        "id": "xq53nEmcABan"
      }
    },
    {
      "cell_type": "markdown",
      "source": [
        "### Chart - 12)  Correlation Heatmap"
      ],
      "metadata": {
        "id": "e9aadjyaOtKc"
      }
    },
    {
      "cell_type": "code",
      "source": [
        "df['area_code'] = pd.to_numeric(df['area_code'])"
      ],
      "metadata": {
        "id": "25XTPcZulnw2"
      },
      "execution_count": null,
      "outputs": []
    },
    {
      "cell_type": "code",
      "execution_count": null,
      "metadata": {
        "id": "K-rFTqKpwV3r"
      },
      "outputs": [],
      "source": [
        "\n",
        "# Calculate correlation matrix\n",
        "corr = df.corr()\n",
        "\n",
        "# Mask to hide the upper triangle of the heatmap\n",
        "mask = np.triu(np.ones_like(corr, dtype=bool))\n",
        "\n",
        "# Set up the matplotlib figure\n",
        "plt.figure(figsize=(14, 10))\n",
        "\n",
        "# color palette\n",
        "# cmap = sns.diverging_palette(220, 20, sep=20, as_cmap=True)\n",
        "\n",
        "# heatmap with the mask and correct aspect ratio\n",
        "sns.heatmap(corr, mask=mask, vmax=.3, center=0,\n",
        "            square=True, linewidths=.5, annot=True, fmt=\".2f\", cbar_kws={\"shrink\": .7})\n",
        "\n",
        "\n",
        "plt.title('Correlation Heatmap ', fontsize=18)\n",
        "plt.tight_layout()\n",
        "plt.show()\n"
      ]
    },
    {
      "cell_type": "code",
      "source": [
        "#  bar plot showing the correlation of each feature with the target variable ('churn')\n",
        "target_column = 'churn'\n",
        "\n",
        "included_columns = df.columns[df.columns != target_column]\n",
        "corr_with_churn = df[included_columns].corrwith(df[target_column])\n",
        "corr_df = pd.DataFrame({'Correlation with Churn': corr_with_churn})\n",
        "\n",
        "corr_df = corr_df.sort_values(by='Correlation with Churn', ascending=False)\n",
        "plt.figure(figsize=(14, 5))\n",
        "ax = sns.barplot(x=corr_df.index, y='Correlation with Churn', data=corr_df, palette='coolwarm')\n",
        "plt.title('Correlation with Churn', fontsize=16)\n",
        "plt.xticks(rotation=45, ha='right')\n",
        "\n",
        "# Add annotations\n",
        "for p in ax.patches:\n",
        "    ax.annotate(f'{p.get_height():.2f}', (p.get_x() + p.get_width() / 2., p.get_height()),\n",
        "                ha='center', va='center', fontsize=10, color='black', xytext=(0, 5),\n",
        "                textcoords='offset points')\n",
        "\n",
        "plt.show()\n",
        "\n"
      ],
      "metadata": {
        "id": "HEIGrE-mmwLr"
      },
      "execution_count": null,
      "outputs": []
    },
    {
      "cell_type": "markdown",
      "metadata": {
        "id": "1M8mcRywphqQ"
      },
      "source": [
        "##### 1. Why did you pick the specific chart?"
      ]
    },
    {
      "cell_type": "markdown",
      "metadata": {
        "id": "5r0vsZOKwV37"
      },
      "source": [
        "* The correlation coefficient is a measure of the strength and direction of a linear relationship between two variables. A correlation matrix is used to summarize the relationships among a set of variables and is an important tool for data exploration and for selecting which variables to include in a model. The range of correlation is [-1,1].\n",
        "\n",
        "  Thus to know the correlation between all the variables along with the correlation coeficients, we have used correlation heatmap.\n",
        "\n",
        "* I selected a bar plot to illustrate how each feature correlates with the '***churn***' target. The bar lengths convey correlation strength, and the coolwarm color palette signifies the correlation direction. Annotations on the bars offer specific correlation values, making it easy to interpret. This chart provides a concise and clear overview of feature correlations."
      ]
    },
    {
      "cell_type": "markdown",
      "metadata": {
        "id": "tgIPom80phqQ"
      },
      "source": [
        "##### 2. What is/are the insight(s) found from the chart?"
      ]
    },
    {
      "cell_type": "markdown",
      "source": [
        "1. **Strong Positive Correlations:**\n",
        "   - *total_day_minutes*, *total_day_charge*, *total_eve_minutes*, *total_eve_charge*, *total_intl_charge*, and *total_intl_minutes* are highly positively correlated, indicating a strong linear relationship. These variables may represent similar aspects of customer usage.\n",
        "\n",
        "   - *customer_service_calls* (0.21), *total_day_minutes* (0.21), and *total_day_charge* (0.21) show the strongest positive correlations with churn. Higher customer service calls and increased day usage are linked to a higher likelihood of churn.\n",
        "\n",
        "2. **Moderate Positive Correlations:**\n",
        "   - *total_eve_minutes* (0.09) and *total_eve_charge* (0.09) exhibit positive correlations, suggesting that higher evening usage moderately contributes to increased churn rates.\n",
        "\n",
        "   - *total_intl_charge* (0.07) and *total_intl_minutes* (0.07) have moderate positive correlations, indicating that elevated international charges and minutes contribute to a higher likelihood of churn.\n",
        "\n",
        "3. **Weak Negative Correlations:**\n",
        "   - *number_vmail_messages* (-0.09) has a weak negative correlation, implying that customers with more voicemail messages are slightly less likely to churn.\n",
        "\n",
        "   - *total_intl_calls* (-0.05) shows a weak negative correlation, suggesting that a higher number of international calls is associated with lower churn.\n",
        "\n",
        "4. **Multicollinearity Warning:**\n",
        "   - High correlations between *total_day_minutes* and *total_day_charge*, *total_eve_minutes* and *total_eve_charge*, *total_night_minutes* and *total_night_charge*, and *total_intl_minutes* and *total_intl_charge* suggest multicollinearity. These pairs provide redundant information, cautioning against their simultaneous inclusion in predictive models due to potential instability.\n",
        "\n",
        "In summary, customer service calls, day-time usage, international charges, and minutes are key contributors to churn. Conversely, having more voicemail messages or making more international calls appears to have a slightly protective effect against churn. These insights guide targeted customer retention strategies."
      ],
      "metadata": {
        "id": "EhAQi8kDo8K1"
      }
    },
    {
      "cell_type": "markdown",
      "source": [
        "### Chart - 13)  Pair Plot"
      ],
      "metadata": {
        "id": "Ibbe9VICsyXK"
      }
    },
    {
      "cell_type": "code",
      "execution_count": null,
      "metadata": {
        "id": "a1pQNfzKwgiO"
      },
      "outputs": [],
      "source": [
        "# Pair Plot\n",
        "\n",
        "plt.figure(figsize=(15, 20))\n",
        "pair_plot = sns.pairplot(df, hue=\"churn\", markers=[\"o\", \"s\"])\n",
        "\n",
        "pair_plot.fig.suptitle(\"Pair Plot of Features with Churn\", y=1.02, fontsize=16)\n",
        "plt.tight_layout()\n",
        "plt.show()\n"
      ]
    },
    {
      "cell_type": "markdown",
      "metadata": {
        "id": "3-TZ5gNtwgig"
      },
      "source": [
        "##### 1. Why did you pick the specific chart?"
      ]
    },
    {
      "cell_type": "markdown",
      "metadata": {
        "id": "kSRgR3ELwgih"
      },
      "source": [
        "A pairplot, also known as a scatterplot matrix, is a visualization that allows you to visualize the relationships between all pairs of variables in a dataset. It is a useful tool for data exploration because it allows you to quickly see how all of the variables in a dataset are related to one another.\n",
        "\n",
        "Thus, we used pair plot to analyse the patterns of data and realationship between the features. It's exactly same as the correlation map but here you will get the graphical representation."
      ]
    },
    {
      "cell_type": "markdown",
      "metadata": {
        "id": "t7_aX-T1wgil"
      },
      "source": [
        "##### 2. What is/are the insight(s) found from the chart?"
      ]
    },
    {
      "cell_type": "markdown",
      "metadata": {
        "id": "7ccGribdwgil"
      },
      "source": [
        "From the above chart we got to know, there are less linear relationship between variables and data points aren't linearly separable. Churned customers data is clustered and ovearlapped each other. Non churn data are quite symmetrical in nature and churned customer data are quite non symmetric in nature. In this whole pair plot, the importance of area code can be seen and the number of churn with respect to different features are really insightful. Rest insights can be depicted from the above graph."
      ]
    },
    {
      "cell_type": "markdown",
      "source": [
        "## **5. Solution to Business Objective**"
      ],
      "metadata": {
        "id": "JcMwzZxoAimU"
      }
    },
    {
      "cell_type": "markdown",
      "source": [
        "#### What do you suggest the client to achieve Business Objective ?\n",
        "Explain Briefly."
      ],
      "metadata": {
        "id": "8G2x9gOozGDZ"
      }
    },
    {
      "cell_type": "markdown",
      "source": [
        "I recommend a comprehensive strategy aligned with the business objectives:\n",
        "\n",
        "1. **Customer Service Excellence (25%):**\n",
        "   - Focus on resolving customer issues promptly to minimize the need for multiple service calls.\n",
        "   - Proactively communicate with customers, gather feedback regularly, and address concerns effectively.\n",
        "\n",
        "2. **International Plan Optimization (20%):**\n",
        "   - Review and improve International Plans by offering more competitive pricing and flexible alternatives.\n",
        "   - Encourage plan adoption by providing discounted rates for international calls.\n",
        "\n",
        "3. **Voice Mail Plan Promotion (15%):**\n",
        "   - Promote the benefits of Voice Mail Plans through targeted marketing campaigns.\n",
        "   - Incentivize customers to opt for voice mail services by introducing introductory discounts or additional features.\n",
        "\n",
        "4. **Balanced Usage Plans (15%):**\n",
        "   - Analyze and optimize day and evening usage patterns to create personalized plans.\n",
        "   - Introduce tiered pricing or promotions for balanced usage to prevent excessive charges and potential churn.\n",
        "\n",
        "5. **State-Specific Strategies (15%):**\n",
        "   - Address connectivity issues in states with high churn rates (e.g., California, New Jersey).\n",
        "   - Learn from successful strategies in states with low churn rates (e.g., Hawaii, Alaska) to enhance service quality.\n",
        "\n",
        "6. **Enhanced Onboarding Experience (5%):**\n",
        "   - Improve onboarding processes for new customers to create positive initial impressions.\n",
        "   - Provide welcome offers, exclusive discounts, or additional benefits to attract and retain new customers.\n",
        "\n",
        "7. **Loyalty Programs (5%):**\n",
        "   - Introduce loyalty programs for customers with longer account lengths, offering exclusive perks and discounts.\n",
        "   - Reward customer loyalty with tiered pricing, special promotions, or personalized services.\n",
        "\n",
        "8. **Competitive Pricing Model (5%):**\n",
        "   - Conduct a pricing analysis to ensure competitiveness in the market.\n",
        "   - Consider introducing cost-effective plans, discounts, or bundling options to attract price-sensitive customers.\n",
        "\n",
        "By implementing these initiatives strategically, the company can anticipate a 20-25% reduction in overall churn rates. This comprehensive approach, focusing on customer satisfaction, targeted promotions, and competitive pricing, will foster increased customer loyalty and contribute to the long-term success of the business."
      ],
      "metadata": {
        "id": "4ZdXg9gBFaUR"
      }
    },
    {
      "cell_type": "markdown",
      "source": [
        "# **Conclusion**"
      ],
      "metadata": {
        "id": "gCX9965dhzqZ"
      }
    },
    {
      "cell_type": "markdown",
      "source": [
        "**Conclusion:**\n",
        "\n",
        "what I've noticed in the data about customers leaving, it's clear there are some important things affecting why people decide to leave a telecom service. Here's what I've observed and a few suggestions based on that:\n",
        "\n",
        "1. **Usage Patterns and Churn:**\n",
        "   - Customers who predominantly use the service in the day/morning exhibit a higher likelihood of churn.\n",
        "   - Morning users speak for shorter durations but make more calls, indicating a potential dissatisfaction with service quality or pricing.\n",
        "   - International plan users consistently show higher churn rates compared to non-users, suggesting a need for plan optimization.\n",
        "\n",
        "2. **Prescriptive Measures:**\n",
        "   - Introduce cost-effective plans that minimize charges for increased call volume, incentivizing higher usage.\n",
        "   - Implement tiered pricing structures, decreasing costs as talk-time increases, aligning with customer preferences.\n",
        "   - Prioritize improvement in customer service to reduce the number of calls leading to churn, enhancing overall satisfaction.\n",
        "\n",
        "3. **Dataset Insights:**\n",
        "   - Charge fields (day, evening, night, international) directly correlate with minute fields, emphasizing their significance in understanding customer behavior.\n",
        "   - The area code's relevance is questionable, and excluding it from analyses may streamline models without significant information loss.\n",
        "   - Customers with an International Plan exhibit higher churn, highlighting the need for plan revisions or targeted retention strategies.\n",
        "   - Four or more customer service calls are a strong churn indicator, necessitating focused efforts on issue resolution and customer support.\n",
        "\n",
        "4. **Usage Intensity and Churn:**\n",
        "   - Customers with high day and evening minute usage demonstrate elevated churn rates, suggesting potential dissatisfaction despite increased usage.\n",
        "\n",
        "5. **Inconclusive Variables:**\n",
        "   - Variables such as day calls, evening calls, night calls, international calls, night minutes, international minutes, account length, and voice mail messages lack a clear relationship with churn.\n",
        "\n",
        "In summary, the telecom industry's slow acquisition rate accentuates the importance of retention efforts. The prescribed strategies, tailored to usage patterns and addressing identified churn indicators, form a comprehensive approach. By optimizing pricing models, refining service quality, and strategically addressing customer pain points, the company can proactively reduce churn, foster customer loyalty, and position itself for sustained success in the highly competitive telecommunications landscape."
      ],
      "metadata": {
        "id": "YCxDHDEBIHfx"
      }
    },
    {
      "cell_type": "markdown",
      "source": [
        "### ***Hurrah! You have successfully completed your EDA Capstone Project !!!***"
      ],
      "metadata": {
        "id": "gIfDvo9L0UH2"
      }
    }
  ]
}