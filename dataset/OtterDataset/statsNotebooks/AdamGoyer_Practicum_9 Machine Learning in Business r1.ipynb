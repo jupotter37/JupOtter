{
 "cells": [
  {
   "cell_type": "markdown",
   "metadata": {},
   "source": [
    "**Review**\n",
    "\n",
    "Hi, my name is Dmitry and I will be reviewing your project.\n",
    "  \n",
    "You can find my comments in colored markdown cells:\n",
    "  \n",
    "<div class=\"alert alert-success\">\n",
    "  If everything is done successfully.\n",
    "</div>\n",
    "  \n",
    "<div class=\"alert alert-warning\">\n",
    "  If I have some (optional) suggestions, or questions to think about, or general comments.\n",
    "</div>\n",
    "  \n",
    "<div class=\"alert alert-danger\">\n",
    "  If a section requires some corrections. Work can't be accepted with red comments.\n",
    "</div>\n",
    "  \n",
    "Please don't remove my comments, as it will make further review iterations much harder for me.\n",
    "  \n",
    "Feel free to reply to my comments or ask questions using the following template:\n",
    "  \n",
    "<div class=\"alert alert-info\">\n",
    "  For your comments and questions.\n",
    "</div>\n",
    "  \n",
    "First of all, thank you for turning in the project! You did a pretty good job overall, but one unfortunate mistake made the bootstrap profit results incorrect. See comments below for details. Let me know if you have any questions!"
   ]
  },
  {
   "attachments": {},
   "cell_type": "markdown",
   "metadata": {},
   "source": [
    "<div class=\"alert alert-info\">\n",
    "<b>Student's comment</b> <br>\n",
    "<br>\n",
    "Thanks for your help.<br>\n",
    "This project was very interesting and I learned a lot.<br>\n",
    "It was also very frustrating.<br>\n",
    "I started writing unit tests, and wrote and rewrote the bootstrapping functions several times.<br>\n",
    "Finally I went back and tested the changes, and started getting viable outputs.<br>\n",
    "I think I failed to fix a random seed somewhere, consequently the numbers bounce around a bit from run to run.<br>\n",
    "- update - fixed the random_state = 42 <br>\n",
    "Updated some of the end of chapter reports to be auto generated and always up to date.<br>\n",
    "</div>"
   ]
  },
  {
   "cell_type": "markdown",
   "metadata": {},
   "source": [
    "# Sprint 9. Machine Learning in Business\n",
    "## Project description\n",
    "You work for the OilyGiant mining company. Your task is to find the best place for a new well.\n",
    "Steps to choose the location:\n",
    "* Collect the oil well parameters in the selected region: oil quality and volume of reserves;\n",
    "* Build a model for predicting the volume of reserves in the new wells;\n",
    "* Pick the oil wells with the highest estimated values;\n",
    "* Pick the region with the highest total profit for the selected oil wells.\n",
    "You have data on oil samples from three regions. Parameters of each oil well in the region are already known. Build a model that will help to pick the region with the highest profit margin. Analyze potential profit and risks using the Bootstrapping technique.\n",
    "## Data description\n",
    "Geological exploration data for the three regions are stored in files:\n",
    "* geo_data_0.csv. download dataset\n",
    "* geo_data_1.csv. download dataset\n",
    "* geo_data_2.csv. download dataset\n",
    "* id — unique oil well identifier\n",
    "* f0, f1, f2 — three features of points (their specific meaning is unimportant, but the features themselves are significant)\n",
    "* product — volume of reserves in the oil well (thousand barrels).\n",
    "## Conditions:\n",
    "* Only linear regression is suitable for model training (the rest are not sufficiently predictable).\n",
    "* When exploring the region, a study of 500 points is carried with picking the best 200 points for the profit calculation.\n",
    "* The budget for development of 200 oil wells is 100 USD million.\n",
    "* One barrel of raw materials brings 4.5 USD of revenue The revenue from one unit of product is 4,500 dollars (volume of reserves is in thousand barrels).\n",
    "* After the risk evaluation, keep only the regions with the risk of losses lower than 2.5%. From the ones that fit the criteria, the region with the highest average profit should be selected."
   ]
  },
  {
   "cell_type": "markdown",
   "metadata": {},
   "source": [
    "# 1. Download and prepare the data. \n",
    "Explain the procedure."
   ]
  },
  {
   "cell_type": "code",
   "execution_count": 120,
   "metadata": {},
   "outputs": [],
   "source": [
    "# Load libraries\n",
    "import pandas as pd\n",
    "from sklearn.model_selection import train_test_split\n",
    "from sklearn.linear_model import LinearRegression\n",
    "from sklearn.metrics import mean_squared_error\n",
    "import numpy as np"
   ]
  },
  {
   "cell_type": "code",
   "execution_count": 121,
   "metadata": {},
   "outputs": [],
   "source": [
    "import numpy as np\n",
    "import random\n",
    "\n",
    "# Fix the random seeds\n",
    "random_seed = 42\n",
    "np.random.seed(random_seed)\n",
    "random.seed(random_seed)\n"
   ]
  },
  {
   "cell_type": "markdown",
   "metadata": {},
   "source": [
    "## 1.2  Load the Data\n",
    "This function downloads the datasets, saves them in a local 'datasets' folder, and loads them into pandas DataFrames."
   ]
  },
  {
   "cell_type": "code",
   "execution_count": 122,
   "metadata": {},
   "outputs": [],
   "source": [
    "import os\n",
    "import pandas as pd\n",
    "\n",
    "def download_and_load_datasets():\n",
    "    # Check if the datasets folder exists\n",
    "    if not os.path.exists('datasets'):\n",
    "        os.makedirs('datasets')\n",
    "\n",
    "    # Download the source CSV files and save them in the datasets folder\n",
    "    urls = [\n",
    "        'https://practicum-content.s3.us-west-1.amazonaws.com/datasets/geo_data_0.csv',\n",
    "        'https://practicum-content.s3.us-west-1.amazonaws.com/datasets/geo_data_1.csv',\n",
    "        'https://practicum-content.s3.us-west-1.amazonaws.com/datasets/geo_data_2.csv'\n",
    "    ]\n",
    "    filenames = ['geo_data_0.csv', 'geo_data_1.csv', 'geo_data_2.csv']\n",
    "    \n",
    "    data = []\n",
    "\n",
    "    for url, filename in zip(urls, filenames):\n",
    "        try:\n",
    "            df = pd.read_csv(url)\n",
    "        except:\n",
    "            df = pd.read_csv(url)\n",
    "        \n",
    "        df.to_csv(f'datasets/{filename}')\n",
    "        data.append(df)\n",
    "    \n",
    "    return data\n",
    "\n",
    "data = download_and_load_datasets()\n"
   ]
  },
  {
   "cell_type": "markdown",
   "metadata": {},
   "source": [
    "# 2. Train and test the model for each region"
   ]
  },
  {
   "cell_type": "markdown",
   "metadata": {},
   "source": [
    "This code saves the average predicted volumes and RMSE values for each region in separate lists, so you can easily use them later in the analysis without hardcoding the values. <br>\n",
    "2.3 It also creates a dictionary called region_result for each region and stores the predictions and correct answers in it. These dictionaries are then appended to the region_results list, which will contain the results for all regions."
   ]
  },
  {
   "cell_type": "code",
   "execution_count": 123,
   "metadata": {},
   "outputs": [
    {
     "name": "stdout",
     "output_type": "stream",
     "text": [
      "Region 0: Average predicted volume: 92.39879990657768, RMSE: 37.75660035026169\n",
      "Region 1: Average predicted volume: 68.71287803913762, RMSE: 0.8902801001028858\n",
      "Region 2: Average predicted volume: 94.77102387765939, RMSE: 40.14587231134218\n"
     ]
    }
   ],
   "source": [
    "region_averages = []\n",
    "region_rmse = []\n",
    "targets_valid = []\n",
    "predictions_list = []\n",
    "\n",
    "for i, region in enumerate(data):\n",
    "    # 2.1. Split the data into a training set and validation set at a ratio of 75:25\n",
    "    features = region.drop(['id', 'product'], axis=1)\n",
    "    target = region['product']\n",
    "    features_train, features_valid, target_train, target_valid = train_test_split(features, target, test_size=0.25, random_state=42)\n",
    "\n",
    "    # # 2.2. Train the model and make predictions for the validation set\n",
    "    model = LinearRegression()\n",
    "    model.fit(features_train, target_train)\n",
    "    predictions = model.predict(features_valid)\n",
    "\n",
    "    # 2.3. Save the predictions and correct answers for the validation set\n",
    "    targets_valid.append(target_valid)\n",
    "    predictions_list.append(pd.Series(predictions, index=target_valid.index))\n",
    "\n",
    "    # 2.4. Calculate the average volume of predicted reserves and model RMSE\n",
    "    rmse = mean_squared_error(target_valid, predictions, squared=False)\n",
    "    avg_predicted_volume = predictions.mean()\n",
    "\n",
    "    # Save region averages and RMSE to their respective lists\n",
    "    region_averages.append(avg_predicted_volume)\n",
    "    region_rmse.append(rmse)\n",
    "\n",
    "    print(f\"Region {i}: Average predicted volume: {avg_predicted_volume}, RMSE: {rmse}\")\n",
    "\n",
    "\n"
   ]
  },
  {
   "cell_type": "markdown",
   "metadata": {},
   "source": [
    "<div class=\"alert alert-success\">\n",
    "<b>Reviewer's comment</b>\n",
    "\n",
    "Good, the data for each region was split into train and validation sets, the models were trained and evaluated correctly\n",
    "\n",
    "</div>"
   ]
  },
  {
   "cell_type": "markdown",
   "metadata": {},
   "source": [
    "## 2.5 Analyze the results\n",
    "### Discuss the model performance for each region\n",
    "| Region | Average Predicted Volume (thousand barrels) | RMSE   |\n",
    "|--------|---------------------------------------------|--------|\n",
    "| 0      | 92.5925                                    | 37.5794|\n",
    "| 1      | 68.7285                                    | 0.8931 |\n",
    "| 2      | 94.9650                                    | 40.0297|\n",
    "\n",
    "\n",
    "From these results, we can observe that the average predicted volumes of oil reserves for Region 0 and Region 2 are higher than that of Region 1. However, the RMSE is also significantly higher for both Region 0 and Region 2, indicating that the model's predictions have a larger margin of error in these regions.\n",
    "\n",
    "On the other hand, the RMSE for Region 1 is very low, which implies that the model's predictions are more accurate for this region. This could be beneficial when making decisions about which wells to develop, as there is a higher level of certainty in the predicted oil reserves.\n",
    "\n",
    "In the next sections, we will calculate the potential profit and risk for each region, which will help us to make a better-informed decision about which region to select for oil well development."
   ]
  },
  {
   "cell_type": "markdown",
   "metadata": {},
   "source": [
    "<div class=\"alert alert-success\">\n",
    "<b>Reviewer's comment</b>\n",
    "\n",
    "Conclusions make sense\n",
    "\n",
    "</div>"
   ]
  },
  {
   "cell_type": "markdown",
   "metadata": {},
   "source": [
    "# 3. Prepare for profit calculation"
   ]
  },
  {
   "cell_type": "markdown",
   "metadata": {},
   "source": [
    "## 3.1. Store all key values for calculations in separate variables"
   ]
  },
  {
   "cell_type": "code",
   "execution_count": 124,
   "metadata": {},
   "outputs": [],
   "source": [
    "# 3.1. Store all key values for calculations in separate variables\n",
    "BUDGET = 100_000_000\n",
    "REVENUE_PER_THOUSAND_BARRELS = 4_500\n",
    "WELLS_FOR_DEVELOPMENT = 200\n"
   ]
  },
  {
   "cell_type": "markdown",
   "metadata": {},
   "source": [
    "## 3.2. Calculate the volume of reserves sufficient for developing a new well without losses. \n",
    "Compare the obtained value with the average volume of reserves in each region.\n",
    "This code will print the break-even volume and the average predicted volume for each region, and indicate whether the average predicted volume is above or below the break-even volume."
   ]
  },
  {
   "cell_type": "code",
   "execution_count": 125,
   "metadata": {},
   "outputs": [
    {
     "name": "stdout",
     "output_type": "stream",
     "text": [
      "Break-even volume (thousand barrels): 111.11111111111111\n"
     ]
    }
   ],
   "source": [
    "break_even_volume = BUDGET / (WELLS_FOR_DEVELOPMENT * REVENUE_PER_THOUSAND_BARRELS)\n",
    "print(\"Break-even volume (thousand barrels):\", break_even_volume)\n"
   ]
  },
  {
   "cell_type": "markdown",
   "metadata": {},
   "source": [
    "<div class=\"alert alert-success\">\n",
    "<b>Reviewer's comment</b>\n",
    "\n",
    "Calculation is correct\n",
    "\n",
    "</div>"
   ]
  },
  {
   "cell_type": "markdown",
   "metadata": {},
   "source": [
    "## 3.3. Provide the findings about the preparation for profit calculation step\n"
   ]
  },
  {
   "cell_type": "code",
   "execution_count": 126,
   "metadata": {},
   "outputs": [
    {
     "name": "stdout",
     "output_type": "stream",
     "text": [
      "Break-even volume (thousand barrels): 111.11111111111111\n",
      "Region 0:\n",
      "  Average predicted volume (thousand barrels): 92.39879990657768\n",
      "  The average predicted volume in Region 0 is 18.71 thousand barrels below the break-even volume.\n",
      "Region 1:\n",
      "  Average predicted volume (thousand barrels): 68.71287803913762\n",
      "  The average predicted volume in Region 1 is 42.40 thousand barrels below the break-even volume.\n",
      "Region 2:\n",
      "  Average predicted volume (thousand barrels): 94.77102387765939\n",
      "  The average predicted volume in Region 2 is 16.34 thousand barrels below the break-even volume.\n"
     ]
    }
   ],
   "source": [
    "# 3.3. Provide the findings about the preparation for profit calculation step\n",
    "# Summarize the findings\n",
    "print(\"Break-even volume (thousand barrels):\", break_even_volume)\n",
    "\n",
    "for i, avg in enumerate(region_averages):\n",
    "    print(f\"Region {i}:\")\n",
    "    print(f\"  Average predicted volume (thousand barrels): {avg}\")\n",
    "    difference = avg - break_even_volume\n",
    "    if difference >= 0:\n",
    "        print(f\"  The average predicted volume in Region {i} is {abs(difference):.2f} thousand barrels above the break-even volume.\")\n",
    "    else:\n",
    "        print(f\"  The average predicted volume in Region {i} is {abs(difference):.2f} thousand barrels below the break-even volume.\")\n"
   ]
  },
  {
   "cell_type": "code",
   "execution_count": 127,
   "metadata": {},
   "outputs": [
    {
     "data": {
      "image/png": "[encoded data removed]",
      "text/plain": [
       "<Figure size 432x288 with 1 Axes>"
      ]
     },
     "metadata": {
      "needs_background": "light"
     },
     "output_type": "display_data"
    }
   ],
   "source": [
    "import matplotlib.pyplot as plt\n",
    "\n",
    "regions = ['Region 0', 'Region 1', 'Region 2']\n",
    "plt.bar(regions, region_averages, label='Average Predicted Volume')\n",
    "plt.axhline(y=break_even_volume, color='r', linestyle='--', label='Break-even Volume')\n",
    "\n",
    "plt.xlabel('Regions')\n",
    "plt.ylabel('Volume (thousand barrels)')\n",
    "plt.title('Average Predicted Volume vs. Break-even Volume')\n",
    "plt.legend()\n",
    "plt.show()\n"
   ]
  },
  {
   "cell_type": "markdown",
   "metadata": {},
   "source": [
    "So far, we have performed the following tasks:\n",
    "\n",
    "1. **Downloaded and prepared the data** for three regions.\n",
    "2. **Trained and tested a linear regression model** for each region. We calculated the average predicted volume of reserves and the RMSE for each region. Here are the results:\n",
    "\n",
    "   - Region 0: Average predicted volume: 92.59 thousand barrels, RMSE: 37.58\n",
    "   - Region 1: Average predicted volume: 68.73 thousand barrels, RMSE: 0.89\n",
    "   - Region 2: Average predicted volume: 94.97 thousand barrels, RMSE: 40.03\n",
    "\n",
    "3. **Calculated the break-even volume** of reserves needed for developing a new well without losses, which is 111.11 thousand barrels.\n",
    "\n",
    "We compared the average predicted volume of reserves for each region with the break-even volume:\n",
    "\n",
    "   - Region 0 has an average predicted volume of 92.59 thousand barrels, which is 18.52 thousand barrels below the break-even volume.\n",
    "   - Region 1 has an average predicted volume of 68.73 thousand barrels, which is 42.38 thousand barrels below the break-even volume.\n",
    "   - Region 2 has an average predicted volume of 94.97 thousand barrels, which is 16.14 thousand barrels below the break-even volume.\n",
    "\n",
    "Based on these findings, none of the regions has an average predicted volume of reserves above the break-even volume. However, **Region 2 is the closest to the break-even point**, followed by Region 0. Region 1 has the lowest average predicted volume of reserves and the lowest RMSE, indicating that the model's predictions for this region are more precise but the potential reserves are lower.\n"
   ]
  },
  {
   "cell_type": "markdown",
   "metadata": {},
   "source": [
    "<div class=\"alert alert-success\">\n",
    "<b>Reviewer's comment</b>\n",
    "\n",
    "Well done!\n",
    "\n",
    "</div>"
   ]
  },
  {
   "cell_type": "markdown",
   "metadata": {},
   "source": [
    "# 4. Write a function to calculate profit from a set of selected oil wells and model predictions"
   ]
  },
  {
   "cell_type": "markdown",
   "metadata": {},
   "source": [
    "## 4.1. Pick the wells with the highest values of predictions\n"
   ]
  },
  {
   "cell_type": "code",
   "execution_count": 128,
   "metadata": {},
   "outputs": [],
   "source": [
    "# ## Version 1 below for reference\n",
    "\n",
    "# def calculate_profits_for_regions(targets, predictions_list, count):\n",
    "#     profits = {}\n",
    "    \n",
    "#     for i, (target, predictions) in enumerate(zip(targets, predictions_list)):\n",
    "#         top_wells = predictions.sort_values(ascending=False).head(count).index\n",
    "#         total_reserves = target.loc[top_wells].sum()\n",
    "#         profit = total_reserves * REVENUE_PER_THOUSAND_BARRELS - BUDGET\n",
    "#         profits[i] = profit\n",
    "    \n",
    "#     return profits\n",
    "\n",
    "# def calculate_profit(target, predictions, count):\n",
    "#     top_wells = predictions.sort_values(ascending=False).head(count).index\n",
    "#     total_reserves = target.loc[top_wells].sum()\n",
    "#     revenue = total_reserves * REVENUE_PER_THOUSAND_BARRELS\n",
    "#     profit = revenue - BUDGET\n",
    "#     return profit\n",
    "\n"
   ]
  },
  {
   "attachments": {},
   "cell_type": "markdown",
   "metadata": {},
   "source": [
    "The calculate_profit function takes three input arguments: target, predictions, and count. The target variable contains the true reserves of the wells, while predictions holds the predicted reserves. The count parameter represents the number of wells to be developed.\n",
    "\n",
    "The function first resets and drops the indices of both target and predictions. This ensures that the indices match and can be used for selecting the corresponding elements between them.\n",
    "\n",
    "The predictions are sorted in descending order, and the top count wells with the highest predicted reserves are selected. The indices of these top wells are stored in the top_wells variable.\n",
    "\n",
    "Using the indices in top_wells, the corresponding true reserves in the target are selected and summed to obtain the total_reserves.\n",
    "\n",
    "The revenue is then calculated by multiplying the total_reserves by the REVENUE_PER_THOUSAND_BARRELS constant.\n",
    "\n",
    "The profit is calculated by subtracting the BUDGET constant from the revenue.\n",
    "\n",
    "The function finally returns the calculated profit.\n",
    "\n",
    "This function essentially calculates the profit for developing the top count wells, based on the given predictions and true reserves."
   ]
  },
  {
   "cell_type": "code",
   "execution_count": 129,
   "metadata": {},
   "outputs": [],
   "source": [
    "### V2\n",
    "\n",
    "def calculate_profit(target, predictions, count):\n",
    "    # Reset and drop indices of target and predictions\n",
    "    target = target.reset_index(drop=True)\n",
    "    predictions = predictions.reset_index(drop=True)\n",
    "\n",
    "    top_wells = predictions.sort_values(ascending=False).head(count).index\n",
    "    total_reserves = target.loc[top_wells].sum()\n",
    "    revenue = total_reserves * REVENUE_PER_THOUSAND_BARRELS\n",
    "    profit = revenue - BUDGET\n",
    "    return profit\n",
    "\n"
   ]
  },
  {
   "attachments": {},
   "cell_type": "markdown",
   "metadata": {},
   "source": [
    "The calculate_profits_for_regions function takes three input arguments: targets, predictions_list, and count. The targets variable is a list containing the true reserves of the wells for multiple regions, while predictions_list is a list of predicted reserves for the same regions. The count parameter represents the number of wells to be developed in each region.\n",
    "\n",
    "The function initializes an empty dictionary called profits, which will be used to store the calculated profit for each region.\n",
    "\n",
    "The function iterates over the targets and predictions_list using the enumerate() function. This provides both the index (i) and the corresponding target and predictions values for each region.\n",
    "\n",
    "For each region, the function calls the calculate_profit function, passing in the target, predictions, and count arguments. The result is stored in the profit variable.\n",
    "\n",
    "The calculated profit for each region is then added to the profits dictionary, with the region index (i) as the key.\n",
    "\n",
    "After iterating through all the regions, the function returns the profits dictionary.\n",
    "\n",
    "This function calculates and stores the profit for each region, given the true reserves and predictions, by calling the calculate_profit function for each region."
   ]
  },
  {
   "cell_type": "code",
   "execution_count": 130,
   "metadata": {},
   "outputs": [],
   "source": [
    "### v2\n",
    "\n",
    "def calculate_profits_for_regions(targets, predictions_list, count):\n",
    "    profits = {}\n",
    "\n",
    "    for i, (target, predictions) in enumerate(zip(targets, predictions_list)):\n",
    "        profit = calculate_profit(target, predictions, count)\n",
    "        profits[i] = profit\n",
    "\n",
    "    return profits"
   ]
  },
  {
   "attachments": {},
   "cell_type": "markdown",
   "metadata": {},
   "source": [
    "This code block calculates the profits for each region using the calculate_profits_for_regions function. It takes in three arguments: targets_valid, predictions_list, and WELLS_FOR_DEVELOPMENT.\n",
    "\n",
    "targets_valid is a list of true reserves for the validation wells in each region, and predictions_list is a list of predicted reserves for the same validation wells. WELLS_FOR_DEVELOPMENT is the number of wells to be developed in each region.\n",
    "\n",
    "The calculate_profits_for_regions function is called with these arguments, and the resulting profits for each region are stored in the region_profits variable, which is a dictionary with the region index as the key and the profit value as the associated value.\n",
    "\n",
    "This code block computes the profits for each region, considering the true reserves, predictions, and the number of wells to be developed."
   ]
  },
  {
   "cell_type": "code",
   "execution_count": 131,
   "metadata": {},
   "outputs": [],
   "source": [
    "# Calculate the profits for each region\n",
    "region_profits = calculate_profits_for_regions(targets_valid, predictions_list, WELLS_FOR_DEVELOPMENT)"
   ]
  },
  {
   "attachments": {},
   "cell_type": "markdown",
   "metadata": {},
   "source": [
    "This code block prints the profits for each region calculated in the previous step. It iterates through the region_profits dictionary, which contains the region index as the key and the corresponding profit as the value.\n",
    "\n",
    "For each item in the dictionary, the code block prints a formatted string displaying the region index and the profit in USD. This provides a clear and readable output of the profits for each region based on the true reserves, predictions, and the number of wells to be developed."
   ]
  },
  {
   "cell_type": "code",
   "execution_count": 132,
   "metadata": {},
   "outputs": [
    {
     "name": "stdout",
     "output_type": "stream",
     "text": [
      "Region 0: Profit: 33591411.14462179 USD\n",
      "Region 1: Profit: 24150866.966815114 USD\n",
      "Region 2: Profit: 25985717.59374112 USD\n"
     ]
    }
   ],
   "source": [
    "# Print the profits for each region\n",
    "for i, profit in region_profits.items():\n",
    "    print(f\"Region {i}: Profit: {profit} USD\")"
   ]
  },
  {
   "attachments": {},
   "cell_type": "markdown",
   "metadata": {},
   "source": [
    "We create a test class called TestProfitCalculation that inherits from unittest.TestCase. We define two test methods: test_calculate_profit and test_calculate_profits_for_regions. In each test method, we define sample input data and expected output, then call the respective function with the sample input data and compare the actual output with the expected output using the appropriate unittest assertion methods (assertAlmostEqual for floating-point comparisons and assertEqual for dictionary comparisons).\n",
    "\n",
    "These tests are basic and serve as a starting point. You can add more test cases to cover different scenarios and edge cases to ensure that the functions work correctly in various situations.\n",
    "\n",
    "To run the tests, simply include the test class and call unittest.main(argv=[\"\"], exit=False) at the end of the script. This will execute all test methods in the TestProfitCalculation class and display the test results."
   ]
  },
  {
   "cell_type": "code",
   "execution_count": 133,
   "metadata": {},
   "outputs": [
    {
     "name": "stderr",
     "output_type": "stream",
     "text": [
      "..\n",
      "----------------------------------------------------------------------\n",
      "Ran 2 tests in 0.003s\n",
      "\n",
      "OK\n"
     ]
    }
   ],
   "source": [
    "import unittest\n",
    "\n",
    "class TestProfitCalculation(unittest.TestCase):\n",
    "    \n",
    "    def test_calculate_profit(self):\n",
    "        target = pd.Series([100, 50, 30, 20, 10])\n",
    "        predictions = pd.Series([100, 50, 30, 20, 10], index=[0, 1, 2, 3, 4])\n",
    "        count = 2\n",
    "\n",
    "        actual_profit = calculate_profit(target, predictions, count)\n",
    "\n",
    "        # Update the expected profit value\n",
    "        expected_profit = (100 + 50) * REVENUE_PER_THOUSAND_BARRELS - BUDGET\n",
    "        self.assertAlmostEqual(expected_profit, actual_profit, places=2)\n",
    "\n",
    "    def test_calculate_profits_for_regions(self):\n",
    "        targets = [pd.Series([100, 50, 30, 20, 10]), pd.Series([120, 60, 40, 30, 20])]\n",
    "        predictions_list = [pd.Series([100, 50, 30, 20, 10], index=[0, 1, 2, 3, 4]),\n",
    "                            pd.Series([120, 60, 40, 30, 20], index=[0, 1, 2, 3, 4])]\n",
    "        count = 2\n",
    "\n",
    "        actual_profits = calculate_profits_for_regions(targets, predictions_list, count)\n",
    "\n",
    "        # Update the expected profits values\n",
    "        expected_profits = {\n",
    "            0: (100 + 50) * REVENUE_PER_THOUSAND_BARRELS - BUDGET,\n",
    "            1: (120 + 60) * REVENUE_PER_THOUSAND_BARRELS - BUDGET,\n",
    "        }\n",
    "        self.assertEqual(expected_profits, actual_profits)\n",
    "\n",
    "\n",
    "if __name__ == \"__main__\":\n",
    "    unittest.main(argv=[\"\"], exit=False)\n"
   ]
  },
  {
   "attachments": {},
   "cell_type": "markdown",
   "metadata": {},
   "source": [
    "the bootstrap_resample_test function takes targets, predictions, count, and an optional n_iterations parameter. The function performs bootstrap resampling n_iterations times, and for each iteration, it checks if the number of unique indices in the top_wells Series is equal to count. If they are not equal, a message is printed, indicating that there are repeating indices in this iteration.\n",
    "\n",
    "You can call this function with your targets_valid and predictions_list for each region to check for repeating indices:"
   ]
  },
  {
   "cell_type": "code",
   "execution_count": 134,
   "metadata": {},
   "outputs": [],
   "source": [
    "def bootstrap_resample_test(target, predictions, count, n_iterations=100):\n",
    "    n_samples = len(target)\n",
    "    \n",
    "    for i in range(n_iterations):\n",
    "        resampled_indices = np.random.choice(target.index, size=n_samples, replace=True)\n",
    "        resampled_target = target.loc[resampled_indices]\n",
    "        resampled_predictions = predictions.loc[resampled_indices]\n",
    "        \n",
    "        top_wells = resampled_predictions.sort_values(ascending=False).head(count).index\n",
    "        unique_top_wells = top_wells.nunique()\n",
    "\n",
    "        if unique_top_wells != count:\n",
    "            print(f\"Iteration {i}: Unique top_wells count ({unique_top_wells}) does not equal {count}.\")\n",
    "            break\n",
    "    else:\n",
    "        print(f\"All {n_iterations} iterations had unique top_wells count equal to {count}.\")\n"
   ]
  },
  {
   "cell_type": "code",
   "execution_count": 135,
   "metadata": {},
   "outputs": [
    {
     "name": "stdout",
     "output_type": "stream",
     "text": [
      "Checking Region 0:\n",
      "Iteration 0: Unique top_wells count (129) does not equal 200.\n",
      "\n",
      "Checking Region 1:\n",
      "Iteration 0: Unique top_wells count (115) does not equal 200.\n",
      "\n",
      "Checking Region 2:\n",
      "Iteration 0: Unique top_wells count (134) does not equal 200.\n",
      "\n"
     ]
    }
   ],
   "source": [
    "for i, (target, predictions) in enumerate(zip(targets_valid, predictions_list)):\n",
    "    print(f\"Checking Region {i}:\")\n",
    "    bootstrap_resample_test(target, predictions, WELLS_FOR_DEVELOPMENT)\n",
    "    print()\n"
   ]
  },
  {
   "attachments": {},
   "cell_type": "markdown",
   "metadata": {},
   "source": [
    "V1 outputs: <br>\n",
    "Region 0: Profit: 33208260.43139851 USD <br>\n",
    "Region 1: Profit: 24150866.966815114 USD <br>\n",
    "Region 2: Profit: 27103499.635998324 USD <br>"
   ]
  },
  {
   "cell_type": "code",
   "execution_count": 136,
   "metadata": {},
   "outputs": [],
   "source": [
    "# display(predictions)\n",
    "# display(target)"
   ]
  },
  {
   "attachments": {},
   "cell_type": "markdown",
   "metadata": {},
   "source": [
    "## 4.1 annalysis of the results thus far:\n",
    "\n",
    "In this analysis, we have examined the potential profits of developing oil wells in three regions. We used a bootstrap resampling technique to account for uncertainty in the predictions and calculated the average profit for each region. The results are as follows: <br>\n",
    "<br>\n",
    "* Region 0: Profit: 33,208,260.43 USD <br>\n",
    "* Region 1: Profit: 24,150,866.97 USD <br>\n",
    "* Region 2: Profit: 27,103,499.64 USD <br>\n",
    "To ensure the accuracy of our calculations, we created unit tests for the calculate_profit and calculate_profits_for_regions functions. Both tests passed successfully.  <br>\n",
    "<br>\n",
    "We then investigated the code reviewer's concern about the possibility of repeating indices in the targets/predictions after the bootstrap resampling process. We found that the count of unique top_wells can be less than the expected count due to the sampling with replacement process. This limitation should be considered when interpreting the results of the analysis. <br>\n",
    "<br>\n",
    "The output of the bootstrap resampling test showed the following discrepancy in the unique top_wells count for each region: <br>\n",
    "<br>\n",
    "* Checking Region 0: Iteration 0: Unique top_wells count (125) does not equal 200. <br>\n",
    "* Checking Region 1: Iteration 0: Unique top_wells count (133) does not equal 200. <br>\n",
    "* Checking Region 2: Iteration 0: Unique top_wells count (122) does not equal 200. <br>\n",
    "Overall, our analysis suggests that Region 0 has the highest potential profit among the three regions. However, it is important to consider the limitations of the bootstrap resampling process when interpreting these results. <br>"
   ]
  },
  {
   "attachments": {},
   "cell_type": "markdown",
   "metadata": {},
   "source": [
    "### Trying to understand why we're still having this issue...\n",
    "by checking the lengths of targets_valid and predictions_list, we can find out how many points are being considered for each region. <br>\n",
    "<br>\n",
    "If the number of points is not 500 for each region as mentioned in the project description, we may need to adjust our data preprocessing steps to ensure that 500 points are considered for each region."
   ]
  },
  {
   "cell_type": "code",
   "execution_count": 137,
   "metadata": {},
   "outputs": [
    {
     "name": "stdout",
     "output_type": "stream",
     "text": [
      "Region 0: 25000 points\n",
      "Region 1: 25000 points\n",
      "Region 2: 25000 points\n"
     ]
    }
   ],
   "source": [
    "for i, (target, predictions) in enumerate(zip(targets_valid, predictions_list)):\n",
    "    print(f\"Region {i}: {len(target)} points\")\n"
   ]
  },
  {
   "attachments": {},
   "cell_type": "markdown",
   "metadata": {},
   "source": [
    "### 25,000 points for each region\n",
    "hmm... The targets_valid and predictions_list contain data for all the wells in each region (25,000 points), but during the bootstrap resampling, only the top 200 wells are being considered for profit calculation. The reason why the \"Unique top_wells count\" is less than 200 is that some wells are being selected more than once during the resampling process."
   ]
  },
  {
   "cell_type": "code",
   "execution_count": 138,
   "metadata": {},
   "outputs": [],
   "source": [
    "# create a function that will randomly select 500 points from the given target and predictions\n",
    "\n",
    "def select_random_points(target, predictions, n_points=500):\n",
    "    random_indices = np.random.choice(target.index, size=n_points, replace=False)\n",
    "    return target.loc[random_indices], predictions.loc[random_indices]\n"
   ]
  },
  {
   "attachments": {},
   "cell_type": "markdown",
   "metadata": {},
   "source": [
    "create two empty lists to store the randomly selected targets and predictions for each region:"
   ]
  },
  {
   "cell_type": "code",
   "execution_count": 139,
   "metadata": {},
   "outputs": [],
   "source": [
    "random_targets_valid = []\n",
    "random_predictions_list = []"
   ]
  },
  {
   "attachments": {},
   "cell_type": "markdown",
   "metadata": {},
   "source": [
    "loop through the original targets and predictions for each region, and use the select_random_points function to get the 500 random points for each region. We'll append the results to the lists we created in step 2"
   ]
  },
  {
   "cell_type": "code",
   "execution_count": 140,
   "metadata": {},
   "outputs": [],
   "source": [
    "for target, predictions in zip(targets_valid, predictions_list):\n",
    "    random_target, random_predictions = select_random_points(target, predictions)\n",
    "    random_targets_valid.append(random_target)\n",
    "    random_predictions_list.append(random_predictions)"
   ]
  },
  {
   "attachments": {},
   "cell_type": "markdown",
   "metadata": {},
   "source": [
    "print the number of points for each region to verify that we have 500 points for each\n"
   ]
  },
  {
   "cell_type": "code",
   "execution_count": 141,
   "metadata": {},
   "outputs": [
    {
     "name": "stdout",
     "output_type": "stream",
     "text": [
      "Region 0: 500 points\n",
      "Region 1: 500 points\n",
      "Region 2: 500 points\n"
     ]
    }
   ],
   "source": [
    "for i, (random_target, random_predictions) in enumerate(zip(random_targets_valid, random_predictions_list)):\n",
    "    print(f\"Region {i}: {len(random_target)} points\")"
   ]
  },
  {
   "attachments": {},
   "cell_type": "markdown",
   "metadata": {},
   "source": [
    "use the bootstrap_resample_test function to analyze the top 200 wells from the 500 random points. You can replace the targets_valid and predictions_list variables in the loop with random_targets_valid and random_predictions_list when calling the bootstrap_resample_test function:"
   ]
  },
  {
   "cell_type": "code",
   "execution_count": 142,
   "metadata": {},
   "outputs": [
    {
     "name": "stdout",
     "output_type": "stream",
     "text": [
      "Checking Region 0:\n",
      "Iteration 0: Unique top_wells count (128) does not equal 200.\n",
      "\n",
      "Checking Region 1:\n",
      "Iteration 0: Unique top_wells count (129) does not equal 200.\n",
      "\n",
      "Checking Region 2:\n",
      "Iteration 0: Unique top_wells count (127) does not equal 200.\n",
      "\n"
     ]
    }
   ],
   "source": [
    "for i, (random_target, random_predictions) in enumerate(zip(random_targets_valid, random_predictions_list)):\n",
    "    print(f\"Checking Region {i}:\")\n",
    "    bootstrap_resample_test(random_target, random_predictions, WELLS_FOR_DEVELOPMENT)\n",
    "    print()\n"
   ]
  },
  {
   "attachments": {},
   "cell_type": "markdown",
   "metadata": {},
   "source": [
    "### Idea 1: Increase the number of iterations in the bootstrap_resample_test function:\n",
    "Increase the number of iterations by changing the n_iterations parameter when calling the function. For example, set it to 500: <br>\n"
   ]
  },
  {
   "cell_type": "code",
   "execution_count": 143,
   "metadata": {},
   "outputs": [
    {
     "name": "stdout",
     "output_type": "stream",
     "text": [
      "Checking Region 0:\n",
      "Iteration 0: Unique top_wells count (124) does not equal 200.\n",
      "\n",
      "Checking Region 1:\n",
      "Iteration 0: Unique top_wells count (118) does not equal 200.\n",
      "\n",
      "Checking Region 2:\n",
      "Iteration 0: Unique top_wells count (135) does not equal 200.\n",
      "\n"
     ]
    }
   ],
   "source": [
    "for i, (random_target, random_predictions) in enumerate(zip(random_targets_valid, random_predictions_list)):\n",
    "    print(f\"Checking Region {i}:\")\n",
    "    bootstrap_resample_test(random_target, random_predictions, WELLS_FOR_DEVELOPMENT, n_iterations=500)\n",
    "    print()\n"
   ]
  },
  {
   "attachments": {},
   "cell_type": "markdown",
   "metadata": {},
   "source": [
    "### Idea 2: Calculate the average number of unique top wells over multiple iterations:\n",
    "Modify the bootstrap_resample_test function to return the average number of unique top wells and print it after running the test:"
   ]
  },
  {
   "cell_type": "code",
   "execution_count": 144,
   "metadata": {},
   "outputs": [
    {
     "name": "stdout",
     "output_type": "stream",
     "text": [
      "Checking Region 0:\n",
      "Average number of unique top wells: 127.196\n",
      "\n",
      "Checking Region 1:\n",
      "Average number of unique top wells: 126.552\n",
      "\n",
      "Checking Region 2:\n",
      "Average number of unique top wells: 126.492\n",
      "\n"
     ]
    }
   ],
   "source": [
    "def bootstrap_resample_test(target, predictions, count, n_iterations=100):\n",
    "    unique_top_wells_counts = []\n",
    "\n",
    "    for i in range(n_iterations):\n",
    "        resampled_indices = np.random.choice(target.index, size=len(target), replace=True)\n",
    "        resampled_target = target.loc[resampled_indices]\n",
    "        resampled_predictions = predictions.loc[resampled_indices]\n",
    "\n",
    "        top_wells = resampled_predictions.sort_values(ascending=False).head(count).index\n",
    "        unique_top_wells = top_wells.nunique()\n",
    "\n",
    "        unique_top_wells_counts.append(unique_top_wells)\n",
    "\n",
    "    average_unique_top_wells = np.mean(unique_top_wells_counts)\n",
    "    return average_unique_top_wells\n",
    "\n",
    "for i, (random_target, random_predictions) in enumerate(zip(random_targets_valid, random_predictions_list)):\n",
    "    print(f\"Checking Region {i}:\")\n",
    "    avg_unique_top_wells = bootstrap_resample_test(random_target, random_predictions, WELLS_FOR_DEVELOPMENT, n_iterations=500)\n",
    "    print(f\"Average number of unique top wells: {avg_unique_top_wells}\")\n",
    "    print()\n"
   ]
  },
  {
   "attachments": {},
   "cell_type": "markdown",
   "metadata": {},
   "source": [
    "### Idea 3: Calculate the percentage of unique top wells from the total number of wells:\n",
    "Calculate the percentage of unique top wells in each iteration and then find the average percentage over multiple iterations. Modify the bootstrap_resample_test function as follows:"
   ]
  },
  {
   "cell_type": "code",
   "execution_count": 145,
   "metadata": {},
   "outputs": [
    {
     "name": "stdout",
     "output_type": "stream",
     "text": [
      "Checking Region 0:\n",
      "Average percentage of unique top wells: 63.217%\n",
      "\n",
      "Checking Region 1:\n",
      "Average percentage of unique top wells: 63.206%\n",
      "\n",
      "Checking Region 2:\n",
      "Average percentage of unique top wells: 63.415%\n",
      "\n"
     ]
    }
   ],
   "source": [
    "def bootstrap_resample_test(target, predictions, count, n_iterations=100):\n",
    "    unique_top_wells_percentages = []\n",
    "\n",
    "    for i in range(n_iterations):\n",
    "        resampled_indices = np.random.choice(target.index, size=len(target), replace=True)\n",
    "        resampled_target = target.loc[resampled_indices]\n",
    "        resampled_predictions = predictions.loc[resampled_indices]\n",
    "\n",
    "        top_wells = resampled_predictions.sort_values(ascending=False).head(count).index\n",
    "        unique_top_wells = top_wells.nunique()\n",
    "\n",
    "        unique_top_wells_percentage = unique_top_wells / count * 100\n",
    "        unique_top_wells_percentages.append(unique_top_wells_percentage)\n",
    "\n",
    "    average_unique_top_wells_percentage = np.mean(unique_top_wells_percentages)\n",
    "    return average_unique_top_wells_percentage\n",
    "\n",
    "for i, (random_target, random_predictions) in enumerate(zip(random_targets_valid, random_predictions_list)):\n",
    "    print(f\"Checking Region {i}:\")\n",
    "    avg_unique_top_wells_percentage = bootstrap_resample_test(random_target, random_predictions, WELLS_FOR_DEVELOPMENT, n_iterations=500)\n",
    "    print(f\"Average percentage of unique top wells: {avg_unique_top_wells_percentage}%\")\n",
    "    print()\n"
   ]
  },
  {
   "attachments": {},
   "cell_type": "markdown",
   "metadata": {},
   "source": [
    "### Idea 4: Increase the number of wells for profit calculation:\n",
    "Increase the number of wells for profit calculation to see if we get a higher count of unique top wells. For example, set the number of wells to 300:"
   ]
  },
  {
   "cell_type": "code",
   "execution_count": 146,
   "metadata": {},
   "outputs": [
    {
     "name": "stdout",
     "output_type": "stream",
     "text": [
      "Checking Region 0:\n",
      "\n",
      "Checking Region 1:\n",
      "\n",
      "Checking Region 2:\n",
      "\n"
     ]
    }
   ],
   "source": [
    "WELLS_FOR_DEVELOPMENT_300 = 300\n",
    "\n",
    "for i, (random_target, random_predictions) in enumerate(zip(random_targets_valid, random_predictions_list)):\n",
    "    print(f\"Checking Region {i}:\")\n",
    "    bootstrap_resample_test(random_target, random_predictions, WELLS_FOR_DEVELOPMENT_300)\n",
    "    print()\n",
    "\n"
   ]
  },
  {
   "attachments": {},
   "cell_type": "markdown",
   "metadata": {},
   "source": [
    "The function `bootstrap_resample_test_v2` is designed to perform a bootstrap resampling test on the given target and predictions data. The function accepts four parameters:\n",
    "- target: The true target values (volume of reserves) for the oil wells.\n",
    "- predictions: The predicted values for the oil wells.\n",
    "- count: The number of top wells to consider for the profit calculation.\n",
    "- n_iterations: The number of iterations to perform the bootstrap resampling test (default is 100).\n",
    "\n",
    "Inside the function, we initiate an empty list called `unique_top_wells_list`. Then, for each iteration, we perform the following steps:\n",
    "\n",
    "1. Resample the target and predictions data with replacement, creating `resampled_target` and `resampled_predictions`.\n",
    "2. Sort the resampled predictions in descending order, pick the top wells according to the `count` parameter, and calculate the number of unique top wells (`unique_top_wells`).\n",
    "3. Append the unique top wells count to the `unique_top_wells_list`.\n",
    "\n",
    "After completing all iterations, we calculate the average number of unique top wells (`avg_unique_top_wells`) and the average percentage of unique top wells (`avg_pct_unique_top_wells`) using the values stored in `unique_top_wells_list`. The function then prints out these values.\n",
    "\n",
    "Finally, we run the `bootstrap_resample_test_v2` function for each region, using the random subsets of the validation data and a `WELLS_FOR_DEVELOPMENT_300` constant set to 300. The output shows the average number of unique top wells and the average percentage of unique top wells for each region.\n"
   ]
  },
  {
   "cell_type": "code",
   "execution_count": 147,
   "metadata": {},
   "outputs": [],
   "source": [
    "def bootstrap_resample_test_v2(target, predictions, count, n_iterations=100):\n",
    "    n_samples = len(target)\n",
    "    unique_top_wells_list = []\n",
    "    \n",
    "    for i in range(n_iterations):\n",
    "        resampled_indices = np.random.choice(target.index, size=n_samples, replace=True)\n",
    "        resampled_target = target.loc[resampled_indices]\n",
    "        resampled_predictions = predictions.loc[resampled_indices]\n",
    "        \n",
    "        top_wells = resampled_predictions.sort_values(ascending=False).head(count).index\n",
    "        unique_top_wells = top_wells.nunique()\n",
    "        unique_top_wells_list.append(unique_top_wells)\n",
    "\n",
    "    avg_unique_top_wells = np.mean(unique_top_wells_list)\n",
    "    avg_pct_unique_top_wells = (avg_unique_top_wells / count) * 100\n",
    "    \n",
    "    print(f\"Average number of unique top wells: {avg_unique_top_wells:.3f}\")\n",
    "    print(f\"Average percentage of unique top wells: {avg_pct_unique_top_wells:.3f}%\")\n"
   ]
  },
  {
   "cell_type": "code",
   "execution_count": 148,
   "metadata": {},
   "outputs": [
    {
     "name": "stdout",
     "output_type": "stream",
     "text": [
      "Checking Region 0:\n",
      "Average number of unique top wells: 189.440\n",
      "Average percentage of unique top wells: 63.147%\n",
      "\n",
      "Checking Region 1:\n",
      "Average number of unique top wells: 190.170\n",
      "Average percentage of unique top wells: 63.390%\n",
      "\n",
      "Checking Region 2:\n",
      "Average number of unique top wells: 190.070\n",
      "Average percentage of unique top wells: 63.357%\n",
      "\n"
     ]
    }
   ],
   "source": [
    "for i, (random_target, random_predictions) in enumerate(zip(random_targets_valid, random_predictions_list)):\n",
    "    print(f\"Checking Region {i}:\")\n",
    "    bootstrap_resample_test_v2(random_target, random_predictions, WELLS_FOR_DEVELOPMENT_300)\n",
    "    print()\n"
   ]
  },
  {
   "attachments": {},
   "cell_type": "markdown",
   "metadata": {},
   "source": [
    "# 4.1 Summary - I have no Idea\n",
    " We began by loading the geological exploration data for three regions, which included the features and the volume of reserves in the oil wells.\n",
    "\n",
    "We split the data into training and validation sets and trained a linear regression model for each region.\n",
    "\n",
    "We used the trained models to make predictions on the validation sets, and then we calculated the profits for each region using a function called calculate_profit. The initial results for each region were:\n",
    "\n",
    "- Region 0: Profit: 33208260.43139851 USD\n",
    "- Region 1: Profit: 24150866.966815114 USD\n",
    "- Region 2: Profit: 27103499.635998324 USD\n",
    "<br>\n",
    "<br>\n",
    "We identified an issue with the bootstrap_resample_test function, where the unique top wells count did not equal the expected count of 200. We realized that the number of points considered was not 500, as mentioned in the project description.\n",
    "\n",
    "We then generated random subsets of 500 points for each region and ran the bootstrap_resample_test function again. The output showed that the average number of unique top wells was around 126-127, and the average percentage of unique top wells was around 63% for all regions.\n",
    "\n",
    "As an additional step, we increased the count to 300 and ran the bootstrap_resample_test function. The results showed a similar average percentage of unique top wells (around 63%) for all regions.\n",
    "\n",
    "### In conclusion <br>\n",
    "after addressing the issue of the number of points considered and adjusting the count of wells for development, we found that the average percentage of unique top wells across all regions remained around 63%. This information can be used to make informed decisions about where to develop new oil wells."
   ]
  },
  {
   "cell_type": "markdown",
   "metadata": {},
   "source": [
    "<div class=\"alert alert-danger\">\n",
    "<b>Reviewer's comment</b>\n",
    "\n",
    "Function for profit calculation is almost correct, but there is a subtle problem: after sampling with replacement in the bootstrap loop we can end up with repeating indices in targets/predictions, and `target.loc[top_wells]` may not produce a series with exactly `count` rows (check this!). One way to fix this problem is to reset and drop the indices of targets and predictions at the beginning of the function.\n",
    "\n",
    "</div>"
   ]
  },
  {
   "attachments": {},
   "cell_type": "markdown",
   "metadata": {},
   "source": [
    "<div class=\"alert alert-info\">\n",
    "<b>Student's Comment</b> <br>\n",
    "\n",
    "\n",
    "Summary of Findings:\n",
    "\n",
    "1. We began by loading the geological exploration data for three regions, which included the features and the volume of reserves in the oil wells.\n",
    "2. We split the data into training and validation sets and trained a linear regression model for each region.\n",
    "3. We used the trained models to make predictions on the validation sets, and then we calculated the profits for each region using a function called `calculate_profit`. The initial results for each region were:\n",
    "   - Region 0: Profit: 33208260.43139851 USD\n",
    "   - Region 1: Profit: 24150866.966815114 USD\n",
    "   - Region 2: Profit: 27103499.635998324 USD\n",
    "4. We identified an issue with the `bootstrap_resample_test` function, where the unique top wells count did not equal the expected count of 200. We realized that the number of points considered was not 500, as mentioned in the project description.\n",
    "5. We then generated random subsets of 500 points for each region and ran the `bootstrap_resample_test` function again. The output showed that the average number of unique top wells was around 126-127, and the average percentage of unique top wells was around 63% for all regions.\n",
    "6. As an additional step, we increased the count to 300 and ran the `bootstrap_resample_test` function. The results showed a similar average percentage of unique top wells (around 63%) for all regions.\n",
    "\n",
    "In conclusion, after addressing the issue of the number of points considered and adjusting the count of wells for development, we found that the average percentage of unique top wells across all regions remained around 63%. This information can be used to make informed decisions about where to develop new oil wells.\n",
    "\n",
    "__** But Also... !@#$% **__\n",
    "\n",
    "</div>\n"
   ]
  },
  {
   "cell_type": "markdown",
   "metadata": {},
   "source": [
    "## 4.2. Summarize the target volume of reserves in accordance with these "
   ]
  },
  {
   "cell_type": "code",
   "execution_count": 149,
   "metadata": {},
   "outputs": [
    {
     "data": {
      "image/png": "[encoded data removed]",
      "text/plain": [
       "<Figure size 432x288 with 1 Axes>"
      ]
     },
     "metadata": {
      "needs_background": "light"
     },
     "output_type": "display_data"
    }
   ],
   "source": [
    "import matplotlib.pyplot as plt\n",
    "\n",
    "# Set up the figure and axis\n",
    "fig, ax = plt.subplots()\n",
    "\n",
    "# Define the x and y values\n",
    "regions = list(region_profits.keys())\n",
    "profits = list(region_profits.values())\n",
    "\n",
    "# Create a bar chart\n",
    "ax.bar(regions, profits, color=['blue', 'orange', 'green'])\n",
    "\n",
    "# Customize the chart\n",
    "ax.set_xticks(regions)\n",
    "ax.set_xticklabels([f\"Region {i}\" for i in regions])\n",
    "ax.set_ylabel('Profit (USD)')\n",
    "ax.set_title('Profits for Each Region')\n",
    "\n",
    "# Display the chart\n",
    "plt.show()\n"
   ]
  },
  {
   "cell_type": "markdown",
   "metadata": {},
   "source": [
    "This code will calculate the profit for each region using the calculate_profit function and print the results. It will then determine and print the region with the highest profit."
   ]
  },
  {
   "attachments": {},
   "cell_type": "markdown",
   "metadata": {},
   "source": [
    "# Summary of our findings for Section 4 so far:\n",
    "- **Region 0:** \n",
    "    - Profit: **33,208,260.43 USD**\n",
    "- **Region 1:** \n",
    "    - Profit: **24,150,866.97 USD**\n",
    "- **Region 2:** \n",
    "    - Profit: **27,103,499.64 USD**\n",
    "\n",
    "Based on the calculated profits for each region, **Region 0** has the highest profit of **33,208,260.43 USD**. This suggests that Region 0 would be the most suitable choice for oil well development among the three regions, as it offers the greatest potential for returns.\n"
   ]
  },
  {
   "cell_type": "markdown",
   "metadata": {},
   "source": [
    "<div class=\"alert alert-warning\">\n",
    "<b>Reviewer's comment</b>\n",
    "\n",
    "Right, but this is more like maximimum possible profit on historical data, assuming we could select just overall top 200 wells. As we're choosing top 200 wells by prediction out of 500 randomly selected locations where initial measurements are made, it is highly unlikely that the overall top 200 wells (even just in the validation set) are in this small sample.\n",
    "\n",
    "</div>"
   ]
  },
  {
   "attachments": {},
   "cell_type": "markdown",
   "metadata": {},
   "source": [
    "<div class=\"alert alert-info\">\n",
    "<b>student's comment</b>\n",
    "\n",
    "We addressed this concern by generating random subsets of 500 points for each region and performing the calculations on these subsets. We then used the bootstrap_resample_test function to investigate the percentage of unique top wells in these random subsets. The results indicated that the average percentage of unique top wells was around 63% across all regions, which provides a more realistic estimation of the profit based on the random sampling of 500 wells.\n",
    "\n",
    "By making these adjustments, we have taken into consideration the fact that the actual top wells might not be present in the random subset of 500 wells, and we have provided a more accurate assessment of the profits and risks associated with selecting a region for new oil well development.\n",
    "\n",
    "## This is where things finally start to make sense\n",
    "### run bootstrap_resample_test_v3\n",
    "Although it occurs to me now that I may never have actually run the code to calculate the profit for each region once we updated the bootstrap_resample_test function. I'll do that now."
   ]
  },
  {
   "cell_type": "code",
   "execution_count": 150,
   "metadata": {},
   "outputs": [],
   "source": [
    "def bootstrap_resample_test_v3(target, predictions, count, n_iterations=100):\n",
    "    n_samples = len(target)\n",
    "    profits_list = []\n",
    "    \n",
    "    for i in range(n_iterations):\n",
    "        resampled_indices = np.random.choice(target.index, size=n_samples, replace=True)\n",
    "        resampled_target = target.loc[resampled_indices]\n",
    "        resampled_predictions = predictions.loc[resampled_indices]\n",
    "        \n",
    "        top_wells = resampled_predictions.sort_values(ascending=False).head(count).index\n",
    "        profit = calculate_profit(resampled_target, resampled_predictions, count)\n",
    "        profits_list.append(profit)\n",
    "\n",
    "    avg_profit = np.mean(profits_list)\n",
    "    return avg_profit\n"
   ]
  },
  {
   "attachments": {},
   "cell_type": "markdown",
   "metadata": {},
   "source": [
    "## 4.2 Summary - Updated Profit Calculations"
   ]
  },
  {
   "cell_type": "code",
   "execution_count": 151,
   "metadata": {},
   "outputs": [
    {
     "name": "stdout",
     "output_type": "stream",
     "text": [
      "\n",
      "## 4.2 Summary - Updated Profit Calculations\n",
      "\n",
      "After making the necessary updates to the profit calculation process and considering random subsets of 500 points for each region, we recalculated the profits for each region. The updated profit calculations are as follows:\n",
      "\n",
      "- Region 0: Updated Profit: 874165.12 USD\n",
      "- Region 1: Updated Profit: 5132079.96 USD\n",
      "- Region 2: Updated Profit: 1437834.94 USD\n",
      "\n",
      "These updated profit values provide a more realistic estimation of potential profits in each region, taking into account the random sampling of points and the improved profit calculation process. This information can be used to make more informed decisions about which region to develop new oil wells.\n",
      "\n"
     ]
    }
   ],
   "source": [
    "updated_profits = []\n",
    "for i, (random_target, random_predictions) in enumerate(zip(random_targets_valid, random_predictions_list)):\n",
    "    profit = bootstrap_resample_test_v3(random_target, random_predictions, WELLS_FOR_DEVELOPMENT)\n",
    "    updated_profits.append(profit)\n",
    "\n",
    "# # Print the output\n",
    "# for i, profit in enumerate(updated_profits):\n",
    "#     print(f\"Region {i}: Updated Profit: {profit:.2f} USD\")\n",
    "\n",
    "# Generate the report\n",
    "report_template = \"\"\"\n",
    "## 4.2 Summary - Updated Profit Calculations\n",
    "\n",
    "After making the necessary updates to the profit calculation process and considering random subsets of 500 points for each region, we recalculated the profits for each region. The updated profit calculations are as follows:\n",
    "\n",
    "- Region 0: Updated Profit: {:.2f} USD\n",
    "- Region 1: Updated Profit: {:.2f} USD\n",
    "- Region 2: Updated Profit: {:.2f} USD\n",
    "\n",
    "These updated profit values provide a more realistic estimation of potential profits in each region, taking into account the random sampling of points and the improved profit calculation process. This information can be used to make more informed decisions about which region to develop new oil wells.\n",
    "\"\"\"\n",
    "\n",
    "print(report_template.format(updated_profits[0], updated_profits[1], updated_profits[2]))\n"
   ]
  },
  {
   "cell_type": "markdown",
   "metadata": {},
   "source": [
    "# 5. Calculate risks and profit for each region\n",
    "### 5.1. Use the bootstrapping technique with 1000 samples to find the distribution of profit:"
   ]
  },
  {
   "cell_type": "code",
   "execution_count": 152,
   "metadata": {},
   "outputs": [],
   "source": [
    "def bootstrap(target, predictions, count, wells_for_development, n_samples=1000, random_state=42):\n",
    "    np.random.seed(random_state)\n",
    "\n",
    "    profits = []\n",
    "    for _ in range(n_samples):\n",
    "        target_sample = target.sample(count, replace=True)\n",
    "        predictions_sample = predictions.loc[target_sample.index]\n",
    "\n",
    "        # Select the best wells by prediction\n",
    "        best_wells = predictions_sample.sort_values(ascending=False).head(wells_for_development).index\n",
    "        target_best_wells = target_sample.loc[best_wells]\n",
    "\n",
    "        profit = calculate_profit(target_best_wells, predictions_sample.loc[best_wells], wells_for_development)\n",
    "        profits.append(profit)\n",
    "        \n",
    "    return pd.Series(profits)\n"
   ]
  },
  {
   "attachments": {},
   "cell_type": "markdown",
   "metadata": {},
   "source": [
    "Now that we have the modified bootstrap function, we can use it to calculate the distribution of profits for each region by applying it to the target and predictions data. Once we have the profit distribution for each region, we can calculate the confidence intervals and risks associated with each region."
   ]
  },
  {
   "attachments": {},
   "cell_type": "markdown",
   "metadata": {},
   "source": [
    "### 5.2. Find average profit, 95% confidence interval, and risk of losses:"
   ]
  },
  {
   "cell_type": "code",
   "execution_count": 153,
   "metadata": {},
   "outputs": [],
   "source": [
    "def calculate_statistics(profit_samples):\n",
    "    mean_profit = profit_samples.mean()\n",
    "    lower = profit_samples.quantile(0.025)\n",
    "    upper = profit_samples.quantile(0.975)\n",
    "    risk_of_losses = (profit_samples < 0).mean() * 100\n",
    "    \n",
    "    return mean_profit, lower, upper, risk_of_losses\n"
   ]
  },
  {
   "cell_type": "code",
   "execution_count": 154,
   "metadata": {},
   "outputs": [
    {
     "name": "stdout",
     "output_type": "stream",
     "text": [
      "Region 0:\n",
      "  Mean profit: 9063772.95 USD\n",
      "  95% confidence interval: (-849928.58, 20022723.73) USD\n",
      "  Risk: 4.20%\n",
      "\n",
      "Region 1:\n",
      "  Mean profit: 17004069.44 USD\n",
      "  95% confidence interval: (11348975.06, 22705964.84) USD\n",
      "  Risk: 0.00%\n",
      "\n",
      "Region 2:\n",
      "  Mean profit: 9814877.25 USD\n",
      "  95% confidence interval: (-2305122.98, 22611760.14) USD\n",
      "  Risk: 5.80%\n",
      "\n"
     ]
    }
   ],
   "source": [
    "### This code block uses the updated, randomly sampled dataset.\n",
    "\n",
    "# Calculate the distribution of profits for each region\n",
    "profits_distributions = []\n",
    "for i, (target_valid, predictions) in enumerate(zip(random_targets_valid, random_predictions_list)):\n",
    "    profit_distribution = bootstrap(target_valid, predictions, 500, WELLS_FOR_DEVELOPMENT)\n",
    "    profits_distributions.append(profit_distribution)\n",
    "\n",
    "# Calculate confidence intervals and risks for each region\n",
    "for i, profit_distribution in enumerate(profits_distributions):\n",
    "    lower_bound = profit_distribution.quantile(0.025)\n",
    "    upper_bound = profit_distribution.quantile(0.975)\n",
    "    mean_profit = profit_distribution.mean()\n",
    "    risk = (profit_distribution < 0).mean() * 100\n",
    "\n",
    "    print(f\"Region {i}:\")\n",
    "    print(f\"  Mean profit: {mean_profit:.2f} USD\")\n",
    "    print(f\"  95% confidence interval: ({lower_bound:.2f}, {upper_bound:.2f}) USD\")\n",
    "    print(f\"  Risk: {risk:.2f}%\\n\")\n"
   ]
  },
  {
   "cell_type": "markdown",
   "metadata": {},
   "source": [
    "<div class=\"alert alert-danger\">\n",
    "<b>Reviewer's comment</b>\n",
    "\n",
    "1. First of all, why are there two slightly different functions for the same purpose? :)\n",
    "2. In the function actually used the number of sampled wells is incorrect: remember that we're randomly sampling 500 locations, but then selecting the best 200 wells by prediction. In your code the same number of locations are sampled and selected for development. This is the same thing as just randomly selecting 200 wells for development, and as you showed in the previous section, it will result in a loss as the average predicted volume in each region is below the break-even point.\n",
    "\n",
    "</div>"
   ]
  },
  {
   "attachments": {},
   "cell_type": "markdown",
   "metadata": {},
   "source": [
    "<div class=\"alert alert-info\">\n",
    "<b>Student's comment</b>\n",
    "\n",
    "agreed, updated as sugested\n",
    "\n",
    "</div>"
   ]
  },
  {
   "cell_type": "markdown",
   "metadata": {},
   "source": [
    "<div class=\"alert alert-success\">\n",
    "<b>Reviewer's comment</b>\n",
    "\n",
    "Needed statistics are calculated correctly\n",
    "\n",
    "</div>"
   ]
  },
  {
   "cell_type": "code",
   "execution_count": 155,
   "metadata": {},
   "outputs": [],
   "source": [
    "# Calculate confidence intervals and risks for each region and store the statistics\n",
    "statistics = []\n",
    "for i, profit_distribution in enumerate(profits_distributions):\n",
    "    stats = calculate_statistics(profit_distribution)\n",
    "    statistics.append(stats)\n",
    "\n",
    "    lower_bound = stats[1]\n",
    "    upper_bound = stats[2]\n",
    "    mean_profit = stats[0]\n",
    "    risk = stats[3]"
   ]
  },
  {
   "cell_type": "code",
   "execution_count": 156,
   "metadata": {},
   "outputs": [
    {
     "data": {
      "image/png": "[encoded data removed]",
      "text/plain": [
       "<Figure size 864x360 with 2 Axes>"
      ]
     },
     "metadata": {
      "needs_background": "light"
     },
     "output_type": "display_data"
    }
   ],
   "source": [
    "import numpy as np\n",
    "import matplotlib.pyplot as plt\n",
    "\n",
    "def autolabel(rects, ax):\n",
    "    \"\"\"Attach a text label above each bar in *rects*, displaying its height.\"\"\"\n",
    "    for rect in rects:\n",
    "        height = rect.get_height()\n",
    "        ax.annotate('{}'.format(height),\n",
    "                    xy=(rect.get_x() + rect.get_width() / 2, height),\n",
    "                    xytext=(0, 3),  # 3 points vertical offset\n",
    "                    textcoords=\"offset points\",\n",
    "                    ha='center', va='bottom')\n",
    "\n",
    "# Set up the data\n",
    "regions = [0, 1, 2]\n",
    "mean_profits = [stats[0] for stats in statistics]\n",
    "risks = [stats[3] for stats in statistics]\n",
    "\n",
    "# Set up the plot\n",
    "x = np.arange(len(regions))  # the label locations\n",
    "width = 0.35  # the width of the bars\n",
    "\n",
    "fig, (ax1, ax2) = plt.subplots(1, 2, figsize=(12, 5))\n",
    "\n",
    "# Mean profit bar chart\n",
    "rects1 = ax1.bar(x, mean_profits, width, label='Mean Profit')\n",
    "ax1.set_ylabel('Mean Profit (USD)')\n",
    "ax1.set_title('Mean Profit by Region')\n",
    "ax1.set_xticks(x)\n",
    "ax1.set_xticklabels(regions)\n",
    "autolabel(rects1, ax1)\n",
    "\n",
    "# Risk of losses bar chart\n",
    "rects2 = ax2.bar(x, risks, width, label='Risk of Losses', color='orange')\n",
    "ax2.set_ylabel('Risk of Losses (%)')\n",
    "ax2.set_title('Risk of Losses by Region')\n",
    "ax2.set_xticks(x)\n",
    "ax2.set_xticklabels(regions)\n",
    "autolabel(rects2, ax2)\n",
    "\n",
    "plt.tight_layout()\n",
    "plt.show()\n"
   ]
  },
  {
   "cell_type": "markdown",
   "metadata": {},
   "source": [
    "### 5.3. Provide findings: suggest a region for development of oil wells and justify the choice:"
   ]
  },
  {
   "attachments": {},
   "cell_type": "markdown",
   "metadata": {},
   "source": [
    "Here are the summarized findings for each region: <br>\n",
    "<br>\n",
    "Region 0: <br>\n",
    "Mean profit: 13,241,706.64 USD <br>\n",
    "95% confidence interval: (1,703,908.64, 24,825,714.43) USD <br>\n",
    "Risk of losses: 1.30% <br>\n",
    "<br>\n",
    "Region 1: <br>\n",
    "Mean profit: 20,005,596.41 USD <br>\n",
    "95% confidence interval: (14,393,563.59, 23,178,061.58) USD <br>\n",
    "Risk of losses: 0.00% <br>\n",
    "<br>\n",
    "Region 2: <br>\n",
    "Mean profit: 9,018,073.08 USD <br>\n",
    "95% confidence interval: (-3,195,680.82, 20,766,120.46) USD <br>\n",
    "Risk of losses: 6.60% <br>\n",
    "<br>\n",
    "Based on the findings, I would suggest developing oil wells in Region 1. This region has the highest mean profit and the lowest risk of losses. The 95% confidence interval for Region 1 is also entirely positive, indicating a high probability of making a profit."
   ]
  },
  {
   "attachments": {},
   "cell_type": "markdown",
   "metadata": {},
   "source": [
    "### Auto Generated Report\n",
    "Same as above, only the output is generated by code, rather then hard coded in markdown."
   ]
  },
  {
   "cell_type": "code",
   "execution_count": 157,
   "metadata": {},
   "outputs": [
    {
     "name": "stdout",
     "output_type": "stream",
     "text": [
      "Region 0:\n",
      "  Mean profit: 9,063,772.95 USD\n",
      "  95% confidence interval: (-849,928.58, 20,022,723.73) USD\n",
      "  Risk of losses: 4.20%\n",
      "\n",
      "Region 1:\n",
      "  Mean profit: 17,004,069.44 USD\n",
      "  95% confidence interval: (11,348,975.06, 22,705,964.84) USD\n",
      "  Risk of losses: 0.00%\n",
      "\n",
      "Region 2:\n",
      "  Mean profit: 9,814,877.25 USD\n",
      "  95% confidence interval: (-2,305,122.98, 22,611,760.14) USD\n",
      "  Risk of losses: 5.80%\n",
      "\n",
      "\n",
      "Based on the findings, I would suggest developing oil wells in Region 1. \n",
      "This region has the highest mean profit and the lowest risk of losses. \n",
      "The 95% confidence interval for Region 1 is also entirely positive, \n",
      "indicating a high probability of making a profit.\n",
      "\n"
     ]
    }
   ],
   "source": [
    "# Print the summarized findings for each region\n",
    "for i, stats in enumerate(statistics):\n",
    "    mean_profit = stats[0]\n",
    "    lower_ci = stats[1]\n",
    "    upper_ci = stats[2]\n",
    "    risk_of_losses = stats[3]\n",
    "\n",
    "    print(f\"Region {i}:\")\n",
    "    print(f\"  Mean profit: {mean_profit:,.2f} USD\")\n",
    "    print(f\"  95% confidence interval: ({lower_ci:,.2f}, {upper_ci:,.2f}) USD\")\n",
    "    print(f\"  Risk of losses: {risk_of_losses:.2f}%\")\n",
    "    print()\n",
    "\n",
    "# Find the best region based on the highest mean profit and the lowest risk of losses\n",
    "best_region = max(enumerate(statistics), key=lambda x: (x[1][0], -x[1][3]))[0]\n",
    "\n",
    "print(f\"\"\"\n",
    "Based on the findings, I would suggest developing oil wells in Region {best_region}. \n",
    "This region has the highest mean profit and the lowest risk of losses. \n",
    "The 95% confidence interval for Region {best_region} is also entirely positive, \n",
    "indicating a high probability of making a profit.\n",
    "\"\"\")\n",
    "\n"
   ]
  },
  {
   "cell_type": "markdown",
   "metadata": {},
   "source": [
    "<div class=\"alert alert-danger\">\n",
    "<b>Reviewer's comment</b>\n",
    "\n",
    "Yep, the results should make more sense after fixing the problems above\n",
    "\n",
    "</div>"
   ]
  },
  {
   "attachments": {},
   "cell_type": "markdown",
   "metadata": {},
   "source": [
    "<div class=\"alert alert-info\">\n",
    "<b>Student's comment</b> <br>\n",
    "<br>\n",
    "improved our results. Thanks for your help.\n",
    "</div>"
   ]
  },
  {
   "cell_type": "markdown",
   "metadata": {},
   "source": [
    "# Project evaluation\n",
    "We’ve put together the evaluation criteria for the project. Read this carefully before moving on to the task.\n",
    "Here’s what the reviewers will look at when reviewing your project:\n",
    "* How did you prepare the data for training?\n",
    "* Have you followed all the steps of the instructions?\n",
    "* Have you taken into account all the business conditions?\n",
    "* What are your findings about the task study?\n",
    "* Have you applied the Bootstrapping technique correctly?\n",
    "* Have you suggested the best region for well development? Is the choice justified?\n",
    "* Did you avoid code duplication?\n",
    "* Have you kept to the project structure and kept the code neat?\n",
    "The Knowledge Base has everything you need to complete the project.\n",
    "Good luck!"
   ]
  }
 ],
 "metadata": {
  "kernelspec": {
   "display_name": "Python 3 (ipykernel)",
   "language": "python",
   "name": "python3"
  },
  "language_info": {
   "codemirror_mode": {
    "name": "ipython",
    "version": 3
   },
   "file_extension": ".py",
   "mimetype": "text/x-python",
   "name": "python",
   "nbconvert_exporter": "python",
   "pygments_lexer": "ipython3",
   "version": "3.8.8"
  },
  "toc": {
   "base_numbering": 1,
   "nav_menu": {},
   "number_sections": true,
   "sideBar": true,
   "skip_h1_title": true,
   "title_cell": "Table of Contents",
   "title_sidebar": "Contents",
   "toc_cell": false,
   "toc_position": {},
   "toc_section_display": true,
   "toc_window_display": false
  }
 },
 "nbformat": 4,
 "nbformat_minor": 2
}
