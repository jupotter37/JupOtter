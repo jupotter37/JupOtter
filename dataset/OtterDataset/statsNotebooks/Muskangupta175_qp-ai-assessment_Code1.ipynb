{
 "cells": [
  {
   "cell_type": "code",
   "execution_count": 11,
   "metadata": {},
   "outputs": [],
   "source": [
    "import os\n",
    "import spacy\n",
    "import pinecone\n",
    "from langchain.document_loaders import PyPDFLoader\n",
    "from langchain.text_splitter import RecursiveCharacterTextSplitter\n",
    "from langchain.vectorstores import Pinecone\n",
    "from tqdm.autonotebook import tqdm\n"
   ]
  },
  {
   "cell_type": "markdown",
   "metadata": {},
   "source": [
    "With tranformer model embeddings"
   ]
  },
  {
   "cell_type": "code",
   "execution_count": 12,
   "metadata": {},
   "outputs": [
    {
     "data": {
      "application/vnd.jupyter.widget-view+json": {
       "model_id": "a7b0e63cd554404bab5c49e82eef9707",
       "version_major": 2,
       "version_minor": 0
      },
      "text/plain": [
       "modules.json:   0%|          | 0.00/349 [00:00<?, ?B/s]"
      ]
     },
     "metadata": {},
     "output_type": "display_data"
    },
    {
     "name": "stderr",
     "output_type": "stream",
     "text": [
      "c:\\Users\\muska\\anaconda3\\Lib\\site-packages\\huggingface_hub\\file_download.py:149: UserWarning: `huggingface_hub` cache-system uses symlinks by default to efficiently store duplicated files but your machine does not support them in C:\\Users\\muska\\.cache\\huggingface\\hub\\models--sentence-transformers--all-MiniLM-L6-v2. Caching files will still work but in a degraded version that might require more space on your disk. This warning can be disabled by setting the `HF_HUB_DISABLE_SYMLINKS_WARNING` environment variable. For more details, see https://huggingface.co/docs/huggingface_hub/how-to-cache#limitations.\n",
      "To support symlinks on Windows, you either need to activate Developer Mode or to run Python as an administrator. In order to see activate developer mode, see this article: https://docs.microsoft.com/en-us/windows/apps/get-started/enable-your-device-for-development\n",
      "  warnings.warn(message)\n"
     ]
    },
    {
     "data": {
      "application/vnd.jupyter.widget-view+json": {
       "model_id": "2e2b65b1c83040fd8ba286d8524347ce",
       "version_major": 2,
       "version_minor": 0
      },
      "text/plain": [
       "config_sentence_transformers.json:   0%|          | 0.00/116 [00:00<?, ?B/s]"
      ]
     },
     "metadata": {},
     "output_type": "display_data"
    },
    {
     "data": {
      "application/vnd.jupyter.widget-view+json": {
       "model_id": "1f7c13e914c84f81a169c8cf5460c094",
       "version_major": 2,
       "version_minor": 0
      },
      "text/plain": [
       "README.md:   0%|          | 0.00/10.7k [00:00<?, ?B/s]"
      ]
     },
     "metadata": {},
     "output_type": "display_data"
    },
    {
     "data": {
      "application/vnd.jupyter.widget-view+json": {
       "model_id": "1815b4d4932f4ce2be4837a5be390e36",
       "version_major": 2,
       "version_minor": 0
      },
      "text/plain": [
       "sentence_bert_config.json:   0%|          | 0.00/53.0 [00:00<?, ?B/s]"
      ]
     },
     "metadata": {},
     "output_type": "display_data"
    },
    {
     "data": {
      "application/vnd.jupyter.widget-view+json": {
       "model_id": "d294abc634c14baca8de4897677e3d54",
       "version_major": 2,
       "version_minor": 0
      },
      "text/plain": [
       "config.json:   0%|          | 0.00/612 [00:00<?, ?B/s]"
      ]
     },
     "metadata": {},
     "output_type": "display_data"
    },
    {
     "data": {
      "application/vnd.jupyter.widget-view+json": {
       "model_id": "ce818dc4221240f8a19fc32e65df1ac1",
       "version_major": 2,
       "version_minor": 0
      },
      "text/plain": [
       "pytorch_model.bin:   0%|          | 0.00/90.9M [00:00<?, ?B/s]"
      ]
     },
     "metadata": {},
     "output_type": "display_data"
    },
    {
     "data": {
      "application/vnd.jupyter.widget-view+json": {
       "model_id": "825612dabf174b78a6a96a656b382168",
       "version_major": 2,
       "version_minor": 0
      },
      "text/plain": [
       "tokenizer_config.json:   0%|          | 0.00/350 [00:00<?, ?B/s]"
      ]
     },
     "metadata": {},
     "output_type": "display_data"
    },
    {
     "data": {
      "application/vnd.jupyter.widget-view+json": {
       "model_id": "cb7a6018642e4d4ab273f1de27dc6e20",
       "version_major": 2,
       "version_minor": 0
      },
      "text/plain": [
       "vocab.txt:   0%|          | 0.00/232k [00:00<?, ?B/s]"
      ]
     },
     "metadata": {},
     "output_type": "display_data"
    },
    {
     "data": {
      "application/vnd.jupyter.widget-view+json": {
       "model_id": "672f75e6c1b84f09b2b6a7c3c7f4645e",
       "version_major": 2,
       "version_minor": 0
      },
      "text/plain": [
       "tokenizer.json:   0%|          | 0.00/466k [00:00<?, ?B/s]"
      ]
     },
     "metadata": {},
     "output_type": "display_data"
    },
    {
     "data": {
      "application/vnd.jupyter.widget-view+json": {
       "model_id": "584db12c3a864d43ad80ff085797a3c3",
       "version_major": 2,
       "version_minor": 0
      },
      "text/plain": [
       "special_tokens_map.json:   0%|          | 0.00/112 [00:00<?, ?B/s]"
      ]
     },
     "metadata": {},
     "output_type": "display_data"
    },
    {
     "data": {
      "application/vnd.jupyter.widget-view+json": {
       "model_id": "5c2555b3ce5743e4a161693a6b0bda48",
       "version_major": 2,
       "version_minor": 0
      },
      "text/plain": [
       "1_Pooling/config.json:   0%|          | 0.00/190 [00:00<?, ?B/s]"
      ]
     },
     "metadata": {},
     "output_type": "display_data"
    },
    {
     "data": {
      "text/plain": [
       "SentenceTransformer(\n",
       "  (0): Transformer({'max_seq_length': 256, 'do_lower_case': False}) with Transformer model: BertModel \n",
       "  (1): Pooling({'word_embedding_dimension': 384, 'pooling_mode_cls_token': False, 'pooling_mode_mean_tokens': True, 'pooling_mode_max_tokens': False, 'pooling_mode_mean_sqrt_len_tokens': False, 'pooling_mode_weightedmean_tokens': False, 'pooling_mode_lasttoken': False})\n",
       "  (2): Normalize()\n",
       ")"
      ]
     },
     "execution_count": 12,
     "metadata": {},
     "output_type": "execute_result"
    }
   ],
   "source": [
    "from sentence_transformers import SentenceTransformer\n",
    "model_name='all-MiniLM-L6-v2'\n",
    "model = SentenceTransformer(model_name, device='cpu') \n",
    "model"
   ]
  },
  {
   "cell_type": "code",
   "execution_count": 10,
   "metadata": {},
   "outputs": [],
   "source": [
    "filepath=\"Survey_of_MLAlgorithmsfor6g.pdf\"\n",
    "file_loader = PyPDFLoader(os.path.join(os.getcwd(),filepath))\n",
    "documents = file_loader.load()"
   ]
  },
  {
   "cell_type": "code",
   "execution_count": 24,
   "metadata": {},
   "outputs": [
    {
     "name": "stdout",
     "output_type": "stream",
     "text": [
      "71\n"
     ]
    }
   ],
   "source": [
    "text_splitter = RecursiveCharacterTextSplitter(chunk_size=700, chunk_overlap=30)\n",
    "chunks = text_splitter.split_documents(documents)\n",
    "print(len(chunks))"
   ]
  },
  {
   "cell_type": "code",
   "execution_count": 25,
   "metadata": {},
   "outputs": [
    {
     "data": {
      "text/plain": [
       "[Document(page_content='A Survey of Machine Learning Algorithms for \\n6G Wireless Networks  \\n \\nAnita Patil  \\nDepartment of ECE, S G Balekundri Institute of Technology, Belagavi, KA,  India - 590010 .  \\nanitap@sgbit.edu.in  \\n \\n \\nSridhar Iyer  \\nDepartment of ECE, KLE Dr. M.S. Sheshgiri Coll ege of Engineering and Technology , Belagavi, KA, \\nIndia - 590008 .  \\nsridhariyer1983@klescet.ac.in    \\n \\n \\nRahul Jashvantbhai  Pandya  \\nIndian Institute of Technology,  Dharwad, WALMI Campus, PB Road, KA,  India - 580011.  \\nrpandya@iitdh.ac.in  \\n \\n \\nAbstract:   \\n        The primary focus of Artificial Intelligence/Machine Learning ( AI/ML ) integration within the wirel ess', metadata={'source': 'C:\\\\muskan\\\\IIITA\\\\Deep learning\\\\Chatbot project-Questionpro\\\\A Survey of Machine Learning Algorithms for 6g wirless netwok.pdf', 'page': 0}),\n",
       " Document(page_content='technology is to reduce capital expenditures, optimize network performance, and build new  revenue streams. \\nReplacing traditional algorithms with  deep learning AI techniques have  dramatically reduced the power \\nconsumption and improved the system performance. Further, implementation of ML algorithms also enables the \\nwireless network service providers to (i) offer high automatio n levels from distributed AI/ML architectures  \\napplicable at the network edge, (ii) implement application -based traffic stee ring across the access networks, (iii) \\nenable dynamic network slicing for addressing different scenarios with varying quality of service requirements,', metadata={'source': 'C:\\\\muskan\\\\IIITA\\\\Deep learning\\\\Chatbot project-Questionpro\\\\A Survey of Machine Learning Algorithms for 6g wirless netwok.pdf', 'page': 0}),\n",
       " Document(page_content='and (iv) enable ubiquitous connectivity across the various 6G c ommunication platforms.  \\n        In this chapter, we review/survey the ML techniq ues which are applicable to the 6G wireless networks. and \\nalso list the open problems of research which require timely solutions.  \\n \\nKeywords:  6G, spectrum, THz, AI/ML  \\n \\nList of Abbreviations used in the chapter.  \\nAMBC  Ambient Backscattering Communications  \\nAI Artificial Intelligence  \\nAPM  Amplitude Phase Modulation  \\nCR Cognitive Radio  \\nDSA  Dynamic Spectrum Adaptation  \\nDL Deep Learning  \\nDRL  Deep Reinforcement Learning  \\nFL Federated Learning  \\nGAN  Generative Adversarial Networks  \\nIM Index Modulation', metadata={'source': 'C:\\\\muskan\\\\IIITA\\\\Deep learning\\\\Chatbot project-Questionpro\\\\A Survey of Machine Learning Algorithms for 6g wirless netwok.pdf', 'page': 0}),\n",
       " Document(page_content='IM Index Modulation  \\nMDP  Mark ov Decision Process  \\nML Machine Learning  \\nNOMA  Non-Orthogonal Multiple Access  \\nOFDMA  Orthogonal Frequency Division Multiple Access  \\nQoS Quality of Service  \\nRKHS  Reproducing Kernel Hilbert Space', metadata={'source': 'C:\\\\muskan\\\\IIITA\\\\Deep learning\\\\Chatbot project-Questionpro\\\\A Survey of Machine Learning Algorithms for 6g wirless netwok.pdf', 'page': 0}),\n",
       " Document(page_content='SM Space Modulation  \\nSSK Space shift Keying  \\nSWIPT  Simultaneous wireless information and Power Transfer  \\nSR Symbiotic Radio  \\nSVM  Super Vector Machine  \\nTHz Tera Hertz  \\n \\n1. Overview of Machine learning in wireless Communication networks  \\nWith the exponential increase in the bandwidth demand and data traffic, there is an \\nimmediate requirement to serve this traffic through high -speed wireless communication networks. \\nIn turn, this requisites efficient software enabled intelligent algorithms, advan ced physical layer \\nsolutions, and spectral bands at a higher frequency to fulfil the requirements of the next -generation', metadata={'source': 'C:\\\\muskan\\\\IIITA\\\\Deep learning\\\\Chatbot project-Questionpro\\\\A Survey of Machine Learning Algorithms for 6g wirless netwok.pdf', 'page': 1}),\n",
       " Document(page_content='users. The wireless communication research community has recently shown that the Tera -Hertz \\n(THz) band is one of the promising bands to  enable ultra -broadband wireless communication and \\nminimize the spectrum scarcity issues  (Zhao  et. al., 2021) . \\nThe current wireless systems rely heavily on mathematical models; however, such models \\ndo not define the system structure accurately. Hence, the use of Machine learning (ML) techniques \\nfor wireless communication has gained momentum as these methods enable the attainment of the \\nquality of service functionalities with advanced solutions  (Ali et. al., 2020) . Moreover, ML', metadata={'source': 'C:\\\\muskan\\\\IIITA\\\\Deep learning\\\\Chatbot project-Questionpro\\\\A Survey of Machine Learning Algorithms for 6g wirless netwok.pdf', 'page': 1}),\n",
       " Document(page_content='techniques provide the replace ment of heuristic or Brute Force Algorithms for optimizing localized \\ntasks and can also present adequate solutions that the existing mathematical model are unable to \\nobtain. Currently, the ML algorithms are being deployed and trained statically at differen t \\nmanagement layers, core, radio base stations, and mobile devices. The dynamic deployment is \\nenvisioned to yield enhanced performance and utilization.  \\nIn general, the ML algorithms help in tasks such as, classification, regression, the interaction \\nof an intelligent agent with the wireless environment  (Syed  et. al. 2019) . In such operations, ML', metadata={'source': 'C:\\\\muskan\\\\IIITA\\\\Deep learning\\\\Chatbot project-Questionpro\\\\A Survey of Machine Learning Algorithms for 6g wirless netwok.pdf', 'page': 1}),\n",
       " Document(page_content='algorithms work in three different versions viz., supervised learning, unsupervised learning, and \\nreinforcement learning. Few ML models such as, non -parametric Baye sian methods (Gaussian \\napproach), are promising, especially in handling small, incrementally growing data sets; however, \\nthey have increased complexity compared to the parametric methods. Further, the Kernel Hilbert \\nSpace -based solutions have shown encoura ging results in generating improved data rate, which is \\n10-100 times higher in comparison to the ones shown in the 5G wireless networks, simultaneously \\nbeing computationally simple and scalable with lower approximation error. Federated Learning (FL)', metadata={'source': 'C:\\\\muskan\\\\IIITA\\\\Deep learning\\\\Chatbot project-Questionpro\\\\A Survey of Machine Learning Algorithms for 6g wirless netwok.pdf', 'page': 1}),\n",
       " Document(page_content='is an alternate distributed ML algorithm which enables mobile devices to collaboratively learn a \\nshared ML model without data exchange among mobile devices  (Marmol  et. al., 2021) . It is being \\nanalysed further to be considered as a next -generation solution for or ientation, intrusion detection, \\nmobility, and extreme event prediction. Reinforced Learning algorithms help in coding scheme', metadata={'source': 'C:\\\\muskan\\\\IIITA\\\\Deep learning\\\\Chatbot project-Questionpro\\\\A Survey of Machine Learning Algorithms for 6g wirless netwok.pdf', 'page': 1}),\n",
       " Document(page_content='selection, modulation, beam forming, and power control. In addition, physical layer optimization \\nalso exploits ML for multi -input a nd multi -output downlink beam forming. Implementing all the \\naforementioned ML algorithms at the end -user devices, needs the consideration of key parameters \\nsuch as, cost, size, and power. Additional considerations in the simulation and the prototyping of \\nML at the end -user devices are to optimize the physical realization of the design and fi nding the \\ninputs to the model  (Dalal & Kushal, 2019) . \\nThe focus of  this chapter is to bring out the importance of A I and M L in 6G wireless', metadata={'source': 'C:\\\\muskan\\\\IIITA\\\\Deep learning\\\\Chatbot project-Questionpro\\\\A Survey of Machine Learning Algorithms for 6g wirless netwok.pdf', 'page': 2}),\n",
       " Document(page_content='communication.  ML is a component of AI although it endeavors to solve the problems based on \\nhistorical or previous examples. Unlike AI applications, ML involves learning of hidden patterns \\nwithin the data (data mining) and subsequently using the patterns to classify or pre dict an event \\nrelated to the problem . Simply  put, intelligent machines depend on the knowledge to sustain their \\nfunctionalities and  ML offers the same . In essence, ML algorit hms are embedded into machines and \\ndata streams provided so that knowledge and information are extracted and fed into the system for \\nfaster and ef ficient management of processes (Ali et. al., 2020) .', metadata={'source': 'C:\\\\muskan\\\\IIITA\\\\Deep learning\\\\Chatbot project-Questionpro\\\\A Survey of Machine Learning Algorithms for 6g wirless netwok.pdf', 'page': 2}),\n",
       " Document(page_content='Demand for radio spectrum is increasing as  the data traffic is increasing , and hence, massive \\nconnections with high quality of service have to be provided.  Recent advances in ML have shown \\nthat ML will play a major role in solving multiple issues in wireless communication networks.  To \\nmention few, ML will provide ease in all sort of applications which were not enabled in the earlier \\ngener ations such as , Augmented Reality  (AR),  Virtual Reality  (VR),  holographic telepresence,  \\neHealth,  wellness applications, Massive Robotics,  Pervasive connectivity in smart Environment , etc. \\nIt is envisioned that ML will enable real time analysis and zero-touch operation , and will provide', metadata={'source': 'C:\\\\muskan\\\\IIITA\\\\Deep learning\\\\Chatbot project-Questionpro\\\\A Survey of Machine Learning Algorithms for 6g wirless netwok.pdf', 'page': 2}),\n",
       " Document(page_content='control in in the 6G networks  (Zhao  et. al., 2020) . Mobile devices can assist  and report to the network \\nregarding the  ML actions and predictions  to aid efficient resource management . In order to manage \\nthe connection density,  dynamic spectrum management has been proposed in the literature. The key \\nenabling techniques for dynamic spectrum are i)  Cognitive Radio ii)  Symbiotic Radio, and iii) \\nBlockchain Techno logy (Hong et. al., 2014; Hewa et. al. 2020) . \\nThe scarcity of available spectrum and u nderutilization of the allocated spectrum necessitates \\nefficient technique s to manage the spectrum dynamically. In dynamic spectrum m anagem ent, the', metadata={'source': 'C:\\\\muskan\\\\IIITA\\\\Deep learning\\\\Chatbot project-Questionpro\\\\A Survey of Machine Learning Algorithms for 6g wirless netwok.pdf', 'page': 2}),\n",
       " Document(page_content='concept of primary and secondary u sers exist s wherein ; secondary users do not have the authority to  \\naccess the spectrum; however, they can access it whenever the primary spectrum is idle , and it can \\neven be shared with the prote ction of primary users’ service . This process enable s the secondary \\nusers to transmit their data without the licence of spectrum.   \\nIn order to achieve dynamic spectrum allocati on many algorithms are proposed in the \\nliterature . These algorithms not only address the issues of spectrum  allocation but also issues such', metadata={'source': 'C:\\\\muskan\\\\IIITA\\\\Deep learning\\\\Chatbot project-Questionpro\\\\A Survey of Machine Learning Algorithms for 6g wirless netwok.pdf', 'page': 2}),\n",
       " Document(page_content='as, data security, optimization, power -efficiency , cost-efficiency, etc. Following are the ML \\nalgorithms which h elp in addressing all the afore mentioned issues.  \\ni. Supervised Learning  \\nii. Unsupervised learning  \\niii. Reinforced Learning  \\niv. Federated Learning  \\nv. Kernel Hilbert Space  \\nvi. Block Chain Technology  \\nvii. Cognitive Radio  \\nviii. Symbiotic Radio . \\nix. THz Technology  \\nx. Free Duplex  \\nxi. Index Modulation  \\n \\n1. Supervised Learning and Unsupervised Learning Algorithms  \\nThe ML algorithms can be mainly classified as supervised or unsupervised . These two \\nclasses mainly differ in the labels of training data sets.  In supervised ML output and input attributes', metadata={'source': 'C:\\\\muskan\\\\IIITA\\\\Deep learning\\\\Chatbot project-Questionpro\\\\A Survey of Machine Learning Algorithms for 6g wirless netwok.pdf', 'page': 3}),\n",
       " Document(page_content='are predetermined  (Amanpreet et. al. 2016) . The algorithms  perform  predict ion and classification of  \\nthe predetermined attribute s, and their accuracy . For instance, if the input variable  is \\nX  and output \\nvariable is \\nY then, the mapping function using by supervised learning will be \\n)(XFY\\uf03d .The learning \\nprocess stops when the algorithm achieves an a cceptable level of performance . As detailed by \\n(Chowdhury et. al., 2020) , first analytical tasks are performed by supervised algorithms using the \\ntraining data, and subsequently contingent functions are constructed for mapping variations of the', metadata={'source': 'C:\\\\muskan\\\\IIITA\\\\Deep learning\\\\Chatbot project-Questionpro\\\\A Survey of Machine Learning Algorithms for 6g wirless netwok.pdf', 'page': 3}),\n",
       " Document(page_content='attribute. These algorithms need  pre-specifications of maximum settings to obtain the desired \\noutcome and performance . With this a pproach in ML, it has been observed that the training subset \\nof approximately 66% is rationale, and without de manding m ore computational time, outcome will \\nbe achieved.  Further, the supervised learning algorithms can be further classified into the \\nclassification and regression algorithms . \\n \\n\\uf0b7 Classification : If output variable is a category such as, “red” or “blue” or “disease” and “no \\ndisease”  the classification problem can be used  (Amanpreet et. al. 2016) .', metadata={'source': 'C:\\\\muskan\\\\IIITA\\\\Deep learning\\\\Chatbot project-Questionpro\\\\A Survey of Machine Learning Algorithms for 6g wirless netwok.pdf', 'page': 3}),\n",
       " Document(page_content='\\uf0b7 Regression : If the output value is a real value such as , “rupees” then, the regression problem can \\nbe used. Few popular examples of supervised ML algorithms are : \\n\\uf0d8 Linear regression for regression problems.  \\n\\uf0d8 Random forest for classification and regression problems.  \\n\\uf0d8 Support vector machines (SVM) for classification problems.  \\n\\uf0d8 For r esource allocation,  and c oding scheme selection in wireless communication,  supervised \\nlearn ing algorithms are utilized.  \\n \\n2. Semi -Supervised Machine Learning  \\nIn these algorithms,  large amount of input data  \\nX and small amount of output data  \\nY are', metadata={'source': 'C:\\\\muskan\\\\IIITA\\\\Deep learning\\\\Chatbot project-Questionpro\\\\A Survey of Machine Learning Algorithms for 6g wirless netwok.pdf', 'page': 4}),\n",
       " Document(page_content='Y are \\nlabelled.  These problems lie in between the supervised and the unsupervised learning  (Sheena & \\nSachin, 2019; Yogesh et. al., 2020) . \\n \\n3. Unsupervised Learning  \\nIn contrast to the supervised learning,  unsupervised data learning comprises of pattern \\nrecognition without having a target attribute. A ll the var iables used in the analysis are used as inputs, \\nand the techniq ues are suitable for clustering and association  mining techniques.  According to \\n(Amruthnath  at. al., 2018) , unsupervised learning algorithms are used to create  labels in the data that \\nare subsequently  used to imple ment the supervised learning tasks.  Clustering algorithms identify', metadata={'source': 'C:\\\\muskan\\\\IIITA\\\\Deep learning\\\\Chatbot project-Questionpro\\\\A Survey of Machine Learning Algorithms for 6g wirless netwok.pdf', 'page': 4}),\n",
       " Document(page_content='inherent groupings within the unlabeled data, and subsequently assign label to each data value.  \\nFurther, u nsupervised association mining algorithms identify rules that accurately represent the \\nrelationships  between the attributes.  Overall, t he aim of unsupervised learning is to model the \\nunderlying structure or distribution in the data so as to learn more about the data.  These algorithms \\ndo provide correct answers and there is no teacher; hence , they are called as ‘Unsupervised \\nAlgorithms ’. These algorithms can also be grouped into Clustering  and Association Algorithms \\n(Zhao et. al., 2021) .', metadata={'source': 'C:\\\\muskan\\\\IIITA\\\\Deep learning\\\\Chatbot project-Questionpro\\\\A Survey of Machine Learning Algorithms for 6g wirless netwok.pdf', 'page': 4}),\n",
       " Document(page_content='(Zhao et. al., 2021) . \\n \\n\\uf0b7 Clustering : To discover the  inherent groupings in the data. An example is based on purchasing \\nbehaviour grouping of customers . \\n\\uf0b7 Association : To discover rules that descri be large portions of the given data such as , peop le who \\nbuy X will also buy Y . \\n \\nFew additional  examples  of the unsupervised  learning  Algorithms  are: \\n\\uf0d8 K-means for clustering problems.  \\n\\uf0d8 A priori algorithm for association rule learning problems.', metadata={'source': 'C:\\\\muskan\\\\IIITA\\\\Deep learning\\\\Chatbot project-Questionpro\\\\A Survey of Machine Learning Algorithms for 6g wirless netwok.pdf', 'page': 4}),\n",
       " Document(page_content='\\uf0d8 The c ommonly used techniques are:  clustering, auto  encoders  (Kien et. al., 2020) , deep belief \\nnets, generative adversarial networks, and the expectation –maximization algorithm. It is also \\nused in the physical layer for optimal modulation,  channel -aware feature extraction , anomaly \\ndetection,  localization etc.  \\n \\n4. Reinforcement Algorithm  \\n             Reinforcement learning  (RL) is one of the basic ML paradigms along with  supervised and \\nunsupervised learning.  It is concerned with the manner in which intelligent devices are required to \\nmake decisions or take actions in an environment in order to maximize the notion of  cumulative', metadata={'source': 'C:\\\\muskan\\\\IIITA\\\\Deep learning\\\\Chatbot project-Questionpro\\\\A Survey of Machine Learning Algorithms for 6g wirless netwok.pdf', 'page': 5}),\n",
       " Document(page_content='reward.  It differs from supervised learning as it does not need labelled input/output pairs to be \\npresented, and does not need  sub-optimal actions to b e explicitly corrected. Instead, the focus is on \\nfinding a balance between exploration and ex ploitation . Markov Decision Process  (MDP) is \\ntypically used to  state the environment, as reinforcement learning algorithms make use of dynamic \\nprogramming techniques.  Reinforcement learning algorithms do not assume knowledge of an exact \\nmathematical model of the MDP; however, they target large MDPs  where exact mathem atical \\nmodels become infeasible (Vasileios . Et. al., 2021) .', metadata={'source': 'C:\\\\muskan\\\\IIITA\\\\Deep learning\\\\Chatbot project-Questionpro\\\\A Survey of Machine Learning Algorithms for 6g wirless netwok.pdf', 'page': 5}),\n",
       " Document(page_content='RL finds an application in many disciplines such as , game theory , control theory, simulation \\nbased  optimization , multi -agent systems,  swarm intelligence and wireless  communication.  For \\nexample, i n the operation al research and control literature, r einforcement learning is referred as \\napproximate dynamic programming,  or neuro -dynamic programming.  The t heory of optimal control \\nincludes reinforcement learning problems which is concerned with the characterization and \\nexistence of optimal solutions and algorit hms for their exact computation . The problems are less \\nconcerned with approximation  or learning,  specifically  in the absence of a mathema tical model of', metadata={'source': 'C:\\\\muskan\\\\IIITA\\\\Deep learning\\\\Chatbot project-Questionpro\\\\A Survey of Machine Learning Algorithms for 6g wirless netwok.pdf', 'page': 5}),\n",
       " Document(page_content='the environment.  Function approximation  and use of samples are the powerful  elements  of \\nreinforcement learning use to deal with large environments and optimization of performance . \\nReinforcement learning problem consists of an agent to interact with an environment and learns how \\nto take actions. At each step of the learning process,  state of the environment is observed by the \\nagent which then takes action from the available set of actions, receives a numeric reward, and moves \\nto the next  state. Hence, t he aim of the agent is to maximize long term cumulative reward. Problem \\nsuch as resource allocation in wire less domain can be formulated as a reinforcement learning', metadata={'source': 'C:\\\\muskan\\\\IIITA\\\\Deep learning\\\\Chatbot project-Questionpro\\\\A Survey of Machine Learning Algorithms for 6g wirless netwok.pdf', 'page': 5}),\n",
       " Document(page_content='problem wherein, n eural networks can be used as function approximators to l earn values of each \\nstate or the rewards that are generated by the environment. Many problems in wireless networks \\nsuch as , power control,  beamforming, and modulation and coding scheme selection are solved by \\nvarious deep reinf orcement learning architectur es. However, as a drawback, reliance on training is \\na major limitation of reinforcement learning . In this regard, recently, there has been advances', metadata={'source': 'C:\\\\muskan\\\\IIITA\\\\Deep learning\\\\Chatbot project-Questionpro\\\\A Survey of Machine Learning Algorithms for 6g wirless netwok.pdf', 'page': 5}),\n",
       " Document(page_content='towards reducing this reliance, specifically  when dealing with extreme network situations. In \\nparticular, th e concept of experienced deep reinforcement learning was proposed in which \\nreinforcement learning  is trained using Generative Adversarial Networks  (GAN ) that generate \\nsynthetic data to complement a limited, existing real dataset ( Iqbal , 2021).  \\nTwo elements make RL powerful viz., the use of samples to optimize the performance and \\nthe use of function approximation to deal with large environments.  RL can be used in following \\nsituations : \\ni. Only a simulation model of the environment is known i.e., s ubject of simulation optimization.', metadata={'source': 'C:\\\\muskan\\\\IIITA\\\\Deep learning\\\\Chatbot project-Questionpro\\\\A Survey of Machine Learning Algorithms for 6g wirless netwok.pdf', 'page': 6}),\n",
       " Document(page_content='ii. A model of the environment is known and analytic solution is not available  \\niii. In 6G , RL can be used for  resource allocation in cognitive network,  beam forming,  coding scheme \\nselection, power control,  channel modulation , etc.  \\nRL Algorithms can also be categorised as described in the following sections.  \\n \\n5. Associative Reinforcement Learning  \\nThe learning system interacts in a closed loop with its environment and combines the facets \\nof stochastic learning automata tasks.  \\n \\n6. Deep Reinforcement L earning  \\nRL is extended in this approach by using a deep neural network without explicitly designing', metadata={'source': 'C:\\\\muskan\\\\IIITA\\\\Deep learning\\\\Chatbot project-Questionpro\\\\A Survey of Machine Learning Algorithms for 6g wirless netwok.pdf', 'page': 6}),\n",
       " Document(page_content='the state space.  Learning ATARI games by Google Deep Mind has created increased attention \\nto Deep Reinforcement Learning  (DRL) . It influences  Markov decision models for selecting next \\n‘action’  based  on the state transition models . In DRL, instead of mapping every solution, states are \\napproximated or estimated by a neural network . In 6G wireless communications, efficient solutions \\nfor radio resource allocation are required and this is challe nging as 6G wireless network will aim to \\nserve wider variety of users in future radio resources which will be in extreme scarcity.  As a soluti on,', metadata={'source': 'C:\\\\muskan\\\\IIITA\\\\Deep learning\\\\Chatbot project-Questionpro\\\\A Survey of Machine Learning Algorithms for 6g wirless netwok.pdf', 'page': 6}),\n",
       " Document(page_content='DRL  can be implemented to obtain efficient solutions for the radio resource problems (Zhao et. al., \\n2020) . \\n \\n7. Inverse Reinforcement L earning  \\nPurpose of inverse reinforcement learning is to imitate observed behaviour which is often \\noptimal solution or close to optimal. Inverse reinforcement learning approach will have no reward \\nfunction but a reward function will be inferred as an observed behav iour from expert.', metadata={'source': 'C:\\\\muskan\\\\IIITA\\\\Deep learning\\\\Chatbot project-Questionpro\\\\A Survey of Machine Learning Algorithms for 6g wirless netwok.pdf', 'page': 6}),\n",
       " Document(page_content='8. Safe Reinforcement Learning  \\nSafe R L is the process of learning policies that maximize the expectation of the return in \\nproblems wherein , it is important to ensure reasonable system performance,  safety constraints during \\nlearning and deployment processes.  \\n \\n9. Federated Learning:  \\nFederated learning (FL) is helpful is cases when  it is difficult to assign the ML m odels to \\neach mobile device and d ata center  because in traditional centralized ML algorithms , it is required \\nfor each mobile device to transmit its collected data to the data center for training purpose.  It is \\nimpractical for wireless mobile devices to transmit their local data for tra ining ML models due to', metadata={'source': 'C:\\\\muskan\\\\IIITA\\\\Deep learning\\\\Chatbot project-Questionpro\\\\A Survey of Machine Learning Algorithms for 6g wirless netwok.pdf', 'page': 7}),\n",
       " Document(page_content='privacy issues . To overcome this traditi onal ML problem , FL, which is a distributed ML algorithm \\nthat enables devices to learn a shared ML model without data exchange among mobile devices , is \\nimplemented  (Li et. al., 2021) . In this approach,  each mobile device and the data cente r will have \\ntheir own ML models,  and these ML models are referred to  as ‘local Model ’ and ‘Global Model ’ for \\nmobile device and data  center , respectively . \\nFurther, the training m odel of ML in FL approach is as follow s: \\na. Each mobile device uses the collected data to train the  local FL model and sends the trained  local \\nFL model to the data center.', metadata={'source': 'C:\\\\muskan\\\\IIITA\\\\Deep learning\\\\Chatbot project-Questionpro\\\\A Survey of Machine Learning Algorithms for 6g wirless netwok.pdf', 'page': 7}),\n",
       " Document(page_content='b. The data center integrates the local FL models to generat e the global FL model and  broadcasts it \\nback to all mobile devices.  \\n \\nAs it can be inferred from the FL process , the mobile devices are required to transmit the \\ntraining par ameters over the wireless links . The limited wireless bandwidth,  imperfect transmission \\nand dynamic wireless channels will a ffect the FL performance in a significant manner . However, \\nmany studies have shown that implementation of FL process by optimizing the wireless network.  \\nThe m ain objective of FL is to protect the data owner’s privacy.  It aims to  train a ML model with', metadata={'source': 'C:\\\\muskan\\\\IIITA\\\\Deep learning\\\\Chatbot project-Questionpro\\\\A Survey of Machine Learning Algorithms for 6g wirless netwok.pdf', 'page': 7}),\n",
       " Document(page_content='training data kept distributed at the clients in order to protect the data owners’ privacy. The working \\nidea illustrati on includes devices of the users are used to train local models and then the trained local  \\nmodels are sent to the base station for aggregation. In this process, the privacy of the user data is \\nwell preserved  as the data are still maintained in the devices.  In 6G networks , the architecture will \\nbe distributed wherein, the FL technology of AI from centralized cloud based model to decentralized \\ndevices  will be necessitated . The AI computing tasks can be distributed to multiple decentralized', metadata={'source': 'C:\\\\muskan\\\\IIITA\\\\Deep learning\\\\Chatbot project-Questionpro\\\\A Survey of Machine Learning Algorithms for 6g wirless netwok.pdf', 'page': 7}),\n",
       " Document(page_content='edge nodes from a central node, and h ence, FL is one of the vital ML methods to enable the \\ndeployment of  accurately generalized models across multiple devices  (Du et. al., 2020) .', metadata={'source': 'C:\\\\muskan\\\\IIITA\\\\Deep learning\\\\Chatbot project-Questionpro\\\\A Survey of Machine Learning Algorithms for 6g wirless netwok.pdf', 'page': 7}),\n",
       " Document(page_content='10. Kernel Hilbert space  \\nHigh interference, which is a result of massive connectivity, will be a major perfo rmance \\nbottleneck in 6G. Massive connectivity will involve serving extensive range of devices of  various \\nmanufac turing qualities and this will lead  to introduction of impairments which develop due to \\ndiverse objects  introduced by non -ideal hardware . The major objects  may be I/Q imbalance , non-\\nlinear characteristics, high-mobili ty especially in the industries where fixed solution may not be \\napplicable , etc. To accomplish the promise of improvement in the data rate of  10-100 times in 6G', metadata={'source': 'C:\\\\muskan\\\\IIITA\\\\Deep learning\\\\Chatbot project-Questionpro\\\\A Survey of Machine Learning Algorithms for 6g wirless netwok.pdf', 'page': 8}),\n",
       " Document(page_content='as compared to the  scenarios of 5G, the Reproducing kernel Hilbert space (RKHS) based solutions \\nare predominantly  useful owing to  their computational simplicity  (Salh  et. al., 2021) . RKHS methods \\nhave significantly lower approximation error and  are scalable . 6G will potentially encounter the high \\ninterfe rence non -Gaussian environments; however, RKHS based solutions will provide efficiency \\nwith lower approximation error .  RKHS based approaches have recently appeared  as a solution for \\nmany impairments  in the framework  of numerous  applications in the next -generation wireless', metadata={'source': 'C:\\\\muskan\\\\IIITA\\\\Deep learning\\\\Chatbot project-Questionpro\\\\A Survey of Machine Learning Algorithms for 6g wirless netwok.pdf', 'page': 8}),\n",
       " Document(page_content='communication systems. Hence , the major issues in 6G such as , detection,  tracking and localization \\nwill be addressed by various RKHS based solutions.  In recent years, technological advances have \\nensured that DL method offers tremendous solutions, and it is largely used in wireless \\ncommunications problems.  Simultaneously, further improvement in the perfo rmance of RKHS \\nbased approaches could be achieved by the feature extraction methods using Monte -Carlo sampling.  \\nThe extracted fea tures can be utilized as input to the DL based slants  to boost  the act of models used \\nin 6G. As compared to the classical DL algorithms, RKHS based DL algorithms ensure enhanced', metadata={'source': 'C:\\\\muskan\\\\IIITA\\\\Deep learning\\\\Chatbot project-Questionpro\\\\A Survey of Machine Learning Algorithms for 6g wirless netwok.pdf', 'page': 8}),\n",
       " Document(page_content='performance as there is an intrinsic regularization and support wi th strong analytical framework \\n(Guo, 2021).  \\n \\n11. Cognitive Radio  \\nThe most widely accepted key technology to empower dynamic spectrum allocation is \\ncognitive radio.  Based on the interacti on with surrounding environment, and also based on the \\nawareness of its internal states such as , hardware and software architectures,  user needs,  spectrum \\nuse policy, cognitive r adio can a utonomously and  dynamically adapt the system transmission \\nstrategies,  bandwidth,  transmit power,  antenna beam,  carrier frequency and modulation scheme.  The', metadata={'source': 'C:\\\\muskan\\\\IIITA\\\\Deep learning\\\\Chatbot project-Questionpro\\\\A Survey of Machine Learning Algorithms for 6g wirless netwok.pdf', 'page': 8}),\n",
       " Document(page_content='transmission strategies are adjusted by computer software in the Software Defined Radio . Cognitive \\nradio is capable  to observe,  analyz e the observed enviro nment through sensing, and process \\ninformation through learning.  It decides the transmission strategy  through reasoning. Recent \\nadvance s in research have shown that cognitive radio  technology can be explored more for  its', metadata={'source': 'C:\\\\muskan\\\\IIITA\\\\Deep learning\\\\Chatbot project-Questionpro\\\\A Survey of Machine Learning Algorithms for 6g wirless netwok.pdf', 'page': 8}),\n",
       " Document(page_content='inherent potential towards AI, and also  its capacity to facilitate Dynamic Spectrum Allocation  (DSA)  \\nvery efficiently (Hong et. al., 2014) . \\nAlthough most of the existing cognitive radio  researchers  till date have been focusing on the  \\nexploration and realization of cognitive capability to facilitate the DSA , recent research has been \\nconducted to explore additional  potential which is inherent in the cognitive radio  technology  through \\nAI. A typical cognitive cycle for cognitive radio  comp rises of a Secondary User  having c ognitive \\ncapability which is essential to consistently and perio dically observe the environment, and it obtains', metadata={'source': 'C:\\\\muskan\\\\IIITA\\\\Deep learning\\\\Chatbot project-Questionpro\\\\A Survey of Machine Learning Algorithms for 6g wirless netwok.pdf', 'page': 9}),\n",
       " Document(page_content='the information regarding  interfere nce temperature, spectrum holes, etc . It also determines the best \\noperational features to optimize its own performance subject ed to protect ing the primary users, and \\naccording to these operational parameters, system configurations are conducted . The traffic statistics \\nand channel fading statistics  of the radio environment  can be analyzed by the information time.  Due \\nto this , the cognitive radio  equipment is able to lear n and perform better in future D ynamic Spectrum \\nAdapta tion (DSA) . However,  implementing DSA with cognitive radio  involves efforts from various', metadata={'source': 'C:\\\\muskan\\\\IIITA\\\\Deep learning\\\\Chatbot project-Questionpro\\\\A Survey of Machine Learning Algorithms for 6g wirless netwok.pdf', 'page': 9}),\n",
       " Document(page_content='research communities such as, communications,  signal processing , computer networking,  \\ninformation theory and ML. Lastly, combining  DSA with cognitive radio  and its realization also \\nfundamentally  hinge on  the inclination  of regulators to open the spectrum for unlicensed access. \\nProvidentially , over the past decades, it has been observed that universal  determinations  from \\nregulatory bodies are eradicating  regulatory barriers to expedite  DSA  (Mollah et. al., 2019) . \\n \\n12. Block Chain Technology  \\nIn addition  to the cryptocurrency, with its prominent  features , blockchain has many uses', metadata={'source': 'C:\\\\muskan\\\\IIITA\\\\Deep learning\\\\Chatbot project-Questionpro\\\\A Survey of Machine Learning Algorithms for 6g wirless netwok.pdf', 'page': 9}),\n",
       " Document(page_content='including, smart c ontracts, financial services and IoT. Besides , blockchain can fetch  new openings  \\nto improve the competence , and to  lessen  charge  in the dynamic spectrum management.  Also, \\nblockchain is utilized  to manage and share the spectrum resources, due to which central authority \\nmay get eliminated.  Blockchain is fundamentally a distributed  and open  archive, in which \\ntransactions are firmly  recognized  in blocks. In the existing  block, an exclusive  indicator  determined \\nby transactions in the preceding  block is recorded. Tampering with any t ransaction deposited  in a', metadata={'source': 'C:\\\\muskan\\\\IIITA\\\\Deep learning\\\\Chatbot project-Questionpro\\\\A Survey of Machine Learning Algorithms for 6g wirless netwok.pdf', 'page': 9}),\n",
       " Document(page_content='previous block can be detected efficiently. The transac tions commenced  by one node are broadcast  \\nto other nodes, and a consensus algorit hm is opted  to conclude  which node is approved  to authorize  \\nthe new block by affixing  it to the blockchain. With the distributed  authentication  and record \\nmechanism, blockchain will be  robust against single point of failures,  verifiable and transparent . \\nDepending on the level  decentralization, blockchain can be classified into consortium blockchain, \\npublic  blockchain and private  blockchain. A public blockchain can be tested  and retrieved  by all', metadata={'source': 'C:\\\\muskan\\\\IIITA\\\\Deep learning\\\\Chatbot project-Questionpro\\\\A Survey of Machine Learning Algorithms for 6g wirless netwok.pdf', 'page': 9}),\n",
       " Document(page_content='nodes in the network; whereas,  a private blockchain  or a consortium blockchain mainta ined by the \\npermissioned nodes  only. A smart contract, reinforced  by the blockchain t echnology, is a self -', metadata={'source': 'C:\\\\muskan\\\\IIITA\\\\Deep learning\\\\Chatbot project-Questionpro\\\\A Survey of Machine Learning Algorithms for 6g wirless netwok.pdf', 'page': 9}),\n",
       " Document(page_content='executable connection  with its sections  being converted  to prog ramming writings  and deposited  in \\na transaction.  Blockchain has been explored  to provide  support to various applications of IoT. As a \\ndecentralization entity, blockchain can be us eful in integrat ing the various  IoT devices and strongly  \\nstock  the ma ssive data formed  by the m. Moreover, blockchai n is also used  to accomplish  the mobile \\nedge computing resources to preserve  the IoT d evices with limited computation capacity . \\nBlock chain provides security to dynamic spectrum access enabled by the spectrum auctions. In', metadata={'source': 'C:\\\\muskan\\\\IIITA\\\\Deep learning\\\\Chatbot project-Questionpro\\\\A Survey of Machine Learning Algorithms for 6g wirless netwok.pdf', 'page': 10}),\n",
       " Document(page_content='opportunistic spectrum access provided by sensors , block chain is used to intermedia te the spectrum \\nsensing service (Abdualgalil  et. al., 2020) . Specifically, block chain can be used  to: \\n \\ni. Establish a self -organized Spectrum Market : In the manageme nt of spectrum resources , a self -\\norganized spectrum market is esse ntial with enhanced efficiency, with the reduced cost when \\ncompared to depending on a centralized authority. Dynamic spectrum mana gement , transactions and \\ntheir verification and smart contract combination will be  used to block chain based self -organized \\nspectrum market.  The block chain security assures that users can make the transactions without trust', metadata={'source': 'C:\\\\muskan\\\\IIITA\\\\Deep learning\\\\Chatbot project-Questionpro\\\\A Survey of Machine Learning Algorithms for 6g wirless netwok.pdf', 'page': 10}),\n",
       " Document(page_content='in each other.  Thus , high bar to achieve spectrum resource accessibility can  be reduced.  \\n \\nii. Create a secured database : The information such as, outcomes of spectrum auctions and access \\nrecords , historical sensing results  can also be stored in the blockchain.  \\n \\nOverall, block  chain technologies have been assumed  to convey  new opportunities to the \\ndynamic spectrum  management, to ensure progress  in the avenues of security , autonomy , \\ndecentralization  and admini stration cost  reduction. Moreover , investigation on challenges such as , \\ndeployment , energy consumption, and scheme  of blockchain network over the conventional', metadata={'source': 'C:\\\\muskan\\\\IIITA\\\\Deep learning\\\\Chatbot project-Questionpro\\\\A Survey of Machine Learning Algorithms for 6g wirless netwok.pdf', 'page': 10}),\n",
       " Document(page_content='cognitive radio network should also be carried out . \\n \\n13. Symbiotic Radio  \\nSymbiotic radio (SR)  is an innovative  techn ique that proposes the rewards  and overcomes  \\nshortcomings  of ambient backscattering communications (AmBC) and cognitive radio (CR). In \\nbuilding 6G as a spectrum and energy  efficient communication system, SR is considered as one of \\nthe promising  approach . In addition, Intelligent Reflecting Surfaces (IRS tool) can further play a role \\nin improving the concert  of the transmission by enhancing  the backscattering link signal (Mingzhe  \\net. al., 2021) . Additional technologies, related to spectrum, in 6G are as follow s:', metadata={'source': 'C:\\\\muskan\\\\IIITA\\\\Deep learning\\\\Chatbot project-Questionpro\\\\A Survey of Machine Learning Algorithms for 6g wirless netwok.pdf', 'page': 10}),\n",
       " Document(page_content='Terahertz : Terahertz (T Hz) is measured  as one of the vital technologies for the 6G  wireless    \\ncommunications . 5G is described  under  100 GHz as the millimeter -wave bands, whereas,  100 GH z-', metadata={'source': 'C:\\\\muskan\\\\IIITA\\\\Deep learning\\\\Chatbot project-Questionpro\\\\A Survey of Machine Learning Algorithms for 6g wirless netwok.pdf', 'page': 10}),\n",
       " Document(page_content='3 THz is considered  as the THz band in 6G . The beyond  90 GHz band is purely  used for scientific \\nservice  which has not been full y discovered . Therefore, it is proposed  to support the increased \\nwireless network capacity . THz also empowers the  ultra-low l atency communication and ultra -high \\nbandwidth paradigms,  which caters the desires  of several  evolving  applications such as, IoT  and \\nautonomous driving . THz is especially adequate for high bit -rate short -range communications since, \\npath loss increases with increase in frequency w hich makes it challenging for l ong-range \\ncommunications .', metadata={'source': 'C:\\\\muskan\\\\IIITA\\\\Deep learning\\\\Chatbot project-Questionpro\\\\A Survey of Machine Learning Algorithms for 6g wirless netwok.pdf', 'page': 11}),\n",
       " Document(page_content='communications . \\n \\nFree Duplex : 6G will eradicate  the difference betwee n Frequency Division Duplex and Time \\nDivision Duplex , and the fr equency sharing will be  grounded  on the necessities , which is known as \\nfree duplex. Hence, the spectrum resource allocati on in 6G will be more effective  and efficient . With \\nthe Free duplex technology, t ransmission rate and throughput in 6G can be increased and \\ntransmission latency  will be reduced  (Zhao et. al., 2021) . \\n \\nIndex Modulation : Index modulation (IM) can progress the transmission rate as it carries  the source \\ninformation bits th rough  the classical amplitude -phase  modulation (APM)  signals . Therefore, it can', metadata={'source': 'C:\\\\muskan\\\\IIITA\\\\Deep learning\\\\Chatbot project-Questionpro\\\\A Survey of Machine Learning Algorithms for 6g wirless netwok.pdf', 'page': 11}),\n",
       " Document(page_content='potentially be used in 6G.  Studies suggest that information bits  can be communicated  throu gh the \\nindex of the antennas in MIMO systems. This technique is known as space shift keying (SSK), and \\nif SSK is combine d with classical linear modulation, it is called as  amplitude -phase  modulation \\n(APM). F or example, space modulation (SM) is proposed based on the same idea  as in SSK. I n SM \\ntechnology, the base information bits are distributed  into two parts: the index of the transmit antennas \\nand the other parts for the APM . Consequently , SM can meaningfully  increase the transmission rate', metadata={'source': 'C:\\\\muskan\\\\IIITA\\\\Deep learning\\\\Chatbot project-Questionpro\\\\A Survey of Machine Learning Algorithms for 6g wirless netwok.pdf', 'page': 11}),\n",
       " Document(page_content='by sending the extra  information bits through the traditional A PM transceiver’s antenna index. On \\none side  of the antennas, further  resource units  can also be indexed to transmit the add itional \\ninformation bits. These resource units  include,  channel state,  sub-carriers, and time slots . Index \\nModulation, along with Orthogonal frequency division multiplexing access (OFDMA), will be the \\nkey technolog y to suggestively  upsurge  the quantity output  for support ing more users to  access the \\n6G network (Zhao et. al., 2020) . \\n \\nOverall, 6G is expected  to be a composite  network where a huge  selection  of smart devices', metadata={'source': 'C:\\\\muskan\\\\IIITA\\\\Deep learning\\\\Chatbot project-Questionpro\\\\A Survey of Machine Learning Algorithms for 6g wirless netwok.pdf', 'page': 11}),\n",
       " Document(page_content='is connected  to the system and are  mandatory  to interconnect  with others anytime, and the  life period  \\nof the battery -charging components  is also vital to fulfill the restraints  of ultra -low power \\nconsumption . To extend  the life  duration  of numerous  devices in the network, simultaneous wireless \\ninformation and power transfer  (SWIPT) technology is anticipated . SWIPT empowers  sensors to be \\ncharged using  wireless power transfer ; thereafter,  battery -free devices can b e maintained  in 6G, \\ndropping  the network’s power consumption considerably . Consequently , perform ance on the  sum', metadata={'source': 'C:\\\\muskan\\\\IIITA\\\\Deep learning\\\\Chatbot project-Questionpro\\\\A Survey of Machine Learning Algorithms for 6g wirless netwok.pdf', 'page': 11}),\n",
       " Document(page_content='rate, throughput, and outage probability for non -orthogonal multiple  access (NOMA) networks with \\nSWIPT are derived . \\n \\n2. Applications  of 6G  \\n \\nIn the case of 6G networks , a varied  series  of AI applications will  develop  into ‘connected \\nintelligence ( Shrestha  et. al., 2019) , later smoothing  every facet  of our day-to-day life. For instance : \\ni. Innovative  AI methods  can be hired  in autonomy  to save manpower  or for  network \\nmanagement . Overall, 6G invigorates  smart  healthcare by providing high-precision medical \\ntreatment , real -time health monitoring , and reliable privacy  protection.', metadata={'source': 'C:\\\\muskan\\\\IIITA\\\\Deep learning\\\\Chatbot project-Questionpro\\\\A Survey of Machine Learning Algorithms for 6g wirless netwok.pdf', 'page': 12}),\n",
       " Document(page_content='ii. With the arrival  of 6G, Industry 4.0 will  be completely  comprehended  as smart \\nmanu facturing and it will achieve high  precision  manufacturing.  \\niii. Intelligent robots coupled  by pervasive  6G network empower  manufacturing structures  to \\ncarry  out multifaceted  and hazardous  tasks devoid of  risking people’s  life.  \\niv. The smart home that furnishes  with smart  IoT devices will deliver  a contented  living \\natmosphere  to people,  and 6G permits  the smart home to confirm  the occupants’  safety .  \\nv. In terms of traffic and transportation, the  sophisticated sensing and planning algorithms can \\nbe deployed  for traffic optimization .', metadata={'source': 'C:\\\\muskan\\\\IIITA\\\\Deep learning\\\\Chatbot project-Questionpro\\\\A Survey of Machine Learning Algorithms for 6g wirless netwok.pdf', 'page': 12}),\n",
       " Document(page_content='vi. Other applications such as , smart  grid and unmanned aerial vehicle will also be  enhanced \\nwith the aid of 6G.    \\n \\nExplainable Artificial Intelligence : An enormous  number of applications such a s, remote surgery \\nand autonomous driving  exist in 6G eon. As  these a pplications are attentively  connected  to humans’ \\nlife, a small error  may invite  miserable  accidents . Hence , it is very essential  to mark an AI \\nexplainable for  building faith between individuals  and machines. Currently, most AI tactics  in MAC  \\nand PYH  layers of 5G wireless networks are incomprehensible . AI applications such as, remot e', metadata={'source': 'C:\\\\muskan\\\\IIITA\\\\Deep learning\\\\Chatbot project-Questionpro\\\\A Survey of Machine Learning Algorithms for 6g wirless netwok.pdf', 'page': 12}),\n",
       " Document(page_content='surgery  and autonomous driving  will be  an extensive  part of 6G, which needs  explaining a bility  to \\nquali fy trust. AI decisions should b e understood by human experts, and must be explainable so as to \\nbe considered  as reliable. Prevailing  approaches , including didactic statements , visualization with \\ncase studies, hypothesis testing can imp rove the  explain ing ability  of DL (Guo, 2019; Abhishek & \\nNeha, 2021) . \\n                                 \\n3. Open Research Avenues  \\n \\n       Finally, we list the various o pen problems of research in regard to ML in 6G  wireless networks', metadata={'source': 'C:\\\\muskan\\\\IIITA\\\\Deep learning\\\\Chatbot project-Questionpro\\\\A Survey of Machine Learning Algorithms for 6g wirless netwok.pdf', 'page': 12}),\n",
       " Document(page_content='a. Implementation of automation requires higher data rates , flexibility , link preservation,  \\nscheduling,  on demand beam forming -deep neural network with reinforcement learning \\nalgorithms need to be analysed for usage and deployment constraints have to be studied.  In such \\ncase,  solution to a challe nge ‘how to use deep reinforcement learning for the auto mation of 6G \\nwireless networ k’ will be an observable one.  \\n \\nb. Ultra -reliable low latency and interference management are  the major r equirements in open data \\naccess . To support the emergin g machine criti cal applications, the transmission time delay of E -', metadata={'source': 'C:\\\\muskan\\\\IIITA\\\\Deep learning\\\\Chatbot project-Questionpro\\\\A Survey of Machine Learning Algorithms for 6g wirless netwok.pdf', 'page': 13}),\n",
       " Document(page_content='to-E (Equipment to Equipment)  is expected to be less than 1ms.  Satisfying low late ncy and high \\nreliability needs with open data access in business oriented mobile network is an open problem \\nin 6G . \\n \\nc. In Application and Platform dependent models a design of device is necessary which can sense \\nthe environment and its history so t hat resources can be allocated dynamically and spectrum \\nselection should also happen dyna mically to avoid the congestion . Hence th e transfer of models \\nto highly resource constrained platforms and designing a method to dynamically select \\napplication and platform based models is a research challenge.', metadata={'source': 'C:\\\\muskan\\\\IIITA\\\\Deep learning\\\\Chatbot project-Questionpro\\\\A Survey of Machine Learning Algorithms for 6g wirless netwok.pdf', 'page': 13}),\n",
       " Document(page_content='d. Implementation of ML algor ithms for enhancing, automati ng and managing the 6G network  \\nperformance is another research challenge.  \\n \\n \\nReferences  \\n \\nAbdualgalil, B., & Abraham, S. (2020). Applications of Machine Learning Algorithms and Performance Comparison: A \\nReview. IEEE 2020 International Conference on Emerging Trends in Information Technology and Engineering (ic -\\nETITE) , 1–6. DOI:10.1109/ic -ETITE47903.2020.490  \\nAbhishek, D., & Neha, G. (2021). A Systematic Review of Techniques, Tools and Applications of Machine Learning. \\nProceedings of the Third International Conference on Intelligent  Communication Technologies and Virtual Mobile', metadata={'source': 'C:\\\\muskan\\\\IIITA\\\\Deep learning\\\\Chatbot project-Questionpro\\\\A Survey of Machine Learning Algorithms for 6g wirless netwok.pdf', 'page': 13}),\n",
       " Document(page_content='Networks (ICICV 2021) . IEEE Xplore Part Number: CFP21ONG -ART; 978 -0-7381 -1183 -4 \\nAli, S., Saad, W., & Rajatheya. (2020). 6G White Paper on Machine Learning in Wireless Communication Networks. \\narXiv:2004.13875v1 . \\nAmanpreet S., Narina,T., & Aksha , S. (2016). A review of supervised machine learning algorithms. 3rd International \\nConference on Computing for Sustainable Global Development (INDIACom) , Corpus ID:27775741  \\nAmruthnath, N., & Gupta, T. (2018). A research s tudy on unsupervised machine learning algorithms for early fault detection \\nin predictive maintenance. 5th International Conference on Industrial Engineering and Applications (ICIEA) . \\nDOI:10.1109/iea.2018.8387124.', metadata={'source': 'C:\\\\muskan\\\\IIITA\\\\Deep learning\\\\Chatbot project-Questionpro\\\\A Survey of Machine Learning Algorithms for 6g wirless netwok.pdf', 'page': 13}),\n",
       " Document(page_content='Chowdhury, S., & Schoen, M. P. (2020), Clas sification using Supervised Machine Learning Techniques, Intermountain \\nEngineering Technology and Computing (IETC) . DOI:10.1109/ietc47856.2020.924921.  \\nDalal R., and Kushal, R. (2018). Review on Application of Machine Learning  Algorithm for Data Science. IEEE 3rd \\nInternational Conference on Inventive Computation Technologies (ICICT) , 270 -273. \\nDOI:10.1109/icict43934.2018.9034256.  \\nDu, J., Jiang, C., WANG, J., Ren, Y., & Debbah, M. (2020). Machine Learning for 6G Wireless Networks: Carry -Forward -\\nEnhanced Bandwi dth, Massive Access, and Ultrareliable/Low Latency. IEEE Vehicular Technology Magazine . \\nDOI:10.1109/mvt.2020.3019650.', metadata={'source': 'C:\\\\muskan\\\\IIITA\\\\Deep learning\\\\Chatbot project-Questionpro\\\\A Survey of Machine Learning Algorithms for 6g wirless netwok.pdf', 'page': 14}),\n",
       " Document(page_content='Guo, W. (2019). Explainable artificial intelligence (XAI) for 6G: Improving trust between human and machine. arXiv preprint \\narXiv:1911.045 42. \\nHewa, T., Gurkan, G., Kalla, A., & Ylianttila. (2020). The Role of Blockchain in 6G: Challenges, Opportunities and Research \\nDirections, 2nd 6G wireless Summit (6G SUMMIT) , DOI: 10.1109/6GSUMMIT49458.2020.9083784.  \\nHong, X., Jing, W., & Jianghong, S. (20 14). Cognitive radio in 5G: a perspective on energy -spectral efficiency trade –off. \\nIEEE communications Magazine . DOI: 10.1109/MCOM.2014.6852082.  \\nIqbal H. S. (2021). Machine Learning: Algorithms, Real World Applications and Research Directions. SN Computer Science ,', metadata={'source': 'C:\\\\muskan\\\\IIITA\\\\Deep learning\\\\Chatbot project-Questionpro\\\\A Survey of Machine Learning Algorithms for 6g wirless netwok.pdf', 'page': 14}),\n",
       " Document(page_content='2:160 Available on https://doi.org/10.1007/s42979 -021-00592 -x \\nKien, T., Long Ton, T., & Nguyen, G.M.T. (2020). Plant Leaf Disease Identification by Deep Convolutional Autoencoder as \\na Feat ure Extraction Approach. Proceedings of The IEEE 17th International Conference on Electrical Engineering / \\nElectronics, Computer, Telecommunications and Information Technology (ECTI -CON ), paper ID: #1570639150, \\nThailand, Available on https://ieeexplore.ieee.org/document/9158218/  \\nLi, T., Sahu, A. K., Talwalkar, A., & Smith, V. (2020). Federated Learning: Challenges, Methods, and Future Directions. \\nIEEE Signal Processing Magazine , 37(3), 50 –60. DOI :10.1109/msp.2020.2975749.', metadata={'source': 'C:\\\\muskan\\\\IIITA\\\\Deep learning\\\\Chatbot project-Questionpro\\\\A Survey of Machine Learning Algorithms for 6g wirless netwok.pdf', 'page': 14}),\n",
       " Document(page_content='Marmol, C., Pablo, F.S., Aurora, G.V., Jose, L., Hernandez, R., Jorge, B., Gianmarco B., & Antonio, S. (2021). Evaluating \\nFederated Learning for Intrusion Detection in Internet of Things: Review and Challenges Enrique. arXiv:2108 .00974v1.  \\nMingzhe, C., Deniz, G., Kaibin, H., Walid, S., & Mehdi, B.(2021). Distributed Learning in Wireless Networks: Recent \\nProgress and Future Challenges. IEEE Journal on Selected Areas in Communications , 39(12): 3579 – 3605. DOI: \\n10.1109/JSAC.2021.3118346.  \\nMollah, M.B., Zeadally, S., & Azad, M.A.K. (2019). Emerging wireless technologies for Internet of Things applications:', metadata={'source': 'C:\\\\muskan\\\\IIITA\\\\Deep learning\\\\Chatbot project-Questionpro\\\\A Survey of Machine Learning Algorithms for 6g wirless netwok.pdf', 'page': 14}),\n",
       " Document(page_content='Opportunities and challenges, Encyclopaedia of Wireless Networks. Springer International Publishing Cham , pp. 1–11. \\nSalh, A., Audah, L., & Shah, NSM. (2020). A Survey on Deep Learning for Ultra -Reliable and Low -Latency Communications \\nChallenges on 6G Wireless Systems. Proceedings of Future of Information and Communication Conference (FICC) \\n2021 , arXiv: 2004.08549v 3. \\nSheena, A. & Sachin, A. (2017). Machine learning and its applications: A review. International Conference on Big Data \\nAnalytics and Computational Intelligence (ICBDAC) . DOI: 10.1109/ICBDACI.2017.8070809', metadata={'source': 'C:\\\\muskan\\\\IIITA\\\\Deep learning\\\\Chatbot project-Questionpro\\\\A Survey of Machine Learning Algorithms for 6g wirless netwok.pdf', 'page': 14}),\n",
       " Document(page_content='Shrestha, A., & Mahmood, A., (2019). Review of Dee p Learning Algorithms and Architectures. IEEE Access , 7, 53040 –\\n53065. DOI:10.1109/ACCESS.2019.2912200.  \\nSyed, J.N., Shree, K.S., Shurjeel, W., Mohammad, N., & Md. Asaduzz, A. (2019). Quantum Machine Learning for 6G \\nCommunication Networks: State -of-the-Art and Vision for the Future. IEEE Access , 7: 46317 -46350.  \\nVasileios, P.R., Sotirios, S., Panagiotis, S., Shaohua , W., George, K. K., & Sotirios K.G.(2021). Machine Learning in Beyond \\n5G/6G Networks —State -of-the-Art and Future Trends. Electronics , 10, 2786.Av ailable on https://doi.org/10.3390/ \\nelectronics10222786.', metadata={'source': 'C:\\\\muskan\\\\IIITA\\\\Deep learning\\\\Chatbot project-Questionpro\\\\A Survey of Machine Learning Algorithms for 6g wirless netwok.pdf', 'page': 14}),\n",
       " Document(page_content='Yogesh, K., Komalpreet K., & Gurpreet, S. (2020). Machine Learning Aspects and its Applications Towards Different \\nResearch Areas. IEEE International Conference on Computation, Automation and Knowledg e Management (ICCAKM) . \\nDOI: 10.1109/ICCAKM46823.2020.9051502  \\nZhao, Y., Zhai, W., Zhao, J., Zhang, T., Sun, S., Niyato, D., & Yan Lam, K. (2020). A Survey of 6G Wireless \\nCommunications: Emerging Technologies. arXiv:2004.08549v3.  \\nZhao, Y., Zhai, W., Zhao, J. , Zhang, T., Sun, S., Niyato, D., & Yan Lam, K. (2021). A Comprehensive Survey of 6G Wireless \\nCommunications. arXiv:2101.03889v2.', metadata={'source': 'C:\\\\muskan\\\\IIITA\\\\Deep learning\\\\Chatbot project-Questionpro\\\\A Survey of Machine Learning Algorithms for 6g wirless netwok.pdf', 'page': 15})]"
      ]
     },
     "execution_count": 25,
     "metadata": {},
     "output_type": "execute_result"
    }
   ],
   "source": [
    "chunks"
   ]
  },
  {
   "cell_type": "code",
   "execution_count": 26,
   "metadata": {},
   "outputs": [
    {
     "name": "stdout",
     "output_type": "stream",
     "text": [
      "71\n"
     ]
    }
   ],
   "source": [
    "embeddings = {\"id\":[],\"embed\":[]}\n",
    "for i in range(len(chunks)):\n",
    "    chunk_embedding=model.encode(chunks[i].page_content).tolist()\n",
    "    if len(chunk_embedding)!=0:\n",
    "        embeddings['id'].append(i)\n",
    "        embeddings['embed'].append(list(chunk_embedding))\n",
    "print(len(embeddings['id']))"
   ]
  },
  {
   "cell_type": "code",
   "execution_count": 37,
   "metadata": {},
   "outputs": [
    {
     "name": "stdout",
     "output_type": "stream",
     "text": [
      "[0, 1, 2, 3, 4, 5, 6, 7, 8, 9, 10, 11, 12, 13, 14, 15, 16, 17, 18, 19, 20, 21, 22, 23, 24, 25, 26, 27, 28, 29, 30, 31, 32, 33, 34, 35, 36, 37, 38, 39, 40, 41, 42, 43, 44, 45, 46, 47, 48, 49, 50, 51, 52, 53, 54, 55, 56, 57, 58, 59, 60, 61, 62, 63, 64, 65, 66, 67, 68, 69, 70]\n"
     ]
    }
   ],
   "source": [
    "print(embeddings[\"id\"])"
   ]
  },
  {
   "cell_type": "code",
   "execution_count": null,
   "metadata": {},
   "outputs": [
    {
     "ename": "",
     "evalue": "",
     "output_type": "error",
     "traceback": [
      "\u001b[1;31mFailed to start the Kernel. \n",
      "\u001b[1;31mAttributeError: module 'logging' has no attribute 'getLogger'. \n",
      "\u001b[1;31mView Jupyter <a href='command:jupyter.viewOutput'>log</a> for further details."
     ]
    }
   ],
   "source": [
    "import pinecone\n",
    "import os\n",
    "from pinecone import Pinecone as pc\n",
    "\n",
    "\n",
    "p = pc(    api_key=\"3399662c-37e6-43fa-8f62-706d2ba6050f\")\n",
    "index=p.Index(\"chatbot\")\n",
    "\n",
    "# index = Pinecone.from_documents(chunks, embeddings, index_name=\"chatbot-ai\")\n",
    "index.describe_index_stats()"
   ]
  },
  {
   "cell_type": "code",
   "execution_count": null,
   "metadata": {},
   "outputs": [
    {
     "data": {
      "text/plain": [
       "{'dimension': 384,\n",
       " 'index_fullness': 0.00071,\n",
       " 'namespaces': {'data_ml': {'vector_count': 71}},\n",
       " 'total_vector_count': 71}"
      ]
     },
     "metadata": {},
     "output_type": "display_data"
    }
   ],
   "source": [
    "for i in range(len(chunks)):\n",
    "    # print(i)\n",
    "    index.upsert(vectors=[{\n",
    "        \"id\": str(embeddings[\"id\"][i]),\n",
    "        \"values\": embeddings[\"embed\"][i]\n",
    "        }],\n",
    "        namespace=\"data_ml\")\n",
    "index.describe_index_stats()"
   ]
  },
  {
   "cell_type": "code",
   "execution_count": null,
   "metadata": {},
   "outputs": [
    {
     "data": {
      "text/plain": [
       "{'matches': [{'id': '10', 'score': 0.652693093, 'values': []},\n",
       "             {'id': '14', 'score': 0.600086331, 'values': []},\n",
       "             {'id': '6', 'score': 0.515233874, 'values': []}],\n",
       " 'namespace': 'data_ml',\n",
       " 'usage': {'read_units': 5}}"
      ]
     },
     "execution_count": 44,
     "metadata": {},
     "output_type": "execute_result"
    }
   ],
   "source": [
    "question=\"For what all tasks, ML algorithms are useful?\"\n",
    "query_embedding = model.encode(question).tolist()\n",
    "# query_embedding=list(map(float, query_embedding))\n",
    "xc = index.query(vector=query_embedding, top_k=3,namespace='data_ml')\n",
    "xc\n"
   ]
  },
  {
   "cell_type": "code",
   "execution_count": null,
   "metadata": {},
   "outputs": [
    {
     "name": "stdout",
     "output_type": "stream",
     "text": [
      "page_content='communication.  ML is a component of AI although it endeavors to solve the problems based on \\nhistorical or previous examples. Unlike AI applications, ML involves learning of hidden patterns \\nwithin the data (data mining) and subsequently using the patterns to classify or pre dict an event \\nrelated to the problem . Simply  put, intelligent machines depend on the knowledge to sustain their \\nfunctionalities and  ML offers the same . In essence, ML algorit hms are embedded into machines and \\ndata streams provided so that knowledge and information are extracted and fed into the system for \\nfaster and ef ficient management of processes (Ali et. al., 2020) .' metadata={'source': 'C:\\\\muskan\\\\IIITA\\\\Deep learning\\\\Chatbot project-Questionpro\\\\A Survey of Machine Learning Algorithms for 6g wirless netwok.pdf', 'page': 2}\n",
      "page_content='as, data security, optimization, power -efficiency , cost-efficiency, etc. Following are the ML \\nalgorithms which h elp in addressing all the afore mentioned issues.  \\ni. Supervised Learning  \\nii. Unsupervised learning  \\niii. Reinforced Learning  \\niv. Federated Learning  \\nv. Kernel Hilbert Space  \\nvi. Block Chain Technology  \\nvii. Cognitive Radio  \\nviii. Symbiotic Radio . \\nix. THz Technology  \\nx. Free Duplex  \\nxi. Index Modulation  \\n \\n1. Supervised Learning and Unsupervised Learning Algorithms  \\nThe ML algorithms can be mainly classified as supervised or unsupervised . These two \\nclasses mainly differ in the labels of training data sets.  In supervised ML output and input attributes' metadata={'source': 'C:\\\\muskan\\\\IIITA\\\\Deep learning\\\\Chatbot project-Questionpro\\\\A Survey of Machine Learning Algorithms for 6g wirless netwok.pdf', 'page': 3}\n",
      "page_content='techniques provide the replace ment of heuristic or Brute Force Algorithms for optimizing localized \\ntasks and can also present adequate solutions that the existing mathematical model are unable to \\nobtain. Currently, the ML algorithms are being deployed and trained statically at differen t \\nmanagement layers, core, radio base stations, and mobile devices. The dynamic deployment is \\nenvisioned to yield enhanced performance and utilization.  \\nIn general, the ML algorithms help in tasks such as, classification, regression, the interaction \\nof an intelligent agent with the wireless environment  (Syed  et. al. 2019) . In such operations, ML' metadata={'source': 'C:\\\\muskan\\\\IIITA\\\\Deep learning\\\\Chatbot project-Questionpro\\\\A Survey of Machine Learning Algorithms for 6g wirless netwok.pdf', 'page': 1}\n"
     ]
    }
   ],
   "source": [
    "for i in xc['matches']:\n",
    "    if i['score']<0.3:\n",
    "        print(\"I don't know the answer\")\n",
    "        break\n",
    "    else:\n",
    "        doc_id=i['id']\n",
    "        print(chunks[int(doc_id)])\n",
    "##ALL three contain relevant answers"
   ]
  },
  {
   "cell_type": "code",
   "execution_count": null,
   "metadata": {},
   "outputs": [
    {
     "data": {
      "text/plain": [
       "{'matches': [{'id': '7', 'score': 0.617339313, 'values': []},\n",
       "             {'id': '30', 'score': 0.599694, 'values': []},\n",
       "             {'id': '67', 'score': 0.533954561, 'values': []}],\n",
       " 'namespace': 'data_ml',\n",
       " 'usage': {'read_units': 5}}"
      ]
     },
     "execution_count": 46,
     "metadata": {},
     "output_type": "execute_result"
    }
   ],
   "source": [
    "question=\"How federated learning is better than machine learning?\"\n",
    "query_embedding = model.encode(question).tolist()\n",
    "# query_embedding=list(map(float, query_embedding))\n",
    "xc = index.query(vector=query_embedding, top_k=3, namespace='data_ml')\n",
    "xc"
   ]
  },
  {
   "cell_type": "code",
   "execution_count": null,
   "metadata": {},
   "outputs": [
    {
     "name": "stdout",
     "output_type": "stream",
     "text": [
      "page_content='algorithms work in three different versions viz., supervised learning, unsupervised learning, and \\nreinforcement learning. Few ML models such as, non -parametric Baye sian methods (Gaussian \\napproach), are promising, especially in handling small, incrementally growing data sets; however, \\nthey have increased complexity compared to the parametric methods. Further, the Kernel Hilbert \\nSpace -based solutions have shown encoura ging results in generating improved data rate, which is \\n10-100 times higher in comparison to the ones shown in the 5G wireless networks, simultaneously \\nbeing computationally simple and scalable with lower approximation error. Federated Learning (FL)' metadata={'source': 'C:\\\\muskan\\\\IIITA\\\\Deep learning\\\\Chatbot project-Questionpro\\\\A Survey of Machine Learning Algorithms for 6g wirless netwok.pdf', 'page': 1}\n",
      "page_content='8. Safe Reinforcement Learning  \\nSafe R L is the process of learning policies that maximize the expectation of the return in \\nproblems wherein , it is important to ensure reasonable system performance,  safety constraints during \\nlearning and deployment processes.  \\n \\n9. Federated Learning:  \\nFederated learning (FL) is helpful is cases when  it is difficult to assign the ML m odels to \\neach mobile device and d ata center  because in traditional centralized ML algorithms , it is required \\nfor each mobile device to transmit its collected data to the data center for training purpose.  It is \\nimpractical for wireless mobile devices to transmit their local data for tra ining ML models due to' metadata={'source': 'C:\\\\muskan\\\\IIITA\\\\Deep learning\\\\Chatbot project-Questionpro\\\\A Survey of Machine Learning Algorithms for 6g wirless netwok.pdf', 'page': 7}\n",
      "page_content='Marmol, C., Pablo, F.S., Aurora, G.V., Jose, L., Hernandez, R., Jorge, B., Gianmarco B., & Antonio, S. (2021). Evaluating \\nFederated Learning for Intrusion Detection in Internet of Things: Review and Challenges Enrique. arXiv:2108 .00974v1.  \\nMingzhe, C., Deniz, G., Kaibin, H., Walid, S., & Mehdi, B.(2021). Distributed Learning in Wireless Networks: Recent \\nProgress and Future Challenges. IEEE Journal on Selected Areas in Communications , 39(12): 3579 – 3605. DOI: \\n10.1109/JSAC.2021.3118346.  \\nMollah, M.B., Zeadally, S., & Azad, M.A.K. (2019). Emerging wireless technologies for Internet of Things applications:' metadata={'source': 'C:\\\\muskan\\\\IIITA\\\\Deep learning\\\\Chatbot project-Questionpro\\\\A Survey of Machine Learning Algorithms for 6g wirless netwok.pdf', 'page': 14}\n"
     ]
    }
   ],
   "source": [
    "for i in xc['matches']:\n",
    "    doc_id=i['id']\n",
    "    print(chunks[int(doc_id)])\n",
    "##Second one contains the exact answer."
   ]
  }
 ],
 "metadata": {
  "kernelspec": {
   "display_name": "Python 3",
   "language": "python",
   "name": "python3"
  },
  "language_info": {
   "codemirror_mode": {
    "name": "ipython",
    "version": 3
   },
   "file_extension": ".py",
   "mimetype": "text/x-python",
   "name": "python",
   "nbconvert_exporter": "python",
   "pygments_lexer": "ipython3",
   "version": "3.11.5"
  }
 },
 "nbformat": 4,
 "nbformat_minor": 2
}
