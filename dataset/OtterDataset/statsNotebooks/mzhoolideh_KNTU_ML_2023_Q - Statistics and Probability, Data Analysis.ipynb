{
 "cells": [
  {
   "attachments": {},
   "cell_type": "markdown",
   "metadata": {},
   "source": [
    "# Q1: Omid Riazi"
   ]
  },
  {
   "cell_type": "markdown",
   "metadata": {},
   "source": [
    "Omid Riazi, one of the Physics graduates of K. N. Toosi University of Technology opened a mobile phone shop after he realized that he could not earn money from Physics 😔. On the first day the shop opens, there are no mobile phones in the shop. Then, every hour, a customer visits the shop. If up to this moment, up to ``i`` mobiles are available in the shop, the new customer will buy a mobile from the shop with probability ``L[i]``, and sell a mobile to the shopkeeper with probability ``1-L[i]``.\n",
    "\n",
    "But buying and selling mobile phones to the shop has conditions. If a customer wants to buy a mobile phone but there is no mobile phone in the store, the customer leaves the store without paying or buying a mobile phone. Also, the shop has a capacity and cannot hold more than ``n`` mobile phones. So if there are ``n`` mobile phones in the shop and the customer wants to sell his mobile phone, the shopkeeper will not accept the mobile phone and the customer will leave the shop.\n",
    "\n",
    "The shopkeeper, who has not remembered anything about statistics and probability after years, asks for your help to solve this question. He wants to know, after ``m`` hours, what is the expectation value of the number of mobile phones in the shop?\n",
    "\n",
    "To solve this exercise, you must implement the ``solve`` function."
   ]
  },
  {
   "cell_type": "markdown",
   "metadata": {},
   "source": [
    "## Notes\n",
    "\n",
    "- You must implement this program from scratch using probability concepts.\n",
    "\n",
    "- To solve this exercise, you can only use libraries that are imported in the function. Do not use another library in any way and do not change the name of the libraries."
   ]
  },
  {
   "cell_type": "markdown",
   "metadata": {},
   "source": [
    "## Input"
   ]
  },
  {
   "cell_type": "markdown",
   "metadata": {},
   "source": [
    "The function you implement has three inputs:\n",
    "- Variable ``n`` that shows the capacity of the shop.\n",
    "- Variable ``m`` that represents the number of hours.\n",
    "- Array ``L`` representing the probabilities described in the question."
   ]
  },
  {
   "cell_type": "markdown",
   "metadata": {},
   "source": [
    "## Output"
   ]
  },
  {
   "cell_type": "markdown",
   "metadata": {},
   "source": [
    "Your output will be a decimal number representing the expected value. Pay attention that the difference between your answer and the real answer should be less than $5 \\times 10^{-2}$."
   ]
  },
  {
   "cell_type": "code",
   "execution_count": null,
   "metadata": {},
   "outputs": [],
   "source": [
    "def solve(n, m, L):\n",
    "    import numpy as np\n",
    "\n",
    "    # Do it\n",
    "    \n",
    "    return result"
   ]
  },
  {
   "cell_type": "code",
   "execution_count": null,
   "metadata": {},
   "outputs": [],
   "source": [
    "# Here are some examples of how your outputs should look like\n",
    "# solve(4, 1, [1.0, 1.0, 1.0, 1.0, 1.0]) = 0\n",
    "# solve(4, 1000, [0.0, 0.25, 0.5, 0.75, 1.0]) = 2.00"
   ]
  },
  {
   "cell_type": "markdown",
   "metadata": {},
   "source": [
    "# Q2: Captain Tsubasa"
   ]
  },
  {
   "cell_type": "markdown",
   "metadata": {},
   "source": [
    "Suppose that on the way to the World Cup, Captain Tsubasa has decided to use data analysis to improve the technical level of his team, and for this purpose you have been recruited as the team's data scientist!!\n",
    "\n",
    "In your first week on the job, you ask a number of interns to watch all the league games from the previous season and manually record information about each game. The work output has been delivered to you in ``csv`` format. You can download the data file from this <a href=\"https://github.com/mzhoolideh/KNTU_ML_2023/blob/main/data/ps3data.csv\">link</a>.\n",
    "\n",
    "Each row of ``ps3data.csv`` data is a shoot event and its specifications, according to the following table:\n",
    "| Column | Description |\n",
    "| :- | :- |\n",
    "| ``matchId`` | Match ID |\n",
    "| ``playerId`` | Shooter Player ID |\n",
    "| ``playType`` | The position of the game in which the shot was taken (``during the match``, ``penalty``, ``direct free kick``, ``direct from the corner``) |\n",
    "| ``bodyPart`` | The part of the body that was shoot with. (``left foot``, ``right foot``, ``head``, ``other``)|\n",
    "| ``x`` | Shooting position on the ground in meters (x coordinates) |\n",
    "| ``y`` | Shooting position on the ground in meters (y coordinates) |\n",
    "| ``interveningOpponents`` | The number of opposing players who blocked the shooter's view of the goal at the moment of shooting |\n",
    "| ``interveningTeammates`` | The number of teammates who blocked the shooter's view of the goal at the moment of the shooting |\n",
    "| ``interferenceOnShooter`` | The level of direct conflict of the defending team with the shooter (``low`` - no player from the opposing team is within $1$ meter of the shooter, ``medium`` - one opponent player is within $1$ meter of the shooter, ``high`` - more than one opponent player is within $1$ meter of the shooter)\n",
    "| ``minute`` | shooting minute |\n",
    "| ``second`` | shooting second |\n",
    "| ``outcome`` |\tThe result of the shoot (``kick to the defense``, ``missed opportunity``, ``kick to the crossbar``, ``goalkeeper save``, ``goal``, ``own goal``) |\n",
    "\n",
    "The origin of coordinates $(0, 0)$ is the center of the goal under the shoot, and the coordinates (``x``, ``y``), length (``x``) and width (``y``) determines the place of the shot to the origin in meters, for example, the position of the penalty is in coordinates $(11, 0)$.\n",
    "\n",
    "<img src=https://upload.wikimedia.org/wikipedia/commons/thumb/c/cf/Football_pitch_metric.svg/800px-Football_pitch_metric.svg.png>\n",
    "\n",
    "Now we ask you to answer the following questions using the data provided to you. Note that at this stage, the own goal is **not considered** as a shooter's goal."
   ]
  },
  {
   "cell_type": "markdown",
   "metadata": {},
   "source": [
    "1. How many players are there in the dataset?"
   ]
  },
  {
   "cell_type": "code",
   "execution_count": null,
   "metadata": {},
   "outputs": [],
   "source": [
    "# Do it."
   ]
  },
  {
   "cell_type": "markdown",
   "metadata": {},
   "source": [
    "2. Which player scored the most goals?"
   ]
  },
  {
   "cell_type": "code",
   "execution_count": null,
   "metadata": {},
   "outputs": [],
   "source": [
    "# Do it."
   ]
  },
  {
   "cell_type": "markdown",
   "metadata": {},
   "source": [
    "3. Which players had the highest and lowest conversion rate of shoots into goals, respectively?"
   ]
  },
  {
   "cell_type": "code",
   "execution_count": null,
   "metadata": {},
   "outputs": [],
   "source": [
    "# Do it."
   ]
  },
  {
   "cell_type": "markdown",
   "metadata": {},
   "source": [
    "4. What was the Euclidean distance of the farthest shoot to the center of the goal? (Integer part only)"
   ]
  },
  {
   "cell_type": "code",
   "execution_count": null,
   "metadata": {},
   "outputs": [],
   "source": [
    "# Do it."
   ]
  },
  {
   "cell_type": "markdown",
   "metadata": {},
   "source": [
    "Good luck 😉"
   ]
  }
 ],
 "metadata": {
  "kernelspec": {
   "display_name": "qenv",
   "language": "python",
   "name": "python3"
  },
  "language_info": {
   "codemirror_mode": {
    "name": "ipython",
    "version": 3
   },
   "file_extension": ".py",
   "mimetype": "text/x-python",
   "name": "python",
   "nbconvert_exporter": "python",
   "pygments_lexer": "ipython3",
   "version": "3.9.13"
  },
  "orig_nbformat": 4
 },
 "nbformat": 4,
 "nbformat_minor": 2
}
