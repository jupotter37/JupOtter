{
 "cells": [
  {
   "cell_type": "code",
   "execution_count": 1,
   "id": "03ba05d3",
   "metadata": {},
   "outputs": [],
   "source": [
    "import numpy as np"
   ]
  },
  {
   "cell_type": "code",
   "execution_count": 2,
   "id": "cdb88603",
   "metadata": {},
   "outputs": [
    {
     "name": "stdout",
     "output_type": "stream",
     "text": [
      "[1 2 3]\n"
     ]
    }
   ],
   "source": [
    "a=np.array([1,2,3], dtype=\"int32\")\n",
    "print(a)"
   ]
  },
  {
   "cell_type": "code",
   "execution_count": 3,
   "id": "c2eb2b49",
   "metadata": {},
   "outputs": [
    {
     "name": "stdout",
     "output_type": "stream",
     "text": [
      "[[1 2 3]\n",
      " [4 5 6]]\n"
     ]
    }
   ],
   "source": [
    "b=np.array([[1,2,3],[4,5,6]])\n",
    "print(b)"
   ]
  },
  {
   "cell_type": "code",
   "execution_count": 4,
   "id": "d6eb6b91",
   "metadata": {},
   "outputs": [
    {
     "data": {
      "text/plain": [
       "2"
      ]
     },
     "execution_count": 4,
     "metadata": {},
     "output_type": "execute_result"
    }
   ],
   "source": [
    "#number of dimention\n",
    "b.ndim"
   ]
  },
  {
   "cell_type": "code",
   "execution_count": 5,
   "id": "e4aac5e6",
   "metadata": {},
   "outputs": [
    {
     "data": {
      "text/plain": [
       "dtype('int32')"
      ]
     },
     "execution_count": 5,
     "metadata": {},
     "output_type": "execute_result"
    }
   ],
   "source": [
    "#data type of array\n",
    "a.dtype"
   ]
  },
  {
   "cell_type": "code",
   "execution_count": 6,
   "id": "277e5941",
   "metadata": {},
   "outputs": [
    {
     "data": {
      "text/plain": [
       "(2, 3)"
      ]
     },
     "execution_count": 6,
     "metadata": {},
     "output_type": "execute_result"
    }
   ],
   "source": [
    "b.shape"
   ]
  },
  {
   "cell_type": "code",
   "execution_count": 7,
   "id": "db1cd15a",
   "metadata": {},
   "outputs": [
    {
     "data": {
      "text/plain": [
       "(3,)"
      ]
     },
     "execution_count": 7,
     "metadata": {},
     "output_type": "execute_result"
    }
   ],
   "source": [
    "a.shape"
   ]
  },
  {
   "cell_type": "markdown",
   "id": "ffed3a6c",
   "metadata": {},
   "source": [
    "in numpy array , all element must be in the same data type\n",
    "and it use :\n",
    "1. ***Automatic Type Conversion***\n",
    "2. ***Type Conversion and Upcasting***\n",
    "3. ***Changing Data Types***\n"
   ]
  },
  {
   "cell_type": "code",
   "execution_count": 8,
   "id": "fed11a2c",
   "metadata": {},
   "outputs": [
    {
     "name": "stdout",
     "output_type": "stream",
     "text": [
      "['1' '2.5' 'True' 'omar']\n",
      "<U32\n"
     ]
    }
   ],
   "source": [
    "arr_upcast = np.array([1, 2.5, True,\"omar\"])\n",
    "print(arr_upcast)\n",
    "print(arr_upcast.dtype)  # Output: float64 (since float64 is higher in the hierarchy than int or bool)\n"
   ]
  },
  {
   "cell_type": "code",
   "execution_count": 13,
   "id": "bc064e96",
   "metadata": {},
   "outputs": [
    {
     "name": "stdout",
     "output_type": "stream",
     "text": [
      "[1 2 3]\n",
      "int32\n"
     ]
    }
   ],
   "source": [
    "arr = np.array([1.5, 2.7, 3.9])\n",
    "arr_int = arr.astype(np.int32)\n",
    "print(arr_int)\n",
    "print(arr_int.dtype)  # Output: int32 (elements are converted to integers, truncating the decimal part)\n"
   ]
  },
  {
   "cell_type": "code",
   "execution_count": 14,
   "id": "cf1955e5",
   "metadata": {},
   "outputs": [
    {
     "data": {
      "text/plain": [
       "12"
      ]
     },
     "execution_count": 14,
     "metadata": {},
     "output_type": "execute_result"
    }
   ],
   "source": [
    "a.itemsize #size of item in bytes \n",
    "a.nbytes #size of the entire array "
   ]
  },
  {
   "cell_type": "code",
   "execution_count": 15,
   "id": "7024a991",
   "metadata": {},
   "outputs": [],
   "source": [
    "a=np.array(([1,2,3,4,5,6,7],[11,44,87,86,87,97,6]))"
   ]
  },
  {
   "cell_type": "code",
   "execution_count": 16,
   "id": "3f6e07af",
   "metadata": {},
   "outputs": [
    {
     "data": {
      "text/plain": [
       "87"
      ]
     },
     "execution_count": 16,
     "metadata": {},
     "output_type": "execute_result"
    }
   ],
   "source": [
    "#a[r,c]\n",
    "a[-1,2]"
   ]
  },
  {
   "cell_type": "markdown",
   "id": "955fb028",
   "metadata": {},
   "source": [
    "***NumPy (short for Numerical Python)*** is a fundamental package for scientific computing in Python. It provides support for large, multi-dimensional arrays and matrices, along with a collection of mathematical functions to operate on these arrays efficiently. NumPy is widely used in various fields, including data science, machine learning, engineering, and scientific research, due to its powerful capabilities and performance.\n",
    "\n",
    "Key Features of NumPy:\n",
    "1. Multi-dimensional Arrays: NumPy introduces the ndarray object, which is a versatile and efficient container for homogeneous data. It supports arrays of arbitrary dimensions, allowing for the representation of matrices, tensors, and higher-dimensional data structures.\n",
    "\n",
    "2. Vectorized Operations: NumPy allows for element-wise operations on arrays without the need for explicit loops. This vectorization leads to concise, readable code and significant performance improvements.\n",
    "\n",
    "3. Broadcasting: This feature allows NumPy to perform operations on arrays of different shapes in a flexible way. Smaller arrays are \"broadcast\" to larger arrays so that they have compatible shapes for arithmetic operations.\n",
    "\n",
    "4. Mathematical Functions: NumPy provides a wide range of mathematical functions, including trigonometric, statistical, algebraic, and random number generation functions, making it a powerful tool for numerical computation.\n",
    "\n",
    "5. Integration with Other Libraries: NumPy arrays are the foundation for many other scientific computing libraries in Python, such as SciPy, pandas, Matplotlib, and TensorFlow. This makes it a central component of the scientific Python ecosystem.\n",
    "\n",
    "6. Efficient Memory Usage: NumPy arrays are stored in contiguous blocks of memory, which allows for efficient memory access and manipulation. This is a significant advantage over Python lists, especially for large datasets."
   ]
  },
  {
   "cell_type": "code",
   "execution_count": 17,
   "id": "e6ad4e74",
   "metadata": {},
   "outputs": [],
   "source": [
    "zeros = np.zeros((2, 3))  # 2x3 array filled with zeros\n",
    "ones = np.ones((3, 3))    # 3x3 array filled with ones\n",
    "identity = np.eye(4)      # 4x4 identity matrix"
   ]
  },
  {
   "cell_type": "code",
   "execution_count": 18,
   "id": "fb3aa668",
   "metadata": {},
   "outputs": [],
   "source": [
    "zeros2=np.eye(11)"
   ]
  },
  {
   "cell_type": "code",
   "execution_count": 19,
   "id": "3f0eef51",
   "metadata": {},
   "outputs": [
    {
     "data": {
      "text/plain": [
       "array([[1., 0., 0., 0., 0., 0., 0., 0., 0., 0., 0.],\n",
       "       [0., 1., 0., 0., 0., 0., 0., 0., 0., 0., 0.],\n",
       "       [0., 0., 1., 0., 0., 0., 0., 0., 0., 0., 0.],\n",
       "       [0., 0., 0., 1., 0., 0., 0., 0., 0., 0., 0.],\n",
       "       [0., 0., 0., 0., 1., 0., 0., 0., 0., 0., 0.],\n",
       "       [0., 0., 0., 0., 0., 1., 0., 0., 0., 0., 0.],\n",
       "       [0., 0., 0., 0., 0., 0., 1., 0., 0., 0., 0.],\n",
       "       [0., 0., 0., 0., 0., 0., 0., 1., 0., 0., 0.],\n",
       "       [0., 0., 0., 0., 0., 0., 0., 0., 1., 0., 0.],\n",
       "       [0., 0., 0., 0., 0., 0., 0., 0., 0., 1., 0.],\n",
       "       [0., 0., 0., 0., 0., 0., 0., 0., 0., 0., 1.]])"
      ]
     },
     "execution_count": 19,
     "metadata": {},
     "output_type": "execute_result"
    }
   ],
   "source": [
    "zeros2"
   ]
  },
  {
   "cell_type": "code",
   "execution_count": 20,
   "id": "a347e057",
   "metadata": {},
   "outputs": [
    {
     "name": "stdout",
     "output_type": "stream",
     "text": [
      "[3 4 5 6]\n",
      "[ 3  6  9 12]\n",
      "[[19 22]\n",
      " [43 50]]\n",
      "3.0\n",
      "1.4142135623730951\n",
      "15\n"
     ]
    }
   ],
   "source": [
    "# Element-wise operations\n",
    "arr = np.array([1, 2, 3, 4])\n",
    "print(arr + 2)        # Output: [3 4 5 6]\n",
    "print(arr * 3)        # Output: [ 3  6  9 12]\n",
    "\n",
    "# Matrix multiplication\n",
    "A = np.array([[1, 2], [3, 4]])\n",
    "B = np.array([[5, 6], [7, 8]])\n",
    "C = np.dot(A, B)\n",
    "print(C)\n",
    "\n",
    "\n",
    "# Statistical operations\n",
    "data = np.array([1, 2, 3, 4, 5])\n",
    "print(np.mean(data))  # Output: 3.0\n",
    "print(np.std(data))   # Output: 1.4142135623730951\n",
    "print(np.sum(data))   # Output: 15\n"
   ]
  },
  {
   "cell_type": "code",
   "execution_count": 21,
   "id": "f7b8c27d",
   "metadata": {},
   "outputs": [
    {
     "name": "stdout",
     "output_type": "stream",
     "text": [
      "[[[ 1  2  3  4]\n",
      "  [ 5  6  7  8]\n",
      "  [ 9 10 11 12]]\n",
      "\n",
      " [[13 14 15 16]\n",
      "  [17 18 19 20]\n",
      "  [21 22 23 24]]]\n"
     ]
    }
   ],
   "source": [
    "import numpy as np\n",
    "\n",
    "# Create a 3D array with shape (2, 3, 4)\n",
    "# This means 2 matrices, each with 3 rows and 4 columns\n",
    "array_3d = np.array([\n",
    "    [[1, 2, 3, 4], \n",
    "     [5, 6, 7, 8], \n",
    "     [9, 10, 11, 12]],\n",
    "\n",
    "    [[13, 14, 15, 16], \n",
    "     [17, 18, 19, 20], \n",
    "     [21, 22, 23, 24]]\n",
    "])\n",
    "\n",
    "print(array_3d)"
   ]
  },
  {
   "cell_type": "code",
   "execution_count": 22,
   "id": "edf6ea4f",
   "metadata": {},
   "outputs": [],
   "source": [
    "#creating a numpy array with (2,3,4) shape\n",
    "a=np.array([\n",
    "    [[34,897,97,756],\n",
    "     [546,75,64,675],\n",
    "     [435,765,23,23]\n",
    "        \n",
    "    ],\n",
    "    [\n",
    "     [43,75,435,23],\n",
    "     [54,23,1,6],\n",
    "     [56,67,34,0]   \n",
    "    ]\n",
    "])\n"
   ]
  },
  {
   "cell_type": "code",
   "execution_count": 76,
   "id": "03166e32",
   "metadata": {},
   "outputs": [
    {
     "name": "stdout",
     "output_type": "stream",
     "text": [
      "3\n",
      "int32\n"
     ]
    }
   ],
   "source": [
    "print(a.ndim)\n",
    "print(a.dtype)"
   ]
  },
  {
   "cell_type": "code",
   "execution_count": 23,
   "id": "0bf8b553",
   "metadata": {},
   "outputs": [
    {
     "data": {
      "text/plain": [
       "0"
      ]
     },
     "execution_count": 23,
     "metadata": {},
     "output_type": "execute_result"
    }
   ],
   "source": [
    "a[1,2,3]"
   ]
  },
  {
   "cell_type": "code",
   "execution_count": 87,
   "id": "68446fca",
   "metadata": {},
   "outputs": [
    {
     "data": {
      "text/plain": [
       "23"
      ]
     },
     "execution_count": 87,
     "metadata": {},
     "output_type": "execute_result"
    }
   ],
   "source": [
    "#indexing the 1 st matrix \n",
    "a[1]"
   ]
  },
  {
   "cell_type": "code",
   "execution_count": 91,
   "id": "37810487",
   "metadata": {},
   "outputs": [
    {
     "data": {
      "text/plain": [
       "array([ 34, 897,  97, 756])"
      ]
     },
     "execution_count": 91,
     "metadata": {},
     "output_type": "execute_result"
    }
   ],
   "source": [
    "#indexing the1st row in thr 1 st matrix \n",
    "a[0,0]"
   ]
  },
  {
   "cell_type": "code",
   "execution_count": 24,
   "id": "fe586371",
   "metadata": {},
   "outputs": [
    {
     "data": {
      "text/plain": [
       "array([97, 64, 23])"
      ]
     },
     "execution_count": 24,
     "metadata": {},
     "output_type": "execute_result"
    }
   ],
   "source": [
    "#indexing the3rd colum in thr 1 st matrix \n",
    "a[0,:,2]"
   ]
  },
  {
   "cell_type": "markdown",
   "id": "98595a4d",
   "metadata": {},
   "source": [
    "***Properties and Methods for Reshaping***\n",
    "* reshape: Changes the shape of an array.\n",
    "* flatten: Flattens a multi-dimensional array into a 1D array.\n",
    "* ravel: Returns a flattened array. Unlike flatten, ravel returns a view when possible.\n",
    "* transpose: Permutes the dimensions of an array.\n",
    "\n",
    "the rule > ``the total number of elements must remain the same.``"
   ]
  },
  {
   "cell_type": "code",
   "execution_count": 95,
   "id": "3bc2c7f9",
   "metadata": {},
   "outputs": [
    {
     "data": {
      "text/plain": [
       "array([[[ 1,  2,  3],\n",
       "        [ 4,  5,  6]],\n",
       "\n",
       "       [[ 7,  8,  9],\n",
       "        [10, 11, 12]]])"
      ]
     },
     "execution_count": 95,
     "metadata": {},
     "output_type": "execute_result"
    }
   ],
   "source": [
    "b=np.array([1,2,3,4,5,6,7,8,9,10,11,12])\n",
    "b.reshape((2,6))\n",
    "b.reshape((2,2,3))"
   ]
  },
  {
   "cell_type": "code",
   "execution_count": 98,
   "id": "2a458238",
   "metadata": {},
   "outputs": [
    {
     "data": {
      "text/plain": [
       "array([ 1,  2,  3,  4,  5,  6,  7,  8,  9, 10, 11, 12])"
      ]
     },
     "execution_count": 98,
     "metadata": {},
     "output_type": "execute_result"
    }
   ],
   "source": [
    "b.flatten()"
   ]
  },
  {
   "cell_type": "code",
   "execution_count": 99,
   "id": "0c19a083",
   "metadata": {},
   "outputs": [
    {
     "data": {
      "text/plain": [
       "array([ 1,  2,  3,  4,  5,  6,  7,  8,  9, 10, 11, 12])"
      ]
     },
     "execution_count": 99,
     "metadata": {},
     "output_type": "execute_result"
    }
   ],
   "source": [
    "b.transpose()"
   ]
  },
  {
   "cell_type": "code",
   "execution_count": 103,
   "id": "b0a08344",
   "metadata": {},
   "outputs": [
    {
     "data": {
      "text/plain": [
       "array([ 1,  2,  3,  4,  5,  6,  7,  8,  9, 10, 11, 12])"
      ]
     },
     "execution_count": 103,
     "metadata": {},
     "output_type": "execute_result"
    }
   ],
   "source": [
    "b.ravel()"
   ]
  },
  {
   "cell_type": "markdown",
   "id": "c37e9041",
   "metadata": {},
   "source": [
    "***Broadcasting***\n",
    "\n",
    "Broadcasting allows NumPy to perform element-wise operations on arrays of different shapes. The smaller array is \"broadcast\" over the larger array so that they have compatible shapes.\n",
    "\n",
    "Rules of Broadcasting:\n",
    "* If arrays have different numbers of dimensions, prepend 1 to the shape of the smaller array until they have the same number of dimensions.\n",
    "* Arrays are compatible in a dimension if they have the same size in that dimension, or if one of them has size 1.\n",
    "* The arrays can be broadcast together if they are compatible in all dimensions."
   ]
  },
  {
   "cell_type": "code",
   "execution_count": 31,
   "id": "87d2f3da",
   "metadata": {},
   "outputs": [
    {
     "name": "stdout",
     "output_type": "stream",
     "text": [
      "[[[11 22 33]\n",
      "  [38 81 51]\n",
      "  [ 5  9 12]]\n",
      "\n",
      " [[11 22 33]\n",
      "  [38 81 51]\n",
      "  [ 5  9 12]]]\n"
     ]
    },
    {
     "data": {
      "text/plain": [
       "(2, 3, 3)"
      ]
     },
     "execution_count": 31,
     "metadata": {},
     "output_type": "execute_result"
    }
   ],
   "source": [
    "# Create a 2D array\n",
    "arr_2d = np.array([[[1, 2, 3], [4, 5, 6], [4, 5, 6]],\n",
    "    [[1, 2, 3], [4, 5, 6], [4, 5, 6]]])\n",
    "\n",
    "# Create a 1D array\n",
    "arr_1d = np.array([[10, 20, 30],[34,76,45],[1,4,6]])\n",
    "\n",
    "# Add the 1D array to the 2D array\n",
    "result = arr_2d + arr_1d\n",
    "print(result)\n",
    "# Output:\n",
    "# [[11 22 33]\n",
    "#  [14 25 36]]\n"
   ]
  },
  {
   "cell_type": "code",
   "execution_count": 129,
   "id": "7c9a4f7e",
   "metadata": {},
   "outputs": [
    {
     "name": "stdout",
     "output_type": "stream",
     "text": [
      "3\n",
      "2\n"
     ]
    }
   ],
   "source": [
    "print(arr_2d.ndim)\n",
    "print(arr_1d.ndim)"
   ]
  },
  {
   "cell_type": "markdown",
   "id": "76ea2144",
   "metadata": {},
   "source": [
    "## Arithmetic Operations\n",
    "NumPy supports element-wise arithmetic operations on arrays, which include addition, subtraction, multiplication, division, and more.\n",
    "\n"
   ]
  },
  {
   "cell_type": "code",
   "execution_count": 26,
   "id": "25f0fa94",
   "metadata": {},
   "outputs": [
    {
     "name": "stdout",
     "output_type": "stream",
     "text": [
      "[ 6  8 10 12]\n",
      "[-4 -4 -4 -4]\n",
      "[ 5 12 21 32]\n",
      "[0.2        0.33333333 0.42857143 0.5       ]\n"
     ]
    }
   ],
   "source": [
    "\n",
    "import numpy as np\n",
    "\n",
    "# Create two 1D arrays\n",
    "arr1 = np.array([1, 2, 3, 4])\n",
    "arr2 = np.array([5, 6, 7, 8])\n",
    "\n",
    "# Element-wise addition\n",
    "print(arr1 + arr2)  # Output: [ 6  8 10 12]\n",
    "\n",
    "# Element-wise subtraction\n",
    "print(arr1 - arr2)  # Output: [-4 -4 -4 -4]\n",
    "\n",
    "# Element-wise multiplication\n",
    "print(arr1 * arr2)  # Output: [ 5 12 21 32]\n",
    "\n",
    "# Element-wise division\n",
    "print(arr1 / arr2)  # Output: [0.2 0.33333333 0.42857143 0.5]"
   ]
  },
  {
   "cell_type": "markdown",
   "id": "1faeacac",
   "metadata": {},
   "source": [
    "## Mathematical Functions\n",
    "NumPy includes a wide range of mathematical functions that operate on arrays."
   ]
  },
  {
   "cell_type": "code",
   "execution_count": 132,
   "id": "86450a40",
   "metadata": {},
   "outputs": [
    {
     "name": "stdout",
     "output_type": "stream",
     "text": [
      "[1.         1.41421356 1.73205081 2.        ]\n",
      "[ 2.71828183  7.3890561  20.08553692 54.59815003]\n",
      "[ 0.84147098  0.90929743  0.14112001 -0.7568025 ]\n"
     ]
    }
   ],
   "source": [
    "\n",
    "\n",
    "# Create a 1D array\n",
    "arr = np.array([1, 2, 3, 4])\n",
    "\n",
    "# Square root\n",
    "print(np.sqrt(arr))  \n",
    "# Exponential\n",
    "print(np.exp(arr))  \n",
    "# Sine\n",
    "print(np.sin(arr))  "
   ]
  },
  {
   "cell_type": "markdown",
   "id": "ba6b91d7",
   "metadata": {},
   "source": [
    "## Statistical Functions\n",
    "NumPy provides functions to compute various statistical measures.\n"
   ]
  },
  {
   "cell_type": "code",
   "execution_count": 133,
   "id": "10cbeb79",
   "metadata": {},
   "outputs": [
    {
     "name": "stdout",
     "output_type": "stream",
     "text": [
      "3.0\n",
      "1.4142135623730951\n",
      "3.0\n",
      "15\n",
      "1\n",
      "5\n"
     ]
    }
   ],
   "source": [
    "\n",
    "# Create a 1D array\n",
    "arr = np.array([1, 2, 3, 4, 5])\n",
    "\n",
    "# Mean\n",
    "print(np.mean(arr))  # Output: 3.0\n",
    "\n",
    "# Standard deviation\n",
    "print(np.std(arr))  # Output: 1.4142135623730951\n",
    "\n",
    "# Median\n",
    "print(np.median(arr))  # Output: 3.0\n",
    "\n",
    "# Sum\n",
    "print(np.sum(arr))  # Output: 15\n",
    "\n",
    "# Minimum\n",
    "print(np.min(arr))  # Output: 1\n",
    "\n",
    "# Maximum\n",
    "print(np.max(arr))  # Output: 5"
   ]
  },
  {
   "cell_type": "markdown",
   "id": "f069ae0b",
   "metadata": {},
   "source": [
    "## Aggregate Functions\n",
    "NumPy provides aggregate functions that operate on arrays to produce scalar results.\n"
   ]
  },
  {
   "cell_type": "code",
   "execution_count": 37,
   "id": "059b0672",
   "metadata": {},
   "outputs": [
    {
     "name": "stdout",
     "output_type": "stream",
     "text": [
      "[5 7 9]\n",
      "[ 6 15]\n",
      "[1 2 3]\n",
      "[1 4]\n"
     ]
    }
   ],
   "source": [
    "\n",
    "# Create a 2D array\n",
    "arr = np.array([[1, 2, 3], [4, 5, 6]])\n",
    "\n",
    "# Sum along a specific axis\n",
    "print(np.sum(arr, axis=0))  # Sum of each column: [5 7 9]\n",
    "print(np.sum(arr, axis=1))  # Sum of each row: [ 6 15]\n",
    "\n",
    "# Minimum along a specific axis\n",
    "print(np.min(arr, axis=0))  # Min of each column: [1 2 3]\n",
    "print(np.min(arr, axis=1))  # Min of each row: [1 4]"
   ]
  },
  {
   "cell_type": "code",
   "execution_count": 38,
   "id": "83981f5c",
   "metadata": {},
   "outputs": [
    {
     "data": {
      "text/plain": [
       "(2, 3)"
      ]
     },
     "execution_count": 38,
     "metadata": {},
     "output_type": "execute_result"
    }
   ],
   "source": [
    "arr.shape"
   ]
  },
  {
   "cell_type": "markdown",
   "id": "a3938420",
   "metadata": {},
   "source": [
    "## Logical Operations\n",
    "NumPy supports element-wise logical operations, which are useful for conditional checks and filtering.\n"
   ]
  },
  {
   "cell_type": "code",
   "execution_count": 39,
   "id": "85ab0d81",
   "metadata": {},
   "outputs": [
    {
     "name": "stdout",
     "output_type": "stream",
     "text": [
      "[False False False  True  True]\n",
      "[False  True  True  True False]\n",
      "[ True False False False  True]\n",
      "[ True  True  True False False]\n"
     ]
    }
   ],
   "source": [
    "\n",
    "# Create a 1D array\n",
    "arr = np.array([1, 2, 3, 4, 5])\n",
    "\n",
    "# Element-wise comparison\n",
    "print(arr > 3)  # Output: [False False False  True  True]\n",
    "\n",
    "# Logical AND\n",
    "print(np.logical_and(arr > 1, arr < 5))  # Output: [False  True  True  True False]\n",
    "\n",
    "# Logical OR\n",
    "print(np.logical_or(arr < 2, arr > 4))  # Output: [ True False False False  True]\n",
    "\n",
    "# Logical NOT\n",
    "print(np.logical_not(arr > 3))  # Output: [ True  True  True False False]"
   ]
  },
  {
   "cell_type": "code",
   "execution_count": 54,
   "id": "c20d1233",
   "metadata": {},
   "outputs": [
    {
     "name": "stdout",
     "output_type": "stream",
     "text": [
      "[False False False  True False False]\n",
      "[4]\n"
     ]
    }
   ],
   "source": [
    "a=np.array([1,2,3,4,5,6])\n",
    "\n",
    "\n",
    "\n",
    "filter=np.logical_and(a>3,a<5)\n",
    "print(filter)\n",
    "print(a[filter])\n"
   ]
  },
  {
   "cell_type": "markdown",
   "id": "6530a3bf",
   "metadata": {},
   "source": [
    "## Array Manipulation\n",
    "NumPy provides functions for manipulating arrays, such as concatenation, stacking, and splitting.\n"
   ]
  },
  {
   "cell_type": "code",
   "execution_count": 55,
   "id": "991e0f7e",
   "metadata": {},
   "outputs": [
    {
     "name": "stdout",
     "output_type": "stream",
     "text": [
      "[1 2 3 4 5 6]\n",
      "[[1 2 3]\n",
      " [4 5 6]]\n",
      "[1 2 3 4 5 6]\n",
      "[array([1, 2]), array([3, 4]), array([5, 6])]\n"
     ]
    }
   ],
   "source": [
    "\n",
    "# Create two 1D arrays\n",
    "arr1 = np.array([1, 2, 3])\n",
    "arr2 = np.array([4, 5, 6])\n",
    "\n",
    "# Concatenate arrays\n",
    "print(np.concatenate((arr1, arr2)))  # Output: [1 2 3 4 5 6]\n",
    "\n",
    "# Stack arrays vertically\n",
    "print(np.vstack((arr1, arr2)))\n",
    "# Output:\n",
    "# [[1 2 3]\n",
    "#  [4 5 6]]\n",
    "\n",
    "# Stack arrays horizontally\n",
    "print(np.hstack((arr1, arr2)))  # Output: [1 2 3 4 5 6]\n",
    "\n",
    "# Split array into three sub-arrays\n",
    "arr = np.array([1, 2, 3, 4, 5, 6])\n",
    "print(np.split(arr, 3))  # Output: [array([1, 2]), array([3, 4]), array([5, 6])]"
   ]
  },
  {
   "cell_type": "markdown",
   "id": "4657b0ea",
   "metadata": {},
   "source": [
    "## Linear Algebra Operations\n",
    "NumPy provides a submodule numpy.linalg for linear algebra operations.\n"
   ]
  },
  {
   "cell_type": "code",
   "execution_count": 138,
   "id": "5c9dea6e",
   "metadata": {},
   "outputs": [
    {
     "name": "stdout",
     "output_type": "stream",
     "text": [
      "[[-2.   1. ]\n",
      " [ 1.5 -0.5]]\n",
      "-2.0000000000000004\n",
      "[-0.37228132  5.37228132]\n",
      "[[-0.82456484 -0.41597356]\n",
      " [ 0.56576746 -0.90937671]]\n"
     ]
    }
   ],
   "source": [
    "\n",
    "from numpy.linalg import inv, det, eig\n",
    "\n",
    "# Create a 2D array (matrix)\n",
    "matrix = np.array([[1, 2], [3, 4]])\n",
    "\n",
    "# Matrix inverse\n",
    "print(inv(matrix))\n",
    "# Output:\n",
    "# [[-2.   1. ]\n",
    "#  [ 1.5 -0.5]]\n",
    "\n",
    "# Matrix determinant\n",
    "print(det(matrix))  # Output: -2.0000000000000004\n",
    "\n",
    "# Eigenvalues and eigenvectors\n",
    "eigenvalues, eigenvectors = eig(matrix)\n",
    "print(eigenvalues)  # Output: [-0.37228132  5.37228132]\n",
    "print(eigenvectors)\n",
    "# Output:\n",
    "# [[-0.82456484 -0.41597356]\n",
    "#  [ 0.56576746 -0.90937671]]"
   ]
  },
  {
   "cell_type": "code",
   "execution_count": 33,
   "id": "a6e88797",
   "metadata": {},
   "outputs": [
    {
     "data": {
      "text/plain": [
       "array([  1.  ,  25.75,  50.5 ,  75.25, 100.  ])"
      ]
     },
     "execution_count": 33,
     "metadata": {},
     "output_type": "execute_result"
    }
   ],
   "source": [
    "np.linspace(1,100,num=5)"
   ]
  },
  {
   "cell_type": "code",
   "execution_count": 15,
   "id": "51e3c7cc",
   "metadata": {},
   "outputs": [
    {
     "data": {
      "text/plain": [
       "array([  0,   1,   2,   3,   4,   5,   6,   7,   8,   9,  10,  11,  12,\n",
       "        13,  14,  15,  16,  17,  18,  19,  20,  21,  22,  23,  24,  25,\n",
       "        26,  27,  28,  29,  30,  31,  32,  33,  34,  35,  36,  37,  38,\n",
       "        39,  40,  41,  42,  43,  44,  45,  46,  47,  48,  49,  50,  51,\n",
       "        52,  53,  54,  55,  56,  57,  58,  59,  60,  61,  62,  63,  64,\n",
       "        65,  66,  67,  68,  69,  70,  71,  72,  73,  74,  75,  76,  77,\n",
       "        78,  79,  80,  81,  82,  83,  84,  85,  86,  87,  88,  89,  90,\n",
       "        91,  92,  93,  94,  95,  96,  97,  98,  99, 100, 101, 102, 103,\n",
       "       104, 105, 106, 107, 108, 109, 110, 111, 112, 113, 114, 115, 116,\n",
       "       117, 118, 119])"
      ]
     },
     "execution_count": 15,
     "metadata": {},
     "output_type": "execute_result"
    }
   ],
   "source": [
    "np.arange(120)"
   ]
  },
  {
   "cell_type": "markdown",
   "id": "76fc0616",
   "metadata": {},
   "source": [
    "# np.random module\n",
    "\n",
    "The `np.random` module in NumPy is a powerful tool for generating random numbers and random arrays with various distributions. Here's an overview of some of the functions and capabilities it offers:\n",
    "\n",
    "1. **Random Number Generation**:\n",
    "   - `np.random.rand(d0, d1, ..., dn)`: Generates random values in a given shape from a uniform distribution over `[0, 1)`.\n",
    "   - `np.random.randn(d0, d1, ..., dn)`: Generates random values in a given shape from a standard normal distribution (mean=0, standard deviation=1).\n",
    "   - `np.random.randint(low, high=None, size=None, dtype=int)`: Generates random integers from `low` (inclusive) to `high` (exclusive) in a given shape.\n",
    "\n",
    "2. **Random Sampling**:\n",
    "   - `np.random.choice(a, size=None, replace=True, p=None)`: Generates a random sample from a given 1-D array `a`.\n",
    "   - `np.random.shuffle(x)`: Modifies a sequence `x` in-place by shuffling its contents.\n",
    "\n",
    "3. **Random Permutations**:\n",
    "   - `np.random.permutation(x)`: Randomly permutes a sequence or returns a permuted range.\n",
    "   - `np.random.shuffle(x)`: Shuffles a sequence in-place.\n",
    "\n",
    "4. **Random Distributions**:\n",
    "   - Uniform Distribution: `np.random.uniform(low=0.0, high=1.0, size=None)`.\n",
    "   - Normal (Gaussian) Distribution: `np.random.normal(loc=0.0, scale=1.0, size=None)`.\n",
    "   - Exponential Distribution: `np.random.exponential(scale=1.0, size=None)`.\n",
    "   - Poisson Distribution: `np.random.poisson(lam=1.0, size=None)`.\n",
    "   - And many more, including binomial, multinomial, gamma, beta, etc.\n",
    "\n",
    "5. **Seed Control**:\n",
    "   - `np.random.seed(seed=None)`: Seed the random number generator.\n",
    "\n",
    "6. **Random State Object**:\n",
    "   - `np.random.RandomState(seed=None)`: Create a random state object that can be used to maintain separate random number states.\n",
    "\n"
   ]
  },
  {
   "cell_type": "code",
   "execution_count": 62,
   "id": "3d2978f7",
   "metadata": {},
   "outputs": [
    {
     "data": {
      "text/plain": [
       "array([[-0.80969738, -0.44372567],\n",
       "       [-1.32116528, -0.56233346],\n",
       "       [-0.40246335,  0.48227123]])"
      ]
     },
     "execution_count": 62,
     "metadata": {},
     "output_type": "execute_result"
    }
   ],
   "source": [
    "np.random.randn(3,2)"
   ]
  },
  {
   "cell_type": "code",
   "execution_count": 63,
   "id": "3ab7f933",
   "metadata": {},
   "outputs": [
    {
     "data": {
      "text/plain": [
       "array([[19, 14, 16],\n",
       "       [15,  3, 18]], dtype=int64)"
      ]
     },
     "execution_count": 63,
     "metadata": {},
     "output_type": "execute_result"
    }
   ],
   "source": [
    "np.random.randint(1,20,(2,3),dtype='int64')"
   ]
  },
  {
   "cell_type": "code",
   "execution_count": 56,
   "id": "b9e26d0c",
   "metadata": {},
   "outputs": [
    {
     "data": {
      "text/plain": [
       "array([0, 1, 2, 3, 4, 5, 6, 7, 8, 9])"
      ]
     },
     "execution_count": 56,
     "metadata": {},
     "output_type": "execute_result"
    }
   ],
   "source": [
    "a=np.arange(10)\n",
    "a"
   ]
  },
  {
   "cell_type": "code",
   "execution_count": 64,
   "id": "bdfafc23",
   "metadata": {},
   "outputs": [
    {
     "name": "stdout",
     "output_type": "stream",
     "text": [
      "[3 2 9 5 7 0 1 4 6 8]\n",
      "[0 1 2 3 4 5 6 7 8 9]\n"
     ]
    }
   ],
   "source": [
    "b=np.random.permutation(a)\n",
    "print(b)\n",
    "print(a)"
   ]
  },
  {
   "cell_type": "code",
   "execution_count": 55,
   "id": "57d4f38b",
   "metadata": {},
   "outputs": [
    {
     "data": {
      "text/plain": [
       "array([0, 1, 2, 3, 4, 5, 6, 7, 8, 9])"
      ]
     },
     "execution_count": 55,
     "metadata": {},
     "output_type": "execute_result"
    }
   ],
   "source": [
    "a"
   ]
  },
  {
   "cell_type": "code",
   "execution_count": 78,
   "id": "ba3423d8",
   "metadata": {},
   "outputs": [
    {
     "data": {
      "text/plain": [
       "array([[27,  2, 18, 15],\n",
       "       [32,  9,  8, 14],\n",
       "       [46, 18, 18, 22]])"
      ]
     },
     "execution_count": 78,
     "metadata": {},
     "output_type": "execute_result"
    }
   ],
   "source": [
    "rng=np.random.RandomState(500)\n",
    "\n",
    "rng.randint(1,50,(3,4))"
   ]
  },
  {
   "cell_type": "code",
   "execution_count": 79,
   "id": "0cbac2ed",
   "metadata": {},
   "outputs": [
    {
     "data": {
      "text/plain": [
       "array([[42, 35, 43, 19],\n",
       "       [20, 14, 39, 41],\n",
       "       [56, 48, 57, 11]])"
      ]
     },
     "execution_count": 79,
     "metadata": {},
     "output_type": "execute_result"
    }
   ],
   "source": [
    "rng.randint(1,60,(3,4))"
   ]
  },
  {
   "cell_type": "markdown",
   "id": "dfcc4deb",
   "metadata": {},
   "source": [
    "Uniform and standard normal distributions are two fundamental types of probability distributions commonly used in statistics and various applications like simulations and data analysis. Here’s a detailed comparison between the two:\n",
    "\n",
    "### Uniform Distribution\n",
    "\n",
    "1. **Definition**:\n",
    "   - The uniform distribution is a type of continuous probability distribution where all outcomes are equally likely within a certain range.\n",
    "   - It is defined by two parameters: the lower bound `a` and the upper bound `b`.\n",
    "\n",
    "2. **Probability Density Function (PDF)**:\n",
    "   - For a continuous uniform distribution over the interval `[a, b]`, the PDF is:\n",
    "     \\[\n",
    "     f(x) = \\begin{cases} \n",
    "     \\frac{1}{b-a} & \\text{for } a \\leq x \\leq b \\\\\n",
    "     0 & \\text{otherwise}\n",
    "     \\end{cases}\n",
    "     \\]\n",
    "\n",
    "3. **Characteristics**:\n",
    "   - **Mean**: \\(\\mu = \\frac{a + b}{2}\\)\n",
    "   - **Variance**: \\(\\sigma^2 = \\frac{(b - a)^2}{12}\\)\n",
    "   - The distribution is symmetric and all values within `[a, b]` are equally probable.\n",
    "\n",
    "4. **Example in NumPy**:\n",
    "   ```python\n",
    "   import numpy as np\n",
    "   import matplotlib.pyplot as plt\n",
    "\n",
    "   samples = np.random.uniform(low=0.0, high=1.0, size=1000)\n",
    "   plt.hist(samples, bins=30, density=True)\n",
    "   plt.title(\"Uniform Distribution [0, 1]\")\n",
    "   plt.show()\n",
    "   ```\n",
    "\n",
    "### Standard Normal Distribution\n",
    "\n",
    "1. **Definition**:\n",
    "   - The standard normal distribution is a special case of the normal distribution with a mean of 0 and a standard deviation of 1.\n",
    "   - It is also known as the Z-distribution.\n",
    "\n",
    "2. **Probability Density Function (PDF)**:\n",
    "   - The PDF for the standard normal distribution is:\n",
    "     \\[\n",
    "     f(x) = \\frac{1}{\\sqrt{2\\pi}} e^{-\\frac{x^2}{2}}\n",
    "     \\]\n",
    "\n",
    "3. **Characteristics**:\n",
    "   - **Mean**: \\(\\mu = 0\\)\n",
    "   - **Variance**: \\(\\sigma^2 = 1\\)\n",
    "   - The distribution is symmetric about the mean.\n",
    "   - Approximately 68% of the values lie within one standard deviation (0 to 1 or -1 to 0) of the mean, 95% within two, and 99.7% within three.\n",
    "\n",
    "4. **Example in NumPy**:\n",
    "   ```python\n",
    "   import numpy as np\n",
    "   import matplotlib.pyplot as plt\n",
    "\n",
    "   samples = np.random.randn(1000)\n",
    "   plt.hist(samples, bins=30, density=True)\n",
    "   plt.title(\"Standard Normal Distribution (mean=0, std=1)\")\n",
    "   plt.show()\n",
    "   ```\n",
    "\n",
    "### Key Differences\n",
    "\n",
    "1. **Shape**:\n",
    "   - The uniform distribution has a constant probability across its range, forming a rectangle in the PDF.\n",
    "   - The standard normal distribution has a bell curve shape, with most values clustered around the mean and fewer values as you move away from the mean.\n",
    "\n",
    "2. **Range**:\n",
    "   - The uniform distribution has a fixed range `[a, b]`.\n",
    "   - The standard normal distribution theoretically extends from \\(-\\infty\\) to \\(\\infty\\), but practically, most values lie within a few standard deviations of the mean.\n",
    "\n",
    "3. **Use Cases**:\n",
    "   - **Uniform Distribution**: Useful for simulating scenarios where all outcomes within a specific range are equally likely, such as random sampling in Monte Carlo simulations.\n",
    "   - **Standard Normal Distribution**: Commonly used in statistics for hypothesis testing, confidence intervals, and various data analysis techniques, including many machine learning algorithms.\n",
    "\n",
    "### Visualization Comparison\n",
    "\n",
    "To illustrate the difference visually, let's plot both distributions:\n",
    "\n",
    "\n",
    "\n",
    "This code will generate a histogram comparing the uniform distribution over `[0, 1]` and the standard normal distribution, highlighting the key differences in their shapes and characteristics."
   ]
  },
  {
   "cell_type": "code",
   "execution_count": 35,
   "id": "aa44af8d",
   "metadata": {},
   "outputs": [
    {
     "data": {
      "image/png": "[encoded data removed]",
      "text/plain": [
       "<Figure size 640x480 with 1 Axes>"
      ]
     },
     "metadata": {},
     "output_type": "display_data"
    }
   ],
   "source": [
    "import numpy as np\n",
    "import matplotlib.pyplot as plt\n",
    "\n",
    "# Uniform Distribution\n",
    "uniform_samples = np.random.uniform(low=0.0, high=1.0, size=1000)\n",
    "plt.hist(uniform_samples, bins=30, density=True, alpha=0.6, color='b', label='Uniform [0, 1]')\n",
    "\n",
    "# Standard Normal Distribution\n",
    "normal_samples = np.random.randn(1000)\n",
    "plt.hist(normal_samples, bins=30, density=True, alpha=0.6, color='g', label='Standard Normal')\n",
    "\n",
    "plt.legend()\n",
    "plt.title(\"Uniform vs. Standard Normal Distribution\")\n",
    "plt.show()"
   ]
  },
  {
   "cell_type": "code",
   "execution_count": null,
   "id": "cf9ce3fc",
   "metadata": {},
   "outputs": [],
   "source": []
  }
 ],
 "metadata": {
  "kernelspec": {
   "display_name": "Python 3 (ipykernel)",
   "language": "python",
   "name": "python3"
  },
  "language_info": {
   "codemirror_mode": {
    "name": "ipython",
    "version": 3
   },
   "file_extension": ".py",
   "mimetype": "text/x-python",
   "name": "python",
   "nbconvert_exporter": "python",
   "pygments_lexer": "ipython3",
   "version": "3.11.5"
  }
 },
 "nbformat": 4,
 "nbformat_minor": 5
}
