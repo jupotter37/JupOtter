{
 "cells": [
  {
   "cell_type": "markdown",
   "id": "9982616b",
   "metadata": {},
   "source": [
    "Question 2:"
   ]
  },
  {
   "cell_type": "markdown",
   "id": "bc447aec",
   "metadata": {},
   "source": [
    "In statistic, one population includes all the possible individuals (xi) and programs. Due to we cannot measure all the single items and individuals in the population, we take samples (some small groups) and collect datas to estimates. The propose of doing statistic in to make a conclusion based on population parameter, instead of on samples itself. Even though we are using samples to collect datas, but the test result explains the information about all the population. When we do a hypothesis, we are trying to infer the population mean (μ) instead of the sample mean (ˉx).\n",
    "xi is the individual points we collected from samples.\n",
    "ˉx is the sample means, it is the value we collect from sample.\n",
    "μ is the population mean, it is the average value of all the data in population.\n",
    "μ0 is the hypothesized value about population mean. We made a hypothesized value first, and do some hypothesis steps. After we find out the test result, we compare μ0 with μ to see whether μ is different from μ0."
   ]
  },
  {
   "cell_type": "markdown",
   "id": "3eb8be82",
   "metadata": {},
   "source": [
    "Here's a summary of our discussion:\n",
    "\n",
    "When conducting a statistical test, the goal is to make conclusions about the population parameter (like the population average, μ), not just the sample statistic (like the sample average, ˉx). Individual data points from the sample are represented by xi, while μ₀ is the hypothesized value of the population parameter that we test against. The test results are about μ (the true population value), not the specific sample or its average.\n",
    "https://chatgpt.com/share/670850fc-3d20-8003-9163-9983fcbb3cef"
   ]
  },
  {
   "cell_type": "markdown",
   "id": "c8fde1d5",
   "metadata": {},
   "source": [
    "question 4:"
   ]
  },
  {
   "cell_type": "markdown",
   "id": "17b4684b",
   "metadata": {},
   "source": [
    "p_values reflect the relationship between the observed data and hypothesis value (μ0). When p-value becomes smaller, the comparation between the observed data and hypothesized value becomes less consistend. In another word, the difference between the oberved data and hypothesized value will becomes more extreme which makes it harder to believe the hypothesized value. Therefore, a smaller p_value makes the null hypothesis look unreasonable (more 'ridiculous').\n",
    "\n",
    "Null hypothesis related to test statistic and sampling distribution:\n",
    "\n",
    "Under null hypothesis, we created a sample distribution. This sample distribution means that if the hypothesis is true, the test statistic could take all possible values. The test statistics includes correlation, mean, proportion, etc... \n",
    "\n",
    "Observed test statistic:\n",
    "\n",
    "When we collect data and calculate observed test statistic, we would compared it with expected sample distribution. If the observed test statistic is far away from the center of the distribution, it means that there's something unusual happens. If most of the observed test statistic is on the center of the distribution, then the null hypothesis is true.\n",
    "\n",
    "p-value: \n",
    "p-value shows the possiblity for us to get a exterm value on the test statistic under the situation that the null hypothesis is true. Small p-value means that the data we observed under the null hypothesis is unlikely to happen."
   ]
  },
  {
   "cell_type": "markdown",
   "id": "e9d22732",
   "metadata": {},
   "source": [
    "A summary of our discussion on the relationship between p-values and the null hypothesis:\n",
    "\n",
    "When performing a hypothesis test, we calculate a test statistic from the observed data and compare it to what we'd expect under the null hypothesis (which assumes no effect or difference). The p-value measures the probability of obtaining a test statistic as extreme as or more extreme than the one observed, assuming the null hypothesis is true.\n",
    "\n",
    "A small p-value suggests that the observed test statistic is highly unlikely under the null hypothesis, making it harder to believe that the null is true. This is why a smaller p-value makes the null hypothesis look \"more ridiculous\"—because it implies that the data is inconsistent with the null, and it would require a rare event to explain the observed result if the null hypothesis were correct.\n",
    "\n",
    "In essence, the smaller the p-value, the less plausible the null hypothesis becomes.\n",
    "https://chatgpt.com/share/67086f3d-9644-8003-b560-abe5b9dcacaa"
   ]
  },
  {
   "cell_type": "markdown",
   "id": "44557f67",
   "metadata": {},
   "source": [
    "question 8:"
   ]
  },
  {
   "cell_type": "markdown",
   "id": "2e5238d8",
   "metadata": {},
   "source": [
    "1. Problem Introduction:\n",
    "Whether STA130 students can identify correctly whether milk is pouring first or tea is pouring first in a cup.\n",
    "\n",
    "2. Null hypothesis and Alternative hypothesis:\n",
    "\n",
    "Null hypothesis(H0): students randomly guess the possiblity on pouring tea first or pouring milk first. There H0 = 50%.\n",
    "\n",
    "Formal statement H0: the proportion of the students who guess correctly on pouring order.\n",
    "\n",
    "Informal interpretation: Null hypothesis assume students do not have ability to identify the pouring order. Therefore, their correct guess is due to random chance. \n",
    "\n",
    "Alternative Hypothesis(Ha): Students can distinguish the pouring order better than the random guess. Therefore, the possiblity on correctly distinguish pouring order is bigger than 50%, namely p > 50%.\n",
    "\n",
    "Formal statement: Ha: p > 0.5\n",
    "\n",
    "Informal Interpretation: Students can distinguish the pouring order better than the random guess.\n",
    "\n",
    "3. Quantitative Analysis: \n",
    "\n",
    "1) observed test statistic:\n",
    "There are 80 students for total, 49 students can distinguish the pouring order correctly.\n",
    "The sample proportion is p^ = 49/80 = 0.6125\n",
    "2) Test null hypothesis:\n",
    "use one-proportion z-test to evaluate whether correct guess proportion has a significantly deviation from 0.5.\n",
    "Calculating the test statistic: z= (p^ - p0)divide the square root of(p0(1-p0)/n)\n",
    "the sample proportion p^ = 0.6125\n",
    "null hypothesis p0 = 0.5\n",
    "the sample size n = 80"
   ]
  },
  {
   "cell_type": "markdown",
   "id": "0ca157d9",
   "metadata": {},
   "source": [
    "4. Hypothesis testing "
   ]
  },
  {
   "cell_type": "code",
   "execution_count": 1,
   "id": "eff814f7",
   "metadata": {},
   "outputs": [
    {
     "name": "stdout",
     "output_type": "stream",
     "text": [
      "Z-score: 2.0125\n",
      "P-value: 0.0221\n",
      "Simulated P-value: 0.0294\n"
     ]
    }
   ],
   "source": [
    "import numpy as np\n",
    "from scipy import stats\n",
    "\n",
    "# Parameters\n",
    "n = 80\n",
    "correct_guesses = 49\n",
    "p0 = 0.5  # Null hypothesis proportion\n",
    "np.random.seed(42)\n",
    "\n",
    "# Sample proportion\n",
    "phat = correct_guesses / n\n",
    "\n",
    "# Z-test for one proportion\n",
    "z = (phat - p0) / np.sqrt(p0 * (1 - p0) / n)\n",
    "p_value = 1 - stats.norm.cdf(z)  # One-tailed test\n",
    "\n",
    "print(f\"Z-score: {z:.4f}\")\n",
    "print(f\"P-value: {p_value:.4f}\")\n",
    "\n",
    "# Simulation approach (optional)\n",
    "n_simulations = 10000\n",
    "simulated_data = np.random.binomial(n, p0, n_simulations) / n\n",
    "simulated_p_value = np.mean(simulated_data >= phat)\n",
    "\n",
    "print(f\"Simulated P-value: {simulated_p_value:.4f}\")"
   ]
  },
  {
   "cell_type": "markdown",
   "id": "061f30aa",
   "metadata": {},
   "source": [
    "The explation of p-value: \n",
    "\n",
    "-> p-value shows the proportion for us to get a exterm value on the test statistic under the situation that the null hypothesis is true. \n",
    "-> The p-value is 0.0221 < p0 =0.05, we reject null hypothesis. This means that students can distinguish the pouring order better than the random guess."
   ]
  },
  {
   "cell_type": "code",
   "execution_count": 2,
   "id": "83f61d2c",
   "metadata": {},
   "outputs": [
    {
     "data": {
      "image/png": "[encoded data removed]",
      "text/plain": [
       "<Figure size 640x480 with 1 Axes>"
      ]
     },
     "metadata": {},
     "output_type": "display_data"
    }
   ],
   "source": [
    "import matplotlib.pyplot as plt\n",
    "\n",
    "# Bar plot of correct vs incorrect guesses\n",
    "labels = ['Correct', 'Incorrect']\n",
    "counts = [correct_guesses, n - correct_guesses]\n",
    "\n",
    "plt.bar(labels, counts, color=['green', 'red'])\n",
    "plt.ylabel('Number of Students')\n",
    "plt.title('Correct vs Incorrect Identifications')\n",
    "plt.show()"
   ]
  },
  {
   "cell_type": "markdown",
   "id": "3ecde965",
   "metadata": {},
   "source": [
    "5. Test result and discussion:\n",
    "The p-value is 0.0221 < p0 =0.05, we reject null hypothesis. This means that STA130 students can distinguish the pouring order better than the random guess."
   ]
  },
  {
   "cell_type": "markdown",
   "id": "78c7316f",
   "metadata": {},
   "source": [
    "6. Conclusion relate to null hypothesis:\n",
    "Therefore, the p-value from z-test is smaller than p0, the data provide enough evidence to reject null hypothesis. STA130 students can distinguish the pouring order better than the random guess."
   ]
  },
  {
   "cell_type": "markdown",
   "id": "cd562690",
   "metadata": {},
   "source": [
    "Summary\n",
    "Objective: To compare an observed proportion of successes (e.g., correct identifications) to a theoretical proportion under the null hypothesis using both a one-proportion z-test and a simulation-based approach.\n",
    "\n",
    "One-Proportion Z-Test:\n",
    "\n",
    "The test statistic (z-score) is calculated using the formula:\n",
    "z= (p^ - p0)divide the square root of(p0(1-p0)/n)\n",
    "\n",
    "The p-value is derived from the z-score using the standard normal distribution.\n",
    "Simulation-Based P-Value Estimation:\n",
    "\n",
    "Involves generating a distribution of proportions based on simulated data under the null hypothesis.\n",
    "The p-value is estimated by calculating the proportion of simulated z-scores that are as extreme as or more extreme than the observed z-score.\n",
    "Visualizations:\n",
    "\n",
    "Bar Plot: Displays the number of correct versus incorrect identifications to visually represent the observed outcomes.\n",
    "Histogram: Shows the distribution of simulated proportions, with a line indicating the observed proportion, providing insight into the p-value estimation.\n",
    "Python Code: A complete code snippet was provided, implementing the one-proportion z-test and simulation-based p-value estimation, along with the visualizations.\n",
    "\n",
    "Key Points\n",
    "The code allows for flexible inputs, enabling the user to customize the number of successes, total trials, and hypothesized proportions.\n",
    "The results, including the z-score and p-values from both methods, are printed for comparison.\n",
    "https://chatgpt.com/share/67088486-96c8-8003-a059-0f0918654c66"
   ]
  }
 ],
 "metadata": {
  "kernelspec": {
   "display_name": "Python 3 (ipykernel)",
   "language": "python",
   "name": "python3"
  },
  "language_info": {
   "codemirror_mode": {
    "name": "ipython",
    "version": 3
   },
   "file_extension": ".py",
   "mimetype": "text/x-python",
   "name": "python",
   "nbconvert_exporter": "python",
   "pygments_lexer": "ipython3",
   "version": "3.11.6"
  }
 },
 "nbformat": 4,
 "nbformat_minor": 5
}
