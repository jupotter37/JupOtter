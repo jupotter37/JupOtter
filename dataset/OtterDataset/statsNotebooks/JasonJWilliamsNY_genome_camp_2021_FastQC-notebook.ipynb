{
 "cells": [
  {
   "cell_type": "markdown",
   "id": "098c8755",
   "metadata": {},
   "source": [
    "# Assessing Data Quality"
   ]
  },
  {
   "cell_type": "markdown",
   "id": "008bf512",
   "metadata": {},
   "source": [
    "When data from DNA sequencing is produced, it is stored in a file format called FastQ. This file contains information not just about the DNA sequence itself (e.g. the nucleotide sequence) but also contains information about the quality of the DNA sequence. Sequencing DNA is not an error-free process. Like any measurement, there is a potential for error. In generating millions of bases of DNA sequence, tens or or hundreds of thousands of those bases may be mistaken. Fortunately, we can estimate the error; we do this using something called a [Phred](https://en.wikipedia.org/wiki/Phred_quality_score)\n",
    "Now that we have the sequence data we want to be able to determine the quality of the sequencing reads. \n",
    "\n",
    "\n"
   ]
  },
  {
   "cell_type": "markdown",
   "id": "9aaa51f0",
   "metadata": {},
   "source": [
    "## FastQ file format"
   ]
  },
  {
   "cell_type": "markdown",
   "id": "df678032",
   "metadata": {},
   "source": [
    "A fastQ file (file extension .fastq) is a file that contains perhaps hundreds of thousands or millions of individual sequence reads. Each sequence read is represented in 4 lines of the file. Here is an example:\n",
    "\n",
    "```bash\n",
    "@HWI-ST330:304:H045HADXX:1:1101:1111:61397\n",
    "CACTTGTAAGGGCAGGCCCCCTTCACCCTCCCGCTCCTGGGGGANNNNNNNNNNANNNCGAGGCCCTGGGGTAGAGGGNNNNNNNNNNNNNNGATCTTGG\n",
    "+\n",
    "@?@DDDDDDHHH?GH:?FCBGGB@C?DBEGIIIIAEF;FCGGI#########################################################\n",
    "```\n",
    "\n",
    "Line |Description \n",
    "-----|----- \n",
    "1|Always begins with ‘@’ and then information about the read (e.g. it’s direction, the machine it was sequenced on, etc.)\n",
    "2|The actual DNA sequence\n",
    "3|Always begins with a ‘+’ and sometimes the same info in line 1\n",
    "4|Has a string of characters which represent the quality scores; must have same number of characters as line 2"
   ]
  },
  {
   "cell_type": "markdown",
   "id": "e114dd43",
   "metadata": {},
   "source": [
    "## Phred score in detail\n",
    "A Phred score is a measure of uncertainty and error. The value of a [Phred](https://en.wikipedia.org/wiki/Phred_quality_score) score is an indication of how likely it is that a base reported in a sequencing read is in error. Here is the table describing the Phred score values:\n",
    "\n",
    "Phred Quality Score|Probability of incorrect base call|Base call accuracy\n",
    "-------------------|----------------------------------|------------------\n",
    "10|1 in 10 |90%\n",
    "20|1 in 100|99%\n",
    "30|1 in 1000|99.9%\n",
    "40|1 in 10,000|99.99%\n",
    "50|1 in 100,000|99.999%\n",
    "60|1 in 1,000,000|99.9999%"
   ]
  },
  {
   "cell_type": "markdown",
   "id": "0528a8fc",
   "metadata": {},
   "source": [
    "## Running and interpreting FastQC\n",
    "\n",
    "[FastQC](https://www.bioinformatics.babraham.ac.uk/projects/fastqc/) is one of several programs we can use to determine the quality of DNA sequence. A single fastQ file may have millions of individual sequencing reads, each with its own quality information (Phred core). The FastQC report generates graphs and descriptive statistics that allow us to get a sense of the overall quality of a file of sequencing data. Once we have that information, we can use it later on to trim and/or filter out low quality data.\n",
    "\n",
    "**Per base sequence quality**\n",
    "This report shows the average quality score across the length of all reads. Poor quality at the beginning or end of the reads may suggest settings for trimming.\n",
    "\n",
    "**Per sequence quality scores**\n",
    "This report indicates how individual reads of a given quality score are distributed in your sequence file. Ideally, most reads will have a high average quality score. Populations of lower average-scored reads can be removed by downstream filtering.\n",
    "\n",
    "**Adapter Content**\n",
    "This report indicates the presence of sequencing adapters. If adapters are detected, you will need to remove them in downstream cleaning.\n"
   ]
  },
  {
   "cell_type": "markdown",
   "id": "b5afbef7-04fb-45ff-a400-ff8e1401cd7b",
   "metadata": {},
   "source": [
    "## Installing FastQC"
   ]
  },
  {
   "cell_type": "markdown",
   "id": "c9c03e9d-8a85-4e44-a25b-5eeaaf0c17bc",
   "metadata": {},
   "source": [
    "We will install fastqc using the [conda](https://docs.conda.io/en/latest/) package manager. We are doing this in the Jupyter notebook but this and all other commands will work just about identically on any linux terminal/machine. \n",
    "\n",
    "### Important!!! - complete each of the numbered steps"
   ]
  },
  {
   "cell_type": "markdown",
   "id": "a6c115d8-f379-4020-8b69-8823ae59ed36",
   "metadata": {},
   "source": [
    "1. We will search for the tool we want to install\n",
    "\n",
    "We will use the `conda search` command and the channel (`-c`) flag to search [bioconda](https://bioconda.github.io/)"
   ]
  },
  {
   "cell_type": "code",
   "execution_count": null,
   "id": "04ad202c-9425-4c70-9909-a826320a5fe0",
   "metadata": {},
   "outputs": [],
   "source": [
    "conda search fastqc -c bioconda"
   ]
  },
  {
   "cell_type": "markdown",
   "id": "0e06d5f7-6625-4e33-8734-d1ef725befac",
   "metadata": {},
   "source": [
    "2. Create a conda enviornment\n",
    "\n",
    "Conda uses something called \"enviornments\" which are essentially isolated configurations on our computer where we can included all the needed compatible tools and exlude other tools which are unnesessary or would have conflicts with our desired tool. We will use the `-y` option to install without prompting the user for input, the `--name` option to name the enviornment for the tool. We will enforce versioning (`tool==version`) so that we know what version of a tool was used to do an analysis should we wish to repeat the analysis. \n",
    "\n",
    "**Tip**: Use the latest version where possible, but if you get an error with dependancies, using a lower version may help. Some tools may never be installed successfully using conda, but we will face those when we have too. \n"
   ]
  },
  {
   "cell_type": "code",
   "execution_count": null,
   "id": "9c449b7a-ba00-45a9-a23a-acadad02e6eb",
   "metadata": {},
   "outputs": [],
   "source": [
    "conda create -y --name fastqc fastqc==0.11.9 -c bioconda"
   ]
  },
  {
   "cell_type": "markdown",
   "id": "64752baf-b13a-46fb-a874-71b3290d40fc",
   "metadata": {},
   "source": [
    "3. We will use the `conda init` command so that conda can be configured for this shell"
   ]
  },
  {
   "cell_type": "code",
   "execution_count": null,
   "id": "37f2449f-699d-4dd2-9c44-b2dc6da42543",
   "metadata": {},
   "outputs": [],
   "source": [
    "conda init"
   ]
  },
  {
   "cell_type": "markdown",
   "id": "45dc24e8-678e-4083-a6d2-e42c01ea4017",
   "metadata": {},
   "source": [
    "4. **DON'T SKIP**: We need to restart the computer's [kernal](https://en.wikipedia.org/wiki/Kernel_(operating_system)). Go to the **Kernal** menu and choose **Restart Kernal**"
   ]
  },
  {
   "cell_type": "markdown",
   "id": "59c6084e-2d7d-430f-9a08-f6c9cfb6090e",
   "metadata": {},
   "source": [
    "5. Finally, we can activate the conda enviornment (created with the name used for the environment). When you run the next cell it should return the name of the environment.  "
   ]
  },
  {
   "cell_type": "code",
   "execution_count": null,
   "id": "e72c97e4-8379-4cd8-93b6-8cebe0db17d2",
   "metadata": {},
   "outputs": [],
   "source": [
    "conda activate fastqc"
   ]
  },
  {
   "cell_type": "markdown",
   "id": "56be00cf",
   "metadata": {},
   "source": [
    "## Running Fast QC"
   ]
  },
  {
   "cell_type": "markdown",
   "id": "ac676a87",
   "metadata": {},
   "source": [
    "First, we will be run FastQC on a small subset of the sequence reads. In this exercise, the reads are in the `concat_fastq` folder. We will run on a sample that has 100 fastq files from the polyrhiza experiment (`100_spolyrhiza_reads.fastq.gz`). \n",
    "\n",
    "**Tip**: When using commands or searching for files, the tab key will help you autocomplete (and help ensure the files and commands you think you have are actually accessible)."
   ]
  },
  {
   "cell_type": "markdown",
   "id": "4a510060-48c0-4613-be23-25d0b6304758",
   "metadata": {},
   "source": [
    "1. Run fastqc on the `100_spolyrhiza_reads.fastq.gz` file located in concat_fastq"
   ]
  },
  {
   "cell_type": "code",
   "execution_count": null,
   "id": "bbebb2fe-18b6-4b5c-90a4-2f35a7ffcc9c",
   "metadata": {},
   "outputs": [],
   "source": [
    "fastqc data/input/concat_fastq/100_spolyrhiza_reads.fastq.gz"
   ]
  },
  {
   "cell_type": "markdown",
   "id": "0c28c761",
   "metadata": {},
   "source": [
    "2. In the file browser (left of your screen) navigate into the `concat_fastq` folder to locate the following outputs:\n",
    "\n",
    "- There are two outputs from the fastqc command.\n",
    "\n",
    "         1. An .html file (than can be viewed as a webpage)\n",
    "         2. A .zip file that contains individual images and reports\n",
    "\n",
    "The output of fastQC is at the location of the original fastq files. This can get messy so let's clean up and organize"
   ]
  },
  {
   "cell_type": "markdown",
   "id": "097e9077",
   "metadata": {},
   "source": [
    "3. Make a new directory to store the .zip and .html files that are the outputs of the fastQC analysis"
   ]
  },
  {
   "cell_type": "code",
   "execution_count": null,
   "id": "0fec8fe0",
   "metadata": {},
   "outputs": [],
   "source": [
    "mkdir -p data/output/fastqc_sample_results"
   ]
  },
  {
   "cell_type": "markdown",
   "id": "4f3fafe5-94a1-4aca-9f1e-9d43523bb721",
   "metadata": {},
   "source": [
    "4. Inside this directory, let's make a folder specifically for the 100 reads analysis"
   ]
  },
  {
   "cell_type": "code",
   "execution_count": null,
   "id": "84061aaa-77bd-41f4-b76c-5483d750906c",
   "metadata": {},
   "outputs": [],
   "source": [
    "mkdir -p data/output/fastqc_sample_results/100_reads"
   ]
  },
  {
   "cell_type": "markdown",
   "id": "aa88bd44",
   "metadata": {},
   "source": [
    "5. We will move the .html and .zip files into the folder we have created. The \"*\" allows us to move all files that have those file extensions. "
   ]
  },
  {
   "cell_type": "code",
   "execution_count": null,
   "id": "0d76989a",
   "metadata": {},
   "outputs": [],
   "source": [
    "mv *.zip data/output/fastqc_sample_results/100_reads\n",
    "mv *.html data/output/fastqc_sample_results/100_reads"
   ]
  },
  {
   "cell_type": "markdown",
   "id": "a176538c-cb18-48c7-9a7d-4087c3280d7c",
   "metadata": {},
   "source": [
    "6. Use the `ls` command to confirm the results have been moved to the appropriate directory. "
   ]
  },
  {
   "cell_type": "code",
   "execution_count": null,
   "id": "cad98627",
   "metadata": {},
   "outputs": [],
   "source": [
    "ls data/output/fastqc_sample_results/100_reads"
   ]
  },
  {
   "cell_type": "markdown",
   "id": "f6670347",
   "metadata": {},
   "source": [
    "7. Use the file browser to take a look at the results we can double click on the .html file and navigate through the different reports.\n",
    "\n",
    "# Questions\n",
    "\n",
    "The documentation for each fastqc report is located in the [fastqc help](https://www.bioinformatics.babraham.ac.uk/projects/fastqc/Help/3%20Analysis%20Modules/)\n",
    "\n",
    "\n",
    "- How many sequences were analyzed; what were their lengths?\n",
    "\n",
    "-  Is the per base sequence quality more or less the same across the length of the sequence? Are there locations of the sequence that tend to have higher or lower Phred scores?\n",
    "\n",
    "\n",
    "- Are there over represented sequences? Can they be identified ?"
   ]
  },
  {
   "cell_type": "markdown",
   "id": "fb495887-5fbf-4b67-9b43-c43c8cd540fa",
   "metadata": {},
   "source": [
    "# Challenges"
   ]
  },
  {
   "cell_type": "markdown",
   "id": "3fc4b0b4-4b9d-4567-96cc-b3e2f1bc4dcc",
   "metadata": {},
   "source": [
    "1. Repeat this analysis for the sample of 1000 reads (concat_fastq/1000_spolyrhiza_reads.fastq.gz) and then the entire data set (concat_fastq/spolyrhiza_reads.fastq.gz). Save your work in this notebook. When you terminate this analysis in CyVerse, you can share all the outputs with your instructor. \n",
    "\n",
    "**Tip**: Run fastqc with the `-t` option so that it can use all available cpus. For example `fastqc -t 16 reads.fastq.gz` would use 16 cpus. Check to make sure the number of CPUs matches the number you launched with using cyverse. You can check the number using the command `cat /proc/cpuinfo` - add \"1\" to the last processor listed since the count starts at 0. See also `fastqc --help`"
   ]
  }
 ],
 "metadata": {
  "kernelspec": {
   "display_name": "Bash",
   "language": "bash",
   "name": "bash"
  },
  "language_info": {
   "codemirror_mode": "shell",
   "file_extension": ".sh",
   "mimetype": "text/x-sh",
   "name": "bash"
  }
 },
 "nbformat": 4,
 "nbformat_minor": 5
}
