{
 "cells": [
  {
   "cell_type": "code",
   "execution_count": null,
   "id": "ae14c9ab-fa55-4fca-b591-b8a29fab2e2a",
   "metadata": {},
   "outputs": [],
   "source": [
    "# Q1: What are the Probability Mass Function (PMF) and Probability Density Function (PDF)? Explain with\n",
    "# an example.\n",
    "# Ans 1: Probability Mass Function (PMF) and Probability Density Function (PDF) are both mathematical functions used in probability \n",
    "# theory to describe the probability distribution of a random variable.\n",
    "# A PMF is a function that gives the probability that a discrete random variable X takes on a particular value x. It is defined as P(X=x).\n",
    "# For example, if we toss a fair coin, the PMF of getting a head is 0.5, and the PMF of getting a tail is also 0.5.\n",
    "# A PDF, on the other hand, is a function that describes the probability distribution of a continuous random variable. It gives the relative\n",
    "# likelihood of the variable taking on a particular value. For example, the PDF of the height of adult males might be a normal distribution\n",
    "# with a mean of 5.8 feet and a standard deviation of 0.1 feet."
   ]
  },
  {
   "cell_type": "code",
   "execution_count": 2,
   "id": "2abbd35a-84fb-4cee-aaa0-ae2cda53e48a",
   "metadata": {},
   "outputs": [],
   "source": [
    "# Q2: What is Cumulative Density Function (CDF)? Explain with an example. Why CDF is used?\n",
    "# Ans 2: The Cumulative Density Function (CDF) is a function that gives the probability that a random variable X takes on a\n",
    "# value less than or equal to x. It is defined as P(X ≤ x).\n",
    "# For example, if we roll a six-sided die, the CDF of getting a number less than or equal to 4 is 4/6 or 0.67. The CDF is often used to \n",
    "# determine percentiles of a distribution, such as the median or quartiles.\n",
    "# CDF is used to describe the cumulative probability distribution of a random variable, and it helps in calculating the probability of a\n",
    "# certain range of values."
   ]
  },
  {
   "cell_type": "code",
   "execution_count": 3,
   "id": "23a98ddf-8ff6-47d2-87d0-c3a6c00606b8",
   "metadata": {},
   "outputs": [],
   "source": [
    "# Q3: What are some examples of situations where the normal distribution might be used as a model?\n",
    "# Explain how the parameters of the normal distribution relate to the shape of the distribution.\n",
    "# Ans 3: The normal distribution is used to model situations where the data follows a bell-shaped curve.\n",
    "# Examples include the heights of adult humans, the weights of objects produced by a manufacturing process, and IQ scores. \n",
    "# The parameters of the normal distribution are the mean (μ) and the standard deviation (σ), and they determine the location and spread of \n",
    "# the distribution, respectively. A normal distribution with a mean of zero and a standard deviation of one is called the\n",
    "# standard normal distribution."
   ]
  },
  {
   "cell_type": "code",
   "execution_count": 4,
   "id": "58af3b33-956e-4154-8c27-a18eb20ac921",
   "metadata": {},
   "outputs": [],
   "source": [
    "# Q4: Explain the importance of Normal Distribution. Give a few real-life examples of Normal\n",
    "# Distribution.\n",
    "# Ans 4 =The normal distribution is important because it is a widely used and well-understood probability distribution that appears\n",
    "# in many real-life situations. Some examples of real-life applications of the normal distribution include:\n",
    "# Modeling the heights of adult humans\n",
    "# Modeling the weights of objects produced by a manufacturing process\n",
    "# Modeling test scores on standardized tests like the SAT or ACT\n",
    "# Modeling the time taken for a computer to complete a task"
   ]
  },
  {
   "cell_type": "code",
   "execution_count": 1,
   "id": "92b7fd12-8506-4d84-9552-554de8705e0b",
   "metadata": {},
   "outputs": [],
   "source": [
    "# Q5: What is Bernaulli Distribution? Give an Example. What is the difference between Bernoulli\n",
    "# Distribution and Binomial Distribution?\n",
    "# Ans 5 =Bernoulli distribution is a discrete probability distribution that models a random experiment with only two possible outcomes,\n",
    "# usually labeled as \"success\" and \"failure.\" It is used to model situations where a single trial can result in one of two outcomes, such as flipping a coin or winning or losing a game. An example of the Bernoulli distribution is the probability of flipping a coin and getting heads, which has a probability of 0.5 if the coin is fair.\n",
    "# Binomial distribution, on the other hand, models the number of successes in a fixed number of independent trials,\n",
    "# each with a fixed probability of success. It is a generalization of the Bernoulli distribution. The difference between the Bernoulli \n",
    "# and Binomial distributions is that the Bernoulli distribution models a single trial with two possible outcomes, while the Binomial \n",
    "# distribution models multiple trials with two possible outcomes."
   ]
  },
  {
   "cell_type": "code",
   "execution_count": null,
   "id": "b2ad88d2-3a2e-49e5-979b-92f384cfa746",
   "metadata": {},
   "outputs": [],
   "source": [
    "# Q6. Consider a dataset with a mean of 50 and a standard deviation of 10. If we assume that the dataset\n",
    "# is normally distributed, what is the probability that a randomly selected observation will be greater\n",
    "# than 60? Use the appropriate formula and show your calculations.\n",
    "# Ans 6 To calculate the probability that a randomly selected observation will be greater than 60, we can use the standard normal distribution \n",
    "# table or the z-score formula. First, we need to calculate the z-score, which is the number of standard deviations that 60 is from \n",
    "# the mean:\n",
    "# z = (60 - 50) / 10 = 1\n",
    "# Using the standard normal distribution table, we can find that the probability of a z-score of 1 or greater is approximately 0.1587. \n",
    "# Therefore, the probability that a randomly selected observation will be greater than 60 is approximately 0.1587."
   ]
  },
  {
   "cell_type": "code",
   "execution_count": null,
   "id": "7ecd7d63-a1e8-4771-a4f2-22f3c48fd52d",
   "metadata": {},
   "outputs": [],
   "source": [
    "# Q7: Explain uniform Distribution with an example.\n",
    "# Ans7: The uniform distribution is a probability distribution where every possible value within a given range has an equal probability of \n",
    "# occurring. In other words, the probability density function (PDF) is constant over the range of possible values. An example of a \n",
    "# uniform distribution is rolling a fair six-sided die, where each number has an equal probability of occurring."
   ]
  },
  {
   "cell_type": "code",
   "execution_count": null,
   "id": "e35e3447-2fca-4803-ace5-72761ddbec40",
   "metadata": {},
   "outputs": [],
   "source": [
    "# Q8: What is the z score? State the importance of the z score.\n",
    "# Ans 8: The z-score, also known as the standard score, is a measure of how many standard deviations a data point is from the mean of a dataset.\n",
    "# The formula for calculating the z-score is:\n",
    "# z = (x - μ) / σ\n",
    "# where x is the value of the data point, μ is the mean of the dataset, and σ is the standard deviation of the dataset.\n",
    "# The z-score is important because it allows us to compare data points from different datasets that have different means and \n",
    "# standard deviations. By converting the data points to z-scores, we can compare how many standard deviations each data point is \n",
    "# from its respective mean. This is particularly useful in hypothesis testing and statistical analysis."
   ]
  },
  {
   "cell_type": "code",
   "execution_count": null,
   "id": "2d746391-7546-40e0-b208-0663fee8a031",
   "metadata": {},
   "outputs": [],
   "source": [
    "# Q9: What is Central Limit Theorem? State the significance of the Central Limit Theorem.\n",
    "# Ans 9 The Central Limit Theorem (CLT) is a fundamental concept in probability theory and statistics. It states that if you take a\n",
    "# large enough sample size from any population, the distribution of the sample means will approximate a normal distribution,\n",
    "# regardless of the shape of the population distribution. This is true even if the population distribution is not normal.\n",
    "# The significance of the Central Limit Theorem is that it provides a way to use the normal distribution to make inferences about \n",
    "# the population mean, even if the population distribution is not normal. It also provides a way to estimate the standard error of\n",
    "# the sample mean, which is an important concept in hypothesis testing and confidence intervals"
   ]
  },
  {
   "cell_type": "code",
   "execution_count": null,
   "id": "a439d970-15c5-49be-b9a4-9ffe90824668",
   "metadata": {},
   "outputs": [],
   "source": [
    "# Q10: State the assumptions of the Central Limit Theorem.\n",
    "# Ans 10:# The Central Limit Theorem has three main assumptions:\n",
    "# Independence: The samples must be independent of each other.\n",
    "# Sample Size: The sample size must be large enough to ensure that the sample mean is normally distributed, usually a \n",
    "# sample size of 30 or more is considered large enough.\n",
    "# Random Sampling: The samples must be randomly selected from the population, so that the samples are representative of the population."
   ]
  }
 ],
 "metadata": {
  "kernelspec": {
   "display_name": "Python 3 (ipykernel)",
   "language": "python",
   "name": "python3"
  },
  "language_info": {
   "codemirror_mode": {
    "name": "ipython",
    "version": 3
   },
   "file_extension": ".py",
   "mimetype": "text/x-python",
   "name": "python",
   "nbconvert_exporter": "python",
   "pygments_lexer": "ipython3",
   "version": "3.10.6"
  }
 },
 "nbformat": 4,
 "nbformat_minor": 5
}
