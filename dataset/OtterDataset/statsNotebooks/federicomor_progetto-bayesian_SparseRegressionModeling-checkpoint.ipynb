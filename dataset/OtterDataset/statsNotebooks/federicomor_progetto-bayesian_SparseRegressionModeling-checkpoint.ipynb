{
 "cells": [
  {
   "cell_type": "markdown",
   "id": "2d5eb73a-42aa-4f3e-886f-3eb9c84c59bc",
   "metadata": {},
   "source": [
    "## Group Members\n",
    "Federico Angelo Mor   \n",
    "Federica Rena   \n",
    "Giulia Mezzadri   \n",
    "Abylaikhan Orynbassar   \n",
    "Oswaldo Jesus Morales Lopez    \n",
    "Ettore Modina   "
   ]
  },
  {
   "cell_type": "markdown",
   "id": "2af5aebe",
   "metadata": {},
   "source": [
    "# Analyzing HIV Drug Resistance\n",
    "\n",
    "We consider the dataset data set publicly available from the Stanford [HIV Drug Resistance Database][1]\n",
    "\n",
    "<!-- References -->\n",
    "[1]: https://hivdb.stanford.edu/pages/published_analysis/genophenoPNAS2006/"
   ]
  },
  {
   "cell_type": "code",
   "execution_count": 1,
   "id": "3ee8c839",
   "metadata": {},
   "outputs": [],
   "source": [
    "# Import modules\n",
    "import arviz as az\n",
    "import matplotlib.pyplot as plt\n",
    "import numpy as np\n",
    "import os\n",
    "import pandas as pd\n",
    "import seaborn as sns\n",
    "\n",
    "# Import functions\n",
    "from cmdstanpy import CmdStanModel\n",
    "from scipy.optimize import fsolve\n",
    "from tensorflow_probability.substrates import numpy as tfp\n",
    "tfd = tfp.distributions\n",
    "\n",
    "# Create stan folder if does not exists\n",
    "if not os.path.exists(\"./stan\"):\n",
    "    os.mkdir(\"./stan\")"
   ]
  },
  {
   "cell_type": "code",
   "execution_count": 2,
   "id": "61bda93f",
   "metadata": {},
   "outputs": [
    {
     "data": {
      "text/html": [
       "<div>\n",
       "<style scoped>\n",
       "    .dataframe tbody tr th:only-of-type {\n",
       "        vertical-align: middle;\n",
       "    }\n",
       "\n",
       "    .dataframe tbody tr th {\n",
       "        vertical-align: top;\n",
       "    }\n",
       "\n",
       "    .dataframe thead th {\n",
       "        text-align: right;\n",
       "    }\n",
       "</style>\n",
       "<table border=\"1\" class=\"dataframe\">\n",
       "  <thead>\n",
       "    <tr style=\"text-align: right;\">\n",
       "      <th></th>\n",
       "      <th>APV</th>\n",
       "      <th>ATV</th>\n",
       "      <th>IDV</th>\n",
       "      <th>LPV</th>\n",
       "      <th>NFV</th>\n",
       "      <th>RTV</th>\n",
       "      <th>SQV</th>\n",
       "    </tr>\n",
       "  </thead>\n",
       "  <tbody>\n",
       "    <tr>\n",
       "      <th>1</th>\n",
       "      <td>2.3</td>\n",
       "      <td>NaN</td>\n",
       "      <td>32.7</td>\n",
       "      <td>NaN</td>\n",
       "      <td>23.4</td>\n",
       "      <td>51.6</td>\n",
       "      <td>37.8</td>\n",
       "    </tr>\n",
       "    <tr>\n",
       "      <th>2</th>\n",
       "      <td>76.0</td>\n",
       "      <td>NaN</td>\n",
       "      <td>131.0</td>\n",
       "      <td>200.0</td>\n",
       "      <td>50.0</td>\n",
       "      <td>200.0</td>\n",
       "      <td>156.0</td>\n",
       "    </tr>\n",
       "    <tr>\n",
       "      <th>3</th>\n",
       "      <td>2.8</td>\n",
       "      <td>NaN</td>\n",
       "      <td>12.0</td>\n",
       "      <td>NaN</td>\n",
       "      <td>100.0</td>\n",
       "      <td>41.0</td>\n",
       "      <td>145.6</td>\n",
       "    </tr>\n",
       "    <tr>\n",
       "      <th>4</th>\n",
       "      <td>6.5</td>\n",
       "      <td>9.2</td>\n",
       "      <td>2.1</td>\n",
       "      <td>5.3</td>\n",
       "      <td>5.0</td>\n",
       "      <td>36.0</td>\n",
       "      <td>13.0</td>\n",
       "    </tr>\n",
       "    <tr>\n",
       "      <th>5</th>\n",
       "      <td>8.3</td>\n",
       "      <td>NaN</td>\n",
       "      <td>100.0</td>\n",
       "      <td>NaN</td>\n",
       "      <td>161.1</td>\n",
       "      <td>170.2</td>\n",
       "      <td>100.0</td>\n",
       "    </tr>\n",
       "  </tbody>\n",
       "</table>\n",
       "</div>"
      ],
      "text/plain": [
       "    APV  ATV    IDV    LPV    NFV    RTV    SQV\n",
       "1   2.3  NaN   32.7    NaN   23.4   51.6   37.8\n",
       "2  76.0  NaN  131.0  200.0   50.0  200.0  156.0\n",
       "3   2.8  NaN   12.0    NaN  100.0   41.0  145.6\n",
       "4   6.5  9.2    2.1    5.3    5.0   36.0   13.0\n",
       "5   8.3  NaN  100.0    NaN  161.1  170.2  100.0"
      ]
     },
     "execution_count": 2,
     "metadata": {},
     "output_type": "execute_result"
    }
   ],
   "source": [
    "# Import responses\n",
    "Y_full = pd.read_csv(\"Y.csv\", index_col=0)\n",
    "Y_full.head()\n"
   ]
  },
  {
   "cell_type": "code",
   "execution_count": 3,
   "id": "03634d78-8c0e-4cda-b21e-fbb51365cd92",
   "metadata": {},
   "outputs": [
    {
     "name": "stdout",
     "output_type": "stream",
     "text": [
      "(846, 7)\n"
     ]
    }
   ],
   "source": [
    "print(Y_full.shape)"
   ]
  },
  {
   "cell_type": "code",
   "execution_count": 4,
   "id": "204a264a",
   "metadata": {},
   "outputs": [
    {
     "data": {
      "text/html": [
       "<div>\n",
       "<style scoped>\n",
       "    .dataframe tbody tr th:only-of-type {\n",
       "        vertical-align: middle;\n",
       "    }\n",
       "\n",
       "    .dataframe tbody tr th {\n",
       "        vertical-align: top;\n",
       "    }\n",
       "\n",
       "    .dataframe thead th {\n",
       "        text-align: right;\n",
       "    }\n",
       "</style>\n",
       "<table border=\"1\" class=\"dataframe\">\n",
       "  <thead>\n",
       "    <tr style=\"text-align: right;\">\n",
       "      <th></th>\n",
       "      <th>P4.A</th>\n",
       "      <th>P12.A</th>\n",
       "      <th>P13.A</th>\n",
       "      <th>P16.A</th>\n",
       "      <th>P20.A</th>\n",
       "      <th>P22.A</th>\n",
       "      <th>P28.A</th>\n",
       "      <th>P37.A</th>\n",
       "      <th>P51.A</th>\n",
       "      <th>P54.A</th>\n",
       "      <th>...</th>\n",
       "      <th>P16.Z</th>\n",
       "      <th>P18.Z</th>\n",
       "      <th>P19.Z</th>\n",
       "      <th>P34.Z</th>\n",
       "      <th>P37.Z</th>\n",
       "      <th>P61.Z</th>\n",
       "      <th>P72.Z</th>\n",
       "      <th>P79.Z</th>\n",
       "      <th>P83.Z</th>\n",
       "      <th>P92.Z</th>\n",
       "    </tr>\n",
       "  </thead>\n",
       "  <tbody>\n",
       "    <tr>\n",
       "      <th>1</th>\n",
       "      <td>0</td>\n",
       "      <td>0</td>\n",
       "      <td>0</td>\n",
       "      <td>0</td>\n",
       "      <td>0</td>\n",
       "      <td>0</td>\n",
       "      <td>0</td>\n",
       "      <td>0</td>\n",
       "      <td>0</td>\n",
       "      <td>0</td>\n",
       "      <td>...</td>\n",
       "      <td>0</td>\n",
       "      <td>0</td>\n",
       "      <td>0</td>\n",
       "      <td>0</td>\n",
       "      <td>0</td>\n",
       "      <td>0</td>\n",
       "      <td>0</td>\n",
       "      <td>0</td>\n",
       "      <td>0</td>\n",
       "      <td>0</td>\n",
       "    </tr>\n",
       "    <tr>\n",
       "      <th>2</th>\n",
       "      <td>0</td>\n",
       "      <td>0</td>\n",
       "      <td>0</td>\n",
       "      <td>1</td>\n",
       "      <td>0</td>\n",
       "      <td>0</td>\n",
       "      <td>0</td>\n",
       "      <td>0</td>\n",
       "      <td>0</td>\n",
       "      <td>0</td>\n",
       "      <td>...</td>\n",
       "      <td>0</td>\n",
       "      <td>0</td>\n",
       "      <td>0</td>\n",
       "      <td>0</td>\n",
       "      <td>0</td>\n",
       "      <td>0</td>\n",
       "      <td>0</td>\n",
       "      <td>0</td>\n",
       "      <td>0</td>\n",
       "      <td>0</td>\n",
       "    </tr>\n",
       "    <tr>\n",
       "      <th>3</th>\n",
       "      <td>0</td>\n",
       "      <td>0</td>\n",
       "      <td>0</td>\n",
       "      <td>0</td>\n",
       "      <td>0</td>\n",
       "      <td>0</td>\n",
       "      <td>0</td>\n",
       "      <td>0</td>\n",
       "      <td>0</td>\n",
       "      <td>0</td>\n",
       "      <td>...</td>\n",
       "      <td>0</td>\n",
       "      <td>0</td>\n",
       "      <td>0</td>\n",
       "      <td>0</td>\n",
       "      <td>0</td>\n",
       "      <td>0</td>\n",
       "      <td>0</td>\n",
       "      <td>0</td>\n",
       "      <td>0</td>\n",
       "      <td>0</td>\n",
       "    </tr>\n",
       "    <tr>\n",
       "      <th>4</th>\n",
       "      <td>0</td>\n",
       "      <td>0</td>\n",
       "      <td>0</td>\n",
       "      <td>0</td>\n",
       "      <td>0</td>\n",
       "      <td>0</td>\n",
       "      <td>0</td>\n",
       "      <td>0</td>\n",
       "      <td>0</td>\n",
       "      <td>0</td>\n",
       "      <td>...</td>\n",
       "      <td>0</td>\n",
       "      <td>0</td>\n",
       "      <td>0</td>\n",
       "      <td>0</td>\n",
       "      <td>0</td>\n",
       "      <td>0</td>\n",
       "      <td>0</td>\n",
       "      <td>0</td>\n",
       "      <td>0</td>\n",
       "      <td>0</td>\n",
       "    </tr>\n",
       "    <tr>\n",
       "      <th>5</th>\n",
       "      <td>0</td>\n",
       "      <td>0</td>\n",
       "      <td>0</td>\n",
       "      <td>0</td>\n",
       "      <td>0</td>\n",
       "      <td>0</td>\n",
       "      <td>0</td>\n",
       "      <td>0</td>\n",
       "      <td>0</td>\n",
       "      <td>0</td>\n",
       "      <td>...</td>\n",
       "      <td>0</td>\n",
       "      <td>0</td>\n",
       "      <td>0</td>\n",
       "      <td>0</td>\n",
       "      <td>0</td>\n",
       "      <td>0</td>\n",
       "      <td>0</td>\n",
       "      <td>0</td>\n",
       "      <td>0</td>\n",
       "      <td>0</td>\n",
       "    </tr>\n",
       "  </tbody>\n",
       "</table>\n",
       "<p>5 rows × 361 columns</p>\n",
       "</div>"
      ],
      "text/plain": [
       "   P4.A  P12.A  P13.A  P16.A  P20.A  P22.A  P28.A  P37.A  P51.A  P54.A  ...  \\\n",
       "1     0      0      0      0      0      0      0      0      0      0  ...   \n",
       "2     0      0      0      1      0      0      0      0      0      0  ...   \n",
       "3     0      0      0      0      0      0      0      0      0      0  ...   \n",
       "4     0      0      0      0      0      0      0      0      0      0  ...   \n",
       "5     0      0      0      0      0      0      0      0      0      0  ...   \n",
       "\n",
       "   P16.Z  P18.Z  P19.Z  P34.Z  P37.Z  P61.Z  P72.Z  P79.Z  P83.Z  P92.Z  \n",
       "1      0      0      0      0      0      0      0      0      0      0  \n",
       "2      0      0      0      0      0      0      0      0      0      0  \n",
       "3      0      0      0      0      0      0      0      0      0      0  \n",
       "4      0      0      0      0      0      0      0      0      0      0  \n",
       "5      0      0      0      0      0      0      0      0      0      0  \n",
       "\n",
       "[5 rows x 361 columns]"
      ]
     },
     "execution_count": 4,
     "metadata": {},
     "output_type": "execute_result"
    }
   ],
   "source": [
    "# Import covariates\n",
    "X = pd.read_csv(\"X.csv\", index_col=0)\n",
    "X.head()"
   ]
  },
  {
   "cell_type": "code",
   "execution_count": 5,
   "id": "6d7f7d30-25f7-46ff-bf9e-eb437a1145df",
   "metadata": {},
   "outputs": [
    {
     "name": "stdout",
     "output_type": "stream",
     "text": [
      "(846, 361)\n"
     ]
    }
   ],
   "source": [
    "print(X.shape)"
   ]
  },
  {
   "cell_type": "markdown",
   "id": "c40e5c33",
   "metadata": {},
   "source": [
    "The features (columns of $X$) are given by mutation/position pairs. Define \n",
    "\\begin{array}{ll}\n",
    "    X_{i,j} & \\text{1 if the $i$th patient has the $j$th mutation/position pair and 0 otherwise}, \\\\\n",
    "    Y_{i,k} & \\text{resistance of patient $i$ to drug $k$}.\n",
    "\\end{array}\n",
    "For example, in the dataset, three different mutations (A, C, and D) are observed at position 63 in the protease, and so three columns of $X$ (named P63.A, P63.C, and P63.D) indicate the presence or absence of each mutation at this position.\n",
    "\n",
    "For the moment, consider only the 1st drug, i.e. the first column of $Y$ let the response $y_i$ be a suitable transformation of such values."
   ]
  },
  {
   "cell_type": "markdown",
   "id": "74d8faff",
   "metadata": {},
   "source": [
    "## Select data and discard missing values"
   ]
  },
  {
   "cell_type": "code",
   "execution_count": 6,
   "id": "b1a382e6-06ef-4231-83a0-f85bbe5a0431",
   "metadata": {},
   "outputs": [],
   "source": [
    "# Check NaN\n",
    "nan_X = np.isnan(X)\n",
    "nan_X # no nan in X\n",
    "nan_Y = np.isnan(Y_full)\n",
    "nan_Y # no nan in Y_full\n",
    "\n",
    "# Save covariates names\n",
    "cov_X = X.columns.tolist()\n",
    "cov_X\n",
    "cov_Y = Y_full.columns.tolist()\n",
    "cov_Y\n",
    "\n",
    "# Get first column and discard NaNs from Y and X\n",
    "X = X.dropna()\n",
    "Y_wona = Y_full.dropna()\n",
    "Y = Y_wona[cov_Y[1]]"
   ]
  },
  {
   "cell_type": "code",
   "execution_count": 7,
   "id": "03ea4951-423f-44db-9577-a13c11469065",
   "metadata": {},
   "outputs": [
    {
     "data": {
      "image/png": "[encoded data removed]",
      "text/plain": [
       "<Figure size 640x480 with 1 Axes>"
      ]
     },
     "metadata": {},
     "output_type": "display_data"
    }
   ],
   "source": [
    "# Plot data\n",
    "plt.hist(Y, bins=30, color='blue', alpha=0.7)\n",
    "plt.title('Y column1, original')\n",
    "plt.show()"
   ]
  },
  {
   "cell_type": "code",
   "execution_count": 8,
   "id": "66c7407b-c5ce-4fbc-aa1b-877bf502c550",
   "metadata": {},
   "outputs": [
    {
     "data": {
      "image/png": "[encoded data removed]",
      "text/plain": [
       "<Figure size 640x480 with 1 Axes>"
      ]
     },
     "metadata": {},
     "output_type": "display_data"
    }
   ],
   "source": [
    "# Transform data\n",
    "Y = np.log(Y)\n",
    "plt.hist(Y, bins=30, color='blue', alpha=0.7)\n",
    "plt.title('Y column1, log-transformed')\n",
    "plt.show()"
   ]
  },
  {
   "cell_type": "markdown",
   "id": "0d3f3b2c",
   "metadata": {},
   "source": [
    "## Sparse regression priors\n",
    "$\\newcommand{\\iid}{\\stackrel{\\tiny\\mbox{iid}}{\\sim}}$\n",
    "We assume a linear model:\n",
    "\n",
    "$$\n",
    "    y_i = \\alpha + x_i^T \\beta + \\varepsilon_i, \\quad \\varepsilon_i \\iid \\mathcal{N}(0, \\sigma^2)\n",
    "$$\n",
    "\n",
    "and consider several possible prior specifications for $\\beta$\n",
    "\n",
    "1. Gaussian:\n",
    "   \\begin{equation*}\n",
    "       \\beta \\sim \\mathcal{N}(0, \\tau I) \\tag{1}\n",
    "   \\end{equation*}\n",
    "\n",
    "2. The Bayesian Lasso:\n",
    "    \\begin{equation*}\n",
    "        \\beta_j \\sim \\mathcal{DE}(0, \\tau) \\tag{2}\n",
    "    \\end{equation*}\n",
    "    where $\\mathcal{DE}$ denotes the Double Exponential or Laplace distribution. \n",
    "\n",
    "3. The spike-and-slab prior by [Ishwaran and Rao (2005)][1]:\n",
    "    \\begin{align*}\n",
    "        \\beta_j \\mid p_j & \\sim p_j \\mathcal{N}(0, \\tau_1) + (1 - p_j) \\mathcal{N}(0, \\tau_2) \\\\ \\tag{3}\n",
    "        p_j & \\sim \\text{Bern}(0.5)\n",
    "    \\end{align*}\n",
    "   Here $\\tau_1 \\ll \\tau_2$.\n",
    "\n",
    "4. The spike-and-slab Lasso:\n",
    "   \\begin{align*}\n",
    "       \\beta_j \\mid p_j &\\sim p_j \\mathcal{DE}(0, \\tau_1) + (1 - p_j) \\mathcal{DE}(0, \\tau_2) \\\\ \\tag{4}\n",
    "       p_j &\\sim \\text{Bern}(0.5)\n",
    "    \\end{align*}\n",
    "   Here $\\tau_1 \\ll \\tau_2$.\n",
    "\n",
    "5. The Horseshoe:\n",
    "    \\begin{align*}\n",
    "        \\beta_j \\mid \\lambda_j, \\tau & \\sim \\mathcal{N}(0, \\lambda_j^2 \\tau) \\\\ \\tag{5}\n",
    "        \\lambda_j &\\sim \\mathcal{HC}(0, 1)\n",
    "    \\end{align*}\n",
    "\n",
    "6. The finnish (or regularised) Horseshoe\n",
    "    \\begin{align*}\n",
    "        \\beta_j \\mid \\lambda_j, \\tau, c & \\sim \\mathcal{N}(0, \\widetilde \\lambda_j^2 \\tau), \\\\ \\tag{6}\n",
    "        \\widetilde \\lambda_j^2 &= \\frac{c^2\\lambda_j^2}{c^2 + \\tau^2 \\lambda_j^2} \\\\\n",
    "        \\lambda_j &\\sim \\mathcal{HC}(0, 1) \\\\\n",
    "        c & \\sim \\text{Inv-Gamma}(a, b)\n",
    "    \\end{align*}\n",
    "\n",
    "<!-- References -->\n",
    "[1]: https://projecteuclid.org/journals/annals-of-statistics/volume-33/issue-2/Spike-and-slab-variable-selection-Frequentist-and-Bayesian-strategies/10.1214/009053604000001147.full"
   ]
  },
  {
   "cell_type": "markdown",
   "id": "82ded1d9",
   "metadata": {},
   "source": [
    "## Exercise 1:\n",
    "\n",
    "1) Plot the marginal distribution of $\\beta_j$ under the different priors.\n",
    "   *Hint: if you cannot marginalize out latent variable analytically, you can use Monte Carlo simulation*.\n",
    "\n",
    "2) Remember the usual analogy between the penalized MLE (maximul log likelihood estimator) and the MAP (maximum a posteriori). In fact:\n",
    "   $$\n",
    "       \\log \\pi(\\beta \\mid \\mathbf{y}) \\propto \\sum_{i=1}^n \\ell(y_i \\mid \\beta) + \\log \\pi(\\beta)\n",
    "   $$\n",
    "   where $\\ell(y_i \\mid \\beta)$ it the log-likelihood for the $i$-th datum.  \n",
    "   Some priors can be seen as analogous to \"famous\" penalties in the frequentist literature. Can you recognize them?\n",
    "\n",
    "\n",
    "3) It is often useful to interpret the frequentist penalties in terms of the norm of the vector $\\beta$. For instance, for ridge regression the penalty is\n",
    "   $$\n",
    "       \\lambda \\|\\beta \\|_2^2\n",
    "   $$\n",
    "   Given a particular penalty, it is interesting to look at the \"unit ball\" of the corresponding norm when the dimension of $\\beta$ is equal to 2, i.e. plotting the set\n",
    "   $$\n",
    "       \\{ \\beta_1, \\beta_2 \\in \\mathbb R: \\|\\beta \\|_\\pi = 1 \\}\n",
    "   $$\n",
    "   where $\\| \\cdot \\|_\\pi$ is the norm associated to the prior / penalty in the regression.  \n",
    "   Approximating  the log density of $\\beta_j$ under the Horseshoe with the lower bound from [Carvalho et al (2010)][1] for \n",
    "   $$\n",
    "       \\log \\pi(\\beta_j \\mid \\tau) \\geq - \\log \\log \\left(1 + \\frac{2 \\tau^2}{\\beta_j^2} \\right)\n",
    "   $$\n",
    "   plot the unit-ball according to the penalties associated to priors $(1)$, $(2)$ and $(5)$.\n",
    "\n",
    "<!-- References -->\n",
    "[1]: https://www.jstor.org/stable/25734098"
   ]
  },
  {
   "cell_type": "markdown",
   "id": "a0d8e9e3-b907-44c2-acbc-a1f3fd24d6b6",
   "metadata": {},
   "source": [
    "### Solution"
   ]
  },
  {
   "cell_type": "markdown",
   "id": "982bfc8e-63a4-4566-84b4-c11f840186e3",
   "metadata": {},
   "source": [
    "**Plots - Marginal prior for $\\beta$**"
   ]
  },
  {
   "cell_type": "code",
   "execution_count": 4,
   "id": "d8cbc39f",
   "metadata": {},
   "outputs": [
    {
     "data": {
      "image/png": "[encoded data removed]",
      "text/plain": [
       "<Figure size 1500x1000 with 6 Axes>"
      ]
     },
     "metadata": {},
     "output_type": "display_data"
    }
   ],
   "source": [
    "# Common grid\n",
    "xgrid = np.linspace(-30, 30, 1000)\n",
    "\n",
    "# Figure\n",
    "fig, axes = plt.subplots(nrows=2, ncols=3, figsize=(15, 10))\n",
    "\n",
    "# Normal\n",
    "axes[0][0].set_title(\"Normal Prior\", fontsize=16)\n",
    "axes[0][0].set_ylim(0)\n",
    "\n",
    "# Laplace\n",
    "axes[1][0].set_title(\"Laplace Prior\", fontsize=16)\n",
    "axes[1][0].set_ylim(0)\n",
    "\n",
    "# Spike and Slab\n",
    "axes[0][1].set_title(\"Spike and Slab Prior\", fontsize=16)\n",
    "axes[0][1].set_ylim(0)\n",
    "\n",
    "# Spike and Slab Lasso\n",
    "axes[1][1].set_title(\"Lasso Spike and Slab Prior\", fontsize=16)\n",
    "axes[1][1].set_ylim(0)\n",
    "\n",
    "# Horseshoe\n",
    "axes[0][2].set_title(\"Horseshoe\", fontsize=16)\n",
    "axes[0][2].set_ylim(0)\n",
    "\n",
    "# Finnish Horseshoe\n",
    "axes[1][2].set_title(\"Finnish Horseshoe\", fontsize=16)\n",
    "axes[1][2].set_ylim(0)\n",
    "\n",
    "# Show\n",
    "plt.show()"
   ]
  },
  {
   "cell_type": "markdown",
   "id": "a5a2f35b-2597-4bd8-82ce-e3e2006fa638",
   "metadata": {},
   "source": [
    "**Known penalizations**\n",
    "\n",
    "| Prior | $-\\log\\pi(\\beta)$ | Penalized Regression | Unit Ball |\n",
    "| :-- | :-- | :-- | :-- |"
   ]
  },
  {
   "cell_type": "markdown",
   "id": "b15e73a8-40d3-4d41-b99a-e83f1289200f",
   "metadata": {},
   "source": [
    "**Plots - Unit Balls**"
   ]
  },
  {
   "cell_type": "code",
   "execution_count": 5,
   "id": "088908fe",
   "metadata": {},
   "outputs": [
    {
     "data": {
      "image/png": "[encoded data removed]",
      "text/plain": [
       "<Figure size 1500x500 with 3 Axes>"
      ]
     },
     "metadata": {},
     "output_type": "display_data"
    }
   ],
   "source": [
    "fig, axes = plt.subplots(nrows=1, ncols=3, figsize=(15, 5))\n",
    "\n",
    "# Normal\n",
    "x = np.linspace(-1, 1, 1000)\n",
    "axes[0].set_aspect('equal', 'box')\n",
    "axes[0].set_title(\"Normal\")\n",
    "\n",
    "# Laplace\n",
    "x = np.linspace(-1, 1, 1000)\n",
    "axes[1].set_aspect('equal', 'box')\n",
    "axes[1].set_title(\"Laplace\")\n",
    "\n",
    "# Horseshoe\n",
    "x = np.linspace(-5, 5, 1000)\n",
    "axes[2].set_aspect('equal', 'box')\n",
    "axes[2].set_title(\"Horseshoe\")\n",
    "\n",
    "# Show\n",
    "plt.show()"
   ]
  },
  {
   "cell_type": "markdown",
   "id": "48eacda4",
   "metadata": {},
   "source": [
    "# Exercise 2:\n",
    "\n",
    "1) Implement the different priors in Stan and run the MCMC algorithms on the dataset.\n",
    "   For priors $(1)$-$(2)$-$(5)$-$(6)$ add another level of hierarchy by assuming\n",
    "   $$\n",
    "       \\tau \\sim \\mathcal{HC}(0,1)\n",
    "   $$\n",
    "   for the spike-and-slab priors (3)-(4) select $\\tau_1$ such that $P(|\\beta_j| < 0.1) > 0.25$ and $\\tau_2$ such that $P(|\\beta_j| > 10) >  0.25$.  \n",
    "    *(Hint: $\\tiny \\mathbb{P}\\left(|\\beta_j| < 0.1 \\right) = \\mathbb{P}\\left(|\\beta_j| < 0.1 | p_j = 1\\right) \\mathbb{P}\\left(p_j = 1\\right) + \\mathbb{P}\\left(|\\beta_j| < 0.1 | p_j = 0\\right) \\mathbb{P}\\left(p_j = 0\\right) \\geq 0.5 \\mathbb{P}\\left(|\\beta_j| < 0.1 | p_j = 1\\right)$)*\n",
    "\n",
    "\n",
    "2) Comment on the different results obtained. Focus in particular on:\n",
    "    1. Which model gives the best predictive performance?\n",
    "    2. Are there some sampling difficulties specific to some models?"
   ]
  },
  {
   "cell_type": "code",
   "execution_count": 9,
   "id": "541170fc",
   "metadata": {},
   "outputs": [],
   "source": [
    "y = Y\n",
    "x = X\n",
    "# Data input for Stan\n",
    "reg_data = {\n",
    "    \"N\": len(y),\n",
    "    \"P\": X.shape[1],\n",
    "    \"y\": y,\n",
    "    \"X\": X,\n",
    "    \"sigma_alpha\": 100,\n",
    "    \"sigma_eps\": 0.1\n",
    "}"
   ]
  },
  {
   "cell_type": "markdown",
   "id": "7eb9e83c-a200-41d2-b202-1091eccc807a",
   "metadata": {},
   "source": [
    "**Normal Regression**"
   ]
  },
  {
   "cell_type": "code",
   "execution_count": 17,
   "id": "96d1ff7c",
   "metadata": {},
   "outputs": [
    {
     "ename": "SyntaxError",
     "evalue": "invalid syntax (2583397524.py, line 25)",
     "output_type": "error",
     "traceback": [
      "\u001b[1;36m  Cell \u001b[1;32mIn[17], line 25\u001b[1;36m\u001b[0m\n\u001b[1;33m    model1_normal =\u001b[0m\n\u001b[1;37m                   ^\u001b[0m\n\u001b[1;31mSyntaxError\u001b[0m\u001b[1;31m:\u001b[0m invalid syntax\n"
     ]
    }
   ],
   "source": [
    "# Your code goes here\n",
    "# model1_normal = \"\"\"\n",
    "# data {\n",
    "#     int<lower=0> N;\n",
    "#     int<lower=0> P;\n",
    "#     vector[N] y;\n",
    "#     matrix[N,P] x;\n",
    "#     real<lower=0> sigma_alpha;\n",
    "#     real<lower=0> sigma_eps;\n",
    "# }\n",
    "# parameters{\n",
    "#     vector[P] beta;\n",
    "#     real<lower=0> tau;\n",
    "#     real alpha;\n",
    "# }\n",
    "# model{\n",
    "#     // prior\n",
    "#     beta ~ normal(0,tau);\n",
    "#     tau ~ cauchy(0,1);\n",
    "#     alpha ~ normal(0,sigma_alpha);\n",
    "\n",
    "#     y ~ normal(alpha + x*beta,sigma_eps);\n",
    "# } \n",
    "# \"\"\"\n",
    "model1_normal =\"\"\"\n",
    "    data {\n",
    "        int<lower=0> dim;\n",
    "        matrix[dim, dim] cov_chol;\n",
    "    }\n",
    "    \n",
    "    parameters {\n",
    "        vector[dim] x;\n",
    "    }\n",
    "    \n",
    "    model {\n",
    "        vector[dim] mu = rep_vector(0, dim);\n",
    "        x ~ multi_normal_cholesky(mu, cov_chol);\n",
    "    }\n",
    "    \"\"\"\n",
    "\n",
    "# Write stan model to file\n",
    "stan_file = \"./stan/model1_normal.stan\"\n",
    "with open(stan_file, \"w\") as f:\n",
    "    print(model1_normal, file=f)\n",
    "    \n"
   ]
  },
  {
   "cell_type": "code",
   "execution_count": 11,
   "id": "6643f7d3-9854-485f-90e3-cfd510d7708a",
   "metadata": {},
   "outputs": [
    {
     "name": "stderr",
     "output_type": "stream",
     "text": [
      "09:53:47 - cmdstanpy - INFO - compiling stan file C:\\Users\\feder\\Desktop\\UNIMAG~1\\BAYESI~1\\LABSTA~1\\INTERA~1.2\\stan\\model1_normal.stan to exe file C:\\Users\\feder\\Desktop\\Uni magistrale\\Bayesian statistics\\Labs TA\\Interactive T.A. 2\\stan\\model1_normal.exe\n"
     ]
    },
    {
     "ename": "ValueError",
     "evalue": "Failed to compile Stan model 'C:\\Users\\feder\\Desktop\\Uni magistrale\\Bayesian statistics\\Labs TA\\Interactive T.A. 2\\stan\\model1_normal.stan'. Console:\n\"cut\" non Š riconosciuto come comando interno o esterno,\n un programma eseguibile o un file batch.\n\"cut\" non Š riconosciuto come comando interno o esterno,\n un programma eseguibile o un file batch.\nprocess_begin: CreateProcess(NULL, expr >= 8, ...) failed.\n''\n'--- Translating Stan model to C++ code ---'\nbin/stanc.exe --filename-in-msg=model1_normal.stan --o=C:/Users/feder/Desktop/UNIMAG~1/BAYESI~1/LABSTA~1/INTERA~1.2/stan/model1_normal.hpp C:/Users/feder/Desktop/UNIMAG~1/BAYESI~1/LABSTA~1/INTERA~1.2/stan/model1_normal.stan\n''\n'--- Compiling, linking C++ code ---'\ng++ -std=c++1y -m64 -D_REENTRANT -Wall -Wno-unused-function -Wno-uninitialized -Wno-unused-but-set-variable -Wno-unused-variable -Wno-sign-compare -Wno-unused-local-typedefs -Wno-int-in-bool-context -Wno-attributes -Wno-ignored-attributes      -I stan/lib/stan_math/lib/tbb_2020.3/include    -O3 -I src -I stan/src -I stan/lib/rapidjson_1.1.0/ -I lib/CLI11-1.9.1/ -I stan/lib/stan_math/ -I stan/lib/stan_math/lib/eigen_3.4.0 -I stan/lib/stan_math/lib/boost_1.78.0 -I stan/lib/stan_math/lib/sundials_6.1.1/include -I stan/lib/stan_math/lib/sundials_6.1.1/src/sundials  -D_USE_MATH_DEFINES  -DBOOST_DISABLE_ASSERTS          -c  -x c++ -o C:/Users/feder/Desktop/UNIMAG~1/BAYESI~1/LABSTA~1/INTERA~1.2/stan/model1_normal.o C:/Users/feder/Desktop/UNIMAG~1/BAYESI~1/LABSTA~1/INTERA~1.2/stan/model1_normal.hpp\ng++ -std=c++1y -m64 -D_REENTRANT -Wall -Wno-unused-function -Wno-uninitialized -Wno-unused-but-set-variable -Wno-unused-variable -Wno-sign-compare -Wno-unused-local-typedefs -Wno-int-in-bool-context -Wno-attributes -Wno-ignored-attributes      -I stan/lib/stan_math/lib/tbb_2020.3/include    -O3 -I src -I stan/src -I stan/lib/rapidjson_1.1.0/ -I lib/CLI11-1.9.1/ -I stan/lib/stan_math/ -I stan/lib/stan_math/lib/eigen_3.4.0 -I stan/lib/stan_math/lib/boost_1.78.0 -I stan/lib/stan_math/lib/sundials_6.1.1/include -I stan/lib/stan_math/lib/sundials_6.1.1/src/sundials  -D_USE_MATH_DEFINES  -DBOOST_DISABLE_ASSERTS               -Wl,-L,\"C:/Users/feder/.cmdstan/cmdstan-2.33.1/stan/lib/stan_math/lib/tbb\" -Wl,-rpath,\"C:/Users/feder/.cmdstan/cmdstan-2.33.1/stan/lib/stan_math/lib/tbb\"        C:/Users/feder/Desktop/UNIMAG~1/BAYESI~1/LABSTA~1/INTERA~1.2/stan/model1_normal.o src/cmdstan/main.o  -static-libgcc -static-libstdc++     -Wl,-L,\"C:/Users/feder/.cmdstan/cmdstan-2.33.1/stan/lib/stan_math/lib/tbb\" -Wl,-rpath,\"C:/Users/feder/.cmdstan/cmdstan-2.33.1/stan/lib/stan_math/lib/tbb\"     stan/lib/stan_math/lib/sundials_6.1.1/lib/libsundials_nvecserial.a stan/lib/stan_math/lib/sundials_6.1.1/lib/libsundials_cvodes.a stan/lib/stan_math/lib/sundials_6.1.1/lib/libsundials_idas.a stan/lib/stan_math/lib/sundials_6.1.1/lib/libsundials_kinsol.a  stan/lib/stan_math/lib/tbb/tbb.dll -o C:/Users/feder/Desktop/UNIMAG~1/BAYESI~1/LABSTA~1/INTERA~1.2/stan/model1_normal.exe\nrm -f C:/Users/feder/Desktop/UNIMAG~1/BAYESI~1/LABSTA~1/INTERA~1.2/stan/model1_normal.o\nmake/program:56: recipe for target 'C:/Users/feder/Desktop/UNIMAG~1/BAYESI~1/LABSTA~1/INTERA~1.2/stan/model1_normal.exe' failed\nprocess_begin: CreateProcess(NULL, rm -f C:/Users/feder/Desktop/UNIMAG~1/BAYESI~1/LABSTA~1/INTERA~1.2/stan/model1_normal.o, ...) failed.\nmake (e=2): Impossibile trovare il file specificato.\n\nmingw32-make: *** [C:/Users/feder/Desktop/UNIMAG~1/BAYESI~1/LABSTA~1/INTERA~1.2/stan/model1_normal.exe] Error 2\n\nCommand ['mingw32-make', 'STANCFLAGS+=--filename-in-msg=model1_normal.stan', 'C:/Users/feder/Desktop/UNIMAG~1/BAYESI~1/LABSTA~1/INTERA~1.2/stan/model1_normal.exe']\n\terror during processing No such file or directory\n",
     "output_type": "error",
     "traceback": [
      "\u001b[1;31m---------------------------------------------------------------------------\u001b[0m",
      "\u001b[1;31mValueError\u001b[0m                                Traceback (most recent call last)",
      "Cell \u001b[1;32mIn[11], line 2\u001b[0m\n\u001b[0;32m      1\u001b[0m \u001b[38;5;66;03m# Compile stan model\u001b[39;00m\n\u001b[1;32m----> 2\u001b[0m model1_normal \u001b[38;5;241m=\u001b[39m \u001b[43mCmdStanModel\u001b[49m\u001b[43m(\u001b[49m\u001b[43mstan_file\u001b[49m\u001b[38;5;241;43m=\u001b[39;49m\u001b[43mstan_file\u001b[49m\u001b[43m)\u001b[49m\n",
      "File \u001b[1;32m~\\AppData\\Local\\Programs\\Python\\Python39\\lib\\site-packages\\cmdstanpy\\model.py:252\u001b[0m, in \u001b[0;36mCmdStanModel.__init__\u001b[1;34m(self, model_name, stan_file, exe_file, force_compile, stanc_options, cpp_options, user_header, compile)\u001b[0m\n\u001b[0;32m    249\u001b[0m         get_logger()\u001b[38;5;241m.\u001b[39mdebug(\u001b[38;5;124m\"\u001b[39m\u001b[38;5;124mTBB already found in load path\u001b[39m\u001b[38;5;124m\"\u001b[39m)\n\u001b[0;32m    251\u001b[0m \u001b[38;5;28;01mif\u001b[39;00m \u001b[38;5;28mcompile\u001b[39m \u001b[38;5;129;01mand\u001b[39;00m \u001b[38;5;28mself\u001b[39m\u001b[38;5;241m.\u001b[39m_exe_file \u001b[38;5;129;01mis\u001b[39;00m \u001b[38;5;28;01mNone\u001b[39;00m:\n\u001b[1;32m--> 252\u001b[0m     \u001b[38;5;28;43mself\u001b[39;49m\u001b[38;5;241;43m.\u001b[39;49m\u001b[43mcompile\u001b[49m\u001b[43m(\u001b[49m\u001b[43mforce\u001b[49m\u001b[38;5;241;43m=\u001b[39;49m\u001b[38;5;28;43mstr\u001b[39;49m\u001b[43m(\u001b[49m\u001b[38;5;28;43mcompile\u001b[39;49m\u001b[43m)\u001b[49m\u001b[38;5;241;43m.\u001b[39;49m\u001b[43mlower\u001b[49m\u001b[43m(\u001b[49m\u001b[43m)\u001b[49m\u001b[43m \u001b[49m\u001b[38;5;241;43m==\u001b[39;49m\u001b[43m \u001b[49m\u001b[38;5;124;43m'\u001b[39;49m\u001b[38;5;124;43mforce\u001b[39;49m\u001b[38;5;124;43m'\u001b[39;49m\u001b[43m,\u001b[49m\u001b[43m \u001b[49m\u001b[43m_internal\u001b[49m\u001b[38;5;241;43m=\u001b[39;49m\u001b[38;5;28;43;01mTrue\u001b[39;49;00m\u001b[43m)\u001b[49m\n",
      "File \u001b[1;32m~\\AppData\\Local\\Programs\\Python\\Python39\\lib\\site-packages\\cmdstanpy\\model.py:502\u001b[0m, in \u001b[0;36mCmdStanModel.compile\u001b[1;34m(self, force, stanc_options, cpp_options, user_header, override_options, _internal)\u001b[0m\n\u001b[0;32m    499\u001b[0m         \u001b[38;5;28;01melse\u001b[39;00m:\n\u001b[0;32m    500\u001b[0m             \u001b[38;5;28mself\u001b[39m\u001b[38;5;241m.\u001b[39m_compiler_options\u001b[38;5;241m.\u001b[39madd(compiler_options)\n\u001b[1;32m--> 502\u001b[0m \u001b[38;5;28mself\u001b[39m\u001b[38;5;241m.\u001b[39m_exe_file \u001b[38;5;241m=\u001b[39m \u001b[43mcompilation\u001b[49m\u001b[38;5;241;43m.\u001b[39;49m\u001b[43mcompile_stan_file\u001b[49m\u001b[43m(\u001b[49m\n\u001b[0;32m    503\u001b[0m \u001b[43m    \u001b[49m\u001b[38;5;28;43mstr\u001b[39;49m\u001b[43m(\u001b[49m\u001b[38;5;28;43mself\u001b[39;49m\u001b[38;5;241;43m.\u001b[39;49m\u001b[43mstan_file\u001b[49m\u001b[43m)\u001b[49m\u001b[43m,\u001b[49m\n\u001b[0;32m    504\u001b[0m \u001b[43m    \u001b[49m\u001b[43mforce\u001b[49m\u001b[38;5;241;43m=\u001b[39;49m\u001b[43mforce\u001b[49m\u001b[43m,\u001b[49m\n\u001b[0;32m    505\u001b[0m \u001b[43m    \u001b[49m\u001b[43mstanc_options\u001b[49m\u001b[38;5;241;43m=\u001b[39;49m\u001b[38;5;28;43mself\u001b[39;49m\u001b[38;5;241;43m.\u001b[39;49m\u001b[43m_compiler_options\u001b[49m\u001b[38;5;241;43m.\u001b[39;49m\u001b[43mstanc_options\u001b[49m\u001b[43m,\u001b[49m\n\u001b[0;32m    506\u001b[0m \u001b[43m    \u001b[49m\u001b[43mcpp_options\u001b[49m\u001b[38;5;241;43m=\u001b[39;49m\u001b[38;5;28;43mself\u001b[39;49m\u001b[38;5;241;43m.\u001b[39;49m\u001b[43m_compiler_options\u001b[49m\u001b[38;5;241;43m.\u001b[39;49m\u001b[43mcpp_options\u001b[49m\u001b[43m,\u001b[49m\n\u001b[0;32m    507\u001b[0m \u001b[43m    \u001b[49m\u001b[43muser_header\u001b[49m\u001b[38;5;241;43m=\u001b[39;49m\u001b[38;5;28;43mself\u001b[39;49m\u001b[38;5;241;43m.\u001b[39;49m\u001b[43m_compiler_options\u001b[49m\u001b[38;5;241;43m.\u001b[39;49m\u001b[43muser_header\u001b[49m\u001b[43m,\u001b[49m\n\u001b[0;32m    508\u001b[0m \u001b[43m\u001b[49m\u001b[43m)\u001b[49m\n",
      "File \u001b[1;32m~\\AppData\\Local\\Programs\\Python\\Python39\\lib\\site-packages\\cmdstanpy\\compilation.py:475\u001b[0m, in \u001b[0;36mcompile_stan_file\u001b[1;34m(src, force, stanc_options, cpp_options, user_header)\u001b[0m\n\u001b[0;32m    468\u001b[0m     \u001b[38;5;28;01mif\u001b[39;00m \u001b[38;5;124m'\u001b[39m\u001b[38;5;124mPCH\u001b[39m\u001b[38;5;124m'\u001b[39m \u001b[38;5;129;01min\u001b[39;00m console \u001b[38;5;129;01mor\u001b[39;00m \u001b[38;5;124m'\u001b[39m\u001b[38;5;124mprecompiled header\u001b[39m\u001b[38;5;124m'\u001b[39m \u001b[38;5;129;01min\u001b[39;00m console:\n\u001b[0;32m    469\u001b[0m         get_logger()\u001b[38;5;241m.\u001b[39mwarning(\n\u001b[0;32m    470\u001b[0m             \u001b[38;5;124m\"\u001b[39m\u001b[38;5;124mCmdStan\u001b[39m\u001b[38;5;124m'\u001b[39m\u001b[38;5;124ms precompiled header (PCH) files \u001b[39m\u001b[38;5;124m\"\u001b[39m\n\u001b[0;32m    471\u001b[0m             \u001b[38;5;124m\"\u001b[39m\u001b[38;5;124mmay need to be rebuilt.\u001b[39m\u001b[38;5;124m\"\u001b[39m\n\u001b[0;32m    472\u001b[0m             \u001b[38;5;124m\"\u001b[39m\u001b[38;5;124mPlease run cmdstanpy.rebuild_cmdstan().\u001b[39m\u001b[38;5;130;01m\\n\u001b[39;00m\u001b[38;5;124m\"\u001b[39m\n\u001b[0;32m    473\u001b[0m             \u001b[38;5;124m\"\u001b[39m\u001b[38;5;124mIf the issue persists please open a bug report\u001b[39m\u001b[38;5;124m\"\u001b[39m\n\u001b[0;32m    474\u001b[0m         )\n\u001b[1;32m--> 475\u001b[0m     \u001b[38;5;28;01mraise\u001b[39;00m \u001b[38;5;167;01mValueError\u001b[39;00m(\n\u001b[0;32m    476\u001b[0m         \u001b[38;5;124mf\u001b[39m\u001b[38;5;124m\"\u001b[39m\u001b[38;5;124mFailed to compile Stan model \u001b[39m\u001b[38;5;124m'\u001b[39m\u001b[38;5;132;01m{\u001b[39;00msrc\u001b[38;5;132;01m}\u001b[39;00m\u001b[38;5;124m'\u001b[39m\u001b[38;5;124m. \u001b[39m\u001b[38;5;124m\"\u001b[39m \u001b[38;5;124mf\u001b[39m\u001b[38;5;124m\"\u001b[39m\u001b[38;5;124mConsole:\u001b[39m\u001b[38;5;130;01m\\n\u001b[39;00m\u001b[38;5;132;01m{\u001b[39;00mconsole\u001b[38;5;132;01m}\u001b[39;00m\u001b[38;5;124m\"\u001b[39m\n\u001b[0;32m    477\u001b[0m     )\n\u001b[0;32m    478\u001b[0m \u001b[38;5;28;01mreturn\u001b[39;00m \u001b[38;5;28mstr\u001b[39m(exe_target)\n",
      "\u001b[1;31mValueError\u001b[0m: Failed to compile Stan model 'C:\\Users\\feder\\Desktop\\Uni magistrale\\Bayesian statistics\\Labs TA\\Interactive T.A. 2\\stan\\model1_normal.stan'. Console:\n\"cut\" non Š riconosciuto come comando interno o esterno,\n un programma eseguibile o un file batch.\n\"cut\" non Š riconosciuto come comando interno o esterno,\n un programma eseguibile o un file batch.\nprocess_begin: CreateProcess(NULL, expr >= 8, ...) failed.\n''\n'--- Translating Stan model to C++ code ---'\nbin/stanc.exe --filename-in-msg=model1_normal.stan --o=C:/Users/feder/Desktop/UNIMAG~1/BAYESI~1/LABSTA~1/INTERA~1.2/stan/model1_normal.hpp C:/Users/feder/Desktop/UNIMAG~1/BAYESI~1/LABSTA~1/INTERA~1.2/stan/model1_normal.stan\n''\n'--- Compiling, linking C++ code ---'\ng++ -std=c++1y -m64 -D_REENTRANT -Wall -Wno-unused-function -Wno-uninitialized -Wno-unused-but-set-variable -Wno-unused-variable -Wno-sign-compare -Wno-unused-local-typedefs -Wno-int-in-bool-context -Wno-attributes -Wno-ignored-attributes      -I stan/lib/stan_math/lib/tbb_2020.3/include    -O3 -I src -I stan/src -I stan/lib/rapidjson_1.1.0/ -I lib/CLI11-1.9.1/ -I stan/lib/stan_math/ -I stan/lib/stan_math/lib/eigen_3.4.0 -I stan/lib/stan_math/lib/boost_1.78.0 -I stan/lib/stan_math/lib/sundials_6.1.1/include -I stan/lib/stan_math/lib/sundials_6.1.1/src/sundials  -D_USE_MATH_DEFINES  -DBOOST_DISABLE_ASSERTS          -c  -x c++ -o C:/Users/feder/Desktop/UNIMAG~1/BAYESI~1/LABSTA~1/INTERA~1.2/stan/model1_normal.o C:/Users/feder/Desktop/UNIMAG~1/BAYESI~1/LABSTA~1/INTERA~1.2/stan/model1_normal.hpp\ng++ -std=c++1y -m64 -D_REENTRANT -Wall -Wno-unused-function -Wno-uninitialized -Wno-unused-but-set-variable -Wno-unused-variable -Wno-sign-compare -Wno-unused-local-typedefs -Wno-int-in-bool-context -Wno-attributes -Wno-ignored-attributes      -I stan/lib/stan_math/lib/tbb_2020.3/include    -O3 -I src -I stan/src -I stan/lib/rapidjson_1.1.0/ -I lib/CLI11-1.9.1/ -I stan/lib/stan_math/ -I stan/lib/stan_math/lib/eigen_3.4.0 -I stan/lib/stan_math/lib/boost_1.78.0 -I stan/lib/stan_math/lib/sundials_6.1.1/include -I stan/lib/stan_math/lib/sundials_6.1.1/src/sundials  -D_USE_MATH_DEFINES  -DBOOST_DISABLE_ASSERTS               -Wl,-L,\"C:/Users/feder/.cmdstan/cmdstan-2.33.1/stan/lib/stan_math/lib/tbb\" -Wl,-rpath,\"C:/Users/feder/.cmdstan/cmdstan-2.33.1/stan/lib/stan_math/lib/tbb\"        C:/Users/feder/Desktop/UNIMAG~1/BAYESI~1/LABSTA~1/INTERA~1.2/stan/model1_normal.o src/cmdstan/main.o  -static-libgcc -static-libstdc++     -Wl,-L,\"C:/Users/feder/.cmdstan/cmdstan-2.33.1/stan/lib/stan_math/lib/tbb\" -Wl,-rpath,\"C:/Users/feder/.cmdstan/cmdstan-2.33.1/stan/lib/stan_math/lib/tbb\"     stan/lib/stan_math/lib/sundials_6.1.1/lib/libsundials_nvecserial.a stan/lib/stan_math/lib/sundials_6.1.1/lib/libsundials_cvodes.a stan/lib/stan_math/lib/sundials_6.1.1/lib/libsundials_idas.a stan/lib/stan_math/lib/sundials_6.1.1/lib/libsundials_kinsol.a  stan/lib/stan_math/lib/tbb/tbb.dll -o C:/Users/feder/Desktop/UNIMAG~1/BAYESI~1/LABSTA~1/INTERA~1.2/stan/model1_normal.exe\nrm -f C:/Users/feder/Desktop/UNIMAG~1/BAYESI~1/LABSTA~1/INTERA~1.2/stan/model1_normal.o\nmake/program:56: recipe for target 'C:/Users/feder/Desktop/UNIMAG~1/BAYESI~1/LABSTA~1/INTERA~1.2/stan/model1_normal.exe' failed\nprocess_begin: CreateProcess(NULL, rm -f C:/Users/feder/Desktop/UNIMAG~1/BAYESI~1/LABSTA~1/INTERA~1.2/stan/model1_normal.o, ...) failed.\nmake (e=2): Impossibile trovare il file specificato.\n\nmingw32-make: *** [C:/Users/feder/Desktop/UNIMAG~1/BAYESI~1/LABSTA~1/INTERA~1.2/stan/model1_normal.exe] Error 2\n\nCommand ['mingw32-make', 'STANCFLAGS+=--filename-in-msg=model1_normal.stan', 'C:/Users/feder/Desktop/UNIMAG~1/BAYESI~1/LABSTA~1/INTERA~1.2/stan/model1_normal.exe']\n\terror during processing No such file or directory\n"
     ]
    }
   ],
   "source": [
    "# Compile stan model\n",
    "model1_normal = CmdStanModel(stan_file=stan_file)"
   ]
  },
  {
   "cell_type": "code",
   "execution_count": 15,
   "id": "8ca0bf8e",
   "metadata": {},
   "outputs": [
    {
     "name": "stdout",
     "output_type": "stream",
     "text": [
      " Il volume nell'unit… C Š Acer\n",
      " Numero di serie del volume: FCFA-0628\n",
      "\n",
      " Directory di C:\\Users\\feder\\Desktop\\Uni magistrale\\Bayesian statistics\\Labs TA\\Interactive T.A. 2\\stan\n",
      "\n",
      "ven 17/11/23  09:54    <DIR>          .\n",
      "ven 17/11/23  09:54    <DIR>          ..\n",
      "ven 17/11/23  09:54         6.313.908 model1_normal.exe\n",
      "ven 17/11/23  09:53            24.632 model1_normal.hpp\n",
      "ven 17/11/23  09:54           715.592 model1_normal.o\n",
      "ven 17/11/23  09:53               393 model1_normal.stan\n",
      "ven 17/11/23  09:37                 0 model1-normal.stan\n",
      "               5 File      7.054.525 byte\n",
      "               2 Directory  187.205.390.336 byte disponibili\n"
     ]
    }
   ],
   "source": [
    "# Run MCMC and retrieve chains\n",
    "%pwd\n",
    "%ls stan"
   ]
  },
  {
   "cell_type": "code",
   "execution_count": null,
   "id": "a538df90",
   "metadata": {},
   "outputs": [],
   "source": [
    "# Traceplots"
   ]
  },
  {
   "cell_type": "markdown",
   "id": "e1ff2231-5a2c-4bf5-9d9a-e5be755872b0",
   "metadata": {},
   "source": [
    "**Laplace Regression**"
   ]
  },
  {
   "cell_type": "code",
   "execution_count": null,
   "id": "e469a8cd",
   "metadata": {},
   "outputs": [],
   "source": [
    "# Your code goes here\n",
    "# Write stan model to file\n",
    "# Compile stan model"
   ]
  },
  {
   "cell_type": "code",
   "execution_count": null,
   "id": "d01f4361-c335-4dbe-9a8f-880ac1765797",
   "metadata": {},
   "outputs": [],
   "source": [
    "# Run MCMC and retrieve chains"
   ]
  },
  {
   "cell_type": "code",
   "execution_count": null,
   "id": "c6e6aa3a-f3ac-4f35-ae92-55c8c1918044",
   "metadata": {},
   "outputs": [],
   "source": [
    "# Traceplots"
   ]
  },
  {
   "cell_type": "markdown",
   "id": "8fa5d806-654f-4e0c-beda-9e04a41ba229",
   "metadata": {},
   "source": [
    "**Spike and Slab Regression**"
   ]
  },
  {
   "cell_type": "code",
   "execution_count": null,
   "id": "6efc604c-3a68-41a7-8789-b7f5d8b1444d",
   "metadata": {},
   "outputs": [],
   "source": [
    "# Your code goes here\n",
    "# Write stan model to file\n",
    "# Compile stan model"
   ]
  },
  {
   "cell_type": "code",
   "execution_count": null,
   "id": "2f53bb73-9d1a-4d28-adfb-b5886ff543d4",
   "metadata": {},
   "outputs": [],
   "source": [
    "# Run MCMC and retrieve chains"
   ]
  },
  {
   "cell_type": "code",
   "execution_count": null,
   "id": "152de9d0-0ca5-4aaf-b134-1a85272bf9ad",
   "metadata": {},
   "outputs": [],
   "source": [
    "# Traceplots"
   ]
  },
  {
   "cell_type": "markdown",
   "id": "bec1c676-092f-442b-a7fb-30f11db3d89a",
   "metadata": {},
   "source": [
    "**Spike and Slab Lasso Regression**"
   ]
  },
  {
   "cell_type": "code",
   "execution_count": null,
   "id": "03586d0f-9a03-478b-aada-6470671f5ee0",
   "metadata": {},
   "outputs": [],
   "source": [
    "# Your code goes here\n",
    "# Write stan model to file\n",
    "# Compile stan model"
   ]
  },
  {
   "cell_type": "code",
   "execution_count": null,
   "id": "364986ab-d49c-4176-98fe-56796f1087e7",
   "metadata": {},
   "outputs": [],
   "source": [
    "# Run MCMC and retrieve chains"
   ]
  },
  {
   "cell_type": "code",
   "execution_count": null,
   "id": "6bf1053b-b1ef-448c-adb7-8ca2fbf4391e",
   "metadata": {},
   "outputs": [],
   "source": [
    "# Traceplots"
   ]
  },
  {
   "cell_type": "markdown",
   "id": "8f1aa929-f2c0-4a5c-a8bd-aa43c43e4b4b",
   "metadata": {},
   "source": [
    "**Horseshoe Regression**"
   ]
  },
  {
   "cell_type": "code",
   "execution_count": null,
   "id": "216df87a-f449-4b8d-9e80-61ffc4d7acdd",
   "metadata": {},
   "outputs": [],
   "source": [
    "# Your code goes here\n",
    "# Write stan model to file\n",
    "# Compile stan model"
   ]
  },
  {
   "cell_type": "code",
   "execution_count": null,
   "id": "61cf42ea-e017-4faa-b80c-4c694ff7db32",
   "metadata": {},
   "outputs": [],
   "source": [
    "# Run MCMC and retrieve chains"
   ]
  },
  {
   "cell_type": "code",
   "execution_count": null,
   "id": "89867bbb-aa7d-4798-966d-49e9f9701b2f",
   "metadata": {},
   "outputs": [],
   "source": [
    "# Traceplots"
   ]
  },
  {
   "cell_type": "markdown",
   "id": "90f38d71-96d8-4a3e-9ac3-cb1008356e90",
   "metadata": {},
   "source": [
    "**Finnish Horseshoe Regression**"
   ]
  },
  {
   "cell_type": "code",
   "execution_count": null,
   "id": "9a1b8808-0d6b-48ca-8a98-d6f6799d650f",
   "metadata": {},
   "outputs": [],
   "source": [
    "# Your code goes here\n",
    "# Write stan model to file\n",
    "# Compile stan model"
   ]
  },
  {
   "cell_type": "code",
   "execution_count": null,
   "id": "3b10b0e7-134e-4b97-a83f-67ef4d364138",
   "metadata": {},
   "outputs": [],
   "source": [
    "# Run MCMC and retrieve chains"
   ]
  },
  {
   "cell_type": "code",
   "execution_count": null,
   "id": "b681cbb5-5dd1-4117-8a59-356921f6fb6e",
   "metadata": {},
   "outputs": [],
   "source": [
    "# Traceplots"
   ]
  },
  {
   "cell_type": "markdown",
   "id": "7b01d0e8-63e6-492f-8dde-cd1242bdad0d",
   "metadata": {},
   "source": [
    "**Model Comparison**"
   ]
  },
  {
   "cell_type": "code",
   "execution_count": null,
   "id": "fe1bd728",
   "metadata": {},
   "outputs": [],
   "source": [
    "# Model dictionary\n",
    "models = {\n",
    "    \"Normal\": chains_normal,\n",
    "    \"Laplace\": chains_laplace,\n",
    "    \"Spike & Slab\": chains_spike_slab,\n",
    "    \"Spike & Slab Lasso\": chains_spike_slab_lasso,\n",
    "    \"Horseshoe\": chains_horseshoe,\n",
    "    \"Finnish Horseshow\": chains_finnish_horseshoe\n",
    "}\n",
    "\n",
    "# Compare models via arviz"
   ]
  },
  {
   "cell_type": "markdown",
   "id": "57eabb4e-0b0e-4abc-8ac2-e446a0dcd328",
   "metadata": {},
   "source": [
    "**Comments**:"
   ]
  },
  {
   "cell_type": "markdown",
   "id": "cd10e202",
   "metadata": {},
   "source": [
    "## Exercise 3: Variable Selection\n",
    "\n",
    "Given that all the priors are absolutely continuous, $\\mathbb{P}(\\beta_j = 0 \\mid \\mathbf{y}) = 0$ for all $j$.  \n",
    "Hence we propose to perform variable selection using hard-shrinkages: we keep only the variables whose 95% posterior credible interval does not contain zero.\n",
    "\n",
    "1) Implement the hard-shrinkage criterion (to get the posterior credible interval, you can use the `arviz.hdi` function)\n",
    "\n",
    "2) Which variables are selected from the different models? Do they agree?"
   ]
  },
  {
   "cell_type": "markdown",
   "id": "963a00c4-a9cc-4202-87aa-5b8a15227979",
   "metadata": {},
   "source": [
    "### Solution"
   ]
  },
  {
   "cell_type": "code",
   "execution_count": null,
   "id": "3cffc4d3-ad07-4df7-a64a-0706786a9045",
   "metadata": {},
   "outputs": [],
   "source": [
    "# Your code goes here"
   ]
  },
  {
   "cell_type": "markdown",
   "id": "6d0cd319-85be-43d2-a23d-a83e1b65322d",
   "metadata": {},
   "source": [
    "**Comments**:"
   ]
  },
  {
   "cell_type": "markdown",
   "id": "8c048a2a",
   "metadata": {},
   "source": [
    "# Exercise 4: take me to the hierarchy-land\n",
    "\n",
    "\n",
    "We move on to considering the dataset with all the responses. By considering a multiple-linear model we assume\n",
    "\n",
    "$$\n",
    "    y_{ik} = \\alpha + x_i^T \\beta_k + \\varepsilon_{ik}, \\quad \\varepsilon_{ik} \\iid \\mathcal{N}(0, \\sigma^2_k)\n",
    "$$\n",
    "\n",
    "where $i$ is the index of the patient and $k$ is the index of the drug.\n",
    "\n",
    "Of course, different models (one for each $k$) could be fitted independently, but a smarter alternative would be to model everithing jointly using a hierarchical model.\n",
    "\n",
    "Let $\\beta_k = (\\beta_{k, 1}, \\ldots, \\beta_{k, p})$. We want to encourage a priori the following idea: if a variable (genetic mutation) is responsible for an increase (resp decrease) of the resistance to drug $k$, it is likely that il will be responsible for the resistance to other drugs as well.\n",
    "\n",
    "Statistically, this means that if $\\beta_{k, j}$ is substantially different from zero, also $\\beta_{k^\\prime, j}$ should be. Analogously, we can assume the opposite: if $\\beta_{k, j} \\approx 0$ we want to encourage $\\beta_{k^\\prime, j} \\approx 0$.\n",
    "\n",
    "This later idea can be easily built in a hierarchical model.\n",
    "\n",
    "Consider for instance the spike-and-slab model\n",
    "\n",
    "\\begin{align*}\n",
    "    \\beta_{jk} \\mid p_{jk} & \\sim p_{jk} \\mathcal{N}(0, \\tau_1) + (1 - p_{jk}) \\mathcal{N}(0, \\tau_2) \\\\\n",
    "    p_{j1}, \\ldots p_{jK} \\mid p_{0j} & \\iid \\text{Bern}(p_{j0}) \\\\\n",
    "    p_{0j} & \\iid \\text{Beta}(a, b) \\quad j=1, \\ldots, p \n",
    "\\end{align*}\n",
    "\n",
    "1) Implement the hierarchical spike and slab model in Stan and fit the whole dataset to it, considering only the responses for which the number of missing values is at maximum 100. Drop all the observations with missing values\n",
    "\n",
    "2) Build an analogous of the hierarchical spike and slab by starting from the horseshoe prior  \n",
    "   *(Hint: think about what is the role of the parameter $\\lambda_j$)*"
   ]
  },
  {
   "cell_type": "code",
   "execution_count": null,
   "id": "65316aab-3a4c-4cf7-85d5-38339d6981c2",
   "metadata": {},
   "outputs": [],
   "source": [
    "# Import responses\n",
    "# Import covariates\n",
    "# Select first 100 rows and two drugs (\"IDV\", \"NFV\") and transform"
   ]
  },
  {
   "cell_type": "code",
   "execution_count": null,
   "id": "863123ab-04a4-4c25-b445-c9e727333eee",
   "metadata": {},
   "outputs": [],
   "source": [
    "# Data dictionary for Stan\n",
    "reg_data = {\n",
    "    \"N\": len(y),\n",
    "    \"P\": X.shape[1],\n",
    "    \"K\": y.shape[1],\n",
    "    \"y\": y,\n",
    "    \"X\": X        \n",
    "}"
   ]
  },
  {
   "cell_type": "markdown",
   "id": "7da3a541",
   "metadata": {},
   "source": [
    "### Solution"
   ]
  },
  {
   "cell_type": "markdown",
   "id": "b442add7-f5bf-4847-9f12-a4f8936c6138",
   "metadata": {},
   "source": [
    "**Hierarchical Spike and Slab Regression**"
   ]
  },
  {
   "cell_type": "code",
   "execution_count": null,
   "id": "e393a3bb",
   "metadata": {},
   "outputs": [],
   "source": [
    "# Your code goes here\n",
    "# Write stan model to file\n",
    "# Compile stan model"
   ]
  },
  {
   "cell_type": "code",
   "execution_count": null,
   "id": "02a2bdf1",
   "metadata": {},
   "outputs": [],
   "source": [
    "# Run MCMC and retrieve chains"
   ]
  },
  {
   "cell_type": "code",
   "execution_count": null,
   "id": "3c391fd0",
   "metadata": {},
   "outputs": [],
   "source": [
    "# Traceplots (beta)"
   ]
  },
  {
   "cell_type": "code",
   "execution_count": null,
   "id": "9f28112d",
   "metadata": {},
   "outputs": [],
   "source": [
    "# 95% Credible Intervals for beta"
   ]
  },
  {
   "cell_type": "code",
   "execution_count": null,
   "id": "0f0256bf",
   "metadata": {},
   "outputs": [],
   "source": [
    "# Traceplots (p0s)"
   ]
  },
  {
   "cell_type": "markdown",
   "id": "0853598c",
   "metadata": {},
   "source": [
    "**Hierarchical Regularised Horseshoe Regression**"
   ]
  },
  {
   "cell_type": "code",
   "execution_count": null,
   "id": "f0e15bde",
   "metadata": {},
   "outputs": [],
   "source": [
    "# Your code goes here\n",
    "# Write stan model to file\n",
    "# Compile stan model"
   ]
  },
  {
   "cell_type": "code",
   "execution_count": null,
   "id": "511b9135",
   "metadata": {},
   "outputs": [],
   "source": [
    "# Run MCMC and retrieve chains"
   ]
  },
  {
   "cell_type": "code",
   "execution_count": null,
   "id": "e92542bc",
   "metadata": {},
   "outputs": [],
   "source": [
    "# Traceplots (beta)"
   ]
  },
  {
   "cell_type": "code",
   "execution_count": null,
   "id": "18364d7f",
   "metadata": {},
   "outputs": [],
   "source": [
    "# 95% Credible Intervals for beta"
   ]
  },
  {
   "cell_type": "code",
   "execution_count": null,
   "id": "78074c7b",
   "metadata": {},
   "outputs": [],
   "source": [
    "# Traceplots (lambda0)"
   ]
  }
 ],
 "metadata": {
  "kernelspec": {
   "display_name": "Python 3 (ipykernel)",
   "language": "python",
   "name": "python3"
  },
  "language_info": {
   "codemirror_mode": {
    "name": "ipython",
    "version": 3
   },
   "file_extension": ".py",
   "mimetype": "text/x-python",
   "name": "python",
   "nbconvert_exporter": "python",
   "pygments_lexer": "ipython3",
   "version": "3.9.7"
  }
 },
 "nbformat": 4,
 "nbformat_minor": 5
}
