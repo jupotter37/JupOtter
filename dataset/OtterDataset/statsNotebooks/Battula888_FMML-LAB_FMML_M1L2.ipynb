{
  "cells": [
    {
      "cell_type": "markdown",
      "metadata": {
        "id": "view-in-github",
        "colab_type": "text"
      },
      "source": [
        "<a href=\"https://colab.research.google.com/github/Battula888/FMML-LAB/blob/main/FMML_M1L2.ipynb\" target=\"_parent\"><img src=\"https://colab.research.google.com/assets/colab-badge.svg\" alt=\"Open In Colab\"/></a>"
      ]
    },
    {
      "cell_type": "markdown",
      "metadata": {
        "id": "3Eu9VZbF01eq"
      },
      "source": [
        "# Machine Learning terms and metrics\n",
        "\n",
        "FMML Module 1, Lab 2\n",
        "\n",
        "In this lab, we will show a part of the ML pipeline by using the California Housing dataset. There are 20640 samples, each with 8 attributes like income of the block, age of the houses per district etc. The task is to predict the cost of the houses per district. We will use the scikit-learn library to load the data and perform some basic data preprocessing and model training. We will also show how to evaluate the model using some common metrics, split the data into training and testing sets, and use cross-validation to get a better estimate of the model's performance."
      ]
    },
    {
      "cell_type": "code",
      "execution_count": null,
      "metadata": {
        "id": "8qBvyEem0vLi"
      },
      "outputs": [],
      "source": [
        "import numpy as np\n",
        "from sklearn import datasets\n",
        "import matplotlib.pyplot as plt\n",
        "\n",
        "rng = np.random.default_rng(seed=42)"
      ]
    },
    {
      "cell_type": "code",
      "execution_count": null,
      "metadata": {
        "colab": {
          "base_uri": "https://localhost:8080/"
        },
        "id": "8LpqjN991GGJ",
        "outputId": "6f379d6f-dc2c-427a-93f7-587d7b909a5a"
      },
      "outputs": [
        {
          "output_type": "stream",
          "name": "stdout",
          "text": [
            ".. _california_housing_dataset:\n",
            "\n",
            "California Housing dataset\n",
            "--------------------------\n",
            "\n",
            "**Data Set Characteristics:**\n",
            "\n",
            "    :Number of Instances: 20640\n",
            "\n",
            "    :Number of Attributes: 8 numeric, predictive attributes and the target\n",
            "\n",
            "    :Attribute Information:\n",
            "        - MedInc        median income in block group\n",
            "        - HouseAge      median house age in block group\n",
            "        - AveRooms      average number of rooms per household\n",
            "        - AveBedrms     average number of bedrooms per household\n",
            "        - Population    block group population\n",
            "        - AveOccup      average number of household members\n",
            "        - Latitude      block group latitude\n",
            "        - Longitude     block group longitude\n",
            "\n",
            "    :Missing Attribute Values: None\n",
            "\n",
            "This dataset was obtained from the StatLib repository.\n",
            "https://www.dcc.fc.up.pt/~ltorgo/Regression/cal_housing.html\n",
            "\n",
            "The target variable is the median house value for California districts,\n",
            "expressed in hundreds of thousands of dollars ($100,000).\n",
            "\n",
            "This dataset was derived from the 1990 U.S. census, using one row per census\n",
            "block group. A block group is the smallest geographical unit for which the U.S.\n",
            "Census Bureau publishes sample data (a block group typically has a population\n",
            "of 600 to 3,000 people).\n",
            "\n",
            "A household is a group of people residing within a home. Since the average\n",
            "number of rooms and bedrooms in this dataset are provided per household, these\n",
            "columns may take surprisingly large values for block groups with few households\n",
            "and many empty houses, such as vacation resorts.\n",
            "\n",
            "It can be downloaded/loaded using the\n",
            ":func:`sklearn.datasets.fetch_california_housing` function.\n",
            "\n",
            ".. topic:: References\n",
            "\n",
            "    - Pace, R. Kelley and Ronald Barry, Sparse Spatial Autoregressions,\n",
            "      Statistics and Probability Letters, 33 (1997) 291-297\n",
            "\n"
          ]
        }
      ],
      "source": [
        "dataset = datasets.fetch_california_housing()\n",
        "# Dataset description\n",
        "print(dataset.DESCR)"
      ]
    },
    {
      "cell_type": "markdown",
      "metadata": {
        "id": "PCe1VNftevgE"
      },
      "source": [
        "Given below are the list of target values. These correspond to the house value derived considering all the 8 input features and are continuous values. We should use regression models to predict these values but we will start with a simple classification model for the sake of simplicity. We need to just round off the values to the nearest integer and use a classification model to predict the house value."
      ]
    },
    {
      "cell_type": "code",
      "execution_count": null,
      "metadata": {
        "colab": {
          "base_uri": "https://localhost:8080/"
        },
        "id": "F8K0ggBOevgE",
        "outputId": "f71dd070-d8a0-41e1-b595-107fec9f47e8"
      },
      "outputs": [
        {
          "output_type": "stream",
          "name": "stdout",
          "text": [
            "Orignal target values: [4.526 3.585 3.521 ... 0.923 0.847 0.894]\n",
            "Target values after conversion: [4 3 3 ... 0 0 0]\n",
            "Input variables shape: (20640, 8)\n",
            "Output variables shape: (20640,)\n"
          ]
        }
      ],
      "source": [
        "print(\"Orignal target values:\", dataset.target)\n",
        "\n",
        "dataset.target = dataset.target.astype(int)\n",
        "\n",
        "print(\"Target values after conversion:\", dataset.target)\n",
        "print(\"Input variables shape:\", dataset.data.shape)\n",
        "print(\"Output variables shape:\", dataset.target.shape)"
      ]
    },
    {
      "cell_type": "markdown",
      "metadata": {
        "id": "iNx4174W5xRg"
      },
      "source": [
        "The simplest model to use for classification is the K-Nearest Neighbors model. We will use this model to predict the house value with a K value of 1. We will also use the accuracy metric to evaluate the model."
      ]
    },
    {
      "cell_type": "code",
      "execution_count": null,
      "metadata": {
        "id": "07zpydQj1hIQ"
      },
      "outputs": [],
      "source": [
        "def NN1(traindata, trainlabel, query):\n",
        "    \"\"\"\n",
        "    This function takes in the training data, training labels and a query point\n",
        "    and returns the predicted label for the query point using the nearest neighbour algorithm\n",
        "\n",
        "    traindata: numpy array of shape (n,d) where n is the number of samples and d is the number of features\n",
        "    trainlabel: numpy array of shape (n,) where n is the number of samples\n",
        "    query: numpy array of shape (d,) where d is the number of features\n",
        "\n",
        "    returns: the predicted label for the query point which is the label of the training data which is closest to the query point\n",
        "    \"\"\"\n",
        "    diff = (\n",
        "        traindata - query\n",
        "    )  # find the difference between features. Numpy automatically takes care of the size here\n",
        "    sq = diff * diff  # square the differences\n",
        "    dist = sq.sum(1)  # add up the squares\n",
        "    label = trainlabel[np.argmin(dist)]\n",
        "    return label\n",
        "\n",
        "\n",
        "def NN(traindata, trainlabel, testdata):\n",
        "    \"\"\"\n",
        "    This function takes in the training data, training labels and test data\n",
        "    and returns the predicted labels for the test data using the nearest neighbour algorithm\n",
        "\n",
        "    traindata: numpy array of shape (n,d) where n is the number of samples and d is the number of features\n",
        "    trainlabel: numpy array of shape (n,) where n is the number of samples\n",
        "    testdata: numpy array of shape (m,d) where m is the number of test samples and d is the number of features\n",
        "\n",
        "    returns: the predicted labels for the test data which is the label of the training data which is closest to each test point\n",
        "    \"\"\"\n",
        "    predlabel = np.array([NN1(traindata, trainlabel, i) for i in testdata])\n",
        "    return predlabel"
      ]
    },
    {
      "cell_type": "markdown",
      "metadata": {
        "id": "03JktkfIGaje"
      },
      "source": [
        "We will also define a 'random classifier', which randomly allots labels to each sample"
      ]
    },
    {
      "cell_type": "code",
      "execution_count": null,
      "metadata": {
        "id": "fogWAtjyGhAH"
      },
      "outputs": [],
      "source": [
        "def RandomClassifier(traindata, trainlabel, testdata):\n",
        "    \"\"\"\n",
        "    This function takes in the training data, training labels and test data\n",
        "    and returns the predicted labels for the test data using the random classifier algorithm\n",
        "\n",
        "    In reality, we don't need these arguments but we are passing them to keep the function signature consistent with other classifiers\n",
        "\n",
        "    traindata: numpy array of shape (n,d) where n is the number of samples and d is the number of features\n",
        "    trainlabel: numpy array of shape (n,) where n is the number of samples\n",
        "    testdata: numpy array of shape (m,d) where m is the number of test samples and d is the number of features\n",
        "\n",
        "    returns: the predicted labels for the test data which is a random label from the training data\n",
        "    \"\"\"\n",
        "\n",
        "    classes = np.unique(trainlabel)\n",
        "    rints = rng.integers(low=0, high=len(classes), size=len(testdata))\n",
        "    predlabel = classes[rints]\n",
        "    return predlabel"
      ]
    },
    {
      "cell_type": "markdown",
      "metadata": {
        "id": "1Hjf1KHs7fU5"
      },
      "source": [
        "We need a metric to evaluate the performance of the model. Let us define a metric 'Accuracy' to see how good our learning algorithm is. Accuracy is the ratio of the number of correctly classified samples to the total number of samples. The higher the accuracy, the better the algorithm. We will use the accuracy metric to evaluate and compate the performance of the K-Nearest Neighbors model and the random classifier."
      ]
    },
    {
      "cell_type": "code",
      "execution_count": null,
      "metadata": {
        "id": "ouuCqWU07bz-"
      },
      "outputs": [],
      "source": [
        "def Accuracy(gtlabel, predlabel):\n",
        "    \"\"\"\n",
        "    This function takes in the ground-truth labels and predicted labels\n",
        "    and returns the accuracy of the classifier\n",
        "\n",
        "    gtlabel: numpy array of shape (n,) where n is the number of samples\n",
        "    predlabel: numpy array of shape (n,) where n is the number of samples\n",
        "\n",
        "    returns: the accuracy of the classifier which is the number of correct predictions divided by the total number of predictions\n",
        "    \"\"\"\n",
        "    assert len(gtlabel) == len(\n",
        "        predlabel\n",
        "    ), \"Length of the ground-truth labels and predicted labels should be the same\"\n",
        "    correct = (\n",
        "        gtlabel == predlabel\n",
        "    ).sum()  # count the number of times the groundtruth label is equal to the predicted label.\n",
        "    return correct / len(gtlabel)"
      ]
    },
    {
      "cell_type": "markdown",
      "metadata": {
        "id": "4vJFwBFa9Klw"
      },
      "source": [
        "Let us make a function to split the dataset with the desired probability. We will use this function to split the dataset into training and testing sets. We will use the training set to train the model and the testing set to evaluate the model."
      ]
    },
    {
      "cell_type": "code",
      "execution_count": null,
      "metadata": {
        "id": "Ko0VzpSM2Tdi"
      },
      "outputs": [],
      "source": [
        "def split(data, label, percent):\n",
        "    # generate a random number for each sample\n",
        "    rnd = rng.random(len(label))\n",
        "    split1 = rnd < percent\n",
        "    split2 = rnd >= percent\n",
        "\n",
        "    split1data = data[split1, :]\n",
        "    split1label = label[split1]\n",
        "    split2data = data[split2, :]\n",
        "    split2label = label[split2]\n",
        "    return split1data, split1label, split2data, split2label"
      ]
    },
    {
      "cell_type": "markdown",
      "metadata": {
        "id": "AcK3LEAJ_LGC"
      },
      "source": [
        "We will reserve 20% of our dataset as the test set. We will not change this portion throughout our experiments"
      ]
    },
    {
      "cell_type": "code",
      "execution_count": null,
      "metadata": {
        "colab": {
          "base_uri": "https://localhost:8080/"
        },
        "id": "bBZkHBLJ1iU-",
        "outputId": "73ffc0bd-354d-4051-f17a-c6adebdd58fe"
      },
      "outputs": [
        {
          "output_type": "stream",
          "name": "stdout",
          "text": [
            "Number of test samples: 4144\n",
            "Number of train samples: 16496\n",
            "Percent of test data: 20.07751937984496 %\n"
          ]
        }
      ],
      "source": [
        "testdata, testlabel, alltraindata, alltrainlabel = split(\n",
        "    dataset.data, dataset.target, 20 / 100\n",
        ")\n",
        "print(\"Number of test samples:\", len(testlabel))\n",
        "print(\"Number of train samples:\", len(alltrainlabel))\n",
        "print(\"Percent of test data:\", len(testlabel) * 100 / len(dataset.target), \"%\")"
      ]
    },
    {
      "cell_type": "markdown",
      "metadata": {
        "id": "a6Ss0Z6IAGNV"
      },
      "source": [
        "## Experiments with splits\n",
        "\n",
        "Let us reserve some of our train data as a validation set"
      ]
    },
    {
      "cell_type": "code",
      "execution_count": null,
      "metadata": {
        "id": "WFew2iry_7W7"
      },
      "outputs": [],
      "source": [
        "traindata, trainlabel, valdata, vallabel = split(\n",
        "    alltraindata, alltrainlabel, 75 / 100)"
      ]
    },
    {
      "cell_type": "markdown",
      "metadata": {
        "id": "60hiu4clFN1i"
      },
      "source": [
        "What is the accuracy of our classifiers on the train dataset?"
      ]
    },
    {
      "cell_type": "code",
      "execution_count": null,
      "metadata": {
        "colab": {
          "base_uri": "https://localhost:8080/"
        },
        "id": "DBlZDTHUFTZx",
        "outputId": "2d0ed616-7ece-4d8f-8f8d-cb1eb48f7385"
      },
      "outputs": [
        {
          "output_type": "stream",
          "name": "stdout",
          "text": [
            "Training accuracy using nearest neighbour algorithm: 100.0 %\n",
            "Training accuracy using random classifier:  16.4375808538163 %\n"
          ]
        }
      ],
      "source": [
        "trainpred = NN(traindata, trainlabel, traindata)\n",
        "trainAccuracy = Accuracy(trainlabel, trainpred)\n",
        "print(\"Training accuracy using nearest neighbour algorithm:\", trainAccuracy*100, \"%\")\n",
        "\n",
        "trainpred = RandomClassifier(traindata, trainlabel, traindata)\n",
        "trainAccuracy = Accuracy(trainlabel, trainpred)\n",
        "print(\"Training accuracy using random classifier: \", trainAccuracy*100, \"%\")"
      ]
    },
    {
      "cell_type": "markdown",
      "metadata": {
        "id": "7h08-9gJDtSy"
      },
      "source": [
        "For nearest neighbour, the train accuracy is always 1. The accuracy of the random classifier is close to 1/(number of classes) which is 0.1666 in our case. This is because the random classifier randomly assigns a label to each sample and the probability of assigning the correct label is 1/(number of classes). Let us predict the labels for our validation set and get the accuracy. This accuracy is a good estimate of the accuracy of our model on unseen data."
      ]
    },
    {
      "cell_type": "code",
      "execution_count": null,
      "metadata": {
        "colab": {
          "base_uri": "https://localhost:8080/"
        },
        "id": "4h7bXoW_2H3v",
        "outputId": "ab09a4be-1b0e-4db2-ef67-a4b5f41c48fe"
      },
      "outputs": [
        {
          "output_type": "stream",
          "name": "stdout",
          "text": [
            "Validation accuracy using nearest neighbour algorithm: 34.10852713178294 %\n",
            "Validation accuracy using random classifier: 16.884689922480618 %\n"
          ]
        }
      ],
      "source": [
        "valpred = NN(traindata, trainlabel, valdata)\n",
        "valAccuracy = Accuracy(vallabel, valpred)\n",
        "print(\"Validation accuracy using nearest neighbour algorithm:\", valAccuracy*100, \"%\")\n",
        "\n",
        "\n",
        "valpred = RandomClassifier(traindata, trainlabel, valdata)\n",
        "valAccuracy = Accuracy(vallabel, valpred)\n",
        "print(\"Validation accuracy using random classifier:\", valAccuracy*100, \"%\")"
      ]
    },
    {
      "cell_type": "markdown",
      "metadata": {
        "id": "py9bLguFEjfg"
      },
      "source": [
        "Validation accuracy of nearest neighbour is considerably less than its train accuracy while the validation accuracy of random classifier is the same. However, the validation accuracy of nearest neighbour is twice that of the random classifier. Now let us try another random split and check the validation accuracy. We will see that the validation accuracy changes with the split. This is because the validation set is small and the accuracy is highly dependent on the samples in the validation set. We can get a better estimate of the accuracy by using cross-validation."
      ]
    },
    {
      "cell_type": "code",
      "execution_count": null,
      "metadata": {
        "colab": {
          "base_uri": "https://localhost:8080/"
        },
        "id": "ujm3cyYzEntE",
        "outputId": "8e5506e9-474c-4fd6-d7a6-b14aa1b8b8d1"
      },
      "outputs": [
        {
          "output_type": "stream",
          "name": "stdout",
          "text": [
            "Validation accuracy using nearest neighbour algorithm: 34.048257372654156 %\n"
          ]
        }
      ],
      "source": [
        "traindata, trainlabel, valdata, vallabel = split(\n",
        "    alltraindata, alltrainlabel, 75 / 100)\n",
        "valpred = NN(traindata, trainlabel, valdata)\n",
        "valAccuracy = Accuracy(vallabel, valpred)\n",
        "print(\"Validation accuracy using nearest neighbour algorithm:\", valAccuracy*100, \"%\")"
      ]
    },
    {
      "cell_type": "markdown",
      "metadata": {
        "id": "oSOx7U83EKie"
      },
      "source": [
        "You can run the above cell multiple times to try with different random splits.\n",
        "We notice that the accuracy is different for each run, but close together.\n",
        "\n",
        "Now let us compare it with the accuracy we get on the test dataset."
      ]
    },
    {
      "cell_type": "code",
      "execution_count": null,
      "metadata": {
        "colab": {
          "base_uri": "https://localhost:8080/"
        },
        "id": "PNEZ5ToYBEDW",
        "outputId": "2487fee9-0efc-4ce9-8b76-c8fd90b0c94a"
      },
      "outputs": [
        {
          "output_type": "stream",
          "name": "stdout",
          "text": [
            "Test accuracy: 34.91795366795367 %\n"
          ]
        }
      ],
      "source": [
        "testpred = NN(alltraindata, alltrainlabel, testdata)\n",
        "testAccuracy = Accuracy(testlabel, testpred)\n",
        "\n",
        "print(\"Test accuracy:\", testAccuracy*100, \"%\")"
      ]
    },
    {
      "cell_type": "markdown",
      "metadata": {
        "id": "w3dGD531K3gH"
      },
      "source": [
        "### Try it out for yourself and answer:\n",
        "1. How is the accuracy of the validation set affected if we increase the percentage of validation set? What happens when we reduce it?\n",
        "2. How does the size of the train and validation set affect how well we can predict the accuracy on the test set using the validation set?\n",
        "3. What do you think is a good percentage to reserve for the validation set so that thest two factors are balanced?\n",
        "\n",
        "Answer for both nearest neighbour and random classifier. You can note down the values for your experiments and plot a graph using  <a href=https://matplotlib.org/stable/gallery/lines_bars_and_markers/step_demo.html#sphx-glr-gallery-lines-bars-and-markers-step-demo-py>plt.plot<href>. Check also for extreme values for splits, like 99.9% or 0.1%"
      ]
    },
    {
      "cell_type": "markdown",
      "metadata": {
        "id": "M9zvdYY6evgI"
      },
      "source": [
        "> Exercise: Try to implement a 3 nearest neighbour classifier and compare the accuracy of the 1 nearest neighbour classifier and the 3 nearest neighbour classifier on the test dataset. You can use the KNeighborsClassifier class from the scikit-learn library to implement the K-Nearest Neighbors model. You can set the number of neighbors using the n_neighbors parameter. You can also use the accuracy_score function from the scikit-learn library to calculate the accuracy of the model."
      ]
    },
    {
      "cell_type": "markdown",
      "metadata": {
        "id": "PnYvkAZLQY7h"
      },
      "source": [
        "## Multiple Splits\n",
        "\n",
        "One way to get more accurate estimates for the test accuracy is by using <b>cross-validation</b>. Here, we will try a simple version, where we do multiple train/val splits and take the average of validation accuracies as the test accuracy estimation. Here is a function for doing this. Note that this function will take a long time to execute. You can reduce the number of splits to make it faster."
      ]
    },
    {
      "cell_type": "code",
      "execution_count": null,
      "metadata": {
        "id": "E4nGCUQXBTzo"
      },
      "outputs": [],
      "source": [
        "def AverageAccuracy(alldata, alllabel, splitpercent, iterations, classifier=NN):\n",
        "    \"\"\"\n",
        "    This function takes in the data, labels, split percentage, number of iterations and classifier function\n",
        "    and returns the average accuracy of the classifier\n",
        "\n",
        "    alldata: numpy array of shape (n,d) where n is the number of samples and d is the number of features\n",
        "    alllabel: numpy array of shape (n,) where n is the number of samples\n",
        "    splitpercent: float which is the percentage of data to be used for training\n",
        "    iterations: int which is the number of iterations to run the classifier\n",
        "    classifier: function which is the classifier function to be used\n",
        "\n",
        "    returns: the average accuracy of the classifier\n",
        "    \"\"\"\n",
        "    accuracy = 0\n",
        "    for ii in range(iterations):\n",
        "        traindata, trainlabel, valdata, vallabel = split(\n",
        "            alldata, alllabel, splitpercent\n",
        "        )\n",
        "        valpred = classifier(traindata, trainlabel, valdata)\n",
        "        accuracy += Accuracy(vallabel, valpred)\n",
        "    return accuracy / iterations  # average of all accuracies"
      ]
    },
    {
      "cell_type": "code",
      "execution_count": null,
      "metadata": {
        "colab": {
          "base_uri": "https://localhost:8080/"
        },
        "id": "H3qtNar7Bbik",
        "outputId": "5a5a53ec-beea-4f7f-cefc-79f74cceb1bd"
      },
      "outputs": [
        {
          "output_type": "stream",
          "name": "stdout",
          "text": [
            "Average validation accuracy: 33.58463539517022 %\n",
            "Test accuracy: 34.91795366795367 %\n"
          ]
        }
      ],
      "source": [
        "avg_acc = AverageAccuracy(alltraindata, alltrainlabel, 75 / 100, 10, classifier=NN)\n",
        "print(\"Average validation accuracy:\", avg_acc*100, \"%\")\n",
        "testpred = NN(alltraindata, alltrainlabel, testdata)\n",
        "\n",
        "print(\"Test accuracy:\", Accuracy(testlabel, testpred)*100, \"%\")"
      ]
    },
    {
      "cell_type": "markdown",
      "metadata": {
        "id": "33GIn4x5VH-d"
      },
      "source": [
        "This is a very simple way of doing cross-validation. There are many well-known algorithms for cross-validation, like k-fold cross-validation, leave-one-out etc. This will be covered in detail in a later module. For more information about cross-validation, check <a href=https://en.wikipedia.org/wiki/Cross-validation_(statistics)>Cross-validatioin (Wikipedia)</a>\n",
        "\n",
        "### Questions\n",
        "1. Does averaging the validation accuracy across multiple splits give more consistent results?\n",
        "\n",
        "Yes, averaging the validation accuracy across multiple splits generally gives more consistent and reliable results. This approach, often referred to as cross-validation, helps to mitigate the variability that can arise from the specific choice of a single validation set. Here's why:\n",
        "\n",
        "Reduction in Variance: A single split of the data may not be representative of the overall distribution, and it could result in higher variance in the performance metrics. Averaging across multiple splits smooths out any idiosyncratic trends or biases present in a single validation set.\n",
        "\n",
        "Better Generalization: By using multiple different subsets of the data for validation, you ensure that your model's performance is evaluated on various portions of the data, improving the estimate of how well the model generalizes to unseen data.\n",
        "\n",
        "Minimizing Overfitting to the Validation Set: In a single split, there’s a risk of the model overfitting to the validation set, particularly if the model is complex. By averaging over multiple splits, you reduce the likelihood that your model is overly tailored to a specific subset of the data.\n",
        "\n",
        "How it works:\n",
        "In k-fold cross-validation, for instance, the data is divided into k parts (or folds). The model is trained on k-1 folds and tested on the remaining fold. This process is repeated k times, with each fold serving as the validation set once. The final result is the average performance metric (such as accuracy) across all the splits.\n",
        "\n",
        "Example:\n",
        "Without averaging: If you evaluate on a single validation set, the accuracy might be 85%, but this could be a result of lucky or unlucky splits.\n",
        "With averaging: By running k-fold cross-validation (say 5-fold), you might get validation accuracies of 80%, 83%, 87%, 85%, and 90%. Averaging these gives a more reliable and consistent estimate of model performance (85% in this case), reducing the influence of a single outlier.\n",
        "Conclusion:\n",
        "Averaging validation accuracy across multiple splits helps provide a more stable and consistent evaluation of your model's performance,\n",
        "\n",
        "2.DOES it give more accurate estimate of test accuracy?\n",
        "Averaging the validation accuracy across multiple splits does not directly give a **more accurate estimate of test accuracy**, but it does provide a **better estimate of how well the model is likely to perform on unseen data**. Here's a breakdown:\n",
        "\n",
        "### Key Differences Between Validation and Test Accuracy\n",
        "\n",
        "- **Validation Accuracy**: This is the accuracy of your model on a separate validation set (a subset of the training data) during training. Cross-validation helps improve the reliability of this estimate by averaging across multiple splits of the data.\n",
        "- **Test Accuracy**: This is the performance of your model on a completely separate test set that the model has never seen during training or validation. The test set is meant to simulate the performance of your model on truly unseen data.\n",
        "\n",
        "### Does Averaging Validation Accuracy Improve the Estimate of Test Accuracy?\n",
        "\n",
        "- **Indirect Improvement**: By using multiple validation splits (such as in cross-validation), you get a better estimate of your model's **generalization ability** because it reduces the risk of overfitting to a specific validation set. A more reliable validation accuracy can help you choose a model or hyperparameters that are more likely to perform well on the test set.\n",
        "  \n",
        "  However, this does **not** directly provide a more accurate estimate of the test set performance itself. The test set is a completely separate entity that ideally should not be used during training or validation.\n",
        "\n",
        "- **Overfitting Mitigation**: Cross-validation helps reduce the risk of overfitting to the validation set, which in turn may make the model more likely to generalize well to the test set. This makes the **validation accuracy** a more reliable indicator of how the model might perform on the test set. However, even with cross-validation, the true test performance can still differ slightly, especially if the test set is small or not perfectly representative.\n",
        "\n",
        "### When You Get More Accurate Test Accuracy Estimates:\n",
        "- **External Testing**: The most accurate estimate of test accuracy comes when you have a separate, untouched test set. If you're using cross-validation to tune models or select features, this can give you confidence that your model is likely to perform well on the test set, but you won't know the true performance on the test set until you evaluate it.\n",
        "\n",
        "- **Large Datasets**: In scenarios with large amounts of data, cross-validation can give a better estimate of the test accuracy because each fold in the cross-validation uses a different subset of data. In these cases, the validation accuracy can serve as a reasonable proxy for test accuracy.\n",
        "\n",
        "### Summary:\n",
        "\n",
        "- **Cross-validation improves the consistency and reliability of your validation accuracy**, which indirectly helps in making better decisions regarding model selection and tuning.\n",
        "- **Averaging validation accuracy does not directly give a more accurate estimate of test accuracy**, but it does provide a more stable estimate of model performance across different subsets of data. The actual test accuracy will only be known after evaluating the model on a completely separate test set.\n",
        "\n",
        "\n",
        "3. What is the effect of the number of iterations on the estimate? Do we get a better estimate with higher iterations?\n",
        "\n",
        "When working with datasets that have four or more features, testing or visualizing them can become more complex. Below are several techniques you can use to understand relationships and distributions in such high-dimensional data:\n",
        "\n",
        "### 1. **Pairwise Scatter Plots (Pair Plot)**\n",
        "   - **Description**: A pair plot (also known as a scatterplot matrix) plots each pair of features against one another. It helps visualize pairwise relationships between features in a dataset.\n",
        "   - **Use Case**: Works well when you have multiple features and want to look for correlations or patterns between each pair of features.\n",
        "   - **Visualization Tools**:\n",
        "     - **Python libraries**: `seaborn.pairplot()`, `matplotlib` with `scatter()`\n",
        "\n",
        "   ```python\n",
        "   import seaborn as sns\n",
        "   sns.pairplot(data)  # 'data' is your DataFrame\n",
        "   ```\n",
        "\n",
        "   - **Pros**: Helps in detecting correlations between pairs of features.\n",
        "   - **Cons**: Becomes crowded with too many features (e.g., 4 features results in a 4x4 grid).\n",
        "\n",
        "### 2. **Principal Component Analysis (PCA)**\n",
        "   - **Description**: PCA is a dimensionality reduction technique that projects the data into fewer dimensions (typically 2 or 3) while retaining most of the variance in the data. PCA can be useful for visualizing high-dimensional data.\n",
        "   - **Use Case**: When you want to reduce the dimensionality of a dataset (e.g., from 4+ features to 2 or 3) for easy visualization.\n",
        "   - **Visualization Tools**:\n",
        "     - **Python libraries**: `sklearn.decomposition.PCA`, `matplotlib`, `seaborn`\n",
        "\n",
        "   ```python\n",
        "   from sklearn.decomposition import PCA\n",
        "   pca = PCA(n_components=2)\n",
        "   pca_result = pca.fit_transform(data)  # 'data' is your DataFrame\n",
        "   sns.scatterplot(x=pca_result[:, 0], y=pca_result[:, 1])\n",
        "   ```\n",
        "\n",
        "   - **Pros**: Reduces dimensionality, making it easier to visualize higher-dimensional data.\n",
        "   - **Cons**: May lose information, as it compresses features into principal components.\n",
        "\n",
        "### 3. **t-Distributed Stochastic Neighbor Embedding (t-SNE)**\n",
        "   - **Description**: t-SNE is another dimensionality reduction method that is particularly good at preserving local structure and creating well-separated clusters in 2D or 3D visualizations. It's often used when dealing with complex datasets that have many features.\n",
        "   - **Use Case**: When you want to visualize complex, high-dimensional data in 2D or 3D and preserve local relationships.\n",
        "   - **Visualization Tools**:\n",
        "     - **Python libraries**: `sklearn.manifold.TSNE`, `matplotlib`, `seaborn`\n",
        "\n",
        "   ```python\n",
        "   from sklearn.manifold import TSNE\n",
        "   tsne = TSNE(n_components=2)\n",
        "   tsne_result = tsne.fit_transform(data)\n",
        "   sns.scatterplot(x=tsne_result[:, 0], y=tsne_result[:, 1])\n",
        "   ```\n",
        "\n",
        "   - **Pros**: Effective for high-dimensional data visualization and cluster identification.\n",
        "   - **Cons**: Computationally expensive and might be sensitive to hyperparameters.\n",
        "\n",
        "### 4. **Heatmap (Correlation Matrix)**\n",
        "   - **Description**: A heatmap of the correlation matrix can be used to visualize the pairwise correlation between features. It can help identify strongly correlated features, which may indicate redundant information or relationships.\n",
        "   - **Use Case**: To check for correlations or redundancy between features.\n",
        "   - **Visualization Tools**:\n",
        "     - **Python libraries**: `seaborn.heatmap()`\n",
        "\n",
        "   ```python\n",
        "   import seaborn as sns\n",
        "   import matplotlib.pyplot as plt\n",
        "\n",
        "   correlation_matrix = data.corr()\n",
        "   sns.heatmap(correlation_matrix, annot=True, cmap=\"coolwarm\")\n",
        "   plt.show()\n",
        "   ```\n",
        "\n",
        "   - **Pros**: Identifies correlations, helpful for feature selection or engineering.\n",
        "   - **Cons**: Not a direct visualization of feature distribution; only shows relationships.\n",
        "\n",
        "### 5. **Parallel Coordinates Plot**\n",
        "   - **Description**: A parallel coordinates plot shows the relationships between multiple features simultaneously. Each feature gets its own vertical axis, and each data point is represented as a line across the axes.\n",
        "   - **Use Case**: Suitable for visualizing multivariate data, especially when comparing multiple features across different categories or classes.\n",
        "   - **Visualization Tools**:\n",
        "     - **Python libraries**: `pandas.plotting.parallel_coordinates`, `matplotlib`\n",
        "\n",
        "   ```python\n",
        "   from pandas.plotting import parallel_coordinates\n",
        "   parallel_coordinates(data, class_column='class')  # 'class' is the column for classification\n",
        "   ```\n",
        "\n",
        "   - **Pros**: Shows interactions between many features, good for exploring multivariate data.\n",
        "   - **Cons**: Can become cluttered with many categories or features.\n",
        "\n",
        "### 6. **Radar (Spider) Charts**\n",
        "   - **Description**: Radar charts display multivariate data in a two-dimensional space, with one axis for each feature. This is useful when you want to compare data points in terms of multiple features simultaneously.\n",
        "   - **Use Case**: Best for comparing a few observations across many features.\n",
        "   - **Visualization Tools**:\n",
        "     - **Python libraries**: `matplotlib`\n",
        "\n",
        "   ```python\n",
        "   import numpy as np\n",
        "   import matplotlib.pyplot as plt\n",
        "\n",
        "   labels = data.columns\n",
        "   values = data.iloc[0].values  # First row for example\n",
        "\n",
        "   angles = np.linspace(0, 2 * np.pi, len(labels), endpoint=False).tolist()\n",
        "   values = np.concatenate((values, [values[0]]))\n",
        "   angles += angles[:1]\n",
        "\n",
        "   fig, ax = plt.subplots(figsize=(6, 6), subplot_kw=dict(polar=True))\n",
        "   ax.fill(angles, values, color='blue', alpha=0.25)\n",
        "   ax.plot(angles, values, color='blue', linewidth=2)\n",
        "   ax.set_yticklabels([])  # Hide radial labels\n",
        "   ax.set_xticks(angles[:-1])\n",
        "   ax.set_xticklabels(labels)\n",
        "   plt.show()\n",
        "   ```\n",
        "\n",
        "   - **Pros**: Good for comparing individual data points or classes across multiple features.\n",
        "   - **Cons**: Difficult to interpret with too many features.\n",
        "\n",
        "### 7. **3D Scatter Plot**\n",
        "   - **Description**: A 3D scatter plot can help visualize relationships among three features at once. While not as intuitive as lower-dimensional plots, it can be useful when exploring interactions between a small set of features.\n",
        "   - **Use Case**: Works well when you want to see the relationship between exactly three features.\n",
        "   - **Visualization Tools**:\n",
        "     - **Python libraries**: `matplotlib`'s `Axes3D`\n",
        "\n",
        "   ```python\n",
        "   from mpl_toolkits.mplot3d import Axes3D\n",
        "   import matplotlib.pyplot as plt\n",
        "\n",
        "   fig = plt.figure()\n",
        "   ax = fig.add_subplot(111, projection='3d')\n",
        "   ax.scatter(data['Feature1'], data['Feature2'], data['Feature3'])\n",
        "   ax.set_xlabel('Feature1')\n",
        "   ax.set_ylabel('Feature2')\n",
        "   ax.set_zlabel('Feature3')\n",
        "   plt.show()\n",
        "   ```\n",
        "\n",
        "   - **Pros**: Direct visualization of three features.\n",
        "   - **Cons**: Can be challenging to interpret, especially when dealing with more than three features.\n",
        "\n",
        "### Conclusion:\n",
        "To test and visualize four or more features effectively, you should consider dimensionality reduction techniques (like PCA, t-SNE), pairwise plots, and correlation matrices to explore relationships. Each visualization technique has strengths depending on your dataset and goals. For high-dimensional datasets, reducing the dimensions while retaining meaningful information is often the best way to make the data comprehensible.\n",
        "\n",
        "\n",
        "4. Consider the results you got for the previous questions. Can we deal with a very small train dataset or validation dataset by increasing the iterations?\n",
        "\n",
        "Increasing the number of iterations (or epochs) during training is one possible approach to improving model performance when dealing with a small training or validation dataset, but **it is not a guaranteed solution** and should be used with caution. The effectiveness of increasing iterations depends on several factors. Let's explore this concept in detail:\n",
        "\n",
        "### 1. **Overfitting with Small Datasets**\n",
        "   - **Problem**: A small training dataset can lead to **overfitting**, where the model becomes overly tailored to the limited data and may not generalize well to unseen data. If the dataset is small, running the model for many iterations may just make it memorize the data, rather than learn the underlying patterns.\n",
        "   - **Increasing iterations** without any form of regularization or data augmentation can **exacerbate overfitting** because the model will simply over-learn the small dataset, leading to poor generalization.\n",
        "\n",
        "### 2. **Effect of Increasing Iterations**\n",
        "   - **Training Longer**: Increasing the number of iterations can help the model to converge to a better local minimum or improve performance by making small adjustments over time. However, this is only effective if the model is not overfitting and the learning process is still meaningful.\n",
        "   - **Diminishing Returns**: After a certain point, increasing iterations on a small dataset might lead to diminishing returns or even negative effects, such as:\n",
        "     - The model starts memorizing specific examples rather than learning generalizable patterns.\n",
        "     - Validation performance may degrade as overfitting increases.\n",
        "   \n",
        "### 3. **Better Approaches to Handle Small Datasets**\n",
        "   Instead of just increasing iterations, here are several strategies that can better help with small datasets:\n",
        "\n",
        "   - **Regularization**:\n",
        "     - **L2 Regularization (Ridge)** or **L1 Regularization (Lasso)** can prevent the model from fitting the noise in the dataset by adding a penalty for large weights. This helps control overfitting.\n",
        "     - **Dropout**: In neural networks, dropout randomly sets a portion of the neurons' outputs to zero, preventing overfitting by making the network less reliant on specific neurons.\n",
        "   \n",
        "   - **Data Augmentation**:\n",
        "     - If you are working with image or text data, applying **data augmentation** (e.g., rotating images, flipping, adding noise) can artificially increase the size of your dataset.\n",
        "     - For text, augmentation techniques like **synonym replacement** or **back translation** (translating to another language and back) can help create more variations of the same data.\n",
        "   \n",
        "   - **Cross-validation**:\n",
        "     - Use **k-fold cross-validation** to ensure that your model is validated on different subsets of the small dataset, which can help mitigate the issue of overfitting to a single training set.\n",
        "   \n",
        "   - **Transfer Learning**:\n",
        "     - If you have access to a pre-trained model (e.g., for image classification or NLP tasks), you can fine-tune it on your small dataset. This approach leverages knowledge from a large, pre-trained model, reducing the need for a large training dataset.\n",
        "   \n",
        "   - **Early Stopping**:\n",
        "     - Instead of just increasing iterations, monitor the validation performance during training and stop the training when the validation error starts to increase, which is an indication that overfitting is happening.\n",
        "   \n",
        "   - **Synthetic Data Generation**:\n",
        "     - **Generative models**, such as GANs (Generative Adversarial Networks), can be used to generate synthetic examples that mimic the underlying data distribution, thus increasing the size of the dataset.\n",
        "\n",
        "### 4. **Iterative Learning with Small Datasets**\n",
        "   - **Fine-Tuning**: For small datasets, you might want to perform more fine-tuned adjustments, such as **learning rate scheduling** (reducing the learning rate over time) to ensure that the model converges in a controlled manner, rather than just increasing iterations.\n",
        "   - **Batch Size**: Smaller batch sizes might be helpful in training on small datasets as they allow the model to update weights more frequently with each training step, improving convergence.\n",
        "\n",
        "### 5. **Validation Performance**\n",
        "   - Increasing iterations without improving generalization might not improve the **validation performance**. Instead, it could result in a growing gap between the training and validation loss, indicating overfitting. It's important to monitor the validation loss and ensure it doesn't diverge as training progresses.\n",
        "\n",
        "### Conclusion\n",
        "While increasing the number of iterations can sometimes help a model learn better from the data, **simply increasing iterations on a small dataset is not a comprehensive solution**. Without techniques to combat overfitting, increasing iterations will likely lead to overfitting rather than improved performance. The best approach involves a combination of increasing data through augmentation, using regularization techniques, and leveraging transfer learning or other strategies suited for small datasets."
      ]
    },
    {
      "cell_type": "markdown",
      "metadata": {
        "id": "z-SBxy1qevgJ"
      },
      "source": [
        "> Exercise: How does the accuracy of the 3 nearest neighbour classifier change with the number of splits? How is it affected by the split size? Compare the results with the 1 nearest neighbour classifier."
      ]
    }
  ],
  "metadata": {
    "colab": {
      "provenance": [],
      "include_colab_link": true
    },
    "kernelspec": {
      "display_name": "Python 3",
      "name": "python3"
    },
    "language_info": {
      "codemirror_mode": {
        "name": "ipython",
        "version": 3
      },
      "file_extension": ".py",
      "mimetype": "text/x-python",
      "name": "python",
      "nbconvert_exporter": "python",
      "pygments_lexer": "ipython3",
      "version": "3.10.10"
    }
  },
  "nbformat": 4,
  "nbformat_minor": 0
}