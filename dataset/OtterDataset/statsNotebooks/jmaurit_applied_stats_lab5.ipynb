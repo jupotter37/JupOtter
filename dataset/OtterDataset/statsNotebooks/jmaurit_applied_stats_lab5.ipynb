{
 "cells": [
  {
   "cell_type": "markdown",
   "id": "396e36bc",
   "metadata": {},
   "source": [
    "# Lab 5: Probability and Distributions"
   ]
  },
  {
   "cell_type": "markdown",
   "id": "c3435824",
   "metadata": {},
   "source": [
    "### Learning goals\n",
    "\n",
    "### Literature\n",
    "\n",
    "* ROS Ch. 3 (Much of this should be review, so skimming is ok)"
   ]
  },
  {
   "cell_type": "code",
   "execution_count": 78,
   "id": "085a4fd5",
   "metadata": {},
   "outputs": [],
   "source": [
    "import pandas as pd\n",
    "import numpy as np\n",
    "import matplotlib.pyplot as plt\n",
    "import seaborn as sns\n",
    "\n",
    "from cycler import cycler\n",
    "\n",
    "plt.rcParams['xtick.labelsize'] = 12\n",
    "plt.rcParams['ytick.labelsize'] = 12\n",
    "plt.rcParams[\"axes.labelsize\"]= 12\n",
    "plt.rcParams[\"figure.facecolor\"] = \"#f2f2f2\"\n",
    "#plt.rcParams['figure.savefig.dpi'] = 100\n",
    "plt.rcParams['savefig.edgecolor'] = \"#f2f2f2\"\n",
    "plt.rcParams['savefig.facecolor'] =\"#f2f2f2\"\n",
    "plt.rcParams[\"figure.figsize\"] = [16,10]\n",
    "plt.rcParams['savefig.bbox'] = \"tight\"\n",
    "plt.rcParams['font.size'] = 14\n",
    "greens = ['#66c2a4','#41ae76','#238b45','#006d2c','#00441b']\n",
    "multi =['#66c2a4','#1f78b4','#a6cee3','#b2df8a','#33a02c','#fb9a99','#e31a1c','#fdbf6f']\n",
    "plt.rcParams[\"axes.prop_cycle\"] = cycler(color=multi)\n",
    "\n",
    "\n",
    "\n"
   ]
  },
  {
   "cell_type": "markdown",
   "id": "cfb2556f",
   "metadata": {},
   "source": [
    "### Probability distributions"
   ]
  },
  {
   "cell_type": "markdown",
   "id": "e6cd5ac5",
   "metadata": {},
   "source": [
    "<iframe src=\"https://ntnu.cloud.panopto.eu/Panopto/Pages/Embed.aspx?id=086916a2-df36-4157-94cc-aee700cfeba9&autoplay=false&offerviewer=true&showtitle=true&showbrand=true&captions=false&interactivity=all\" height=\"405\" width=\"720\" style=\"border: 1px solid #464646;\" allowfullscreen allow=\"autoplay\"></iframe>"
   ]
  },
  {
   "cell_type": "markdown",
   "id": "293a8eed",
   "metadata": {},
   "source": [
    "We'll start here by generating some fake data - here I just want to generate data that I can think of is some form of error. \n",
    "\n",
    "To be concrete, we could think about measurement error. We could imagine that a biologist is measuring the diameter of a tree. If they measure that diameter 1000 times they might record slightly different values every time because of completly random factors like their hand position or if the wind blows the tape measure a bit. We could write a simple model as: \n",
    "\n",
    "$$M = D + \\epsilon$$\n",
    "\n",
    "Here $M$ is the measurement, D is the actual diameter of the tree and $\\epsilon$ is the error. $\\epsilon$ is what we call a random variable. It is not represented by a single value, but a range of possible values which have a certain distribution. \n",
    "\n",
    "Let's try to picture this distribution. \n",
    "\n",
    "We use the np.random to generate from a uniform distribution and then matplotlib to plot\n"
   ]
  },
  {
   "cell_type": "code",
   "execution_count": 24,
   "id": "736c6e9b",
   "metadata": {},
   "outputs": [],
   "source": [
    "num = 1000\n",
    "\n",
    "error = np.random.uniform(low=-1, high=1, size=num)"
   ]
  },
  {
   "cell_type": "code",
   "execution_count": 25,
   "id": "244392f8",
   "metadata": {},
   "outputs": [
    {
     "data": {
      "text/plain": [
       "(array([114.,  97.,  87.,  83.,  95., 110., 100.,  96., 115., 103.]),\n",
       " array([-9.99524339e-01, -7.99690569e-01, -5.99856798e-01, -4.00023028e-01,\n",
       "        -2.00189258e-01, -3.55487145e-04,  1.99478283e-01,  3.99312054e-01,\n",
       "         5.99145824e-01,  7.98979594e-01,  9.98813365e-01]),\n",
       " <BarContainer object of 10 artists>)"
      ]
     },
     "execution_count": 25,
     "metadata": {},
     "output_type": "execute_result"
    },
    {
     "data": {
      "image/png": "[encoded data removed]",
      "text/plain": [
       "<Figure size 432x288 with 1 Axes>"
      ]
     },
     "metadata": {
      "needs_background": "light"
     },
     "output_type": "display_data"
    }
   ],
   "source": [
    "plt.hist(error)"
   ]
  },
  {
   "cell_type": "markdown",
   "id": "7a37c69b",
   "metadata": {},
   "source": [
    "\n",
    "Over the range we have specified (-1 to 1) this looks pretty uniform--hence the name uniform distribution!\n",
    "\n",
    "Increase the number of observations (to 10,000, then 100,000) and see how the shape of the histogram changes.\n",
    "\n",
    "Two ways we often describe a distribution (other than plotting the histogram) are the mean of the distribution and the variance/standard deviations\n",
    "\n",
    "We can estimate the mean and standard deviation below:\n",
    "\n"
   ]
  },
  {
   "cell_type": "code",
   "execution_count": 26,
   "id": "fb53f1b1",
   "metadata": {},
   "outputs": [],
   "source": [
    "#mean\n",
    "\n",
    "mean_error = error.sum()/error.size\n",
    "\n",
    "#or simply:\n",
    "\n",
    "mean_error = error.mean()\n",
    "\n",
    "#Variance\n",
    "\n",
    "var_error= ((error-error.mean())**2).mean()\n",
    "\n",
    "#or\n",
    "\n",
    "var_error = error.var()\n",
    "\n",
    "#standard deviation\n",
    "\n",
    "std_error = np.sqrt(var_error)\n",
    "\n",
    "#or \n",
    "\n",
    "std_error = error.std()"
   ]
  },
  {
   "cell_type": "code",
   "execution_count": 27,
   "id": "b9275dca",
   "metadata": {},
   "outputs": [
    {
     "name": "stdout",
     "output_type": "stream",
     "text": [
      "mean 0.012602031010809426\n",
      "var 0.34539779038602975\n",
      "standard deviation 0.5877055303347329\n"
     ]
    }
   ],
   "source": [
    "print(\"mean\", mean_error)\n",
    "print(\"var\", var_error)\n",
    "print(\"standard deviation\", std_error)"
   ]
  },
  {
   "cell_type": "markdown",
   "id": "286d8cfb",
   "metadata": {},
   "source": [
    "### Simulation, playing god and statistics"
   ]
  },
  {
   "cell_type": "markdown",
   "id": "83047680",
   "metadata": {},
   "source": [
    "Already here we are illustrating a basic, but sometimes difficult concept in statistics - the idea that we are trying to estimate some \"true\" underlying value by computing some statistic on a sample of data. "
   ]
  },
  {
   "cell_type": "markdown",
   "id": "f47f6dd0",
   "metadata": {},
   "source": [
    "By simulating our own data, as above, we get the advantage of playing god and actually \"knowing\" what the *true* values are that we are trying to estimate.  "
   ]
  },
  {
   "cell_type": "markdown",
   "id": "fb13857f",
   "metadata": {},
   "source": [
    "So above, we have a \"true\" uniform distribution between the points a=-1 and b=1. \n",
    "\n",
    "By doing a little googling, we can find that the true mean (or expectation as we say in statistics-and which we often write as $\\mu$) is: \n",
    "\n",
    "$$\\mu = \\frac{a+b}{2} = \\frac{1--1}{2} = 0$$\n",
    "\n",
    "And that the \"true\" variance (which we often write as $\\sigma^2$ is\n",
    "\n",
    "$$\\sigma^2= \\frac{(b-a)^2}{12} = \\frac{(1--1)^2}{12} = \\frac{1}{3}$$\n",
    "\n",
    "The corresponding \"true\" standard deviation is:\n",
    "\n",
    "$$\\sigma = \\sqrt(1/3) \\approx 0.577$$"
   ]
  },
  {
   "cell_type": "markdown",
   "id": "6ee03237",
   "metadata": {},
   "source": [
    "Compare these *true* values to the estimates we computed earlier - they are pretty good!\n",
    "\n",
    "And if we increase the N - the number of draws from the distribution, to say 10,000 or 100,000, the estimates should get better and better. "
   ]
  },
  {
   "cell_type": "markdown",
   "id": "a7520bb9",
   "metadata": {},
   "source": [
    "Of course, we usually don't have the luxury of knowing the \"true\" values - that is the whole point of doing a statistical analysis. That's why it is often useful to do these types of \"fake data\" simulations to quality controll our estimation.  "
   ]
  },
  {
   "cell_type": "markdown",
   "id": "44ea3415",
   "metadata": {},
   "source": [
    "### Normal distribution - where it comes from"
   ]
  },
  {
   "cell_type": "markdown",
   "id": "f197ab46",
   "metadata": {},
   "source": [
    "<iframe src=\"https://ntnu.cloud.panopto.eu/Panopto/Pages/Embed.aspx?id=dfbee534-c76a-409c-9163-aee700cfd673&autoplay=false&offerviewer=true&showtitle=true&showbrand=true&captions=false&interactivity=all\" height=\"405\" width=\"720\" style=\"border: 1px solid #464646;\" allowfullscreen allow=\"autoplay\"></iframe>"
   ]
  },
  {
   "cell_type": "markdown",
   "id": "3523e314",
   "metadata": {},
   "source": [
    "Below we are going to program in some random numbers in a few loops. \n",
    "\n",
    "* We will start by generating 100 values from a uniform distribution\n",
    "* We will take a mean of that distribution and save it in an array\n",
    "* We repeat this 1000 times, and then we will look at the distribution (histogram) of the mean values. \n",
    "\n",
    "What shape do you expect to see in the histogram?"
   ]
  },
  {
   "cell_type": "code",
   "execution_count": 29,
   "id": "79de8415",
   "metadata": {},
   "outputs": [],
   "source": [
    "n = 1000 #number of draws from a uniform distribution\n",
    "m = 10000 #number of mean values of the 100 draws\n",
    "meanValues = [] # initialize an empty array\n",
    "\n",
    "for i in range(0,m): #create a for loop\n",
    "    uniData = np.random.uniform(low=-1, high=1, size=n) #generate 100 random numbers from a uniform distribution\n",
    "    meanValues.append(uniData.mean()) #take the mean of the generated data, then store than mean in MeanValues\n",
    "    "
   ]
  },
  {
   "cell_type": "code",
   "execution_count": 30,
   "id": "ca1bac95",
   "metadata": {},
   "outputs": [
    {
     "data": {
      "text/plain": [
       "<AxesSubplot:ylabel='Frequency'>"
      ]
     },
     "execution_count": 30,
     "metadata": {},
     "output_type": "execute_result"
    },
    {
     "data": {
      "image/png": "[encoded data removed]",
      "text/plain": [
       "<Figure size 432x288 with 1 Axes>"
      ]
     },
     "metadata": {
      "needs_background": "light"
     },
     "output_type": "display_data"
    }
   ],
   "source": [
    "pd.Series(meanValues).plot.hist(bins=25)"
   ]
  },
  {
   "cell_type": "markdown",
   "id": "d09f19ca",
   "metadata": {},
   "source": [
    "What we get is a distribution with the typical bell curve shape - what we call the normal distribution or gaussian distribution. \n",
    "\n",
    "The simple simulation we did is a demonstration of one of the most powerful concepts in statistics- what we call the central limit theorem. Basically, if you take draws (say 100) from a random variable--from any distribution--take the mean or sum of those draws and then repeat many times, the distribution of those sums/means will be normal! This is pretty magic. \n",
    "\n",
    "We see normal distributions everywhere - especially in nature, but also social systems (like an economy). The reason is the Central Limit Theorem:\n",
    "\n",
    "Any process that can be seen to be a summation or averaging of smaller steps will tend to be distributed normally. \n",
    "\n",
    "For example, lets consider heights among a class of university students in an applied statistics course. For each person, their height is the sum of small growth spurts--each day or each week say--according to some distribution. Summing up all these spurts gives you a students height. Looking at the distribution of these heights will then tend to be normally distributed. \n",
    "\n",
    "Because so many things in nature and society are normally distributed, we often times just assume something we are trying to measure or estimate is normally distributed - though this is not always the case, as we will see later in the course, and that can sometimes lead to problems."
   ]
  },
  {
   "cell_type": "markdown",
   "id": "60a1dfd8",
   "metadata": {},
   "source": [
    "### Simulating from a normal distribution"
   ]
  },
  {
   "cell_type": "markdown",
   "id": "3a681f90",
   "metadata": {},
   "source": [
    "<iframe src=\"https://ntnu.cloud.panopto.eu/Panopto/Pages/Embed.aspx?id=de7e9f2c-b1e4-4ecd-8cc7-aee700cfd671&autoplay=false&offerviewer=true&showtitle=true&showbrand=true&captions=false&interactivity=all\" height=\"405\" width=\"720\" style=\"border: 1px solid #464646;\" allowfullscreen allow=\"autoplay\"></iframe>"
   ]
  },
  {
   "cell_type": "markdown",
   "id": "6c8e59e0",
   "metadata": {},
   "source": [
    "We can easily simulate draws from a normal distribution directly"
   ]
  },
  {
   "cell_type": "code",
   "execution_count": 31,
   "id": "06b02de3",
   "metadata": {},
   "outputs": [],
   "source": [
    "X = np.random.normal(10, 1, 1000)"
   ]
  },
  {
   "cell_type": "markdown",
   "id": "fcd06330",
   "metadata": {},
   "source": [
    "In the above code we draw random numbers from a normal distribution which we describe as having true mean of equal to 10 and a standard deviation of 1. We draw 1000 numbers and put them in X. \n",
    "\n",
    "We could look at the first numbers, which lie close to 10, though in theory the tails of a normal distribution extend all the way to infinity. So in theory, we could get a number that is 100, but it would be very, very unlikely. "
   ]
  },
  {
   "cell_type": "markdown",
   "id": "fe93f20b",
   "metadata": {},
   "source": [
    "We might want to view our draws as a histogram histogram - so we transform our array to a pandas Series, and use the built-in charting function:"
   ]
  },
  {
   "cell_type": "code",
   "execution_count": 32,
   "id": "d1687096",
   "metadata": {},
   "outputs": [
    {
     "data": {
      "text/plain": [
       "<AxesSubplot:>"
      ]
     },
     "execution_count": 32,
     "metadata": {},
     "output_type": "execute_result"
    },
    {
     "data": {
      "image/png": "[encoded data removed]",
      "text/plain": [
       "<Figure size 432x288 with 1 Axes>"
      ]
     },
     "metadata": {
      "needs_background": "light"
     },
     "output_type": "display_data"
    }
   ],
   "source": [
    "X = pd.Series(X)\n",
    "X.hist(bins=50)"
   ]
  },
  {
   "cell_type": "markdown",
   "id": "fa4a0637",
   "metadata": {},
   "source": [
    "We can estimate the sample mean and sample standard distribution:"
   ]
  },
  {
   "cell_type": "code",
   "execution_count": 33,
   "id": "75becef0",
   "metadata": {},
   "outputs": [
    {
     "name": "stdout",
     "output_type": "stream",
     "text": [
      "9.933986035064258 0.995323569977079\n"
     ]
    }
   ],
   "source": [
    "print(X.mean(), X.std())"
   ]
  },
  {
   "cell_type": "markdown",
   "id": "e7fe9683",
   "metadata": {},
   "source": [
    "Pretty close to our \"true\" values for the mean and standard deviation!"
   ]
  },
  {
   "cell_type": "markdown",
   "id": "36df4e85",
   "metadata": {},
   "source": [
    "What happens if we increase the standard deviation to 4?"
   ]
  },
  {
   "cell_type": "code",
   "execution_count": 34,
   "id": "b8839e19",
   "metadata": {},
   "outputs": [],
   "source": [
    "N = 1000\n",
    "X2 =np.random.normal(10,4,N)"
   ]
  },
  {
   "cell_type": "code",
   "execution_count": 35,
   "id": "a19cf7bc",
   "metadata": {},
   "outputs": [
    {
     "data": {
      "text/plain": [
       "<AxesSubplot:>"
      ]
     },
     "execution_count": 35,
     "metadata": {},
     "output_type": "execute_result"
    },
    {
     "data": {
      "image/png": "[encoded data removed]",
      "text/plain": [
       "<Figure size 432x288 with 1 Axes>"
      ]
     },
     "metadata": {
      "needs_background": "light"
     },
     "output_type": "display_data"
    }
   ],
   "source": [
    "X2 = pd.Series(X2)\n",
    "X2.hist(bins=50)"
   ]
  },
  {
   "cell_type": "markdown",
   "id": "bdc7f0a9",
   "metadata": {},
   "source": [
    "We see that the shape is similar, the distribution is centered around 10, but now there is more spread. And that is what the standard deviation is meant to measure - how much variation there is in the data around the mean.  "
   ]
  },
  {
   "cell_type": "markdown",
   "id": "b2d492eb",
   "metadata": {},
   "source": [
    "What percentage of the numbers in the above distribution lie within 1 standard deviation of the mean. Above, that would be the number of draws that lie between 6 and 14 (10 +/- our standard deviation,4). We can easily calculate that: "
   ]
  },
  {
   "cell_type": "code",
   "execution_count": 36,
   "id": "99605f20",
   "metadata": {},
   "outputs": [
    {
     "data": {
      "text/plain": [
       "0.683"
      ]
     },
     "execution_count": 36,
     "metadata": {},
     "output_type": "execute_result"
    }
   ],
   "source": [
    "X2[(X2>6) & (X2<14)].count()/1000"
   ]
  },
  {
   "cell_type": "markdown",
   "id": "7ebcb9ae",
   "metadata": {},
   "source": [
    "You should get something around 68%, and in fact this is generally true - about 68 percent of the numbers - what statisticians call \"probability mass\" falls within 1 standard deviation of the mean. What about 2 standard deviations?\n",
    "\n",
    "In this example that would be +- 8, thus between 2 and 18. From above, we can already see that there are not many observations outside of this range in our sample, so perhaps here we should increase the number of observations in order to get a better estimate. "
   ]
  },
  {
   "cell_type": "code",
   "execution_count": 37,
   "id": "395e42ed",
   "metadata": {},
   "outputs": [],
   "source": [
    "N = 10000\n",
    "X2 =np.random.normal(10,4,N)"
   ]
  },
  {
   "cell_type": "code",
   "execution_count": 38,
   "id": "d81ed145",
   "metadata": {},
   "outputs": [
    {
     "data": {
      "text/plain": [
       "<AxesSubplot:>"
      ]
     },
     "execution_count": 38,
     "metadata": {},
     "output_type": "execute_result"
    },
    {
     "data": {
      "image/png": "[encoded data removed]",
      "text/plain": [
       "<Figure size 432x288 with 1 Axes>"
      ]
     },
     "metadata": {
      "needs_background": "light"
     },
     "output_type": "display_data"
    }
   ],
   "source": [
    "X2 = pd.Series(X2)\n",
    "X2.hist(bins=50)"
   ]
  },
  {
   "cell_type": "code",
   "execution_count": 39,
   "id": "01d84100",
   "metadata": {},
   "outputs": [
    {
     "data": {
      "text/plain": [
       "0.9564"
      ]
     },
     "execution_count": 39,
     "metadata": {},
     "output_type": "execute_result"
    }
   ],
   "source": [
    "X2[(X2>2) & (X2<18)].count()/N"
   ]
  },
  {
   "cell_type": "markdown",
   "id": "d530981c",
   "metadata": {},
   "source": [
    "Turns out that about 95% of the numbers (\"probability mass\") are between +/- 2 standard deviations of the mean. Again, this is generally true of normal distributions. The converse of course is that about 5% of the numbers lie outside this range. "
   ]
  },
  {
   "cell_type": "markdown",
   "id": "249da178",
   "metadata": {},
   "source": [
    "#### Linear transformation of normal distributions."
   ]
  },
  {
   "cell_type": "markdown",
   "id": "18518fe6",
   "metadata": {},
   "source": [
    "Let us say we now have a distribution of Female heights and a distribution of Male heights:"
   ]
  },
  {
   "cell_type": "code",
   "execution_count": 110,
   "id": "020572b2",
   "metadata": {},
   "outputs": [
    {
     "data": {
      "text/plain": [
       "<AxesSubplot:>"
      ]
     },
     "execution_count": 110,
     "metadata": {},
     "output_type": "execute_result"
    },
    {
     "data": {
      "image/png": "[encoded data removed]",
      "text/plain": [
       "<Figure size 432x288 with 1 Axes>"
      ]
     },
     "metadata": {
      "needs_background": "light"
     },
     "output_type": "display_data"
    }
   ],
   "source": [
    "XY = pd.Series(np.random.normal(165,10,10000))\n",
    "XX = pd.Series(np.random.normal(155,8, 10000))\n",
    "\n",
    "fig, ax = plt.subplots()\n",
    "XY.hist(ax=ax, color=\"Blue\", alpha=.5, bins=50)\n",
    "XX.hist(ax=ax, color=\"Purple\", alpha=.5, bins=50)\n",
    "\n"
   ]
  },
  {
   "cell_type": "markdown",
   "id": "dd923306",
   "metadata": {},
   "source": [
    "Here we draw from normal distributions where the height of men is on average 165cm with a standard deviation of 10 and the height of females is 155 with a standard deviation of around 8. (These are made up, but they seemed reasonable). \n",
    "\n",
    "If you don't understand why we use the names XY and XX, you need to go check out a biology textbook and look up chromosomes. \n",
    "\n",
    "What is the distribution of the difference between male and female heights?"
   ]
  },
  {
   "cell_type": "code",
   "execution_count": 111,
   "id": "06ee2acb",
   "metadata": {},
   "outputs": [
    {
     "name": "stdout",
     "output_type": "stream",
     "text": [
      "Mean: 10.090006359997435 Std. Dev: 12.634029955688597\n"
     ]
    },
    {
     "data": {
      "image/png": "[encoded data removed]",
      "text/plain": [
       "<Figure size 432x288 with 1 Axes>"
      ]
     },
     "metadata": {
      "needs_background": "light"
     },
     "output_type": "display_data"
    }
   ],
   "source": [
    "D = XY-XX\n",
    "D.hist(bins=50)\n",
    "print(\"Mean:\", D.mean(), \"Std. Dev:\", D.std())"
   ]
  },
  {
   "cell_type": "markdown",
   "id": "112cd263",
   "metadata": {},
   "source": [
    "A few things to notice. \n",
    "\n",
    "1. The difference of two normal distributions is also normal. This is generally true - any linear transformation of one or multiple normal distributions will be normal. \n",
    "\n",
    "2. Not suprisingly, the mean of the difference is the difference in the means of the distributions (165-155=10). Our sample difference mean is pretty close. \n",
    "\n",
    "3. When adding or subtracting two normal distributions with standard deviations $\\sigma_{XX}$ and $\\sigma_{XY}$ then we can use the formula:\n",
    "\n",
    "$$\\sigma_D = \\sqrt{\\sigma_{XY} + \\sigma_{XX}}$$"
   ]
  },
  {
   "cell_type": "markdown",
   "id": "41e173af",
   "metadata": {},
   "source": [
    "So we can caluclate the \"true\" standard deviation of our difference in height:"
   ]
  },
  {
   "cell_type": "code",
   "execution_count": 218,
   "id": "21d4ba81",
   "metadata": {},
   "outputs": [
    {
     "data": {
      "text/plain": [
       "12.806248474865697"
      ]
     },
     "execution_count": 218,
     "metadata": {},
     "output_type": "execute_result"
    }
   ],
   "source": [
    "np.sqrt(10**2 + 8**2)"
   ]
  },
  {
   "cell_type": "markdown",
   "id": "e82d5b7a",
   "metadata": {},
   "source": [
    "Again, pretty close to our \"sample\" value. Notice that in the book (ROS p.42) they do a slightly different calculation. Here they take the difference in means and ask what the standard deviation would be of the **distribution of the means**. In assignment 1 below, you are asked to simulate and estimate this scenario. "
   ]
  },
  {
   "cell_type": "markdown",
   "id": "86ac26ec",
   "metadata": {},
   "source": [
    "## Correlated random variables"
   ]
  },
  {
   "cell_type": "markdown",
   "id": "e47c7e9f",
   "metadata": {},
   "source": [
    "<iframe src=\"https://ntnu.cloud.panopto.eu/Panopto/Pages/Embed.aspx?id=57f7ec62-125f-48c0-96e1-aee700cfd66c&autoplay=false&offerviewer=true&showtitle=true&showbrand=true&captions=false&interactivity=all\" height=\"405\" width=\"720\" style=\"border: 1px solid #464646;\" allowfullscreen allow=\"autoplay\"></iframe>"
   ]
  },
  {
   "cell_type": "raw",
   "id": "ef14cac4",
   "metadata": {},
   "source": [
    "Let's now say that we have two variables, but rather than being independent, we say that they are correlated to each other. \n",
    "\n",
    "We can generate draws from two such random variables, X, Y"
   ]
  },
  {
   "cell_type": "code",
   "execution_count": 48,
   "id": "45f5c938",
   "metadata": {},
   "outputs": [],
   "source": [
    "X = pd.Series(np.random.normal(10,4,10000))\n",
    "Y = pd.Series(2+.2*X + np.random.normal(0,2,10000))"
   ]
  },
  {
   "cell_type": "code",
   "execution_count": 49,
   "id": "d6065b21",
   "metadata": {},
   "outputs": [
    {
     "name": "stdout",
     "output_type": "stream",
     "text": [
      "10.080092065167234 4.0124398268964425\n",
      "3.938844293851789 2.135951324016195\n"
     ]
    }
   ],
   "source": [
    "print(X.mean(), Y.mean())\n",
    "print(X.std(), Y.std())"
   ]
  },
  {
   "cell_type": "markdown",
   "id": "c7e87fba",
   "metadata": {},
   "source": [
    "Here X is a sample from a normal distribution with mean 10 and standard deviation 4. We draw 1000 observations\n",
    "\n",
    "Y is a linear combination of constant (5), .2*X, plus an added error term with 0 mean and standard deviation of 2. Since it is a linear combination of normal distribution, Y should also be normally distributed. \n",
    "\n",
    "Let's plot these two as a scatter plot so that we can see the correlation and as histograms: "
   ]
  },
  {
   "cell_type": "code",
   "execution_count": 50,
   "id": "eb52da66",
   "metadata": {},
   "outputs": [
    {
     "data": {
      "text/plain": [
       "<matplotlib.legend.Legend at 0x7f9d391b5550>"
      ]
     },
     "execution_count": 50,
     "metadata": {},
     "output_type": "execute_result"
    },
    {
     "data": {
      "image/png": "[encoded data removed]",
      "text/plain": [
       "<Figure size 432x288 with 2 Axes>"
      ]
     },
     "metadata": {
      "needs_background": "light"
     },
     "output_type": "display_data"
    }
   ],
   "source": [
    "fix, ax = plt.subplots(2)\n",
    "ax[0].scatter(X,Y, alpha=.2)\n",
    "X.hist(bins=30, ax=ax[1], alpha=.5, label=\"X\")\n",
    "Y.hist(bins=30, ax=ax[1], alpha=.5, label=\"Y\")\n",
    "plt.legend()"
   ]
  },
  {
   "cell_type": "markdown",
   "id": "4e6b9861",
   "metadata": {},
   "source": [
    "We can calculate the sample correlation of these random variables using the formula for correlation coefficient:\n",
    "\n",
    "$$\\rho_{XY} = \\frac{E((X-\\mu_X)(Y-\\mu_Y))}{\\sigma_X*\\sigma_Y}$$"
   ]
  },
  {
   "cell_type": "code",
   "execution_count": 51,
   "id": "8914f13f",
   "metadata": {},
   "outputs": [
    {
     "name": "stdout",
     "output_type": "stream",
     "text": [
      "0.3789129536203976\n"
     ]
    }
   ],
   "source": [
    "corr = np.mean((X-X.mean())*(Y-Y.mean()))/(X.std()*Y.std())\n",
    "\n",
    "print(corr)\n",
    "\n"
   ]
  },
  {
   "cell_type": "markdown",
   "id": "02353fc2",
   "metadata": {},
   "source": [
    "Or more easily (this function returns a matrix of values in cases where you want to investigate correlation coefficients across multiple variables)"
   ]
  },
  {
   "cell_type": "code",
   "execution_count": 52,
   "id": "e82adecf",
   "metadata": {},
   "outputs": [
    {
     "data": {
      "text/plain": [
       "array([[1.        , 0.37895085],\n",
       "       [0.37895085, 1.        ]])"
      ]
     },
     "execution_count": 52,
     "metadata": {},
     "output_type": "execute_result"
    }
   ],
   "source": [
    "np.corrcoef(X, Y)"
   ]
  },
  {
   "cell_type": "markdown",
   "id": "39a7c897",
   "metadata": {},
   "source": [
    "We should get something close to .37"
   ]
  },
  {
   "cell_type": "markdown",
   "id": "40b54ffa",
   "metadata": {},
   "source": [
    "But wait! In creating Y, we used the .2 as the coefficient on the X random variable. Why is the correlation coefficient .37?\n",
    "\n",
    "The reason is that the relative standard deviations of the two random variables will also determine the correlation coefficient (as you can see in the formula above). \n",
    "\n",
    "Try generating the values for X and Y about but with the same standard deviations. "
   ]
  },
  {
   "cell_type": "markdown",
   "id": "dee5eaf7",
   "metadata": {},
   "source": [
    "\n"
   ]
  },
  {
   "cell_type": "markdown",
   "id": "059b8427",
   "metadata": {},
   "source": [
    "#### Adding two correlated random variables"
   ]
  },
  {
   "cell_type": "markdown",
   "id": "bd7310e0",
   "metadata": {},
   "source": [
    "Now let's investigate what happens when we add these two correlated random variables"
   ]
  },
  {
   "cell_type": "code",
   "execution_count": 53,
   "id": "3206a531",
   "metadata": {},
   "outputs": [
    {
     "data": {
      "text/plain": [
       "<matplotlib.legend.Legend at 0x7f9d485dd040>"
      ]
     },
     "execution_count": 53,
     "metadata": {},
     "output_type": "execute_result"
    },
    {
     "data": {
      "image/png": "[encoded data removed]",
      "text/plain": [
       "<Figure size 432x288 with 1 Axes>"
      ]
     },
     "metadata": {
      "needs_background": "light"
     },
     "output_type": "display_data"
    }
   ],
   "source": [
    "Z=X+Y\n",
    "\n",
    "fix, ax = plt.subplots(1)\n",
    "X.hist(bins=50, ax=ax, alpha=.5, label=\"X\")\n",
    "Y.hist(bins=50, ax=ax, alpha=.5, label=\"Y\")\n",
    "Z.hist(bins=50, ax=ax, alpha=.5, label=\"Z\")\n",
    "\n",
    "\n",
    "plt.legend()"
   ]
  },
  {
   "cell_type": "markdown",
   "id": "434893ee",
   "metadata": {},
   "source": [
    "Now let's take the sample mean and standard deviation"
   ]
  },
  {
   "cell_type": "code",
   "execution_count": 47,
   "id": "2bc35fd4",
   "metadata": {},
   "outputs": [
    {
     "name": "stdout",
     "output_type": "stream",
     "text": [
      "14.008501544366839 5.232848315894954\n"
     ]
    }
   ],
   "source": [
    "print(Z.mean(), Z.std())"
   ]
  },
  {
   "cell_type": "markdown",
   "id": "a177dea7",
   "metadata": {},
   "source": [
    "We can probably see already that the mean of the summed variable will just be $\\mu_Z = \\mu_X + \\mu_Y = 10+4=14$"
   ]
  },
  {
   "cell_type": "markdown",
   "id": "bdf985da",
   "metadata": {},
   "source": [
    "The formula for the true standard deviation is a bit more complicated: $\\sigma_z = \\sqrt{\\sigma_X^2 + \\sigma_Y^2 + 2 \\rho \\sigma_X \\sigma_Y}$\n",
    "\n",
    "When we calculate that out:"
   ]
  },
  {
   "cell_type": "code",
   "execution_count": 54,
   "id": "496b32aa",
   "metadata": {},
   "outputs": [
    {
     "data": {
      "text/plain": [
       "5.091168824543142"
      ]
     },
     "execution_count": 54,
     "metadata": {},
     "output_type": "execute_result"
    }
   ],
   "source": [
    "np.sqrt(4**2 + 2**2 + 2*.37*4*2)"
   ]
  },
  {
   "cell_type": "markdown",
   "id": "9c2dfcb0",
   "metadata": {},
   "source": [
    "Out sample standard deviation should be pretty close"
   ]
  },
  {
   "cell_type": "markdown",
   "id": "c5bdc860",
   "metadata": {},
   "source": [
    "### Other distributions"
   ]
  },
  {
   "cell_type": "markdown",
   "id": "48548d67",
   "metadata": {},
   "source": [
    "<iframe src=\"https://ntnu.cloud.panopto.eu/Panopto/Pages/Embed.aspx?id=b4e3f235-3487-4caf-87e6-aee700cfd66f&autoplay=false&offerviewer=true&showtitle=true&showbrand=true&captions=false&interactivity=all\" height=\"405\" width=\"720\" style=\"border: 1px solid #464646;\" allowfullscreen allow=\"autoplay\"></iframe>"
   ]
  },
  {
   "cell_type": "markdown",
   "id": "11fcfa02",
   "metadata": {},
   "source": [
    "#### Heads or tails: Binomial distribution"
   ]
  },
  {
   "cell_type": "markdown",
   "id": "772f9282",
   "metadata": {},
   "source": [
    "Lots of things in life are binary: Pass or fail, accepted or not accepted, promoted or not promoted, score or not score and so on. We might like a distribution that describes a set of (independent) such events. That is what the **binomial distribution** is. "
   ]
  },
  {
   "cell_type": "markdown",
   "id": "4adf70d6",
   "metadata": {},
   "source": [
    "The inputs to a binomial distribution are a probability of success, *p*, and a number of trials or attempts or shots or lottery tickets or whatever, *n*. \n",
    "\n",
    "The output, in a way is a draw of the number of successes. \n",
    "\n",
    "So let's say we are modelling the number of people who pass a tough on-road driving test the first time in a given day, which historically has had a pass rate of about 30%.\n",
    "\n",
    "We consider each trial to be independent and we assume that about 100 people take the test per day.\n",
    "\n",
    "We look at 10 days of data"
   ]
  },
  {
   "cell_type": "code",
   "execution_count": 71,
   "id": "65080653",
   "metadata": {},
   "outputs": [
    {
     "data": {
      "text/plain": [
       "0       30\n",
       "1       32\n",
       "2       38\n",
       "3       25\n",
       "4       29\n",
       "        ..\n",
       "9995    25\n",
       "9996    31\n",
       "9997    31\n",
       "9998    36\n",
       "9999    41\n",
       "Length: 10000, dtype: int64"
      ]
     },
     "execution_count": 71,
     "metadata": {},
     "output_type": "execute_result"
    }
   ],
   "source": [
    "n=100\n",
    "p=.3\n",
    "size=10\n",
    "\n",
    "\n",
    "numPass = pd.Series(np.random.binomial(n,p, size))\n",
    "numPass"
   ]
  },
  {
   "cell_type": "markdown",
   "id": "9c62e8ab",
   "metadata": {},
   "source": [
    "So above, with a success probability of around $p=.3$ and 100 days, we got a number of sucesses that tend to land around 30. We can calculate our sample mean and standard deviation:"
   ]
  },
  {
   "cell_type": "code",
   "execution_count": 72,
   "id": "d5c1960a",
   "metadata": {},
   "outputs": [
    {
     "name": "stdout",
     "output_type": "stream",
     "text": [
      "30.0608 4.570119468809946\n"
     ]
    }
   ],
   "source": [
    "print(numPass.mean(), numPass.std())"
   ]
  },
  {
   "cell_type": "markdown",
   "id": "d7e29c0f",
   "metadata": {},
   "source": [
    "The \"true mean\" for a binomial distribution is $n*p = 100*.3=30$. So our sample mean was not too far off. "
   ]
  },
  {
   "cell_type": "markdown",
   "id": "daafef23",
   "metadata": {},
   "source": [
    "The standard deviation is $\\sqrt{np(1-p)}$:"
   ]
  },
  {
   "cell_type": "code",
   "execution_count": 73,
   "id": "faffda16",
   "metadata": {},
   "outputs": [
    {
     "data": {
      "text/plain": [
       "4.58257569495584"
      ]
     },
     "execution_count": 73,
     "metadata": {},
     "output_type": "execute_result"
    }
   ],
   "source": [
    "np.sqrt(n*p*(1-p))"
   ]
  },
  {
   "cell_type": "markdown",
   "id": "1408f18b",
   "metadata": {},
   "source": [
    "Again, the \"true\" standard deviation is not to far the same standard deviation. \n",
    "\n",
    "Below is a histogram of our distribution. Now, change the simulation about so that we get a size of 1000, and then 10.000. What happens to the histogram below?"
   ]
  },
  {
   "cell_type": "code",
   "execution_count": 75,
   "id": "4c9aa596",
   "metadata": {},
   "outputs": [
    {
     "data": {
      "text/plain": [
       "<AxesSubplot:>"
      ]
     },
     "execution_count": 75,
     "metadata": {},
     "output_type": "execute_result"
    },
    {
     "data": {
      "image/png": "[encoded data removed]",
      "text/plain": [
       "<Figure size 432x288 with 1 Axes>"
      ]
     },
     "metadata": {
      "needs_background": "light"
     },
     "output_type": "display_data"
    }
   ],
   "source": [
    "numPass.hist(bins=50)"
   ]
  },
  {
   "cell_type": "markdown",
   "id": "91632e41",
   "metadata": {},
   "source": [
    "The larger the sample you get, the more it should begin to look like a normal distribution. And in fact, as the sample size gets larger and larger, the normal distribution becomes an increasingly good approximation for the binomial distribution. "
   ]
  },
  {
   "cell_type": "markdown",
   "id": "9724a80c",
   "metadata": {},
   "source": [
    "#### Count data and poisson distribution"
   ]
  },
  {
   "cell_type": "markdown",
   "id": "11680148",
   "metadata": {},
   "source": [
    "Let's say I am a manager at a large fast-food restaurant. I want to get an idea of how many people I need working and would like to see a distribution of the number of customers that might be expected to arrive per hour. Historically, there has been average of 5 customers per hour. \n",
    "\n",
    "This type of count data can often be modelled with what is called a poisson distribution. All you need is an expected rate (in this case 5 per hour):"
   ]
  },
  {
   "cell_type": "code",
   "execution_count": 76,
   "id": "3fa7e9a4",
   "metadata": {},
   "outputs": [],
   "source": [
    "custPerHour = pd.Series(np.random.poisson(5,10000))"
   ]
  },
  {
   "cell_type": "code",
   "execution_count": 77,
   "id": "214e6efd",
   "metadata": {},
   "outputs": [
    {
     "data": {
      "text/plain": [
       "<AxesSubplot:>"
      ]
     },
     "execution_count": 77,
     "metadata": {},
     "output_type": "execute_result"
    },
    {
     "data": {
      "image/png": "[encoded data removed]",
      "text/plain": [
       "<Figure size 432x288 with 1 Axes>"
      ]
     },
     "metadata": {
      "needs_background": "light"
     },
     "output_type": "display_data"
    }
   ],
   "source": [
    "custPerHour.hist(bins=50)"
   ]
  },
  {
   "cell_type": "markdown",
   "id": "8fd5f151",
   "metadata": {},
   "source": [
    "Poisson distributions must be positive, so normal distributions are poor proxies since they can go negative. Above we can see that we have some longer positive tail (\"positive skew\"), which indicates the possibility for a few times where you will get many customers. We can calculate the mean (expectation) and variance (I will explain why:"
   ]
  },
  {
   "cell_type": "code",
   "execution_count": 295,
   "id": "46e197dd",
   "metadata": {},
   "outputs": [
    {
     "name": "stdout",
     "output_type": "stream",
     "text": [
      "5.0164 4.9978308230824915\n"
     ]
    }
   ],
   "source": [
    "print(custPerHour.mean(), custPerHour.var())"
   ]
  },
  {
   "cell_type": "markdown",
   "id": "ec0c275c",
   "metadata": {},
   "source": [
    "Both the sample mean (expectation) and sample variance are pretty close to the \"true\" mean (5). In fact, this is generally true of the poisson distribution: the variance is the same as the mean. \n",
    "\n",
    "This makes things easy in some ways, but it is often a limitation and in real life, count data often have more variance (or \"dispersion\" as it is sometimes called) than a poisson distribution indicates. Therefor, modelling of count data often makes use of \"over-disersed\" poisson models that allow for specifying larger variances."
   ]
  },
  {
   "cell_type": "markdown",
   "id": "1f9cadf7",
   "metadata": {},
   "source": [
    "\n"
   ]
  },
  {
   "cell_type": "markdown",
   "id": "dfe3e492",
   "metadata": {},
   "source": [
    "# Assignment"
   ]
  },
  {
   "cell_type": "markdown",
   "id": "b6b0259c",
   "metadata": {},
   "source": [
    "## 1 Distribution of difference of means\n",
    "\n",
    "ROS (p42) take a sample from two normal distributions (heights of mean and woman) and then calculate a mean value. Then they ask what the standard deviation is of the *mean* value. \n",
    "\n",
    "Simulate an answer to this question: \n",
    "\n",
    "- Create a for loop with 1000 loops. \n",
    "\n",
    "- Within each loop, draw two normal samples, XX and XY. XX is the height of females and has a mean of 63.7 and a standard deviation of 2.7. XY is the height of males has has a mean of 69.1 and a standard deviation of 2.9. \n",
    "\n",
    "- For both the male and female samples, take the mean value for height for each, then calculate the mean difference. Store this value in a list or array. \n",
    "\n",
    "- Now calculate the mean and standard deviation of the 1000 values you have calculated. Is it close to the \"true\" value as calculated in the book?"
   ]
  },
  {
   "cell_type": "markdown",
   "id": "33cb9e06",
   "metadata": {},
   "source": [
    "## 2. Binomial distribution and normal distribution\n",
    "\n",
    "* Generate a series from a binomial distribution, again with a p=.3, but now with n=1000. Generate 10,000 samples and store in an array.\n",
    "* Generate a series from a normal distribution where the mean and std. deviation are calculated according to the formulas for the binomial distribution ($mean=np$, $std=\\sqrt{np(1-p)}$) and numbers above (n=1000, p=.3)\n",
    "* Plot both histograms on the same axis (perhaps with alpha=.5 to make transparent. When n is large, does it look like the normal distribution is a good proxy for the binomial distribution?"
   ]
  },
  {
   "cell_type": "markdown",
   "id": "9d066bbe",
   "metadata": {},
   "source": [
    "## 3. Distributions and real data\n",
    "\n",
    "Load in the data from Penn World tables introduced in lab 2. \n",
    "\n",
    "* Create a variable for real GDP (expenditure) per capita. Take a histogram of the data for a certain year.\n",
    "\n",
    "* Does it look roughly normal?\n",
    "\n",
    "* Take a log-transformation of the rgdp series. Plot a histogram of the transformed series. If rgdpe was normal, then the log transformed variable should have a log-normal distribution. (Log transformations are often done on all-positive series to make geometric relationships linear. So let's say that the relationship between GDP and the human capital index can be written: $GDP = ae^{bHC}$. Taking the log of both sides, we get $log(GDP) = log(a) + bHC$)\n",
    "\n",
    "* Calculate the correlation coefficient between real GDP per capital (expenditure) and the Human capital index for the year 2019\n",
    "\n",
    "* Calculate the correlation coefficient between real GDP for every year there is available data (use groupby and then iterate throught he data frame). Does the correlation coefficient seem to change much over the years? Can you speculate on the reason for the pattern?"
   ]
  },
  {
   "cell_type": "markdown",
   "id": "4380189c",
   "metadata": {},
   "source": [
    "## 4. Distribution of electricity prices\n",
    "\n",
    "Load data for electricity prices (found in lab 3) in Norway (Oslo prices). \n",
    "\n",
    "* Plot a histogram of the data. Does it look normal? \n",
    "\n",
    "* Let's say you assume electricity prices are normal. Take the mean and standard deviation of the prices. Using the assumption of normality, calculate what percentage of the time you would expect prices to be above 100 EURO/MWH\n",
    "\n",
    "* What does this exercise tell you about the danger of incorrectly assuming a normal distribution when calculating risks?"
   ]
  },
  {
   "cell_type": "code",
   "execution_count": null,
   "id": "47a031cb",
   "metadata": {},
   "outputs": [],
   "source": []
  }
 ],
 "metadata": {
  "kernelspec": {
   "display_name": "Python 3 (ipykernel)",
   "language": "python",
   "name": "python3"
  },
  "language_info": {
   "codemirror_mode": {
    "name": "ipython",
    "version": 3
   },
   "file_extension": ".py",
   "mimetype": "text/x-python",
   "name": "python",
   "nbconvert_exporter": "python",
   "pygments_lexer": "ipython3",
   "version": "3.9.7"
  }
 },
 "nbformat": 4,
 "nbformat_minor": 5
}
