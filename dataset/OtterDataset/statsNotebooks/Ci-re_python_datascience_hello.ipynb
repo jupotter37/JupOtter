{
 "cells": [
  {
   "cell_type": "code",
   "execution_count": null,
   "metadata": {},
   "outputs": [],
   "source": [
    "## from datasets import list_datasets, load_dataset\n",
    "import pandas as pd\n",
    "import numpy as np\n",
    "\n",
    "ds = pd.read_csv(\"titanic3.csv\")\n",
    "print(ds)\n",
    "pd.isnull(ds)\n"
   ]
  },
  {
   "cell_type": "code",
   "execution_count": null,
   "metadata": {},
   "outputs": [],
   "source": [
    "num11 = 1\n",
    "num22 = 2\n",
    "result = num11 + num22\n",
    "\n",
    "\n",
    "numz, numy = 1, 4\n",
    "print(numz + numy)\n",
    "print(result)\n",
    "\n",
    "\n",
    "name = 'Peter James'\n",
    "age = '12'\n",
    "print(name + age)\n",
    "\n",
    "text = \"Peter is {} years old\"\n",
    "age = 12\n",
    "result = text.format(age)\n",
    "print(result)\n",
    "\n",
    "## reverse a given string\n",
    "text = \"This is for practice purpose\"\n",
    "print(text[::-1])\n",
    "\n",
    "\n",
    "## Using enumerate keyword\n",
    "animals = ['cat', 'goat', 'dog']\n",
    "for index, value in enumerate(animals):\n",
    "    print(str(index) + ' '+ str(value))\n",
    "    print(f'{str(index)} {str(value)}')\n",
    "\n",
    "\n",
    "## Fibonacci\n",
    "a, b = 0, 1\n",
    "while a < 100:\n",
    "    print(a)\n",
    "    a, b = b, a+b\n",
    "\n",
    "\n",
    "## Recurssion in Python\n",
    "def sum_recursion(n):\n",
    "    return 0 if(n == 0) else n + sum_recursion(n-1)\n",
    "\n",
    "sum_recursion(6)\n",
    "\n",
    "## using recurssion to calculate factorial\n",
    "def factorial_recursion(n):\n",
    "    return 1 if(n == 0) else n * factorial_recursion(n-1)\n",
    "\n",
    "factorial_recursion(5)"
   ]
  },
  {
   "cell_type": "code",
   "execution_count": 35,
   "metadata": {},
   "outputs": [
    {
     "name": "stdout",
     "output_type": "stream",
     "text": [
      "deque([10, 'James', False])\n"
     ]
    }
   ],
   "source": [
    "## Data Structures\n",
    "## Running time analysis\n",
    "\n",
    "## Doubly Linked List\n",
    "import collections\n",
    "my_list = collections.deque([])\n",
    "my_list.append(10)\n",
    "my_list.append(\"James\")\n",
    "my_list.append(False)\n",
    "\n",
    "print(my_list)"
   ]
  },
  {
   "cell_type": "code",
   "execution_count": 54,
   "metadata": {},
   "outputs": [
    {
     "name": "stdout",
     "output_type": "stream",
     "text": [
      "<class 'numpy.ndarray'>\n",
      "[1 2 3 4 5]\n",
      "[12  2  3  4  5]\n",
      "0\n",
      "[1 2 3]\n",
      "1\n",
      "[4 5 6]\n"
     ]
    }
   ],
   "source": [
    "## Numpy\n",
    "\n",
    "import numpy as np\n",
    "\n",
    "python_list = [1,2,3,4]\n",
    "numpy_array = np.array(python_list)\n",
    "print(type(numpy_array))\n",
    "\n",
    "arr = np.array([1,2,3,4,5])\n",
    "print(arr)\n",
    "\n",
    "arr[0] = 12\n",
    "print(arr)\n",
    "\n",
    "np.insert(arr, 2, 30)\n"
   ]
  },
  {
   "cell_type": "code",
   "execution_count": 57,
   "metadata": {},
   "outputs": [
    {
     "name": "stdout",
     "output_type": "stream",
     "text": [
      "1\n",
      "2\n",
      "3\n",
      "4\n",
      "5\n",
      "6\n"
     ]
    }
   ],
   "source": [
    "## Multi dimensional array\n",
    "nums = np.array([[1,2,3],[4,5,6]])\n",
    "for row in nums:\n",
    "    for item in row:\n",
    "        print(item)"
   ]
  },
  {
   "cell_type": "code",
   "execution_count": null,
   "metadata": {},
   "outputs": [],
   "source": [
    "## Basic Statistics for ML\n",
    "## Mean\n",
    "## The mean or the expected value of x: E(x) of a random variable is the mean average value\n",
    "## in the population"
   ]
  },
  {
   "attachments": {},
   "cell_type": "markdown",
   "metadata": {},
   "source": [
    "expected value = summation (outcome * probability)"
   ]
  }
 ],
 "metadata": {
  "kernelspec": {
   "display_name": "Python 3",
   "language": "python",
   "name": "python3"
  },
  "language_info": {
   "codemirror_mode": {
    "name": "ipython",
    "version": 3
   },
   "file_extension": ".py",
   "mimetype": "text/x-python",
   "name": "python",
   "nbconvert_exporter": "python",
   "pygments_lexer": "ipython3",
   "version": "3.11.3"
  },
  "orig_nbformat": 4
 },
 "nbformat": 4,
 "nbformat_minor": 2
}
