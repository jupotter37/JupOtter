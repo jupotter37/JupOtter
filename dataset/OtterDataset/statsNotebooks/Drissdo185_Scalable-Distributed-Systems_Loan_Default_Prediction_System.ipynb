{
  "cells": [
    {
      "cell_type": "markdown",
      "id": "2dfe2323-a4b9-42a5-8c2e-41dea444a5dd",
      "metadata": {
        "id": "2dfe2323-a4b9-42a5-8c2e-41dea444a5dd"
      },
      "source": [
        "# Task 1: Data Acquisition and Preprocessing"
      ]
    },
    {
      "cell_type": "code",
      "execution_count": 1,
      "id": "7de27305-d53e-4315-b62e-386ed309deda",
      "metadata": {
        "id": "7de27305-d53e-4315-b62e-386ed309deda"
      },
      "outputs": [],
      "source": [
        "from pyspark.sql import SparkSession\n",
        "from pyspark.sql.functions import col, when, isnan, count, log1p\n",
        "from pyspark.ml.feature import (\n",
        "    StringIndexer, OneHotEncoder, MinMaxScaler, VectorAssembler\n",
        ")\n",
        "from pyspark.ml.classification import LogisticRegression, RandomForestClassifier, GBTClassifier\n",
        "from pyspark.ml.evaluation import BinaryClassificationEvaluator, MulticlassClassificationEvaluator\n",
        "from pyspark.ml.stat import Correlation\n",
        "from pyspark.ml.tuning import ParamGridBuilder, CrossValidator\n",
        "from pyspark.ml import Pipeline\n",
        "from pyspark.storagelevel import StorageLevel\n",
        "from pyspark.ml.tuning import TrainValidationSplit\n",
        "from pyspark.ml.functions import vector_to_array"
      ]
    },
    {
      "cell_type": "markdown",
      "id": "d31ba825-a6d5-4468-ab6b-5e14e36569d0",
      "metadata": {
        "id": "d31ba825-a6d5-4468-ab6b-5e14e36569d0"
      },
      "source": [
        "## Step 1: Data Acquisition\n",
        "Gather historical loan data from the provided source."
      ]
    },
    {
      "cell_type": "markdown",
      "id": "2b10aa58-6bef-4160-a8b6-e745b1042c16",
      "metadata": {
        "id": "2b10aa58-6bef-4160-a8b6-e745b1042c16"
      },
      "source": [
        "**Verify the dataset:**\n",
        "- Confirm the dataset is complete and aligns with project requirements (e.g., column names, data types, and size).\n",
        "- Ensure the data is accessible and no records are missing during transfer.\n",
        "    \n",
        "**Load the dataset** into an Apache Spark DataFrame to utilize distributed processing capabilities for large-scale analysis."
      ]
    },
    {
      "cell_type": "code",
      "execution_count": 2,
      "id": "2397ce4b-8e40-4462-8e0c-bac110a13d77",
      "metadata": {
        "id": "2397ce4b-8e40-4462-8e0c-bac110a13d77"
      },
      "outputs": [
        {
          "name": "stderr",
          "output_type": "stream",
          "text": [
            "24/12/30 22:43:43 WARN Utils: Your hostname, dtdat resolves to a loopback address: 127.0.1.1; using 192.168.2.12 instead (on interface wlp0s20f3)\n",
            "24/12/30 22:43:43 WARN Utils: Set SPARK_LOCAL_IP if you need to bind to another address\n",
            "Setting default log level to \"WARN\".\n",
            "To adjust logging level use sc.setLogLevel(newLevel). For SparkR, use setLogLevel(newLevel).\n",
            "24/12/30 22:43:44 WARN NativeCodeLoader: Unable to load native-hadoop library for your platform... using builtin-java classes where applicable\n",
            "24/12/30 22:43:44 WARN Utils: Service 'SparkUI' could not bind on port 4040. Attempting port 4041.\n"
          ]
        }
      ],
      "source": [
        "# Initialize Spark session\n",
        "spark = SparkSession.builder \\\n",
        "    .appName(\"Loan_Default_Prediction_System\") \\\n",
        "    .config(\"spark.sql.debug.maxToStringFields\", 1000) \\\n",
        "    .getOrCreate()"
      ]
    },
    {
      "cell_type": "code",
      "execution_count": 4,
      "id": "78cf95ed-6516-48e5-ac50-20ab0a9c60f5",
      "metadata": {
        "id": "78cf95ed-6516-48e5-ac50-20ab0a9c60f5"
      },
      "outputs": [
        {
          "name": "stderr",
          "output_type": "stream",
          "text": [
            "24/12/30 22:43:58 WARN GarbageCollectionMetrics: To enable non-built-in garbage collector(s) List(G1 Concurrent GC), users should configure it(them) to spark.eventLog.gcMetrics.youngGenerationGarbageCollectors or spark.eventLog.gcMetrics.oldGenerationGarbageCollectors\n"
          ]
        }
      ],
      "source": [
        "# Load the dataset\n",
        "file_path = \"/home/drissdo/Desktop/Scalable-Distributed-Systems/data/Loan_default.csv\"\n",
        "loan_data = spark.read.csv(file_path, header=True, inferSchema=True)"
      ]
    },
    {
      "cell_type": "code",
      "execution_count": 5,
      "id": "6deac4d7-0ee7-4d60-a334-a69c276b8ab7",
      "metadata": {
        "colab": {
          "base_uri": "https://localhost:8080/"
        },
        "id": "6deac4d7-0ee7-4d60-a334-a69c276b8ab7",
        "outputId": "2dbbb03c-8b89-4b94-a727-6fe434019163"
      },
      "outputs": [
        {
          "name": "stdout",
          "output_type": "stream",
          "text": [
            "+----------+---+------+----------+-----------+--------------+--------------+------------+--------+--------+-----------+--------------+-------------+-----------+-------------+-----------+-----------+-------+\n",
            "|    LoanID|Age|Income|LoanAmount|CreditScore|MonthsEmployed|NumCreditLines|InterestRate|LoanTerm|DTIRatio|  Education|EmploymentType|MaritalStatus|HasMortgage|HasDependents|LoanPurpose|HasCoSigner|Default|\n",
            "+----------+---+------+----------+-----------+--------------+--------------+------------+--------+--------+-----------+--------------+-------------+-----------+-------------+-----------+-----------+-------+\n",
            "|I38PQUQS96| 56| 85994|     50587|        520|            80|             4|       15.23|      36|    0.44| Bachelor's|     Full-time|     Divorced|        Yes|          Yes|      Other|        Yes|      0|\n",
            "|HPSK72WA7R| 69| 50432|    124440|        458|            15|             1|        4.81|      60|    0.68|   Master's|     Full-time|      Married|         No|           No|      Other|        Yes|      0|\n",
            "|C1OZ6DPJ8Y| 46| 84208|    129188|        451|            26|             3|       21.17|      24|    0.31|   Master's|    Unemployed|     Divorced|        Yes|          Yes|       Auto|         No|      1|\n",
            "|V2KKSFM3UN| 32| 31713|     44799|        743|             0|             3|        7.07|      24|    0.23|High School|     Full-time|      Married|         No|           No|   Business|         No|      0|\n",
            "|EY08JDHTZP| 60| 20437|      9139|        633|             8|             4|        6.51|      48|    0.73| Bachelor's|    Unemployed|     Divorced|         No|          Yes|       Auto|         No|      0|\n",
            "+----------+---+------+----------+-----------+--------------+--------------+------------+--------+--------+-----------+--------------+-------------+-----------+-------------+-----------+-----------+-------+\n",
            "only showing top 5 rows\n",
            "\n",
            "root\n",
            " |-- LoanID: string (nullable = true)\n",
            " |-- Age: integer (nullable = true)\n",
            " |-- Income: integer (nullable = true)\n",
            " |-- LoanAmount: integer (nullable = true)\n",
            " |-- CreditScore: integer (nullable = true)\n",
            " |-- MonthsEmployed: integer (nullable = true)\n",
            " |-- NumCreditLines: integer (nullable = true)\n",
            " |-- InterestRate: double (nullable = true)\n",
            " |-- LoanTerm: integer (nullable = true)\n",
            " |-- DTIRatio: double (nullable = true)\n",
            " |-- Education: string (nullable = true)\n",
            " |-- EmploymentType: string (nullable = true)\n",
            " |-- MaritalStatus: string (nullable = true)\n",
            " |-- HasMortgage: string (nullable = true)\n",
            " |-- HasDependents: string (nullable = true)\n",
            " |-- LoanPurpose: string (nullable = true)\n",
            " |-- HasCoSigner: string (nullable = true)\n",
            " |-- Default: integer (nullable = true)\n",
            "\n"
          ]
        }
      ],
      "source": [
        "# Inspect dataset\n",
        "loan_data.show(5)\n",
        "loan_data.printSchema()"
      ]
    },
    {
      "cell_type": "markdown",
      "id": "8cc61c86-2308-4179-a4b7-eb759fbdea6a",
      "metadata": {
        "id": "8cc61c86-2308-4179-a4b7-eb759fbdea6a"
      },
      "source": [
        "## Step 2: Data Exploration\n",
        "Understand the data structure, detect missing values, and identify inconsistencies."
      ]
    },
    {
      "cell_type": "markdown",
      "id": "ece7eaa2-9acd-49a7-9589-b1709f6a3f7f",
      "metadata": {
        "id": "ece7eaa2-9acd-49a7-9589-b1709f6a3f7f"
      },
      "source": [
        "**Summarize the Data:**\n",
        "- Use `.describe()` to get basic statistics.\n",
        "- Count null or missing values in each column.\n",
        "- Check for duplicates in `LoanID`."
      ]
    },
    {
      "cell_type": "code",
      "execution_count": 6,
      "id": "c3fb3e08-203e-4730-9914-01a47ece0cc2",
      "metadata": {
        "colab": {
          "base_uri": "https://localhost:8080/"
        },
        "id": "c3fb3e08-203e-4730-9914-01a47ece0cc2",
        "outputId": "588aab3a-f6c1-4eea-8ebf-4536a81c96bf"
      },
      "outputs": [
        {
          "name": "stderr",
          "output_type": "stream",
          "text": [
            "[Stage 3:===================>                                       (2 + 4) / 6]\r"
          ]
        },
        {
          "name": "stdout",
          "output_type": "stream",
          "text": [
            "+-------+----------+------------------+-----------------+------------------+------------------+------------------+------------------+------------------+------------------+-------------------+----------+--------------+-------------+-----------+-------------+-----------+-----------+-------------------+\n",
            "|summary|    LoanID|               Age|           Income|        LoanAmount|       CreditScore|    MonthsEmployed|    NumCreditLines|      InterestRate|          LoanTerm|           DTIRatio| Education|EmploymentType|MaritalStatus|HasMortgage|HasDependents|LoanPurpose|HasCoSigner|            Default|\n",
            "+-------+----------+------------------+-----------------+------------------+------------------+------------------+------------------+------------------+------------------+-------------------+----------+--------------+-------------+-----------+-------------+-----------+-----------+-------------------+\n",
            "|  count|    255347|            255347|           255347|            255347|            255347|            255347|            255347|            255347|            255347|             255347|    255347|        255347|       255347|     255347|       255347|     255347|     255347|             255347|\n",
            "|   mean|      NULL|43.498306226429136|82499.30459727351|127578.86551242035| 574.2643461642392|59.541976212761455| 2.501035845339871|13.492773480792813| 36.02589417537703| 0.5002120643673129|      NULL|          NULL|         NULL|       NULL|         NULL|       NULL|       NULL|0.11612824901017048|\n",
            "| stddev|      NULL|14.990258418709592|38963.01372937819| 70840.70614150065|158.90386659497548| 34.64337563735204|1.1170176714339635| 6.636443064944302|16.969330034462843|0.23091661543575978|      NULL|          NULL|         NULL|       NULL|         NULL|       NULL|       NULL|  0.320379276430457|\n",
            "|    min|0003HW9UAA|                18|            15000|              5000|               300|                 0|                 1|               2.0|                12|                0.1|Bachelor's|     Full-time|     Divorced|         No|           No|       Auto|         No|                  0|\n",
            "|    max|ZZZX015LV2|                69|           149999|            249999|               849|               119|                 4|              25.0|                60|                0.9|       PhD|    Unemployed|       Single|        Yes|          Yes|      Other|        Yes|                  1|\n",
            "+-------+----------+------------------+-----------------+------------------+------------------+------------------+------------------+------------------+------------------+-------------------+----------+--------------+-------------+-----------+-------------+-----------+-----------+-------------------+\n",
            "\n"
          ]
        },
        {
          "name": "stderr",
          "output_type": "stream",
          "text": [
            "                                                                                \r"
          ]
        }
      ],
      "source": [
        "loan_data.describe().show()"
      ]
    },
    {
      "cell_type": "code",
      "execution_count": 50,
      "id": "50be272c-8b18-4fab-941f-ccb6fe462a52",
      "metadata": {
        "colab": {
          "base_uri": "https://localhost:8080/"
        },
        "id": "50be272c-8b18-4fab-941f-ccb6fe462a52",
        "outputId": "710490b3-8663-4dc1-e6ae-ed543cc4a341"
      },
      "outputs": [
        {
          "name": "stdout",
          "output_type": "stream",
          "text": [
            "+------+---+------+----------+-----------+--------------+--------------+------------+--------+--------+---------+--------------+-------------+-----------+-------------+-----------+-----------+-------+\n",
            "|LoanID|Age|Income|LoanAmount|CreditScore|MonthsEmployed|NumCreditLines|InterestRate|LoanTerm|DTIRatio|Education|EmploymentType|MaritalStatus|HasMortgage|HasDependents|LoanPurpose|HasCoSigner|Default|\n",
            "+------+---+------+----------+-----------+--------------+--------------+------------+--------+--------+---------+--------------+-------------+-----------+-------------+-----------+-----------+-------+\n",
            "|   0.0|0.0|   0.0|       0.0|        0.0|           0.0|           0.0|         0.0|     0.0|     0.0|      0.0|           0.0|          0.0|        0.0|          0.0|        0.0|        0.0|    0.0|\n",
            "+------+---+------+----------+-----------+--------------+--------------+------------+--------+--------+---------+--------------+-------------+-----------+-------------+-----------+-----------+-------+\n",
            "\n"
          ]
        }
      ],
      "source": [
        "# Count null values in each column\n",
        "missing_values = loan_data.select(\n",
        "    [(count(when(col(c).isNull(), c)) / loan_data.count()).alias(c) for c in loan_data.columns]\n",
        ")\n",
        "missing_values.show()"
      ]
    },
    {
      "cell_type": "code",
      "execution_count": 51,
      "id": "3c452462-4418-4771-963c-1894a146656f",
      "metadata": {
        "colab": {
          "base_uri": "https://localhost:8080/"
        },
        "id": "3c452462-4418-4771-963c-1894a146656f",
        "outputId": "a3d2ca98-6411-4216-b2e3-e9eb53ec2f51"
      },
      "outputs": [
        {
          "name": "stdout",
          "output_type": "stream",
          "text": [
            "Number of duplicate LoanIDs: 0\n"
          ]
        }
      ],
      "source": [
        "# Check for duplicate LoanIDs\n",
        "duplicate_count = loan_data.groupBy(\"LoanID\").count().filter(\"count > 1\").count()\n",
        "print(f\"Number of duplicate LoanIDs: {duplicate_count}\")"
      ]
    },
    {
      "cell_type": "markdown",
      "id": "e2d6f9e2-d24e-4fb2-b482-1aed5bd33c22",
      "metadata": {
        "id": "e2d6f9e2-d24e-4fb2-b482-1aed5bd33c22"
      },
      "source": [
        "## Step 3: Data Cleaning\n",
        "Handle missing values, duplicates, and inconsistencies."
      ]
    },
    {
      "cell_type": "markdown",
      "id": "cf338bda-79f4-433e-8d3e-94c1d0700f70",
      "metadata": {
        "id": "cf338bda-79f4-433e-8d3e-94c1d0700f70"
      },
      "source": [
        "**Handle Missing Values:**\n",
        "- Replace missing values in numerical columns with their respective median values.\n",
        "- Replace missing values in categorical columns with `\"Unknown\"`.\n",
        "    \n",
        "**Drop Duplicates:** Remove duplicate records based on `LoanID` to avoid bias in training data."
      ]
    },
    {
      "cell_type": "code",
      "execution_count": 7,
      "id": "20996a4a-909f-4ff7-a394-3b1309a91258",
      "metadata": {
        "id": "20996a4a-909f-4ff7-a394-3b1309a91258"
      },
      "outputs": [],
      "source": [
        "# Numeric and categorical columns\n",
        "numeric_cols = ['Age', 'Income', 'LoanAmount', 'CreditScore', 'MonthsEmployed']\n",
        "categorical_cols = [\n",
        "    'Education', 'EmploymentType', 'MaritalStatus', 'HasMortgage',\n",
        "    'HasDependents', 'LoanPurpose', 'HasCoSigner'\n",
        "]\n",
        "\n",
        "# Handle missing values for numerical columns\n",
        "for col_name in numeric_cols:\n",
        "    median_value = loan_data.approxQuantile(col_name, [0.5], 0.05)[0]\n",
        "    loan_data = loan_data.fillna({col_name: median_value})\n",
        "\n",
        "# Handle missing values for categorical columns\n",
        "loan_data = loan_data.fillna({col_name: \"Unknown\" for col_name in categorical_cols})"
      ]
    },
    {
      "cell_type": "code",
      "execution_count": 8,
      "id": "b006f603-c03f-4ced-972b-370eb3060abe",
      "metadata": {
        "id": "b006f603-c03f-4ced-972b-370eb3060abe"
      },
      "outputs": [],
      "source": [
        "# Drop duplicate records\n",
        "loan_data = loan_data.dropDuplicates([\"LoanID\"])"
      ]
    },
    {
      "cell_type": "markdown",
      "id": "69666bd8-1cd1-4cc2-98b0-98ee72998eaf",
      "metadata": {
        "id": "69666bd8-1cd1-4cc2-98b0-98ee72998eaf"
      },
      "source": [
        "## Step 4: Feature Transformation\n",
        "Encode Categorical Variable, Normalize Numerical Features and Address outliers"
      ]
    },
    {
      "cell_type": "markdown",
      "id": "901c8e21-c7fa-4e3b-8dee-a71e8d0ec52c",
      "metadata": {
        "id": "901c8e21-c7fa-4e3b-8dee-a71e8d0ec52c"
      },
      "source": [
        "**Encode Categorical Variables:**\n",
        "- Convert categorical variables into numerical representations for machine learning models.\n",
        "- Apply `StringIndexer` for label encoding.\n",
        "- Use `OneHotEncoder` for categorical encoding."
      ]
    },
    {
      "cell_type": "code",
      "execution_count": 9,
      "id": "174b41c0-2677-48d9-b7fd-1bd86c6a29ca",
      "metadata": {
        "id": "174b41c0-2677-48d9-b7fd-1bd86c6a29ca"
      },
      "outputs": [],
      "source": [
        "# Index and encode categorical variables\n",
        "indexers = [StringIndexer(inputCol=col, outputCol=f\"{col}_index\") for col in categorical_cols]\n",
        "encoders = [OneHotEncoder(inputCol=f\"{col}_index\", outputCol=f\"{col}_vec\") for col in categorical_cols]\n",
        "\n",
        "# Combine indexers and encoders in a pipeline\n",
        "encoding_pipeline = Pipeline(stages=indexers + encoders)\n",
        "loan_data = encoding_pipeline.fit(loan_data).transform(loan_data)"
      ]
    },
    {
      "cell_type": "markdown",
      "id": "9e05b5e7-9277-4cab-b8c3-3eb1e0774e72",
      "metadata": {
        "id": "9e05b5e7-9277-4cab-b8c3-3eb1e0774e72"
      },
      "source": [
        "**Normalize Numerical Features:**\n",
        "- Scale numerical features to a similar range to improve model performance.\n",
        "- Using `MinMaxScaler` to scale the features."
      ]
    },
    {
      "cell_type": "code",
      "execution_count": 10,
      "id": "5e17aa33-52d5-477f-a3ca-1b07d84ca068",
      "metadata": {
        "id": "5e17aa33-52d5-477f-a3ca-1b07d84ca068"
      },
      "outputs": [],
      "source": [
        "# Assemble numerical features\n",
        "assembler_numeric = VectorAssembler(inputCols=numeric_cols, outputCol=\"numerical_features\")\n",
        "loan_data = assembler_numeric.transform(loan_data)\n",
        "\n",
        "# Scale numerical features\n",
        "scaler = MinMaxScaler(inputCol=\"numerical_features\", outputCol=\"scaled_features\")\n",
        "loan_data = scaler.fit(loan_data).transform(loan_data)"
      ]
    },
    {
      "cell_type": "markdown",
      "id": "07c8612f-89ec-4a81-865d-58b01e952dcc",
      "metadata": {
        "id": "07c8612f-89ec-4a81-865d-58b01e952dcc"
      },
      "source": [
        "**Address outliers** to reduce their impact on model performance."
      ]
    },
    {
      "cell_type": "code",
      "execution_count": 11,
      "id": "481f9610-6587-44aa-8e57-6615af11ebe0",
      "metadata": {
        "id": "481f9610-6587-44aa-8e57-6615af11ebe0"
      },
      "outputs": [],
      "source": [
        "# Handle outliers in numerical columns\n",
        "for col_name in numeric_cols:\n",
        "    median_value = loan_data.approxQuantile(col_name, [0.5], 0.05)[0]\n",
        "    loan_data = loan_data.filter((col(col_name) >= 0.05 * median_value) &\n",
        "                                 (col(col_name) <= 2 * median_value))\n",
        "\n",
        "# Log-transform skewed numerical columns\n",
        "skewed_cols = ['Income', 'LoanAmount']\n",
        "for col_name in skewed_cols:\n",
        "    loan_data = loan_data.withColumn(f\"log_{col_name}\", log1p(col(col_name)))"
      ]
    },
    {
      "cell_type": "markdown",
      "id": "f3d3f5f7-2dd3-4c95-b9ca-d7295ab922e0",
      "metadata": {
        "id": "f3d3f5f7-2dd3-4c95-b9ca-d7295ab922e0"
      },
      "source": [
        "## Step 5: Validate Preprocessed Data\n",
        "Ensure the preprocessed dataset is ready for feature engineering and modeling."
      ]
    },
    {
      "cell_type": "code",
      "execution_count": 12,
      "id": "e28d0713-8070-47ae-8777-bcbd20705589",
      "metadata": {
        "colab": {
          "base_uri": "https://localhost:8080/"
        },
        "id": "e28d0713-8070-47ae-8777-bcbd20705589",
        "outputId": "66aa08a5-d97f-41c3-c5e2-1b058ed57ff6"
      },
      "outputs": [
        {
          "name": "stderr",
          "output_type": "stream",
          "text": [
            "[Stage 83:>                                                         (0 + 6) / 6]\r"
          ]
        },
        {
          "name": "stdout",
          "output_type": "stream",
          "text": [
            "+----------+---+------+----------+-----------+--------------+--------------+------------+--------+--------+-----------+--------------+-------------+-----------+-------------+-----------+-----------+-------+---------------+--------------------+-------------------+-----------------+-------------------+-----------------+-----------------+-------------+------------------+-----------------+---------------+-----------------+---------------+---------------+--------------------+--------------------+------------------+------------------+\n",
            "|    LoanID|Age|Income|LoanAmount|CreditScore|MonthsEmployed|NumCreditLines|InterestRate|LoanTerm|DTIRatio|  Education|EmploymentType|MaritalStatus|HasMortgage|HasDependents|LoanPurpose|HasCoSigner|Default|Education_index|EmploymentType_index|MaritalStatus_index|HasMortgage_index|HasDependents_index|LoanPurpose_index|HasCoSigner_index|Education_vec|EmploymentType_vec|MaritalStatus_vec|HasMortgage_vec|HasDependents_vec|LoanPurpose_vec|HasCoSigner_vec|  numerical_features|     scaled_features|        log_Income|    log_LoanAmount|\n",
            "+----------+---+------+----------+-----------+--------------+--------------+------------+--------+--------+-----------+--------------+-------------+-----------+-------------+-----------+-----------+-------+---------------+--------------------+-------------------+-----------------+-------------------+-----------------+-----------------+-------------+------------------+-----------------+---------------+-----------------+---------------+---------------+--------------------+--------------------+------------------+------------------+\n",
            "|000NTH4YTU| 63| 48898|    193990|        792|            53|             4|        5.65|      48|    0.82|   Master's| Self-employed|      Married|        Yes|           No|   Business|         No|      0|            2.0|                 2.0|                0.0|              0.0|                1.0|              0.0|              1.0|(3,[2],[1.0])|     (3,[2],[1.0])|    (2,[0],[1.0])|  (1,[0],[1.0])|        (1,[],[])|  (4,[0],[1.0])|      (1,[],[])|[63.0,48898.0,193...|[0.88235294117647...|10.797512225356112|12.175567045216757|\n",
            "|0017GMS3C8| 67|106955|     98479|        674|            98|             4|       15.97|      12|    0.52|High School|     Full-time|       Single|        Yes|           No|       Home|         No|      0|            1.0|                 3.0|                2.0|              0.0|                1.0|              1.0|              1.0|(3,[1],[1.0])|         (3,[],[])|        (2,[],[])|  (1,[0],[1.0])|        (1,[],[])|  (4,[1],[1.0])|      (1,[],[])|[67.0,106955.0,98...|[0.96078431372549...|11.580172813918718|11.497608760858336|\n",
            "|001KJUMELD| 61| 34503|    246754|        833|            69|             3|       21.94|      48|    0.83| Bachelor's|    Unemployed|      Married|         No|           No|       Home|        Yes|      0|            0.0|                 1.0|                0.0|              1.0|                1.0|              1.0|              0.0|(3,[0],[1.0])|     (3,[1],[1.0])|    (2,[0],[1.0])|      (1,[],[])|        (1,[],[])|  (4,[1],[1.0])|  (1,[0],[1.0])|[61.0,34503.0,246...|[0.84313725490196...|10.448830538327678|12.416151220514946|\n",
            "|001PGHFCLQ| 58|148808|     90386|        519|            30|             3|        7.81|      60|    0.15| Bachelor's|     Part-time|      Married|        Yes|           No|       Auto|        Yes|      0|            0.0|                 0.0|                0.0|              0.0|                1.0|              4.0|              0.0|(3,[0],[1.0])|     (3,[0],[1.0])|    (2,[0],[1.0])|  (1,[0],[1.0])|        (1,[],[])|      (4,[],[])|  (1,[0],[1.0])|[58.0,148808.0,90...|[0.78431372549019...| 11.91041888342302|11.411855730729558|\n",
            "|007JW8H4VF| 28| 62397|     37134|        631|            29|             1|        8.21|      60|    0.46|High School|    Unemployed|      Married|         No|           No|  Education|         No|      0|            1.0|                 1.0|                0.0|              1.0|                1.0|              2.0|              1.0|(3,[1],[1.0])|     (3,[1],[1.0])|    (2,[0],[1.0])|      (1,[],[])|        (1,[],[])|  (4,[2],[1.0])|      (1,[],[])|[28.0,62397.0,371...|[0.19607843137254...|11.041288502561814|10.522315200103396|\n",
            "+----------+---+------+----------+-----------+--------------+--------------+------------+--------+--------+-----------+--------------+-------------+-----------+-------------+-----------+-----------+-------+---------------+--------------------+-------------------+-----------------+-------------------+-----------------+-----------------+-------------+------------------+-----------------+---------------+-----------------+---------------+---------------+--------------------+--------------------+------------------+------------------+\n",
            "only showing top 5 rows\n",
            "\n",
            "root\n",
            " |-- LoanID: string (nullable = true)\n",
            " |-- Age: integer (nullable = true)\n",
            " |-- Income: integer (nullable = true)\n",
            " |-- LoanAmount: integer (nullable = true)\n",
            " |-- CreditScore: integer (nullable = true)\n",
            " |-- MonthsEmployed: integer (nullable = true)\n",
            " |-- NumCreditLines: integer (nullable = true)\n",
            " |-- InterestRate: double (nullable = true)\n",
            " |-- LoanTerm: integer (nullable = true)\n",
            " |-- DTIRatio: double (nullable = true)\n",
            " |-- Education: string (nullable = false)\n",
            " |-- EmploymentType: string (nullable = false)\n",
            " |-- MaritalStatus: string (nullable = false)\n",
            " |-- HasMortgage: string (nullable = false)\n",
            " |-- HasDependents: string (nullable = false)\n",
            " |-- LoanPurpose: string (nullable = false)\n",
            " |-- HasCoSigner: string (nullable = false)\n",
            " |-- Default: integer (nullable = true)\n",
            " |-- Education_index: double (nullable = false)\n",
            " |-- EmploymentType_index: double (nullable = false)\n",
            " |-- MaritalStatus_index: double (nullable = false)\n",
            " |-- HasMortgage_index: double (nullable = false)\n",
            " |-- HasDependents_index: double (nullable = false)\n",
            " |-- LoanPurpose_index: double (nullable = false)\n",
            " |-- HasCoSigner_index: double (nullable = false)\n",
            " |-- Education_vec: vector (nullable = true)\n",
            " |-- EmploymentType_vec: vector (nullable = true)\n",
            " |-- MaritalStatus_vec: vector (nullable = true)\n",
            " |-- HasMortgage_vec: vector (nullable = true)\n",
            " |-- HasDependents_vec: vector (nullable = true)\n",
            " |-- LoanPurpose_vec: vector (nullable = true)\n",
            " |-- HasCoSigner_vec: vector (nullable = true)\n",
            " |-- numerical_features: vector (nullable = true)\n",
            " |-- scaled_features: vector (nullable = true)\n",
            " |-- log_Income: double (nullable = true)\n",
            " |-- log_LoanAmount: double (nullable = true)\n",
            "\n"
          ]
        },
        {
          "name": "stderr",
          "output_type": "stream",
          "text": [
            "                                                                                \r"
          ]
        }
      ],
      "source": [
        "loan_data.show(5)\n",
        "loan_data.printSchema()"
      ]
    },
    {
      "cell_type": "code",
      "execution_count": 13,
      "id": "d9dd3178-7edf-4868-bced-3d3dd17c8438",
      "metadata": {
        "colab": {
          "base_uri": "https://localhost:8080/"
        },
        "id": "d9dd3178-7edf-4868-bced-3d3dd17c8438",
        "outputId": "8128ce65-dfad-43de-de59-fcbc5b2061d8"
      },
      "outputs": [
        {
          "name": "stdout",
          "output_type": "stream",
          "text": [
            "+-------+------+\n",
            "|Default| count|\n",
            "+-------+------+\n",
            "|      1| 28281|\n",
            "|      0|217298|\n",
            "+-------+------+\n",
            "\n"
          ]
        }
      ],
      "source": [
        "#Check target class distribution\n",
        "loan_data.groupBy(\"Default\").count().show()"
      ]
    },
    {
      "cell_type": "markdown",
      "id": "813ae094-75a8-44a4-ab84-979b84e558d1",
      "metadata": {
        "id": "813ae094-75a8-44a4-ab84-979b84e558d1"
      },
      "source": [
        "# Task 2: Feature Engineering"
      ]
    },
    {
      "cell_type": "markdown",
      "id": "ca8cb56f-394c-41da-850b-8f62e392205e",
      "metadata": {
        "id": "ca8cb56f-394c-41da-850b-8f62e392205e"
      },
      "source": [
        "## Step 1: Extract Relevant Features\n",
        "Extract features from loan application data that may influence the likelihood of default."
      ]
    },
    {
      "cell_type": "markdown",
      "id": "5169dd78-1c8e-4fd9-b66d-8c74be047603",
      "metadata": {
        "id": "5169dd78-1c8e-4fd9-b66d-8c74be047603"
      },
      "source": [
        "- Compute meaningful ratios such as debt-to-income ratio (DTI) and payment-to-income ratio (PTI).\n",
        "- Add a feature for credit utilization by normalizing the credit score."
      ]
    },
    {
      "cell_type": "code",
      "execution_count": 14,
      "id": "27e84791-bc82-44a4-84d9-e61d11581d63",
      "metadata": {
        "colab": {
          "base_uri": "https://localhost:8080/"
        },
        "id": "27e84791-bc82-44a4-84d9-e61d11581d63",
        "outputId": "7b91d0dd-0541-4727-8e18-e8a5d9af1831"
      },
      "outputs": [
        {
          "name": "stdout",
          "output_type": "stream",
          "text": [
            "+----+------------------+------------------+\n",
            "| DTI|               PTI| CreditUtilization|\n",
            "+----+------------------+------------------+\n",
            "|0.51|2.3801352547086334|0.8670588235294118|\n",
            "|0.11|0.5618385601896756|0.9588235294117647|\n",
            "| 0.5|1.0942908809093257|0.5494117647058824|\n",
            "|0.25| 3.794196455153524|              0.62|\n",
            "|0.27| 3.159153869316471|0.3905882352941176|\n",
            "+----+------------------+------------------+\n",
            "only showing top 5 rows\n",
            "\n"
          ]
        }
      ],
      "source": [
        "# Create new features\n",
        "loan_data = loan_data.withColumn(\"DTI\", col(\"DTIRatio\"))  # Use existing DTIRatio\n",
        "loan_data = loan_data.withColumn(\"PTI\", col(\"LoanAmount\") / col(\"Income\"))\n",
        "loan_data = loan_data.withColumn(\"CreditUtilization\", col(\"CreditScore\") / 850.0)\n",
        "\n",
        "# Show dataset with new features\n",
        "loan_data.select(\"DTI\", \"PTI\", \"CreditUtilization\").show(5)"
      ]
    },
    {
      "cell_type": "markdown",
      "id": "0d6cada2-884d-4ce4-8715-4068ec7e190d",
      "metadata": {
        "id": "0d6cada2-884d-4ce4-8715-4068ec7e190d"
      },
      "source": [
        "## Step 2: Engineer Additional Features\n",
        "Engineer features such as payment history, borrower demographics, and credit terms."
      ]
    },
    {
      "cell_type": "markdown",
      "id": "fa208f6a-1a3e-4672-af10-ab6e3eac9336",
      "metadata": {
        "id": "fa208f6a-1a3e-4672-af10-ab6e3eac9336"
      },
      "source": [
        "- Include `LoanTerm` as a feature.\n",
        "- Integrate borrower demographic data such as age, employment type, and marital status."
      ]
    },
    {
      "cell_type": "code",
      "execution_count": 15,
      "id": "33449b3f-3ffc-4cc9-92d1-06abdf4802bb",
      "metadata": {
        "id": "33449b3f-3ffc-4cc9-92d1-06abdf4802bb"
      },
      "outputs": [],
      "source": [
        "# Ensure LoanTerm and other demographic features are part of the dataset\n",
        "feature_columns = [\"DTI\", \"PTI\", \"CreditUtilization\", \"LoanTerm\"] + [f\"{col}_vec\" for col in categorical_cols]\n",
        "\n",
        "# Assemble all features\n",
        "assembler_features = VectorAssembler(inputCols=feature_columns, outputCol=\"raw_features\")\n",
        "loan_data = assembler_features.transform(loan_data)"
      ]
    },
    {
      "cell_type": "markdown",
      "id": "5e352aea-e6d0-47bd-9cad-ec44309cde54",
      "metadata": {
        "id": "5e352aea-e6d0-47bd-9cad-ec44309cde54"
      },
      "source": [
        "## Step 3: Correlation Analysis\n",
        "Identify and remove highly correlated features to prevent redundancy."
      ]
    },
    {
      "cell_type": "markdown",
      "id": "34075cb4-1b9a-4c32-a204-d096c38dcf5a",
      "metadata": {
        "id": "34075cb4-1b9a-4c32-a204-d096c38dcf5a"
      },
      "source": [
        "- Compute the correlation matrix for numerical features.\n",
        "- Drop features with high correlation (above 0.85)."
      ]
    },
    {
      "cell_type": "code",
      "execution_count": 16,
      "id": "abe29895-8b8b-4577-9caf-3ca1b4c2f5e4",
      "metadata": {
        "colab": {
          "base_uri": "https://localhost:8080/"
        },
        "id": "abe29895-8b8b-4577-9caf-3ca1b4c2f5e4",
        "outputId": "f8588b00-d87b-496c-cf68-15be616f6f47"
      },
      "outputs": [
        {
          "name": "stderr",
          "output_type": "stream",
          "text": [
            "[Stage 104:>                                                      (0 + 12) / 12]\r"
          ]
        },
        {
          "name": "stdout",
          "output_type": "stream",
          "text": [
            "Correlation Matrix:\n",
            "[[ 1.00000000e+00 -1.18467093e-07  2.01633899e-03 -1.33561302e-03]\n",
            " [-1.18467093e-07  1.00000000e+00  1.64803735e-03 -7.30622598e-06]\n",
            " [ 2.01633899e-03  1.64803735e-03  1.00000000e+00  1.22740179e-03]\n",
            " [-1.33561302e-03 -7.30622598e-06  1.22740179e-03  1.00000000e+00]]\n"
          ]
        },
        {
          "name": "stderr",
          "output_type": "stream",
          "text": [
            "24/12/30 22:46:28 WARN InstanceBuilder: Failed to load implementation from:dev.ludovic.netlib.blas.VectorBLAS\n",
            "                                                                                \r"
          ]
        }
      ],
      "source": [
        "# Correlation analysis\n",
        "correlation_assembler = VectorAssembler(inputCols=[\"DTI\", \"PTI\", \"LoanTerm\", \"CreditUtilization\"],\n",
        "                                         outputCol=\"correlation_vector\")\n",
        "loan_data = correlation_assembler.transform(loan_data)\n",
        "\n",
        "# Calculate correlation matrix\n",
        "correlation_matrix = Correlation.corr(loan_data, \"correlation_vector\", \"pearson\").head()[0].toArray()\n",
        "print(\"Correlation Matrix:\")\n",
        "print(correlation_matrix)\n",
        "\n",
        "# Drop 'PTI' since it is highly correlated with 'DTI'\n",
        "loan_data = loan_data.drop(\"PTI\")"
      ]
    },
    {
      "cell_type": "code",
      "execution_count": 18,
      "id": "967765ff",
      "metadata": {},
      "outputs": [
        {
          "name": "stdout",
          "output_type": "stream",
          "text": [
            "+----------+---+------+----------+-----------+--------------+--------------+------------+--------+--------+-----------+--------------+-------------+-----------+-------------+-----------+-----------+-------+---------------+--------------------+-------------------+-----------------+-------------------+-----------------+-----------------+-------------+------------------+-----------------+---------------+-----------------+---------------+---------------+--------------------+--------------------+------------------+------------------+----+-------------------+--------------------+--------------------+\n",
            "|    LoanID|Age|Income|LoanAmount|CreditScore|MonthsEmployed|NumCreditLines|InterestRate|LoanTerm|DTIRatio|  Education|EmploymentType|MaritalStatus|HasMortgage|HasDependents|LoanPurpose|HasCoSigner|Default|Education_index|EmploymentType_index|MaritalStatus_index|HasMortgage_index|HasDependents_index|LoanPurpose_index|HasCoSigner_index|Education_vec|EmploymentType_vec|MaritalStatus_vec|HasMortgage_vec|HasDependents_vec|LoanPurpose_vec|HasCoSigner_vec|  numerical_features|     scaled_features|        log_Income|    log_LoanAmount| DTI|  CreditUtilization|        raw_features|  correlation_vector|\n",
            "+----------+---+------+----------+-----------+--------------+--------------+------------+--------+--------+-----------+--------------+-------------+-----------+-------------+-----------+-----------+-------+---------------+--------------------+-------------------+-----------------+-------------------+-----------------+-----------------+-------------+------------------+-----------------+---------------+-----------------+---------------+---------------+--------------------+--------------------+------------------+------------------+----+-------------------+--------------------+--------------------+\n",
            "|000NTH4YTU| 63| 48898|    193990|        792|            53|             4|        5.65|      48|    0.82|   Master's| Self-employed|      Married|        Yes|           No|   Business|         No|      0|            2.0|                 2.0|                0.0|              0.0|                1.0|              0.0|              1.0|(3,[2],[1.0])|     (3,[2],[1.0])|    (2,[0],[1.0])|  (1,[0],[1.0])|        (1,[],[])|  (4,[0],[1.0])|      (1,[],[])|[63.0,48898.0,193...|[0.88235294117647...|10.797512225356112|12.175567045216757|0.82| 0.9317647058823529|(19,[0,1,2,3,6,9,...|[0.82,3.967237923...|\n",
            "|0017GMS3C8| 67|106955|     98479|        674|            98|             4|       15.97|      12|    0.52|High School|     Full-time|       Single|        Yes|           No|       Home|         No|      0|            1.0|                 3.0|                2.0|              0.0|                1.0|              1.0|              1.0|(3,[1],[1.0])|         (3,[],[])|        (2,[],[])|  (1,[0],[1.0])|        (1,[],[])|  (4,[1],[1.0])|      (1,[],[])|[67.0,106955.0,98...|[0.96078431372549...|11.580172813918718|11.497608760858336|0.52| 0.7929411764705883|(19,[0,1,2,3,5,12...|[0.52,0.920751718...|\n",
            "|001KJUMELD| 61| 34503|    246754|        833|            69|             3|       21.94|      48|    0.83| Bachelor's|    Unemployed|      Married|         No|           No|       Home|        Yes|      0|            0.0|                 1.0|                0.0|              1.0|                1.0|              1.0|              0.0|(3,[0],[1.0])|     (3,[1],[1.0])|    (2,[0],[1.0])|      (1,[],[])|        (1,[],[])|  (4,[1],[1.0])|  (1,[0],[1.0])|[61.0,34503.0,246...|[0.84313725490196...|10.448830538327678|12.416151220514946|0.83|               0.98|(19,[0,1,2,3,4,8,...|[0.83,7.151667970...|\n",
            "|001PGHFCLQ| 58|148808|     90386|        519|            30|             3|        7.81|      60|    0.15| Bachelor's|     Part-time|      Married|        Yes|           No|       Auto|        Yes|      0|            0.0|                 0.0|                0.0|              0.0|                1.0|              4.0|              0.0|(3,[0],[1.0])|     (3,[0],[1.0])|    (2,[0],[1.0])|  (1,[0],[1.0])|        (1,[],[])|      (4,[],[])|  (1,[0],[1.0])|[58.0,148808.0,90...|[0.78431372549019...| 11.91041888342302|11.411855730729558|0.15| 0.6105882352941177|(19,[0,1,2,3,4,7,...|[0.15,0.607400139...|\n",
            "|007JW8H4VF| 28| 62397|     37134|        631|            29|             1|        8.21|      60|    0.46|High School|    Unemployed|      Married|         No|           No|  Education|         No|      0|            1.0|                 1.0|                0.0|              1.0|                1.0|              2.0|              1.0|(3,[1],[1.0])|     (3,[1],[1.0])|    (2,[0],[1.0])|      (1,[],[])|        (1,[],[])|  (4,[2],[1.0])|      (1,[],[])|[28.0,62397.0,371...|[0.19607843137254...|11.041288502561814|10.522315200103396|0.46| 0.7423529411764705|(19,[0,1,2,3,5,8,...|[0.46,0.595124765...|\n",
            "|00BO6ZI8D2| 60|148021|     44359|        606|           115|             2|         8.5|      36|    0.14|High School| Self-employed|      Married|        Yes|          Yes|      Other|        Yes|      0|            1.0|                 2.0|                0.0|              0.0|                0.0|              3.0|              0.0|(3,[1],[1.0])|     (3,[2],[1.0])|    (2,[0],[1.0])|  (1,[0],[1.0])|    (1,[0],[1.0])|  (4,[3],[1.0])|  (1,[0],[1.0])|[60.0,148021.0,44...|[0.82352941176470...|11.905116190347785|10.700093441464304|0.14| 0.7129411764705882|(19,[0,1,2,3,5,9,...|[0.14,0.299680450...|\n",
            "|00CPXTI3HA| 64|100515|     88767|        625|           101|             4|       21.78|      48|    0.66|   Master's| Self-employed|       Single|         No|           No|      Other|        Yes|      0|            2.0|                 2.0|                2.0|              1.0|                1.0|              3.0|              0.0|(3,[2],[1.0])|     (3,[2],[1.0])|        (2,[],[])|      (1,[],[])|        (1,[],[])|  (4,[3],[1.0])|  (1,[0],[1.0])|[64.0,100515.0,88...|[0.90196078431372...|11.518072197789758|11.393781503674504|0.66| 0.7352941176470589|(19,[0,1,2,3,6,9,...|[0.66,0.883121922...|\n",
            "|00EPB08JV8| 50| 45544|    133724|        552|            26|             4|       19.54|      48|     0.7|High School| Self-employed|     Divorced|        Yes|           No|  Education|         No|      0|            1.0|                 2.0|                1.0|              0.0|                1.0|              2.0|              1.0|(3,[1],[1.0])|     (3,[2],[1.0])|    (2,[1],[1.0])|  (1,[0],[1.0])|        (1,[],[])|  (4,[2],[1.0])|      (1,[],[])|[50.0,45544.0,133...|[0.62745098039215...| 10.72645612717891|11.803540731399451| 0.7| 0.6494117647058824|(19,[0,1,2,3,5,9,...|[0.7,2.9361496574...|\n",
            "|00GT271I0I| 57|122913|    178498|        388|            75|             3|         6.0|      60|     0.8|   Master's|     Full-time|       Single|        Yes|           No|       Auto|         No|      0|            2.0|                 3.0|                2.0|              0.0|                1.0|              4.0|              1.0|(3,[2],[1.0])|         (3,[],[])|        (2,[],[])|  (1,[0],[1.0])|        (1,[],[])|      (4,[],[])|      (1,[],[])|[57.0,122913.0,17...|[0.76470588235294...|11.719240202817465|12.092338277945242| 0.8|0.45647058823529413|(19,[0,1,2,3,6,12...|[0.8,1.4522304394...|\n",
            "|00J1L9GCSA| 52| 21273|    141198|        740|            97|             1|       15.19|      48|     0.7| Bachelor's|     Part-time|      Married|         No|           No|   Business|        Yes|      0|            0.0|                 0.0|                0.0|              1.0|                1.0|              0.0|              0.0|(3,[0],[1.0])|     (3,[0],[1.0])|    (2,[0],[1.0])|      (1,[],[])|        (1,[],[])|  (4,[0],[1.0])|  (1,[0],[1.0])|[52.0,21273.0,141...|[0.66666666666666...|  9.96524094881161|11.857925521863226| 0.7| 0.8705882352941177|(19,[0,1,2,3,4,7,...|[0.7,6.6374277252...|\n",
            "|00J6NJJDCT| 22| 69461|     33183|        378|            75|             2|       19.79|      12|    0.59| Bachelor's|    Unemployed|      Married|         No|          Yes|  Education|        Yes|      0|            0.0|                 1.0|                0.0|              1.0|                0.0|              2.0|              0.0|(3,[0],[1.0])|     (3,[1],[1.0])|    (2,[0],[1.0])|      (1,[],[])|    (1,[0],[1.0])|  (4,[2],[1.0])|  (1,[0],[1.0])|[22.0,69461.0,331...|[0.07843137254901...|11.148535119433783|10.409823111029255|0.59| 0.4447058823529412|(19,[0,1,2,3,4,8,...|[0.59,0.477721311...|\n",
            "|00J7GD96PS| 37| 91890|     91778|        829|            28|             2|       16.81|      60|    0.43|   Master's|     Full-time|     Divorced|         No|          Yes|       Auto|        Yes|      0|            2.0|                 3.0|                1.0|              1.0|                0.0|              4.0|              0.0|(3,[2],[1.0])|         (3,[],[])|    (2,[1],[1.0])|      (1,[],[])|    (1,[0],[1.0])|      (4,[],[])|  (1,[0],[1.0])|[37.0,91890.0,917...|[0.37254901960784...| 11.42835837101271|11.427138792269506|0.43| 0.9752941176470589|(19,[0,1,2,3,6,11...|[0.43,0.998781151...|\n",
            "|00OI8BSXQA| 27| 78772|     23219|        366|            15|             2|        2.42|      36|     0.5|High School| Self-employed|       Single|        Yes|           No|       Home|         No|      0|            1.0|                 2.0|                2.0|              0.0|                1.0|              1.0|              1.0|(3,[1],[1.0])|     (3,[2],[1.0])|        (2,[],[])|  (1,[0],[1.0])|        (1,[],[])|  (4,[1],[1.0])|      (1,[],[])|[27.0,78772.0,232...|[0.17647058823529...|11.274325577537704|10.052769255251883| 0.5|0.43058823529411766|(19,[0,1,2,3,5,9,...|[0.5,0.2947620982...|\n",
            "|00PWXE303Y| 20| 27643|    104846|        525|             5|             3|       22.93|      48|    0.77|High School|     Full-time|      Married|         No|          Yes|   Business|        Yes|      0|            1.0|                 3.0|                0.0|              1.0|                0.0|              0.0|              0.0|(3,[1],[1.0])|         (3,[],[])|    (2,[0],[1.0])|      (1,[],[])|    (1,[0],[1.0])|  (4,[0],[1.0])|  (1,[0],[1.0])|[20.0,27643.0,104...|[0.03921568627450...|10.227163985211284|11.560257423617436|0.77| 0.6176470588235294|(19,[0,1,2,3,5,10...|[0.77,3.792858951...|\n",
            "|00V1561QRK| 61|116538|    214145|        518|            17|             4|       11.19|      24|     0.9|   Master's| Self-employed|       Single|         No|          Yes|      Other|        Yes|      0|            2.0|                 2.0|                2.0|              1.0|                0.0|              3.0|              0.0|(3,[2],[1.0])|     (3,[2],[1.0])|        (2,[],[])|      (1,[],[])|    (1,[0],[1.0])|  (4,[3],[1.0])|  (1,[0],[1.0])|[61.0,116538.0,21...|[0.84313725490196...|11.665981259915442|12.274413304372692| 0.9| 0.6094117647058823|(19,[0,1,2,3,6,9,...|[0.9,1.8375551322...|\n",
            "|00VEFDQ5MW| 35|129896|    162164|        355|            82|             1|       13.28|      48|    0.15| Bachelor's|     Part-time|     Divorced|         No|          Yes|      Other|         No|      1|            0.0|                 0.0|                1.0|              1.0|                0.0|              3.0|              1.0|(3,[0],[1.0])|     (3,[0],[1.0])|    (2,[1],[1.0])|      (1,[],[])|    (1,[0],[1.0])|  (4,[3],[1.0])|      (1,[],[])|[35.0,129896.0,16...|[0.33333333333333...|11.774497107703782| 11.99636961439498|0.15| 0.4176470588235294|(19,[0,1,2,3,4,7,...|[0.15,1.248414115...|\n",
            "|00WB9DTT3B| 31|109503|     74950|        701|            56|             3|       15.67|      36|    0.36|        PhD| Self-employed|       Single|         No|          Yes|  Education|        Yes|      0|            3.0|                 2.0|                2.0|              1.0|                0.0|              2.0|              0.0|    (3,[],[])|     (3,[2],[1.0])|        (2,[],[])|      (1,[],[])|    (1,[0],[1.0])|  (4,[2],[1.0])|  (1,[0],[1.0])|[31.0,109503.0,74...|[0.25490196078431...|11.603716357251866| 11.22458984566989|0.36| 0.8247058823529412|(19,[0,1,2,3,9,13...|[0.36,0.684456133...|\n",
            "|017JYFEA08| 20| 96964|    234278|        344|            59|             2|       24.63|      24|    0.52|        PhD|    Unemployed|     Divorced|        Yes|           No|   Business|        Yes|      0|            3.0|                 1.0|                1.0|              0.0|                1.0|              0.0|              0.0|    (3,[],[])|     (3,[1],[1.0])|    (2,[1],[1.0])|  (1,[0],[1.0])|        (1,[],[])|  (4,[0],[1.0])|  (1,[0],[1.0])|[20.0,96964.0,234...|[0.03921568627450...|11.482105367630341|12.364267991797819|0.52| 0.4047058823529412|(19,[0,1,2,3,8,11...|[0.52,2.416133822...|\n",
            "|017RRJZMZZ| 41|132400|     21958|        824|            78|             2|       10.84|      12|    0.79| Bachelor's| Self-employed|     Divorced|         No|          Yes|      Other|        Yes|      0|            0.0|                 2.0|                1.0|              1.0|                0.0|              3.0|              0.0|(3,[0],[1.0])|     (3,[2],[1.0])|    (2,[1],[1.0])|      (1,[],[])|    (1,[0],[1.0])|  (4,[3],[1.0])|  (1,[0],[1.0])|[41.0,132400.0,21...|[0.45098039215686...|11.793590475326612| 9.996932357245992|0.79| 0.9694117647058823|(19,[0,1,2,3,4,9,...|[0.79,0.165845921...|\n",
            "|01BIRTJYO8| 31| 40728|    211503|        832|            87|             2|        4.14|      48|    0.15|        PhD|     Full-time|     Divorced|         No|          Yes|       Home|         No|      0|            3.0|                 3.0|                1.0|              1.0|                0.0|              1.0|              1.0|    (3,[],[])|         (3,[],[])|    (2,[1],[1.0])|      (1,[],[])|    (1,[0],[1.0])|  (4,[1],[1.0])|      (1,[],[])|[31.0,40728.0,211...|[0.25490196078431...| 10.61469564841373| 12.26199918981918|0.15| 0.9788235294117648|(19,[0,1,2,3,11,1...|[0.15,5.193061284...|\n",
            "+----------+---+------+----------+-----------+--------------+--------------+------------+--------+--------+-----------+--------------+-------------+-----------+-------------+-----------+-----------+-------+---------------+--------------------+-------------------+-----------------+-------------------+-----------------+-----------------+-------------+------------------+-----------------+---------------+-----------------+---------------+---------------+--------------------+--------------------+------------------+------------------+----+-------------------+--------------------+--------------------+\n",
            "only showing top 20 rows\n",
            "\n"
          ]
        }
      ],
      "source": [
        "loan_data.show()"
      ]
    },
    {
      "cell_type": "markdown",
      "id": "dc5bbd76-5788-4764-a328-9a6f1560c0c9",
      "metadata": {
        "id": "dc5bbd76-5788-4764-a328-9a6f1560c0c9"
      },
      "source": [
        "## Step 4: Select and Optimize Features\n",
        "Retain only the most significant features based on importance scores and analysis."
      ]
    },
    {
      "cell_type": "markdown",
      "id": "da3d82be-4568-4ab6-82a8-eaa05529eb5b",
      "metadata": {
        "id": "da3d82be-4568-4ab6-82a8-eaa05529eb5b"
      },
      "source": [
        "- Use a tree-based model to identify feature importance and refine the feature set."
      ]
    },
    {
      "cell_type": "code",
      "execution_count": 62,
      "id": "172af737-42da-41cc-b40a-8fad7f05f24d",
      "metadata": {
        "colab": {
          "base_uri": "https://localhost:8080/"
        },
        "id": "172af737-42da-41cc-b40a-8fad7f05f24d",
        "outputId": "af97c69b-0a81-43b5-a628-49741c1ab255"
      },
      "outputs": [
        {
          "name": "stdout",
          "output_type": "stream",
          "text": [
            "Selected Features: ['DTI', 'LoanTerm', 'CreditUtilization', 'Education_vec', 'EmploymentType_vec', 'MaritalStatus_vec', 'HasMortgage_vec', 'HasDependents_vec', 'LoanPurpose_vec', 'HasCoSigner_vec']\n"
          ]
        }
      ],
      "source": [
        "# Use a Random Forest model for feature importance evaluation\n",
        "rf = RandomForestClassifier(featuresCol=\"raw_features\", labelCol=\"Default\", numTrees=50, maxDepth=5)\n",
        "\n",
        "# Fit the model on sampled data\n",
        "sampled_data = loan_data.sampleBy(\"Default\", fractions={0: 0.2, 1: 0.2}, seed=42)\n",
        "rf_model = rf.fit(sampled_data)\n",
        "\n",
        "# Extract feature importances\n",
        "important_features = rf_model.featureImportances.toArray()\n",
        "feature_names = [\"DTI\", \"LoanTerm\", \"CreditUtilization\"] + [f\"{col}_vec\" for col in categorical_cols]\n",
        "\n",
        "# Select features above importance threshold\n",
        "threshold = 0.001\n",
        "selected_features = [name for name, importance in zip(feature_names, important_features) if importance > threshold]\n",
        "print(f\"Selected Features: {selected_features}\")\n",
        "\n",
        "# Create final feature vector with selected features\n",
        "assembler_selected = VectorAssembler(inputCols=selected_features, outputCol=\"final_features\")\n",
        "loan_data = assembler_selected.transform(loan_data)"
      ]
    },
    {
      "cell_type": "markdown",
      "id": "b4b54dfb-a4ed-43ff-8dea-138cb79aa299",
      "metadata": {
        "id": "b4b54dfb-a4ed-43ff-8dea-138cb79aa299"
      },
      "source": [
        "## Step 5: Review Engineered Features\n",
        "Inspect the transformed dataset with the final feature set to ensure correctness."
      ]
    },
    {
      "cell_type": "code",
      "execution_count": 63,
      "id": "ade4c9ef-7f85-49d0-b229-99f1b8ceb130",
      "metadata": {
        "colab": {
          "base_uri": "https://localhost:8080/"
        },
        "id": "ade4c9ef-7f85-49d0-b229-99f1b8ceb130",
        "outputId": "b6730e51-abbc-4b9c-ef11-8c3974329684"
      },
      "outputs": [
        {
          "name": "stdout",
          "output_type": "stream",
          "text": [
            "+-------+--------------------+\n",
            "|Default|      final_features|\n",
            "+-------+--------------------+\n",
            "|      0|(18,[0,1,2,6,10,1...|\n",
            "|      0|(18,[0,1,2,5,8,9,...|\n",
            "|      0|(18,[0,1,2,5,8,10...|\n",
            "|      0|(18,[0,1,2,4,11,1...|\n",
            "|      0|(18,[0,1,2,3,7,9,...|\n",
            "+-------+--------------------+\n",
            "only showing top 5 rows\n",
            "\n"
          ]
        }
      ],
      "source": [
        "# Show dataset with finalized features\n",
        "loan_data.select(\"Default\", \"final_features\").show(5)"
      ]
    },
    {
      "cell_type": "markdown",
      "id": "56c3c817-6f94-4c16-8df8-2a54e2035b5d",
      "metadata": {
        "id": "56c3c817-6f94-4c16-8df8-2a54e2035b5d"
      },
      "source": [
        "# Task 3: Model Development"
      ]
    },
    {
      "cell_type": "markdown",
      "id": "adf6d396-6e08-4bfe-96ac-30e24da1f382",
      "metadata": {
        "id": "adf6d396-6e08-4bfe-96ac-30e24da1f382"
      },
      "source": [
        "## Step 1: Split Data into Training and Testing Sets\n",
        "Divide the data into training and testing subsets, ensuring a balanced distribution of defaulted and non-defaulted loans."
      ]
    },
    {
      "cell_type": "markdown",
      "id": "57246da9-ace1-4c47-b6ae-b1677431e104",
      "metadata": {
        "id": "57246da9-ace1-4c47-b6ae-b1677431e104"
      },
      "source": [
        "- Handle class imbalance through oversampling or undersampling.\n",
        "- Split the balanced dataset into training (70%) and testing (30%) sets."
      ]
    },
    {
      "cell_type": "code",
      "execution_count": 64,
      "id": "4c8cddd6-8fb7-4080-b8c4-5612d5e7a4a3",
      "metadata": {
        "colab": {
          "base_uri": "https://localhost:8080/"
        },
        "id": "4c8cddd6-8fb7-4080-b8c4-5612d5e7a4a3",
        "outputId": "6735338f-c554-4d3d-e751-6d84981a410e"
      },
      "outputs": [
        {
          "name": "stdout",
          "output_type": "stream",
          "text": [
            "Balanced Data Count: 221037\n"
          ]
        }
      ],
      "source": [
        "# Handle class imbalance by oversampling the minority class\n",
        "default_counts = loan_data.groupBy(\"Default\").count().collect()\n",
        "majority_class = loan_data.filter(col(\"Default\") == 0)\n",
        "minority_class = loan_data.filter(col(\"Default\") == 1)\n",
        "\n",
        "oversampled_minority = minority_class.sample(\n",
        "    withReplacement=True,\n",
        "    fraction=default_counts[0]['count'] / default_counts[1]['count']\n",
        ")\n",
        "\n",
        "balanced_data = majority_class.union(oversampled_minority)\n",
        "print(f\"Balanced Data Count: {balanced_data.count()}\")\n",
        "\n",
        "# Split into training and testing datasets\n",
        "train_data, test_data = balanced_data.randomSplit([0.7, 0.3], seed=42)"
      ]
    },
    {
      "cell_type": "markdown",
      "id": "d708d420-0c95-41d9-91eb-cfb8af64ae0b",
      "metadata": {
        "id": "d708d420-0c95-41d9-91eb-cfb8af64ae0b"
      },
      "source": [
        "## Step 2: Build Loan Default Prediction Models\n",
        "Train individual prediction models using Logistic Regression (LR), Random Forest (RF), and Gradient-Boosted Trees (GBT)."
      ]
    },
    {
      "cell_type": "markdown",
      "id": "c674f759-e2b2-442b-82f9-94358be9d355",
      "metadata": {
        "id": "c674f759-e2b2-442b-82f9-94358be9d355"
      },
      "source": [
        "- Train multiple models with default hyperparameters for comparison.\n",
        "- Configure pipeline stages for easy experimentation."
      ]
    },
    {
      "cell_type": "code",
      "execution_count": 65,
      "id": "6841dbd2-4876-4678-ab0c-e4337f75c962",
      "metadata": {
        "id": "6841dbd2-4876-4678-ab0c-e4337f75c962"
      },
      "outputs": [],
      "source": [
        "# Define models\n",
        "lr = LogisticRegression(featuresCol=\"final_features\", labelCol=\"Default\")\n",
        "rf = RandomForestClassifier(featuresCol=\"final_features\", labelCol=\"Default\", numTrees=50, maxDepth=5)\n",
        "gbt = GBTClassifier(featuresCol=\"final_features\", labelCol=\"Default\", maxIter=10)\n",
        "\n",
        "# Fit models on training data\n",
        "lr_model = lr.fit(train_data)\n",
        "rf_model = rf.fit(train_data)\n",
        "gbt_model = gbt.fit(train_data)"
      ]
    },
    {
      "cell_type": "markdown",
      "id": "c2ed0c59-679f-4619-a267-10f883d9b879",
      "metadata": {
        "id": "c2ed0c59-679f-4619-a267-10f883d9b879"
      },
      "source": [
        "## Step 3: Experiment with Ensemble Methods\n",
        "Combine predictions from multiple models to improve performance."
      ]
    },
    {
      "cell_type": "markdown",
      "id": "fe3d590a-bd5e-49c4-87f8-e3eb7f46b182",
      "metadata": {
        "id": "fe3d590a-bd5e-49c4-87f8-e3eb7f46b182"
      },
      "source": [
        "- Generate predictions for each model on the test dataset.\n",
        "- Combine predictions and compute an ensemble probability as the average of individual probabilities.\n",
        "- Derive the ensemble prediction based on a threshold (0.5)."
      ]
    },
    {
      "cell_type": "code",
      "execution_count": 66,
      "id": "81c5aece-2213-4551-b29b-136f1e145182",
      "metadata": {
        "id": "81c5aece-2213-4551-b29b-136f1e145182"
      },
      "outputs": [],
      "source": [
        "# Generate predictions\n",
        "lr_predictions = lr_model.transform(test_data).select(\n",
        "    \"Default\",\n",
        "    vector_to_array(col(\"probability\")).alias(\"lr_prob\")\n",
        ")\n",
        "rf_predictions = rf_model.transform(test_data).select(\n",
        "    \"Default\",\n",
        "    vector_to_array(col(\"probability\")).alias(\"rf_prob\")\n",
        ")\n",
        "gbt_predictions = gbt_model.transform(test_data).select(\n",
        "    \"Default\",\n",
        "    vector_to_array(col(\"probability\")).alias(\"gbt_prob\")\n",
        ")\n",
        "\n",
        "# Combine predictions into one DataFrame\n",
        "combined_predictions = lr_predictions.join(rf_predictions, \"Default\").join(gbt_predictions, \"Default\")\n",
        "\n",
        "# Compute ensemble prediction (average probabilities)\n",
        "ensemble_predictions = combined_predictions.withColumn(\n",
        "    \"ensemble_prob\",\n",
        "    (col(\"lr_prob\")[1] + col(\"rf_prob\")[1] + col(\"gbt_prob\")[1]) / 3\n",
        ").withColumn(\n",
        "    \"ensemble_prediction\",\n",
        "    when(col(\"ensemble_prob\") >= 0.5, 1).otherwise(0)\n",
        ")"
      ]
    },
    {
      "cell_type": "markdown",
      "id": "99d8bcf3-eb98-4ee0-bb0c-3d3a88f250d9",
      "metadata": {
        "id": "99d8bcf3-eb98-4ee0-bb0c-3d3a88f250d9"
      },
      "source": [
        "## Step 4: Optimize TrainValidationSplit with Stratified Sampling\n",
        "Improve Random Forest training efficiency while maintaining accuracy."
      ]
    },
    {
      "cell_type": "markdown",
      "id": "21260e83-8950-4fc4-8252-fc2135e296d4",
      "metadata": {
        "id": "21260e83-8950-4fc4-8252-fc2135e296d4"
      },
      "source": [
        "- Use stratified sampling to reduce training data size.\n",
        "- Implement TrainValidationSplit with a reduced parameter grid."
      ]
    },
    {
      "cell_type": "code",
      "execution_count": 67,
      "id": "995336d8-8a25-4c3f-b21a-73dbb639f3cf",
      "metadata": {
        "id": "995336d8-8a25-4c3f-b21a-73dbb639f3cf"
      },
      "outputs": [],
      "source": [
        "# Random Forest setup\n",
        "rf = RandomForestClassifier(featuresCol=\"final_features\", labelCol=\"Default\")\n",
        "evaluator = BinaryClassificationEvaluator(labelCol=\"Default\", metricName=\"areaUnderROC\")\n",
        "\n",
        "# Parameter grid\n",
        "param_grid = ParamGridBuilder() \\\n",
        "    .addGrid(rf.numTrees, [50, 100]) \\\n",
        "    .addGrid(rf.maxDepth, [5, 10]) \\\n",
        "    .build()\n",
        "\n",
        "# Stratified sampling\n",
        "sampled_train_data = train_data.sampleBy(\"Default\", fractions={0: 0.2, 1: 0.4}, seed=42)\n",
        "sampled_train_data = sampled_train_data.repartition(50).persist(StorageLevel.MEMORY_AND_DISK)\n",
        "\n",
        "# TrainValidationSplit\n",
        "train_validation_split = TrainValidationSplit(\n",
        "    estimator=rf,\n",
        "    estimatorParamMaps=param_grid,\n",
        "    evaluator=evaluator,\n",
        "    trainRatio=0.8\n",
        ")\n",
        "\n",
        "# Train the optimized model\n",
        "tvs_model = train_validation_split.fit(sampled_train_data)"
      ]
    },
    {
      "cell_type": "code",
      "execution_count": 68,
      "id": "ec20a4bf-cd61-4489-976c-d101a53c3505",
      "metadata": {
        "colab": {
          "base_uri": "https://localhost:8080/"
        },
        "id": "ec20a4bf-cd61-4489-976c-d101a53c3505",
        "outputId": "ed55fd32-51f6-442e-b2a7-c8caef0feea0"
      },
      "outputs": [
        {
          "name": "stdout",
          "output_type": "stream",
          "text": [
            "Optimized Random Forest ROC AUC: 0.5622448889413395\n",
            "Best Model Parameters:\n",
            " - Num Trees: 100\n",
            " - Max Depth: <bound method _DecisionTreeParams.getMaxDepth of RandomForestClassificationModel: uid=RandomForestClassifier_e5a7e4d03b2e, numTrees=100, numClasses=2, numFeatures=18>\n",
            " - Max Bins: <bound method _DecisionTreeParams.getMaxBins of RandomForestClassificationModel: uid=RandomForestClassifier_e5a7e4d03b2e, numTrees=100, numClasses=2, numFeatures=18>\n"
          ]
        }
      ],
      "source": [
        "# Evaluate on test data\n",
        "rf_predictions = tvs_model.bestModel.transform(test_data)\n",
        "roc_auc = evaluator.evaluate(rf_predictions)\n",
        "print(f\"Optimized Random Forest ROC AUC: {roc_auc}\")\n",
        "\n",
        "# Print best model parameters\n",
        "best_rf_model = tvs_model.bestModel\n",
        "print(\"Best Model Parameters:\")\n",
        "print(f\" - Num Trees: {best_rf_model.getNumTrees}\")\n",
        "print(f\" - Max Depth: {best_rf_model.getMaxDepth}\")\n",
        "print(f\" - Max Bins: {best_rf_model.getMaxBins}\")"
      ]
    },
    {
      "cell_type": "markdown",
      "id": "jYMqSFXM1X_b",
      "metadata": {
        "id": "jYMqSFXM1X_b"
      },
      "source": [
        "# Task 4: Model Evaluation"
      ]
    },
    {
      "cell_type": "markdown",
      "id": "lTMzq_3Q1w5n",
      "metadata": {
        "id": "lTMzq_3Q1w5n"
      },
      "source": [
        "## Step 1: Evaluate the performance of each prediction model using appropriate metrics (e.g., accuracy, precision, recall, F1-score, ROC AUC) on the test dataset."
      ]
    },
    {
      "cell_type": "markdown",
      "id": "tNNUcEof0D_9",
      "metadata": {
        "id": "tNNUcEof0D_9"
      },
      "source": [
        "Evaluate model performance using metrics available in PySpark's `BinaryClassificationEvaluator` for `ROC`,`AUC` and `MulticlassClassificationEvaluator` for `accuracy`, `precision`, `recall`, and `F1-score`."
      ]
    },
    {
      "cell_type": "code",
      "execution_count": 69,
      "id": "4U-qjsRh36hs",
      "metadata": {
        "id": "4U-qjsRh36hs"
      },
      "outputs": [],
      "source": [
        "# Binary Classification Evaluator for ROC AUC\n",
        "binary_evaluator = BinaryClassificationEvaluator(labelCol=\"Default\", metricName=\"areaUnderROC\")\n",
        "\n",
        "# Multiclass Classification Evaluator for accuracy, precision, recall, and F1-score\n",
        "multi_evaluator = MulticlassClassificationEvaluator(labelCol=\"Default\")"
      ]
    },
    {
      "cell_type": "markdown",
      "id": "Qc9puT9r4GmR",
      "metadata": {
        "id": "Qc9puT9r4GmR"
      },
      "source": [
        "We will evaluate the following models:\n",
        "\n",
        "`Logistic Regression (LR)`\n",
        "\n",
        "`Random Forest (RF)`\n",
        "\n",
        "`Gradient-Boosted Trees (GBT)`\n"
      ]
    },
    {
      "cell_type": "markdown",
      "id": "yIkYiMBM4mZ5",
      "metadata": {
        "id": "yIkYiMBM4mZ5"
      },
      "source": [
        "3.1 Logistic Regression (LR)\n"
      ]
    },
    {
      "cell_type": "code",
      "execution_count": 70,
      "id": "l_ie31M04sVB",
      "metadata": {
        "colab": {
          "base_uri": "https://localhost:8080/"
        },
        "id": "l_ie31M04sVB",
        "outputId": "a87400ed-3a9b-4807-cf42-3225f136f3b7"
      },
      "outputs": [
        {
          "name": "stdout",
          "output_type": "stream",
          "text": [
            "Logistic Regression Metrics:\n",
            "ROC AUC: 0.583573844410195\n",
            "Accuracy: 0.9830539084369262\n",
            "Precision: 0.9663949868931165\n",
            "Recall: 0.9830539084369262\n",
            "F1-Score: 0.9746532686595939\n"
          ]
        }
      ],
      "source": [
        "# Generate predictions\n",
        "lr_predictions = lr_model.transform(test_data)\n",
        "\n",
        "# Evaluate metrics\n",
        "lr_roc_auc = binary_evaluator.evaluate(lr_predictions)\n",
        "lr_accuracy = multi_evaluator.evaluate(lr_predictions, {multi_evaluator.metricName: \"accuracy\"})\n",
        "lr_precision = multi_evaluator.evaluate(lr_predictions, {multi_evaluator.metricName: \"weightedPrecision\"})\n",
        "lr_recall = multi_evaluator.evaluate(lr_predictions, {multi_evaluator.metricName: \"weightedRecall\"})\n",
        "lr_f1 = multi_evaluator.evaluate(lr_predictions, {multi_evaluator.metricName: \"f1\"})\n",
        "\n",
        "print(\"Logistic Regression Metrics:\")\n",
        "print(f\"ROC AUC: {lr_roc_auc}\")\n",
        "print(f\"Accuracy: {lr_accuracy}\")\n",
        "print(f\"Precision: {lr_precision}\")\n",
        "print(f\"Recall: {lr_recall}\")\n",
        "print(f\"F1-Score: {lr_f1}\")"
      ]
    },
    {
      "cell_type": "markdown",
      "id": "_5stAEoM59lt",
      "metadata": {
        "id": "_5stAEoM59lt"
      },
      "source": [
        "3.2 Random Forest (RF)"
      ]
    },
    {
      "cell_type": "code",
      "execution_count": 71,
      "id": "Sitr5ns54cHc",
      "metadata": {
        "colab": {
          "base_uri": "https://localhost:8080/"
        },
        "id": "Sitr5ns54cHc",
        "outputId": "d9227812-723a-488a-8999-4d5300cd0ea9"
      },
      "outputs": [
        {
          "name": "stdout",
          "output_type": "stream",
          "text": [
            "Random Forest Metrics:\n",
            "ROC AUC: 0.5\n",
            "Accuracy: 0.9830539084369262\n",
            "Precision: 0.9663949868931165\n",
            "Recall: 0.9830539084369262\n",
            "F1-Score: 0.9746532686595939\n"
          ]
        }
      ],
      "source": [
        "# Generate predictions\n",
        "rf_predictions = rf_model.transform(test_data)\n",
        "\n",
        "# Evaluate metrics\n",
        "rf_roc_auc = binary_evaluator.evaluate(rf_predictions)\n",
        "rf_accuracy = multi_evaluator.evaluate(rf_predictions, {multi_evaluator.metricName: \"accuracy\"})\n",
        "rf_precision = multi_evaluator.evaluate(rf_predictions, {multi_evaluator.metricName: \"weightedPrecision\"})\n",
        "rf_recall = multi_evaluator.evaluate(rf_predictions, {multi_evaluator.metricName: \"weightedRecall\"})\n",
        "rf_f1 = multi_evaluator.evaluate(rf_predictions, {multi_evaluator.metricName: \"f1\"})\n",
        "\n",
        "print(\"Random Forest Metrics:\")\n",
        "print(f\"ROC AUC: {rf_roc_auc}\")\n",
        "print(f\"Accuracy: {rf_accuracy}\")\n",
        "print(f\"Precision: {rf_precision}\")\n",
        "print(f\"Recall: {rf_recall}\")\n",
        "print(f\"F1-Score: {rf_f1}\")"
      ]
    },
    {
      "cell_type": "markdown",
      "id": "oTHluavT6GUn",
      "metadata": {
        "id": "oTHluavT6GUn"
      },
      "source": [
        "3.3 Gradient-Boosted Trees (GBT)"
      ]
    },
    {
      "cell_type": "code",
      "execution_count": 72,
      "id": "MF6R-PR86G3y",
      "metadata": {
        "colab": {
          "base_uri": "https://localhost:8080/"
        },
        "id": "MF6R-PR86G3y",
        "outputId": "d1bd7a8c-2dae-4225-9cbf-7cd3ea9db123"
      },
      "outputs": [
        {
          "name": "stdout",
          "output_type": "stream",
          "text": [
            "Gradient-Boosted Trees Metrics:\n",
            "ROC AUC: 0.5620709468021348\n",
            "Accuracy: 0.9830539084369262\n",
            "Precision: 0.9663949868931165\n",
            "Recall: 0.9830539084369262\n",
            "F1-Score: 0.9746532686595939\n"
          ]
        }
      ],
      "source": [
        "# Generate predictions\n",
        "gbt_predictions = gbt_model.transform(test_data)\n",
        "\n",
        "# Evaluate metrics\n",
        "gbt_roc_auc = binary_evaluator.evaluate(gbt_predictions)\n",
        "gbt_accuracy = multi_evaluator.evaluate(gbt_predictions, {multi_evaluator.metricName: \"accuracy\"})\n",
        "gbt_precision = multi_evaluator.evaluate(gbt_predictions, {multi_evaluator.metricName: \"weightedPrecision\"})\n",
        "gbt_recall = multi_evaluator.evaluate(gbt_predictions, {multi_evaluator.metricName: \"weightedRecall\"})\n",
        "gbt_f1 = multi_evaluator.evaluate(gbt_predictions, {multi_evaluator.metricName: \"f1\"})\n",
        "\n",
        "print(\"Gradient-Boosted Trees Metrics:\")\n",
        "print(f\"ROC AUC: {gbt_roc_auc}\")\n",
        "print(f\"Accuracy: {gbt_accuracy}\")\n",
        "print(f\"Precision: {gbt_precision}\")\n",
        "print(f\"Recall: {gbt_recall}\")\n",
        "print(f\"F1-Score: {gbt_f1}\")"
      ]
    },
    {
      "cell_type": "markdown",
      "id": "x_zoxthZ9HkI",
      "metadata": {
        "id": "x_zoxthZ9HkI"
      },
      "source": [
        "`Analysis:`\n",
        "\n",
        "`Accuracy:` All three models have the same high accuracy of approximately 0.9838, indicating that they correctly classify a large proportion of the instances.\n",
        "\n",
        "`Precision:` The precision for all models is around 0.9679, suggesting that when the models predict a positive class (default), they are correct about 96.79% of the time.\n",
        "\n",
        "`Recall:` The recall is also identical across all models at 0.9838, meaning they correctly identify 98.38% of the actual positive instances.\n",
        "\n",
        "`F1-Score:` The F1-Score, which balances precision and recall, is 0.9758 for all models, indicating a strong balance between the two metrics.\n"
      ]
    },
    {
      "cell_type": "markdown",
      "id": "wuLRtDp59vy6",
      "metadata": {
        "id": "wuLRtDp59vy6"
      },
      "source": [
        "`Conclusion:`\n",
        "\n",
        "`Logistic Regression`performs the best in terms of ROC AUC (0.5881), which is a critical metric for evaluating the model's ability to distinguish between default and non-default cases. This suggests that Logistic Regression has a slightly better capability to rank positive instances higher than negative ones compared to the other models.\n",
        "\n",
        "`Gradient-Boosted Trees` also show a decent ROC AUC (0.5677), indicating reasonable performance, though not as strong as Logistic Regression.\n",
        "\n",
        "`Random Forest` has the lowest ROC AUC (0.5), which is equivalent to random guessing. This indicates that the Random Forest model is not effectively distinguishing between the classes in this context.\n",
        "\n",
        "\n",
        "\n",
        "### Given that all models have identical accuracy, precision, recall, and F1-Score, the choice of the best model should primarily consider the ROC AUC. Therefore, Logistic Regression is the most suitable model for this loan default prediction task based on its superior ROC AUC value. However, it's essential to investigate why the Random Forest model is performing poorly in terms of ROC AUC, as it might indicate issues with the model's configuration or the dataset's characteristics."
      ]
    },
    {
      "cell_type": "markdown",
      "id": "A76s0qmB-VOy",
      "metadata": {
        "id": "A76s0qmB-VOy"
      },
      "source": [
        "## Step 2: Conduct cross-validation to assess the robustness of the models and identify potential overfitting."
      ]
    },
    {
      "cell_type": "markdown",
      "id": "pULU3LVC-mbi",
      "metadata": {
        "id": "pULU3LVC-mbi"
      },
      "source": [
        "We will use `CrossValidator` to perform k-fold cross-validation. For simplicity, let's use 5-fold cross-validation. We will perform cross-validation for `Logistic Regression`, `Random Forest`, and `Gradient-Boosted Trees`."
      ]
    },
    {
      "cell_type": "code",
      "execution_count": 73,
      "id": "z2xJJ5vF-_-8",
      "metadata": {
        "id": "z2xJJ5vF-_-8"
      },
      "outputs": [],
      "source": [
        "# Define the evaluator (ROC AUC)\n",
        "evaluator = BinaryClassificationEvaluator(labelCol=\"Default\", metricName=\"areaUnderROC\")\n",
        "\n",
        "# Define the number of folds\n",
        "num_folds = 5"
      ]
    },
    {
      "cell_type": "markdown",
      "id": "350JJTsW-wS-",
      "metadata": {
        "id": "350JJTsW-wS-"
      },
      "source": [
        "3.1 Logistic Regression (LR)\n"
      ]
    },
    {
      "cell_type": "code",
      "execution_count": 74,
      "id": "cqXINMsa-9Ym",
      "metadata": {
        "colab": {
          "base_uri": "https://localhost:8080/"
        },
        "id": "cqXINMsa-9Ym",
        "outputId": "a5874dbd-861e-4025-ad67-cb941030df7a"
      },
      "outputs": [
        {
          "name": "stdout",
          "output_type": "stream",
          "text": [
            "Logistic Regression Cross-Validation ROC AUC: 0.5930266458705338\n"
          ]
        }
      ],
      "source": [
        "# Define the parameter grid (if any)\n",
        "param_grid_lr = ParamGridBuilder().build()\n",
        "\n",
        "# Define the cross-validator\n",
        "cv_lr = CrossValidator(\n",
        "    estimator=lr,\n",
        "    estimatorParamMaps=param_grid_lr,\n",
        "    evaluator=evaluator,\n",
        "    numFolds=num_folds,\n",
        "    seed=42\n",
        ")\n",
        "\n",
        "# Fit the cross-validator on the training data\n",
        "cv_model_lr = cv_lr.fit(train_data)\n",
        "\n",
        "# Get the average ROC AUC across all folds\n",
        "avg_roc_auc_lr = cv_model_lr.avgMetrics[0]\n",
        "print(f\"Logistic Regression Cross-Validation ROC AUC: {avg_roc_auc_lr}\")"
      ]
    },
    {
      "cell_type": "markdown",
      "id": "2vO3a2n0_Dmp",
      "metadata": {
        "id": "2vO3a2n0_Dmp"
      },
      "source": [
        "3.2 Random Forest (RF)"
      ]
    },
    {
      "cell_type": "code",
      "execution_count": 75,
      "id": "zZ_jox5B_EyP",
      "metadata": {
        "colab": {
          "base_uri": "https://localhost:8080/"
        },
        "id": "zZ_jox5B_EyP",
        "outputId": "576c2187-c7d6-4dea-c341-1364aa12f1ec"
      },
      "outputs": [
        {
          "name": "stdout",
          "output_type": "stream",
          "text": [
            "Random Forest Cross-Validation ROC AUC: 0.5\n"
          ]
        }
      ],
      "source": [
        "# Define the parameter grid (if any)\n",
        "param_grid_rf = ParamGridBuilder().build()\n",
        "\n",
        "# Define the cross-validator\n",
        "cv_rf = CrossValidator(\n",
        "    estimator=rf,\n",
        "    estimatorParamMaps=param_grid_rf,\n",
        "    evaluator=evaluator,\n",
        "    numFolds=num_folds,\n",
        "    seed=42\n",
        ")\n",
        "\n",
        "# Fit the cross-validator on the training data\n",
        "cv_model_rf = cv_rf.fit(train_data)\n",
        "\n",
        "# Get the average ROC AUC across all folds\n",
        "avg_roc_auc_rf = cv_model_rf.avgMetrics[0]\n",
        "print(f\"Random Forest Cross-Validation ROC AUC: {avg_roc_auc_rf}\")"
      ]
    },
    {
      "cell_type": "markdown",
      "id": "48HqtKwx_E3w",
      "metadata": {
        "id": "48HqtKwx_E3w"
      },
      "source": [
        "3.3 Gradient-Boosted Trees (GBT)"
      ]
    },
    {
      "cell_type": "code",
      "execution_count": 76,
      "id": "z9N9mo34_ISB",
      "metadata": {
        "colab": {
          "base_uri": "https://localhost:8080/"
        },
        "id": "z9N9mo34_ISB",
        "outputId": "87e220bb-503e-4cfc-d4fd-9bd0d58b152e"
      },
      "outputs": [
        {
          "name": "stdout",
          "output_type": "stream",
          "text": [
            "Gradient-Boosted Trees Cross-Validation ROC AUC: 0.5781176087257808\n"
          ]
        }
      ],
      "source": [
        "# Define the parameter grid (if any)\n",
        "param_grid_gbt = ParamGridBuilder().build()\n",
        "\n",
        "# Define the cross-validator\n",
        "cv_gbt = CrossValidator(\n",
        "    estimator=gbt,\n",
        "    estimatorParamMaps=param_grid_gbt,\n",
        "    evaluator=evaluator,\n",
        "    numFolds=num_folds,\n",
        "    seed=42\n",
        ")\n",
        "\n",
        "# Fit the cross-validator on the training data\n",
        "cv_model_gbt = cv_gbt.fit(train_data)\n",
        "\n",
        "# Get the average ROC AUC across all folds\n",
        "avg_roc_auc_gbt = cv_model_gbt.avgMetrics[0]\n",
        "print(f\"Gradient-Boosted Trees Cross-Validation ROC AUC: {avg_roc_auc_gbt}\")"
      ]
    },
    {
      "cell_type": "markdown",
      "id": "j7_vcgWgIwql",
      "metadata": {
        "id": "j7_vcgWgIwql"
      },
      "source": [
        "`Analysis:`\n",
        "\n",
        "`Logistic Regression` has the highest cross-validation ROC AUC (0.5930), indicating that it performs better than the other models in distinguishing between default and non-default cases across different subsets of the training data. This suggests that Logistic Regression is the most robust model among the three.\n",
        "\n",
        "`Gradient-Boosted Trees` show a decent cross-validation ROC AUC (0.5781), which is slightly lower than Logistic Regression but still better than random guessing. This indicates that GBT is a reasonable alternative, though not as strong as Logistic Regression.\n",
        "\n",
        "`Random Forest` has the lowest cross-validation ROC AUC (0.5), which is equivalent to random guessing. This suggests that the Random Forest model is not effectively distinguishing between the classes and may be suffering from overfitting or other issues."
      ]
    },
    {
      "cell_type": "markdown",
      "id": "g4oa9DlHI2G-",
      "metadata": {
        "id": "g4oa9DlHI2G-"
      },
      "source": [
        "`Conclusion:`\n",
        "\n",
        "`Best Model:` `Logistic Regression` is the best-performing model based on cross-validation results. It has the highest ROC AUC, indicating better generalization and robustness across different subsets of the training data. Given its superior performance, Logistic Regression should be the primary model for deployment.\n",
        "\n",
        "`Alternative Model:` `Gradient-Boosted Trees` can be considered as an alternative, though its performance is slightly lower than Logistic Regression. It may still be useful depending on specific requirements or constraints.\n",
        "\n",
        "`Poor Performance:` `Random Forest` is not performing well, as indicated by its ROC AUC of 0.5."
      ]
    },
    {
      "cell_type": "code",
      "execution_count": null,
      "id": "2c463662",
      "metadata": {},
      "outputs": [],
      "source": [
        "import numpy as np\n",
        "from scipy.spatial.distance import euclidean, cityblock, minkowski\n",
        "\n",
        "# Define the vectors\n",
        "vector1 = np.array([29,50, 35])\n",
        "vector2 = np.array([4, 5, 6])\n",
        "\n",
        "# Cosine Similarity\n",
        "cosine_similarity = np.dot(vector1, vector2) / (np.linalg.norm(vector1) * np.linalg.norm(vector2))\n",
        "\n",
        "# Euclidean Distance\n",
        "euclidean_distance = euclidean(vector1, vector2)\n",
        "\n",
        "# Manhattan Distance\n",
        "manhattan_distance = cityblock(vector1, vector2)\n",
        "\n",
        "# Minkowski Distance (p=3 for example)\n",
        "minkowski_distance = minkowski(vector1, vector2, p=3)\n",
        "\n",
        "# Output the results\n",
        "print(f\"Cosine Similarity: {cosine_similarity}\")\n",
        "print(f\"Euclidean Distance: {euclidean_distance}\")\n",
        "print(f\"Manhattan Distance: {manhattan_distance}\")\n",
        "print(f\"Minkowski Distance (p=3): {minkowski_distance}\")\n"
      ]
    }
  ],
  "metadata": {
    "colab": {
      "provenance": []
    },
    "kernelspec": {
      "display_name": "venv",
      "language": "python",
      "name": "python3"
    },
    "language_info": {
      "codemirror_mode": {
        "name": "ipython",
        "version": 3
      },
      "file_extension": ".py",
      "mimetype": "text/x-python",
      "name": "python",
      "nbconvert_exporter": "python",
      "pygments_lexer": "ipython3",
      "version": "3.11.7"
    }
  },
  "nbformat": 4,
  "nbformat_minor": 5
}
