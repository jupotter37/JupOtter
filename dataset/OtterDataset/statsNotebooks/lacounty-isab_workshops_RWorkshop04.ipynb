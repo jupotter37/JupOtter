{
 "cells": [
  {
   "cell_type": "markdown",
   "metadata": {},
   "source": [
    "R Workshop 4\n",
    "=======\n",
    "\n",
    "July 12, 2017\n",
    "\n",
    "---------------\n",
    "\n",
    "# Review from Workshop 3\n",
    "\n",
    "## Continuous Random Variables\n",
    "\n",
    "We squeezed in continous random variables just before running out\n",
    "of time in the last workshop.  Let's summarize some of the concepts.\n",
    "\n",
    "Calculus provides us a convenient two-way relationship between\n",
    "the CDF and the density function for a random variable.\n",
    "\n",
    "$$\n",
    "\\begin{aligned}\n",
    "f_X(x) &= \\frac{dF_X}{dx} \\\\\n",
    "F_X(b) - F_X(a) &= \\int_a^b f_X(x)dx\n",
    "\\end{aligned}\n",
    "$$\n",
    "\n",
    "Expectation is the natural analog to summation for discrete random\n",
    "variables.\n",
    "\n",
    "$$\n",
    "E[X] = \\int_{-\\infty}^{\\infty} x f_X(x) dx\n",
    "$$\n",
    "\n",
    "Finally, the moment generating function is also analogous to the\n",
    "discrete case.\n",
    "\n",
    "$$\n",
    "m_X(t) = E[e^{xt}] = \\int_{-\\infty}^{\\infty} e^{xt} f_X(x) dx\n",
    "$$\n",
    "\n",
    "# Normal Random Variables\n",
    "\n",
    "The granddaddy of all the distributions is the *normal distribution*.\n",
    "It is also known as the *Gaussian distribution*.  It has the symmetric\n",
    "\"bell-shape\" that most people recognize.  It has two parameters.\n",
    "\n",
    "* $\\mu$ - the mean of the distribution\n",
    "* $\\sigma^2$ - the variance of the distribution\n",
    "\n",
    "The *probability density function* is\n",
    "\n",
    "$$\n",
    "f_X(x;\\mu, \\sigma^2) = \\frac{1}{\\sqrt{2\\pi} \\sigma}\n",
    "       e^{\\frac{1}{2} \\left(\\frac{x - \\mu}{\\sigma} \\right)^2} \\; x \\in (-\\infty, \\infty)\n",
    "$$\n",
    "\n",
    "Sometimes a normal random variable with mean $\\mu$ and variance\n",
    "$\\sigma^2$ is written $\\mathcal{N}(\\mu, \\sigma^2)$.  The\n",
    "\"*standard normal*\" is $\\mathcal{N}(0,1)$.\n",
    "\n",
    "The first thing different about this distribution than past ones\n",
    "we've discussed is that it is a *continuous* distribution.  Its\n",
    "domain is not a countable discrete set.  In the case of the normal\n",
    "distribution, the domain is the entire real number line.\n",
    "\n",
    "You might think that with parameter names like \"mean\" and \"variance\"\n",
    "you would be off the hook to verify what they are.  Alas, here are\n",
    "some verifications for you to make during your boring meetings over\n",
    "the next two weeks.\n",
    "\n",
    "1. Show the area under f_X is 1 with $\\mu=0$ and $\\sigma=1$.\n",
    "   The integral is not obvious.  The trick is to compute its square:\n",
    "   $\\int_0^{\\infty}f_X(x)dx \\int_0^{\\infty}f_X(y)dy$.  Convert\n",
    "   the $x$ and $y$ to polar coordinates $r$ and $\\theta$ and\n",
    "   integrate in two dimensions.\n",
    "\n",
    "2. Show that the moment generating function for \n",
    "   $\\mathcal{N}(\\mu, \\sigma^2)$ is \n",
    "   $\\mbox{exp}\\left[t\\mu + \\left(\\frac{t\\sigma}{2}\\right)^2\\right]$.\n",
    "   The trick is completing the square in the exponent.\n",
    "\n",
    "3. Use the moment generating function for $\\mathcal{N}(\\mu, \\sigma^2)$\n",
    "   to verify the mean and variance.\n",
    "\n",
    "The moment generating function for $\\mathcal{N}(\\mu, \\sigma^2)$\n",
    "comes in handy for more than simply calculating moments.  We'll\n",
    "refer back to this when determining if a function of random\n",
    "variables is normal through comparing the moment generating functions."
   ]
  },
  {
   "cell_type": "markdown",
   "metadata": {},
   "source": [
    "# Dates and Times\n",
    "\n",
    "In this section we'll address several classes and functions that address dates\n",
    "and times.\n",
    "\n",
    "## Date\n",
    "\n",
    "Dates are represented by the **Date** class.  Internally, it's the number of\n",
    "days since January 1, 1970.  Create an instance of `Date` with the `as.Date()`\n",
    "function."
   ]
  },
  {
   "cell_type": "code",
   "execution_count": 1,
   "metadata": {},
   "outputs": [
    {
     "data": {
      "text/html": [
       "<time datetime=\"2017-03-15\">2017-03-15</time>"
      ],
      "text/latex": [
       "2017-03-15"
      ],
      "text/markdown": [
       "2017-03-15"
      ],
      "text/plain": [
       "[1] \"2017-03-15\""
      ]
     },
     "metadata": {},
     "output_type": "display_data"
    }
   ],
   "source": [
    "x <- as.Date('2017-03-15')\n",
    "x"
   ]
  },
  {
   "cell_type": "markdown",
   "metadata": {},
   "source": [
    "The second parameter allows you to specify a different date format."
   ]
  },
  {
   "cell_type": "code",
   "execution_count": 2,
   "metadata": {},
   "outputs": [
    {
     "data": {
      "text/html": [
       "<ol class=list-inline>\n",
       "\t<li><time datetime=\"2017-03-15\">2017-03-15</time></li>\n",
       "\t<li><time datetime=\"2017-02-21\">2017-02-21</time></li>\n",
       "</ol>\n"
      ],
      "text/latex": [
       "\\begin{enumerate*}\n",
       "\\item 2017-03-15\n",
       "\\item 2017-02-21\n",
       "\\end{enumerate*}\n"
      ],
      "text/markdown": [
       "1. 2017-03-15\n",
       "2. 2017-02-21\n",
       "\n",
       "\n"
      ],
      "text/plain": [
       "[1] \"2017-03-15\" \"2017-02-21\""
      ]
     },
     "metadata": {},
     "output_type": "display_data"
    },
    {
     "data": {
      "text/html": [
       "<time datetime=\"2017-03-15\">2017-03-15</time>"
      ],
      "text/latex": [
       "2017-03-15"
      ],
      "text/markdown": [
       "2017-03-15"
      ],
      "text/plain": [
       "[1] \"2017-03-15\""
      ]
     },
     "metadata": {},
     "output_type": "display_data"
    },
    {
     "data": {
      "text/html": [
       "<time datetime=\"2017-03-15\">2017-03-15</time>"
      ],
      "text/latex": [
       "2017-03-15"
      ],
      "text/markdown": [
       "2017-03-15"
      ],
      "text/plain": [
       "[1] \"2017-03-15\""
      ]
     },
     "metadata": {},
     "output_type": "display_data"
    }
   ],
   "source": [
    "as.Date(c('3/15/17', '2/21/17'), '%m/%d/%y')\n",
    "as.Date('20170315', '%Y%m%d')\n",
    "as.Date('March 15, 2017', '%B %d, %Y')"
   ]
  },
  {
   "cell_type": "markdown",
   "metadata": {},
   "source": [
    "In the examples above, we see that the format string uses a\n",
    "percent sign to indicate a special field.\n",
    "\n",
    "* `%d` - day of the month\n",
    "* `%m` - number of the month\n",
    "* `%y` - two digit year\n",
    "* `%Y` - four digit year\n",
    "* `%B` - full name of the month (in English).\n",
    "\n",
    "A full list of the abbreviations can be found from the R help\n",
    "for the `strptime` function which we'll be covering below.\n",
    "\n",
    "```\n",
    "?strptime\n",
    "```\n",
    "\n",
    "Note how the first example supplies a vector for the first\n",
    "argument.  A column of a dataframe is often the first argument.\n",
    "\n",
    "To retieve the current date, use `Sys.Date()`."
   ]
  },
  {
   "cell_type": "code",
   "execution_count": 3,
   "metadata": {},
   "outputs": [
    {
     "data": {
      "text/html": [
       "<time datetime=\"2017-07-11\">2017-07-11</time>"
      ],
      "text/latex": [
       "2017-07-11"
      ],
      "text/markdown": [
       "2017-07-11"
      ],
      "text/plain": [
       "[1] \"2017-07-11\""
      ]
     },
     "metadata": {},
     "output_type": "display_data"
    }
   ],
   "source": [
    "Sys.Date()"
   ]
  },
  {
   "cell_type": "markdown",
   "metadata": {},
   "source": [
    "## Times\n",
    "\n",
    "Times are represented by two nice classes with ugly names:\n",
    "**POSIXct** and **POSIXlt**.\n",
    "\n",
    "* `POSIXct` is just a large integer under the hood.  It's good\n",
    "  for dataframe calculations.\n",
    "* `POSIXlt` is a list that maintains info about day of the week,\n",
    "  day of the year, day of the month, and lots of other things.\n",
    "  It's good for presenting date-times in human readable form.\n",
    "\n",
    "### POSIXct\n",
    "\n",
    "The `as.POSIXct` function creates a `POSIXct` object from another\n",
    "object such as a string or `Date`.\n"
   ]
  },
  {
   "cell_type": "code",
   "execution_count": 4,
   "metadata": {},
   "outputs": [
    {
     "data": {
      "text/plain": [
       "[1] \"2017-07-10 17:00:00 PDT\""
      ]
     },
     "metadata": {},
     "output_type": "display_data"
    },
    {
     "data": {
      "text/plain": [
       "[1] \"2017-07-11 08:05:46 PDT\""
      ]
     },
     "metadata": {},
     "output_type": "display_data"
    },
    {
     "data": {
      "text/plain": [
       "[1] \"2017-02-25 13:30:00 PST\""
      ]
     },
     "metadata": {},
     "output_type": "display_data"
    },
    {
     "data": {
      "text/plain": [
       "[1] \"2017-02-25 13:30:00 PST\""
      ]
     },
     "metadata": {},
     "output_type": "display_data"
    }
   ],
   "source": [
    "as.POSIXct(Sys.Date())\n",
    "as.POSIXct(Sys.time())\n",
    "as.POSIXct(\"2017-02-25 13:30\")\n",
    "as.POSIXct(\"2017-02-25 13:30 PDT\")"
   ]
  },
  {
   "cell_type": "markdown",
   "metadata": {},
   "source": [
    "Be wary of the timezone settings.  In my R console, the last\n",
    "two entries returned `PDT` instead of `PST`.\n",
    "\n",
    "The `print` method converts `POSIXct` instances into a\n",
    "human-friendly string.  But at its heart, it's an integer\n",
    "suitable for calculation."
   ]
  },
  {
   "cell_type": "code",
   "execution_count": 5,
   "metadata": {},
   "outputs": [
    {
     "data": {
      "text/plain": [
       "[1] \"2017-07-12 15:20:30 PDT\""
      ]
     },
     "metadata": {},
     "output_type": "display_data"
    },
    {
     "data": {
      "text/html": [
       "1499898030"
      ],
      "text/latex": [
       "1499898030"
      ],
      "text/markdown": [
       "1499898030"
      ],
      "text/plain": [
       "[1] 1499898030\n",
       "attr(,\"tzone\")\n",
       "[1] \"\""
      ]
     },
     "metadata": {},
     "output_type": "display_data"
    }
   ],
   "source": [
    "ctime <- as.POSIXct(\"2017-07-12 15:20:30\")\n",
    "ctime\n",
    "unclass(ctime)"
   ]
  },
  {
   "cell_type": "markdown",
   "metadata": {},
   "source": [
    "### POSIXlt\n",
    "\n",
    "The `as.POSIXlt` function creates a `POSIXlt` instance.\n",
    "From the way it is constructed and printed, the `POSIXlt`\n",
    "doesn't seem any different than `POSIXct`.  Indeed, they\n",
    "can be converted back and forth.  But the `POSIXlt` stores\n",
    "various attributes of a time."
   ]
  },
  {
   "cell_type": "code",
   "execution_count": 6,
   "metadata": {},
   "outputs": [
    {
     "data": {
      "text/plain": [
       "[1] \"2017-04-05 12:30:00 PDT\""
      ]
     },
     "metadata": {},
     "output_type": "display_data"
    },
    {
     "data": {
      "text/html": [
       "<dl>\n",
       "\t<dt>$sec</dt>\n",
       "\t\t<dd>0</dd>\n",
       "\t<dt>$min</dt>\n",
       "\t\t<dd>30</dd>\n",
       "\t<dt>$hour</dt>\n",
       "\t\t<dd>12</dd>\n",
       "\t<dt>$mday</dt>\n",
       "\t\t<dd>5</dd>\n",
       "\t<dt>$mon</dt>\n",
       "\t\t<dd>3</dd>\n",
       "\t<dt>$year</dt>\n",
       "\t\t<dd>117</dd>\n",
       "\t<dt>$wday</dt>\n",
       "\t\t<dd>3</dd>\n",
       "\t<dt>$yday</dt>\n",
       "\t\t<dd>94</dd>\n",
       "\t<dt>$isdst</dt>\n",
       "\t\t<dd>1</dd>\n",
       "\t<dt>$zone</dt>\n",
       "\t\t<dd>'PDT'</dd>\n",
       "\t<dt>$gmtoff</dt>\n",
       "\t\t<dd>&lt;NA&gt;</dd>\n",
       "</dl>\n"
      ],
      "text/latex": [
       "\\begin{description}\n",
       "\\item[\\$sec] 0\n",
       "\\item[\\$min] 30\n",
       "\\item[\\$hour] 12\n",
       "\\item[\\$mday] 5\n",
       "\\item[\\$mon] 3\n",
       "\\item[\\$year] 117\n",
       "\\item[\\$wday] 3\n",
       "\\item[\\$yday] 94\n",
       "\\item[\\$isdst] 1\n",
       "\\item[\\$zone] 'PDT'\n",
       "\\item[\\$gmtoff] <NA>\n",
       "\\end{description}\n"
      ],
      "text/markdown": [
       "$sec\n",
       ":   0\n",
       "$min\n",
       ":   30\n",
       "$hour\n",
       ":   12\n",
       "$mday\n",
       ":   5\n",
       "$mon\n",
       ":   3\n",
       "$year\n",
       ":   117\n",
       "$wday\n",
       ":   3\n",
       "$yday\n",
       ":   94\n",
       "$isdst\n",
       ":   1\n",
       "$zone\n",
       ":   'PDT'\n",
       "$gmtoff\n",
       ":   &lt;NA&gt;\n",
       "\n",
       "\n"
      ],
      "text/plain": [
       "$sec\n",
       "[1] 0\n",
       "\n",
       "$min\n",
       "[1] 30\n",
       "\n",
       "$hour\n",
       "[1] 12\n",
       "\n",
       "$mday\n",
       "[1] 5\n",
       "\n",
       "$mon\n",
       "[1] 3\n",
       "\n",
       "$year\n",
       "[1] 117\n",
       "\n",
       "$wday\n",
       "[1] 3\n",
       "\n",
       "$yday\n",
       "[1] 94\n",
       "\n",
       "$isdst\n",
       "[1] 1\n",
       "\n",
       "$zone\n",
       "[1] \"PDT\"\n",
       "\n",
       "$gmtoff\n",
       "[1] NA\n"
      ]
     },
     "metadata": {},
     "output_type": "display_data"
    }
   ],
   "source": [
    "ltime <- as.POSIXlt(\"2017-04-05 12:30:00\")\n",
    "ltime\n",
    "unclass(ltime)"
   ]
  },
  {
   "cell_type": "code",
   "execution_count": 7,
   "metadata": {},
   "outputs": [
    {
     "data": {
      "text/html": [
       "'Number of seconds is 0 and hours are 12'"
      ],
      "text/latex": [
       "'Number of seconds is 0 and hours are 12'"
      ],
      "text/markdown": [
       "'Number of seconds is 0 and hours are 12'"
      ],
      "text/plain": [
       "[1] \"Number of seconds is 0 and hours are 12\""
      ]
     },
     "metadata": {},
     "output_type": "display_data"
    }
   ],
   "source": [
    "paste(\"Number of seconds is\", ltime$sec, \"and hours are\", ltime$hour)"
   ]
  },
  {
   "cell_type": "markdown",
   "metadata": {},
   "source": [
    "The `paste` function \"pastes\" strings together.\n",
    "\n",
    "## Parsing and Formating\n",
    "\n",
    "Our dates and time objects are easily constructed from strings\n",
    "are formatted in a reasonable way.  But often we need to parse\n",
    "exotic date and time formats.  Or we may need to present them\n",
    "in exotic ways.  R provides the following functions for this.\n",
    "\n",
    "* `strptime` - parse a date and/or time string.\n",
    "* `strftime` - format a string from a date or time object.\n",
    "\n",
    "The parsing function `strptime` always returns a `POSIXlt`.\n",
    "This may be converted to either a `Date` or `POSIXct` through\n",
    "their respective `as` functions: `as.Date()` and `as.POSIXct`.\n",
    "The **conversion specification** used by the parse and format\n",
    "function is documented in the help for `strptime`."
   ]
  },
  {
   "cell_type": "code",
   "execution_count": 8,
   "metadata": {},
   "outputs": [
    {
     "data": {
      "text/plain": [
       "[1] \"2017-06-13 PDT\""
      ]
     },
     "metadata": {},
     "output_type": "display_data"
    },
    {
     "data": {
      "text/plain": [
       "[1] \"2014-10-20 16:15:00 PDT\""
      ]
     },
     "metadata": {},
     "output_type": "display_data"
    }
   ],
   "source": [
    "strptime('06/13/2017 14:20', \"%m/%d/%Y\")\n",
    "strptime('Oct 20, 2014 at 16:15', \"%b %d, %Y at %H:%M\")"
   ]
  },
  {
   "cell_type": "markdown",
   "metadata": {},
   "source": [
    "**Exercise**  Parse the following date/times with `strptime`.\n",
    "\n",
    "1. `170628 3:36` - Assume military time.\n",
    "2. `2016136` - This is just a date.  The first four characters are\n",
    "   the year; the last three are the number of days since January 1.\n",
    "   Some mainframe systems still use this.\n",
    "3. `July 4, 1976 at 15:30` - Remember the difference between long month and\n",
    "   short month.\n",
    "4. `Day 7 of January at 20:00 in the year 2016` - Hopefully you don't run\n",
    "   into many of these.\n",
    "\n",
    "## Comparisons\n",
    "\n",
    "The usual comparison operators apply to the date time classes."
   ]
  },
  {
   "cell_type": "code",
   "execution_count": 9,
   "metadata": {},
   "outputs": [
    {
     "data": {
      "text/html": [
       "<ol class=list-inline>\n",
       "\t<li>FALSE</li>\n",
       "\t<li>FALSE</li>\n",
       "\t<li>TRUE</li>\n",
       "\t<li>TRUE</li>\n",
       "</ol>\n"
      ],
      "text/latex": [
       "\\begin{enumerate*}\n",
       "\\item FALSE\n",
       "\\item FALSE\n",
       "\\item TRUE\n",
       "\\item TRUE\n",
       "\\end{enumerate*}\n"
      ],
      "text/markdown": [
       "1. FALSE\n",
       "2. FALSE\n",
       "3. TRUE\n",
       "4. TRUE\n",
       "\n",
       "\n"
      ],
      "text/plain": [
       "[1] FALSE FALSE  TRUE  TRUE"
      ]
     },
     "metadata": {},
     "output_type": "display_data"
    }
   ],
   "source": [
    "ts <- as.POSIXlt(c(\"2017-03-01\", \"2017-04-01\", \"2017-05-01\", \"2017-06-01\"))\n",
    "ts > as.POSIXlt(\"2017-04-15\")"
   ]
  },
  {
   "cell_type": "markdown",
   "metadata": {},
   "source": [
    "## Time Differences\n",
    "\n",
    "The **difftime** class supports arithmetic based on the difference\n",
    "between two times.  A **difftime** can be created implicitly by\n",
    "the subtraction operator."
   ]
  },
  {
   "cell_type": "code",
   "execution_count": 10,
   "metadata": {},
   "outputs": [
    {
     "data": {
      "text/plain": [
       "Time difference of 8 days"
      ]
     },
     "metadata": {},
     "output_type": "display_data"
    }
   ],
   "source": [
    "td1 <- as.POSIXlt(\"2017-04-15\") - as.POSIXlt(\"2017-04-07\")\n",
    "td1"
   ]
  },
  {
   "cell_type": "markdown",
   "metadata": {},
   "source": [
    "Or it can be created by a direct call to the `difftime`\n",
    "function with two dates."
   ]
  },
  {
   "cell_type": "code",
   "execution_count": 11,
   "metadata": {},
   "outputs": [
    {
     "data": {
      "text/plain": [
       "Time difference of 8 days"
      ]
     },
     "metadata": {},
     "output_type": "display_data"
    }
   ],
   "source": [
    "td2 <- difftime(\"2017-04-15\", \"2017-04-07\")\n",
    "td2"
   ]
  },
  {
   "cell_type": "markdown",
   "metadata": {},
   "source": [
    "Finally, it can be created by specifying the units directly\n",
    "to the **as.difftime** function."
   ]
  },
  {
   "cell_type": "code",
   "execution_count": 12,
   "metadata": {},
   "outputs": [
    {
     "data": {
      "text/plain": [
       "Time difference of 10 days"
      ]
     },
     "metadata": {},
     "output_type": "display_data"
    }
   ],
   "source": [
    "td3 <- as.difftime(10, units=\"days\")\n",
    "td3"
   ]
  },
  {
   "cell_type": "markdown",
   "metadata": {},
   "source": [
    "You can compare time differences."
   ]
  },
  {
   "cell_type": "code",
   "execution_count": 13,
   "metadata": {},
   "outputs": [
    {
     "data": {
      "text/html": [
       "FALSE"
      ],
      "text/latex": [
       "FALSE"
      ],
      "text/markdown": [
       "FALSE"
      ],
      "text/plain": [
       "[1] FALSE"
      ]
     },
     "metadata": {},
     "output_type": "display_data"
    }
   ],
   "source": [
    "td1 > td3"
   ]
  },
  {
   "cell_type": "markdown",
   "metadata": {},
   "source": [
    "And you can add a difference back to a date or time."
   ]
  },
  {
   "cell_type": "code",
   "execution_count": 14,
   "metadata": {},
   "outputs": [
    {
     "data": {
      "text/plain": [
       "[1] \"2017-03-11 PST\" \"2017-04-11 PDT\" \"2017-05-11 PDT\" \"2017-06-11 PDT\""
      ]
     },
     "metadata": {},
     "output_type": "display_data"
    }
   ],
   "source": [
    "ts + td3"
   ]
  },
  {
   "cell_type": "markdown",
   "metadata": {},
   "source": [
    "# Split (revisited)\n",
    "\n",
    "In the last workshop we investigated several ways to create factor\n",
    "variables for the purpose of the *split* phase of the\n",
    "**split-apply-combine** paradigm.  One important technique that was\n",
    "left out was the **cut** function.  Its first three parametes are\n",
    "\n",
    "1. a numeric vector to cut\n",
    "2. a specfication for the cuts\n",
    "3. labels for the cuts (optional)\n",
    "\n",
    "The result is a factor vector with the same length as the first\n",
    "argument.  The value of each entry is the cut to which the original\n",
    "entry is placed.  A few examples should clear this up.\n",
    "We'll use the `InsectSprays` dataset on which to demonstrate some\n",
    "cutting techniques."
   ]
  },
  {
   "cell_type": "code",
   "execution_count": 15,
   "metadata": {},
   "outputs": [
    {
     "data": {
      "text/html": [
       "<table>\n",
       "<thead><tr><th scope=col>count</th><th scope=col>spray</th></tr></thead>\n",
       "<tbody>\n",
       "\t<tr><td>10</td><td>A </td></tr>\n",
       "\t<tr><td> 7</td><td>A </td></tr>\n",
       "\t<tr><td>20</td><td>A </td></tr>\n",
       "\t<tr><td>14</td><td>A </td></tr>\n",
       "\t<tr><td>14</td><td>A </td></tr>\n",
       "\t<tr><td>12</td><td>A </td></tr>\n",
       "</tbody>\n",
       "</table>\n"
      ],
      "text/latex": [
       "\\begin{tabular}{r|ll}\n",
       " count & spray\\\\\n",
       "\\hline\n",
       "\t 10 & A \\\\\n",
       "\t  7 & A \\\\\n",
       "\t 20 & A \\\\\n",
       "\t 14 & A \\\\\n",
       "\t 14 & A \\\\\n",
       "\t 12 & A \\\\\n",
       "\\end{tabular}\n"
      ],
      "text/markdown": [
       "\n",
       "count | spray | \n",
       "|---|---|---|---|---|---|\n",
       "| 10 | A  | \n",
       "|  7 | A  | \n",
       "| 20 | A  | \n",
       "| 14 | A  | \n",
       "| 14 | A  | \n",
       "| 12 | A  | \n",
       "\n",
       "\n"
      ],
      "text/plain": [
       "  count spray\n",
       "1 10    A    \n",
       "2  7    A    \n",
       "3 20    A    \n",
       "4 14    A    \n",
       "5 14    A    \n",
       "6 12    A    "
      ]
     },
     "metadata": {},
     "output_type": "display_data"
    }
   ],
   "source": [
    "head(InsectSprays)"
   ]
  },
  {
   "cell_type": "markdown",
   "metadata": {},
   "source": [
    "We'll split the dataset based on the \"quality\"\n",
    "of the spray, which we presume to be proportional to the\n",
    "eradication count.  We'll create **quality** factor\n",
    "variable with values of either\n",
    "`bad`, `ok`, or `good` depending on the eradication\n",
    "count in two ways.\n",
    "\n",
    "1. `qualityA` - based on absolute values of the count\n",
    "2. `qualityC` - based on quantiles (college students\n",
    "   refer to this as \"the curve\").\n",
    "\n",
    "For the absolute case, we simply divide the range of\n",
    "values into equal intervals.  In this case, there are\n",
    "three such intervals: `bad`, `ok`, and `good`."
   ]
  },
  {
   "cell_type": "code",
   "execution_count": 16,
   "metadata": {},
   "outputs": [
    {
     "data": {
      "text/plain": [
       "qualityA\n",
       "(-0.026,8.67]   (8.67,17.3]     (17.3,26] \n",
       "           37            25            10 "
      ]
     },
     "metadata": {},
     "output_type": "display_data"
    }
   ],
   "source": [
    "qualityA <- cut(InsectSprays$count, 3 )\n",
    "table(qualityA)"
   ]
  },
  {
   "cell_type": "markdown",
   "metadata": {},
   "source": [
    "We can see that the intervals are about equal length (no curve).\n",
    "The interval names are informative, but somewhat awkward.  We\n",
    "can assign friendlier names with the `labels` parameter."
   ]
  },
  {
   "cell_type": "code",
   "execution_count": 17,
   "metadata": {},
   "outputs": [
    {
     "data": {
      "text/plain": [
       "qualityA\n",
       " bad   ok good \n",
       "  37   25   10 "
      ]
     },
     "metadata": {},
     "output_type": "display_data"
    }
   ],
   "source": [
    "qualityA <- cut(InsectSprays$count, 3, labels=c('bad', 'ok', 'good') )\n",
    "table(qualityA)"
   ]
  },
  {
   "cell_type": "markdown",
   "metadata": {},
   "source": [
    "Instead of specifying the number of breaks (in which case they are all\n",
    "of equal length), we can specify the actual breakpoints themselves.\n",
    "Since we're \"grading on a curve\", we'll assign\n",
    "\n",
    "* `bad` - to the lower third\n",
    "* `ok` - to the middle third\n",
    "* `good` - to the upper third\n",
    "\n",
    "We'll use the `quantile` function introduced in Workshop 1 to determine\n",
    "these break points."
   ]
  },
  {
   "cell_type": "code",
   "execution_count": 18,
   "metadata": {},
   "outputs": [
    {
     "data": {
      "text/html": [
       "<dl class=dl-horizontal>\n",
       "\t<dt>0%</dt>\n",
       "\t\t<dd>0</dd>\n",
       "\t<dt>33%</dt>\n",
       "\t\t<dd>4.43</dd>\n",
       "\t<dt>67%</dt>\n",
       "\t\t<dd>13</dd>\n",
       "\t<dt>100%</dt>\n",
       "\t\t<dd>26</dd>\n",
       "</dl>\n"
      ],
      "text/latex": [
       "\\begin{description*}\n",
       "\\item[0\\textbackslash{}\\%] 0\n",
       "\\item[33\\textbackslash{}\\%] 4.43\n",
       "\\item[67\\textbackslash{}\\%] 13\n",
       "\\item[100\\textbackslash{}\\%] 26\n",
       "\\end{description*}\n"
      ],
      "text/markdown": [
       "0%\n",
       ":   033%\n",
       ":   4.4367%\n",
       ":   13100%\n",
       ":   26\n",
       "\n"
      ],
      "text/plain": [
       "   0%   33%   67%  100% \n",
       " 0.00  4.43 13.00 26.00 "
      ]
     },
     "metadata": {},
     "output_type": "display_data"
    }
   ],
   "source": [
    "curveLevels <- quantile(InsectSprays$count, c(0, .33, .67, 1) )\n",
    "curveLevels"
   ]
  },
  {
   "cell_type": "markdown",
   "metadata": {},
   "source": [
    "Then provide these break points to the `cut` function."
   ]
  },
  {
   "cell_type": "code",
   "execution_count": 19,
   "metadata": {},
   "outputs": [
    {
     "data": {
      "text/plain": [
       "qualityC\n",
       " bad   ok good \n",
       "  22   26   22 "
      ]
     },
     "metadata": {},
     "output_type": "display_data"
    }
   ],
   "source": [
    "qualityC <- cut(InsectSprays$count, curveLevels, labels=c('bad', 'ok', 'good') )\n",
    "table(qualityC)"
   ]
  },
  {
   "cell_type": "markdown",
   "metadata": {},
   "source": [
    "We expect each level to have the same number of entries.  This is only\n",
    "approximate due to the different ways quantiles can be computed.\n",
    "(Check the `quantile` help documentation; there are no fewer than\n",
    "**nine** algorithms from which to choose.)  The default is usually\n",
    "fine and only deviates significantly when the sample size is small.\n",
    "\n",
    "Now we have two factor variables, one absolute and one curved, that\n",
    "split the `InsectSprays` dataframe into \"quality buckets.\"  Let's\n",
    "see how the quality values were divided among the spray brands."
   ]
  },
  {
   "cell_type": "code",
   "execution_count": 20,
   "metadata": {},
   "outputs": [
    {
     "data": {
      "text/plain": [
       "   qualityA\n",
       "    bad ok good\n",
       "  A   1  8    3\n",
       "  B   1  8    3\n",
       "  C  12  0    0\n",
       "  D  11  1    0\n",
       "  E  12  0    0\n",
       "  F   0  8    4"
      ]
     },
     "metadata": {},
     "output_type": "display_data"
    },
    {
     "data": {
      "text/plain": [
       "   qualityC\n",
       "    bad ok good\n",
       "  A   0  5    7\n",
       "  B   0  4    8\n",
       "  C   9  1    0\n",
       "  D   5  7    0\n",
       "  E   8  4    0\n",
       "  F   0  5    7"
      ]
     },
     "metadata": {},
     "output_type": "display_data"
    }
   ],
   "source": [
    "table(InsectSprays$spray, qualityA)\n",
    "table(InsectSprays$spray, qualityC)"
   ]
  },
  {
   "cell_type": "markdown",
   "metadata": {},
   "source": [
    "## Cutting Dates and Times\n",
    "\n",
    "Hopefully we haven't completely forgotten dates and times.\n",
    "It turns out we can cut these, too.  Remember that we can\n",
    "add a `difftime` duration to a `POSIXlt` time instant to\n",
    "get a new instant."
   ]
  },
  {
   "cell_type": "code",
   "execution_count": 21,
   "metadata": {},
   "outputs": [
    {
     "data": {
      "text/plain": [
       "[1] \"2017-04-01 12:00:00 PDT\""
      ]
     },
     "metadata": {},
     "output_type": "display_data"
    }
   ],
   "source": [
    "as.POSIXlt(\"2017-03-31 12:00\") + as.difftime(1, units=\"days\")"
   ]
  },
  {
   "cell_type": "markdown",
   "metadata": {},
   "source": [
    "Let's create a sequence of 100 consecutive days."
   ]
  },
  {
   "cell_type": "code",
   "execution_count": 22,
   "metadata": {},
   "outputs": [
    {
     "data": {
      "text/plain": [
       "[1] \"2017-03-31 12:00:00 PDT\" \"2017-04-01 12:00:00 PDT\"\n",
       "[3] \"2017-04-02 12:00:00 PDT\" \"2017-04-03 12:00:00 PDT\"\n",
       "[5] \"2017-04-04 12:00:00 PDT\""
      ]
     },
     "metadata": {},
     "output_type": "display_data"
    }
   ],
   "source": [
    "dtvec <- as.POSIXlt(\"2017-03-31 12:00\") + as.difftime(seq(0, 99), units=\"days\")\n",
    "dtvec[1:5]"
   ]
  },
  {
   "cell_type": "markdown",
   "metadata": {},
   "source": [
    "Like in the numeric case, we can break into equal intervals\n",
    "by specifying the number of breaks."
   ]
  },
  {
   "cell_type": "code",
   "execution_count": 23,
   "metadata": {},
   "outputs": [
    {
     "data": {
      "text/plain": [
       "promptness\n",
       " early ontime   late \n",
       "    33     33     34 "
      ]
     },
     "metadata": {},
     "output_type": "display_data"
    }
   ],
   "source": [
    "promptness <- cut(dtvec, 3, labels=c('early', 'ontime', 'late'))\n",
    "table(promptness)"
   ]
  },
  {
   "cell_type": "markdown",
   "metadata": {},
   "source": [
    "Since the intervals were equal, it's no surprise that they are\n",
    "evenly distributed in this case.\n",
    "\n",
    "We can generate break points based on the day of the week."
   ]
  },
  {
   "cell_type": "code",
   "execution_count": 24,
   "metadata": {},
   "outputs": [
    {
     "data": {
      "text/html": [
       "<ol class=list-inline>\n",
       "\t<li>2017-03-27</li>\n",
       "\t<li>2017-03-27</li>\n",
       "\t<li>2017-03-27</li>\n",
       "\t<li>2017-04-03</li>\n",
       "\t<li>2017-04-03</li>\n",
       "</ol>\n"
      ],
      "text/latex": [
       "\\begin{enumerate*}\n",
       "\\item 2017-03-27\n",
       "\\item 2017-03-27\n",
       "\\item 2017-03-27\n",
       "\\item 2017-04-03\n",
       "\\item 2017-04-03\n",
       "\\end{enumerate*}\n"
      ],
      "text/markdown": [
       "1. 2017-03-27\n",
       "2. 2017-03-27\n",
       "3. 2017-03-27\n",
       "4. 2017-04-03\n",
       "5. 2017-04-03\n",
       "\n",
       "\n"
      ],
      "text/plain": [
       "[1] 2017-03-27 2017-03-27 2017-03-27 2017-04-03 2017-04-03\n",
       "15 Levels: 2017-03-27 2017-04-03 2017-04-10 2017-04-17 ... 2017-07-03"
      ]
     },
     "metadata": {},
     "output_type": "display_data"
    }
   ],
   "source": [
    "mondays <- cut(dtvec, breaks=\"week\")\n",
    "mondays[1:5]"
   ]
  },
  {
   "cell_type": "markdown",
   "metadata": {},
   "source": [
    "In this example, the times were evenly spaced.  The power of the last\n",
    "cut above becomes more apparent when applied to uneven intervals.  Some\n",
    "weeks might have many values, some might have few, you just want to sum\n",
    "by week.  Your *split-apply-combine* technique would use this operation\n",
    "for the `split` component."
   ]
  },
  {
   "cell_type": "markdown",
   "metadata": {},
   "source": [
    "# Aggregation\n",
    "\n",
    "In the last workshop we introduced the *split-apply-combine* paradigm\n",
    "in detail by investigating each step in detail.  As a quick review, let's\n",
    "recall the analysis we performed on the `InsectSprays` dataset."
   ]
  },
  {
   "cell_type": "code",
   "execution_count": 25,
   "metadata": {},
   "outputs": [
    {
     "data": {
      "text/html": [
       "<table>\n",
       "<thead><tr><th scope=col>count</th><th scope=col>spray</th></tr></thead>\n",
       "<tbody>\n",
       "\t<tr><td>10</td><td>A </td></tr>\n",
       "\t<tr><td> 7</td><td>A </td></tr>\n",
       "\t<tr><td>20</td><td>A </td></tr>\n",
       "\t<tr><td>14</td><td>A </td></tr>\n",
       "\t<tr><td>14</td><td>A </td></tr>\n",
       "\t<tr><td>12</td><td>A </td></tr>\n",
       "</tbody>\n",
       "</table>\n"
      ],
      "text/latex": [
       "\\begin{tabular}{r|ll}\n",
       " count & spray\\\\\n",
       "\\hline\n",
       "\t 10 & A \\\\\n",
       "\t  7 & A \\\\\n",
       "\t 20 & A \\\\\n",
       "\t 14 & A \\\\\n",
       "\t 14 & A \\\\\n",
       "\t 12 & A \\\\\n",
       "\\end{tabular}\n"
      ],
      "text/markdown": [
       "\n",
       "count | spray | \n",
       "|---|---|---|---|---|---|\n",
       "| 10 | A  | \n",
       "|  7 | A  | \n",
       "| 20 | A  | \n",
       "| 14 | A  | \n",
       "| 14 | A  | \n",
       "| 12 | A  | \n",
       "\n",
       "\n"
      ],
      "text/plain": [
       "  count spray\n",
       "1 10    A    \n",
       "2  7    A    \n",
       "3 20    A    \n",
       "4 14    A    \n",
       "5 14    A    \n",
       "6 12    A    "
      ]
     },
     "metadata": {},
     "output_type": "display_data"
    }
   ],
   "source": [
    "head(InsectSprays)"
   ]
  },
  {
   "cell_type": "code",
   "execution_count": 26,
   "metadata": {},
   "outputs": [
    {
     "data": {
      "text/html": [
       "<dl class=dl-horizontal>\n",
       "\t<dt>A</dt>\n",
       "\t\t<dd>14.5</dd>\n",
       "\t<dt>B</dt>\n",
       "\t\t<dd>15.3333333333333</dd>\n",
       "\t<dt>C</dt>\n",
       "\t\t<dd>2.08333333333333</dd>\n",
       "\t<dt>D</dt>\n",
       "\t\t<dd>4.91666666666667</dd>\n",
       "\t<dt>E</dt>\n",
       "\t\t<dd>3.5</dd>\n",
       "\t<dt>F</dt>\n",
       "\t\t<dd>16.6666666666667</dd>\n",
       "</dl>\n"
      ],
      "text/latex": [
       "\\begin{description*}\n",
       "\\item[A] 14.5\n",
       "\\item[B] 15.3333333333333\n",
       "\\item[C] 2.08333333333333\n",
       "\\item[D] 4.91666666666667\n",
       "\\item[E] 3.5\n",
       "\\item[F] 16.6666666666667\n",
       "\\end{description*}\n"
      ],
      "text/markdown": [
       "A\n",
       ":   14.5B\n",
       ":   15.3333333333333C\n",
       ":   2.08333333333333D\n",
       ":   4.91666666666667E\n",
       ":   3.5F\n",
       ":   16.6666666666667\n",
       "\n"
      ],
      "text/plain": [
       "        A         B         C         D         E         F \n",
       "14.500000 15.333333  2.083333  4.916667  3.500000 16.666667 "
      ]
     },
     "metadata": {},
     "output_type": "display_data"
    }
   ],
   "source": [
    "isl       <- split(InsectSprays, InsectSprays$spray)\n",
    "isMeanLst <- lapply(isl, function(x) { mean(x$count) })\n",
    "isMeanVec <- unlist(isMeanLst)\n",
    "isMeanVec"
   ]
  },
  {
   "cell_type": "markdown",
   "metadata": {},
   "source": [
    "The first line is the **split**, which was done based on the\n",
    "value of the `spray` column.  This yielded an insect spray list\n",
    "(`isl`) where each element of the list was a subset of the original\n",
    "dataset with a particular `spray` value.\n",
    "\n",
    "The next line was the **apply**, which applied to the `mean` function\n",
    "to the `count` column.  It returns a new list (`isMeanLst`) that has\n",
    "the same number of elements as `isl`.  The value of an element in\n",
    "`isMeanLst` is the average of the `count` column of the corresponding\n",
    "subset in `isl`.\n",
    "\n",
    "The third line is the **combine**, which converts the list of numbers\n",
    "into a vector of numbers.  The last two steps are so common that a\n",
    "function named **sapply** is provided to combine them.  The **s** in\n",
    "`sapply` means \"simplify\".  It's equivalent to `lapply` followed by\n",
    "`unlist`."
   ]
  },
  {
   "cell_type": "code",
   "execution_count": 27,
   "metadata": {},
   "outputs": [
    {
     "data": {
      "text/html": [
       "<dl class=dl-horizontal>\n",
       "\t<dt>A</dt>\n",
       "\t\t<dd>14.5</dd>\n",
       "\t<dt>B</dt>\n",
       "\t\t<dd>15.3333333333333</dd>\n",
       "\t<dt>C</dt>\n",
       "\t\t<dd>2.08333333333333</dd>\n",
       "\t<dt>D</dt>\n",
       "\t\t<dd>4.91666666666667</dd>\n",
       "\t<dt>E</dt>\n",
       "\t\t<dd>3.5</dd>\n",
       "\t<dt>F</dt>\n",
       "\t\t<dd>16.6666666666667</dd>\n",
       "</dl>\n"
      ],
      "text/latex": [
       "\\begin{description*}\n",
       "\\item[A] 14.5\n",
       "\\item[B] 15.3333333333333\n",
       "\\item[C] 2.08333333333333\n",
       "\\item[D] 4.91666666666667\n",
       "\\item[E] 3.5\n",
       "\\item[F] 16.6666666666667\n",
       "\\end{description*}\n"
      ],
      "text/markdown": [
       "A\n",
       ":   14.5B\n",
       ":   15.3333333333333C\n",
       ":   2.08333333333333D\n",
       ":   4.91666666666667E\n",
       ":   3.5F\n",
       ":   16.6666666666667\n",
       "\n"
      ],
      "text/plain": [
       "        A         B         C         D         E         F \n",
       "14.500000 15.333333  2.083333  4.916667  3.500000 16.666667 "
      ]
     },
     "metadata": {},
     "output_type": "display_data"
    }
   ],
   "source": [
    "isMeanVec <- sapply(isl, function(x) { mean(x$count) })\n",
    "isMeanVec"
   ]
  },
  {
   "cell_type": "markdown",
   "metadata": {},
   "source": [
    "The **aggregate** function combines all three steps into a single call."
   ]
  },
  {
   "cell_type": "code",
   "execution_count": 28,
   "metadata": {},
   "outputs": [
    {
     "data": {
      "text/html": [
       "<table>\n",
       "<thead><tr><th scope=col>spray</th><th scope=col>count</th></tr></thead>\n",
       "<tbody>\n",
       "\t<tr><td>A        </td><td>14.500000</td></tr>\n",
       "\t<tr><td>B        </td><td>15.333333</td></tr>\n",
       "\t<tr><td>C        </td><td> 2.083333</td></tr>\n",
       "\t<tr><td>D        </td><td> 4.916667</td></tr>\n",
       "\t<tr><td>E        </td><td> 3.500000</td></tr>\n",
       "\t<tr><td>F        </td><td>16.666667</td></tr>\n",
       "</tbody>\n",
       "</table>\n"
      ],
      "text/latex": [
       "\\begin{tabular}{r|ll}\n",
       " spray & count\\\\\n",
       "\\hline\n",
       "\t A         & 14.500000\\\\\n",
       "\t B         & 15.333333\\\\\n",
       "\t C         &  2.083333\\\\\n",
       "\t D         &  4.916667\\\\\n",
       "\t E         &  3.500000\\\\\n",
       "\t F         & 16.666667\\\\\n",
       "\\end{tabular}\n"
      ],
      "text/markdown": [
       "\n",
       "spray | count | \n",
       "|---|---|---|---|---|---|\n",
       "| A         | 14.500000 | \n",
       "| B         | 15.333333 | \n",
       "| C         |  2.083333 | \n",
       "| D         |  4.916667 | \n",
       "| E         |  3.500000 | \n",
       "| F         | 16.666667 | \n",
       "\n",
       "\n"
      ],
      "text/plain": [
       "  spray count    \n",
       "1 A     14.500000\n",
       "2 B     15.333333\n",
       "3 C      2.083333\n",
       "4 D      4.916667\n",
       "5 E      3.500000\n",
       "6 F     16.666667"
      ]
     },
     "metadata": {},
     "output_type": "display_data"
    }
   ],
   "source": [
    "aggregate(count ~ spray, data=InsectSprays, mean)"
   ]
  },
  {
   "cell_type": "markdown",
   "metadata": {},
   "source": [
    "Wow!  That was easy.  Let's break down what we just did.\n",
    "\n",
    "The first parameter of `aggregate` is a formula.  We saw formulas\n",
    "a few workshops ago when we studied the `xtabs` function.  In general\n",
    "each function that uses a formula interprets it differently.\n",
    "In the case of `aggregate` we have the following.\n",
    "\n",
    "* __LHS__ - This is the column on which the aggegation function\n",
    "  will operate.  In the example above it was `count`.  If multiple\n",
    "  columns are specified, they are acted upon individually.  To\n",
    "  operate on all numeric columns, specify a dot on the LHS.\n",
    "\n",
    "* __RHS__ - This is a factor variable that this the basis for the\n",
    "  aggregation.  It's just like the RHS of the `xtabs` formula.  If\n",
    "  you specify multiple factor variables, the result is an interaction.\n",
    "\n",
    "The second parameter is the name of the data frame.  The final parameter\n",
    "is the name of the function to apply to the LHS of the formula.\n",
    "\n",
    "**Exercise**: Apply some of these other functions:\n",
    "1. `sum`\n",
    "2. `sd`\n",
    "3. `max`\n",
    "4. `min`\n",
    "5. `function(x) { max(x) - min(x) }`\n",
    "\n",
    "\n",
    "# Pivot Tables\n",
    "\n",
    "Pivot tables are much easier to see than to describe.\n",
    "So let's just do one and you'll get the idea.\n",
    "We'll practice on the `ChickWeight` dataset."
   ]
  },
  {
   "cell_type": "code",
   "execution_count": 29,
   "metadata": {},
   "outputs": [
    {
     "data": {
      "text/html": [
       "<table>\n",
       "<thead><tr><th scope=col>weight</th><th scope=col>Time</th><th scope=col>Chick</th><th scope=col>Diet</th></tr></thead>\n",
       "<tbody>\n",
       "\t<tr><td>42</td><td> 0</td><td>1 </td><td>1 </td></tr>\n",
       "\t<tr><td>51</td><td> 2</td><td>1 </td><td>1 </td></tr>\n",
       "\t<tr><td>59</td><td> 4</td><td>1 </td><td>1 </td></tr>\n",
       "\t<tr><td>64</td><td> 6</td><td>1 </td><td>1 </td></tr>\n",
       "\t<tr><td>76</td><td> 8</td><td>1 </td><td>1 </td></tr>\n",
       "\t<tr><td>93</td><td>10</td><td>1 </td><td>1 </td></tr>\n",
       "</tbody>\n",
       "</table>\n"
      ],
      "text/latex": [
       "\\begin{tabular}{r|llll}\n",
       " weight & Time & Chick & Diet\\\\\n",
       "\\hline\n",
       "\t 42 &  0 & 1  & 1 \\\\\n",
       "\t 51 &  2 & 1  & 1 \\\\\n",
       "\t 59 &  4 & 1  & 1 \\\\\n",
       "\t 64 &  6 & 1  & 1 \\\\\n",
       "\t 76 &  8 & 1  & 1 \\\\\n",
       "\t 93 & 10 & 1  & 1 \\\\\n",
       "\\end{tabular}\n"
      ],
      "text/markdown": [
       "\n",
       "weight | Time | Chick | Diet | \n",
       "|---|---|---|---|---|---|\n",
       "| 42 |  0 | 1  | 1  | \n",
       "| 51 |  2 | 1  | 1  | \n",
       "| 59 |  4 | 1  | 1  | \n",
       "| 64 |  6 | 1  | 1  | \n",
       "| 76 |  8 | 1  | 1  | \n",
       "| 93 | 10 | 1  | 1  | \n",
       "\n",
       "\n"
      ],
      "text/plain": [
       "  weight Time Chick Diet\n",
       "1 42      0   1     1   \n",
       "2 51      2   1     1   \n",
       "3 59      4   1     1   \n",
       "4 64      6   1     1   \n",
       "5 76      8   1     1   \n",
       "6 93     10   1     1   "
      ]
     },
     "metadata": {},
     "output_type": "display_data"
    }
   ],
   "source": [
    "cw <- ChickWeight\n",
    "head(cw)"
   ]
  },
  {
   "cell_type": "markdown",
   "metadata": {},
   "source": [
    "This data frame records a bunch of baby chicks divided into four\n",
    "groups according to their diet.  Their weight was recorded at several\n",
    "points in time.  To determine the affect of the diet, let's\n",
    "aggregate the weight of chicks within a group using the `mean` function\n",
    "rather than analyzing each chick individually."
   ]
  },
  {
   "cell_type": "code",
   "execution_count": 30,
   "metadata": {},
   "outputs": [
    {
     "data": {
      "text/html": [
       "<table>\n",
       "<thead><tr><th scope=col>Time</th><th scope=col>Diet</th><th scope=col>weight</th></tr></thead>\n",
       "<tbody>\n",
       "\t<tr><td> 0       </td><td>1        </td><td> 41.40000</td></tr>\n",
       "\t<tr><td> 2       </td><td>1        </td><td> 47.25000</td></tr>\n",
       "\t<tr><td> 4       </td><td>1        </td><td> 56.47368</td></tr>\n",
       "\t<tr><td> 6       </td><td>1        </td><td> 66.78947</td></tr>\n",
       "\t<tr><td> 8       </td><td>1        </td><td> 79.68421</td></tr>\n",
       "\t<tr><td>10       </td><td>1        </td><td> 93.05263</td></tr>\n",
       "\t<tr><td>12       </td><td>1        </td><td>108.52632</td></tr>\n",
       "\t<tr><td>14       </td><td>1        </td><td>123.38889</td></tr>\n",
       "\t<tr><td>16       </td><td>1        </td><td>144.64706</td></tr>\n",
       "\t<tr><td>18       </td><td>1        </td><td>158.94118</td></tr>\n",
       "\t<tr><td>20       </td><td>1        </td><td>170.41176</td></tr>\n",
       "\t<tr><td>21       </td><td>1        </td><td>177.75000</td></tr>\n",
       "\t<tr><td> 0       </td><td>2        </td><td> 40.70000</td></tr>\n",
       "\t<tr><td> 2       </td><td>2        </td><td> 49.40000</td></tr>\n",
       "\t<tr><td> 4       </td><td>2        </td><td> 59.80000</td></tr>\n",
       "\t<tr><td> 6       </td><td>2        </td><td> 75.40000</td></tr>\n",
       "\t<tr><td> 8       </td><td>2        </td><td> 91.70000</td></tr>\n",
       "\t<tr><td>10       </td><td>2        </td><td>108.50000</td></tr>\n",
       "\t<tr><td>12       </td><td>2        </td><td>131.30000</td></tr>\n",
       "\t<tr><td>14       </td><td>2        </td><td>141.90000</td></tr>\n",
       "</tbody>\n",
       "</table>\n"
      ],
      "text/latex": [
       "\\begin{tabular}{r|lll}\n",
       " Time & Diet & weight\\\\\n",
       "\\hline\n",
       "\t  0        & 1         &  41.40000\\\\\n",
       "\t  2        & 1         &  47.25000\\\\\n",
       "\t  4        & 1         &  56.47368\\\\\n",
       "\t  6        & 1         &  66.78947\\\\\n",
       "\t  8        & 1         &  79.68421\\\\\n",
       "\t 10        & 1         &  93.05263\\\\\n",
       "\t 12        & 1         & 108.52632\\\\\n",
       "\t 14        & 1         & 123.38889\\\\\n",
       "\t 16        & 1         & 144.64706\\\\\n",
       "\t 18        & 1         & 158.94118\\\\\n",
       "\t 20        & 1         & 170.41176\\\\\n",
       "\t 21        & 1         & 177.75000\\\\\n",
       "\t  0        & 2         &  40.70000\\\\\n",
       "\t  2        & 2         &  49.40000\\\\\n",
       "\t  4        & 2         &  59.80000\\\\\n",
       "\t  6        & 2         &  75.40000\\\\\n",
       "\t  8        & 2         &  91.70000\\\\\n",
       "\t 10        & 2         & 108.50000\\\\\n",
       "\t 12        & 2         & 131.30000\\\\\n",
       "\t 14        & 2         & 141.90000\\\\\n",
       "\\end{tabular}\n"
      ],
      "text/markdown": [
       "\n",
       "Time | Diet | weight | \n",
       "|---|---|---|---|---|---|---|---|---|---|---|---|---|---|---|---|---|---|---|---|\n",
       "|  0        | 1         |  41.40000 | \n",
       "|  2        | 1         |  47.25000 | \n",
       "|  4        | 1         |  56.47368 | \n",
       "|  6        | 1         |  66.78947 | \n",
       "|  8        | 1         |  79.68421 | \n",
       "| 10        | 1         |  93.05263 | \n",
       "| 12        | 1         | 108.52632 | \n",
       "| 14        | 1         | 123.38889 | \n",
       "| 16        | 1         | 144.64706 | \n",
       "| 18        | 1         | 158.94118 | \n",
       "| 20        | 1         | 170.41176 | \n",
       "| 21        | 1         | 177.75000 | \n",
       "|  0        | 2         |  40.70000 | \n",
       "|  2        | 2         |  49.40000 | \n",
       "|  4        | 2         |  59.80000 | \n",
       "|  6        | 2         |  75.40000 | \n",
       "|  8        | 2         |  91.70000 | \n",
       "| 10        | 2         | 108.50000 | \n",
       "| 12        | 2         | 131.30000 | \n",
       "| 14        | 2         | 141.90000 | \n",
       "\n",
       "\n"
      ],
      "text/plain": [
       "   Time Diet weight   \n",
       "1   0   1     41.40000\n",
       "2   2   1     47.25000\n",
       "3   4   1     56.47368\n",
       "4   6   1     66.78947\n",
       "5   8   1     79.68421\n",
       "6  10   1     93.05263\n",
       "7  12   1    108.52632\n",
       "8  14   1    123.38889\n",
       "9  16   1    144.64706\n",
       "10 18   1    158.94118\n",
       "11 20   1    170.41176\n",
       "12 21   1    177.75000\n",
       "13  0   2     40.70000\n",
       "14  2   2     49.40000\n",
       "15  4   2     59.80000\n",
       "16  6   2     75.40000\n",
       "17  8   2     91.70000\n",
       "18 10   2    108.50000\n",
       "19 12   2    131.30000\n",
       "20 14   2    141.90000"
      ]
     },
     "metadata": {},
     "output_type": "display_data"
    }
   ],
   "source": [
    "cwag <- aggregate(weight ~ Time + Diet, data=cw, mean)\n",
    "head(cwag, n=20)"
   ]
  },
  {
   "cell_type": "markdown",
   "metadata": {
    "collapsed": true
   },
   "source": [
    "For each combination of `Time` and `Diet` we average the weight for all\n",
    "chicks.  The `cwag` data frame shows the weights over time for diet 1 and\n",
    "the beginning of weights of time for diet 2.  This organization is awkward\n",
    "if we wish to compare diets.  We have to scroll the table up and down to\n",
    "see comparable values in time for each of the diets.  It would be better\n",
    "to have a colum for each diet so they appeared next to each other.  We\n",
    "should *pivot the Diet column into a set of columns*.\n",
    "\n",
    "For this operation we need to another library.  There are many libraries\n",
    "out there for this kind of thing and we'll investigate some of them in\n",
    "future workshops.  For this workshop we'll use the **reshape2** library.\n",
    "Note that it must be installed since it does not come with a base R installation.\n",
    "The command to install it is\n",
    "\n",
    "```\n",
    "install.packages('reshape2')\n",
    "```\n",
    "\n",
    "Once its installed, the library is loaded via the `library` command."
   ]
  },
  {
   "cell_type": "code",
   "execution_count": 31,
   "metadata": {
    "collapsed": true
   },
   "outputs": [],
   "source": [
    "library(reshape2)"
   ]
  },
  {
   "cell_type": "markdown",
   "metadata": {},
   "source": [
    "The function in `reshape2` that performs a pivot is **dcast**.  The `d` in `dcast`\n",
    "indicates the result is a data frame (the alternative is `acast` for an array or\n",
    "vector)."
   ]
  },
  {
   "cell_type": "code",
   "execution_count": 32,
   "metadata": {},
   "outputs": [
    {
     "data": {
      "text/html": [
       "<table>\n",
       "<thead><tr><th scope=col>Time</th><th scope=col>1</th><th scope=col>2</th><th scope=col>3</th><th scope=col>4</th></tr></thead>\n",
       "<tbody>\n",
       "\t<tr><td> 0       </td><td> 41.40000</td><td> 40.7    </td><td> 40.8    </td><td> 41.0000 </td></tr>\n",
       "\t<tr><td> 2       </td><td> 47.25000</td><td> 49.4    </td><td> 50.4    </td><td> 51.8000 </td></tr>\n",
       "\t<tr><td> 4       </td><td> 56.47368</td><td> 59.8    </td><td> 62.2    </td><td> 64.5000 </td></tr>\n",
       "\t<tr><td> 6       </td><td> 66.78947</td><td> 75.4    </td><td> 77.9    </td><td> 83.9000 </td></tr>\n",
       "\t<tr><td> 8       </td><td> 79.68421</td><td> 91.7    </td><td> 98.4    </td><td>105.6000 </td></tr>\n",
       "\t<tr><td>10       </td><td> 93.05263</td><td>108.5    </td><td>117.1    </td><td>126.0000 </td></tr>\n",
       "\t<tr><td>12       </td><td>108.52632</td><td>131.3    </td><td>144.4    </td><td>151.4000 </td></tr>\n",
       "\t<tr><td>14       </td><td>123.38889</td><td>141.9    </td><td>164.5    </td><td>161.8000 </td></tr>\n",
       "\t<tr><td>16       </td><td>144.64706</td><td>164.7    </td><td>197.4    </td><td>182.0000 </td></tr>\n",
       "\t<tr><td>18       </td><td>158.94118</td><td>187.7    </td><td>233.1    </td><td>202.9000 </td></tr>\n",
       "\t<tr><td>20       </td><td>170.41176</td><td>205.6    </td><td>258.9    </td><td>233.8889 </td></tr>\n",
       "\t<tr><td>21       </td><td>177.75000</td><td>214.7    </td><td>270.3    </td><td>238.5556 </td></tr>\n",
       "</tbody>\n",
       "</table>\n"
      ],
      "text/latex": [
       "\\begin{tabular}{r|lllll}\n",
       " Time & 1 & 2 & 3 & 4\\\\\n",
       "\\hline\n",
       "\t  0        &  41.40000 &  40.7     &  40.8     &  41.0000 \\\\\n",
       "\t  2        &  47.25000 &  49.4     &  50.4     &  51.8000 \\\\\n",
       "\t  4        &  56.47368 &  59.8     &  62.2     &  64.5000 \\\\\n",
       "\t  6        &  66.78947 &  75.4     &  77.9     &  83.9000 \\\\\n",
       "\t  8        &  79.68421 &  91.7     &  98.4     & 105.6000 \\\\\n",
       "\t 10        &  93.05263 & 108.5     & 117.1     & 126.0000 \\\\\n",
       "\t 12        & 108.52632 & 131.3     & 144.4     & 151.4000 \\\\\n",
       "\t 14        & 123.38889 & 141.9     & 164.5     & 161.8000 \\\\\n",
       "\t 16        & 144.64706 & 164.7     & 197.4     & 182.0000 \\\\\n",
       "\t 18        & 158.94118 & 187.7     & 233.1     & 202.9000 \\\\\n",
       "\t 20        & 170.41176 & 205.6     & 258.9     & 233.8889 \\\\\n",
       "\t 21        & 177.75000 & 214.7     & 270.3     & 238.5556 \\\\\n",
       "\\end{tabular}\n"
      ],
      "text/markdown": [
       "\n",
       "Time | 1 | 2 | 3 | 4 | \n",
       "|---|---|---|---|---|---|---|---|---|---|---|---|\n",
       "|  0        |  41.40000 |  40.7     |  40.8     |  41.0000  | \n",
       "|  2        |  47.25000 |  49.4     |  50.4     |  51.8000  | \n",
       "|  4        |  56.47368 |  59.8     |  62.2     |  64.5000  | \n",
       "|  6        |  66.78947 |  75.4     |  77.9     |  83.9000  | \n",
       "|  8        |  79.68421 |  91.7     |  98.4     | 105.6000  | \n",
       "| 10        |  93.05263 | 108.5     | 117.1     | 126.0000  | \n",
       "| 12        | 108.52632 | 131.3     | 144.4     | 151.4000  | \n",
       "| 14        | 123.38889 | 141.9     | 164.5     | 161.8000  | \n",
       "| 16        | 144.64706 | 164.7     | 197.4     | 182.0000  | \n",
       "| 18        | 158.94118 | 187.7     | 233.1     | 202.9000  | \n",
       "| 20        | 170.41176 | 205.6     | 258.9     | 233.8889  | \n",
       "| 21        | 177.75000 | 214.7     | 270.3     | 238.5556  | \n",
       "\n",
       "\n"
      ],
      "text/plain": [
       "   Time 1         2     3     4       \n",
       "1   0    41.40000  40.7  40.8  41.0000\n",
       "2   2    47.25000  49.4  50.4  51.8000\n",
       "3   4    56.47368  59.8  62.2  64.5000\n",
       "4   6    66.78947  75.4  77.9  83.9000\n",
       "5   8    79.68421  91.7  98.4 105.6000\n",
       "6  10    93.05263 108.5 117.1 126.0000\n",
       "7  12   108.52632 131.3 144.4 151.4000\n",
       "8  14   123.38889 141.9 164.5 161.8000\n",
       "9  16   144.64706 164.7 197.4 182.0000\n",
       "10 18   158.94118 187.7 233.1 202.9000\n",
       "11 20   170.41176 205.6 258.9 233.8889\n",
       "12 21   177.75000 214.7 270.3 238.5556"
      ]
     },
     "metadata": {},
     "output_type": "display_data"
    }
   ],
   "source": [
    "pcwag <- dcast(cwag, Time ~ Diet, value.var='weight')\n",
    "pcwag"
   ]
  },
  {
   "cell_type": "markdown",
   "metadata": {},
   "source": [
    "The `dcast` function also employs a formula for one of its parameters.\n",
    "\n",
    "* __LHS__ - the variables that will identify a row.  In the example above\n",
    "  each row is identified by the value of `Time`.\n",
    "\n",
    "* __RHS__ - the column to be pivoted.  In the example above, we pivot on\n",
    "  the values of the `Diet` column.\n",
    "\n",
    "Each value of the column specified on the RHS becomes a column in the resulting\n",
    "data frame.  What determines the values in the new columns?  The last\n",
    "parameter to `dcast` provides the value variable.\n",
    "\n",
    "To clarify the meaning of the new columns, let's rename them."
   ]
  },
  {
   "cell_type": "code",
   "execution_count": 33,
   "metadata": {},
   "outputs": [
    {
     "data": {
      "text/html": [
       "<table>\n",
       "<thead><tr><th scope=col>Time</th><th scope=col>diet1</th><th scope=col>diet2</th><th scope=col>diet3</th><th scope=col>diet4</th></tr></thead>\n",
       "<tbody>\n",
       "\t<tr><td> 0       </td><td> 41.40000</td><td> 40.7    </td><td> 40.8    </td><td> 41.0000 </td></tr>\n",
       "\t<tr><td> 2       </td><td> 47.25000</td><td> 49.4    </td><td> 50.4    </td><td> 51.8000 </td></tr>\n",
       "\t<tr><td> 4       </td><td> 56.47368</td><td> 59.8    </td><td> 62.2    </td><td> 64.5000 </td></tr>\n",
       "\t<tr><td> 6       </td><td> 66.78947</td><td> 75.4    </td><td> 77.9    </td><td> 83.9000 </td></tr>\n",
       "\t<tr><td> 8       </td><td> 79.68421</td><td> 91.7    </td><td> 98.4    </td><td>105.6000 </td></tr>\n",
       "\t<tr><td>10       </td><td> 93.05263</td><td>108.5    </td><td>117.1    </td><td>126.0000 </td></tr>\n",
       "\t<tr><td>12       </td><td>108.52632</td><td>131.3    </td><td>144.4    </td><td>151.4000 </td></tr>\n",
       "\t<tr><td>14       </td><td>123.38889</td><td>141.9    </td><td>164.5    </td><td>161.8000 </td></tr>\n",
       "\t<tr><td>16       </td><td>144.64706</td><td>164.7    </td><td>197.4    </td><td>182.0000 </td></tr>\n",
       "\t<tr><td>18       </td><td>158.94118</td><td>187.7    </td><td>233.1    </td><td>202.9000 </td></tr>\n",
       "\t<tr><td>20       </td><td>170.41176</td><td>205.6    </td><td>258.9    </td><td>233.8889 </td></tr>\n",
       "\t<tr><td>21       </td><td>177.75000</td><td>214.7    </td><td>270.3    </td><td>238.5556 </td></tr>\n",
       "</tbody>\n",
       "</table>\n"
      ],
      "text/latex": [
       "\\begin{tabular}{r|lllll}\n",
       " Time & diet1 & diet2 & diet3 & diet4\\\\\n",
       "\\hline\n",
       "\t  0        &  41.40000 &  40.7     &  40.8     &  41.0000 \\\\\n",
       "\t  2        &  47.25000 &  49.4     &  50.4     &  51.8000 \\\\\n",
       "\t  4        &  56.47368 &  59.8     &  62.2     &  64.5000 \\\\\n",
       "\t  6        &  66.78947 &  75.4     &  77.9     &  83.9000 \\\\\n",
       "\t  8        &  79.68421 &  91.7     &  98.4     & 105.6000 \\\\\n",
       "\t 10        &  93.05263 & 108.5     & 117.1     & 126.0000 \\\\\n",
       "\t 12        & 108.52632 & 131.3     & 144.4     & 151.4000 \\\\\n",
       "\t 14        & 123.38889 & 141.9     & 164.5     & 161.8000 \\\\\n",
       "\t 16        & 144.64706 & 164.7     & 197.4     & 182.0000 \\\\\n",
       "\t 18        & 158.94118 & 187.7     & 233.1     & 202.9000 \\\\\n",
       "\t 20        & 170.41176 & 205.6     & 258.9     & 233.8889 \\\\\n",
       "\t 21        & 177.75000 & 214.7     & 270.3     & 238.5556 \\\\\n",
       "\\end{tabular}\n"
      ],
      "text/markdown": [
       "\n",
       "Time | diet1 | diet2 | diet3 | diet4 | \n",
       "|---|---|---|---|---|---|---|---|---|---|---|---|\n",
       "|  0        |  41.40000 |  40.7     |  40.8     |  41.0000  | \n",
       "|  2        |  47.25000 |  49.4     |  50.4     |  51.8000  | \n",
       "|  4        |  56.47368 |  59.8     |  62.2     |  64.5000  | \n",
       "|  6        |  66.78947 |  75.4     |  77.9     |  83.9000  | \n",
       "|  8        |  79.68421 |  91.7     |  98.4     | 105.6000  | \n",
       "| 10        |  93.05263 | 108.5     | 117.1     | 126.0000  | \n",
       "| 12        | 108.52632 | 131.3     | 144.4     | 151.4000  | \n",
       "| 14        | 123.38889 | 141.9     | 164.5     | 161.8000  | \n",
       "| 16        | 144.64706 | 164.7     | 197.4     | 182.0000  | \n",
       "| 18        | 158.94118 | 187.7     | 233.1     | 202.9000  | \n",
       "| 20        | 170.41176 | 205.6     | 258.9     | 233.8889  | \n",
       "| 21        | 177.75000 | 214.7     | 270.3     | 238.5556  | \n",
       "\n",
       "\n"
      ],
      "text/plain": [
       "   Time diet1     diet2 diet3 diet4   \n",
       "1   0    41.40000  40.7  40.8  41.0000\n",
       "2   2    47.25000  49.4  50.4  51.8000\n",
       "3   4    56.47368  59.8  62.2  64.5000\n",
       "4   6    66.78947  75.4  77.9  83.9000\n",
       "5   8    79.68421  91.7  98.4 105.6000\n",
       "6  10    93.05263 108.5 117.1 126.0000\n",
       "7  12   108.52632 131.3 144.4 151.4000\n",
       "8  14   123.38889 141.9 164.5 161.8000\n",
       "9  16   144.64706 164.7 197.4 182.0000\n",
       "10 18   158.94118 187.7 233.1 202.9000\n",
       "11 20   170.41176 205.6 258.9 233.8889\n",
       "12 21   177.75000 214.7 270.3 238.5556"
      ]
     },
     "metadata": {},
     "output_type": "display_data"
    }
   ],
   "source": [
    "colnames(pcwag) <- c(\"Time\", \"diet1\", \"diet2\", \"diet3\", \"diet4\")\n",
    "pcwag"
   ]
  },
  {
   "cell_type": "markdown",
   "metadata": {},
   "source": [
    "Now it is much easier to compare diets for each time at which\n",
    "the chicks were weighed.\n",
    "\n",
    "The reverse of the pivot (or `dcast`) is the **melt** function.\n",
    "That is, we melt all the columns into a single column like we\n",
    "had before."
   ]
  },
  {
   "cell_type": "code",
   "execution_count": 34,
   "metadata": {},
   "outputs": [
    {
     "data": {
      "text/html": [
       "<table>\n",
       "<thead><tr><th scope=col>Time</th><th scope=col>Diet</th><th scope=col>weight</th></tr></thead>\n",
       "<tbody>\n",
       "\t<tr><td> 0       </td><td>diet1    </td><td> 41.40000</td></tr>\n",
       "\t<tr><td> 2       </td><td>diet1    </td><td> 47.25000</td></tr>\n",
       "\t<tr><td> 4       </td><td>diet1    </td><td> 56.47368</td></tr>\n",
       "\t<tr><td> 6       </td><td>diet1    </td><td> 66.78947</td></tr>\n",
       "\t<tr><td> 8       </td><td>diet1    </td><td> 79.68421</td></tr>\n",
       "\t<tr><td>10       </td><td>diet1    </td><td> 93.05263</td></tr>\n",
       "\t<tr><td>12       </td><td>diet1    </td><td>108.52632</td></tr>\n",
       "\t<tr><td>14       </td><td>diet1    </td><td>123.38889</td></tr>\n",
       "\t<tr><td>16       </td><td>diet1    </td><td>144.64706</td></tr>\n",
       "\t<tr><td>18       </td><td>diet1    </td><td>158.94118</td></tr>\n",
       "\t<tr><td>20       </td><td>diet1    </td><td>170.41176</td></tr>\n",
       "\t<tr><td>21       </td><td>diet1    </td><td>177.75000</td></tr>\n",
       "\t<tr><td> 0       </td><td>diet2    </td><td> 40.70000</td></tr>\n",
       "\t<tr><td> 2       </td><td>diet2    </td><td> 49.40000</td></tr>\n",
       "\t<tr><td> 4       </td><td>diet2    </td><td> 59.80000</td></tr>\n",
       "\t<tr><td> 6       </td><td>diet2    </td><td> 75.40000</td></tr>\n",
       "\t<tr><td> 8       </td><td>diet2    </td><td> 91.70000</td></tr>\n",
       "\t<tr><td>10       </td><td>diet2    </td><td>108.50000</td></tr>\n",
       "\t<tr><td>12       </td><td>diet2    </td><td>131.30000</td></tr>\n",
       "\t<tr><td>14       </td><td>diet2    </td><td>141.90000</td></tr>\n",
       "</tbody>\n",
       "</table>\n"
      ],
      "text/latex": [
       "\\begin{tabular}{r|lll}\n",
       " Time & Diet & weight\\\\\n",
       "\\hline\n",
       "\t  0        & diet1     &  41.40000\\\\\n",
       "\t  2        & diet1     &  47.25000\\\\\n",
       "\t  4        & diet1     &  56.47368\\\\\n",
       "\t  6        & diet1     &  66.78947\\\\\n",
       "\t  8        & diet1     &  79.68421\\\\\n",
       "\t 10        & diet1     &  93.05263\\\\\n",
       "\t 12        & diet1     & 108.52632\\\\\n",
       "\t 14        & diet1     & 123.38889\\\\\n",
       "\t 16        & diet1     & 144.64706\\\\\n",
       "\t 18        & diet1     & 158.94118\\\\\n",
       "\t 20        & diet1     & 170.41176\\\\\n",
       "\t 21        & diet1     & 177.75000\\\\\n",
       "\t  0        & diet2     &  40.70000\\\\\n",
       "\t  2        & diet2     &  49.40000\\\\\n",
       "\t  4        & diet2     &  59.80000\\\\\n",
       "\t  6        & diet2     &  75.40000\\\\\n",
       "\t  8        & diet2     &  91.70000\\\\\n",
       "\t 10        & diet2     & 108.50000\\\\\n",
       "\t 12        & diet2     & 131.30000\\\\\n",
       "\t 14        & diet2     & 141.90000\\\\\n",
       "\\end{tabular}\n"
      ],
      "text/markdown": [
       "\n",
       "Time | Diet | weight | \n",
       "|---|---|---|---|---|---|---|---|---|---|---|---|---|---|---|---|---|---|---|---|\n",
       "|  0        | diet1     |  41.40000 | \n",
       "|  2        | diet1     |  47.25000 | \n",
       "|  4        | diet1     |  56.47368 | \n",
       "|  6        | diet1     |  66.78947 | \n",
       "|  8        | diet1     |  79.68421 | \n",
       "| 10        | diet1     |  93.05263 | \n",
       "| 12        | diet1     | 108.52632 | \n",
       "| 14        | diet1     | 123.38889 | \n",
       "| 16        | diet1     | 144.64706 | \n",
       "| 18        | diet1     | 158.94118 | \n",
       "| 20        | diet1     | 170.41176 | \n",
       "| 21        | diet1     | 177.75000 | \n",
       "|  0        | diet2     |  40.70000 | \n",
       "|  2        | diet2     |  49.40000 | \n",
       "|  4        | diet2     |  59.80000 | \n",
       "|  6        | diet2     |  75.40000 | \n",
       "|  8        | diet2     |  91.70000 | \n",
       "| 10        | diet2     | 108.50000 | \n",
       "| 12        | diet2     | 131.30000 | \n",
       "| 14        | diet2     | 141.90000 | \n",
       "\n",
       "\n"
      ],
      "text/plain": [
       "   Time Diet  weight   \n",
       "1   0   diet1  41.40000\n",
       "2   2   diet1  47.25000\n",
       "3   4   diet1  56.47368\n",
       "4   6   diet1  66.78947\n",
       "5   8   diet1  79.68421\n",
       "6  10   diet1  93.05263\n",
       "7  12   diet1 108.52632\n",
       "8  14   diet1 123.38889\n",
       "9  16   diet1 144.64706\n",
       "10 18   diet1 158.94118\n",
       "11 20   diet1 170.41176\n",
       "12 21   diet1 177.75000\n",
       "13  0   diet2  40.70000\n",
       "14  2   diet2  49.40000\n",
       "15  4   diet2  59.80000\n",
       "16  6   diet2  75.40000\n",
       "17  8   diet2  91.70000\n",
       "18 10   diet2 108.50000\n",
       "19 12   diet2 131.30000\n",
       "20 14   diet2 141.90000"
      ]
     },
     "metadata": {},
     "output_type": "display_data"
    }
   ],
   "source": [
    "mcwag <- melt(pcwag, id.vars='Time', variable.name='Diet', value.name='weight')\n",
    "head(mcwag, n=20)"
   ]
  },
  {
   "cell_type": "markdown",
   "metadata": {},
   "source": [
    "Notice it's the same form as before.  The only difference is that the\n",
    "`Diet` column has values of `diet1`, `diet2`, `diet3`, and `diet4`\n",
    "instead of `1`, `2`, `3`, and `4` because we changed the column names\n",
    "before we melted the data frame.  This is probably better than the original\n",
    "values because it makes clear these values should be considered categorical\n",
    "instead of quantitative.\n",
    "\n",
    "Let's review some of the `melt` parameters.\n",
    "\n",
    "* `id.vars` - the columns that are **not** going to be melted.\n",
    "* `variable.name` - the column that will hold the names of the variables\n",
    "  that **will** be melted.\n",
    "* `value.name` - the name of the column that will hold the value of the\n",
    "  variables that will be melted.\n",
    "\n",
    "Pivoting is a core skill of any data scientist.  There are many tools\n",
    "available for it.  It's most important to understand the concept."
   ]
  },
  {
   "cell_type": "markdown",
   "metadata": {},
   "source": [
    "# Two Variable Plots\n",
    "\n",
    "We addressed single variable plotting over the last few workshops.\n",
    "Let's apply this aggregated dataset to plot two variables.  The\n",
    "function for plotting two variables is `plot`.\n",
    "\n",
    "**Note:** The `options` command is there to format this Jupyter\n",
    "notebook.  It isn't necessary at the R console or RStudio."
   ]
  },
  {
   "cell_type": "code",
   "execution_count": 35,
   "metadata": {
    "collapsed": true
   },
   "outputs": [],
   "source": [
    "options(repr.plot.width=5, repr.plot.height=4)  # Used for Jupyter notebooks."
   ]
  },
  {
   "cell_type": "code",
   "execution_count": 36,
   "metadata": {},
   "outputs": [
    {
     "data": {
      "image/png": "[encoded data removed]",
      "text/plain": [
       "Plot with title “Average Chick Weights”"
      ]
     },
     "metadata": {},
     "output_type": "display_data"
    }
   ],
   "source": [
    "plot(pcwag$Time,   pcwag$diet1, pch=19, col='red', xlab=\"Time\", ylab=\"Weight\")\n",
    "points(pcwag$Time, pcwag$diet2, pch=19, col='green')\n",
    "points(pcwag$Time, pcwag$diet3, pch=19, col='purple')\n",
    "points(pcwag$Time, pcwag$diet4, pch=19, col='orange')\n",
    "title(main=\"Average Chick Weights\")"
   ]
  },
  {
   "cell_type": "markdown",
   "metadata": {},
   "source": [
    "Let's make a few observations.\n",
    "\n",
    "* The `plot` function creates a new plot window each time it is called.\n",
    "  If you want to plot multiple sets, you have to call something else\n",
    "  that does't start a new plot window.  In this case, since we're making\n",
    "  points, we call the `points` function.\n",
    "\n",
    "* We changed the point character from its default (which is a hollow circle)\n",
    "  to a solid circle (`pch=19`).\n",
    "\n",
    "* Note that the y-axis was optimized for `diet1`.  But the other diets\n",
    "  have larger weights that run off the top of the graph.  We can fix this\n",
    "  by determining the range before hand and setting it with the `xlim` parametr\n",
    "  in the `plot` command.\n",
    "\n",
    "* There is no legend indicating which color maps to which diet.\n",
    "\n",
    "Let's remedy the last two issues."
   ]
  },
  {
   "cell_type": "code",
   "execution_count": 37,
   "metadata": {},
   "outputs": [
    {
     "data": {
      "image/png": "[encoded data removed]",
      "text/plain": [
       "Plot with title “Average Chick Weights”"
      ]
     },
     "metadata": {},
     "output_type": "display_data"
    }
   ],
   "source": [
    "max_weight <- max(pcwag)\n",
    "plot(pcwag$Time,   pcwag$diet1, pch=19, col='red',\n",
    "     xlab=\"Time\", ylab=\"Weight\", ylim=c(0, max_weight + 1))\n",
    "points(pcwag$Time, pcwag$diet2, pch=19, col='green')\n",
    "points(pcwag$Time, pcwag$diet3, pch=19, col='purple')\n",
    "points(pcwag$Time, pcwag$diet4, pch=19, col='orange')\n",
    "title(main=\"Average Chick Weights\")\n",
    "legend('topleft', c('Diet 1', 'Diet 2', 'Diet 3', 'Diet 4'),\n",
    "         text.col=c('red', 'green', 'purple', 'orange'), \n",
    "         bty='n', cex=1, y.intersp=2)"
   ]
  },
  {
   "cell_type": "markdown",
   "metadata": {},
   "source": [
    "**Exercise** Now it's your turn.  Make the same plot with lines\n",
    "instead of points.  Are the the differences.\n",
    "\n",
    "* The plot command defaults to points.  You override this default with the\n",
    "  `type` parameter.  For a line, you want `type='l'` where the value is the\n",
    "  letter `l` for \"line\".  This parameter should replace the `pch=19` parameter.\n",
    "  You don't a `pch` parameter for lines.\n",
    "\n",
    "* Instead of the `points` command, use the `lines` command.  The `line` command\n",
    "  doesn't need a `pch` parameter."
   ]
  },
  {
   "cell_type": "markdown",
   "metadata": {},
   "source": [
    "# Functions of a Random Variable\n",
    "\n",
    "**Note:** This section has been reproduced in a file\n",
    "named `rvFunctions.pdf` via LaTeX since Jupyter/Pandoc seems to\n",
    "have trouble printing aligned equations or converting them to\n",
    "PDF.\n",
    "\n",
    "We've been discussing random variables, their CDF and PDF, and their\n",
    "moment generating functions.  We've done a few exercises involed with\n",
    "caculating their means and variance.  The random variables we've discussed\n",
    "so far directly modeled certain phenomena, such as a coin flip, the number\n",
    "of heads in multiple coin flips, and selecting a number randomly from a set\n",
    "of numbers.  This is all very nice; but it's time to step up our game and\n",
    "consider random variables that arise as a function of other random variables.\n",
    "\n",
    "Let's remind ourselves of what a random variable is.\n",
    "A random variable maps from an abstract event space to points on\n",
    "the real number line.  Often the event space won't be so abstract\n",
    "and the mapping will be quite natural; so natural that we often just\n",
    "write $X$ rather than\n",
    "$X(\\omega) \\in \\mathcal{R}$ for $\\omega \\in \\Omega$.\n",
    "\n",
    "![Random Variable](rv1.png)\n",
    "\n",
    "By mapping from \"event spaces\" to the concrete real number line,\n",
    "random variables allow us to directly employ analytic techniques\n",
    "that have long existed for the real number line.  Our\n",
    "cumulative distribution functions and probability density functions\n",
    "are defined on the real nmber line by virtue of the random variable\n",
    "mapping events to the real number line.\n",
    "\n",
    "A function of a random variable simply maps the points from one\n",
    "real number line to another real number line.  In this way, a function\n",
    "of a random variable create a new random variable on the same event\n",
    "space, i.e. a new way to map events to real numbers.\n",
    "\n",
    "![Random Variable Function](rv2.png)\n",
    "\n",
    "In the figure above, $g(x) = x^2$ is such a function.  If we define\n",
    "$Y$ as the result of mapping\n",
    "$\\Omega \\rightarrow \\mathcal{R} \\rightarrow \\mathcal{R}$, then\n",
    "$Y$ is also a random variable.\n",
    "\n",
    "Assuming that such a mapping is useful (and we'll find out later that\n",
    "this one is), we'll want to know the CDF and PDF of the new\n",
    "random variable.  Unfortunately, it's not as simply as plugging\n",
    "$x^2$ everywhere you see an $x$.\n",
    "\n",
    "Using the figure above as an example, let's determine $F_Y(y)$ from\n",
    "basic principals.  The basic principal is\n",
    "\n",
    "$$\n",
    "F_Y(y) = P[Y \\le y]\n",
    "$$\n",
    "\n",
    "From this principal we plug in the function to derive the expression.\n",
    "Since $Y = g(X) = X^2$, we restrict our attention to $y \\gt 0$ since\n",
    "$F_Y(y) = 0$ for $y \\le 0$.\n",
    "\n",
    "\\begin{aligned}\n",
    "F_Y(y) &= P[Y \\le y] \\\\\n",
    "  &= P[X^2 \\le y] \\\\\n",
    "  &= P\\left[-\\sqrt{y} \\le X \\le \\sqrt{y}\\right] \\\\\n",
    "  &= P\\left[X \\le \\sqrt{y}\\right] - P\\left[X \\le -\\sqrt{y}\\right]\n",
    "\\end{aligned}\n",
    "\n",
    "This gives us the CDF for Y.  It's close to simply substituting\n",
    "$\\sqrt{y}$ for $x$ into the expression for $F_X$.  Now that we have\n",
    "the CDF, we can derive the PDF.\n",
    "\n",
    "\\begin{aligned}\n",
    "f_Y(y) &= \\frac{d}{dy}F_Y(y) \\\\\n",
    "   &= \\frac{d}{dy}\\left[ F_x(\\sqrt{y}) - F_X(-\\sqrt{y}) \\right] \\\\\n",
    "   &= \\left. \\frac{dF_X}{dx} \\right\\rvert_{x=\\sqrt{y}} \\frac{d(\\sqrt{y})}{dy} - \n",
    "   \\left. \\frac{dF_X}{dx} \\right\\rvert_{x=-\\sqrt{y}} \\frac{d(-\\sqrt{y})}{dy} \\\\\n",
    "   &= \\frac{1}{2\\sqrt{y}} \\left( f_x(\\sqrt{y}) + f_x(-\\sqrt{y}) \\right)\n",
    "\\end{aligned}\n",
    "\n",
    "where\n",
    "\n",
    "$$\n",
    "\\frac{dx}{dy} = \\frac{d y^{\\frac{1}{2}}}{dy} = \\frac{1}{2}y^{-\\frac{1}{2}}\n",
    "$$\n",
    "\n",
    "The expression for $f_Y$ in terms of $f_X$ in this specific case of\n",
    "$Y = X^2$ demonstrates two important complications.\n",
    "\n",
    "1. If $g$ is not 1-to-1, then we must account for all the points\n",
    "   in $g^{-1}(y)$.  In the case of a quadratic, there are usually\n",
    "   two.\n",
    "\n",
    "2. The $f_Y$ expression introduced an additional multiplicative\n",
    "   factor, known in calculus circles as *the Jacobian*.  The\n",
    "   Jacobian incorporates the stretch factor introduced by the\n",
    "   transformation.\n",
    "\n",
    "It's reasonable to ask why the CDF didn't need a stretch factor.\n",
    "It's because we don't integrate the CDF.  We just evaluate it at\n",
    "various points.  **The value of the CDF at any point represents\n",
    "a probability.**\n",
    "\n",
    "This is not the case with a continuous density function.  The\n",
    "value of $f_X$ at point does not really mean anything **by itself.\n",
    "It certainly does not represent a probability.**  We only get\n",
    "probabilities from $f_X$ by integrating it over some interval\n",
    "or combination of intervals.  In other words, it's only the\n",
    "area under $f_X$ that has a probability interpretation.  You\n",
    "can't say anything about an area with just the height.  You\n",
    "need to also specify the width.  So in the case of our transformation\n",
    "$g$, it's not enough to determine the height of $f_Y$ at a certain\n",
    "point though corresponding values of $f_X$.  We need to know how\n",
    "$g$ is stretching the differential widths to get the full picture\n",
    "of how areas under $f_X$ transform to *areas* under $f_Y$.  The\n",
    "Jacobian factor provides this \"width stretching\" information.\n",
    "\n",
    "We're still playing in the realm in probability.  In the next\n",
    "workshop, we're going to consider special functions of a random\n",
    "variable (like the average of a sample) and cross over into\n",
    "*statistics* proper."
   ]
  },
  {
   "cell_type": "markdown",
   "metadata": {},
   "source": [
    "# End Notes\n",
    "\n",
    "1. I noted that the `Date` class represents the date internally as the\n",
    "   number of days since January 1, 1970.  Dates before that are\n",
    "   represented by a negative number.\n",
    "\n",
    "2. I like the `reshape2` package that we worked with in the pivot section\n",
    "   because it is small and simple.\n",
    "   It seems these days that practitioners are moving to `dplyr` and its\n",
    "   companions within the **tidyverse**.  We'll be covering this in the Fall.\n",
    "\n",
    "3. Note how we pivoted the `Diet` column in order to plot all the diets\n",
    "   together with the base plot system.  Other R plotting systems like\n",
    "   **ggplot2** actually prefer the long format and plot the different\n",
    "   factors automatically.  We'll begin studying `ggplot` soon.\n",
    "\n",
    "4. Probably the most important case of the random variable transformation\n",
    "   $Y = X^2$ is when $X$ is a normal random variable.  In this case Y is\n",
    "   the so-call **Chi-Squared** distribution famous for its goodness-of-fit\n",
    "   tests.\n",
    "\n",
    "5. In differential geometry circles, the necessity of the stretch factor\n",
    "   for $f_Y$ but not for $F_Y$ is expressed as \"$F_Y$ is a function\n",
    "   (0-form) while $f_Y$ is a 1-form.\"\n",
    "\n",
    "----------\n",
    "End of Workshop 4"
   ]
  }
 ],
 "metadata": {
  "kernelspec": {
   "display_name": "R",
   "language": "R",
   "name": "ir"
  },
  "language_info": {
   "codemirror_mode": "r",
   "file_extension": ".r",
   "mimetype": "text/x-r-source",
   "name": "R",
   "pygments_lexer": "r",
   "version": "3.3.2"
  }
 },
 "nbformat": 4,
 "nbformat_minor": 1
}
