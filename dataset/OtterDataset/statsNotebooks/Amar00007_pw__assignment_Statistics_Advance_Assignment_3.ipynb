{
 "cells": [
  {
   "cell_type": "markdown",
   "id": "ab0b13ae-61c5-4710-9a4e-99fff10ccb34",
   "metadata": {},
   "source": [
    "Q1: What is Estimation Statistics? Explain point estimate and interval estimate."
   ]
  },
  {
   "cell_type": "markdown",
   "id": "df92da70-3b87-4dbc-bbd6-f7c1badf8d7a",
   "metadata": {},
   "source": [
    "Estimation in statistics is the process of using sample data to infer or estimate characteristics or parameters of a population. There are two main types of estimation: point estimation and interval estimation.\n",
    "\n",
    "1. **Point Estimate:**\n",
    "   - A point estimate is a single value that serves as the best guess or estimate for the population parameter of interest based on sample data.\n",
    "   - It is calculated directly from the sample data and represents the most likely value for the population parameter.\n",
    "   - For example, the sample mean (\\( \\bar{x} \\)) is often used as a point estimate for the population mean (\\( \\mu \\)), and the sample proportion (\\( \\hat{p} \\)) is used as a point estimate for the population proportion (\\( p \\)).\n",
    "\n",
    "2. **Interval Estimate:**\n",
    "   - An interval estimate provides a range of values within which the population parameter is likely to fall, along with a level of confidence.\n",
    "   - It recognizes the uncertainty associated with estimation and provides a range of plausible values rather than a single point.\n",
    "   - Interval estimates are typically constructed using confidence intervals, which provide a range of values around the point estimate that is likely to contain the true population parameter with a specified level of confidence (e.g., 95% confidence interval).\n",
    "   - For example, a 95% confidence interval for the population mean (\\( \\mu \\)) would consist of a lower and upper bound calculated from the sample data, indicating that we are 95% confident that the true population mean falls within this interval.\n",
    "\n",
    "In summary, estimation in statistics involves both point estimates, which provide single-value estimates for population parameters, and interval estimates, which provide ranges of values along with a level of confidence, acknowledging the uncertainty in estimation."
   ]
  },
  {
   "cell_type": "markdown",
   "id": "08eaa0da-9238-40d3-9714-fb36801192a8",
   "metadata": {},
   "source": [
    "Q2. Write a Python function to estimate the population mean using a sample mean and standard\n",
    "deviation."
   ]
  },
  {
   "cell_type": "markdown",
   "id": "5ba2e384-e18a-4fc7-8105-5947dba3ee28",
   "metadata": {},
   "source": [
    "Certainly! You can use the formula for estimating the population mean (\n",
    "𝜇\n",
    "μ) from a sample mean (\n",
    "𝑥\n",
    "ˉ\n",
    "x\n",
    "ˉ\n",
    " ) and standard deviation (\n",
    "𝜎\n",
    "σ):\n",
    "\n",
    "𝜇\n",
    "=\n",
    "𝑥\n",
    "ˉ\n",
    "μ= \n",
    "x\n",
    "ˉ\n",
    " \n",
    "\n",
    "Here's a Python function to implement this:"
   ]
  },
  {
   "cell_type": "code",
   "execution_count": 1,
   "id": "58fd880a-f87b-4d1e-b409-9a2ba73aeef1",
   "metadata": {},
   "outputs": [
    {
     "name": "stdout",
     "output_type": "stream",
     "text": [
      "Estimated Population Mean: 10.5\n"
     ]
    }
   ],
   "source": [
    "def estimate_population_mean(sample_mean, sample_std):\n",
    "    \"\"\"\n",
    "    Function to estimate the population mean from a sample mean and standard deviation.\n",
    "    \n",
    "    Args:\n",
    "    sample_mean (float): The sample mean.\n",
    "    sample_std (float): The sample standard deviation.\n",
    "    \n",
    "    Returns:\n",
    "    float: The estimated population mean.\n",
    "    \"\"\"\n",
    "    return sample_mean\n",
    "\n",
    "# Example usage:\n",
    "sample_mean = 10.5\n",
    "sample_std = 2.3\n",
    "estimated_population_mean = estimate_population_mean(sample_mean, sample_std)\n",
    "print(\"Estimated Population Mean:\", estimated_population_mean)"
   ]
  },
  {
   "cell_type": "markdown",
   "id": "d01213ae-9c5a-43e1-be57-fa553e5f0e4f",
   "metadata": {},
   "source": [
    "In this function:\n",
    "\n",
    "sample_mean is the sample mean.\n",
    "sample_std is the sample standard deviation.\n",
    "The function simply returns the sample mean, as it is already an estimate of the population mean.\n",
    "\n",
    "You can use this function by passing your sample mean and standard deviation as arguments, and it will return the estimated population mean."
   ]
  },
  {
   "cell_type": "markdown",
   "id": "78b6c60d-9238-4a7e-bbf5-52481ee9455b",
   "metadata": {},
   "source": [
    "Q3: What is Hypothesis testing? Why is it used? State the importance of Hypothesis testing."
   ]
  },
  {
   "cell_type": "markdown",
   "id": "eca03f51-1ed9-4810-8aff-643f9e6e161f",
   "metadata": {},
   "source": [
    "Hypothesis testing is a statistical method used to make inferences or conclusions about population parameters based on sample data. It involves making a hypothesis about the population parameter, collecting sample data, and using statistical techniques to assess the likelihood of observing the sample data if the null hypothesis (the initial assumption) were true.\n",
    "\n",
    "**Purpose and Importance of Hypothesis Testing:**\n",
    "\n",
    "1. **Decision Making:** Hypothesis testing helps in making decisions and drawing conclusions about population parameters. It provides a structured framework for evaluating hypotheses and determining whether there is enough evidence to support or reject a particular claim.\n",
    "\n",
    "2. **Scientific Inquiry:** In scientific research, hypothesis testing is crucial for testing theories and hypotheses. It allows researchers to assess the validity of their assumptions and theories based on empirical evidence.\n",
    "\n",
    "3. **Quality Control:** In manufacturing and quality control processes, hypothesis testing is used to ensure product quality and reliability. It helps in identifying and rectifying production issues by comparing sample data with specified standards or benchmarks.\n",
    "\n",
    "4. **Policy Making:** Hypothesis testing is used in policy analysis and decision-making processes. It enables policymakers to evaluate the effectiveness of policies and interventions by assessing their impact on relevant outcomes.\n",
    "\n",
    "5. **Risk Assessment:** In finance and investment, hypothesis testing is employed to assess investment strategies and manage financial risk. It helps investors in making informed decisions based on statistical evidence and analysis.\n",
    "\n",
    "6. **Medical Research:** In medical research, hypothesis testing is used to evaluate the effectiveness of treatments, drugs, or medical interventions. It enables researchers to determine whether a particular treatment has a significant effect on health outcomes compared to a control group.\n",
    "\n",
    "7. **Academic Research:** Hypothesis testing is a fundamental tool in academic research across various disciplines. It allows researchers to test theoretical propositions, explore relationships between variables, and contribute to the advancement of knowledge in their respective fields.\n",
    "\n",
    "In summary, hypothesis testing is a critical tool in statistical analysis and research. It provides a systematic approach for evaluating hypotheses, making decisions, and drawing valid conclusions based on empirical evidence."
   ]
  },
  {
   "cell_type": "markdown",
   "id": "9b0335f5-ae21-43df-9fe7-a4c67a60c169",
   "metadata": {},
   "source": [
    "Q4. Create a hypothesis that states whether the average weight of male college students is greater than\n",
    "the average weight of female college students."
   ]
  },
  {
   "cell_type": "markdown",
   "id": "35484c3b-66d2-4f83-91b5-fa620e9dc9fd",
   "metadata": {},
   "source": [
    "Certainly! Here's a hypothesis statement that compares the average weight of male college students to the average weight of female college students:\n",
    "\n",
    "**Null Hypothesis (\\( H0 \\)):**\n",
    "The average weight of male college students Umale is equal to or less than the average weight of female college students Ufemale.\n",
    "\n",
    "H0:Umale <= Ufemale\n",
    "\n",
    "**Alternative Hypothesis (H1):**\n",
    "The average weight of male college students Umale is greater than the average weight of female college students Ufemale.\n",
    "\n",
    "H1:Umale>Ufemale\n",
    "\n",
    "In this hypothesis:\n",
    "- Umale represents the population mean weight of male college students.\n",
    "- Ufemale represents the population mean weight of female college students.\n",
    "\n",
    "This hypothesis would be tested using statistical methods, such as hypothesis testing with appropriate sample data to determine whether there is sufficient evidence to reject the null hypothesis in favor of the alternative hypothesis."
   ]
  },
  {
   "cell_type": "markdown",
   "id": "c26acedf-3ac7-4d17-9db2-59ef553c2e96",
   "metadata": {},
   "source": [
    "Q5. Write a Python script to conduct a hypothesis test on the difference between two population means,\n",
    "given a sample from each population."
   ]
  },
  {
   "cell_type": "markdown",
   "id": "afcf9039-211b-4b73-9885-cca6c251d352",
   "metadata": {},
   "source": [
    "A Python script using the scipy.stats module to conduct a hypothesis test on the difference between two population means, given a sample from each population. We'll use the independent t-test for this purpose."
   ]
  },
  {
   "cell_type": "code",
   "execution_count": 3,
   "id": "21839f7f-b484-4782-a9a6-2051c33141dc",
   "metadata": {},
   "outputs": [
    {
     "name": "stdout",
     "output_type": "stream",
     "text": [
      "T-Statistic: 1.0\n",
      "P-Value: 0.34659350708733416\n",
      "Result: Fail to reject null hypothesis\n"
     ]
    }
   ],
   "source": [
    "import scipy.stats as stats\n",
    "\n",
    "def conduct_ttest(sample1, sample2, alpha=0.05):\n",
    "    \"\"\"\n",
    "    Function to conduct an independent t-test for the difference between two population means.\n",
    "\n",
    "    Args:\n",
    "    sample1 (array-like): Sample data from population 1.\n",
    "    sample2 (array-like): Sample data from population 2.\n",
    "    alpha (float): Significance level (default is 0.05).\n",
    "\n",
    "    Returns:\n",
    "    t_statistic (float): The calculated t-statistic.\n",
    "    p_value (float): The p-value associated with the t-test.\n",
    "    result (str): The result of the hypothesis test based on the p-value and significance level.\n",
    "    \"\"\"\n",
    "\n",
    "    # Perform independent t-test\n",
    "    t_statistic, p_value = stats.ttest_ind(sample1, sample2)\n",
    "\n",
    "    # Determine result based on p-value and significance level\n",
    "    if p_value < alpha:\n",
    "        result = \"Reject null hypothesis\"\n",
    "    else:\n",
    "        result = \"Fail to reject null hypothesis\"\n",
    "\n",
    "    return t_statistic, p_value, result\n",
    "\n",
    "# Example usage:\n",
    "sample1 = [75, 80, 85, 90, 95]  # Sample data from population 1\n",
    "sample2 = [70, 75, 80, 85, 90]  # Sample data from population 2\n",
    "\n",
    "t_statistic, p_value, result = conduct_ttest(sample1, sample2)\n",
    "\n",
    "print(\"T-Statistic:\", t_statistic)\n",
    "print(\"P-Value:\", p_value)\n",
    "print(\"Result:\", result)\n"
   ]
  },
  {
   "cell_type": "markdown",
   "id": "420a5052-c43e-4193-92c6-c34e92721c4d",
   "metadata": {},
   "source": [
    "In this script:\n",
    "\n",
    "We define a function conduct_ttest that takes two samples (sample1 and sample2) as input and conducts an independent t-test using scipy.stats.ttest_ind.\n",
    "The function returns the calculated t-statistic, p-value, and the result of the hypothesis test based on the significance level (alpha).\n",
    "We provide example usage of the function with two sample datasets (sample1 and sample2) and print the t-statistic, p-value, and result of the hypothesis test."
   ]
  },
  {
   "cell_type": "markdown",
   "id": "5aa0e9e5-796b-4476-8920-64e700e23863",
   "metadata": {},
   "source": [
    "Q6: What is a null and alternative hypothesis? Give some examples."
   ]
  },
  {
   "cell_type": "markdown",
   "id": "66e9fba5-b375-4019-b24a-ac681ef32856",
   "metadata": {},
   "source": [
    "In hypothesis testing, the null hypothesis (\\( H_0 \\)) and alternative hypothesis (\\( H_1 \\)) are statements about the population parameter or effect being investigated. They represent competing explanations or hypotheses about the phenomenon under study.\n",
    "\n",
    "**Null Hypothesis (\\( H_0 \\)):**\n",
    "- The null hypothesis is the default assumption or assertion that there is no significant effect, relationship, or difference in the population parameter being tested.\n",
    "- It represents the status quo or the absence of an effect.\n",
    "- In hypothesis testing, the null hypothesis is typically the hypothesis that researchers aim to test against.\n",
    "- It is denoted as \\( H_0 \\).\n",
    "\n",
    "**Alternative Hypothesis (\\( H_1 \\)):**\n",
    "- The alternative hypothesis is the hypothesis that contradicts the null hypothesis and suggests that there is a significant effect, relationship, or difference in the population parameter being tested.\n",
    "- It represents the researcher's alternative explanation or hypothesis.\n",
    "- In hypothesis testing, the alternative hypothesis is what researchers are trying to provide evidence for.\n",
    "- It is denoted as \\( H_1 \\) or \\( H_a \\).\n",
    "\n",
    "**Examples:**\n",
    "\n",
    "1. **Example for a Mean:**\n",
    "   - Null Hypothesis (\\( H_0 \\)): The average score of students in Group A is equal to 75.\n",
    "   - Alternative Hypothesis (\\( H_1 \\)): The average score of students in Group A is greater than 75.\n",
    "\n",
    "2. **Example for a Proportion:**\n",
    "   - Null Hypothesis (\\( H_0 \\)): The proportion of voters supporting Candidate A is 0.5 (50%).\n",
    "   - Alternative Hypothesis (\\( H_1 \\)): The proportion of voters supporting Candidate A is different from 0.5.\n",
    "\n",
    "3. **Example for a Difference in Means:**\n",
    "   - Null Hypothesis (\\( H_0 \\)): There is no difference in the average income between two cities.\n",
    "   - Alternative Hypothesis (\\( H_1 \\)): The average income in City A is higher than the average income in City B.\n",
    "\n",
    "4. **Example for a Correlation:**\n",
    "   - Null Hypothesis (\\( H_0 \\)): There is no correlation between hours of study and exam scores.\n",
    "   - Alternative Hypothesis (\\( H_1 \\)): There is a positive correlation between hours of study and exam scores.\n",
    "\n",
    "In each example, the null hypothesis represents the absence of an effect or relationship, while the alternative hypothesis suggests the presence of a significant effect or relationship that researchers aim to provide evidence for."
   ]
  },
  {
   "cell_type": "markdown",
   "id": "4c021738-e0de-40a7-ba8e-2b09c7d1f38a",
   "metadata": {},
   "source": [
    "Q7: Write down the steps involved in hypothesis testing."
   ]
  },
  {
   "cell_type": "markdown",
   "id": "9eaab25e-a9bf-4f7d-9e4c-b7e435bd81e8",
   "metadata": {},
   "source": [
    "The steps involved in hypothesis testing are typically as follows:\n",
    "\n",
    "1. **State the Hypotheses:**\n",
    "   - Define the null hypothesis (\\( H_0 \\)) and the alternative hypothesis (\\( H_1 \\)).\n",
    "   - The null hypothesis represents the default assumption or the absence of an effect, while the alternative hypothesis represents the researcher's alternative explanation.\n",
    "\n",
    "2. **Choose the Significance Level (\\( \\alpha \\)):**\n",
    "   - Select the significance level (\\( \\alpha \\)), which is the probability of making a Type I error (incorrectly rejecting the null hypothesis when it is true).\n",
    "   - Commonly used significance levels include 0.05, 0.01, or 0.10.\n",
    "\n",
    "3. **Select the Appropriate Test Statistic:**\n",
    "   - Choose the appropriate statistical test based on the research question, data type, and assumptions.\n",
    "   - Common statistical tests include t-tests, z-tests, chi-square tests, ANOVA, correlation tests, etc.\n",
    "\n",
    "4. **Collect Sample Data:**\n",
    "   - Collect sample data from the population of interest.\n",
    "   - Ensure that the sample is representative and sufficiently large to draw meaningful conclusions.\n",
    "\n",
    "5. **Calculate the Test Statistic:**\n",
    "   - Calculate the test statistic using the sample data and the chosen statistical test.\n",
    "   - The test statistic quantifies the difference between the observed sample data and what would be expected under the null hypothesis.\n",
    "\n",
    "6. **Determine the Critical Region:**\n",
    "   - Determine the critical region or rejection region based on the chosen significance level (\\( \\alpha \\)).\n",
    "   - The critical region defines the range of values of the test statistic that would lead to rejection of the null hypothesis.\n",
    "\n",
    "7. **Make a Decision:**\n",
    "   - Compare the calculated test statistic with the critical value(s) from the chosen significance level or calculate the p-value.\n",
    "   - If the test statistic falls within the critical region or if the p-value is less than the significance level (\\( \\alpha \\)), reject the null hypothesis.\n",
    "   - If the test statistic does not fall within the critical region or if the p-value is greater than the significance level (\\( \\alpha \\)), fail to reject the null hypothesis.\n",
    "\n",
    "8. **Draw Conclusion:**\n",
    "   - Based on the decision made in the previous step, draw a conclusion regarding the null hypothesis.\n",
    "   - Provide interpretations and implications of the results in the context of the research question.\n",
    "\n",
    "9. **Report the Results:**\n",
    "   - Present the results of the hypothesis test, including the calculated test statistic, critical value(s), p-value, decision regarding the null hypothesis, and interpretation of findings.\n",
    "\n",
    "10. **Validate Assumptions (if applicable):**\n",
    "    - Validate the assumptions of the chosen statistical test, such as normality of data, independence of observations, etc., if applicable.\n",
    "    - If assumptions are violated, consider alternative methods or techniques for hypothesis testing."
   ]
  },
  {
   "cell_type": "markdown",
   "id": "152fcac3-50f7-42b2-b743-a1e5d881b03a",
   "metadata": {},
   "source": [
    "Q8. Define p-value and explain its significance in hypothesis testing."
   ]
  },
  {
   "cell_type": "markdown",
   "id": "f9271866-399f-4738-89e0-934156d7327f",
   "metadata": {},
   "source": [
    "The p-value in hypothesis testing is a measure of the strength of evidence against the null hypothesis (\\( H_0 \\)). It represents the probability of observing a test statistic as extreme as, or more extreme than, the one observed, assuming that the null hypothesis is true. In simpler terms, the p-value quantifies the likelihood of obtaining the observed results if the null hypothesis were actually true.\n",
    "\n",
    "**Significance of the p-value:**\n",
    "\n",
    "1. **Decision Rule:**\n",
    "   - In hypothesis testing, the p-value is compared to the significance level (\\( \\alpha \\)), which is predetermined by the researcher.\n",
    "   - If the p-value is less than or equal to the significance level (\\( \\alpha \\)), it indicates that the observed results are statistically significant, and the null hypothesis is rejected.\n",
    "   - If the p-value is greater than the significance level (\\( \\alpha \\)), it suggests that the observed results are not statistically significant, and the null hypothesis is not rejected.\n",
    "\n",
    "2. **Strength of Evidence:**\n",
    "   - A smaller p-value indicates stronger evidence against the null hypothesis.\n",
    "   - A larger p-value suggests weaker evidence against the null hypothesis.\n",
    "\n",
    "3. **Interpretation:**\n",
    "   - If the p-value is very small (e.g., less than 0.05), it implies that the observed results are unlikely to occur under the null hypothesis, and there is sufficient evidence to reject the null hypothesis in favor of the alternative hypothesis (\\( H_1 \\)).\n",
    "   - If the p-value is relatively large (e.g., greater than 0.05), it suggests that the observed results are consistent with the null hypothesis, and there is insufficient evidence to reject the null hypothesis.\n",
    "\n",
    "4. **Error Control:**\n",
    "   - Controlling the significance level (\\( \\alpha \\)) allows researchers to manage the risk of making Type I errors (false positives) and Type II errors (false negatives) in hypothesis testing.\n",
    "   - By setting a lower significance level, researchers can decrease the probability of making Type I errors but may increase the likelihood of Type II errors, and vice versa.\n",
    "\n",
    "In summary, the p-value plays a crucial role in hypothesis testing by providing a quantitative measure of the strength of evidence against the null hypothesis. It helps researchers make informed decisions about whether to accept or reject the null hypothesis based on the observed results and the chosen significance level."
   ]
  },
  {
   "cell_type": "markdown",
   "id": "dedf6335-f1ec-418a-82df-a186dec30209",
   "metadata": {},
   "source": [
    "Q9. Generate a Student's t-distribution plot using Python's matplotlib library, with the degrees of freedom\n",
    "parameter set to 10."
   ]
  },
  {
   "cell_type": "markdown",
   "id": "69b83980-ce06-41ce-b831-a70b544312d3",
   "metadata": {},
   "source": [
    "To generate a Student's t-distribution plot using Python's Matplotlib library, we can use the scipy.stats module to create the t-distribution and Matplotlib to visualize it. Here's how you can do it:"
   ]
  },
  {
   "cell_type": "code",
   "execution_count": 4,
   "id": "c9c6136a-4ef1-4485-be69-b92837e7bad8",
   "metadata": {},
   "outputs": [
    {
     "data": {
      "image/png": "[encoded data removed]",
      "text/plain": [
       "<Figure size 800x600 with 1 Axes>"
      ]
     },
     "metadata": {},
     "output_type": "display_data"
    }
   ],
   "source": [
    "import numpy as np\n",
    "import matplotlib.pyplot as plt\n",
    "import scipy.stats as stats\n",
    "\n",
    "# Set the degrees of freedom\n",
    "df = 10\n",
    "\n",
    "# Generate x values for the t-distribution plot\n",
    "x = np.linspace(-4, 4, 1000)\n",
    "\n",
    "# Calculate the probability density function (PDF) for the t-distribution\n",
    "pdf = stats.t.pdf(x, df)\n",
    "\n",
    "# Plot the t-distribution\n",
    "plt.figure(figsize=(8, 6))\n",
    "plt.plot(x, pdf, color='blue', label=f'Student\\'s t-Distribution (df={df})')\n",
    "plt.title('Student\\'s t-Distribution')\n",
    "plt.xlabel('x')\n",
    "plt.ylabel('Probability Density')\n",
    "plt.legend()\n",
    "plt.grid(True)\n",
    "plt.show()\n"
   ]
  },
  {
   "cell_type": "markdown",
   "id": "6b28edd8-f87a-4c78-9f24-d04f56e0d12e",
   "metadata": {},
   "source": [
    "In this script:\n",
    "\n",
    "We import the necessary libraries: NumPy for numerical operations, Matplotlib for plotting, and Scipy's stats module for statistical functions.\n",
    "We set the degrees of freedom (df) parameter to 10.\n",
    "We generate a range of x values for the t-distribution plot using np.linspace.\n",
    "We calculate the probability density function (PDF) for the t-distribution using stats.t.pdf.\n",
    "Finally, we plot the t-distribution using Matplotlib's plt.plot function and display the plot using plt.show.\n",
    "This will generate a plot of the Student's t-distribution with degrees of freedom parameter set to 10. You can adjust the range of x values or other plot parameters as needed."
   ]
  },
  {
   "cell_type": "markdown",
   "id": "536357e2-7ae9-4a15-a3de-fd435b5d0e13",
   "metadata": {},
   "source": [
    "Q10. Write a Python program to calculate the two-sample t-test for independent samples, given two\n",
    "random samples of equal size and a null hypothesis that the population means are equal."
   ]
  },
  {
   "cell_type": "markdown",
   "id": "01207f53-0bba-4c7a-8705-1c29a1281b83",
   "metadata": {},
   "source": [
    "Python program using the scipy.stats module to calculate the two-sample t-test for independent samples, given two random samples of equal size and a null hypothesis that the population means are equal:"
   ]
  },
  {
   "cell_type": "code",
   "execution_count": 5,
   "id": "1c01a309-318d-49f1-9230-36e8f9533431",
   "metadata": {},
   "outputs": [
    {
     "name": "stdout",
     "output_type": "stream",
     "text": [
      "Two-Sample T-Test Results:\n",
      "T-Statistic: -1.4514926339778118\n",
      "P-Value: 0.1548491592442032\n",
      "Result: Fail to reject null hypothesis\n"
     ]
    }
   ],
   "source": [
    "import numpy as np\n",
    "import scipy.stats as stats\n",
    "\n",
    "def two_sample_t_test(sample1, sample2, alpha=0.05):\n",
    "    \"\"\"\n",
    "    Function to calculate the two-sample t-test for independent samples.\n",
    "\n",
    "    Args:\n",
    "    sample1 (array-like): First sample data.\n",
    "    sample2 (array-like): Second sample data.\n",
    "    alpha (float): Significance level (default is 0.05).\n",
    "\n",
    "    Returns:\n",
    "    t_statistic (float): The calculated t-statistic.\n",
    "    p_value (float): The p-value associated with the t-test.\n",
    "    result (str): The result of the hypothesis test based on the p-value and significance level.\n",
    "    \"\"\"\n",
    "\n",
    "    # Perform two-sample t-test\n",
    "    t_statistic, p_value = stats.ttest_ind(sample1, sample2)\n",
    "\n",
    "    # Determine result based on p-value and significance level\n",
    "    if p_value < alpha:\n",
    "        result = \"Reject null hypothesis\"\n",
    "    else:\n",
    "        result = \"Fail to reject null hypothesis\"\n",
    "\n",
    "    return t_statistic, p_value, result\n",
    "\n",
    "# Generate two random samples of equal size\n",
    "np.random.seed(0)  # for reproducibility\n",
    "sample_size = 20\n",
    "sample1 = np.random.normal(loc=10, scale=2, size=sample_size)\n",
    "sample2 = np.random.normal(loc=12, scale=2, size=sample_size)\n",
    "\n",
    "# Calculate two-sample t-test\n",
    "t_statistic, p_value, result = two_sample_t_test(sample1, sample2)\n",
    "\n",
    "# Print results\n",
    "print(\"Two-Sample T-Test Results:\")\n",
    "print(\"T-Statistic:\", t_statistic)\n",
    "print(\"P-Value:\", p_value)\n",
    "print(\"Result:\", result)\n"
   ]
  },
  {
   "cell_type": "markdown",
   "id": "c4c5f2de-b515-4272-8593-fdf2ca882f87",
   "metadata": {},
   "source": [
    "In this program:\n",
    "\n",
    "We define a function two_sample_t_test that takes two sample datasets (sample1 and sample2) and a significance level (alpha) as input.\n",
    "The function calculates the two-sample t-test using scipy.stats.ttest_ind.\n",
    "We generate two random samples of equal size using np.random.normal.\n",
    "We call the two_sample_t_test function with the generated sample data and print the results, including the t-statistic, p-value, and the result of the hypothesis test based on the significance level."
   ]
  },
  {
   "cell_type": "markdown",
   "id": "a7342d1e-0bed-4432-bd62-8b88731fb43a",
   "metadata": {},
   "source": [
    "Q11: What is Student’s t distribution? When to use the t-Distribution."
   ]
  },
  {
   "cell_type": "markdown",
   "id": "3833f42e-15e8-4604-8ec8-2c3c7c96b047",
   "metadata": {},
   "source": [
    "Student's t-distribution, often referred to simply as the t-distribution, is a probability distribution that is used in hypothesis testing and confidence interval estimation for small sample sizes when the population standard deviation is unknown. It is a symmetric, bell-shaped distribution similar to the standard normal distribution (z-distribution) but has heavier tails.\n",
    "\n",
    "**Characteristics of the t-distribution:**\n",
    "1. **Symmetry:** Like the normal distribution, the t-distribution is symmetric around its mean.\n",
    "2. **Bell-shaped:** The t-distribution is bell-shaped, with its peak at the mean.\n",
    "3. **Heavier tails:** Compared to the normal distribution, the tails of the t-distribution are heavier, which means it has more probability in the tails.\n",
    "4. **Depends on degrees of freedom:** The shape of the t-distribution depends on the degrees of freedom (\\( df \\)). As the degrees of freedom increase, the t-distribution approaches the standard normal distribution.\n",
    "\n",
    "**When to use the t-Distribution:**\n",
    "The t-distribution is used in the following situations:\n",
    "1. **Small sample sizes:** When the sample size is small (typically less than 30) and the population standard deviation is unknown.\n",
    "2. **Population standard deviation unknown:** When the population standard deviation is unknown and cannot be assumed to be equal to the sample standard deviation.\n",
    "3. **Hypothesis testing and confidence intervals:** In hypothesis testing and confidence interval estimation for the population mean, especially when dealing with small sample sizes.\n",
    "\n",
    "**Key Points:**\n",
    "- The t-distribution becomes closer to the standard normal distribution as the sample size increases.\n",
    "- For large sample sizes (typically greater than 30) or when the population standard deviation is known, the z-distribution (standard normal distribution) is often used instead of the t-distribution.\n",
    "- The t-distribution is more robust for small sample sizes because it accounts for the additional variability introduced by estimating the population standard deviation from the sample data.\n",
    "\n",
    "In summary, the t-distribution is a useful tool in statistics for making inferences about population parameters when dealing with small sample sizes and uncertainty about the population standard deviation. It provides a more accurate estimation of uncertainty in such situations compared to using the normal distribution."
   ]
  },
  {
   "cell_type": "markdown",
   "id": "6ca2ab04-3702-468a-a036-4518add9ea8c",
   "metadata": {},
   "source": [
    "Q12: What is t-statistic? State the formula for t-statistic."
   ]
  },
  {
   "cell_type": "markdown",
   "id": "aeb88520-2499-4d2b-b059-9ea33e64a884",
   "metadata": {},
   "source": [
    "The t-statistic is a measure used in hypothesis testing to determine if the difference between two groups is statistically significant. It is calculated from sample data and indicates how much the sample mean deviates from the null hypothesis.\n",
    "\n",
    "The formula for the t-statistic depends on the context of the hypothesis test being conducted. However, for a one-sample t-test, where we are testing the mean of a single sample against a known or hypothesized population mean (\\( \\mu \\)), the formula for the t-statistic is:\n",
    "\n",
    "\\[ t = \\frac{{\\bar{x} - \\mu}}{{s / \\sqrt{n}}} \\]\n",
    "\n",
    "Where:\n",
    "- \\( \\bar{x} \\) is the sample mean,\n",
    "- \\( \\mu \\) is the population mean under the null hypothesis,\n",
    "- \\( s \\) is the sample standard deviation,\n",
    "- \\( n \\) is the sample size.\n",
    "\n",
    "In this formula, the numerator (\\( \\bar{x} - \\mu \\)) measures the difference between the sample mean and the population mean, while the denominator (\\( s / \\sqrt{n} \\)) standardizes this difference by the standard error of the mean (standard deviation of the sampling distribution of the mean).\n",
    "\n",
    "A larger absolute value of the t-statistic indicates a greater difference between the sample mean and the population mean, suggesting stronger evidence against the null hypothesis. The t-statistic is then compared to a critical value from the t-distribution or used to calculate a p-value to determine whether to reject or fail to reject the null hypothesis."
   ]
  },
  {
   "cell_type": "markdown",
   "id": "9ffe90fc-5bd4-4ce0-853f-cffb9dc5643d",
   "metadata": {},
   "source": [
    "Q13. A coffee shop owner wants to estimate the average daily revenue for their shop. They take a random\n",
    "sample of 50 days and find the sample mean revenue to be $500 with a standard deviation of $50.\n",
    "Estimate the population mean revenue with a 95% confidence interval."
   ]
  },
  {
   "cell_type": "markdown",
   "id": "8db93ed2-6215-4451-9c5f-ce6bb732a74f",
   "metadata": {},
   "source": [
    "To estimate the population mean revenue with a 95% confidence interval, we can use the formula for the confidence interval of the population mean when the population standard deviation is known:\n",
    "\n",
    "\\[ \\text{Confidence Interval} = \\bar{x} \\pm Z \\left( \\frac{s}{\\sqrt{n}} \\right) \\]\n",
    "\n",
    "Where:\n",
    "- \\( \\bar{x} \\) is the sample mean revenue,\n",
    "- \\( s \\) is the sample standard deviation,\n",
    "- \\( n \\) is the sample size,\n",
    "- \\( Z \\) is the critical value from the standard normal distribution corresponding to the desired confidence level.\n",
    "\n",
    "Given:\n",
    "- Sample mean (\\( \\bar{x} \\)) = $500,\n",
    "- Sample standard deviation (\\( s \\)) = $50,\n",
    "- Sample size (\\( n \\)) = 50,\n",
    "- Confidence level = 95%.\n",
    "\n",
    "We first find the critical value \\( Z \\) corresponding to the 95% confidence level. For a 95% confidence level, the critical value is approximately 1.96 (obtained from the standard normal distribution table or using statistical software).\n",
    "\n",
    "Then, we can calculate the confidence interval using the formula:\n",
    "\n",
    "Confidence Interval = 500 +_ 1.96 (50\\sqrt(50))\n",
    "\n",
    "Let's calculate:\n",
    "\n",
    "Confidence Interval = 500 +_ 1.96 *7.07\n",
    "\n",
    "Confidence Interval = 500 +_ 13.86\n",
    "\n",
    "Confidence Interval = (486.14,513.86)\n",
    "\n",
    "So, the 95% confidence interval for the population mean revenue is ($486.14, $513.86). This means we are 95% confident that the true average daily revenue for the coffee shop falls within this range."
   ]
  },
  {
   "cell_type": "markdown",
   "id": "13cf3b67-891e-422d-9bc8-40f1eb7a640c",
   "metadata": {},
   "source": [
    "Q14. A researcher hypothesizes that a new drug will decrease blood pressure by 10 mmHg. They conduct a\n",
    "clinical trial with 100 patients and find that the sample mean decrease in blood pressure is 8 mmHg with a\n",
    "standard deviation of 3 mmHg. Test the hypothesis with a significance level of 0.05."
   ]
  },
  {
   "cell_type": "markdown",
   "id": "25539260-0aff-47c0-b7cd-985e9d5a22fd",
   "metadata": {},
   "source": [
    "To test the researcher's hypothesis that the new drug will decrease blood pressure by 10 mmHg, we can conduct a one-sample t-test. The null hypothesis (\\( H_0 \\)) would be that the mean decrease in blood pressure (\\( \\mu \\)) is equal to 10 mmHg, while the alternative hypothesis (\\( H_1 \\)) would be that the mean decrease in blood pressure is less than 10 mmHg.\n",
    "\n",
    "Given:\n",
    "- Sample size (\\( n \\)) = 100,\n",
    "- Sample mean (\\( \\bar{x} \\)) = 8 mmHg,\n",
    "- Sample standard deviation (\\( s \\)) = 3 mmHg,\n",
    "- Population mean under the null hypothesis (\\( \\mu_0 \\)) = 10 mmHg,\n",
    "- Significance level (\\( \\alpha \\)) = 0.05.\n",
    "\n",
    "We can calculate the t-statistic using the formula:\n",
    "\n",
    "\\[ t = \\frac{{\\bar{x} - \\mu_0}}{{s / \\sqrt{n}}} \\]\n",
    "\n",
    "Then, we can compare the calculated t-statistic to the critical value from the t-distribution with \\( n - 1 \\) degrees of freedom (99 degrees of freedom in this case) at the specified significance level to determine whether to reject the null hypothesis.\n",
    "\n",
    "Let's calculate:\n",
    "\n",
    "\\[ t = \\frac{{8 - 10}}{{3 / \\sqrt{100}}} \\]\n",
    "\n",
    "\\[ t = \\frac{{-2}}{{3 / 10}} \\]\n",
    "\n",
    "\\[ t = -6.67 \\]\n",
    "\n",
    "Now, we find the critical value from the t-distribution table or using statistical software at \\( \\alpha = 0.05 \\) with 99 degrees of freedom. For a one-tailed test (since the alternative hypothesis suggests a decrease in blood pressure), the critical value is approximately -1.660.\n",
    "\n",
    "Since the calculated t-statistic (-6.67) is less than the critical value (-1.660) and falls in the rejection region, we reject the null hypothesis.\n",
    "\n",
    "Therefore, we have sufficient evidence to conclude that the new drug does decrease blood pressure, as the sample mean decrease in blood pressure is significantly less than 10 mmHg, with a significance level of 0.05."
   ]
  },
  {
   "cell_type": "markdown",
   "id": "805e231b-e1b4-4ed4-b8ff-6f33da2b2ab4",
   "metadata": {},
   "source": [
    "Q15. An electronics company produces a certain type of product with a mean weight of 5 pounds and a\n",
    "standard deviation of 0.5 pounds. A random sample of 25 products is taken, and the sample mean weight\n",
    "is found to be 4.8 pounds. Test the hypothesis that the true mean weight of the products is less than 5\n",
    "pounds with a significance level of 0.01."
   ]
  },
  {
   "cell_type": "markdown",
   "id": "3463d6d5-ac00-483c-b5e9-b1e46be7c3b3",
   "metadata": {},
   "source": [
    "To test the hypothesis that the true mean weight of the products is less than 5 pounds, we can conduct a one-sample t-test. The null hypothesis (\\( H_0 \\)) would be that the mean weight (\\( \\mu \\)) is equal to 5 pounds, while the alternative hypothesis (\\( H_1 \\)) would be that the mean weight is less than 5 pounds.\n",
    "\n",
    "Given:\n",
    "- Sample size (\\( n \\)) = 25,\n",
    "- Sample mean (\\( \\bar{x} \\)) = 4.8 pounds,\n",
    "- Population mean under the null hypothesis (\\( \\mu_0 \\)) = 5 pounds,\n",
    "- Population standard deviation (\\( \\sigma \\)) = 0.5 pounds,\n",
    "- Significance level (\\( \\alpha \\)) = 0.01.\n",
    "\n",
    "We can calculate the t-statistic using the formula:\n",
    "\n",
    "\\[ t = \\frac{{\\bar{x} - \\mu_0}}{{s / \\sqrt{n}}} \\]\n",
    "\n",
    "Where \\( s \\) is the sample standard deviation. However, since the population standard deviation (\\( \\sigma \\)) is known, we can use it instead of the sample standard deviation (\\( s \\)).\n",
    "\n",
    "Then, we can compare the calculated t-statistic to the critical value from the t-distribution with \\( n - 1 \\) degrees of freedom (24 degrees of freedom in this case) at the specified significance level to determine whether to reject the null hypothesis.\n",
    "\n",
    "Let's calculate:\n",
    "\n",
    "\\[ t = \\frac{{4.8 - 5}}{{0.5 / \\sqrt{25}}} \\]\n",
    "\n",
    "\\[ t = \\frac{{-0.2}}{{0.5 / 5}} \\]\n",
    "\n",
    "\\[ t = -2 \\]\n",
    "\n",
    "Now, we find the critical value from the t-distribution table or using statistical software at \\( \\alpha = 0.01 \\) with 24 degrees of freedom. For a one-tailed test (since the alternative hypothesis suggests a decrease in weight), the critical value is approximately -2.492.\n",
    "\n",
    "Since the calculated t-statistic (-2) falls in the rejection region (less than the critical value of -2.492), we reject the null hypothesis.\n",
    "\n",
    "Therefore, we have sufficient evidence to conclude that the true mean weight of the products is less than 5 pounds, with a significance level of 0.01."
   ]
  },
  {
   "cell_type": "markdown",
   "id": "b1d19762-a9a9-4ab4-a09b-71935e3a6242",
   "metadata": {},
   "source": [
    "Q16. Two groups of students are given different study materials to prepare for a test. The first group (n1 =\n",
    "30) has a mean score of 80 with a standard deviation of 10, and the second group (n2 = 40) has a mean\n",
    "score of 75 with a standard deviation of 8. Test the hypothesis that the population means for the two\n",
    "groups are equal with a significance level of 0.01."
   ]
  },
  {
   "cell_type": "markdown",
   "id": "8f35ba9c-6aec-4e64-b99f-06e4110ac1b0",
   "metadata": {},
   "source": [
    "To test the hypothesis that the population means for the two groups are equal, we can conduct an independent two-sample t-test. The null hypothesis (\\( H_0 \\)) would be that the population means (\\( \\mu_1 \\) and \\( \\mu_2 \\)) are equal, while the alternative hypothesis (\\( H_1 \\)) would be that the population means are not equal.\n",
    "\n",
    "Given:\n",
    "- Sample size for the first group (\\( n_1 \\)) = 30,\n",
    "- Sample mean for the first group (\\( \\bar{x}_1 \\)) = 80,\n",
    "- Sample standard deviation for the first group (\\( s_1 \\)) = 10,\n",
    "- Sample size for the second group (\\( n_2 \\)) = 40,\n",
    "- Sample mean for the second group (\\( \\bar{x}_2 \\)) = 75,\n",
    "- Sample standard deviation for the second group (\\( s_2 \\)) = 8,\n",
    "- Significance level (\\( \\alpha \\)) = 0.01.\n",
    "\n",
    "We can calculate the pooled standard deviation (\\( s_p \\)) using the formula:\n",
    "\n",
    "\\[ s_p = \\sqrt{\\frac{{(n_1 - 1)s_1^2 + (n_2 - 1)s_2^2}}{{n_1 + n_2 - 2}}} \\]\n",
    "\n",
    "Then, we calculate the t-statistic using the formula:\n",
    "\n",
    "\\[ t = \\frac{{\\bar{x}_1 - \\bar{x}_2}}{{s_p \\sqrt{\\frac{1}{n_1} + \\frac{1}{n_2}}}} \\]\n",
    "\n",
    "Finally, we compare the calculated t-statistic to the critical value from the t-distribution with \\( n_1 + n_2 - 2 \\) degrees of freedom (68 degrees of freedom in this case) at the specified significance level to determine whether to reject the null hypothesis.\n",
    "\n",
    "Let's calculate:\n",
    "\n",
    "\\[ s_p = \\sqrt{\\frac{{(30 - 1)10^2 + (40 - 1)8^2}}{{30 + 40 - 2}}} \\]\n",
    "\n",
    "\\[ s_p = \\sqrt{\\frac{{29 \\times 100 + 39 \\times 64}}{{68}}} \\]\n",
    "\n",
    "\\[ s_p = \\sqrt{\\frac{{2900 + 2496}}{{68}}} \\]\n",
    "\n",
    "\\[ s_p = \\sqrt{\\frac{{5396}}{{68}}} \\]\n",
    "\n",
    "\\[ s_p = \\sqrt{79.35} \\]\n",
    "\n",
    "\\[ s_p \\approx 8.91 \\]\n",
    "\n",
    "\\[ t = \\frac{{80 - 75}}{{8.91 \\times \\sqrt{\\frac{1}{30} + \\frac{1}{40}}}} \\]\n",
    "\n",
    "\\[ t = \\frac{{5}}{{8.91 \\times \\sqrt{0.0333 + 0.025}}} \\]\n",
    "\n",
    "\\[ t = \\frac{{5}}{{8.91 \\times \\sqrt{0.0583}}} \\]\n",
    "\n",
    "\\[ t = \\frac{{5}}{{8.91 \\times 0.2413}} \\]\n",
    "\n",
    "\\[ t \\approx \\frac{{5}}{{2.1806}} \\]\n",
    "\n",
    "\\[ t \\approx 2.293 \\]\n",
    "\n",
    "Now, we find the critical value from the t-distribution table or using statistical software at \\( \\alpha = 0.01 \\) with 68 degrees of freedom. For a two-tailed test, the critical value is approximately ±2.661.\n",
    "\n",
    "Since the calculated t-statistic (2.293) falls within the range of the critical values (-2.661 to +2.661), we fail to reject the null hypothesis.\n",
    "\n",
    "Therefore, we do not have sufficient evidence to conclude that the population means for the two groups are different, with a significance level of 0.01."
   ]
  },
  {
   "cell_type": "markdown",
   "id": "c49ef5fa-8107-48dd-ab09-4b58000e6034",
   "metadata": {},
   "source": [
    "Q17. A marketing company wants to estimate the average number of ads watched by viewers during a TV\n",
    "program. They take a random sample of 50 viewers and find that the sample mean is 4 with a standard\n",
    "deviation of 1.5. Estimate the population mean with a 99% confidence interval."
   ]
  },
  {
   "cell_type": "markdown",
   "id": "a2d997e3-f561-4635-9598-7496ddfefe46",
   "metadata": {},
   "source": [
    "To estimate the population mean number of ads watched by viewers during a TV program with a 99% confidence interval, we can use the formula for the confidence interval of the population mean when the population standard deviation is unknown:\n",
    "\n",
    "\\[ \\text{Confidence Interval} = \\bar{x} \\pm t \\left( \\frac{s}{\\sqrt{n}} \\right) \\]\n",
    "\n",
    "Where:\n",
    "- \\( \\bar{x} \\) is the sample mean,\n",
    "- \\( s \\) is the sample standard deviation,\n",
    "- \\( n \\) is the sample size,\n",
    "- \\( t \\) is the critical value from the t-distribution corresponding to the desired confidence level and degrees of freedom (\\( n - 1 \\)).\n",
    "\n",
    "Given:\n",
    "- Sample mean (\\( \\bar{x} \\)) = 4,\n",
    "- Sample standard deviation (\\( s \\)) = 1.5,\n",
    "- Sample size (\\( n \\)) = 50,\n",
    "- Confidence level = 99%.\n",
    "\n",
    "We first need to find the critical value \\( t \\) from the t-distribution table or using statistical software at a 99% confidence level with \\( n - 1 \\) degrees of freedom (49 degrees of freedom in this case).\n",
    "\n",
    "Then, we can calculate the confidence interval using the formula.\n",
    "\n",
    "Let's proceed with the calculations:\n",
    "\n",
    "\\[ \\text{Degrees of Freedom} = n - 1 = 50 - 1 = 49 \\]\n",
    "\n",
    "Using statistical software or a t-distribution table, we find that the critical value \\( t \\) for a 99% confidence level and 49 degrees of freedom is approximately 2.680.\n",
    "\n",
    "Now, we can calculate the confidence interval:\n",
    "\n",
    "\\[ \\text{Confidence Interval} = 4 \\pm 2.680 \\left( \\frac{1.5}{\\sqrt{50}} \\right) \\]\n",
    "\n",
    "\\[ \\text{Confidence Interval} = 4 \\pm 2.680 \\left( \\frac{1.5}{\\sqrt{50}} \\right) \\]\n",
    "\n",
    "\\[ \\text{Confidence Interval} = 4 \\pm 2.680 \\times \\left( \\frac{1.5}{\\sqrt{50}} \\right) \\]\n",
    "\n",
    "\\[ \\text{Confidence Interval} = 4 \\pm 2.680 \\times \\left( \\frac{1.5}{7.071} \\right) \\]\n",
    "\n",
    "\\[ \\text{Confidence Interval} = 4 \\pm 2.680 \\times 0.212 \\]\n",
    "\n",
    "\\[ \\text{Confidence Interval} = 4 \\pm 0.568 \\]\n",
    "\n",
    "\\[ \\text{Confidence Interval} = (3.432, 4.568) \\]\n",
    "\n",
    "So, the 99% confidence interval for the population mean number of ads watched by viewers during a TV program is (3.432, 4.568). This means we are 99% confident that the true average number of ads watched falls within this range."
   ]
  },
  {
   "cell_type": "code",
   "execution_count": null,
   "id": "4b4ecc14-7292-4c51-9748-f44d5e283871",
   "metadata": {},
   "outputs": [],
   "source": []
  }
 ],
 "metadata": {
  "kernelspec": {
   "display_name": "Python 3 (ipykernel)",
   "language": "python",
   "name": "python3"
  },
  "language_info": {
   "codemirror_mode": {
    "name": "ipython",
    "version": 3
   },
   "file_extension": ".py",
   "mimetype": "text/x-python",
   "name": "python",
   "nbconvert_exporter": "python",
   "pygments_lexer": "ipython3",
   "version": "3.10.8"
  }
 },
 "nbformat": 4,
 "nbformat_minor": 5
}
