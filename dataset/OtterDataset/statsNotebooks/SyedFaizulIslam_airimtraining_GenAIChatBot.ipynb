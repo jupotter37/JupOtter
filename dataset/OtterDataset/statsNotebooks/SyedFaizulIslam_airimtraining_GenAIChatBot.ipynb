{
 "cells": [
  {
   "cell_type": "code",
   "execution_count": 6,
   "metadata": {},
   "outputs": [
    {
     "data": {
      "text/plain": [
       "False"
      ]
     },
     "execution_count": 6,
     "metadata": {},
     "output_type": "execute_result"
    }
   ],
   "source": [
    "import pandas as pd\n",
    "import os\n",
    "from langchain.chains import RetrievalQA\n",
    "from langchain_openai import AzureChatOpenAI, AzureOpenAIEmbeddings,OpenAIEmbeddings,ChatOpenAI\n",
    "from langchain_core.prompts import PromptTemplate\n",
    "from langchain.text_splitter import CharacterTextSplitter\n",
    "from langchain_community.vectorstores import Chroma,MongoDBAtlasVectorSearch\n",
    "from dotenv import find_dotenv, load_dotenv\n",
    "load_dotenv(find_dotenv())"
   ]
  },
  {
   "cell_type": "code",
   "execution_count": 18,
   "metadata": {},
   "outputs": [],
   "source": [
    "OPENAI_API_KEY =os.environ[\"OPENAI_API_KEY\"]\n",
    "model_llm = ChatOpenAI(model_name=\"gpt-4o\", temperature=0, api_key=OPENAI_API_KEY)\n"
   ]
  },
  {
   "cell_type": "code",
   "execution_count": 19,
   "metadata": {},
   "outputs": [
    {
     "name": "stdout",
     "output_type": "stream",
     "text": [
      "content='Getting a job in data science involves a combination of education, skill development, practical experience, and networking. Here are some steps to help you get started:\\n\\n### 1. **Educational Background**\\n- **Degree**: While not always mandatory, a degree in a relevant field such as Computer Science, Statistics, Mathematics, Engineering, or a related discipline can be beneficial.\\n- **Online Courses and Certifications**: Platforms like Coursera, edX, Udacity, and DataCamp offer specialized courses and certifications in data science, machine learning, and related areas.\\n\\n### 2. **Develop Key Skills**\\n- **Programming**: Proficiency in languages like Python and R is essential. Familiarity with SQL for database management is also important.\\n- **Statistics and Mathematics**: A strong understanding of statistical methods, probability, linear algebra, and calculus is crucial.\\n- **Data Manipulation and Analysis**: Learn to use libraries and tools such as Pandas, NumPy, and SciPy.\\n- **Machine Learning**: Gain knowledge in machine learning algorithms and frameworks like Scikit-learn, TensorFlow, and PyTorch.\\n- **Data Visualization**: Learn to use tools like Matplotlib, Seaborn, Tableau, or Power BI to visualize data effectively.\\n- **Big Data Technologies**: Familiarize yourself with big data tools like Hadoop, Spark, and Hive if you aim to work with large datasets.\\n\\n### 3. **Practical Experience**\\n- **Projects**: Work on personal or open-source projects to apply your skills. Create a portfolio showcasing your work on platforms like GitHub.\\n- **Internships**: Seek internships or part-time roles to gain hands-on experience.\\n- **Competitions**: Participate in data science competitions on platforms like Kaggle to solve real-world problems and improve your skills.\\n\\n### 4. **Networking**\\n- **Professional Networks**: Join professional networks and communities such as LinkedIn, GitHub, and data science forums.\\n- **Meetups and Conferences**: Attend industry meetups, webinars, and conferences to connect with professionals and stay updated on industry trends.\\n- **Mentorship**: Seek mentors who can provide guidance and insights into the field.\\n\\n### 5. **Build a Strong Resume and Online Presence**\\n- **Resume**: Highlight your skills, projects, internships, and any relevant coursework. Tailor your resume to the job description.\\n- **LinkedIn Profile**: Maintain an updated LinkedIn profile showcasing your skills, projects, and professional experiences.\\n- **Portfolio**: Create an online portfolio or personal website to display your projects and achievements.\\n\\n### 6. **Apply for Jobs**\\n- **Job Portals**: Use job portals like LinkedIn, Indeed, Glassdoor, and specialized data science job boards to find opportunities.\\n- **Company Websites**: Apply directly through company career pages.\\n- **Recruiters**: Connect with recruiters who specialize in data science roles.\\n\\n### 7. **Prepare for Interviews**\\n- **Technical Skills**: Be prepared to demonstrate your technical skills through coding tests, case studies, and technical interviews.\\n- **Problem-Solving**: Practice solving data science problems and explaining your thought process.\\n- **Behavioral Questions**: Prepare for behavioral interviews by reflecting on your past experiences and how they relate to the role you’re applying for.\\n\\n### 8. **Continuous Learning**\\n- **Stay Updated**: The field of data science is constantly evolving. Stay updated with the latest tools, techniques, and industry trends.\\n- **Advanced Education**: Consider pursuing advanced degrees or specialized certifications if needed.\\n\\nBy following these steps and remaining persistent, you can increase your chances of landing a job in data science. Good luck!' response_metadata={'token_usage': {'completion_tokens': 749, 'prompt_tokens': 17, 'total_tokens': 766}, 'model_name': 'gpt-4o-2024-05-13', 'system_fingerprint': 'fp_3aa7262c27', 'finish_reason': 'stop', 'logprobs': None} id='run-def90de0-b1a5-4e19-980e-66f7217b05b7-0' usage_metadata={'input_tokens': 17, 'output_tokens': 749, 'total_tokens': 766}\n"
     ]
    }
   ],
   "source": [
    "prompt='How do I get a job in data science?'\n",
    "result=model_llm.invoke(prompt)\n",
    "print(result)"
   ]
  },
  {
   "cell_type": "code",
   "execution_count": 16,
   "metadata": {},
   "outputs": [
    {
     "name": "stdout",
     "output_type": "stream",
     "text": [
      "ChatCompletion(id='chatcmpl-9uave2rTigRkqffl73jQxoEaC1PKs', choices=[Choice(finish_reason='length', index=0, logprobs=None, message=ChatCompletionMessage(content=\"**: Delhi is famous for its diverse culinary scene. From street food like chaat, momos, and kebabs to fine dining restaurants offering a range of cuisines, the city offers a gastronomic delight for food enthusiasts.\\n\\n7. **Shopping**: Delhi is a shopper's paradise, with markets like Chandni Chowk, Sarojini Nagar, and Connaught Place offering a vast range of products at affordable prices. There are also high-end malls and designer boutiques for luxury shopping.\\n\\n8. **Art and Culture**: Delhi has a thriving art and culture scene, with numerous art galleries, theaters, and cultural festivals throughout the year. It is home to National Museum, National Gallery of Modern Art, and several theaters showcasing a variety of performing arts.\\n\\n9. **Green Spaces**: Despite being a bustling city, Delhi has several green spaces and parks where people can relax and enjoy nature. Some popular ones include Lodhi Gardens, Nehru Park, and Deer Park.\\n\\n10. **Challenges**: Like any major city, Delhi faces challenges such as traffic congestion, air pollution, and overcrowding. Efforts are being made by the government and various organizations to address these issues and make Delhi a sustainable and livable city.\\n\\nOverall, Delhi offers a unique blend of history\", refusal=None, role='assistant', function_call=None, tool_calls=None))], created=1723275350, model='gpt-3.5-turbo-16k-0613', object='chat.completion', service_tier=None, system_fingerprint=None, usage=CompletionUsage(completion_tokens=256, prompt_tokens=273, total_tokens=529))\n"
     ]
    }
   ],
   "source": [
    "print(response)"
   ]
  }
 ],
 "metadata": {
  "kernelspec": {
   "display_name": "venv",
   "language": "python",
   "name": "python3"
  },
  "language_info": {
   "codemirror_mode": {
    "name": "ipython",
    "version": 3
   },
   "file_extension": ".py",
   "mimetype": "text/x-python",
   "name": "python",
   "nbconvert_exporter": "python",
   "pygments_lexer": "ipython3",
   "version": "3.11.5"
  }
 },
 "nbformat": 4,
 "nbformat_minor": 2
}
