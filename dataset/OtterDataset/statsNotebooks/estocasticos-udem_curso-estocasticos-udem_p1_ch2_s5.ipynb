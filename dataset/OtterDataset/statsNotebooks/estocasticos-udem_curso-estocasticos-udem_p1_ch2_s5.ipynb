{
 "cells": [
  {
   "cell_type": "code",
   "execution_count": 2,
   "metadata": {},
   "outputs": [],
   "source": [
    "import numpy as np\n",
    "import pandas as pd\n",
    "from scipy.stats import trim_mean"
   ]
  },
  {
   "cell_type": "code",
   "execution_count": 3,
   "metadata": {},
   "outputs": [],
   "source": [
    "def prob(num_events, total):\n",
    "    return num_events/total"
   ]
  },
  {
   "cell_type": "markdown",
   "metadata": {},
   "source": [
    "# Tablas de contingencia\n",
    "\n",
    "Una **tabla de contingencia** proporciona una forma tabular de representar los datos para facilitar el cálculo de probabilidades pues facilita la determinación de condicionales con bastante facilidad. \n",
    "\n",
    "En esta tabla se muestra los valores de la muestra en relación con dos variables diferentes que pueden ser dependientes entre sí. "
   ]
  },
  {
   "cell_type": "markdown",
   "metadata": {},
   "source": [
    "## Ejemplos"
   ]
  },
  {
   "cell_type": "markdown",
   "metadata": {},
   "source": [
    "### Ejemplo 1\n",
    "\n",
    "La siguiente tabla de contingencia describe los 595 estudiantes que respondieron a una encuesta escolar sobre desayunar. \n",
    "\n",
    "||Hombre|Mujer|Total|\n",
    "|---|---|---|---|\n",
    "|Desayuna regularmente|190|110|300|\n",
    "|No desayuna regularmente|130|165|295|\n",
    "|Total|320|275|595|\n",
    "\n",
    "Suponga que se selecciona un estudiante al azar. Considere los eventos:\n",
    "* $B$ = desayuna regularmente \n",
    "* $M$ = es hombre\n",
    "\n",
    "Se pide: \n",
    "1. Encuentre la probabilidad de que se elija una mujer.\n",
    "2. Encuentre la probabilidad de que la persona elegida desayune regularmente.\n",
    "3. Encuentre la probabilidad de que la persona elegida sea una mujer que desayune regularmente.\n",
    "4. Encuentre la probabilidad de que la persona elegida sea una mujer o cualquiera que desayune regularmente.\n",
    "5. Encuentre $P(B \\bigcup M)$ y explique lo que significa.\n",
    "6. Encuentre $P(B^C \\bigcap M^C)$ y explique lo que significa.\n",
    "7. Encuentre $P(B|M)$ y explique lo que significa.\n",
    "8. Encuentre $P(M|B)$ y explique lo que significa.\n",
    "9. ¿Todos los eventos $B$ y $M$ son mutuamente excluyentes?\n",
    "10. ¿Todos los eventos $B$ y $M$ son independientes?\n",
    "\n",
    "#### Solución a mano\n",
    "\n",
    "Como ya se tienen definidos los eventos básicos vamos a proceder a realizar los calculos solicitados.\n",
    "1. $P(M') = ?$\n",
    "   \n",
    "   Tenemos que: $P(M') = 1 - P(M)$\n",
    "\n",
    "   $$P(M) = \\frac{N(M)}{N} = \\frac{320}{595}$$\n",
    "\n",
    "   Luego:\n",
    "\n",
    "   $$P(M') = 1 - P(M) = 1 - \\frac{N(M)}{N} = 1 - \\frac{320}{595} = \\frac{275}{595} = 0.4622$$\n",
    "\n",
    "2. $P(B) = ?$\n",
    "\n",
    "   Tenemos que: \n",
    "\n",
    "   $$P(B) = \\frac{N(B)}{N} = \\frac{300}{595} = 0.5942$$\n",
    "\n",
    "3. $P(M'\\;and\\;B) = ?$\n",
    "   \n",
    "   Aplicando la definición tenemos: \n",
    "\n",
    "   $$P(M'\\;and\\;B) = \\frac{N(M'\\;and\\;B)}{N} = \\frac{110}{595} = 0.1849$$\n",
    "\n",
    "4. $P(M'\\;or\\;B) = ?$\n",
    "   \n",
    "   Tenemos que:\n",
    "\n",
    "   $$P(M'\\;or\\;B) = \\frac{N(M'\\;or\\;B)}{N}$$\n",
    "\n",
    "   Para hallar $N(M'\\;or\\;B)$ es necesario tener en cuenta lo que implica la expresión \"Que sea mujer o cualquier persona que desayune regularmente\" es **lo contrario de decir** \"Que sea hombre y no desayune regularmente\" (Aplicación de ley de Morgan $(A \\bigcup B)' = A' \\bigcup B'$) y por lo tanto tenemos:\n",
    "\n",
    "   $$P(M'\\;or\\;B) = 1 - P((M'\\;or\\;B)') = 1 - P(M\\;and\\;B')$$\n",
    "\n",
    "   Calcular $P(M\\;and\\;B')$ resulta mas sencillo por lo que vamos a proceder a esto:\n",
    "\n",
    "   $P(M\\;and\\;B') = \\frac{N(M\\;and\\;B')}{N} = \\frac{130}{595}$\n",
    "\n",
    "   Luego:\n",
    "\n",
    "   $$P(M'\\;or\\;B) = 1 - P(M\\;and\\;B') = 1 - \\frac{130}{595} = \\frac{465}{595} = 0.7815$$\n",
    "\n",
    "5. $P(B\\;or\\;M) = ?$\n",
    "   \n",
    "   La probabilidad $P(B\\;or\\;M)$ esta asociada al evento \"Que sea hombre o cualquier persona que desayune regularmente\". Este evento, se puede descomponer en tres eventos simples:\n",
    "   * Que sea hombre y desayune normalmente $(M\\;and\\;B)$.\n",
    "   * Que sea mujer y desayune normalmente $(M'\\;and\\;B)$.\n",
    "   * Que sea hombre y no desayune normalmente $(M\\;or\\;B')$.\n",
    "  \n",
    "   De este modo tenemos que:\n",
    "\n",
    "   $$P(B\\;or\\;M) = \\frac{N(B\\;or\\;M)}{N}$$\n",
    "\n",
    "   El calculo de $N(B\\;or\\;M)$ se hace teniendo en cuenta los tres eventos sencillos enunciados previamente:\n",
    "\n",
    "   $N(B\\;or\\;M) = N(M\\;and\\;B) + N(M'\\;and\\;B) + N(M\\;and\\;B') = 190 + 110 + 130 = 430$\n",
    "\n",
    "   $N = 595$\n",
    "\n",
    "   Luego:\n",
    "\n",
    "   $$P(B\\;or\\;M) = \\frac{N(B\\;or\\;M)}{N} = \\frac{430}{595} = 0.7227$$\n",
    "\n",
    "6. $P(B'\\;and\\;M') = ?$\n",
    "   \n",
    "   La expresión $B'\\;and\\;M'$ significa \"Que no desayune regularmente y que sea mujer\":\n",
    "\n",
    "   $$P(B'\\;and\\;M') = \\frac{165}{595} = 0.2773$$\n",
    "\n",
    "7. $P(B|M) = ?$\n",
    "   \n",
    "   De la definición de probabilidad condicional tenemos:\n",
    "\n",
    "   $$P(B|M) = \\frac{N(B\\;and\\;M)}{N(M)} = \\frac{190}{320} = 0.5938$$\n",
    "\n",
    "8. $P(M|B) = ?$\n",
    "   \n",
    "   De la definición de probabilidad condicional tenemos:\n",
    "\n",
    "   $$P(M|B) = \\frac{N(M\\;and\\;B)}{N(B)} = \\frac{190}{300} = 0.6333$$\n",
    "\n",
    "9. No lo son, pues pueden darse de manera simultanea.\n",
    "10. No lo son, pues hay dependencia."
   ]
  },
  {
   "cell_type": "markdown",
   "metadata": {},
   "source": [
    "#### Solución empleando python"
   ]
  },
  {
   "cell_type": "code",
   "execution_count": 4,
   "metadata": {},
   "outputs": [
    {
     "data": {
      "text/html": [
       "<div>\n",
       "<style scoped>\n",
       "    .dataframe tbody tr th:only-of-type {\n",
       "        vertical-align: middle;\n",
       "    }\n",
       "\n",
       "    .dataframe tbody tr th {\n",
       "        vertical-align: top;\n",
       "    }\n",
       "\n",
       "    .dataframe thead th {\n",
       "        text-align: right;\n",
       "    }\n",
       "</style>\n",
       "<table border=\"1\" class=\"dataframe\">\n",
       "  <thead>\n",
       "    <tr style=\"text-align: right;\">\n",
       "      <th></th>\n",
       "      <th>regular_breakdast</th>\n",
       "      <th>man</th>\n",
       "      <th>woman</th>\n",
       "    </tr>\n",
       "  </thead>\n",
       "  <tbody>\n",
       "    <tr>\n",
       "      <th>0</th>\n",
       "      <td>si</td>\n",
       "      <td>190</td>\n",
       "      <td>110</td>\n",
       "    </tr>\n",
       "    <tr>\n",
       "      <th>1</th>\n",
       "      <td>no</td>\n",
       "      <td>130</td>\n",
       "      <td>165</td>\n",
       "    </tr>\n",
       "  </tbody>\n",
       "</table>\n",
       "</div>"
      ],
      "text/plain": [
       "  regular_breakdast  man  woman\n",
       "0                si  190    110\n",
       "1                no  130    165"
      ]
     },
     "execution_count": 4,
     "metadata": {},
     "output_type": "execute_result"
    }
   ],
   "source": [
    "# Representación de la tablac de datos del problema\n",
    "data = {\n",
    "  \"regular_breakdast\": np.array([\"si\", \"no\"], dtype=\"str\"),\n",
    "  \"man\": np.array([190, 130]),\n",
    "  \"woman\": np.array([110, 165])\n",
    "}\n",
    "\n",
    "tabla = pd.DataFrame(data)\n",
    "tabla"
   ]
  },
  {
   "cell_type": "code",
   "execution_count": 5,
   "metadata": {},
   "outputs": [
    {
     "name": "stdout",
     "output_type": "stream",
     "text": [
      "--- Cantidad total de \"hombres\" y \"mujeres\" --- \n"
     ]
    },
    {
     "data": {
      "text/plain": [
       "man      320\n",
       "woman    275\n",
       "dtype: int64"
      ]
     },
     "execution_count": 5,
     "metadata": {},
     "output_type": "execute_result"
    }
   ],
   "source": [
    "print(\"--- Cantidad total de \\\"hombres\\\" y \\\"mujeres\\\" --- \")\n",
    "total_sex = tabla[['man','woman']].sum(axis = 0) # Suma columnas\n",
    "total_sex"
   ]
  },
  {
   "cell_type": "code",
   "execution_count": 6,
   "metadata": {},
   "outputs": [
    {
     "name": "stdout",
     "output_type": "stream",
     "text": [
      "--- Cantidad total de personas que \"no desayuna\" y \"desayuna\" regularmente --- \n"
     ]
    },
    {
     "data": {
      "text/plain": [
       "0    300\n",
       "1    295\n",
       "dtype: int64"
      ]
     },
     "execution_count": 6,
     "metadata": {},
     "output_type": "execute_result"
    }
   ],
   "source": [
    "print(\"--- Cantidad total de personas que \\\"no desayuna\\\" y \\\"desayuna\\\" regularmente --- \")\n",
    "total_breakfast = tabla.sum(axis = 1, numeric_only=True) # Suma Filas\n",
    "total_breakfast"
   ]
  },
  {
   "cell_type": "code",
   "execution_count": 7,
   "metadata": {},
   "outputs": [
    {
     "name": "stdout",
     "output_type": "stream",
     "text": [
      "Punto 1 ->\n",
      "P(M') = 0.4622\n"
     ]
    }
   ],
   "source": [
    "# Punto 1\n",
    "print(\"Punto 1 ->\")\n",
    "N_woman =  total_sex['woman']\n",
    "N = total_sex.sum() \n",
    "P_notM = prob(N_woman,N)\n",
    "print(f\"P(M') = {P_notM:.4f}\")"
   ]
  },
  {
   "cell_type": "code",
   "execution_count": 8,
   "metadata": {},
   "outputs": [
    {
     "name": "stdout",
     "output_type": "stream",
     "text": [
      "Punto 2 ->\n",
      "P(B) = 0.5042\n"
     ]
    }
   ],
   "source": [
    "# Punto 2\n",
    "print(\"Punto 2 ->\")\n",
    "N_break =  total_breakfast[0]\n",
    "N = total_breakfast.sum()\n",
    "P_B = prob(N_break,N)\n",
    "print(f\"P(B) = {P_B:.4f}\")"
   ]
  },
  {
   "cell_type": "code",
   "execution_count": 9,
   "metadata": {},
   "outputs": [
    {
     "name": "stdout",
     "output_type": "stream",
     "text": [
      "Punto 3 ->\n",
      "P(M' and B) = 0.1849\n"
     ]
    }
   ],
   "source": [
    "# Punto 3 \n",
    "print(\"Punto 3 ->\")\n",
    "N_woman_and_break =  tabla.iloc[0]['woman']\n",
    "N = total_breakfast.sum()\n",
    "P_notM_and_break = prob(N_woman_and_break,N)\n",
    "print(f\"P(M' and B) = {P_notM_and_break:.4f}\")"
   ]
  },
  {
   "cell_type": "code",
   "execution_count": 11,
   "metadata": {},
   "outputs": [
    {
     "name": "stdout",
     "output_type": "stream",
     "text": [
      "Punto 4 ->\n",
      "P(M' or B) = 0.7815\n"
     ]
    }
   ],
   "source": [
    "# Punto 4\n",
    "print(\"Punto 4 ->\")\n",
    "N_woman_or_break =  total_sex['woman'] + total_breakfast[0] - tabla.iloc[0]['woman']\n",
    "N = total_breakfast.sum()\n",
    "P_notM_or_break = prob(N_woman_or_break,N)\n",
    "print(f\"P(M' or B) = {P_notM_or_break:.4f}\")\n"
   ]
  },
  {
   "cell_type": "code",
   "execution_count": 12,
   "metadata": {},
   "outputs": [
    {
     "name": "stdout",
     "output_type": "stream",
     "text": [
      "Punto 5 ->\n",
      "P(B or M) = 0.7227\n"
     ]
    }
   ],
   "source": [
    "# Punto 5\n",
    "print(\"Punto 5 ->\")\n",
    "N_break_or_man =  total_sex['man'] + total_breakfast[0] - tabla.iloc[0]['man'] # Mirar si se puede hacer de otra forma\n",
    "                                                                               # Definicion\n",
    "N = total_sex.sum()\n",
    "P_B_dado_M = prob(N_break_or_man,N)\n",
    "print(f\"P(B or M) = {P_B_dado_M:.4f}\")"
   ]
  },
  {
   "cell_type": "code",
   "execution_count": 28,
   "metadata": {},
   "outputs": [
    {
     "name": "stdout",
     "output_type": "stream",
     "text": [
      "Punto 6 ->\n",
      "P(M' and B') = 0.2773\n"
     ]
    }
   ],
   "source": [
    "# Punto 6 \n",
    "print(\"Punto 6 ->\")\n",
    "N_notBreak_and_woman =  tabla.iloc[1]['woman']\n",
    "N = total_breakfast.sum()\n",
    "P_notM_dado_notB = prob(N_notBreak_and_woman,N)\n",
    "print(f\"P(M' and B') = {P_notM_dado_notB:.4f}\")"
   ]
  },
  {
   "cell_type": "code",
   "execution_count": 31,
   "metadata": {},
   "outputs": [
    {
     "name": "stdout",
     "output_type": "stream",
     "text": [
      "Punto 7 ->\n",
      "P(B|M) = 0.5938\n"
     ]
    }
   ],
   "source": [
    "# Punto 7\n",
    "print(\"Punto 7 ->\")\n",
    "N_break_and_man =  tabla.iloc[0]['man']\n",
    "N_man = total_sex['man']\n",
    "P_M_dado_B = prob(N_break_and_man,N_man)\n",
    "print(f\"P(B|M) = {P_M_dado_B:.4f}\")"
   ]
  },
  {
   "cell_type": "code",
   "execution_count": 32,
   "metadata": {},
   "outputs": [
    {
     "name": "stdout",
     "output_type": "stream",
     "text": [
      "Punto 8 ->\n",
      "P(M|B) = 0.6333\n"
     ]
    }
   ],
   "source": [
    "# Punto 8\n",
    "print(\"Punto 8 ->\")\n",
    "N_break_and_man =  tabla.iloc[0]['man']\n",
    "N_breakfast = total_breakfast[0]\n",
    "P_M_dado_B = prob(N_break_and_man,N_breakfast)\n",
    "print(f\"P(M|B) = {P_M_dado_B:.4f}\")"
   ]
  },
  {
   "cell_type": "markdown",
   "metadata": {},
   "source": [
    "### Ejemplo 2\n",
    "\n",
    "Una encuesta de 4826 adultos jóvenes (de 19 a 25 años) seleccionados al azar preguntó: \"¿Cuáles crees que son las posibilidades de que tengas mucho más que un ingreso de clase media a los 30 años?\" La siguiente tabla muestra las respuestas. \n",
    "\n",
    "|Opinion|Mujer|Hombre|Total|\n",
    "|---|---|---|---|\n",
    "|Casi ninguna | 96 | 98 | 194 |\n",
    "|Alguna posibilidad pero probablemente no | 426 | 286 | 712 |\n",
    "|Una probabilidad de 50-50 | 696 | 720 | 1416 | \n",
    "|Gran probabilidad |663 | 758 | 1421 |\n",
    "|Practicamente segura |486 | 597 | 1083 |\n",
    "|Total |2367 | 2459 | 4826 |\n",
    "\n",
    "\n",
    "Si se elije un encuestado al azar:\n",
    "1. Si la persona seleccionada es un hombre, cual es la probabilidad de que esta responda \"Practicamente segura\"\n",
    "2. Si la persona seleccionada responde \"Alguna posibilidad pero probablemente no\" cual es la probabilidad de que la persona sea mujer\n",
    "3. Encuentre $P(Gran\\;probabilidad | Mujer)$\n",
    "4. Encuentre $P(Gran\\;probabilidad)$\n",
    "5. Los eventos \"Gran probabilidad\" y \"Mujer\" son eventos independientes\n",
    "\n",
    "#### Solución a mano\n",
    "\n",
    "Primero definimos los eventos asociados al problema:\n",
    "* $M$: La persona seleccionada es Mujer.\n",
    "* $H$: La persona seleccionada es Hombre\n",
    "* $R_1$: La persona seleccionada respondió \"Casi ninguna\"\n",
    "* $R_2$: La persona seleccionada respondió \"Alguna posibilidad pero probablemente no\"\n",
    "* $R_3$: La persona seleccionada respondió \"Una probabilidad de 50-50\"\n",
    "* $R_4$: La persona seleccionada respondió \"Gran probabilidad\"\n",
    "* $R_5$: La persona seleccionada respondió \"Practicamente segura\"\n",
    "\n",
    "Ahora teniendo en cuenta esto, procedamos a calcular lo que se pide:\n",
    "1. $P(R_5|H) = ?$\n",
    "\n",
    "   Sabemos que la formula de probabilidad condicional esta dada por:\n",
    "\n",
    "   $$P(R_5|H) = \\frac{P(R_5\\;and\\;H)}{P(H)}$$\n",
    "\n",
    "   De la tabla tenemos:\n",
    "\n",
    "   $P(R_5\\;and\\;H) =  \\frac{N(R_5\\;and\\;H)}{N} =  \\frac{597}{4826} = 0.1237$\n",
    "\n",
    "   $P(H) = \\frac{N(H)}{N} = \\frac{2459}{4826} = 0.5095$\n",
    "\n",
    "   Al reemplazar los valores anteriores tenemos:\n",
    "\n",
    "   $$P(R_5|H) = \\frac{P(R_5\\;and\\;H)}{P(H)} = \\frac{\\frac{597}{4826}}{\\frac{2459}{4826}}$$\n",
    "\n",
    "   $$P(R_5|H) = \\frac{597}{2459} = 0.2428$$\n",
    "\n",
    "   Otra forma de hallar lo anterior seria aplicando la definición de probabilidad condicional:\n",
    "\n",
    "   $$P(R_5|H) = \\frac{N(R_5\\;and\\;H)}{N(H)} = \\frac{597}{2459} = 0.2428$$ \n",
    "\n",
    "   Como se puede ver en el procedimiento anterior, los resultados coinciden.\n",
    "\n",
    "2. $P(M|R_2) = ?$\n",
    "   \n",
    "   Para el caso, vamos a aplicar la definición de probabilidad condicional pues reduce la cantidad de calculos necesarios para llegar a la respuesta:\n",
    "\n",
    "   $$P(M|R_2) = \\frac{N(M\\;and\\;R_2)}{N(R_2)} = \\frac{426}{712} = 0.5983$$\n",
    "\n",
    "\n",
    "3. $P(R_4|M) = ?$\n",
    "   \n",
    "   Realizando los calculos tenemos:\n",
    "\n",
    "   $$P(R_4|M) = \\frac{N(R_4\\;and\\;M)}{N(M)} = \\frac{663}{2367} = 0.2801$$\n",
    "   \n",
    "4. $P(R_4) = ?$\n",
    "\n",
    "   En este caso tenemos:\n",
    "\n",
    "   $$P(R_4) = \\frac{N(R_4)}{N} = \\frac{1421}{4826} = 0.2944$$\n",
    "\n",
    "5. Para responder si $R_4$ y $M$ son eventos independientes se debe cumplir que $P(R_4|M) = P(R_4)$ sin embargo, al analizar las respuestas de los puntos 3 y 4 vemos que $P(R_4|M) \\ne P(R_4)$ por lo que estos eventos **No son independientes**\n",
    "\n",
    "   \n",
    "   "
   ]
  },
  {
   "cell_type": "markdown",
   "metadata": {},
   "source": [
    "#### Solución usando python"
   ]
  },
  {
   "cell_type": "code",
   "execution_count": 37,
   "metadata": {},
   "outputs": [
    {
     "data": {
      "text/html": [
       "<div>\n",
       "<style scoped>\n",
       "    .dataframe tbody tr th:only-of-type {\n",
       "        vertical-align: middle;\n",
       "    }\n",
       "\n",
       "    .dataframe tbody tr th {\n",
       "        vertical-align: top;\n",
       "    }\n",
       "\n",
       "    .dataframe thead th {\n",
       "        text-align: right;\n",
       "    }\n",
       "</style>\n",
       "<table border=\"1\" class=\"dataframe\">\n",
       "  <thead>\n",
       "    <tr style=\"text-align: right;\">\n",
       "      <th></th>\n",
       "      <th>respuestas</th>\n",
       "      <th>mujeres</th>\n",
       "      <th>hombres</th>\n",
       "    </tr>\n",
       "  </thead>\n",
       "  <tbody>\n",
       "    <tr>\n",
       "      <th>0</th>\n",
       "      <td>1</td>\n",
       "      <td>96</td>\n",
       "      <td>98</td>\n",
       "    </tr>\n",
       "    <tr>\n",
       "      <th>1</th>\n",
       "      <td>2</td>\n",
       "      <td>426</td>\n",
       "      <td>286</td>\n",
       "    </tr>\n",
       "    <tr>\n",
       "      <th>2</th>\n",
       "      <td>3</td>\n",
       "      <td>696</td>\n",
       "      <td>720</td>\n",
       "    </tr>\n",
       "    <tr>\n",
       "      <th>3</th>\n",
       "      <td>4</td>\n",
       "      <td>663</td>\n",
       "      <td>758</td>\n",
       "    </tr>\n",
       "    <tr>\n",
       "      <th>4</th>\n",
       "      <td>5</td>\n",
       "      <td>486</td>\n",
       "      <td>597</td>\n",
       "    </tr>\n",
       "  </tbody>\n",
       "</table>\n",
       "</div>"
      ],
      "text/plain": [
       "  respuestas  mujeres  hombres\n",
       "0          1       96       98\n",
       "1          2      426      286\n",
       "2          3      696      720\n",
       "3          4      663      758\n",
       "4          5      486      597"
      ]
     },
     "execution_count": 37,
     "metadata": {},
     "output_type": "execute_result"
    }
   ],
   "source": [
    "# Datos\n",
    "data = {\n",
    "  \"respuestas\": np.array([1, 2, 3, 4, 5], dtype='str'),\n",
    "  \"mujeres\": np.array([96, 426, 696, 663, 486]),\n",
    "  \"hombres\": np.array([98, 286, 720, 758, 597])\n",
    "}\n",
    "tabla = pd.DataFrame(data)\n",
    "tabla"
   ]
  },
  {
   "cell_type": "code",
   "execution_count": 38,
   "metadata": {},
   "outputs": [
    {
     "data": {
      "text/plain": [
       "mujeres    2367\n",
       "hombres    2459\n",
       "dtype: int64"
      ]
     },
     "execution_count": 38,
     "metadata": {},
     "output_type": "execute_result"
    }
   ],
   "source": [
    "# Totales\n",
    "total_sexo = tabla[tabla.columns[1:3]].sum()\n",
    "total_sexo"
   ]
  },
  {
   "cell_type": "code",
   "execution_count": 39,
   "metadata": {},
   "outputs": [
    {
     "data": {
      "text/plain": [
       "0     194\n",
       "1     712\n",
       "2    1416\n",
       "3    1421\n",
       "4    1083\n",
       "dtype: int64"
      ]
     },
     "execution_count": 39,
     "metadata": {},
     "output_type": "execute_result"
    }
   ],
   "source": [
    "# Totales\n",
    "total_respuestas = tabla.sum(axis = \"columns\", numeric_only = True)\n",
    "total_respuestas"
   ]
  },
  {
   "cell_type": "code",
   "execution_count": 40,
   "metadata": {},
   "outputs": [
    {
     "name": "stdout",
     "output_type": "stream",
     "text": [
      "Punto 1 -> \n",
      "P(R5|H) = 0.2428\n"
     ]
    }
   ],
   "source": [
    "# Punto 1\n",
    "print(\"Punto 1 -> \")\n",
    "N_R5_and_H = tabla.iloc[4]['hombres']\n",
    "N_H = total_sexo[1]\n",
    "P_R5_dado_H = prob(N_R5_and_H, N_H)\n",
    "print(f\"P(R5|H) = {P_R5_dado_H:0.4f}\")\n"
   ]
  },
  {
   "cell_type": "code",
   "execution_count": 41,
   "metadata": {},
   "outputs": [
    {
     "name": "stdout",
     "output_type": "stream",
     "text": [
      "Punto 2 -> \n",
      "P(M|R2) = 0.5983\n"
     ]
    }
   ],
   "source": [
    "print(\"Punto 2 -> \")\n",
    "N_M_and_R2 = tabla.iloc[1]['mujeres']\n",
    "N_R2 = total_respuestas[1]\n",
    "P_M_dado_R2 = prob(N_M_and_R2, N_R2)\n",
    "print(f\"P(M|R2) = {P_M_dado_R2:0.4f}\")"
   ]
  },
  {
   "cell_type": "code",
   "execution_count": 42,
   "metadata": {},
   "outputs": [
    {
     "name": "stdout",
     "output_type": "stream",
     "text": [
      "Punto 3 -> \n",
      "P(R4|M) = 0.2801\n"
     ]
    }
   ],
   "source": [
    "print(\"Punto 3 -> \")\n",
    "N_R4_and_M = tabla.iloc[3]['mujeres']\n",
    "N_M = total_sexo[0]\n",
    "P_R4_dado_M = prob(N_R4_and_M, N_M)\n",
    "print(f\"P(R4|M) = {P_R4_dado_M:0.4f}\")"
   ]
  },
  {
   "cell_type": "code",
   "execution_count": 43,
   "metadata": {},
   "outputs": [
    {
     "name": "stdout",
     "output_type": "stream",
     "text": [
      "Punto 4 -> \n",
      "P(R4) = 0.2944\n"
     ]
    }
   ],
   "source": [
    "print(\"Punto 4 -> \")\n",
    "N_R4 = total_respuestas[3]\n",
    "N = total_sexo.sum()\n",
    "P_R4 = prob(N_R4, N)\n",
    "print(f\"P(R4) = {P_R4:0.4f}\")"
   ]
  },
  {
   "cell_type": "markdown",
   "metadata": {},
   "source": [
    "### Ejemplo 3\n",
    "\n",
    "La siguiente tabla relaciona los pesos y las alturas de un grupo de personas que participan en un estudio de observación.\n",
    "\n",
    "|Peso|Alto|Medio|Bajo|\n",
    "|---|---|---|---|\n",
    "|Obeso|18|28|14|\n",
    "|Normal|20|51|28|\n",
    "|Bajo peso|12|25|9|\n",
    "\n",
    "Se pide:\n",
    "1. Calcule el total de cada fila y columna\n",
    "2. Calcule la probabilidad de que una persona elegida al azar de este grupo sea alta.\n",
    "3. Calcule la probabilidad de que una persona elegida al azar de este grupo sea obesa y alta.\n",
    "4. Calcule la probabilidad de que una persona elegida al azar de este grupo sea alta dado que es obesa\n",
    "5. Calcule la probabilidad de que una persona elegida al azar de este grupo sea obesa, dado que es alta.\n",
    "6. Calcule la probabilidad de que una persona elegida al azar de este grupo sea alta y de bajo peso.\n",
    "7. ¿Los eventos obeso y alto son independientes?\n"
   ]
  },
  {
   "cell_type": "markdown",
   "metadata": {},
   "source": [
    "#### Solución a mano\n",
    "\n",
    "Inicialmente definamos los diferentes eventos simples asociados al problema:\n",
    "* $o$: Evento de que la persona elegida sea obesa.\n",
    "* $mw$: Evento de que la persona elegida tenga peso normal.\n",
    "* $lw$: Evento de que la persona elegida tenga bajo peso.\n",
    "* $hh$: Evento de que la persona elegida sea alta.\n",
    "* $mh$: Evento de que la persona elegida sea mediana.\n",
    "* $lh$: Evento de que la persona elegida sea bajita.\n",
    "\n",
    "Ahora vamos a proceder a realizar cada uno de los calculos que se solicitan:\n",
    "\n",
    "1. Total de cada fila:\n",
    "   * **Total pesos**:\n",
    "     * **Obeso**: $N(o) = 18 + 28 + 14 = 60$ \n",
    "     * **Normal**: $N(mw) = 20 + 51 + 28 = 99$ \n",
    "     * **Bajo peso**: $N(lw) = 12 + 25 + 9 = 46 $ \n",
    "   * **Total alturas**: \n",
    "     * **Alto**: $N(hh) = 18 + 20 + 12 = 50$ \n",
    "     * **Medio**: $N(mh) = 28 + 51+ 25 = 104$ \n",
    "     * **Bajo**: $N(lh) = 14 + 28 + 9 = 51$ \n",
    "   * **Total participantes**: $N = N(o) + N(mw) + N(lw) = 60 + 99 + 46 = 205$\n",
    "\n",
    "2. $P(hh) = ?$\n",
    "   \n",
    "   Empleando los calculos previamente realizados tenemos:\n",
    "\n",
    "   $$P(hh) = \\frac{N(hh)}{N} = \\frac{50}{205} = 0.2439$$\n",
    "\n",
    "3. $P(o\\;and\\;hh) = ?$\n",
    "\n",
    "   Usando la tabla y los calculos realizados en el punto 1 tenemos:\n",
    "   \n",
    "   $$P(o\\;and\\;hh) = \\frac{N(o\\;and\\;hh)}{N} = \\frac{18}{205} = 0.0878$$\n",
    "\n",
    "4. $P(hh|o) = ?$\n",
    "   \n",
    "   Sabemos que $P(hh|o) = \\frac{P(hh\\;and\\;o)}{P(o)}$\n",
    "\n",
    "   $P(hh\\;and\\;o) = \\frac{N(hh\\;and\\;o)}{N} = \\frac{18}{205}$\n",
    "\n",
    "   $P(o) = \\frac{N(o)}{N} = \\frac{60}{205}$\n",
    "\n",
    "   Luego:\n",
    "\n",
    "   $$ \n",
    "   P(hh|o) = \\frac{P(hh\\;and\\;o)}{P(o)} = \\frac{\\frac{18}{205}}{\\frac{60}{205}} = \\frac{18}{60} = 0.3\n",
    "   $$\n",
    "\n",
    "5. $P(o|hh) = ?$\n",
    "   \n",
    "   Se procede de manera muy similar al punto anterior:\n",
    "\n",
    "   $P(o\\;and\\;hh) = \\frac{N(o\\;and\\;hh)}{N} = \\frac{18}{205}$\n",
    "\n",
    "   $P(hh) = \\frac{N(hh)}{N} = \\frac{50}{205}$\n",
    "\n",
    "   Luego:\n",
    "\n",
    "   $$\n",
    "   P(o|hh) = \\frac{P(o\\;and\\;hh)}{P(hh)} = \\frac{\\frac{18}{205}}{\\frac{50}{205}} = \\frac{18}{50} = 0.36\n",
    "   $$\n",
    "   \n",
    "\n",
    "6. $P(hh\\;and\\;lw) = ?$\n",
    "   \n",
    "   De la tabla tenemos que:\n",
    "\n",
    "   $$\n",
    "   P(hh\\;and\\;lw) = \\frac{N(hh\\;and\\;lw)}{N} = \\frac{12}{205} =  0.0585\n",
    "   $$\n",
    "   \n",
    "7. Si comparamos $P(hh|o) = 0.3$ con $P(hh) = 0.2439$ vemos que los resultados son diferentes y por lo tanto, estos eventos no son independientes."
   ]
  },
  {
   "cell_type": "markdown",
   "metadata": {},
   "source": [
    "#### Solución usando Python"
   ]
  },
  {
   "cell_type": "code",
   "execution_count": 49,
   "metadata": {},
   "outputs": [
    {
     "data": {
      "text/html": [
       "<div>\n",
       "<style scoped>\n",
       "    .dataframe tbody tr th:only-of-type {\n",
       "        vertical-align: middle;\n",
       "    }\n",
       "\n",
       "    .dataframe tbody tr th {\n",
       "        vertical-align: top;\n",
       "    }\n",
       "\n",
       "    .dataframe thead th {\n",
       "        text-align: right;\n",
       "    }\n",
       "</style>\n",
       "<table border=\"1\" class=\"dataframe\">\n",
       "  <thead>\n",
       "    <tr style=\"text-align: right;\">\n",
       "      <th></th>\n",
       "      <th>peso</th>\n",
       "      <th>alto</th>\n",
       "      <th>medio</th>\n",
       "      <th>bajo</th>\n",
       "    </tr>\n",
       "  </thead>\n",
       "  <tbody>\n",
       "    <tr>\n",
       "      <th>0</th>\n",
       "      <td>obeso</td>\n",
       "      <td>18</td>\n",
       "      <td>28</td>\n",
       "      <td>14</td>\n",
       "    </tr>\n",
       "    <tr>\n",
       "      <th>1</th>\n",
       "      <td>normal</td>\n",
       "      <td>20</td>\n",
       "      <td>51</td>\n",
       "      <td>28</td>\n",
       "    </tr>\n",
       "    <tr>\n",
       "      <th>2</th>\n",
       "      <td>bajo_peso</td>\n",
       "      <td>12</td>\n",
       "      <td>25</td>\n",
       "      <td>9</td>\n",
       "    </tr>\n",
       "  </tbody>\n",
       "</table>\n",
       "</div>"
      ],
      "text/plain": [
       "        peso  alto  medio  bajo\n",
       "0      obeso    18     28    14\n",
       "1     normal    20     51    28\n",
       "2  bajo_peso    12     25     9"
      ]
     },
     "execution_count": 49,
     "metadata": {},
     "output_type": "execute_result"
    }
   ],
   "source": [
    "tabla = pd.DataFrame({\n",
    "  \"peso\": np.array([\"obeso\", \"normal\", \"bajo_peso\"], dtype='str'),\n",
    "  \"alto\": np.array([18, 20, 12], dtype='int'),\n",
    "  \"medio\": np.array([28, 51, 25], dtype='int'),\n",
    "  \"bajo\": np.array([14, 28, 9], dtype='int')\n",
    "})\n",
    "tabla"
   ]
  },
  {
   "cell_type": "code",
   "execution_count": 50,
   "metadata": {},
   "outputs": [
    {
     "name": "stdout",
     "output_type": "stream",
     "text": [
      "Punto 1 -> Suma de las columnas\n"
     ]
    },
    {
     "data": {
      "text/plain": [
       "alto      50\n",
       "medio    104\n",
       "bajo      51\n",
       "dtype: int64"
      ]
     },
     "execution_count": 50,
     "metadata": {},
     "output_type": "execute_result"
    }
   ],
   "source": [
    "# Punto 1 - Total en cada columna\n",
    "print(\"Punto 1 -> Suma de las columnas\")\n",
    "alturas = tabla.sum(axis=\"rows\", numeric_only=True)\n",
    "alturas"
   ]
  },
  {
   "cell_type": "code",
   "execution_count": 51,
   "metadata": {},
   "outputs": [
    {
     "name": "stdout",
     "output_type": "stream",
     "text": [
      "Punto 1 -> Suma de las filas (0: Obeso - 1: Normal - 2: Peso bajo)\n"
     ]
    },
    {
     "data": {
      "text/plain": [
       "0    60\n",
       "1    99\n",
       "2    46\n",
       "dtype: int64"
      ]
     },
     "execution_count": 51,
     "metadata": {},
     "output_type": "execute_result"
    }
   ],
   "source": [
    "# Punto 1 - Total en cada fila\n",
    "print(\"Punto 1 -> Suma de las filas (0: Obeso - 1: Normal - 2: Peso bajo)\")\n",
    "pesos = tabla.sum(axis=\"columns\", numeric_only=True)\n",
    "pesos"
   ]
  },
  {
   "cell_type": "code",
   "execution_count": 52,
   "metadata": {},
   "outputs": [
    {
     "name": "stdout",
     "output_type": "stream",
     "text": [
      "Punto 1 -> Total personas encuestadas \n"
     ]
    },
    {
     "data": {
      "text/plain": [
       "205"
      ]
     },
     "execution_count": 52,
     "metadata": {},
     "output_type": "execute_result"
    }
   ],
   "source": [
    "# Punto 1 - Total personas\n",
    "print(\"Punto 1 -> Total personas encuestadas \")\n",
    "total = alturas.sum()\n",
    "total"
   ]
  },
  {
   "cell_type": "code",
   "execution_count": 53,
   "metadata": {},
   "outputs": [
    {
     "data": {
      "text/html": [
       "<div>\n",
       "<style scoped>\n",
       "    .dataframe tbody tr th:only-of-type {\n",
       "        vertical-align: middle;\n",
       "    }\n",
       "\n",
       "    .dataframe tbody tr th {\n",
       "        vertical-align: top;\n",
       "    }\n",
       "\n",
       "    .dataframe thead th {\n",
       "        text-align: right;\n",
       "    }\n",
       "</style>\n",
       "<table border=\"1\" class=\"dataframe\">\n",
       "  <thead>\n",
       "    <tr style=\"text-align: right;\">\n",
       "      <th></th>\n",
       "      <th>peso</th>\n",
       "      <th>alto</th>\n",
       "      <th>medio</th>\n",
       "      <th>bajo</th>\n",
       "    </tr>\n",
       "  </thead>\n",
       "  <tbody>\n",
       "    <tr>\n",
       "      <th>0</th>\n",
       "      <td>obeso</td>\n",
       "      <td>0.087805</td>\n",
       "      <td>0.136585</td>\n",
       "      <td>0.068293</td>\n",
       "    </tr>\n",
       "    <tr>\n",
       "      <th>1</th>\n",
       "      <td>normal</td>\n",
       "      <td>0.097561</td>\n",
       "      <td>0.248780</td>\n",
       "      <td>0.136585</td>\n",
       "    </tr>\n",
       "    <tr>\n",
       "      <th>2</th>\n",
       "      <td>bajo_peso</td>\n",
       "      <td>0.058537</td>\n",
       "      <td>0.121951</td>\n",
       "      <td>0.043902</td>\n",
       "    </tr>\n",
       "  </tbody>\n",
       "</table>\n",
       "</div>"
      ],
      "text/plain": [
       "        peso      alto     medio      bajo\n",
       "0      obeso  0.087805  0.136585  0.068293\n",
       "1     normal  0.097561  0.248780  0.136585\n",
       "2  bajo_peso  0.058537  0.121951  0.043902"
      ]
     },
     "execution_count": 53,
     "metadata": {},
     "output_type": "execute_result"
    }
   ],
   "source": [
    "# Obtención de la tabla de frecuencias (para facilitar los calculos)\n",
    "freq_tabla = pd.concat([tabla[['peso']],tabla[['alto','medio','bajo']]/total],axis=1)\n",
    "freq_tabla"
   ]
  },
  {
   "cell_type": "code",
   "execution_count": 54,
   "metadata": {},
   "outputs": [
    {
     "name": "stdout",
     "output_type": "stream",
     "text": [
      "1.00\n"
     ]
    }
   ],
   "source": [
    "# Verificación de que la suma de todas las frecuencias de uno\n",
    "sum_probs = freq_tabla[['alto','medio','bajo']].values.sum()\n",
    "print(f\"{sum_probs:.2f}\")"
   ]
  },
  {
   "cell_type": "code",
   "execution_count": 55,
   "metadata": {},
   "outputs": [
    {
     "name": "stdout",
     "output_type": "stream",
     "text": [
      "Punto 2 -> \n",
      "P(hh) = 0.2439\n"
     ]
    }
   ],
   "source": [
    "# Punto 2\n",
    "print(\"Punto 2 -> \")\n",
    "P_alta = freq_tabla[['alto']].sum()\n",
    "print(f\"P(hh) = {P_alta[0]:.4f}\")"
   ]
  },
  {
   "cell_type": "code",
   "execution_count": 56,
   "metadata": {},
   "outputs": [
    {
     "name": "stdout",
     "output_type": "stream",
     "text": [
      "Punto 3 -> \n",
      "P(o and hh) = 0.0878\n"
     ]
    }
   ],
   "source": [
    "# Punto 3\n",
    "print(\"Punto 3 -> \")\n",
    "P_obesa_and_alta = freq_tabla.iloc[0]['alto']\n",
    "print(f\"P(o and hh) = {P_obesa_and_alta:.4f}\")"
   ]
  },
  {
   "cell_type": "code",
   "execution_count": 57,
   "metadata": {},
   "outputs": [
    {
     "name": "stdout",
     "output_type": "stream",
     "text": [
      "Punto 4 -> \n",
      "P(hh|o) = 0.3000\n"
     ]
    }
   ],
   "source": [
    "# Punto 4\n",
    "print(\"Punto 4 -> \")\n",
    "P_alta_and_obesa = freq_tabla.iloc[0]['alto']\n",
    "P_obesa = freq_tabla.iloc[0][1:].sum()\n",
    "P_alta_dado_obesa = P_alta_and_obesa/P_obesa\n",
    "print(f\"P(hh|o) = {P_alta_dado_obesa:.4f}\")"
   ]
  },
  {
   "cell_type": "code",
   "execution_count": 58,
   "metadata": {},
   "outputs": [
    {
     "name": "stdout",
     "output_type": "stream",
     "text": [
      "Punto 5 -> \n",
      "P(o|hh) = 0.3600\n"
     ]
    }
   ],
   "source": [
    "# Punto 5\n",
    "print(\"Punto 5 -> \")\n",
    "P_obesa_and_alta = freq_tabla.iloc[0]['alto']\n",
    "P_alta = freq_tabla[['alto']].sum()\n",
    "P_obesa_dado_alta = P_obesa_and_alta/P_alta\n",
    "print(f\"P(o|hh) = {P_obesa_dado_alta[0]:.4f}\")"
   ]
  },
  {
   "cell_type": "code",
   "execution_count": 59,
   "metadata": {},
   "outputs": [
    {
     "name": "stdout",
     "output_type": "stream",
     "text": [
      "Punto 6 -> \n",
      "P(lw and hh) = 0.0585\n"
     ]
    }
   ],
   "source": [
    "# Punto 6\n",
    "print(\"Punto 6 -> \")\n",
    "P_bajoPeso_and_alta = freq_tabla.iloc[2]['alto']\n",
    "print(f\"P(lw and hh) = {P_bajoPeso_and_alta:.4f}\")"
   ]
  },
  {
   "cell_type": "markdown",
   "metadata": {},
   "source": [
    "# Referencias"
   ]
  },
  {
   "cell_type": "markdown",
   "metadata": {},
   "source": [
    "* https://github.com/jonkrohn/ML-foundations/blob/master/notebooks/5-probability.ipynb\n",
    "* https://github.com/jonkrohn/ML-foundations/blob/master/notebooks/6-statistics.ipynb\n",
    "* https://github.com/jonkrohn/ML-foundations\n",
    "* https://github.com/unpingco/Python-for-Probability-Statistics-and-Machine-Learning\n",
    "* https://github.com/Quantreo/UDEMY-STATISTIC-AND-PROBABILITY-for-quantitative-finance\n",
    "* https://github.com/ArmanBehnam/Courses\n",
    "* https://github.com/ElizaLo/Data-Science\n",
    "* https://github.com/Probability-Statistics-Jupyter-Notebook\n",
    "* https://ipython-books.github.io/154-computing-exact-probabilities-and-manipulating-random-variables/\n",
    "* https://realpython.com/python-itertools/\n",
    "* https://github.com/honi/uba-probabilidad-y-estadistica\n",
    "* https://www.cs.rpi.edu/~zaki/DMML/slides/pdf/ychap18.pdf\n",
    "* https://rpubs.com/jreigarcia/irisdataset\n",
    "* https://medium.com/analytics-vidhya/first-step-to-statistics-with-iris-data-3d29c0820c5d\n",
    "* https://www.kaggle.com/code/neha99/statistical-analysis-on-iris-dataset\n",
    "* https://www.kaggle.com/code/hassanamin/probability-and-statistics-with-python\n",
    "* https://www.geeksforgeeks.org/exploratory-data-analysis-on-iris-dataset/\n",
    "* http://www.lac.inpe.br/~rafael.santos/Docs/CAP394/WholeStory-Iris.html\n",
    "* https://courses.cs.ut.ee/MTAT.03.183/2017_spring/uploads/Main/example_submission.html\n",
    "* https://www.humanitiesdataanalysis.org/index.html\n",
    "* https://www.cs.bu.edu/fac/snyder/cs237/tutorials/LearningPython.html\n",
    "* https://risk-engineering.org/notebook/coins-dice.html\n",
    "* https://web.stanford.edu/class/archive/cs/cs109/cs109.1192/handouts/pythonForProbability.html\n",
    "  "
   ]
  }
 ],
 "metadata": {
  "kernelspec": {
   "display_name": "Python 3.8.8 ('base')",
   "language": "python",
   "name": "python3"
  },
  "language_info": {
   "codemirror_mode": {
    "name": "ipython",
    "version": 3
   },
   "file_extension": ".py",
   "mimetype": "text/x-python",
   "name": "python",
   "nbconvert_exporter": "python",
   "pygments_lexer": "ipython3",
   "version": "3.9.13"
  },
  "vscode": {
   "interpreter": {
    "hash": "e06ff7da33dc9620448857a90ad8b5f428f0d573d205a934d2841c8aee45ea32"
   }
  },
  "widgets": {
   "application/vnd.jupyter.widget-state+json": {
    "state": {},
    "version_major": 2,
    "version_minor": 0
   }
  }
 },
 "nbformat": 4,
 "nbformat_minor": 4
}
