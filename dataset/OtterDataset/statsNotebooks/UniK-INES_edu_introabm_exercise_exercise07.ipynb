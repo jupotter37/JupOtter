{
 "cells": [
  {
   "cell_type": "markdown",
   "id": "e61544e8-8ed9-4718-9edc-a21c11061698",
   "metadata": {},
   "source": [
    "# Exercise 07"
   ]
  },
  {
   "cell_type": "markdown",
   "id": "864c6dbc-66ce-4bbc-bd02-cda95d259dd0",
   "metadata": {},
   "source": [
    "## Changes to the Evacuation Model\n",
    "\n",
    "To enable exercises about learning and prediction, the evacuation model has been modified:\n",
    "\n",
    "* Add statistics about the number of agents escaped through each of the exits (EscapedWest, EscapedSouth, EscapedEast, EscapedNorth)\n",
    "* Introduce `turnwhenblocked_prop`: with this probability agents turn when their path is blocked by other agents\n",
    "* If an agent is blocked, its `nervousness` is increased by `NERVOUSNESS_INCREASE_BLOCKED` (default: 0.2)\n",
    "* When `random_spawn` is `False`, agents are located at the left part of the room.\n",
    "* With low probability (`SPEED_RECOVERY_PROBABILTY = 0.15`), agents with `speed==0` increase their speed again (otherwise they likely become completely inactive)\n",
    "* Add possibility to predict crowds while turning\n",
    "* Introduce agent memory to store agents' cooperativeness and the number of steps it took the agent to escape. This allows the learning of favorable values of cooperativeness accross model runs.\n",
    "* Introduce learning of `cooperativeness`\n",
    "* Introduce `switches` for agents to switch on/off various features (eg. predictcrowd) - not implemented on model level to facilitate parameter passing)\n",
    "* Double wall thickness from 1 to 2 to simulate severe bottlenecks.\n",
    "* add `__repr__` and `__str__`to Floor object"
   ]
  },
  {
   "cell_type": "markdown",
   "id": "bbf41006-01dc-4682-8d2e-7b91a471eadb",
   "metadata": {},
   "source": [
    "## Evaluation Code\n"
   ]
  },
  {
   "cell_type": "code",
   "execution_count": null,
   "id": "9d681017-1438-4b14-9e74-aefa05c6f82f",
   "metadata": {
    "tags": []
   },
   "outputs": [],
   "source": [
    "from mesa.batchrunner import batch_run\n",
    "import matplotlib.pyplot as plt\n",
    "import pandas as pd\n",
    "import numpy as np\n",
    "from matplotlib.colors import LinearSegmentedColormap\n",
    "\n",
    "import sys\n",
    "sys.path.insert(0,'../../abmodel')\n",
    "\n",
    "from fire_evacuation.model import FireEvacuation\n",
    "from fire_evacuation.agent import Human\n",
    "\n",
    "unikcolors = [np.array((80,149,200))/255, np.array((74,172,150))/255,\n",
    "                                                  np.array((234,195,114))/255, np.array((199,16,92))/255]\n",
    "uniks = LinearSegmentedColormap.from_list( 'unik', unikcolors)\n",
    "\n",
    "%matplotlib inline"
   ]
  },
  {
   "cell_type": "code",
   "execution_count": null,
   "id": "411a0c67-ecb5-463e-a74a-a18da45d9caa",
   "metadata": {
    "jupyter": {
     "source_hidden": true
    },
    "tags": []
   },
   "outputs": [],
   "source": [
    "from app import page\n",
    "page"
   ]
  },
  {
   "cell_type": "code",
   "execution_count": null,
   "id": "23d73922-de56-4f6f-8fa0-e038b51e26b4",
   "metadata": {
    "jupyter": {
     "source_hidden": true
    },
    "tags": []
   },
   "outputs": [],
   "source": [
    "def run_model(model_a, model_b, maxsteps = 100):\n",
    "    fig = plt.figure(figsize=(12, 12))\n",
    "    model_a.run(maxsteps)\n",
    "    model_b.run(maxsteps)\n",
    "    \n",
    "    ax = fig.add_subplot(2, 1, 2)\n",
    "    ax.set_xlabel(\"Steps\")\n",
    "    ax.set_ylabel(\"Number of escaped through the exit\")\n",
    "    da = model_a.datacollector.get_model_vars_dataframe()[['EscapedWest', 'EscapedSouth','EscapedEast', 'EscapedNorth']]\n",
    "    db = model_b.datacollector.get_model_vars_dataframe()[['EscapedWest', 'EscapedSouth','EscapedEast', 'EscapedNorth']]\n",
    "    da.columns = ['EscapedWest_A', 'EscapedSouth_A','EscapedEast_A', 'EscapedNorth_A']\n",
    "    db.columns = ['EscapedWest_B', 'EscapedSouth_B','EscapedEast_B', 'EscapedNorth_B']\n",
    "    da.plot(ax=ax, colormap=uniks, ls=\"solid\")\n",
    "    db.plot(ax=ax, colormap=uniks, ls=\"dashed\")\n",
    "    \n",
    "def plot_results(results):\n",
    "    data = pd.DataFrame(results)[['predictcrowd', 'Step', 'seed','EscapedWest', 'EscapedSouth','EscapedEast', 'EscapedNorth']].round(decimals=1)\n",
    "\n",
    "    data = data.groupby(data['Step'].diff().lt(1).cumsum()) \\\n",
    "        .apply(lambda x: x.set_index('Step').reindex(range(1, 101)).transform(lambda x: x.fillna(x.max()))) \\\n",
    "        .reset_index(level=0, drop=True) \\\n",
    "        .reset_index()\n",
    "\n",
    "    fig, ax = plt.subplots(figsize=(12, 7))\n",
    "    ax.set_ylabel(\"Escaped per exit\")\n",
    "    data[data['predictcrowd']==True].groupby(['Step']).agg(\"mean\").drop(columns=['predictcrowd', 'seed']).plot(ax=ax, colormap=uniks, ls=\"solid\")\n",
    "    db = data[data['predictcrowd']==False].groupby(['Step']).agg(\"mean\").drop(columns=['predictcrowd', 'seed'])\n",
    "    db.columns = ['EscapedWest_NoPredict', 'EscapedSouth_NoPredict','EscapedEast_NoPredict', 'EscapedNorth_NoPredict']\n",
    "    plot = db.plot(ax=ax, colormap=uniks, ls=\"dashed\")"
   ]
  },
  {
   "cell_type": "markdown",
   "id": "315f37d7-5b75-49f5-8096-091974807f0d",
   "metadata": {},
   "source": [
    "# Task 2 (Prediction in the evacuation model)\n",
    "\n",
    "## Subtask 2.2\n",
    "\n",
    "Currently, the time it takes to escape through a particular exit in the evacuation model (method `attempt_exit_plan()` in lines 387ff in `agent.py`) is predicted solely based on the distance from the current position to the exit door. How would you improve the prediction of time it takes to reach the exit? Try to sketch the required implementation in detail (<200 words). Provide pseudo code to illustrate your idea (learn how to write code in Markdown via *Help* > *Markdown reference*). Discuss your improvement in terms of cognitive load of a modelled actor. Implementing your proposal may help to find a suitable solution, but is no requirement. If you do so, consider implementing a switch to enable and disable your extention."
   ]
  },
  {
   "cell_type": "markdown",
   "id": "f032f7c0-58c2-4692-851c-b2023634c7d0",
   "metadata": {},
   "source": [
    "**Describe your ideas here**"
   ]
  },
  {
   "cell_type": "markdown",
   "id": "024817c6-6bdd-48ea-bace-50396aaae1c6",
   "metadata": {},
   "source": [
    "## Subtask 2.3\n",
    "\n",
    "When the switch `PREDICT_CROWD` is on, the turn() method (lines 346ff in agent.py) considers crowds such that the agent turns away from crowds. It therefore predicts the time it takes to escape from the number of agents in its field of vision (an agent does not consider that agents it perceives may head for different exits). Get a first impression whether this prediction helps by using the following code. Which three aspects can be obtained from the figure and should be considered for the analysis?"
   ]
  },
  {
   "cell_type": "code",
   "execution_count": null,
   "id": "3c889859-b587-4335-9484-682a3b47d5ae",
   "metadata": {},
   "outputs": [],
   "source": [
    "# compare two single runs wrt. crowd prediction:\n",
    "evacuation_a = FireEvacuation(floor_size = 14,\n",
    "        human_count = 70,\n",
    "        random_spawn = True,\n",
    "        alarm_believers_prop = 0.7,\n",
    "        max_speed = 2,\n",
    "        cooperation_mean = 0.3,\n",
    "        nervousness_mean = 0.5,\n",
    "        predictcrowd = True,\n",
    "        seed = 2)\n",
    "evacuation_b = FireEvacuation(floor_size = 14,\n",
    "        human_count = 70,\n",
    "        random_spawn = True,\n",
    "        alarm_believers_prop = 0.7,\n",
    "        max_speed = 2,\n",
    "        cooperation_mean = 0.3,\n",
    "        nervousness_mean = 0.5,\n",
    "        predictcrowd = False,\n",
    "        seed = 2)\n",
    "\n",
    "run_model(evacuation_a, evacuation_b, maxsteps = 100)"
   ]
  },
  {
   "cell_type": "markdown",
   "id": "ec7ce309-6d5d-4098-9a4e-9eb694f396fb",
   "metadata": {},
   "source": [
    "## Subtask 2.4"
   ]
  },
  {
   "cell_type": "markdown",
   "id": "e33db101-26a1-4241-a86b-8bb871d0481a",
   "metadata": {},
   "source": [
    "Comparing the feature of prediction for a single random seed is usually not sufficient. Specify the missing parameters and perform batch runs (50 seeds). Then, complement the function `analyse_significance_predictcrowd` to perfrom a t-test and visualise the distributions by boxplots. What is different when you set `random_spawn=False` (see description above)? Describe the results shortly, try to explain them and sketch a way to test your hypothesis (<200 words)!"
   ]
  },
  {
   "cell_type": "code",
   "execution_count": null,
   "id": "1d72a0e9-5271-4eba-94a7-8a47390b0e9b",
   "metadata": {},
   "outputs": [],
   "source": [
    "import numpy as np\n",
    "\n",
    "params = dict(\n",
    "    floor_size=14,\n",
    "    human_count=125,\n",
    "    alarm_believers_prop = 0.1,\n",
    "    max_speed = 2,\n",
    "    random_spawn = True,\n",
    "    predictcrowd = # ?,\n",
    "    cooperation_mean = 0.3,\n",
    "    nervousness_mean = 0.5,\n",
    "    seed = #? ,\n",
    ")\n",
    "\n",
    "results = batch_run(\n",
    "        FireEvacuation,\n",
    "        parameters=params,\n",
    "        iterations = 1,\n",
    "        max_steps = 200,\n",
    "    )"
   ]
  },
  {
   "cell_type": "code",
   "execution_count": null,
   "id": "598cef61-48d7-48e5-9a74-e04b3f08c127",
   "metadata": {
    "tags": []
   },
   "outputs": [],
   "source": [
    "from scipy import stats\n",
    "\n",
    "def analyse_significance_predictcrowd(data, title=\"\"):\n",
    "\n",
    "    print(f\"Analysing {title}...\")\n",
    "    \n",
    "    data = data.groupby(['predictcrowd', \"seed\"]).agg(\"mean\").reset_index()\n",
    "    # implement t-test\n",
    "\n",
    "    # Interpret the results:\n",
    "    # print appropriate messages about the t-test result, giving the level of significance\n",
    "        \n",
    "    data.boxplot(column=['Step'], by='predictcrowd', figsize = (12,6))\n",
    "    None"
   ]
  },
  {
   "cell_type": "code",
   "execution_count": null,
   "id": "65cb8c67-5a70-4969-bf42-b987bc5cbbec",
   "metadata": {
    "tags": []
   },
   "outputs": [],
   "source": [
    "data = pd.DataFrame(results)\n",
    "data = data[data['random_spawn']==True]\n",
    "analyse_significance_predictcrowd(data, title=\"Random spawn agents\")"
   ]
  },
  {
   "cell_type": "code",
   "execution_count": null,
   "id": "3a97887c-9b05-4ca5-be52-c9d7ede419b7",
   "metadata": {
    "tags": []
   },
   "outputs": [],
   "source": [
    "data = pd.DataFrame(results)\n",
    "data = data[data['random_spawn']==False]\n",
    "analyse_significance_predictcrowd(data, title=\"Clustered agents\")"
   ]
  },
  {
   "cell_type": "markdown",
   "id": "b4fea8bd-8fb5-4d0b-b59b-874a0638b334",
   "metadata": {},
   "source": [
    "You may also want to analyse the escapes through the various exits:"
   ]
  },
  {
   "cell_type": "code",
   "execution_count": null,
   "id": "8e0d3d77-39c1-4bac-8dd6-4b0c3c2e8655",
   "metadata": {
    "tags": []
   },
   "outputs": [],
   "source": [
    "data = pd.DataFrame(results)\n",
    "data = data[data['random_spawn']==False][['predictcrowd', 'Step', 'seed','EscapedWest', 'EscapedSouth','EscapedEast', 'EscapedNorth']]\n",
    "\n",
    "# extend steps to max_steps grouped by seed and predictgrowd\n",
    "data = data.groupby(data['Step'].diff().lt(1).cumsum()) \\\n",
    "    .apply(lambda x: x.set_index('Step').reindex(range(1, 201)).transform(lambda x: x.fillna(x.max()))) \\\n",
    "    .reset_index(level=0, drop=True) \\\n",
    "    .reset_index()\n",
    "\n",
    "fig, ax = plt.subplots(figsize=(12, 7))\n",
    "ax.set_ylabel(\"Escaped per exit\")\n",
    "data[data['predictcrowd']==True].groupby(['Step']).agg(\"mean\").drop(columns=['predictcrowd', 'seed']).plot(ax=ax, colormap=uniks, ls=\"solid\")\n",
    "db = data[data['predictcrowd']==False].groupby(['Step']).agg(\"mean\").drop(columns=['predictcrowd', 'seed'])\n",
    "db.columns = ['EscapedWest_NoPredict', 'EscapedSouth_NoPredict','EscapedEast_NoPredict', 'EscapedNorth_NoPredict']\n",
    "plot = db.plot(ax=ax, colormap=uniks, ls=\"dashed\")"
   ]
  },
  {
   "cell_type": "markdown",
   "id": "188d010c-033f-4fb1-a3f1-bed55444b4f3",
   "metadata": {},
   "source": [
    "**Describe your finding here (learn about Markdown syntax via Menu > Help > Markdown Reference)!**"
   ]
  },
  {
   "cell_type": "markdown",
   "id": "aadd7c17-1016-4930-af05-e3d0a066b810",
   "metadata": {},
   "source": [
    "## Subtask 2.5\n",
    "\n",
    "Find one other factor than crowd prediction (by variations in the according parameter) that has a significant impact on the evacutation time. Show appropriate plot(s) and explain the impact shortly (<100 words)."
   ]
  },
  {
   "cell_type": "markdown",
   "id": "a5a6539e-377f-46d9-908f-abf06beaa1f6",
   "metadata": {},
   "source": [
    "# Task 3 (Exploring learning in the evacuation model)\n",
    "\n",
    "Agents can learn over time from past experience, and change their decision-making methods (the algorithms or perhaps only the parameters of those algorithms) as a consequence of their experience. When learning, agents seek to improve their behaviour according to an objective function.\n",
    "\n",
    "In the evacuation model, the objective relates to the time it takes for an agent to escape the room. In this exercise, we're going to have the agents learn optimal values of cooperativeness. Therefore, agents memorise their cooperativeness and the time it takes them to leave the room. At the beginning, cooperation is changed randomly. After the memory is filled, agents identify the best evacuation (in terms of how long it takes until they escaped), choose the according cooperativeness value, and change it slightly to improve further:"
   ]
  },
  {
   "cell_type": "raw",
   "id": "8916581d-b877-4c57-9b3b-be0111708975",
   "metadata": {},
   "source": [
    "def learn(self):        \n",
    "    if not self.memory is None:\n",
    "        lastcooperativeness = self.memory[self.memory['rep'] == max(self.memory['rep'])]['cooperativeness'].iloc[0]\n",
    "\n",
    "        if self.model.modelrun < self.memorysize or self.model.rngl.random() < Human.COOPERATIVENESS_EXPLORATION:\n",
    "            self.cooperativeness = lastcooperativeness + Human.COOPERATIVENESS_CHANGE * self.model.rngl.uniform(-1.0,1.0)\n",
    "        else:\n",
    "            # determine best cooperativeness:\n",
    "            try:\n",
    "                bestcooperativeness = self.memory[\n",
    "                    self.memory['numsteps2escape'] == min(\n",
    "                        self.memory[(self.memory['rep'] > (max(self.memory['rep']) - self.memorysize))]\n",
    "                        ['numsteps2escape'])]['cooperativeness'].iloc[0]                                         \n",
    "            self.cooperativeness = lastcooperativeness + (bestcooperativeness - lastcooperativeness) * \n",
    "                Human.COOPERATIVENESS_CHANGE"
   ]
  },
  {
   "cell_type": "markdown",
   "id": "894b7261-feb7-4f25-b859-88bb4edb6c29",
   "metadata": {},
   "source": [
    "## Subtask 3.1\n",
    "\n",
    "Describe the meaning of the two parameter `COOPERATIVENESS_EXPLORATION` and `COOPERATIVENESS_CHANGE`. What makes learning difficult in the evacuation model? Discuss two reasons (think of determinism/path-dependency and coordination) (<200 words).\n",
    "\n",
    "    COOPERATIVENESS_EXPLORATION = 0.0\n",
    "    COOPERATIVENESS_CHANGE = 0.2\n",
    "    \n",
    "Execute the following code:"
   ]
  },
  {
   "cell_type": "code",
   "execution_count": null,
   "id": "d82e1e0a-79b8-46ca-b473-8f770086b1e6",
   "metadata": {
    "tags": []
   },
   "outputs": [],
   "source": [
    "from mesa.batchrunner import batch_run\n",
    "import matplotlib.pyplot as plt\n",
    "import pandas as pd\n",
    "import numpy as np\n",
    "from matplotlib.colors import LinearSegmentedColormap\n",
    "\n",
    "import sys\n",
    "sys.path.insert(0,'../../abmodel')\n",
    "\n",
    "from fire_evacuation.model import FireEvacuation\n",
    "from fire_evacuation.agent import Human\n",
    "\n",
    "\n",
    "unikcolors = [np.array((80,149,200))/255, np.array((74,172,150))/255,\n",
    "                                                  np.array((234,195,114))/255, np.array((199,16,92))/255]\n",
    "uniks = LinearSegmentedColormap.from_list( 'unik', unikcolors)\n",
    "\n",
    "def run_model(model_a, model_b, maxsteps = 100):\n",
    "    fig = plt.figure(figsize=(12, 12))\n",
    "    model_a.run(maxsteps)\n",
    "    model_b.run(maxsteps)\n",
    "    \n",
    "    ax = fig.add_subplot(2, 1, 2)\n",
    "    ax.set_xlabel(\"Steps\")\n",
    "    ax.set_ylabel(\"Number of escaped through the exit\")\n",
    "    da = model_a.datacollector.get_model_vars_dataframe()[['EscapedWest', 'EscapedSouth','EscapedEast', 'EscapedNorth']]\n",
    "    db = model_b.datacollector.get_model_vars_dataframe()[['EscapedWest', 'EscapedSouth','EscapedEast', 'EscapedNorth']]\n",
    "    db.columns = ['EscapedWest_B', 'EscapedSouth_B','EscapedEast_B', 'EscapedNorth_B']\n",
    "    da.plot(ax=ax, colormap=uniks, ls=\"solid\")\n",
    "    db.plot(ax=ax, colormap=uniks, ls=\"dashed\")"
   ]
  },
  {
   "cell_type": "markdown",
   "id": "6e14d258-be18-4d47-beb6-706c389ca658",
   "metadata": {},
   "source": [
    "When commenting in the line\n",
    "\n",
    "`memories = memories[memories['agent'].values == observedAgent]`\n",
    "\n",
    "learning only applies to `observedAgent`."
   ]
  },
  {
   "cell_type": "code",
   "execution_count": null,
   "id": "bb950927-046a-4275-b705-0cc9c294a6cb",
   "metadata": {},
   "outputs": [],
   "source": [
    "from IPython.utils import io\n",
    "observedAgent = 7\n",
    "\n",
    "evacuation = FireEvacuation(floor_size = 14,\n",
    "        human_count = 90,\n",
    "        alarm_believers_prop = 0.7,\n",
    "        max_speed = 2,\n",
    "        cooperation_mean = 0.3,\n",
    "        nervousness_mean = 0.5,\n",
    "        predictcrowd = True,\n",
    "        agentmemorysize = 7,\n",
    "        seed = 3)\n",
    "\n",
    "# Run the model\n",
    "evacuation.run(100)\n",
    "\n",
    "# Store the agent memory\n",
    "memories = evacuation.get_agentmemories()\n",
    "#Allow learning only for observed agent if commented in\n",
    "#memories = memories[memories['agent'].values == observedAgent]\n",
    "\n",
    "# Rerun the model starting with state of agents' memory of last run\n",
    "for _ in range(0,20):\n",
    "    evacuation = FireEvacuation(floor_size = 14,\n",
    "            human_count = 70,\n",
    "            alarm_believers_prop = 1.0,\n",
    "            max_speed = 2,\n",
    "            cooperation_mean = 0.3,\n",
    "            nervousness_mean = 0.5,\n",
    "            predictcrowd = True,\n",
    "            agentmemories = memories,\n",
    "            agentmemorysize = 7,\n",
    "            seed = 3)\n",
    "    evacuation.run(100)\n",
    "    memories = evacuation.get_agentmemories()\n",
    "    #Allow learning only for observed agent if commented in\n",
    "    #memories = memories[memories['agent'].values == observedAgent]\n",
    "    counter = 0\n",
    "    steps2escape = 0\n",
    "    cooperativeness = 0\n",
    "    for agent in evacuation.schedule.agents:\n",
    "        if isinstance(agent, Human):\n",
    "            counter +=1\n",
    "            steps2escape += agent.numsteps2escape\n",
    "            cooperativeness += agent.cooperativeness\n",
    "\n",
    "    print(f\"Avg. steps to escape: {steps2escape/counter:.2f} | cooperativeness: {cooperativeness/counter:.2f}\"\n",
    "          f\" | last step: {evacuation.schedule.steps}\")"
   ]
  },
  {
   "cell_type": "code",
   "execution_count": null,
   "id": "d433ca11-75e5-4a91-b37d-e6d0620d02ac",
   "metadata": {},
   "outputs": [],
   "source": [
    "# You may want to expore single agent's memory. Note that only the last *memorysize* entries are considered.\n",
    "observedAgent = 3\n",
    "memories = evacuation.get_agentmemories()\n",
    "df = memories[memories['agent'].values==observedAgent]\n",
    "df.sort_values('rep').set_index('rep').drop(columns=['cooperativeness','agent']).plot()\n",
    "df.sort_values('cooperativeness').set_index('cooperativeness').drop(columns=['rep','agent']).plot()\n",
    "df"
   ]
  },
  {
   "cell_type": "code",
   "execution_count": null,
   "id": "dd7c6cc4-309d-45f1-b255-418ffb3eafdf",
   "metadata": {
    "tags": []
   },
   "outputs": [],
   "source": [
    "# You may want to expore single agent's memory. Note that only the last *memorysize* entries are considered.\n",
    "observedAgent = 10\n",
    "memories = evacuation.get_agentmemories()\n",
    "df = memories[memories['agent'].values==observedAgent]\n",
    "df.sort_values('rep').set_index('rep').drop(columns=['cooperativeness','agent']).plot()\n",
    "df.sort_values('cooperativeness').set_index('cooperativeness').drop(columns=['rep','agent']).plot()\n",
    "df"
   ]
  },
  {
   "cell_type": "markdown",
   "id": "41caa6b6-edb8-4760-b1f4-062bc860cb97",
   "metadata": {},
   "source": [
    "As you may observe, the implemented way of learning is not always successful. What makes learning difficult in the evacuation model? Discuss two reasons (think of determinism/path-dependency and coordination) (<200 words)."
   ]
  },
  {
   "cell_type": "markdown",
   "id": "54c26fad-64bc-4ecc-ad56-1f97ff725c24",
   "metadata": {},
   "source": [
    "## Subtask 3.2\n",
    "\n",
    "Find arguments pro and contra the statement that changing cooperativeness level in the evacuation model is learning (format as list)!"
   ]
  },
  {
   "cell_type": "code",
   "execution_count": null,
   "id": "6b1b7cff-2fcd-4567-ae15-4d6ba93d04cc",
   "metadata": {},
   "outputs": [],
   "source": []
  }
 ],
 "metadata": {
  "kernelspec": {
   "display_name": "abmodel1",
   "language": "python",
   "name": "abmodel1"
  },
  "language_info": {
   "codemirror_mode": {
    "name": "ipython",
    "version": 3
   },
   "file_extension": ".py",
   "mimetype": "text/x-python",
   "name": "python",
   "nbconvert_exporter": "python",
   "pygments_lexer": "ipython3",
   "version": "3.10.12"
  }
 },
 "nbformat": 4,
 "nbformat_minor": 5
}
