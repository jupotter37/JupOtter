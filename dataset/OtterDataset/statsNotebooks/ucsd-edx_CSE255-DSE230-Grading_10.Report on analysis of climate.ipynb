{
 "cells": [
  {
   "cell_type": "markdown",
   "metadata": {
    "deletable": true,
    "editable": true,
    "run_control": {
     "frozen": false,
     "read_only": false
    }
   },
   "source": [
    "# North Eastern Califonia and Western Nevada Weather Analysis\n",
    "\n",
    "This is a report on the historical analysis of weather patterns in an area that approximately overlaps the area shown in the figure below. The **majority of data** is from weather stations in the northern part of the Sierra Nevada in the **California** portion of the rounded red block. The height of the mountains in the **Sierra Nevada** increases gradually from north to south and the height of the peaks in the red block region vary between 5,000 feet (1,500 m) to 9,000 feet. ( https://en.wikipedia.org/wiki/Sierra_Nevada_(U.S.) )\n",
    "\n",
    "<p><img src=\"r_figures/overview_region.png\" /></p>\n",
    "\n",
    "The data we will use here comes from [NOAA](https://www.ncdc.noaa.gov/). Specifically, it was downloaded from This [FTP site](ftp://ftp.ncdc.noaa.gov/pub/data/ghcn/daily/).\n",
    "\n",
    "We focused on six measurements:\n",
    "* **TMIN, TMAX:** the daily minimum and maximum temperature.\n",
    "* **TOBS:** The average temperature for each day.\n",
    "* **PRCP:** Daily Percipitation (in mm)\n",
    "* **SNOW:** Daily snowfall (in mm)\n",
    "* **SNWD:** The depth of accumulated snow.\n",
    "\n",
    "## Sanity-check: comparison with outside sources\n",
    "\n",
    "<p>We start by comparing some of the general statistics with graphs that we obtained from a site called <a href=\"http://www.usclimatedata.com/climate/truckee/california/united-states/usca1163\" target=\"_blank\">US Climate Data</a> The graph below shows the daily minimum and maximum temperatures for each month, as well as the total precipitation for each month in Truckee, CA which is almost at the center of the region of analysis .</p>\n",
    "\n",
    "<p>&nbsp;</p>\n",
    "\n",
    "<p><img src=\"r_figures/truckee_ca_mod.JPG\" /></p>\n",
    "<p>&nbsp;</p>\n",
    "<p>&nbsp;</p>\n",
    "\n",
    "\n",
    "\n",
    "\n",
    "<p>&nbsp;</p>\n",
    "\n",
    "<p>We see that the min and max daily&nbsp;temperature mostly agree with the ones we got from our data.</p>\n",
    "\n",
    "<p>&nbsp;</p>\n",
    "\n",
    "<p><img alt=\"tmin_tmax.png\" src=\"r_figures/tmin_tmax.png\" style=\"height:300px; width:800px\" /></p>\n",
    "\n",
    "<p>We can compare the precipitation between the data and the graph obtained from US Climate Data.&nbsp;we need to translate millimeter/day to mm/month. This can be done by considering the precipitation readings over a month as the average of the days in it. The **shape and hence the pattern of precipitation** across various years in similar to US-Climate-Data, hence it rains at similar intances across a year according to both sources. The diffrence in readings of the US-Climate-Data is captured by the **mean+std-curve** of our data. This variation is because our data contains the average across various stations around Truckee and few of them fall in the **RAIN SHADOW REGION** of Sierra Nevada. Therefore, these stations receive lesser rainfall causing the precipitation average to be lesser than Truckee alone.&nbsp;</p>\n",
    "\n",
    "<p>&nbsp;<img alt=\"prcp.JPG\" src=\"r_figures/prcp.JPG\" style=\"height:450px; width:600px\" /></p>\n"
   ]
  },
  {
   "cell_type": "markdown",
   "metadata": {
    "deletable": true,
    "editable": true,
    "run_control": {
     "frozen": false,
     "read_only": false
    }
   },
   "source": [
    "## PCA analysis\n",
    "\n",
    "For each of the six measurement, we compute the percentate of the variance explained as a function of the number of eigen-vectors used.\n",
    "\n",
    "### Percentage of variance explained.\n",
    "![VarExplained1.png](r_figures/percent_var_1.png)\n",
    "We see that the top 5 eigen-vectors explain 50% of variance for TMIN, 64% for TOBS and 40% for TMAX.\n",
    "\n",
    "We conclude that of the three, TOBS is best explained by the top 5 eigenvectors. This is especially true for the first eigen-vector which, by itself, explains 56.35% of the variance.\n",
    "\n",
    "![VarExplained2.png](r_figures/percent_var_2.png)\n",
    "\n",
    "The top 5 eigenvectors explain 13% of the variance for SNOW and 17.5% for PRCP. Both are low values. On the other hand the top 5 eigenvectors explain a 83.9% of the variance for SNWD. This means that these top 5 eigenvectors capture most of the variation in the snow signals. Based on that we will dig deeper into the PCA analysis for snow-depth. The first  eigen-vector explains 65% of the variance.\n",
    "\n",
    "It makes sense that SNWD would be less noisy than SNOW. That is because SNWD is a decaying integral of SNOW and, as such, varies less between days and between the same date on diffferent years."
   ]
  },
  {
   "cell_type": "markdown",
   "metadata": {
    "deletable": true,
    "editable": true,
    "run_control": {
     "frozen": false,
     "read_only": false
    }
   },
   "source": [
    "## Analysis of snow depth\n",
    "\n",
    "We choose to analyze the eigen-decomposition for snow-depth because the first 4 eigen-vectors explain 81.5% of the variance.\n",
    "\n",
    "First, we graph the mean and the top 4 eigen-vectors.\n",
    "\n",
    "From the mean vector, we observe that the snow season is from **late-november** to the **end of May**, where the **middle of February** marks the peak of the snow-depth. In the rest of the months the snow depth (mm) is zero according to the plots shown below.\n",
    "![SNWD_mean_eigs.png](r_figures/mean_e1_to_e44.png)"
   ]
  },
  {
   "cell_type": "markdown",
   "metadata": {
    "deletable": true,
    "editable": true,
    "run_control": {
     "frozen": false,
     "read_only": false
    }
   },
   "source": [
    "Next we interpret the eigen-functions. The first eigen-function (eig1) has a **mirror-image** shape when compared to the mean function. If the **target function** $t$ is reconstructed only using the mean $\\mu$ and (eig1) we have **reconstructed function** $\\hat{t}$ = $\\mu$ + $coeff_1$\\*$eig_1$ where $coeff_1$ is the projection of the $t$ onto $eig_1$. This can be re-written as $\\hat{t}$ - $\\mu$ = $coeff_1$\\*$eig_1$ and the interpretation of this shape of $eig_1$ is that it represents the overall amount of snow above/below the mean and since it has a complement shape of the mean, a **large negative coefficient** represents **more snow depth** than compared to a small negative coefficient.\n",
    "\n",
    "**eig2,eig3 and eig4** are similar in the following way. They all oscilate between positive and negative values. In other words, they correspond to changing the distribution of the snow depth over the winter months, but they don't change the total (much).\n",
    "\n",
    "They can be interpreted as follows:\n",
    "* **eig2:** more snow in Jan - Feb end, less snow in March - mid May, more Snow in mid Nov - Dec.\n",
    "* **eig3:** more snow in Jan beginning and less snow in Jan end, more snow in Feb - March, less snow in April - mid May, considerably less snow in  mid Nov - Dec.\n",
    "* **eig4:** more snow in Jan - mid Feb, less snow in mid Feb - mid March, more snow in end of March - April, slightly less mid Nov - Dec.\n",
    "\n"
   ]
  },
  {
   "cell_type": "markdown",
   "metadata": {
    "deletable": true,
    "editable": true,
    "run_control": {
     "frozen": false,
     "read_only": false
    }
   },
   "source": [
    "### Examples of reconstructions\n",
    "\n",
    "#### Coeff1\n",
    "Coeff1: most positive\n",
    "![SNWD_grid_Pos_coeff1.png](r_figures/coeff_1_max.png)\n",
    "Coeff1: most negative\n",
    "![SNWD_grid_neg_coeff1.png](r_figures/coeff_1_min.png)"
   ]
  },
  {
   "cell_type": "markdown",
   "metadata": {},
   "source": [
    "As indicated by the equation in the previous section $\\hat{t}$ - $\\mu$ = $coeff_1$\\*$eig_1$\n",
    "\n",
    "\n",
    "Large negative values of $coeff_1$ correspond to more beyond or away from than average snow. In other words more negative the coefficient more is the snow depth in (mm) and vice versa.\n"
   ]
  },
  {
   "cell_type": "markdown",
   "metadata": {},
   "source": [
    "\n",
    "#### Coeff2\n",
    "Coeff2: most positive\n",
    "![SNWD_grid_Pos_coeff2.png](r_figures/coeff_2_max.png)\n",
    "Coeff2: most negative\n",
    "![SNWD_grid_neg_coeff2.png](r_figures/coeff_2_min.png)\n"
   ]
  },
  {
   "cell_type": "markdown",
   "metadata": {},
   "source": [
    "\n",
    "Large positive values of $coeff_2$ correspond to an early snow season, snowfall mostly starts late December and goes on till the end of March.\n",
    "\n",
    "Large Negative values for $coeff_2$ correspond to a gradually late snow season, the season reaches it's peak post mid-Feruary. From the graphs, we can deduce that the season peaks at around mid Feb and March end-April beginning.\n"
   ]
  },
  {
   "cell_type": "markdown",
   "metadata": {},
   "source": [
    "#### Coeff3\n",
    "Coeff3: most positive\n",
    "![SNWD_grid_Pos_coeff3.png](r_figures/coeff_3_max.png)\n",
    "Coeff3: most negative\n",
    "![SNWD_grid_neg_coeff3.png](r_figures/coeff_3_min.png)\n",
    "\n"
   ]
  },
  {
   "cell_type": "markdown",
   "metadata": {},
   "source": [
    "\n",
    "Large positive values of $coeff_2$ correspond to a snow season with many tiny spikes: across the three months of Jan, Feb and March. \n",
    "\n",
    "Negative values of $coeff_3$ on the other hand corresponds to a season with a distinct peak in the month of December and it reduces in intensity in the months of Jan, Feb and March. The second plot of \"Coeff3: most negative \" slightly contradicts this deduction as it has a peak starting early April.\n",
    "\n",
    "\n",
    "\n"
   ]
  },
  {
   "cell_type": "markdown",
   "metadata": {},
   "source": [
    "## Analysis of Residuals\n",
    "\n",
    "### Best Reconstruction\n",
    "\n",
    "The plot below describes the best reconstruction of the data vector in the whole dataset. The value of the residual normalized norm after reconstructing function $t$ as $\\hat{t}$ using the mean, eig1, eig2, eig3 and eig4 is given below:\n",
    "\n",
    "**residual normalized norm**  after mean: 0.42156951001\n",
    "\n",
    "**residual normalized norm**  after mean + top eigs: \n",
    "[0.39904801  0.39804805  0.39009789  0.35405674]\n",
    "\n",
    "<p><img src=\"r_figures/best_recon1.png\" /></p>\n",
    "\n",
    "### CDF plot : % of stations vs residuals\n",
    "\n",
    "The percentage of stations having residual value of less than 0.4 is around 60% of the total number of stations. The stations with residuals less than 0.4 were used for \"Examples of Reconstruction above\".\n",
    "<p><img src=\"r_figures/res_3_cdf.png\" /></p>\n",
    "\n",
    "### CDF plot : $Coeff_2$\n",
    "\n",
    "This plot indicates that around 60 % of the stations have an early snow season, snowfall mostly starts late December and goes on till the end of March. 40 % of the stations have a late snow season.\n",
    "<p><img src=\"r_figures/coeff_2_cdf.png\" /></p>\n",
    "\n",
    "\n",
    "\n",
    "\n"
   ]
  },
  {
   "cell_type": "markdown",
   "metadata": {
    "deletable": true,
    "editable": true,
    "run_control": {
     "frozen": false,
     "read_only": false
    }
   },
   "source": [
    "## Correlation\n",
    "\n",
    "Since the given region is the hilly region of Sierra Nevada, it makes intuitive sense to check how snow depth varies with elevation. As the altitude increases, the temperature decreases and the snowfall increases on mountains. The plot shown below is the average of $coeff_1$ vs the elevation of the station. Average of $coeff_1$ as studied above indicates the amount of snow depth. A large negative value indicates a greater snow depth.\n",
    "\n",
    "The graph shows a negative correlation and the correlation coefficient between the two variables is :\n",
    "\n",
    "The **Spearman Rank Correlation** : -0.520244461421 \n",
    "\n",
    "**P-value** = 0.00161109201586\n",
    "\n",
    "The p-value is the probability that you would have found the current result if the correlation coefficient were in fact zero (Null hypothesis). Since the p-value is less than the significance level of (0.05 or 5%), the correaltion coeff is statistically significant.\n",
    "\n",
    "A **linear regression model** can be fit between the two variable and the **parameters** of the linear model are :\n",
    "\n",
    "Coefficients:[[-3.92927939]] \n",
    "\n",
    "Intercept : [ 4147.27469965]\n",
    "\n",
    "The **Mean Squared Error** of the linear regression model is  MSE : 578 mm.\n",
    "\n",
    "The **R2 Statistic** is found to be 0.34, which states that 34 % of the variance in avg(coeff_1) can be explained by elevation,\n",
    "\n",
    "\n",
    "<p><img src=\"r_figures/regression.png\" /></p>"
   ]
  },
  {
   "cell_type": "markdown",
   "metadata": {
    "deletable": true,
    "editable": true,
    "run_control": {
     "frozen": false,
     "read_only": false
    }
   },
   "source": [
    "## Analysis of correlation between percipitation across locations\n",
    "\n",
    "\n",
    "It is likely to be hard to find **correlations** between the amount of snow on the same day in different stations. Because amounts of snow vary a lot between even close locations. It is more reasonable to try to compare whether or not it snowed on the same day in different stations. \n",
    "\n",
    "### Definition of statistical test\n",
    "We want to find a statistical test for rejecting the null hypothesis that says that the snowfall in the two locations is independent.\n",
    "Using the inner product is too noisy, because you multiply the snowfall on the same day in two locations and that product can be very large - leading to a large variance and poor ability to discriminate.\n",
    "An alternative is to ignore the amount of snow, and just ask whether it snowed in both locations. We can then compute the probability associated with the number of overlaps under the null hypothesis.\n",
    "\n",
    "Fix two stations. We restrict our attention to the days for which we have measurements for both stations, and define the following notation:\n",
    "* $m$ : the total number of days (for which we have measurements for both stations).\n",
    "* $n_1$ : the number of days that it rained on station 1\n",
    "* $n_2$ : the number of days that it rained on station 2\n",
    "* $l$ : the number of days that it rained on both stations.\n",
    "\n",
    "We want to calculate the probability that the number of overlap days is $l$ given $m,n_1,n_2$.\n",
    "\n",
    "The answer is:\n",
    "$$\n",
    "P = {m \\choose l,n_1-l,n_2-l,m-n_1-n_2+l} /{m \\choose n_1}{m \\choose n_2}\n",
    "$$\n",
    "\n",
    "Where\n",
    "$$\n",
    "{m \\choose l,n_1-l,n_2-l,m-n_1-n_2+l} = \\frac{m!}{l! (n_1-l)! (n_2-l)! (m-n_1-n_2+l)!}\n",
    "$$\n",
    "\n",
    "We use the fact that $\\Gamma(n+1) = n!$ and denote $G(n) \\doteq \\log \\Gamma(n+1)$\n",
    "$$\n",
    "\\log P = \\left[G(m) - G(l) -G(n_1-l) -G(n_2-l) -G(m-n_1-n_2+l) \\right] - \n",
    "\\left[G(m)-G(n_1)-G(m-n_1)\\right] - \\left[G(m)-G(n_2)-G(m-n_2)\\right]\n",
    "$$\n",
    "Which slightly simplifies to \n",
    "$$\n",
    "\\log P = -G(l) -G(n_1-l) -G(n_2-l) -G(m-n_1-n_2+l) - G(m)+G(n_1)+G(m-n_1) +G(n_2)+G(m-n_2)\n",
    "$$\n",
    "\n",
    "The log probability scales with $m$ the length of the overlap. So to get a per-day significance we consider $\n",
    "\\frac{1}{m} \\log P $\n"
   ]
  },
  {
   "cell_type": "markdown",
   "metadata": {},
   "source": [
    "\n",
    "### correlations matrix\n",
    " It is more reasonable to try to compare whether or not it snowed on the same day in different stations. The matrix below shows the correlation between two stations such that it snowed on the same day.\n",
    "<p><img src=\"r_figures/significance_matrix.png\" /></p>\n",
    "A CDF plot of the number of stations vs the sigficance. The significance is the probability of snow occuring in two stations at the same day. The huge spike at 0.4 is to be ignored as it corresponds to significance of stations with themselves.\n",
    "<p><img src=\"r_figures/significance_cdf.png\" /></p>\n"
   ]
  },
  {
   "cell_type": "markdown",
   "metadata": {
    "deletable": true,
    "editable": true,
    "run_control": {
     "frozen": false,
     "read_only": false
    }
   },
   "source": [
    "### PCA analysis\n",
    "The matrix above shows, for each pair of stations, the normalized log probability that the overlap in snowy days is random.\n",
    "\n",
    "To find more correlations we use SVD (the term PCA is reserved for decomposition of the covariance matrix). As we shall see that the top 10 eigenvectors explain about 90% of the square magnitude of the matrix.\n",
    "<p><img src=\"r_figures/last3.png\" /></p>\n",
    "\n",
    "### Geographical distribution of top 4 coefficients.\n",
    "\n",
    "Reordering the rows and columns of the matrix using one of the eigenvectors, the grouping of the stations becomes more evident. The strongly correalted matrices appear together in the block diagonol form. Various stations in which snow occured on the same day can be seen in the map below. The same 'color' triangle indicates strong correaltion between those stations in terms of occurance of snow in a given day.\n",
    "<p><img src=\"r_figures/last1.png\" /></p>\n",
    "\n"
   ]
  },
  {
   "cell_type": "code",
   "execution_count": null,
   "metadata": {
    "collapsed": true
   },
   "outputs": [],
   "source": []
  }
 ],
 "metadata": {
  "anaconda-cloud": {},
  "kernelspec": {
   "display_name": "Python 2",
   "language": "python",
   "name": "python2"
  },
  "language_info": {
   "codemirror_mode": {
    "name": "ipython",
    "version": 2
   },
   "file_extension": ".py",
   "mimetype": "text/x-python",
   "name": "python",
   "nbconvert_exporter": "python",
   "pygments_lexer": "ipython2",
   "version": "2.7.13"
  },
  "toc": {
   "colors": {
    "hover_highlight": "#DAA520",
    "running_highlight": "#FF0000",
    "selected_highlight": "#FFD700"
   },
   "moveMenuLeft": true,
   "nav_menu": {
    "height": "12px",
    "width": "252px"
   },
   "navigate_menu": true,
   "number_sections": true,
   "sideBar": true,
   "threshold": 4,
   "toc_cell": false,
   "toc_section_display": "block",
   "toc_window_display": false
  }
 },
 "nbformat": 4,
 "nbformat_minor": 2
}
