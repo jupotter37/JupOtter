{
 "cells": [
  {
   "cell_type": "markdown",
   "metadata": {},
   "source": [
    "# Basic Statistics Review – Linear Regression"
   ]
  },
  {
   "cell_type": "markdown",
   "metadata": {},
   "source": [
    "Script for the 1-Introduction-to-R---Reviewing-Basic-Statistics.pdf"
   ]
  },
  {
   "cell_type": "markdown",
   "metadata": {},
   "source": [
    "### Example 1 - Mauna Loa Atmospheric CO2 Concentration"
   ]
  },
  {
   "cell_type": "code",
   "execution_count": 1,
   "metadata": {},
   "outputs": [],
   "source": [
    "import pymc3 as pm\n",
    "import pandas as pd\n",
    "import matplotlib.pyplot as plt\n",
    "import statistics as stat\n",
    "\n",
    "import warnings\n",
    "warnings.filterwarnings(\"ignore\")\n",
    "\n",
    "%matplotlib inline"
   ]
  },
  {
   "cell_type": "code",
   "execution_count": 2,
   "metadata": {
    "scrolled": true
   },
   "outputs": [
    {
     "name": "stdout",
     "output_type": "stream",
     "text": [
      "(720, 3)\n"
     ]
    },
    {
     "data": {
      "text/html": [
       "<div>\n",
       "<style scoped>\n",
       "    .dataframe tbody tr th:only-of-type {\n",
       "        vertical-align: middle;\n",
       "    }\n",
       "\n",
       "    .dataframe tbody tr th {\n",
       "        vertical-align: top;\n",
       "    }\n",
       "\n",
       "    .dataframe thead th {\n",
       "        text-align: right;\n",
       "    }\n",
       "</style>\n",
       "<table border=\"1\" class=\"dataframe\">\n",
       "  <thead>\n",
       "    <tr style=\"text-align: right;\">\n",
       "      <th></th>\n",
       "      <th>year</th>\n",
       "      <th>month</th>\n",
       "      <th>CO2</th>\n",
       "    </tr>\n",
       "  </thead>\n",
       "  <tbody>\n",
       "    <tr>\n",
       "      <th>0</th>\n",
       "      <td>1958</td>\n",
       "      <td>1</td>\n",
       "      <td>-99.99</td>\n",
       "    </tr>\n",
       "    <tr>\n",
       "      <th>1</th>\n",
       "      <td>1958</td>\n",
       "      <td>2</td>\n",
       "      <td>-99.99</td>\n",
       "    </tr>\n",
       "    <tr>\n",
       "      <th>2</th>\n",
       "      <td>1958</td>\n",
       "      <td>3</td>\n",
       "      <td>315.69</td>\n",
       "    </tr>\n",
       "    <tr>\n",
       "      <th>3</th>\n",
       "      <td>1958</td>\n",
       "      <td>4</td>\n",
       "      <td>317.46</td>\n",
       "    </tr>\n",
       "    <tr>\n",
       "      <th>4</th>\n",
       "      <td>1958</td>\n",
       "      <td>5</td>\n",
       "      <td>317.50</td>\n",
       "    </tr>\n",
       "  </tbody>\n",
       "</table>\n",
       "</div>"
      ],
      "text/plain": [
       "   year  month     CO2\n",
       "0  1958      1  -99.99\n",
       "1  1958      2  -99.99\n",
       "2  1958      3  315.69\n",
       "3  1958      4  317.46\n",
       "4  1958      5  317.50"
      ]
     },
     "execution_count": 2,
     "metadata": {},
     "output_type": "execute_result"
    }
   ],
   "source": [
    "cols = [\"year\", \"month\", \"--\", \"--\", \"CO2\", \"seasonaly_adjusted\", \"fit\",\n",
    "        \"seasonally_adjusted_fit\", \"CO2_filled\", \"seasonally_adjusted_filled\"]\n",
    "\n",
    "co2 = pd.read_csv(pm.get_data(\"monthly_in_situ_co2_mlo.csv\"), header=56, names=cols)\n",
    "\n",
    "co2 = co2[['year', 'month', 'CO2']]\n",
    "\n",
    "print(co2.shape)\n",
    "\n",
    "co2.head()"
   ]
  },
  {
   "cell_type": "code",
   "execution_count": 3,
   "metadata": {},
   "outputs": [
    {
     "data": {
      "text/plain": [
       "(707, 3)"
      ]
     },
     "execution_count": 3,
     "metadata": {},
     "output_type": "execute_result"
    }
   ],
   "source": [
    "#remove -99.00 CO2 data\n",
    "\n",
    "idx_to_remove = co2[co2.CO2 == -99.99].index\n",
    "\n",
    "co2 = co2.drop(idx_to_remove)\n",
    "\n",
    "co2.shape"
   ]
  },
  {
   "cell_type": "code",
   "execution_count": 4,
   "metadata": {},
   "outputs": [
    {
     "data": {
      "image/png": "[encoded data removed]",
      "text/plain": [
       "<Figure size 432x288 with 1 Axes>"
      ]
     },
     "metadata": {
      "needs_background": "light"
     },
     "output_type": "display_data"
    }
   ],
   "source": [
    "plt.plot(co2.year, co2.CO2)\n",
    "\n",
    "plt.show()"
   ]
  },
  {
   "cell_type": "code",
   "execution_count": 5,
   "metadata": {},
   "outputs": [
    {
     "name": "stdout",
     "output_type": "stream",
     "text": [
      "205580.56294200846\n",
      "315920.91148514836\n",
      "\n",
      "Slope: 1.5367255880813278\n",
      "Intercept: -2701.5724490899456\n"
     ]
    }
   ],
   "source": [
    "# calculate the slope and intercept values “by hand” \n",
    "\n",
    "SSxx = sum((co2.year - stat.mean(co2.year)) * (co2.year - stat.mean(co2.year)))\n",
    "print(SSxx)\n",
    "SSxy = sum( (co2.CO2 - stat.mean(co2.CO2) ) * (co2.year - stat.mean(co2.year) ) )\n",
    "print(SSxy)\n",
    "\n",
    "print()\n",
    "slope = (SSxy / SSxx )\n",
    "print('Slope: {}'.format(slope))\n",
    "intercept = stat.mean(co2.CO2) - slope*stat.mean(co2.year) \n",
    "print('Intercept: {}'.format(intercept))"
   ]
  },
  {
   "cell_type": "code",
   "execution_count": 6,
   "metadata": {
    "scrolled": true
   },
   "outputs": [
    {
     "name": "stdout",
     "output_type": "stream",
     "text": [
      "2      307.336252\n",
      "3      307.336252\n",
      "4      307.336252\n",
      "6      307.336252\n",
      "7      307.336252\n",
      "8      307.336252\n",
      "10     307.336252\n",
      "11     307.336252\n",
      "12     308.872978\n",
      "13     308.872978\n",
      "14     308.872978\n",
      "15     308.872978\n",
      "16     308.872978\n",
      "17     308.872978\n",
      "18     308.872978\n",
      "19     308.872978\n",
      "20     308.872978\n",
      "21     308.872978\n",
      "22     308.872978\n",
      "23     308.872978\n",
      "24     310.409704\n",
      "25     310.409704\n",
      "26     310.409704\n",
      "27     310.409704\n",
      "28     310.409704\n",
      "29     310.409704\n",
      "30     310.409704\n",
      "31     310.409704\n",
      "32     310.409704\n",
      "33     310.409704\n",
      "          ...    \n",
      "684    394.929611\n",
      "685    394.929611\n",
      "686    394.929611\n",
      "687    394.929611\n",
      "688    394.929611\n",
      "689    394.929611\n",
      "690    394.929611\n",
      "691    394.929611\n",
      "692    394.929611\n",
      "693    394.929611\n",
      "694    394.929611\n",
      "695    394.929611\n",
      "696    396.466336\n",
      "697    396.466336\n",
      "698    396.466336\n",
      "699    396.466336\n",
      "700    396.466336\n",
      "701    396.466336\n",
      "702    396.466336\n",
      "703    396.466336\n",
      "704    396.466336\n",
      "705    396.466336\n",
      "706    396.466336\n",
      "707    396.466336\n",
      "708    398.003062\n",
      "709    398.003062\n",
      "710    398.003062\n",
      "711    398.003062\n",
      "712    398.003062\n",
      "713    398.003062\n",
      "Name: year, Length: 707, dtype: float64 2       8.353748\n",
      "3      10.123748\n",
      "4      10.163748\n",
      "6       8.523748\n",
      "7       7.593748\n",
      "8       5.873748\n",
      "10      5.993748\n",
      "11      7.333748\n",
      "12      6.707022\n",
      "13      7.607022\n",
      "14      7.777022\n",
      "15      8.847022\n",
      "16      9.417022\n",
      "17      9.277022\n",
      "18      7.667022\n",
      "19      5.927022\n",
      "20      4.967022\n",
      "21      4.467022\n",
      "22      5.937022\n",
      "23      6.707022\n",
      "24      6.020296\n",
      "25      6.570296\n",
      "26      7.170296\n",
      "27      8.620296\n",
      "28      9.630296\n",
      "29      9.180296\n",
      "30      7.770296\n",
      "31      5.490296\n",
      "32      3.760296\n",
      "33      3.420296\n",
      "         ...    \n",
      "684     4.920389\n",
      "685     5.380389\n",
      "686     6.580389\n",
      "687     8.520389\n",
      "688     9.180389\n",
      "689     7.950389\n",
      "690     6.670389\n",
      "691     4.070389\n",
      "692     2.570389\n",
      "693     3.350389\n",
      "694     5.310389\n",
      "695     6.960389\n",
      "696     6.183664\n",
      "697     7.693664\n",
      "698     8.393664\n",
      "699    11.103664\n",
      "700    11.183664\n",
      "701    10.533664\n",
      "702     8.033664\n",
      "703     5.773664\n",
      "704     4.543664\n",
      "705     5.033664\n",
      "706     7.173664\n",
      "707     8.083664\n",
      "708     8.066938\n",
      "709     8.636938\n",
      "710     9.056938\n",
      "711    10.946938\n",
      "712    11.906938\n",
      "713    11.116938\n",
      "Length: 707, dtype: float64\n"
     ]
    }
   ],
   "source": [
    "# compute the residuals by hand\n",
    "\n",
    "co2_fitted_values = slope*co2.year + intercept\n",
    "co2_residuals = co2.CO2 - co2_fitted_values\n",
    "\n",
    "print(co2_fitted_values, co2_residuals)"
   ]
  },
  {
   "cell_type": "code",
   "execution_count": 7,
   "metadata": {},
   "outputs": [
    {
     "name": "stdout",
     "output_type": "stream",
     "text": [
      "Score: 0.9786600799633813\n",
      "Coef: [1.53672559]\n",
      "Intercept: -2701.5724490899447\n"
     ]
    }
   ],
   "source": [
    "# Using sklearn- Linear Regression\n",
    "\n",
    "from sklearn.linear_model import LinearRegression\n",
    "\n",
    "#X = co2[['year', 'month']].values\n",
    "X = co2.year.values.reshape(-1, 1)\n",
    "y = co2.CO2.values\n",
    "\n",
    "reg = LinearRegression().fit(X, y)\n",
    "\n",
    "y_pred = reg.predict(X)\n",
    "\n",
    "print('Score: {}'.format(reg.score(X, y)))\n",
    "\n",
    "print('Coef: {}'.format(reg.coef_))\n",
    "\n",
    "print('Intercept: {}'.format(reg.intercept_))\n",
    "\n"
   ]
  },
  {
   "cell_type": "code",
   "execution_count": 8,
   "metadata": {},
   "outputs": [
    {
     "data": {
      "image/png": "[encoded data removed]",
      "text/plain": [
       "<Figure size 432x288 with 1 Axes>"
      ]
     },
     "metadata": {
      "needs_background": "light"
     },
     "output_type": "display_data"
    }
   ],
   "source": [
    "plt.plot(co2.year, co2.CO2)\n",
    "\n",
    "plt.plot(X, y_pred, color='red', linewidth=1)\n",
    "\n",
    "plt.show()"
   ]
  },
  {
   "cell_type": "code",
   "execution_count": 9,
   "metadata": {},
   "outputs": [
    {
     "data": {
      "image/png": "[encoded data removed]",
      "text/plain": [
       "<Figure size 1440x720 with 3 Axes>"
      ]
     },
     "metadata": {
      "needs_background": "light"
     },
     "output_type": "display_data"
    }
   ],
   "source": [
    "from scipy import stats\n",
    "from pylab import rcParams\n",
    "rcParams['figure.figsize'] = 20, 10\n",
    "\n",
    "\n",
    "#f, (ax1, ax2) = plt.subplots(1, 2, sharey=True)\n",
    "ax1=plt.subplot(231)\n",
    "ax1.hist(co2_residuals, range=(-6, 6), )\n",
    "#ax1.set_xlim([-6, 6])\n",
    "#ax1.set_ylim([0 ,70])\n",
    "ax1.set_title('Histogram of CO2 Residuals')\n",
    "\n",
    "ax2=plt.subplot(232)\n",
    "stats.probplot(co2_residuals, plot=plt)\n",
    "ax2.set_title('Normal Probability Plot')\n",
    "#ax2.set_ylim([-6 ,6])\n",
    "#ax2.set_xlim([-3 ,3])\n",
    "\n",
    "ax3=plt.subplot(233)\n",
    "ax3.scatter(co2.year, co2_residuals)\n",
    "ax3.set_title('Residuals on Time')\n",
    "#plt.gca().set_ylim([-6 ,6])\n",
    "#ax2.set_xlim([-3 ,3])\n",
    "\n",
    "plt.show()"
   ]
  },
  {
   "cell_type": "code",
   "execution_count": 10,
   "metadata": {},
   "outputs": [
    {
     "data": {
      "image/png": "[encoded data removed]",
      "text/plain": [
       "<Figure size 720x720 with 1 Axes>"
      ]
     },
     "metadata": {
      "needs_background": "light"
     },
     "output_type": "display_data"
    }
   ],
   "source": [
    "# zoom in on the residuals to see the seasonality in the data set.\n",
    "\n",
    "rcParams['figure.figsize'] = 10, 10\n",
    "\n",
    "ax=plt.subplot(211)\n",
    "ax.scatter(co2.year, co2_residuals)\n",
    "ax.set_xlim([1960, 1963])\n",
    "#ax.set_ylim([-6 ,6])\n",
    "ax.set_title('Zoomed in Residuals on Time')\n",
    "ax.set_ylabel('Co2 Residuals')\n",
    "ax.set_xlabel('Time (Co2)')\n",
    "\n",
    "plt.show()\n",
    "\n",
    "# Here the plot was not exactly what I expected, in the PDF the plot is quite different"
   ]
  },
  {
   "cell_type": "markdown",
   "metadata": {},
   "source": [
    "### Example 2 - Sleep"
   ]
  },
  {
   "cell_type": "markdown",
   "metadata": {},
   "source": [
    "A very famous data set was discussed in William Gossett’s (he’s better known as “Student”)\n",
    "classic paper The Probable Error of a Mean (Student, 1908). Gossett describes an experiment in\n",
    "which two sleeping aides are administered during the course of a clinical trial to a group of 10\n",
    "research subjects. The average number of hours of sleep gained (called by the variable name\n",
    "“extra”) under the use of each of the two drugs (indicated by the variable name “group”) are\n",
    "recorded. \n",
    "\n",
    "Recorded for us is the extra sleep obtained as a consequence of taking the drug (“extra”), a label\n",
    "telling us which drug was taken (“group”), and a label for which of the 10 people we are talking\n",
    "about (“ID”)."
   ]
  },
  {
   "cell_type": "code",
   "execution_count": 11,
   "metadata": {},
   "outputs": [
    {
     "name": "stdout",
     "output_type": "stream",
     "text": [
      "(20, 3)\n"
     ]
    },
    {
     "data": {
      "text/html": [
       "<div>\n",
       "<style scoped>\n",
       "    .dataframe tbody tr th:only-of-type {\n",
       "        vertical-align: middle;\n",
       "    }\n",
       "\n",
       "    .dataframe tbody tr th {\n",
       "        vertical-align: top;\n",
       "    }\n",
       "\n",
       "    .dataframe thead th {\n",
       "        text-align: right;\n",
       "    }\n",
       "</style>\n",
       "<table border=\"1\" class=\"dataframe\">\n",
       "  <thead>\n",
       "    <tr style=\"text-align: right;\">\n",
       "      <th></th>\n",
       "      <th>extra</th>\n",
       "      <th>group</th>\n",
       "      <th>ID</th>\n",
       "    </tr>\n",
       "  </thead>\n",
       "  <tbody>\n",
       "    <tr>\n",
       "      <th>0</th>\n",
       "      <td>0.7</td>\n",
       "      <td>1</td>\n",
       "      <td>1</td>\n",
       "    </tr>\n",
       "    <tr>\n",
       "      <th>1</th>\n",
       "      <td>-1.6</td>\n",
       "      <td>1</td>\n",
       "      <td>2</td>\n",
       "    </tr>\n",
       "    <tr>\n",
       "      <th>2</th>\n",
       "      <td>-0.2</td>\n",
       "      <td>1</td>\n",
       "      <td>3</td>\n",
       "    </tr>\n",
       "    <tr>\n",
       "      <th>3</th>\n",
       "      <td>-1.2</td>\n",
       "      <td>1</td>\n",
       "      <td>4</td>\n",
       "    </tr>\n",
       "    <tr>\n",
       "      <th>4</th>\n",
       "      <td>-0.1</td>\n",
       "      <td>1</td>\n",
       "      <td>5</td>\n",
       "    </tr>\n",
       "  </tbody>\n",
       "</table>\n",
       "</div>"
      ],
      "text/plain": [
       "   extra  group  ID\n",
       "0    0.7      1   1\n",
       "1   -1.6      1   2\n",
       "2   -0.2      1   3\n",
       "3   -1.2      1   4\n",
       "4   -0.1      1   5"
      ]
     },
     "execution_count": 11,
     "metadata": {},
     "output_type": "execute_result"
    }
   ],
   "source": [
    "sleep = pd.read_csv('sleep.csv')\n",
    "sleep = sleep[['extra','group','ID']]\n",
    "\n",
    "print(sleep.shape)\n",
    "\n",
    "sleep.head()"
   ]
  },
  {
   "cell_type": "code",
   "execution_count": 12,
   "metadata": {},
   "outputs": [
    {
     "data": {
      "image/png": "[encoded data removed]",
      "text/plain": [
       "<Figure size 360x360 with 1 Axes>"
      ]
     },
     "metadata": {
      "needs_background": "light"
     },
     "output_type": "display_data"
    }
   ],
   "source": [
    "import seaborn as sns\n",
    "\n",
    "rcParams['figure.figsize'] = 5, 5\n",
    "\n",
    "ax = sns.boxplot(x=\"group\", y=\"extra\", data=sleep)"
   ]
  },
  {
   "cell_type": "markdown",
   "metadata": {},
   "source": [
    "apparently the median seems to be higher in the second group"
   ]
  },
  {
   "cell_type": "code",
   "execution_count": 13,
   "metadata": {},
   "outputs": [
    {
     "data": {
      "text/plain": [
       "Ttest_relResult(statistic=-4.062127683382037, pvalue=0.00283289019738427)"
      ]
     },
     "execution_count": 13,
     "metadata": {},
     "output_type": "execute_result"
    }
   ],
   "source": [
    "import statsmodels.stats.api as sms\n",
    "\n",
    "extra1 = sleep[sleep.group == 1].extra.values\n",
    "\n",
    "extra2 = sleep[sleep.group == 2].extra.values\n",
    "\n",
    "# t-test\n",
    "# two dependent samples\n",
    "stats.ttest_rel(extra1, extra2)"
   ]
  },
  {
   "cell_type": "markdown",
   "metadata": {},
   "source": [
    "We have a fairly hefty t value (if that were a z value from a normal distribution, it would be quite quite large)\n",
    "How large it is with a T distribution, dependeds on your sample size.\n",
    "\n",
    "The p value we obtain is less than the standard nickel. Less than point zero five. \n",
    "It's even less than point zero one. These data are highly significant. \n",
    "So we are going to go with the Alternative hypothesis that the there is a difference between the two drugs."
   ]
  },
  {
   "cell_type": "code",
   "execution_count": 14,
   "metadata": {},
   "outputs": [
    {
     "name": "stdout",
     "output_type": "stream",
     "text": [
      "QQ slope: 1.196319785403006\n",
      "QQ intercept: -1.58\n",
      "QQ r: 0.8923046529182111\n"
     ]
    },
    {
     "data": {
      "image/png": "[encoded data removed]",
      "text/plain": [
       "<Figure size 720x360 with 1 Axes>"
      ]
     },
     "metadata": {
      "needs_background": "light"
     },
     "output_type": "display_data"
    }
   ],
   "source": [
    "diffs = extra1-extra2\n",
    "\n",
    "rcParams['figure.figsize'] = 10, 5\n",
    "\n",
    "probplt = stats.probplot(diffs, plot=plt, dist=\"norm\")\n",
    "qq_slope, qq_intercept, qq_r = probplt[1]\n",
    "ax.set_title('Normal Probability Plot')\n",
    "ax.set_ylim(-4, 0)\n",
    "ax.set_xlim(-1.5, 1.5)\n",
    "\n",
    "print('QQ slope:', qq_slope)\n",
    "print('QQ intercept:', qq_intercept)\n",
    "print('QQ r:', qq_r)\n",
    "\n",
    "plt.show()"
   ]
  },
  {
   "cell_type": "markdown",
   "metadata": {},
   "source": [
    "# A Regression Model"
   ]
  },
  {
   "cell_type": "code",
   "execution_count": 15,
   "metadata": {},
   "outputs": [
    {
     "data": {
      "image/png": "[encoded data removed]",
      "text/plain": [
       "<Figure size 720x360 with 1 Axes>"
      ]
     },
     "metadata": {
      "needs_background": "light"
     },
     "output_type": "display_data"
    }
   ],
   "source": [
    "# from sklearn.linear_model import LinearRegression\n",
    "plt.scatter(extra1, extra2)\n",
    "\n",
    "sleep_linear_model = LinearRegression().fit(extra1.reshape(-1, 1),\n",
    "                                            extra2.reshape(-1, 1))\n",
    "sleep_linear_model_y_pred = sleep_linear_model.predict(extra1.reshape(-1, 1))\n",
    "\n",
    "plt.plot(extra1, sleep_linear_model_y_pred, color='red', linewidth=3)\n",
    "plt.title('Extra Sleep Drug 2 against Extra Sleep Drug 1')\n",
    "plt.ylabel('extra sleep with drug 2')\n",
    "plt.xlabel('extra sleep with drug 1')\n",
    "plt.show()"
   ]
  },
  {
   "cell_type": "code",
   "execution_count": 16,
   "metadata": {},
   "outputs": [
    {
     "name": "stdout",
     "output_type": "stream",
     "text": [
      "Estimate a slope and an intercept:\n",
      "Slope: [[0.88994966]]\n",
      "Intercept: [1.66253775]\n"
     ]
    }
   ],
   "source": [
    "print('Estimate a slope and an intercept:')\n",
    "print('Slope:', sleep_linear_model.coef_ )\n",
    "print('Intercept:', sleep_linear_model.intercept_)"
   ]
  },
  {
   "cell_type": "code",
   "execution_count": 17,
   "metadata": {},
   "outputs": [
    {
     "data": {
      "image/png": "[encoded data removed]",
      "text/plain": [
       "<Figure size 720x360 with 1 Axes>"
      ]
     },
     "metadata": {
      "needs_background": "light"
     },
     "output_type": "display_data"
    }
   ],
   "source": [
    "# QQ Plot\n",
    "\n",
    "residuals = extra2.reshape(-1, 1) - sleep_linear_model_y_pred\n",
    "\n",
    "probplt = stats.probplot(residuals.reshape(-1), plot=plt, dist=\"norm\")\n",
    "#qq_slope, qq_intercept, qq_r = probplt[1]\n",
    "plt.title('Normal Probability Plot')\n",
    "#plt.ylim(-1, 3)\n",
    "#plt.xlim(-1.5, 1.5)\n",
    "\n",
    "#print('QQ slope:', qq_slope)\n",
    "#print('QQ intercept:', qq_intercept)\n",
    "#print('QQ r:', qq_r)\n",
    "\n",
    "plt.show()\n"
   ]
  },
  {
   "cell_type": "code",
   "execution_count": 18,
   "metadata": {},
   "outputs": [
    {
     "name": "stderr",
     "output_type": "stream",
     "text": [
      "C:\\Users\\Jessica\\Anaconda3\\envs\\Time_Series_Analysis-Cousera\\lib\\site-packages\\scipy\\stats\\stats.py:1394: UserWarning: kurtosistest only valid for n>=20 ... continuing anyway, n=10\n",
      "  \"anyway, n=%i\" % int(n))\n"
     ]
    },
    {
     "data": {
      "text/html": [
       "<table class=\"simpletable\">\n",
       "<caption>OLS Regression Results</caption>\n",
       "<tr>\n",
       "  <th>Dep. Variable:</th>            <td>y</td>        <th>  R-squared:         </th> <td>   0.597</td>\n",
       "</tr>\n",
       "<tr>\n",
       "  <th>Model:</th>                   <td>OLS</td>       <th>  Adj. R-squared:    </th> <td>   0.553</td>\n",
       "</tr>\n",
       "<tr>\n",
       "  <th>Method:</th>             <td>Least Squares</td>  <th>  F-statistic:       </th> <td>   13.35</td>\n",
       "</tr>\n",
       "<tr>\n",
       "  <th>Date:</th>             <td>Wed, 06 Feb 2019</td> <th>  Prob (F-statistic):</th>  <td>0.00529</td>\n",
       "</tr>\n",
       "<tr>\n",
       "  <th>Time:</th>                 <td>23:08:02</td>     <th>  Log-Likelihood:    </th> <td> -20.648</td>\n",
       "</tr>\n",
       "<tr>\n",
       "  <th>No. Observations:</th>      <td>    10</td>      <th>  AIC:               </th> <td>   43.30</td>\n",
       "</tr>\n",
       "<tr>\n",
       "  <th>Df Residuals:</th>          <td>     9</td>      <th>  BIC:               </th> <td>   43.60</td>\n",
       "</tr>\n",
       "<tr>\n",
       "  <th>Df Model:</th>              <td>     1</td>      <th>                     </th>     <td> </td>   \n",
       "</tr>\n",
       "<tr>\n",
       "  <th>Covariance Type:</th>      <td>nonrobust</td>    <th>                     </th>     <td> </td>   \n",
       "</tr>\n",
       "</table>\n",
       "<table class=\"simpletable\">\n",
       "<tr>\n",
       "   <td></td>     <th>coef</th>     <th>std err</th>      <th>t</th>      <th>P>|t|</th>  <th>[0.025</th>    <th>0.975]</th>  \n",
       "</tr>\n",
       "<tr>\n",
       "  <th>x1</th> <td>    1.2521</td> <td>    0.343</td> <td>    3.654</td> <td> 0.005</td> <td>    0.477</td> <td>    2.027</td>\n",
       "</tr>\n",
       "</table>\n",
       "<table class=\"simpletable\">\n",
       "<tr>\n",
       "  <th>Omnibus:</th>       <td> 8.413</td> <th>  Durbin-Watson:     </th> <td>   1.049</td>\n",
       "</tr>\n",
       "<tr>\n",
       "  <th>Prob(Omnibus):</th> <td> 0.015</td> <th>  Jarque-Bera (JB):  </th> <td>   3.570</td>\n",
       "</tr>\n",
       "<tr>\n",
       "  <th>Skew:</th>          <td> 1.374</td> <th>  Prob(JB):          </th> <td>   0.168</td>\n",
       "</tr>\n",
       "<tr>\n",
       "  <th>Kurtosis:</th>      <td> 4.009</td> <th>  Cond. No.          </th> <td>    1.00</td>\n",
       "</tr>\n",
       "</table><br/><br/>Warnings:<br/>[1] Standard Errors assume that the covariance matrix of the errors is correctly specified."
      ],
      "text/plain": [
       "<class 'statsmodels.iolib.summary.Summary'>\n",
       "\"\"\"\n",
       "                            OLS Regression Results                            \n",
       "==============================================================================\n",
       "Dep. Variable:                      y   R-squared:                       0.597\n",
       "Model:                            OLS   Adj. R-squared:                  0.553\n",
       "Method:                 Least Squares   F-statistic:                     13.35\n",
       "Date:                Wed, 06 Feb 2019   Prob (F-statistic):            0.00529\n",
       "Time:                        23:08:02   Log-Likelihood:                -20.648\n",
       "No. Observations:                  10   AIC:                             43.30\n",
       "Df Residuals:                       9   BIC:                             43.60\n",
       "Df Model:                           1                                         \n",
       "Covariance Type:            nonrobust                                         \n",
       "==============================================================================\n",
       "                 coef    std err          t      P>|t|      [0.025      0.975]\n",
       "------------------------------------------------------------------------------\n",
       "x1             1.2521      0.343      3.654      0.005       0.477       2.027\n",
       "==============================================================================\n",
       "Omnibus:                        8.413   Durbin-Watson:                   1.049\n",
       "Prob(Omnibus):                  0.015   Jarque-Bera (JB):                3.570\n",
       "Skew:                           1.374   Prob(JB):                        0.168\n",
       "Kurtosis:                       4.009   Cond. No.                         1.00\n",
       "==============================================================================\n",
       "\n",
       "Warnings:\n",
       "[1] Standard Errors assume that the covariance matrix of the errors is correctly specified.\n",
       "\"\"\""
      ]
     },
     "execution_count": 18,
     "metadata": {},
     "output_type": "execute_result"
    }
   ],
   "source": [
    "# Statsmodels gives R-like statistical output\n",
    "from statsmodels.api import OLS\n",
    "\n",
    "OLS(extra2.reshape(-1, 1),\n",
    "    extra1.reshape(-1, 1)).fit().summary()"
   ]
  },
  {
   "cell_type": "markdown",
   "metadata": {},
   "source": [
    "Our Model is the:\n",
    "\n",
    "extra2 = 0.8899 x extra1 x 1.6625"
   ]
  },
  {
   "cell_type": "markdown",
   "metadata": {},
   "source": [
    "## Questions:"
   ]
  },
  {
   "cell_type": "markdown",
   "metadata": {},
   "source": [
    "1. What do you predict for sleep gained with drug 2 if you know the sleep gained with drug 1 is 2 hours?"
   ]
  },
  {
   "cell_type": "code",
   "execution_count": 19,
   "metadata": {},
   "outputs": [
    {
     "data": {
      "text/plain": [
       "3.4423000000000004"
      ]
     },
     "execution_count": 19,
     "metadata": {},
     "output_type": "execute_result"
    }
   ],
   "source": [
    "0.8899*2+1.6625"
   ]
  },
  {
   "cell_type": "markdown",
   "metadata": {},
   "source": [
    "2. What is the residual associated with the 3rd data point?"
   ]
  },
  {
   "cell_type": "code",
   "execution_count": 20,
   "metadata": {},
   "outputs": [
    {
     "data": {
      "text/plain": [
       "-0.38452"
      ]
     },
     "execution_count": 20,
     "metadata": {},
     "output_type": "execute_result"
    }
   ],
   "source": [
    "extra2[2] - (0.8899*extra1[2]+1.6625)"
   ]
  }
 ],
 "metadata": {
  "kernelspec": {
   "display_name": "Python 3",
   "language": "python",
   "name": "python3"
  },
  "language_info": {
   "codemirror_mode": {
    "name": "ipython",
    "version": 3
   },
   "file_extension": ".py",
   "mimetype": "text/x-python",
   "name": "python",
   "nbconvert_exporter": "python",
   "pygments_lexer": "ipython3",
   "version": "3.7.2"
  }
 },
 "nbformat": 4,
 "nbformat_minor": 2
}
