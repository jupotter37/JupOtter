{
 "cells": [
  {
   "cell_type": "markdown",
   "id": "cf1e69f3-2283-4477-b770-0e28b170662c",
   "metadata": {},
   "source": [
    "## Q1. Explain the assumptions required to use ANOVA and provide examples of violations that could impact the validity of the results."
   ]
  },
  {
   "cell_type": "markdown",
   "id": "48ecda41-8619-4a4a-9fb7-804f987b9263",
   "metadata": {},
   "source": [
    "## Ans\n",
    "-------\n",
    "Analysis of Variance (ANOVA) is a statistical technique used to compare means across two or more groups or treatments to determine whether there are statistically significant differences among them. To use ANOVA effectively, certain assumptions must be met. Violations of these assumptions can impact the validity of the results. The key assumptions for ANOVA are:\n",
    "\n",
    "1. **Independence of Observations**: This assumption requires that the observations within and between groups are independent of each other. In other words, the value of one observation should not be influenced by the value of another observation. Violation of this assumption can occur in various ways, such as in time series data or repeated measures designs when observations within the same group are correlated.\n",
    "\n",
    "   **Example of Violation**: In a study measuring the effect of a new drug on blood pressure, if the same individuals are measured multiple times within a short period, their measurements may be correlated, violating the independence assumption.\n",
    "\n",
    "2. **Normality**: ANOVA assumes that the residuals (the differences between observed values and the group means) are normally distributed for each group. Violations of this assumption can lead to incorrect p-values and confidence intervals.\n",
    "\n",
    "   **Example of Violation**: If you're comparing the test scores of students from different schools, and the test scores within each school are not normally distributed, ANOVA results may be unreliable.\n",
    "\n",
    "3. **Homogeneity of Variances (Homoscedasticity)**: This assumption requires that the variances of the residuals are roughly equal across all groups. If the variances are not equal, it can lead to a violation of the assumption and affect the validity of ANOVA results.\n",
    "\n",
    "   **Example of Violation**: In an ANOVA comparing the yields of different types of crops, if one crop type has much larger variations in yield compared to others, it could violate the assumption of homogeneity of variances.\n",
    "\n",
    "4. **Mutual Independence**: In the case of two-way or higher-level ANOVA (where there are multiple factors or independent variables), the assumption of mutual independence requires that the levels or categories of one factor do not interact with the levels or categories of another factor. Violations can result in confounding effects and make it challenging to interpret the main effects.\n",
    "\n",
    "   **Example of Violation**: Suppose you're studying the effects of both temperature and humidity on plant growth. If temperature and humidity levels are not independent and interact with each other (e.g., high temperature affects plant growth differently at different humidity levels), the mutual independence assumption is violated.\n",
    "\n",
    "5. **Random Sampling**: ANOVA assumes that the data are collected from random samples from each group or treatment. If the samples are not randomly selected, the results may not generalize to the larger population.\n",
    "\n",
    "   **Example of Violation**: If you're comparing income levels in different cities but only collect data from one specific neighborhood in each city, the sample may not be representative of the entire city, violating the random sampling assumption.\n",
    "\n"
   ]
  },
  {
   "cell_type": "markdown",
   "id": "d2dd9fcb-5aaf-4ed2-9466-78faa181a195",
   "metadata": {},
   "source": [
    "## Q2. What are the three types of ANOVA, and in what situations would each be used?"
   ]
  },
  {
   "cell_type": "markdown",
   "id": "9d3edc11-7fc8-4c8a-8ad5-f293a984e762",
   "metadata": {},
   "source": [
    "## Ans\n",
    "------\n",
    "Analysis of Variance (ANOVA) comes in several types, each designed for different situations and research questions. The three primary types of ANOVA are:\n",
    "\n",
    "1. **One-Way ANOVA**:\n",
    "   - **Use Case**: One-Way ANOVA is used when you have one categorical independent variable (factor) with more than two levels (groups or treatments), and you want to determine if there are statistically significant differences in the means of a continuous dependent variable among these groups.\n",
    "   - **Example**: You have three different types of fertilizer (A, B, and C), and you want to know if they lead to different plant growth heights.\n",
    "\n",
    "2. **Two-Way ANOVA**:\n",
    "   - **Use Case**: Two-Way ANOVA is used when you have two independent categorical variables (factors), and you want to examine how they individually and together affect a continuous dependent variable. It helps identify main effects and interaction effects.\n",
    "   - **Example**: You're studying the effects of both temperature (low and high) and humidity (low and high) on plant growth. Two-Way ANOVA allows you to see how each factor and their combination affect plant growth.\n",
    "\n",
    "3. **Repeated Measures ANOVA**:\n",
    "   - **Use Case**: Repeated Measures ANOVA is used when you have a within-subjects design, meaning you're measuring the same subjects under multiple conditions or time points. It's suitable when you want to see if there are significant differences across the repeated measurements and possibly interactions between these measurements.\n",
    "   - **Example**: You're testing the memory performance of the same group of participants before and after they receive different types of training. Repeated Measures ANOVA helps assess if the training had a significant effect on memory and if this effect changed over time.\n",
    "\n"
   ]
  },
  {
   "cell_type": "markdown",
   "id": "4e94698c-1398-4d38-b360-22574e13221f",
   "metadata": {},
   "source": [
    "## Q3. What is the partitioning of variance in ANOVA, and why is it important to understand this concept?"
   ]
  },
  {
   "cell_type": "markdown",
   "id": "fce72a42-ddcc-428a-88cc-6381c2761f46",
   "metadata": {},
   "source": [
    "## Ans\n",
    "------\n",
    "The partitioning of variance in ANOVA is a fundamental concept that helps researchers understand how the total variation in their data can be broken down into different components. This breakdown is crucial for several reasons:\n",
    "\n",
    "1. **Identifying Sources of Variation**: ANOVA helps identify the sources of variation in a dataset. It allows you to determine whether the observed differences among groups are due to the factors you're studying (such as treatment effects) or if they could be attributed to random chance.\n",
    "\n",
    "2. **Quantifying Treatment Effects**: By partitioning the variance, ANOVA quantifies how much of the total variation in the data can be attributed to the independent variables (factors or treatments). This provides a measure of the treatment effects' strength and significance.\n",
    "\n",
    "3. **Hypothesis Testing**: ANOVA uses the partitioned variance to conduct hypothesis tests. It compares the variation between groups (due to treatment effects) to the variation within groups (due to random fluctuations or error). This comparison is essential for determining if there are statistically significant differences among the groups.\n",
    "\n",
    "4. **Assessing Model Fit**: Understanding the partitioned variance helps assess how well the statistical model (ANOVA model) fits the data. If the model explains a substantial portion of the total variance, it suggests that the model is a good representation of the data and can help in making predictions.\n",
    "\n",
    "5. **Interpreting Results**: When ANOVA reveals statistically significant differences among groups, knowing how the variance is partitioned allows you to interpret the results effectively. You can attribute the observed differences to specific factors or treatments.\n",
    "\n",
    "The partitioning of variance typically involves breaking down the total variance into three main components:\n",
    "\n",
    "1. **Between-Group Variance (SSB)**: This represents the variation between different groups or levels of the independent variable. It reflects the differences caused by the factors or treatments you're studying.\n",
    "\n",
    "2. **Within-Group Variance (SSW or SSE)**: This represents the variation within each group. It accounts for the random variability or error in the data that cannot be explained by the independent variable. It's essentially the variance left after accounting for the treatment effects.\n",
    "\n",
    "3. **Total Variance (SST)**: This is the overall variation in the entire dataset. It's the sum of the between-group variance and the within-group variance.\n",
    "\n",
    "Mathematically, ANOVA uses these variance components to calculate an F-statistic, which is used to determine whether the between-group variance is significantly greater than the within-group variance. If the F-statistic is significant, it suggests that the independent variable (the factor or treatment) has a statistically significant effect on the dependent variable.\n",
    "\n"
   ]
  },
  {
   "cell_type": "markdown",
   "id": "0d7316df-e2b0-4c93-982f-156c01e06be5",
   "metadata": {},
   "source": [
    "## Q4. How would you calculate the total sum of squares (SST), explained sum of squares (SSE), and residual sum of squares (SSR) in a one-way ANOVA using Python?"
   ]
  },
  {
   "cell_type": "markdown",
   "id": "d8ced1b0-3f5d-48fb-8749-a580930eabc5",
   "metadata": {},
   "source": [
    "## Ans\n",
    "--------"
   ]
  },
  {
   "cell_type": "code",
   "execution_count": 1,
   "id": "48e78fbc-8c58-434b-aac7-2e446fe418ef",
   "metadata": {},
   "outputs": [
    {
     "name": "stdout",
     "output_type": "stream",
     "text": [
      "Total Sum of Squares (SST): 1030.0\n",
      "Explained Sum of Squares (SSE): 1000.0\n",
      "Residual Sum of Squares (SSR): 30.0\n"
     ]
    }
   ],
   "source": [
    "import numpy as np\n",
    "\n",
    "# Sample data for three groups (replace this with your own data)\n",
    "group1 = np.array([12, 14, 16, 15, 13])\n",
    "group2 = np.array([22, 24, 25, 26, 23])\n",
    "group3 = np.array([32, 35, 36, 34, 33])\n",
    "\n",
    "# Combine all data into one array\n",
    "all_data = np.concatenate([group1, group2, group3])\n",
    "\n",
    "# Calculate the grand mean (overall mean)\n",
    "grand_mean = np.mean(all_data)\n",
    "\n",
    "# Calculate the Total Sum of Squares (SST)\n",
    "SST = np.sum((all_data - grand_mean) ** 2)\n",
    "\n",
    "# Calculate the Explained Sum of Squares (SSE)\n",
    "group_means = [np.mean(group1), np.mean(group2), np.mean(group3)]\n",
    "SSE = np.sum([len(group) * (group_mean - grand_mean) ** 2 for group, group_mean in zip([group1, group2, group3], group_means)])\n",
    "\n",
    "# Calculate the Residual Sum of Squares (SSR)\n",
    "SSR = SST - SSE\n",
    "\n",
    "# Print the results\n",
    "print(\"Total Sum of Squares (SST):\", SST)\n",
    "print(\"Explained Sum of Squares (SSE):\", SSE)\n",
    "print(\"Residual Sum of Squares (SSR):\", SSR)\n"
   ]
  },
  {
   "cell_type": "markdown",
   "id": "8ac26ae7-a0d2-490f-b6c6-08db6ceed92a",
   "metadata": {},
   "source": [
    "## Q5. In a two-way ANOVA, how would you calculate the main effects and interaction effects using Python?"
   ]
  },
  {
   "cell_type": "markdown",
   "id": "f17afeaf-f018-4391-b8db-9bcea81febbf",
   "metadata": {},
   "source": [
    "##  Ans\n",
    "--------"
   ]
  },
  {
   "cell_type": "code",
   "execution_count": 3,
   "id": "c92521dc-4c9e-4680-b4ac-2c87e73475fb",
   "metadata": {},
   "outputs": [
    {
     "name": "stdout",
     "output_type": "stream",
     "text": [
      "Main Effect of A: 18.000000000000114\n",
      "Main Effect of B: 2.000000000000025\n",
      "Interaction Effect: 7.999999999999965\n"
     ]
    }
   ],
   "source": [
    "import numpy as np\n",
    "import pandas as pd\n",
    "import statsmodels.api as sm\n",
    "from statsmodels.formula.api import ols\n",
    "\n",
    "# Sample data (replace with your own data)\n",
    "data = pd.DataFrame({\n",
    "    'A': ['A1', 'A1', 'A2', 'A2', 'A1', 'A2', 'A1', 'A2'],\n",
    "    'B': ['B1', 'B2', 'B1', 'B2', 'B1', 'B2', 'B2', 'B1'],\n",
    "    'Y': [10, 12, 14, 16, 18, 20, 22, 24]\n",
    "})\n",
    "\n",
    "# Perform a two-way ANOVA\n",
    "formula = 'Y ~ C(A) + C(B) + C(A):C(B)'  # Specify the formula for the model\n",
    "model = ols(formula, data=data).fit()\n",
    "\n",
    "# Get the ANOVA table\n",
    "anova_table = sm.stats.anova_lm(model, typ=2)\n",
    "\n",
    "# Calculate the main effects and interaction effects\n",
    "main_effect_A = anova_table['sum_sq']['C(A)'] / anova_table['df']['C(A)']\n",
    "main_effect_B = anova_table['sum_sq']['C(B)'] / anova_table['df']['C(B)']\n",
    "interaction_effect = anova_table['sum_sq']['C(A):C(B)'] / anova_table['df']['C(A):C(B)']\n",
    "\n",
    "# Print the results\n",
    "print(\"Main Effect of A:\", main_effect_A)\n",
    "print(\"Main Effect of B:\", main_effect_B)\n",
    "print(\"Interaction Effect:\", interaction_effect)\n"
   ]
  },
  {
   "cell_type": "markdown",
   "id": "b7b47009-c962-4080-8017-25ca3957dd3e",
   "metadata": {},
   "source": [
    "## Q6. Suppose you conducted a one-way ANOVA and obtained an F-statistic of 5.23 and a p-value of 0.02. What can you conclude about the differences between the groups, and how would you interpret these results?"
   ]
  },
  {
   "cell_type": "markdown",
   "id": "c3565bab-82aa-49b2-ada9-6383e806e018",
   "metadata": {},
   "source": [
    "## Ans\n",
    "------\n",
    " Let's interpret the results based on the given F-statistic of 5.23 and a p-value of 0.02:\n",
    "\n",
    "1. **F-Statistic**: The F-statistic measures the ratio of the variance between the groups to the variance within the groups. In this case, the F-statistic is 5.23.\n",
    "\n",
    "2. **P-Value**: The p-value associated with the F-statistic tells you the probability of obtaining an F-statistic as extreme as the one you observed, assuming there are no real differences among the groups. In this case, the p-value is 0.02.\n",
    "\n",
    "Now, let's interpret these results:\n",
    "\n",
    "- **Null Hypothesis (H0)**: The null hypothesis in ANOVA states that there are no significant differences among the group means; all group means are equal.\n",
    "\n",
    "- **Alternative Hypothesis (Ha)**: The alternative hypothesis suggests that at least one group mean is different from the others.\n",
    "\n",
    "With the given results:\n",
    "\n",
    "1. **Significance Level**: Before interpreting the results, it's crucial to consider the significance level (alpha) you chose for your analysis. Commonly used significance levels are 0.05 (5%) and 0.01 (1%). If you chose alpha = 0.05, a p-value less than 0.05 is typically considered statistically significant.\n",
    "\n",
    "2. **Interpretation**:\n",
    "   - Since the p-value (0.02) is less than the chosen significance level (e.g., 0.05), you can reject the null hypothesis.\n",
    "   - This means there is evidence to suggest that at least one of the group means is different from the others.\n",
    "\n",
    "3. **Conclusion**:\n",
    "   - Based on these results, you can conclude that there are statistically significant differences among the groups.\n",
    "   - However, the ANOVA test itself does not tell you which specific groups are different from each other. To identify which groups differ, you may need to perform post-hoc tests (e.g., Tukey's HSD, Bonferroni correction) or conduct pairwise comparisons between group means.\n"
   ]
  },
  {
   "cell_type": "markdown",
   "id": "5e04b3e5-ac16-4d66-8213-74109683feda",
   "metadata": {},
   "source": [
    "## Q7. In a repeated measures ANOVA, how would you handle missing data, and what are the potential consequences of using different methods to handle missing data?"
   ]
  },
  {
   "cell_type": "markdown",
   "id": "4171f2f2-8d97-4573-acf2-6732d118af34",
   "metadata": {},
   "source": [
    "## Ans\n",
    "--------\n",
    "Handling missing data in a repeated measures ANOVA is crucial to ensure the validity and accuracy of your analysis. Missing data can occur for various reasons, such as participant non-responses, data recording errors, or dropout in longitudinal studies. \n",
    "\n",
    "There are several methods to handle missing data in repeated measures ANOVA, each with its advantages and potential consequences:\n",
    "\n",
    "1. **Listwise Deletion (Complete Case Analysis)**:\n",
    "   - **Method**: This method involves removing cases (participants) with any missing data in any of the variables of interest. It analyzes only the data from cases with complete information.\n",
    "   - **Advantages**: It's straightforward and easy to implement.\n",
    "   - **Consequences**: It can lead to a loss of valuable data and reduced statistical power, especially if missing data are not random (i.e., missing not at random or MNAR). Results may be biased if the missing data are related to the variables being studied.\n",
    "\n",
    "2. **Pairwise Deletion**:\n",
    "   - **Method**: Pairwise deletion uses all available data for each analysis, and it includes participants with missing data in specific analyses where they have complete data.\n",
    "   - **Advantages**: It retains more data than listwise deletion, maximizing the available information.\n",
    "   - **Consequences**: It can lead to different sample sizes for different comparisons, potentially complicating the interpretation of results. It may also produce biased estimates if data are not missing completely at random (MCAR).\n",
    "\n",
    "3. **Imputation**:\n",
    "   - **Method**: Imputation involves estimating the missing values using various techniques, such as mean imputation, regression imputation, or multiple imputation.\n",
    "   - **Advantages**: It retains all cases and can reduce bias in parameter estimates if imputation models are correctly specified. Multiple imputation is preferred when uncertainty in imputed values is a concern.\n",
    "   - **Consequences**: The accuracy of imputation depends on the chosen method and the assumption that the data are missing at random (MAR). Incorrect imputation methods can introduce bias and artificially reduce variability.\n",
    "\n",
    "4. **Maximum Likelihood Estimation (MLE)**:\n",
    "   - **Method**: MLE is a statistical technique that estimates model parameters while accounting for missing data using likelihood-based methods. It's commonly used in specialized software for repeated measures ANOVA.\n",
    "   - **Advantages**: MLE provides unbiased parameter estimates if data are missing at random (MAR). It uses all available data and maximizes statistical power.\n",
    "   - **Consequences**: It can be computationally intensive and may require specialized software. The MAR assumption is essential for valid results.\n",
    "\n",
    "5. **Pattern Mixture Models**:\n",
    "   - **Method**: Pattern mixture models are a type of mixed-effects model that explicitly models different missing data patterns to estimate parameters.\n",
    "   - **Advantages**: They can provide insights into how different missing data patterns might affect results.\n",
    "   - **Consequences**: They can be complex to implement and require careful consideration of the missing data mechanisms.\n"
   ]
  },
  {
   "cell_type": "markdown",
   "id": "76f45a62-9a39-45dc-8271-f3b5fdfacc97",
   "metadata": {},
   "source": [
    "## Q8. What are some common post-hoc tests used after ANOVA, and when would you use each one? Provide an example of a situation where a post-hoc test might be necessary."
   ]
  },
  {
   "cell_type": "markdown",
   "id": "7231eca3-b7d0-4b6d-a8ee-d9afae816b5d",
   "metadata": {},
   "source": [
    "## Ans\n",
    "-------\n",
    "After conducting an Analysis of Variance (ANOVA) and finding that there are statistically significant differences among groups, post-hoc tests are often used to determine which specific groups differ from each other. Common post-hoc tests include:\n",
    "\n",
    "1. **Tukey's Honestly Significant Difference (Tukey's HSD)**:\n",
    "   - **When to Use**: Tukey's HSD is appropriate when you have conducted a one-way ANOVA with three or more groups, and you want to compare all possible pairs of means to identify which specific pairs are significantly different.\n",
    "   - **Example**: You are testing the effect of different teaching methods (A, B, C, D) on student test scores. After ANOVA, Tukey's HSD can help determine which teaching methods result in significantly different test scores.\n",
    "\n",
    "2. **Bonferroni Correction**:\n",
    "   - **When to Use**: Bonferroni correction is suitable when you want to control the familywise error rate (the probability of making one or more Type I errors) by adjusting the significance level. It's commonly used when conducting multiple pairwise comparisons.\n",
    "   - **Example**: In a medical study, you are comparing the effects of four different drugs on blood pressure. To maintain an overall Type I error rate of 0.05, Bonferroni correction adjusts the significance level for each pairwise comparison.\n",
    "\n",
    "3. **Dunnett's Test**:\n",
    "   - **When to Use**: Dunnett's test is used when you have a control group and want to compare the treatment groups to the control group. It's helpful for identifying which treatment groups are significantly different from the control.\n",
    "   - **Example**: You're studying the effects of three new diets (A, B, C) on weight loss compared to a control group. Dunnett's test can tell you which diets result in significantly different weight loss compared to the control.\n",
    "\n",
    "4. **Scheffé's Test**:\n",
    "   - **When to Use**: Scheffé's test is a conservative post-hoc test used when you have unequal sample sizes and variances among groups. It's robust but less sensitive than some other tests.\n",
    "   - **Example**: You're comparing the performance of three different products (X, Y, Z) in a manufacturing process, and the sample sizes are unequal. Scheffé's test can help identify significant differences among the products.\n",
    "\n",
    "5. **Fisher's Least Significant Difference (LSD)**:\n",
    "   - **When to Use**: Fisher's LSD is a less stringent test used when you are not concerned about controlling the familywise error rate strictly. It's more sensitive but can have a higher Type I error rate.\n",
    "   - **Example**: You're analyzing the effects of different levels of a fertilizer (low, medium, high) on crop yield. If you want to quickly identify which pairs of fertilizer levels are significantly different, Fisher's LSD can be used.\n",
    "\n",
    "6. **Games-Howell**:\n",
    "   - **When to Use**: Games-Howell is suitable when sample sizes are unequal, and variances are not necessarily equal across groups. It's a post-hoc test for unequal variances.\n",
    "   - **Example**: You're studying the impact of different teaching methods (A, B, C) on student performance, but the group variances are unequal. Games-Howell can help identify significant differences.\n",
    "\n"
   ]
  },
  {
   "cell_type": "markdown",
   "id": "88b8202b-d3ff-421f-9afe-5caafeadbc22",
   "metadata": {},
   "source": [
    "##  Q9. A researcher wants to compare the mean weight loss of three diets: A, B, and C. They collect data from 50 participants who were randomly assigned to one of the diets. Conduct a one-way ANOVA using Python to determine if there are any significant differences between the mean weight loss of the three diets. Report the F-statistic and p-value, and interpret the results."
   ]
  },
  {
   "cell_type": "markdown",
   "id": "39895544-51c8-4a8a-a6f0-d770c2ad25b7",
   "metadata": {},
   "source": [
    "## Ans\n",
    "------"
   ]
  },
  {
   "cell_type": "code",
   "execution_count": 6,
   "id": "ad850069-f177-4e2b-a977-b431c12421d9",
   "metadata": {},
   "outputs": [
    {
     "name": "stdout",
     "output_type": "stream",
     "text": [
      "F-statistic: 9.14\n",
      "p-value: 0.0002\n",
      "There is a significant difference between the mean weight loss of the three diets.\n"
     ]
    }
   ],
   "source": [
    "import numpy as np\n",
    "from scipy import stats\n",
    "\n",
    "#generate weight loss data for three diets\n",
    "np.random.seed(123)\n",
    "diet_a = np.random.normal(loc=5.5, scale=1.5, size=50)\n",
    "diet_b = np.random.normal(loc=4.8, scale=1.2, size=50)\n",
    "diet_c = np.random.normal(loc=4.2, scale=1.0, size=50)\n",
    "\n",
    "weight_loss = np.concatenate([diet_a, diet_b, diet_c])\n",
    "group_labels = ['A'] * 50 + ['B'] * 50 + ['C'] * 50\n",
    "\n",
    "#conduct one-way ANOVA\n",
    "f_statistic, p_value = stats.f_oneway(diet_a, diet_b, diet_c)\n",
    "\n",
    "print(\"F-statistic: {:.2f}\".format(f_statistic))\n",
    "print(\"p-value: {:.4f}\".format(p_value))\n",
    "\n",
    "if p_value < 0.05:\n",
    "    print(\"There is a significant difference between the mean weight loss of the three diets.\")\n",
    "else:\n",
    "    print(\"There is no significant difference between the mean weight loss of the three diets.\")\n"
   ]
  },
  {
   "cell_type": "markdown",
   "id": "22cf4775-9fd8-4a58-af69-4688a32a48c5",
   "metadata": {},
   "source": [
    "## Q10. A company wants to know if there are any significant differences in the average time it takes to complete a task using three different software programs: Program A, Program B, and Program C. They randomly assign 30 employees to one of the programs and record the time it takes each employee to complete the task. Conduct a two-way ANOVA using Python to determine if there are any main effects or interaction effects between the software programs and employee experience level (novice vs. experienced). Report the F-statistics and p-values, and interpret the results."
   ]
  },
  {
   "cell_type": "markdown",
   "id": "dd27b2ff-e471-4471-8591-cf7c1d02c0bf",
   "metadata": {},
   "source": [
    "## Ans\n",
    "-------"
   ]
  },
  {
   "cell_type": "code",
   "execution_count": 7,
   "id": "13a83935-ac97-4428-a3a7-05d62b4ae2e1",
   "metadata": {},
   "outputs": [
    {
     "name": "stdout",
     "output_type": "stream",
     "text": [
      "Simulated Data example :\n",
      "  Software Experience       Time\n",
      "0        A     Novice  12.828739\n",
      "1        A     Novice  16.994691\n",
      "2        A     Novice  15.565957\n",
      "3        A     Novice  11.987411\n",
      "4        A     Novice  13.842799\n",
      "\n",
      "======================================================================================\n",
      "\n",
      "                             df      sum_sq     mean_sq          F  \\\n",
      "C(Software)                 2.0  204.881181  102.440590  18.135666   \n",
      "C(Experience)               1.0  165.079097  165.079097  29.224933   \n",
      "C(Software):C(Experience)   2.0   17.481552    8.740776   1.547431   \n",
      "Residual                   56.0  316.319953    5.648571        NaN   \n",
      "\n",
      "                                 PR(>F)  \n",
      "C(Software)                8.460472e-07  \n",
      "C(Experience)              1.375177e-06  \n",
      "C(Software):C(Experience)  2.217544e-01  \n",
      "Residual                            NaN  \n",
      "\n",
      "\n",
      "Conclusion: There is a significant main effect of software.\n",
      "Conclusion: There is a significant main effect of experience.\n",
      "Conclusion: There is no significant interaction effect between software and experience.\n"
     ]
    }
   ],
   "source": [
    "import pandas as pd\n",
    "import statsmodels.api as sm\n",
    "from statsmodels.formula.api import ols\n",
    "\n",
    "# Setting random seed for reproducibility\n",
    "np.random.seed(123)\n",
    "\n",
    "# Generating 2 random time samples for novice and expert\n",
    "time_novice = np.random.normal(loc=15, scale=2, size=30)\n",
    "time_expert = np.random.normal(loc=10, scale=2, size=30)\n",
    "\n",
    "# Generate simulated data\n",
    "data = pd.DataFrame({\n",
    "    'Software': ['A']*20 + ['B']*20 + ['C']*20,\n",
    "    'Experience': ['Novice']*30 + ['Experienced']*30,\n",
    "    'Time': list(time_novice)+list(time_expert)\n",
    "})\n",
    "\n",
    "# Print the simulated data head \n",
    "print('Simulated Data example :')\n",
    "print(data.head())\n",
    "\n",
    "print('\\n======================================================================================\\n')\n",
    "\n",
    "# Fit the two-way ANOVA model\n",
    "model = ols('Time ~ C(Software) + C(Experience) + C(Software):C(Experience)', data=data).fit()\n",
    "table = sm.stats.anova_lm(model, typ=1)\n",
    "\n",
    "# Set significance level\n",
    "alpha = 0.05\n",
    "\n",
    "# Main effects and interaction effect\n",
    "print(table)\n",
    "print('\\n')\n",
    "if table['PR(>F)'][0] < alpha:\n",
    "    print(\"Conclusion: There is a significant main effect of software.\")\n",
    "else:\n",
    "    print(\"Conclusion: There is no significant main effect of software.\")\n",
    "\n",
    "if table['PR(>F)'][1] < alpha:\n",
    "    print(\"Conclusion: There is a significant main effect of experience.\")\n",
    "else:\n",
    "    print(\"Conclusion: There is no significant main effect of experience.\")\n",
    "\n",
    "if table['PR(>F)'][2] < alpha:\n",
    "    print(\"Conclusion: There is a significant interaction effect between software and experience.\")\n",
    "else:\n",
    "    print(\"Conclusion: There is no significant interaction effect between software and experience.\")\n"
   ]
  },
  {
   "cell_type": "markdown",
   "id": "13914ac7-dbb8-44ff-ab0f-257b046f98ac",
   "metadata": {},
   "source": [
    "## Q11. An educational researcher is interested in whether a new teaching method improves student test scores. They randomly assign 100 students to either the control group (traditional teaching method) or the experimental group (new teaching method) and administer a test at the end of the semester. Conduct a two-sample t-test using Python to determine if there are any significant differences in test scores between the two groups. If the results are significant, follow up with a post-hoc test to determine which group(s) differ significantly from each other."
   ]
  },
  {
   "cell_type": "markdown",
   "id": "976ce91b-e413-4b74-afe9-771713553020",
   "metadata": {},
   "source": [
    "## Ans\n",
    "------ "
   ]
  },
  {
   "cell_type": "code",
   "execution_count": 9,
   "id": "b6b7efca-ef40-489d-8699-df500074b19d",
   "metadata": {},
   "outputs": [
    {
     "name": "stdout",
     "output_type": "stream",
     "text": [
      "T-Statistic: -12.843608009993993\n",
      "p-value: 1.2008605930616465e-22\n",
      "There is a significant difference in test scores between the control and experimental groups (p < 0.05).\n"
     ]
    }
   ],
   "source": [
    "import numpy as np\n",
    "import scipy.stats as stats\n",
    "\n",
    "# Sample data for test scores in the control and experimental groups (replace with your own data)\n",
    "\n",
    "control_scores = np.random.normal(loc=75, scale=10, size=100)\n",
    "experimental_scores = np.random.normal(loc=80, scale=10, size=100)\n",
    "\n",
    "\n",
    "# Perform a two-sample t-test\n",
    "t_statistic, p_value = stats.ttest_ind(control_group, experimental_group)\n",
    "\n",
    "# Print the results\n",
    "print(\"T-Statistic:\", t_statistic)\n",
    "print(\"p-value:\", p_value)\n",
    "\n",
    "# Interpret the results\n",
    "if p_value < 0.05:\n",
    "    print(\"There is a significant difference in test scores between the control and experimental groups (p < 0.05).\")\n",
    "else:\n",
    "    print(\"There is no significant difference in test scores between the control and experimental groups (p ≥ 0.05).\")\n"
   ]
  },
  {
   "cell_type": "markdown",
   "id": "e592d87f-e3c5-456c-ac75-a3844009b9de",
   "metadata": {},
   "source": [
    "## Q12. A researcher wants to know if there are any significant differences in the average daily sales of three retail stores: Store A, Store B, and Store C. They randomly select 30 days and record the sales for each store on those days. Conduct a repeated measures ANOVA using Python to determine if there are any significant differences in sales between the three stores. If the results are significant, follow up with a post- hoc test to determine which store(s) differ significantly from each other."
   ]
  },
  {
   "cell_type": "markdown",
   "id": "721582b4-9998-4644-bffc-00ab7d491f76",
   "metadata": {},
   "source": [
    "## Ans\n",
    "_____"
   ]
  },
  {
   "cell_type": "code",
   "execution_count": 10,
   "id": "1793e630-f9d1-4e5a-b2f2-6d8b0a83aa0e",
   "metadata": {},
   "outputs": [
    {
     "name": "stdout",
     "output_type": "stream",
     "text": [
      "F-Statistic: 63.11869060165205\n",
      "p-value: 1.1575298191909095e-17\n",
      "There is a significant difference in average daily sales between the stores (p < 0.05).\n"
     ]
    }
   ],
   "source": [
    "import numpy as np\n",
    "import pandas as pd\n",
    "from scipy import stats\n",
    "\n",
    "# Sample data for daily sales in each store (replace with your own data)\n",
    "store_A = np.random.normal(loc=1000, scale=100, size=(30,))\n",
    "store_B = np.random.normal(loc=1050, scale=150, size=(30,))\n",
    "store_C = np.random.normal(loc=800, scale=80, size=(30,))\n",
    "\n",
    "\n",
    "\n",
    "# Create a DataFrame\n",
    "data = pd.DataFrame({'Store': ['A']*len(store_A) + ['B']*len(store_B) + ['C']*len(store_C),\n",
    "                     'Sales': np.concatenate((store_A, store_B, store_C))})\n",
    "\n",
    "# Perform a one-way ANOVA\n",
    "f_statistic, p_value = stats.f_oneway(store_A, store_B, store_C)\n",
    "\n",
    "# Print the results\n",
    "print(\"F-Statistic:\", f_statistic)\n",
    "print(\"p-value:\", p_value)\n",
    "\n",
    "# Interpret the results\n",
    "if p_value < 0.05:\n",
    "    print(\"There is a significant difference in average daily sales between the stores (p < 0.05).\")\n",
    "else:\n",
    "    print(\"There is no significant difference in average daily sales between the stores (p ≥ 0.05).\")\n"
   ]
  },
  {
   "cell_type": "code",
   "execution_count": null,
   "id": "8b9db0f6-7894-45ed-89f4-ff0b618c8912",
   "metadata": {},
   "outputs": [],
   "source": []
  }
 ],
 "metadata": {
  "kernelspec": {
   "display_name": "Python 3 (ipykernel)",
   "language": "python",
   "name": "python3"
  },
  "language_info": {
   "codemirror_mode": {
    "name": "ipython",
    "version": 3
   },
   "file_extension": ".py",
   "mimetype": "text/x-python",
   "name": "python",
   "nbconvert_exporter": "python",
   "pygments_lexer": "ipython3",
   "version": "3.10.6"
  }
 },
 "nbformat": 4,
 "nbformat_minor": 5
}
