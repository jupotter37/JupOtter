{
 "cells": [
  {
   "cell_type": "markdown",
   "id": "3de4ed4a-f9e2-462c-a4fc-ec4c5eddf324",
   "metadata": {
    "jp-MarkdownHeadingCollapsed": true,
    "tags": []
   },
   "source": [
    "### Question 1"
   ]
  },
  {
   "cell_type": "markdown",
   "id": "c9aa93b9-308c-42ec-9e09-5b480ced04e2",
   "metadata": {},
   "source": [
    "Statistics is a branch of applied mathematics that involves the collection, analysis, and interpretation of data. It's also a scientific discipline that studies how to gather, review, analyze, and draw conclusions from data. \n",
    "Statistics is used in many scientific disciplines, including the physical and social sciences, business, the humanities, government, and manufacturing.\n"
   ]
  },
  {
   "cell_type": "markdown",
   "id": "959cd7f5-c70c-4c93-af82-2fdd834ab828",
   "metadata": {
    "jp-MarkdownHeadingCollapsed": true,
    "tags": []
   },
   "source": [
    "### Question 2"
   ]
  },
  {
   "cell_type": "markdown",
   "id": "7332910d-1ef4-4d07-9997-2d546c2b517d",
   "metadata": {
    "tags": []
   },
   "source": [
    "There are two kinds of Statistics :-\n",
    "1. descriptive Statistics\n",
    "2. inferential Statistics\n",
    "\n",
    "Descriptive statistics summarizes data. It can be used to describe a single variable or multiple variables. For example, descriptive statistics can use scatter plots to summarize relationships between variables.\n",
    "\n",
    "Inferential statistics uses samples to draw conclusions about populations. It can help researchers examine differences between groups and relationships between variables. Inferential statistics uses probability sampling theory and statistical models to help researchers determine the likelihood of certain outcomes"
   ]
  },
  {
   "cell_type": "markdown",
   "id": "122372e2-dd25-42a0-87db-36039cd50cbf",
   "metadata": {},
   "source": [
    "### Question 3"
   ]
  },
  {
   "cell_type": "markdown",
   "id": "db40ee22-36ce-414d-b84a-13e42cc942b7",
   "metadata": {},
   "source": [
    "There are mainly two types of data:\n",
    "1. Qualitative Data\n",
    "2. Quantitive Data \n",
    "\n",
    "Qualitative data is descriptive and can't be measured using numbers. It's also called categorical data because the information can be sorted by category, not by number. Examples of qualitative data include language, nationality, and the names of countries. \n",
    "\n",
    "Quantitative data is based on numbers. Simple math or more advanced statistical analysis is used to discover commonalities or patterns in the data. The results are often reported in graphs and tables."
   ]
  },
  {
   "cell_type": "markdown",
   "id": "f0a547d8-e73e-4998-9f33-b20b4c6ba4bf",
   "metadata": {},
   "source": [
    "### Question 4"
   ]
  },
  {
   "cell_type": "markdown",
   "id": "f829f2f3-0e11-42fd-a4bf-fea2f8e3c9be",
   "metadata": {},
   "source": [
    "(i) Grading in exam: Qualitative (categorical) data. The grades (A+, A, B+, B, C+, C, D, E) are categories and do not have a numerical order.\n",
    "\n",
    "(ii) Colour of mangoes: Qualitative (categorical) data. The colors (yellow, green, orange, red) are categories.\n",
    "\n",
    "(iii) Height data of a class: Quantitative (numerical) data. The heights are represented by numerical values (178.9, 179, 179.5, 176, 177.2, 178.3, 175.8, ...).\n",
    "\n",
    "(iv) Number of mangoes exported by a farm: Quantitative (numerical) data. The number of mangoes is represented by numerical values (500, 600, 478, 672, ...).\n"
   ]
  },
  {
   "cell_type": "markdown",
   "id": "fb807209-5bf2-44d3-b175-9fab45ee799d",
   "metadata": {},
   "source": [
    "### Question 5"
   ]
  },
  {
   "cell_type": "markdown",
   "id": "89024b8b-96b2-48ce-b85f-1a5511d9aa5a",
   "metadata": {},
   "source": [
    "There are 4 types:-\n",
    "\n",
    "1. Nominal- A variable measured on a nominal scale does not have any evaluative distinction. For example, gender is a nominal variable because there is no order in the levels.\n",
    "\n",
    "2. Ordinal- Data can be categorized and ranked. For example, a list of 500 managers of mutual funds may be ranked by assigning the number 1 to the best-performing manager, the number 2 to the second best-performing manager, and so on.\n",
    "\n",
    "3. Interval- Data can be categorized, ranked, and evenly spaced. For example, test scores (e.g., IQ or exams), personality inventories, and temperature in Fahrenheit or Celsius are all interval variables.\n",
    "\n",
    "4. Ratio- Values on the scale fall at set distances and there is a true 0 point. For example, height, weight, speed, and time are all ratio variables.\n"
   ]
  },
  {
   "cell_type": "markdown",
   "id": "3982df0e-82a5-4a9a-8ef0-418e01418930",
   "metadata": {},
   "source": [
    "### Question 6"
   ]
  },
  {
   "cell_type": "markdown",
   "id": "c62c154b-ec7f-46d0-ab09-70f5016b8f65",
   "metadata": {},
   "source": [
    "Understanding the level of measurement is important when analyzing data because it determines the type of statistical analysis that can be conducted. \n",
    "\n",
    "The level of measurement describes the relationship between the values assigned to the attributes of a variable. It helps you decide how to interpret the data and what statistical analysis is appropriate. \n",
    "\n",
    "For example, if the level of measurement of your variable is nominal, you can use mode to summarize your variable, but not median or mean.\n",
    "\n",
    "Few Examples :-\n",
    "1. Determine how data was collected: Researchers can determine whether the methods were qualitative or quantitative.\n",
    "2. Determine how data can be classified: Researchers can determine what type of statistical tests can be used.\n",
    "3. Limit which descriptive statistics can be used: The different levels limit which descriptive statistics can be used to get an overall summary of the data. \n"
   ]
  },
  {
   "cell_type": "markdown",
   "id": "2e9edefc-1fb2-4f9d-b949-c9910b9c8e88",
   "metadata": {},
   "source": [
    "### Question 7"
   ]
  },
  {
   "cell_type": "markdown",
   "id": "67dd3b61-a5c9-4fc6-ade3-3a74ee77b670",
   "metadata": {},
   "source": [
    "Nominal data is qualitative or categorical data that is classified without any intrinsic ordering or rank. Ordinal data is considered “in-between” qualitative and quantitative data and has some predetermined or natural order. \n",
    "\n",
    "1. Data types\n",
    "    Nominal data is used to describe categorical variables, while ordinal data has ordered categories.\n",
    "2. Examples\n",
    "    Examples of nominal data include gender, ethnicity, and hair color. Examples of ordinal data include     class rank, socioeconomic status, and Likert scales.\n",
    "3. Tests\n",
    "    Four types of tests are carried out on nominal data: the McNemar test, Cochran Q's test, Fisher's Exact test, and Chi-Square test. Four types of tests are carried out on ordinal data: the Wilcoxon signed-rank test, Friedman 2-way ANOVA, Wilcoxon rank-sum test, and Kruskal-Wallis 1-way test. \n",
    "\n"
   ]
  },
  {
   "cell_type": "markdown",
   "id": "5bc2ba9a-4ac7-497b-bf72-0843005e9826",
   "metadata": {},
   "source": [
    "### Question 8"
   ]
  },
  {
   "cell_type": "markdown",
   "id": "729619de-a310-4de9-9018-035944d4dc42",
   "metadata": {},
   "source": [
    "1. Histogram\n",
    "    A histogram looks like a bar chart, but each bar represents a range of value. For example, a histogram can show age in the range of 25-40. \n",
    "\n",
    "2. Box chart\n",
    "    A box chart can show the range of values, including the median, 25th percentile, and 75th percentile. It's often used in statistical analysis and scientific papers.\n"
   ]
  },
  {
   "cell_type": "markdown",
   "id": "cd54d12e-3838-4175-94e1-52f7dda3ff7c",
   "metadata": {},
   "source": [
    "### Question 9"
   ]
  },
  {
   "cell_type": "markdown",
   "id": "99082f34-1130-4c5f-acf7-00e29ee661de",
   "metadata": {},
   "source": [
    "Descriptive statistics summarize a sample, while inferential statistics use a sample to learn about a population.\n",
    "\n",
    "Here are some examples of descriptive statistics:-\n",
    "1.  Teaching a class: Finding the average score for a test\n",
    "2.  Pet shop: Finding that 40 out of 100 animals sold were dogs"
   ]
  },
  {
   "cell_type": "markdown",
   "id": "581072f6-a34d-4585-8d46-b859d76d543c",
   "metadata": {},
   "source": [
    "### Question 10"
   ]
  },
  {
   "cell_type": "markdown",
   "id": "0a20589d-65c8-45a0-b3e3-0806ab777b46",
   "metadata": {},
   "source": [
    "In statistics, measures of central tendency represent the middle or center of a set of data values. The three most common measures of central tendency are:\n",
    "\n",
    "1. Mean: The sum of all values divided by the total number of values.\n",
    "2. Median: The middle number in an ordered data set.\n",
    "3. Mode: The most frequent value. \n",
    "\n"
   ]
  },
  {
   "cell_type": "code",
   "execution_count": null,
   "id": "eeb56987-0559-4b61-814c-5046f4427fce",
   "metadata": {},
   "outputs": [],
   "source": []
  }
 ],
 "metadata": {
  "kernelspec": {
   "display_name": "Python 3 (ipykernel)",
   "language": "python",
   "name": "python3"
  },
  "language_info": {
   "codemirror_mode": {
    "name": "ipython",
    "version": 3
   },
   "file_extension": ".py",
   "mimetype": "text/x-python",
   "name": "python",
   "nbconvert_exporter": "python",
   "pygments_lexer": "ipython3",
   "version": "3.10.8"
  }
 },
 "nbformat": 4,
 "nbformat_minor": 5
}
