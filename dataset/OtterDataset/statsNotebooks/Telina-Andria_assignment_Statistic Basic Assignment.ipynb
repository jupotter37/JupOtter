{
 "cells": [
  {
   "cell_type": "markdown",
   "id": "55188446",
   "metadata": {},
   "source": [
    "# Q1. What is Statistics?"
   ]
  },
  {
   "cell_type": "markdown",
   "id": "1ed0ae22",
   "metadata": {},
   "source": [
    "Statistics is a mathematical field that uses data to retrieve summary information in order to make better decisions. It is a crucial tool in many fields, such as business, healthcare, and social sciences. By analyzing data, statisticians can identify patterns and relationships that can help inform decision-making. They can also use statistical models to make predictions and test hypotheses. \n",
    "\n",
    "However, it's important to note that statistics is not just about numbers and calculations. It also involves careful study design, data collection, and interpretation of results."
   ]
  },
  {
   "cell_type": "markdown",
   "id": "480406e5",
   "metadata": {},
   "source": [
    "# Q2. Define the different types of statistics and give an example of when each type might be used.\n"
   ]
  },
  {
   "cell_type": "markdown",
   "id": "0bdcc5b0",
   "metadata": {},
   "source": [
    "There are two types of statistics:\n",
    "1. Descriptive statistic:\n",
    "It extract information from data by performing summary statistic on it. This type of statistics provides a way to understand and communicate the characteristics of a dataset. For example, measures such as mean, median, and mode can be used to describe the central tendency of a dataset, while measures such as variance and standard deviation can be used to describe the spread of the data.\n",
    "\n",
    "2. Inferential statistic:\n",
    "It take sample of the population and generalize a conclusion for the whole population.This type of statistics enables us to make predictions and draw conclusions about a population based on a sample."
   ]
  },
  {
   "cell_type": "markdown",
   "id": "9a64d8df",
   "metadata": {},
   "source": [
    "# Q3.  What are the different types of data and how do they differ from each other? Provide an example of each type of data"
   ]
  },
  {
   "cell_type": "markdown",
   "id": "ab4ad268",
   "metadata": {},
   "source": [
    "Data can be broadly categorized into two types:\n",
    "\n",
    "1. Numerical data: \n",
    "Numerical data is any data that can be expressed in numbers. It is further divided into two subcategories: \n",
    "\n",
    "_Discrete :  It consists of whole numbers that are in a finite range of values. For example, the number of children in a family is a discrete variable because it cannot be a fraction or negative number. \n",
    "\n",
    "_Continious : It can be integers or decimal numbers and can take on an infinite number of possible values. Examples of continuous variables include height, weight, and temperature. \n",
    "\n",
    "\n",
    "2. Categorical data: it is divided into two: Nominal and Ordinal\n",
    "Also known as qualitative data, is any data that consists of categories or labels.It is further divided into two subcategories: \n",
    "\n",
    "_Nominal : Nominal data consists of categories that cannot be ranked or ordered, such as gender or eye color.\n",
    "\n",
    "_Ordinal : Ordinal data consists of categories that can be ranked or ordered, such as education level or grades.\n"
   ]
  },
  {
   "cell_type": "markdown",
   "id": "42cfe7ec",
   "metadata": {},
   "source": [
    "# Q4. Categorise the following datasets with respect to quantitative and qualitative data types:\n"
   ]
  },
  {
   "cell_type": "markdown",
   "id": "c2056dc8",
   "metadata": {},
   "source": [
    "(i)\tGrading in exam: A+, A, B+, B, C+, C, D, E   =============>  Ordinal data because each person's grade is categorized into one of the listed grades, and there is an inherent order to the grades from highest to lowest.\n",
    "\n",
    "(ii)\tColour of mangoes: yellow, green, orange, red ============> Nominal data because each mango is categorized into one of the listed colors, but there is no inherent order to the colors.\n",
    "\n",
    "(iii)\tHeight data of a class: [178.9, 179, 179.5, 176, 177.2, 178.3, 175.8,...] ==========> Continuous numerical data because the data consists of decimal numbers that can take on an infinite number of possible values.\n",
    "\n",
    "(iv)\tNumber of mangoes exported by a farm: [500, 600, 478, 672, …] ===========> Discrete numerical data because the data consists of whole numbers"
   ]
  },
  {
   "cell_type": "markdown",
   "id": "d0b7af06",
   "metadata": {},
   "source": [
    "# Q5. Explain the concept of levels of measurement and give an example of a variable for each level"
   ]
  },
  {
   "cell_type": "markdown",
   "id": "8c6bd19f",
   "metadata": {},
   "source": [
    "The levels of measurement are a classification for data that describes the amount of information that is contained in the data. There are four levels of measurement:\n",
    "\n",
    "_Nominal: The nominal level of measurement is the least precise level of measurement. Data at the nominal level can only be categorized. For example, a variable that records a person's gender would be at the nominal level of measurement, because the values (male, female) only represent categories.\n",
    "\n",
    "_Ordinal: The ordinal level of measurement is more precise than the nominal level, because it allows us to rank the data. For example, a variable that records a person's level of education (high school graduate, college graduate, graduate degree) would be at the ordinal level of measurement, because the values can be ranked in terms of order (high school graduate < college graduate < graduate degree).\n",
    "\n",
    "_Interval: The interval level of measurement is even more precise than the ordinal level, because it allows us to calculate the difference between two values. For example, a variable that records a person's temperature (in degrees Fahrenheit) would be at the interval level of measurement, because we can calculate the difference between two temperatures (e.g., 98.6 degrees Fahrenheit - 97.0 degrees Fahrenheit = 1.6 degrees Fahrenheit). However, we cannot say that 1 degree Fahrenheit is twice as hot as 0.5 degrees Fahrenheit, because the interval scale does not have a true zero point.\n",
    "\n",
    "_Ratio: The ratio level of measurement is the most precise level of measurement. It is similar to the interval level of measurement, but it has a true zero point. For example, a variable that records a person's height in inches would be at the ratio level of measurement, because we can calculate the difference between two heights (e.g., 6 feet - 5 feet = 1 foot) and we can say that 6 feet is twice as tall as 3 feet."
   ]
  },
  {
   "cell_type": "markdown",
   "id": "28dd736a",
   "metadata": {},
   "source": [
    "# Q6. Why is it important to understand the level of measurement when analyzing data? Provide an example to illustrate your answer.\n"
   ]
  },
  {
   "cell_type": "markdown",
   "id": "5fbe3a8c",
   "metadata": {},
   "source": [
    "Levels of measurement are important because they determine the type of statistical analysis that can be performed on the data. Each level of measurement has its own set of statistical techniques that can be used to analyze the data.\n",
    "\n",
    "For example, nominal data can be analyzed using frequency counts and percentages, while ordinal data can be analyzed using measures of central tendency such as median and mode. Interval and ratio data can be analyzed using more advanced statistical techniques such as regression analysis and ANOVA.\n",
    "\n",
    "Understanding the level of measurement is also important for interpreting the results of a research study. The level of measurement determines the types of conclusions that can be drawn from the data. For example, you cannot calculate a mean for nominal data, but you can calculate a mean for interval or ratio data.\n",
    "\n",
    "Therefore, knowing the level of measurement is important for ensuring that the appropriate statistical analysis is performed and that the results are interpreted correctly.\n",
    "\n"
   ]
  },
  {
   "cell_type": "markdown",
   "id": "2dcb575c",
   "metadata": {},
   "source": [
    "# Q7. How nominal data type is different from ordinal data type.\n"
   ]
  },
  {
   "cell_type": "markdown",
   "id": "6145d703",
   "metadata": {},
   "source": [
    "Nominal data only allows for categorization, while ordinal data allows for both categorization and ranking. In statistical analysis, nominal data can be analyzed using frequency counts and percentages, while ordinal data can be analyzed using measures of central tendency such as median and mode."
   ]
  },
  {
   "cell_type": "markdown",
   "id": "61b64134",
   "metadata": {},
   "source": [
    "# Q8. Which type of plot can be used to display data in terms of range?\n"
   ]
  },
  {
   "cell_type": "markdown",
   "id": "a2561753",
   "metadata": {},
   "source": [
    "Boxplot can be used to display data in terms of range.The box in the plot represents the interquartile range (IQR), which is the range between the first quartile (25th percentile) and the third quartile (75th percentile) of the data. The line inside the box represents the median, which is the value that separates the data into two equal halves. The whiskers on either side of the box represent the minimum and maximum values of the data, or a multiple of the IQR away from the box. Box plots are useful for visualizing the spread and distribution of data, as well as identifying outliers."
   ]
  },
  {
   "cell_type": "markdown",
   "id": "4757b447",
   "metadata": {},
   "source": [
    "# Q9. Describe the difference between descriptive and inferential statistics. Give an example of each type of statistics and explain how they are used.\n"
   ]
  },
  {
   "cell_type": "markdown",
   "id": "0d930c9e",
   "metadata": {},
   "source": [
    "Descriptive statistics are used to describe and summarize the key features of a dataset. This includes measures such as the mean, median, mode, range, variance, and standard deviation. Descriptive statistics are used to provide a clear and concise summary of the data, which can help to identify patterns, trends, and relationships within the dataset.\n",
    "\n",
    "Inferential statistics, on the other hand, are used to make inferences or predictions about a population based on a sample of data. This involves using statistical models and probability theory to test hypotheses and draw conclusions about the population. Inferential statistics are used to determine whether the results obtained from a sample are likely to be representative of the entire population."
   ]
  },
  {
   "cell_type": "markdown",
   "id": "d1f6965c",
   "metadata": {},
   "source": [
    "# Q10. What are some common measures of central tendency and variability used in statistics? Explain how each measure can be used to describe a dataset."
   ]
  },
  {
   "cell_type": "markdown",
   "id": "3cd10933",
   "metadata": {},
   "source": [
    "1. Measures of central tendency describe the typical value or center of a dataset.\n",
    "\n",
    "_Mean: The mean is the average value of a dataset. It is calculated by adding up all the values in the dataset and dividing by the number of values. The mean is sensitive to outliers, which can affect its value.\n",
    "\n",
    "_Median: The median is the middle value in a dataset when the values are arranged in order. If there is an even number of values, the median is the average of the two middle values. The median is less sensitive to outliers than the mean.\n",
    "\n",
    "_Mode: The mode is the most common value in a dataset. It is useful for describing datasets with categorical or discrete values.\n",
    "\n",
    "2. Measures of variability describe how spread out or dispersed the values in a dataset are.\n",
    "\n",
    "_Range: The range is the difference between the maximum and minimum values in a dataset. It provides a rough estimate of the spread of the data, but is sensitive to outliers.\n",
    "\n",
    "_Variance: The variance measures how much the values in a dataset vary from the mean. It is calculated by taking the sum of the squared differences between each value and the mean, and dividing by the number of values minus one. A high variance indicates that the values are spread out widely from the mean.\n",
    "\n",
    "_Standard deviation: The standard deviation is the square root of the variance. It is a more commonly used measure of variability than variance because it is easier to interpret. A high standard deviation indicates that the values are spread out widely from the mean."
   ]
  },
  {
   "cell_type": "markdown",
   "id": "2a0142a7",
   "metadata": {},
   "source": []
  }
 ],
 "metadata": {
  "kernelspec": {
   "display_name": "Python 3 (ipykernel)",
   "language": "python",
   "name": "python3"
  },
  "language_info": {
   "codemirror_mode": {
    "name": "ipython",
    "version": 3
   },
   "file_extension": ".py",
   "mimetype": "text/x-python",
   "name": "python",
   "nbconvert_exporter": "python",
   "pygments_lexer": "ipython3",
   "version": "3.9.16"
  }
 },
 "nbformat": 4,
 "nbformat_minor": 5
}
