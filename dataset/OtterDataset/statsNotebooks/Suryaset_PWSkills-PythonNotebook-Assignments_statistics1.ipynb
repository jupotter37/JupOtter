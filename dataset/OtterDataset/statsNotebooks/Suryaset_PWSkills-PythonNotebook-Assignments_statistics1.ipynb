{
 "cells": [
  {
   "cell_type": "code",
   "execution_count": null,
   "metadata": {},
   "outputs": [],
   "source": []
  },
  {
   "attachments": {},
   "cell_type": "markdown",
   "metadata": {},
   "source": [
    "## Ans 1\n",
    "Statistics is a branch of mathematics that deals with the collection, analysis, interpretation, presentation, and organization of data. It involves methods for designing experiments, surveys, and observational studies to gather data, and techniques for summarizing and presenting data in a meaningful way. Statistics can be used to make inferences, test hypotheses, and identify patterns and relationships in data. It plays a crucial role in scientific research, business, economics, medicine, and many other fields."
   ]
  },
  {
   "attachments": {},
   "cell_type": "markdown",
   "metadata": {},
   "source": [
    "## Ans 2\n",
    "There are two main types of statistics: descriptive statistics and inferential statistics.\n",
    "\n",
    "* Descriptive statistics: Descriptive statistics are used to summarize and describe the basic features of a dataset. Some examples of descriptive statistics include measures of central tendency such as mean, median, and mode, measures of variability such as standard deviation and range, and measures of distribution such as skewness and kurtosis. Descriptive statistics can be used to provide an overview of a dataset, to identify patterns and trends in the data, and to summarize the data in a way that is easily interpretable.\n",
    "\n",
    "* Inferential statistics: Inferential statistics are used to draw conclusions or make inferences about a population based on a sample of data. Inferential statistics involve using probability theory to make generalizations about a larger population based on a smaller sample of data. Examples of inferential statistics include hypothesis testing, confidence intervals, and regression analysis. Inferential statistics are used in a wide range of fields, from medicine to business to social sciences, to draw conclusions based on limited data and to make predictions about future outcomes."
   ]
  },
  {
   "attachments": {},
   "cell_type": "markdown",
   "metadata": {},
   "source": [
    "## Ans 3\n",
    "There are four commonly recognized types of data in statistics:\n",
    "\n",
    "* Nominal data: This type of data refers to categorical data that cannot be ordered or ranked. For example, the colors of cars in a parking lot or the names of countries.\n",
    "\n",
    "* Ordinal data: This type of data refers to categorical data that can be ranked or ordered. For example, the education levels of people in a survey, such as \"high school\", \"college\", and \"graduate school\".\n",
    "\n",
    "* Interval data: This type of data refers to numerical data that has equal intervals between values, but does not have a true zero point. For example, temperature measured in Celsius or Fahrenheit.\n",
    "\n",
    "* Ratio data: This type of data refers to numerical data that has equal intervals between values and has a true zero point. For example, weight or height of a person.\n",
    "\n",
    "The key differences between these types of data are the type of measurement scale they have and the types of statistical analyses that can be performed on them."
   ]
  },
  {
   "attachments": {},
   "cell_type": "markdown",
   "metadata": {},
   "source": [
    "## Ans 4 \n",
    "* (i) Grading in exam: Ordinal qualitative data\n",
    "* (ii) Colour of mangoes: Nominal qualitative data\n",
    "* (iii) Height data of a class: Ratio quantitative data\n",
    "* (iv) Number of mangoes exported by a farm: Ratio quantitative data"
   ]
  },
  {
   "attachments": {},
   "cell_type": "markdown",
   "metadata": {},
   "source": [
    "## Ans 5\n",
    "The levels of measurement, also known as scales of measurement, refer to the different ways in which variables can be measured. There are four commonly recognized levels of measurement: nominal, ordinal, interval, and ratio.\n",
    "\n",
    "* Nominal: This level of measurement is used for variables that have no inherent order or ranking, and they are often categorical or qualitative. The variables are named and grouped into categories. Examples of nominal variables include gender (male or female), hair color (blonde, brunette, black, etc.), and race (White, African American, Hispanic, etc.).\n",
    "\n",
    "* Ordinal: This level of measurement is used for variables that have a natural order, but the differences between the values are not necessarily equal. In other words, the variables can be ranked but not quantified. Examples of ordinal variables include education level (high school, college, graduate degree), income level (low, middle, high), and academic grades (A, B, C, D, F).\n",
    "\n",
    "* Interval: This level of measurement is used for variables that have a natural order, and the differences between values are equal, but there is no true zero point. Examples of interval variables include temperature in Celsius or Fahrenheit, IQ scores, and dates.\n",
    "\n",
    "* Ratio: This level of measurement is used for variables that have a natural order, the differences between values are equal, and there is a true zero point. Examples of ratio variables include height, weight, income, and distance."
   ]
  },
  {
   "attachments": {},
   "cell_type": "markdown",
   "metadata": {},
   "source": [
    "## Ans 6\n",
    "It is important to understand the level of measurement when analyzing data because it determines the types of statistical analysis that can be applied to the data, as well as the appropriate measures of central tendency and variability to use. Additionally, it affects the types of conclusions that can be drawn from the data.\n",
    "\n",
    "For example, let's consider two variables - age and gender - in a survey. Age is an example of a quantitative variable that is measured at the ratio level, while gender is a qualitative variable measured at the nominal level. If we want to compare the mean age of male and female respondents, we can use a t-test or ANOVA since age is measured at the ratio level. However, if we want to compare the proportion of males and females in the sample, we would use a chi-square test since gender is a nominal variable. If we were to mix up the levels of measurement and apply the wrong statistical test, we could end up with inaccurate or misleading results."
   ]
  },
  {
   "attachments": {},
   "cell_type": "markdown",
   "metadata": {},
   "source": [
    "## Ans 7\n",
    "Nominal and ordinal are two different types of categorical data. Nominal data is a type of data that consists of categories or names that do not have any inherent order or ranking. For example, the colors of fruits can be considered nominal data because they do not have any inherent ranking or order. On the other hand, ordinal data is a type of data that consists of categories or names that have an inherent order or ranking. For example, the letter grades in a class, such as A, B, C, D, and F, can be considered ordinal data because they have an inherent order or ranking from highest to lowest.\n",
    "\n",
    "The main difference between nominal and ordinal data is that ordinal data has a meaningful order or ranking while nominal data does not. This means that while we can say that one category is higher or lower than another in ordinal data, we cannot make such comparisons in nominal data. For example, we can say that an A grade is better than a B grade, but we cannot say that the color green is better than the color red."
   ]
  },
  {
   "attachments": {},
   "cell_type": "markdown",
   "metadata": {},
   "source": [
    "## Ans 8\n",
    "A box plot can be used to display data in terms of range. It displays the distribution of data based on five number summary (minimum, first quartile, median, third quartile, and maximum) and can give a quick visual representation of the range of the data."
   ]
  },
  {
   "attachments": {},
   "cell_type": "markdown",
   "metadata": {},
   "source": [
    "## Ans 9\n",
    "Descriptive and inferential statistics are two major branches of statistics that are used to analyze and interpret data.\n",
    "\n",
    "* Descriptive statistics involves the summary and presentation of data in a way that provides meaningful information about the characteristics of a dataset. It is used to describe the key features of a dataset, such as measures of central tendency (mean, median, and mode), measures of variability (range, standard deviation, and variance), and the distribution of the data. An example of descriptive statistics is calculating the mean and standard deviation of a dataset of exam scores to understand the average performance of the students.\n",
    "\n",
    "* In contrast, inferential statistics involves making predictions or drawing conclusions about a population based on a sample of data. It is used to infer the characteristics of a population based on a sample of data, by testing hypotheses or estimating parameters of the population. An example of inferential statistics is using a hypothesis test to determine if there is a significant difference in exam scores between two groups of students.\n",
    "\n",
    "The key difference between descriptive and inferential statistics is that descriptive statistics is used to describe and summarize a dataset, while inferential statistics is used to make inferences or predictions about a larger population based on a sample of data."
   ]
  },
  {
   "attachments": {},
   "cell_type": "markdown",
   "metadata": {},
   "source": [
    "## Ans 10\n",
    "Measures of central tendency and variability are important descriptive statistics used to describe datasets.\n",
    "\n",
    "Measures of Central Tendency:\n",
    "\n",
    "* Mean: It is the sum of all observations divided by the number of observations. It is the most commonly used measure of central tendency. Mean is sensitive to outliers and is used when the distribution is normal.\n",
    "* Median: It is the middle value in a dataset when arranged in ascending or descending order. Median is less sensitive to outliers than mean and is used when the dataset is skewed or has outliers.\n",
    "* Mode: It is the value that occurs most frequently in a dataset. Mode is used when dealing with nominal data. <br>\n",
    "\n",
    "Measures of Variability:\n",
    "\n",
    "* Range: It is the difference between the maximum and minimum values in a dataset. Range is easy to calculate but is sensitive to outliers.\n",
    "* Variance: It is the average of the squared differences from the mean. Variance is used to measure the spread of data around the mean.\n",
    "* Standard Deviation: It is the square root of the variance. Standard deviation is used to measure the spread of data around the mean and is more commonly used than variance as it is in the same unit as the data.\n",
    "\n",
    "For example, if we have a dataset of exam scores, we can use the mean to find the average score of the class, the median to find the middle score, and the mode to find the most common score. We can use the range to find the difference between the highest and lowest score, the variance to find how much the scores deviate from the mean, and the standard deviation to find the spread of scores around the mean. By using these measures, we can get a good understanding of the exam scores of the class."
   ]
  },
  {
   "cell_type": "markdown",
   "metadata": {},
   "source": []
  }
 ],
 "metadata": {
  "language_info": {
   "name": "python"
  },
  "orig_nbformat": 4
 },
 "nbformat": 4,
 "nbformat_minor": 2
}
