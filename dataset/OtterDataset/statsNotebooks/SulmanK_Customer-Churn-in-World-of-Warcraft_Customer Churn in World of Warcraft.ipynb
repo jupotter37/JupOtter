{
 "cells": [
  {
   "cell_type": "markdown",
   "metadata": {},
   "source": [
    "![WoW Logo](assets/World_of_Warcraft_logo.jpg)"
   ]
  },
  {
   "cell_type": "markdown",
   "metadata": {},
   "source": [
    "## Objective\n",
    "* Complete Exploratory Data Analysis.\n",
    "* Complete Survival Analysis.\n",
    "* Predict if a user will churn in a six-month period using classification algorithms.\n",
    "\n",
    "## Background Information\n",
    "* World of Warcraft is a massively multiplayer online video game released on November 23, 2004. Before this era, MMORPG’s catered to a small segment of video gamers. But with the massive success of WoW, various video game companies decided to invest resources into developing large-scale titles. Video games were sought out as movie-like experiences, where you follow a single protagonist. However, WoW did not follow a single protagonist, but all the users playing the video game. Not only was the main objective different from single-player games, but the pricing model. Traditional games followed a single upfront fee. In addition to the single upfront fee, WoW had a monthly subscription to play the game. With customer subscriptions in mind, we can apply the use of churn prediction to not only predict whether a customer will unsubscribe from the service but explore the user’s playing behavior to obtain more insight into user playing patterns. The churn problem is somewhat complex due to the nature of not having a one size fits all solution – as different services define churn in a variety of ways.\n",
    "\n",
    "## Process:\n",
    "* Exploratory Data Analysis conducted utilizing various python packages (Numpy, Matplotlib, Pandas, and Plotly).'\n",
    "* Survival Analysis (Lifelines)\n",
    "    * Kaplan Meier Estimator\n",
    "* Binary Classification Algorithms (Sci-Kit Learn)\n",
    "    * Logistic Regression\n",
    "    * Support Vector Machines\n",
    "    * K-nearest neighbors\n",
    "    * Random Forests\n",
    "\n",
    "\n",
    "\n",
    "## Table of Contents:\n",
    "* Part I: Exploratory Data Analysis\n",
    "    * EDA\n",
    "* Part II: Churn Prediction\n",
    "    * Survival Analysis\n",
    "    * Binary Classification"
   ]
  },
  {
   "cell_type": "code",
   "execution_count": 1,
   "metadata": {},
   "outputs": [],
   "source": [
    "from lifelines import KaplanMeierFitter\n",
    "from lifelines.plotting import rmst_plot\n",
    "from sklearn import svm\n",
    "from sklearn.cluster import KMeans\n",
    "from sklearn.compose import ColumnTransformer\n",
    "from sklearn.decomposition import PCA\n",
    "from sklearn.ensemble import RandomForestClassifier\n",
    "from sklearn.feature_selection import RFECV\n",
    "from sklearn.linear_model import LogisticRegression\n",
    "from sklearn.metrics import accuracy_score,recall_score,precision_score,f1_score\n",
    "from sklearn.metrics import confusion_matrix\n",
    "from sklearn.metrics import roc_auc_score\n",
    "from sklearn.metrics import roc_curve\n",
    "from sklearn.model_selection import GridSearchCV\n",
    "from sklearn.model_selection import RandomizedSearchCV\n",
    "from sklearn.model_selection import StratifiedKFold\n",
    "from sklearn.model_selection import cross_val_score\n",
    "from sklearn.model_selection import train_test_split\n",
    "from sklearn.neighbors import KNeighborsClassifier\n",
    "from sklearn.pipeline import Pipeline\n",
    "from sklearn.preprocessing import StandardScaler\n",
    "\n",
    "import matplotlib as mpl\n",
    "import matplotlib.patches as mpatches\n",
    "import matplotlib.patches as mpatches\n",
    "import matplotlib.pyplot as plt\n",
    "import numpy as np\n",
    "import pandas as pd\n",
    "import plotly.express as px\n",
    "import plotly.graph_objects as go\n",
    "import seaborn as sns\n",
    "import warnings\n",
    "\n",
    "warnings.filterwarnings(\"ignore\")"
   ]
  },
  {
   "cell_type": "markdown",
   "metadata": {},
   "source": [
    "# PART I - Exploratory Data Analysis"
   ]
  },
  {
   "cell_type": "markdown",
   "metadata": {},
   "source": [
    "### Data Preprocessing / Feature Engineering"
   ]
  },
  {
   "cell_type": "markdown",
   "metadata": {},
   "source": [
    "Let us begin by reading in the CSV file containing the data, and examining the data contents such as the number of features and the number of samples. It seems there are 7 column entries (features) and 10826734 row entries (number of samples)."
   ]
  },
  {
   "cell_type": "code",
   "execution_count": 2,
   "metadata": {
    "scrolled": true
   },
   "outputs": [
    {
     "name": "stdout",
     "output_type": "stream",
     "text": [
      "<class 'pandas.core.frame.DataFrame'>\n",
      "RangeIndex: 10826734 entries, 0 to 10826733\n",
      "Data columns (total 7 columns):\n",
      "char          int64\n",
      " level        int64\n",
      " race         object\n",
      " charclass    object\n",
      " zone         object\n",
      " guild        int64\n",
      " timestamp    object\n",
      "dtypes: int64(3), object(4)\n",
      "memory usage: 578.2+ MB\n"
     ]
    },
    {
     "data": {
      "text/html": [
       "<div>\n",
       "<style scoped>\n",
       "    .dataframe tbody tr th:only-of-type {\n",
       "        vertical-align: middle;\n",
       "    }\n",
       "\n",
       "    .dataframe tbody tr th {\n",
       "        vertical-align: top;\n",
       "    }\n",
       "\n",
       "    .dataframe thead th {\n",
       "        text-align: right;\n",
       "    }\n",
       "</style>\n",
       "<table border=\"1\" class=\"dataframe\">\n",
       "  <thead>\n",
       "    <tr style=\"text-align: right;\">\n",
       "      <th></th>\n",
       "      <th>char</th>\n",
       "      <th>level</th>\n",
       "      <th>race</th>\n",
       "      <th>charclass</th>\n",
       "      <th>zone</th>\n",
       "      <th>guild</th>\n",
       "      <th>timestamp</th>\n",
       "    </tr>\n",
       "  </thead>\n",
       "  <tbody>\n",
       "    <tr>\n",
       "      <td>0</td>\n",
       "      <td>59425</td>\n",
       "      <td>1</td>\n",
       "      <td>Orc</td>\n",
       "      <td>Rogue</td>\n",
       "      <td>Orgrimmar</td>\n",
       "      <td>165</td>\n",
       "      <td>01/01/08 00:02:04</td>\n",
       "    </tr>\n",
       "    <tr>\n",
       "      <td>1</td>\n",
       "      <td>65494</td>\n",
       "      <td>9</td>\n",
       "      <td>Orc</td>\n",
       "      <td>Hunter</td>\n",
       "      <td>Durotar</td>\n",
       "      <td>-1</td>\n",
       "      <td>01/01/08 00:02:04</td>\n",
       "    </tr>\n",
       "    <tr>\n",
       "      <td>2</td>\n",
       "      <td>65325</td>\n",
       "      <td>14</td>\n",
       "      <td>Orc</td>\n",
       "      <td>Warrior</td>\n",
       "      <td>Ghostlands</td>\n",
       "      <td>-1</td>\n",
       "      <td>01/01/08 00:02:04</td>\n",
       "    </tr>\n",
       "    <tr>\n",
       "      <td>3</td>\n",
       "      <td>65490</td>\n",
       "      <td>18</td>\n",
       "      <td>Orc</td>\n",
       "      <td>Hunter</td>\n",
       "      <td>Ghostlands</td>\n",
       "      <td>-1</td>\n",
       "      <td>01/01/08 00:02:04</td>\n",
       "    </tr>\n",
       "    <tr>\n",
       "      <td>4</td>\n",
       "      <td>2288</td>\n",
       "      <td>60</td>\n",
       "      <td>Orc</td>\n",
       "      <td>Hunter</td>\n",
       "      <td>Hellfire Peninsula</td>\n",
       "      <td>-1</td>\n",
       "      <td>01/01/08 00:02:09</td>\n",
       "    </tr>\n",
       "  </tbody>\n",
       "</table>\n",
       "</div>"
      ],
      "text/plain": [
       "    char   level  race  charclass                zone   guild  \\\n",
       "0  59425       1   Orc      Rogue           Orgrimmar     165   \n",
       "1  65494       9   Orc     Hunter             Durotar      -1   \n",
       "2  65325      14   Orc    Warrior          Ghostlands      -1   \n",
       "3  65490      18   Orc     Hunter          Ghostlands      -1   \n",
       "4   2288      60   Orc     Hunter  Hellfire Peninsula      -1   \n",
       "\n",
       "           timestamp  \n",
       "0  01/01/08 00:02:04  \n",
       "1  01/01/08 00:02:04  \n",
       "2  01/01/08 00:02:04  \n",
       "3  01/01/08 00:02:04  \n",
       "4  01/01/08 00:02:09  "
      ]
     },
     "execution_count": 2,
     "metadata": {},
     "output_type": "execute_result"
    }
   ],
   "source": [
    "#--------- Pandas Dataframe\n",
    "## Read in CSV\n",
    "avatar_history = pd.read_csv('data/wowah_data.csv')\n",
    "\n",
    "## Examine data contents\n",
    "avatar_history.info()\n",
    "avatar_history.head()"
   ]
  },
  {
   "cell_type": "markdown",
   "metadata": {},
   "source": [
    "* char = the character id\n",
    "* level = level of the character\n",
    "* race = race of the character\n",
    "* charclass = class of the character\n",
    "* zone = location at which the character is\n",
    "* guild = guild id of the character\n",
    "* timestamp = date and time at which the entry took place\n"
   ]
  },
  {
   "cell_type": "markdown",
   "metadata": {},
   "source": [
    "Remove unwanted whitespace in column names."
   ]
  },
  {
   "cell_type": "code",
   "execution_count": 3,
   "metadata": {
    "scrolled": true
   },
   "outputs": [
    {
     "data": {
      "text/plain": [
       "Index(['char', 'level', 'race', 'charclass', 'zone', 'guild', 'timestamp'], dtype='object')"
      ]
     },
     "execution_count": 3,
     "metadata": {},
     "output_type": "execute_result"
    }
   ],
   "source": [
    "# Strip whitespace in feature names\n",
    "avatar_history.rename(columns = lambda x: x.strip(), inplace = True)\n",
    "avatar_history.columns"
   ]
  },
  {
   "cell_type": "markdown",
   "metadata": {},
   "source": [
    "Split the date from the time from the timestamp feature."
   ]
  },
  {
   "cell_type": "code",
   "execution_count": 4,
   "metadata": {},
   "outputs": [],
   "source": [
    "def time_transform(x):\n",
    "    \"Function to split the date and time\"\n",
    "    y = x.split()[0]\n",
    "    return y[:-2] + '20' + y[-2:]"
   ]
  },
  {
   "cell_type": "code",
   "execution_count": 5,
   "metadata": {},
   "outputs": [],
   "source": [
    "## Create new features date and time using the function above\n",
    "avatar_history['date'] = avatar_history['timestamp'].apply(time_transform)\n",
    "avatar_history['time'] = avatar_history['timestamp'].apply(lambda x: x.split()[1][:-4] + '0')"
   ]
  },
  {
   "cell_type": "markdown",
   "metadata": {},
   "source": [
    "The timestamps feature was converted into a DateTime object, allowing us to extract the month, day, and time of each entry. "
   ]
  },
  {
   "cell_type": "code",
   "execution_count": 6,
   "metadata": {},
   "outputs": [],
   "source": [
    "# Create datetime features \n",
    "avatar_history['timestamp'] = pd.to_datetime(avatar_history['timestamp'])\n",
    "avatar_history['Month'] = avatar_history['timestamp'].dt.month\n",
    "avatar_history['Day'] = avatar_history['timestamp'].dt.dayofyear\n",
    "avatar_history['Weekday'] = avatar_history['timestamp'].dt.weekday"
   ]
  },
  {
   "cell_type": "markdown",
   "metadata": {},
   "source": [
    "### Feature Exploration"
   ]
  },
  {
   "cell_type": "markdown",
   "metadata": {},
   "source": [
    "The number of unique entries for each feature is organized in Table 1.  "
   ]
  },
  {
   "cell_type": "code",
   "execution_count": null,
   "metadata": {},
   "outputs": [],
   "source": [
    "# Table of feature description\n",
    "## Find the number of unique entries for each feature\n",
    "number_of_characters = avatar_history['char'].nunique()\n",
    "number_of_levels = avatar_history['level'].nunique()\n",
    "number_of_races = avatar_history['race'].nunique()\n",
    "number_of_classes = avatar_history['charclass'].nunique()\n",
    "number_of_zones = avatar_history['zone'].nunique()\n",
    "number_of_guilds = avatar_history['guild'].nunique()\n",
    "number_of_timestamps = avatar_history['timestamp'].nunique()\n",
    "\n",
    "## Append and print the unique entries for each feature\n",
    "data = []\n",
    "for x in avatar_history.columns:\n",
    "    print(\"The number of unique \" + str(x) + \" is \" + str(avatar_history[x].nunique()) + \".\")\n",
    "    data.append(avatar_history[x].nunique())\n",
    "\n",
    "## Create table using plotly \n",
    "### Create an array and transpose values to make it a two-column format\n",
    "data = np.array(data)\n",
    "data = data.transpose()\n",
    "\n",
    "### Create plotly table object\n",
    "feature_information = go.Figure(data = [go.Table(\n",
    "    header = dict(values = ['Unique Characters', 'Unique Levels',\n",
    "                            'Unique Races', 'Unique Classes',\n",
    "                            'Unique Zones', 'Unique Guilds',\n",
    "                            'Unique Timestamps'],\n",
    "                  line_color = 'darkslategray',\n",
    "                  fill_color = 'lightskyblue',\n",
    "                  align = 'left'),\n",
    "    cells = dict(values = data,\n",
    "                 line_color = 'darkslategray',\n",
    "                 fill_color = 'lightcyan',\n",
    "                 align = 'left'))\n",
    "])\n",
    "\n",
    "feature_information.update_layout(width = 800, height = 300, title = 'Table 1: Feature description')\n",
    "feature_information.show()"
   ]
  },
  {
   "cell_type": "markdown",
   "metadata": {},
   "source": [
    "### Level Distribution"
   ]
  },
  {
   "cell_type": "markdown",
   "metadata": {},
   "source": [
    "Most players are level 1 with 11598 out of 37354 character entries. This can be explained by the use of alternate characters, which are used as mules in major towns to sell and trade items between others. Also, with such a right-skewed distribution it may be informative for game developers to put more effort into the level 1 – 30 zones. There appears to be a steady decrease from 1 to 60 until 70, which was the max level before the WOTLK expansion. Finally, a peak at 80, which is the latest max level. "
   ]
  },
  {
   "cell_type": "code",
   "execution_count": null,
   "metadata": {
    "scrolled": true
   },
   "outputs": [],
   "source": [
    "# Plot the Distribution of Levels\n",
    "## Create data segment - get the latest snapshot of levels\n",
    "level_dist = avatar_history.groupby('char')['level'].max()\n",
    "\n",
    "## Figure parameters\n",
    "plt.figure(figsize = (20,10))\n",
    "sns.set(style = \"whitegrid\", rc = {\"lines.linewidth\": 3})\n",
    "\n",
    "ax = sns.distplot(level_dist, kde_kws = {\"color\": \"green\", \"lw\": 4, \"label\": \"KDE\"},\n",
    "                  hist_kws = {\"linewidth\": 6,\n",
    "                              \"alpha\": 1, \"color\": \"pink\",\n",
    "                              'label': 'Histogram'})\n",
    "\n",
    "plt.xlabel('Levels', fontsize = 24)\n",
    "plt.ylabel('Frequency', fontsize = 24)\n",
    "plt.title('Distribution of Levels', fontsize = 24)\n",
    "number_of_ticks = [1, 10, 20, 30, 40, 50, 60, 70, 80]\n",
    "plt.xticks(number_of_ticks, fontsize = 16)\n",
    "plt.yticks(fontsize = 16)\n",
    "\n",
    "## Add annotations for statistics\n",
    "plt.text(80, 0.175, 'Min: ' + str(round(level_dist.value_counts().min(),1)) , size = 18, color = 'black')\n",
    "plt.text(80, 0.185, 'Mean: ' + str(round(level_dist.value_counts().mean(),1)) , size = 18, color = 'black')\n",
    "plt.text(80, 0.195, 'Max: ' + str(round(level_dist.value_counts().max(),1)) , size = 18, color = 'black')\n",
    "plt.show()"
   ]
  },
  {
   "cell_type": "code",
   "execution_count": 9,
   "metadata": {},
   "outputs": [],
   "source": [
    "def featureDistribution_DF(feature):\n",
    "    \"\"\"Acquires a sorted dataframe of a selected featue which is categorized by char ID\"\"\"\n",
    "    feature_dist = avatar_history.groupby('char')[feature].max().value_counts()\n",
    "    sorted_feature_dist = pd.DataFrame(feature_dist)\n",
    "    sorted_feature_dist.columns = ['Count']\n",
    "    sorted_feature_dist.index.names = [feature]\n",
    "    return sorted_feature_dist"
   ]
  },
  {
   "cell_type": "markdown",
   "metadata": {},
   "source": [
    "The zones which occupy WoW are not for individual levels but comprises level intervals. The top three level intervals are 0-9, 10 – 19, and 70-79. Such that having insight into how the population is divided in these intervals, further supports our initial reasoning to provide more development time in these early-level zones."
   ]
  },
  {
   "cell_type": "code",
   "execution_count": 10,
   "metadata": {},
   "outputs": [
    {
     "data": {
      "image/png": "[encoded data removed]",
      "text/plain": [
       "<Figure size 1440x720 with 1 Axes>"
      ]
     },
     "metadata": {
      "needs_background": "light"
     },
     "output_type": "display_data"
    }
   ],
   "source": [
    "# Plot the level intervals \n",
    "## Discretize the levels into intervals\n",
    "bins = np.array([0, 10, 20, 30, 40, 50, 60, 70, 80])\n",
    "\n",
    "## Apply the bins and create a new feature level_intervals\n",
    "avatar_history['level_interval'] = np.digitize(avatar_history['level'],bins)\n",
    "\n",
    "mapped_levels = {1: '0-9', 2: '10-19',\n",
    "     3: '20-29', 4: '30-39',\n",
    "     5: '40-49', 6: '50-59',\n",
    "     7: '60-69', 8: '70-79',\n",
    "     9: '80'}\n",
    "\n",
    "avatar_history['level_interval'] = avatar_history['level_interval'].map(mapped_levels)\n",
    "\n",
    "## Create a sorted dataframe of the level_interval feature\n",
    "sorted_level_interval_dist = featureDistribution_DF('level_interval')\n",
    "\n",
    "## Plot parameters\n",
    "plt.figure(figsize = (20,10))\n",
    "sns.set(style = \"whitegrid\", rc = {\"lines.linewidth\": 3}, palette = 'bright')\n",
    "\n",
    "ax = sns.barplot(x = sorted_level_interval_dist['Count'],\n",
    "                 y = sorted_level_interval_dist.index, \n",
    "                 edgecolor = 'pink')\n",
    "\n",
    "plt.xlabel('Count', fontsize = 24)\n",
    "plt.ylabel('Level Ranges', fontsize = 24)\n",
    "plt.title('Distribution of Level Ranges', fontsize = 24)\n",
    "plt.xticks(fontsize = 16)\n",
    "plt.yticks(fontsize = 16)\n",
    "\n",
    "'''Annotates a plot with percentages vertical layout.'''\n",
    "# create a list to collect the plt.patches data\n",
    "totals = []\n",
    "\n",
    "# find the values and append to list\n",
    "for i in ax.patches:\n",
    "    totals.append(i.get_width())\n",
    "\n",
    "# set individual bar lables using above list\n",
    "total = sum(totals)\n",
    "\n",
    "# set individual bar lables using above list\n",
    "for i in ax.patches:\n",
    "    # get_width pulls left or right; get_y pushes up or down\n",
    "    ax.text(i.get_width() + .3, i.get_y() + .50, \\\n",
    "            str(round((i.get_width() / total) * 100, 2)) + '%', fontsize = 16,\n",
    "color = 'black')\n",
    "plt.show()"
   ]
  },
  {
   "cell_type": "markdown",
   "metadata": {},
   "source": [
    "When players create their characters, they have a choice in selecting the race and class. Having data on their selections provides developers with insight to properly manage what classes should be monitored more and helps the game balance team to decide on why these certain classes or races are picked – Are they strong, weak, or people enjoy the themes of the classes. Should we spend more time on their race-specific starting zones due to their selection? The player base selects Blood Elves, Warriors, and Orc Warriors, as their popular choices in races, classes, and race-class combinations, respectively.    "
   ]
  },
  {
   "cell_type": "markdown",
   "metadata": {},
   "source": [
    "### Race Distribution"
   ]
  },
  {
   "cell_type": "code",
   "execution_count": null,
   "metadata": {
    "scrolled": true
   },
   "outputs": [],
   "source": [
    "# Plot the race distribution\n",
    "sorted_race_dist = featureDistribution_DF('race')\n",
    "\n",
    "## Plot parameters\n",
    "plt.figure(figsize = (20,10))\n",
    "textprops = dict(size = 22 )\n",
    "colors = ['#ff9999','#66b3ff','#99ff99','#ffcc99', '#ffb3cc']\n",
    "\n",
    "plt.pie(sorted_race_dist['Count'], labels = sorted_race_dist.index,\n",
    "        autopct = '%1.1f%%', startangle = 90, textprops = textprops, colors = colors)\n",
    "\n",
    "plt.title('Distribution of Races', fontsize = 24)\n",
    "plt.axis('equal') \n",
    "plt.tight_layout()\n",
    "plt.show()"
   ]
  },
  {
   "cell_type": "markdown",
   "metadata": {},
   "source": [
    "### Class Distributions"
   ]
  },
  {
   "cell_type": "code",
   "execution_count": null,
   "metadata": {},
   "outputs": [],
   "source": [
    "# Plot the class distribution\n",
    "sorted_class_dist = featureDistribution_DF('charclass')\n",
    "\n",
    "## Plot Parameters\n",
    "plt.figure(figsize = (20,10))\n",
    "sns.set(style = \"whitegrid\", rc = {\"lines.linewidth\": 3}, palette = 'bright')\n",
    "ax = sns.barplot( x = sorted_class_dist['Count'],\n",
    "                  y = sorted_class_dist.index, edgecolor = 'pink')\n",
    "plt.xlabel('Count', fontsize = 24)\n",
    "plt.ylabel('Classes', fontsize = 24)\n",
    "plt.title('Distribution of Classes', fontsize = 24)\n",
    "plt.xticks(fontsize = 16)\n",
    "plt.yticks(fontsize = 16)\n",
    "\n",
    "'''Annotates a plot with percentages vertical layout.'''\n",
    "# create a list to collect the plt.patches data\n",
    "totals = []\n",
    "\n",
    "# find the values and append to list\n",
    "for i in ax.patches:\n",
    "    totals.append(i.get_width())\n",
    "\n",
    "# set individual bar lables using above list\n",
    "total = sum(totals)\n",
    "\n",
    "# set individual bar lables using above list\n",
    "for i in ax.patches:\n",
    "    # get_width pulls left or right; get_y pushes up or down\n",
    "    ax.text(i.get_width() + .3, i.get_y() + .50, \\\n",
    "            str(round((i.get_width() / total) * 100, 2)) + '%', fontsize = 16,\n",
    "color = 'black')\n",
    "plt.show()"
   ]
  },
  {
   "cell_type": "markdown",
   "metadata": {},
   "source": [
    "### Race + Class Combinations"
   ]
  },
  {
   "cell_type": "code",
   "execution_count": null,
   "metadata": {},
   "outputs": [],
   "source": [
    "# Plot the popular class / race combinations\n",
    "## Create dataframes for the race and class combinations\n",
    "race_class_dist = avatar_history.groupby('char')['race', 'charclass'].max()\n",
    "tmp_df = pd.DataFrame(race_class_dist)\n",
    "tmp_df.columns = ['Race', 'Class']\n",
    "tmp_df.index.names = ['charID']\n",
    "\n",
    "race_class_df = pd.DataFrame(tmp_df['Class'].values.astype(str),\n",
    "             tmp_df['Race'].values.astype(str), columns = ['Class'])\n",
    "\n",
    "race_class_df.index.names = ['Race']\n",
    "\n",
    "## Apply a whitespace to combine both race and class features\n",
    "race_class_df['Class']= race_class_df['Class'].apply(lambda x: \"{}{}\".format(' ', x))\n",
    "\n",
    "## Create the new race+class feature\n",
    "race_class_df['race+class'] = race_class_df.index.str.cat(race_class_df.values)\n",
    "\n",
    "## Sort by frequency \n",
    "ah_pop = race_class_df.assign(freq = race_class_df.groupby('race+class')['race+class'].transform('count'))\\\n",
    "  .sort_values(by = ['freq','race+class'],ascending = [False,True]).loc[:,['race+class']]\n",
    "\n",
    "## Plot parameters\n",
    "plt.figure(figsize = (20,10))\n",
    "sns.set(style = \"whitegrid\", rc = {\"lines.linewidth\": 3}, palette = 'bright')\n",
    "ax = sns.countplot( y = ah_pop['race+class'], palette = 'bright', edgecolor = 'pink' )\n",
    "plt.xlabel('Count', fontsize = 24)\n",
    "plt.ylabel('Races and Classes', fontsize = 24)\n",
    "plt.title('Distribution of Race and Class Combinations', fontsize = 24)\n",
    "plt.xticks(fontsize = 16)\n",
    "plt.yticks(fontsize = 14)\n",
    "\n",
    "'''Annotates a plot with percentages vertical layout.'''\n",
    "# create a list to collect the plt.patches data\n",
    "totals = []\n",
    "\n",
    "# find the values and append to list\n",
    "for i in ax.patches:\n",
    "    totals.append(i.get_width())\n",
    "\n",
    "# set individual bar lables using above list\n",
    "total = sum(totals)\n",
    "\n",
    "# set individual bar lables using above list\n",
    "for i in ax.patches:\n",
    "    # get_width pulls left or right; get_y pushes up or down\n",
    "    ax.text(i.get_width(), i.get_y() + 0.9, \\\n",
    "            str(round((i.get_width()/total)*100, 2))+'%', fontsize = 16,\n",
    "color = 'black')\n",
    "plt.show()"
   ]
  },
  {
   "cell_type": "markdown",
   "metadata": {},
   "source": [
    "Identifying population bottlenecks is important for optimizing server stability, but investigating which zones are populated is crucial in delegating resources into what aspects of the game players are enjoying. The game is divided into Player vs Environment and Player vs Player content. The top two zones are hubs where players can trade items or sign up for quests. The third is a major PvE raid dungeon where players embark on a quest to clear the opposing forces.    "
   ]
  },
  {
   "cell_type": "markdown",
   "metadata": {},
   "source": [
    "### Top 20 Popular Zones"
   ]
  },
  {
   "cell_type": "code",
   "execution_count": null,
   "metadata": {},
   "outputs": [],
   "source": [
    "# Plot the top 20 popular zones\n",
    "## Sort by frequent zones\n",
    "ah_zf = avatar_history.assign(freq = avatar_history.groupby('zone')['zone'].transform('count'))\\\n",
    "  .sort_values(by = ['freq','zone'],ascending = [False , True]).loc[:,['zone']]\n",
    "\n",
    "## Create dataframe for top 20 popular zones\n",
    "zone_dist = ah_zf['zone'].value_counts()\n",
    "sorted_zone_dist = pd.DataFrame(zone_dist)\n",
    "sorted_zone_dist.columns = ['Count']\n",
    "sorted_zone_dist.index.names = ['zone']\n",
    "\n",
    "## Plot the expected variance\n",
    "plt.figure(figsize = (20, 10))\n",
    "sns.set(style = \"whitegrid\", rc = {\"lines.linewidth\": 2})\n",
    "ax = sns.barplot( x = sorted_zone_dist['Count'][0:20],\n",
    "                  y = sorted_zone_dist.index[0:20], palette = 'bright', edgecolor = 'pink')\n",
    "plt.xlabel('Count', fontsize = 24)\n",
    "plt.ylabel('Zones', fontsize = 24)\n",
    "plt.title('Top 20 Popular Zones', fontsize = 24)\n",
    "plt.xticks(fontsize = 16)\n",
    "plt.yticks(fontsize = 16)\n",
    "\n",
    "'''Annotates a plot with percentages vertical layout.'''\n",
    "# create a list to collect the plt.patches data\n",
    "totals = []\n",
    "\n",
    "# find the values and append to list\n",
    "for i in ax.patches[0:20]:\n",
    "    totals.append(i.get_width())\n",
    "\n",
    "# set individual bar lables using above list\n",
    "total = sum(totals)\n",
    "\n",
    "# set individual bar lables using above list\n",
    "for i in ax.patches[0:20]:\n",
    "    # get_width pulls left or right; get_y pushes up or down\n",
    "    ax.text(i.get_width(), i.get_y() + 0.6, \\\n",
    "            str(round((i.get_width() / total) *100, 2)) + '%', fontsize = 16,\n",
    "color = 'black')\n",
    "plt.show()"
   ]
  },
  {
   "cell_type": "markdown",
   "metadata": {},
   "source": [
    "### Guild Distribution"
   ]
  },
  {
   "cell_type": "markdown",
   "metadata": {},
   "source": [
    "There are roughly 500 guilds created - The largest guild has a population of 1796 members, and the average guild has 73 members. Similar to the class distribution in earlier, guilds follow the same breakdown. Higher-level content requires an abundant amount of people requiring 25 or more and use guilds as a way to gather people. Not only are guilds used for completing WoW activities, but many users have it function as a social community to keep in touch with their online friends."
   ]
  },
  {
   "cell_type": "code",
   "execution_count": null,
   "metadata": {},
   "outputs": [],
   "source": [
    "# Guild distribution and guild-class Distribution\n",
    "## Select entries that are in a guild\n",
    "in_a_guild = avatar_history[avatar_history['guild'] != -1]\n",
    "\n",
    "## Group playerbase by character char id, guild, and class\n",
    "tmp = in_a_guild.groupby(['char'])['guild','charclass'].max()\n",
    "\n",
    "## Find guild indices with 10 or more players\n",
    "guild_list = tmp['guild'].value_counts()[tmp['guild'].value_counts() >= 10].index\n",
    "\n",
    "## Create guild_class dataframe\n",
    "data =  {'guild_id': tmp['guild'].values ,\n",
    "         'class': tmp['charclass'].values,\n",
    "        }\n",
    "\n",
    "guild_class_df = pd.DataFrame(data)\n",
    "\n",
    "## Apply those guild_list indices to our dataframe\n",
    "guild_class_df = guild_class_df[guild_class_df['guild_id'].isin(guild_list)]"
   ]
  },
  {
   "cell_type": "code",
   "execution_count": null,
   "metadata": {
    "scrolled": true
   },
   "outputs": [],
   "source": [
    "# Plot the guild population distribution\n",
    "## Plot parameters\n",
    "plt.figure(figsize = (20,10))\n",
    "sns.set(style = \"whitegrid\", rc = {\"lines.linewidth\": 3},  palette = 'bright')\n",
    "ax = sns.distplot(guild_class_df['guild_id'], kde_kws = {\"color\": \"green\", \"lw\": 4, \"label\": \"KDE\"},\n",
    "                  hist_kws = {\"linewidth\": 6,\n",
    "                              \"alpha\": 1, \"color\": \"pink\",\n",
    "                              'label': 'Histogram'})\n",
    "\n",
    "plt.xlabel('Guild IDs', fontsize = 24)\n",
    "plt.ylabel('Frequency', fontsize = 24)\n",
    "plt.title('Guild Populations', fontsize = 24)\n",
    "plt.xticks(fontsize = 16)\n",
    "plt.yticks(fontsize = 16)\n",
    "\n",
    "# Add annotations for statistics\n",
    "plt.text(501, 0.00702,\n",
    "         'Min: ' + str(round(guild_class_df['guild_id'].value_counts().min(),1)),\n",
    "         size = 18, color = 'black')\n",
    "plt.text(501, 0.0073,\n",
    "         'Mean: ' + str(round(guild_class_df['guild_id'].value_counts().mean(),1)),\n",
    "         size = 18, color = 'black')\n",
    "plt.text(501, 0.0076,\n",
    "         'Max: ' + str(round(guild_class_df['guild_id'].value_counts().max(),1)),\n",
    "         size = 18, color = 'black')\n",
    "\n",
    "plt.show()"
   ]
  },
  {
   "cell_type": "code",
   "execution_count": null,
   "metadata": {},
   "outputs": [],
   "source": [
    "# Plot the class distribution in guilds\n",
    "## Plot parameters\n",
    "plt.figure(figsize = (20,10))\n",
    "sns.set(style = \"whitegrid\", rc = {\"lines.linewidth\": 3},  palette = 'bright')\n",
    "\n",
    "ax = sns.barplot(y = ['Warrior', 'Hunter',\n",
    "                      'Rogue', 'Mage',\n",
    "                      'Warlock', 'Paladin',\n",
    "                      'Shaman', 'Priest',\n",
    "                      'Druid', 'Death Knight'],\n",
    "                 x = guild_class_df['class'].value_counts()\n",
    "                )\n",
    "\n",
    "plt.xlabel('Count', fontsize = 24)\n",
    "plt.ylabel('Classes', fontsize = 24)\n",
    "plt.title('Class distribution in guilds', fontsize = 24)\n",
    "plt.xticks(fontsize = 16)\n",
    "plt.yticks(fontsize = 16)\n",
    "\n",
    "'''Annotates a plot with percentages vertical layout.'''\n",
    "# create a list to collect the plt.patches data\n",
    "totals = []\n",
    "\n",
    "# find the values and append to list\n",
    "for i in ax.patches:\n",
    "    totals.append(i.get_width())\n",
    "\n",
    "# set individual bar lables using above list\n",
    "total = sum(totals)\n",
    "\n",
    "# set individual bar lables using above list\n",
    "for i in ax.patches:\n",
    "    # get_width pulls left or right; get_y pushes up or down\n",
    "    ax.text(i.get_width() + .3, i.get_y() + .50, \\\n",
    "            str(round((i.get_width() / total) * 100, 2)) + '%', fontsize = 16,\n",
    "color = 'black')"
   ]
  },
  {
   "cell_type": "markdown",
   "metadata": {},
   "source": [
    "There is a steady equilibrium of players between 70-79 having the highest frequency because the max level before November was 70. The max level was increased to 80 in November. Similar fluctuations are observed within the other leveling intervals between January and September, but a sharp peak in the 0-9 interval arises during October. A possible reason is the arrival of new players who are awaiting the expansion release in November.   "
   ]
  },
  {
   "cell_type": "markdown",
   "metadata": {},
   "source": [
    "### Daily Active Users"
   ]
  },
  {
   "cell_type": "code",
   "execution_count": null,
   "metadata": {},
   "outputs": [],
   "source": [
    "def time_transform(x):\n",
    "    \"Function to split the date and time\"\n",
    "    y = x.split()[0]\n",
    "    return y[:-2] + '20' + y[-2:]"
   ]
  },
  {
   "cell_type": "code",
   "execution_count": null,
   "metadata": {},
   "outputs": [],
   "source": [
    "## Create new features date and time using the function above\n",
    "avatar_history['date'] = avatar_history['timestamp'].apply(time_transform)\n",
    "avatar_history['time'] = avatar_history['timestamp'].apply(lambda x: x.split()[1][:-4] + '0')"
   ]
  },
  {
   "cell_type": "code",
   "execution_count": null,
   "metadata": {},
   "outputs": [],
   "source": [
    "# Plot the daily active users\n",
    "## Create pivot table to aggregate the number of users in each specific level interval.\n",
    "dau_pvt = avatar_history.pivot_table(index = 'date',\n",
    "                            columns = ['level_interval'],\n",
    "                            values = 'char',\n",
    "                            aggfunc = lambda x: x.value_counts().count()).fillna(0).astype(int)\n",
    "dau_pvt.reset_index(inplace=True)\n",
    "\n",
    "## Variables to extract all dates and account for missing dates in the pivot table\n",
    "all_dates = pd.Series(pd.date_range('01/01/08', freq = 'D', periods = 365))\n",
    "all_dates = all_dates.dt.strftime('%m/%d/%Y')\n",
    "missing_dates = list(set(all_dates) - set(dau_pvt.index.unique()))\n",
    "add_df = pd.DataFrame(columns = ['date'])\n",
    "add_df['date'] = missing_dates\n",
    "dau_pvt['date'] = pd.to_datetime(dau_pvt['date'])\n",
    "dau_pvt.sort_values(by=['date'], inplace = True)\n",
    "dau_pvt.reset_index(drop = True, inplace = True)\n",
    "dau_pvt['date'] = dau_pvt['date'].dt.strftime('%m/%d/%Y')\n",
    "\n",
    "\n",
    "## Plotly go object to plot the graph.\n",
    "fig = go.Figure()\n",
    "\n",
    "## Set colors of curves\n",
    "colormap = ['purple', 'orange',\n",
    "            'green', 'blue',\n",
    "            'teal', 'red',\n",
    "            'black', 'pink',\n",
    "            'yellow']\n",
    "\n",
    "## Set leveling intervals of curves\n",
    "columns = [ '0-9', '10-19',\n",
    "           '20-29', '30-39',\n",
    "           '40-49', '50-59',\n",
    "           '60-69', '70-79',\n",
    "           '80']\n",
    "\n",
    "## Plot each leveling curve with a respective color\n",
    "for color, column in zip(colormap, columns):\n",
    "    fig.add_trace(go.Scatter(\n",
    "                    x = dau_pvt['date'],\n",
    "                    y = dau_pvt[column],\n",
    "                    name = column,\n",
    "                    line_color = color,\n",
    "                    hoverinfo = 'name+x+y',\n",
    "                    opacity = 0.8))\n",
    "fig.update_layout(title_text = \"Daily User Activity over one-year\", \n",
    "                 xaxis = dict(\n",
    "                     tickmode = 'array',\n",
    "                     ## Place tick labels and locations\n",
    "                     ticktext = ['Jan', 'Feb',\n",
    "                                 'Mar', 'Apr',\n",
    "                                 'May', 'Jun',\n",
    "                                 'Jul', 'Aug',\n",
    "                                 'Sep', 'Oct',\n",
    "                                 'Nov', 'Dec'],\n",
    "                     \n",
    "                     tickvals = [1, 31,\n",
    "                                 60, 91,\n",
    "                                 121, 152,\n",
    "                                 182, 213,\n",
    "                                 244, 274,\n",
    "                                 304, 335]\n",
    "                 ),\n",
    "                  xaxis_rangeslider_visible = True)\n",
    "fig.show()"
   ]
  },
  {
   "cell_type": "markdown",
   "metadata": {},
   "source": [
    "### Monthly Active Users"
   ]
  },
  {
   "cell_type": "code",
   "execution_count": null,
   "metadata": {
    "scrolled": true
   },
   "outputs": [],
   "source": [
    "# Plot monthly active users\n",
    "## Create pivot table to aggregate the number of users in each specific level interval.\n",
    "mau_pvt = avatar_history.pivot_table(index = 'date',\n",
    "                            columns = ['level_interval'],\n",
    "                            values = 'char',\n",
    "                            aggfunc = lambda x: x.value_counts().count()).fillna(0).astype(int)\n",
    "\n",
    "mau_pvt.reset_index(inplace = True)\n",
    "\n",
    "## Variables to extract all dates and account for missing dates in the pivot table\n",
    "all_dates = pd.Series(pd.date_range('01/01/08', freq = 'D', periods = 365))\n",
    "all_dates = all_dates.dt.strftime('%m/%d/%Y')\n",
    "missing_dates = list(set(all_dates) - set(mau_pvt.index.unique()))\n",
    "add_df = pd.DataFrame(columns=['date'])\n",
    "add_df['date'] = missing_dates\n",
    "mau_pvt['date'] = pd.to_datetime(mau_pvt['date'])\n",
    "mau_pvt.sort_values(by = ['date'], inplace = True)\n",
    "mau_pvt.reset_index(drop = True, inplace = True)\n",
    "mau_pvt['date'] = mau_pvt['date'].dt.strftime('%m/%d/%Y')\n",
    "\n",
    "## Map the months\n",
    "mau_pvt['date'] = (pd.to_datetime(mau_pvt['date']))\n",
    "\n",
    "d = {1: 'January', 2: 'February',\n",
    "     3: 'March', 4: 'April',\n",
    "     5: 'May', 6: 'June',\n",
    "     7: 'July', 8: 'August',\n",
    "     9: 'September', 10: 'October',\n",
    "     11: 'November', 12: 'December'}\n",
    "\n",
    "## Create the months dataframe for MAU\n",
    "mau_pvt['Month'] = mau_pvt['date'].dt.month.map(d)\n",
    "\n",
    "## Create label list for months\n",
    "yourlabels_list = [ 'January', 'February',\n",
    "                   'March',  'April',\n",
    "                   'May', 'June',\n",
    "                   'July',  'August',\n",
    "                   'September',  'October',\n",
    "                   'November',  'December']\n",
    "\n",
    "sum_months = mau_pvt.groupby('Month').sum()\n",
    "sorted_sum_month = pd.DataFrame(sum_months)\n",
    "\n",
    "sorted_sum_month.columns = [ '0-9', '10-19',\n",
    "                            '20-29', '30-39',\n",
    "                            '40-49', '50-59',\n",
    "                            '60-69',  '70-79',\n",
    "                            '80']\n",
    "\n",
    "sorted_sum_month.index.names = ['Month']\n",
    "sorted_sum_month = sorted_sum_month.reindex(yourlabels_list)\n",
    "\n",
    "## Plotly go object to plot the graph.\n",
    "fig = go.Figure()\n",
    "\n",
    "## Set colors for each curve\n",
    "colormap = ['purple', 'orange',\n",
    "            'green', 'blue',\n",
    "            'teal', 'red',\n",
    "            'black', 'pink',\n",
    "            'yellow']\n",
    "\n",
    "## Set leveling intervals of curves\n",
    "columns = [ '0-9', '10-19',\n",
    "           '20-29', '30-39',\n",
    "           '40-49', '50-59',\n",
    "           '60-69', '70-79',\n",
    "           '80']\n",
    "\n",
    "## Plot each leveling curve with a respective color\n",
    "for color, column in zip(colormap, columns):\n",
    "    fig.add_trace(go.Scatter(\n",
    "                    x = sorted_sum_month.index,\n",
    "                    y = sorted_sum_month[column],\n",
    "                    name = column,\n",
    "                    line_color = color,\n",
    "                    hoverinfo = 'name+x+y',\n",
    "                    opacity = 0.8))\n",
    "fig.update_layout(title_text = \"Monthly User Activity over one-year\", \n",
    "                 xaxis = dict(\n",
    "                     tickmode = 'array',              \n",
    "                     \n",
    "                 ),\n",
    "                  xaxis_rangeslider_visible = True)\n",
    "fig.show()"
   ]
  },
  {
   "cell_type": "markdown",
   "metadata": {},
   "source": [
    "From observing the HAU, there is a steady decrease until 7:00 am and then elevates during the afternoon because teenagers arrive from school. Then, a steady increase in the evening from 5:00 pm until 12:00 pm because adults arrive from work. The highest frequency of users is during the evening hours. The average user plays for 1 hour daily, and the 95% percentile of players play for 4 hours daily. Having this knowledge allows us to properly address times in which the servers need to be taken down for maintenance, and how to pace future content updates for the average user’s playtime - do not want to release content which the average user cannot finish. Most users are recorded playing on Sunday, and the other days of the week are in similar in frequency. We’d expect most players to play on the weekend to account for not having work obligations."
   ]
  },
  {
   "cell_type": "markdown",
   "metadata": {},
   "source": [
    "### Hourly User Activity"
   ]
  },
  {
   "cell_type": "code",
   "execution_count": null,
   "metadata": {
    "scrolled": false
   },
   "outputs": [],
   "source": [
    "# Plot hourly user activity\n",
    "## Create daily session dataframes\n",
    "tmp = avatar_history.groupby(by = ['date', 'time'])['char'].nunique().to_frame('char').reset_index()\n",
    "day_activity_mean = round(tmp.groupby(['time'], as_index = False)['char'].mean())\n",
    "day_activity_max = round(tmp.groupby(['time'], as_index = False)['char'].max())\n",
    "\n",
    "## Plotly go object to graph plot.\n",
    "fig = go.Figure()\n",
    "\n",
    "## Mean\n",
    "fig.add_trace(go.Scatter(\n",
    "    x = day_activity_mean['time'],\n",
    "    y = day_activity_mean['char'],\n",
    "    name = 'Average',\n",
    "    line_color = 'red',\n",
    "    hoverinfo = 'name+x+y',\n",
    "    opacity = 0.8))\n",
    "\n",
    "## Max \n",
    "fig.add_trace(go.Scatter(\n",
    "    x = day_activity_max['time'],\n",
    "    y = day_activity_max['char'],\n",
    "    name = 'Max',\n",
    "    line_color = 'purple',\n",
    "    hoverinfo = 'name+x+y',\n",
    "    opacity = 0.8))\n",
    "\n",
    "fig.update_layout(title_text = \"Hourly User Activity over one-year\", \n",
    "                  xaxis = dict(\n",
    "                      tickvals = [0, 6, 12, 18, 24, 30,\n",
    "                                  36, 42, 48, 54, 60,\n",
    "                                  66, 72, 78, 84, 90,\n",
    "                                  96, 102, 108, 114, 120,\n",
    "                                  126, 132, 138, 144],\n",
    "                  ),\n",
    "                  xaxis_rangeslider_visible = True)\n",
    "fig.show()"
   ]
  },
  {
   "cell_type": "markdown",
   "metadata": {},
   "source": [
    "### Daily Playtime"
   ]
  },
  {
   "cell_type": "code",
   "execution_count": null,
   "metadata": {},
   "outputs": [],
   "source": [
    "#### Average hours played\n",
    "# Group playerbase by character ID for average hours\n",
    "tmp = avatar_history.groupby(by = ['char'])['Day'].nunique()\n",
    "\n",
    "# Group playerbase by character ID for the number of unique days they have played\n",
    "total_timestamps = avatar_history.groupby(by = ['char'])['Day'].count()\n",
    "\n",
    "# Create dataframe for average_hours\n",
    "data =  {'char_id': tmp.index,\n",
    "         'total_timestamps': total_timestamps.values,\n",
    "         'unique_days': tmp.values\n",
    "        }\n",
    "\n",
    "average_hours_df = pd.DataFrame(data = data)\n",
    "\n",
    "# Create average_hour feature\n",
    "average_hours_df['Average_Hour'] = average_hours_df['total_timestamps'] * 10 / (60 * average_hours_df['unique_days'])\n",
    "\n",
    "# Plot the Average hours played\n",
    "plt.figure(figsize = (20,10))\n",
    "\n",
    "x = ['95% Percentile', '75% Percentile',\n",
    "     'Mean',  '50% Percentile',\n",
    "     '25% Percentile']\n",
    "\n",
    "y = [average_hours_df['Average_Hour'].quantile(0.95),\n",
    "     average_hours_df['Average_Hour'].quantile(0.75),\n",
    "     average_hours_df['Average_Hour'].mean(),\n",
    "     average_hours_df['Average_Hour'].quantile(0.50),\n",
    "     average_hours_df['Average_Hour'].quantile(0.25)]\n",
    "\n",
    "def absolute_value(val):\n",
    "    a  = str(round(val / 100 * 6.971746263215458, 3)) + \" hrs\"\n",
    "    return a\n",
    "\n",
    "# Create pie chart\n",
    "textprops = dict(size = 20 )\n",
    "colors = ['#ff9999','#66b3ff','#99ff99','#ffcc99', '#ffb3cc']\n",
    "plt.pie(y, labels = x,\n",
    "        autopct = absolute_value, startangle = 180, textprops = textprops, colors = colors)\n",
    "plt.axis('equal') \n",
    "plt.tight_layout()\n",
    "plt.title('Daily Playtime', fontsize = 24)\n",
    "plt.show()"
   ]
  },
  {
   "cell_type": "markdown",
   "metadata": {},
   "source": [
    "### User Frequency on Weekdays"
   ]
  },
  {
   "cell_type": "code",
   "execution_count": null,
   "metadata": {},
   "outputs": [],
   "source": [
    "# Plot user frequency on weekdays\n",
    "## Create dataframe for most frequent day of the week\n",
    "tmp = avatar_history.groupby(by =['char'])['Weekday'].max().value_counts()\n",
    "\n",
    "data =  {'weekday': tmp.index,\n",
    "         'count': tmp.values\n",
    "        }\n",
    "\n",
    "weekdays_df = pd.DataFrame(data = data)\n",
    "\n",
    "## Map weekday\n",
    "d = {0: 'Monday', 1: 'Tuesday',\n",
    "     2: 'Wednesday', 3: 'Thursday',\n",
    "     4: 'Friday', 5: 'Saturday',\n",
    "     6: 'Sunday'}\n",
    "\n",
    "weekdays_df['weekday'] = weekdays_df['weekday'].map(d)\n",
    "tmp = weekdays_df\n",
    "\n",
    "## Plot the expected variance\n",
    "plt.figure(figsize = (20, 10))\n",
    "sns.set(style = \"whitegrid\", rc = {\"lines.linewidth\": 2})\n",
    "\n",
    "order = ['Monday', 'Tuesday', \n",
    "         'Wednesday', 'Thursday',\n",
    "         'Friday', 'Saturday',\n",
    "         'Sunday']\n",
    "\n",
    "ax = sns.barplot(y = weekdays_df['weekday'], x = weekdays_df['count'],\n",
    "                 order = order,  palette = 'bright',\n",
    "                 edgecolor = 'pink')\n",
    "\n",
    "plt.xlabel('Count', fontsize = 24)\n",
    "plt.ylabel('Weekdays', fontsize = 24)\n",
    "plt.title('Distribution of Weekdays', fontsize = 24)\n",
    "plt.xticks( fontsize = 16)\n",
    "plt.yticks( fontsize = 16)\n",
    "\n",
    "'''Annotates a plot with percentages vertical layout.'''\n",
    "# create a list to collect the plt.patches data\n",
    "totals = []\n",
    "\n",
    "# find the values and append to list\n",
    "for i in ax.patches:\n",
    "    totals.append(i.get_width())\n",
    "\n",
    "# set individual bar lables using above list\n",
    "total = sum(totals)\n",
    "\n",
    "# set individual bar lables using above list\n",
    "for i in ax.patches:\n",
    "    # get_width pulls left or right; get_y pushes up or down\n",
    "    ax.text(i.get_width(), i.get_y() + 0.5, \\\n",
    "            str(round((i.get_width()/total)*100, 2))+'%', fontsize = 16,\n",
    "color = 'black')\n",
    "plt.show()"
   ]
  },
  {
   "cell_type": "markdown",
   "metadata": {},
   "source": [
    "# Part II: Prediction"
   ]
  },
  {
   "cell_type": "markdown",
   "metadata": {},
   "source": [
    "The main objective of survival analysis is to provide an accurate experimental analysis when the collected data has not been completed. It was inspired for applications concerning clinical trials in the diagnosis of illnesses, and how to properly classify patients if they do not exhibit symptoms during the lifetime of the study. "
   ]
  },
  {
   "cell_type": "markdown",
   "metadata": {},
   "source": [
    "## Survival Analysis"
   ]
  },
  {
   "cell_type": "markdown",
   "metadata": {},
   "source": [
    "Before KM survival analysis, the data was filtered discard users who are on a trial period and have not subscribed yet (< 30 days). Also, various churn periods were assigned to a user if they did not play in 2, 3, 4, or 6-month periods. "
   ]
  },
  {
   "cell_type": "code",
   "execution_count": null,
   "metadata": {},
   "outputs": [],
   "source": [
    "# Survival Analysis\n",
    "## Feature creation\n",
    "### Earliest day and latest day of the year played\n",
    "tmp_day_earliest = avatar_history.groupby('char')['Day'].min()\n",
    "tmp_day_latest = avatar_history.groupby('char')['Day'].max()\n",
    "\n",
    "### Earliest month and Latest month of year played \n",
    "tmp_month_earliest = avatar_history.groupby('char')['Month'].min()\n",
    "tmp_month_latest = avatar_history.groupby('char')['Month'].max()\n",
    "\n",
    "### Unique amount of days played\n",
    "tmp_days = avatar_history.groupby('char')['Day'].nunique()\n",
    "\n",
    "### Are they in a guild or not\n",
    "tmp_guild = avatar_history.groupby('char')['guild'].max()\n",
    "\n",
    "### Max level\n",
    "tmp_level = avatar_history.groupby('char')['level_interval'].max()\n",
    "\n",
    "### Need this for the number of unique days played\n",
    "tmp_timestamps = avatar_history.groupby(by = ['char'])['Day'].count()\n",
    "\n",
    "# Create dataframe\n",
    "data =  {'Char_ID': tmp_month_latest.index,\n",
    "         'Unique_Days': tmp_days.values,\n",
    "         'Total_Timestamps': tmp_timestamps.values,\n",
    "         'Earliest_Month_Played': tmp_month_earliest.values,\n",
    "         'Latest_Month_Played': tmp_month_latest.values,\n",
    "         'Earliest_Day_Played': tmp_day_earliest.values,\n",
    "         'Latest_Day_Played': tmp_day_latest.values,\n",
    "         'Guild': tmp_guild.values,\n",
    "         'Max_Level': tmp_level.values\n",
    "        }\n",
    "\n",
    "sa_total = pd.DataFrame(data)\n",
    "\n",
    "### Difference in latest day played and earliest day played and absolute value to find the total subscribed time.\n",
    "sa_total['Difference'] = (sa_total['Latest_Day_Played'] - sa_total['Earliest_Day_Played']).abs()\n",
    "\n",
    "### Filter out the data whom have lower than 30 days of played time (free-trial accounts)\n",
    "sa_total = sa_total.loc[(sa_total['Difference'] > 30)]\n",
    "sa_total['Guild'] = sa_total['Guild'].apply(lambda x: 0 if x == -1 else 1)\n",
    "\n",
    "### Create average_hour feature\n",
    "sa_total['Average_Hour'] = sa_total['Total_Timestamps'] * 10 / (60 * sa_total['Unique_Days'])\n",
    "\n",
    "### Create playing density\n",
    "sa_total['Average_Playing_Density'] = sa_total['Unique_Days']/ (((sa_total['Latest_Month_Played'] - sa_total['Earliest_Month_Played'] + 1).abs())/12 * 366)\n",
    "\n",
    "### Classify churn as someone who hasn't logged in various periods, 2, 3, 4, 6\n",
    "#### 2 month period\n",
    "sa_total['Churn2'] = (sa_total['Latest_Month_Played'] >= 11 )\n",
    "sa_total['Churn2'] = sa_total['Churn2'].apply(lambda x: 0 if x == True else 1)\n",
    "\n",
    "#### 3 month period\n",
    "sa_total['Churn3'] = (sa_total['Latest_Month_Played'] >= 10)\n",
    "sa_total['Churn3'] = sa_total['Churn3'].apply(lambda x: 0 if x == True else 1)\n",
    "\n",
    "#### 4 month period\n",
    "sa_total['Churn4'] = (sa_total['Latest_Month_Played'] >= 9)\n",
    "sa_total['Churn4'] = sa_total['Churn4'].apply(lambda x: 0 if x == True else 1)\n",
    "\n",
    "#### 6 month period\n",
    "sa_total['Churn6'] = (sa_total['Latest_Month_Played'] >= 7)\n",
    "sa_total['Churn6'] = sa_total['Churn6'].apply(lambda x: 0 if x == True else 1)"
   ]
  },
  {
   "cell_type": "markdown",
   "metadata": {},
   "source": [
    "### Churn Periods"
   ]
  },
  {
   "cell_type": "markdown",
   "metadata": {},
   "source": [
    "The data appears to be heavily right-censored and does converge to a constant instead of reaching to 0. The 2-month and 3-month churn periods provide more accurate results due to less censoring than the other survival curves. The 2-month churn period has a 70% probability of not churning for ~215 days, and the 3-month period has a 60% probability of not churning for ~245 days. These results display promising insights into how addictive this game is as the population will be healthy across ~200 days. "
   ]
  },
  {
   "cell_type": "code",
   "execution_count": null,
   "metadata": {},
   "outputs": [],
   "source": [
    "# Survival Analysis\n",
    "## Kaplan-Meier Analysis\n",
    "### KMF\n",
    "kmf = KaplanMeierFitter()\n",
    "\n",
    "### Plot Parameters\n",
    "sns.set_context(\"talk\")\n",
    "ax = plt.subplot()\n",
    "plt.xlabel('Duration (Days)', fontsize = 18)\n",
    "plt.title('Kaplan-Meier Estimate of Customer Retention by Churn Periods', fontsize = 24)\n",
    "plt.xlabel('Duration (Days)', fontsize = 18)\n",
    "plt.ylabel(\"Probability a Player is Still Active\")\n",
    "\n",
    "### Plotting KM curves with various churn periods\n",
    "churn_list = ['Churn2', 'Churn3', 'Churn4', 'Churn6']\n",
    "churn_labels = ['2-month churn period', '3-month churn period', '4-month churn period', '6-month churn period']\n",
    "colormap = ['red', 'blue', 'green', 'orange']\n",
    "for churn, label, color in zip(churn_list, churn_labels, colormap):\n",
    "    kmf.fit(sa_total['Difference'], sa_total[churn], label = label)\n",
    "    kmf.plot(figsize = (18,9), ax = ax, color = color)\n",
    "    \n",
    "### Plotting Annotations\n",
    "plt.vlines(303, ymin= 0.40, ymax= 0.46, linestyle = 'dotted', color = 'red')\n",
    "plt.vlines(273, ymin= 0.40, ymax= 0.59, linestyle = 'dotted', color = 'blue')\n",
    "plt.vlines(243, ymin= 0.40, ymax= 0.67, linestyle = 'dotted', color = 'green')\n",
    "plt.vlines(177, ymin= 0.40, ymax= 0.81, linestyle = 'dotted', color = 'orange')\n",
    "plt.text(276, 0.40, '30 days', color = 'red')\n",
    "plt.text(246, 0.40, '30 days', color = 'blue')\n",
    "plt.text(186, 0.40, '60 days', color = 'green', fontsize = 38)\n",
    "plt.show()"
   ]
  },
  {
   "cell_type": "markdown",
   "metadata": {},
   "source": [
    "### Guilds"
   ]
  },
  {
   "cell_type": "markdown",
   "metadata": {},
   "source": [
    "People who are not in a guild have a 1.33x higher churn ratio because being in a social network - can interact and group with your guildmates when playing the game. "
   ]
  },
  {
   "cell_type": "code",
   "execution_count": null,
   "metadata": {
    "scrolled": true
   },
   "outputs": [],
   "source": [
    "# Survival Analysis\n",
    "## Kaplan-Meier Analysis\n",
    "### KMF\n",
    "kmf = KaplanMeierFitter()\n",
    "\n",
    "### Plotting parameters\n",
    "sns.set_context(\"talk\")\n",
    "ax = plt.subplot()\n",
    "plt.xlabel('Duration (Days)', fontsize = 18)\n",
    "plt.title('Kaplan-Meier Estimate of Customer Retention by Guild', fontsize = 24)\n",
    "plt.xlabel('Duration (Days)', fontsize = 18)\n",
    "plt.ylabel(\"Probability a Player is Still Active\")\n",
    "\n",
    "### Plotting KM curves if they are in a guild or not\n",
    "T_0 = sa_total[sa_total['Guild'] == 0]['Difference']\n",
    "C_0 = sa_total[sa_total['Guild'] == 0]['Churn2']\n",
    "T_1 = sa_total[sa_total['Guild'] == 1]['Difference']\n",
    "C_1 = sa_total[sa_total['Guild'] == 1]['Churn2']\n",
    "\n",
    "time_limit = 303\n",
    "labels = ['Guild', 'No Guild']\n",
    "colormap = ['red', 'blue']\n",
    "duration = [T_0, T_1]\n",
    "event = [C_0, C_1]\n",
    "position = [(100, 0.4), (180, 0.6)]\n",
    "\n",
    "for T, C, label, label_position, color in zip(duration, event, labels, position, colormap):\n",
    "    kmf.fit(T, C, label = label)\n",
    "    kmf.plot(figsize = (18,9), ax = ax, color = color)\n",
    "    rmst_plot(figsize = (18,9), model = kmf,\n",
    "          t = time_limit, ax = ax,\n",
    "          label = '_nolegend_', text_position = label_position)\n",
    "\n",
    "plt.show()"
   ]
  },
  {
   "cell_type": "code",
   "execution_count": null,
   "metadata": {},
   "outputs": [],
   "source": [
    "print(\"Guild Churn Ratio: \" + str((242.407/182.265)))"
   ]
  },
  {
   "cell_type": "markdown",
   "metadata": {},
   "source": [
    "### Level Intervals"
   ]
  },
  {
   "cell_type": "markdown",
   "metadata": {},
   "source": [
    "There is a significant overlap between curves. Therefore, let’s compare each curve with the 70-79 range to compare the churn ratios. The churn ratios are listed in Table 2. An interesting detail is the survival analysis curve for the 10-19 interval has a higher churn ratio than the other intervals. A possible solution is updating the 10-19 range content to compensate for this higher churn ratio. "
   ]
  },
  {
   "cell_type": "code",
   "execution_count": null,
   "metadata": {},
   "outputs": [],
   "source": [
    "# Survival Analysis\n",
    "## Kaplan-Meier Analysis\n",
    "### KMF\n",
    "kmf = KaplanMeierFitter()\n",
    "\n",
    "### Plotting parameters\n",
    "sns.set_context(\"talk\")\n",
    "ax = plt.subplot()\n",
    "plt.xlabel('Duration (Days)', fontsize = 18)\n",
    "plt.title('Kaplan-Meier Estimate of Customer Retention by Levels', fontsize = 24)\n",
    "plt.xlabel('Duration (Days)', fontsize = 18)\n",
    "plt.ylabel(\"Probability a Player is Still Active\", fontsize = 18)\n",
    "\n",
    "### Plotting KM curves if they are in a guild or not\n",
    "T_09 = sa_total[sa_total['Max_Level'] == '0-9']['Difference']\n",
    "C_09 = sa_total[sa_total['Max_Level'] == '0-9']['Churn2']\n",
    "T_1019 = sa_total[sa_total['Max_Level'] == '10-19']['Difference']\n",
    "C_1019 = sa_total[sa_total['Max_Level'] == '10-19']['Churn2']\n",
    "T_2029 = sa_total[sa_total['Max_Level'] == '20-29']['Difference']\n",
    "C_2029 = sa_total[sa_total['Max_Level'] == '20-29']['Churn2']\n",
    "T_3039 = sa_total[sa_total['Max_Level'] == '30-39']['Difference']\n",
    "C_3039 = sa_total[sa_total['Max_Level'] == '30-39']['Churn2']\n",
    "T_4049 = sa_total[sa_total['Max_Level'] == '40-49']['Difference']\n",
    "C_4049 = sa_total[sa_total['Max_Level'] == '40-49']['Churn2']\n",
    "T_5059 = sa_total[sa_total['Max_Level'] == '50-59']['Difference']\n",
    "C_5059 = sa_total[sa_total['Max_Level'] == '50-59']['Churn2']\n",
    "T_6069 = sa_total[sa_total['Max_Level'] == '60-69']['Difference']\n",
    "C_6069 = sa_total[sa_total['Max_Level'] == '60-69']['Churn2']\n",
    "T_7079 = sa_total[sa_total['Max_Level'] == '70-79']['Difference']\n",
    "C_7079 = sa_total[sa_total['Max_Level'] == '70-79']['Churn2']\n",
    "\n",
    "time_limit = 303\n",
    "\n",
    "labels = ['0-9', '10-19',\n",
    "          '20-29', '30-39',\n",
    "          '40-49', '50-59',\n",
    "          '60-69', '70-79']\n",
    "\n",
    "colormap = ['red', 'blue',\n",
    "            'magenta', 'orange',\n",
    "            'teal', 'purple',\n",
    "            'green', 'pink']\n",
    "\n",
    "duration = [T_09, T_1019, T_2029, T_3039, T_4049, T_5059, T_6069, T_7079] \n",
    "event = [C_09, C_1019, C_2029, C_3039, C_4049, C_5059, C_6069, C_7079]\n",
    "\n",
    "for T, C, label, color in zip(duration, event, labels, colormap):\n",
    "    kmf.fit(T, C, label = label)\n",
    "    kmf.plot(figsize = (18,9), ax = ax, color = color, ci_show = True )\n",
    "\n",
    "plt.show()"
   ]
  },
  {
   "cell_type": "code",
   "execution_count": null,
   "metadata": {},
   "outputs": [],
   "source": [
    "# Survival Analysis\n",
    "## Kaplan-Meier Analysis\n",
    "### KMF\n",
    "kmf = KaplanMeierFitter()\n",
    "\n",
    "### Plot parameters\n",
    "sns.set_context(\"talk\")\n",
    "fig, ((ax1, ax2, ax3, ax4), (ax5, ax6, ax7, ax8)) = plt.subplots(figsize = (20, 10), nrows=2,\n",
    "                                                                 ncols=4, sharex=True,\n",
    "                                                                 sharey=True)\n",
    "fig.suptitle('Kaplan-Meier Estimate of Customer Retention by Levels')\n",
    "\n",
    "# Plotting KM curves at various levels\n",
    "T_09 = sa_total[sa_total['Max_Level'] == '0-9']['Difference']\n",
    "C_09 = sa_total[sa_total['Max_Level'] == '0-9']['Churn2']\n",
    "T_1019 = sa_total[sa_total['Max_Level'] == '10-19']['Difference']\n",
    "C_1019 = sa_total[sa_total['Max_Level'] == '10-19']['Churn2']\n",
    "T_2029 = sa_total[sa_total['Max_Level'] == '20-29']['Difference']\n",
    "C_2029 = sa_total[sa_total['Max_Level'] == '20-29']['Churn2']\n",
    "T_3039 = sa_total[sa_total['Max_Level'] == '30-39']['Difference']\n",
    "C_3039 = sa_total[sa_total['Max_Level'] == '30-39']['Churn2']\n",
    "T_4049 = sa_total[sa_total['Max_Level'] == '40-49']['Difference']\n",
    "C_4049 = sa_total[sa_total['Max_Level'] == '40-49']['Churn2']\n",
    "T_5059 = sa_total[sa_total['Max_Level'] == '50-59']['Difference']\n",
    "C_5059 = sa_total[sa_total['Max_Level'] == '50-59']['Churn2']\n",
    "T_6069 = sa_total[sa_total['Max_Level'] == '60-69']['Difference']\n",
    "C_6069 = sa_total[sa_total['Max_Level'] == '60-69']['Churn2']\n",
    "T_7079 = sa_total[sa_total['Max_Level'] == '70-79']['Difference']\n",
    "C_7079 = sa_total[sa_total['Max_Level'] == '70-79']['Churn2']\n",
    "\n",
    "time_limit = 303\n",
    "\n",
    "labels = ['0-9', '10-19',\n",
    "          '20-29', '30-39',\n",
    "          '40-49', '50-59',\n",
    "          '60-69', '70-79']\n",
    "\n",
    "colormap = ['red', 'blue',\n",
    "            'magenta', 'orange',\n",
    "            'teal', 'purple',\n",
    "            'green', 'pink']\n",
    "position = [(100, 0.4), (180, 0.6)]\n",
    "\n",
    "duration = [T_09, T_1019, T_2029, T_3039, T_4049, T_5059, T_6069] \n",
    "event = [C_09, C_1019, C_2029, C_3039, C_4049, C_5059, C_6069]\n",
    "axes = [ax1, ax2, ax3, ax4, ax5, ax6, ax7]\n",
    "\n",
    "for T, C, label, color, ax in zip(duration, event, labels, colormap, axes):\n",
    "    # Plot 70-79 KM curve\n",
    "    kmf.fit(T_7079, C_7079, label = '70-79')\n",
    "    kmf.plot(figsize = (40,20), ax = ax, color = 'black', ci_show=True )\n",
    "    rmst_plot(figsize = (18,9), model = kmf,\n",
    "          t = time_limit, ax = ax,\n",
    "          label = '_nolegend_', text_position = (125, 0.92), fontsize = 10)\n",
    "    # Plot level interval KM curve\n",
    "    kmf.fit(T, C, label = label)\n",
    "    kmf.plot(figsize = (40,20), ax = ax, color = color, ci_show=True )\n",
    "    rmst_plot(figsize = (18,9), model = kmf,\n",
    "          t = time_limit, ax = ax,\n",
    "          label = '_nolegend_', text_position = (0, 0.25), fontsize = 10)\n",
    "    \n",
    "    # Set plot parameters\n",
    "    ax.set_title(label, y = 1.05, fontsize = 16)\n",
    "    ax.set_xlabel('Duration (Days)', fontsize = 16)\n",
    "    ax.set_ylabel(\"Probability a Player is Still Active\", fontsize = 14)\n",
    "    ax.legend(bbox_to_anchor = [0.55, 0.27])\n",
    "    ax8.axis('off')\n",
    "\n",
    "    \n",
    "plt.show()"
   ]
  },
  {
   "cell_type": "code",
   "execution_count": null,
   "metadata": {},
   "outputs": [],
   "source": [
    "# Table of churn ratios with various leveling intervals\n",
    "## Create an array and transpose values to make it a two-column format\n",
    "churn_values = [round(262.447 / 189.470, 3), round(262.447 / 170.453, 3),\n",
    "        round(262.447 / 191.560, 3), round(262.447 / 207.947, 3),\n",
    "        round(262.447 / 212.784, 3), round(262.447 / 235.308, 3),\n",
    "        round(262.447 / 228.042, 3)]\n",
    "churn_values = np.array(churn_values)\n",
    "\n",
    "## Create level intervals label\n",
    "level_intervals = ['0-9', '10-19',\n",
    "                            '20-29', '30-39',\n",
    "                            '40-49', '50-59',\n",
    "                            '60-69']\n",
    "    \n",
    "## Create plotly table object\n",
    "level_churn = go.Figure(data = [go.Table(\n",
    "    header = dict(values = ['Level Interval', 'Churn Ratio'],\n",
    "                  line_color = 'darkslategray',\n",
    "                  fill_color = 'lightskyblue',\n",
    "                  align = 'left'),\n",
    "    cells = dict(values = [level_intervals, churn_values],\n",
    "                 line_color = 'darkslategray',\n",
    "                 fill_color = 'lightcyan',\n",
    "                 align = 'left'))\n",
    "])\n",
    "\n",
    "level_churn.update_layout(width = 800, height = 500,\n",
    "                          title = 'Table 2: Churn Ratios with Level Intervals')\n",
    "level_churn.show()"
   ]
  },
  {
   "cell_type": "markdown",
   "metadata": {},
   "source": [
    "### Average Playing Hours and Average Playing Density"
   ]
  },
  {
   "cell_type": "markdown",
   "metadata": {},
   "source": [
    "The churn ratios are 1.076x, and 1.1713x with users who have more than two average hours played. The churn ratio is 1.2723x with users who have greater than or equal to a 0.5 average playing density. An explanation for this observed behavior is players with more average hours played or average playing densities would exhibit lower churn ratios because they are spending more time playing the game and less likely to unsubscribe. "
   ]
  },
  {
   "cell_type": "code",
   "execution_count": null,
   "metadata": {},
   "outputs": [],
   "source": [
    "# Survival Analysis\n",
    "## Kaplan-Meier Analysis\n",
    "### KMF\n",
    "kmf = KaplanMeierFitter()\n",
    "\n",
    "### Plot Parameters\n",
    "ax = plt.subplot()\n",
    "plt.xlabel('Duration (Days)', fontsize = 18)\n",
    "plt.title('Kaplan-Meier Estimate of Customer Retention by Average Hours Played', fontsize = 24)\n",
    "plt.xlabel('Duration (Days)', fontsize = 18)\n",
    "plt.ylabel(\"Probability a Player is Still Active\")\n",
    "sns.set_context(\"talk\")\n",
    "\n",
    "### Plot KM survival curves \n",
    "T_0 = sa_total[sa_total['Average_Hour'] < 1]['Difference']\n",
    "C_0 = sa_total[sa_total['Average_Hour'] < 1]['Churn2']\n",
    "T_1 = sa_total[(sa_total['Average_Hour'] >= 1) & (sa_total['Average_Hour'] < 2) ]['Difference']\n",
    "C_1 = sa_total[(sa_total['Average_Hour'] >= 1) & (sa_total['Average_Hour'] < 2)]['Churn2']\n",
    "T_2 = sa_total[(sa_total['Average_Hour'] >= 2) ]['Difference']\n",
    "C_2 = sa_total[(sa_total['Average_Hour'] >= 2) ]['Churn2']\n",
    "time_limit = 303\n",
    "labels = ['Average Hour < 1', '1 ≤ Average Hour < 2 ', 'Average Hour > 2']\n",
    "colormap = ['red', 'blue', 'green']\n",
    "position = [(130, 0.40), (200, 0.55), (140, 0.73)]\n",
    "duration = [T_0, T_1, T_2] \n",
    "event = [C_0, C_1, C_2]\n",
    "\n",
    "for T, C, label, color, label_position in zip(duration, event, labels, colormap, position):\n",
    "    # Plot level interval KM curve\n",
    "    kmf.fit(T, C, label = label)\n",
    "    kmf.plot(figsize = (18, 9), ax = ax, color = color)\n",
    "    rmst_plot(figsize = (18,9), model = kmf,\n",
    "          t = time_limit, ax = ax,\n",
    "          label = '_nolegend_', text_position = label_position, fontsize = 10)\n",
    "\n",
    "plt.show()"
   ]
  },
  {
   "cell_type": "code",
   "execution_count": null,
   "metadata": {},
   "outputs": [],
   "source": [
    "# Survival Analysis\n",
    "## Kaplan-Meier Analysis\n",
    "### KMF\n",
    "kmf = KaplanMeierFitter()\n",
    "\n",
    "### Plot Parameters\n",
    "sns.set_context(\"talk\")\n",
    "ax = plt.subplot()\n",
    "plt.xlabel('Duration (Days)', fontsize = 18)\n",
    "plt.title('Kaplan-Meier Estimate of Customer Retention by Average Playing Densities', fontsize = 24)\n",
    "plt.xlabel('Duration (Days)', fontsize = 18)\n",
    "plt.ylabel(\"Probability a Player is Still Active\")\n",
    "\n",
    "### Plot KM survival curves \n",
    "T_1 = sa_total[sa_total['Average_Playing_Density'] < 0.5]['Difference']\n",
    "C_1 = sa_total[sa_total['Average_Playing_Density'] < 0.5]['Churn2']\n",
    "T_1 = sa_total[(sa_total['Average_Playing_Density'] >= 0.5) ]['Difference']\n",
    "C_1 = sa_total[(sa_total['Average_Playing_Density'] >= 0.5) ]['Churn2']\n",
    "\n",
    "time_limit = 303\n",
    "labels = ['Average Playing Density < 0.5', 'Average Playing Density ≥ 0.5 ']\n",
    "colormap = ['red', 'blue']\n",
    "position = [(130, 0.40), (200, 0.65)]\n",
    "duration = [T_0, T_1] \n",
    "event = [C_0, C_1]\n",
    "\n",
    "for T, C, label, color, label_position in zip(duration, event, labels, colormap, position):\n",
    "    # Plot level interval KM curve\n",
    "    kmf.fit(T, C, label = label)\n",
    "    kmf.plot(figsize = (18, 9), ax = ax, color = color)\n",
    "    rmst_plot(figsize = (18,9), model = kmf,\n",
    "          t = time_limit, ax = ax,\n",
    "          label = '_nolegend_', text_position = label_position, fontsize = 10)\n",
    "\n",
    "plt.show()"
   ]
  },
  {
   "cell_type": "code",
   "execution_count": null,
   "metadata": {},
   "outputs": [],
   "source": [
    "print(\"Average Playing Hours Churn Ratio: \", str(241.081 / 223.894))\n",
    "print(\"Average Playing Hours Churn Ratio: \", str(241.081 / 205.822))"
   ]
  },
  {
   "cell_type": "markdown",
   "metadata": {},
   "source": [
    "## Binary Classification"
   ]
  },
  {
   "cell_type": "markdown",
   "metadata": {},
   "source": [
    "Binary classification is a problem involving the assignment of a sample to one of two categories by measuring a series of attributes. The semantics include learning a function that minimizes the misclassification probability of labeling a sample as a 0 or 1. The main metric selected is the Receiver Operating Characteristic (ROC) curve, which plots the true positive rate and false-positive rate. The true positive rate is defined as the recall and is presented in Equation 1. The false-positive rate is presented in Equation 2. The ROC curve plots the TPR vs FPR by varying classification thresholds – lowering the classification threshold results in a higher positive rate. Using the ROC curve, we'll measure the area under the curve (AUC) because it provides an aggregate measure of performance across all possible classification thresholds. Two reasons for using AUC: \n",
    "\n",
    "* AUC is scale-invariant - it measures how well predictions are ranked.  \n",
    "\n",
    "* AUC is classification-threshold-invariant - it measures the quality of the model’s predictions without selecting a classification threshold. \n",
    "\n",
    "In our problem, misclassification of false positives (labeling someone who has quit the game as playing) is more important because it affects the projected finances of the game as the model is predicting a user is playing but is not. "
   ]
  },
  {
   "cell_type": "markdown",
   "metadata": {},
   "source": [
    "Equation (1) and Equation (2):"
   ]
  },
  {
   "cell_type": "markdown",
   "metadata": {},
   "source": [
    "$$ TPR = \\frac{TP}{TP + FN}$$                                                  "
   ]
  },
  {
   "cell_type": "markdown",
   "metadata": {},
   "source": [
    "$$ FPR = \\frac{FP}{FP + TN}$$"
   ]
  },
  {
   "cell_type": "markdown",
   "metadata": {},
   "source": [
    "### Sample split"
   ]
  },
  {
   "cell_type": "markdown",
   "metadata": {},
   "source": [
    "The samples are split into an 80/20 ratio between the training and test samples, respectively. There was k-fold cross-validation performed on the training set for hyperparameter tuning. In k-fold cross-validation, the data is evenly split into k non-overlapping pieces and each piece contains a validation set as displayed in the figure below. Then, average the selected scoring metric across the k trials. Cross-validation was used to test the generalizability of the model. As CV checks in how it is performing on new unseen data with a limited amount of training samples. Since the problem is binary classification, stratification can be used to make sure the same number of proportion of classes are in the validation and training folds. "
   ]
  },
  {
   "cell_type": "markdown",
   "metadata": {},
   "source": [
    "![10-fold](assets/kfold.png)"
   ]
  },
  {
   "cell_type": "markdown",
   "metadata": {},
   "source": [
    "### Feature Selection"
   ]
  },
  {
   "cell_type": "markdown",
   "metadata": {},
   "source": [
    "Two techniques were compared for feature selection: univariate feature selection and recursive feature elimination. Univariate feature selection works best when you have an abundant number of features and want to select which features are significant using a statistical test. Recursive feature elimination is utilized for identifying which features are increasing your performance metric. Recursive feature selection works by eliminating the least important features. It continues recursively until the specified number of features is reached. "
   ]
  },
  {
   "cell_type": "code",
   "execution_count": 7,
   "metadata": {},
   "outputs": [],
   "source": [
    "# Create dataframe to apply ML\n",
    "## Group playerbase by character ID for average hours\n",
    "tmp = avatar_history.groupby(by = ['char'])['Day'].nunique()\n",
    "tmp_guild = avatar_history.groupby('char')['guild'].max()\n",
    "tmp_max_level = avatar_history.groupby('char')['level'].max()\n",
    "tmp_max_month = avatar_history.groupby('char')['Month'].max()\n",
    "tmp_min_month = avatar_history.groupby('char')['Month'].min()\n",
    "\n",
    "## Group playerbase by character ID for the number of unique days they have played\n",
    "total_timestamps = avatar_history.groupby(by = ['char'])['Day'].count()\n",
    "\n",
    "## Create dataframe for average_hours\n",
    "data =  {'char_id': tmp.index,\n",
    "         'guild': tmp_guild.values,\n",
    "         'total_timestamps': total_timestamps.values,\n",
    "         'unique_days': tmp.values,\n",
    "         'max_level': tmp_max_level.values,\n",
    "         'min_month': tmp_min_month.values,\n",
    "         'max_month': tmp_max_month.values,\n",
    "        }\n",
    "\n",
    "average_hours_df = pd.DataFrame(data = data)\n",
    "\n",
    "## Create average_hour feature\n",
    "average_hours_df['Average_Hour'] = average_hours_df['total_timestamps'] * 10 / (60 * average_hours_df['unique_days'])\n",
    "\n",
    "## Create playing density\n",
    "average_hours_df['Average_Playing_density'] = average_hours_df['unique_days'] / (((average_hours_df['max_month'] - average_hours_df['min_month'] + 1).abs()) / 12 * 366)\n",
    "\n",
    "## Are they in a guild or not\n",
    "average_hours_df['guild'] = average_hours_df['guild'].apply(lambda x: 0 if x == -1 else 1)\n",
    "\n",
    "## Playing for 6 months and longer (y output)\n",
    "average_hours_df['Playing_after_6_months'] = (average_hours_df['max_month'] - average_hours_df['min_month'] +1).abs().apply(lambda x: 1 if x >= 6 else 0)\n",
    "\n",
    "## Create train and testing sets, and include stratification (0.80 / 0/20)\n",
    "X = average_hours_df[['guild', 'max_level', 'Average_Hour', 'Average_Playing_density']]\n",
    "y = average_hours_df['Playing_after_6_months']\n",
    "X_train, X_test, y_train, y_test = train_test_split(X, y, test_size = 0.2, random_state = 10, stratify = y)\n",
    "\n",
    "## Scale the data\n",
    "col_names = ['guild','max_level', 'Average_Hour', 'Average_Playing_density']\n",
    "features = X_train[col_names]\n",
    "features_test = X_test[col_names]\n",
    "ct = ColumnTransformer([\n",
    "        ('somename', StandardScaler(), ['max_level', 'Average_Hour', 'Average_Playing_density'])\n",
    "    ], remainder = 'passthrough')\n",
    "X_train_scaled = ct.fit_transform(features)\n",
    "X_test_scaled = ct.transform(features_test)"
   ]
  },
  {
   "cell_type": "code",
   "execution_count": 15,
   "metadata": {},
   "outputs": [],
   "source": [
    "average_hours_df.to_csv('churn.csv')"
   ]
  },
  {
   "cell_type": "markdown",
   "metadata": {},
   "source": [
    "### Logistic Regression"
   ]
  },
  {
   "cell_type": "markdown",
   "metadata": {},
   "source": [
    "The hyperparameters were tuned to find the best ROC AUC score for logistic regression using an exhaustive grid search (10-fold cv). The optimal hyperparameters are listed below. \n",
    "\n",
    "* Penalty: L1 \n",
    "\n",
    "* Regularization: C = 25 "
   ]
  },
  {
   "cell_type": "code",
   "execution_count": 8,
   "metadata": {},
   "outputs": [
    {
     "name": "stdout",
     "output_type": "stream",
     "text": [
      "[ True  True  True  True]\n",
      "Best Penalty: l2\n",
      "Best C: 25\n",
      "{'C': 25, 'penalty': 'l2'}\n"
     ]
    }
   ],
   "source": [
    "# Logistic Regression Pipeline\n",
    "## Instantiate logistic regression model\n",
    "clf_LR = LogisticRegression(random_state = 0, solver = 'liblinear')\n",
    "\n",
    "## First step of pipeline recursive feature elimination with cross validation (10-fold)\n",
    "rfecv = RFECV(estimator = clf_LR, \n",
    "              step = 1, \n",
    "              cv = StratifiedKFold(10), \n",
    "              scoring = 'roc_auc')\n",
    "\n",
    "## Second step of pipeline grid search using cross validation (10-fold)\n",
    "CV_rfc = GridSearchCV(clf_LR, \n",
    "                      param_grid = {'penalty': ['l2', 'l1'],\n",
    "                                    'C': [0.001,.009,0.01,.09,.5, 0.8, 1,5,10,25]},\n",
    "                      cv = StratifiedKFold(10), scoring = 'roc_auc')\n",
    "\n",
    "## Instantiate Pipeline\n",
    "pipeline = Pipeline([('feature_sele', rfecv),('clf_LR_cv', CV_rfc)])\n",
    "pipeline.fit(X_train_scaled, y_train)\n",
    "\n",
    "## Assign model predictions\n",
    "y_pred_acc = pipeline.predict(X_test_scaled)\n",
    "\n",
    "## Best parameters and features for the model\n",
    "print(rfecv.get_support()) \n",
    "print('Best Penalty:', CV_rfc.best_estimator_.get_params()['penalty'])\n",
    "print('Best C:', CV_rfc.best_estimator_.get_params()['C'])\n",
    "print(CV_rfc.best_params_)"
   ]
  },
  {
   "cell_type": "code",
   "execution_count": 9,
   "metadata": {},
   "outputs": [
    {
     "name": "stdout",
     "output_type": "stream",
     "text": [
      "cv_scores mean:0.85324450970565\n",
      "Accuracy Score : 0.8451345201445589\n",
      "Precision Score : 0.6926751592356688\n",
      "Recall Score : 0.5301645338208409\n",
      "F1 Score : 0.6006213324128409\n",
      "ROC Score : 0.8502737526693237\n"
     ]
    },
    {
     "data": {
      "text/plain": [
       "array([[5444,  386],\n",
       "       [ 771,  870]], dtype=int64)"
      ]
     },
     "execution_count": 9,
     "metadata": {},
     "output_type": "execute_result"
    }
   ],
   "source": [
    "# Best Logistic Regression parameters \n",
    "## Create the model instance\n",
    "clf_LR = LogisticRegression(random_state = 0, solver = 'liblinear',\n",
    "                            C = 25, penalty = 'l2')\n",
    "\n",
    "## Get the ROC by k-fold cross validation on the training set\n",
    "cv_scores = cross_val_score(clf_LR, X_train_scaled,\n",
    "                            y_train, cv = StratifiedKFold(10),\n",
    "                            scoring = 'roc_auc')\n",
    "\n",
    "print('cv_scores mean:{}'.format(np.mean(cv_scores)))\n",
    "\n",
    "## Fit the model\n",
    "clf_LR.fit(X_train_scaled, y_train)\n",
    "\n",
    "# Get the model predictions\n",
    "y_pred_acc = clf_LR.predict(X_test_scaled)\n",
    "\n",
    "# Classification metrics\n",
    "print('Accuracy Score : ' + str(accuracy_score(y_test, y_pred_acc)))\n",
    "print('Precision Score : ' + str(precision_score(y_test, y_pred_acc)))\n",
    "print('Recall Score : ' + str(recall_score(y_test, y_pred_acc)))\n",
    "print('F1 Score : ' + str(f1_score(y_test, y_pred_acc)))\n",
    "print('ROC Score : ' + str(roc_auc_score(y_test, clf_LR.predict_proba(X_test_scaled)[:,1])))\n",
    "\n",
    "# Logistic Regression (Grid Search) Confusion matrix\n",
    "confusion_matrix(y_test,y_pred_acc)"
   ]
  },
  {
   "cell_type": "markdown",
   "metadata": {},
   "source": [
    "### SVM"
   ]
  },
  {
   "cell_type": "markdown",
   "metadata": {},
   "source": [
    "The hyperparameters were tuned to find the best ROC AUC score for the support vector machine using an exhaustive grid search (10-fold cv). The optimal hyperparameters are listed below. \n",
    "\n",
    "* Kernel: Linear \n",
    "\n",
    "* Regularization: C = 0.009 "
   ]
  },
  {
   "cell_type": "code",
   "execution_count": 10,
   "metadata": {},
   "outputs": [
    {
     "ename": "KeyboardInterrupt",
     "evalue": "",
     "output_type": "error",
     "traceback": [
      "\u001b[1;31m---------------------------------------------------------------------------\u001b[0m",
      "\u001b[1;31mKeyboardInterrupt\u001b[0m                         Traceback (most recent call last)",
      "\u001b[1;32m<ipython-input-10-a119d7a7fcfa>\u001b[0m in \u001b[0;36m<module>\u001b[1;34m\u001b[0m\n\u001b[0;32m     22\u001b[0m \u001b[1;31m## Instantiate Pipeline\u001b[0m\u001b[1;33m\u001b[0m\u001b[1;33m\u001b[0m\u001b[1;33m\u001b[0m\u001b[0m\n\u001b[0;32m     23\u001b[0m \u001b[0mpipeline\u001b[0m \u001b[1;33m=\u001b[0m \u001b[0mPipeline\u001b[0m\u001b[1;33m(\u001b[0m\u001b[1;33m[\u001b[0m\u001b[1;33m(\u001b[0m\u001b[1;34m'feature_sele'\u001b[0m\u001b[1;33m,\u001b[0m \u001b[0mrfecv\u001b[0m\u001b[1;33m)\u001b[0m\u001b[1;33m,\u001b[0m\u001b[1;33m(\u001b[0m\u001b[1;34m'clf_SVM_cv'\u001b[0m\u001b[1;33m,\u001b[0m \u001b[0mCV_rfc\u001b[0m\u001b[1;33m)\u001b[0m\u001b[1;33m]\u001b[0m\u001b[1;33m)\u001b[0m\u001b[1;33m\u001b[0m\u001b[1;33m\u001b[0m\u001b[0m\n\u001b[1;32m---> 24\u001b[1;33m \u001b[0mpipeline\u001b[0m\u001b[1;33m.\u001b[0m\u001b[0mfit\u001b[0m\u001b[1;33m(\u001b[0m\u001b[0mX_train_scaled\u001b[0m\u001b[1;33m,\u001b[0m \u001b[0my_train\u001b[0m\u001b[1;33m)\u001b[0m\u001b[1;33m\u001b[0m\u001b[1;33m\u001b[0m\u001b[0m\n\u001b[0m\u001b[0;32m     25\u001b[0m \u001b[1;33m\u001b[0m\u001b[0m\n\u001b[0;32m     26\u001b[0m \u001b[1;31m## Assign model predictions\u001b[0m\u001b[1;33m\u001b[0m\u001b[1;33m\u001b[0m\u001b[1;33m\u001b[0m\u001b[0m\n",
      "\u001b[1;32m~\\Anaconda3\\lib\\site-packages\\sklearn\\pipeline.py\u001b[0m in \u001b[0;36mfit\u001b[1;34m(self, X, y, **fit_params)\u001b[0m\n\u001b[0;32m    354\u001b[0m                                  self._log_message(len(self.steps) - 1)):\n\u001b[0;32m    355\u001b[0m             \u001b[1;32mif\u001b[0m \u001b[0mself\u001b[0m\u001b[1;33m.\u001b[0m\u001b[0m_final_estimator\u001b[0m \u001b[1;33m!=\u001b[0m \u001b[1;34m'passthrough'\u001b[0m\u001b[1;33m:\u001b[0m\u001b[1;33m\u001b[0m\u001b[1;33m\u001b[0m\u001b[0m\n\u001b[1;32m--> 356\u001b[1;33m                 \u001b[0mself\u001b[0m\u001b[1;33m.\u001b[0m\u001b[0m_final_estimator\u001b[0m\u001b[1;33m.\u001b[0m\u001b[0mfit\u001b[0m\u001b[1;33m(\u001b[0m\u001b[0mXt\u001b[0m\u001b[1;33m,\u001b[0m \u001b[0my\u001b[0m\u001b[1;33m,\u001b[0m \u001b[1;33m**\u001b[0m\u001b[0mfit_params\u001b[0m\u001b[1;33m)\u001b[0m\u001b[1;33m\u001b[0m\u001b[1;33m\u001b[0m\u001b[0m\n\u001b[0m\u001b[0;32m    357\u001b[0m         \u001b[1;32mreturn\u001b[0m \u001b[0mself\u001b[0m\u001b[1;33m\u001b[0m\u001b[1;33m\u001b[0m\u001b[0m\n\u001b[0;32m    358\u001b[0m \u001b[1;33m\u001b[0m\u001b[0m\n",
      "\u001b[1;32m~\\Anaconda3\\lib\\site-packages\\sklearn\\model_selection\\_search.py\u001b[0m in \u001b[0;36mfit\u001b[1;34m(self, X, y, groups, **fit_params)\u001b[0m\n\u001b[0;32m    686\u001b[0m                 \u001b[1;32mreturn\u001b[0m \u001b[0mresults\u001b[0m\u001b[1;33m\u001b[0m\u001b[1;33m\u001b[0m\u001b[0m\n\u001b[0;32m    687\u001b[0m \u001b[1;33m\u001b[0m\u001b[0m\n\u001b[1;32m--> 688\u001b[1;33m             \u001b[0mself\u001b[0m\u001b[1;33m.\u001b[0m\u001b[0m_run_search\u001b[0m\u001b[1;33m(\u001b[0m\u001b[0mevaluate_candidates\u001b[0m\u001b[1;33m)\u001b[0m\u001b[1;33m\u001b[0m\u001b[1;33m\u001b[0m\u001b[0m\n\u001b[0m\u001b[0;32m    689\u001b[0m \u001b[1;33m\u001b[0m\u001b[0m\n\u001b[0;32m    690\u001b[0m         \u001b[1;31m# For multi-metric evaluation, store the best_index_, best_params_ and\u001b[0m\u001b[1;33m\u001b[0m\u001b[1;33m\u001b[0m\u001b[1;33m\u001b[0m\u001b[0m\n",
      "\u001b[1;32m~\\Anaconda3\\lib\\site-packages\\sklearn\\model_selection\\_search.py\u001b[0m in \u001b[0;36m_run_search\u001b[1;34m(self, evaluate_candidates)\u001b[0m\n\u001b[0;32m   1147\u001b[0m     \u001b[1;32mdef\u001b[0m \u001b[0m_run_search\u001b[0m\u001b[1;33m(\u001b[0m\u001b[0mself\u001b[0m\u001b[1;33m,\u001b[0m \u001b[0mevaluate_candidates\u001b[0m\u001b[1;33m)\u001b[0m\u001b[1;33m:\u001b[0m\u001b[1;33m\u001b[0m\u001b[1;33m\u001b[0m\u001b[0m\n\u001b[0;32m   1148\u001b[0m         \u001b[1;34m\"\"\"Search all candidates in param_grid\"\"\"\u001b[0m\u001b[1;33m\u001b[0m\u001b[1;33m\u001b[0m\u001b[0m\n\u001b[1;32m-> 1149\u001b[1;33m         \u001b[0mevaluate_candidates\u001b[0m\u001b[1;33m(\u001b[0m\u001b[0mParameterGrid\u001b[0m\u001b[1;33m(\u001b[0m\u001b[0mself\u001b[0m\u001b[1;33m.\u001b[0m\u001b[0mparam_grid\u001b[0m\u001b[1;33m)\u001b[0m\u001b[1;33m)\u001b[0m\u001b[1;33m\u001b[0m\u001b[1;33m\u001b[0m\u001b[0m\n\u001b[0m\u001b[0;32m   1150\u001b[0m \u001b[1;33m\u001b[0m\u001b[0m\n\u001b[0;32m   1151\u001b[0m \u001b[1;33m\u001b[0m\u001b[0m\n",
      "\u001b[1;32m~\\Anaconda3\\lib\\site-packages\\sklearn\\model_selection\\_search.py\u001b[0m in \u001b[0;36mevaluate_candidates\u001b[1;34m(candidate_params)\u001b[0m\n\u001b[0;32m    665\u001b[0m                                \u001b[1;32mfor\u001b[0m \u001b[0mparameters\u001b[0m\u001b[1;33m,\u001b[0m \u001b[1;33m(\u001b[0m\u001b[0mtrain\u001b[0m\u001b[1;33m,\u001b[0m \u001b[0mtest\u001b[0m\u001b[1;33m)\u001b[0m\u001b[1;33m\u001b[0m\u001b[1;33m\u001b[0m\u001b[0m\n\u001b[0;32m    666\u001b[0m                                in product(candidate_params,\n\u001b[1;32m--> 667\u001b[1;33m                                           cv.split(X, y, groups)))\n\u001b[0m\u001b[0;32m    668\u001b[0m \u001b[1;33m\u001b[0m\u001b[0m\n\u001b[0;32m    669\u001b[0m                 \u001b[1;32mif\u001b[0m \u001b[0mlen\u001b[0m\u001b[1;33m(\u001b[0m\u001b[0mout\u001b[0m\u001b[1;33m)\u001b[0m \u001b[1;33m<\u001b[0m \u001b[1;36m1\u001b[0m\u001b[1;33m:\u001b[0m\u001b[1;33m\u001b[0m\u001b[1;33m\u001b[0m\u001b[0m\n",
      "\u001b[1;32m~\\Anaconda3\\lib\\site-packages\\joblib\\parallel.py\u001b[0m in \u001b[0;36m__call__\u001b[1;34m(self, iterable)\u001b[0m\n\u001b[0;32m    922\u001b[0m                 \u001b[0mself\u001b[0m\u001b[1;33m.\u001b[0m\u001b[0m_iterating\u001b[0m \u001b[1;33m=\u001b[0m \u001b[0mself\u001b[0m\u001b[1;33m.\u001b[0m\u001b[0m_original_iterator\u001b[0m \u001b[1;32mis\u001b[0m \u001b[1;32mnot\u001b[0m \u001b[1;32mNone\u001b[0m\u001b[1;33m\u001b[0m\u001b[1;33m\u001b[0m\u001b[0m\n\u001b[0;32m    923\u001b[0m \u001b[1;33m\u001b[0m\u001b[0m\n\u001b[1;32m--> 924\u001b[1;33m             \u001b[1;32mwhile\u001b[0m \u001b[0mself\u001b[0m\u001b[1;33m.\u001b[0m\u001b[0mdispatch_one_batch\u001b[0m\u001b[1;33m(\u001b[0m\u001b[0miterator\u001b[0m\u001b[1;33m)\u001b[0m\u001b[1;33m:\u001b[0m\u001b[1;33m\u001b[0m\u001b[1;33m\u001b[0m\u001b[0m\n\u001b[0m\u001b[0;32m    925\u001b[0m                 \u001b[1;32mpass\u001b[0m\u001b[1;33m\u001b[0m\u001b[1;33m\u001b[0m\u001b[0m\n\u001b[0;32m    926\u001b[0m \u001b[1;33m\u001b[0m\u001b[0m\n",
      "\u001b[1;32m~\\Anaconda3\\lib\\site-packages\\joblib\\parallel.py\u001b[0m in \u001b[0;36mdispatch_one_batch\u001b[1;34m(self, iterator)\u001b[0m\n\u001b[0;32m    757\u001b[0m                 \u001b[1;32mreturn\u001b[0m \u001b[1;32mFalse\u001b[0m\u001b[1;33m\u001b[0m\u001b[1;33m\u001b[0m\u001b[0m\n\u001b[0;32m    758\u001b[0m             \u001b[1;32melse\u001b[0m\u001b[1;33m:\u001b[0m\u001b[1;33m\u001b[0m\u001b[1;33m\u001b[0m\u001b[0m\n\u001b[1;32m--> 759\u001b[1;33m                 \u001b[0mself\u001b[0m\u001b[1;33m.\u001b[0m\u001b[0m_dispatch\u001b[0m\u001b[1;33m(\u001b[0m\u001b[0mtasks\u001b[0m\u001b[1;33m)\u001b[0m\u001b[1;33m\u001b[0m\u001b[1;33m\u001b[0m\u001b[0m\n\u001b[0m\u001b[0;32m    760\u001b[0m                 \u001b[1;32mreturn\u001b[0m \u001b[1;32mTrue\u001b[0m\u001b[1;33m\u001b[0m\u001b[1;33m\u001b[0m\u001b[0m\n\u001b[0;32m    761\u001b[0m \u001b[1;33m\u001b[0m\u001b[0m\n",
      "\u001b[1;32m~\\Anaconda3\\lib\\site-packages\\joblib\\parallel.py\u001b[0m in \u001b[0;36m_dispatch\u001b[1;34m(self, batch)\u001b[0m\n\u001b[0;32m    714\u001b[0m         \u001b[1;32mwith\u001b[0m \u001b[0mself\u001b[0m\u001b[1;33m.\u001b[0m\u001b[0m_lock\u001b[0m\u001b[1;33m:\u001b[0m\u001b[1;33m\u001b[0m\u001b[1;33m\u001b[0m\u001b[0m\n\u001b[0;32m    715\u001b[0m             \u001b[0mjob_idx\u001b[0m \u001b[1;33m=\u001b[0m \u001b[0mlen\u001b[0m\u001b[1;33m(\u001b[0m\u001b[0mself\u001b[0m\u001b[1;33m.\u001b[0m\u001b[0m_jobs\u001b[0m\u001b[1;33m)\u001b[0m\u001b[1;33m\u001b[0m\u001b[1;33m\u001b[0m\u001b[0m\n\u001b[1;32m--> 716\u001b[1;33m             \u001b[0mjob\u001b[0m \u001b[1;33m=\u001b[0m \u001b[0mself\u001b[0m\u001b[1;33m.\u001b[0m\u001b[0m_backend\u001b[0m\u001b[1;33m.\u001b[0m\u001b[0mapply_async\u001b[0m\u001b[1;33m(\u001b[0m\u001b[0mbatch\u001b[0m\u001b[1;33m,\u001b[0m \u001b[0mcallback\u001b[0m\u001b[1;33m=\u001b[0m\u001b[0mcb\u001b[0m\u001b[1;33m)\u001b[0m\u001b[1;33m\u001b[0m\u001b[1;33m\u001b[0m\u001b[0m\n\u001b[0m\u001b[0;32m    717\u001b[0m             \u001b[1;31m# A job can complete so quickly than its callback is\u001b[0m\u001b[1;33m\u001b[0m\u001b[1;33m\u001b[0m\u001b[1;33m\u001b[0m\u001b[0m\n\u001b[0;32m    718\u001b[0m             \u001b[1;31m# called before we get here, causing self._jobs to\u001b[0m\u001b[1;33m\u001b[0m\u001b[1;33m\u001b[0m\u001b[1;33m\u001b[0m\u001b[0m\n",
      "\u001b[1;32m~\\Anaconda3\\lib\\site-packages\\joblib\\_parallel_backends.py\u001b[0m in \u001b[0;36mapply_async\u001b[1;34m(self, func, callback)\u001b[0m\n\u001b[0;32m    180\u001b[0m     \u001b[1;32mdef\u001b[0m \u001b[0mapply_async\u001b[0m\u001b[1;33m(\u001b[0m\u001b[0mself\u001b[0m\u001b[1;33m,\u001b[0m \u001b[0mfunc\u001b[0m\u001b[1;33m,\u001b[0m \u001b[0mcallback\u001b[0m\u001b[1;33m=\u001b[0m\u001b[1;32mNone\u001b[0m\u001b[1;33m)\u001b[0m\u001b[1;33m:\u001b[0m\u001b[1;33m\u001b[0m\u001b[1;33m\u001b[0m\u001b[0m\n\u001b[0;32m    181\u001b[0m         \u001b[1;34m\"\"\"Schedule a func to be run\"\"\"\u001b[0m\u001b[1;33m\u001b[0m\u001b[1;33m\u001b[0m\u001b[0m\n\u001b[1;32m--> 182\u001b[1;33m         \u001b[0mresult\u001b[0m \u001b[1;33m=\u001b[0m \u001b[0mImmediateResult\u001b[0m\u001b[1;33m(\u001b[0m\u001b[0mfunc\u001b[0m\u001b[1;33m)\u001b[0m\u001b[1;33m\u001b[0m\u001b[1;33m\u001b[0m\u001b[0m\n\u001b[0m\u001b[0;32m    183\u001b[0m         \u001b[1;32mif\u001b[0m \u001b[0mcallback\u001b[0m\u001b[1;33m:\u001b[0m\u001b[1;33m\u001b[0m\u001b[1;33m\u001b[0m\u001b[0m\n\u001b[0;32m    184\u001b[0m             \u001b[0mcallback\u001b[0m\u001b[1;33m(\u001b[0m\u001b[0mresult\u001b[0m\u001b[1;33m)\u001b[0m\u001b[1;33m\u001b[0m\u001b[1;33m\u001b[0m\u001b[0m\n",
      "\u001b[1;32m~\\Anaconda3\\lib\\site-packages\\joblib\\_parallel_backends.py\u001b[0m in \u001b[0;36m__init__\u001b[1;34m(self, batch)\u001b[0m\n\u001b[0;32m    547\u001b[0m         \u001b[1;31m# Don't delay the application, to avoid keeping the input\u001b[0m\u001b[1;33m\u001b[0m\u001b[1;33m\u001b[0m\u001b[1;33m\u001b[0m\u001b[0m\n\u001b[0;32m    548\u001b[0m         \u001b[1;31m# arguments in memory\u001b[0m\u001b[1;33m\u001b[0m\u001b[1;33m\u001b[0m\u001b[1;33m\u001b[0m\u001b[0m\n\u001b[1;32m--> 549\u001b[1;33m         \u001b[0mself\u001b[0m\u001b[1;33m.\u001b[0m\u001b[0mresults\u001b[0m \u001b[1;33m=\u001b[0m \u001b[0mbatch\u001b[0m\u001b[1;33m(\u001b[0m\u001b[1;33m)\u001b[0m\u001b[1;33m\u001b[0m\u001b[1;33m\u001b[0m\u001b[0m\n\u001b[0m\u001b[0;32m    550\u001b[0m \u001b[1;33m\u001b[0m\u001b[0m\n\u001b[0;32m    551\u001b[0m     \u001b[1;32mdef\u001b[0m \u001b[0mget\u001b[0m\u001b[1;33m(\u001b[0m\u001b[0mself\u001b[0m\u001b[1;33m)\u001b[0m\u001b[1;33m:\u001b[0m\u001b[1;33m\u001b[0m\u001b[1;33m\u001b[0m\u001b[0m\n",
      "\u001b[1;32m~\\Anaconda3\\lib\\site-packages\\joblib\\parallel.py\u001b[0m in \u001b[0;36m__call__\u001b[1;34m(self)\u001b[0m\n\u001b[0;32m    223\u001b[0m         \u001b[1;32mwith\u001b[0m \u001b[0mparallel_backend\u001b[0m\u001b[1;33m(\u001b[0m\u001b[0mself\u001b[0m\u001b[1;33m.\u001b[0m\u001b[0m_backend\u001b[0m\u001b[1;33m,\u001b[0m \u001b[0mn_jobs\u001b[0m\u001b[1;33m=\u001b[0m\u001b[0mself\u001b[0m\u001b[1;33m.\u001b[0m\u001b[0m_n_jobs\u001b[0m\u001b[1;33m)\u001b[0m\u001b[1;33m:\u001b[0m\u001b[1;33m\u001b[0m\u001b[1;33m\u001b[0m\u001b[0m\n\u001b[0;32m    224\u001b[0m             return [func(*args, **kwargs)\n\u001b[1;32m--> 225\u001b[1;33m                     for func, args, kwargs in self.items]\n\u001b[0m\u001b[0;32m    226\u001b[0m \u001b[1;33m\u001b[0m\u001b[0m\n\u001b[0;32m    227\u001b[0m     \u001b[1;32mdef\u001b[0m \u001b[0m__len__\u001b[0m\u001b[1;33m(\u001b[0m\u001b[0mself\u001b[0m\u001b[1;33m)\u001b[0m\u001b[1;33m:\u001b[0m\u001b[1;33m\u001b[0m\u001b[1;33m\u001b[0m\u001b[0m\n",
      "\u001b[1;32m~\\Anaconda3\\lib\\site-packages\\joblib\\parallel.py\u001b[0m in \u001b[0;36m<listcomp>\u001b[1;34m(.0)\u001b[0m\n\u001b[0;32m    223\u001b[0m         \u001b[1;32mwith\u001b[0m \u001b[0mparallel_backend\u001b[0m\u001b[1;33m(\u001b[0m\u001b[0mself\u001b[0m\u001b[1;33m.\u001b[0m\u001b[0m_backend\u001b[0m\u001b[1;33m,\u001b[0m \u001b[0mn_jobs\u001b[0m\u001b[1;33m=\u001b[0m\u001b[0mself\u001b[0m\u001b[1;33m.\u001b[0m\u001b[0m_n_jobs\u001b[0m\u001b[1;33m)\u001b[0m\u001b[1;33m:\u001b[0m\u001b[1;33m\u001b[0m\u001b[1;33m\u001b[0m\u001b[0m\n\u001b[0;32m    224\u001b[0m             return [func(*args, **kwargs)\n\u001b[1;32m--> 225\u001b[1;33m                     for func, args, kwargs in self.items]\n\u001b[0m\u001b[0;32m    226\u001b[0m \u001b[1;33m\u001b[0m\u001b[0m\n\u001b[0;32m    227\u001b[0m     \u001b[1;32mdef\u001b[0m \u001b[0m__len__\u001b[0m\u001b[1;33m(\u001b[0m\u001b[0mself\u001b[0m\u001b[1;33m)\u001b[0m\u001b[1;33m:\u001b[0m\u001b[1;33m\u001b[0m\u001b[1;33m\u001b[0m\u001b[0m\n",
      "\u001b[1;32m~\\Anaconda3\\lib\\site-packages\\sklearn\\model_selection\\_validation.py\u001b[0m in \u001b[0;36m_fit_and_score\u001b[1;34m(estimator, X, y, scorer, train, test, verbose, parameters, fit_params, return_train_score, return_parameters, return_n_test_samples, return_times, return_estimator, error_score)\u001b[0m\n\u001b[0;32m    514\u001b[0m             \u001b[0mestimator\u001b[0m\u001b[1;33m.\u001b[0m\u001b[0mfit\u001b[0m\u001b[1;33m(\u001b[0m\u001b[0mX_train\u001b[0m\u001b[1;33m,\u001b[0m \u001b[1;33m**\u001b[0m\u001b[0mfit_params\u001b[0m\u001b[1;33m)\u001b[0m\u001b[1;33m\u001b[0m\u001b[1;33m\u001b[0m\u001b[0m\n\u001b[0;32m    515\u001b[0m         \u001b[1;32melse\u001b[0m\u001b[1;33m:\u001b[0m\u001b[1;33m\u001b[0m\u001b[1;33m\u001b[0m\u001b[0m\n\u001b[1;32m--> 516\u001b[1;33m             \u001b[0mestimator\u001b[0m\u001b[1;33m.\u001b[0m\u001b[0mfit\u001b[0m\u001b[1;33m(\u001b[0m\u001b[0mX_train\u001b[0m\u001b[1;33m,\u001b[0m \u001b[0my_train\u001b[0m\u001b[1;33m,\u001b[0m \u001b[1;33m**\u001b[0m\u001b[0mfit_params\u001b[0m\u001b[1;33m)\u001b[0m\u001b[1;33m\u001b[0m\u001b[1;33m\u001b[0m\u001b[0m\n\u001b[0m\u001b[0;32m    517\u001b[0m \u001b[1;33m\u001b[0m\u001b[0m\n\u001b[0;32m    518\u001b[0m     \u001b[1;32mexcept\u001b[0m \u001b[0mException\u001b[0m \u001b[1;32mas\u001b[0m \u001b[0me\u001b[0m\u001b[1;33m:\u001b[0m\u001b[1;33m\u001b[0m\u001b[1;33m\u001b[0m\u001b[0m\n",
      "\u001b[1;32m~\\Anaconda3\\lib\\site-packages\\sklearn\\svm\\base.py\u001b[0m in \u001b[0;36mfit\u001b[1;34m(self, X, y, sample_weight)\u001b[0m\n\u001b[0;32m    207\u001b[0m \u001b[1;33m\u001b[0m\u001b[0m\n\u001b[0;32m    208\u001b[0m         \u001b[0mseed\u001b[0m \u001b[1;33m=\u001b[0m \u001b[0mrnd\u001b[0m\u001b[1;33m.\u001b[0m\u001b[0mrandint\u001b[0m\u001b[1;33m(\u001b[0m\u001b[0mnp\u001b[0m\u001b[1;33m.\u001b[0m\u001b[0miinfo\u001b[0m\u001b[1;33m(\u001b[0m\u001b[1;34m'i'\u001b[0m\u001b[1;33m)\u001b[0m\u001b[1;33m.\u001b[0m\u001b[0mmax\u001b[0m\u001b[1;33m)\u001b[0m\u001b[1;33m\u001b[0m\u001b[1;33m\u001b[0m\u001b[0m\n\u001b[1;32m--> 209\u001b[1;33m         \u001b[0mfit\u001b[0m\u001b[1;33m(\u001b[0m\u001b[0mX\u001b[0m\u001b[1;33m,\u001b[0m \u001b[0my\u001b[0m\u001b[1;33m,\u001b[0m \u001b[0msample_weight\u001b[0m\u001b[1;33m,\u001b[0m \u001b[0msolver_type\u001b[0m\u001b[1;33m,\u001b[0m \u001b[0mkernel\u001b[0m\u001b[1;33m,\u001b[0m \u001b[0mrandom_seed\u001b[0m\u001b[1;33m=\u001b[0m\u001b[0mseed\u001b[0m\u001b[1;33m)\u001b[0m\u001b[1;33m\u001b[0m\u001b[1;33m\u001b[0m\u001b[0m\n\u001b[0m\u001b[0;32m    210\u001b[0m         \u001b[1;31m# see comment on the other call to np.iinfo in this file\u001b[0m\u001b[1;33m\u001b[0m\u001b[1;33m\u001b[0m\u001b[1;33m\u001b[0m\u001b[0m\n\u001b[0;32m    211\u001b[0m \u001b[1;33m\u001b[0m\u001b[0m\n",
      "\u001b[1;32m~\\Anaconda3\\lib\\site-packages\\sklearn\\svm\\base.py\u001b[0m in \u001b[0;36m_dense_fit\u001b[1;34m(self, X, y, sample_weight, solver_type, kernel, random_seed)\u001b[0m\n\u001b[0;32m    266\u001b[0m                 \u001b[0mcache_size\u001b[0m\u001b[1;33m=\u001b[0m\u001b[0mself\u001b[0m\u001b[1;33m.\u001b[0m\u001b[0mcache_size\u001b[0m\u001b[1;33m,\u001b[0m \u001b[0mcoef0\u001b[0m\u001b[1;33m=\u001b[0m\u001b[0mself\u001b[0m\u001b[1;33m.\u001b[0m\u001b[0mcoef0\u001b[0m\u001b[1;33m,\u001b[0m\u001b[1;33m\u001b[0m\u001b[1;33m\u001b[0m\u001b[0m\n\u001b[0;32m    267\u001b[0m                 \u001b[0mgamma\u001b[0m\u001b[1;33m=\u001b[0m\u001b[0mself\u001b[0m\u001b[1;33m.\u001b[0m\u001b[0m_gamma\u001b[0m\u001b[1;33m,\u001b[0m \u001b[0mepsilon\u001b[0m\u001b[1;33m=\u001b[0m\u001b[0mself\u001b[0m\u001b[1;33m.\u001b[0m\u001b[0mepsilon\u001b[0m\u001b[1;33m,\u001b[0m\u001b[1;33m\u001b[0m\u001b[1;33m\u001b[0m\u001b[0m\n\u001b[1;32m--> 268\u001b[1;33m                 max_iter=self.max_iter, random_seed=random_seed)\n\u001b[0m\u001b[0;32m    269\u001b[0m \u001b[1;33m\u001b[0m\u001b[0m\n\u001b[0;32m    270\u001b[0m         \u001b[0mself\u001b[0m\u001b[1;33m.\u001b[0m\u001b[0m_warn_from_fit_status\u001b[0m\u001b[1;33m(\u001b[0m\u001b[1;33m)\u001b[0m\u001b[1;33m\u001b[0m\u001b[1;33m\u001b[0m\u001b[0m\n",
      "\u001b[1;31mKeyboardInterrupt\u001b[0m: "
     ]
    }
   ],
   "source": [
    "# Support Vector Machine Pipeline\n",
    "## Instantiate Support Vector Machine Pipeline\n",
    "\n",
    "clf_SVM = svm.SVC(kernel = 'linear')\n",
    "\n",
    "## First step of pipeline recursive feature elimination with cross validation (10-fold)\n",
    "rfecv = RFECV(estimator = clf_SVM, \n",
    "              step = 1, \n",
    "              cv = StratifiedKFold(10), \n",
    "              scoring = 'roc_auc')\n",
    "\n",
    "## Second step of pipeline grid search using cross validation (10-fold)\n",
    "CV_rfc = GridSearchCV(clf_SVM, \n",
    "                      param_grid = \n",
    "                      {\n",
    "                          'kernel': ['linear', 'rbf', 'sigmoid'],\n",
    "                          'C': [0.001,.009,0.01,.09,.5, 0.8, 1,5,10,25]      \n",
    "                      },\n",
    "                      \n",
    "                      cv = StratifiedKFold(10), scoring = 'roc_auc')\n",
    "\n",
    "## Instantiate Pipeline\n",
    "pipeline = Pipeline([('feature_sele', rfecv),('clf_SVM_cv', CV_rfc)])\n",
    "pipeline.fit(X_train_scaled, y_train)\n",
    "\n",
    "## Assign model predictions\n",
    "y_pred_acc = pipeline.predict(X_test_scaled)\n",
    "\n",
    "## Best parameters and features for the model\n",
    "print(rfecv.get_support()) \n",
    "print(CV_rfc.best_params_)"
   ]
  },
  {
   "cell_type": "code",
   "execution_count": 11,
   "metadata": {
    "scrolled": true
   },
   "outputs": [
    {
     "name": "stdout",
     "output_type": "stream",
     "text": [
      "cv_scores mean:0.8456118782603654\n",
      "Accuracy Scoree : 0.6233333333333333\n",
      "Recall Score : : 0.8298755186721992\n",
      "Precision Score : 0.6233333333333333\n",
      "Recall Score : 0.5697745277269958\n",
      "F1 Score : 0.5953517987901942\n",
      "ROC Score : 0.8416722849201894\n"
     ]
    },
    {
     "data": {
      "text/plain": [
       "array([[5265,  565],\n",
       "       [ 706,  935]], dtype=int64)"
      ]
     },
     "execution_count": 11,
     "metadata": {},
     "output_type": "execute_result"
    }
   ],
   "source": [
    "# Best SVM parameters \n",
    "## Set new features\n",
    "X_train_SVM = np.column_stack((X_train_scaled[:,:2],\n",
    "                               X_train_scaled[:,:][0:, -1].reshape(29883, 1)))\n",
    "\n",
    "X_test_SVM = np.column_stack((X_test_scaled[:,:2],\n",
    "                              X_test_scaled[:,:][0:, -1].reshape(7471, 1)))\n",
    "\n",
    "## Create the model instance\n",
    "clf_SVM = svm.SVC(kernel = 'linear', C = 0.009)\n",
    "\n",
    "## Get the ROC by k-fold cross validation on the training set\n",
    "cv_scores = cross_val_score(clf_SVM, X_train_SVM,\n",
    "                            y_train, cv = StratifiedKFold(10),\n",
    "                            scoring = 'roc_auc')\n",
    "\n",
    "print('cv_scores mean:{}'.format(np.mean(cv_scores)))\n",
    "\n",
    "## Fit the model\n",
    "clf_SVM.fit(X_train_SVM, y_train)\n",
    "\n",
    "## Get the model predictions\n",
    "y_pred_acc = clf_SVM.predict(X_test_SVM)\n",
    "\n",
    "## Classification metrics\n",
    "print('Accuracy Scoree : ' + str(precision_score(y_test, y_pred_acc)))\n",
    "print('Recall Score : : ' + str(accuracy_score(y_test, y_pred_acc)))\n",
    "print('Precision Score : ' + str(precision_score(y_test, y_pred_acc)))\n",
    "print('Recall Score : ' + str(recall_score(y_test, y_pred_acc)))\n",
    "print('F1 Score : ' + str(f1_score(y_test, y_pred_acc)))\n",
    "print('ROC Score : ' + str(roc_auc_score(y_test, clf_SVM.decision_function(X_test_SVM))))\n",
    "\n",
    "#Logistic Regression (Grid Search) Confusion matrix\n",
    "confusion_matrix(y_test, y_pred_acc)"
   ]
  },
  {
   "cell_type": "markdown",
   "metadata": {},
   "source": [
    "### KNN"
   ]
  },
  {
   "cell_type": "markdown",
   "metadata": {},
   "source": [
    "The hyperparameters were tuned to find the best ROC AUC score for the KNN classifier using an exhaustive grid search (10-fold cv). The optimal hyperparameters are listed below. \n",
    "\n",
    "* n_neighbors: 24 \n",
    "\n",
    "* leaf_size: 2 \n",
    "\n",
    "* metric (p): 1 "
   ]
  },
  {
   "cell_type": "code",
   "execution_count": null,
   "metadata": {},
   "outputs": [],
   "source": [
    "# K-Nearest Neighbors Pipeline\n",
    "## Instantiate K-Nearest Neighbors Pipeline\n",
    "clf_KNN = KNeighborsClassifier()\n",
    "\n",
    "## Set parameters for grid search\n",
    "leaf_size = list(range(1, 50))\n",
    "n_neighbors = list(range(1, 30))\n",
    "p = [1,2]\n",
    "hyperparameters = dict(leaf_size = leaf_size, n_neighbors = n_neighbors,\n",
    "                       p = p)\n",
    "\n",
    "### First step of pipeline\n",
    "CV_rfc = GridSearchCV(clf_KNN, \n",
    "                      param_grid = hyperparameters,\n",
    "                      cv = StratifiedKFold(10), scoring = 'roc_auc')\n",
    "\n",
    "## Instantiate Pipeline\n",
    "pipeline = Pipeline([(('clf_KNN_cv', CV_rfc))])\n",
    "pipeline.fit(X_train_scaled, y_train)\n",
    "\n",
    "## Best parameters and features for the model\n",
    "print(CV_rfc.best_params_)"
   ]
  },
  {
   "cell_type": "code",
   "execution_count": 12,
   "metadata": {
    "scrolled": true
   },
   "outputs": [
    {
     "name": "stdout",
     "output_type": "stream",
     "text": [
      "cv_scores mean:0.9406726549238076\n",
      "Accuracy Score : 0.8816758131441574\n",
      "Precision Score : 0.7531772575250836\n",
      "Recall Score : 0.6861669713589275\n",
      "F1 Score : 0.7181122448979591\n",
      "ROC Score : 0.9359318931789699\n"
     ]
    },
    {
     "data": {
      "text/plain": [
       "array([[5461,  369],\n",
       "       [ 515, 1126]], dtype=int64)"
      ]
     },
     "execution_count": 12,
     "metadata": {},
     "output_type": "execute_result"
    }
   ],
   "source": [
    "# Best KNN parameters \n",
    "## Create the model instance\n",
    "clf_KNN = KNeighborsClassifier(n_neighbors = 24, leaf_size = 2,\n",
    "                               p = 1)\n",
    "\n",
    "cv_scores = cross_val_score(clf_KNN, X_train_scaled,\n",
    "                            y_train, cv = StratifiedKFold(10),\n",
    "                            scoring = 'roc_auc')\n",
    "\n",
    "## Get the ROC by k-fold cross validation on the training set\n",
    "print('cv_scores mean:{}'.format(np.mean(cv_scores)))\n",
    "\n",
    "## Fit the model\n",
    "clf_KNN.fit(X_train_scaled, y_train)\n",
    "\n",
    "## Get the model predictions\n",
    "y_pred_acc = clf_KNN.predict(X_test_scaled)\n",
    "\n",
    "## Classification metrics\n",
    "print('Accuracy Score : ' + str(accuracy_score(y_test, y_pred_acc)))\n",
    "print('Precision Score : ' + str(precision_score(y_test, y_pred_acc)))\n",
    "print('Recall Score : ' + str(recall_score(y_test, y_pred_acc)))\n",
    "print('F1 Score : ' + str(f1_score(y_test, y_pred_acc)))\n",
    "print('ROC Score : ' + str(roc_auc_score(y_test, clf_KNN.predict_proba(X_test_scaled)[:,1])))\n",
    "\n",
    "# Logistic Regression (Grid Search) Confusion matrix\n",
    "confusion_matrix(y_test,y_pred_acc)"
   ]
  },
  {
   "cell_type": "markdown",
   "metadata": {},
   "source": [
    "### Random Forest"
   ]
  },
  {
   "cell_type": "markdown",
   "metadata": {},
   "source": [
    "The hyperparameters were tuned to find the best ROC AUC score for the KNN classifier using a randomized search (10-fold cv) [10]. The optimal hyperparameters are listed below. \n",
    "\n",
    "* n_estimators: 300 \n",
    "\n",
    "* Criterion: entropy \n",
    "\n",
    "* max_features: 4 \n",
    "\n",
    "* max_depth: None \n",
    "\n",
    "* min_samples_split: 15 \n",
    "\n",
    "* Bootstrap: True "
   ]
  },
  {
   "cell_type": "code",
   "execution_count": 13,
   "metadata": {},
   "outputs": [
    {
     "ename": "KeyboardInterrupt",
     "evalue": "",
     "output_type": "error",
     "traceback": [
      "\u001b[1;31m---------------------------------------------------------------------------\u001b[0m",
      "\u001b[1;31mKeyboardInterrupt\u001b[0m                         Traceback (most recent call last)",
      "\u001b[1;32m<ipython-input-13-6052f67eb017>\u001b[0m in \u001b[0;36m<module>\u001b[1;34m\u001b[0m\n\u001b[0;32m     18\u001b[0m \u001b[1;31m## Instantiate Pipeline\u001b[0m\u001b[1;33m\u001b[0m\u001b[1;33m\u001b[0m\u001b[1;33m\u001b[0m\u001b[0m\n\u001b[0;32m     19\u001b[0m \u001b[0mpipeline\u001b[0m \u001b[1;33m=\u001b[0m \u001b[0mPipeline\u001b[0m\u001b[1;33m(\u001b[0m\u001b[1;33m[\u001b[0m\u001b[1;33m(\u001b[0m\u001b[1;34m'clf_RF_cv'\u001b[0m\u001b[1;33m,\u001b[0m\u001b[0mCV_rfc\u001b[0m\u001b[1;33m)\u001b[0m\u001b[1;33m]\u001b[0m\u001b[1;33m)\u001b[0m\u001b[1;33m\u001b[0m\u001b[1;33m\u001b[0m\u001b[0m\n\u001b[1;32m---> 20\u001b[1;33m \u001b[0mpipeline\u001b[0m\u001b[1;33m.\u001b[0m\u001b[0mfit\u001b[0m\u001b[1;33m(\u001b[0m\u001b[0mX_train_scaled\u001b[0m\u001b[1;33m,\u001b[0m \u001b[0my_train\u001b[0m\u001b[1;33m)\u001b[0m\u001b[1;33m\u001b[0m\u001b[1;33m\u001b[0m\u001b[0m\n\u001b[0m\u001b[0;32m     21\u001b[0m \u001b[1;33m\u001b[0m\u001b[0m\n\u001b[0;32m     22\u001b[0m \u001b[1;31m## Best parameters and features for the model\u001b[0m\u001b[1;33m\u001b[0m\u001b[1;33m\u001b[0m\u001b[1;33m\u001b[0m\u001b[0m\n",
      "\u001b[1;32m~\\Anaconda3\\lib\\site-packages\\sklearn\\pipeline.py\u001b[0m in \u001b[0;36mfit\u001b[1;34m(self, X, y, **fit_params)\u001b[0m\n\u001b[0;32m    354\u001b[0m                                  self._log_message(len(self.steps) - 1)):\n\u001b[0;32m    355\u001b[0m             \u001b[1;32mif\u001b[0m \u001b[0mself\u001b[0m\u001b[1;33m.\u001b[0m\u001b[0m_final_estimator\u001b[0m \u001b[1;33m!=\u001b[0m \u001b[1;34m'passthrough'\u001b[0m\u001b[1;33m:\u001b[0m\u001b[1;33m\u001b[0m\u001b[1;33m\u001b[0m\u001b[0m\n\u001b[1;32m--> 356\u001b[1;33m                 \u001b[0mself\u001b[0m\u001b[1;33m.\u001b[0m\u001b[0m_final_estimator\u001b[0m\u001b[1;33m.\u001b[0m\u001b[0mfit\u001b[0m\u001b[1;33m(\u001b[0m\u001b[0mXt\u001b[0m\u001b[1;33m,\u001b[0m \u001b[0my\u001b[0m\u001b[1;33m,\u001b[0m \u001b[1;33m**\u001b[0m\u001b[0mfit_params\u001b[0m\u001b[1;33m)\u001b[0m\u001b[1;33m\u001b[0m\u001b[1;33m\u001b[0m\u001b[0m\n\u001b[0m\u001b[0;32m    357\u001b[0m         \u001b[1;32mreturn\u001b[0m \u001b[0mself\u001b[0m\u001b[1;33m\u001b[0m\u001b[1;33m\u001b[0m\u001b[0m\n\u001b[0;32m    358\u001b[0m \u001b[1;33m\u001b[0m\u001b[0m\n",
      "\u001b[1;32m~\\Anaconda3\\lib\\site-packages\\sklearn\\model_selection\\_search.py\u001b[0m in \u001b[0;36mfit\u001b[1;34m(self, X, y, groups, **fit_params)\u001b[0m\n\u001b[0;32m    686\u001b[0m                 \u001b[1;32mreturn\u001b[0m \u001b[0mresults\u001b[0m\u001b[1;33m\u001b[0m\u001b[1;33m\u001b[0m\u001b[0m\n\u001b[0;32m    687\u001b[0m \u001b[1;33m\u001b[0m\u001b[0m\n\u001b[1;32m--> 688\u001b[1;33m             \u001b[0mself\u001b[0m\u001b[1;33m.\u001b[0m\u001b[0m_run_search\u001b[0m\u001b[1;33m(\u001b[0m\u001b[0mevaluate_candidates\u001b[0m\u001b[1;33m)\u001b[0m\u001b[1;33m\u001b[0m\u001b[1;33m\u001b[0m\u001b[0m\n\u001b[0m\u001b[0;32m    689\u001b[0m \u001b[1;33m\u001b[0m\u001b[0m\n\u001b[0;32m    690\u001b[0m         \u001b[1;31m# For multi-metric evaluation, store the best_index_, best_params_ and\u001b[0m\u001b[1;33m\u001b[0m\u001b[1;33m\u001b[0m\u001b[1;33m\u001b[0m\u001b[0m\n",
      "\u001b[1;32m~\\Anaconda3\\lib\\site-packages\\sklearn\\model_selection\\_search.py\u001b[0m in \u001b[0;36m_run_search\u001b[1;34m(self, evaluate_candidates)\u001b[0m\n\u001b[0;32m   1467\u001b[0m         evaluate_candidates(ParameterSampler(\n\u001b[0;32m   1468\u001b[0m             \u001b[0mself\u001b[0m\u001b[1;33m.\u001b[0m\u001b[0mparam_distributions\u001b[0m\u001b[1;33m,\u001b[0m \u001b[0mself\u001b[0m\u001b[1;33m.\u001b[0m\u001b[0mn_iter\u001b[0m\u001b[1;33m,\u001b[0m\u001b[1;33m\u001b[0m\u001b[1;33m\u001b[0m\u001b[0m\n\u001b[1;32m-> 1469\u001b[1;33m             random_state=self.random_state))\n\u001b[0m",
      "\u001b[1;32m~\\Anaconda3\\lib\\site-packages\\sklearn\\model_selection\\_search.py\u001b[0m in \u001b[0;36mevaluate_candidates\u001b[1;34m(candidate_params)\u001b[0m\n\u001b[0;32m    665\u001b[0m                                \u001b[1;32mfor\u001b[0m \u001b[0mparameters\u001b[0m\u001b[1;33m,\u001b[0m \u001b[1;33m(\u001b[0m\u001b[0mtrain\u001b[0m\u001b[1;33m,\u001b[0m \u001b[0mtest\u001b[0m\u001b[1;33m)\u001b[0m\u001b[1;33m\u001b[0m\u001b[1;33m\u001b[0m\u001b[0m\n\u001b[0;32m    666\u001b[0m                                in product(candidate_params,\n\u001b[1;32m--> 667\u001b[1;33m                                           cv.split(X, y, groups)))\n\u001b[0m\u001b[0;32m    668\u001b[0m \u001b[1;33m\u001b[0m\u001b[0m\n\u001b[0;32m    669\u001b[0m                 \u001b[1;32mif\u001b[0m \u001b[0mlen\u001b[0m\u001b[1;33m(\u001b[0m\u001b[0mout\u001b[0m\u001b[1;33m)\u001b[0m \u001b[1;33m<\u001b[0m \u001b[1;36m1\u001b[0m\u001b[1;33m:\u001b[0m\u001b[1;33m\u001b[0m\u001b[1;33m\u001b[0m\u001b[0m\n",
      "\u001b[1;32m~\\Anaconda3\\lib\\site-packages\\joblib\\parallel.py\u001b[0m in \u001b[0;36m__call__\u001b[1;34m(self, iterable)\u001b[0m\n\u001b[0;32m    919\u001b[0m             \u001b[1;31m# remaining jobs.\u001b[0m\u001b[1;33m\u001b[0m\u001b[1;33m\u001b[0m\u001b[1;33m\u001b[0m\u001b[0m\n\u001b[0;32m    920\u001b[0m             \u001b[0mself\u001b[0m\u001b[1;33m.\u001b[0m\u001b[0m_iterating\u001b[0m \u001b[1;33m=\u001b[0m \u001b[1;32mFalse\u001b[0m\u001b[1;33m\u001b[0m\u001b[1;33m\u001b[0m\u001b[0m\n\u001b[1;32m--> 921\u001b[1;33m             \u001b[1;32mif\u001b[0m \u001b[0mself\u001b[0m\u001b[1;33m.\u001b[0m\u001b[0mdispatch_one_batch\u001b[0m\u001b[1;33m(\u001b[0m\u001b[0miterator\u001b[0m\u001b[1;33m)\u001b[0m\u001b[1;33m:\u001b[0m\u001b[1;33m\u001b[0m\u001b[1;33m\u001b[0m\u001b[0m\n\u001b[0m\u001b[0;32m    922\u001b[0m                 \u001b[0mself\u001b[0m\u001b[1;33m.\u001b[0m\u001b[0m_iterating\u001b[0m \u001b[1;33m=\u001b[0m \u001b[0mself\u001b[0m\u001b[1;33m.\u001b[0m\u001b[0m_original_iterator\u001b[0m \u001b[1;32mis\u001b[0m \u001b[1;32mnot\u001b[0m \u001b[1;32mNone\u001b[0m\u001b[1;33m\u001b[0m\u001b[1;33m\u001b[0m\u001b[0m\n\u001b[0;32m    923\u001b[0m \u001b[1;33m\u001b[0m\u001b[0m\n",
      "\u001b[1;32m~\\Anaconda3\\lib\\site-packages\\joblib\\parallel.py\u001b[0m in \u001b[0;36mdispatch_one_batch\u001b[1;34m(self, iterator)\u001b[0m\n\u001b[0;32m    757\u001b[0m                 \u001b[1;32mreturn\u001b[0m \u001b[1;32mFalse\u001b[0m\u001b[1;33m\u001b[0m\u001b[1;33m\u001b[0m\u001b[0m\n\u001b[0;32m    758\u001b[0m             \u001b[1;32melse\u001b[0m\u001b[1;33m:\u001b[0m\u001b[1;33m\u001b[0m\u001b[1;33m\u001b[0m\u001b[0m\n\u001b[1;32m--> 759\u001b[1;33m                 \u001b[0mself\u001b[0m\u001b[1;33m.\u001b[0m\u001b[0m_dispatch\u001b[0m\u001b[1;33m(\u001b[0m\u001b[0mtasks\u001b[0m\u001b[1;33m)\u001b[0m\u001b[1;33m\u001b[0m\u001b[1;33m\u001b[0m\u001b[0m\n\u001b[0m\u001b[0;32m    760\u001b[0m                 \u001b[1;32mreturn\u001b[0m \u001b[1;32mTrue\u001b[0m\u001b[1;33m\u001b[0m\u001b[1;33m\u001b[0m\u001b[0m\n\u001b[0;32m    761\u001b[0m \u001b[1;33m\u001b[0m\u001b[0m\n",
      "\u001b[1;32m~\\Anaconda3\\lib\\site-packages\\joblib\\parallel.py\u001b[0m in \u001b[0;36m_dispatch\u001b[1;34m(self, batch)\u001b[0m\n\u001b[0;32m    714\u001b[0m         \u001b[1;32mwith\u001b[0m \u001b[0mself\u001b[0m\u001b[1;33m.\u001b[0m\u001b[0m_lock\u001b[0m\u001b[1;33m:\u001b[0m\u001b[1;33m\u001b[0m\u001b[1;33m\u001b[0m\u001b[0m\n\u001b[0;32m    715\u001b[0m             \u001b[0mjob_idx\u001b[0m \u001b[1;33m=\u001b[0m \u001b[0mlen\u001b[0m\u001b[1;33m(\u001b[0m\u001b[0mself\u001b[0m\u001b[1;33m.\u001b[0m\u001b[0m_jobs\u001b[0m\u001b[1;33m)\u001b[0m\u001b[1;33m\u001b[0m\u001b[1;33m\u001b[0m\u001b[0m\n\u001b[1;32m--> 716\u001b[1;33m             \u001b[0mjob\u001b[0m \u001b[1;33m=\u001b[0m \u001b[0mself\u001b[0m\u001b[1;33m.\u001b[0m\u001b[0m_backend\u001b[0m\u001b[1;33m.\u001b[0m\u001b[0mapply_async\u001b[0m\u001b[1;33m(\u001b[0m\u001b[0mbatch\u001b[0m\u001b[1;33m,\u001b[0m \u001b[0mcallback\u001b[0m\u001b[1;33m=\u001b[0m\u001b[0mcb\u001b[0m\u001b[1;33m)\u001b[0m\u001b[1;33m\u001b[0m\u001b[1;33m\u001b[0m\u001b[0m\n\u001b[0m\u001b[0;32m    717\u001b[0m             \u001b[1;31m# A job can complete so quickly than its callback is\u001b[0m\u001b[1;33m\u001b[0m\u001b[1;33m\u001b[0m\u001b[1;33m\u001b[0m\u001b[0m\n\u001b[0;32m    718\u001b[0m             \u001b[1;31m# called before we get here, causing self._jobs to\u001b[0m\u001b[1;33m\u001b[0m\u001b[1;33m\u001b[0m\u001b[1;33m\u001b[0m\u001b[0m\n",
      "\u001b[1;32m~\\Anaconda3\\lib\\site-packages\\joblib\\_parallel_backends.py\u001b[0m in \u001b[0;36mapply_async\u001b[1;34m(self, func, callback)\u001b[0m\n\u001b[0;32m    180\u001b[0m     \u001b[1;32mdef\u001b[0m \u001b[0mapply_async\u001b[0m\u001b[1;33m(\u001b[0m\u001b[0mself\u001b[0m\u001b[1;33m,\u001b[0m \u001b[0mfunc\u001b[0m\u001b[1;33m,\u001b[0m \u001b[0mcallback\u001b[0m\u001b[1;33m=\u001b[0m\u001b[1;32mNone\u001b[0m\u001b[1;33m)\u001b[0m\u001b[1;33m:\u001b[0m\u001b[1;33m\u001b[0m\u001b[1;33m\u001b[0m\u001b[0m\n\u001b[0;32m    181\u001b[0m         \u001b[1;34m\"\"\"Schedule a func to be run\"\"\"\u001b[0m\u001b[1;33m\u001b[0m\u001b[1;33m\u001b[0m\u001b[0m\n\u001b[1;32m--> 182\u001b[1;33m         \u001b[0mresult\u001b[0m \u001b[1;33m=\u001b[0m \u001b[0mImmediateResult\u001b[0m\u001b[1;33m(\u001b[0m\u001b[0mfunc\u001b[0m\u001b[1;33m)\u001b[0m\u001b[1;33m\u001b[0m\u001b[1;33m\u001b[0m\u001b[0m\n\u001b[0m\u001b[0;32m    183\u001b[0m         \u001b[1;32mif\u001b[0m \u001b[0mcallback\u001b[0m\u001b[1;33m:\u001b[0m\u001b[1;33m\u001b[0m\u001b[1;33m\u001b[0m\u001b[0m\n\u001b[0;32m    184\u001b[0m             \u001b[0mcallback\u001b[0m\u001b[1;33m(\u001b[0m\u001b[0mresult\u001b[0m\u001b[1;33m)\u001b[0m\u001b[1;33m\u001b[0m\u001b[1;33m\u001b[0m\u001b[0m\n",
      "\u001b[1;32m~\\Anaconda3\\lib\\site-packages\\joblib\\_parallel_backends.py\u001b[0m in \u001b[0;36m__init__\u001b[1;34m(self, batch)\u001b[0m\n\u001b[0;32m    547\u001b[0m         \u001b[1;31m# Don't delay the application, to avoid keeping the input\u001b[0m\u001b[1;33m\u001b[0m\u001b[1;33m\u001b[0m\u001b[1;33m\u001b[0m\u001b[0m\n\u001b[0;32m    548\u001b[0m         \u001b[1;31m# arguments in memory\u001b[0m\u001b[1;33m\u001b[0m\u001b[1;33m\u001b[0m\u001b[1;33m\u001b[0m\u001b[0m\n\u001b[1;32m--> 549\u001b[1;33m         \u001b[0mself\u001b[0m\u001b[1;33m.\u001b[0m\u001b[0mresults\u001b[0m \u001b[1;33m=\u001b[0m \u001b[0mbatch\u001b[0m\u001b[1;33m(\u001b[0m\u001b[1;33m)\u001b[0m\u001b[1;33m\u001b[0m\u001b[1;33m\u001b[0m\u001b[0m\n\u001b[0m\u001b[0;32m    550\u001b[0m \u001b[1;33m\u001b[0m\u001b[0m\n\u001b[0;32m    551\u001b[0m     \u001b[1;32mdef\u001b[0m \u001b[0mget\u001b[0m\u001b[1;33m(\u001b[0m\u001b[0mself\u001b[0m\u001b[1;33m)\u001b[0m\u001b[1;33m:\u001b[0m\u001b[1;33m\u001b[0m\u001b[1;33m\u001b[0m\u001b[0m\n",
      "\u001b[1;32m~\\Anaconda3\\lib\\site-packages\\joblib\\parallel.py\u001b[0m in \u001b[0;36m__call__\u001b[1;34m(self)\u001b[0m\n\u001b[0;32m    223\u001b[0m         \u001b[1;32mwith\u001b[0m \u001b[0mparallel_backend\u001b[0m\u001b[1;33m(\u001b[0m\u001b[0mself\u001b[0m\u001b[1;33m.\u001b[0m\u001b[0m_backend\u001b[0m\u001b[1;33m,\u001b[0m \u001b[0mn_jobs\u001b[0m\u001b[1;33m=\u001b[0m\u001b[0mself\u001b[0m\u001b[1;33m.\u001b[0m\u001b[0m_n_jobs\u001b[0m\u001b[1;33m)\u001b[0m\u001b[1;33m:\u001b[0m\u001b[1;33m\u001b[0m\u001b[1;33m\u001b[0m\u001b[0m\n\u001b[0;32m    224\u001b[0m             return [func(*args, **kwargs)\n\u001b[1;32m--> 225\u001b[1;33m                     for func, args, kwargs in self.items]\n\u001b[0m\u001b[0;32m    226\u001b[0m \u001b[1;33m\u001b[0m\u001b[0m\n\u001b[0;32m    227\u001b[0m     \u001b[1;32mdef\u001b[0m \u001b[0m__len__\u001b[0m\u001b[1;33m(\u001b[0m\u001b[0mself\u001b[0m\u001b[1;33m)\u001b[0m\u001b[1;33m:\u001b[0m\u001b[1;33m\u001b[0m\u001b[1;33m\u001b[0m\u001b[0m\n",
      "\u001b[1;32m~\\Anaconda3\\lib\\site-packages\\joblib\\parallel.py\u001b[0m in \u001b[0;36m<listcomp>\u001b[1;34m(.0)\u001b[0m\n\u001b[0;32m    223\u001b[0m         \u001b[1;32mwith\u001b[0m \u001b[0mparallel_backend\u001b[0m\u001b[1;33m(\u001b[0m\u001b[0mself\u001b[0m\u001b[1;33m.\u001b[0m\u001b[0m_backend\u001b[0m\u001b[1;33m,\u001b[0m \u001b[0mn_jobs\u001b[0m\u001b[1;33m=\u001b[0m\u001b[0mself\u001b[0m\u001b[1;33m.\u001b[0m\u001b[0m_n_jobs\u001b[0m\u001b[1;33m)\u001b[0m\u001b[1;33m:\u001b[0m\u001b[1;33m\u001b[0m\u001b[1;33m\u001b[0m\u001b[0m\n\u001b[0;32m    224\u001b[0m             return [func(*args, **kwargs)\n\u001b[1;32m--> 225\u001b[1;33m                     for func, args, kwargs in self.items]\n\u001b[0m\u001b[0;32m    226\u001b[0m \u001b[1;33m\u001b[0m\u001b[0m\n\u001b[0;32m    227\u001b[0m     \u001b[1;32mdef\u001b[0m \u001b[0m__len__\u001b[0m\u001b[1;33m(\u001b[0m\u001b[0mself\u001b[0m\u001b[1;33m)\u001b[0m\u001b[1;33m:\u001b[0m\u001b[1;33m\u001b[0m\u001b[1;33m\u001b[0m\u001b[0m\n",
      "\u001b[1;32m~\\Anaconda3\\lib\\site-packages\\sklearn\\model_selection\\_validation.py\u001b[0m in \u001b[0;36m_fit_and_score\u001b[1;34m(estimator, X, y, scorer, train, test, verbose, parameters, fit_params, return_train_score, return_parameters, return_n_test_samples, return_times, return_estimator, error_score)\u001b[0m\n\u001b[0;32m    514\u001b[0m             \u001b[0mestimator\u001b[0m\u001b[1;33m.\u001b[0m\u001b[0mfit\u001b[0m\u001b[1;33m(\u001b[0m\u001b[0mX_train\u001b[0m\u001b[1;33m,\u001b[0m \u001b[1;33m**\u001b[0m\u001b[0mfit_params\u001b[0m\u001b[1;33m)\u001b[0m\u001b[1;33m\u001b[0m\u001b[1;33m\u001b[0m\u001b[0m\n\u001b[0;32m    515\u001b[0m         \u001b[1;32melse\u001b[0m\u001b[1;33m:\u001b[0m\u001b[1;33m\u001b[0m\u001b[1;33m\u001b[0m\u001b[0m\n\u001b[1;32m--> 516\u001b[1;33m             \u001b[0mestimator\u001b[0m\u001b[1;33m.\u001b[0m\u001b[0mfit\u001b[0m\u001b[1;33m(\u001b[0m\u001b[0mX_train\u001b[0m\u001b[1;33m,\u001b[0m \u001b[0my_train\u001b[0m\u001b[1;33m,\u001b[0m \u001b[1;33m**\u001b[0m\u001b[0mfit_params\u001b[0m\u001b[1;33m)\u001b[0m\u001b[1;33m\u001b[0m\u001b[1;33m\u001b[0m\u001b[0m\n\u001b[0m\u001b[0;32m    517\u001b[0m \u001b[1;33m\u001b[0m\u001b[0m\n\u001b[0;32m    518\u001b[0m     \u001b[1;32mexcept\u001b[0m \u001b[0mException\u001b[0m \u001b[1;32mas\u001b[0m \u001b[0me\u001b[0m\u001b[1;33m:\u001b[0m\u001b[1;33m\u001b[0m\u001b[1;33m\u001b[0m\u001b[0m\n",
      "\u001b[1;32m~\\Anaconda3\\lib\\site-packages\\sklearn\\ensemble\\forest.py\u001b[0m in \u001b[0;36mfit\u001b[1;34m(self, X, y, sample_weight)\u001b[0m\n\u001b[0;32m    328\u001b[0m                     \u001b[0mt\u001b[0m\u001b[1;33m,\u001b[0m \u001b[0mself\u001b[0m\u001b[1;33m,\u001b[0m \u001b[0mX\u001b[0m\u001b[1;33m,\u001b[0m \u001b[0my\u001b[0m\u001b[1;33m,\u001b[0m \u001b[0msample_weight\u001b[0m\u001b[1;33m,\u001b[0m \u001b[0mi\u001b[0m\u001b[1;33m,\u001b[0m \u001b[0mlen\u001b[0m\u001b[1;33m(\u001b[0m\u001b[0mtrees\u001b[0m\u001b[1;33m)\u001b[0m\u001b[1;33m,\u001b[0m\u001b[1;33m\u001b[0m\u001b[1;33m\u001b[0m\u001b[0m\n\u001b[0;32m    329\u001b[0m                     verbose=self.verbose, class_weight=self.class_weight)\n\u001b[1;32m--> 330\u001b[1;33m                 for i, t in enumerate(trees))\n\u001b[0m\u001b[0;32m    331\u001b[0m \u001b[1;33m\u001b[0m\u001b[0m\n\u001b[0;32m    332\u001b[0m             \u001b[1;31m# Collect newly grown trees\u001b[0m\u001b[1;33m\u001b[0m\u001b[1;33m\u001b[0m\u001b[1;33m\u001b[0m\u001b[0m\n",
      "\u001b[1;32m~\\Anaconda3\\lib\\site-packages\\joblib\\parallel.py\u001b[0m in \u001b[0;36m__call__\u001b[1;34m(self, iterable)\u001b[0m\n\u001b[0;32m    922\u001b[0m                 \u001b[0mself\u001b[0m\u001b[1;33m.\u001b[0m\u001b[0m_iterating\u001b[0m \u001b[1;33m=\u001b[0m \u001b[0mself\u001b[0m\u001b[1;33m.\u001b[0m\u001b[0m_original_iterator\u001b[0m \u001b[1;32mis\u001b[0m \u001b[1;32mnot\u001b[0m \u001b[1;32mNone\u001b[0m\u001b[1;33m\u001b[0m\u001b[1;33m\u001b[0m\u001b[0m\n\u001b[0;32m    923\u001b[0m \u001b[1;33m\u001b[0m\u001b[0m\n\u001b[1;32m--> 924\u001b[1;33m             \u001b[1;32mwhile\u001b[0m \u001b[0mself\u001b[0m\u001b[1;33m.\u001b[0m\u001b[0mdispatch_one_batch\u001b[0m\u001b[1;33m(\u001b[0m\u001b[0miterator\u001b[0m\u001b[1;33m)\u001b[0m\u001b[1;33m:\u001b[0m\u001b[1;33m\u001b[0m\u001b[1;33m\u001b[0m\u001b[0m\n\u001b[0m\u001b[0;32m    925\u001b[0m                 \u001b[1;32mpass\u001b[0m\u001b[1;33m\u001b[0m\u001b[1;33m\u001b[0m\u001b[0m\n\u001b[0;32m    926\u001b[0m \u001b[1;33m\u001b[0m\u001b[0m\n",
      "\u001b[1;32m~\\Anaconda3\\lib\\site-packages\\joblib\\parallel.py\u001b[0m in \u001b[0;36mdispatch_one_batch\u001b[1;34m(self, iterator)\u001b[0m\n\u001b[0;32m    757\u001b[0m                 \u001b[1;32mreturn\u001b[0m \u001b[1;32mFalse\u001b[0m\u001b[1;33m\u001b[0m\u001b[1;33m\u001b[0m\u001b[0m\n\u001b[0;32m    758\u001b[0m             \u001b[1;32melse\u001b[0m\u001b[1;33m:\u001b[0m\u001b[1;33m\u001b[0m\u001b[1;33m\u001b[0m\u001b[0m\n\u001b[1;32m--> 759\u001b[1;33m                 \u001b[0mself\u001b[0m\u001b[1;33m.\u001b[0m\u001b[0m_dispatch\u001b[0m\u001b[1;33m(\u001b[0m\u001b[0mtasks\u001b[0m\u001b[1;33m)\u001b[0m\u001b[1;33m\u001b[0m\u001b[1;33m\u001b[0m\u001b[0m\n\u001b[0m\u001b[0;32m    760\u001b[0m                 \u001b[1;32mreturn\u001b[0m \u001b[1;32mTrue\u001b[0m\u001b[1;33m\u001b[0m\u001b[1;33m\u001b[0m\u001b[0m\n\u001b[0;32m    761\u001b[0m \u001b[1;33m\u001b[0m\u001b[0m\n",
      "\u001b[1;32m~\\Anaconda3\\lib\\site-packages\\joblib\\parallel.py\u001b[0m in \u001b[0;36m_dispatch\u001b[1;34m(self, batch)\u001b[0m\n\u001b[0;32m    714\u001b[0m         \u001b[1;32mwith\u001b[0m \u001b[0mself\u001b[0m\u001b[1;33m.\u001b[0m\u001b[0m_lock\u001b[0m\u001b[1;33m:\u001b[0m\u001b[1;33m\u001b[0m\u001b[1;33m\u001b[0m\u001b[0m\n\u001b[0;32m    715\u001b[0m             \u001b[0mjob_idx\u001b[0m \u001b[1;33m=\u001b[0m \u001b[0mlen\u001b[0m\u001b[1;33m(\u001b[0m\u001b[0mself\u001b[0m\u001b[1;33m.\u001b[0m\u001b[0m_jobs\u001b[0m\u001b[1;33m)\u001b[0m\u001b[1;33m\u001b[0m\u001b[1;33m\u001b[0m\u001b[0m\n\u001b[1;32m--> 716\u001b[1;33m             \u001b[0mjob\u001b[0m \u001b[1;33m=\u001b[0m \u001b[0mself\u001b[0m\u001b[1;33m.\u001b[0m\u001b[0m_backend\u001b[0m\u001b[1;33m.\u001b[0m\u001b[0mapply_async\u001b[0m\u001b[1;33m(\u001b[0m\u001b[0mbatch\u001b[0m\u001b[1;33m,\u001b[0m \u001b[0mcallback\u001b[0m\u001b[1;33m=\u001b[0m\u001b[0mcb\u001b[0m\u001b[1;33m)\u001b[0m\u001b[1;33m\u001b[0m\u001b[1;33m\u001b[0m\u001b[0m\n\u001b[0m\u001b[0;32m    717\u001b[0m             \u001b[1;31m# A job can complete so quickly than its callback is\u001b[0m\u001b[1;33m\u001b[0m\u001b[1;33m\u001b[0m\u001b[1;33m\u001b[0m\u001b[0m\n\u001b[0;32m    718\u001b[0m             \u001b[1;31m# called before we get here, causing self._jobs to\u001b[0m\u001b[1;33m\u001b[0m\u001b[1;33m\u001b[0m\u001b[1;33m\u001b[0m\u001b[0m\n",
      "\u001b[1;32m~\\Anaconda3\\lib\\site-packages\\joblib\\_parallel_backends.py\u001b[0m in \u001b[0;36mapply_async\u001b[1;34m(self, func, callback)\u001b[0m\n\u001b[0;32m    180\u001b[0m     \u001b[1;32mdef\u001b[0m \u001b[0mapply_async\u001b[0m\u001b[1;33m(\u001b[0m\u001b[0mself\u001b[0m\u001b[1;33m,\u001b[0m \u001b[0mfunc\u001b[0m\u001b[1;33m,\u001b[0m \u001b[0mcallback\u001b[0m\u001b[1;33m=\u001b[0m\u001b[1;32mNone\u001b[0m\u001b[1;33m)\u001b[0m\u001b[1;33m:\u001b[0m\u001b[1;33m\u001b[0m\u001b[1;33m\u001b[0m\u001b[0m\n\u001b[0;32m    181\u001b[0m         \u001b[1;34m\"\"\"Schedule a func to be run\"\"\"\u001b[0m\u001b[1;33m\u001b[0m\u001b[1;33m\u001b[0m\u001b[0m\n\u001b[1;32m--> 182\u001b[1;33m         \u001b[0mresult\u001b[0m \u001b[1;33m=\u001b[0m \u001b[0mImmediateResult\u001b[0m\u001b[1;33m(\u001b[0m\u001b[0mfunc\u001b[0m\u001b[1;33m)\u001b[0m\u001b[1;33m\u001b[0m\u001b[1;33m\u001b[0m\u001b[0m\n\u001b[0m\u001b[0;32m    183\u001b[0m         \u001b[1;32mif\u001b[0m \u001b[0mcallback\u001b[0m\u001b[1;33m:\u001b[0m\u001b[1;33m\u001b[0m\u001b[1;33m\u001b[0m\u001b[0m\n\u001b[0;32m    184\u001b[0m             \u001b[0mcallback\u001b[0m\u001b[1;33m(\u001b[0m\u001b[0mresult\u001b[0m\u001b[1;33m)\u001b[0m\u001b[1;33m\u001b[0m\u001b[1;33m\u001b[0m\u001b[0m\n",
      "\u001b[1;32m~\\Anaconda3\\lib\\site-packages\\joblib\\_parallel_backends.py\u001b[0m in \u001b[0;36m__init__\u001b[1;34m(self, batch)\u001b[0m\n\u001b[0;32m    547\u001b[0m         \u001b[1;31m# Don't delay the application, to avoid keeping the input\u001b[0m\u001b[1;33m\u001b[0m\u001b[1;33m\u001b[0m\u001b[1;33m\u001b[0m\u001b[0m\n\u001b[0;32m    548\u001b[0m         \u001b[1;31m# arguments in memory\u001b[0m\u001b[1;33m\u001b[0m\u001b[1;33m\u001b[0m\u001b[1;33m\u001b[0m\u001b[0m\n\u001b[1;32m--> 549\u001b[1;33m         \u001b[0mself\u001b[0m\u001b[1;33m.\u001b[0m\u001b[0mresults\u001b[0m \u001b[1;33m=\u001b[0m \u001b[0mbatch\u001b[0m\u001b[1;33m(\u001b[0m\u001b[1;33m)\u001b[0m\u001b[1;33m\u001b[0m\u001b[1;33m\u001b[0m\u001b[0m\n\u001b[0m\u001b[0;32m    550\u001b[0m \u001b[1;33m\u001b[0m\u001b[0m\n\u001b[0;32m    551\u001b[0m     \u001b[1;32mdef\u001b[0m \u001b[0mget\u001b[0m\u001b[1;33m(\u001b[0m\u001b[0mself\u001b[0m\u001b[1;33m)\u001b[0m\u001b[1;33m:\u001b[0m\u001b[1;33m\u001b[0m\u001b[1;33m\u001b[0m\u001b[0m\n",
      "\u001b[1;32m~\\Anaconda3\\lib\\site-packages\\joblib\\parallel.py\u001b[0m in \u001b[0;36m__call__\u001b[1;34m(self)\u001b[0m\n\u001b[0;32m    223\u001b[0m         \u001b[1;32mwith\u001b[0m \u001b[0mparallel_backend\u001b[0m\u001b[1;33m(\u001b[0m\u001b[0mself\u001b[0m\u001b[1;33m.\u001b[0m\u001b[0m_backend\u001b[0m\u001b[1;33m,\u001b[0m \u001b[0mn_jobs\u001b[0m\u001b[1;33m=\u001b[0m\u001b[0mself\u001b[0m\u001b[1;33m.\u001b[0m\u001b[0m_n_jobs\u001b[0m\u001b[1;33m)\u001b[0m\u001b[1;33m:\u001b[0m\u001b[1;33m\u001b[0m\u001b[1;33m\u001b[0m\u001b[0m\n\u001b[0;32m    224\u001b[0m             return [func(*args, **kwargs)\n\u001b[1;32m--> 225\u001b[1;33m                     for func, args, kwargs in self.items]\n\u001b[0m\u001b[0;32m    226\u001b[0m \u001b[1;33m\u001b[0m\u001b[0m\n\u001b[0;32m    227\u001b[0m     \u001b[1;32mdef\u001b[0m \u001b[0m__len__\u001b[0m\u001b[1;33m(\u001b[0m\u001b[0mself\u001b[0m\u001b[1;33m)\u001b[0m\u001b[1;33m:\u001b[0m\u001b[1;33m\u001b[0m\u001b[1;33m\u001b[0m\u001b[0m\n",
      "\u001b[1;32m~\\Anaconda3\\lib\\site-packages\\joblib\\parallel.py\u001b[0m in \u001b[0;36m<listcomp>\u001b[1;34m(.0)\u001b[0m\n\u001b[0;32m    223\u001b[0m         \u001b[1;32mwith\u001b[0m \u001b[0mparallel_backend\u001b[0m\u001b[1;33m(\u001b[0m\u001b[0mself\u001b[0m\u001b[1;33m.\u001b[0m\u001b[0m_backend\u001b[0m\u001b[1;33m,\u001b[0m \u001b[0mn_jobs\u001b[0m\u001b[1;33m=\u001b[0m\u001b[0mself\u001b[0m\u001b[1;33m.\u001b[0m\u001b[0m_n_jobs\u001b[0m\u001b[1;33m)\u001b[0m\u001b[1;33m:\u001b[0m\u001b[1;33m\u001b[0m\u001b[1;33m\u001b[0m\u001b[0m\n\u001b[0;32m    224\u001b[0m             return [func(*args, **kwargs)\n\u001b[1;32m--> 225\u001b[1;33m                     for func, args, kwargs in self.items]\n\u001b[0m\u001b[0;32m    226\u001b[0m \u001b[1;33m\u001b[0m\u001b[0m\n\u001b[0;32m    227\u001b[0m     \u001b[1;32mdef\u001b[0m \u001b[0m__len__\u001b[0m\u001b[1;33m(\u001b[0m\u001b[0mself\u001b[0m\u001b[1;33m)\u001b[0m\u001b[1;33m:\u001b[0m\u001b[1;33m\u001b[0m\u001b[1;33m\u001b[0m\u001b[0m\n",
      "\u001b[1;32m~\\Anaconda3\\lib\\site-packages\\sklearn\\ensemble\\forest.py\u001b[0m in \u001b[0;36m_parallel_build_trees\u001b[1;34m(tree, forest, X, y, sample_weight, tree_idx, n_trees, verbose, class_weight)\u001b[0m\n\u001b[0;32m    118\u001b[0m         \u001b[0mtree\u001b[0m\u001b[1;33m.\u001b[0m\u001b[0mfit\u001b[0m\u001b[1;33m(\u001b[0m\u001b[0mX\u001b[0m\u001b[1;33m,\u001b[0m \u001b[0my\u001b[0m\u001b[1;33m,\u001b[0m \u001b[0msample_weight\u001b[0m\u001b[1;33m=\u001b[0m\u001b[0mcurr_sample_weight\u001b[0m\u001b[1;33m,\u001b[0m \u001b[0mcheck_input\u001b[0m\u001b[1;33m=\u001b[0m\u001b[1;32mFalse\u001b[0m\u001b[1;33m)\u001b[0m\u001b[1;33m\u001b[0m\u001b[1;33m\u001b[0m\u001b[0m\n\u001b[0;32m    119\u001b[0m     \u001b[1;32melse\u001b[0m\u001b[1;33m:\u001b[0m\u001b[1;33m\u001b[0m\u001b[1;33m\u001b[0m\u001b[0m\n\u001b[1;32m--> 120\u001b[1;33m         \u001b[0mtree\u001b[0m\u001b[1;33m.\u001b[0m\u001b[0mfit\u001b[0m\u001b[1;33m(\u001b[0m\u001b[0mX\u001b[0m\u001b[1;33m,\u001b[0m \u001b[0my\u001b[0m\u001b[1;33m,\u001b[0m \u001b[0msample_weight\u001b[0m\u001b[1;33m=\u001b[0m\u001b[0msample_weight\u001b[0m\u001b[1;33m,\u001b[0m \u001b[0mcheck_input\u001b[0m\u001b[1;33m=\u001b[0m\u001b[1;32mFalse\u001b[0m\u001b[1;33m)\u001b[0m\u001b[1;33m\u001b[0m\u001b[1;33m\u001b[0m\u001b[0m\n\u001b[0m\u001b[0;32m    121\u001b[0m \u001b[1;33m\u001b[0m\u001b[0m\n\u001b[0;32m    122\u001b[0m     \u001b[1;32mreturn\u001b[0m \u001b[0mtree\u001b[0m\u001b[1;33m\u001b[0m\u001b[1;33m\u001b[0m\u001b[0m\n",
      "\u001b[1;32m~\\Anaconda3\\lib\\site-packages\\sklearn\\tree\\tree.py\u001b[0m in \u001b[0;36mfit\u001b[1;34m(self, X, y, sample_weight, check_input, X_idx_sorted)\u001b[0m\n\u001b[0;32m    814\u001b[0m             \u001b[0msample_weight\u001b[0m\u001b[1;33m=\u001b[0m\u001b[0msample_weight\u001b[0m\u001b[1;33m,\u001b[0m\u001b[1;33m\u001b[0m\u001b[1;33m\u001b[0m\u001b[0m\n\u001b[0;32m    815\u001b[0m             \u001b[0mcheck_input\u001b[0m\u001b[1;33m=\u001b[0m\u001b[0mcheck_input\u001b[0m\u001b[1;33m,\u001b[0m\u001b[1;33m\u001b[0m\u001b[1;33m\u001b[0m\u001b[0m\n\u001b[1;32m--> 816\u001b[1;33m             X_idx_sorted=X_idx_sorted)\n\u001b[0m\u001b[0;32m    817\u001b[0m         \u001b[1;32mreturn\u001b[0m \u001b[0mself\u001b[0m\u001b[1;33m\u001b[0m\u001b[1;33m\u001b[0m\u001b[0m\n\u001b[0;32m    818\u001b[0m \u001b[1;33m\u001b[0m\u001b[0m\n",
      "\u001b[1;32m~\\Anaconda3\\lib\\site-packages\\sklearn\\tree\\tree.py\u001b[0m in \u001b[0;36mfit\u001b[1;34m(self, X, y, sample_weight, check_input, X_idx_sorted)\u001b[0m\n\u001b[0;32m    378\u001b[0m                                            min_impurity_split)\n\u001b[0;32m    379\u001b[0m \u001b[1;33m\u001b[0m\u001b[0m\n\u001b[1;32m--> 380\u001b[1;33m         \u001b[0mbuilder\u001b[0m\u001b[1;33m.\u001b[0m\u001b[0mbuild\u001b[0m\u001b[1;33m(\u001b[0m\u001b[0mself\u001b[0m\u001b[1;33m.\u001b[0m\u001b[0mtree_\u001b[0m\u001b[1;33m,\u001b[0m \u001b[0mX\u001b[0m\u001b[1;33m,\u001b[0m \u001b[0my\u001b[0m\u001b[1;33m,\u001b[0m \u001b[0msample_weight\u001b[0m\u001b[1;33m,\u001b[0m \u001b[0mX_idx_sorted\u001b[0m\u001b[1;33m)\u001b[0m\u001b[1;33m\u001b[0m\u001b[1;33m\u001b[0m\u001b[0m\n\u001b[0m\u001b[0;32m    381\u001b[0m \u001b[1;33m\u001b[0m\u001b[0m\n\u001b[0;32m    382\u001b[0m         \u001b[1;32mif\u001b[0m \u001b[0mself\u001b[0m\u001b[1;33m.\u001b[0m\u001b[0mn_outputs_\u001b[0m \u001b[1;33m==\u001b[0m \u001b[1;36m1\u001b[0m\u001b[1;33m:\u001b[0m\u001b[1;33m\u001b[0m\u001b[1;33m\u001b[0m\u001b[0m\n",
      "\u001b[1;31mKeyboardInterrupt\u001b[0m: "
     ]
    }
   ],
   "source": [
    "# Random Forest Pipeline\n",
    "## Instantiate Random Forest Pipeline\n",
    "clf_RF = RandomForestClassifier()\n",
    "\n",
    "# Randomized grid search of parameters\n",
    "grid_param = {\n",
    "    'n_estimators': [100, 300, 500, 800, 1000, 1200],\n",
    "    'max_features': [1, 2, 3, 4],\n",
    "    'criterion': ['gini', 'entropy'],\n",
    "    'max_depth': [None, 10, 20, 30, 40, 50],\n",
    "    'min_samples_split' : [2, 5, 10, 15, 20],\n",
    "    'bootstrap': [True, False]\n",
    "}\n",
    "\n",
    "CV_rfc = clf_RF = RandomizedSearchCV(clf_RF, grid_param,\n",
    "                                     random_state = 0, cv = StratifiedKFold(10))\n",
    "\n",
    "## Instantiate Pipeline\n",
    "pipeline = Pipeline([('clf_RF_cv',CV_rfc)])\n",
    "pipeline.fit(X_train_scaled, y_train)\n",
    "\n",
    "## Best parameters and features for the model\n",
    "print(CV_rfc.best_params_)"
   ]
  },
  {
   "cell_type": "code",
   "execution_count": 14,
   "metadata": {},
   "outputs": [
    {
     "name": "stdout",
     "output_type": "stream",
     "text": [
      "cv_scores mean :0.9406726549238076\n",
      "Accuracy Score : 0.9186186588140811\n",
      "Precision Score : 0.8058022498519835\n",
      "Recall Score : 0.8293723339427178\n",
      "F1 Score : 0.8174174174174175\n",
      "ROC Score : 0.9666548030057397\n"
     ]
    }
   ],
   "source": [
    "# Best RF parameters \n",
    "\n",
    "## Create the model instance\n",
    "clf_RF = RandomForestClassifier(n_estimators = 300, min_samples_split = 15,\n",
    "                                max_depth = None, criterion = 'entropy',\n",
    "                                bootstrap = True, random_state = 10)\n",
    "\n",
    "cv_scores = cross_val_score(clf_KNN, X_train_scaled,\n",
    "                            y_train, cv = StratifiedKFold(10),\n",
    "                            scoring = 'roc_auc')\n",
    "\n",
    "## Get the ROC score by k-fold cross validation on the training set\n",
    "print('cv_scores mean :{}'.format(np.mean(cv_scores)))\n",
    "\n",
    "## Fit the model\n",
    "clf_RF.fit(X_train_scaled, y_train)\n",
    "\n",
    "## Get the model predictions\n",
    "y_pred_acc = clf_RF.predict(X_test_scaled)\n",
    "\n",
    "## Classification metrics\n",
    "print('Accuracy Score : ' + str(accuracy_score(y_test, y_pred_acc)))\n",
    "print('Precision Score : ' + str(precision_score(y_test, y_pred_acc)))\n",
    "print('Recall Score : ' + str(recall_score(y_test, y_pred_acc)))\n",
    "print('F1 Score : ' + str(f1_score(y_test, y_pred_acc)))\n",
    "print('ROC Score : ' + str(roc_auc_score(y_test, clf_RF.predict_proba(X_test_scaled)[:,1])))"
   ]
  },
  {
   "cell_type": "markdown",
   "metadata": {},
   "source": [
    "### Results"
   ]
  },
  {
   "cell_type": "markdown",
   "metadata": {},
   "source": [
    "The performance of each model is listed from best to worst: RF > KN > LR > SVM and are presented in Table 3. The results are not a surprise as ensemble methods tend to do very well. And being the data is somewhat linearly separable, Logistic Regression and Support Vector Machine with a linear kernel would perform similarly. Overall, the ROC AUC scores are very promising, and the models have fit this dataset well. However, more investigation needs to be conducted to see if our models fit certain behaviors better (people who have higher average playing densities and average hours played).   "
   ]
  },
  {
   "cell_type": "code",
   "execution_count": null,
   "metadata": {
    "scrolled": false
   },
   "outputs": [],
   "source": [
    "# Reciever Operating Characteristics\n",
    "## Plot parameters\n",
    "sns.set_context(\"talk\")\n",
    "fig, ((ax1, ax2), (ax3, ax4)) = plt.subplots(figsize = (20, 10), nrows=2, ncols=2, sharex=True, sharey=True)\n",
    "fig.suptitle('Receiver Operating Characteristic (ROC) Curve')\n",
    "plt.subplots_adjust(\n",
    "wspace = 0.2,  # the amount of width reserved for space between subplots,\n",
    "       # expressed as a fraction of the average axis width\n",
    "hspace = 0.3 , # the amount of height reserved for space between subplots,\n",
    "              # expressed as a fraction of the average axis height)\n",
    ") \n",
    "\n",
    "## Plotting ROC curves with various algorithms\n",
    "fper_LR, tper_LR, thresholds_LR = roc_curve(y_test, clf_LR.predict_proba(X_test_scaled)[:,1]) \n",
    "\n",
    "fper_SVM, tper_SVM, thresholds_SVM = roc_curve(y_test, clf_SVM.decision_function(X_test_SVM)) \n",
    "\n",
    "fper_KNN, tper_KNN, thresholds_KNN = roc_curve(y_test, clf_KNN.predict_proba(X_test_scaled)[:,1]) \n",
    "\n",
    "fper_RF, tper_RF, thresholds_RF = roc_curve(y_test, clf_RF.predict_proba(X_test_scaled)[:,1]) \n",
    "\n",
    "titles = ['LR', 'SVM',\n",
    "          'KNN', 'RF',\n",
    "]\n",
    "\n",
    "colormap = ['red', 'blue',\n",
    "            'magenta', 'orange',\n",
    "           ]\n",
    "position = [(100, 0.4), (180, 0.6)]\n",
    "\n",
    "fpr = [fper_LR, fper_SVM, fper_KNN, fper_RF] \n",
    "tpr = [tper_LR, tper_SVM, tper_KNN, tper_RF]\n",
    "\n",
    "axes = [ax1, ax2, ax3, ax4]\n",
    "roc_scores = [str('AUC: ') + str(round(roc_auc_score(y_test, clf_LR.predict_proba(X_test_scaled)[:,1]), 4)),\n",
    "              str('AUC: ') + str(round(roc_auc_score(y_test, clf_SVM.decision_function(X_test_SVM)), 4)),\n",
    "              str('AUC: ') + str(round(roc_auc_score(y_test, clf_KNN.predict_proba(X_test_scaled)[:,1]), 4)), \n",
    "              str('AUC: ') + str(round(roc_auc_score(y_test, clf_RF.predict_proba(X_test_scaled)[:,1]), 4))\n",
    "             ]\n",
    "for fp, tp, label, title, color, ax in zip(fpr, tpr, roc_scores, titles, colormap, axes):\n",
    "    ax.plot(fp, tp, color= color, label= label)\n",
    "    ax.plot([0, 1], [0, 1], color='darkblue', linestyle='--')\n",
    "    # Set plot parameters\n",
    "    ax.set_title(title, y = 1.05, fontsize = 16)\n",
    "    ax.set_xlabel('False Positive Rate', fontsize = 14, labelpad = 10)\n",
    "    ax.set_ylabel(\"True Positive Rate\", fontsize = 14, labelpad = 15)\n",
    "    ax.legend(bbox_to_anchor = [1, 0.27])\n",
    "\n",
    "       \n",
    "plt.show()"
   ]
  },
  {
   "cell_type": "code",
   "execution_count": null,
   "metadata": {
    "scrolled": false
   },
   "outputs": [],
   "source": [
    "# Table of the ROC AUC scores of various machine learning algorithms\n",
    "## Create an array and transpose values to make it a two-column format\n",
    "accuracy_values = [0.8451, 0.6384,\n",
    "        0.8814, 0.9171]\n",
    "accuracy_values = np.array(accuracy_values)\n",
    "\n",
    "\n",
    "roc_values_train = [0.8532, 0.8454,\n",
    "        0.9407, 0.9254]\n",
    "\n",
    "roc_values_test = [0.8503, 0.8417,\n",
    "        0.9366, 0.9665]\n",
    "\n",
    "roc_values_test = np.array(roc_values_test)\n",
    "\n",
    "method = ['Logistic Regression', 'Support Vector Machine',\n",
    "                            'K-Nearest Neighbors', 'Random Forest',]\n",
    "\n",
    "## Create plotly table object\n",
    "roc_auc = go.Figure(data = [go.Table(\n",
    "    header = dict(values = [['Method'], ['Accuracy'], ['ROC_AUC', ['10-fold CV']], ['', ['Testing']]],\n",
    "                  line_color = 'darkslategray',\n",
    "                  fill_color = 'lightskyblue',\n",
    "                  align = 'left'),\n",
    "    cells = dict(values = [method, accuracy_values, roc_values_train, roc_values_test],\n",
    "                 line_color = 'darkslategray',\n",
    "                 fill_color = 'lightcyan',\n",
    "                 align = 'left'))\n",
    "])\n",
    "\n",
    "roc_auc.update_layout(width = 800, height = 500,\n",
    "                      title = 'Table 3: ROC AUC scores with various machine learning algorithms.')\n",
    "roc_auc.show()"
   ]
  },
  {
   "cell_type": "markdown",
   "metadata": {},
   "source": [
    "### K-means Clustering"
   ]
  },
  {
   "cell_type": "markdown",
   "metadata": {},
   "source": [
    "K-means clustering is an algorithm to classify or to group objects based on attributes or features into K number of groups [11]. The grouping is done by minimizing the sum of the square of distances between data and the corresponding cluster centroids.  Generally, used as an unsupervised learning technique to find patterns amongst unstructured data or data without labels, K-means can be used for supervised learning problems such as classification. However, k-means does not compute probabilities in classifying labels. Therefore, the ROC AUC cannot be computed, but the accuracy can be used instead. \n",
    "\n",
    "A general rule of thumb is to select the number of components that accounts for at least 85% or 95% of the variance, which are two or three components, respectively. The accuracies of the models are listed in Table 4. Overall, all methods performed similarly with an accuracy ~ 81% and is a good baseline for future models.  "
   ]
  },
  {
   "cell_type": "code",
   "execution_count": null,
   "metadata": {},
   "outputs": [],
   "source": [
    "def scatter3d_cluster(df, x, y, z, code, title):\n",
    "    \"\"\"Function to create 3D scatterplots for clustering diagrams\"\"\"\n",
    "    scatter  =  px.scatter_3d(df, x = x, y = y, z = z, color  =  code,  \n",
    "                            color_discrete_sequence = px.colors.qualitative.Light24)\n",
    "    \n",
    "    scatter.update_layout(title  =  title, title_font  =  dict(size  =  30),\n",
    "                          scene  =  dict(\n",
    "                              xaxis  =  dict(\n",
    "                                  backgroundcolor = \"rgb(200, 200, 230)\",\n",
    "                                  gridcolor = \"white\",\n",
    "                                  showbackground = True,\n",
    "                                  zerolinecolor = \"white\",\n",
    "                                  nticks = 10, ticks = 'outside',\n",
    "                                  tick0 = 0, tickwidth  =  4,\n",
    "                                  title_font  =  dict(size  =  16)),\n",
    "                              yaxis  =  dict(\n",
    "                                  backgroundcolor = \"rgb(230, 200,230)\",\n",
    "                                  gridcolor = \"white\",\n",
    "                                  showbackground = True,\n",
    "                                  zerolinecolor = \"white\",\n",
    "                                  nticks = 10, ticks = 'outside',\n",
    "                                  tick0 = 0, tickwidth  =  4,\n",
    "                                  title_font  =  dict(size  =  16)),\n",
    "                              zaxis  =  dict(\n",
    "                                  backgroundcolor = \"rgb(230, 230,200)\",\n",
    "                                  gridcolor = \"white\",\n",
    "                                  showbackground = True,\n",
    "                                  zerolinecolor = \"white\",\n",
    "                                  nticks = 10, ticks = 'outside',\n",
    "                                  tick0 = 0, tickwidth  =  4,\n",
    "                                  title_font  =  dict(size  =  16),\n",
    "                              ),\n",
    "                          ),\n",
    "                          width  =  700\n",
    "                         )\n",
    "    return scatter.show()"
   ]
  },
  {
   "cell_type": "code",
   "execution_count": null,
   "metadata": {},
   "outputs": [],
   "source": [
    "# K-means clustering on training set\n",
    "number_cluster = 2\n",
    "kmeans = KMeans(n_clusters = number_cluster, init = 'k-means++', random_state = 10).fit(X_train_scaled)\n",
    "labels = kmeans.labels_"
   ]
  },
  {
   "cell_type": "code",
   "execution_count": null,
   "metadata": {
    "scrolled": false
   },
   "outputs": [],
   "source": [
    "# 3D Plot of Training Data\n",
    "## Create and modify dataframe for the cluster column\n",
    "df_X_train_std = pd.DataFrame(X_train_scaled)\n",
    "df_X_train_std['Cluster'] = pd.Series(labels)\n",
    "\n",
    "## Rename Cluster label names from k-means\n",
    "cluster_label_names = {0: \"Subscribed\", 1: \"Churned\"}\n",
    "df_X_train_std['Cluster_Labels'] = df_X_train_std['Cluster'].map(cluster_label_names)  \n",
    "df_X_train_std.columns = [ 'Max_Level', \"Average_Hour\",\n",
    "                          \"Average_Playing_density\", 'guild', 'Cluster', 'Cluster_Labels']\n",
    "\n",
    "## Plots of Win Ratio, Kill Death Ratio, Headshott KIll Ratio\n",
    "scatter3d_cluster(df = df_X_train_std , x = 'Average_Hour',\n",
    "                  y = 'Average_Playing_density', z = 'Max_Level', code = 'Cluster_Labels', \n",
    "                  title = 'Clustering of Customer Churn')"
   ]
  },
  {
   "cell_type": "code",
   "execution_count": null,
   "metadata": {
    "scrolled": true
   },
   "outputs": [],
   "source": [
    "# Compute the accuracy of the training set\n",
    "y_train_df = pd.Series(y_train)\n",
    "y_train_df = y_train_df.reset_index()\n",
    "df_X_train_std['Actual_Labels'] = pd.Series(y_train_df['Playing_after_6_months'], index = y_train_df.index)\n",
    "df_X_train_std['Cluster_Labels'] = df_X_train_std['Cluster_Labels'].map({'Subscribed': 0, 'Churned': 1})\n",
    "acc_train = df_X_train_std['Actual_Labels'].eq(df_X_train_std['Cluster_Labels']).value_counts()"
   ]
  },
  {
   "cell_type": "code",
   "execution_count": null,
   "metadata": {},
   "outputs": [],
   "source": [
    "# Accuracy of training set\n",
    "print(\"Accuracy : \" + str(acc_train[1]/(acc_train[0] + acc_train[1])))"
   ]
  },
  {
   "cell_type": "code",
   "execution_count": null,
   "metadata": {},
   "outputs": [],
   "source": [
    "# K-means clustering on testing set\n",
    "predict_labels = kmeans.predict(X_test_scaled)"
   ]
  },
  {
   "cell_type": "code",
   "execution_count": null,
   "metadata": {},
   "outputs": [],
   "source": [
    "# 3D Plot of testing Data\n",
    "## Create and modify dataframe for the cluster column\n",
    "df_X_test_std = pd.DataFrame(X_test_scaled)\n",
    "df_X_test_std['Cluster'] = pd.Series(predict_labels)\n",
    "\n",
    "## Rename Cluster label names from k-means\n",
    "cluster_label_names = {0: \"Subscribed\", 1: \"Churned\"}\n",
    "df_X_test_std['Cluster_Labels'] = df_X_test_std['Cluster'].map(cluster_label_names)  \n",
    "df_X_test_std.columns = [ 'Max_Level', \"Average_Hour\",\n",
    "                          \"Average_Playing_density\", 'guild', 'Cluster', 'Cluster_Labels']\n",
    "\n",
    "## Plots of Win Ratio, Kill Death Ratio, Headshott KIll Ratio\n",
    "scatter3d_cluster(df = df_X_test_std , x = 'Average_Hour',\n",
    "                  y = 'Average_Playing_density', z = 'Max_Level', code = 'Cluster_Labels', \n",
    "                  title =  'Clustering of Customer Churn')"
   ]
  },
  {
   "cell_type": "code",
   "execution_count": null,
   "metadata": {},
   "outputs": [],
   "source": [
    "# Compute the accuracy of the testing set\n",
    "y_test_df = pd.Series(y_test)\n",
    "y_test_df = y_test_df.reset_index()\n",
    "df_X_test_std['Actual_Labels'] = pd.Series(y_test_df['Playing_after_6_months'], index = y_test_df.index)\n",
    "df_X_test_std['Cluster_Labels'] = df_X_test_std['Cluster_Labels'].map({'Subscribed': 0, 'Churned': 1})\n",
    "acc_test = df_X_test_std['Actual_Labels'].eq(df_X_test_std['Cluster_Labels']).value_counts()"
   ]
  },
  {
   "cell_type": "code",
   "execution_count": null,
   "metadata": {},
   "outputs": [],
   "source": [
    "# Accuracy of testing set\n",
    "print(\"Accuracy : \" + str(acc_test[1]/(acc_test[0] + acc_test[1])))"
   ]
  },
  {
   "cell_type": "markdown",
   "metadata": {},
   "source": [
    "### PCA"
   ]
  },
  {
   "cell_type": "code",
   "execution_count": null,
   "metadata": {
    "scrolled": true
   },
   "outputs": [],
   "source": [
    "# Plotting PCA variance \n",
    "## Fitting the PCA algorithm with our Data\n",
    "pca = PCA().fit(X_train_scaled)\n",
    "pca_variance_components = np.cumsum(pca.explained_variance_ratio_)\n",
    "\n",
    "## Plotting the Cumulative Summation of the Explained Variance\n",
    "### Plot Parameters\n",
    "plt.figure(figsize = (20,10))\n",
    "plt.plot(pca_variance_components)\n",
    "plt.xlabel('Number of Components', fontsize = 24)\n",
    "plt.xticks([0, 1, 2, 3])\n",
    "plt.ylabel('Variance (%)', fontsize = 24) \n",
    "plt.title('Variance of Principle Components', fontsize = 24)\n",
    "\n",
    "### Color markers and annotate text\n",
    "s = ['o', 'o', 'o', 'o']\n",
    "col = ['blue','red','green', 'black']\n",
    "x = np.array([0, 1, 2, 3])\n",
    "y = pca_variance_components\n",
    "\n",
    "for _s, c, _x, _y in zip(s, col, x, y):\n",
    "    plt.scatter(_x, _y, marker = _s, c = c)\n",
    "\n",
    "### Annotate text\n",
    "plt.text(-0.05, pca_variance_components[0] + 0.015,\n",
    "         str(round(pca_variance_components[0], 3)), size = 14, color = 'blue', weight = 'semibold')\n",
    "\n",
    "plt.text(0.95, pca_variance_components[1] + 0.008,\n",
    "         str(round(pca_variance_components[1], 3)), size = 14, color = 'red', weight = 'semibold')\n",
    "\n",
    "plt.text(1.95, pca_variance_components[2] + 0.008,\n",
    "         str(round(pca_variance_components[2], 3)), size = 14, color = 'green', weight = 'semibold')\n",
    "\n",
    "plt.text(2.96, pca_variance_components[3] + 0.005,\n",
    "         str(round(pca_variance_components[3], 3)), size = 14, color = 'black', weight = 'semibold')\n",
    "plt.show()"
   ]
  },
  {
   "cell_type": "markdown",
   "metadata": {},
   "source": [
    "#### PCA - Two Components"
   ]
  },
  {
   "cell_type": "code",
   "execution_count": null,
   "metadata": {},
   "outputs": [],
   "source": [
    "# Plot the variance of two PCA components\n",
    "## Set PCA parameters\n",
    "pca = PCA(n_components = 2)\n",
    "\n",
    "## Fit and transform\n",
    "principalComponents = pca.fit(X_train_scaled)\n",
    "features = range(pca.n_components_)\n",
    "principalComponents_variance = principalComponents.explained_variance_ratio_\n",
    "\n",
    "## Plot the expected variance\n",
    "plt.figure(figsize = (15,10))\n",
    "sns.set(style = \"white\", rc = {\"lines.linewidth\": 3})\n",
    "ax = sns.barplot(x = np.array(features), y = principalComponents.explained_variance_ratio_,\n",
    "                 palette = \"bright\")\n",
    "\n",
    "plt.xlabel('PCA features', fontsize = 24)\n",
    "plt.ylabel('Variance %', fontsize = 24)\n",
    "plt.title('PCA Variance', fontsize = 24)\n",
    "plt.xticks(features, fontsize = 16)\n",
    "plt.yticks(fontsize = 16)\n",
    "\n",
    "## Annotate plot\n",
    "### Function to add labels to bar chart\n",
    "def add_value_labels(ax, spacing=5):\n",
    "    \"\"\"Add labels to the end of each bar in a bar chart.\n",
    "\n",
    "    Arguments:\n",
    "        ax (matplotlib.axes.Axes): The matplotlib object containing the axes\n",
    "            of the plot to annotate.\n",
    "        spacing (int): The distance between the labels and the bars.\n",
    "    \"\"\"\n",
    "    # For each bar: Place a label\n",
    "    for rect in ax.patches:\n",
    "        # Get X and Y placement of label from rect.\n",
    "        y_value = rect.get_height()\n",
    "        x_value = rect.get_x() + rect.get_width() / 2\n",
    "\n",
    "        # Number of points between bar and label. Change to your liking.\n",
    "        space = spacing\n",
    "        # Vertical alignment for positive values\n",
    "        va = 'bottom'\n",
    "\n",
    "        # If value of bar is negative: Place label below bar\n",
    "        if y_value < 0:\n",
    "            # Invert space to place label below\n",
    "            space *= -1\n",
    "            # Vertically align label at top\n",
    "            va = 'top'\n",
    "\n",
    "        # Use Y value as label and format number with one decimal place\n",
    "        label = \"{:.3f}\".format(y_value)\n",
    "\n",
    "        # Create annotation\n",
    "        ax.annotate(\n",
    "            label,                      # Use `label` as label\n",
    "            (x_value, y_value),         # Place label at end of the bar\n",
    "            xytext=(0, space),          # Vertically shift label by `space`\n",
    "            textcoords=\"offset points\", # Interpret `xytext` as offset in points\n",
    "            ha='center',                # Horizontally center label\n",
    "            fontsize = '16',            # Font size\n",
    "            va=va)                      # Vertically align label differently for\n",
    "                                        # positive and negative values.\n",
    "\n",
    "### Call the function above\n",
    "add_value_labels(ax)\n",
    "plt.show()"
   ]
  },
  {
   "cell_type": "code",
   "execution_count": null,
   "metadata": {},
   "outputs": [],
   "source": [
    "# Set the number of PCA components\n",
    "pca = PCA(n_components = 2, random_state = 10)"
   ]
  },
  {
   "cell_type": "code",
   "execution_count": null,
   "metadata": {},
   "outputs": [],
   "source": [
    "def pca_Fit_Transform(df):\n",
    "    \"\"\"Function to fit and transform the dataframe and rename the PCA components\"\"\"\n",
    "    PCA_DF = pca.fit_transform(df)\n",
    "    PCA_DF = pd.DataFrame(PCA_DF)\n",
    "    \n",
    "    # Rename PCA column names\n",
    "    x = (np.array(PCA_DF.columns)+1)\n",
    "    columns = []\n",
    "    for i in x:\n",
    "        columns.append('PCA' + ' ' + str(i))\n",
    "    PCA_DF.columns = columns\n",
    "    \n",
    "    return PCA_DF"
   ]
  },
  {
   "cell_type": "code",
   "execution_count": null,
   "metadata": {},
   "outputs": [],
   "source": [
    "def pca_Transform(df):\n",
    "    \"\"\"Function to transform the dataframe and rename the PCA components\"\"\"\n",
    "    PCA_DF = pca.transform(df)\n",
    "    PCA_DF = pd.DataFrame(PCA_DF)\n",
    "    \n",
    "    # Rename PCA column names\n",
    "    x = (np.array(PCA_DF.columns)+1)\n",
    "    columns = []\n",
    "    for i in x:\n",
    "        columns.append('PCA' + ' ' + str(i))\n",
    "    PCA_DF.columns = columns\n",
    "    \n",
    "    return PCA_DF"
   ]
  },
  {
   "cell_type": "code",
   "execution_count": null,
   "metadata": {},
   "outputs": [],
   "source": [
    "# Transform the dataframes using PCA\n",
    "PCA_components_train = pca_Fit_Transform(X_train_scaled)\n",
    "PCA_components_test = pca_Transform(X_test_scaled)"
   ]
  },
  {
   "cell_type": "code",
   "execution_count": null,
   "metadata": {},
   "outputs": [],
   "source": [
    "def scatter2d_cluster(df, x, y,  code, title):\n",
    "    \"\"\"Function to create 2d scatterplots for clustering diagrams\"\"\"\n",
    "    scatter = px.scatter(df, x = x, y = y, color = code,\n",
    "                         color_discrete_sequence = px.colors.qualitative.Light24)\n",
    "    \n",
    "    scatter.update_xaxes(showline = True, linewidth = 1, linecolor = 'black', \n",
    "                          mirror = True, gridcolor = 'LightPink', automargin = True, \n",
    "                          zeroline = True, zerolinewidth = 2, zerolinecolor = 'LightPink', \n",
    "                          ticks = \"outside\", tickwidth = 2, tickcolor = 'black', ticklen = 10,\n",
    "                          title_font = dict(size = 18))\n",
    "    scatter.update_yaxes(showline = True, linewidth = 2, linecolor = 'black', \n",
    "                          mirror = True, gridcolor = 'LightPink',\n",
    "                          zeroline = True, zerolinewidth = 1, zerolinecolor = 'LightPink', \n",
    "                          ticks = \"outside\", tickwidth = 2, tickcolor = 'black', ticklen = 10,\n",
    "                          title_font = dict(size = 18))\n",
    "    \n",
    "    \n",
    "    scatter.update_layout(title = title, title_font = dict(size = 24), \n",
    "                          legend = dict(\n",
    "                              x = 1,\n",
    "                              y = 1,\n",
    "                              traceorder = \"normal\",\n",
    "                              font = dict(\n",
    "                                  family = \"sans-serif\",\n",
    "                                  size = 14,\n",
    "                                  color = \"black\"\n",
    "                              ),\n",
    "                              bgcolor = \"#e5ecf6\",\n",
    "                              bordercolor = \"Black\",\n",
    "                              borderwidth = 2\n",
    "                          )\n",
    "                         )\n",
    "    return scatter.show()"
   ]
  },
  {
   "cell_type": "code",
   "execution_count": null,
   "metadata": {},
   "outputs": [],
   "source": [
    "# K-means clustering on training set\n",
    "number_cluster = 2\n",
    "kmeans = KMeans(n_clusters = number_cluster, init = 'k-means++', random_state = 10).fit(PCA_components_train)\n",
    "labels = kmeans.labels_"
   ]
  },
  {
   "cell_type": "code",
   "execution_count": null,
   "metadata": {},
   "outputs": [],
   "source": [
    "# 3D Plot of Training Data\n",
    "## Create and modify dataframe for the cluster column\n",
    "PCA_components_train['Cluster'] = pd.Series(labels)\n",
    "\n",
    "## Rename Cluster label names from k-means\n",
    "cluster_label_names = {0: \"Subscribed\", 1: \"Churned\"}\n",
    "PCA_components_train['Cluster_Labels'] = PCA_components_train['Cluster'].map(cluster_label_names)  \n",
    "PCA_components_train.columns = [ 'PCA_1', \"PCA_2\",\n",
    "                         'Cluster', 'Cluster_Labels']\n",
    "\n",
    "## Plots of Win Ratio, Kill Death Ratio, Headshott KIll Ratio\n",
    "scatter2d_cluster(df = PCA_components_train , x = 'PCA_1',\n",
    "                  y = 'PCA_2', code = 'Cluster_Labels', \n",
    "                  title = 'Clustering of Customer Churn')"
   ]
  },
  {
   "cell_type": "code",
   "execution_count": null,
   "metadata": {},
   "outputs": [],
   "source": [
    "# Compute the accuracy of the training set\n",
    "y_train_df = pd.Series(y_train)\n",
    "y_train_df = y_train_df.reset_index()\n",
    "PCA_components_train['Actual_Labels'] = pd.Series(y_train_df['Playing_after_6_months'], index = y_train_df.index)\n",
    "PCA_components_train['Cluster_Labels'] = PCA_components_train['Cluster_Labels'].map({'Subscribed': 0, 'Churned': 1})\n",
    "PCA_acc_train = PCA_components_train['Actual_Labels'].eq(PCA_components_train['Cluster_Labels']).value_counts()"
   ]
  },
  {
   "cell_type": "code",
   "execution_count": null,
   "metadata": {},
   "outputs": [],
   "source": [
    "# Accuracy of the training set\n",
    "print(\"Accuracy : \" + str(PCA_acc_train[1]/(PCA_acc_train[0] + PCA_acc_train[1])))"
   ]
  },
  {
   "cell_type": "code",
   "execution_count": null,
   "metadata": {},
   "outputs": [],
   "source": [
    "# K-means clustering on testing set\n",
    "predict_labels = kmeans.predict(PCA_components_test)"
   ]
  },
  {
   "cell_type": "code",
   "execution_count": null,
   "metadata": {},
   "outputs": [],
   "source": [
    "# 3D Plot of testing Data\n",
    "## Create and modify dataframe for the cluster column\n",
    "PCA_components_test['Cluster'] = pd.Series(predict_labels)\n",
    "\n",
    "## Rename Cluster label names from k-means\n",
    "cluster_label_names = {0: \"Subscribed\", 1: \"Churned\"}\n",
    "PCA_components_test['Cluster_Labels'] = PCA_components_test['Cluster'].map(cluster_label_names)  \n",
    "PCA_components_test.columns = [ 'PCA_1', \"PCA_2\",\n",
    "                         'Cluster', 'Cluster_Labels']\n",
    "\n",
    "## Plots of Win Ratio, Kill Death Ratio, Headshott KIll Ratio\n",
    "scatter2d_cluster(df = PCA_components_test , x = 'PCA_1',\n",
    "                  y = 'PCA_2', code = 'Cluster_Labels', \n",
    "                  title = 'Clustering of Customer Churn')"
   ]
  },
  {
   "cell_type": "code",
   "execution_count": null,
   "metadata": {},
   "outputs": [],
   "source": [
    "# Compute the accuracy of the testing set\n",
    "y_test_df = pd.Series(y_test)\n",
    "y_test_df = y_test_df.reset_index()\n",
    "PCA_components_test['Actual_Labels'] = pd.Series(y_test_df['Playing_after_6_months'], index = y_test_df.index)\n",
    "PCA_components_test['Cluster_Labels'] = PCA_components_test['Cluster_Labels'].map({'Subscribed': 0, 'Churned': 1})\n",
    "PCA_acc_test = PCA_components_test['Actual_Labels'].eq(PCA_components_test['Cluster_Labels']).value_counts()"
   ]
  },
  {
   "cell_type": "code",
   "execution_count": null,
   "metadata": {},
   "outputs": [],
   "source": [
    "# Accuracy of the testing set\n",
    "print(\"Accuracy : \" + str(PCA_acc_test[1]/(PCA_acc_test[0] + PCA_acc_test[1])))"
   ]
  },
  {
   "cell_type": "markdown",
   "metadata": {},
   "source": [
    "#### PCA- Three Components"
   ]
  },
  {
   "cell_type": "code",
   "execution_count": null,
   "metadata": {},
   "outputs": [],
   "source": [
    "# Transform dataframes using PCA\n",
    "PCA_components_train = pca_Fit_Transform(X_train_scaled)\n",
    "PCA_components_test = pca_Transform(X_test_scaled)"
   ]
  },
  {
   "cell_type": "code",
   "execution_count": null,
   "metadata": {},
   "outputs": [],
   "source": [
    "# Plot the variance of three PCA components\n",
    "## Set PCA parameters\n",
    "pca = PCA(n_components = 3)\n",
    "\n",
    "## Fit and transform\n",
    "principalComponents = pca.fit(X_train_scaled)\n",
    "features = range(pca.n_components_)\n",
    "principalComponents_variance = principalComponents.explained_variance_ratio_\n",
    "\n",
    "## Plot the expected variance\n",
    "plt.figure(figsize = (15,10))\n",
    "sns.set(style = \"white\", rc = {\"lines.linewidth\": 3})\n",
    "ax = sns.barplot(x = np.array(features), y = principalComponents.explained_variance_ratio_,\n",
    "                 palette = \"bright\")\n",
    "\n",
    "plt.xlabel('PCA features', fontsize = 24)\n",
    "plt.ylabel('Variance %', fontsize = 24)\n",
    "plt.title('PCA Variance', fontsize = 24)\n",
    "plt.xticks(features, fontsize = 16)\n",
    "plt.yticks(fontsize = 16)\n",
    "\n",
    "\n",
    "# Function to add labels to bar chart\n",
    "def add_value_labels(ax, spacing=5):\n",
    "    \"\"\"Add labels to the end of each bar in a bar chart.\n",
    "\n",
    "    Arguments:\n",
    "        ax (matplotlib.axes.Axes): The matplotlib object containing the axes\n",
    "            of the plot to annotate.\n",
    "        spacing (int): The distance between the labels and the bars.\n",
    "    \"\"\"\n",
    "    # For each bar: Place a label\n",
    "    for rect in ax.patches:\n",
    "        # Get X and Y placement of label from rect.\n",
    "        y_value = rect.get_height()\n",
    "        x_value = rect.get_x() + rect.get_width() / 2\n",
    "\n",
    "        # Number of points between bar and label. Change to your liking.\n",
    "        space = spacing\n",
    "        # Vertical alignment for positive values\n",
    "        va = 'bottom'\n",
    "\n",
    "        # If value of bar is negative: Place label below bar\n",
    "        if y_value < 0:\n",
    "            # Invert space to place label below\n",
    "            space *= -1\n",
    "            # Vertically align label at top\n",
    "            va = 'top'\n",
    "\n",
    "        # Use Y value as label and format number with one decimal place\n",
    "        label = \"{:.3f}\".format(y_value)\n",
    "\n",
    "        # Create annotation\n",
    "        ax.annotate(\n",
    "            label,                      # Use `label` as label\n",
    "            (x_value, y_value),         # Place label at end of the bar\n",
    "            xytext=(0, space),          # Vertically shift label by `space`\n",
    "            textcoords=\"offset points\", # Interpret `xytext` as offset in points\n",
    "            ha='center',                # Horizontally center label\n",
    "            fontsize = '16',            # Font size\n",
    "            va=va)                      # Vertically align label differently for\n",
    "                                        # positive and negative values.\n",
    "\n",
    "# Call the function above\n",
    "add_value_labels(ax)\n",
    "plt.show()"
   ]
  },
  {
   "cell_type": "code",
   "execution_count": null,
   "metadata": {},
   "outputs": [],
   "source": [
    "# Set the number of PCA components\n",
    "pca = PCA(n_components = 3, random_state = 10)"
   ]
  },
  {
   "cell_type": "code",
   "execution_count": null,
   "metadata": {},
   "outputs": [],
   "source": [
    "PCA_components_train = pca_Fit_Transform(X_train_scaled)\n",
    "PCA_components_test = pca_Transform(X_test_scaled)"
   ]
  },
  {
   "cell_type": "code",
   "execution_count": null,
   "metadata": {},
   "outputs": [],
   "source": [
    "# K-means clustering on training set\n",
    "number_cluster = 2\n",
    "kmeans = KMeans(n_clusters = number_cluster, init = 'k-means++', random_state = 10).fit(PCA_components_train)\n",
    "labels = kmeans.labels_"
   ]
  },
  {
   "cell_type": "code",
   "execution_count": null,
   "metadata": {
    "scrolled": false
   },
   "outputs": [],
   "source": [
    "# 3D Plot of Training Data\n",
    "## Create and modify dataframe for the cluster column\n",
    "PCA_components_train['Cluster'] = pd.Series(labels)\n",
    "\n",
    "## Rename Cluster label names from k-means\n",
    "cluster_label_names = {0: \"Subscribed\", 1: \"Churned\"}\n",
    "PCA_components_train['Cluster_Labels'] = PCA_components_train['Cluster'].map(cluster_label_names)  \n",
    "PCA_components_train.columns = [ 'PCA_1', \"PCA_2\", \"PCA_3\", \n",
    "                         'Cluster', 'Cluster_Labels']\n",
    "\n",
    "## Plots of Win Ratio, Kill Death Ratio, Headshott KIll Ratio\n",
    "scatter3d_cluster(df = PCA_components_train , x = 'PCA_1',\n",
    "                  y = 'PCA_2', z = 'PCA_3', code = 'Cluster_Labels', \n",
    "                  title = 'Clustering of Customer Churn')"
   ]
  },
  {
   "cell_type": "code",
   "execution_count": null,
   "metadata": {},
   "outputs": [],
   "source": [
    "# Compute the accuracy of the training set\n",
    "y_train_df = pd.Series(y_train)\n",
    "y_train_df = y_train_df.reset_index()\n",
    "PCA_components_train['Actual_Labels'] = pd.Series(y_train_df['Playing_after_6_months'], index = y_train_df.index)\n",
    "PCA_components_train['Cluster_Labels'] = PCA_components_train['Cluster_Labels'].map({'Subscribed': 0, 'Churned': 1})\n",
    "PCA_acc_train = PCA_components_train['Actual_Labels'].eq(PCA_components_train['Cluster_Labels']).value_counts()"
   ]
  },
  {
   "cell_type": "code",
   "execution_count": null,
   "metadata": {},
   "outputs": [],
   "source": [
    "# Accuracy of the training set\n",
    "print(\"Accuracy : \" + str(PCA_acc_train[1]/(PCA_acc_train[0] + PCA_acc_train[1])))"
   ]
  },
  {
   "cell_type": "code",
   "execution_count": null,
   "metadata": {},
   "outputs": [],
   "source": [
    "# K-means clustering on testing set\n",
    "predict_labels = kmeans.predict(PCA_components_test)"
   ]
  },
  {
   "cell_type": "code",
   "execution_count": null,
   "metadata": {},
   "outputs": [],
   "source": [
    "# 3D Plot of testing Data\n",
    "## Create and modify dataframe for the cluster column\n",
    "PCA_components_test['Cluster'] = pd.Series(predict_labels)\n",
    "\n",
    "## Rename Cluster label names from k-means\n",
    "cluster_label_names = {0: \"Subscribed\", 1: \"Churned\"}\n",
    "PCA_components_test['Cluster_Labels'] = PCA_components_test['Cluster'].map(cluster_label_names)  \n",
    "PCA_components_test.columns = [ 'PCA_1', \"PCA_2\", \"PCA_3\", \n",
    "                         'Cluster', 'Cluster_Labels']\n",
    "\n",
    "## Plots of Win Ratio, Kill Death Ratio, Headshott KIll Ratio\n",
    "scatter3d_cluster(df = PCA_components_test , x = 'PCA_1',\n",
    "                  y = 'PCA_2', z = 'PCA_3', code = 'Cluster_Labels', \n",
    "                  title = 'Clustering of Customer Churn')"
   ]
  },
  {
   "cell_type": "code",
   "execution_count": null,
   "metadata": {},
   "outputs": [],
   "source": [
    "# Compute the accuracy of the testing set\n",
    "y_test_df = pd.Series(y_test)\n",
    "y_test_df = y_test_df.reset_index()\n",
    "PCA_components_test['Actual_Labels'] = pd.Series(y_test_df['Playing_after_6_months'], index = y_test_df.index)\n",
    "PCA_components_test['Cluster_Labels'] = PCA_components_test['Cluster_Labels'].map({'Subscribed': 0, 'Churned': 1})\n",
    "PCA_acc_test = PCA_components_test['Actual_Labels'].eq(PCA_components_test['Cluster_Labels']).value_counts()"
   ]
  },
  {
   "cell_type": "code",
   "execution_count": null,
   "metadata": {},
   "outputs": [],
   "source": [
    "# Accuracy of the testing set\n",
    "print(\"Accuracy : \" + str(PCA_acc_test[1]/(PCA_acc_test[0] + PCA_acc_test[1])))"
   ]
  },
  {
   "cell_type": "code",
   "execution_count": null,
   "metadata": {},
   "outputs": [],
   "source": [
    "# Table of accuracies of k-means clustering with and without PCA\n",
    "## Create an array and transpose values to make it a two-column format\n",
    "acc_values_train = [0.817253, 0.817253,\n",
    "        0.817221]\n",
    "\n",
    "acc_values_test = [0.816758, 0.816891,\n",
    "        0.816891]\n",
    "acc_values_test = np.array(acc_values_test)\n",
    "\n",
    "## Create table columns\n",
    "method = ['K-Means Clustering', 'PCA 2D + K-Means Clustering',\n",
    "                            'PCA 3D + K-Means Clustering',]\n",
    "    \n",
    "## Create plotly table object\n",
    "accuracy = go.Figure(data = [go.Table(\n",
    "    header = dict(values = [['Method'],['Accuracy', ['Training']], ['', ['Testing']]],\n",
    "                  line_color = 'darkslategray',\n",
    "                  fill_color = 'lightskyblue',\n",
    "                  align = 'left'),\n",
    "    cells = dict(values = [method, acc_values_train, acc_values_test],\n",
    "                 line_color = 'darkslategray',\n",
    "                 fill_color = 'lightcyan',\n",
    "                 align = 'left'))\n",
    "])\n",
    "\n",
    "accuracy.update_layout(width = 800, height = 500,\n",
    "                       title = 'Table 4: Accuracy of k-means clustering with and without using PCA.')\n",
    "accuracy.show()"
   ]
  },
  {
   "cell_type": "markdown",
   "metadata": {},
   "source": [
    "## Conclusion"
   ]
  },
  {
   "cell_type": "markdown",
   "metadata": {},
   "source": [
    "The survival analysis establishes a healthy financial model for Blizzard. With lifetimes of ~215 days until churn, it allows for Blizzard to make a hefty sum of money before a person will unsubscribe. There is still unpredictability due to how censored the data is – many entries have not churned in the one-year period and cannot judge past the 365-day duration. The survival curves for each feature exhibit expected behavior such as having higher average playing hours, average playing density or being in a guild results in a lower churn ratio. Lastly, the binary classification performed in the best performing algorithm having a 96% ROC AUC score in predicting whether a customer will churn in six months. \n",
    "\n",
    "Possible future work includes:\n",
    "\n",
    "(1) Examine a three-year period to have more accurate analyses for survival analysis and six-month churn prediction.  \n",
    "\n",
    "(2) Study the performance of our algorithms with different playing patterns – does the data fit well for players who exhibit more playing time? "
   ]
  },
  {
   "cell_type": "markdown",
   "metadata": {},
   "source": [
    "## References"
   ]
  },
  {
   "cell_type": "markdown",
   "metadata": {},
   "source": [
    "* Yeng-Ting Lee, Kuan-Ta Chen, Yun-Maw Cheng, and Chin-Laung Lei, \"World of Warcraft Avatar History Dataset,\" In Proceedings of ACM Multimedia Systems 2011, Feb 2011. \n",
    "* M. Oneil, \"myles-oneill/WoWAH-parser\", GitHub, 2020. [Online]. Available: https://github.com/myles-oneill/WoWAH-parser. [Accessed: 18- Mar- 2020]. \n",
    "\n",
    "*  L. Zhao et al., \"On the restricted mean survival time curve in survival analysis\", Biometrics, vol. 72, no. 1, pp. 215-221, 2015. Available: 10.1111/biom.12384. \n",
    "\n",
    "*  P. Royston and M. Parmar, \"Restricted mean survival time: an alternative to the hazard ratio for the design and analysis of randomized trials with a time-to-event outcome\", BMC Medical Research Methodology, vol. 13, no. 1, 2013. Available: 10.1186/1471-2288-13-152. \n",
    "\n",
    "*  \"Classification: ROC Curve and AUC |  Machine Learning Crash Course\", Google Developers, 2020. [Online]. Available: https://developers.google.com/machine-learning/crash-course/classification/roc-and-auc. [Accessed: 31- Mar- 2020]. \n",
    "\n",
    "* P. Burman, \"A Comparative Study of Ordinary Cross-Validation, v-Fold Cross-Validation and the Repeated Learning-Testing Methods\", Biometrika, vol. 76, no. 3, p. 503, 1989. Available: 10.2307/2336116. \n",
    "\n",
    "* C. Peng, K. Lee and G. Ingersoll, \"An Introduction to Logistic Regression Analysis and Reporting\", The Journal of Educational Research, vol. 96, no. 1, pp. 3-14, 2002. Available: 10.1080/00220670209598786. \n",
    "\n",
    "* S. Salcedo-Sanz, J. Rojo-Álvarez, M. Martínez-Ramón and G. Camps-Valls, \"Support vector machines in engineering: an overview\", Wiley Interdisciplinary Reviews: Data Mining and Knowledge Discovery, vol. 4, no. 3, pp. 234-267, 2014. Available: 10.1002/widm.1125. \n",
    "\n",
    "* Cunningham, Padraig & Delany, Sarah. (2007). k-Nearest neighbour classifiers. Mult Classif Syst. \n",
    "\n",
    "* L. Breiman, \"Random Forests\", Machine Learning, vol. 45, no. 3, pp. 261-277, 2001. Available: 10.1023/a:1017934522171. \n",
    "\n",
    "* P. Probst, M. Wright and A. Boulesteix, \"Hyperparameters and tuning strategies for random forest\", Wiley Interdisciplinary Reviews: Data Mining and Knowledge Discovery, vol. 9, no. 3, 2019. Available: 10.1002/widm.1301. \n",
    "\n",
    "* A. Tharwat, \"Principal component analysis - a tutorial\", International Journal of Applied Pattern Recognition, vol. 3, no. 3, p. 197, 2016. Available: 10.1504/ijapr.2016.079733. \n",
    "\n",
    "* \"Survey Report on K-Means Clustering Algorithm\", International Journal of Modern Trends in Engineering & Research, vol. 4, no. 4, pp. 218-221, 2017. Available: 10.21884/ijmter.2017.4143.lgjzd. "
   ]
  }
 ],
 "metadata": {
  "kernelspec": {
   "display_name": "Python 3",
   "language": "python",
   "name": "python3"
  },
  "language_info": {
   "codemirror_mode": {
    "name": "ipython",
    "version": 3
   },
   "file_extension": ".py",
   "mimetype": "text/x-python",
   "name": "python",
   "nbconvert_exporter": "python",
   "pygments_lexer": "ipython3",
   "version": "3.7.4"
  }
 },
 "nbformat": 4,
 "nbformat_minor": 2
}
