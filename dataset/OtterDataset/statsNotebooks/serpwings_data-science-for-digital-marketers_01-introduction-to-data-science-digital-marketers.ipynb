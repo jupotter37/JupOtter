{
 "cells": [
  {
   "cell_type": "markdown",
   "id": "b7f2c5f3-af84-4c2c-8c8e-1fcec3bac5cf",
   "metadata": {},
   "source": [
    "# Introduction"
   ]
  },
  {
   "cell_type": "markdown",
   "id": "d0ed4c57-1787-4552-bb87-eb7bb4c471f6",
   "metadata": {},
   "source": [
    "Data science plays a crucial role in digital marketing by providing insights and predictions that help businesses make informed decisions. It involves collecting, processing, analyzing and interpreting large amounts of data to uncover patterns and trends.\n",
    "\n",
    "Let's explore all the concepts one-by-one both with historical and modern examples."
   ]
  },
  {
   "cell_type": "markdown",
   "id": "96ed13b6-347d-4a78-a1e2-a2af38bc5ecf",
   "metadata": {
    "tags": []
   },
   "source": [
    "## What is Data?\n",
    "\n",
    "- Charaters\n",
    "- Symbols\n",
    "- Quanities\n",
    "- Sounds\n",
    "- Electrical Singals\n",
    "    - Bits\n",
    "    - Text\n",
    "    - images\n",
    "    - Audio\n",
    "    - Video \n",
    "    - numbers "
   ]
  },
  {
   "cell_type": "markdown",
   "id": "5828d6b6-5bf6-4bac-a393-7e49aed0d723",
   "metadata": {
    "tags": []
   },
   "source": [
    "## How Data Is Stored?\n",
    "\n",
    "- Cave times?\n",
    "- leather Skin?\n",
    "- Paper?\n",
    "- Recording Mediums e.g. Drives,\n",
    "- Data Bases"
   ]
  },
  {
   "cell_type": "markdown",
   "id": "6bfc2a64-d30a-40d9-9ad2-e7913aa301fa",
   "metadata": {
    "tags": []
   },
   "source": [
    "## Data Dimensions\n",
    "\n",
    "Dimensions are the attirbutes of your data to help answers the questions usually thourgh aggregation/summarization.\n",
    "\n",
    "- Spatial\n",
    "- Temporal\n",
    "- weight/length/temperatur\n",
    "- Customer\n",
    "- Product\n",
    "\n",
    "Take an example from Google Trends\n",
    "\n",
    "https://trends.google.de/trends/explore?q=Data%20Science&date=now%201-d&geo=US&hl=en-US"
   ]
  },
  {
   "cell_type": "markdown",
   "id": "5fda1519-c547-4b18-a908-bcddad94753a",
   "metadata": {},
   "source": [
    "## What is Data Encoding and Decoding?"
   ]
  },
  {
   "cell_type": "markdown",
   "id": "1f70c935-3864-4967-8e04-206b2f264db5",
   "metadata": {},
   "source": [
    "- Cave Images\n",
    "- Military Signs\n",
    "- Encoding and Decoding of Indus Valley Civilization Scripts by Prof. Ahmad Hassan Dani"
   ]
  },
  {
   "cell_type": "markdown",
   "id": "26d19eb0-5c94-4597-ac66-9699fa57bd75",
   "metadata": {
    "tags": []
   },
   "source": [
    "<img src=\"images/indus-script.png\" width=600 />\n",
    "\n",
    "Source: https://www.thearchaeologist.org/blog/why-we-still-cant-crack-the-indus-script"
   ]
  },
  {
   "cell_type": "markdown",
   "id": "6cca57d2-f151-4713-8b01-7e4b97a12c13",
   "metadata": {
    "tags": []
   },
   "source": [
    "## Professions around Data\n",
    "\n",
    "Data directly relates to humans, whether for Humans or by Humans. This results in the development of new professions which deals with data, including but not limited to  \n",
    "\n",
    "- Data Engineer \n",
    "   - data handling- ETL/ELT\n",
    "   - Requires Technical Skills \n",
    "   - Data handling/Storing/processing (DBs)\n",
    "- Data Analyst\n",
    "   - Analyze Data\n",
    "   - Story Telling\n",
    "- Data Scientist\n",
    "   - Strong Analytical Skill\n",
    "   - Mathematics/Statistics/Programming (R/Python/Julia/Matlab)\n",
    "   - Machine Learning/AI"
   ]
  },
  {
   "cell_type": "markdown",
   "id": "a419f714-a38a-425b-b755-1152bc38a729",
   "metadata": {},
   "source": [
    "## What is Data Science?\n",
    "\n",
    "Scientific Study of the Data \n",
    "- domain specific insights (business, technological advancement,)\n",
    "- story telling"
   ]
  },
  {
   "cell_type": "markdown",
   "id": "ac2c73e8-659a-44f5-87f3-0b303a73673e",
   "metadata": {
    "tags": []
   },
   "source": [
    "<img src=\"images/ds-venn-diagram-booz-allen.png\" width=600 />\n",
    "\n",
    "Source: Booz Allen - See https://www.researchgate.net/publication/258698880_The_Field_Guide_to_Data_Science"
   ]
  },
  {
   "cell_type": "markdown",
   "id": "325ad611-c0f6-4e48-a08b-33f2e2a4278d",
   "metadata": {},
   "source": [
    "## Data Scientist Skills\n",
    "\n",
    "- Numerical (Statistics/Mathematics) \n",
    "- Computitional (Programming/Scripting/Computer Affine)\n",
    "- Domain Specific Knowledge (DM, Geo, Business, ...)\n",
    "  - Why minium knowledge is very important e.g. How to Optimize CTR or Dwell Time?\n",
    "  \n",
    "- A Data Scientist should have\n",
    "    - Scientifc Mindset (Computer/Analytics)\n",
    "    - Curious (Data Management)\n",
    "    - Creative (Graphs)\n",
    "    - pragramatic \n",
    "    - Business Thinking /DM\n",
    "    "
   ]
  },
  {
   "cell_type": "markdown",
   "id": "50d170cb-7276-45cc-b148-a7192e10a2c1",
   "metadata": {},
   "source": [
    "# Numerical Skills (Minimum)\n",
    "- Statistics (Best would be to know 12th Grade Statistics) \n",
    "  - Measure of Central Tendency\n",
    "  - Dispresion\n",
    "  - Probability\n",
    "    - Normal Distribution\n",
    "    - Bayes Theorem\n",
    "- Mathematics\n",
    "  - Matrices\n",
    "  - Calcuus\n",
    "      - Differentiation\n",
    "      - Partial Derivatives"
   ]
  },
  {
   "cell_type": "markdown",
   "id": "8c16070c-5d99-4351-a5f5-c8a61f7b3219",
   "metadata": {},
   "source": [
    "## Computitional Skills (Minimum)\n",
    "\n",
    "- Computer Affine\n",
    "    - Windows (Can do most of the tasks independently)\n",
    "    - Linux/Unix (Best)\n",
    "    - Bash/Scripting (Awesome)\n",
    "- Programming\n",
    "    - Basic Knowlege\n",
    "    - Python/MATLAB/Julia/R\n",
    "    - Functionial Programming\n",
    "- Version Control System\n",
    "    - SVN/GIT (Git is preffered)\n",
    "    - Manage \n",
    "        - Code\n",
    "        - Content\n",
    "        - Data (Small and Large Files)"
   ]
  },
  {
   "cell_type": "markdown",
   "id": "1a5e9fff-f79b-4cae-ae16-050a83feb877",
   "metadata": {},
   "source": [
    "## Domain Specific Skills (DM)\n",
    "\n",
    "- Know Possible Data Source\n",
    "    - Adwords\n",
    "    - Google Analytics or any other anlytics \n",
    "    - PPC Data from FB/Google/Amazon\n",
    "    - from other Paid tools (Semrush, Ahrefs, Moz)\n",
    "- How Website Works?\n",
    "    - Basic knowledge of HTML/CSS/JS\n",
    "    - Hosting/CDN/DNS\n",
    "- Keywords/Niches\n",
    "- Terminologies\n",
    "    - CTR\n",
    "    - Dwell TIME\n",
    "    - CPM\n",
    "    - PPC\n",
    "    - ...\n"
   ]
  },
  {
   "cell_type": "markdown",
   "id": "9941e3bb-32d5-4930-883b-a5910766a983",
   "metadata": {
    "tags": []
   },
   "source": [
    "## How to Analyze Data?\n",
    "\n",
    "- Descriptive\n",
    "    - What Actually Happend?\n",
    "    - e.g. Sales through various Channles, or Click through Rate of a YouTube video\n",
    "    - Examples\n",
    "        - Descriptive Statistics\n",
    "        - Data Clustering\n",
    "        - Business Intellegence\n",
    "- Diagnositc\n",
    "    - Why Something Happend?\n",
    "    - More drill down on data.\n",
    "    - Why Sales dropped for a specific channle. Or why Click through rate of a specific youtube video is higher?\n",
    "    - Examples\n",
    "        - Business Intellegence\n",
    "        - Sensivity Analysis\n",
    "        - Desing of Experiments\n",
    "- Predictive\n",
    "    - What might happen in future (prediction)\n",
    "    - requres larger datasets\n",
    "    - Which channel will bring more traffic?. \n",
    "    - Examples\n",
    "        - Regression (linear and Logistic)\n",
    "        - Neural Networks\n",
    "        - Support Vector Machines\n",
    "- Perspective\n",
    "    - What you should do? i.e. What actions are required?\n",
    "    - Which specific youtube video topic which will bring more subscriber or views or sales\n",
    "    - Examples\n",
    "        - Simulations (mont carlo simulation)\n",
    "        - Optimization (linear or non linear programming)"
   ]
  },
  {
   "cell_type": "markdown",
   "id": "74d0691f-850f-49a7-87c1-df043a2605b5",
   "metadata": {
    "tags": []
   },
   "source": [
    "<img src=\"images/gartner-analytics.gif\" width=800 />\n",
    "\n",
    "Source: Gartner - https://www.gartner.com/en/newsroom/press-releases/2014-10-21-gartner-says-advanced-analytics-is-a-top-business-priority"
   ]
  },
  {
   "cell_type": "markdown",
   "id": "2ea9db5e-6ea9-452a-86a1-f4e155fc5b58",
   "metadata": {},
   "source": [
    "## Data Source in DM\n",
    "\n",
    "- Search Console Data \n",
    "    - Google\n",
    "    - Bing\n",
    "    - ...\n",
    "- Advertisment Data\n",
    "    - AdWords\n",
    "    - Amazon\n",
    "    - Pinterest\n",
    "    - Shopify (Optional)\n",
    "    - ...\n",
    "- Conversion Data\n",
    "    - Sales Data\n",
    "    - Analytics Data (Google)\n",
    "    - ...\n",
    "- Competitor Data\n",
    "    - Semrush\n",
    "    - Ahrefs\n",
    "    - Competitor Website\n",
    "    - ..."
   ]
  }
 ],
 "metadata": {
  "kernelspec": {
   "display_name": "Python 3 (ipykernel)",
   "language": "python",
   "name": "python3"
  },
  "language_info": {
   "codemirror_mode": {
    "name": "ipython",
    "version": 3
   },
   "file_extension": ".py",
   "mimetype": "text/x-python",
   "name": "python",
   "nbconvert_exporter": "python",
   "pygments_lexer": "ipython3",
   "version": "3.10.11"
  }
 },
 "nbformat": 4,
 "nbformat_minor": 5
}
