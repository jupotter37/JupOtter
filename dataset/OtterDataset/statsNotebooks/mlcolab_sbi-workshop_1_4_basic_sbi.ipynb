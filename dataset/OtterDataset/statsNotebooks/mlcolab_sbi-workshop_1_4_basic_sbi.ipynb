{
 "cells": [
  {
   "cell_type": "code",
   "execution_count": null,
   "id": "e13ec846",
   "metadata": {
    "slideshow": {
     "slide_type": "slide"
    }
   },
   "outputs": [],
   "source": [
    "from typing import Callable, List\n",
    "\n",
    "import pickle\n",
    "\n",
    "import numpy as np\n",
    "import numpy.random\n",
    "\n",
    "from scipy.integrate import solve_ivp, odeint\n",
    "from scipy.linalg import inv\n",
    "_\n",
    "\n",
    "import matplotlib as mpl\n",
    "\n",
    "import matplotlib.pyplot as plt\n",
    "from ipywidgets import interact, interactive, fixed, interact_manual\n",
    "import ipywidgets as widgets\n",
    "from notebook.services.config import ConfigManager\n",
    "from traitlets.config.manager import BaseJSONConfigManager\n",
    "\n",
    "\n",
    "# set jupyter configurations\n",
    "%matplotlib inline\n",
    "%config InlineBackend.figure_format='retina'\n",
    "default_dpi = mpl.rcParamsDefault['figure.dpi']\n",
    "mpl.rcParams['figure.dpi'] = default_dpi*1.2  \n",
    "\n",
    "STYLE_MORTAR = dict(xlim=(0,350), ylim=(0,150), xlabel='distance traveled (m)', ylabel='height (m)')\n",
    "start_bold, end_bold = '\\033[1m', '\\033[0m'"
   ]
  },
  {
   "cell_type": "code",
   "execution_count": null,
   "id": "5f9c6eb2",
   "metadata": {},
   "outputs": [],
   "source": [
    "def plot_compare(d_o, x_o, d, x, color_1='grey', color_2='red', \n",
    "             style=STYLE_MORTAR, grid=True, legend=True, ax=None):\n",
    "    \"\"\"Return axis comparing simulation output to observations. Show obs. error.\n",
    "    \n",
    "    Creates axis if not passed.\"\"\"\n",
    "    if ax is None:\n",
    "        fig, ax = plt.subplots()\n",
    "    ax.scatter(d_o, x_o, label='$x_\\mathrm{o}$', marker='o', color=color_1, s=10)\n",
    "    ax.scatter(d, x, label='x', marker='x', color=color_2, s=10)\n",
    "    \n",
    "    style['title'] = f\"MSE: {np.square(np.subtract(x_o, x)).mean():.2f}\"\n",
    "        \n",
    "    plt.setp(ax, **style)\n",
    "    if legend:\n",
    "        ax.legend()\n",
    "    ax.grid(True)\n",
    "    \n",
    "    return ax"
   ]
  },
  {
   "cell_type": "code",
   "execution_count": null,
   "id": "ad7e9fa5",
   "metadata": {},
   "outputs": [],
   "source": [
    "def interactive_projectile(simulator, filename_obs:str=\"mortar-x_o-1.pickle\"):\n",
    "    \"\"\" Return interactive plot for the projectile simulation using a wrapper.\"\"\"\n",
    "    \n",
    "    #load ground truth\n",
    "    with open(filename_obs, \"rb\") as f:\n",
    "        d_o, x_o = pickle.load(f)\n",
    "                \n",
    "    def visualize_projectile(speed, angle, drag):\n",
    "        \"\"\"Simulate using args from interactive and display the results.\"\"\"\n",
    "        \n",
    "        sim = simulator(speed, angle, drag)        \n",
    "        \n",
    "        ax = plot_compare(d_o, x_o, sim['d'], sim['x'])\n",
    "        plt.show()\n",
    "       \n",
    "        return dict(θ=(speed, angle, drag), d=sim['d'], h=sim['x'], x=sim['x'])\n",
    "    \n",
    "    return interactive(visualize_projectile, speed=(50,250), angle=(10,45), drag=(0.01,0.7,0.01))\n"
   ]
  },
  {
   "cell_type": "markdown",
   "id": "838197ae",
   "metadata": {
    "cell_style": "center",
    "slideshow": {
     "slide_type": "slide"
    }
   },
   "source": [
    "### 1.4.1 Ballistic motion problem\n",
    "- projectile is launched with given launch velocity, launch angle, and a drag coefficient\n",
    "- we can measure height of projectile with certain imprecision"
   ]
  },
  {
   "cell_type": "code",
   "execution_count": null,
   "id": "c99b7e5c",
   "metadata": {},
   "outputs": [],
   "source": [
    "def mortar_core(speed: float, angle:int, drag:float, \n",
    "           r:float=0.050, m:float=0.2, h_noise:float=3., ρ:float=1.225, g:float=9.81)->np.array:\n",
    "    \n",
    "    k = 0.5 * drag * ρ * (np.pi*r**2) # drag constant, proportional to area\n",
    "\n",
    "    def deriv(t, u):\n",
    "        \"\"\"Return right-hand side of ODE system for the mortar.\"\"\"\n",
    "        # see diagram at e.g. http://www.physics.smu.edu/fattarus/ballistic.html\n",
    "        x, v_x, z, v_z = u\n",
    "        speed = np.hypot(v_x, v_z)\n",
    "        a_x, a_z = -k/m * speed * v_x, -k/m * speed * v_z - g\n",
    "        \n",
    "        return v_x, a_x, v_z, a_z\n",
    "\n",
    "    \n",
    "    # position and velocity components at launch\n",
    "    x0, z0 = 0, 0\n",
    "    rad_angle = np.radians(angle) \n",
    "    v0_x, v0_z =  speed*np.cos(rad_angle), speed*np.sin(rad_angle)\n",
    "    \n",
    "    # integration grid\n",
    "    t = np.linspace(0, 400, 4000)\n",
    "    \n",
    "    # solve initial value problem (ivp) for distance traveled(t) and height(t)\n",
    "    # df/dt = f(t,y); f(t_i) = y_i, \n",
    "    solution = solve_ivp(deriv, t_span=(t[0], t[-1]), y0=(x0, v0_x, z0, v0_z), \n",
    "                        dense_output=True) # dense => continuous solution\n",
    "    \n",
    "    # evaluate solution to obtain distance and height at each time point\n",
    "    d, _, h , _ = solution.sol(t)\n",
    "    \n",
    "    x = h + h_noise*np.random.randn(d.shape[0])\n",
    "    return x"
   ]
  },
  {
   "cell_type": "code",
   "execution_count": null,
   "id": "8c8a461d",
   "metadata": {},
   "outputs": [],
   "source": [
    "def mortar(speed: float, angle:int, drag:float, \n",
    "           r:float=0.050, m:float=0.2, h_noise:float=3., ρ:float=1.225, g:float=9.81)->dict:\n",
    "    \"\"\" Simulate the firing of a projectile.\n",
    "    Args:\n",
    "        speed: magnitude of initial speed (m/s).\n",
    "        angle: launch angle with horizontal (degrees)\n",
    "        drag: drag coefficient\n",
    "        r: projectile radius (m)\n",
    "        m: projectile mass (kg)\n",
    "        h_noise: std of measurements of altitude (m)\n",
    "        ρ: air density (default is at sea surface, 15C)\n",
    "        g: gravitational acceleration (default is average at surface of Earth)\n",
    "    Returns:\n",
    "        simulation (dict): simulation results containing distance travelled \n",
    "                           and height as a function of time.   \n",
    "    \n",
    "    Following https://scipython.com/book2/chapter-8-scipy/examples/a-projectile-with-air-resistance/\n",
    "    \"\"\"\n",
    "\n",
    "    k = 0.5 * drag * ρ * (np.pi*r**2) # drag constant, proportional to area\n",
    "    \n",
    "    def deriv(t, u):\n",
    "        \"\"\"Return right-hand side of ODE system for the mortar.\"\"\"\n",
    "        # see diagram at e.g. http://www.physics.smu.edu/fattarus/ballistic.html\n",
    "        x, v_x, z, v_z = u\n",
    "        speed = np.hypot(v_x, v_z)\n",
    "        a_x, a_z = -k/m * speed * v_x, -k/m * speed * v_z - g\n",
    "        \n",
    "        return v_x, a_x, v_z, a_z\n",
    "\n",
    "    \n",
    "    # position and velocity components at launch\n",
    "    x0, z0 = 0, 0\n",
    "    rad_angle = np.radians(angle) \n",
    "    v0_x, v0_z =  speed*np.cos(rad_angle), speed*np.sin(rad_angle)\n",
    "    \n",
    "    # integration grid\n",
    "    t = np.linspace(0, 400, 4000)\n",
    "    \n",
    "    # solve initial value problem (ivp) for distance traveled(t) and height(t)\n",
    "    # df/dt = f(t,y); f(t_i) = y_i, \n",
    "    solution = solve_ivp(deriv, t_span=(t[0], t[-1]), y0=(x0, v0_x, z0, v0_z), \n",
    "                        dense_output=True) # dense => continuous solution\n",
    "    \n",
    "    # evaluate solution to obtain distance and height at each time point\n",
    "    d, _, h , _ = solution.sol(t)\n",
    "    \n",
    "    x = h + h_noise*np.random.randn(d.shape[0])\n",
    "    \n",
    "    # to obtain the params from the interactive plot, we need to return parameters here as well\n",
    "    return dict(θ=(speed, angle, drag, r, m, h_noise, ρ, g), d=d, x=x)"
   ]
  },
  {
   "cell_type": "code",
   "execution_count": null,
   "id": "64d7be50",
   "metadata": {},
   "outputs": [],
   "source": [
    "# THIS IS HOW WE GENERATED THE EXPERIMENTAL OBSERVATION\n",
    "#\n",
    "# θ_true_1 = () # this is secret\n",
    "# sim_o = mortar(*θ_true_1, h_noise=0)\n",
    "# d_o, x_o = sim_o['d'], sim_o['x']\n",
    "# with open(\"mortar-x_o-1.pickle\", \"wb\") as f:\n",
    "#     pickle.dump((d_o, x_o), f)"
   ]
  },
  {
   "cell_type": "code",
   "execution_count": null,
   "id": "6b0d1a04",
   "metadata": {},
   "outputs": [],
   "source": [
    "# SCROLL DOWN FOR AN INTERACTIVE VERSION\n",
    "\n",
    "# load experimental observation\n",
    "with open(\"mortar-x_o-1.pickle\", \"rb\") as f:\n",
    "    d_o, x_o = pickle.load(f)\n",
    "    \n",
    "sim = mortar(90, 27, 0.13)\n",
    "d, x = sim['d'], sim['x']\n",
    "plot_compare(d_o, x_o, d, x);"
   ]
  },
  {
   "cell_type": "code",
   "execution_count": null,
   "id": "1ef207c8",
   "metadata": {},
   "outputs": [],
   "source": [
    "# FANCIER COMPARISON - try to get error < 200\n",
    "interactive_projectile(mortar)"
   ]
  },
  {
   "cell_type": "markdown",
   "id": "5814d119",
   "metadata": {
    "cell_style": "center",
    "slideshow": {
     "slide_type": "subslide"
    }
   },
   "source": [
    "### 1.4.2 Linear regression as baseline\n",
    "- how can we find the underlying parameters of the observation?\n",
    "- with linear regression on quadratic polynomial parameters? "
   ]
  },
  {
   "cell_type": "code",
   "execution_count": null,
   "id": "41cf96b0",
   "metadata": {
    "cell_style": "center",
    "slideshow": {
     "slide_type": "-"
    }
   },
   "outputs": [],
   "source": [
    "def linear_regression(X:np.array, y:np.array)-> np.array:\n",
    "    \"\"\" Perform linear regression y = β X + ϵ\n",
    "    \n",
    "    Args:\n",
    "        X: features (independent variable)\n",
    "        y: dependent variable\n",
    "        \n",
    "    Returns:\n",
    "        Parameters of linear regression.\n",
    "        \n",
    "    \"\"\"\n",
    "    β = inv(X.T @ X) @ (X.T @ y)\n",
    "    \n",
    "    return β\n",
    "\n",
    "\n",
    "sim_o = mortar(60, 29, 0.00000001) # no drag\n",
    "d_o, x_o = sim_o['d'], sim_o['x']\n",
    "d_o_features = np.stack([np.ones_like(d_o), d_o**1, d_o**2]).T\n",
    "β = linear_regression(d_o_features, x_o)\n",
    "\n",
    "# generate reconstruction with found parameters\n",
    "linreg_altitudes = d_o_features @ β"
   ]
  },
  {
   "cell_type": "code",
   "execution_count": null,
   "id": "4f42658c",
   "metadata": {},
   "outputs": [],
   "source": [
    "plot_compare(d_o, x_o, d_o, linreg_altitudes)"
   ]
  },
  {
   "cell_type": "markdown",
   "id": "a18fc991",
   "metadata": {
    "slideshow": {
     "slide_type": "slide"
    }
   },
   "source": [
    "### 1.4.3 Try to reproduce data manually 🛠️\n",
    "- assuming you can build a forward model\n",
    "- can you beat the linear regression model?"
   ]
  },
  {
   "cell_type": "code",
   "execution_count": null,
   "id": "5995a4c0",
   "metadata": {
    "slideshow": {
     "slide_type": "subslide"
    }
   },
   "outputs": [],
   "source": [
    "# XXX to basic functions\n",
    "def distance(x1:np.array, x2:np.array, d_func:Callable) -> float:\n",
    "    \"\"\" Returns distance according to specified distance measure.\n",
    "    Args:\n",
    "        x1, x2 \n",
    "        d_func: distance function (symmetric)\n",
    "    Returns:\n",
    "        distance between prediction and data.\n",
    "    \"\"\"\n",
    "    def ensure_array(x):\n",
    "        try:\n",
    "            len(x)\n",
    "        except AttributeError:\n",
    "            x = np.array([x])         \n",
    "        \n",
    "        return x\n",
    "\n",
    "    x1, x2 = map(ensure_array, [x1, x2])\n",
    "    assert len(x1) == len(x2)\n",
    "    \n",
    "    return d_func(x1, x2)\n",
    "\n",
    "# choose a distance function ...\n",
    "mse = lambda x1, x2: np.square(np.subtract(x1, x2)).mean()\n",
    "chebyshev = lambda x1, x2: np.max(np.abs(np.subtract(x1,x2)))\n",
    "\n",
    "\n",
    "def random_simulation():\n",
    "    \"\"\"Return simulation results from uniformly sampled parameters.\"\"\"\n",
    "    U = np.random.uniform\n",
    "\n",
    "    speed = U(20, 150)\n",
    "    angle = U(10, 45)\n",
    "    drag = U(0.05, 0.5)\n",
    "    \n",
    "    simulation = mortar(speed, angle, drag)\n",
    "    \n",
    "    return simulation['d'], simulation['x'], simulation['θ']\n",
    "\n",
    "\n",
    "# some reference data with known parameters\n",
    "sim_o = mortar(75, 22, 0.2)\n",
    "d_o, x_o = sim_o['d'], sim_o['x']\n",
    "\n",
    "\n",
    "d, x, θ = random_simulation()\n",
    "\n",
    "style_cheby = {**STYLE_MORTAR, **dict(title=f\"Chebyshev {chebyshev(x_o,x):.2f}\")}\n",
    "plot_compare(d_o, x_o, d, x);\n",
    "\n",
    "error = mse(x,x_o)#distance(x, x_o, mse)\n",
    "\n",
    "# ... and an acceptance threshold ε ...\n",
    "ε = 25000\n",
    "\n",
    "# ...to decide about acceptance\n",
    "accepted = error < ε\n",
    "\n",
    "#print(f\"Simulation with parameters {sim['θ']}  )\n",
    "\n",
    "\n",
    "print(f'Simulation with parameters launch speed={θ[0]:.1f}, \\\n",
    "angle={θ[1]:.1f}, and drag={θ[2]:.2f}\\nhad error: {start_bold} {error:.2f}{end_bold}')\n",
    "print(\n",
    "    f'Based on chosen {start_bold}ε={ε}{end_bold}, the simulation was {start_bold}\\\n",
    "    {\"accepted\" if accepted else \"not accepted\"}{end_bold}')"
   ]
  },
  {
   "cell_type": "markdown",
   "id": "ff6253c6",
   "metadata": {
    "slideshow": {
     "slide_type": "slide"
    }
   },
   "source": [
    "### 1.4.4 Automate the search for parameters 🛠️\n",
    "- there should be a smarter way to approach this\n",
    "- your task is now to automate what we just tried manually and make decisions which paramters to keep, based on distance"
   ]
  },
  {
   "cell_type": "code",
   "execution_count": null,
   "id": "1884d6ca",
   "metadata": {
    "slideshow": {
     "slide_type": "subslide"
    }
   },
   "outputs": [],
   "source": [
    "def rejection_abc(distance_function:Callable, ε:float, x_o, n_samples=100)-> (List, int):\n",
    "    \"\"\"Return list of parameters such that distance of simulation x to x_o is <= ε.\n",
    "    \n",
    "    \n",
    "    Args:\n",
    "        ε: acceptance threshold\n",
    "        distance_function: function to compute distance between prediction and observation\n",
    "        n_samples: desired number of accepted parameter samples\n",
    "                   (aalternatively, you can cap the number of simulations and check how many\n",
    "                    acceptances you get*)\n",
    "    Return:\n",
    "        θ_accepted (list) : list of tuples with accepted parameters\n",
    "        sim_no (int) : number of simulations that were needed\n",
    "        \n",
    "    \"\"\"\n",
    "    θ_accepted = []\n",
    "    sim_no = 0\n",
    "    U = np.random.uniform\n",
    "    while len(θ_accepted) < n_samples:\n",
    "       ### YOUR SOLUTION HERE\n",
    "    return θ_accepted, sim_no"
   ]
  },
  {
   "cell_type": "code",
   "execution_count": null,
   "id": "a74a337e",
   "metadata": {},
   "outputs": [],
   "source": [
    "# get us some mysterious observations\n",
    "with open(\"mortar-x_o-1.pickle\", \"rb\") as f:\n",
    "    d_o, x_o = pickle.load(f)\n",
    "    \n",
    "ϵ = 10000\n",
    "θ_accepted, sim_no = rejection_abc(mse, ϵ, x_o, n_samples=10)\n",
    "print(f'Your rejection-ABC implementation has found {len(θ_accepted)}\\\n",
    " parameters \\nthat produce observations within ε={ε} using {sim_no} simulations.')"
   ]
  },
  {
   "cell_type": "code",
   "execution_count": null,
   "id": "87f7b95a",
   "metadata": {
    "slideshow": {
     "slide_type": "subslide"
    }
   },
   "outputs": [],
   "source": [
    "# plot with one of the found parameters\n",
    "# speed, angle, drag = θ_accepted[np.random.randint(len(θ_accepted))]\n",
    "# ... or better, with the mean\n",
    "# try plotting means with increasingly more samples (you can save across executions)\n",
    "speed, angle, drag = list(np.mean(np.array(θ_accepted), axis=0))\n",
    "sim_chosen = mortar(speed, angle, drag)\n",
    "d, x = sim_chosen['d'], sim_chosen['x']\n",
    "error = distance(x, x_o, mse)\n",
    "\n",
    "plot_compare(d_o, x_o, d, x)\n",
    "\n",
    "print(f'Distance of simulation with automatically found parameters\\nlaunch velocity={speed:.1f},\\\n",
    "launch angle={angle:.1f}, and drag coefficient={drag:.2f}: {start_bold}{error:.2f}{end_bold}')"
   ]
  },
  {
   "cell_type": "markdown",
   "id": "f3c66eb5",
   "metadata": {
    "slideshow": {
     "slide_type": "subslide"
    }
   },
   "source": [
    "- You just discovered rejection ABC!\n",
    "- Reflect on how choice of $\\epsilon$, $d$ was made\n",
    "- How much extra computation is needed if the observation $x_o$ changes?"
   ]
  },
  {
   "cell_type": "markdown",
   "id": "41faf0de",
   "metadata": {
    "slideshow": {
     "slide_type": "slide"
    }
   },
   "source": [
    "### 1.4.7 Introduce SBI as a potentially useful approach to solve our problem"
   ]
  },
  {
   "cell_type": "code",
   "execution_count": null,
   "id": "8d20c119",
   "metadata": {},
   "outputs": [],
   "source": [
    "import torch\n",
    "from sbi import utils as utils\n",
    "from sbi import analysis as analysis\n",
    "from sbi.inference.base import infer\n",
    "import torch.nn as nn"
   ]
  },
  {
   "cell_type": "code",
   "execution_count": null,
   "id": "a5d70fea",
   "metadata": {},
   "outputs": [],
   "source": [
    "def sbi_mortar(θ):\n",
    "    \"\"\"Wrapper for mortar function to work with SBI.\"\"\"\n",
    "    speed, angle, damp = θ\n",
    "    return mortar_core(speed, angle, damp)\n",
    "\n",
    "        \n",
    "# define the same prior as above with U(low, high), a box in 3 dimensions\n",
    "prior = utils.BoxUniform(low=torch.Tensor([50,15,0.01]), high=torch.Tensor([100,40,0.5]))\n",
    "\n",
    "# ... and infer the posterior over θ using the sbi toolkit\n",
    "posterior = infer(sbi_mortar, prior, method='SNPE', num_simulations=500)"
   ]
  },
  {
   "cell_type": "code",
   "execution_count": null,
   "id": "a29bbdd6",
   "metadata": {},
   "outputs": [],
   "source": [
    "\n",
    "samples = posterior.sample((10000,), x=x_o)\n",
    "θ = samples.mean(dim=0).numpy()\n",
    "log_probability = posterior.log_prob(samples, x=x_o)\n",
    "_ = analysis.pairplot(samples, figsize=(6,6), labels=['speed', 'angle', 'damp'], \n",
    "                      points=[(80,29,0.11),], points_colors=('orange',) )"
   ]
  },
  {
   "cell_type": "markdown",
   "id": "78d62ac9",
   "metadata": {},
   "source": [
    "# Summary statistics\n",
    "\n",
    "You can try and reduce the mortar output to significant observations such as the landing distance, the maximum altitude or the impact angle. You should be able to observe that more data helps constrain the posterior.\n",
    "\n",
    "Below you find a suggested implementation (by Stefan) of these potential summary statistics. An elegant way to get them, and it should be faster too, is to directly use the `solve_ivp` event facility. This is explained here: https://scipython.com/book2/chapter-8-scipy/examples/a-projectile-with-air-resistance/\n",
    "\n",
    "Check it out and share your results!"
   ]
  },
  {
   "cell_type": "code",
   "execution_count": null,
   "id": "3b61066e",
   "metadata": {},
   "outputs": [],
   "source": [
    "def get_landing_distance(d, x_o):\n",
    "    \"\"\" Compute distance travelled until projectile hits the ground.\n",
    "    Args:\n",
    "        d (array): distance travelled by projectile\n",
    "        x_o (array): height of projectile at given distance\n",
    "    Returns:\n",
    "        Distance traveled in meter until projectile hits ground.\n",
    "    \"\"\"\n",
    "    height_greater_zero = x_o > 0\n",
    "    return d[np.argwhere(height_greater_zero == False).min()]\n",
    "    \n",
    "    \n",
    "def get_distance_at_highest_point(d, x_o):\n",
    "    \"\"\" Compute distance travelled until projectile reaches highest point.\n",
    "    Args:\n",
    "        d (array): distance travelled by projectile\n",
    "        x_o (array): height of projectile at given distance\n",
    "    Returns:\n",
    "        Distance traveled in meter until projectile reaches highest point of its trajectory.\n",
    "    \"\"\"\n",
    "    return d[x_o.argmax()]\n",
    "\n",
    "def get_impact_angle(d_highest_point, h_highest_point, d_impact):\n",
    "    \"\"\" Compute impact angle of projectile\n",
    "    Args:\n",
    "        d_highest_point (float): distance travelled at highest point\n",
    "        h_highest_point (float): height at highest point\n",
    "        d_impact (float): distance travelled at impact point\n",
    "    Returns:\n",
    "        Impact angle\n",
    "    \"\"\"\n",
    "    impact_angle_arctan = np.arctan(h_highest_point/ (d_impact-d_highest_point))\n",
    "    \n",
    "    return impact_angle_arctan * 180/np.pi\n",
    "    "
   ]
  }
 ],
 "metadata": {
  "celltoolbar": "Slideshow",
  "kernelspec": {
   "display_name": "Python 3 (ipykernel)",
   "language": "python",
   "name": "python3"
  },
  "language_info": {
   "codemirror_mode": {
    "name": "ipython",
    "version": 3
   },
   "file_extension": ".py",
   "mimetype": "text/x-python",
   "name": "python",
   "nbconvert_exporter": "python",
   "pygments_lexer": "ipython3",
   "version": "3.7.10"
  },
  "rise": {
   "enable_chalkboard": true,
   "footer": "<h3>World!</h3>",
   "header": "<h1>Hello</h1>",
   "overlay": "<div class='myheader'><h2>my company</h2></div><div class='myfooter'><h2>the date</h2></div>",
   "scroll": true
  }
 },
 "nbformat": 4,
 "nbformat_minor": 5
}
