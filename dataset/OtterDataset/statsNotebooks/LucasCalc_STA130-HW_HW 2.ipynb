{
 "cells": [
  {
   "cell_type": "markdown",
   "id": "f82c010c",
   "metadata": {},
   "source": [
    "## 1. Begin (or restart) part \"3(a)\" of the TUT Demo and interact with a ChatBot to make sure you understand how each part the Monte Hall problem code above works"
   ]
  },
  {
   "cell_type": "code",
   "execution_count": 5,
   "id": "8148902e",
   "metadata": {},
   "outputs": [
    {
     "data": {
      "text/plain": [
       "0.66573"
      ]
     },
     "execution_count": 5,
     "metadata": {},
     "output_type": "execute_result"
    }
   ],
   "source": [
    "import numpy as np\n",
    "all_door_options = (1,2,3)  # tuple\n",
    "my_door_choice = 1  # 1,2,3\n",
    "i_won = 0\n",
    "reps = 100000\n",
    "for i in range(reps):\n",
    "    secret_winning_door = np.random.choice(all_door_options)\n",
    "    all_door_options_list = list(all_door_options)\n",
    "    # take the secret_winning_door, so we don't show it as a \"goat\" losing door\n",
    "    all_door_options_list.remove(secret_winning_door)\n",
    "    try:\n",
    "        # if my_door_choice was secret_winning_door then it's already removed\n",
    "        all_door_options_list.remove(my_door_choice)\n",
    "    except:\n",
    "        pass\n",
    "    # show a \"goat\" losing door and remove it\n",
    "    goat_door_reveal = np.random.choice(all_door_options_list)\n",
    "    all_door_options_list.remove(goat_door_reveal)\n",
    "\n",
    "    # put the secret_winning_door back in if it wasn't our choice\n",
    "    # we previously removed it, so it would be shown as a  \"goat\" losing door\n",
    "    if secret_winning_door != my_door_choice:\n",
    "        all_door_options_list.append(secret_winning_door)\n",
    "    # if secret_winning_door was our choice then all that's left in the list is a \"goat\" losing door\n",
    "    # if secret_winning_door wasn't our choice then it's all that will be left in the list\n",
    "\n",
    "    # swap strategy\n",
    "    my_door_choice = all_door_options_list[0]\n",
    "\n",
    "    if my_door_choice == secret_winning_door:\n",
    "        i_won += 1\n",
    "\n",
    "i_won/reps"
   ]
  },
  {
   "cell_type": "markdown",
   "id": "99d55bb6",
   "metadata": {},
   "source": [
    "### Summary of Interaction\n",
    "\n",
    "In this conversation, I sought clarification on a Python code that simulates the Monty Hall problem to assess the probability of winning by using a door-switching strategy. The code runs 100,000 simulations of the game, where a player picks one of three doors, and a host reveals a \"goat\" behind one of the remaining doors. The player then switches to the other unopened door. The code tracks how many times this switching strategy results in a win. By calculating the proportion of wins, it confirms that the probability of winning increases when the player switches doors, aligning with the optimal strategy of the Monty Hall problem.\n",
    "\n",
    "https://chatgpt.com/share/66eba3e0-7bf4-8012-b117-1743028fa876 "
   ]
  },
  {
   "cell_type": "markdown",
   "id": "076138e0",
   "metadata": {},
   "source": [
    "## 2. Extend your ChatBot sessions to now address part \"3(b)\" of the TUT Demo and interact with your ChatBot to see if it can suggest a simpler, more streamlined way to code up this for loop simulation so the process is more clear and easier to understand; then, describe any preferences you have in terms of readibility or explainability between the original code and the code improvements suggested by the ChatBot"
   ]
  },
  {
   "cell_type": "code",
   "execution_count": 10,
   "id": "f240651f",
   "metadata": {},
   "outputs": [
    {
     "name": "stdout",
     "output_type": "stream",
     "text": [
      "0.6649\n"
     ]
    }
   ],
   "source": [
    "import numpy as np\n",
    "all_door_options = (1, 2, 3)\n",
    "my_door_choice = 1\n",
    "i_won = 0\n",
    "reps = 100000\n",
    "\n",
    "for _ in range(reps):\n",
    "    secret_winning_door = np.random.choice(all_door_options)\n",
    "    \n",
    "    # Reveal a losing door that's not the chosen one or the winning door\n",
    "    available_doors = [door for door in all_door_options if door != my_door_choice and door != secret_winning_door]\n",
    "    goat_door_reveal = available_doors[0]\n",
    "    \n",
    "    # Swap to the other unopened door\n",
    "    my_door_choice = next(door for door in all_door_options if door != my_door_choice and door != goat_door_reveal)\n",
    "    \n",
    "    if my_door_choice == secret_winning_door:\n",
    "        i_won += 1\n",
    "\n",
    "print(i_won / reps)"
   ]
  },
  {
   "cell_type": "markdown",
   "id": "fd556a29",
   "metadata": {},
   "source": [
    "### My Preference\n",
    "\n",
    "In terms of simplicity, I actually prefer the original code because, though less concise, it is less complex in terms of the actual syntax used. At first it took a second to understand the line that defines \"avaliable_doors\" in the revised code. However overall, the revised code is more concise and therefore arguably better.\n",
    "\n",
    "### Summary of Interaction\n",
    "\n",
    "In this discussion, we analyzed and optimized a Python implementation of the Monty Hall problem.\n",
    "\n",
    "- Code Simplification: The original code involved removing and adding doors from a list to simulate the game. This was simplified by using list comprehensions and next() to concisely handle door selections.\n",
    "        Instead of removing doors and handling exceptions, we used a list comprehension to filter the doors and then swapped to the remaining one using the next() function.\n",
    "\n",
    "- Explanation of Random Choice: We clarified why the line goat_door_reveal = np.random.choice(available_doors) was used to randomly select a door. In the context of the Monty Hall problem, once certain doors are excluded, there is only one valid door left to reveal. Thus, np.random.choice() was unnecessary, and we could directly select the only available door.\n",
    "\n",
    "- Explanation of next(): The next() function was explained as a way to retrieve the first value from a generator that meets specific conditions. In this case, it found the remaining door that wasn’t the player’s original choice or the revealed \"goat\" door.\n",
    "    \n",
    "https://chatgpt.com/share/66ebacef-a33c-8012-a844-14a4f35ea7b7 "
   ]
  },
  {
   "cell_type": "markdown",
   "id": "8e5cf742",
   "metadata": {},
   "source": [
    "## 3. Submit your preferred version of the Monty Hall problem that is verified to be running and working with a final printed output of the code; then, add code comments explaining the purpose of each line of the code"
   ]
  },
  {
   "cell_type": "code",
   "execution_count": 1,
   "id": "776c236b",
   "metadata": {},
   "outputs": [
    {
     "name": "stdout",
     "output_type": "stream",
     "text": [
      "0.66553\n"
     ]
    }
   ],
   "source": [
    "# Import the numpy library\n",
    "import numpy as np\n",
    "# Create a tuple of the 3 possile doors\n",
    "all_door_options = (1, 2, 3)\n",
    "# Choose the first door as my choice\n",
    "my_door_choice = 1\n",
    "# Create a variable that will serve as a counter for the number of games won\n",
    "i_won = 0\n",
    "# Set the number of repitions in the simulation to be 100,000\n",
    "reps = 100000\n",
    "\n",
    "# For every repition, \n",
    "for _ in range(reps):\n",
    "    # Choose a winning door\n",
    "    secret_winning_door = np.random.choice(all_door_options)\n",
    "    \n",
    "    # Reveal a losing door that's not the chosen one or the winning door\n",
    "    available_doors = [door for door in all_door_options if door != my_door_choice and door != secret_winning_door]\n",
    "    # Make the door that gets revealed to be a goat that door that isnt the chosen or winning\n",
    "    goat_door_reveal = available_doors[0]\n",
    "    \n",
    "    # Swap to the other unopened door\n",
    "    my_door_choice = next(door for door in all_door_options if door != my_door_choice and door != goat_door_reveal)\n",
    "    \n",
    "    # If my chosen door is the winning one,\n",
    "    if my_door_choice == secret_winning_door:\n",
    "        # Add one to the counter of wins\n",
    "        i_won += 1\n",
    "\n",
    "# Display the percentage of wins in the 100,000 repitions\n",
    "print(i_won / reps)"
   ]
  },
  {
   "cell_type": "markdown",
   "id": "ff99d817",
   "metadata": {},
   "source": [
    "## 4. Watch the embedded video tutorial on Markov chains in the next Jupyter cell below to understand their application and relevance for ChatBots; then, after watching the video, start a new ChatBot session by prompting that you have code that creates a \"Markovian ChatBot\"; show it the first version of the \"Markovian ChatBot code\" below; and interact with the ChatBot session to make sure you understand how the original first version of the \"Markovian ChatBot code\" works"
   ]
  },
  {
   "cell_type": "code",
   "execution_count": 1,
   "id": "e58fa8ba",
   "metadata": {},
   "outputs": [
    {
     "ename": "NameError",
     "evalue": "name 'words' is not defined",
     "output_type": "error",
     "traceback": [
      "\u001b[0;31m---------------------------------------------------------------------------\u001b[0m",
      "\u001b[0;31mNameError\u001b[0m                                 Traceback (most recent call last)",
      "Cell \u001b[0;32mIn[1], line 6\u001b[0m\n\u001b[1;32m      4\u001b[0m word_used \u001b[38;5;241m=\u001b[39m \u001b[38;5;28mdict\u001b[39m() \u001b[38;5;66;03m# defaultdict(int)\u001b[39;00m\n\u001b[1;32m      5\u001b[0m next_word \u001b[38;5;241m=\u001b[39m \u001b[38;5;28mdict\u001b[39m() \u001b[38;5;66;03m# defaultdict(lambda: defaultdict(int))\u001b[39;00m\n\u001b[0;32m----> 6\u001b[0m \u001b[38;5;28;01mfor\u001b[39;00m i,word \u001b[38;5;129;01min\u001b[39;00m \u001b[38;5;28menumerate\u001b[39m(\u001b[43mwords\u001b[49m[:\u001b[38;5;241m-\u001b[39m\u001b[38;5;241m1\u001b[39m]):\n\u001b[1;32m      8\u001b[0m     \u001b[38;5;28;01mif\u001b[39;00m word \u001b[38;5;129;01min\u001b[39;00m word_used:\n\u001b[1;32m      9\u001b[0m         word_used[word] \u001b[38;5;241m+\u001b[39m\u001b[38;5;241m=\u001b[39m \u001b[38;5;241m1\u001b[39m\n",
      "\u001b[0;31mNameError\u001b[0m: name 'words' is not defined"
     ]
    }
   ],
   "source": [
    "# Markovian Chatbot\n",
    "\n",
    "# from collections import defaultdict\n",
    "word_used = dict() # defaultdict(int)\n",
    "next_word = dict() # defaultdict(lambda: defaultdict(int))\n",
    "for i,word in enumerate(words[:-1]):\n",
    "\n",
    "    if word in word_used:\n",
    "        word_used[word] += 1\n",
    "    else:\n",
    "        word_used[word] = 1\n",
    "        next_word[word] = {}\n",
    "\n",
    "    if words[i+1] in next_word[word]:\n",
    "        next_word[word][words[i+1]] += 1\n",
    "    else:\n",
    "        next_word[word][words[i+1]] = 1"
   ]
  },
  {
   "cell_type": "markdown",
   "id": "2480684a",
   "metadata": {},
   "source": [
    "### Summary of Interaction\n",
    "\n",
    "In this conversation, I shared a Markov chain-based chatbot code and sought clarification on its workings. The code constructs two dictionaries:\n",
    "\n",
    "1. word_used: Tracks the frequency of each word in a given dataset.\n",
    "2. next_word: Tracks which word follows another and how often, forming a nested dictionary where each word maps to possible subsequent words and their respective frequencies.\n",
    "\n",
    "The for loop iterates through the dataset, updating the two dictionaries by incrementing word counts and mapping transitions between consecutive words. This structure builds a Markov chain model, which can be used to predict the next word based on the current word, making it useful for chatbot development. The Markov chain relies on learned word patterns to simulate human-like dialogue by generating text that mimics typical word sequences.\n",
    "\n",
    "https://chatgpt.com/share/66ec9fb5-0ba4-8012-9d31-a9bdc0892eac"
   ]
  },
  {
   "cell_type": "markdown",
   "id": "70eb712f",
   "metadata": {},
   "source": [
    "## 5. Recreate (or resume) the previous ChatBot session from question \"4\" above, and now prompt the ChatBot session that you have a couple extensions of the code to show it, and then show it each of the extentions of the \"Markovian ChatBot code\" below in turn"
   ]
  },
  {
   "cell_type": "code",
   "execution_count": 3,
   "id": "fb95ce1d",
   "metadata": {},
   "outputs": [
    {
     "ename": "NameError",
     "evalue": "name 'words' is not defined",
     "output_type": "error",
     "traceback": [
      "\u001b[0;31m---------------------------------------------------------------------------\u001b[0m",
      "\u001b[0;31mNameError\u001b[0m                                 Traceback (most recent call last)",
      "Cell \u001b[0;32mIn[3], line 6\u001b[0m\n\u001b[1;32m      4\u001b[0m word_used \u001b[38;5;241m=\u001b[39m \u001b[38;5;28mdict\u001b[39m() \u001b[38;5;66;03m# defaultdict(int)\u001b[39;00m\n\u001b[1;32m      5\u001b[0m next_word \u001b[38;5;241m=\u001b[39m \u001b[38;5;28mdict\u001b[39m() \u001b[38;5;66;03m# defaultdict(lambda: defaultdict(int))\u001b[39;00m\n\u001b[0;32m----> 6\u001b[0m \u001b[38;5;28;01mfor\u001b[39;00m i,word \u001b[38;5;129;01min\u001b[39;00m \u001b[38;5;28menumerate\u001b[39m(\u001b[43mwords\u001b[49m[:\u001b[38;5;241m-\u001b[39m\u001b[38;5;241m1\u001b[39m]):\n\u001b[1;32m      8\u001b[0m     \u001b[38;5;28;01mif\u001b[39;00m word \u001b[38;5;129;01min\u001b[39;00m word_used:\n\u001b[1;32m      9\u001b[0m         word_used[word] \u001b[38;5;241m+\u001b[39m\u001b[38;5;241m=\u001b[39m \u001b[38;5;241m1\u001b[39m\n",
      "\u001b[0;31mNameError\u001b[0m: name 'words' is not defined"
     ]
    }
   ],
   "source": [
    "# Markovian Chatbot\n",
    "\n",
    "from collections import defaultdict\n",
    "word_used = dict() # defaultdict(int)\n",
    "next_word = dict() # defaultdict(lambda: defaultdict(int))\n",
    "for i,word in enumerate(words[:-1]):\n",
    "\n",
    "    if word in word_used:\n",
    "        word_used[word] += 1\n",
    "    else:\n",
    "        word_used[word] = 1\n",
    "        next_word[word] = {}\n",
    "\n",
    "    if words[i+1] in next_word[word]:\n",
    "        next_word[word][words[i+1]] += 1\n",
    "    else:\n",
    "        next_word[word][words[i+1]] = 1\n",
    "        \n",
    "# Markovian Chatbot Extension #1\n",
    "\n",
    "word_used2 = defaultdict(int)\n",
    "next_word2 = defaultdict(lambda: defaultdict(int))\n",
    "for i,word in enumerate(words[:-2]):\n",
    "    word_used2[word+' '+words[i+1]] += 1\n",
    "    next_word2[word+' '+words[i+1]][words[i+2]] += 1 \n",
    "    \n",
    "# Markovian Chatbot Extension #2\n",
    "\n",
    "from collections import Counter, defaultdict\n",
    "# `avatar` is a dataset, and `character` is one of it's columns\n",
    "characters = Counter(\"\\n\"+ avatar.character.str.upper().str.replace(' ','.')+\":\")\n",
    "# this code changes the type of the `character` column to `str`; then,\n",
    "# makes the text uppercase, and replaces spaces with '.'\n",
    "\n",
    "nested_dict = lambda: defaultdict(nested_dict)\n",
    "word_used2C = nested_dict()\n",
    "next_word2C = nested_dict()\n",
    "\n",
    "for i,word in enumerate(words[:-2]):\n",
    "    if word in characters:\n",
    "        character = word\n",
    "        \n",
    "    if character not in word_used2C:\n",
    "        word_used2C[character] = dict()\n",
    "    if word+' '+words[i+1] not in word_used2C[character]:\n",
    "        word_used2C[character][word+' '+words[i+1]] = 0\n",
    "    word_used2C[character][word+' '+words[i+1]] += 1\n",
    "    \n",
    "    if character not in next_word2C:\n",
    "        next_word2C[character] = dict()\n",
    "    if word+' '+words[i+1] not in next_word2C[character]:\n",
    "        next_word2C[character][word+' '+words[i+1]] = dict()\n",
    "    if words[i+2] not in next_word2C[character][word+' '+words[i+1]]:\n",
    "        next_word2C[character][word+' '+words[i+1]][words[i+2]] = 0\n",
    "    next_word2C[character][word+' '+words[i+1]][words[i+2]] += 1"
   ]
  },
  {
   "cell_type": "markdown",
   "id": "b3bba882",
   "metadata": {},
   "source": [
    "#### Question 1:\n",
    "\n",
    "The chat bot had no issue explaining the extensions to the code:\n",
    "\n",
    "    The original code creates a bigram-based Markov model, where it tracks how often each word is followed by the next. The first extension upgrades this to a trigram model, where two consecutive words are used to predict the next word, adding more context for the chatbot's responses. The second extension goes further by making the model character-specific. It assigns different trigram models to different characters in a dataset, allowing the chatbot to generate responses that mimic each character's speaking style. Together, these extensions make the bot more coherent and personalized.\n",
    "\n",
    "https://chatgpt.com/share/66eca18b-157c-8012-a8d2-47e19f5cd6b8\n",
    "\n",
    "#### Question 2:\n",
    "\n",
    "I asked chat for a line by line explanation of the code and asked for clarification regarding lambda functions:\n",
    "\n",
    "https://chatgpt.com/share/66ecb2b3-59bc-8012-b51a-f559a1bc729f\n",
    "\n",
    "#### Question 3:\n",
    "\n",
    "Despite not including the intermediate step, the chat bot still had no issue explaining all of the changes to the code:\n",
    "\n",
    "The initial Markovian chatbot uses a basic first-order Markov model to predict the next word in a conversation by calculating the frequency of word transitions. It stores the count of each word and its subsequent word in dictionaries (word_used and next_word).\n",
    "\n",
    "The extended version enhances this by:\n",
    "\n",
    "1. Introducing character-based dialogue modeling, where word sequences are tracked separately for each character in the dialogue dataset.\n",
    "2. Using a second-order Markov model that tracks transitions based on two consecutive words (bi-grams) instead of just one word. This is done using two nested defaultdict structures:\n",
    "       \n",
    "       - word_used2C: Stores the count of bi-grams (two-word sequences) spoken by each character.\n",
    "       - next_word2C: Tracks the frequency of the word that follows each bi-gram for each character.\n",
    "\n",
    "This extension makes the chatbot more sophisticated by allowing it to predict words based on character-specific dialogue patterns and providing more context through two-word sequences, improving the coherence and relevance of responses.\n",
    "\n",
    "https://chatgpt.com/share/66ecb7a3-ed00-8012-9693-cce66f80bfda"
   ]
  },
  {
   "cell_type": "markdown",
   "id": "7484d621",
   "metadata": {},
   "source": [
    "## 6. Report on your experience interacting with ChatBots to understand the Monte Hall problem and \"Markovian ChatBot\" code\n",
    "\n",
    "#### Questions 1, 2, and 3:\n",
    "\n",
    "The experience working with ChatGPT has been flawless. The bot was able to provide answers to my questions quickly and accurately, without the need for any helps or hints. Nothing about the learning process proved frustrating, as if more clarification was needed, I was able to ask for as much extra help as I wanted. Compared to google, Chat also has the advantage of being able to provide specific examples to aid in the understanding. Overall, to give it a score, I would honestly give it a perfect score, whether that be 10/10 or 5 stars. ChatGPT has been extremely useful during both homework assignments and for general questions."
   ]
  },
  {
   "cell_type": "markdown",
   "id": "e2706d76",
   "metadata": {},
   "source": [
    "## 7. Reflect on your experience interacting with ChatBot and describe how your perception of AI-driven assistance tools in the context of learning coding, statistics, and data science has been evolving (or not) since joining the course\n",
    "\n",
    "My view of chat bots has improved significantly since the beginning of this course. I have always been fairly adverse to the concept of AI, as it seems too close to a science fiction story that goes badly for humanity. For this reason, this course has been my first time using AI in my life, and I must admit, it has positively surprised me. I still believe there will reach a point that is \"too far\" in terms of expanding the capabilities of AI, however for this application of it being a simple virtual tutor, the experience has been amazing."
   ]
  },
  {
   "cell_type": "markdown",
   "id": "ccbb54d7",
   "metadata": {},
   "source": [
    "## 8. ChatBots consume text data available on the web or platforms, and thus represents a new way to \"search consensensus\" that condenses and summarizes mainstream human thought\n",
    "\n",
    "#### Question 1\n",
    "\n",
    "It was notable that ChatGPT took a long time, and three attempts at the prompt, to respond to the question about the difference between AI and ML.\n",
    "\n",
    "ChatGPT's response:\n",
    "\n",
    "Here's a summary of our conversation that you can use for your assignment:\n",
    "\n",
    "The conversation focused on the importance of key skills—learning and adaptability, communication, coding, and statistics and data analysis—in the modern world, particularly within the data science industry. These skills are crucial for career success because:\n",
    "\n",
    "- Learning and adaptability help professionals stay current with rapidly evolving tools and technologies.\n",
    "- Communication is essential for explaining complex data insights to non-technical stakeholders, which is critical for decision-making.\n",
    "- Coding is fundamental for implementing data-driven solutions and automating processes.\n",
    "    Statistics and data analysis are the core of understanding data and drawing accurate conclusions.\n",
    "\n",
    "We also discussed the difference between Artificial Intelligence (AI) and Machine Learning (ML):\n",
    "\n",
    "- AI is a broad field aimed at creating systems that mimic human intelligence, including areas like natural language processing and robotics.\n",
    "- ML is a subset of AI, focusing on how machines can learn from data without being explicitly programmed.\n",
    "\n",
    "In conclusion, these skills and concepts are vital in the data science industry and provide a solid foundation for a successful career in technology and data-driven fields.\n",
    "\n",
    "https://chatgpt.com/share/66ecd2cd-b3cc-8012-a207-be1a69cffbf0\n",
    "\n",
    "#### Question 2\n",
    "\n",
    "Summary of the conversation with ChatGPT:\n",
    "\n",
    "In financial consulting and financial analysis, a combination of technical, analytical, business, and communication skills is crucial. Key technical skills include financial modeling, advanced Excel proficiency, a strong understanding of accounting and financial statements, and the use of financial software like Bloomberg Terminal. Analytical skills, such as problem-solving, quantitative analysis, and attention to detail, are essential for interpreting data and identifying trends.\n",
    "\n",
    "Business knowledge, including familiarity with economics, market dynamics, and risk management, helps in making informed decisions. Strong communication and presentation skills are necessary to effectively summarize and present complex financial data to clients and stakeholders. Additionally, certifications such as the CFA or CPA can enhance career prospects, while an MBA can provide an edge in consulting roles.\n",
    "\n",
    "https://chatgpt.com/share/66ecda30-7980-8012-a79a-2e7ef8442feb\n",
    "\n",
    "#### Question 3\n",
    "\n",
    "Individual logs are in their respective questions.\n",
    "\n",
    "#### Question 4\n",
    "\n",
    "Currently I am very focused on my potential future career and how I can build up a portfolio, especially now in first year, to reach those goals. I will be studying financial economics and statistics with the intention of getting into the finance industry, however in more data analytical jobs, such as financial consulting. To achieve this, I understand that I need both a strong degree and also relevant experience. Though it is difficult to land an internship in my first year, I have found other things that I can do to improve my resume to hopefully acquire one in my second year. Some of these strategies include attending work shops, conferences/job fairs, participating in clubs, working on personal projects, and potentially getting a work study position. I also think it is important to work on other skills and soft skill along the way.\n",
    "\n",
    "#### Question 5\n",
    "\n",
    "I feel that ChatGPT is very useful for most things, however it may lack some wisdom when it comes to topics such as careers and the future. While ChatGPT is intelligent, it is still a collection of the information and opinions avaliable on the internet. For this reason, I feel it may lack the personal experience and wisdom gained throughout one's career, that a real professional may have. In other words, ChatGPT is similar to a very strong google search, however this can only provide the fundamentals of a complex concept like the nature of a person's life or future. To resolve this, I will be looking into any kind of mentorship opportunities or councilling resources that are avaliable to me at the university. A perfect example of this is the 1-on-1 mentorship meetings provided with the STA130 mentorship program."
   ]
  },
  {
   "cell_type": "markdown",
   "id": "b3e133e4",
   "metadata": {},
   "source": [
    "## 9. Have you reviewed the course wiki-textbook and interacted with a ChatBot (or, if that wasn't sufficient, real people in the course piazza discussion board or TA office hours) to help you understand all the material in the tutorial and lecture that you didn't quite follow when you first saw it?\n",
    "\n",
    "yessir"
   ]
  }
 ],
 "metadata": {
  "kernelspec": {
   "display_name": "Python 3 (ipykernel)",
   "language": "python",
   "name": "python3"
  },
  "language_info": {
   "codemirror_mode": {
    "name": "ipython",
    "version": 3
   },
   "file_extension": ".py",
   "mimetype": "text/x-python",
   "name": "python",
   "nbconvert_exporter": "python",
   "pygments_lexer": "ipython3",
   "version": "3.11.6"
  }
 },
 "nbformat": 4,
 "nbformat_minor": 5
}
