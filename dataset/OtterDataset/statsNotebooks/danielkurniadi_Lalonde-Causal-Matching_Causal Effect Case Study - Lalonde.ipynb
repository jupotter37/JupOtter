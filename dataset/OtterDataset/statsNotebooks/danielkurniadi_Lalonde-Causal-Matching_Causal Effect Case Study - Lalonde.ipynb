{
 "cells": [
  {
   "cell_type": "markdown",
   "metadata": {},
   "source": [
    "# Machine Learning Workshop: Causal Effect"
   ]
  },
  {
   "cell_type": "markdown",
   "metadata": {},
   "source": [
    "## Case Study:\n",
    "The Lalonde data set (LaLonde, 1986; Dehejia and Wahba, 1999, 2002) is a classic in causal inference.\n",
    "In this data set, treatment refers to enrollment in a labour training program (the National Supported Work Demonstration) and control to not enrollment in the program.\n",
    "The goal is to evaluate the effect of the labour training program on the earnings of disadvantaged workers.\n",
    "\n",
    "The data set contains 445 observations, corresponding to 185 treated and 260 control workers, and ten variables. \n",
    "The treatment assignment indicator is the first variable of the data frame: treatment (1 = treated; 0 = control). \n",
    "The next seven variables are the covariates.\n",
    "The last variable is the outcome, earnings after the labour training program.\n",
    "\n",
    "#### The Data\n",
    "Lalonde dataset is dataset used by Dehejia and Wahba (1999) to evaluate propensity score matching.\n",
    "\n",
    "#### Data description\n",
    "A data frame with 445 observations on the following 10 variables.\n",
    "\n",
    "* **age** :age in years.\n",
    "* **educ**: years of schooling.\n",
    "* **black**: indicator variable for blacks.\n",
    "* **hisp**: indicator variable for Hispanics.\n",
    "* **married**: indicator variable for martial status.\n",
    "* **nodegr**: indicator variable for high school diploma.\n",
    "* **re74**: real earnings in 1974.\n",
    "* **re75**: real earnings in 1975.\n",
    "* **re78**: real earnings in 1978.\n",
    "* **treat**: an indicator variable for treatment status."
   ]
  },
  {
   "cell_type": "markdown",
   "metadata": {},
   "source": [
    "# Problem Statement"
   ]
  },
  {
   "cell_type": "markdown",
   "metadata": {},
   "source": [
    "**Notations.**\n",
    "* Y represents the *response*, here is is 1978 earnings ('re78')\n",
    "* D represents the *treatment*: the job training program ('treat')\n",
    "* X represents the *confounding variables*, here it likely is age, education, race and marital status. X is also called a *covariate* or the *counter factual*."
   ]
  },
  {
   "cell_type": "markdown",
   "metadata": {},
   "source": [
    "**Aims.**\n",
    "\n",
    "Find the average treatment effect in the treatment group (ATT) on RE78.\n",
    "\n",
    "The Average Treatment Effect (**ATE**):\n",
    "$$\\Delta = E[Y_{1} - Y_{0}]$$\n",
    "\n",
    "However, as we saw, if we try to estimate this quantity from the row observational distribution, we get:\n",
    "$$\\Delta_{raw} = E[Y|D=1] - E[Y|D=0] = E[Y_{1}|D=1] - E[Y_{0}|D=0] \\\\\n",
    "\\neq \\Delta = E[Y_{1} - Y_{0}]$$\n",
    "\n",
    "because: \n",
    "$$E[Y_{i}|D=i] \\neq E[Y_{i}]$$"
   ]
  },
  {
   "cell_type": "markdown",
   "metadata": {},
   "source": [
    "**General problem.** If we believe that age, education, race, and marital status all have a likely influence on earnings Y, we need a way to disentangle the effect of D on Y from the perturbative effect of X on Y."
   ]
  },
  {
   "cell_type": "markdown",
   "metadata": {},
   "source": [
    "Indeed we saw that the treatment assignment is probably not independent of each subject's potential outcomes, e.g. poorer people are more represented in the treatment group than in the control group.\n",
    "\n",
    "However the treatment is assumed to be *unconfounded* in the sense that the dependence between the treatment assignment and the outcomes is *only through* something we observe, namely the covariates X.\n",
    "\n",
    "What this means is that if we control for X, i.e. look across people with similar levels of X, then the difference between treated and control should be attributable to the treatment itself, just as a randomized experiment would be.\n",
    "\n",
    "This is the assumption, and if it doesn't hold our results could be completely wrong."
   ]
  },
  {
   "cell_type": "markdown",
   "metadata": {},
   "source": [
    "## Exploratory Data Analysis\n",
    "Let first do an exploration of causal inference in python using the famous Lalonde dataset.\n",
    "\n",
    "* Causal inference is a technique to estimate the effect of one variable onto another, given the presence of other influencing variables (confonding factors) that we try to keep 'controlled'.\n",
    "\n",
    "The study looked at the effectiveness of a job training program (the treatment) on the real earnings of an individual, a couple years after completion of the program."
   ]
  },
  {
   "cell_type": "markdown",
   "metadata": {},
   "source": [
    "### Packages"
   ]
  },
  {
   "cell_type": "code",
   "execution_count": 1,
   "metadata": {},
   "outputs": [],
   "source": [
    "# Core\n",
    "import numpy as np\n",
    "import scipy\n",
    "import causalinference\n",
    "import statsmodels.api as sm\n",
    "import statsmodels.formula.api as smf\n",
    "import pylab\n",
    "\n",
    "# Data\n",
    "import pandas as pd\n",
    "\n",
    "# Visualisation\n",
    "import matplotlib.pyplot as plt\n",
    "import seaborn as sns\n",
    "\n",
    "%matplotlib inline\n",
    "sns.set_style('darkgrid')\n",
    "plt.style.use('ggplot')"
   ]
  },
  {
   "cell_type": "code",
   "execution_count": 2,
   "metadata": {},
   "outputs": [],
   "source": [
    "# Silent warnings\n",
    "import warnings\n",
    "warnings.filterwarnings(\"ignore\")"
   ]
  },
  {
   "cell_type": "markdown",
   "metadata": {},
   "source": [
    "### 1. Overview of Dataset\n",
    "\n",
    "Let's take a quick look at our data. This section aims to give a general ideas of the covariates in our dataset."
   ]
  },
  {
   "cell_type": "code",
   "execution_count": 3,
   "metadata": {},
   "outputs": [
    {
     "data": {
      "text/html": [
       "<div>\n",
       "<style scoped>\n",
       "    .dataframe tbody tr th:only-of-type {\n",
       "        vertical-align: middle;\n",
       "    }\n",
       "\n",
       "    .dataframe tbody tr th {\n",
       "        vertical-align: top;\n",
       "    }\n",
       "\n",
       "    .dataframe thead th {\n",
       "        text-align: right;\n",
       "    }\n",
       "</style>\n",
       "<table border=\"1\" class=\"dataframe\">\n",
       "  <thead>\n",
       "    <tr style=\"text-align: right;\">\n",
       "      <th></th>\n",
       "      <th>treat</th>\n",
       "      <th>age</th>\n",
       "      <th>educ</th>\n",
       "      <th>black</th>\n",
       "      <th>hispan</th>\n",
       "      <th>married</th>\n",
       "      <th>nodegree</th>\n",
       "      <th>re74</th>\n",
       "      <th>re75</th>\n",
       "      <th>re78</th>\n",
       "    </tr>\n",
       "  </thead>\n",
       "  <tbody>\n",
       "    <tr>\n",
       "      <th>NSW1</th>\n",
       "      <td>1</td>\n",
       "      <td>37</td>\n",
       "      <td>11</td>\n",
       "      <td>1</td>\n",
       "      <td>0</td>\n",
       "      <td>1</td>\n",
       "      <td>1</td>\n",
       "      <td>0.0</td>\n",
       "      <td>0.0</td>\n",
       "      <td>9930.0460</td>\n",
       "    </tr>\n",
       "    <tr>\n",
       "      <th>NSW2</th>\n",
       "      <td>1</td>\n",
       "      <td>22</td>\n",
       "      <td>9</td>\n",
       "      <td>0</td>\n",
       "      <td>1</td>\n",
       "      <td>0</td>\n",
       "      <td>1</td>\n",
       "      <td>0.0</td>\n",
       "      <td>0.0</td>\n",
       "      <td>3595.8940</td>\n",
       "    </tr>\n",
       "    <tr>\n",
       "      <th>NSW3</th>\n",
       "      <td>1</td>\n",
       "      <td>30</td>\n",
       "      <td>12</td>\n",
       "      <td>1</td>\n",
       "      <td>0</td>\n",
       "      <td>0</td>\n",
       "      <td>0</td>\n",
       "      <td>0.0</td>\n",
       "      <td>0.0</td>\n",
       "      <td>24909.4500</td>\n",
       "    </tr>\n",
       "    <tr>\n",
       "      <th>NSW4</th>\n",
       "      <td>1</td>\n",
       "      <td>27</td>\n",
       "      <td>11</td>\n",
       "      <td>1</td>\n",
       "      <td>0</td>\n",
       "      <td>0</td>\n",
       "      <td>1</td>\n",
       "      <td>0.0</td>\n",
       "      <td>0.0</td>\n",
       "      <td>7506.1460</td>\n",
       "    </tr>\n",
       "    <tr>\n",
       "      <th>NSW5</th>\n",
       "      <td>1</td>\n",
       "      <td>33</td>\n",
       "      <td>8</td>\n",
       "      <td>1</td>\n",
       "      <td>0</td>\n",
       "      <td>0</td>\n",
       "      <td>1</td>\n",
       "      <td>0.0</td>\n",
       "      <td>0.0</td>\n",
       "      <td>289.7899</td>\n",
       "    </tr>\n",
       "  </tbody>\n",
       "</table>\n",
       "</div>"
      ],
      "text/plain": [
       "      treat  age  educ  black  hispan  married  nodegree  re74  re75  \\\n",
       "NSW1      1   37    11      1       0        1         1   0.0   0.0   \n",
       "NSW2      1   22     9      0       1        0         1   0.0   0.0   \n",
       "NSW3      1   30    12      1       0        0         0   0.0   0.0   \n",
       "NSW4      1   27    11      1       0        0         1   0.0   0.0   \n",
       "NSW5      1   33     8      1       0        0         1   0.0   0.0   \n",
       "\n",
       "            re78  \n",
       "NSW1   9930.0460  \n",
       "NSW2   3595.8940  \n",
       "NSW3  24909.4500  \n",
       "NSW4   7506.1460  \n",
       "NSW5    289.7899  "
      ]
     },
     "execution_count": 3,
     "metadata": {},
     "output_type": "execute_result"
    }
   ],
   "source": [
    "lalonde_df = pd.read_csv('lalonde.csv', index_col=0)\n",
    "lalonde_df.head()"
   ]
  },
  {
   "cell_type": "code",
   "execution_count": 4,
   "metadata": {},
   "outputs": [
    {
     "data": {
      "text/html": [
       "<div>\n",
       "<style scoped>\n",
       "    .dataframe tbody tr th:only-of-type {\n",
       "        vertical-align: middle;\n",
       "    }\n",
       "\n",
       "    .dataframe tbody tr th {\n",
       "        vertical-align: top;\n",
       "    }\n",
       "\n",
       "    .dataframe thead th {\n",
       "        text-align: right;\n",
       "    }\n",
       "</style>\n",
       "<table border=\"1\" class=\"dataframe\">\n",
       "  <thead>\n",
       "    <tr style=\"text-align: right;\">\n",
       "      <th></th>\n",
       "      <th>treat</th>\n",
       "      <th>age</th>\n",
       "      <th>educ</th>\n",
       "      <th>black</th>\n",
       "      <th>hispan</th>\n",
       "      <th>married</th>\n",
       "      <th>nodegree</th>\n",
       "      <th>re74</th>\n",
       "      <th>re75</th>\n",
       "      <th>re78</th>\n",
       "    </tr>\n",
       "  </thead>\n",
       "  <tbody>\n",
       "    <tr>\n",
       "      <th>count</th>\n",
       "      <td>614.000000</td>\n",
       "      <td>614.000000</td>\n",
       "      <td>614.000000</td>\n",
       "      <td>614.000000</td>\n",
       "      <td>614.000000</td>\n",
       "      <td>614.000000</td>\n",
       "      <td>614.000000</td>\n",
       "      <td>614.000000</td>\n",
       "      <td>614.000000</td>\n",
       "      <td>614.000000</td>\n",
       "    </tr>\n",
       "    <tr>\n",
       "      <th>mean</th>\n",
       "      <td>0.301303</td>\n",
       "      <td>27.363192</td>\n",
       "      <td>10.268730</td>\n",
       "      <td>0.395765</td>\n",
       "      <td>0.117264</td>\n",
       "      <td>0.415309</td>\n",
       "      <td>0.630293</td>\n",
       "      <td>4557.546569</td>\n",
       "      <td>2184.938207</td>\n",
       "      <td>6792.834483</td>\n",
       "    </tr>\n",
       "    <tr>\n",
       "      <th>std</th>\n",
       "      <td>0.459198</td>\n",
       "      <td>9.881187</td>\n",
       "      <td>2.628325</td>\n",
       "      <td>0.489413</td>\n",
       "      <td>0.321997</td>\n",
       "      <td>0.493177</td>\n",
       "      <td>0.483119</td>\n",
       "      <td>6477.964479</td>\n",
       "      <td>3295.679043</td>\n",
       "      <td>7470.730792</td>\n",
       "    </tr>\n",
       "    <tr>\n",
       "      <th>min</th>\n",
       "      <td>0.000000</td>\n",
       "      <td>16.000000</td>\n",
       "      <td>0.000000</td>\n",
       "      <td>0.000000</td>\n",
       "      <td>0.000000</td>\n",
       "      <td>0.000000</td>\n",
       "      <td>0.000000</td>\n",
       "      <td>0.000000</td>\n",
       "      <td>0.000000</td>\n",
       "      <td>0.000000</td>\n",
       "    </tr>\n",
       "    <tr>\n",
       "      <th>25%</th>\n",
       "      <td>0.000000</td>\n",
       "      <td>20.000000</td>\n",
       "      <td>9.000000</td>\n",
       "      <td>0.000000</td>\n",
       "      <td>0.000000</td>\n",
       "      <td>0.000000</td>\n",
       "      <td>0.000000</td>\n",
       "      <td>0.000000</td>\n",
       "      <td>0.000000</td>\n",
       "      <td>238.283425</td>\n",
       "    </tr>\n",
       "    <tr>\n",
       "      <th>50%</th>\n",
       "      <td>0.000000</td>\n",
       "      <td>25.000000</td>\n",
       "      <td>11.000000</td>\n",
       "      <td>0.000000</td>\n",
       "      <td>0.000000</td>\n",
       "      <td>0.000000</td>\n",
       "      <td>1.000000</td>\n",
       "      <td>1042.330000</td>\n",
       "      <td>601.548400</td>\n",
       "      <td>4759.018500</td>\n",
       "    </tr>\n",
       "    <tr>\n",
       "      <th>75%</th>\n",
       "      <td>1.000000</td>\n",
       "      <td>32.000000</td>\n",
       "      <td>12.000000</td>\n",
       "      <td>1.000000</td>\n",
       "      <td>0.000000</td>\n",
       "      <td>1.000000</td>\n",
       "      <td>1.000000</td>\n",
       "      <td>7888.498250</td>\n",
       "      <td>3248.987500</td>\n",
       "      <td>10893.592500</td>\n",
       "    </tr>\n",
       "    <tr>\n",
       "      <th>max</th>\n",
       "      <td>1.000000</td>\n",
       "      <td>55.000000</td>\n",
       "      <td>18.000000</td>\n",
       "      <td>1.000000</td>\n",
       "      <td>1.000000</td>\n",
       "      <td>1.000000</td>\n",
       "      <td>1.000000</td>\n",
       "      <td>35040.070000</td>\n",
       "      <td>25142.240000</td>\n",
       "      <td>60307.930000</td>\n",
       "    </tr>\n",
       "  </tbody>\n",
       "</table>\n",
       "</div>"
      ],
      "text/plain": [
       "            treat         age        educ       black      hispan     married  \\\n",
       "count  614.000000  614.000000  614.000000  614.000000  614.000000  614.000000   \n",
       "mean     0.301303   27.363192   10.268730    0.395765    0.117264    0.415309   \n",
       "std      0.459198    9.881187    2.628325    0.489413    0.321997    0.493177   \n",
       "min      0.000000   16.000000    0.000000    0.000000    0.000000    0.000000   \n",
       "25%      0.000000   20.000000    9.000000    0.000000    0.000000    0.000000   \n",
       "50%      0.000000   25.000000   11.000000    0.000000    0.000000    0.000000   \n",
       "75%      1.000000   32.000000   12.000000    1.000000    0.000000    1.000000   \n",
       "max      1.000000   55.000000   18.000000    1.000000    1.000000    1.000000   \n",
       "\n",
       "         nodegree          re74          re75          re78  \n",
       "count  614.000000    614.000000    614.000000    614.000000  \n",
       "mean     0.630293   4557.546569   2184.938207   6792.834483  \n",
       "std      0.483119   6477.964479   3295.679043   7470.730792  \n",
       "min      0.000000      0.000000      0.000000      0.000000  \n",
       "25%      0.000000      0.000000      0.000000    238.283425  \n",
       "50%      1.000000   1042.330000    601.548400   4759.018500  \n",
       "75%      1.000000   7888.498250   3248.987500  10893.592500  \n",
       "max      1.000000  35040.070000  25142.240000  60307.930000  "
      ]
     },
     "execution_count": 4,
     "metadata": {},
     "output_type": "execute_result"
    }
   ],
   "source": [
    "# let's have an overview of the data\n",
    "lalonde_df.describe()"
   ]
  },
  {
   "cell_type": "markdown",
   "metadata": {},
   "source": [
    "**Here is the raw difference in earning between the control group and the treated group:**\n",
    "\n"
   ]
  },
  {
   "cell_type": "code",
   "execution_count": 5,
   "metadata": {},
   "outputs": [
    {
     "data": {
      "text/html": [
       "<div>\n",
       "<style scoped>\n",
       "    .dataframe tbody tr th:only-of-type {\n",
       "        vertical-align: middle;\n",
       "    }\n",
       "\n",
       "    .dataframe tbody tr th {\n",
       "        vertical-align: top;\n",
       "    }\n",
       "\n",
       "    .dataframe thead th {\n",
       "        text-align: right;\n",
       "    }\n",
       "</style>\n",
       "<table border=\"1\" class=\"dataframe\">\n",
       "  <thead>\n",
       "    <tr style=\"text-align: right;\">\n",
       "      <th></th>\n",
       "      <th>median</th>\n",
       "      <th>mean</th>\n",
       "    </tr>\n",
       "    <tr>\n",
       "      <th>treat</th>\n",
       "      <th></th>\n",
       "      <th></th>\n",
       "    </tr>\n",
       "  </thead>\n",
       "  <tbody>\n",
       "    <tr>\n",
       "      <th>0</th>\n",
       "      <td>4975.505</td>\n",
       "      <td>6984.169742</td>\n",
       "    </tr>\n",
       "    <tr>\n",
       "      <th>1</th>\n",
       "      <td>4232.309</td>\n",
       "      <td>6349.143530</td>\n",
       "    </tr>\n",
       "  </tbody>\n",
       "</table>\n",
       "</div>"
      ],
      "text/plain": [
       "         median         mean\n",
       "treat                       \n",
       "0      4975.505  6984.169742\n",
       "1      4232.309  6349.143530"
      ]
     },
     "execution_count": 5,
     "metadata": {},
     "output_type": "execute_result"
    }
   ],
   "source": [
    "lalonde_df.groupby('treat')['re78'].agg(['median','mean'])"
   ]
  },
  {
   "cell_type": "markdown",
   "metadata": {},
   "source": [
    "#### Question 1\n",
    "The control group has higher earning that the treatment group - does this mean the treatment had a negative impact?"
   ]
  },
  {
   "cell_type": "markdown",
   "metadata": {},
   "source": [
    "#### Answer Q1\n",
    "Take a look at the plot of the different income distributions:"
   ]
  },
  {
   "cell_type": "code",
   "execution_count": 6,
   "metadata": {},
   "outputs": [
    {
     "data": {
      "image/png": "[encoded data removed]",
      "text/plain": [
       "<Figure size 432x432 with 1 Axes>"
      ]
     },
     "metadata": {
      "needs_background": "light"
     },
     "output_type": "display_data"
    }
   ],
   "source": [
    "# plot income distribution for 1978\n",
    "ax, _ = lalonde_df.groupby('treat')['re78'].plot(kind='hist', \n",
    "                                         bins=20, alpha=0.8, legend=True,\n",
    "                                         figsize=(6,6))\n",
    "ax.set_xlabel(\"Earnings in 1978\");"
   ]
  },
  {
   "cell_type": "markdown",
   "metadata": {},
   "source": [
    "This dataset is not a **balanced trial**. Indeed people in the control group are very different from people in the test (treatment) group. We can also try to look for plot distribution for different covariate:\n",
    "\n",
    "* **age** - age in years.\n",
    "* **educ** - years of schooling.\n",
    "* **re74** - real earnings in 1974.\n",
    "* etc."
   ]
  },
  {
   "cell_type": "code",
   "execution_count": 7,
   "metadata": {},
   "outputs": [
    {
     "data": {
      "image/png": "[encoded data removed]",
      "text/plain": [
       "<Figure size 432x432 with 1 Axes>"
      ]
     },
     "metadata": {
      "needs_background": "light"
     },
     "output_type": "display_data"
    }
   ],
   "source": [
    "# plot income distribution for 1974\n",
    "ax, _ = lalonde_df.groupby('treat')['re74'].plot(kind='hist', \n",
    "                                              bins=20, alpha=0.8, legend=True,\n",
    "                                              figsize=(6,6))\n",
    "ax.set_xlabel(\"Earnings in 1974\");        # set title for y axis"
   ]
  },
  {
   "cell_type": "code",
   "execution_count": 8,
   "metadata": {},
   "outputs": [
    {
     "data": {
      "image/png": "[encoded data removed]",
      "text/plain": [
       "<Figure size 432x432 with 1 Axes>"
      ]
     },
     "metadata": {
      "needs_background": "light"
     },
     "output_type": "display_data"
    }
   ],
   "source": [
    "# plot age distribution\n",
    "ax, _ = lalonde_df.groupby('treat')['age'].plot(kind='hist',\n",
    "                                     bins=20, alpha=0.8, legend=True,\n",
    "                                     figsize=(6,6))\n",
    "ax.set_xlabel(\"Age\");        # set title for y axis"
   ]
  },
  {
   "cell_type": "code",
   "execution_count": 9,
   "metadata": {},
   "outputs": [
    {
     "data": {
      "image/png": "[encoded data removed]",
      "text/plain": [
       "<Figure size 432x432 with 1 Axes>"
      ]
     },
     "metadata": {
      "needs_background": "light"
     },
     "output_type": "display_data"
    }
   ],
   "source": [
    "# plot education distribution\n",
    "ax, _ = lalonde_df.groupby('treat')['educ'].plot(kind='hist',\n",
    "                                     bins=20, alpha=0.8, legend=True,\n",
    "                                     figsize=(6,6))\n",
    "ax.set_xlabel(\"Year of Schooling\");        # set title for y axis"
   ]
  },
  {
   "cell_type": "markdown",
   "metadata": {},
   "source": [
    "#### Setups dataframe\n",
    "\n",
    "Before we start our exploration on causality effect in our dataset, let's perform some simple setup.\n",
    "\n",
    "* we seperate `treat` (treatment) indicator from our dataset. We will want to use this as a target for fitting later\n",
    "* we are interested in knowing the treatment effect on `re78` (revenue/earnings in 1978)"
   ]
  },
  {
   "cell_type": "code",
   "execution_count": 10,
   "metadata": {},
   "outputs": [],
   "source": [
    "# create seperate structure for data and target \n",
    "treatment = lalonde_df['treat']\n",
    "rev78 = lalonde_df['re78']\n",
    "cleaned_df = lalonde_df.drop(['treat', 're78'], axis=1)"
   ]
  },
  {
   "cell_type": "markdown",
   "metadata": {},
   "source": [
    "### 2. Assess Balance"
   ]
  },
  {
   "cell_type": "markdown",
   "metadata": {},
   "source": [
    "Given all of these covariates and our column treatment that indicates whether the subject received the treatment or control, we wish to have a quantitative way of measuring whether our covariates are balanced between the two groups.\n",
    "\n",
    "To assess whether balance has been achieved, we can look at standardized mean differences (smd), which is calculated by the difference in the means between the two groups divided by the pooled standard deviation.\n",
    "\n",
    "$$SMD(x)=\\frac{\\bar{x}_{t}-{\\bar{x}_{c}}}{\\sqrt{\\frac{s^{2}_{t} + s^{2}_{c}}{2}}},$$\n",
    " \n",
    "Where:\n",
    "\n",
    "* $(\\bar{x}_{t}$, $\\bar{x}_{c}$) denotes the mean of that feature for the treatment and control group respectively. Note that people often times report the absolute value of this number.\n",
    "* ($s^{2}_{t}$, $s^{2}_{c}$)  denotes the standard deviation of that feature for the treatment and control group respectively. For the denominator we're essentially calculating the pooled standard deviation.\n",
    "We can calculate the standardized mean differences for every feature. If our calculated smd is 1, then that means there's a 1 standard deviation difference in means. The benefit of having standard deviation in the denominator is that this number becomes insensitive to the scale of the feature. \n",
    "\n",
    "After computing this measurement for all of our features, there is a rule of thumb that are commonly used to determine whether that feature is balanced or not, (similar to the 0.05 for p-value idea).\n",
    "\n",
    "* Smaller than  0.1 . For a randomized trial, the smd between all of the covariates should typically fall into this bucket.\n",
    "* 0.1  -  0.2 . Not necessarily balanced, but small enough that people are usually not too worried about them. Sometimes, even after performing matching, there might still be a few covariates whose smd fall under this range.\n",
    "* 0.2 . Values that are greater than this threshold are considered seriously imbalanced."
   ]
  },
  {
   "cell_type": "markdown",
   "metadata": {},
   "source": [
    "#### Question 2. \n",
    "\n",
    "Assess covariate balance across the treatment groups.\n",
    "For this, compute the absolute standardized differences in means in the covariates.\n",
    "\n",
    "Remember that when ASMDs greater than 0.2 are often considered as substantial covariate imbalances (Rosenbaum and Rubin, 1985).\n",
    "Comment on covariate balance.\n",
    "What is wrong with taking a simple (unadjusted) difference in means in the outcomes to estimate the average effect of treatment?"
   ]
  },
  {
   "cell_type": "markdown",
   "metadata": {},
   "source": [
    "#### Answer Q2\n",
    "\n",
    "Below is how we compute the ASMD (Absolute Standard Mean Difference).\n",
    "\n",
    "* We group our calculated SMD in *tableone* based on the *treatment* indicator. The resulting grouped table is usually called *table one* in the study of causality effect.  \n",
    "* We create a helper function that computes Absolute SMD from *table one*"
   ]
  },
  {
   "cell_type": "code",
   "execution_count": 11,
   "metadata": {},
   "outputs": [],
   "source": [
    "# Define params and inputs\n",
    "covariates = ['age', 'educ', 'black', 'hispan', 'married', 'nodegree', 're74', 're75']\n",
    "agg_operations = {'treat': 'count'}\n",
    "agg_operations.update({\n",
    "    feature: ['mean', 'std'] for feature in covariates\n",
    "})"
   ]
  },
  {
   "cell_type": "code",
   "execution_count": 12,
   "metadata": {},
   "outputs": [],
   "source": [
    "def compute_table_one_smd(table_one, covariates, round_digits=4):\n",
    "    feature_smds = []\n",
    "    for feature in covariates:\n",
    "        feature_table_one = table_one[feature].values\n",
    "        neg_mean = feature_table_one[0, 0]\n",
    "        neg_std = feature_table_one[0, 1]\n",
    "        pos_mean = feature_table_one[1, 0]\n",
    "        pos_std = feature_table_one[1, 1]\n",
    "\n",
    "        smd = (pos_mean - neg_mean) / np.sqrt((pos_std ** 2 + neg_std ** 2) / 2)\n",
    "        smd = round(abs(smd), round_digits)\n",
    "        feature_smds.append(smd)\n",
    "\n",
    "    return pd.DataFrame({'covariates': covariates, 'smd': feature_smds})"
   ]
  },
  {
   "cell_type": "code",
   "execution_count": 13,
   "metadata": {},
   "outputs": [
    {
     "data": {
      "text/html": [
       "<div>\n",
       "<style scoped>\n",
       "    .dataframe tbody tr th:only-of-type {\n",
       "        vertical-align: middle;\n",
       "    }\n",
       "\n",
       "    .dataframe tbody tr th {\n",
       "        vertical-align: top;\n",
       "    }\n",
       "\n",
       "    .dataframe thead th {\n",
       "        text-align: right;\n",
       "    }\n",
       "</style>\n",
       "<table border=\"1\" class=\"dataframe\">\n",
       "  <thead>\n",
       "    <tr style=\"text-align: right;\">\n",
       "      <th></th>\n",
       "      <th>covariates</th>\n",
       "      <th>smd</th>\n",
       "    </tr>\n",
       "  </thead>\n",
       "  <tbody>\n",
       "    <tr>\n",
       "      <th>0</th>\n",
       "      <td>age</td>\n",
       "      <td>0.2419</td>\n",
       "    </tr>\n",
       "    <tr>\n",
       "      <th>1</th>\n",
       "      <td>educ</td>\n",
       "      <td>0.0448</td>\n",
       "    </tr>\n",
       "    <tr>\n",
       "      <th>2</th>\n",
       "      <td>black</td>\n",
       "      <td>1.6677</td>\n",
       "    </tr>\n",
       "    <tr>\n",
       "      <th>3</th>\n",
       "      <td>hispan</td>\n",
       "      <td>0.2769</td>\n",
       "    </tr>\n",
       "    <tr>\n",
       "      <th>4</th>\n",
       "      <td>married</td>\n",
       "      <td>0.7195</td>\n",
       "    </tr>\n",
       "    <tr>\n",
       "      <th>5</th>\n",
       "      <td>nodegree</td>\n",
       "      <td>0.2350</td>\n",
       "    </tr>\n",
       "    <tr>\n",
       "      <th>6</th>\n",
       "      <td>re74</td>\n",
       "      <td>0.5958</td>\n",
       "    </tr>\n",
       "    <tr>\n",
       "      <th>7</th>\n",
       "      <td>re75</td>\n",
       "      <td>0.2870</td>\n",
       "    </tr>\n",
       "  </tbody>\n",
       "</table>\n",
       "</div>"
      ],
      "text/plain": [
       "  covariates     smd\n",
       "0        age  0.2419\n",
       "1       educ  0.0448\n",
       "2      black  1.6677\n",
       "3     hispan  0.2769\n",
       "4    married  0.7195\n",
       "5   nodegree  0.2350\n",
       "6       re74  0.5958\n",
       "7       re75  0.2870"
      ]
     },
     "execution_count": 13,
     "metadata": {},
     "output_type": "execute_result"
    }
   ],
   "source": [
    "table_one_matched = lalonde_df.groupby('treat').agg(agg_operations)\n",
    "table_one_smd_matched = compute_table_one_smd(table_one_matched, covariates)\n",
    "table_one_smd_matched"
   ]
  },
  {
   "cell_type": "markdown",
   "metadata": {},
   "source": [
    "We can observed from the ASMD table that several covariates suffer from imbalance. Recall our rule of thumb: \n",
    "* Smaller than 0.1 . For a randomized trial, the smd between all of the covariates should typically fall into this bucket.\n",
    "* 0.1  -  0.2 . Not necessarily balanced, but small enough that people are usually not too worried about them. Sometimes, even after performing matching, there might still be a few covariates whose smd fall under this range.\n",
    "* Bigger than 0.2 . Values that are greater than this threshold are considered seriously imbalanced.\n",
    "\n",
    "We see that *age*, *hispan*, *married*, *nodegree*, *re74* and *re75* covariates are those that are considered seriously imbalanced."
   ]
  },
  {
   "cell_type": "markdown",
   "metadata": {},
   "source": [
    "**Effect of Imbalance:** In addition to that, we can also calculate the raw difference. Take a look on how imbalance might affect our conclusion of how the treatment, job training program, affect the employee earnings"
   ]
  },
  {
   "cell_type": "code",
   "execution_count": 14,
   "metadata": {},
   "outputs": [
    {
     "name": "stdout",
     "output_type": "stream",
     "text": [
      "treatment count: (185, 10)\n",
      "control count: (429, 10)\n"
     ]
    }
   ],
   "source": [
    "# we seperate the dataframe based on it's \n",
    "# corresponding true label value\n",
    "mask = lalonde_df['treat'] == 1\n",
    "lalonde_treat = lalonde_df[mask]\n",
    "lalonde_notreat = lalonde_df[~mask]\n",
    "\n",
    "print('treatment count:', lalonde_treat.shape)\n",
    "print('control count:', lalonde_notreat.shape)"
   ]
  },
  {
   "cell_type": "code",
   "execution_count": 15,
   "metadata": {},
   "outputs": [
    {
     "name": "stdout",
     "output_type": "stream",
     "text": [
      "The raw difference:  -635.0262120374209\n"
     ]
    }
   ],
   "source": [
    "rev_treated_mean = lalonde_treat['re78'].mean()\n",
    "rev_notreat_mean = lalonde_notreat['re78'].mean()\n",
    "\n",
    "print(\"The raw difference: \", rev_treated_mean - rev_notreat_mean)"
   ]
  },
  {
   "cell_type": "markdown",
   "metadata": {},
   "source": [
    "Surprisingly, the treated group (trained) is earning *$635* less than the control group. Could this be true? If we apply raw difference without taking account for the imbalanced, we might come to a false conclusion."
   ]
  },
  {
   "cell_type": "markdown",
   "metadata": {},
   "source": [
    "### 3. Simple ATE Fitting with Regression"
   ]
  },
  {
   "cell_type": "markdown",
   "metadata": {},
   "source": [
    "#### Question 3.\n",
    "Estimate the average effect by using OLS regression and explaining the outcome `re78` on the treatment indicator and all the other covariates.  Comment on the robustness/validity of this procedure."
   ]
  },
  {
   "cell_type": "markdown",
   "metadata": {},
   "source": [
    "Let's look at how we can model our dataset using the simplest type of model we can use is a linear model (OLS of degree 1):\n",
    "\n",
    "$$Y_0 = \\alpha + \\beta X + \\epsilon$$\n",
    "$$Y_1 = Y_0 + \\gamma D $$\n",
    "\n",
    "If this is accurate, fitting the following model to the data using linear regression will give us an estimate of the Average Treatment Effect (ATE):\n",
    "$$Y = \\alpha + \\beta X + \\gamma D$$\n",
    "\n",
    "$\\epsilon$ is called a residual and represents the noise"
   ]
  },
  {
   "cell_type": "markdown",
   "metadata": {},
   "source": [
    "#### Answer Q3"
   ]
  },
  {
   "cell_type": "code",
   "execution_count": 16,
   "metadata": {},
   "outputs": [
    {
     "name": "stdout",
     "output_type": "stream",
     "text": [
      "                            OLS Regression Results                            \n",
      "==============================================================================\n",
      "Dep. Variable:                   re78   R-squared:                       0.148\n",
      "Model:                            OLS   Adj. R-squared:                  0.135\n",
      "Method:                 Least Squares   F-statistic:                     11.64\n",
      "Date:                Sat, 02 Nov 2019   Prob (F-statistic):           5.99e-17\n",
      "Time:                        12:28:50   Log-Likelihood:                -6297.8\n",
      "No. Observations:                 614   AIC:                         1.262e+04\n",
      "Df Residuals:                     604   BIC:                         1.266e+04\n",
      "Df Model:                           9                                         \n",
      "Covariance Type:            nonrobust                                         \n",
      "==============================================================================\n",
      "                 coef    std err          t      P>|t|      [0.025      0.975]\n",
      "------------------------------------------------------------------------------\n",
      "Intercept     66.5145   2436.746      0.027      0.978   -4719.009    4852.038\n",
      "treat       1548.2438    781.279      1.982      0.048      13.890    3082.598\n",
      "age           12.9776     32.489      0.399      0.690     -50.827      76.783\n",
      "educ         403.9412    158.906      2.542      0.011      91.865     716.017\n",
      "black      -1240.6441    768.764     -1.614      0.107   -2750.420     269.132\n",
      "hispan       498.8969    941.943      0.530      0.597   -1350.983    2348.777\n",
      "married      406.6208    695.472      0.585      0.559    -959.217    1772.458\n",
      "nodegree     259.8174    847.442      0.307      0.759   -1404.474    1924.108\n",
      "re74           0.2964      0.058      5.086      0.000       0.182       0.411\n",
      "re75           0.2315      0.105      2.213      0.027       0.026       0.437\n",
      "==============================================================================\n",
      "Omnibus:                      216.123   Durbin-Watson:                   2.009\n",
      "Prob(Omnibus):                  0.000   Jarque-Bera (JB):             1182.664\n",
      "Skew:                           1.467   Prob(JB):                    1.54e-257\n",
      "Kurtosis:                       9.134   Cond. No.                     7.64e+04\n",
      "==============================================================================\n",
      "\n",
      "Warnings:\n",
      "[1] Standard Errors assume that the covariance matrix of the errors is correctly specified.\n",
      "[2] The condition number is large, 7.64e+04. This might indicate that there are\n",
      "strong multicollinearity or other numerical problems.\n"
     ]
    }
   ],
   "source": [
    "formula = 're78 ~ treat + age + educ + black + hispan + married + nodegree + re74 + re75'\n",
    "logit_model = smf.ols(formula=formula, data=lalonde_df).fit()\n",
    "\n",
    "print(logit_model.summary())"
   ]
  },
  {
   "cell_type": "markdown",
   "metadata": {},
   "source": [
    "#### Result Interpretation:\n",
    "\n",
    "Take a look at the coefficient for `treat` (treament). This is the estimates for the treatment effect on the earnings in 1978 to the subject of treatment.\n",
    "\n",
    "**This model predicts that the Average Treatment Effect (ATE, the job training)** is *$1548* extra annual earnings. This is very different from our previous raw results predicting that the job training had negative effects on earnings!**\n",
    "\n",
    "Assuming that our model accurately describes the counterfactual X, CausalModel provides the 95% confidence interval. What this means is that, if we were to repeat this treatment experiment, in 95% of the cases the Average Treatment Effect would be within that interval. That doesn't mean that the true value is within that interval."
   ]
  },
  {
   "cell_type": "markdown",
   "metadata": {
    "collapsed": true
   },
   "source": [
    "\n",
    "Based on the assumption that the residuals are normally distributed, the 95% confidence interval is calculated as:\n",
    "$$ AVG \\pm 1.96 * STD  / \\sqrt{n}$$\n",
    "\n",
    "In practice, as the confidence interval is very large, my interpretation is that the experiment should have had more people if a better estimate of the extra earnings was desired. Ways to control the standard deviation could also be explored. \n",
    "\n",
    "Overall, assuming that we controlled for all the effects and did it well, it seems that the job training had a positive effect on earnings. Indeed, although the standard deviation is very large, the p value of 0.035 rejects the null hypothesis (no effect) with a confidence level of 97.5%. However, the truth is that we don't know if we modelled the counterfactual well, and this could change everything... As we will see later, estimators such as the Ordinary Least Square (OLS) estimator can behave poorly when there is not enough covariate overlap, and that's because the estimator needs to extrapolate too much from one group to another.\n",
    "\n",
    "**Improvement -** A more structured approach as we will see later can allow us to increase our confidence that the covariants are well controlled for. We will see many steps, but one simple idea is the technique of matching: the idea is to find for each sample which received the treatment a *similar* sample in the control group, and to directly compare these values."
   ]
  },
  {
   "cell_type": "markdown",
   "metadata": {},
   "source": [
    "### 4. Propensity Score"
   ]
  },
  {
   "cell_type": "markdown",
   "metadata": {},
   "source": [
    "**Propensity Score** - the probability of receiving the treatment, conditional on the covariates.\n",
    "\n",
    "\n",
    "We've stated during the matching procedure, each test group member is paired with a similar member of the control group. Here we'll elaborate on what we mean by \"*similar*\". Similarity is often times computed using propensity scores, which is defined as the probability of receiving treatment, rather than control, given covariates $ X$ .\n",
    "\n",
    "We'll define  $A=1$ for treatment and  $A=0$  for control. The propensity score for subject  $i$  is denoted as  πi .\n",
    "\n",
    "$$\\pi_i=P(A=1|X_i)$$\n",
    " \n",
    "As an example, if a person had a propensity score of 0.3, that would mean that given their particular covariates, there was a 30% chance that they'll receive the treatment. We can calculate this score by fitting our favorite classification algorithm to our data (input features are our covariates, and the labels are whether that person belongs to the treatment or control group).\n",
    "\n",
    "With these knowledge in mind, let's get our hands dirty with some code, we'll discuss more as we go along."
   ]
  },
  {
   "cell_type": "markdown",
   "metadata": {},
   "source": [
    "#### Question 4.\n",
    "\n",
    "**Task -** Now, estimate the **propensity score** using regression/classifier. "
   ]
  },
  {
   "cell_type": "markdown",
   "metadata": {},
   "source": [
    "As mentioned above, the propensity score itself is the probability of receiving treatment given the covariates.\n",
    "We can estimate the probability by fitting the data to a classifier and let it output probability scores of having treatment corresponding to each data point. "
   ]
  },
  {
   "cell_type": "code",
   "execution_count": 17,
   "metadata": {},
   "outputs": [],
   "source": [
    "# drop labeling (e.g NSW3) from the targets data\n",
    "targets = treatment.reset_index().drop('index', axis=1);\n",
    "X = cleaned_df.reset_index().drop('index', axis=1);"
   ]
  },
  {
   "cell_type": "markdown",
   "metadata": {},
   "source": [
    "#### 1. Logistic Regression\n",
    "Logistic Regression Logistic regression is a statistical model that in its basic form uses a logistic function to model a binary dependent variable, although many more complex extensions exist. It can be used to model the probability of a certain class or event existing such as pass/fail, win/lose, alive/dead or healthy/sick."
   ]
  },
  {
   "cell_type": "code",
   "execution_count": 18,
   "metadata": {},
   "outputs": [
    {
     "name": "stdout",
     "output_type": "stream",
     "text": [
      "Optimization terminated successfully.\n",
      "         Current function value: 0.397267\n",
      "         Iterations 7\n",
      "                           Logit Regression Results                           \n",
      "==============================================================================\n",
      "Dep. Variable:                  treat   No. Observations:                  614\n",
      "Model:                          Logit   Df Residuals:                      605\n",
      "Method:                           MLE   Df Model:                            8\n",
      "Date:                Sat, 02 Nov 2019   Pseudo R-squ.:                  0.3508\n",
      "Time:                        12:28:50   Log-Likelihood:                -243.92\n",
      "converged:                       True   LL-Null:                       -375.75\n",
      "Covariance Type:            nonrobust   LLR p-value:                 2.194e-52\n",
      "==============================================================================\n",
      "                 coef    std err          z      P>|z|      [0.025      0.975]\n",
      "------------------------------------------------------------------------------\n",
      "Intercept     -4.7286      1.017     -4.649      0.000      -6.722      -2.735\n",
      "age            0.0158      0.014      1.162      0.245      -0.011       0.042\n",
      "educ           0.1613      0.065      2.477      0.013       0.034       0.289\n",
      "black          3.0654      0.287     10.698      0.000       2.504       3.627\n",
      "hispan         0.9836      0.426      2.311      0.021       0.149       1.818\n",
      "married       -0.8321      0.290     -2.866      0.004      -1.401      -0.263\n",
      "nodegree       0.7073      0.338      2.095      0.036       0.045       1.369\n",
      "re74       -7.178e-05   2.87e-05     -2.497      0.013      -0.000   -1.54e-05\n",
      "re75        5.345e-05   4.63e-05      1.153      0.249   -3.74e-05       0.000\n",
      "==============================================================================\n"
     ]
    }
   ],
   "source": [
    "formula = 'treat ~ age + educ + black + hispan + married + nodegree + re74 + re75'\n",
    "logit_model = smf.logit(formula=formula, data=lalonde_df).fit()\n",
    "\n",
    "print(logit_model.summary())"
   ]
  },
  {
   "cell_type": "markdown",
   "metadata": {},
   "source": [
    "#### 2. Generalized Linear Model"
   ]
  },
  {
   "cell_type": "code",
   "execution_count": 19,
   "metadata": {},
   "outputs": [
    {
     "data": {
      "text/html": [
       "<table class=\"simpletable\">\n",
       "<caption>Generalized Linear Model Regression Results</caption>\n",
       "<tr>\n",
       "  <th>Dep. Variable:</th>         <td>treat</td>      <th>  No. Observations:  </th>  <td>   614</td> \n",
       "</tr>\n",
       "<tr>\n",
       "  <th>Model:</th>                  <td>GLM</td>       <th>  Df Residuals:      </th>  <td>   605</td> \n",
       "</tr>\n",
       "<tr>\n",
       "  <th>Model Family:</th>        <td>Binomial</td>     <th>  Df Model:          </th>  <td>     8</td> \n",
       "</tr>\n",
       "<tr>\n",
       "  <th>Link Function:</th>         <td>logit</td>      <th>  Scale:             </th> <td>  1.0000</td>\n",
       "</tr>\n",
       "<tr>\n",
       "  <th>Method:</th>                <td>IRLS</td>       <th>  Log-Likelihood:    </th> <td> -243.92</td>\n",
       "</tr>\n",
       "<tr>\n",
       "  <th>Date:</th>            <td>Sat, 02 Nov 2019</td> <th>  Deviance:          </th> <td>  487.84</td>\n",
       "</tr>\n",
       "<tr>\n",
       "  <th>Time:</th>                <td>12:28:50</td>     <th>  Pearson chi2:      </th>  <td>  556.</td> \n",
       "</tr>\n",
       "<tr>\n",
       "  <th>No. Iterations:</th>          <td>6</td>        <th>                     </th>     <td> </td>   \n",
       "</tr>\n",
       "<tr>\n",
       "  <th>Covariance Type:</th>     <td>nonrobust</td>    <th>                     </th>     <td> </td>   \n",
       "</tr>\n",
       "</table>\n",
       "<table class=\"simpletable\">\n",
       "<tr>\n",
       "      <td></td>         <th>coef</th>     <th>std err</th>      <th>z</th>      <th>P>|z|</th>  <th>[0.025</th>    <th>0.975]</th>  \n",
       "</tr>\n",
       "<tr>\n",
       "  <th>Intercept</th> <td>   -4.7286</td> <td>    1.017</td> <td>   -4.649</td> <td> 0.000</td> <td>   -6.722</td> <td>   -2.735</td>\n",
       "</tr>\n",
       "<tr>\n",
       "  <th>age</th>       <td>    0.0158</td> <td>    0.014</td> <td>    1.162</td> <td> 0.245</td> <td>   -0.011</td> <td>    0.042</td>\n",
       "</tr>\n",
       "<tr>\n",
       "  <th>educ</th>      <td>    0.1613</td> <td>    0.065</td> <td>    2.477</td> <td> 0.013</td> <td>    0.034</td> <td>    0.289</td>\n",
       "</tr>\n",
       "<tr>\n",
       "  <th>black</th>     <td>    3.0654</td> <td>    0.287</td> <td>   10.698</td> <td> 0.000</td> <td>    2.504</td> <td>    3.627</td>\n",
       "</tr>\n",
       "<tr>\n",
       "  <th>hispan</th>    <td>    0.9836</td> <td>    0.426</td> <td>    2.311</td> <td> 0.021</td> <td>    0.149</td> <td>    1.818</td>\n",
       "</tr>\n",
       "<tr>\n",
       "  <th>married</th>   <td>   -0.8321</td> <td>    0.290</td> <td>   -2.866</td> <td> 0.004</td> <td>   -1.401</td> <td>   -0.263</td>\n",
       "</tr>\n",
       "<tr>\n",
       "  <th>nodegree</th>  <td>    0.7073</td> <td>    0.338</td> <td>    2.095</td> <td> 0.036</td> <td>    0.045</td> <td>    1.369</td>\n",
       "</tr>\n",
       "<tr>\n",
       "  <th>re74</th>      <td>-7.178e-05</td> <td> 2.87e-05</td> <td>   -2.497</td> <td> 0.013</td> <td>   -0.000</td> <td>-1.54e-05</td>\n",
       "</tr>\n",
       "<tr>\n",
       "  <th>re75</th>      <td> 5.345e-05</td> <td> 4.63e-05</td> <td>    1.153</td> <td> 0.249</td> <td>-3.74e-05</td> <td>    0.000</td>\n",
       "</tr>\n",
       "</table>"
      ],
      "text/plain": [
       "<class 'statsmodels.iolib.summary.Summary'>\n",
       "\"\"\"\n",
       "                 Generalized Linear Model Regression Results                  \n",
       "==============================================================================\n",
       "Dep. Variable:                  treat   No. Observations:                  614\n",
       "Model:                            GLM   Df Residuals:                      605\n",
       "Model Family:                Binomial   Df Model:                            8\n",
       "Link Function:                  logit   Scale:                          1.0000\n",
       "Method:                          IRLS   Log-Likelihood:                -243.92\n",
       "Date:                Sat, 02 Nov 2019   Deviance:                       487.84\n",
       "Time:                        12:28:50   Pearson chi2:                     556.\n",
       "No. Iterations:                     6                                         \n",
       "Covariance Type:            nonrobust                                         \n",
       "==============================================================================\n",
       "                 coef    std err          z      P>|z|      [0.025      0.975]\n",
       "------------------------------------------------------------------------------\n",
       "Intercept     -4.7286      1.017     -4.649      0.000      -6.722      -2.735\n",
       "age            0.0158      0.014      1.162      0.245      -0.011       0.042\n",
       "educ           0.1613      0.065      2.477      0.013       0.034       0.289\n",
       "black          3.0654      0.287     10.698      0.000       2.504       3.627\n",
       "hispan         0.9836      0.426      2.311      0.021       0.149       1.818\n",
       "married       -0.8321      0.290     -2.866      0.004      -1.401      -0.263\n",
       "nodegree       0.7073      0.338      2.095      0.036       0.045       1.369\n",
       "re74       -7.178e-05   2.87e-05     -2.497      0.013      -0.000   -1.54e-05\n",
       "re75        5.345e-05   4.63e-05      1.153      0.249   -3.74e-05       0.000\n",
       "==============================================================================\n",
       "\"\"\""
      ]
     },
     "execution_count": 19,
     "metadata": {},
     "output_type": "execute_result"
    }
   ],
   "source": [
    "formula = 'treat ~ age + educ + black + hispan + married + nodegree + re74 + re75'\n",
    "glm_model = smf.glm(formula=formula, data=lalonde_df, family=sm.families.Binomial()).fit()\n",
    "glm_model.summary()"
   ]
  },
  {
   "cell_type": "markdown",
   "metadata": {},
   "source": [
    "#### 3. Gaussian Process Classifier"
   ]
  },
  {
   "cell_type": "code",
   "execution_count": null,
   "metadata": {},
   "outputs": [],
   "source": [
    "from sklearn.preprocessing import StandardScaler\n",
    "X = StandardScaler().fit_transform(X)"
   ]
  },
  {
   "cell_type": "code",
   "execution_count": null,
   "metadata": {},
   "outputs": [],
   "source": [
    "from sklearn.gaussian_process import GaussianProcessClassifier\n",
    "from sklearn.gaussian_process.kernels import RBF\n",
    "\n",
    "gp_model = GaussianProcessClassifier(1.0 * RBF(1.0))\n",
    "gp_model.fit(X, targets)\n",
    "gp_model.score(X, targets)"
   ]
  },
  {
   "cell_type": "markdown",
   "metadata": {},
   "source": [
    "#### 4. Support Vector Machine Classifier"
   ]
  },
  {
   "cell_type": "code",
   "execution_count": null,
   "metadata": {},
   "outputs": [],
   "source": [
    "from sklearn.svm import SVC\n",
    "\n",
    "svc_model = SVC(kernel=\"linear\", C=0.0025, probability=True)\n",
    "svc_model.fit(X, targets);"
   ]
  },
  {
   "cell_type": "code",
   "execution_count": null,
   "metadata": {},
   "outputs": [],
   "source": [
    "svc_model.coef_[0]"
   ]
  },
  {
   "cell_type": "code",
   "execution_count": null,
   "metadata": {},
   "outputs": [],
   "source": [
    "svc_model.intercept_"
   ]
  },
  {
   "cell_type": "markdown",
   "metadata": {},
   "source": [
    "### 5. Evaluating Propensity Score"
   ]
  },
  {
   "cell_type": "markdown",
   "metadata": {},
   "source": [
    "#### Question 5.\n",
    "\n",
    "Assess overlap on the estimated propensity score.  Provide summary statistics and boxplots for the estimated propensity scores for treated and control subjects. Interpret the results."
   ]
  },
  {
   "cell_type": "code",
   "execution_count": 20,
   "metadata": {},
   "outputs": [],
   "source": [
    "# create probabilistic (soft) prediction on target (treament)\n",
    "pscore = glm_model.predict()"
   ]
  },
  {
   "cell_type": "code",
   "execution_count": 21,
   "metadata": {},
   "outputs": [
    {
     "name": "stdout",
     "output_type": "stream",
     "text": [
      "treatment count: (185,)\n",
      "control count: (429,)\n"
     ]
    }
   ],
   "source": [
    "# we seperate the pscore based on it's \n",
    "# corresponding true label value\n",
    "mask = targets.squeeze() == 1\n",
    "pos_pscore = pscore[mask]\n",
    "neg_pscore = pscore[~mask]\n",
    "\n",
    "print('treatment count:', pos_pscore.shape)\n",
    "print('control count:', neg_pscore.shape)"
   ]
  },
  {
   "cell_type": "code",
   "execution_count": 25,
   "metadata": {},
   "outputs": [
    {
     "data": {
      "image/png": "[encoded data removed]",
      "text/plain": [
       "<Figure size 720x432 with 1 Axes>"
      ]
     },
     "metadata": {
      "needs_background": "light"
     },
     "output_type": "display_data"
    }
   ],
   "source": [
    "boxplot_df = pd.DataFrame({'pscore': pscore, 'treat': targets.squeeze()})\n",
    "\n",
    "# plot boxplot\n",
    "plt.figure(figsize=(10, 6))\n",
    "sns.boxplot(x='treat', y='pscore', data=boxplot_df);\n",
    "plt.ylabel('Propensity Score');\n",
    "plt.xlabel('Treament');"
   ]
  },
  {
   "cell_type": "markdown",
   "metadata": {},
   "source": [
    "Looking at the plot below, we can see that our features,  X , does in fact contain information about the user receiving treatment. The distributional difference between the propensity scores for the two group justifies the need for matching, since they are not directly comparable otherwise.\n",
    "\n",
    "Although, there's a distributional difference in the density plot, but in this case, what we see is that there's overlap everywhere, so this is actually the kind of plot we would like to see if we're going to do propensity score matching. What we mean by overlap is that no matter where we look on the plot, even though there might be more control than treatment or vice versa, there will still be some subject from either group. The notion of overlap means that our positivity assumption is probably reasonable. Remember positivity refers to the situation where all of the subjects in the study have at least some chance of receiving either treatment. And that appears to be the case here, hence this would be a situation where we would feel comfortable to proceed with our propensity score matching."
   ]
  },
  {
   "cell_type": "code",
   "execution_count": 26,
   "metadata": {},
   "outputs": [
    {
     "data": {
      "image/png": "[encoded data removed]",
      "text/plain": [
       "<Figure size 576x432 with 1 Axes>"
      ]
     },
     "metadata": {
      "needs_background": "light"
     },
     "output_type": "display_data"
    }
   ],
   "source": [
    "# change default style figure and font size\n",
    "plt.rcParams['figure.figsize'] = 8, 6\n",
    "plt.rcParams['font.size'] = 12\n",
    "\n",
    "sns.distplot(neg_pscore, label='control')\n",
    "sns.distplot(pos_pscore, label='treatment')\n",
    "plt.xlim(0, 1)\n",
    "plt.title('Propensity Score Distribution of Control vs Treatment')\n",
    "plt.ylabel('Density')\n",
    "plt.xlabel('Scores')\n",
    "plt.legend()\n",
    "plt.tight_layout()\n",
    "plt.show()"
   ]
  },
  {
   "cell_type": "markdown",
   "metadata": {},
   "source": [
    "### 6. Matching Estimator\n",
    "\n",
    "Matching is a method that attempts to control for confounding and make an observational study more like a randomized trial. The main idea is to match individuals in the treated group  $A=1 $ to similar individuals in the control group  $A=0$  on the covariates  $X$ . This is similar to the notion of estimating the causal effect of the treatment on the treated.\n",
    "\n",
    "e.g. Say there is only 1 covariate that we care about, *age*. Then, in a randomized trial, for any particular age, there should be about the same number of treated and untreated people. In the cases where older people are more likely to get  $A=1 $, if we were to match treated people to control people of the same age, there will be about the same number of treated and controls at any age.\n",
    "\n",
    "Once the data are matched, we can treat it as if it was a randomized trial. The advantage of this approach is that it can help reveal lack of overlap in covariate distribution.\n",
    "\n",
    "Caveat is that we can't exactly match on the full set of covariates, so what we'll do is try and make sure the distribution of covariates is balanced between the groups, also referred to as stochastic balance (The distribution of confounders being similar for treated and untreated subjects)."
   ]
  },
  {
   "cell_type": "markdown",
   "metadata": {},
   "source": [
    "#### Question 6\n",
    "\n",
    "**Task -** Match treated and control subjects using neareast neighbor matching on the estimated propensity score."
   ]
  },
  {
   "cell_type": "markdown",
   "metadata": {},
   "source": [
    "#### Answer Q6"
   ]
  },
  {
   "cell_type": "code",
   "execution_count": 27,
   "metadata": {},
   "outputs": [],
   "source": [
    "# Define params and inputs\n",
    "mask = lalonde_df['treat'] == 1\n",
    "covariates = ['age', 'educ', 'black', 'hispan', 'married', 'nodegree', 're74', 're75']\n",
    "agg_operations = {'treat': 'count'}\n",
    "agg_operations.update({\n",
    "    feature: ['mean', 'std'] for feature in covariates\n",
    "})"
   ]
  },
  {
   "cell_type": "code",
   "execution_count": 28,
   "metadata": {},
   "outputs": [],
   "source": [
    "from sklearn.neighbors import NearestNeighbors\n",
    "\n",
    "# Helper function that uses K-NN algorithm to calculate \n",
    "# similarity distance and get the similarity indices for matching\n",
    "def get_similar(pos_pscore, neg_pscore, topn=5, n_jobs=1):\n",
    "    knn = NearestNeighbors(n_neighbors=topn + 1, metric='euclidean', n_jobs=n_jobs)\n",
    "    knn.fit(neg_pscore.reshape(-1, 1))\n",
    "    \n",
    "    distances, indices = knn.kneighbors(pos_pscore.reshape(-1, 1))\n",
    "    sim_distances = distances[:, 1:]\n",
    "    sim_indices = indices[:, 1:]\n",
    "\n",
    "    return sim_distances, sim_indices"
   ]
  },
  {
   "cell_type": "code",
   "execution_count": 29,
   "metadata": {},
   "outputs": [],
   "source": [
    "sim_distances, sim_indices = get_similar(pos_pscore, neg_pscore, topn=1)"
   ]
  },
  {
   "cell_type": "code",
   "execution_count": 30,
   "metadata": {},
   "outputs": [
    {
     "name": "stdout",
     "output_type": "stream",
     "text": [
      "Number of matched pairs:  185\n"
     ]
    },
    {
     "data": {
      "text/html": [
       "<div>\n",
       "<style scoped>\n",
       "    .dataframe tbody tr th:only-of-type {\n",
       "        vertical-align: middle;\n",
       "    }\n",
       "\n",
       "    .dataframe tbody tr th {\n",
       "        vertical-align: top;\n",
       "    }\n",
       "\n",
       "    .dataframe thead th {\n",
       "        text-align: right;\n",
       "    }\n",
       "</style>\n",
       "<table border=\"1\" class=\"dataframe\">\n",
       "  <thead>\n",
       "    <tr style=\"text-align: right;\">\n",
       "      <th></th>\n",
       "      <th>treat_x</th>\n",
       "      <th>age_x</th>\n",
       "      <th>educ_x</th>\n",
       "      <th>black_x</th>\n",
       "      <th>hispan_x</th>\n",
       "      <th>married_x</th>\n",
       "      <th>nodegree_x</th>\n",
       "      <th>re74_x</th>\n",
       "      <th>re75_x</th>\n",
       "      <th>re78_x</th>\n",
       "      <th>treat_y</th>\n",
       "      <th>age_y</th>\n",
       "      <th>educ_y</th>\n",
       "      <th>black_y</th>\n",
       "      <th>hispan_y</th>\n",
       "      <th>married_y</th>\n",
       "      <th>nodegree_y</th>\n",
       "      <th>re74_y</th>\n",
       "      <th>re75_y</th>\n",
       "      <th>re78_y</th>\n",
       "    </tr>\n",
       "  </thead>\n",
       "  <tbody>\n",
       "    <tr>\n",
       "      <th>0</th>\n",
       "      <td>1</td>\n",
       "      <td>37</td>\n",
       "      <td>11</td>\n",
       "      <td>1</td>\n",
       "      <td>0</td>\n",
       "      <td>1</td>\n",
       "      <td>1</td>\n",
       "      <td>0.00</td>\n",
       "      <td>0.00</td>\n",
       "      <td>9930.0460</td>\n",
       "      <td>0</td>\n",
       "      <td>55</td>\n",
       "      <td>4</td>\n",
       "      <td>1</td>\n",
       "      <td>0</td>\n",
       "      <td>0</td>\n",
       "      <td>1</td>\n",
       "      <td>0.0000</td>\n",
       "      <td>0.0000</td>\n",
       "      <td>0.00000</td>\n",
       "    </tr>\n",
       "    <tr>\n",
       "      <th>1</th>\n",
       "      <td>1</td>\n",
       "      <td>22</td>\n",
       "      <td>9</td>\n",
       "      <td>0</td>\n",
       "      <td>1</td>\n",
       "      <td>0</td>\n",
       "      <td>1</td>\n",
       "      <td>0.00</td>\n",
       "      <td>0.00</td>\n",
       "      <td>3595.8940</td>\n",
       "      <td>0</td>\n",
       "      <td>26</td>\n",
       "      <td>8</td>\n",
       "      <td>0</td>\n",
       "      <td>1</td>\n",
       "      <td>0</td>\n",
       "      <td>1</td>\n",
       "      <td>3168.1340</td>\n",
       "      <td>5872.2580</td>\n",
       "      <td>11136.15000</td>\n",
       "    </tr>\n",
       "    <tr>\n",
       "      <th>2</th>\n",
       "      <td>1</td>\n",
       "      <td>30</td>\n",
       "      <td>12</td>\n",
       "      <td>1</td>\n",
       "      <td>0</td>\n",
       "      <td>0</td>\n",
       "      <td>0</td>\n",
       "      <td>0.00</td>\n",
       "      <td>0.00</td>\n",
       "      <td>24909.4500</td>\n",
       "      <td>0</td>\n",
       "      <td>26</td>\n",
       "      <td>12</td>\n",
       "      <td>1</td>\n",
       "      <td>0</td>\n",
       "      <td>0</td>\n",
       "      <td>0</td>\n",
       "      <td>0.0000</td>\n",
       "      <td>1448.3710</td>\n",
       "      <td>0.00000</td>\n",
       "    </tr>\n",
       "    <tr>\n",
       "      <th>3</th>\n",
       "      <td>1</td>\n",
       "      <td>27</td>\n",
       "      <td>11</td>\n",
       "      <td>1</td>\n",
       "      <td>0</td>\n",
       "      <td>0</td>\n",
       "      <td>1</td>\n",
       "      <td>0.00</td>\n",
       "      <td>0.00</td>\n",
       "      <td>7506.1460</td>\n",
       "      <td>0</td>\n",
       "      <td>18</td>\n",
       "      <td>11</td>\n",
       "      <td>1</td>\n",
       "      <td>0</td>\n",
       "      <td>0</td>\n",
       "      <td>1</td>\n",
       "      <td>0.0000</td>\n",
       "      <td>1367.8060</td>\n",
       "      <td>33.98771</td>\n",
       "    </tr>\n",
       "    <tr>\n",
       "      <th>4</th>\n",
       "      <td>1</td>\n",
       "      <td>33</td>\n",
       "      <td>8</td>\n",
       "      <td>1</td>\n",
       "      <td>0</td>\n",
       "      <td>0</td>\n",
       "      <td>1</td>\n",
       "      <td>0.00</td>\n",
       "      <td>0.00</td>\n",
       "      <td>289.7899</td>\n",
       "      <td>0</td>\n",
       "      <td>19</td>\n",
       "      <td>11</td>\n",
       "      <td>1</td>\n",
       "      <td>0</td>\n",
       "      <td>0</td>\n",
       "      <td>1</td>\n",
       "      <td>5607.4220</td>\n",
       "      <td>3054.2900</td>\n",
       "      <td>94.57450</td>\n",
       "    </tr>\n",
       "    <tr>\n",
       "      <th>...</th>\n",
       "      <td>...</td>\n",
       "      <td>...</td>\n",
       "      <td>...</td>\n",
       "      <td>...</td>\n",
       "      <td>...</td>\n",
       "      <td>...</td>\n",
       "      <td>...</td>\n",
       "      <td>...</td>\n",
       "      <td>...</td>\n",
       "      <td>...</td>\n",
       "      <td>...</td>\n",
       "      <td>...</td>\n",
       "      <td>...</td>\n",
       "      <td>...</td>\n",
       "      <td>...</td>\n",
       "      <td>...</td>\n",
       "      <td>...</td>\n",
       "      <td>...</td>\n",
       "      <td>...</td>\n",
       "      <td>...</td>\n",
       "    </tr>\n",
       "    <tr>\n",
       "      <th>180</th>\n",
       "      <td>1</td>\n",
       "      <td>33</td>\n",
       "      <td>12</td>\n",
       "      <td>1</td>\n",
       "      <td>0</td>\n",
       "      <td>1</td>\n",
       "      <td>0</td>\n",
       "      <td>20279.95</td>\n",
       "      <td>10941.35</td>\n",
       "      <td>15952.6000</td>\n",
       "      <td>0</td>\n",
       "      <td>17</td>\n",
       "      <td>11</td>\n",
       "      <td>0</td>\n",
       "      <td>1</td>\n",
       "      <td>0</td>\n",
       "      <td>1</td>\n",
       "      <td>0.0000</td>\n",
       "      <td>873.6774</td>\n",
       "      <td>7759.54200</td>\n",
       "    </tr>\n",
       "    <tr>\n",
       "      <th>181</th>\n",
       "      <td>1</td>\n",
       "      <td>25</td>\n",
       "      <td>14</td>\n",
       "      <td>1</td>\n",
       "      <td>0</td>\n",
       "      <td>1</td>\n",
       "      <td>0</td>\n",
       "      <td>35040.07</td>\n",
       "      <td>11536.57</td>\n",
       "      <td>36646.9500</td>\n",
       "      <td>0</td>\n",
       "      <td>32</td>\n",
       "      <td>15</td>\n",
       "      <td>0</td>\n",
       "      <td>0</td>\n",
       "      <td>0</td>\n",
       "      <td>0</td>\n",
       "      <td>489.8167</td>\n",
       "      <td>968.5645</td>\n",
       "      <td>7684.17800</td>\n",
       "    </tr>\n",
       "    <tr>\n",
       "      <th>182</th>\n",
       "      <td>1</td>\n",
       "      <td>35</td>\n",
       "      <td>9</td>\n",
       "      <td>1</td>\n",
       "      <td>0</td>\n",
       "      <td>1</td>\n",
       "      <td>1</td>\n",
       "      <td>13602.43</td>\n",
       "      <td>13830.64</td>\n",
       "      <td>12803.9700</td>\n",
       "      <td>0</td>\n",
       "      <td>52</td>\n",
       "      <td>8</td>\n",
       "      <td>1</td>\n",
       "      <td>0</td>\n",
       "      <td>1</td>\n",
       "      <td>1</td>\n",
       "      <td>5454.5990</td>\n",
       "      <td>666.0000</td>\n",
       "      <td>0.00000</td>\n",
       "    </tr>\n",
       "    <tr>\n",
       "      <th>183</th>\n",
       "      <td>1</td>\n",
       "      <td>35</td>\n",
       "      <td>8</td>\n",
       "      <td>1</td>\n",
       "      <td>0</td>\n",
       "      <td>1</td>\n",
       "      <td>1</td>\n",
       "      <td>13732.07</td>\n",
       "      <td>17976.15</td>\n",
       "      <td>3786.6280</td>\n",
       "      <td>0</td>\n",
       "      <td>47</td>\n",
       "      <td>10</td>\n",
       "      <td>1</td>\n",
       "      <td>0</td>\n",
       "      <td>0</td>\n",
       "      <td>1</td>\n",
       "      <td>21918.3200</td>\n",
       "      <td>4323.6290</td>\n",
       "      <td>19438.02000</td>\n",
       "    </tr>\n",
       "    <tr>\n",
       "      <th>184</th>\n",
       "      <td>1</td>\n",
       "      <td>33</td>\n",
       "      <td>11</td>\n",
       "      <td>1</td>\n",
       "      <td>0</td>\n",
       "      <td>1</td>\n",
       "      <td>1</td>\n",
       "      <td>14660.71</td>\n",
       "      <td>25142.24</td>\n",
       "      <td>4181.9420</td>\n",
       "      <td>0</td>\n",
       "      <td>18</td>\n",
       "      <td>9</td>\n",
       "      <td>1</td>\n",
       "      <td>0</td>\n",
       "      <td>0</td>\n",
       "      <td>1</td>\n",
       "      <td>1183.3970</td>\n",
       "      <td>1822.5480</td>\n",
       "      <td>803.88330</td>\n",
       "    </tr>\n",
       "  </tbody>\n",
       "</table>\n",
       "<p>185 rows × 20 columns</p>\n",
       "</div>"
      ],
      "text/plain": [
       "     treat_x  age_x  educ_x  black_x  hispan_x  married_x  nodegree_x  \\\n",
       "0          1     37      11        1         0          1           1   \n",
       "1          1     22       9        0         1          0           1   \n",
       "2          1     30      12        1         0          0           0   \n",
       "3          1     27      11        1         0          0           1   \n",
       "4          1     33       8        1         0          0           1   \n",
       "..       ...    ...     ...      ...       ...        ...         ...   \n",
       "180        1     33      12        1         0          1           0   \n",
       "181        1     25      14        1         0          1           0   \n",
       "182        1     35       9        1         0          1           1   \n",
       "183        1     35       8        1         0          1           1   \n",
       "184        1     33      11        1         0          1           1   \n",
       "\n",
       "       re74_x    re75_x      re78_x  treat_y  age_y  educ_y  black_y  \\\n",
       "0        0.00      0.00   9930.0460        0     55       4        1   \n",
       "1        0.00      0.00   3595.8940        0     26       8        0   \n",
       "2        0.00      0.00  24909.4500        0     26      12        1   \n",
       "3        0.00      0.00   7506.1460        0     18      11        1   \n",
       "4        0.00      0.00    289.7899        0     19      11        1   \n",
       "..        ...       ...         ...      ...    ...     ...      ...   \n",
       "180  20279.95  10941.35  15952.6000        0     17      11        0   \n",
       "181  35040.07  11536.57  36646.9500        0     32      15        0   \n",
       "182  13602.43  13830.64  12803.9700        0     52       8        1   \n",
       "183  13732.07  17976.15   3786.6280        0     47      10        1   \n",
       "184  14660.71  25142.24   4181.9420        0     18       9        1   \n",
       "\n",
       "     hispan_y  married_y  nodegree_y      re74_y     re75_y       re78_y  \n",
       "0           0          0           1      0.0000     0.0000      0.00000  \n",
       "1           1          0           1   3168.1340  5872.2580  11136.15000  \n",
       "2           0          0           0      0.0000  1448.3710      0.00000  \n",
       "3           0          0           1      0.0000  1367.8060     33.98771  \n",
       "4           0          0           1   5607.4220  3054.2900     94.57450  \n",
       "..        ...        ...         ...         ...        ...          ...  \n",
       "180         1          0           1      0.0000   873.6774   7759.54200  \n",
       "181         0          0           0    489.8167   968.5645   7684.17800  \n",
       "182         0          1           1   5454.5990   666.0000      0.00000  \n",
       "183         0          0           1  21918.3200  4323.6290  19438.02000  \n",
       "184         0          0           1   1183.3970  1822.5480    803.88330  \n",
       "\n",
       "[185 rows x 20 columns]"
      ]
     },
     "execution_count": 30,
     "metadata": {},
     "output_type": "execute_result"
    }
   ],
   "source": [
    "# Display matching table\n",
    "df_pos = lalonde_df[mask]\n",
    "df_neg = lalonde_df[~mask].iloc[sim_indices[:, 0]]\n",
    "df_matched = (df_pos.reset_index(drop=True)\n",
    "              .merge(df_neg.reset_index(drop=True), \n",
    "                     left_index=True, \n",
    "                     right_index=True))\n",
    "\n",
    "num_matched_pairs = df_neg.shape[0]\n",
    "\n",
    "print('Number of matched pairs: ', num_matched_pairs)\n",
    "df_matched"
   ]
  },
  {
   "cell_type": "markdown",
   "metadata": {},
   "source": [
    "#### Question 7."
   ]
  },
  {
   "cell_type": "markdown",
   "metadata": {},
   "source": [
    "Assess covariate balance after matching.  For this, compute the absolute standardized differences in means in the covariates after matching (Rosenbaum and Rubin, 1985), $$ASMD_a(x)=\\frac{\\bar{x}_{t,a}-{\\bar{x}_{c,a}}}{\\sqrt{\\frac{s^{2}_{t,b} + s^{2}_{c,b}}{2}}},$$\n",
    "where $\\bar{x}_{t,a}$ and $\\bar{x}_{c,a}$ are, respectively, the means of covariate $x$ in the treatment and control groups after matching, and $s^{2}_{t,b}$ and $s^{2}_{c,b}$ are, correspongdingly, the sample variances treatment and control groups before matching. \n",
    "(One reason to use the sample variances before matching rather than the sample variances after matching is to free the comparisons of the means after matching from simultaneous changes in the variances.)\n",
    "Comment on covariate balance."
   ]
  },
  {
   "cell_type": "markdown",
   "metadata": {},
   "source": [
    "**Answer -** Now, you notice that the formula for ASMD is exact replica of the one at the top when we calculate the ASMD before we do any matching. Now let's reuse the function `comput_table_one_smd()` we have from the above and see how matching can improve our dataset from imbalanced."
   ]
  },
  {
   "cell_type": "code",
   "execution_count": 31,
   "metadata": {},
   "outputs": [
    {
     "data": {
      "text/html": [
       "<div>\n",
       "<style scoped>\n",
       "    .dataframe tbody tr th:only-of-type {\n",
       "        vertical-align: middle;\n",
       "    }\n",
       "\n",
       "    .dataframe tbody tr th {\n",
       "        vertical-align: top;\n",
       "    }\n",
       "\n",
       "    .dataframe thead th {\n",
       "        text-align: right;\n",
       "    }\n",
       "</style>\n",
       "<table border=\"1\" class=\"dataframe\">\n",
       "  <thead>\n",
       "    <tr style=\"text-align: right;\">\n",
       "      <th></th>\n",
       "      <th>covariates</th>\n",
       "      <th>smd</th>\n",
       "    </tr>\n",
       "  </thead>\n",
       "  <tbody>\n",
       "    <tr>\n",
       "      <th>0</th>\n",
       "      <td>age</td>\n",
       "      <td>0.0234</td>\n",
       "    </tr>\n",
       "    <tr>\n",
       "      <th>1</th>\n",
       "      <td>educ</td>\n",
       "      <td>0.0965</td>\n",
       "    </tr>\n",
       "    <tr>\n",
       "      <th>2</th>\n",
       "      <td>black</td>\n",
       "      <td>0.0147</td>\n",
       "    </tr>\n",
       "    <tr>\n",
       "      <th>3</th>\n",
       "      <td>hispan</td>\n",
       "      <td>0.0438</td>\n",
       "    </tr>\n",
       "    <tr>\n",
       "      <th>4</th>\n",
       "      <td>married</td>\n",
       "      <td>0.1157</td>\n",
       "    </tr>\n",
       "    <tr>\n",
       "      <th>5</th>\n",
       "      <td>nodegree</td>\n",
       "      <td>0.1098</td>\n",
       "    </tr>\n",
       "    <tr>\n",
       "      <th>6</th>\n",
       "      <td>re74</td>\n",
       "      <td>0.0700</td>\n",
       "    </tr>\n",
       "    <tr>\n",
       "      <th>7</th>\n",
       "      <td>re75</td>\n",
       "      <td>0.0576</td>\n",
       "    </tr>\n",
       "  </tbody>\n",
       "</table>\n",
       "</div>"
      ],
      "text/plain": [
       "  covariates     smd\n",
       "0        age  0.0234\n",
       "1       educ  0.0965\n",
       "2      black  0.0147\n",
       "3     hispan  0.0438\n",
       "4    married  0.1157\n",
       "5   nodegree  0.1098\n",
       "6       re74  0.0700\n",
       "7       re75  0.0576"
      ]
     },
     "execution_count": 31,
     "metadata": {},
     "output_type": "execute_result"
    }
   ],
   "source": [
    "# Create matching table\n",
    "df_pos = lalonde_df[mask]\n",
    "df_neg = lalonde_df[~mask].iloc[sim_indices[:, 0]]\n",
    "df_matched = pd.concat([df_pos, df_neg], axis=0) # this time we join by axis-0\n",
    "\n",
    "# Calculate Rosenbaum ASMD\n",
    "table_one_matched = df_matched.groupby('treat').agg(agg_operations)\n",
    "table_one_smd_matched = compute_table_one_smd(table_one_matched, covariates)\n",
    "\n",
    "table_one_smd_matched"
   ]
  },
  {
   "cell_type": "markdown",
   "metadata": {},
   "source": [
    "### Question 8.\n",
    "\n",
    "Estimate the average effect of treatment on the treated after matching.  Is this a good estimate?"
   ]
  },
  {
   "cell_type": "code",
   "execution_count": 32,
   "metadata": {},
   "outputs": [
    {
     "name": "stdout",
     "output_type": "stream",
     "text": [
      "The statistic of t-test: 1.832064848129813\n",
      "The p-value of t-test: 0.06855839639919913\n"
     ]
    }
   ],
   "source": [
    "# pair t-test\n",
    "ttest = scipy.stats.ttest_rel(df_pos['re78'].values, df_neg['re78'].values)\n",
    "\n",
    "print(\"The statistic of t-test:\", ttest.statistic)\n",
    "print(\"The p-value of t-test:\", ttest.pvalue)"
   ]
  },
  {
   "cell_type": "markdown",
   "metadata": {},
   "source": [
    "This result tells us after using matching adjustment to ensure comparability between the treatment and control group, we find that receiving."
   ]
  },
  {
   "cell_type": "code",
   "execution_count": null,
   "metadata": {},
   "outputs": [],
   "source": []
  }
 ],
 "metadata": {
  "kernelspec": {
   "display_name": "Python 3",
   "language": "python",
   "name": "python3"
  },
  "language_info": {
   "codemirror_mode": {
    "name": "ipython",
    "version": 3
   },
   "file_extension": ".py",
   "mimetype": "text/x-python",
   "name": "python",
   "nbconvert_exporter": "python",
   "pygments_lexer": "ipython3",
   "version": "3.6.8"
  }
 },
 "nbformat": 4,
 "nbformat_minor": 2
}
