{
 "cells": [
  {
   "cell_type": "markdown",
   "id": "0d3f0b21-cafe-4dd1-8404-ef357bff2923",
   "metadata": {},
   "source": [
    "Q1: What are the Probability Mass Function (PMF) and Probability Density Function (PDF)? Explain with\n",
    "an example.<br>\n",
    "Ans. The Probability Density Function(PDF) is a probability function that describe the probability distribution of a continuous random variable and PMF describe the probaility of a descrete random variable taking on a specific value. Total Area under curve of PDF is always be 1 and The sum of all the probabilities in the PMF must be equal to 1. example of pdf is height distribution of a class students and example of PMF is probality of each possible outcomes when rolling a fair dice.<hr>"
   ]
  },
  {
   "cell_type": "markdown",
   "id": "0c785611-10c7-49ec-a29b-cc8035800dc9",
   "metadata": {},
   "source": [
    "Q2: What is Cumulative Density Function (CDF)? Explain with an example. Why CDF is used?<br>\n",
    "Ans. CDF is a probality function that indicates the probability of a random variable being less than or equal to a specific value.<br>\n",
    "It enables us to calculate the probability of a random variable being within or below a specific range without the need for integration or summation. CDF also allows us to find quantiles, such as the median, quartiles, and percentiles, which are essential measures in statistics. the Cumulative Distribution Function is a valuable tool for understanding and analyzing the probability distribution of a random variable, whether it is discrete or continuous.<hr>"
   ]
  },
  {
   "cell_type": "markdown",
   "id": "7ea09f59-b2b4-4c48-aa6b-62b5da8566c3",
   "metadata": {},
   "source": [
    "Q3: What are some examples of situations where the normal distribution might be used as a model?\n",
    "Explain how the parameters of the normal distribution relate to the shape of the distribution.<br>\n",
    "Ans. Height disrtibution, weight distribution, IQ level distribution, errors in measurement, distribution of rainfall in a region and many other sampels where normal distribution can be used as model. <br>\n",
    "In summary, the normal distribution is used as a model in situations where data tends to cluster around a central value with most values close to the mean and fewer values farther away. The mean parameter defines the center of the distribution where the peak of the bell-shaped curve is located, while the standard deviation parameter controls the width of the distribution and The standard deviation determines the spread or dispersion of the data points around the mean.<hr> "
   ]
  },
  {
   "cell_type": "markdown",
   "id": "d5fc5250-3e0a-47dd-8a72-f4e00c1ee08d",
   "metadata": {},
   "source": [
    "Q4: Explain the importance of Normal Distribution. Give a few real-life examples of Normal\n",
    "Distribution.<br>\n",
    "Ans. Real-Life Examples of Normal Distribution is Height of Adult Males: In human populations, the height of adult males often follows a normal distribution. <br>\n",
    "In many real world senario normal distribution can be used as model. Normal distribution is easy to analyzed. The normal distribution is at the core of the Central Limit Theorem, which states that the sample means of large enough samples from any population will be approximately normally distributed, regardless of the shape of the original population. This property is crucial in inferential statistics and hypothesis testing, as it allows us to make inferences or conclusions about population parameters using sample statistics. When the data follows a normal distribution, these assumptions are often met, making the statistical tests more reliable and accurate.<hr>"
   ]
  },
  {
   "cell_type": "markdown",
   "id": "54409c53-3624-402e-8cec-d48b3985f43f",
   "metadata": {},
   "source": [
    "Q5: What is Bernaulli Distribution? Give an Example. What is the difference between Bernoulli\n",
    "Distribution and Binomial Distribution?<br>\n",
    "Ans. The Bernoulli distribution is a discrete probability distribution that models a single binary random variable, which can take only two possible outcomes: success or failure. In summary, the Bernoulli distribution is used for a single binary trial with two possible outcomes (success or failure), while the binomial distribution is used to model the number of successes in a fixed number of independent binary trials.<hr>"
   ]
  },
  {
   "cell_type": "markdown",
   "id": "40825782-7767-429a-b967-2a9b66fe7ceb",
   "metadata": {},
   "source": [
    "Q6. Consider a dataset with a mean of 50 and a standard deviation of 10. If we assume that the dataset\n",
    "is normally distributed, what is the probability that a randomly selected observation will be greater\n",
    "than 60? Use the appropriate formula and show your calculations.<br>\n",
    "Ans. To calculate probabity of objeravation is greter than 60, first of all we need to calculate Z score at point 60, Z = (x - μ) / σ, z = 1 at point 60. Now with help of z score and z table we will calculate area under curve for objervation less than and equal to 60 and in this case it was 0.8413, so for objeravation greater than 60 probability is 1- 0.8413 = 0.1587 or 15.87 %. <hr>"
   ]
  },
  {
   "cell_type": "markdown",
   "id": "1d5f3627-869f-4adb-9474-ff332403681e",
   "metadata": {},
   "source": [
    "Q7: Explain uniform Distribution with an example.<br>\n",
    "Ans. The uniform distribution is a probability distribution that models a continuous random variable over a fixed interval, where all values within that interval have an equal probability of occurring. Let's consider an example of a fair six-sided die. The random variable \"X\" represents the outcome of rolling the die, and it can take on values {1, 2, 3, 4, 5, 6}. Since the die is fair, each outcome has an equal probability of occurring.\n",
    "<br>The probability density function (PDF) of a uniform distribution over the interval [a, b] is defined as:<br>\n",
    "f(x) = 1 / (b - a) for a ≤ x ≤ b<br>\n",
    "f(x) = 0 otherwise<hr>"
   ]
  },
  {
   "cell_type": "markdown",
   "id": "8f9c602a-71f2-4090-9ebc-176f31f9eb2b",
   "metadata": {},
   "source": [
    "Q8: What is the z score? State the importance of the z score.<br>\n",
    "Ans. The z-score (also known as the standard score or standardized value) is a statistical value that represent the how many standarad deviataions a data point is away from the mean. Z score is useful to calcluate the cumalitive probability for a certain point, In hypothesis testing, z-scores play a vital role. Z-scores are often used to transform data into a standard normal distribution. Overall, the z-score is a valuable tool in statistical analysis, data interpretation, and decision-making.<hr>"
   ]
  },
  {
   "cell_type": "markdown",
   "id": "95b821a9-7070-4264-9d01-02a1b31355c1",
   "metadata": {},
   "source": [
    "Q9: What is Central Limit Theorem? State the significance of the Central Limit Theorem.<br>\n",
    "Ans. The Central Limit Theorem (CLT) is a fundamental concept in statistics and it's state that regardless of the shape of the population distribution, the distribution of the sample means approaches a normal distribution as the sample size increases. In other words, if we take many random samples from a population and calculate the mean of each sample, the distribution of these sample means will be approximately normal, even if the population itself is not normally distributed. Given a population with mean μ and standard deviation σ, the distribution of the sample means (X̄) taken from this population will be approximately normally distributed with mean μ and standard deviation σ/√n, where \"n\" is the sample size.<br>\n",
    "Significances: The CLT is the basis for making inferences about population parameters (e.g., mean) from sample statistics. It forms the foundation for hypothesis testing and confidence intervals, providing a way to estimate the population parameter and its uncertainty. The CLT justifies the use of larger sample sizes to achieve more reliable results.<hr>"
   ]
  },
  {
   "cell_type": "markdown",
   "id": "d7552322-8c0e-406f-a6f5-5e5550e8ced8",
   "metadata": {},
   "source": [
    "Q10: State the assumptions of the Central Limit Theorem.<br>\n",
    "Ans. The key assumptions of the Central Limit Theorem are as follows:<br>\n",
    "- Random Sampling: samples must be selected randomly from population data.\n",
    "- Sample size should be large enough, if population distribution is not gaussian then it's should be largere than 30.\n",
    "- Every objeravations in sample should be independent from each other.\n",
    "- Variance of population should be finite."
   ]
  },
  {
   "cell_type": "code",
   "execution_count": null,
   "id": "8d6be9a1-af26-423a-b254-5f1bd2b433a4",
   "metadata": {},
   "outputs": [],
   "source": []
  }
 ],
 "metadata": {
  "kernelspec": {
   "display_name": "Python 3 (ipykernel)",
   "language": "python",
   "name": "python3"
  },
  "language_info": {
   "codemirror_mode": {
    "name": "ipython",
    "version": 3
   },
   "file_extension": ".py",
   "mimetype": "text/x-python",
   "name": "python",
   "nbconvert_exporter": "python",
   "pygments_lexer": "ipython3",
   "version": "3.10.8"
  }
 },
 "nbformat": 4,
 "nbformat_minor": 5
}
