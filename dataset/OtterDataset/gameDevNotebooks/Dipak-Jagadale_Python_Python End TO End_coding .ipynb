{
 "cells": [
  {
   "cell_type": "markdown",
   "id": "7a69a427",
   "metadata": {},
   "source": [
    "# Python\n"
   ]
  },
  {
   "cell_type": "markdown",
   "id": "86042705",
   "metadata": {},
   "source": [
    "## PYTHON Introduction"
   ]
  },
  {
   "cell_type": "markdown",
   "id": "60262836",
   "metadata": {},
   "source": [
    "### What is Python?\n"
   ]
  },
  {
   "cell_type": "markdown",
   "id": "3bf625e5",
   "metadata": {},
   "source": [
    "Python is general purpose high level popular programming language. Python was developed by Guido Van Rossam at National Research Institute Netherlands, official relaese date of python is 20th Feb 1991\n",
    "\n",
    "Python is versatile language, capable of running on multiple platforms, including Windows, macOS, and Linux.\n",
    "\n",
    "Python offers a vast library of pre-built modules and tools, which make it easy to perform complex tasks with minimal coding efforts\n",
    "\n",
    "##### Some of the most popular libraries of Python used in data science are:\n",
    "\n",
    "#### NumPy:\n",
    "   A library used for numerical computing with Python.\n",
    "#### Pandas: \n",
    "   A library used for data manipulation and analysis.\n",
    "#### Matplotlib:\n",
    "   A library used for data visualization.\n",
    "#### Scikit-learn:\n",
    "   A library used for machine learning\n",
    "#### TensorFlow:\n",
    "   A library used for deep learning."
   ]
  },
  {
   "cell_type": "markdown",
   "id": "7761fad9",
   "metadata": {},
   "source": [
    "### Why Python is more popular in the world ?"
   ]
  },
  {
   "cell_type": "markdown",
   "id": "b889e088",
   "metadata": {},
   "source": [
    "### Features of Python :-\n",
    "##### 1.Easy to Learn and Use -\n",
    "Its code is easy to read and understand, which makes it easier to maintain and update. like english language.\n",
    "##### 2.Expressive Language - \n",
    "which means that it is more understandable and readable.\n",
    "##### 3.Interpreted Language -\n",
    "Which means Python can be executed immediately without the need for compilation. i.e code will run line by line.This makes it easier to test and debug code.\n",
    "##### 4.Cross-platform Language -\n",
    "which meance capabale of running on multiple platforms, like windows, macOS, Linux etc.\n",
    "##### 5.Free and Open Source - \n",
    "which meance that it's free to use and distribute. i.e no need to license. This makes it accessible to a wide range of users, including individuals, businesses, and educational institutions.\n",
    "##### 6.Object-Oriented Language -\n",
    "This means that it allows developers to use objects to represent and manipulate data, rather than just using functions and procedures.\n",
    "class is blue print of object\n",
    "\n",
    "##### 7.Extensible programming language -\n",
    "This means that developers can extend the language by adding new modules or packages to it, which provide additional functionality and features beyond what is available in the core language.\n",
    "##### 8.Large Standard Library -\n",
    "which provides a wide range of modules and tools for various tasks which make it easy to perform complex tasks with minimal coding efforts\n",
    "##### 9.Dynamically typed -\n",
    "which means that the data type of a variable is determined at runtime. This allows for greater flexibility and makes it easier to write code\n",
    "Applications"
   ]
  },
  {
   "cell_type": "markdown",
   "id": "2cd42e6d",
   "metadata": {},
   "source": [
    "### Applications:-\n",
    "\n",
    "###### Python is a versatile programming language with a wide range of applications in various domains.\n"
   ]
  },
  {
   "cell_type": "markdown",
   "id": "d7acef54",
   "metadata": {},
   "source": [
    "###### Here are some of the most popular applications of Python:"
   ]
  },
  {
   "cell_type": "markdown",
   "id": "9fe929f1",
   "metadata": {},
   "source": [
    "#### 1.Web Development: \n",
    "    Python is used for developing web applications and web services. Popular web frameworks like Django and Flask are built using Python. e.g NASA Web\n",
    "#### 2.Data Science: \n",
    "Python is widely used in data science for tasks such as data analysis, data visualization, and machine learning. Popular data science libraries like NumPy, Pandas, and Scikit-learn are built using Python.\n",
    "#### 3.Artificial Intelligence:\n",
    "Python is used for developing artificial intelligence and machine learning algorithms. Popular libraries like TensorFlow and Keras are built using Python.\n",
    "#### 4.Scientific & numeric Computing:\n",
    "Python is used for scientific computing and mathematical modeling. Popular libraries like SciPy and SymPy are built using Python.\n",
    "#### 5.Automation and Scripting:\n",
    "Python is used for automating tasks and scripting. It is widely used for tasks such as data processing, system administration, and network automation.\n",
    "#### 6.Game Development: \n",
    "Python is used for game development. Popular game engines like Pygame and Panda3D are built using Python.\n",
    "Desktop Application Development: Python is used for developing desktop applications. Popular GUI frameworks like PyQt and wxPython are built using Python.\n",
    "#### 7.Education: \n",
    "Python is widely used in education as a teaching language for computer science and programming courses.\n",
    "#### 8.Desktop Application Development: \n",
    "Python is used for developing desktop applications. Popular GUI frameworks like PyQt and wxPython are built using Python.\n",
    "##### 9.Software Development:\n",
    "##### 10.Business Applications:\n",
    "##### 11.Console Based Application:\n",
    "##### 12.Audio or Video based Applications:\n",
    "##### 13.3D CAD Applications:\n"
   ]
  },
  {
   "cell_type": "markdown",
   "id": "90514f35",
   "metadata": {},
   "source": [
    "## Good to know python language\n",
    "#### python include below poits"
   ]
  },
  {
   "cell_type": "markdown",
   "id": "2e643962",
   "metadata": {},
   "source": [
    "###### 1.Functional Programming Features from C\n",
    "###### 2.Object Oriented Programming Features from C++\n",
    "###### 3.Scripting Language Features from Perl & Shell Script\n",
    "###### 4.Modular Programming Features from Modula-3"
   ]
  },
  {
   "cell_type": "code",
   "execution_count": 1,
   "id": "d9539bc7",
   "metadata": {},
   "outputs": [
    {
     "name": "stdout",
     "output_type": "stream",
     "text": [
      "Hello\n",
      "God\n"
     ]
    }
   ],
   "source": [
    "print (\"Hello\")\n",
    "print(\"God\")"
   ]
  },
  {
   "cell_type": "markdown",
   "id": "756494db",
   "metadata": {},
   "source": [
    "Note: It is very simple to print hello in python, as compared to other programming languages, coding in python is really less time consuming than other programming languages"
   ]
  },
  {
   "cell_type": "markdown",
   "id": "b3daae1d",
   "metadata": {},
   "source": [
    "# Identifiers\n"
   ]
  },
  {
   "cell_type": "code",
   "execution_count": 2,
   "id": "209ab5c3",
   "metadata": {},
   "outputs": [
    {
     "ename": "SyntaxError",
     "evalue": "invalid decimal literal (1162620381.py, line 1)",
     "output_type": "error",
     "traceback": [
      "\u001b[1;36m  Cell \u001b[1;32mIn [2], line 1\u001b[1;36m\u001b[0m\n\u001b[1;33m    1.Names in python are call as identifier,\u001b[0m\n\u001b[1;37m     ^\u001b[0m\n\u001b[1;31mSyntaxError\u001b[0m\u001b[1;31m:\u001b[0m invalid decimal literal\n"
     ]
    }
   ],
   "source": [
    "1.Names in python are call as identifier,\n",
    "2.Funtion name,variable name,module name , class are  identifire in python"
   ]
  },
  {
   "cell_type": "markdown",
   "id": "ce012f90",
   "metadata": {},
   "source": [
    "###### RULES"
   ]
  },
  {
   "cell_type": "code",
   "execution_count": 3,
   "id": "9ad3941f",
   "metadata": {},
   "outputs": [
    {
     "ename": "SyntaxError",
     "evalue": "invalid syntax (1143286634.py, line 1)",
     "output_type": "error",
     "traceback": [
      "\u001b[1;36m  Cell \u001b[1;32mIn [3], line 1\u001b[1;36m\u001b[0m\n\u001b[1;33m    1. The first character of an identifier must be a letter (uppercase or lowercase) or an underscore (_). The rest of the characters can be letters, underscores, or digits (0-9).\u001b[0m\n\u001b[1;37m       ^\u001b[0m\n\u001b[1;31mSyntaxError\u001b[0m\u001b[1;31m:\u001b[0m invalid syntax\n"
     ]
    }
   ],
   "source": [
    "1. The first character of an identifier must be a letter (uppercase or lowercase) or an underscore (_). The rest of the characters can be letters, underscores, or digits (0-9).\n",
    "If Identifier is start with Underscore (_) then it indicates it is private.\n",
    "Identifier should not start with Digits.\n",
    "Identifiers are case sensitive.\n",
    "For example, \"myVar\" and \"myvar\" are two different identifiers.\n",
    "\n",
    "Identifiers cannot be keywords or reserved words. because reserved keywords are words that have a special meaning in Python and cannot be used as identifiers.\n",
    "Examples of reserved keywords in Python include \"if\", \"else\", \"while\", \"for\", \"and\", \"or\", \"not\", \"in\", \"is\", \"class\", \"def\", \"return\", \"import\", \"from\", \"try\", \"except\", \"raise\", \"finally\", and \"assert\".Special Notes\n",
    "If identifier starts with '_' (single underscore) symbol,then it is private\n",
    "\n",
    "If identifier starts with '__' (double underscore), indicate that it is a strongly private.\n",
    "\n",
    "If the identifier starts and ends with \"__\" (double underscore) symbols, then such identifiers are language defined special name, which is also known as magic methods\n",
    "\n",
    "e.g int , doit"
   ]
  },
  {
   "cell_type": "markdown",
   "id": "6e5840e3",
   "metadata": {},
   "source": [
    "###### examples of identifiers\n"
   ]
  },
  {
   "cell_type": "markdown",
   "id": "ceae5821",
   "metadata": {},
   "source": [
    "x=10\n",
    "y=20\n",
    "_x =30\n",
    "\n",
    "print(x)\n",
    "print(y)\n",
    "print(_x)"
   ]
  },
  {
   "cell_type": "code",
   "execution_count": null,
   "id": "d010ba0c",
   "metadata": {},
   "outputs": [],
   "source": [
    "name = \"Python\"\n",
    "print(\"name :\",name)\n",
    "print('*'*90)\n",
    "NAME = 'Python'\n",
    "print('name :',NAME)\n",
    "print('*'*90)\n",
    "_NAME = 'Python'\n",
    "print('_Name :',_NAME)\n",
    "print('*'*90)\n",
    "fname = 'Python'\n",
    "print('Fname :',fname)\n",
    "print('*'*90)\n",
    "fname123 = 'Python'\n",
    "print('fname123 :',fname123)\n",
    "print('*'*90)\n",
    "f_name_123 = 'python'\n",
    "print('f_name_123 :',f_name_123)\n",
    "\n",
    "\n"
   ]
  },
  {
   "cell_type": "code",
   "execution_count": 4,
   "id": "46634f79",
   "metadata": {},
   "outputs": [
    {
     "name": "stdout",
     "output_type": "stream",
     "text": [
      "a = 10\n",
      "Type of a : <class 'int'>\n",
      "******************************************************************************************\n",
      "type = sikander\n",
      "type of fname : <class 'str'>\n",
      "******************************************************************************************\n",
      "Complex_number : <class 'complex'>\n"
     ]
    }
   ],
   "source": [
    "a = 10 \n",
    "print('a =',a)\n",
    "print('Type of a :',type(a))\n",
    "\n",
    "print('*'*90)\n",
    "\n",
    "fname = 'sikander'\n",
    "print('type =', fname)\n",
    "print('type of fname :',type(fname))\n",
    "\n",
    "print('*'*90)\n",
    "complex_number =1+2j\n",
    "print('Complex_number :',type(complex_number))"
   ]
  },
  {
   "cell_type": "code",
   "execution_count": null,
   "id": "ad423aad",
   "metadata": {},
   "outputs": [],
   "source": []
  },
  {
   "cell_type": "code",
   "execution_count": null,
   "id": "405b5dfb",
   "metadata": {},
   "outputs": [],
   "source": []
  },
  {
   "cell_type": "code",
   "execution_count": null,
   "id": "1e7fd1d9",
   "metadata": {},
   "outputs": [],
   "source": []
  },
  {
   "cell_type": "code",
   "execution_count": null,
   "id": "1516b038",
   "metadata": {},
   "outputs": [],
   "source": []
  },
  {
   "cell_type": "code",
   "execution_count": null,
   "id": "6bdb5b63",
   "metadata": {},
   "outputs": [],
   "source": []
  },
  {
   "cell_type": "code",
   "execution_count": null,
   "id": "0e5716ad",
   "metadata": {},
   "outputs": [],
   "source": []
  },
  {
   "cell_type": "code",
   "execution_count": null,
   "id": "8f0b2020",
   "metadata": {},
   "outputs": [],
   "source": []
  },
  {
   "cell_type": "code",
   "execution_count": 5,
   "id": "03c4629e",
   "metadata": {},
   "outputs": [
    {
     "name": "stdout",
     "output_type": "stream",
     "text": [
      "The Zen of Python, by Tim Peters\n",
      "\n",
      "Beautiful is better than ugly.\n",
      "Explicit is better than implicit.\n",
      "Simple is better than complex.\n",
      "Complex is better than complicated.\n",
      "Flat is better than nested.\n",
      "Sparse is better than dense.\n",
      "Readability counts.\n",
      "Special cases aren't special enough to break the rules.\n",
      "Although practicality beats purity.\n",
      "Errors should never pass silently.\n",
      "Unless explicitly silenced.\n",
      "In the face of ambiguity, refuse the temptation to guess.\n",
      "There should be one-- and preferably only one --obvious way to do it.\n",
      "Although that way may not be obvious at first unless you're Dutch.\n",
      "Now is better than never.\n",
      "Although never is often better than *right* now.\n",
      "If the implementation is hard to explain, it's a bad idea.\n",
      "If the implementation is easy to explain, it may be a good idea.\n",
      "Namespaces are one honking great idea -- let's do more of those!\n"
     ]
    }
   ],
   "source": [
    "import this"
   ]
  },
  {
   "cell_type": "code",
   "execution_count": 6,
   "id": "96336aa4",
   "metadata": {},
   "outputs": [
    {
     "ename": "SyntaxError",
     "evalue": "unterminated string literal (detected at line 1) (1787880279.py, line 1)",
     "output_type": "error",
     "traceback": [
      "\u001b[1;36m  Cell \u001b[1;32mIn [6], line 1\u001b[1;36m\u001b[0m\n\u001b[1;33m    \"Pythonचं ध्यान, टिम पीटर्स यांचं\u001b[0m\n\u001b[1;37m    ^\u001b[0m\n\u001b[1;31mSyntaxError\u001b[0m\u001b[1;31m:\u001b[0m unterminated string literal (detected at line 1)\n"
     ]
    }
   ],
   "source": [
    "\"Pythonचं ध्यान, टिम पीटर्स यांचं\n",
    "\n",
    "सुंदर शेपटी अशा होणारं श्रेयस्कर\n",
    "स्पष्ट असलेलं, निहित अनुमानांपेक्षा श्रेयस्कर\n",
    "साधा, कितीतरी सांगितलं असलं अशा कितीतरी जटिल असलेलं श्रेयस्कर\n",
    "जटिल, कितीतरी संकटस्पद असलेलं अशा कितीतरी संकटस्पद असलेलं श्रेयस्कर\n",
    "समतल, एकतर अंतर्जालात असलं अशा कितीतरी घन असलेलं श्रेयस्कर\n",
    "विरासत, जलद असल्याचं महत्त्व असं कितीतरी स्पष्टपणे म्हणणे घेतंय.\n",
    "विशेष प्रकारे नियमे तोडण्यासाठी प्रत्यक्षतेचं शक्ती असू नये.\n",
    "परंतु व्यावसायिकतेने पवित्रतेला मान्यता असल्याने.\n",
    "चुका नेहमीचे चुकून जाणार नाही.\n",
    "परंतु प्रत्यक्षपणे चुकून जाणार असल्यास, ते उत्तम विचारलं जातं.\n",
    "नामस्थान, एक महान विचार आहे - आम्ही अधिक करूया.\""
   ]
  },
  {
   "cell_type": "markdown",
   "id": "2cad51ce",
   "metadata": {},
   "source": [
    "### Data Types in Python\n"
   ]
  },
  {
   "cell_type": "markdown",
   "id": "d467c68d",
   "metadata": {},
   "source": [
    "Data type of variable is the type of value inside that variable.\n",
    "\n",
    "In python we do not need to mention the data type of variable, It automatically assigns data type\n",
    "\n",
    "Python is a dynamically-typed language, which means that the data type of a variable is determined at runtime. Python has several built-in data types, including:\n",
    "\n",
    "##### 1.Numbers: \n",
    "    Python supports integers, floating-point numbers, and complex numbers. For example, 42, 3.14, and 2 + 3j are all valid numbers in Python.\n",
    "##### 2.Strings: \n",
    "    Strings are sequences of characters. They can be enclosed in single quotes ('...') or double quotes (\"...\"). For example, 'hello' and \"world\" are both valid strings.\n",
    "##### 3.Booleans: \n",
    "    Booleans represent either true or false.\n",
    "    The two possible values of a boolean are True and False.\n",
    "##### 4.Lists: \n",
    "    Lists are ordered collections of items, which can be of different types. They are mutable, which means that you can add, remove, or modify elements in a list. For example, [1, 2, 3] and ['apple', 'banana', 'cherry'] are both valid lists.\n",
    "##### 5.Tuples: \n",
    "    Tuples are similar to lists, but they are immutable, which means that you cannot modify them once they are created. They are often used to represent fixed collections of values. Tuples are enclosed in parentheses. For example, (1, 2, 3) is a tuple.\n",
    "##### 6.Sets: \n",
    "    Sets are unordered collections of unique items. They are enclosed in curly braces. For example, {1, 2, 3} is a set.\n",
    "##### 7.Dictionaries:\n",
    "    Dictionaries are collections of key-value pairs. The keys are unique, and each key is associated with a value. Dictionaries are enclosed in curly braces, and the key-value pairs are separated by colons. For example, {'apple': 2, 'banana': 3, 'cherry': 5} is a dictionary.\n",
    "##### 89.bytes:\n",
    "##### 9.bytearray:\n",
    "##### 10.range:\n",
    "##### 11.None:\n",
    "In addition to these built-in data types, Python also supports several data type modules, such as datetime, which provides objects to work with dates and times, and math, which provides functions to work with mathematical operations."
   ]
  },
  {
   "cell_type": "code",
   "execution_count": null,
   "id": "bb5cd382",
   "metadata": {},
   "outputs": [],
   "source": [
    "var = 10\n",
    "print('Output :',var,type(var))"
   ]
  },
  {
   "cell_type": "code",
   "execution_count": null,
   "id": "21eb3704",
   "metadata": {},
   "outputs": [],
   "source": []
  },
  {
   "cell_type": "code",
   "execution_count": null,
   "id": "137308d3",
   "metadata": {},
   "outputs": [],
   "source": []
  },
  {
   "cell_type": "code",
   "execution_count": null,
   "id": "c19fd2ee",
   "metadata": {},
   "outputs": [],
   "source": []
  },
  {
   "cell_type": "markdown",
   "id": "0b61ccdc",
   "metadata": {},
   "source": [
    "# Keywords"
   ]
  },
  {
   "cell_type": "markdown",
   "id": "130364a6",
   "metadata": {},
   "source": [
    "##### Defination : keyswords are the system reserved words which can be used by user and can not be re-declared by user\n",
    "\n",
    " There are around 35 reserved keywords"
   ]
  },
  {
   "cell_type": "markdown",
   "id": "c59b9a0b",
   "metadata": {},
   "source": [
    "##### False', 'None', 'True', 'peg_parser', 'and', 'as', 'assert', 'async', 'await', 'break', 'class', 'continue', 'def', 'del', 'elif', 'else', 'except', 'finally', 'for', 'from', 'global', 'if', 'import', 'in', 'is', 'lambda', 'nonlocal', 'not', 'or', 'pass', 'raise', 'return', 'try', 'while', 'with', 'yield'"
   ]
  },
  {
   "cell_type": "markdown",
   "id": "f20a1bda",
   "metadata": {},
   "source": [
    "we can see these Keywords by using code in python \n",
    "     Import keyword,print(keyword.kwlist)"
   ]
  },
  {
   "cell_type": "code",
   "execution_count": 7,
   "id": "d997eaa2",
   "metadata": {},
   "outputs": [
    {
     "name": "stdout",
     "output_type": "stream",
     "text": [
      "['False', 'None', 'True', 'and', 'as', 'assert', 'async', 'await', 'break', 'class', 'continue', 'def', 'del', 'elif', 'else', 'except', 'finally', 'for', 'from', 'global', 'if', 'import', 'in', 'is', 'lambda', 'nonlocal', 'not', 'or', 'pass', 'raise', 'return', 'try', 'while', 'with', 'yield']\n",
      "..........................................................................................\n",
      "35\n"
     ]
    }
   ],
   "source": [
    "import keyword\n",
    "print(keyword.kwlist)\n",
    "print(\".\"*90)\n",
    "print(len(keyword.kwlist))"
   ]
  },
  {
   "cell_type": "code",
   "execution_count": 8,
   "id": "86cc87be",
   "metadata": {
    "scrolled": false
   },
   "outputs": [
    {
     "name": "stdout",
     "output_type": "stream",
     "text": [
      "['False', 'None', 'True', 'and', 'as', 'assert', 'async', 'await', 'break', 'class', 'continue', 'def', 'del', 'elif', 'else', 'except', 'finally', 'for', 'from', 'global', 'if', 'import', 'in', 'is', 'lambda', 'nonlocal', 'not', 'or', 'pass', 'raise', 'return', 'try', 'while', 'with', 'yield']\n"
     ]
    }
   ],
   "source": [
    "import keyword\n",
    "print(keyword.kwlist)"
   ]
  },
  {
   "cell_type": "code",
   "execution_count": 9,
   "id": "1191b02e",
   "metadata": {},
   "outputs": [
    {
     "name": "stdout",
     "output_type": "stream",
     "text": [
      "35\n"
     ]
    }
   ],
   "source": [
    "print(len(keyword.kwlist))\n"
   ]
  },
  {
   "cell_type": "markdown",
   "id": "ce7b7566",
   "metadata": {},
   "source": [
    "# Integer "
   ]
  },
  {
   "cell_type": "code",
   "execution_count": 10,
   "id": "327f8655",
   "metadata": {},
   "outputs": [
    {
     "name": "stdout",
     "output_type": "stream",
     "text": [
      "Output : 10 <class 'int'>\n"
     ]
    }
   ],
   "source": [
    "var=10 \n",
    "print('Output :',var,type(var))"
   ]
  },
  {
   "cell_type": "markdown",
   "id": "e202fb67",
   "metadata": {},
   "source": [
    "### Types of Number System\n",
    "1.Decimal number system\n",
    "\n",
    "2.Binary Number System\n",
    "\n",
    "3.Octal Number system\n",
    "\n",
    "4.Hexadecimal Number System"
   ]
  },
  {
   "cell_type": "code",
   "execution_count": 11,
   "id": "924b8a4e",
   "metadata": {},
   "outputs": [
    {
     "name": "stdout",
     "output_type": "stream",
     "text": [
      "0 <class 'int'>\n",
      "****************************************************************************************************\n",
      "1 <class 'int'>\n",
      "****************************************************************************************************\n",
      "2 <class 'int'>\n",
      "****************************************************************************************************\n",
      "3 <class 'int'>\n",
      "****************************************************************************************************\n",
      "4 <class 'int'>\n",
      "****************************************************************************************************\n",
      "5 <class 'int'>\n",
      "****************************************************************************************************\n",
      "6 <class 'int'>\n",
      "****************************************************************************************************\n",
      "7 <class 'int'>\n",
      "****************************************************************************************************\n",
      "8 <class 'int'>\n",
      "****************************************************************************************************\n",
      "9 <class 'int'>\n",
      "****************************************************************************************************\n",
      "2396672 <class 'int'>\n",
      "****************************************************************************************************\n"
     ]
    }
   ],
   "source": [
    "# octal numbers\n",
    "var=0o0 # equivalent to decimal value 0\n",
    "print(var,type(var))\n",
    "print('*'*100)\n",
    "\n",
    "var=0o1 # equivalent to decimal value 1\n",
    "print(var,type(var))\n",
    "print('*'*100)\n",
    "\n",
    "var=0o2\n",
    "print(var,type(var))\n",
    "print('*'*100)\n",
    "\n",
    "var=0o3\n",
    "print(var,type(var))\n",
    "print('*'*100)\n",
    "\n",
    "var=0o4\n",
    "print(var,type(var))\n",
    "print('*'*100)\n",
    "\n",
    "var=0o5\n",
    "print(var,type(var))\n",
    "print('*'*100)\n",
    "\n",
    "var=0o6\n",
    "print(var,type(var))\n",
    "print('*'*100)\n",
    "\n",
    "var=0o7\n",
    "print(var,type(var))\n",
    "print('*'*100)\n",
    "\n",
    "var=0o10\n",
    "print(var,type(var))\n",
    "print('*'*100)\n",
    "\n",
    "\n",
    "var=0o11 # equivalent to decimal value 9\n",
    "print(var,type(var))\n",
    "print('*'*100)\n",
    "\n",
    "var=0o11111000\n",
    "print(var,type(var))\n",
    "print('*'*100)\n"
   ]
  },
  {
   "cell_type": "code",
   "execution_count": 12,
   "id": "fb0385ed",
   "metadata": {},
   "outputs": [
    {
     "name": "stdout",
     "output_type": "stream",
     "text": [
      "Decimal Number 157 to octal number 0x9d\n",
      "Decimal Number 200 to octal number 0xc8\n"
     ]
    }
   ],
   "source": [
    "# Decimal to hex converison\n",
    "input1 = 157\n",
    "input2 = 200\n",
    "\n",
    "output1 = hex(input1)\n",
    "print('Decimal Number {} to octal number {}'.format(input1, output1))\n",
    "output2 = hex(input2)\n",
    "print('Decimal Number {} to octal number {}'.format(input2, output2))"
   ]
  },
  {
   "cell_type": "code",
   "execution_count": 13,
   "id": "21ce169a",
   "metadata": {},
   "outputs": [
    {
     "name": "stdout",
     "output_type": "stream",
     "text": [
      "Decimal Number 255 to octal number 0xff\n",
      "Decimal Number 200 to octal number 0xc8\n"
     ]
    }
   ],
   "source": [
    "# Decimal to hex converison\n",
    "input1 = 255\n",
    "input2 = 200\n",
    "\n",
    "output1 = hex(input1)\n",
    "print('Decimal Number {} to octal number {}'.format(input1, output1))\n",
    "output2 = hex(input2)\n",
    "print('Decimal Number {} to octal number {}'.format(input2, output2))"
   ]
  },
  {
   "cell_type": "code",
   "execution_count": 14,
   "id": "4a175feb",
   "metadata": {},
   "outputs": [
    {
     "name": "stdout",
     "output_type": "stream",
     "text": [
      "output: 10.1\n",
      "<class 'float'>\n"
     ]
    }
   ],
   "source": [
    "var=10.10\n",
    "print('output:',var)\n",
    "print(type(var))"
   ]
  },
  {
   "cell_type": "code",
   "execution_count": 15,
   "id": "06a4f7c1",
   "metadata": {
    "scrolled": true
   },
   "outputs": [
    {
     "name": "stdout",
     "output_type": "stream",
     "text": [
      "Hello world\n",
      "weelcome to my channel\n"
     ]
    }
   ],
   "source": [
    "print(\"Hello world\")\n",
    "print(\"weelcome to my channel\")"
   ]
  },
  {
   "cell_type": "code",
   "execution_count": 16,
   "id": "a1dea373",
   "metadata": {},
   "outputs": [
    {
     "name": "stdout",
     "output_type": "stream",
     "text": [
      "hello\n"
     ]
    }
   ],
   "source": [
    "# single line and multiline comment\n",
    "'''\n",
    "welcome to my youtube\n",
    "\n",
    "'''\n",
    "\n",
    "print(\"hello\")"
   ]
  },
  {
   "cell_type": "code",
   "execution_count": 17,
   "id": "c79fd7aa",
   "metadata": {},
   "outputs": [
    {
     "name": "stdout",
     "output_type": "stream",
     "text": [
      "10\n"
     ]
    }
   ],
   "source": [
    "#variable declaration\n",
    "a =10\n",
    "print (a)"
   ]
  },
  {
   "cell_type": "code",
   "execution_count": 18,
   "id": "9c32b585",
   "metadata": {},
   "outputs": [
    {
     "name": "stdout",
     "output_type": "stream",
     "text": [
      "10\n"
     ]
    }
   ],
   "source": [
    "print(a)"
   ]
  },
  {
   "cell_type": "code",
   "execution_count": 19,
   "id": "8a2b339c",
   "metadata": {},
   "outputs": [
    {
     "name": "stdout",
     "output_type": "stream",
     "text": [
      "<class 'int'>\n"
     ]
    }
   ],
   "source": [
    "print(type(a))"
   ]
  },
  {
   "cell_type": "code",
   "execution_count": 20,
   "id": "7e0a20f0",
   "metadata": {},
   "outputs": [],
   "source": [
    "tenth=10\n",
    "b=40\n",
    "c=\"krish\"\n"
   ]
  },
  {
   "cell_type": "code",
   "execution_count": 21,
   "id": "1502f8e5",
   "metadata": {},
   "outputs": [
    {
     "data": {
      "text/plain": [
       "str"
      ]
     },
     "execution_count": 21,
     "metadata": {},
     "output_type": "execute_result"
    }
   ],
   "source": [
    "type(c)"
   ]
  },
  {
   "cell_type": "code",
   "execution_count": 22,
   "id": "0c505eb0",
   "metadata": {},
   "outputs": [],
   "source": [
    "a1=10"
   ]
  },
  {
   "cell_type": "code",
   "execution_count": 23,
   "id": "06cea0e0",
   "metadata": {},
   "outputs": [
    {
     "name": "stdout",
     "output_type": "stream",
     "text": [
      "krish\n"
     ]
    }
   ],
   "source": [
    "first_name='krish'\n",
    "print(first_name)"
   ]
  },
  {
   "cell_type": "code",
   "execution_count": 24,
   "id": "d808b4c0",
   "metadata": {},
   "outputs": [
    {
     "data": {
      "text/plain": [
       "int"
      ]
     },
     "execution_count": 24,
     "metadata": {},
     "output_type": "execute_result"
    }
   ],
   "source": [
    "# integer\n",
    "a =10\n",
    "type(a)"
   ]
  },
  {
   "cell_type": "code",
   "execution_count": 25,
   "id": "49cdebcf",
   "metadata": {},
   "outputs": [
    {
     "data": {
      "text/plain": [
       "20"
      ]
     },
     "execution_count": 25,
     "metadata": {},
     "output_type": "execute_result"
    }
   ],
   "source": [
    "a+10"
   ]
  },
  {
   "cell_type": "code",
   "execution_count": 26,
   "id": "a5c2b627",
   "metadata": {},
   "outputs": [
    {
     "data": {
      "text/plain": [
       "100"
      ]
     },
     "execution_count": 26,
     "metadata": {},
     "output_type": "execute_result"
    }
   ],
   "source": [
    "a*10"
   ]
  },
  {
   "cell_type": "code",
   "execution_count": 27,
   "id": "e5abd3b7",
   "metadata": {},
   "outputs": [
    {
     "data": {
      "text/plain": [
       "1"
      ]
     },
     "execution_count": 27,
     "metadata": {},
     "output_type": "execute_result"
    }
   ],
   "source": [
    "a-9"
   ]
  },
  {
   "cell_type": "code",
   "execution_count": 28,
   "id": "a882071e",
   "metadata": {},
   "outputs": [
    {
     "data": {
      "text/plain": [
       "0"
      ]
     },
     "execution_count": 28,
     "metadata": {},
     "output_type": "execute_result"
    }
   ],
   "source": [
    "a%10"
   ]
  },
  {
   "cell_type": "code",
   "execution_count": 29,
   "id": "1248718d",
   "metadata": {},
   "outputs": [
    {
     "name": "stdout",
     "output_type": "stream",
     "text": [
      "<class 'int'>\n"
     ]
    }
   ],
   "source": [
    "print(type(a))"
   ]
  },
  {
   "cell_type": "code",
   "execution_count": 30,
   "id": "7e0e382d",
   "metadata": {},
   "outputs": [
    {
     "name": "stdout",
     "output_type": "stream",
     "text": [
      "30\n"
     ]
    }
   ],
   "source": [
    "a=10\n",
    "b=20\n",
    "\n",
    "print(a+b)"
   ]
  },
  {
   "cell_type": "code",
   "execution_count": 31,
   "id": "103ab5d6",
   "metadata": {},
   "outputs": [
    {
     "data": {
      "text/plain": [
       "1.0"
      ]
     },
     "execution_count": 31,
     "metadata": {},
     "output_type": "execute_result"
    }
   ],
   "source": [
    "a/10"
   ]
  },
  {
   "cell_type": "markdown",
   "id": "1d1bb820",
   "metadata": {},
   "source": [
    "### Float"
   ]
  },
  {
   "cell_type": "code",
   "execution_count": 32,
   "id": "c722be98",
   "metadata": {},
   "outputs": [
    {
     "name": "stdout",
     "output_type": "stream",
     "text": [
      "output: 10.1\n",
      "<class 'float'>\n"
     ]
    }
   ],
   "source": [
    "var = 10.10\n",
    "print('output:',var)\n",
    "print(type(var))\n"
   ]
  },
  {
   "cell_type": "code",
   "execution_count": 33,
   "id": "46f4c5da",
   "metadata": {},
   "outputs": [
    {
     "name": "stdout",
     "output_type": "stream",
     "text": [
      "<class 'float'>\n",
      "12.377\n"
     ]
    }
   ],
   "source": [
    "a = 12.377\n",
    "print(type(a))\n",
    "print(a)"
   ]
  },
  {
   "cell_type": "markdown",
   "id": "897b976d",
   "metadata": {},
   "source": [
    "### Complex"
   ]
  },
  {
   "cell_type": "code",
   "execution_count": 34,
   "id": "51e22b53",
   "metadata": {},
   "outputs": [
    {
     "name": "stdout",
     "output_type": "stream",
     "text": [
      "(10+20j)\n",
      "10.0\n",
      "20.0\n"
     ]
    }
   ],
   "source": [
    "com = 10 +20j #real+imag\n",
    "print(com)\n",
    "print(com.real)\n",
    "print(com.imag)"
   ]
  },
  {
   "cell_type": "code",
   "execution_count": 35,
   "id": "6cd8cb1d",
   "metadata": {},
   "outputs": [
    {
     "name": "stdout",
     "output_type": "stream",
     "text": [
      "output: (1+2j)\n",
      "<class 'complex'>\n"
     ]
    }
   ],
   "source": [
    "var = 1 + 2j\n",
    "print(\"output:\",var)\n",
    "print(type(var))"
   ]
  },
  {
   "cell_type": "markdown",
   "id": "814bed03",
   "metadata": {},
   "source": [
    "### Complex "
   ]
  },
  {
   "cell_type": "code",
   "execution_count": 36,
   "id": "fe3e39dd",
   "metadata": {},
   "outputs": [
    {
     "name": "stdout",
     "output_type": "stream",
     "text": [
      "Real : 1.0\n",
      "<class 'float'>\n",
      "******************************************************************************************\n",
      "imaginary : 2.0\n",
      "<class 'float'>\n"
     ]
    }
   ],
   "source": [
    "print(\"Real :\", var.real)\n",
    "print(type(var.real))\n",
    "print(\"*\"*90)\n",
    "print(\"imaginary :\",var.imag)\n",
    "print(type(var.imag))"
   ]
  },
  {
   "cell_type": "markdown",
   "id": "c7a76057",
   "metadata": {},
   "source": [
    "## Boolean"
   ]
  },
  {
   "cell_type": "code",
   "execution_count": 37,
   "id": "e2a4dc06",
   "metadata": {},
   "outputs": [
    {
     "name": "stdout",
     "output_type": "stream",
     "text": [
      "Output: <class 'bool'>\n",
      "True <class 'str'>\n",
      "False <class 'bool'>\n"
     ]
    }
   ],
   "source": [
    "var = True \n",
    "var_1 = False \n",
    "x = 'True'\n",
    "print('Output:', type(var))\n",
    "print(x,type(x))\n",
    "print(var_1,type(var_1))\n"
   ]
  },
  {
   "cell_type": "code",
   "execution_count": 38,
   "id": "856e4893",
   "metadata": {},
   "outputs": [
    {
     "name": "stdout",
     "output_type": "stream",
     "text": [
      "1 0\n"
     ]
    }
   ],
   "source": [
    "print(int(True),int(False))"
   ]
  },
  {
   "cell_type": "code",
   "execution_count": 39,
   "id": "6d4ec5b1",
   "metadata": {},
   "outputs": [
    {
     "name": "stdout",
     "output_type": "stream",
     "text": [
      "1.0 0.0\n"
     ]
    }
   ],
   "source": [
    "print(float(True),float(False))"
   ]
  },
  {
   "cell_type": "code",
   "execution_count": 40,
   "id": "4c325110",
   "metadata": {},
   "outputs": [
    {
     "name": "stdout",
     "output_type": "stream",
     "text": [
      "1 0\n"
     ]
    }
   ],
   "source": [
    "print(int(True),int(False))"
   ]
  },
  {
   "cell_type": "code",
   "execution_count": 41,
   "id": "f69c365e",
   "metadata": {},
   "outputs": [
    {
     "name": "stdout",
     "output_type": "stream",
     "text": [
      "(1+0j) 0j\n",
      "(1+0j)\n",
      "1j\n",
      "0j\n"
     ]
    }
   ],
   "source": [
    "print(complex(True),complex(False))\n",
    "print(complex(True,False))\n",
    "print(complex(False,True))\n",
    "c=0+0j\n",
    "print(c)"
   ]
  },
  {
   "cell_type": "code",
   "execution_count": 42,
   "id": "eaf81499",
   "metadata": {},
   "outputs": [
    {
     "name": "stdout",
     "output_type": "stream",
     "text": [
      "True\n",
      "False\n"
     ]
    }
   ],
   "source": [
    "print(str(True))\n",
    "print(str(False))"
   ]
  },
  {
   "cell_type": "code",
   "execution_count": 43,
   "id": "14b81f06",
   "metadata": {},
   "outputs": [
    {
     "name": "stdout",
     "output_type": "stream",
     "text": [
      "True\n",
      "False\n"
     ]
    }
   ],
   "source": [
    "print(str(True))\n",
    "print(str(False))"
   ]
  },
  {
   "cell_type": "code",
   "execution_count": 44,
   "id": "28ba855d",
   "metadata": {},
   "outputs": [
    {
     "name": "stdout",
     "output_type": "stream",
     "text": [
      "True\n",
      "True\n",
      "False\n"
     ]
    }
   ],
   "source": [
    "print(bool(3.1))\n",
    "print(bool(0.3))\n",
    "print(bool(0.0))"
   ]
  },
  {
   "cell_type": "code",
   "execution_count": 45,
   "id": "04a7e3c1",
   "metadata": {},
   "outputs": [
    {
     "name": "stdout",
     "output_type": "stream",
     "text": [
      "False\n",
      "False\n",
      "True\n",
      "True\n"
     ]
    }
   ],
   "source": [
    "print(bool(\"\"))\n",
    "print(bool())\n",
    "print(bool('don'))\n",
    "print(bool(11))\n"
   ]
  },
  {
   "cell_type": "code",
   "execution_count": 46,
   "id": "08e0e65a",
   "metadata": {},
   "outputs": [
    {
     "name": "stdout",
     "output_type": "stream",
     "text": [
      "True\n",
      "True\n",
      "True\n",
      "False\n"
     ]
    }
   ],
   "source": [
    "print(bool(1+2j))\n",
    "print(bool(2+0j))\n",
    "print(bool(0+2j))\n",
    "print(bool(0+0j))"
   ]
  },
  {
   "cell_type": "code",
   "execution_count": 47,
   "id": "933750f2",
   "metadata": {},
   "outputs": [
    {
     "name": "stdout",
     "output_type": "stream",
     "text": [
      "int to bool\n",
      "int to bool\n",
      "****************************************************************************************************\n",
      "float to bool: True\n",
      "float to bool\n",
      "****************************************************************************************************\n",
      "string to bool: True\n",
      "string to bool: False\n",
      "****************************************************************************************************\n",
      "complex to bool: True\n",
      "complex to bool: True\n",
      "complex to bool: False\n",
      "complex to bool: False\n",
      "****************************************************************************************************\n"
     ]
    }
   ],
   "source": [
    "# convting of int/str to bool\n",
    "x = bool(100)\n",
    "print('int to bool')\n",
    "xx=bool(0)\n",
    "print('int to bool')\n",
    "print(\"*\"*100)\n",
    "\n",
    "y=bool(10.10)\n",
    "print('float to bool:',y)\n",
    "yy=bool(0.0)\n",
    "print('float to bool')\n",
    "print(\"*\"*100)\n",
    "\n",
    "z=bool(\"100\")\n",
    "print('string to bool:',z)\n",
    "zz=bool(\"\")\n",
    "print('string to bool:',zz)\n",
    "print(\"*\"*100)\n",
    "\n",
    "\n",
    "z = bool(1+0j)\n",
    "print('complex to bool:',z)\n",
    "zz=bool(4+2j)\n",
    "print('complex to bool:',zz)\n",
    "zzz=bool(0+0j) #at least one value should be required\n",
    "print('complex to bool:',zzz)\n",
    "zzzz=bool(0+2j)\n",
    "print('complex to bool:',zzz)\n",
    "print(\"*\"*100)\n"
   ]
  },
  {
   "cell_type": "markdown",
   "id": "d436dd57",
   "metadata": {},
   "source": [
    "\n",
    "# string"
   ]
  },
  {
   "cell_type": "markdown",
   "id": "18993023",
   "metadata": {},
   "source": [
    "\n",
    "\n",
    "## string is sequence of characters e.g \"This is string\"\n",
    "\n",
    "#### 1.string is a sequence of characters enclosed in quotes\n",
    "\n",
    "#### 2.Strings in Python are immutable, which means you cannot change the contents of a string once it is created. However, you can create a new string by concatenating two or more strings together using the + operator or repeating a string using the * operator\n",
    "\n",
    "#### Duplicates allowed\n",
    "\n",
    "#### #4.store all the characters in string\n",
    "\n",
    "#### Available methods in string:\n",
    "\n",
    "#### 1.str.upper(): Returns a new string with all characters converted to uppercase.\n",
    "#### 2.str.lower(): Returns a new string with all characters converted to lowercase.\n",
    "\n",
    "#### 3.str.lower(): Returns a new string with all characters converted to lowercase.\n",
    "#### 4.str.capitalize(): Returns a copy of the string with the first character capitalized\n",
    "#### 5.str.title(): Returns a copy of the string with the first character of each word capitalized.\n",
    "#### 6.len(str): Returns the length of the string.\n",
    "#### 7.str.strip(): Returns a new string with leading and trailing whitespace removed.\n",
    "#### 8.str.replace(): Returns a new string with all occurrences of a specified substring replaced with another substring.\n",
    "#### 9.str.split(): Returns a list of substrings separated by a specified delimiter. i.e Returns a list of the words in the string, separated by whitespace.\n",
    "#### 10.str.join(iterable): Joins the elements of an iterable (e.g., a list) with the specified string as the separator.\n",
    "#### 11.str.casefold(): Converts string into lower case\n",
    "#### 12.str.center(): Returns a centered string\n",
    "#### 13.str.count(): Returns the number of times a specified value occurs in a string\n",
    "#### 14.str.endswith(): Returns true if the string ends with the specified value\n",
    "#### 15.str.find(): Searches the string for a specified value and returns the position of where it was found\n",
    "#### 16.str.swapcase(): Swaps cases, lower case becomes upper case and vice versa\n",
    "#### 17.str.startswith(): Returns true if the string starts with the specified value\n",
    "#### 18.str.isalnum(): Returns True if all characters in the string 18.are alphanumeric\n",
    "#### 19.str.isalpha(): Returns True if all characters in the string are in the alphabet\n",
    "#### 20.str.isascii(): Returns True if all characters in the string are ascii characters\n",
    "#### 21.str.isdecimal(): Returns True if all characters in the string are decimals\n",
    "#### 22.str.isdigit(): Returns True if all characters in the string are digits\n",
    "#### 23.str.isidentifier(): Returns True if the string is an identifier\n",
    "#### 24.str.islower(): Returns True if all characters in the string are lower case\n",
    "#### 25.str.isnumeric(): Returns True if all characters in the string are numeric\n",
    "#### 26.str.isprintable(): Returns True if all characters in the string are printable\n",
    "#### 27.str.isspace(): Returns True if all characters in the string are whitespaces\n",
    "#### 28.str.istitle(): Returns True if the string follows the rules of a title\n",
    "#### 29.str.isupper(): Returns True if all characters in the string are upper case"
   ]
  },
  {
   "cell_type": "code",
   "execution_count": 48,
   "id": "5debc665",
   "metadata": {},
   "outputs": [
    {
     "name": "stdout",
     "output_type": "stream",
     "text": [
      "               india is my country         \n"
     ]
    }
   ],
   "source": [
    "a = '               india is my country         '\n",
    "print(a)"
   ]
  },
  {
   "cell_type": "code",
   "execution_count": 49,
   "id": "7e60e23e",
   "metadata": {},
   "outputs": [
    {
     "name": "stdout",
     "output_type": "stream",
     "text": [
      "               india is my country         \n"
     ]
    }
   ],
   "source": [
    "print(a.capitalize())"
   ]
  },
  {
   "cell_type": "code",
   "execution_count": 50,
   "id": "d1929ce4",
   "metadata": {},
   "outputs": [
    {
     "name": "stdout",
     "output_type": "stream",
     "text": [
      "               India Is My Country         \n"
     ]
    }
   ],
   "source": [
    "print(a.title())"
   ]
  },
  {
   "cell_type": "code",
   "execution_count": 51,
   "id": "459bceeb",
   "metadata": {},
   "outputs": [
    {
     "name": "stdout",
     "output_type": "stream",
     "text": [
      "india is my country\n"
     ]
    }
   ],
   "source": [
    "print(a.strip())"
   ]
  },
  {
   "cell_type": "code",
   "execution_count": 52,
   "id": "de993de6",
   "metadata": {},
   "outputs": [
    {
     "data": {
      "text/plain": [
       "'Bharat is my country'"
      ]
     },
     "execution_count": 52,
     "metadata": {},
     "output_type": "execute_result"
    }
   ],
   "source": [
    "a.replace (a,\"Bharat is my country\")"
   ]
  },
  {
   "cell_type": "code",
   "execution_count": 53,
   "id": "84184d33",
   "metadata": {},
   "outputs": [
    {
     "name": "stdout",
     "output_type": "stream",
     "text": [
      "['india', 'is', 'my', 'country']\n"
     ]
    }
   ],
   "source": [
    "b = a.split()\n",
    "print(b)"
   ]
  },
  {
   "cell_type": "code",
   "execution_count": 54,
   "id": "9e079c0f",
   "metadata": {},
   "outputs": [
    {
     "data": {
      "text/plain": [
       "'india_is_my_country'"
      ]
     },
     "execution_count": 54,
     "metadata": {},
     "output_type": "execute_result"
    }
   ],
   "source": [
    "c = '_'\n",
    "c.join(b)"
   ]
  },
  {
   "cell_type": "code",
   "execution_count": 55,
   "id": "2e1ab993",
   "metadata": {},
   "outputs": [
    {
     "name": "stdout",
     "output_type": "stream",
     "text": [
      "handless special cases like the german \"B\"  (sharp s) character\n"
     ]
    },
    {
     "data": {
      "text/plain": [
       "<function str.casefold()>"
      ]
     },
     "execution_count": 55,
     "metadata": {},
     "output_type": "execute_result"
    }
   ],
   "source": [
    "b ='handless special cases like the german \"B\"  (sharp s) character'\n",
    "print(b)\n",
    "b.casefold"
   ]
  },
  {
   "cell_type": "code",
   "execution_count": 56,
   "id": "9c70a0f5",
   "metadata": {},
   "outputs": [
    {
     "data": {
      "text/plain": [
       "'handless special cases like the german \"b\"  (sharp s) character'"
      ]
     },
     "execution_count": 56,
     "metadata": {},
     "output_type": "execute_result"
    }
   ],
   "source": [
    "b.lower()"
   ]
  },
  {
   "cell_type": "code",
   "execution_count": 57,
   "id": "b03449e6",
   "metadata": {},
   "outputs": [
    {
     "data": {
      "text/plain": [
       "'            Dipak             '"
      ]
     },
     "execution_count": 57,
     "metadata": {},
     "output_type": "execute_result"
    }
   ],
   "source": [
    "d = 'Dipak'\n",
    "d.center(30)"
   ]
  },
  {
   "cell_type": "code",
   "execution_count": 58,
   "id": "c44f3b73",
   "metadata": {},
   "outputs": [
    {
     "data": {
      "text/plain": [
       "'               india is my country         '"
      ]
     },
     "execution_count": 58,
     "metadata": {},
     "output_type": "execute_result"
    }
   ],
   "source": [
    "a.count('i')\n",
    "a"
   ]
  },
  {
   "cell_type": "code",
   "execution_count": 59,
   "id": "882a2f63",
   "metadata": {},
   "outputs": [
    {
     "name": "stdout",
     "output_type": "stream",
     "text": [
      "output:\n",
      "python3.9\n",
      "<class 'str'>\n"
     ]
    }
   ],
   "source": [
    "var = 'python3.9'\n",
    "#when values from user : data type considered as string \n",
    "print('output:')\n",
    "print(var)\n",
    "print(type(var))"
   ]
  },
  {
   "cell_type": "code",
   "execution_count": 60,
   "id": "f609eda2",
   "metadata": {},
   "outputs": [],
   "source": [
    "string = '''I am sorry , i connot provide information on specific individuals unless they are well-known public figures'''"
   ]
  },
  {
   "cell_type": "code",
   "execution_count": 61,
   "id": "c485d450",
   "metadata": {},
   "outputs": [
    {
     "data": {
      "text/plain": [
       "'I AM SORRY , I CONNOT PROVIDE INFORMATION ON SPECIFIC INDIVIDUALS UNLESS THEY ARE WELL-KNOWN PUBLIC FIGURES'"
      ]
     },
     "execution_count": 61,
     "metadata": {},
     "output_type": "execute_result"
    }
   ],
   "source": [
    "string.upper()"
   ]
  },
  {
   "cell_type": "code",
   "execution_count": 62,
   "id": "9074edf9",
   "metadata": {},
   "outputs": [
    {
     "data": {
      "text/plain": [
       "'i am sorry , i connot provide information on specific individuals unless they are well-known public figures'"
      ]
     },
     "execution_count": 62,
     "metadata": {},
     "output_type": "execute_result"
    }
   ],
   "source": [
    "string.lower()"
   ]
  },
  {
   "cell_type": "code",
   "execution_count": 63,
   "id": "d8d8df13",
   "metadata": {},
   "outputs": [
    {
     "data": {
      "text/plain": [
       "'i am sorry , i connot provide information on specific individuals unless they are well-known public figures'"
      ]
     },
     "execution_count": 63,
     "metadata": {},
     "output_type": "execute_result"
    }
   ],
   "source": [
    "string.lower()"
   ]
  },
  {
   "cell_type": "code",
   "execution_count": 64,
   "id": "a03cef74",
   "metadata": {},
   "outputs": [
    {
     "data": {
      "text/plain": [
       "'I am sorry , i connot provide information on specific individuals unless they are well-known public figures'"
      ]
     },
     "execution_count": 64,
     "metadata": {},
     "output_type": "execute_result"
    }
   ],
   "source": [
    "string.capitalize()"
   ]
  },
  {
   "cell_type": "code",
   "execution_count": 65,
   "id": "d396167d",
   "metadata": {},
   "outputs": [
    {
     "data": {
      "text/plain": [
       "107"
      ]
     },
     "execution_count": 65,
     "metadata": {},
     "output_type": "execute_result"
    }
   ],
   "source": [
    "len(string)"
   ]
  },
  {
   "cell_type": "code",
   "execution_count": 66,
   "id": "3f7f0b26",
   "metadata": {},
   "outputs": [
    {
     "data": {
      "text/plain": [
       "'I am sorry , i connot provide information on specific individuals unless they are well-known public figures'"
      ]
     },
     "execution_count": 66,
     "metadata": {},
     "output_type": "execute_result"
    }
   ],
   "source": [
    "string.strip()"
   ]
  },
  {
   "cell_type": "code",
   "execution_count": 67,
   "id": "517349d3",
   "metadata": {},
   "outputs": [
    {
     "data": {
      "text/plain": [
       "'I am sorry , i connot provide information on specific individuals unless they are well-known public figures'"
      ]
     },
     "execution_count": 67,
     "metadata": {},
     "output_type": "execute_result"
    }
   ],
   "source": [
    "string.format()"
   ]
  },
  {
   "cell_type": "code",
   "execution_count": 68,
   "id": "538faecf",
   "metadata": {},
   "outputs": [
    {
     "data": {
      "text/plain": [
       "'I AM sorry , i connot provide information on specific individuals unless they are well-known public figures'"
      ]
     },
     "execution_count": 68,
     "metadata": {},
     "output_type": "execute_result"
    }
   ],
   "source": [
    "string.replace('am','AM')"
   ]
  },
  {
   "cell_type": "code",
   "execution_count": 69,
   "id": "96d30b35",
   "metadata": {},
   "outputs": [
    {
     "data": {
      "text/plain": [
       "['I',\n",
       " 'am',\n",
       " 'sorry',\n",
       " ',',\n",
       " 'i',\n",
       " 'connot',\n",
       " 'provide',\n",
       " 'information',\n",
       " 'on',\n",
       " 'specific',\n",
       " 'individuals',\n",
       " 'unless',\n",
       " 'they',\n",
       " 'are',\n",
       " 'well-known',\n",
       " 'public',\n",
       " 'figures']"
      ]
     },
     "execution_count": 69,
     "metadata": {},
     "output_type": "execute_result"
    }
   ],
   "source": [
    "string.split()"
   ]
  },
  {
   "cell_type": "code",
   "execution_count": 70,
   "id": "f9ef3c79",
   "metadata": {},
   "outputs": [
    {
     "data": {
      "text/plain": [
       "'i am sorry , i connot provide information on specific individuals unless they are well-known public figures'"
      ]
     },
     "execution_count": 70,
     "metadata": {},
     "output_type": "execute_result"
    }
   ],
   "source": [
    "string.casefold()"
   ]
  },
  {
   "cell_type": "markdown",
   "id": "e7734bd0",
   "metadata": {},
   "source": [
    "casefold() not only converted the characters to lowercase but also handled the accented characters."
   ]
  },
  {
   "cell_type": "code",
   "execution_count": 71,
   "id": "814e7641",
   "metadata": {},
   "outputs": [
    {
     "name": "stdout",
     "output_type": "stream",
     "text": [
      "hello world\n"
     ]
    }
   ],
   "source": [
    "text = \"Hello world\"\n",
    "result = text .casefold()\n",
    "print(result)"
   ]
  },
  {
   "cell_type": "code",
   "execution_count": 72,
   "id": "84353115",
   "metadata": {},
   "outputs": [
    {
     "data": {
      "text/plain": [
       "5"
      ]
     },
     "execution_count": 72,
     "metadata": {},
     "output_type": "execute_result"
    }
   ],
   "source": [
    "string.index(\"sorry\")"
   ]
  },
  {
   "cell_type": "code",
   "execution_count": 73,
   "id": "024856db",
   "metadata": {},
   "outputs": [
    {
     "data": {
      "text/plain": [
       "11"
      ]
     },
     "execution_count": 73,
     "metadata": {},
     "output_type": "execute_result"
    }
   ],
   "source": [
    "string.count('i')"
   ]
  },
  {
   "cell_type": "code",
   "execution_count": 74,
   "id": "36e2062b",
   "metadata": {},
   "outputs": [
    {
     "data": {
      "text/plain": [
       "16"
      ]
     },
     "execution_count": 74,
     "metadata": {},
     "output_type": "execute_result"
    }
   ],
   "source": [
    "string.find('on')"
   ]
  },
  {
   "cell_type": "code",
   "execution_count": 75,
   "id": "88bba92e",
   "metadata": {},
   "outputs": [
    {
     "data": {
      "text/plain": [
       "'I am sorry , i connot provide information on specific individuals unless they are well-known public figures'"
      ]
     },
     "execution_count": 75,
     "metadata": {},
     "output_type": "execute_result"
    }
   ],
   "source": [
    "string.expandtabs(tabsize=10)"
   ]
  },
  {
   "cell_type": "code",
   "execution_count": 76,
   "id": "f890d176",
   "metadata": {},
   "outputs": [
    {
     "name": "stdout",
     "output_type": "stream",
     "text": [
      "Dipak                                                                                               jagadale\n"
     ]
    }
   ],
   "source": [
    "str1 = \"Dipak\\tjagadale\"\n",
    "str2 = str1.expandtabs(tabsize=100)\n",
    "print(str2)"
   ]
  },
  {
   "cell_type": "code",
   "execution_count": 77,
   "id": "5c5e4719",
   "metadata": {},
   "outputs": [
    {
     "data": {
      "text/plain": [
       "False"
      ]
     },
     "execution_count": 77,
     "metadata": {},
     "output_type": "execute_result"
    }
   ],
   "source": [
    "string.isidentifier()"
   ]
  },
  {
   "cell_type": "code",
   "execution_count": 78,
   "id": "6fe5a212",
   "metadata": {},
   "outputs": [
    {
     "data": {
      "text/plain": [
       "'i AM SORRY , I CONNOT PROVIDE INFORMATION ON SPECIFIC INDIVIDUALS UNLESS THEY ARE WELL-KNOWN PUBLIC FIGURES'"
      ]
     },
     "execution_count": 78,
     "metadata": {},
     "output_type": "execute_result"
    }
   ],
   "source": [
    "string.swapcase()"
   ]
  },
  {
   "cell_type": "code",
   "execution_count": 79,
   "id": "fe244ef7",
   "metadata": {},
   "outputs": [
    {
     "data": {
      "text/plain": [
       "False"
      ]
     },
     "execution_count": 79,
     "metadata": {},
     "output_type": "execute_result"
    }
   ],
   "source": [
    "string.isnumeric()"
   ]
  },
  {
   "cell_type": "code",
   "execution_count": 80,
   "id": "8133d62a",
   "metadata": {},
   "outputs": [
    {
     "data": {
      "text/plain": [
       "'handless special cases like the german \"B\"  (sharp s) character'"
      ]
     },
     "execution_count": 80,
     "metadata": {},
     "output_type": "execute_result"
    }
   ],
   "source": [
    "b"
   ]
  },
  {
   "cell_type": "code",
   "execution_count": 81,
   "id": "165c571d",
   "metadata": {},
   "outputs": [
    {
     "data": {
      "text/plain": [
       "False"
      ]
     },
     "execution_count": 81,
     "metadata": {},
     "output_type": "execute_result"
    }
   ],
   "source": [
    "b.endswith('g')"
   ]
  },
  {
   "cell_type": "code",
   "execution_count": 82,
   "id": "8f33b08e",
   "metadata": {},
   "outputs": [
    {
     "data": {
      "text/plain": [
       "False"
      ]
     },
     "execution_count": 82,
     "metadata": {},
     "output_type": "execute_result"
    }
   ],
   "source": [
    "b.endswith(',')"
   ]
  },
  {
   "cell_type": "code",
   "execution_count": 83,
   "id": "6f14921a",
   "metadata": {},
   "outputs": [
    {
     "data": {
      "text/plain": [
       "32"
      ]
     },
     "execution_count": 83,
     "metadata": {},
     "output_type": "execute_result"
    }
   ],
   "source": [
    "b.find(\"german\")"
   ]
  },
  {
   "cell_type": "markdown",
   "id": "88b5b635",
   "metadata": {},
   "source": [
    "### String Slicing"
   ]
  },
  {
   "cell_type": "markdown",
   "id": "42cfdedb",
   "metadata": {},
   "source": [
    "#### String slicing is peaces of string usin some seperator , []this is slicing operator   "
   ]
  },
  {
   "cell_type": "code",
   "execution_count": 84,
   "id": "f0722a1d",
   "metadata": {},
   "outputs": [],
   "source": [
    "str1 = \"This tutorial is basically desigend for biggners\"\n",
    "str2='python'"
   ]
  },
  {
   "cell_type": "code",
   "execution_count": 85,
   "id": "4066895b",
   "metadata": {},
   "outputs": [
    {
     "data": {
      "text/plain": [
       "('h', 'p', 'y')"
      ]
     },
     "execution_count": 85,
     "metadata": {},
     "output_type": "execute_result"
    }
   ],
   "source": [
    "str2[3],str2[0],str2[1]"
   ]
  },
  {
   "cell_type": "code",
   "execution_count": 86,
   "id": "01ab8ede",
   "metadata": {},
   "outputs": [
    {
     "data": {
      "text/plain": [
       "'pythonpythonpythonpythonpythonpythonpythonpythonpythonpython'"
      ]
     },
     "execution_count": 86,
     "metadata": {},
     "output_type": "execute_result"
    }
   ],
   "source": [
    "str2*10"
   ]
  },
  {
   "cell_type": "code",
   "execution_count": 87,
   "id": "9a0deb9c",
   "metadata": {},
   "outputs": [
    {
     "data": {
      "text/plain": [
       "'srenggib rof dnegised yllacisab si lairotut sihT'"
      ]
     },
     "execution_count": 87,
     "metadata": {},
     "output_type": "execute_result"
    }
   ],
   "source": [
    "str1[::-1]"
   ]
  },
  {
   "cell_type": "code",
   "execution_count": 88,
   "id": "df52a291",
   "metadata": {},
   "outputs": [
    {
     "data": {
      "text/plain": [
       "'nohtyp'"
      ]
     },
     "execution_count": 88,
     "metadata": {},
     "output_type": "execute_result"
    }
   ],
   "source": [
    "str2[::-1]"
   ]
  },
  {
   "cell_type": "code",
   "execution_count": 89,
   "id": "3d34320a",
   "metadata": {},
   "outputs": [
    {
     "data": {
      "text/plain": [
       "'ggners'"
      ]
     },
     "execution_count": 89,
     "metadata": {},
     "output_type": "execute_result"
    }
   ],
   "source": [
    "str1[-6:]"
   ]
  },
  {
   "cell_type": "code",
   "execution_count": 90,
   "id": "5934dd9e",
   "metadata": {},
   "outputs": [
    {
     "data": {
      "text/plain": [
       "'on'"
      ]
     },
     "execution_count": 90,
     "metadata": {},
     "output_type": "execute_result"
    }
   ],
   "source": [
    "str2[-2:]"
   ]
  },
  {
   "cell_type": "code",
   "execution_count": 91,
   "id": "5aa915d8",
   "metadata": {},
   "outputs": [
    {
     "name": "stdout",
     "output_type": "stream",
     "text": [
      "python\n",
      "python\n"
     ]
    }
   ],
   "source": [
    "# string is immutable (we can't modify existing element)\n",
    "print(str2)\n",
    "# str2[0]='G'\n",
    "print(str2)"
   ]
  },
  {
   "cell_type": "code",
   "execution_count": 92,
   "id": "9b770a65",
   "metadata": {},
   "outputs": [
    {
     "name": "stdout",
     "output_type": "stream",
     "text": [
      "1st string : dat Science\n",
      "2nd string : Machine Learning\n",
      "3rd string :  Deep Learning\n",
      "4th string : Naturel Language Proceesing\n",
      "5th string : Structured Query language\n"
     ]
    }
   ],
   "source": [
    "str1 = \"dat Science\"\n",
    "str2 = \"Machine Learning\"\n",
    "str3 = \"Deep Learning\"\n",
    "str4 = \"Naturel Language Proceesing\"\n",
    "str5 = \"Structured Query language\"\n",
    "print(\"1st string :\",str1)\n",
    "print(\"2nd string :\",str2)\n",
    "print(\"3rd string : \",str3)\n",
    "print(\"4th string :\",str4)\n",
    "print(\"5th string :\", str5)\n"
   ]
  },
  {
   "cell_type": "code",
   "execution_count": 93,
   "id": "50bb53f6",
   "metadata": {},
   "outputs": [
    {
     "name": "stdout",
     "output_type": "stream",
     "text": [
      "1st string : dat Science\n",
      "t Sc : at S\n",
      "ecneicS tad\n",
      "******************************************************************************************\n",
      "2nd string : Machine Learning\n",
      "ne Le : ne Le\n",
      "McieLann\n",
      "******************************************************************************************\n",
      "3rd string: Deep Learning\n",
      "Deep Learn\n",
      "******************************************************************************************\n",
      "4th string : Naturel Language Proceesing\n",
      "Nenecn\n",
      "******************************************************************************************\n",
      "5th string : Structured Query language\n",
      "St yg\n"
     ]
    }
   ],
   "source": [
    "print(\"1st string :\",str1)\n",
    "print(str1[2:6],\":\",str1[-10:-6])\n",
    "print(str1[::-1]) # reverse string\n",
    "print(\"*\"*90)\n",
    "\n",
    "print(\"2nd string :\",str2)\n",
    "print(str2[5:10],\":\",str2[-11:-6])\n",
    "print(str2[::2])#(strat index:endindex:step size)\n",
    "print(\"*\"*90) \n",
    "\n",
    "print(\"3rd string:\",str3)\n",
    "print(str3[0:10])\n",
    "print(\"*\"*90)\n",
    "\n",
    "print(\"4th string :\",str4)\n",
    "print(str4[::5])\n",
    "print(\"*\"*90)\n",
    "\n",
    "print(\"5th string :\",str5)\n",
    "print(str5[::5])"
   ]
  },
  {
   "cell_type": "code",
   "execution_count": 94,
   "id": "0b3a22a3",
   "metadata": {},
   "outputs": [
    {
     "name": "stdout",
     "output_type": "stream",
     "text": [
      "dat Sciencedat Science\n",
      "Machine LearningMachine LearningMachine Learning\n",
      "Deep LearningDeep LearningDeep LearningDeep Learning\n",
      "Naturel Language ProceesingNaturel Language ProceesingNaturel Language ProceesingNaturel Language ProceesingNaturel Language Proceesing\n",
      "Structured Query languageStructured Query languageStructured Query languageStructured Query languageStructured Query languageStructured Query language\n"
     ]
    }
   ],
   "source": [
    "# string multiply\n",
    "print(str1*2)\n",
    "print(str2*3)\n",
    "print(str3*4)\n",
    "print(str4*5)\n",
    "print(str5*6)"
   ]
  },
  {
   "cell_type": "markdown",
   "id": "6cd1c89d",
   "metadata": {},
   "source": [
    "## Type-Casting In datatypes"
   ]
  },
  {
   "cell_type": "markdown",
   "id": "e69d7948",
   "metadata": {},
   "source": [
    "#### Def: conversion of one type of data into other type of data is called typecasting\n",
    "\n",
    "int, float, str, boolean, complex, object\n",
    "\n",
    "         int to float / complex / str\n",
    "         float to int / complex / str\n",
    "         str to int / float / complex >>> # (string contains only numbers)\n",
    "\n",
    "\n",
    "         Note : can't convert complex to any other data type"
   ]
  },
  {
   "cell_type": "markdown",
   "id": "f5120b1a",
   "metadata": {},
   "source": [
    "#### 1. int to float /complex /string conversion"
   ]
  },
  {
   "cell_type": "code",
   "execution_count": 95,
   "id": "b41c6d13",
   "metadata": {},
   "outputs": [
    {
     "name": "stdout",
     "output_type": "stream",
     "text": [
      "<< integer to float conversion>>\n",
      "******************************************************************************************\n",
      "integer number: 1000\n",
      "type of variable : <class 'int'>\n",
      "coverted intger to float : 1000.0\n",
      "type of coverted number : <class 'float'>\n"
     ]
    }
   ],
   "source": [
    "var = 1000 \n",
    "print('<< integer to float conversion>>')\n",
    "print(\"*\"*90)\n",
    "print('integer number:',var)\n",
    "print('type of variable :',type(var))\n",
    "a = float(var)\n",
    "print('coverted intger to float :',a)\n",
    "print('type of coverted number :',type(a))"
   ]
  },
  {
   "cell_type": "code",
   "execution_count": 96,
   "id": "4940f856",
   "metadata": {},
   "outputs": [
    {
     "name": "stdout",
     "output_type": "stream",
     "text": [
      "<< intger to string conversion >>\n",
      "******************************************************************************************\n",
      "integer number : 1000\n",
      "type of variable : <class 'int'>\n",
      "coverted intger to string : 1000\n",
      "type of converted number : <class 'str'>\n"
     ]
    }
   ],
   "source": [
    "var = 1000 \n",
    "print(\"<< intger to string conversion >>\")\n",
    "print('*'*90)\n",
    "print('integer number :',var)\n",
    "print('type of variable :',type (var))\n",
    "a = str(var)\n",
    "print(\"coverted intger to string :\",a)\n",
    "print('type of converted number :',type(a))"
   ]
  },
  {
   "cell_type": "code",
   "execution_count": 97,
   "id": "c1b5a1f6",
   "metadata": {},
   "outputs": [
    {
     "name": "stdout",
     "output_type": "stream",
     "text": [
      "<< integer to complex conversion >>\n",
      "******************************************************************************************\n",
      "ineger number : 1000\n",
      "type of variable : <class 'int'>\n",
      "coverted to int to complex : (1000+0j)\n",
      "type of converted number: <class 'complex'>\n",
      "real : 1000.0\n",
      "imag : 0.0\n"
     ]
    }
   ],
   "source": [
    "var = 1000\n",
    "print('<< integer to complex conversion >>')\n",
    "print(\"*\"*90)\n",
    "print('ineger number :',var)\n",
    "print(\"type of variable :\",type(var))\n",
    "a = complex(var)\n",
    "print('coverted to int to complex :',a)\n",
    "print('type of converted number:',type(a))\n",
    "print('real :',a.real)\n",
    "print('imag :',a.imag)"
   ]
  },
  {
   "cell_type": "markdown",
   "id": "6168996e",
   "metadata": {},
   "source": [
    "#### 2. Float to int/complex/string conversion"
   ]
  },
  {
   "cell_type": "code",
   "execution_count": 98,
   "id": "868d729a",
   "metadata": {},
   "outputs": [
    {
     "name": "stdout",
     "output_type": "stream",
     "text": [
      "<< Float to int conversion >>\n",
      "******************************************************************************************\n",
      "float number : <class 'float'>\n",
      "coverted float to int : 999\n",
      "type of coverted number : <class 'int'>\n"
     ]
    }
   ],
   "source": [
    "var = 999.99\n",
    "print('<< Float to int conversion >>')\n",
    "print(\"*\"*90)\n",
    "print('float number :',type(var))\n",
    "a = int(var)\n",
    "print('coverted float to int :',a)\n",
    "print('type of coverted number :',type(a))\n"
   ]
  },
  {
   "cell_type": "code",
   "execution_count": 99,
   "id": "25c9a360",
   "metadata": {},
   "outputs": [
    {
     "name": "stdout",
     "output_type": "stream",
     "text": [
      "<< float to complex conversion >>\n",
      "******************************************************************************************\n",
      "float number : 999.99\n",
      "type of variable : <class 'float'>\n",
      "converted float to complex : (999.99+0j)\n",
      "type of converted number : <class 'complex'>\n",
      "real : 999.99\n",
      "imaginary : 0.0\n"
     ]
    }
   ],
   "source": [
    "var = 999.99\n",
    "print('<< float to complex conversion >>')\n",
    "print('*'*90)\n",
    "print('float number :',var)\n",
    "print('type of variable :',type(var))\n",
    "a = complex (var)\n",
    "print('converted float to complex :',a)\n",
    "print('type of converted number :',type(a))\n",
    "print('real :',a.real)\n",
    "print('imaginary :',a.imag)"
   ]
  },
  {
   "cell_type": "code",
   "execution_count": 100,
   "id": "48b64fe1",
   "metadata": {},
   "outputs": [
    {
     "name": "stdout",
     "output_type": "stream",
     "text": [
      "<<  float to string conversion >>\n",
      "******************************************************************************************\n",
      "float number : 999.99\n",
      "type of variables  : <class 'float'>\n",
      "converted float to string : 999.99\n",
      "type of converted number : <class 'str'>\n",
      "type of converted number : <class 'str'>\n"
     ]
    }
   ],
   "source": [
    "var = 999.99 \n",
    "print(\"<<  float to string conversion >>\")\n",
    "print('*'*90)\n",
    "print('float number :',var)\n",
    "print('type of variables  :',type(var))\n",
    "a =str(var)\n",
    "print('converted float to string :',a)\n",
    "print('type of converted number :',type(a))\n",
    "print('type of converted number :',type(a))"
   ]
  },
  {
   "cell_type": "code",
   "execution_count": 101,
   "id": "4d538cdb",
   "metadata": {},
   "outputs": [
    {
     "name": "stdout",
     "output_type": "stream",
     "text": [
      "<< string to int conversion >>\n",
      "******************************************************************************************\n",
      "string nnumber : <class 'str'>\n",
      "type of variable : <class 'str'>\n",
      "converted string to int : 10000\n",
      "type of converted number : <class 'int'>\n"
     ]
    }
   ],
   "source": [
    "var = '10000'\n",
    "print('<< string to int conversion >>')\n",
    "print(\"*\"*90)\n",
    "print('string nnumber :',type(var))\n",
    "print(\"type of variable :\",type(var))\n",
    "a = int(var)\n",
    "print('converted string to int :',a)\n",
    "print('type of converted number :',type(a))"
   ]
  },
  {
   "cell_type": "code",
   "execution_count": 102,
   "id": "75c3294f",
   "metadata": {},
   "outputs": [
    {
     "name": "stdout",
     "output_type": "stream",
     "text": [
      "<< string to float conversion >>\n",
      "******************************************************************************************\n",
      "string nnumber : <class 'str'>\n",
      "type of variable : <class 'str'>\n",
      "converted string to float : 10000.0\n",
      "type of converted number : <class 'float'>\n"
     ]
    }
   ],
   "source": [
    "var = '10000'\n",
    "print('<< string to float conversion >>')\n",
    "print(\"*\"*90)\n",
    "print('string nnumber :',type(var))\n",
    "print(\"type of variable :\",type(var))\n",
    "a = float(var)\n",
    "print('converted string to float :',a)\n",
    "print('type of converted number :',type(a))"
   ]
  },
  {
   "cell_type": "code",
   "execution_count": 103,
   "id": "aa3fc6a2",
   "metadata": {},
   "outputs": [
    {
     "name": "stdout",
     "output_type": "stream",
     "text": [
      "<< string to complex  conversion >>\n",
      "******************************************************************************************\n",
      "string nnumber : <class 'str'>\n",
      "type of variable : <class 'str'>\n",
      "converted string to complex : (10000+0j)\n",
      "type of converted number : <class 'complex'>\n"
     ]
    }
   ],
   "source": [
    "var = '10000'\n",
    "print('<< string to complex  conversion >>')\n",
    "print(\"*\"*90)\n",
    "print('string nnumber :',type(var))\n",
    "print(\"type of variable :\",type(var))\n",
    "a = complex(var)\n",
    "print('converted string to complex :',a)\n",
    "print('type of converted number :',type(a))"
   ]
  },
  {
   "cell_type": "markdown",
   "id": "a9fa1e6a",
   "metadata": {},
   "source": [
    "### Other types to complex function\n"
   ]
  },
  {
   "cell_type": "markdown",
   "id": "f8a3ede9",
   "metadata": {},
   "source": [
    "#### use complex (function for conversion"
   ]
  },
  {
   "cell_type": "code",
   "execution_count": 104,
   "id": "77b74470",
   "metadata": {},
   "outputs": [
    {
     "name": "stdout",
     "output_type": "stream",
     "text": [
      "(18+0j)\n",
      "(12.4+0j)\n"
     ]
    }
   ],
   "source": [
    "var = 18 \n",
    "print(complex (var))\n",
    " \n",
    "var1  = 12.4\n",
    "\n",
    "print(complex(var1))\n",
    "\n",
    "var3 = \"10.3\""
   ]
  },
  {
   "cell_type": "code",
   "execution_count": 105,
   "id": "bb32d1f3",
   "metadata": {},
   "outputs": [
    {
     "name": "stdout",
     "output_type": "stream",
     "text": [
      "(10+5j)\n",
      "(10.2+4j)\n",
      "(1+0j)\n"
     ]
    }
   ],
   "source": [
    "print (complex (10,5)) #10+5j\n",
    "print(complex(10.20,4)) # 10.2+4j\n",
    "print(complex(True,False)) # 1+0j"
   ]
  },
  {
   "cell_type": "markdown",
   "id": "030ba190",
   "metadata": {},
   "source": [
    "# Immutability\n"
   ]
  },
  {
   "cell_type": "markdown",
   "id": "c2cf3fae",
   "metadata": {},
   "source": [
    "Immutability refers to the property of an object that cannot be changed after it has been created. This means that once an object is created, its value cannot be modified.\n",
    "\n",
    "For example, if you assign a value to a variable that references an integer, you cannot modify the value of that integer:\n",
    "\n",
    "                  >>x = 5\n",
    "\n",
    "x = 6 # This creates a new integer object with the value 6 and assigns it to x, it doesn't modify the value of the original object with value 5.\n",
    "\n",
    "mutable objects in Python can be modified after they have been created.\n",
    "\n",
    "Examples of mutable objects include lists, sets, and dictionaries.\n",
    "\n",
    "If you modify a mutable object, you are actually changing the object itself, not creating a new object. For example:\n",
    "\n",
    "my_list = [1, 2, 3]\n",
    "\n",
    "my_list.append(4) # This modifies the existing list object, adding a new element 4 to it.\n",
    "\n",
    "### Immutability: object can not be changed after it has been created are called as immutability"
   ]
  },
  {
   "cell_type": "code",
   "execution_count": 106,
   "id": "2f81295e",
   "metadata": {},
   "outputs": [
    {
     "name": "stdout",
     "output_type": "stream",
     "text": [
      "140705383773096\n",
      "2105404951600\n"
     ]
    }
   ],
   "source": [
    "# immutability \n",
    "x = 5 \n",
    "print(id(x))\n",
    "x = 10\n",
    "print(id(id(x)))"
   ]
  },
  {
   "cell_type": "code",
   "execution_count": 107,
   "id": "978c1554",
   "metadata": {},
   "outputs": [
    {
     "name": "stdout",
     "output_type": "stream",
     "text": [
      "[1, 2, 3]\n",
      "2105405133888\n",
      "None\n",
      "[1, 2, [1, 2, 3]]\n",
      "2105405133888\n"
     ]
    }
   ],
   "source": [
    "# Mutability\n",
    "\n",
    "list1 = [1,2,3]\n",
    "print(list1)\n",
    "print(print(id(list1)))\n",
    "list1[2]=[1,2,3]\n",
    "print(list1)\n",
    "print(id(list1))"
   ]
  },
  {
   "cell_type": "code",
   "execution_count": 108,
   "id": "807ff9f2",
   "metadata": {},
   "outputs": [
    {
     "name": "stdout",
     "output_type": "stream",
     "text": [
      "140705383776136\n",
      "and \n",
      " 140705383776136\n",
      "True\n",
      "****************************************************************************************************\n",
      "2105404948656\n",
      "and \n",
      " 2105404948528\n",
      "2105403787568\n",
      "False\n"
     ]
    }
   ],
   "source": [
    "var =100 # for same intger value for multiple variable the id \n",
    "var1=var\n",
    "print(id(var))\n",
    "print('and \\n',id(var1))\n",
    "print(var is var1) #cheking variable\n",
    "\n",
    "print('*'*100)\n",
    "\n",
    "var = 999.99\n",
    "var1 = 999.99\n",
    "var2 = 999.99\n",
    " \n",
    "print(id (var))\n",
    "print('and \\n',id(var1))\n",
    "print(id(var2))\n",
    "print(var is var1)"
   ]
  },
  {
   "cell_type": "markdown",
   "id": "59ce6b49",
   "metadata": {},
   "source": [
    "## Bytes data type\n"
   ]
  },
  {
   "cell_type": "markdown",
   "id": "65662b13",
   "metadata": {},
   "source": [
    "In Python, bytes and bytearray are data types that represent a sequence of bytes (integers between 0 and 255) that can be used to store and manipulate binary data.\n",
    "\n",
    "The bytes type is immutable, which means that you cannot modify its contents once it has been created.\n",
    "\n",
    "You can create a bytes object by passing a sequence of integers (between 0 and 255) to the bytes constructor or by using the b prefix before a string literal:\n",
    "\n",
    "my_bytes = bytes([65, 66, 67]) # create a bytes object from a list of integers\n",
    "\n",
    "my_bytes = b\"ABC\" # create a bytes object from a string literal with the \"B\" pefix"
   ]
  },
  {
   "cell_type": "code",
   "execution_count": 109,
   "id": "b7923582",
   "metadata": {},
   "outputs": [
    {
     "name": "stdout",
     "output_type": "stream",
     "text": [
      "b'\\x01\\x02\\x03\\x04\\x05\\x06'\n",
      "<class 'bytes'>\n",
      "1\n",
      "2\n",
      "3\n",
      "4\n",
      "5\n",
      "6\n"
     ]
    }
   ],
   "source": [
    "l = [1,2,3,4,5,6]\n",
    "b = bytes(l)\n",
    "print(b)\n",
    "print(type(b))\n",
    "\n",
    "for i in b:\n",
    "    print(i)"
   ]
  },
  {
   "cell_type": "code",
   "execution_count": 110,
   "id": "52a981b3",
   "metadata": {},
   "outputs": [
    {
     "name": "stdout",
     "output_type": "stream",
     "text": [
      "val of b[5] : 6\n"
     ]
    }
   ],
   "source": [
    "# how to access\n",
    "print(\"val of b[5] :\",b[5])"
   ]
  },
  {
   "cell_type": "code",
   "execution_count": 111,
   "id": "d6678a13",
   "metadata": {},
   "outputs": [],
   "source": [
    "# try to modify\n",
    "# b[0]=100 \n",
    "# TypeError: 'bytes' object does not support item assignment\n",
    "# because bytes are immutable"
   ]
  },
  {
   "cell_type": "code",
   "execution_count": 112,
   "id": "23eaa941",
   "metadata": {},
   "outputs": [],
   "source": [
    "# my_bytes=bytes([1,2,3,4,5,260]) \n",
    "# print(my_bytes)\n",
    "# value above 255 will get value error\n",
    "# ValueError: bytes must be in range(0, 256)"
   ]
  },
  {
   "cell_type": "code",
   "execution_count": 113,
   "id": "8ddd00ad",
   "metadata": {},
   "outputs": [
    {
     "name": "stdout",
     "output_type": "stream",
     "text": [
      "<class 'bytes'>\n",
      "66\n",
      "65\n",
      "67\n"
     ]
    }
   ],
   "source": [
    "my_bytes1 = b'BAC'\n",
    "print(type(my_bytes1))\n",
    "for i in my_bytes1 :\n",
    "    print(i)\n"
   ]
  },
  {
   "cell_type": "code",
   "execution_count": 114,
   "id": "9c2a8fbc",
   "metadata": {},
   "outputs": [
    {
     "name": "stdout",
     "output_type": "stream",
     "text": [
      "[10, 20, 30, 40, 50]\n",
      "<class 'list'>\n",
      "******************************************************************************************\n",
      "b'\\n\\x14\\x1e(2'\n",
      "<class 'bytes'>\n",
      "10\n",
      "20\n",
      "30\n",
      "40\n",
      "50\n"
     ]
    }
   ],
   "source": [
    "a = [10,20,30,40,50]\n",
    "print(a)\n",
    "print(type(a))\n",
    "\n",
    "\n",
    "print(\"*\"*90)\n",
    "\n",
    "b=bytes(a)\n",
    "print(b)\n",
    "print(type(b))\n",
    "# this will not print for that we need to go through for  loop\n",
    "\n",
    "for i in b:\n",
    "    print(i)"
   ]
  },
  {
   "cell_type": "markdown",
   "id": "49ef9fae",
   "metadata": {},
   "source": [
    "## Bytearray Data Type"
   ]
  },
  {
   "cell_type": "markdown",
   "id": "dc38909d",
   "metadata": {},
   "source": [
    "#### The bytearray type is similar to bytes, but it is mutable, which means that you can modify its contents after it has been created. You can create a bytearray object by passing a sequence of integers (between 0 and 255) to the bytearray constructor or by using the bytearray() function:\n",
    "\n",
    "                                   my_bytearray = bytearray([65, 66, 67]) # create a bytearray object from a list of integers my_bytearray =bytearray(b\"ABC\") # create a bytearray object from a bytes object\n",
    "                 \n",
    "                 \n",
    "   x = 6 # This creates a new integer object with the value 6 and assigns it to x, it doesn't modify the value of the original object with value 5.\n",
    "\n",
    "\n"
   ]
  },
  {
   "cell_type": "code",
   "execution_count": 115,
   "id": "ec8b86f5",
   "metadata": {},
   "outputs": [
    {
     "name": "stdout",
     "output_type": "stream",
     "text": [
      "<class 'bytearray'>\n",
      "bytearray(b'\\n\\x14\\x14\\x1e')\n",
      "10\n",
      "20\n",
      "20\n",
      "30\n"
     ]
    }
   ],
   "source": [
    "my_bytearray= bytearray ([10,20,20,30])\n",
    "print(type(my_bytearray))\n",
    "print(my_bytearray)\n",
    "for i in  my_bytearray:\n",
    "    print(i)"
   ]
  },
  {
   "cell_type": "code",
   "execution_count": 116,
   "id": "d31872da",
   "metadata": {},
   "outputs": [
    {
     "data": {
      "text/plain": [
       "10"
      ]
     },
     "execution_count": 116,
     "metadata": {},
     "output_type": "execute_result"
    }
   ],
   "source": [
    "# accessing the element\n",
    "my_bytearray[0]"
   ]
  },
  {
   "cell_type": "code",
   "execution_count": 117,
   "id": "621d54f6",
   "metadata": {},
   "outputs": [
    {
     "name": "stdout",
     "output_type": "stream",
     "text": [
      "211\n",
      "20\n",
      "20\n",
      "30\n"
     ]
    }
   ],
   "source": [
    "# value modifying \n",
    "my_bytearray[0]=211\n",
    "\n",
    "for i in my_bytearray:\n",
    "    print(i)"
   ]
  },
  {
   "cell_type": "code",
   "execution_count": 118,
   "id": "61f80061",
   "metadata": {},
   "outputs": [
    {
     "name": "stdout",
     "output_type": "stream",
     "text": [
      "211\n",
      "20\n",
      "100\n",
      "30\n"
     ]
    }
   ],
   "source": [
    "# we can modify the element in original object of \"bytesarrray\"\n",
    "my_bytearray[2]=100\n",
    "for i in my_bytearray:\n",
    "    print(i)"
   ]
  },
  {
   "cell_type": "code",
   "execution_count": 119,
   "id": "6abd3c0d",
   "metadata": {},
   "outputs": [],
   "source": [
    "# my_bytearray[0]=260 # ValueError: byte must be in range(0, 256)\n",
    "\n",
    "# for i in my_bytearray:\n",
    "#     print(i)"
   ]
  },
  {
   "cell_type": "code",
   "execution_count": 120,
   "id": "58c9d82d",
   "metadata": {},
   "outputs": [
    {
     "name": "stdout",
     "output_type": "stream",
     "text": [
      "<class 'bytearray'>\n",
      "97\n",
      "98\n",
      "99\n"
     ]
    }
   ],
   "source": [
    "my_bytearray1=bytearray(b'abc')\n",
    "print(type(my_bytearray1))\n",
    "for i in my_bytearray1:\n",
    "    print(i)"
   ]
  },
  {
   "cell_type": "code",
   "execution_count": 121,
   "id": "d07781ab",
   "metadata": {},
   "outputs": [
    {
     "name": "stdout",
     "output_type": "stream",
     "text": [
      "bytearray(b'\\x01\\x02\\x03\\x04')\n",
      "1\n",
      "2\n",
      "3\n",
      "4\n",
      "******************************************************************************************\n",
      "bytearray(b'Z\\x02\\x03\\x04')\n",
      "90\n",
      "2\n",
      "3\n",
      "4\n"
     ]
    }
   ],
   "source": [
    "barray=bytearray([1,2,3,4])\n",
    "print(barray)\n",
    "for i in barray:\n",
    "    print(i)\n",
    "    \n",
    "print(\"*\"*90)\n",
    "    \n",
    "barray[0]=90 # bytearray is mutable\n",
    "print(barray)\n",
    "for i in barray:\n",
    "    print(i)"
   ]
  },
  {
   "cell_type": "markdown",
   "id": "db51973b",
   "metadata": {},
   "source": [
    "## LIST"
   ]
  },
  {
   "cell_type": "markdown",
   "id": "a2a78420",
   "metadata": {},
   "source": [
    "1. List stores  multiple item with different data types\n",
    "\n",
    "2.[ ] brackets are used to create list \n",
    "\n",
    "3. List is Ordered\n",
    "\n",
    "4. the list is changeable (mutable), meaning that we can change ,add remove items in alist after it has been created.\n",
    "\n",
    "5. Duplicate allowed (Stores)\n",
    " \n",
    "6. list is Growable (we can exend list upto memory limit)\n",
    "\n",
    "7. Element ara added at end of list"
   ]
  },
  {
   "cell_type": "code",
   "execution_count": 122,
   "id": "5c14b5c4",
   "metadata": {},
   "outputs": [
    {
     "name": "stdout",
     "output_type": "stream",
     "text": [
      "[1, 2, 3, 4, 5, 6, 7, 8]\n",
      "<class 'list'>\n",
      "******************************************************************************************\n",
      "[1.1, 2.2, 3.3, 4.4, 5.5, 6.6, 7.7, 8.8]\n",
      "<class 'list'>\n",
      "******************************************************************************************\n",
      "['a', 'b', 'c', 'd', 'e', 'f', 'g', 'h']\n",
      "<class 'list'>\n",
      "******************************************************************************************\n",
      "[1, 2, 3.33, 4.44, 'a', 'b']\n",
      "<class 'list'>\n",
      "******************************************************************************************\n"
     ]
    }
   ],
   "source": [
    "# creat list for int/float /string\n",
    "l_1 = [1,2,3,4,5,6,7,8]\n",
    "print(l_1)\n",
    "print(type(l_1))\n",
    "print(\"*\"*90)\n",
    "\n",
    "l_2 = [1.1,2.2,3.3,4.4,5.5,6.6,7.7,8.8]\n",
    "print(l_2)\n",
    "print(type(l_2))\n",
    "print(\"*\"*90)\n",
    "\n",
    "l_3 = ['a','b','c','d','e','f','g','h']\n",
    "print(l_3)\n",
    "print(type(l_3))\n",
    "print(\"*\"*90)\n",
    "\n",
    "l_4 = [1,2,3.33,4.44,'a','b']\n",
    "print(l_4)\n",
    "print(type(l_4))\n",
    "print(\"*\"*90)\n",
    "\n"
   ]
  },
  {
   "cell_type": "code",
   "execution_count": 123,
   "id": "39d46f5d",
   "metadata": {},
   "outputs": [
    {
     "name": "stdout",
     "output_type": "stream",
     "text": [
      "python\n",
      "2.2\n"
     ]
    }
   ],
   "source": [
    "#aceesing the list items\"s \n",
    "l = [1,2,'python','java',2.2,3.4]\n",
    "print(l[2])\n",
    "print(l[4])"
   ]
  },
  {
   "cell_type": "code",
   "execution_count": 124,
   "id": "00ac56d0",
   "metadata": {},
   "outputs": [
    {
     "name": "stdout",
     "output_type": "stream",
     "text": [
      "[1, 2, 3, 4, 5]\n",
      "<class 'list'>\n",
      "[10.1, 20.2, 30.3, 40.4, 50.5]\n",
      "<class 'list'>\n",
      "['Dj', 'Priya', 'Rajakka', 'dada', 'Jagadale']\n",
      "<class 'list'>\n",
      "[1, 10.1, 'Dj', (1+2j), 0]\n",
      "<class 'list'>\n"
     ]
    }
   ],
   "source": [
    "list1 = [1,2,3,4,5]\n",
    "list2 = [10.1,20.2,30.3,40.4,50.5]\n",
    "list3 = ['Dj','Priya','Rajakka','dada','Jagadale']\n",
    "list4 = [1,10.1,'Dj',1+2j,0]\n",
    "\n",
    "print(list1);print(type(list1))\n",
    "print(list2);print(type(list2))\n",
    "print(list3);print(type(list3))\n",
    "print(list4);print(type(list4))\n",
    "\n",
    "\n"
   ]
  },
  {
   "cell_type": "code",
   "execution_count": 125,
   "id": "088058b2",
   "metadata": {},
   "outputs": [
    {
     "name": "stdout",
     "output_type": "stream",
     "text": [
      "<class 'list'>\n"
     ]
    },
    {
     "data": {
      "text/plain": [
       "list"
      ]
     },
     "execution_count": 125,
     "metadata": {},
     "output_type": "execute_result"
    }
   ],
   "source": [
    "print(type(list1))\n",
    "type(list1)"
   ]
  },
  {
   "cell_type": "code",
   "execution_count": 126,
   "id": "8af3042b",
   "metadata": {},
   "outputs": [
    {
     "name": "stdout",
     "output_type": "stream",
     "text": [
      "1\n",
      "20.2\n",
      "Rajakka\n",
      "(1+2j)\n",
      "***************************\n"
     ]
    }
   ],
   "source": [
    "print(list1[0])\n",
    "print(list2[1])\n",
    "print(list3[2])\n",
    "print(list4[3])\n",
    "print('***************************')"
   ]
  },
  {
   "cell_type": "code",
   "execution_count": 127,
   "id": "8d88a0f9",
   "metadata": {},
   "outputs": [
    {
     "name": "stdout",
     "output_type": "stream",
     "text": [
      "[10.1, 20.2, 30.3, 40.4, 50.5]\n",
      "[10.1, 20.2, 30.3]\n"
     ]
    },
    {
     "data": {
      "text/plain": [
       "[10.1, 20.2, 30.3, 40.4, 50.5]"
      ]
     },
     "execution_count": 127,
     "metadata": {},
     "output_type": "execute_result"
    }
   ],
   "source": [
    "print(list2)\n",
    "print(list2[0:-2])\n",
    "\n",
    "list2"
   ]
  },
  {
   "cell_type": "code",
   "execution_count": 128,
   "id": "0efc0b9c",
   "metadata": {},
   "outputs": [
    {
     "name": "stdout",
     "output_type": "stream",
     "text": [
      "[10.1, 20.2, 30.3, 40.4, 50.5]\n",
      "[10.1, 20.2, 30.3]\n"
     ]
    }
   ],
   "source": [
    "print(list2)\n",
    "print(list2[0:3])"
   ]
  },
  {
   "cell_type": "code",
   "execution_count": 129,
   "id": "af21604e",
   "metadata": {},
   "outputs": [
    {
     "data": {
      "text/plain": [
       "50.5"
      ]
     },
     "execution_count": 129,
     "metadata": {},
     "output_type": "execute_result"
    }
   ],
   "source": [
    "list2[-1]"
   ]
  },
  {
   "cell_type": "code",
   "execution_count": 130,
   "id": "27a4e829",
   "metadata": {},
   "outputs": [
    {
     "name": "stdout",
     "output_type": "stream",
     "text": [
      "[50.5, 40.4, 30.3, 20.2, 10.1]\n"
     ]
    }
   ],
   "source": [
    "print(list2[::-1]) # reverse list printed"
   ]
  },
  {
   "cell_type": "markdown",
   "id": "377bd263",
   "metadata": {},
   "source": [
    "### Operation Of list"
   ]
  },
  {
   "cell_type": "code",
   "execution_count": 131,
   "id": "200be470",
   "metadata": {},
   "outputs": [
    {
     "name": "stdout",
     "output_type": "stream",
     "text": [
      "['Dj', 'Priya', 'Rajakka', 'dada', 'Jagadale']\n",
      "Length : 5\n"
     ]
    },
    {
     "data": {
      "text/plain": [
       "5"
      ]
     },
     "execution_count": 131,
     "metadata": {},
     "output_type": "execute_result"
    }
   ],
   "source": [
    "# Len Fuction\n",
    "print(list3)\n",
    "print(\"Length :\",len(list3))\n",
    "len(list3)"
   ]
  },
  {
   "cell_type": "code",
   "execution_count": 132,
   "id": "51f68a87",
   "metadata": {},
   "outputs": [
    {
     "name": "stdout",
     "output_type": "stream",
     "text": [
      "['Dj', 'Priya', 'Rajakka', 'dada', 'Jagadale']\n",
      "['Dj', 'Priya', 'Rajakka', 'dada', 'Jagadale', 'Ambak']\n"
     ]
    }
   ],
   "source": [
    "# append fuction\n",
    "print(list3)\n",
    "list3.append('Ambak')\n",
    "print(list3)"
   ]
  },
  {
   "cell_type": "code",
   "execution_count": 133,
   "id": "ca87a72e",
   "metadata": {},
   "outputs": [
    {
     "name": "stdout",
     "output_type": "stream",
     "text": [
      "['Dj', 'Priya', 'Rajakka', 'dada', 'Jagadale', 'Ambak']\n",
      "['Dj', 'Priya', 'Rajakka', 'dada', 'Jagadale']\n"
     ]
    }
   ],
   "source": [
    "# remove fuction \n",
    "print(list3)\n",
    "list3.remove(\"Ambak\")\n",
    "print(list3)"
   ]
  },
  {
   "cell_type": "code",
   "execution_count": 134,
   "id": "17c993ea",
   "metadata": {},
   "outputs": [
    {
     "name": "stdout",
     "output_type": "stream",
     "text": [
      "list 3 : ['Dj', 'Priya', 'Rajakka', 'dada', 'Jagadale']\n",
      "list 10 : ['Dj', 'Priya', 'Rajakka', 'dada', 'Jagadale']\n"
     ]
    }
   ],
   "source": [
    "# copy fuction \n",
    "list10 = list3.copy()\n",
    "print(\"list 3 :\",list3)\n",
    "print(\"list 10 :\",list10)"
   ]
  },
  {
   "cell_type": "code",
   "execution_count": 135,
   "id": "1ab871aa",
   "metadata": {},
   "outputs": [
    {
     "name": "stdout",
     "output_type": "stream",
     "text": [
      "[1, 2, 3, 4, 5]\n",
      "[1, 2, 3, 4, 5, 'A', 'm', 'b', 'a', 'k']\n"
     ]
    }
   ],
   "source": [
    "# extend fuction\n",
    "print(list1)\n",
    "list1.extend(\"Ambak\")\n",
    "print(list1)\n"
   ]
  },
  {
   "cell_type": "code",
   "execution_count": 136,
   "id": "c2064961",
   "metadata": {},
   "outputs": [
    {
     "name": "stdout",
     "output_type": "stream",
     "text": [
      "['Dj', 'Priya', 'Rajakka', 'dada', 'Jagadale', 'Dj', 'Priya', 'Rajakka', 'dada', 'Jagadale']\n"
     ]
    }
   ],
   "source": [
    "list10.extend(list3)\n",
    "print(list10)"
   ]
  },
  {
   "cell_type": "code",
   "execution_count": 137,
   "id": "b79806f7",
   "metadata": {},
   "outputs": [
    {
     "data": {
      "text/plain": [
       "[1, 2, 3, 4]"
      ]
     },
     "execution_count": 137,
     "metadata": {},
     "output_type": "execute_result"
    }
   ],
   "source": [
    "# del fuction\n",
    "del list1[4::1]\n",
    "list1"
   ]
  },
  {
   "cell_type": "code",
   "execution_count": 138,
   "id": "223d0859",
   "metadata": {},
   "outputs": [
    {
     "name": "stdout",
     "output_type": "stream",
     "text": [
      "list1 : [1, 2, 3, 4]\n",
      "list2 : [10.1, 20.2, 30.3, 40.4, 50.5]\n",
      "0\n",
      "3\n",
      "2\n"
     ]
    },
    {
     "data": {
      "text/plain": [
       "2"
      ]
     },
     "execution_count": 138,
     "metadata": {},
     "output_type": "execute_result"
    }
   ],
   "source": [
    "#index fuction \n",
    "print(\"list1 :\",list1)\n",
    "print(\"list2 :\",list2)\n",
    "print(list1.index(1))\n",
    "print(list2.index(40.4))\n",
    "print(list4.index('Dj'))\n",
    "list3.index('Rajakka') \n"
   ]
  },
  {
   "cell_type": "code",
   "execution_count": 139,
   "id": "e61da733",
   "metadata": {},
   "outputs": [
    {
     "name": "stdout",
     "output_type": "stream",
     "text": [
      "list1 : [1, 2, 3, 4]\n",
      "list1 after insert : [1, 2, 3, 100, 4]\n"
     ]
    }
   ],
   "source": [
    "# insert value (index , value)\n",
    "print(\"list1 :\",list1)\n",
    "list1.insert(3,100)\n",
    "print('list1 after insert :',list1)"
   ]
  },
  {
   "cell_type": "code",
   "execution_count": 140,
   "id": "767e7ad8",
   "metadata": {},
   "outputs": [],
   "source": [
    "# pop fuction "
   ]
  },
  {
   "cell_type": "markdown",
   "id": "e9fb8034",
   "metadata": {},
   "source": [
    "POP will remove llast element from list but if we give indexnumber then that particular element will be remove"
   ]
  },
  {
   "cell_type": "code",
   "execution_count": 141,
   "id": "44a80194",
   "metadata": {},
   "outputs": [
    {
     "name": "stdout",
     "output_type": "stream",
     "text": [
      "[1, 2, 3, 100, 4]\n",
      "[1, 2, 3, 100]\n",
      "[1, 2, 3]\n"
     ]
    }
   ],
   "source": [
    "print(list1)\n",
    "list1.pop()# pop last element\n",
    "print(list1)\n",
    "list1.pop(3) # pop ist index\n",
    "print(list1)"
   ]
  },
  {
   "cell_type": "code",
   "execution_count": 142,
   "id": "981acfe9",
   "metadata": {},
   "outputs": [
    {
     "name": "stdout",
     "output_type": "stream",
     "text": [
      "original list : [10.1, 20.2, 30.3, 40.4, 50.5]\n",
      "reverse list : [50.5, 40.4, 30.3, 20.2, 10.1]\n"
     ]
    }
   ],
   "source": [
    "# reverse fuction\n",
    "print(\"original list :\",list2)\n",
    "list2.reverse()\n",
    "print(\"reverse list :\",list2)"
   ]
  },
  {
   "cell_type": "code",
   "execution_count": 143,
   "id": "8433ede0",
   "metadata": {},
   "outputs": [
    {
     "name": "stdout",
     "output_type": "stream",
     "text": [
      "original list : [1, 2, 3, 4, 5, 6]\n",
      "Ascending order : [1, 2, 3, 4, 5, 6]\n",
      "Decending order : [6, 5, 4, 3, 2, 1]\n"
     ]
    }
   ],
   "source": [
    "# sort fuction (ascending /decending )\n",
    "list11 = [1,2,3,4,5,6]\n",
    "print('original list :',list11)\n",
    "list11.sort(reverse = False)\n",
    "print('Ascending order :',list11)\n",
    "list11.sort(reverse = True)\n",
    "print('Decending order :',list11)"
   ]
  },
  {
   "cell_type": "code",
   "execution_count": 144,
   "id": "ad31f235",
   "metadata": {},
   "outputs": [
    {
     "data": {
      "text/plain": [
       "['-110', '-110', '0', '10', '10.1', '1000', 'A', 'A', 'B', 'B', 'C', 'C']"
      ]
     },
     "execution_count": 144,
     "metadata": {},
     "output_type": "execute_result"
    }
   ],
   "source": [
    "# lst .sort (*,key=none , reverse =false)\n",
    "lst = ['C','B','A','C','B','A',0,-110,-110,'1000',10.1,10]\n",
    "lst = sorted (map(str,lst))\n",
    "lst"
   ]
  },
  {
   "cell_type": "code",
   "execution_count": 145,
   "id": "5ce56b00",
   "metadata": {},
   "outputs": [
    {
     "name": "stdout",
     "output_type": "stream",
     "text": [
      "[6, 5, 4, 3, 2, 1]\n",
      "[6, 'mohite_patil', 4, 3, 2, 1]\n"
     ]
    }
   ],
   "source": [
    "# modifying 1st index \n",
    "print(list11)\n",
    "list11[1]='mohite_patil'\n",
    "print(list11)"
   ]
  },
  {
   "cell_type": "code",
   "execution_count": 146,
   "id": "18ff8354",
   "metadata": {},
   "outputs": [
    {
     "name": "stdout",
     "output_type": "stream",
     "text": [
      "[6, 'mohite_patil', 4, 3, 2, 1]\n",
      "['A', 'B', 'C', 3, 2, 1]\n"
     ]
    }
   ],
   "source": [
    "# modifying 1st, 2nd and 3rd index\n",
    "\n",
    "print(list11)\n",
    "list11[0:3]=['A','B','C']\n",
    "print(list11)"
   ]
  },
  {
   "cell_type": "code",
   "execution_count": 147,
   "id": "7a69edd2",
   "metadata": {},
   "outputs": [
    {
     "name": "stdout",
     "output_type": "stream",
     "text": [
      "6\n",
      "['A', 'B', 'C', 3, 2, 1]\n"
     ]
    }
   ],
   "source": [
    "print(len(list11))\n",
    "# list11[9] = 'padmaja' # list assignment index out of range\n",
    "print(list11)"
   ]
  },
  {
   "cell_type": "code",
   "execution_count": 148,
   "id": "3f085767",
   "metadata": {},
   "outputs": [
    {
     "name": "stdout",
     "output_type": "stream",
     "text": [
      "[]\n"
     ]
    }
   ],
   "source": [
    "# clear fuction\n",
    "list11.clear()\n",
    "print(list11)"
   ]
  },
  {
   "cell_type": "code",
   "execution_count": 149,
   "id": "0f00aa60",
   "metadata": {},
   "outputs": [],
   "source": [
    "# acccess list element by using for loop"
   ]
  },
  {
   "cell_type": "code",
   "execution_count": 150,
   "id": "e5da514d",
   "metadata": {},
   "outputs": [
    {
     "name": "stdout",
     "output_type": "stream",
     "text": [
      "1\n",
      "10.1\n",
      "Dj\n",
      "(1+2j)\n",
      "0\n"
     ]
    }
   ],
   "source": [
    "for i in list4:\n",
    "    print(i)"
   ]
  },
  {
   "cell_type": "code",
   "execution_count": 151,
   "id": "0fbc6701",
   "metadata": {},
   "outputs": [
    {
     "name": "stdout",
     "output_type": "stream",
     "text": [
      "[50.5, 40.4, 30.3, 20.2, 10.1]\n",
      "[50.5, 40.4, 30.3]\n"
     ]
    },
    {
     "data": {
      "text/plain": [
       "[50.5, 40.4, 30.3, 20.2, 10.1]"
      ]
     },
     "execution_count": 151,
     "metadata": {},
     "output_type": "execute_result"
    }
   ],
   "source": [
    "print(list2)\n",
    "print(list2[0:3])\n",
    "list2"
   ]
  },
  {
   "cell_type": "code",
   "execution_count": 152,
   "id": "562040fc",
   "metadata": {},
   "outputs": [
    {
     "name": "stdout",
     "output_type": "stream",
     "text": [
      "[50.5, 40.4, 30.3, 20.2, 10.1]\n",
      "[50.5, 40.4, 30.3]\n"
     ]
    }
   ],
   "source": [
    "print(list2)\n",
    "print(list2[0:-2])"
   ]
  },
  {
   "cell_type": "code",
   "execution_count": 153,
   "id": "3c0c3551",
   "metadata": {},
   "outputs": [
    {
     "data": {
      "text/plain": [
       "10.1"
      ]
     },
     "execution_count": 153,
     "metadata": {},
     "output_type": "execute_result"
    }
   ],
   "source": [
    "list2[-1]"
   ]
  },
  {
   "cell_type": "code",
   "execution_count": 154,
   "id": "d68a2a33",
   "metadata": {},
   "outputs": [
    {
     "name": "stdout",
     "output_type": "stream",
     "text": [
      "[10.1, 20.2, 30.3, 40.4, 50.5]\n"
     ]
    }
   ],
   "source": [
    "print(list2[::-1]) # reverse list printed"
   ]
  },
  {
   "cell_type": "markdown",
   "id": "0317ca11",
   "metadata": {},
   "source": [
    "####  Operation of list"
   ]
  },
  {
   "cell_type": "code",
   "execution_count": 155,
   "id": "889b7595",
   "metadata": {},
   "outputs": [
    {
     "name": "stdout",
     "output_type": "stream",
     "text": [
      "['Dj', 'Priya', 'Rajakka', 'dada', 'Jagadale']\n",
      "5\n"
     ]
    },
    {
     "data": {
      "text/plain": [
       "5"
      ]
     },
     "execution_count": 155,
     "metadata": {},
     "output_type": "execute_result"
    }
   ],
   "source": [
    "# len fuction \n",
    "print(list3)\n",
    "print(len(list3))\n",
    "len(list3)"
   ]
  },
  {
   "cell_type": "code",
   "execution_count": 156,
   "id": "2129312e",
   "metadata": {},
   "outputs": [
    {
     "name": "stdout",
     "output_type": "stream",
     "text": [
      "['Dj', 'Priya', 'Rajakka', 'dada', 'Jagadale']\n"
     ]
    }
   ],
   "source": [
    "#append fuction\n",
    "print(list3)\n",
    "list3.append('Ambak')"
   ]
  },
  {
   "cell_type": "code",
   "execution_count": 157,
   "id": "2d193620",
   "metadata": {},
   "outputs": [
    {
     "name": "stdout",
     "output_type": "stream",
     "text": [
      "[1, 2, 22, 33, 44, 4, 5, 6, 7, 8, 9]\n",
      "list[4]\n"
     ]
    }
   ],
   "source": [
    "list20 = [1,2,3,4,5,6,7,8,9]\n",
    "list20[2:3]=[22,33,44]\n",
    "print(list20)\n",
    "print(list[4])"
   ]
  },
  {
   "cell_type": "code",
   "execution_count": 158,
   "id": "74361345",
   "metadata": {},
   "outputs": [
    {
     "name": "stdout",
     "output_type": "stream",
     "text": [
      "[1, 2, 22, 33, 44]\n",
      "44\n"
     ]
    }
   ],
   "source": [
    "# lok like misbahaviour but actully we are given index 2:en\n",
    "list21 = [1,2,3,4,5,67,8,9]\n",
    "list21[2:] = [22,33,44]\n",
    "print(list21)\n",
    "print(list20[4])"
   ]
  },
  {
   "cell_type": "code",
   "execution_count": 159,
   "id": "66caf041",
   "metadata": {},
   "outputs": [
    {
     "name": "stdout",
     "output_type": "stream",
     "text": [
      "[1, 2, 22, 33, 44, 5, 6, 7, 8, 9]\n",
      "44\n"
     ]
    }
   ],
   "source": [
    "list21 = [1,2,3,4,5,6,7,8,9]\n",
    "list21[2:4]=[22,33,44]\n",
    "print(list21)\n",
    "print(list20[4])"
   ]
  },
  {
   "cell_type": "markdown",
   "id": "5ea94b58",
   "metadata": {},
   "source": [
    "# TUPLE"
   ]
  },
  {
   "cell_type": "markdown",
   "id": "77266f0e",
   "metadata": {},
   "source": [
    "#### 1. Tuple is ordered and unchangable(not growable).\n",
    "#### 2.  Immutable (you cant change the element or can't add elements in tuple)\n",
    "#### 3.  () are used to represent the tuple\n",
    "#### 4.  Duplicates allowed\n",
    "#### 5.  Tuples are read only version of your list but except list is growable."
   ]
  },
  {
   "cell_type": "code",
   "execution_count": 160,
   "id": "64d39726",
   "metadata": {},
   "outputs": [
    {
     "name": "stdout",
     "output_type": "stream",
     "text": [
      "(1, 2, 3, 4, 5, 6)\n",
      "<class 'tuple'>\n"
     ]
    }
   ],
   "source": [
    "# tuple constructer \n",
    "tup = tuple ((1,2,3,4,5,6))\n",
    "print(tup)\n",
    "print(type(tup))"
   ]
  },
  {
   "cell_type": "code",
   "execution_count": 161,
   "id": "7337e3cf",
   "metadata": {},
   "outputs": [
    {
     "data": {
      "text/plain": [
       "1"
      ]
     },
     "execution_count": 161,
     "metadata": {},
     "output_type": "execute_result"
    }
   ],
   "source": [
    "# count ()\n",
    "tup.count(5) # counts how ties element is coming"
   ]
  },
  {
   "cell_type": "code",
   "execution_count": 162,
   "id": "771e2119",
   "metadata": {},
   "outputs": [
    {
     "data": {
      "text/plain": [
       "4"
      ]
     },
     "execution_count": 162,
     "metadata": {},
     "output_type": "execute_result"
    }
   ],
   "source": [
    "# index ()\n",
    "tup.index(5)# showing index number of element"
   ]
  },
  {
   "cell_type": "code",
   "execution_count": 163,
   "id": "ab32a648",
   "metadata": {},
   "outputs": [],
   "source": [
    "# tup.append(10) \n",
    "# AttributeError: 'tuple' object has no attribute 'append'"
   ]
  },
  {
   "cell_type": "code",
   "execution_count": 164,
   "id": "da130680",
   "metadata": {},
   "outputs": [
    {
     "name": "stdout",
     "output_type": "stream",
     "text": [
      "(1, 2, 3, 4, 5, 6)\n",
      "<class 'tuple'>\n",
      "************************************************************\n",
      "[1, 2, 3, 4, 5, 6]\n",
      "<class 'list'>\n"
     ]
    }
   ],
   "source": [
    "# step1: tuple convert into list\n",
    "print(tup)\n",
    "print(type(tup))\n",
    "print('*'*60)\n",
    "l_tup = list(tup)\n",
    "print(l_tup)\n",
    "print(type(l_tup))"
   ]
  },
  {
   "cell_type": "code",
   "execution_count": 165,
   "id": "54e6ab58",
   "metadata": {},
   "outputs": [
    {
     "name": "stdout",
     "output_type": "stream",
     "text": [
      "[1, 2, 3, 4, 5, 6, 100]\n",
      "<class 'list'>\n",
      "************************************************************\n",
      "(1, 2, 3, 4, 5, 6, 100)\n",
      "<class 'tuple'>\n"
     ]
    }
   ],
   "source": [
    "# step2 : append requied item in list\n",
    "l_tup.append(100)\n",
    "print(l_tup)\n",
    "print(type(l_tup))\n",
    "print('*'*60)\n",
    "tup=tuple(l_tup)\n",
    "print(tup)\n",
    "print(type(tup))"
   ]
  },
  {
   "cell_type": "code",
   "execution_count": 166,
   "id": "722008cf",
   "metadata": {},
   "outputs": [
    {
     "name": "stdout",
     "output_type": "stream",
     "text": [
      "(1, 2, 3, 4, 5, 6, 100)\n"
     ]
    }
   ],
   "source": [
    "print(tup)"
   ]
  },
  {
   "cell_type": "code",
   "execution_count": 167,
   "id": "83122623",
   "metadata": {},
   "outputs": [
    {
     "name": "stdout",
     "output_type": "stream",
     "text": [
      "(1, 2, 3, 4, 5, 6, 100, 'Krishna')\n"
     ]
    }
   ],
   "source": [
    "# append \n",
    "l=list(tup)\n",
    "l.append ('Krishna')\n",
    "tup=tuple(l)\n",
    "print(tup)\n"
   ]
  },
  {
   "cell_type": "code",
   "execution_count": 168,
   "id": "ee1ee6b3",
   "metadata": {},
   "outputs": [
    {
     "name": "stdout",
     "output_type": "stream",
     "text": [
      "[11, 22, 33, 44, 55, 66, 1000, 'Hare']\n",
      "<class 'list'>\n",
      "(11, 22, 33, 44, 55, 66, 1000, 'Hare')\n"
     ]
    }
   ],
   "source": [
    "# copy \n",
    "ll = [11,22,33,44,55,66,1000,'Hare']\n",
    "print(ll)\n",
    "print(type(ll))\n",
    "l = list(tup)\n",
    "len(ll)\n",
    "l=ll.copy()\n",
    "tup=tuple(l)\n",
    "print(tup)"
   ]
  },
  {
   "cell_type": "code",
   "execution_count": 169,
   "id": "bed2affe",
   "metadata": {},
   "outputs": [
    {
     "name": "stdout",
     "output_type": "stream",
     "text": [
      "(11, 22, 33, 44, 55, 66, 1000, 'Hare', 'rama', 'Hare', 'Krishna')\n"
     ]
    }
   ],
   "source": [
    "# extend fuction\n",
    "lll = ['rama','Hare','Krishna']\n",
    "l = list(tup)\n",
    "l.extend(lll)\n",
    "tup=tuple(l)\n",
    "print(tup)"
   ]
  },
  {
   "cell_type": "code",
   "execution_count": 170,
   "id": "a5661fa2",
   "metadata": {},
   "outputs": [
    {
     "name": "stdout",
     "output_type": "stream",
     "text": [
      "7\n",
      "10\n"
     ]
    }
   ],
   "source": [
    "# index\n",
    "print(tup.index('Hare'))\n",
    "print(tup.index('Krishna'))\n"
   ]
  },
  {
   "cell_type": "code",
   "execution_count": 171,
   "id": "69cf00e4",
   "metadata": {},
   "outputs": [
    {
     "name": "stdout",
     "output_type": "stream",
     "text": [
      "(11, 22, 33, 44, 55, 66, 'ABC', 1000, 'Hare', 'rama', 'Hare', 'Krishna')\n"
     ]
    }
   ],
   "source": [
    "# insert (index,value)\n",
    "l=list(tup)\n",
    "l.insert(6,'ABC')\n",
    "tup=tuple(l)\n",
    "print(tup)"
   ]
  },
  {
   "cell_type": "code",
   "execution_count": 172,
   "id": "5a688c45",
   "metadata": {},
   "outputs": [
    {
     "name": "stdout",
     "output_type": "stream",
     "text": [
      "(11, 22, 33, 44, 55, 66, 1000, 'Hare', 'rama', 'Hare', 'Krishna')\n"
     ]
    }
   ],
   "source": [
    "# pop ()\n",
    "l=list(tup)\n",
    "l.pop(6)\n",
    "tup=tuple(l)\n",
    "print(tup)"
   ]
  },
  {
   "cell_type": "code",
   "execution_count": 173,
   "id": "dea8bb21",
   "metadata": {},
   "outputs": [
    {
     "name": "stdout",
     "output_type": "stream",
     "text": [
      "(11, 22, 33, 44, 55, 1000, 'Hare', 'rama', 'Hare', 'Krishna')\n"
     ]
    }
   ],
   "source": [
    "# remove()we need give argument which we want to remove \n",
    "l=list(tup)\n",
    "l.remove(66)\n",
    "tup=tuple(l)\n",
    "print(tup)"
   ]
  },
  {
   "cell_type": "code",
   "execution_count": 174,
   "id": "578dbca8",
   "metadata": {},
   "outputs": [
    {
     "name": "stdout",
     "output_type": "stream",
     "text": [
      "('Krishna', 'Hare', 'rama', 'Hare', 1000, 55, 44, 33, 22, 11)\n"
     ]
    }
   ],
   "source": [
    "# reverse ()\n",
    "l = list(tup)\n",
    "l.reverse()\n",
    "tup=tuple(l)\n",
    "print(tup)"
   ]
  },
  {
   "cell_type": "code",
   "execution_count": 175,
   "id": "ad6334fd",
   "metadata": {},
   "outputs": [],
   "source": [
    "# sort\n",
    "# l=list(tup)\n",
    "# l1=l.sort()# ascending\n",
    "# # TypeError: '<' not supported between instances of 'int' and 'str'\n",
    "# tup=tuple(ll)\n",
    "# print(tup)\n",
    "# l2=l.sort(reverse=True) # decending order\n",
    "# tup1=tuple(l2)\n",
    "# print(tup1)\n",
    "\n",
    "# in list we need either one value or str"
   ]
  },
  {
   "cell_type": "code",
   "execution_count": 176,
   "id": "d1c926f6",
   "metadata": {},
   "outputs": [
    {
     "name": "stdout",
     "output_type": "stream",
     "text": [
      "[11, 22, 10101, 44, 55, 66, 1000]\n",
      "[11, 22, 44, 55, 66, 1000, 10101]\n"
     ]
    }
   ],
   "source": [
    "l1 =[11,22,10101,44,55,66,1000]\n",
    "print(l1)\n",
    "l1.sort()\n",
    "print(l1)"
   ]
  },
  {
   "cell_type": "code",
   "execution_count": 177,
   "id": "ae7dc411",
   "metadata": {},
   "outputs": [
    {
     "name": "stdout",
     "output_type": "stream",
     "text": [
      "()\n"
     ]
    }
   ],
   "source": [
    "# clear ()\n",
    "l=list(tup)\n",
    "l.clear()\n",
    "tup=tuple(l)\n",
    "print(tup)"
   ]
  },
  {
   "cell_type": "code",
   "execution_count": 178,
   "id": "96024cc8",
   "metadata": {},
   "outputs": [
    {
     "name": "stdout",
     "output_type": "stream",
     "text": [
      "('apple', 'apple', 'banana', 'cherry', 'orange', 'kiwi', 'melon', 'mango')\n",
      "<class 'tuple'>\n"
     ]
    }
   ],
   "source": [
    "tup = ('apple','apple','banana','cherry','orange','kiwi','melon','mango')\n",
    "print(tup)\n",
    "print(type(tup))"
   ]
  },
  {
   "cell_type": "code",
   "execution_count": 179,
   "id": "750cd2ee",
   "metadata": {},
   "outputs": [
    {
     "name": "stdout",
     "output_type": "stream",
     "text": [
      "8\n",
      "2\n"
     ]
    },
    {
     "data": {
      "text/plain": [
       "3"
      ]
     },
     "execution_count": 179,
     "metadata": {},
     "output_type": "execute_result"
    }
   ],
   "source": [
    "print(len(tup))\n",
    "print(tup.count('apple'))\n",
    "tup.index('cherry')"
   ]
  },
  {
   "cell_type": "code",
   "execution_count": 180,
   "id": "e12f4084",
   "metadata": {},
   "outputs": [
    {
     "name": "stdout",
     "output_type": "stream",
     "text": [
      "<class 'str'>\n",
      "<class 'tuple'>\n"
     ]
    }
   ],
   "source": [
    "tup1=(\"sucess\")\n",
    "print(type(tup1))\n",
    "\n",
    "tup1 =('sucesss',)# ','required at last\n",
    "print(type(tup1))"
   ]
  },
  {
   "cell_type": "code",
   "execution_count": 181,
   "id": "7e367909",
   "metadata": {},
   "outputs": [
    {
     "name": "stdout",
     "output_type": "stream",
     "text": [
      "('apple', 'apple', 'banana', 'cherry', 'orange', 'kiwi', 'melon', 'mango')\n",
      "<class 'tuple'>\n",
      "**********************************************************************\n",
      "('apple', 'apple', 'banana', 'cherry', 'orange', 'kiwi', 'melon', 'mango')\n",
      "<class 'tuple'>\n"
     ]
    }
   ],
   "source": [
    "tup = ('apple','apple','banana','cherry','orange','kiwi','melon','mango')\n",
    "print(tup)\n",
    "print(type(tup))\n",
    "\n",
    "print(\"*\"*70)\n",
    "tup = ('apple','apple','banana','cherry','orange','kiwi','melon','mango')\n",
    "print(tup)\n",
    "print(type(tup))"
   ]
  },
  {
   "cell_type": "code",
   "execution_count": 182,
   "id": "9b61cce0",
   "metadata": {},
   "outputs": [
    {
     "name": "stdout",
     "output_type": "stream",
     "text": [
      "(1, 1.2, 'abc', True, 40, 'male')\n",
      "<class 'tuple'>\n"
     ]
    }
   ],
   "source": [
    "tup2 = (1,1.2,\"abc\",True,40,\"male\")\n",
    "print(tup2)\n",
    "print(type(tup2))"
   ]
  },
  {
   "cell_type": "code",
   "execution_count": 183,
   "id": "3afbbd3e",
   "metadata": {},
   "outputs": [
    {
     "name": "stdout",
     "output_type": "stream",
     "text": [
      "(10, 20, 30)\n"
     ]
    }
   ],
   "source": [
    "# tuple constructor >> tuple contructor is a built in fuction\n",
    "\n",
    "tup3 = tuple([10,20,30])\n",
    "print(tup3)"
   ]
  },
  {
   "cell_type": "code",
   "execution_count": 184,
   "id": "705183d8",
   "metadata": {},
   "outputs": [
    {
     "name": "stdout",
     "output_type": "stream",
     "text": [
      "(10, 20, 30)\n"
     ]
    },
    {
     "data": {
      "text/plain": [
       "20"
      ]
     },
     "execution_count": 184,
     "metadata": {},
     "output_type": "execute_result"
    }
   ],
   "source": [
    "# access the element of tuple\n",
    "\n",
    "print(tup3)\n",
    "tup3[1]"
   ]
  },
  {
   "cell_type": "code",
   "execution_count": 185,
   "id": "f54a7cce",
   "metadata": {},
   "outputs": [
    {
     "name": "stdout",
     "output_type": "stream",
     "text": [
      "('apple', 'apple', 'banana', 'cherry', 'orange', 'kiwi', 'melon', 'mango')\n"
     ]
    },
    {
     "data": {
      "text/plain": [
       "'cherry'"
      ]
     },
     "execution_count": 185,
     "metadata": {},
     "output_type": "execute_result"
    }
   ],
   "source": [
    "print(tup)\n",
    "tup[3]"
   ]
  },
  {
   "cell_type": "code",
   "execution_count": 186,
   "id": "97133a1f",
   "metadata": {},
   "outputs": [
    {
     "data": {
      "text/plain": [
       "'melon'"
      ]
     },
     "execution_count": 186,
     "metadata": {},
     "output_type": "execute_result"
    }
   ],
   "source": [
    "tup[-2]"
   ]
  },
  {
   "cell_type": "code",
   "execution_count": 187,
   "id": "bea56c08",
   "metadata": {},
   "outputs": [
    {
     "data": {
      "text/plain": [
       "('apple', 'banana')"
      ]
     },
     "execution_count": 187,
     "metadata": {},
     "output_type": "execute_result"
    }
   ],
   "source": [
    "# range of item\n",
    "tup[1:3]"
   ]
  },
  {
   "cell_type": "code",
   "execution_count": 188,
   "id": "c5795a56",
   "metadata": {},
   "outputs": [
    {
     "name": "stdout",
     "output_type": "stream",
     "text": [
      "tuple will be :  ('apple', 'apple', 'banana', 'cherry', 'orange', 'kiwi', 'melon', 'mango')\n",
      "<class 'tuple'>\n",
      "**********************************************************************\n",
      "Tuple converte in list  ['apple', 'apple', 'banana', 'cherry', 'orange', 'kiwi', 'melon', 'mango']\n",
      "<class 'list'>\n",
      "**********************************************************************\n",
      "changing value in list ['apple', 'Potato', 'banana', 'cherry', 'orange', 'kiwi', 'melon', 'mango']\n",
      "<class 'list'>\n",
      "****************************************************************************************************\n",
      "Converted ist to tuple: ('apple', 'Potato', 'banana', 'cherry', 'orange', 'kiwi', 'melon', 'mango')\n"
     ]
    }
   ],
   "source": [
    "# change tuple value by using list\n",
    "\n",
    "print('tuple will be : ',tup)\n",
    "print(type(tup))\n",
    "\n",
    "print(\"*\"*70)\n",
    "\n",
    "var = list(tup)\n",
    "print(\"Tuple converte in list \",var)\n",
    "print(type(var))\n",
    "\n",
    "print('*'*70)\n",
    "\n",
    "# cahnge value \n",
    "var[1] = 'Potato'\n",
    "print('changing value in list',var)\n",
    "print(type(var))\n",
    "\n",
    "print('*'*100)\n",
    "\n",
    "# change back to tuple from list\n",
    "var1 = tuple(var)\n",
    "print('Converted ist to tuple:',var1)"
   ]
  },
  {
   "cell_type": "code",
   "execution_count": 189,
   "id": "73e5a3b3",
   "metadata": {},
   "outputs": [
    {
     "name": "stdout",
     "output_type": "stream",
     "text": [
      "('A', 'B', 'C', 'D', 'E')\n",
      "<class 'tuple'>\n",
      "**********************************************************************\n",
      "['A', 'B', 'C', 'D', 'E']\n",
      "<class 'list'>\n",
      "**********************************************************************\n",
      "['A', 'BBBB', 'C', 'D', 'E']\n",
      "<class 'list'>\n",
      "**********************************************************************\n",
      "('A', 'BBBB', 'C', 'D', 'E')\n",
      "<class 'tuple'>\n"
     ]
    }
   ],
   "source": [
    "# add item to list and convert back to tuple\n",
    "tup11=('A','B','C','D','E')\n",
    "print(tup11)\n",
    "print(type(tup11))\n",
    "\n",
    "print(\"*\"*70)\n",
    "\n",
    "var = list(tup11)\n",
    "print(var)\n",
    "print(type(var))\n",
    "\n",
    "print(\"*\"*70)\n",
    "\n",
    "var[1]='BBBB'\n",
    "print(var)\n",
    "print(type(var))\n",
    "print(\"*\"*70)\n",
    "\n",
    "var1=tuple(var)\n",
    "print(var1)\n",
    "print(type(var1))"
   ]
  },
  {
   "cell_type": "code",
   "execution_count": 190,
   "id": "c73a1b4c",
   "metadata": {},
   "outputs": [
    {
     "name": "stdout",
     "output_type": "stream",
     "text": [
      "(1, 44, 'hh', 'aba', 1, 1, 4, 6, 7)\n",
      "<class 'tuple'>\n",
      "*******************************************************************************\n",
      "typcasting from tuple to list :\n",
      "[1, 44, 'hh', 'aba', 1, 1, 4, 6, 7]\n",
      "<class 'list'>\n",
      "**********************************************************************\n",
      "removing element from lis :\n",
      "[1, 44, 'hh', 'aba', 1, 1, 4, 6]\n",
      "<class 'list'>\n"
     ]
    }
   ],
   "source": [
    "# remove items using list \n",
    "tup = (1,44,'hh','aba',1,1,4,6,7)\n",
    "print(tup)\n",
    "print(type(tup))\n",
    "print(\"*\"*79)\n",
    "\n",
    "print('typcasting from tuple to list :')\n",
    "list1 =list(tup)\n",
    "print(list1)\n",
    "print(type(list1))\n",
    "print('*'*70)\n",
    "      \n",
    "print('removing element from lis :')\n",
    "# list.remove ('aba')# element name\n",
    "list1.pop(8) # index number of removing element\n",
    "print(list1)\n",
    "print(type(list1))"
   ]
  },
  {
   "cell_type": "code",
   "execution_count": 191,
   "id": "e1806a9f",
   "metadata": {},
   "outputs": [
    {
     "name": "stdout",
     "output_type": "stream",
     "text": [
      "('A', 'B', 'C', 1, 2, 3)\n",
      "<class 'tuple'>\n"
     ]
    }
   ],
   "source": [
    "# complte of using del tuple name\n",
    "tup_1=('A','B','C',1,2,3)\n",
    "print(tup_1)\n",
    "print(type(tup_1))\n",
    "\n",
    "del tup_1\n",
    "# print(tup_1) # error is coming due to tuple delteted by using del"
   ]
  },
  {
   "cell_type": "markdown",
   "id": "abf12e42",
   "metadata": {},
   "source": [
    "##### use of asterisk(*):\n",
    "\n",
    "\n",
    "       asterisk (*) can be used in tuples to perform a       variety of operations.\n",
    "       \n",
    " \n",
    "        "
   ]
  },
  {
   "cell_type": "markdown",
   "id": "39f064f6",
   "metadata": {},
   "source": [
    "### 1. Unpacking operator:\n",
    "\n",
    "##### The most common use of the asterisk in tuples is as an unpacking operator. For example, if you have a tuple with more than one element, you can use the asterisk to unpack all of the remaining elements into a new variable."
   ]
  },
  {
   "cell_type": "code",
   "execution_count": 192,
   "id": "acc14606",
   "metadata": {},
   "outputs": [
    {
     "name": "stdout",
     "output_type": "stream",
     "text": [
      "1\n",
      "[2, 3, 4, 5]\n"
     ]
    }
   ],
   "source": [
    "tup=(1,2,3,4,5)\n",
    "(a, *b)=tup\n",
    "print(a)\n",
    "print(b)"
   ]
  },
  {
   "cell_type": "code",
   "execution_count": 193,
   "id": "78f08706",
   "metadata": {},
   "outputs": [
    {
     "name": "stdout",
     "output_type": "stream",
     "text": [
      "1\n",
      "[2, 3]\n",
      "4\n",
      "5\n"
     ]
    }
   ],
   "source": [
    "(a,*b,c,d)=tup\n",
    "print(a)\n",
    "print(b)\n",
    "print(c)\n",
    "print(d)\n"
   ]
  },
  {
   "cell_type": "code",
   "execution_count": 194,
   "id": "8843f970",
   "metadata": {},
   "outputs": [
    {
     "name": "stdout",
     "output_type": "stream",
     "text": [
      "apple\n",
      "banana\n",
      "['cherry', 'strawberry']\n",
      "**********************************************************************\n",
      "['apple']\n",
      "banana\n",
      "strawberry\n",
      "******************************************************************************************\n",
      "apple\n",
      "['banana', 'cherry']\n",
      "strawberry\n"
     ]
    }
   ],
   "source": [
    "fruit = ('apple','banana','cherry','strawberry')\n",
    "fruit_1=('apple','strawberry','banana',\"cherry\",'rasberry')\n",
    "(red,yellow,*pink)=fruit\n",
    "print(red)\n",
    "print(yellow)\n",
    "print(pink)\n",
    "\n",
    "print('*'*70)\n",
    "(*red,yellow,pink,pink)=fruit\n",
    "print(red)\n",
    "print(yellow)\n",
    "print(pink)\n",
    "\n",
    "print('*'*90)\n",
    "(red,*yellow,pink)=fruit\n",
    "print(red)\n",
    "print(yellow)\n",
    "print(pink)"
   ]
  },
  {
   "cell_type": "markdown",
   "id": "a400924c",
   "metadata": {},
   "source": [
    "In this example, the variable a will be assigned the first value in the tuple, and the variable b will be assigned a list containing the remaining values in the tuple.\n",
    "\n",
    " ####        2. Packing Operator :\n",
    "         The asterisk can also be used to pack elements into a tuple. This is done by placing the asterisk before a variable that contains a sequence of values. Here's an example:"
   ]
  },
  {
   "cell_type": "code",
   "execution_count": 195,
   "id": "e788c36a",
   "metadata": {},
   "outputs": [
    {
     "name": "stdout",
     "output_type": "stream",
     "text": [
      "(1, 2, 3, 4, 5, 6, 7, 8, 9, 10)\n"
     ]
    }
   ],
   "source": [
    "a = (1,2,3,4,5)\n",
    "b=(6,7,8,9,10)\n",
    "c= (*a,*b)\n",
    "print(c)"
   ]
  },
  {
   "cell_type": "code",
   "execution_count": 196,
   "id": "1f4777f3",
   "metadata": {},
   "outputs": [
    {
     "name": "stdout",
     "output_type": "stream",
     "text": [
      "('apple', 'banana', 'cherry', 'strawberry', 'rasberry', 'apple', 'strawberry', 'banana', 'cherry', 'rasberry')\n"
     ]
    }
   ],
   "source": [
    "fruit = ('apple','banana','cherry','strawberry','rasberry')\n",
    "fruit_1 = (\"apple\",\"strawberry\",\"banana\",\"cherry\",\"rasberry\")\n",
    "market = (*fruit,*fruit_1)\n",
    "print(market)"
   ]
  },
  {
   "cell_type": "markdown",
   "id": "f2e6b322",
   "metadata": {},
   "source": [
    "In this example, the variables a and b contain tuples, and the asterisk is used to pack their elements into a new tuple c.\n",
    "\n",
    "### 3  Function arguments:\n",
    "The asterisk can also be used in function calls to unpack a tuple or list as arguments to the function. Here's an example:"
   ]
  },
  {
   "cell_type": "code",
   "execution_count": 197,
   "id": "674c91b9",
   "metadata": {},
   "outputs": [
    {
     "name": "stdout",
     "output_type": "stream",
     "text": [
      "6\n"
     ]
    }
   ],
   "source": [
    "def add_numbers (a,b,c):\n",
    "    return a+b+c\n",
    "\n",
    "numbers=add_numbers(1,2,3) # normal Fuction calling\n",
    "print(numbers)\n"
   ]
  },
  {
   "cell_type": "code",
   "execution_count": 198,
   "id": "726bf451",
   "metadata": {},
   "outputs": [
    {
     "name": "stdout",
     "output_type": "stream",
     "text": [
      "6\n"
     ]
    }
   ],
   "source": [
    "values =(1,2,3)\n",
    "number =add_numbers(*values)\n",
    "print(numbers)"
   ]
  },
  {
   "cell_type": "code",
   "execution_count": 199,
   "id": "0ff888b3",
   "metadata": {},
   "outputs": [
    {
     "name": "stdout",
     "output_type": "stream",
     "text": [
      "apple_banana_Cherry\n"
     ]
    }
   ],
   "source": [
    "def fruits(a,b,c):\n",
    "    return a+'_'+b+'_'+c\n",
    "market = fruits('apple','banana',\"Cherry\")\n",
    "print(market)"
   ]
  },
  {
   "cell_type": "markdown",
   "id": "2558e4e0",
   "metadata": {},
   "source": [
    "In this example, the tuple numbers is unpacked into individual arguments using the asterisk and passed to the add_numbers() function"
   ]
  },
  {
   "cell_type": "code",
   "execution_count": 200,
   "id": "010f6af1",
   "metadata": {},
   "outputs": [
    {
     "name": "stdout",
     "output_type": "stream",
     "text": [
      "(1, 2, 3, 4, 5, 6, 7, 8, 9, 58, 37, 45, 43, 7, 4, 6, 8, 5, 4, 3)\n",
      "2\n",
      "******************************************************************************************\n",
      "10\n"
     ]
    }
   ],
   "source": [
    "# methods : counts()& index()\n",
    "tup = (1,2,3,4,5,6,7,8,9,58,37,45,43,7,4,6,8,5,4,3,)\n",
    "print(tup)\n",
    "print(tup.count(5))\n",
    "\n",
    "print(\"*\"*90)\n",
    "print(tup.index(37))"
   ]
  },
  {
   "cell_type": "code",
   "execution_count": 201,
   "id": "0e325504",
   "metadata": {},
   "outputs": [],
   "source": [
    "# Try assigning values to tuples\n",
    "# tup[0] = 'grapes'\n",
    "# TypeError: 'tuple' object does not support item assignment"
   ]
  },
  {
   "cell_type": "markdown",
   "id": "353d08d9",
   "metadata": {},
   "source": [
    "# SET"
   ]
  },
  {
   "cell_type": "markdown",
   "id": "100ff1fd",
   "metadata": {},
   "source": [
    "#### 1.set is unordered collection of elements i.e sequence will be change after execution\n",
    "####  2.index concept is not applicable\n",
    "#### 3.it is mutable (you can change the element or add the elements in set)\n",
    "#### 4.it is growable\n",
    "#### 5.set items are unchangeable due to don't know indexing of elements\n",
    "#### 6.{ } are used to represent set\n",
    "#### 7.duplicates are not allowed\n",
    "\n",
    "### Available methods for set is:\n",
    "\n",
    "s.copy()\n",
    "\n",
    "s.difference()\n",
    "\n",
    "s.intersection()\n",
    "\n",
    "s.isdisjoint()\n",
    "\n",
    "s.issubset()\n",
    "\n",
    "s.issuperset()\n",
    "\n",
    "s.symmetric_difference()\n",
    "\n",
    "s.union()\n",
    "\n",
    "s1={1,2,3,4,'vaibhav"
   ]
  },
  {
   "cell_type": "code",
   "execution_count": 202,
   "id": "97a68341",
   "metadata": {},
   "outputs": [
    {
     "name": "stdout",
     "output_type": "stream",
     "text": [
      "<class 'set'>\n",
      "{'Dipak', 1, 2, 3, 4, 'DJ', 'priya'}\n"
     ]
    }
   ],
   "source": [
    "s1 = {1,2,3,4,\"Dipak\",\"priya\",\"DJ\"}\n",
    "print(type(s1))\n",
    "print(s1)"
   ]
  },
  {
   "cell_type": "code",
   "execution_count": 203,
   "id": "b641379c",
   "metadata": {},
   "outputs": [
    {
     "name": "stdout",
     "output_type": "stream",
     "text": [
      "7\n"
     ]
    }
   ],
   "source": [
    "print(len(s1))"
   ]
  },
  {
   "cell_type": "code",
   "execution_count": 204,
   "id": "5cb298b2",
   "metadata": {},
   "outputs": [
    {
     "name": "stdout",
     "output_type": "stream",
     "text": [
      "<class 'set'>\n",
      "{1, 2, 3, 70.1, 'chetan', 'kaviraj', 'sai'}\n"
     ]
    }
   ],
   "source": [
    "s = {1,2,3,\"sai\",\"kaviraj\",\"chetan\",70.1}\n",
    "print(type(s))\n",
    "print(s)"
   ]
  },
  {
   "cell_type": "code",
   "execution_count": 205,
   "id": "e147e55a",
   "metadata": {},
   "outputs": [
    {
     "name": "stdout",
     "output_type": "stream",
     "text": [
      "7\n"
     ]
    }
   ],
   "source": [
    "print(len(s))"
   ]
  },
  {
   "cell_type": "code",
   "execution_count": 206,
   "id": "050ca60d",
   "metadata": {},
   "outputs": [
    {
     "name": "stdout",
     "output_type": "stream",
     "text": [
      "{'apple', 'banana', 'cherry'}\n",
      "<class 'set'>\n"
     ]
    }
   ],
   "source": [
    "# set() constructer (by using list and tuple)\n",
    "set1 = set([\"apple\",'banana',\"cherry\"])# using list\n",
    "print(set1)\n",
    "print(type(set1))"
   ]
  },
  {
   "cell_type": "code",
   "execution_count": 207,
   "id": "5898bbf6",
   "metadata": {},
   "outputs": [
    {
     "name": "stdout",
     "output_type": "stream",
     "text": [
      "{1, 90.1, 'appa', 'nana'}\n",
      "<class 'set'>\n"
     ]
    }
   ],
   "source": [
    "set2 = set((1,\"nana\",\"appa\",90.10))# using tuple\n",
    "print(set2)\n",
    "print(type(set2))"
   ]
  },
  {
   "cell_type": "code",
   "execution_count": 208,
   "id": "a06ce783",
   "metadata": {},
   "outputs": [
    {
     "name": "stdout",
     "output_type": "stream",
     "text": [
      "{1, 90.1, 'appa', 'nana'}\n",
      "banana is present in set2 ?>> False\n",
      "appa is pesent in set2 ?>> True\n"
     ]
    }
   ],
   "source": [
    "# accessing set\n",
    "print(set2)\n",
    "val = \"banana\" in set2\n",
    "print(\"banana is present in set2 ?>>\",val)\n",
    "print(\"appa is pesent in set2 ?>>\",\"appa\" in set2)"
   ]
  },
  {
   "cell_type": "code",
   "execution_count": 209,
   "id": "2fe34b8d",
   "metadata": {},
   "outputs": [],
   "source": [
    "# set2[1] # TypeError: 'set' object is not subscriptable"
   ]
  },
  {
   "cell_type": "code",
   "execution_count": 210,
   "id": "f9c7c2c2",
   "metadata": {},
   "outputs": [
    {
     "data": {
      "text/plain": [
       "True"
      ]
     },
     "execution_count": 210,
     "metadata": {},
     "output_type": "execute_result"
    }
   ],
   "source": [
    "90.1 in set2"
   ]
  },
  {
   "cell_type": "code",
   "execution_count": 211,
   "id": "ffbb490a",
   "metadata": {},
   "outputs": [
    {
     "name": "stdout",
     "output_type": "stream",
     "text": [
      "{1, 90.1, 'appa', 'nana'}\n",
      "{1, 'nana', 'mango', 90.1, 'appa'}\n"
     ]
    }
   ],
   "source": [
    "# once set is created we can not change element value but we\n",
    "print(set2)\n",
    "set2.add(\"mango\")\n",
    "print(set2)"
   ]
  },
  {
   "cell_type": "code",
   "execution_count": 212,
   "id": "5031768b",
   "metadata": {},
   "outputs": [
    {
     "name": "stdout",
     "output_type": "stream",
     "text": [
      "{1, 'nana', 'mango', 90.1, 'appa'}\n",
      "{1, 'nana', 'mango', 90.1, 'appa', 'add'}\n"
     ]
    }
   ],
   "source": [
    "# duplicates are not allowed\n",
    "print(set2)\n",
    "set2.add(\"add\")# appa is already in set so will not be add\n",
    "print(set2)"
   ]
  },
  {
   "cell_type": "code",
   "execution_count": 213,
   "id": "5039bd3b",
   "metadata": {},
   "outputs": [
    {
     "name": "stdout",
     "output_type": "stream",
     "text": [
      "s1 :  {1, 2, 'shree', 22.2, 11.1, 'ganesh'}\n",
      "s2 : {33.3, 20, 'krishna', 10, 44.4, 'hare'}\n",
      "s3 : {66.6, 100, 55.5, 200, 'rama', 'hare'}\n",
      "**********************************************************************\n",
      "lst updated s1 : {1, 2, 33.3, 'hare', 'shree', 10, 11.1, 44.4, 'ganesh', 20, 22.2, 'krishna'}\n",
      "****************************************************************************************************\n",
      "2nd updated s1 : {1, 2, 33.3, 'hare', 66.6, 'shree', 100, 200, 10, 11.1, 44.4, 'rama', 'ganesh', 20, 22.2, 55.5, 'krishna'}\n",
      "**********************************************************************\n"
     ]
    }
   ],
   "source": [
    "# using update you can add any iterable item\n",
    "# iterable item like : set,list,tuple,dict_only keys\n",
    "\n",
    "s1={1, 2, 11.1, 22.2, \"shree\", \"ganesh\"}\n",
    "s2={10, 20, 33.3, 44.4, \"hare\", \"krishna\"}\n",
    "s3={100, 200, 55.5, 66.6, \"hare\", \"rama\"}\n",
    "\n",
    "print(\"s1 : \",s1)\n",
    "print(\"s2 :\",s2)\n",
    "print(\"s3 :\",s3)\n",
    "print(\"*\"*70)\n",
    "\n",
    "s1.update(s2)\n",
    "print(\"lst updated s1 :\",s1)\n",
    "print(\"*\"*100)\n",
    "s1.update(s3)\n",
    "print(\"2nd updated s1 :\",s1)\n",
    "print('*'*70)"
   ]
  },
  {
   "cell_type": "code",
   "execution_count": 214,
   "id": "1c98f98e",
   "metadata": {},
   "outputs": [
    {
     "name": "stdout",
     "output_type": "stream",
     "text": [
      "remove using remove () :\n",
      ") {'apple', 'banana', 'cherry'}\n",
      "******************************************************************************************\n",
      "{'apple', 'cherry'}\n"
     ]
    }
   ],
   "source": [
    "# remove (),discard (),pop()\n",
    "# remove () >> raise an error if element not present\n",
    "print(\"remove using remove () :\\n)\",set1)\n",
    "print('*'*90)\n",
    "set1.remove('banana')\n",
    "print(set1)"
   ]
  },
  {
   "cell_type": "code",
   "execution_count": 215,
   "id": "bef576c9",
   "metadata": {},
   "outputs": [
    {
     "name": "stdout",
     "output_type": "stream",
     "text": [
      "{'cherry'}\n"
     ]
    }
   ],
   "source": [
    "# discard ()method >> method not an error if element \n",
    "set1.discard(\"apple\")\n",
    "print(set1)"
   ]
  },
  {
   "cell_type": "code",
   "execution_count": 216,
   "id": "e63476ba",
   "metadata": {},
   "outputs": [
    {
     "name": "stdout",
     "output_type": "stream",
     "text": [
      "set()\n"
     ]
    }
   ],
   "source": [
    "# pop() method >> remove and return an arbitary (randomly) set\n",
    "\n",
    "set1.pop()\n",
    "print(set1)\n"
   ]
  },
  {
   "cell_type": "code",
   "execution_count": 217,
   "id": "9d375401",
   "metadata": {},
   "outputs": [
    {
     "name": "stdout",
     "output_type": "stream",
     "text": [
      "{2, 22.2, 'share', 11.1, 'ganesh'}\n",
      "{2, 22.2, 'share', 11.1, 'ganesh'}\n",
      "{22.2, 'share', 11.1, 'ganesh'}\n"
     ]
    }
   ],
   "source": [
    "\n",
    "s1 = {1,2,11.1,22.2,\"share\",\"ganesh\"}\n",
    "s1.remove(1)\n",
    "print(s1)\n",
    "s1.discard(1)\n",
    "print(s1)\n",
    "s1.pop()\n",
    "print(s1)"
   ]
  },
  {
   "cell_type": "code",
   "execution_count": 218,
   "id": "6666372f",
   "metadata": {},
   "outputs": [
    {
     "name": "stdout",
     "output_type": "stream",
     "text": [
      "{1, 2, 3, 4}\n",
      "{3, 4, 5, 6, 7}\n",
      "{1, 2, 3, 4, 5, 6, 7}\n"
     ]
    }
   ],
   "source": [
    "# union method()\n",
    "\n",
    "# adds element of two and creat new set\n",
    "s1={1,2,3,4}\n",
    "s2={3,4,5,6,7}\n",
    "\n",
    "print(s1)\n",
    "print(s2)\n",
    " \n",
    "    \n",
    "new_set=s1.union(s2)\n",
    "print(new_set)\n",
    "\n",
    "# update method work for union only bu adds element to calling\n"
   ]
  },
  {
   "cell_type": "code",
   "execution_count": 219,
   "id": "19faba0d",
   "metadata": {},
   "outputs": [
    {
     "name": "stdout",
     "output_type": "stream",
     "text": [
      "{1, 2, 3, 4}\n",
      "{3, 4, 5, 6, 7}\n",
      "{1, 2, 3, 4, 5, 6, 7}\n"
     ]
    }
   ],
   "source": [
    "# intersection() method >> Return the intersection of two sets as a new set.\n",
    "# (i.e. all common elements that are in both sets.)\n",
    "\n",
    "print(s1)\n",
    "print(s2)\n",
    "\n",
    "new_set=s1.union(s2) # union does not allow duplicates\n",
    "print(new_set)\n",
    "\n",
    "# updates method work for union only adds elements to calling"
   ]
  },
  {
   "cell_type": "code",
   "execution_count": 220,
   "id": "94b7a27c",
   "metadata": {},
   "outputs": [
    {
     "name": "stdout",
     "output_type": "stream",
     "text": [
      "{1, 2, 3, 4}\n",
      "{3, 4, 5, 6, 7}\n",
      "intersection :\n",
      " {3, 4}\n",
      "intersection updates :\n",
      " {1, 2}\n"
     ]
    }
   ],
   "source": [
    "# intersection() method >> Return the intersection of two sets as a new set.\n",
    "# (i.e. all common elements that are in both sets.)\n",
    "print(s1)\n",
    "print(s2)\n",
    "s3={1,2,10,20,30}\n",
    "intr=s1.intersection (s2) # requires new variable for return \n",
    "print(\"intersection :\\n\",intr)\n",
    "\n",
    "s1.intersection_update(s3)\n",
    "print(\"intersection updates :\\n\",s1)\n",
    "    \n"
   ]
  },
  {
   "cell_type": "code",
   "execution_count": 221,
   "id": "93c3e3aa",
   "metadata": {},
   "outputs": [
    {
     "name": "stdout",
     "output_type": "stream",
     "text": [
      "{1, 2, 3, 4, 5}\n",
      "{4, 5, 6, 7, 8}\n",
      "difference of set1 and set2: {1, 2, 3}\n",
      "difference of set2 and set1: {8, 6, 7}\n",
      "symmetric_difference: {1, 2, 3, 6, 7, 8}\n",
      "symmetric_difference_update : {1, 2, 3, 6, 7, 8}\n",
      "set1: {1, 2, 3, 6, 7, 8}\n",
      "set2: {4, 5, 6, 7, 8}\n"
     ]
    }
   ],
   "source": [
    "set1={1,2,3,4,5}\n",
    "set2={4,5,6,7,8}\n",
    "print(set1)\n",
    "print(set2)\n",
    "\n",
    "# difference: return new set with element which are not present in another set\n",
    "sd1=set1.difference(set2)\n",
    "print('difference of set1 and set2:',sd1)\n",
    "sd2=set2.difference(set1)\n",
    "print(\"difference of set2 and set1:\",sd2)\n",
    "\n",
    "\n",
    "# symmetric_difference : return new set with elements present in s1 but not in set2 and viceversa\n",
    "syd=set1.symmetric_difference(set2)\n",
    "print(\"symmetric_difference:\",syd)\n",
    "\n",
    "\n",
    "# symmetric_difference_update : update a set with symmetric_differnece iteself and another\n",
    "sdu=set1.symmetric_difference_update(set2)\n",
    "print(\"symmetric_difference_update :\",set1)\n",
    "print(\"set1:\",set1)\n",
    "print(\"set2:\",set2)"
   ]
  },
  {
   "cell_type": "code",
   "execution_count": 222,
   "id": "c979dc1a",
   "metadata": {},
   "outputs": [
    {
     "name": "stdout",
     "output_type": "stream",
     "text": [
      "{1, 2, 3, 4, 5}\n",
      "{4, 5, 6, 7, 8}\n",
      "('difference of set1 and set2 :', {1, 2, 3})\n",
      "diffrence of set2 and set1 : {8, 6, 7}\n",
      "symmentric_difference :: None\n",
      "symmetric_difference_update : {1, 2, 3, 4, 5}\n",
      "set1: {1, 2, 3, 4, 5}\n",
      "set2: {4, 5, 6, 7, 8}\n"
     ]
    }
   ],
   "source": [
    "set1={1,2,3,4,5}\n",
    "set2 ={4,5,6,7,8}\n",
    "print(set1)\n",
    "print(set2)\n",
    " \n",
    "# differance : return new set with element which are not present in s1 but not in set2 and viceversa\n",
    "sd1=set1.difference (set2)\n",
    "print(('difference of set1 and set2 :',sd1))\n",
    "sd2 = set2.difference (set1)\n",
    "print(\"diffrence of set2 and set1 :\",sd2)\n",
    "\n",
    "# symmentric_difference : return new with element present in s1 but not in set2 and viceversa\n",
    "syd=set1.symmetric_difference_update(set2)\n",
    "print(\"symmentric_difference ::\",syd)\n",
    "\n",
    "# symmetric_difference_update : update a set with symmetric_differnece iteself and another\n",
    "sdu=set1.symmetric_difference_update(set2)\n",
    "print(\"symmetric_difference_update :\",set1)\n",
    "print(\"set1:\",set1)\n",
    "print(\"set2:\",set2)"
   ]
  },
  {
   "cell_type": "markdown",
   "id": "16ee4baf",
   "metadata": {},
   "source": [
    "#### symmetric_difference :\n",
    "                                                              keep elements which are not present in another set\n",
    "    1. s1={1,2,3,4,5,6}\n",
    "    2. s2={3,5,7,8,9}\n",
    "\n",
    "    output: s1 and s2 = {1,2,4,6} + {7,8,9} "
   ]
  },
  {
   "cell_type": "code",
   "execution_count": 223,
   "id": "a82d4224",
   "metadata": {},
   "outputs": [
    {
     "name": "stdout",
     "output_type": "stream",
     "text": [
      "{1, 2, 3, 4, 5, 6}\n",
      "{3, 5, 7, 8, 9}\n",
      "**********************************************************************\n",
      "symmetric_difference :\n",
      " {1, 2, 4, 6, 7, 8, 9}\n"
     ]
    }
   ],
   "source": [
    "# symmetric _diffrence ()\n",
    "## >> return new set with element which are present in s1 not in s2 + present in s2 but not in s1\n",
    "s1={1,2,3,4,5,6}\n",
    "s2={3,5,7,8,9}\n",
    "\n",
    "print(s1)\n",
    "print(s2)\n",
    "\n",
    "print(\"*\"*70)\n",
    "\n",
    "res=s1.symmetric_difference(s2)\n",
    "print(\"symmetric_difference :\\n\",res)\n",
    "    "
   ]
  },
  {
   "cell_type": "code",
   "execution_count": 224,
   "id": "a56e649d",
   "metadata": {},
   "outputs": [
    {
     "name": "stdout",
     "output_type": "stream",
     "text": [
      "difference :\n",
      " {1, 2, 4, 6}\n",
      "difference :\n",
      " {8, 9, 7}\n"
     ]
    }
   ],
   "source": [
    "# difference()\n",
    "# >> returns new set elements present in s_1 but not in s_2 and vice versa\n",
    "\n",
    "res1=s1.difference(s2)\n",
    "print(\"difference :\\n\",res1)\n",
    "res11=s2.difference(s1)\n",
    "print(\"difference :\\n\",res11)\n"
   ]
  },
  {
   "cell_type": "markdown",
   "id": "24c2119f",
   "metadata": {},
   "source": [
    "#### isdisjoint() : Returns whether two sets have a intersection or not\n",
    "      isdisjoint() is a set method in Python that is used to check whether two sets have any common elements or not.It returns True if the two sets have no common elements, and False if there are common elements"
   ]
  },
  {
   "cell_type": "code",
   "execution_count": 225,
   "id": "75ff2ee5",
   "metadata": {},
   "outputs": [
    {
     "name": "stdout",
     "output_type": "stream",
     "text": [
      "True\n",
      "s : {1, 2, 3, 4, 5, 6}\n",
      "set1 : {44, 45, 46}\n"
     ]
    }
   ],
   "source": [
    "s={1,2,3,4,5,6}\n",
    "s1 = {44,45,46}\n",
    "\n",
    "print(s.isdisjoint(s1))\n",
    "print(\"s :\",s)\n",
    "print(\"set1 :\",s1)"
   ]
  },
  {
   "cell_type": "markdown",
   "id": "b2b6b0dd",
   "metadata": {},
   "source": [
    "s = {1,2,3,4,5,6}\n",
    "set1 :{44,45,46}\n",
    "    \n",
    "issubset()<< Retures whether another set contains this set or not"
   ]
  },
  {
   "cell_type": "code",
   "execution_count": 226,
   "id": "d4204531",
   "metadata": {},
   "outputs": [
    {
     "name": "stdout",
     "output_type": "stream",
     "text": [
      "False\n",
      "('s:', {4, 5, 6})\n",
      "set1 : {4, 5, 6}\n"
     ]
    }
   ],
   "source": [
    "s = {1,2,3,4,5,6}\n",
    "s1 = {4,5,6}\n",
    "\n",
    "print(s.issubset(s1))\n",
    "print((\"s:\",s1))\n",
    "print(\"set1 :\",s1)"
   ]
  },
  {
   "cell_type": "code",
   "execution_count": 227,
   "id": "03898f10",
   "metadata": {},
   "outputs": [
    {
     "name": "stdout",
     "output_type": "stream",
     "text": [
      "True\n",
      "s : {1, 2, 3, 4, 5, 6}\n",
      "set : {4, 5, 6}\n"
     ]
    }
   ],
   "source": [
    "print(s1.issubset(s))\n",
    "print(\"s :\",s)\n",
    "print(\"set :\",s1)"
   ]
  },
  {
   "cell_type": "code",
   "execution_count": 228,
   "id": "8ca385e8",
   "metadata": {},
   "outputs": [
    {
     "name": "stdout",
     "output_type": "stream",
     "text": [
      "{1, 2, 3, 4, 5, 6, 7, 8}\n",
      "{4, 5, 6, 7, 8}\n",
      "set1.issubset(set2 :) False\n",
      "set1.issubset(set2): True\n"
     ]
    }
   ],
   "source": [
    "# issubset : true > if set2 is present at else false\n",
    "set1={1,2,3,4,5,6,7,8}\n",
    "set2 ={4,5,6,7,8}\n",
    "print(set1)\n",
    "print(set2)\n",
    "val=set1.issubset(set2)\n",
    "print(\"set1.issubset(set2 :)\",val)\n",
    "val2 =set2.issubset(set1)\n",
    "print(\"set1.issubset(set2):\",val2)"
   ]
  },
  {
   "cell_type": "markdown",
   "id": "3fb66c18",
   "metadata": {},
   "source": [
    "####  issuperset() : Returns whether this set contains another set or not\n"
   ]
  },
  {
   "cell_type": "code",
   "execution_count": 229,
   "id": "478bdbbc",
   "metadata": {},
   "outputs": [
    {
     "name": "stdout",
     "output_type": "stream",
     "text": [
      "True\n",
      "('s :', {1, 2, 3, 4, 5, 6})\n",
      "s1 : {4, 5, 6}\n"
     ]
    }
   ],
   "source": [
    "print(s.issuperset(s1))\n",
    "print((\"s :\",s))\n",
    "print(\"s1 :\",s1)"
   ]
  },
  {
   "cell_type": "code",
   "execution_count": 230,
   "id": "f8106ddb",
   "metadata": {},
   "outputs": [
    {
     "name": "stdout",
     "output_type": "stream",
     "text": [
      "{1, 2, 3, 4, 5, 6, 7, 8}\n",
      "{4, 5, 6, 7, 8}\n",
      "set1.issperset(set2): True\n",
      "set2.issuperset(set1): False\n"
     ]
    }
   ],
   "source": [
    "# issuperset: true > if set1 element in set2 else false\n",
    "set1 = {1,2,3,4,5,6,7,8}\n",
    "set2 = {4,5,6,7,8}\n",
    "print(set1)\n",
    "print(set2)\n",
    "val=set1.issuperset(set2)\n",
    "print(\"set1.issperset(set2):\",val)\n",
    "val2=set2.issuperset(set1)\n",
    "print(\"set2.issuperset(set1):\",val2)"
   ]
  },
  {
   "cell_type": "code",
   "execution_count": 231,
   "id": "fc514929",
   "metadata": {},
   "outputs": [],
   "source": [
    "# del and clear() method removes the set completely\n",
    "\n",
    "# uncomment to run it and see result\n",
    "# print(s1)\n",
    "# del s1\n",
    "# print(s1)"
   ]
  },
  {
   "cell_type": "code",
   "execution_count": 232,
   "id": "76c9a61e",
   "metadata": {},
   "outputs": [
    {
     "name": "stdout",
     "output_type": "stream",
     "text": [
      "{1, 2, 3, 4, 5, 6}\n",
      "{1, 2, 3, 4, 5, 6}\n"
     ]
    }
   ],
   "source": [
    "print(s)\n",
    "# s[0]=100 # index concept is not applicable\n",
    "print(s)"
   ]
  },
  {
   "cell_type": "markdown",
   "id": "52e8a1b7",
   "metadata": {},
   "source": [
    "# Frozenset"
   ]
  },
  {
   "cell_type": "markdown",
   "id": "c9e22282",
   "metadata": {},
   "source": [
    "#### frozenset is same as set but it is immutable & not growable\n",
    "\n",
    "Once a frozenset object is created, its elements cannot be added or removed, because frozenset objects are immutable and their elements cannot be modified."
   ]
  },
  {
   "cell_type": "code",
   "execution_count": 233,
   "id": "e8ed2139",
   "metadata": {},
   "outputs": [
    {
     "name": "stdout",
     "output_type": "stream",
     "text": [
      "value\n",
      "****************************************************************************************************\n",
      "{frozenset({3, 4}), frozenset({1, 2})}\n"
     ]
    }
   ],
   "source": [
    "my_dict = {frozenset ({1,2}):'value'}\n",
    "print(my_dict[frozenset({1,2})]) # output : 'value'\n",
    "print(\"*\"*100)\n",
    "\n",
    "my_set={frozenset({1,2}),frozenset({3,4})}\n",
    "print(my_set)# output : {ffrozenset({1,2})},frozenset({3,4})}"
   ]
  },
  {
   "cell_type": "code",
   "execution_count": 234,
   "id": "b79daff4",
   "metadata": {},
   "outputs": [
    {
     "name": "stdout",
     "output_type": "stream",
     "text": [
      "{1, 2, 3, 4, 5, 6}\n",
      "<class 'set'>\n",
      "frozenset({1, 2, 3, 4, 5, 6})\n",
      "<class 'frozenset'>\n",
      "frozenset({1, 2, 3, 4, 5, 6})\n",
      "<class 'frozenset'>\n"
     ]
    }
   ],
   "source": [
    "# frozenset is same as set but it is immutable\n",
    "\n",
    "print(s)\n",
    "print(type(s))\n",
    "fs = frozenset(s)\n",
    "print(fs)\n",
    "print(type(fs))\n",
    "# supported methods for frozen set\n",
    "\n",
    "new_fs = fs.copy()\n",
    "'''\n",
    "s.difference()\n",
    "s.intersection()\n",
    "s.isdisjoint()\n",
    "s.issubset()\n",
    "s.issuperset()\n",
    "s.symmentric_difference()\n",
    "s.union()\n",
    "'''\n",
    "\n",
    "print(new_fs)\n",
    "print(type(fs))"
   ]
  },
  {
   "cell_type": "markdown",
   "id": "24a5cf03",
   "metadata": {},
   "source": [
    "# Dictionary"
   ]
  },
  {
   "cell_type": "markdown",
   "id": "4ffd3845",
   "metadata": {},
   "source": [
    "1. stores data in key-value pair\n",
    "2. It is ordered (From python version 3.7 dictonaries are ordered)\n",
    "3.Duplicates are not allowed (keys),but duplicate values are allowed\n",
    "4. itie changeable/Growable\n",
    "5. item are reffred by using key\n",
    "6. { } are used to write dictioaries"
   ]
  },
  {
   "cell_type": "markdown",
   "id": "1b816727",
   "metadata": {},
   "source": [
    "#### Dictonary Creation"
   ]
  },
  {
   "cell_type": "code",
   "execution_count": 235,
   "id": "f6ef4766",
   "metadata": {},
   "outputs": [
    {
     "name": "stdout",
     "output_type": "stream",
     "text": [
      "{1: 'Dipak', 2: 'priya', 3: 'dj', 4: 'sachin'}\n",
      "<class 'dict'>\n"
     ]
    }
   ],
   "source": [
    "d = {\n",
    "    1:  \"Dipak\",\n",
    "    2: \"priya\",\n",
    "    3: \"dj\",\n",
    "    4: \"sachin\"    \n",
    "     }\n",
    "\n",
    "print(d)\n",
    "print(type(d))"
   ]
  },
  {
   "cell_type": "code",
   "execution_count": 236,
   "id": "83930b20",
   "metadata": {},
   "outputs": [
    {
     "name": "stdout",
     "output_type": "stream",
     "text": [
      "{'name ': 'priyadarshani', 'mobile': 7083515888, 'adrress': 'Ambak', 'job': 'Data scientist', 'salary': 100000, 'ID no.': 12345}\n",
      "<class 'dict'>\n"
     ]
    }
   ],
   "source": [
    "dict1={\n",
    "    'name ' : 'priyadarshani',\n",
    "    'mobile': 7083515888,\n",
    "    'adrress': \"Ambak\",\n",
    "    'job'  : 'Data scientist',\n",
    "    'salary': 100000,\n",
    "    'ID no.': 12345\n",
    "}\n",
    "\n",
    "print(dict1)\n",
    "print(type(dict1))"
   ]
  },
  {
   "cell_type": "code",
   "execution_count": 237,
   "id": "fe0a95cb",
   "metadata": {},
   "outputs": [
    {
     "name": "stdout",
     "output_type": "stream",
     "text": [
      "{'roll no': 10, 'name': 'Akashay', 'class': 'TE', 'Marks': 89.9}\n",
      "<class 'dict'>\n",
      "[10, 5, 4, 2, 25]\n",
      "Akashay\n",
      "89.9\n"
     ]
    }
   ],
   "source": [
    "stud = {\n",
    "    'roll no' : 10,\n",
    "    'name':  'Akashay',\n",
    "    'class': 'TE',\n",
    "    'Marks': 89.90\n",
    "}\n",
    "\n",
    "print(stud) # set/dictionary are unordered from python version\n",
    "print(type(stud))\n",
    "\n",
    "\n",
    "l = [10,5,4,2,25]\n",
    "print(l)\n",
    "\n",
    "\n",
    "# acess the element\n",
    "val = stud['name']\n",
    "print(val)\n",
    "\n",
    "print(stud['Marks'])"
   ]
  },
  {
   "cell_type": "markdown",
   "id": "3d6cb24d",
   "metadata": {},
   "source": [
    "### Acessing ways of the dictionary"
   ]
  },
  {
   "cell_type": "code",
   "execution_count": 238,
   "id": "f36f5a6b",
   "metadata": {},
   "outputs": [],
   "source": [
    "# 1. directly acess using key\n",
    "# 2. using get method\n",
    "# 3. by using notation\n",
    "# 4. by usibg dict.items()\n",
    "# 5 . by using dict.values"
   ]
  },
  {
   "cell_type": "code",
   "execution_count": 239,
   "id": "8d6ced99",
   "metadata": {},
   "outputs": [
    {
     "name": "stdout",
     "output_type": "stream",
     "text": [
      "{1: 'Dipak', 2: 'priya', 3: 'dj', 4: 'sachin'}\n"
     ]
    }
   ],
   "source": [
    "print(d)"
   ]
  },
  {
   "cell_type": "code",
   "execution_count": 240,
   "id": "5978c7ab",
   "metadata": {},
   "outputs": [
    {
     "name": "stdout",
     "output_type": "stream",
     "text": [
      "Dipak\n",
      "priya\n",
      "dj\n",
      "sachin\n"
     ]
    }
   ],
   "source": [
    "# directly acess using key\n",
    "print(d[1])\n",
    "print(d[2])\n",
    "print(d[3])\n",
    "print(d[4])"
   ]
  },
  {
   "cell_type": "code",
   "execution_count": 241,
   "id": "ec46cad8",
   "metadata": {},
   "outputs": [
    {
     "name": "stdout",
     "output_type": "stream",
     "text": [
      "acess dicts using get() method :\n",
      "Dipak\n",
      "dj\n"
     ]
    }
   ],
   "source": [
    "# using get method\n",
    "\n",
    "print(\"acess dicts using get() method :\")\n",
    "print(d.get(1))\n",
    "print(d.get(3))"
   ]
  },
  {
   "cell_type": "code",
   "execution_count": 242,
   "id": "f5c1c19a",
   "metadata": {},
   "outputs": [
    {
     "name": "stdout",
     "output_type": "stream",
     "text": [
      "{'roll no': 10, 'name': 'Akashay', 'class': 'TE', 'Marks': 89.9}\n",
      "keys :\n",
      "\n",
      "dict_keys(['roll no', 'name', 'class', 'Marks'])\n"
     ]
    }
   ],
   "source": [
    "# acess all the keys of dictionary \n",
    "print(stud)\n",
    "print(\"keys :\\n\")\n",
    "print(stud.keys())"
   ]
  },
  {
   "cell_type": "code",
   "execution_count": 243,
   "id": "96affb74",
   "metadata": {},
   "outputs": [
    {
     "name": "stdout",
     "output_type": "stream",
     "text": [
      "{'roll no': 10, 'name': 'Akashay', 'class': 'TE', 'Marks': 89.9}\n",
      "{'roll no': 10, 'name': 'Akashay', 'class': 'TE', 'Marks': 89.9, 'last_name': 'Jagadale', 'city': 'Mumbai', 'mobile': 8600261039}\n"
     ]
    }
   ],
   "source": [
    "# add new item \n",
    "print(stud)\n",
    "\n",
    "stud[\"last_name\"]='Jagadale'\n",
    "stud['city'] = 'Mumbai'\n",
    "stud['mobile']= 8600261039\n",
    "print(stud)"
   ]
  },
  {
   "cell_type": "code",
   "execution_count": 244,
   "id": "4fb8c251",
   "metadata": {},
   "outputs": [
    {
     "name": "stdout",
     "output_type": "stream",
     "text": [
      "dict_keys(['roll no', 'name', 'class', 'Marks', 'last_name', 'city', 'mobile'])\n"
     ]
    }
   ],
   "source": [
    "print(stud.keys())"
   ]
  },
  {
   "cell_type": "code",
   "execution_count": 245,
   "id": "06fbbbcc",
   "metadata": {},
   "outputs": [
    {
     "name": "stdout",
     "output_type": "stream",
     "text": [
      "7\n"
     ]
    }
   ],
   "source": [
    "print(len(stud.keys()))"
   ]
  },
  {
   "cell_type": "code",
   "execution_count": 246,
   "id": "161bbf71",
   "metadata": {},
   "outputs": [
    {
     "name": "stdout",
     "output_type": "stream",
     "text": [
      "{'roll no': 10, 'name': 'Akashay', 'class': 'TE', 'Marks': 89.9, 'last_name': 'Jagadale', 'city': 'Mumbai', 'mobile': 8600261039}\n",
      "******************************************************************************************\n",
      "dict_items([('roll no', 10), ('name', 'Akashay'), ('class', 'TE'), ('Marks', 89.9), ('last_name', 'Jagadale'), ('city', 'Mumbai'), ('mobile', 8600261039)])\n"
     ]
    }
   ],
   "source": [
    "# acess keys_values pair directly from dictionary\n",
    "\n",
    "print(stud)\n",
    "print('*'*90)\n",
    "print(stud.items())"
   ]
  },
  {
   "cell_type": "code",
   "execution_count": 247,
   "id": "bc920a72",
   "metadata": {},
   "outputs": [
    {
     "name": "stdout",
     "output_type": "stream",
     "text": [
      "dict_items([('roll no', 10), ('name', 'Akashay'), ('class', 'TE'), ('Marks', 89.9), ('last_name', 'Jagadale'), ('city', 'Mumbai'), ('mobile', 8600261039)])\n"
     ]
    }
   ],
   "source": [
    "# change value\n",
    "print(stud.items())"
   ]
  },
  {
   "cell_type": "code",
   "execution_count": 248,
   "id": "7490f081",
   "metadata": {},
   "outputs": [],
   "source": [
    "stud['class']='BE'\n",
    "stud['Marks']=91.99"
   ]
  },
  {
   "cell_type": "code",
   "execution_count": 249,
   "id": "39dd18aa",
   "metadata": {},
   "outputs": [
    {
     "name": "stdout",
     "output_type": "stream",
     "text": [
      "dict_items([('roll no', 10), ('name', 'Akashay'), ('class', 'BE'), ('Marks', 91.99), ('last_name', 'Jagadale'), ('city', 'Mumbai'), ('mobile', 8600261039)])\n"
     ]
    }
   ],
   "source": [
    "print(stud.items())"
   ]
  },
  {
   "cell_type": "code",
   "execution_count": 250,
   "id": "e7a77126",
   "metadata": {},
   "outputs": [
    {
     "name": "stdout",
     "output_type": "stream",
     "text": [
      "{'roll no': 10, 'name': 'Akashay', 'class': 'BE', 'Marks': 91.99, 'last_name': 'Jagadale', 'city': 'Mumbai', 'mobile': 8600261039}\n",
      "******************************************************************************************\n",
      "{'roll no': 10, 'name': 'Akashay', 'class': 'BE', 'Marks': 91.99, 'last_name': 'Jagadale', 'city': 'Mumbai', 'mobile': 8600261039, 'Subject': 'Maths', 'email': 'a@b.com'}\n"
     ]
    }
   ],
   "source": [
    "# updates ()>> here we are updating direct dictionary \n",
    "\n",
    "print(stud)\n",
    "print(\"*\"*90)\n",
    "stud.update({\n",
    "    'Subject':'Maths',\n",
    "    'email': 'a@b.com'\n",
    "})\n",
    "print(stud)"
   ]
  },
  {
   "cell_type": "code",
   "execution_count": 251,
   "id": "1240b3df",
   "metadata": {},
   "outputs": [
    {
     "name": "stdout",
     "output_type": "stream",
     "text": [
      "{'roll no': 10, 'name': 'Akashay', 'class': 'BE', 'Marks': 91.99, 'last_name': 'Jagadale', 'city': 'Mumbai', 'mobile': 8600261039, 'Subject': 'Maths', 'email': 'a@b.com'}\n",
      "{'roll no': 10, 'name': 'Akashay', 'class': 'BE', 'Marks': 91.99, 'last_name': 'Jagadale', 'city': 'Mumbai', 'mobile': 8600261039, 'Subject': 'Maths'}\n"
     ]
    }
   ],
   "source": [
    "# remove items\n",
    "print(stud)\n",
    "stud.pop(\"email\")\n",
    "print(stud)"
   ]
  },
  {
   "cell_type": "code",
   "execution_count": 252,
   "id": "d0449420",
   "metadata": {},
   "outputs": [
    {
     "name": "stdout",
     "output_type": "stream",
     "text": [
      "{'roll no': 10, 'name': 'Akashay', 'class': 'BE', 'Marks': 91.99, 'last_name': 'Jagadale', 'city': 'Mumbai', 'mobile': 8600261039, 'Subject': 'Maths'}\n",
      "{'roll no': 10, 'name': 'Akashay', 'class': 'BE', 'Marks': 91.99, 'last_name': 'Jagadale', 'city': 'Mumbai', 'mobile': 8600261039}\n"
     ]
    }
   ],
   "source": [
    "print(stud)\n",
    "stud.popitem() # will pop single key_values pair\n",
    "print(stud)"
   ]
  },
  {
   "cell_type": "code",
   "execution_count": 253,
   "id": "6cbfe8f8",
   "metadata": {},
   "outputs": [
    {
     "name": "stdout",
     "output_type": "stream",
     "text": [
      "{1: 'a', 2: 'b', 3: 'c'}\n",
      "{2: 'b', 3: 'c'}\n"
     ]
    }
   ],
   "source": [
    "# del \n",
    "# >> del can remove items as well as dictionary\n",
    "\n",
    "d={\n",
    "    1:'a',\n",
    "    2:'b',\n",
    "    3:'c'\n",
    "}\n",
    "print(d)\n",
    "del d[1]\n",
    "print(d)"
   ]
  },
  {
   "cell_type": "code",
   "execution_count": 254,
   "id": "63a81f16",
   "metadata": {},
   "outputs": [],
   "source": [
    "# del d\n",
    "# print(d) (NameError: name 'd' is not defined) due to del operation performed"
   ]
  },
  {
   "cell_type": "code",
   "execution_count": 255,
   "id": "37b48ddb",
   "metadata": {},
   "outputs": [
    {
     "name": "stdout",
     "output_type": "stream",
     "text": [
      "{1: 'a', 2: 'b', 3: 'c'}\n",
      "{}\n"
     ]
    }
   ],
   "source": [
    "# clear()\n",
    "# >> '''clear() method and del keyword are used to remove and empty the dict'''\n",
    "\n",
    "dd = {\n",
    "    1:'a',\n",
    "    2:'b',\n",
    "    3:'c'\n",
    "}\n",
    "\n",
    "print(dd)\n",
    "dd.clear()\n",
    "print(dd)"
   ]
  },
  {
   "cell_type": "code",
   "execution_count": 256,
   "id": "4ce3228e",
   "metadata": {},
   "outputs": [
    {
     "name": "stdout",
     "output_type": "stream",
     "text": [
      "{}\n",
      "{}\n"
     ]
    }
   ],
   "source": [
    "# copy dictionary \n",
    "d =dd # this is reference to your d not copy of dd\n",
    "print(d)\n",
    "print(dd)"
   ]
  },
  {
   "cell_type": "code",
   "execution_count": 257,
   "id": "b5ad7290",
   "metadata": {},
   "outputs": [],
   "source": [
    "d['mobile']=229373539"
   ]
  },
  {
   "cell_type": "code",
   "execution_count": 258,
   "id": "f9dfb566",
   "metadata": {},
   "outputs": [
    {
     "name": "stdout",
     "output_type": "stream",
     "text": [
      "{'mobile': 229373539}\n"
     ]
    }
   ],
   "source": [
    "print(d)"
   ]
  },
  {
   "cell_type": "code",
   "execution_count": 259,
   "id": "89664ff3",
   "metadata": {},
   "outputs": [
    {
     "name": "stdout",
     "output_type": "stream",
     "text": [
      "{'roll no': 10, 'name': 'Akashay', 'class': 'BE', 'Marks': 91.99, 'last_name': 'Jagadale', 'city': 'Mumbai', 'mobile': 8600261039}\n",
      "******************************************************************************************\n",
      "{'roll no': 10, 'name': 'Akashay', 'class': 'BE', 'Marks': 91.99, 'last_name': 'Jagadale', 'city': 'Mumbai', 'mobile': 8600261039}\n",
      "{'roll no': 10, 'name': 'Akashay', 'class': 'BE', 'Marks': 91.99, 'last_name': 'Jagadale', 'city': 'Mumbai', 'mobile': 8600261039, 'random': 'val'}\n"
     ]
    }
   ],
   "source": [
    "# copy ()method\n",
    "print(stud)\n",
    "print(\"*\"*90)\n",
    "stud2=stud.copy()\n",
    "stud2['random']='val'\n",
    "print(stud)\n",
    "print(stud2)"
   ]
  },
  {
   "cell_type": "code",
   "execution_count": 260,
   "id": "4ff69cdb",
   "metadata": {},
   "outputs": [
    {
     "name": "stdout",
     "output_type": "stream",
     "text": [
      "{'roll no': 10, 'name': 'Akashay', 'class': 'BE', 'Marks': 91.99, 'last_name': 'Jagadale', 'city': 'Mumbai', 'mobile': 8600261039}\n"
     ]
    }
   ],
   "source": [
    "# dict ()for copy\n",
    "stud3 = dict(stud)\n",
    "print(stud3)"
   ]
  },
  {
   "cell_type": "code",
   "execution_count": 261,
   "id": "a8c7e5fc",
   "metadata": {},
   "outputs": [
    {
     "name": "stdout",
     "output_type": "stream",
     "text": [
      "{'A': 10, 'B': 20, 'C': 30, 40: 'D', 50: 'E'}\n"
     ]
    }
   ],
   "source": [
    "dd ={\n",
    "    \n",
    "    'A':10,\n",
    "    'B':20,\n",
    "    'C':30,\n",
    "    40:'D',\n",
    "    50:'E'\n",
    "}\n",
    "\n",
    "print(dd)"
   ]
  },
  {
   "cell_type": "code",
   "execution_count": 262,
   "id": "02ff54d7",
   "metadata": {},
   "outputs": [
    {
     "data": {
      "text/plain": [
       "dict_keys(['A', 'B', 'C', 40, 50])"
      ]
     },
     "execution_count": 262,
     "metadata": {},
     "output_type": "execute_result"
    }
   ],
   "source": [
    "dd.keys()\n"
   ]
  },
  {
   "cell_type": "code",
   "execution_count": 263,
   "id": "e6bbe110",
   "metadata": {},
   "outputs": [
    {
     "data": {
      "text/plain": [
       "dict_values([10, 20, 30, 'D', 'E'])"
      ]
     },
     "execution_count": 263,
     "metadata": {},
     "output_type": "execute_result"
    }
   ],
   "source": [
    "dd.values()"
   ]
  },
  {
   "cell_type": "code",
   "execution_count": 264,
   "id": "d07706f5",
   "metadata": {},
   "outputs": [
    {
     "data": {
      "text/plain": [
       "dict_items([('A', 10), ('B', 20), ('C', 30), (40, 'D'), (50, 'E')])"
      ]
     },
     "execution_count": 264,
     "metadata": {},
     "output_type": "execute_result"
    }
   ],
   "source": [
    "dd.items()"
   ]
  },
  {
   "cell_type": "code",
   "execution_count": 265,
   "id": "b3250d74",
   "metadata": {},
   "outputs": [
    {
     "data": {
      "text/plain": [
       "20"
      ]
     },
     "execution_count": 265,
     "metadata": {},
     "output_type": "execute_result"
    }
   ],
   "source": [
    "dd.get('B')"
   ]
  },
  {
   "cell_type": "code",
   "execution_count": 266,
   "id": "6e226958",
   "metadata": {},
   "outputs": [
    {
     "name": "stdout",
     "output_type": "stream",
     "text": [
      "{'A': 40, 'B': 40, 'C': 40, 40: 40, 50: 40}\n"
     ]
    }
   ],
   "source": [
    "d ={'A':10,'B':20,'C':30,40:'D',50:'E'}\n",
    "newdict=dict.fromkeys(d,40)\n",
    "print(newdict)"
   ]
  },
  {
   "cell_type": "code",
   "execution_count": 267,
   "id": "36ab109a",
   "metadata": {},
   "outputs": [
    {
     "name": "stdout",
     "output_type": "stream",
     "text": [
      "{'A': 10, 'B': 20, 'C': 30, 40: 'D', 50: 'E', 'f': 60}\n"
     ]
    }
   ],
   "source": [
    "dd.setdefault('f',60)\n",
    "print(dd)"
   ]
  },
  {
   "cell_type": "markdown",
   "id": "fef65b92",
   "metadata": {},
   "source": [
    "### setdefault:\n",
    "#### setdefault  is used to retrieve the value of a specified key. \n",
    "\n",
    "#### If the key exists in the dictionary, setdefault() returns the corresponding value. If the key does not exist, setdefault() adds the key to the dictionary with a default value and returns that default value.\n",
    "\n"
   ]
  },
  {
   "cell_type": "code",
   "execution_count": 268,
   "id": "57dd87a1",
   "metadata": {},
   "outputs": [
    {
     "data": {
      "text/plain": [
       "60"
      ]
     },
     "execution_count": 268,
     "metadata": {},
     "output_type": "execute_result"
    }
   ],
   "source": [
    "dd.setdefault('f')"
   ]
  },
  {
   "cell_type": "code",
   "execution_count": 269,
   "id": "aba9da42",
   "metadata": {},
   "outputs": [
    {
     "name": "stdout",
     "output_type": "stream",
     "text": [
      "{'apple': 'red', 'banana': 'green', 'orange': 'orange'}\n"
     ]
    }
   ],
   "source": [
    "dictionary1 = {\"apple\":\"red\",\"banana\":\"yellow\"}\n",
    "dictionary2 = {\"orange\":\"orange\",\"banana\":\"green\"}\n",
    "dictionary1.update(dictionary2)\n",
    "print(dictionary1)"
   ]
  },
  {
   "cell_type": "code",
   "execution_count": 270,
   "id": "db280c44",
   "metadata": {},
   "outputs": [
    {
     "name": "stdout",
     "output_type": "stream",
     "text": [
      "{'apple': 'red', 'banana': 'green', 'orange': 'orange'}\n",
      "{'banana': 'green', 'orange': 'orange'}\n"
     ]
    }
   ],
   "source": [
    "print(dictionary1)\n",
    "dictionary1.pop('apple')\n",
    "print(dictionary1)"
   ]
  },
  {
   "cell_type": "code",
   "execution_count": 271,
   "id": "8f8dfa53",
   "metadata": {},
   "outputs": [
    {
     "name": "stdout",
     "output_type": "stream",
     "text": [
      "{'banana': 'green', 'orange': 'orange'}\n",
      "{'banana': 'green'}\n"
     ]
    }
   ],
   "source": [
    "print(dictionary1)\n",
    "dictionary1.popitem()\n",
    "print(dictionary1)"
   ]
  },
  {
   "cell_type": "markdown",
   "id": "653d5398",
   "metadata": {},
   "source": [
    "#### The pop() method removes and returns the value associated with the specified key from the dictionary.\n",
    "#### If the key is not found in the dictionary, an optional default value can be provided, which will be returned instead of raising a KeyError exception."
   ]
  },
  {
   "cell_type": "code",
   "execution_count": 272,
   "id": "45451b21",
   "metadata": {},
   "outputs": [
    {
     "name": "stdout",
     "output_type": "stream",
     "text": [
      "yellow\n"
     ]
    }
   ],
   "source": [
    "dictionary = {\"apple\":\"red\",\"banana\":\"yellow\",\"orange\":\"orange\"}\n",
    "value=dictionary.pop(\"banana\")\n",
    "print(value)# output:yellow"
   ]
  },
  {
   "cell_type": "markdown",
   "id": "9ca91c2e",
   "metadata": {},
   "source": [
    "#### The popitem():\n",
    "###### This method removes and returns an arbitrary key-value pair from the dictionary as a tuple. This method is useful when you want to remove and retrieve an arbitrary item from the dictionary"
   ]
  },
  {
   "cell_type": "code",
   "execution_count": 273,
   "id": "89a66e7d",
   "metadata": {},
   "outputs": [
    {
     "name": "stdout",
     "output_type": "stream",
     "text": [
      "('orange', 'orange')\n"
     ]
    }
   ],
   "source": [
    "dictionary = {\"apple\":\"red\",\"banana\":'yellow',\"orange\":\"orange\"}\n",
    "item = dictionary.popitem()\n",
    "print(item) # output : ('orange','orange')"
   ]
  },
  {
   "cell_type": "code",
   "execution_count": 274,
   "id": "f77f0470",
   "metadata": {},
   "outputs": [
    {
     "data": {
      "text/plain": [
       "{'john': {'age': 20, 'grade': 'A'}, 'sarah': {'age': 19, 'grade': 'B'}}"
      ]
     },
     "execution_count": 274,
     "metadata": {},
     "output_type": "execute_result"
    }
   ],
   "source": [
    "students = {\n",
    "    \n",
    "    'john':{\n",
    "        \"age\":20,\n",
    "        \"grade\":\"A\"\n",
    "            },\n",
    "   'sarah' :{\n",
    "       \"age\":19,\n",
    "       \"grade\":\"B\"\n",
    "        }\n",
    "       }\n",
    "students"
   ]
  },
  {
   "cell_type": "code",
   "execution_count": 275,
   "id": "bbce8b96",
   "metadata": {},
   "outputs": [
    {
     "name": "stdout",
     "output_type": "stream",
     "text": [
      "20\n",
      "B\n"
     ]
    }
   ],
   "source": [
    "# Accessing Johns age\n",
    "John_age = students[\"john\"][\"age\"]\n",
    "print(John_age) #output:20\n",
    "#Accessing sarah's grade\n",
    "sarah_grade =students[\"sarah\"][\"grade\"]\n",
    "print(sarah_grade)  #output:8"
   ]
  },
  {
   "cell_type": "code",
   "execution_count": 276,
   "id": "a096caa7",
   "metadata": {},
   "outputs": [
    {
     "data": {
      "text/plain": [
       "{'sales': [{'name': 'John'}, {'name': 'Ana'}],\n",
       " 'development': [{'name': 'chris'}, {'name': 'Ann'}]}"
      ]
     },
     "execution_count": 276,
     "metadata": {},
     "output_type": "execute_result"
    }
   ],
   "source": [
    "company = {\n",
    "    \"sales\":[\n",
    "        {\"name\":\"John\"},\n",
    "        {\"name\":\"Ana\"}\n",
    "    ],\n",
    "    \"development\":[\n",
    "        {\"name\":\"chris\"},\n",
    "        {\"name\":\"Ann\"}\n",
    "    ]\n",
    "    }\n",
    "company"
   ]
  },
  {
   "cell_type": "code",
   "execution_count": 277,
   "id": "30c9989d",
   "metadata": {},
   "outputs": [
    {
     "data": {
      "text/plain": [
       "'Ann'"
      ]
     },
     "execution_count": 277,
     "metadata": {},
     "output_type": "execute_result"
    }
   ],
   "source": [
    "company[\"development\"][1][\"name\"]"
   ]
  },
  {
   "cell_type": "code",
   "execution_count": 278,
   "id": "a3d32c04",
   "metadata": {},
   "outputs": [
    {
     "data": {
      "text/plain": [
       "('John', 'Ana')"
      ]
     },
     "execution_count": 278,
     "metadata": {},
     "output_type": "execute_result"
    }
   ],
   "source": [
    "company['sales'][0]['name'],company['sales'][1]['name']"
   ]
  },
  {
   "cell_type": "code",
   "execution_count": 279,
   "id": "69b46263",
   "metadata": {},
   "outputs": [
    {
     "name": "stdout",
     "output_type": "stream",
     "text": [
      "{'f_key': {'p_key': {'s_key': {'gs_key': 'grans_son_name'}, 's_name': 'son_name'}, 'p_name': 'parent_name'}}\n"
     ]
    }
   ],
   "source": [
    "grandson = {\n",
    "    'gs_key':'grans_son_name'\n",
    "}\n",
    "\n",
    "son = {\n",
    "    's_key':grandson,\n",
    "    's_name':'son_name'\n",
    "}\n",
    "\n",
    "parent = {\n",
    "    \"p_key\":son,\n",
    "    'p_name':'parent_name'\n",
    "}\n",
    "\n",
    "family ={\n",
    "    'f_key':parent,\n",
    "    \n",
    "}\n",
    "print(family)"
   ]
  },
  {
   "cell_type": "code",
   "execution_count": 280,
   "id": "07bf6638",
   "metadata": {},
   "outputs": [
    {
     "data": {
      "text/plain": [
       "'parent_name'"
      ]
     },
     "execution_count": 280,
     "metadata": {},
     "output_type": "execute_result"
    }
   ],
   "source": [
    " family['f_key']['p_name']"
   ]
  },
  {
   "cell_type": "code",
   "execution_count": 281,
   "id": "b5a574ca",
   "metadata": {},
   "outputs": [
    {
     "data": {
      "text/plain": [
       "'grans_son_name'"
      ]
     },
     "execution_count": 281,
     "metadata": {},
     "output_type": "execute_result"
    }
   ],
   "source": [
    "family['f_key']['p_key']['s_key']['gs_key']"
   ]
  },
  {
   "cell_type": "code",
   "execution_count": 282,
   "id": "e5d6b2f3",
   "metadata": {},
   "outputs": [
    {
     "name": "stdout",
     "output_type": "stream",
     "text": [
      "['sai', 'kaviraj', {'f_key': {'p_key': {'s_key': {'gs_key': 'grans_son_name'}, 's_name': 'son_name'}, 'p_name': 'parent_name'}}]\n"
     ]
    }
   ],
   "source": [
    "list_n=[\"sai\",'kaviraj',family]\n",
    "print(list_n)"
   ]
  },
  {
   "cell_type": "code",
   "execution_count": 283,
   "id": "23dca665",
   "metadata": {},
   "outputs": [
    {
     "data": {
      "text/plain": [
       "{'s_key': {'gs_key': 'grans_son_name'}, 's_name': 'son_name'}"
      ]
     },
     "execution_count": 283,
     "metadata": {},
     "output_type": "execute_result"
    }
   ],
   "source": [
    "# A ccess child dictionary\n",
    "family['f_key']['p_key']"
   ]
  },
  {
   "cell_type": "code",
   "execution_count": 284,
   "id": "4e948852",
   "metadata": {
    "scrolled": true
   },
   "outputs": [
    {
     "data": {
      "text/plain": [
       "{'s_key': {'gs_key': 'grans_son_name'}, 's_name': 'son_name'}"
      ]
     },
     "execution_count": 284,
     "metadata": {},
     "output_type": "execute_result"
    }
   ],
   "source": [
    "# access child dictionary\n",
    "family['f_key']['p_key']"
   ]
  },
  {
   "cell_type": "code",
   "execution_count": 285,
   "id": "872d6e7c",
   "metadata": {},
   "outputs": [
    {
     "data": {
      "text/plain": [
       "{'gs_key': 'grans_son_name'}"
      ]
     },
     "execution_count": 285,
     "metadata": {},
     "output_type": "execute_result"
    }
   ],
   "source": [
    "# Acess grand child\n",
    "family['f_key']['p_key']['s_key']"
   ]
  },
  {
   "cell_type": "code",
   "execution_count": 286,
   "id": "6473b8f5",
   "metadata": {},
   "outputs": [
    {
     "data": {
      "text/plain": [
       "'grans_son_name'"
      ]
     },
     "execution_count": 286,
     "metadata": {},
     "output_type": "execute_result"
    }
   ],
   "source": [
    "family['f_key']['p_key']['s_key']['gs_key']"
   ]
  },
  {
   "cell_type": "code",
   "execution_count": 287,
   "id": "152e25b5",
   "metadata": {},
   "outputs": [],
   "source": [
    "s = [\"1\",\"2\",\"3\",\"4\",\"5\",\"6\"]\n",
    "s1 =[\"4\",\"5\",\"6\",\"7\",\"8\",\"9\"]"
   ]
  },
  {
   "cell_type": "code",
   "execution_count": 288,
   "id": "8bd26cec",
   "metadata": {},
   "outputs": [
    {
     "name": "stdout",
     "output_type": "stream",
     "text": [
      "{'1': '4', '2': '5', '3': '6', '4': '7', '5': '8', '6': '9'}\n"
     ]
    }
   ],
   "source": [
    "s2 =dict(zip(s,s1))\n",
    "print(s2)"
   ]
  },
  {
   "cell_type": "code",
   "execution_count": 289,
   "id": "c755a976",
   "metadata": {},
   "outputs": [
    {
     "name": "stdout",
     "output_type": "stream",
     "text": [
      "{1: 9, 2: 8, 3: 7, 4: 6, 5: 5, 6: 4, 7: 3, 8: 2, 9: 1}\n",
      "<class 'dict'>\n"
     ]
    }
   ],
   "source": [
    "p= [1,2,3,4,5,6,7,8,9]\n",
    "p1 =[9,8,7,6,5,4,3,2,1]\n",
    "\n",
    "my_dict={}\n",
    " \n",
    "for p,p1 in zip(p,p1):\n",
    "    my_dict[p] = p1\n",
    "    \n",
    "print(my_dict)\n",
    "print(type(my_dict))"
   ]
  },
  {
   "cell_type": "code",
   "execution_count": 290,
   "id": "6a4f0ccc",
   "metadata": {},
   "outputs": [
    {
     "name": "stdout",
     "output_type": "stream",
     "text": [
      "{'1': '4', '2': '5', '3': '6', '4': '7', '5': '8', '6': '9'}\n",
      "<class 'dict'>\n"
     ]
    }
   ],
   "source": [
    "my_dict={i:j for i,j in zip(s,s1)}\n",
    "print(my_dict)\n",
    "print(type(my_dict))"
   ]
  },
  {
   "cell_type": "code",
   "execution_count": 291,
   "id": "340b7c90",
   "metadata": {},
   "outputs": [
    {
     "name": "stdout",
     "output_type": "stream",
     "text": [
      "[{'1': '4', '2': '5', '3': '6', '4': '7', '5': '8', '6': '9'}]\n"
     ]
    }
   ],
   "source": [
    "my_dict=[{i:j for i,j in zip(s,s1)}]\n",
    "print(my_dict)"
   ]
  },
  {
   "cell_type": "code",
   "execution_count": 292,
   "id": "ec614878",
   "metadata": {},
   "outputs": [],
   "source": [
    "s = [\"1\",\"2\",\"3\",\"4\"]\n",
    "s1 =[\"6\",\"7\",\"8\",\"9\"]\n"
   ]
  },
  {
   "cell_type": "code",
   "execution_count": 293,
   "id": "edea9cc8",
   "metadata": {},
   "outputs": [
    {
     "name": "stdout",
     "output_type": "stream",
     "text": [
      "[{('3', '8'), ('4', '9'), ('1', '6'), ('2', '7')}]\n"
     ]
    },
    {
     "data": {
      "text/plain": [
       "list"
      ]
     },
     "execution_count": 293,
     "metadata": {},
     "output_type": "execute_result"
    }
   ],
   "source": [
    "for i,j in enumerate(s):\n",
    "    my_dict=[{i for i in zip(s,s1)}]\n",
    "print(my_dict)\n",
    "type(my_dict)"
   ]
  },
  {
   "cell_type": "markdown",
   "id": "cd7133ac",
   "metadata": {},
   "source": [
    "# Operators"
   ]
  },
  {
   "cell_type": "markdown",
   "id": "c0fdd07d",
   "metadata": {},
   "source": [
    "#### Python Opeartors:\n",
    "\n",
    " 1. Arithmatic opeartors\n",
    " 2. Assignment opeartors\n",
    " 3. Comparision opeartors\n",
    " 4. Logical operators\n",
    " 5. Identity opeartors\n",
    " 6. Membership opeartors\n",
    " 7. Bitwise operators\n",
    " \n",
    "#### 1. Arithmatic operators\n",
    "\n",
    " 1. +  addition x+y\n",
    " 2. -  subtraction x-y\n",
    " 3. *  Multiplication x*y\n",
    " 4. /  Division x/y\n",
    " 5. %  Modulus x%y # Remider after division\n",
    " 6. ** Exponentiation x**y\n",
    " 7. // Floor division x//y"
   ]
  },
  {
   "cell_type": "code",
   "execution_count": 294,
   "id": "aeb3f747",
   "metadata": {},
   "outputs": [
    {
     "name": "stdout",
     "output_type": "stream",
     "text": [
      "<< Addition>>\n",
      "sum :\t 30.4\n"
     ]
    }
   ],
   "source": [
    "#  addition \n",
    "\n",
    "var1 = 10.20\n",
    "var2 =20.20\n",
    "res = var1 + var2\n",
    "print('<< Addition>>')\n",
    "print('sum :\\t',res)\n"
   ]
  },
  {
   "cell_type": "code",
   "execution_count": 295,
   "id": "9e2ef7a5",
   "metadata": {},
   "outputs": [
    {
     "name": "stdout",
     "output_type": "stream",
     "text": [
      "<< Substraxtion >>\n",
      "sub :\t -10.100000000000001\n"
     ]
    }
   ],
   "source": [
    "# substraction \n",
    "print('<< Substraxtion >>')\n",
    "var1 =10.20\n",
    "var2 = 20.30\n",
    "res = var1-var2\n",
    "print('sub :\\t',res)"
   ]
  },
  {
   "cell_type": "code",
   "execution_count": 296,
   "id": "d6f48948",
   "metadata": {},
   "outputs": [
    {
     "name": "stdout",
     "output_type": "stream",
     "text": [
      "<< multiplication >>\n",
      "mul :\t,res\n"
     ]
    }
   ],
   "source": [
    "# Multiplication\n",
    "print('<< multiplication >>')\n",
    "var1 = 10.20\n",
    "var2 = 20.20\n",
    "res = var1 * var2\n",
    "print('mul :\\t,res')"
   ]
  },
  {
   "cell_type": "code",
   "execution_count": 297,
   "id": "f54af8e9",
   "metadata": {},
   "outputs": [
    {
     "name": "stdout",
     "output_type": "stream",
     "text": [
      "<< Division>>\n",
      "div :\t 0.504950495049505\n"
     ]
    }
   ],
   "source": [
    "# division \n",
    "print('<< Division>>')\n",
    "var1 = 10.20\n",
    "var2 = 20.20\n",
    "res = var1 / var2\n",
    "print('div :\\t',res)"
   ]
  },
  {
   "cell_type": "code",
   "execution_count": 298,
   "id": "40253b68",
   "metadata": {},
   "outputs": [
    {
     "name": "stdout",
     "output_type": "stream",
     "text": [
      "<< Modulous >>\n",
      "mod :\t 10\n"
     ]
    }
   ],
   "source": [
    "# modulus \n",
    "print('<< Modulous >>') # reminder after division\n",
    "var1 = 10\n",
    "var2 = 20\n",
    "res = var1 % var2 # i%2==0\n",
    "print('mod :\\t',res)"
   ]
  },
  {
   "cell_type": "code",
   "execution_count": 299,
   "id": "5a176c2a",
   "metadata": {},
   "outputs": [
    {
     "name": "stdout",
     "output_type": "stream",
     "text": [
      "<< Exponent >>\n",
      "exp :\t 100000000000000000000\n"
     ]
    }
   ],
   "source": [
    "# Exponential\n",
    "print('<< Exponent >>')\n",
    "var1 =10\n",
    "var=2\n",
    "res = var1**var2\n",
    "print('exp :\\t',res)"
   ]
  },
  {
   "cell_type": "code",
   "execution_count": 300,
   "id": "6119a3c1",
   "metadata": {},
   "outputs": [
    {
     "name": "stdout",
     "output_type": "stream",
     "text": [
      "<< >>\n",
      "flood div :\t 2.0\n"
     ]
    }
   ],
   "source": [
    "# floore division\n",
    "print('<< >>')\n",
    "var1 = 4.5\n",
    "var2 =2\n",
    "res = var1 // var2\n",
    "print('flood div :\\t',res)"
   ]
  },
  {
   "cell_type": "markdown",
   "id": "e9fb562d",
   "metadata": {},
   "source": [
    "### 2. Assignment operator\n",
    "\n",
    " 1. x +=  10  >> x = x +  10    >> i+=1 >> i = i+1 = 1+1 = 2\n",
    " 2. x -=  10  >> x = x -  10\n",
    " 3. x *=  10  >> x = x *  10\n",
    " 4. x /=  10  >> x = x /  10\n",
    " 5. x %=  10  >> x = x %  10\n",
    " 6. x **= 10  >> x = x ** 10\n",
    " 7. x //= 10  >> x = x // 10"
   ]
  },
  {
   "cell_type": "code",
   "execution_count": 309,
   "id": "c2665bed",
   "metadata": {},
   "outputs": [
    {
     "name": "stdout",
     "output_type": "stream",
     "text": [
      "55\n",
      "65\n"
     ]
    }
   ],
   "source": [
    "var = 55\n",
    "print(var)\n",
    "var += 10 # x = x  + 10\n",
    "print(var)"
   ]
  },
  {
   "cell_type": "code",
   "execution_count": 311,
   "id": "bfa7680e",
   "metadata": {},
   "outputs": [
    {
     "name": "stdout",
     "output_type": "stream",
     "text": [
      "65\n",
      "65\n"
     ]
    }
   ],
   "source": [
    "print(var)\n",
    "var -+ 10 # x = x - 10\n",
    "print(var)"
   ]
  },
  {
   "cell_type": "code",
   "execution_count": null,
   "id": "e365975f",
   "metadata": {},
   "outputs": [],
   "source": []
  },
  {
   "cell_type": "code",
   "execution_count": null,
   "id": "a2493648",
   "metadata": {},
   "outputs": [],
   "source": []
  },
  {
   "cell_type": "code",
   "execution_count": null,
   "id": "56791806",
   "metadata": {},
   "outputs": [],
   "source": []
  },
  {
   "cell_type": "code",
   "execution_count": null,
   "id": "1d2e061e",
   "metadata": {},
   "outputs": [],
   "source": []
  },
  {
   "cell_type": "code",
   "execution_count": null,
   "id": "3136603a",
   "metadata": {},
   "outputs": [],
   "source": []
  },
  {
   "cell_type": "code",
   "execution_count": null,
   "id": "79d56d2e",
   "metadata": {},
   "outputs": [],
   "source": []
  },
  {
   "cell_type": "code",
   "execution_count": null,
   "id": "1d49e727",
   "metadata": {},
   "outputs": [],
   "source": []
  },
  {
   "cell_type": "code",
   "execution_count": null,
   "id": "8c5a7e7f",
   "metadata": {},
   "outputs": [],
   "source": []
  },
  {
   "cell_type": "code",
   "execution_count": null,
   "id": "e0e67bf8",
   "metadata": {},
   "outputs": [],
   "source": []
  },
  {
   "cell_type": "code",
   "execution_count": null,
   "id": "6b3845b0",
   "metadata": {},
   "outputs": [],
   "source": []
  },
  {
   "cell_type": "markdown",
   "id": "c3cd31d7",
   "metadata": {},
   "source": []
  }
 ],
 "metadata": {
  "kernelspec": {
   "display_name": "Python 3 (ipykernel)",
   "language": "python",
   "name": "python3"
  },
  "language_info": {
   "codemirror_mode": {
    "name": "ipython",
    "version": 3
   },
   "file_extension": ".py",
   "mimetype": "text/x-python",
   "name": "python",
   "nbconvert_exporter": "python",
   "pygments_lexer": "ipython3",
   "version": "3.11.2"
  }
 },
 "nbformat": 4,
 "nbformat_minor": 5
}
