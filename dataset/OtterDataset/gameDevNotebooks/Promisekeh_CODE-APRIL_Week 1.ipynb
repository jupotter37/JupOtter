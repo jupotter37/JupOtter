{
 "cells": [
  {
   "cell_type": "markdown",
   "metadata": {},
   "source": [
    "# CODE APRIL\n",
    "\n",
    "Author: Promise Ekeh\n",
    "\n",
    "Date: April 2024\n",
    "\n",
    "Week 1 ( Day 1-7)"
   ]
  },
  {
   "cell_type": "markdown",
   "metadata": {},
   "source": [
    "# Day 1\n",
    "Introduction to the Python Programming Language"
   ]
  },
  {
   "cell_type": "markdown",
   "metadata": {},
   "source": [
    "## 1. What is Python? Why is it widely used in data analysis?\n",
    "\n",
    "Python is a high-level, interpreted programming language known for its readability, simplicity, and versatility. Python supports multiple programming paradigms, including procedural, object-oriented, and functional programming. It has a comprehensive standard library and is highly extensible through various third-party packages.\n",
    "\n",
    "**Why Python is Widely Used in Data Analysis:**\n",
    "1. Extensive Libraries and Tools for data analysis\n",
    "\n",
    "    NumPy: Provides support for large, multi-dimensional arrays and matrices, along with a collection of mathematical functions to operate on these arrays.\n",
    "\n",
    "    Pandas: Offers data structures and data analysis tools for handling structured data, including dataframes which are particularly useful for tabular data.\n",
    "\n",
    "    Matplotlib and Seaborn: Libraries for data visualization, allowing the creation of a wide range of static, animated, and interactive plots.\n",
    "\n",
    "    SciPy: Builds on NumPy and provides additional utilities for scientific and technical computing.\n",
    "\n",
    "    Scikit-learn: A machine learning library that integrates well with NumPy and Pandas, providing tools for data mining and data analysis.\n",
    "\n",
    "2. Ease of Learning: Python's simple syntax and readability make it accessible for beginners, which is important as many data analysts may not have a formal programming background.\n",
    "\n",
    "3. Integration: Python can easily integrate with other languages and technologies, such as C, C++, Java, and SQL, making it versatile for various data processing and analysis tasks.\n",
    "\n",
    "4. Community and Ecosystem: A large community means continuous development and support for new tools and libraries tailored for data analysis.\n",
    "\n",
    "5. Flexibility: Python is not only good for data analysis but also for web development, automation, and scripting, which allows data analysts to perform a wide range of tasks within the same language.\n",
    "\n",
    "6. Open Source: Python is free and open-source, which means anyone can use, modify, and distribute it.\n",
    "\n"
   ]
  },
  {
   "cell_type": "markdown",
   "metadata": {},
   "source": [
    "## 2. Aside from data analysis, what are other applications of Python?\n",
    "\n",
    "Python is a versatile programming language used in a wide range of applications beyond data analysis. Some applications includes\n",
    "\n",
    "1. Web Development:\n",
    "\n",
    "    Frameworks: Popular web frameworks like Django, Flask, and Pyramid enable rapid development of web applications.\n",
    "\n",
    "    Web Scraping: Libraries like BeautifulSoup, Scrapy, and Selenium allow developers to extract data from websites.\n",
    "\n",
    "2. Automation and Scripting\n",
    "    Automation: Python is often used to automate repetitive tasks, such as file manipulation, data entry, and system administration.\n",
    "\n",
    "    Scripting: Python scripts are used for quick prototyping and performing various administrative tasks.\n",
    "\n",
    "3. Machine Learning and Artificial Intelligence\n",
    "\n",
    "    Libraries: Libraries like TensorFlow, Keras, PyTorch, and Scikit-learn provide tools for developing and deploying machine learning models.\n",
    "\n",
    "    Natural Language Processing: Libraries such as NLTK, SpaCy, and Hugging Face's Transformers are used for text processing and language modeling.\n",
    "    \n",
    "4. Scientific Computing\n",
    "\n",
    "    Libraries: In addition to NumPy and SciPy, libraries like SymPy (for symbolic mathematics) and Jupyter Notebooks (for interactive computing) are widely used in scientific research.\n",
    "\n",
    "5. Game Development\n",
    "\n",
    "    Libraries: Pygame is a popular library for creating simple games and multimedia applications.\n",
    "\n",
    "    Game Engines: Python can be used with game engines like Panda3D and Godot for more complex game development.\n",
    "\n",
    "6. Desktop Applications\n",
    "\n",
    "    GUI Frameworks: Frameworks like Tkinter, PyQt, and Kivy allow developers to create cross-platform graphical user interfaces.\n",
    "\n",
    "7. Cybersecurity\n",
    "    Tools: Python is used to develop security tools and scripts for tasks like penetration testing, vulnerability scanning, and network monitoring.\n",
    "\n",
    "    Libraries: Libraries like Scapy (for network packet manipulation) and Cryptography (for encryption) are commonly used in security applications.\n",
    "\n",
    "8. Financial Technology (FinTech)\n",
    "\n",
    "    Quantitative Analysis: Python is used in algorithmic trading, quantitative finance, and risk management.\n",
    "\n",
    "    Libraries: Libraries such as Pandas, NumPy, and QuantLib are used for financial data analysis and modeling.\n",
    "\n",
    "9. Education\n",
    "\n",
    "    Learning: Python's simplicity and readability make it an ideal language for teaching programming and computer science concepts.\n",
    "\n",
    "    Tools: Educational tools like Jupyter Notebooks and interactive platforms like Codecademy and Khan Academy use Python to teach coding.\n",
    "\n",
    "10. Cloud Computing and DevOps\n",
    "\n",
    "    Automation: Python scripts are used for automating cloud infrastructure tasks and deployments.\n",
    "    Tools: Tools like Ansible (for configuration management) and Fabric (for application deployment) use Python.\n",
    "\n",
    "11. Blockchain Development\n",
    "\n",
    "    Cryptocurrencies: Python is used to develop blockchain applications, smart contracts, and interact with blockchain networks.\n",
    "    \n",
    "    Libraries: Libraries like Web3.py allow interaction with Ethereum blockchain, while others like pybitcoinlib are used for Bitcoin.\n"
   ]
  },
  {
   "cell_type": "markdown",
   "metadata": {},
   "source": [
    "## 3.  Write a Python code to print \"Welcome to CODE APRIL!\"\n"
   ]
  },
  {
   "cell_type": "code",
   "execution_count": 1,
   "metadata": {},
   "outputs": [
    {
     "name": "stdout",
     "output_type": "stream",
     "text": [
      "Welcome to CODE April\n"
     ]
    }
   ],
   "source": [
    "print('Welcome to CODE April')"
   ]
  },
  {
   "cell_type": "markdown",
   "metadata": {},
   "source": [
    "## 4. Write a python code that asks for your name\n"
   ]
  },
  {
   "cell_type": "code",
   "execution_count": 3,
   "metadata": {},
   "outputs": [
    {
     "data": {
      "text/plain": [
       "'Promise'"
      ]
     },
     "execution_count": 3,
     "metadata": {},
     "output_type": "execute_result"
    }
   ],
   "source": [
    "input('what is your name')"
   ]
  },
  {
   "cell_type": "code",
   "execution_count": 2,
   "metadata": {},
   "outputs": [
    {
     "name": "stdout",
     "output_type": "stream",
     "text": [
      "Your name is Promise\n"
     ]
    }
   ],
   "source": [
    "\n",
    "print(f'Your name is {input('What is your name')}')"
   ]
  },
  {
   "cell_type": "markdown",
   "metadata": {},
   "source": [
    "# Day 2\n",
    "Variables, data types, and basic operations\n"
   ]
  },
  {
   "cell_type": "markdown",
   "metadata": {},
   "source": [
    "## 1. How can you determine the type of a variable?\n"
   ]
  },
  {
   "cell_type": "code",
   "execution_count": 4,
   "metadata": {},
   "outputs": [
    {
     "data": {
      "text/plain": [
       "int"
      ]
     },
     "execution_count": 4,
     "metadata": {},
     "output_type": "execute_result"
    }
   ],
   "source": [
    "type(50)"
   ]
  },
  {
   "cell_type": "code",
   "execution_count": 5,
   "metadata": {},
   "outputs": [
    {
     "data": {
      "text/plain": [
       "str"
      ]
     },
     "execution_count": 5,
     "metadata": {},
     "output_type": "execute_result"
    }
   ],
   "source": [
    "type('Promise')"
   ]
  },
  {
   "cell_type": "code",
   "execution_count": 3,
   "metadata": {},
   "outputs": [
    {
     "name": "stdout",
     "output_type": "stream",
     "text": [
      "<class 'int'>\n"
     ]
    }
   ],
   "source": [
    "\n",
    "\" by printing type(variable)\"\n",
    "\n",
    "x= 15\n",
    "print(type(x))"
   ]
  },
  {
   "cell_type": "markdown",
   "metadata": {},
   "source": [
    "## 2. Write a Python program that declares two variables (a and b), ‘a’ storing an integer value and the ‘b’ storing a float value."
   ]
  },
  {
   "cell_type": "code",
   "execution_count": 4,
   "metadata": {},
   "outputs": [],
   "source": [
    "a= 20\n",
    "b= 45.6"
   ]
  },
  {
   "cell_type": "markdown",
   "metadata": {},
   "source": [
    "## 3. Perform basic arithmetic operations (addition, subtraction, multiplication, division) using these variables(a and b) and print the results.\n"
   ]
  },
  {
   "cell_type": "code",
   "execution_count": 5,
   "metadata": {},
   "outputs": [
    {
     "name": "stdout",
     "output_type": "stream",
     "text": [
      "addition: 65.6\n",
      "subtraction: -25.6\n",
      "multiplication: 912.0\n",
      "division: 0.43859649122807015\n"
     ]
    }
   ],
   "source": [
    "print(f'addition: {a+b}')\n",
    "print(f'subtraction: {a-b}')\n",
    "print(f'multiplication: {a*b}')\n",
    "print(f'division: {a/b}')"
   ]
  },
  {
   "cell_type": "markdown",
   "metadata": {},
   "source": [
    "# Day 3\n",
    "Indexing, String methods and formatting\n"
   ]
  },
  {
   "cell_type": "markdown",
   "metadata": {},
   "source": [
    "## 1. Explain the difference between single quotes ('), double quotes (\"), and triple quotes (''' or \"\"\") in Python strings.\n",
    "\n",
    "strings can be enclosed in either single quotes (') or double quotes (\"). \n",
    "\n",
    "There's also the triple quotes (''' or ) which are used for multiline strings.\n",
    "\n",
    "Strings enclosed in single quotes and double quotes are functionally the same in Python.\n",
    "\n",
    "You can use either single quotes or double quotes to define a string literal.\n",
    "\n",
    "They are interchangeable and can be used based on preference or to avoid escaping the same quote character inside the string\n"
   ]
  },
  {
   "cell_type": "code",
   "execution_count": 8,
   "metadata": {},
   "outputs": [
    {
     "data": {
      "text/plain": [
       "'Promise\\nekeh'"
      ]
     },
     "execution_count": 8,
     "metadata": {},
     "output_type": "execute_result"
    }
   ],
   "source": [
    "\"\"\"Promise\n",
    "ekeh\"\"\""
   ]
  },
  {
   "cell_type": "code",
   "execution_count": null,
   "metadata": {},
   "outputs": [],
   "source": [
    "\"I'm promise\""
   ]
  },
  {
   "cell_type": "markdown",
   "metadata": {},
   "source": []
  },
  {
   "cell_type": "markdown",
   "metadata": {},
   "source": [
    "## 2. Write a Python code to demonstrate at least two string methods.\n"
   ]
  },
  {
   "cell_type": "code",
   "execution_count": 9,
   "metadata": {},
   "outputs": [
    {
     "name": "stdout",
     "output_type": "stream",
     "text": [
      "Uppercase: CODE APRIL\n",
      "Lowercase: code april\n"
     ]
    }
   ],
   "source": [
    "\n",
    "string = \"CODE April\"\n",
    "\n",
    "print(f'Uppercase: {string.upper()}')\n",
    "print(f'Lowercase: {string.lower()}')\n"
   ]
  },
  {
   "cell_type": "code",
   "execution_count": 12,
   "metadata": {},
   "outputs": [
    {
     "data": {
      "text/plain": [
       "['CODE', 'April']"
      ]
     },
     "execution_count": 12,
     "metadata": {},
     "output_type": "execute_result"
    }
   ],
   "source": [
    "string.split(' ')"
   ]
  },
  {
   "cell_type": "code",
   "execution_count": 13,
   "metadata": {},
   "outputs": [
    {
     "name": "stdout",
     "output_type": "stream",
     "text": [
      "Split text: ['CODE', 'April']\n",
      "Title case: Code April\n",
      "replcae: CODE_April\n"
     ]
    }
   ],
   "source": [
    "print(f'Split text: {string.split()}')\n",
    "print(f'Title case: {string.title()}')\n",
    "print(f'replcae: {string.replace(' ', '_')}')"
   ]
  },
  {
   "cell_type": "markdown",
   "metadata": {},
   "source": [
    "## 3. Create a Python program that prompts the user to enter a string and then prints out the length of the string.\n"
   ]
  },
  {
   "cell_type": "code",
   "execution_count": 7,
   "metadata": {},
   "outputs": [
    {
     "name": "stdout",
     "output_type": "stream",
     "text": [
      "length of 'CODE April' is 10\n"
     ]
    }
   ],
   "source": [
    "\n",
    "new_string=input('Enter a string')\n",
    "print(f\"length of '{new_string}' is {len(new_string)}\")"
   ]
  },
  {
   "cell_type": "markdown",
   "metadata": {},
   "source": [
    "## 4. Using index slicing, write a program to reverse ‘CODE April’ (output lirpA EDOC)"
   ]
  },
  {
   "cell_type": "code",
   "execution_count": 8,
   "metadata": {},
   "outputs": [
    {
     "name": "stdout",
     "output_type": "stream",
     "text": [
      "lirpA EDOC\n"
     ]
    }
   ],
   "source": [
    "print(string[::-1])"
   ]
  },
  {
   "cell_type": "markdown",
   "metadata": {},
   "source": [
    "# Day 4: \n",
    "Control flow (loops and conditional statements)\n"
   ]
  },
  {
   "cell_type": "markdown",
   "metadata": {},
   "source": [
    "## 1. What is the difference between \"if\", \"elif\", and \"else\" statements in Python?\n"
   ]
  },
  {
   "cell_type": "markdown",
   "metadata": {},
   "source": [
    "if: The \"if\" statement is used to test a specific condition. If the condition is true, the block of code inside the \"if\" statement will be executed.\n",
    "\n",
    "elif: Short for \"else if\", the \"elif\" statement allows you to check multiple conditions if the previous \"if\" or \"elif\" condition was false. You can have multiple \"elif\" statements following an \"if\".\n",
    "\n",
    "else: The \"else\" statement catches anything that wasn't caught by the preceding \"if\" and \"elif\" conditions. It does not take a condition; instead, it runs if none of the previous conditions are true."
   ]
  },
  {
   "cell_type": "markdown",
   "metadata": {},
   "source": [
    "## 2. Write a Python program that prompts the user to enter a positive integer n. Then, using a for loop, the program should print the sum of all numbers from 1 to n (inclusive)\n"
   ]
  },
  {
   "cell_type": "code",
   "execution_count": 14,
   "metadata": {},
   "outputs": [],
   "source": [
    "number = int(input('Please enter a Number'))"
   ]
  },
  {
   "cell_type": "code",
   "execution_count": 15,
   "metadata": {},
   "outputs": [
    {
     "data": {
      "text/plain": [
       "15"
      ]
     },
     "execution_count": 15,
     "metadata": {},
     "output_type": "execute_result"
    }
   ],
   "source": [
    "number"
   ]
  },
  {
   "cell_type": "code",
   "execution_count": 20,
   "metadata": {},
   "outputs": [
    {
     "name": "stdout",
     "output_type": "stream",
     "text": [
      "0\n",
      "1\n",
      "2\n",
      "3\n",
      "4\n",
      "5\n",
      "6\n",
      "7\n",
      "8\n",
      "9\n",
      "10\n",
      "11\n",
      "12\n",
      "13\n",
      "14\n",
      "15\n"
     ]
    }
   ],
   "source": [
    "count=0\n",
    "for n in range(15+1):\n",
    "    count+=n\n",
    "    print(n)"
   ]
  },
  {
   "cell_type": "code",
   "execution_count": 21,
   "metadata": {},
   "outputs": [
    {
     "data": {
      "text/plain": [
       "120"
      ]
     },
     "execution_count": 21,
     "metadata": {},
     "output_type": "execute_result"
    }
   ],
   "source": [
    "count"
   ]
  },
  {
   "cell_type": "code",
   "execution_count": 22,
   "metadata": {},
   "outputs": [
    {
     "name": "stdout",
     "output_type": "stream",
     "text": [
      "Sum of number from 0 to 0 is: 0\n",
      "Sum of number from 0 to 1 is: 1\n",
      "Sum of number from 0 to 2 is: 3\n",
      "Sum of number from 0 to 3 is: 6\n",
      "Sum of number from 0 to 4 is: 10\n",
      "Sum of number from 0 to 5 is: 15\n",
      "Sum of number from 0 to 6 is: 21\n",
      "Sum of number from 0 to 7 is: 28\n",
      "Sum of number from 0 to 8 is: 36\n",
      "Sum of number from 0 to 9 is: 45\n",
      "Sum of number from 0 to 10 is: 55\n",
      "Sum of number from 0 to 11 is: 66\n",
      "Sum of number from 0 to 12 is: 78\n",
      "Sum of number from 0 to 13 is: 91\n",
      "Sum of number from 0 to 14 is: 105\n",
      "Sum of number from 0 to 15 is: 120\n"
     ]
    }
   ],
   "source": [
    "number = int(input('Please enter a Number'))\n",
    "\n",
    "count = 0\n",
    "for num in range(number+1):\n",
    "    count+=num\n",
    "\n",
    "    print(f'Sum of number from 0 to {num} is: {count}')"
   ]
  },
  {
   "cell_type": "markdown",
   "metadata": {},
   "source": [
    "## 3. Write a Python program that takes an integer input from the user and prints whether it is even or odd."
   ]
  },
  {
   "cell_type": "code",
   "execution_count": 25,
   "metadata": {},
   "outputs": [
    {
     "data": {
      "text/plain": [
       "1"
      ]
     },
     "execution_count": 25,
     "metadata": {},
     "output_type": "execute_result"
    }
   ],
   "source": [
    "15%2"
   ]
  },
  {
   "cell_type": "code",
   "execution_count": 27,
   "metadata": {},
   "outputs": [
    {
     "name": "stdout",
     "output_type": "stream",
     "text": [
      "26 Is and even number\n"
     ]
    }
   ],
   "source": [
    "\n",
    "num = int(input('Please enter a number'))\n",
    "\n",
    "if num % 2 == 0:\n",
    "    print(num, 'Is and even number')\n",
    "\n",
    "else: print(num, 'is an odd number')"
   ]
  },
  {
   "cell_type": "markdown",
   "metadata": {},
   "source": [
    "## 4. Write a Python program that prompts the user to enter their age. Based on the age entered, the program should print one of the following messages:\n",
    "\n",
    "\"You are a child\" if the age is less than 18.\n",
    "\n",
    "\"You are an adult\" if the age is between 18 and 65 (inclusive).\n",
    "\n",
    "\"You are a senior\" if the age is greater than 65.\n"
   ]
  },
  {
   "cell_type": "code",
   "execution_count": null,
   "metadata": {},
   "outputs": [],
   "source": [
    "elif age  >= 18 and age <= 65:"
   ]
  },
  {
   "cell_type": "code",
   "execution_count": 11,
   "metadata": {},
   "outputs": [
    {
     "name": "stdout",
     "output_type": "stream",
     "text": [
      "You are an adult\n"
     ]
    }
   ],
   "source": [
    "\n",
    "age= int(input('How old are you?'))\n",
    "if age < 18:\n",
    "    print('You are a child')\n",
    "elif 18 <= age <= 65:\n",
    "    print('You are an adult')\n",
    "else:\n",
    "    print('You are a senior')\n"
   ]
  },
  {
   "cell_type": "markdown",
   "metadata": {},
   "source": [
    "# Day 5:\n",
    "Functions and modules\n"
   ]
  },
  {
   "cell_type": "markdown",
   "metadata": {},
   "source": [
    "## 1. What are functions in Python? Why are they useful?\n",
    "\n",
    "Functions in Python are blocks of reusable code that perform a specific task. They allow you to combine code into a single unit that can be called whenever needed, making the code more modular, readable, and maintainable. \n",
    "\n",
    "Functions can take inputs (known as arguments or parameters), execute a series of statements, and return an output.\n",
    "\n",
    "### Why are they useful?\n",
    "\n",
    "    Modularity: Functions break down a large codebase into smaller, manageable pieces, making it easier to understand and maintain.\n",
    "\n",
    "    Reusability: Once a function is defined, it can be reused multiple times throughout the program, reducing redundancy.\n",
    "\n",
    "    Abstraction: Functions allow you to hide the implementation details and expose only the necessary parts to the user, providing a clear interface.\n",
    "\n",
    "    Maintainability: Functions help in organizing code logically, making it easier to update and maintain. Changes in the function's logic only need to be made in one place.\n",
    "\n",
    "    Testing and Debugging: Functions make it easier to test and debug individual parts of the code. Each function can be tested independently to ensure it works as expected.\n",
    "\n",
    "    Collaboration: In larger projects, different team members can work on different functions or sets of functions, facilitating collaboration."
   ]
  },
  {
   "cell_type": "markdown",
   "metadata": {},
   "source": [
    "## 2. Write a Python function that:\n",
    "\n",
    "### 2a. takes in 3 numbers and returns the sum of the numbers."
   ]
  },
  {
   "cell_type": "code",
   "execution_count": 28,
   "metadata": {},
   "outputs": [
    {
     "data": {
      "text/plain": [
       "12"
      ]
     },
     "execution_count": 28,
     "metadata": {},
     "output_type": "execute_result"
    }
   ],
   "source": [
    "# Option 1\n",
    "def sum_numbers (num1, num2, num3):\n",
    "    return sum((num1, num2, num3))\n",
    "\n",
    "sum_numbers(4, 3, 5)"
   ]
  },
  {
   "cell_type": "code",
   "execution_count": 30,
   "metadata": {},
   "outputs": [
    {
     "data": {
      "text/plain": [
       "13"
      ]
     },
     "execution_count": 30,
     "metadata": {},
     "output_type": "execute_result"
    }
   ],
   "source": [
    "# Option 2\n",
    "def sum_numbers (num1, num2, num3):\n",
    "    return num1 + num2 + num3\n",
    "\n",
    "sum_numbers(4, 3, 6)"
   ]
  },
  {
   "cell_type": "markdown",
   "metadata": {},
   "source": [
    "### 2b. Takes two numbers a and b as input and returns their difference\n"
   ]
  },
  {
   "cell_type": "code",
   "execution_count": 31,
   "metadata": {},
   "outputs": [
    {
     "data": {
      "text/plain": [
       "-2"
      ]
     },
     "execution_count": 31,
     "metadata": {},
     "output_type": "execute_result"
    }
   ],
   "source": [
    "def diff_numbers (num1, num2):\n",
    "    return num1 - num2\n",
    "\n",
    "diff_numbers(5, 7)"
   ]
  },
  {
   "cell_type": "code",
   "execution_count": 15,
   "metadata": {},
   "outputs": [
    {
     "data": {
      "text/plain": [
       "2"
      ]
     },
     "execution_count": 15,
     "metadata": {},
     "output_type": "execute_result"
    }
   ],
   "source": [
    "# If you want to always return a positive number you can use\n",
    "\n",
    "def diff_numbers (num1, num2):\n",
    "    return abs(num1 - num2)\n",
    "\n",
    "diff_numbers(5, 7)"
   ]
  },
  {
   "cell_type": "code",
   "execution_count": 16,
   "metadata": {},
   "outputs": [
    {
     "data": {
      "text/plain": [
       "2"
      ]
     },
     "execution_count": 16,
     "metadata": {},
     "output_type": "execute_result"
    }
   ],
   "source": [
    "# or use an if condition\n",
    "\n",
    "def diff_numbers (num1, num2):\n",
    "    if num2 > num1:\n",
    "        return num2 - num1\n",
    "    else: return num1 - num2\n",
    "\n",
    "diff_numbers(5, 7)"
   ]
  },
  {
   "cell_type": "markdown",
   "metadata": {},
   "source": [
    "### 2c Takes a number number as input and returns its square root\n"
   ]
  },
  {
   "cell_type": "code",
   "execution_count": 32,
   "metadata": {},
   "outputs": [
    {
     "data": {
      "text/plain": [
       "7.0"
      ]
     },
     "execution_count": 32,
     "metadata": {},
     "output_type": "execute_result"
    }
   ],
   "source": [
    "\n",
    "def square_root (num):\n",
    "    return num**(1/2)\n",
    "\n",
    "square_root(49)"
   ]
  },
  {
   "cell_type": "code",
   "execution_count": 33,
   "metadata": {},
   "outputs": [
    {
     "data": {
      "text/plain": [
       "11.0"
      ]
     },
     "execution_count": 33,
     "metadata": {},
     "output_type": "execute_result"
    }
   ],
   "source": [
    "# you can also use the maths function\n",
    "def square_root (num):\n",
    "    import math\n",
    "    return math.sqrt(num)\n",
    "\n",
    "square_root(121)"
   ]
  },
  {
   "cell_type": "markdown",
   "metadata": {},
   "source": [
    "## 3. Write a function count_vowels that takes a string as input and returns the count of vowels (a, e, i, o, u) in the string.\n"
   ]
  },
  {
   "cell_type": "code",
   "execution_count": 34,
   "metadata": {},
   "outputs": [
    {
     "data": {
      "text/plain": [
       "'There are 4 vowels in CODE APRIL'"
      ]
     },
     "execution_count": 34,
     "metadata": {},
     "output_type": "execute_result"
    }
   ],
   "source": [
    "def count_vowels(string= input('Enter a string')):\n",
    "    count=0\n",
    "    for i in string.lower():\n",
    "        if i in ['a', 'e', 'i', 'o', 'u']:\n",
    "            count+=1\n",
    "    return f'There are {count} vowels in {string}'\n",
    "\n",
    "count_vowels ()"
   ]
  },
  {
   "cell_type": "markdown",
   "metadata": {},
   "source": [
    "# Day 6:\n",
    "\n",
    "Python list methods\n"
   ]
  },
  {
   "cell_type": "markdown",
   "metadata": {},
   "source": [
    "## 1. Explain the difference between append() and extend() methods in Python lists\n",
    "\n",
    "In Python, both append() and extend() are methods used to add elements to a list, but they operate differently and serve distinct purposes\n",
    "\n",
    "    The append() method adds a single element to the end of a list. It modifies the original list in place and increases its length by one.\n",
    "\n",
    "    The extend() adds each element from another list to the list. It modifies the original list in place and increases its length by the number of items in the 2nd list."
   ]
  },
  {
   "cell_type": "markdown",
   "metadata": {},
   "source": [
    "## 2. Write a Python code to demonstrate at least two list methods.\n"
   ]
  },
  {
   "cell_type": "code",
   "execution_count": 41,
   "metadata": {},
   "outputs": [
    {
     "name": "stdout",
     "output_type": "stream",
     "text": [
      "5\n"
     ]
    }
   ],
   "source": [
    "fruits =['mango', 'orange', 'apple', 'pear', 'citrus']\n",
    "print(len(fruits))"
   ]
  },
  {
   "cell_type": "code",
   "execution_count": 42,
   "metadata": {},
   "outputs": [],
   "source": [
    "fruits.append('pineapple')"
   ]
  },
  {
   "cell_type": "code",
   "execution_count": 38,
   "metadata": {},
   "outputs": [
    {
     "data": {
      "text/plain": [
       "['mango', 'orange', 'apple', 'pear', 'citrus', 'pineapple']"
      ]
     },
     "execution_count": 38,
     "metadata": {},
     "output_type": "execute_result"
    }
   ],
   "source": [
    "fruits"
   ]
  },
  {
   "cell_type": "code",
   "execution_count": 43,
   "metadata": {},
   "outputs": [
    {
     "data": {
      "text/plain": [
       "['mango', 'orange', 'apple', 'pear', 'citrus', 'pineapple', 'banana']"
      ]
     },
     "execution_count": 43,
     "metadata": {},
     "output_type": "execute_result"
    }
   ],
   "source": [
    "fruits.extend(['banana'])\n",
    "fruits"
   ]
  },
  {
   "cell_type": "markdown",
   "metadata": {},
   "source": [
    "Did you notice the difference between the extend and append?\n",
    "To use the .extend banana had to be in a list"
   ]
  },
  {
   "cell_type": "code",
   "execution_count": 44,
   "metadata": {},
   "outputs": [
    {
     "data": {
      "text/plain": [
       "['apple', 'banana', 'citrus', 'mango', 'orange', 'pear', 'pineapple']"
      ]
     },
     "execution_count": 44,
     "metadata": {},
     "output_type": "execute_result"
    }
   ],
   "source": [
    "fruits.sort()\n",
    "fruits"
   ]
  },
  {
   "cell_type": "markdown",
   "metadata": {},
   "source": [
    "## 3. Write a program that asks the user to input 10 shopping items, \n",
    "    * assign the item to a list called shopping_list, \n",
    "    * sort the items in the list. \n",
    "    * Check if ‘Milk’ is in shopping_list, if not print ‘No Milk in shopping List’ and replace the 2nd item in list with Milk. \n",
    "    * print out shopping_list.\n"
   ]
  },
  {
   "cell_type": "code",
   "execution_count": 45,
   "metadata": {},
   "outputs": [],
   "source": [
    "shopping_list=input('enter your item')"
   ]
  },
  {
   "cell_type": "code",
   "execution_count": 46,
   "metadata": {},
   "outputs": [
    {
     "data": {
      "text/plain": [
       "'grape'"
      ]
     },
     "execution_count": 46,
     "metadata": {},
     "output_type": "execute_result"
    }
   ],
   "source": [
    "shopping_list"
   ]
  },
  {
   "cell_type": "code",
   "execution_count": 48,
   "metadata": {},
   "outputs": [],
   "source": [
    "# option 1: User enters 1 item at a time\n",
    "shopping_list=[]\n",
    "for item in range(10):\n",
    "    shopping_list.append(input(f'Please input item {item+1} of 10'))\n"
   ]
  },
  {
   "cell_type": "code",
   "execution_count": 49,
   "metadata": {},
   "outputs": [
    {
     "data": {
      "text/plain": [
       "['books',\n",
       " 'tea',\n",
       " 'coffee',\n",
       " 'sugar',\n",
       " 'banana',\n",
       " 'grape',\n",
       " 'pen',\n",
       " 'fish',\n",
       " 'oranges',\n",
       " 'light']"
      ]
     },
     "execution_count": 49,
     "metadata": {},
     "output_type": "execute_result"
    }
   ],
   "source": [
    "shopping_list"
   ]
  },
  {
   "cell_type": "code",
   "execution_count": 52,
   "metadata": {},
   "outputs": [],
   "source": [
    "shopping_list =[item.title() for item in shopping_list]\n",
    "shopping_list.sort()\n"
   ]
  },
  {
   "cell_type": "code",
   "execution_count": 53,
   "metadata": {},
   "outputs": [
    {
     "data": {
      "text/plain": [
       "['Banana',\n",
       " 'Books',\n",
       " 'Coffee',\n",
       " 'Fish',\n",
       " 'Grape',\n",
       " 'Light',\n",
       " 'Oranges',\n",
       " 'Pen',\n",
       " 'Sugar',\n",
       " 'Tea']"
      ]
     },
     "execution_count": 53,
     "metadata": {},
     "output_type": "execute_result"
    }
   ],
   "source": [
    "shopping_list"
   ]
  },
  {
   "cell_type": "code",
   "execution_count": 54,
   "metadata": {},
   "outputs": [
    {
     "name": "stdout",
     "output_type": "stream",
     "text": [
      "No milk in shopping list\n"
     ]
    },
    {
     "data": {
      "text/plain": [
       "['Banana',\n",
       " 'milk',\n",
       " 'Coffee',\n",
       " 'Fish',\n",
       " 'Grape',\n",
       " 'Light',\n",
       " 'Oranges',\n",
       " 'Pen',\n",
       " 'Sugar',\n",
       " 'Tea']"
      ]
     },
     "execution_count": 54,
     "metadata": {},
     "output_type": "execute_result"
    }
   ],
   "source": [
    "if 'Milk' not in shopping_list:\n",
    "    print('No milk in shopping list')\n",
    "    shopping_list[1]='Milk'\n",
    "shopping_list"
   ]
  },
  {
   "cell_type": "code",
   "execution_count": null,
   "metadata": {},
   "outputs": [],
   "source": [
    "bath soap, body cream, shower gel, make up, hair cream\n",
    "\n",
    "sweet pepper, tomatoes, fish"
   ]
  },
  {
   "cell_type": "code",
   "execution_count": 55,
   "metadata": {},
   "outputs": [
    {
     "name": "stdout",
     "output_type": "stream",
     "text": [
      "Please add 10 more items to your shopping list []\n"
     ]
    },
    {
     "name": "stdout",
     "output_type": "stream",
     "text": [
      "Please add 5 more items to your shopping list ['bath soap', 'body cream', 'shower gel', 'make up', 'hair cream']\n",
      "Please add 2 more items to your shopping list ['bath soap', 'body cream', 'shower gel', 'make up', 'hair cream', 'sweet pepper', 'tomatoes', 'fish']\n",
      "['bath soap', 'body cream', 'shower gel', 'make up', 'hair cream', 'sweet pepper', 'tomatoes', 'fish', 'milk', 'ice-cream']\n"
     ]
    },
    {
     "data": {
      "text/plain": [
       "['bath soap',\n",
       " 'body cream',\n",
       " 'fish',\n",
       " 'hair cream',\n",
       " 'ice-cream',\n",
       " 'make up',\n",
       " 'milk',\n",
       " 'shower gel',\n",
       " 'sweet pepper',\n",
       " 'tomatoes']"
      ]
     },
     "execution_count": 55,
     "metadata": {},
     "output_type": "execute_result"
    }
   ],
   "source": [
    "# Option 2 (more complex): user can enter multiple items at once separated by comma ','\n",
    "shopping_list=[]\n",
    "while len(shopping_list ) < 10:\n",
    "    for num in range(10):\n",
    "        print(f'Please add {10- len(shopping_list)} more items to your shopping list {shopping_list}')\n",
    "        items=(input(f'Please enter a list of item to add to you cart seperate by ,'))\n",
    "        items=items.split(',')\n",
    "        items=[i.strip() for i in items]\n",
    "        shopping_list.extend(items)\n",
    "        if len(shopping_list ) >= 10: break\n",
    "\n",
    "print(shopping_list)\n",
    "shopping_list =[item.lower() for item in shopping_list]\n",
    "shopping_list.sort()\n",
    "if 'milk' not in shopping_list:\n",
    "    print('No milk in shopping list')\n",
    "    shopping_list[1]='milk'\n",
    "shopping_list"
   ]
  },
  {
   "cell_type": "markdown",
   "metadata": {},
   "source": [
    "# Day 7\n",
    "Rest Day\n",
    "\n",
    "![alt text](../Images/Day%207.png)"
   ]
  },
  {
   "cell_type": "markdown",
   "metadata": {},
   "source": []
  }
 ],
 "metadata": {
  "kernelspec": {
   "display_name": "python12",
   "language": "python",
   "name": "python3"
  },
  "language_info": {
   "codemirror_mode": {
    "name": "ipython",
    "version": 3
   },
   "file_extension": ".py",
   "mimetype": "text/x-python",
   "name": "python",
   "nbconvert_exporter": "python",
   "pygments_lexer": "ipython3",
   "version": "3.12.2"
  }
 },
 "nbformat": 4,
 "nbformat_minor": 2
}
