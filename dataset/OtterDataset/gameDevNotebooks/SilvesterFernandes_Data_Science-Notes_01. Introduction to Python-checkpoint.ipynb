{
 "cells": [
  {
   "cell_type": "markdown",
   "id": "b585a19c-cdac-494c-b42c-458497c4b02f",
   "metadata": {},
   "source": [
    " # Class - 1 : Introduction to Python Programming....\n",
    " **Day & Date : 29 May 2024** \n"
   ]
  },
  {
   "cell_type": "markdown",
   "id": "7f140605-38db-4505-9db0-6999d34b4a0b",
   "metadata": {},
   "source": [
    "________________________________________________________________________________________________"
   ]
  },
  {
   "cell_type": "markdown",
   "id": "d7b1f813-4ca0-4a53-9c50-4cb57c5b19f1",
   "metadata": {},
   "source": [
    "## Introduction : \n",
    "- Guido Van Rossum is the Creator of Python.\n",
    "- Released in 1991\n",
    "- Python is easy programming language\n",
    "- Python is used for the complex program writing\n",
    "- Python is Popular Programming Language\n",
    "  "
   ]
  },
  {
   "cell_type": "markdown",
   "id": "7064076d-1d57-4212-a7cd-a5da8f88570c",
   "metadata": {},
   "source": [
    "_____________________________________________________________________________________________________________________________"
   ]
  },
  {
   "cell_type": "markdown",
   "id": "b38f089f-2cf0-4945-a750-d6ba8eb7b6d5",
   "metadata": {},
   "source": [
    "## Advantages of Python :"
   ]
  },
  {
   "cell_type": "markdown",
   "id": "8fcfb7ff-a288-43f3-824b-fcba1dca3b96",
   "metadata": {},
   "source": [
    "**1.Open Source :** : \n",
    "- We can use python software without any license and it's a freeware.\n",
    "\n",
    "**2.Simple Syntax :**\n",
    "- Readability\n",
    "- Python syntax is similar to English Language\n",
    "- Python syntax doesn't relies on curly-brackets & semi Colon\n",
    "- We no need assign data type while assinging vatiable (Dynamic Type)\n",
    "\n",
    "**3.Interpreted :**\n",
    "- Python is an Interpreter language where programs can be executed directly without a compiler\n",
    "- It will execute code directly, without compiling a program into machine-language instruction\n",
    "\n",
    "**4.High-Level :**\n",
    "- Programmer Friendly, we not required to concentrate low level activities like memory management and security etc.\n",
    "- Python can be treated in procedural way, an object-oeianted way, or a functional way.\n",
    "\n",
    "**5.Portability :**\n",
    "- Designed to be more or less independent of a particular type of computer,human-readable friendly\n",
    "- Python works on different platforms ( Windows, Mac, Linux, Raspberry Pi etc)\n",
    "\n",
    "**6.Robust Standard Library :**\n",
    "- It Contains no.of libraries, allows developers to write programs fewer lines than some other programming languages.\n"
   ]
  },
  {
   "cell_type": "markdown",
   "id": "7f5147b8-ff05-4e80-a766-59edb2115f15",
   "metadata": {},
   "source": [
    "__________________________________________________________________________________________________________________________"
   ]
  },
  {
   "cell_type": "code",
   "execution_count": null,
   "id": "a539a563-9bf6-4034-a691-a4c0b163a065",
   "metadata": {},
   "outputs": [],
   "source": []
  },
  {
   "cell_type": "markdown",
   "id": "70672747-34a6-4fec-b489-6ca35423d9b1",
   "metadata": {},
   "source": [
    "\n",
    "## Difference Between an Interpreter & a Compiler"
   ]
  },
  {
   "cell_type": "markdown",
   "id": "50be508d-9171-4845-aac3-e749a66a554f",
   "metadata": {},
   "source": [
    "\n",
    "|SN.|Interpreter|Compiler|\n",
    "|--|---------------------------------------------------|------------------------------------------------------|\n",
    "|1.|Executes Program by taking **one statement** at a time |Transalte the **entire program** at once into machine code|\n",
    "|2.|Error is reported as soon as the **first error is encounterd**. Won't show the next set of errors if the existing one isn't solved | Errors are reported after the **Entire Program is Checked**|\n",
    "|3.|**Easier** to debug | **Difficult** to Debug|\n",
    "|4.|**No intermediate object code** is generated, Hence **Memory efficient** | **Generates Intermediate object code** which further requires linking, Hence **Requires More Memory**\n",
    "|5.|**Execution is Slower** |**Execution is Faster**"
   ]
  },
  {
   "cell_type": "markdown",
   "id": "aac2f9c7",
   "metadata": {},
   "source": [
    "_________________________________________________________________"
   ]
  },
  {
   "cell_type": "markdown",
   "id": "7613383d",
   "metadata": {},
   "source": [
    "## Applications of Python : "
   ]
  },
  {
   "cell_type": "markdown",
   "id": "436cf236",
   "metadata": {},
   "source": [
    "**1.Machine Learning :** \n",
    "- Using ( Sklearn, Numpy, Pandas,SciPy)\n",
    "\n",
    "**2.Artificial Intelligence :** \n",
    "- Deep Learning  ( Libraries Like TensorFlow,Keras,Pytorch )\n",
    "- Natural Langauge Processing NLP ( Nltk, Spacy)\n",
    "- Image & Video Processing (using OpenCV )\n",
    "- Audio Processing (Using PyAudio)\n",
    "\n",
    "\n",
    "**3. Web Applications :** \n",
    "- Web Frameworks such as Django\n",
    "- Micro-Framework such as Flask.\n",
    "\n",
    "**4.Games :** \n",
    "- (PySoy     - > 3D Game Engine\n",
    "- (PyGame - > Library for game development)\n",
    "\n",
    "**5. Web Scrapping :**\n",
    "- (Requests , BeautifulSoup)"
   ]
  },
  {
   "cell_type": "markdown",
   "id": "e6d3e0a2",
   "metadata": {},
   "source": [
    "## Python used in Various Fields \n",
    "\n",
    "**Python can be used in different ways such as :**\n",
    "- Software Developers\n",
    "- Data Analysts\n",
    "- Data Scientists\n",
    "- Hackers\n",
    "- Game Designers\n",
    "- Scientist's"
   ]
  },
  {
   "cell_type": "markdown",
   "id": "f8f38809",
   "metadata": {},
   "source": [
    "## Various Methods to Execute Python "
   ]
  },
  {
   "cell_type": "code",
   "execution_count": null,
   "id": "d16623e5-b95d-4708-9263-ceb38bcee11d",
   "metadata": {},
   "outputs": [],
   "source": []
  },
  {
   "cell_type": "code",
   "execution_count": null,
   "id": "3899931e-be14-4be4-965c-9a4aca817071",
   "metadata": {},
   "outputs": [],
   "source": []
  },
  {
   "cell_type": "code",
   "execution_count": null,
   "id": "ca839e09-006c-474b-9aab-1e99e86947b5",
   "metadata": {},
   "outputs": [],
   "source": []
  },
  {
   "cell_type": "markdown",
   "id": "6d296601",
   "metadata": {},
   "source": [
    "### Python can be executed in various ways\n",
    "\n",
    "\n",
    "**1. Python (Command Prompt)**\n",
    "\n",
    "**2. Python IDLE**\n",
    "\n",
    "\n",
    "**3.Run File in Python IDLE**\n",
    "\n",
    "__________________________________________________________\n",
    "\n",
    "**| IDLE**  ( Integrated Development Environment)\n",
    "\n",
    "**1.Jupyter Notebook**\n",
    "\n",
    "**2.Spyder**\n",
    "\n",
    "**3.PyCharm**\n",
    "\n",
    "**4.Visual Studio Code**"
   ]
  },
  {
   "cell_type": "code",
   "execution_count": null,
   "id": "8b47beca-a22b-4ded-aab2-f40c25994e47",
   "metadata": {},
   "outputs": [],
   "source": []
  },
  {
   "cell_type": "markdown",
   "id": "2bf92d46-2841-4647-afd9-1a40a16da77f",
   "metadata": {},
   "source": [
    "**Functions in Python**"
   ]
  },
  {
   "cell_type": "markdown",
   "id": "fd970fd2-85fe-4cd3-a967-b7530db867dd",
   "metadata": {},
   "source": [
    "**1.print** :  \n",
    "- To Display or print the value of variable"
   ]
  },
  {
   "cell_type": "markdown",
   "id": "1181436f-f583-4d09-98f3-774e62638bc1",
   "metadata": {},
   "source": [
    "**Print a Single Value**:\n",
    "- Syntax :  print(value)"
   ]
  },
  {
   "cell_type": "code",
   "execution_count": 60,
   "id": "6d5af984-7366-4107-a87a-5a02f17965b8",
   "metadata": {},
   "outputs": [
    {
     "name": "stdout",
     "output_type": "stream",
     "text": [
      "12\n"
     ]
    }
   ],
   "source": [
    "print(12)"
   ]
  },
  {
   "cell_type": "code",
   "execution_count": 62,
   "id": "4e7eed23-8f94-4a51-bd34-13a715484a39",
   "metadata": {},
   "outputs": [
    {
     "name": "stdout",
     "output_type": "stream",
     "text": [
      "Hello !!!\n"
     ]
    }
   ],
   "source": [
    "print(\"Hello !!!\")"
   ]
  },
  {
   "cell_type": "markdown",
   "id": "fe5d1930-8939-46af-a0e2-9770baece9ff",
   "metadata": {},
   "source": [
    "**Print a Multiple Value**:\n",
    "- Syntax :  print(value1,value2,.....,value n)\n",
    "\n",
    "- default seperator is Space between the values"
   ]
  },
  {
   "cell_type": "code",
   "execution_count": 65,
   "id": "7cce1cc2-1618-4b93-98f8-0189882a1df5",
   "metadata": {},
   "outputs": [
    {
     "name": "stdout",
     "output_type": "stream",
     "text": [
      "Hello 10 5.5 python\n"
     ]
    }
   ],
   "source": [
    "print(\"Hello\",10,5.5,'python')"
   ]
  },
  {
   "cell_type": "code",
   "execution_count": null,
   "id": "c1fb37c2-a6f6-4532-a4d5-0a4d8c26a100",
   "metadata": {},
   "outputs": [],
   "source": []
  },
  {
   "cell_type": "markdown",
   "id": "bcdf70f0-d0e6-4995-855a-b489138ce4b8",
   "metadata": {},
   "source": [
    "**Print a Single Variable**:\n",
    "- Syntax :  print(variable)"
   ]
  },
  {
   "cell_type": "code",
   "execution_count": 69,
   "id": "aff36306-7bcc-49a1-a850-9f8e7da7472c",
   "metadata": {},
   "outputs": [
    {
     "name": "stdout",
     "output_type": "stream",
     "text": [
      "100\n"
     ]
    }
   ],
   "source": [
    "a = 100\n",
    "print(a)"
   ]
  },
  {
   "cell_type": "markdown",
   "id": "fbd6a434-2802-4c87-b65c-7e47005b2f4f",
   "metadata": {},
   "source": [
    "**Print a Multiple Variable**:\n",
    "- Syntax :  print(variable1,variable2,variable3,........variablen)"
   ]
  },
  {
   "cell_type": "code",
   "execution_count": 72,
   "id": "d94b4c79-9c08-48a6-963c-4eaf8c7f42df",
   "metadata": {},
   "outputs": [
    {
     "name": "stdout",
     "output_type": "stream",
     "text": [
      "50 30\n"
     ]
    }
   ],
   "source": [
    "a,b=50,30\n",
    "print(a,b)"
   ]
  },
  {
   "cell_type": "markdown",
   "id": "501818dc-a444-41a9-ac1f-5ea4ec40da8b",
   "metadata": {},
   "source": [
    "**Print a Combination of values & Variable's**:"
   ]
  },
  {
   "cell_type": "code",
   "execution_count": 75,
   "id": "78af5bbf-7cb2-4a10-aaa3-82b300b18e4b",
   "metadata": {},
   "outputs": [
    {
     "name": "stdout",
     "output_type": "stream",
     "text": [
      "The value of a : 10\n"
     ]
    }
   ],
   "source": [
    "a = 10\n",
    "print(\"The value of a :\",a)"
   ]
  },
  {
   "cell_type": "code",
   "execution_count": 77,
   "id": "1d02833a-4205-4cb8-a905-01bed960ad0c",
   "metadata": {},
   "outputs": [
    {
     "name": "stdout",
     "output_type": "stream",
     "text": [
      "My Name is: Silvester & my age is: 25\n"
     ]
    }
   ],
   "source": [
    "age = 25 \n",
    "name = 'Silvester'\n",
    "\n",
    "print(\"My Name is:\",name,\"& my age is:\",age)"
   ]
  },
  {
   "cell_type": "code",
   "execution_count": null,
   "id": "e8c2cb8a-9c5a-4fae-a511-4b124c23e326",
   "metadata": {},
   "outputs": [],
   "source": []
  },
  {
   "cell_type": "markdown",
   "id": "83c573ca-771d-4be6-8663-d010e52ca1cd",
   "metadata": {},
   "source": [
    "**2. .format()**:"
   ]
  },
  {
   "cell_type": "code",
   "execution_count": 81,
   "id": "610aa16b-7727-4d90-8794-f588c8868fe9",
   "metadata": {},
   "outputs": [
    {
     "name": "stdout",
     "output_type": "stream",
     "text": [
      "My Name is:Silvester and my age is:25\n"
     ]
    }
   ],
   "source": [
    "age = 25\n",
    "name ='Silvester'\n",
    "\n",
    "print(\"My Name is:{} \" \"and my age is:{}\".format(name,age))"
   ]
  },
  {
   "cell_type": "code",
   "execution_count": null,
   "id": "4ee9be79-6a87-4ba9-81f4-028989dd43ed",
   "metadata": {},
   "outputs": [],
   "source": []
  }
 ],
 "metadata": {
  "kernelspec": {
   "display_name": "Python 3 (ipykernel)",
   "language": "python",
   "name": "python3"
  },
  "language_info": {
   "codemirror_mode": {
    "name": "ipython",
    "version": 3
   },
   "file_extension": ".py",
   "mimetype": "text/x-python",
   "name": "python",
   "nbconvert_exporter": "python",
   "pygments_lexer": "ipython3",
   "version": "3.11.7"
  }
 },
 "nbformat": 4,
 "nbformat_minor": 5
}
