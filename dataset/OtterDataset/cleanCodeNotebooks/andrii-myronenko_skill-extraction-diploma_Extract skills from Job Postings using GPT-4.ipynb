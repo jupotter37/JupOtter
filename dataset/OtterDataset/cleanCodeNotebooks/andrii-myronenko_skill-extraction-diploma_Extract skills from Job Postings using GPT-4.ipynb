{
 "cells": [
  {
   "cell_type": "code",
   "execution_count": 73,
   "id": "b2e174eb",
   "metadata": {},
   "outputs": [
    {
     "name": "stderr",
     "output_type": "stream",
     "text": [
      "[nltk_data] Downloading package punkt to\n",
      "[nltk_data]     /Users/andriimyronenko/nltk_data...\n",
      "[nltk_data]   Package punkt is already up-to-date!\n"
     ]
    },
    {
     "data": {
      "text/plain": [
       "True"
      ]
     },
     "execution_count": 73,
     "metadata": {},
     "output_type": "execute_result"
    }
   ],
   "source": [
    "# !pip install spacy\n",
    "\n",
    "from dotenv import load_dotenv\n",
    "import ast\n",
    "\n",
    "load_dotenv()\n",
    "\n",
    "import nltk\n",
    "nltk.download('punkt')"
   ]
  },
  {
   "cell_type": "code",
   "execution_count": 28,
   "id": "68508f36",
   "metadata": {},
   "outputs": [],
   "source": [
    "import pandas as pd\n",
    "\n",
    "test_tech_df = pd.read_csv('./data/test_df_tech_only_combined.csv')\n",
    "\n",
    "test_tech_df['knowledge'] = test_tech_df['knowledge'].apply(ast.literal_eval)\n",
    "test_tech_df['skills'] = test_tech_df['skills'].apply(ast.literal_eval)"
   ]
  },
  {
   "cell_type": "code",
   "execution_count": 29,
   "id": "d53b55bf",
   "metadata": {},
   "outputs": [
    {
     "name": "stdout",
     "output_type": "stream",
     "text": [
      "Full Stack Software Engineer - Java / JavaScript <ORGANIZATION> <ORGANIZATION> <ORGANIZATION> <ORGANIZATION> . <ADDRESS> <ADDRESS> <LOCATION> - <LOCATION> Date posted: 2021-03-04 Likes: 0 Dislikes: 0 Love: 0 Salary: <SALARY> Job type: FULL_TIME Experience level: <EXPERIENCE> Industry: <INDUSTRY> Company size: <SIZE> Company type: <COMPANY_TYPE> Technologies: javascript reactjs java Job description: Job type: Full-time Role: Full Stack Developer Technologies javascript reactjs java Job description As a member of our <ORGANIZATION> <ORGANIZATION> <ORGANIZATION> we look first and foremost for people who are passionate around solving business problems through innovation and engineering practices . You'll be required to apply your depth of knowledge and expertise to all aspects of the software development lifecycle as well as partner continuously with your many stakeholders on a daily basis to stay focused on common goals . We embrace a culture of experimentation and constantly strive for improvement and learning . You'll work in a collaborative trusting thought-provoking environment-one that encourages diversity of thought and creative solutions that are in the best interests of our customers globally . This opportunity requires a highly motivated candidate to work in a small and talented software development team in order to deliver of a next-generation analytics products for our institutional client base . The analytics solutions will be a commercial business in its own right so a heavy emphasis on building technology that Client's will pay for and that creates stickiness . This framework is at an early stage of development which offers an opportunity for an experienced developer to help shape the key components of the product and create commercial opportunities for a new business initiative . You will partner primarily with fellow technologists from across lines of business Product Development and Quantitative Research to build a modern and comprehensive API allowing clients to easily define and compute analytics on a wide variety of financial instruments . * • BS/BA degree or equivalent experience * • Advanced knowledge of application data and infrastructure architecture disciplines * • Understanding of architecture and design across all systems * • Working proficiency in developmental toolsets * • Knowledge of industry-wide technology strategies and best practices * • Ability to work in large collaborative teams to achieve organizational goals and passionate about building an innovative culture * • Proficiency in one or more modern programming languages - Java and Javascript preferable * • Understanding of software skills such as business analysis development maintenance and software improvement * • In-depth HTML5 / JavaScript * • Competent with developing multithreaded scalable concurrent applications . * • Node JS ( server side and tooling ) * • React or similar view framework <ORGANIZATION> <ORGANIZATION> <ORGANIZATION> is a global leader in financial services providing strategic advice and products to the world's most prominent corporations governments wealthy individuals and institutional investors . Our first-class business in a first-class way approach to serving clients drives everything we do . We strive to build trusted long-term partnerships to help our clients achieve their business objectives . We recognize that our people are our strength and the diverse talents they bring to our global workforce are directly linked to our success . We are an equal opportunity employer and place a high value on diversity and inclusion at our company . We do not discriminate on the basis of any protected attribute including race religion color national origin gender sexual orientation gender identity gender expression age marital or veteran status pregnancy or disability or any other basis protected under applicable law . In accordance with applicable law we make reasonable accommodations for applicants' and employees' religious practices and beliefs as well as any mental health or physical disability needs . Job benefits: - Company description: <DESCRIPTION>\n",
      ">>>>>>>>>>>>>>>>>>>>>>>>>>>>>>>>>>>>>>>>>>>>>>>>>>\n",
      "['solving business problems', 'apply your depth of knowledge and expertise', 'partner continuously with your many stakeholders', 'stay focused on common goals', 'motivated', 'deliver of a next-generation analytics products', 'developmental toolsets', 'work in large collaborative teams', 'achieve organizational goals', 'building an innovative culture', 'developing multithreaded scalable concurrent applications']\n",
      ">>>>>>>>>>>>>>>>>>>>>>>>>>>>>>>>>>>>>>>>>>>>>>>>>>\n",
      "['javascript', 'reactjs', 'java', 'javascript', 'reactjs', 'java', 'innovation and engineering practices', 'software development lifecycle', 'BS/BA degree', 'application data and infrastructure architecture disciplines', 'architecture', 'design', 'industry-wide technology strategies and best practices', 'Java', 'Javascript', 'business analysis', 'development', 'maintenance', 'software improvement', 'HTML5', 'JavaScript', 'Node JS ( server side and tooling ) *', 'React']\n"
     ]
    }
   ],
   "source": [
    "print(test_tech_df.at[0, 'text'])\n",
    "print('>>>>>>>>>>>>>>>>>>>>>>>>>>>>>>>>>>>>>>>>>>>>>>>>>>')\n",
    "print(test_tech_df.at[0, 'skills'])\n",
    "print('>>>>>>>>>>>>>>>>>>>>>>>>>>>>>>>>>>>>>>>>>>>>>>>>>>')\n",
    "print(test_tech_df.at[0, 'knowledge'])"
   ]
  },
  {
   "cell_type": "code",
   "execution_count": 30,
   "id": "173864e7",
   "metadata": {},
   "outputs": [
    {
     "data": {
      "text/html": [
       "<div>\n",
       "<style scoped>\n",
       "    .dataframe tbody tr th:only-of-type {\n",
       "        vertical-align: middle;\n",
       "    }\n",
       "\n",
       "    .dataframe tbody tr th {\n",
       "        vertical-align: top;\n",
       "    }\n",
       "\n",
       "    .dataframe thead th {\n",
       "        text-align: right;\n",
       "    }\n",
       "</style>\n",
       "<table border=\"1\" class=\"dataframe\">\n",
       "  <thead>\n",
       "    <tr style=\"text-align: right;\">\n",
       "      <th></th>\n",
       "      <th>idx</th>\n",
       "      <th>text</th>\n",
       "      <th>skills</th>\n",
       "      <th>knowledge</th>\n",
       "      <th>source</th>\n",
       "      <th>predictions_gpt_full_text</th>\n",
       "      <th>predictions_gpt_chunked</th>\n",
       "    </tr>\n",
       "  </thead>\n",
       "  <tbody>\n",
       "    <tr>\n",
       "      <th>0</th>\n",
       "      <td>1</td>\n",
       "      <td>Full Stack Software Engineer - Java / JavaScri...</td>\n",
       "      <td>[solving business problems, apply your depth o...</td>\n",
       "      <td>[javascript, reactjs, java, javascript, reactj...</td>\n",
       "      <td>tech</td>\n",
       "      <td>None</td>\n",
       "      <td>None</td>\n",
       "    </tr>\n",
       "    <tr>\n",
       "      <th>1</th>\n",
       "      <td>2</td>\n",
       "      <td>Software Engineer - Java &lt;ORGANIZATION&gt; &lt;ORGAN...</td>\n",
       "      <td>[solving business problems, apply your depth o...</td>\n",
       "      <td>[java, spring, java-ee, java, spring, java-ee,...</td>\n",
       "      <td>tech</td>\n",
       "      <td>None</td>\n",
       "      <td>None</td>\n",
       "    </tr>\n",
       "    <tr>\n",
       "      <th>2</th>\n",
       "      <td>3</td>\n",
       "      <td>DevOps Ninja Engineer ( . NET/Azure ) &lt;ORGANIZ...</td>\n",
       "      <td>[Open for continuous change, Enhance and maint...</td>\n",
       "      <td>[Financial Technology, SaaS, wealthtech, azure...</td>\n",
       "      <td>tech</td>\n",
       "      <td>None</td>\n",
       "      <td>None</td>\n",
       "    </tr>\n",
       "    <tr>\n",
       "      <th>3</th>\n",
       "      <td>4</td>\n",
       "      <td>Principle Software Engineer | Java &lt;ORGANIZATI...</td>\n",
       "      <td>[solving business problems, apply your depth o...</td>\n",
       "      <td>[Financial Services, java, reactjs, web-servic...</td>\n",
       "      <td>tech</td>\n",
       "      <td>None</td>\n",
       "      <td>None</td>\n",
       "    </tr>\n",
       "    <tr>\n",
       "      <th>4</th>\n",
       "      <td>5</td>\n",
       "      <td>Python Software Engineer Intern for &lt;ORGANIZAT...</td>\n",
       "      <td>[build highly efficient accurate and scalable ...</td>\n",
       "      <td>[Artificial Intelligence, Computer Graphics, S...</td>\n",
       "      <td>tech</td>\n",
       "      <td>None</td>\n",
       "      <td>None</td>\n",
       "    </tr>\n",
       "  </tbody>\n",
       "</table>\n",
       "</div>"
      ],
      "text/plain": [
       "   idx                                               text  \\\n",
       "0    1  Full Stack Software Engineer - Java / JavaScri...   \n",
       "1    2  Software Engineer - Java <ORGANIZATION> <ORGAN...   \n",
       "2    3  DevOps Ninja Engineer ( . NET/Azure ) <ORGANIZ...   \n",
       "3    4  Principle Software Engineer | Java <ORGANIZATI...   \n",
       "4    5  Python Software Engineer Intern for <ORGANIZAT...   \n",
       "\n",
       "                                              skills  \\\n",
       "0  [solving business problems, apply your depth o...   \n",
       "1  [solving business problems, apply your depth o...   \n",
       "2  [Open for continuous change, Enhance and maint...   \n",
       "3  [solving business problems, apply your depth o...   \n",
       "4  [build highly efficient accurate and scalable ...   \n",
       "\n",
       "                                           knowledge source  \\\n",
       "0  [javascript, reactjs, java, javascript, reactj...   tech   \n",
       "1  [java, spring, java-ee, java, spring, java-ee,...   tech   \n",
       "2  [Financial Technology, SaaS, wealthtech, azure...   tech   \n",
       "3  [Financial Services, java, reactjs, web-servic...   tech   \n",
       "4  [Artificial Intelligence, Computer Graphics, S...   tech   \n",
       "\n",
       "  predictions_gpt_full_text predictions_gpt_chunked  \n",
       "0                      None                    None  \n",
       "1                      None                    None  \n",
       "2                      None                    None  \n",
       "3                      None                    None  \n",
       "4                      None                    None  "
      ]
     },
     "execution_count": 30,
     "metadata": {},
     "output_type": "execute_result"
    }
   ],
   "source": [
    "test_tech_df['predictions_gpt_full_text'] = None\n",
    "test_tech_df['predictions_gpt_chunked'] = None"
   ]
  },
  {
   "cell_type": "code",
   "execution_count": 4,
   "id": "836ebc13",
   "metadata": {},
   "outputs": [
    {
     "data": {
      "text/plain": [
       "(31, 5)"
      ]
     },
     "execution_count": 4,
     "metadata": {},
     "output_type": "execute_result"
    }
   ],
   "source": [
    "test_tech_df.shape"
   ]
  },
  {
   "cell_type": "code",
   "execution_count": 5,
   "id": "08ce493d",
   "metadata": {},
   "outputs": [],
   "source": [
    "verbose_template = \"\"\"\n",
    "You are a top-notch recruiter and data labeler.\n",
    "Your task is to thoroughly analyze the following part of a job posting and extract text spans including skills or knowledge.\n",
    "\n",
    "You should use the following guideline for annotation:\n",
    "\n",
    "Instruction for Annotating Text for Skills and Knowledge Components\n",
    "Objective: Identify and annotate spans of text in job postings (JPs) that represent specific skills or knowledge required for the position.\n",
    "\n",
    "1. Identifying Skills:\n",
    "\n",
    "General Rule: A skill is usually indicated by a VERB or an (ADJECTIVE) + NOUN combination.\n",
    "Exclusion of Modal Verbs: Do not tag modal verbs (e.g., can, will) as part of the skill.\n",
    "Phrase Separation: Split phrases containing prepositions and/or conjunctions, except when conjunctions coordinate two nouns as a single argument.\n",
    "Handling Anaphoric Pronouns: Avoid tagging skills with anaphoric pronouns. Only tag the preceding skill.\n",
    "Splitting Coordinated Components: Split nouns and adjectives in coordination if they lack a verb.\n",
    "Listing of Skills: If skills are listed leading to different subtasks, annotate each separately.\n",
    "Brevity in Contextual Information: Keep skill annotations concise, especially when followed by company-specific info.\n",
    "Inclusion of 'skills' or 'knowledge' in Tags: Include these words in the annotation if their omission alters the meaning.\n",
    "Parenthetical Information: Include if it elaborates on the skill or is an abbreviation.\n",
    "Adverbial Inclusion: Include adverbials that describe the manner of doing something.\n",
    "Attitudes as Skills: Annotate attitudes as skills, omitting articles.\n",
    "Exclusions:\n",
    "Avoid tagging ironic skills.\n",
    "Avoid nested annotations; use one span for overlapping skills.\n",
    "Do not tag skills in top headlines, but do tag in sub-headlines and body text.\n",
    "Exclude fluff and triggers surrounding the skill component.\n",
    "Exclude participation, contributing, and transfer expressions from skill annotations.\n",
    "Do not annotate occupations or positions.\n",
    "Focus on skills related and specific to the position.\n",
    "\n",
    "2. Identifying Knowledge:\n",
    "General Rule: Knowledge is non-executable and possessed by an individual.\n",
    "Inclusion of Parenthetical Information: Include if it is related to the knowledge component.\n",
    "Licenses and Certifications: Include additional words like \"certificate,\" \"license,\" etc.\n",
    "Vague Preceding Verbs: Only tag the knowledge component if preceded by a vague verb.\n",
    "Specificity: Annotate only specified knowledge components.\n",
    "Nested Knowledge in Skills: Knowledge components can be nested within skill annotations.\n",
    "Coordination of Knowledge Components: Annotate as one if all components share one knowledge tag.\n",
    "Listing Knowledge Tags: Annotate all knowledge tags separately.\n",
    "Annotation of Industries and Fields: Tag these as knowledge components.\n",
    "\n",
    "3. Prioritization and Other Considerations:\n",
    "Prefer skills over knowledge in uncertain cases.\n",
    "Prioritize skills over attitudes; only tag the skill within an attitude.\n",
    "Keep annotations concise and relevant to the job.\n",
    "Annotate skills and knowledge in unconventional places if related to the position.\n",
    "Consider annotating a combination of skill and knowledge when applicable.\n",
    "Exclude knowledge/skill components in positions.\n",
    "Focus on annotations relevant to the specific position and its future expectations.\n",
    "\n",
    "Output just the JSON array, wihtout any other text.\n",
    "Start your response with \"[\" symbol, and finish with \"]\".\n",
    "Make sure your response doesn't include anything else.\n",
    "\n",
    "Job posting:\n",
    "{job_posting}\n",
    "\n",
    "Response:\"\"\"\n",
    "\n",
    "short_template = \"\"\"\n",
    "    You are a top-notch recruiter and data labeler.\n",
    "    Your task is to thoroughly analyze the following part of a job posting and extract text spans including skills and knowledge.\n",
    "    A skill in a job context is typically indicated by a verb or an adjective-noun combination, reflecting an executable ability or a specific way of performing a task.\n",
    "    Knowledge, on the other hand, refers to non-executable information that an individual possesses, often indicated by specific fields, industries, or certifications, and is distinct from direct action or skills.\n",
    "\n",
    "    Output the JSON array, wihtout any other text.\n",
    "    Start your response with \"[\" symbol, and finish with \"]\".\n",
    "    Make sure your response doesn't include anything else.\n",
    "\n",
    "    Job posting:\n",
    "    {job_posting}\n",
    "\"\"\"\n",
    "\n",
    "few_shot_template = \"\"\"\n",
    "    You are a top-notch recruiter and data labeler.\n",
    "    Your task is to thoroughly analyze the following part of a job posting and extract text spans including job-related skills or knowledge.\n",
    "    A skill in a job context is typically indicated by a verb or an adjective-noun combination, reflecting an executable ability or a specific way of performing a task.\n",
    "    Knowledge, on the other hand, refers to non-executable information that an individual possesses, often indicated by specific fields, industries, or certifications, and is distinct from direct action or skills.\n",
    "\n",
    "    Below you can see some examples. Pay attention to what is included in detected spans. We want not to include false positive skills and knowledge.\n",
    "\n",
    "    Job posting:\n",
    "    Ability to work in large collaborative teams to achieve organizational goals\n",
    "    Detected spans:\n",
    "    [\"work in large collaborative teams\"]\n",
    "\n",
    "    Job posting:\n",
    "    Work hands-on together with the other engineers within the Agile team\n",
    "    Detected spans:\n",
    "    [\"Work hands-on\"]\n",
    "\n",
    "    Job posting:\n",
    "    Requirements At least 5 years of combined experience in Java or Kotlin and JavaScript or TypeScript programming and related test frameworks ( Selenium TestCafe etc.) .\n",
    "    Detected spans:\n",
    "    [\"Java\", \"Kotlin\", \"JavaScript\", \"Typescript\"]\n",
    "\n",
    "    Job posting:\n",
    "    A degree in Computer Science or related fields or equivalent practical experience .\n",
    "    Detected spans:\n",
    "    [\"degree in Computer Science\"]\n",
    "\n",
    "    Job posting:\n",
    "    Experience in working on a cloud-based application running on Docker .\n",
    "    Detected spans:\n",
    "    [\"Docker\", \"working on a cloud-based application\"]\n",
    "\n",
    "    Make sure to never include protected attributes like gender identity or veteran status in the returned list:\n",
    "\n",
    "    Job posting:\n",
    "    We do not discriminate on the basis of any protected attribute including race religion color national origin gender sexual orientation .\n",
    "    Detected spans:\n",
    "    []\n",
    "\n",
    "    Output just the JSON array, wihtout any other text.\n",
    "    Start your response with \"[\" symbol, and finish with \"]\".\n",
    "    Make sure your response doesn't include data from examples and anything else except from JSON array.\n",
    "    Return empty array If there are no obvious skill and knowledge spans in the given posting.\n",
    "\n",
    "    Job posting:\n",
    "    {job_posting}\n",
    "    Detected spans:\n",
    "\"\"\"\n",
    "\n",
    "annotation_guidelines_template = \"\"\"\n",
    "    You are a top-notch recruiter and data labeler.\n",
    "    Your task is to thoroughly analyze the following part of a job posting and extract text spans including candidate-related skill and knowledge components.\n",
    "    The definition of skill component is the following:\n",
    "    \"The ability to apply knowledge and use know-how to complete tasks and solve problems. Skills are described as cognitive (involving the use of logical, intuitive and creative thinking) or practical (involving manual dexterity and the use of methods, materials, tools and instruments).\"\n",
    "    The definition of knowledge is the following:\n",
    "    \"The body of facts, principles, theories and practices that is related to a field of work or study. Knowledge is described as theoretical and/or factual, and is the outcome of the assimilation of information through learning.\"\n",
    "    Make sure to detect the shortest possible text span excluding irrelevant, company-specific information.\n",
    "\n",
    "    Output just the JSON array, with skill or knowledge strings surrounded by quotation marks.\n",
    "    Start your response with \"[\" symbol, and finish with \"]\".\n",
    "\n",
    "    Example job posting including skill components:\n",
    "    We are looking for people who want to work in cross-functional teams and want to help others learn how to build them\n",
    "    Detected spans:\n",
    "    [\"work in cross-functional teams\", \"help others learn\"]\n",
    "\n",
    "    Example job posting including knowledge components:\n",
    "    Experience with latest versions of Java and C++.\n",
    "    Detected knowledge components:\n",
    "    [\"Java\", \"C++\"]\n",
    "\n",
    "    Make sure your response doesn't include anything else except from JSON array. Each skill should be a separate string.\n",
    "    Return empty array If there are no obvious skill or knowledge components in the given posting.\n",
    "\n",
    "    Job posting:\n",
    "    {job_posting}\n",
    "    Detected spans:\n",
    "\"\"\"\n",
    "\n",
    "\n",
    "template_collection = {\n",
    "    'verbose': verbose_template,\n",
    "    'short': short_template,\n",
    "    'few_shot': few_shot_template,\n",
    "    'annotation_guidelines_template': annotation_guidelines_template\n",
    "}"
   ]
  },
  {
   "cell_type": "code",
   "execution_count": 6,
   "id": "79de0caa",
   "metadata": {},
   "outputs": [],
   "source": [
    "from langchain import LLMChain, PromptTemplate\n",
    "from langchain.output_parsers import StructuredOutputParser, ResponseSchema\n",
    "from langchain.prompts import PromptTemplate, ChatPromptTemplate, HumanMessagePromptTemplate\n",
    "from langchain.llms import OpenAI\n",
    "from langchain.chat_models import ChatOpenAI\n",
    "\n",
    "prompt_template = PromptTemplate(input_variables=[\"job_posting\"], template=template_collection['few_shot'])"
   ]
  },
  {
   "cell_type": "code",
   "execution_count": 14,
   "id": "f9dd32b0",
   "metadata": {},
   "outputs": [],
   "source": [
    "from langchain_openai import ChatOpenAI\n",
    "\n",
    "llm = ChatOpenAI(model=\"gpt-4\", temperature=0)\n",
    "\n",
    "from langchain_core.prompts import ChatPromptTemplate\n",
    "\n",
    "prompt = ChatPromptTemplate.from_messages([\n",
    "    (\"user\", \"{input}\")\n",
    "])"
   ]
  },
  {
   "cell_type": "code",
   "execution_count": 15,
   "id": "2aac844c",
   "metadata": {},
   "outputs": [],
   "source": [
    "from langchain_core.output_parsers import StrOutputParser\n",
    "\n",
    "output_parser = StrOutputParser()\n",
    "\n",
    "chain = prompt | llm | output_parser"
   ]
  },
  {
   "cell_type": "code",
   "execution_count": 39,
   "id": "92f1dfab",
   "metadata": {},
   "outputs": [
    {
     "data": {
      "text/plain": [
       "['Full Stack Software Engineer',\n",
       " 'Java',\n",
       " 'JavaScript',\n",
       " 'solving business problems through innovation and engineering practices',\n",
       " 'software development lifecycle',\n",
       " 'BS/BA degree',\n",
       " 'Advanced knowledge of application data and infrastructure architecture disciplines',\n",
       " 'Understanding of architecture and design across all systems',\n",
       " 'Working proficiency in developmental toolsets',\n",
       " 'Knowledge of industry-wide technology strategies and best practices',\n",
       " 'work in large collaborative teams',\n",
       " 'Proficiency in one or more modern programming languages - Java and Javascript',\n",
       " 'Understanding of software skills such as business analysis development maintenance and software improvement',\n",
       " 'In-depth HTML5 / JavaScript',\n",
       " 'developing multithreaded scalable concurrent applications',\n",
       " 'Node JS',\n",
       " 'React']"
      ]
     },
     "execution_count": 39,
     "metadata": {},
     "output_type": "execute_result"
    }
   ],
   "source": [
    "import ast\n",
    "\n",
    "def get_skills_for_posting(job_posting):\n",
    "    prompt_val = prompt_template.invoke({\"job_posting\": job_posting})\n",
    "    output = chain.invoke({\"input\": prompt_val.to_string()})\n",
    "    array_start = output.find('[')\n",
    "    array_end = output.find(']', array_start)\n",
    "    array_string = output[array_start:array_end+1].strip()\n",
    "    return ast.literal_eval(array_string)\n",
    "\n",
    "gpt_results = get_skills_for_posting(test_posting)\n",
    "gpt_results"
   ]
  },
  {
   "cell_type": "code",
   "execution_count": 40,
   "id": "ab6c5643",
   "metadata": {},
   "outputs": [],
   "source": [
    "def calculate_f1_score(real_values, predicted_values):\n",
    "    real_values = [val.lower() for val in real_values]\n",
    "    predicted_values = [val.lower() for val in predicted_values]\n",
    "\n",
    "    tp = sum([1 for val in predicted_values if val in real_values])\n",
    "    fp = sum([1 for val in predicted_values if val not in real_values])\n",
    "    fn = sum([1 for val in real_values if val not in predicted_values])\n",
    "\n",
    "    precision = tp / (tp + fp) if (tp + fp) > 0 else 0\n",
    "    recall = tp / (tp + fn) if (tp + fn) > 0 else 0\n",
    "    f1_score = 2 * (precision * recall) / (precision + recall) if (precision + recall) > 0 else 0\n",
    "\n",
    "    print(\"Precision: \" + str(precision))\n",
    "    print(\"Recall: \" + str(recall))\n",
    "\n",
    "    return f1_score"
   ]
  },
  {
   "cell_type": "code",
   "execution_count": 41,
   "id": "73bc9e59",
   "metadata": {},
   "outputs": [],
   "source": [
    "merged_skills_knowledge = test_tech_df.at[0, 'skills'] + test_tech_df.at[0, 'knowledge']"
   ]
  },
  {
   "cell_type": "code",
   "execution_count": 42,
   "id": "a284cb7b",
   "metadata": {},
   "outputs": [
    {
     "data": {
      "text/plain": [
       "['Full Stack Software Engineer',\n",
       " 'Java',\n",
       " 'JavaScript',\n",
       " 'solving business problems through innovation and engineering practices',\n",
       " 'software development lifecycle',\n",
       " 'BS/BA degree',\n",
       " 'Advanced knowledge of application data and infrastructure architecture disciplines',\n",
       " 'Understanding of architecture and design across all systems',\n",
       " 'Working proficiency in developmental toolsets',\n",
       " 'Knowledge of industry-wide technology strategies and best practices',\n",
       " 'work in large collaborative teams',\n",
       " 'Proficiency in one or more modern programming languages - Java and Javascript',\n",
       " 'Understanding of software skills such as business analysis development maintenance and software improvement',\n",
       " 'In-depth HTML5 / JavaScript',\n",
       " 'developing multithreaded scalable concurrent applications',\n",
       " 'Node JS',\n",
       " 'React']"
      ]
     },
     "execution_count": 42,
     "metadata": {},
     "output_type": "execute_result"
    }
   ],
   "source": [
    "gpt_results"
   ]
  },
  {
   "cell_type": "code",
   "execution_count": 43,
   "id": "16f615ea",
   "metadata": {},
   "outputs": [
    {
     "name": "stdout",
     "output_type": "stream",
     "text": [
      "Precision: 0.4117647058823529\n",
      "Recall: 0.2413793103448276\n"
     ]
    },
    {
     "data": {
      "text/plain": [
       "0.3043478260869565"
      ]
     },
     "execution_count": 43,
     "metadata": {},
     "output_type": "execute_result"
    }
   ],
   "source": [
    "calculate_f1_score(merged_skills_knowledge, gpt_results)"
   ]
  },
  {
   "cell_type": "code",
   "execution_count": 45,
   "id": "94c456aa",
   "metadata": {},
   "outputs": [
    {
     "name": "stdout",
     "output_type": "stream",
     "text": [
      "Precision: 0.3333333333333333\n",
      "Recall: 0.27586206896551724\n",
      "Precision: 0.5\n",
      "Recall: 0.20689655172413793\n",
      "Precision: 0.6944444444444444\n",
      "Recall: 0.423728813559322\n",
      "Precision: 0.17857142857142858\n",
      "Recall: 0.13513513513513514\n",
      "Precision: 0.875\n",
      "Recall: 0.6086956521739131\n",
      "Precision: 0.4666666666666667\n",
      "Recall: 0.17073170731707318\n",
      "Precision: 0.5625\n",
      "Recall: 0.5294117647058824\n",
      "Precision: 0.65\n",
      "Recall: 0.5306122448979592\n",
      "Precision: 0.0625\n",
      "Recall: 0.05263157894736842\n",
      "Precision: 0.3181818181818182\n",
      "Recall: 0.1794871794871795\n",
      "Precision: 0.6222222222222222\n",
      "Recall: 0.56\n",
      "Precision: 0.5185185185185185\n",
      "Recall: 0.3888888888888889\n",
      "Precision: 0.4375\n",
      "Recall: 0.21212121212121213\n",
      "Precision: 0.375\n",
      "Recall: 0.15789473684210525\n",
      "Precision: 0.4482758620689655\n",
      "Recall: 0.2708333333333333\n",
      "Precision: 0.4\n",
      "Recall: 0.16666666666666666\n",
      "Precision: 0.7857142857142857\n",
      "Recall: 0.34375\n",
      "Precision: 0.4\n",
      "Recall: 0.2608695652173913\n",
      "Precision: 0.6666666666666666\n",
      "Recall: 0.27906976744186046\n",
      "Precision: 0.6896551724137931\n",
      "Recall: 0.5714285714285714\n",
      "Precision: 0.5769230769230769\n",
      "Recall: 0.3\n",
      "Precision: 0.3684210526315789\n",
      "Recall: 0.16279069767441862\n",
      "Precision: 0.3\n",
      "Recall: 0.16666666666666666\n",
      "Precision: 0.6428571428571429\n",
      "Recall: 0.4864864864864865\n",
      "Precision: 0.375\n",
      "Recall: 0.3\n",
      "Precision: 0.4666666666666667\n",
      "Recall: 0.25\n",
      "Precision: 0.0\n",
      "Recall: 0.0\n",
      "Precision: 0.8888888888888888\n",
      "Recall: 0.6\n",
      "Precision: 0.3055555555555556\n",
      "Recall: 0.34375\n",
      "Precision: 0.6666666666666666\n",
      "Recall: 0.3125\n",
      "Precision: 0.5806451612903226\n",
      "Recall: 0.4090909090909091\n"
     ]
    },
    {
     "data": {
      "text/plain": [
       "[0.3018867924528302,\n",
       " 0.2926829268292683,\n",
       " 0.5263157894736842,\n",
       " 0.15384615384615385,\n",
       " 0.717948717948718,\n",
       " 0.25,\n",
       " 0.5454545454545455,\n",
       " 0.5842696629213483,\n",
       " 0.05714285714285714,\n",
       " 0.2295081967213115,\n",
       " 0.5894736842105264,\n",
       " 0.4444444444444444,\n",
       " 0.2857142857142857,\n",
       " 0.22222222222222218,\n",
       " 0.33766233766233766,\n",
       " 0.23529411764705882,\n",
       " 0.4782608695652174,\n",
       " 0.31578947368421056,\n",
       " 0.3934426229508197,\n",
       " 0.625,\n",
       " 0.3947368421052631,\n",
       " 0.22580645161290322,\n",
       " 0.21428571428571427,\n",
       " 0.5538461538461539,\n",
       " 0.33333333333333326,\n",
       " 0.32558139534883723,\n",
       " 0,\n",
       " 0.7164179104477612,\n",
       " 0.3235294117647059,\n",
       " 0.425531914893617,\n",
       " 0.4800000000000001]"
      ]
     },
     "execution_count": 45,
     "metadata": {},
     "output_type": "execute_result"
    }
   ],
   "source": [
    "full_text_predictions_f1_scores = []\n",
    "\n",
    "for index, row in test_tech_df.iterrows():\n",
    "    try:\n",
    "        row_merged_skills_knowledge = test_tech_df.at[index, 'skills'] + test_tech_df.at[index, 'knowledge']\n",
    "        res = get_skills_for_posting(row['text'])\n",
    "        test_tech_df.at[index, \"predictions_gpt_full_text\"] = res\n",
    "        f1_score = calculate_f1_score(row_merged_skills_knowledge, res)\n",
    "        full_text_predictions_f1_scores.append(f1_score)\n",
    "    except Exception as e:\n",
    "        print(f\"Failed to parse skills for row {index}: {e}\")\n",
    "\n",
    "full_text_predictions_f1_scores"
   ]
  },
  {
   "cell_type": "code",
   "execution_count": 47,
   "id": "56a8bc1d",
   "metadata": {},
   "outputs": [
    {
     "data": {
      "text/plain": [
       "0.37352996221064944"
      ]
     },
     "execution_count": 47,
     "metadata": {},
     "output_type": "execute_result"
    }
   ],
   "source": [
    "sum(full_text_predictions_f1_scores) / len(full_text_predictions_f1_scores)"
   ]
  },
  {
   "cell_type": "code",
   "execution_count": 62,
   "id": "57b30d77",
   "metadata": {},
   "outputs": [],
   "source": [
    "from nltk.tokenize import sent_tokenize\n",
    "\n",
    "def divide_into_chunks(text, min_sentences=5):\n",
    "    sentences = sent_tokenize(text)\n",
    "\n",
    "    chunks = []\n",
    "    current_chunk = []\n",
    "\n",
    "    for sentence in sentences:\n",
    "        current_chunk.append(sentence)\n",
    "        if len(current_chunk) == min_sentences:\n",
    "            chunks.append(' '.join(current_chunk))\n",
    "            current_chunk = []\n",
    "\n",
    "    if current_chunk:\n",
    "        chunks.append(' '.join(current_chunk))\n",
    "\n",
    "    return chunks\n",
    "\n",
    "chunks = divide_into_chunks(test_posting)"
   ]
  },
  {
   "cell_type": "code",
   "execution_count": 63,
   "id": "50f3030e",
   "metadata": {},
   "outputs": [
    {
     "data": {
      "text/plain": [
       "['Full Stack Software Engineer',\n",
       " 'Java',\n",
       " 'JavaScript',\n",
       " 'javascript',\n",
       " 'reactjs',\n",
       " 'java',\n",
       " 'Full Stack Developer',\n",
       " 'solving business problems through innovation and engineering practices',\n",
       " 'apply your depth of knowledge and expertise to all aspects of the software development lifecycle',\n",
       " 'partner continuously with your many stakeholders on a daily basis',\n",
       " 'embrace a culture of experimentation',\n",
       " 'constantly strive for improvement and learning',\n",
       " 'work in a collaborative trusting thought-provoking environment',\n",
       " 'work in a small and talented software development team',\n",
       " 'BS/BA degree',\n",
       " 'Advanced knowledge of application data and infrastructure architecture disciplines',\n",
       " 'Understanding of architecture and design across all systems',\n",
       " 'Working proficiency in developmental toolsets',\n",
       " 'Knowledge of industry-wide technology strategies and best practices',\n",
       " 'Ability to work in large collaborative teams',\n",
       " 'Proficiency in one or more modern programming languages - Java and Javascript',\n",
       " 'Understanding of software skills such as business analysis development maintenance and software improvement',\n",
       " 'In-depth HTML5 / JavaScript',\n",
       " 'Competent with developing multithreaded scalable concurrent applications',\n",
       " 'Node JS',\n",
       " 'React',\n",
       " 'server side and tooling',\n",
       " 'similar view framework',\n",
       " 'strategic advice',\n",
       " \"products to the world's most prominent corporations governments wealthy individuals and institutional investors\",\n",
       " 'build trusted long-term partnerships',\n",
       " 'achieve their business objectives']"
      ]
     },
     "execution_count": 63,
     "metadata": {},
     "output_type": "execute_result"
    }
   ],
   "source": [
    "def get_skills_for_posting_chunked(job_posting):\n",
    "    chunks = divide_into_chunks(job_posting)\n",
    "    responses = []\n",
    "\n",
    "    for chunk in chunks:\n",
    "        try:\n",
    "            prompt_val = prompt_template.invoke({\"job_posting\": chunk})\n",
    "            output = chain.invoke({\"input\": prompt_val.to_string()})\n",
    "            array_start = output.find('[')\n",
    "            array_end = output.find(']', array_start)\n",
    "\n",
    "            array_string = output[array_start:array_end+1].strip()\n",
    "            responses = responses + ast.literal_eval(array_string)\n",
    "        except:\n",
    "            print(\"ERROR processing chunk\")\n",
    "\n",
    "    return responses\n",
    "\n",
    "responses = get_skills_for_posting_chunked(test_posting)\n",
    "\n",
    "responses"
   ]
  },
  {
   "cell_type": "code",
   "execution_count": 64,
   "id": "f11975b8",
   "metadata": {},
   "outputs": [
    {
     "name": "stdout",
     "output_type": "stream",
     "text": [
      "Precision: 0.21875\n",
      "Recall: 0.23333333333333334\n"
     ]
    },
    {
     "data": {
      "text/plain": [
       "0.22580645161290322"
      ]
     },
     "execution_count": 64,
     "metadata": {},
     "output_type": "execute_result"
    }
   ],
   "source": [
    "calculate_f1_score(merged_skills_knowledge, responses)"
   ]
  },
  {
   "cell_type": "code",
   "execution_count": 68,
   "id": "bb0ce36b",
   "metadata": {},
   "outputs": [
    {
     "name": "stdout",
     "output_type": "stream",
     "text": [
      "Precision: 0.22580645161290322\n",
      "Recall: 0.23333333333333334\n",
      "Precision: 0.058823529411764705\n",
      "Recall: 0.03125\n",
      "Precision: 0.6444444444444445\n",
      "Recall: 0.47540983606557374\n",
      "Precision: 0.18181818181818182\n",
      "Recall: 0.3888888888888889\n",
      "Precision: 0.4827586206896552\n",
      "Recall: 0.6086956521739131\n",
      "Precision: 0.47619047619047616\n",
      "Recall: 0.5714285714285714\n",
      "Precision: 0.3333333333333333\n",
      "Recall: 0.5294117647058824\n",
      "Precision: 0.5961538461538461\n",
      "Recall: 0.6326530612244898\n",
      "Precision: 0.14814814814814814\n",
      "Recall: 0.42105263157894735\n",
      "Precision: 0.23809523809523808\n",
      "Recall: 0.2564102564102564\n",
      "Precision: 0.35353535353535354\n",
      "Recall: 0.6363636363636364\n",
      "Precision: 0.4\n",
      "Recall: 0.5882352941176471\n",
      "Precision: 0.28\n",
      "Recall: 0.18421052631578946\n",
      "Precision: 0.125\n",
      "Recall: 0.15789473684210525\n",
      "Precision: 0.2631578947368421\n",
      "Recall: 0.32608695652173914\n",
      "Precision: 0.5882352941176471\n",
      "Recall: 0.43478260869565216\n",
      "Precision: 0.40476190476190477\n",
      "Recall: 0.53125\n",
      "Precision: 0.2727272727272727\n",
      "Recall: 0.2608695652173913\n",
      "Precision: 0.34375\n",
      "Recall: 0.6111111111111112\n",
      "Precision: 0.7142857142857143\n",
      "Recall: 0.5714285714285714\n",
      "Precision: 0.5625\n",
      "Recall: 0.574468085106383\n",
      "Precision: 0.375\n",
      "Recall: 0.20930232558139536\n",
      "Precision: 0.30434782608695654\n",
      "Recall: 0.18421052631578946\n",
      "Precision: 0.39622641509433965\n",
      "Recall: 0.5384615384615384\n",
      "Precision: 0.25\n",
      "Recall: 0.15\n",
      "Precision: 0.24489795918367346\n",
      "Recall: 0.21428571428571427\n",
      "Precision: 0.05263157894736842\n",
      "Recall: 0.030303030303030304\n",
      "Precision: 0.4772727272727273\n",
      "Recall: 0.5121951219512195\n",
      "Precision: 0.1891891891891892\n",
      "Recall: 0.4\n",
      "Precision: 0.55\n",
      "Recall: 0.6666666666666666\n",
      "Precision: 0.4827586206896552\n",
      "Recall: 0.6086956521739131\n"
     ]
    },
    {
     "data": {
      "text/plain": [
       "[0.22950819672131148,\n",
       " 0.04081632653061224,\n",
       " 0.5471698113207547,\n",
       " 0.24778761061946902,\n",
       " 0.5384615384615384,\n",
       " 0.5194805194805195,\n",
       " 0.409090909090909,\n",
       " 0.6138613861386137,\n",
       " 0.2191780821917808,\n",
       " 0.24691358024691357,\n",
       " 0.45454545454545453,\n",
       " 0.4761904761904762,\n",
       " 0.2222222222222222,\n",
       " 0.13953488372093023,\n",
       " 0.2912621359223301,\n",
       " 0.5,\n",
       " 0.4594594594594595,\n",
       " 0.2666666666666666,\n",
       " 0.44000000000000006,\n",
       " 0.634920634920635,\n",
       " 0.5684210526315789,\n",
       " 0.26865671641791045,\n",
       " 0.22950819672131145,\n",
       " 0.4565217391304348,\n",
       " 0.18749999999999997,\n",
       " 0.22857142857142856,\n",
       " 0.038461538461538464,\n",
       " 0.49411764705882355,\n",
       " 0.25688073394495414,\n",
       " 0.6027397260273972,\n",
       " 0.5384615384615384]"
      ]
     },
     "execution_count": 68,
     "metadata": {},
     "output_type": "execute_result"
    }
   ],
   "source": [
    "chunked_predictions_f1_scores = []\n",
    "\n",
    "for index, row in test_tech_df.iterrows():\n",
    "    try:\n",
    "        row_merged_skills_knowledge = test_tech_df.at[index, 'skills'] + test_tech_df.at[index, 'knowledge']\n",
    "        res = get_skills_for_posting_chunked(row['text'])\n",
    "        test_tech_df.at[index, \"predictions_gpt_chunked\"] = res\n",
    "        f1_score = calculate_f1_score(row_merged_skills_knowledge, res)\n",
    "        chunked_predictions_f1_scores.append(f1_score)\n",
    "    except Exception as e:\n",
    "        print(f\"Failed to parse skills for row {index}: {e}\")\n",
    "\n",
    "chunked_predictions_f1_scores"
   ]
  },
  {
   "cell_type": "code",
   "execution_count": 69,
   "id": "b179bbea",
   "metadata": {},
   "outputs": [
    {
     "data": {
      "text/plain": [
       "0.36667452296379077"
      ]
     },
     "execution_count": 69,
     "metadata": {},
     "output_type": "execute_result"
    }
   ],
   "source": [
    "sum(chunked_predictions_f1_scores) / len(chunked_predictions_f1_scores)"
   ]
  },
  {
   "cell_type": "code",
   "execution_count": 75,
   "id": "af8dbc81",
   "metadata": {},
   "outputs": [],
   "source": [
    "test_tech_df.to_csv('./data/test_df_tech_only_with_gpt_4_predictions.csv', index=False)"
   ]
  },
  {
   "cell_type": "code",
   "execution_count": 45,
   "id": "eae72bea",
   "metadata": {},
   "outputs": [],
   "source": [
    "# Check baseline performance:"
   ]
  },
  {
   "cell_type": "code",
   "execution_count": 75,
   "id": "3f813633",
   "metadata": {},
   "outputs": [],
   "source": [
    "from transformers import pipeline\n",
    "\n",
    "token_skill_classifier = pipeline(model=\"jjzha/jobbert_skill_extraction\", aggregation_strategy=\"first\")\n",
    "token_knowledge_classifier = pipeline(model=\"jjzha/jobbert_knowledge_extraction\", aggregation_strategy=\"first\")"
   ]
  },
  {
   "cell_type": "code",
   "execution_count": 79,
   "id": "1f427b5e",
   "metadata": {},
   "outputs": [],
   "source": [
    "def aggregate_span(results):\n",
    "    new_results = []\n",
    "    current_result = results[0]\n",
    "\n",
    "    for result in results[1:]:\n",
    "        if result[\"start\"] == current_result[\"end\"] + 1:\n",
    "            current_result[\"word\"] += \" \" + result[\"word\"]\n",
    "            current_result[\"end\"] = result[\"end\"]\n",
    "        else:\n",
    "            new_results.append(current_result)\n",
    "            current_result = result\n",
    "\n",
    "    new_results.append(current_result)\n",
    "\n",
    "    return new_results"
   ]
  },
  {
   "cell_type": "code",
   "execution_count": 85,
   "id": "f70ddeed",
   "metadata": {},
   "outputs": [],
   "source": [
    "import spacy\n",
    "\n",
    "nlp = spacy.load(\"en_core_web_sm\")\n",
    "\n",
    "def ner(text):\n",
    "    output_skills = []\n",
    "    output_knowledge = []\n",
    "\n",
    "    doc = nlp(text)\n",
    "    sentences = [sent.text.strip() for sent in doc.sents]\n",
    "\n",
    "    for sentence in sentences:\n",
    "        skills, knowledge = process_sentence(sentence)\n",
    "        output_skills.extend(skills)\n",
    "        output_knowledge.extend(knowledge)\n",
    "\n",
    "\n",
    "    return {\"text\": text, \"entities\": output_skills}, {\"text\": text, \"entities\": output_knowledge}\n",
    "\n",
    "def process_sentence(sentence):\n",
    "    skills = token_skill_classifier(sentence)\n",
    "    for result in skills:\n",
    "        if result.get(\"entity_group\"):\n",
    "            result[\"entity\"] = \"Skill\"\n",
    "            del result[\"entity_group\"]\n",
    "\n",
    "    knowledge = token_knowledge_classifier(sentence)\n",
    "    for result in knowledge:\n",
    "        if result.get(\"entity_group\"):\n",
    "            result[\"entity\"] = \"Knowledge\"\n",
    "            del result[\"entity_group\"]\n",
    "\n",
    "    if len(skills) > 0:\n",
    "        skills = aggregate_span(skills)\n",
    "    if len(knowledge) > 0:\n",
    "        knowledge = aggregate_span(knowledge)\n",
    "\n",
    "\n",
    "    return skills, knowledge"
   ]
  },
  {
   "cell_type": "code",
   "execution_count": 87,
   "id": "1ce7dd2e",
   "metadata": {},
   "outputs": [
    {
     "name": "stdout",
     "output_type": "stream",
     "text": [
      "['solving business problems', 'apply your depth of knowledge and expertise', 'partner continuously with your many stakeholders', 'stay focused on common goals', 'motivated', 'deliver of a next-generation analytics products', 'developmental toolsets', 'work in large collaborative teams', 'achieve organizational goals', 'building an innovative culture', 'developing multithreaded scalable concurrent applications', 'javascript', 'reactjs', 'java', 'javascript', 'reactjs', 'java', 'innovation and engineering practices', 'software development lifecycle', 'BS/BA degree', 'application data and infrastructure architecture disciplines', 'architecture', 'design', 'industry-wide technology strategies and best practices', 'Java', 'Javascript', 'business analysis', 'development', 'maintenance', 'software improvement', 'HTML5', 'JavaScript', 'Node JS ( server side and tooling ) *', 'React']\n",
      "['solving business problems through innovation and engineering practices', 'apply your depth of knowledge and expertise', 'partner continuously with your many stakeholders', 'motivated', 'shape the key components of the product', 'create commercial opportunities', 'build a modern and comprehensive API', 'clients', 'define and compute analytics', 'work in large collaborative teams', 'building an innovative culture', 'developing multithreaded scalable concurrent applications.', 'reactjs java', 'java', 'software development lifecycle', 'Product Development', 'Quantitative Research', 'BS / BA degree', 'application data', 'infrastructure architecture', 'architecture', 'design', 'systems', 'developmental toolsets *', 'industry - wide technology strategies and best practices *', 'modern programming languages', 'Java', 'Javascript', 'business analysis development maintenance', 'software improvement', 'HTML5 / JavaScript', 'Node JS', 'server side', 'tooling )', 'React']\n",
      "Precision: 0.37142857142857144\n",
      "Recall: 0.43333333333333335\n",
      "['solving business problems', 'apply your depth of knowledge and expertise', 'partner continuously with your many stakeholders', 'stay focused on common goals', 'work in large collaborative teams', 'achieve organizational goals', 'building an innovative culture', 'development', 'maintenance', 'software improvement', 'java', 'spring', 'java-ee', 'java', 'spring', 'java-ee', 'innovation and engineering practices', 'software development lifecycle', 'BS/BA degree', 'Java', 'Spring Boot', 'NoSQL', 'Message', 'Cloud', 'CI/CD', 'application data and infrastructure architecture disciplines', 'architecture', 'design', 'developmental toolsets', 'industry-wide technology trends and best practices', 'modern programming languages', 'business analysis']\n",
      "['solving business problems through innovation and engineering practices', 'apply your depth of knowledge and expertise', 'partner continuously with your many stakeholders', 'work in large collaborative teams', 'building an innovative culture *', 'spring java - ee', 'spring java - ee', 'software development lifecycle', 'BS / BA degree', 'Java Spring Boot NoSQL Message Cloud CI / CD', 'application data', 'infrastructure architecture', 'architecture', 'design', 'developmental toolsets', 'industry - wide technology trends and best practices', 'modern programming languages', 'business analysis development maintenance', 'software improvement']\n",
      "Precision: 0.47368421052631576\n",
      "Recall: 0.28125\n",
      "['Open for continuous change', 'Enhance and maintain CI infrastructure pipelines and Azure PaaS environments', 'Ensure on-going health and stability of pipelines across multiple environments', 'Administrate and manage Azure resources', 'Support developers', 'troubleshooting deployed applications', 'identify app issues vs configuration/environment issues )', 'Enhance quality through pipelines', 'usage of static analysis tools', 'creating and maintaining build and deployment pipelines for web applications and services', 'troubleshoot Azure AppService hosted websites and services', 'identify app issues vs configuration/environment issues)', 'Financial Technology', 'SaaS', 'wealthtech', 'azure', '. net', 'asp.net-web-api', 'powershell', 'json.net', 'Financial Technology', 'SaaS', 'wealthtech', 'azure', '. net', 'asp.net-web-api', 'powershell', 'json.net', 'automation', 'Azure PaaS', 'microservices', '. NET', 'PowerShell', 'MS SQL', 'CI', 'Azure PaaS', 'Azure', 'subscriptions', 'resource groups', 'DevOps', 'GitHub', 'SonarQube', '. NET Analyzers', 'Infer#', 'Azure AppService', 'IIS )', 'SQL DBs', 'Azure AppService', '. NET', 'automation', 'PowerShell', 'Azure CLI', 'json', 'yaml', 'based templates', 'AppServices', 'Redis', 'ServiceBus', 'Api Management', 'CosmosDB', 'KeyVault', 'Azure SQL', 'SQL scripts', 'Azure DevOps ( cloud and server )', 'Docker Containers', 'K8s', 'English']\n",
      "['Open for continuous change', 'Enhance and maintain CI infrastructure pipelines', 'Ensure on - going health and stability of pipelines', 'Administrate and manage Azure resources', 'Support developers troubleshooting deployed applications', 'identify app issues vs configuration / environment issues', 'Enhance quality', 'pipelines', 'creating and maintaining build and deployment pipelines for web applications and', 'troubleshoot Azure AppService hosted websites and services', 'identify app issues vs configuration / environment issues', 'Azure )', 'Financial Technology SaaS wealthtech', 'asp.', 'net', '- web - api powershell json.', 'net', 'Financial Technology SaaS wealthtech', '.', 'asp.', 'net', '- web - api powershell json.', 'net', 'NET / Azure )', 'automation', 'Azure PaaS microservices', 'PowerShell', 'MS SQL', 'CI infrastructure pipelines', 'Azure PaaS environments', 'Azure', 'subscriptions resource', 'DevOps', 'GitHub', 'static analysis tools', 'SonarQube', 'NET Analyzers Infer #', 'build and deployment pipelines', 'web applications and services', 'Azure AppService IIS )', 'SQL DBs', 'Azure AppService', 'automation', 'PowerShell Azure CLI json -', 'yaml - based templates', 'Azure', 'cloud', 'AppServices Redis ServiceBus Api Management CosmosDB', 'Azure SQL', 'SQL scripts', 'Azure DevOps', 'cloud', 'server )', 'Docker Containers / K8s', 'English']\n",
      "Precision: 0.3090909090909091\n",
      "Recall: 0.27419354838709675\n",
      "['solving business problems', 'apply your depth of knowledge and expertise', 'partner continuously with your many stakeholders', 'stay focused on common goals', 'work in a co-located team', 'achieve organizational goals', 'building an innovative culture', 'software skills', 'deliver high quality products', 'Financial Services', 'java', 'reactjs', 'web-services', 'Financial Services', 'java', 'reactjs', 'web-services', 'innovation & engineering practices', 'software development lifecycle', 'BS/BA degree', 'application data and infrastructure architecture', 'architecture', 'design', 'software systems', 'developmental toolsets', 'industry wide technology strategies and best practices', 'business analysis', 'development', 'maintenance', 'software improvement', 'Python', 'Go', 'React', 'Cloud Technologies', 'AWS', 'containers', 'Kubernetes', 'DevOps for platforms', 'Automated testing', 'Resource management']\n",
      "['solving business problems through innovation & engineering practices', 'apply your depth of knowledge and expertise', 'partner continuously with your many stakeholders', 'leveraging best in class SDLC processes and components / architecture', 'work in a co - located team', 'building an innovative culture •', 'deliver high quality products', 'performing DevOps for platforms', 'inform and agree the output from E & A', 'ensure appropriateness', 'facilitate localized help', 'driving adherence and identification of agreed exceptions', 'develop solutions', 'Financial Services', 'reactjs web - services', 'Financial Services', 'reactjs web - services', 'software development lifecycle', 'SDLC', 'BS / BA degree', 'application data', 'infrastructure architecture', 'architecture', 'design', 'systems', 'software', 'developmental toolsets', 'industry wide technology strategies and best practices •', 'business analysis development maintenance', 'software improvement', 'modern programming languages', 'Java / J2EE Python Go React', 'Cloud Technologies', 'AWS containers', 'Kubernetes', 'DevOps', 'Automated testing', 'Resource management', 'Banking Technology Engineering', 'Architecture']\n",
      "Precision: 0.375\n",
      "Recall: 0.36585365853658536\n"
     ]
    },
    {
     "name": "stdout",
     "output_type": "stream",
     "text": [
      "['build highly efficient accurate and scalable computer vision and machine learning services', 'solve technical challenges independently', 'good communicator', 'enjoy working in a team', 'Artificial Intelligence', 'Computer Graphics', 'Software Development', 'python', 'Artificial Intelligence', 'Computer Graphics', 'Software Development', 'python', 'Computer Science', 'Python', 'English', 'PostgreSQL', 'Django', 'PostGIS', 'OpenCV', 'NumPy', 'Shapely', 'Pyhon Multithreading and Multiprocessing', 'AWS/Azure', 'Computer Vision', 'Machine Learning']\n",
      "['talented', 'work in a tightly - welded and talented team', 'solve technical challenges independently', 'communicator', 'working in a team', 'Computer Graphics Software Development', 'Artificial Intelligence Computer Graphics Software Development', 'machine', 'research and development', 'degree Computer Science', 'Python', 'English', 'PostgreSQL / Django / PostGIS / OpenCV / NumPy / Shapely / Pyhon Multithreading', 'Multiprocessing AWS /', 'Computer Vision / Machine Learning']\n",
      "Precision: 0.2\n",
      "Recall: 0.13043478260869565\n",
      "['gather technical requirements', 'architect solutions', 'estimate timelines', 'deliver and further develop applications', 'communicate', 'investigate', 'reward', 'promote', 'teamwork', 'code reviews', 'pair programming', 'QA', 'PM support', 'staying in touch', 'deploy apps', 'working with 3rd party API’s', 'performed code reviews', 'leading a team', 'Contributions to open source projects', 'e-commerce', 'open-source', 'ruby-on-rails', 'sql', 'heroku', 'e-commerce', 'open-source', 'ruby-on-rails', 'sql', 'heroku', 'TDD', 'agile delivery', 'automated testing', 'Ruby on Rails', 'TDD', 'Heroku', 'AWS', 'SQL', 'English', 'agile/scrum', 'Docker', 'Spree Commerce', 'E-commerce', 'ElasticSearch', 'Kubernetes']\n",
      "['architect design deliver and maintain world - class solutions', 'gather technical requirements architect solutions estimate timelines deliver and further develop applications communicate', 'investigate finally', 'establish defend or enforce claims', 'rectify your data', 'its erasure restriction of processing object to processing and data portability', 'lodge a complaint', 'Providing personal data', 'working with 3rd party API ’ s performed code reviews', 'leading a team', 'passionate', 'determined', 'open - source ruby - on - rails sql heroku', 'open - source ruby - on - rails sql heroku', 'delivery', 'testing', 'reviews', 'Ruby on Rails', 'TDD', 'apps', 'Heroku', 'AWS', 'SQL', 'English', 'agile / scrum', 'code reviews', 'Docker', 'Spree Commerce', 'E - Commerce framework', 'open source projects', 'ElasticSearch', 'Kubernetes']\n",
      "Precision: 0.375\n",
      "Recall: 0.3076923076923077\n",
      "['Deliver initiatives', 'modernizing and transforming the platform', 'Work on a mix of front-end back-end and cloud technologies', 'running with a full stack development', 'Financial Services', 'reactjs', 'cloud', 'python', 'Financial Services', 'reactjs', 'cloud', 'python', 'Java', 'Python', 'React JS', 'Redux', 'public and private cloud offerings', 'Data warehousing/ETL', 'fixed income instruments', 'reference data']\n",
      "['Deliver initiatives', 'modernizing and transforming the platform', 'Financial Services', 'cloud python', 'Financial Services', 'cloud python', 'Data', ')', 'front - end back -', 'end', 'cloud technologies', 'Java Python React JS Redux 2', 'public and private cloud offerings 3', 'Data warehousing ETL', 'fixed income instruments', 'reference data']\n",
      "Precision: 0.375\n",
      "Recall: 0.3\n",
      "['build software', 'help our customers', 'build and expand our predictive analytics platform', 'work with a tightly knit team', 'Identify problems', 'run experiments', 'deploy promising solutions to production', 'Develop interfaces to ERP and POS software providers', 'work on ETL pipelines', 'integrate our customers data bases', 'Work closely together with our machine learning - and frontend developers', 'effective communication', 'documentation', 'writing software with emphasis on quality testability and automation', 'honest', 'trustworthy', 'communicates openly', 'django', 'postgresql', 'redis', 'django', 'postgresql', 'redis', 'enterprise resource planning ( ERP )', 'point-of-sales ( POS )', 'ETL', 'backend development', 'Python', 'Linux administration', 'Docker', 'Ansible', 'Git', 'Pandas', 'Celery', 'Django Channels', 'Django REST Framework', 'Redis', 'Nginx', 'GitLab CI', 'PostgreSQL', 'English on level C1', 'Cybersecurity', 'Data & Analytics', 'Digital Marketing', 'powerbi', 'dax', 'cloud', 'data-modeling', 'azure-analysis-services', 'Cybersecurity', 'Data & Analytics', 'Digital Marketing', 'powerbi', 'dax', 'cloud', 'data-modeling', 'azure-analysis-services']\n",
      "['build software', 'build and expand our predictive analytics platform', 'Create : Identify problems run experiments', 'deploy promising solutions to production', 'Integrate', 'Develop interfaces', 'work on ETL pipelines', 'integrate our customers data bases', 'writing software', 'honest trustworthy', 'communicates openly', 'postgresql redis', 'postgresql redis', 'frontend development machine learning', 'data engineering', 'enterprise resource planning', 'ERP )', 'point -', '-', 'POS )', 'POS', 'ETL pipelines', 'quality testability', 'automation', 'backend development', 'Python', 'Linux administration Docker Ansible Git', 'Pandas Celery Django Channels Django REST Framework Redis Nginx GitLab CI PostgreSQL', 'English', 'Data & Analytics Digital Marketing', 'dax cloud data -', 'azure - analysis - services', 'Data & Analytics Digital Marketing', 'dax cloud data - modeling azure - analysis - services']\n",
      "Precision: 0.23529411764705882\n",
      "Recall: 0.14035087719298245\n",
      "['building front-end layer', 'Design and build front-end / BI layer', 'Troubleshoot issues', 'recommend optimizations', 'tune solution / reports for better performance', 'Power BI reports', 'DAX queries', 'Azure Analysis Services models', 'scrum meetings', 'sprint planning', 'code reviews', 'Power BI', 'DAX', 'Data Modeling', 'Cloud', 'DevOps', 'Agile', \"Bachelor's degree\", 'Azure Analysis Services']\n",
      "['building front - end layer of our data', 'analytics solutions', 'Design and build front - end / BI layer of our data and analytics', 'Troubleshoot issues recommend optimizations tune solution / reports', 'Participate in scrum meetings sprint planning', 'results', 'mentoring', 'work with hardworking people', 'coaching', 'mentoring', 'front - end / BI', 'data', 'analytics', 'Power BI reports DAX queries Azure Analysis Services models', 'scrum', 'sprint planning code reviews', 'Power BI', 'DAX', 'Data Modeling', 'CICD / DevOps / Agile concept', \"Bachelor ' s degree\", 'Azure Analysis Services', 'ITIL DevOps MS portfolio', '< ORGANIZATION >', 'Product Supply']\n",
      "Precision: 0.16\n",
      "Recall: 0.21052631578947367\n",
      "['making the right decisions', 'definition & communication of “fit for purpose”', 'describing a solution architecture', 'aligning the teams around the technical orientation', 'connects with the teams', 'evaluate the different technical alternatives', 'continuous exploration and innovation', 'work in Delivery to business ( D2B ) or Service to deliver ( S2D ) context', 'creating business enabler ART epics', 'Design', 'Modelling', 'Documentation;', 'analyzing strategic objectives', 'defining specific goals', 'analytical and problem-solving skills', 'Networking', 'Communication', 'Persuasion:', 'Ability to persuade others', 'build and maintain positive and trustworthy relationships', 'share knowledge', 'engage in discussions and group decision-making', 'Presentation skills;', 'Assertive', 'pro-active;', 'Personal efficiency;', 'Agile Software Development', 'Financial Technology', 'agile', 'architecture', 'Agile Software Development', 'Financial Technology', 'agile', 'architecture', 'Delivery to business ( D2B )', 'Service to deliver ( S2D )', 'software/system design and architecture', 'Solution architecture', 'programming languages', 'IT or Engineering Bachelor / Master degree', 'Scaled Agile ( SAFe )']\n",
      "['making the right decisions', 'balancing between complexity and simplicity?', 'building solutions or services right', 'Building new solutions', 'definition & communication of “ fit for purpose ” technical and architectural vision for the ART', 'on functional and non - functional requirements', 'describing a solution architecture with the most important components and their interfaces', 'aligning the teams around the technical orientation and connects with the teams', 'evaluate the different technical alternatives', 'work out the solution', 'ART events', 'Adapt', 'actively in continuous exploration and innovation', 'creating business enabler ART epics', 'analyzing strategic objectives', 'defining specific goals', 'Problem analysis', 'analytical and problem - solving skills', 'persuade others build and maintain positive and trustworthy relationships', 'share knowledge engage in discussions and group decision - making', 'Presentation skills', 'Assertive', 'pro - active', '; Personal efficiency ;', 'Agile Software Development Financial Technology', 'architecture', 'Agile Software Development Financial Technology', 'architecture', 'system design', 'architecture', 'Agile Release Train ( ART )', 'ART', 'solution architecture', 'ART', 'Delivery to business', 'D2B )', 'Service to deliver', 'S2D )', 'D2B', 'software', '/ system design', 'architecture', 'Architectural', 'Design Modelling Documentation ; Solution architecture', 'major programming languages', 'IT', 'Engineering Bachelor / Master degree', 'Scaled Agile', 'SAFe )', 'Persuasion']\n",
      "Precision: 0.22\n",
      "Recall: 0.2558139534883721\n"
     ]
    },
    {
     "name": "stdout",
     "output_type": "stream",
     "text": [
      "['maintain quality', 'work with AWS infrastructure', 'producing cloud native software', 'logging', 'experimentation', 'problem solver', 'curious about new technology', 'build cloud', 'takes ownership', 'learn as much as possible', 'good listener', 'able to explain concepts', 'committed to improving yourself', 'demonstrate interest in technologies that are beyond the scope of your daily workflow', 'lazy', \"don't like boring repetitive tasks\", 'outsource your labour to the compiler', 'applying yourself to learning', 'pragmatist', 'Financial Technology', 'c#', 'f#', 'typescript', 'Financial Technology', 'c#', 'f#', 'typescript', 'modern workflows and tooling', 'continuous integration', 'automated testing', 'domain modelling', 'ubiquitous language', 'serverless containerisation', 'dev/prod environment parity', 'C#', 'F#', 'TypeScript', 'serverless framework', 'functional programming', 'Cypress', 'Jest', 'Nunit', 'SpecFlow', 'Expecto', 'FsCheck', 'Canopy', 'functions as a service', 'hosting', 'messaging', 'relational and non-relational databases', 'Loggly', 'C#', 'F#', 'Typescript', 'functional programming', '12-Factor App approach']\n",
      "['maintain quality', 'working alongside frontend developers', 'producing cloud native software', 'problem solver', 'curious about new technology', 'build cloud - native systems', 'takes ownership', 'learn as much as possible', 'listener', 'explain concepts to others', 'improving yourself', 'interest in technologies', 'boring repetitive tasks', 'outsource your labour to', 'pragmatist', 'challenge us', 'Financial Technology', 'f', 'typescript', 'Financial Technology', 'f # typescript', 'modern workflows', 'React', 'JavaScript', 'AWS infrastructure', 'integration', 'C # F #', 'TypeScript', 'serverless framework', 'functional programming', 'AWS', 'relational and non - relational databases', 'TDD BDD integration testing continuous integration', 'C # F #', 'Typescript', 'functional programming', '12 - Factor App', 'HM', 'TDD BDD integration testing continuous integration']\n",
      "Precision: 0.38461538461538464\n",
      "Recall: 0.2727272727272727\n",
      "['introduce and implement the newest standards and testing solutions/automation', 'product creation', 'build and provide access to test environments and new features', 'responsible for a successful product launch', 'bring expert knowledge', 'define testing standards and strategies', 'create detailed comprehensive and well-structured test plans and test cases', 'design develop and execute automatic tests', 'conduct exploratory/manual tests', 'identify record document thoroughly and track bugs', 'work closely with the product team', 'make new features testable', 'improve tickets', 'update product information', 'facilitate test environments access', 'DevOps', 'build test environments', 'work in an agile & energetic startup environment', 'qa', 'testing', 'cypress', 'mocha.js', 'chai', 'qa', 'testing', 'cypress', 'mocha.js', 'chai', 'quality assurance', 'software QA methodologies tools and processes', 'automated testing tools', 'Cypress', 'pytest', 'truffle', 'Solidity', 'CircleCI', 'Docker)', 'English']\n",
      "['introduce and implement the newest standards and testing solutions / automation', 'build and provide access to test environments and new features', 'serving as a go - to source of information', 'bring expert knowledge', 'define testing standards and strategies', 'create detailed comprehensive and well - structured test plans and test cases', 'design develop and execute automatic tests', 'conduct exploratory / manual tests', 'identify record document thoroughly and track bugs', 'work closely with the product team', 'make new features testable improve tickets', 'update product information', 'facilitate test environments access', 'Coding scripting', 'DevOps skills', 'build test environments', 'work in an agile & energetic startup environment', 'developing solutions cross', 'Develop', 'career', 'cypress mocha. js chai', 'cypress mocha. js chai', 'product creation', 'test environments', 'testing', 'test plans', 'test cases', 'quality assurance', 'software QA methodologies tools and processes', 'automated testing tools', 'DevOps', 'test environments', 'CircleCI', 'English']\n",
      "Precision: 0.5294117647058824\n",
      "Recall: 0.4864864864864865\n",
      "['Ensuring high quality for customer-specific software projects', 'Analysis and risk assessment', 'Creation maintenance execution and documentation of ( automated ) tests', 'Collaboration in project teams', 'communication with technical customer departments', 'Active support of our development and operations teams', 'Creation analysis and processing of error reports', 'familiarize yourself with new technologies', 'contribute innovations', 'handling and understanding of web-based applications APIs', 'good eye for details user expectations and potential sources of error', 'Structured and result-oriented way of working', 'willingness to learn', 'joy of communication', 'independent cooperation', 'Team skills', 'social competence', 'Collaboration Tools', 'Computer Software', 'Open-Source', 'testing', 'qa', 'automation', 'software-quality', 'automated-tests', 'Collaboration Tools', 'Computer Software', 'Open-Source', 'testing', 'qa', 'automation', 'software-quality', 'automated-tests', 'computer science', 'agile approaches to software', 'tools procedures and programming languages for test automation', 'German', 'English']\n",
      "['become part of new and large - scale projects', 'Ensuring high quality for customer - specific software projects Analysis and risk assessment of customer requirements Creation maintenance execution and documentation of ( automated ) tests Collaboration in project teams and communication', 'Creation analysis', 'processing of error reports', 'familiarize yourself with new technologies', 'contribute innovations', 'eye for details', 'Structured', 'result - oriented', 'learn joy', 'communication', 'independent cooperation Team', 'develop your own ideas and projects', 'Collaboration Tools Computer Software Open', 'qa automation software - quality automated', '-', 'tests', 'Collaboration Tools Computer Software Open', 'automation software - quality automated -', 'tests', 'maintenance execution', 'automated', 'tests', 'computer science', 'agile', 'software testing', 'development', 'tools procedures', 'programming languages', 'test automation', 'web - based applications APIs', 'German', 'English', 'English']\n",
      "Precision: 0.17647058823529413\n",
      "Recall: 0.15384615384615385\n",
      "['solving business problems', 'innovation and engineering practices', 'apply your depth of knowledge and expertise', 'partner continuously with your many stakeholders', 'stay focused on common goals', 'work in large collaborative teams', 'achieve organizational goals', 'building an innovative culture', 'Financial Services', 'Financial Services', 'BS/BA degree', 'application', 'data', 'infrastructure architecture disciplines', 'architecture and design', 'programming languages', 'industry-wide technology trends and best practices', 'financial control', 'budget management']\n",
      "['solving business problems through innovation and engineering practices', 'apply your depth of knowledge and expertise', 'partner continuously with your many stakeholders', 'work in large collaborative teams', 'building an innovative culture', 'Financial Services', 'Financial Services', 'software development lifecycle', 'BS / BA degree', 'application data', 'infrastructure architecture', 'architecture', 'design', 'all systems', 'modern programming languages', 'industry - wide technology trends and best practices', 'financial control', 'budget management']\n",
      "Precision: 0.4444444444444444\n",
      "Recall: 0.42105263157894735\n",
      "['solving business problems', 'innovation & engineering practices', 'apply your depth of knowledge and expertise', 'partner continuously with your many stakeholders', 'focused on common goals', 'energetic', 'intelligent', 'self-starter', 'application process management', 'monitoring platforms', 'Streamlining integration', 'Communicate advanced technical design and solutions', 'Work collaboratively in teams', 'develop meaningful relationships', 'achieve common goals', 'analyse requirements', 'interact directly with business users', 'Testing', 'CI', 'Behaviour Driven Development Skills', 'work in large collaborative teams', 'achieve organizational goals', 'building an innovative culture', 'calculating benchmark blends', 'r', 'java', 'nosql', 'r', 'java', 'nosql', 'JAVA', 'REST/Web services', 'R', 'Pentaho', 'Oracle', 'noSQL', 'Agile', 'issue tracking', 'deployment', 'change management', 'application data and infrastructure architecture & design disciplines', 'cloud micro-service and container deployment patterns', 'Java', 'R', 'Databases', 'ETL tools', 'R', 'Python', 'machine learning', 'Data Tables', 'Qpid/MQ/Kafka/RabbitMQ', 'Big', 'financial performance calculations']\n",
      "['solving business problems through innovation & engineering practices', 'apply your depth of knowledge and expertise', 'partner continuously with your many stakeholders', 'implementation and support of a new global strategic performance platform', 'Streamlining', 'designing to production bug fixing', 'refactoring', 'Communicate advanced technical design and solutions to a technical and non - technical audience •', 'Work collaboratively in teams', 'develop meaningful relationships', 'analyse requirements', 'interact directly with business users', 'work in large collaborative teams', 'building an innovative culture', 'calculating benchmark blends', 'create technology solutions', 'java nosql', 'nosql', 'software development lifecycle', 'JAVA', 'REST / Web services R Pentaho Oracle', 'noSQL', 'Agile', 'application deployment solution', 'application process management', 'monitoring platforms', 'issue tracking version control deployment', 'change management', 'lifecycle', 'application data and infrastructure architecture & design', 'cloud micro -', 'service', 'container deployment patterns', 'CI', 'Behaviour Driven Development', 'modern programming languages Java R', 'Databases', 'ETL', 'R', 'Python', 'machine learning', 'Data Tables', 'messaging brokers', 'Qpid / MQ / Kafka / RabbitMQ', 'Big Data /', 'NoSql', 'financial performance calculations']\n",
      "Precision: 0.5106382978723404\n",
      "Recall: 0.5217391304347826\n"
     ]
    },
    {
     "name": "stdout",
     "output_type": "stream",
     "text": [
      "['flair for gameplay', 'aesthetic know-how?', 'work closely with other programmers designers and artists', 'implementing and maintaining various platforms and systems', 'implement new game features', 'making the designs look final and pretty', 'self-driven', 'open-minded', 'not afraid to be critical', 'collaborate with your colleagues', 'find solutions', 'Implementing new gameplay features and user interfaces', 'Contributing to and maintaining existing game features', 'Participating in the development of new features and optimizing existing ones', 'Participating in the development of performant and rigid systems', 'Running tests on new code', 'making user experiences at an interactive degree', '3D game programming', 'aesthetic know-how', 'system and architectural thinking', 'developing mobile games with a large amount of content delivery', 'sense of F2P game design', 'Entertainment', 'Gaming', 'Mobile Game', 'unity3d', 'c#', 'user-experience', 'Entertainment', 'Gaming', 'Mobile Game', 'unity3d', 'c#', 'user-experience', 'Unity', 'mobile game development', 'Unity3D', 'C#', 'Unity', 'mobile games', 'Unity3D ( iOS and/or Android )', 'C#', 'UX', 'math', 'dynamic skills', 'TDD ( test driven development )', 'Objective C', 'Java']\n",
      "['passionate', 'work closely with other programmers designers and artists', 'develop new features', 'implementing and maintaining various platforms and systems', 'implement new game features', 'self - driven', 'open - minded', 'not afraid', 'critical', 'constructive', 'collaborate with your colleagues', 'solutions', 'Implementing new gameplay features and user interfaces based on game designs Contributing to and maintaining existing game features Participating', 'the development of new features', 'optimizing', 'Participating', 'development of performant and rigid systems Running tests on new code', 'making user experiences at an interactive degree', 'developing mobile games', 'shape influence and innovate', 'c #', 'c # user - experience', 'gameplay', 'Unity', 'mobile game development', 'Unity3D', 'C #', 'Unity', 'end - of - content', 'mobile games', 'Unity3D', 'iOS', 'Android', 'C #', 'UX', '3D game programming', 'math', 'dynamic skills', 'mobile', 'content delivery', 'F2P game design', 'TDD', 'test driven development', 'analytics', 'Objective C']\n",
      "Precision: 0.35555555555555557\n",
      "Recall: 0.3404255319148936\n",
      "['solve technical challenges', 'deliver high quality code', 'build and ship new features', 'write high quality testable and efficient code', 'promote new ideas', 'take active part in features discussions and roadmap prioritisation', 'integrate cutting edge research and technologies', 'work closely with our customers and other teams', 'developing production level software', 'designing multi-threaded systems and algorithms', 'troubleshooting', 'care about code quality', 'communication skills', 'sense of humor!', 'Computer Software', 'Databases', 'Information Technology', 'java', 'algorithm', 'database', 'multithreading', 'concurrency', 'Computer Software', 'Databases', 'Information Technology', 'java', 'algorithm', 'database', 'multithreading', 'concurrency', 'system design', 'data structures', 'algorithms', 'Java', 'performance profiling', 'optimisation', 'development methodologies']\n",
      "['solve technical challenges deliver high quality code', 'build and ship new features', 'write high quality testable and efficient code promote new ideas take active part in features discussions and roadmap prioritisation integrate cutting edge research and technologies into the database core work closely with our customers and other teams hack on preferred stuff', 'developing production level software', 'designing multi - threaded systems and algorithms', 'troubleshooting skills', 'learning new things', 'different development methodologies', 'about code quality', 'communication skills', 'sense of humor', 'working as part of a distributed team', 'smart creative', 'humble', 'drive', 'Computer Software Databases Information Technology', 'algorithm database multithreading concurrency', 'Computer Software Databases Information Technology', 'algorithm database multithreading concurrency', 'multi - threaded', 'system design data structures', 'algorithms', 'Java', 'programming languages', 'performance profiling', 'optimisation', 'development methodologies', 'code quality']\n",
      "Precision: 0.2857142857142857\n",
      "Recall: 0.22857142857142856\n",
      "['Development test and deployment of new components', 'Transition', 're-engineering', 'Design', 'extension', \"development and implementation of REST API's\", 'eCommerce', 'Price Comparison', 'Online Portal', '. net', 'agile', 'rest', 'microservices', 'eCommerce', 'Price Comparison', 'Online Portal', '. net', 'agile', 'rest', 'microservices', 'continuous integration', 'continuous deployment', '. NET', 'Micro Services', 'web and/or e-commerce', 'Agile Method Practice', 'English', 'German']\n",
      "['Development test and deployment of new components Transition and re - engineering of our existing web platform Design and extension of our Micro - Services based web architecture', 'high - functional and high - performance features', \"implementation of REST API ' s\", 'Price Comparison Online Portal', 'agile rest microservices', 'eCommerce Price Comparison Online Portal', 'agile rest microservices', 'Micro - Services', 'web architecture', 'UX QA', 'continuous integration', 'continuous deployment', 'Micro Services', 'REST API', 'web and /', 'e -', 'commerce projects Agile Method Practice', 'English', 'German', 'coding']\n",
      "Precision: 0.25\n",
      "Recall: 0.17857142857142858\n",
      "['enthusiasm', 'professional attitude', 'work together closely with product owners and colleagues', 'develop an in-depth understanding of the domains and the requirements', 'happy to share your valuable insights', 'offer them professional advice', 'share your knowledge', 'advise individual colleagues', 'agile project team', 'testing at various levels in an agile environment', 'test automation', 'Clear easy-to-maintain code', 'build implement and operate a system', 'Data Science', 'IT Security', 'Software Development / Engineering', 'java', 'rest', 'cloud', 'spring', 'design-patterns', 'Data Science', 'IT Security', 'Software Development / Engineering', 'java', 'rest', 'cloud', 'spring', 'design-patterns', 'software development', 'Java stack frameworks', 'quality', 'latest technologies', 'back end development', 'databases', 'cloud computing', 'RESTful API', 'big data', 'DevOps', 'architecture concepts', 'design patterns', 'German', 'English']\n",
      "['infectious enthusiasm', 'professional attitude', 'role model', 'quality', 'work together closely with product owners and colleagues', 'in - depth understanding of the domains and the requirements of individual projects', 'share your valuable insights with customers', 'share your knowledge', 'identify your own development potential', 'advise individual colleagues', 'devoting yourself', 'working in an agile project team', 'high level of awareness', 'testing', 'various', 'build implement and operate a system', 'Data Science IT Security Software Development / Engineering', 'rest cloud spring design - patterns', 'Data Science IT Security Software Development / Engineering', 'rest cloud spring design - patterns', 'business analysis embedded development UX', 'software development', 'agile', 'Software development', 'Java stack', 'testing', 'agile', 'test automation', 'back end development databases cloud computing RESTful API', 'big data', 'DevOps', 'architecture concepts and design patterns', 'German', 'English']\n",
      "Precision: 0.38235294117647056\n",
      "Recall: 0.29545454545454547\n",
      "['develop attractive state-of-the-art user interfaces', 'API design', 'Implementation of functionality', 'Code reviews', 'Technical advice for our customers', 'Guidance and support for your teammates', 'realize exciting projects', 'quality and responsibility', 'eye for aesthetics design', 'faithful implementation', 'Digital Agency', 'Software Development / Engineering', 'User Experience', 'javascript', 'angular', 'reactjs', 'vue.js', 'typescript', 'Digital Agency', 'Software Development / Engineering', 'User Experience', 'javascript', 'angular', 'reactjs', 'vue.js', 'typescript', 'Application architecture', 'Degree in computer science', 'Javascript/Typescript', 'Angular', 'React', 'Vue', 'architecture of complex single page applications', 'Accessibility', 'usability', 'current web standards', 'code quality', 'clean code', 'German', 'English']\n",
      "['eye for professional user experience', 'Implementation of functionality Code reviews Technical advice', 'Guidance', 'actively participating in innovation projects', 'realize exciting projects', 'of ideas and knowledge', 'and', 'Digital Agency Software Development / Engineering', 'Experience', 'angular reactjs vue. js typescript', 'Software Development / Engineering User Experience', 'angular reactjs vue. js typescript', 'Application architecture API design', 'Code reviews', 'Degree in computer science', 'modern Javascript Typescript development', 'Angular React', 'Vue', 'architecture', 'complex single page applications', 'current', 'code', 'design', 'faithful implementation', 'German', 'English']\n",
      "Precision: 0.2692307692307692\n",
      "Recall: 0.175\n"
     ]
    },
    {
     "name": "stdout",
     "output_type": "stream",
     "text": [
      "['deliver software solutions', 'creation of programs', 'configuration/customisation of platforms', 'capture & analysis of requirements', 'Requirements capture/analysis and documentation', 'Design ( and documenting ) of own solutions', 'Writing software', 'configuring software platforms', 'Troubleshooting', 'debugging code', 'Testing', 'analysis of test results', 'Documentation', 'troubleshooting IT infrastructure related issues', 'Team player', 'methodical and reliable approach', 'problem solving', 'communication skills', 'Financial Services', 'Financial Technology', 'Regulatory Reporting', 'c#', 'typescript', '. net-core', 'less', 'sql-server', 'Financial Services', 'Financial Technology', 'Regulatory Reporting', 'c#', 'typescript', '. net-core', 'less', 'sql-server', 'Microsoft', 'Web development', 'C#', '. NET Core', '. NET Framework', 'SQL', 'SQL Server', 'JavaScript', 'ASP.NET', 'Blazor', 'JavaScript', 'JQuery', 'Angular', 'React', 'Vue', 'HTML5', 'CSS ( LESS)', 'Bootstrap', 'Microsoft-based development environment', 'Microsoft certifications', 'Financial Services']\n",
      "['of programs', 'customisation of platforms', 'capture & analysis of requirements', 'capture analysis', 'documentation Design ( and documenting ) of own solutions or sub - sets of solutions Writing software and / or configuring software platforms Troubleshooting and debugging code Testing', 'analysis of test results', 'troubleshooting IT infrastructure related issues', 'Team player', 'methodical and reliable approach', 'problem solving', 'communication skills', 'Financial Services Financial Technology Regulatory Reporting', 'typescript', '-', 'less sql - server', 'Financial Services Financial Technology Regulatory Reporting', 'typescript.', 'net -', 'sql - server', 'Microsoft / Web development', 'C #', 'NET Core', 'NET Framework SQL', 'SQL Server', 'TypeScript', 'JavaScript', 'ASP. NET', 'Blazor', 'JavaScript', 'JQuery Angular React', 'Vue HTML5 CSS', 'LESS', ') Bootstrap', 'IT infrastructure', 'Microsoft - based development environment', 'Microsoft certifications', 'Degree level education', 'Financial Services']\n",
      "Precision: 0.42105263157894735\n",
      "Recall: 0.3076923076923077\n",
      "['solving business problems', 'innovation & engineering practices', 'apply your depth of knowledge and expertise', 'partner continuously with your many stakeholders', 'stay focused on common goals', 'creating API services', 'work closely with colleagues and the business', 'drive the design and implementation of well tested easily supportable scalable and robust solutions', 'managing deployments', 'work in large collaborative teams', 'achieve organizational goals', 'building an innovative culture', 'designing applications', 'designing and building reusable services', 'support the developers in your team', 'leading', 'supporting', 'coaching', 'java', 'testing', 'web-services', 'java', 'testing', 'web-services', 'software development lifecycle', 'functional and non-functional requirements', 'BS/BA degree', 'deployment approaches', 'considerations', 'industry wide technology strategies', 'best practices', 'Java ( version 8 or higher )', 'Spring Boot', 'Performance Testing', 'Unit Testing', 'Integration Testing', 'Behavioural Testing Frameworks', 'Mocking frameworks', 'Continuous Integration )', 'high throughput mission critical high performance STP platforms', 'application delivery', 'stakeholder management', 'Oracle']\n",
      "['solving business problems through innovation & engineering practices', 'apply your depth of knowledge and expertise', 'partner continuously with your many stakeholders', 'creating API services', 'manage reference data', 'work closely with colleagues and the business', 'understand both functional and non - functional requirements', 'drive', 'design and implementation of well tested easily supportable scalable and robust solutions', 'managing deployments', 'work in large collaborative teams', 'building an innovative culture', 'designing applications', 'working on high throughput mission critical high performance', 'platforms', 'designing and building reusable services', 'support the developers in your team leading supporting and coaching others', 'java testing web - services', 'testing web - services', 'software development lifecycle', 'Data Engineering', 'BS / BA degree', 'deployment approaches', 'industry wide technology strategies and best practices *', 'Java', 'version 8', 'Spring Boot *', 'modern testing frameworks', 'Performance Testing Unit Testing Integration Testing Behavioural Testing Frameworks Mocking frameworks Continuous Integration )', 'modern SRE', 'STP platforms', 'application delivery', 'stakeholder management', 'Oracle', 'relational']\n",
      "Precision: 0.42857142857142855\n",
      "Recall: 0.35714285714285715\n",
      "['developing', 'development', 'customisation', 'configuration', 'development of plug-ins', 'Work with business product owners and business analysts', 'elicit requirements', 'assist in developing design specifications', 'maximise the benefit', 'Collaborate with other stakeholders/ end users', 'design', 'development', 'delivery', 'technical aptitude', 'providing extraordinary customer service influence impact', 'problem-solving', 'building customer and partner relationships', 'Cloud Services', 'Information Technology', 'Technology Consulting', '. net', 'microsoft-dynamics', 'dynamics-365', 'Cloud Services', 'Information Technology', 'Technology Consulting', '. net', 'microsoft-dynamics', 'dynamics-365', 'C#', 'software development lifecycle', 'Dynamics 365', 'Dynamics CRM )', 'Dynamics 365', '. NET', 'MS Dynamics 365', 'Microsoft stack', 'Dynamics 365', 'SCRUM/Agile )', 'SC Clearance Eligible', '. NET WebAPI', 'SharePoint']\n",
      "['developing an integral application to interface', 'Provide development to the on - premise Dynamics CRM solution', 'customisation and configuration', 'development of plug - ins and custom workflow activities', 'Work with business product owners and business analysts', 'elicit requirements', 'developing design specifications', 'Collaborate with other stakeholders / end users', 'aptitude', 'providing extraordinary customer service influence impact', 'problem - solving', 'building customer and partner relationships', 'Cloud Services Information Technology Technology Consulting', 'microsoft dynamics dynamics - 365', 'Cloud Services Information Technology Technology Consulting', 'microsoft dynamics dynamics - 365', 'Dynamics CRM', 'C #', 'Dynamics 365', 'software development lifecycle', 'Business', 'testing', 'design development', 'delivery', 'Dynamics 365', 'Dynamics CRM )', 'Dynamics 365 platform', 'MS Dynamics 365', 'Microsoft stack', 'Dynamics 365', 'development frameworks', 'SCRUM / Agile', 'SC Clearance Eligible', 'NET WebAPI', 'SharePoint']\n",
      "Precision: 0.4\n",
      "Recall: 0.3333333333333333\n",
      "['analyzing', 'deciding the best approach', 'write code', 'Design', 'write code', 'modify . NET services and APIs', 'maintain strong Backend code quality', 'attention to detail', 'resourceful', 'problem solving', 'communication skills', 'Vehicle Tracking', 'azure', '. net', 'c#', 'azure-cosmosdb', 'rest', 'Vehicle Tracking', 'azure', '. net', 'c#', 'azure-cosmosdb', 'rest', 'development cycle', 'design patterns', 'unit tests', '. NET', 'APIs', 'C#', '. NET Framework', '. NET Core', 'T-SQL ( MS SQL Server)', 'Object-Oriented Design', 'RESTful Services', 'Azure Storage', 'Azure EventHub', 'Azure Functions', 'Azure Data Lake', 'Azure CosmosDB', 'Security Principles', 'Computer Science', 'Engineering', 'English']\n",
      "['analyzing deciding the best approach write code', 'Design write code', 'modify', 'Ensure to maintain strong Backend code quality with good practices', 'Teamwork', 'attention to detail resourceful', 'for problem solving', 'communication skills', 'Vehicle Tracking', 'c # azure - cosmosdb rest', 'Vehicle Tracking', '.', 'c', 'azure - cosmosdb', 'development cycle', 'design patterns', 'unit tests', 'NET', 'APIs', 'Backend', 'C #', 'NET Framework', 'NET Core T - SQL', 'MS SQL Server ) Object - Oriented Design RESTful Services', 'Azure Storage Azure EventHub Azure Functions Azure Data Lake Azure CosmosDB', 'Security Principles', 'Computer Science Engineering', 'English']\n",
      "Precision: 0.32142857142857145\n",
      "Recall: 0.20930232558139536\n"
     ]
    },
    {
     "name": "stdout",
     "output_type": "stream",
     "text": [
      "['delivering real quality', 'Planning test activities for each build cycle', 'testing client configurations', 'Reporting the results', 'Incorporating that testing into automation', 'Reporting and documenting issues found', 'Following up on issues raised', 'communicator', 'connect together complex issues', 'appreciate quality', 'code', 'qa', 'automation', 'testing', 'qa', 'automation', 'testing', 'testing', 'automation', 'complex system']\n",
      "['build out QA in our event - driven platform', 'delivering real quality in both process and product', 'Planning test activities', 'testing client configurations Executing those activities Reporting the results Incorporating that testing into automation Reporting and documenting issues found Following up on issues raised', 'communicator', 'connect together complex issues', 'quality', 'Worked in a complex system', 'automation testing', 'automation testing', 'automation', 'testing', 'automation']\n",
      "Precision: 0.38461538461538464\n",
      "Recall: 0.29411764705882354\n",
      "['Automation', 'Functional Testing', 'new feature testing', 'automate end to end test requirements', 'Schedule and Execute regression cycles', 'Execution of Non-Functional regression testing', 'ensure the resiliency and performance of the system', 'provide solutions', 'improve operational efficiency', 'participating in sprint planning backlog refinement', 'identify gaps', 'provide improvements', 'communicate', 'work under pressure', 'resolve issues affecting the production services', 'detail oriented', 'work independently', 'read/publish on message', 'Financial Services', 'qa', 'python', 'automation', 'Financial Services', 'qa', 'python', 'automation', 'regression/reconciliation', 'Continuous Delivery', 'End to end automated testing', 'data integrity', 'performance', 'presentation quality', 'software development', 'Java/Python', 'operational processes', 'Agile', 'retrospectives', 'Defect management', 'of test coverage', 'IT/quality assurance', \"Bachelor's degree\", 'Computer Science', 'quality assurance', 'testing arena;', 'quality assurance methods/processes', 'Lifecycle principles', 'quality assurance processes', 'automated testing', 'Java', 'testing of Mainframe', 'test automation frameworks', 'Core Java', 'UNIX scripting', 'SQL', 'Continuous Integration ( CI )', 'GIT', 'Jenkins,', 'Mainframe/IBM iSeries', 'iSeries Menu/End of day']\n",
      "['perform both Automation and Functional Testing', 'new feature testing of the platform', 'End to end automated testing', 'automate end to end test requirements', 'Schedule and Execute regression cycles daily', 'Execution of Non - Functional regression testing', 'ensure the resiliency and performance of the system • Understand operational processes', 'provide solutions', 'improve operational efficiency •', 'working in an Agile environment', 'understand and use efficient Defect management', 'identify gaps', 'testing of Mainframe and batch related applications', 'verbal and written skills', 'communicate effectively on both a technical and business level •', 'work under pressure', 'resolve issues affecting the production services', 'work ethic', 'detail oriented', 'work independently', 'read / publish on message bus', 'Financial Services', 'python automation', 'Financial Services', 'python automation', 'Automation', 'Functional Testing', 'regression / reconciliation', 'Continuous Delivery', 'Monthly Release', 'data integrity performance', 'presentation quality', 'software development', 'Java / Python', 'Non - Functional regression testing', 'Agile', 'sprint planning backlog refinement', 'retrospectives', 'Defect management', 'IT / quality assurance', \"Bachelor ' s degree in Computer Science\", 'quality assurance', 'testing', 'quality assurance methods / processes and practices', 'Lifecycle principles', 'quality assurance processes and methodologies', 'automated testing', 'Java', 'test automation frameworks', 'Core Java', 'UNIX scripting', 'SQL', 'Continuous Integration ( CI )', 'GIT Jenkins', 'Mainframe / IBM iSeries', 'iSeries Menu / End of day batches', 'message bus']\n",
      "Precision: 0.47368421052631576\n",
      "Recall: 0.47368421052631576\n",
      "['solving business problems', 'innovation and engineering practices', 'apply your depth of knowledge and expertise', 'partner continuously with your many stakeholders', 'stay focused on common goals', 'work in large collaborative teams', 'achieve organizational goals', 'building an innovative culture', 'Financial Services', 'cloud', 'java', 'amazon-web-services', 'Financial Services', 'cloud', 'java', 'amazon-web-services', 'software development lifecycle', 'BS/BA degree', 'Core Java', 'Spring Boot', 'Microservices', 'AWS', 'Kubernetes', 'Docker', 'Spinnaker', 'DevOps', 'CI/CD automation', 'application data and infrastructure architecture disciplines', 'industry-wide technology trends and best practices', 'business analysis', 'development', 'maintenance', 'software improvement']\n",
      "['solving business problems through innovation and engineering practices', 'apply your depth of knowledge and expertise', 'partner continuously with your many stakeholders', 'work in large collaborative teams', 'building an innovative culture *', 'Financial Services', 'java amazon - web - services', 'Financial Services', 'java amazon - web - services', 'software development lifecycle', 'BS / BA degree', 'Core Java Spring Boot', 'Microservices', 'cloud technologies', 'AWS', 'Kubernetes', 'Docker', 'cloud deployment tools', 'Spinnaker', 'best practices in DevOps and CI / CD automation', 'application data', 'infrastructure architecture', 'industry - wide technology trends and best practices', 'modern programming languages', 'business analysis development maintenance', 'software improvement']\n",
      "Precision: 0.46153846153846156\n",
      "Recall: 0.36363636363636365\n",
      "['design and develop a micro-service architecture', 'Gather understand and prioritize requirements', 'research potential solutions', 'rapidly build prototypes', 'distill and communicate what was learned expected risks necessary resources', 'Provide high-level technical design', 'Assure that our architectures are consistent', 'Communicate strategies and processes', 'select the best talent to join', 'Onboard new colleagues', 'writing highly tested software', 'defining and modelling a consumable API', 'work autonomously', 'energized by missions and goals', 'designing', 'analyzing', 'optimising code', 'troubleshooting large-scale distributed systems', 'Artificial Intelligence', 'Machine Learning', 'Translation', 'node.js', 'javascript', 'nestjs', 'Artificial Intelligence', 'Machine Learning', 'Translation', 'node.js', 'javascript', 'nestjs', 'security concerns', 'strategy roadmap development', 'technical architecture', 'industry best practices', 'scalability', 'availability', 'maintainability', 'flexibility', 'Javascript', 'TypeScript', 'Node.js', 'NestJS', 'unit testing', 'integration testing)']\n",
      "['design and develop a micro - service architecture', 'Gather understand and prioritize requirements research potential solutions rapidly build prototypes', 'distill and communicate what was learned expected', 'necessary', 'Provide high - level technical design strategy roadmap development and technical architecture', 'Assure that our architectures', 'Communicate strategies and processes', 'writing highly tested software', 'defining and modelling a consumable API', 'work autonomously', 'energized by missions and goals', 'designing analyzing optimising code', 'troubleshooting large - scale distributed systems', 'Intelligence Machine Learning Translation', 'javascript nestjs', 'Machine Learning', 'javascript nestjs', 'strategy roadmap development', 'technical architecture', 'scalability availability maintainability', 'flexibility', 'code reviews', 'Javascript / TypeScript / Node. js / NestJS', 'unit testing integration testing )', 'consumable API.', 'machine learning']\n",
      "Precision: 0.38461538461538464\n",
      "Recall: 0.22727272727272727\n",
      "['Lead the design & implementation', 'Drive the implementation of new forecasting algorithms and tooling', 'responsibility for live productions systems', 'Perform developer tests', 'peer code reviews', 'prepare strong documentation', 'Develop tools', 'improve and maintain components & systems', 'back-end programming', 'designing & implementing distributed system architectures and APIs', 'deploy your applications', 'Manage individual priorities deadlines and deliverables', 'Contribute to engineering efforts', 'solve complex engineering problems', 'get-things-done attitude', 'identify shortcomings quickly', 'work with many different stakeholders', 'python', 'django', 'docker', 'orm', 'sqlalchemy', 'python', 'django', 'docker', 'orm', 'sqlalchemy', 'back-end services', 'Python', 'database structures', 'webapp design', 'Python', 'ORMs', 'Django', 'ORM', 'SQLAlchemy )', 'docker', 'Computer Engineering', 'statistical modeling', 'optimization problems', 'English', '<LOCATION> or <LOCATION> work permit']\n",
      "['Lead the design & implementation of our core back - end services', 'orchestrate the fresh supply chain', 'Drive the implementation of new forecasting algorithms and tooling', 'improve decision making', 'building the tooling', 'take responsibility for live productions systems', 'Perform developer tests on your own', 'prepare strong documentation of your work', 'Develop tools', 'the', 'Continuously improve and maintain components & systems', 'ensure its functionality scalability uptime and security', 'designing & implementing distributed system architectures and APIs', 'deploy your applications', 'Manage individual priorities deadlines and deliverables Contribute to engineering efforts', 'planning and', 'solve complex engineering problems', 'get - things - done attitude', 'identify shortcomings quickly', 'work with many different stakeholders', 'django docker orm sqlalchemy', 'django docker', 'sqlalchemy', 'NET', 'Python 3', 'Django library', 'web app', 'ORM', ')', 'RabbitMQ Kafka', 'developer tests', 'peer code reviews', 'Python', 'back - end programming', 'database structures webapp design', 'Python', 'ORMs', 'Django ORM SQLAlchemy', 'APIs', 'docker', 'university degree', 'Computer Engineering', 'statistical modeling', 'English']\n",
      "Precision: 0.38636363636363635\n",
      "Recall: 0.4857142857142857\n"
     ]
    },
    {
     "name": "stdout",
     "output_type": "stream",
     "text": [
      "['base your decisions on solid data and metrics', 'produce outstanding work', 'break challenges into bite-size tasks', 'mentor team mates', 'demand quality', 'developing a whole range of key product features', 'defining and implementing services', 'collaborate with product engineers', 'accountable for your own projects', 'trusted to deliver', 'form part of a broader team', 'takes collective responsibility', 'making success happen', 'Information Technology', 'Online Travel', 'java', 'web-services', 'python', 'distributed-system', 'amazon-web-services', 'Information Technology', 'Online Travel', 'java', 'web-services', 'python', 'distributed-system', 'amazon-web-services', 'Java', 'Python', 'Docker', 'AWS', 'Hadoop/Spark', 'SQL', 'Airflow', 'Jupyter', 'Agile/Lean', 'machine learning', 'cloud services', 'APIs']\n",
      "['base your decisions on solid data and metrics', 'drive', 'produce outstanding work', 'break challenges into bite - size tasks mentor team mates', 'demand quality', 'developing a whole range of key product features', 'defining and implementing services', 'a vital sub - system', 'collaborate with product engineers', 'accountable for your own projects', 'a', 'Information Technology Online Travel', 'web - services python distributed - system amazon - web - services', 'Information Technology Online Travel', 'web - services python distributed - system amazon - web - services', 'Python Docker', 'AWS', 'Agile / Lean methodologies', 'machine learning', 'cloud services', 'APIs']\n",
      "Precision: 0.5238095238095238\n",
      "Recall: 0.28205128205128205\n",
      "['high-quality well-tested and scalable code', 'Ensure code quality and maintainability', 'improving build and test systems', 'Coach guide and mentor teams', 'Collaborate', 'identifying managing and minimizing technical debt', 'Share architecture knowledge findings and standard methodologies', 'Strategic thinker', 'analytical', 'critical thinking', 'frame problems', 'drive teams', 'collect data', 'guide the analysis', 'present the data', 'influence leadership', 'aspiration for quality', 'sense of pragmatism', 'quick adoption of new technologies', 'speak at conferences', 'engage in the community', 'communication', 'eCommerce', 'Internet Marketing', 'java', 'spring', 'node.js', 'reactjs', 'evolving architecture and tech stack', 'code reviews', 'refactoring', 'standards', 'architecture', 'technology', 'Java', 'Spring Framework', 'web technologies', '( non- ) relational databases', 'node.js', 'react )', 'design implementation and operation of distributed services and APIs', 'agile software development', 'product discovery', 'continuous deployment', 'quality assurance', 'English']\n",
      "['hands - on', '- on', \"Contribute to the team ' s work with high - quality well - tested and scalable code Ensure code quality and maintainability\", 'evolving architecture and tech stack code reviews refactoring standards', 'improving build and test systems Coach guide and mentor teams on architecture and technology choices Collaborate with the other architects and senior devs', 'identifying managing and minimizing technical debt', 'on the impact of product ideas and possible implementations Share architecture knowledge findings and standard methodologies', 'services', 'Strategic thinker', 'analytical and critical thinking skills', 'frame problems drive teams', 'collect data', 'present the data', 'influence leadership', 'for quality balanced', 'sense of pragmatism', 'build the best experience', 'Independently and quick adoption of new technologies and concepts', 'speak at conferences', 'engage in the community', 'Effective', 'communication skills', 'Develop capabilities gain new skills', 'eCommerce Internet Marketing', 'java spring node. js reactjs', 'engineering', 'architecture', 'tech', 'code reviews', 'Java Spring Framework web technologies', 'relational databases', 'node.', 'react )', 'design implementation', 'distributed services', 'APIs', 'agile software development product discovery', 'continuous deployment', 'quality assurance', 'English', 'Covid']\n",
      "Precision: 0.34146341463414637\n",
      "Recall: 0.30434782608695654\n"
     ]
    },
    {
     "data": {
      "text/plain": [
       "[0.4,\n",
       " 0.35294117647058826,\n",
       " 0.2905982905982906,\n",
       " 0.3703703703703704,\n",
       " 0.15789473684210528,\n",
       " 0.3380281690140845,\n",
       " 0.33333333333333326,\n",
       " 0.1758241758241758,\n",
       " 0.1818181818181818,\n",
       " 0.23655913978494625,\n",
       " 0.3191489361702128,\n",
       " 0.5070422535211269,\n",
       " 0.1643835616438356,\n",
       " 0.43243243243243246,\n",
       " 0.5161290322580645,\n",
       " 0.3478260869565218,\n",
       " 0.25396825396825395,\n",
       " 0.20833333333333331,\n",
       " 0.33333333333333337,\n",
       " 0.2121212121212121,\n",
       " 0.35555555555555557,\n",
       " 0.38961038961038963,\n",
       " 0.3636363636363636,\n",
       " 0.25352112676056343,\n",
       " 0.33333333333333337,\n",
       " 0.47368421052631576,\n",
       " 0.4067796610169492,\n",
       " 0.2857142857142857,\n",
       " 0.4303797468354431,\n",
       " 0.36666666666666664,\n",
       " 0.3218390804597701]"
      ]
     },
     "execution_count": 87,
     "metadata": {},
     "output_type": "execute_result"
    }
   ],
   "source": [
    "f1_scores_baseline = []\n",
    "\n",
    "for index, row in test_tech_df.iterrows():\n",
    "    try:\n",
    "        row_merged_skills_knowledge = test_tech_df.at[index, 'skills'] + test_tech_df.at[index, 'knowledge']\n",
    "        ner_results = ner(row['text'])\n",
    "        detected_entities = [entity for entity_group in ner_results for entity in entity_group[\"entities\"]]\n",
    "        detected_words = [entity['word'] for entity in detected_entities]\n",
    "\n",
    "        print(row_merged_skills_knowledge)\n",
    "        print(detected_words)\n",
    "        f1_score = calculate_f1_score(row_merged_skills_knowledge, detected_words)\n",
    "        f1_scores_baseline.append(f1_score)\n",
    "    except Exception as e:\n",
    "        print(f\"Failed to parse skills for row {index}: {e}\")\n",
    "\n",
    "f1_scores_baseline"
   ]
  },
  {
   "cell_type": "code",
   "execution_count": 88,
   "id": "8a02f099",
   "metadata": {},
   "outputs": [
    {
     "data": {
      "text/plain": [
       "0.3262195622551625"
      ]
     },
     "execution_count": 88,
     "metadata": {},
     "output_type": "execute_result"
    }
   ],
   "source": [
    "sum(f1_scores_baseline) / len(f1_scores_baseline)"
   ]
  }
 ],
 "metadata": {
  "kernelspec": {
   "display_name": "skill-extraction-env",
   "language": "python",
   "name": "skill-extraction-env"
  },
  "language_info": {
   "codemirror_mode": {
    "name": "ipython",
    "version": 3
   },
   "file_extension": ".py",
   "mimetype": "text/x-python",
   "name": "python",
   "nbconvert_exporter": "python",
   "pygments_lexer": "ipython3",
   "version": "3.11.5"
  }
 },
 "nbformat": 4,
 "nbformat_minor": 5
}
