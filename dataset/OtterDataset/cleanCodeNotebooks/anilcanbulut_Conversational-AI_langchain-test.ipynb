{
 "cells": [
  {
   "cell_type": "code",
   "execution_count": 23,
   "id": "7bc7d2ee-9e63-4310-b484-829736e7929a",
   "metadata": {},
   "outputs": [],
   "source": [
    "from langchain.memory import ConversationBufferMemory\n",
    "from langchain_community.llms import Ollama\n",
    "from langchain.chains import ConversationChain\n",
    "from langchain_core.prompts import ChatPromptTemplate"
   ]
  },
  {
   "cell_type": "code",
   "execution_count": 24,
   "id": "77f3ba6e-a2e8-4813-9747-12a9ee00a834",
   "metadata": {},
   "outputs": [],
   "source": [
    "llm = Ollama(model=\"mistral\")"
   ]
  },
  {
   "cell_type": "code",
   "execution_count": 27,
   "id": "c66c38ae-aff9-43fd-8dd9-af31a709e679",
   "metadata": {},
   "outputs": [],
   "source": [
    "chat_template = ChatPromptTemplate.from_messages(\n",
    "        [\n",
    "            (\"system\", \"You are an assistant AI software developer whose main goal is to help improving \\\n",
    "                        the codes that are provided to you. When you are asked to run certain software \\\n",
    "                        programming processes such as Unit testign, clean code improvement, etc. you have \\\n",
    "                        to do your best. Do not summarize your answers, provide clean and concise outputs. \\\n",
    "                        Always use markdown to clearly provide the code outputs.\"),\n",
    "            (\"human\", \"{user_input}\"),\n",
    "        ]\n",
    "    )\n",
    "\n",
    "messages = chat_template.format_messages(user_input=\"What are your responsibilities?\")"
   ]
  },
  {
   "cell_type": "code",
   "execution_count": 28,
   "id": "ac43d58c-edf0-4436-8d4d-7f4070bccee3",
   "metadata": {},
   "outputs": [
    {
     "data": {
      "text/plain": [
       "[SystemMessage(content='You are an assistant AI software developer whose main goal is to help improving                         the codes that are provided to you. When you are asked to run certain software                         programming processes such as Unit testign, clean code improvement, etc. you have                         to do your best. Do not summarize your answers, provide clean and concise outputs.                         Always use markdown to clearly provide the code outputs.'),\n",
       " HumanMessage(content='What are your responsibilities?')]"
      ]
     },
     "execution_count": 28,
     "metadata": {},
     "output_type": "execute_result"
    }
   ],
   "source": [
    "messages"
   ]
  },
  {
   "cell_type": "code",
   "execution_count": 29,
   "id": "d9196280-554d-45a6-8abf-670819ab21dc",
   "metadata": {},
   "outputs": [],
   "source": [
    "memory = ConversationBufferMemory()"
   ]
  },
  {
   "cell_type": "code",
   "execution_count": 30,
   "id": "b4373f7d-73a3-472e-bc2a-62921ab359cf",
   "metadata": {},
   "outputs": [
    {
     "ename": "ValidationError",
     "evalue": "1 validation error for ConversationChain\n__root__\n  Got unexpected prompt input variables. The prompt expects ['user_input'], but got ['history'] as inputs from memory, and input as the normal input key. (type=value_error)",
     "output_type": "error",
     "traceback": [
      "\u001b[1;31m---------------------------------------------------------------------------\u001b[0m",
      "\u001b[1;31mValidationError\u001b[0m                           Traceback (most recent call last)",
      "Cell \u001b[1;32mIn[30], line 1\u001b[0m\n\u001b[1;32m----> 1\u001b[0m conversation \u001b[38;5;241m=\u001b[39m \u001b[43mConversationChain\u001b[49m\u001b[43m(\u001b[49m\u001b[43mllm\u001b[49m\u001b[38;5;241;43m=\u001b[39;49m\u001b[43mllm\u001b[49m\u001b[43m,\u001b[49m\n\u001b[0;32m      2\u001b[0m \u001b[43m                                \u001b[49m\u001b[43mverbose\u001b[49m\u001b[38;5;241;43m=\u001b[39;49m\u001b[38;5;28;43;01mTrue\u001b[39;49;00m\u001b[43m,\u001b[49m\n\u001b[0;32m      3\u001b[0m \u001b[43m                                \u001b[49m\u001b[43mmemory\u001b[49m\u001b[38;5;241;43m=\u001b[39;49m\u001b[43mmemory\u001b[49m\u001b[43m,\u001b[49m\n\u001b[0;32m      4\u001b[0m \u001b[43m                                \u001b[49m\u001b[43mprompt\u001b[49m\u001b[38;5;241;43m=\u001b[39;49m\u001b[43mchat_template\u001b[49m\u001b[43m)\u001b[49m\n",
      "File \u001b[1;32m~\\AppData\\Local\\Programs\\Python\\Python311\\Lib\\site-packages\\langchain_core\\load\\serializable.py:120\u001b[0m, in \u001b[0;36mSerializable.__init__\u001b[1;34m(self, **kwargs)\u001b[0m\n\u001b[0;32m    119\u001b[0m \u001b[38;5;28;01mdef\u001b[39;00m \u001b[38;5;21m__init__\u001b[39m(\u001b[38;5;28mself\u001b[39m, \u001b[38;5;241m*\u001b[39m\u001b[38;5;241m*\u001b[39mkwargs: Any) \u001b[38;5;241m-\u001b[39m\u001b[38;5;241m>\u001b[39m \u001b[38;5;28;01mNone\u001b[39;00m:\n\u001b[1;32m--> 120\u001b[0m     \u001b[38;5;28;43msuper\u001b[39;49m\u001b[43m(\u001b[49m\u001b[43m)\u001b[49m\u001b[38;5;241;43m.\u001b[39;49m\u001b[38;5;21;43m__init__\u001b[39;49m\u001b[43m(\u001b[49m\u001b[38;5;241;43m*\u001b[39;49m\u001b[38;5;241;43m*\u001b[39;49m\u001b[43mkwargs\u001b[49m\u001b[43m)\u001b[49m\n\u001b[0;32m    121\u001b[0m     \u001b[38;5;28mself\u001b[39m\u001b[38;5;241m.\u001b[39m_lc_kwargs \u001b[38;5;241m=\u001b[39m kwargs\n",
      "File \u001b[1;32m~\\AppData\\Local\\Programs\\Python\\Python311\\Lib\\site-packages\\pydantic\\v1\\main.py:341\u001b[0m, in \u001b[0;36mBaseModel.__init__\u001b[1;34m(__pydantic_self__, **data)\u001b[0m\n\u001b[0;32m    339\u001b[0m values, fields_set, validation_error \u001b[38;5;241m=\u001b[39m validate_model(__pydantic_self__\u001b[38;5;241m.\u001b[39m\u001b[38;5;18m__class__\u001b[39m, data)\n\u001b[0;32m    340\u001b[0m \u001b[38;5;28;01mif\u001b[39;00m validation_error:\n\u001b[1;32m--> 341\u001b[0m     \u001b[38;5;28;01mraise\u001b[39;00m validation_error\n\u001b[0;32m    342\u001b[0m \u001b[38;5;28;01mtry\u001b[39;00m:\n\u001b[0;32m    343\u001b[0m     object_setattr(__pydantic_self__, \u001b[38;5;124m'\u001b[39m\u001b[38;5;124m__dict__\u001b[39m\u001b[38;5;124m'\u001b[39m, values)\n",
      "\u001b[1;31mValidationError\u001b[0m: 1 validation error for ConversationChain\n__root__\n  Got unexpected prompt input variables. The prompt expects ['user_input'], but got ['history'] as inputs from memory, and input as the normal input key. (type=value_error)"
     ]
    }
   ],
   "source": [
    "conversation = ConversationChain(llm=llm,\n",
    "                                verbose=True,\n",
    "                                memory=memory,\n",
    "                                prompt=chat_template)"
   ]
  },
  {
   "cell_type": "code",
   "execution_count": null,
   "id": "6c866c17-a7ae-4190-922e-37ca5f5f4995",
   "metadata": {},
   "outputs": [],
   "source": [
    "qa = ConversationalRetrievalChain.from_llm(\n",
    "ChatOpenAI(temperature=0, model_name=\"gpt-3.5-turbo\"),\n",
    "retriever=vectorstore.as_retriever(search_kwargs={\"k\": 3}),\n",
    "return_source_documents=True,\n",
    "verbose=True,\n",
    "chain_type=\"stuff\",\n",
    "get_chat_history=lambda h : h,\n",
    "combine_docs_chain_kwargs={'prompt': base_template},\n",
    "memory = memory\n",
    ")"
   ]
  },
  {
   "cell_type": "code",
   "execution_count": 5,
   "id": "d3cb26be-5a5b-4143-9102-83032c62db05",
   "metadata": {},
   "outputs": [
    {
     "name": "stdout",
     "output_type": "stream",
     "text": [
      "\n",
      "\n",
      "\u001b[1m> Entering new ConversationChain chain...\u001b[0m\n",
      "Prompt after formatting:\n",
      "\u001b[32;1m\u001b[1;3mThe following is a friendly conversation between a human and an AI. The AI is talkative and provides lots of specific details from its context. If the AI does not know the answer to a question, it truthfully says it does not know.\n",
      "\n",
      "Current conversation:\n",
      "\n",
      "Human: A quick question in math. There is a variable x which has the value of 5 and the value of another variable y has the value of 7\n",
      "AI:\u001b[0m\n",
      "\n",
      "\u001b[1m> Finished chain.\u001b[0m\n"
     ]
    },
    {
     "data": {
      "text/plain": [
       "\" Of course, I'd be happy to help with your math question! If we have two variables, x with a value of 5 and y with a value of 7, we can perform various mathematical operations with them. For example, if we want to find the sum of x and y, we simply add their values: 5 + 7 = 12. Similarly, if we want to subtract y from x, we would do: 5 - 7 = -2.\\n\\nIf your question involves more complex mathematical operations like multiplication or division, exponentiation, or functions, just let me know and I'll try my best to help you out! For instance, if you wanted to find the product of x and y (5 * 7), I would multiply their values together, resulting in the answer being 35. If you wanted to find the quotient of x divided by y (5 / 7), we would perform a division operation. However, since y has a smaller value than x in this case, we would have to be careful as dividing by a smaller number results in a larger value for x and a smaller value for y. In this scenario, the quotient of 5 divided by 7 is approximately equal to 0.71428571, which can be rounded to two decimal places as 0.71 or expressed as a fraction as 5/7.\\n\\nIf you have any specific math problem in mind, please let me know and I will do my best to help! If the operation is not clear or if the variables' values need modification for the question to be answered, just ask for clarification.\""
      ]
     },
     "execution_count": 5,
     "metadata": {},
     "output_type": "execute_result"
    }
   ],
   "source": [
    "conversation.predict(input='A quick question in math. There is a variable x which has the value of 5 and the value of another variable y has the value of 7')"
   ]
  },
  {
   "cell_type": "code",
   "execution_count": 6,
   "id": "055133ad-d8fd-4951-8967-4032d73eb8f0",
   "metadata": {},
   "outputs": [
    {
     "name": "stdout",
     "output_type": "stream",
     "text": [
      "Human: A quick question in math. There is a variable x which has the value of 5 and the value of another variable y has the value of 7\n",
      "AI:  Of course, I'd be happy to help with your math question! If we have two variables, x with a value of 5 and y with a value of 7, we can perform various mathematical operations with them. For example, if we want to find the sum of x and y, we simply add their values: 5 + 7 = 12. Similarly, if we want to subtract y from x, we would do: 5 - 7 = -2.\n",
      "\n",
      "If your question involves more complex mathematical operations like multiplication or division, exponentiation, or functions, just let me know and I'll try my best to help you out! For instance, if you wanted to find the product of x and y (5 * 7), I would multiply their values together, resulting in the answer being 35. If you wanted to find the quotient of x divided by y (5 / 7), we would perform a division operation. However, since y has a smaller value than x in this case, we would have to be careful as dividing by a smaller number results in a larger value for x and a smaller value for y. In this scenario, the quotient of 5 divided by 7 is approximately equal to 0.71428571, which can be rounded to two decimal places as 0.71 or expressed as a fraction as 5/7.\n",
      "\n",
      "If you have any specific math problem in mind, please let me know and I will do my best to help! If the operation is not clear or if the variables' values need modification for the question to be answered, just ask for clarification.\n"
     ]
    }
   ],
   "source": [
    "print(conversation.memory.buffer)"
   ]
  },
  {
   "cell_type": "code",
   "execution_count": 7,
   "id": "fd2adf90-ab20-4676-8c59-488a7c5e5ffe",
   "metadata": {},
   "outputs": [
    {
     "name": "stdout",
     "output_type": "stream",
     "text": [
      "\n",
      "\n",
      "\u001b[1m> Entering new ConversationChain chain...\u001b[0m\n",
      "Prompt after formatting:\n",
      "\u001b[32;1m\u001b[1;3mThe following is a friendly conversation between a human and an AI. The AI is talkative and provides lots of specific details from its context. If the AI does not know the answer to a question, it truthfully says it does not know.\n",
      "\n",
      "Current conversation:\n",
      "Human: A quick question in math. There is a variable x which has the value of 5 and the value of another variable y has the value of 7\n",
      "AI:  Of course, I'd be happy to help with your math question! If we have two variables, x with a value of 5 and y with a value of 7, we can perform various mathematical operations with them. For example, if we want to find the sum of x and y, we simply add their values: 5 + 7 = 12. Similarly, if we want to subtract y from x, we would do: 5 - 7 = -2.\n",
      "\n",
      "If your question involves more complex mathematical operations like multiplication or division, exponentiation, or functions, just let me know and I'll try my best to help you out! For instance, if you wanted to find the product of x and y (5 * 7), I would multiply their values together, resulting in the answer being 35. If you wanted to find the quotient of x divided by y (5 / 7), we would perform a division operation. However, since y has a smaller value than x in this case, we would have to be careful as dividing by a smaller number results in a larger value for x and a smaller value for y. In this scenario, the quotient of 5 divided by 7 is approximately equal to 0.71428571, which can be rounded to two decimal places as 0.71 or expressed as a fraction as 5/7.\n",
      "\n",
      "If you have any specific math problem in mind, please let me know and I will do my best to help! If the operation is not clear or if the variables' values need modification for the question to be answered, just ask for clarification.\n",
      "Human: what is the sum of these two variables?\n",
      "AI:\u001b[0m\n",
      "\n",
      "\u001b[1m> Finished chain.\u001b[0m\n"
     ]
    },
    {
     "data": {
      "text/plain": [
       "' The sum of variable x with the value 5 and variable y with the value 7 is simply the addition of their values. So, you would add 5 (the value of x) and 7 (the value of y), resulting in a sum of 12. Therefore, the answer to your question is that the sum of variables x and y, when x has a value of 5 and y has a value of 7, equals 12.'"
      ]
     },
     "execution_count": 7,
     "metadata": {},
     "output_type": "execute_result"
    }
   ],
   "source": [
    "conversation.predict(input=\"what is the sum of these two variables?\")"
   ]
  },
  {
   "cell_type": "code",
   "execution_count": null,
   "id": "4dd4bd19-2a3d-4a73-9763-7420960bdcb0",
   "metadata": {},
   "outputs": [],
   "source": [
    "print(conversation.memory.buffer)"
   ]
  },
  {
   "cell_type": "code",
   "execution_count": null,
   "id": "8fea11aa-3298-42fc-bc6c-2102b5ba33dc",
   "metadata": {},
   "outputs": [],
   "source": [
    "conversation.predict(input='are you sure about that?')"
   ]
  },
  {
   "cell_type": "code",
   "execution_count": null,
   "id": "909c5777-ed91-4db4-9059-1e9a61f714df",
   "metadata": {},
   "outputs": [],
   "source": [
    "print(conversation.memory.buffer)"
   ]
  },
  {
   "cell_type": "code",
   "execution_count": null,
   "id": "16d698d8-3bc2-4678-963f-5ddc5371b5c7",
   "metadata": {},
   "outputs": [],
   "source": [
    "conversation.predict(input='No. Sum of 5 and 7 is 12')"
   ]
  },
  {
   "cell_type": "code",
   "execution_count": 8,
   "id": "8d4d73f1-0ec3-4cf4-9224-9f47c1911d34",
   "metadata": {},
   "outputs": [
    {
     "name": "stdout",
     "output_type": "stream",
     "text": [
      "\n",
      "\n",
      "\u001b[1m> Entering new ConversationChain chain...\u001b[0m\n",
      "Prompt after formatting:\n",
      "\u001b[32;1m\u001b[1;3mThe following is a friendly conversation between a human and an AI. The AI is talkative and provides lots of specific details from its context. If the AI does not know the answer to a question, it truthfully says it does not know.\n",
      "\n",
      "Current conversation:\n",
      "Human: A quick question in math. There is a variable x which has the value of 5 and the value of another variable y has the value of 7\n",
      "AI:  Of course, I'd be happy to help with your math question! If we have two variables, x with a value of 5 and y with a value of 7, we can perform various mathematical operations with them. For example, if we want to find the sum of x and y, we simply add their values: 5 + 7 = 12. Similarly, if we want to subtract y from x, we would do: 5 - 7 = -2.\n",
      "\n",
      "If your question involves more complex mathematical operations like multiplication or division, exponentiation, or functions, just let me know and I'll try my best to help you out! For instance, if you wanted to find the product of x and y (5 * 7), I would multiply their values together, resulting in the answer being 35. If you wanted to find the quotient of x divided by y (5 / 7), we would perform a division operation. However, since y has a smaller value than x in this case, we would have to be careful as dividing by a smaller number results in a larger value for x and a smaller value for y. In this scenario, the quotient of 5 divided by 7 is approximately equal to 0.71428571, which can be rounded to two decimal places as 0.71 or expressed as a fraction as 5/7.\n",
      "\n",
      "If you have any specific math problem in mind, please let me know and I will do my best to help! If the operation is not clear or if the variables' values need modification for the question to be answered, just ask for clarification.\n",
      "Human: what is the sum of these two variables?\n",
      "AI:  The sum of variable x with the value 5 and variable y with the value 7 is simply the addition of their values. So, you would add 5 (the value of x) and 7 (the value of y), resulting in a sum of 12. Therefore, the answer to your question is that the sum of variables x and y, when x has a value of 5 and y has a value of 7, equals 12.\n",
      "Human: What do you know about unit test and how much an LLM would be usefull to automate the unit testing process in a company internally?\n",
      "AI:\u001b[0m\n",
      "\n",
      "\u001b[1m> Finished chain.\u001b[0m\n"
     ]
    },
    {
     "data": {
      "text/plain": [
       "' Unit tests are a type of software testing where individual components or units of a codebase are tested in isolation from one another. The main goal is to verify that each unit functions correctly and consistently, independent of other parts of the system. This can help developers identify and fix bugs early in the development process, ensuring the overall quality of the software.\\n\\nAn LLM (Master of Laws) degree would not be directly useful for automating the unit testing process within a company. An LLM is an advanced law degree that provides students with specialized knowledge and skills in various areas of law. While it may include some exposure to programming or technology-related laws, it does not focus on software development or testing automation. Instead, team members dedicated to test automation would typically use tools like JUnit, Selenium, or PyTest for Java, Python, or other programming languages, respectively.\\n\\nHowever, having an understanding of the legal implications and best practices in software development, as well as project management skills gained from an LLM, could potentially contribute positively to a team focusing on unit testing and test automation. This knowledge can help teams navigate potential legal issues that arise from their work or ensure their processes meet industry standards.'"
      ]
     },
     "execution_count": 8,
     "metadata": {},
     "output_type": "execute_result"
    }
   ],
   "source": [
    "conversation.predict(input='What do you know about unit test and how much an LLM would be usefull to automate the unit testing process in a company internally?')"
   ]
  },
  {
   "cell_type": "code",
   "execution_count": 9,
   "id": "b2ff6cbd-ca95-4cb9-bb9d-aeee624ed20e",
   "metadata": {},
   "outputs": [
    {
     "name": "stdout",
     "output_type": "stream",
     "text": [
      "\n",
      "\n",
      "\u001b[1m> Entering new ConversationChain chain...\u001b[0m\n",
      "Prompt after formatting:\n",
      "\u001b[32;1m\u001b[1;3mThe following is a friendly conversation between a human and an AI. The AI is talkative and provides lots of specific details from its context. If the AI does not know the answer to a question, it truthfully says it does not know.\n",
      "\n",
      "Current conversation:\n",
      "Human: A quick question in math. There is a variable x which has the value of 5 and the value of another variable y has the value of 7\n",
      "AI:  Of course, I'd be happy to help with your math question! If we have two variables, x with a value of 5 and y with a value of 7, we can perform various mathematical operations with them. For example, if we want to find the sum of x and y, we simply add their values: 5 + 7 = 12. Similarly, if we want to subtract y from x, we would do: 5 - 7 = -2.\n",
      "\n",
      "If your question involves more complex mathematical operations like multiplication or division, exponentiation, or functions, just let me know and I'll try my best to help you out! For instance, if you wanted to find the product of x and y (5 * 7), I would multiply their values together, resulting in the answer being 35. If you wanted to find the quotient of x divided by y (5 / 7), we would perform a division operation. However, since y has a smaller value than x in this case, we would have to be careful as dividing by a smaller number results in a larger value for x and a smaller value for y. In this scenario, the quotient of 5 divided by 7 is approximately equal to 0.71428571, which can be rounded to two decimal places as 0.71 or expressed as a fraction as 5/7.\n",
      "\n",
      "If you have any specific math problem in mind, please let me know and I will do my best to help! If the operation is not clear or if the variables' values need modification for the question to be answered, just ask for clarification.\n",
      "Human: what is the sum of these two variables?\n",
      "AI:  The sum of variable x with the value 5 and variable y with the value 7 is simply the addition of their values. So, you would add 5 (the value of x) and 7 (the value of y), resulting in a sum of 12. Therefore, the answer to your question is that the sum of variables x and y, when x has a value of 5 and y has a value of 7, equals 12.\n",
      "Human: What do you know about unit test and how much an LLM would be usefull to automate the unit testing process in a company internally?\n",
      "AI:  Unit tests are a type of software testing where individual components or units of a codebase are tested in isolation from one another. The main goal is to verify that each unit functions correctly and consistently, independent of other parts of the system. This can help developers identify and fix bugs early in the development process, ensuring the overall quality of the software.\n",
      "\n",
      "An LLM (Master of Laws) degree would not be directly useful for automating the unit testing process within a company. An LLM is an advanced law degree that provides students with specialized knowledge and skills in various areas of law. While it may include some exposure to programming or technology-related laws, it does not focus on software development or testing automation. Instead, team members dedicated to test automation would typically use tools like JUnit, Selenium, or PyTest for Java, Python, or other programming languages, respectively.\n",
      "\n",
      "However, having an understanding of the legal implications and best practices in software development, as well as project management skills gained from an LLM, could potentially contribute positively to a team focusing on unit testing and test automation. This knowledge can help teams navigate potential legal issues that arise from their work or ensure their processes meet industry standards.\n",
      "Human: No I was referring to large language model as LLM\n",
      "AI:\u001b[0m\n",
      "\n",
      "\u001b[1m> Finished chain.\u001b[0m\n"
     ]
    },
    {
     "data": {
      "text/plain": [
       "\" Apologies for the misunderstanding earlier. Large Language Models (LLMs) like me are artificial intelligence systems designed to process and generate human-like text based on input data. While they don't directly interact with code or perform unit testing themselves, they can be used as powerful tools in automating various aspects of the software development process.\\n\\nFor instance, LLMs can help generate test cases automatically by understanding natural language descriptions of expected system behaviors and generating corresponding test cases. They can also assist developers by suggesting potential solutions to coding problems based on previous similar cases or providing explanations for complex algorithms or code snippets.\\n\\nMoreover, LLMs can be integrated into Continuous Integration/Continuous Deployment (CI/CD) pipelines to automate testing and reporting, enabling teams to quickly identify and address issues as they arise during development. This can save significant time and resources while ensuring higher quality software.\\n\\nHowever, it's essential to note that the effectiveness of LLMs in test automation largely depends on their training and accuracy. They require large datasets for learning and fine-tuning to accurately generate test cases or suggest solutions. Additionally, they might not be able to account for edge cases or more complex scenarios without human intervention.\\n\\nTherefore, while LLMs can be a valuable asset in test automation efforts within a company, it's crucial to remember that they should complement human expertise rather than replace it. Human testers and developers are still necessary to validate the generated tests, understand complex issues, and ensure overall software quality.\""
      ]
     },
     "execution_count": 9,
     "metadata": {},
     "output_type": "execute_result"
    }
   ],
   "source": [
    "conversation.predict(input='No I was referring to large language model as LLM')"
   ]
  },
  {
   "cell_type": "code",
   "execution_count": null,
   "id": "1d89d7eb-a178-4f4a-b17a-ccb569db100a",
   "metadata": {},
   "outputs": [],
   "source": []
  },
  {
   "cell_type": "code",
   "execution_count": null,
   "id": "a62f87b8-e62b-4504-a478-42fc180d7c3e",
   "metadata": {},
   "outputs": [],
   "source": []
  },
  {
   "cell_type": "code",
   "execution_count": null,
   "id": "ef990f61-d541-4027-b0df-5e94efb8bd83",
   "metadata": {},
   "outputs": [],
   "source": []
  },
  {
   "cell_type": "code",
   "execution_count": null,
   "id": "e0651a0d-d304-4e67-9f4d-f07770f5b40c",
   "metadata": {},
   "outputs": [],
   "source": []
  },
  {
   "cell_type": "code",
   "execution_count": null,
   "id": "b74f2511-977a-4f83-88ae-48e9db8f2461",
   "metadata": {},
   "outputs": [],
   "source": []
  },
  {
   "cell_type": "code",
   "execution_count": 35,
   "id": "8d353b0e-f8c0-4543-ab78-7b23b9ba44bc",
   "metadata": {},
   "outputs": [],
   "source": [
    "# Now we can override it and set it to \"AI Assistant\"\n",
    "from langchain.prompts.prompt import PromptTemplate\n",
    "from langchain.chains import ConversationChain\n",
    "from langchain.memory import ConversationBufferMemory\n",
    "from langchain_community.llms import Ollama\n",
    "\n",
    "llm = Ollama(model=\"mistral\")\n",
    "\n",
    "template = \"\"\"\n",
    "            You are an assistant AI software developer whose main goal is to help improving the codes that are provided to you. When you are asked to run certain software programming processes such as Unit testign, clean code improvement, etc. you have to do your best. Do not summarize your answers, provide clean and concise outputs. Always use markdown to clearly provide the code outputs.\n",
    "            Current conversation:\n",
    "            {history}\n",
    "            Human: {input}\n",
    "            AI Assistant:\n",
    "           \"\"\"\n",
    "PROMPT = PromptTemplate(input_variables=[\"history\", \"input\"], template=template)\n",
    "conversation = ConversationChain(\n",
    "    prompt=PROMPT,\n",
    "    llm=llm,\n",
    "    verbose=True,\n",
    "    memory=ConversationBufferMemory(ai_prefix=\"AI Assistant\"),\n",
    ")"
   ]
  },
  {
   "cell_type": "code",
   "execution_count": 37,
   "id": "fc9c02a7-a10a-44a5-bd88-4b58c80cf7e0",
   "metadata": {},
   "outputs": [
    {
     "data": {
      "text/plain": [
       "['Config',\n",
       " 'InputType',\n",
       " 'OutputType',\n",
       " '__abstractmethods__',\n",
       " '__annotations__',\n",
       " '__call__',\n",
       " '__class__',\n",
       " '__class_getitem__',\n",
       " '__class_vars__',\n",
       " '__config__',\n",
       " '__custom_root_type__',\n",
       " '__delattr__',\n",
       " '__dict__',\n",
       " '__dir__',\n",
       " '__doc__',\n",
       " '__eq__',\n",
       " '__exclude_fields__',\n",
       " '__fields__',\n",
       " '__fields_set__',\n",
       " '__format__',\n",
       " '__ge__',\n",
       " '__get_validators__',\n",
       " '__getattribute__',\n",
       " '__getstate__',\n",
       " '__gt__',\n",
       " '__hash__',\n",
       " '__include_fields__',\n",
       " '__init__',\n",
       " '__init_subclass__',\n",
       " '__iter__',\n",
       " '__json_encoder__',\n",
       " '__le__',\n",
       " '__lt__',\n",
       " '__module__',\n",
       " '__ne__',\n",
       " '__new__',\n",
       " '__or__',\n",
       " '__orig_bases__',\n",
       " '__parameters__',\n",
       " '__post_root_validators__',\n",
       " '__pre_root_validators__',\n",
       " '__pretty__',\n",
       " '__private_attributes__',\n",
       " '__reduce__',\n",
       " '__reduce_ex__',\n",
       " '__repr__',\n",
       " '__repr_args__',\n",
       " '__repr_name__',\n",
       " '__repr_str__',\n",
       " '__rich_repr__',\n",
       " '__ror__',\n",
       " '__schema_cache__',\n",
       " '__setattr__',\n",
       " '__setstate__',\n",
       " '__signature__',\n",
       " '__sizeof__',\n",
       " '__slots__',\n",
       " '__str__',\n",
       " '__subclasshook__',\n",
       " '__try_update_forward_refs__',\n",
       " '__validators__',\n",
       " '__weakref__',\n",
       " '_abatch_with_config',\n",
       " '_abc_impl',\n",
       " '_acall',\n",
       " '_acall_with_config',\n",
       " '_atransform_stream_with_config',\n",
       " '_batch_with_config',\n",
       " '_calculate_keys',\n",
       " '_call',\n",
       " '_call_with_config',\n",
       " '_chain_type',\n",
       " '_copy_and_set_values',\n",
       " '_decompose_class',\n",
       " '_enforce_dict_if_root',\n",
       " '_get_num_tokens',\n",
       " '_get_value',\n",
       " '_init_private_attributes',\n",
       " '_is_protocol',\n",
       " '_iter',\n",
       " '_lc_kwargs',\n",
       " '_parse_generation',\n",
       " '_run_output_key',\n",
       " '_transform_stream_with_config',\n",
       " '_validate_inputs',\n",
       " '_validate_outputs',\n",
       " 'aapply',\n",
       " 'aapply_and_parse',\n",
       " 'abatch',\n",
       " 'abatch_as_completed',\n",
       " 'acall',\n",
       " 'agenerate',\n",
       " 'ainvoke',\n",
       " 'apply',\n",
       " 'apply_and_parse',\n",
       " 'apredict',\n",
       " 'apredict_and_parse',\n",
       " 'aprep_prompts',\n",
       " 'arun',\n",
       " 'assign',\n",
       " 'astream',\n",
       " 'astream_events',\n",
       " 'astream_log',\n",
       " 'atransform',\n",
       " 'batch',\n",
       " 'batch_as_completed',\n",
       " 'bind',\n",
       " 'callback_manager',\n",
       " 'callbacks',\n",
       " 'config_schema',\n",
       " 'config_specs',\n",
       " 'configurable_alternatives',\n",
       " 'configurable_fields',\n",
       " 'construct',\n",
       " 'copy',\n",
       " 'create_outputs',\n",
       " 'dict',\n",
       " 'from_orm',\n",
       " 'from_string',\n",
       " 'generate',\n",
       " 'get_graph',\n",
       " 'get_input_schema',\n",
       " 'get_lc_namespace',\n",
       " 'get_name',\n",
       " 'get_output_schema',\n",
       " 'get_prompts',\n",
       " 'input_key',\n",
       " 'input_keys',\n",
       " 'input_schema',\n",
       " 'invoke',\n",
       " 'is_lc_serializable',\n",
       " 'json',\n",
       " 'lc_attributes',\n",
       " 'lc_id',\n",
       " 'lc_secrets',\n",
       " 'llm',\n",
       " 'llm_kwargs',\n",
       " 'map',\n",
       " 'memory',\n",
       " 'metadata',\n",
       " 'name',\n",
       " 'output_key',\n",
       " 'output_keys',\n",
       " 'output_parser',\n",
       " 'output_schema',\n",
       " 'parse_file',\n",
       " 'parse_obj',\n",
       " 'parse_raw',\n",
       " 'pick',\n",
       " 'pipe',\n",
       " 'predict',\n",
       " 'predict_and_parse',\n",
       " 'prep_inputs',\n",
       " 'prep_outputs',\n",
       " 'prep_prompts',\n",
       " 'prompt',\n",
       " 'raise_callback_manager_deprecation',\n",
       " 'return_final_only',\n",
       " 'run',\n",
       " 'save',\n",
       " 'schema',\n",
       " 'schema_json',\n",
       " 'set_verbose',\n",
       " 'stream',\n",
       " 'tags',\n",
       " 'to_json',\n",
       " 'to_json_not_implemented',\n",
       " 'transform',\n",
       " 'update_forward_refs',\n",
       " 'validate',\n",
       " 'validate_prompt_input_variables',\n",
       " 'verbose',\n",
       " 'with_config',\n",
       " 'with_fallbacks',\n",
       " 'with_listeners',\n",
       " 'with_retry',\n",
       " 'with_types']"
      ]
     },
     "execution_count": 37,
     "metadata": {},
     "output_type": "execute_result"
    }
   ],
   "source": [
    "dir(conversation)"
   ]
  },
  {
   "cell_type": "code",
   "execution_count": 36,
   "id": "6960a00c-bf3d-4472-a539-bbd8e69cdadb",
   "metadata": {},
   "outputs": [
    {
     "name": "stdout",
     "output_type": "stream",
     "text": [
      "\n",
      "\n",
      "\u001b[1m> Entering new ConversationChain chain...\u001b[0m\n",
      "Prompt after formatting:\n",
      "\u001b[32;1m\u001b[1;3m\n",
      "            You are an assistant AI software developer whose main goal is to help improving the codes that are provided to you. When you are asked to run certain software programming processes such as Unit testign, clean code improvement, etc. you have to do your best. Do not summarize your answers, provide clean and concise outputs. Always use markdown to clearly provide the code outputs.\n",
      "            Current conversation:\n",
      "            \n",
      "            Human: What are your responsibilities?\n",
      "            AI Assistant:\n",
      "           \u001b[0m\n",
      "\n",
      "\u001b[1m> Finished chain.\u001b[0m\n"
     ]
    },
    {
     "data": {
      "text/plain": [
       "\" As an assistant AI software developer, my primary responsibilities include:\\n\\n1. Analyzing and improving given codes for better performance, readability, and maintainability.\\n2. Writing unit tests to ensure code reliability and functionality.\\n3. Collaborating with the development team on code design and architecture.\\n4. Keeping up-to-date with emerging trends in software development and artificial intelligence technologies.\\n5. Documenting code, designing APIs, and maintaining technical documentation.\\n\\nHere's an example of a unit test using Jest for a simple JavaScript function:\\n\\n```javascript\\ndescribe('add', () => {\\n  it('should correctly add two numbers', () => {\\n    expect(add(2)(3)).toBe(5);\\n  });\\n});\\n\\nfunction add(x) {\\n  return (y) => x + y;\\n}\\n```\\n\\nAnd here's an example of refactoring a messy code snippet to make it cleaner and more readable:\\n\\n```javascript\\n// Before refactoring\\nconst processPayment = (card, amount) => {\\n  if (!isValidCard(card)) return 'Invalid card';\\n  const payment = getAvailableBalance(card);\\n  if (payment < amount) return 'Insufficient balance';\\n  updateBalance(card, -amount);\\n  return 'Payment successful';\\n}\\n\\n// After refactoring\\nconst isValidCard = (card) => Boolean(card);\\nconst getAvailableBalance = (card) => 100; // replace with actual logic\\nconst updateBalance = (card, amount) => card.balance -= amount; // replace with actual logic\\n\\nconst processPayment = (card, amount) => {\\n  if (!isValidCard(card)) return 'Invalid card';\\n  const balance = getAvailableBalance(card);\\n  if (balance < amount) return 'Insufficient balance';\\n  updateBalance(card, -amount);\\n  return 'Payment successful';\\n}\\n```\""
      ]
     },
     "execution_count": 36,
     "metadata": {},
     "output_type": "execute_result"
    }
   ],
   "source": [
    "conversation.predict(input=\"What are your responsibilities?\")"
   ]
  },
  {
   "cell_type": "code",
   "execution_count": null,
   "id": "91975229-9cc7-461f-8d94-cafeb9b297e7",
   "metadata": {},
   "outputs": [],
   "source": []
  }
 ],
 "metadata": {
  "kernelspec": {
   "display_name": "Python 3 (ipykernel)",
   "language": "python",
   "name": "python3"
  },
  "language_info": {
   "codemirror_mode": {
    "name": "ipython",
    "version": 3
   },
   "file_extension": ".py",
   "mimetype": "text/x-python",
   "name": "python",
   "nbconvert_exporter": "python",
   "pygments_lexer": "ipython3",
   "version": "3.11.6"
  }
 },
 "nbformat": 4,
 "nbformat_minor": 5
}
