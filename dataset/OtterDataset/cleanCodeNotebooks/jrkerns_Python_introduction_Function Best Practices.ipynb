{
 "cells": [
  {
   "cell_type": "markdown",
   "metadata": {},
   "source": [
    "# Function Best Practices\n",
    "\n",
    "Functions (aka routines), after variables, are the next evolution in complexity management. Well-designed variables and pseudocode make statments easier to read. Accordingly, functions should make groups of statements easier to understand by designating that group of statements as having a singular purpose."
   ]
  },
  {
   "cell_type": "markdown",
   "metadata": {},
   "source": [
    "### Functions should do one thing and do it well\n",
    "\n",
    "This is the governing rule for a good function/routine. Signs of a good function:\n",
    "* **The purpose/goal is clear and specific.** It should be expressable in a phrase or sentence. E.g. \"Find the centroid of the biggest blob of the input image.\"\n",
    "* **All types of input/output is handled.** The function should be able to handle all variations of the I/O it claims to handle. E.g. if the function accepts a numeric array can it handle all data types like unsigned integers, boolean, and exponential notation?\n",
    "* **The function should document it's goal, descriptions of parameters and parameter types and the output.** Documentation, while not the focus of this notebook, is a sign of a well-designed function. Documentation gives the user a clear explanation of what the function does and what it expects as input and will return as output."
   ]
  },
  {
   "cell_type": "markdown",
   "metadata": {},
   "source": [
    "### Reasons to create a routine\n",
    "\n",
    "* **Reduce & isolate complexity** If a script is 200 lines long but there are only 3 major steps to accomplish, it may suggest that some of the code is only for setting up for an important statement. This could be refactored into a handful of functions.\n",
    "* **Introduce an abstraction** Many times, statements can be written that are several lines long, but whose purpose is straightforward. Instead of leaving strange-looking code scattered throughout your program, it is better to build helper functions that accomplish your *purpose*.\n",
    "* **Avoid duplicate code** Creating helper functions or functions to reduce complexity is smart. What makes them smarter is the ability to reuse them later on. If the implementation is trivial but important, it's worth putting into it's own function. If the implementation ever changes, only one change needs to be made instead of several later.\n",
    "* **Hide implementation details** Many times, you don't care how something is done. Especially when it takes several lines of code to do \"this one thing\". It's easier to read and understand if the implementation is hidden for the purposes of clean code.\n",
    "* **Simplify boolean expressions** As mentioned in the Variables notebook, complicated boolean tests should be abstracted. Functions can also help with this if more complex interaction is needed to make a simple yes/no, go/stop, up/down, etc decision.\n",
    "* **Easier refactoring** If your program is long and complicated, breaking up the implementation into steps/functions allow one to change one step while not affecting others. E.g. if your advisor wants you to search for a different criterion for finding a set of data, if it's in a function then all of the details are both hidden, and won't affect the rest of your program. If your I/O is the same, you are free to change the implementation without disturbing your precious program."
   ]
  },
  {
   "cell_type": "markdown",
   "metadata": {},
   "source": [
    "### Function Naming\n",
    "\n",
    "Function names should follow a few guidelines:\n",
    "* **Describe everything the routine does.** If it takes many words to describe your routine, it might be too big. You should break it up into a set of smaller routines.\n",
    "* **Be specific.** Names like ``process_output()`` is too generic; ``find_nearest_point()`` is more specific. If you can't be specific it's a sign you should break up the routine into multiple ones.\n",
    "* **Don't differentiate similar routines by number.** ``open_file2()`` doesn't say anything about it's difference to ``open_file()``, whereas ``open_zip_file()`` does.\n",
    "* **Use a strong verb and an object.** Routines normally operate by manipulating some input data and returning either modified data or a decision about that data. Name your routine based on what modification is happening to that data. E.g. ``find_max_area()``, ``run_anova()``, ``drop_columns()``.\n",
    "* **Alternatively, describe the output value** This is not mutually exclusive of the above point, but especially if the routine is about getting something out of the data or returning a status, that should be included. E.g. ``current_color()``, ``get_default_printer()``.\n",
    "* **Use opposites for pairs.** Like variables, functions should use appropriate opposites, like ``open_file()`` and ``close_file()`` and ``start_timer()`` and ``stop_timer()``. \n",
    "* **Unlike variables, length shouldn't be a concern.** Functions are usually more complicated than variables, so use a name that fully describes what the function does, but it shouldn't be overly long (see first point).\n",
    "  "
   ]
  },
  {
   "cell_type": "markdown",
   "metadata": {
    "collapsed": true
   },
   "source": [
    "### Routine length\n",
    "\n",
    "The process of breaking down steps and hiding implementation can be extended *ad infinitum*, so how long should routines be? Studies during the 80's and 90's determined that short routines (less than 30 lines ) were no less error prone than longer routines, while other studies found no correlation. Other studies found more errors in routines of >200 and >500 lines of code. \n",
    "\n",
    "Thus, while no conclusive length can be given, **a good rule of thumb is <200 lines**. Others, based on aesthetics, say **it should roughly fit on one screen.** \n",
    "\n",
    "**The longer the routine, the more cognitive memory you must allocate to understand it.**\n",
    "\n",
    "YMMV\n"
   ]
  },
  {
   "cell_type": "markdown",
   "metadata": {},
   "source": [
    "### Parameters\n",
    "\n",
    "Parameters are the input arguments you give to a function. When you create the function you must also designate what (if anything) will be passed to the function that will be modified or used in the calculation. Some rules of thumb about parameters:\n",
    "* **Keep the number of parameters below 7.** After that, too much cognitive space must be given to simultaneously handling all the parameters, let alone the algorithm itself. If you can't keep the number of parameters low, it's a sign you should move to a class or break up the routine into multiple smaller ones.\n",
    "* **Put larger/important data structures at the front and put flags/status parameters at the end.** You might end up adding a flag or two after refactoring your function, but the main input data should stay the same. Generally, you want to order your parameters via stability/importance. E.g. take a function signature like\n",
    "```python\n",
    "    def move_car(car, direction, with_turbo, moonroof_open):\n",
    "        ...\n",
    "```\n",
    "  No matter what might change about your function, it's extremely likely you'll always need the ``car`` object. It's also very likely you'll need the ``direction``. What is less likely is using a turbo or having a moonroof; possible, but not necessary.\n",
    "* **Don't mess with the input parameters.** Unless the explicit goal of the function is to modify the input data, the function shouldn't alter the parameters. E.g. don't do this:\n",
    "```python\n",
    "    # bad practice\n",
    "    def find_best_path(start_point, end_point, speed=50, traffic='busy'):\n",
    "        ...\n",
    "        speed -= 20\n",
    "        ...\n",
    "        traffic = 'light'\n",
    "        ...\n",
    "```\n",
    " Instead, use local variables:\n",
    "```python\n",
    "    def find_best_path(start_point, end_point, speed=50, traffic='busy'):\n",
    "        current_speed = speed\n",
    "        current_traffic = traffic\n",
    "        ...\n",
    "        current_speed -= 20\n",
    "        ...\n",
    "        current_traffic = 'light'\n",
    "        ...\n",
    "```"
   ]
  },
  {
   "cell_type": "markdown",
   "metadata": {},
   "source": [
    "### Checklist for creating high-quality functions\n",
    "\n",
    "* Is the reason for creating a routine sufficient?\n",
    "* Does the function have *one* clear goal?\n",
    "* Does the routine's name have a clear, strong object-verb pair name or a description of the return value?\n",
    "* Does the routine's name describe everything the function does?\n",
    "* Does the routine handle all variations of the expected input?\n",
    "* Are there <7 parameters?\n",
    "* Are the important parameters the first ones?\n",
    "* Are the parameters documented?\n",
    "* Is the output documented?\n",
    "* Are the initial parameters unmodified?\n"
   ]
  },
  {
   "cell_type": "code",
   "execution_count": null,
   "metadata": {
    "collapsed": true
   },
   "outputs": [],
   "source": []
  }
 ],
 "metadata": {
  "kernelspec": {
   "display_name": "Python 3",
   "language": "python",
   "name": "python3"
  },
  "language_info": {
   "codemirror_mode": {
    "name": "ipython",
    "version": 3
   },
   "file_extension": ".py",
   "mimetype": "text/x-python",
   "name": "python",
   "nbconvert_exporter": "python",
   "pygments_lexer": "ipython3",
   "version": "3.4.3"
  }
 },
 "nbformat": 4,
 "nbformat_minor": 0
}
