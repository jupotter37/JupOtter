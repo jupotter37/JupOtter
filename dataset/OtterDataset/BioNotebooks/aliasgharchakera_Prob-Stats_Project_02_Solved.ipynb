{
  "cells": [
    {
      "cell_type": "markdown",
      "metadata": {
        "id": "Y2WOgzp6c9kr"
      },
      "source": [
        "# Setup"
      ]
    },
    {
      "cell_type": "code",
      "execution_count": 1,
      "metadata": {
        "id": "a2EMpr1aY6VW"
      },
      "outputs": [],
      "source": [
        "# Importing the required modules\n",
        "import numpy as np\n",
        "import pandas as pd\n",
        "import matplotlib.pyplot as plt\n",
        "import scipy.stats as stats\n",
        "import math\n",
        "\n",
        "# Libraries Imported for Verifying your results in Task 02\n",
        "from sklearn.feature_extraction.text import CountVectorizer\n",
        "from sklearn.feature_extraction.text import TfidfTransformer\n",
        "from sklearn.model_selection import train_test_split\n",
        "from sklearn.naive_bayes import BernoulliNB\n",
        "from sklearn import metrics\n",
        "\n"
      ]
    },
    {
      "cell_type": "code",
      "execution_count": 2,
      "metadata": {
        "colab": {
          "base_uri": "https://localhost:8080/"
        },
        "id": "XmB5ZC_iJVJw",
        "outputId": "87ee809f-adb3-419d-bf01-07bbb2b2b8b6"
      },
      "outputs": [
        {
          "output_type": "stream",
          "name": "stdout",
          "text": [
            "Downloading...\n",
            "From: https://drive.google.com/uc?id=134-Blu7RRQ8s-MN4kaoih9Gx2TwObxIo\n",
            "To: /content/TextClassification_Data.csv\n",
            "\r  0% 0.00/3.38M [00:00<?, ?B/s]\r100% 3.38M/3.38M [00:00<00:00, 63.9MB/s]\n"
          ]
        }
      ],
      "source": [
        "# Downloading CSV Dataset for Naive Bayes\n",
        "!gdown  https://drive.google.com/uc?id=134-Blu7RRQ8s-MN4kaoih9Gx2TwObxIo"
      ]
    },
    {
      "cell_type": "markdown",
      "metadata": {
        "id": "2Ur0TanwrLok"
      },
      "source": [
        "# [40 Marks] Task 1: A drunkard's walk\n"
      ]
    },
    {
      "cell_type": "markdown",
      "metadata": {
        "id": "3UU1nukstphi"
      },
      "source": [
        "## Random Walk\n",
        "A random walk is a mathematical object, known as a stochastic or random process, that describes a path that consists of a succession of random steps on some mathematical space such as the integers. Mathematical modelling of the movement of animals,  micro-organisms and cells is of great relevance in the fields of biology, ecology and medicine. "
      ]
    },
    {
      "cell_type": "markdown",
      "metadata": {
        "id": "FWOuUYiVtqKj"
      },
      "source": [
        "## Simulating the Drunkard\n",
        "A very simple random walk can be simulated by imagining an object starting at $x=0$ on a number line. The object is going to take an $n$ number of steps of one unit each, where each step can be right or left with probabilities $p$ and $1-p$ respectively.\n",
        "\n",
        "Intuitively one can judge that if $p=0.5$, then the object will return to its starting position often, or at least close to it. We are going to confirm this using simulation."
      ]
    },
    {
      "cell_type": "markdown",
      "metadata": {
        "id": "d3M7kLyMtqvi"
      },
      "source": [
        "## Experiment\n",
        "\n",
        "The number of steps to the left or right as determined by the probabilities (p to go right, 1 - p to move left) is given by n. This procedure will be repeated SIM TIMES times, and you can use the data to calculate the expected position of the object. Even if we use p=0.5, the predicted value will not always be zero because this is a simulation."
      ]
    },
    {
      "cell_type": "markdown",
      "metadata": {
        "id": "0ihGt0Rpuqcq"
      },
      "source": [
        "## Task Overview \n",
        "In this Task, you will be simulating a Drunkard's Walk which has been split into three parts.\n",
        "- In Part A, you are required to express the end position of the object as a Linear Function\n",
        "- In Part B, you are required to simulate the Experiment based on the Linear Function you derived in Part A.\n",
        "- In Part C, you are required to interpret the results when the experiment is repeated for multiple values of n."
      ]
    },
    {
      "cell_type": "markdown",
      "metadata": {
        "id": "uxz5YApam4pI"
      },
      "source": [
        "## [10 Marks] Part A : Linear Function\n",
        "\n",
        "**Express the ending position in terms of a linear function using binomial random variable $X$ with parameters $n,p$ and the variable $n$.**"
      ]
    },
    {
      "cell_type": "markdown",
      "metadata": {
        "id": "4WsWdBrmPKKu"
      },
      "source": [
        "\n",
        "**Answer:** Expression\n",
        "\n",
        "The expression for the ending postion *f(x)* is written in terms of x, which are the steps taken is the right direction, and n-x, which are steps taken in the left direction, where n are the total number of steps taken. \\\n",
        "Hence we add these together to get the final postion.\\\n",
        "*f(x)=x-(n-x)*\n",
        "\n",
        "*f(x)=2x-n*\n",
        "\n"
      ]
    },
    {
      "cell_type": "markdown",
      "metadata": {
        "id": "eEf6x1_MG6ZT"
      },
      "source": [
        "## [20 Marks] Part B : Random Walk\n",
        "\n",
        "**Complete the function $\\texttt{random_walk}$ which simulates a binomial random variable with parameters $(n,p)$ $\\texttt{SIM_TIMES}$ and computes the expected value of the random variable (using simulation data) and plots the histogram of the distribution of simulation results.**\n",
        "\n",
        "**Run this function for $n=100,p=0.5,\\texttt{SIM_TIMES}=100,000$ and another set of values of your choice.**"
      ]
    },
    {
      "cell_type": "code",
      "execution_count": null,
      "metadata": {
        "colab": {
          "base_uri": "https://localhost:8080/",
          "height": 354
        },
        "id": "amhWkgPkLkDe",
        "outputId": "33fcc726-be87-4586-d002-c095748af106"
      },
      "outputs": [
        {
          "data": {
            "image/png": "[encoded data removed]",
            "text/plain": [
              "<Figure size 1000x500 with 1 Axes>"
            ]
          },
          "metadata": {},
          "output_type": "display_data"
        },
        {
          "data": {
            "text/plain": [
              "-0.077"
            ]
          },
          "execution_count": 24,
          "metadata": {},
          "output_type": "execute_result"
        }
      ],
      "source": [
        "def random_walk(n,p,SIM_TIMES):\n",
        "  # TODO: Complete the function\n",
        "\n",
        "  #compute the binomial random variable using the given parameters and the above defined function\n",
        "  fx=0\n",
        "  x= np.random.binomial(n,p,SIM_TIMES)\n",
        "  fx= (2*x)-n\n",
        "  #print(fx)  \n",
        "\n",
        "  #draw the histogram\n",
        "  bars=plt.figure(figsize=(10,5))\n",
        "\n",
        "  plt.hist(fx,bins=\"auto\")\n",
        "  plt.title(\"Random walk\")\n",
        "\n",
        "  plt.show()\n",
        "\n",
        "\n",
        "  #return the mean\n",
        "  return np.mean(fx)\n",
        "\n",
        "  #pass\n",
        "\n",
        "random_walk(1000,0.5,10000)"
      ]
    },
    {
      "cell_type": "markdown",
      "metadata": {
        "id": "EJhidbEsG9U6"
      },
      "source": [
        "## [10 Marks] Part C : Result Interpretation\n",
        "\n",
        "**Complete the function $\\texttt{part_3}$ such that given $p,\\texttt{SIM_TIMES}$ it computes $$\\frac{2n}{\\text{(Expected Distance from Origin)^2}}$$ for $n=1000,2000,3000,\\dots,100,000$\n",
        "and draw a _line chart_ of the obtained values.**\n",
        "\n",
        "**Then test the function on $p=0.5,\\texttt{SIM_TIMES} =10,000$ and write down anything interesting you notice about the graph.**"
      ]
    },
    {
      "cell_type": "code",
      "execution_count": null,
      "metadata": {
        "colab": {
          "base_uri": "https://localhost:8080/",
          "height": 279
        },
        "id": "g9mll8LJPGfB",
        "outputId": "3533d7ae-95a2-4e1e-bb3e-8808d04287f2"
      },
      "outputs": [
        {
          "data": {
            "image/png": "[encoded data removed]",
            "text/plain": [
              "<Figure size 640x480 with 1 Axes>"
            ]
          },
          "metadata": {},
          "output_type": "display_data"
        }
      ],
      "source": [
        "def part_3(p,SIM_TIMES):\n",
        "  # TODO: Complete the function and remember to label the axes appropriately\n",
        "  nlst=[]\n",
        "  for i in range(1000,100001,1000):\n",
        "    nlst.append(i)\n",
        "    \n",
        "  formulalst=[]\n",
        "  fx=0\n",
        "  for j in nlst:\n",
        "    #random walk calculation from last part\n",
        "    x= np.random.binomial(j,p,SIM_TIMES)\n",
        "    fx= (2*x)-j\n",
        "    meann=np.mean(np.abs(fx))\n",
        "    #input into the given formula\n",
        "    formula=(2*j)/(meann)**2\n",
        "    formulalst.append(formula)\n",
        "    \n",
        "  #plotting\n",
        "  plt.xlabel('values of n')\n",
        "  plt.ylabel('absolute distance')\n",
        "  plt.plot(nlst,formulalst)\n",
        "  plt.plot()\n",
        "\n",
        "\n",
        "  #pass\n",
        "\n",
        "part_3(0.5,100000)"
      ]
    },
    {
      "cell_type": "markdown",
      "metadata": {
        "id": "bSlwFtn3FLAd"
      },
      "source": [
        "The plotted graph seems to be a fluctuating graph near the value of pi. A reason for this could be that for every n there is a different mean. Which gives us different peaks but they all converge towards the value of pi.\n"
      ]
    },
    {
      "cell_type": "markdown",
      "metadata": {
        "id": "kSQiT19wdDlM"
      },
      "source": [
        "# [50 Marks] Task 2 : Maximum Likehlihood Estimation\n",
        "\n"
      ]
    },
    {
      "cell_type": "markdown",
      "metadata": {
        "id": "ALLwgeAQLGbd"
      },
      "source": [
        "## Theoretical Background\n",
        "\n",
        "A common task in statistics is estimating a joint probability distribution \n",
        "given a dataset. For example, suppose you have a sample of observations $(X)$ from a domain $(x_1, x_2, x_3, ⋯, x_n)$, and each observation is taken separately from the domain with the same probability distribution. Density estimation entails choosing a probability distribution function and the distribution's parameters that best describe the observed data's joint probability distribution $(X)$. Maximum a Posteriori (MAP), a Bayesian approach, and Maximum Likelihood Estimation (MLE), a frequentist approach, are the two most popular approaches to solving this problem. However, we will just be discussing MLE in this section.  \n",
        "\n",
        "Maximum Likelihood Estimation entails approaching the situation as an optimization or search problem, in which we seek a set of parameters that results in the best fit for the joint probability of the data sample ($X$).\n",
        "In Maximum Likelihood Estimation, we wish to maximize the probability of observing the data from the joint probability distribution given a specific probability distribution and its parameters, stated formally as:\n",
        "\n",
        "$$ P ( X \\mid \\theta) $$\n",
        "where $\\theta$ is the unknown parameter(s).\n",
        "\n",
        "The resulting conditional probability is referred to as the likelihood of observing the data given the model parameters and is written using the notation $L()$ to denote the likelihood function. For example,\n",
        "$$ L (X \\mid \\theta) $$\n",
        "\n",
        "**Note :** Likelihood is defined as probability of the data given the model.\n",
        "\n",
        "The objective of Maximum Likelihood Estimation is to find set of parameters $(\\theta)$ that maximize the likelihood function.\n",
        "$$ \\text{ maximize } L ( X \\mid \\theta) $$\n",
        "\n",
        "Given that the sample is comprised of $n$ examples, we can frame this as the joint probability of the observed data samples $x_1,x_2, \\cdots, x_n$ given the Probability distribution parameters $(\\theta)$:\n",
        "\n",
        "$$ L (x_1, x_2, \\cdots, x_n \\mid \\theta) $$\n",
        "\n",
        "The joint probability distribution can be restated as the multiplication of the conditional probability for observing each example given the distribution parameters. \n",
        "\n",
        "$$ P ( X | \\theta)  =  P ( x_1, x_2, \\cdots, x_n  \\mid \\theta)  = \\prod_{i=1}^{n} P(x_i | \\theta) $$\n",
        "\n",
        "Multiplying many small probabilities together can be numerically unstable in practice, therefore, it is common to restate this problem as the sum of the log conditional probabilities of observing each example given the model parameters.\n",
        "\n",
        "$$ P ( X \\mid \\theta) = \\sum_{i=1}^{n} log(P(x_i \\mid \\theta)) $$\n"
      ]
    },
    {
      "cell_type": "markdown",
      "metadata": {
        "id": "wVbavcIXusl3"
      },
      "source": [
        "## Example\n",
        "\n",
        "Let's suppose our vocabulary has only two words i.e. {0,1}. In addition, suppose we are given the document D = {1100}. Furthermore, you are given two multinomial models $ A, B$ with parameters , $ A_0 = 0.2, A_1 = 0.8 ; B_0 = 0.4, B_1 = 0.6  $. Now you are required to find which model has most likely generated this document. \n",
        "\n",
        "In order to find which model has most likely generated this document, we will compute the likelihood of both models for generating the given document and then choose the maximum likelihood.\n",
        "\n",
        "$$ P( D | A ) = (0.2)^{2} \\cdot (0.8)^{2} = 0.0256  $$\n",
        "$$ P( D | B ) = (0.4)^{2} \\cdot (0.6)^{2} = 0.0576 $$\n",
        "\n",
        "Since $ P ( D | B) > P ( D | A) $,  Model B has most likely generated this document.\n",
        "\n"
      ]
    },
    {
      "cell_type": "markdown",
      "metadata": {
        "id": "qjwlv7rk0bhC"
      },
      "source": [
        "## Task Overview\n",
        "\n",
        "You will do MLE for Binomial distribution in Task 02, which has been split into four parts. \n",
        "- In Part A, you are required to generate Binomial Random Numbers. \n",
        "- In Part B, you are required to compute  likelihood for the data generated in Part A. \n",
        "- In Part C, you are required to compute maximum log likelihood to estimate the value of $p$. \n",
        "- In Part D, you are required to provide reasoning based on your own understanding for the differences between the theoretical and estimated values of $p$."
      ]
    },
    {
      "cell_type": "markdown",
      "metadata": {
        "id": "cYd51_Fse7t8"
      },
      "source": [
        "## [10 Marks] Part A : Generate Binomial Random Numbers\n",
        "**Complete the function $\\texttt{generate_random_data}$ which generates a binomial random variable with parameters $(size,p,n)$ and plots the histogram of the distribution of simulation results.**\n",
        "\n",
        "**The function $\\texttt{generate_random_data}$ has already been called for you with $size=30$, $n=10$, and $p=0.5$**"
      ]
    },
    {
      "cell_type": "code",
      "execution_count": null,
      "metadata": {
        "id": "FLLJUnOQZ9l1"
      },
      "outputs": [],
      "source": [
        "def generate_random_data(size,p,n):\n",
        "  \"\"\"\n",
        "  size: The number of experiments\n",
        "  p: Probability of success\n",
        "  n: Number of trials in each experiment\n",
        "  \"\"\"\n",
        "  np.random.seed(255)\n",
        "  # Generating Random Binomial Numbers\n",
        "  rbn = np.random.binomial(n, p, size)\n",
        "  \n",
        "  # Print the generated random numbers \n",
        "  print(rbn)\n",
        "  \n",
        "  # Visualize the generated random number\n",
        "  heads, frequency = np.unique(rbn, return_counts = True)\n",
        "  plt.hist(heads, bins =[0,1,2,3,4,5,6,7,8,9,10,11], rwidth = 0.5, align='left', weights = frequency)\n",
        "\n",
        "\n",
        "  # return the generated Binomial Numbers\n",
        "  return rbn\n",
        "  \n"
      ]
    },
    {
      "cell_type": "code",
      "execution_count": null,
      "metadata": {
        "colab": {
          "base_uri": "https://localhost:8080/",
          "height": 282
        },
        "id": "8I5uzbkPqIc6",
        "outputId": "0ed2cc44-da5f-46ad-9f0e-1a60713fb4f2"
      },
      "outputs": [
        {
          "name": "stdout",
          "output_type": "stream",
          "text": [
            "[5 4 4 2 6 4 5 4 5 4 3 6 4 3 5 6 5 6 4 8 5 8 5 5 6 1 5 5 5 3]\n"
          ]
        },
        {
          "data": {
            "image/png": "[encoded data removed]",
            "text/plain": [
              "<Figure size 640x480 with 1 Axes>"
            ]
          },
          "metadata": {},
          "output_type": "display_data"
        }
      ],
      "source": [
        "# Do not edit.\n",
        "X = generate_random_data(size=30,p=0.5,n=10)"
      ]
    },
    {
      "cell_type": "markdown",
      "metadata": {
        "id": "5rnL8-PZgwVh"
      },
      "source": [
        "## [10 Marks] Part B : Compute Likelihood\n",
        "**Complete the function $\\texttt{calculate_likelihood}$ which computes the likelihood of X given p binomial with parameters $(p,X)$**\n",
        "\n",
        "**The function $\\texttt{calculate_likelihood}$ has already been called for you with the data you simulated in Part A and $p=0.5$**\n",
        "\n",
        "**You also are required to comment on the numerical nature of the value that was returned by the function $\\texttt{calculate_likelihood}$**"
      ]
    },
    {
      "cell_type": "code",
      "execution_count": null,
      "metadata": {
        "colab": {
          "base_uri": "https://localhost:8080/"
        },
        "id": "2PZ6kPfv7DVc",
        "outputId": "df2ecfe6-9610-45a3-b39f-83d60cf7b45c"
      },
      "outputs": [
        {
          "name": "stdout",
          "output_type": "stream",
          "text": [
            "[0.24609375 0.20507812 0.20507812 0.04394531 0.20507812 0.20507812\n",
            " 0.24609375 0.20507812 0.24609375 0.20507812 0.1171875  0.20507812\n",
            " 0.20507812 0.1171875  0.24609375 0.20507812 0.24609375 0.20507812\n",
            " 0.20507812 0.04394531 0.24609375 0.04394531 0.24609375 0.24609375\n",
            " 0.20507812 0.00976563 0.24609375 0.24609375 0.24609375 0.1171875 ]\n"
          ]
        },
        {
          "data": {
            "text/plain": [
              "1.4798580718218773e-24"
            ]
          },
          "execution_count": 28,
          "metadata": {},
          "output_type": "execute_result"
        }
      ],
      "source": [
        "def calculate_likelihood(p,X):\n",
        "  # TODO : Complete the function\n",
        "  # create a random variable for 10 coin tosses with probability p using stasts.binom\n",
        "  rbn = stats.binom(10, p)\n",
        "\n",
        "  # calculate the PMF of that random variable for values X.\n",
        "  pmf = rbn.pmf(X)\n",
        "  result = 1\n",
        "  for i in pmf:\n",
        "    result *= i\n",
        "  print(pmf)\n",
        "  # return the product\n",
        "  return result\n",
        "  \n",
        "# Do not edit\n",
        "calculate_likelihood(0.5,X)"
      ]
    },
    {
      "cell_type": "markdown",
      "metadata": {
        "id": "O6wwdHoUMOJl"
      },
      "source": [
        "The final obtained value is too small, which can be very difficult to plot and handle due to several decimal places, which is why taking the log gives a more reliable and easier to handle value."
      ]
    },
    {
      "cell_type": "markdown",
      "metadata": {
        "id": "t0VCb3hqf6HD"
      },
      "source": [
        "## [20 Marks] Part C : Compute Maximum Log Likelihood\n",
        "\n",
        "**In Part C, you will be completing the functions $\\texttt{calculate_log_likelihood}$ and $\\texttt{calculate_maximum_log_likelihood}$.**\n",
        "\n",
        "**The function $\\texttt{calculate_log_likelihood}$ computes the log likelihood of X given p with parameters $(X,p)$. The function $\\texttt{calculate_maximum_log_likelihood}$ computes the maximum likelihood of the given data X and plots a graph of log likelihood vs p with parameters $(X)$.**\n",
        "\n",
        "\n",
        "\n",
        "**The function $\\texttt{calculate_log_likelihood}$ has already been called for you with the data you simulated in Part A**"
      ]
    },
    {
      "cell_type": "code",
      "execution_count": null,
      "metadata": {
        "id": "kfvKgQJ0blx-"
      },
      "outputs": [],
      "source": [
        "# Calculating Likelihood\n",
        "def calculate_log_likelihood(p,X):\n",
        "  # TODO : Complete the function\n",
        "  # create a binomial random variable with parameter 10 and probability p\n",
        "  rbn = stats.binom(10, p)\n",
        "\n",
        "  # create a PMF of that random variable for X\n",
        "  pmf = rbn.pmf(X)\n",
        "  \n",
        "\n",
        "  # Calculate the log\n",
        "  pmf_log = []\n",
        "  for i in pmf:\n",
        "    pmf_log.append(math.log(i))\n",
        "\n",
        "  # Calculate the summation\n",
        "  result = 0\n",
        "  for i in pmf_log:\n",
        "    result += i\n",
        "  print(result)\n",
        "\n",
        "  # return the result\n",
        "  return result"
      ]
    },
    {
      "cell_type": "code",
      "execution_count": null,
      "metadata": {
        "id": "YRxLL0EibtPh"
      },
      "outputs": [],
      "source": [
        "# Compute Maximum Likelihood\n",
        "def calculate_maximum_log_likelihood(X):\n",
        "  # TODO : Complete the function\n",
        "\n",
        "\n",
        "  x = np.linspace(0.01,1,1000,endpoint=False)\n",
        "  d = {}\n",
        "\n",
        "  # calculate the log likelihood for each value of x and store it in d[x]\n",
        "  for i in x:\n",
        "    d[i] = calculate_log_likelihood(i, X)\n",
        "  \n",
        "  # plot the maximum Likelihood function using d\n",
        "  maximum = max(d, key = d.get)\n",
        "  plt.style.use('default')\n",
        "  fig,ax= plt.subplots()\n",
        "  plt.style.use('ggplot')\n",
        "  ax.plot(x,d.values())\n",
        "  ax.set_title('My Chart')\n",
        "  ax.set_xlabel('X Axis')\n",
        "  ax.set_ylabel('Y Axis')\n",
        "  print(\"m\", maximum)\n",
        "  plt.vlines(x = [maximum], ymin = -1000, ymax = d[maximum])\n",
        "  \n",
        "  \n",
        "  return (maximum, d[maximum])"
      ]
    },
    {
      "cell_type": "code",
      "execution_count": null,
      "metadata": {
        "colab": {
          "base_uri": "https://localhost:8080/",
          "height": 1000
        },
        "id": "DpwwXPlyc2YC",
        "outputId": "3a9da04b-ea16-464c-f87e-6d59707ec99c"
      },
      "outputs": [
        {
          "name": "stdout",
          "output_type": "stream",
          "text": [
            "-497.8529415031413\n",
            "-484.7015258217518\n",
            "-472.6991164710289\n",
            "-461.66305778523144\n",
            "-451.4510652933842\n",
            "-441.95014048827124\n",
            "-433.0690471710145\n",
            "-424.73305873382793\n",
            "-416.8802004510702\n",
            "-409.45850355847176\n",
            "-402.42396084201533\n",
            "-395.7389790902952\n",
            "-389.37119019646747\n",
            "-383.2925255706465\n",
            "-377.47848684120487\n",
            "-371.9075649185873\n",
            "-366.5607726152226\n",
            "-361.4212651843698\n",
            "-356.47402964926454\n",
            "-351.7056284799712\n",
            "-347.10398659368553\n",
            "-342.65821317807655\n",
            "-338.3584517216171\n",
            "-334.195753056447\n",
            "-330.16196730216603\n",
            "-326.24965143128077\n",
            "-322.4519898221876\n",
            "-318.7627256696345\n",
            "-315.17610151935037\n",
            "-311.6868075080132\n",
            "-308.28993614063694\n",
            "-304.9809426389122\n",
            "-301.755610056725\n",
            "-298.61001849120055\n",
            "-295.54051782549755\n",
            "-292.543703528089\n",
            "-289.6163951062483\n",
            "-286.755616871907\n",
            "-283.958580728335\n",
            "-281.2226707280966\n",
            "-278.54542918796795\n",
            "-275.9245441761526\n",
            "-273.3578382121935\n",
            "-270.84325804122045\n",
            "-268.37886536224966\n",
            "-265.96282840567505\n",
            "-263.5934142682936\n",
            "-261.26898192554825\n",
            "-258.9879758504308\n",
            "-256.74892017692395\n",
            "-254.55041335314888\n",
            "-252.39112323572883\n",
            "-250.26978258238728\n",
            "-248.18518490460252\n",
            "-246.13618064635077\n",
            "-244.12167365864357\n",
            "-242.1406179428034\n",
            "-240.19201463826366\n",
            "-238.2749092331858\n",
            "-236.38838897840617\n",
            "-234.53158048717847\n",
            "-232.70364750492203\n",
            "-230.9037888347277\n",
            "-229.13123640574915\n",
            "-227.38525347282678\n",
            "-225.66513293679105\n",
            "-223.97019577586624\n",
            "-222.2997895794704\n",
            "-220.65328717649402\n",
            "-219.03008535084646\n",
            "-217.4296036376873\n",
            "-215.8512831943416\n",
            "-214.29458574040126\n",
            "-212.75899256199213\n",
            "-211.24400357559597\n",
            "-209.7491364472075\n",
            "-208.27392576294486\n",
            "-206.8179222475511\n",
            "-205.3806920275015\n",
            "-203.96181593570236\n",
            "-202.56088885498986\n",
            "-201.17751909786318\n",
            "-199.81132782007677\n",
            "-198.46194846589782\n",
            "-197.1290262429989\n",
            "-195.81221762510782\n",
            "-194.51118988066855\n",
            "-193.22562062590225\n",
            "-191.9551974007653\n",
            "-190.69961726641083\n",
            "-189.45858642286117\n",
            "-188.2318198456816\n",
            "-187.01904094053677\n",
            "-185.81998121458238\n",
            "-184.63437996371673\n",
            "-183.46198397478352\n",
            "-182.3025472418751\n",
            "-181.15583069594405\n",
            "-180.02160194697893\n",
            "-178.8996350380517\n",
            "-177.78971021058678\n",
            "-176.6916136802413\n",
            "-175.6051374228282\n",
            "-174.530078969746\n",
            "-173.46624121241206\n",
            "-172.41343221523073\n",
            "-171.37146503664965\n",
            "-170.34015755789238\n",
            "-169.3193323189705\n",
            "-168.30881636161274\n",
            "-167.30844107875816\n",
            "-166.3180420702923\n",
            "-165.33745900471416\n",
            "-164.36653548644531\n",
            "-163.40511892850836\n",
            "-162.45306043031368\n",
            "-161.51021466031258\n",
            "-160.57643974328522\n",
            "-159.65159715204578\n",
            "-158.73555160335803\n",
            "-157.82817095786768\n",
            "-156.92932612386517\n",
            "-156.03889096470655\n",
            "-155.15674220972465\n",
            "-154.28275936847504\n",
            "-153.41682464816842\n",
            "-152.55882287414684\n",
            "-151.7086414132724\n",
            "-150.86617010009937\n",
            "-150.0313011657096\n",
            "-149.20392916909853\n",
            "-148.38395093100027\n",
            "-147.57126547005055\n",
            "-146.7657739411877\n",
            "-145.96737957619945\n",
            "-145.17598762632548\n",
            "-144.3915053068314\n",
            "-143.61384174347344\n",
            "-142.84290792077712\n",
            "-142.0786166320565\n",
            "-141.32088243110454\n",
            "-140.56962158548666\n",
            "-139.82475203137673\n",
            "-139.08619332987166\n",
            "-138.35386662472936\n",
            "-137.62769460147337\n",
            "-136.90760144781208\n",
            "-136.19351281532235\n",
            "-135.4853557823484\n",
            "-134.7830588180711\n",
            "-134.08655174770357\n",
            "-133.39576571876975\n",
            "-132.71063316842765\n",
            "-132.03108779179715\n",
            "-131.35706451125603\n",
            "-130.68849944666982\n",
            "-130.0253298865197\n",
            "-129.36749425989802\n",
            "-128.7149321093395\n",
            "-128.06758406445795\n",
            "-127.42539181636137\n",
            "-126.78829809281667\n",
            "-126.1562466341383\n",
            "-125.52918216977599\n",
            "-124.90705039557707\n",
            "-124.28979795169982\n",
            "-123.67737240115707\n",
            "-123.0697222089662\n",
            "-122.4667967218877\n",
            "-121.86854614873062\n",
            "-121.27492154120668\n",
            "-120.68587477531518\n",
            "-120.10135853324003\n",
            "-119.52132628574385\n",
            "-118.94573227504061\n",
            "-118.37453149813385\n",
            "-117.80767969060282\n",
            "-117.24513331082423\n",
            "-116.68684952461474\n",
            "-116.13278619028033\n",
            "-115.58290184406151\n",
            "-115.03715568595915\n",
            "-114.49550756593159\n",
            "-113.95791797045024\n",
            "-113.42434800940251\n",
            "-112.89475940333134\n",
            "-112.36911447100218\n",
            "-111.84737611728565\n",
            "-111.32950782134706\n",
            "-110.81547362513464\n",
            "-110.3052381221551\n",
            "-109.7987664465308\n",
            "-109.29602426232698\n",
            "-108.79697775314418\n",
            "-108.30159361196584\n",
            "-107.80983903125453\n",
            "-107.32168169328946\n",
            "-106.83708976073758\n",
            "-106.35603186745351\n",
            "-105.87847710949833\n",
            "-105.4043950363751\n",
            "-104.93375564247117\n",
            "-104.46652935870368\n",
            "-104.002687044362\n",
            "-103.54219997914139\n",
            "-103.08503985536228\n",
            "-102.63117877037097\n",
            "-102.1805892191156\n",
            "-101.73324408689314\n",
            "-101.28911664226263\n",
            "-100.84818053012079\n",
            "-100.41040976493348\n",
            "-99.97577872412188\n",
            "-99.5442621415961\n",
            "-99.11583510143514\n",
            "-98.69047303170682\n",
            "-98.26815169842544\n",
            "-97.8488471996433\n",
            "-97.43253595967188\n",
            "-97.01919472343077\n",
            "-96.60880055091857\n",
            "-96.20133081180525\n",
            "-95.79676318014128\n",
            "-95.39507562918067\n",
            "-94.99624642631528\n",
            "-94.60025412811736\n",
            "-94.20707757548827\n",
            "-93.81669588890915\n",
            "-93.42908846379252\n",
            "-93.04423496593184\n",
            "-92.66211532704556\n",
            "-92.28270974041509\n",
            "-91.90599865661304\n",
            "-91.5319627793196\n",
            "-91.16058306122554\n",
            "-90.79184070001946\n",
            "-90.42571713445666\n",
            "-90.06219404050832\n",
            "-89.70125332758909\n",
            "-89.34287713486056\n",
            "-88.9870478276093\n",
            "-88.6337479936977\n",
            "-88.28296044008547\n",
            "-87.9346681894206\n",
            "-87.58885447669799\n",
            "-87.24550274598377\n",
            "-86.90459664720451\n",
            "-86.56612003299904\n",
            "-86.23005695563187\n",
            "-85.8963916639671\n",
            "-85.56510860050028\n",
            "-85.23619239844835\n",
            "-84.90962787889502\n",
            "-84.58540004799141\n",
            "-84.26349409420982\n",
            "-83.9438953856499\n",
            "-83.62658946739646\n",
            "-83.31156205892619\n",
            "-82.99879905156433\n",
            "-82.68828650598854\n",
            "-82.38001064977935\n",
            "-82.07395787501692\n",
            "-81.77011473592198\n",
            "-81.46846794654051\n",
            "-81.16900437847124\n",
            "-80.87171105863503\n",
            "-80.57657516708517\n",
            "-80.28358403485748\n",
            "-79.99272514185986\n",
            "-79.70398611479975\n",
            "-79.41735472514972\n",
            "-79.13281888714916\n",
            "-78.85036665584227\n",
            "-78.56998622515103\n",
            "-78.29166592598251\n",
            "-78.01539422437038\n",
            "-77.7411597196487\n",
            "-77.46895114265868\n",
            "-77.1987573539865\n",
            "-76.93056734223273\n",
            "-76.66437022231162\n",
            "-76.40015523378011\n",
            "-76.1379117391966\n",
            "-75.8776292225071\n",
            "-75.61929728746068\n",
            "-75.3629056560513\n",
            "-75.10844416698667\n",
            "-74.8559027741839\n",
            "-74.60527154529005\n",
            "-74.35654066022889\n",
            "-74.10970040977178\n",
            "-73.86474119413279\n",
            "-73.62165352158821\n",
            "-73.38042800711834\n",
            "-73.1410553710735\n",
            "-72.90352643786093\n",
            "-72.6678321346551\n",
            "-72.4339634901285\n",
            "-72.20191163320415\n",
            "-71.97166779182857\n",
            "-71.74322329176528\n",
            "-71.51656955540805\n",
            "-71.29169810061376\n",
            "-71.06860053955474\n",
            "-70.84726857758923\n",
            "-70.62769401215131\n",
            "-70.40986873165804\n",
            "-70.19378471443483\n",
            "-69.9794340276584\n",
            "-69.76680882631642\n",
            "-69.55590135218455\n",
            "-69.3467039328192\n",
            "-69.13920898056747\n",
            "-68.93340899159209\n",
            "-68.72929654491256\n",
            "-68.52686430146149\n",
            "-68.3261050031557\n",
            "-68.12701147198258\n",
            "-67.92957660910055\n",
            "-67.73379339395409\n",
            "-67.53965488340268\n",
            "-67.34715421086311\n",
            "-67.15628458546617\n",
            "-66.96703929122562\n",
            "-66.77941168622094\n",
            "-66.59339520179253\n",
            "-66.40898334174946\n",
            "-66.22616968159001\n",
            "-66.04494786773364\n",
            "-65.8653116167658\n",
            "-65.6872547146935\n",
            "-65.51077101621328\n",
            "-65.33585444398997\n",
            "-65.16249898794689\n",
            "-64.99069870456677\n",
            "-64.8204477162036\n",
            "-64.65174021040517\n",
            "-64.48457043924562\n",
            "-64.31893271866866\n",
            "-64.15482142784083\n",
            "-63.992231008514175\n",
            "-63.831155964399315\n",
            "-63.67159086054748\n",
            "-63.51353032274263\n",
            "-63.35696903690222\n",
            "-63.201901748487344\n",
            "-63.04832326192201\n",
            "-62.89622844002079\n",
            "-62.74561220342577\n",
            "-62.596469530051486\n",
            "-62.44879545453846\n",
            "-62.30258506771502\n",
            "-62.15783351606758\n",
            "-62.01453600121824\n",
            "-61.87268777941078\n",
            "-61.732284161004436\n",
            "-61.593320509974944\n",
            "-61.45579224342358\n",
            "-61.31969483109329\n",
            "-61.18502379489207\n",
            "-61.05177470842387\n",
            "-60.91994319652613\n",
            "-60.78952493481495\n",
            "-60.660515649236025\n",
            "-60.53291111562366\n",
            "-60.406707159265395\n",
            "-60.28189965447362\n",
            "-60.158484524163775\n",
            "-60.036457739438596\n",
            "-59.91581531917891\n",
            "-59.796553329640254\n",
            "-59.67866788405618\n",
            "-59.56215514224691\n",
            "-59.44701131023436\n",
            "-59.33323263986274\n",
            "-59.22081542842497\n",
            "-59.109756018295016\n",
            "-59.00005079656529\n",
            "-58.89169619469006\n",
            "-58.78468868813405\n",
            "-58.6790247960262\n",
            "-58.57470108081945\n",
            "-58.471714147954636\n",
            "-58.37006064553059\n",
            "-58.26973726397835\n",
            "-58.17074073574144\n",
            "-58.0730678349599\n",
            "-57.976715377160104\n",
            "-57.88168021894899\n",
            "-57.78795925771298\n",
            "-57.695549431321865\n",
            "-57.604447717836855\n",
            "-57.51465113522368\n",
            "-57.426156741069846\n",
            "-57.33896163230636\n",
            "-57.25306294493399\n",
            "-57.16845785375383\n",
            "-57.08514357210196\n",
            "-57.003117351588386\n",
            "-56.92237648184046\n",
            "-56.842918290249855\n",
            "-56.76474014172402\n",
            "-56.68783943844161\n",
            "-56.61221361961156\n",
            "-56.53786016123678\n",
            "-56.4647765758805\n",
            "-56.39296041243808\n",
            "-56.32240925591119\n",
            "-56.25312072718618\n",
            "-56.18509248281653\n",
            "-56.11832221480863\n",
            "-56.052807650411054\n",
            "-55.98854655190744\n",
            "-55.92553671641323\n",
            "-55.863775975675566\n",
            "-55.803262195876755\n",
            "-55.74399327744109\n",
            "-55.68596715484526\n",
            "-55.62918179643163\n",
            "-55.5736352042255\n",
            "-55.51932541375502\n",
            "-55.46625049387486\n",
            "-55.41440854659238\n",
            "-55.36379770689797\n",
            "-55.3144161425977\n",
            "-55.26626205414919\n",
            "-55.21933367450128\n",
            "-55.17362926893557\n",
            "-55.12914713491223\n",
            "-55.085885601917546\n",
            "-55.04384303131576\n",
            "-55.00301781620274\n",
            "-54.9634083812629\n",
            "-54.92501318262964\n",
            "-54.8878307077474\n",
            "-54.851859475237944\n",
            "-54.81709803476804\n",
            "-54.78354496692138\n",
            "-54.75119888307186\n",
            "-54.720058425260746\n",
            "-54.690122266075996\n",
            "-54.66138910853397\n",
            "-54.63385768596479\n",
            "-54.60752676189932\n",
            "-54.582395129959494\n",
            "-54.55846161375081\n",
            "-54.53572506675775\n",
            "-54.514184372241516\n",
            "-54.49383844314048\n",
            "-54.474686221973094\n",
            "-54.45672668074346\n",
            "-54.43995882084914\n",
            "-54.4243816729917\n",
            "-54.40999429708973\n",
            "-54.396795782194026\n",
            "-54.38478524640562\n",
            "-54.373961836795914\n",
            "-54.364324729329354\n",
            "-54.355873128788694\n",
            "-54.34860626870221\n",
            "-54.342523411273554\n",
            "-54.33762384731416\n",
            "-54.333906896177595\n",
            "-54.33137190569645\n",
            "-54.33001825212168\n",
            "-54.329845340063976\n",
            "-54.33085260243761\n",
            "-54.33303950040671\n",
            "-54.33640552333344\n",
            "-54.340950188728925\n",
            "-54.3466730422059\n",
            "-54.35357365743417\n",
            "-54.36165163609802\n",
            "-54.37090660785584\n",
            "-54.38133823030202\n",
            "-54.39294618893135\n",
            "-54.40573019710508\n",
            "-54.41968999601976\n",
            "-54.43482535467805\n",
            "-54.45113606986146\n",
            "-54.46862196610604\n",
            "-54.487282895679186\n",
            "-54.50711873855978\n",
            "-54.528129402419815\n",
            "-54.55031482260812\n",
            "-54.57367496213674\n",
            "-54.59820981166925\n",
            "-54.62391938951123\n",
            "-54.650803741602786\n",
            "-54.67886294151374\n",
            "-54.70809709044015\n",
            "-54.73850631720393\n",
            "-54.77009077825387\n",
            "-54.80285065766934\n",
            "-54.836786167165975\n",
            "-54.87189754610319\n",
            "-54.90818506149459\n",
            "-54.94564900802003\n",
            "-54.98428970803975\n",
            "-55.02410751161115\n",
            "-55.0651027965072\n",
            "-55.1072759682377\n",
            "-55.15062746007191\n",
            "-55.19515773306395\n",
            "-55.24086727608036\n",
            "-55.28775660582935\n",
            "-55.335826266892845\n",
            "-55.38507683176041\n",
            "-55.43550890086542\n",
            "-55.487123102623485\n",
            "-55.539920093473036\n",
            "-55.59390055791816\n",
            "-55.64906520857371\n",
            "-55.70541478621245\n",
            "-55.76295005981483\n",
            "-55.82167182662054\n",
            "-55.881580912182585\n",
            "-55.942678170423775\n",
            "-56.00496448369509\n",
            "-56.06844076283657\n",
            "-56.133107947240525\n",
            "-56.19896700491701\n",
            "-56.26601893256151\n",
            "-56.33426475562506\n",
            "-56.40370552838661\n",
            "-56.474342334027895\n",
            "-56.54617628471047\n",
            "-56.61920852165527\n",
            "-56.69344021522438\n",
            "-56.76887256500541\n",
            "-56.84550679989816\n",
            "-56.923344178203536\n",
            "-57.0023859877154\n",
            "-57.0826335458143\n",
            "-57.16408819956406\n",
            "-57.24675132581066\n",
            "-57.33062433128369\n",
            "-57.41570865270024\n",
            "-57.502005756871554\n",
            "-57.58951714081187\n",
            "-57.678244331850124\n",
            "-57.7681888877441\n",
            "-57.85935239679731\n",
            "-57.95173647797826\n",
            "-58.045342781042685\n",
            "-58.1401729866581\n",
            "-58.23622880653134\n",
            "-58.33351198353871\n",
            "-58.432024291858625\n",
            "-58.53176753710753\n",
            "-58.63274355647784\n",
            "-58.73495421887969\n",
            "-58.83840142508429\n",
            "-58.94308710787135\n",
            "-59.049013232178325\n",
            "-59.156181795253275\n",
            "-59.264594826810374\n",
            "-59.37425438918825\n",
            "-59.485162577511694\n",
            "-59.5973215198558\n",
            "-59.7107333774137\n",
            "-59.825400344667095\n",
            "-59.941324649559746\n",
            "-60.058508553674386\n",
            "-60.176954352412636\n",
            "-60.296664375178054\n",
            "-60.41764098556253\n",
            "-60.53988658153569\n",
            "-60.66340359563812\n",
            "-60.78819449517705\n",
            "-60.91426178242641\n",
            "-61.04160799482918\n",
            "-61.17023570520437\n",
            "-61.30014752195629\n",
            "-61.431346089288084\n",
            "-61.56383408741871\n",
            "-61.697614232803005\n",
            "-61.832689278356156\n",
            "-61.96906201368103\n",
            "-62.10673526529992\n",
            "-62.24571189688929\n",
            "-62.38599480951908\n",
            "-62.52758694189541\n",
            "-62.670491270606924\n",
            "-62.81471081037583\n",
            "-62.96024861431208\n",
            "-63.10710777417208\n",
            "-63.255291420621184\n",
            "-63.404802723500616\n",
            "-63.55564489209837\n",
            "-63.70782117542412\n",
            "-63.861334862488754\n",
            "-64.01618928258816\n",
            "-64.1723878055912\n",
            "-64.32993384223235\n",
            "-64.48883084440867\n",
            "-64.64908230548134\n",
            "-64.8106917605819\n",
            "-64.97366278692321\n",
            "-65.13799900411479\n",
            "-65.30370407448338\n",
            "-65.47078170339809\n",
            "-65.63923563960057\n",
            "-65.80906967554024\n",
            "-65.9802876477143\n",
            "-66.15289343701319\n",
            "-66.3268909690711\n",
            "-66.50228421462157\n",
            "-66.67907718985882\n",
            "-66.85727395680406\n",
            "-67.03687862367785\n",
            "-67.21789534527706\n",
            "-67.40032832335872\n",
            "-67.58418180702849\n",
            "-67.76946009313555\n",
            "-67.9561675266733\n",
            "-68.14430850118586\n",
            "-68.33388745918066\n",
            "-68.52490889254715\n",
            "-68.71737734298215\n",
            "-68.91129740242074\n",
            "-69.10667371347435\n",
            "-69.30351096987486\n",
            "-69.50181391692551\n",
            "-69.7015873519585\n",
            "-69.9028361247993\n",
            "-70.10556513823803\n",
            "-70.30977934850772\n",
            "-70.51548376576974\n",
            "-70.7226834546064\n",
            "-70.93138353452103\n",
            "-71.14158918044537\n",
            "-71.35330562325471\n",
            "-71.56653815029017\n",
            "-71.78129210588982\n",
            "-71.99757289192648\n",
            "-72.21538596835462\n",
            "-72.43473685376483\n",
            "-72.65563112594674\n",
            "-72.87807442246049\n",
            "-73.10207244121648\n",
            "-73.32763094106446\n",
            "-73.55475574239051\n",
            "-73.78345272772387\n",
            "-74.01372784235257\n",
            "-74.24558709494812\n",
            "-74.47903655820016\n",
            "-74.71408236946017\n",
            "-74.95073073139514\n",
            "-75.18898791265151\n",
            "-75.42886024852835\n",
            "-75.67035414166178\n",
            "-75.91347606271871\n",
            "-76.15823255110234\n",
            "-76.40463021566738\n",
            "-76.65267573544692\n",
            "-76.90237586039004\n",
            "-77.15373741211089\n",
            "-77.40676728464932\n",
            "-77.66147244524315\n",
            "-77.9178599351123\n",
            "-78.17593687025503\n",
            "-78.43571044225682\n",
            "-78.69718791911134\n",
            "-78.96037664605439\n",
            "-79.22528404641089\n",
            "-79.49191762245493\n",
            "-79.76028495628326\n",
            "-80.03039371070277\n",
            "-80.30225163013142\n",
            "-80.57586654151365\n",
            "-80.85124635525008\n",
            "-81.12839906614205\n",
            "-81.407332754351\n",
            "-81.68805558637284\n",
            "-81.97057581602837\n",
            "-82.2549017854689\n",
            "-82.54104192619826\n",
            "-82.8290047601112\n",
            "-83.11879890054804\n",
            "-83.41043305336686\n",
            "-83.7039160180325\n",
            "-83.99925668872346\n",
            "-84.29646405545658\n",
            "-84.59554720522986\n",
            "-84.89651532318445\n",
            "-85.19937769378456\n",
            "-85.50414370201793\n",
            "-85.81082283461508\n",
            "-86.11942468128879\n",
            "-86.4299589359945\n",
            "-86.74243539821072\n",
            "-87.05686397424151\n",
            "-87.37325467854006\n",
            "-87.69161763505451\n",
            "-88.01196307859638\n",
            "-88.33430135623144\n",
            "-88.65864292869489\n",
            "-88.98499837182936\n",
            "-89.31337837804806\n",
            "-89.64379375782171\n",
            "-89.97625544119222\n",
            "-90.31077447931094\n",
            "-90.64736204600325\n",
            "-90.98602943936119\n",
            "-91.32678808336188\n",
            "-91.66964952951506\n",
            "-92.01462545853825\n",
            "-92.36172768206208\n",
            "-92.71096814436413\n",
            "-93.0623589241336\n",
            "-93.41591223626722\n",
            "-93.77164043369582\n",
            "-94.12955600924423\n",
            "-94.48967159752297\n",
            "-94.85199997685388\n",
            "-95.21655407123086\n",
            "-95.58334695231397\n",
            "-95.95239184146094\n",
            "-96.32370211179342\n",
            "-96.69729129030236\n",
            "-97.07317305999005\n",
            "-97.45136126205146\n",
            "-97.83186989809558\n",
            "-98.21471313240677\n",
            "-98.59990529424829\n",
            "-98.98746088020741\n",
            "-99.37739455658422\n",
            "-99.76972116182472\n",
            "-100.16445570899899\n",
            "-100.56161338832543\n",
            "-100.96120956974231\n",
            "-101.36325980552805\n",
            "-101.76777983297006\n",
            "-102.17478557708458\n",
            "-102.5842931533879\n",
            "-102.99631887072059\n",
            "-103.41087923412569\n",
            "-103.82799094778144\n",
            "-104.24767091799153\n",
            "-104.6699362562324\n",
            "-105.09480428225959\n",
            "-105.52229252727537\n",
            "-105.95241873715672\n",
            "-106.38520087574884\n",
            "-106.82065712822059\n",
            "-107.25880590448924\n",
            "-107.69966584271097\n",
            "-108.14325581284156\n",
            "-108.58959492026891\n",
            "-109.03870250951687\n",
            "-109.49059816802537\n",
            "-109.94530173000555\n",
            "-110.40283328037422\n",
            "-110.86321315876799\n",
            "-111.32646196363892\n",
            "-111.79260055643591\n",
            "-112.26165006587036\n",
            "-112.73363189227159\n",
            "-113.20856771203223\n",
            "-113.68647948214586\n",
            "-114.16738944484125\n",
            "-114.65132013231229\n",
            "-115.13829437154905\n",
            "-115.62833528927086\n",
            "-116.12146631696444\n",
            "-116.61771119603058\n",
            "-117.11709398303958\n",
            "-117.61963905510211\n",
            "-118.1253711153552\n",
            "-118.63431519856755\n",
            "-119.14649667686824\n",
            "-119.66194126559971\n",
            "-120.1806750293011\n",
            "-120.70272438782295\n",
            "-121.22811612257891\n",
            "-121.75687738293543\n",
            "-122.28903569274627\n",
            "-122.82461895703389\n",
            "-123.3636554688204\n",
            "-123.90617391611657\n",
            "-124.45220338906793\n",
            "-125.0017733872655\n",
            "-125.55491382722546\n",
            "-126.11165505004098\n",
            "-126.67202782921314\n",
            "-127.23606337866269\n",
            "-127.80379336093218\n",
            "-128.37524989557966\n",
            "-128.9504655677716\n",
            "-129.52947343708098\n",
            "-130.11230704649375\n",
            "-130.6990004316345\n",
            "-131.28958813021183\n",
            "-131.8841051916945\n",
            "-132.48258718722306\n",
            "-133.08507021976362\n",
            "-133.69159093451188\n",
            "-134.3021865295539\n",
            "-134.9168947667923\n",
            "-135.53575398314504\n",
            "-136.1588031020248\n",
            "-136.78608164510857\n",
            "-137.41762974440425\n",
            "-138.05348815462645\n",
            "-138.69369826588746\n",
            "-139.33830211671545\n",
            "-139.98734240740936\n",
            "-140.64086251374104\n",
            "-141.29890650101552\n",
            "-141.96151913849963\n",
            "-142.6287459142335\n",
            "-143.3006330502335\n",
            "-143.97722751810187\n",
            "-144.65857705505482\n",
            "-145.34473018038275\n",
            "-146.0357362123578\n",
            "-146.7316452856006\n",
            "-147.43250836892528\n",
            "-148.13837728367497\n",
            "-148.84930472256536\n",
            "-149.56534426905486\n",
            "-150.28655041725602\n",
            "-151.01297859240933\n",
            "-151.74468517193657\n",
            "-152.48172750709446\n",
            "-153.22416394524993\n",
            "-153.9720538527955\n",
            "-154.7254576387322\n",
            "-155.48443677893707\n",
            "-156.24905384114533\n",
            "-157.0193725106682\n",
            "-157.79545761687498\n",
            "-158.57737516046524\n",
            "-159.36519234156083\n",
            "-160.158977588647\n",
            "-160.95880058839282\n",
            "-161.76473231638437\n",
            "-162.57684506880426\n",
            "-163.39521249509085\n",
            "-164.2199096316172\n",
            "-165.0510129364237\n",
            "-165.8886003250493\n",
            "-166.7327512074983\n",
            "-167.5835465263896\n",
            "-168.44106879633327\n",
            "-169.30540214458048\n",
            "-170.17663235299918\n",
            "-171.05484690142532\n",
            "-171.9401350124459\n",
            "-172.83258769767008\n",
            "-173.73229780554672\n",
            "-174.63936007079485\n",
            "-175.55387116550773\n",
            "-176.4759297520027\n",
            "-177.405636537487\n",
            "-178.34309433061514\n",
            "-179.28840810001884\n",
            "-180.24168503488838\n",
            "-181.20303460769804\n",
            "-182.1725686391606\n",
            "-183.15040136551406\n",
            "-184.1366495082349\n",
            "-185.13143234628748\n",
            "-186.1348717910224\n",
            "-187.14709246383444\n",
            "-188.16822177671318\n",
            "-189.19839001580664\n",
            "-190.23773042814074\n",
            "-191.28637931163593\n",
            "-192.34447610857274\n",
            "-193.4121635026681\n",
            "-194.489587519926\n",
            "-195.5768976334476\n",
            "-196.67424687238122\n",
            "-197.78179193521467\n",
            "-198.89969330761866\n",
            "-200.02811538505932\n",
            "-201.16722660041913\n",
            "-202.3171995568664\n",
            "-203.47821116624164\n",
            "-204.6504427932332\n",
            "-205.83408040563654\n",
            "-207.02931473100938\n",
            "-208.23634142004872\n",
            "-209.4553612170427\n",
            "-210.68658013776638\n",
            "-211.93020965521316\n",
            "-213.1864668935843\n",
            "-214.45557483097457\n",
            "-215.73776251123414\n",
            "-217.03326526550137\n",
            "-218.34232494394726\n",
            "-219.66519015829934\n",
            "-221.00211653575155\n",
            "-222.35336698491005\n",
            "-223.7192119744631\n",
            "-225.09992982531404\n",
            "-226.49580701696834\n",
            "-227.90713850901022\n",
            "-229.33422807857932\n",
            "-230.7773886748015\n",
            "-232.23694279121798\n",
            "-233.7132228573099\n",
            "-235.2065716503136\n",
            "-236.71734272859712\n",
            "-238.2459008879678\n",
            "-239.79262264238517\n",
            "-241.35789673065673\n",
            "-242.94212465082717\n",
            "-244.5457212240916\n",
            "-246.16911519021627\n",
            "-247.8127498366007\n",
            "-249.4770836632876\n",
            "-251.16259108641776\n",
            "-252.86976318282325\n",
            "-254.59910847868525\n",
            "-256.3511537854183\n",
            "-258.12644508621963\n",
            "-259.9255484770116\n",
            "-261.7490511658324\n",
            "-263.59756253508715\n",
            "-265.4717152714643\n",
            "-267.3721665687539\n",
            "-269.29959940929206\n",
            "-271.2547239302732\n",
            "-273.23827888177146\n",
            "-275.25103318395577\n",
            "-277.29378759170953\n",
            "-279.36737647566923\n",
            "-281.47266972958863\n",
            "-283.61057481493975\n",
            "-285.78203895476867\n",
            "-287.98805149007876\n",
            "-290.22964641340235\n",
            "-292.50790509579963\n",
            "-294.82395922527724\n",
            "-297.17899397660386\n",
            "-299.57425143474734\n",
            "-302.01103429667006\n",
            "-304.49070987910386\n",
            "-307.0147144631554\n",
            "-309.58455801029817\n",
            "-312.2018292885133\n",
            "-314.86820145213414\n",
            "-317.58543812446584\n",
            "-320.3554000385258\n",
            "-323.18005229852355\n",
            "-326.0614723330294\n",
            "-329.0018586204322\n",
            "-332.0035402784699\n",
            "-335.0689876225848\n",
            "-338.2008238129906\n",
            "-341.40183772800884\n",
            "-344.67499822193355\n",
            "-348.0234699500601\n",
            "-351.4506309722272\n",
            "-354.96009238026846\n",
            "-358.5557202351731\n",
            "-362.2416601480099\n",
            "-366.02236489640495\n",
            "-369.9026255378267\n",
            "-373.88760656485044\n",
            "-377.98288574934605\n",
            "-382.19449944670487\n",
            "-386.5289942833073\n",
            "-390.99348633787343\n",
            "-395.5957291595216\n",
            "-400.3441922547535\n",
            "-405.2481520385288\n",
            "-410.31779770277234\n",
            "-415.56435503823684\n",
            "-421.0002319918345\n",
            "-426.63919070502584\n",
            "-432.49655203349124\n",
            "-438.5894401968832\n",
            "-444.9370773950127\n",
            "-451.56114115985713\n",
            "-458.4862011900745\n",
            "-465.74025787392287\n",
            "-473.35541229933864\n",
            "-481.3687082630278\n",
            "-489.82320214455933\n",
            "-498.7693388989289\n",
            "-508.2667456874683\n",
            "-518.3866051464912\n",
            "-529.2148487028721\n",
            "-540.8565353713193\n",
            "-553.4419868085733\n",
            "-567.1355982042021\n",
            "-582.1488605012936\n",
            "-598.7602671706838\n",
            "-617.3469952099398\n",
            "-638.4378524165793\n",
            "-662.8073164180898\n",
            "-691.6560897079617\n",
            "-726.9956996990745\n",
            "-772.5970738462579\n",
            "-836.9260896815254\n",
            "-946.9966937796604\n",
            "m 0.47035\n",
            "0.47035\n"
          ]
        },
        {
          "data": {
            "image/png": "[encoded data removed]",
            "text/plain": [
              "<Figure size 640x480 with 1 Axes>"
            ]
          },
          "metadata": {},
          "output_type": "display_data"
        }
      ],
      "source": [
        "exp_p, mle = calculate_maximum_log_likelihood(X)\n",
        "print(exp_p)"
      ]
    },
    {
      "cell_type": "markdown",
      "metadata": {
        "id": "KAW3mJLthWeh"
      },
      "source": [
        "## [10 Marks] Part D : Comparision of the theoretical value of $p$ with the estimated value of $p$\n",
        "\n",
        "**In this part, you are required to complete the code which plots the simulated the data, theoretical distribution and the actual distribution on the same plot. You are then required to comment on the distribution of the data generated and how it compares to the theoretical distribution and the estimated distrbution. Furthemore, you are required to provide reasoning based on your own understanding for the differences in the distributions and value of $p$.**"
      ]
    },
    {
      "cell_type": "code",
      "execution_count": null,
      "metadata": {
        "colab": {
          "base_uri": "https://localhost:8080/",
          "height": 646
        },
        "id": "4Opjd87pdolw",
        "outputId": "926e387a-16bd-47f4-b2e7-27578363e59b"
      },
      "outputs": [
        {
          "data": {
            "image/png": "[encoded data removed]",
            "text/plain": [
              "<Figure size 800x800 with 1 Axes>"
            ]
          },
          "metadata": {},
          "output_type": "display_data"
        }
      ],
      "source": [
        "# TODO : Complete the Code Snippet\n",
        "plt.figure(figsize=(8,8))\n",
        "# Plot Data\n",
        "plt.hist(X,bins=[0,1,2,3,4,5,6,7,8,9,10,11], rwidth = 0.5, align = 'left', density=True, color=\"b\", alpha=0.2);\n",
        "n = 10\n",
        "# Plot theoretical distribution\n",
        "rv  = stats.binom(10, exp_p)  # create binomial rv for 10 coints with p=0.5 \n",
        "x = [i for i in range(11)]    # values which represent the number of heads\n",
        "f = rv.pmf(x)    # f is the pmf of rv for values of x\n",
        "\n",
        "plt.plot(x, f,'-ro', ms=10)\n",
        "plt.vlines(x, 0, f, colors=\"r\", lw=1,alpha=0.5, label='_nolegend_')\n",
        "\n",
        "\n",
        "# Plot MLE Distribution\n",
        "rv = stats.binom(10, 0.5) # create binomial rv for 10 coints with p=0.5 stats.binom(10,exp_p)\n",
        "x = np.arange(11)  # values which represent the number of heads np.arange(11)\n",
        "f = rv.pmf(x)  # f is the pmf of rv for values of x\n",
        "\n",
        "plt.plot(x, f,'-go', ms=10)\n",
        "plt.vlines(x, 0, f, colors=\"g\", lw=1,alpha=0.5, label='_nolegend_')\n",
        "\n",
        "\n",
        "# Label, Title, Legend\n",
        "plt.xlabel(\"Number of successes\")\n",
        "plt.ylabel(\"Proportion\")\n",
        "plt.title(\"Maximum Likelihood Estimation for Binomial Random Variable\")\n",
        "plt.legend([\"True p\", \"MLE p\", \"Data\"])\n",
        "\n",
        "plt.show()\n"
      ]
    },
    {
      "cell_type": "markdown",
      "metadata": {
        "id": "-nU9Grx2TTAm"
      },
      "source": [
        "In the maximum likelihood function, we are predicting the probability distribution from a set of given data. This maximizes the likelihood function such that the observed data is closer to the predicted probability distribution. Since the generated observed data is a small random set, the plot using the maximum likelihood function is close but not equal to the actual plot. In order to improve the plot, the number of observed values can be increased and using the MLE we can get a much closer plot to the actual plot."
      ]
    },
    {
      "cell_type": "markdown",
      "metadata": {
        "id": "R1CG3ekPgfe8"
      },
      "source": [
        "# [10 Marks] Task 3 : Naive Bayes Classifier\n"
      ]
    },
    {
      "cell_type": "markdown",
      "metadata": {
        "id": "amaU_1k9PnET"
      },
      "source": [
        "## Bayes Theorem\n",
        "\n",
        "In probability and statistics, Bayes Theorem describes the probability of an event based on prior knowledge of conditions that might be related to the event.\n",
        "\n",
        "Mathematically, Bayes Theorem is given as follows,\n",
        "$$ P(A \\mid B) = \\frac{P( B \\mid A) \\times P(A)}{P(B)} $$ \n",
        "\n",
        "where $P(A)$ is the prior probability and $P(A\\mid B)$ is the posterior probability.\n",
        "\n",
        "\n",
        "\n",
        "\n",
        "\n"
      ]
    },
    {
      "cell_type": "markdown",
      "metadata": {
        "id": "661PR7wygJfU"
      },
      "source": [
        "## Naive Bayes Classifier\n",
        "\n",
        "The Naive Bayes Classifier is a classification algorithm based on **Bayes Theorem.**\n",
        "The fundamental Naive Bayes assumption is that each feature makes an \n",
        "*   **Independent**\n",
        "*   **Equal**\n",
        "\n",
        "contribution to the final outcome.\n",
        "\n",
        "We can apply Bayes' theorem to a given dataset in the following way:\n",
        "\n",
        "$$ P(y\\mid X) = \\frac{P(X\\mid y) \\times P(y)}{P(X)}$$\n",
        "\n",
        "where $y$ is class variable and $X$ is a feature vector of size $n$ represented as $ X = (x_1, x_2,x_3, \\cdots, x_n) $.\n",
        "\n",
        "\n",
        "By subsituiting $X$, we obtain the following result:\n",
        "$$ P(x_1,x_2,x_3,\\cdots,x_n) = \\prod_{i=1}^{n} P(x_i | x_1, \\cdots,x_{i-1},y) $$\n",
        "\n",
        "However, based on the Naive's Bayes assumption of independence we can simplify the above equation as follows:\n",
        "$$ P(x_1,x_2,x_3,\\cdots,x_n) = \\prod_{i=1}^{n} P(x_i | y) $$\n",
        "Consequently, the original equation can be expressed as \n",
        "$$ P(y|x_1,x_2,x_3,\\cdots,x_n) = \\frac{\\prod_{i=1}^{n} P(x_i | y) P(y)}{P(x_1),\\cdots,P(x_n)} $$\n",
        "\n",
        "Furthemore, the denominator is a constant so we can leave it out.\n",
        "$$ P(y|x_1,x_2,x_3,\\cdots,x_n) \\propto  P(y) \\prod_{i=1}^{n} P(x_i | y)$$\n",
        "\n",
        "Finally, our classifier model is given as follows:\n",
        "\n",
        "$$ y = {\\arg \\max}_{\\{k \\in  1,\\cdots,K \\}} P(C_k) \\prod_{i=1}^{n} P(x_i | C_k) $$\n",
        "where $P(C_k)$ is the class probability."
      ]
    },
    {
      "cell_type": "markdown",
      "metadata": {
        "id": "i0qqizJf-PpH"
      },
      "source": [
        "**Note:**\n",
        "The Naive Bayes is easy to implement and fast to predict the class of the test data set. It also performs well in multi-class prediction. However, If categorical variable has a category (in test data set), which was not observed in training data set, then model will assign a 0 (zero) probability and will be unable to make a prediction. This is often known as Zero Frequency. To solve this, we can use the smoothing technique. One of the simplest smoothing techniques is called Laplace estimation. "
      ]
    },
    {
      "cell_type": "markdown",
      "metadata": {
        "id": "n0WM9aPo7uKX"
      },
      "source": [
        "## Task Overview \n",
        "This task has been sub divided into two parts.\n",
        " - In Part A, you will compute predictions on a small scale data using Naive Bayes classifier given some input features.\n",
        " - In Part B, you are to go over through the code that implements a Naive Bayes Classifer and relate the diffrent functions to the steps that you took in Part A. (**You are not required to implement anything Part B**)"
      ]
    },
    {
      "cell_type": "markdown",
      "metadata": {
        "id": "sdO0pnUrPqZn"
      },
      "source": [
        "## [8 Marks] Part A : Play Cricket\n",
        "**Consider a fictional dataset that describes the weather conditions for a game of cricket. Based on the meteorological conditions, each tuple classifies the weather as appropriate or unfit for playing cricket. Your task is to learn a Nave Bayes model that predicts whether or not it is safe to play cricket given the current weather conditions.**"
      ]
    },
    {
      "cell_type": "markdown",
      "metadata": {
        "id": "jlGNkaq1iZei"
      },
      "source": [
        "| Weather | Temperature | Humidity | Windy | Label |\n",
        "|---------|-------------|----------|-------|-------|\n",
        "| Clear   | Hot         | High     | No    | No    |\n",
        "| Clear   | Hot         | High     | Yes   | No    |\n",
        "| Cloudy  | Hot         | High     | No    | Yes   |\n",
        "| Raining | Mild        | High     | No    | Yes   |\n",
        "| Raining | Cold        | Normal   | No    | Yes   |\n",
        "| Raining | Cold        | Normal   | Yes   | No    |\n",
        "| Cloudy  | Cold        | Normal   | Yes   | Yes   |\n",
        "| Clear   | Mild        | High     | No    | No    |\n",
        "| Clear   | Cold        | Normal   | No    | Yes   |\n",
        "| Raining | Mild        | Normal   | No    | Yes   |\n",
        "| Clear   | Mild        | Normal   | Yes   | Yes   |\n",
        "| Cloudy  | Mild        | High     | Yes   | Yes   |\n",
        "| Cloudy  | Hot         | Normal   | No    | Yes   |\n",
        "| Raining | Mild        | High     | Yes   | No    |"
      ]
    },
    {
      "cell_type": "markdown",
      "metadata": {
        "id": "hOLvLqFUn49O"
      },
      "source": [
        "### [4 Marks] Part I : Probability $(X \\mid y)$\n",
        "**Based on the dataset, fill in the missing values in the table below.**\n"
      ]
    },
    {
      "cell_type": "markdown",
      "metadata": {
        "id": "cC8uMX39ogts"
      },
      "source": [
        "| Label       | Yes                 | No                 |\n",
        "|-------------|---------------------|--------------------|\n",
        "| Weather     | P(Weather\\|Yes)     | P(Weather\\|No)     |\n",
        "| Clear       |  2/9                |  3/5               |\n",
        "| Cloudy      | 4/9                 |  0                 |\n",
        "| Raining     | 3/9                 |  2/5               |\n",
        "| Temperature | P(Temperature\\|Yes) | P(Temperature\\|No) |\n",
        "| Hot         |  2/9                |  2/5               |\n",
        "| Mild        |  4/9                |  2/5               |\n",
        "| Cold        |  3/9                |  1/5               |\n",
        "| Humidity    | P(Humidity\\|Yes)    | P(Humidity\\|No)    |\n",
        "| High        |  3/9                |  4/5               |\n",
        "| Normal      |  6/9                |  1/5               |\n",
        "| Windy       | P(Windy\\|Yes)       | P(Windy\\|No)       |\n",
        "| Yes         |  3/9                |  3/5               |\n",
        "| No          |  6/9                |  2/5               |"
      ]
    },
    {
      "cell_type": "markdown",
      "metadata": {
        "id": "TDLr6h_Goypm"
      },
      "source": [
        "### [4 Marks] Part II : Compute Predictions\n",
        "\n",
        "**Based on the given weather conditions and Part I, compute the prediction. (No marks given to answers without explanation)**"
      ]
    },
    {
      "cell_type": "markdown",
      "metadata": {
        "id": "WmFx6yV-qHMM"
      },
      "source": [
        "| Weather | Temperature | Humiditiy | Windy | Label |\n",
        "|---------|-------------|-----------|-------|-------|\n",
        "| Raining | Hot         | High      | No    | No     |\n",
        "\n"
      ]
    },
    {
      "cell_type": "markdown",
      "metadata": {
        "id": "Te7qZXCaqdj8"
      },
      "source": [
        "Explanation. \\\n",
        "We get to the answer by comparing the probabilities of the labels with all the given conditions.\\\n",
        "if the probability of label is yes given all conditions, is higher than that of probability when label is no, given the condtions, then playing the match will be allowed. \\\n",
        "If the opposite is true where prob of label being no is higher, given the condions, is higher than that of when label is yes, then playing the match will not be allowed.\\\n",
        "\n",
        "\n",
        "the given conditions:\\\n",
        "Weather=rain,Temperature=Hot, Humidity=High, Windy=No \\\n",
        "\n",
        "\n",
        "If Label=Yes, (using probs from part 1):\n",
        "P(label=yes | Weather=rain,Temperature=Hot, Humidity=High, Windy=No) \n",
        "=  ( $\\frac{9}{14}$ )( $\\frac{3}{9}$ )( $\\frac{2}{9}$ )( $\\frac{3}{9}$ )( $\\frac{6}{9}$ ) = $\\frac{2}{189}$ = 0.0106\n",
        "\n",
        "If Label = No, (using probs from part 1):\n",
        "P(label=no | Weather=rain,Temperature=Hot, Humidity=High, Windy=No) = ( $\\frac{5}{14}$ )( $\\frac{2}{5}$ )( $\\frac{2}{5}$ )( $\\frac{4}{5}$ )( $\\frac{2}{5}$ ) = $\\frac{16}{875}$ = 0.0183\n",
        "\n",
        "The probability of label = No is greater than label = Yes hence the condtions do not allow us to play cricket\n"
      ]
    },
    {
      "cell_type": "markdown",
      "metadata": {
        "id": "njZh2fLeqKbJ"
      },
      "source": [
        "| Weather | Temperature | Humidity | Windy | Label |\n",
        "|---------|-------------|----------|-------|-------|\n",
        "| Cloudy  | Cold        | Normal   | Yes   | Yes     |"
      ]
    },
    {
      "cell_type": "markdown",
      "metadata": {
        "id": "hH6X1j-bqlSx"
      },
      "source": [
        "Explanation. \\\n",
        "We get to the answer by comparing the probabilities of the labels with all the given conditions.\\\n",
        "if the probability of label is yes given all conditions, is higher than that of probability when label is no, given the condtions, then playing the match will be allowed. \\\n",
        "If the opposite is true where prob of label being no is higher, given the condions, is higher than that of when label is yes, then playing the match will not be allowed.\\\n",
        "the given conditions:\\\n",
        "Weather=cloudy,Temperature=cold, Humidity=normal, Windy=yes \\\n",
        " \n",
        "\n",
        "If Label=Yes, (using probs from part 1):\n",
        "\n",
        "P(label=Nes | Weather=cloudy,Temperature=cold, Humidity=normal, Windy=yes) \n",
        "=  ( $\\frac{9}{14}$ )( $\\frac{4}{9}$ )( $\\frac{3}{9}$ )( $\\frac{6}{9}$ )( $\\frac{3}{9}$ ) = $\\frac{4}{189}$ = 0.0212\n",
        "\n",
        "If Label = No, (using probs from part 1):\n",
        "\n",
        "P(label=No | Weather=cloudy,Temperature=cold, Humidity=normal, Windy=yes) = ( $\\frac{5}{14}$ )( 0 )( $\\frac{1}{5}$ )( $\\frac{1}{5}$ )( $\\frac{3}{5}$ ) = 0\n",
        "\n",
        "The probability of label = Yes is greater than label = No hence the conditions allow us to play cricket."
      ]
    },
    {
      "cell_type": "markdown",
      "metadata": {
        "id": "f0GJJ9WaQotR"
      },
      "source": [
        "### [2 Marks] Part B : Text Classification\n",
        "**Part B is the continuation of the work you completed in Part A. In this section, we have provided all the required implementation of a classification model.**\n",
        "\n",
        "**First the functions for loading and preprocessing data are implemented.\n",
        "Then the functions to learn model and to categorize are also implemented.  \n",
        "The dataset that you will be using TextClassification_Data.csv which has been already loaded for you.**\n",
        "\n",
        "**Your task is to read and try to understand the following process. You will have provide a 30 second explaination in viva.**"
      ]
    },
    {
      "cell_type": "code",
      "execution_count": 3,
      "metadata": {
        "id": "VV2AuqKihT7T"
      },
      "outputs": [],
      "source": [
        "# Load Dataset\n",
        "def load_file(fileName):\n",
        "    \"\"\"\n",
        "    fileName: The name of the file which needs to be loaded.\n",
        "    Load csv file into a pandas dataframe.\n",
        "    \"\"\"\n",
        "    dataset = pd.read_table(fileName, header=0, sep=\",\", encoding=\"unicode_escape\")\n",
        "    return dataset\n",
        "\n",
        "# Preprocess Data\n",
        "def preprocess(data):\n",
        "    \"\"\"\n",
        "    data: Dataset which needs to be pre-processed.\n",
        "    Creates the term frequency matrix for the review data set.\n",
        "    \"\"\"\n",
        "    # https://scikit-learn.org/stable/modules/generated/sklearn.feature_extraction.text.CountVectorizer.html (Please see this if you need any help)\n",
        "    count_vectorizer = CountVectorizer()\n",
        "    data = count_vectorizer.fit_transform(data)\n",
        "    return data"
      ]
    },
    {
      "cell_type": "code",
      "execution_count": 4,
      "metadata": {
        "id": "zq8u1WnEhgY4"
      },
      "outputs": [],
      "source": [
        "# Learn Model\n",
        "def learn_model(data,target):\n",
        "    \"\"\"\n",
        "    data: Feature Vector (Matrix)\n",
        "    target: Training Labels\n",
        "    Returns the trained model which is a tuple consisting of \n",
        "    P(X|y) (Probabilities of each feature given class y)\n",
        "    P(Y) (Probability of each class)\n",
        "    \"\"\"\n",
        "    # Initialize the model\n",
        "    model = None\n",
        "    # Convert the data into a numpy array using the toarray() method\n",
        "    Array = data.toarray()\n",
        "    # Store the dimensions of the array into array_row,array_col\n",
        "    array_row,array_col = Array.shape\n",
        "    # Get a list of all the unique classes from target \n",
        "    Y = list(np.unique(target))\n",
        "    # Initialize X_given_C \n",
        "    # P (X | C) (Probability of features given class y)\n",
        "    X_given_y = np.zeros((len(Y),array_col))\n",
        "    # Initialize the list to store probability of each particular class\n",
        "    # P(C)\n",
        "    Probability = [0]*len(Y)\n",
        "    # Traverse through each class\n",
        "    for index  in range(len(Y)):\n",
        "          # Subsetting the rows belonging to a particular class.\n",
        "          temp = Array[target == Y[index]]\n",
        "          # Store the dimensions of Temp Array.\n",
        "          class_row,class_col = temp.shape\n",
        "          X_given_y[index] = np.sum(temp,axis=0)\n",
        "          # Peform Lapalace Estimation by adding 1 so that none of the feature has a probability of zero for a given class.\n",
        "          X_given_y[index]+=1\n",
        "          Sum_Y_given_C = np.sum(X_given_y[index])\n",
        "          # P(X|y) -> Probabilitity of each feature given class Y.\n",
        "          X_given_y[index] = X_given_y[index]/Sum_Y_given_C\n",
        "          # P(y) -> Probability of each Class\n",
        "          Probability[index] = class_row/array_row\n",
        "    # Create a series with Class Labels as the index and the probability as values.\n",
        "    Class_Probability = pd.Series(Probability,Y)\n",
        "    # Create model\n",
        "    model = (X_given_y,Class_Probability)\n",
        "    return model"
      ]
    },
    {
      "cell_type": "code",
      "execution_count": 5,
      "metadata": {
        "id": "vghFPdhDhjl4"
      },
      "outputs": [],
      "source": [
        "# Compute Prediction\n",
        "def classify(model, testdata):\n",
        "    #Initialize list to store predicted Label.\n",
        "    Predicted_val=[]\n",
        "    #Probability of features given class Y.\n",
        "    P_given_C = model[0]\n",
        "    # Probability of each class along with class label.\n",
        "    Class_Probability = model[1]\n",
        "    Classes = Class_Probability.index\n",
        "    # Convert test data to numpy array.\n",
        "    TestArray = testdata.toarray()\n",
        "    # Store the dimension of the TestArray in the variables ArrayRow,ArrayCol\n",
        "    ArrayRow,ArrayCol = TestArray.shape\n",
        "    # Loop through each dataset\n",
        "    for i in range(ArrayRow): \n",
        "        # Initialize Probabilites list with zero to store probability for each class.\n",
        "        Probabilities = [0]*len(Classes)\n",
        "        # Compute the probability for each class given data\n",
        "        for j in range(len(Classes)):\n",
        "            # Extract those features which are present in the dataset instance and multiply their probabilities. \n",
        "            # Probabilities can be extracted from P_given_C\n",
        "            Probabilities[j] = Class_Probability[Classes[j]]*P_given_C[j][TestArray[i].astype(bool)].prod()\n",
        "        # Store the computed probabilities in a series\n",
        "        temp_series = pd.Series(Probabilities,Classes)\n",
        "        # Predicted label is the class with the highest probability.\n",
        "        Predicted_val.append(temp_series.idxmax())\n",
        "    # Return list of predicted labels.\n",
        "    return Predicted_val"
      ]
    },
    {
      "cell_type": "code",
      "execution_count": 6,
      "metadata": {
        "colab": {
          "base_uri": "https://localhost:8080/"
        },
        "id": "k5jIj4p7HQ7I",
        "outputId": "1bb29983-8865-4c0e-d7a6-2593e06bdb53"
      },
      "outputs": [
        {
          "output_type": "stream",
          "name": "stdout",
          "text": [
            "Loading data.....\n",
            "preprocessing data.....\n",
            "Train & Test split....\n",
            "Learning model.....\n",
            "Classifying test data......\n",
            "Evaluating results.....\n",
            "0.7048271648044693\n"
          ]
        }
      ],
      "source": [
        "# DO NOT EDIT\n",
        "features = [\"SUMMARY\", \"categories\", \"sub_categories\"]\n",
        "# Load Dataset\n",
        "print(\"Loading data.....\")\n",
        "dataset = load_file(\"TextClassification_Data.csv\")\n",
        "data,target = dataset[features[0]].fillna(\" \"), dataset[features[1]]\n",
        "\n",
        "# Pre process Dataset\n",
        "print(\"preprocessing data.....\")\n",
        "word_vectors = preprocess(data)\n",
        "\n",
        "# Split Data into train & test Data\n",
        "print(\"Train & Test split....\")\n",
        "trainingX, testX,trainingY,testY = train_test_split(word_vectors,target,test_size=0.4,random_state=43)\n",
        "\n",
        "# Train Model\n",
        "print(\"Learning model.....\")\n",
        "# Uncomment the below two lines (Sklearn Implementation of Naive Bayes) to check if your code is performing correctly.\n",
        "#classifier = BernoulliNB()   \n",
        "#classifier.fit(trainingX,trainingY)\n",
        "model = learn_model(trainingX,trainingY)\n",
        "\n",
        "# Compute Prediction\n",
        "print(\"Classifying test data......\") \n",
        "# Uncomment the below line to compute predictions using sklearn model and verify your results.\n",
        "#predictedY = classifier.predict(testX)   \n",
        "predictedY = classify(model, testX)\n",
        "\n",
        "# Evaluate Results\n",
        "print(\"Evaluating results.....\")\n",
        "print(metrics.accuracy_score(testY,predictedY))\n"
      ]
    },
    {
      "cell_type": "markdown",
      "metadata": {
        "id": "C0FGyWRmWOp6"
      },
      "source": [
        "# **Note: Task 4 is a bonus Question and should only be attempted if all the other tasks have been completed.** "
      ]
    },
    {
      "cell_type": "markdown",
      "metadata": {
        "id": "j6spi6oTDHMo"
      },
      "source": [
        "# [0 Marks] Task 4 : Bayesian Updating\n"
      ]
    },
    {
      "cell_type": "markdown",
      "metadata": {
        "id": "3B-TEi1w-fcF"
      },
      "source": [
        "## Bayesian Updating\n",
        "The Bayesian keeps on updating their beliefs based on the events that they see. For example a Bayesian might initially holds the belief that the moon comes out every night with a probability of 1/2. As more nights pass, they see the moon a lot more, and their beliefs start to change becoming closer to reality.\n",
        "\n",
        "This is extremely intuitive. For example, assume that a pharmaceutical company makes a medicine and claims that it is 90% effective. You see it in action and find it failing more times than succeeding. You would update your beliefs appropriately.\n",
        "\n",
        "This question is supposed to simulate the concept of Bayesian updating.\n",
        "\n",
        "$$P(H|D) = \\frac{P(D|H) P(H)}{P(D)}$$\n",
        "\n",
        "$H$ is the hypothesis (our belief about the distribution). $D$ is the data. $P(D)$ can be computed by the total probability rule."
      ]
    },
    {
      "cell_type": "markdown",
      "metadata": {
        "id": "4SeLfn0uWvcr"
      },
      "source": [
        "## Example\n",
        "\n",
        "Shayan, a TA of the course attempts to play a game with you. He says that he has 2 types of coin. One coin is fair. The other is biased (80% of the time it shows up heads and 20% of the time it shows tails)\n",
        "\n",
        "He tells you that he would fairly chose one of these coins (50% probability of choosing each)\n",
        "\n",
        "Imagine that you get a tails. Intuitively, we would believe that now that the coin is likely to be fair\n",
        "\n",
        "$$P(\\text{Fair}\\mid \\text{Tails}) = P(\\text{Tails} \\mid  \\text{Fair}) \\times P(\\text{Fair}) = 0.5\\times 0.5 = 0.25$$\n",
        "$$P(\\text{Biased} \\mid Tails) = P(\\text{Tails} \\mid \\text{Biased}) \\times P(\\text{Biased}) = 0.2\\times 0.5 = 0.1$$\n",
        "\n",
        "Therefore our revised beliefs are that the fair coin occurs with probability\n",
        "$$\\frac{0.25}{0.35}= \\frac{5}{7}$$\n",
        "and the biased coin with probability\n",
        "$$\\frac{0.1}{0.35}= \\frac{2}{7}$$\n",
        "\n",
        "This reflects reality more.\n"
      ]
    },
    {
      "cell_type": "markdown",
      "metadata": {
        "id": "1tH8u-tA-3il"
      },
      "source": [
        "## Task Overview\n",
        "\n",
        "**Your goal is to implement this same situation in code. You are given the functions $\\texttt{biased_coin}$ and $\\texttt{fair_coin}$ to simulate the coin Shayan uses. You are also given a function $\\texttt{normalize}$ which takes a dictionary of probability and normalizes them such that the probability sums up to 1.You start of with a dictionary containing your current beliefs, initialized to 0.5 each reflecting the statement of Shayan. Based on the coin flips, update them and at the end, output your final beliefs.**"
      ]
    },
    {
      "cell_type": "code",
      "execution_count": null,
      "metadata": {
        "id": "FKrrdSbaBOkb"
      },
      "outputs": [],
      "source": [
        "# DO NOT EDIT\n",
        "def biased_coin():\n",
        "  return np.random.choice(2, p=[0.2,0.8])\n",
        "def fair_coin():\n",
        "  return np.random.choice(2, p=[0.5,0.5])"
      ]
    },
    {
      "cell_type": "code",
      "execution_count": null,
      "metadata": {
        "id": "G9QiEWM2S0Pp"
      },
      "outputs": [],
      "source": [
        "# DO NOT EDIT\n",
        "def normalise(current_beliefs):\n",
        "  total=sum(current_beliefs.values())\n",
        "  for i in current_beliefs:\n",
        "    current_beliefs[i]/=total\n",
        "    "
      ]
    },
    {
      "cell_type": "code",
      "execution_count": null,
      "metadata": {
        "colab": {
          "base_uri": "https://localhost:8080/"
        },
        "id": "fezE6bNJS130",
        "outputId": "b805ce83-4c7f-4cca-97e7-3a93609ee9b5"
      },
      "outputs": [
        {
          "name": "stdout",
          "output_type": "stream",
          "text": [
            "{'fair': 0.6995468959763333, 'biased': 0.30045310402366665}\n"
          ]
        }
      ],
      "source": [
        "beliefs = {\"fair\":0.5,\"biased\":0.5}\n",
        "# Toss n times\n",
        "n = 10\n",
        "coin_tosses = [fair_coin() for _ in range(n)]\n",
        "current_beliefs = {\"fair\":0.5,\"biased\":0.5}\n",
        "\n",
        "for flip in coin_tosses:\n",
        "  # TODO: Implement what needs to be done for each coin flip\n",
        "print(current_beliefs)"
      ]
    }
  ],
  "metadata": {
    "colab": {
      "collapsed_sections": [],
      "name": "Project_02_Solved.ipynb",
      "provenance": []
    },
    "kernelspec": {
      "display_name": "Python 3",
      "name": "python3"
    },
    "language_info": {
      "codemirror_mode": {
        "name": "ipython",
        "version": 3
      },
      "file_extension": ".py",
      "mimetype": "text/x-python",
      "name": "python",
      "nbconvert_exporter": "python",
      "pygments_lexer": "ipython3",
      "version": "3.9.12"
    }
  },
  "nbformat": 4,
  "nbformat_minor": 0
}