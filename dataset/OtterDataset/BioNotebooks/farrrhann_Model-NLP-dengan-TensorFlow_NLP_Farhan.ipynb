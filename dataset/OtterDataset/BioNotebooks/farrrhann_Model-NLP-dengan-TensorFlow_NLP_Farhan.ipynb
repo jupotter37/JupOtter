{
  "nbformat": 4,
  "nbformat_minor": 0,
  "metadata": {
    "colab": {
      "name": "NLP_Farhan.ipynb",
      "provenance": [],
      "collapsed_sections": []
    },
    "kernelspec": {
      "name": "python3",
      "display_name": "Python 3"
    },
    "language_info": {
      "name": "python"
    }
  },
  "cells": [
    {
      "cell_type": "markdown",
      "metadata": {
        "id": "2IHt1JEA7rQY"
      },
      "source": [
        "\n",
        "\n",
        "*   Nama: Farhan\n",
        "*   Email: farhanarafiq2401@gmail.com\n",
        "*   Kota: Pontianak\n",
        "\n",
        "In India, every year lacs of students sit for competitive examinations like JEE Advanced, JEE Mains, NEET, etc. These exams are said to be the gateway to get admission into India's premier Institutes such as IITs, NITs, AIIMS, etc. Keeping in mind that the competition is tough as lacs of students appear for these examinations, there has been an enormous development in Ed Tech Industry in India, fortuning the dreams of lacs of aspirants via providing online as well as offline coaching, mentoring, etc. This particular dataset consists of questions/doubts raised by students preparing for such examinations.\n",
        "\n",
        "The dataset contains Students-questions.csv file in version 1 as of now.\n",
        "Inside the CSV file, we have two columns:\n",
        "\n",
        "eng: The full question or description of the questions\n",
        "Subject: Which subject does the question belong to. It has 4 classes, Physics, Chemistry, Biology, and Mathematics.\n",
        "\n",
        "\n"
      ]
    },
    {
      "cell_type": "code",
      "metadata": {
        "id": "ICld5DqWMjFg"
      },
      "source": [
        "import pandas as pd"
      ],
      "execution_count": null,
      "outputs": []
    },
    {
      "cell_type": "code",
      "metadata": {
        "id": "qW87MRHdNtNS"
      },
      "source": [
        "df = pd.read_csv('subjects-questions.csv')"
      ],
      "execution_count": null,
      "outputs": []
    },
    {
      "cell_type": "code",
      "metadata": {
        "colab": {
          "base_uri": "https://localhost:8080/"
        },
        "id": "FFiLztEANy63",
        "outputId": "bca43bf3-b956-4650-bf9a-c84506d6f0cf"
      },
      "source": [
        "df.head"
      ],
      "execution_count": null,
      "outputs": [
        {
          "output_type": "execute_result",
          "data": {
            "text/plain": [
              "<bound method NDFrame.head of                                                       eng    Subject\n",
              "0       An anti-forest measure is\\nA. Afforestation\\nB...    Biology\n",
              "1       Among the following organic acids, the acid pr...  Chemistry\n",
              "2       If the area of two similar triangles are equal...      Maths\n",
              "3       In recent year, there has been a growing\\nconc...    Biology\n",
              "4       Which of the following statement\\nregarding tr...    Physics\n",
              "...                                                   ...        ...\n",
              "122514  Which of the following group of\\ncharacters is...    Biology\n",
              "122515  Light year is the\\nA. light emitted by the sun...    Physics\n",
              "122516  Member of Dipnoi are native of\\nA. India.\\nB. ...    Biology\n",
              "122517  In one average-life,\\nA. half the active nucle...    Physics\n",
              "122518  State whether true or false.\\nA magnetic field...    Physics\n",
              "\n",
              "[122519 rows x 2 columns]>"
            ]
          },
          "metadata": {
            "tags": []
          },
          "execution_count": 4
        }
      ]
    },
    {
      "cell_type": "code",
      "metadata": {
        "colab": {
          "base_uri": "https://localhost:8080/"
        },
        "id": "hgs8bHoVOKVj",
        "outputId": "1b730b07-5cb3-41f5-8799-b8c901968310"
      },
      "source": [
        "# untuk melihat apakah terdapat missing value\n",
        "# true berarti ada, false berarti tidak ada\n",
        "df.isnull().values.any()"
      ],
      "execution_count": null,
      "outputs": [
        {
          "output_type": "execute_result",
          "data": {
            "text/plain": [
              "False"
            ]
          },
          "metadata": {
            "tags": []
          },
          "execution_count": 5
        }
      ]
    },
    {
      "cell_type": "code",
      "metadata": {
        "id": "k7blpJekOcv-"
      },
      "source": [
        "# karena data kategori maka dilakukan proses one hot encoding\n",
        "course = pd.get_dummies(df.Subject)\n",
        "df_baru = pd.concat([df, course], axis=1)\n",
        "df_baru = df_baru.drop(columns='Subject')"
      ],
      "execution_count": null,
      "outputs": []
    },
    {
      "cell_type": "code",
      "metadata": {
        "colab": {
          "base_uri": "https://localhost:8080/",
          "height": 206
        },
        "id": "t8t9T8JLPf5P",
        "outputId": "74362efa-770c-49d4-ce28-5afadfaf2d6e"
      },
      "source": [
        "df_baru.head()"
      ],
      "execution_count": null,
      "outputs": [
        {
          "output_type": "execute_result",
          "data": {
            "text/html": [
              "<div>\n",
              "<style scoped>\n",
              "    .dataframe tbody tr th:only-of-type {\n",
              "        vertical-align: middle;\n",
              "    }\n",
              "\n",
              "    .dataframe tbody tr th {\n",
              "        vertical-align: top;\n",
              "    }\n",
              "\n",
              "    .dataframe thead th {\n",
              "        text-align: right;\n",
              "    }\n",
              "</style>\n",
              "<table border=\"1\" class=\"dataframe\">\n",
              "  <thead>\n",
              "    <tr style=\"text-align: right;\">\n",
              "      <th></th>\n",
              "      <th>eng</th>\n",
              "      <th>Biology</th>\n",
              "      <th>Chemistry</th>\n",
              "      <th>Maths</th>\n",
              "      <th>Physics</th>\n",
              "    </tr>\n",
              "  </thead>\n",
              "  <tbody>\n",
              "    <tr>\n",
              "      <th>0</th>\n",
              "      <td>An anti-forest measure is\\nA. Afforestation\\nB...</td>\n",
              "      <td>1</td>\n",
              "      <td>0</td>\n",
              "      <td>0</td>\n",
              "      <td>0</td>\n",
              "    </tr>\n",
              "    <tr>\n",
              "      <th>1</th>\n",
              "      <td>Among the following organic acids, the acid pr...</td>\n",
              "      <td>0</td>\n",
              "      <td>1</td>\n",
              "      <td>0</td>\n",
              "      <td>0</td>\n",
              "    </tr>\n",
              "    <tr>\n",
              "      <th>2</th>\n",
              "      <td>If the area of two similar triangles are equal...</td>\n",
              "      <td>0</td>\n",
              "      <td>0</td>\n",
              "      <td>1</td>\n",
              "      <td>0</td>\n",
              "    </tr>\n",
              "    <tr>\n",
              "      <th>3</th>\n",
              "      <td>In recent year, there has been a growing\\nconc...</td>\n",
              "      <td>1</td>\n",
              "      <td>0</td>\n",
              "      <td>0</td>\n",
              "      <td>0</td>\n",
              "    </tr>\n",
              "    <tr>\n",
              "      <th>4</th>\n",
              "      <td>Which of the following statement\\nregarding tr...</td>\n",
              "      <td>0</td>\n",
              "      <td>0</td>\n",
              "      <td>0</td>\n",
              "      <td>1</td>\n",
              "    </tr>\n",
              "  </tbody>\n",
              "</table>\n",
              "</div>"
            ],
            "text/plain": [
              "                                                 eng  Biology  ...  Maths  Physics\n",
              "0  An anti-forest measure is\\nA. Afforestation\\nB...        1  ...      0        0\n",
              "1  Among the following organic acids, the acid pr...        0  ...      0        0\n",
              "2  If the area of two similar triangles are equal...        0  ...      1        0\n",
              "3  In recent year, there has been a growing\\nconc...        1  ...      0        0\n",
              "4  Which of the following statement\\nregarding tr...        0  ...      0        1\n",
              "\n",
              "[5 rows x 5 columns]"
            ]
          },
          "metadata": {
            "tags": []
          },
          "execution_count": 7
        }
      ]
    },
    {
      "cell_type": "code",
      "metadata": {
        "id": "34bCks_VPn0g"
      },
      "source": [
        "# mengubah nilai nilai dari dataframe ke dalam tipe data numpy array\n",
        "questions = df_baru['eng'].values\n",
        "label = df_baru[['Biology', 'Chemistry', 'Maths', 'Physics']].values"
      ],
      "execution_count": null,
      "outputs": []
    },
    {
      "cell_type": "code",
      "metadata": {
        "id": "kCF5oSg4QpBc"
      },
      "source": [
        "from sklearn.model_selection import train_test_split"
      ],
      "execution_count": null,
      "outputs": []
    },
    {
      "cell_type": "code",
      "metadata": {
        "id": "s4o1KqNmQ6da"
      },
      "source": [
        "# membagi data training dan data testing\n",
        "questions_latih, questions_test, label_latih, label_test = train_test_split(questions, label, test_size=0.2)"
      ],
      "execution_count": null,
      "outputs": []
    },
    {
      "cell_type": "code",
      "metadata": {
        "id": "DembZ7YvRZ3L"
      },
      "source": [
        "from tensorflow.keras.preprocessing.text import Tokenizer"
      ],
      "execution_count": null,
      "outputs": []
    },
    {
      "cell_type": "code",
      "metadata": {
        "id": "V2oFD47tRkb_"
      },
      "source": [
        "from tensorflow.keras.preprocessing.sequence import pad_sequences"
      ],
      "execution_count": null,
      "outputs": []
    },
    {
      "cell_type": "code",
      "metadata": {
        "id": "VqL91ZibRmfZ"
      },
      "source": [
        "tokenizer = Tokenizer(num_words=5000, oov_token='x')\n",
        "tokenizer.fit_on_texts(questions_latih) \n",
        "tokenizer.fit_on_texts(questions_test)"
      ],
      "execution_count": null,
      "outputs": []
    },
    {
      "cell_type": "code",
      "metadata": {
        "id": "L4zTy09hRvfb"
      },
      "source": [
        "sekuens_latih = tokenizer.texts_to_sequences(questions_latih)\n",
        "sekuens_test = tokenizer.texts_to_sequences(questions_test)"
      ],
      "execution_count": null,
      "outputs": []
    },
    {
      "cell_type": "code",
      "metadata": {
        "id": "Qw-gnjnAR3Ji"
      },
      "source": [
        "padded_latih = pad_sequences(sekuens_latih) \n",
        "padded_test = pad_sequences(sekuens_test)"
      ],
      "execution_count": null,
      "outputs": []
    },
    {
      "cell_type": "code",
      "metadata": {
        "id": "jeX9kWoYR5rc"
      },
      "source": [
        "import tensorflow as tf"
      ],
      "execution_count": null,
      "outputs": []
    },
    {
      "cell_type": "code",
      "metadata": {
        "id": "ifU_Tlf6R9Kp"
      },
      "source": [
        "class Callback(tf.keras.callbacks.Callback): \n",
        "    def on_epoch_end(self, epoch, logs={}): \n",
        "        if(logs.get('accuracy') > 0.90 and logs.get('val_accuracy') > 0.90):\n",
        "            print(\"\\nReached 90% accuracy\") \n",
        "            self.model.stop_training = True \n",
        "     \n",
        "callbacks = Callback()"
      ],
      "execution_count": null,
      "outputs": []
    },
    {
      "cell_type": "code",
      "metadata": {
        "id": "6l_XbxQxSIN8"
      },
      "source": [
        "# pemodelan sequential dengan menerapkan embedding dan LSTM\n",
        "model = tf.keras.Sequential([\n",
        "    tf.keras.layers.Embedding(input_dim=5000, output_dim=16),\n",
        "    tf.keras.layers.LSTM(64),\n",
        "    tf.keras.layers.Dense(128, activation='relu'),\n",
        "    tf.keras.layers.Dense(64, activation='relu'),\n",
        "    tf.keras.layers.Dense(4, activation='softmax')\n",
        "])"
      ],
      "execution_count": null,
      "outputs": []
    },
    {
      "cell_type": "code",
      "metadata": {
        "id": "bF2XOXvjSOb5"
      },
      "source": [
        "model.compile(loss='categorical_crossentropy',optimizer='adam',metrics=['accuracy'])"
      ],
      "execution_count": null,
      "outputs": []
    },
    {
      "cell_type": "code",
      "metadata": {
        "colab": {
          "base_uri": "https://localhost:8080/"
        },
        "id": "3CnDV3wpSS1P",
        "outputId": "7f8e3840-b105-46eb-e86c-bba94446d6e1"
      },
      "source": [
        "num_epochs = 30\n",
        "history = model.fit(padded_latih, label_latih, epochs=num_epochs, \n",
        "                        validation_data=(padded_test, label_test), verbose=2, callbacks=[callbacks])"
      ],
      "execution_count": null,
      "outputs": [
        {
          "output_type": "stream",
          "text": [
            "Epoch 1/30\n",
            "3063/3063 - 1901s - loss: 0.3901 - accuracy: 0.8644 - val_loss: 0.2402 - val_accuracy: 0.9189\n",
            "Epoch 2/30\n",
            "3063/3063 - 1895s - loss: 0.2134 - accuracy: 0.9290 - val_loss: 0.2331 - val_accuracy: 0.9183\n",
            "\n",
            "Reached 90% accuracy\n"
          ],
          "name": "stdout"
        }
      ]
    },
    {
      "cell_type": "code",
      "metadata": {
        "id": "ZLZ7QgCyhNEQ"
      },
      "source": [
        "import matplotlib.pyplot as plt"
      ],
      "execution_count": null,
      "outputs": []
    },
    {
      "cell_type": "code",
      "metadata": {
        "colab": {
          "base_uri": "https://localhost:8080/",
          "height": 295
        },
        "id": "YK5-tVlbhsUD",
        "outputId": "3588ce64-ad38-49e8-989b-fbf7fcab497c"
      },
      "source": [
        "# membuat plot loss\n",
        "plt.plot(history.history['loss'])\n",
        "plt.plot(history.history['val_loss'])\n",
        "plt.title('Loss Model')\n",
        "plt.ylabel('Loss')\n",
        "plt.xlabel('Epoch')\n",
        "plt.legend(['train', 'test'], loc='upper left')\n",
        "plt.show()"
      ],
      "execution_count": null,
      "outputs": [
        {
          "output_type": "display_data",
          "data": {
            "image/png": "[encoded data removed]",
            "text/plain": [
              "<Figure size 432x288 with 1 Axes>"
            ]
          },
          "metadata": {
            "tags": [],
            "needs_background": "light"
          }
        }
      ]
    },
    {
      "cell_type": "code",
      "metadata": {
        "colab": {
          "base_uri": "https://localhost:8080/",
          "height": 295
        },
        "id": "kYpv3dDEic0F",
        "outputId": "f83a8dea-d57d-4887-d1de-00c93721faee"
      },
      "source": [
        "# membuat plot akurasi\n",
        "plt.plot(history.history['accuracy'])\n",
        "plt.plot(history.history['val_accuracy'])\n",
        "plt.title('Akurasi Model')\n",
        "plt.ylabel('Accuracy')\n",
        "plt.xlabel('Epoch')\n",
        "plt.legend(['train', 'test'], loc='upper left')\n",
        "plt.show()"
      ],
      "execution_count": null,
      "outputs": [
        {
          "output_type": "display_data",
          "data": {
            "image/png": "[encoded data removed]",
            "text/plain": [
              "<Figure size 432x288 with 1 Axes>"
            ]
          },
          "metadata": {
            "tags": [],
            "needs_background": "light"
          }
        }
      ]
    }
  ]
}