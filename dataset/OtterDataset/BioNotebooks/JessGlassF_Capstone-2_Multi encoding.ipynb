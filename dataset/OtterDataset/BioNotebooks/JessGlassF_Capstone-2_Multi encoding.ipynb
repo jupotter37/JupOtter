{
 "cells": [
  {
   "cell_type": "code",
   "execution_count": 1,
   "id": "ab516cd1-f98e-449e-b4ea-f1165ded49e3",
   "metadata": {},
   "outputs": [],
   "source": [
    "#multi-hot encoding large so own thing to avoid accidental kernal restart\n",
    "#Libraries\n",
    "import matplotlib.pyplot as plt\n",
    "import seaborn as sns\n",
    "import pandas as pd\n",
    "from sklearn.preprocessing import OneHotEncoder, MultiLabelBinarizer\n",
    "import os\n",
    "from fuzzywuzzy import fuzz, process\n",
    "import ast"
   ]
  },
  {
   "cell_type": "code",
   "execution_count": 2,
   "id": "1c81b32f-185f-4566-8743-65367b53dd10",
   "metadata": {},
   "outputs": [],
   "source": [
    "#load data\n",
    "file = 'books_nodup.csv'\n",
    "books_df= pd.read_csv(file)"
   ]
  },
  {
   "cell_type": "code",
   "execution_count": 3,
   "id": "ebdcf6d0-a3f7-49cc-9bc7-428dbff5e493",
   "metadata": {},
   "outputs": [
    {
     "name": "stdout",
     "output_type": "stream",
     "text": [
      "0    history military history civil war american hi...\n",
      "1            couture fashion historical art nonfiction\n",
      "2                                     politics history\n",
      "Name: genre, dtype: object\n"
     ]
    }
   ],
   "source": [
    "print(books_df['genre'].head(3))"
   ]
  },
  {
   "cell_type": "code",
   "execution_count": 4,
   "id": "207e7574-f3d4-40c6-b05a-b33ecf1e3f0f",
   "metadata": {},
   "outputs": [],
   "source": [
    "books_df['genre']=books_df['genre'].apply(lambda x: x.split())"
   ]
  },
  {
   "cell_type": "code",
   "execution_count": 5,
   "id": "6dca4f20-4c41-4267-b970-a807f1a9f50d",
   "metadata": {},
   "outputs": [],
   "source": [
    "genres=set(genre for sublist in books_df['genre'] for genre in sublist)"
   ]
  },
  {
   "cell_type": "code",
   "execution_count": 6,
   "id": "4c1ba5cc-188e-482c-afc7-dfe76c4fed46",
   "metadata": {},
   "outputs": [],
   "source": [
    "genres=sorted(genres)"
   ]
  },
  {
   "cell_type": "code",
   "execution_count": 7,
   "id": "fdfe3e94-6060-45f7-968e-d9e0020258e6",
   "metadata": {},
   "outputs": [
    {
     "name": "stdout",
     "output_type": "stream",
     "text": [
      "['about', 'abuse', 'academia', 'academic', 'academics', 'acceptance', 'accounting', 'action', 'activism', 'adaptations', 'adolescence', 'adoption', 'adult', 'adventure', 'aeroplanes', 'africa', 'african', 'age', 'agriculture', 'ai', 'air', 'aircraft', 'airships', 'albanian', 'alchemy', 'alcohol', 'alexandria', 'algebra', 'algeria', 'algorithms', 'aliens', 'alternate', 'alternative', 'amateur', 'amazon', 'america', 'american', 'americana', 'americans', 'americas', 'amish', 'analysis', 'anarchism', 'ancient', 'and', 'angels', 'anglo', 'angola', 'animal', 'animals', 'anime', 'anthologies', 'anthropology', 'anthropomorphic', 'anti', 'antietam', 'antiquities', 'antisemitism', 'apocalyptic', 'apple', 'appomattox', 'archaeology', 'architecture', 'arithmetic', 'army', 'art', 'arthurian', 'artificial', 'arts', 'asexual', 'asia', 'asian', 'aspergers', 'astrology', 'astronomy', 'atheism', 'atlases', 'atmospheric', 'audiobook', 'australia', 'authors', 'autobiography', 'aviation', 'awards', 'babylon', 'back', 'bad', 'baha', 'bande', 'bangladesh', 'banking', 'banks', 'banned', 'baseball', 'basketball', 'batman', 'battle', 'bd', 'bdsm', 'beading', 'beast', 'beauty', 'beer', 'belgian', 'belgium', 'belief', 'benin', 'beverages', 'biblical', 'bicycles', 'bigfoot', 'biography', 'biology', 'bird', 'birds', 'bisexual', 'bissau', 'bizarro', 'black', 'blaze', 'boarding', 'boeing', 'boiled', 'bolivia', 'book', 'books', 'boon', 'booze', 'borrowed', 'botswana', 'boys', 'brain', 'brazil', 'brewing', 'brides', 'britain', 'british', 'buddhism', 'buffy', 'buisness', 'bulgaria', 'bulgarian', 'burkina', 'burundi', 'buses', 'business', 'butch', 'cabo', 'cairo', 'calculus', 'cameroon', 'campaign', 'campus', 'canada', 'canadian', 'canon', 'canterbury', 'care', 'carolingian', 'cars', 'cartography', 'cartoon', 'category', 'catholic', 'cats', 'central', 'century', 'chad', 'challenged', 'change', 'chapter', 'chaucer', 'chemistry', 'chess', 'chick', 'childrens', 'china', 'chinese', 'chivalry', 'choose', 'christian', 'christianity', 'christmas', 'chupacabra', 'church', 'cinderella', 'cisgender', 'cities', 'civil', 'class', 'classic', 'classical', 'classics', 'clean', 'climate', 'climbing', 'club', 'coast', 'cocktails', 'coding', 'collection', 'collections', 'college', 'colonial', 'colouring', 'combat', 'comedian', 'comedy', 'comic', 'comics', 'coming', 'comix', 'communication', 'communism', 'complementary', 'computation', 'computer', 'computers', 'confederacy', 'congo', 'conservation', 'conspiracy', 'contemporary', 'cookbooks', 'cooking', 'coptic', 'copts', 'counselling', 'counter', 'counting', 'couture', 'cozy', 'crafts', 'creation', 'crime', 'crit', 'criticism', 'crochet', 'cross', 'cryptids', 'cryptozoology', 'cthulhu', 'cuisine', 'culinary', 'cult', 'cults', 'cultural', 'culture', 'curation', 'currency', 'cyberpunk', 'cycling', 'czech', 'danish', 'dark', 'darkness', 'dc', 'de', 'death', 'deception', 'deep', 'democratic', 'demons', 'denmark', 'derby', 'design', 'desire', 'dessin', 'detective', 'dev', 'development', 'diary', 'dictionaries', 'diets', 'dinosaurs', 'disability', 'discipleship', 'disease', 'divination', 'divorce', 'djibouti', 'doctor', 'doctors', 'dogs', 'drag', 'dragonlance', 'dragons', 'drama', 'drawing', 'dressing', 'dressmaking', 'drink', 'drinking', 'dungeons', 'dutch', 'dying', 'dystopia', 'e', 'earth', 'eastern', 'ecclesiology', 'ecology', 'economic', 'economics', 'education', 'edwardian', 'egypt', 'egyptian', 'egyptology', 'electrical', 'elizabethan', 'elves', 'emergency', 'emotion', 'empiricism', 'engineering', 'english', 'enterprise', 'entrepreneurship', 'environment', 'epic', 'eritrea', 'erotic', 'erotica', 'esoterica', 'esp', 'espionage', 'essays', 'ethiopia', 'ethnic', 'ethnicity', 'ethnography', 'eugenics', 'eunuch', 'european', 'evangelism', 'evolution', 'f', 'fables', 'fae', 'fairies', 'fairy', 'faith', 'family', 'fan', 'fandom', 'fantasy', 'far', 'fashion', 'faso', 'fat', 'favorites', 'female', 'feminism', 'feminist', 'femme', 'femslash', 'fi', 'fiction', 'field', 'fighters', 'figure', 'film', 'finance', 'financial', 'finnish', 'fire', 'firefighters', 'fitness', 'flash', 'folk', 'folklore', 'food', 'foodie', 'football', 'for', 'force', 'forgotten', 'foster', 'fostering', 'fractured', 'france', 'frankenstein', 'french', 'frugal', 'functional', 'fundamentalism', 'future', 'futurism', 'futuristic', 'gabon', 'gambia', 'game', 'gamebooks', 'games', 'gaming', 'gardening', 'gastronomy', 'gay', 'geek', 'gemstones', 'gender', 'genderfluid', 'genderqueer', 'generation', 'genetics', 'geoffrey', 'geography', 'geology', 'geometry', 'georgian', 'german', 'germany', 'gettysburg', 'ghana', 'ghost', 'ghosts', 'glbt', 'global', 'gnosticism', 'go', 'god', 'goddess', 'gods', 'golden', 'google', 'goth', 'gothic', 'government', 'grad', 'grade', 'graffiti', 'graphic', 'graphica', 'greece', 'greek', 'green', 'grimm', 'growth', 'guidebook', 'guides', 'guinea', 'hackers', 'halloween', 'hard', 'harem', 'harlequin', 'health', 'heartwarming', 'helicopters', 'help', 'herbs', 'heritage', 'heroic', 'hesitancy', 'hi', 'hierarchy', 'high', 'hinduism', 'hip', 'historical', 'historiography', 'history', 'hoaxes', 'hockey', 'holiday', 'holland', 'holocaust', 'home', 'homeopathy', 'homeschool', 'hop', 'horoscopes', 'horror', 'horse', 'horses', 'horticulture', 'hospitals', 'how', 'hqn', 'hugo', 'human', 'humanities', 'humor', 'hungarian', 'hungary', 'hunters', 'i', 'identity', 'ii', 'illness', 'in', 'india', 'indian', 'indigenous', 'indonesian', 'informatics', 'information', 'inspirational', 'inspired', 'intelligence', 'intelligent', 'intensive', 'international', 'internet', 'interracial', 'intersex', 'iran', 'ireland', 'irish', 'islam', 'islamic', 'islamism', 'israel', 'issues', 'italian', 'italy', 'ivory', 'japan', 'japanese', 'jazz', 'jewellery', 'jewish', 'johannesburg', 'jokes', 'josei', 'journal', 'journaling', 'journalism', 'judaica', 'judaism', 'justice', 'juvenile', 'k', 'kazakhstan', 'kenya', 'kids', 'knitting', 'komik', 'labor', 'landscaping', 'language', 'languages', 'latin', 'law', 'lds', 'leadership', 'lebanon', 'led', 'legal', 'legends', 'lenin', 'leningrad', 'leone', 'lesbian', 'lesotho', 'lgbt', 'li', 'liberia', 'librarianship', 'library', 'libya', 'lie', 'life', 'light', 'linguistics', 'lit', 'lite', 'literary', 'literature', 'live', 'living', 'local', 'logic', 'london', 'love', 'lovecraftian', 'loveswept', 'low', 'luxemburg', 'm', 'madagascar', 'magic', 'magical', 'magick', 'mail', 'making', 'malawi', 'mali', 'man', 'management', 'managers', 'manga', 'manhwa', 'mannerpunk', 'manners', 'maps', 'marathi', 'maritime', 'marriage', 'martial', 'marvel', 'mary', 'material', 'materials', 'mathematics', 'mauritania', 'mauritius', 'mechanics', 'med', 'media', 'medical', 'medicine', 'medieval', 'medievalism', 'memoir', 'men', 'menage', 'mental', 'mermaids', 'metallurgy', 'metaphysics', 'method', 'methods', 'microhistory', 'middle', 'military', 'mills', 'mindset', 'mine', 'mineralogy', 'ministry', 'mira', 'mixed', 'mmorpg', 'modern', 'money', 'monsters', 'mormonism', 'moroccan', 'morocco', 'motorcycle', 'motorcycling', 'mountaineering', 'movements', 'mozambique', 'multicultural', 'multiple', 'multiplication', 'murder', 'museology', 'museums', 'music', 'musicals', 'musicians', 'muslimah', 'muslims', 'mystery', 'mysticism', 'mythology', 'mythos', 'n', 'nairobi', 'namibia', 'native', 'natural', 'nature', 'naturopathy', 'naval', 'navy', 'nazi', 'nd', 'near', 'nerd', 'neuroscience', 'new', 'next', 'niger', 'nigeria', 'nine', 'nobel', 'nocturne', 'noir', 'non', 'nonfiction', 'nordic', 'norman', 'north', 'northern', 'novel', 'novella', 'novels', 'nsfw', 'number', 'numeracy', 'numerology', 'numismatics', 'nursery', 'nurses', 'nursing', 'nutrition', 'occult', 'of', 'oil', 'old', 'opera', 'oral', 'order', 'origami', 'original', 'ornithology', 'oro', 'outdoors', 'overland', 'own', 'paganism', 'pakistan', 'palaeontology', 'palmistry', 'paramedics', 'paranormal', 'parenting', 'parents', 'partners', 'party', 'patternmaking', 'peak', 'pediatrics', 'peer', 'period', 'person', 'personal', 'petersburg', 'philosophy', 'photography', 'physical', 'physics', 'physiotherapy', 'picture', 'pilots', 'pirates', 'planet', 'planetary', 'planets', 'planning', 'plantagenet', 'plants', 'playing', 'plays', 'plus', 'poetry', 'poland', 'police', 'polish', 'political', 'politics', 'polyamorous', 'polyamory', 'polygamy', 'pop', 'popular', 'pornography', 'portugal', 'portuguese', 'post', 'potomac', 'poverty', 'prayer', 'pre', 'prehistoric', 'prehistory', 'presents', 'preservation', 'presidents', 'princesses', 'principe', 'prize', 'productivity', 'programming', 'prostitution', 'pseudoscience', 'psychiatry', 'psychoanalysis', 'psychohistory', 'psychological', 'psychology', 'pulp', 'punk', 'puzzles', 'qualitative', 'quantum', 'queer', 'quilting', 'r', 'rabbits', 'race', 'racing', 'racist', 'railway', 'railways', 'raphaelite', 'read', 'readers', 'real', 'realism', 'realistic', 'reality', 'realms', 'recreation', 'recruitment', 'reference', 'reformation', 'regency', 'rel', 'relations', 'relationships', 'religion', 'reportage', 'republic', 'research', 'resources', 'retellings', 'reverse', 'review', 'revival', 'revolution', 'revolutionary', 'rhymes', 'right', 'rights', 'road', 'robots', 'rock', 'role', 'roleplaying', 'roles', 'roll', 'roller', 'roman', 'romance', 'romania', 'romanian', 'romanovs', 'romantic', 'romanticism', 'royal', 'rus', 'russia', 'russian', 'rwanda', 'sahara', 'sao', 'satanism', 'saxon', 'scandinavian', 'school', 'sci', 'science', 'sciences', 'scientific', 'scooters', 'scores', 'scotland', 'scripture', 'seinen', 'self', 'semiotics', 'senegal', 'sequential', 'serbian', 'series', 'services', 'sewing', 'sex', 'sexuality', 'seychelles', 'shapeshifters', 'shelley', 'shenandoah', 'shinigami', 'shojo', 'shonen', 'short', 'shounen', 'siege', 'sierra', 'siglo', 'silhouette', 'singularity', 'size', 'skating', 'skepticism', 'slash', 'slayer', 'sleuth', 'slice', 'soccer', 'social', 'society', 'sociology', 'software', 'soldiers', 'somalia', 'sorcery', 'south', 'southern', 'soviet', 'space', 'spain', 'spanish', 'speculative', 'spider', 'spiritualism', 'spirituality', 'splatterpunk', 'sports', 'spy', 'st', 'stand', 'star', 'states', 'steampunk', 'stories', 'story', 'storytime', 'street', 'strippers', 'strips', 'stuart', 'students', 'studies', 'subtraction', 'subways', 'sudan', 'superheroes', 'superman', 'supernatural', 'surreal', 'survival', 'suspense', 'sustainability', 'swashbuckling', 'swaziland', 'sweden', 'swedish', 'sword', 'tale', 'tales', 'tanzania', 'taoism', 'tarot', 'tasmania', 'taxation', 'tea', 'teachers', 'teaching', 'technical', 'technology', 'teen', 'tennessee', 'terrorism', 'testament', 'textbooks', 'th', 'the', 'theater', 'theatre', 'thelema', 'theology', 'theories', 'theory', 'theosophy', 'therapy', 'threesome', 'thriller', 'tie', 'time', 'to', 'togo', 'tome', 'traditional', 'tragedy', 'trains', 'trans', 'transgender', 'transmississippi', 'transport', 'transsexual', 'travel', 'travelogue', 'trek', 'trip', 'trivia', 'trucks', 'true', 'tudor', 'tunisia', 'turkish', 'tv', 'uganda', 'ukraine', 'ukrainian', 'underground', 'unfinished', 'unicorns', 'union', 'united', 'universe', 'up', 'urban', 'urbanism', 'us', 'usability', 'utopia', 'vaccine', 'vaccines', 'vampire', 'vampires', 'vegan', 'vegetarian', 'vegetarianism', 'verde', 'vespa', 'vicksburg', 'victor', 'victorian', 'video', 'viking', 'virginia', 'virtual', 'visual', 'voyager', 'walking', 'war', 'warcraft', 'warfare', 'warming', 'warriors', 'wars', 'watching', 'web', 'webcomic', 'website', 'weird', 'welfare', 'werecats', 'werewolves', 'west', 'western', 'westerns', 'who', 'whodunit', 'wicca', 'wilderness', 'wildlife', 'wine', 'witchcraft', 'witches', 'wizards', 'wolves', 'woman', 'womens', 'wonder', 'woodwork', 'words', 'work', 'world', 'writing', 'x', 'yaoi', 'york', 'you', 'young', 'your', 'yuri', 'zambia', 'zen', 'zeppelin', 'zimbabwe', 'zombies']\n"
     ]
    }
   ],
   "source": [
    "print(genres)"
   ]
  },
  {
   "cell_type": "code",
   "execution_count": 8,
   "id": "fa57daa9-6d8e-4b36-a37e-7340fa7c56cb",
   "metadata": {},
   "outputs": [],
   "source": [
    "# Define the genre hierarchy\n",
    "genre_hierarchy = {\n",
    "    'Action': ['adventure', 'combat', 'fantasy', 'horror', 'sci-fi', 'thriller'],\n",
    "    'Academia': ['academic', 'academics', 'education', 'university', 'campus'],\n",
    "    'Science': ['astronomy', 'biology', 'chemistry', 'physics', 'geology'],\n",
    "    'History': ['ancient', 'medieval', 'modern', 'historical', 'prehistory'],\n",
    "    'Art': ['art', 'architecture', 'arts', 'visual', 'crafts', 'design'],\n",
    "    'Fiction': ['fantasy', 'science fiction', 'mystery', 'romance', 'thriller'],\n",
    "    'Non-Fiction': ['biography', 'autobiography', 'memoir', 'self-help', 'essay'],\n",
    "    'Culture': ['cultural', 'society', 'ethnic', 'religion', 'spirituality'],\n",
    "    'Entertainment': ['movies', 'tv', 'comics', 'music', 'games', 'sports'],\n",
    "    'Technology': ['computers', 'programming', 'technology', 'engineering'],\n",
    "    'Travel': ['travel', 'adventure', 'tourism', 'exploration'],\n",
    "    'Politics': ['political', 'history', 'government', 'sociology'],\n",
    "    'Social Issues': ['activism', 'acceptance', 'disability', 'feminism'],\n",
    "    'Lifestyle': ['health', 'fitness', 'food', 'fashion', 'home'],\n",
    "    'Mythology': ['mythology', 'legends', 'fairy tales', 'fantasy'],\n",
    "    'Religion': ['christianity', 'islam', 'hinduism', 'buddhism', 'paganism'],\n",
    "    'Languages': ['english', 'french', 'spanish', 'german', 'latin'],\n",
    "    'Geography': ['asia', 'europe', 'africa', 'americas', 'oceania'],\n",
    "    'Science Fiction': ['cyberpunk', 'dystopia', 'space', 'aliens', 'robots'],\n",
    "    'Fantasy': ['dragons', 'magic', 'fairies', 'mythical creatures'],\n",
    "    'Romance': ['love', 'relationship', 'romantic', 'erotic'],\n",
    "    'Mystery': ['detective', 'thriller', 'whodunit', 'crime'],\n",
    "    'Historical Fiction': ['historical', 'biographical', 'period'],\n",
    "    'Young Adult': ['teen', 'yaoi', 'yuri'],\n",
    "    'Hobbies': ['gardening', 'knitting', 'beading', 'cooking', 'collecting'],\n",
    "    'Animals': ['dogs', 'cats', 'birds', 'wildlife'],\n",
    "    'Education': ['teaching', 'learning', 'academic', 'curriculum']\n",
    "}\n"
   ]
  },
  {
   "cell_type": "code",
   "execution_count": 9,
   "id": "0435400f-b674-4a62-81f0-b7ccc9ee49cd",
   "metadata": {},
   "outputs": [],
   "source": [
    "# Flatten the hierarchy into a mapping\n",
    "term_to_category = {}\n",
    "for category, terms in genre_hierarchy.items():\n",
    "    for term in terms:\n",
    "        term_to_category[term] = category"
   ]
  },
  {
   "cell_type": "code",
   "execution_count": 10,
   "id": "18f4e334-08b6-4031-9312-8aab936928bc",
   "metadata": {},
   "outputs": [],
   "source": [
    "# Function to map genres to categories\n",
    "def map_genres(genre_list):\n",
    "    return set(term_to_category.get(genre, 'Unknown') for genre in genre_list)"
   ]
  },
  {
   "cell_type": "code",
   "execution_count": 11,
   "id": "8ad6a4b5-2a84-4148-9d71-0b525215962b",
   "metadata": {},
   "outputs": [],
   "source": [
    "# Apply the function to create a new column with categories\n",
    "books_df['category'] = books_df['genre'].apply(map_genres)"
   ]
  },
  {
   "cell_type": "code",
   "execution_count": 12,
   "id": "2e70361e-26d2-47a0-bcb8-4c7eaf8b8251",
   "metadata": {},
   "outputs": [
    {
     "name": "stdout",
     "output_type": "stream",
     "text": [
      "                                               title  \\\n",
      "0  Between Two Fires: American Indians in the Civ...   \n",
      "1                           Fashion Sourcebook 1920s   \n",
      "2                                         Hungary 56   \n",
      "3  All-American Anarchist: Joseph A. Labadie and ...   \n",
      "4  The Human Equation: Building Profits by Puttin...   \n",
      "\n",
      "                             author  \\\n",
      "0              Laurence M. Hauptman   \n",
      "1  Charlotte Fiell,Emmanuelle Dirix   \n",
      "2                     Andy Anderson   \n",
      "3              Carlotta R. Anderson   \n",
      "4                   Jeffrey Pfeffer   \n",
      "\n",
      "                                                desc  \\\n",
      "0  Reveals that several hundred thousand Indians ...   \n",
      "1  Fashion Sourcebook - 1920s is the first book i...   \n",
      "2  The seminal history and analysis of the Hungar...   \n",
      "3  \"All-American Anarchist\" chronicles the life a...   \n",
      "4  Why is common sense so uncommon when it comes ...   \n",
      "\n",
      "                                               genre    rating  \\\n",
      "0  [history, military, history, civil, war, ameri... -0.959559   \n",
      "1    [couture, fashion, historical, art, nonfiction]  1.606694   \n",
      "2                                [politics, history]  0.673511   \n",
      "3                                   [labor, history] -0.155985   \n",
      "4  [business, leadership, romance, historical, ro... -0.415203   \n",
      "\n",
      "                                        category  \n",
      "0                            {Unknown, Politics}  \n",
      "1  {Lifestyle, Unknown, Historical Fiction, Art}  \n",
      "2                            {Unknown, Politics}  \n",
      "3                            {Unknown, Politics}  \n",
      "4         {Fiction, Historical Fiction, Unknown}  \n"
     ]
    }
   ],
   "source": [
    "print(books_df.head())"
   ]
  },
  {
   "cell_type": "code",
   "execution_count": 13,
   "id": "00d8ff7d-d2a4-4134-8919-52e9a9849b49",
   "metadata": {},
   "outputs": [],
   "source": [
    "# Get all unique categories and convert to list\n",
    "all_categories = list(set(cat for cats in books_df['category'] for cat in cats))"
   ]
  },
  {
   "cell_type": "code",
   "execution_count": 14,
   "id": "58b1d131-7a18-4e1a-a2e4-e7c208c54e47",
   "metadata": {},
   "outputs": [],
   "source": [
    "# Create a DataFrame with multi-hot encoding\n",
    "multi_hot_df = pd.DataFrame(0, index=books_df.index, columns=all_categories)"
   ]
  },
  {
   "cell_type": "code",
   "execution_count": 17,
   "id": "975c5bd1-a023-4446-9a59-405ae84644e4",
   "metadata": {},
   "outputs": [],
   "source": [
    "# Populate the multi-hot encoding DataFrame\n",
    "for idx, categories in books_df['category'].items():\n",
    "    multi_hot_df.loc[idx, list(categories)] = 1"
   ]
  },
  {
   "cell_type": "code",
   "execution_count": 18,
   "id": "5e1a6eb2-0522-4062-892c-68cb0a6189fd",
   "metadata": {},
   "outputs": [],
   "source": [
    "# Combine the original DataFrame with the multi-hot encoding DataFrame\n",
    "result_df = pd.concat([books_df, multi_hot_df], axis=1)"
   ]
  },
  {
   "cell_type": "code",
   "execution_count": 19,
   "id": "9bc86507-464f-431f-8bad-216400cabefa",
   "metadata": {},
   "outputs": [],
   "source": [
    "# Drop the intermediate columns if needed\n",
    "result_df = result_df.drop(columns=['category'])"
   ]
  },
  {
   "cell_type": "code",
   "execution_count": 20,
   "id": "cfc73793-ac0b-48f6-adee-73b5988a61a7",
   "metadata": {},
   "outputs": [
    {
     "name": "stdout",
     "output_type": "stream",
     "text": [
      "                                                   title  \\\n",
      "0      Between Two Fires: American Indians in the Civ...   \n",
      "1                               Fashion Sourcebook 1920s   \n",
      "2                                             Hungary 56   \n",
      "3      All-American Anarchist: Joseph A. Labadie and ...   \n",
      "4      The Human Equation: Building Profits by Puttin...   \n",
      "...                                                  ...   \n",
      "89516                                     The Sea Inside   \n",
      "89517                                  A Horse for Angel   \n",
      "89518  A Faith Worth Sharing: A Lifetime of Conversat...   \n",
      "89519  A Volcano Beneath the Snow: John Brown's War A...   \n",
      "89520  Paranormal Nation: Why America Needs Ghosts, U...   \n",
      "\n",
      "                                 author  \\\n",
      "0                  Laurence M. Hauptman   \n",
      "1      Charlotte Fiell,Emmanuelle Dirix   \n",
      "2                         Andy Anderson   \n",
      "3                  Carlotta R. Anderson   \n",
      "4                       Jeffrey Pfeffer   \n",
      "...                                 ...   \n",
      "89516                      Philip Hoare   \n",
      "89517                        Sarah Lean   \n",
      "89518                    C. John Miller   \n",
      "89519                     Albert Marrin   \n",
      "89520                     Marc E. Fitch   \n",
      "\n",
      "                                                    desc  \\\n",
      "0      Reveals that several hundred thousand Indians ...   \n",
      "1      Fashion Sourcebook - 1920s is the first book i...   \n",
      "2      The seminal history and analysis of the Hungar...   \n",
      "3      \"All-American Anarchist\" chronicles the life a...   \n",
      "4      Why is common sense so uncommon when it comes ...   \n",
      "...                                                  ...   \n",
      "89516  A startling new book, his most personal to dat...   \n",
      "89517  Sometimes when things are broken you can't fix...   \n",
      "89518  In these warm reflections on his own growth as...   \n",
      "89519  John Brown is a man of many legacies, from her...   \n",
      "89520  Did you know that interest in UFO research inc...   \n",
      "\n",
      "                                                   genre    rating  Languages  \\\n",
      "0      [history, military, history, civil, war, ameri... -0.959559          0   \n",
      "1        [couture, fashion, historical, art, nonfiction]  1.606694          0   \n",
      "2                                    [politics, history]  0.673511          0   \n",
      "3                                       [labor, history] -0.155985          0   \n",
      "4      [business, leadership, romance, historical, ro... -0.415203          0   \n",
      "...                                                  ...       ...        ...   \n",
      "89516  [nonfiction, environment, nature, travel, scie... -0.311516          0   \n",
      "89517  [animals, childrens, middle, grade, animals, h...  0.206919          0   \n",
      "89518  [christianity, evangelism, christian, religion...  0.984572          0   \n",
      "89519  [nonfiction, history, biography, military, his... -0.674420          0   \n",
      "89520                  [fantasy, paranormal, nonfiction] -0.155985          0   \n",
      "\n",
      "       Culture  Mystery  Non-Fiction  Animals  ...  Action  Academia  \\\n",
      "0            0        0            0        0  ...       0         0   \n",
      "1            0        0            0        0  ...       0         0   \n",
      "2            0        0            0        0  ...       0         0   \n",
      "3            0        0            0        0  ...       0         0   \n",
      "4            0        0            0        0  ...       0         0   \n",
      "...        ...      ...          ...      ...  ...     ...       ...   \n",
      "89516        0        0            1        1  ...       0         0   \n",
      "89517        0        0            0        0  ...       0         0   \n",
      "89518        1        0            0        0  ...       0         0   \n",
      "89519        1        0            1        0  ...       0         0   \n",
      "89520        0        0            0        0  ...       0         0   \n",
      "\n",
      "       Historical Fiction  Fantasy  Entertainment  Romance  Mythology  \\\n",
      "0                       0        0              0        0          0   \n",
      "1                       1        0              0        0          0   \n",
      "2                       0        0              0        0          0   \n",
      "3                       0        0              0        0          0   \n",
      "4                       1        0              0        0          0   \n",
      "...                   ...      ...            ...      ...        ...   \n",
      "89516                   0        0              0        0          0   \n",
      "89517                   0        0              0        0          1   \n",
      "89518                   0        0              0        0          0   \n",
      "89519                   0        0              0        0          0   \n",
      "89520                   0        0              0        0          1   \n",
      "\n",
      "       Technology  Education  Art  \n",
      "0               0          0    0  \n",
      "1               0          0    1  \n",
      "2               0          0    0  \n",
      "3               0          0    0  \n",
      "4               0          0    0  \n",
      "...           ...        ...  ...  \n",
      "89516           0          0    0  \n",
      "89517           0          0    0  \n",
      "89518           0          0    0  \n",
      "89519           0          0    0  \n",
      "89520           0          0    0  \n",
      "\n",
      "[89521 rows x 33 columns]\n"
     ]
    }
   ],
   "source": [
    "# Print the updated DataFrame with multi-hot encoding\n",
    "print(result_df)"
   ]
  },
  {
   "cell_type": "code",
   "execution_count": 21,
   "id": "98820a37-13b5-4d26-97e4-e35f96a0bf06",
   "metadata": {},
   "outputs": [],
   "source": [
    "#save data\n",
    "result_df.to_csv('encoded.csv', index=False)"
   ]
  },
  {
   "cell_type": "code",
   "execution_count": null,
   "id": "816e1edd-cd93-48db-843a-c4f281590244",
   "metadata": {},
   "outputs": [],
   "source": []
  }
 ],
 "metadata": {
  "kernelspec": {
   "display_name": "Python 3 (ipykernel)",
   "language": "python",
   "name": "python3"
  },
  "language_info": {
   "codemirror_mode": {
    "name": "ipython",
    "version": 3
   },
   "file_extension": ".py",
   "mimetype": "text/x-python",
   "name": "python",
   "nbconvert_exporter": "python",
   "pygments_lexer": "ipython3",
   "version": "3.12.4"
  }
 },
 "nbformat": 4,
 "nbformat_minor": 5
}
