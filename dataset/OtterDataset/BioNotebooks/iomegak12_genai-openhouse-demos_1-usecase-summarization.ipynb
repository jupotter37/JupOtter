{
 "cells": [
  {
   "cell_type": "code",
   "execution_count": 1,
   "metadata": {},
   "outputs": [
    {
     "name": "stdout",
     "output_type": "stream",
     "text": [
      "Requirement already satisfied: langchain in c:\\000 - genai - openhouse\\demonstrations\\5-lc-advanced\\env\\lib\\site-packages (0.3.2)Note: you may need to restart the kernel to use updated packages.\n"
     ]
    },
    {
     "name": "stderr",
     "output_type": "stream",
     "text": [
      "\n",
      "[notice] A new release of pip is available: 23.2.1 -> 24.2\n",
      "[notice] To update, run: python.exe -m pip install --upgrade pip\n"
     ]
    },
    {
     "name": "stdout",
     "output_type": "stream",
     "text": [
      "\n",
      "Requirement already satisfied: langchain-core in c:\\000 - genai - openhouse\\demonstrations\\5-lc-advanced\\env\\lib\\site-packages (0.3.9)\n",
      "Requirement already satisfied: langchain-community in c:\\000 - genai - openhouse\\demonstrations\\5-lc-advanced\\env\\lib\\site-packages (0.3.1)\n",
      "Requirement already satisfied: langchain-openai in c:\\000 - genai - openhouse\\demonstrations\\5-lc-advanced\\env\\lib\\site-packages (0.2.2)\n",
      "Requirement already satisfied: python-dotenv in c:\\000 - genai - openhouse\\demonstrations\\5-lc-advanced\\env\\lib\\site-packages (1.0.1)\n",
      "Requirement already satisfied: PyYAML>=5.3 in c:\\000 - genai - openhouse\\demonstrations\\5-lc-advanced\\env\\lib\\site-packages (from langchain) (6.0.2)\n",
      "Requirement already satisfied: SQLAlchemy<3,>=1.4 in c:\\000 - genai - openhouse\\demonstrations\\5-lc-advanced\\env\\lib\\site-packages (from langchain) (2.0.35)\n",
      "Requirement already satisfied: aiohttp<4.0.0,>=3.8.3 in c:\\000 - genai - openhouse\\demonstrations\\5-lc-advanced\\env\\lib\\site-packages (from langchain) (3.10.9)\n",
      "Requirement already satisfied: langchain-text-splitters<0.4.0,>=0.3.0 in c:\\000 - genai - openhouse\\demonstrations\\5-lc-advanced\\env\\lib\\site-packages (from langchain) (0.3.0)\n",
      "Requirement already satisfied: langsmith<0.2.0,>=0.1.17 in c:\\000 - genai - openhouse\\demonstrations\\5-lc-advanced\\env\\lib\\site-packages (from langchain) (0.1.131)\n",
      "Requirement already satisfied: numpy<2.0.0,>=1.26.0 in c:\\000 - genai - openhouse\\demonstrations\\5-lc-advanced\\env\\lib\\site-packages (from langchain) (1.26.4)\n",
      "Requirement already satisfied: pydantic<3.0.0,>=2.7.4 in c:\\000 - genai - openhouse\\demonstrations\\5-lc-advanced\\env\\lib\\site-packages (from langchain) (2.9.2)\n",
      "Requirement already satisfied: requests<3,>=2 in c:\\000 - genai - openhouse\\demonstrations\\5-lc-advanced\\env\\lib\\site-packages (from langchain) (2.32.3)\n",
      "Requirement already satisfied: tenacity!=8.4.0,<9.0.0,>=8.1.0 in c:\\000 - genai - openhouse\\demonstrations\\5-lc-advanced\\env\\lib\\site-packages (from langchain) (8.5.0)\n",
      "Requirement already satisfied: jsonpatch<2.0,>=1.33 in c:\\000 - genai - openhouse\\demonstrations\\5-lc-advanced\\env\\lib\\site-packages (from langchain-core) (1.33)\n",
      "Requirement already satisfied: packaging<25,>=23.2 in c:\\000 - genai - openhouse\\demonstrations\\5-lc-advanced\\env\\lib\\site-packages (from langchain-core) (24.1)\n",
      "Requirement already satisfied: typing-extensions>=4.7 in c:\\000 - genai - openhouse\\demonstrations\\5-lc-advanced\\env\\lib\\site-packages (from langchain-core) (4.12.2)\n",
      "Requirement already satisfied: dataclasses-json<0.7,>=0.5.7 in c:\\000 - genai - openhouse\\demonstrations\\5-lc-advanced\\env\\lib\\site-packages (from langchain-community) (0.6.7)\n",
      "Requirement already satisfied: pydantic-settings<3.0.0,>=2.4.0 in c:\\000 - genai - openhouse\\demonstrations\\5-lc-advanced\\env\\lib\\site-packages (from langchain-community) (2.5.2)\n",
      "Requirement already satisfied: openai<2.0.0,>=1.40.0 in c:\\000 - genai - openhouse\\demonstrations\\5-lc-advanced\\env\\lib\\site-packages (from langchain-openai) (1.51.0)\n",
      "Requirement already satisfied: tiktoken<1,>=0.7 in c:\\000 - genai - openhouse\\demonstrations\\5-lc-advanced\\env\\lib\\site-packages (from langchain-openai) (0.8.0)\n",
      "Requirement already satisfied: aiohappyeyeballs>=2.3.0 in c:\\000 - genai - openhouse\\demonstrations\\5-lc-advanced\\env\\lib\\site-packages (from aiohttp<4.0.0,>=3.8.3->langchain) (2.4.3)\n",
      "Requirement already satisfied: aiosignal>=1.1.2 in c:\\000 - genai - openhouse\\demonstrations\\5-lc-advanced\\env\\lib\\site-packages (from aiohttp<4.0.0,>=3.8.3->langchain) (1.3.1)\n",
      "Requirement already satisfied: attrs>=17.3.0 in c:\\000 - genai - openhouse\\demonstrations\\5-lc-advanced\\env\\lib\\site-packages (from aiohttp<4.0.0,>=3.8.3->langchain) (24.2.0)\n",
      "Requirement already satisfied: frozenlist>=1.1.1 in c:\\000 - genai - openhouse\\demonstrations\\5-lc-advanced\\env\\lib\\site-packages (from aiohttp<4.0.0,>=3.8.3->langchain) (1.4.1)\n",
      "Requirement already satisfied: multidict<7.0,>=4.5 in c:\\000 - genai - openhouse\\demonstrations\\5-lc-advanced\\env\\lib\\site-packages (from aiohttp<4.0.0,>=3.8.3->langchain) (6.1.0)\n",
      "Requirement already satisfied: yarl<2.0,>=1.12.0 in c:\\000 - genai - openhouse\\demonstrations\\5-lc-advanced\\env\\lib\\site-packages (from aiohttp<4.0.0,>=3.8.3->langchain) (1.13.1)\n",
      "Requirement already satisfied: marshmallow<4.0.0,>=3.18.0 in c:\\000 - genai - openhouse\\demonstrations\\5-lc-advanced\\env\\lib\\site-packages (from dataclasses-json<0.7,>=0.5.7->langchain-community) (3.22.0)\n",
      "Requirement already satisfied: typing-inspect<1,>=0.4.0 in c:\\000 - genai - openhouse\\demonstrations\\5-lc-advanced\\env\\lib\\site-packages (from dataclasses-json<0.7,>=0.5.7->langchain-community) (0.9.0)\n",
      "Requirement already satisfied: jsonpointer>=1.9 in c:\\000 - genai - openhouse\\demonstrations\\5-lc-advanced\\env\\lib\\site-packages (from jsonpatch<2.0,>=1.33->langchain-core) (3.0.0)\n",
      "Requirement already satisfied: httpx<1,>=0.23.0 in c:\\000 - genai - openhouse\\demonstrations\\5-lc-advanced\\env\\lib\\site-packages (from langsmith<0.2.0,>=0.1.17->langchain) (0.27.2)\n",
      "Requirement already satisfied: orjson<4.0.0,>=3.9.14 in c:\\000 - genai - openhouse\\demonstrations\\5-lc-advanced\\env\\lib\\site-packages (from langsmith<0.2.0,>=0.1.17->langchain) (3.10.7)\n",
      "Requirement already satisfied: requests-toolbelt<2.0.0,>=1.0.0 in c:\\000 - genai - openhouse\\demonstrations\\5-lc-advanced\\env\\lib\\site-packages (from langsmith<0.2.0,>=0.1.17->langchain) (1.0.0)\n",
      "Requirement already satisfied: anyio<5,>=3.5.0 in c:\\000 - genai - openhouse\\demonstrations\\5-lc-advanced\\env\\lib\\site-packages (from openai<2.0.0,>=1.40.0->langchain-openai) (4.6.0)\n",
      "Requirement already satisfied: distro<2,>=1.7.0 in c:\\000 - genai - openhouse\\demonstrations\\5-lc-advanced\\env\\lib\\site-packages (from openai<2.0.0,>=1.40.0->langchain-openai) (1.9.0)\n",
      "Requirement already satisfied: jiter<1,>=0.4.0 in c:\\000 - genai - openhouse\\demonstrations\\5-lc-advanced\\env\\lib\\site-packages (from openai<2.0.0,>=1.40.0->langchain-openai) (0.5.0)\n",
      "Requirement already satisfied: sniffio in c:\\000 - genai - openhouse\\demonstrations\\5-lc-advanced\\env\\lib\\site-packages (from openai<2.0.0,>=1.40.0->langchain-openai) (1.3.1)\n",
      "Requirement already satisfied: tqdm>4 in c:\\000 - genai - openhouse\\demonstrations\\5-lc-advanced\\env\\lib\\site-packages (from openai<2.0.0,>=1.40.0->langchain-openai) (4.66.5)\n",
      "Requirement already satisfied: annotated-types>=0.6.0 in c:\\000 - genai - openhouse\\demonstrations\\5-lc-advanced\\env\\lib\\site-packages (from pydantic<3.0.0,>=2.7.4->langchain) (0.7.0)\n",
      "Requirement already satisfied: pydantic-core==2.23.4 in c:\\000 - genai - openhouse\\demonstrations\\5-lc-advanced\\env\\lib\\site-packages (from pydantic<3.0.0,>=2.7.4->langchain) (2.23.4)\n",
      "Requirement already satisfied: charset-normalizer<4,>=2 in c:\\000 - genai - openhouse\\demonstrations\\5-lc-advanced\\env\\lib\\site-packages (from requests<3,>=2->langchain) (3.3.2)\n",
      "Requirement already satisfied: idna<4,>=2.5 in c:\\000 - genai - openhouse\\demonstrations\\5-lc-advanced\\env\\lib\\site-packages (from requests<3,>=2->langchain) (3.10)\n",
      "Requirement already satisfied: urllib3<3,>=1.21.1 in c:\\000 - genai - openhouse\\demonstrations\\5-lc-advanced\\env\\lib\\site-packages (from requests<3,>=2->langchain) (2.2.3)\n",
      "Requirement already satisfied: certifi>=2017.4.17 in c:\\000 - genai - openhouse\\demonstrations\\5-lc-advanced\\env\\lib\\site-packages (from requests<3,>=2->langchain) (2024.8.30)\n",
      "Requirement already satisfied: greenlet!=0.4.17 in c:\\000 - genai - openhouse\\demonstrations\\5-lc-advanced\\env\\lib\\site-packages (from SQLAlchemy<3,>=1.4->langchain) (3.1.1)\n",
      "Requirement already satisfied: regex>=2022.1.18 in c:\\000 - genai - openhouse\\demonstrations\\5-lc-advanced\\env\\lib\\site-packages (from tiktoken<1,>=0.7->langchain-openai) (2024.9.11)\n",
      "Requirement already satisfied: httpcore==1.* in c:\\000 - genai - openhouse\\demonstrations\\5-lc-advanced\\env\\lib\\site-packages (from httpx<1,>=0.23.0->langsmith<0.2.0,>=0.1.17->langchain) (1.0.6)\n",
      "Requirement already satisfied: h11<0.15,>=0.13 in c:\\000 - genai - openhouse\\demonstrations\\5-lc-advanced\\env\\lib\\site-packages (from httpcore==1.*->httpx<1,>=0.23.0->langsmith<0.2.0,>=0.1.17->langchain) (0.14.0)\n",
      "Requirement already satisfied: colorama in c:\\000 - genai - openhouse\\demonstrations\\5-lc-advanced\\env\\lib\\site-packages (from tqdm>4->openai<2.0.0,>=1.40.0->langchain-openai) (0.4.6)\n",
      "Requirement already satisfied: mypy-extensions>=0.3.0 in c:\\000 - genai - openhouse\\demonstrations\\5-lc-advanced\\env\\lib\\site-packages (from typing-inspect<1,>=0.4.0->dataclasses-json<0.7,>=0.5.7->langchain-community) (1.0.0)\n"
     ]
    }
   ],
   "source": [
    "%pip install langchain langchain-core langchain-community langchain-openai python-dotenv"
   ]
  },
  {
   "cell_type": "code",
   "execution_count": 2,
   "metadata": {},
   "outputs": [],
   "source": [
    "import os\n",
    "from dotenv import load_dotenv\n",
    "from langchain_openai import ChatOpenAI\n",
    "from langchain.prompts import PromptTemplate"
   ]
  },
  {
   "cell_type": "code",
   "execution_count": 3,
   "metadata": {},
   "outputs": [],
   "source": [
    "load_dotenv()\n",
    "\n",
    "model_name = \"gpt-3.5-turbo-0125\"\n",
    "openai_api_key = os.environ[\"OPENAI_API_KEY\"]\n",
    "llm = ChatOpenAI(\n",
    "    model_name = model_name,\n",
    "    temperature = 0.1,\n",
    "    max_tokens = 2000,\n",
    "    openai_api_key = openai_api_key\n",
    ")"
   ]
  },
  {
   "cell_type": "code",
   "execution_count": 4,
   "metadata": {},
   "outputs": [],
   "source": [
    "template = \"\"\"\n",
    "%INSTRUCTIONS:\n",
    "\n",
    "Please summarize the following piece of text.\n",
    "Respond in a manner that a 5 Years Old would understand.\n",
    "\n",
    "%TEXT:\n",
    "{text}\n",
    "\"\"\"\n",
    "\n",
    "prompt = PromptTemplate(\n",
    "    input_variables = [\"text\"],\n",
    "    template = template\n",
    ")"
   ]
  },
  {
   "cell_type": "code",
   "execution_count": 5,
   "metadata": {},
   "outputs": [],
   "source": [
    "confusing_text = \"\"\"\n",
    "For the next 130 years, debate raged.\n",
    "Some scientists called Prototaxites a lichen, others a fungus, and still others clung to the notion that it was some kind of tree.\n",
    "“The problem is that when you look up close at the anatomy, it’s evocative of a lot of different things, but it’s diagnostic of nothing,” says Boyce, an associate professor in geophysical sciences and the Committee on Evolutionary Biology.\n",
    "“And it’s so damn big that when whenever someone says it’s something, everyone else’s hackles get up: ‘How could you have a lichen 20 feet tall?’”\n",
    "\"\"\"\n",
    "\n",
    "prompt_value = prompt.format(text = confusing_text)"
   ]
  },
  {
   "cell_type": "code",
   "execution_count": 6,
   "metadata": {},
   "outputs": [
    {
     "name": "stdout",
     "output_type": "stream",
     "text": [
      "For a long time, scientists argued about what Prototaxites was. Some thought it was a lichen, some thought it was a fungus, and others thought it was a tree. The problem was that when they looked closely at it, it looked like different things but didn't really match anything exactly. It was also really big, so people couldn't agree on what it was.\n"
     ]
    }
   ],
   "source": [
    "response = llm.invoke(prompt_value)\n",
    "\n",
    "print(response.content)"
   ]
  }
 ],
 "metadata": {
  "kernelspec": {
   "display_name": "env",
   "language": "python",
   "name": "python3"
  },
  "language_info": {
   "codemirror_mode": {
    "name": "ipython",
    "version": 3
   },
   "file_extension": ".py",
   "mimetype": "text/x-python",
   "name": "python",
   "nbconvert_exporter": "python",
   "pygments_lexer": "ipython3",
   "version": "3.12.0"
  }
 },
 "nbformat": 4,
 "nbformat_minor": 2
}
