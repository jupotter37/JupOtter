{
 "cells": [
  {
   "cell_type": "markdown",
   "id": "751978e5-cf3f-402e-8de4-663524b298b7",
   "metadata": {},
   "source": [
    "## python list"
   ]
  },
  {
   "cell_type": "code",
   "execution_count": 13,
   "id": "e25065b3-bf86-40c3-b668-07e37d1d26c9",
   "metadata": {},
   "outputs": [
    {
     "name": "stdout",
     "output_type": "stream",
     "text": [
      "12\n",
      "15\n"
     ]
    }
   ],
   "source": [
    "numbers_list = [ 5, 10, 12, 15]\n",
    "\n",
    "# loop means visiting over a number  of elements until it's finished condition is satisfied\n",
    "\n",
    "for number in numbers_list:\n",
    "    \n",
    "    if number % 3 ==0:\n",
    "        print(number)\n",
    "        "
   ]
  },
  {
   "cell_type": "markdown",
   "id": "e9573baa-a0bf-457f-adee-ddc40b06ed46",
   "metadata": {},
   "source": [
    "# in keword "
   ]
  },
  {
   "cell_type": "code",
   "execution_count": 30,
   "id": "5d30714a-58d7-4f96-a58c-891738bfb40a",
   "metadata": {},
   "outputs": [
    {
     "data": {
      "text/plain": [
       "True"
      ]
     },
     "execution_count": 30,
     "metadata": {},
     "output_type": "execute_result"
    }
   ],
   "source": [
    "5 in numbers_list"
   ]
  },
  {
   "cell_type": "markdown",
   "id": "d9814907-d4f6-4293-9b39-257c4504f678",
   "metadata": {},
   "source": [
    "## Loop in python    \n",
    "- "
   ]
  },
  {
   "cell_type": "code",
   "execution_count": null,
   "id": "e80b1727-08c2-4c84-8481-d7ab9e61b1e2",
   "metadata": {},
   "outputs": [],
   "source": [
    "f\"{}"
   ]
  },
  {
   "cell_type": "code",
   "execution_count": 23,
   "id": "433dc111-c5ba-44b7-a5e0-6def2974d38a",
   "metadata": {},
   "outputs": [
    {
     "name": "stdout",
     "output_type": "stream",
     "text": [
      "apple\n",
      "banana\n",
      "banana found in grocery\n",
      "apple\n",
      "mango\n",
      "apple\n"
     ]
    }
   ],
   "source": [
    "list_of_fruits = ['apple','banana','apple','mango','apple']\n",
    "for x in list_of_fruits:\n",
    "    print(fruit)\n",
    "    if fruit == 'banana':\n",
    "        print(f'{fruit} found in grocery')"
   ]
  },
  {
   "cell_type": "code",
   "execution_count": null,
   "id": "36457568-7ee5-4b8c-aa3b-b533e733aaa9",
   "metadata": {},
   "outputs": [],
   "source": []
  },
  {
   "cell_type": "code",
   "execution_count": 12,
   "id": "09a60f9c-9483-4fbc-84a0-e435de165ade",
   "metadata": {
    "scrolled": true
   },
   "outputs": [
    {
     "name": "stdout",
     "output_type": "stream",
     "text": [
      "milk\n",
      "milk has been found\n",
      "eggs\n",
      "butter\n",
      "cheese\n",
      "chicken\n",
      "bread\n",
      "bread has been found\n"
     ]
    }
   ],
   "source": [
    "grocery_items_list = ['milk', 'eggs', 'butter', 'cheese', 'chicken', 'bread']\n",
    "need_items = ['banana', 'milk', 'bread', 'pen']\n",
    "\n",
    "for item in grocery_items_list:\n",
    "    print(item)\n",
    "\n",
    "    if item in need_items:\n",
    "        print(f'{item} has been found')\n",
    "    "
   ]
  },
  {
   "cell_type": "code",
   "execution_count": 52,
   "id": "3b59160d-b960-409a-be87-0b7bf0438d90",
   "metadata": {},
   "outputs": [
    {
     "data": {
      "text/plain": [
       "False"
      ]
     },
     "execution_count": 52,
     "metadata": {},
     "output_type": "execute_result"
    }
   ],
   "source": [
    "'eggs' in need_items"
   ]
  },
  {
   "cell_type": "code",
   "execution_count": 56,
   "id": "a50d4569-1f9d-4781-b09d-2d4dd916ea50",
   "metadata": {},
   "outputs": [
    {
     "name": "stdout",
     "output_type": "stream",
     "text": [
      "maths class is today\n",
      "english class is today\n",
      "french class is today\n",
      "PE class is today\n"
     ]
    }
   ],
   "source": [
    "All_Classes=['maths','english','french','PE','history','biology','physics','spanish']\n",
    "today_classes=['maths','PE','english','french']\n",
    "\n",
    "for reminder in All_Classes:\n",
    "    \n",
    "    if reminder in today_classes:\n",
    "        print(f'{reminder} class is today')\n",
    "    "
   ]
  },
  {
   "cell_type": "code",
   "execution_count": null,
   "id": "a881a568-2c6f-4a2f-a125-93d3c6d44536",
   "metadata": {},
   "outputs": [],
   "source": [
    "\n",
    "weeks_subjects=['maths','english','french','PE','history','sciensce']\n",
    "question_class= (input('what class?'))\n",
    "\n",
    "for topic in weeks_subjects:\n",
    "    \n",
    "    if topic in question_class:\n",
    "        print('yes')\n",
    "\n",
    " "
   ]
  },
  {
   "cell_type": "raw",
   "id": "ef5eab7c-7f21-4c3f-a896-16992ca89472",
   "metadata": {},
   "source": [
    "##taskins one     "
   ]
  },
  {
   "cell_type": "code",
   "execution_count": 8,
   "id": "f0c7a84d-b5f9-4740-806f-b375223fcec3",
   "metadata": {},
   "outputs": [
    {
     "name": "stdout",
     "output_type": "stream",
     "text": [
      "banana\n",
      "banana has not been found\n",
      "milk\n",
      "milk has been found\n",
      "bread\n",
      "bread has been found\n",
      "pen\n",
      "pen has not been found\n"
     ]
    }
   ],
   "source": [
    "grocery_items_list = ['milk', 'eggs', 'butter', 'cheese', 'chicken', 'bread']\n",
    "need_items = ['banana', 'milk', 'bread', 'pen']\n",
    "\n",
    "for item in need_items:\n",
    "    print(item)\n",
    "\n",
    "    if item in grocery_items_list:\n",
    "        print(f'{item} has been found')\n",
    "\n",
    "    else:\n",
    "        print(f'{item} has not been found')"
   ]
  },
  {
   "cell_type": "code",
   "execution_count": 2,
   "id": "a136cd25-7613-49f5-87e3-55afcc46adc8",
   "metadata": {},
   "outputs": [
    {
     "name": "stdout",
     "output_type": "stream",
     "text": [
      "milk\n",
      "milk has been found\n",
      "eggs\n",
      "eggs has not been found\n",
      "butter\n",
      "butter has not been found\n",
      "cheese\n",
      "cheese has not been found\n",
      "chicken\n",
      "chicken has not been found\n",
      "bread\n",
      "bread has been found\n"
     ]
    }
   ],
   "source": [
    "grocery_items_list = ['milk', 'eggs', 'butter', 'cheese', 'chicken', 'bread']\n",
    "need_items = ['banana', 'milk', 'bread', 'pen']\n",
    "\n",
    "for item in grocery_items_list:\n",
    "    print(item)\n",
    "\n",
    "    if item in need_items:\n",
    "        print(f'{item} has been found')\n",
    "\n",
    "    else:\n",
    "        print(f'{item} has not been found')"
   ]
  },
  {
   "cell_type": "code",
   "execution_count": null,
   "id": "be290bc5-9473-4e00-a3e7-f18e3f081d75",
   "metadata": {},
   "outputs": [],
   "source": [
    "All_Classes=['maths','english','french','PE','history','biology','physics','spanish']\n",
    "today_classes=['maths','PE','english','french']\n",
    "\n",
    "for reminder in All_Classes:\n",
    "    \n",
    "    if reminder in today_classes:\n",
    "        print(f'{reminder} class is today')\n",
    "    "
   ]
  }
 ],
 "metadata": {
  "kernelspec": {
   "display_name": "Python 3 (ipykernel)",
   "language": "python",
   "name": "python3"
  },
  "language_info": {
   "codemirror_mode": {
    "name": "ipython",
    "version": 3
   },
   "file_extension": ".py",
   "mimetype": "text/x-python",
   "name": "python",
   "nbconvert_exporter": "python",
   "pygments_lexer": "ipython3",
   "version": "3.12.4"
  }
 },
 "nbformat": 4,
 "nbformat_minor": 5
}
