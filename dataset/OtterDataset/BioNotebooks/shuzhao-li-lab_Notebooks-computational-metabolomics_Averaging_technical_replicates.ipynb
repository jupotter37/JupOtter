{
 "cells": [
  {
   "cell_type": "markdown",
   "metadata": {},
   "source": [
    "# Averaging technical replicates\n",
    "\n",
    "Each biological sample was run in triplicates. Taking geometric mean of technical replicates.\n",
    "\n",
    "Example data are from\n",
    "Li et al. (2013) Predicting network activity from high throughput metabolomics. PLoS computational biology 9.7 (2013): e1003123.\n"
   ]
  },
  {
   "cell_type": "code",
   "execution_count": 1,
   "metadata": {
    "collapsed": false
   },
   "outputs": [
    {
     "data": {
      "text/html": [
       "<div>\n",
       "<table border=\"1\" class=\"dataframe\">\n",
       "  <thead>\n",
       "    <tr style=\"text-align: right;\">\n",
       "      <th></th>\n",
       "      <th>mz</th>\n",
       "      <th>time</th>\n",
       "      <th>mz.min</th>\n",
       "      <th>mz.max</th>\n",
       "      <th>p_0hr_01_1</th>\n",
       "      <th>p_0hr_01_3</th>\n",
       "      <th>p_0hr_01_5</th>\n",
       "      <th>p_0hr_02_1</th>\n",
       "      <th>p_0hr_02_3</th>\n",
       "      <th>p_0hr_02_5</th>\n",
       "      <th>...</th>\n",
       "      <th>mock_6hr_03_5</th>\n",
       "      <th>yf_6hr_01_1</th>\n",
       "      <th>yf_6hr_01_3</th>\n",
       "      <th>yf_6hr_01_5</th>\n",
       "      <th>yf_6hr_02_1</th>\n",
       "      <th>yf_6hr_02_3</th>\n",
       "      <th>yf_6hr_02_5</th>\n",
       "      <th>yf_6hr_03_1</th>\n",
       "      <th>yf_6hr_03_3</th>\n",
       "      <th>yf_6hr_03_5</th>\n",
       "    </tr>\n",
       "  </thead>\n",
       "  <tbody>\n",
       "    <tr>\n",
       "      <th>0</th>\n",
       "      <td>85.02783</td>\n",
       "      <td>59.68820</td>\n",
       "      <td>85.02783</td>\n",
       "      <td>85.02783</td>\n",
       "      <td>15.5810</td>\n",
       "      <td>16.0425</td>\n",
       "      <td>15.3953</td>\n",
       "      <td>15.4143</td>\n",
       "      <td>15.7364</td>\n",
       "      <td>15.5532</td>\n",
       "      <td>...</td>\n",
       "      <td>17.5140</td>\n",
       "      <td>17.1734</td>\n",
       "      <td>16.9813</td>\n",
       "      <td>16.6582</td>\n",
       "      <td>16.8376</td>\n",
       "      <td>16.8148</td>\n",
       "      <td>17.2885</td>\n",
       "      <td>16.5967</td>\n",
       "      <td>16.4734</td>\n",
       "      <td>16.6048</td>\n",
       "    </tr>\n",
       "    <tr>\n",
       "      <th>1</th>\n",
       "      <td>85.04717</td>\n",
       "      <td>124.75120</td>\n",
       "      <td>85.04709</td>\n",
       "      <td>85.04739</td>\n",
       "      <td>14.4754</td>\n",
       "      <td>14.2709</td>\n",
       "      <td>14.3696</td>\n",
       "      <td>14.7142</td>\n",
       "      <td>14.8291</td>\n",
       "      <td>14.9959</td>\n",
       "      <td>...</td>\n",
       "      <td>16.6485</td>\n",
       "      <td>16.6961</td>\n",
       "      <td>16.3596</td>\n",
       "      <td>17.0661</td>\n",
       "      <td>15.2321</td>\n",
       "      <td>15.1615</td>\n",
       "      <td>16.5655</td>\n",
       "      <td>16.4316</td>\n",
       "      <td>16.1668</td>\n",
       "      <td>16.2193</td>\n",
       "    </tr>\n",
       "    <tr>\n",
       "      <th>2</th>\n",
       "      <td>85.06532</td>\n",
       "      <td>68.66651</td>\n",
       "      <td>85.06517</td>\n",
       "      <td>85.06547</td>\n",
       "      <td>14.4223</td>\n",
       "      <td>15.0515</td>\n",
       "      <td>15.1241</td>\n",
       "      <td>13.5224</td>\n",
       "      <td>16.7480</td>\n",
       "      <td>14.4095</td>\n",
       "      <td>...</td>\n",
       "      <td>9.7859</td>\n",
       "      <td>14.0113</td>\n",
       "      <td>15.8681</td>\n",
       "      <td>13.3699</td>\n",
       "      <td>9.9658</td>\n",
       "      <td>15.5703</td>\n",
       "      <td>16.5537</td>\n",
       "      <td>11.9470</td>\n",
       "      <td>10.3181</td>\n",
       "      <td>10.1656</td>\n",
       "    </tr>\n",
       "    <tr>\n",
       "      <th>3</th>\n",
       "      <td>85.10073</td>\n",
       "      <td>16.48022</td>\n",
       "      <td>85.10050</td>\n",
       "      <td>85.10078</td>\n",
       "      <td>14.5249</td>\n",
       "      <td>13.2573</td>\n",
       "      <td>13.5206</td>\n",
       "      <td>12.9044</td>\n",
       "      <td>11.4185</td>\n",
       "      <td>12.9223</td>\n",
       "      <td>...</td>\n",
       "      <td>13.3513</td>\n",
       "      <td>13.2977</td>\n",
       "      <td>13.1140</td>\n",
       "      <td>12.5569</td>\n",
       "      <td>12.9582</td>\n",
       "      <td>12.9960</td>\n",
       "      <td>13.0290</td>\n",
       "      <td>12.4184</td>\n",
       "      <td>13.0218</td>\n",
       "      <td>13.4085</td>\n",
       "    </tr>\n",
       "    <tr>\n",
       "      <th>4</th>\n",
       "      <td>86.05951</td>\n",
       "      <td>67.78485</td>\n",
       "      <td>86.05949</td>\n",
       "      <td>86.05980</td>\n",
       "      <td>10.6674</td>\n",
       "      <td>17.4235</td>\n",
       "      <td>17.4510</td>\n",
       "      <td>17.0197</td>\n",
       "      <td>17.0402</td>\n",
       "      <td>16.9958</td>\n",
       "      <td>...</td>\n",
       "      <td>18.5019</td>\n",
       "      <td>17.7391</td>\n",
       "      <td>17.9262</td>\n",
       "      <td>17.6089</td>\n",
       "      <td>17.5802</td>\n",
       "      <td>17.6529</td>\n",
       "      <td>17.7841</td>\n",
       "      <td>17.3077</td>\n",
       "      <td>10.7589</td>\n",
       "      <td>17.3895</td>\n",
       "    </tr>\n",
       "  </tbody>\n",
       "</table>\n",
       "<p>5 rows × 31 columns</p>\n",
       "</div>"
      ],
      "text/plain": [
       "         mz       time    mz.min    mz.max  p_0hr_01_1  p_0hr_01_3  \\\n",
       "0  85.02783   59.68820  85.02783  85.02783     15.5810     16.0425   \n",
       "1  85.04717  124.75120  85.04709  85.04739     14.4754     14.2709   \n",
       "2  85.06532   68.66651  85.06517  85.06547     14.4223     15.0515   \n",
       "3  85.10073   16.48022  85.10050  85.10078     14.5249     13.2573   \n",
       "4  86.05951   67.78485  86.05949  86.05980     10.6674     17.4235   \n",
       "\n",
       "   p_0hr_01_5  p_0hr_02_1  p_0hr_02_3  p_0hr_02_5     ...       mock_6hr_03_5  \\\n",
       "0     15.3953     15.4143     15.7364     15.5532     ...             17.5140   \n",
       "1     14.3696     14.7142     14.8291     14.9959     ...             16.6485   \n",
       "2     15.1241     13.5224     16.7480     14.4095     ...              9.7859   \n",
       "3     13.5206     12.9044     11.4185     12.9223     ...             13.3513   \n",
       "4     17.4510     17.0197     17.0402     16.9958     ...             18.5019   \n",
       "\n",
       "   yf_6hr_01_1  yf_6hr_01_3  yf_6hr_01_5  yf_6hr_02_1  yf_6hr_02_3  \\\n",
       "0      17.1734      16.9813      16.6582      16.8376      16.8148   \n",
       "1      16.6961      16.3596      17.0661      15.2321      15.1615   \n",
       "2      14.0113      15.8681      13.3699       9.9658      15.5703   \n",
       "3      13.2977      13.1140      12.5569      12.9582      12.9960   \n",
       "4      17.7391      17.9262      17.6089      17.5802      17.6529   \n",
       "\n",
       "   yf_6hr_02_5  yf_6hr_03_1  yf_6hr_03_3  yf_6hr_03_5  \n",
       "0      17.2885      16.5967      16.4734      16.6048  \n",
       "1      16.5655      16.4316      16.1668      16.2193  \n",
       "2      16.5537      11.9470      10.3181      10.1656  \n",
       "3      13.0290      12.4184      13.0218      13.4085  \n",
       "4      17.7841      17.3077      10.7589      17.3895  \n",
       "\n",
       "[5 rows x 31 columns]"
      ]
     },
     "execution_count": 1,
     "metadata": {},
     "output_type": "execute_result"
    }
   ],
   "source": [
    "import os\n",
    "import numpy as np\n",
    "import pandas as pd\n",
    "import matplotlib.pyplot as plt\n",
    "\n",
    "%matplotlib inline\n",
    "\n",
    "INDIR = \"../input_data/\"\n",
    "datafile = \"modc_ae_2012.txt\"\n",
    "data = pd.read_table(os.path.join(INDIR + datafile))\n",
    "data.head()"
   ]
  },
  {
   "cell_type": "markdown",
   "metadata": {
    "collapsed": true
   },
   "source": [
    "This is a dataset of human monocyte-derived dendritic cells (moDC). Three experimental groups are baseline control, mock infection at 6 hours, YFV infection at 6 hours. Each group contains three biological replicates. Each biological replicate was analyzed by LC-MS in three technical replicates. This above table was extracted using apLCMS.\n",
    "\n",
    "## Checking data quality by\n",
    "\n",
    "* average ion intensity in each sample\n",
    "* correlation coefficient between technical replicates"
   ]
  },
  {
   "cell_type": "code",
   "execution_count": 3,
   "metadata": {
    "collapsed": false
   },
   "outputs": [
    {
     "data": {
      "image/png": "[encoded data removed]",
      "text/plain": [
       "<matplotlib.figure.Figure at 0x10b817d50>"
      ]
     },
     "metadata": {},
     "output_type": "display_data"
    }
   ],
   "source": [
    "new_header = [x for x in data]\n",
    "\n",
    "# if needed to transform to log2, shift positive 1 to avoid log2(0)\n",
    "# new_data = np.log2(mydata[ new_header[4:] ] + 1)\n",
    "\n",
    "new_data = data[new_header[4:]]\n",
    "\n",
    "mean_TIC = new_data.mean(0)\n",
    "# plot bars for first N columns, useful if large number of samples\n",
    "N = 27\n",
    "ind = np.arange(N)\n",
    "plt.figure(figsize=(15,3))\n",
    "plt.bar(ind, mean_TIC[:N], width=0.7, color=\"purple\", alpha=0.4)\n",
    "plt.ylabel(\"Average log2(intensity)\")\n",
    "plt.title(\"Ave Intensity [%d:]\" %N)\n",
    "plt.xticks(ind, new_data.columns[:N], rotation=-90)\n",
    "plt.show()\n",
    "\n",
    "# one should be alarmed if irregularity is spotted. Replicate of low intensity may be subject of removal.\n",
    "# Alternatively, pandas dataframe has built-in plotting too (also via matplotlib)"
   ]
  },
  {
   "cell_type": "code",
   "execution_count": 4,
   "metadata": {
    "collapsed": false
   },
   "outputs": [
    {
     "name": "stdout",
     "output_type": "stream",
     "text": [
      "('After remove_tail: ', ['p_0hr_01', 'p_0hr_01', 'p_0hr_01', 'p_0hr_02', 'p_0hr_02', 'p_0hr_02'])\n",
      "Example sample dictionary:\n",
      "[('yf_6hr_02', ['yf_6hr_02_1', 'yf_6hr_02_3', 'yf_6hr_02_5']), ('yf_6hr_03', ['yf_6hr_03_1', 'yf_6hr_03_3', 'yf_6hr_03_5']), ('yf_6hr_01', ['yf_6hr_01_1', 'yf_6hr_01_3', 'yf_6hr_01_5'])]\n"
     ]
    }
   ],
   "source": [
    "# We are making a new dictionary to map samples to replicates\n",
    "\n",
    "def remove_tail(x):\n",
    "    return(\"_\".join(x.split(\"_\")[:-1]))\n",
    "\n",
    "samples = [remove_tail(x) for x in new_header[4:]]\n",
    "print(\"After remove_tail: \", samples[:6])\n",
    "\n",
    "samples = set(samples)\n",
    "samDict = {}\n",
    "for x in new_header[4:]:\n",
    "    k = remove_tail(x)\n",
    "    if samDict.has_key(k):\n",
    "        samDict[k].append(x)\n",
    "    else:\n",
    "        samDict[k] = [x,]\n",
    "\n",
    "print(\"Example sample dictionary:\")\n",
    "print(samDict.items()[:3])"
   ]
  },
  {
   "cell_type": "code",
   "execution_count": 5,
   "metadata": {
    "collapsed": false
   },
   "outputs": [
    {
     "data": {
      "image/png": "[encoded data removed]",
      "text/plain": [
       "<matplotlib.figure.Figure at 0x10ffd3c50>"
      ]
     },
     "metadata": {},
     "output_type": "display_data"
    }
   ],
   "source": [
    "# Pearson correlation btw technical replicates\n",
    "# plot first before deciding CUTOFF value\n",
    "\n",
    "def get_flat_corr(CorrDataFrame):\n",
    "    return [CorrDataFrame.values[0, 1], CorrDataFrame.values[0, 2], CorrDataFrame.values[1, 2]]\n",
    "\n",
    "all_Pearson_coefficients = []\n",
    "for k,v in samDict.items():\n",
    "    if len(v) == 3:  # only do if three replicates\n",
    "        Pr = new_data[v].corr()\n",
    "        all_Pearson_coefficients.append((v, Pr))\n",
    "\n",
    "all_corr_values = []\n",
    "for X in all_Pearson_coefficients: \n",
    "    all_corr_values += get_flat_corr(X[1])\n",
    "    \n",
    "# This is useful where sample nubmer is large\n",
    "all_corr_values.sort()\n",
    "plt.figure(figsize=(8,4))\n",
    "plt.plot(range(len(all_corr_values)), all_corr_values, 'bo', markersize=1)\n",
    "plt.title(\"Distribution of replicate correlation\")\n",
    "plt.xlabel(\"Feature\")\n",
    "plt.ylabel(\"Pearson Correlation Coeff\")\n",
    "plt.show()"
   ]
  },
  {
   "cell_type": "code",
   "execution_count": 6,
   "metadata": {
    "collapsed": true
   },
   "outputs": [],
   "source": [
    "# This block is to remove bad replicates.\n",
    "#\n",
    "# CUTOFF is based on plot above; this is usually dragged down by too many zeros\n",
    "# This does nothing because the worst is 0.78 in above figure\n",
    "corr_CUTOFF = 0.7\n",
    "\n",
    "# Deterine which replicate to remove\n",
    "def call_bad_replicate(CorrDataFrame, corr_CUTOFF):\n",
    "    # assuming three replicates here, \n",
    "    # return list of bad replicates\n",
    "    names = [x for x in CorrDataFrame]\n",
    "    good = []\n",
    "    if CorrDataFrame.values[0, 1] > corr_CUTOFF:\n",
    "        good += [names[0], names[1]]\n",
    "        \n",
    "    if CorrDataFrame.values[0, 2] > corr_CUTOFF:\n",
    "        good += [names[0], names[2]]\n",
    "        \n",
    "    if CorrDataFrame.values[1, 2] > corr_CUTOFF:\n",
    "        good += [names[1], names[2]]\n",
    "\n",
    "    return [x for x in names if x not in good]\n",
    "\n",
    "\n",
    "bad_replicates = []\n",
    "for X in all_Pearson_coefficients:\n",
    "    bad = call_bad_replicate(X[1], corr_CUTOFF)\n",
    "    if bad:\n",
    "        bad_replicates += bad\n",
    "        print(\"- Bad corr - %s\" %str(bad))\n",
    "        # uncomment below to see the whole corr matrix\n",
    "        #print(Pr)\n",
    "    \n",
    "# In some dataset, many Qstd samples have the same name. Skipping them for now.\n",
    "# Alternative method can use stats.pearsonr and itertools.combinations\n"
   ]
  },
  {
   "cell_type": "markdown",
   "metadata": {},
   "source": [
    "## Averaging technical replicates\n",
    "Since data are already in log2, myave function is actually taking geometric means."
   ]
  },
  {
   "cell_type": "code",
   "execution_count": 8,
   "metadata": {
    "collapsed": false
   },
   "outputs": [
    {
     "name": "stdout",
     "output_type": "stream",
     "text": [
      "(7995, 31)\n",
      "('use_samples', ['mock_6hr_01', 'mock_6hr_02', 'mock_6hr_03'])\n",
      "['mock_6hr_03_1', 'mock_6hr_03_3', 'mock_6hr_03_5']\n"
     ]
    }
   ],
   "source": [
    "def myave(L):\n",
    "     new = [x for x in L if x >1]\n",
    "     if new:\n",
    "         return np.mean(new)\n",
    "     else:\n",
    "         return 0\n",
    "        \n",
    "# update samDict\n",
    "# this is used when bad replicates need to be excluded\n",
    "# black_list = set(low_intensity_replicates + bad_replicates)\n",
    "# \n",
    "black_list = []\n",
    "samDict2 = {}\n",
    "for k,v in samDict.items():\n",
    "    new = [x for x in v if x not in black_list]\n",
    "    if new:\n",
    "        # We may want to keep NIST and Q-std samples for other reasons including downstream QC\n",
    "        if 'nist' not in k and 'q3' not in k:\n",
    "            samDict2[k] = new\n",
    "\n",
    "# Write ave_log2_ data\n",
    "use_samples = samDict2.keys()\n",
    "use_samples.sort()\n",
    "s = 'mz\\tretention_time\\t' + '\\t'.join(use_samples) + '\\n'\n",
    "\n",
    "# mydata contains mz, this set of data is already in log2\n",
    "print(data.shape)\n",
    "num_features = data.shape[0]\n",
    "\n",
    "print(\"use_samples\", use_samples[:3])\n",
    "print(samDict2[use_samples[2]])\n",
    "\n",
    "# mapper is faster than DataFrame lookup\n",
    "new_data_header = [x for x in new_data]\n",
    "mapper = []\n",
    "for x in use_samples:\n",
    "    mapper.append([new_data_header.index(ii) for ii in samDict2[x]])\n",
    "\n",
    "for ii in range(num_features):\n",
    "    mz, rtime = data.values[ii, :2]\n",
    "    d = new_data.values[ii, :]\n",
    "    ave_data = [myave( [d[ii] for ii in x] ) for x in mapper]\n",
    "    s += '\\t'.join( [str(mz), str(int(rtime)), ] + [str(round(x,2)) for x in ave_data] ) + '\\n'\n",
    "    \n",
    "new_file = \"ave_log2_\" + datafile\n",
    "with open(new_file, 'w') as file:\n",
    "    file.write(s)"
   ]
  },
  {
   "cell_type": "markdown",
   "metadata": {},
   "source": [
    "## Summary\n",
    "The above code illustrates simple QC and averaging replicates.\n",
    "\n",
    "Not covered here, but filtering, normalization and imputation is often needed.\n",
    "Missing values can be problematic for some statistical methods, including linear regression. Data should be filtered to have fewer missing values.\n",
    "The missing values can be imputed by replacement of minimal values of a feature row (i.e. minimal detected values in the same feature). Other imputation methods are available too.\n",
    "Imputation may be performed prior to normalization, as the normalization method may be sensitive to missing data."
   ]
  }
 ],
 "metadata": {
  "kernelspec": {
   "display_name": "Python 2",
   "language": "python",
   "name": "python2"
  },
  "language_info": {
   "codemirror_mode": {
    "name": "ipython",
    "version": 2
   },
   "file_extension": ".py",
   "mimetype": "text/x-python",
   "name": "python",
   "nbconvert_exporter": "python",
   "pygments_lexer": "ipython2",
   "version": "2.7.13"
  }
 },
 "nbformat": 4,
 "nbformat_minor": 2
}
