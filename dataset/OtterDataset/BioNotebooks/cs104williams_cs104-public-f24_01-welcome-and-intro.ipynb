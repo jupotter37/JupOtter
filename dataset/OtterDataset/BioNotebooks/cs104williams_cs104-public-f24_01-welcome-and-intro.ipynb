{
 "cells": [
  {
   "cell_type": "markdown",
   "metadata": {
    "tags": []
   },
   "source": [
    "# Welcome"
   ]
  },
  {
   "cell_type": "markdown",
   "metadata": {},
   "source": [
    "## We type code in cells and then run them."
   ]
  },
  {
   "cell_type": "code",
   "execution_count": null,
   "metadata": {
    "tags": []
   },
   "outputs": [],
   "source": [
    "2 + 4"
   ]
  },
  {
   "cell_type": "code",
   "execution_count": null,
   "metadata": {
    "tags": []
   },
   "outputs": [],
   "source": [
    "2 ** 4"
   ]
  },
  {
   "cell_type": "code",
   "execution_count": null,
   "metadata": {
    "tags": []
   },
   "outputs": [],
   "source": [
    "days_in_week = 7\n",
    "hours_in_week = days_in_week * 24\n",
    "hours_in_week"
   ]
  },
  {
   "cell_type": "markdown",
   "metadata": {},
   "source": [
    "## We use libraries other people wrote"
   ]
  },
  {
   "cell_type": "code",
   "execution_count": null,
   "metadata": {
    "tags": []
   },
   "outputs": [],
   "source": [
    "# Some code to set up our notebook for data science!\n",
    "\n",
    "from datascience import *\n",
    "from cs104 import *\n",
    "import numpy as np\n",
    "%matplotlib inline"
   ]
  },
  {
   "cell_type": "markdown",
   "metadata": {
    "tags": []
   },
   "source": [
    "## We write code to manipulate and analyze data\n",
    "\n",
    "[Hopkins Forest tree survey](https://web.williams.edu/wp-etc/biology/hmfplot/index.php)\n",
    "\n",
    "![](https://hmf.williams.edu/files/foliage.jpg)\n",
    "\n",
    "![](https://web.williams.edu/wp-etc/biology/hmfplot/image/grid_index.jpg)\n",
    "\n",
    "\n"
   ]
  },
  {
   "cell_type": "code",
   "execution_count": null,
   "metadata": {
    "tags": []
   },
   "outputs": [],
   "source": [
    "hopkins_trees = Table.read_table(\"data/hopkins-trees.csv\")\n",
    "hopkins_trees.show(10)"
   ]
  },
  {
   "cell_type": "code",
   "execution_count": null,
   "metadata": {
    "tags": []
   },
   "outputs": [],
   "source": [
    "hopkins_trees = hopkins_trees.drop(\"genus\", \"species\")\n",
    "hopkins_trees  "
   ]
  },
  {
   "cell_type": "markdown",
   "metadata": {},
   "source": [
    "### How many of each species?"
   ]
  },
  {
   "cell_type": "code",
   "execution_count": null,
   "metadata": {
    "tags": []
   },
   "outputs": [],
   "source": [
    "hopkins_trees.drop(\"plot\").group(\"common name\", sum).sort(\"count sum\", descending=True)"
   ]
  },
  {
   "cell_type": "code",
   "execution_count": null,
   "metadata": {
    "tags": []
   },
   "outputs": [],
   "source": [
    "tree_counts = hopkins_trees.drop(\"plot\").group(\"common name\", sum)\n",
    "tree_counts = tree_counts.sort(\"count sum\", descending=True)\n",
    "tree_counts.take(np.arange(0,10)).barh(\"common name\")"
   ]
  },
  {
   "cell_type": "markdown",
   "metadata": {},
   "source": [
    "### Where are all the red maples?"
   ]
  },
  {
   "cell_type": "code",
   "execution_count": null,
   "metadata": {},
   "outputs": [],
   "source": [
    "red_maples = hopkins_trees.where(\"common name\", \"Maple, red\")\n",
    "red_maples.sort(\"count\", descending=True)"
   ]
  },
  {
   "cell_type": "markdown",
   "metadata": {},
   "source": [
    "### But where are those plots?"
   ]
  },
  {
   "cell_type": "code",
   "execution_count": null,
   "metadata": {},
   "outputs": [],
   "source": [
    "plot_info = Table.read_table(\"data/hopkins-plots.csv\").select(\"plot\", \"latitude\", \"longitude\")\n",
    "plot_info"
   ]
  },
  {
   "cell_type": "code",
   "execution_count": null,
   "metadata": {},
   "outputs": [],
   "source": [
    "red_maples.join(\"plot\", plot_info)"
   ]
  },
  {
   "cell_type": "markdown",
   "metadata": {},
   "source": [
    "### Visualization!"
   ]
  },
  {
   "cell_type": "code",
   "execution_count": null,
   "metadata": {
    "editable": true
   },
   "outputs": [],
   "source": [
    "trees_with_lat_lon = hopkins_trees.join(\"plot\", plot_info)\n",
    "\n",
    "def population_map(tree_name):\n",
    "    counts = trees_with_lat_lon.where(\"common name\", tree_name)\n",
    "    counts = counts.select(\"latitude\", \"longitude\", \"count\")\n",
    "    points = counts.with_columns(\"colors\", \"blue\",\n",
    "                                 \"areas\", 1.0 * counts.column(\"count\")).drop(\"count\")\n",
    "    return Circle.map_table(points)"
   ]
  },
  {
   "cell_type": "code",
   "execution_count": null,
   "metadata": {},
   "outputs": [],
   "source": [
    "population_map(\"Maple, red\")"
   ]
  },
  {
   "cell_type": "markdown",
   "metadata": {},
   "source": [
    "### Exploration, Hypotheses, and Drawing Conclusions"
   ]
  },
  {
   "cell_type": "code",
   "execution_count": null,
   "metadata": {},
   "outputs": [],
   "source": [
    "all_tree_names = np.unique(np.sort(trees_with_lat_lon.column(\"common name\")))\n",
    "interact(population_map, tree_name=Choice(all_tree_names))"
   ]
  },
  {
   "cell_type": "markdown",
   "metadata": {},
   "source": [
    "### Even More Visualization"
   ]
  },
  {
   "cell_type": "code",
   "execution_count": null,
   "metadata": {
    "editable": true
   },
   "outputs": [],
   "source": [
    "def population_choropleth(tree_name):\n",
    "    counts = trees_with_lat_lon.where(\"common name\", tree_name).select(\"plot\", \"count\")\n",
    "    return HopkinsForest.map_table(counts)\n",
    "\n",
    "population_choropleth(\"Maple, red\")"
   ]
  }
 ],
 "metadata": {
  "anaconda-cloud": {},
  "celltoolbar": "Raw Cell Format",
  "kernelspec": {
   "display_name": "Python 3 (ipykernel)",
   "language": "python",
   "name": "python3"
  },
  "language_info": {
   "codemirror_mode": {
    "name": "ipython",
    "version": 3
   },
   "file_extension": ".py",
   "mimetype": "text/x-python",
   "name": "python",
   "nbconvert_exporter": "python",
   "pygments_lexer": "ipython3",
   "version": "3.9.19"
  },
  "widgets": {
   "application/vnd.jupyter.widget-state+json": {
    "state": {},
    "version_major": 2,
    "version_minor": 0
   }
  }
 },
 "nbformat": 4,
 "nbformat_minor": 4
}
