{
 "cells": [
  {
   "cell_type": "code",
   "execution_count": 1,
   "metadata": {},
   "outputs": [
    {
     "name": "stderr",
     "output_type": "stream",
     "text": [
      "d:\\Python\\Python312\\Lib\\site-packages\\pinecone\\data\\index.py:1: TqdmWarning: IProgress not found. Please update jupyter and ipywidgets. See https://ipywidgets.readthedocs.io/en/stable/user_install.html\n",
      "  from tqdm.autonotebook import tqdm\n"
     ]
    }
   ],
   "source": [
    "from dotenv import load_dotenv\n",
    "load_dotenv()\n",
    "import os\n",
    "from openai import OpenAI\n",
    "from pinecone import Pinecone, ServerlessSpec\n"
   ]
  },
  {
   "cell_type": "code",
   "execution_count": null,
   "metadata": {},
   "outputs": [],
   "source": [
    "pc = Pinecone(api_key=os.getenv(\"PINECONE_API_KEY\"))\n",
    "pc.create_index(\n",
    "    name=\"rag\", dimension=1536, metric=\"cosine\", spec=ServerlessSpec(cloud=\"aws\", region=\"us-east-1\")\n",
    ")\n"
   ]
  },
  {
   "cell_type": "code",
   "execution_count": 3,
   "metadata": {},
   "outputs": [
    {
     "data": {
      "text/plain": [
       "[{'professor': 'Dr. John Smith',\n",
       "  'subject': 'Computer Science',\n",
       "  'stars': 4,\n",
       "  'review': 'Great professor, explains concepts clearly. Sometimes assignments can be a bit tough.'},\n",
       " {'professor': 'Dr. Alice Johnson',\n",
       "  'subject': 'Mathematics',\n",
       "  'stars': 5,\n",
       "  'review': 'Amazing lectures, very helpful during office hours. Exams are fair.'},\n",
       " {'professor': 'Dr. Robert Brown',\n",
       "  'subject': 'Physics',\n",
       "  'stars': 3,\n",
       "  'review': 'Content is interesting but lectures can be dry. Make sure to study the textbook.'},\n",
       " {'professor': 'Dr. Emily Davis',\n",
       "  'subject': 'Chemistry',\n",
       "  'stars': 5,\n",
       "  'review': 'Engaging lectures and provides plenty of resources to help students succeed.'},\n",
       " {'professor': 'Dr. Michael Miller',\n",
       "  'subject': 'Biology',\n",
       "  'stars': 2,\n",
       "  'review': 'Lectures are disorganized and the exams are way too difficult.'},\n",
       " {'professor': 'Dr. Sarah Wilson',\n",
       "  'subject': 'English Literature',\n",
       "  'stars': 4,\n",
       "  'review': 'Very passionate about the subject, but expects a lot from students.'},\n",
       " {'professor': 'Dr. William Taylor',\n",
       "  'subject': 'History',\n",
       "  'stars': 3,\n",
       "  'review': 'Lectures are informative but can be a bit slow. Participation is key.'},\n",
       " {'professor': 'Dr. Linda Anderson',\n",
       "  'subject': 'Psychology',\n",
       "  'stars': 5,\n",
       "  'review': \"Fantastic professor, very approachable and cares about students' understanding.\"},\n",
       " {'professor': 'Dr. James Thomas',\n",
       "  'subject': 'Economics',\n",
       "  'stars': 4,\n",
       "  'review': 'Lectures are clear, but you need to stay on top of the readings to do well.'},\n",
       " {'professor': 'Dr. Karen Martinez',\n",
       "  'subject': 'Political Science',\n",
       "  'stars': 3,\n",
       "  'review': 'Interesting material but grading can be harsh. Participation is important.'},\n",
       " {'professor': 'Dr. Charles Jackson',\n",
       "  'subject': 'Sociology',\n",
       "  'stars': 5,\n",
       "  'review': 'Super engaging and really brings the subject to life. Highly recommend.'},\n",
       " {'professor': 'Dr. Patricia White',\n",
       "  'subject': 'Philosophy',\n",
       "  'stars': 2,\n",
       "  'review': 'Difficult to follow in lectures, but office hours are helpful.'},\n",
       " {'professor': 'Dr. Richard Harris',\n",
       "  'subject': 'Art History',\n",
       "  'stars': 4,\n",
       "  'review': 'Interesting lectures with lots of visuals. Be prepared for a lot of reading.'},\n",
       " {'professor': 'Dr. Jennifer Clark',\n",
       "  'subject': 'Music Theory',\n",
       "  'stars': 5,\n",
       "  'review': 'Wonderful professor who is very passionate about music. Very supportive.'},\n",
       " {'professor': 'Dr. Steven Lewis',\n",
       "  'subject': 'Environmental Science',\n",
       "  'stars': 3,\n",
       "  'review': 'Content is good, but lectures can be a bit dry. Exams are fair though.'},\n",
       " {'professor': 'Dr. Barbara Young',\n",
       "  'subject': 'Anthropology',\n",
       "  'stars': 4,\n",
       "  'review': 'Great professor, really knowledgeable. Can be tough, but worth it.'},\n",
       " {'professor': 'Dr. Christopher King',\n",
       "  'subject': 'Computer Engineering',\n",
       "  'stars': 2,\n",
       "  'review': 'Not the best at explaining complex concepts. Labs are a bit chaotic.'},\n",
       " {'professor': 'Dr. Laura Scott',\n",
       "  'subject': 'Business Management',\n",
       "  'stars': 5,\n",
       "  'review': 'Amazing professor with real-world experience. Very engaging lectures.'},\n",
       " {'professor': 'Dr. Brian Green',\n",
       "  'subject': 'Statistics',\n",
       "  'stars': 3,\n",
       "  'review': 'Good professor, but you need to put in the work to understand the material.'},\n",
       " {'professor': 'Dr. Nancy Hall',\n",
       "  'subject': 'Education',\n",
       "  'stars': 4,\n",
       "  'review': 'Very knowledgeable and passionate. Lectures are engaging and informative.'}]"
      ]
     },
     "execution_count": 3,
     "metadata": {},
     "output_type": "execute_result"
    }
   ],
   "source": [
    "import json\n",
    "data = json.load(open(\"review.json\"))\n",
    "data['reviews']"
   ]
  },
  {
   "cell_type": "code",
   "execution_count": 6,
   "metadata": {},
   "outputs": [],
   "source": [
    "processed_data = []\n",
    "client = OpenAI()\n",
    "\n",
    "for review in data['reviews']:\n",
    "    response = client.embeddings.create(\n",
    "        input=review[\"review\"],\n",
    "        model=\"text-embedding-3-small\",\n",
    "    )\n",
    "    embedding = response.data[0].embedding\n",
    "    processed_data.append({\n",
    "        \"values\": embedding,\n",
    "        \"id\": review[\"professor\"],\n",
    "        \"metadata\":{\n",
    "            \"review\": review[\"review\"],\n",
    "            \"subject\": review[\"subject\"],\n",
    "            \"stars\": review[\"stars\"]\n",
    "        }\n",
    "    })\n"
   ]
  },
  {
   "cell_type": "code",
   "execution_count": 8,
   "metadata": {},
   "outputs": [
    {
     "data": {
      "text/plain": [
       "{'upserted_count': 20}"
      ]
     },
     "execution_count": 8,
     "metadata": {},
     "output_type": "execute_result"
    }
   ],
   "source": [
    "index = pc.Index(\"rag\")\n",
    "index.upsert(\n",
    "    vectors=processed_data,\n",
    "    namespace=\"ns1\"\n",
    ")"
   ]
  },
  {
   "cell_type": "code",
   "execution_count": 9,
   "metadata": {},
   "outputs": [
    {
     "data": {
      "text/plain": [
       "{'dimension': 1536,\n",
       " 'index_fullness': 0.0,\n",
       " 'namespaces': {'ns1': {'vector_count': 20}},\n",
       " 'total_vector_count': 20}"
      ]
     },
     "execution_count": 9,
     "metadata": {},
     "output_type": "execute_result"
    }
   ],
   "source": [
    "index.describe_index_stats()"
   ]
  }
 ],
 "metadata": {
  "kernelspec": {
   "display_name": "Python 3",
   "language": "python",
   "name": "python3"
  },
  "language_info": {
   "codemirror_mode": {
    "name": "ipython",
    "version": 3
   },
   "file_extension": ".py",
   "mimetype": "text/x-python",
   "name": "python",
   "nbconvert_exporter": "python",
   "pygments_lexer": "ipython3",
   "version": "3.12.4"
  }
 },
 "nbformat": 4,
 "nbformat_minor": 2
}
