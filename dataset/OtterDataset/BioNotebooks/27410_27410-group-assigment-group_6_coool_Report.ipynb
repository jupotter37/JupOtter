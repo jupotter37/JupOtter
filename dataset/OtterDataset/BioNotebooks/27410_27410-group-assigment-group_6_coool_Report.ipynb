{
 "cells": [
  {
   "cell_type": "markdown",
   "metadata": {
    "tags": []
   },
   "source": [
    "# Artemisinic Acid Production in *Aspergillus niger*"
   ]
  },
  {
   "cell_type": "code",
   "execution_count": 1,
   "metadata": {
    "tags": [
     "remove-cell"
    ]
   },
   "outputs": [],
   "source": [
    "from IPython.display import FileLink, FileLinks, Image"
   ]
  },
  {
   "cell_type": "markdown",
   "metadata": {
    "tags": []
   },
   "source": [
    "## 1. Introduction"
   ]
  },
  {
   "cell_type": "markdown",
   "metadata": {},
   "source": [
    "### 1.1 Literature review of the compound\n",
    "Malaria is a parasitic, life-threatening disease which is both preventable and curable. In 2020, there were an estimated 241 million cases worldwide, causing approximately 627 thousand deaths according to the WHO. 95% of those malaria cases took place in Africa, often in poor, rural areas with limited access to proper medical attention [1]. To combat malarial infections, high quantities of low-cost antimalarial drugs are crucial to making treatment accessible. Artemisin is a potent antimalarial drug which could possibly provide an answer to the large death toll of malaria alltogether. However, production of artemisin is currently too expensive to be widely accessible in rural africa, mostly due to low yields in the production methods. Artemisinin global market size was estimated at USD 61 Million as 2021 [2]. The demand for the product has risen dramatically after the World Health Organization recognized it as a first-line treatment for malaria [3].\n",
    "\n",
    "Artemisin is currently being industrially produced through one of two methods. Firstly, through *Artemisia annua*, a plant which is natively able to synthesisze artimesin from farnesyl pyrophosphate (FPP). However, production using *A. annua* is too slow and costly to meet market demands [4]. Therefore a second alternative was developed by Ro et al. (2006) [5]. They used *A. annua*'s artemisin pathway as a framework for engineering an artemisin-producing cell factory. However, the final step of the artemisin pathway, conversion of artemisinic acid to artemisin, is currently unknown. Therefore, they decided to engineer the production of artemisinic acid in *Saccharomyces cerevisiae*, and chemically synthesize the final step of the production, as shown below.\n",
    "\n",
    "![Artemisin Synthesis](documents/Artemisin_synthesis.png \"Artemisin Synthesis\")\n",
    "\n",
    "<p style=\"text-align:center\"><b>Figure 1</b>: Artemisin Synthesis</p>\n",
    "\n",
    "The figure above is adapted from Li et al. (2016) [4]. The engineered biosynthetic pathway above starts at FPP, which is a precursor for steroids in both plants and fungi, and it stems from the mevalonate pathway. From there amorphadiene synthase (ADS) cleaves off the pryophoshpate group to close the ring structures in the molecule, resulting in 4,11-amorphadiene. Cytochrome P450 enzyme (CYP71AV1) catalyzes the monooxidation of 4,11-amorphadiene into artemisinic alcohol, which is further oxidised artemisinic aldehyde and finally artemisinic acid via NAD-dependent artemisinic alcohol dehydrogenase (ADH1) and artemisinic aldehyde dehydrogenase (ALDH1) respectively. The conversion from artemisinic acid into artemisinin is generally considered feasible because it's performed at a low cost, with high yields in industry already [6]. Thus, an efficient cell factory, generating high yields of artemisinic acid could be the answer to finding a low-cost antimalarial drug. "
   ]
  },
  {
   "cell_type": "markdown",
   "metadata": {
    "tags": []
   },
   "source": [
    "### 1.2 Literature review of the cell factory\n",
    "\n",
    "Aspergillus niger is a filamentous fungus, which can be found in almost every habitat on earth, including soil, ocean water and arctic ice. After germination of a spore, the fungus grows as hyphae, branching filaments that form the mycelial network on solid substrate, or pellet-like mycelial aggregates in submerged liquid culture [7]. Its high growth rate, relatively short life cycle and ability to grow on a variety of substrates account for A. niger’s robustness and ubiquity in nature. [8][9]\n",
    "\n",
    "Adapted to its lifestyle of a decomposer of organic matter, it has an enormous productivity and secretion capability of proteins, acids and small molecules. This has been exploited by industry to produce a vast number of organic acids, enzymes, biopharmaceuticals and secondary metabolites, making it an important workhorse in biotechnology. [10]\n",
    "In competition and symbiosis with other fungi and microorganisms, it evolved an extensive SM production machinery of, amongst others, sesquiterpenoids, to compete and communicate with surrounding organisms. Genome-mining revealed that 99 core SM synthase enzymes are present in A. niger, which highlights its potential as SM cell factory [11].\n",
    "\n",
    "Being extensively used in biotechnological manufacturing and research, A. niger is a well-studied production host with a variety of synthetic biology tools available for genetic engineering. Besides Crispr-Cas9 for genome editing [12] and RNAi systems for gene-knock down [13], multiple highly optimized inducible promoters have been developed for controlled gene expression [14]. Numerous scientific papers and several genome-scale models provide a solid data basis for in-silico cell-factory engineering [15][16].\n",
    "\n",
    "A disadvantage of A. niger is its natural phenotype of branching filaments, which poses challenges for the fermentation process, since the mycelial aggregates increase viscosity and limit oxygen transfer. Also, it is not as well understood and has a smaller molecular toolbox than S. cerevisiae [17].\n",
    "\n",
    "There are numerous potential alternative cell factories for the production of artemisinic acid. Prerequisite is the presence of a precursor in the metabolism. It can be farnesyl pyrophosphate (FPP) like in this report, but technically could also be upstream of FPP, when the enzymes for the production of FPP are included in the heterologous pathway. However, the host should be chosen to provide a precursor as close to the final product as possible, to make use of the natural synthesis capabilities of the wild-type metabolism. FPP is part of the mevalonate pathway, which is present in all eucaryotes and archaea, and in some bacteria [18]. It is used to produce sesquiterpenoids, an extremely diverse class of secondary metabolites, of which many have bioactive properties.\n",
    "\n",
    "Today, the majority of pharmaceutical sesquiterpenoids are extracted from plants, which highlights their superior production capabilities [19]. The largest share of artemisin production globally is contributed by its natural production host, the plant Artemisia annua. Alternatively, industrial production hosts like tobacco or algae could harness the sesquiterpenoid synthesis potential of plants [20]. However, since industrial-scale production of plants is challenging, the biosynthetic pathway for artemisinic acid was introduced into the yeast Saccharomyces cerevisiae for fermentation-based manufacturing [17]. S. cerevisiae is the best known eucaryotic production host and extensively used for biosynthetic pathway engineering, but its SM production machinery and secretion capability are inferior to A. niger [21].\n",
    "\n"
   ]
  },
  {
   "cell_type": "markdown",
   "metadata": {},
   "source": [
    "## 2. Problem definition\n",
    "In this project, we use a simulated Genomic Scale Model (GSM) to test *Aspergillus niger* as a potential production strain of artemisinic acid as an alternative to the yeast strain *S. cerivisiae*, which has been shown to provide too low yields for a sufficient supply at reasonable cost (Li et al. 2016) [4]."
   ]
  },
  {
   "cell_type": "markdown",
   "metadata": {
    "tags": []
   },
   "source": [
    "## 3. Selection and assessment of existing GSM\n",
    "The Genome-scale metabolic models (GSM models) are premrily based on three commonly used strains: strain ATCC1015 represents a wild-type that naturally produces citric acid, and the strain CBS513 is an enzyme-producing strain in industrial use.[22] Strain DS03043 is another useful mutant that has higher cell growth, glucose uptake, and glucoamylase production rates but lower oxalic acid and citric acid secretion rates.[23]\n",
    "\n",
    "In the recent five years, four papers was published around the GSM models of A.niger based on above-mentioned strains. These models are named iDU1756, iJB1325, iHL1210 and eciJB1325, as shown below. The iJB1325 model has two variations based on ATCC1015 strain GSM and CBS513 strain GSM. \n",
    "\n",
    "| Model | Published Year | Strain Validation | Original Paper |\n",
    "| --- | --- | --- | --- |\n",
    "| eciJB1325 | 2021 | N/A | Zhou, J. Microb Cell Fact 20, 125 (2021)[24] |\n",
    "| iDU1756 | 2020 | ATCC1015 | Upton, D. Biotechnol Biofuels 13, 27 (2020)[25] |\n",
    "| iJB1325 | 2018 | ATCC1015 and CBS513 | Brandl, J. 5, 16 (2018)[26]  |\n",
    "| iHL1210 | 2017 | CBS513 and DS03043 | Lu, H. Biotechnol and Bioengering 114, 3 (2017)[27] |\n",
    "\n",
    "<p style=\"text-align:center\"><b>Table 1</b>: Comparison between different GSM models that was published in last five years</p>\n",
    "\n",
    "\n",
    "Compare to earlier iHL1210 model, the fully upgraded iJB1325 model has included 556 more reactions, 115 more genes and more than 200 test cases, which makes it more accurate than previous GSM models. On the other hand, the model iDU1756 has many differences compare to iJB1325, but the model file has errors which cannot be validated by SBML file standard. The most recent published model eciJB1325 is an enzyme-constrained GSM model based on original iJB1325 model with kinetic parameters and abundance information of enzymes. Based on literature, the extra enzymetic information supposed to improve phenotypic prediction and enhances simulation reliability. Therefore, iHL1210 and iDU1756 are discarded in the MEMOTE model analysis, and two strain GSM variations based on ATCC1015 and CBS513 are included.[28] The code goes as follow for ATCC1015, CBS513 and eciJB1325 GSM models:\n",
    "\n",
    ">`% memote report diff Aspergillus_ATCC1015_iJB1325.xml Aspergillus_CBS513_iJB1325.xml  Aspergillus_Enzyme_Constriant_iJB1325.xml\n",
    "`\n",
    "\n",
    "| Model | Total Score | # of Metabolites | # of Reactions | # of Genes | Mass Balance | Metabolite Annotation |\n",
    "| --- | --- | --- | --- | --- | --- | --- |\n",
    "| ATCC1015 | 24% | 1,818 | 2,320 | 1,325 | 95.7% | 84.3% | \n",
    "| CBS513 | 24% | 1,818 | 2,320 | 1,373 | 95.7% | 84.3% | \n",
    "| eciJB1325 | 23% | 3,588 | 6,274 | 1,357 | 20.3% | 0% |\n",
    "\n",
    "<p style=\"text-align:center\"><b>Table 2</b>: Partial MEMOTE Result among three selected models </p>\n",
    "\n",
    "After performing MEMOTE on all remaining models, the validation result is shown in the following [link](documents/MEMOTE_Model_analysis.html) and key results in the table above. All three models have very similar scores, but ATCC1015 and CBS513 has a slightly higher score due to their fully annotated metabolites. On the other hand, eciJB1325 integrates 1255 enzymes’ kinetics and abundance into the iJB1325 GSM model of A. niger, so the number of reactions, metabolites and reactions increased significantly. However, we have not found relevant enzymatic information for our pathway and this project will include an OptKnock analysis, thus it is important to use the original iJB1325 model without enzyme kinetics. Finally, the ATCC1015 is a well-documented strain with more experimental data, the ATCC1015 GSM model is more suitable in this project. \n"
   ]
  },
  {
   "cell_type": "code",
   "execution_count": 2,
   "metadata": {
    "jupyter": {
     "source_hidden": true
    },
    "tags": [
     "remove-input"
    ]
   },
   "outputs": [
    {
     "data": {
      "text/html": [
       "<a href='documents/MEMOTE_Model_analysis.html' target='_blank'>documents/MEMOTE_Model_analysis.html</a><br>"
      ],
      "text/plain": [
       "/Users/benjaminronnestad/Documents/DTU/1 Education/DTU MSc Biotech/3rd Semester/Computer-aided cell factory design/Project/Aaa/27410-group-assigment-group_6_coool/documents/MEMOTE_Model_analysis.html"
      ]
     },
     "execution_count": 2,
     "metadata": {},
     "output_type": "execute_result"
    }
   ],
   "source": [
    "FileLink('documents/MEMOTE_Model_analysis.html')"
   ]
  },
  {
   "cell_type": "markdown",
   "metadata": {},
   "source": [
    "## 4. Computer-Aided Cell Factory Engineering\n",
    "\n",
    "In this project, we used various optimization method to explore options that can make the highest yield of our target in *A. niger*. The following six strategies were applied on the iJB1325 GSM model\n",
    "\n",
    "| Overview of strategies used in this report |\n",
    "| :- |\n",
    "| 4.1 Strategy - Engineer Artemisinic Acid Pathway  |\n",
    "| 4.2 Strategy - Compare to *S. cervisiae* |\n",
    "| 4.3 Strategy - Media optimization and Theoretical Yield |\n",
    "| 4.4 Strategy - Over-expression and Down-regulation Targets| \n",
    "| 4.5 Strategy - Manual erived Strain Designs |\n",
    "| 4.6 Strategy - OptGene & OptKnock |\n",
    "\n"
   ]
  },
  {
   "cell_type": "markdown",
   "metadata": {},
   "source": [
    "### 4.1 Strategy - Engineer Artemisinic Acid Pathway\n",
    "\n",
    "Based on paper from Li et al. 2016, artemisinic acid can be produced from the pathway shown below. We've engineered five metabolites and five reactions into the iJB1325 ATCC1015 model. Please note that A.niger is a very good excretor, thus we also added the exchange reaction that make artemisinic acid outside the cell (**Table 3**).\n",
    "\n",
    "| ID | Metabolite | \n",
    "|---|---|\n",
    "| amorpha | Amorphadiene |\n",
    "| artem_alcohol | Artemisinic alcohol | \n",
    "| artem_aldehyde | Artemisinic aldehyde | \n",
    "| ARTA_c | Artemisinic acid compartment |\n",
    "| ARTA_e | Artemisinic acid extracelluar |\n",
    "\n",
    "| ID | Reaction|\n",
    "|---|---|\n",
    "|ADS_reaction| FPP --> amorpha |\n",
    "|CYP1AV1CY/PCPR1/CYB5_reaction| amorpha --> artem_alcohol | \n",
    "|ADH1_reaction | artem_alcohol --> artem_aldehyde|\n",
    "|ALDH1_reaction | artem_aldehyde --> ARTA_c |\n",
    "|ARTA_ex | ARTA_c --> ARTA_e |\n",
    "\n",
    "\n",
    "<p style=\"text-align:center\"><b>Table 3</b>: Engineered reactions and metabolites</p>"
   ]
  },
  {
   "cell_type": "code",
   "execution_count": 3,
   "metadata": {},
   "outputs": [
    {
     "data": {
      "text/html": [
       "<a href='code/create_model.py' target='_blank'>code/create_model.py</a><br>"
      ],
      "text/plain": [
       "/Users/benjaminronnestad/Documents/DTU/1 Education/DTU MSc Biotech/3rd Semester/Computer-aided cell factory design/Project/Aaa/27410-group-assigment-group_6_coool/code/create_model.py"
      ]
     },
     "execution_count": 3,
     "metadata": {},
     "output_type": "execute_result"
    }
   ],
   "source": [
    "FileLink('code/create_model.py')"
   ]
  },
  {
   "cell_type": "markdown",
   "metadata": {},
   "source": [
    "### 4.2 Comparison to *S. cervisiae*\n",
    "\n",
    "It was hypothesized that *A. niger* has a higher potential for the heterologous production of artemisinic acid than the current standard host, *S. cervisiae*. To test that hypothesis, the GSM's ATCC1015 and iMM904 were used for a comparative phenotypic phase plane (PPP) analysis. Therefore, the artemisinic acid secretion flux was used as objective value for model optimization under different minimum biomass fluxes as constraints, and the resulting dependency plotted in a PPP diagram (see `Yeast_Niger_PPP.ipynb`)\n",
    "\n",
    "\n",
    "<img src=\"documents/comparison_yeast.jpg\" alt=\"comparison_yeast\" class=\"bg-primary mb-1\" width=\"500px\">\n",
    "\n",
    "<p style=\"text-align:center\"><b>Figure 2</b>: Compare theoretical production between <i>S. cervisiae</i> and <i>A. niger</i></p>\n",
    "\n",
    "The maximum theoretical artemisinic acid production rate of *A. niger* is 2.81 mmol/g_DW/h, which is almost three times higher than the rate of 0.99 mmol/g_DW/h in *S. cervisiae*. Under the assumption of a biomass production rate 50% of the maximum under fermentation conditions, we would observe a maximum artemisinic acid production of 1.40 mmol/g_DW/h with a biomass production of 0.47 /h in *A. niger*. Under the same conditions, maximum artemisinic acid production in *S. cervisiae* was 0.52 mmol/g_DW/h with a biomass production of 0.14 /h. This highlights the superior productivity and growth characteristics of *A. niger*. However, this is a comparison of the base case, meaning that neither of the two models were engineered for improved production. It's purpose is to give a measure to compare the general potentials of the organisms to produce artemisinic acid. \n",
    "\n",
    "\n",
    "\n"
   ]
  },
  {
   "cell_type": "markdown",
   "metadata": {
    "tags": []
   },
   "source": [
    "### 4.3 Strategy - Medium Optimization and Theoretical Yield\n",
    "\n",
    "By default, the model uses a simple media consisting of 10 mM glucose, while also supplying all essential elements, such as nitrogen and oxygen, in ample amounts. To find the optimal media for both growth and production of artemisinic acid, an empirical analysis of various common carbon sources (Glucose, Fructose, Fumarate, Pyruvate, Lactose & Maltose) was conducted, calculating the maximal theorhetical yield and productivity for each carbon source at 10 mM concentrations. The results are summarized in **Table 4** below. An interesting point to note was that the model seems to favor sugars as a carbon source, but not much difference was expressed between different sugars. The main difference is that disaccharides showed exactly twice the productivity and growth as monosaccharides, which can be explained by them containing twice as much carbon. This was confirmed by running a simulation with 20 mM glucose, which yielded the same results as 10 mM disaccharides. Analysis of these yields through phenotypic phase plane diagrams show similar results as descrbed in **Table 4**, except the discrepency of carbon availability in the source is not directly acounted for there. See `code/PPP_MediumOpt.ipynb` for graphs of the phenotypic phase planes."
   ]
  },
  {
   "cell_type": "code",
   "execution_count": 4,
   "metadata": {},
   "outputs": [
    {
     "data": {
      "text/html": [
       "<a href='code/PPP_MediumOpt.ipynb' target='_blank'>code/PPP_MediumOpt.ipynb</a><br>"
      ],
      "text/plain": [
       "/Users/benjaminronnestad/Documents/DTU/1 Education/DTU MSc Biotech/3rd Semester/Computer-aided cell factory design/Project/Aaa/27410-group-assigment-group_6_coool/code/PPP_MediumOpt.ipynb"
      ]
     },
     "execution_count": 4,
     "metadata": {},
     "output_type": "execute_result"
    }
   ],
   "source": [
    "FileLink('code/PPP_MediumOpt.ipynb')"
   ]
  },
  {
   "cell_type": "markdown",
   "metadata": {},
   "source": [
    "| | Glucose | Fructose | Fumarate | Pyruvate | Lactose | Maltose | 20 mmol Glucose |\n",
    "| :- | -: | -: | -: | -: | -: | -: | -: |\n",
    "| Maximum Theoretical Biomass Productivity (h<sup>-1</sup>) | 0.9398 | 0.9398 | 0.4699 | 0.3916 | 1.8797 | 1.8797 | 1.8797 |\n",
    "| Maximum Theoretical Art. Acid Productivity (mmol•g<sub>DW</sub><sup>-1</sup>•h<sup>-1</sup>) | 2.8081 | 2.8081 | 1.4040 | 1.1701 | 5.6162 | 5.6162 | 5.6162 |\n",
    "| Maximum Theoretical Art. Acid Yield (Cmol<sub>ArtA</sub> • Cmol<sub>C.source</sub><sup>-1</sup>) | 0.7020 | 0.7020 | 0.5265 | 0.5850 | 0.7020 | 0.7020 | 0.7020 |\n",
    "\n",
    "<p style=\"text-align:center\"><b>Table 4</b>: Yield and productivity from simulations of growth on various carbon sources. Yield is adjusted for the amount of carbon in the source.</p>\n",
    "\n",
    "One of the most common growth media for fungal production strains in industry is Yeast Peptone Dextrose (YPD) media [29]. As the name implies, it consists of yeast exrtact, peptone and dextrose. Since peptone and yeast extract are very difficult to accurately quantify for a simulation, a YPD-mimicking media was used for our simulations, containing 18 amino acids as well as the metals we could find in our model (Zinc and iron). By simulating growth on YPD media, significantly higher productivity rates were found, both for biomass production and artemisinic acid. This is hardly a surprise as the carbon availability in YPD is far greater than what has been simulated so far. Therefore, the glucose-equivalent of YPD was calculated using the number of carbons in each amino acid as a baseline. In this case, the model seems to favor growth on pure glucose over YPD media, showing that it accounts for *A. niger* being able to metabolize glucose more efficiently than amino acids. However, in a realistic scenario, nitric acid would not be provided in the growth media, so a final test was conducted where nitric acid was removed from the model. Growth rates on YPD are not affected by the removal of nitric acid. On glucose, however, the cells died due to lack of nitrogen. Therefore, even though it has a slightly lower yield than glucose, YPD is a more realistic growth medium for production of artemisinic acid. These results are summarized in **Table 5** below. Calculations for this entire section are found in `code/theoretical_yield.ipynb`.\n"
   ]
  },
  {
   "cell_type": "code",
   "execution_count": 5,
   "metadata": {
    "tags": [
     "hide-input"
    ]
   },
   "outputs": [
    {
     "data": {
      "text/html": [
       "<a href='code/theoretical_yield.ipynb' target='_blank'>code/theoretical_yield.ipynb</a><br>"
      ],
      "text/plain": [
       "/Users/benjaminronnestad/Documents/DTU/1 Education/DTU MSc Biotech/3rd Semester/Computer-aided cell factory design/Project/Aaa/27410-group-assigment-group_6_coool/code/theoretical_yield.ipynb"
      ]
     },
     "execution_count": 5,
     "metadata": {},
     "output_type": "execute_result"
    }
   ],
   "source": [
    "FileLink('code/theoretical_yield.ipynb')"
   ]
  },
  {
   "cell_type": "markdown",
   "metadata": {
    "tags": []
   },
   "source": [
    "| | 10 mM Glucose | YPD media | YPD-eq Glucose | / | YPD<sup>*</sup> | YPD-eq Glucose<sup>*</sup> |\n",
    "|:- | -: | -: | -: | -: | -: | -: |\n",
    "| Maximum Theoretical Biomass Productivity (h<sup>-1</sup>) | 0.9398 | 15.1154 | 15.6642 | / | 15.1154 | dead |\n",
    "| Maximum Theoretical Art. Acid Productivity (mmol•g<sub>DW</sub><sup>-1</sup>•h<sup>-1</sup>) | 2.8081 | 40.6944 | 46.8022 | / | 40.6944 | dead |\n",
    "| Maximum Theoretical Art. Acid Yield (mmol<sub>ArtA</sub> • mmol<sub>C.source</sub><sup>-1</sup>) | 0.2808 | 0.2261 | 0.2808 | / | 0.2261 | dead |\n",
    "\n",
    "<p style=\"text-align:center\"><b>Table 5</b>: Yield and productivity on various from simulations of growth on glucose and YPD media. YPD-eq Glucose denotes a medium with a carbon-availability similar to that of YPD, where all amino acids have been replaced by pure glucose. * denotes simulations where nitric acid has been removed entirely from the extracellular space in the simulation.</p>\n",
    "\n",
    "So far in this section, numbers reported assume all resources of the cell are either allocated towards biomass or artemisinic acid productivity. Realistically, this is not possible, because the production strain would die if 0% of resources were allocated to biomass production. Therefore, we made an updated model, using YPD media and constraining biomass production to be minimum 50% of the theoretical maximum productivity on YPD media. This updated model can be found in `code/create_new_model.py`. The new, constrained Biomass and Artemisinic acid productivities and yield are listed in **Table 6** below."
   ]
  },
  {
   "cell_type": "code",
   "execution_count": 6,
   "metadata": {},
   "outputs": [
    {
     "data": {
      "text/html": [
       "<a href='code/create_new_model.py' target='_blank'>code/create_new_model.py</a><br>"
      ],
      "text/plain": [
       "/Users/benjaminronnestad/Documents/DTU/1 Education/DTU MSc Biotech/3rd Semester/Computer-aided cell factory design/Project/Aaa/27410-group-assigment-group_6_coool/code/create_new_model.py"
      ]
     },
     "execution_count": 6,
     "metadata": {},
     "output_type": "execute_result"
    }
   ],
   "source": [
    "FileLink('code/create_new_model.py')"
   ]
  },
  {
   "cell_type": "markdown",
   "metadata": {},
   "source": [
    "| | New Model (YPD) |\n",
    "|:- |-: |\n",
    "| Constrained Biomass productivity (h<sup>-1</sup>) | 7.5577 /h |\n",
    "| Constrained ARTA productivity (mmol•g<sub>DW</sub><sup>-1</sup>•h<sup>-1</sup>) | 21.2493 |\n",
    "| Constrained ARTA yield (mmol<sub>ArtA</sub> • mmol<sub>C.source</sub><sup>-1</sup>) | 0.1169 |\n",
    "\n",
    "<p style=\"text-align:center\"><b>Table 6</b>: Biomass and Artemisinic acid productivity, and yield generated from simulations using an updated model with YPD media and constrained minimal biomass productivity. The numbers reported are simulated while optimizing for Artemisinic acid production, and are not theoretical maximum values.</p>\n"
   ]
  },
  {
   "cell_type": "markdown",
   "metadata": {},
   "source": [
    "### 4.4 Strategy - Over-expression and Down-regulation Targets\n",
    "\n",
    "To improve strain capability with shorter development time, in-silico gene knockout is a very effective method that can be used to predict target production through flux analysis. However, gene knockout doesn't capture many other methods that has been used in the experiments like gene overexpression. Recent advances have demonstrated meaningful result through gene regulation optimizations such as OptForce, differential FVA and FSEOF. In this case, FSEOF is performed through carmeo package and modified A.niger ATCC1015 model.[30]\n",
    "\n",
    ">`fseof = FSEOF(model)\n",
    "result = fseof.run(target = model.reactions.ARTA_ex)\n",
    "`\n",
    "\n",
    "The above algorithm produces all reactions that can have high impact on the target product. After filtering out small changes in gene regulation, 19 reactions were left as shown below (**Figure 3**).\n",
    "\n",
    "![gene_regulation](documents/gene_regulation.png)\n",
    "\n",
    "<p style=\"text-align:center\"><b>Figure 3</b>: Reactions that have 80% relative change in flux during up or down regulation through FSEOF algorithm</p>\n",
    "\n",
    "Out of 19 selected reactions, 9 reactions belong to the mevalonate pathway in the terpenoid backbone synthesis, which is immediately related to the product reactions. The phosphate exchange reaction is an unique choice which may boost reactions in the mevalonate pathway, especially from r863 to r868. Undoubtfully, the other 5 selected reactions from Arteminsinin biosynthesis will directly affect the product. The last four reactions belongs to Arginine related pathway and has very minimal flux influence compare to the other ones (**Table 6** and **Figure 4**).\n",
    "\n",
    "\n",
    "\n",
    "| ID | Reaction| Stoichiometry | Pathway|\n",
    "|---|---|---|---|\n",
    "| r861| 3-hydroxy-3-methylglutaryl coenzyme A synthase| AACCOA + ACCOA + H2O <=> COA + H3MCOA | Mevalonate Pathway |\n",
    "| r862| 3-hydroxy-3-methylglutaryl-coenzyme A (HMG-CoA) reductase isozyme | H3MCOA + 2.0 NADPH <=> COA + MVL + 2.0 NADP | Mevalonate Pathway |\n",
    "| r863| Mevalonate kinase | ATP + MVL --> ADP + PMVL| Mevalonate Pathway |\n",
    "| r864| Phosphomevalonate kinase| ATP + PMVL --> ADP + PPMVL| Mevalonate Pathway |\n",
    "| r865| Diphosphomevalonate decarboxylase | ATP + PPMVL --> ADP + CO2 + IPPP + PI | Mevalonate Pathway |\n",
    "| r671| Acetyl-CoA C-acetyltransferase, acetoacetyl-CoA thiolase| 2.0 ACCOA --> AACCOA + COA| Mevalonate Pathway |\n",
    "| r1095 | | PIe <=> PI| Phosphate Exchange |\n",
    "| r866| Isopentenyl diphosphate:dimethylallyl diphosphate isomerase (IPP isomerase) | IPPP <=> DMPP | Mevalonate Pathway |\n",
    "| r867| Prenyltransferase | DMPP + IPPP --> GPP + PPI | Mevalonate Pathway |\n",
    "| r868| Farnesyl diphosphate synthetase (FPP synthetase)| GPP + IPPP --> FPP + PPI| Mevalonate Pathway |\n",
    "| ARTA_ex | | ARTA_c --> ARTA_e | Artemisinin Biosynthesis |\n",
    "| ALDH1_reaction| | artem_aldehyde --> ARTA_c | Artemisinin Biosynthesis |\n",
    "| ADH1_reaction | | artem_alcohol --> artem_aldehyde| Artemisinin Biosynthesis |\n",
    "| CYP1AV1CY/PCPR1/CYB5_reaction | | amorpha --> artem_alcohol | Artemisinin Biosynthesis |\n",
    "| ADS_reaction| | FPP --> amorpha | Artemisinin Biosynthesis |\n",
    "| r269| Argininosuccinate lyase | ARGSUCC <=> ARG + FUM | Benzoate Degradation |\n",
    "| r268| Argininosuccinate synthase| ASP + ATP + CITR --> AMP + ARGSUCC + PPI| Benzoate Degradation |\n",
    "| r1183 | | CITR <=> CITRm| Arginine Biosynthesis|\n",
    "| r19 | Pyruvate carboxylase| ATP + CO2 + H2O + PYR --> ADP + OA + PI | Biotin Synthesis Pathway |\n",
    "\n",
    "<p style=\"text-align:center\"><b>Table 6</b>: Important reactions that can be regulated to achieve higher target production</p>\n",
    "\n",
    "![mevalonate_pathway](documents/mevalonate_path.png)\n",
    "\n",
    "<p style=\"text-align:center\"><b>Figure 4</b>: Important pathways that can be regulated marked in KEGG pathway map</p>"
   ]
  },
  {
   "cell_type": "code",
   "execution_count": 7,
   "metadata": {
    "jupyter": {
     "source_hidden": true
    }
   },
   "outputs": [
    {
     "data": {
      "text/html": [
       "<a href='code/Gene_Regulation_Optimization.ipynb' target='_blank'>code/Gene_Regulation_Optimization.ipynb</a><br>"
      ],
      "text/plain": [
       "/Users/benjaminronnestad/Documents/DTU/1 Education/DTU MSc Biotech/3rd Semester/Computer-aided cell factory design/Project/Aaa/27410-group-assigment-group_6_coool/code/Gene_Regulation_Optimization.ipynb"
      ]
     },
     "execution_count": 7,
     "metadata": {},
     "output_type": "execute_result"
    }
   ],
   "source": [
    "FileLink('code/Gene_Regulation_Optimization.ipynb')"
   ]
  },
  {
   "cell_type": "markdown",
   "metadata": {},
   "source": [
    "### 4.5 Strategy - Manual derived strain designs\n",
    "\n",
    "To develop manual strain strategies, we have analyzed the biosynthesis pathway map of Artemisininic Acid and try to find the way via knockouts to increase production. The fact that the model used did not have standardized reaction names, like other detailed maps, meant that the pathway map had to be manually created from scratch through builderEscher. This map allows for a simplified visualization which is enough to find the most interesting gene targets for manipulation.\n",
    "\n",
    "Once the map is built, the easiest way to see which knockouts would threaten the survival of the biomass, is to optimize the model for product but constraining the simulation to a minimum of biomass. The reactions without flux can be knocked out or downregulated without affecting the biomass.\n",
    "\n",
    "r869, r2005, r2346, r3000 to r3010, r2607, r2346 are the reactions that compete with the optimal pathway for Artemisinic acid production. The information that the map gives us is that r869 needs to have a minimum flux to ensure biomass concentration, and a knockout of 4 genes: \n",
    "\n",
    "| Reaction name | Gene |Target for Knockout |\n",
    "| --- | --- | --- |\n",
    "| r869 | Squalene synthase | No |\n",
    "| r2005 | Prenyltransferase | Yes |\n",
    "| r3000-10 | Tyrosine O-prenyltransferase | Yes |\n",
    "|r2346 | Nonaprenyl diphosphate biosynthesis | Yes |\n",
    "|r2607 | Mevalonate oxidase | Yes |\n",
    "\n",
    "<p style=\"text-align:center\"><b>Table 7</b>: Potential KO targets</p>\n",
    "\n",
    "| Therotical ARTA production constrained 50% Biomass |\n",
    "| --- |\n",
    "| 21.24926099452312 | \n",
    "\n",
    "![title](documents/Map.png)\n",
    "\n",
    "<p style=\"text-align:center\"><b>Figure 5</b>: Pathway map with reaction data build with Escher</p>\n",
    "\n",
    "While this approach helps find the main optimization targets, it is too simplistic and does not take into account secondary metabolites and reactions not displayed on the pathway map, such as ATP production reactions. Algorithms fix this problem and are faster to use.\n"
   ]
  },
  {
   "cell_type": "code",
   "execution_count": 8,
   "metadata": {},
   "outputs": [
    {
     "data": {
      "text/html": [
       "<a href='code/Manual_Knockout_Strategies.ipynb' target='_blank'>code/Manual_Knockout_Strategies.ipynb</a><br>"
      ],
      "text/plain": [
       "/Users/benjaminronnestad/Documents/DTU/1 Education/DTU MSc Biotech/3rd Semester/Computer-aided cell factory design/Project/Aaa/27410-group-assigment-group_6_coool/code/Manual_Knockout_Strategies.ipynb"
      ]
     },
     "execution_count": 8,
     "metadata": {},
     "output_type": "execute_result"
    }
   ],
   "source": [
    "FileLink('code/Manual_Knockout_Strategies.ipynb')"
   ]
  },
  {
   "cell_type": "markdown",
   "metadata": {},
   "source": [
    "### 4.6 Strategy - dFBA, OptGene and OptKnock\n",
    "\n",
    "We also tried to use dFBA, OptGene and OptKnock to further find out better ways to optimize our modified strain, but the OptGene gave no result, and OptKnock and dFBA have issues with the model. Since we are using a non-standardized BiGG model, some problems are not resolvable which need further investigation. "
   ]
  },
  {
   "cell_type": "code",
   "execution_count": 9,
   "metadata": {},
   "outputs": [
    {
     "data": {
      "text/html": [
       "<a href='code/OptKnock_Gene.ipynb' target='_blank'>code/OptKnock_Gene.ipynb</a><br>"
      ],
      "text/plain": [
       "/Users/benjaminronnestad/Documents/DTU/1 Education/DTU MSc Biotech/3rd Semester/Computer-aided cell factory design/Project/Aaa/27410-group-assigment-group_6_coool/code/OptKnock_Gene.ipynb"
      ]
     },
     "execution_count": 9,
     "metadata": {},
     "output_type": "execute_result"
    }
   ],
   "source": [
    "FileLink('code/OptKnock_Gene.ipynb')"
   ]
  },
  {
   "cell_type": "markdown",
   "metadata": {},
   "source": [
    "## 5. Discussion\n",
    "The production of artemisinic acid in A. niger requires the intact functionality of the enzymes forming the heterologous pathway. Due to the phylogenetic distance to Artemisia annua, being in another kingdom of life, folding, glycosylation and therefore function of the enzymes might be impaired. We assume sufficient functionality, which however might require protein engineering like codon-optimization beforehand, but still poses the risk of non-feasability. To minimise this risk, enzymes of the pathway could be expressed transiently in A. niger as a proof-of-concept approach. Simple western-blotting could prove expression of the genes, and enzyme activity assays after purification could provide insight to enzyme functionality.\n",
    "\n",
    "We chose the model ATCC1015 out of five possible models that were published in the last five years, after Memote analysis resulted in the best annotation and overall score. However, since it is not a standardized BiGG model, it lacks meaningful nomenclature for the reactions, which impairs readability and functionality of tools like Escher and Cameo. Moreover, many non-essential pathways for the synthesis of secondary metabolites are not annotated, compromising the quality of model predictions. Ideally, the recently published enzyme constraint model eciJB1325 could be used, giving better predictions by including enzyme kinetics data. We decided against that, since there is no kinetic data available for our heterologous pathway, which will presumably be the rate-limiting step in artemisinic acid production.\n",
    "\n",
    "Comparison to the S. cervisiae model iMM904 indicated a generally higher artemisinic acid productivity and growth rate for A. niger, which shows the great potential of the host, at least in silico. One possible explanation of the high productivity is that there is a naturally high flux into the precursor FPP in the mevalonate pathway. FPP is used for the production of sesquiterpenoids, a very large and diverse group of secondary metabolites, including artemisinic acid. A. niger has a naturally high repertoire of sesquiterpenoids, presumably to compete with other microorganisms in its predominant niche, terrestrial soil. Furthermore, the flux from the precursor to the heterologous pathway could further be improved by knockouts of the mostly non-essential SM synthase enzymes.\n",
    "\n",
    "Medium optimization can be a very effective and easy-to-implement way of increasing productivity. Our simulation of different carbon sources showed that hexose mono- and disaccharides provide identical efficiency in terms of biomass production and productivity. Therefore, we chose glucose as the main carbon source as it is the cheapest. The complex medium YPD is the most employed in industry, but due to its undefined ingredients difficult to simulate. By mimicking those components with amino acids and trace elements, we could circumvent this issue and additionally remove the dependency of the model to add nitric acid to the simulation, bringing it closer to reality. YPD medium provided the best growth conditions, so a new model baseline was created utilizing the new media specifications as well as a minimum constraint on biomass productivity.\n",
    "\n",
    "Visualization of the pathway in Escher enabled us to identify four potential knock out candidates. However, we expected to identify more, considering the high abundance of sesquiterpenoid synthase enzymes described in literature. Reason for that is presumably the incomplete annotation of SM synthase reactions in the model. We used FSEOF to identify targets for up- and downregulation of protein expression, resulting in a list of 19 reactions. Upregulation targets are mainly directly linked to the production of FPP or in the heterologous pathway itself, which was expected. Furthermore, the upregulation of a phosphate exchange reaction was suggested. This is very plausible, since the reactions linked to artemisinic acid production are energy intensive and could benefit from an overall higher phosphate influx."
   ]
  },
  {
   "cell_type": "markdown",
   "metadata": {},
   "source": [
    "## 6. Conclusion \n",
    "Artemisin remains the most effective and most important drug against malaria to this day. Finding a highly productive microbial host for the heterologous production of its precursor, artemisinic acid, could help serving the increasing global demand for the drug while reducing the price. The aim of this project was to investigate the potential of the filamentous fungus Aspergillus niger as host organism. Therefore, we used an existing GSM and introduced the artemisinic acid pathway for heterologous production. By applying in-silico engineering strategies such as media optimization, gene knock-outs and FSEOF, we could identify targets for process- and metabolic optimization. We could show that A. niger has a high potential as production host for artemisinic acid, exceeding the productivity of S. cervisiae, which is the only organism engineered for the heterologous production of the compound so far. These findings are promising, however only theoretical and must be validated by experimentation."
   ]
  },
  {
   "cell_type": "markdown",
   "metadata": {},
   "source": [
    "## References"
   ]
  },
  {
   "cell_type": "markdown",
   "metadata": {},
   "source": [
    "[1] World Health Organization (WHO) (2022), Malaria, https://www.who.int/news-room/fact-sheets/detail/malaria\n",
    "\n",
    "[2] 360ResearchReports, 2022, Global Artemisinin Industry Research Report, Competitive Landscape, Market Size, Regional Status and Prospect. SKU ID : Maia-21739066\n",
    "\n",
    "[3] World Health Organization (WHO) (2018), Artemisinin resistance and artemisinin-based combination therapy efficacy, Status Report, https://www.who.int/docs/default-source/documents/publications/gmp/who-cds-gmp-2018-26-eng.pdf\n",
    "\n",
    "[4] Li, C., Li, J., Wang, G. and Li, X. (2016), Heterologous biosynthesis of artemisinic acid in Saccharomyces cerevisiae. J Appl Microbiol, 120: 1466-1478. https://doi.org/10.1111/jam.13044\n",
    "\n",
    "[5] Ro, DK., Paradise, E., Ouellet, M. et al. (2006), Production of the antimalarial drug precursor artemisinic acid in engineered yeast. Nature 440, 940–943. https://doi.org/10.1038/nature04640\n",
    "\n",
    "[6] Norma B. Paniego, Ana Maria Giulietti (1996), Artemisinin production by Artemisia annua L.-transformed organ cultures, Enzyme and Microbial Technology, Volume 18, Issue 7, 526-530. https://doi.org/10.1016/0141-0229(95)00216-2.\n",
    "\n",
    "[7] Fujita M, Iwahori K, Tatsuta S, Yamakawa K. Analysis of pellet formation of Aspergillus niger based on shear stress. Journal of Fermentation and Bioengineering. 1994;78(5):368-373. doi:10.1016/0922-338x(94)90282-8\n",
    "\n",
    "[8] Yu R, Liu J, Wang Y, Wang H, Zhang H. Aspergillus niger as a Secondary Metabolite Factory. Frontiers in Chemistry. 2021;9. doi:10.3389/fchem.2021.701022\n",
    "\n",
    "[9] Meyer V, Fiedler M, Nitsche B, King R. The Cell Factory Aspergillus Enters the Big Data Era: Opportunities and Challenges for Optimising Product Formation. Advances in Biochemical Engineering/Biotechnology. Published online 2015:91-132. doi:10.1007/10_2014_297\n",
    "\n",
    "[10] Cairns TC, Nai C, Meyer V. How a fungus shapes biotechnology: 100 years of Aspergillus niger research. Fungal Biology and Biotechnology. 2018;5(1). doi:10.1186/s40694-018-0054-5\n",
    "\n",
    "[11] Romsdahl J, Wang CCC. Recent advances in the genome mining ofAspergillussecondary metabolites (covering 2012–2018). MedChemComm. 2019;10(6):840-866. doi:10.1039/c9md00054b\n",
    "\n",
    "[12] Nødvig CS, Nielsen JB, Kogle ME, Mortensen UH. A CRISPR-Cas9 System for Genetic Engineering of Filamentous Fungi. Yu JH, ed. PLOS ONE. 2015;10(7):e0133085. doi:10.1371/journal.pone.0133085\n",
    "\n",
    "[13] Host-Fungus Interactions. SpringerLink. Published online 2012. doi:10.1007-978-1-61779-539-8\n",
    "\n",
    "[14] Wanka F, Cairns T, Boecker S, et al. Tet-on, or Tet-off, that is the question: Advanced conditional gene expression in Aspergillus. Fungal Genetics and Biology. 2016;89:72-83. doi:10.1016/j.fgb.2015.11.003\n",
    "\n",
    "[15] Andersen MR, Nielsen ML, Nielsen J. Metabolic model integration of the bibliome, genome, metabolome and reactome of Aspergillus niger. Molecular Systems Biology. 2008;4(1):178. doi:10.1038/msb.2008.12\n",
    "\n",
    "[16] Brandl J, Aguilar-Pontes MV, Schäpe P, et al. A community-driven reconstruction of the Aspergillus niger metabolic network. Fungal Biology and Biotechnology. 2018;5(1). doi:10.1186/s40694-018-0060-7\n",
    "\n",
    "[17] Ro DK, Paradise EM, Ouellet M, et al. Production of the antimalarial drug precursor artemisinic acid in engineered yeast. Nature. 2006;440(7086):940-943. doi:10.1038/nature04640\n",
    "\n",
    "[18] Wilding EI, Brown JR, Bryant AP, et al. Identification, Evolution, and Essentiality of the Mevalonate Pathway for Isopentenyl Diphosphate Biosynthesis in Gram-Positive Cocci. Journal of Bacteriology. 2000;182(15):4319-4327. doi:10.1128/jb.182.15.4319-4327.2000\n",
    "\n",
    "[19] Ludwiczuk A, Skalicka-Woźniak K, Georgiev MI. Terpenoids. Pharmacognosy. Published online 2017:233-266. doi:10.1016/b978-0-12-802104-0.00011-1\n",
    "\n",
    "[20] Zhang Y, Nowak G, Reed DW, Covello PS. The production of artemisinin precursors in tobacco. Plant Biotechnology Journal. 2010;9(4):445-454. doi:10.1111/j.1467-7652.2010.00556.x\n",
    "\n",
    "[21] Anyaogu DC, Mortensen UH. Heterologous production of fungal secondary metabolites in Aspergilli. Frontiers in Microbiology. 2015;6. doi:10.3389/fmicb.2015.00077\n",
    "\n",
    "[22] Andersen MR, Salazar MP, Schaap PJ, et al. Comparative genomics of citric-acid-producing Aspergillus niger ATCC 1015 versus enzyme-producing CBS 513.88. Genome Research. 2011;21(6):885-897. doi:10.1101/gr.112169.110\n",
    "\n",
    "[23] Lu H, Liu X, Huang M, et al. Integrated isotope-assisted metabolomics and 13C metabolic flux analysis reveals metabolic flux redistribution for high glucoamylase production by Aspergillus niger. Microbial Cell Factories. 2015;14(1). doi:10.1186/s12934-015-0329-y\n",
    "\n",
    "[24] Zhou J, Zhuang Y, Xia J. Integration of enzyme constraints in a genome-scale metabolic model of Aspergillus niger improves phenotype predictions. Microbial Cell Factories. 2021;20(1). doi:10.1186/s12934-021-01614-2\n",
    "\n",
    "[25] Upton DJ, McQueen-Mason SJ, Wood AJ. In silico evolution of Aspergillus niger organic acid production suggests strategies for switching acid output. Biotechnology for Biofuels. 2020;13(1). doi:10.1186/s13068-020-01678-z\n",
    "\n",
    "[26] Brandl J, Aguilar-Pontes MV, Schäpe P, et al. A community-driven reconstruction of the Aspergillus niger metabolic network. Fungal Biology and Biotechnology. 2018;5(1). doi:10.1186/s40694-018-0060-7\n",
    "\n",
    "[27] Lu H, Cao W, Ouyang L, et al. Comprehensive reconstruction and in silico analysis ofAspergillus nigergenome-scale metabolic network model that accounts for 1210 ORFs. Biotechnology and Bioengineering. 2016;114(3):685-695. doi:10.1002/bit.26195\n",
    "\n",
    "[28] Lieven C, Beber ME, Olivier BG, et al. MEMOTE for standardized genome-scale metabolic model testing. Nature Biotechnology. 2020;38(3):272-276. doi:10.1038/s41587-020-0446-y\n",
    "\n",
    "[29] Park JM, Park HM, Kim WJ, Kim HU, Kim TY, Lee SY. Flux variability scanning based on enforced objective flux for identifying gene amplification targets. BMC Systems Biology. 2012;6(1). doi:10.1186/1752-0509-6-106\n",
    "\n",
    "[30] José Manuel Salgado, Noelia Rodríguez, Sandra Cortés, José Manuel Domínguez, Development of Cost-Effective Media to Increase the Economic Potential for Larger-Scale Bioproduction of Natural Food Additives by Lactobacillus rhamnosus, Debaryomyces hansenii, and Aspergillus niger, Journal of Agricultural and Food Chemistry 2009 57 (21), 10414-10428 https://pubs.acs.org/doi/full/10.1021/jf901911c#\n",
    "\n",
    "\n",
    "\n",
    "\n",
    "\n",
    "\n",
    "\n",
    "\n"
   ]
  }
 ],
 "metadata": {
  "kernelspec": {
   "display_name": "Python 3 (ipykernel)",
   "language": "python",
   "name": "python3"
  },
  "language_info": {
   "codemirror_mode": {
    "name": "ipython",
    "version": 3
   },
   "file_extension": ".py",
   "mimetype": "text/x-python",
   "name": "python",
   "nbconvert_exporter": "python",
   "pygments_lexer": "ipython3",
   "version": "3.9.13"
  }
 },
 "nbformat": 4,
 "nbformat_minor": 4
}
