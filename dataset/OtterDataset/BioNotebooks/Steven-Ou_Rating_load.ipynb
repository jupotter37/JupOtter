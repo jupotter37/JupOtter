{
 "cells": [
  {
   "cell_type": "code",
   "execution_count": 2,
   "metadata": {},
   "outputs": [],
   "source": [
    "from dotenv import load_dotenv\n",
    "load_dotenv()\n",
    "import os\n",
    "from openai import OpenAI\n",
    "\n"
   ]
  },
  {
   "cell_type": "code",
   "execution_count": 6,
   "metadata": {},
   "outputs": [],
   "source": [
    "from pinecone import Pinecone, ServerlessSpec\n",
    "pc = Pinecone(api_key=os.getenv(\"PINECONE_API_KEY\"))\n",
    "pc.create_index(\n",
    "    name=\"rating\", dimension=1536, metric=\"cosine\", spec=ServerlessSpec(cloud=\"aws\", region=\"us-east-1\")\n",
    ")"
   ]
  },
  {
   "cell_type": "code",
   "execution_count": 7,
   "metadata": {},
   "outputs": [
    {
     "data": {
      "text/plain": [
       "[{'professor': 'Dr. Emily Thompson',\n",
       "  'subject': 'Biology',\n",
       "  'stars': 4,\n",
       "  'review': \"Dr. Thompson's lectures are engaging and well-structured. She explains complex concepts clearly.\"},\n",
       " {'professor': 'Prof. Michael Chen',\n",
       "  'subject': 'Computer Science',\n",
       "  'stars': 5,\n",
       "  'review': \"Brilliant professor! Prof. Chen's passion for coding is contagious. His projects are challenging but rewarding.\"},\n",
       " {'professor': 'Dr. Sarah Johnson',\n",
       "  'subject': 'Psychology',\n",
       "  'stars': 3,\n",
       "  'review': 'Dr. Johnson knows her subject well, but her lectures can be a bit dry at times.'},\n",
       " {'professor': 'Prof. David Martinez',\n",
       "  'subject': 'Mathematics',\n",
       "  'stars': 5,\n",
       "  'review': 'Prof. Martinez makes even the most difficult math concepts understandable. Highly recommended!'},\n",
       " {'professor': 'Dr. Rachel Lee',\n",
       "  'subject': 'Literature',\n",
       "  'stars': 4,\n",
       "  'review': \"Dr. Lee's enthusiasm for literature is evident in every class. Her reading list is diverse and thought-provoking.\"},\n",
       " {'professor': 'Prof. Robert Taylor',\n",
       "  'subject': 'Physics',\n",
       "  'stars': 2,\n",
       "  'review': 'Prof. Taylor seems knowledgeable, but his teaching style is confusing. More practical examples would help.'},\n",
       " {'professor': 'Dr. Amanda Wong',\n",
       "  'subject': 'Chemistry',\n",
       "  'stars': 5,\n",
       "  'review': \"Dr. Wong's labs are well-organized and her explanations are crystal clear. She's always willing to help students.\"},\n",
       " {'professor': 'Prof. John Smith',\n",
       "  'subject': 'History',\n",
       "  'stars': 3,\n",
       "  'review': \"Prof. Smith's lectures are informative, but he tends to go off on tangents. Exams are fair.\"},\n",
       " {'professor': 'Dr. Lisa Brown',\n",
       "  'subject': 'Sociology',\n",
       "  'stars': 4,\n",
       "  'review': 'Dr. Brown incorporates current events into her teachings, making the subject very relevant and interesting.'},\n",
       " {'professor': \"Prof. Kevin O'Brien\",\n",
       "  'subject': 'Economics',\n",
       "  'stars': 2,\n",
       "  'review': \"Prof. O'Brien's lectures are hard to follow. He assumes too much prior knowledge from students.\"},\n",
       " {'professor': 'Dr. Maria Garcia',\n",
       "  'subject': 'Environmental Science',\n",
       "  'stars': 5,\n",
       "  'review': \"Dr. Garcia's passion for the environment is inspiring. Her field trips are the highlight of the course.\"},\n",
       " {'professor': 'Prof. Thomas Wilson',\n",
       "  'subject': 'Philosophy',\n",
       "  'stars': 4,\n",
       "  'review': 'Prof. Wilson encourages critical thinking and lively debates. His classes are never boring.'},\n",
       " {'professor': 'Dr. Jennifer Patel',\n",
       "  'subject': 'Neuroscience',\n",
       "  'stars': 3,\n",
       "  'review': \"Dr. Patel's course content is fascinating, but her grading can be inconsistent and unclear at times.\"},\n",
       " {'professor': 'Prof. William Lee',\n",
       "  'subject': 'Art History',\n",
       "  'stars': 5,\n",
       "  'review': \"Prof. Lee's knowledge of art is encyclopedic. His virtual museum tours are an excellent learning experience.\"},\n",
       " {'professor': 'Dr. Elizabeth Carter',\n",
       "  'subject': 'Political Science',\n",
       "  'stars': 4,\n",
       "  'review': 'Dr. Carter presents balanced viewpoints and encourages students to form their own opinions. Very engaging.'},\n",
       " {'professor': 'Prof. James Anderson',\n",
       "  'subject': 'Engineering',\n",
       "  'stars': 2,\n",
       "  'review': \"Prof. Anderson's assignments are often unclear, and he's not very responsive to emails. Course needs improvement.\"},\n",
       " {'professor': 'Dr. Sophia Rossi',\n",
       "  'subject': 'Linguistics',\n",
       "  'stars': 5,\n",
       "  'review': 'Dr. Rossi makes language study fun and interactive. Her research projects are particularly enlightening.'},\n",
       " {'professor': 'Prof. Daniel Kim',\n",
       "  'subject': 'Business Administration',\n",
       "  'stars': 3,\n",
       "  'review': 'Prof. Kim has good real-world examples, but his lectures can be repetitive. More variety would be appreciated.'},\n",
       " {'professor': 'Dr. Olivia Murphy',\n",
       "  'subject': 'Anthropology',\n",
       "  'stars': 4,\n",
       "  'review': \"Dr. Murphy's enthusiasm for cultural studies is infectious. Her assignments encourage creative thinking.\"},\n",
       " {'professor': 'Prof. Christopher Davis',\n",
       "  'subject': 'Music Theory',\n",
       "  'stars': 5,\n",
       "  'review': 'Prof. Davis is a musical genius. His composition workshops are challenging but incredibly rewarding.'}]"
      ]
     },
     "execution_count": 7,
     "metadata": {},
     "output_type": "execute_result"
    }
   ],
   "source": [
    "import json\n",
    "data = json.load(open(\"reviews.json\"))\n",
    "data['reviews']"
   ]
  },
  {
   "cell_type": "code",
   "execution_count": null,
   "metadata": {},
   "outputs": [],
   "source": [
    "processed_data=[]\n",
    "client = OpenAI()\n",
    "for review in data['reviews']:\n",
    "    response = client.embeddings.create(\n",
    "        input=review['review'],\n",
    "        model=\"text-embedding-3-small\"\n",
    "    )\n",
    "    embedding = response.data[0].embedding\n",
    "    processed_data.append({\n",
    "        \"values\":embedding,\n",
    "        \"id\": review[\"professor\"],\n",
    "        \"metadata\":{\n",
    "            \"review\":review[\"reviews\"],\n",
    "            \"subject\":review[\"subject\"],\n",
    "            \"stars\": review[\"stars\"]\n",
    "        }\n",
    "    })"
   ]
  },
  {
   "cell_type": "code",
   "execution_count": null,
   "metadata": {},
   "outputs": [],
   "source": []
  }
 ],
 "metadata": {
  "kernelspec": {
   "display_name": "rag",
   "language": "python",
   "name": "python3"
  },
  "language_info": {
   "codemirror_mode": {
    "name": "ipython",
    "version": 3
   },
   "file_extension": ".py",
   "mimetype": "text/x-python",
   "name": "python",
   "nbconvert_exporter": "python",
   "pygments_lexer": "ipython3",
   "version": "3.10.14"
  }
 },
 "nbformat": 4,
 "nbformat_minor": 2
}
