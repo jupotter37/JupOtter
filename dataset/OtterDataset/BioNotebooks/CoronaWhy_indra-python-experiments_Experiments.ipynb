{
 "cells": [
  {
   "cell_type": "markdown",
   "metadata": {},
   "source": [
    "# Indra experiments\n",
    "\n",
    "The aim here is to evaluate Indra as a basis for claim identification in medical literature outside of molecular biology, esp. in the case of clinical trials.\n"
   ]
  },
  {
   "cell_type": "markdown",
   "metadata": {},
   "source": [
    "## Document ETL\n",
    "\n",
    "Taking open-access documents as point of departure. Below is the abstract, stripped of references:\n",
    "\n",
    "\n"
   ]
  },
  {
   "cell_type": "code",
   "execution_count": 1,
   "metadata": {},
   "outputs": [],
   "source": [
    "from lxml import etree\n",
    "import requests\n",
    "import json\n",
    "from indra.literature import get_full_text\n",
    "import os\n",
    "import csv\n",
    "\n",
    "#print(os.path.abspath(os.path.curdir))\n",
    "with open('./env.csv') as f:\n",
    "    r = csv.reader(f, delimiter=' ')\n",
    "    for k, v in r:\n",
    "        os.environ[k] = v\n"
   ]
  },
  {
   "cell_type": "code",
   "execution_count": 2,
   "metadata": {},
   "outputs": [],
   "source": [
    "doi = \"10.12688/f1000research.16369.1\"\n",
    "pmid = '30631430'\n",
    "pmcid = 'PMC6281014'\n",
    "pdflink = None #'https://www.ncbi.nlm.nih.gov/pmc/articles/PMC6281014/pdf/f1000research-7-17879.pdf'"
   ]
  },
  {
   "cell_type": "code",
   "execution_count": 3,
   "metadata": {},
   "outputs": [
    {
     "name": "stdout",
     "output_type": "stream",
     "text": [
      "open https://www.ncbi.nlm.nih.gov/pmc/articles/PMC6281014/pdf/f1000research-7-17879.pdf and save it as PMC6281014.pdf\n",
      "\n",
      "Atherosclerotic renovascular disease (ARVD) is an unresolved therapeutic dilemma despite extensive pre-clinical and clinical studies. The pathophysiology of the disease has been widely studied, and many factors that may be involved in progressive renal injury and cardiovascular risk associated with ARVD have been identified. However, therapies and clinical trials have focused largely on attempts to resolve renal artery stenosis without considering the potential need to treat the renal parenchyma beyond the obstruction. The results of these trials show a staggering consistence: although nearly 100% of the patients undergoing renal angioplasty show a resolution of the vascular obstruction, they do not achieve significant improvements in renal function or blood pressure control compared with those patients receiving medical treatment alone. It seems that we may need to take a step back and reconsider the pathophysiology of the disease in order to develop more effective therapeutic strategies. This mini-review discusses potential therapeutic alternatives that focus on the renal parenchyma distal to the vascular obstruction and may provide additional tools to enhance current treatment of ARVD.\n"
     ]
    }
   ],
   "source": [
    "(t, ttype) = get_full_text(str(pmid), 'pmid') # or (doi, 'doi')\n",
    "nsmap={'xsi': 'http://www.w3.org/2001/XMLSchema-instance',\n",
    " 'ali': 'http://www.niso.org/schemas/ali/1.0/',\n",
    " 'mml': 'http://www.w3.org/1998/Math/MathML',\n",
    " 'xlink': 'http://www.w3.org/1999/xlink',\n",
    " 'j': 'https://jats.nlm.nih.gov/ns/archiving/1.2/'}\n",
    "\n",
    "\n",
    "if ttype == 'pmc_oa_xml':\n",
    "    tx = etree.fromstring(t.encode('utf-8'))\n",
    "    with open(f\"{pmcid}.xml\", 'w') as f:\n",
    "        f.write(t)\n",
    "    ax = tx.xpath('//j:abstract', namespaces=nsmap)[0]\n",
    "    abstract = ''.join(ax.itertext()).strip()\n",
    "    if pmcid:\n",
    "        if not pdflink:\n",
    "            pdflinks=tx.xpath(\"//j:self-uri[@content-type='pdf']/@xlink:href\", namespaces=nsmap)\n",
    "            if pdflinks:\n",
    "                pdflink = pdflinks[0]\n",
    "        if pdflink:\n",
    "            source = f\"https://www.ncbi.nlm.nih.gov/pmc/articles/{pmcid}/pdf/{pdflink}\"\n",
    "            r = requests.get(source)\n",
    "            if r.ok:  # actually get a 403 here...\n",
    "                with open(f\"{pmcid}.pdf\", 'wb') as f:\n",
    "                    f.write(r.raw)\n",
    "            else:\n",
    "                print(f\"open {source} and save it as {pmcid}.pdf\\n\")\n",
    "elif ttype == 'abstract':\n",
    "    abstract = t\n",
    "print(abstract)\n"
   ]
  },
  {
   "cell_type": "code",
   "execution_count": 11,
   "metadata": {},
   "outputs": [
    {
     "name": "stdout",
     "output_type": "stream",
     "text": [
      "[]\n"
     ]
    }
   ],
   "source": [
    "from indra.sources import reach\n",
    "rp_reach=reach.process_text(abstract, offline=True)\n",
    "with open(f\"{pmcid}.reach.json\", 'w') as f:\n",
    "    json.dump(rp_reach.tree.data, f)\n",
    "if rp_reach.statements:\n",
    "    with open(f\"{pmcid}.reach.indra.json\", 'w') as f:\n",
    "        json.dump([s.to_json() for s in rp_reach.statements], f)\n",
    "print(rp_reach.statements)"
   ]
  },
  {
   "cell_type": "code",
   "execution_count": 12,
   "metadata": {},
   "outputs": [
    {
     "name": "stdout",
     "output_type": "stream",
     "text": [
      "[Influence(Event(trials), Event(show staggering consistence % patients undergoing renal angioplasty show resolution vascular obstruction do achieve renal function blood pressure control compared patients receiving medical treatment)), Event(pre-clinical clinical), Event(pathophysiology disease has been), Event(many factors), Event(tools), Event(treatment ARVD)]\n"
     ]
    }
   ],
   "source": [
    "from indra.sources import eidos\n",
    "rp_eidos=eidos.process_text(abstract, webservice=\"http://localhost:9000\")\n",
    "with open(f\"{pmcid}.eidos.json\", 'w') as f:\n",
    "    json.dump(rp_eidos.doc.tree.data, f)\n",
    "if rp_eidos.statements:\n",
    "    with open(f\"{pmcid}.eidos.indra.json\", 'w') as f:\n",
    "        json.dump([s.to_json() for s in rp_eidos.statements], f)\n",
    "print(rp_eidos.statements)"
   ]
  },
  {
   "cell_type": "code",
   "execution_count": null,
   "metadata": {
    "scrolled": true
   },
   "outputs": [],
   "source": [
    "from indra.sources import sparser\n",
    "# Buggy version locally, but empty results even on official version.\n",
    "ab = \"\".join(abstract.split(\"-\"))\n",
    "print(ab)\n",
    "rp_sparser=sparser.process_text(ab)\n",
    "if rp_sparser and rp_sparser.statements:\n",
    "    with open(f\"{pmcid}.sparser.json\", 'w') as f:\n",
    "        json.dump(rp_sparser.doc.tree.data, f)\n",
    "    if rp.statements:\n",
    "        with open(f\"{pmcid}.sparser.indra.json\", 'w') as f:\n",
    "            json.dump([s.to_json() for s in rp_sparser.statements], f)\n",
    "print(rp_sparser)\n"
   ]
  },
  {
   "cell_type": "code",
   "execution_count": null,
   "metadata": {},
   "outputs": [],
   "source": []
  }
 ],
 "metadata": {
  "kernelspec": {
   "display_name": "Python 3",
   "language": "python",
   "name": "python3"
  },
  "language_info": {
   "codemirror_mode": {
    "name": "ipython",
    "version": 3
   },
   "file_extension": ".py",
   "mimetype": "text/x-python",
   "name": "python",
   "nbconvert_exporter": "python",
   "pygments_lexer": "ipython3",
   "version": "3.8.5"
  }
 },
 "nbformat": 4,
 "nbformat_minor": 4
}
