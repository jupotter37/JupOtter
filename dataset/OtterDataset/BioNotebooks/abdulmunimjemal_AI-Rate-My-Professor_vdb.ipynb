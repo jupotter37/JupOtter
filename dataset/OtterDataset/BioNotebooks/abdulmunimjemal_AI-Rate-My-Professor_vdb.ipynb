{
 "cells": [
  {
   "cell_type": "markdown",
   "metadata": {},
   "source": [
    "### A Notebook to handle Vector DB Creation in Pinecone\n"
   ]
  },
  {
   "cell_type": "code",
   "execution_count": 1,
   "metadata": {},
   "outputs": [
    {
     "name": "stderr",
     "output_type": "stream",
     "text": [
      "c:\\Users\\Abdulmunim\\AppData\\Local\\pypoetry\\Cache\\virtualenvs\\ai_rate_my_professor-LZCXyomm-py3.11\\Lib\\site-packages\\pinecone\\data\\index.py:1: TqdmWarning: IProgress not found. Please update jupyter and ipywidgets. See https://ipywidgets.readthedocs.io/en/stable/user_install.html\n",
      "  from tqdm.autonotebook import tqdm\n"
     ]
    }
   ],
   "source": [
    "import os\n",
    "from dotenv import load_dotenv\n",
    "\n",
    "from pinecone import Pinecone, ServerlessSpec"
   ]
  },
  {
   "cell_type": "code",
   "execution_count": 2,
   "metadata": {},
   "outputs": [],
   "source": [
    "load_dotenv()\n",
    "\n",
    "# Pinecone Setup\n",
    "\n",
    "PINECONE_API_KEY = os.getenv(\"PINECONE_API_KEY\")\n",
    "if PINECONE_API_KEY is None:\n",
    "    raise ValueError(\"Please set the PINECONE_API_KEY environment variable\")\n",
    "\n",
    "pc = Pinecone(api_key=PINECONE_API_KEY)"
   ]
  },
  {
   "cell_type": "code",
   "execution_count": 3,
   "metadata": {},
   "outputs": [
    {
     "name": "stdout",
     "output_type": "stream",
     "text": [
      "Creating index professors-index\n"
     ]
    }
   ],
   "source": [
    "# Index Creation\n",
    "import time\n",
    "\n",
    "cloud = os.environ.get('PINECONE_CLOUD') or 'aws'\n",
    "region = os.environ.get('PINECONE_REGION') or 'us-east-1'\n",
    "spec = ServerlessSpec(cloud=cloud, region=region)\n",
    "\n",
    "index_name = \"professors-index\"\n",
    "\n",
    "# Delete the index if it already exists\n",
    "if index_name in pc.list_indexes().names():\n",
    "    pc.delete_index(index_name)\n",
    "    \n",
    "print(f\"Creating index {index_name}\")\n",
    "\n",
    "# we create a new index\n",
    "pc.create_index(\n",
    "    index_name,\n",
    "    dimension=1536,  # dimensionality of text-embedding-3-small\n",
    "    metric='cosine',\n",
    "    spec=spec\n",
    ")\n",
    "\n",
    "while not pc.describe_index(index_name).status['ready']:\n",
    "    time.sleep(1)\n",
    "\n",
    "index = pc.Index(index_name)"
   ]
  },
  {
   "cell_type": "code",
   "execution_count": 4,
   "metadata": {},
   "outputs": [
    {
     "data": {
      "text/plain": [
       "{'dimension': 1536,\n",
       " 'index_fullness': 0.0,\n",
       " 'namespaces': {},\n",
       " 'total_vector_count': 0}"
      ]
     },
     "execution_count": 4,
     "metadata": {},
     "output_type": "execute_result"
    }
   ],
   "source": [
    "index.describe_index_stats()"
   ]
  },
  {
   "cell_type": "code",
   "execution_count": 5,
   "metadata": {},
   "outputs": [],
   "source": [
    "from langchain_openai import OpenAIEmbeddings\n",
    "from langchain_pinecone import PineconeVectorStore\n",
    "\n",
    "embeddings = OpenAIEmbeddings(model=\"text-embedding-3-small\")\n",
    "vector_store = PineconeVectorStore(index=index, embedding=embeddings)"
   ]
  },
  {
   "cell_type": "code",
   "execution_count": 6,
   "metadata": {},
   "outputs": [],
   "source": [
    "import json\n",
    "from pathlib import Path\n",
    "from pprint import pprint\n",
    "\n",
    "data_path = \"./data/sample.json\"\n",
    "data = json.loads(Path(data_path).read_text())\n",
    "# pprint(data)"
   ]
  },
  {
   "cell_type": "code",
   "execution_count": 7,
   "metadata": {},
   "outputs": [],
   "source": [
    "from langchain.text_splitter import RecursiveJsonSplitter\n",
    "\n",
    "splitter = RecursiveJsonSplitter(max_chunk_size=300)\n",
    "docs = splitter.create_documents(texts=[data], convert_lists = True)"
   ]
  },
  {
   "cell_type": "code",
   "execution_count": 8,
   "metadata": {},
   "outputs": [
    {
     "data": {
      "text/plain": [
       "['c66683fb-3ce6-4ef6-8138-6e67d34caaaf',\n",
       " 'c7e82d66-c636-4e58-870a-62aefb1e43c0',\n",
       " '48dcd0d9-0fda-4f62-b403-5f84f5b64d76',\n",
       " '94980dd8-90a9-4ba8-8c6b-bfa1c3712fd9',\n",
       " 'ed699394-6c36-47fa-8239-39ee837b3e7f',\n",
       " '512cc0b3-0927-4104-871a-ec9488649fd5',\n",
       " '1ce677a6-e988-4421-aef9-83f928461b81',\n",
       " '505eeaa0-0460-40a1-9d5f-23081dd4e169',\n",
       " '7b692edc-034d-49b9-b898-8b70be6d44be',\n",
       " '5559fb55-835b-4b6e-8c76-2277c82e1168']"
      ]
     },
     "execution_count": 8,
     "metadata": {},
     "output_type": "execute_result"
    }
   ],
   "source": [
    "from uuid import uuid4\n",
    "\n",
    "uuids = [str(uuid4()) for _ in range(len(docs))]\n",
    "vector_store.add_documents(documents=docs, ids=uuids)"
   ]
  },
  {
   "cell_type": "code",
   "execution_count": 9,
   "metadata": {},
   "outputs": [
    {
     "name": "stdout",
     "output_type": "stream",
     "text": [
      "* {\"0\": {\"professor_name\": \"Dr. Jane Smith\", \"course\": \"Intro to Biology\", \"overall_rating\": 4.5, \"clarity\": 4.7, \"helpfulness\": 4.6, \"easiness\": 3.8, \"comment\": \"Very knowledgeable and explains concepts clearly.\"}} [{}]\n",
      "* {\"9\": {\"professor_name\": \"Dr. David Lee\", \"course\": \"Environmental Sci\", \"overall_rating\": 3.7, \"clarity\": 3.6, \"helpfulness\": 3.8, \"easiness\": 3.4, \"comment\": \"Lectures can be dry, but he's knowledgeable.\"}} [{}]\n"
     ]
    }
   ],
   "source": [
    "results = vector_store.similarity_search(\n",
    "    \"Biology Professor\",\n",
    "    k=2,\n",
    ")\n",
    "for res in results:\n",
    "    print(f\"* {res.page_content} [{res.metadata}]\")"
   ]
  },
  {
   "cell_type": "code",
   "execution_count": null,
   "metadata": {},
   "outputs": [],
   "source": []
  }
 ],
 "metadata": {
  "kernelspec": {
   "display_name": "ai_rate_my_professor-LZCXyomm-py3.11",
   "language": "python",
   "name": "python3"
  },
  "language_info": {
   "codemirror_mode": {
    "name": "ipython",
    "version": 3
   },
   "file_extension": ".py",
   "mimetype": "text/x-python",
   "name": "python",
   "nbconvert_exporter": "python",
   "pygments_lexer": "ipython3",
   "version": "3.11.5"
  }
 },
 "nbformat": 4,
 "nbformat_minor": 2
}
