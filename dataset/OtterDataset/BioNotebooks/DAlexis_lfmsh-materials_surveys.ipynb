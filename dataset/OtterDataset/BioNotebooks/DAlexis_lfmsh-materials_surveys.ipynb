{
 "cells": [
  {
   "cell_type": "markdown",
   "id": "402134ad",
   "metadata": {},
   "source": [
    "Загрузка данных из csv, их предобработка и запуск классификаторов\n",
    "=======\n",
    "\n",
    "# Введение\n",
    "\n",
    "В этом примере мы буде работать с датасетом, собранным по результатам опроса молодых людей, изучающих статистику на Фукультете социальных и экономических наук Коменского университета Братиславы. Датасет содержит ответы на вопросы, которые можно разделить на следующие категории:\n",
    "\n",
    "- Предпочтения в музыке (19 пунктов)\n",
    "- Предпочтения в жанрах кино (12 пунктов)\n",
    "- Хобби и интересы (32 пунктов)\n",
    "- Фобии и страхи (10 пунктов)\n",
    "- Привычки к здоровому и нездоровому образу жизни (3 пунктов)\n",
    "- Личные качества, взгляды на жизнь (57 пунктов)\n",
    "- Основные денежные траты (7 пунктов)\n",
    "- Демографические данные (10 пунктов)\n",
    "\n",
    "Сперва мы загрузим датасет, заменим некоторые строковые признаки на числовые для более удобной работы. Затем, выберем набор признаков, с которым будем работать. Не обязательно использовать все данные. В качестве пробной задачи постараемся научиться предсказывать пол респондента по его предпочтениям, мнениям и фобиям, не используя такие прямые физиологические данные, как вес и рост.\n",
    "\n",
    "Датасет хранится в файле `responses.csv`. Любой анализ данных начинается с понимания того, с чем предстоит работать. Чтобы ознакомиться с датасетом, его можно открыть в табличном процессоре Libre Office Calc (или, на худой конец, в MS Excel).\n",
    "\n",
    "Большинство столбцов содержат отношение респондента к тому или иному явлению по шкале от 1 до 5. Например, графа `Chemistry` означает степень инетереса участника опроса химией, где 1 - совсем не интересно, 5 - увлекаюсь этой наукой. Некоторые содержат категориальные данные, некоторые из них - упорядочены (например, частота употребления алкоголя в графе `Alcohol`).\n",
    "\n",
    "Мы обычим бинарный классификатор предсказывать пол респондента (`Gender`) по его предпочтениям в музыке и кино, а также фобиям, используя разные алгоритмы классификации.\n",
    "\n",
    "# Загрузка данных\n",
    "Начнём с загрузки данных. Нам понадобится библиотека `pandas`, в которой есть класс `DataFrame`, который умеет хранить таблицу и работать с ними. Это своего рода аналог табличного процессора Calc или Excel, с которым можно работать из кода на Python. Также, нам понадобится библиотека `numpy`. Она используется для быстрой и эффективной работы с многомерными массивами чисел, векторами и матрицами. Модуль `numpy` является стандартом для решения таких задач на Python.\n"
   ]
  },
  {
   "cell_type": "code",
   "execution_count": 36,
   "id": "adc425c8",
   "metadata": {},
   "outputs": [],
   "source": [
    "import pandas as pd\n",
    "import numpy as np"
   ]
  },
  {
   "cell_type": "markdown",
   "id": "a9c94fff",
   "metadata": {},
   "source": [
    "Теперь, загрузим датасет и проверим, что всё загрузилось правильно:"
   ]
  },
  {
   "cell_type": "code",
   "execution_count": 37,
   "id": "517d865d",
   "metadata": {},
   "outputs": [
    {
     "data": {
      "text/html": [
       "<div>\n",
       "<style scoped>\n",
       "    .dataframe tbody tr th:only-of-type {\n",
       "        vertical-align: middle;\n",
       "    }\n",
       "\n",
       "    .dataframe tbody tr th {\n",
       "        vertical-align: top;\n",
       "    }\n",
       "\n",
       "    .dataframe thead th {\n",
       "        text-align: right;\n",
       "    }\n",
       "</style>\n",
       "<table border=\"1\" class=\"dataframe\">\n",
       "  <thead>\n",
       "    <tr style=\"text-align: right;\">\n",
       "      <th></th>\n",
       "      <th>Music</th>\n",
       "      <th>Slow songs or fast songs</th>\n",
       "      <th>Dance</th>\n",
       "      <th>Folk</th>\n",
       "      <th>Country</th>\n",
       "      <th>Classical music</th>\n",
       "      <th>Musical</th>\n",
       "      <th>Pop</th>\n",
       "      <th>Rock</th>\n",
       "      <th>Metal or Hardrock</th>\n",
       "      <th>...</th>\n",
       "      <th>Age</th>\n",
       "      <th>Height</th>\n",
       "      <th>Weight</th>\n",
       "      <th>Number of siblings</th>\n",
       "      <th>Gender</th>\n",
       "      <th>Left - right handed</th>\n",
       "      <th>Education</th>\n",
       "      <th>Only child</th>\n",
       "      <th>Village - town</th>\n",
       "      <th>House - block of flats</th>\n",
       "    </tr>\n",
       "  </thead>\n",
       "  <tbody>\n",
       "    <tr>\n",
       "      <th>0</th>\n",
       "      <td>5.0</td>\n",
       "      <td>3.0</td>\n",
       "      <td>2.0</td>\n",
       "      <td>1.0</td>\n",
       "      <td>2.0</td>\n",
       "      <td>2.0</td>\n",
       "      <td>1.0</td>\n",
       "      <td>5.0</td>\n",
       "      <td>5.0</td>\n",
       "      <td>1.0</td>\n",
       "      <td>...</td>\n",
       "      <td>20.0</td>\n",
       "      <td>163.0</td>\n",
       "      <td>48.0</td>\n",
       "      <td>1.0</td>\n",
       "      <td>female</td>\n",
       "      <td>right handed</td>\n",
       "      <td>college/bachelor degree</td>\n",
       "      <td>no</td>\n",
       "      <td>village</td>\n",
       "      <td>block of flats</td>\n",
       "    </tr>\n",
       "    <tr>\n",
       "      <th>1</th>\n",
       "      <td>4.0</td>\n",
       "      <td>4.0</td>\n",
       "      <td>2.0</td>\n",
       "      <td>1.0</td>\n",
       "      <td>1.0</td>\n",
       "      <td>1.0</td>\n",
       "      <td>2.0</td>\n",
       "      <td>3.0</td>\n",
       "      <td>5.0</td>\n",
       "      <td>4.0</td>\n",
       "      <td>...</td>\n",
       "      <td>19.0</td>\n",
       "      <td>163.0</td>\n",
       "      <td>58.0</td>\n",
       "      <td>2.0</td>\n",
       "      <td>female</td>\n",
       "      <td>right handed</td>\n",
       "      <td>college/bachelor degree</td>\n",
       "      <td>no</td>\n",
       "      <td>city</td>\n",
       "      <td>block of flats</td>\n",
       "    </tr>\n",
       "    <tr>\n",
       "      <th>2</th>\n",
       "      <td>5.0</td>\n",
       "      <td>5.0</td>\n",
       "      <td>2.0</td>\n",
       "      <td>2.0</td>\n",
       "      <td>3.0</td>\n",
       "      <td>4.0</td>\n",
       "      <td>5.0</td>\n",
       "      <td>3.0</td>\n",
       "      <td>5.0</td>\n",
       "      <td>3.0</td>\n",
       "      <td>...</td>\n",
       "      <td>20.0</td>\n",
       "      <td>176.0</td>\n",
       "      <td>67.0</td>\n",
       "      <td>2.0</td>\n",
       "      <td>female</td>\n",
       "      <td>right handed</td>\n",
       "      <td>secondary school</td>\n",
       "      <td>no</td>\n",
       "      <td>city</td>\n",
       "      <td>block of flats</td>\n",
       "    </tr>\n",
       "    <tr>\n",
       "      <th>3</th>\n",
       "      <td>5.0</td>\n",
       "      <td>3.0</td>\n",
       "      <td>2.0</td>\n",
       "      <td>1.0</td>\n",
       "      <td>1.0</td>\n",
       "      <td>1.0</td>\n",
       "      <td>1.0</td>\n",
       "      <td>2.0</td>\n",
       "      <td>2.0</td>\n",
       "      <td>1.0</td>\n",
       "      <td>...</td>\n",
       "      <td>22.0</td>\n",
       "      <td>172.0</td>\n",
       "      <td>59.0</td>\n",
       "      <td>1.0</td>\n",
       "      <td>female</td>\n",
       "      <td>right handed</td>\n",
       "      <td>college/bachelor degree</td>\n",
       "      <td>yes</td>\n",
       "      <td>city</td>\n",
       "      <td>house/bungalow</td>\n",
       "    </tr>\n",
       "    <tr>\n",
       "      <th>4</th>\n",
       "      <td>5.0</td>\n",
       "      <td>3.0</td>\n",
       "      <td>4.0</td>\n",
       "      <td>3.0</td>\n",
       "      <td>2.0</td>\n",
       "      <td>4.0</td>\n",
       "      <td>3.0</td>\n",
       "      <td>5.0</td>\n",
       "      <td>3.0</td>\n",
       "      <td>1.0</td>\n",
       "      <td>...</td>\n",
       "      <td>20.0</td>\n",
       "      <td>170.0</td>\n",
       "      <td>59.0</td>\n",
       "      <td>1.0</td>\n",
       "      <td>female</td>\n",
       "      <td>right handed</td>\n",
       "      <td>secondary school</td>\n",
       "      <td>no</td>\n",
       "      <td>village</td>\n",
       "      <td>house/bungalow</td>\n",
       "    </tr>\n",
       "    <tr>\n",
       "      <th>...</th>\n",
       "      <td>...</td>\n",
       "      <td>...</td>\n",
       "      <td>...</td>\n",
       "      <td>...</td>\n",
       "      <td>...</td>\n",
       "      <td>...</td>\n",
       "      <td>...</td>\n",
       "      <td>...</td>\n",
       "      <td>...</td>\n",
       "      <td>...</td>\n",
       "      <td>...</td>\n",
       "      <td>...</td>\n",
       "      <td>...</td>\n",
       "      <td>...</td>\n",
       "      <td>...</td>\n",
       "      <td>...</td>\n",
       "      <td>...</td>\n",
       "      <td>...</td>\n",
       "      <td>...</td>\n",
       "      <td>...</td>\n",
       "      <td>...</td>\n",
       "    </tr>\n",
       "    <tr>\n",
       "      <th>1005</th>\n",
       "      <td>5.0</td>\n",
       "      <td>2.0</td>\n",
       "      <td>5.0</td>\n",
       "      <td>2.0</td>\n",
       "      <td>2.0</td>\n",
       "      <td>5.0</td>\n",
       "      <td>4.0</td>\n",
       "      <td>4.0</td>\n",
       "      <td>4.0</td>\n",
       "      <td>3.0</td>\n",
       "      <td>...</td>\n",
       "      <td>20.0</td>\n",
       "      <td>164.0</td>\n",
       "      <td>57.0</td>\n",
       "      <td>1.0</td>\n",
       "      <td>female</td>\n",
       "      <td>right handed</td>\n",
       "      <td>secondary school</td>\n",
       "      <td>no</td>\n",
       "      <td>city</td>\n",
       "      <td>house/bungalow</td>\n",
       "    </tr>\n",
       "    <tr>\n",
       "      <th>1006</th>\n",
       "      <td>4.0</td>\n",
       "      <td>4.0</td>\n",
       "      <td>5.0</td>\n",
       "      <td>1.0</td>\n",
       "      <td>3.0</td>\n",
       "      <td>4.0</td>\n",
       "      <td>1.0</td>\n",
       "      <td>4.0</td>\n",
       "      <td>1.0</td>\n",
       "      <td>1.0</td>\n",
       "      <td>...</td>\n",
       "      <td>27.0</td>\n",
       "      <td>183.0</td>\n",
       "      <td>80.0</td>\n",
       "      <td>5.0</td>\n",
       "      <td>male</td>\n",
       "      <td>left handed</td>\n",
       "      <td>masters degree</td>\n",
       "      <td>no</td>\n",
       "      <td>village</td>\n",
       "      <td>house/bungalow</td>\n",
       "    </tr>\n",
       "    <tr>\n",
       "      <th>1007</th>\n",
       "      <td>4.0</td>\n",
       "      <td>3.0</td>\n",
       "      <td>1.0</td>\n",
       "      <td>1.0</td>\n",
       "      <td>2.0</td>\n",
       "      <td>2.0</td>\n",
       "      <td>2.0</td>\n",
       "      <td>3.0</td>\n",
       "      <td>4.0</td>\n",
       "      <td>1.0</td>\n",
       "      <td>...</td>\n",
       "      <td>18.0</td>\n",
       "      <td>173.0</td>\n",
       "      <td>75.0</td>\n",
       "      <td>0.0</td>\n",
       "      <td>female</td>\n",
       "      <td>right handed</td>\n",
       "      <td>secondary school</td>\n",
       "      <td>yes</td>\n",
       "      <td>city</td>\n",
       "      <td>block of flats</td>\n",
       "    </tr>\n",
       "    <tr>\n",
       "      <th>1008</th>\n",
       "      <td>5.0</td>\n",
       "      <td>3.0</td>\n",
       "      <td>3.0</td>\n",
       "      <td>3.0</td>\n",
       "      <td>1.0</td>\n",
       "      <td>3.0</td>\n",
       "      <td>1.0</td>\n",
       "      <td>3.0</td>\n",
       "      <td>4.0</td>\n",
       "      <td>1.0</td>\n",
       "      <td>...</td>\n",
       "      <td>25.0</td>\n",
       "      <td>173.0</td>\n",
       "      <td>58.0</td>\n",
       "      <td>1.0</td>\n",
       "      <td>female</td>\n",
       "      <td>right handed</td>\n",
       "      <td>college/bachelor degree</td>\n",
       "      <td>no</td>\n",
       "      <td>city</td>\n",
       "      <td>block of flats</td>\n",
       "    </tr>\n",
       "    <tr>\n",
       "      <th>1009</th>\n",
       "      <td>5.0</td>\n",
       "      <td>5.0</td>\n",
       "      <td>4.0</td>\n",
       "      <td>3.0</td>\n",
       "      <td>2.0</td>\n",
       "      <td>3.0</td>\n",
       "      <td>3.0</td>\n",
       "      <td>4.0</td>\n",
       "      <td>1.0</td>\n",
       "      <td>1.0</td>\n",
       "      <td>...</td>\n",
       "      <td>21.0</td>\n",
       "      <td>185.0</td>\n",
       "      <td>72.0</td>\n",
       "      <td>1.0</td>\n",
       "      <td>male</td>\n",
       "      <td>right handed</td>\n",
       "      <td>secondary school</td>\n",
       "      <td>no</td>\n",
       "      <td>village</td>\n",
       "      <td>house/bungalow</td>\n",
       "    </tr>\n",
       "  </tbody>\n",
       "</table>\n",
       "<p>1010 rows × 150 columns</p>\n",
       "</div>"
      ],
      "text/plain": [
       "      Music  Slow songs or fast songs  Dance  Folk  Country  Classical music  \\\n",
       "0       5.0                       3.0    2.0   1.0      2.0              2.0   \n",
       "1       4.0                       4.0    2.0   1.0      1.0              1.0   \n",
       "2       5.0                       5.0    2.0   2.0      3.0              4.0   \n",
       "3       5.0                       3.0    2.0   1.0      1.0              1.0   \n",
       "4       5.0                       3.0    4.0   3.0      2.0              4.0   \n",
       "...     ...                       ...    ...   ...      ...              ...   \n",
       "1005    5.0                       2.0    5.0   2.0      2.0              5.0   \n",
       "1006    4.0                       4.0    5.0   1.0      3.0              4.0   \n",
       "1007    4.0                       3.0    1.0   1.0      2.0              2.0   \n",
       "1008    5.0                       3.0    3.0   3.0      1.0              3.0   \n",
       "1009    5.0                       5.0    4.0   3.0      2.0              3.0   \n",
       "\n",
       "      Musical  Pop  Rock  Metal or Hardrock  ...   Age  Height  Weight  \\\n",
       "0         1.0  5.0   5.0                1.0  ...  20.0   163.0    48.0   \n",
       "1         2.0  3.0   5.0                4.0  ...  19.0   163.0    58.0   \n",
       "2         5.0  3.0   5.0                3.0  ...  20.0   176.0    67.0   \n",
       "3         1.0  2.0   2.0                1.0  ...  22.0   172.0    59.0   \n",
       "4         3.0  5.0   3.0                1.0  ...  20.0   170.0    59.0   \n",
       "...       ...  ...   ...                ...  ...   ...     ...     ...   \n",
       "1005      4.0  4.0   4.0                3.0  ...  20.0   164.0    57.0   \n",
       "1006      1.0  4.0   1.0                1.0  ...  27.0   183.0    80.0   \n",
       "1007      2.0  3.0   4.0                1.0  ...  18.0   173.0    75.0   \n",
       "1008      1.0  3.0   4.0                1.0  ...  25.0   173.0    58.0   \n",
       "1009      3.0  4.0   1.0                1.0  ...  21.0   185.0    72.0   \n",
       "\n",
       "      Number of siblings  Gender  Left - right handed  \\\n",
       "0                    1.0  female         right handed   \n",
       "1                    2.0  female         right handed   \n",
       "2                    2.0  female         right handed   \n",
       "3                    1.0  female         right handed   \n",
       "4                    1.0  female         right handed   \n",
       "...                  ...     ...                  ...   \n",
       "1005                 1.0  female         right handed   \n",
       "1006                 5.0    male          left handed   \n",
       "1007                 0.0  female         right handed   \n",
       "1008                 1.0  female         right handed   \n",
       "1009                 1.0    male         right handed   \n",
       "\n",
       "                    Education  Only child  Village - town  \\\n",
       "0     college/bachelor degree          no         village   \n",
       "1     college/bachelor degree          no            city   \n",
       "2            secondary school          no            city   \n",
       "3     college/bachelor degree         yes            city   \n",
       "4            secondary school          no         village   \n",
       "...                       ...         ...             ...   \n",
       "1005         secondary school          no            city   \n",
       "1006           masters degree          no         village   \n",
       "1007         secondary school         yes            city   \n",
       "1008  college/bachelor degree          no            city   \n",
       "1009         secondary school          no         village   \n",
       "\n",
       "      House - block of flats  \n",
       "0             block of flats  \n",
       "1             block of flats  \n",
       "2             block of flats  \n",
       "3             house/bungalow  \n",
       "4             house/bungalow  \n",
       "...                      ...  \n",
       "1005          house/bungalow  \n",
       "1006          house/bungalow  \n",
       "1007          block of flats  \n",
       "1008          block of flats  \n",
       "1009          house/bungalow  \n",
       "\n",
       "[1010 rows x 150 columns]"
      ]
     },
     "execution_count": 37,
     "metadata": {},
     "output_type": "execute_result"
    }
   ],
   "source": [
    "data_frame = pd.read_csv(\"responses.csv\")\n",
    "data_frame"
   ]
  },
  {
   "cell_type": "markdown",
   "id": "dd3c67fb",
   "metadata": {},
   "source": [
    "Теперь, можно немного попрактиковаться в работе с `pandas`. Например, посмотрим, какие значения в принципе может содержать столбец `Alcohol`. Для этого обратимся к столбцу при помощи `data_frame[\"Alcohol\"]`:"
   ]
  },
  {
   "cell_type": "code",
   "execution_count": 38,
   "id": "99bdb7e9",
   "metadata": {},
   "outputs": [
    {
     "name": "stdout",
     "output_type": "stream",
     "text": [
      "['drink a lot' 'social drinker' 'never' nan]\n"
     ]
    }
   ],
   "source": [
    "print(data_frame[\"Alcohol\"].unique())"
   ]
  },
  {
   "cell_type": "markdown",
   "id": "7a13e908",
   "metadata": {},
   "source": [
    "Обратите внимание на поле `nan`. Вообще говоря, это расшифровывается, как \"not a number\", но в данном случае имеет более широкий смысл, и означает, что значение не предоставлено. То есть для некоторых строк таблицы в столбце `Alcohol` пусто.\n",
    "\n",
    "Теперь, заготовим списки столбцов, которые будут нас интересовать в дальнейшем. Это пригодится нам, чтобы отделить только нужные признаки от общей массы:"
   ]
  },
  {
   "cell_type": "code",
   "execution_count": 39,
   "id": "aea34e4e",
   "metadata": {},
   "outputs": [],
   "source": [
    "personal = [\"Age\",\"Height\",\"Weight\",\"Number of siblings\"]\n",
    "music_preferences = [\"Pop\",\"Rock\",\"Metal or Hardrock\",\"Punk\",\"Hiphop, Rap\",\"Reggae, Ska\",\"Swing, Jazz\",\"Rock n roll\",\"Alternative\",\"Latino\",\"Techno, Trance\",\"Opera\"]\n",
    "cinema_preferences = [\"Movies\",\"Horror\",\"Thriller\",\"Comedy\",\"Romantic\",\"Sci-fi\",\"War\",\"Fantasy/Fairy tales\",\"Animated\",\"Documentary\",\"Western\",\"Action\"]\n",
    "spending = [\"Spending on looks\",\"Spending on gadgets\",\"Spending on healthy eating\"]\n",
    "phobias = [\"Flying\",\"Storm\",\"Darkness\",\"Heights\",\"Spiders\",\"Snakes\",\"Rats\",\"Ageing\",\"Dangerous dogs\",\"Fear of public speaking\"]\n",
    "interests = [\"History\",\"Psychology\",\"Politics\",\"Mathematics\",\"Physics\",\"Internet\",\"PC\",\"Economy Management\",\"Biology\",\"Chemistry\",\"Reading\",\"Geography\",\"Foreign languages\",\"Medicine\",\"Law\"]\n"
   ]
  },
  {
   "cell_type": "markdown",
   "id": "bddd7d6c",
   "metadata": {},
   "source": [
    "Соберём интересущие нас признаки в один большой список. Обратите внимание, в Python операция `+` объединяет списки. Ещё, выберем целевой признак, тот, который мы будем предсказывать:"
   ]
  },
  {
   "cell_type": "code",
   "execution_count": 40,
   "id": "a3ee90c9",
   "metadata": {},
   "outputs": [],
   "source": [
    "feature_columns = cinema_preferences + music_preferences + phobias\n",
    "target_feature = \"Gender\""
   ]
  },
  {
   "cell_type": "markdown",
   "id": "8c007e33",
   "metadata": {},
   "source": [
    "Выберем интересующие нас признаки из датасета, включая тот, который мы хотим предсказать. Попутно удалим строки, содержащие хотя бы один `nan`.\n"
   ]
  },
  {
   "cell_type": "code",
   "execution_count": 41,
   "id": "248c165d",
   "metadata": {},
   "outputs": [],
   "source": [
    "partial_data = data_frame[feature_columns + [target_feature]].dropna()\n",
    "lines_count = len(partial_data)"
   ]
  },
  {
   "cell_type": "markdown",
   "id": "eb6a71dd",
   "metadata": {},
   "source": [
    "На всякий случай, выполним рандомизацию датасета. Для этого существует функция `sample`. Чтобы была воспроизводимость результатов, зададим параметр `random_state=1234` - инициализация генератора случайных чисел каким-то фиксированным значением"
   ]
  },
  {
   "cell_type": "code",
   "execution_count": 42,
   "id": "c0a4c47c",
   "metadata": {},
   "outputs": [],
   "source": [
    "partial_data = partial_data.sample(frac=1.0, random_state=1234)"
   ]
  },
  {
   "cell_type": "markdown",
   "id": "dcc22d18",
   "metadata": {},
   "source": [
    "Теперь, преобразуем `partial_data` в матрицу признаков и вектор разметки:"
   ]
  },
  {
   "cell_type": "code",
   "execution_count": 43,
   "id": "aaf8b95c",
   "metadata": {},
   "outputs": [],
   "source": [
    "X = np.array(partial_data[feature_columns].values)\n",
    "y = np.array(partial_data[target_feature].values)"
   ]
  },
  {
   "cell_type": "markdown",
   "id": "4f45807c",
   "metadata": {},
   "source": [
    "Теперт X и y имеют тип `numpy.array`. Разделим весь датасет на обучающую и валидационную выборки:"
   ]
  },
  {
   "cell_type": "code",
   "execution_count": 44,
   "id": "61e12e69",
   "metadata": {},
   "outputs": [],
   "source": [
    "train_part = 0.8\n",
    "train_lines = int(lines_count * train_part)\n",
    "\n",
    "X_train = X[:train_lines, :]\n",
    "y_train = y[:train_lines]\n",
    "\n",
    "X_val = X[train_lines:, :]\n",
    "y_val = y[train_lines:]"
   ]
  },
  {
   "cell_type": "markdown",
   "id": "5008e0d3",
   "metadata": {},
   "source": [
    "Обратите внимание на выражение с двоеточиями. Запись `X[from:to]` означает, что из массива `X` нужно взять элементы начиная с номера `from` и заканчивая номером `to-1`. Если на месте `from` ничего не указано: `X[:to]`, то берутся элементы, начиная с нулевого и заканчивая `to-1`. Аналогично, запись`X[from:]` означает \"взять все элементы, начиная с `from` и до конца массива.\n",
    "\n",
    "# Обучение классификатора\n",
    "\n",
    "Теперь всё готово для обучения и запуска модели. Для экспериментов, импортируем из пакета `sklearn` несколько бинарных классификаторов, а также функции для подсчёта метрик:"
   ]
  },
  {
   "cell_type": "code",
   "execution_count": 45,
   "id": "25a6ec9a",
   "metadata": {},
   "outputs": [],
   "source": [
    "from sklearn.tree import DecisionTreeClassifier\n",
    "from sklearn.linear_model import LogisticRegression\n",
    "from sklearn.svm import SVC\n",
    "from sklearn.ensemble import RandomForestClassifier\n",
    "from sklearn.neighbors import KNeighborsClassifier\n",
    "from sklearn.preprocessing import scale\n",
    "from sklearn.metrics import classification_report\n",
    "from sklearn.metrics import confusion_matrix"
   ]
  },
  {
   "cell_type": "markdown",
   "id": "d809d5a4",
   "metadata": {},
   "source": [
    "Создадим объект-классификатор. Поэкспериментируйте с разными классификаторами:"
   ]
  },
  {
   "cell_type": "code",
   "execution_count": 46,
   "id": "199f5425",
   "metadata": {},
   "outputs": [],
   "source": [
    "# Решающее дерево\n",
    "# clf = DecisionTreeClassifier()\n",
    "\n",
    "# Метод k ближайших сосоедей\n",
    "# clf = KNeighborsClassifier(n_neighbors=10)\n",
    "\n",
    "# Случайный лес\n",
    "# clf = RandomForestClassifier()\n",
    "\n",
    "# Метод опорных векторов\n",
    "# clf = SVC()\n",
    "\n",
    "# Логистическая регрессия\n",
    "clf = LogisticRegression()"
   ]
  },
  {
   "cell_type": "markdown",
   "id": "3f8fd30b",
   "metadata": {},
   "source": [
    "Запустим обучение классификатора на выборке `X_train` и `y_train`. Оно вызывается одинаково для всех представленных выше алгоритмов. Стоит заметить, что классификаторы их библиотеки `sklearn` могут работать не только с классами в виде чисел 1 и 0, им подходят в том числе строковые называния классов. Внутри, эти классификаторы сами сделают всю нужную работу, и сопоставят строкам числа."
   ]
  },
  {
   "cell_type": "code",
   "execution_count": 47,
   "id": "f0c3a099",
   "metadata": {},
   "outputs": [
    {
     "data": {
      "text/plain": [
       "LogisticRegression()"
      ]
     },
     "execution_count": 47,
     "metadata": {},
     "output_type": "execute_result"
    }
   ],
   "source": [
    "clf.fit(X_train, y_train)"
   ]
  },
  {
   "cell_type": "markdown",
   "id": "040be102",
   "metadata": {},
   "source": [
    "Теперь, необходимо выполнить валидацию. Запустим предсказание на валидационной выборке `X_val`:"
   ]
  },
  {
   "cell_type": "code",
   "execution_count": 48,
   "id": "c10af8ab",
   "metadata": {},
   "outputs": [],
   "source": [
    "y_predict = clf.predict(X_val)"
   ]
  },
  {
   "cell_type": "markdown",
   "id": "1e5d4fb7",
   "metadata": {},
   "source": [
    "Теперь, у нас есть наборы истинных и предсказанных классов для валидационной выборки `y_val` и `y_predict`. Мы можем использовать их для вычисления метрик, таких, как precision, recall и accuracy. Для этого можно использовать готовую функцию `classification_report`:"
   ]
  },
  {
   "cell_type": "code",
   "execution_count": 49,
   "id": "b954d9d1",
   "metadata": {},
   "outputs": [
    {
     "name": "stdout",
     "output_type": "stream",
     "text": [
      "              precision    recall  f1-score   support\n",
      "\n",
      "      female       0.87      0.84      0.85       101\n",
      "        male       0.81      0.84      0.83        82\n",
      "\n",
      "    accuracy                           0.84       183\n",
      "   macro avg       0.84      0.84      0.84       183\n",
      "weighted avg       0.84      0.84      0.84       183\n",
      "\n"
     ]
    }
   ],
   "source": [
    "print(classification_report(y_val, y_predict))"
   ]
  },
  {
   "cell_type": "markdown",
   "id": "723a2fae",
   "metadata": {},
   "source": [
    "По данным метрикам можно сделать выводы о работе классификатора. Чтобы непосредственно посмотреть количество верных ошибочных предсказаний, можно использовать функцию `confusion_matrix`. Она выдаёт матрицу, в которой строки соответствуют реальным классам, столбцы - предсказанным, а значения в соответствующих строках и столбцах, соответственно, количеству случаев:"
   ]
  },
  {
   "cell_type": "code",
   "execution_count": 50,
   "id": "4549443d",
   "metadata": {},
   "outputs": [
    {
     "name": "stdout",
     "output_type": "stream",
     "text": [
      "[[85 16]\n",
      " [13 69]]\n"
     ]
    }
   ],
   "source": [
    "print(confusion_matrix(y_val, y_predict))"
   ]
  },
  {
   "cell_type": "markdown",
   "id": "26784af6",
   "metadata": {},
   "source": [
    "Чем больше диагональные элементы по сравнению с недиагональными, тем лучше работает классификатор. В данном случае из всех `female` корректно были предсказаны 85, а 16 классифицированы, как `male`. Из всех `male` 69 определены корректно, а 13 определены, как `female`.\n",
    "\n",
    "# Задание\n",
    "\n",
    "1. Используя предоставленные примеры кода, определите, какой тип классификатора наиболее хорошо справляется с задачей классификации мужчин и женщин по результатам опроса. Для метода k ближайших соседей определите оптимальное количество ближайших соседей.\n",
    "2. Для наилучшего классификатора экспериментально определите, какие категории признаков наиболее полезны при классификации: `personal`, `music_preferences`, `cinema_preferences`, `spending`, `phobias`, `interests`."
   ]
  }
 ],
 "metadata": {
  "kernelspec": {
   "display_name": "Python 3 (ipykernel)",
   "language": "python",
   "name": "python3"
  },
  "language_info": {
   "codemirror_mode": {
    "name": "ipython",
    "version": 3
   },
   "file_extension": ".py",
   "mimetype": "text/x-python",
   "name": "python",
   "nbconvert_exporter": "python",
   "pygments_lexer": "ipython3",
   "version": "3.10.4"
  }
 },
 "nbformat": 4,
 "nbformat_minor": 5
}
