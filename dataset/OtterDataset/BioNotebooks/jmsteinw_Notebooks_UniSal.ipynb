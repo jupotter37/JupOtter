{
 "cells": [
  {
   "cell_type": "markdown",
   "metadata": {},
   "source": [
    "# Exploring and Predicting University Faculty Salaries"
   ]
  },
  {
   "cell_type": "markdown",
   "metadata": {},
   "source": [
    "<img src='Penn_State.jpg' width = 800, height = 600>\n",
    "[Source](http://de.wikipedia.org/wiki/Pennsylvania_State_University)\n",
    "\n",
    "Although data about faculty salaries at private universities can be difficult to find, getting data regarding faculty salaries at public universities is much easier. I've always been curious (even though I don't want to go into academia myself!) which fields pay the best and why and if there is a way to predict your salary if you are going to be a professor at a certain university. \n",
    "\n",
    "So, I decided to make this a project I would explore and use two of the very best data science tools to do it: Python and R! Thanks to the rpy2 library and IPython's R magic, I can now include R code inside the notebook instead of having to switch between knitr and here. The first half will be about cleaning and EDA (exploratory data analysis): a key first step of any data science project dealing with structured data especially. The second half will be about machine learning and applying a model for regression. \n",
    "\n",
    "While Python is making improvements in [visualization](http://stanford.edu/~mwaskom/software/seaborn/), I still prefer R for this part. Combining the great tools of the [plyr library](http://plyr.had.co.nz/) for splitting the data into pieces with the beautiful visualization of the [ggplot2 library](http://docs.ggplot2.org/current/) makes this look much better than Python's current offerings. "
   ]
  },
  {
   "cell_type": "markdown",
   "metadata": {},
   "source": [
    "## Getting the Data"
   ]
  },
  {
   "cell_type": "markdown",
   "metadata": {},
   "source": [
    "For this project, I decided to choose my current university: [Texas A&M](http://www.tamu.edu/). It's a large university, which means it also has a lot of faculty members to look at! The Texas Tribune publishes salary data each year from the university [here](http://salaries.texastribune.org/agencies/). \n",
    "\n",
    "We only need the data from Texas A&M, no other extension agencies. \n",
    "\n",
    "Here is part of the problem though: all of the files we can download are .xlsx Excel files. R doesn't read these very well (although there are some workarounds). The best way is to save them as a .csv file first, then read them in using read.csv. \n",
    "\n",
    "Pandas can read Excel files, however. Let's get the files using Pandas, then save them as .csv files locally. Once that is done, we can load them into R."
   ]
  },
  {
   "cell_type": "code",
   "execution_count": 1,
   "metadata": {
    "collapsed": false
   },
   "outputs": [],
   "source": [
    "import pandas as pd\n",
    "texasAM_file = pd.read_excel('http://raw.texastribune.org.s3.amazonaws.com' + \n",
    "                        '/texas_a%26m_university_system/salaries/2014-01/Hill%20-%20SO-14-003.xlsx') # Download the file."
   ]
  },
  {
   "cell_type": "code",
   "execution_count": 2,
   "metadata": {
    "collapsed": false
   },
   "outputs": [],
   "source": [
    "texasAM_file.to_csv('TexasAM_Salaries.csv') # Save the data as a .csv"
   ]
  },
  {
   "cell_type": "markdown",
   "metadata": {},
   "source": [
    "## Cleaning It Up"
   ]
  },
  {
   "cell_type": "markdown",
   "metadata": {},
   "source": [
    "It is time to play around with some of IPython Notebook's lovely interaction with R using the [rpy2 library](http://rpy.sourceforge.net/) and the R magic. Note to Windows users: this probably won't work very well for you as rpy2 doesn't play nicely with Windows! You could use a virtual machine with Linux to get around this if you wish.\n",
    "\n",
    "Let's load all of the libraries we will need in R first."
   ]
  },
  {
   "cell_type": "code",
   "execution_count": 48,
   "metadata": {
    "collapsed": false
   },
   "outputs": [],
   "source": [
    "%load_ext rpy2.ipython"
   ]
  },
  {
   "cell_type": "code",
   "execution_count": 49,
   "metadata": {
    "collapsed": false
   },
   "outputs": [],
   "source": [
    "%%R # You need this to use a block of R code.\n",
    "library(plyr)\n",
    "library(ggplot2)\n",
    "library(scales)"
   ]
  },
  {
   "cell_type": "markdown",
   "metadata": {},
   "source": [
    "Now that we have all of our libraries loaded, let's load our data into R and take a look at it."
   ]
  },
  {
   "cell_type": "code",
   "execution_count": 50,
   "metadata": {
    "collapsed": false
   },
   "outputs": [
    {
     "data": {
      "text/plain": [
       "  X                     MbrName      LastName FirstName     ShortTitleDesc\n",
       "1 0 Prairie View A&M University        ABBASI    HASSAN  INFO RESOURCE SUP\n",
       "2 1 Prairie View A&M University        ABBASI   HUSSAIN  INFO RESOURCE SUP\n",
       "3 2 Prairie View A&M University         ABIBO    IBUOMI   SPEC WEB CONTENT\n",
       "4 3 Prairie View A&M University ABROM-JOHNSON TENEINGER ADJUNCT INSTRUCTOR\n",
       "5 4 Prairie View A&M University         ADAMS     BETTY        PROF & DEAN\n",
       "6 5 Prairie View A&M University         ADAMS    GLORIA     ADMIN ASST III\n",
       "        ShortAdlocDesc EEOMinorityCode Sex        CurrEmplDate\n",
       "1 INFORMATION RESOURCE               4   M 2009-05-15 00:00:00\n",
       "2      ADMIN & RECORDS               4   M 2010-07-15 00:00:00\n",
       "3 ADLOC COOP EXTENSION               2   M 2013-02-15 00:00:00\n",
       "4 AG. NUTR & HUMAN ECO               2   F 1990-12-17 00:00:00\n",
       "5  OFF.OF ACADEMIC AFF               2   F 2000-06-01 00:00:00\n",
       "6    UNIVERSITY POLICE               2   F 1988-11-01 00:00:00\n",
       "         OrigEmplDate BudgetedSalary\n",
       "1 2009-05-15 00:00:00          63664\n",
       "2 2010-07-15 00:00:00          61800\n",
       "3 2009-02-15 00:00:00          50364\n",
       "4 1990-12-17 00:00:00          44378\n",
       "5 2000-06-01 00:00:00         153372\n",
       "6 1974-06-01 00:00:00          45968\n"
      ]
     },
     "metadata": {},
     "output_type": "display_data"
    }
   ],
   "source": [
    "%%R\n",
    "salaryDB <- read.csv('TexasAM_Salaries.csv', header = TRUE, stringsAsFactors = FALSE)\n",
    "print(head(salaryDB))"
   ]
  },
  {
   "cell_type": "markdown",
   "metadata": {},
   "source": [
    "Clearly there are some issues we will need to address. First of all, we can see other universities were included in the database that are NOT a part of Texas A&M. For this study we are only looking at Texas A&M faculty, so let's only include rows under the 'MbrName' column that are either part of Texas A&M or the Health Science Center. Let's also trim this down a bit and get rid of the 'X' and 'CurrEmplDate' columns as we won't need them for our analysis."
   ]
  },
  {
   "cell_type": "code",
   "execution_count": 51,
   "metadata": {
    "collapsed": false
   },
   "outputs": [],
   "source": [
    "%%R\n",
    "salaryDB <- subset(salaryDB, MbrName == 'Texas A&M University' | MbrName == 'Texas A&M Health Science Center', \n",
    "                   select = -c(CurrEmplDate, X))"
   ]
  },
  {
   "cell_type": "markdown",
   "metadata": {},
   "source": [
    "Let's see a summary of our datatypes."
   ]
  },
  {
   "cell_type": "code",
   "execution_count": 52,
   "metadata": {
    "collapsed": false
   },
   "outputs": [
    {
     "data": {
      "text/plain": [
       "'data.frame':\t9234 obs. of  9 variables:\n",
       " $ MbrName        : chr  \"Texas A&M Health Science Center\" \"Texas A&M Health Science Center\" \"Texas A&M Health Science Center\" \"Texas A&M Health Science Center\" ...\n",
       " $ LastName       : chr  \"ABBEY\" \"ABRAHAM\" \"ACOSTA\" \"ADAMS\" ...\n",
       " $ FirstName      : chr  \"COLETTE\" \"CELESTE\" \"IDALIA\" \"JOYCE\" ...\n",
       " $ ShortTitleDesc : chr  \"RESEARCH ASSOCIATE\" \"ASSOCIATE PROFESSOR\" \"ADMIN COORDINATOR\" \"BUS ADMIN I\" ...\n",
       " $ ShortAdlocDesc : chr  \"MOLECULAR & CELL MED\" \"PERIODONTICS\" \"HEALTH POL & MGMT\" \"REGENERATIVE MED\" ...\n",
       " $ EEOMinorityCode: num  1 4 3 1 3 1 1 1 4 3 ...\n",
       " $ Sex            : chr  \"F\" \"F\" \"F\" \"F\" ...\n",
       " $ OrigEmplDate   : chr  \"1992-09-10 00:00:00\" \"1993-06-21 00:00:00\" \"1995-08-14 00:00:00\" \"2008-09-15 00:00:00\" ...\n",
       " $ BudgetedSalary : int  41600 107362 55782 52500 54000 185001 5111 35144 40315 15900 ...\n"
      ]
     },
     "metadata": {},
     "output_type": "display_data"
    }
   ],
   "source": [
    "%%R\n",
    "str(salaryDB)"
   ]
  },
  {
   "cell_type": "markdown",
   "metadata": {},
   "source": [
    "For this project, we are looking at tenure-track faculty only. We want to get rid of other employees such as \"BUS ADMIN I\". As a start, let's remove all employees that don't have \"Professor\" in their title (from the ShortTitleDesc field)."
   ]
  },
  {
   "cell_type": "code",
   "execution_count": 53,
   "metadata": {
    "collapsed": false
   },
   "outputs": [],
   "source": [
    "%%R\n",
    "salaryDB <- salaryDB[grep('PROF', salaryDB$ShortTitleDesc),]"
   ]
  },
  {
   "cell_type": "code",
   "execution_count": 54,
   "metadata": {
    "collapsed": false
   },
   "outputs": [
    {
     "data": {
      "text/plain": [
       "[1] 2818    9\n"
      ]
     },
     "metadata": {},
     "output_type": "display_data"
    }
   ],
   "source": [
    "%%R\n",
    "dim(salaryDB)"
   ]
  },
  {
   "cell_type": "markdown",
   "metadata": {},
   "source": [
    "We have reduced the number of employees a lot, from 9234 to 2818. \n",
    "\n",
    "The next thing we want to do is change the OrigEmplDate column to something more meaningful. Instead, let's make it the number of years they have worked at the university. We can use this as one of our features later. \n",
    "\n",
    "The metadata at the website where we obtained the original salary data says that it was uploaded on Jan 15, 2014. Let's find the difference between that date and the original employment date for all of our employees."
   ]
  },
  {
   "cell_type": "code",
   "execution_count": 55,
   "metadata": {
    "collapsed": false
   },
   "outputs": [],
   "source": [
    "%%R\n",
    "origDate <- as.Date('2014-01-15') # This is the format R likes: YYYY-MM-DD.\n",
    "salaryDB$OrigEmplDate <- as.Date(salaryDB$OrigEmplDate) # Get this into the Date form R likes for finding differences \n",
    "                                                                    # between dates.\n",
    "salaryDB$OrigEmplDate <- as.numeric((origDate-salaryDB$OrigEmplDate)/365.) # Calculate the difference and divide by 365 for number of \n",
    "                                                                           # years.\n",
    "colnames(salaryDB)[8] <- 'YearsWorked' # Use a more informative column title."
   ]
  },
  {
   "cell_type": "markdown",
   "metadata": {},
   "source": [
    "Let's just check to make sure it worked."
   ]
  },
  {
   "cell_type": "code",
   "execution_count": 56,
   "metadata": {
    "collapsed": false
   },
   "outputs": [
    {
     "data": {
      "text/plain": [
       "                             MbrName  LastName FirstName      ShortTitleDesc\n",
       "5892 Texas A&M Health Science Center   ABRAHAM   CELESTE ASSOCIATE PROFESSOR\n",
       "5896 Texas A&M Health Science Center     ADAMS       RAE ASSISTANT PROFESSOR\n",
       "5897 Texas A&M Health Science Center     ADAMS     TERRY  CLINICAL ASST PROF\n",
       "5905 Texas A&M Health Science Center AL ROUSAN     RABAA ASSISTANT PROFESSOR\n",
       "5906 Texas A&M Health Science Center ALAJLOUNI  KHALDOUN     CLIN ASSOC PROF\n",
       "5908 Texas A&M Health Science Center    ALANIZ    ROBERT ASSISTANT PROFESSOR\n",
       "           ShortAdlocDesc EEOMinorityCode Sex YearsWorked BudgetedSalary\n",
       "5892         PERIODONTICS               4   F  20.5835616         107362\n",
       "5896 TX A&M FAMILY MED RE               1   F  10.5890411         185001\n",
       "5897         ORTHODONTICS               1   M  17.3205479           5111\n",
       "5905   PHARMACY-ACAD SUPP              NA   F   0.2712329          92500\n",
       "5906 RESTORATIVE SCIENCES               1   M   8.0438356          16840\n",
       "5908 MICRO PATH & IMMUNOL               3   M   5.9589041          88642\n"
      ]
     },
     "metadata": {},
     "output_type": "display_data"
    }
   ],
   "source": [
    "%%R\n",
    "head(salaryDB)"
   ]
  },
  {
   "cell_type": "markdown",
   "metadata": {},
   "source": [
    "That seems correct. The next thing we are going to do is create another feature: college. All of the departments at universities are organized into colleges. At Texas A&M, that means [12 major colleges](http://www.tamu.edu/about/departments.html). This is somewhat tedious work, but we want to organize all of the faculty members by college as a feature.\n",
    "\n",
    "Let's get a list of all of the different departments included first."
   ]
  },
  {
   "cell_type": "code",
   "execution_count": 57,
   "metadata": {
    "collapsed": false
   },
   "outputs": [
    {
     "data": {
      "text/plain": [
       "         MATHEMATICS HEALTH & KINESIOLOGY         QATAR CAMPUS \n",
       "                 102                   96                   66 \n",
       " PHYSICS & ASTRONOMY   TAMU SCHOOL OF LAW DEPT HEAD-ELECT ENGR \n",
       "                  64                   62                   58 \n",
       "   CIVIL ENGINEERING RESTORATIVE SCIENCES     LIBRARY DIRECTOR \n",
       "                  57                   54                   51 \n",
       "             ENGLISH            CHEMISTRY  DEPT HEAD-MECH ENGR \n",
       "                  48                   47                   47 \n",
       "EDUCATIONAL PSYCHOLO              HISTORY              BIOLOGY \n",
       "                  47                   47                   46 \n",
       "VET INTEGRATIVE BIOS VET MED PATHOBIOLOGY           PSYCHOLOGY \n",
       "                  44                   43                   41 \n",
       "  PHARMACY-ACAD SUPP   TEACHING, LEARNING         ARCHITECTURE \n",
       "                  38                   35                   34 \n",
       "  BUSH SCHOOL OF GOV    POLITICAL SCIENCE VET MED SMALL ANIMAL \n",
       "                  34                   34                   34 \n",
       "  DEPT OF STATISTICS     HD, COMPUTER SCI           MANAGEMENT \n",
       "                  33                   33                   33 \n",
       "      ANIMAL SCIENCE LARGE ANIMAL CLINICA            SOCIOLOGY \n",
       "                  31                   31                   29 \n",
       "  COLLEGE OF NURSING  PEDIATRIC DENTISTRY        AEROSPACE ENG \n",
       "                  28                   28                   27 \n",
       "BIOCHEM & BIOPHYSICS DEPT HEAD-PETRL ENGR   DEPT HEAD-IND ENGR \n",
       "                  27                   27                   26 \n",
       "           ECONOMICS              GEOLOGY   HEAD OF ACCOUNTING \n",
       "                  26                   26                   26 \n",
       "        AG ECONOMICS         ANTHROPOLOGY  DEPT HEAD-ENGR TECH \n",
       "                  25                   25                   25 \n",
       "DEPT INFO & OP MGMNT  LANDS ARCH URB PLAN   ED ADM & HR (EAHR) \n",
       "                  25                   25                   23 \n",
       "          ENTOMOLOGY  SOIL & CROP SCIENCE  VET MED PHYS & PHAR \n",
       "                  23                   23                   23 \n",
       "ECOSYSTEM SCI & MGMT PHILOSO & HUMANITIES WILDLIFE & FISHERIES \n",
       "                  22                   22                   22 \n",
       "BIOLOG & AG ENGINEER DEAN OF LIBERAL ARTS              FINANCE \n",
       "                  21                   21                   21 \n",
       " BIOMEDICAL SCIENCES        COMMUNICATION    GENERAL DENTISTRY \n",
       "                  20                   20                   20 \n",
       "           GEOGRAPHY            MARKETING          METEOROLOGY \n",
       "                  20                   20                   20 \n",
       "        OCEANOGRAPHY         AG EDUCATION CONSTRUCTION SCIENCE \n",
       "                  20                   19                   19 \n",
       " DEPT HEAD-CHEM ENGR INTERNATIONAL STUDIE NEUROSCIENCE & EXPER \n",
       "                  19                   19                   19 \n",
       "        ORTHODONTICS     HISPANIC STUDIES   OFFICE OF THE DEAN \n",
       "                  19                   18                   18 \n",
       "DEPT HEAD-NUCLR ENGR    HEALTH POL & MGMT HORTICULTURAL SCIENC \n",
       "                  17                   17                   17 \n",
       "        ORAL SURGERY  PERFORMANCE STUDIES         PERIODONTICS \n",
       "                  17                   17                   17 \n",
       "  MEDICAL PHYSIOLOGY MICRO PATH & IMMUNOL       BIOMEDICAL ENG \n",
       "                  16                   16                   15 \n",
       "ENGR ACADEMIC COORD. MOLECULAR & CELL MED REC, PARK & TOUR SCI \n",
       "                  15                   15                   15 \n",
       " DIAGNOSTIC SCIENCES  INSTRUCTIONAL ADMIN NUTRITION & FOOD SCI \n",
       "                  14                   14                   14 \n",
       "  PLANT PATH & MICRO        DEAN'S OFFICE        VISUALIZATION \n",
       "                  14                   13                   13 \n",
       "      DENTAL HYGIENE MEDICAL SCIENCE LIBR      DEAN OF VET MED \n",
       "                  12                   12                   11 \n",
       "   DEAN OF BUS ADMIN  PUB HEALTH SCIENCES   STU COUNSELING SVC \n",
       "                  10                   10                   10 \n",
       "   DEAN OF EDUCATION  DEAN OF GEOSCIENCES ENVIR & OCCUP HEALTH \n",
       "                   9                    9                    9 \n",
       "    EPIDEM & BIOSTAT  HLTH PROM&COMM HLTH      POULTRY SCIENCE \n",
       "                   9                    9                    9 \n",
       "             (Other) \n",
       "                 127 \n"
      ]
     },
     "metadata": {},
     "output_type": "display_data"
    }
   ],
   "source": [
    "%%R\n",
    "colnames(salaryDB)[5] <- 'Dept' # Much better title for this column!\n",
    "deptLevels <- as.factor(salaryDB$Dept)\n",
    "print(summary(deptLevels))"
   ]
  },
  {
   "cell_type": "markdown",
   "metadata": {},
   "source": [
    "Quite a large variety of departments listed here. To be consistent with the college labelings on the university's website, I will only label a department as part of a college if it is specifically mentioned. We will create a variety of department lists of statements we can grep for each college, then assign a college number. Data science is sometimes a little messy!"
   ]
  },
  {
   "cell_type": "code",
   "execution_count": 58,
   "metadata": {
    "collapsed": false
   },
   "outputs": [],
   "source": [
    "%%R\n",
    "# Include a large list of department terms we can use grep on so that each faculty member is grouped by college.\n",
    "\n",
    "agList <- c('AG EC', 'AG ED', 'ANIMAL SC', 'BIOCHEM', 'ECOS', 'ENTO', 'HORTI', 'NUTRI', 'PLANT P',\n",
    "             'POULTRY', 'REC,', 'SOIL', 'WILDLIFE') # College of Agriculture\n",
    "\n",
    "archList <- c('ARCHI', 'CONSTR', 'LANDS', 'VISUALIZ') # College of Architecture\n",
    "\n",
    "bushList <- 'BUSH SCH' # Bush School\n",
    "\n",
    "maysList <- c('ACCOUNTING', 'FINANC', 'INFO & OP', 'MANAGEM', 'MARKET', 'MBA') # Business school\n",
    "\n",
    "eduList <- c('DEAN OF ED', 'TEACHING,', 'EDUCATIONAL PSYC', 'HEALTH &', 'EAHR') # Education/Human Development\n",
    "\n",
    "engrList <- c('ENGR', 'COMPUTER', 'CIVIL', 'MATERIALS', 'BIOMEDICAL ENG', 'AEROSPACE', 'AG ENGINEER') # Engineering\n",
    "\n",
    "earthList <- c('GEO', 'OCEAN', 'METEO') # Geoscience (my college)\n",
    "\n",
    "libList <- c('ANTHRO', 'COMMUN', '^ECON', 'ENGL', 'HISTORY', 'INTERN', 'HISP', 'PERFORM', 'PHILO',\n",
    "             'POLITICAL', 'PSYCHOLOGY', 'SOCIO', 'LIBERAL') # Liberal Arts\n",
    "\n",
    "sciList <- c('^BIOLOGY', 'CHEMISTRY', 'MATH', 'ASTR', 'STATISTICS') # Science\n",
    "\n",
    "vetList <- c('VET', 'BIOMEDICAL SCI', 'LARGE AN') # Vet School"
   ]
  },
  {
   "cell_type": "markdown",
   "metadata": {},
   "source": [
    "Now that we have our grep lists, make our new feature and assign a number for each college."
   ]
  },
  {
   "cell_type": "code",
   "execution_count": 59,
   "metadata": {
    "collapsed": false
   },
   "outputs": [],
   "source": [
    "%%R\n",
    "\n",
    "salaryDB$College <- 0 # Initialize our new feature\n",
    "\n",
    "salaryDB$College[grep(paste(agList, collapse = '|'), salaryDB$Dept)]  <- 1 # Ag and Life Sciences\n",
    "\n",
    "salaryDB$College[grep(paste(archList, collapse = '|'), salaryDB$Dept)] <- 2 # Architecture\n",
    "\n",
    "salaryDB$College[grep(paste(bushList, collapse = '|'), salaryDB$Dept)] <- 3 # Bush school\n",
    "\n",
    "salaryDB$College[grep(paste(maysList, collapse = '|'), salaryDB$Dept)] <- 4 # Mays Business school\n",
    "\n",
    "salaryDB$College[grep(paste(eduList, collapse = '|'), salaryDB$Dept)] <- 5 # Education/Human Development \n",
    "\n",
    "salaryDB$College[grep(paste(engrList, collapse = '|'), salaryDB$Dept)] <- 6 # Engineering\n",
    "\n",
    "salaryDB$College[grep(paste(earthList, collapse = '|'), salaryDB$Dept)] <- 7 # Geosciences\n",
    "\n",
    "salaryDB$College[salaryDB$MbrName == 'Texas A&M Health Science Center'] <- 8 # Health Science Center\n",
    "\n",
    "salaryDB$College[salaryDB$Dept == 'TAMU SCHOOL OF LAW'] <- 9 # Law school\n",
    "\n",
    "salaryDB$College[grep(paste(libList, collapse = '|'), salaryDB$Dept)] <- 10 # Liberal Arts\n",
    "\n",
    "salaryDB$College[grep(paste(sciList, collapse = '|'), salaryDB$Dept)] <- 11 # Science\n",
    "\n",
    "salaryDB$College[grep(paste(vetList, collapse = '|'), salaryDB$Dept)] <- 12 # Veterinary Medicine/Biomedical"
   ]
  },
  {
   "cell_type": "markdown",
   "metadata": {},
   "source": [
    "If we couldn't include someone in a college, we are going to drop them from the dataframe. This includes people at the Qatar campus, as well as library staff, deans, etc."
   ]
  },
  {
   "cell_type": "code",
   "execution_count": 60,
   "metadata": {
    "collapsed": false
   },
   "outputs": [],
   "source": [
    "%%R\n",
    "\n",
    "salaryDB <- subset(salaryDB, College > 0) # Only include people that have been assigned a college."
   ]
  },
  {
   "cell_type": "markdown",
   "metadata": {},
   "source": [
    "Let's see how our dataframe looks now."
   ]
  },
  {
   "cell_type": "code",
   "execution_count": 61,
   "metadata": {
    "collapsed": false
   },
   "outputs": [
    {
     "data": {
      "text/plain": [
       "                             MbrName  LastName FirstName      ShortTitleDesc\n",
       "5892 Texas A&M Health Science Center   ABRAHAM   CELESTE ASSOCIATE PROFESSOR\n",
       "5896 Texas A&M Health Science Center     ADAMS       RAE ASSISTANT PROFESSOR\n",
       "5897 Texas A&M Health Science Center     ADAMS     TERRY  CLINICAL ASST PROF\n",
       "5905 Texas A&M Health Science Center AL ROUSAN     RABAA ASSISTANT PROFESSOR\n",
       "5906 Texas A&M Health Science Center ALAJLOUNI  KHALDOUN     CLIN ASSOC PROF\n",
       "5908 Texas A&M Health Science Center    ALANIZ    ROBERT ASSISTANT PROFESSOR\n",
       "                     Dept EEOMinorityCode Sex YearsWorked BudgetedSalary\n",
       "5892         PERIODONTICS               4   F  20.5835616         107362\n",
       "5896 TX A&M FAMILY MED RE               1   F  10.5890411         185001\n",
       "5897         ORTHODONTICS               1   M  17.3205479           5111\n",
       "5905   PHARMACY-ACAD SUPP              NA   F   0.2712329          92500\n",
       "5906 RESTORATIVE SCIENCES               1   M   8.0438356          16840\n",
       "5908 MICRO PATH & IMMUNOL               3   M   5.9589041          88642\n",
       "     College\n",
       "5892       8\n",
       "5896       8\n",
       "5897       8\n",
       "5905       8\n",
       "5906       8\n",
       "5908       8\n"
      ]
     },
     "metadata": {},
     "output_type": "display_data"
    }
   ],
   "source": [
    "%%R\n",
    "head(salaryDB)"
   ]
  },
  {
   "cell_type": "markdown",
   "metadata": {},
   "source": [
    "Let's include another feature for our dataset, tenure ranking. There are three basic levels: assistant, associate, and full. Assistant means you haven't reached tenure yet, which takes about 5 years or so after you start (and is not guaranteed!) Once you get tenure, you are promoted to associate rank. Do more good work, and you can reach the rank of full professor. Salary is clearly going to be somewhat dependent on this, so let's see if we can include this as an additional feature. \n",
    "\n",
    "As you can see in the head of our dataframe, the professors have their rank included in the \"ShortTitleDesc\" column. Let's use grep again to assign each professor a rank category."
   ]
  },
  {
   "cell_type": "code",
   "execution_count": 62,
   "metadata": {
    "collapsed": false
   },
   "outputs": [],
   "source": [
    "%%R\n",
    "\n",
    "salaryDB$Rank <- 0 # Initialize the feature.\n",
    "salaryDB$Rank[grep('ASSISTANT|ASST', salaryDB$ShortTitleDesc)] <- 1 # Assistant prof\n",
    "salaryDB$Rank[grep('ASSOCIATE|ASSOC PROF', salaryDB$ShortTitleDesc)] <- 2 # Associate prof\n",
    "salaryDB$Rank[grep('^PROFESSOR|^PROF|DISTINGUISHED|SENIOR', salaryDB$ShortTitleDesc)] <- 3 # Full prof"
   ]
  },
  {
   "cell_type": "markdown",
   "metadata": {},
   "source": [
    "However, there were some other professors that remained we don't want to be including in our dataset (such as adjuncts or visiting professors). Let's give them a label of 0 to reset them. Then, get rid of any other faculty members that aren't in one of these three categories."
   ]
  },
  {
   "cell_type": "code",
   "execution_count": 63,
   "metadata": {
    "collapsed": false
   },
   "outputs": [],
   "source": [
    "%%R\n",
    "\n",
    "salaryDB$Rank[grep('ADJ|VISITING|CLIN|INSTRUCT|RES|PRACT', salaryDB$ShortTitleDesc)] <- 0 # Non tenure-track.\n",
    "salaryDB <- subset(salaryDB, Rank > 0) # Get rid of any faculty members not falling in one of the three rank categories."
   ]
  },
  {
   "cell_type": "markdown",
   "metadata": {},
   "source": [
    "Let's see how our dataframe is looking (and how many faculty members are left!)"
   ]
  },
  {
   "cell_type": "code",
   "execution_count": 64,
   "metadata": {
    "collapsed": false
   },
   "outputs": [
    {
     "data": {
      "text/plain": [
       "                             MbrName   LastName FirstName      ShortTitleDesc\n",
       "5892 Texas A&M Health Science Center    ABRAHAM   CELESTE ASSOCIATE PROFESSOR\n",
       "5896 Texas A&M Health Science Center      ADAMS       RAE ASSISTANT PROFESSOR\n",
       "5905 Texas A&M Health Science Center  AL ROUSAN     RABAA ASSISTANT PROFESSOR\n",
       "5908 Texas A&M Health Science Center     ALANIZ    ROBERT ASSISTANT PROFESSOR\n",
       "5910 Texas A&M Health Science Center  ALEXANDER     JAMES ASSOCIATE PROFESSOR\n",
       "5914 Texas A&M Health Science Center AL-HASHIMI   IBTISAM           PROFESSOR\n",
       "                     Dept EEOMinorityCode Sex YearsWorked BudgetedSalary\n",
       "5892         PERIODONTICS               4   F  20.5835616         107362\n",
       "5896 TX A&M FAMILY MED RE               1   F  10.5890411         185001\n",
       "5905   PHARMACY-ACAD SUPP              NA   F   0.2712329          92500\n",
       "5908 MICRO PATH & IMMUNOL               3   M   5.9589041          88642\n",
       "5910    HEALTH POL & MGMT               1   M  12.8849315         113130\n",
       "5914         PERIODONTICS               1   F  23.0000000         142655\n",
       "     College Rank\n",
       "5892       8    2\n",
       "5896       8    1\n",
       "5905       8    1\n",
       "5908       8    1\n",
       "5910       8    2\n",
       "5914       8    3\n"
      ]
     },
     "metadata": {},
     "output_type": "display_data"
    }
   ],
   "source": [
    "%%R\n",
    "\n",
    "head(salaryDB)"
   ]
  },
  {
   "cell_type": "code",
   "execution_count": 65,
   "metadata": {
    "collapsed": false
   },
   "outputs": [
    {
     "data": {
      "text/plain": [
       "[1] 2085   11\n"
      ]
     },
     "metadata": {},
     "output_type": "display_data"
    }
   ],
   "source": [
    "%%R\n",
    "dim(salaryDB)"
   ]
  },
  {
   "cell_type": "markdown",
   "metadata": {},
   "source": [
    "Looking at the third entrant, we can see a problem that will need to be fixed. Some of the \"EEOMinorityCode\" entrants are NA. That could be an issue later on. Let's see how many. "
   ]
  },
  {
   "cell_type": "code",
   "execution_count": 66,
   "metadata": {
    "collapsed": false
   },
   "outputs": [
    {
     "data": {
      "text/plain": [
       "   Min. 1st Qu.  Median    Mean 3rd Qu.    Max.    NA's \n",
       "  1.000   1.000   1.000   1.719   2.000   7.000      16 \n"
      ]
     },
     "metadata": {},
     "output_type": "display_data"
    }
   ],
   "source": [
    "%%R\n",
    "summary(salaryDB$EEOMinorityCode)"
   ]
  },
  {
   "cell_type": "markdown",
   "metadata": {},
   "source": [
    "Let's examine these NA faculty members and see what we can do to fix this."
   ]
  },
  {
   "cell_type": "code",
   "execution_count": 67,
   "metadata": {
    "collapsed": false
   },
   "outputs": [
    {
     "data": {
      "text/plain": [
       "                              MbrName         LastName FirstName\n",
       "5905  Texas A&M Health Science Center        AL ROUSAN     RABAA\n",
       "6250  Texas A&M Health Science Center          DRANETZ     DAVID\n",
       "6634  Texas A&M Health Science Center              KOO CATHY LAU\n",
       "7348  Texas A&M Health Science Center            WELLS     GREGG\n",
       "7401  Texas A&M Health Science Center       WOODMANSEY      KARL\n",
       "10418            Texas A&M University         CUMMINGS     KEVIN\n",
       "10911            Texas A&M University           EUSEBI   RICARDO\n",
       "11247            Texas A&M University           GEORGE  THEODORE\n",
       "12887            Texas A&M University        LIGHTFOOT      JOHN\n",
       "13169            Texas A&M University         MARKOVIC     MILAN\n",
       "13354            Texas A&M University          MCINNES     KEVIN\n",
       "14628            Texas A&M University             RICE     SARAH\n",
       "14773            Texas A&M University           ROGERS   WILLIAM\n",
       "15900            Texas A&M University            SMITH      JOHN\n",
       "15991            Texas A&M University VIEIRA-DE-CASTRO      LUIS\n",
       "16567            Texas A&M University            YARAK     LARRY\n",
       "           ShortTitleDesc                 Dept EEOMinorityCode Sex YearsWorked\n",
       "5905  ASSISTANT PROFESSOR   PHARMACY-ACAD SUPP              NA   F   0.2712329\n",
       "6250  ASSISTANT PROFESSOR   PSYCH/BEHAV SCI-CS              NA   M   3.8794521\n",
       "6634  ASSISTANT PROFESSOR   PHARMACY-ACAD SUPP              NA   F   4.2630137\n",
       "7348  ASSOCIATE PROFESSOR MOLECULAR & CELL MED              NA   M  14.1342466\n",
       "7401      ASST PROF & DIR  DEPT OF ENDODONTICS              NA   M   2.2931507\n",
       "10418 ASSISTANT PROFESSOR VET INTEGRATIVE BIOS              NA   M   3.0931507\n",
       "10911 ASSISTANT PROFESSOR  PHYSICS & ASTRONOMY              NA   M   4.3753425\n",
       "11247 ASSOCIATE PROFESSOR PHILOSO & HUMANITIES              NA   M  12.4246575\n",
       "12887           PROFESSOR HEALTH & KINESIOLOGY              NA   M   3.5452055\n",
       "13169 ASSOCIATE PROFESSOR   TAMU SCHOOL OF LAW              NA   M   0.3726027\n",
       "13354           PROFESSOR  SOIL & CROP SCIENCE              NA   M  25.5589041\n",
       "14628 ASSISTANT PROFESSOR   HEAD OF ACCOUNTING              NA   F   0.4575342\n",
       "14773 ASSOCIATE PROFESSOR ECOSYSTEM SCI & MGMT              NA   M   8.6301370\n",
       "15900 ASSOCIATE PROFESSOR   DEPT HEAD-IND ENGR              NA   M  13.4657534\n",
       "15991           PROFESSOR         ANTHROPOLOGY              NA   M  15.3835616\n",
       "16567 ASSOCIATE PROFESSOR              HISTORY              NA   M  28.4767123\n",
       "      BudgetedSalary College Rank\n",
       "5905           92500       8    1\n",
       "6250          204601       8    1\n",
       "6634          108630       8    1\n",
       "7348          163608       8    2\n",
       "7401          127350       8    1\n",
       "10418          96222      12    1\n",
       "10911          82207      11    1\n",
       "11247          71811      10    2\n",
       "12887         138511       5    3\n",
       "13169          97500       9    2\n",
       "13354         115921       1    3\n",
       "14628         232265       4    1\n",
       "14773          86505       1    2\n",
       "15900         132990       6    2\n",
       "15991          79695      10    3\n",
       "16567          61839      10    2\n"
      ]
     },
     "metadata": {},
     "output_type": "display_data"
    }
   ],
   "source": [
    "%%R\n",
    "subset(salaryDB, is.na(EEOMinorityCode))"
   ]
  },
  {
   "cell_type": "code",
   "execution_count": 68,
   "metadata": {
    "collapsed": false
   },
   "outputs": [
    {
     "data": {
      "image/png": "[encoded data removed]"
     },
     "metadata": {},
     "output_type": "display_data"
    }
   ],
   "source": [
    "%%R\n",
    "hist(salaryDB$EEOMinorityCode)"
   ]
  },
  {
   "cell_type": "markdown",
   "metadata": {},
   "source": [
    "Examining the histogram, we can see that the faculty members predominantly fall in category 1 (white). Category 2 represents Black/African-American, category 3 is Latino, and category 4 is Asian. Category 5 represents more than one race (mixed) while category 7 represents Native American. \n",
    "\n",
    "While it is not ideal, we can guess the race based on the names of the NA members. White is by far the most common category, so we will assign all remaining faculty members to this category for now."
   ]
  },
  {
   "cell_type": "code",
   "execution_count": 69,
   "metadata": {
    "collapsed": false
   },
   "outputs": [],
   "source": [
    "%%R\n",
    "salaryDB$EEOMinorityCode[is.na(salaryDB$EEOMinorityCode == TRUE)] <- 1 # Assign all NA to 1 for White.\n",
    "salaryDB$EEOMinorityCode[salaryDB$LastName == 'KOO'] <- 4\n",
    "salaryDB$EEOMinorityCode[salaryDB$LastName == 'VIEIRA-DE-CASTRO'] <- 3 # Correct two of them.\n",
    "\n"
   ]
  },
  {
   "cell_type": "code",
   "execution_count": 70,
   "metadata": {
    "collapsed": false
   },
   "outputs": [
    {
     "data": {
      "text/plain": [
       "   Min. 1st Qu.  Median    Mean 3rd Qu.    Max. \n",
       "  1.000   1.000   1.000   1.716   2.000   7.000 \n"
      ]
     },
     "metadata": {},
     "output_type": "display_data"
    }
   ],
   "source": [
    "%%R\n",
    "summary(salaryDB$EEOMinorityCode)"
   ]
  },
  {
   "cell_type": "markdown",
   "metadata": {},
   "source": [
    "No more NA values. \n",
    "\n",
    "Now, we need to relabel the Sex category in terms of numbers to give it One-Hot encoding. This is easy for Sex since there are only two possibilities anyway. Let's add this as a new feature.\n"
   ]
  },
  {
   "cell_type": "code",
   "execution_count": 71,
   "metadata": {
    "collapsed": false
   },
   "outputs": [],
   "source": [
    "%%R\n",
    "library(plyr)\n",
    "salaryDB$SexCode <- as.numeric(revalue(salaryDB$Sex, c('M' = 0, 'F' = 1)))"
   ]
  },
  {
   "cell_type": "markdown",
   "metadata": {},
   "source": [
    "We also need to give each department a number as well. Thankfully, R makes this very easy to do."
   ]
  },
  {
   "cell_type": "code",
   "execution_count": 72,
   "metadata": {
    "collapsed": false
   },
   "outputs": [],
   "source": [
    "%%R\n",
    "salaryDB$DeptCode <- as.numeric(as.factor(salaryDB$Dept))"
   ]
  },
  {
   "cell_type": "markdown",
   "metadata": {},
   "source": [
    "Taking a look at our frame now:"
   ]
  },
  {
   "cell_type": "code",
   "execution_count": 73,
   "metadata": {
    "collapsed": false
   },
   "outputs": [
    {
     "data": {
      "text/plain": [
       "                             MbrName   LastName FirstName      ShortTitleDesc\n",
       "5892 Texas A&M Health Science Center    ABRAHAM   CELESTE ASSOCIATE PROFESSOR\n",
       "5896 Texas A&M Health Science Center      ADAMS       RAE ASSISTANT PROFESSOR\n",
       "5905 Texas A&M Health Science Center  AL ROUSAN     RABAA ASSISTANT PROFESSOR\n",
       "5908 Texas A&M Health Science Center     ALANIZ    ROBERT ASSISTANT PROFESSOR\n",
       "5910 Texas A&M Health Science Center  ALEXANDER     JAMES ASSOCIATE PROFESSOR\n",
       "5914 Texas A&M Health Science Center AL-HASHIMI   IBTISAM           PROFESSOR\n",
       "                     Dept EEOMinorityCode Sex YearsWorked BudgetedSalary\n",
       "5892         PERIODONTICS               4   F  20.5835616         107362\n",
       "5896 TX A&M FAMILY MED RE               1   F  10.5890411         185001\n",
       "5905   PHARMACY-ACAD SUPP               1   F   0.2712329          92500\n",
       "5908 MICRO PATH & IMMUNOL               3   M   5.9589041          88642\n",
       "5910    HEALTH POL & MGMT               1   M  12.8849315         113130\n",
       "5914         PERIODONTICS               1   F  23.0000000         142655\n",
       "     College Rank SexCode DeptCode\n",
       "5892       8    2       1       93\n",
       "5896       8    1       1      113\n",
       "5905       8    1       1       94\n",
       "5908       8    1       0       83\n",
       "5910       8    2       0       58\n",
       "5914       8    3       1       93\n"
      ]
     },
     "metadata": {},
     "output_type": "display_data"
    }
   ],
   "source": [
    "%%R\n",
    "head(salaryDB)"
   ]
  },
  {
   "cell_type": "markdown",
   "metadata": {},
   "source": [
    "To help prepare us for the second part of this notebook (the machine learning section), we will need to create a second dataframe that only has numbers as inputs. \n",
    "\n",
    "Let's create that now, along with some renaming of the Minority Code feature."
   ]
  },
  {
   "cell_type": "code",
   "execution_count": 74,
   "metadata": {
    "collapsed": false
   },
   "outputs": [],
   "source": [
    "%%R\n",
    "numericDB <- subset(salaryDB, select = -c(MbrName, LastName, FirstName, ShortTitleDesc, Dept, Sex)) \n",
    "# This removes the non-numeric features.\n",
    "\n",
    "colnames(numericDB)[1] <- 'Race' # Change the column name.\n",
    "numericDB$BudgetedSalary <- as.numeric(numericDB$BudgetedSalary) # Get all features to be numeric."
   ]
  },
  {
   "cell_type": "code",
   "execution_count": 75,
   "metadata": {
    "collapsed": false
   },
   "outputs": [
    {
     "data": {
      "text/plain": [
       "'data.frame':\t2085 obs. of  7 variables:\n",
       " $ Race          : num  4 1 1 3 1 1 1 1 1 1 ...\n",
       " $ YearsWorked   : num  20.584 10.589 0.271 5.959 12.885 ...\n",
       " $ BudgetedSalary: num  107362 185001 92500 88642 113130 ...\n",
       " $ College       : num  8 8 8 8 8 8 8 8 8 8 ...\n",
       " $ Rank          : num  2 1 1 1 2 3 1 3 3 2 ...\n",
       " $ SexCode       : num  1 1 1 0 0 1 0 0 0 1 ...\n",
       " $ DeptCode      : num  93 113 94 83 58 93 85 73 84 83 ...\n"
      ]
     },
     "metadata": {},
     "output_type": "display_data"
    }
   ],
   "source": [
    "%%R\n",
    "str(numericDB)"
   ]
  },
  {
   "cell_type": "markdown",
   "metadata": {},
   "source": [
    "Our dataframe now has some new features, along with converting all of the categorical features to numeric ones. We have also gotten rid of all NA values. Our data is now (finally) clean! We can now start the next phase."
   ]
  },
  {
   "cell_type": "markdown",
   "metadata": {},
   "source": [
    "## Exploratory Data Analysis"
   ]
  },
  {
   "cell_type": "markdown",
   "metadata": {},
   "source": [
    "In this section, we will try some visualization of the salary data to find any interesting patterns or other existing problems with the data we may have missed. \n",
    "\n",
    "There are several interesting ways we could look at this data (feel free to play around with it!). I am going to choose a few of the more interesting patterns. To do that, we will use the libraries plyr to shape the data and ggplot2 for visualization. These two are a powerful combination for exploring data.\n",
    "\n",
    "First thing we are going to do is make a very nice plotting function that we can call to help visualize the data quickly and efficiently.\n",
    "Let's make that now."
   ]
  },
  {
   "cell_type": "code",
   "execution_count": 76,
   "metadata": {
    "collapsed": false
   },
   "outputs": [],
   "source": [
    "%%R\n",
    "\n",
    "PrettyDensPlot <- function(variable, name){\n",
    "  # This function will take in a dataset in dataframe format and plot\n",
    "  # a pretty density function along with the median value.\n",
    "  \n",
    "  df <- as.data.frame(variable) # Get it into a dataframe.\n",
    "  # Calculate the median value:\n",
    "  mid <- median(variable, na.rm = TRUE)\n",
    "  # Make this a separate dataframe.\n",
    "  middle <- data.frame(mid)\n",
    "  \n",
    "  # Now plot with our label intact.\n",
    "  \n",
    "  finalPlot <- ggplot(df) + \n",
    "    geom_density(aes(x = variable), adjust = 2.0, color = 'black', size = 1.5, fill = 'skyblue') +\n",
    "    scale_x_log10(breaks=c(1000,10000,100000,1000000), labels=dollar) +\n",
    "    annotation_logticks(sides=\"bt\")\n",
    "  \n",
    "  afterPlot <- finalPlot + geom_vline(data = middle, aes(xintercept = mid,\n",
    "                                                         linetype = 'Median', size = 'Median', \n",
    "                                                         color = 'Median'), show_guide = T) + \n",
    "    scale_color_manual(name = '', values = 'red') + \n",
    "    scale_linetype_manual(name = '', values = 'longdash') + \n",
    "    scale_size_manual(name = '', values = 1.0) + \n",
    "    xlab(name)\n",
    "  \n",
    "  \n",
    "  \n",
    "  \n",
    "  # Display it.\n",
    "  \n",
    "  print(afterPlot)\n",
    "  \n",
    "  \n",
    "}"
   ]
  },
  {
   "cell_type": "markdown",
   "metadata": {},
   "source": [
    "This function will make a nice looking density plot of our salaries to see the distribution, along with the median value for comparison. Let's call it now."
   ]
  },
  {
   "cell_type": "code",
   "execution_count": 77,
   "metadata": {
    "collapsed": false
   },
   "outputs": [
    {
     "data": {
      "image/png": "[encoded data removed]"
     },
     "metadata": {},
     "output_type": "display_data"
    }
   ],
   "source": [
    "%%R\n",
    "PrettyDensPlot(numericDB$BudgetedSalary, 'Salary')"
   ]
  },
  {
   "cell_type": "markdown",
   "metadata": {},
   "source": [
    "Looks like the median salary is right around the 110,000 dollar mark. The distribution looks to have a bit of a tail on the lower end. Remember that the plot marks below show a logarithmic distribution of salary data, which you often need. Salary data is very rarely normally distributed without a log transformation. Therefore, a summary statistic such as the median will usually be more informative about the distribution than the mean.\n",
    "\n",
    "Let's see if gender has any effect on salary next."
   ]
  },
  {
   "cell_type": "code",
   "execution_count": 78,
   "metadata": {
    "collapsed": false
   },
   "outputs": [
    {
     "data": {
      "image/png": "[encoded data removed]"
     },
     "metadata": {},
     "output_type": "display_data"
    }
   ],
   "source": [
    "%%R\n",
    "sexFrame <- ddply(numericDB,~SexCode,summarize,median=median(BudgetedSalary)) # Use ddply from plyr to get the median salary by sex.\n",
    "\n",
    "sexFrame[1,1]  <- 'Male'\n",
    "sexFrame[2,1] <- 'Female' # For plotting purposes\n",
    "\n",
    "\n",
    "sexBarPlot <- ggplot(sexFrame, aes(x=SexCode, y=median, fill=SexCode)) +\n",
    "  geom_bar(color=\"black\", stat=\"identity\", width = 0.2) +\n",
    "  guides(fill=FALSE)+\n",
    "  xlab('Median Salary') + \n",
    "  ylab('Gender') + \n",
    "  ggtitle('Median salary by gender') # Create our ggplot figure\n",
    "\n",
    "print(sexBarPlot) # Show it"
   ]
  },
  {
   "cell_type": "markdown",
   "metadata": {},
   "source": [
    "Clearly males have a higher median salary than females do, with males showing close to 120,000 and females close to 95,000. \n",
    "\n",
    "Let's do a more complicated plot that breaks things down by race AND gender to see which matters more."
   ]
  },
  {
   "cell_type": "code",
   "execution_count": 79,
   "metadata": {
    "collapsed": false
   },
   "outputs": [
    {
     "data": {
      "image/png": "[encoded data removed]"
     },
     "metadata": {},
     "output_type": "display_data"
    }
   ],
   "source": [
    "%%R\n",
    "raceFrame <- ddply(numericDB, .(Race,SexCode),summarize, Median = median(BudgetedSalary)) # Use ddply to get medians on both sex/race.\n",
    "\n",
    "# Get rid of last four rows.\n",
    "\n",
    "raceFrame <- raceFrame[1:8,]\n",
    "\n",
    "# Replace the race/gender codes.\n",
    "\n",
    "raceFrame$Race <- mapvalues(raceFrame$Race, c(1,2,3,4),\n",
    "                            c('White', 'Black', 'Hispanic', 'Asian'))\n",
    "raceFrame$SexCode <- mapvalues(raceFrame$SexCode, c(0,1), c('Male', 'Female')) # Put in the appropriate plot labels\n",
    "\n",
    "sexRacePlot <- ggplot(raceFrame, aes(x=Race, y=Median, fill=SexCode)) + \n",
    "    geom_bar(stat=\"identity\", position=position_dodge(), color=\"black\", width = 0.2) + \n",
    "    scale_fill_manual(values = c('skyblue', 'firebrick')) # Crate our barplot\n",
    "\n",
    "print(sexRacePlot) # Show it"
   ]
  },
  {
   "cell_type": "markdown",
   "metadata": {},
   "source": [
    "It does seem that women do make less money than men, regardless of race. The largest gap is somewhat surprising in Asians. Asian men have the greatest median salary among races, yet Asian women have the smallest! Hispanic faculty members seem to have the smallest wage gap by sex.\n",
    "\n",
    "Next, let's examine how tenure ranking affects the salary. There should be an increase in median salary for higher ranks."
   ]
  },
  {
   "cell_type": "code",
   "execution_count": 80,
   "metadata": {
    "collapsed": false
   },
   "outputs": [
    {
     "data": {
      "image/png": "[encoded data removed]"
     },
     "metadata": {},
     "output_type": "display_data"
    }
   ],
   "source": [
    "%%R\n",
    "\n",
    "rankFrame <- ddply(numericDB,~Rank,summarize,Median=median(BudgetedSalary)) # Use ddply to find medians by Rank\n",
    "\n",
    "rankFrame$Rank <- mapvalues(rankFrame$Rank, c(1,2,3),\n",
    "                            c('Assistant', 'Associate', 'Full')) # Create our labels\n",
    "\n",
    "rankPlot <- ggplot(rankFrame, aes(x=Rank, y=Median, fill=Rank)) +\n",
    "  geom_bar(color=\"black\", stat=\"identity\", width = 0.2) +\n",
    "  guides(fill=FALSE) +\n",
    "  xlab('Median Salary') + \n",
    "  ylab('Tenure ranking') + \n",
    "  ylim(c(0,150000)) +\n",
    "  ggtitle('Median salary by tenure rank') # Make our plot\n",
    "\n",
    "print(rankPlot)"
   ]
  },
  {
   "cell_type": "markdown",
   "metadata": {},
   "source": [
    "It appears that going from Assistant to Associate professor, according to the median, will increase the salary by only about 10,000 dollars a year. That doesn't seem like very much! Full rank definitely seems to provide quite the salary boost, however. This could be biased somewhat, however, because Full is the highest rank we have, meaning professors that have been around for ten years and thirty years fall into this category, so the median will be increased. \n",
    "\n",
    "Now let's see how salaries rank according to which of the 12 colleges you are in."
   ]
  },
  {
   "cell_type": "code",
   "execution_count": 81,
   "metadata": {
    "collapsed": false
   },
   "outputs": [
    {
     "data": {
      "image/png": "[encoded data removed]"
     },
     "metadata": {},
     "output_type": "display_data"
    }
   ],
   "source": [
    "%%R\n",
    "\n",
    "collegeFrame <- ddply(numericDB,~College,summarize,Median=median(BudgetedSalary))\n",
    "\n",
    "collegeFrame$College <- mapvalues(collegeFrame$College, c(1,2,3,4,5,6,7,8,9,10,11,12),\n",
    "                                  c('Ag', 'Arch', 'Bush', 'Bus', 'Edu',\n",
    "                                    'Eng', 'Geo', 'Health', 'Law', 'Lib', 'Sci',\n",
    "                                    'Vet')) # Map all of the college names\n",
    "\n",
    "collegePlot <- ggplot(collegeFrame, aes(x=reorder(College, -Median), y=Median, fill=College)) + # Use the argument reorder \n",
    "  geom_bar(color=\"black\", stat=\"identity\", width = 0.2) +\n",
    "  guides(fill=FALSE) +\n",
    "  xlab('Median Salary') + \n",
    "  ylab('College/Division') + \n",
    "  ggtitle('Median salary by College')\n",
    "\n",
    " print(collegePlot)"
   ]
  },
  {
   "cell_type": "markdown",
   "metadata": {},
   "source": [
    "I had to shorten the names so they would all fit, but hopefully you can understand what they are. Being a professor in the Business school definitely makes a good living! It is far ahead of the other colleges. Engineering isn't far behind, which is understandable, especially since Texas A&M is known for having a large Engineering college. Liberal Arts and Architecture are the lowest paying, which makes sense considering the conventional wisdom regarding salaries in those fields. \n",
    "\n",
    "Last, let's examine salaries for a few departments. To do that, we will need the information from the larger, original dataframe we made that has the department titles."
   ]
  },
  {
   "cell_type": "code",
   "execution_count": 82,
   "metadata": {
    "collapsed": false
   },
   "outputs": [
    {
     "data": {
      "image/png": "[encoded data removed]"
     },
     "metadata": {},
     "output_type": "display_data"
    }
   ],
   "source": [
    "%%R\n",
    "\n",
    "sortedDept <- ddply(salaryDB,~Dept,summarize,median=median(BudgetedSalary)) # Get the median salaries by department\n",
    "\n",
    "\n",
    "# Pick a few major departments that aren't admin or academic coordinators. We will use grep to find them. \n",
    "\n",
    "deptList <- c('FINANCE', 'COMPUTER', \n",
    "              'ENGLISH', 'STATISTICS', 'METEOR')\n",
    "\n",
    "deptFrame <- sortedDept[grep(paste(deptList, collapse = '|'), sortedDept$Dept),]\n",
    "\n",
    "deptFrame$Dept <- mapvalues(deptFrame$Dept, c('DEPT OF STATISTICS', 'ENGLISH', 'FINANCE',\n",
    "                                             'HD, COMPUTER SCI', 'METEOROLOGY'),\n",
    "                            c('STAT', 'ENG', 'FIN', 'COMP', 'METEO')) # To make the titles visible\n",
    "\n",
    "deptPlot <- ggplot(deptFrame, aes(x=reorder(Dept, -median), y=median, fill=Dept)) +\n",
    "  geom_bar(color=\"black\", stat=\"identity\", width = 0.2) +\n",
    "  guides(fill=FALSE) +\n",
    "  xlab('Median Salary') + \n",
    "  ylab('Department') + \n",
    "  ggtitle('Median salary by department')\n",
    "\n",
    "print(deptPlot)"
   ]
  },
  {
   "cell_type": "markdown",
   "metadata": {},
   "source": [
    "As you can see in the code, FIN = Finance, COMP = Computer Science, METEO = Meteorology, STAT = Statistics, and ENG = English. My current field, Meteorology, falls somewhere in between Computer Science and Statistics (the two main branches of Data Science). Finance sure pays a lot, while English not quite as much. \n",
    "\n",
    "Our last step for finishing with R is to output our final numeric dataframe and save it as a .csv, where Python will take over for the machine learning portion of this notebook. We are going to save two different dataframes. The first will be our numeric frame, while the second will be a lookup table we can create easily for Python. This will come in handy later when we implement our machine learning algorithm. "
   ]
  },
  {
   "cell_type": "code",
   "execution_count": 83,
   "metadata": {
    "collapsed": false
   },
   "outputs": [],
   "source": [
    "%%R\n",
    "\n",
    "# First, create a new data frame that only extracts the dept name, dept id, and college number. \n",
    "\n",
    "lookupFrame <- subset(salaryDB, select = c(Dept, College, DeptCode))\n",
    "lookupFrame <- unique(lookupFrame) # Get the unique values only\n",
    "write.csv(lookupFrame, 'DeptLookup.csv') # save it\n",
    "write.csv(numericDB, 'FinalSalaryFrame.csv') # save our numeric frame"
   ]
  },
  {
   "cell_type": "markdown",
   "metadata": {},
   "source": [
    "## EDA Summary and Conclusions"
   ]
  },
  {
   "cell_type": "markdown",
   "metadata": {},
   "source": [
    "We have obtained an external data source, cleaned it up, transformed the data, added new features, and did some exploration of the data. Believe it or not, this work actually ends up taking most of a Data Scientist's time! It is very important, as good features make machine learning algorithms work far better than which model you end up choosing, so it is a step that is worth the time investment. \n",
    "\n",
    "We will now start Part 2 of this notebook: how to take this new dataset and make a predictive model out of it that we can actually use. While this work could be done in R, I personally think Python has better Machine Learning capabilities and can be more easily integrated into existing code than R can."
   ]
  },
  {
   "cell_type": "markdown",
   "metadata": {},
   "source": [
    "# Part 2: Regression Model to Predict Salaries at Texas A&M"
   ]
  },
  {
   "cell_type": "markdown",
   "metadata": {},
   "source": [
    "Now, it is time to switch gears a bit and move back to Python. Our goal is to make a regression model that can be used to predict what your salary would be if you were to become a faculty member at Texas A&M. \n",
    "\n",
    "We have done most of the necessary preparation already, but a little more remains. First, let's load our two .csv files into Python via the pandas library. "
   ]
  },
  {
   "cell_type": "code",
   "execution_count": 84,
   "metadata": {
    "collapsed": false
   },
   "outputs": [
    {
     "data": {
      "text/html": [
       "<div style=\"max-height:1000px;max-width:1500px;overflow:auto;\">\n",
       "<table border=\"1\" class=\"dataframe\">\n",
       "  <thead>\n",
       "    <tr style=\"text-align: right;\">\n",
       "      <th></th>\n",
       "      <th>Unnamed: 0</th>\n",
       "      <th>Race</th>\n",
       "      <th>YearsWorked</th>\n",
       "      <th>BudgetedSalary</th>\n",
       "      <th>College</th>\n",
       "      <th>Rank</th>\n",
       "      <th>SexCode</th>\n",
       "      <th>DeptCode</th>\n",
       "    </tr>\n",
       "  </thead>\n",
       "  <tbody>\n",
       "    <tr>\n",
       "      <th>0</th>\n",
       "      <td> 5892</td>\n",
       "      <td> 4</td>\n",
       "      <td> 20.583562</td>\n",
       "      <td> 107362</td>\n",
       "      <td> 8</td>\n",
       "      <td> 2</td>\n",
       "      <td> 1</td>\n",
       "      <td>  93</td>\n",
       "    </tr>\n",
       "    <tr>\n",
       "      <th>1</th>\n",
       "      <td> 5896</td>\n",
       "      <td> 1</td>\n",
       "      <td> 10.589041</td>\n",
       "      <td> 185001</td>\n",
       "      <td> 8</td>\n",
       "      <td> 1</td>\n",
       "      <td> 1</td>\n",
       "      <td> 113</td>\n",
       "    </tr>\n",
       "    <tr>\n",
       "      <th>2</th>\n",
       "      <td> 5905</td>\n",
       "      <td> 1</td>\n",
       "      <td>  0.271233</td>\n",
       "      <td>  92500</td>\n",
       "      <td> 8</td>\n",
       "      <td> 1</td>\n",
       "      <td> 1</td>\n",
       "      <td>  94</td>\n",
       "    </tr>\n",
       "    <tr>\n",
       "      <th>3</th>\n",
       "      <td> 5908</td>\n",
       "      <td> 3</td>\n",
       "      <td>  5.958904</td>\n",
       "      <td>  88642</td>\n",
       "      <td> 8</td>\n",
       "      <td> 1</td>\n",
       "      <td> 0</td>\n",
       "      <td>  83</td>\n",
       "    </tr>\n",
       "    <tr>\n",
       "      <th>4</th>\n",
       "      <td> 5910</td>\n",
       "      <td> 1</td>\n",
       "      <td> 12.884932</td>\n",
       "      <td> 113130</td>\n",
       "      <td> 8</td>\n",
       "      <td> 2</td>\n",
       "      <td> 0</td>\n",
       "      <td>  58</td>\n",
       "    </tr>\n",
       "  </tbody>\n",
       "</table>\n",
       "</div>"
      ],
      "text/plain": [
       "   Unnamed: 0  Race  YearsWorked  BudgetedSalary  College  Rank  SexCode  \\\n",
       "0        5892     4    20.583562          107362        8     2        1   \n",
       "1        5896     1    10.589041          185001        8     1        1   \n",
       "2        5905     1     0.271233           92500        8     1        1   \n",
       "3        5908     3     5.958904           88642        8     1        0   \n",
       "4        5910     1    12.884932          113130        8     2        0   \n",
       "\n",
       "   DeptCode  \n",
       "0        93  \n",
       "1       113  \n",
       "2        94  \n",
       "3        83  \n",
       "4        58  "
      ]
     },
     "execution_count": 84,
     "metadata": {},
     "output_type": "execute_result"
    }
   ],
   "source": [
    "# Load our data into a pandas dataframe first. \n",
    "\n",
    "salaryDF = pd.read_csv('FinalSalaryFrame.csv', header = 0)\n",
    "salaryDF.head()"
   ]
  },
  {
   "cell_type": "markdown",
   "metadata": {},
   "source": [
    "Looks like there is an extra column pandas read in. We don't want that, so let's get rid of it."
   ]
  },
  {
   "cell_type": "code",
   "execution_count": 85,
   "metadata": {
    "collapsed": false
   },
   "outputs": [
    {
     "data": {
      "text/html": [
       "<div style=\"max-height:1000px;max-width:1500px;overflow:auto;\">\n",
       "<table border=\"1\" class=\"dataframe\">\n",
       "  <thead>\n",
       "    <tr style=\"text-align: right;\">\n",
       "      <th></th>\n",
       "      <th>Race</th>\n",
       "      <th>YearsWorked</th>\n",
       "      <th>BudgetedSalary</th>\n",
       "      <th>College</th>\n",
       "      <th>Rank</th>\n",
       "      <th>SexCode</th>\n",
       "      <th>DeptCode</th>\n",
       "    </tr>\n",
       "  </thead>\n",
       "  <tbody>\n",
       "    <tr>\n",
       "      <th>0</th>\n",
       "      <td> 4</td>\n",
       "      <td> 20.583562</td>\n",
       "      <td> 107362</td>\n",
       "      <td> 8</td>\n",
       "      <td> 2</td>\n",
       "      <td> 1</td>\n",
       "      <td>  93</td>\n",
       "    </tr>\n",
       "    <tr>\n",
       "      <th>1</th>\n",
       "      <td> 1</td>\n",
       "      <td> 10.589041</td>\n",
       "      <td> 185001</td>\n",
       "      <td> 8</td>\n",
       "      <td> 1</td>\n",
       "      <td> 1</td>\n",
       "      <td> 113</td>\n",
       "    </tr>\n",
       "    <tr>\n",
       "      <th>2</th>\n",
       "      <td> 1</td>\n",
       "      <td>  0.271233</td>\n",
       "      <td>  92500</td>\n",
       "      <td> 8</td>\n",
       "      <td> 1</td>\n",
       "      <td> 1</td>\n",
       "      <td>  94</td>\n",
       "    </tr>\n",
       "    <tr>\n",
       "      <th>3</th>\n",
       "      <td> 3</td>\n",
       "      <td>  5.958904</td>\n",
       "      <td>  88642</td>\n",
       "      <td> 8</td>\n",
       "      <td> 1</td>\n",
       "      <td> 0</td>\n",
       "      <td>  83</td>\n",
       "    </tr>\n",
       "    <tr>\n",
       "      <th>4</th>\n",
       "      <td> 1</td>\n",
       "      <td> 12.884932</td>\n",
       "      <td> 113130</td>\n",
       "      <td> 8</td>\n",
       "      <td> 2</td>\n",
       "      <td> 0</td>\n",
       "      <td>  58</td>\n",
       "    </tr>\n",
       "  </tbody>\n",
       "</table>\n",
       "</div>"
      ],
      "text/plain": [
       "   Race  YearsWorked  BudgetedSalary  College  Rank  SexCode  DeptCode\n",
       "0     4    20.583562          107362        8     2        1        93\n",
       "1     1    10.589041          185001        8     1        1       113\n",
       "2     1     0.271233           92500        8     1        1        94\n",
       "3     3     5.958904           88642        8     1        0        83\n",
       "4     1    12.884932          113130        8     2        0        58"
      ]
     },
     "execution_count": 85,
     "metadata": {},
     "output_type": "execute_result"
    }
   ],
   "source": [
    "salaryDF.drop(salaryDF.columns[0], axis = 1, inplace = True)\n",
    "salaryDF.head()"
   ]
  },
  {
   "cell_type": "markdown",
   "metadata": {},
   "source": [
    "Let's repeat this procedure with our lookup table we will use later."
   ]
  },
  {
   "cell_type": "code",
   "execution_count": 86,
   "metadata": {
    "collapsed": false
   },
   "outputs": [],
   "source": [
    "lookup_table = pd.read_csv('DeptLookup.csv', header = 0)\n",
    "lookup_table.drop(lookup_table.columns[0], axis = 1, inplace = True)"
   ]
  },
  {
   "cell_type": "markdown",
   "metadata": {},
   "source": [
    "We want to try a couple of different machine learning algorithms for this project. If we were only using a tree method (such as Random Forests or Gradient Boosted Regression Trees), we wouldn't need to alter our data: just run it as is. This is what is convenient about tree methods. However, it may be helpful to also have another algorithm to compare to, such as linear regression. If you are going to use regularization with linear regression (you should!), it requires us to apply two things:\n",
    "\n",
    "- Feature Scaling\n",
    "- One-Hot Encoding\n",
    "\n",
    "Trees don't care about this, but to set the proper weights for the features in linear regression (and apply regularization appropriately), [we need to scale our numerical features](http://scikit-learn.org/stable/modules/preprocessing.html). We need One-Hot Encoding for the categorical features because otherwise linear regression will think College 8 is greater than College 1. That isn't really a comparison; they should be treated equally by the regressor. \n",
    "\n",
    "\n",
    "Let's take care of this now while we can.\n",
    "\n",
    "First, let's take care of the One-Hot Encoding. We only need to apply this to the categorical variables."
   ]
  },
  {
   "cell_type": "code",
   "execution_count": 87,
   "metadata": {
    "collapsed": false
   },
   "outputs": [],
   "source": [
    "from sklearn.preprocessing import OneHotEncoder\n",
    "\n",
    "# Get the categorical features only\n",
    "\n",
    "categDF = salaryDF[['Race', 'College', 'Rank', 'SexCode', 'DeptCode']]\n",
    "encoder = OneHotEncoder() # Create the encoder object\n",
    "categDF_encoded = encoder.fit_transform(categDF).toarray() # want it as numpy array since it is not too large \n",
    "                                                            # tree algorithms in scikit-learn can't use sparse arrays yet    "
   ]
  },
  {
   "cell_type": "markdown",
   "metadata": {},
   "source": [
    "Now that all of our categorical variables are in zeros and ones, let's add our last feature to the numpy array to create our final feature matrix."
   ]
  },
  {
   "cell_type": "code",
   "execution_count": 88,
   "metadata": {
    "collapsed": false
   },
   "outputs": [],
   "source": [
    "yrs_worked = salaryDF['YearsWorked'].values\n",
    "\n",
    "# Now combine this with the rest of our features.\n",
    "\n",
    "import numpy as np\n",
    "\n",
    "x_final = np.c_[yrs_worked, categDF_encoded]"
   ]
  },
  {
   "cell_type": "markdown",
   "metadata": {},
   "source": [
    "Let's get our salaries as the target. Then, we can create our train/test split."
   ]
  },
  {
   "cell_type": "code",
   "execution_count": 89,
   "metadata": {
    "collapsed": false
   },
   "outputs": [],
   "source": [
    "y_final = salaryDF['BudgetedSalary'].values\n",
    "\n",
    "from sklearn.cross_validation import train_test_split\n",
    "x_train, x_test, y_train, y_test = train_test_split(x_final, y_final, test_size = 0.2, random_state = 0) \n",
    "# We now have our train/test splits"
   ]
  },
  {
   "cell_type": "markdown",
   "metadata": {},
   "source": [
    "What about the feature scaling I talked about earlier?\n",
    "\n",
    "What a lot of people do is scale the features first, then split into test and training sets. It's easier to do, but this is a bad habit.\n",
    "\n",
    "DO NOT APPLY THE SAME SCALING TO YOUR TRAINING AND TEST SETS! This is a very common mistake and terribly easy to make. The reason you don't do this is because otherwise the mean and standard deviation being calculated for the scaling includes data from the test set (which in theory you aren't supposed to have access to when building the model!)\n",
    "\n",
    "Instead, what is more \"fair\" is to first scale your training set only. Then, apply the exact same scaling to the test set, using the training set average and standard deviation instead. This way, the model won't be unfairly biased by information in the test set. Let's do that here."
   ]
  },
  {
   "cell_type": "code",
   "execution_count": 90,
   "metadata": {
    "collapsed": false
   },
   "outputs": [],
   "source": [
    "from sklearn.preprocessing import StandardScaler # Get the scaler class\n",
    "\n",
    "scaler = StandardScaler() # Create our scaling object\n",
    "x_train[:,0] = scaler.fit_transform(x_train[:,0]) # Replace our YearsWorked column with the scaled values.\n",
    "x_test[:,0] = scaler.transform(x_test[:,0]) # Apply same transformation to our test values."
   ]
  },
  {
   "cell_type": "markdown",
   "metadata": {},
   "source": [
    "You don't need to apply feature scaling to the target, however, so our work is done. Now we have our arrays ready to go in the proper format."
   ]
  },
  {
   "cell_type": "markdown",
   "metadata": {},
   "source": [
    "## Creating Our Models"
   ]
  },
  {
   "cell_type": "markdown",
   "metadata": {},
   "source": [
    "Similar to the first project I showed regarding classification of movie reviews, we are going to use GridSearch from scikit-learn to help tune our models.\n",
    "\n",
    "The first model we are going to try to start with is linear regression with L2 regularization (also known as [ridge regression](http://scikit-learn.org/stable/modules/generated/sklearn.linear_model.Ridge.html#sklearn.linear_model.Ridge)). There is a built-in normalization (feature scaling) option, but since we also have categorical variables that are one-hot encoded, this wouldn't work very well. \n",
    "\n",
    "Let's set up a ridge regressor with 10 different values for the regularization parameter (alpha). You will need to wait about 30 seconds or so for all of the grid search runs to be completed."
   ]
  },
  {
   "cell_type": "code",
   "execution_count": 91,
   "metadata": {
    "collapsed": false
   },
   "outputs": [
    {
     "name": "stdout",
     "output_type": "stream",
     "text": [
      "Mean absolute error of ridge regression was:\n",
      "20088.8770539\n"
     ]
    }
   ],
   "source": [
    "from sklearn.grid_search import GridSearchCV\n",
    "from sklearn.linear_model import Ridge\n",
    "from sklearn.metrics import mean_absolute_error\n",
    "\n",
    "ridge_params = {'alpha':np.linspace(1,10,10)} # Try alpha values ranging from 1 to 10.\n",
    "\n",
    "ridge_model = GridSearchCV(Ridge(), ridge_params, scoring = 'mean_absolute_error', cv = 20) # Run a grid search on all 10, with 20-fold\n",
    "                                                                                            # cross-validation\n",
    "\n",
    "\n",
    "# Fit the model. \n",
    "\n",
    "ridge_model.fit(x_train, y_train)\n",
    "\n",
    "# See how well it did.\n",
    "\n",
    "y_true, y_pred = y_test, ridge_model.predict(x_test)\n",
    "\n",
    "print 'Mean absolute error of ridge regression was:'\n",
    "print(mean_absolute_error(y_true, y_pred))"
   ]
  },
  {
   "cell_type": "markdown",
   "metadata": {},
   "source": [
    "Okay, now we have a model as a baseline to compare against. Typically, [Gradient Boosted Regression Trees](http://scikit-learn.org/stable/modules/generated/sklearn.ensemble.GradientBoostingRegressor.html#sklearn.ensemble.GradientBoostingRegressor) are the go-to solution for any regression problem that doesn't involve a large number of training examples/features (greater than 100,000 or so). They allow non-linear interactions between features that linear regression can't do, so it tends to be more accurate. \n",
    "\n",
    "However, it requires a LOT of tuning for maximum optimization. I spent a fair amount of time trying several different settings to see what worked the best, so it will save us some time here. Let's now use the GBRT model and see if it improves our mean absolute error. This is a more complicated model than ridge regression, so we will have to wait longer for it to be finished."
   ]
  },
  {
   "cell_type": "code",
   "execution_count": 92,
   "metadata": {
    "collapsed": false
   },
   "outputs": [
    {
     "name": "stdout",
     "output_type": "stream",
     "text": [
      "Mean absolute error of GBRT was:\n",
      "20249.1455361\n"
     ]
    }
   ],
   "source": [
    "from sklearn.ensemble import GradientBoostingRegressor as GBRT\n",
    "\n",
    "gbrt_params = {'learning_rate':[0.01], \n",
    "                'max_depth':[6],\n",
    "                'min_samples_leaf':[3],\n",
    "                'n_estimators':[1000]} \n",
    "                # Found these after a lot of experimentation with gridsearch. You can try tuning these to see what results you get.\n",
    "    \n",
    "model_gbrt = GridSearchCV(GBRT(random_state = 0), gbrt_params, scoring = 'mean_absolute_error') \n",
    "                                                  # Turned off CV since I already tested this\n",
    "                                                             \n",
    "model_gbrt.fit(x_train, y_train) \n",
    "\n",
    "y_true, y_pred = y_test, model_gbrt.predict(x_test)\n",
    "print 'Mean absolute error of GBRT was:'\n",
    "print(mean_absolute_error(y_true, y_pred))"
   ]
  },
  {
   "cell_type": "markdown",
   "metadata": {},
   "source": [
    "Well that is a little surprising! This is an unexpected result. I tried a lot of different parameters and nothing seems to improve over the ridge regression model. Let's try another model: [random forests](http://scikit-learn.org/stable/modules/generated/sklearn.ensemble.RandomForestRegressor.html). These tend to not work as well for regression problems, but since our GBRT model didn't improve upon the benchmark, let's give them a try. \n",
    "\n",
    "Fortunately, these don't require as much tuning and tend to run faster as they can be run in parallel if you have multiple cores. "
   ]
  },
  {
   "cell_type": "code",
   "execution_count": 98,
   "metadata": {
    "collapsed": false
   },
   "outputs": [
    {
     "name": "stdout",
     "output_type": "stream",
     "text": [
      "Mean absolute error of RFR was:\n",
      "20329.1548981\n"
     ]
    }
   ],
   "source": [
    "from sklearn.ensemble import RandomForestRegressor as RFR\n",
    "\n",
    "rfr_params = {'min_samples_leaf':[1,3,5],\n",
    "              'n_estimators':[100,300,500]}\n",
    "\n",
    "model_rfr = GridSearchCV(RFR(random_state = 0), rfr_params, scoring = 'mean_absolute_error', cv = 5, n_jobs = -1) \n",
    "# n_jobs = -1 allows you to parallelize grid search to the number of cores on your machine\n",
    "                                                                                                          \n",
    "\n",
    "model_rfr.fit(x_train, y_train)\n",
    "\n",
    "y_true, y_pred = y_test, model_rfr.predict(x_test)\n",
    "\n",
    "print 'Mean absolute error of RFR was:'\n",
    "print(mean_absolute_error(y_true, y_pred))              "
   ]
  },
  {
   "cell_type": "markdown",
   "metadata": {},
   "source": [
    "No, Random Forests didn't improve our mean absolute error. We need to stick to the ridge regressor. \n",
    "\n",
    "Now that we know which model works the best, it would be nice to create a function that allows us to try different input combinations for the model. We will work on this in the next segment."
   ]
  },
  {
   "cell_type": "markdown",
   "metadata": {},
   "source": [
    "##Function Implementation"
   ]
  },
  {
   "cell_type": "markdown",
   "metadata": {},
   "source": [
    "We are now going to create a function to output the results of our model for any combination of parameters we choose. The function will request inputs of race, years of experience, rank (assistant, associate, full), sex, and the department. \n",
    "\n",
    "The function will automatically find the associated college from the lookup table we loaded earlier, recombine our inputs and change them to the proper format. Then, the final predicted salary will be displayed. "
   ]
  },
  {
   "cell_type": "code",
   "execution_count": 99,
   "metadata": {
    "collapsed": true
   },
   "outputs": [],
   "source": [
    "def salary_prediction(race = 'W', yrs_experience = 5.0, rank = 'AST', sex = 'M',\n",
    "                      dept = 'English'):\n",
    "    '''\n",
    "    This function will allow you to predict a faculty member's salary based upon the parameters entered.\n",
    "    \n",
    "    Inputs:\n",
    "        Race (B for black, W for white, A for Asian, and H for hispanic)\n",
    "        Years of Experience (input as a decimal, such as 5.2)\n",
    "        Tenure rank (AST for assistant, ASC for associate, and FUL for full)\n",
    "        Sex (M for male, F for female)\n",
    "        Department (Enter as a string. Function will convert to all capital letters and find\n",
    "                the college and department code automatically from the lookup table.\n",
    "                If there is more than one matching department from the title you entered,\n",
    "                you will given the names and asked to enter again, being more specific.)\n",
    "                For parts of words that are in multiple departments exactly (such as BIOLOGY),\n",
    "                use the regex format ^BIOLOGY instead.\n",
    "    \n",
    "    Output: Predicted annual salary based on our best model (ridge regression).\n",
    "    '''\n",
    "\n",
    "    # Create empty array for storage.\n",
    "\n",
    "    info_store = np.zeros(5)\n",
    "\n",
    "    # Load our dicts.\n",
    "\n",
    "    race_dict = {'W':1, 'B':2, 'H':3, 'A':4}\n",
    "    rank_dict = {'AST':1, 'ASC':2, 'FUL':3}\n",
    "    sex_dict = {'M':0, 'F':1}\n",
    "\n",
    "    # Force our race, rank, sex, and department inputs to all capital letters. This makes it easier in case someone enters\n",
    "    # lower case instead of upper.\n",
    "\n",
    "    race = race.upper()\n",
    "    rank = rank.upper()\n",
    "    sex  = sex.upper()\n",
    "    dept = dept.upper()\n",
    "    yrs_experience = np.array([float(yrs_experience)]) # Force to array type.\n",
    "\n",
    "    # Now find the appropriate college and department codes from the lookup table defined outside of the function.\n",
    "\n",
    "    dept_info = lookup_table[lookup_table['Dept'].str.contains(dept)]\n",
    "\n",
    "    # Loop back and request additional input if more than one department is found as an additional feature.\n",
    "\n",
    "    while dept_info.shape[0] > 1:\n",
    "        print 'More than one department found. Matching departments include:'\n",
    "        for i in dept_info['Dept']:\n",
    "            print i\n",
    "        dept = raw_input('Please enter a more specific department:')\n",
    "        dept = dept.upper() # Fix possible bug when person types it in again.\n",
    "        dept_info = lookup_table[lookup_table['Dept'].str.contains(dept)] # Try again.\n",
    "    \n",
    "    if dept_info.shape[0] < 1:\n",
    "        print 'No department match found. Try broadening the search (use fewer letters)'\n",
    "        return # Exit early.\n",
    "    \n",
    "     # Now store the appropriate values in our previously empty array.\n",
    "\n",
    "    info_store[0] = int(race_dict[race])\n",
    "    info_store[1] = int(dept_info['College'])\n",
    "    info_store[2] = int(rank_dict[rank])\n",
    "    info_store[3] = int(sex_dict[sex])\n",
    "    info_store[4] = int(dept_info['DeptCode']) # Get the numerical equivalent of our department from the lookup table.\n",
    "    \n",
    "    # Anyway, now that we have the inputs, combine them together as a test example for the model to predict.\n",
    "    # Use our scaler from the training set defined earlier in the progam.\n",
    "    yrs_experience_scaled = scaler.transform(yrs_experience)\n",
    "\n",
    "\n",
    "    # Now one-hot encode the categorical features the same way.\n",
    "\n",
    "    combined_onehot = encoder.transform([info_store]).toarray()\n",
    "\n",
    "    # Merge them together.\n",
    "    \n",
    "    # Merge them together.\n",
    "\n",
    "    final_test_example = np.c_[yrs_experience_scaled, combined_onehot]\n",
    "\n",
    "# Now predict with this.\n",
    "\n",
    "    pred_salary = ridge_model.predict(final_test_example)\n",
    "    print 'The department you chose was:', dept_info['Dept'].values[0]\n",
    "    print 'Your predicted annual salary is:', '%.2f' % pred_salary[0]\n",
    "\n",
    "# End of function"
   ]
  },
  {
   "cell_type": "markdown",
   "metadata": {},
   "source": [
    "Now let's give it a few tries (feel free to experiment with this yourself). \n",
    "\n",
    "Our first potential faculty member is a white male with a little over a year of experience. He is at the assistant professor rank in the Meteorology department. What is his expected salary?"
   ]
  },
  {
   "cell_type": "code",
   "execution_count": 100,
   "metadata": {
    "collapsed": false
   },
   "outputs": [
    {
     "name": "stdout",
     "output_type": "stream",
     "text": [
      "The department you chose was: METEOROLOGY\n",
      "Your predicted annual salary is: 78352.70\n"
     ]
    }
   ],
   "source": [
    "salary_prediction(race = 'W', yrs_experience = 1.2, rank = 'AST', sex = 'M', dept = 'METEO')"
   ]
  },
  {
   "cell_type": "markdown",
   "metadata": {},
   "source": [
    "How would this change if I were the exact same candidate, but a woman instead?"
   ]
  },
  {
   "cell_type": "code",
   "execution_count": 101,
   "metadata": {
    "collapsed": false
   },
   "outputs": [
    {
     "name": "stdout",
     "output_type": "stream",
     "text": [
      "The department you chose was: METEOROLOGY\n",
      "Your predicted annual salary is: 73079.99\n"
     ]
    }
   ],
   "source": [
    "salary_prediction(race = 'W', yrs_experience = 1.2, rank = 'AST', sex = 'F', dept = 'METEO')"
   ]
  },
  {
   "cell_type": "markdown",
   "metadata": {},
   "source": [
    "It seems there is a slight gender gap for female professors in this case. \n",
    "\n",
    "What if we wanted to be a Finance professor as a white male with the same amount of experience?"
   ]
  },
  {
   "cell_type": "code",
   "execution_count": 102,
   "metadata": {
    "collapsed": false
   },
   "outputs": [
    {
     "name": "stdout",
     "output_type": "stream",
     "text": [
      "More than one department found. Matching departments include:\n",
      "FIN AND ADMIN\n",
      "FINANCE\n",
      "Please enter a more specific department:FINANCE\n",
      "The department you chose was: FINANCE\n",
      "Your predicted annual salary is: 169270.63\n"
     ]
    }
   ],
   "source": [
    "salary_prediction(race = 'W', yrs_experience = 1.2, rank = 'AST', sex = 'M', dept = 'FIN')"
   ]
  },
  {
   "cell_type": "markdown",
   "metadata": {},
   "source": [
    "That is more than twice as much! Let's try one of the lower paying departments, such as International Studies."
   ]
  },
  {
   "cell_type": "code",
   "execution_count": 103,
   "metadata": {
    "collapsed": false
   },
   "outputs": [
    {
     "name": "stdout",
     "output_type": "stream",
     "text": [
      "More than one department found. Matching departments include:\n",
      "INT MED - S&W\n",
      "VET INTEGRATIVE BIOS\n",
      "INTERNATIONAL STUDIE\n",
      "Please enter a more specific department:INTERNATIONAL\n",
      "The department you chose was: INTERNATIONAL STUDIE\n",
      "Your predicted annual salary is: 60344.33\n"
     ]
    }
   ],
   "source": [
    "salary_prediction(race = 'W', yrs_experience = 1.2, rank = 'AST', sex = 'M', dept = 'INT')"
   ]
  },
  {
   "cell_type": "markdown",
   "metadata": {},
   "source": [
    "Our predicted salary is less than in the Meteorology department, which we would expect. Feel free to try others in the notebook if you are following along.\n",
    "\n",
    "I found through trial and error that the predictions tend to be less accurate for younger professors (at least comparing to the examples in the database) than for older, more established ones. This is because there are fewer young professors the model can train on, so you have to treat these salary predictions more skeptically. "
   ]
  },
  {
   "cell_type": "markdown",
   "metadata": {},
   "source": [
    "##Ideas for Improvement and Summary"
   ]
  },
  {
   "cell_type": "markdown",
   "metadata": {},
   "source": [
    "In this notebook, we took an interesting external dataset and explored it in detail. A fair amount of work was necessary to engineer our features, but we were able to use them afterwards for exploratory data analysis purposes in R. We shaped the data using plyr and visualized it using ggplot2. \n",
    "\n",
    "Once our EDA was complete, we built a regression model for predicting salaries and tried a few options. Then, we wrote a function to implement the model in an easy way. \n",
    "\n",
    "Of course there were some steps missing since this is just an example, but this is the basic Data Science workflow from start to finish! \n",
    "\n",
    "Possible ideas for improvement:\n",
    "\n",
    "- Include more data from other nearby public universities (or at least ones of similar ranking). This can be tricky, however, because different universities have different college structures, so we would have to design new features again. \n",
    "- Try to implement the final prediction function inside of a website by using something such as [Flask](http://flask.pocoo.org/) from Python. The prediction model could be exported via pickling and using [sklearn's joblib class](http://scikit-learn.org/stable/modules/model_persistence.html). "
   ]
  }
 ],
 "metadata": {
  "kernelspec": {
   "display_name": "Python 2",
   "language": "python",
   "name": "python2"
  },
  "language_info": {
   "codemirror_mode": {
    "name": "ipython",
    "version": 2
   },
   "file_extension": ".py",
   "mimetype": "text/x-python",
   "name": "python",
   "nbconvert_exporter": "python",
   "pygments_lexer": "ipython2",
   "version": "2.7.6"
  }
 },
 "nbformat": 4,
 "nbformat_minor": 0
}
