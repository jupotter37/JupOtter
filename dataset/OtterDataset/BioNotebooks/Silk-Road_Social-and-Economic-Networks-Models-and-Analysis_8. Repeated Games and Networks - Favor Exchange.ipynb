{
 "cells": [
  {
   "cell_type": "markdown",
   "metadata": {},
   "source": [
    "#  Repeated Games and Networks - Favor Exchange\n",
    "\n",
    "So, we've been talking about games on networks and now what we're going to do  is sort of wrap things back and in particular we'll be looking at a very per  special application in order to talk about this that a favor exchange.  But the idea here is going to be to understand the co-determination of  network structure and behavior. So the network structure affects what  behavior goes on, but the behavior actually affects what the link structure  looks like. And so here, when we talk about favor  exchange, the links are actually going to be defined by the fact that people are,  are trading favors. And so the behavior and the, the network  structure are, are going to be determined in one equilibrium notion together.  \n",
    "\n",
    "\n",
    "\n",
    "- How does successful favor exchange depend on/influence network structure?\n",
    "\n",
    "- Co-determination of network and behavior\n",
    "\n",
    "- Jackson, Tomas Rodriguez Barraquer and, and Shu Tan.\n",
    "\n",
    "- Many interactions are not contractible, and need to be self-enforcing\n",
    " -  the idea here is that when you talk about favor exchange  a lot of different kinds of relations, interactions by  people are not contractable. If someone comes in to ask to borrow a  book, or CD from you, or something you don't write down a contract,  generally you lend it to them and you anticipate that the reciprocation and repeated interaction means that they'll return the favor at some  point in time. so things are going to be self-enforcing. And in particular, we'll be  looking at different kinds of favor exchange, borrowing and lending money,  kerosene, rice and so forth in the Indian villages. \n",
    " \n",
    "- How does successful favor exchange depend on/influence network structure?\n",
    "\n",
    "![](https://lh3.googleusercontent.com/ePB5T-7hG_xDHDDBJfE2G9ovjLcZNp2KlEx5id1FdfJoyHNnZIFO9TxqW3dyXhZdziVN9pD3j08vv6b-VDQmCIpLwUksG2V63kzG-3hrXnH4NeXPkT60hasHcERlZxadjTqsMTrDkU1MgP_1HJ3BOZ8RvlJOqFIpRaYD3mUuU42v_KF1sBbSwFGy2ssx9bHbB7hDwQj8tqQRozRJGBXbZc_SzHHk6MsU8rcTts1I2WPrPYJvpBJtz27e6DKybXzVcMxqWXC08WfW16eFPT2vpVyQCuEWOx0ZLlrvf4WWDS7bhJ8kCS4GsGCaSssJfTF6-d3imciUe0A4QFH_PZsKY3XdiZSYdJWMPDtRS_GT_XVJyzYP9jGPkLBInsLlNns2t_i3A58r2LTal3MNgEldviKL4fJPmaUp72rTIoW0rnn0l03970XH8o7EfSM48tFnxtRIatH8I6iNj71nJ5zzed1oUx0ijYsWsDzPtDkvL6yItgkcUOJiJBJrJfGo8kAJsrEN-GkJE41NJYjomeAwGzNcMIyEZP5D69reEcfB7_d-URRRRd3Q2Y9g5lZl0gFu55Nj7LTk27LtkYcL-FdYwwVU5mxDpaiNqgmbK9NQlCH4iXfWX_tiOLcCe4AMGyahxTHomVCCdmbWWPg3JfdtdAPHK0-gwPTDfzrp0A0CPv5whagEpWonO1Dq=w404-h338-no)\n",
    "\n",
    "![](https://lh3.googleusercontent.com/KatU7Yl1Pogev0TUtsc4UI2ua-X8GEXniT-2qDw6FojsvDHsJL-89UZbIc9dUYeJ1AiIxB0Q-K7073M6KNwI0d8H89EKVwgfQoyqNwowRL3jr_T8SrzM950SwSkfBGWBLAtLj6bI9oGq1qMmTBIZFeDrS77rCiufpiCfeFdBUtXj9hvNoDHLyG1_Z8axC1ZCJFh3SyBYPzUDHlcGREikER-bNIgeEyrQ_Ibm4cTUS6LH53_il_0pR432s80_dk0WeW_tVYEitdzB9pdZXBfjRVIGrA5Yqs9T9GyxYXwuL9ozS1029nDemn5951zfajkzBIyXeEcvEQcMsSq1e1gQKcQHndIRSn2LI48t33ANoXNNUqqtm1A8ZyE9hMAr9n1KJGN1_YzS8KcmQEPaOR5rL_8K6KS7udLFg3d01Vj2l3yNlfsv18j4xsvC2HN6tkWzkT2KB3VOgjPfh9EnLfAtHN6A3dtGKHJgmO_RyO0PwJHd560_OwUc7WxdtVWZ3cWuABC_YcNRFJVkySSngenHAzNCwCaLu9_A17IZ-dOsKW8EE6_BqNQMfvehEKn5VmxtiVQsQ8zr2q-MSEPrwOuAaY_X0xFby5ieF1Aqz5YiTXVidVylw-99PgNR1q1QKQ1rBwjljJK_ib6Rnnx7tWb-qTcWRis5dFFier4lefI_Fq4T6qd382Kl_arr=w923-h415-no)"
   ]
  },
  {
   "cell_type": "markdown",
   "metadata": {},
   "source": [
    "# Social Enforcement\n",
    "\n",
    "- Social capital literature's (e.g. Coleman, Bourdieu, Putnam...) discussion of enforcement has been interpreted as high clustering/transitivity\n",
    " - have talked about how enforcement depends on the structure of interactions and the ideas, you know, the ones in strong positions then that leads to better behaviors. And one interpretation of that has been  in terms of clustering. So the idea of it, and actually this was  best articulated by Coleman in a paper in 1988,\n",
    "\n",
    "![](https://lh3.googleusercontent.com/F8fhVsxv9CC1PNbS6k2A9Cfj_zUtHnX9h-KtGOtYkBxi_NKe-keBi5WLSIFkQHk6fgAMO7NP4Yyr1tSIfCkisoKHwnYEVGaMI9k0h1VBOlMPQLxZYQ03WCdALY8Oi1hLfBm--1AQTJ7zY_5HDxOu6_vY2O2aqZWX-DHtNXAB53ypYbMAzhBc9ifAGQeTLVa6hkhVUezCyPwtVvlEgDDfJeIQg2J5HsFg_vjNbagS-cFqFpeDY0UJ2DtmNJBJGHgZGBWWunW3SkdwwthOAiq3XUGP-YRDLpqDZoNl-NAeKX26GUgBUf67DwjOv1K-mh48aeRnQtYbpmrouEJK9A5pQLQ6NrOTu95t2TWmaUamLhSnNuOiM0UzEeQjtBSJhGsu-FZ4Gx992L8BFGl9b7-sgmqjVKiWLM_Sr_Hk4FTyEng_i8P3SXnVgW2JQ2rtxZYaC1YI2kTtg41YMkQb-doMqd-i99fHrNLv1V_WFrwYXwT9yW8qmMdLiZCPSHqOq49dPjZod5EY5db_vKkPUJ_gY1za5DAmDQm03wl2k7f6vGPijxv9KUwbGF8RBzVqw60SUaVYy-9wni4WelfMUBMufrN_rLm0_We92A72yioGqzWLYHz9My72RSoow0VUEeH3I-H1FHcDA9xOaK2rpep_SjNJeHA0_qLT6Y86HrZeVzJwdI7LDa029duF=w306-h249-no)\n",
    "\n",
    "\n",
    " - if we look at a given individual i And we sort of ask,  what are the incentives of i to behave well in a society?  Coleman's point was that if j and k, if, if two of i's friends are, know each  other and are friends with each other, then that helps them put pressure on i  and, and can help them enforce behavior and make sure that i behaves\n",
    "\n",
    "\n",
    "- If we model social pressure and enforcement what comes out?\n",
    "\n"
   ]
  },
  {
   "cell_type": "markdown",
   "metadata": {},
   "source": [
    "# High? Clustering Coefficients\n",
    "\n",
    "![](https://lh3.googleusercontent.com/PVrdfOpeFuOg1KwyPcL2vlXihN03bX3k0sQCffSIOeg9VLbRmSZBQAbhjKm1kAUlqrmtSIRHweKFI_LG3Wx5_SfCSgLW_-Gx8EjqV54XMezlvqUtJF4nAgibNUdUvZxequ3gdTvFUMh3hmItqlR6O30BDdASL-I8Q2eGC79mNN45BFzXnnnkpGkDK8gIAuaHBKbfRUp1yDNtBtwe1C-vr02b6haoezMElvIY3NrKbsLXOGecrFGLWmEVDt5lPHcrq7wellorfZtAb3h_JfomGsi7PUbUVKqts-bt6kRLHsaWvhsX74IumO1hhJq6NRjjXGf5QKgFI4N9wF2USR2qQLcmg9Oe1p8ps-VTfydBsn3KyUIqVbShm_JfO-69dIOBo8LOBO0FVW6dXWdmspUHMcSKuF8Eipfj8DUq7n4iMvzEa9UtNbKytwUkYlXPqik8SPER9rZlptCSx9465uukjkL8p9TGY9P0nv_llY3tt6RNB7IVYBqzJlbf_6fqjhlmLkWVIVwTcBBrFbyqH0B04r6-blXBvkYi9cpvHXwSsFRxMsEJew4nkDa-PP0sEGBV3c98munqZIl8iBehCWttYgdT9DO2vR6TuDKUGM_j88tIJatv2CQHtNmENAOtfm8pKwpNlH4Z20tvxCvYZHe9Jvm1rvu3Xcw5WZwiHqH6V1vmp4UMmnEinx6I=w359-h210-no)\n",
    "\n",
    "- Prison friendsships\n",
    " - .31 (MacRae 60) vs .0134\n",
    " \n",
    "- co-authorships\n",
    " - .15 math (grossman 02) vs .00002\n",
    " - .09 biology (Newman 01) vs .00001\n",
    " - .19 econ (Goyal et al 06) vs .00002\n",
    " \n",
    "- www\n",
    " - .11 for web links (Adamic 99) vs .0002\n",
    "\n",
    "\n",
    "When we looked at clustering coefficients earlier in the course, you know we found  that these clustering coefficients tended to be quite high relative to a random  network, and so the idea was that there was some structure going on in terms of  clustering that was really being represented in the data. "
   ]
  },
  {
   "cell_type": "markdown",
   "metadata": {},
   "source": [
    "# Favors\n",
    "\n",
    "so what we're going to do here is actually explicitly model favor exchange,  and then look at those networks and try and understand what will come out, what,  what's the predicted structure, according to the model?  And then does that relate to clustering, does it relate to something else, what,  what kind of sense can we make of things? We're going to work with a really simple  model. you can enrich this substantially and,  and we actually do in the paper we wrote, so there's a much richer version of the  model there\n",
    "\n",
    "- $v$: value of a favor\n",
    "\n",
    "- $c$: cost of a favor, v > c > 0\n",
    " - in this simple vanilla version basically  favors are worth some value v they cost some value c.  it's socially valuable to do a favor so the value of getting a favor is more than  the cost of doing it. So it makes sense for society to be doing  favors for each other, the person who needs to borrow something, really needs  it more than the person who's got it and so there is a net positive value for  lending something from one person to another or doing a favor for a given  individual. \n",
    "\n",
    "- $\\delta$: discount factor, 1 > $\\delta$ > 0\n",
    " -  So, people will look at values over time and today, a favor today is worth more  than a favor tomorrow, which is worth more than a favor and so forth, so each  day, the value goes down by some delta, so a favor a week from now is worth delta  to the seventh, and so forth. \n",
    "\n",
    "- $p$: prob. i needs a favor from j in a period\n",
    " - we'll also have these favors and the needs for favor arise randomly.  So there will be p, a probability p that some individual i needs a favor from j in  a given period. And generally we're going to treat this  as, instead of having multiple favors all needed at once.  We'll treat this P as being very small so that the probability that more than  favor's needed in a given period is basically negligible and so, we'll look  at the favor arrival process. And so, you can think of this as a  `Poisson`(?) arrival process with very small time windows. \n"
   ]
  },
  {
   "cell_type": "markdown",
   "metadata": {},
   "source": [
    "# Repeated Game of Favor Exchange\n",
    "\n",
    "- Favor needs arises at random to (at most) one of two agents at a time.  \n",
    "\n",
    "- Other agent decides whether to provide favor\n",
    "\n",
    "- If provided, value $v$ to receiver, $-c$ to giver. Otherwise, value 0 to both"
   ]
  },
  {
   "cell_type": "markdown",
   "metadata": {},
   "source": [
    "# Favor Exchange\n",
    "\n",
    "- Favor exchange between two agents\n",
    "\n",
    "1. expected value of relationship per period:\n",
    "$$pv - pc$$ \n",
    "\n",
    "2. value of **perpetual** relationship:\n",
    "$$p(v-c)/(1- \\delta)$$\n",
    "\n",
    "$\\frac{1}{1-\\delta} = 1 + \\delta + \\delta^2 + \\delta^3 + ... $\n",
    "\n",
    "3. value of future relationship:\n",
    "$$c < \\delta p(v-c)/(1-\\delta)$$\n",
    "\n",
    "$c$: current cost"
   ]
  },
  {
   "cell_type": "markdown",
   "metadata": {},
   "source": [
    "# Network: Social Capital - Ostracism\n",
    "\n",
    "Three angents (a \"triad\"):\n",
    "\n",
    "Ostracize agent who does not perform a favor\n",
    "\n",
    "only need \n",
    "\n",
    "$$c <2 \\delta p(v-c)/(1-\\delta)$$\n",
    "\n",
    "![](https://lh3.googleusercontent.com/1tq7iv5BmKsMcRcWdL7QO5qfD0Mc1-YrtjGnJodlKnk5W04EfyE9f0gyhsXyEfYmZVQJJnHjopeeGqizwAHkI-BaC3MkeA4SiYcrzNrApP4zuGXOZAPDPbwGKRP4fO7d04gwuApnI89GX3jeRLxMi_niCU5GXvMbkfAPOei7zK9XRTr0WoR_WFrVV3DkBsVIMzLXBoLLVM9Hn5KxtKg5xoEJkqueDFzZ0C50QM9vWCTX74y_RNT8CQaPz6IpEOc38Bq4-PQNBDZJ4qGiIO7QtF5XrD-v7ng_6SJeDV3v1IsuZ5ySk2u5yfOqZtP_pcRvu4Av-ElU0MLdd_9e_i-pAa74Ybm6aUaD54fDlX8AJM38lb9AmQjpuMRANGc6Ziip9N2HVg7guwOlBkVg4R_YHGw5tpgSrGLOd9gZB7OKAOCt-X6eVvAS-FTff-vtAo3Fu9pU-04yDNdpzGPRvx9mu40rBVD3yqaOTYjO3kzopobBfkgGJVoWa7vHqdhjZ97VrnIDlzOt0kMB8lSPICiPbF1SpLxGub2rZypM81MbFWqWMOivpp8nGNI4IkQzngcMbvCdHDhFYYDTIvLFQVuxx1p9IRShZApqpPbr4MUczykeDmDIJLWmMca0rOa4lPg61o0bOi0mY8eUznraTmZIR1pZFHYwzwWyccheYDhtjRpIjncqW4MYZOVv=w342-h302-no)\n",
    "\n",
    "![](https://lh3.googleusercontent.com/Ovd1mnJLXYNHGy6eKI1rz_XcHEH7-mkqux8v98C7WM2lqeMl_L_vvic-09yej3oJEv6GyrwZE0xRl3xrAaLhopbCbDL14mOWORPnSkmz3VpG0ra6xtuBS8wO5vXhUqGhtSlK9JUZSfxbzbPius0UjhEO370lZ4Y1Lm8cfjitKZcCgW9dGl4y1YZmXKXlN2dUa4AlWhVbINq_d2iSo2b6mvNHjwUudIhapKJ7OQMPQ7WsXft4ksRyyqNZ867aJiFdBNpveOhXEwDBZ2TUMJlBpsF6tFJ39cg3oTWNvJykaE-qhsmuGzbRcT7oIEgYiQg1kpG4QMd9HWEym0juoD5L58y4tvJOVtO1L9qfqFNda4qtxzx2IsoilCqQlHGnQ2gaVY8_N9zO4jfgUcBzA6c8L_bchmy85cft0Ni3Q6-BlQB97bezP1C3IhdoORYZfVoDZXy0Hvi5C8vXPPxK4qcWB8VPLtcEo4Y_Quu7jY-WLQYVvkGysEnDh--NHeVycCl3fr3eGIoNYwkcMRyR09cNvuGWbRj43_lIS7dUDDtOeo6HQGLhtowVjJ3SN_QHlU2A6dz1lozO00Vrht_Jzkqou7hhLJefJQOsNWdsWxyt7iTn3_SEDSW30OgItZ8I2gFMNgM7c8w0LEpy-_HXHl7ipSskBNwq-JqwpSatsOfWFIIqSzSwYg-Dwfz5=w330-h314-no)\n",
    "\n",
    "![](https://lh3.googleusercontent.com/ZQNQU6E8Z0bowkaNbvrQMbCK-7VIsGfFNQdSS-98Hxl30WUeW3d5oGD6haOEXj0j-L0d-dK39n9iU_aCbBMnWvvBBdNdVh0P6cA_uID05Yr9miaRl-JZWsOd7TXECPAt4FPOFcyDe3uJObdE6b789VPVxnp0yQ3WP2mBbKSJZUUlOahM4XQQES5zZnIZgaZj33euYDyddHC4yuMv_EnytRzXZCpNHIXGrtGe32sRhyT9iQh0V8752HVubATDp_JfbKr94xBtAyHjpWPzEnit76bGf3fz2jCLCm-GMQ6s0D_EPEZ0t0m18GMcCqkieqFkQ4md_6w34fqjjH1S-m74KMD5AI25RQr6p5Dkl1uHeZ8uTcuPqgbRYiGx0TG8Hwk-6cIqAbH8P8gLDgqVNsAGUu6JwLeSoiL58xfdcqkFd1LpuZNuUUigABDavW2mfgGVF2-5bEm7plaKAUcKGgkf2MEATaYDY2AJNTP3JNn5fi-SesONHyUdcoona75e2DhVsd2TCAXA6lm2tG7OE29cM8uuvhwf5LPQX7EDjZ8wUyk6s9rlRtkaw75CEJ_kB1VA_7xWMcI4t8UgkZVNp4nW32vNVoCnDp3jtT9L2vN-fDd2LOAQ2OwRzWPQOf3BciuQFG-T6ileEY815xoGH4OoQbJEKwTy2pGsltZGxfRwPrU4DNtHqxOzKHfu=w346-h312-no)\n",
    "\n",
    "![](https://lh3.googleusercontent.com/W8vC4gg6iHNm8cBvxxsZlgxbbtPu0-uWFUT1m3zf2ERRBJUBaemk9Ztz1om-MrzFfYvW6V6tYShl7PlwuFPNgd3BfTjWBGkd9CrNsRccd_RfhpSQVi1xtY0NdvO9nimHoCXy6cPaslCL4B2QR-pFAIXWUXxOXpCp9HKEq_7l_NRSXrWKPcrPvczw50lu06ZT82NcioGUqRxGL3Kti9M4nT4_kpxARnxo1rT2Ccw-9BblS9swkC8zJZIR42G7WbmDq0faBURE6liRqWtHWqcXRuibjNFPTe8WiQGrevMJc5qkUQ4Qdmlmy7b14aVQOt1f6MPAvl4nVcV6HfnaHyi0NfV1ta_17H1sqG-mqbBrFr9xtC30nebL2v1JdIgyWC5cf47FkCKgT9Rw6SuK5UKFHQCYB1Bl73V0ItuqJraB5tKiYzaWYrhMSp3M3MH5iJ5S3ib3yBMHVRNnA_cza0KOH60v3UdY2YP8Lo-ktzlR6E-DAg5gFbtVzfq0zf9OBOlpMA1JI_id6ljbY_qkbE6FF8K-PQlE9d2TS1W6Zv1xBmUk7G2JxEQSh_wBtAmTEHXqs_hTNPUlcuMTBmeKGwwrKid47MvB3z8ltptIyEK3fijr_5gTB_2DevZc33I6TaQ5e_P5ZDn76PXv0ibuRLhVkG9u9bfsIEOKlTQCAtkMZplL1n_mkV75qquR=w360-h310-no)\n",
    "\n",
    "what's the value of putting this in a network?  But the value of putting this in a network is sometimes, these favors can be  quite costly. So it could be that somebody has a crop  failure, and I have to run them a lot of money, or you know, do, give them a lot  of help. in that situation, to do, what's, what's  the incentive to provide the favor? Well, if we're in a social network, then  it can be that the value of providing a favor is increased by the fact that  instead of losing just one friendship, if I don't behave well and, and follow the,  you know, keep providing favors when I'm asked, I could lose multiple friendships.  So let's look at a situation where we have three people in a triad here and  what we do is ostracize anybody who does not perform a favor.  So if anybody's called on to do a favor and they say no, then both friendships  are, are severed there. So in this case Now, the cost only has to  be less than two times this value of a virtual friend, friendship.  So it's easier to satisfy this relationship, or this, incentive  constraint now because the value is, is, increased in terms of how many  friendships I might lose. In the future, I could be ostracized by  both of the other agents. So in this case if one is called on to do  a favor for two if one doesn't do the favor for two, one loses two friendships  and therefore this incentive constraint is that the cost only has to be less than  two times the value of the friendships. Now, of course in this situation, once  that really, these two relationships are, are gone then it could be also that two  and three are no longer going to be able to do favors for each other, because if  they couldn't satisfy, if c was greater than 1 times this, then they're no longer  going to be able to sustain favor exchange.  So, in this case, the whole triangle would collapse because once one is  ostracized, and two and three no longer have enough of an incentive on a  bilateral basis to keep the friendship going and, and so the whole thing  collapses, and so this whole triangle disintegrates. "
   ]
  },
  {
   "cell_type": "markdown",
   "metadata": {},
   "source": [
    "# Game: Period t\n",
    "\n",
    "- At most one agent $i_t$ is called upon to perform a favor for $j_t \\in N_i(g_t)$ (p small)\n",
    "\n",
    " - basically, at any given period at most, one person($i_t$) is  called on to perform a favor for somebody else($j_t$) in their neighborhood($N_i(g_t)$).  So we'll think of p as being small. So somebody in their neighborhood of the  network at a given time. \n",
    "\n",
    "- $i_t$ keeps or deletes the link\n",
    " -  the idea is that i is either  going to keep the relationship going, meaning provide the favor and keep it  going, or can just say sorry it's over, I'm going to sever this relationship and  not provide the favor. So here we'll have, you either keep  relationships, meaning, you keep providing the favor or you sever the  relationship meaning, no favors between those two individuals in the future,  okay? So to make the game simple, we'll just  have that be the choice. Either maintain a relationship, do the  favors or stop the relationship, don't do the favors. \n",
    "\n",
    "- Others can respond: announce which (remaining) links they wish to maintain\n",
    " - Then others can respond. So they can announce, this can react.  So suppose I don't do a favor, others can see that and, and sever their links to  me, or it might be that I do the favor and they can decide to keep their  relationships, whatever. \n",
    "\n",
    "- Links are retained if mutually agree - resulting network is $g_{t+1}$"
   ]
  },
  {
   "cell_type": "markdown",
   "metadata": {},
   "source": [
    "# Two ways to support favor exchange\n",
    "\n",
    "so then we can ask which networks will be equilibrium  networks if we look at this process, over time.  So let, let's take a quick peek, at, two different networks that could be  sustained in equilibrium in situations where two -- losing two friendships is,  is bigger than the cost of doing a favor. But the cost of doing a favor is bigger  than the value of one relationship. So you need two to, the, two friendships  lost to, to give incentives. So we've got two different networks here,  which are both going to support favor exchange.  And the idea is basically going to be that if somebody doesn't perform a favor  they're going to lose two friendships instead of just one. \n",
    "\n",
    "![](https://lh3.googleusercontent.com/aXPepbf03ilquKpqd-9n01hyiAlGFd53lFj40R6hTaVYtgMqsRiKXnwsPTWrG_QjZ5sFrfurcIecL9M6dgME45SoO_qRYaDocUTh6geGluRW2bTDXlgqofv9qMBa0cIzb9Y8EjIm2iZwuGcYoCuDcfpaNFpaiwTKbUYqAZDL9G79U-h9p0M0dyXyN-9KqwA3BlkeW-jxrsS5d3MhBq3E-LxAxHnqS0zSbCqHvnICOSKH4VOTPNpDKW68yCueqd6cQauzckNMzZVyMMhUj_0SuGbqFOh4TTuhSBy3SB3x4IbEswZ_HrRmMYJLSYkPqXy0fcqUVgQ6N_qppiFRLqnxFxJS5eFMW8BdAyRNb-mmRU19NXFha_cCu5xgnIl7nSd4MyqQnWSiWpCYsdJFnfkHE-fuI7HMpIvdN-jGqOElW52q4OkG6ejP_14ZV6ERdEW9CveE1koRlZibCVcGQBs6HK2QNHtY1MUwi4OmJ0aTaqKtuac4KGnqjMbyGv40DvdpVnbNPOxeGqWQVrReQ8Z8N-UMqEoOpwGCm4GvTmeUxlgLFLElwAN0NKC71cOzcbW5ij2UngP7OjbFBC_HpYNfYFNMWenOLS0i4zOv6okuveFfPLyVXL3LikkyiSED1SqI7xiDB6XUDn3y6GjOF2lacEC_y8m9U3TVIw6qWkm-FwJkcfupLJbJ56S3=w641-h342-no)\n",
    "\n",
    " so imagine, for instance, that this person one, here, is called on to do a  favor for person, say, two, right? So we could do it in either of these two  different ways.\n",
    " \n",
    "![](https://lh3.googleusercontent.com/LE7Cs5JjoWvsCzmZYEe8eNwz3nV-IxvVG18UoQkcI32e27qK7I1q__Ssuz_d398bSidZ2lFjXIx4B86KiQgvHWtT4ozCS_LJ6RvWHEEt_zC4m8y2A3i48kRMHbz17_Z7ancYfmCJVg3rD0zRd7gcQgIvapBui3cYQfDUSrBSbgnUPS1heAlpz6oWp5TsFhqFmiFQfmazDrfJFyrgG7qjS__HaYi6o9Kp4soT1GEmDqSLr9l9_ls2O0tRaImkxsjQKnRo1KecbeUgA7mpm7ac8MdKGNsHCIY2BOhUJq7JnkmmlYF3bcJH7CaWPOvOpTqIbq3DvfJi5gYNGJek33yJMPqpaeJWuaQhXK1M4RDmot62sUBMY9rs0csMaF5QD1aTipH25Q_iR6VxLvZLiw26SRwZyLRJRiFjDXMNhQYighO0N0DVqcPv7oDwWgjixVsPTRm2VUk1POMpa-bzM5voi_9H6RiqNZbueiteQhtDU1xWH27GwBK0lFCowPPlJxa7r9gn5ohNiZvn-jK8sksLdUd2byG5vd8siHxBahzUcYRIhsnF3KikaiH0HcHYzaR4O7J74Ar_qjcMJleU1WsxukiERtEiq1egvL8QCLoyKHSFF-bEy_VwWPg6LrGUndmflL-_K46dBy5PxWTOq-i6q1MGyt1OxCKwWg6RnqR8-DKTx-Z3YzBHkDFI=w1013-h545-no)\n",
    "\n",
    "Now if they fail to perform that favor  they are going to actually be losing two different relationships not just one and  that's what is keeping them making sure they provide the favor but then we can  look at this, what's the subsequent implications of the fact that we've lost  this now, okay? So if we look at this, now these two  individuals, this person for instance can't be trusted anymore because they  only have 1 friendship left. So the next time they're called on to do  a favor they're not going to do a favor, so effectively, this relationship is  going to have to disappear because it's not enough, to, it can't maintain itself  any longer. Similarly this one's going to have to  disappear, right? This person can't be trusted.  And this one, and so forth, right?\n",
    "\n",
    "![](https://lh3.googleusercontent.com/OW6q0UgERbT84j3UcpJFk8DI55E6bHuK1P-BBZ_5AQtf689Co4hkQE8n-IfAPknq2holV6e1weDvpAjJkihwbrX0csDjuJqxK5LCgPMaxPPhkCj7PZ6Ql8OB9vIGD2kw2Qh3RdeWPD5lf-wskPXpJXBvlR71aHknWVnVfPLJbcwotpw-vlm4kTCE0nk-iKjWIM7f3KoiTA7g0-dApGFpel6SYaeto9-Vl_hZwSxEz9Oqq4nND7M8s6cQ9kYYDsLKMSXg-2lR__ZfKJt1Bv0WHtRuOtoPKi5uzJABn0G-cVZoHKN2CtRB7W6qmmHYeNdywI9CQU_8ppu0DFSIAJYbRwvy9sTHPqrZHj6zKvFbWpKyE7NLD2IYMfQvQMvubpcK78DrprXNsYf7P70UwViFFAciMqad7VEtuujC1cqaeZ-g6O0Y66Vsu4wKM88IbBuBlrJ4tpb6CPDciaNmI71LQPH8PORC2dQna8o997mZWtDwcort4FflRuQnF0KFwqINElHOJYP0tGZO6Cc_k3PqvSdnQrRT87wTlVMi5yywrBpWI0jz3M8JBlemiKeWBmJCcsJ7VvezwfmucBHZPa77oCIfXoZP8zkWbKCbJfo1uhfEhBseC0A-WS8ckL1vIOCrhfua24oLmbI2lVsW1J9nRDBS3qtsPwQWgB0SB62WrfF7O_yDOn60CaCY=w1075-h569-no)\n",
    "\n",
    "So what we end up with, is effectively,  those disappearing, and then over here, we can see that that's going to have  further implications, right? We're going to have other relationships  which are no longer sustainable given that we've lost part of our network. \n",
    "\n",
    "![](https://lh3.googleusercontent.com/LNoO9s_fAIRbOKcXerNb_90tPAbDYAMcvPUXfEmDzmaj2uwPusC7uGr8-NC4gh910VMjasLHbiFQy5kMQqhDu-CjM1lClu3oxejWqC4d5tNMwSaALIfZARrRgeIRG-TwjuqC6NX9GNmxrPJxe1B5fZvvdIlW3cFutDJTEmgEJQlTAjmAkcQe6x6GbZdleQFwj950s0JTR8clh6JtdHRIXbl-mEqUc1CjoyW24lzB8QCIab8PiMjSX6bG5Tn0YG5MlLPmodVSwGKDi2oastLotCLhs6GCAQw4Ein9mHL532Ec_wnxpP9847hMOyCZGrVqM5lK1UaYRqWcKlNCwvHl7qPXVAE9gwUYmvN8RXk_VI2oadJGLgCX7lRVFg8nADLbLHq7aD63lqekq5NCrvCmRhwiW5GSOBmxcG-nDmZVV5DbqkiSLeYXgy5Wk2RT9dMLyo7b6np3CAadgeDqfY2_mS47NDOjKrqsa5pTcq4FClFyzjJsRbseTBGJ6jZzJA0Dfa_O5So-dXYGfiFkM1dbZp-WsuDQMfrDHBuHmOnqy0BfW51u0324jd4XaC8CT4pgRJEz4_iTuTmoJEgTQMjm0m5AC-BCSu3sX7VpSyFk8zjd9-jDNhpmqC3fCiZ_DDpzqA76sO2-QmUSP-sfJsjt1xqPbZLBMY1p6VIc3gkV6qxdKhO4J3NR6s26=w1062-h516-no)\n",
    "\n",
    "so in this setting we have a widespread contagion, so that the fact  that this person did not perform a favor, ended up having consequences for people  who are actually quite far away in the network.  And it reached somebody that was at, you know, the distance 3 away from them in  terms of the network. In this situation it stopped right here.  Effectively this part was lost, but then the rest of the network.  is maintained, right? \n",
    "\n",
    "![](https://lh3.googleusercontent.com/owprfZmOiwn5-yb7w5vHwa6qYhEjwm7GpjzSCO08BH70tKVwfXN2t5ewRTokWOJUTPtHhCZkZhWPMqouG5PXn_mP4c7BDrIi8hAePEBPZELrvb99Ni-iTY_0eYx_4evZgCvGzBxkO3H6OmMnASA3CGJXA7Z95PghzelbSfDgC8Ps3c2wfqPXBeHN6XIthhhPr73ain0qdivY_pBrZFJFm3oouGeP0-f5oQf5Tres_FfolHsrlELSFxnlM81ewo-eAWI_gKIvWZZwD5bDoAO_pwpCWHbspJQZYaI2XrU1saw3SHdPRfvW4xAExDF4Q9rKKKq5xTcqqROGESRUuExDpGSlcjQaPwzKLF1ULfb1wdgMMKorr4gFndBNYUoAR4G2Js_AYe4T8XF-G6-rnEK9y1_mT6h6M5hDgjAZBZ7QDPiOsVQLgPAyAV_GilCyAMeI7rh0yJ5Ba4WuWu1Xbq-YrqPor2eKorrszNZh0mBvOwQUP3JY_v3FvtfFLJKXlfCybiao_aIrF6OAHsUFPYRRVCgzLqwfZSNd2z8i801HTTjjiCxfm7Acw9flt-k9TFwr6S9MiGix2ehzlnuhOkF2nm4LjcEgvhKRP2Wckd7bf5zP8ICvUOSVtEeo3y6940potjFsjkNIZf8XBXbvHUc_gc10JdPbUnzEgeVqKa3kroI91ny4zjqWbI5B=w1068-h554-no)"
   ]
  },
  {
   "cell_type": "markdown",
   "metadata": {},
   "source": [
    "# Robustness Against Social Contagion\n",
    "\n",
    "A network such that the punishment for failing to perform a favor only impacts neighbors of original players lose links\n",
    "\n",
    "**Impact of a deletion/perturbation is local**\n",
    "\n",
    "To say that a network will be robust if the failure to perform a favor  only impacts the direct neighbors of the original players who, who did not perform  or, or lost links. So we don't have a widespread contagion.  It's only people who are actually directly connected to that individual  originally who are going to end up losing relationships.  So the impact of some sort of deletion or perturbation is local. "
   ]
  },
  {
   "cell_type": "markdown",
   "metadata": {},
   "source": [
    "# Supported links\n",
    "\n",
    "link $ij \\in g$ is **supported** if there exists k such that $ik \\in g$ and $jk \\in g$\n",
    "\n",
    "Friend in common:\n",
    "\n",
    "![](https://lh3.googleusercontent.com/_feCXNmG_16UzwngOnv7dNBVRtfnt0m0vwmP3PFYEgPxtSyS1IT0p7HmuqIdS_7fUUHo6S-_VtSm5ChgCmX8ii0dYkOnwXlnpqWsY9O8ZpSNLxSaEIYrRDmwj1Be8wbO9RFga7K-Pjs_i9u1nqtu2pKCx8CLa7VOvfZoChgzFfwvI2MtWgwopzYcinegCytnAvx5j3WQRi1HAoTeAMBulDABl1SuZolrjc0j_9dmq6gmuBDua6OkFZ6z9n3RYoKuqnqgxUze14K8bztwPGRYNcOqA_gFOG90kKRFMOfHWYRtZ-XzX-TBX3JGA7Q57j0RnYzgi0s4gAGFKSwTH2nbopDq-U--OmJavHL-S32Y_BkRdCQihsZg8fuy8YybjS3H4k4eDLDhcupVbyBPYX98mAzTPKBUB04KHp-qNvc3hKsuAF3NfFesjeQyNT1sk--YcSpdcB9jDyUnyPtgWgRbP_xl33EbfkG1ZKvXeG61goRKFU0fuCeKeW0hMZHnxX4qJ3iOIl5gdJsmIcrUvy8-Cou9G7hTiiI3kLzvpZfGYvMS8KXsuH_9IV0xQcSverN_vJJz4JW7GHtKNUpt13jB7FaGrexiazZZ7Xzh9NW7sZ4TD6WntilY6WBnqzScvIFDm0j2bkm6Vme5Z2fdSwqx7MN8v9__TO_Sk2aFJRkSfcZ848Lb-zunqRYw=w350-h290-no)"
   ]
  },
  {
   "cell_type": "markdown",
   "metadata": {},
   "source": [
    "# Thm: Implications of the game\n",
    "\n",
    "If no pair of palyers could sustain favor exchange in isolation and a network is robust, then all  of its links are supported\n",
    "\n",
    "![](https://lh3.googleusercontent.com/W5ckLJTQdBWusVjwUUblRaXMxzznYslPzGaUelXtfCCGwUsxiwhbqj6yEObFBlnZb00GFrp4-BTp6gTjl24vY9Dy_Vu9A-3-CGTsd5B92hKup_zia6Q1EWeuD3xmaFVJuiB0Fu__C5OFRqqgwguCR3e8eP-VVFNX_ZZGdqbIzoHDnUD1P2-DyWZsPI_tu8cSseQyuwPMflZcjxmefB6vUEKjebihAT0Aog-Begh0C7qq8IDKcAKtZy0_aruDXJd15A-UInGMVl4CQOShOAphSqfQnKV7ZOc3NPy8RdaLEDSMquJjoJ_Lizs-_NS5Bk-0ZVr8mgrNvddu8mpq4oDkp4_ZtaXUyUjxQboZPXg5wjIt4A9LpOqqfBvW2CXqKDmGEN8IN3fMsnX_iitcnPp2YDWj_bmDcV1zZ1D5PsGzUAnn3PoflhMnhGXZEu7c3IANFxVcMfJaSGFd4T1odP7GD9XjojmPI3A1BdGFCGT9v1B2tQGWgVPbQ69xjCEYgTQ3mCZ1hJO8WmxM8YJJyvAx5hbmaR22quptuTg39W5p4dwF0u8OZEgK7p8VVOT0peMjueWyYwRUQfN1X4AOmhMEX8UpvOwsD6B_PCeEKsxKGad7KTdOtpYOt-Kovw9QGUPuV_ekqC8vz245FpLJDXecv7f8FWRAtmAHltQVqMaKrvGyNLpnyFdqJmOP=w998-h672-no)\n",
    "\n",
    "#### Support =1, Clustering = .47\n",
    "![](https://lh3.googleusercontent.com/lomKTJsyvqch7QBHiEthW4ANygjhl1Hx9uiuFUb6KVGmZfI5avUelJaBD8t3pw6v3Hrm3uGKFXjWNHMiBhpuapmZataUvDevtbfAtThPhUVL9JBjj4tnasnzyoVb46_-CDiQBDbqvwKj2jmg2-yFK3b6IeddZxgEFWD4x6b6J2P5iv-Tjik-zS4QlAyNZ42AbQ6b0_J-DWB5Cc5Fy8h14fCqU4pHruyzqTuCzlnSn1fLNW_dPyh1rQ439QzLH0ol5RFzhFO6Oj8N4DMZIipur3q-jhmmGvesUwR2Cwm0AiogzrXA-l3PW9YuLPHLYElpRTRwcjXmaaBHOAuaZu4VvcyahMwUfQDOqA1pxQssUKrra63en48Vr4p0oafkVKbCalLVNudOQ_AaOVLcGVRq-curcV5ZMW5GT9s15Oq56d2rGNABpqTMmXwMmBDOcFw2_P8owDN8GUzO1g0deXRFuTRhuCuW8V0i7pu_DO3IlRwatYD0PUV7MB9rJeEL1Lndmm2AWVQTmzU2M99OSeVgVlS1oJxPOmwyraRI0R58pBZ49kXayexAC21Y9qnDJeAYzqrZG6R1ZZyW7H78kdjFB4Sh6uzqTIF68E4ArMSNqAYMeKpjl16i_AiReQzMiJd8av1zo1X8eG3Zjg3z04sAehUGGiCY1r5dTiNITJs_YM0FuKwSpQpQFcbQ=w825-h363-no)\n",
    "\n",
    " And so, for instance, you know, here's a network where every single link is  supported. So, every time you look at a link,  there's a friend in common, but the clustering in this network is only less  than 50%, because there's a number of individuals for instance, this  individual, who has friends who don't know each other, right?  So there's one, two, and three two and three are not connected so the clustering  is going to be lower. Okay?  And so basically what this says is we ought to see high support.  That's what the theory says. But it it provided that favors are costly  enough then you should see high support. So a joint hypothesis.  \n",
    " \n",
    " \n",
    "![](https://lh3.googleusercontent.com/Mmt7kRd-RroHAaku1ICoETLuY44g8IHIueUs2aimIWwkPmJBgxAzZ5BTt6LPAB1xrtnGzCc7GK8_NCq6N9dKZRmOQGx9HTjMiyiErPeV4KS2b7eecAOJ56jGdV4lVyRYNsQti09NgeWrTtKdBdT1CuPqRPb7cCTT8QFkCL63OfTYgQlUDTvp1Qr-Vc5Cr_lzRIsqNAjhA_XB7o_x9pmxJCP8Qs8RJ4I2wdT0TeiwB26q9sB57pJgk6YQ4y5CwAMR_6ZfAOn446lbTYVukmIvt2IeUL4akBG5ARGtTf8kSXOgV_g6EP037mT5waZnuQAEY_UOKBWZp7XmbbNbksZqP4WIqB3wNaJ0pBJB2k3syDXejIR1rmwtoxEUCi2F0_mVQpK6WFrYnP0EJLe8cAt1KHSyKuLbBsk265fbKUGSDXD7RvMFiRgW_C_gy_AnM7zj03Xa8VSN6ZHtJGYcPycq5NQQG4gFb7GA_jlkiaawVkstkBWCYWa7ndjEeqNOkMOv3bo-ijr6iduO7oNwfjNiX0_u9PSO6JqwcjlI0hnq2cVu5zqOc0FPc1e2BD4yYxgk_Y5WQX_f9P54YXt8vlwHot9i-UDZVXnyRbP2HSaZMAAHO-WmyCKhIyQA79tNGDW3aKf0ttj3uL3nt-KiV2jOr4F6TrmiKDl0mXXhaKlP3bKOdvBK_TN64SpG=w936-h680-no)\n",
    "\n",
    " if we go back to our Indian data, and we actually look at the fraction of links  that are supported. So here we've got 75 villages, so these  are villages, and we have different kinds of networks we can look at.  So the ones that explicitly involve borrowing kerosene or rice and so forth.  Those are the green line. ones where you just have friends coming  over for, for dinner or, you know, friends coming to your house etc.  that is the, the lower line here. and then we can compare to what the  clustering rates are and the clustering rates here vary depending on which  networks you're looking at. But, you know, basically somewhere  between, five and 35 percent, and here you're, you're going basically from 60 to  95 percent. So, support is, is quite high here.  many of the links are supported, and the clustering coefficients are higher than  at random, but actually much lower than the, the support number.\n",
    " \n",
    "![](https://lh3.googleusercontent.com/2iHSiNKTtpLed0e_UaapyHgl26AAdmekJjvoK_OpLt8iO1CCqyHsNtrXKKCegKotSXYXVvjExa6p7jwAktSf7J4QOpBr6GbwiNrv__xPl5Z42JwR1BXdJyy0KCaZNoaPyBEoNkJZjZOSb3X8C73BF5ke73pvT9mZdC1dq3yyueM2hDwYc9nmlCUmNKGZK9ywcp8zUZjWUB_hUeuDgH268nsPnfBaX0hTEE63U_ZycBH_cD3Cf60MBorRTQbG2lT3cURXmMfWMcCG5Mmp8PTvZjPN7-bH4RvPMTjqskXz5HBuiP-hfgJ0aVmV8D90j_R0hQrtsinAHYevjtZ-kjd8Vqgo-alY1B_mGXXwfEGDYeJgDR7CcGDDbYiYFoPw5LYzcsXxd7IgHVpDmDoeuJSMhemlwsCqo6bJMwXzJnJw9x3-260gf1YrmUfn1gDCEoTAczIJ_icOIQtGmQmKPWZ6tbR2xOeatJUq-eDaZocH8QNFSZdKzZGGU_4RDA-qvOxfpHdpQJ3BlKSqPq2rds8yX7ei1vmEt3gmQ-foxFf_Z4hd0xDHTxTH7ziOSAQCrRD1dWWQNyfKzbc_HxLIlqkvbGz6oYsAvZEsHKizcnJ28MaBHAYUQ1K_qaJI5AYSTWekotL7Zw_G1qkqG0QzkS9zufcREUf24h0c5cbqBK7NTdYdWiHn0XiBJYbq=w874-h683-no)\n",
    "\n",
    "if you look at one measure, one thing we can make sure of is, maybe the support is  just coming up at random, and so you know the, the network gets dense enough so  that every time you look at a link it's likely to have a two-pathed friend in  common. And so, we could actually ask you know,  when we look at links where favors are exchanged, borrowing lending kerosene,  rice, or money etc. We look at that, then we can look at  what's the rate of support across the different villages.  So, a fraction of villages that have at least that level or below that level.  and then we can look at unlinked support. So suppose that we're not doing that?  What's the chance that we have a friend in common?  So things were just happening because of the density of the network, then unlinked  support would be high. And you actually correct this for  observable characteristics and you know, figuring exponential random graph models  and test it, and so forth, and you'll get similar results.  Basically the support is much higher than would be just at random, so it's not  occurring from that level. you're, you're seeing this for some other  reason. \n",
    "\n"
   ]
  },
  {
   "cell_type": "markdown",
   "metadata": {},
   "source": [
    "---\n",
    "\n",
    "![](https://lh3.googleusercontent.com/34RQOnm5IllcThgwC8CPu9QnPUh2HkmX_wZs0M4NPTcZXaCZ4j6X3XWywIN31woZqykprSEobcCaGtwgPG6DbHUcCtE3tUlY1yPiK2sBI_6TX8uFh_5_1JwD2-WR4j2TO96eab4c6oaaVPVaJsTC48oVu-e-sDyVL7FLKaKDcDWkvvrcSyCcg5-XwN28j-bTSZKUKi7RzylMXbvoxFBN1l2L9tkeqVgeX9UKVUzxpYjTmGBMIC3b2m3hzXdXDUooTmhyuFsWN6U8U1vvu8jsmlpJ7gDVcO5PMKgHoC5pm5m2JQe19YvrP8F4r4_o8Za-sp_lUS7rIZZd1CgTQzduGZCBzpQakvp50niesfbmOlbWHxFG9U1CcHWG8Ciyns1jPZbSGLHWKjL9qarhPmP76Qh4bqt0h0ox8MeaXBHbHV1E6BL0ogr48kRwyC9sCju_StG2FinnLg3GgRnow6NgL1psI6yf2sJypZglsQugIoqJiTZ4azJWrM086SI58Dp6zn1SJunWlcMrGESR0qcSf6QWdLguLyhInWOvAc_SNLsW2DvYf8XUf6_4x5NjLAiA6HHFdmnGXjbFzpzBGtU8AUA7Dlx1xujL-Yug21PbXIZWsmF4jNPwZU9uBeJIrBJ1VNBCHyo1TtbkA_OZDO-w9nzf842agX7r92yO2DiB_9GvZND2Lsm2VHYg=w950-h706-no)\n",
    "\n",
    "Just to take a quick look at another set  of data that, that where we can test for support.  so this is again the Florentine marriage data by Padgett and Ansell and when we  look at those data what do we see? here we see clustering at about 46%  support at about 88%. And so here, this is the, both the  marriages and business dealings among these families.\n",
    "\n",
    "---\n",
    "\n",
    "![](https://lh3.googleusercontent.com/YKHo2jGA5BavGPhzJT5FeivQ6EVjvA5JMS-1Y8o15ORitbN8NikbTqrX3N8azrUHSGsZ0RKdFnETZan9DYBmDkveoyQYlAhmFmvr-Q-uVgMSe9VcgJaoZL9w-TkvCwnGlTtay-Umz_C2aP8QKpWqLQQNHOBNYUyCsD0p2Gs4JrUNIzWYO4CpPr06WGDQk4LBg3y1OsYk1i0nXWiIADtjlJvjvyP617IfjmnIa5le72qy_WAkTiTbAxLAevzmjqclOFFIRiLJcsuwI7JQdfnY_QATlk9z8SF1WbTYAn3sK7Ow4SwXnSHDaySyJeRajvQd3qFlT0N_nSjhvixAXRQgz3GZbc3_zmTALdSIQlQOG9VySSTwJF-7K0BhDxzZiQ2nYSmsfZrjWT0W2mo7JRDl2cHEcIVJzQPhaolzZNvMf3VQ_YX18gRef6NOpIXJ8n_Z9pPgpe01kWA_a8JN4Nsrh9SI2X60z7yPoaZCbKf3AtJMzO_z8fdDQdze2mgjVz4eN9VWW8ymZkRmt1_DhLKIFBR4tdK0ORFSn4dZYCQnF8Ln4SyOkePnAlplyoOnaWlrTx6jlXNFsQN9GGBrnjTzfXkXRTpVwVMHmWui0B6w0TBhJcbyJPZMfBTwNvlgFLLEh2HCyWMi6Jt1KfotuglGPRwSHD_iMmxQSPCevIfxVbf-EKlxDpphBSuh=w925-h746-no)\n",
    "\n",
    " And, interestingly enough, if you look at the fraction of business dealings that  have that are supported, it's actually 100%.  So every time you have a business dealing those are supported.  It's not, not all the marriage links are supported, but every single business  dealing is supported by some other combination of business dealings and  marriages. And so, that tells you that, in some  sense, the marriages help fill things in to make sure that every time there's a  business dealing between two families, they have a, a family in common that is  linked to both of them either through business or marriage.  \n",
    "21:47\n",
    "so here, you know, it's a small network so I'm not sure you could take 100%, but  here's a network where you actually get every single, business dealing at, a  family in common.\n",
    "\n",
    "\n",
    "---\n",
    "\n",
    "\n",
    "![](https://lh3.googleusercontent.com/dMX0NBqsrRIMAkho_Gku3Nh_JXcKkrgf5labEG8q0CUnuSRL5kW_M1yU6DHzUm0rpKSOnRL1hPYdb1gjewb5AggibhHDLfVUsQl3aKy8EDHqfh1e2u5tC1IyaXFyj3_lQr0tB7JUPQDqdncQ6pyRhX8Cy-oT7rKLUNChyNaJVvr8oBXq9-dK0DFvqRHp14wzi0F8wUxot3Os9ythP7gAvJG1PWUrJ6rwZJsQZB-rg9lI5tvb0iezcoCcyqyyhmfRMgQubIom6VeT4UpBf36ZSOFi7LquJe_KGLEaGZJDIaR1HhrdYyxTM11awRK8-46ZkYD9KAPwCA2SAoYnWXBwg0eviMKXeerFndMGmAnYExuJzU-PBkowYqkWZhS_me9OSReNl7F5XGj69BlaWFKSYdgJ6QeyWIZnVOMmGYWs_1y3_7GcXjiR2-kcTejZC3O6X3jjQ_AdKK0TeVASjLAMpf_etiytwHSpYJlwFP6iBf5AuOztYJEOJ7GEPFJCt6BS68L6jnjC1fQ4H46ND9VD8SS9I1peA-lQmwxprae7hpE0FWzjwcC40U97ZT6aqbqznUHCzzZ5ubuQ8pohGI_jadxeEm397Mvs9xScWrRQboIOCwLockVfeDWwz41aOrSnN8dLNRI3lnYZwVJu0JoLpeGCNelJSS5Lgip_bNIOUs0RlxomP3bZdoyC=w1061-h648-no)\n",
    "\n",
    "And so, you know, when you look at, at  the support level of, just by businesses its actually 80%.  But then, when you add in the marriages, it goes up to 100%, so the marriages are  actually filling in to make sure that some of the business dealings are, have  friends in common. So for instance, you know, here's a  business relationship that doesn't have a friend in common in terms of business  dealings, but then once you go back and fill in the marriage dealings, the  marriages then you end up having a friend in common for these two, and so, you  know, a node in common, Okay, conclusions this robust enforcement  gives us what we call social quilts, we have these links that are supported on a  local level. It gives us some theory for friends in  common, which differs significantly from clustering. "
   ]
  },
  {
   "cell_type": "markdown",
   "metadata": {},
   "source": [
    "# Conclusions\n",
    "\n",
    "- Robust enforcement gives social quilts\n",
    "\n",
    "- Theory for: Support - Friends in Common (which differs significantly from clustering)\n",
    "\n",
    "- Support is \"high\" in favor exchange data\n",
    " - favor/advice/business networks show significantly more support than purely social"
   ]
  },
  {
   "cell_type": "code",
   "execution_count": null,
   "metadata": {},
   "outputs": [],
   "source": []
  }
 ],
 "metadata": {
  "kernelspec": {
   "display_name": "Julia 1.0.0",
   "language": "julia",
   "name": "julia-1.0"
  },
  "language_info": {
   "file_extension": ".jl",
   "mimetype": "application/julia",
   "name": "julia",
   "version": "1.0.0"
  }
 },
 "nbformat": 4,
 "nbformat_minor": 2
}
