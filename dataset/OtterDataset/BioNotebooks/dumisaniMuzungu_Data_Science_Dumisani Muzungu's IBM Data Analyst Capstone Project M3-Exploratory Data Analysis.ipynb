{
    "cells": [
        {
            "cell_type": "markdown",
            "metadata": {},
            "source": [
                "# *** Survey Dataset"
            ]
        },
        {
            "cell_type": "markdown",
            "metadata": {},
            "source": [
                "# **Exploratory Data Analysis **\n"
            ]
        },
        {
            "cell_type": "markdown",
            "metadata": {},
            "source": [
                "<!-- In this module you get to work with the cleaned dataset from the previous module.\n",
                "\n",
                "In this assignment you will perform the task of exploratory data analysis.\n",
                "You will find out the distribution of data, presence of outliers and also determine the correlation between different columns in the dataset. -->\n"
            ]
        },
        {
            "cell_type": "markdown",
            "metadata": {},
            "source": [
                "## Objectives\n"
            ]
        },
        {
            "cell_type": "markdown",
            "metadata": {},
            "source": [
                "-   Identify the distribution of data in the dataset.\n",
                "\n",
                "-   Identify outliers in the dataset.\n",
                "\n",
                "-   Remove outliers from the dataset.\n",
                "\n",
                "-   Identify correlation between features in the dataset.\n"
            ]
        },
        {
            "cell_type": "markdown",
            "metadata": {},
            "source": [
                "* * *\n"
            ]
        },
        {
            "cell_type": "markdown",
            "metadata": {},
            "source": [
                "## Hands on Lab\n"
            ]
        },
        {
            "cell_type": "markdown",
            "metadata": {},
            "source": [
                "Import the pandas module.\n"
            ]
        },
        {
            "cell_type": "code",
            "execution_count": 1,
            "metadata": {},
            "outputs": [],
            "source": [
                "import pandas as pd"
            ]
        },
        {
            "cell_type": "markdown",
            "metadata": {},
            "source": [
                "Load the dataset into a dataframe.\n"
            ]
        },
        {
            "cell_type": "code",
            "execution_count": 2,
            "metadata": {},
            "outputs": [
                {
                    "data": {
                        "text/html": [
                            "<div>\n",
                            "<style scoped>\n",
                            "    .dataframe tbody tr th:only-of-type {\n",
                            "        vertical-align: middle;\n",
                            "    }\n",
                            "\n",
                            "    .dataframe tbody tr th {\n",
                            "        vertical-align: top;\n",
                            "    }\n",
                            "\n",
                            "    .dataframe thead th {\n",
                            "        text-align: right;\n",
                            "    }\n",
                            "</style>\n",
                            "<table border=\"1\" class=\"dataframe\">\n",
                            "  <thead>\n",
                            "    <tr style=\"text-align: right;\">\n",
                            "      <th></th>\n",
                            "      <th>Respondent</th>\n",
                            "      <th>MainBranch</th>\n",
                            "      <th>Hobbyist</th>\n",
                            "      <th>OpenSourcer</th>\n",
                            "      <th>OpenSource</th>\n",
                            "      <th>Employment</th>\n",
                            "      <th>Country</th>\n",
                            "      <th>Student</th>\n",
                            "      <th>EdLevel</th>\n",
                            "      <th>UndergradMajor</th>\n",
                            "      <th>...</th>\n",
                            "      <th>EntTeams</th>\n",
                            "      <th>SOComm</th>\n",
                            "      <th>WelcomeChange</th>\n",
                            "      <th>SONewContent</th>\n",
                            "      <th>Age</th>\n",
                            "      <th>Gender</th>\n",
                            "      <th>Ethnicity</th>\n",
                            "      <th>Dependents</th>\n",
                            "      <th>SurveyLength</th>\n",
                            "      <th>SurveyEase</th>\n",
                            "    </tr>\n",
                            "  </thead>\n",
                            "  <tbody>\n",
                            "    <tr>\n",
                            "      <th>0</th>\n",
                            "      <td>4</td>\n",
                            "      <td>I am a developer by profession</td>\n",
                            "      <td>No</td>\n",
                            "      <td>Never</td>\n",
                            "      <td>The quality of OSS and closed source software ...</td>\n",
                            "      <td>Employed full-time</td>\n",
                            "      <td>United States</td>\n",
                            "      <td>No</td>\n",
                            "      <td>Bachelor’s degree (BA, BS, B.Eng., etc.)</td>\n",
                            "      <td>Computer science, computer engineering, or sof...</td>\n",
                            "      <td>...</td>\n",
                            "      <td>No, and I don't know what those are</td>\n",
                            "      <td>No, not really</td>\n",
                            "      <td>Just as welcome now as I felt last year</td>\n",
                            "      <td>Tech articles written by other developers;Indu...</td>\n",
                            "      <td>22.0</td>\n",
                            "      <td>Man</td>\n",
                            "      <td>White or of European descent</td>\n",
                            "      <td>No</td>\n",
                            "      <td>Appropriate in length</td>\n",
                            "      <td>Easy</td>\n",
                            "    </tr>\n",
                            "    <tr>\n",
                            "      <th>1</th>\n",
                            "      <td>9</td>\n",
                            "      <td>I am a developer by profession</td>\n",
                            "      <td>Yes</td>\n",
                            "      <td>Once a month or more often</td>\n",
                            "      <td>The quality of OSS and closed source software ...</td>\n",
                            "      <td>Employed full-time</td>\n",
                            "      <td>New Zealand</td>\n",
                            "      <td>No</td>\n",
                            "      <td>Some college/university study without earning ...</td>\n",
                            "      <td>Computer science, computer engineering, or sof...</td>\n",
                            "      <td>...</td>\n",
                            "      <td>No, and I don't know what those are</td>\n",
                            "      <td>Yes, somewhat</td>\n",
                            "      <td>Just as welcome now as I felt last year</td>\n",
                            "      <td>NaN</td>\n",
                            "      <td>23.0</td>\n",
                            "      <td>Man</td>\n",
                            "      <td>White or of European descent</td>\n",
                            "      <td>No</td>\n",
                            "      <td>Appropriate in length</td>\n",
                            "      <td>Neither easy nor difficult</td>\n",
                            "    </tr>\n",
                            "    <tr>\n",
                            "      <th>2</th>\n",
                            "      <td>13</td>\n",
                            "      <td>I am a developer by profession</td>\n",
                            "      <td>Yes</td>\n",
                            "      <td>Less than once a month but more than once per ...</td>\n",
                            "      <td>OSS is, on average, of HIGHER quality than pro...</td>\n",
                            "      <td>Employed full-time</td>\n",
                            "      <td>United States</td>\n",
                            "      <td>No</td>\n",
                            "      <td>Master’s degree (MA, MS, M.Eng., MBA, etc.)</td>\n",
                            "      <td>Computer science, computer engineering, or sof...</td>\n",
                            "      <td>...</td>\n",
                            "      <td>No, I've heard of them, but I am not part of a...</td>\n",
                            "      <td>Neutral</td>\n",
                            "      <td>Somewhat more welcome now than last year</td>\n",
                            "      <td>Tech articles written by other developers;Cour...</td>\n",
                            "      <td>28.0</td>\n",
                            "      <td>Man</td>\n",
                            "      <td>White or of European descent</td>\n",
                            "      <td>Yes</td>\n",
                            "      <td>Appropriate in length</td>\n",
                            "      <td>Easy</td>\n",
                            "    </tr>\n",
                            "    <tr>\n",
                            "      <th>3</th>\n",
                            "      <td>16</td>\n",
                            "      <td>I am a developer by profession</td>\n",
                            "      <td>Yes</td>\n",
                            "      <td>Never</td>\n",
                            "      <td>The quality of OSS and closed source software ...</td>\n",
                            "      <td>Employed full-time</td>\n",
                            "      <td>United Kingdom</td>\n",
                            "      <td>No</td>\n",
                            "      <td>Master’s degree (MA, MS, M.Eng., MBA, etc.)</td>\n",
                            "      <td>NaN</td>\n",
                            "      <td>...</td>\n",
                            "      <td>No, I've heard of them, but I am not part of a...</td>\n",
                            "      <td>Yes, somewhat</td>\n",
                            "      <td>Just as welcome now as I felt last year</td>\n",
                            "      <td>Tech articles written by other developers;Indu...</td>\n",
                            "      <td>26.0</td>\n",
                            "      <td>Man</td>\n",
                            "      <td>White or of European descent</td>\n",
                            "      <td>No</td>\n",
                            "      <td>Appropriate in length</td>\n",
                            "      <td>Neither easy nor difficult</td>\n",
                            "    </tr>\n",
                            "    <tr>\n",
                            "      <th>4</th>\n",
                            "      <td>17</td>\n",
                            "      <td>I am a developer by profession</td>\n",
                            "      <td>Yes</td>\n",
                            "      <td>Less than once a month but more than once per ...</td>\n",
                            "      <td>The quality of OSS and closed source software ...</td>\n",
                            "      <td>Employed full-time</td>\n",
                            "      <td>Australia</td>\n",
                            "      <td>No</td>\n",
                            "      <td>Bachelor’s degree (BA, BS, B.Eng., etc.)</td>\n",
                            "      <td>Computer science, computer engineering, or sof...</td>\n",
                            "      <td>...</td>\n",
                            "      <td>No, I've heard of them, but I am not part of a...</td>\n",
                            "      <td>Yes, somewhat</td>\n",
                            "      <td>Just as welcome now as I felt last year</td>\n",
                            "      <td>Tech articles written by other developers;Indu...</td>\n",
                            "      <td>29.0</td>\n",
                            "      <td>Man</td>\n",
                            "      <td>Hispanic or Latino/Latina;Multiracial</td>\n",
                            "      <td>No</td>\n",
                            "      <td>Appropriate in length</td>\n",
                            "      <td>Easy</td>\n",
                            "    </tr>\n",
                            "    <tr>\n",
                            "      <th>...</th>\n",
                            "      <td>...</td>\n",
                            "      <td>...</td>\n",
                            "      <td>...</td>\n",
                            "      <td>...</td>\n",
                            "      <td>...</td>\n",
                            "      <td>...</td>\n",
                            "      <td>...</td>\n",
                            "      <td>...</td>\n",
                            "      <td>...</td>\n",
                            "      <td>...</td>\n",
                            "      <td>...</td>\n",
                            "      <td>...</td>\n",
                            "      <td>...</td>\n",
                            "      <td>...</td>\n",
                            "      <td>...</td>\n",
                            "      <td>...</td>\n",
                            "      <td>...</td>\n",
                            "      <td>...</td>\n",
                            "      <td>...</td>\n",
                            "      <td>...</td>\n",
                            "      <td>...</td>\n",
                            "    </tr>\n",
                            "    <tr>\n",
                            "      <th>11393</th>\n",
                            "      <td>25136</td>\n",
                            "      <td>I am a developer by profession</td>\n",
                            "      <td>Yes</td>\n",
                            "      <td>Never</td>\n",
                            "      <td>OSS is, on average, of HIGHER quality than pro...</td>\n",
                            "      <td>Employed full-time</td>\n",
                            "      <td>United States</td>\n",
                            "      <td>No</td>\n",
                            "      <td>Master’s degree (MA, MS, M.Eng., MBA, etc.)</td>\n",
                            "      <td>Computer science, computer engineering, or sof...</td>\n",
                            "      <td>...</td>\n",
                            "      <td>No, I've heard of them, but I am not part of a...</td>\n",
                            "      <td>Yes, somewhat</td>\n",
                            "      <td>Just as welcome now as I felt last year</td>\n",
                            "      <td>Tech articles written by other developers;Cour...</td>\n",
                            "      <td>36.0</td>\n",
                            "      <td>Man</td>\n",
                            "      <td>White or of European descent</td>\n",
                            "      <td>No</td>\n",
                            "      <td>Appropriate in length</td>\n",
                            "      <td>Difficult</td>\n",
                            "    </tr>\n",
                            "    <tr>\n",
                            "      <th>11394</th>\n",
                            "      <td>25137</td>\n",
                            "      <td>I am a developer by profession</td>\n",
                            "      <td>Yes</td>\n",
                            "      <td>Never</td>\n",
                            "      <td>The quality of OSS and closed source software ...</td>\n",
                            "      <td>Employed full-time</td>\n",
                            "      <td>Poland</td>\n",
                            "      <td>No</td>\n",
                            "      <td>Master’s degree (MA, MS, M.Eng., MBA, etc.)</td>\n",
                            "      <td>Computer science, computer engineering, or sof...</td>\n",
                            "      <td>...</td>\n",
                            "      <td>No, and I don't know what those are</td>\n",
                            "      <td>Neutral</td>\n",
                            "      <td>A lot more welcome now than last year</td>\n",
                            "      <td>Tech articles written by other developers;Tech...</td>\n",
                            "      <td>25.0</td>\n",
                            "      <td>Man</td>\n",
                            "      <td>White or of European descent</td>\n",
                            "      <td>No</td>\n",
                            "      <td>Appropriate in length</td>\n",
                            "      <td>Neither easy nor difficult</td>\n",
                            "    </tr>\n",
                            "    <tr>\n",
                            "      <th>11395</th>\n",
                            "      <td>25138</td>\n",
                            "      <td>I am a developer by profession</td>\n",
                            "      <td>Yes</td>\n",
                            "      <td>Less than once per year</td>\n",
                            "      <td>The quality of OSS and closed source software ...</td>\n",
                            "      <td>Employed full-time</td>\n",
                            "      <td>United States</td>\n",
                            "      <td>No</td>\n",
                            "      <td>Master’s degree (MA, MS, M.Eng., MBA, etc.)</td>\n",
                            "      <td>Computer science, computer engineering, or sof...</td>\n",
                            "      <td>...</td>\n",
                            "      <td>No, I've heard of them, but I am not part of a...</td>\n",
                            "      <td>Neutral</td>\n",
                            "      <td>A lot more welcome now than last year</td>\n",
                            "      <td>Tech articles written by other developers;Indu...</td>\n",
                            "      <td>34.0</td>\n",
                            "      <td>Man</td>\n",
                            "      <td>White or of European descent</td>\n",
                            "      <td>Yes</td>\n",
                            "      <td>Too long</td>\n",
                            "      <td>Easy</td>\n",
                            "    </tr>\n",
                            "    <tr>\n",
                            "      <th>11396</th>\n",
                            "      <td>25141</td>\n",
                            "      <td>I am a developer by profession</td>\n",
                            "      <td>Yes</td>\n",
                            "      <td>Less than once a month but more than once per ...</td>\n",
                            "      <td>OSS is, on average, of LOWER quality than prop...</td>\n",
                            "      <td>Employed full-time</td>\n",
                            "      <td>Switzerland</td>\n",
                            "      <td>No</td>\n",
                            "      <td>Secondary school (e.g. American high school, G...</td>\n",
                            "      <td>NaN</td>\n",
                            "      <td>...</td>\n",
                            "      <td>No, I've heard of them, but I am not part of a...</td>\n",
                            "      <td>Yes, somewhat</td>\n",
                            "      <td>Somewhat less welcome now than last year</td>\n",
                            "      <td>NaN</td>\n",
                            "      <td>25.0</td>\n",
                            "      <td>Man</td>\n",
                            "      <td>White or of European descent</td>\n",
                            "      <td>No</td>\n",
                            "      <td>Appropriate in length</td>\n",
                            "      <td>Easy</td>\n",
                            "    </tr>\n",
                            "    <tr>\n",
                            "      <th>11397</th>\n",
                            "      <td>25142</td>\n",
                            "      <td>I am a developer by profession</td>\n",
                            "      <td>Yes</td>\n",
                            "      <td>Less than once a month but more than once per ...</td>\n",
                            "      <td>OSS is, on average, of HIGHER quality than pro...</td>\n",
                            "      <td>Employed full-time</td>\n",
                            "      <td>United Kingdom</td>\n",
                            "      <td>No</td>\n",
                            "      <td>Other doctoral degree (Ph.D, Ed.D., etc.)</td>\n",
                            "      <td>A natural science (ex. biology, chemistry, phy...</td>\n",
                            "      <td>...</td>\n",
                            "      <td>No, and I don't know what those are</td>\n",
                            "      <td>Yes, somewhat</td>\n",
                            "      <td>Just as welcome now as I felt last year</td>\n",
                            "      <td>Tech articles written by other developers;Tech...</td>\n",
                            "      <td>30.0</td>\n",
                            "      <td>Man</td>\n",
                            "      <td>White or of European descent</td>\n",
                            "      <td>No</td>\n",
                            "      <td>Appropriate in length</td>\n",
                            "      <td>Easy</td>\n",
                            "    </tr>\n",
                            "  </tbody>\n",
                            "</table>\n",
                            "<p>11398 rows × 68 columns</p>\n",
                            "</div>"
                        ],
                        "text/plain": [
                            "       Respondent                      MainBranch Hobbyist  \\\n",
                            "0               4  I am a developer by profession       No   \n",
                            "1               9  I am a developer by profession      Yes   \n",
                            "2              13  I am a developer by profession      Yes   \n",
                            "3              16  I am a developer by profession      Yes   \n",
                            "4              17  I am a developer by profession      Yes   \n",
                            "...           ...                             ...      ...   \n",
                            "11393       25136  I am a developer by profession      Yes   \n",
                            "11394       25137  I am a developer by profession      Yes   \n",
                            "11395       25138  I am a developer by profession      Yes   \n",
                            "11396       25141  I am a developer by profession      Yes   \n",
                            "11397       25142  I am a developer by profession      Yes   \n",
                            "\n",
                            "                                             OpenSourcer  \\\n",
                            "0                                                  Never   \n",
                            "1                             Once a month or more often   \n",
                            "2      Less than once a month but more than once per ...   \n",
                            "3                                                  Never   \n",
                            "4      Less than once a month but more than once per ...   \n",
                            "...                                                  ...   \n",
                            "11393                                              Never   \n",
                            "11394                                              Never   \n",
                            "11395                            Less than once per year   \n",
                            "11396  Less than once a month but more than once per ...   \n",
                            "11397  Less than once a month but more than once per ...   \n",
                            "\n",
                            "                                              OpenSource          Employment  \\\n",
                            "0      The quality of OSS and closed source software ...  Employed full-time   \n",
                            "1      The quality of OSS and closed source software ...  Employed full-time   \n",
                            "2      OSS is, on average, of HIGHER quality than pro...  Employed full-time   \n",
                            "3      The quality of OSS and closed source software ...  Employed full-time   \n",
                            "4      The quality of OSS and closed source software ...  Employed full-time   \n",
                            "...                                                  ...                 ...   \n",
                            "11393  OSS is, on average, of HIGHER quality than pro...  Employed full-time   \n",
                            "11394  The quality of OSS and closed source software ...  Employed full-time   \n",
                            "11395  The quality of OSS and closed source software ...  Employed full-time   \n",
                            "11396  OSS is, on average, of LOWER quality than prop...  Employed full-time   \n",
                            "11397  OSS is, on average, of HIGHER quality than pro...  Employed full-time   \n",
                            "\n",
                            "              Country Student  \\\n",
                            "0       United States      No   \n",
                            "1         New Zealand      No   \n",
                            "2       United States      No   \n",
                            "3      United Kingdom      No   \n",
                            "4           Australia      No   \n",
                            "...               ...     ...   \n",
                            "11393   United States      No   \n",
                            "11394          Poland      No   \n",
                            "11395   United States      No   \n",
                            "11396     Switzerland      No   \n",
                            "11397  United Kingdom      No   \n",
                            "\n",
                            "                                                 EdLevel  \\\n",
                            "0               Bachelor’s degree (BA, BS, B.Eng., etc.)   \n",
                            "1      Some college/university study without earning ...   \n",
                            "2            Master’s degree (MA, MS, M.Eng., MBA, etc.)   \n",
                            "3            Master’s degree (MA, MS, M.Eng., MBA, etc.)   \n",
                            "4               Bachelor’s degree (BA, BS, B.Eng., etc.)   \n",
                            "...                                                  ...   \n",
                            "11393        Master’s degree (MA, MS, M.Eng., MBA, etc.)   \n",
                            "11394        Master’s degree (MA, MS, M.Eng., MBA, etc.)   \n",
                            "11395        Master’s degree (MA, MS, M.Eng., MBA, etc.)   \n",
                            "11396  Secondary school (e.g. American high school, G...   \n",
                            "11397          Other doctoral degree (Ph.D, Ed.D., etc.)   \n",
                            "\n",
                            "                                          UndergradMajor  ...  \\\n",
                            "0      Computer science, computer engineering, or sof...  ...   \n",
                            "1      Computer science, computer engineering, or sof...  ...   \n",
                            "2      Computer science, computer engineering, or sof...  ...   \n",
                            "3                                                    NaN  ...   \n",
                            "4      Computer science, computer engineering, or sof...  ...   \n",
                            "...                                                  ...  ...   \n",
                            "11393  Computer science, computer engineering, or sof...  ...   \n",
                            "11394  Computer science, computer engineering, or sof...  ...   \n",
                            "11395  Computer science, computer engineering, or sof...  ...   \n",
                            "11396                                                NaN  ...   \n",
                            "11397  A natural science (ex. biology, chemistry, phy...  ...   \n",
                            "\n",
                            "                                                EntTeams          SOComm  \\\n",
                            "0                    No, and I don't know what those are  No, not really   \n",
                            "1                    No, and I don't know what those are   Yes, somewhat   \n",
                            "2      No, I've heard of them, but I am not part of a...         Neutral   \n",
                            "3      No, I've heard of them, but I am not part of a...   Yes, somewhat   \n",
                            "4      No, I've heard of them, but I am not part of a...   Yes, somewhat   \n",
                            "...                                                  ...             ...   \n",
                            "11393  No, I've heard of them, but I am not part of a...   Yes, somewhat   \n",
                            "11394                No, and I don't know what those are         Neutral   \n",
                            "11395  No, I've heard of them, but I am not part of a...         Neutral   \n",
                            "11396  No, I've heard of them, but I am not part of a...   Yes, somewhat   \n",
                            "11397                No, and I don't know what those are   Yes, somewhat   \n",
                            "\n",
                            "                                  WelcomeChange  \\\n",
                            "0       Just as welcome now as I felt last year   \n",
                            "1       Just as welcome now as I felt last year   \n",
                            "2      Somewhat more welcome now than last year   \n",
                            "3       Just as welcome now as I felt last year   \n",
                            "4       Just as welcome now as I felt last year   \n",
                            "...                                         ...   \n",
                            "11393   Just as welcome now as I felt last year   \n",
                            "11394     A lot more welcome now than last year   \n",
                            "11395     A lot more welcome now than last year   \n",
                            "11396  Somewhat less welcome now than last year   \n",
                            "11397   Just as welcome now as I felt last year   \n",
                            "\n",
                            "                                            SONewContent   Age Gender  \\\n",
                            "0      Tech articles written by other developers;Indu...  22.0    Man   \n",
                            "1                                                    NaN  23.0    Man   \n",
                            "2      Tech articles written by other developers;Cour...  28.0    Man   \n",
                            "3      Tech articles written by other developers;Indu...  26.0    Man   \n",
                            "4      Tech articles written by other developers;Indu...  29.0    Man   \n",
                            "...                                                  ...   ...    ...   \n",
                            "11393  Tech articles written by other developers;Cour...  36.0    Man   \n",
                            "11394  Tech articles written by other developers;Tech...  25.0    Man   \n",
                            "11395  Tech articles written by other developers;Indu...  34.0    Man   \n",
                            "11396                                                NaN  25.0    Man   \n",
                            "11397  Tech articles written by other developers;Tech...  30.0    Man   \n",
                            "\n",
                            "                                   Ethnicity Dependents  \\\n",
                            "0               White or of European descent         No   \n",
                            "1               White or of European descent         No   \n",
                            "2               White or of European descent        Yes   \n",
                            "3               White or of European descent         No   \n",
                            "4      Hispanic or Latino/Latina;Multiracial         No   \n",
                            "...                                      ...        ...   \n",
                            "11393           White or of European descent         No   \n",
                            "11394           White or of European descent         No   \n",
                            "11395           White or of European descent        Yes   \n",
                            "11396           White or of European descent         No   \n",
                            "11397           White or of European descent         No   \n",
                            "\n",
                            "                SurveyLength                  SurveyEase  \n",
                            "0      Appropriate in length                        Easy  \n",
                            "1      Appropriate in length  Neither easy nor difficult  \n",
                            "2      Appropriate in length                        Easy  \n",
                            "3      Appropriate in length  Neither easy nor difficult  \n",
                            "4      Appropriate in length                        Easy  \n",
                            "...                      ...                         ...  \n",
                            "11393  Appropriate in length                   Difficult  \n",
                            "11394  Appropriate in length  Neither easy nor difficult  \n",
                            "11395               Too long                        Easy  \n",
                            "11396  Appropriate in length                        Easy  \n",
                            "11397  Appropriate in length                        Easy  \n",
                            "\n",
                            "[11398 rows x 68 columns]"
                        ]
                    },
                    "execution_count": 2,
                    "metadata": {},
                    "output_type": "execute_result"
                }
            ],
            "source": [
                "df = pd.read_csv(\"/projects_csv/survey_data_demographics.csv\")\n",
                "df"
            ]
        },
        {
            "cell_type": "markdown",
            "metadata": {},
            "source": [
                "## Distribution\n"
            ]
        },
        {
            "cell_type": "markdown",
            "metadata": {},
            "source": [
                "### Determine how the data is distributed\n"
            ]
        },
        {
            "cell_type": "markdown",
            "metadata": {},
            "source": [
                "The column `ConvertedComp` contains Salary converted to annual USD salaries using the exchange rate on 2019-02-01.\n",
                "\n",
                "This assumes 12 working months and 50 working weeks.\n"
            ]
        },
        {
            "cell_type": "markdown",
            "metadata": {},
            "source": [
                "Plot the distribution curve for the column `ConvertedComp`.\n"
            ]
        },
        {
            "cell_type": "code",
            "execution_count": 3,
            "metadata": {},
            "outputs": [],
            "source": [
                "\n",
                "#df['ConvertedComp'].plot.hist(bins=12, alpha=0.5)\n",
                "#df = pd.DataFrame(np.random.rand(10, 1), columns=['ConvertedComp'])\n",
                "#df['ConvertedComp']\n",
                "\n",
                "import matplotlib.pyplot as plt\n",
                "%matplotlib inline\n",
                "import seaborn as sns"
            ]
        },
        {
            "cell_type": "code",
            "execution_count": 4,
            "metadata": {},
            "outputs": [
                {
                    "name": "stderr",
                    "output_type": "stream",
                    "text": [
                        "C:\\Users\\Dumisani\\anaconda3\\lib\\site-packages\\seaborn\\distributions.py:2619: FutureWarning: `distplot` is a deprecated function and will be removed in a future version. Please adapt your code to use either `displot` (a figure-level function with similar flexibility) or `kdeplot` (an axes-level function for kernel density plots).\n",
                        "  warnings.warn(msg, FutureWarning)\n"
                    ]
                },
                {
                    "data": {
                        "image/png": "[encoded data removed]",
                        "text/plain": [
                            "<Figure size 640x480 with 1 Axes>"
                        ]
                    },
                    "metadata": {},
                    "output_type": "display_data"
                }
            ],
            "source": [
                "sns.distplot(df['ConvertedComp'], 'ConvertedComp', hist = False, kde = True)\n",
                "\n",
                "plt.show()"
            ]
        },
        {
            "cell_type": "markdown",
            "metadata": {},
            "source": [
                "Plot the histogram for the column `ConvertedComp`.\n"
            ]
        },
        {
            "cell_type": "code",
            "execution_count": 5,
            "metadata": {},
            "outputs": [
                {
                    "data": {
                        "text/plain": [
                            "<AxesSubplot:ylabel='Frequency'>"
                        ]
                    },
                    "execution_count": 5,
                    "metadata": {},
                    "output_type": "execute_result"
                },
                {
                    "data": {
                        "image/png": "[encoded data removed]",
                        "text/plain": [
                            "<Figure size 640x480 with 1 Axes>"
                        ]
                    },
                    "metadata": {},
                    "output_type": "display_data"
                }
            ],
            "source": [
                "\n",
                "df['ConvertedComp'].plot.hist(bins=12, alpha=0.5)"
            ]
        },
        {
            "cell_type": "markdown",
            "metadata": {},
            "source": [
                "What is the median of the column `ConvertedComp`?\n"
            ]
        },
        {
            "cell_type": "code",
            "execution_count": 6,
            "metadata": {},
            "outputs": [
                {
                    "name": "stdout",
                    "output_type": "stream",
                    "text": [
                        "median ConvertedComp is 57745.0\n",
                        "median Age is 29.0\n"
                    ]
                }
            ],
            "source": [
                "\n",
                "print('median ConvertedComp is',df['ConvertedComp'].median())\n",
                "print('median Age is',df['Age'].median())"
            ]
        },
        {
            "cell_type": "markdown",
            "metadata": {},
            "source": [
                "How many responders identified themselves only as a **Man**?\n"
            ]
        },
        {
            "cell_type": "code",
            "execution_count": 8,
            "metadata": {},
            "outputs": [
                {
                    "name": "stdout",
                    "output_type": "stream",
                    "text": [
                        "\n",
                        "\n",
                        "There are 7 unique Gender values in the survey:\n",
                        "\n",
                        "Gender        value count\n",
                        "------        -----------\n",
                        "Man                                                            10480\n",
                        "Woman                                                            731\n",
                        "Non-binary, genderqueer, or gender non-conforming                 63\n",
                        "Man;Non-binary, genderqueer, or gender non-conforming             26\n",
                        "Woman;Non-binary, genderqueer, or gender non-conforming           14\n",
                        "Woman;Man                                                          9\n",
                        "Woman;Man;Non-binary, genderqueer, or gender non-conforming        2\n",
                        "Name: Gender, dtype: int64\n",
                        "\n",
                        " 10480 respondents identify as \"Man\"\n"
                    ]
                }
            ],
            "source": [
                "\n",
                "print('\\n\\nThere are', df['Gender'].nunique(), 'unique Gender values in the survey:')\n",
                "\n",
                "print('\\nGender        value count')      \n",
                "print('------        -----------')\n",
                "print(df['Gender'].value_counts())\n",
                "\n",
                "print('\\n', df['Gender'].eq('Man').sum(), 'respondents identify as \"Man\"')"
            ]
        },
        {
            "cell_type": "markdown",
            "metadata": {},
            "source": [
                "Find out the  median ConvertedComp of responders identified themselves only as a **Woman**?\n"
            ]
        },
        {
            "cell_type": "code",
            "execution_count": 9,
            "metadata": {},
            "outputs": [
                {
                    "name": "stdout",
                    "output_type": "stream",
                    "text": [
                        "The median ConvertedComp of responders identified themselves only as a Woman is 57708.0\n"
                    ]
                }
            ],
            "source": [
                "\n",
                "df['ConvertedComp'].median()\n",
                "print('The median ConvertedComp of responders identified themselves only as a Woman is', df[df['Gender'].eq('Woman')]['ConvertedComp'].median())"
            ]
        },
        {
            "cell_type": "markdown",
            "metadata": {},
            "source": [
                "Give the five number summary for the column `Age`?\n"
            ]
        },
        {
            "cell_type": "markdown",
            "metadata": {},
            "source": [
                "**Double click here for hint**.\n",
                "\n",
                "<!--\n",
                "min,q1,median,q3,max of a column are its five number summary.\n",
                "-->\n"
            ]
        },
        {
            "cell_type": "code",
            "execution_count": 10,
            "metadata": {},
            "outputs": [
                {
                    "data": {
                        "text/plain": [
                            "count    11111.000000\n",
                            "mean        30.779138\n",
                            "std          7.393784\n",
                            "min         16.000000\n",
                            "25%         25.000000\n",
                            "50%         29.000000\n",
                            "75%         35.000000\n",
                            "max         99.000000\n",
                            "Name: Age, dtype: float64"
                        ]
                    },
                    "execution_count": 10,
                    "metadata": {},
                    "output_type": "execute_result"
                }
            ],
            "source": [
                "\n",
                "df['Age'].describe()"
            ]
        },
        {
            "cell_type": "markdown",
            "metadata": {},
            "source": [
                "Plot a histogram of the column `Age`.\n"
            ]
        },
        {
            "cell_type": "code",
            "execution_count": 11,
            "metadata": {},
            "outputs": [
                {
                    "data": {
                        "text/plain": [
                            "<AxesSubplot:ylabel='Frequency'>"
                        ]
                    },
                    "execution_count": 11,
                    "metadata": {},
                    "output_type": "execute_result"
                },
                {
                    "data": {
                        "image/png": "[encoded data removed]",
                        "text/plain": [
                            "<Figure size 640x480 with 1 Axes>"
                        ]
                    },
                    "metadata": {},
                    "output_type": "display_data"
                }
            ],
            "source": [
                "\n",
                "df['Age'].plot.hist(bins=20, alpha=0.5)"
            ]
        },
        {
            "cell_type": "markdown",
            "metadata": {},
            "source": [
                "## Outliers\n"
            ]
        },
        {
            "cell_type": "markdown",
            "metadata": {},
            "source": [
                "### Finding outliers\n"
            ]
        },
        {
            "cell_type": "markdown",
            "metadata": {},
            "source": [
                "Find out if outliers exist in the column `ConvertedComp` using a box plot?\n"
            ]
        },
        {
            "cell_type": "code",
            "execution_count": 12,
            "metadata": {},
            "outputs": [
                {
                    "data": {
                        "text/plain": [
                            "<AxesSubplot:xlabel='ConvertedComp'>"
                        ]
                    },
                    "execution_count": 12,
                    "metadata": {},
                    "output_type": "execute_result"
                },
                {
                    "data": {
                        "image/png": "[encoded data removed]",
                        "text/plain": [
                            "<Figure size 640x480 with 1 Axes>"
                        ]
                    },
                    "metadata": {},
                    "output_type": "display_data"
                }
            ],
            "source": [
                "\n",
                "sns.boxplot(x=df[\"ConvertedComp\"])"
            ]
        },
        {
            "cell_type": "code",
            "execution_count": 13,
            "metadata": {},
            "outputs": [
                {
                    "data": {
                        "text/plain": [
                            "<AxesSubplot:xlabel='Age'>"
                        ]
                    },
                    "execution_count": 13,
                    "metadata": {},
                    "output_type": "execute_result"
                },
                {
                    "data": {
                        "image/png": "[encoded data removed]",
                        "text/plain": [
                            "<Figure size 640x480 with 1 Axes>"
                        ]
                    },
                    "metadata": {},
                    "output_type": "display_data"
                }
            ],
            "source": [
                "sns.boxplot(x=df[\"Age\"])"
            ]
        },
        {
            "cell_type": "markdown",
            "metadata": {},
            "source": [
                "Find out the Inter Quartile Range for the column `ConvertedComp`.\n"
            ]
        },
        {
            "cell_type": "code",
            "execution_count": 14,
            "metadata": {},
            "outputs": [
                {
                    "name": "stdout",
                    "output_type": "stream",
                    "text": [
                        "The middle quartiles for ConvertedComp range from 26868.0 to 100000.0 . The interquartile range is 73132.0\n"
                    ]
                }
            ],
            "source": [
                "\n",
                "df['ConvertedComp'].describe()\n",
                "\n",
                "Q1 = df['ConvertedComp'].quantile(0.25)\n",
                "Q3 = df['ConvertedComp'].quantile(0.75)\n",
                "IQR = Q3 - Q1\n",
                "print('The middle quartiles for ConvertedComp range from',Q1, 'to',Q3,'. The interquartile range is',IQR)"
            ]
        },
        {
            "cell_type": "markdown",
            "metadata": {},
            "source": [
                "Find out the upper and lower bounds.\n"
            ]
        },
        {
            "cell_type": "code",
            "execution_count": 15,
            "metadata": {},
            "outputs": [
                {
                    "name": "stdout",
                    "output_type": "stream",
                    "text": [
                        "The min/max for ConvertedComp are 0.0 and 2000000.0\n"
                    ]
                }
            ],
            "source": [
                "\n",
                "min_val = df['ConvertedComp'].min()\n",
                "max_val = df['ConvertedComp'].max()\n",
                "print('The min/max for ConvertedComp are',min_val, 'and', max_val)"
            ]
        },
        {
            "cell_type": "markdown",
            "metadata": {},
            "source": [
                "Identify how many outliers are there in the `ConvertedComp` column.\n"
            ]
        },
        {
            "cell_type": "code",
            "execution_count": 16,
            "metadata": {},
            "outputs": [
                {
                    "name": "stdout",
                    "output_type": "stream",
                    "text": [
                        "Outliers below: 0\n",
                        "Outliers above: 879\n",
                        "Outliers below: 0\n",
                        "Median with outliers: 57745.0\n",
                        "Median with outliers removed: 52704.0\n",
                        "Mean with outliers removed: 59883.20838915799\n"
                    ]
                }
            ],
            "source": [
                "# your code goes here\n",
                "# It's an outlier if it is less than: Q1 - 1.5 * IQR. or if it is greater than: Q3 + 1.5 * IQR\n",
                "print('Outliers below:',df['ConvertedComp'].lt(Q1 - 1.5*IQR).sum())\n",
                "print('Outliers above:',df['ConvertedComp'].gt(Q3 + 1.5*IQR).sum())\n",
                "print('Outliers below:',df['ConvertedComp'].lt(Q1 - 1.5*IQR).sum())\n",
                "print('Median with outliers:',df['ConvertedComp'].median())\n",
                "print('Median with outliers removed:',df[df['ConvertedComp'].le(Q3 + 1.5*IQR)]['ConvertedComp'].median())\n",
                "print('Mean with outliers removed:',df[df['ConvertedComp'].le(Q3 + 1.5*IQR)]['ConvertedComp'].mean())"
            ]
        },
        {
            "cell_type": "markdown",
            "metadata": {},
            "source": [
                "Create a new dataframe by removing the outliers from the `ConvertedComp` column.\n"
            ]
        },
        {
            "cell_type": "code",
            "execution_count": 18,
            "metadata": {},
            "outputs": [
                {
                    "name": "stdout",
                    "output_type": "stream",
                    "text": [
                        "(11398, 68)\n",
                        "(11398,)\n",
                        "total number in new dataset: 9703\n"
                    ]
                },
                {
                    "ename": "NameError",
                    "evalue": "name 'df2' is not defined",
                    "output_type": "error",
                    "traceback": [
                        "\u001b[1;31m---------------------------------------------------------------------------\u001b[0m",
                        "\u001b[1;31mNameError\u001b[0m                                 Traceback (most recent call last)",
                        "\u001b[1;32m~\\AppData\\Local\\Temp\\ipykernel_13920\\1908071459.py\u001b[0m in \u001b[0;36m<module>\u001b[1;34m\u001b[0m\n\u001b[0;32m      4\u001b[0m \u001b[0mprint\u001b[0m\u001b[1;33m(\u001b[0m\u001b[1;34m'total number in new dataset:'\u001b[0m\u001b[1;33m,\u001b[0m\u001b[0mdf1\u001b[0m\u001b[1;33m.\u001b[0m\u001b[0mshape\u001b[0m\u001b[1;33m[\u001b[0m\u001b[1;36m0\u001b[0m\u001b[1;33m]\u001b[0m\u001b[1;33m)\u001b[0m\u001b[1;33m\u001b[0m\u001b[1;33m\u001b[0m\u001b[0m\n\u001b[0;32m      5\u001b[0m \u001b[0mdf\u001b[0m\u001b[1;33m[\u001b[0m\u001b[0mdf\u001b[0m\u001b[1;33m[\u001b[0m\u001b[1;34m'ConvertedComp'\u001b[0m\u001b[1;33m]\u001b[0m\u001b[1;33m.\u001b[0m\u001b[0mgt\u001b[0m\u001b[1;33m(\u001b[0m\u001b[0mQ3\u001b[0m \u001b[1;33m+\u001b[0m \u001b[1;36m1.5\u001b[0m\u001b[1;33m*\u001b[0m\u001b[0mIQR\u001b[0m\u001b[1;33m)\u001b[0m\u001b[1;33m]\u001b[0m\u001b[1;33m.\u001b[0m\u001b[0mshape\u001b[0m\u001b[1;33m\u001b[0m\u001b[1;33m\u001b[0m\u001b[0m\n\u001b[1;32m----> 6\u001b[1;33m \u001b[0mprint\u001b[0m\u001b[1;33m(\u001b[0m\u001b[1;34m'total number of outliers removed:'\u001b[0m\u001b[1;33m,\u001b[0m\u001b[0mdf2\u001b[0m\u001b[1;33m.\u001b[0m\u001b[0mshape\u001b[0m\u001b[1;33m[\u001b[0m\u001b[1;36m0\u001b[0m\u001b[1;33m]\u001b[0m\u001b[1;33m)\u001b[0m\u001b[1;33m\u001b[0m\u001b[1;33m\u001b[0m\u001b[0m\n\u001b[0m\u001b[0;32m      7\u001b[0m \u001b[0mdf3\u001b[0m \u001b[1;33m=\u001b[0m \u001b[0mdf\u001b[0m\u001b[1;33m[\u001b[0m\u001b[0mdf\u001b[0m\u001b[1;33m[\u001b[0m\u001b[1;34m'ConvertedComp'\u001b[0m\u001b[1;33m]\u001b[0m\u001b[1;33m.\u001b[0m\u001b[0misnull\u001b[0m\u001b[1;33m(\u001b[0m\u001b[1;33m)\u001b[0m\u001b[1;33m]\u001b[0m\u001b[1;33m\u001b[0m\u001b[1;33m\u001b[0m\u001b[0m\n\u001b[0;32m      8\u001b[0m \u001b[0mprint\u001b[0m\u001b[1;33m(\u001b[0m\u001b[1;34m'total number of nulls removed:'\u001b[0m\u001b[1;33m,\u001b[0m\u001b[0mdf3\u001b[0m\u001b[1;33m.\u001b[0m\u001b[0mshape\u001b[0m\u001b[1;33m[\u001b[0m\u001b[1;36m0\u001b[0m\u001b[1;33m]\u001b[0m\u001b[1;33m)\u001b[0m\u001b[1;33m\u001b[0m\u001b[1;33m\u001b[0m\u001b[0m\n",
                        "\u001b[1;31mNameError\u001b[0m: name 'df2' is not defined"
                    ]
                }
            ],
            "source": [
                "\n",
                "print(df.shape)\n",
                "print(df['ConvertedComp'].gt(Q3 + 1.5*IQR).shape)\n",
                "df1 = df[df['ConvertedComp'].le(Q3 + 1.5*IQR)]\n",
                "print('total number in new dataset:',df1.shape[0])\n",
                "df[df['ConvertedComp'].gt(Q3 + 1.5*IQR)].shape\n",
                "print('total number of outliers removed:',df2.shape[0])\n",
                "df3 = df[df['ConvertedComp'].isnull()]\n",
                "print('total number of nulls removed:',df3.shape[0])\n",
                "print('total of outliers + inliers + nulls:', (9703 + 879 + 816))\n",
                "\n"
            ]
        },
        {
            "cell_type": "markdown",
            "metadata": {},
            "source": [
                "## Correlation\n"
            ]
        },
        {
            "cell_type": "markdown",
            "metadata": {},
            "source": [
                "### Finding correlation\n"
            ]
        },
        {
            "cell_type": "markdown",
            "metadata": {},
            "source": [
                "Find the correlation between `Age` and all other numerical columns.\n"
            ]
        },
        {
            "cell_type": "code",
            "execution_count": 19,
            "metadata": {},
            "outputs": [
                {
                    "data": {
                        "text/plain": [
                            "Respondent       0.004068\n",
                            "CompTotal        0.006968\n",
                            "ConvertedComp    0.105418\n",
                            "WorkWeekHrs      0.036521\n",
                            "CodeRevHrs      -0.020478\n",
                            "Age              1.000000\n",
                            "Name: Age, dtype: float64"
                        ]
                    },
                    "execution_count": 19,
                    "metadata": {},
                    "output_type": "execute_result"
                }
            ],
            "source": [
                "\n",
                "df.corr()['Age']"
            ]
        },
        {
            "cell_type": "markdown",
            "metadata": {},
            "source": [
                "## Authors\n"
            ]
        },
        {
            "cell_type": "markdown",
            "metadata": {},
            "source": [
                "Dumisani Muzungu\n"
            ]
        }
    ],
    "metadata": {
        "kernelspec": {
            "display_name": "Python 3 (ipykernel)",
            "language": "python",
            "name": "python3"
        },
        "language_info": {
            "codemirror_mode": {
                "name": "ipython",
                "version": 3
            },
            "file_extension": ".py",
            "mimetype": "text/x-python",
            "name": "python",
            "nbconvert_exporter": "python",
            "pygments_lexer": "ipython3",
            "version": "3.9.13"
        }
    },
    "nbformat": 4,
    "nbformat_minor": 4
}
