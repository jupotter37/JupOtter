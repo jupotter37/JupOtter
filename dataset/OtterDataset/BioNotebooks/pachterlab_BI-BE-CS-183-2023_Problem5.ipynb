{
  "nbformat": 4,
  "nbformat_minor": 0,
  "metadata": {
    "colab": {
      "provenance": [],
      "include_colab_link": true
    },
    "kernelspec": {
      "name": "python3",
      "display_name": "Python 3"
    },
    "language_info": {
      "name": "python"
    },
    "widgets": {
      "application/vnd.jupyter.widget-state+json": {
        "0dba37c8a48041eba1ce5fc4b30f27a2": {
          "model_module": "@jupyter-widgets/controls",
          "model_name": "HBoxModel",
          "model_module_version": "1.5.0",
          "state": {
            "_dom_classes": [],
            "_model_module": "@jupyter-widgets/controls",
            "_model_module_version": "1.5.0",
            "_model_name": "HBoxModel",
            "_view_count": null,
            "_view_module": "@jupyter-widgets/controls",
            "_view_module_version": "1.5.0",
            "_view_name": "HBoxView",
            "box_style": "",
            "children": [
              "IPY_MODEL_3933423a952d4081be9f8e3d1633d82d",
              "IPY_MODEL_5ee9ededd76d4621aaacc44b5c43357c",
              "IPY_MODEL_f3791caaa445491e92a455da1d41f3c2"
            ],
            "layout": "IPY_MODEL_135900ca4cc6425bafd7323a4a8d33de"
          }
        },
        "3933423a952d4081be9f8e3d1633d82d": {
          "model_module": "@jupyter-widgets/controls",
          "model_name": "HTMLModel",
          "model_module_version": "1.5.0",
          "state": {
            "_dom_classes": [],
            "_model_module": "@jupyter-widgets/controls",
            "_model_module_version": "1.5.0",
            "_model_name": "HTMLModel",
            "_view_count": null,
            "_view_module": "@jupyter-widgets/controls",
            "_view_module_version": "1.5.0",
            "_view_name": "HTMLView",
            "description": "",
            "description_tooltip": null,
            "layout": "IPY_MODEL_1efacab88ee24b7f8294ffcfc3098ec9",
            "placeholder": "​",
            "style": "IPY_MODEL_1e8cbfdbf88f49c1b356f47665de9ac7",
            "value": ""
          }
        },
        "5ee9ededd76d4621aaacc44b5c43357c": {
          "model_module": "@jupyter-widgets/controls",
          "model_name": "FloatProgressModel",
          "model_module_version": "1.5.0",
          "state": {
            "_dom_classes": [],
            "_model_module": "@jupyter-widgets/controls",
            "_model_module_version": "1.5.0",
            "_model_name": "FloatProgressModel",
            "_view_count": null,
            "_view_module": "@jupyter-widgets/controls",
            "_view_module_version": "1.5.0",
            "_view_name": "ProgressView",
            "bar_style": "success",
            "description": "",
            "description_tooltip": null,
            "layout": "IPY_MODEL_d9223285ec144b3fb9b0f085712203f2",
            "max": 9784,
            "min": 0,
            "orientation": "horizontal",
            "style": "IPY_MODEL_e635c575cb0b4b98ad75c61a9503c8b1",
            "value": 9784
          }
        },
        "f3791caaa445491e92a455da1d41f3c2": {
          "model_module": "@jupyter-widgets/controls",
          "model_name": "HTMLModel",
          "model_module_version": "1.5.0",
          "state": {
            "_dom_classes": [],
            "_model_module": "@jupyter-widgets/controls",
            "_model_module_version": "1.5.0",
            "_model_name": "HTMLModel",
            "_view_count": null,
            "_view_module": "@jupyter-widgets/controls",
            "_view_module_version": "1.5.0",
            "_view_name": "HTMLView",
            "description": "",
            "description_tooltip": null,
            "layout": "IPY_MODEL_2611d8083f494f678e5fdb0a0242c6c0",
            "placeholder": "​",
            "style": "IPY_MODEL_0a94f3cc0a03462bb782de95548c214c",
            "value": " 9785/? [00:01&lt;00:00, 12908.86B/s]"
          }
        },
        "135900ca4cc6425bafd7323a4a8d33de": {
          "model_module": "@jupyter-widgets/base",
          "model_name": "LayoutModel",
          "model_module_version": "1.2.0",
          "state": {
            "_model_module": "@jupyter-widgets/base",
            "_model_module_version": "1.2.0",
            "_model_name": "LayoutModel",
            "_view_count": null,
            "_view_module": "@jupyter-widgets/base",
            "_view_module_version": "1.2.0",
            "_view_name": "LayoutView",
            "align_content": null,
            "align_items": null,
            "align_self": null,
            "border": null,
            "bottom": null,
            "display": null,
            "flex": null,
            "flex_flow": null,
            "grid_area": null,
            "grid_auto_columns": null,
            "grid_auto_flow": null,
            "grid_auto_rows": null,
            "grid_column": null,
            "grid_gap": null,
            "grid_row": null,
            "grid_template_areas": null,
            "grid_template_columns": null,
            "grid_template_rows": null,
            "height": null,
            "justify_content": null,
            "justify_items": null,
            "left": null,
            "margin": null,
            "max_height": null,
            "max_width": null,
            "min_height": null,
            "min_width": null,
            "object_fit": null,
            "object_position": null,
            "order": null,
            "overflow": null,
            "overflow_x": null,
            "overflow_y": null,
            "padding": null,
            "right": null,
            "top": null,
            "visibility": null,
            "width": null
          }
        },
        "1efacab88ee24b7f8294ffcfc3098ec9": {
          "model_module": "@jupyter-widgets/base",
          "model_name": "LayoutModel",
          "model_module_version": "1.2.0",
          "state": {
            "_model_module": "@jupyter-widgets/base",
            "_model_module_version": "1.2.0",
            "_model_name": "LayoutModel",
            "_view_count": null,
            "_view_module": "@jupyter-widgets/base",
            "_view_module_version": "1.2.0",
            "_view_name": "LayoutView",
            "align_content": null,
            "align_items": null,
            "align_self": null,
            "border": null,
            "bottom": null,
            "display": null,
            "flex": null,
            "flex_flow": null,
            "grid_area": null,
            "grid_auto_columns": null,
            "grid_auto_flow": null,
            "grid_auto_rows": null,
            "grid_column": null,
            "grid_gap": null,
            "grid_row": null,
            "grid_template_areas": null,
            "grid_template_columns": null,
            "grid_template_rows": null,
            "height": null,
            "justify_content": null,
            "justify_items": null,
            "left": null,
            "margin": null,
            "max_height": null,
            "max_width": null,
            "min_height": null,
            "min_width": null,
            "object_fit": null,
            "object_position": null,
            "order": null,
            "overflow": null,
            "overflow_x": null,
            "overflow_y": null,
            "padding": null,
            "right": null,
            "top": null,
            "visibility": null,
            "width": null
          }
        },
        "1e8cbfdbf88f49c1b356f47665de9ac7": {
          "model_module": "@jupyter-widgets/controls",
          "model_name": "DescriptionStyleModel",
          "model_module_version": "1.5.0",
          "state": {
            "_model_module": "@jupyter-widgets/controls",
            "_model_module_version": "1.5.0",
            "_model_name": "DescriptionStyleModel",
            "_view_count": null,
            "_view_module": "@jupyter-widgets/base",
            "_view_module_version": "1.2.0",
            "_view_name": "StyleView",
            "description_width": ""
          }
        },
        "d9223285ec144b3fb9b0f085712203f2": {
          "model_module": "@jupyter-widgets/base",
          "model_name": "LayoutModel",
          "model_module_version": "1.2.0",
          "state": {
            "_model_module": "@jupyter-widgets/base",
            "_model_module_version": "1.2.0",
            "_model_name": "LayoutModel",
            "_view_count": null,
            "_view_module": "@jupyter-widgets/base",
            "_view_module_version": "1.2.0",
            "_view_name": "LayoutView",
            "align_content": null,
            "align_items": null,
            "align_self": null,
            "border": null,
            "bottom": null,
            "display": null,
            "flex": null,
            "flex_flow": null,
            "grid_area": null,
            "grid_auto_columns": null,
            "grid_auto_flow": null,
            "grid_auto_rows": null,
            "grid_column": null,
            "grid_gap": null,
            "grid_row": null,
            "grid_template_areas": null,
            "grid_template_columns": null,
            "grid_template_rows": null,
            "height": null,
            "justify_content": null,
            "justify_items": null,
            "left": null,
            "margin": null,
            "max_height": null,
            "max_width": null,
            "min_height": null,
            "min_width": null,
            "object_fit": null,
            "object_position": null,
            "order": null,
            "overflow": null,
            "overflow_x": null,
            "overflow_y": null,
            "padding": null,
            "right": null,
            "top": null,
            "visibility": null,
            "width": null
          }
        },
        "e635c575cb0b4b98ad75c61a9503c8b1": {
          "model_module": "@jupyter-widgets/controls",
          "model_name": "ProgressStyleModel",
          "model_module_version": "1.5.0",
          "state": {
            "_model_module": "@jupyter-widgets/controls",
            "_model_module_version": "1.5.0",
            "_model_name": "ProgressStyleModel",
            "_view_count": null,
            "_view_module": "@jupyter-widgets/base",
            "_view_module_version": "1.2.0",
            "_view_name": "StyleView",
            "bar_color": null,
            "description_width": ""
          }
        },
        "2611d8083f494f678e5fdb0a0242c6c0": {
          "model_module": "@jupyter-widgets/base",
          "model_name": "LayoutModel",
          "model_module_version": "1.2.0",
          "state": {
            "_model_module": "@jupyter-widgets/base",
            "_model_module_version": "1.2.0",
            "_model_name": "LayoutModel",
            "_view_count": null,
            "_view_module": "@jupyter-widgets/base",
            "_view_module_version": "1.2.0",
            "_view_name": "LayoutView",
            "align_content": null,
            "align_items": null,
            "align_self": null,
            "border": null,
            "bottom": null,
            "display": null,
            "flex": null,
            "flex_flow": null,
            "grid_area": null,
            "grid_auto_columns": null,
            "grid_auto_flow": null,
            "grid_auto_rows": null,
            "grid_column": null,
            "grid_gap": null,
            "grid_row": null,
            "grid_template_areas": null,
            "grid_template_columns": null,
            "grid_template_rows": null,
            "height": null,
            "justify_content": null,
            "justify_items": null,
            "left": null,
            "margin": null,
            "max_height": null,
            "max_width": null,
            "min_height": null,
            "min_width": null,
            "object_fit": null,
            "object_position": null,
            "order": null,
            "overflow": null,
            "overflow_x": null,
            "overflow_y": null,
            "padding": null,
            "right": null,
            "top": null,
            "visibility": null,
            "width": null
          }
        },
        "0a94f3cc0a03462bb782de95548c214c": {
          "model_module": "@jupyter-widgets/controls",
          "model_name": "DescriptionStyleModel",
          "model_module_version": "1.5.0",
          "state": {
            "_model_module": "@jupyter-widgets/controls",
            "_model_module_version": "1.5.0",
            "_model_name": "DescriptionStyleModel",
            "_view_count": null,
            "_view_module": "@jupyter-widgets/base",
            "_view_module_version": "1.2.0",
            "_view_name": "StyleView",
            "description_width": ""
          }
        },
        "85030a27a3694960a9c7a7c58489a807": {
          "model_module": "@jupyter-widgets/controls",
          "model_name": "HBoxModel",
          "model_module_version": "1.5.0",
          "state": {
            "_dom_classes": [],
            "_model_module": "@jupyter-widgets/controls",
            "_model_module_version": "1.5.0",
            "_model_name": "HBoxModel",
            "_view_count": null,
            "_view_module": "@jupyter-widgets/controls",
            "_view_module_version": "1.5.0",
            "_view_name": "HBoxView",
            "box_style": "",
            "children": [
              "IPY_MODEL_6560b94f23c74882848f607c2bbacbfc",
              "IPY_MODEL_b8f1409580814bebb4c99d4e8ce12722",
              "IPY_MODEL_7029dadf6bc541d1a6680bdb157c743f"
            ],
            "layout": "IPY_MODEL_7ef624efb28b4c2d8534d7772ebd6fa7"
          }
        },
        "6560b94f23c74882848f607c2bbacbfc": {
          "model_module": "@jupyter-widgets/controls",
          "model_name": "HTMLModel",
          "model_module_version": "1.5.0",
          "state": {
            "_dom_classes": [],
            "_model_module": "@jupyter-widgets/controls",
            "_model_module_version": "1.5.0",
            "_model_name": "HTMLModel",
            "_view_count": null,
            "_view_module": "@jupyter-widgets/controls",
            "_view_module_version": "1.5.0",
            "_view_name": "HTMLView",
            "description": "",
            "description_tooltip": null,
            "layout": "IPY_MODEL_5d29fc9efdb848d5bfaea19f06f66641",
            "placeholder": "​",
            "style": "IPY_MODEL_52f69bf3f5b443fe82139eb6ba5d6693",
            "value": ""
          }
        },
        "b8f1409580814bebb4c99d4e8ce12722": {
          "model_module": "@jupyter-widgets/controls",
          "model_name": "FloatProgressModel",
          "model_module_version": "1.5.0",
          "state": {
            "_dom_classes": [],
            "_model_module": "@jupyter-widgets/controls",
            "_model_module_version": "1.5.0",
            "_model_name": "FloatProgressModel",
            "_view_count": null,
            "_view_module": "@jupyter-widgets/controls",
            "_view_module_version": "1.5.0",
            "_view_name": "ProgressView",
            "bar_style": "success",
            "description": "",
            "description_tooltip": null,
            "layout": "IPY_MODEL_dc632140b59b4fcaaab6edf4e824f724",
            "max": 59360,
            "min": 0,
            "orientation": "horizontal",
            "style": "IPY_MODEL_3255091e742a4f0c8bc469ca8c1f9bea",
            "value": 59360
          }
        },
        "7029dadf6bc541d1a6680bdb157c743f": {
          "model_module": "@jupyter-widgets/controls",
          "model_name": "HTMLModel",
          "model_module_version": "1.5.0",
          "state": {
            "_dom_classes": [],
            "_model_module": "@jupyter-widgets/controls",
            "_model_module_version": "1.5.0",
            "_model_name": "HTMLModel",
            "_view_count": null,
            "_view_module": "@jupyter-widgets/controls",
            "_view_module_version": "1.5.0",
            "_view_name": "HTMLView",
            "description": "",
            "description_tooltip": null,
            "layout": "IPY_MODEL_9a316852bfd041e9a10ddd0688b41b32",
            "placeholder": "​",
            "style": "IPY_MODEL_948a02d103d44b988d5f1f3b30933e3c",
            "value": " 59361/? [01:42&lt;00:00, 23539.18B/s]"
          }
        },
        "7ef624efb28b4c2d8534d7772ebd6fa7": {
          "model_module": "@jupyter-widgets/base",
          "model_name": "LayoutModel",
          "model_module_version": "1.2.0",
          "state": {
            "_model_module": "@jupyter-widgets/base",
            "_model_module_version": "1.2.0",
            "_model_name": "LayoutModel",
            "_view_count": null,
            "_view_module": "@jupyter-widgets/base",
            "_view_module_version": "1.2.0",
            "_view_name": "LayoutView",
            "align_content": null,
            "align_items": null,
            "align_self": null,
            "border": null,
            "bottom": null,
            "display": null,
            "flex": null,
            "flex_flow": null,
            "grid_area": null,
            "grid_auto_columns": null,
            "grid_auto_flow": null,
            "grid_auto_rows": null,
            "grid_column": null,
            "grid_gap": null,
            "grid_row": null,
            "grid_template_areas": null,
            "grid_template_columns": null,
            "grid_template_rows": null,
            "height": null,
            "justify_content": null,
            "justify_items": null,
            "left": null,
            "margin": null,
            "max_height": null,
            "max_width": null,
            "min_height": null,
            "min_width": null,
            "object_fit": null,
            "object_position": null,
            "order": null,
            "overflow": null,
            "overflow_x": null,
            "overflow_y": null,
            "padding": null,
            "right": null,
            "top": null,
            "visibility": null,
            "width": null
          }
        },
        "5d29fc9efdb848d5bfaea19f06f66641": {
          "model_module": "@jupyter-widgets/base",
          "model_name": "LayoutModel",
          "model_module_version": "1.2.0",
          "state": {
            "_model_module": "@jupyter-widgets/base",
            "_model_module_version": "1.2.0",
            "_model_name": "LayoutModel",
            "_view_count": null,
            "_view_module": "@jupyter-widgets/base",
            "_view_module_version": "1.2.0",
            "_view_name": "LayoutView",
            "align_content": null,
            "align_items": null,
            "align_self": null,
            "border": null,
            "bottom": null,
            "display": null,
            "flex": null,
            "flex_flow": null,
            "grid_area": null,
            "grid_auto_columns": null,
            "grid_auto_flow": null,
            "grid_auto_rows": null,
            "grid_column": null,
            "grid_gap": null,
            "grid_row": null,
            "grid_template_areas": null,
            "grid_template_columns": null,
            "grid_template_rows": null,
            "height": null,
            "justify_content": null,
            "justify_items": null,
            "left": null,
            "margin": null,
            "max_height": null,
            "max_width": null,
            "min_height": null,
            "min_width": null,
            "object_fit": null,
            "object_position": null,
            "order": null,
            "overflow": null,
            "overflow_x": null,
            "overflow_y": null,
            "padding": null,
            "right": null,
            "top": null,
            "visibility": null,
            "width": null
          }
        },
        "52f69bf3f5b443fe82139eb6ba5d6693": {
          "model_module": "@jupyter-widgets/controls",
          "model_name": "DescriptionStyleModel",
          "model_module_version": "1.5.0",
          "state": {
            "_model_module": "@jupyter-widgets/controls",
            "_model_module_version": "1.5.0",
            "_model_name": "DescriptionStyleModel",
            "_view_count": null,
            "_view_module": "@jupyter-widgets/base",
            "_view_module_version": "1.2.0",
            "_view_name": "StyleView",
            "description_width": ""
          }
        },
        "dc632140b59b4fcaaab6edf4e824f724": {
          "model_module": "@jupyter-widgets/base",
          "model_name": "LayoutModel",
          "model_module_version": "1.2.0",
          "state": {
            "_model_module": "@jupyter-widgets/base",
            "_model_module_version": "1.2.0",
            "_model_name": "LayoutModel",
            "_view_count": null,
            "_view_module": "@jupyter-widgets/base",
            "_view_module_version": "1.2.0",
            "_view_name": "LayoutView",
            "align_content": null,
            "align_items": null,
            "align_self": null,
            "border": null,
            "bottom": null,
            "display": null,
            "flex": null,
            "flex_flow": null,
            "grid_area": null,
            "grid_auto_columns": null,
            "grid_auto_flow": null,
            "grid_auto_rows": null,
            "grid_column": null,
            "grid_gap": null,
            "grid_row": null,
            "grid_template_areas": null,
            "grid_template_columns": null,
            "grid_template_rows": null,
            "height": null,
            "justify_content": null,
            "justify_items": null,
            "left": null,
            "margin": null,
            "max_height": null,
            "max_width": null,
            "min_height": null,
            "min_width": null,
            "object_fit": null,
            "object_position": null,
            "order": null,
            "overflow": null,
            "overflow_x": null,
            "overflow_y": null,
            "padding": null,
            "right": null,
            "top": null,
            "visibility": null,
            "width": null
          }
        },
        "3255091e742a4f0c8bc469ca8c1f9bea": {
          "model_module": "@jupyter-widgets/controls",
          "model_name": "ProgressStyleModel",
          "model_module_version": "1.5.0",
          "state": {
            "_model_module": "@jupyter-widgets/controls",
            "_model_module_version": "1.5.0",
            "_model_name": "ProgressStyleModel",
            "_view_count": null,
            "_view_module": "@jupyter-widgets/base",
            "_view_module_version": "1.2.0",
            "_view_name": "StyleView",
            "bar_color": null,
            "description_width": ""
          }
        },
        "9a316852bfd041e9a10ddd0688b41b32": {
          "model_module": "@jupyter-widgets/base",
          "model_name": "LayoutModel",
          "model_module_version": "1.2.0",
          "state": {
            "_model_module": "@jupyter-widgets/base",
            "_model_module_version": "1.2.0",
            "_model_name": "LayoutModel",
            "_view_count": null,
            "_view_module": "@jupyter-widgets/base",
            "_view_module_version": "1.2.0",
            "_view_name": "LayoutView",
            "align_content": null,
            "align_items": null,
            "align_self": null,
            "border": null,
            "bottom": null,
            "display": null,
            "flex": null,
            "flex_flow": null,
            "grid_area": null,
            "grid_auto_columns": null,
            "grid_auto_flow": null,
            "grid_auto_rows": null,
            "grid_column": null,
            "grid_gap": null,
            "grid_row": null,
            "grid_template_areas": null,
            "grid_template_columns": null,
            "grid_template_rows": null,
            "height": null,
            "justify_content": null,
            "justify_items": null,
            "left": null,
            "margin": null,
            "max_height": null,
            "max_width": null,
            "min_height": null,
            "min_width": null,
            "object_fit": null,
            "object_position": null,
            "order": null,
            "overflow": null,
            "overflow_x": null,
            "overflow_y": null,
            "padding": null,
            "right": null,
            "top": null,
            "visibility": null,
            "width": null
          }
        },
        "948a02d103d44b988d5f1f3b30933e3c": {
          "model_module": "@jupyter-widgets/controls",
          "model_name": "DescriptionStyleModel",
          "model_module_version": "1.5.0",
          "state": {
            "_model_module": "@jupyter-widgets/controls",
            "_model_module_version": "1.5.0",
            "_model_name": "DescriptionStyleModel",
            "_view_count": null,
            "_view_module": "@jupyter-widgets/base",
            "_view_module_version": "1.2.0",
            "_view_name": "StyleView",
            "description_width": ""
          }
        }
      }
    }
  },
  "cells": [
    {
      "cell_type": "markdown",
      "metadata": {
        "id": "view-in-github",
        "colab_type": "text"
      },
      "source": [
        "<a href=\"https://colab.research.google.com/github/pachterlab/BI-BE-CS-183-2023/blob/main/HW2/Problem5.ipynb\" target=\"_parent\"><img src=\"https://colab.research.google.com/assets/colab-badge.svg\" alt=\"Open In Colab\"/></a>"
      ]
    },
    {
      "cell_type": "markdown",
      "metadata": {
        "id": "MozW3XxY8ezr"
      },
      "source": [
        "Bi/Be/Cs 183 2022-2023: Intro to Computational Biology\n",
        "TAs: Meichen Fang, Tara Chari, Zitong (Jerry) Wang\n",
        "\n",
        "**Submit your notebooks by sharing a clickable link with Viewer access. Link must be accessible from submitted assignment document.**\n",
        "\n",
        "Make sure Runtime $\\rightarrow$ Restart and run all works without error"
      ]
    },
    {
      "cell_type": "markdown",
      "source": [
        "**HW 2 Problem 5**\n",
        "\n",
        "Here you will explore how to use a *spatial* RNA-seq dataset to perform (1) logistic regression to extract genes which are cell type markers and (2) spatial (auto)correlation analysis to recover spatially-variant gene relationships, which may or may not map to cell type markers. This will combine using gene-count matrices and gene-coordinate matrices, where 2D coordinates are given for the genes in the tissue."
      ],
      "metadata": {
        "id": "P_iWpBOotaza"
      }
    },
    {
      "cell_type": "markdown",
      "metadata": {
        "id": "5oPRpu328neb"
      },
      "source": [
        "##**Import data and install packages**"
      ]
    },
    {
      "cell_type": "code",
      "source": [
        "!pip3 install --quiet anndata"
      ],
      "metadata": {
        "colab": {
          "base_uri": "https://localhost:8080/"
        },
        "id": "CYwCX805Injj",
        "outputId": "977caa6b-e7a1-415a-a816-604780f628fc"
      },
      "execution_count": null,
      "outputs": [
        {
          "output_type": "stream",
          "name": "stdout",
          "text": [
            "\u001b[?25l     \u001b[90m━━━━━━━━━━━━━━━━━━━━━━━━━━━━━━━━━━━━━━━━\u001b[0m \u001b[32m0.0/96.1 KB\u001b[0m \u001b[31m?\u001b[0m eta \u001b[36m-:--:--\u001b[0m\r\u001b[2K     \u001b[90m━━━━━━━━━━━━━━━━━━━━━━━━━━━━━━━━━━━━━━━━\u001b[0m \u001b[32m96.1/96.1 KB\u001b[0m \u001b[31m8.2 MB/s\u001b[0m eta \u001b[36m0:00:00\u001b[0m\n",
            "\u001b[?25h"
          ]
        }
      ]
    },
    {
      "cell_type": "code",
      "metadata": {
        "id": "vYTZEjs9AqwV"
      },
      "source": [
        "import numpy as np\n",
        "import scipy.io as sio\n",
        "import pandas as pd\n",
        "import matplotlib.pyplot as plt #Can use other plotting packages like seaborn\n",
        "import seaborn as sns\n",
        "import sklearn\n",
        "\n",
        "import anndata #Package for reading in single-cell datasets\n",
        "import os\n"
      ],
      "execution_count": null,
      "outputs": []
    },
    {
      "cell_type": "code",
      "metadata": {
        "id": "kNFuUFJ78cN5"
      },
      "source": [
        "# ! allows you to run commands in the command line, as you would in your normal terminal/command line interface"
      ],
      "execution_count": null,
      "outputs": []
    },
    {
      "cell_type": "code",
      "metadata": {
        "id": "yH-EpSmB9Y_x"
      },
      "source": [
        "#Download count matrix of cell by gene counts\n",
        "#Cells are 10x sequenced neurons from the mouse hypothalamus (Kim et al. 2019)\n",
        "\n",
        "import requests\n",
        "from tqdm import tnrange, tqdm_notebook\n",
        "def download_file(doi,ext):\n",
        "    url = 'https://api.datacite.org/dois/'+doi+'/media'\n",
        "    r = requests.get(url).json()\n",
        "    netcdf_url = r['data'][0]['attributes']['url']\n",
        "    r = requests.get(netcdf_url,stream=True)\n",
        "    #Set file name\n",
        "    fname = doi.split('/')[-1]+ext\n",
        "    #Download file with progress bar\n",
        "    if r.status_code == 403:\n",
        "        print(\"File Unavailable\")\n",
        "    if 'content-length' not in r.headers:\n",
        "        print(\"Did not get file\")\n",
        "    else:\n",
        "        with open(fname, 'wb') as f:\n",
        "            total_length = int(r.headers.get('content-length'))\n",
        "            pbar = tnrange(int(total_length/1024), unit=\"B\")\n",
        "            for chunk in r.iter_content(chunk_size=1024):\n",
        "                if chunk:\n",
        "                    pbar.update()\n",
        "                    f.write(chunk)\n",
        "        return fname\n",
        "\n"
      ],
      "execution_count": null,
      "outputs": []
    },
    {
      "cell_type": "code",
      "source": [],
      "metadata": {
        "id": "BOgp5mTwAULp"
      },
      "execution_count": null,
      "outputs": []
    },
    {
      "cell_type": "code",
      "metadata": {
        "id": "lBDp8sjR_fsQ",
        "colab": {
          "base_uri": "https://localhost:8080/",
          "height": 156,
          "referenced_widgets": [
            "0dba37c8a48041eba1ce5fc4b30f27a2",
            "3933423a952d4081be9f8e3d1633d82d",
            "5ee9ededd76d4621aaacc44b5c43357c",
            "f3791caaa445491e92a455da1d41f3c2",
            "135900ca4cc6425bafd7323a4a8d33de",
            "1efacab88ee24b7f8294ffcfc3098ec9",
            "1e8cbfdbf88f49c1b356f47665de9ac7",
            "d9223285ec144b3fb9b0f085712203f2",
            "e635c575cb0b4b98ad75c61a9503c8b1",
            "2611d8083f494f678e5fdb0a0242c6c0",
            "0a94f3cc0a03462bb782de95548c214c",
            "85030a27a3694960a9c7a7c58489a807",
            "6560b94f23c74882848f607c2bbacbfc",
            "b8f1409580814bebb4c99d4e8ce12722",
            "7029dadf6bc541d1a6680bdb157c743f",
            "7ef624efb28b4c2d8534d7772ebd6fa7",
            "5d29fc9efdb848d5bfaea19f06f66641",
            "52f69bf3f5b443fe82139eb6ba5d6693",
            "dc632140b59b4fcaaab6edf4e824f724",
            "3255091e742a4f0c8bc469ca8c1f9bea",
            "9a316852bfd041e9a10ddd0688b41b32",
            "948a02d103d44b988d5f1f3b30933e3c"
          ]
        },
        "outputId": "eb631aad-0af8-45d5-c7ff-697a46cf8004"
      },
      "source": [
        "#metadata.csv\n",
        "download_file('10.22002/D1.2063','.gz')\n",
        "\n",
        "#counts.h5ad\n",
        "download_file('10.22002/D1.2064','.gz')\n",
        "\n",
        "os.system(\"gunzip *.gz\")\n",
        "\n",
        "os.system(\"mv D1.2063 metadata.csv\")\n",
        "os.system(\"mv D1.2064 counts.h5ad\")"
      ],
      "execution_count": null,
      "outputs": [
        {
          "output_type": "stream",
          "name": "stderr",
          "text": [
            "<ipython-input-3-1f0c3f82847e>:21: TqdmDeprecationWarning: Please use `tqdm.notebook.trange` instead of `tqdm.tnrange`\n",
            "  pbar = tnrange(int(total_length/1024), unit=\"B\")\n"
          ]
        },
        {
          "output_type": "display_data",
          "data": {
            "text/plain": [
              "  0%|          | 0/9784 [00:00<?, ?B/s]"
            ],
            "application/vnd.jupyter.widget-view+json": {
              "version_major": 2,
              "version_minor": 0,
              "model_id": "0dba37c8a48041eba1ce5fc4b30f27a2"
            }
          },
          "metadata": {}
        },
        {
          "output_type": "display_data",
          "data": {
            "text/plain": [
              "  0%|          | 0/59360 [00:00<?, ?B/s]"
            ],
            "application/vnd.jupyter.widget-view+json": {
              "version_major": 2,
              "version_minor": 0,
              "model_id": "85030a27a3694960a9c7a7c58489a807"
            }
          },
          "metadata": {}
        },
        {
          "output_type": "execute_result",
          "data": {
            "text/plain": [
              "0"
            ]
          },
          "metadata": {},
          "execution_count": 4
        }
      ]
    },
    {
      "cell_type": "markdown",
      "metadata": {
        "id": "PPv4FIlm8rtQ"
      },
      "source": [
        "## **Read in data for analysis**"
      ]
    },
    {
      "cell_type": "markdown",
      "metadata": {
        "id": "bldcPDtroHZ_"
      },
      "source": [
        "**The dataset**\n",
        "\n",
        "This dataset is taken from [Zhang et al. 2021](https://www.nature.com/articles/s41586-021-03705-x#Sec8). The goal of this study was to look at the spatial mRNA profile of mouse primary motor cortex (MOp) using a single-cell transcriptome-imaging method i.e. multiplexed error-robust fluorescence in situ hybridization (MERFISH) [(see Moffitt et al. 2016)](https://www.pnas.org/doi/10.1073/pnas.1612826113). \n",
        "\n",
        "MERFISH uses combinatorial oligonucleotide labeling to barcode RNAs (e.g. on a slice of tissue), enabling transcriptome-scale RNA imaging of individual cells. Molecule detection and counting is done through sequential rounds of imaging and *in situ* hybridization of fluorescent probes to the mRNA molecules, using single-molecule FISH techniques (smFISH). \n",
        "\n",
        "From the imaging analysis, we have counts of genes per cell (cells determined by image segmentation) and physical coordinates for these cells.\n",
        "\n",
        "<center><img src=\"https://drive.google.com/uc?export=view&id=130o7cb0HeqNXA39eV61M8UoUVkJYByAi\" alt=\"MOpFigure\" width=\"800\" height=\"350\"><center>\n",
        "\n"
      ]
    },
    {
      "cell_type": "markdown",
      "metadata": {
        "id": "2qq9TO5V97Vr"
      },
      "source": [
        "**The Count matrix**\n",
        "\n",
        "The full matrix has ~280,000 cells by 254 genes. Though images were taken over three dimensions (x,y,z coordinates) we will use only one tissue slice (x,y coordinates at one z coordinate) for analysis, which has 6,963 cells.\n",
        "\n",
        "1.   For each cell, gene counts were normalized to have the same number of total counts (usually 1e5 or 1e6), with cell-gene counts thus scaled accordingly.\n",
        "\n",
        "2.   Counts were then log-normalized, using the log(1+x), where x is each cell's gene count. \n",
        "\n",
        "The metadata data contains coordinates, x and y, for each cell.\n",
        "\n",
        "\n",
        " \n"
      ]
    },
    {
      "cell_type": "code",
      "metadata": {
        "id": "tZ1h_dME8vJb",
        "colab": {
          "base_uri": "https://localhost:8080/",
          "height": 35
        },
        "outputId": "51c66bd1-ab0f-497d-d8b8-6ec478724cd6"
      },
      "source": [
        "#Get gene count matrix\n",
        "\n",
        "counts = anndata.read('./counts.h5ad')\n",
        "counts.shape\n",
        "\n",
        "     "
      ],
      "execution_count": null,
      "outputs": [
        {
          "output_type": "execute_result",
          "data": {
            "text/plain": [
              "(280327, 254)"
            ]
          },
          "metadata": {},
          "execution_count": 5
        }
      ]
    },
    {
      "cell_type": "code",
      "metadata": {
        "id": "NFissu8VB92P",
        "colab": {
          "base_uri": "https://localhost:8080/",
          "height": 270
        },
        "outputId": "29f9626d-6f11-470a-93d1-c0a1804d12ab"
      },
      "source": [
        "#Get metadata dataframe for the 41,580 cells (rows of the matrix)\n",
        "cellMeta = pd.read_csv('./metadata.csv')\n",
        "cellMeta.head()\n",
        "     "
      ],
      "execution_count": null,
      "outputs": [
        {
          "output_type": "execute_result",
          "data": {
            "text/plain": [
              "     Unnamed: 0  fovID     fov_x     fov_y       volume     center_x  \\\n",
              "0  1.000010e+37     13  4539.310  2986.899   992.830060  4738.397298   \n",
              "1  1.000020e+38    290 -4016.860  1404.780   610.091871 -3964.711404   \n",
              "2  1.000070e+38    113   750.406  1143.102   148.277718   805.843523   \n",
              "3  1.000070e+38    432  1262.680 -3752.030   249.515471  1348.686198   \n",
              "4  1.000090e+38    354 -3627.450 -1987.730  1779.831996 -3584.650904   \n",
              "\n",
              "      center_y         slice_id         sample_id     label     subclass  \\\n",
              "0  3075.327399   mouse2_slice31  dataset2_sample4   Astro_1   Astrocytes   \n",
              "1  1451.889047  mouse2_slice160  dataset2_sample5      Endo  Endothelial   \n",
              "2  1215.035473  mouse2_slice109  dataset2_sample6       SMC          SMC   \n",
              "3 -3589.955255   mouse1_slice71  dataset1_sample2      Endo  Endothelial   \n",
              "4 -1883.105955  mouse2_slice219  dataset2_sample5  L23_IT_3       L23_IT   \n",
              "\n",
              "     class_label  \n",
              "0          Other  \n",
              "1          Other  \n",
              "2          Other  \n",
              "3          Other  \n",
              "4  Glutamatergic  "
            ],
            "text/html": [
              "\n",
              "  <div id=\"df-1782c8a3-39eb-46f8-9fd4-9edf72206775\">\n",
              "    <div class=\"colab-df-container\">\n",
              "      <div>\n",
              "<style scoped>\n",
              "    .dataframe tbody tr th:only-of-type {\n",
              "        vertical-align: middle;\n",
              "    }\n",
              "\n",
              "    .dataframe tbody tr th {\n",
              "        vertical-align: top;\n",
              "    }\n",
              "\n",
              "    .dataframe thead th {\n",
              "        text-align: right;\n",
              "    }\n",
              "</style>\n",
              "<table border=\"1\" class=\"dataframe\">\n",
              "  <thead>\n",
              "    <tr style=\"text-align: right;\">\n",
              "      <th></th>\n",
              "      <th>Unnamed: 0</th>\n",
              "      <th>fovID</th>\n",
              "      <th>fov_x</th>\n",
              "      <th>fov_y</th>\n",
              "      <th>volume</th>\n",
              "      <th>center_x</th>\n",
              "      <th>center_y</th>\n",
              "      <th>slice_id</th>\n",
              "      <th>sample_id</th>\n",
              "      <th>label</th>\n",
              "      <th>subclass</th>\n",
              "      <th>class_label</th>\n",
              "    </tr>\n",
              "  </thead>\n",
              "  <tbody>\n",
              "    <tr>\n",
              "      <th>0</th>\n",
              "      <td>1.000010e+37</td>\n",
              "      <td>13</td>\n",
              "      <td>4539.310</td>\n",
              "      <td>2986.899</td>\n",
              "      <td>992.830060</td>\n",
              "      <td>4738.397298</td>\n",
              "      <td>3075.327399</td>\n",
              "      <td>mouse2_slice31</td>\n",
              "      <td>dataset2_sample4</td>\n",
              "      <td>Astro_1</td>\n",
              "      <td>Astrocytes</td>\n",
              "      <td>Other</td>\n",
              "    </tr>\n",
              "    <tr>\n",
              "      <th>1</th>\n",
              "      <td>1.000020e+38</td>\n",
              "      <td>290</td>\n",
              "      <td>-4016.860</td>\n",
              "      <td>1404.780</td>\n",
              "      <td>610.091871</td>\n",
              "      <td>-3964.711404</td>\n",
              "      <td>1451.889047</td>\n",
              "      <td>mouse2_slice160</td>\n",
              "      <td>dataset2_sample5</td>\n",
              "      <td>Endo</td>\n",
              "      <td>Endothelial</td>\n",
              "      <td>Other</td>\n",
              "    </tr>\n",
              "    <tr>\n",
              "      <th>2</th>\n",
              "      <td>1.000070e+38</td>\n",
              "      <td>113</td>\n",
              "      <td>750.406</td>\n",
              "      <td>1143.102</td>\n",
              "      <td>148.277718</td>\n",
              "      <td>805.843523</td>\n",
              "      <td>1215.035473</td>\n",
              "      <td>mouse2_slice109</td>\n",
              "      <td>dataset2_sample6</td>\n",
              "      <td>SMC</td>\n",
              "      <td>SMC</td>\n",
              "      <td>Other</td>\n",
              "    </tr>\n",
              "    <tr>\n",
              "      <th>3</th>\n",
              "      <td>1.000070e+38</td>\n",
              "      <td>432</td>\n",
              "      <td>1262.680</td>\n",
              "      <td>-3752.030</td>\n",
              "      <td>249.515471</td>\n",
              "      <td>1348.686198</td>\n",
              "      <td>-3589.955255</td>\n",
              "      <td>mouse1_slice71</td>\n",
              "      <td>dataset1_sample2</td>\n",
              "      <td>Endo</td>\n",
              "      <td>Endothelial</td>\n",
              "      <td>Other</td>\n",
              "    </tr>\n",
              "    <tr>\n",
              "      <th>4</th>\n",
              "      <td>1.000090e+38</td>\n",
              "      <td>354</td>\n",
              "      <td>-3627.450</td>\n",
              "      <td>-1987.730</td>\n",
              "      <td>1779.831996</td>\n",
              "      <td>-3584.650904</td>\n",
              "      <td>-1883.105955</td>\n",
              "      <td>mouse2_slice219</td>\n",
              "      <td>dataset2_sample5</td>\n",
              "      <td>L23_IT_3</td>\n",
              "      <td>L23_IT</td>\n",
              "      <td>Glutamatergic</td>\n",
              "    </tr>\n",
              "  </tbody>\n",
              "</table>\n",
              "</div>\n",
              "      <button class=\"colab-df-convert\" onclick=\"convertToInteractive('df-1782c8a3-39eb-46f8-9fd4-9edf72206775')\"\n",
              "              title=\"Convert this dataframe to an interactive table.\"\n",
              "              style=\"display:none;\">\n",
              "        \n",
              "  <svg xmlns=\"http://www.w3.org/2000/svg\" height=\"24px\"viewBox=\"0 0 24 24\"\n",
              "       width=\"24px\">\n",
              "    <path d=\"M0 0h24v24H0V0z\" fill=\"none\"/>\n",
              "    <path d=\"M18.56 5.44l.94 2.06.94-2.06 2.06-.94-2.06-.94-.94-2.06-.94 2.06-2.06.94zm-11 1L8.5 8.5l.94-2.06 2.06-.94-2.06-.94L8.5 2.5l-.94 2.06-2.06.94zm10 10l.94 2.06.94-2.06 2.06-.94-2.06-.94-.94-2.06-.94 2.06-2.06.94z\"/><path d=\"M17.41 7.96l-1.37-1.37c-.4-.4-.92-.59-1.43-.59-.52 0-1.04.2-1.43.59L10.3 9.45l-7.72 7.72c-.78.78-.78 2.05 0 2.83L4 21.41c.39.39.9.59 1.41.59.51 0 1.02-.2 1.41-.59l7.78-7.78 2.81-2.81c.8-.78.8-2.07 0-2.86zM5.41 20L4 18.59l7.72-7.72 1.47 1.35L5.41 20z\"/>\n",
              "  </svg>\n",
              "      </button>\n",
              "      \n",
              "  <style>\n",
              "    .colab-df-container {\n",
              "      display:flex;\n",
              "      flex-wrap:wrap;\n",
              "      gap: 12px;\n",
              "    }\n",
              "\n",
              "    .colab-df-convert {\n",
              "      background-color: #E8F0FE;\n",
              "      border: none;\n",
              "      border-radius: 50%;\n",
              "      cursor: pointer;\n",
              "      display: none;\n",
              "      fill: #1967D2;\n",
              "      height: 32px;\n",
              "      padding: 0 0 0 0;\n",
              "      width: 32px;\n",
              "    }\n",
              "\n",
              "    .colab-df-convert:hover {\n",
              "      background-color: #E2EBFA;\n",
              "      box-shadow: 0px 1px 2px rgba(60, 64, 67, 0.3), 0px 1px 3px 1px rgba(60, 64, 67, 0.15);\n",
              "      fill: #174EA6;\n",
              "    }\n",
              "\n",
              "    [theme=dark] .colab-df-convert {\n",
              "      background-color: #3B4455;\n",
              "      fill: #D2E3FC;\n",
              "    }\n",
              "\n",
              "    [theme=dark] .colab-df-convert:hover {\n",
              "      background-color: #434B5C;\n",
              "      box-shadow: 0px 1px 3px 1px rgba(0, 0, 0, 0.15);\n",
              "      filter: drop-shadow(0px 1px 2px rgba(0, 0, 0, 0.3));\n",
              "      fill: #FFFFFF;\n",
              "    }\n",
              "  </style>\n",
              "\n",
              "      <script>\n",
              "        const buttonEl =\n",
              "          document.querySelector('#df-1782c8a3-39eb-46f8-9fd4-9edf72206775 button.colab-df-convert');\n",
              "        buttonEl.style.display =\n",
              "          google.colab.kernel.accessAllowed ? 'block' : 'none';\n",
              "\n",
              "        async function convertToInteractive(key) {\n",
              "          const element = document.querySelector('#df-1782c8a3-39eb-46f8-9fd4-9edf72206775');\n",
              "          const dataTable =\n",
              "            await google.colab.kernel.invokeFunction('convertToInteractive',\n",
              "                                                     [key], {});\n",
              "          if (!dataTable) return;\n",
              "\n",
              "          const docLinkHtml = 'Like what you see? Visit the ' +\n",
              "            '<a target=\"_blank\" href=https://colab.research.google.com/notebooks/data_table.ipynb>data table notebook</a>'\n",
              "            + ' to learn more about interactive tables.';\n",
              "          element.innerHTML = '';\n",
              "          dataTable['output_type'] = 'display_data';\n",
              "          await google.colab.output.renderOutput(dataTable, element);\n",
              "          const docLink = document.createElement('div');\n",
              "          docLink.innerHTML = docLinkHtml;\n",
              "          element.appendChild(docLink);\n",
              "        }\n",
              "      </script>\n",
              "    </div>\n",
              "  </div>\n",
              "  "
            ]
          },
          "metadata": {},
          "execution_count": 6
        }
      ]
    },
    {
      "cell_type": "code",
      "source": [
        "#Subset for only a single slice of the tissue (z-stack)\n",
        "choice = np.unique(cellMeta.slice_id)[7] #7\n",
        "choice\n"
      ],
      "metadata": {
        "colab": {
          "base_uri": "https://localhost:8080/",
          "height": 36
        },
        "id": "597jpCdVIy0L",
        "outputId": "5d46668d-9eef-44d4-82c8-a929f9734fd5"
      },
      "execution_count": null,
      "outputs": [
        {
          "output_type": "execute_result",
          "data": {
            "text/plain": [
              "'mouse1_slice162'"
            ],
            "application/vnd.google.colaboratory.intrinsic+json": {
              "type": "string"
            }
          },
          "metadata": {},
          "execution_count": 7
        }
      ]
    },
    {
      "cell_type": "code",
      "metadata": {
        "id": "xzz-5cVyCsS4",
        "colab": {
          "base_uri": "https://localhost:8080/",
          "height": 243
        },
        "outputId": "aacbea88-9098-4aec-f2c4-80534d086551"
      },
      "source": [
        "#Subset the anndata object\n",
        "counts.obs['slice'] = pd.Categorical(cellMeta.slice_id)\n",
        "\n",
        "sub = counts[counts.obs['slice'].isin([choice])]\n",
        "print(sub)\n",
        "\n",
        "\n",
        "cellMeta_sub = cellMeta[cellMeta['slice_id'].isin([choice])]\n",
        "meta = pd.DataFrame()\n",
        "meta['type'] = cellMeta_sub['subclass']\n",
        "meta['x'] = cellMeta_sub['center_x']#Use center of cell coordinates\n",
        "meta['y'] = cellMeta_sub['center_y']\n",
        "\n",
        "gene_names = np.array(sub.var_names)\n",
        "\n",
        "meta.head()\n"
      ],
      "execution_count": null,
      "outputs": [
        {
          "output_type": "stream",
          "name": "stdout",
          "text": [
            "View of AnnData object with n_obs × n_vars = 6963 × 254\n",
            "    obs: 'slice'\n"
          ]
        },
        {
          "output_type": "execute_result",
          "data": {
            "text/plain": [
              "                 type            x            y\n",
              "19          Microglia -5708.654099 -1647.945955\n",
              "28              L6_IT -6813.115601 -2076.176954\n",
              "86         Astrocytes -6236.278100 -2378.800452\n",
              "138  Oligodendrocytes -5864.400100 -2630.015455\n",
              "163            L23_IT -4336.870103 -2641.078955"
            ],
            "text/html": [
              "\n",
              "  <div id=\"df-d77ed113-abc8-4ece-b9ce-eb2ef55ec20a\">\n",
              "    <div class=\"colab-df-container\">\n",
              "      <div>\n",
              "<style scoped>\n",
              "    .dataframe tbody tr th:only-of-type {\n",
              "        vertical-align: middle;\n",
              "    }\n",
              "\n",
              "    .dataframe tbody tr th {\n",
              "        vertical-align: top;\n",
              "    }\n",
              "\n",
              "    .dataframe thead th {\n",
              "        text-align: right;\n",
              "    }\n",
              "</style>\n",
              "<table border=\"1\" class=\"dataframe\">\n",
              "  <thead>\n",
              "    <tr style=\"text-align: right;\">\n",
              "      <th></th>\n",
              "      <th>type</th>\n",
              "      <th>x</th>\n",
              "      <th>y</th>\n",
              "    </tr>\n",
              "  </thead>\n",
              "  <tbody>\n",
              "    <tr>\n",
              "      <th>19</th>\n",
              "      <td>Microglia</td>\n",
              "      <td>-5708.654099</td>\n",
              "      <td>-1647.945955</td>\n",
              "    </tr>\n",
              "    <tr>\n",
              "      <th>28</th>\n",
              "      <td>L6_IT</td>\n",
              "      <td>-6813.115601</td>\n",
              "      <td>-2076.176954</td>\n",
              "    </tr>\n",
              "    <tr>\n",
              "      <th>86</th>\n",
              "      <td>Astrocytes</td>\n",
              "      <td>-6236.278100</td>\n",
              "      <td>-2378.800452</td>\n",
              "    </tr>\n",
              "    <tr>\n",
              "      <th>138</th>\n",
              "      <td>Oligodendrocytes</td>\n",
              "      <td>-5864.400100</td>\n",
              "      <td>-2630.015455</td>\n",
              "    </tr>\n",
              "    <tr>\n",
              "      <th>163</th>\n",
              "      <td>L23_IT</td>\n",
              "      <td>-4336.870103</td>\n",
              "      <td>-2641.078955</td>\n",
              "    </tr>\n",
              "  </tbody>\n",
              "</table>\n",
              "</div>\n",
              "      <button class=\"colab-df-convert\" onclick=\"convertToInteractive('df-d77ed113-abc8-4ece-b9ce-eb2ef55ec20a')\"\n",
              "              title=\"Convert this dataframe to an interactive table.\"\n",
              "              style=\"display:none;\">\n",
              "        \n",
              "  <svg xmlns=\"http://www.w3.org/2000/svg\" height=\"24px\"viewBox=\"0 0 24 24\"\n",
              "       width=\"24px\">\n",
              "    <path d=\"M0 0h24v24H0V0z\" fill=\"none\"/>\n",
              "    <path d=\"M18.56 5.44l.94 2.06.94-2.06 2.06-.94-2.06-.94-.94-2.06-.94 2.06-2.06.94zm-11 1L8.5 8.5l.94-2.06 2.06-.94-2.06-.94L8.5 2.5l-.94 2.06-2.06.94zm10 10l.94 2.06.94-2.06 2.06-.94-2.06-.94-.94-2.06-.94 2.06-2.06.94z\"/><path d=\"M17.41 7.96l-1.37-1.37c-.4-.4-.92-.59-1.43-.59-.52 0-1.04.2-1.43.59L10.3 9.45l-7.72 7.72c-.78.78-.78 2.05 0 2.83L4 21.41c.39.39.9.59 1.41.59.51 0 1.02-.2 1.41-.59l7.78-7.78 2.81-2.81c.8-.78.8-2.07 0-2.86zM5.41 20L4 18.59l7.72-7.72 1.47 1.35L5.41 20z\"/>\n",
              "  </svg>\n",
              "      </button>\n",
              "      \n",
              "  <style>\n",
              "    .colab-df-container {\n",
              "      display:flex;\n",
              "      flex-wrap:wrap;\n",
              "      gap: 12px;\n",
              "    }\n",
              "\n",
              "    .colab-df-convert {\n",
              "      background-color: #E8F0FE;\n",
              "      border: none;\n",
              "      border-radius: 50%;\n",
              "      cursor: pointer;\n",
              "      display: none;\n",
              "      fill: #1967D2;\n",
              "      height: 32px;\n",
              "      padding: 0 0 0 0;\n",
              "      width: 32px;\n",
              "    }\n",
              "\n",
              "    .colab-df-convert:hover {\n",
              "      background-color: #E2EBFA;\n",
              "      box-shadow: 0px 1px 2px rgba(60, 64, 67, 0.3), 0px 1px 3px 1px rgba(60, 64, 67, 0.15);\n",
              "      fill: #174EA6;\n",
              "    }\n",
              "\n",
              "    [theme=dark] .colab-df-convert {\n",
              "      background-color: #3B4455;\n",
              "      fill: #D2E3FC;\n",
              "    }\n",
              "\n",
              "    [theme=dark] .colab-df-convert:hover {\n",
              "      background-color: #434B5C;\n",
              "      box-shadow: 0px 1px 3px 1px rgba(0, 0, 0, 0.15);\n",
              "      filter: drop-shadow(0px 1px 2px rgba(0, 0, 0, 0.3));\n",
              "      fill: #FFFFFF;\n",
              "    }\n",
              "  </style>\n",
              "\n",
              "      <script>\n",
              "        const buttonEl =\n",
              "          document.querySelector('#df-d77ed113-abc8-4ece-b9ce-eb2ef55ec20a button.colab-df-convert');\n",
              "        buttonEl.style.display =\n",
              "          google.colab.kernel.accessAllowed ? 'block' : 'none';\n",
              "\n",
              "        async function convertToInteractive(key) {\n",
              "          const element = document.querySelector('#df-d77ed113-abc8-4ece-b9ce-eb2ef55ec20a');\n",
              "          const dataTable =\n",
              "            await google.colab.kernel.invokeFunction('convertToInteractive',\n",
              "                                                     [key], {});\n",
              "          if (!dataTable) return;\n",
              "\n",
              "          const docLinkHtml = 'Like what you see? Visit the ' +\n",
              "            '<a target=\"_blank\" href=https://colab.research.google.com/notebooks/data_table.ipynb>data table notebook</a>'\n",
              "            + ' to learn more about interactive tables.';\n",
              "          element.innerHTML = '';\n",
              "          dataTable['output_type'] = 'display_data';\n",
              "          await google.colab.output.renderOutput(dataTable, element);\n",
              "          const docLink = document.createElement('div');\n",
              "          docLink.innerHTML = docLinkHtml;\n",
              "          element.appendChild(docLink);\n",
              "        }\n",
              "      </script>\n",
              "    </div>\n",
              "  </div>\n",
              "  "
            ]
          },
          "metadata": {},
          "execution_count": 8
        }
      ]
    },
    {
      "cell_type": "markdown",
      "source": [
        "Make count matrix and metadata to be used in Problem 5"
      ],
      "metadata": {
        "id": "qq_sIjEaKqwR"
      }
    },
    {
      "cell_type": "code",
      "source": [
        "count_mat = np.log1p(sub.X)\n",
        "print(count_mat.shape)\n",
        "\n",
        "#Show metadata\n",
        "meta"
      ],
      "metadata": {
        "colab": {
          "base_uri": "https://localhost:8080/",
          "height": 442
        },
        "id": "i7ny4jVfKgPZ",
        "outputId": "d130e73d-d5be-41f4-82cb-85e3d54dce9e"
      },
      "execution_count": null,
      "outputs": [
        {
          "output_type": "stream",
          "name": "stdout",
          "text": [
            "(6963, 254)\n"
          ]
        },
        {
          "output_type": "execute_result",
          "data": {
            "text/plain": [
              "                    type            x            y\n",
              "19             Microglia -5708.654099 -1647.945955\n",
              "28                 L6_IT -6813.115601 -2076.176954\n",
              "86            Astrocytes -6236.278100 -2378.800452\n",
              "138     Oligodendrocytes -5864.400100 -2630.015455\n",
              "163               L23_IT -4336.870103 -2641.078955\n",
              "...                  ...          ...          ...\n",
              "280020        L6_IT_Car3 -5165.864102 -2960.215952\n",
              "280078        Astrocytes -6780.633602 -1305.225453\n",
              "280113            L23_IT -6686.363599 -1091.872954\n",
              "280203            L45_IT -5238.730600 -1744.737953\n",
              "280211            L45_IT -5478.951599 -1712.310453\n",
              "\n",
              "[6963 rows x 3 columns]"
            ],
            "text/html": [
              "\n",
              "  <div id=\"df-e72e750b-7739-4247-8628-991b268bbf29\">\n",
              "    <div class=\"colab-df-container\">\n",
              "      <div>\n",
              "<style scoped>\n",
              "    .dataframe tbody tr th:only-of-type {\n",
              "        vertical-align: middle;\n",
              "    }\n",
              "\n",
              "    .dataframe tbody tr th {\n",
              "        vertical-align: top;\n",
              "    }\n",
              "\n",
              "    .dataframe thead th {\n",
              "        text-align: right;\n",
              "    }\n",
              "</style>\n",
              "<table border=\"1\" class=\"dataframe\">\n",
              "  <thead>\n",
              "    <tr style=\"text-align: right;\">\n",
              "      <th></th>\n",
              "      <th>type</th>\n",
              "      <th>x</th>\n",
              "      <th>y</th>\n",
              "    </tr>\n",
              "  </thead>\n",
              "  <tbody>\n",
              "    <tr>\n",
              "      <th>19</th>\n",
              "      <td>Microglia</td>\n",
              "      <td>-5708.654099</td>\n",
              "      <td>-1647.945955</td>\n",
              "    </tr>\n",
              "    <tr>\n",
              "      <th>28</th>\n",
              "      <td>L6_IT</td>\n",
              "      <td>-6813.115601</td>\n",
              "      <td>-2076.176954</td>\n",
              "    </tr>\n",
              "    <tr>\n",
              "      <th>86</th>\n",
              "      <td>Astrocytes</td>\n",
              "      <td>-6236.278100</td>\n",
              "      <td>-2378.800452</td>\n",
              "    </tr>\n",
              "    <tr>\n",
              "      <th>138</th>\n",
              "      <td>Oligodendrocytes</td>\n",
              "      <td>-5864.400100</td>\n",
              "      <td>-2630.015455</td>\n",
              "    </tr>\n",
              "    <tr>\n",
              "      <th>163</th>\n",
              "      <td>L23_IT</td>\n",
              "      <td>-4336.870103</td>\n",
              "      <td>-2641.078955</td>\n",
              "    </tr>\n",
              "    <tr>\n",
              "      <th>...</th>\n",
              "      <td>...</td>\n",
              "      <td>...</td>\n",
              "      <td>...</td>\n",
              "    </tr>\n",
              "    <tr>\n",
              "      <th>280020</th>\n",
              "      <td>L6_IT_Car3</td>\n",
              "      <td>-5165.864102</td>\n",
              "      <td>-2960.215952</td>\n",
              "    </tr>\n",
              "    <tr>\n",
              "      <th>280078</th>\n",
              "      <td>Astrocytes</td>\n",
              "      <td>-6780.633602</td>\n",
              "      <td>-1305.225453</td>\n",
              "    </tr>\n",
              "    <tr>\n",
              "      <th>280113</th>\n",
              "      <td>L23_IT</td>\n",
              "      <td>-6686.363599</td>\n",
              "      <td>-1091.872954</td>\n",
              "    </tr>\n",
              "    <tr>\n",
              "      <th>280203</th>\n",
              "      <td>L45_IT</td>\n",
              "      <td>-5238.730600</td>\n",
              "      <td>-1744.737953</td>\n",
              "    </tr>\n",
              "    <tr>\n",
              "      <th>280211</th>\n",
              "      <td>L45_IT</td>\n",
              "      <td>-5478.951599</td>\n",
              "      <td>-1712.310453</td>\n",
              "    </tr>\n",
              "  </tbody>\n",
              "</table>\n",
              "<p>6963 rows × 3 columns</p>\n",
              "</div>\n",
              "      <button class=\"colab-df-convert\" onclick=\"convertToInteractive('df-e72e750b-7739-4247-8628-991b268bbf29')\"\n",
              "              title=\"Convert this dataframe to an interactive table.\"\n",
              "              style=\"display:none;\">\n",
              "        \n",
              "  <svg xmlns=\"http://www.w3.org/2000/svg\" height=\"24px\"viewBox=\"0 0 24 24\"\n",
              "       width=\"24px\">\n",
              "    <path d=\"M0 0h24v24H0V0z\" fill=\"none\"/>\n",
              "    <path d=\"M18.56 5.44l.94 2.06.94-2.06 2.06-.94-2.06-.94-.94-2.06-.94 2.06-2.06.94zm-11 1L8.5 8.5l.94-2.06 2.06-.94-2.06-.94L8.5 2.5l-.94 2.06-2.06.94zm10 10l.94 2.06.94-2.06 2.06-.94-2.06-.94-.94-2.06-.94 2.06-2.06.94z\"/><path d=\"M17.41 7.96l-1.37-1.37c-.4-.4-.92-.59-1.43-.59-.52 0-1.04.2-1.43.59L10.3 9.45l-7.72 7.72c-.78.78-.78 2.05 0 2.83L4 21.41c.39.39.9.59 1.41.59.51 0 1.02-.2 1.41-.59l7.78-7.78 2.81-2.81c.8-.78.8-2.07 0-2.86zM5.41 20L4 18.59l7.72-7.72 1.47 1.35L5.41 20z\"/>\n",
              "  </svg>\n",
              "      </button>\n",
              "      \n",
              "  <style>\n",
              "    .colab-df-container {\n",
              "      display:flex;\n",
              "      flex-wrap:wrap;\n",
              "      gap: 12px;\n",
              "    }\n",
              "\n",
              "    .colab-df-convert {\n",
              "      background-color: #E8F0FE;\n",
              "      border: none;\n",
              "      border-radius: 50%;\n",
              "      cursor: pointer;\n",
              "      display: none;\n",
              "      fill: #1967D2;\n",
              "      height: 32px;\n",
              "      padding: 0 0 0 0;\n",
              "      width: 32px;\n",
              "    }\n",
              "\n",
              "    .colab-df-convert:hover {\n",
              "      background-color: #E2EBFA;\n",
              "      box-shadow: 0px 1px 2px rgba(60, 64, 67, 0.3), 0px 1px 3px 1px rgba(60, 64, 67, 0.15);\n",
              "      fill: #174EA6;\n",
              "    }\n",
              "\n",
              "    [theme=dark] .colab-df-convert {\n",
              "      background-color: #3B4455;\n",
              "      fill: #D2E3FC;\n",
              "    }\n",
              "\n",
              "    [theme=dark] .colab-df-convert:hover {\n",
              "      background-color: #434B5C;\n",
              "      box-shadow: 0px 1px 3px 1px rgba(0, 0, 0, 0.15);\n",
              "      filter: drop-shadow(0px 1px 2px rgba(0, 0, 0, 0.3));\n",
              "      fill: #FFFFFF;\n",
              "    }\n",
              "  </style>\n",
              "\n",
              "      <script>\n",
              "        const buttonEl =\n",
              "          document.querySelector('#df-e72e750b-7739-4247-8628-991b268bbf29 button.colab-df-convert');\n",
              "        buttonEl.style.display =\n",
              "          google.colab.kernel.accessAllowed ? 'block' : 'none';\n",
              "\n",
              "        async function convertToInteractive(key) {\n",
              "          const element = document.querySelector('#df-e72e750b-7739-4247-8628-991b268bbf29');\n",
              "          const dataTable =\n",
              "            await google.colab.kernel.invokeFunction('convertToInteractive',\n",
              "                                                     [key], {});\n",
              "          if (!dataTable) return;\n",
              "\n",
              "          const docLinkHtml = 'Like what you see? Visit the ' +\n",
              "            '<a target=\"_blank\" href=https://colab.research.google.com/notebooks/data_table.ipynb>data table notebook</a>'\n",
              "            + ' to learn more about interactive tables.';\n",
              "          element.innerHTML = '';\n",
              "          dataTable['output_type'] = 'display_data';\n",
              "          await google.colab.output.renderOutput(dataTable, element);\n",
              "          const docLink = document.createElement('div');\n",
              "          docLink.innerHTML = docLinkHtml;\n",
              "          element.appendChild(docLink);\n",
              "        }\n",
              "      </script>\n",
              "    </div>\n",
              "  </div>\n",
              "  "
            ]
          },
          "metadata": {},
          "execution_count": 9
        }
      ]
    },
    {
      "cell_type": "code",
      "metadata": {
        "id": "plqTILR-DdnC",
        "colab": {
          "base_uri": "https://localhost:8080/"
        },
        "outputId": "550d9577-6dae-4426-d851-e47f25f4e8ce"
      },
      "source": [
        "#See all the cell type categories\n",
        "np.unique(meta['type']) #Cell populations are marked by the genes they express (as compared to other cell populations)"
      ],
      "execution_count": null,
      "outputs": [
        {
          "output_type": "execute_result",
          "data": {
            "text/plain": [
              "array(['Astrocytes', 'Endothelial', 'L23_IT', 'L45_IT', 'L56_NP', 'L5_IT',\n",
              "       'L5_PT', 'L6_CT', 'L6_IT', 'L6_IT_Car3', 'L6b', 'Lamp5',\n",
              "       'Microglia', 'OPC', 'Oligodendrocytes', 'PVM', 'Pericytes',\n",
              "       'Pvalb', 'SMC', 'Sncg', 'Sst', 'Sst_Chodl', 'VLMC', 'Vip', 'other'],\n",
              "      dtype=object)"
            ]
          },
          "metadata": {},
          "execution_count": 10
        }
      ]
    },
    {
      "cell_type": "code",
      "source": [
        "#First 10 genes names, in the cell x gene matrix\n",
        "gene_names[0:10]"
      ],
      "metadata": {
        "colab": {
          "base_uri": "https://localhost:8080/"
        },
        "id": "kMOpH1H9m22M",
        "outputId": "f294a6b7-d829-4f58-8d94-8bae8ff381e2"
      },
      "execution_count": null,
      "outputs": [
        {
          "output_type": "execute_result",
          "data": {
            "text/plain": [
              "array(['1700022I11Rik', '1810046K07Rik', '5031425F14Rik', '5730522E02Rik',\n",
              "       'Acta2', 'Adam2', 'Adamts2', 'Adamts4', 'Adra1b', 'Alk'],\n",
              "      dtype=object)"
            ]
          },
          "metadata": {},
          "execution_count": 11
        }
      ]
    },
    {
      "cell_type": "code",
      "metadata": {
        "id": "xRCYW1VVErG1",
        "colab": {
          "base_uri": "https://localhost:8080/",
          "height": 297
        },
        "outputId": "48d6a03f-6390-4a89-9f2d-d298f698df73"
      },
      "source": [
        "#See how the cell types appear on 2D coordinates\n",
        "\n",
        "sns.scatterplot(x=meta['x'],y=meta['y'],hue=meta['type'],s=10,alpha=0.7,palette='hls') #Using seaborn (sns) for plotting\n",
        "plt.legend(bbox_to_anchor=(1.05, 1), loc='upper left', borderaxespad=0,ncol=3)"
      ],
      "execution_count": null,
      "outputs": [
        {
          "output_type": "execute_result",
          "data": {
            "text/plain": [
              "<matplotlib.legend.Legend at 0x7f9390d0a5e0>"
            ]
          },
          "metadata": {},
          "execution_count": 12
        },
        {
          "output_type": "display_data",
          "data": {
            "text/plain": [
              "<Figure size 432x288 with 1 Axes>"
            ],
            "image/png": "[encoded data removed]"
          },
          "metadata": {
            "needs_background": "light"
          }
        }
      ]
    },
    {
      "cell_type": "markdown",
      "source": [
        "## **Problem 5 (28 points)**\n",
        "Here we will explore how to use (1) logistic regression to extract cell type markers and (2) calculate Moran's *I* to determine clusters of genes with spatially correlated expression. \n",
        "\n",
        "You will use the **count_mat** above for the cellxgene matrix, and the **meta** above as the metadata for the cells, which has cell type ('type') and x/y coordinates ('x' and 'y')."
      ],
      "metadata": {
        "id": "vOCNwfTzRn6M"
      }
    },
    {
      "cell_type": "markdown",
      "source": [
        "***Logistic Regression***"
      ],
      "metadata": {
        "id": "F79PCQO2XQGa"
      }
    },
    {
      "cell_type": "markdown",
      "source": [
        "How to use logistic regression functions from sklearn: https://scikit-learn.org/stable/modules/generated/sklearn.linear_model.LogisticRegression.html \n",
        "\n",
        "\n",
        "```\n",
        ">>> from sklearn.datasets import load_iris\n",
        ">>> from sklearn.linear_model import LogisticRegression\n",
        ">>> X, y = load_iris(return_X_y=True)\n",
        ">>> clf = LogisticRegression(random_state=0).fit(X, y)\n",
        "# .coef_ and .intercept_ the same as LinearRegression\n",
        "```\n",
        "\n"
      ],
      "metadata": {
        "id": "_YpRMAuhVBX3"
      }
    },
    {
      "cell_type": "markdown",
      "source": [
        "### **a) Set up logistic regression model for cell type classification of Astrocyte cells and report marker genes with largest coefficients ( 9 points)** \n",
        "\n",
        "With logistic regression we can model a categorical variable (e.g. cell type) as a continuous value (i.e. the probability of being in the category). Here we will model the contribution of each gene to the probability of a cell being in the Astrocyte cell type or not. \n",
        "\n",
        "We will define y as a binary value, 1 or 0, representing whether a cell is in the Astrocyte cell type or not, respectively.\n",
        "\n",
        "The full model is $$log(\\dfrac{p}{1-p}) = \\alpha + \\beta X$$\n",
        "\n",
        "*p* represents the probability of being in the cell type or not (i.e. probability y=1). X is the count_mat (samples x features or cells x genes)\n",
        "\n"
      ],
      "metadata": {
        "id": "iHCx7Bx1S4X-"
      }
    },
    {
      "cell_type": "markdown",
      "source": [
        "\n",
        "Astrocytes represent a subset of glial cells (non-neuronal cells in the central nervous system, CNS) that do not produce electrical impulses, and often appear as star-shaped. They have many roles in maintaining homeostasis and neuronal metabolism across the CNS. This can include mechanical support of neurons as well as controlling release of nutrients/metabolites. \n"
      ],
      "metadata": {
        "id": "drvWgEnNclnC"
      }
    },
    {
      "cell_type": "markdown",
      "source": [
        "**Fit separate, logistic regression models for each of the 254 genes, and report the top 10 genes with the highest beta coefficients i.e. the genes where changes in their expression highly contribute to the probability of the cell being in the desired category, or Astrocyte 'marker genes'.** \n",
        "\n",
        "We take 'highest' to mean largest, positive coefficient\n"
      ],
      "metadata": {
        "id": "fNnIAEswcnyM"
      }
    },
    {
      "cell_type": "code",
      "source": [
        "#Set up model and extract beta\n",
        "\n",
        "\n",
        "\n",
        "#Determine top ten genes which identify the Astrocytes (Rank the model coefficients)\n",
        "\n"
      ],
      "metadata": {
        "id": "yry8RWdG8q_J"
      },
      "execution_count": null,
      "outputs": []
    },
    {
      "cell_type": "code",
      "source": [],
      "metadata": {
        "id": "g0mj0r7NdGXD"
      },
      "execution_count": null,
      "outputs": []
    },
    {
      "cell_type": "markdown",
      "source": [
        "### **b) Calculate the Moran's *I* measure for spatial-autocorrelation. We will be using local Moran's *I* as this will give us correlation values for each cell, as opposed to one value for the whole plane. Equation given below. ( 7 points)** \n",
        "\n",
        "$$I^g_{i}={\\frac {x_{i}-{\\bar {x}}}{\\frac {\\sum _{k=1}^{N}(x_{k}-{\\bar {x}})^{2}}{N}}}\\sum _{j=1}^{N}w_{ij}(x_{j}-{\\bar {x}})$$\n",
        "\n",
        "\n",
        "For each cell $i$, calculate its $I^g_{i}$ where $x_i$ is the cell's expression for one gene $g$ and $\\bar {x}$ is the average expression for that gene $g$, across all cells. $N$ is number of cells. $w_{i,j}$ represents the weight between cells $i$ and $j$. Thus you will need to create a pairwise distance matrix $w$ which calculates the (Euclidean) distances between all cells using their x and y coordinates.\n",
        "\n",
        "Positive values of Moran's *I* denote greater spatial autocorrelation/clustering. More negative values indicate greater dispersion."
      ],
      "metadata": {
        "id": "W8bQSMGgb8ha"
      }
    },
    {
      "cell_type": "markdown",
      "source": [
        "**Calculate the local Moran's *I* ($I^g_i$) for each cell and each gene. (This is for all 254 genes)**\n",
        "\n",
        "**Print the $I^g_i$ values for the first 10 cells and the first 10 genes.** "
      ],
      "metadata": {
        "id": "deY3wc04gb3u"
      }
    },
    {
      "cell_type": "markdown",
      "source": [
        "You can use sklearn pairwise_distances https://scikit-learn.org/stable/modules/generated/sklearn.metrics.pairwise_distances.html"
      ],
      "metadata": {
        "id": "n9XdY72Owijq"
      }
    },
    {
      "cell_type": "code",
      "source": [],
      "metadata": {
        "id": "nZTi1lXGb9zW"
      },
      "execution_count": null,
      "outputs": []
    },
    {
      "cell_type": "code",
      "source": [],
      "metadata": {
        "id": "kKd9IdeUb8xW"
      },
      "execution_count": null,
      "outputs": []
    },
    {
      "cell_type": "markdown",
      "source": [
        "### **c) Find the top 3 genes with the highest average autocorrelation values (across the cells). ( 6 points)**\n",
        "\n",
        "**Make 3 plots (one for each gene) which plot the x,y coordinates of the cells, and color the cells by their corresponding $I^g_i$ values for each of the 3 genes. Print the names of the genes as well.** \n",
        "\n",
        "See the 'Read in Data' section for example plot functions.\n"
      ],
      "metadata": {
        "id": "KTzxZUykhQxQ"
      }
    },
    {
      "cell_type": "code",
      "source": [],
      "metadata": {
        "id": "1rMj4mmOb9EB"
      },
      "execution_count": null,
      "outputs": []
    },
    {
      "cell_type": "code",
      "source": [],
      "metadata": {
        "id": "5luaTdTxb9Gh"
      },
      "execution_count": null,
      "outputs": []
    },
    {
      "cell_type": "code",
      "source": [],
      "metadata": {
        "id": "wk768wMsb9MU"
      },
      "execution_count": null,
      "outputs": []
    },
    {
      "cell_type": "markdown",
      "source": [
        "### **d) Choose 3 of marker genes from part a) and make the same plots as c for them, to see the markers' autocorrelation patterns. ( 6 points)**"
      ],
      "metadata": {
        "id": "AGK8lR7tiKKM"
      }
    },
    {
      "cell_type": "code",
      "source": [],
      "metadata": {
        "id": "9xG0-XTqb9Qs"
      },
      "execution_count": null,
      "outputs": []
    }
  ]
}