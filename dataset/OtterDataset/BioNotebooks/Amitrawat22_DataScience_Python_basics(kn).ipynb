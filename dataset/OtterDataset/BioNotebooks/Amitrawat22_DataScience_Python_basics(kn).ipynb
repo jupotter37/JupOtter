{
 "cells": [
  {
   "cell_type": "code",
   "execution_count": 1,
   "id": "66c8c9bf",
   "metadata": {},
   "outputs": [],
   "source": [
    "first_name = \"Amit\"\n",
    "last_name = \"Rawat\"\n"
   ]
  },
  {
   "cell_type": "code",
   "execution_count": 2,
   "id": "3b983278",
   "metadata": {},
   "outputs": [
    {
     "name": "stdout",
     "output_type": "stream",
     "text": [
      "My first name is Amit and last name is Rawat\n"
     ]
    }
   ],
   "source": [
    "print(\"My first name is {} and last name is {}\".format(first_name, last_name))"
   ]
  },
  {
   "cell_type": "code",
   "execution_count": 4,
   "id": "b105b267",
   "metadata": {},
   "outputs": [
    {
     "name": "stdout",
     "output_type": "stream",
     "text": [
      "my first name is Amit and last name is Rawat\n"
     ]
    }
   ],
   "source": [
    "print(f\"my first name is {first_name} and last name is {last_name}\")"
   ]
  },
  {
   "cell_type": "code",
   "execution_count": 9,
   "id": "040c9884",
   "metadata": {},
   "outputs": [
    {
     "data": {
      "text/plain": [
       "4"
      ]
     },
     "execution_count": 9,
     "metadata": {},
     "output_type": "execute_result"
    }
   ],
   "source": [
    " len(\"Amit\")"
   ]
  },
  {
   "cell_type": "code",
   "execution_count": 12,
   "id": "3416478c",
   "metadata": {},
   "outputs": [
    {
     "data": {
      "text/plain": [
       "bool"
      ]
     },
     "execution_count": 12,
     "metadata": {},
     "output_type": "execute_result"
    }
   ],
   "source": [
    "s = True\n",
    "type(s)"
   ]
  },
  {
   "cell_type": "code",
   "execution_count": 15,
   "id": "27f13fc5",
   "metadata": {},
   "outputs": [],
   "source": [
    "my_str = \"AmitRawat\"\n"
   ]
  },
  {
   "cell_type": "code",
   "execution_count": 16,
   "id": "4a1645b1",
   "metadata": {},
   "outputs": [
    {
     "name": "stdout",
     "output_type": "stream",
     "text": [
      "True\n"
     ]
    }
   ],
   "source": [
    "print(my_str.isalpha())"
   ]
  },
  {
   "cell_type": "code",
   "execution_count": 17,
   "id": "99717ab8",
   "metadata": {},
   "outputs": [
    {
     "data": {
      "text/plain": [
       "True"
      ]
     },
     "execution_count": 17,
     "metadata": {},
     "output_type": "execute_result"
    }
   ],
   "source": [
    "True and True"
   ]
  },
  {
   "cell_type": "code",
   "execution_count": 18,
   "id": "8fd1a5ef",
   "metadata": {},
   "outputs": [
    {
     "data": {
      "text/plain": [
       "False"
      ]
     },
     "execution_count": 18,
     "metadata": {},
     "output_type": "execute_result"
    }
   ],
   "source": [
    "False and True"
   ]
  },
  {
   "cell_type": "code",
   "execution_count": 19,
   "id": "daa6974b",
   "metadata": {},
   "outputs": [
    {
     "data": {
      "text/plain": [
       "True"
      ]
     },
     "execution_count": 19,
     "metadata": {},
     "output_type": "execute_result"
    }
   ],
   "source": [
    "True or False"
   ]
  },
  {
   "cell_type": "code",
   "execution_count": 20,
   "id": "45e8935a",
   "metadata": {},
   "outputs": [
    {
     "data": {
      "text/plain": [
       "False"
      ]
     },
     "execution_count": 20,
     "metadata": {},
     "output_type": "execute_result"
    }
   ],
   "source": [
    "False or False"
   ]
  },
  {
   "cell_type": "code",
   "execution_count": null,
   "id": "1f0a251d",
   "metadata": {},
   "outputs": [],
   "source": [
    "#LISTS\n"
   ]
  },
  {
   "cell_type": "code",
   "execution_count": 22,
   "id": "e4254a02",
   "metadata": {},
   "outputs": [
    {
     "data": {
      "text/plain": [
       "list"
      ]
     },
     "execution_count": 22,
     "metadata": {},
     "output_type": "execute_result"
    }
   ],
   "source": [
    "List = []\n",
    "type(List)"
   ]
  },
  {
   "cell_type": "code",
   "execution_count": 23,
   "id": "389ad924",
   "metadata": {},
   "outputs": [
    {
     "data": {
      "text/plain": [
       "list"
      ]
     },
     "execution_count": 23,
     "metadata": {},
     "output_type": "execute_result"
    }
   ],
   "source": [
    "l = list()\n",
    "type(l)"
   ]
  },
  {
   "cell_type": "code",
   "execution_count": 26,
   "id": "892d3293",
   "metadata": {},
   "outputs": [],
   "source": [
    "lst = ['Maths', 'chemistry', 100, 200, 300, 204]"
   ]
  },
  {
   "cell_type": "code",
   "execution_count": 27,
   "id": "bccd30ea",
   "metadata": {},
   "outputs": [
    {
     "data": {
      "text/plain": [
       "6"
      ]
     },
     "execution_count": 27,
     "metadata": {},
     "output_type": "execute_result"
    }
   ],
   "source": [
    "len(lst)"
   ]
  },
  {
   "cell_type": "code",
   "execution_count": 43,
   "id": "efccec77",
   "metadata": {},
   "outputs": [
    {
     "data": {
      "text/plain": [
       "list"
      ]
     },
     "execution_count": 43,
     "metadata": {},
     "output_type": "execute_result"
    }
   ],
   "source": [
    "type(lst)"
   ]
  },
  {
   "cell_type": "code",
   "execution_count": 29,
   "id": "6e2ec8c6",
   "metadata": {},
   "outputs": [],
   "source": [
    "lst.append('physics')"
   ]
  },
  {
   "cell_type": "code",
   "execution_count": 30,
   "id": "be064fd3",
   "metadata": {},
   "outputs": [
    {
     "name": "stdout",
     "output_type": "stream",
     "text": [
      "['Maths', 'chemistry', 100, 200, 300, 204, 'physics']\n"
     ]
    }
   ],
   "source": [
    "print(lst)"
   ]
  },
  {
   "cell_type": "code",
   "execution_count": 31,
   "id": "ae2787e9",
   "metadata": {},
   "outputs": [],
   "source": [
    "lst.insert(0,\"Biology\")"
   ]
  },
  {
   "cell_type": "code",
   "execution_count": 32,
   "id": "829501a0",
   "metadata": {},
   "outputs": [
    {
     "name": "stdout",
     "output_type": "stream",
     "text": [
      "['Biology', 'Maths', 'chemistry', 100, 200, 300, 204, 'physics']\n"
     ]
    }
   ],
   "source": [
    "print(lst)"
   ]
  },
  {
   "cell_type": "code",
   "execution_count": 33,
   "id": "b8ea2e6f",
   "metadata": {},
   "outputs": [
    {
     "data": {
      "text/plain": [
       "['Maths', 'chemistry', 100, 200, 300, 204, 'physics']"
      ]
     },
     "execution_count": 33,
     "metadata": {},
     "output_type": "execute_result"
    }
   ],
   "source": [
    "lst[1:]"
   ]
  },
  {
   "cell_type": "code",
   "execution_count": 35,
   "id": "79ab9cc7",
   "metadata": {},
   "outputs": [
    {
     "data": {
      "text/plain": [
       "['Biology', 'Maths', 'chemistry']"
      ]
     },
     "execution_count": 35,
     "metadata": {},
     "output_type": "execute_result"
    }
   ],
   "source": [
    "lst[0:3]"
   ]
  },
  {
   "cell_type": "code",
   "execution_count": 64,
   "id": "c90dec5e",
   "metadata": {},
   "outputs": [],
   "source": [
    "\n",
    "\n",
    "lst.append([\"Computer\", \"DBMS\"])"
   ]
  },
  {
   "cell_type": "code",
   "execution_count": 51,
   "id": "ffc5caec",
   "metadata": {},
   "outputs": [
    {
     "name": "stdout",
     "output_type": "stream",
     "text": [
      "['Biology', 'Maths', 'chemistry', 100, 200, 300, 204, 'physics', ['Computer, DBMS'], ['Computer', 'DBMS']]\n"
     ]
    }
   ],
   "source": [
    "print(lst)"
   ]
  },
  {
   "cell_type": "code",
   "execution_count": 52,
   "id": "4d433073",
   "metadata": {},
   "outputs": [
    {
     "name": "stdout",
     "output_type": "stream",
     "text": [
      "DBMS\n"
     ]
    }
   ],
   "source": [
    "print(lst[9][1])"
   ]
  },
  {
   "cell_type": "code",
   "execution_count": 53,
   "id": "c4ff55e7",
   "metadata": {},
   "outputs": [],
   "source": [
    "lst.extend([9,10])"
   ]
  },
  {
   "cell_type": "code",
   "execution_count": 54,
   "id": "7b5a2149",
   "metadata": {},
   "outputs": [
    {
     "name": "stdout",
     "output_type": "stream",
     "text": [
      "['Biology', 'Maths', 'chemistry', 100, 200, 300, 204, 'physics', ['Computer, DBMS'], ['Computer', 'DBMS'], 9, 10]\n"
     ]
    }
   ],
   "source": [
    "print(lst)"
   ]
  },
  {
   "cell_type": "code",
   "execution_count": 55,
   "id": "61c35221",
   "metadata": {},
   "outputs": [
    {
     "data": {
      "text/plain": [
       "25"
      ]
     },
     "execution_count": 55,
     "metadata": {},
     "output_type": "execute_result"
    }
   ],
   "source": [
    "lst1 = [1,3,5,7,9]\n",
    "sum(lst1)"
   ]
  },
  {
   "cell_type": "code",
   "execution_count": 56,
   "id": "e4affe3a",
   "metadata": {},
   "outputs": [
    {
     "data": {
      "text/plain": [
       "9"
      ]
     },
     "execution_count": 56,
     "metadata": {},
     "output_type": "execute_result"
    }
   ],
   "source": [
    "lst1.pop()"
   ]
  },
  {
   "cell_type": "code",
   "execution_count": 57,
   "id": "30701e4f",
   "metadata": {},
   "outputs": [
    {
     "data": {
      "text/plain": [
       "5"
      ]
     },
     "execution_count": 57,
     "metadata": {},
     "output_type": "execute_result"
    }
   ],
   "source": [
    "lst1.pop(2)"
   ]
  },
  {
   "cell_type": "code",
   "execution_count": 58,
   "id": "75965072",
   "metadata": {},
   "outputs": [
    {
     "name": "stdout",
     "output_type": "stream",
     "text": [
      "[1, 3, 7]\n"
     ]
    }
   ],
   "source": [
    "print(lst1)"
   ]
  },
  {
   "cell_type": "code",
   "execution_count": 59,
   "id": "fba10090",
   "metadata": {},
   "outputs": [],
   "source": [
    "lst1.extend([4,6,8,9,10])"
   ]
  },
  {
   "cell_type": "code",
   "execution_count": 68,
   "id": "07af2a6e",
   "metadata": {},
   "outputs": [
    {
     "name": "stdout",
     "output_type": "stream",
     "text": [
      "[1, 3, 7, 4, 6, 8, 9, 10]\n"
     ]
    }
   ],
   "source": [
    "print(lst1)"
   ]
  },
  {
   "cell_type": "code",
   "execution_count": 69,
   "id": "124bc797",
   "metadata": {},
   "outputs": [
    {
     "data": {
      "text/plain": [
       "0"
      ]
     },
     "execution_count": 69,
     "metadata": {},
     "output_type": "execute_result"
    }
   ],
   "source": [
    "lst1.index(1,0,7)"
   ]
  },
  {
   "cell_type": "code",
   "execution_count": 71,
   "id": "8d53dc0d",
   "metadata": {},
   "outputs": [
    {
     "data": {
      "text/plain": [
       "1"
      ]
     },
     "execution_count": 71,
     "metadata": {},
     "output_type": "execute_result"
    }
   ],
   "source": [
    "min(lst1)"
   ]
  },
  {
   "cell_type": "code",
   "execution_count": 72,
   "id": "e3dca2e4",
   "metadata": {},
   "outputs": [
    {
     "data": {
      "text/plain": [
       "10"
      ]
     },
     "execution_count": 72,
     "metadata": {},
     "output_type": "execute_result"
    }
   ],
   "source": [
    "max(lst1)"
   ]
  },
  {
   "cell_type": "code",
   "execution_count": 73,
   "id": "bde274c7",
   "metadata": {},
   "outputs": [],
   "source": [
    "#sets\n"
   ]
  },
  {
   "cell_type": "code",
   "execution_count": 74,
   "id": "82c35bfb",
   "metadata": {},
   "outputs": [
    {
     "name": "stdout",
     "output_type": "stream",
     "text": [
      "set()\n",
      "<class 'set'>\n"
     ]
    }
   ],
   "source": [
    "set_var = set()\n",
    "print(set_var)\n",
    "print(type(set_var))"
   ]
  },
  {
   "cell_type": "code",
   "execution_count": 90,
   "id": "3bcf873e",
   "metadata": {},
   "outputs": [
    {
     "name": "stdout",
     "output_type": "stream",
     "text": [
      "{1, 2, 3, 4}\n",
      "<class 'set'>\n"
     ]
    }
   ],
   "source": [
    "set_var = {1,2,3,4,3}\n",
    "print(set_var)\n",
    "#no duplicate element will be printed\n",
    "set_var1 = set()\n",
    "print(type(set_var1))\n"
   ]
  },
  {
   "cell_type": "code",
   "execution_count": 78,
   "id": "f83c2ab9",
   "metadata": {},
   "outputs": [
    {
     "name": "stdout",
     "output_type": "stream",
     "text": [
      "{'ironman', 'batman', 'hulk'}\n"
     ]
    }
   ],
   "source": [
    "set_var = {\"ironman\", \"batman\", \"hulk\"}\n",
    "print(set_var)"
   ]
  },
  {
   "cell_type": "code",
   "execution_count": 79,
   "id": "ba1cf16a",
   "metadata": {},
   "outputs": [
    {
     "name": "stdout",
     "output_type": "stream",
     "text": [
      "{'spiderman', 'ironman', 'batman', 'hulk'}\n"
     ]
    }
   ],
   "source": [
    "set_var.add(\"spiderman\")\n",
    "print(set_var)"
   ]
  },
  {
   "cell_type": "code",
   "execution_count": 80,
   "id": "132d6847",
   "metadata": {},
   "outputs": [
    {
     "ename": "NameError",
     "evalue": "name 'ser_var' is not defined",
     "output_type": "error",
     "traceback": [
      "\u001b[0;31m---------------------------------------------------------------------------\u001b[0m",
      "\u001b[0;31mNameError\u001b[0m                                 Traceback (most recent call last)",
      "\u001b[0;32m/var/folders/cj/vq6gk8g5479_t1z1n10mbbn00000gn/T/ipykernel_62768/4199606480.py\u001b[0m in \u001b[0;36m<module>\u001b[0;34m\u001b[0m\n\u001b[1;32m      1\u001b[0m \u001b[0;31m#indexing\u001b[0m\u001b[0;34m\u001b[0m\u001b[0;34m\u001b[0m\u001b[0m\n\u001b[0;32m----> 2\u001b[0;31m \u001b[0mser_var\u001b[0m\u001b[0;34m[\u001b[0m\u001b[0;36m0\u001b[0m\u001b[0;34m]\u001b[0m\u001b[0;34m\u001b[0m\u001b[0;34m\u001b[0m\u001b[0m\n\u001b[0m",
      "\u001b[0;31mNameError\u001b[0m: name 'ser_var' is not defined"
     ]
    }
   ],
   "source": [
    "#indexing -> no indexing in sets\n",
    "ser_var[0]"
   ]
  },
  {
   "cell_type": "code",
   "execution_count": 81,
   "id": "f56e718f",
   "metadata": {},
   "outputs": [
    {
     "ename": "NameError",
     "evalue": "name 'set_vat' is not defined",
     "output_type": "error",
     "traceback": [
      "\u001b[0;31m---------------------------------------------------------------------------\u001b[0m",
      "\u001b[0;31mNameError\u001b[0m                                 Traceback (most recent call last)",
      "\u001b[0;32m/var/folders/cj/vq6gk8g5479_t1z1n10mbbn00000gn/T/ipykernel_62768/1406391214.py\u001b[0m in \u001b[0;36m<module>\u001b[0;34m\u001b[0m\n\u001b[0;32m----> 1\u001b[0;31m \u001b[0mset_vat\u001b[0m\u001b[0;34m[\u001b[0m\u001b[0;34m'batman'\u001b[0m\u001b[0;34m]\u001b[0m\u001b[0;34m\u001b[0m\u001b[0;34m\u001b[0m\u001b[0m\n\u001b[0m",
      "\u001b[0;31mNameError\u001b[0m: name 'set_vat' is not defined"
     ]
    }
   ],
   "source": [
    "set_vat['batman']"
   ]
  },
  {
   "cell_type": "code",
   "execution_count": 82,
   "id": "7422b335",
   "metadata": {},
   "outputs": [
    {
     "name": "stdout",
     "output_type": "stream",
     "text": [
      "{'spiderman', 1, 'batman', 'ironman', 'hulk'}\n"
     ]
    }
   ],
   "source": [
    "set_var.add(1)\n",
    "print(set_var)"
   ]
  },
  {
   "cell_type": "code",
   "execution_count": 83,
   "id": "9b8bea05",
   "metadata": {},
   "outputs": [
    {
     "name": "stdout",
     "output_type": "stream",
     "text": [
      "{1, 2, 3, 4, 5}\n"
     ]
    }
   ],
   "source": [
    "st1 = {1,2,3,4,5}\n",
    "print(st1)"
   ]
  },
  {
   "cell_type": "code",
   "execution_count": 84,
   "id": "7968d232",
   "metadata": {},
   "outputs": [],
   "source": [
    "st1.add(0)"
   ]
  },
  {
   "cell_type": "code",
   "execution_count": 85,
   "id": "b2ba7e65",
   "metadata": {},
   "outputs": [
    {
     "name": "stdout",
     "output_type": "stream",
     "text": [
      "{0, 1, 2, 3, 4, 5}\n"
     ]
    }
   ],
   "source": [
    "print(st1)"
   ]
  },
  {
   "cell_type": "code",
   "execution_count": 86,
   "id": "48b42788",
   "metadata": {},
   "outputs": [],
   "source": [
    "#dictonaries\n"
   ]
  },
  {
   "cell_type": "code",
   "execution_count": 88,
   "id": "d8367292",
   "metadata": {},
   "outputs": [
    {
     "data": {
      "text/plain": [
       "dict"
      ]
     },
     "execution_count": 88,
     "metadata": {},
     "output_type": "execute_result"
    }
   ],
   "source": [
    "dic ={}\n",
    "type(dict)"
   ]
  },
  {
   "cell_type": "code",
   "execution_count": 91,
   "id": "0e10d78b",
   "metadata": {},
   "outputs": [
    {
     "name": "stdout",
     "output_type": "stream",
     "text": [
      "<class 'dict'>\n",
      "{'car1': 'BMW', 'car2': 'Mercedez-Benz'}\n"
     ]
    }
   ],
   "source": [
    "dic = {\"car1\": \"BMW\", \"car2\": \"Mercedez-Benz\"}\n",
    "print(type(dic))\n",
    "print(dic)"
   ]
  },
  {
   "cell_type": "code",
   "execution_count": 92,
   "id": "2d7bf2ba",
   "metadata": {},
   "outputs": [
    {
     "name": "stdout",
     "output_type": "stream",
     "text": [
      "car1\n",
      "car2\n"
     ]
    }
   ],
   "source": [
    "# we can even loop through the dictonaries keys __ (key:value)\n",
    "\n",
    "for x in dic:\n",
    "    print(x)"
   ]
  },
  {
   "cell_type": "code",
   "execution_count": 93,
   "id": "667d3ad0",
   "metadata": {},
   "outputs": [
    {
     "name": "stdout",
     "output_type": "stream",
     "text": [
      "BMW\n",
      "Mercedez-Benz\n"
     ]
    }
   ],
   "source": [
    "for x in dic.values():\n",
    "    print(x)"
   ]
  },
  {
   "cell_type": "code",
   "execution_count": 94,
   "id": "e93c482e",
   "metadata": {},
   "outputs": [
    {
     "name": "stdout",
     "output_type": "stream",
     "text": [
      "('car1', 'BMW')\n",
      "('car2', 'Mercedez-Benz')\n"
     ]
    }
   ],
   "source": [
    "for x  in dic.items():\n",
    "    print(x)"
   ]
  },
  {
   "cell_type": "code",
   "execution_count": 96,
   "id": "47ba7617",
   "metadata": {},
   "outputs": [
    {
     "name": "stdout",
     "output_type": "stream",
     "text": [
      "{'car1': 'BMW', 'car2': 'Mercedez-Benz', 'car4': 'Audi', 'car3': 'Audi'}\n"
     ]
    }
   ],
   "source": [
    "dic[\"car3\"] = 'Audi'\n",
    "print(dic)"
   ]
  },
  {
   "cell_type": "code",
   "execution_count": null,
   "id": "f3da08ff",
   "metadata": {},
   "outputs": [],
   "source": [
    "#nested dictonaries\n"
   ]
  },
  {
   "cell_type": "code",
   "execution_count": 97,
   "id": "af10d38a",
   "metadata": {},
   "outputs": [],
   "source": [
    "car1_model = {'Mercedez': 1960}\n",
    "car2_model = {'Audi': 1970}\n",
    "car3_model = {'Ambassador': 1980}\n",
    "\n",
    "car_type = {'car1': car1_model, 'car2': car2_model, 'car3': car3_model}"
   ]
  },
  {
   "cell_type": "code",
   "execution_count": 98,
   "id": "2bf27c95",
   "metadata": {},
   "outputs": [
    {
     "name": "stdout",
     "output_type": "stream",
     "text": [
      "{'car1': {'Mercedez': 1960}, 'car2': {'Audi': 1970}, 'car3': {'Ambassador': 1980}}\n"
     ]
    }
   ],
   "source": [
    "print(car_type)"
   ]
  },
  {
   "cell_type": "code",
   "execution_count": 99,
   "id": "11abeea3",
   "metadata": {},
   "outputs": [
    {
     "name": "stdout",
     "output_type": "stream",
     "text": [
      "{'Mercedez': 1960}\n"
     ]
    }
   ],
   "source": [
    "print(car_type['car1'])"
   ]
  },
  {
   "cell_type": "code",
   "execution_count": 100,
   "id": "a34bfc3f",
   "metadata": {},
   "outputs": [
    {
     "name": "stdout",
     "output_type": "stream",
     "text": [
      "1960\n"
     ]
    }
   ],
   "source": [
    "print(car_type['car1']['Mercedez'])"
   ]
  },
  {
   "cell_type": "code",
   "execution_count": 101,
   "id": "e0ce2de4",
   "metadata": {},
   "outputs": [],
   "source": [
    "#tuples\n"
   ]
  },
  {
   "cell_type": "code",
   "execution_count": 102,
   "id": "52dd3eaf",
   "metadata": {},
   "outputs": [
    {
     "data": {
      "text/plain": [
       "tuple"
      ]
     },
     "execution_count": 102,
     "metadata": {},
     "output_type": "execute_result"
    }
   ],
   "source": [
    "my_tuple = tuple()\n",
    "type(my_tuple)"
   ]
  },
  {
   "cell_type": "code",
   "execution_count": 103,
   "id": "77803867",
   "metadata": {},
   "outputs": [],
   "source": [
    "my_tuple = (\"Amit\",\"Ankur\",\"Himanshu\")"
   ]
  },
  {
   "cell_type": "code",
   "execution_count": 104,
   "id": "bd791bad",
   "metadata": {},
   "outputs": [
    {
     "data": {
      "text/plain": [
       "'Amit'"
      ]
     },
     "execution_count": 104,
     "metadata": {},
     "output_type": "execute_result"
    }
   ],
   "source": [
    "my_tuple[0]"
   ]
  },
  {
   "cell_type": "code",
   "execution_count": null,
   "id": "969df0a4",
   "metadata": {},
   "outputs": [],
   "source": []
  }
 ],
 "metadata": {
  "kernelspec": {
   "display_name": "Python 3 (ipykernel)",
   "language": "python",
   "name": "python3"
  },
  "language_info": {
   "codemirror_mode": {
    "name": "ipython",
    "version": 3
   },
   "file_extension": ".py",
   "mimetype": "text/x-python",
   "name": "python",
   "nbconvert_exporter": "python",
   "pygments_lexer": "ipython3",
   "version": "3.9.13"
  }
 },
 "nbformat": 4,
 "nbformat_minor": 5
}
