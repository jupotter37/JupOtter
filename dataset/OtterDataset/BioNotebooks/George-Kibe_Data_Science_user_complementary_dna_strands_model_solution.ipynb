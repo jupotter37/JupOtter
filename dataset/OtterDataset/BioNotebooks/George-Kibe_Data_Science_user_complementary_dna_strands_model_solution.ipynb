{
 "cells": [
  {
   "cell_type": "markdown",
   "source": [
    "# Complementary DNA Strands"
   ],
   "metadata": {}
  },
  {
   "cell_type": "markdown",
   "source": [
    "## Honour Code"
   ],
   "metadata": {}
  },
  {
   "cell_type": "markdown",
   "source": [
    "I YOUR NAME, YOUR SURNAME, confirm - by submitting this document - that the solutions in this notebook are a result of my own work and that I abide by the EDSA honour code (https://drive.google.com/file/d/1QDCjGZJ8-FmJE3bZdIQNwnJyQKPhHZBn/view?usp=sharing).\n",
    "\n",
    "Non-compliance with the honour code constitutes a material breach of contract."
   ],
   "metadata": {}
  },
  {
   "cell_type": "markdown",
   "source": [
    "## Challenge\n",
    "\n",
    "In coding challenge 2, you were introduced to RNA synthesis. DNA differs from RNA because RNA is one strand compared to DNA which is double stranded. It also differs in that instead of the U nucleotide, it contains a T. Below is an example of the different structures taken from https://byjus.com/biology/difference-between-dna-and-rna/:\n",
    "\n",
    "The same lab was extremely impressed with the first code and now wants a new one. They want to find the complementary strands of DNA. Here is the low-down:\n",
    "\n",
    "A links with T and vice versa\n",
    "C links with G and vice versa\n",
    "An example of the complementary strand for the code ATCGGAATGCC is TAGCCTTACGG\n",
    "\n",
    "You are tasked to create a function dna_complementary which finds the complementary strand for a given DNA strand based on the above criteria. The function must return a string of the code\n",
    "\n",
    "This kind of code can be really helpful as a product. Imagine trying to get DNA strands for thousands of sequences which are thousands of nucleotides long. This is the power of python and coding!\n",
    "\n",
    "Hint: We didn't teach you dictionaries for nothing"
   ],
   "metadata": {}
  },
  {
   "cell_type": "code",
   "execution_count": 1,
   "source": [
    "from IPython.display import Image\n",
    "from IPython.core.display import HTML \n",
    "Image(url = 'https://github.com/Explore-AI/Pictures/blob/master/Difference-Between-DNA-and-RNA.png?raw=true')"
   ],
   "outputs": [
    {
     "output_type": "execute_result",
     "data": {
      "text/html": [
       "<img src=\"https://github.com/Explore-AI/Pictures/blob/master/Difference-Between-DNA-and-RNA.png?raw=true\"/>"
      ],
      "text/plain": [
       "<IPython.core.display.Image object>"
      ]
     },
     "metadata": {},
     "execution_count": 1
    }
   ],
   "metadata": {}
  },
  {
   "cell_type": "code",
   "execution_count": null,
   "source": [
    "### START FUNCTION\n",
    "def dna_complementary(dna):\n",
    "    nucleotide_dict = {'A':'T', 'T':'A', 'C':'G', 'G':'C'}\n",
    "    \n",
    "    strand = ''\n",
    "    for i in dna:\n",
    "        strand = strand + nucleotide_dict[i]\n",
    "        \n",
    "    return strand\n",
    "### END FUNCTION"
   ],
   "outputs": [],
   "metadata": {}
  },
  {
   "cell_type": "code",
   "execution_count": null,
   "source": [
    "dna_complementary('ATCTTATAATTACCGAGTCGATCGG')"
   ],
   "outputs": [],
   "metadata": {}
  },
  {
   "cell_type": "markdown",
   "source": [
    "_**Expected Outputs**_ \n",
    "```python\n",
    "dna_complementary('ATCGGAATGCC') == 'TAGCCTTACGG'\n",
    "dna_complementary('TCCCGGATCGCATACGAT') == 'AGGGCCTAGCGTATGCTA'\n",
    "dna_complementary('ATCTTATAATTACCGAGTCGATCGG') == 'TAGAATATTAATGGCTCAGCTAGCC'\n",
    "dna_complementary('ATCGGACTACGA') == 'TAGCCTGATGCT'\n",
    "```"
   ],
   "metadata": {}
  },
  {
   "cell_type": "markdown",
   "source": [
    " ## References"
   ],
   "metadata": {}
  },
  {
   "cell_type": "markdown",
   "source": [
    "This tutorial was created using the wonderful Google Python Developers course, and has been modified under the Creative Common's licence 2.5\n",
    "\n",
    "Copyright 2010 Google Inc. Licensed under the Apache License, Version 2.0 http://www.apache.org/licenses/LICENSE-2.0\n",
    "\n",
    "Google's Python Class http://code.google.com/edu/languages/google-python-class/"
   ],
   "metadata": {}
  }
 ],
 "metadata": {
  "kernelspec": {
   "display_name": "Python 3",
   "language": "python",
   "name": "python3"
  },
  "language_info": {
   "codemirror_mode": {
    "name": "ipython",
    "version": 3
   },
   "file_extension": ".py",
   "mimetype": "text/x-python",
   "name": "python",
   "nbconvert_exporter": "python",
   "pygments_lexer": "ipython3",
   "version": "3.8.8"
  }
 },
 "nbformat": 4,
 "nbformat_minor": 4
}