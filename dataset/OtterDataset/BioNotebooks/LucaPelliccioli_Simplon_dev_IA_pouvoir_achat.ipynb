{
 "metadata": {
  "language_info": {
   "codemirror_mode": {
    "name": "ipython",
    "version": 3
   },
   "file_extension": ".py",
   "mimetype": "text/x-python",
   "name": "python",
   "nbconvert_exporter": "python",
   "pygments_lexer": "ipython3",
   "version": "3.8.5"
  },
  "orig_nbformat": 2,
  "kernelspec": {
   "name": "python3",
   "display_name": "Python 3.8.5 64-bit ('base': conda)",
   "metadata": {
    "interpreter": {
     "hash": "64b474f71659f9be32f34132c3eef93d33d176ead871b80ca6db3fa26bc83f65"
    }
   }
  }
 },
 "nbformat": 4,
 "nbformat_minor": 2,
 "cells": [
  {
   "cell_type": "code",
   "execution_count": 1,
   "metadata": {},
   "outputs": [
    {
     "output_type": "execute_result",
     "data": {
      "text/plain": [
       "   Rank  Major_code                                      Major Major_category  \\\n",
       "0     1        2419                      PETROLEUM ENGINEERING    Engineering   \n",
       "1     2        2416             MINING AND MINERAL ENGINEERING    Engineering   \n",
       "2     3        2415                  METALLURGICAL ENGINEERING    Engineering   \n",
       "3     4        2417  NAVAL ARCHITECTURE AND MARINE ENGINEERING    Engineering   \n",
       "4     5        2405                       CHEMICAL ENGINEERING    Engineering   \n",
       "\n",
       "   Total  Sample_size    Men  Women  ShareWomen  Employed  ...  Part_time  \\\n",
       "0   2339           36   2057    282    0.120564      1976  ...        270   \n",
       "1    756            7    679     77    0.101852       640  ...        170   \n",
       "2    856            3    725    131    0.153037       648  ...        133   \n",
       "3   1258           16   1123    135    0.107313       758  ...        150   \n",
       "4  32260          289  21239  11021    0.341631     25694  ...       5180   \n",
       "\n",
       "   Full_time_year_round  Unemployed  Unemployment_rate  Median  P25th   P75th  \\\n",
       "0                  1207          37           0.018381  110000  95000  125000   \n",
       "1                   388          85           0.117241   75000  55000   90000   \n",
       "2                   340          16           0.024096   73000  50000  105000   \n",
       "3                   692          40           0.050125   70000  43000   80000   \n",
       "4                 16697        1672           0.061098   65000  50000   75000   \n",
       "\n",
       "   College_jobs  Non_college_jobs  Low_wage_jobs  \n",
       "0          1534               364            193  \n",
       "1           350               257             50  \n",
       "2           456               176              0  \n",
       "3           529               102              0  \n",
       "4         18314              4440            972  \n",
       "\n",
       "[5 rows x 21 columns]"
      ],
      "text/html": "<div>\n<style scoped>\n    .dataframe tbody tr th:only-of-type {\n        vertical-align: middle;\n    }\n\n    .dataframe tbody tr th {\n        vertical-align: top;\n    }\n\n    .dataframe thead th {\n        text-align: right;\n    }\n</style>\n<table border=\"1\" class=\"dataframe\">\n  <thead>\n    <tr style=\"text-align: right;\">\n      <th></th>\n      <th>Rank</th>\n      <th>Major_code</th>\n      <th>Major</th>\n      <th>Major_category</th>\n      <th>Total</th>\n      <th>Sample_size</th>\n      <th>Men</th>\n      <th>Women</th>\n      <th>ShareWomen</th>\n      <th>Employed</th>\n      <th>...</th>\n      <th>Part_time</th>\n      <th>Full_time_year_round</th>\n      <th>Unemployed</th>\n      <th>Unemployment_rate</th>\n      <th>Median</th>\n      <th>P25th</th>\n      <th>P75th</th>\n      <th>College_jobs</th>\n      <th>Non_college_jobs</th>\n      <th>Low_wage_jobs</th>\n    </tr>\n  </thead>\n  <tbody>\n    <tr>\n      <th>0</th>\n      <td>1</td>\n      <td>2419</td>\n      <td>PETROLEUM ENGINEERING</td>\n      <td>Engineering</td>\n      <td>2339</td>\n      <td>36</td>\n      <td>2057</td>\n      <td>282</td>\n      <td>0.120564</td>\n      <td>1976</td>\n      <td>...</td>\n      <td>270</td>\n      <td>1207</td>\n      <td>37</td>\n      <td>0.018381</td>\n      <td>110000</td>\n      <td>95000</td>\n      <td>125000</td>\n      <td>1534</td>\n      <td>364</td>\n      <td>193</td>\n    </tr>\n    <tr>\n      <th>1</th>\n      <td>2</td>\n      <td>2416</td>\n      <td>MINING AND MINERAL ENGINEERING</td>\n      <td>Engineering</td>\n      <td>756</td>\n      <td>7</td>\n      <td>679</td>\n      <td>77</td>\n      <td>0.101852</td>\n      <td>640</td>\n      <td>...</td>\n      <td>170</td>\n      <td>388</td>\n      <td>85</td>\n      <td>0.117241</td>\n      <td>75000</td>\n      <td>55000</td>\n      <td>90000</td>\n      <td>350</td>\n      <td>257</td>\n      <td>50</td>\n    </tr>\n    <tr>\n      <th>2</th>\n      <td>3</td>\n      <td>2415</td>\n      <td>METALLURGICAL ENGINEERING</td>\n      <td>Engineering</td>\n      <td>856</td>\n      <td>3</td>\n      <td>725</td>\n      <td>131</td>\n      <td>0.153037</td>\n      <td>648</td>\n      <td>...</td>\n      <td>133</td>\n      <td>340</td>\n      <td>16</td>\n      <td>0.024096</td>\n      <td>73000</td>\n      <td>50000</td>\n      <td>105000</td>\n      <td>456</td>\n      <td>176</td>\n      <td>0</td>\n    </tr>\n    <tr>\n      <th>3</th>\n      <td>4</td>\n      <td>2417</td>\n      <td>NAVAL ARCHITECTURE AND MARINE ENGINEERING</td>\n      <td>Engineering</td>\n      <td>1258</td>\n      <td>16</td>\n      <td>1123</td>\n      <td>135</td>\n      <td>0.107313</td>\n      <td>758</td>\n      <td>...</td>\n      <td>150</td>\n      <td>692</td>\n      <td>40</td>\n      <td>0.050125</td>\n      <td>70000</td>\n      <td>43000</td>\n      <td>80000</td>\n      <td>529</td>\n      <td>102</td>\n      <td>0</td>\n    </tr>\n    <tr>\n      <th>4</th>\n      <td>5</td>\n      <td>2405</td>\n      <td>CHEMICAL ENGINEERING</td>\n      <td>Engineering</td>\n      <td>32260</td>\n      <td>289</td>\n      <td>21239</td>\n      <td>11021</td>\n      <td>0.341631</td>\n      <td>25694</td>\n      <td>...</td>\n      <td>5180</td>\n      <td>16697</td>\n      <td>1672</td>\n      <td>0.061098</td>\n      <td>65000</td>\n      <td>50000</td>\n      <td>75000</td>\n      <td>18314</td>\n      <td>4440</td>\n      <td>972</td>\n    </tr>\n  </tbody>\n</table>\n<p>5 rows × 21 columns</p>\n</div>"
     },
     "metadata": {},
     "execution_count": 1
    }
   ],
   "source": [
    "import pandas as pd \n",
    "import numpy as np\n",
    "\n",
    "recent_grads = pd.read_csv('../jeux_de_données/recent-grads.csv')\n",
    "recent_grads.head()"
   ]
  },
  {
   "cell_type": "code",
   "execution_count": 2,
   "metadata": {},
   "outputs": [
    {
     "output_type": "execute_result",
     "data": {
      "text/plain": [
       "   Major_code                                  Major  \\\n",
       "0        1100                    GENERAL AGRICULTURE   \n",
       "1        1101  AGRICULTURE PRODUCTION AND MANAGEMENT   \n",
       "2        1102                 AGRICULTURAL ECONOMICS   \n",
       "3        1103                        ANIMAL SCIENCES   \n",
       "4        1104                           FOOD SCIENCE   \n",
       "\n",
       "                    Major_category   Total  Employed  \\\n",
       "0  Agriculture & Natural Resources  128148     90245   \n",
       "1  Agriculture & Natural Resources   95326     76865   \n",
       "2  Agriculture & Natural Resources   33955     26321   \n",
       "3  Agriculture & Natural Resources  103549     81177   \n",
       "4  Agriculture & Natural Resources   24280     17281   \n",
       "\n",
       "   Employed_full_time_year_round  Unemployed  Unemployment_rate  Median  \\\n",
       "0                          74078        2423           0.026147   50000   \n",
       "1                          64240        2266           0.028636   54000   \n",
       "2                          22810         821           0.030248   63000   \n",
       "3                          64937        3619           0.042679   46000   \n",
       "4                          12722         894           0.049188   62000   \n",
       "\n",
       "   P25th    P75th  \n",
       "0  34000  80000.0  \n",
       "1  36000  80000.0  \n",
       "2  40000  98000.0  \n",
       "3  30000  72000.0  \n",
       "4  38500  90000.0  "
      ],
      "text/html": "<div>\n<style scoped>\n    .dataframe tbody tr th:only-of-type {\n        vertical-align: middle;\n    }\n\n    .dataframe tbody tr th {\n        vertical-align: top;\n    }\n\n    .dataframe thead th {\n        text-align: right;\n    }\n</style>\n<table border=\"1\" class=\"dataframe\">\n  <thead>\n    <tr style=\"text-align: right;\">\n      <th></th>\n      <th>Major_code</th>\n      <th>Major</th>\n      <th>Major_category</th>\n      <th>Total</th>\n      <th>Employed</th>\n      <th>Employed_full_time_year_round</th>\n      <th>Unemployed</th>\n      <th>Unemployment_rate</th>\n      <th>Median</th>\n      <th>P25th</th>\n      <th>P75th</th>\n    </tr>\n  </thead>\n  <tbody>\n    <tr>\n      <th>0</th>\n      <td>1100</td>\n      <td>GENERAL AGRICULTURE</td>\n      <td>Agriculture &amp; Natural Resources</td>\n      <td>128148</td>\n      <td>90245</td>\n      <td>74078</td>\n      <td>2423</td>\n      <td>0.026147</td>\n      <td>50000</td>\n      <td>34000</td>\n      <td>80000.0</td>\n    </tr>\n    <tr>\n      <th>1</th>\n      <td>1101</td>\n      <td>AGRICULTURE PRODUCTION AND MANAGEMENT</td>\n      <td>Agriculture &amp; Natural Resources</td>\n      <td>95326</td>\n      <td>76865</td>\n      <td>64240</td>\n      <td>2266</td>\n      <td>0.028636</td>\n      <td>54000</td>\n      <td>36000</td>\n      <td>80000.0</td>\n    </tr>\n    <tr>\n      <th>2</th>\n      <td>1102</td>\n      <td>AGRICULTURAL ECONOMICS</td>\n      <td>Agriculture &amp; Natural Resources</td>\n      <td>33955</td>\n      <td>26321</td>\n      <td>22810</td>\n      <td>821</td>\n      <td>0.030248</td>\n      <td>63000</td>\n      <td>40000</td>\n      <td>98000.0</td>\n    </tr>\n    <tr>\n      <th>3</th>\n      <td>1103</td>\n      <td>ANIMAL SCIENCES</td>\n      <td>Agriculture &amp; Natural Resources</td>\n      <td>103549</td>\n      <td>81177</td>\n      <td>64937</td>\n      <td>3619</td>\n      <td>0.042679</td>\n      <td>46000</td>\n      <td>30000</td>\n      <td>72000.0</td>\n    </tr>\n    <tr>\n      <th>4</th>\n      <td>1104</td>\n      <td>FOOD SCIENCE</td>\n      <td>Agriculture &amp; Natural Resources</td>\n      <td>24280</td>\n      <td>17281</td>\n      <td>12722</td>\n      <td>894</td>\n      <td>0.049188</td>\n      <td>62000</td>\n      <td>38500</td>\n      <td>90000.0</td>\n    </tr>\n  </tbody>\n</table>\n</div>"
     },
     "metadata": {},
     "execution_count": 2
    }
   ],
   "source": [
    "all_ages = pd.read_csv('../jeux_de_données/all-ages.csv')\n",
    "all_ages.head()"
   ]
  },
  {
   "source": [
    "# Nombre d'étudiants par catégorie de Major\n",
    "\n",
    ">- Retourner les valeurs uniques de Major_category\n",
    ">- Utiliser la méthode Series.unique() (équivalent du distinct en SQL) pour retourner les valeurs uniques d'une Series\n",
    ">- Pour chaque valeur unique (utilisation d'une boucle for):\n",
    "- >- Retourner toutes les lignes où Major_category vaut cette valeur unique\n",
    "- >- Calculer le nombre total d'étudiants représentant cette catégorie de major (colonne Total à sommer)\n",
    "- >- Vous garderez en mémoire ce résultat sous la forme d'un dictionnaire contenant une Major_category en clé et le nombre d'étudiants en valeur"
   ],
   "cell_type": "markdown",
   "metadata": {}
  },
  {
   "source": [
    "### dictionnaire recent_grads"
   ],
   "cell_type": "markdown",
   "metadata": {}
  },
  {
   "cell_type": "code",
   "execution_count": 16,
   "metadata": {},
   "outputs": [
    {
     "output_type": "execute_result",
     "data": {
      "text/plain": [
       "{'Engineering': 537583,\n",
       " 'Business': 1302376,\n",
       " 'Physical Sciences': 183363,\n",
       " 'Law & Public Policy': 179107,\n",
       " 'Computers & Mathematics': 299008,\n",
       " 'Agriculture & Natural Resources': 79981,\n",
       " 'Industrial Arts & Consumer Services': 227357,\n",
       " 'Arts': 357130,\n",
       " 'Health': 463230,\n",
       " 'Social Science': 529966,\n",
       " 'Physical Sciences ': 2116,\n",
       " 'Biology & Life Science': 453862,\n",
       " 'Education': 559129,\n",
       " 'Humanities & Liberal Arts': 713468,\n",
       " 'Psychology & Social Work': 481007,\n",
       " 'Industrial Arts & Consumer Services ': 2435,\n",
       " 'Communications & Journalism': 392601,\n",
       " 'Interdisciplinary': 12296}"
      ]
     },
     "metadata": {},
     "execution_count": 16
    }
   ],
   "source": [
    "dic_total_recent_grades = {major_category : recent_grades[\"Total\"][recent_grades[\"Major_category\"] == major_category].sum() for major_category in recent_grads[\"Major_category\"].unique()}\n",
    "dic_total_recent_grades"
   ]
  },
  {
   "source": [
    "### dictionnaire all_ages"
   ],
   "cell_type": "markdown",
   "metadata": {}
  },
  {
   "cell_type": "code",
   "execution_count": 17,
   "metadata": {},
   "outputs": [
    {
     "output_type": "execute_result",
     "data": {
      "text/plain": [
       "{'Agriculture & Natural Resources': 632437,\n",
       " 'Biology & Life Science': 1338186,\n",
       " 'Engineering': 3576013,\n",
       " 'Humanities & Liberal Arts': 3738335,\n",
       " 'Communications & Journalism': 1803822,\n",
       " 'Computers & Mathematics': 1781378,\n",
       " 'Industrial Arts & Consumer Services': 1018072,\n",
       " 'Education': 4700118,\n",
       " 'Law & Public Policy': 902926,\n",
       " 'Interdisciplinary': 45199,\n",
       " 'Health': 2950859,\n",
       " 'Social Science': 2654125,\n",
       " 'Physical Sciences': 1013152,\n",
       " 'Physical Sciences ': 12166,\n",
       " 'Psychology & Social Work': 1987278,\n",
       " 'Industrial Arts & Consumer Services ': 15726,\n",
       " 'Arts': 1805865,\n",
       " 'Business': 9858741}"
      ]
     },
     "metadata": {},
     "execution_count": 17
    }
   ],
   "source": [
    "dic_total_all_ages = {major_category : all_ages[\"Total\"][all_ages[\"Major_category\"] == major_category].sum() for major_category in all_ages[\"Major_category\"].unique()}\n",
    "dic_total_all_ages"
   ]
  },
  {
   "source": [
    "# Nombre d'étudiants par catégorie de MajorMission:\n",
    "- >- Créer une fonction dans laquelle vous utiliserez la colonne Total pour calculer le nombre d'étudiants pour chaque catégorie de Major (Major_category) dans chaque dataset\n",
    "- >- Stocker le résultat dans 2 dictionnaires distincts\n",
    "- >- La clé pour chaque dictionnaire sera Major_category et la valeur le total d'étudiants\n",
    "- >- Pour le dataset all_ages, stocker le résultat dans un dictionnaire qu'on nommera aa_car_counts\n",
    "- >- Pour le dataset recent_grads, stocker le résultat dans un dictionnaire qu'on nommera rg_cat_counts\n",
    "- Autre méthode: Utiliser un pivot de table\n",
    "- Afficher les 2 dictionnaires"
   ],
   "cell_type": "markdown",
   "metadata": {}
  },
  {
   "cell_type": "code",
   "execution_count": 18,
   "metadata": {},
   "outputs": [
    {
     "output_type": "stream",
     "name": "stdout",
     "text": [
      "Nombre d'etudiants par category\n\n----- ALL AGES -----\n{'Agriculture & Natural Resources': 632437, 'Biology & Life Science': 1338186, 'Engineering': 3576013, 'Humanities & Liberal Arts': 3738335, 'Communications & Journalism': 1803822, 'Computers & Mathematics': 1781378, 'Industrial Arts & Consumer Services': 1018072, 'Education': 4700118, 'Law & Public Policy': 902926, 'Interdisciplinary': 45199, 'Health': 2950859, 'Social Science': 2654125, 'Physical Sciences': 1013152, 'Physical Sciences ': 12166, 'Psychology & Social Work': 1987278, 'Industrial Arts & Consumer Services ': 15726, 'Arts': 1805865, 'Business': 9858741}\n\n----- RECENT GRADS -----\n{'Engineering': 537583, 'Business': 1302376, 'Physical Sciences': 183363, 'Law & Public Policy': 179107, 'Computers & Mathematics': 299008, 'Agriculture & Natural Resources': 79981, 'Industrial Arts & Consumer Services': 227357, 'Arts': 357130, 'Health': 463230, 'Social Science': 529966, 'Physical Sciences ': 2116, 'Biology & Life Science': 453862, 'Education': 559129, 'Humanities & Liberal Arts': 713468, 'Psychology & Social Work': 481007, 'Industrial Arts & Consumer Services ': 2435, 'Communications & Journalism': 392601, 'Interdisciplinary': 12296}\n"
     ]
    }
   ],
   "source": [
    "#Nombre d'etudiants par category\n",
    "def nombre_etudiant_cat_dic(dataset) :\n",
    "    count_cat = {}\n",
    "    maj_category = dataset[\"Major_category\"].unique()\n",
    "    for cat in maj_category :\n",
    "        count_cat[cat] = dataset[\"Total\"][dataset[\"Major_category\"] == cat].sum()\n",
    "    return count_cat\n",
    "\n",
    "aa_car_counts = nombre_etudiant_cat_dic(all_ages)\n",
    "rg_car_counts = nombre_etudiant_cat_dic(recent_grads)\n",
    "print(\"Nombre d'etudiants par category\")\n",
    "print(\"\\n----- ALL AGES -----\")\n",
    "print(aa_car_counts)\n",
    "print(\"\\n----- RECENT GRADS -----\")\n",
    "print(rg_car_counts)"
   ]
  },
  {
   "source": [
    "### recent_grades pivot"
   ],
   "cell_type": "markdown",
   "metadata": {}
  },
  {
   "cell_type": "code",
   "execution_count": 19,
   "metadata": {},
   "outputs": [
    {
     "output_type": "execute_result",
     "data": {
      "text/plain": [
       "{'Agriculture & Natural Resources': {'Total': 79981},\n",
       " 'Arts': {'Total': 357130},\n",
       " 'Biology & Life Science': {'Total': 453862},\n",
       " 'Business': {'Total': 1302376},\n",
       " 'Communications & Journalism': {'Total': 392601},\n",
       " 'Computers & Mathematics': {'Total': 299008},\n",
       " 'Education': {'Total': 559129},\n",
       " 'Engineering': {'Total': 537583},\n",
       " 'Health': {'Total': 463230},\n",
       " 'Humanities & Liberal Arts': {'Total': 713468},\n",
       " 'Industrial Arts & Consumer Services': {'Total': 227357},\n",
       " 'Industrial Arts & Consumer Services ': {'Total': 2435},\n",
       " 'Interdisciplinary': {'Total': 12296},\n",
       " 'Law & Public Policy': {'Total': 179107},\n",
       " 'Physical Sciences': {'Total': 183363},\n",
       " 'Physical Sciences ': {'Total': 2116},\n",
       " 'Psychology & Social Work': {'Total': 481007},\n",
       " 'Social Science': {'Total': 529966}}"
      ]
     },
     "metadata": {},
     "execution_count": 19
    }
   ],
   "source": [
    "# pivot par défaut moyenne\n",
    "rg_cat_counts_pt = recent_grads.pivot_table(index=\"Major_category\", values=\"Total\", aggfunc=np.sum).to_dict('index')\n",
    "# la clé est l'index de ligne\n",
    "# value est un dictionnaire avec clé 'Total' et valeur la somme\n",
    "rg_cat_counts_pt"
   ]
  },
  {
   "source": [
    "### all_ages pivot"
   ],
   "cell_type": "markdown",
   "metadata": {}
  },
  {
   "cell_type": "code",
   "execution_count": 20,
   "metadata": {},
   "outputs": [
    {
     "output_type": "execute_result",
     "data": {
      "text/plain": [
       "{'Agriculture & Natural Resources': {'Total': 632437},\n",
       " 'Arts': {'Total': 1805865},\n",
       " 'Biology & Life Science': {'Total': 1338186},\n",
       " 'Business': {'Total': 9858741},\n",
       " 'Communications & Journalism': {'Total': 1803822},\n",
       " 'Computers & Mathematics': {'Total': 1781378},\n",
       " 'Education': {'Total': 4700118},\n",
       " 'Engineering': {'Total': 3576013},\n",
       " 'Health': {'Total': 2950859},\n",
       " 'Humanities & Liberal Arts': {'Total': 3738335},\n",
       " 'Industrial Arts & Consumer Services': {'Total': 1018072},\n",
       " 'Industrial Arts & Consumer Services ': {'Total': 15726},\n",
       " 'Interdisciplinary': {'Total': 45199},\n",
       " 'Law & Public Policy': {'Total': 902926},\n",
       " 'Physical Sciences': {'Total': 1013152},\n",
       " 'Physical Sciences ': {'Total': 12166},\n",
       " 'Psychology & Social Work': {'Total': 1987278},\n",
       " 'Social Science': {'Total': 2654125}}"
      ]
     },
     "metadata": {},
     "execution_count": 20
    }
   ],
   "source": [
    "# pivot par défaut moyenne\n",
    "aa_car_counts = all_ages.pivot_table(index=\"Major_category\", values=\"Total\", aggfunc=np.sum).to_dict('index')\n",
    "# la clé est l'index de ligne\n",
    "# value est un dictionnaire avec clé 'Total' et valeur la somme\n",
    "aa_car_counts"
   ]
  },
  {
   "source": [
    "# Taux de jobs à faible salaire\n",
    "- > Utiliser les colonnes \"Low_wage_jobs\" et \"Total\" pour calculer la proportion de jeunes diplômés qui ont du trouver des jobs à faible salaire (recent_grads\n",
    "- > Souvenez-vous que vous pouvez utiliser la méthode Series.sum() pour retourner la somme des valeurs d'une colonne \n",
    "- > Stocker le résultat dans la variable low_wage_proportion et afficher le"
   ],
   "cell_type": "markdown",
   "metadata": {}
  },
  {
   "cell_type": "code",
   "execution_count": 21,
   "metadata": {},
   "outputs": [
    {
     "output_type": "stream",
     "name": "stdout",
     "text": [
      "6776015\n667610\n9.852546076122913 % de jeunes diplomés ont du trouver des jobs à faible salaire\n"
     ]
    }
   ],
   "source": [
    "#Taux de jobs à faible salaire\n",
    "TOTAL = recent_grads[\"Total\"].sum()\n",
    "print(TOTAL)\n",
    "\n",
    "tot_low_wage_jobs = recent_grads[\"Low_wage_jobs\"].sum()\n",
    "print(tot_low_wage_jobs)\n",
    "\n",
    "low_wage_proportion= (tot_low_wage_jobs/TOTAL)*100\n",
    "print(low_wage_proportion, \"% de jeunes diplomés ont du trouver des jobs à faible salaire\")"
   ]
  },
  {
   "source": [
    "# Comparer des datasets\n",
    "\n",
    "- > Utiliser une boucle for pour parcourir toutes les majors\n",
    "- > Pour chaque Major et chaque DataFrame, filtrer seulement les lignes du DataFrame correspondant à cette major\n",
    "- > Comparer les valeurs pour la colonne \"Unemployment_rate\" pour voir lequel des 2 DataFrames possèdent la valeur la plus basse\n",
    "- > Incrémenter (ajouter 1) à la variable rg_lower_count si la valeur pour Unemployment_rate est plus petite dans le dataframe recent_grads que dans le dataframe all_ages\n",
    "- Afficher le résultat rg_lower_count."
   ],
   "cell_type": "markdown",
   "metadata": {}
  },
  {
   "cell_type": "code",
   "execution_count": 24,
   "metadata": {},
   "outputs": [
    {
     "output_type": "stream",
     "name": "stdout",
     "text": [
      "(173,)\n",
      "(173,)\n",
      "rg_lower_count = 42\n"
     ]
    }
   ],
   "source": [
    "# Comparer des datasets\n",
    "majors_1 = all_ages[\"Major\"]\n",
    "majors_2 = recent_grads[\"Major\"]\n",
    "print(majors_1.shape)\n",
    "print(majors_2.shape)\n",
    "\n",
    "rg_lower_count = 0\n",
    "\n",
    "for major in majors_1:\n",
    "    is_major_1 = (all_ages[\"Major\"] == major)\n",
    "    is_major_2 = (recent_grads[\"Major\"] == major)\n",
    "    valeur_1 = all_ages[is_major_1][\"Unemployment_rate\"].tolist()\n",
    "    valeur_2 = recent_grads[is_major_2][\"Unemployment_rate\"].tolist()\n",
    "    if len(valeur_1) > 0 and len(valeur_2) > 0:\n",
    "        if valeur_1 > valeur_2:\n",
    "            rg_lower_count += 1\n",
    "\n",
    "print(\"rg_lower_count =\",rg_lower_count)"
   ]
  }
 ]
}