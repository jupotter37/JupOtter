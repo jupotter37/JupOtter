{
 "cells": [
  {
   "cell_type": "markdown",
   "metadata": {},
   "source": [
    "# NOTE: UNDER SERIOUS CONSTRUCTION"
   ]
  },
  {
   "cell_type": "markdown",
   "metadata": {},
   "source": [
    "## Background\n",
    "\n",
    "### What is a database?\n",
    "\n",
    "#### What is a relational database?\n",
    "\n",
    " A relational database is a database that organizes information into one or more tables. \n",
    "\n",
    "#### What is a table? \n",
    "\n",
    "A table is a collection of data organized into rows and columns. Tables are sometimes referred to as relations.\n",
    "\n",
    "\n",
    "### What is a clause?\n",
    "\n",
    "Clauses perform specific tasks in SQL. By convention, clauses are written in capital letters. Clauses can also be referred to as commands.\n",
    "\n",
    "### What is a schema?\n"
   ]
  },
  {
   "cell_type": "markdown",
   "metadata": {},
   "source": [
    "## SQL\n",
    "\n",
    "\n",
    "### What is SQL? \n",
    "\n",
    "\n",
    "### Building a Database\n",
    "\n",
    "The structure of SQL statements vary. The number of lines used do not matter. A statement can be written all on one line, or split up across multiple lines if it makes it easier to read. In this course, you will become familiar with the structure of common statements."
   ]
  },
  {
   "cell_type": "markdown",
   "metadata": {},
   "source": [
    "``` SQL\n",
    "CREATE TABLE Members (\n",
    "    id INTEGER, \n",
    "    name VARCHAR, \n",
    "    age INTEGER, \n",
    "    PRIMARY KEY (id, name)\n",
    ");\n",
    "```"
   ]
  },
  {
   "cell_type": "markdown",
   "metadata": {},
   "source": [
    "``` SQL\n",
    "ALTER TABLE Members \n",
    "ADD grad_year INTEGER;\n",
    "```\n",
    "\n",
    "\n",
    "``` SQL\n",
    "DROP TABLE Members;\n",
    "```"
   ]
  },
  {
   "cell_type": "markdown",
   "metadata": {},
   "source": [
    "### Inserting\n",
    "\n",
    "`INSERT INTO` is a clause that adds the specified row or rows. "
   ]
  },
  {
   "cell_type": "markdown",
   "metadata": {},
   "source": [
    "``` SQL\n",
    "INSERT INTO Members (name, age, grad_year) VALUES ('Lesley Cordero', 23, 2018);\n",
    "```\n",
    "\n",
    "``` SQL\n",
    "INSERT INTO Members (name, age, grad_year) VALUES ('Tabara Nosiba', 19, 2020);\n",
    "```"
   ]
  },
  {
   "cell_type": "markdown",
   "metadata": {},
   "source": [
    "### Selecting\n",
    "\n",
    "\n",
    "\n",
    "``` SQL\n",
    "SELECT * FROM Members;\n",
    "```\n",
    "\n",
    "\n",
    "\n",
    "``` SQL\n",
    "SELECT * FROM Members \n",
    "WHERE grad_year = 2018;\n",
    "```\n",
    "\n",
    "\n",
    "``` SQL\n",
    "UPDATE Members \n",
    "SET age = 20\n",
    "WHERE name = \"Tabara Nosiba\";\n",
    "```\n",
    "\n",
    "``` SQL\n",
    "DELETE FROM Members \n",
    "WHERE grad_year = 2018;\n",
    "```\n",
    "\n",
    "\n",
    "\n",
    "``` SQL\n",
    "SELECT name FROM Members\n",
    "WHERE grad_year = max(grad_year);\n",
    "```\n",
    "\n",
    "``` SQL\n",
    "SELECT name FROM Members\n",
    "WHERE grad_year = (SELECT max(grad_year) FROM Members);\n",
    "```\n",
    "\n",
    "``` SQL\n",
    "CREATE TABLE Is_A_Student_At (\n",
    "    id INTEGER,\n",
    "    name VARCHAR,\n",
    "    school VARCHAR,\n",
    "    major VARCHAR,\n",
    "    grad_year INTEGER,\n",
    "    FOREIGN KEY (id, name, grad_year) REFERENCES Members,\n",
    "    PRIMARY KEY(id, school));\n",
    "```\n",
    "\n",
    "``` SQL \n",
    "INSERT INTO Is_A_Student_At (id, name, school, major, grad_year) VALUES (1, 'Lesley Cordero', 'SEAS', 'Computer Science', 2018);\n",
    "```\n",
    "\n",
    "``` SQL\n",
    "INSERT INTO Is_A_Student_At (id, name, school, major, grad_year) VALUES (2, 'Tabara Nosiba', 'BC', 'Computer Science', 2020);\n",
    "```\n",
    "\n",
    "``` SQL\n",
    "SELECT M.name \n",
    "FROM Members M\n",
    "WHERE \n",
    "```\n",
    "\n",
    "`SELECT` statements are used to fetch data from a database. `SELECT` is a clause that indicates that the statement is a query. You will use `SELECT` every time you query data from a database. `SELECT` statements always return a new table called the result set. We can also rename the columns we want to show with `AS`.\n",
    "\n",
    "`*` is a special wildcard character that we have been using. It allows you to select every column in a table without having to name each one individually. Here, the result set contains every column in the celebs table.\n"
   ]
  },
  {
   "cell_type": "markdown",
   "metadata": {},
   "source": [
    "### Updating\n",
    "\n",
    "The `UPDATE` statement edits a row in the table. You can use the UPDATE statement when you want to change existing records. `SET` is a clause that indicates the column to edit. WHERE is a clause that indicates which row(s) to update with the new column value.\n",
    "\n",
    "The `ALTER TABLE` statement added a new column to the table. You can use this command when you want to add columns to a table. `ADD COLUMN` is a clause that lets you add a new column to a table. \n",
    "\n",
    "### Deleting\n",
    "\n",
    "The `DELETE` FROM statement deletes one or more rows from a table. You can use the statement when you want to delete existing records.\n",
    "\n",
    "### Null\n",
    "\n",
    "`NULL` is a special value in SQL that represents missing or unknown data. Here, the rows that existed before the column was added have NULL values for twitter_handle\n",
    "\n",
    "### Aggregations\n",
    "\n",
    "Aggregations are used to convert many rows into a single row. Almost all aggregations come with the `GROUP BY` statement, which converts the table otherwise returned by the query into groups of tables. Each group corresponds to a unique value (or group of values) of columns which we specify in the GROUP BY statement.\n",
    "\n",
    "### Subqueries \n",
    "\n",
    "Subqueries are regular SQL queries that are embedded inside larger queries. There are 3 different types of subqueries, based on what they return -\n",
    "\n",
    "\n",
    "#### 2D Table \n",
    "\n",
    "#### 1D Array\n",
    "\n",
    "#### Single Values"
   ]
  },
  {
   "cell_type": "markdown",
   "metadata": {},
   "source": [
    "## Relationships\n",
    "\n",
    "### One to One\n",
    "\n",
    "* A row in a table has a relationship with another row in another table. \n",
    "* This relationship works both ways between the two tables. Each row can have a connection only with one other row from another table. \n",
    "\n",
    "### One to Many\n",
    "\n",
    "* A row in one table can have a connection with multiple rows in another table\n",
    "* In reverse, multiple rows in a table can be connected to the same row in another table\n"
   ]
  },
  {
   "cell_type": "markdown",
   "metadata": {},
   "source": [
    "### Foriegn Keys\n",
    "\n",
    "Foreign Keys are a fundamental component of SQL that allows us to reference one table from another. Foreign Keys are stored as an additional column and is usually entered in the child table and will reference the parent table.\n"
   ]
  },
  {
   "cell_type": "markdown",
   "metadata": {
    "collapsed": true
   },
   "source": [
    "### Constraints\n",
    "\n",
    "``` SQL\n",
    "CREATE TABLE Reserves\n",
    "    ( sname CHAR(10),\n",
    "    bid INTEGER,\n",
    "    day DATE,\n",
    "    PRIMARY KEY(bid, day),\n",
    "    CONSTRAINT noInterlakeRes\n",
    "    CHECK (`Interlake` <> \n",
    "        (SELECT B.bname\n",
    "        FROM Boats B\n",
    "        WHERE B.bid = bid))))\n",
    "```"
   ]
  },
  {
   "cell_type": "markdown",
   "metadata": {},
   "source": [
    "can be named"
   ]
  },
  {
   "cell_type": "markdown",
   "metadata": {},
   "source": [
    "### Constraints Over Multiple Relations\n",
    "\n",
    "``` SQL\n",
    "CREATE TABLE Sailors\n",
    "    ( sid INTEGER,\n",
    "    sname CHAR(10),\n",
    "    rating INTEGER,\n",
    "    age REAL,\n",
    "    PRIMARY KEY (sid),\n",
    "    CHECK\n",
    "    ( (SELECT COUNT (S.sid) FROM Sailors S)\n",
    "    + (SELECT COUNT (B.bid) FROM Boats B) < 100 )\n",
    "```"
   ]
  },
  {
   "cell_type": "markdown",
   "metadata": {},
   "source": [
    "### Assertions"
   ]
  },
  {
   "cell_type": "markdown",
   "metadata": {},
   "source": [
    "``` SQL\n",
    "CREATE ASSERTION smallClub\n",
    "CHECK\n",
    "( (SELECT COUNT (S.sid) FROM Sailors S)\n",
    "+ (SELECT COUNT (B.bid) FROM Boats B) < 100)\n",
    "```"
   ]
  },
  {
   "cell_type": "markdown",
   "metadata": {},
   "source": [
    "#### Enforcing Total Participation\n",
    "\n",
    "``` SQL\n",
    "CREATE ASSERTION BusySailors\n",
    "CHECK (\n",
    "    NOT EXISTS (\n",
    "        SELECT sid FROM Sailors\n",
    "        WHERE sid NOT IN (\n",
    "            SELECT sid FROM Reserves)\n",
    "       )\n",
    ")\n",
    "```"
   ]
  },
  {
   "cell_type": "markdown",
   "metadata": {},
   "source": [
    "### Triggers\n",
    "\n",
    "A procedure that starts automatically when a specified change occurs, such as INSERT, UPDATE, DELETE."
   ]
  },
  {
   "cell_type": "markdown",
   "metadata": {},
   "source": [
    "#### Row Level Triggers\n",
    "\n",
    "Invoked once for each row affected by the triggering statement. "
   ]
  },
  {
   "cell_type": "markdown",
   "metadata": {},
   "source": [
    "#### Statement Level Trigger\n",
    "\n",
    "Invoked only once regardless of the number of rows affected. "
   ]
  },
  {
   "cell_type": "markdown",
   "metadata": {},
   "source": [
    "Triggers may fire before or after a change occurs. Could also be asynchronous or deferred. \n",
    "\n",
    "If there exists a condition, it needs to be true for the trigger to fire."
   ]
  },
  {
   "cell_type": "markdown",
   "metadata": {},
   "source": [
    "## Privileges\n",
    "\n",
    "GRANT and REVOKE\n",
    "\n",
    "Authorization Graph -- nodes are users, arcs are privileges"
   ]
  },
  {
   "cell_type": "markdown",
   "metadata": {},
   "source": [
    "## Transactions\n",
    "\n",
    "series or list of actions. they can consist of reads or writes of DB objects. \n",
    "\n",
    "RT(O) is for reading, WT(O) is for writing. \n",
    "\n",
    "Transactions must specificy whether the final action is a commit or abort. "
   ]
  },
  {
   "cell_type": "markdown",
   "metadata": {},
   "source": [
    "## Schedules\n",
    "\n",
    "list of actions from a set of transactions. it represents an actual or potential execution sequence. "
   ]
  },
  {
   "cell_type": "markdown",
   "metadata": {
    "collapsed": true
   },
   "source": [
    "### Relational Algebra\n",
    "\n",
    "Relational Algebra is what allows us to represent relational database logic without concrete SQL. \n",
    "\n",
    "#### Selection \n",
    "\n",
    "Selection is indicated with the σ symbol. As the name suggests, the $\\sigma$ symbol indicates that a subset of rows will be selected based off of a particular condition. \n",
    "\n",
    "Recall from an earlier section that in SQL, a select statements looks something like this:\n",
    "\n",
    "``` sql\n",
    "SELECT * FROM Table;\n",
    "```"
   ]
  },
  {
   "cell_type": "markdown",
   "metadata": {},
   "source": [
    "#### Projection \n",
    "\n",
    "On an opposite note, we have projection which _deletes_ unwanted columns and is indicated with a $\\pi$. It's important to note that the projection operator deletes columns _not_ in the projection list, which will always be indicated as a subscript to the $\\pi$ symbol.  \n",
    "\n",
    "Given the following table, which we'll call S2, what would the following operation output: $ \\pi_{name,major}(S2)$ \n",
    "\n",
    "\n",
    "| student_id  | name  | major     | minor    |\n",
    "| ----------- |:-----:| ---------:|---------:|\n",
    "| 1           | Helen | Biology   | Dance    |\n",
    "| 2           | Menna | Sociology | French   |\n",
    "| 3           | Dan   | Comp Sci  | Music    |\n",
    "| 4           | Will  | Comp Sci  | Business |\n",
    "\n",
    "Since the operation only keeps the name and major columns, we end up with:\n",
    "\n",
    "| name  | major     | \n",
    "|:-----:| ---------:|\n",
    "| Helen | Biology   | \n",
    "| Menna | Sociology | \n",
    "| Dan   | Comp Sci  | \n",
    "| Will  | Comp Sci  |"
   ]
  },
  {
   "cell_type": "markdown",
   "metadata": {},
   "source": [
    "# Challenge\n",
    "\n",
    "What is the output for the following operation: $ \\pi_{major}(S2) $?\n"
   ]
  },
  {
   "cell_type": "markdown",
   "metadata": {},
   "source": [
    "## Solution & Walkthrough\n",
    "\n",
    "The answer might not be exactly what you expect. If you expected 4 rows rather than the 3 shown below, what you missed is that relational algebra deals with _sets_. And in sets, there are no duplicates. Therefore, we remove the second Comp Sci value.\n",
    "\n",
    "| major     | \n",
    "|----------:|\n",
    "| Biology   | \n",
    "| Sociology | \n",
    "| Comp Sci  | \n"
   ]
  },
  {
   "cell_type": "markdown",
   "metadata": {},
   "source": [
    "#### Cross Product\n",
    "\n",
    "Oftentimes, when completing a task, two operations need to be combined to accomplish a task. Luckily, relational algebra provides us with the symbol $\\times$ to indicate such. "
   ]
  },
  {
   "cell_type": "markdown",
   "metadata": {},
   "source": [
    "#### Set-Difference\n",
    "\n",
    "Recall the difference operation from set theory, which outputs a set containing all elements in the first set but not in the second.\n",
    "\n",
    "For example, if we have two sets, `A = {1,2,3,4,5}` and `B = {1,3,5,7}`, the operation `A - B` would leave us with `{1,3,5}`. Just as in set theory, set difference is represented with a subtraction sign (-) in relational algebra. "
   ]
  },
  {
   "cell_type": "markdown",
   "metadata": {},
   "source": [
    "### sqlite3 with Python\n",
    "\n"
   ]
  },
  {
   "cell_type": "code",
   "execution_count": 1,
   "metadata": {
    "collapsed": true
   },
   "outputs": [],
   "source": [
    "import sqlite3 "
   ]
  },
  {
   "cell_type": "code",
   "execution_count": 2,
   "metadata": {
    "collapsed": true
   },
   "outputs": [],
   "source": [
    "db = sqlite3.connect(\"./database.db\")"
   ]
  },
  {
   "cell_type": "code",
   "execution_count": 3,
   "metadata": {
    "collapsed": true
   },
   "outputs": [],
   "source": [
    "cursor = db.cursor()"
   ]
  },
  {
   "cell_type": "raw",
   "metadata": {},
   "source": [
    "cursor.execute() "
   ]
  },
  {
   "cell_type": "code",
   "execution_count": 5,
   "metadata": {},
   "outputs": [
    {
     "data": {
      "text/plain": [
       "<sqlite3.Cursor at 0x1067033b0>"
      ]
     },
     "execution_count": 5,
     "metadata": {},
     "output_type": "execute_result"
    }
   ],
   "source": [
    "cursor.execute('''\n",
    "CREATE TABLE students(\n",
    "    id INTEGER PRIMARY KEY, \n",
    "    name TEXT\n",
    ");\n",
    "''')"
   ]
  },
  {
   "cell_type": "code",
   "execution_count": 6,
   "metadata": {
    "collapsed": true
   },
   "outputs": [],
   "source": [
    "db.commit()"
   ]
  },
  {
   "cell_type": "code",
   "execution_count": 8,
   "metadata": {
    "collapsed": true
   },
   "outputs": [],
   "source": [
    "cursor.execute(''' INSERT INTO students (name) VALUES (?) ''',  (str(\"Lesley\"),))\n",
    "db.commit()"
   ]
  },
  {
   "cell_type": "markdown",
   "metadata": {
    "collapsed": true
   },
   "source": [
    "## SQLAlchemy\n",
    "\n",
    "Engine: common interface to database from SQLAlchemy"
   ]
  },
  {
   "cell_type": "code",
   "execution_count": null,
   "metadata": {
    "collapsed": true
   },
   "outputs": [],
   "source": [
    "from sqlalchemy import create_engine\n",
    "engine = create_engine('')\n",
    "connection = engine.connect()"
   ]
  },
  {
   "cell_type": "markdown",
   "metadata": {},
   "source": [
    "### Connection strings\n",
    "\n",
    "database driver + filename"
   ]
  },
  {
   "cell_type": "code",
   "execution_count": null,
   "metadata": {
    "collapsed": true
   },
   "outputs": [],
   "source": [
    "engine.table_names() # returns list of tables\n"
   ]
  },
  {
   "cell_type": "code",
   "execution_count": null,
   "metadata": {
    "collapsed": true
   },
   "outputs": [],
   "source": [
    "### Reflection "
   ]
  },
  {
   "cell_type": "code",
   "execution_count": null,
   "metadata": {
    "collapsed": true
   },
   "outputs": [],
   "source": [
    "from sqlalchemy import MetaData, Table\n",
    "\n",
    "metadata = MetaData() # stores DB info \n",
    "\n",
    "census = Table('census', metadata, autoload=True, autoloud_with=engine)\n",
    "\n",
    "repr(census) # tells us columns and types"
   ]
  }
 ],
 "metadata": {
  "kernelspec": {
   "display_name": "Python 3",
   "language": "python",
   "name": "python3"
  },
  "language_info": {
   "codemirror_mode": {
    "name": "ipython",
    "version": 3
   },
   "file_extension": ".py",
   "mimetype": "text/x-python",
   "name": "python",
   "nbconvert_exporter": "python",
   "pygments_lexer": "ipython3",
   "version": "3.6.3"
  }
 },
 "nbformat": 4,
 "nbformat_minor": 2
}
