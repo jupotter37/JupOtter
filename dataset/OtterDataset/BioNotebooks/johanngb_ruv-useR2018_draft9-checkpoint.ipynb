{
 "cells": [
  {
   "cell_type": "markdown",
   "metadata": {
    "slideshow": {
     "slide_type": "slide"
    }
   },
   "source": [
    "<p style=\"text-align:center;font-size:30px\">The RUV Package:</p>\n",
    "<p style=\"text-align:center;font-size:24px\">Tools to Remove Batch Effects and other Unwanted Variation</p>\n",
    "<br><br>\n",
    "<p style=\"text-align:center;font-size:18px\">Tools and Technology Seminar<br>March 15, 2018</p>\n",
    "<br>\n",
    "<p style=\"text-align:center;font-size:18px\">Johann Gagnon-Bartsch<br>Department of Statistics<br>University of Michigan</p>\n",
    "\n"
   ]
  },
  {
   "cell_type": "markdown",
   "metadata": {
    "slideshow": {
     "slide_type": "slide"
    }
   },
   "source": [
    "# Docker\n",
    "\n",
    "Everything in this talk available at:\n",
    "\n",
    "[https://hub.docker.com/r/johanngb/ruv/](https://hub.docker.com/r/johanngb/ruv/)\n",
    "\n"
   ]
  },
  {
   "cell_type": "markdown",
   "metadata": {
    "slideshow": {
     "slide_type": "slide"
    }
   },
   "source": [
    "# Outline\n",
    "\n",
    "1. Example Dataset\n",
    "2. Comments on Normalization\n",
    "3. The RUV Framework\n",
    "4. The <span style=\"font-family:monospace\">ruv</span> Package\n",
    "5. Examples with Shiny"
   ]
  },
  {
   "cell_type": "markdown",
   "metadata": {
    "slideshow": {
     "slide_type": "slide"
    }
   },
   "source": [
    "# Example: Gender in the Brain\n",
    "\n",
    "Vawter, et al. *Neuropsychopharmacology* (2004)\n",
    "\n",
    "**Goal:** Discover genes differentially expressed in the brains of men and women   \n",
    "\n",
    "  * 5 men, 5 women\n",
    "  * Tissue taken from:\n",
    "    1. Anterior Cingulate Cortex\n",
    "    2. Dorsolateral Prefrontal Cortex\n",
    "    3. Cerebellum\n",
    "  * Samples sent to:\n",
    "    1. UC Davis\n",
    "    2. UC Irvine\n",
    "    3. University of Michigan\n",
    "  * Samples assayed by microarray.  12,600 genes.  \n",
    "\n"
   ]
  },
  {
   "cell_type": "markdown",
   "metadata": {
    "slideshow": {
     "slide_type": "slide"
    }
   },
   "source": [
    "# The Data"
   ]
  },
  {
   "cell_type": "code",
   "execution_count": 1,
   "metadata": {
    "slideshow": {
     "slide_type": "-"
    }
   },
   "outputs": [
    {
     "data": {
      "text/html": [
       "<ol class=list-inline>\n",
       "\t<li>'geneinfo'</li>\n",
       "\t<li>'sampleinfo'</li>\n",
       "\t<li>'Y.norm'</li>\n",
       "\t<li>'Y.raw'</li>\n",
       "</ol>\n"
      ],
      "text/latex": [
       "\\begin{enumerate*}\n",
       "\\item 'geneinfo'\n",
       "\\item 'sampleinfo'\n",
       "\\item 'Y.norm'\n",
       "\\item 'Y.raw'\n",
       "\\end{enumerate*}\n"
      ],
      "text/markdown": [
       "1. 'geneinfo'\n",
       "2. 'sampleinfo'\n",
       "3. 'Y.norm'\n",
       "4. 'Y.raw'\n",
       "\n",
       "\n"
      ],
      "text/plain": [
       "[1] \"geneinfo\"   \"sampleinfo\" \"Y.norm\"     \"Y.raw\"     "
      ]
     },
     "metadata": {},
     "output_type": "display_data"
    }
   ],
   "source": [
    "load(\"gender.rda\")\n",
    "ls()"
   ]
  },
  {
   "cell_type": "code",
   "execution_count": 2,
   "metadata": {
    "slideshow": {
     "slide_type": "slide"
    }
   },
   "outputs": [
    {
     "data": {
      "text/html": [
       "<table>\n",
       "<thead><tr><th></th><th scope=col>1000_at</th><th scope=col>1001_at</th><th scope=col>1002_f_at</th><th scope=col>1003_s_at</th><th scope=col>1004_at</th></tr></thead>\n",
       "<tbody>\n",
       "\t<tr><th scope=row>01_a_D_f_2.CEL</th><td>9.823395</td><td>6.258064</td><td>5.119432</td><td>7.053562</td><td>7.358204</td></tr>\n",
       "\t<tr><th scope=row>01_a_I_f_2.CEL</th><td>9.598368</td><td>6.382745</td><td>5.052340</td><td>7.530220</td><td>7.244545</td></tr>\n",
       "\t<tr><th scope=row>01_a_M_f_1.CEL</th><td>9.270307</td><td>5.633953</td><td>4.765587</td><td>7.695161</td><td>7.466540</td></tr>\n",
       "\t<tr><th scope=row>01_c_D_f_1.CEL</th><td>8.180496</td><td>5.162317</td><td>4.653400</td><td>7.142755</td><td>6.679110</td></tr>\n",
       "\t<tr><th scope=row>01_c_I_f_2.CEL</th><td>9.352611</td><td>6.569988</td><td>4.958501</td><td>7.460245</td><td>6.935908</td></tr>\n",
       "</tbody>\n",
       "</table>\n"
      ],
      "text/latex": [
       "\\begin{tabular}{r|lllll}\n",
       "  & 1000\\_at & 1001\\_at & 1002\\_f\\_at & 1003\\_s\\_at & 1004\\_at\\\\\n",
       "\\hline\n",
       "\t01\\_a\\_D\\_f\\_2.CEL & 9.823395 & 6.258064 & 5.119432 & 7.053562 & 7.358204\\\\\n",
       "\t01\\_a\\_I\\_f\\_2.CEL & 9.598368 & 6.382745 & 5.052340 & 7.530220 & 7.244545\\\\\n",
       "\t01\\_a\\_M\\_f\\_1.CEL & 9.270307 & 5.633953 & 4.765587 & 7.695161 & 7.466540\\\\\n",
       "\t01\\_c\\_D\\_f\\_1.CEL & 8.180496 & 5.162317 & 4.653400 & 7.142755 & 6.679110\\\\\n",
       "\t01\\_c\\_I\\_f\\_2.CEL & 9.352611 & 6.569988 & 4.958501 & 7.460245 & 6.935908\\\\\n",
       "\\end{tabular}\n"
      ],
      "text/markdown": [
       "\n",
       "| <!--/--> | 1000_at | 1001_at | 1002_f_at | 1003_s_at | 1004_at | \n",
       "|---|---|---|---|---|\n",
       "| 01_a_D_f_2.CEL | 9.823395 | 6.258064 | 5.119432 | 7.053562 | 7.358204 | \n",
       "| 01_a_I_f_2.CEL | 9.598368 | 6.382745 | 5.052340 | 7.530220 | 7.244545 | \n",
       "| 01_a_M_f_1.CEL | 9.270307 | 5.633953 | 4.765587 | 7.695161 | 7.466540 | \n",
       "| 01_c_D_f_1.CEL | 8.180496 | 5.162317 | 4.653400 | 7.142755 | 6.679110 | \n",
       "| 01_c_I_f_2.CEL | 9.352611 | 6.569988 | 4.958501 | 7.460245 | 6.935908 | \n",
       "\n",
       "\n"
      ],
      "text/plain": [
       "               1000_at  1001_at  1002_f_at 1003_s_at 1004_at \n",
       "01_a_D_f_2.CEL 9.823395 6.258064 5.119432  7.053562  7.358204\n",
       "01_a_I_f_2.CEL 9.598368 6.382745 5.052340  7.530220  7.244545\n",
       "01_a_M_f_1.CEL 9.270307 5.633953 4.765587  7.695161  7.466540\n",
       "01_c_D_f_1.CEL 8.180496 5.162317 4.653400  7.142755  6.679110\n",
       "01_c_I_f_2.CEL 9.352611 6.569988 4.958501  7.460245  6.935908"
      ]
     },
     "metadata": {},
     "output_type": "display_data"
    }
   ],
   "source": [
    "# Y.raw:  Summarized by RMA, but otherwise not preprocessed\n",
    "# Y.norm: Background corrected and quantile normalized\n",
    "Y = Y.norm\n",
    "Y[1:5, 1:5]"
   ]
  },
  {
   "cell_type": "code",
   "execution_count": 3,
   "metadata": {
    "slideshow": {
     "slide_type": "slide"
    }
   },
   "outputs": [
    {
     "data": {
      "text/html": [
       "<table>\n",
       "<thead><tr><th></th><th scope=col>patient</th><th scope=col>gender</th><th scope=col>region</th><th scope=col>lab</th><th scope=col>chip.version</th></tr></thead>\n",
       "<tbody>\n",
       "\t<tr><th scope=row>01_a_D_f_2.CEL</th><td>patient_01 </td><td>female     </td><td>A.C. cortex</td><td>Davis      </td><td>v2         </td></tr>\n",
       "\t<tr><th scope=row>01_a_I_f_2.CEL</th><td>patient_01 </td><td>female     </td><td>A.C. cortex</td><td>Irvine     </td><td>v2         </td></tr>\n",
       "\t<tr><th scope=row>01_a_M_f_1.CEL</th><td>patient_01 </td><td>female     </td><td>A.C. cortex</td><td>Michigan   </td><td>v1         </td></tr>\n",
       "\t<tr><th scope=row>01_c_D_f_1.CEL</th><td>patient_01 </td><td>female     </td><td>cerebellum </td><td>Davis      </td><td>v1         </td></tr>\n",
       "\t<tr><th scope=row>01_c_I_f_2.CEL</th><td>patient_01 </td><td>female     </td><td>cerebellum </td><td>Irvine     </td><td>v2         </td></tr>\n",
       "\t<tr><th scope=row>01_c_M_f_1.CEL</th><td>patient_01 </td><td>female     </td><td>cerebellum </td><td>Michigan   </td><td>v1         </td></tr>\n",
       "</tbody>\n",
       "</table>\n"
      ],
      "text/latex": [
       "\\begin{tabular}{r|lllll}\n",
       "  & patient & gender & region & lab & chip.version\\\\\n",
       "\\hline\n",
       "\t01\\_a\\_D\\_f\\_2.CEL & patient\\_01 & female       & A.C. cortex  & Davis        & v2          \\\\\n",
       "\t01\\_a\\_I\\_f\\_2.CEL & patient\\_01 & female       & A.C. cortex  & Irvine       & v2          \\\\\n",
       "\t01\\_a\\_M\\_f\\_1.CEL & patient\\_01 & female       & A.C. cortex  & Michigan     & v1          \\\\\n",
       "\t01\\_c\\_D\\_f\\_1.CEL & patient\\_01 & female       & cerebellum   & Davis        & v1          \\\\\n",
       "\t01\\_c\\_I\\_f\\_2.CEL & patient\\_01 & female       & cerebellum   & Irvine       & v2          \\\\\n",
       "\t01\\_c\\_M\\_f\\_1.CEL & patient\\_01 & female       & cerebellum   & Michigan     & v1          \\\\\n",
       "\\end{tabular}\n"
      ],
      "text/markdown": [
       "\n",
       "| <!--/--> | patient | gender | region | lab | chip.version | \n",
       "|---|---|---|---|---|---|\n",
       "| 01_a_D_f_2.CEL | patient_01  | female      | A.C. cortex | Davis       | v2          | \n",
       "| 01_a_I_f_2.CEL | patient_01  | female      | A.C. cortex | Irvine      | v2          | \n",
       "| 01_a_M_f_1.CEL | patient_01  | female      | A.C. cortex | Michigan    | v1          | \n",
       "| 01_c_D_f_1.CEL | patient_01  | female      | cerebellum  | Davis       | v1          | \n",
       "| 01_c_I_f_2.CEL | patient_01  | female      | cerebellum  | Irvine      | v2          | \n",
       "| 01_c_M_f_1.CEL | patient_01  | female      | cerebellum  | Michigan    | v1          | \n",
       "\n",
       "\n"
      ],
      "text/plain": [
       "               patient    gender region      lab      chip.version\n",
       "01_a_D_f_2.CEL patient_01 female A.C. cortex Davis    v2          \n",
       "01_a_I_f_2.CEL patient_01 female A.C. cortex Irvine   v2          \n",
       "01_a_M_f_1.CEL patient_01 female A.C. cortex Michigan v1          \n",
       "01_c_D_f_1.CEL patient_01 female cerebellum  Davis    v1          \n",
       "01_c_I_f_2.CEL patient_01 female cerebellum  Irvine   v2          \n",
       "01_c_M_f_1.CEL patient_01 female cerebellum  Michigan v1          "
      ]
     },
     "metadata": {},
     "output_type": "display_data"
    }
   ],
   "source": [
    "head(sampleinfo)"
   ]
  },
  {
   "cell_type": "code",
   "execution_count": 4,
   "metadata": {
    "slideshow": {
     "slide_type": "slide"
    }
   },
   "outputs": [
    {
     "data": {
      "text/html": [
       "<table>\n",
       "<thead><tr><th></th><th scope=col>genetype</th><th scope=col>sym</th><th scope=col>chrom</th><th scope=col>hkctl</th><th scope=col>spikectl</th><th scope=col>pctl</th></tr></thead>\n",
       "<tbody>\n",
       "\t<tr><th scope=row>1000_at</th><td>other  </td><td>MAPK3  </td><td>16     </td><td>FALSE  </td><td>FALSE  </td><td>FALSE  </td></tr>\n",
       "\t<tr><th scope=row>1001_at</th><td>other  </td><td>TIE1   </td><td>1      </td><td>FALSE  </td><td>FALSE  </td><td>FALSE  </td></tr>\n",
       "\t<tr><th scope=row>1002_f_at</th><td>other  </td><td>CYP2C19</td><td>10     </td><td>FALSE  </td><td>FALSE  </td><td>FALSE  </td></tr>\n",
       "\t<tr><th scope=row>1003_s_at</th><td>other  </td><td>CXCR5  </td><td>11     </td><td>FALSE  </td><td>FALSE  </td><td>FALSE  </td></tr>\n",
       "\t<tr><th scope=row>1004_at</th><td>other  </td><td>CXCR5  </td><td>11     </td><td>FALSE  </td><td>FALSE  </td><td>FALSE  </td></tr>\n",
       "\t<tr><th scope=row>1005_at</th><td>other  </td><td>DUSP1  </td><td>5      </td><td>FALSE  </td><td>FALSE  </td><td>FALSE  </td></tr>\n",
       "</tbody>\n",
       "</table>\n"
      ],
      "text/latex": [
       "\\begin{tabular}{r|llllll}\n",
       "  & genetype & sym & chrom & hkctl & spikectl & pctl\\\\\n",
       "\\hline\n",
       "\t1000\\_at & other   & MAPK3   & 16      & FALSE   & FALSE   & FALSE  \\\\\n",
       "\t1001\\_at & other   & TIE1    & 1       & FALSE   & FALSE   & FALSE  \\\\\n",
       "\t1002\\_f\\_at & other   & CYP2C19 & 10      & FALSE   & FALSE   & FALSE  \\\\\n",
       "\t1003\\_s\\_at & other   & CXCR5   & 11      & FALSE   & FALSE   & FALSE  \\\\\n",
       "\t1004\\_at & other   & CXCR5   & 11      & FALSE   & FALSE   & FALSE  \\\\\n",
       "\t1005\\_at & other   & DUSP1   & 5       & FALSE   & FALSE   & FALSE  \\\\\n",
       "\\end{tabular}\n"
      ],
      "text/markdown": [
       "\n",
       "| <!--/--> | genetype | sym | chrom | hkctl | spikectl | pctl | \n",
       "|---|---|---|---|---|---|\n",
       "| 1000_at | other   | MAPK3   | 16      | FALSE   | FALSE   | FALSE   | \n",
       "| 1001_at | other   | TIE1    | 1       | FALSE   | FALSE   | FALSE   | \n",
       "| 1002_f_at | other   | CYP2C19 | 10      | FALSE   | FALSE   | FALSE   | \n",
       "| 1003_s_at | other   | CXCR5   | 11      | FALSE   | FALSE   | FALSE   | \n",
       "| 1004_at | other   | CXCR5   | 11      | FALSE   | FALSE   | FALSE   | \n",
       "| 1005_at | other   | DUSP1   | 5       | FALSE   | FALSE   | FALSE   | \n",
       "\n",
       "\n"
      ],
      "text/plain": [
       "          genetype sym     chrom hkctl spikectl pctl \n",
       "1000_at   other    MAPK3   16    FALSE FALSE    FALSE\n",
       "1001_at   other    TIE1    1     FALSE FALSE    FALSE\n",
       "1002_f_at other    CYP2C19 10    FALSE FALSE    FALSE\n",
       "1003_s_at other    CXCR5   11    FALSE FALSE    FALSE\n",
       "1004_at   other    CXCR5   11    FALSE FALSE    FALSE\n",
       "1005_at   other    DUSP1   5     FALSE FALSE    FALSE"
      ]
     },
     "metadata": {},
     "output_type": "display_data"
    }
   ],
   "source": [
    "head(geneinfo)"
   ]
  },
  {
   "cell_type": "code",
   "execution_count": 5,
   "metadata": {
    "slideshow": {
     "slide_type": "slide"
    }
   },
   "outputs": [],
   "source": [
    "# Load the ruv package\n",
    "library(ruv)\n",
    "# Graphics \n",
    "library(ggplot2)\n",
    "library(gridExtra)\n",
    "gg_additions = list(aes(color=sampleinfo$region, \n",
    "                        shape=sampleinfo$lab, \n",
    "                        size=5, alpha=.7), \n",
    "                    labs(color=\"Brain Region\", \n",
    "                         shape=\"Laboratory\"),\n",
    "                    scale_size_identity(guide=\"none\"),\n",
    "                    scale_alpha(guide=\"none\"),\n",
    "                    theme(legend.text=element_text(size=12),\n",
    "                          legend.title=element_text(size=16)),\n",
    "                    guides(color = guide_legend(override.aes = list(size = 4)),\n",
    "                           shape = guide_legend(override.aes = list(size = 4))),\n",
    "                    scale_color_manual(values=c(\"darkorchid3\", \"darkorange2\", \"dodgerblue3\"))\n",
    "                   ) \n",
    "options(repr.plot.width=8, repr.plot.height=6)"
   ]
  },
  {
   "cell_type": "code",
   "execution_count": 6,
   "metadata": {
    "scrolled": false,
    "slideshow": {
     "slide_type": "slide"
    }
   },
   "outputs": [
    {
     "data": {},
     "metadata": {},
     "output_type": "display_data"
    },
    {
     "data": {
      "image/png": "[encoded data removed]",
      "text/plain": [
       "plot without title"
      ]
     },
     "metadata": {},
     "output_type": "display_data"
    }
   ],
   "source": [
    "ruv_svdplot(Y) + gg_additions # Technical note: centers columns by default"
   ]
  },
  {
   "cell_type": "markdown",
   "metadata": {
    "slideshow": {
     "slide_type": "slide"
    }
   },
   "source": [
    "# Comments on Normalization"
   ]
  },
  {
   "cell_type": "markdown",
   "metadata": {
    "slideshow": {
     "slide_type": "slide"
    }
   },
   "source": [
    "# No one \"right\" normalization"
   ]
  },
  {
   "cell_type": "markdown",
   "metadata": {
    "slideshow": {
     "slide_type": "fragment"
    }
   },
   "source": [
    "* **NOT:**  No one \"right\" normalization algorithm  \n",
    "  (Although that's true too)"
   ]
  },
  {
   "cell_type": "markdown",
   "metadata": {
    "slideshow": {
     "slide_type": "fragment"
    }
   },
   "source": [
    "* *Even for a given dataset,*  \n",
    "  No one \"right\" normalization "
   ]
  },
  {
   "cell_type": "markdown",
   "metadata": {
    "slideshow": {
     "slide_type": "fragment"
    }
   },
   "source": [
    "* Depends on:\n",
    "  * What variation is wanted, and what variation is unwanted\n",
    "  * The goal of the (downstream) analysis "
   ]
  },
  {
   "cell_type": "markdown",
   "metadata": {
    "slideshow": {
     "slide_type": "slide"
    }
   },
   "source": [
    "# Wanted and Unwanted Variation\n",
    "\n",
    "Observed data composed of variation from many sources, including:"
   ]
  },
  {
   "cell_type": "markdown",
   "metadata": {
    "slideshow": {
     "slide_type": "fragment"
    }
   },
   "source": [
    "### Unwanted Variation:\n",
    "* Lab / batch\n",
    "* Chip type\n",
    "* Reagent quality\n",
    "* RNA degradation\n",
    "* Composition of the atmosphere\n",
    "* ..."
   ]
  },
  {
   "cell_type": "markdown",
   "metadata": {
    "slideshow": {
     "slide_type": "fragment"
    }
   },
   "source": [
    "### Wanted Variation\n",
    "* Gender\n",
    "* Brain region?\n"
   ]
  },
  {
   "cell_type": "markdown",
   "metadata": {
    "slideshow": {
     "slide_type": "slide"
    }
   },
   "source": [
    "# Unwanted Biological Variation\n",
    "\n",
    "* Is brain region wanted or unwanted?"
   ]
  },
  {
   "cell_type": "markdown",
   "metadata": {
    "slideshow": {
     "slide_type": "fragment"
    }
   },
   "source": [
    "* I argue:\n",
    "  * Depends on context\n",
    "  * Normalization should reflect that"
   ]
  },
  {
   "cell_type": "markdown",
   "metadata": {
    "slideshow": {
     "slide_type": "slide"
    }
   },
   "source": [
    "# Unwanted Biological Variation\n",
    "\n",
    "* Counterargument:\n",
    "  * Normalization should remove technical artifacts, preserve all biology\n",
    "  * Account for brain region in downstream analysis\n"
   ]
  },
  {
   "cell_type": "markdown",
   "metadata": {
    "slideshow": {
     "slide_type": "fragment"
    }
   },
   "source": [
    "* Reasonable, but:\n",
    "  * Some biology nearly always unwanted (just ate, circadian rhythm, etc)\n",
    "  * Many of these factors ***unknown***"
   ]
  },
  {
   "cell_type": "markdown",
   "metadata": {
    "slideshow": {
     "slide_type": "slide"
    }
   },
   "source": [
    "# Unknown Sources of Variation\n",
    "\n",
    "* Many sources of unwanted variation are ***unknown***\n",
    "* Both technical and biological \n",
    "* Indentifying and removing this variation is especially challenging"
   ]
  },
  {
   "cell_type": "markdown",
   "metadata": {
    "slideshow": {
     "slide_type": "slide"
    }
   },
   "source": [
    "# Identifiability"
   ]
  },
  {
   "cell_type": "markdown",
   "metadata": {
    "slideshow": {
     "slide_type": "slide"
    }
   },
   "source": [
    "\n",
    "<table style=\"width:100%\">\n",
    "  <tr style=\"background-color:#FFFFFF\">\n",
    "    <td style=\"text-align:center\">$\\large \\mathrm{Observed}$</td>\n",
    "    <td style=\"text-align:center;width:5%\">          </td>\n",
    "    <td style=\"text-align:center\">$\\large \\mathrm{Wanted}$ </td>\n",
    "    <td style=\"text-align:center;width:5%\">          </td>\n",
    "    <td style=\"text-align:center\">$\\large \\mathrm{Unwanted}$</td>\n",
    "  </tr>\n",
    "  <tr style=\"background-color:#FFFFFF\">\n",
    "    <td style=\"text-align:center\"> <img src=\"Y.png\"> </td>\n",
    "    <td style=\"text-align:center;width:5%\"> $\\huge =$ </td>\n",
    "    <td style=\"text-align:center\"> <img src=\"Xbeta.png\"> </td>\n",
    "    <td style=\"text-align:center;width:5%\"> $\\huge +$ </td>\n",
    "    <td style=\"text-align:center\"> <img src=\"Walpha.png\"> </td>\n",
    "  </tr>\n",
    "</table> "
   ]
  },
  {
   "cell_type": "markdown",
   "metadata": {
    "slideshow": {
     "slide_type": "slide"
    }
   },
   "source": [
    "\n",
    "<table style=\"width:100%\">\n",
    "  <tr style=\"background-color:#FFFFFF\">\n",
    "    <td style=\"text-align:center\">$\\large \\mathrm{Observed}$</td>\n",
    "    <td style=\"text-align:center;width:5%\">          </td>\n",
    "    <td style=\"text-align:center\">$\\large \\mathrm{Wanted}$ </td>\n",
    "    <td style=\"text-align:center;width:5%\">          </td>\n",
    "    <td style=\"text-align:center\">$\\large \\mathrm{Unwanted}$</td>\n",
    "  </tr>\n",
    "  <tr style=\"background-color:#FFFFFF\">\n",
    "    <td style=\"text-align:center\"> <img src=\"Ybw.png\"> </td>\n",
    "    <td style=\"text-align:center;width:5%\"> $\\huge =$ </td>\n",
    "    <td style=\"text-align:center\"> <img src=\"Xbeta.png\"> </td>\n",
    "    <td style=\"text-align:center;width:5%\"> $\\huge +$ </td>\n",
    "    <td style=\"text-align:center\"> <img src=\"Walpha.png\"> </td>\n",
    "  </tr>\n",
    "</table> "
   ]
  },
  {
   "cell_type": "markdown",
   "metadata": {
    "slideshow": {
     "slide_type": "slide"
    }
   },
   "source": [
    "<table style=\"width:100%\">\n",
    "  <tr style=\"background-color:#FFFFFF\">\n",
    "    <td style=\"text-align:center\">$\\large \\mathrm{Observed}$</td>\n",
    "    <td style=\"text-align:center;width:5%\">          </td>\n",
    "    <td style=\"text-align:center\">$\\large \\mathrm{Wanted}$ </td>\n",
    "    <td style=\"text-align:center;width:5%\">          </td>\n",
    "    <td style=\"text-align:center\">$\\large \\mathrm{Unwanted}$</td>\n",
    "  </tr>\n",
    "  <tr style=\"background-color:#FFFFFF\">\n",
    "    <td style=\"text-align:center\"> <img src=\"Ybw.png\"> </td>\n",
    "    <td style=\"text-align:center;width:5%\"> $\\huge =$ </td>\n",
    "    <td style=\"text-align:center\"> <img src=\"Xbeta2.png\"> </td>\n",
    "    <td style=\"text-align:center;width:5%\"> $\\huge +$ </td>\n",
    "    <td style=\"text-align:center\"> <img src=\"Walpha2.png\"> </td>\n",
    "  </tr>\n",
    "</table>\n",
    "$\\large \\mathrm{Or}$\n",
    "<table style=\"width:100%\">\n",
    "  <tr style=\"background-color:#FFFFFF\">\n",
    "    <td style=\"text-align:center\"> <img src=\"Ybw.png\"> </td>\n",
    "    <td style=\"text-align:center;width:5%\"> $\\huge =$ </td>\n",
    "    <td style=\"text-align:center\"> <img src=\"Xbeta.png\"> </td>\n",
    "    <td style=\"text-align:center;width:5%\"> $\\huge +$ </td>\n",
    "    <td style=\"text-align:center\"> <img src=\"Walpha.png\"> </td>\n",
    "  </tr>\n",
    "</table> "
   ]
  },
  {
   "cell_type": "markdown",
   "metadata": {
    "slideshow": {
     "slide_type": "slide"
    }
   },
   "source": [
    "<table style=\"width:100%\">\n",
    "  <tr style=\"background-color:#FFFFFF\">\n",
    "    <td style=\"text-align:center\">$\\large \\mathrm{Observed}$</td>\n",
    "    <td style=\"text-align:center;width:5%\">          </td>\n",
    "    <td style=\"text-align:center\">$\\large \\mathrm{Wanted}$ </td>\n",
    "    <td style=\"text-align:center;width:5%\">          </td>\n",
    "    <td style=\"text-align:center\">$\\large \\mathrm{Unwanted}$</td>\n",
    "  </tr>\n",
    "  <tr style=\"background-color:#FFFFFF\">\n",
    "    <td style=\"text-align:center\"> <img src=\"Y2.png\"> </td>\n",
    "    <td style=\"text-align:center;width:5%\"> $\\huge =$ </td>\n",
    "    <td style=\"text-align:center\"> <img src=\"Xbeta2.png\"> </td>\n",
    "    <td style=\"text-align:center;width:5%\"> $\\huge +$ </td>\n",
    "    <td style=\"text-align:center\"> <img src=\"Walpha2.png\"> </td>\n",
    "  </tr>\n",
    "</table>\n",
    "$\\large \\mathrm{Or}$\n",
    "<table style=\"width:100%\">\n",
    "  <tr style=\"background-color:#FFFFFF\">\n",
    "    <td style=\"text-align:center\"> <img src=\"Y.png\"> </td>\n",
    "    <td style=\"text-align:center;width:5%\"> $\\huge =$ </td>\n",
    "    <td style=\"text-align:center\"> <img src=\"Xbeta.png\"> </td>\n",
    "    <td style=\"text-align:center;width:5%\"> $\\huge +$ </td>\n",
    "    <td style=\"text-align:center\"> <img src=\"Walpha.png\"> </td>\n",
    "  </tr>\n",
    "</table> "
   ]
  },
  {
   "cell_type": "markdown",
   "metadata": {
    "slideshow": {
     "slide_type": "slide"
    }
   },
   "source": [
    "<table style=\"width:100%\">\n",
    "  <tr style=\"background-color:#FFFFFF\">\n",
    "    <td style=\"text-align:center\">$\\large \\mathrm{Observed}$</td>\n",
    "    <td style=\"text-align:center;width:5%\">          </td>\n",
    "    <td style=\"text-align:center\">$\\large \\mathrm{Wanted}$ </td>\n",
    "    <td style=\"text-align:center;width:5%\">          </td>\n",
    "    <td style=\"text-align:center\">$\\large \\mathrm{Unwanted}$</td>\n",
    "  </tr>\n",
    "  <tr style=\"background-color:#FFFFFF\">\n",
    "    <td style=\"text-align:center\"> <img src=\"Ybw.png\"> </td>\n",
    "    <td style=\"text-align:center;width:5%\"> $\\huge =$ </td>\n",
    "    <td style=\"text-align:center\"> <img src=\"Xbeta2.png\"> </td>\n",
    "    <td style=\"text-align:center;width:5%\"> $\\huge +$ </td>\n",
    "    <td style=\"text-align:center\"> <img src=\"Walpha2.png\"> </td>\n",
    "  </tr>\n",
    "</table>\n",
    "$\\large \\mathrm{Or}$\n",
    "<table style=\"width:100%\">\n",
    "  <tr style=\"background-color:#FFFFFF\">\n",
    "    <td style=\"text-align:center\"> <img src=\"Ybw.png\"> </td>\n",
    "    <td style=\"text-align:center;width:5%\"> $\\huge =$ </td>\n",
    "    <td style=\"text-align:center\"> <img src=\"Xbeta.png\"> </td>\n",
    "    <td style=\"text-align:center;width:5%\"> $\\huge +$ </td>\n",
    "    <td style=\"text-align:center\"> <img src=\"Walpha.png\"> </td>\n",
    "  </tr>\n",
    "</table> "
   ]
  },
  {
   "cell_type": "code",
   "execution_count": 7,
   "metadata": {
    "slideshow": {
     "slide_type": "fragment"
    }
   },
   "outputs": [
    {
     "ename": "ERROR",
     "evalue": "Error in parse(text = x, srcfile = src): <text>:1:1: unexpected '<'\n1: <\n    ^\n",
     "output_type": "error",
     "traceback": [
      "Error in parse(text = x, srcfile = src): <text>:1:1: unexpected '<'\n1: <\n    ^\nTraceback:\n"
     ]
    }
   ],
   "source": [
    "<table style=\"width:100%\">\n",
    "  <tr style=\"background-color:#FFFFFF\">\n",
    "    <td style=\"text-align:center\">$\\huge X$</td>\n",
    "    <td style=\"text-align:center\">$\\huge X$ </td>\n",
    "    <td style=\"text-align:center;width:5%\">          </td>\n",
    "    <td style=\"text-align:center\">$\\huge X$</td>\n",
    "  </tr>\n",
    "  <tr style=\"background-color:#FFFFFF\">\n",
    "    <td style=\"text-align:center\"> <img src=\"test2.png\"> </td>\n",
    "    <td style=\"text-align:center\"> <img src=\"test2.png\"> </td>\n",
    "    <td style=\"text-align:center;width:5%\"> $\\huge =$ </td>\n",
    "    <td style=\"text-align:center\"> <img src=\"test2.png\"> </td>\n",
    "  </tr>\n",
    "</table> "
   ]
  },
  {
   "cell_type": "markdown",
   "metadata": {
    "slideshow": {
     "slide_type": "slide"
    }
   },
   "source": [
    "# Helping or Hurting?\n",
    "\n",
    "* overadjustment is a concern"
   ]
  },
  {
   "cell_type": "markdown",
   "metadata": {
    "slideshow": {
     "slide_type": "slide"
    }
   },
   "source": [
    "# The Challenges\n",
    "\n",
    "* Defining\n",
    "* Identifying\n",
    "* Separating \n",
    "* Validating"
   ]
  },
  {
   "cell_type": "markdown",
   "metadata": {
    "slideshow": {
     "slide_type": "slide"
    }
   },
   "source": [
    "# The RUV Framework"
   ]
  },
  {
   "cell_type": "markdown",
   "metadata": {
    "slideshow": {
     "slide_type": "fragment"
    }
   },
   "source": [
    "*  requires external information, or assumptions"
   ]
  },
  {
   "cell_type": "markdown",
   "metadata": {
    "slideshow": {
     "slide_type": "slide"
    }
   },
   "source": [
    "make assumptions transparent\n",
    "...\n",
    "identify, remove and *define* UV"
   ]
  },
  {
   "cell_type": "markdown",
   "metadata": {
    "slideshow": {
     "slide_type": "slide"
    }
   },
   "source": [
    "# The RUV Package "
   ]
  },
  {
   "cell_type": "markdown",
   "metadata": {
    "slideshow": {
     "slide_type": "fragment"
    }
   },
   "source": [
    "\"<span style=\"font-family:monospace\">ruv</span>\" on CRAN"
   ]
  },
  {
   "cell_type": "markdown",
   "metadata": {
    "slideshow": {
     "slide_type": "slide"
    }
   },
   "source": [
    "# Mini-Outline\n",
    "\n",
    "1. Overview of Functions\n",
    "2. Regression Methods  \n",
    "  a. Description of Arguments  \n",
    "  b. Comparison of Methods  \n",
    "  c. Example Analysis  \n",
    "3. Global Adjustments  \n",
    "  a. RUVI  \n",
    "  b. RUVIII  \n",
    "  c. Example analyses  \n",
    "\n",
    "\n",
    "  \n",
    "And then on to the case studies..."
   ]
  },
  {
   "cell_type": "markdown",
   "metadata": {
    "slideshow": {
     "slide_type": "slide"
    }
   },
   "source": [
    "# Overview of Functions"
   ]
  },
  {
   "cell_type": "markdown",
   "metadata": {
    "slideshow": {
     "slide_type": "slide"
    }
   },
   "source": [
    "# RUV Methods\n",
    "\n",
    "<table style=\"width:60%\">\n",
    "  <tr style=\"background-color:#FFFFFF\">\n",
    "    <th style=\"text-align:left;font-size:24px;border:0 none\">Global Adjustments</td>\n",
    "    <th style=\"text-align:left;font-size:24px;border:0 none\">Regression Methods</td>\n",
    "  </tr>    \n",
    "  <tr style=\"background-color:#FFFFFF\">\n",
    "    <td style=\"text-align:left;font-size:24px;font-family:monospace;border:0 none\">RUVI</td>\n",
    "    <td style=\"text-align:left;font-size:24px;font-family:monospace;border:0 none\">RUV2</td>\n",
    "  </tr>\n",
    "  <tr style=\"background-color:#FFFFFF\">\n",
    "    <td style=\"text-align:left;font-size:24px;font-family:monospace;border:0 none\">RUVIII</td>\n",
    "    <td style=\"text-align:left;font-size:24px;font-family:monospace;border:0 none\">RUV4</td>\n",
    "  </tr>\n",
    "  <tr style=\"background-color:#FFFFFF\">\n",
    "    <td style=\"text-align:left;font-size:24px;font-family:monospace;border:0 none\">  </td>\n",
    "    <td style=\"text-align:left;font-size:24px;font-family:monospace;border:0 none\">RUVinv</td>\n",
    "  </tr>\n",
    "  <tr style=\"background-color:#FFFFFF\">\n",
    "    <td style=\"text-align:left;font-size:24px;font-family:monospace;border:0 none\">  </td>\n",
    "    <td style=\"text-align:left;font-size:24px;font-family:monospace;border:0 none\">RUVrinv</td>\n",
    "  </tr>\n",
    "</table> \n"
   ]
  },
  {
   "cell_type": "markdown",
   "metadata": {
    "slideshow": {
     "slide_type": "slide"
    }
   },
   "source": [
    "# Helper Functions\n",
    "\n",
    "<table style=\"width:95%\">\n",
    "  <tr style=\"background-color:#FFFFFF\">\n",
    "    <th style=\"text-align:left;font-size:24px;border:0 none\">For RUVIII</td>\n",
    "    <th style=\"text-align:left;font-size:24px;border:0 none\">For Regression Methods</td>\n",
    "    <th style=\"text-align:left;font-size:24px;border:0 none\">Other</td>\n",
    "  </tr>    \n",
    "  <tr style=\"background-color:#FFFFFF\">\n",
    "    <td style=\"text-align:left;font-size:24px;background-color:#FFFFE0;font-family:monospace;border:0 none\">replicate.matrix</td>\n",
    "    <td style=\"text-align:left;font-size:24px;background-color:#FFFFE0;font-family:monospace;border:0 none\">ruv_summary</td>\n",
    "    <td style=\"text-align:left;font-size:24px;font-family:monospace;border:0 none\">design.matrix</td>\n",
    "  </tr>\n",
    "  <tr style=\"background-color:#FFFFFF\">\n",
    "    <td style=\"text-align:left;font-size:24px;background-color:#FFFFE0;font-family:monospace;border:0 none\">collapse.replicates</td>\n",
    "    <td style=\"text-align:left;font-size:24px;font-family:monospace;border:0 none\">ruv_residuals</td>\n",
    "    <td style=\"text-align:left;font-size:24px;font-family:monospace;border:0 none\">residop</td>\n",
    "  </tr>\n",
    "  <tr style=\"background-color:#FFFFFF\">\n",
    "    <td style=\"text-align:left;font-size:24px;font-family:monospace;border:0 none\">  </td>\n",
    "    <td style=\"text-align:left;font-size:24px;font-family:monospace;border:0 none\">variance_adjust</td>\n",
    "    <td style=\"text-align:left;font-size:24px;font-family:monospace;border:0 none\">  </td>\n",
    "  </tr>\n",
    "</table> "
   ]
  },
  {
   "cell_type": "markdown",
   "metadata": {
    "slideshow": {
     "slide_type": "slide"
    }
   },
   "source": [
    "# Plot Functions\n",
    "\n",
    "<table style=\"width:80%\">\n",
    "  <tr style=\"background-color:#FFFFFF\">\n",
    "    <th style=\"text-align:left;font-size:24px;border:0 none\">General</td>\n",
    "    <th style=\"text-align:left;font-size:24px;border:0 none\">For Regression Methods</td>\n",
    "  </tr>    \n",
    "  <tr style=\"background-color:#FFFFFF\">\n",
    "    <td style=\"text-align:left;font-size:24px;font-family:monospace;border:0 none\">ruv_cancorplot</td>\n",
    "    <td style=\"text-align:left;font-size:24px;font-family:monospace;border:0 none\">ruv_hist</td>\n",
    "  </tr>\n",
    "  <tr style=\"background-color:#FFFFFF\">\n",
    "    <td style=\"text-align:left;font-size:24px;font-family:monospace;border:0 none\">ruv_rle</td>\n",
    "    <td style=\"text-align:left;font-size:24px;font-family:monospace;border:0 none\">ruv_ecdf</td>\n",
    "  </tr>\n",
    "  <tr style=\"background-color:#FFFFFF\">\n",
    "    <td style=\"text-align:left;font-size:24px;font-family:monospace;border:0 none\">ruv_svdplot</td>\n",
    "    <td style=\"text-align:left;font-size:24px;font-family:monospace;border:0 none\">ruv_rankplot</td>\n",
    "  </tr>\n",
    "  <tr style=\"background-color:#FFFFFF\">\n",
    "    <td style=\"text-align:left;font-size:24px;font-family:monospace;border:0 none\">ruv_svdgridplot</td>\n",
    "    <td style=\"text-align:left;font-size:24px;font-family:monospace;border:0 none\">ruv_projectionplot</td>\n",
    "  </tr>\n",
    "  <tr style=\"background-color:#FFFFFF\">\n",
    "    <td style=\"text-align:left;font-size:24px;font-family:monospace;border:0 none\">ruv_scree</td>\n",
    "    <td style=\"text-align:left;font-size:24px;font-family:monospace;border:0 none\">ruv_volcano</td>\n",
    "  </tr>\n",
    "  <tr style=\"background-color:#FFFFFF\">\n",
    "    <td style=\"text-align:left;font-size:24px;font-family:monospace;border:0 none\">  </td>\n",
    "    <td style=\"text-align:left;font-size:24px;font-family:monospace;border:0 none\">ruv_varianceplot</td>\n",
    "  </tr>\n",
    "</table> "
   ]
  },
  {
   "cell_type": "markdown",
   "metadata": {
    "slideshow": {
     "slide_type": "slide"
    }
   },
   "source": [
    "# Typically Not Used\n",
    "\n",
    "<table style=\"width:80%\"> \n",
    "  <tr style=\"background-color:#FFFFFF\">\n",
    "    <td style=\"text-align:left;font-size:24px;color:red;font-family:monospace;border:0 none\">getK</td>\n",
    "    <td style=\"text-align:left;font-size:24px;border:0 none\">(Possibly useful for RUV4)</td>\n",
    "  </tr>\n",
    "  <tr style=\"background-color:#FFFFFF\">\n",
    "    <td style=\"text-align:left;font-size:24px;font-family:monospace;border:0 none\">get_empirical_variances</td>\n",
    "    <td style=\"text-align:left;font-size:24px;border:0 none\"> </td>\n",
    "  </tr>\n",
    "  <tr style=\"background-color:#FFFFFF\">\n",
    "    <td style=\"text-align:left;font-size:24px;font-family:monospace;border:0 none\">google_search</td>\n",
    "    <td style=\"text-align:left;font-size:24px;border:0 none\"> </td>\n",
    "  </tr>\n",
    "  <tr style=\"background-color:#FFFFFF\">\n",
    "    <td style=\"text-align:left;font-size:24px;font-family:monospace;border:0 none\">inputcheck1</td>\n",
    "    <td style=\"text-align:left;font-size:24px;border:0 none\"> </td>\n",
    "  </tr>\n",
    "  <tr style=\"background-color:#FFFFFF\">\n",
    "    <td style=\"text-align:left;font-size:24px;font-family:monospace;border:0 none\">invvar</td>\n",
    "    <td style=\"text-align:left;font-size:24px;border:0 none\"> </td>\n",
    "  </tr>\n",
    "  <tr style=\"background-color:#FFFFFF\">\n",
    "    <td style=\"text-align:left;font-size:24px;font-family:monospace;border:0 none\">projectionplotvariables</td>\n",
    "    <td style=\"text-align:left;font-size:24px;border:0 none\"> </td>\n",
    "  </tr>\n",
    "  <tr style=\"background-color:#FFFFFF\">\n",
    "    <td style=\"text-align:left;font-size:24px;font-family:monospace;border:0 none\">randinvvar</td>\n",
    "    <td style=\"text-align:left;font-size:24px;border:0 none\"> </td>\n",
    "  </tr>\n",
    "  <tr style=\"background-color:#FFFFFF\">\n",
    "    <td style=\"text-align:left;font-size:24px;font-family:monospace;border:0 none\">sigmashrink</td>\n",
    "    <td style=\"text-align:left;font-size:24px;border:0 none\"> </td>\n",
    "  </tr>\n",
    "</table> \n"
   ]
  },
  {
   "cell_type": "markdown",
   "metadata": {
    "slideshow": {
     "slide_type": "slide"
    }
   },
   "source": [
    "# Shiny App\n",
    "\n",
    "<p style=\"text-align:center;font-size:24px;font-family:monospace\">ruv_shiny</p>\n"
   ]
  },
  {
   "cell_type": "markdown",
   "metadata": {
    "slideshow": {
     "slide_type": "slide"
    }
   },
   "source": [
    "# Regression Methods"
   ]
  },
  {
   "cell_type": "markdown",
   "metadata": {
    "slideshow": {
     "slide_type": "slide"
    }
   },
   "source": [
    "# Regression Methods\n",
    "\n",
    "Common syntax:\n",
    "\n",
    "```R\n",
    "RUV2    (Y, X, ctl, k, Z = 1, eta = NULL             ) \n",
    "RUV4    (Y, X, ctl, k, Z = 1, eta = NULL             ) \n",
    "RUVinv  (Y, X, ctl,    Z = 1, eta = NULL             ) \n",
    "RUVrinv (Y, X, ctl,    Z = 1, eta = NULL, lambda=NULL) \n",
    "```"
   ]
  },
  {
   "cell_type": "markdown",
   "metadata": {
    "slideshow": {
     "slide_type": "slide"
    }
   },
   "source": [
    "# Regression Methods\n",
    "\n",
    "Function Arguments:\n",
    "\n",
    "<span style=\"font-size:24px\">\n",
    "\n",
    "| Argument | Meaning                 | Example    | Data Type                             | Notes                       |\n",
    "| ----     | ----------------------- | ---------  | ------------------------------------  | --------------------------- |\n",
    "| Y        | Expression data         |            | Matrix                                | row = sample, column = gene |\n",
    "| X        | Factor of interest      | gender     | matrix, factor, vector, or data frame |                             |\n",
    "| ctl      | Neg. Controls           | spike-ins  | index (logical or integer vector)     |                             |\n",
    "| Z        | array-wise covariates   | batch      | matrix, factor, vector, or data frame | 1 for intercept             |\n",
    "| eta      | gene-wise covariates    | GC content | matrix, factor, vector, or data frame | 1 for intercept             |\n",
    "| k        | # of unwanted factors   |            | integer                               | 0 for no adjustment         |\n",
    "| lambda   | ridge parameter         |            | numeric                               | NULL for sensible default   |\n",
    "\n",
    "</span>"
   ]
  },
  {
   "cell_type": "markdown",
   "metadata": {
    "slideshow": {
     "slide_type": "slide"
    }
   },
   "source": [
    "# Y"
   ]
  },
  {
   "cell_type": "markdown",
   "metadata": {
    "slideshow": {
     "slide_type": "fragment"
    }
   },
   "source": [
    "* Expression Data"
   ]
  },
  {
   "cell_type": "markdown",
   "metadata": {
    "slideshow": {
     "slide_type": "fragment"
    }
   },
   "source": [
    "* $m \\times n$ matrix, where  \n",
    "  * $m$ is the number arrays  \n",
    "  * $n$ is the number of genes"
   ]
  },
  {
   "cell_type": "markdown",
   "metadata": {
    "slideshow": {
     "slide_type": "fragment"
    }
   },
   "source": [
    "* Should be log transformed"
   ]
  },
  {
   "cell_type": "markdown",
   "metadata": {
    "slideshow": {
     "slide_type": "fragment"
    }
   },
   "source": [
    "* Often best **not** to preprocess (quantile normalize, etc.)"
   ]
  },
  {
   "cell_type": "markdown",
   "metadata": {
    "slideshow": {
     "slide_type": "slide"
    }
   },
   "source": [
    "# X"
   ]
  },
  {
   "cell_type": "markdown",
   "metadata": {
    "slideshow": {
     "slide_type": "fragment"
    }
   },
   "source": [
    "* Factor of interest (gender, brain region, etc.)"
   ]
  },
  {
   "cell_type": "markdown",
   "metadata": {
    "slideshow": {
     "slide_type": "fragment"
    }
   },
   "source": [
    "* Should **not** include the intercept"
   ]
  },
  {
   "cell_type": "markdown",
   "metadata": {
    "slideshow": {
     "slide_type": "fragment"
    }
   },
   "source": [
    "* Rule of thumb: \"The fewer factors, the better\"\n",
    "  * More factors in $X$ $\\implies$ fewer factors estimated in $\\hat{W}$\n",
    "  * Better to repeat analysis for each factor of interest separately"
   ]
  },
  {
   "cell_type": "markdown",
   "metadata": {
    "slideshow": {
     "slide_type": "slide"
    }
   },
   "source": [
    "# Z"
   ]
  },
  {
   "cell_type": "markdown",
   "metadata": {
    "slideshow": {
     "slide_type": "fragment"
    }
   },
   "source": [
    "* Additional covariates (batch, etc.)"
   ]
  },
  {
   "cell_type": "markdown",
   "metadata": {
    "slideshow": {
     "slide_type": "fragment"
    }
   },
   "source": [
    "* Should include the intercept (if desired)"
   ]
  },
  {
   "cell_type": "markdown",
   "metadata": {
    "slideshow": {
     "slide_type": "fragment"
    }
   },
   "source": [
    "* Rule of thumb: \"The fewer factors, the better\"\n",
    "  * More factors in $Z$ $\\implies$ fewer factors estimated in $\\hat{W}$\n",
    "  * $\\hat{W}$ often captures unwanted variation better than $Z$  \n",
    "  * Exception: $Z$ is a factor that affects only a small number of genes, and likely the same genes as $X$.  \n",
    "    Example: $X$ is a disease that affects a small number of genes; $Z$ is a drug that affects those same genes"
   ]
  },
  {
   "cell_type": "markdown",
   "metadata": {
    "slideshow": {
     "slide_type": "slide"
    }
   },
   "source": [
    "# eta ($\\eta$)"
   ]
  },
  {
   "cell_type": "markdown",
   "metadata": {
    "slideshow": {
     "slide_type": "fragment"
    }
   },
   "source": [
    "* Gene-wise covariates ***associated with unwanted factors*** (GC content, etc.)"
   ]
  },
  {
   "cell_type": "markdown",
   "metadata": {
    "slideshow": {
     "slide_type": "fragment"
    }
   },
   "source": [
    "* Included for convenience; equivalent to preprocessing by\n",
    "```R\n",
    "Y = RUVI(Y, eta, ctl)\n",
    "```"
   ]
  },
  {
   "cell_type": "markdown",
   "metadata": {
    "slideshow": {
     "slide_type": "fragment"
    }
   },
   "source": [
    "* eta = 1 (for intercept) typically recommended, but **not** default"
   ]
  },
  {
   "cell_type": "markdown",
   "metadata": {
    "slideshow": {
     "slide_type": "slide"
    }
   },
   "source": [
    "# ctl"
   ]
  },
  {
   "cell_type": "markdown",
   "metadata": {
    "slideshow": {
     "slide_type": "fragment"
    }
   },
   "source": [
    "* Crucial to success"
   ]
  },
  {
   "cell_type": "markdown",
   "metadata": {
    "slideshow": {
     "slide_type": "fragment"
    }
   },
   "source": [
    "* Ideally:\n",
    "  * Unaffected by factor of interest\n",
    "  * Affected by unwanted factors\n",
    "  * \"representative\" of other genes  \n",
    "    (similar range of expressions, not affected by their own unwanted factors, etc.)"
   ]
  },
  {
   "cell_type": "markdown",
   "metadata": {
    "slideshow": {
     "slide_type": "fragment"
    }
   },
   "source": [
    "* **Cannot be automatically \"discovered\" from the data**  \n",
    "  (at least not naively)"
   ]
  },
  {
   "cell_type": "markdown",
   "metadata": {
    "slideshow": {
     "slide_type": "fragment"
    }
   },
   "source": [
    "* **Need not be perfect**  \n",
    "  RUV methods are robust (to varying degrees, and in different ways)"
   ]
  },
  {
   "cell_type": "markdown",
   "metadata": {
    "slideshow": {
     "slide_type": "slide"
    }
   },
   "source": [
    "# k"
   ]
  },
  {
   "cell_type": "markdown",
   "metadata": {
    "slideshow": {
     "slide_type": "fragment"
    }
   },
   "source": [
    "* Number of unwanted factors.  For RUV2 and RUV4 only."
   ]
  },
  {
   "cell_type": "markdown",
   "metadata": {
    "slideshow": {
     "slide_type": "fragment"
    }
   },
   "source": [
    "* Useful when negative controls may contain biology.  \n",
    "  Keeping $k$ small reduces risk of overadjusting."
   ]
  },
  {
   "cell_type": "markdown",
   "metadata": {
    "slideshow": {
     "slide_type": "fragment"
    }
   },
   "source": [
    "* Best chosen \"by hand\".  \n",
    "  (\"getK\" function not ideal)"
   ]
  },
  {
   "cell_type": "markdown",
   "metadata": {
    "slideshow": {
     "slide_type": "slide"
    }
   },
   "source": [
    "# Comparison of Regression Methods\n",
    "\n",
    "<table style=\"width:100%\">\n",
    "  <tr>\n",
    "    <th style=\"text-align:left;font-size:18px;width:15%;border:0 none\">Method</td>\n",
    "    <th style=\"text-align:left;font-size:18px;border:0 none\">Strengths</td>\n",
    "    <th style=\"text-align:left;font-size:18px;border:0 none\">Weaknesses</td>\n",
    "    <th style=\"text-align:left;font-size:18px;border:0 none\">Notes</td>\n",
    "  </tr>    \n",
    "  <tr>\n",
    "    <td style=\"text-align:left;vertical-align:top;font-size:14px;width:15%;border:0 none\">RUV2</td>\n",
    "    <td style=\"text-align:left;vertical-align:top;font-size:14px;border:0 none\"> <ul> \n",
    "                                                              <li>Simple and Interpretable </li>\n",
    "                                                              <li>Not too sensitive to \"nonrepresentative\" NCs</li>\n",
    "                                                              </ul></td>\n",
    "    <td style=\"text-align:left;vertical-align:top;font-size:14px;border:0 none\"> <ul> \n",
    "                                                              <li>Sensitive to misspecified NCs </li>\n",
    "                                                              </ul></td>\n",
    "    <td style=\"text-align:left;vertical-align:top;font-size:14px;border:0 none\"> <ul> \n",
    "                                                              <li>Good for spike-in controls </li>\n",
    "                                                              <li>Keep k small if NCs may be misspecified</li>\n",
    "                                                              </ul></td>\n",
    "  </tr>\n",
    "  <tr>\n",
    "    <td style=\"text-align:left;vertical-align:top;font-size:14px;width:15%;border:0 none\">RUV4</td>\n",
    "    <td style=\"text-align:left;vertical-align:top;font-size:14px;border:0 none\"> <ul> \n",
    "                                                              <li>Robust to misspecified NCs</li>\n",
    "                                                              </ul></td>\n",
    "    <td style=\"text-align:left;vertical-align:top;font-size:14px;border:0 none\"> <ul> \n",
    "                                                              <li>Sensitive to \"nonrepresentative\" NCs </li>\n",
    "                                                              <li>Anti-conservaitve for large k </li>\n",
    "                                                              </ul></td>\n",
    "    <td style=\"text-align:left;vertical-align:top;font-size:14px;border:0 none\"> <ul> \n",
    "                                                              <li>RUV(r)inv usually a better option </li>\n",
    "                                                              <li>Good when NCs highly misspecified; keep k small</li>\n",
    "                                                              </ul></td>\n",
    "  </tr>\n",
    "  <tr>\n",
    "    <td style=\"text-align:left;vertical-align:top;font-size:14px;width:15%;border:0 none\">RUVinv</td>\n",
    "    <td style=\"text-align:left;vertical-align:top;font-size:14px;border:0 none\"> <ul> \n",
    "                                                              <li>Robust to misspecified NCs</li>\n",
    "                                                              <li>No tuning parameter </li>\n",
    "                                                              <li>Well calibrated p-values</li>\n",
    "                                                              </ul></td>\n",
    "    <td style=\"text-align:left;vertical-align:top;font-size:14px;border:0 none\"> <ul> \n",
    "                                                              <li>Requires large number of NCs </li>\n",
    "                                                              <li>Somewhat sensitive to \"nonrepresentative\" NCs </li>\n",
    "                                                              </ul></td>\n",
    "    <td style=\"text-align:left;vertical-align:top;font-size:14px;border:0 none\"> </td>\n",
    "  </tr>\n",
    "  <tr>\n",
    "    <td style=\"text-align:left;vertical-align:top;font-size:14px;width:15%;border:0 none\">RUVrinv</td>\n",
    "    <td style=\"text-align:left;vertical-align:top;font-size:14px;border:0 none\"> <ul> \n",
    "                                                              <li>Robust to misspecified NCs</li>\n",
    "                                                              <li>Reasonable default for lambda </li>\n",
    "                                                              </ul></td>\n",
    "    <td style=\"text-align:left;vertical-align:top;font-size:14px;border:0 none\"> <ul> \n",
    "                                                              <li>Somewhat sensitive to \"nonrepresentative\" NCs </li>\n",
    "                                                              </ul></td>\n",
    "    <td style=\"text-align:left;vertical-align:top;font-size:14px;border:0 none\"> <ul> \n",
    "                                                              <li>Good compromise of features </li>\n",
    "                                                              </ul></td>\n",
    "  </tr>\n",
    "</table> \n",
    "\n"
   ]
  },
  {
   "cell_type": "markdown",
   "metadata": {
    "slideshow": {
     "slide_type": "slide"
    }
   },
   "source": [
    "# Technical Note\n",
    "\n",
    "* RUV2 requires \n",
    "  $$\\beta_c = 0$$\n",
    "* RUV4, RUVinv, and RUVrinv require\n",
    "  $$ \\beta_c \\alpha_c' (\\alpha_c \\alpha_c')^{-1} \\approx 0$$\n",
    "\n"
   ]
  },
  {
   "cell_type": "markdown",
   "metadata": {
    "slideshow": {
     "slide_type": "slide"
    }
   },
   "source": [
    "# Example Analysis"
   ]
  },
  {
   "cell_type": "code",
   "execution_count": null,
   "metadata": {
    "scrolled": true
   },
   "outputs": [],
   "source": [
    "fit = RUVrinv(Y, sampleinfo$gender, geneinfo$spikectl)\n",
    "fit.summary = ruv_summary(Y, fit, sampleinfo, geneinfo)\n",
    "head(fit.summary$C)"
   ]
  },
  {
   "cell_type": "code",
   "execution_count": null,
   "metadata": {
    "slideshow": {
     "slide_type": "slide"
    }
   },
   "outputs": [],
   "source": [
    "ruv_hist(fit.summary)"
   ]
  },
  {
   "cell_type": "code",
   "execution_count": null,
   "metadata": {
    "slideshow": {
     "slide_type": "slide"
    }
   },
   "outputs": [],
   "source": [
    "ruv_ecdf(fit.summary)"
   ]
  },
  {
   "cell_type": "code",
   "execution_count": null,
   "metadata": {
    "slideshow": {
     "slide_type": "slide"
    }
   },
   "outputs": [],
   "source": [
    "ruv_ecdf(fit.summary, power=1/4)"
   ]
  },
  {
   "cell_type": "code",
   "execution_count": null,
   "metadata": {
    "slideshow": {
     "slide_type": "slide"
    }
   },
   "outputs": [],
   "source": [
    "genecoloring = list(\n",
    "aes(color=genetype),\n",
    "scale_color_manual(name=\"Gene Category\", \n",
    "                   values=alpha(c(\"green\", \"gray\", \"yellow\", \"palevioletred1\", \"purple\", \"deepskyblue\"), \n",
    "                                c(     .2,    .15,        1,                1,        1,             1)))\n",
    ")"
   ]
  },
  {
   "cell_type": "code",
   "execution_count": null,
   "metadata": {
    "slideshow": {
     "slide_type": "slide"
    }
   },
   "outputs": [],
   "source": [
    "ruv_ecdf(fit.summary) + genecoloring"
   ]
  },
  {
   "cell_type": "code",
   "execution_count": null,
   "metadata": {
    "slideshow": {
     "slide_type": "slide"
    }
   },
   "outputs": [],
   "source": [
    "ruv_rankplot(fit.summary, \"pctl\")  # \"pctl\" is a column in \"geneinfo\".  Genes from X/Y chrom."
   ]
  },
  {
   "cell_type": "code",
   "execution_count": null,
   "metadata": {
    "scrolled": false,
    "slideshow": {
     "slide_type": "slide"
    }
   },
   "outputs": [],
   "source": [
    "ruv_rankplot(fit.summary, \"pctl\") + coord_cartesian(xlim=c(0,50), ylim=c(0,25))"
   ]
  },
  {
   "cell_type": "code",
   "execution_count": null,
   "metadata": {
    "slideshow": {
     "slide_type": "slide"
    }
   },
   "outputs": [],
   "source": [
    "ruv_projectionplot(fit.summary) + genecoloring"
   ]
  },
  {
   "cell_type": "code",
   "execution_count": null,
   "metadata": {
    "slideshow": {
     "slide_type": "slide"
    }
   },
   "outputs": [],
   "source": [
    "ruv_volcano(fit.summary) + genecoloring"
   ]
  },
  {
   "cell_type": "code",
   "execution_count": null,
   "metadata": {
    "slideshow": {
     "slide_type": "slide"
    }
   },
   "outputs": [],
   "source": [
    "ruv_varianceplot(fit.summary) + genecoloring"
   ]
  },
  {
   "cell_type": "code",
   "execution_count": null,
   "metadata": {
    "slideshow": {
     "slide_type": "slide"
    }
   },
   "outputs": [],
   "source": [
    "fit.summary.evar = ruv_summary(Y, fit, sampleinfo, geneinfo, p.type=\"evar\")\n",
    "ruv_varianceplot(fit.summary.evar) + genecoloring"
   ]
  },
  {
   "cell_type": "markdown",
   "metadata": {
    "slideshow": {
     "slide_type": "slide"
    }
   },
   "source": [
    "# Did we help?"
   ]
  },
  {
   "cell_type": "code",
   "execution_count": null,
   "metadata": {
    "scrolled": false
   },
   "outputs": [],
   "source": [
    "# RUV4 with k = 0 for no adjustment\n",
    "# Equivalent to a Limma Analysis\n",
    "fit.unadj = RUV4(Y, sampleinfo$gender, geneinfo$spikectl, 0)       \n",
    "fit.summary.unadj = ruv_summary(Y, fit.unadj, sampleinfo, geneinfo)  \n",
    "# Make a list of plots to compare side-by-side\n",
    "plots = list(\n",
    "  ruv_hist(fit.summary.unadj),\n",
    "  ruv_hist(fit.summary),\n",
    "  ruv_rankplot(fit.summary.unadj, \"pctl\") + \n",
    "    coord_cartesian(xlim=c(0,50), ylim=c(0,25)),\n",
    "  ruv_rankplot(fit.summary, \"pctl\") + \n",
    "    coord_cartesian(xlim=c(0,50), ylim=c(0,25))\n",
    ")"
   ]
  },
  {
   "cell_type": "code",
   "execution_count": null,
   "metadata": {
    "scrolled": false,
    "slideshow": {
     "slide_type": "slide"
    }
   },
   "outputs": [],
   "source": [
    "grid.arrange(grobs=plots)"
   ]
  },
  {
   "cell_type": "markdown",
   "metadata": {
    "slideshow": {
     "slide_type": "slide"
    }
   },
   "source": [
    "# Global Adjustments"
   ]
  },
  {
   "cell_type": "markdown",
   "metadata": {
    "slideshow": {
     "slide_type": "slide"
    }
   },
   "source": [
    "# Global Adjustments\n",
    "\n",
    "Not similar:\n",
    "\n",
    "```R\n",
    "RUVI   (Y, eta, ctl) \n",
    "RUVIII (Y, M, ctl, k = NULL, eta = NULL, average = FALSE)  \n",
    "```"
   ]
  },
  {
   "cell_type": "markdown",
   "metadata": {
    "slideshow": {
     "slide_type": "slide"
    }
   },
   "source": [
    "# <span style=\"font-family:monospace\">RUVI</span>\n",
    "\n",
    "```R\n",
    "RUVI(Y, eta, ctl) \n",
    "```\n",
    "* Requires gene-wise covariates associated with unwanted factors   \n",
    "  (GC content, etc.)\n",
    "* Note: Integrated into RUV2/4/inv/rinv for convenience\n",
    "* ```eta = 1``` corresponds to centering by the mean of the negative controls\n"
   ]
  },
  {
   "cell_type": "markdown",
   "metadata": {
    "slideshow": {
     "slide_type": "slide"
    }
   },
   "source": [
    "# <span style=\"font-family:monospace\">RUVIII</span>\n",
    "\n",
    "```R\n",
    "RUVIII(Y, M, ctl, k = NULL, eta = NULL, average = FALSE) \n",
    "```\n",
    "* Requires **replicates**\n",
    "* M is the *replicate mapping matrix* \n",
    "* \"<span style=\"font-family:monospace\">average</span>\": Average the replicates (after the adjustment)\n"
   ]
  },
  {
   "cell_type": "markdown",
   "metadata": {
    "slideshow": {
     "slide_type": "slide"
    }
   },
   "source": [
    "# The Mapping Matrix\n",
    "\n",
    "* Maps observations (rows of Y) to replicate sets\n",
    "* $M_{ij} = 1$ if observation $i$ is in replicate set $j$  \n",
    "  $M_{ij} = 0$ otherwise\n",
    "* A replicate set may contain only one observation (a \"singleton\").  \n",
    "  But at least one replicate set must contain multiple observations.\n",
    "* ***Any variation within a replicate set is assumed to be unwanted.***\n"
   ]
  },
  {
   "cell_type": "markdown",
   "metadata": {
    "slideshow": {
     "slide_type": "slide"
    }
   },
   "source": [
    "# <span style=\"font-family:monospace\">replicate.matrix</span>\n",
    "\n",
    "Generates a mapping matrx.  \n",
    "\n",
    "\n",
    "```R\n",
    "replicate.matrix(a, burst = NULL, return.factor = FALSE)\n",
    "```\n",
    "Arguments:\n",
    "* \"<span style=\"font-family:monospace\">a</span>\":  An object that describes the replicate structure.\n",
    "  * Converted to a dataframe\n",
    "  * Observations with identical rows are taken to be replicates\n",
    "* \"<span style=\"font-family:monospace\">burst</span>\":  Replicate sets to be \"burst\" into singletons.\n",
    "* \"<span style=\"font-family:monospace\">return.factor</span>\": Return a factor instead of a mapping matrix.\n"
   ]
  },
  {
   "cell_type": "markdown",
   "metadata": {
    "slideshow": {
     "slide_type": "slide"
    }
   },
   "source": [
    "# <span style=\"font-family:monospace\">collapse.replicates</span>\n",
    "\n",
    "* \n",
    "\n",
    "Takes a dataframe containing information about the observations (rows of Y).\n",
    "\n",
    "Outputs a dataframe con\n",
    "\n",
    "```R\n",
    "collapse.replicates(df, M) \n",
    "```\n",
    "* For use with <span style=\"font-family:monospace\">RUVIII</span> when\n",
    "<span style=\"font-family:monospace\">average=TRUE</span>\n",
    "* Input: A dataframe containing information about the observations (rows of Y)\n",
    "* Output: A dataframe containing information about the replicate sets (rows of \"new Y\")\n"
   ]
  },
  {
   "cell_type": "markdown",
   "metadata": {
    "slideshow": {
     "slide_type": "slide"
    }
   },
   "source": [
    "# Example Analyses"
   ]
  },
  {
   "cell_type": "markdown",
   "metadata": {
    "slideshow": {
     "slide_type": "slide"
    }
   },
   "source": [
    "# Example 1\n",
    "\n",
    "## Spike-in Negative Controls and Technical Replicates"
   ]
  },
  {
   "cell_type": "code",
   "execution_count": null,
   "metadata": {
    "slideshow": {
     "slide_type": "slide"
    }
   },
   "outputs": [],
   "source": [
    "ruv_svdplot(Y) + gg_additions"
   ]
  },
  {
   "cell_type": "code",
   "execution_count": null,
   "metadata": {
    "slideshow": {
     "slide_type": "slide"
    }
   },
   "outputs": [],
   "source": [
    "M = replicate.matrix(sampleinfo[,c(\"patient\", \"region\")])\n",
    "YIII.spike.tech = RUVIII(Y, M, geneinfo$spikectl, k=10)"
   ]
  },
  {
   "cell_type": "markdown",
   "metadata": {
    "slideshow": {
     "slide_type": "-"
    }
   },
   "source": [
    "<p style=\"text-align:center;\"> $\\huge M = $  <img style=\"display:inline;height:600px;\" src=\"patient_region.png\"/></p>"
   ]
  },
  {
   "cell_type": "code",
   "execution_count": null,
   "metadata": {
    "slideshow": {
     "slide_type": "slide"
    }
   },
   "outputs": [],
   "source": [
    "ruv_svdplot(YIII.spike.tech) + gg_additions"
   ]
  },
  {
   "cell_type": "code",
   "execution_count": null,
   "metadata": {
    "slideshow": {
     "slide_type": "slide"
    }
   },
   "outputs": [],
   "source": [
    "# This time, set average=TRUE\n",
    "YIII.spike.tech.avg = RUVIII(Y, M, geneinfo$spikectl, k=10, average=TRUE)\n",
    "# Create \"metadata\" for the rows of YIII.spike.tech.avg\n",
    "sampleinfo.spike.tech.avg = collapse.replicates(sampleinfo, M)\n",
    "head(sampleinfo.spike.tech.avg)"
   ]
  },
  {
   "cell_type": "code",
   "execution_count": null,
   "metadata": {
    "slideshow": {
     "slide_type": "slide"
    }
   },
   "outputs": [],
   "source": [
    "ruv_svdplot(YIII.spike.tech.avg) + \n",
    "  aes(color=sampleinfo.spike.tech.avg$region)"
   ]
  },
  {
   "cell_type": "markdown",
   "metadata": {
    "slideshow": {
     "slide_type": "slide"
    }
   },
   "source": [
    "# Example 2\n",
    "\n",
    "## Plotting just the X/Y genes"
   ]
  },
  {
   "cell_type": "markdown",
   "metadata": {
    "slideshow": {
     "slide_type": "fragment"
    }
   },
   "source": [
    "* Same analysis, but plot the PCs of just the X/Y genes\n",
    "* What will we see...\n",
    "  * ...before adjustment?\n",
    "  * ...after adjustment?"
   ]
  },
  {
   "cell_type": "code",
   "execution_count": null,
   "metadata": {
    "scrolled": false,
    "slideshow": {
     "slide_type": "slide"
    }
   },
   "outputs": [],
   "source": [
    "ruv_svdplot(Y[,geneinfo$pctl]) + gg_additions"
   ]
  },
  {
   "cell_type": "code",
   "execution_count": null,
   "metadata": {
    "slideshow": {
     "slide_type": "slide"
    }
   },
   "outputs": [],
   "source": [
    "gg_gender_region = list(aes(color=sampleinfo$region, \n",
    "                            shape=sampleinfo$gender, \n",
    "                            size=3, alpha=1, stroke=2), \n",
    "                        labs(color=\"Brain Region\", \n",
    "                             shape=\"Gender\"),\n",
    "                        scale_size_identity(guide=\"none\"),\n",
    "                        scale_alpha(guide=\"none\"),\n",
    "                        scale_shape_manual(values = c(\"male\" = 5, \"female\" = 3)),\n",
    "                        theme(legend.text=element_text(size=12),\n",
    "                              legend.title=element_text(size=16)),\n",
    "                        guides(color = guide_legend(override.aes = list(size = 4)),\n",
    "                               shape = guide_legend(override.aes = list(size = 4))),\n",
    "                        scale_color_manual(values=c(\"darkorchid3\", \"darkorange2\", \"dodgerblue3\"))\n",
    "                       ) "
   ]
  },
  {
   "cell_type": "code",
   "execution_count": null,
   "metadata": {
    "scrolled": false,
    "slideshow": {
     "slide_type": "slide"
    }
   },
   "outputs": [],
   "source": [
    "ruv_svdplot(Y[,geneinfo$pctl]) + gg_gender_region"
   ]
  },
  {
   "cell_type": "code",
   "execution_count": null,
   "metadata": {
    "scrolled": false,
    "slideshow": {
     "slide_type": "slide"
    }
   },
   "outputs": [],
   "source": [
    "ruv_svdplot(YIII.spike.tech[,geneinfo$pctl]) + gg_gender_region"
   ]
  },
  {
   "cell_type": "markdown",
   "metadata": {
    "slideshow": {
     "slide_type": "slide"
    }
   },
   "source": [
    "# Example 3\n",
    "\n",
    "* Negative controls: Housekeeping genes\n",
    "* Replicates: All observations from a single patient"
   ]
  },
  {
   "cell_type": "code",
   "execution_count": null,
   "metadata": {
    "slideshow": {
     "slide_type": "slide"
    }
   },
   "outputs": [],
   "source": [
    "M = replicate.matrix(sampleinfo[,c(\"patient\")])\n",
    "YIII.hk.bio = RUVIII(Y, M, geneinfo$hkctl, k=10)"
   ]
  },
  {
   "cell_type": "markdown",
   "metadata": {
    "slideshow": {
     "slide_type": "-"
    }
   },
   "source": [
    "<p style=\"text-align:center;\"> $\\huge M = $  <img style=\"display:inline;height:600px;\" src=\"patient.png\"/></p>"
   ]
  },
  {
   "cell_type": "code",
   "execution_count": null,
   "metadata": {
    "slideshow": {
     "slide_type": "slide"
    }
   },
   "outputs": [],
   "source": [
    "ruv_svdplot(YIII.hk.bio[,geneinfo$pctl]) + gg_gender_region"
   ]
  },
  {
   "cell_type": "markdown",
   "metadata": {
    "slideshow": {
     "slide_type": "slide"
    }
   },
   "source": [
    "# Comment\n",
    "\n",
    "There is more going on here than simply \"regressing out brain region.\""
   ]
  },
  {
   "cell_type": "markdown",
   "metadata": {
    "slideshow": {
     "slide_type": "fragment"
    }
   },
   "source": [
    "Compare:"
   ]
  },
  {
   "cell_type": "code",
   "execution_count": null,
   "metadata": {
    "scrolled": false,
    "slideshow": {
     "slide_type": "-"
    }
   },
   "outputs": [],
   "source": [
    "# Create a design matrix for brain region:\n",
    "region_mat = design.matrix(sampleinfo$region)\n",
    "# Regress it out from the \"technical-adjusted\" dataset\n",
    "YIII.spike.tech.region_regression = residop(YIII.spike.tech, region_mat)"
   ]
  },
  {
   "cell_type": "code",
   "execution_count": null,
   "metadata": {
    "scrolled": false,
    "slideshow": {
     "slide_type": "slide"
    }
   },
   "outputs": [],
   "source": [
    "ruv_svdplot(YIII.spike.tech.region_regression[,geneinfo$pctl]) + gg_gender_region"
   ]
  },
  {
   "cell_type": "code",
   "execution_count": null,
   "metadata": {
    "slideshow": {
     "slide_type": "skip"
    }
   },
   "outputs": [],
   "source": [
    "gg_gender_region_nooutlier = list(aes(color=sampleinfo$region[-15], \n",
    "                            shape=sampleinfo$gender[-15], \n",
    "                            size=3, alpha=1, stroke=2), \n",
    "                        labs(color=\"Brain Region\", \n",
    "                             shape=\"Gender\"),\n",
    "                        scale_size_identity(guide=\"none\"),\n",
    "                        scale_alpha(guide=\"none\"),\n",
    "                        scale_shape_manual(values = c(\"male\" = 5, \"female\" = 3)),\n",
    "                        theme(legend.text=element_text(size=12),\n",
    "                              legend.title=element_text(size=16)),\n",
    "                        guides(color = guide_legend(override.aes = list(size = 4)),\n",
    "                               shape = guide_legend(override.aes = list(size = 4))),\n",
    "                        scale_color_manual(values=c(\"darkorchid3\", \"darkorange2\", \"dodgerblue3\"))\n",
    "                       ) "
   ]
  },
  {
   "cell_type": "code",
   "execution_count": null,
   "metadata": {
    "scrolled": false,
    "slideshow": {
     "slide_type": "slide"
    }
   },
   "outputs": [],
   "source": [
    "ruv_svdplot(YIII.spike.tech.region_regression[-15,geneinfo$pctl]) + gg_gender_region_nooutlier"
   ]
  },
  {
   "cell_type": "code",
   "execution_count": null,
   "metadata": {
    "scrolled": false,
    "slideshow": {
     "slide_type": "slide"
    }
   },
   "outputs": [],
   "source": [
    "ruv_svdplot(YIII.spike.tech.region_regression[-15,geneinfo$pctl], k=3:4) + gg_gender_region_nooutlier"
   ]
  },
  {
   "cell_type": "markdown",
   "metadata": {
    "slideshow": {
     "slide_type": "slide"
    }
   },
   "source": [
    "# Two Important Differences"
   ]
  },
  {
   "cell_type": "markdown",
   "metadata": {
    "slideshow": {
     "slide_type": "fragment"
    }
   },
   "source": [
    "* \"HK genes + bio replicates\" offers a stronger adjustment"
   ]
  },
  {
   "cell_type": "markdown",
   "metadata": {
    "slideshow": {
     "slide_type": "fragment"
    }
   },
   "source": [
    "* Regressing out brain region problematic if it's correlated with other biology  \n",
    "  (not relevant in this example)"
   ]
  },
  {
   "cell_type": "markdown",
   "metadata": {
    "slideshow": {
     "slide_type": "slide"
    }
   },
   "source": [
    "# Final Example"
   ]
  },
  {
   "cell_type": "markdown",
   "metadata": {
    "slideshow": {
     "slide_type": "fragment"
    }
   },
   "source": [
    "Use brain region to define replicates:"
   ]
  },
  {
   "cell_type": "code",
   "execution_count": null,
   "metadata": {
    "slideshow": {
     "slide_type": "slide"
    }
   },
   "outputs": [],
   "source": [
    "M = replicate.matrix(sampleinfo[,c(\"region\")])\n",
    "newY3 = RUVIII(Y, M, geneinfo$hkctl, k=10)"
   ]
  },
  {
   "cell_type": "markdown",
   "metadata": {
    "slideshow": {
     "slide_type": "-"
    }
   },
   "source": [
    "<p style=\"text-align:center;\"> $\\huge M = $  <img style=\"display:inline;height:600px;\" src=\"region.png\"/></p>"
   ]
  },
  {
   "cell_type": "code",
   "execution_count": null,
   "metadata": {
    "slideshow": {
     "slide_type": "slide"
    }
   },
   "outputs": [],
   "source": [
    "ruv_svdplot(newY3) + gg_additions"
   ]
  },
  {
   "cell_type": "markdown",
   "metadata": {
    "slideshow": {
     "slide_type": "slide"
    }
   },
   "source": [
    "# Bursting\n",
    "\n",
    "* Now \"burst\" Cerebellum and D.L.P.F. Cortex.\n",
    "* Only A.C. Cortex samples are treated as replicates."
   ]
  },
  {
   "cell_type": "code",
   "execution_count": null,
   "metadata": {
    "slideshow": {
     "slide_type": "slide"
    }
   },
   "outputs": [],
   "source": [
    "M = replicate.matrix(sampleinfo[,c(\"region\")], burst=c(\"cerebellum\", \"D.L.P.F..cortex\"))\n",
    "newY3 = RUVIII(Y, M, geneinfo$hkctl, k=10)"
   ]
  },
  {
   "cell_type": "markdown",
   "metadata": {
    "slideshow": {
     "slide_type": "-"
    }
   },
   "source": [
    "<p style=\"text-align:center;\"> $\\huge M = $  <img style=\"display:inline;height:600px;\" src=\"region_burst.png\"/></p>"
   ]
  },
  {
   "cell_type": "code",
   "execution_count": null,
   "metadata": {
    "slideshow": {
     "slide_type": "slide"
    }
   },
   "outputs": [],
   "source": [
    "ruv_svdplot(newY3) + gg_additions"
   ]
  },
  {
   "cell_type": "markdown",
   "metadata": {
    "slideshow": {
     "slide_type": "slide"
    }
   },
   "source": [
    "# Comments"
   ]
  },
  {
   "cell_type": "markdown",
   "metadata": {
    "slideshow": {
     "slide_type": "fragment"
    }
   },
   "source": [
    "* Bursting is useful for validating an adjustment."
   ]
  },
  {
   "cell_type": "markdown",
   "metadata": {
    "slideshow": {
     "slide_type": "fragment"
    }
   },
   "source": [
    "* The previous example highlights an interesting possibility for cluster analyses to discover disease sub-types:\n",
    "  * Use healthy controls to define \"ordinary\" biological variation\n",
    "  * After adjustment, only \"disease-related\" variation remains"
   ]
  },
  {
   "cell_type": "markdown",
   "metadata": {
    "slideshow": {
     "slide_type": "slide"
    }
   },
   "source": [
    "# Case Studies"
   ]
  },
  {
   "cell_type": "markdown",
   "metadata": {
    "slideshow": {
     "slide_type": "fragment"
    }
   },
   "source": [
    "1. Gender: A Balanced Design\n",
    "2. Gender: An Imbalanced Design\n",
    "3. Brain region"
   ]
  },
  {
   "cell_type": "markdown",
   "metadata": {
    "slideshow": {
     "slide_type": "slide"
    }
   },
   "source": [
    "# Balanced Design"
   ]
  },
  {
   "cell_type": "code",
   "execution_count": null,
   "metadata": {
    "scrolled": true
   },
   "outputs": [],
   "source": [
    "library(ruv)\n",
    "library(shiny)\n",
    "library(colourpicker)\n",
    "load(\"gender.rda\")\n",
    "Y = Y.norm\n",
    "ruv_shiny(Y,sampleinfo,geneinfo,options=list(port=3840,host=\"0.0.0.0\"))"
   ]
  },
  {
   "cell_type": "markdown",
   "metadata": {
    "slideshow": {
     "slide_type": "slide"
    }
   },
   "source": [
    "# Imbalanced Design"
   ]
  },
  {
   "cell_type": "code",
   "execution_count": null,
   "metadata": {
    "scrolled": true
   },
   "outputs": [],
   "source": [
    "keep = rep(T,nrow(Y))\n",
    "keep[sampleinfo$lab==\"Davis\" & sampleinfo$gender==\"male\"] = FALSE\n",
    "keep[sampleinfo$lab==\"Michigan\" & sampleinfo$gender==\"female\"] = FALSE\n",
    "Y.imb = Y[keep,]\n",
    "sampleinfo.imb = sampleinfo[keep,]\n",
    "ruv_shiny(Y.imb,sampleinfo.imb,geneinfo,options=list(port=3840,host=\"0.0.0.0\"))"
   ]
  },
  {
   "cell_type": "code",
   "execution_count": null,
   "metadata": {
    "scrolled": true,
    "slideshow": {
     "slide_type": "slide"
    }
   },
   "outputs": [],
   "source": [
    "keep = rep(T,nrow(Y))\n",
    "keep[sampleinfo$lab==\"Davis\" & sampleinfo$gender==\"male\"] = FALSE\n",
    "keep[sampleinfo$lab==\"Michigan\" & sampleinfo$gender==\"female\"] = FALSE\n",
    "Y.imb = Y.raw[keep,]\n",
    "sampleinfo.imb = sampleinfo[keep,]\n",
    "ruv_shiny(Y.imb,sampleinfo.imb,geneinfo,options=list(port=3840,host=\"0.0.0.0\"))"
   ]
  },
  {
   "cell_type": "markdown",
   "metadata": {
    "slideshow": {
     "slide_type": "slide"
    }
   },
   "source": [
    "# Brain Region"
   ]
  },
  {
   "cell_type": "code",
   "execution_count": null,
   "metadata": {},
   "outputs": [],
   "source": [
    "ruv_shiny(Y.raw,sampleinfo,geneinfo,options=list(port=3840,host=\"0.0.0.0\"))"
   ]
  }
 ],
 "metadata": {
  "celltoolbar": "Slideshow",
  "kernelspec": {
   "display_name": "R",
   "language": "R",
   "name": "ir"
  },
  "language_info": {
   "codemirror_mode": "r",
   "file_extension": ".r",
   "mimetype": "text/x-r-source",
   "name": "R",
   "pygments_lexer": "r",
   "version": "3.4.3"
  },
  "livereveal": {
   "height": "768",
   "transition": "none",
   "width": "1024"
  }
 },
 "nbformat": 4,
 "nbformat_minor": 2
}
