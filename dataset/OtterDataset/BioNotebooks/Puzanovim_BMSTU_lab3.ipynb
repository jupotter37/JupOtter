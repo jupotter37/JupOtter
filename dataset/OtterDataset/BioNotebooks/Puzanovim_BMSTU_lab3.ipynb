{
 "cells": [
  {
   "cell_type": "code",
   "execution_count": 104,
   "metadata": {
    "collapsed": true,
    "ExecuteTime": {
     "end_time": "2023-05-24T08:57:33.170485800Z",
     "start_time": "2023-05-24T08:57:31.527772200Z"
    }
   },
   "outputs": [
    {
     "name": "stderr",
     "output_type": "stream",
     "text": [
      "[nltk_data] Downloading package stopwords to\n",
      "[nltk_data]     C:\\Users\\ipuzanov\\AppData\\Roaming\\nltk_data...\n",
      "[nltk_data]   Package stopwords is already up-to-date!\n",
      "[nltk_data] Downloading package punkt to\n",
      "[nltk_data]     C:\\Users\\ipuzanov\\AppData\\Roaming\\nltk_data...\n",
      "[nltk_data]   Package punkt is already up-to-date!\n",
      "[nltk_data] Downloading package wordnet to\n",
      "[nltk_data]     C:\\Users\\ipuzanov\\AppData\\Roaming\\nltk_data...\n",
      "[nltk_data]   Package wordnet is already up-to-date!\n"
     ]
    }
   ],
   "source": [
    "import re\n",
    "import pymorphy2\n",
    "import pandas as pd\n",
    "\n",
    "import nltk\n",
    "nltk.download(\"stopwords\")\n",
    "nltk.download('punkt')\n",
    "nltk.download('wordnet')\n",
    "from nltk.corpus import stopwords\n",
    "\n",
    "from sklearn.pipeline import Pipeline\n",
    "from sklearn.metrics import classification_report\n",
    "from sklearn.feature_extraction.text import TfidfVectorizer\n",
    "from sklearn.linear_model import LogisticRegression"
   ]
  },
  {
   "cell_type": "code",
   "execution_count": 2,
   "outputs": [],
   "source": [
    "train_df = pd.read_csv('./datasets/phi_che_bio/train.csv')\n",
    "test_df = pd.read_csv('./datasets/phi_che_bio/test.csv')"
   ],
   "metadata": {
    "collapsed": false,
    "ExecuteTime": {
     "end_time": "2023-05-23T22:06:39.197010300Z",
     "start_time": "2023-05-23T22:06:38.992346100Z"
    }
   }
  },
  {
   "cell_type": "code",
   "execution_count": 3,
   "outputs": [
    {
     "data": {
      "text/plain": "       Id                                            Comment      Topic\n0   0x840  A few things. You might have negative- frequen...    Biology\n1   0xbf0  Is it so hard to believe that there exist part...    Physics\n2  0x1dfc                                     There are bees    Biology\n3   0xc7e  I'm a medication technician. And that's alot o...    Biology\n4   0xbba                     Cesium is such a pretty metal.  Chemistry",
      "text/html": "<div>\n<style scoped>\n    .dataframe tbody tr th:only-of-type {\n        vertical-align: middle;\n    }\n\n    .dataframe tbody tr th {\n        vertical-align: top;\n    }\n\n    .dataframe thead th {\n        text-align: right;\n    }\n</style>\n<table border=\"1\" class=\"dataframe\">\n  <thead>\n    <tr style=\"text-align: right;\">\n      <th></th>\n      <th>Id</th>\n      <th>Comment</th>\n      <th>Topic</th>\n    </tr>\n  </thead>\n  <tbody>\n    <tr>\n      <th>0</th>\n      <td>0x840</td>\n      <td>A few things. You might have negative- frequen...</td>\n      <td>Biology</td>\n    </tr>\n    <tr>\n      <th>1</th>\n      <td>0xbf0</td>\n      <td>Is it so hard to believe that there exist part...</td>\n      <td>Physics</td>\n    </tr>\n    <tr>\n      <th>2</th>\n      <td>0x1dfc</td>\n      <td>There are bees</td>\n      <td>Biology</td>\n    </tr>\n    <tr>\n      <th>3</th>\n      <td>0xc7e</td>\n      <td>I'm a medication technician. And that's alot o...</td>\n      <td>Biology</td>\n    </tr>\n    <tr>\n      <th>4</th>\n      <td>0xbba</td>\n      <td>Cesium is such a pretty metal.</td>\n      <td>Chemistry</td>\n    </tr>\n  </tbody>\n</table>\n</div>"
     },
     "execution_count": 3,
     "metadata": {},
     "output_type": "execute_result"
    }
   ],
   "source": [
    "train_df.head()"
   ],
   "metadata": {
    "collapsed": false,
    "ExecuteTime": {
     "end_time": "2023-05-23T22:06:39.313077300Z",
     "start_time": "2023-05-23T22:06:39.177642600Z"
    }
   }
  },
  {
   "cell_type": "code",
   "execution_count": 4,
   "outputs": [
    {
     "data": {
      "text/plain": "       Id                                            Comment      Topic\n0  0x1aa9  Personally I have no idea what my IQ is. I’ve ...    Biology\n1   0x25e  I'm skeptical. A heavier lid would be needed t...    Physics\n2  0x1248  I think I have 100 cm of books on the subject....    Biology\n3   0x2b9  Is chemistry hard in uni. Ive read somewhere t...  Chemistry\n4  0x24af  In addition to the other comment, you can crit...    Physics",
      "text/html": "<div>\n<style scoped>\n    .dataframe tbody tr th:only-of-type {\n        vertical-align: middle;\n    }\n\n    .dataframe tbody tr th {\n        vertical-align: top;\n    }\n\n    .dataframe thead th {\n        text-align: right;\n    }\n</style>\n<table border=\"1\" class=\"dataframe\">\n  <thead>\n    <tr style=\"text-align: right;\">\n      <th></th>\n      <th>Id</th>\n      <th>Comment</th>\n      <th>Topic</th>\n    </tr>\n  </thead>\n  <tbody>\n    <tr>\n      <th>0</th>\n      <td>0x1aa9</td>\n      <td>Personally I have no idea what my IQ is. I’ve ...</td>\n      <td>Biology</td>\n    </tr>\n    <tr>\n      <th>1</th>\n      <td>0x25e</td>\n      <td>I'm skeptical. A heavier lid would be needed t...</td>\n      <td>Physics</td>\n    </tr>\n    <tr>\n      <th>2</th>\n      <td>0x1248</td>\n      <td>I think I have 100 cm of books on the subject....</td>\n      <td>Biology</td>\n    </tr>\n    <tr>\n      <th>3</th>\n      <td>0x2b9</td>\n      <td>Is chemistry hard in uni. Ive read somewhere t...</td>\n      <td>Chemistry</td>\n    </tr>\n    <tr>\n      <th>4</th>\n      <td>0x24af</td>\n      <td>In addition to the other comment, you can crit...</td>\n      <td>Physics</td>\n    </tr>\n  </tbody>\n</table>\n</div>"
     },
     "execution_count": 4,
     "metadata": {},
     "output_type": "execute_result"
    }
   ],
   "source": [
    "test_df.head()"
   ],
   "metadata": {
    "collapsed": false,
    "ExecuteTime": {
     "end_time": "2023-05-23T22:06:39.355148800Z",
     "start_time": "2023-05-23T22:06:39.253277400Z"
    }
   }
  },
  {
   "cell_type": "code",
   "execution_count": 5,
   "outputs": [],
   "source": [
    "morph = pymorphy2.MorphAnalyzer()"
   ],
   "metadata": {
    "collapsed": false,
    "ExecuteTime": {
     "end_time": "2023-05-23T22:06:39.804420800Z",
     "start_time": "2023-05-23T22:06:39.278320100Z"
    }
   }
  },
  {
   "cell_type": "code",
   "execution_count": 48,
   "outputs": [],
   "source": [
    "def get_morph_text(input_text):\n",
    "    text = re.sub('[^a-zA-Z]', ' ', input_text.replace('\\\\n', ''))\n",
    "    text = nltk.word_tokenize(text)\n",
    "    clear_text = []\n",
    "    for word in text:\n",
    "        normal_word = morph.parse(word)[0].normal_form\n",
    "        if normal_word not in stopwords.words('english'):\n",
    "            clear_text.append(normal_word)\n",
    "\n",
    "    return ' '.join(clear_text)\n",
    "\n",
    "\n",
    "def get_not_morph_text(input_text):\n",
    "    text = re.sub('[^a-zA-Z]', ' ', input_text.replace('\\\\n', ''))\n",
    "    text = nltk.word_tokenize(text)\n",
    "    clear_text = [word for word in text if word not in stopwords.words('english')]\n",
    "    return ' '.join(clear_text)"
   ],
   "metadata": {
    "collapsed": false,
    "ExecuteTime": {
     "end_time": "2023-05-24T06:32:15.475776Z",
     "start_time": "2023-05-24T06:32:15.444487400Z"
    }
   }
  },
  {
   "cell_type": "code",
   "execution_count": 18,
   "outputs": [],
   "source": [
    "train_comments = train_df['Comment'].values\n",
    "test_comments = test_df['Comment'].values\n",
    "\n",
    "train_y = train_df['Topic'].values\n",
    "test_y = test_df['Topic'].values"
   ],
   "metadata": {
    "collapsed": false,
    "ExecuteTime": {
     "end_time": "2023-05-24T06:17:46.965435600Z",
     "start_time": "2023-05-24T06:17:46.918522200Z"
    }
   }
  },
  {
   "cell_type": "code",
   "execution_count": 19,
   "outputs": [
    {
     "data": {
      "text/plain": "((8695,), (8695,), (1586,), (1586,))"
     },
     "execution_count": 19,
     "metadata": {},
     "output_type": "execute_result"
    }
   ],
   "source": [
    "train_comments.shape, train_y.shape, test_comments.shape, test_y.shape"
   ],
   "metadata": {
    "collapsed": false,
    "ExecuteTime": {
     "end_time": "2023-05-24T06:17:48.507828500Z",
     "start_time": "2023-05-24T06:17:48.476563300Z"
    }
   }
  },
  {
   "cell_type": "code",
   "execution_count": 8,
   "outputs": [],
   "source": [
    "train_x = [get_morph_text(comment) for comment in train_comments]\n",
    "test_x = [get_morph_text(comment) for comment in test_comments]"
   ],
   "metadata": {
    "collapsed": false,
    "ExecuteTime": {
     "end_time": "2023-05-23T22:10:45.661684800Z",
     "start_time": "2023-05-23T22:06:39.804420800Z"
    }
   }
  },
  {
   "cell_type": "code",
   "execution_count": 36,
   "outputs": [],
   "source": [
    "not_morph_train_x = [get_not_morph_text(comment) for comment in train_comments]\n",
    "not_morph_test_x = [get_not_morph_text(comment) for comment in test_comments]"
   ],
   "metadata": {
    "collapsed": false,
    "ExecuteTime": {
     "end_time": "2023-05-24T06:26:34.216788700Z",
     "start_time": "2023-05-24T06:25:13.043142300Z"
    }
   }
  },
  {
   "cell_type": "code",
   "execution_count": 105,
   "outputs": [],
   "source": [
    "morph_lin = Pipeline([\n",
    "    ('tfidf', TfidfVectorizer()),\n",
    "    ('clf', LogisticRegression(max_iter=150))\n",
    "])\n",
    "\n",
    "not_morph_lin = Pipeline([\n",
    "    ('tfidf', TfidfVectorizer()),\n",
    "    ('clf', LogisticRegression(max_iter=150))\n",
    "])"
   ],
   "metadata": {
    "collapsed": false,
    "ExecuteTime": {
     "end_time": "2023-05-24T08:57:52.773734900Z",
     "start_time": "2023-05-24T08:57:52.758809700Z"
    }
   }
  },
  {
   "cell_type": "code",
   "execution_count": 100,
   "outputs": [],
   "source": [
    "morph_lin.fit(train_x, train_y)\n",
    "lin_pred_y = morph_lin.predict(test_x)"
   ],
   "metadata": {
    "collapsed": false,
    "ExecuteTime": {
     "end_time": "2023-05-24T08:56:05.303959500Z",
     "start_time": "2023-05-24T08:56:03.475684Z"
    }
   }
  },
  {
   "cell_type": "code",
   "execution_count": 101,
   "outputs": [
    {
     "name": "stdout",
     "output_type": "stream",
     "text": [
      "              precision    recall  f1-score   support\n",
      "\n",
      "     Biology       0.85      0.83      0.84       628\n",
      "   Chemistry       0.83      0.79      0.81       531\n",
      "     Physics       0.80      0.87      0.84       427\n",
      "\n",
      "    accuracy                           0.83      1586\n",
      "   macro avg       0.83      0.83      0.83      1586\n",
      "weighted avg       0.83      0.83      0.83      1586\n",
      "\n"
     ]
    }
   ],
   "source": [
    "print(classification_report(lin_pred_y, test_y))"
   ],
   "metadata": {
    "collapsed": false,
    "ExecuteTime": {
     "end_time": "2023-05-24T08:56:05.366884800Z",
     "start_time": "2023-05-24T08:56:05.319412200Z"
    }
   }
  },
  {
   "cell_type": "code",
   "execution_count": 108,
   "outputs": [],
   "source": [
    "not_morph_lin.fit(not_morph_train_x, train_y)\n",
    "not_morph_pred_y = not_morph_lin.predict(not_morph_test_x)"
   ],
   "metadata": {
    "collapsed": false,
    "ExecuteTime": {
     "end_time": "2023-05-24T08:58:59.030272100Z",
     "start_time": "2023-05-24T08:58:57.627475800Z"
    }
   }
  },
  {
   "cell_type": "code",
   "execution_count": 109,
   "outputs": [
    {
     "name": "stdout",
     "output_type": "stream",
     "text": [
      "              precision    recall  f1-score   support\n",
      "\n",
      "     Biology       0.85      0.84      0.84       627\n",
      "   Chemistry       0.84      0.79      0.81       535\n",
      "     Physics       0.80      0.88      0.83       424\n",
      "\n",
      "    accuracy                           0.83      1586\n",
      "   macro avg       0.83      0.83      0.83      1586\n",
      "weighted avg       0.83      0.83      0.83      1586\n",
      "\n"
     ]
    }
   ],
   "source": [
    "print(classification_report(not_morph_pred_y, test_y))"
   ],
   "metadata": {
    "collapsed": false,
    "ExecuteTime": {
     "end_time": "2023-05-24T08:58:59.077057700Z",
     "start_time": "2023-05-24T08:58:59.033256100Z"
    }
   }
  },
  {
   "cell_type": "code",
   "execution_count": null,
   "outputs": [],
   "source": [],
   "metadata": {
    "collapsed": false
   }
  },
  {
   "cell_type": "code",
   "execution_count": null,
   "outputs": [],
   "source": [],
   "metadata": {
    "collapsed": false
   }
  },
  {
   "cell_type": "code",
   "execution_count": null,
   "outputs": [],
   "source": [],
   "metadata": {
    "collapsed": false
   }
  },
  {
   "cell_type": "code",
   "execution_count": null,
   "outputs": [],
   "source": [],
   "metadata": {
    "collapsed": false
   }
  },
  {
   "cell_type": "code",
   "execution_count": null,
   "outputs": [],
   "source": [],
   "metadata": {
    "collapsed": false
   }
  },
  {
   "cell_type": "code",
   "execution_count": null,
   "outputs": [],
   "source": [],
   "metadata": {
    "collapsed": false
   }
  },
  {
   "cell_type": "code",
   "execution_count": null,
   "outputs": [],
   "source": [
    "from gensim.models import word2vec"
   ],
   "metadata": {
    "collapsed": false
   }
  },
  {
   "cell_type": "code",
   "execution_count": null,
   "outputs": [],
   "source": [
    "morph_lin_wv = Pipeline([\n",
    "    ('wv', word2vec),\n",
    "    ('clf', LogisticRegression(max_iter=150))\n",
    "])\n",
    "\n",
    "not_morph_lin_wv = Pipeline([\n",
    "    ('wv', word2vec),\n",
    "    ('clf', LogisticRegression(max_iter=150))\n",
    "])"
   ],
   "metadata": {
    "collapsed": false
   }
  },
  {
   "cell_type": "code",
   "execution_count": null,
   "outputs": [],
   "source": [
    "morph_lin_wv.fit(train_x, train_y)\n",
    "wv_pred_y = morph_lin_wv.predict(test_x)"
   ],
   "metadata": {
    "collapsed": false
   }
  },
  {
   "cell_type": "code",
   "execution_count": null,
   "outputs": [],
   "source": [
    "print(classification_report(wv_pred_y, test_y))"
   ],
   "metadata": {
    "collapsed": false
   }
  },
  {
   "cell_type": "code",
   "execution_count": null,
   "outputs": [],
   "source": [
    "not_morph_lin_wv.fit(train_x, train_y)\n",
    "not_morph_wv_pred_y = not_morph_lin_wv.predict(test_x)"
   ],
   "metadata": {
    "collapsed": false
   }
  },
  {
   "cell_type": "code",
   "execution_count": null,
   "outputs": [],
   "source": [
    "print(classification_report(not_morph_wv_pred_y, test_y))"
   ],
   "metadata": {
    "collapsed": false
   }
  }
 ],
 "metadata": {
  "kernelspec": {
   "display_name": "Python 3",
   "language": "python",
   "name": "python3"
  },
  "language_info": {
   "codemirror_mode": {
    "name": "ipython",
    "version": 2
   },
   "file_extension": ".py",
   "mimetype": "text/x-python",
   "name": "python",
   "nbconvert_exporter": "python",
   "pygments_lexer": "ipython2",
   "version": "2.7.6"
  }
 },
 "nbformat": 4,
 "nbformat_minor": 0
}
