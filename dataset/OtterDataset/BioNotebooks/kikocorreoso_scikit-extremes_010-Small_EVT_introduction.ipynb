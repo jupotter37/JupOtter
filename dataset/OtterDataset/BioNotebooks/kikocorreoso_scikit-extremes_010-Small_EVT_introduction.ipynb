{
 "cells": [
  {
   "cell_type": "markdown",
   "metadata": {},
   "source": [
    "# Quick and incomplete Extreme Value Theory introduction"
   ]
  },
  {
   "cell_type": "markdown",
   "metadata": {},
   "source": [
    "Extreme Value Theory (EVT) is unique as a statistical discipline in that it develops techniques and models for describing the unusual rather than the usual, e.g., it is focused in the tail of the distribution.\n",
    "\n",
    "By definition, extreme values are scarce, meaning that estimates are often required for levels of a process that are much greater than have already been observed. This implies an extrapolation from an small set of observed levels to unobserved levels. Extreme Value Theory provides models to enable such extrapolation."
   ]
  },
  {
   "cell_type": "markdown",
   "metadata": {},
   "source": [
    "## Fields of interest"
   ]
  },
  {
   "cell_type": "markdown",
   "metadata": {},
   "source": [
    "Applications of extreme value theory include predicting the probability distribution of:\n",
    "\n",
    "* Several engineering design processes:\n",
    " * Hydraulics engineering (extreme floods,...)\n",
    " * Structural engineering (earthquakes, wind speed,...)\n",
    "\n",
    "* Meteorology\n",
    " * Extreme temperatures, rainfall, Hurricanes...\n",
    "\n",
    "* Ocean engineering\n",
    " * The size of freak waves (wave height)\n",
    "\n",
    "* Environmental sciences\n",
    " * Large wildfires\n",
    " * Environmental loads on structures\n",
    "\n",
    "* Insurance industry\n",
    " * The amounts of large insurance losses, portfolio adjustment,...\n",
    "\n",
    "* Financial industry\n",
    " * Equity risks\n",
    " * Day to day market risk\n",
    " * Stock market crashes\n",
    "\n",
    "* Material sciences\n",
    " * Corrosion analysis\n",
    " * Strenght of materials\n",
    "\n",
    "* Telecommunications\n",
    " * Traffic prediction\n",
    " \n",
    "* Biology\n",
    " * Mutational events during evolution\n",
    " * Memory cell failure\n",
    " \n",
    "* ..."
   ]
  },
  {
   "cell_type": "markdown",
   "metadata": {},
   "source": [
    "## A brief history of Extreme Value Theory"
   ]
  },
  {
   "cell_type": "markdown",
   "metadata": {},
   "source": [
    "One of the earliest books on the statistics of extreme values is [E.J. Gumbel (1958)](http://www.worldcat.org/title/statistics-of-extremes/oclc/180577). Research into extreme values as a subject in it’s own right began between 1920 and 1940 when work by E.L. Dodd, M. Frêchet, E.J. Gumbel, R. von Mises and L.H.C. Tippett investigated the asymptotic distribution of the largest order statistic. This led to the main theoretical result: the [Extremal Types Theorem](http://www.statslab.cam.ac.uk/~rjs57/ExtremalTThm.pdf) (also known as the Fisher–Tippett–Gnedenko theorem, the Fisher–Tippett theorem or the extreme value theorem) which was developed in stages by [Fisher, Tippett and von Mises, and eventually proved in general by B. Gnedenko in 1943](https://en.wikipedia.org/wiki/Fisher%E2%80%93Tippett%E2%80%93Gnedenko_theorem).\n",
    "\n",
    "Until 1950, development was largely theoretical. In 1958, Gumbel started applying theory to problems in engineering. In the 1970s, [L. de Haan, Balkema and J. Pickands generalised the theoretical results](https://en.wikipedia.org/wiki/Pickands%E2%80%93Balkema%E2%80%93de_Haan_theorem) (the second theorem in extreme value theory), giving a better basis for statistical models.\n",
    "\n",
    "Since the 1980s, methods for the application of Extreme Value Theory have become much more widespread."
   ]
  },
  {
   "cell_type": "markdown",
   "metadata": {},
   "source": [
    "## General approaches to estimate extreme values"
   ]
  },
  {
   "cell_type": "markdown",
   "metadata": {},
   "source": [
    "There are two primary approaches to analyzing extremes of a dataset:\n",
    "\n",
    "* The first and more classical approach reduces the data considerably by taking maxima of long blocks of data, e.g., annual maxima. The generalized extreme value (GEV) distribution function has theoretical justification for fitting to block maxima of data.\n",
    "\n",
    "* The second approach is to analyze excesses over a high threshold.  For this second approach the generalized Pareto (GP) distribution function has similar justification for fitting to excesses over a high threshold."
   ]
  },
  {
   "cell_type": "markdown",
   "metadata": {},
   "source": [
    "### Block-Maxima + Generalised Extreme Value (GEV) and Gumbel distribution"
   ]
  },
  {
   "cell_type": "markdown",
   "metadata": {},
   "source": [
    "The generalized extreme value (GEV) family of distribution functions has theoretical support for fitting to block maximum data whereby the blocks are sufficiently large, and is given by:\n",
    "\n",
    "$$G(z;\\mu, \\sigma, \\xi) = exp\\{-[1+\\xi\\frac{z - \\mu}{\\sigma}]^{-1/\\xi}\\}$$\n",
    "\n",
    "The parameters $\\mu$ ($-\\infty < \\mu < \\infty$), $\\sigma$ ($\\sigma > 0$) and $\\xi$ ($\\infty < \\xi < \\infty$) are location, scale and shape parameters, respectively. The value of the shape parameter $\\xi$ differentiates between the three types of extreme value distribution in [Extremal Types Theorem](http://www.statslab.cam.ac.uk/~rjs57/ExtremalTThm.pdf) (also known as the Fisher–Tippett–Gnedenko theorem, the Fisher–Tippett theorem or the extreme value theorem).\n",
    "\n",
    "* $\\xi = 0$, leading to, corresponds to the Gumbel distribution (type I). This special case can be formulated as\n",
    "\n",
    "$$G(z;\\mu, \\sigma) = exp\\{-exp(\\frac{z - \\mu}{\\sigma})\\}$$\n",
    "\n",
    "* $\\xi > 0$ correspond to the Frêchet (type II) and\n",
    "\n",
    "* $\\xi < 0$ correspond to the Weibull (type III) \n",
    "\n",
    "distributions respectively. In practice, when we estimate the shape parameter $\\xi$, the standard error for $\\xi$ accounts for our uncertainty in choosing between the three models."
   ]
  },
  {
   "cell_type": "markdown",
   "metadata": {},
   "source": [
    "### Peak-Over-Threshold (POT) + Generalised Pareto (GP) distribution"
   ]
  },
  {
   "cell_type": "markdown",
   "metadata": {},
   "source": [
    "**TODO**\n",
    "\n",
    "**TODO**\n",
    "\n",
    "**TODO**\n",
    "\n",
    "**TODO**"
   ]
  },
  {
   "cell_type": "markdown",
   "metadata": {},
   "source": [
    "## References used to prepare this section"
   ]
  },
  {
   "cell_type": "markdown",
   "metadata": {},
   "source": [
    "- [S. Coles (2001): *An introduction to statistical modelling of extreme values*. Springer.](http://www.springer.com/us/book/9781852334598)\n",
    "\n",
    "- [E. Gilleland, , M. Ribatet and A. G. Stephenson (2013): *A software review for extreme value analysis*. Extremes, 16 (1), 103 - 119.](http://www.springerlink.com/openurl.asp?genre=article&id=doi:10.1007/s10687-012-0155-0)\n",
    "\n",
    "- [L. Fawcett (2013): *Teaching materials of MAS8391 at Newcastle University (UK)*.](http://www.mas.ncl.ac.uk/~nlf8/teaching/mas8391/)"
   ]
  }
 ],
 "metadata": {
  "kernelspec": {
   "display_name": "Python 3",
   "language": "python",
   "name": "python3"
  },
  "language_info": {
   "codemirror_mode": {
    "name": "ipython",
    "version": 3
   },
   "file_extension": ".py",
   "mimetype": "text/x-python",
   "name": "python",
   "nbconvert_exporter": "python",
   "pygments_lexer": "ipython3",
   "version": "3.4.1"
  }
 },
 "nbformat": 4,
 "nbformat_minor": 0
}
