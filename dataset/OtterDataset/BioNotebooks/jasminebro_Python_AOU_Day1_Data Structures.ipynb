{
  "cells": [
    {
      "cell_type": "raw",
      "metadata": {},
      "source": [
        "---\n",
        "title: Data Structures\n",
        "format: ipynb\n",
        "editor: visual\n",
        "---"
      ],
      "id": "08fc380f"
    },
    {
      "cell_type": "markdown",
      "metadata": {},
      "source": [
        "# Day1: Data Structures\n",
        "\n",
        "\n",
        "\n",
        "\n",
        "## Data Structures\n",
        "\n",
        "### Tuples\n",
        "\n",
        "-   Fixed length immutable objects that cannot be changed once assigned.\n",
        "\n",
        "-   Easily created by having comma separated values enclosed in parenthesis\n"
      ],
      "id": "92361c52"
    },
    {
      "cell_type": "code",
      "metadata": {
        "md-indent": "    "
      },
      "source": [
        " TupleExample = (7,8,9) #create sequence of numbers TupleExample\n",
        " \n",
        " TupleExample"
      ],
      "id": "8c2afdc9",
      "execution_count": null,
      "outputs": []
    },
    {
      "cell_type": "markdown",
      "metadata": {},
      "source": [
        "### Lists\n",
        "\n",
        "-   Variable length and contents can be modified and are mutable\n",
        "\n",
        "-   Created by using \\[\\] or just the list function\n"
      ],
      "id": "402be8ce"
    },
    {
      "cell_type": "code",
      "metadata": {},
      "source": [
        "ListA = [2,2,5]\n",
        "ListA\n",
        "\n",
        "Tup = (5,0,4)\n",
        "Tup\n",
        "\n",
        "ListB = list(Tup)\n",
        "ListB\n"
      ],
      "id": "d8c42546",
      "execution_count": null,
      "outputs": []
    },
    {
      "cell_type": "markdown",
      "metadata": {},
      "source": [
        "#### Adding and Removing\n",
        "\n",
        "##### **Append**\n"
      ],
      "id": "8133189b"
    },
    {
      "cell_type": "code",
      "metadata": {},
      "source": [
        "ListA.append(\"Mia\")\n",
        "ListA"
      ],
      "id": "be8dfd4b",
      "execution_count": null,
      "outputs": []
    },
    {
      "cell_type": "markdown",
      "metadata": {},
      "source": [
        "##### **Insert**\n",
        "\n",
        "-   You can insert at a certain location\n",
        "\n",
        "-   Note: In python, counting/indexing begins at 0. So, \"crawfish\" will insert as the second element in our list.\n"
      ],
      "id": "ada11382"
    },
    {
      "cell_type": "code",
      "metadata": {},
      "source": [
        "ListA.insert(1,\"crawfish\")\n",
        "ListA"
      ],
      "id": "b3ed5051",
      "execution_count": null,
      "outputs": []
    },
    {
      "cell_type": "markdown",
      "metadata": {},
      "source": [
        "##### Pop\n",
        "\n",
        "-   Removes and returns at a certain location\n"
      ],
      "id": "fc3c81c5"
    },
    {
      "cell_type": "code",
      "metadata": {},
      "source": [
        "ListA.pop(2)\n",
        "\n",
        "ListA\n"
      ],
      "id": "3b0a6eaa",
      "execution_count": null,
      "outputs": []
    },
    {
      "cell_type": "markdown",
      "metadata": {},
      "source": [
        "##### Remove\n",
        "\n",
        "-   removes first instance\n"
      ],
      "id": "8b7db327"
    },
    {
      "cell_type": "code",
      "metadata": {},
      "source": [
        "ListA.remove(\"crawfish\")\n",
        "ListA"
      ],
      "id": "5d3a0041",
      "execution_count": null,
      "outputs": []
    },
    {
      "cell_type": "markdown",
      "metadata": {},
      "source": [
        "##### Combining/ Concatenating\n",
        "\n",
        "-   Using the + sign will concatenate a list or tuple\n"
      ],
      "id": "acb4d4b3"
    },
    {
      "cell_type": "code",
      "metadata": {
        "md-indent": "    "
      },
      "source": [
        "[\"five\",\"love\",\"biology\"] + [\"LSU\", \"BCM\", \"LA\"]"
      ],
      "id": "43291fd0",
      "execution_count": null,
      "outputs": []
    },
    {
      "cell_type": "markdown",
      "metadata": {},
      "source": [
        "-   You can append multiple elements by using extend\n"
      ],
      "id": "ca5a3825"
    },
    {
      "cell_type": "code",
      "metadata": {
        "md-indent": "    "
      },
      "source": [
        "y = [6,\"house\", \"car\"]\n",
        "\n",
        "y.extend([9,0,(32,3)])\n",
        "\n",
        "y"
      ],
      "id": "6952842f",
      "execution_count": null,
      "outputs": []
    },
    {
      "cell_type": "markdown",
      "metadata": {},
      "source": [
        "##### Sorting\n",
        "\n",
        "-   Sort items by value\n"
      ],
      "id": "dcb34f4e"
    },
    {
      "cell_type": "code",
      "metadata": {},
      "source": [
        "a = [5,3,1,90,56]\n",
        "a\n",
        "a.sort ()\n",
        "a"
      ],
      "id": "3d8bd687",
      "execution_count": null,
      "outputs": []
    },
    {
      "cell_type": "markdown",
      "metadata": {},
      "source": [
        "##### Slicing\n",
        "\n",
        "-   Extract a range of values with the basic form of start:stop and using the indexing operator \\[\\]\n"
      ],
      "id": "2d77cf06"
    },
    {
      "cell_type": "code",
      "metadata": {},
      "source": [
        "sequence = [\"cccccc\", \"ttttt\", \"aaaaa\", \"ccccc\"]\n",
        "\n",
        "sequence[0:2]"
      ],
      "id": "e4c28e11",
      "execution_count": null,
      "outputs": []
    },
    {
      "cell_type": "markdown",
      "metadata": {},
      "source": [
        "#### Dictionary/ dict\n",
        "\n",
        "-   Stores key-value pairs. The key and value are both python objects.\n",
        "\n",
        "-   Typically {} and : are used to create Python dictionaries.\n"
      ],
      "id": "e3bd736a"
    },
    {
      "cell_type": "code",
      "metadata": {
        "md-indent": "    "
      },
      "source": [
        "Dict1 = {\"car\":\"beetle\",\"model\":\"volkswagen\", \"year\": \"2010\"}\n",
        "\n",
        "Dict1\n",
        "\n",
        "Dict1[\"model\"] #Pull model\n",
        "\"model\" in Dict1 #Check to see if model is in the dictionary "
      ],
      "id": "dbcc0617",
      "execution_count": null,
      "outputs": []
    },
    {
      "cell_type": "markdown",
      "metadata": {},
      "source": [
        "-   You can delete values using del or pop.\n"
      ],
      "id": "9c758f5e"
    },
    {
      "cell_type": "code",
      "metadata": {
        "md-indent": "    "
      },
      "source": [
        "Dict1[\"state\"] = \"Louisiana\"\n",
        "\n",
        "Dict1\n",
        "\n",
        "Dict1[\"home\"] = \"Space\"\n",
        "\n",
        "Dict1\n",
        "\n",
        "del Dict1[\"state\"]\n",
        "\n",
        "Dict1.pop(\"home\")\n",
        "\n",
        "Dict1"
      ],
      "id": "13f7e2e7",
      "execution_count": null,
      "outputs": []
    },
    {
      "cell_type": "markdown",
      "metadata": {},
      "source": [
        "-   You can get the keys and values individually, iterate and merge dictionaries\n"
      ],
      "id": "b7b18c41"
    },
    {
      "cell_type": "code",
      "metadata": {},
      "source": [
        "list(Dict1.keys())\n",
        "list(Dict1.values())\n",
        "\n",
        "#you can iterate over the values and keys by turning your dictionary into individual tuples \n",
        "\n",
        "list(Dict1.items())\n"
      ],
      "id": "43f7b6f2",
      "execution_count": null,
      "outputs": []
    },
    {
      "cell_type": "markdown",
      "metadata": {},
      "source": [
        "#### Set\n",
        "\n",
        "-   A set is an unordered group of elements.\n",
        "\n",
        "-   Sets are created two ways: 1) with the set function 2) a set literal with {}\n"
      ],
      "id": "10e9da98"
    },
    {
      "cell_type": "code",
      "metadata": {
        "md-indent": "    "
      },
      "source": [
        "set([4,7,8,9])\n",
        "\n",
        "{4,2,3,1}"
      ],
      "id": "cf2c87d1",
      "execution_count": null,
      "outputs": []
    },
    {
      "cell_type": "markdown",
      "metadata": {},
      "source": [
        "To combine two sets you can use .union or \\|\n"
      ],
      "id": "3e3e18eb"
    },
    {
      "cell_type": "code",
      "metadata": {},
      "source": [
        "d = {4,5,6,8}\n",
        "e = {9,0,3}\n",
        "\n",
        "d.union(e)\n",
        "\n",
        "d|e"
      ],
      "id": "08d1502a",
      "execution_count": null,
      "outputs": []
    },
    {
      "cell_type": "markdown",
      "metadata": {},
      "source": [
        "[Commonly use set methods reference:]{.underline}\n",
        "\n",
        "[https://www.geeksforgeeks.org/python-Commonly used set methods-methods/](https://www.geeksforgeeks.org/python-set-methods/ \"Commonly used set methods\")\n",
        "\n",
        "#### Built-In Sequence Functions\n",
        "\n",
        "-   useful functions that can and should be used when you get a chance\n",
        "\n",
        "#### enumerate\n",
        "\n",
        "-   When iterating and you want to keep track of an index/count you can use enumerate\n"
      ],
      "id": "3e48d009"
    },
    {
      "cell_type": "code",
      "metadata": {
        "md-indent": "    "
      },
      "source": [
        "for index,value in enumerate(d):\n",
        "  print(f'{index}:{value}')"
      ],
      "id": "485bc0a0",
      "execution_count": null,
      "outputs": []
    },
    {
      "cell_type": "markdown",
      "metadata": {},
      "source": [
        "#### sorted\n",
        "\n",
        "-   returns a new sorted list from input sequence\n"
      ],
      "id": "d5ea43b3"
    },
    {
      "cell_type": "code",
      "metadata": {
        "md-indent": "    "
      },
      "source": [
        "sorted(\"Baylor College of Medicine\")"
      ],
      "id": "ffcb779a",
      "execution_count": null,
      "outputs": []
    },
    {
      "cell_type": "markdown",
      "metadata": {},
      "source": [
        "#### zip\n",
        "\n",
        "-   creates pairs of items from a group of lists, tuples, or sequences\n"
      ],
      "id": "7ea896b7"
    },
    {
      "cell_type": "code",
      "metadata": {},
      "source": [
        "item1 = [\"goodmorning\", \"hello\", \"goodbye\"]\n",
        "item2= [\"goodnight\", \"world\", \"friend\"]\n",
        "\n",
        "zipitems = zip(item1,item2)\n",
        "\n",
        "list(zipitems)"
      ],
      "id": "953a2e11",
      "execution_count": null,
      "outputs": []
    },
    {
      "cell_type": "markdown",
      "metadata": {},
      "source": [
        "-   A common use of zip is to combine it with enumerate to iterate multiples items\n"
      ],
      "id": "d32d6a29"
    },
    {
      "cell_type": "code",
      "metadata": {
        "md-indent": "    "
      },
      "source": [
        "item1 = [\"goodmorning\", \"hello\", \"goodbye\"]\n",
        "item2= [\"goodnight\", \"world\", \"friend\"]\n",
        "\n",
        "for index, (a,b) in enumerate(zip(item1, item2)):\n",
        "    print(f\"{index}: {a},{b}\")"
      ],
      "id": "fedfee0c",
      "execution_count": null,
      "outputs": []
    },
    {
      "cell_type": "markdown",
      "metadata": {},
      "source": [
        "#### reversed\n",
        "\n",
        "-   iterates over a sequence of items in reverse order\n"
      ],
      "id": "21664f27"
    },
    {
      "cell_type": "code",
      "metadata": {},
      "source": [
        "list(reversed(\"Baylor College of Medicine\"))"
      ],
      "id": "9a06fc0e",
      "execution_count": null,
      "outputs": []
    },
    {
      "cell_type": "markdown",
      "metadata": {},
      "source": [
        "### List, Set and Dictionary Comprehensions\n",
        "\n",
        "-   List comprehensions are widely used in Python programming\n",
        "\n",
        "-   Allows you to form a new list by filtering items of another collection, transforming items passing your chosen filter/conditions into one new expression\n",
        "\n",
        "    -   Their basic form is : \\[*expression* for value in collection if *condition*\\]\n",
        "\n",
        "-   An equivalent for loop is as follows:\n",
        "\n",
        "    result = \\[\\]\n",
        "\n",
        "    for value in collection:\n",
        "\n",
        "    if condition:\n",
        "\n",
        "    result.append(expression)\n",
        "\n",
        "-   Let's filter out cities that begin with A and if they begin with A capitalize the entire city name of a list\n",
        "\n",
        "-   The same technique can be used with dictionaries and sets.\n"
      ],
      "id": "24d0499b"
    },
    {
      "cell_type": "code",
      "metadata": {},
      "source": [
        "#list comprehension\n",
        "\n",
        "cities =[\"Adline\", \"Calhoun\", \"Rushing\", \"Alvin\"]\n",
        "\n",
        "[x.upper() for x in cities if x.startswith(\"A\")]\n"
      ],
      "id": "70461ea9",
      "execution_count": null,
      "outputs": []
    },
    {
      "cell_type": "markdown",
      "metadata": {},
      "source": [
        "### Nested List Comprehensions\n",
        "\n",
        "-   Sometimes data or statistics are listed within a list or nested and it is important to know how to extract the information most important to your project.\n"
      ],
      "id": "2ee8032f"
    },
    {
      "cell_type": "code",
      "metadata": {
        "md-indent": "    "
      },
      "source": [
        "NestedData = [[\"condition\",\"pvalue\", \"coef\"],[\"Blood Pressure\",\".0004\", \"6.89\"]]\n",
        "\n",
        "Condition = []\n"
      ],
      "id": "e7c990fc",
      "execution_count": null,
      "outputs": []
    }
  ],
  "metadata": {
    "kernelspec": {
      "name": "python3",
      "language": "python",
      "display_name": "Python 3 (ipykernel)"
    }
  },
  "nbformat": 4,
  "nbformat_minor": 5
}
