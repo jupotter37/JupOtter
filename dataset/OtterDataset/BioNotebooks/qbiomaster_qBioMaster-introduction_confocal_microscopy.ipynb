{
 "cells": [
  {
   "cell_type": "markdown",
   "metadata": {},
   "source": [
    "# Confocal microscopy construct\n",
    "\n",
    "## aims\n",
    "\n",
    "In this tutorial you will \n",
    "1. Read tutorials on confocal microscopy\n",
    "2. Answer questionnaire\n",
    "3.  `advanced` Run module on improvement on depth sectionning\n",
    "4.  `advanced` Run module on characterization of resolution \n",
    "5. Further reading\n",
    "\n",
    "## warnings \n",
    "\n",
    "Make sure MPLBACKEND is not defined as `agg` otherwise you will see no graphical output!\n",
    "To make sure of this, run the following command before invoking `jupyter lab`:\n",
    "\n",
    "```sh\n",
    "export MPLBACKEND=\n",
    "```\n",
    "\n",
    "\n",
    "## credits\n",
    "\n",
    "Marcelo Nollmann, June 2021\n"
   ]
  },
  {
   "cell_type": "markdown",
   "metadata": {},
   "source": [
    "### 0 - Preliminary reading\n",
    "\n",
    "Make sure you are confortable with the following concepts, otherwise follow the link.\n",
    "\n",
    "- [the microscope optical path](https://www.microscopyu.com/microscopy-basics/components)\n",
    "- [depth of field](https://www.microscopyu.com/microscopy-basics/depth-of-field-and-depth-of-focus)\n",
    "- [numerical aperture](https://www.microscopyu.com/microscopy-basics/numerical-aperture)\n"
   ]
  },
  {
   "cell_type": "markdown",
   "metadata": {},
   "source": [
    "### 1- Confocal microscopy resources\n",
    "\n",
    "In this part, you should read a basic tutorial on confocal microscopies. There are standard sources that you can follow for this:\n",
    "\n",
    "- [Olympus tutorial](https://www.olympus-lifescience.com/en/microscope-resource/primer/techniques/confocal/confocalintro/)\n",
    "- [Nikon Microscopy U](https://www.microscopyu.com/techniques/confocal/introductory-confocal-concepts)\n"
   ]
  },
  {
   "cell_type": "markdown",
   "metadata": {},
   "source": [
    "### 2- Questionnaire\n",
    "\n",
    "Plase answer the following questions\n",
    "- Explain the concept of fluorescence in the context of confocal microscopy. Why is fluorescence often used in confocal imaging?\n",
    "- What are the main elements of a confocal microscope?\n",
    "- Does confocal microscope enhance a resolution? What are its advantages?\n",
    "- How does it achieve optical sectioning?\n",
    "- How can you tune the depth of field in a confocal microscope?\n",
    "- What is the importance of laser scanning in confocal microscopy? How does it contribute to image acquisition?\n",
    "- Explain the concept of Z-stack imaging in confocal microscopy. Why is it useful, and how is it accomplished?\n",
    "- What is photobleaching, and how does it affect confocal microscopy? What strategies can be employed to minimize photobleaching during imaging?\n",
    "- Discuss the applications of confocal microscopy in biological research. Provide specific examples of studies or experiments where confocal microscopy has been instrumental.\n",
    "- Discuss the challenges and potential artifacts associated with confocal microscopy. How can researchers address and minimize these issues?\n",
    "\n",
    "**Advanced**\n",
    "- Explain the concept of fluorescence recovery after photobleaching (FRAP) and its applications in cell biology. How can confocal microscopy be used to perform FRAP experiments?\n",
    "\n"
   ]
  },
  {
   "cell_type": "markdown",
   "metadata": {},
   "source": [
    "### 3- `Advanced` Calculate improvement on depth sectioning\n"
   ]
  },
  {
   "cell_type": "code",
   "execution_count": 1,
   "metadata": {},
   "outputs": [
    {
     "name": "stdout",
     "output_type": "stream",
     "text": [
      "Number of planes read: 60\n"
     ]
    }
   ],
   "source": [
    "# Load widefield and confocal images of diffraction-limited spots\n",
    "\n",
    "from skimage import io\n",
    "import matplotlib.pyplot as plt\n",
    "import numpy as np\n",
    "\n",
    "def read_images():\n",
    "    \n",
    "    fileName_widefield = 'data/Image_sources_3D.tif'\n",
    "    data_widefield = io.imread(fileName).squeeze()\n",
    "    print(\"Number of widefield planes read: {}\".format(data_widefield.shape[0]))\n",
    "\n",
    "    fileName_confocal = 'data/XXX.tif'\n",
    "    data_confocal = io.imread(fileName).squeeze()\n",
    "    print(\"Number of confocal planes read: {}\".format(data_confocal.shape[0]))\n",
    "\n",
    "    images = [data_widefield,data_confocal]\n",
    "    return images\n",
    "\n",
    "images = read_images()\n",
    "\n",
    "# define ROI in 3D containing a diffraction-limited spot\n",
    "\n",
    "# Calculate the z-profile \n",
    "\n"
   ]
  },
  {
   "cell_type": "code",
   "execution_count": null,
   "metadata": {},
   "outputs": [],
   "source": [
    "# Load confocal image of diffraction-limited spots\n",
    "\n",
    "from skimage import io\n",
    "import matplotlib.pyplot as plt\n",
    "import numpy as np\n",
    "\n",
    "fileName = 'data/XXX'\n",
    "data = io.imread(fileName).squeeze()\n",
    "print(\"Number of planes read: {}\".format(data.shape[0]))\n",
    "\n",
    "# define ROI in 3D containing a diffraction-limited spot\n",
    "\n",
    "# Calculate the z-profile \n"
   ]
  },
  {
   "cell_type": "markdown",
   "metadata": {},
   "source": [
    "### 4- `Advanced` Calculate image resolution in 3D \n"
   ]
  },
  {
   "cell_type": "code",
   "execution_count": null,
   "metadata": {},
   "outputs": [],
   "source": [
    "# Load widefield and confocal images of diffraction-limited spots\n",
    "\n",
    "images = read_images()\n",
    "\n",
    "# define ROI in 3D containing a diffraction-limited spot\n",
    "\n",
    "# Calculate the x, y and z-profiles \n",
    "\n",
    "# Fit profiles to gaussian function to estimate resolution\n"
   ]
  },
  {
   "cell_type": "markdown",
   "metadata": {},
   "source": [
    "### 5- More resources\n",
    "\n",
    "Now that you know everything about confocal microscopy, you can read on the following resources that will help you understand when and how confocal microscopy is used in real life!\n",
    "\n",
    "If you did not do the `Advanced` modules, please choose one of these resouces and read it in detail.\n",
    "\n",
    "- [applications of confocal microscopy](https://www.olympus-lifescience.com/en/microscope-resource/primer/techniques/confocal/confocalapplications/)\n",
    "- [Fluorophore co-localization tutorial](https://www.olympus-lifescience.com/en/microscope-resource/primer/java/colocalization/)\n",
    "\n"
   ]
  }
 ],
 "metadata": {
  "kernelspec": {
   "display_name": "Python 3 (ipykernel)",
   "language": "python",
   "name": "python3"
  },
  "language_info": {
   "codemirror_mode": {
    "name": "ipython",
    "version": 3
   },
   "file_extension": ".py",
   "mimetype": "text/x-python",
   "name": "python",
   "nbconvert_exporter": "python",
   "pygments_lexer": "ipython3",
   "version": "3.9.18"
  }
 },
 "nbformat": 4,
 "nbformat_minor": 4
}
