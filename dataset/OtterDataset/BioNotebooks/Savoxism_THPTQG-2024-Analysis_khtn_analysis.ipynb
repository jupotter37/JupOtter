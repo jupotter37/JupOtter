{
 "cells": [
  {
   "cell_type": "code",
   "execution_count": null,
   "metadata": {},
   "outputs": [],
   "source": [
    "import numpy as np\n",
    "import pandas as pd\n",
    "import matplotlib.pyplot as plt\n",
    "from collections import defaultdict"
   ]
  },
  {
   "cell_type": "code",
   "execution_count": null,
   "metadata": {},
   "outputs": [],
   "source": [
    "df = pd.read_csv('datasets/natural_science_students.csv')\n",
    "df.head()"
   ]
  },
  {
   "cell_type": "code",
   "execution_count": null,
   "metadata": {},
   "outputs": [],
   "source": [
    "df.isna().sum()"
   ]
  },
  {
   "cell_type": "markdown",
   "metadata": {},
   "source": [
    "# Top Scorers"
   ]
  },
  {
   "cell_type": "code",
   "execution_count": null,
   "metadata": {},
   "outputs": [],
   "source": [
    "# Initialize scores and combinations\n",
    "math_score = df['math']\n",
    "literature_score = df['literature']\n",
    "english_score = df['english']\n",
    "physics_score = df['physics']\n",
    "chemistry_score = df['chemistry']\n",
    "biology_score = df['biology']\n",
    "\n",
    "combinations = {\n",
    "    'A00': ['math', 'physics', 'chemistry'],\n",
    "    'A01': ['math', 'english', 'physics'],\n",
    "    'D01': ['math', 'english', 'literature'],\n",
    "    'A02': ['math', 'physics', 'biology'],\n",
    "    'B00': ['math', 'biology', 'chemistry']\n",
    "}"
   ]
  },
  {
   "cell_type": "code",
   "execution_count": null,
   "metadata": {},
   "outputs": [],
   "source": [
    "def calculate_statistics(series):\n",
    "    return pd.Series({\n",
    "        'Mean': series.mean(),\n",
    "        'Median': series.median(),\n",
    "        'Mode': series.mode().iloc[0],\n",
    "        'Variance': series.var(),\n",
    "        'Std Dev': series.std(),\n",
    "        'Range': series.max() - series.min(),\n",
    "        'Highest': series.max(),\n",
    "        'Lowest': series.min()\n",
    "    })\n",
    "    \n",
    "# Calculate statistics for each subject\n",
    "subjects = ['math', 'literature', 'english', 'physics', 'chemistry', 'biology']\n",
    "stats_df = df[subjects].apply(calculate_statistics)\n",
    "\n",
    "print(stats_df.T)"
   ]
  },
  {
   "cell_type": "code",
   "execution_count": null,
   "metadata": {},
   "outputs": [],
   "source": [
    "def count_students_with_score(df, subject, score):\n",
    "    # Filter the dataframe to include only students with the specified score\n",
    "    students_with_score = df[df[subject] == score]\n",
    "    \n",
    "    # Count the number of students\n",
    "    count = len(students_with_score)\n",
    "    \n",
    "    return f\"There are {count} students with a score of {score} in {subject.capitalize()}.\"\n",
    "\n",
    "count = count_students_with_score(df, 'math', 9.8)\n",
    "print(count)"
   ]
  },
  {
   "cell_type": "code",
   "execution_count": null,
   "metadata": {},
   "outputs": [],
   "source": [
    "def find_highest_score(df, subject):\n",
    "    # Sort the dataframe by the subject score in descending order\n",
    "    sorted_df = df.sort_values(by=subject, ascending=False)\n",
    "    \n",
    "    # Get the highest score\n",
    "    highest_score = sorted_df[subject].iloc[0]\n",
    "    \n",
    "    # Filter the dataframe to include only students with the highest score\n",
    "    highest_scorers = sorted_df[sorted_df[subject] == highest_score]\n",
    "    \n",
    "    return highest_scorers\n",
    "\n",
    "top_literature_students = find_highest_score(df, 'math')\n",
    "print(top_literature_students)"
   ]
  },
  {
   "cell_type": "code",
   "execution_count": null,
   "metadata": {},
   "outputs": [],
   "source": [
    "def calculate_score(row, combination):\n",
    "    return sum(row[subject] for subject in combination)\n",
    "\n",
    "def rank_students(df, combination):\n",
    "    # Check if all required columns are present\n",
    "    missing_columns = [col for col in combination if col not in df.columns]\n",
    "    if missing_columns:\n",
    "        raise ValueError(f\"Missing columns in DataFrame: {missing_columns}\")\n",
    "    \n",
    "    df['score'] = df.apply(lambda row: calculate_score(row, combination), axis=1)\n",
    "    df['rank'] = df['score'].rank(method='min', ascending=False)\n",
    "    \n",
    "    # Count students with the same rank\n",
    "    rank_count = defaultdict(int)\n",
    "    for rank in df['rank']:\n",
    "        rank_count[rank] += 1\n",
    "    \n",
    "    rankings = df[['student_id', 'rank']].set_index('student_id')['rank'].to_dict()\n",
    "    return rankings, rank_count\n",
    "\n",
    "def get_student_rank(student_id, combination_code):\\\n",
    "    # Check if the combination code is valid\n",
    "    if combination_code not in combinations:\n",
    "        return f\"Invalid combination code: {combination_code}. Available codes are: {list(combinations.keys())}\"\n",
    "    \n",
    "    combination = combinations[combination_code]\n",
    "    \n",
    "    try:\n",
    "        rankings, rank_count = rank_students(df, combination)\n",
    "        \n",
    "        # Convert student_id to the same type as in the rankings\n",
    "        converted_student_id = type(list(rankings.keys())[0])(student_id)\n",
    "        \n",
    "        if converted_student_id in rankings:\n",
    "            student_rank = int(rankings[converted_student_id])\n",
    "            students_with_same_rank = rank_count[student_rank]\n",
    "            return f\"Your rank for combination {combination_code} is: {student_rank}. \" \\\n",
    "                   f\"There are {students_with_same_rank} student(s) with the same rank as you.\"\n",
    "        else:\n",
    "            return f\"Student ID {student_id} not found. Available IDs: {list(rankings.keys())[:5]}...\"\n",
    "    except Exception as e:\n",
    "        return f\"An error occurred: {str(e)}\"\n",
    "print(get_student_rank('2005436', 'A01'))"
   ]
  },
  {
   "cell_type": "markdown",
   "metadata": {},
   "source": [
    "# Scores Breakdown by Subjects"
   ]
  },
  {
   "cell_type": "code",
   "execution_count": null,
   "metadata": {},
   "outputs": [],
   "source": [
    "def plot_subject_histogram(scores, subject):\n",
    "    plt.figure(figsize=(12, 8))\n",
    "    \n",
    "    # Determine the interval based on the subject\n",
    "    if subject.lower() in ['math', 'english']:\n",
    "        interval = 0.2\n",
    "    else:\n",
    "        interval = 0.25\n",
    "    \n",
    "    # Round scores to nearest interval to address floating-point imprecision\n",
    "    rounded_scores = np.round(scores / interval) * interval\n",
    "    \n",
    "    # Create bins with a slightly larger range to ensure all data points are included\n",
    "    bins = np.arange(0, 10.01 + interval, interval)\n",
    "    \n",
    "    # Create histogram with custom bins\n",
    "    counts, bins, patches = plt.hist(rounded_scores, bins=bins, edgecolor='black', align='left')\n",
    "    \n",
    "    # Add count labels above each bar\n",
    "    for i in range(len(counts)):\n",
    "        if counts[i] > 0:\n",
    "            plt.text(bins[i], counts[i] + 500, f'{int(counts[i])}', \n",
    "                     ha='center', va='bottom', rotation=90)\n",
    "    \n",
    "    plt.title(f'Histogram of {subject.capitalize()} Scores', fontsize=16)\n",
    "    plt.xlabel('Score', fontsize=12)\n",
    "    plt.ylabel('Frequency', fontsize=12)\n",
    "    plt.xlim(0, 10)\n",
    "    plt.ylim(0, max(counts) * 1.3)  # Extend y-axis to make room for vertical labels\n",
    "    \n",
    "    # Set x-axis ticks to show all intervals\n",
    "    plt.xticks(np.arange(0, 10.01, interval), rotation=90, ha='center')\n",
    "    \n",
    "    # Adjust layout to prevent cutting off labels\n",
    "    plt.tight_layout()\n",
    "    \n",
    "    # Add grid lines\n",
    "    plt.grid(True, alpha=0.3)\n",
    "    plt.grid(which='minor', alpha=0.2)\n",
    "    \n",
    "    plt.show()"
   ]
  },
  {
   "cell_type": "code",
   "execution_count": null,
   "metadata": {},
   "outputs": [],
   "source": [
    "plot_subject_histogram(math_score, 'math')"
   ]
  },
  {
   "cell_type": "code",
   "execution_count": null,
   "metadata": {},
   "outputs": [],
   "source": [
    "plot_subject_histogram(literature_score, 'literature')"
   ]
  },
  {
   "cell_type": "code",
   "execution_count": null,
   "metadata": {},
   "outputs": [],
   "source": [
    "plot_subject_histogram(english_score, 'english')"
   ]
  },
  {
   "cell_type": "code",
   "execution_count": null,
   "metadata": {},
   "outputs": [],
   "source": [
    "plot_subject_histogram(physics_score, 'physics')"
   ]
  },
  {
   "cell_type": "code",
   "execution_count": null,
   "metadata": {},
   "outputs": [],
   "source": [
    "plot_subject_histogram(chemistry_score, 'chemistry')"
   ]
  },
  {
   "cell_type": "code",
   "execution_count": null,
   "metadata": {},
   "outputs": [],
   "source": [
    "plot_subject_histogram(biology_score, 'biology')"
   ]
  },
  {
   "cell_type": "markdown",
   "metadata": {},
   "source": [
    "# Scores Breadown by Combinations"
   ]
  },
  {
   "cell_type": "code",
   "execution_count": null,
   "metadata": {},
   "outputs": [],
   "source": [
    "def plot_combination_histogram(x1, x2, x3, subject1, subject2, subject3):\n",
    "    plt.figure(figsize=(15, 10))\n",
    "    \n",
    "    # Calculate the sum of scores for each student\n",
    "    combined_scores = x1 + x2 + x3\n",
    "    \n",
    "    # Set the interval for bars to 0.2\n",
    "    bar_interval = 0.2\n",
    "    \n",
    "    # Round scores to nearest bar interval to address floating-point imprecision\n",
    "    rounded_scores = np.round(combined_scores / bar_interval) * bar_interval\n",
    "    \n",
    "    # Create bins with a slightly larger range to ensure all data points are included\n",
    "    max_possible_score = 30  # 10 points max per subject, 3 subjects\n",
    "    bins = np.arange(0, max_possible_score + bar_interval, bar_interval)\n",
    "    \n",
    "    # Create histogram with custom bins\n",
    "    counts, bins, patches = plt.hist(rounded_scores, bins=bins, edgecolor='black', align='left')\n",
    "    \n",
    "    # Add count labels above each bar, vertically\n",
    "    for i in range(len(counts)):\n",
    "        if counts[i] > 0:\n",
    "            plt.text(bins[i], counts[i] + 250, str(int(counts[i])), \n",
    "                     ha='center', va='bottom', rotation=90)\n",
    "    \n",
    "    plt.title(f'Histogram of Combined {subject1.capitalize()}, {subject2.capitalize()}, and {subject3.capitalize()} Scores', fontsize=16)\n",
    "    plt.xlabel('Combined Score', fontsize=12)\n",
    "    plt.ylabel('Frequency', fontsize=12)\n",
    "    plt.xlim(0, max_possible_score)\n",
    "    plt.ylim(0, max(counts) * 1.3)  # Extend y-axis to make room for vertical labels\n",
    "    \n",
    "    # Set x-axis ticks to show intervals of 0.5\n",
    "    label_interval = 0.5\n",
    "    x_ticks = np.arange(0, max_possible_score + label_interval, label_interval)\n",
    "    plt.xticks(x_ticks, rotation=45, ha='right')\n",
    "    \n",
    "    # Adjust layout to prevent cutting off labels\n",
    "    plt.tight_layout()\n",
    "    \n",
    "    # Add grid lines\n",
    "    plt.grid(True, alpha=0.3)\n",
    "    plt.grid(which='minor', alpha=0.2)\n",
    "    \n",
    "    plt.show()"
   ]
  },
  {
   "cell_type": "code",
   "execution_count": null,
   "metadata": {},
   "outputs": [],
   "source": [
    "a00_combination = plot_combination_histogram(math_score, physics_score, chemistry_score, 'math', 'physics', 'chemistry')"
   ]
  },
  {
   "cell_type": "code",
   "execution_count": null,
   "metadata": {},
   "outputs": [],
   "source": [
    "a01_combination = plot_combination_histogram(math_score, physics_score, english_score, 'math', 'physics', 'english')"
   ]
  },
  {
   "cell_type": "code",
   "execution_count": null,
   "metadata": {},
   "outputs": [],
   "source": [
    "b00_combination = plot_combination_histogram(math_score, biology_score, chemistry_score, 'math', 'biology', 'chemistry')"
   ]
  },
  {
   "cell_type": "code",
   "execution_count": null,
   "metadata": {},
   "outputs": [],
   "source": [
    "d01_combination = plot_combination_histogram(math_score, literature_score, english_score, 'math', 'literature', 'english')"
   ]
  },
  {
   "cell_type": "markdown",
   "metadata": {},
   "source": [
    "# That's the end!"
   ]
  }
 ],
 "metadata": {
  "kernelspec": {
   "display_name": "Python 3",
   "language": "python",
   "name": "python3"
  },
  "language_info": {
   "codemirror_mode": {
    "name": "ipython",
    "version": 3
   },
   "file_extension": ".py",
   "mimetype": "text/x-python",
   "name": "python",
   "nbconvert_exporter": "python",
   "pygments_lexer": "ipython3",
   "version": "3.12.3"
  }
 },
 "nbformat": 4,
 "nbformat_minor": 2
}
