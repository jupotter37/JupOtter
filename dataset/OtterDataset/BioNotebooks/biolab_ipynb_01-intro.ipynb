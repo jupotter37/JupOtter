{
 "cells": [
  {
   "cell_type": "markdown",
   "metadata": {},
   "source": [
    "**Introduction to Bioinformatics**<br>\n",
    "A masters course by Blaž Zupan and Tomaž Curk<br>\n",
    "University of Ljubljana (C) 2018\n",
    "\n",
    "Disclaimer: this work is a first draft of our working notes. The images were obtained from various web sites, but mainly from the wikipedia entries with explanations of different biological entities. Material is intended for our 201I 8 class and is not meant for distribution.\n",
    "\n",
    "## Lecture Notes Part 1\n",
    "# Computer Scientist's Introduction to Molecular Biology\n"
   ]
  },
  {
   "cell_type": "markdown",
   "metadata": {},
   "source": [
    "[Bioinformatics](https://en.wikipedia.org/wiki/Bioinformatics) is about application of methods from computer science to help us understand biology. With it, we try to understand life and processes that makes us alive. In the past couple of decades, biologists have invented tools and technologies that can measure many different aspects of biology and dissect the living units of life at the molecular level. This data should help us to understand life at its very basic, molecular level, and to integrate this understanding all the way up to the level of the organisms. As computer engineer, you probably know that data requires storage, representation, and then algorithms for the analysis and visualisation and support of interpretation. In the view of the lecturers of this course, bioinformatics will be viewed as a tool for data analysis, and the course will be about methods support of biologists to gain understanding of their data that they can today collect in abundance."
   ]
  },
  {
   "cell_type": "markdown",
   "metadata": {},
   "source": [
    "### The Cell\n",
    "We will start by thinking of what makes us alive. Today we know that there are many different types organisms, including animals, plants, fungi and microorganisms. They are all alive because they bear some characteristics that are common to all of them and which are not present in stuff that is not alive. Living organisms can grow, they develop, reproduce, react to the stimuli and maintain their internal state (like, we human, try too keep our body at around 37 degrees Centigrade).\n",
    "\n",
    "Building blocks of life are [cells](https://en.wikipedia.org/wiki/Cell_(biology)). There are organisms where a single cell is all there is (unicellular organisms) and multicellular organisms where the cells cooperate and together form an organism. We, human, are made of $6\\times 10^{13}$ cells. That is 60,000,000,000,000 cells. Compare this to about 300 billion of stars in Milky Way: there are about 200 times more cells in our body than there are stars in the Milky Way. And Milky Way is a quite a big galaxy. Interestingly, though, there are only 200 different types of cells in our body.\n",
    "\n",
    "[Cells die](https://en.wikipedia.org/wiki/Apoptosis). In our body, about 96,000,000 human cells die each minute. The lifespan of cells much depends on their type. White blood cells live for about 13 days. Top layer skin stays with us for a month. The lifespan of red blood cells is 120 days. And liver cells live for about year and a half.\n",
    "\n",
    "We have already mentioned that we can classify organisms based on the number of cells they contain to multicellular and unicellular. Unicellular organisms are particularly interesting to biologists because it may be simpler to investigate a single cell than an organism with myriads of cells. Unicellular organisms can be further split to [eukaryotes](https://en.wikipedia.org/wiki/Eukaryote) and [prokaryotes](https://en.wikipedia.org/wiki/Prokaryote), where the biggest visual (ok, microscopic) difference is in the part of the cell that is [nucleus](https://en.wikipedia.org/wiki/Cell_nucleus). Namely, prokaryotes lack any membrane-bound organelle, a specialized subunit within the cell that carries out a specific function.\n",
    "\n",
    "A typical eukaryotic cell is shown in the figure below. Is this an cell from an animal or a plant? "
   ]
  },
  {
   "cell_type": "markdown",
   "metadata": {},
   "source": [
    "![A cell.](figs/01-cell.png \"A typical eukaryotic cell.\")"
   ]
  },
  {
   "cell_type": "markdown",
   "metadata": {},
   "source": [
    "### What Makes the Cell?\n",
    "Well, many things. But mainly water (about 70%) and [proteins](https://en.wikipedia.org/wiki/Protein) (20%). Proteins are large biomolecules that are typically composed of thousands or more of atoms. They are building blocks of cells, or speed-up (catalyze) chemical reactions, or form membranes. The rest (10%) are small molecules that include sugars, fatty acids, signal transmission molecules, and molecules that are sources of energy or are used to store energy. For bioinformatics, it is the proteins that we will be most interested in, and is actually the proteins that are the engine of any processes in the cell and that make us alive."
   ]
  },
  {
   "cell_type": "markdown",
   "metadata": {},
   "source": [
    "### Proteins\n",
    "Proteins are large molecules and are chains of [amino acids](https://en.wikipedia.org/wiki/Amino_acid). For a start, consider insulin, a hormone that promotes absorption of glucose from the blood into fat, liver and skeletal muscle cells. Human [insulin](https://en.wikipedia.org/wiki/Insulin) is composed of 51 amino acids. The following image depicts the secondary structure of human insulin."
   ]
  },
  {
   "cell_type": "markdown",
   "metadata": {},
   "source": [
    "![Insulin secondary structure.](figs/01-insulin-chain.png \"Insulin secondary structure.\")"
   ]
  },
  {
   "cell_type": "markdown",
   "metadata": {},
   "source": [
    "Secondary structure of the protein provides (only) a sequence of aminoacids that compose this molecule. In this depiction, aminoacids are marked with circles that contain a three-letter abbreviation. The insulin chain, for example, starts with Met, which is abbreviation for methionine. Secondary structure of the protein does not tell us how the protein looks like in real life, that is, how does the chain fold in three dimensions. Folding of a protein defines its function. The actual three-dimensional structure of the protein is given by its tertiary structure. Here is how insulin looks like in 3D, where in the depiction the sequences of aminoacids have been abstracted with parts that look like sheets and helices (don't worry about them now)."
   ]
  },
  {
   "cell_type": "markdown",
   "metadata": {},
   "source": [
    "![](figs/01-insulin-3d.png \"Insulin tertiary structure.\")"
   ]
  },
  {
   "cell_type": "markdown",
   "metadata": {},
   "source": [
    "One more example: a [leptin](https://en.wikipedia.org/wiki/Leptin). Leptin is a hormone that helps to regulate energy balance by inhibiting hunger. Made of 167 aminoacids, its tertiary structure is shown below."
   ]
  },
  {
   "cell_type": "markdown",
   "metadata": {},
   "source": [
    "![](figs/01-leptin.png \"Leptin.\")"
   ]
  },
  {
   "cell_type": "markdown",
   "metadata": {},
   "source": [
    "Lack of leptin leads to overweight. Molecular biologists have studies this on various model organisms, including mice."
   ]
  },
  {
   "cell_type": "markdown",
   "metadata": {},
   "source": [
    "![](figs/01-fat-mice.png \"Mice model and lack of leptin.\")"
   ]
  },
  {
   "cell_type": "markdown",
   "metadata": {},
   "source": [
    "Protein three-dimensional structures are often quite amazing. Consider [chaperonins](https://en.wikipedia.org/wiki/Chaperonin), a class of protein that provide favourable conditions for the correct folding of other proteins. Here is rendering that shows how they look like:"
   ]
  },
  {
   "cell_type": "markdown",
   "metadata": {},
   "source": [
    "![](figs/01-chaperonin.png \"Chaperonin.\")"
   ]
  },
  {
   "cell_type": "markdown",
   "metadata": {},
   "source": [
    "## Aminoacids\n",
    "\n",
    "We talked about chains of aminoacids, but actually never said what they are. Now is the time. Amino acid is a simple organic compound containing both a carboxylic acid (-COOH) and an amino (-NH2) group. Plus a side chain. Here is their chemical structure:"
   ]
  },
  {
   "cell_type": "markdown",
   "metadata": {},
   "source": [
    "![](figs/01-amino-acid.png \"Amino acid.\")"
   ]
  },
  {
   "cell_type": "markdown",
   "metadata": {},
   "source": [
    "It is the side chain that defines the amino acid. About 500 amino acids are known, though only twenty appear in living organisms (which is not entirely true; biology is full of exceptions but this is not the right time to bother with them). Some side chains are quite simple. Say, a side chain for amino acid called [glycine](https://en.wikipedia.org/wiki/Glycine) is just a single hydrogen atom. Here are all the twenty side chains and the names of their corresponding amino acids."
   ]
  },
  {
   "cell_type": "markdown",
   "metadata": {},
   "source": [
    "![](figs/01-side-chains.png \"Amino acid side chains.\")"
   ]
  },
  {
   "cell_type": "markdown",
   "metadata": {},
   "source": [
    "Proteins are chains of amino acids. They are actually made by stitching amino acids together, in a row, one by one. The process is called [polymerization](https://en.wikipedia.org/wiki/Polymerization), a condensation reaction where two amino acids are stitched together via a peptide bond between nitrogen and carbon. Here is a graphical depiction of the process. "
   ]
  },
  {
   "cell_type": "markdown",
   "metadata": {},
   "source": [
    "![](figs/01-polymerization.png \"Polymerization.\")"
   ]
  },
  {
   "cell_type": "markdown",
   "metadata": {},
   "source": [
    "## A Cell as an Energy Factory\n",
    "\n",
    "To dive a bit deeper in trying to understand what is the role of proteins in the cell, consider [glycolysis](https://en.wikipedia.org/wiki/Glycolysis). This is one of the essential processes and occurs in nearly all organisms. It starts with a glucose which is converted to a simpler molecule, pyruvate in a sequnce of ten enzyme-catalyzed reactions. The free energy released in this process is stored in high-energy compounds called [ATP](https://en.wikipedia.org/wiki/Adenosine_triphosphate) (adenosine triphosphate) and NADH (reduced nicotinamide adenine dinucleotide). To simplify, glycolysis converts sugar into energy that is stored in the cell. Following is the schematic presentation of reactions that take place."
   ]
  },
  {
   "cell_type": "markdown",
   "metadata": {},
   "source": [
    "![](figs/01-glycolysis.png \"Glycolysis.\")"
   ]
  },
  {
   "cell_type": "markdown",
   "metadata": {},
   "source": [
    "Chemicals (like glucose, fructose 6-phosphate and others) that are an entry, a final, or intermediate products of the chemical reactions are called metabolites. Glycolysis is then a metabolic pathway. All the reactions in glycolysis are catalyzed by enzymes - proteins, that push the reaction which without them would not take place. Proteins in this pathway (and elsewhere) have strange names that for computer scientists are almost impossible to remember. Say, to convert glucose 6-phosphate to fructose 6-phosphate the reaction involves an enzyme called phosphofructo kinase. Luckily, we will not need to remember any of these, but it is at this stage essential to know that almost no reaction in living organisms would take place without the proteins. Proteins are therefore essential part of the metabolic pathways, and these are what makes the cells alive."
   ]
  },
  {
   "cell_type": "markdown",
   "metadata": {},
   "source": [
    "Just for a taste, here is how [hexokinase](https://en.wikipedia.org/wiki/Hexokinase) looks like (find it in glycosylation pathway, what does it do?). It consists of 617 aminoacids!"
   ]
  },
  {
   "cell_type": "markdown",
   "metadata": {},
   "source": [
    "![](figs/01-hexokinase.png \"Hexokinase.\")"
   ]
  },
  {
   "cell_type": "markdown",
   "metadata": {},
   "source": [
    "## Some More Surprising Facts\n",
    "\n",
    "The size of a typical protein is 5 nm. The size of a typical eukaryotic cell is 500 µm. The diameter of the cell is about 10,000 times bigger in diameter than the average protein. How does that relate to the volume? In any case, there are about one billion protein molecules in each cell, that is, 1,000,000,000 protein molecules. Wow!\n",
    "\n",
    "Here is more: there are overall about two million different proteins in human organism. The longest one is a chain of 27,000 aminoacids."
   ]
  },
  {
   "cell_type": "markdown",
   "metadata": {},
   "source": [
    "## A Puzzle\n",
    "\n",
    "Ok, so we have quite many proteins in each cell. They are there, do some work, and stay there and nothing changes. This is nicely supported by the biology we have learned in the highschool where it was said that the enzymes are not wasted in the reactions. So, the enzymes and the rest of the protein are just there forever. Right?\n",
    "\n",
    "Wrong. The proteins have their lifespan. They do not last forever. They degrade. In a matter of hours. Here's the abstract of the publication where they have measured degradation rates (half-lives) for rat enzymes:"
   ]
  },
  {
   "cell_type": "markdown",
   "metadata": {},
   "source": [
    "![](figs/01-degradation-rates.png \"Protein degradation rates.\")"
   ]
  },
  {
   "cell_type": "markdown",
   "metadata": {},
   "source": [
    "So now we know that there are many proteins in the cells. They do not last for very long. Somebody has to make them. Who? Where? Is there a factory for each of the two million different proteins. Or is there a single factory that makes the proteins according to some given recipe. But then, where is the recipe?"
   ]
  },
  {
   "cell_type": "markdown",
   "metadata": {},
   "source": [
    "## The Central Dogma of Molecular Biology\n",
    "\n",
    "The answer to above question, in brief (took scientists ages and numerous Nobel Price awards to figure this out): the recipes for all the proteins that take part in our lives are stored in a long molecule called [DNA](https://en.wikipedia.org/wiki/DNA), deoxyribonucleic acid. In eukaryotes, DNA is tightly packed and stored in the nucleus of the cell. DNA comes in the form of a double helix, with two complementary strands. Each strand is a chain of a [nucleotides](https://en.wikipedia.org/wiki/Nucleotide) that are fixed to a sugar backbone stitched together via phosphate bounds."
   ]
  },
  {
   "cell_type": "markdown",
   "metadata": {},
   "source": [
    "![](figs/01-dna-in-close.png \"Components and bonds in the DNA.\")"
   ]
  },
  {
   "cell_type": "markdown",
   "metadata": {},
   "source": [
    "There are only four different nucleotides, cytosine (C), guanine (G), adenine (A), or thymine (T). Across the strands, thymine can make hydrogen bound with adenine, and cytosine with guanine. The strands are therefore complementary and carry, at least when considering only the sequence of the nucleotides, identical information."
   ]
  },
  {
   "cell_type": "markdown",
   "metadata": {},
   "source": [
    "![](figs/01-tacg-bonds.png \"Complementary nucleotides.\")"
   ]
  },
  {
   "cell_type": "markdown",
   "metadata": {},
   "source": [
    "Did we say information? So soon. We were not there yet. But let us rush forward: Proteins are made in the cytoplasm, in factories called ribosomes. DNA, or better, a small subsequence of DNA, that, a part of its chain, has a recipe for the protein. This recipe has first to emerge from the nucleus and then has to arrive to the ribosome. The carrier molecule is called RNA, a ribonucleic acid. To preserve energy and not make too much mess, mother nature figured out that it would be best if only the part of the DNA that encodes for the amino acid sequence that makes the protein is to be copied to RNA. This copying is called transcription. RNA (called messenger RNA for its function) then travels from nucleus to the ribosome, where the sequence of aminoacids is translated into a sequence of proteins."
   ]
  },
  {
   "cell_type": "markdown",
   "metadata": {},
   "source": [
    "![](figs/01-central-dogma.png \"Central dogma.\")"
   ]
  },
  {
   "cell_type": "markdown",
   "metadata": {},
   "source": [
    "There are twenty aminoacids that we need to encode. Encoding language consists of an alphabet of four nucleotides. Obviously, one letter of an alphabet is not sufficient to represent one of twenty aminoacids. We need words. Say that the length of the word is constant (we admit here that this is weird, but it is the most simple solution so in the light of Occam's razor this assumption is perfectly ok). So words. If we would have words made of two nucleotides, they would encode for $4\\times 4$ different aminoacids. Not enough, we have twenty to provide encoding for. So we need at least three-letter words, or a sequence of three nucleotides. And in fact through evolution a language with three-letter words emerged, each word encoding for one of the amino acids. Obviously, there are different words encoding for the same amino acid, as there are $4\\times 4\\times 4=64$ different combinations with a sequence of three nucleotides."
   ]
  },
  {
   "cell_type": "markdown",
   "metadata": {},
   "source": [
    "![](figs/01-code-of-life.png \"Code of life.\")"
   ]
  },
  {
   "cell_type": "markdown",
   "metadata": {
    "collapsed": true
   },
   "source": [
    "This is it for a start in molecular biology. But there are tons of open questions at this point. Just a few more here. Say, where are the parts of the DNA where the encoding information about the proteins located? How does transcription know where to locate this parts? How many of them are in the entire DNA? How long is a DNA, how many nucleotides are there? Is there some other information stored in the DNA? Are all proteins produced all the time? If not, who and how is the process regulated? Enough for today. We should leave something for the rest of the course."
   ]
  },
  {
   "cell_type": "code",
   "execution_count": null,
   "metadata": {
    "collapsed": true
   },
   "outputs": [],
   "source": []
  }
 ],
 "metadata": {
  "kernelspec": {
   "display_name": "Python 3",
   "language": "python",
   "name": "python3"
  },
  "language_info": {
   "codemirror_mode": {
    "name": "ipython",
    "version": 3
   },
   "file_extension": ".py",
   "mimetype": "text/x-python",
   "name": "python",
   "nbconvert_exporter": "python",
   "pygments_lexer": "ipython3",
   "version": "3.6.5"
  }
 },
 "nbformat": 4,
 "nbformat_minor": 1
}
