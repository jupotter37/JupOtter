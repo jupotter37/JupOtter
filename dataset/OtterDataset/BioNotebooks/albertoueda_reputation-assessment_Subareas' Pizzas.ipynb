{
 "cells": [
  {
   "cell_type": "code",
   "execution_count": 185,
   "metadata": {
    "collapsed": false
   },
   "outputs": [
    {
     "name": "stdout",
     "output_type": "stream",
     "text": [
      "Populating the interactive namespace from numpy and matplotlib\n"
     ]
    }
   ],
   "source": [
    "%pylab inline\n",
    "%matplotlib inline\n",
    "\n",
    "import pandas as pd\n",
    "import numpy as np\n",
    "import mmap\n",
    "import time\n",
    "import re\n",
    "\n",
    "import matplotlib.pyplot as plt\n",
    "import matplotlib\n",
    "matplotlib.style.use('ggplot')\n",
    "\n",
    "import cufflinks as cf\n",
    "import plotly.plotly as py\n",
    "py.sign_in('albertoueda', '6yu6572hk6')\n",
    "cf.set_config_file(world_readable=True,offline=False)\n",
    "\n",
    "from unidecode import unidecode\n",
    "UTF8 = 'utf-8'        \n",
    "\n",
    "class Dict(dict):\n",
    "    def __missing__(self, key):\n",
    "            return False\n",
    "\n",
    "#reload(sys)  # Solve the acentos problem, but create the terminal output problem\n",
    "#sys.setdefaultencoding(UTF8)\n",
    "# mypath = '/mnt/hd0/alberto/Dropbox/ufmg-not-code/datasets/dblp/cn-infocom-clusters/' # UFMG\n",
    "# mypath = '/home/alberto/Dropbox/ufmg-not-code/datasets/dblp/cn-infocom-clusters/' # Home"
   ]
  },
  {
   "cell_type": "markdown",
   "metadata": {},
   "source": [
    "# Qualis"
   ]
  },
  {
   "cell_type": "code",
   "execution_count": 258,
   "metadata": {
    "collapsed": false
   },
   "outputs": [
    {
     "data": {
      "text/html": [
       "<div>\n",
       "<table border=\"1\" class=\"dataframe\">\n",
       "  <thead>\n",
       "    <tr style=\"text-align: right;\">\n",
       "      <th></th>\n",
       "      <th>Sigla</th>\n",
       "      <th>Índice-­‐H</th>\n",
       "      <th>Estrato</th>\n",
       "    </tr>\n",
       "  </thead>\n",
       "  <tbody>\n",
       "    <tr>\n",
       "      <th>0</th>\n",
       "      <td>3DIM</td>\n",
       "      <td>29</td>\n",
       "      <td>B1</td>\n",
       "    </tr>\n",
       "    <tr>\n",
       "      <th>1</th>\n",
       "      <td>3DUI</td>\n",
       "      <td>18</td>\n",
       "      <td>B2</td>\n",
       "    </tr>\n",
       "    <tr>\n",
       "      <th>2</th>\n",
       "      <td>3PGCIC</td>\n",
       "      <td>4</td>\n",
       "      <td>B4</td>\n",
       "    </tr>\n",
       "    <tr>\n",
       "      <th>3</th>\n",
       "      <td>AAAI</td>\n",
       "      <td>93</td>\n",
       "      <td>A1</td>\n",
       "    </tr>\n",
       "    <tr>\n",
       "      <th>4</th>\n",
       "      <td>AAECC</td>\n",
       "      <td>17</td>\n",
       "      <td>B2</td>\n",
       "    </tr>\n",
       "  </tbody>\n",
       "</table>\n",
       "</div>"
      ],
      "text/plain": [
       "    Sigla  Índice-­‐H Estrato\n",
       "0    3DIM          29      B1\n",
       "1    3DUI          18      B2\n",
       "2  3PGCIC           4      B4\n",
       "3    AAAI          93      A1\n",
       "4   AAECC          17      B2"
      ]
     },
     "execution_count": 258,
     "metadata": {},
     "output_type": "execute_result"
    }
   ],
   "source": [
    "qualis = pd.read_csv('data/qualis-2013-cs-all-venues.csv')\n",
    "qualis.Sigla = qualis.Sigla.str.upper()\n",
    "qualis.head(5)"
   ]
  },
  {
   "cell_type": "markdown",
   "metadata": {},
   "source": [
    "# Information Retrieval"
   ]
  },
  {
   "cell_type": "code",
   "execution_count": 168,
   "metadata": {
    "collapsed": false
   },
   "outputs": [
    {
     "data": {
      "text/html": [
       "<div>\n",
       "<table border=\"1\" class=\"dataframe\">\n",
       "  <thead>\n",
       "    <tr style=\"text-align: right;\">\n",
       "      <th></th>\n",
       "      <th>Conferences</th>\n",
       "      <th>Publications</th>\n",
       "      <th>Citation</th>\n",
       "      <th>Shortname</th>\n",
       "      <th>Name</th>\n",
       "    </tr>\n",
       "  </thead>\n",
       "  <tbody>\n",
       "    <tr>\n",
       "      <th>0</th>\n",
       "      <td>SIGIR - Research and Development in Informatio...</td>\n",
       "      <td>2717</td>\n",
       "      <td>72116</td>\n",
       "      <td>SIGIR</td>\n",
       "      <td>Research and Development in Information Retrieval</td>\n",
       "    </tr>\n",
       "    <tr>\n",
       "      <th>1</th>\n",
       "      <td>CIKM - International Conference on Information...</td>\n",
       "      <td>2636</td>\n",
       "      <td>28621</td>\n",
       "      <td>CIKM</td>\n",
       "      <td>International Conference on Information and Kn...</td>\n",
       "    </tr>\n",
       "    <tr>\n",
       "      <th>2</th>\n",
       "      <td>TREC - Text REtrieval Conference</td>\n",
       "      <td>1433</td>\n",
       "      <td>23782</td>\n",
       "      <td>TREC</td>\n",
       "      <td>Text REtrieval Conference</td>\n",
       "    </tr>\n",
       "    <tr>\n",
       "      <th>3</th>\n",
       "      <td>JCDL - ACM/IEEE Joint Conference on Digital Li...</td>\n",
       "      <td>1269</td>\n",
       "      <td>7203</td>\n",
       "      <td>JCDL</td>\n",
       "      <td>ACM/IEEE Joint Conference on Digital Libraries</td>\n",
       "    </tr>\n",
       "    <tr>\n",
       "      <th>4</th>\n",
       "      <td>DL - Digital Libraries</td>\n",
       "      <td>351</td>\n",
       "      <td>6546</td>\n",
       "      <td>DL</td>\n",
       "      <td>Digital Libraries</td>\n",
       "    </tr>\n",
       "  </tbody>\n",
       "</table>\n",
       "</div>"
      ],
      "text/plain": [
       "                                         Conferences  Publications  Citation  \\\n",
       "0  SIGIR - Research and Development in Informatio...          2717     72116   \n",
       "1  CIKM - International Conference on Information...          2636     28621   \n",
       "2                   TREC - Text REtrieval Conference          1433     23782   \n",
       "3  JCDL - ACM/IEEE Joint Conference on Digital Li...          1269      7203   \n",
       "4                             DL - Digital Libraries           351      6546   \n",
       "\n",
       "  Shortname                                               Name  \n",
       "0     SIGIR  Research and Development in Information Retrieval  \n",
       "1      CIKM  International Conference on Information and Kn...  \n",
       "2      TREC                          Text REtrieval Conference  \n",
       "3      JCDL     ACM/IEEE Joint Conference on Digital Libraries  \n",
       "4        DL                                  Digital Libraries  "
      ]
     },
     "execution_count": 168,
     "metadata": {},
     "output_type": "execute_result"
    }
   ],
   "source": [
    "venues = pd.read_csv('data/cs-ir-conf-all-years.tsv', sep='\\t')\n",
    "venues[['Shortname', 'Name']] = venues.Conferences.str.split(' - ', n=1, expand=True)\n",
    "venues.Shortname = venues.Shortname.str.upper()\n",
    "venues.head()"
   ]
  },
  {
   "cell_type": "code",
   "execution_count": 176,
   "metadata": {
    "collapsed": false
   },
   "outputs": [
    {
     "data": {
      "text/html": [
       "<div>\n",
       "<table border=\"1\" class=\"dataframe\">\n",
       "  <thead>\n",
       "    <tr style=\"text-align: right;\">\n",
       "      <th></th>\n",
       "      <th>Conferences</th>\n",
       "      <th>Publications</th>\n",
       "      <th>Citation</th>\n",
       "      <th>Shortname</th>\n",
       "      <th>Name</th>\n",
       "    </tr>\n",
       "  </thead>\n",
       "  <tbody>\n",
       "    <tr>\n",
       "      <th>5</th>\n",
       "      <td>ECDL - European Conference on Digital Libraries</td>\n",
       "      <td>841</td>\n",
       "      <td>4765</td>\n",
       "      <td>TPDL</td>\n",
       "      <td>Theory and Practice of Digital Libraries (aka ...</td>\n",
       "    </tr>\n",
       "  </tbody>\n",
       "</table>\n",
       "</div>"
      ],
      "text/plain": [
       "                                       Conferences  Publications  Citation  \\\n",
       "5  ECDL - European Conference on Digital Libraries           841      4765   \n",
       "\n",
       "  Shortname                                               Name  \n",
       "5      TPDL  Theory and Practice of Digital Libraries (aka ...  "
      ]
     },
     "execution_count": 176,
     "metadata": {},
     "output_type": "execute_result"
    }
   ],
   "source": [
    "# Specific Assessments\n",
    "venues.loc[venues.Shortname == 'ECDL', ['Shortname', 'Name']] = ['TPDL', 'Theory and Practice of Digital Libraries (aka ECDL)']"
   ]
  },
  {
   "cell_type": "code",
   "execution_count": 264,
   "metadata": {
    "collapsed": false
   },
   "outputs": [
    {
     "data": {
      "text/html": [
       "<div>\n",
       "<table border=\"1\" class=\"dataframe\">\n",
       "  <thead>\n",
       "    <tr style=\"text-align: right;\">\n",
       "      <th></th>\n",
       "      <th>Conferences</th>\n",
       "      <th>Publications</th>\n",
       "      <th>Citation</th>\n",
       "      <th>Shortname</th>\n",
       "      <th>Name</th>\n",
       "      <th>Sigla</th>\n",
       "      <th>Índice-­‐H</th>\n",
       "      <th>Estrato</th>\n",
       "    </tr>\n",
       "  </thead>\n",
       "  <tbody>\n",
       "    <tr>\n",
       "      <th>0</th>\n",
       "      <td>SIGIR - Research and Development in Informatio...</td>\n",
       "      <td>2717</td>\n",
       "      <td>72116</td>\n",
       "      <td>SIGIR</td>\n",
       "      <td>Research and Development in Information Retrieval</td>\n",
       "      <td>SIGIR</td>\n",
       "      <td>122</td>\n",
       "      <td>A1</td>\n",
       "    </tr>\n",
       "    <tr>\n",
       "      <th>1</th>\n",
       "      <td>CIKM - International Conference on Information...</td>\n",
       "      <td>2636</td>\n",
       "      <td>28621</td>\n",
       "      <td>CIKM</td>\n",
       "      <td>International Conference on Information and Kn...</td>\n",
       "      <td>CIKM</td>\n",
       "      <td>85</td>\n",
       "      <td>A1</td>\n",
       "    </tr>\n",
       "    <tr>\n",
       "      <th>2</th>\n",
       "      <td>TREC - Text REtrieval Conference</td>\n",
       "      <td>1433</td>\n",
       "      <td>23782</td>\n",
       "      <td>TREC</td>\n",
       "      <td>Text REtrieval Conference</td>\n",
       "      <td>TREC</td>\n",
       "      <td>51</td>\n",
       "      <td>A2</td>\n",
       "    </tr>\n",
       "    <tr>\n",
       "      <th>3</th>\n",
       "      <td>JCDL - ACM/IEEE Joint Conference on Digital Li...</td>\n",
       "      <td>1269</td>\n",
       "      <td>7203</td>\n",
       "      <td>JCDL</td>\n",
       "      <td>ACM/IEEE Joint Conference on Digital Libraries</td>\n",
       "      <td>JCDL</td>\n",
       "      <td>53</td>\n",
       "      <td>A2</td>\n",
       "    </tr>\n",
       "    <tr>\n",
       "      <th>4</th>\n",
       "      <td>DL - Digital Libraries</td>\n",
       "      <td>351</td>\n",
       "      <td>6546</td>\n",
       "      <td>DL</td>\n",
       "      <td>Digital Libraries</td>\n",
       "      <td>DL</td>\n",
       "      <td>36</td>\n",
       "      <td>B1</td>\n",
       "    </tr>\n",
       "  </tbody>\n",
       "</table>\n",
       "</div>"
      ],
      "text/plain": [
       "                                         Conferences  Publications  Citation  \\\n",
       "0  SIGIR - Research and Development in Informatio...          2717     72116   \n",
       "1  CIKM - International Conference on Information...          2636     28621   \n",
       "2                   TREC - Text REtrieval Conference          1433     23782   \n",
       "3  JCDL - ACM/IEEE Joint Conference on Digital Li...          1269      7203   \n",
       "4                             DL - Digital Libraries           351      6546   \n",
       "\n",
       "  Shortname                                               Name  Sigla  \\\n",
       "0     SIGIR  Research and Development in Information Retrieval  SIGIR   \n",
       "1      CIKM  International Conference on Information and Kn...   CIKM   \n",
       "2      TREC                          Text REtrieval Conference   TREC   \n",
       "3      JCDL     ACM/IEEE Joint Conference on Digital Libraries   JCDL   \n",
       "4        DL                                  Digital Libraries     DL   \n",
       "\n",
       "   Índice-­‐H Estrato  \n",
       "0         122      A1  \n",
       "1          85      A1  \n",
       "2          51      A2  \n",
       "3          53      A2  \n",
       "4          36      B1  "
      ]
     },
     "execution_count": 264,
     "metadata": {},
     "output_type": "execute_result"
    }
   ],
   "source": [
    "v = venues.merge(qualis, left_on='Shortname', right_on='Sigla', how='left')\n",
    "v = v.sort_values(by='Citation', ascending=False)\n",
    "v.head(5)"
   ]
  },
  {
   "cell_type": "code",
   "execution_count": 295,
   "metadata": {
    "collapsed": false
   },
   "outputs": [
    {
     "data": {
      "text/html": [
       "<div>\n",
       "<table border=\"1\" class=\"dataframe\">\n",
       "  <thead>\n",
       "    <tr style=\"text-align: right;\">\n",
       "      <th></th>\n",
       "      <th>Conferences</th>\n",
       "      <th>Publications</th>\n",
       "      <th>Citation</th>\n",
       "      <th>Shortname</th>\n",
       "      <th>Name</th>\n",
       "      <th>Sigla</th>\n",
       "      <th>Índice-­‐H</th>\n",
       "      <th>Estrato</th>\n",
       "      <th>ShortnameQualis</th>\n",
       "    </tr>\n",
       "  </thead>\n",
       "  <tbody>\n",
       "    <tr>\n",
       "      <th>0</th>\n",
       "      <td>SIGIR - Research and Development in Informatio...</td>\n",
       "      <td>2717</td>\n",
       "      <td>72116</td>\n",
       "      <td>SIGIR</td>\n",
       "      <td>Research and Development in Information Retrieval</td>\n",
       "      <td>SIGIR</td>\n",
       "      <td>122</td>\n",
       "      <td>A1</td>\n",
       "      <td>SIGIR (A1)</td>\n",
       "    </tr>\n",
       "    <tr>\n",
       "      <th>1</th>\n",
       "      <td>CIKM - International Conference on Information...</td>\n",
       "      <td>2636</td>\n",
       "      <td>28621</td>\n",
       "      <td>CIKM</td>\n",
       "      <td>International Conference on Information and Kn...</td>\n",
       "      <td>CIKM</td>\n",
       "      <td>85</td>\n",
       "      <td>A1</td>\n",
       "      <td>CIKM (A1)</td>\n",
       "    </tr>\n",
       "    <tr>\n",
       "      <th>2</th>\n",
       "      <td>TREC - Text REtrieval Conference</td>\n",
       "      <td>1433</td>\n",
       "      <td>23782</td>\n",
       "      <td>TREC</td>\n",
       "      <td>Text REtrieval Conference</td>\n",
       "      <td>TREC</td>\n",
       "      <td>51</td>\n",
       "      <td>A2</td>\n",
       "      <td>TREC (A2)</td>\n",
       "    </tr>\n",
       "    <tr>\n",
       "      <th>3</th>\n",
       "      <td>JCDL - ACM/IEEE Joint Conference on Digital Li...</td>\n",
       "      <td>1269</td>\n",
       "      <td>7203</td>\n",
       "      <td>JCDL</td>\n",
       "      <td>ACM/IEEE Joint Conference on Digital Libraries</td>\n",
       "      <td>JCDL</td>\n",
       "      <td>53</td>\n",
       "      <td>A2</td>\n",
       "      <td>JCDL (A2)</td>\n",
       "    </tr>\n",
       "    <tr>\n",
       "      <th>4</th>\n",
       "      <td>DL - Digital Libraries</td>\n",
       "      <td>351</td>\n",
       "      <td>6546</td>\n",
       "      <td>DL</td>\n",
       "      <td>Digital Libraries</td>\n",
       "      <td>DL</td>\n",
       "      <td>36</td>\n",
       "      <td>B1</td>\n",
       "      <td>DL (B1)</td>\n",
       "    </tr>\n",
       "    <tr>\n",
       "      <th>5</th>\n",
       "      <td>ECDL - European Conference on Digital Libraries</td>\n",
       "      <td>841</td>\n",
       "      <td>4765</td>\n",
       "      <td>TPDL</td>\n",
       "      <td>Theory and Practice of Digital Libraries (aka ...</td>\n",
       "      <td>TPDL</td>\n",
       "      <td>34</td>\n",
       "      <td>B1</td>\n",
       "      <td>TPDL (B1)</td>\n",
       "    </tr>\n",
       "    <tr>\n",
       "      <th>6</th>\n",
       "      <td>CLEF - Cross-Language Evaluation Forum</td>\n",
       "      <td>1059</td>\n",
       "      <td>4087</td>\n",
       "      <td>CLEF</td>\n",
       "      <td>Cross-Language Evaluation Forum</td>\n",
       "      <td>CLEF</td>\n",
       "      <td>16</td>\n",
       "      <td>B2</td>\n",
       "      <td>CLEF (B2)</td>\n",
       "    </tr>\n",
       "    <tr>\n",
       "      <th>7</th>\n",
       "      <td>RIAO - Recherche d'Information Assistee par Or...</td>\n",
       "      <td>574</td>\n",
       "      <td>3551</td>\n",
       "      <td>RIAO</td>\n",
       "      <td>Recherche d'Information Assistee par Ordinateur</td>\n",
       "      <td>NaN</td>\n",
       "      <td>NaN</td>\n",
       "      <td>NaN</td>\n",
       "      <td>RIAO</td>\n",
       "    </tr>\n",
       "    <tr>\n",
       "      <th>8</th>\n",
       "      <td>ECIR - European Colloquium on IR Research</td>\n",
       "      <td>686</td>\n",
       "      <td>3548</td>\n",
       "      <td>ECIR</td>\n",
       "      <td>European Colloquium on IR Research</td>\n",
       "      <td>ECIR</td>\n",
       "      <td>39</td>\n",
       "      <td>A2</td>\n",
       "      <td>ECIR (A2)</td>\n",
       "    </tr>\n",
       "    <tr>\n",
       "      <th>9</th>\n",
       "      <td>Multimedia Information Retrieval</td>\n",
       "      <td>248</td>\n",
       "      <td>2847</td>\n",
       "      <td>MULTIMEDIA INFORMATION RETRIEVAL</td>\n",
       "      <td>None</td>\n",
       "      <td>NaN</td>\n",
       "      <td>NaN</td>\n",
       "      <td>NaN</td>\n",
       "      <td>MULTIMEDIA INFORMATION RETRIEVAL</td>\n",
       "    </tr>\n",
       "  </tbody>\n",
       "</table>\n",
       "</div>"
      ],
      "text/plain": [
       "                                         Conferences  Publications  Citation  \\\n",
       "0  SIGIR - Research and Development in Informatio...          2717     72116   \n",
       "1  CIKM - International Conference on Information...          2636     28621   \n",
       "2                   TREC - Text REtrieval Conference          1433     23782   \n",
       "3  JCDL - ACM/IEEE Joint Conference on Digital Li...          1269      7203   \n",
       "4                             DL - Digital Libraries           351      6546   \n",
       "5    ECDL - European Conference on Digital Libraries           841      4765   \n",
       "6             CLEF - Cross-Language Evaluation Forum          1059      4087   \n",
       "7  RIAO - Recherche d'Information Assistee par Or...           574      3551   \n",
       "8          ECIR - European Colloquium on IR Research           686      3548   \n",
       "9                   Multimedia Information Retrieval           248      2847   \n",
       "\n",
       "                          Shortname  \\\n",
       "0                             SIGIR   \n",
       "1                              CIKM   \n",
       "2                              TREC   \n",
       "3                              JCDL   \n",
       "4                                DL   \n",
       "5                              TPDL   \n",
       "6                              CLEF   \n",
       "7                              RIAO   \n",
       "8                              ECIR   \n",
       "9  MULTIMEDIA INFORMATION RETRIEVAL   \n",
       "\n",
       "                                                Name  Sigla  Índice-­‐H  \\\n",
       "0  Research and Development in Information Retrieval  SIGIR         122   \n",
       "1  International Conference on Information and Kn...   CIKM          85   \n",
       "2                          Text REtrieval Conference   TREC          51   \n",
       "3     ACM/IEEE Joint Conference on Digital Libraries   JCDL          53   \n",
       "4                                  Digital Libraries     DL          36   \n",
       "5  Theory and Practice of Digital Libraries (aka ...   TPDL          34   \n",
       "6                    Cross-Language Evaluation Forum   CLEF          16   \n",
       "7    Recherche d'Information Assistee par Ordinateur    NaN         NaN   \n",
       "8                 European Colloquium on IR Research   ECIR          39   \n",
       "9                                               None    NaN         NaN   \n",
       "\n",
       "  Estrato                   ShortnameQualis  \n",
       "0      A1                        SIGIR (A1)  \n",
       "1      A1                         CIKM (A1)  \n",
       "2      A2                         TREC (A2)  \n",
       "3      A2                         JCDL (A2)  \n",
       "4      B1                           DL (B1)  \n",
       "5      B1                         TPDL (B1)  \n",
       "6      B2                         CLEF (B2)  \n",
       "7     NaN                              RIAO  \n",
       "8      A2                         ECIR (A2)  \n",
       "9     NaN  MULTIMEDIA INFORMATION RETRIEVAL  "
      ]
     },
     "execution_count": 295,
     "metadata": {},
     "output_type": "execute_result"
    }
   ],
   "source": [
    "v['ShortnameQualis'] = v.Shortname + ' (' + v.Estrato + ')'\n",
    "v.loc[v['ShortnameQualis'].isnull(), 'ShortnameQualis'] = v['Shortname']"
   ]
  },
  {
   "cell_type": "code",
   "execution_count": 296,
   "metadata": {
    "collapsed": false
   },
   "outputs": [
    {
     "name": "stdout",
     "output_type": "stream",
     "text": [
      "Found 11 of 41 venues\n"
     ]
    }
   ],
   "source": [
    "print('Found', len(v[v.Estrato.notnull()]), 'of', len(venues), 'venues')"
   ]
  },
  {
   "cell_type": "code",
   "execution_count": 297,
   "metadata": {
    "collapsed": false
   },
   "outputs": [
    {
     "data": {
      "text/html": [
       "<div>\n",
       "<table border=\"1\" class=\"dataframe\">\n",
       "  <thead>\n",
       "    <tr style=\"text-align: right;\">\n",
       "      <th></th>\n",
       "      <th>Conferences</th>\n",
       "      <th>Publications</th>\n",
       "      <th>Citation</th>\n",
       "      <th>Shortname</th>\n",
       "      <th>Name</th>\n",
       "      <th>Sigla</th>\n",
       "      <th>Índice-­‐H</th>\n",
       "      <th>Estrato</th>\n",
       "      <th>ShortnameQualis</th>\n",
       "    </tr>\n",
       "  </thead>\n",
       "  <tbody>\n",
       "    <tr>\n",
       "      <th>7</th>\n",
       "      <td>RIAO - Recherche d'Information Assistee par Or...</td>\n",
       "      <td>574</td>\n",
       "      <td>3551</td>\n",
       "      <td>RIAO</td>\n",
       "      <td>Recherche d'Information Assistee par Ordinateur</td>\n",
       "      <td>NaN</td>\n",
       "      <td>NaN</td>\n",
       "      <td>NaN</td>\n",
       "      <td>RIAO</td>\n",
       "    </tr>\n",
       "    <tr>\n",
       "      <th>9</th>\n",
       "      <td>Multimedia Information Retrieval</td>\n",
       "      <td>248</td>\n",
       "      <td>2847</td>\n",
       "      <td>MULTIMEDIA INFORMATION RETRIEVAL</td>\n",
       "      <td>None</td>\n",
       "      <td>NaN</td>\n",
       "      <td>NaN</td>\n",
       "      <td>NaN</td>\n",
       "      <td>MULTIMEDIA INFORMATION RETRIEVAL</td>\n",
       "    </tr>\n",
       "    <tr>\n",
       "      <th>11</th>\n",
       "      <td>Dublin Core Conference</td>\n",
       "      <td>65</td>\n",
       "      <td>1928</td>\n",
       "      <td>DUBLIN CORE CONFERENCE</td>\n",
       "      <td>None</td>\n",
       "      <td>NaN</td>\n",
       "      <td>NaN</td>\n",
       "      <td>NaN</td>\n",
       "      <td>DUBLIN CORE CONFERENCE</td>\n",
       "    </tr>\n",
       "    <tr>\n",
       "      <th>13</th>\n",
       "      <td>TRECVID - TREC Video Retrieval Evaluation</td>\n",
       "      <td>137</td>\n",
       "      <td>1352</td>\n",
       "      <td>TRECVID</td>\n",
       "      <td>TREC Video Retrieval Evaluation</td>\n",
       "      <td>NaN</td>\n",
       "      <td>NaN</td>\n",
       "      <td>NaN</td>\n",
       "      <td>TRECVID</td>\n",
       "    </tr>\n",
       "    <tr>\n",
       "      <th>14</th>\n",
       "      <td>ICADL - International Conference on Asian Digi...</td>\n",
       "      <td>604</td>\n",
       "      <td>1037</td>\n",
       "      <td>ICADL</td>\n",
       "      <td>International Conference on Asian Digital Libr...</td>\n",
       "      <td>NaN</td>\n",
       "      <td>NaN</td>\n",
       "      <td>NaN</td>\n",
       "      <td>ICADL</td>\n",
       "    </tr>\n",
       "  </tbody>\n",
       "</table>\n",
       "</div>"
      ],
      "text/plain": [
       "                                          Conferences  Publications  Citation  \\\n",
       "7   RIAO - Recherche d'Information Assistee par Or...           574      3551   \n",
       "9                    Multimedia Information Retrieval           248      2847   \n",
       "11                             Dublin Core Conference            65      1928   \n",
       "13          TRECVID - TREC Video Retrieval Evaluation           137      1352   \n",
       "14  ICADL - International Conference on Asian Digi...           604      1037   \n",
       "\n",
       "                           Shortname  \\\n",
       "7                               RIAO   \n",
       "9   MULTIMEDIA INFORMATION RETRIEVAL   \n",
       "11            DUBLIN CORE CONFERENCE   \n",
       "13                           TRECVID   \n",
       "14                             ICADL   \n",
       "\n",
       "                                                 Name Sigla  Índice-­‐H  \\\n",
       "7     Recherche d'Information Assistee par Ordinateur   NaN         NaN   \n",
       "9                                                None   NaN         NaN   \n",
       "11                                               None   NaN         NaN   \n",
       "13                    TREC Video Retrieval Evaluation   NaN         NaN   \n",
       "14  International Conference on Asian Digital Libr...   NaN         NaN   \n",
       "\n",
       "   Estrato                   ShortnameQualis  \n",
       "7      NaN                              RIAO  \n",
       "9      NaN  MULTIMEDIA INFORMATION RETRIEVAL  \n",
       "11     NaN            DUBLIN CORE CONFERENCE  \n",
       "13     NaN                           TRECVID  \n",
       "14     NaN                             ICADL  "
      ]
     },
     "execution_count": 297,
     "metadata": {},
     "output_type": "execute_result"
    }
   ],
   "source": [
    "v[v.Estrato.isnull()].sort_values(by='Citation', ascending=False).head()"
   ]
  },
  {
   "cell_type": "code",
   "execution_count": 298,
   "metadata": {
    "collapsed": false
   },
   "outputs": [
    {
     "data": {
      "text/html": [
       "<div>\n",
       "<table border=\"1\" class=\"dataframe\">\n",
       "  <thead>\n",
       "    <tr style=\"text-align: right;\">\n",
       "      <th></th>\n",
       "      <th>Conferences</th>\n",
       "      <th>Publications</th>\n",
       "      <th>Citation</th>\n",
       "      <th>Shortname</th>\n",
       "      <th>Name</th>\n",
       "      <th>Sigla</th>\n",
       "      <th>Índice-­‐H</th>\n",
       "      <th>Estrato</th>\n",
       "      <th>ShortnameQualis</th>\n",
       "    </tr>\n",
       "  </thead>\n",
       "  <tbody>\n",
       "    <tr>\n",
       "      <th>0</th>\n",
       "      <td>SIGIR - Research and Development in Informatio...</td>\n",
       "      <td>2717</td>\n",
       "      <td>72116</td>\n",
       "      <td>SIGIR</td>\n",
       "      <td>Research and Development in Information Retrieval</td>\n",
       "      <td>SIGIR</td>\n",
       "      <td>122</td>\n",
       "      <td>A1</td>\n",
       "      <td>SIGIR (A1)</td>\n",
       "    </tr>\n",
       "  </tbody>\n",
       "</table>\n",
       "</div>"
      ],
      "text/plain": [
       "                                         Conferences  Publications  Citation  \\\n",
       "0  SIGIR - Research and Development in Informatio...          2717     72116   \n",
       "\n",
       "  Shortname                                               Name  Sigla  \\\n",
       "0     SIGIR  Research and Development in Information Retrieval  SIGIR   \n",
       "\n",
       "   Índice-­‐H Estrato ShortnameQualis  \n",
       "0         122      A1      SIGIR (A1)  "
      ]
     },
     "execution_count": 298,
     "metadata": {},
     "output_type": "execute_result"
    }
   ],
   "source": [
    "v[v['Shortname'] ==  'SIGIR']"
   ]
  },
  {
   "cell_type": "code",
   "execution_count": 299,
   "metadata": {
    "collapsed": false
   },
   "outputs": [
    {
     "data": {
      "text/html": [
       "<div>\n",
       "<table border=\"1\" class=\"dataframe\">\n",
       "  <thead>\n",
       "    <tr style=\"text-align: right;\">\n",
       "      <th></th>\n",
       "      <th>Conferences</th>\n",
       "      <th>Publications</th>\n",
       "      <th>Citation</th>\n",
       "      <th>Shortname</th>\n",
       "      <th>Name</th>\n",
       "      <th>Sigla</th>\n",
       "      <th>Índice-­‐H</th>\n",
       "      <th>Estrato</th>\n",
       "      <th>ShortnameQualis</th>\n",
       "    </tr>\n",
       "  </thead>\n",
       "  <tbody>\n",
       "    <tr>\n",
       "      <th>9</th>\n",
       "      <td>Multimedia Information Retrieval</td>\n",
       "      <td>248</td>\n",
       "      <td>2847</td>\n",
       "      <td>MULTIMEDIA INFORMATION RETRIEVAL</td>\n",
       "      <td>None</td>\n",
       "      <td>NaN</td>\n",
       "      <td>NaN</td>\n",
       "      <td>NaN</td>\n",
       "      <td>MULTIMEDIA INFORMATION RETRIEVAL</td>\n",
       "    </tr>\n",
       "    <tr>\n",
       "      <th>11</th>\n",
       "      <td>Dublin Core Conference</td>\n",
       "      <td>65</td>\n",
       "      <td>1928</td>\n",
       "      <td>DUBLIN CORE CONFERENCE</td>\n",
       "      <td>None</td>\n",
       "      <td>NaN</td>\n",
       "      <td>NaN</td>\n",
       "      <td>NaN</td>\n",
       "      <td>DUBLIN CORE CONFERENCE</td>\n",
       "    </tr>\n",
       "    <tr>\n",
       "      <th>26</th>\n",
       "      <td>Information Retrieval</td>\n",
       "      <td>55</td>\n",
       "      <td>176</td>\n",
       "      <td>INFORMATION RETRIEVAL</td>\n",
       "      <td>None</td>\n",
       "      <td>NaN</td>\n",
       "      <td>NaN</td>\n",
       "      <td>NaN</td>\n",
       "      <td>INFORMATION RETRIEVAL</td>\n",
       "    </tr>\n",
       "    <tr>\n",
       "      <th>32</th>\n",
       "      <td>IR Workshop</td>\n",
       "      <td>1</td>\n",
       "      <td>98</td>\n",
       "      <td>IR WORKSHOP</td>\n",
       "      <td>None</td>\n",
       "      <td>NaN</td>\n",
       "      <td>NaN</td>\n",
       "      <td>NaN</td>\n",
       "      <td>IR WORKSHOP</td>\n",
       "    </tr>\n",
       "    <tr>\n",
       "      <th>34</th>\n",
       "      <td>Networked Information Retrieval</td>\n",
       "      <td>11</td>\n",
       "      <td>70</td>\n",
       "      <td>NETWORKED INFORMATION RETRIEVAL</td>\n",
       "      <td>None</td>\n",
       "      <td>NaN</td>\n",
       "      <td>NaN</td>\n",
       "      <td>NaN</td>\n",
       "      <td>NETWORKED INFORMATION RETRIEVAL</td>\n",
       "    </tr>\n",
       "    <tr>\n",
       "      <th>35</th>\n",
       "      <td>New Developments in Digital Libraries</td>\n",
       "      <td>34</td>\n",
       "      <td>68</td>\n",
       "      <td>NEW DEVELOPMENTS IN DIGITAL LIBRARIES</td>\n",
       "      <td>None</td>\n",
       "      <td>NaN</td>\n",
       "      <td>NaN</td>\n",
       "      <td>NaN</td>\n",
       "      <td>NEW DEVELOPMENTS IN DIGITAL LIBRARIES</td>\n",
       "    </tr>\n",
       "    <tr>\n",
       "      <th>37</th>\n",
       "      <td>ELSNET Summer School</td>\n",
       "      <td>8</td>\n",
       "      <td>15</td>\n",
       "      <td>ELSNET SUMMER SCHOOL</td>\n",
       "      <td>None</td>\n",
       "      <td>NaN</td>\n",
       "      <td>NaN</td>\n",
       "      <td>NaN</td>\n",
       "      <td>ELSNET SUMMER SCHOOL</td>\n",
       "    </tr>\n",
       "  </tbody>\n",
       "</table>\n",
       "</div>"
      ],
      "text/plain": [
       "                              Conferences  Publications  Citation  \\\n",
       "9        Multimedia Information Retrieval           248      2847   \n",
       "11                 Dublin Core Conference            65      1928   \n",
       "26                  Information Retrieval            55       176   \n",
       "32                            IR Workshop             1        98   \n",
       "34        Networked Information Retrieval            11        70   \n",
       "35  New Developments in Digital Libraries            34        68   \n",
       "37                   ELSNET Summer School             8        15   \n",
       "\n",
       "                                Shortname  Name Sigla  Índice-­‐H Estrato  \\\n",
       "9        MULTIMEDIA INFORMATION RETRIEVAL  None   NaN         NaN     NaN   \n",
       "11                 DUBLIN CORE CONFERENCE  None   NaN         NaN     NaN   \n",
       "26                  INFORMATION RETRIEVAL  None   NaN         NaN     NaN   \n",
       "32                            IR WORKSHOP  None   NaN         NaN     NaN   \n",
       "34        NETWORKED INFORMATION RETRIEVAL  None   NaN         NaN     NaN   \n",
       "35  NEW DEVELOPMENTS IN DIGITAL LIBRARIES  None   NaN         NaN     NaN   \n",
       "37                   ELSNET SUMMER SCHOOL  None   NaN         NaN     NaN   \n",
       "\n",
       "                          ShortnameQualis  \n",
       "9        MULTIMEDIA INFORMATION RETRIEVAL  \n",
       "11                 DUBLIN CORE CONFERENCE  \n",
       "26                  INFORMATION RETRIEVAL  \n",
       "32                            IR WORKSHOP  \n",
       "34        NETWORKED INFORMATION RETRIEVAL  \n",
       "35  NEW DEVELOPMENTS IN DIGITAL LIBRARIES  \n",
       "37                   ELSNET SUMMER SCHOOL  "
      ]
     },
     "execution_count": 299,
     "metadata": {},
     "output_type": "execute_result"
    }
   ],
   "source": [
    "v[v.Name.isnull()]"
   ]
  },
  {
   "cell_type": "code",
   "execution_count": 336,
   "metadata": {
    "collapsed": false
   },
   "outputs": [
    {
     "data": {
      "text/html": [
       "<iframe id=\"igraph\" scrolling=\"no\" style=\"border:none;\" seamless=\"seamless\" src=\"https://plot.ly/~albertoueda/60.embed\" height=\"525px\" width=\"100%\"></iframe>"
      ],
      "text/plain": [
       "<plotly.tools.PlotlyDisplay object>"
      ]
     },
     "execution_count": 336,
     "metadata": {},
     "output_type": "execute_result"
    }
   ],
   "source": [
    "# 14:35\n",
    "v.iplot(kind='pie', labels='ShortnameQualis', values='Publications', pull=.2, hole=.1, textposition='inside')"
   ]
  },
  {
   "cell_type": "code",
   "execution_count": 337,
   "metadata": {
    "collapsed": false
   },
   "outputs": [
    {
     "data": {
      "text/html": [
       "<iframe id=\"igraph\" scrolling=\"no\" style=\"border:none;\" seamless=\"seamless\" src=\"https://plot.ly/~albertoueda/62.embed\" height=\"525px\" width=\"100%\"></iframe>"
      ],
      "text/plain": [
       "<plotly.tools.PlotlyDisplay object>"
      ]
     },
     "execution_count": 337,
     "metadata": {},
     "output_type": "execute_result"
    }
   ],
   "source": [
    "v.iplot(kind='pie', labels='Estrato', values='Publications', pull=.1, hole=.0, textposition='inside')"
   ]
  },
  {
   "cell_type": "markdown",
   "metadata": {},
   "source": [
    "# Generalization"
   ]
  },
  {
   "cell_type": "code",
   "execution_count": 317,
   "metadata": {
    "collapsed": false
   },
   "outputs": [],
   "source": [
    "qualis = pd.read_csv('data/qualis-2013-cs-all-venues.csv')\n",
    "qualis.Sigla = qualis.Sigla.str.upper()\n",
    "\n",
    "def read_subarea(filename):\n",
    "    venues = pd.read_csv('data/' + filename, sep='\\t')\n",
    "    \n",
    "    if 'Conferences' in venues: \n",
    "        column_name = 'Conferences'\n",
    "    else:\n",
    "        column_name = 'Journals'  # Are you sure? Qualis data here is only about Conferences\n",
    "        \n",
    "    venues[['Shortname', 'Name']] = venues[column_name].str.split(' - ', n=1, expand=True)\n",
    "    venues.Shortname = venues.Shortname.str.upper()\n",
    "    \n",
    "    v = venues.merge(qualis, left_on='Shortname', right_on='Sigla', how='left')\n",
    "    v = v.sort_values(by='Citation', ascending=False)\n",
    "    v['ShortnameQualis'] = v.Shortname + ' (' + v.Estrato + ')'\n",
    "    v.loc[v['ShortnameQualis'].isnull(), 'ShortnameQualis'] = v['Shortname']\n",
    "    print('Found', len(v[v.Estrato.notnull()]), 'of', len(venues), 'venues')\n",
    "    return v"
   ]
  },
  {
   "cell_type": "code",
   "execution_count": 318,
   "metadata": {
    "collapsed": false
   },
   "outputs": [
    {
     "name": "stdout",
     "output_type": "stream",
     "text": [
      "Found 69 of 100 venues\n"
     ]
    },
    {
     "data": {
      "text/html": [
       "<div>\n",
       "<table border=\"1\" class=\"dataframe\">\n",
       "  <thead>\n",
       "    <tr style=\"text-align: right;\">\n",
       "      <th></th>\n",
       "      <th>Conferences</th>\n",
       "      <th>Publications</th>\n",
       "      <th>Citation</th>\n",
       "      <th>Shortname</th>\n",
       "      <th>Name</th>\n",
       "      <th>Sigla</th>\n",
       "      <th>Índice-­‐H</th>\n",
       "      <th>Estrato</th>\n",
       "      <th>ShortnameQualis</th>\n",
       "    </tr>\n",
       "  </thead>\n",
       "  <tbody>\n",
       "    <tr>\n",
       "      <th>0</th>\n",
       "      <td>INFOCOM - IEEE INFOCOM</td>\n",
       "      <td>2562</td>\n",
       "      <td>23340</td>\n",
       "      <td>INFOCOM</td>\n",
       "      <td>IEEE INFOCOM</td>\n",
       "      <td>INFOCOM</td>\n",
       "      <td>204</td>\n",
       "      <td>A1</td>\n",
       "      <td>INFOCOM (A1)</td>\n",
       "    </tr>\n",
       "    <tr>\n",
       "      <th>1</th>\n",
       "      <td>ICC - IEEE International Conference on Communi...</td>\n",
       "      <td>3600</td>\n",
       "      <td>15312</td>\n",
       "      <td>ICC</td>\n",
       "      <td>IEEE International Conference on Communications</td>\n",
       "      <td>ICC</td>\n",
       "      <td>53</td>\n",
       "      <td>A2</td>\n",
       "      <td>ICC (A2)</td>\n",
       "    </tr>\n",
       "    <tr>\n",
       "      <th>2</th>\n",
       "      <td>SIGCOMM - ACM SIGCOMM Conference</td>\n",
       "      <td>367</td>\n",
       "      <td>9057</td>\n",
       "      <td>SIGCOMM</td>\n",
       "      <td>ACM SIGCOMM Conference</td>\n",
       "      <td>SIGCOMM</td>\n",
       "      <td>145</td>\n",
       "      <td>A1</td>\n",
       "      <td>SIGCOMM (A1)</td>\n",
       "    </tr>\n",
       "    <tr>\n",
       "      <th>3</th>\n",
       "      <td>MOBICOM - Mobile Computing and Networking</td>\n",
       "      <td>487</td>\n",
       "      <td>7881</td>\n",
       "      <td>MOBICOM</td>\n",
       "      <td>Mobile Computing and Networking</td>\n",
       "      <td>MOBICOM</td>\n",
       "      <td>112</td>\n",
       "      <td>A1</td>\n",
       "      <td>MOBICOM (A1)</td>\n",
       "    </tr>\n",
       "    <tr>\n",
       "      <th>4</th>\n",
       "      <td>PIMRC - IEEE International Symposium on Person...</td>\n",
       "      <td>3653</td>\n",
       "      <td>5976</td>\n",
       "      <td>PIMRC</td>\n",
       "      <td>IEEE International Symposium on Personal, Indo...</td>\n",
       "      <td>PIMRC</td>\n",
       "      <td>60</td>\n",
       "      <td>A1</td>\n",
       "      <td>PIMRC (A1)</td>\n",
       "    </tr>\n",
       "  </tbody>\n",
       "</table>\n",
       "</div>"
      ],
      "text/plain": [
       "                                         Conferences  Publications  Citation  \\\n",
       "0                             INFOCOM - IEEE INFOCOM          2562     23340   \n",
       "1  ICC - IEEE International Conference on Communi...          3600     15312   \n",
       "2                   SIGCOMM - ACM SIGCOMM Conference           367      9057   \n",
       "3          MOBICOM - Mobile Computing and Networking           487      7881   \n",
       "4  PIMRC - IEEE International Symposium on Person...          3653      5976   \n",
       "\n",
       "  Shortname                                               Name    Sigla  \\\n",
       "0   INFOCOM                                       IEEE INFOCOM  INFOCOM   \n",
       "1       ICC    IEEE International Conference on Communications      ICC   \n",
       "2   SIGCOMM                             ACM SIGCOMM Conference  SIGCOMM   \n",
       "3   MOBICOM                    Mobile Computing and Networking  MOBICOM   \n",
       "4     PIMRC  IEEE International Symposium on Personal, Indo...    PIMRC   \n",
       "\n",
       "   Índice-­‐H Estrato ShortnameQualis  \n",
       "0         204      A1    INFOCOM (A1)  \n",
       "1          53      A2        ICC (A2)  \n",
       "2         145      A1    SIGCOMM (A1)  \n",
       "3         112      A1    MOBICOM (A1)  \n",
       "4          60      A1      PIMRC (A1)  "
      ]
     },
     "execution_count": 318,
     "metadata": {},
     "output_type": "execute_result"
    }
   ],
   "source": [
    "filename = 'cs-networks-conf-10-years.tsv'\n",
    "subarea_df = read_subarea(filename)\n",
    "subarea_df.head()"
   ]
  },
  {
   "cell_type": "markdown",
   "metadata": {},
   "source": [
    "### All the files:"
   ]
  },
  {
   "cell_type": "raw",
   "metadata": {},
   "source": [
    "-rw-r--r-- 1 ueda latin  3367 Aug 19 10:50 academic-multidisciplinary-journal-5-years.tsv\n",
    "-rw-r--r-- 1 ueda latin  3950 Aug 19 15:09 academic-multidisciplinary-journal-all-years.tsv\n",
    "-rw-r--r-- 1 ueda latin  2718 Aug 19 10:35 cs-bioinformatics-conf-10-years.tsv\n",
    "-rw-r--r-- 1 ueda latin  3178 Aug 19 10:36 cs-bioinformatics-conf-all-years.tsv\n",
    "-rw-r--r-- 1 ueda latin  2283 Aug 19 10:37 cs-bioinformatics-journal-10-years.tsv\n",
    "-rw-r--r-- 1 ueda latin  2334 Aug 19 10:36 cs-bioinformatics-journal-all-years.tsv\n",
    "-rw-r--r-- 1 ueda latin  1805 Aug 19 10:23 cs-data-mining-conf-10-years.tsv\n",
    "-rw-r--r-- 1 ueda latin  2374 Aug 19 10:21 cs-data-mining-conf-all-years.tsv\n",
    "-rw-r--r-- 1 ueda latin  1460 Aug 19 10:06 cs-ir-conf-10-years.tsv\n",
    "-rw-r--r-- 1 ueda latin  2387 Aug 19 10:54 cs-ir-conf-all-years.tsv\n",
    "-rw-r--r-- 1 ueda latin   727 Aug 19 10:10 cs-ir-journal-10-years.tsv\n",
    "-rw-r--r-- 1 ueda latin   777 Aug 19 10:03 cs-ir-journal-all-years.tsv\n",
    "-rw-r--r-- 1 ueda latin  6471 Aug 19 10:25 cs-networks-conf-10-years.tsv\n",
    "-rw-r--r-- 1 ueda latin  6169 Aug 19 10:26 cs-networks-conf-all-years.tsv\n",
    "-rw-r--r-- 1 ueda latin  3724 Aug 19 10:30 cs-networks-journal-10-years.tsv\n",
    "-rw-r--r-- 1 ueda latin  4036 Aug 19 10:28 cs-networks-journal-all-years.tsv\n",
    "-rw-r--r-- 1 ueda latin  5902 Aug 19 10:34 cs-theory-conf-10-years.tsv\n",
    "-rw-r--r-- 1 ueda latin  5872 Aug 19 09:25 cs-theory-conf-all-years.tsv\n",
    "-rw-r--r-- 1 ueda latin  4736 Aug 19 10:33 cs-theory-journal-10-years.tsv\n",
    "-rw-r--r-- 1 ueda latin  4905 Aug 19 09:29 cs-theory-journal-all-years.tsv"
   ]
  },
  {
   "cell_type": "code",
   "execution_count": 320,
   "metadata": {
    "collapsed": false
   },
   "outputs": [
    {
     "name": "stdout",
     "output_type": "stream",
     "text": [
      "Found 0 of 100 venues\n"
     ]
    },
    {
     "data": {
      "text/html": [
       "<div>\n",
       "<table border=\"1\" class=\"dataframe\">\n",
       "  <thead>\n",
       "    <tr style=\"text-align: right;\">\n",
       "      <th></th>\n",
       "      <th>Journals</th>\n",
       "      <th>Publications</th>\n",
       "      <th>Citation</th>\n",
       "      <th>Shortname</th>\n",
       "      <th>Name</th>\n",
       "      <th>Sigla</th>\n",
       "      <th>Índice-­‐H</th>\n",
       "      <th>Estrato</th>\n",
       "      <th>ShortnameQualis</th>\n",
       "    </tr>\n",
       "  </thead>\n",
       "  <tbody>\n",
       "    <tr>\n",
       "      <th>0</th>\n",
       "      <td>PNAS - Proceedings of The National Academy of ...</td>\n",
       "      <td>2796</td>\n",
       "      <td>1045</td>\n",
       "      <td>PNAS</td>\n",
       "      <td>Proceedings of The National Academy of Sciences</td>\n",
       "      <td>NaN</td>\n",
       "      <td>NaN</td>\n",
       "      <td>NaN</td>\n",
       "      <td>PNAS</td>\n",
       "    </tr>\n",
       "    <tr>\n",
       "      <th>1</th>\n",
       "      <td>Science</td>\n",
       "      <td>2323</td>\n",
       "      <td>812</td>\n",
       "      <td>SCIENCE</td>\n",
       "      <td>None</td>\n",
       "      <td>NaN</td>\n",
       "      <td>NaN</td>\n",
       "      <td>NaN</td>\n",
       "      <td>SCIENCE</td>\n",
       "    </tr>\n",
       "    <tr>\n",
       "      <th>2</th>\n",
       "      <td>PLOS One</td>\n",
       "      <td>17797</td>\n",
       "      <td>510</td>\n",
       "      <td>PLOS ONE</td>\n",
       "      <td>None</td>\n",
       "      <td>NaN</td>\n",
       "      <td>NaN</td>\n",
       "      <td>NaN</td>\n",
       "      <td>PLOS ONE</td>\n",
       "    </tr>\n",
       "    <tr>\n",
       "      <th>3</th>\n",
       "      <td>Nature</td>\n",
       "      <td>4687</td>\n",
       "      <td>274</td>\n",
       "      <td>NATURE</td>\n",
       "      <td>None</td>\n",
       "      <td>NaN</td>\n",
       "      <td>NaN</td>\n",
       "      <td>NaN</td>\n",
       "      <td>NATURE</td>\n",
       "    </tr>\n",
       "    <tr>\n",
       "      <th>4</th>\n",
       "      <td>NANO LETT - Nano Letters</td>\n",
       "      <td>682</td>\n",
       "      <td>68</td>\n",
       "      <td>NANO LETT</td>\n",
       "      <td>Nano Letters</td>\n",
       "      <td>NaN</td>\n",
       "      <td>NaN</td>\n",
       "      <td>NaN</td>\n",
       "      <td>NANO LETT</td>\n",
       "    </tr>\n",
       "  </tbody>\n",
       "</table>\n",
       "</div>"
      ],
      "text/plain": [
       "                                            Journals  Publications  Citation  \\\n",
       "0  PNAS - Proceedings of The National Academy of ...          2796      1045   \n",
       "1                                            Science          2323       812   \n",
       "2                                           PLOS One         17797       510   \n",
       "3                                             Nature          4687       274   \n",
       "4                           NANO LETT - Nano Letters           682        68   \n",
       "\n",
       "   Shortname                                             Name Sigla  \\\n",
       "0       PNAS  Proceedings of The National Academy of Sciences   NaN   \n",
       "1    SCIENCE                                             None   NaN   \n",
       "2   PLOS ONE                                             None   NaN   \n",
       "3     NATURE                                             None   NaN   \n",
       "4  NANO LETT                                     Nano Letters   NaN   \n",
       "\n",
       "   Índice-­‐H Estrato ShortnameQualis  \n",
       "0         NaN     NaN            PNAS  \n",
       "1         NaN     NaN         SCIENCE  \n",
       "2         NaN     NaN        PLOS ONE  \n",
       "3         NaN     NaN          NATURE  \n",
       "4         NaN     NaN       NANO LETT  "
      ]
     },
     "execution_count": 320,
     "metadata": {},
     "output_type": "execute_result"
    }
   ],
   "source": [
    "read_subarea('academic-multidisciplinary-journal-5-years.tsv').head()"
   ]
  },
  {
   "cell_type": "markdown",
   "metadata": {},
   "source": [
    "## Bioinformatics "
   ]
  },
  {
   "cell_type": "code",
   "execution_count": 323,
   "metadata": {
    "collapsed": false
   },
   "outputs": [
    {
     "name": "stdout",
     "output_type": "stream",
     "text": [
      "Found 17 of 52 venues\n"
     ]
    },
    {
     "data": {
      "text/html": [
       "<div>\n",
       "<table border=\"1\" class=\"dataframe\">\n",
       "  <thead>\n",
       "    <tr style=\"text-align: right;\">\n",
       "      <th></th>\n",
       "      <th>Conferences</th>\n",
       "      <th>Publications</th>\n",
       "      <th>Citation</th>\n",
       "      <th>Shortname</th>\n",
       "      <th>Name</th>\n",
       "      <th>Sigla</th>\n",
       "      <th>Índice-­‐H</th>\n",
       "      <th>Estrato</th>\n",
       "      <th>ShortnameQualis</th>\n",
       "    </tr>\n",
       "  </thead>\n",
       "  <tbody>\n",
       "    <tr>\n",
       "      <th>0</th>\n",
       "      <td>BioMED - Biomedical Engineering</td>\n",
       "      <td>2262</td>\n",
       "      <td>64723</td>\n",
       "      <td>BIOMED</td>\n",
       "      <td>Biomedical Engineering</td>\n",
       "      <td>NaN</td>\n",
       "      <td>NaN</td>\n",
       "      <td>NaN</td>\n",
       "      <td>BIOMED</td>\n",
       "    </tr>\n",
       "    <tr>\n",
       "      <th>1</th>\n",
       "      <td>ISMB - Intelligent Systems in Molecular Biology</td>\n",
       "      <td>795</td>\n",
       "      <td>27041</td>\n",
       "      <td>ISMB</td>\n",
       "      <td>Intelligent Systems in Molecular Biology</td>\n",
       "      <td>ISMB</td>\n",
       "      <td>91</td>\n",
       "      <td>A1</td>\n",
       "      <td>ISMB (A1)</td>\n",
       "    </tr>\n",
       "    <tr>\n",
       "      <th>2</th>\n",
       "      <td>Pacific Symposium on Biocomputing</td>\n",
       "      <td>791</td>\n",
       "      <td>15658</td>\n",
       "      <td>PACIFIC SYMPOSIUM ON BIOCOMPUTING</td>\n",
       "      <td>None</td>\n",
       "      <td>NaN</td>\n",
       "      <td>NaN</td>\n",
       "      <td>NaN</td>\n",
       "      <td>PACIFIC SYMPOSIUM ON BIOCOMPUTING</td>\n",
       "    </tr>\n",
       "    <tr>\n",
       "      <th>3</th>\n",
       "      <td>RECOMB - Research in Computational Molecular B...</td>\n",
       "      <td>883</td>\n",
       "      <td>13583</td>\n",
       "      <td>RECOMB</td>\n",
       "      <td>Research in Computational Molecular Biology</td>\n",
       "      <td>RECOMB</td>\n",
       "      <td>54</td>\n",
       "      <td>A2</td>\n",
       "      <td>RECOMB (A2)</td>\n",
       "    </tr>\n",
       "    <tr>\n",
       "      <th>4</th>\n",
       "      <td>CBMS - IEEE Symposium on Computer-Based Medica...</td>\n",
       "      <td>1845</td>\n",
       "      <td>4339</td>\n",
       "      <td>CBMS</td>\n",
       "      <td>IEEE Symposium on Computer-Based Medical Systems</td>\n",
       "      <td>CBMS</td>\n",
       "      <td>26</td>\n",
       "      <td>B1</td>\n",
       "      <td>CBMS (B1)</td>\n",
       "    </tr>\n",
       "  </tbody>\n",
       "</table>\n",
       "</div>"
      ],
      "text/plain": [
       "                                         Conferences  Publications  Citation  \\\n",
       "0                    BioMED - Biomedical Engineering          2262     64723   \n",
       "1    ISMB - Intelligent Systems in Molecular Biology           795     27041   \n",
       "2                  Pacific Symposium on Biocomputing           791     15658   \n",
       "3  RECOMB - Research in Computational Molecular B...           883     13583   \n",
       "4  CBMS - IEEE Symposium on Computer-Based Medica...          1845      4339   \n",
       "\n",
       "                           Shortname  \\\n",
       "0                             BIOMED   \n",
       "1                               ISMB   \n",
       "2  PACIFIC SYMPOSIUM ON BIOCOMPUTING   \n",
       "3                             RECOMB   \n",
       "4                               CBMS   \n",
       "\n",
       "                                               Name   Sigla  Índice-­‐H  \\\n",
       "0                            Biomedical Engineering     NaN         NaN   \n",
       "1          Intelligent Systems in Molecular Biology    ISMB          91   \n",
       "2                                              None     NaN         NaN   \n",
       "3       Research in Computational Molecular Biology  RECOMB          54   \n",
       "4  IEEE Symposium on Computer-Based Medical Systems    CBMS          26   \n",
       "\n",
       "  Estrato                    ShortnameQualis  \n",
       "0     NaN                             BIOMED  \n",
       "1      A1                          ISMB (A1)  \n",
       "2     NaN  PACIFIC SYMPOSIUM ON BIOCOMPUTING  \n",
       "3      A2                        RECOMB (A2)  \n",
       "4      B1                          CBMS (B1)  "
      ]
     },
     "execution_count": 323,
     "metadata": {},
     "output_type": "execute_result"
    }
   ],
   "source": [
    "bio = read_subarea('cs-bioinformatics-conf-all-years.tsv')\n",
    "bio.head()"
   ]
  },
  {
   "cell_type": "code",
   "execution_count": 338,
   "metadata": {
    "collapsed": false
   },
   "outputs": [
    {
     "data": {
      "text/html": [
       "<iframe id=\"igraph\" scrolling=\"no\" style=\"border:none;\" seamless=\"seamless\" src=\"https://plot.ly/~albertoueda/64.embed\" height=\"525px\" width=\"100%\"></iframe>"
      ],
      "text/plain": [
       "<plotly.tools.PlotlyDisplay object>"
      ]
     },
     "execution_count": 338,
     "metadata": {},
     "output_type": "execute_result"
    }
   ],
   "source": [
    "bio.iplot(kind='pie', labels='ShortnameQualis', values='Publications', pull=.2, hole=.1, textposition='inside')"
   ]
  },
  {
   "cell_type": "code",
   "execution_count": 324,
   "metadata": {
    "collapsed": false
   },
   "outputs": [
    {
     "name": "stdout",
     "output_type": "stream",
     "text": [
      "Found 16 of 44 venues\n"
     ]
    },
    {
     "data": {
      "text/html": [
       "<div>\n",
       "<table border=\"1\" class=\"dataframe\">\n",
       "  <thead>\n",
       "    <tr style=\"text-align: right;\">\n",
       "      <th></th>\n",
       "      <th>Conferences</th>\n",
       "      <th>Publications</th>\n",
       "      <th>Citation</th>\n",
       "      <th>Shortname</th>\n",
       "      <th>Name</th>\n",
       "      <th>Sigla</th>\n",
       "      <th>Índice-­‐H</th>\n",
       "      <th>Estrato</th>\n",
       "      <th>ShortnameQualis</th>\n",
       "    </tr>\n",
       "  </thead>\n",
       "  <tbody>\n",
       "    <tr>\n",
       "      <th>0</th>\n",
       "      <td>ISMB - Intelligent Systems in Molecular Biology</td>\n",
       "      <td>191</td>\n",
       "      <td>3002</td>\n",
       "      <td>ISMB</td>\n",
       "      <td>Intelligent Systems in Molecular Biology</td>\n",
       "      <td>ISMB</td>\n",
       "      <td>91</td>\n",
       "      <td>A1</td>\n",
       "      <td>ISMB (A1)</td>\n",
       "    </tr>\n",
       "    <tr>\n",
       "      <th>1</th>\n",
       "      <td>RECOMB - Research in Computational Molecular B...</td>\n",
       "      <td>360</td>\n",
       "      <td>1439</td>\n",
       "      <td>RECOMB</td>\n",
       "      <td>Research in Computational Molecular Biology</td>\n",
       "      <td>RECOMB</td>\n",
       "      <td>54</td>\n",
       "      <td>A2</td>\n",
       "      <td>RECOMB (A2)</td>\n",
       "    </tr>\n",
       "    <tr>\n",
       "      <th>2</th>\n",
       "      <td>Pacific Symposium on Biocomputing</td>\n",
       "      <td>300</td>\n",
       "      <td>1411</td>\n",
       "      <td>PACIFIC SYMPOSIUM ON BIOCOMPUTING</td>\n",
       "      <td>None</td>\n",
       "      <td>NaN</td>\n",
       "      <td>NaN</td>\n",
       "      <td>NaN</td>\n",
       "      <td>PACIFIC SYMPOSIUM ON BIOCOMPUTING</td>\n",
       "    </tr>\n",
       "    <tr>\n",
       "      <th>3</th>\n",
       "      <td>ICNSC - International Conference on Networking...</td>\n",
       "      <td>1192</td>\n",
       "      <td>1201</td>\n",
       "      <td>ICNSC</td>\n",
       "      <td>International Conference on Networking, Sensin...</td>\n",
       "      <td>ICNSC</td>\n",
       "      <td>12</td>\n",
       "      <td>B3</td>\n",
       "      <td>ICNSC (B3)</td>\n",
       "    </tr>\n",
       "    <tr>\n",
       "      <th>4</th>\n",
       "      <td>CBMS - IEEE Symposium on Computer-Based Medica...</td>\n",
       "      <td>672</td>\n",
       "      <td>1025</td>\n",
       "      <td>CBMS</td>\n",
       "      <td>IEEE Symposium on Computer-Based Medical Systems</td>\n",
       "      <td>CBMS</td>\n",
       "      <td>26</td>\n",
       "      <td>B1</td>\n",
       "      <td>CBMS (B1)</td>\n",
       "    </tr>\n",
       "  </tbody>\n",
       "</table>\n",
       "</div>"
      ],
      "text/plain": [
       "                                         Conferences  Publications  Citation  \\\n",
       "0    ISMB - Intelligent Systems in Molecular Biology           191      3002   \n",
       "1  RECOMB - Research in Computational Molecular B...           360      1439   \n",
       "2                  Pacific Symposium on Biocomputing           300      1411   \n",
       "3  ICNSC - International Conference on Networking...          1192      1201   \n",
       "4  CBMS - IEEE Symposium on Computer-Based Medica...           672      1025   \n",
       "\n",
       "                           Shortname  \\\n",
       "0                               ISMB   \n",
       "1                             RECOMB   \n",
       "2  PACIFIC SYMPOSIUM ON BIOCOMPUTING   \n",
       "3                              ICNSC   \n",
       "4                               CBMS   \n",
       "\n",
       "                                                Name   Sigla  Índice-­‐H  \\\n",
       "0           Intelligent Systems in Molecular Biology    ISMB          91   \n",
       "1        Research in Computational Molecular Biology  RECOMB          54   \n",
       "2                                               None     NaN         NaN   \n",
       "3  International Conference on Networking, Sensin...   ICNSC          12   \n",
       "4   IEEE Symposium on Computer-Based Medical Systems    CBMS          26   \n",
       "\n",
       "  Estrato                    ShortnameQualis  \n",
       "0      A1                          ISMB (A1)  \n",
       "1      A2                        RECOMB (A2)  \n",
       "2     NaN  PACIFIC SYMPOSIUM ON BIOCOMPUTING  \n",
       "3      B3                         ICNSC (B3)  \n",
       "4      B1                          CBMS (B1)  "
      ]
     },
     "execution_count": 324,
     "metadata": {},
     "output_type": "execute_result"
    }
   ],
   "source": [
    "bio10 = read_subarea('cs-bioinformatics-conf-10-years.tsv')\n",
    "bio10.head()"
   ]
  },
  {
   "cell_type": "code",
   "execution_count": 339,
   "metadata": {
    "collapsed": false,
    "scrolled": true
   },
   "outputs": [
    {
     "data": {
      "text/html": [
       "<iframe id=\"igraph\" scrolling=\"no\" style=\"border:none;\" seamless=\"seamless\" src=\"https://plot.ly/~albertoueda/66.embed\" height=\"525px\" width=\"100%\"></iframe>"
      ],
      "text/plain": [
       "<plotly.tools.PlotlyDisplay object>"
      ]
     },
     "execution_count": 339,
     "metadata": {},
     "output_type": "execute_result"
    }
   ],
   "source": [
    "bio10.iplot(kind='pie', labels='ShortnameQualis', values='Publications', pull=.2, hole=.1, textposition='inside')"
   ]
  },
  {
   "cell_type": "code",
   "execution_count": null,
   "metadata": {
    "collapsed": true
   },
   "outputs": [],
   "source": [
    "#v.iplot(kind='pie', labels='ShortnameQualis', values='Publications', pull=.2, hole=.1, textposition='inside')\n",
    "#v.iplot(kind='pie', labels='Estrato', values='Publications', pull=.1, hole=.0, textposition='inside')"
   ]
  },
  {
   "cell_type": "code",
   "execution_count": 351,
   "metadata": {
    "collapsed": false
   },
   "outputs": [
    {
     "data": {
      "text/html": [
       "<iframe id=\"igraph\" scrolling=\"no\" style=\"border:none;\" seamless=\"seamless\" src=\"https://plot.ly/~albertoueda/90.embed\" height=\"525px\" width=\"100%\"></iframe>"
      ],
      "text/plain": [
       "<plotly.tools.PlotlyDisplay object>"
      ]
     },
     "execution_count": 351,
     "metadata": {},
     "output_type": "execute_result"
    }
   ],
   "source": [
    "bio10.iplot(kind='pie', labels='Estrato', values='Publications', pull=.1, hole=.0, textposition='inside')"
   ]
  },
  {
   "cell_type": "code",
   "execution_count": 327,
   "metadata": {
    "collapsed": false,
    "scrolled": true
   },
   "outputs": [
    {
     "name": "stdout",
     "output_type": "stream",
     "text": [
      "Found 18 of 30 venues\n"
     ]
    },
    {
     "data": {
      "text/html": [
       "<div>\n",
       "<table border=\"1\" class=\"dataframe\">\n",
       "  <thead>\n",
       "    <tr style=\"text-align: right;\">\n",
       "      <th></th>\n",
       "      <th>Conferences</th>\n",
       "      <th>Publications</th>\n",
       "      <th>Citation</th>\n",
       "      <th>Shortname</th>\n",
       "      <th>Name</th>\n",
       "      <th>Sigla</th>\n",
       "      <th>Índice-­‐H</th>\n",
       "      <th>Estrato</th>\n",
       "      <th>ShortnameQualis</th>\n",
       "    </tr>\n",
       "  </thead>\n",
       "  <tbody>\n",
       "    <tr>\n",
       "      <th>0</th>\n",
       "      <td>ICDE - International Conference on Data Engine...</td>\n",
       "      <td>1788</td>\n",
       "      <td>11903</td>\n",
       "      <td>ICDE</td>\n",
       "      <td>International Conference on Data Engineering</td>\n",
       "      <td>ICDE</td>\n",
       "      <td>113</td>\n",
       "      <td>A1</td>\n",
       "      <td>ICDE (A1)</td>\n",
       "    </tr>\n",
       "    <tr>\n",
       "      <th>1</th>\n",
       "      <td>KDD - Knowledge Discovery and Data Mining</td>\n",
       "      <td>817</td>\n",
       "      <td>9105</td>\n",
       "      <td>KDD</td>\n",
       "      <td>Knowledge Discovery and Data Mining</td>\n",
       "      <td>KDD</td>\n",
       "      <td>133</td>\n",
       "      <td>A1</td>\n",
       "      <td>KDD (A1)</td>\n",
       "    </tr>\n",
       "    <tr>\n",
       "      <th>2</th>\n",
       "      <td>CIKM - International Conference on Information...</td>\n",
       "      <td>1470</td>\n",
       "      <td>5355</td>\n",
       "      <td>CIKM</td>\n",
       "      <td>International Conference on Information and Kn...</td>\n",
       "      <td>CIKM</td>\n",
       "      <td>85</td>\n",
       "      <td>A1</td>\n",
       "      <td>CIKM (A1)</td>\n",
       "    </tr>\n",
       "    <tr>\n",
       "      <th>3</th>\n",
       "      <td>ICDM - IEEE International Conference on Data M...</td>\n",
       "      <td>1831</td>\n",
       "      <td>4645</td>\n",
       "      <td>ICDM</td>\n",
       "      <td>IEEE International Conference on Data Mining</td>\n",
       "      <td>ICDM</td>\n",
       "      <td>77</td>\n",
       "      <td>A1</td>\n",
       "      <td>ICDM (A1)</td>\n",
       "    </tr>\n",
       "    <tr>\n",
       "      <th>4</th>\n",
       "      <td>SDM - SIAM International Conference on Data Mi...</td>\n",
       "      <td>413</td>\n",
       "      <td>2329</td>\n",
       "      <td>SDM</td>\n",
       "      <td>SIAM International Conference on Data Mining</td>\n",
       "      <td>SDM</td>\n",
       "      <td>51</td>\n",
       "      <td>A2</td>\n",
       "      <td>SDM (A2)</td>\n",
       "    </tr>\n",
       "  </tbody>\n",
       "</table>\n",
       "</div>"
      ],
      "text/plain": [
       "                                         Conferences  Publications  Citation  \\\n",
       "0  ICDE - International Conference on Data Engine...          1788     11903   \n",
       "1          KDD - Knowledge Discovery and Data Mining           817      9105   \n",
       "2  CIKM - International Conference on Information...          1470      5355   \n",
       "3  ICDM - IEEE International Conference on Data M...          1831      4645   \n",
       "4  SDM - SIAM International Conference on Data Mi...           413      2329   \n",
       "\n",
       "  Shortname                                               Name Sigla  \\\n",
       "0      ICDE       International Conference on Data Engineering  ICDE   \n",
       "1       KDD                Knowledge Discovery and Data Mining   KDD   \n",
       "2      CIKM  International Conference on Information and Kn...  CIKM   \n",
       "3      ICDM       IEEE International Conference on Data Mining  ICDM   \n",
       "4       SDM       SIAM International Conference on Data Mining   SDM   \n",
       "\n",
       "   Índice-­‐H Estrato ShortnameQualis  \n",
       "0         113      A1       ICDE (A1)  \n",
       "1         133      A1        KDD (A1)  \n",
       "2          85      A1       CIKM (A1)  \n",
       "3          77      A1       ICDM (A1)  \n",
       "4          51      A2        SDM (A2)  "
      ]
     },
     "execution_count": 327,
     "metadata": {},
     "output_type": "execute_result"
    }
   ],
   "source": [
    "data10 = read_subarea('cs-data-mining-conf-10-years.tsv')\n",
    "data10.head()"
   ]
  },
  {
   "cell_type": "code",
   "execution_count": 348,
   "metadata": {
    "collapsed": false
   },
   "outputs": [
    {
     "data": {
      "text/html": [
       "<iframe id=\"igraph\" scrolling=\"no\" style=\"border:none;\" seamless=\"seamless\" src=\"https://plot.ly/~albertoueda/84.embed\" height=\"525px\" width=\"100%\"></iframe>"
      ],
      "text/plain": [
       "<plotly.tools.PlotlyDisplay object>"
      ]
     },
     "execution_count": 348,
     "metadata": {},
     "output_type": "execute_result"
    }
   ],
   "source": [
    "data10.iplot(kind='pie', labels='ShortnameQualis', values='Publications', pull=.2, hole=.1, textposition='inside')"
   ]
  },
  {
   "cell_type": "code",
   "execution_count": 328,
   "metadata": {
    "collapsed": false
   },
   "outputs": [
    {
     "name": "stdout",
     "output_type": "stream",
     "text": [
      "Found 20 of 41 venues\n"
     ]
    },
    {
     "data": {
      "text/html": [
       "<div>\n",
       "<table border=\"1\" class=\"dataframe\">\n",
       "  <thead>\n",
       "    <tr style=\"text-align: right;\">\n",
       "      <th></th>\n",
       "      <th>Conferences</th>\n",
       "      <th>Publications</th>\n",
       "      <th>Citation</th>\n",
       "      <th>Shortname</th>\n",
       "      <th>Name</th>\n",
       "      <th>Sigla</th>\n",
       "      <th>Índice-­‐H</th>\n",
       "      <th>Estrato</th>\n",
       "      <th>ShortnameQualis</th>\n",
       "    </tr>\n",
       "  </thead>\n",
       "  <tbody>\n",
       "    <tr>\n",
       "      <th>0</th>\n",
       "      <td>KDD - Knowledge Discovery and Data Mining</td>\n",
       "      <td>2063</td>\n",
       "      <td>69270</td>\n",
       "      <td>KDD</td>\n",
       "      <td>Knowledge Discovery and Data Mining</td>\n",
       "      <td>KDD</td>\n",
       "      <td>133</td>\n",
       "      <td>A1</td>\n",
       "      <td>KDD (A1)</td>\n",
       "    </tr>\n",
       "    <tr>\n",
       "      <th>1</th>\n",
       "      <td>ICDE - International Conference on Data Engine...</td>\n",
       "      <td>4012</td>\n",
       "      <td>67386</td>\n",
       "      <td>ICDE</td>\n",
       "      <td>International Conference on Data Engineering</td>\n",
       "      <td>ICDE</td>\n",
       "      <td>113</td>\n",
       "      <td>A1</td>\n",
       "      <td>ICDE (A1)</td>\n",
       "    </tr>\n",
       "    <tr>\n",
       "      <th>2</th>\n",
       "      <td>CIKM - International Conference on Information...</td>\n",
       "      <td>2636</td>\n",
       "      <td>28621</td>\n",
       "      <td>CIKM</td>\n",
       "      <td>International Conference on Information and Kn...</td>\n",
       "      <td>CIKM</td>\n",
       "      <td>85</td>\n",
       "      <td>A1</td>\n",
       "      <td>CIKM (A1)</td>\n",
       "    </tr>\n",
       "    <tr>\n",
       "      <th>3</th>\n",
       "      <td>ICDM - IEEE International Conference on Data M...</td>\n",
       "      <td>2506</td>\n",
       "      <td>18362</td>\n",
       "      <td>ICDM</td>\n",
       "      <td>IEEE International Conference on Data Mining</td>\n",
       "      <td>ICDM</td>\n",
       "      <td>77</td>\n",
       "      <td>A1</td>\n",
       "      <td>ICDM (A1)</td>\n",
       "    </tr>\n",
       "    <tr>\n",
       "      <th>4</th>\n",
       "      <td>SDM - SIAM International Conference on Data Mi...</td>\n",
       "      <td>708</td>\n",
       "      <td>9095</td>\n",
       "      <td>SDM</td>\n",
       "      <td>SIAM International Conference on Data Mining</td>\n",
       "      <td>SDM</td>\n",
       "      <td>51</td>\n",
       "      <td>A2</td>\n",
       "      <td>SDM (A2)</td>\n",
       "    </tr>\n",
       "  </tbody>\n",
       "</table>\n",
       "</div>"
      ],
      "text/plain": [
       "                                         Conferences  Publications  Citation  \\\n",
       "0          KDD - Knowledge Discovery and Data Mining          2063     69270   \n",
       "1  ICDE - International Conference on Data Engine...          4012     67386   \n",
       "2  CIKM - International Conference on Information...          2636     28621   \n",
       "3  ICDM - IEEE International Conference on Data M...          2506     18362   \n",
       "4  SDM - SIAM International Conference on Data Mi...           708      9095   \n",
       "\n",
       "  Shortname                                               Name Sigla  \\\n",
       "0       KDD                Knowledge Discovery and Data Mining   KDD   \n",
       "1      ICDE       International Conference on Data Engineering  ICDE   \n",
       "2      CIKM  International Conference on Information and Kn...  CIKM   \n",
       "3      ICDM       IEEE International Conference on Data Mining  ICDM   \n",
       "4       SDM       SIAM International Conference on Data Mining   SDM   \n",
       "\n",
       "   Índice-­‐H Estrato ShortnameQualis  \n",
       "0         133      A1        KDD (A1)  \n",
       "1         113      A1       ICDE (A1)  \n",
       "2          85      A1       CIKM (A1)  \n",
       "3          77      A1       ICDM (A1)  \n",
       "4          51      A2        SDM (A2)  "
      ]
     },
     "execution_count": 328,
     "metadata": {},
     "output_type": "execute_result"
    }
   ],
   "source": [
    "data = read_subarea('cs-data-mining-conf-all-years.tsv')\n",
    "data.head()"
   ]
  },
  {
   "cell_type": "code",
   "execution_count": 349,
   "metadata": {
    "collapsed": false
   },
   "outputs": [
    {
     "data": {
      "text/html": [
       "<iframe id=\"igraph\" scrolling=\"no\" style=\"border:none;\" seamless=\"seamless\" src=\"https://plot.ly/~albertoueda/86.embed\" height=\"525px\" width=\"100%\"></iframe>"
      ],
      "text/plain": [
       "<plotly.tools.PlotlyDisplay object>"
      ]
     },
     "execution_count": 349,
     "metadata": {},
     "output_type": "execute_result"
    }
   ],
   "source": [
    "data.iplot(kind='pie', labels='ShortnameQualis', values='Publications', pull=.2, hole=.1, textposition='inside')"
   ]
  },
  {
   "cell_type": "code",
   "execution_count": 350,
   "metadata": {
    "collapsed": false
   },
   "outputs": [
    {
     "data": {
      "text/html": [
       "<iframe id=\"igraph\" scrolling=\"no\" style=\"border:none;\" seamless=\"seamless\" src=\"https://plot.ly/~albertoueda/88.embed\" height=\"525px\" width=\"100%\"></iframe>"
      ],
      "text/plain": [
       "<plotly.tools.PlotlyDisplay object>"
      ]
     },
     "execution_count": 350,
     "metadata": {},
     "output_type": "execute_result"
    }
   ],
   "source": [
    "data10.iplot(kind='pie', labels='Estrato', values='Publications', pull=.1, hole=.0, textposition='inside')"
   ]
  },
  {
   "cell_type": "code",
   "execution_count": 329,
   "metadata": {
    "collapsed": false
   },
   "outputs": [
    {
     "name": "stdout",
     "output_type": "stream",
     "text": [
      "Found 10 of 24 venues\n"
     ]
    },
    {
     "data": {
      "text/html": [
       "<div>\n",
       "<table border=\"1\" class=\"dataframe\">\n",
       "  <thead>\n",
       "    <tr style=\"text-align: right;\">\n",
       "      <th></th>\n",
       "      <th>Conferences</th>\n",
       "      <th>Publications</th>\n",
       "      <th>Citation</th>\n",
       "      <th>Shortname</th>\n",
       "      <th>Name</th>\n",
       "      <th>Sigla</th>\n",
       "      <th>Índice-­‐H</th>\n",
       "      <th>Estrato</th>\n",
       "      <th>ShortnameQualis</th>\n",
       "    </tr>\n",
       "  </thead>\n",
       "  <tbody>\n",
       "    <tr>\n",
       "      <th>0</th>\n",
       "      <td>SIGIR - Research and Development in Informatio...</td>\n",
       "      <td>1014</td>\n",
       "      <td>9547</td>\n",
       "      <td>SIGIR</td>\n",
       "      <td>Research and Development in Information Retrieval</td>\n",
       "      <td>SIGIR</td>\n",
       "      <td>122</td>\n",
       "      <td>A1</td>\n",
       "      <td>SIGIR (A1)</td>\n",
       "    </tr>\n",
       "    <tr>\n",
       "      <th>1</th>\n",
       "      <td>CIKM - International Conference on Information...</td>\n",
       "      <td>1470</td>\n",
       "      <td>5355</td>\n",
       "      <td>CIKM</td>\n",
       "      <td>International Conference on Information and Kn...</td>\n",
       "      <td>CIKM</td>\n",
       "      <td>85</td>\n",
       "      <td>A1</td>\n",
       "      <td>CIKM (A1)</td>\n",
       "    </tr>\n",
       "    <tr>\n",
       "      <th>2</th>\n",
       "      <td>ECIR - European Colloquium on IR Research</td>\n",
       "      <td>490</td>\n",
       "      <td>1679</td>\n",
       "      <td>ECIR</td>\n",
       "      <td>European Colloquium on IR Research</td>\n",
       "      <td>ECIR</td>\n",
       "      <td>39</td>\n",
       "      <td>A2</td>\n",
       "      <td>ECIR (A2)</td>\n",
       "    </tr>\n",
       "    <tr>\n",
       "      <th>3</th>\n",
       "      <td>JCDL - ACM/IEEE Joint Conference on Digital Li...</td>\n",
       "      <td>519</td>\n",
       "      <td>1586</td>\n",
       "      <td>JCDL</td>\n",
       "      <td>ACM/IEEE Joint Conference on Digital Libraries</td>\n",
       "      <td>JCDL</td>\n",
       "      <td>53</td>\n",
       "      <td>A2</td>\n",
       "      <td>JCDL (A2)</td>\n",
       "    </tr>\n",
       "    <tr>\n",
       "      <th>4</th>\n",
       "      <td>Multimedia Information Retrieval</td>\n",
       "      <td>218</td>\n",
       "      <td>1501</td>\n",
       "      <td>MULTIMEDIA INFORMATION RETRIEVAL</td>\n",
       "      <td>None</td>\n",
       "      <td>NaN</td>\n",
       "      <td>NaN</td>\n",
       "      <td>NaN</td>\n",
       "      <td>MULTIMEDIA INFORMATION RETRIEVAL</td>\n",
       "    </tr>\n",
       "  </tbody>\n",
       "</table>\n",
       "</div>"
      ],
      "text/plain": [
       "                                         Conferences  Publications  Citation  \\\n",
       "0  SIGIR - Research and Development in Informatio...          1014      9547   \n",
       "1  CIKM - International Conference on Information...          1470      5355   \n",
       "2          ECIR - European Colloquium on IR Research           490      1679   \n",
       "3  JCDL - ACM/IEEE Joint Conference on Digital Li...           519      1586   \n",
       "4                   Multimedia Information Retrieval           218      1501   \n",
       "\n",
       "                          Shortname  \\\n",
       "0                             SIGIR   \n",
       "1                              CIKM   \n",
       "2                              ECIR   \n",
       "3                              JCDL   \n",
       "4  MULTIMEDIA INFORMATION RETRIEVAL   \n",
       "\n",
       "                                                Name  Sigla  Índice-­‐H  \\\n",
       "0  Research and Development in Information Retrieval  SIGIR         122   \n",
       "1  International Conference on Information and Kn...   CIKM          85   \n",
       "2                 European Colloquium on IR Research   ECIR          39   \n",
       "3     ACM/IEEE Joint Conference on Digital Libraries   JCDL          53   \n",
       "4                                               None    NaN         NaN   \n",
       "\n",
       "  Estrato                   ShortnameQualis  \n",
       "0      A1                        SIGIR (A1)  \n",
       "1      A1                         CIKM (A1)  \n",
       "2      A2                         ECIR (A2)  \n",
       "3      A2                         JCDL (A2)  \n",
       "4     NaN  MULTIMEDIA INFORMATION RETRIEVAL  "
      ]
     },
     "execution_count": 329,
     "metadata": {},
     "output_type": "execute_result"
    }
   ],
   "source": [
    "ir10 = read_subarea('cs-ir-conf-10-years.tsv')\n",
    "ir10.head()"
   ]
  },
  {
   "cell_type": "code",
   "execution_count": 340,
   "metadata": {
    "collapsed": false
   },
   "outputs": [
    {
     "data": {
      "text/html": [
       "<iframe id=\"igraph\" scrolling=\"no\" style=\"border:none;\" seamless=\"seamless\" src=\"https://plot.ly/~albertoueda/68.embed\" height=\"525px\" width=\"100%\"></iframe>"
      ],
      "text/plain": [
       "<plotly.tools.PlotlyDisplay object>"
      ]
     },
     "execution_count": 340,
     "metadata": {},
     "output_type": "execute_result"
    }
   ],
   "source": [
    "ir10.iplot(kind='pie', labels='ShortnameQualis', values='Publications', pull=.2, hole=.1, textposition='inside')\n",
    "#v.iplot(kind='pie', labels='Estrato', values='Publications', pull=.1, hole=.0, textposition='inside')"
   ]
  },
  {
   "cell_type": "code",
   "execution_count": 330,
   "metadata": {
    "collapsed": false
   },
   "outputs": [
    {
     "name": "stdout",
     "output_type": "stream",
     "text": [
      "Found 10 of 41 venues\n"
     ]
    },
    {
     "data": {
      "text/html": [
       "<div>\n",
       "<table border=\"1\" class=\"dataframe\">\n",
       "  <thead>\n",
       "    <tr style=\"text-align: right;\">\n",
       "      <th></th>\n",
       "      <th>Conferences</th>\n",
       "      <th>Publications</th>\n",
       "      <th>Citation</th>\n",
       "      <th>Shortname</th>\n",
       "      <th>Name</th>\n",
       "      <th>Sigla</th>\n",
       "      <th>Índice-­‐H</th>\n",
       "      <th>Estrato</th>\n",
       "      <th>ShortnameQualis</th>\n",
       "    </tr>\n",
       "  </thead>\n",
       "  <tbody>\n",
       "    <tr>\n",
       "      <th>0</th>\n",
       "      <td>SIGIR - Research and Development in Informatio...</td>\n",
       "      <td>2717</td>\n",
       "      <td>72116</td>\n",
       "      <td>SIGIR</td>\n",
       "      <td>Research and Development in Information Retrieval</td>\n",
       "      <td>SIGIR</td>\n",
       "      <td>122</td>\n",
       "      <td>A1</td>\n",
       "      <td>SIGIR (A1)</td>\n",
       "    </tr>\n",
       "    <tr>\n",
       "      <th>1</th>\n",
       "      <td>CIKM - International Conference on Information...</td>\n",
       "      <td>2636</td>\n",
       "      <td>28621</td>\n",
       "      <td>CIKM</td>\n",
       "      <td>International Conference on Information and Kn...</td>\n",
       "      <td>CIKM</td>\n",
       "      <td>85</td>\n",
       "      <td>A1</td>\n",
       "      <td>CIKM (A1)</td>\n",
       "    </tr>\n",
       "    <tr>\n",
       "      <th>2</th>\n",
       "      <td>TREC - Text REtrieval Conference</td>\n",
       "      <td>1433</td>\n",
       "      <td>23782</td>\n",
       "      <td>TREC</td>\n",
       "      <td>Text REtrieval Conference</td>\n",
       "      <td>TREC</td>\n",
       "      <td>51</td>\n",
       "      <td>A2</td>\n",
       "      <td>TREC (A2)</td>\n",
       "    </tr>\n",
       "    <tr>\n",
       "      <th>3</th>\n",
       "      <td>JCDL - ACM/IEEE Joint Conference on Digital Li...</td>\n",
       "      <td>1269</td>\n",
       "      <td>7203</td>\n",
       "      <td>JCDL</td>\n",
       "      <td>ACM/IEEE Joint Conference on Digital Libraries</td>\n",
       "      <td>JCDL</td>\n",
       "      <td>53</td>\n",
       "      <td>A2</td>\n",
       "      <td>JCDL (A2)</td>\n",
       "    </tr>\n",
       "    <tr>\n",
       "      <th>4</th>\n",
       "      <td>DL - Digital Libraries</td>\n",
       "      <td>351</td>\n",
       "      <td>6546</td>\n",
       "      <td>DL</td>\n",
       "      <td>Digital Libraries</td>\n",
       "      <td>DL</td>\n",
       "      <td>36</td>\n",
       "      <td>B1</td>\n",
       "      <td>DL (B1)</td>\n",
       "    </tr>\n",
       "  </tbody>\n",
       "</table>\n",
       "</div>"
      ],
      "text/plain": [
       "                                         Conferences  Publications  Citation  \\\n",
       "0  SIGIR - Research and Development in Informatio...          2717     72116   \n",
       "1  CIKM - International Conference on Information...          2636     28621   \n",
       "2                   TREC - Text REtrieval Conference          1433     23782   \n",
       "3  JCDL - ACM/IEEE Joint Conference on Digital Li...          1269      7203   \n",
       "4                             DL - Digital Libraries           351      6546   \n",
       "\n",
       "  Shortname                                               Name  Sigla  \\\n",
       "0     SIGIR  Research and Development in Information Retrieval  SIGIR   \n",
       "1      CIKM  International Conference on Information and Kn...   CIKM   \n",
       "2      TREC                          Text REtrieval Conference   TREC   \n",
       "3      JCDL     ACM/IEEE Joint Conference on Digital Libraries   JCDL   \n",
       "4        DL                                  Digital Libraries     DL   \n",
       "\n",
       "   Índice-­‐H Estrato ShortnameQualis  \n",
       "0         122      A1      SIGIR (A1)  \n",
       "1          85      A1       CIKM (A1)  \n",
       "2          51      A2       TREC (A2)  \n",
       "3          53      A2       JCDL (A2)  \n",
       "4          36      B1         DL (B1)  "
      ]
     },
     "execution_count": 330,
     "metadata": {},
     "output_type": "execute_result"
    }
   ],
   "source": [
    "ir = read_subarea('cs-ir-conf-all-years.tsv')\n",
    "ir.head()"
   ]
  },
  {
   "cell_type": "code",
   "execution_count": 341,
   "metadata": {
    "collapsed": false
   },
   "outputs": [
    {
     "data": {
      "text/html": [
       "<iframe id=\"igraph\" scrolling=\"no\" style=\"border:none;\" seamless=\"seamless\" src=\"https://plot.ly/~albertoueda/70.embed\" height=\"525px\" width=\"100%\"></iframe>"
      ],
      "text/plain": [
       "<plotly.tools.PlotlyDisplay object>"
      ]
     },
     "execution_count": 341,
     "metadata": {},
     "output_type": "execute_result"
    }
   ],
   "source": [
    "ir.iplot(kind='pie', labels='ShortnameQualis', values='Publications', pull=.2, hole=.1, textposition='inside')"
   ]
  },
  {
   "cell_type": "code",
   "execution_count": 332,
   "metadata": {
    "collapsed": false
   },
   "outputs": [
    {
     "name": "stdout",
     "output_type": "stream",
     "text": [
      "Found 69 of 100 venues\n"
     ]
    },
    {
     "data": {
      "text/html": [
       "<div>\n",
       "<table border=\"1\" class=\"dataframe\">\n",
       "  <thead>\n",
       "    <tr style=\"text-align: right;\">\n",
       "      <th></th>\n",
       "      <th>Conferences</th>\n",
       "      <th>Publications</th>\n",
       "      <th>Citation</th>\n",
       "      <th>Shortname</th>\n",
       "      <th>Name</th>\n",
       "      <th>Sigla</th>\n",
       "      <th>Índice-­‐H</th>\n",
       "      <th>Estrato</th>\n",
       "      <th>ShortnameQualis</th>\n",
       "    </tr>\n",
       "  </thead>\n",
       "  <tbody>\n",
       "    <tr>\n",
       "      <th>0</th>\n",
       "      <td>INFOCOM - IEEE INFOCOM</td>\n",
       "      <td>2562</td>\n",
       "      <td>23340</td>\n",
       "      <td>INFOCOM</td>\n",
       "      <td>IEEE INFOCOM</td>\n",
       "      <td>INFOCOM</td>\n",
       "      <td>204</td>\n",
       "      <td>A1</td>\n",
       "      <td>INFOCOM (A1)</td>\n",
       "    </tr>\n",
       "    <tr>\n",
       "      <th>1</th>\n",
       "      <td>ICC - IEEE International Conference on Communi...</td>\n",
       "      <td>3600</td>\n",
       "      <td>15312</td>\n",
       "      <td>ICC</td>\n",
       "      <td>IEEE International Conference on Communications</td>\n",
       "      <td>ICC</td>\n",
       "      <td>53</td>\n",
       "      <td>A2</td>\n",
       "      <td>ICC (A2)</td>\n",
       "    </tr>\n",
       "    <tr>\n",
       "      <th>2</th>\n",
       "      <td>SIGCOMM - ACM SIGCOMM Conference</td>\n",
       "      <td>367</td>\n",
       "      <td>9057</td>\n",
       "      <td>SIGCOMM</td>\n",
       "      <td>ACM SIGCOMM Conference</td>\n",
       "      <td>SIGCOMM</td>\n",
       "      <td>145</td>\n",
       "      <td>A1</td>\n",
       "      <td>SIGCOMM (A1)</td>\n",
       "    </tr>\n",
       "    <tr>\n",
       "      <th>3</th>\n",
       "      <td>MOBICOM - Mobile Computing and Networking</td>\n",
       "      <td>487</td>\n",
       "      <td>7881</td>\n",
       "      <td>MOBICOM</td>\n",
       "      <td>Mobile Computing and Networking</td>\n",
       "      <td>MOBICOM</td>\n",
       "      <td>112</td>\n",
       "      <td>A1</td>\n",
       "      <td>MOBICOM (A1)</td>\n",
       "    </tr>\n",
       "    <tr>\n",
       "      <th>4</th>\n",
       "      <td>PIMRC - IEEE International Symposium on Person...</td>\n",
       "      <td>3653</td>\n",
       "      <td>5976</td>\n",
       "      <td>PIMRC</td>\n",
       "      <td>IEEE International Symposium on Personal, Indo...</td>\n",
       "      <td>PIMRC</td>\n",
       "      <td>60</td>\n",
       "      <td>A1</td>\n",
       "      <td>PIMRC (A1)</td>\n",
       "    </tr>\n",
       "  </tbody>\n",
       "</table>\n",
       "</div>"
      ],
      "text/plain": [
       "                                         Conferences  Publications  Citation  \\\n",
       "0                             INFOCOM - IEEE INFOCOM          2562     23340   \n",
       "1  ICC - IEEE International Conference on Communi...          3600     15312   \n",
       "2                   SIGCOMM - ACM SIGCOMM Conference           367      9057   \n",
       "3          MOBICOM - Mobile Computing and Networking           487      7881   \n",
       "4  PIMRC - IEEE International Symposium on Person...          3653      5976   \n",
       "\n",
       "  Shortname                                               Name    Sigla  \\\n",
       "0   INFOCOM                                       IEEE INFOCOM  INFOCOM   \n",
       "1       ICC    IEEE International Conference on Communications      ICC   \n",
       "2   SIGCOMM                             ACM SIGCOMM Conference  SIGCOMM   \n",
       "3   MOBICOM                    Mobile Computing and Networking  MOBICOM   \n",
       "4     PIMRC  IEEE International Symposium on Personal, Indo...    PIMRC   \n",
       "\n",
       "   Índice-­‐H Estrato ShortnameQualis  \n",
       "0         204      A1    INFOCOM (A1)  \n",
       "1          53      A2        ICC (A2)  \n",
       "2         145      A1    SIGCOMM (A1)  \n",
       "3         112      A1    MOBICOM (A1)  \n",
       "4          60      A1      PIMRC (A1)  "
      ]
     },
     "execution_count": 332,
     "metadata": {},
     "output_type": "execute_result"
    }
   ],
   "source": [
    "net10 = read_subarea('cs-networks-conf-10-years.tsv')\n",
    "net10.head()"
   ]
  },
  {
   "cell_type": "code",
   "execution_count": 342,
   "metadata": {
    "collapsed": false
   },
   "outputs": [
    {
     "data": {
      "text/html": [
       "<iframe id=\"igraph\" scrolling=\"no\" style=\"border:none;\" seamless=\"seamless\" src=\"https://plot.ly/~albertoueda/72.embed\" height=\"525px\" width=\"100%\"></iframe>"
      ],
      "text/plain": [
       "<plotly.tools.PlotlyDisplay object>"
      ]
     },
     "execution_count": 342,
     "metadata": {},
     "output_type": "execute_result"
    }
   ],
   "source": [
    "net10.iplot(kind='pie', labels='ShortnameQualis', values='Publications', pull=.2, hole=.1, textposition='inside')"
   ]
  },
  {
   "cell_type": "code",
   "execution_count": 333,
   "metadata": {
    "collapsed": false
   },
   "outputs": [
    {
     "name": "stdout",
     "output_type": "stream",
     "text": [
      "Found 55 of 100 venues\n"
     ]
    },
    {
     "data": {
      "text/html": [
       "<div>\n",
       "<table border=\"1\" class=\"dataframe\">\n",
       "  <thead>\n",
       "    <tr style=\"text-align: right;\">\n",
       "      <th></th>\n",
       "      <th>Conferences</th>\n",
       "      <th>Publications</th>\n",
       "      <th>Citation</th>\n",
       "      <th>Shortname</th>\n",
       "      <th>Name</th>\n",
       "      <th>Sigla</th>\n",
       "      <th>Índice-­‐H</th>\n",
       "      <th>Estrato</th>\n",
       "      <th>ShortnameQualis</th>\n",
       "    </tr>\n",
       "  </thead>\n",
       "  <tbody>\n",
       "    <tr>\n",
       "      <th>0</th>\n",
       "      <td>INFOCOM - IEEE INFOCOM</td>\n",
       "      <td>6559</td>\n",
       "      <td>190527</td>\n",
       "      <td>INFOCOM</td>\n",
       "      <td>IEEE INFOCOM</td>\n",
       "      <td>INFOCOM</td>\n",
       "      <td>204</td>\n",
       "      <td>A1</td>\n",
       "      <td>INFOCOM (A1)</td>\n",
       "    </tr>\n",
       "    <tr>\n",
       "      <th>1</th>\n",
       "      <td>MOBICOM - Mobile Computing and Networking</td>\n",
       "      <td>940</td>\n",
       "      <td>83865</td>\n",
       "      <td>MOBICOM</td>\n",
       "      <td>Mobile Computing and Networking</td>\n",
       "      <td>MOBICOM</td>\n",
       "      <td>112</td>\n",
       "      <td>A1</td>\n",
       "      <td>MOBICOM (A1)</td>\n",
       "    </tr>\n",
       "    <tr>\n",
       "      <th>2</th>\n",
       "      <td>ICC - IEEE International Conference on Communi...</td>\n",
       "      <td>8283</td>\n",
       "      <td>78781</td>\n",
       "      <td>ICC</td>\n",
       "      <td>IEEE International Conference on Communications</td>\n",
       "      <td>ICC</td>\n",
       "      <td>53</td>\n",
       "      <td>A2</td>\n",
       "      <td>ICC (A2)</td>\n",
       "    </tr>\n",
       "    <tr>\n",
       "      <th>3</th>\n",
       "      <td>SIGCOMM - ACM SIGCOMM Conference</td>\n",
       "      <td>946</td>\n",
       "      <td>49960</td>\n",
       "      <td>SIGCOMM</td>\n",
       "      <td>ACM SIGCOMM Conference</td>\n",
       "      <td>SIGCOMM</td>\n",
       "      <td>145</td>\n",
       "      <td>A1</td>\n",
       "      <td>SIGCOMM (A1)</td>\n",
       "    </tr>\n",
       "    <tr>\n",
       "      <th>4</th>\n",
       "      <td>VTC - Vehicular Technology Conference</td>\n",
       "      <td>1084</td>\n",
       "      <td>49426</td>\n",
       "      <td>VTC</td>\n",
       "      <td>Vehicular Technology Conference</td>\n",
       "      <td>VTC</td>\n",
       "      <td>98</td>\n",
       "      <td>A1</td>\n",
       "      <td>VTC (A1)</td>\n",
       "    </tr>\n",
       "  </tbody>\n",
       "</table>\n",
       "</div>"
      ],
      "text/plain": [
       "                                         Conferences  Publications  Citation  \\\n",
       "0                             INFOCOM - IEEE INFOCOM          6559    190527   \n",
       "1          MOBICOM - Mobile Computing and Networking           940     83865   \n",
       "2  ICC - IEEE International Conference on Communi...          8283     78781   \n",
       "3                   SIGCOMM - ACM SIGCOMM Conference           946     49960   \n",
       "4              VTC - Vehicular Technology Conference          1084     49426   \n",
       "\n",
       "  Shortname                                             Name    Sigla  \\\n",
       "0   INFOCOM                                     IEEE INFOCOM  INFOCOM   \n",
       "1   MOBICOM                  Mobile Computing and Networking  MOBICOM   \n",
       "2       ICC  IEEE International Conference on Communications      ICC   \n",
       "3   SIGCOMM                           ACM SIGCOMM Conference  SIGCOMM   \n",
       "4       VTC                  Vehicular Technology Conference      VTC   \n",
       "\n",
       "   Índice-­‐H Estrato ShortnameQualis  \n",
       "0         204      A1    INFOCOM (A1)  \n",
       "1         112      A1    MOBICOM (A1)  \n",
       "2          53      A2        ICC (A2)  \n",
       "3         145      A1    SIGCOMM (A1)  \n",
       "4          98      A1        VTC (A1)  "
      ]
     },
     "execution_count": 333,
     "metadata": {},
     "output_type": "execute_result"
    }
   ],
   "source": [
    "net = read_subarea('cs-networks-conf-all-years.tsv')\n",
    "net.head()"
   ]
  },
  {
   "cell_type": "code",
   "execution_count": 343,
   "metadata": {
    "collapsed": false
   },
   "outputs": [
    {
     "data": {
      "text/html": [
       "<iframe id=\"igraph\" scrolling=\"no\" style=\"border:none;\" seamless=\"seamless\" src=\"https://plot.ly/~albertoueda/74.embed\" height=\"525px\" width=\"100%\"></iframe>"
      ],
      "text/plain": [
       "<plotly.tools.PlotlyDisplay object>"
      ]
     },
     "execution_count": 343,
     "metadata": {},
     "output_type": "execute_result"
    }
   ],
   "source": [
    "net.iplot(kind='pie', labels='ShortnameQualis', values='Publications', pull=.2, hole=.1, textposition='inside')"
   ]
  },
  {
   "cell_type": "code",
   "execution_count": 344,
   "metadata": {
    "collapsed": false
   },
   "outputs": [
    {
     "data": {
      "text/html": [
       "<iframe id=\"igraph\" scrolling=\"no\" style=\"border:none;\" seamless=\"seamless\" src=\"https://plot.ly/~albertoueda/76.embed\" height=\"525px\" width=\"100%\"></iframe>"
      ],
      "text/plain": [
       "<plotly.tools.PlotlyDisplay object>"
      ]
     },
     "execution_count": 344,
     "metadata": {},
     "output_type": "execute_result"
    }
   ],
   "source": [
    "net10.iplot(kind='pie', labels='Estrato', values='Publications', pull=.1, hole=.0, textposition='inside')"
   ]
  },
  {
   "cell_type": "code",
   "execution_count": 334,
   "metadata": {
    "collapsed": false
   },
   "outputs": [
    {
     "name": "stdout",
     "output_type": "stream",
     "text": [
      "Found 49 of 101 venues\n"
     ]
    },
    {
     "data": {
      "text/html": [
       "<div>\n",
       "<table border=\"1\" class=\"dataframe\">\n",
       "  <thead>\n",
       "    <tr style=\"text-align: right;\">\n",
       "      <th></th>\n",
       "      <th>Conferences</th>\n",
       "      <th>Publications</th>\n",
       "      <th>Citation</th>\n",
       "      <th>Shortname</th>\n",
       "      <th>Name</th>\n",
       "      <th>Sigla</th>\n",
       "      <th>Índice-­‐H</th>\n",
       "      <th>Estrato</th>\n",
       "      <th>ShortnameQualis</th>\n",
       "    </tr>\n",
       "  </thead>\n",
       "  <tbody>\n",
       "    <tr>\n",
       "      <th>0</th>\n",
       "      <td>SODA - ACM-SIAM Symposium on Discrete Algorithms</td>\n",
       "      <td>716</td>\n",
       "      <td>6718</td>\n",
       "      <td>SODA</td>\n",
       "      <td>ACM-SIAM Symposium on Discrete Algorithms</td>\n",
       "      <td>SODA</td>\n",
       "      <td>85</td>\n",
       "      <td>A1</td>\n",
       "      <td>SODA (A1)</td>\n",
       "    </tr>\n",
       "    <tr>\n",
       "      <th>1</th>\n",
       "      <td>STOC - ACM Symposium on Theory of Computing</td>\n",
       "      <td>347</td>\n",
       "      <td>5259</td>\n",
       "      <td>STOC</td>\n",
       "      <td>ACM Symposium on Theory of Computing</td>\n",
       "      <td>STOC</td>\n",
       "      <td>100</td>\n",
       "      <td>A1</td>\n",
       "      <td>STOC (A1)</td>\n",
       "    </tr>\n",
       "    <tr>\n",
       "      <th>2</th>\n",
       "      <td>ICALP - International Colloquium on Automata, ...</td>\n",
       "      <td>497</td>\n",
       "      <td>2986</td>\n",
       "      <td>ICALP</td>\n",
       "      <td>International Colloquium on Automata, Language...</td>\n",
       "      <td>ICALP</td>\n",
       "      <td>61</td>\n",
       "      <td>A1</td>\n",
       "      <td>ICALP (A1)</td>\n",
       "    </tr>\n",
       "    <tr>\n",
       "      <th>3</th>\n",
       "      <td>FOCS - IEEE Symposium on Foundations of Comput...</td>\n",
       "      <td>258</td>\n",
       "      <td>2878</td>\n",
       "      <td>FOCS</td>\n",
       "      <td>IEEE Symposium on Foundations of Computer Science</td>\n",
       "      <td>FOCS</td>\n",
       "      <td>94</td>\n",
       "      <td>A1</td>\n",
       "      <td>FOCS (A1)</td>\n",
       "    </tr>\n",
       "    <tr>\n",
       "      <th>4</th>\n",
       "      <td>ICCS - International Conference on Computation...</td>\n",
       "      <td>1795</td>\n",
       "      <td>2723</td>\n",
       "      <td>ICCS</td>\n",
       "      <td>International Conference on Computational Science</td>\n",
       "      <td>ICCS</td>\n",
       "      <td>37</td>\n",
       "      <td>A2</td>\n",
       "      <td>ICCS (A2)</td>\n",
       "    </tr>\n",
       "  </tbody>\n",
       "</table>\n",
       "</div>"
      ],
      "text/plain": [
       "                                         Conferences  Publications  Citation  \\\n",
       "0   SODA - ACM-SIAM Symposium on Discrete Algorithms           716      6718   \n",
       "1        STOC - ACM Symposium on Theory of Computing           347      5259   \n",
       "2  ICALP - International Colloquium on Automata, ...           497      2986   \n",
       "3  FOCS - IEEE Symposium on Foundations of Comput...           258      2878   \n",
       "4  ICCS - International Conference on Computation...          1795      2723   \n",
       "\n",
       "  Shortname                                               Name  Sigla  \\\n",
       "0      SODA          ACM-SIAM Symposium on Discrete Algorithms   SODA   \n",
       "1      STOC               ACM Symposium on Theory of Computing   STOC   \n",
       "2     ICALP  International Colloquium on Automata, Language...  ICALP   \n",
       "3      FOCS  IEEE Symposium on Foundations of Computer Science   FOCS   \n",
       "4      ICCS  International Conference on Computational Science   ICCS   \n",
       "\n",
       "   Índice-­‐H Estrato ShortnameQualis  \n",
       "0          85      A1       SODA (A1)  \n",
       "1         100      A1       STOC (A1)  \n",
       "2          61      A1      ICALP (A1)  \n",
       "3          94      A1       FOCS (A1)  \n",
       "4          37      A2       ICCS (A2)  "
      ]
     },
     "execution_count": 334,
     "metadata": {},
     "output_type": "execute_result"
    }
   ],
   "source": [
    "theory10 = read_subarea('cs-theory-conf-10-years.tsv')\n",
    "theory10.head()"
   ]
  },
  {
   "cell_type": "code",
   "execution_count": 345,
   "metadata": {
    "collapsed": false
   },
   "outputs": [
    {
     "data": {
      "text/html": [
       "<iframe id=\"igraph\" scrolling=\"no\" style=\"border:none;\" seamless=\"seamless\" src=\"https://plot.ly/~albertoueda/78.embed\" height=\"525px\" width=\"100%\"></iframe>"
      ],
      "text/plain": [
       "<plotly.tools.PlotlyDisplay object>"
      ]
     },
     "execution_count": 345,
     "metadata": {},
     "output_type": "execute_result"
    }
   ],
   "source": [
    "theory10.iplot(kind='pie', labels='ShortnameQualis', values='Publications', pull=.2, hole=.1, textposition='inside')"
   ]
  },
  {
   "cell_type": "code",
   "execution_count": 335,
   "metadata": {
    "collapsed": false
   },
   "outputs": [
    {
     "name": "stdout",
     "output_type": "stream",
     "text": [
      "Found 45 of 100 venues\n"
     ]
    },
    {
     "data": {
      "text/html": [
       "<div>\n",
       "<table border=\"1\" class=\"dataframe\">\n",
       "  <thead>\n",
       "    <tr style=\"text-align: right;\">\n",
       "      <th></th>\n",
       "      <th>Conferences</th>\n",
       "      <th>Publications</th>\n",
       "      <th>Citation</th>\n",
       "      <th>Shortname</th>\n",
       "      <th>Name</th>\n",
       "      <th>Sigla</th>\n",
       "      <th>Índice-­‐H</th>\n",
       "      <th>Estrato</th>\n",
       "      <th>ShortnameQualis</th>\n",
       "    </tr>\n",
       "  </thead>\n",
       "  <tbody>\n",
       "    <tr>\n",
       "      <th>0</th>\n",
       "      <td>STOC - ACM Symposium on Theory of Computing</td>\n",
       "      <td>2884</td>\n",
       "      <td>121268</td>\n",
       "      <td>STOC</td>\n",
       "      <td>ACM Symposium on Theory of Computing</td>\n",
       "      <td>STOC</td>\n",
       "      <td>100</td>\n",
       "      <td>A1</td>\n",
       "      <td>STOC (A1)</td>\n",
       "    </tr>\n",
       "    <tr>\n",
       "      <th>1</th>\n",
       "      <td>FOCS - IEEE Symposium on Foundations of Comput...</td>\n",
       "      <td>3086</td>\n",
       "      <td>107338</td>\n",
       "      <td>FOCS</td>\n",
       "      <td>IEEE Symposium on Foundations of Computer Science</td>\n",
       "      <td>FOCS</td>\n",
       "      <td>94</td>\n",
       "      <td>A1</td>\n",
       "      <td>FOCS (A1)</td>\n",
       "    </tr>\n",
       "    <tr>\n",
       "      <th>2</th>\n",
       "      <td>SODA - ACM-SIAM Symposium on Discrete Algorithms</td>\n",
       "      <td>2333</td>\n",
       "      <td>50906</td>\n",
       "      <td>SODA</td>\n",
       "      <td>ACM-SIAM Symposium on Discrete Algorithms</td>\n",
       "      <td>SODA</td>\n",
       "      <td>85</td>\n",
       "      <td>A1</td>\n",
       "      <td>SODA (A1)</td>\n",
       "    </tr>\n",
       "    <tr>\n",
       "      <th>3</th>\n",
       "      <td>ICALP - International Colloquium on Automata, ...</td>\n",
       "      <td>2510</td>\n",
       "      <td>37224</td>\n",
       "      <td>ICALP</td>\n",
       "      <td>International Colloquium on Automata, Language...</td>\n",
       "      <td>ICALP</td>\n",
       "      <td>61</td>\n",
       "      <td>A1</td>\n",
       "      <td>ICALP (A1)</td>\n",
       "    </tr>\n",
       "    <tr>\n",
       "      <th>4</th>\n",
       "      <td>LICS - Logic in Computer Science</td>\n",
       "      <td>1345</td>\n",
       "      <td>36850</td>\n",
       "      <td>LICS</td>\n",
       "      <td>Logic in Computer Science</td>\n",
       "      <td>LICS</td>\n",
       "      <td>52</td>\n",
       "      <td>A2</td>\n",
       "      <td>LICS (A2)</td>\n",
       "    </tr>\n",
       "  </tbody>\n",
       "</table>\n",
       "</div>"
      ],
      "text/plain": [
       "                                         Conferences  Publications  Citation  \\\n",
       "0        STOC - ACM Symposium on Theory of Computing          2884    121268   \n",
       "1  FOCS - IEEE Symposium on Foundations of Comput...          3086    107338   \n",
       "2   SODA - ACM-SIAM Symposium on Discrete Algorithms          2333     50906   \n",
       "3  ICALP - International Colloquium on Automata, ...          2510     37224   \n",
       "4                   LICS - Logic in Computer Science          1345     36850   \n",
       "\n",
       "  Shortname                                               Name  Sigla  \\\n",
       "0      STOC               ACM Symposium on Theory of Computing   STOC   \n",
       "1      FOCS  IEEE Symposium on Foundations of Computer Science   FOCS   \n",
       "2      SODA          ACM-SIAM Symposium on Discrete Algorithms   SODA   \n",
       "3     ICALP  International Colloquium on Automata, Language...  ICALP   \n",
       "4      LICS                          Logic in Computer Science   LICS   \n",
       "\n",
       "   Índice-­‐H Estrato ShortnameQualis  \n",
       "0         100      A1       STOC (A1)  \n",
       "1          94      A1       FOCS (A1)  \n",
       "2          85      A1       SODA (A1)  \n",
       "3          61      A1      ICALP (A1)  \n",
       "4          52      A2       LICS (A2)  "
      ]
     },
     "execution_count": 335,
     "metadata": {},
     "output_type": "execute_result"
    }
   ],
   "source": [
    "theory = read_subarea('cs-theory-conf-all-years.tsv')\n",
    "theory.head()"
   ]
  },
  {
   "cell_type": "code",
   "execution_count": 346,
   "metadata": {
    "collapsed": false
   },
   "outputs": [
    {
     "data": {
      "text/html": [
       "<iframe id=\"igraph\" scrolling=\"no\" style=\"border:none;\" seamless=\"seamless\" src=\"https://plot.ly/~albertoueda/80.embed\" height=\"525px\" width=\"100%\"></iframe>"
      ],
      "text/plain": [
       "<plotly.tools.PlotlyDisplay object>"
      ]
     },
     "execution_count": 346,
     "metadata": {},
     "output_type": "execute_result"
    }
   ],
   "source": [
    "theory.iplot(kind='pie', labels='ShortnameQualis', values='Publications', pull=.2, hole=.1, textposition='inside')"
   ]
  },
  {
   "cell_type": "code",
   "execution_count": 352,
   "metadata": {
    "collapsed": false
   },
   "outputs": [
    {
     "data": {
      "text/html": [
       "<iframe id=\"igraph\" scrolling=\"no\" style=\"border:none;\" seamless=\"seamless\" src=\"https://plot.ly/~albertoueda/92.embed\" height=\"525px\" width=\"100%\"></iframe>"
      ],
      "text/plain": [
       "<plotly.tools.PlotlyDisplay object>"
      ]
     },
     "execution_count": 352,
     "metadata": {},
     "output_type": "execute_result"
    }
   ],
   "source": [
    "theory10.iplot(kind='pie', labels='Estrato', values='Publications', pull=.1, hole=.0, textposition='inside')"
   ]
  }
 ],
 "metadata": {
  "kernelspec": {
   "display_name": "Python 3",
   "language": "python",
   "name": "python3"
  },
  "language_info": {
   "codemirror_mode": {
    "name": "ipython",
    "version": 3
   },
   "file_extension": ".py",
   "mimetype": "text/x-python",
   "name": "python",
   "nbconvert_exporter": "python",
   "pygments_lexer": "ipython3",
   "version": "3.5.1"
  }
 },
 "nbformat": 4,
 "nbformat_minor": 0
}
