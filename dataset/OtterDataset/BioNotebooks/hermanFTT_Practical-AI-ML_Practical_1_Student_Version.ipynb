{
 "cells": [
  {
   "cell_type": "code",
   "execution_count": null,
   "id": "732c6cdb",
   "metadata": {},
   "outputs": [],
   "source": [
    "import pickle\n",
    "from typing import List\n",
    "\n",
    "import matplotlib as mpl\n",
    "import matplotlib.pyplot as plt\n",
    "import numpy as np\n",
    "from scipy.integrate import solve_ivp, odeint\n",
    "from scipy.interpolate import interp1d\n",
    "\n",
    "# helper functions for plotting\n",
    "from utils import plot_throw2\n",
    "\n",
    "# set jupyter configurations\n",
    "%matplotlib inline\n",
    "%config InlineBackend.figure_format='retina'\n",
    "default_dpi = mpl.rcParamsDefault[\"figure.dpi\"]\n",
    "mpl.rcParams[\"figure.dpi\"] = default_dpi * 1.2"
   ]
  },
  {
   "cell_type": "markdown",
   "id": "2d8d1d22",
   "metadata": {},
   "source": [
    "## Simulator: Throwing a ball in air\n",
    "\n",
    "A ballistic throw in air is modelled via a differential equation:\n",
    "\n",
    "$\\frac{d}{dt} x = v_x$\n",
    "\n",
    "$a_x\\frac{d}{dt} v_x = -\\frac{k}{m} \\cdot v_x \\cdot s$\n",
    "\n",
    "$\\frac{d}{dt} z = v_z$\n",
    "\n",
    "$a_z\\frac{d}{dt} v_z = -\\frac{k}{m} \\cdot v_z \\cdot s - g$\n",
    "\n",
    "Here, $g$ is the gravitational acceleration, $k$ is the drag constant, $m$ is the mass of the object and $s=|v|= \\sqrt{v_x^2 + v_z^2}$.\n"
   ]
  },
  {
   "cell_type": "code",
   "execution_count": null,
   "id": "6fbfe84a",
   "metadata": {},
   "outputs": [],
   "source": [
    "def throw(\n",
    "    speed: float,\n",
    "    angle: int,\n",
    "    drag: float,\n",
    "    r: float = 0.050,\n",
    "    m: float = 0.2,\n",
    "    h_noise: float = 3.0,\n",
    "    ρ: float = 1.225,\n",
    "    g: float = 9.81,\n",
    ") -> dict:\n",
    "    \"\"\"Simulate the throw of a ball.\n",
    "    \n",
    "    Following https://scipython.com/book2/chapter-8-scipy/examples/a-projectile-with-air-resistance/\n",
    "    \n",
    "    Args:\n",
    "        speed: magnitude of initial speed (m/s).\n",
    "        angle: launch angle with horizontal (degrees)\n",
    "        drag: drag coefficient\n",
    "        r: projectile radius (m)\n",
    "        m: projectile mass (kg)\n",
    "        h_noise: std of measurements of altitude (m)\n",
    "        ρ: air density (default is at sea surface, 15C)\n",
    "        g: gravitational acceleration (default is average at surface of Earth)\n",
    "    \n",
    "    Returns:\n",
    "        simulation: simulation results containing distance travelled\n",
    "            and height as a function of time.\n",
    "    \"\"\"\n",
    "\n",
    "    k = 0.5 * drag * ρ * (np.pi * r**2)  # drag constant, proportional to area\n",
    "\n",
    "    def deriv(t, u):\n",
    "        \"\"\"Return right-hand side of ODE system for the throw.\"\"\"\n",
    "        # see diagram at e.g. http://www.physics.smu.edu/fattarus/ballistic.html\n",
    "\n",
    "        #### INSERT YOUR CODE HERE ####\n",
    "        x, v_x, z, v_z = u\n",
    "        speed = np.hypot(v_x, v_z)\n",
    "        a_x, a_z = -k / m * speed * v_x, -k / m * speed * v_z - g\n",
    "\n",
    "        ###############################\n",
    "\n",
    "        return v_x, a_x, v_z, a_z\n",
    "\n",
    "    # position and velocity components at launch\n",
    "    x0, z0 = 0, 0\n",
    "    rad_angle = np.radians(angle)\n",
    "    v0_x, v0_z = speed * np.cos(rad_angle), speed * np.sin(rad_angle)\n",
    "\n",
    "    # integration grid\n",
    "    t = np.linspace(0, 400, 4000)\n",
    "\n",
    "    # solve initial value problem (ivp) for distance traveled(t) and height(t)\n",
    "\n",
    "    # df/dt = f(t,y); f(t_i) = y_i,\n",
    "\n",
    "    #### INSERT YOUR CODE HERE ####\n",
    "\n",
    "    solution = solve_ivp(\n",
    "        deriv, t_span=(t[0], t[-1]), y0=(x0, v0_x, z0, v0_z), dense_output=True\n",
    "    )  # dense => continuous solution\n",
    "\n",
    "    ###############################\n",
    "\n",
    "    # evaluate solution to obtain distance and height at each time point\n",
    "    d, _, h, _ = solution.sol(t)\n",
    "\n",
    "    # the simulator always uses the same time grid, interpolate to the same distance grid\n",
    "    f = interp1d(d, h, bounds_error=False)\n",
    "\n",
    "    d_target = np.linspace(0, 150, 100)\n",
    "\n",
    "    h_target = f(d_target)\n",
    "\n",
    "    # add noise to make the process stochastic\n",
    "    x = h_target + h_noise * np.random.randn(d_target.shape[0])\n",
    "\n",
    "    # to obtain the params from the interactive plot, we need to return parameters here as well\n",
    "    return dict(θ=(speed, angle, drag, r, m, h_noise, ρ, g), d=d_target, x=x)"
   ]
  },
  {
   "cell_type": "markdown",
   "id": "a6fb6836",
   "metadata": {},
   "source": [
    "If you run the cell below with throwing speed 40 m/s, angle 30 degrees and drag coefficient 0.13, you obtain circles that directly overlay $x_o$ (i.e., the original simulation)."
   ]
  },
  {
   "cell_type": "code",
   "execution_count": null,
   "id": "0c378f09",
   "metadata": {},
   "outputs": [],
   "source": [
    "with open(\"throw-x_o-1.pickle\", \"rb\") as f:\n",
    "    d_o, x_o = pickle.load(f)\n",
    "\n",
    "sim = throw(40, 30, 0.13, h_noise=0)  # run the simulation without noise\n",
    "\n",
    "d, x = sim[\"d\"], sim[\"x\"]\n",
    "\n",
    "plot_throw2(d_o, x_o, d, x)"
   ]
  },
  {
   "cell_type": "markdown",
   "id": "09909388",
   "metadata": {},
   "source": [
    "a) Familiarize yourself with the simulator by running it with different parameter settings for speed, angle and drag.\n",
    "\n",
    "b) Find a different parameter set than the original parameter set (speed 40 m/s, angle 30 degrees and drag 0.13) that gives you the same final distance traveled. This online simulator can help you: http://www.physics.smu.edu/fattarus/ballistic.html"
   ]
  },
  {
   "cell_type": "code",
   "execution_count": null,
   "id": "b78f43b9",
   "metadata": {},
   "outputs": [],
   "source": []
  },
  {
   "cell_type": "markdown",
   "id": "0d8dd65a",
   "metadata": {},
   "source": [
    "1. When models have different parameter sets that give the same solution, we say that the models show degeneracy (or that they have degenerate solutions).\n",
    "2. This is a property of many models in natural sciences (e.g., Physics, Biology...), and is the subject of active research: e.g., how to analytically or numerically find these degenerate solutions, or what these degenerate solutions mean about the reality they are modelling."
   ]
  },
  {
   "cell_type": "code",
   "execution_count": null,
   "id": "37dcc988",
   "metadata": {},
   "outputs": [],
   "source": []
  }
 ],
 "metadata": {
  "kernelspec": {
   "display_name": "Python 3",
   "language": "python",
   "name": "python3"
  },
  "language_info": {
   "codemirror_mode": {
    "name": "ipython",
    "version": 3
   },
   "file_extension": ".py",
   "mimetype": "text/x-python",
   "name": "python",
   "nbconvert_exporter": "python",
   "pygments_lexer": "ipython3",
   "version": "3.7.11"
  },
  "vscode": {
   "interpreter": {
    "hash": "c2fddc3234490c181eec43528232b6089a6e08593c6aa486303fa12c8cb547d5"
   }
  }
 },
 "nbformat": 4,
 "nbformat_minor": 5
}
