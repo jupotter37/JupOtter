{
 "cells": [
  {
   "cell_type": "markdown",
   "metadata": {},
   "source": [
    "\n",
    "# This is an [R Markdown](http://rmarkdown.rstudio.com) Notebook to cover basic statistics required for Biology, and infact for doing some scrappy datascience. When you execute code within the notebook, the results appear beneath the code. \n",
    "\n",
    "# First we need to have a question, how/why/what something happens. It is a fundamental curiosity which invokes the hypothesis. A hypothesis is a claim which you are unsure of or want to seek answer to by observation or by doing experiments.\n",
    "\n",
    "# Lets take an example from the class about Mendelian genetics. Parents (YYRR * ggww)  -> F1(YgRw). We expect the secong generation(F2) cross to follow 9(YR):3(Yw):3(gR):1(gw) ratio.  Example Adapted from Zar (Biostatistics)\n",
    "\n"
   ]
  },
  {
   "cell_type": "code",
   "execution_count": 2,
   "metadata": {},
   "outputs": [
    {
     "data": {
      "text/plain": [
       "\n",
       "\tChi-squared test for given probabilities\n",
       "\n",
       "data:  x\n",
       "X-squared = 2.2353, df = 3, p-value = 0.525\n"
      ]
     },
     "metadata": {},
     "output_type": "display_data"
    }
   ],
   "source": [
    "x <- matrix(c(2504,853,881,292), ncol = 4)\n",
    "chisq.test(x, p = c(9/16,3/16,3/16,1/16))"
   ]
  },
  {
   "cell_type": "markdown",
   "metadata": {},
   "source": [
    "As p-value > 0.05, we fail to reject our null hypothesis that the observed frequency follows Mendelian theory.\n",
    "\n",
    "Another example on the same line.\n",
    "\n",
    "\n",
    "F1 generation cross between two strains of Drosophilia(Fruit flies), there were 37 female flies, and 47 male flies. The expected sex ratio was 1 male: 1 female. Does the observed ratio differ significantly from the expectation. (Stat for Biology - O.N.Bishop).\n",
    "\n",
    "----------------------------\n",
    "          Female   |  Male\n",
    "----------------------------\n",
    "          | 37       |  47\n",
    "----------------------------\n",
    "\n",
    "Here we can use the Chi-square test to see if there is a deviation from the expected."
   ]
  },
  {
   "cell_type": "markdown",
   "metadata": {},
   "source": []
  },
  {
   "cell_type": "code",
   "execution_count": 3,
   "metadata": {},
   "outputs": [
    {
     "data": {
      "text/plain": [
       "\n",
       "\tChi-squared test for given probabilities\n",
       "\n",
       "data:  x\n",
       "X-squared = 1.1905, df = 1, p-value = 0.2752\n"
      ]
     },
     "metadata": {},
     "output_type": "display_data"
    }
   ],
   "source": [
    "x <- matrix(c(37,47), ncol = 2)\n",
    "chisq.test(x, p = c(.5,0.5))"
   ]
  },
  {
   "cell_type": "markdown",
   "metadata": {},
   "source": [
    "As p-value > 0.05, we fail to reject our null hypothesis that their would equal number of male and female in F1 cross.\n",
    "\n"
   ]
  },
  {
   "cell_type": "markdown",
   "metadata": {},
   "source": [
    "Now, lets try to test our Mendelian theory by different set of experimental results."
   ]
  },
  {
   "cell_type": "code",
   "execution_count": 4,
   "metadata": {},
   "outputs": [
    {
     "data": {
      "text/plain": [
       "\n",
       "\tChi-squared test for given probabilities\n",
       "\n",
       "data:  x\n",
       "X-squared = 8.9724, df = 3, p-value = 0.02966\n"
      ]
     },
     "metadata": {},
     "output_type": "display_data"
    }
   ],
   "source": [
    "x <- matrix(c(152,39,53,6), ncol = 4)\n",
    "chisq.test(x, p = c(9/16,3/16,3/16,1/16))"
   ]
  },
  {
   "cell_type": "markdown",
   "metadata": {},
   "source": [
    "What do you conclude now ?"
   ]
  },
  {
   "cell_type": "markdown",
   "metadata": {},
   "source": [
    "Would you be interested in learning about Homegeneity , and Independent Sampling in the context of Chi-Square test ?"
   ]
  }
 ],
 "metadata": {
  "kernelspec": {
   "display_name": "R",
   "language": "R",
   "name": "ir"
  },
  "language_info": {
   "codemirror_mode": "r",
   "file_extension": ".r",
   "mimetype": "text/x-r-source",
   "name": "R",
   "pygments_lexer": "r",
   "version": "3.3.2"
  }
 },
 "nbformat": 4,
 "nbformat_minor": 2
}
