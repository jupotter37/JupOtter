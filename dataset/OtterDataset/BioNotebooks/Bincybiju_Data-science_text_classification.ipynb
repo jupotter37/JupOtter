{
  "nbformat": 4,
  "nbformat_minor": 0,
  "metadata": {
    "colab": {
      "provenance": []
    },
    "kernelspec": {
      "name": "python3",
      "display_name": "Python 3"
    },
    "language_info": {
      "name": "python"
    }
  },
  "cells": [
    {
      "cell_type": "markdown",
      "source": [
        "Aim: Program to implement text classification using Support vector machine."
      ],
      "metadata": {
        "id": "YJASN8o2DyRl"
      }
    },
    {
      "cell_type": "code",
      "execution_count": null,
      "metadata": {
        "id": "E0daHLtZ0sf1"
      },
      "outputs": [],
      "source": [
        "import nltk # Natural language toolkit\n",
        "import pandas as pd"
      ]
    },
    {
      "cell_type": "code",
      "source": [
        "nltk.download_shell()#he NLTK corpus and module downloader. \n",
        "                     #This module defines several interfaces which can be used to download corpora, models, and other data packages that can be used with NLTK."
      ],
      "metadata": {
        "colab": {
          "base_uri": "https://localhost:8080/"
        },
        "id": "Dq5_w3r50wc7",
        "outputId": "f82196f9-0edb-470a-fbee-a797bd9b0541"
      },
      "execution_count": null,
      "outputs": [
        {
          "name": "stdout",
          "output_type": "stream",
          "text": [
            "NLTK Downloader\n",
            "---------------------------------------------------------------------------\n",
            "    d) Download   l) List    u) Update   c) Config   h) Help   q) Quit\n",
            "---------------------------------------------------------------------------\n",
            "Downloader> 1\n",
            "Command '1' unrecognized\n",
            "\n",
            "---------------------------------------------------------------------------\n",
            "    d) Download   l) List    u) Update   c) Config   h) Help   q) Quit\n",
            "---------------------------------------------------------------------------\n",
            "Downloader> l\n",
            "\n",
            "Packages:\n",
            "  [ ] abc................. Australian Broadcasting Commission 2006\n",
            "  [ ] alpino.............. Alpino Dutch Treebank\n",
            "  [ ] averaged_perceptron_tagger Averaged Perceptron Tagger\n",
            "  [ ] averaged_perceptron_tagger_ru Averaged Perceptron Tagger (Russian)\n",
            "  [ ] basque_grammars..... Grammars for Basque\n",
            "  [ ] biocreative_ppi..... BioCreAtIvE (Critical Assessment of Information\n",
            "                           Extraction Systems in Biology)\n",
            "  [ ] bllip_wsj_no_aux.... BLLIP Parser: WSJ Model\n",
            "  [ ] book_grammars....... Grammars from NLTK Book\n",
            "  [ ] brown............... Brown Corpus\n",
            "  [ ] brown_tei........... Brown Corpus (TEI XML Version)\n",
            "  [ ] cess_cat............ CESS-CAT Treebank\n",
            "  [ ] cess_esp............ CESS-ESP Treebank\n",
            "  [ ] chat80.............. Chat-80 Data Files\n",
            "  [ ] city_database....... City Database\n",
            "  [ ] cmudict............. The Carnegie Mellon Pronouncing Dictionary (0.6)\n",
            "  [ ] comparative_sentences Comparative Sentence Dataset\n",
            "  [ ] comtrans............ ComTrans Corpus Sample\n",
            "  [ ] conll2000........... CONLL 2000 Chunking Corpus\n",
            "  [ ] conll2002........... CONLL 2002 Named Entity Recognition Corpus\n",
            "Hit Enter to continue: q\n",
            "\n",
            "---------------------------------------------------------------------------\n",
            "    d) Download   l) List    u) Update   c) Config   h) Help   q) Quit\n",
            "---------------------------------------------------------------------------\n",
            "Downloader> q\n"
          ]
        }
      ]
    },
    {
      "cell_type": "code",
      "source": [
        "nltk.download_shell()"
      ],
      "metadata": {
        "colab": {
          "base_uri": "https://localhost:8080/"
        },
        "id": "SQJ6gIvx03j7",
        "outputId": "d07e4ca7-c828-49ea-9f74-374bbb893d64"
      },
      "execution_count": null,
      "outputs": [
        {
          "name": "stdout",
          "output_type": "stream",
          "text": [
            "NLTK Downloader\n",
            "---------------------------------------------------------------------------\n",
            "    d) Download   l) List    u) Update   c) Config   h) Help   q) Quit\n",
            "---------------------------------------------------------------------------\n",
            "Downloader> q\n"
          ]
        }
      ]
    },
    {
      "cell_type": "code",
      "source": [
        "messages=[line.rstrip() for line in open('/content/sample_data/SMSSpamCollection')]"
      ],
      "metadata": {
        "id": "671sFp0X1vYe"
      },
      "execution_count": null,
      "outputs": []
    },
    {
      "cell_type": "code",
      "source": [
        "print(len(messages))"
      ],
      "metadata": {
        "colab": {
          "base_uri": "https://localhost:8080/"
        },
        "id": "exrBQ3e8_LDE",
        "outputId": "abb47ef3-c75c-4115-a001-ad725787a9f6"
      },
      "execution_count": null,
      "outputs": [
        {
          "output_type": "stream",
          "name": "stdout",
          "text": [
            "5574\n"
          ]
        }
      ]
    },
    {
      "cell_type": "code",
      "source": [
        "\n",
        "messages[0]"
      ],
      "metadata": {
        "colab": {
          "base_uri": "https://localhost:8080/",
          "height": 35
        },
        "id": "MhEnD23H_6Qn",
        "outputId": "aa457660-707f-4633-828a-53d2635c40b7"
      },
      "execution_count": null,
      "outputs": [
        {
          "output_type": "execute_result",
          "data": {
            "text/plain": [
              "'ham\\tGo until jurong point, crazy.. Available only in bugis n great world la e buffet... Cine there got amore wat...'"
            ],
            "application/vnd.google.colaboratory.intrinsic+json": {
              "type": "string"
            }
          },
          "metadata": {},
          "execution_count": 9
        }
      ]
    },
    {
      "cell_type": "code",
      "source": [
        "for mess_no,message in enumerate(messages[:10]):\n",
        "  print(mess_no,message)\n",
        "  print('\\n')\n"
      ],
      "metadata": {
        "colab": {
          "base_uri": "https://localhost:8080/"
        },
        "id": "CGojgIIhADi6",
        "outputId": "e3555a8d-3364-42ba-f6e6-b297bc850d24"
      },
      "execution_count": null,
      "outputs": [
        {
          "output_type": "stream",
          "name": "stdout",
          "text": [
            "0 ham\tGo until jurong point, crazy.. Available only in bugis n great world la e buffet... Cine there got amore wat...\n",
            "\n",
            "\n",
            "1 ham\tOk lar... Joking wif u oni...\n",
            "\n",
            "\n",
            "2 spam\tFree entry in 2 a wkly comp to win FA Cup final tkts 21st May 2005. Text FA to 87121 to receive entry question(std txt rate)T&C's apply 08452810075over18's\n",
            "\n",
            "\n",
            "3 ham\tU dun say so early hor... U c already then say...\n",
            "\n",
            "\n",
            "4 ham\tNah I don't think he goes to usf, he lives around here though\n",
            "\n",
            "\n",
            "5 spam\tFreeMsg Hey there darling it's been 3 week's now and no word back! I'd like some fun you up for it still? Tb ok! XxX std chgs to send, £1.50 to rcv\n",
            "\n",
            "\n",
            "6 ham\tEven my brother is not like to speak with me. They treat me like aids patent.\n",
            "\n",
            "\n",
            "7 ham\tAs per your request 'Melle Melle (Oru Minnaminunginte Nurungu Vettam)' has been set as your callertune for all Callers. Press *9 to copy your friends Callertune\n",
            "\n",
            "\n",
            "8 spam\tWINNER!! As a valued network customer you have been selected to receivea £900 prize reward! To claim call 09061701461. Claim code KL341. Valid 12 hours only.\n",
            "\n",
            "\n",
            "9 spam\tHad your mobile 11 months or more? U R entitled to Update to the latest colour mobiles with camera for Free! Call The Mobile Update Co FREE on 08002986030\n",
            "\n",
            "\n"
          ]
        }
      ]
    },
    {
      "cell_type": "code",
      "source": [
        "messages[0]"
      ],
      "metadata": {
        "colab": {
          "base_uri": "https://localhost:8080/",
          "height": 35
        },
        "id": "iR-_yDGFAOZ6",
        "outputId": "3cb8087f-9c4e-4449-d637-81ff43c63224"
      },
      "execution_count": null,
      "outputs": [
        {
          "output_type": "execute_result",
          "data": {
            "text/plain": [
              "'ham\\tGo until jurong point, crazy.. Available only in bugis n great world la e buffet... Cine there got amore wat...'"
            ],
            "application/vnd.google.colaboratory.intrinsic+json": {
              "type": "string"
            }
          },
          "metadata": {},
          "execution_count": 10
        }
      ]
    },
    {
      "cell_type": "code",
      "source": [
        "import pandas as pd"
      ],
      "metadata": {
        "id": "rtYb1QLZAnwN"
      },
      "execution_count": null,
      "outputs": []
    },
    {
      "cell_type": "code",
      "source": [
        "messages=pd.read_csv('/content/sample_data/SMSSpamCollection',sep='\\t',\n",
        "                     names=['label','message'])"
      ],
      "metadata": {
        "id": "2hZ3LC5eAuq_"
      },
      "execution_count": null,
      "outputs": []
    },
    {
      "cell_type": "code",
      "source": [
        "messages.head()"
      ],
      "metadata": {
        "colab": {
          "base_uri": "https://localhost:8080/",
          "height": 206
        },
        "id": "zG_g4SinBC0m",
        "outputId": "0a072d94-f3e0-478e-ce7f-5fae5e7a7fb3"
      },
      "execution_count": null,
      "outputs": [
        {
          "output_type": "execute_result",
          "data": {
            "text/html": [
              "\n",
              "  <div id=\"df-808da4a6-6d0e-4b46-874d-2ccd6c10fbb9\">\n",
              "    <div class=\"colab-df-container\">\n",
              "      <div>\n",
              "<style scoped>\n",
              "    .dataframe tbody tr th:only-of-type {\n",
              "        vertical-align: middle;\n",
              "    }\n",
              "\n",
              "    .dataframe tbody tr th {\n",
              "        vertical-align: top;\n",
              "    }\n",
              "\n",
              "    .dataframe thead th {\n",
              "        text-align: right;\n",
              "    }\n",
              "</style>\n",
              "<table border=\"1\" class=\"dataframe\">\n",
              "  <thead>\n",
              "    <tr style=\"text-align: right;\">\n",
              "      <th></th>\n",
              "      <th>label</th>\n",
              "      <th>message</th>\n",
              "    </tr>\n",
              "  </thead>\n",
              "  <tbody>\n",
              "    <tr>\n",
              "      <th>0</th>\n",
              "      <td>ham</td>\n",
              "      <td>Go until jurong point, crazy.. Available only ...</td>\n",
              "    </tr>\n",
              "    <tr>\n",
              "      <th>1</th>\n",
              "      <td>ham</td>\n",
              "      <td>Ok lar... Joking wif u oni...</td>\n",
              "    </tr>\n",
              "    <tr>\n",
              "      <th>2</th>\n",
              "      <td>spam</td>\n",
              "      <td>Free entry in 2 a wkly comp to win FA Cup fina...</td>\n",
              "    </tr>\n",
              "    <tr>\n",
              "      <th>3</th>\n",
              "      <td>ham</td>\n",
              "      <td>U dun say so early hor... U c already then say...</td>\n",
              "    </tr>\n",
              "    <tr>\n",
              "      <th>4</th>\n",
              "      <td>ham</td>\n",
              "      <td>Nah I don't think he goes to usf, he lives aro...</td>\n",
              "    </tr>\n",
              "  </tbody>\n",
              "</table>\n",
              "</div>\n",
              "      <button class=\"colab-df-convert\" onclick=\"convertToInteractive('df-808da4a6-6d0e-4b46-874d-2ccd6c10fbb9')\"\n",
              "              title=\"Convert this dataframe to an interactive table.\"\n",
              "              style=\"display:none;\">\n",
              "        \n",
              "  <svg xmlns=\"http://www.w3.org/2000/svg\" height=\"24px\"viewBox=\"0 0 24 24\"\n",
              "       width=\"24px\">\n",
              "    <path d=\"M0 0h24v24H0V0z\" fill=\"none\"/>\n",
              "    <path d=\"M18.56 5.44l.94 2.06.94-2.06 2.06-.94-2.06-.94-.94-2.06-.94 2.06-2.06.94zm-11 1L8.5 8.5l.94-2.06 2.06-.94-2.06-.94L8.5 2.5l-.94 2.06-2.06.94zm10 10l.94 2.06.94-2.06 2.06-.94-2.06-.94-.94-2.06-.94 2.06-2.06.94z\"/><path d=\"M17.41 7.96l-1.37-1.37c-.4-.4-.92-.59-1.43-.59-.52 0-1.04.2-1.43.59L10.3 9.45l-7.72 7.72c-.78.78-.78 2.05 0 2.83L4 21.41c.39.39.9.59 1.41.59.51 0 1.02-.2 1.41-.59l7.78-7.78 2.81-2.81c.8-.78.8-2.07 0-2.86zM5.41 20L4 18.59l7.72-7.72 1.47 1.35L5.41 20z\"/>\n",
              "  </svg>\n",
              "      </button>\n",
              "      \n",
              "  <style>\n",
              "    .colab-df-container {\n",
              "      display:flex;\n",
              "      flex-wrap:wrap;\n",
              "      gap: 12px;\n",
              "    }\n",
              "\n",
              "    .colab-df-convert {\n",
              "      background-color: #E8F0FE;\n",
              "      border: none;\n",
              "      border-radius: 50%;\n",
              "      cursor: pointer;\n",
              "      display: none;\n",
              "      fill: #1967D2;\n",
              "      height: 32px;\n",
              "      padding: 0 0 0 0;\n",
              "      width: 32px;\n",
              "    }\n",
              "\n",
              "    .colab-df-convert:hover {\n",
              "      background-color: #E2EBFA;\n",
              "      box-shadow: 0px 1px 2px rgba(60, 64, 67, 0.3), 0px 1px 3px 1px rgba(60, 64, 67, 0.15);\n",
              "      fill: #174EA6;\n",
              "    }\n",
              "\n",
              "    [theme=dark] .colab-df-convert {\n",
              "      background-color: #3B4455;\n",
              "      fill: #D2E3FC;\n",
              "    }\n",
              "\n",
              "    [theme=dark] .colab-df-convert:hover {\n",
              "      background-color: #434B5C;\n",
              "      box-shadow: 0px 1px 3px 1px rgba(0, 0, 0, 0.15);\n",
              "      filter: drop-shadow(0px 1px 2px rgba(0, 0, 0, 0.3));\n",
              "      fill: #FFFFFF;\n",
              "    }\n",
              "  </style>\n",
              "\n",
              "      <script>\n",
              "        const buttonEl =\n",
              "          document.querySelector('#df-808da4a6-6d0e-4b46-874d-2ccd6c10fbb9 button.colab-df-convert');\n",
              "        buttonEl.style.display =\n",
              "          google.colab.kernel.accessAllowed ? 'block' : 'none';\n",
              "\n",
              "        async function convertToInteractive(key) {\n",
              "          const element = document.querySelector('#df-808da4a6-6d0e-4b46-874d-2ccd6c10fbb9');\n",
              "          const dataTable =\n",
              "            await google.colab.kernel.invokeFunction('convertToInteractive',\n",
              "                                                     [key], {});\n",
              "          if (!dataTable) return;\n",
              "\n",
              "          const docLinkHtml = 'Like what you see? Visit the ' +\n",
              "            '<a target=\"_blank\" href=https://colab.research.google.com/notebooks/data_table.ipynb>data table notebook</a>'\n",
              "            + ' to learn more about interactive tables.';\n",
              "          element.innerHTML = '';\n",
              "          dataTable['output_type'] = 'display_data';\n",
              "          await google.colab.output.renderOutput(dataTable, element);\n",
              "          const docLink = document.createElement('div');\n",
              "          docLink.innerHTML = docLinkHtml;\n",
              "          element.appendChild(docLink);\n",
              "        }\n",
              "      </script>\n",
              "    </div>\n",
              "  </div>\n",
              "  "
            ],
            "text/plain": [
              "  label                                            message\n",
              "0   ham  Go until jurong point, crazy.. Available only ...\n",
              "1   ham                      Ok lar... Joking wif u oni...\n",
              "2  spam  Free entry in 2 a wkly comp to win FA Cup fina...\n",
              "3   ham  U dun say so early hor... U c already then say...\n",
              "4   ham  Nah I don't think he goes to usf, he lives aro..."
            ]
          },
          "metadata": {},
          "execution_count": 10
        }
      ]
    },
    {
      "cell_type": "code",
      "source": [
        "##classification tasks needs numerical features.so converting strings into vector format using bag of words\n",
        "#1) function to split words from a sentence into list\n",
        "#2) Remove stopwords (a,an,the etc)\n",
        "# To explore bag of words,please refer the site https://machinelearningmastery.com/gentle-introduction-bag-words-model/#:~:text=A%20bag%2Dof%2Dwords%20model%2C%20or%20BoW%20for%20short,for%20extracting%20features%20from%20documents.\n",
        "\n",
        "import string"
      ],
      "metadata": {
        "id": "rk8vYltABGXb"
      },
      "execution_count": null,
      "outputs": []
    },
    {
      "cell_type": "markdown",
      "source": [
        "#Sample code for removing punctuations and stopwords"
      ],
      "metadata": {
        "id": "6W09UiAjDows"
      }
    },
    {
      "cell_type": "code",
      "source": [
        "#removing punctuations\n",
        "mess=\"sample message! Notice: it has punctuation.\""
      ],
      "metadata": {
        "id": "0pez2_ccCVtv"
      },
      "execution_count": null,
      "outputs": []
    },
    {
      "cell_type": "code",
      "source": [
        "string.punctuation"
      ],
      "metadata": {
        "colab": {
          "base_uri": "https://localhost:8080/",
          "height": 35
        },
        "id": "nLCHidN6ClsF",
        "outputId": "ec74b12f-2d2a-4b62-b2ee-a6accc8b4f73"
      },
      "execution_count": null,
      "outputs": [
        {
          "output_type": "execute_result",
          "data": {
            "application/vnd.google.colaboratory.intrinsic+json": {
              "type": "string"
            },
            "text/plain": [
              "'!\"#$%&\\'()*+,-./:;<=>?@[\\\\]^_`{|}~'"
            ]
          },
          "metadata": {},
          "execution_count": 78
        }
      ]
    },
    {
      "cell_type": "code",
      "source": [
        "nopunc=[c for c in mess if c not in string.punctuation]"
      ],
      "metadata": {
        "id": "KZd-gUsMCpy_"
      },
      "execution_count": null,
      "outputs": []
    },
    {
      "cell_type": "code",
      "source": [
        "nopunc"
      ],
      "metadata": {
        "colab": {
          "base_uri": "https://localhost:8080/"
        },
        "id": "Q_doTaJYDCS1",
        "outputId": "fd25dfd0-3eba-45a4-ff24-05857478d97e"
      },
      "execution_count": null,
      "outputs": [
        {
          "output_type": "execute_result",
          "data": {
            "text/plain": [
              "['s',\n",
              " 'a',\n",
              " 'm',\n",
              " 'p',\n",
              " 'l',\n",
              " 'e',\n",
              " ' ',\n",
              " 'm',\n",
              " 'e',\n",
              " 's',\n",
              " 's',\n",
              " 'a',\n",
              " 'g',\n",
              " 'e',\n",
              " ' ',\n",
              " 'N',\n",
              " 'o',\n",
              " 't',\n",
              " 'i',\n",
              " 'c',\n",
              " 'e',\n",
              " ' ',\n",
              " 'i',\n",
              " 't',\n",
              " ' ',\n",
              " 'h',\n",
              " 'a',\n",
              " 's',\n",
              " ' ',\n",
              " 'p',\n",
              " 'u',\n",
              " 'n',\n",
              " 'c',\n",
              " 't',\n",
              " 'u',\n",
              " 'a',\n",
              " 't',\n",
              " 'i',\n",
              " 'o',\n",
              " 'n']"
            ]
          },
          "metadata": {},
          "execution_count": 80
        }
      ]
    },
    {
      "cell_type": "code",
      "source": [
        "nopunc=''.join(nopunc)"
      ],
      "metadata": {
        "id": "RiEF-C9eDGGn"
      },
      "execution_count": null,
      "outputs": []
    },
    {
      "cell_type": "code",
      "source": [
        "nopunc"
      ],
      "metadata": {
        "colab": {
          "base_uri": "https://localhost:8080/",
          "height": 35
        },
        "id": "1Pp_2wN0Dzh6",
        "outputId": "e11ef007-2d64-4b3a-b358-5aa1400bd90b"
      },
      "execution_count": null,
      "outputs": [
        {
          "output_type": "execute_result",
          "data": {
            "application/vnd.google.colaboratory.intrinsic+json": {
              "type": "string"
            },
            "text/plain": [
              "'sample message Notice it has punctuation'"
            ]
          },
          "metadata": {},
          "execution_count": 82
        }
      ]
    },
    {
      "cell_type": "code",
      "source": [
        "#Removing stopwords\n",
        "#for this,we need to download stopwords corpus\n",
        "from nltk.corpus import stopwords"
      ],
      "metadata": {
        "id": "FPjLi6_ID0v8"
      },
      "execution_count": null,
      "outputs": []
    },
    {
      "cell_type": "code",
      "source": [
        "nopunc.split()"
      ],
      "metadata": {
        "colab": {
          "base_uri": "https://localhost:8080/"
        },
        "id": "i7Jt49IlFEx5",
        "outputId": "3495f3a5-cd30-4a91-f67c-084e1a790b70"
      },
      "execution_count": null,
      "outputs": [
        {
          "output_type": "execute_result",
          "data": {
            "text/plain": [
              "['sample', 'message', 'Notice', 'it', 'has', 'punctuation']"
            ]
          },
          "metadata": {},
          "execution_count": 84
        }
      ]
    },
    {
      "cell_type": "code",
      "source": [
        "clean_mess=[word for word in nopunc.split() if word.lower() not in stopwords.words(\"english\") ]"
      ],
      "metadata": {
        "id": "9zFPQO7GFI_k"
      },
      "execution_count": null,
      "outputs": []
    },
    {
      "cell_type": "code",
      "source": [
        "clean_mess"
      ],
      "metadata": {
        "colab": {
          "base_uri": "https://localhost:8080/"
        },
        "id": "E26U6yLmFY4a",
        "outputId": "6caddfe8-b79f-43ce-a76f-9883005d98e9"
      },
      "execution_count": null,
      "outputs": [
        {
          "output_type": "execute_result",
          "data": {
            "text/plain": [
              "['sample', 'message', 'Notice', 'punctuation']"
            ]
          },
          "metadata": {},
          "execution_count": 86
        }
      ]
    },
    {
      "cell_type": "code",
      "source": [
        "#Apply the above function in our actual dataset\n",
        "def text_process(mess):\n",
        "  \"\"\"\n",
        "  1.Remove punc\n",
        "  2.Remove stop words\n",
        "  3.return list of clean text words\n",
        "  \"\"\"\n",
        "  nopunc=[char for char in mess if char not in string.punctuation]\n",
        "  nopunc=\"\".join(nopunc)\n",
        "  return[word for word in nopunc.split() if word.lower() not in stopwords.words('english')]"
      ],
      "metadata": {
        "id": "xUcKO3ROFkhE"
      },
      "execution_count": null,
      "outputs": []
    },
    {
      "cell_type": "code",
      "source": [
        "messages.head()"
      ],
      "metadata": {
        "colab": {
          "base_uri": "https://localhost:8080/",
          "height": 206
        },
        "id": "tO8UmBUcII9v",
        "outputId": "046f4287-5678-4fb5-9e19-6239090fcc93"
      },
      "execution_count": null,
      "outputs": [
        {
          "output_type": "execute_result",
          "data": {
            "text/html": [
              "\n",
              "  <div id=\"df-c218d350-2181-4647-b77e-0b2241c0d43d\">\n",
              "    <div class=\"colab-df-container\">\n",
              "      <div>\n",
              "<style scoped>\n",
              "    .dataframe tbody tr th:only-of-type {\n",
              "        vertical-align: middle;\n",
              "    }\n",
              "\n",
              "    .dataframe tbody tr th {\n",
              "        vertical-align: top;\n",
              "    }\n",
              "\n",
              "    .dataframe thead th {\n",
              "        text-align: right;\n",
              "    }\n",
              "</style>\n",
              "<table border=\"1\" class=\"dataframe\">\n",
              "  <thead>\n",
              "    <tr style=\"text-align: right;\">\n",
              "      <th></th>\n",
              "      <th>label</th>\n",
              "      <th>message</th>\n",
              "    </tr>\n",
              "  </thead>\n",
              "  <tbody>\n",
              "    <tr>\n",
              "      <th>0</th>\n",
              "      <td>ham</td>\n",
              "      <td>Go until jurong point, crazy.. Available only ...</td>\n",
              "    </tr>\n",
              "    <tr>\n",
              "      <th>1</th>\n",
              "      <td>ham</td>\n",
              "      <td>Ok lar... Joking wif u oni...</td>\n",
              "    </tr>\n",
              "    <tr>\n",
              "      <th>2</th>\n",
              "      <td>spam</td>\n",
              "      <td>Free entry in 2 a wkly comp to win FA Cup fina...</td>\n",
              "    </tr>\n",
              "    <tr>\n",
              "      <th>3</th>\n",
              "      <td>ham</td>\n",
              "      <td>U dun say so early hor... U c already then say...</td>\n",
              "    </tr>\n",
              "    <tr>\n",
              "      <th>4</th>\n",
              "      <td>ham</td>\n",
              "      <td>Nah I don't think he goes to usf, he lives aro...</td>\n",
              "    </tr>\n",
              "  </tbody>\n",
              "</table>\n",
              "</div>\n",
              "      <button class=\"colab-df-convert\" onclick=\"convertToInteractive('df-c218d350-2181-4647-b77e-0b2241c0d43d')\"\n",
              "              title=\"Convert this dataframe to an interactive table.\"\n",
              "              style=\"display:none;\">\n",
              "        \n",
              "  <svg xmlns=\"http://www.w3.org/2000/svg\" height=\"24px\"viewBox=\"0 0 24 24\"\n",
              "       width=\"24px\">\n",
              "    <path d=\"M0 0h24v24H0V0z\" fill=\"none\"/>\n",
              "    <path d=\"M18.56 5.44l.94 2.06.94-2.06 2.06-.94-2.06-.94-.94-2.06-.94 2.06-2.06.94zm-11 1L8.5 8.5l.94-2.06 2.06-.94-2.06-.94L8.5 2.5l-.94 2.06-2.06.94zm10 10l.94 2.06.94-2.06 2.06-.94-2.06-.94-.94-2.06-.94 2.06-2.06.94z\"/><path d=\"M17.41 7.96l-1.37-1.37c-.4-.4-.92-.59-1.43-.59-.52 0-1.04.2-1.43.59L10.3 9.45l-7.72 7.72c-.78.78-.78 2.05 0 2.83L4 21.41c.39.39.9.59 1.41.59.51 0 1.02-.2 1.41-.59l7.78-7.78 2.81-2.81c.8-.78.8-2.07 0-2.86zM5.41 20L4 18.59l7.72-7.72 1.47 1.35L5.41 20z\"/>\n",
              "  </svg>\n",
              "      </button>\n",
              "      \n",
              "  <style>\n",
              "    .colab-df-container {\n",
              "      display:flex;\n",
              "      flex-wrap:wrap;\n",
              "      gap: 12px;\n",
              "    }\n",
              "\n",
              "    .colab-df-convert {\n",
              "      background-color: #E8F0FE;\n",
              "      border: none;\n",
              "      border-radius: 50%;\n",
              "      cursor: pointer;\n",
              "      display: none;\n",
              "      fill: #1967D2;\n",
              "      height: 32px;\n",
              "      padding: 0 0 0 0;\n",
              "      width: 32px;\n",
              "    }\n",
              "\n",
              "    .colab-df-convert:hover {\n",
              "      background-color: #E2EBFA;\n",
              "      box-shadow: 0px 1px 2px rgba(60, 64, 67, 0.3), 0px 1px 3px 1px rgba(60, 64, 67, 0.15);\n",
              "      fill: #174EA6;\n",
              "    }\n",
              "\n",
              "    [theme=dark] .colab-df-convert {\n",
              "      background-color: #3B4455;\n",
              "      fill: #D2E3FC;\n",
              "    }\n",
              "\n",
              "    [theme=dark] .colab-df-convert:hover {\n",
              "      background-color: #434B5C;\n",
              "      box-shadow: 0px 1px 3px 1px rgba(0, 0, 0, 0.15);\n",
              "      filter: drop-shadow(0px 1px 2px rgba(0, 0, 0, 0.3));\n",
              "      fill: #FFFFFF;\n",
              "    }\n",
              "  </style>\n",
              "\n",
              "      <script>\n",
              "        const buttonEl =\n",
              "          document.querySelector('#df-c218d350-2181-4647-b77e-0b2241c0d43d button.colab-df-convert');\n",
              "        buttonEl.style.display =\n",
              "          google.colab.kernel.accessAllowed ? 'block' : 'none';\n",
              "\n",
              "        async function convertToInteractive(key) {\n",
              "          const element = document.querySelector('#df-c218d350-2181-4647-b77e-0b2241c0d43d');\n",
              "          const dataTable =\n",
              "            await google.colab.kernel.invokeFunction('convertToInteractive',\n",
              "                                                     [key], {});\n",
              "          if (!dataTable) return;\n",
              "\n",
              "          const docLinkHtml = 'Like what you see? Visit the ' +\n",
              "            '<a target=\"_blank\" href=https://colab.research.google.com/notebooks/data_table.ipynb>data table notebook</a>'\n",
              "            + ' to learn more about interactive tables.';\n",
              "          element.innerHTML = '';\n",
              "          dataTable['output_type'] = 'display_data';\n",
              "          await google.colab.output.renderOutput(dataTable, element);\n",
              "          const docLink = document.createElement('div');\n",
              "          docLink.innerHTML = docLinkHtml;\n",
              "          element.appendChild(docLink);\n",
              "        }\n",
              "      </script>\n",
              "    </div>\n",
              "  </div>\n",
              "  "
            ],
            "text/plain": [
              "  label                                            message\n",
              "0   ham  Go until jurong point, crazy.. Available only ...\n",
              "1   ham                      Ok lar... Joking wif u oni...\n",
              "2  spam  Free entry in 2 a wkly comp to win FA Cup fina...\n",
              "3   ham  U dun say so early hor... U c already then say...\n",
              "4   ham  Nah I don't think he goes to usf, he lives aro..."
            ]
          },
          "metadata": {},
          "execution_count": 88
        }
      ]
    },
    {
      "cell_type": "code",
      "source": [
        "#Tockenize (using above two functions ie cleaned version of words)\n",
        "messages['message'].head(5).apply(text_process)"
      ],
      "metadata": {
        "colab": {
          "base_uri": "https://localhost:8080/"
        },
        "id": "lBS109xsIN-7",
        "outputId": "ad266d27-c238-4630-cc88-2c0b1bfa9575"
      },
      "execution_count": null,
      "outputs": [
        {
          "output_type": "execute_result",
          "data": {
            "text/plain": [
              "0    [Go, jurong, point, crazy, Available, bugis, n...\n",
              "1                       [Ok, lar, Joking, wif, u, oni]\n",
              "2    [Free, entry, 2, wkly, comp, win, FA, Cup, fin...\n",
              "3        [U, dun, say, early, hor, U, c, already, say]\n",
              "4    [Nah, dont, think, goes, usf, lives, around, t...\n",
              "Name: message, dtype: object"
            ]
          },
          "metadata": {},
          "execution_count": 89
        }
      ]
    },
    {
      "cell_type": "code",
      "source": [
        "#convertig tokens into vectors so that our machine learning models get understand\n",
        "from sklearn.feature_extraction.text import CountVectorizer"
      ],
      "metadata": {
        "id": "zQd5rlbxIx20"
      },
      "execution_count": null,
      "outputs": []
    },
    {
      "cell_type": "markdown",
      "source": [
        "CountVectorizer is a great tool provided by the scikit-learn library in Python. It is used to transform a given text into a vector on the basis of the frequency (count) of each word that occurs in the entire text.\n",
        "\n",
        "CountVectorizer creates a matrix in which each unique word is represented by a column of the matrix, and each text sample from the document is a row in the matrix. The value of each cell is nothing but the count of the word in that particular text sample.\n",
        "\n",
        "![image.png](data:image/png;base64,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)"
      ],
      "metadata": {
        "id": "gBUsmw03LsZH"
      }
    },
    {
      "cell_type": "code",
      "source": [
        "bow_transformer=CountVectorizer(analyzer=text_process).fit(messages['message'])"
      ],
      "metadata": {
        "id": "H6QAXpTjKw-S"
      },
      "execution_count": null,
      "outputs": []
    },
    {
      "cell_type": "code",
      "source": [
        "print(len(bow_transformer.vocabulary_))"
      ],
      "metadata": {
        "colab": {
          "base_uri": "https://localhost:8080/"
        },
        "id": "qhj39IxYLMew",
        "outputId": "8ac145d2-9293-4cc6-faf4-533ace10a7be"
      },
      "execution_count": null,
      "outputs": [
        {
          "output_type": "stream",
          "name": "stdout",
          "text": [
            "11425\n"
          ]
        }
      ]
    },
    {
      "cell_type": "code",
      "source": [
        "\n",
        "mess4=messages['message'][6]"
      ],
      "metadata": {
        "id": "UBsIpOYvLbS0"
      },
      "execution_count": null,
      "outputs": []
    },
    {
      "cell_type": "code",
      "source": [
        "print(mess4)"
      ],
      "metadata": {
        "colab": {
          "base_uri": "https://localhost:8080/"
        },
        "id": "TEznWd0vLpwe",
        "outputId": "02dbcf4a-9b0c-40d1-e5c6-9782f998e5f5"
      },
      "execution_count": null,
      "outputs": [
        {
          "output_type": "stream",
          "name": "stdout",
          "text": [
            "Even my brother is not like to speak with me. They treat me like aids patent.\n"
          ]
        }
      ]
    },
    {
      "cell_type": "code",
      "source": [
        "bow4=bow_transformer.transform([mess4])"
      ],
      "metadata": {
        "id": "_FCIiZ9FLysL"
      },
      "execution_count": null,
      "outputs": []
    },
    {
      "cell_type": "code",
      "source": [
        "print(bow4)"
      ],
      "metadata": {
        "colab": {
          "base_uri": "https://localhost:8080/"
        },
        "id": "4QJ1dGabMCnT",
        "outputId": "3922f00e-ada9-49ed-f84b-32c1e1436aad"
      },
      "execution_count": null,
      "outputs": [
        {
          "output_type": "stream",
          "name": "stdout",
          "text": [
            "  (0, 1802)\t1\n",
            "  (0, 4590)\t1\n",
            "  (0, 5193)\t1\n",
            "  (0, 7800)\t2\n",
            "  (0, 8761)\t1\n",
            "  (0, 9971)\t1\n",
            "  (0, 10629)\t1\n"
          ]
        }
      ]
    },
    {
      "cell_type": "code",
      "source": [
        "bow_transformer.get_feature_names()[7800]"
      ],
      "metadata": {
        "colab": {
          "base_uri": "https://localhost:8080/",
          "height": 90
        },
        "id": "BSbIsM7xMHj0",
        "outputId": "7bf4efab-20eb-4970-e1c0-3edffe5e6a22"
      },
      "execution_count": null,
      "outputs": [
        {
          "output_type": "stream",
          "name": "stderr",
          "text": [
            "/usr/local/lib/python3.7/dist-packages/sklearn/utils/deprecation.py:87: FutureWarning: Function get_feature_names is deprecated; get_feature_names is deprecated in 1.0 and will be removed in 1.2. Please use get_feature_names_out instead.\n",
            "  warnings.warn(msg, category=FutureWarning)\n"
          ]
        },
        {
          "output_type": "execute_result",
          "data": {
            "application/vnd.google.colaboratory.intrinsic+json": {
              "type": "string"
            },
            "text/plain": [
              "'like'"
            ]
          },
          "metadata": {},
          "execution_count": 97
        }
      ]
    },
    {
      "cell_type": "code",
      "source": [
        "#apply this tranformation for the whole message column in the dataset\n",
        "messages_bow=bow_transformer.transform(messages['message'])"
      ],
      "metadata": {
        "id": "M2Aw7IjtM3AN"
      },
      "execution_count": null,
      "outputs": []
    },
    {
      "cell_type": "code",
      "source": [
        "print('shape of Sparse Matrix:',messages_bow.shape)"
      ],
      "metadata": {
        "colab": {
          "base_uri": "https://localhost:8080/"
        },
        "id": "OSigm9vkNzS0",
        "outputId": "3cb3ca9b-765f-47db-cc63-0b1e228a4d15"
      },
      "execution_count": null,
      "outputs": [
        {
          "output_type": "stream",
          "name": "stdout",
          "text": [
            "shape of Sparse Matrix: (5572, 11425)\n"
          ]
        }
      ]
    },
    {
      "cell_type": "code",
      "source": [
        "#Check how many nonzero occurences\n",
        "messages_bow.nnz"
      ],
      "metadata": {
        "colab": {
          "base_uri": "https://localhost:8080/"
        },
        "id": "Jg-SU05tOFFP",
        "outputId": "f6d04854-8ee1-49af-f712-92ca5587c4c8"
      },
      "execution_count": null,
      "outputs": [
        {
          "output_type": "execute_result",
          "data": {
            "text/plain": [
              "50548"
            ]
          },
          "metadata": {},
          "execution_count": 100
        }
      ]
    },
    {
      "cell_type": "markdown",
      "source": [
        "TERM FREQUENCY-INVERSE DOCUMENT FREQUENCY\n"
      ],
      "metadata": {
        "id": "7oUsY3hdQHQN"
      }
    },
    {
      "cell_type": "code",
      "source": [
        "#Given a corpus D, a term ti and a document dj ∈ D, we denote the number of occurrences of ti in dj by tfij. This is referred as the term frequency.\n",
        "#The inverse document frequency for a term ti is defined as\n",
        "#where ∣ D ∣ is the number of documents in our corpus, and ∣ {d : ti ∈ d} ∣ is the number of documents in which the term appears. \n",
        "#If the term ti appears in every document of the corpus, idfi is equal to 0. The fewer documents the term ti appears in, the higher the idfi value.\n",
        "#difference between TF And DF\n",
        "\n",
        "# TF is frequency counter for a term t in document d.\n",
        "# DF is the count of occurrences of term t in the document set N. \n",
        "from sklearn.feature_extraction.text import TfidfTransformer"
      ],
      "metadata": {
        "id": "OaNf5q4MOb3A"
      },
      "execution_count": null,
      "outputs": []
    },
    {
      "cell_type": "code",
      "source": [
        "tfidf_transformer=TfidfTransformer().fit(messages_bow)"
      ],
      "metadata": {
        "id": "6Wgtonh0QY_1"
      },
      "execution_count": null,
      "outputs": []
    },
    {
      "cell_type": "code",
      "source": [
        "#see an example\n",
        "tfidf4=tfidf_transformer.transform(bow4)"
      ],
      "metadata": {
        "id": "Hydm7dpsQx3C"
      },
      "execution_count": null,
      "outputs": []
    },
    {
      "cell_type": "code",
      "source": [
        "print(tfidf4)"
      ],
      "metadata": {
        "colab": {
          "base_uri": "https://localhost:8080/"
        },
        "id": "XiNL_XZwQ850",
        "outputId": "7e16527e-244a-4a54-e735-b189c763d0a1"
      },
      "execution_count": null,
      "outputs": [
        {
          "output_type": "stream",
          "name": "stdout",
          "text": [
            "  (0, 10629)\t0.3352766696931058\n",
            "  (0, 9971)\t0.3268691780062757\n",
            "  (0, 8761)\t0.43700993321905807\n",
            "  (0, 7800)\t0.41453906826037096\n",
            "  (0, 5193)\t0.33843411088434017\n",
            "  (0, 4590)\t0.43700993321905807\n",
            "  (0, 1802)\t0.3352766696931058\n"
          ]
        }
      ]
    },
    {
      "cell_type": "code",
      "source": [
        "#converting the whole bag of words into tfidf\n",
        "messages_tfidf=tfidf_transformer.transform(messages_bow)"
      ],
      "metadata": {
        "id": "mLp-1tecRA5U"
      },
      "execution_count": null,
      "outputs": []
    },
    {
      "cell_type": "code",
      "source": [
        "from sklearn import model_selection, naive_bayes, svm"
      ],
      "metadata": {
        "id": "2gwN6TJCNitS"
      },
      "execution_count": null,
      "outputs": []
    },
    {
      "cell_type": "code",
      "source": [
        "from sklearn.naive_bayes import MultinomialNB"
      ],
      "metadata": {
        "id": "ceHDwlx-R6qF"
      },
      "execution_count": null,
      "outputs": []
    },
    {
      "cell_type": "code",
      "source": [
        "spam_detect_model=MultinomialNB().fit(messages_tfidf,messages['label'])"
      ],
      "metadata": {
        "id": "S0VWr6diSNyh"
      },
      "execution_count": null,
      "outputs": []
    },
    {
      "cell_type": "code",
      "source": [
        "all_pred=spam_detect_model.predict(messages_tfidf)"
      ],
      "metadata": {
        "id": "TaQtJSb8SbsT"
      },
      "execution_count": null,
      "outputs": []
    },
    {
      "cell_type": "code",
      "source": [
        "all_pred"
      ],
      "metadata": {
        "colab": {
          "base_uri": "https://localhost:8080/"
        },
        "id": "SruEokB7S0zw",
        "outputId": "d37a0add-789f-48c6-dbd1-60b381efacb5"
      },
      "execution_count": null,
      "outputs": [
        {
          "output_type": "execute_result",
          "data": {
            "text/plain": [
              "array(['ham', 'ham', 'spam', ..., 'ham', 'ham', 'ham'], dtype='<U4')"
            ]
          },
          "metadata": {},
          "execution_count": 109
        }
      ]
    },
    {
      "cell_type": "code",
      "source": [
        "from sklearn.model_selection import train_test_split"
      ],
      "metadata": {
        "id": "Yi0EnUhRS3GR"
      },
      "execution_count": null,
      "outputs": []
    },
    {
      "cell_type": "code",
      "source": [
        "msg_train,msg_test,label_train,label_test=train_test_split(messages['message'],messages['label'],test_size=.3)"
      ],
      "metadata": {
        "id": "7q7xUpRvfIZt"
      },
      "execution_count": null,
      "outputs": []
    },
    {
      "cell_type": "code",
      "source": [
        "spam_detect_model=MultinomialNB().fit(messages_tfidf,messages['label'])"
      ],
      "metadata": {
        "id": "o5QE8uTTjldx"
      },
      "execution_count": null,
      "outputs": []
    },
    {
      "cell_type": "code",
      "source": [
        "predict=spam_detect_model.predict(messages_tfidf)"
      ],
      "metadata": {
        "id": "dhe5gxDJoSjU"
      },
      "execution_count": null,
      "outputs": []
    },
    {
      "cell_type": "code",
      "source": [
        "from sklearn.metrics import classification_report\n",
        "print (classification_report(messages['label'], predict))"
      ],
      "metadata": {
        "colab": {
          "base_uri": "https://localhost:8080/"
        },
        "id": "p5rtqSV4ovS_",
        "outputId": "10cc2df2-c364-42de-fb27-1708044d00e5"
      },
      "execution_count": null,
      "outputs": [
        {
          "output_type": "stream",
          "name": "stdout",
          "text": [
            "              precision    recall  f1-score   support\n",
            "\n",
            "         ham       0.98      1.00      0.99      4825\n",
            "        spam       1.00      0.85      0.92       747\n",
            "\n",
            "    accuracy                           0.98      5572\n",
            "   macro avg       0.99      0.92      0.95      5572\n",
            "weighted avg       0.98      0.98      0.98      5572\n",
            "\n"
          ]
        }
      ]
    },
    {
      "cell_type": "code",
      "source": [],
      "metadata": {
        "id": "eoZ9TKAjpAPb"
      },
      "execution_count": null,
      "outputs": []
    },
    {
      "cell_type": "markdown",
      "source": [
        "TRAIN TEST Split\n"
      ],
      "metadata": {
        "id": "Oyjgnc6QpWBr"
      }
    },
    {
      "cell_type": "code",
      "source": [
        "from sklearn.model_selection import train_test_split\n",
        "\n",
        "msg_train, msg_test, label_train, label_test = \\\n",
        "train_test_split(messages['message'], messages['label'], test_size=0.2)\n",
        "\n"
      ],
      "metadata": {
        "id": "two-THt-pbvd"
      },
      "execution_count": null,
      "outputs": []
    },
    {
      "cell_type": "markdown",
      "source": [
        "#Creating a Data Pipeline\n",
        "Let's run our model again and then predict off the test set. We will use SciKit Learn's pipeline capabilities to store a pipeline of workflow. This will allow us to set up all the transformations that we will do to the data for future use. Let's see an example of how it works:"
      ],
      "metadata": {
        "id": "CrlV31GuqEo_"
      }
    },
    {
      "cell_type": "code",
      "source": [
        "from sklearn.pipeline import Pipeline\n",
        "\n",
        "pipeline = Pipeline([\n",
        "    ('bow', CountVectorizer(analyzer=text_process)),  # strings to token integer counts\n",
        "    ('tfidf', TfidfTransformer()),  # integer counts to weighted TF-IDF scores\n",
        "    ('classifier', MultinomialNB()),  # train on TF-IDF vectors w/ Naive Bayes classifier\n",
        "])"
      ],
      "metadata": {
        "id": "NqXOWbevqIZp",
        "colab": {
          "base_uri": "https://localhost:8080/",
          "height": 270
        },
        "outputId": "bf4259b9-13ac-4a80-9715-40cc47e789b2"
      },
      "execution_count": null,
      "outputs": [
        {
          "output_type": "error",
          "ename": "NameError",
          "evalue": "ignored",
          "traceback": [
            "\u001b[0;31m---------------------------------------------------------------------------\u001b[0m",
            "\u001b[0;31mNameError\u001b[0m                                 Traceback (most recent call last)",
            "\u001b[0;32m<ipython-input-16-e6f1760c79a3>\u001b[0m in \u001b[0;36m<module>\u001b[0;34m\u001b[0m\n\u001b[1;32m      2\u001b[0m \u001b[0;34m\u001b[0m\u001b[0m\n\u001b[1;32m      3\u001b[0m pipeline = Pipeline([\n\u001b[0;32m----> 4\u001b[0;31m     \u001b[0;34m(\u001b[0m\u001b[0;34m'bow'\u001b[0m\u001b[0;34m,\u001b[0m \u001b[0mCountVectorizer\u001b[0m\u001b[0;34m(\u001b[0m\u001b[0manalyzer\u001b[0m\u001b[0;34m=\u001b[0m\u001b[0mtext_process\u001b[0m\u001b[0;34m)\u001b[0m\u001b[0;34m)\u001b[0m\u001b[0;34m,\u001b[0m  \u001b[0;31m# strings to token integer counts\u001b[0m\u001b[0;34m\u001b[0m\u001b[0;34m\u001b[0m\u001b[0m\n\u001b[0m\u001b[1;32m      5\u001b[0m     \u001b[0;34m(\u001b[0m\u001b[0;34m'tfidf'\u001b[0m\u001b[0;34m,\u001b[0m \u001b[0mTfidfTransformer\u001b[0m\u001b[0;34m(\u001b[0m\u001b[0;34m)\u001b[0m\u001b[0;34m)\u001b[0m\u001b[0;34m,\u001b[0m  \u001b[0;31m# integer counts to weighted TF-IDF scores\u001b[0m\u001b[0;34m\u001b[0m\u001b[0;34m\u001b[0m\u001b[0m\n\u001b[1;32m      6\u001b[0m     \u001b[0;34m(\u001b[0m\u001b[0;34m'classifier'\u001b[0m\u001b[0;34m,\u001b[0m \u001b[0mMultinomialNB\u001b[0m\u001b[0;34m(\u001b[0m\u001b[0;34m)\u001b[0m\u001b[0;34m)\u001b[0m\u001b[0;34m,\u001b[0m  \u001b[0;31m# train on TF-IDF vectors w/ Naive Bayes classifier\u001b[0m\u001b[0;34m\u001b[0m\u001b[0;34m\u001b[0m\u001b[0m\n",
            "\u001b[0;31mNameError\u001b[0m: name 'CountVectorizer' is not defined"
          ]
        }
      ]
    },
    {
      "cell_type": "code",
      "source": [],
      "metadata": {
        "id": "AdW3XN91qOXG"
      },
      "execution_count": null,
      "outputs": []
    },
    {
      "cell_type": "markdown",
      "source": [
        "Now we can directly pass message text data and the pipeline will do our pre-processing for us! We can treat it as a model/estimator API:"
      ],
      "metadata": {
        "id": "COFNWd9RqW6k"
      }
    },
    {
      "cell_type": "code",
      "source": [
        "pipeline.fit(msg_train,label_train)"
      ],
      "metadata": {
        "colab": {
          "base_uri": "https://localhost:8080/",
          "height": 166
        },
        "id": "7PRtlij7qXxI",
        "outputId": "505e16d8-f979-42d3-9488-06a02edd2dbe"
      },
      "execution_count": null,
      "outputs": [
        {
          "output_type": "error",
          "ename": "NameError",
          "evalue": "ignored",
          "traceback": [
            "\u001b[0;31m---------------------------------------------------------------------------\u001b[0m",
            "\u001b[0;31mNameError\u001b[0m                                 Traceback (most recent call last)",
            "\u001b[0;32m<ipython-input-17-0cc5bab2e5f4>\u001b[0m in \u001b[0;36m<module>\u001b[0;34m\u001b[0m\n\u001b[0;32m----> 1\u001b[0;31m \u001b[0mpipeline\u001b[0m\u001b[0;34m.\u001b[0m\u001b[0mfit\u001b[0m\u001b[0;34m(\u001b[0m\u001b[0mmsg_train\u001b[0m\u001b[0;34m,\u001b[0m\u001b[0mlabel_train\u001b[0m\u001b[0;34m)\u001b[0m\u001b[0;34m\u001b[0m\u001b[0;34m\u001b[0m\u001b[0m\n\u001b[0m",
            "\u001b[0;31mNameError\u001b[0m: name 'pipeline' is not defined"
          ]
        }
      ]
    },
    {
      "cell_type": "code",
      "source": [
        "predictions = pipeline.predict(msg_test)"
      ],
      "metadata": {
        "id": "0YGiX64pqbaG"
      },
      "execution_count": null,
      "outputs": []
    },
    {
      "cell_type": "code",
      "source": [
        "print(classification_report(predictions,label_test))"
      ],
      "metadata": {
        "id": "SwzC8gMmqhMt"
      },
      "execution_count": null,
      "outputs": []
    },
    {
      "cell_type": "markdown",
      "source": [
        "SVM CLASSIFIER\n",
        "\n",
        "![image.png](data:image/png;base64,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)"
      ],
      "metadata": {
        "id": "PaWdxBn__ZK6"
      }
    },
    {
      "cell_type": "markdown",
      "source": [
        "SVM address non-linearly separable cases by introducing two concepts: Soft Margin and Kernel Tricks.\n",
        "\n",
        "Soft Margin: try to find a line to separate, but tolerate one or few misclassified dots (e.g. the dots circled in red)\n",
        "\n",
        "Kernel Trick: try to find a non-linear decision boundary\n",
        "\n",
        "different kernels: Linear,polynomial,radial basis function\n",
        "\n",
        "![image.png](data:image/png;base64,iVBORw0KGgoAAAANSUhEUgAAA8EAAAEYCAIAAADzhGOZAAAgAElEQVR4nOy9Z3Bc53X/f+/d3hfbG7DYRQcWCxCNIAmQAAtEQqwSKYmSZZm2HDtxS8aJx3Fi5+ex44knYztWHEuO4thUs0iJDeydBAt6773XxWIX29vd+39x/txBQBIkIIokqOfzQkMBi73Pbc85zznfcx6coigMgUAgEAgEAoFAPDTEkx4AAoFAIBAIBAKxwkA+NAKBQCAQCAQCsTSQD41AIBAIBAKBQCwN5EMjEAgEAoFAIBBLA/nQCAQCgUAgEAjE0kA+NAKBQCAQCAQCsTSQD41AIBAIBAKBQCwN5EMjEAgEAoFAIBBLA/nQCAQCgUAgEAjE0kA+NAKBQCAQCAQCsTSQD41AIBAIBAKBQCwN5EMjEAgEAoFAIBBLA/nQCAQCgUAgEAjE0kA+NAKBQCAQCAQCsTSQD41AIBAIBAKBQCwN5EMjEAgEAoFAIBBLA/nQCAQCgUAgEAjE0kA+NAKBQCAQCAQCsTSQD41AIBAIBAKBQCwN5EMjEAgEAoFAIBBLA/nQCAQCgUAgEAjE0kA+NAKBQCAQCAQCsTSQD41AIBAIBAKBQCwN5EMjEAgEAoFAIBBLA/nQCAQCgUAgEAjE0kA+NAKBQCAQCAQCsTSQD41AIBAIBAKBQCwN5EMjEAgEAoFAIBBLA/nQCAQCgUAgEAjE0kA+NAKBQCAQCAQCsTSQD41AIBAIBAKBQCwN5EMjEAgEAoFAIBBLg/6kB4BAIBAIBOJxEw6H/X5/KBSi0Wh0Op3BYOA4/niOGwgECIKg0+kEcd9AXigUCgQCLBaLRqM9hlE9TkKhUCgUotPpNBrt8VzzzwhJksFgkEaj0Wi0u28ZRVEURQUCAZIkcRyff8soigoGg6FQiCRJBoPBYrFWxPk+PLT/9//+35MeAwKBeKYIhUJOp9Pn84VCIQzDHpsJDAQCPp8PwzAcxxeZqb1ebyAQoNPpz9hsTlGU3+/3+/0EQSzimqw4KIryer2hUGhJ50VRlNvtdrvdwWAQw7CV4qw8TqxW6wcffHDo0KGenh4Mw+RyOYPBoCgKwzC4VvDvBXz2y2ixWC5cuGC1WgUCAY/Hu+dnKIpqbGz89NNPZTJZVFTUI3ye7z6px/9gtLe3nz17lqIooVDIYrE+vwPNv5sP8+H7fXJgYODo0aM+n4/P5999y/x+f19f38mTJ0+fPt3R0aHRaNhsNp1OxzDM7XZXVVUdPXr02LFjk5OT8fHxbDb7s53T0wWKQyMQiEfM4ODg7373O4qiEhIS1q1bl56eTqfTF9jmBZYMfv5ZjBlFUW1tbfX19SaTKTk5WSQS3e9jZ86csdvt+/bt4/F4j8q/v+cZPWbbHAqFzp07NzExUVRUFB8fz2AwPr9jPbxtXpIVvyeBQOCjjz4SiUSrV6+OiYl54LHgcB6P5+DBg62trXK5fP369bm5ufd7JL6w2Gy2Tz75ZHBwcPfu3ampqSRJhkKh1tZWv9+fm5uLYVhzc3NHR4ff74eHmc1mK5VKvV6v0+nAQ1oewWDQZrMxmUxYY98Pt9s9NTXl9/vv6covj7m5uYqKiunp6UjEVCaTmUwmuVz+Wc5oqfT29h45cgTH8ejoaD6f/zlNFKFQqKOjw+FwZGZmcjicRdYhJEm2tLRMTk4WFRXd08cdGRk5dOjQ888/r1Qq5XL5gt/abLaysrK6urpgMJicnOx2uysqKmQyGTxUTqdzZGTk+PHjPT09zz33nFgsfsTn+URZeT50b29veXm5y+UyGAypqalGo/HxGKqenp6RkRGVShUXF3e/hWMwGCwvLw8EAqtXr46KinrGwh4NDQ3j4+Nms1mpVDKZzCc9nP+D2+2+ffs2m802Go0ymWx4eHhkZESpVKalpT2R8QSDwZGREXhQjUZjRkaGSqV69jKS92NkZORPf/rTqlWr1Gp1OBwOh8N2u/327dsqlSojIyMQCFy9enV8fDwQCGAYRqPRBAJBdHR0fHy8SqX6LG8NSZKQm17c6AYCgUdrmCmK6urqqqqq8nq94XCYoigej2cwGMxmc1RU1KM6ygMJh8MVFRXNzc0Gg8FgMHx+PrTH4ykvL4+Ojk5MTFz8KMFg8NKlSyqVatWqVcs+nN/vP3XqlFarNRqNi/jQfr9/bGxsampKoVDExcVRFOXxeFpbW30+n1AoTE1NRT70AiAOun///u9///sikYhGo83NzR07dmx2djYrK4uiqGPHjv3lL38Ri8U8Ho9Op7NYLLlcnpaWtmXLlqSkpGUHFLVa7de//nVs0ZUVjuOFhYUFBQWPdi06Pj7+61//enx8PCoqCiQHfD5/+/btGzdujImJeWwmm0ajMZnMzzs3EggETp061d3d/dOf/lSj0SziQweDwRMnTly9ejU7O/uet5UgCBaLxWAw7mnFHA7HiRMnSkpKXnrppeTkZIfD8Z//+Z96vV6v1wsEgq1bt65du5ZGo42NjT3K03s6WHk+dFNT089//nMmk1laWioQCAwGg9/vHx8f53A4arXa5/MNDw/b7fZI8IPFYolEoqioqM84gQ4PD9fW1qalpUVHR9/Phw6FQpWVlW63Oykp6RHaTqvVOjIy4vP54H1jMpkCgUCtVnO53Mfppl+9evXGjRvf+c53RCLR5+dDBwKBsbExJpOpUCgWz7YHg8HBwUEGgxEbG+twON5//32JRLJ7926RSDQyMlJbW5uUlPQ4fWiv12u1WnEcF4vFNBptZGTk008/bW5uXrduHZfLlUqlXxwfmiAImUx24MCBF154QSAQhEKhsbGxt99+e926dWlpaQ6H47/+67/GxsZEIhGfz6coCq5PRkbGxo0bjUbj8p4uHMdzcnJycnIe+LH9+/cv67TuSzgcrqqq+ulPfyqXyyE5Gw6H9Xr93Nzchg0bHpvrBob5MehHnU7nu+++u3nzZp1Ot/jZBQKBP/zhD+vWrcvMzFz2ZAXTOJPJXDyh7/V6m5qaKioqsrOzDQYDn8//9re/rdVqz50797mmy1c64BxHnplgMAgrTIqiwuFwXFzcl7/85bi4ODqdbrFYamtra2pq+vv7Dxw4sGrVqki+HvRREKvm8/mwsqIoKhQKud1un89HkiSNRuNyuVwuF8Mwl8tFo9E4HA6NRgsEAi6XCw4Kz7BQKKTT6V6v1+12R9QOgUAAvoqiKCaTyeVyORwOjuPBYNDn84HAOhAIhEIhFovF4/HYbPbdjxxJkiwWa+vWrc8//7xcLp+YmLhw4cK1a9f4fL5Op6PRaOFw2OfzgQQITofL5bJYLFiSBYNBBoMBYgaSJGHYMLc7nc5gMEgQRDAYhH9wuVyIMeM4TpKkx+PxeDwkSYpEIo/HEw6HYXigDne5XLD4hz+MpMj8fr/dbudwOJH7AheNxWJFnF232w3Ccbgg888X/iocDi/+DIBq2ev1guPkcDhAOgV/zufzIWMACYSpqSmSJOFGM5lMMNkTExOhUMjv98/NzREE4ff7QUOF4ziNRotIO549Vt5ZhcNhpVL5ve99r6ioKCoqiiTJsbGx3/72t0lJSd/61rcmJiZ+8YtfVFRUwJxLp9MlEonJZCosLCwqKuLxeMuWVRUWFubn50Phxf0+w+Fw/vZv/zYcDt/9KH8Wrl+//utf/3p2dhZmOqFQmJCQ8MYbb5hMJqFQ+KiO8kAeT256enr6rbfe0mg0X/va18Ri8SJHtFqtP/vZzzQazc9+9jP8DhiGcTicgoKC1atXP+aXdmho6PTp0wRBbNmyBR45uVz+hz/8ARS6XyhgIqbT6ZFbAHaCJEn430AgsG7dutLS0vj4eLfbPTo6Wl5efvr0aYvF8vrrrxuNRuyOqBqEsGB9BQIBfCHYOafT6ff7MQxjMBhCoZDNZvv9frfbzeVywXx6vV6HwxEMBimKYjAYXC5XJBLhOD47O0uSpEQigdnA6/U6nU4IinM4HB6Px+Fw4Odg88AkkCQJY2AymXc/lqFQSCwWf+UrX8nOzo6Kimpra7t8+fLZs2ejo6MhBBsOhx0Oh8fjAePE5/P5fD6dTg8Gg2Cb+Xw+GMVQKGS1WlksllgsJklybm4Oric4InQ6XSgUcrlcGLzf73e5XG63G7TCkHaHIUEWFb6cIAgmk8nn8yMLb7vd7vV6WSyWz+cDz4DFYhEEwePxYA0D1x9WOAsqgSL1Qw/zMEQ+GQqFHA4HeGZg18FbYrPZcC7gSbjdbrhfAoEA3IX5xw0Gg1arlcvlwtQHXhqYbYqiQI0QGdjjrJNbucAdueevcBwXiUTJyclpaWngLUE484MPPjCZTEajUSKRkCR5/fr1W7du9fX1sdnszMzMbdu2JSUlYRgWCoX6+/svXbpUX19vt9uFQmFJSUlxcTFJkocPH1ar1YWFhQqFoqurq6ysrL293e/3w+FeffVVrVZ769atTz/99K/+6q8yMjLodHp/f//58+drampIkoyLiysoKCguLmYwGKOjoxUVFT09PXw+f3BwcGxsLCUlpbS0dNWqVeCvLzhZJpOp0+nMZrNUKtVqtXNzcwcPHhwdHY28ZZWVlRcuXBgcHOTxeCaTacuWLampqT6fr7y8vK+vLy4u7rnnniMIwm63Hz16tLW19Sc/+YlQKDx37lxvb69QKBweHh4cHBQKhWvXrt27dy843Far9ebNm5cvX56ens7MzHQ4HLDkwHHc4XC0tbWdPHlydHQ0EAjIZLKCgoLNmzcrlUoMw1pbW//4xz9mZ2dPT093d3fTaLTk5GSxWGw2m/Py8uAiX79+vbu722QyrVu3Duau+ee74B+Lg+N4KBQ6ffr04OAgn88fHh7u6+vbsWOHWCymKMpisRw9enRyctLv969atWrHjh0pKSm3b9/+7W9/Oz4+fvz48dbW1tzc3K997WsLXjrIzj3MAFYcK8+HxjCMRqOJRCKRSMRisWDdCbYWu7Pqys7Ofu655xQKRTAYtFgsdXV1oPp66aWX4LmM1IqGw2GoDo5MtTChBINBkiRhUchgMCCFAatkmKxDoVAwGISpB8dx+AyO46D7jHjqJElGilWh9hk+EA6HIxlnmPFhDPd08V0uF5fL3bhxY3Z2NofDGRwcrKysLCsrYzAYoFqLjAdqAuAoME74IRwau1OIDXkZqEDCcRzGA5cCTgSOC9cBFqBsNnu+yVxwBeAPI2HjYDAYCARA7gZ/Fbk4kRME7ycysAgkSTocDqFQ+EALDQoBCGQueGPB7sKxwHvD7swO8Nv5OSmwu5EYwPwrEDlHOETkLoO1hicE/k2j0Twej8vlgrU7HD0qKorL5cKZfgGZLxFe4IERBCGXyxMTExMSEjAMi4+PVyqVH3300e3bt7OysqKjoxkMxuTk5Pnz56uqqqxWK2hht2/frtVqMQzzeDwNDQ1nz57t6OggSTI6OvqFF17IzMxsaWm5fPnyunXrcnJyeDxeVVXViRMnBgcHg8GgRqMpKirat28fk8n84IMPLBbL3/3d3wmFwmAwWFNTc/r06YGBAQzDMjMzS0pKIMDW1tZWUVExOTkZFRXV1NTkcrlyc3N37tyZmJh4d6QcQlaxsbGpqalQdjMwMHDp0iWr1YphWDgcnpubO378eGVl5cTEhEQi2bBhw+bNm6Ojo6empm7cuDE0NLR161az2UxR1MzMzG9+85vExMSvfe1rs7Ozhw8f9ng8NBqtvb3darXKZLIXX3yxoKAAnvze3t5Lly5duXIF7P3g4CCMJxwOz8zMXLp0CWQzbDY7Pj5+48aNGzduhMGXlZVVVlaaTKbW1laLxQIqNS6Xu2XLFoPBgGGY3W4vKytzuVwFBQVms3n+e/rwXik8APDf6enpTz75BCaHrq4ul8ul1Wr37duXk5PD4XDC4XB/f//ly5evX78eCAR0Ot3zzz+/Zs2a+QvpYDA4Njb2H//xH4WFhbt376bRaCRJTk9Pv//++2w2e/v27Qvmz7tF6ohFgGd48+bNHo8HVnfYPFvJZDKZTKbJZHK5XB9//HF3d/fExARBENXV1ZcuXfJ6vUlJSS6Xq7m5GSZYjUYzNjb2xz/+0WKxiMVilUoFpjYYDLpcrtra2vj4+JycHFg/Dw4OQmZ1/h0cHBw8f/78zp07TSbTwMDAmTNn6uvrFQoFm82enJw8cuQIONwOh6Ouru7KlSvZ2dl6vT4cDvf29n7yyScKhQKml7uJFKeGw2Gn08lgMGD5Gg6HKysrz507Nzw8bDAYgsFgZWWlx+Nhs9kikWhgYKCurg4MK4ZhHo+nqanp6tWrP/jBD/h8fm9v74kTJ7RabVJSUlJSUldX19WrV1Uq1Zo1a+h0+u3btz/66KOoqCij0ej1ejs7O202G1hPWAYzmczY2FiSJCcnJ0+dOsXhcDZt2iQSiaamps6cOdPf328ymQwGA7yGFRUVfr8ffGifz3f9+vWBgYHU1FQMw6qqqsbHxxUKxbp16xgMRnFxsdlsFovFi0cPGQzG5s2bDQaDQCCA1/PMmTM6nS4xMTEpKUmpVEKMubGxUa/XR0dHz87O1tfXEwTBZrPhpBgMhkqlSkpK0uv1XC539+7dYrH4i5D/WZE+NHbX5Dh/Jc1gMPR6fXFxsU6nA4MkEAjOnDlz6NAhKCths9kOh6OioqKtrW12dlYsFptMpoKCAoFAgGGYz+cbGBiorKwcGhoKBALwDpjN5s7Ozs7OTtA4YhjW0dFx8+bNyclJDMOioqLS09OLiopoNNrRo0e9Xu+2bdtUKhVFUa2trTU1NQMDAywWy2g05uTkJCcnh0KhwcHBpqYmt9vNYDB6enpCoVBqauqaNWuio6PvzsNSFCUSibKysrZu3cpisfr6+mw2282bN9euXQsfmJubq6urq6+vn5ubE4vFqampeXl5MpnMbrfX1NS4XK7k5OTU1FSKoqampk6cOCGTyXbt2gViKbBPo6OjVqtVoVDk5uauXr0aUlqTk5M1NTUgKFy1atXQ0FDEItpstra2tqqqKrvdjmGYWq3Ozs7OyMiARXB1dXV5eXleXl5PT8/U1BSPx4uOjhaJRGazWaPRYBjm9XovX74cCoUSEhJSU1MXmOSHN3v3tJF+v7+rq6u7uzs6Onrt2rUzMzMnTpzg8Xh8Pr+1tdXr9RoMhrVr1yYmJhIEEQ6HR0dHGxsbm5ubg8GgRCLJy8vLyMiAcF1zc3N9ff3IyIjf74+KisrIyMjNzZVIJKFQqLOzs7u7G6KkAwMDUG4M6bnI6SD7DRAEoVKpvv71r2u12kjhPzRLgg8IhcK8vLyhoaGmpqaenp41a9a4XK5r165du3ZNq9Xq9frZ2dnr168LBIKioiKFQgGr4mAwaDabmUwmpH3gia2rq4uJiUlOTu7u7r5y5QpJkqtWrYJbE4nQdHR0DA8P+/1+r9dbV1dXVlY2PT2dnJxMEERLS0swGGSxWCaTaWZm5vbt293d3c8//3xiYuL4+HhtbS1BEAcOHICl+D3PFN5fSAdDBBfDsKmpqUuXLl27dk0gEOTl5dnt9qtXr+I4vnPnTpfL1d/fD/EbDMPC4bDH46muroarFAgEWlpaGhsbk5OTExIS1Gp1ZWXl5cuXRSJRbm6u3W4/depUfX19YmKiQCCYnZ3t6+uTy+Xwty6Xi6KomJgYo9Ho8XgGBgbKysokEkl6ejqHw+nv7z916pTNZktLSzMajXQ63ePxXLp0KTU1FXxoi8Vy7do1jUYjFounp6cbGxttNtuqVatSUlIEAsGBAwdiY2MXBL3uhsViffWrX9XpdFDk19DQ0N7enpSUFB8fHwwGm5ubz549SxBEfn6+1Wo9duxYW1ubwWBgMpkzMzNHjx51u93bt2+PvFBweYeHh1taWrKyskDI19zc3NzcnJiYyGazzWazRCJRKBTPUluSxwb40OvXr8fuBCDu+ZmoqCi1Wu1yuWZnZ2k02gcffKDVaktLSwsLC6empo4fP15fXy+RSNavX19fX9/Y2Lhx48YXXnhBp9O53e5QKCQQCMBlhLDL+Ph4d3e3VCp9+eWXExMTg8Hg9PS0TCajKIpOp0MiAsfx6urq6upqs9n86quvikSiCxcunDhx4vz58yDjhg9nZWXt3bs3EAgcOnTo6NGjw8PDRqNxgT3Fcdzn89XX13M4HLFYPD4+fvPmTXB8QQpy/vx5i8WyY8eObdu2Wa3W999/v62trbq6uqCggMFgQHIbvgpyOxHFCITAFArFvn37kpKSTpw4AYvb5ORkv99fV1fncrm+8Y1v5OTkDA0NgT4TnBYul5uYmBgXFwfPbUVFxYcfflhfXw+F0aB4YbFYGzduXLNmDTz/vb29g4ODXq+XIIjR0dGpqSmZTJacnMxisVwu19zcHI/Hg2QOOAkPTMnS6fTCwkJwu91uNyyz5XL5Sy+9BCGDiooK8LLWrFmza9cuq9X6ySefVFZW6nS6V1555bXXXjty5MiWLVtee+01hULBYDBKS0txHCcIAkJOn/XRfIpZqT50BIIgwCzpdLrID8E8h8NhOp2uVCpLS0sdDseFCxe6urpiY2PZbHZFRQUkjiEePDg4yOFwsrKyWCxWf3//hx9+ODw87Ha7MQyz2Wx6vT4lJaW9vf3kyZOFhYXJyckjIyNXrly5efMmvN4gvSooKAiHw8ePH7fZbDk5OTKZrK+v7+zZs1VVVTAfdXR0TE1NicViiCUfPnwYLLfT6ZycnOzp6XE4HK+//vrd6Scg4pwxmUwejxd5ND0eT21tbVlZWX9/P2Rjm5qawuHwunXr5ubmysvLJycnaTQa+NCTk5Pvv/9+UlJSaWmp2+0+efKkxWKRy+VMJnN2draqqgreRoPB4PV6L126dP78eYfDwWKx5ubmOjo64FWkKMput/f09DQ2NkL/stra2tHRUQ6HYzKZaDRaTU3Nr371q71790LMic/nT01NOZ1ODocDPrTT6fzwww/lcrlUKg0EAt3d3T6fT6lUxsTEcLncvLw8qVT6wEaSXC63sLBQIpHAHBq5Sn6/v7W19dy5c6tXr167dq3Vav3www9JkszJyZmamnI4HLdv3w4GgzKZTCqVWiyWq1evlpeXgwCOoqjp6WmKoqC0ore3t6GhYXp6GlbhfX19brd7x44dJEl2dHQcPnx4bm4uOjoaEgUgv6bRaM9Y3fFnhyAIqVS6e/dumFXv+Rkcx5VKpVAotFqtbre7ubn51q1bSUlJe/fujY6O7uvr++ijj6qqquD5qaystFqtu3fv3rx5M5PJBDUClD2BbSZJsr+/v6+vLz8/f8eOHTExMVarFYQQYFpAXOt2u2/cuDEyMrJ9+/YtW7bQaLT//d//7evru337dlJSEjxXAoFg48aNKSkp09PTv//97+vq6rZv335PH3pubu7SpUtDQ0NcLrezs7O/v99sNkPgfHR09PDhw0lJSTt27MjOzu7v7/+f//mf+vr6+Ph4aAgwX+wL8t9IMgRyJgkJCV/+8pchwtff39/W1paWltbW1tbV1aVWq7/3ve8xmcyampqamhoQNUIWfs2aNUVFRUql0m63f/LJJzdu3Lh9+3ZMTAy4JhwOR6fT7d+/X6PRuN1uWE6Mjo6CMmRgYMDv9ycmJur1eovFAipPsPocDmfnzp0P02mOwWDAfcfuZKswDEtLS3v11VfpdPrJkyevXr1669Yts9kMLSC0Wu23v/1tDofT1NT01ltvlZeX5+TkSCQS+AbQ5uXm5s7MzDQ1NRkMBo/HU1dXJxAIQELD5XINBgMSbywbyBYu/hk6nc7lciGlabPZKioqDhw4IBAIxsbGvF5vVFTU+Ph4b29vcnJyW1tbTEwMyNNBTAXZzvkCAw6HIxAI5ubm+vr6WCyWUCiUyWQLxhAKhXp7e91u95o1a6AlSGpqam9vb11d3aZNm6KioiDsnZGRoVAoMAxLSEjw+Xyzs7N+v3+BPSUIwuv11tbWjoyMgOQ6GAymp6eDLtTv93d3dxuNxqKiIolEwmaz165dC15+Tk7O4s8VSZIKhcJsNkMgNjY2Vq1W9/T0eL3ekZERq9VqMpkSExOjoqLEYnFOTk5LSwtcBy6XCwEv0JjBKmVqagriUxRFsVistWvXpqWlQU5Gr9erVKqJiYmWlpbo6OiWlhYMw5KSkkQiEUEQa9asyc3NjVQrPrygEXo/R85FpVJlZmZCXQF2Z8FgMplSUlIkEgmfz8/Nzb18+XJ/fz+GYWCsQVgP7/izqn6+mxV/nuAlHzhwYJHZnM/nq9VquVw+Pj4+OztrsVgOHToUExPzpS99yWQyVVdXnzt37siRI2KxWCQS3bx58+rVq1/96ldBb+10OkH5ML8utampaXBwENROYrHYZrP5/X4Oh+Pz+UDpT6PRgsHgsWPHurq6CgsL9+/fb7fbjxw5Ultbq9FoCgsLGQyG1+ul0+kbNmzYtGlTV1fXoUOHTp48uWvXrru11ARBuFyujo4OKOaDEHhSUhKY58nJybKyMq/X+/Wvfz03N7erq+u///u/IVKl0+lYLNb8epHIojbSq8jpdGZkZHz1q1/lcrkffvhhe3v71atXJRLJ2NjYxYsXcRz/h3/4B6PRWFlZ2d3dDesKWDZkZ2evXr1aoVD4/f5Dhw41NDTcuHFDr9eLxWLwUbxe71e+8hWTyUSSZHV1NaxMMAzz+Xzj4+MTExMZGRmpqakQjrLZbGazOSYmRiqVfvnLX4arvficJRQKv/Wtb0Foar6eb8HLDF9lsVjS0tK+/e1vu93un/3sZ21tbWazWSAQVFRU1NXVaTSaN998k8FgNDc3Hz58+PTp00ajUa1WJyUlGY1GuIwVFRWHDx/+9NNP161bB6JYj8eD4/jWrVsLCwuhBASu8+faU2yF8pC2mcViga4GdHjr16/3eDywoFWpVJcuXZqcnORwOMPDw4mJidnZ2VKpFMMwPp+/QNAJlZ1CoXBmZqazs9Pv9wsEAoFAMN9+Yxjm8XhAwrhhwwalUonj+Jo1a6ampkAigmEYtNfIysoSCL9p7TEAACAASURBVARRUVExMTF9fX0g6l3wcOI47nK5ysvLGxoacBx3u91yuVypVEIIfGZmprW1df/+/SaTic/n6/X6zMzMq1ev9vT0yGSyB16WhISEzMxMlUoVCoXS09Mha+Tz+dra2thstslkgqkgLy8vMTERev2CDw2p6v7+/mAwyGazmUxmX18fiItIklQqlfn5+RqNhsPhgBBFoVCMjo6OjIwIBILW1lZYTtNoNLlcvmXLlnA4HHkrH95GRj4Jq5fExESz2QyZ/a1bt167dm1gYGBubq6lpYXH46Wnp2u1WoIgsrKyNBqNxWIZGxubX/XBZDKzsrJOnDjR1tb2/PPPW63Wzs5OpVKZkpICEcEvTuXukwIeqqioKIqi5ubmLBbL22+//cEHH0BYx+fzTU1Nmc1mj8czMzOjUCjkcnnkpiww06FQKDExsaSk5OjRo7/5zW/C4XBycvKePXvWr18fqVWFYj673U6n0zUaDTxOYrFYqVROT097vV6JRMJkMqOiosDbwzAMYkzgH989eIFAkJ+fv3PnTrlcPjc319TU9Omnn9JoNK1WC+kjgUAAa3U6na5WqyHAFAqFFrdHFEXx+XyZTAZBXDabDVHhUChkt9tDoRC8aBiG4TgulUphOsIwzOfzdXZ2/vnPf25tbZ2dnYWSiaSkpIiWhk6nQ/EuDIDFYqWmps7MzNy8ebOkpKSxsZHL5WZkZIAc5X4xuCURDoeFQqFCoYiI1kARqlKp4GVkMplqtZpGo9ntdrfbHRFePrB48dljxfvQ2B2/cPHPQA2pz+fz+Xy9vb1NTU2bNm1SKBSwdtRqtZ9++ims/Lq7u81mc3Z2dlxcHEhaw+FwJAENwGvscDhsNhuPx5NKpZEcLgA1N7W1tQqFori4WK1WSySS7Ozs0dHR6urqzMxMcOyUSmVubq5CoeByubdv366srJybm4MZYf7gCYKYnp4+duzYrVu3wuGwy+XCMGzTpk1gfWdnZ3t7eyHRA6vwgoKCW7du9ff3g2VdhHA4HBsbazabjUYjQRDJycmDg4MDAwNOp7Onp4ckyYyMjLS0NKlUWlxcfOvWrfr6euyOeWYymbBxEQi5enp6hoeHvV4vFB8IhcKioqKkpCToJRkfHy8UCoeGhkZGRjAMa2pqkkgksbGxQqGQRqNt3LgxGAyClgaqkh/mvkP90wM/Bi+/yWTKy8vT6/U+ny8+Pt7hcExOTsI9oigqKSkJ2mfGxcWBn2GxWNRqtV6v9/v9ELw0GAxRUVGNjY3T09OQoOfz+XK5HDq4PcyAEYsDheF0Oh0qHFpaWv75n/8Z3gWwo7AwczqdTqcTFAXwh+A5RaZvKBsqKCggSfLIkSPnzp0Lh8MbNmzYuXNnQUHB/FgLlNxpNBqwBxRFqVQqFos1Pj4OYnculwudLnAcB9EISZLQGeBuAZJSqfzrv/5rUPtAvf8nn3wilUo3btzocDj8fn/EArFYLIVCEQgEINS0CKAdj4qKggpIWL5id+oLLRYLm82WyWQwGIFAIJFIQIZEUZTb7b5w4UKkWsvn89FotMLCQjB4FEXxeDylUgkPM0S/1q5dOzk52dvbC/Ets9kcGxuLYRjUdH7G+wtvImSfYMLU6XRsNhtUARaLhcfjRc6FzWZLpVKn0zk3NzfffWEwGJmZmadPn+7r6xsdHe3u7nY6nbm5uTExMch7fgwEAoGRkZGJiYmsrCytVjszM8PhcPbs2QOKKXgvwuFwRkZGKBTicDgejwdKle5JOBzm8XgZGRl8Pn/Tpk2Qj/39738vkUhWrVoVuekgmYA+GHAIv9/v8Xgg9UTdpwH5PZV+4JLKZDKj0QgOgEqlOn36dH9///DwcHR0NJ1Oh9JkWJm73W6QgUEKCLtTvwQz0vwSXmD+/8JrCLEqHMedTmfE1wRXBKLyzc3NZWVlJEnu2bNHJpNZrdbq6mqv1xv5MEwCkW+m0+kmk6m+vv769esGg2FwcDApKSk1NfXRxm4iSozIT8D3gOIiiqJcLlc4HIaV+Rc58/Ms+NAPAxTyQ9367OxsR0fH22+//dFHH+E4HgwGZ2Zment7XS6Xy+WyWq2ZmZkRRd38BAcAqgCn03n16tWf/OQnIpEoJydn69atycnJ8AEcx+Ftn5mZSUxMhCYDDAZDp9OJxeKenh54CsGAwWqbz+dDCzCXy3V3LV04HJZKpTk5OaA2mZmZ6e7uvnbtmlKp1Gg0sHKNjo4GB1ogECQnJ1++fNlqtS6YROZLdQGKohQKhUajYTAYsPRkMBiww9zU1BSHw4G0L4ZhUqlUpVJF7GgoFGpraysrKxscHHQ6nVDjbzabI4Nns9mQXYL/lUgkycnJfX19bW1tMpmsrq4uISEhLi4OajQ/bx+UIAidTqfVaqGEUSKRwAZmkPGHjTngYcAwrKmpKSEhAa7e2NjY5cuXq6ur4X8HBwch7QAD5vP5Go0GNZ397FAU5fV6+/r6oM4MHNm4uLiXX34Z7hqGYWDJTCZTf38/5E/gPbrntxEEIRaL165dq1Kppqampqenb9++feLECb1eH1lYQsclBoMB/ZjAe3M4HCRJ8vl8eP3hlVlgie8n7wMHESJGKpVqZmbm7Nmz7e3t4F7QaDSHw+Hz+RgMBjT8YjAYYJthORppXjE3N7cgfnZPEwUyNovFAtkhDMOgxQdcllAodOrUqaqqKoPBsHv3boIguru7a2pqFswJ8+OCPB5v/fr17777bn19fSAQsFgscXFxj/DdBO8K1i3YnTpLUJ9DlmBiYiJyLmCwQ6EQl8udL9bCMEwgECQkJLS3t1+8eHFkZESn04Hw5lGNE3E3UETucrlaW1uvXr3K5XKTk5M1Gk04HDaZTDqdLisrKy0tDZQSoMedm5uLi4s7d+5ce3t7fHy8VCoFzdX8RCtkb5xOp9FozMzMhFDRwYMHLRZLxJSAtEmn03V2djY2NoK6YGBgoKurKyEhYRk9ZCOF4Nidon8omoRVpVartVqtNTU1+fn5DoejsbHR7Xanp6dzuVy5XA6W0eVyMRgM0Gs9UM5EEIRGo+Hz+R0dHePj4zKZbHp6ur29HWJhOI6Pj49DXnTz5s1Go7GhoaGpqWmRhQdBEFqtVqPRXLly5fr16z6fLzY2FtaliwwjFApNTk62tray2ey8vLylLonBU+rs7BwaGkpLS7Pb7W1tbSwWC0pclvRVzxhfCB/a6/VOTk7OzMyoVCooUOVyuampqSqVCj4AQZG0tLSuri5oV7lIU4hwOGwwGAiCEAqFfX19MzMzjY2Nk5OT3/3udyPZFgiMEQQBjR0wDIOXFiTakWTo3fM+RL/uPqJYLF69evW2bdtA/VlXV/f3f//3jY2NOTk5EKiLNOWAZhqRRSRE0OE7YSGxYGuoey4SIoG9+R+GThQYhoVCoaampvPnz09NTen1eiaTOTExMTg4ON88g3wq8rdCoXDVqlU1NTVVVVWpqan9/f0vvfRSbGzsY1u/wmnO94fgHwwGA3TYkYdh1apViYmJarUaRDLd3d0qlSomJgbq0yNdPLE7vdu+yEvwR4Lf74e+szdu3JDL5VBJo9Fo4uPjRSJRfn4+bLwC3VV5PJ7X61Wr1X19fV1dXSCd9Pv9gUAgYhXgLZiZmXG73SaTCWxzXV1df3+/0+mcn22EatehoaHa2lrYBaC5udnpdMLqbhnnAv1tsDsxdRAQQyBZr9e3tLTAzlAWi6W1tZXH48EaVSAQzMzMTE9PQ8769u3bs7OzD3yumExmQkICSKLn5uagcUd/fz/40OFwuLOzE1SYu3fvhnBgdXX1Il/I4XASExM5HE5zczMUW0dHRz9wHw2/39/T09PV1RUXF5eZmbnIJ8EMw42DrStv3LgRCATi4uLEYjG0Mujs7HQ4HHQ6vbu7GzqIq9XqBboRJpOZmpo6NjZ2+vTpYDC4adMmKAhbfJyI+7FIlUI4HLbZbO3t7ZDEsFgsVVVVbW1tBQUF2dnZYrHY5/Nt3769r6/v6tWr0D3G4/E4nU6DwRAbG5uVlQXNNIRCoU6n83q9fD4fpn0wFjQabXp6uqGhgcViSaVSr9cLq2iBQAALp0hPJLPZ3N3dXVVVJZPJRCJRVVXVxMTEyy+/rFAoItGi+XP7/ZqpwUM4MjLS2Ng4Njbmdru7u7s9Hk9aWhrkZPLy8iorK8+ePYthmM1mq66uBqWESCSKj4/ncDh9fX03b97kcrk1NTXDw8ORxlB3h71hGARBwJ5HdXV1t27dcjgcY2Njzc3N0Nsuogh3uVzQLaChoaGvr2++j3v3ufB4vPj4eLFYDLUEiYmJMF9RFAWLajabvWD1GwgEOjs733vvPZVKlZqa+kAf+u6rFwqFRkZG6uvrQa5dXV1tNBphBwbqTmuv+33bgpD2s8Sz6UNHPEgIe9TX1zc0NEilUvCNZDJZSkpKUVHR+vXrlUolJGfdbrdMJrPZbEqlsqmpad26dSCEivSFnf/lLpeLz+eXlpbSaLSenp533nnn8uXL+/fvhzQrdadNOvSebG9vLygo8Hq9/f39s7Oz0MCBmtfy6WEIh8NQKAl5ExgPdH6VSCTQdmdoaEiv19tstsbGRh6Pp1KpmEymRCJpa2uz2WwYhrlcru7ubiimjnzzPd98WF96vd7e3l673c5ms0ElCa2OSZJsa2vr6OhYv379rl27pFLp5cuXjx49ukBsOh8Oh2M0GrlcbkNDA6yw4+LiHriVYyAQmJmZGRgYgI3HHrmZpNFoiYmJILMpLS3lcDhQLgkd7Ht6empra1Uq1ZtvvqnVaoeGhhwOR21t7TNfaPyoWKTmLBwOj42NNTQ0zM7OQn/o27dvT01Nbdu2LSUlBcOw5OTkoaGhmzdvEgQBRtflcuE4npaWBuqjrq4uiMFAWzSJRGIwGGAeh5hZX19fe3u7UqnkcrmwfaBSqYQO8ZHpnsfjZWVlTU5OXrhwAUQ7FRUVPB4vJycn0gtyvmFYxDaDdqK9vZ3BYERFRUFClsPhwHMeCAQ2b97c1dV1+fJli8UCau+MjIyUlBSRSKTVakOhUENDg1AohKYBNpstchQ44gL/AKTJZrMZRNVnz54VCAQtLS0jIyOgEQdtBpPJnJycrK2ttdvtTU1N4+PjEQHM3edCEAQ4Ci0tLQMDAy+88AKktjAM83q9U1NTgUBALpcviPx5vd5bt26dOnVq165dGRkZi7/RsLZpamqCJevJkyejoqLMZjOfz8/IyLh27VpXV9e5c+c4HE57e3soFDKZTCCzgQAEjJYgiMTExPr6+rq6OoVCERsbGx0dfb9Q/TNsvB8JIFeASW9BKQ6O4xwOZ2ho6N/+7d9gUz3IAOzataukpESj0eA4LpfLX3/99ePHj1+7du3w4cPBYFAqlebm5qrVag6Hk5qa+t3vfvf06dO///3v5+bmoqKi9uzZAzu2Qhd2Go0GO+PcuHEDdv82GAzf+MY30tLSOBwOk8kUiUQQ5szLywsGg0ePHv3lL38ZCoWMRuOWLVs2b94sFAptNhvsZhJZazEYDGh9e/eth4zr6dOnL168CPIMkUhUUFBQWloKYusdO3YwGIyysrIf/vCHHA4nJSUFlCrQknzjxo1Hjx79l3/5F7FYnJeXl56ebrFYYJbjcDiw50gkRgbOMZ1Ol0qlW7ZscbvdZ86cee+99zIzM5VKJUjFMAxLT0/funXr+++/f+vWLZFIZDQas7OzHQ5HpLoGmsTNPxeQHa5aterChQvJycnQSAfDMJIkL1261NnZaTQaX3/99fmGniTJmZkZHo8XGxu7eOQY7jucS+SHIIDR6/VDQ0M/+clP3G53Zmbmnj17YE8rOp0OzRLunvBBIm+322FbmYd6KFcUz6APDX7z+Pg4iJKHhobOnj3b29u7ZcuWhIQEoVAI1UgtLS2Q/oDkqc1mY7FY0N714sWLYP/EYrHL5WKxWHq9PvJwEATR398/PT2tVqvFYjEoOHk83vxm/qCeXL16dX19/ZUrV6Auvra21uv15ufnw8r14c8Ils4WiwVqfWZmZqD1lUKhgC3xoEj5xo0b0NatsrIyLS0tPj6ex+MZjcZz5851d3d3dXXNzs7W1NRMTU0t7ozCyhgiUu3t7Q0NDVBT2NXVhd1JK8MqBeZfv9/f1tY2MDCwSEU8juMg5zh27Njc3JzJZFKpVJEuHyAUY7FYCxbHbre7qqrqo48+Ki4uhtj/w1+0h4HBYOTn558+fbq+vj41NVUqlYbDYWjSEh8fj99paO31emdmZurr6/v6+iIdwR/tSJ49SJK02Wyzs7MSieRuAxAVFVVTU1NdXQ39KBQKRXJy8q5du9auXQsuYGpqKpPJpCiqrKxscnISZIuwwzCHwyksLAyHw2VlZRcvXqQoKjY29rXXXoOgKTRngJ4blZWVHR0doJrIysratm0bFPULhUJwBHk83ubNmzEMO378+K9+9SsMw9LS0p577jlo7whbt8zvmMHlcuF07j5fLpdLkuT777//4Ycfwt8aDIZ9+/YVFxfDNiJvvPHGhx9+eOXKlUOHDolEovXr12/btg2WB5mZmaWlpRcvXrx582Z0dHRRUdHAwECkHF4oFILCG5u38Sp4DFqtdteuXWVlZb/61a+EQiE45Ww2G3YF2759u8fjuXjx4okTJ6Kjow0Gw7p166CXOYZhfD4fnOz5Z0EQRHp6+q1bt3p7e3NyciLuMvQsm5qaKi0tXbdu3fw30e/3O53OmJiYB1ZfwOIcjO4777zjcDjAAysqKqLT6dHR0S+99NLp06ffeustkiTVavX27dtLSkoEAoHH44EK0UiVsFqthmhlXFxcTEzMPQscw+Hw7OwsNGdAi957ApsSXLp0CcOwLVu2FBYWRsry4Lf79u3Lz8+HbCQYNbFYDMWy8BRBG6KSkpLMzEy73Q4CWalUCisfLpebk5MDuibYx0en00HvxW9+85tcLhcaD7/yyiubNm2CjQsEAoFWq5XJZDQaraioCPpUwjyclZUll8stFgtFUQKBIJJV1uv1+/bt8/v9er0eRm4ymX7xi19Af4wFp6zVan/84x9DWTCMHwqTIvZIJpNt2bIlJSXF5XKB8E+r1UZ2Jlq/fr3RaLTb7UwmUyaTgaxZIpGA811cXAxlxBiG6fX6PXv2FBUVqdVqHMdjYmL27dsH0TRoJOL3+7VarVAoFAgEmzdvjouL83q9ke2ioEU6hmGZmZn/+q//ajAYFpwLl8tVKBRqtTo5OTmy1iUIArq5372dXCgUmpiY0Gq1a9asWbyOiMVivfDCCx6PBzR18MPk5OQf/ehHPB7P5/OB4E0qlcbExMAH9Ho9bO5996ZvDofjxo0bFy9eLC8vT09Pf/Y0VyvVh75b2guAx3P06NErV66ABlEoFBoMhhdffLGkpARUzpmZmXQ6/fjx42+//bbFYsFxXKvV5ufnx8TExMTEFBQU2Gw22CEpGAwaDIa9e/eCeYjULoyPj5eVlbW0tAQCATabrdfrDxw4AOUIEDGCMsQXX3yRTqdfuHDhwoULdDo9JiampKRkw4YNBEFEtueIjPyeBRAAjUbr7+//93//93feeQf0A0KhcOvWrcXFxSKRiMvl7t2798iRI3/605/efvttPp+fkJBQWloK1jQ3NzczM7O8vPz8+fNwguAp3u+g8BPYQPull146duzYL3/5y3A4nJWVxeVy4bd0Oj0/P398fPzw4cNHjhyRyWRqtTo2NhacnvudC6TJKioqpqamsrOzI+0InE7nBx98YLVa8/Lynnvuufl/4vf7JycnI3urLs7d6bz5g7nnaTKZzNzcXOgJ+oMf/ABykTKZ7Pnnn09KSjKZTKtXr75w4cLXv/51gUCQnp4OrZciabtFbhnwhXW1oQ7v+PHjVqv1ueeey8rKmh/5EIvF//iP/wgTcaQ/jEgkghgnfqeBIzyBGzduhMQFm81WKBRgLWCPkoSEBLCFXC43JiYGhB+xsbFyuVwsFsP+4bBpLY1Gk0gkkJnBcfyNN96Aht8QPikuLk5ISAAlLvS+hYActDOf31Fk27Ztubm5d68VCYLYsGEDhJOxO7MTmHm5XA6Or1ar3b9/f0lJidfrZTKZSqUSOoFgGCaVSvfu3VtQUACKFCg1lkgkcKavvfYahmFKpRJ6w5nNZrDTcEkzMjKUSuXOnTtpNFpUVBRsSQidZGJiYvbv3w/eCeywCI8uNObbu3dvSUnJgnOBYcvl8kAgkJSUFPGo5HL59u3boSxywbnDhswgh33gAw9dDgsKCqABMFRcQMcuJpOZnp4ul8u3bduGYRjk8UCkzmKxvvvd77JYrEh6Gm6KTqfLycmJOBALcLvd77777oULF2BzECT2uBuJRLJ///7e3l6lUgk9Fuf/FuL9iYmJi3wDqP6io6Ojo6Pv+VuxWHzPXp/p6emRf8PmIHej1WrnL8zu91Ugpp//E6lUumbNmnt+J5/Pz8/Pv+evAFia3m9BqFKpIqq/BcTFxc3/X6FQON+hhEwsFEfdjUajgU4gdyOTye5u3UNR1OTk5Pj4OOxpEnnvCIKIiYm55/ew2ezs7GwGg5GcnLx4HJpGo8XHxy/4YVRUFDSwvyfQuf+ev6LT6QqFwmQyQfOcZ698aOVlpY8dO/Yv//IvsbGxW7ZsWb9+vdlsnj9xOxyOqqoqaP6AYRjkjFQqlV6vhz7/8HOXy9XV1TUyMjI3N4dhmFgsjomJiY+PFwgEfr9/YmKiu7sbWqJC9NRgMIyMjAwPD8NuXtD/cmJiAgpiVCoVqEQoirp58yZsICQWi8Ph8MDAQG9v7/T0NJ1Oh7/V6/WhUGhqago0TyaTCZat7e3tnZ2dhYWFYNrnn3JfXx90aMfuGA+BQJCYmKjT6eAtdTqdvb29/f39sK1DdHR0UlISTDfhcLitra2/v99ms0kkEqVSOTY2plKpIDVWXV0NUXYYPMiaSZLMzc1lsVhWq7Wnp2doaCgUCkFHC4qiTCYTrL/7+/s7OjqCwSAsiME8Z2Vl8fn8e55LMBjs6en53e9+NzU19cMf/jA7O5u4s8FvS0uL1+vVaDQLppjBwcF33nlHIpGUlJSYzeZFrKDH46mpqQHHSyqVjoyMjI6OyuXy1NRUu91eVVUllUphPw6SJNvb251Op1wuh5nCYrH09/cPDQ2B5g/ylfHx8Uwms6urq6enZ2ZmhsFgxMTE+P3+YDCYkZEBgjBIC0BkdMF4oM/owYMHb926lZycfODAgby8vAdKS58ZxsfHT506FQgE1Gq12WyObK+FeMqBTiZQrwz7OD7wT2w2W3Nzs06n0+v1i9/l3t7et956i8Ph7N+/f3Hl9MMc9ODBg2fPnv3+97+/bt26e66xvV7vuXPnhoaGYFuZpKSkR9L2C4F4glAUBZWOJ0+e7O3thRA+NL9CPBFWng/d2Nh4+PBhm82Wnp6+du3aByrwEE8JPp/v1q1bR48eFYlE3/nOdx6m3n96evrs2bOwd8mCSMPTDIiIurq6PvnkE5vNlpGRUVRU9EAVGgLxBAkEArDr+IULFyQSyd69eyP1yo+Knp6eX//611wu95VXXsnKylpeVjcUCjU2NjY0NFy/fp3FYv3TP/3T/WJ7CMSzB0mSw8PD7733Xm1tbVZW1htvvKHX6589gcQKYuUFhzIzMz9jDAPx+IHy57Nnz7pcrk2bNj2kQ6xQKN54443Pe2yPHMg+m81m2BYegXj6CQQCo6OjZ86codPpq1evXrVq1SNf8kGZAXSyW/aXhEKh5ubm6upqqVQK22Q8whEiEE85BEGoVKrXXntt165dIDxDDvSTZeXFoRErjmAwWFdX9+6773Z3d+/cufPVV18FmemTHhcCgfj/gZb2o6OjDAZDJpOBGvvR4vf7rVYraGRh14nljXNqasrpdDIYDNidCgmdEQjEkwL50IjPnXA4bLFYOjs7vV4vKMIfbY4YgUAgVjptbW23b9+mKGrlRhZBxgYtOO7ZvubxEGk58MCyb8SzSjAYdLvdoVAI6sgNBsPmzZsfpjnBUll5Wg7EioMgCOhC8KQHgsAwDKuoqKirq1tq31zYLJqiKD6fHwqFoKUjNHSDfiY8Ho/JZC5oZoxAfHEIBALf+973lv3nLS0tR44cgYbiK7GTLo7jgUBgcHCwoaEBNgWDLkaPfxh+v99utwcCAegCiXKeX0D8fv/IyEhfX5/dbg+FQps2bXpgU7/l8fn60LCVAPZ0N/kiSRI6UkEX22Wbf2hpFwwGoTvsZxkSRVEwqshOeMgpQcwnFAqJxeKH2W7qbmpra8+cOQN/+/DPlc1m6+npaWxsFAgEarU6EAiMjIzw+XyFQuFyuaC9ekxMTFJSUlRU1CK77SCeTiJxuyc9kJUKQRAVFRWfxYfGMMxoNL755psGg2HBbrIrAmjKfu3atZ6eHqFQuHv3bpPJFGl4+tig0Wjj4+OVlZXT09OrV682mUwrV+0De6thGAbbHj/p4awYIluiXrlyBRq1Rfa+eeR8vj70tWvXPv74Y41GsyRr/TjBcRy2Sevu7lar1QaD4bMIAT0eT3t7u9Vq1el0cXFxsO/d8r7KbreD+AFab35+T8BjJnIWT+fzsCKg0WiDg4MKheLHP/7xMnxoHMdTU1P/5m/+ZkmPutVqLS8vh20Fc3NzxWLxkSNHHA6HVCpVKBTd3d1OpxPH8ZycnPz8fNiC+9l4Yr8IhEIhCHzO3ygKsSRwHP/5z3/+Gb+Bw+FIJJJ7dkFeEURFRWVlZWk0momJCbvdLhAI5m/a8tiYmppqaWlpbGw0Go1SqXTlamNcLtfs7CxJkjqdDrV1WiqwNfVXvvKVjz/+eGpq6nNyOT5fH9rv92s0mtdee02lUsFy6mmDIAi73X7jxo22tjYcx1evXl1UVLS8BR+O43Nzc++9915ZWVkoFNq4cWNKSsry2uLiOD48PPz+++/X1NSo1eoXXnhBrVbDBi7L+LanikiiH62qlw2bzS4rfl8lRgAAIABJREFUK+vu7l7eO0UQBJjqBZs2L45YLIZe6Q0NDZmZmSkpKRkZGQcPHqytrVUqlRkZGSRJlpeXQ/9v2DUQeWMrhdnZWafTSRCEXC5HL+ay+ez9p1e6DgrHcalUGhsbC7sHFBUVPREfmk6ns1isgYGBkZERn8/3eWTwP1dIkpyYnLx85XJ1bY3D7cIwTMDhbihYv3bt2nvuZYO4JwwGA/r2KJVK2N7y8zjK5+tD0+l0uVyekpJyv619nhIkEsnMzIxKpSouLjaZTMu2/bAjmsvlam5ubm9vLy4uXvaJJyQksFgsjUaTlZVVWFi44maB+0GSpNvtJklSKBSu3PDAE8dgMIyNjS37QQXd0ZL+BNoprFq1SqPRwO6YQqFQJpNlZGRMT093dHSoVKrS0tLu7m6HwwGHQD70U04gEBgYHDx1+mRHV5fb56XRaBKRqGRTSV5u7v02/0Mswop2fx8VXC43KSmpoqKir69vbm7uiTQf5PF4BoOBoqjp6WmbzbbirKfdZjt34dyfj37cNNJNsmg4jlHeQO/kqNfv2/fiXg6Hgxa6Tw+fe00h1Bh93kf5jMTExLz22mtcLvfunWyXBI1Gy8jI2LFjx8zMzKlTp4xG47Zt25bnRjOZzJycHKFQKJVK794Gb8VBUZTNZqurq2toarTZ7RRFSUSi7OycjIyMuzcyRTyQJ/JaQQA7NjaWoiiLxTI0NDQxMUGj0XQ63ejo6MTEhEKhiI+PT0xMFIvFwWBwaGiIwWCo1WqoNHjMo0U8kNHRkSMnjr5/6tNh10yYQeAYRvdTE7YZKhzeunUrUuMglgGTyYSNnYeHh0dHR2NjYx//HqV8Pj8uLo7H401OTo6Ojmq12pX1JA8MDvzl08O3x9qoJBkm5mA4hjl9V1pqODg9NycnPi7+CfY8QSwA9eXAMAzjcDjp6ek4jttstra2trm5uZSUlCVlugEcx9lsdn5+/ujo6MGDB0+dOiWTyTZu3Li8dbBAIMjMzCQIYnx8fHJyUiwW63S6FbpftNPpvH6j/M+HP6xqbwzRMQrHcX+ouKNlv+OF0m2lyMdacUBrDqvVOjY2VlxcnJ2dXVNTU1ZW9vzzz4MD7ff7T58+TZLkhg0bEhMTn0iFPmIRwiTZ0Nj0wdFDncQsliLBBCyMpLBZ1+machk/KjMzE/RjT3qYiBUGnU5PSUlJTU29fv16fX292Wz+PHqNLw6Px9Pr9UKhcGpqanR0NC8vbwVNPrZZW3tnpy3kpTQCTMLBMByjMEzAwVT8Md/s9evXVSoV8qGfHtAUiWEYhuM46Ap6enqOHDnS1tb2ox/9KD8/f3kmRK/Xl5SUtLe3nz9/XqPRxMXFpaSkLOMdxnEcBlBRUXHixImkpKTXX39dr9evoOkgwujo6MGPPjjfWenXCzAJF8MxzOE93XCdCFEZ5oyYmBhUMLGCwHFcpVK9+OKLcrn8z3/+8+XLl9PS0tavX69Wq+vr60dGRtra2vLy8iorK+vq6q5cufLKK68UFxcjn+ypYnJysqe/z0ujMJ0IE7AwDMMIHBPzwopQz/RwZUVF6fbn0f1CLBU6na5UKhMTE2/evNnU1DQ7O/v4fWiCIMRisV6v93g8IC1bQQQCAfucPYCTGJOO0QiMpDAcw3A8zKS5SP/U9DQZehpLy76woCny/8Dn8zkcTl1d3YkTJ/h8/rI3FTcYDG+++ebw8PCtW7fEYvGPfvQjFou1bA2TQCCw2WzHjh2Li4vj8/lSqXRludEOh6O1rW3cbvHLOZhagMF1YNJ99uDA3MS169f27NkjiXrc8yziswD1Z+vXr+fz+R9//HFra2tHR8eWLVuMRmNra+vRo0d7enpgvdfR0fHnP/+5s7MTel199rorxCPB7fY43M4gHcMYNAzHMYrCcAyj4SSDcPjd1tlZKvy0a/AQTyc0Gi0+Pl4ul3d1dU1MTBgMhsdf+iIUCl955RW3252cnLyyzCWLxRIKRFiQxIgAhuMYjJ3A8WCYw2BIpVIkhn6qQDfj/6DT6fLz81NSUiorK69cuTIzM7O8Xvc8Hi8tLe2ll16SSCTl5eVlZWWzs7PLHpXJZCoqKiJJ8tChQ1VVVT6fb9lf9UTw+XwWq8VHkBiPgTHuTKZ0AuMwHKRvaGQkGAg+0QEilgNsnbNp06ZvfvObmzdvVqlUGzZsOHDgwCuvvBITE3P9+vWenp6YmJiNGzcSBFFWVvab3/ymsrIyGET3+qmAz+cLeNywN4CFSAh0YTiOERgRIAUMjiQqisCRdUAsE6PRmJaWNjs729LSMjMz8/iLN9hs9gsvvPD666/n5uauLB9aKBQmJyRoeFKa1Y9NOTC3H/MEsBkn0xbQCxR5ObkoDPFUgeLQ/wexWJydnf3yyy//6U9/unz5ckxMTGlp6fJa8PL5/G3bto2Ojp48efLgwYNqtTonJ2d5T79OpyspKenv7z916tS5c+c0Gk1mZuYKmhfoNBqbxcbCYSxEYjCX4hiGY1g4TCdoPC4XWeuVC5PJXLNmjVarHRoaSk1N5XA4bDbb5/ORJNnc3Ox2u4uLiwsKClpaWiYmJkZHR1fiBmzPJHKFPDE2XskWTk5MURSFsRgYRWFOP88ZTjQbMjMzGUwkr0IsE51Ol5mZeenSpfLycigcf/yh6HA4bLfb/X4/j8fj8XgrpQ0UQSNiDYatm7f4z/s7x8edXB+GYyIfEaeIK8jLT09PX6E1Uc8qyIdeiEKh+NKXvtTe3n727Nm//OUv2dnZ0dHRy9AFEgSh0+mee+65sbGxv/zlL1lZWVKpNC0tbXmjSkxMfOONN1pbW8vLy9VqtclkWkFV80KRKCEuPorgYvYxzO3H6DSMwLEQybAHNeqorMxVHO6KbzzyBUetVisUCiaTOTs7CzLoTZs2KZXK1tbWw4cPZ2Zmbtq0KTo62mQykSQ5MjICTTxUKhWyB08KOp2eZjLt2PQc7fqlwUm7m+mjY5jUx0wxJK7LzzcYjUgMjVg2TCbTYDAYDIbGxsbu7u7s7OzH7MJCp+3y8vLe3t7MzMz8/Pwn0ql6echkshd37dGpNJduXe8Y7KUoypSaVLyuMDc792nu0ze/u/kXR3CCZsl7wOFw9u/fHw6HZ2ZmrFarSqVatjkxm8179uxpb28/d+6cVCpVq9XLK7Bgs9mJiYmvv/56eXl5IBDwer18Pn+l+NB0Ot1gNBavW2+76BzosvrETAynuI6whi7JTsvIzs5+Bpr3fcFh/H/svVd0XMeZ71s7ds45R6ARupGJQBIESTDnJEqy7JGcxsdeZ439Mmv5beb53pm7ZnnsY4/tsRUpihRJkSIpkiAJUkQgARAZaOTQQAPdQAOdc++9z8OWdDWylRqBQfg9aEnQ6l21Q1X966svYBgdFRoMBl0uV3t7+/z8/JYtW9Rq9aNHj9rb24PB4KlTp5hMpsfjaWxsvHbtWkVFxd69ewsLCzEMe1ZMRM8ZRqPx+y+9YtQaGh81TczNMBmMiqri7VtrS0tKNmJ8N1ghGo2mqqqqpaVlYGBgdnbWYrGs54JF5wlwOp0NDQ2xWMxutz9DGhpFUYPBIBKJCgsKFn0+iqIUcoVWp+Xz+U+6a19DJBKJxWJ09YAn3Zd1YkNDfxE6G4bD4XjttdcCgYBOp0MQJOuCEVwut7S09Ec/+tEf/vCHhoYGjUZz/PjxLNYnCIIEAsG+ffvy8vKYTCaDwSBJEoKgZ0VGy+WyE0ePycTSe+3NIx4XRZK2XOPWiurami0ikehZuYsNvhaJRFJXV+f3+99///1oNFpbW3vixImOjo4HDx78+7//u8vlqqqq4vP5brfb6XR2dXUdOXLkwIEDEonkSXf8uwi9M5eIJeXl5YFAEEURpVKp0Wg2Dgc2WDlSqbS6ulqhUPT19XV2dj6RyEI2m51IJHp7e+Px+Do3/RkURQVDIZfLNTs7gyKoSqkymow8Hu9rf8jn8wvt9nXo4QqhrY09PT2jo6N0FhSSJJVKpc1my8/PX/+sLOvMhob++/B4vE2bNgEAEomE2+3GcVwikWS3tCgUiqNHjw4ODt69e/f8+fO5ubn5+flZ5HdEEESv1+v1egBAPB4fGhpSq9VPpApUFjBwhsPuUCqUhfkF065piqL0er3dbpfJZBsC+nmCz+dXVlaKxWIul3v79u179+7V1tZWVlaKRKKGhoZz585NT0+XlpZ+73vfa2trGxoa+t3vfjc5Oblz506HwyEQCJ50959tFhcXxycmFhYWWCyWXqs1GI3fZMqSSCUS6cYeZoNVhs1mWyyWioqKx48fd3R07N69WyAQrPMRv1arlUqlY2NjwWCQIIgn4pM97Zp+3NnZ3PFoYHIEQzGb3ry5vKq8rEyn1T4H7lIkSY6Pj9P+e4NOZzgcAhAgMoRGrXE6nXNzc1u2bJHJZM/xudYz/wrXmoWFhcuXL6fT6V27dhUVFWUxCBEEkUgkp06dWlxcbG9vP3v27E9+8hOr1Zp1l2Kx2Ojo6FtvvVVaWrpnz54nIqMTicTiom9pyQfDiEgklMvlX7srgCBILpdv1BB+7mEymTab7Sc/+YlYLP7oo48mJibq6uqqqqpMJtP169cfP37s8XgOHjxYX1+vVqtbW1uvX7/O5/ONRuOGhs6aVCo1Ojba1tHx4PHD6flZHptrt+RtqawuLipSraz26lMFSZKpVMrj9foDgUw6zefxFAo5n7/eymyDb4hAINi7d+/o6Ojg4ODQ0FBpaek6H3FoNBqVSvX48eO5uTmz2bzODgYURcXj8YsfXLp881rP/HhcjMME9XCw6+PmB987cfofXvmBdFXP32h35HQ6TRAEAACGYRzH1/SwmqKo5eXlhoaGDz/80Gg0mq2WmXm3z7+sUMo1Wt309PTw8HAmk9m1a9ezYuzLgg0N/TVEIpH+/v6Ojo5IJCKRSLRabRbzNQzDDodj7969c3NzN2/epMu2Za0mE4mEx+Pp6OiYmJhAUfTEiRPrGV9IUZTP5+sb6H/Y0dY77MQxzGaybq6sKigokEqkyPOymNHzUTgciUTCqXQKQ3G+gMdhPzPB3U8QCIJwHNfr9f/wD/9gMBj8fn9paalEIjEYDHq9/sKFC42NjePj4y+++OL+/furqqquXr0qEomYTCZJkslkknameg4sNOvJ4uLiO++euXavYTS+kBZg6Bxo7e540Pzgp6/+8OSxE6sbb0BRFEmS9FJNe53SS/UqNvFl7UajUde069qtG529XcFwKD/Htrd+d3lZ+epqkQ1WCxaLtXPnzrt37z569Ojy5csWi2WdNbROpzObzalUamhoKD8/f501dDKZnJ6aunWnoTPsitr4gIkCikomyci4u6XtYVX5JmFV1SpOdCRJBoPBtkePhsdGM0Qmx2zdtGmTQqFYUw3d2NjY398vk8kedz72w6kwm4rj5ORyYGx22mHMFQlFly5dysnJ2dDQ312USuXWrVsfP3587do1k8l04sSJ7MYhl8utr69fXFz8zW9+c/HiRZ1Ot2vXruw+bh6Pl5eX53A4mpqarl69WlhYaLVa121uSiaTVz+6dvXm9Y6JQT+TgElI1NPe3Np86sjxE8eOC4XC1W2OXrA/+08Yhtdnt0AQRCgYamppbnvcMe/1yKXS7bV1pcXFcoViHVp/DoAgSCKR1NfXZzIZgUAQjUavXLlCkuTJkycdDsebb7759ttvO53Ow4cP//KXv9RqtRKJxOVyNTY2MhiMzZs36/X658Z6utbEYjHnoPPWg8Yh1J+yCQEKZyiQjGWiIyNFjztKi0oKCgpW8WFmMpmFhYXWltYp1zSGY/aCwvLycoFAsNbvKx6PNzU3/z//3/87kwr4kWQKojqbJjp7ul85cfrQoUPK58jc/txAn8FWVlaOj483NTUdPnyYTjO3bh2QSCQ5OTlWqxWGYdo6u54Eg8G+gQF3xB/nIkD8aVpbFkgJIlMB74BzsLioiPsNHKO/CYl4vH9g8NKVD3rGnZ5YgASkul3U3NZ6YPf+LVs2r4VJgqKoQCAwMDAwMTEpkIlmUgGfgCJEbIqBgAQRzERQn0uNCths9vDwsNlsfl4do5F//dd/Xburd3d3+3y+6urqb+JB/3TCZDLFYnE4HO7u7g4Gg0ajUa1WZ2GMpDNGC4XCSCTS0dERCoWMRmN2e0QEQXg8nlQqHR0dbW9vj8fjdrt91cXr3yWVSs253b/5/f9pnOrxismUGE9yoQCSdk/PMFIgz5qrUChW81yVopLJZE93d3NLS19fbzgUFgoF67BbIElycnLyt//nt+99dLlpvKt7YWJoZmKkb5CIp9QaNYfDeeJnx06nc2Zmprq6Oov33t7eHg6Ha2pq1iFXP5PJpFuZn58/e/bsxx9/TFGUzWaz2+3xeHxsbGx8fBzHcYVCIZPJpqenL126dO/evZGRkUwmw+PxOBzOhjD6aiiK8ng895sfNPS2+sUwkHEBhgAcgRhIKhgVoWyDTL2KpdqCwWBLa+uf/vLnWx0PHo319U+NDjmHZqddYqFILpev6cvq7e29dOPqh+33l6RQTIyneEgUTi8HA8tuj0mlNZstMPKER2VjY+POnTuz/vnAwIDb7a6qqlqfyXzdwHF8fn6+tbVVKpXq9fr1DCBGURSGYSaTabfbdTrdOqfmWF5e7njc/mis38/MUALG/18bIZrkUwyrXFdeWrZaZ0ST01PvX7nwpwvv9IVm5pG4lwhPL8yNOodZMGY2mNYicD+dTs/OzjY3N4+NjYUy8Vk8mlCzgZgFGCjg4CQDDs/7YF/caDQgCGo0GqVS6ep24JvT09OzsLCwefPmtfgANuzQXwMEQUql8vjx4x6Pp7Oz8/3339fpdHQR4ywuRVuy3W53R0fHlStXhEKhVqvNzsfa4XAcOnRoYWHh2rVrdrv94MGD6+BqHAqFegf6JxZnQzwI6IWArkMqBPFocmxhtre/z2azrdZnmk6nJycnb9+53TbQPbPkIShSJ5SXdjq219aVlJSsqYpdXFhsfPDxhbvXp0CIUHBIBhpIpnyewfitJJPNfOV7r2wk4/tWUBSFIIjZbO7u7r5582Y8Ht+7d++RI0daW1ubmprOnDnj9XoPHTrEZDINBoPL5WpoaHC5XC6Xq6amxmq18ni8J75peWqhPRwWlxYJHAY4BCBAL9UUDAEWGkzFlpaXwOpViRscGnz/2gdvfXQhpWSRXAwiqV73mHNilMvhyqRSpUq1Wg39naadgy19HQkFg1RwKDYKAAA8PIJG24f7Wh89Ki4pUalUG65WTyH5+fk1NTUfffTR5cuX6VPT9dwY22w2m822bs19HgzDRCIxRgCQJgBFfVK1mwQgSbBwTCQQosiqCbC+vr6Lt64vSABlkAIWBgBIEqRvNPhxT1tOo8lkMq36FEoQxPLyMpPJxHF0YmEurscA69PboQAFw+lMJh6PBULBycnJhYUFm82WdX6zp5kNDf31MBiMkpKSw4cPh0Kh+fn5UCiU9afAZDIdDsf+/fvn5ubu3LljMpkOHDiQ3RkHi8Xavn271+s9f/682+0Oh8ProKETicSMy5VEKIiJARgGJAUAADAAbCxAJtye+XQqtVpteb3ej27f+j9v/nmWCBECnIJB18xwS3dHOBqRyWQajWbtdJVrxnXvYZMHjqXVXCBmAxhQFEgwkJ7piZu3bu3YvkOn0+E4vkatP38gCKLT6X71q18plco///nPb7/99tzc3A9/+MOf/exnVqv1L3/5y3//93+PjIz89Kc/feWVV6qrq994443Gxsaenp4dO3b8/Oc/3yjN9dUwmUwhX4SmKZAmAQCfyGiSAvEMF2EIhUKweutW04Pma813Yjl8oOYBDAEwRISTc9OxGx/fKci1KdbSocKzsDDtmSNMLIDBn5j0KIhC4EQq1dn5+M7du+VlZXqDfiNo4WkDhuH8/PwTJ068++67TU1NVqs161pj2UGrPYIg1jlvsVgsrtpUqXz3nfGlBYITAXwmICkQTSOLCbNdVV5WzuaswkkgrUaWFpeWwwHKxAQM9FODN0SI8EmvZ3h0dC2qw8IwzGKx0uk0QZJCLn8xHiHSBMBRkCHBcgyMLhGLUQ+GB4e7eWMsNo/LZrMddgfOeN7WzQ0N/Y1AEKS2tlalUgWDQZ1OtxL1JhKJ9u3bNzo6+uabb164cCEnJ2fTpk1ZXBCCIJVKdejQIbPZnJ+fr1pLC9BnwDDMYLJQCoZICnzetkVQDAhhMZnQ6unagYGB965emECDGRMf8BgAgBRBJUb9jR0tFp3xpZdfXjsN7fP5nOPDEQEE+AyAQAAAAAHAY8ah0PjYaFNz89YtW3Q6HYZhz9+ueo2AIAjDsEOHDkml0nPnzrW1tZ05c+bEiRMvv/xyTk7O+++/39ra+i//8i/79u3bvXv3r3/96+3bt9+5c8fpdPp8vkwmQxBEKpXCcXxDHn0BGIZVKlVFaankg/Pzi94MCwYsHGQoEEoy/ZmCzZbSklJ4Nb5SkiQzmcySzxdIRIFcCmD4E6WOIzEuNDQzMeueXXkrXwGPyxPzBN5wAPAYAMAgmQHzITDuJyKJ9snBsd//u1qkOLhrz/Ejx8xm88bBxVOFTqfbs2fP/fv3Ozo6LBZLfn7+uhU3oCjK7/f//ve/x3G8rq6upqZmHRqlwXFco9GcOnI8fePS47EhmJ+hSBKOpot1hQd37bVaLKs4m1EURWZIAEOf2zBDJAxliEwmk16tVj4PhmH0yQ8DZ9iUmsXRnkVWksIQEEmDYR+AAWWVJATMBEmGY+S1h3flUqlILDYaDM/Z2NzQ0N8UPp9fUFBAEASHw4lEIhRFZe3kLZFIXnrpJa/X+/DhwzfffFOj0Wi12iyuQ2eMlslkLBYLwzC6V2vqrSsSiSorKvhn3wK+GBBigMcAJAViaeANq022suKSVYkXoTfWXo9nbnEho2EBPhPAEAAAwCAjZY34Znt6e184fXrtUjegGMZksOAkIAgSAAAIEoRTYMxHukMTaOI//vv3Zy+cr63ZfOTQ4by8vI0MEt8Eer0Ui8W0U5pEItFoNBqNRi6X02V4NRpNY2Pj9evX3W730aNHKyoqjEbj7OxsXl4ejuNut/vRo0cFBQV6vf5p8Ed/qmAymfn5+acOHSUbPhwfdsNcBsiQaJysK91av22HVqtdFTs0LXpIkiSJv1mqIZAhMxlybWO2cq3Wilz79MOGBJ9BcgFYiIKpAOBglJa/zGX60onZ6FTgwnsKmYLH4yk2Yn+fJng8Hn0Ae/78+Vu3blVWVhYWFmZRJCE7UqnUw4cPg8Egn89fTw0NQRCHwzl65IhIKGx5+HA5HIBhWMIT1lRVbdmyZbW83umpVSDgi7h8byBM8RiAhQEKAIJCA0kNT2rUZ+N6+rXAMCyRSIxG4/j4OAtlFCvMXYuTS4uLUIog58OgRAmMYsDGAEVlIqnJbved9pZCh0OlULLYz5Un5Mby/01BUZTL5abT6fn5+Rs3bsAwvGfPHpVKlYWEYjAYNpvtyJEji4uLHR0dV69ePXz4sFqtzuJDZ7FYLBYrFos9fPiwra1Nr9fX19eLRKJve51vCIPBMBqNh+v3JT6+PjDiQgQsiiRBJJ0rNu2u3WHLta1KKnX6OaTTmVQ6DTAcwPAnPp4QIDEonk7G4jEAVs3F829RKOSl+faRBzNLgQTAUJBIgzEfiKcpFS8sYPXDS8NLi7M3FnAU4/P52aU7/M4iFAq3bt0qlUpZLJZUKo3H49PT00ql8pVXXrFYLFeuXGloaJicnDx+/PiOHTt27NgBAIjH4/39/b/73e/y8vJqampqa2vNZvOTvo+nC5lM9tLJF+QiSVdvTzgexTBMJZbt2L69tGzVgpYAABiGCYUiIZMT88WAggswBEAAZAhmhDTKdUq5crUa+rvY7fb93l3DIyO9Y64EQoBQEoRTwCoBGj6JIYAk48vxnseTdx82GU2mDQ39tMHlco8fPz48PNzR0XHmzJlf/vKXOp1uHdqFIIjNZpeUlNy+fZsOVoZheN1mbPq4+PTp07t27XZNTyMootVq1yJDhTU3t3ZT9ULTrSUyAARMAACIpSRheEtN+ZattWt0fIei6NatW30+X8fjDiGXb10WiQIgmkkuMDBCyKYYKMiQAAIAR4CaPxNZdI4M7ayrW6GGTqfTXq93bm5ueXk5nU5jGCYSiTQajVQqfSIufxsa+ttBkmQ4HL59+7bH4wEAnDhxIjvBymQyt23bNjc39+abb77zzjtyuXzXrl1Zu2qlUqmxsbHz58+r1WqFQlFdXb1GZYFgGObxeC+cOsVkMu83PYik4xAE8cSsbZu3HDhwYHUdsrlcDp/F8URilCADcBQAAEgSCaelbJ5SoYSgNZwEdVrd7trtQ05n28JEJOqH0gQ16Qf5MmASkTwmSVGZSKq/Z/rmg8YCh10qlbGfr431WgPDcEFBAf3vMzMz7777Loqi27Zt27t3r8FgeP/992/evPmnP/1pfHz8+PHjhYWFMAwjCIJh2J07d7q6ugYHB/fs2ZOTk6NUKje80mkQBLFYLCaTaX5+3uPxstgsg8HAWdW8K/TOtri0uGa07Hp3UzxNADYGSAoEEhpSsHtzXWFB4Zqezsvl8tptW8PRyN07d8amJufSngUuTAhYAIFBhgQQBFgY0AqcM2MTU5NbN2/e2Nk+VSAIYjAY6uvrZ2dnb926tWnTpvr6+vXJ1cBkMisqKuiKCv39/TabbZ2DwiEIEomEHA6bdmlbiybybLbTx04GA0Hn9FjMT1AQhSeYpYWFB+p3FxU51mgsQBCUn58fjUYTiURnV6fVYs2BoWn3zPJYhADgf9i5SAqGYASGP8lDkBV0/PTw8HBzc3N7e7vL5YrH40wGw2Q2l5SUVFZWOhwOLpe7zgN/I7fdtwOGYbFYPD4+3tnZ2dvbW15eLhaLs1vIWSwWl8sNBALXr19HUVSv12dniqZ7hWHY8PCvnT+CAAAgAElEQVTw48eP0+n0mpZNhiBIJBKVl5dvq91WZCvYsbXu5Rdf3Llzp1QmW93NbiQSmZqZdk1OJ0EGwDBIEyCc5M8n63LLjuw/tKYujywWSyKVYCganVogpv3IcjKVSVM5UiDhfBJeDUOAosh4RsUVFdsd65Ak7gs8K7ntvhqSJP1+/927d5uamoaGhhAEyc3Nraqqkkqli4uL/f393d3dCILQVQyrqqo4HA59dNPX15dIJDZKG34B2uQmlUokEgmTwVgLRSsRSzgM5pJrnhWl+AlEGEP0FL++fPPxI8cK8vPXevVisdk51pyqykqj3hCJRMZ8s6SSC5gooACAIJAmgT9uYEkr7aVFdsfKb58kyVgsFgwGI5EIbfH6ai/ejdx2XwEtH8VicSAQePDgQTgcNpvNBoNhHZqmo98eP348MjKiUCjWX0MDAD4rHbVG+0wcxxUyeXGhI99otenM5Tn2o7v3HzlwqLioeE0z+tGKyGg06nV6AEAkHFleWpr3eDISFuBgAIYAgKAUAc2GSqSmPdt25uflZb2LSCaTbW1tb7zxxtTUNIfDZrJYKI6LJWKFQjk4MDA9Pc1isbRa7d9ef01z221o6G8NvajHYjFai6hUKo1Gk3W1FIFAMDk5OTQ0BACw2Ww8Hi+7jNEcDgfDsNnZ2fHxcRaLpdFo1i63Ll2cjM1iyeQypVIhFArXIrqOx+Px2Jz5iZmUJ8gKkZwgwfdmyvR5Jw4cqa+vXyOJ8BkMnKE3GKorKgvz8xgoNu5xpZQciosBAAAEAAlANMlPY8UmW2V5BZu9Ui9wiqIIgkgmk8lkMpPJQBD01XLk+dDQAAAmkymTyYLBYGdnZ09PD4qidrt906ZNarU6Ho+3trb29PSEQiGFQlFcXGyxWHJycmAYHhkZCQQCpaWlGo2GJMnPqidshHjCMIyiKIIga/QoWCymWq0utRfbdOZ8vbnGXnZi3+H9e/bZcm3r4N6KwAiLyZRIJDKZzDvvedDemhEzAROhU5HA8TTqiuywV27bvMVkNK2wLYok/X5/T1/P7ca7j7s6vQteLpvDYrG+QgZtaOivhcfjcbncYDDY1tZGEITFYlmHdNEQBDEYjOHh4a6urmAwWFdXt3bujk8QHMflcrnFbM7LtRUV2ouKinQ63Tq4N2AYRmf+ViqVZrPZZDKBDLno9sSWA4CkQCCOzEW5S5kDW3YePnhYJpNlNzURBOF0OhsaGrq7u2PxmD8UmEv6l6B4KBlbmHbzudxQODQ6MlpWVsblcr9gztvQ0E8R9OsXiUQwDM/OznZ2dopEIr1en92sh6Ioj8cTCoU9PT1TU1MMBqOgoCA7qzaGYUqlMh6P9/T0DA0Nmc1mjUazpifdCIIwGAwGg7FGvlZMJlMmlZl1BotSb1XoHPqc3ZW1R/YeqK6qlkmla62WYBjmsDlKpVKlUpEEeefe3bgAobg4gCEAAZAmwXzYxlbuqt7mKLQzVjxPpVKpmRnXw/b2jscdM7MzGIqxWUwMw74sGuz50NC0aUqj0eh0OgaDMTIy0tnZ6fV6HQ5HSUmJwWBQKBRjY2O9vb1OpzORSNDFWWw2m9VqtdlshYWFAoFgeHj4wYMHGIYJBIKNrB1rDQRBLCZLrVZbLZb83LwiR5HDblcoFGt0Qv1lsFisdDLlmpzyutzpSBRkSOCLYfMxcRT+wYnTW7dsWfliOegcPHP27PkPLt7uae0Y6+/tHxjs6OZwuRKx+MsGzoaG/iYIBAI+nz80NETXVzKZTGw2e63ncwiCUqkUgiAqlWrz5s3PjSD5PCRJRiIRt9vtX14mKYrH463KXjocDk9MTDidzqnpaTJDMFiMvzvYcRyXyWRGo9FkNKmVaiYJQXESjhNSil0iNe+t3nZo/4HCggIcy1KTJBKJGzduPHr0SCAUzix7BiNzU2hkAY17UyG3z8PF2BgFERlCJBLJ5fIvDP8NDf3UgaKoQCDgcrkPHz5ksVhms1mv12d3KQzDzGazz+cbGBgYHR0tKCgQiURZWHQgCGKxWAKBIBgMfvzxxxaLJTc391l/7GwWy2w2FxYUFubllxeV1NbW2u329UzwCQBgs9kwDA/09S/6FhORCKAoEE3BizHGfHxncfWxw0fUas0KpVskErn/8f3LVz+8evfG/Z5Hvc6BCecoAiF8oeDLDhOeDw1NA8OwVCo1GAw8Hi+VSqEomp+fbzQa5XJ5bm6uTCbLZDLj4+MdHR1+v5/2qiwuLrZarUKhMJ1OP3jw4K233hoYGPD5fAAAHo+34SS9phAEEQwGZ2dmQ6EQgiAcLnflqWnoBGQjIyPOoSGPZx6GYBaL9RXDCoIgDocrFooZaQDiBJqgNKiwSpt3cMfu/Xv26nX6lXiV0EWMr16//va199uXxj2s5DKWmo/5R6fGEsthnUprNBn/7g83NPTXAkEQjuN8Pj+VSg0ODk5PTwuFQrVavdZzEV0nOCcnp6SkRK1WP3/JlOLx+NTUVFtb++0H99u6O8anJqLhKIZhdM6u7K6ZSqXm5+fb2h5dv9tw60FjW2+nf8lPEgT3Swq2055OTAZDo9XodTq1SCbH+SVG295tO48fOVpkdzDw7E+Pg8HgtWvXBgcHpSpF/8LkghwidXyKi1N8Bili+ifnhDAzL9c2Pz9vs9m+EJq1UafwaUQikdTV1blcLrFYvJKDIQRBWCzWoUOHfD7f9evX3377bQaDUVZWlp0sM5lMp0+fpijKYrE8H0oilUxGIhFAUWw2Z7Wc2FKplM/no2vlSMQSkUiE4V86y0AQpFarf/Laj8VXLz+eGFxcjsEAVmEKa3n5np27LBbLCi1w6XR6YHDwL+++/WCg3c8iCTYCh6mm/sdT8zOvpRNHjxxdZwvfE4HO0nj8+PGCgoJUKmUwGOLxeDgczmQye/bsMRqNDQ0N169fv3r16vT09P79+6uqqpRKJYqiiUSC9ntpamrq7+/v6enZvn17Xl7e+tf1/Y4QDAanp6f7BwcHRoeSqYRSpigpLMq32WRyedYTTiwWm5ub6+jsaOvrcs25uWzOJntpRUlpfn7+l22YIQiSyWX79uwx6HRtjzumZqbFIlGJvaiivEIikaxQIREE4Rx0PurpmEr4YiYu4OAAAJAhI/zoxz1t1X3lVVWVTBZrw3Eoa2Qy2dGjR2dnZ99666133nlHo9FUVVWt6YIFQZBCoZDL5RRFAQBIknzOQk4nJsbfOvPO+5cvLSJxwEThJMGPQD9+7YenTp4qyC/I7pqLi4tXPvzwr2+9PhrxJngIBajGlqYiQ873X3r51e//w5d+/xDEYDAKCwpzc3LT6TTtCI5h2AofeCgUisdj/oB/amE2yCEpLgZQGJAUQAAQohlOGONxWCzW0NBQOBxeSUPflg0NnSW08ezVV19FEATH8UgkQpJk1nu+/Pz8Xbt2TU1N3blzJycnhz4TyeI6GIYVFBT86le/YrFYMAwHAgEGg/GMVqZIp9OLi4sTExO9zv5AMCgSCIsK7CazSSqRZj3bZjKZcDg8NDTc3tUxMjVOkERpflFZcUlObo6A/6XRaQKBoH7nTqVC8fBxW+/QIIZi9tz86k2bbDbbSvNhU9SC1/ugpXnAPb4ggSi1AMAQkSGBFPt4vNvcrK/bVicWi5/F1/dtgWFYoVBIpVKSJBEEGR4epu3lBw8eLC0ttVqtW7du/f3vf3///v3W1tajR4++8sordrudw+EcOHCgsLDw+vXrH3zwwdmzZy9fvrxz585//Md/rKyshGH4uawu+wTp6up6++y7127fjAthCoGgUMrIlv3spz89euSoWq3O7ppTU1Pnzp979+L5OSSa4qBwkrjz8b3KguJf/uJ/b6vd9mW/gmFYIBBs2rSpuLiYIAg6rnpVNpwESQ4MDPTNjoZ5ALAxgMGABACFgZidXAjPeufdc3MWi2XlDX2XUSqVL774otfrbWpqev311/l8fmFh4Zqah+ns5pOTky0tLVqttrS09PnwiqazVbS0Prze2jilIAkRH2AIlCJC/vi5W1eVCqXVYs1ixSRJcnh4+L2L5/qRpYSVA9gYAGApnO5dnG5ubq6qqDSbzV9xYA7DMO3quaJ7+xwQBJEkRZEUDNH+lJ//fwCiAPyJHXy9Z/sNDZ09CILIZDKKojweT09PTyKRqKqqyq5eIIZhVVVVsVjs17/+9cWLF6VSaXYamg6eUCqVAIDOzs7h4eG8vLycnJxn0SY365699MEHH1y+PJNYymAQTsJSgvmDV76//8B+iznLBSwQCDQ2Nr595u3e+ckgnqEoqrH5QbE1/4XjJ0+dOPllv6KjSCsqKnJzc8OhMARDPC6Pz+ej2IqPsAFwu+eaOh96oAglZgAOA5AUwCnAwWPu2KzPOz4+xudneSjxLIIgCH2zi4uL9+/fb2trczqdp0+frq6urqio+Od//uf79+9fv379ww8/HB4ePnDgwP79+w0Gg9VqfemllyorKzs6OlpbW5PJJAAAhuF4PJ5IJDgczvNxJvNkoQsm37nXeLu31WtlUnwcIDCIp5y+wLkPL5mMJoVCkcWHGo/Huzo7z169OCXLpEQ8wEQAQc37k4+nnc0tLUaDUaP5Kl8p+hxvZXf2RSAAIIiC6H+Az2XogiCIgiAY3tiVrRwcx20228svvxyLxXp6et5+++3XXnstNzd3TY/dIAgKBoMNDQ1isZjL5VZWVq5dW+sGSZKT4xOdzr6ZhJ8wsunk0BRJURx0ZtA3OD7imnZZrJZv+9EG/P7RqYmpZU9CgwEZly5zRjKwYDQ0ODfZ1d2lUqnWrUoOAIDD4XA4HLFIrBbJBhangiwS8JgAAEBSIJyEE5lUNBaPx+kiXOvWK7ChoVcOSZIul+vKlSsej4ckyX379mXn2iUWi6urq1999dULFy588MEHBoNh8+bNWa/9JEkODAycPXtWqVT+0z/9U1FR0TM071MUlU6l2tva3r/5YUdsMi3CARMDycykbwm6fE4gEBgNxuxk5fjY+Dvn3r0z2xcVwYDHBBAIBiL+kU7xXVFZSalWq/2KB45hmEQiWfUo8jSRjsZiBAQADAOKAhQFAAAwjGAISYFUMkUfPn7X0Ol0lZWVXq+3paUlGo0uLCzU19fb7XaxWKzVau/cudPX13f27Nnx8fEdO3ZUVFQolUq5XK7X6wsLC2OxGJ0zq6+vr6GhQSQSORwOm80mkUi+O7uRVSeTyQz0D/RNjXhBlNKIPymwImCkIDC+MDcwPFhSXKJUfesyK16Pd2R6YjaynM6VAR4OIAhAgIBhXzT22Nm7abRCLpev81uDYdhizbEo9KPD7nSCAAjySRixP46lgVwslclk69mf5xU2m11XVxeNRv/4xz9evnxZLBafOnXKarWu3VJFJ7kLhUKDg4MFBQV2u/0piQlZCRRFud1u96InxYYB45McNQCGABOjuPhiyD835zaZTd92EIVCYd+yj2QiEAum4E/fCAJlmIgvGZ6edqVSqdW/mS+Hy+Xq9fqJiQkGhGoRQWRpKUoEYQYKUiTwRQ1cGYZgCwsL+/btW4dML59nQ0OvFAiChEKhTCZraWn58MMPVSpVZWVlFpM+BEFSqfT48eMul6urq+u9995TKpUrcbeVSqVcLvfWrVs2m43L5T5Dh48URU1NTbf1dI0F5tMGARCxAAQBkqQknCHnbI+zf9vMjE7/rcOGwqHwyMTYwPRYVIoBjQCgMACAErCCU6EB1+jjx52ibFN9rwSxSJxvyRlsc4ViKSBgfZY4D0RTPBZLqVKh30nZZzKZTp48KZfLz5w509HR4Xa7U6nUjh07TCaTTqfLz8+nKxpevXp1bGxsdna2pqaGTjdLq2c6V6DH47l582YkEnE4HDU1NYWFhTqdTi6XM5nM58wbch0gCGJqcnIxGkhzUYDBn5ymIjBg4xkGmFvwLi0tZaGhl5aXlsIBmItBOEp9Ip4ggMFpFuxeXvB6FkiSXN0b+VpgGLbb7ZuLyp3jI4NuH8VnQggE4mnYFy8wOgryCrLLQLrBF4AgiMlk7tixIxaL/du//dtf/vIXFEVfffXV1a3V9QVUKlVdXd3rr7/e0tKyZcsWm211aus+WXAcZ2AYRFCfJEoHFKAAIAGVJlAYwfFsrMU4A2czWSBNUhkAwOdKo2QINoILhcJ13tniOF5eXj41NdXT02NVG9LD8TnvEs5jgRSZCaQq6+1EhggEAtXV1eu8xd3Q0CsFhuGcnJxjx44NDg62t7frdDqVSqXVarNw7WIymbm5ufv37/d6vR9//DHt7pldQVQYhsvLywOBQHd3940bN+RyuVqtZjKZz8TUT5Lk7MzM1PxsnAUAGwUIDCgKIDBgYxkONr+8MD09rfn2FbaDweDcwnwaB4CDA+zT36JwmoV6EsGRsZHa2q2rfzNfCQRBapVqW+WWzoG+Jf9UCo9BGAIyJOWLqBgCm8mq0+nQZ3+Kzw6pVHr48GGDwfDGG29cuXLlP/7jP+hsdyiKOhwOo9FYW1v7xhtv3Lt3r7u7e8eOHS+//HJ5eblQKKQz+EIQVFhYeOLEievXrzc0NNy6dSsnJ2f37t0vvPCCwWBY/yILzzq0nxgKIxBBAvC5NZWkAEFm7YvMZrFYOINKEICkPrksBABJQWmCL+RweVwIXu8pC4ZhmUy2c8dOj9ebvnI5tJyEUQRJUVKW7GevvFZVWflMzKLPCgKBYOvWrZFI5PXXX7969SoEQT/+8Y/5fP4aSTSBQFBbW9vc3NzZ2Xn79m2VSrUOZkuSJNPpdDqdpjeEdFrY1XL+hmHYlmdzmPNaB7qigThAIABBIEOCUIIdB1a1IdeWm8UXK5fLbdZcKc6dX/QROALYOAAAhBOcAJmXZ6iprl5nlwkEQfLz83fv3r28vDw/P2/PK6gWCiAYkAQZC0c98x6j0Xjy5Em1Wr3Om6KN3HarAF26j8fjdXV1PXr0SCgUFhQUZJfbHEEQtVodi8WampomJydzcnJMpm99CkPD4XD4fD5FUe3t7YFAQKvVar+97nwikCQ5OTHZ1tc1Efam+BjAPr19imIsJXNlurLCIr3B8G3vJRIJDw4Ntfd1B3nUJ7H2AAAKwOGkjGJX5NhLSoq5nPV2HGcymSKxKLIUcHePBEfcrGCaMRdDXKEfHn/5xVOnv6x05fOU2+4roOPGTCZTYWGhxWKhE7smk8l0Os1gMKRSqcPhMBgMqVSqu7u7s7NzdnaWxWLxeDw6DJzD4VgslpqamuLiYh6P5/P5xsbGiouLVSoV7RlJr2pfW9HmWYEgiFQqFY/Hk8lkKpWi4ylX8daYTNbwwODoxHiSCwMIAiQFkmloIaJOco7vOVidVWoFNps9N+tuaW2NoRkKgQEMQJqAlmKiZepwza69u3dLJJIn8nZ4PF5OTk5NVXWh1VblKDu4a+9rP3itrLRUKBB+WX82cttlAQRBHA5HpVJlMpnh4eGRkREAgEajWSNjP51cz+/3d3V1JZPJvLw8pVK5ph8YSZJer7e7u/vOnTvNzc1dXV0ej4eenVbr2JPD5aaTyfkZ99yYi4gmkUgG9cUZc7HdxTVH9h202+1ZPEkYhhEEIVOEa2QisRjEIhnEn8DnYhXqnBN7D22rq1vrMmdfgN7Di0QiiUTCZDFJkgws+QPLfjJDKJXKwsLCurq6LVu28Pn8v+3VRn7oZwAURdlsNkmSg4OD8XjcarVmF2EDAKCrRQAAOjs7/X6/Xq/XaDTZ9YrFYqnV6omJibGxsUwmU1lZuYpViyiKIj+F/stqjSiKolAUnZl29Q30R5kUYKEAAECQIJJizUTry7Yc2Lc/ixmWwWT6l5eb7n+8kAwBFkb7coBYCp+LlkosL596waA3PJHgMwbO0Gq1pUUlRbkFRZa8nZVbX3vp+/v27jUajF/Wn++IhgafuqHr9Xqj0SiTyfx+/8OHD51OJ+2bLpVKNRoNXZVzenp6YGBgeHg4FApxOByhUMhkMnk8nkql0ul0dAEtvV6/adMmiUQyNTV14cKFlpYWj8eDouhn9eeeXRNjKpWam5tra2trbGxsbW3t7e31+/04jrPZ7FWxeEEQxOPxgssB7+z8/LgLTpBIOA3NhcUR+HDNzoN79+uyypGP4zgAVDKamHaOkYEYGs7A3qggQG3LLX3hyHG73b4WNVC/CXRhaq1GY9Dp86w2e0Gh1Wqls8V/2U82NHR2IAgiEAi0Wm00Gu3v729paZFIJEqlco1KAWAYxuPxFhYWEAQpKipSq9Vr55ZAkuSjR4/u3r3b1tbmcrlmZ2YXfYter3d6etrn86lUKtaKkyTS+2Q+XyDhC7lphA9wJcqzCdXbbeUvnTxdsWlT1vM8h8MxGgw8CJeiPA1TaOYptliLj+47XF+/U7r2Zc7+LiwWS6/X67Q6JpOJM3B6aXA4HLt37y4tLf2ycgob+aGfDRQKxZ49e8LhMF19MOsvDEEQk8l04MCBsbGxwcHBa9eu0YU0s1gIGQyG1Wo9duyYwWBQqVQoiq5Kqi+KopaXl6enpycnJ6PRKAzDcrncarXS7iIrvDgAAIZhtUZdWVLW0dvV5B6Ih9MwjoIUAftjm8yOiqIShUKRxV3gOJ6Xm7t3e32o6YZ3MgQ4OAVRUDCRz9PsqN5cWFDIXMco4y90zGqx6LTaIocjGAzSO59nQuCuDyiKisVisVicyWRmZmauXr3qdDrn5uaOHDmi1+sVCsXu3bsdDkdubu6tW7fodDQDAwP19fWVlZU6nQ6GYfrnZWVl0WiULooWDod7enp6enpYLFZ+fn5hYWFubq7FYln/sO5VIRaLPXz4sKura3Z2NhQKJeJxDMfpTYXdbt+1axdjxUYjGIaZTOb2ujoEggz3GmdCi2mSEAjZdmPOkaNHLFZr1lfOs+X946s/EnF44zNT4UQMgWCzWrejbnt5Rfk6VCr+ahgMRtY5+zb45lAURZ/FIwjy+uuvv/POO6lU6tSpU3SOqdUFx/G8vLyXX345Go2uqT90PB6fnJx8//33+/sHUBRRq9RcoQAC1OLiotPpHBgYSKfTu3btoo/FVtiWTCbbt3dveVnZgHMwEAiKRCJHoV0kFq1kBOE4bjAafv6LX7hmXHNzc4AC1pwciVj8ZEcliqIGg0Gn030WbU/vIp6U+WPDDr1q0KnuLBZLUVGRyWSi/5jde0VRVCgUMhiMnp6evr4+Pp9vsViyE1UwDOv1+uLi4sLCQrquG/3HLC5FQ1HU6OhoW1tbc3NzW1tbT3fPyOjI/Py83+9PpVJisXjl+W4gCEIQhMvjMSEsPR/Ek6SIYKohrp2ne+WFF7fVbhMKhdk9WA6Ha9Dp074wI5KRkEwl4ORxVYe27z108KDh2zuHrCJ0InqBQKBQKMRi8ddO698dO/TnIUnS7/dPTU11d3f39vbG43Eej8flchkMBofDyc/Pz8vLE4lECwsLfX193d3dS0tLMAzjOM7hcOiXi+M4BEH0TpK2PYdCIafT2dbWNjo6ShCEXq+nh4nP56NTDj/pm/56IpFId3f3O++8097RkYjFeXw+k8PGUNTtnnU6h2ZmZlgsllwuXxUXcKFQaLVay0pLLWp9eX7Rvvo9x44dM1vMK7k4juNSmbSyqtKeV+DIK9ixte7IkSMOh2P9HatWyIYdOmvo+VwgEMhkMgaD4XQ6Jycn0+m00WhciwhgBEHkcrlWq8UwLBAIAADoY6jVbWVycvLdd9+ddrkABPyxUNtw79iSe3R2yrvoFfAFEpH40cNHOp3OYDCsykkRiqIcLlelUlnNZoPBIBQJVz59fbYwKZVKjVotEonoKXTlvV1hr+D/yVd3acOX45mBLigqEAjo7DmhUAjH8ew2bTiOC4XCaDTa0tLi9XpNJpNGo8lupNF+Jkwm0+fzOZ1OkiQFAkF2wyCdTs/Pz//1r3+9fv26x+NRq9USmUwkEgX8/vb2tr6+fjpFyaoEL9L+iNVVVTlao8Ns27Vl+49ee61yU6VEIsn64iiKiiXims2bK0rLi/IKasorv/+97+/YsUOjUj1bHrHfTQ0NQRCfz6ergk9PT7e2ti4uLvL5fLlczmAwEAQRCoU5OTl2u53BYMzOznZ0dNBlq1gsFl1piB5BdEIAvV5fVlZWUVFhtVoZDAZJkkKhMD8/XyQSzczMfPDBB4FAIJVKZTKZz7tNP/H14wsQBNHX13fhwoWFhQUIhV2L810Tg2M+95hr0u8PyGUyNovd0tzscDjkcvnKP3IIgjAM4/P5Oq3WarFotdpVCf+CYZiBM4RCoUalUatVfJ4AQZ+9dDQbGnqFIAgiFoutVmssFuvt7W1vb4cgyGQyrbpTB/0ZAwCGh4ffeustOop0dc2rJEn29PT853/+p9lkWooEupcmF7V4SIKE+FCYTMIZCk1T3jmPRqPRarVZW4W+AG0yYDCZq6t0Pylg9BSo5+zY8OV4lqCXk4mJid/+9rc4jp86dWrHjh3ZednKZLIDBw6MjIw8ePDg4sWLarW6oKAgi1WQ9vIMh8MPHjy4dOlSYWHhiy++mN3ed25u7tKlSxMTEwiOhaKRa/dvI1wGRFBwilBKZCwW68033mQwGHV1dSt3LKb9L00mk1QiSafTGI7z+fyVb6xRBBXw+Xk2m1GvpwDg8XhrYYHYYC2gjcc5OTlCoVCr1f75z3++fv16PB7ncrkVFRUYhuE4LpfLaSe5mpqamzdvNjY2/vGPf2xoaDhw4MDu3bsLCgrod01HHQgEAo1Gk5eXV1dXFw6HcRzXaDShUOjx48e/+c1vMAxTq9UWi6WgoKCgoCAvL492iHrSj+F/kE6nBwYGGhsby8vL3VOjI9RS1IABBgTSEGMhxowupVPpJe/i8PCwTqdTKBQrb5HWH2thoV/dwmYbPIugKKrRaE6fPo2i6IULF/7617+m0+mXXnrps6Pd1cXn83300Ufj4+MIgmzfvn0VLSnLy8tzc3OZTGbOOz8Z8/kFFE2JCk0AACAASURBVNDw6UolGQ7mng5D7mRJToHP55uYmDAajRtr0DPK07UePDfQRq979+4JBAKdTldQkE3BehRFc3JyXnnllaWlpdbWVq1WK5PJsl4FGQwGj8ebn5+n47FeeuklOnLxm0NRlMvlunjxojUnh4iFxyIetyABsTOAIPFgGqSYrHDQNT7pdDrz8/O1Wm12/fwCOI5LpNJVudTnYbFYG9nNnlEgCJLL5bt37xYKhVeuXJHJZF8onoIgCJ1i0mw2OxyO5ubmlpaWv/71rx0dHZs3b66trbVarZ+9fTr1x+fHQiwWM5vNp0+fHh4enpuba25ufvDggcFgeOGFF44fP85ms/1+v9fr5fF4SqXyydryKYry+XyLi4vJRGJ2YX46vRyVokAjoOssJFnY1JQPpOIl9qLx8fHc3NxV0dAbbLCmQBBkNpuPHTuG4/jFixevXbtG+0bn5OSsbsw3hmEymSw3N7enp+f27dsGg8FsNq+Wlg2FQtFoVCKRTLvdi7wEUHAAAJ8kcOQyEoxoPJ3QajXJZHJpaWlVWvwmEAQRjUZDoVAmnWExWVw+91kM/3iq2NDQa4Jer3/xxRdHRkaam5tVKpXJZGIwGFnscRkMRm1trdvt/q//+q8rV67k5+fv3LlTJBJl0SUmk1lWVrZnz54//elP58+fNxqN27Zt+1Y6MhQKud1ur9er1Khno0tuPAryFBQMAQgk/fGpWT/pipu1Wq/XOz4+rlarny3viA2eLbhc7rZt21QqFQBAr9cnEomenh4AQF5eHn0wiqKo1WpVKpVFRUV2u72trW1iYmJkZKS/v3/Tpk0Oh8Nqtf5dpyY2m2232zUazcTExMTExOTk5NTUVCqVwjCM9p9ua2u7c+cODMMajUYulwuFQqFQqNPpjEYjAICiqPX88v1+fzqd5vC4E3MzAUEa8JmAoj4pTy1gRqFQKpPR6/XBYJD2+1wfMplMJBwOhyMkRXI4HC6X+8SjAzd4hqDtRydPnmQyme+9997FixdTqdSLL75Ip0ZZrVboYKFTp07NzMy0t7ebTCalUslisVZl/NLHvyRFojCEQPAn6pmGpCAAYBjJZDIohq3PdEESRCAYnHW7p6an3PPuaCQmEgg1GrVer1cpVfR57Np24FMQBHkKneKyZkNDrwl8Pr+mpubUqVPnz5+/du1aXl5eTU2NWCz+ttehj023bt3qcrnOnTt3/vx5OiN9dguSWCw+dOjQ1NRUY2PjhQsXZDJZUVHRNx85y8vLwWBQqVSOToy72Qmg4AHw6cZawIwtxsKLUbPZEo/HPR7PelaoTiaSsVg0QxA4jtOer+vW9AZPClol22w2Osfi8vLyuXPnQqHQ4cOHN23aJJPJcByHYZjP55eUlBQUFGzduvXOnTu3b9++f/9+V1dXSUlJfX19QUGBQqHg8Xhf+GYYDIZCoZBKpWVlZel0OhKJeL1esVjM5XLD4bDX6+3v75+fnwcAoCgqkUg0Gs2+ffuMRmMmk1lYWAgEAnQaWlp2YxjGYrG4XC4dzri6IpteqimKQuBPFyW62C8AgKRgCIJgOEMQ65YDO51OL/v9s7Ozk9NT8x4PkU7JpDKNRqvT6RRy+VfnhlsVCIIgSZKiKNrb5LlZqr9rIAhiMBjo89Lf/e53f/jDH5aWln7xi1/Y7fZV/ITEYvHevXu7u7svXLjw3nvvbd682WxeUYDsZwiFQg6H45p2lW0qJ6LeJf8CJf5U/UdTaJxEKHh21p2Xn5eFMMiCSDR64+bNN996s2/UGaXSVDwFk4CFMXOs1l/90y+3btmy1uX9UqlUIBBIxONSmYzD5oDnZVxuaOg1gQ4uPH78+Pz8/M2bN8+cOWM2m7MeKkajsb6+fnR09P79+waDQa1W5+fnZ7E2IAhiNBpPnDixsLAwNDTU2tpqMpm+uVWblsUwApNkhoIoAH1uIoMAgCEIgWAEplXCt+1bFpAkGY/Hl5aXZ2Zn3O65aDQqFAg0arVGoxGJROtQz5lWb7QkeqZTCz+70K+YIIh0Oh2LxW7fvv3o0aMf/vCHp06doot+AwBQFEVRtKyszGaznThx4ubNm1euXLlw4cKlS5eqq6sPHTq0d+/ev60GSmt0FEXpJNO0FwQEQQqF4sSJE+Xl5SMjI2NjY7ShenBwMC8vD4KgaDRKL8Z+v1+n06nVaqVSqVar7XZ7bW0tiqIEQYCVJcb5QifpRK2LC4tFm0pjy9PhcAzwGAAAQFEgnMDSACJI98xMrs22Rtl2v4BvyXf23Lnz589PeGaSFEHFkigEc5ic6qqq//3zX5SVlnLWIKzn8yQSiWAwSBCEQqHY2E4/6wiFwrq6OhRFz5w509TUlEwmf/zjHxcXF9M70lVpgslknjhxwufzNTU1Xbx48Qc/+AF9oLRC+Hy+Vqs1mc1SscQXDvDmEwliOcNGIYKiPOEcntpRYh3qH6zbXpebm7vWS1U8Hm/raL984+qj5bGghUHhbECSwBMJ+iLRkf7f/v53MARVVFQQBMHlcrlc7ioOHIqilv3LdxrvNjbe8y56CJLCMWxrzZb6HTvtdvtqtfIE2dDQawUMwwaD4eDBgwiCuFyuTCZDkmR2QwWCIIfD8dprrw0MDHz00Ucikchms2VdvHDbtm20lyeKop+VR/kmCAQCFos1M+2yFRakU0vLoSUg+XRjnUgjCQJkgGfeYzQZs8778a1IJpMPmpvPnzvXM9AXTMWIWBKHUS6XazVbf/rTn5SXla1DeHs8Hk/EE0KR8GkLNftOQfs1/uhHP1IqlTdv3jx79uzMzMzJkyerq6s/CxhFEITP57PZ7GPHjhUVFfX09LS0tIyOjv7xj3+8efNmWVkZXc7wywLkPxu5dOoANput0+k2bdoUDocjkUgikaALIaEoqtVqi4qKJicnk8mk0+ns7Ozk8XhLS0ubN2+GYfjWrVs3btzw+/0CgYDP5/N4PLFYbLFYqqqqeDxeKBQKBAIoivL5fCaT+dkY/4rRREdcGAwGCV8knHezfNFMjCAYCJQmIXewSJNnFCt7+/oOHjq0RlFZn2d5eflBU9MHN6/2UQsRCxNgMEizgDvsX16+23Ifx7H/9dOf0d3gcrkcDmcVa1uQJOmec3949WpnV9eSfwmCYT6Xu3vnrtqttfqsir9s8DQAw7Bard61axeO42fPnu3q6vrDH/7wwgsvVFVVZVcl4G+BICgvL+/AgQMikchisayW0xFtsTp65Mjjx4/ZCL5Jnx/HqOVUBEVQkVorwtgQCaw5OQUFBXK5fFVa/AoCgcCDlub2aWdAAIBO8El9MS6DgkBoYvnRcM+b5860tD0CgOKyOUaDobq62mwyr8rwDIVCd+/fO/PB+y3DXUEkDWCYSqSn/N54KikUChUKxTORP/Qr2Fj41xaHwyEWi30+3wrrbHM4nOLi4ldfffXdd99taGjIy8vbuXNnFoYlOqvXzp07bTabRCL5Vlfg8/kqlUoqk6mVqtBMjOWOJQhAsVFAUMAbNuBSu900OjZaVl6Wk5Oz1ho6lUr19vVdunLpw+6PfYwUJYABlwSLfuCaGZ2dSmWSP//H/1VRUUGSJJvFZjKZELya/YlGo+0dHS0tLfPz8ykiw2YwKsrLq6qrLWbLhjV6/YEgiM1ml5WV8Xg8iURy69atR48e0WlN8/PzPz9HoyhKhxvabLb8/PzOzs7e3t7x8XGXy9Xf319YWJifn2+z2XQ63Vek46TTg7BYrL89/WQwGCUlJWKxeHFxMfgpAACbzUYP/1gs5vV6XS7XZ+Kez+dXVlba7XYejzcyMvLRRx9Fo1EOh8Nms+m65VqttrCwUC6Xx2Ixn88HAOBwOBwOh17sGQyGw+HYvn374OCglC2o4QtDcCpMJBgYJtTpxCweDMGFhYU2my27OIpvxczMTGPrg/4lV0SNASkXIBAgKcDESXLR516+096CMXCVUgUoSiQUWczmzTWbZTLZqhjh3G73tYaP3rl6YdA3HYPSAILRFPCE/CRFHjpwSCAQbIRnPKPAMCyRSA4ePMjlcl9//fUbN25Eo9FYLLZjx47VktE4jm/ZsqWsrIyOTk4mkyRJrtyjQ6PRHDt2bGpqCoZhDpvjD/hZcQqDML1Ol06nU8nU6dOni4uL1+G0JBQKdTv75skwkLIB8ukTE7EAjwEoKsYEH9z5CIYRiIejBJSrMX5/yXfyyHG9XrdyGT03N3fpygeNg+0hDQMoRQCBQDzd6Zxg3rtlMZj27tmzoaE3+CqEQqFAIKAoKhQK0TFPBQUF2SVT43K5hw4dmpmZuXfv3jvvvKNSqRwOR3YBFjqdTqvVZjIZj8fj8/l4PJ7F8vXiD8Mwo9G4b9++qakpNsCKxcY4AgUTcRhCeFyhki3isbhyudxms6nV6rWWkqFQ6OOWB81DXYv8DDBKAYYAAIA0CqaWI67gnbYmoUTcPzhAAcDlcLQareP/sveewXFcZ97v6e7pnpzzYABMwgAY5JzBCAaIcSGKFGVLJcvXYX2v7157t/xty7X7cXerbL/r67VsSxYpUaQoiUEScxBBMIAgchjkPAiDSZgcerrvhyPj6rUSOABJUJpflVAQgek5Peju85znPM//n5ubkpKyLvNoMBi839Z64oPT1x62uMkAjSJ0hOwYs7q9y88fbJLJZMmc9FMBx3GLxZKampqamnrmzBmXy2Wz2cxm8xef0QwGQ6VSqVSqurq6gYGBTz/9tLm5ube39+7du2lpadXV1WVlZSaTSSaTSR7RlAvHcYPBYDAYPv+PcA8Kx3Gapi0WS1NT08LCgsfj8Xg8sCV/xe93fn6+ubkZtjDCXgipVFpTUyMWixUKhd1uv3jxot/vh/p9cF9ILBar1ernnntuenqaw+FwOByn0+Fa9nAIjs6Y7nQ6cRx/6aWXdDrd4zM0XmF+YaFrqH+ZTwMB87OpGkWAjANsBGCgC7Hlt868x+AQNI5yMWaBKTtKkpvr6tdFLaR/oP/Umfc7lkYjOgEtlgKajnpCt0e7Rdf4ujR9RUV5sq7jmYYgiLq6OqlUymKxbt265fF43G73wYMH5XL5ujxv+Xw+dBdeWFiYmJhAUbS4uHiN1wyO41qt9uc///mtW7cuX748PDyMYRhJkuFgqLKyctu2bRUVFetYlPI1IAhAERRBEIAAAL8CAGgAUARgKI0iQMKOawS0UUL6IiMLy6+/+xYDQX/w6g8Ea3P2iMfjCwsLY9NTXhECNAIAz5SN0xr+uN9x6erlmpqaJ1Nj9vhITvaPl5WOn/n5+Q8//NDr9f7sZz9LS0tL4OaEIezOnTvn5+dhd5RQKMzKykp4VNFotKOj49atW3q9/vvf/75AIPjGEDM1NfXw4cP/8R//IRaKMjPM/oB/3rFIMIi0DG3QH3S5XAcPHiwuLn4CsnFer/dhb/dUxA00XEBgn92cch5whynS7WNSJz/+8IML51E2zqCRTL3plSPf29e4Z12SXna7/f1zH15ovWEX0lSKBDAQEIrdGx7EL2G6NF19ff0anztJ1gKPx9uxY0d2djaGYRqNJh6PT01NrRRg/N0vM5nM/Px8i8Vy6NChhw8f3rhx4969e++8886HH35oMBhqa2urqqqysrJg0jdh6eLPe7uYzWaDwbBSSQ+LqWDVNQCgsLDwl7/85eLiosvlcrvdLpcrEomoVCr41gsLCx988IHVasUwDG4oKRSKurq6ffv2lZaW/vSnP3333XcvXLiw7F1ms9gAAI/bvWXLloaGhtLS0ie0roO9EAjy2TxNg89mawwBKEozEKDkRA1SRMnzuULd9pn//F+/YbNYu3fuWmMuiiTJmZnZMdtM2MgDYvZngYKAFVHFOm3Dt++0FBcXJWPoZx0Wi2U2m3/xi1+o1erm5ua33357aWlp//79Fotl7X9cOC+QJHnz5s2LFy/CJmCTybTG0g5Y3LVr166CggKn0xkOh6GYplKplMvlXC73cQTQUP4CNurAlTOPy8sxZ3XZRiadfsAiPlvf+iLAGwExCnjDtJoPxCyAozSfGaaRic754aFhl8PJX1uIT5JkMBgkAQUIFDBQEKcBAAABNMEI06TT5aKo+Pqc89MjGUM/CeBkOTs7e+vWLQ6H85Of/OSLPUyrpLKy0u129/b2njp1CrqVJmy9Q1GU3+9vb28fHBzU6XRbtmz5xkMxmUyj0fhP//RPN2/evHbt2tDQEIZhZIycm54tKyt76aWXNm/eLBaLn8DCOh6PhyNhEqU+y0BDUATgCGCgNAML80BIzgEmKeKP9i7N/7/H/kxGYt//3vfW6FRE0/TiwsLA4NACMwr0coCiAAEAx2IaznBo/qMLnxQWFiZj6KcIrOvQ6/VQGWN4ePidd96ZnZ3dtm3b5s2bFQrF56PJlcZBjUazadMmi8Wyf//+3t7ezs7OwcHBs2fPXrt2DZZS5ObmZmdnw5dDVn+Rf/434Wu/6jcVCgWPx4tGo7FYDH4lSZLD4cCKyfT09J/+9KfT09Mwwna73YFAAEafDAaDyWTabLa5uTkejycSiVQqVWZmZn5+Plyx0zQN2xnXtwQZrgFgTA/Hn2vKHG6zuX0RgGMAQQBNA08IBGIgSoIQSWsFQMCkcTQuYvppYG0fGR8b93q9Uql0LSMJhUKhUIhCAWAyAIp8JkuCIjSBef1Bj8f1JGWCkjw+eDxeTk7Oyy+/LBQKP/roo1OnTi0vLzc1NVVXV6+Xz59CoYhEIlCU9pVXXvm7PaUEIAhCrVar1WqKomKxGIqij9vVy+v1LiwsBINBjUYjkUgIghBLJPXVtQ8622cG26goTfNwEKfAnBfY/QABIBoHAibgMwFFAwyleDiF0x7fsmfZk0qtqZwDx3Eul4shCIjGAUl9dm8iAInGuShLIZc/gc2xx00yhn4SwMaImpqasbGxa9euZWVl7d69W5aQdQiHwykpKXnttddef/31CxcuKJXKffv20TSdwD3JZrPr6uo6OjpaWlrefvvt1NTUzMzMr08hw7gEinTm5OQsLi5GIhEEQWBjU2pqqlgsfkx3BZT7WJG/4HK5Zp2hc3Z4xh0CHALA9wxEgS8GSBr4Q7ScB2RcwMFpBhpA0MH+6b7ePqfTucYYOhaLeX2+SDwGmBggsL8trBHAxv3B6Oy8jSRjaz/ZJGsBQZCVnDGGYfF4/M6dO6Ojozabbe/evUaj8YtZT5iolkgkZrM5JyenvLx8dHTUarUODg729fV1dXUplcrU1FSj0ZiRkWE0Go1G43rZ836erzfqk8vlO3fuDAQCfr/f7/f7fD6fzyeRSKACCZfLtVgsMLAOh8Pz8/Ner1coFEIlH1hLTdO0VqtdrwJEp9Npt9tpmtZoNCKRCEVRnU63qaL2bmurd2Ip7o8BNgOEY8C2DBwBQANA00DIBmwc0AAQjDifCgHS5XX7fL41xtBMJpPNZgEKgCgJKBr8rfkBjdIiJl8ikaLJLoVvEWaz+ciRI2Kx+Pjx4xcvXnS5XNFotKysbO1OziiKVlRU2Gy2qamp06dPq9Xqpqam9RJ9Q1H0sdpw0jQdjUbb2tq6urumZmcCkZBWrs7OzCoqLtLpdGXFpS88d4DLZA3bZ2w2h8/rw91hJsJAhVw/SsaFbJpDAKgxEKcBGUcwlIEzkLVJ0KEoqlFrzOlGa/esf9IJZDzAQEGIpGeXUzXqbZu3cjnPvMML9utf//rxHb2rq8vhcFRWVn5Ng853BCaTKRAIgsHggwcP/H6/VqtNTU1NTBAN5qVmZmYGBwe9Xq/ZbBYIBAns1WIYJhQKCYKYnp6+d+8eh8PRarWriexxHJdIJAaDISsry2w25+Xl5ebmwoz4Y2rcgQK9drsdBvEoiqIoGo1ERweHpqenaRQBsTgIRMGsByz4QDAGKABShEDJAzgKMIRmIOScRy9QlpaUrLGcg6boubm5G3eaZ0kXkHA+26tGEOCLiiKMbHnqjm0Nj2oAmQBWq3VmZqaysjIB7ZG2tjafz1dVVfV0PfaeDARBCASCaDTa19fX09Pj9XrZbDbs2PvSWw86zKelpRUWFubn5+v1erlcjiCI0+m0Wq2dnZ39/f0jIyOTk5Ozs7N2uz0QCMTjcagD/bjPBUVRgiB4PJ5EIlGpVGlpaRkZGfC+o2kaZtOzsrL0er1CoWCxWMFgUKFQZGRkqNXqwcHBixcvXrt2zWazLS0thcNhHMeZTGYCzx+4f3WrufnGjRu37jZ3dHfNTk77/X6hUCiVSkUCIRkMMQIk7QtHlnyUbZm5FOEgBM7lxng40AsBlwloGgAECcfoCfeW8uqSwuI13jIYhjmWHAPW/pn5ORpQAEFBLA5cQXwuUGPKb9q9T6d/EuXgN2/e3Lp1a8Iv7+/vt9lsFRUVT0BQ6FmHz+enp6drtVqXy9XV1dXf3y8QCKAk8xpXtrAJgcVidXd3T09Pi0QinU6H4/jGbxb3+Xz3H7T+9k+/f//GJw+mrb32ifudD4cGB0GcMhmMAoEgOzs725ypFEjlTH66WJWbaSnIzdOmaGdc9ggHAQQGKACCUdQZEnjpHeV127dtX/uyBGNgLIIZWVr2LrrjoRjqi4oDaCZXtbtyy/P/0ATX3uty+l9Dd3e33W6vrq5e++l8kWQe+gmBoqjRaNyzZ4/Vam1vb79+/brRaIRh9KMeiiCItLS0F1980W633717NyUl5bXXXku4OKS6utrhcFit1nfeeUev16enp6++mpkgiMdbZUjTZDw+NTXV398/Pjmx7PcZUtMzTBmmDJNMJqupqh4aHAx4vHPOZScVCAdDmN2PxwDC5YRRihKxAI8AcA+XRgAKKJSmaGqNu7oMnKFSqTQyBWtoPLzgA0I2YCAgRoFFn4qfWl1WnbRO3VBwudySkhK4x/LRRx998skni4uLr7766qZNm74xqJJKpbW1tRUVFX6/f3h4uL+/v6+vb2JiYmRk5OHDh1CXQ6PRGAwGvV6v0WjEYjGHw+FyuWw2m8ViPQGF8hVg6J+VlZWRkQFLLCKRyPz8PEEQULvA6/WOj49/+umnV65cUSgURqMxJyenrKwsPz//UecVp9N5+87t373xx+H5qSgB4gBwwiBfZ/7Biy/vaGjQqNX/58/+r5quztaHbdahQa/Px2WxmUzm3NJi81RfJBADzCgAAIRIzBWRcsVp6tR18ZjIzs4+svf5+JlTQ65Fnz8IACKM4yZlxo7qzSWlJViyzffbBRTr2LJlC5fL/eCDD65evfrHP/7R4/Hs2LFDrVavFBcldmSopjc/P3/z5s07d+5kZ2fn5uZu/KoD29zcX48fuzPR55RSlIQNMBQEGb2LNn7zTbMho76+XigUFuQV6NP1wVAQVpWQJDk8OjI7Nz/mtfvocIxAGAFSFsJrSutra2t5/HWIOAUCwab6eqFAqL91vXOgJxAK6lPSttZuqqmokn+ulgMm0UmSBADAlMSzIqSTfLI8ORAEyczM/MEPfhCLxRYXF2dmZhIOfBkMRlFRUWNjI2wzysrK2rFjR2JTEUEQpaWlr7322rFjx5aWlhwOR8KjWndC4fDw8NDvXv/D3c42PxWhCBQNxC1afdPeA4cPvSAWi/+P135YUVFx687trt6eRbudqcK5HE6Mpu5PDvgpQEdJgCCApJDlCB5FlBK5Uqlae75QqVTu37XH5/M/mBkM+ikKR5hhIIlxqjLyd+5sSG65bChgXYdWq21qakpNTT1//rzD4fD7/QCAeDxOkiSDwfiq2RHDMAzDCILgcrkCgcBisezevdvpdI6Pj1ut1rGxMZvN1tnZ2dHRwWAwuFwuDKlTUlJSUlI0Go1SqRSJRARBYH8D7p+sfLO+ma2V2m74v3DMNE3DeCInJwdBEJPJNDAwMDEx8fDhwzt37kxMTKjVah6PFwqFotEohmFQlPprBkbT9NDw8B//+pcez5RHidBCFkDBsiccmRtSX7+iUatLS0ulUmlVZVWOJScYDMbjcQzDwpHI7Tsttr8uzDmDwViYwgDhjanjnIad2/LzctdFkVetVu9pbJRIxFdv3xyaHKVpkG3MaKjfWllWzv9c4z+046EoCsqerCXYSvJ0QRBEIBDU1tYqFAqlUnns2LHf/e53CwsLR48eTU9PX8uflcFgmM3mF198USAQpKSkwJ2odRz544AkyTmbrb2j3SGN0hoxYGIAIICDB0iqe2n88s3refn5QqGQYBIy+f+21axSqnCU8fG1S81t92an53Xq1O1b6/Y37s3Ly2Mx1+HGhKud2tqazEyz2+2Ok3Eul6NQKgUCwec/1WgkMjo6OjkxGafimVlZRqMxGUMn+RLYbHZhYeGPf/xj2GIMew0TuFZg2mnLli02m+3NN988c+aMUqmsr69PYK2MIIhGo9mzZ49SqTSZTBKJBPYJbQTjvYWFhb++ffx6X+scK0DCrmE/6XeNca5f1ev0FeXlUpmsvKxcl67b53aHIxEMw2iaHp8cX/r9byfc7hAdJFkY6o8JfaAoq7imuka4HjI6Aj5/29atPC5X33y9a2TAHwqmKtX1pVWbq+vT0tJWghjYxbXSdLXuMVOS1YMgiFwu37p1q9lsdjgcaWlpMDU7NTWVnp6+mq1zKAgtlUrT09Ozs7Nra2uXl5c9Ho/dbh8fHx8dHZ2cnJyYmGhvbw+HwwwGg8/n83g8oVCoUqnUarVKpYKd+FKpFErmPYG11ueXi1KptLKyMicnx+12Ly0tTU1N9fb2pqSkwG2T5ubmwcFB2Fj59Y4PoVBocmK8rbPTWyihlWyAMwACaCbmifmarW05bVk5OTlMJhMqWH/+hVKJhM/jXrh59V53uz8UsOgydtZs2bdnr8GwPlYOOI5rU7WNol1FhYVerxfQQCQSqtTqvxtGKBQaHhqyzdpYbHZuXq5arV77Wyd5irBYLIvFwuFwWCwW7DJ0Op1NTU2lpaVrKT6G+8ZNTU0cDkelUtE0HQwGn+TO0qMSi8X8AX8kHqPZDMDE6eikcwAAIABJREFUAA0A/I/NWKaCc/Nz0UjkS1/IF/DrN9UrlIq68iqPxyOVSTPNmetleL4CTGRotdov/ogkyf6B/stXrlhHh+eWlxAA1EJ5SX7hvj17NRrNxheK3ejj+/YhFothsIsgCHQ4E4vFCVwoCILo9fp9+/bZbLZbt26dOXNGrVYnJnXHZDJTU1MVCgWO46FQaGlpCdZJP92Yj6Iom812q7l5hvBSOhHgEQAgQMRaRrwPbYPXbl43Z2QIBAIul6vX6z/vwZZhMkVCkWt3m9uGehZmHWqhrCqvcN/OxprqmnV5LqAYptFoGhoaTCbTzOxMJBwRi8SmDJNK9b8luePxuM1mm5udJcl4Wnq6VqvFGBt9N/DbDZvNzsjIyMjIAADMzc3dvHnzxo0bZrO5sbHRYrGsPpKD8bRKpQIA0DTtcDgWFhbsdjss2bfb7Q6Hw+l0ulwuqAA9MDAAAMAwjM/nQ29CHo8Hv34eWAcCa7XhN+urHQvbGKAtYkFBQUVFBYIg0HhlcnISertcv369pKSkpKQkOzv7S2+WcDjsD/hjNElzcYBjgKIBAgCKUjxi0bE8b1+E6h9fRKVSNe5qTE9NbxjdFI5EUjSa7GyL0WBA1jUo4fH5GV+xOAlHwvfu3799u2VkamzR7+bgzDRFSm155Y4dO/h8/sbfqU/yVTAYDIPBcPToUaFQ+MEHH9y8eTMYDMKWj79Ldj4SLBbLYDCgKLq4uNjb2+t0OmtqamChyPqOf11gMBhsFpvAcSQaoaMUwFEAAKABGqUFGFMhk+P4V1ZdslisvLy8nJwcmqYRFEFRFEOf0DnSFDU9Pf3J5Ut/eu+4m4iFWQBFUXSsp2vcSlLxQ//QlKJJeTIjSZhkDP2kgdu4AIDBwcG7d+9GIpGDBw/C+TiBQ1kslqNHj05OTt6+fVuv10ulUqlUmthamclkRiKR+/fv3759u6ysrKKiIjHlkPUiGol6lj3+UIASMwCHABT4bGHNJxyegHVkKBgKfukLpVLpkcOHTUZjeUfH4uKCSq0uKSkpyC9Y334CHo+Xl5eXl5f3xR/RND1rm71//35Pf9/k/GyciqertKUFRXV1dTKZbMNmMr47wP2fSCQyOzs7MDBgs9l2796dl5f3d6ugVSKVSiUSSXZ2NixEDoVCULBiaWnJ6XQ6HA6oQ7e8vBwKhcLh8PLycjgcjkajUOWKyWTCvgIWi8XhcHg8HoyzITweD1ZXM5lM9t+AXipsNjvhJA2LxYIO2PBqNJvNxcXFPT09Dx48sFqtDx8+3LRpU1VVVUpKyt81PBAEwWaxcZwBInEQoz8TmqUAFqUkbJ5YKEG/evYViUSVlZXl5eUryrXrG0B/DdFodGhw6MTpk5daby2z4jEmgtEoMdA+OD2GYuiOhh3PutHDdxwURdPS0g4fPiyTyd5+++3bt28vLi7SNF1WVpawVNTKTuz09PTp06etVms8Ht++ffvGfIbjOK5UKrVq7Yx3JOgJAj6bRgESpQhPVMdRlxWX8r+2uBkWmz2x0a4QI8mH7e03W1umKA8wKGg2AyAIWA4PLTjeOvl2SUGhSqnamIuWFZIx9FNjcXHxxo0bU1NTPB5v586diRVdMZnM3NzcAwcOvPPOOxcvXtRqtQ0NDQm3dUej0YmJiTNnzlitViaTuWnTpqfow4lhKIETDBwHVAyQNMD/Ji1J0iwUFwmEDOwrr14Wi1VeXl5UVERRFIqhOI7jjCd1IjSw2+0XLl36w7E/L5L+ABFHMZTRde/Ww7se3/KexueUinVwZUuyFhAEUavVe/fujcViZ86cOXPmzNDQ0OHDhxsaGjQazSM9sr9Y8sRisWAvP/U34vF4PB6PRqMulwsG1m63+/Ox9fLystvt9vl80GQYtr3Cb2BZiEgkEv8NuVyuVCpVKpVCoYD7RbAFB8dx+P1qJvi/G3ZNTU1ubu7ExMTVq1ebm5uvX78+NjYGhQ5wHI/H4ysrfy6Xq1Sp1VJlaDkUwRHAJWgEoIEYyx3LTcnMs1iYxFfeaLBie/Wf7TqyvLx8+07Lvb7OWU4E6CUARwAAgaVg29ww8c7x0pLSZAz9LUAsFu/bt0+j0bzzzjsXLlz413/915/85Cf79u1bozid0WjMz8+/c+fOf/7nfzIYjD179mxMRSOtVvujV1/z/f63PQPjMUmIZKKs5agkRhRvsuzYnnhU8FiJxWKdvd2982N0Kh+wGICBAhoAETscImf65ubm5gOBwAa/N5Mx9FPDYrGUlJT09/e/8cYbsMU4sUoDmUy2Y8eOsbGxM2fOnD9/XqfTFRUVJTZXsVis3NzcsrKy1tbWS5cupaSkZGdnJ3CcdQEnCJlcLpfIxoOTEV8Y4TNpBACSxr0xLSEqyi3g8b6yohR2kj1WMc6vIk7FO7o6r9251e+ZjWdKaS4TIAjwhHqctjfffdtsypDL1sErMckawTBMJpMdOnQoNzf3/fffP3/+/H//93/Pzc1BW+w1VlB8VbAolUoNBgNJkrFYDHY0rnyFvW4+nw96gEOTQlgQAguvJycnu7q6/H4/TdMwaGYymUKhUKPRaLXa9PR0vV5vMBh0Ol0CJkcEQcjlcqFQaDQa9+/ff+/evaWlJVjO4XA4SJIUi8VQCA9BkOysrJ+8/Npv3/if6UVHXMoGCM30xKQUd9PB6qrKyifgUZoAHo/nXnvbFOkCKVzAwj6zUZRx/X7P+MTEwuKiRqNJGhk+68DHfkFBAQBAJpOdO3fu7bffdjgcL7zwwhd3VFaPSCSqr6+32+3Hjx8/ffo0k8ncvXv3BrxaBAJBXW0tgiB3Ox4Mzox5g4GMnLTCzNzqikqVUrExC4tpmo5EwpE4CQjmZ86mAAAUAAYSpyiSjMGGoo3MRvxYvyPI5fLt27fPzc298cYbZ8+elUql5eXliU3eaWlpR44cmZqaunv3rlKpTE9P//rGoK8Cx/GCgoKjR49OTExcu3ZNp9Op1erVeIA/JrQpKd8//KLrzT8O9M5Qcg5gMVB3mBMAuSWlu3btkkjET2VUXw9Jkh2dXQ/H+kktF4hYgMAAAIDAg5TP2j88NTlVWFCY1O7YCMBq4Pz8fIFAoNPpJiYmsrOzBQIBSZIwAbzul/2K0MdX/UIsFotEIuFwGH6FtR/wazAYDIVCfr8fJq1hkA1z2AsLC62trWw2WygUikQiuVyu1WrT0tL0ej20PVpxGv/64REEIZVKYdo7EAhotdp4PH716tXbt2+npqZu2bKloKCAw+EolcrnGhvZbHZrb+fowhRFUVlFhmJL3qbaeolE8sTKMx6JeDweCAeiKP3/25rSADAQGkXiZPyZmKqTrBIej1dSUiISiRgMxuXLl8+dOxcKhfbt22c2mxMr50NR1GQy7d27d3Jysqen5/z58yqVqqCgYF30ZNYRHMdVKtWunTszMjLGxsf8fn96WlqGKWMjN85iGKZWqpU8kcfjBgL2ZwFpNI6G4lw2m8cTPJVE2CORjKGfJgaDYffu3V1dXe3t7VASK7GWBYIgsrOzDx065PV679279/HHH+/duzexDSyoHNLU1HT8+PEPP/xQoVDs3r37acV8IpFox44dNE23dDwYs894o0FdpjrXYK6vrtXrdBvz7qIoyuPzLIf9QMkCCAAUDQAADEATaCwej4TDUAIzyUYA6tvk5eXJ5fLp6Wmo8Tw+Pj4wMMBgMAoKCpRK5ZPM3+A4juP418z0JEnCXPVKotrhcEBJSmgADu0VWSyWQCCA+enU1FTN3xAKhauJpFfa58PhMABgcnKys7NzcnKyoaGhrKxMq9Xq9fqDQqHFYpmYnKAoymgwZJozJRLJhlWeYbFYWpVGNDNg90cBl/mZ+Vo4xojRPB6Xy+Fu8JrLJI8Ei8XKzs7++c9/LhKJ3nnnnf/5n/8JhUIHDhwoLCxMbJ+EzWbn5OT86Ec/+s1vfjM+Pt7W1paVlbXRYmgIj8cryM8vyM9/2gNZFQwGXlRYWNzXPdF6jeQyKS4DIAhwBnlekJedk5amZbM34of8eZIx9NOEy+Xm5+cfOXLkvffeg7K1CTuAcLncTZs2zc7OfvDBB6dPn1apVHV1dYnFvhKJpKGhYXp6+u7du5OTk9FoNLEhrR04nTc1NVlycqxDg8veZaPekJNtSU9Pf4qF2l8PhmEyiVTKE7n9XkTIouEdFqPQCMVmEhwOd8OO/LuMSqVa6esdHBx84403nE7nSy+9VFdXl56e/jjcrRKDwWDAqujPC9EAACiKmp+fn5iYGB0dHRoaGh4eHhsbGxgYiEajHA7HaDQWFxcXFxdnZmbKZDKoZrOaeBfH8YaGhlgsdurUqUuXLvX19R05cmTXrl2wfbm6qqq6quqxnet6IhKJqkrL23u7HfOTFBMHBAoAAAt+cZyZn5OrVCqTd+W3DBRFBQLBkSNHlErln//85zNnziwtLR0+fLi+vp7FYiXWelReXv7SSy85HI6SkpKNU7MUi8VisdiKPPyGXcd+KTjOKCkqnrXNTkxNzi+4vVgYQ1FmEClIz/zZD39iNJnA2szGnwDJGPopIxaLjx49CvNPn7fteVQQBFGpVA0NDZOTk++9997ly5fVanVBQUFi+9GpqalHjhwxmUwpKSlP92GBoqhEIqmuqqqsqAB/64XayI8JDMVyLTkFPaapzua4kENzAYIg9HKItRxLV6dqUjRJI8MNTkpKSl5e3gcffPCb3/ympaVl79699fX1Eonkqas9fg0IgiiVSolEkp+fDwtCPB7P2NhYX19ff3//0NDQ2bNnz507J5fLCwsLq6qqioqKVCoVm83++rJO6I/Q1NRksVjOnDlz7ty5119/3Waz/eIXv5DJZM9Q7lYgENTV1vVbrf7rgaVJf4igCBplB7EtJeX/+KN/FG/IqrCNz0o1PxS6iUaj4XAYRVGRSMRms+FFGI/HWSwWbHVFEARq0TyZvR0URWUy2ebNm/l8/l//+tfe3l6/3+/1ejdt2pRABz9sq62trY1Go3w+n6Iot9uNYdjT6nijKAruSs3MzNjtdgRBJBKJTqfj8XirbCzeIAiFwp3bd6hVqr6Bgan5WZqmDdr0wrz8woJCHnejJC++hmQM/ZRBUZTJZO7ZswdBEC6XCw0aoCVHAkfLzMxsamoaHBy8fPmyXC5P2GOJyWRmZWVBxxAcx8PhMPT0SmBICQCfyAAA+MyF3zwrEzbGwMpLy2ZtswMDVvuwz8+kUAaGeSJZ8tSfvfojS45lw8ZhSSBGo/H555/PyMi4cOHCyMjIH/7wh87OzhdeeCE3N3cDNhJBVrJQKytelUql0Whyc3Oh0N7Y2Fh/f//IyEhzc3N3dzdcJ0DXFaFQ+FXF3wiC0DTNZDIVCkVOTs7S0tLQ0FAgEIBtkVCi7pmYrVEUValUr7z0/YK8/IHhwXnnEofJytQbi/ILc3IsTGIjVoVtfCYnJ9vb2ycnJ10ul8/ng/uo6enphw4dys/Ph5Jww8PDKIqy2Wwo85KWllZQUGCxWJ7MCFEUVSqVDQ0NHA7nxIkTt2/fnpub8/l8zz33nFKZiD4S1HsNhUL379/v6OjQ6/UHDhwAq2g2WHeWl5cfPHjQ0tLi9nhYLBYCQDQaxXG8rq6uoqIiMbXcpwKKomq1Wi6X5+fmu5wumqYUSuXGFBD8UpIx9FMGZlUlEkk8Hp+enj5//nxaWlpRUZFOp0vgaEwm02KxvPzyy7///e+bm5s1Gs3Ro0dhQ/2jjorFYrFYrEAg0NbW1tLSUldXl5+f/7hzqBRFBYPB+fl5h8MBABCJRFqtlsPhPFsmfxKJpGFbA5/H7x8enFq0URSVplQXWfJrqmvEomTGa6MjEAgKCgoyMzN1Ol1zc3Nzc3Nra2tDQ8MzdAUCAGA6UCQSwaoPt9s9PT09NjZmtVp7enr6+vra29ubm5uLi4tramrKy8ulUumXHsdut9+9e7erqysYDAoEArlcPjM78/rrr9fV1SkUCiix92TPLEEInMjMzExPTy+fK/W4PThBaLVakXgjCn5tNGiaht5bCwsLDoeDIIiKigqBQDA1NfXJJ590dHQEg0G4puJyuZFIxO/3AwCCweDo6Ghra6vf70cQBCqg5+bmQmdBn8/34MGDpaUl2d+Qy+WPqcUFRpYwHf7JJ58cO3YsGo0ePHgwsTAaABCLxWw225kzZ8RisVKpLCkpeZLNOdDX6fbt22fPnp2ZmfEH/DjBRBAQi8YIglhcXPT7/du3b0/47J4KDAZDrVZv5PbHryIZQ28UaJpeXl6+ePEin8+PRCJarRZ6GT7qcaRS6e7duwcHB69cuXL27Nn8/PysrKyECzrj8fjExMTJkydnZmaYTGZhYeHjWx36fL6hoaHu7u6FxUWSJFEEQVEUKidkZ2dv5I6lvwPDMINer01JKZ+enp+bj8dJrVabmpa2MZsgk3wpLBarvr7eYrEUFBQMDg7qdDocx6enpycnJ2UymU6n25gasV8FrKIuKCigKKqjo6O5ufnu3bsDAwNWq/XBgwc7d+6srq42m82fj6Tj8fji4uKlS5euXLkyPT0djcV4fD5NUdFo9ObNm+Pj40KhsKioaPfu3SqV6llJGrFYLL3B8LRH8cwQCAScTufc3NzIyIjVah0aGlpaWjKZTBkZGQKBQCwW5+bmQi0XgUDA4/G4XK5CoTAYDACAlJSU733ve1u2bPH7/YFAwOfzeb1emUwGrzGv13vx4sVbt25BfUadTpeVlWU2m9PT09co5/ylYBhWUFDAZrMVCsWVK1fefvttv99/8ODBtLS0BErh2Wx2SUlJbm5uS0vL73//+3/+53+2WCxP7PEei8VaWlouXLjgdnuMaTrn6IR9dBIAoEzVpGRm2d2umzdv0jT94osvPiubt880yRh6o8BgMCQSicFguHLlCkEQubm5WVlZCdSNrQjf2u32Tz/99Pjx4z/+8Y+zs7MTC0A5HI5KpRIKhefPn1er1ampqY/jAQcA8Pv9nZ2dp0+ffvDgQSQalUqlCIp4PJ5IKFxeXn7w4MH6+voNrrX+dxAEYTKZTCbT0x5IksQRi8Xbtm3btGkTh8OJx+MdHR3Hjh2TSqVbt27Ny8tTq9UikejZmqgQBMnLyzObzXv37oWp6M7OzmPHjt27d2/Lli2wh5LP56Mo6vV6r1y5cuXq1Xg8nq03zlmHXX2jBJup1qWrLBlWq/X27dutra1ut3v//v16vX5jCtAmeVQ+L/M3PT195cqVjz/+2OFwhEIhLpeblpZmNpthvJiZmalWq6PRKCz5gxVBDAYDClaIxeKKigqSJD+vgA49gwAAbDY7Nzd3eXl5enq6t7e3ra0NRdHq6uqmpqadO3fC6mqKolYOu/bzgu/I5/PZbPaHH3741ltvhcPhw4cPJ3DpMhgMnU63b98+p9PZ0tJiNBq5XK7ZbF77IFcDVN9aWFzUp6UP3GxRzbo3BQEAYC443+t0ZtVVezyemzdv7tmzJ2li/wTAfv3rXz++o3d1dTkcjsrKyqQg7mpgMpl6vR4+U5xOZ05ODpzMEjiURCKhKGp2dhZWdGg0msQCUBRFORyOSCQaGBiw2+04jmdnZ697ZQVJknfu3Dlz5szY2FimyYSHYo7RifCSWyESF5WXLTkcc3NzKIqazeZnJd31uLFarTMzM5WVlQm4T7W1tfl8vqqqqmcrk/pUQFEUx3Emk4miKEmS8/PzXV1dHR0dd+7cmZycJElSKBRyOJzEtoyeCrBymslkSiSStLS0nJycjIwMv98/NDTU0dExOjrK4XDEYjGbzZ6cnDx58iRFxVkMhu1BZ8qUO88HVMF4wOMddS9lWLKXvV6r1Wqz2TgcDpQFfNon95S5efPm1q1bE355f3+/zWarqKh4upZykUjE5/NRFIWi6Pz8/IMHD3p6eoqLiw8cOPDCCy80NjZWVFQoFAoMw6AOo1Ao5PP5XC4XmtITBAGf0iiKrjjYc7lcPp8PfxPG3ziOa7Xa4uLi6urqiooKk8mEYZhWq83KytJqtXNzc5cvX25paeFyuSsC52sHRVGhUKjVank8Xm9vb2trazAYtFgsQqHwkY4DbyL4IQwPD/f393O5XL1e/wQEfCKRSHd3d1tb2+zMLLngkFtnLQFgoJlSGuNG47Fl/zJGecgwk8XSarVSqXRjCvA9Ybq7u+12e3V19eP4AyVj6A0EhmEikYim6fHx8a6uLoVCkZqamthfHR6KwWA0Nze7XC6pVJqVlZWYogXc/1paWhoYGIDuZdABOIFRfRU+n+/06dMDAwNarXa6q483Np/piKb5KRAITyw75KnaZa93cXGxrq5uI2sjPEmSMfSTB0EQoVBoMpk0Gs3S0lJHRwcsh0hPTxeJRM9coQ7seYB1KdnZ2SqVyu12f/rpp319fV6vl8PhTExMdHV2Li0tIVOLqqGF3AiWTjMlcZQIRQPLvhCXIBkok8Xy+XwTExNsNjstLe07/px/pmNomqa9Xm97e/uHH354+/btYDCo0Wh4PJ5YLM7Jydm5c2dtbW1OTg5UGV97dhNFUS6XK5PJUlJS9Hq9yWTKzMzMzc3V6/UcDmdkZOTixYsff/yx1WodGRlxuVwEQXC53LUvVqEkvEqlEggEc3Nz/f39LpdLoVDA6fKRDkUQhFgsxnF8ampKoVBkZWVJJJK1jG01hEKhtra2paWladvsfPdAXZiVRjNxgGIAYQNMALA2n52U8E0ZGQRBGAyGjaPL+RR5rDF0cvdtAwFnNSjz/Oabb169erWoqCjhzgCNRrN58+aRkZFz586dO3dOp9OVl5cncBwMw9Rq9ZEjR+bn57u7u2/evKlSqdYx/IrFYmNjY3Nzc8vLXiGNcqzTRj9tBBwAaJszHHC5wyKJlwA0TVutVovF8mxVdCT51gClssRicUZGhsVigfm5SCQChXQcDsfc3ByXy1WpVM+WfCGHw8nJyVEqlXq93mg0Njc3f/TRR1arVSKR4AQx71iKDy9UUhwFIBAA2ABLAywkGj3Tb5XkZVZUVHg8ntHR0cuXL+v1+l27dn1NIBKLxWC7MDQP12iSOo8bheXl5bGxsd7e3hs3bgwNDcGa5ng8LpPJqqqqKioqoFTUY8pfQF1XWCeNoihN0zwez2Qyzc3NzczMjI6O3r9/v7i4eNu2bWVlZWu/ZjAMS0lJOXDgAI7j77///tmzZzEMO3jwYF5e3iOthFEU1Wq1u3btQlEUrjfWOLBVAktiUBSNhEMEzccACgCgAUABwgRoLBwlAMBxPBKJJN03nwDJGHrDAT3AaZqOx+NrvC1TUlK+//3vT01NDQ4Onjp1SqPRqNXqBPbFYA1lU1OTTqdTqVTrq/AVjUZHR0fZbDYZJ7tb7h8IsYwAZwKUBiANsJg09nFXXywz1WAywZxfMoZO8hTBMEwul2/atKmwsHBkZGRubs5kMjGZzL6+vvPnz+M4bjKZ9Hq9XC6XSCQCgeBZMe+QSqU1NTVQjeTy5csdHR0sFksulweDQSoSZQLeSvTEAAgLIJFwBLbSZ2VlZWRkeL1eqBP8xSPTNO33+xcWFoaHh2dmZmCdAIfL0ag06bp0g8EgEomSNVpPC5qmI5FIV1fXiRMnrl+/HggESktL9+7d29DQAF0tn0yZ++fVSxEEyczM1Ov1+/bta21tvXr16r179x4+fOhwOEwmE5T+AACsRQUZwzClUrl//34Oh/Nf//Vfb7/9diwW4/P5JpPpkZYKCIIYDIYf/vCHUAUyEAgAANhs9uO7nqF3TCQSAXFKKlc4HZQkRvIBAwAQAtQCGuPLxFGA+v1+iUSymocPTdMkSQZDoUg4TFEUA2MQLILD5iTbG1ZJ8mPacGAYlpmZqdFoaJrm8/nLy8tw+ykxmWeTybR3716v13v79m2LxdLY2KjRaBIYFYqidXV1JSUlfD6fwWD4fD4Mw9YlGw2Fk3AcR3GG3+flUCwGQODyGQMoHzCiQQ8CECi0F4/H1/6OSZKsBQRBcByHOel4PI7jeDweX1hYaG5unpycZDAYBoOhrKyssrKyqKhIrVbjOE5RVDwe38guYnATTKvVfu973zObze+8887FixdnZ2dRHEO4bGcgLqBRJkApAAIg7sDiArEoHiND4XBlZWV+fj6GYdD7EIrUfv40o9HoyMjImTNnrly9yufx0tLSCIKYnZldXFo0Z5hffvnl6urq73gRyFMkGo02Nzf/5S9/6e/vz87OPnjwYGlpKaxuf4oLGxRFWSxWSkrKrl27ysrKpqenR0ZGlEolLFy+d+9eNBrNz8+HRj8J31NisXjz5s0cDud3v/vdhQsXfD7fr371K7Va/ajZaIIgSJIcGhpqaWnBcXz//v1QRvpxwGKx8vLyLl++zGKxzDu29F78lF6KZNMIDcAkGrvLielqq+0Br8vlKi8vX02+KRQK9fX3nTl37l7rfY/TpU5Jqa+t/YcDBzPNmRveInBDkKyH3ogwGAwul8vlckOh0N27d5eWllQqVQIJLZhFUKvVHo/n7t2709PTsGMjsWo2FovF5/MJgpifnx8eHvZ6vSqVau0xQSwWm5ycnJqampu1If5gWhQTUigOUABAFFBLSGxSgNNSoUQuMxgMmZmZq8nNUxQVI8loNBqLxeLxOEVRG9zd8FFJ1kNvBFAUhVM49PMrLi42mUywPvL+/fvd3d0ul0uv14vFYq/XOz4+Du1I4XW4Ya9GgiAUCkVGRgaO46Ojo06ni8SQCBUXUhgPYEFADWORNhGas73eE/CLJZKXjh6Vy+Wwt3JiYqK3txfa1MGjURQ1MDDw3nvvdXd1WXJyFpbsnZ0dVqsVxbEMUwZJkpMTkzRNw26Np3via+cZqocmSTIcDkejUQRBoFN0VlbWc889V19fD+vaN4IkPzQgE4lESqUyLS0tNTWVy+UGAoF33333/PnzfX19gUCAx+PxeLzEwn0EQdhstlwu5/P5i4uLPT09DodDpVJJpdJHnSLj8fi8niBtAAAgAElEQVTY2NjFixe7u7uhWt9jauaDXc4zMzOLi4s0AgixYC7i7w+5rYzogpwrK8+j2EwMxy0Wy65du77RGsLv9/f39f/hT3+8PHC/P7xgIwKLYY99YTHg9gr5/LUYJ28okvXQ31HC4XBXV9ef//xnDMNomq6urk7stpRIJI2NjYuLi++9997JkycVCkV+fv5aRnX27Nnbt28bDAaNRiOVSte46cNkMnNzc2/cuIFiWGnDtt4rt4ErbAEcGoBZEL2DB1Nrql2xyKJ9sbS0dDUL61gsNj4+funypYcP2z1Ol1ypqKis3LVzZ3p6+lrGmSTJ1yCTyQQCgVarLSwsnJqampiY8Pv9cOs5GAx2dHS88cYbPB5PLpevmEro9frU1FQWi0XTNE3TX4ytn1YQw+Vys7Oz9+zZMz09ffnKFYfXN4wzI2iQHw9SKIKq5dp8c5CMSWUyS3Y2dBSDHWktLS23bt0aHx9vbGxUq9UIgpAk+emnny4uLnK43L6xobG4y65BSZpBMoK4ayFdppqYmGhvb6+qqlKpVN+OCXvjEw6Hh4eHe3p6BAJBeXl5ZmYmrEWWyWQbsPQIRrpwVUaSJEVRMpksEolcu3ZtYGBgeHi4pqYmJycnMWc7KAXb2NhIUdSJEydOnTrFZrOhmPSjDlKpVEql0vb29vfff1+r1RYUFDymPmMOh1NbW+vz+VpbWzEc9WglETkPbo4xCYwKBQsKCnbs2MFms7/xATJns129df3j1k8dcgQYBICN+5bDfYtz7k/OSAUik9H0dCVingmSMfTGBcMwoVAoEAhaW1s/+ugjlUqVmZmZwDSDoqjBYHjuuecmJyd7eno++ugjkUiUkpKS2IzFYDA0Gk0oFLp+/brBYDhw4MAa/ZAYDEZKSopOp7PZbCSOsgrMVuvUqN2DIEhMzONZ8lEBlx1h6HQ6nU73jauIcCg8Nj721+PHbvS1DjtmA2RY6GKPuOY8vuXndjVmms0bcJJI8u2AIIjU1NTU1NTq6url5eWlpSWCICQSSTgcDgQC0OMNQRAmk8lms1UqVWNjI3QOmp2d7e3tjUajHA6HzWYzmUwWi6VQKJRKJZPJhNq6sHPxSZ5Lbm7ugQMHlpeX795pWQpHlpm0Uq1i4Sy+gM8msFgsWlFeXlNTsxK40DQdDAaHhoamp6e1Wq1QKGSxWC6Xq7Oz0x8IMDhEW781lM4FaglAUYczGF6yISTFjCNut7unp0ckEiVbDJ8A4XC4r6/v3XffPXv2bF1dHWxxeVb84RgMhlgs/uEPf5ibm3v69OnLly/39fW1tra+8soru3btSjjLKBaL9+zZw+Fwfv3rX588eRIAIJPJNBrN6hexDAYjIyPjwIEDExMTN27cgDG9Xq9/HMtgDMOKi4sJgvB6vR0dHanp6dDVeG5ubmhoqLy8fNeuXVVVVat569GJ8Uu3bvgVBFCzAI8AFABidoTJGL810t/X7/V6kzH0N5Ks5di4YBgmEAgYDMbIyMjIyAiPxzMajRwOJ4HbEsdxoVDIYDD6+/tHR0dFIhGMRxM4FIqiCoXC4/F0dnaOj48bjUaNRrPGwBRmsqHePksoWACxWTZwSDgRuVCerg2Ewzqdbvv27dnZ2d8YRszNz125ce2P7x0bBe5IOg+kiiJM4HA6bcPjMp4wOzv726GXmazl2OCwWCyJRAJvOgaDIRKJcnJyDAYDLKFeWFhYWlpKT0/Pz8+Hmdp/+7d/e//99+/evXvv3r22trbu7m6KoqA5otPpHB8fX1hYCIfDwWAwFApFo1Gaph+3KDWTyTQajTwez+FwLjkccYoqKy/PyculEDA+Pl5dVXXw4MGVHS1YTs3lchcWFi5duiQSiQwGA5fLHRsbu379+uyczUmHbPworeIDFg5QBHCJGBPM3rfmGMwatcbpdBYXFz/rF+QGr+UgSdLhcDQ3N7/++ut37twxGAyHDx/Oz89/5j52DMMUCkVRUVFJSQmGYQsLCyRJVlZWcrlcaDmeQEIaLncNBsPY2FhfX5/b7TabzVwu95EOJRKJOBwOdNuVSCQrZjTrDoIgYrG4qKiovLxcKpWSJMlms3Nycl566aXGxka9Xr/Kvv/evr4LN684eCTFIwCOAQAAApA4AIuBXK2pvKxMKpU+9ZKetZOs5fjuwmaz9+/f73K5fvvb37711lvZ2dl1dXUJV3Rs27ZtaGjozTff/PDDD81mc2lpaQIKGwiCSKXS5557bn5+/vjx4x9++KFKpSosLExgSCtgGFZVVUUQhMPhaG9v12q1lfW1AEGmp6fbu7qKi4t37Nixffv21eThhkdHPrp22Smg4xo+ELEADWgZN8jGe+4MP3zQtnfP3keV00+SZI3A/WI+n5+Xlwdr9EOhEEmSIpFIKpVGIhGj0Xjo0KGZmZlgMOj3+/1+//j4eFZWFgAgGo12dnaeOHEC1llKJBKZTKZUKouLixsaGgQCAUmSsVgMAEAQxLrvsRAEsWPHDr1ef+7cuZMnT7a1tVVXV2/burXkX/4lJSXli2q4BoNh3759HR0d169f1+l0Bw8e9Pv9XC6XjMddPjctZQAUAYAGAAAUIDiGcQiCxYKCBl+q6ZFkHZmfn7958+aJEycWFxfLyspeeOGFoqKiZzHRiKIoLIOWSCQpKSnT09Nw/RYKhQYHB6Eb16NmiGBcvmXLFpfLdfr06Y8//lgoFB46dEiv16/+IDwer6SkpKmp6S9/+UtfX9/U1FReXt6jn983Ax1wpFIpm82WSqV+vx9m3BQKxSNF7RwORy6RTgT9sRgF70tAA0BSIEaxcCaHzUkK5nwjyRh6QwM74TZv3jw9Pf3++++///77QqGwtLQ0sStbJpPBzaa7d++eOnVKJpNlZGQklopOT09vbGycmJjo6+u7c+cOtERay4IVw7Dc3Nxf/epX4+PjY2NjdrsdAFBTXf3y97+v1+s1Gs0qN7IDgcCcfT7GQz9bVQMAEIDgGM0hohTp9XqpOIViyedCkicHLFWEpm5f+tPMzEyxWOzz+aLRaDgcjkQi0Wg0NTUVVv9LpdLs7GySJGESenBwsLOzMxKJbNmyhabp4eFhq9UaCoWysrL0ej3UiVuvhjCaplksVmZm5s6dO30+38mTJ+12O4vFys/P/9KVPIvFysrKOnjw4F//+teHDx9mZ2dzOJxoNIozGEI2Ewk7QJwCAAMAAIoGMQohQSwaRRAk4bawJKuEpmlYwjE6Orp3794XXnihoqLiWf/MBQJBUVFRQUEBbBzv7u4+duyY3+9vamravHnzo+5+YxgmlUr37NkTjUaPHTt24sQJLpf7/PPPP1KxolqtPnjwIEmSKpXqMeVrKIqanJzs7OwcGhoKBoPQ8bGoqEgqlT5q2luXlr6pvLrrhDVERQEuBhwcLIfQuYCKKzUaDM/i+urJk4yhnwFSU1MbGhoCgQBUR054doQ1W4cOHXI4HK2trenp6a+88grsJnlUOBxOYWHhiy++eO/ePbVavS4FEhwOx2AwyOXy9PR0l8sFbeG0Wu0jPQqZTKaAx8ei3lj8b/LyNAAUBUiKgWBMJhNBn/mdqSTfJhgMhkQi+SqHM4qizGYz3ERaXl72eDwOh8Nut5tMJg6HQ9P06OjouXPn+vv7jUZjRkZGZmbmStHIGiMkkiRHR0d7enpmZ2fh+7LZ7NnZ2a6uru3bt3+VUpBMJtu/f//AwACDwYjFYnD1q1QoGDz2QNd4HANALQAMBLiDxEIkM93o9/kDgQDchlrLaJN8I0wm02Aw1NbW7tu3Lycn51kPoFeAi0YoM+Lz+VpaWux2++Li4rZt21JSUh71uoKNCuFw+K233jpz5oxIJNq7d+/qtWVxHE9PT3/11VeZTCaHwwkGg0wmcx07GUKh0IMHDzo7OwcGBiYnJ11OF0EQ6br0iYkJi8WyadOmR+rNTdWm7t6+o79v4MHc4NyoK47FmSQjg6ncuatuy5Ytyf6E1ZCMoZ8BCILIz8/n8/lisVihUEA598QiaS6Xu2XLFpvN9tZbb50/f95isdTU1CRQrY4giEwm27Vrl9FoVKvVaywzoml6cXFxdHR0dnY2HA4zGAyZTGY0GqFqwSMdSqNWV+SX9F8aD2NxQGCAxQCBKLIUEjF4KVqtSCT6FlR3JfnugKKoWCyG5ogr/wjtx1AUhRoFOp3ObrePj4/39PRwOJzi4uLGxsadO3eupQvF4/F0dHS0t7f39vaOj48H/H4mk6nT6YaGhq5du2YwGF588UWFQvHFFxIEodfrn3/+eZqmLRaLWq3Oy8sbHh6ORMK5wtRZr98ZdlMILSKJdEyWozPZpqYIgigtLf12NCpsNEKhkNPpjEQiMpmsuLgYZmGEQuG3JoBegcViFRQUvPrqqyKRqLW19U9/+pPNZtu1a1dWVtYj5YNRFE1LS9uzZ4/X671y5cp7773HZrO3bt0KHWdWcwQEQSQSCUVR8/PzbW1tRqMxLS1tXXK6Pp/ParW+++678wsLPB7PkGFUpmkwFGMA1Do4ODo66vP59uzZs/puSDaHbcnJ+fk//uzC9cvtXZ2e5WVVirKqtGzPrsasrOxk//1qSMbQzwYCgQCq7bjd7pmZmWg0Ct3RHvU4KIry+fyGhobp6elz586dOHFCIBCUlZUldrcIBIKSkhKSJKenp30+H1TsetQ1N/T6bm1tvX/vXndPr8vpJAjcaDSWln3GIz3xdem6PTt3t7e393ln3aSHYiFYgNZE2fXlmzZv3pTsbU3yLWDldkBRtKSkJCMjw+l0DgwM9PT0dHV12Wy2wcHBuro66NAUjUbFYvHqBSihSt2DBw9OnDjh9XpFYnF2fm44GiEwRjwaW/Yuz9nmjh8/npubW1FR8VXVKbW1tTDQdzqd1dXVHo/HarUWWfLZ40PErC1GRjVKiSlVGwuFDQZjWVmZWq1OCts9DkZHRz/55BOHw3Ho0KGysrJv9+48n8+vrq5OSUkxmUwnTpz4y1/+4nA4jh49WllZ+UipEwaDkZmZ+cILL7jd7gsXLpw8eVIqlZaXl6+onn8jMC/e2dn57//+7/X19UeOHKmsrEw487XCxMTEuXPnfD5fKBqaHZ9zRgMkj4HFAeUKZmp1utT0U6dOpaWlSaXSVa5IURQV8AWVFRUZGRk+n4+MkUyC4AsFYrE4GUCvkmQM/YzR1dV14cIFu93+y1/+MisrK7ENUL1ev2vXrtnZ2Vu3bun1eqlUajabE769o9Ho5cuX79y5U1paevjwYblcvvrXhkKhycnJP//5z7Ozs2wOu6ikyBcMMFCMieN9fX2Dg4MOh2P79u1yuXyVw+NyuQUF+f/yf/8/H1271NbT4Z73KKSy6ory/Y17S4qLH1OXdJIkTwsonQtNKCorK+12u8vlEggEPB4vGAzevn17dnZ29+7dCoVilV1WFEX19vZeuXIlEAh4/N6J+RkvGo2zGHgM0O6ATp3KZrG7u7s//vhjiURSVFT0pQeBDV5jY2MtLS01NTU7d+6kKOrBgwc4gpRnF+A47nQ5Zyan9Xp9Y2NjbW1tspDjcWC1Wt96660bN26YzWaSJL8LXZsEQZhMpueffz41NfXNN98UiUSJ7W8gCGI2m48ePbq0tHT//n2JRCIWi3Nzc1efzYHuMDKZ7MaNGxqNxmQyrdG8MB6Pj4+PX716tbi4eNq1MEK5fCk4wOOAAgDE0KA9PgPIWGxoaMhkMplMptVP6ASTqVarnxV9w41GMoZ+xmAymT6f78aNGxaLhc1mf36Hd/VADfmmpqbu7u5Lly7J5fK0tLTVL7L/DgaDQRAErMTIzMysqqqCrr+ree3MzMzHH388NzfnWnaHFucDdCzCQRk0QrtDKqFUo1afOnVKoVDU19evcpbFMEwsEtfX1+v1+sXFxUgowuayVSpVamrqMyfhlCTJ6oFKBVqtFvqKIwgyNTV169atq1evNjc3Hzp0qLa2djXr20gk0t3dfe/evewcy7jTNoi6wlIcYCQSo+iQHwu5eBEURdFLly4VFBRYLJavWpd6PJ6HDx/+6U9/YjKZdXV1r7zySn5e3vzCQjgcpmmaIAipVGoymfLy8h5p1Z1kNcRiscHBwRMnTrS0tKjV6ueee06v13/76je+FARBVCrV1v+PvTcNjuo68//PXXpfbu+7epXU2gVCQkISILMIsZglBoNtYsdhMpNK/Scz86/5VU1NUjV5lzdTM+MkrnEcxzZODDY7ErtZJAGS2AUSWtDW2lq973v3vff34ib8XDHgVotFgv6UX6hw33PP7b7nnOc853m+z6pVbDYbwzCdTpdMJsfGxjAMm1XhPUoi/Yc//GEkErl58+bXX39N5eek2QKCIPn5+T/60Y/+53/+p7W1Va/X/+AHP5hLPTKv1+tyuWKxmNVhs+HBkIQGNBggACAB4NFtY0Gmw1ZTVjEzMzM+Pm4ymbJRi8+HrA29wDCbzbW1tdeuXTt+/DiljZ9ZLLJAIKitrd29e/eXX3558uTJvLy8hoaGzNy0NBqttra2t7e3paXl008/xTCMku383gsJghgdHT1x4kSB2WwLuPvDMx4eAWAU4ACkgrEoyQiwnDO2vr6+3NxcnU6Xfjgaj8crKioqKirK4HGyZFnQUClWBEGwWKzS0tLx8fEbN26Ew+Hp6em1a9c++cSJJEm32+12u0PBoM3jtMORmJIF5DxAkCRBAj7DOuJTRRnFxcUDAwNdXV3l5eWPc0UzmUwmk2m329va2kwm04oVK4xG49TUlMPhSCaTEomEqsPyihh2zxMcx4eHhw8fPnz27FmpVLpt27YNGzZklju+QKGWgNWrV4O/vtItLS1CobCmpiY/Px9BkDTfOi6X29DQ4PP5Pv300zNnzlBqVCqVKs3LpVJpY2Pj9evXL1++3NLSUlpaajQaMz4LDQQC0WiUx+NNWKfc3BjJowMSAoAEEAA8RpIRJIKEXCYPBoN+vz+zW2TJgOz8tcAQi8W1tbVUqNbZs2c7OjqoQsEZNCUQCLZv375ixQqXy/Xll18ODQ3FYrEM2oEgKC8vb/PmzVVVVW1tbc3NzUNDQ+l0KRgM2u12t9vtCfgcqaBPDIECCcgRAp0AFMonoeCQZdRgNNhstrGxsVfhIDJLlqcFDMMKhWLTpk0/+9nP1qxZY7Vajxw5cuTIkYmJiUQi8birSJL0er04jtPpDIt10o8mAYf+F+FYGAICRgwmGCxWWVkZl8u9devW1atXHxckgGFYfn5+YWHhgwcPBgcHKZveZDJVV1fX19cXFRVRMnzP7At4dfH7/adPnz58+DAAYMeOHT/4wQ9eKQOaAoIgBEEQBEkkEhMTEwcPHvz1r3/92WefORyOVCqVfiMcDmfTpk1vvvlmLBb77W9/e/Xq1fRXSSoh+O23387Ly+vq6jp+/LjX6830gf4idEv9+cgPkACQJAk95v9meUZkp7CFh1arfeONNyorK4eGhi5duhQMBqn0ndlCp9ONRuP69evz8vKuX79+9uzZycnJjHtVUlKybds2hULR0dFx7dq1dOYpn88XDof5fP7YxLgTDxEYEwAYQADAEMCYCSaUInGlUun3+91ud9aGzpJlVsAwLBKJ6uvrf/3rX+/atSsSiXz11Vdnzpzx+XyPu4RapCEIAhDACeI7Qw6CAEBRRCAQKJXKycnJ69evO53ORw52GIblcvnatWuDweDg4KDT6aRqK1JS2c+6yOKrDIPBKCgoaGpqev/99zds2PBy5xF+LwwGIy8v7+c//3lBQUFLS8t//Md/3Lt3b1beIj6fv2LFirfeeisYDB46dKi1tRXH8TSvRRCEkldfuXIlj8ebS+KsVCrl8/ker6fEXKBBMMQVATgBCBLgBHCF2RFAg5Exy5hYIlYoFBnfJctsycZyLDzodLper//xj3/88ccfT09P2+12rVab8eBsaGhwu91379797LPPVCpVBnJyFEKhsLq6+s0332xvb7fZbPF4HEXRJy+TOI6TJImiaDASTbJI8O3SJzBEQoCEAA2lxePxVyQhJkuWpw5VaXz79u1qtdrn8zU0NFClWx4JBEFyuRxBkHg8VlpeGp/qH/PHAJv+F5F1T4SNwyRETk5OLl68OB6PDw4OfvPNN6+//rpQKPxuayKRaNWqVSdPnhwcHOzu7l61alXW8fzsIEkyGo3iOE6pvMlkMqFQqFAoXvHvHEEQDMNWrVpFkuTBgwdbW1s5HM7OnTvTL9MLQZBer29qahoYGBgYGDhz5oxWq83Pz0/zch6Pt3LlSpPJJBAI5qK4zGazVSqVyWhioHQxwpH5UNegh2ChCEGSrrCep8xV5dhmbE1NTXq9Hobh766Y2V3rsyBrQy9IaDTakiVL/vmf/xnHcblcPhcZGjabXVdX9+Mf//h3v/vd0aNHxWJxY2NjZio8Uqn0zTffrKuro7R1vrcFiUTC5XJdbldJeRnhHg943ISABahiwP4oI0KgJDQ5NanX6+Vy+Su+EmTJMhe0Wi2TyYzH43K5HMfx8fFxBoMhl8u/O0j5fH5OTo5apWGjdBnC89nDgbAH0BEkRQJ7OF9hUrAEk5OTe/bsQRCkra3twoUL9fX1D52d326QwWCYTKb8/HyPx5M9SnrWeDye27dve73e2tpauVyuVqtfdI/mCxAEKZXKDRs2sFisjz76iFKjysvLSz+ZlcViFRUVvfvuux988EFXV5dMJtuzZ49MJkvHdQXDsNFoNBqNqVTK4/FMTk6KRKIM8mhhGDaZTOvXr29vb6fhwMxT6aFUAoUQEibYUTEL47PYLI2mqKhIpVKRJOn3+61WayAQAADw+XyVSsXn87PL6FMna0MvSCAI4vP5lZWVAACq/C+Hw5HJZJlpa6hUqsbGxt7e3vv37588edJgMOh0ugzUpigHuU6nw3Hc5/MNDQ1Rgj6PM6a5XK5CoVAr1Xw2V+rnOT0ez7CXZKEwQRKuSA5NZNKqpqetdXV16ScUZsmS5btQDmYAQDwe7+/vv3r1qkajWbNmzXd90gwGo6ysbGJiovtuNxdmFjLkEQLHCRgFgKCxNWwRhmEYl1dRUcHhcAYHBzs7O69du+b1eimHt1QqfSiA81CN3ul0UgULn/djvxqQJJlIJC5fvvzZZ5/5fD6ZTIZh2Eug74vjeDAYjEQiyWQShmE2m83j8TKWQRQKhevXrxcIBPv376fT6U/ICngkbDa7sbHRYrHs3bv3yy+/LC4uXrFixawCzcPhcEdHx82bN5csWbJ+/foMznu1Wu3mzZtHR0cJghAIBGKxOBAMoAjKoDMmJieSydSP3n+/tLQ0FApNT0/39/f39vbabDZAkgqlsqysrKioSKPRZCzAleWRZG3oBQy1Jtnt9ubmZqFQuGrVqlmpQj6EyWQajcadO3d++OGHnZ2dGo1m9+7dCoUig6aobW44HO7r69u/f//rr79eW1v7uIA8GIb1ev3qNat7enqYJGKiSSSBSAJHEQKQcViHSdQyhY0A+fn5Go2GJMlwOOz1eqPRKARBTCaTOhrLbqyzzBEcxyORSCwWIwgChmFKcfllNfii0ejVq1c//fRTo9GoVqsXL178N0YJDMNlZWXJZHJ0dJQkyKKCAjabHYlGaDQaBKCBgQEAwD/+4z9qtdpEIqHT6dra2n7/+9/rdDqBQGA0GisqKsxms0gkomS8UBTdsWMHyJ4jP0t8Pt+9e/f27t07NTX12muvmc3mhW4nEQTh8/nGx8fv3bs3NDTk9/upQuWlpaVmszmzCiAQBLFYrMrKSq1Wy+Px+Hx+IBBIJpN8Pj/91tatW+f1ej///PM//vGPVP3C9G16qhjZxYsXrVarRqMpKyubrUYHgiByufynP/1pd3f3zZs3+/v7qb2r0WhcsWJFeXl5cXExjuOtra1nzpyxWCxqtZrL5UIQNDo6euvWLZVK9frrr9fV1T0hmivLbMna0AsbHMftdvuZM2c8Hg8AQKVSZRZxxeFwli9fPjg4+Pnnn1Ob7Pr6+oxHmt/v7+vra2lp8fl8KIo2NjY+7pNGo3HHjh0jIyNer7cw15yjzQmFwggCQwAaGhqamZl59913KysrIQhyu90PHjzo7OycmJggSVKr1VZXVxcVFYlEoqwZnSUzcBz3+/1jY2P37t0bHR0NBoNcLjc/P7+srMxkMrHZ7JfPkuZyucuXL79582ZXV1dzczOVAvE3n0FRtLi4+Oc///nt27dv3759586dYDDIZrMLCgo2b95MObSi0eitW7cok9rpdGq1WhSl3bxx88qVK/n5+du3by8sLKQ8bRAExePxSCRC3f0l8I/OKyKRyL179z744IOBgYGGhgaqytVcdIjnAy6X6/Tp05cvX4YgwGKzYRhOJVN37969fetWQWHhpk2b8vPzM5j2IQjCMAzDMJIk7XZ7a2vrzMzMpk2bDAZDmt9YTk7O6tWrp6amTpw4cebMGblc/jhtx+/C4/HKysouXLjQ0dFhMBjUarVKpZrtI1BFZIRCYW5urs1mSyQSMAwLBIKcnByFQsFgME6cONHW1maz2QAK373fQ5AkCQOYAHKpbHJy8ty5c3Q6vba2dqHvsuYPyK9+9atn13p3d7fL5aqpqcnWWP42D9Xo5u6bgWGYwWBQivrj4+MikUij0WR22kWj0YRCYSQSuXHjht/v12q1Go0msx4yGAwGg2G32wcHBxOJhMlk4vP5jzRHKLefwWAQiUQ+n6+3p/fBgwfWaSuCIIsXL964cWNtbS2Hw+no6PjTn/7U0tKSTCZZLBaNRrPZbFeuXOnt7aXT6XOMCF+I9Pf3T05O1tTUZJB0f+PGjWAwuGzZsmzRGavVevz48VMnT05brclkEsfxZDJpGRvr6enxeL1yufzlc9jAMMzlcgmCuH//vt1u1+l0Op3uuwYEnU6XSqVSqVStVhcUFCxZsmTp0qVLly6tqqrKy8uDIOj06dPXrl2z2WyReDQUDoViEattJhgMIpt3wPoAACAASURBVCjidDgTiYRAIJDJZBAEpVKpGzduHD58eHR0NCcn5yVeCy5durRq1aqML79///709HR1dXX6g5okyc7Ozr179zY3N69bt+6dd96pq6tb6D6FVCp15MiRK1eujI+PO+yOSCSSDIVdTqfd5QoGAsNDQ0wmUywWC4XCuSygbrf75MmTx44di0QiRqNRIBCk0xqlPC0Wi+/evTs8PEyj0crLy2k0WjrXIghCeXxu375tsVhkMllubm5mDnU2m61UKvPy8goKCsxmM3UKhCCI3+//+OOPR0ZG+ELMHvAMRO3jwG+DQkEiLmLzVRL59PR0JBIpLy/PrKzEAuXu3bsOh6O2tvZZPHXWhn7epFIpj9tjt9tjsdhT0XhisVhcLtdut9+5cyeRSBgMBqlUmvEencViORyOu3fvwjBMmbYZdAlFUS6XKxQKe3p6hoaGYBguKChgs9nffVIIgmg0mlwul0gkEolEqVQWFhaWlZVVVFTU1NQsWrRIKBReu3btwoULfX19oXB4xm6zO+xWu81ms6dSKY/XQ6njvQSul1mRtaHnTjAYPH78eHt7+/DwsM/nS6VSIJZwetx2p8PpcDwYGhKLxWKx+OVbbGg0mlQqnZ6evnPnTiqVqqqqeuT8TPm39Hp9cXFxWVlZcXGxXq/HMAwAYLPZfve733k8boRBt4c8Hi5hQ2PWmAdHgBwTizFhf38/h8MpKytDURTH8Y6Ojn379o2OjtbV1VFh2S8lz9+GBgB0dHR0dXWZTKa///u/r6yszLiExzwhHo9PT09/8sknAZ9fwub6B0bB4DgybI2OTJLxuEAlZ2OY3W5nMBjFxcVz2S0gCEIl7XR0dLBYLKVSmaYZTafTMQxDEKSvr89isVClENP82lEUlclkgUCgt7fX6XSWlJSIRKKnddgVDof7+/vb29vdXk8gGb3jGYsYuKROCJS8BBMKuvxiBjcWDEMQVFBQ8Eql6T9TG/oVMjteOARBzMxYb9+6M26xBLxeBoulzzUVFxaaMtqMPgSG4dzc3K1btw4PD1OpQjk5OZmVz6XRaIsXL3777bfHx8e/+eYbvV4vlUp5PF4GVj6Px1u1alV/f/+f//znr7/+urCwcPny5dQC/MhH0Gq1Wq32b/6dioE+ceLEwMAAh8eNQaluy6g3EQYQ4MOsSlERxsV6e3oYDIbBYMiKYmZJn3g8PjIycubMGRRG1ALJVHePxz8QIyF/Is40qqWFeQmIvHjxIpfLXb9+/Yvu7FOGKr9C1Ra1WCwej0epVKY/xv1+/+DgoN/vT6SSfjjhxEgiVwE4dEASM9Yg5LA08AVer3d8fNxms1HZwAqFQiaTWSwWl8uF4/jLFyHz/MFxPJVKUVLQu3btUqvVVOGbF92vueL3+2/cuEEQhM/jibmDuTNhc4LBJ+EUYAzORIfR0fym1/qGhvr6+oLBIIZhmXmgqKT8lStXhkKh3//+98eOHeNwONu3b09n3aRc0Rs2bKCK7P7pT3/S6XTl5eXpREdQAc1NTU12u31ycnJyclKn0/H5/KeSLRCJRPr7+yUSyfjkRO/YSLQEI3kMgEIAAoDPDMai3ZYBDcxnMpkTExMFBQUvwdsyH8ja0M8JgiQnJiZOH2s+/MnnSYebmSIjqSQjR1G3qem9f/iJTqeby7rCYrGqq6vfeOONAwcOWCyWYDCYmQ0NAOBwOEuWLNm6detXX311/PhxlUq1cuXKzAYbiqKbNm3yer3nzp178ODBokWLHmdDP45YLGaxWKanp4OhYBwhOifuhw08QigCEPB5o90zI/Ws0kQi8eDBA5vNJpPJXp2NdZa5QJKk0+ns7u7GCcJrd7Dt/iJHzJSgswESJ2n3LZ4ZdKxozcrue3cHBwfXrFnzvUrnCw4IgkpLSzdu3Dg9PU2SJI7j6R/j+Hy+gYEBjUZzu/v2YMqNFwgAhwYQCEAIKWa7U/Fr924peSKCIKjgDRiGVSqVXq+n/HaLFy9+pJh0lvQhCCISiXg8HrFYXFxcnJeXx2Aw0owomOd4vd6uri6lUmmfnI6OTlbE+RhAUABBAEomiYg9PNk7EIgFgsHg1NQUl8udy/GjRqNZt25dIBD47LPPjh49yufzd+7cmU6DCIIoFIof/OAHMzMzx48fP3z4sFgszsvLS+emKIpWVlaiKDoyMkJte57Wr5ZMJr1eL4fDQREkGAmTmPwvJRdIAGgwzkZcfqeKx2WxWKFQKP0yMVmeTNaGfk4k4vG2C5fO7zuoGHXkxhE+gSYBPDzsuvdN6wWjvmnjRo1aPZexxGKxXnvtNZVKRaPRJBIJoMp+ZtSgTCZbt26dxWI5c+bM0aNHVSpVaWlpBlMVBEE5OTmbNm2iwjMoGaBZ9SocDvf09IhEoompyb6R/qCBTQoYgI4ACAAB0x+P3rEMKgiWWqOxWCwmkykbMpQlTWZmZrq7u5VKpWN8gmeZWZTkYQCFAYAAEovGEtPe8YHBUCDo8XhmZmYyTgyYz2i12h07dsRiMbFYPKvNZzwe93q9QqGQIMlQIgwE8r8UAycBYKEJdtxqsxnEKhRF/X4/QRAoiqpUKoPBEI/HLRaL3+/P2tBzZHBw8OjRow8ePHjvvffq6+tfpnkvkUh4vV6lUsmk0fAkIQAoBAAOAAxINoCFSeLBtJUQcBAEybhA77dRq9Xbt2+3Wq1TU1MOhyP9BqkAxY0bN1oslvb29tzcXLFYnGboI51OLy0tpYKw4/E4JTM19xmGEpccGxtLplI8NscfiJF8FqDBAAIgQSBRXCoQAQJQmdOvVOjjMyX7PT4PKMHz+z09zu7721KYlKTRAQwAgBPR+IjtwtHmgsJCtUo1l1EEw7BOp1MqlQAAJpMZDocRBMms4iAEQbm5udu3b3/w4MGlS5c0Go1Go8nMsU1NFlQwNIIgVG5++mG4yWTS6XTy+Xwagrr9HlJsBDQEAGpjjaS46MyQQ8RSsNlsv9+fTnXxLFkootGo1+uVKxQ0CGEnSSFACQBwACAABAARRIkbYxZUyAcA+P1+jUbzovv79KHRaDKZDACQSCQop1SaljSdTudwOFarFQDARBmxUByw6QCGAASBGI7GSalYEo5EEonEwzAwDodDiQaMj497vV69Xv8sn+xlhjp2279//6VLlyQSCYIgL1nlGhqNJhAIYrFYIpEECBzEcQ6AYQABAOKADNEhsVJujYdxHOfxeHM/eKTRaDqdbvv27TMzM2nWTHkIm82uqamx2Wx79+49e/asVqtdvXp1mqcBLBaLTqfjOH7mzBm/319SUrJo0aI5ZsZzudyioqLW1lYWk1VuKuwY6UsqUwBjAggC3gjLlSrWFhHBGEmSOTk5Cz1ufv6QPft+TvgDgVAgwEwScpKOACgFSAKQGEBlMdJyf9Dtcs/9FgiCsFgsGIYHBwf/8Ic/tLS0uN0ZNstkMisqKnbt2iWVSr/55pvz589T5Y5mC7XD5vF4kUjk3LlzH374YVtbWzweT/NySlc/Go2m8BSTzgSxJCAJAEEAhgAJ4CTBY3MADEejUQaDkQ2yzJI+dDqdy+XGolEcJ1IIHAEECUgIABiAKERGmahYLkvhOEmSj8yFfTlIJpMWi+Wzzz67dOmS0+lM0xrDMKygoMBms4mEYrNUC4ZcwBUB4SQIxIA1wPeRFaXlAIJoNJpWq6WsHARBVCrV0qVLFQrFqyah8xSJxWJDQ0P79u1rbm5mMplbt24tKCjIuObI/ITL5RYWFvp8viREQnLRABxzgFQI4H4In0BSMzxUlZ/LZLOpvNinErwHw3BNTc2WLVtqamoikYjFYnE4HOmMBRiGNRpNY2PjkiVLBgcHT58+PTw8nEwm0781VRln7969hw4dstvts7r2u7BYrMLCQgzDREKhUa4x4ZjUD3OcCY4zIfMjOoCp+CKZVJqTk6PX67N+6KdF1oZ+HkAQxKDT6TQaAcExQJAAQABAACQBiNEQnljIZGXiMH4kqVTK7/efPXv2T3/60/nz5xOJRGaOCjabvXbt2s2bN+M4fuDAgTt37lBe5MxIJBKDg4Nff/31vn377t+/n+ZkwWazzWaz1+tFELRIn4+M+IAzDMIJEEkAZ4huixVpjEKhIBaPq1SqrOBllvQRCoV6g97j8QAaEhWyh6G4FxBhQPggYhLB3RjDWGCmhCMpZ+1LSSqVGhsb++///u+vv/56bGwszYlCIBCUlJQwGAy5VFYg1arDTL4rhcyEkMkg5sRzAE8tUUglEiq5+eH2Q6/Xb9u2bfXq1VSkWZbZQpLk+Pj4H/7wh08++YTD4bz//vtbt259+V5OqVS6atUqu90uVci1ry07zYl10CK9cKwTjXZxUlaMDjHpBr0+Ly/vKVYGQBCERqMlk8n+/v7f/OY3p0+fTn/dNBqNu3fv1ul0x44dO3LkSDAYTP+mXC53yZIlCIK0tLR88803TqdzDg8BYBjmcDhbt27l8/kTlvG3f7Bzubo41882epmvGRatqV05Nmah0+nr1q2bbWJSlieQ1bZ7TiAI0tvTO9bTy43hKIABAElATkLJSQkzf+3yutdWZlYX8JE3YrPZAwMDd+/etdls5eXlPB4vA98PDMN8Pp/JZFqt1q6uLgaDoVarZxs6+e3WcBy/c+dOb28vi8XKzc1NZxjTaDQMwy5fvoynUjkKlWt0ChAkSJFolOB4kvIYvUyfz2axlQpFU1PTKxVkmdW2mwsQBHE4HARBmpubtXodKRV1jQ8mSCJC4n1ovJdNhOUCY2EBjU6rqqqiSvy86C4/E1AUjUQihw4dSiaT+fn5BQUF6YxuGIbpdDpJkvfv30/E4+sa1qTcIe/9CdQZXWZeXJJfcK2ra1lt7YYNG1Tfik/jcDgmk8lgMGSm87MgeKbadoFA4MSJExcvXtRqtXv27GloaKDkt+fQ3/kItXENhUJTU1P+cKikYjEkxrwYHc7NUSwu5solQ8PDNTU1jY2Ncrn86T4+Jat39OjRgYEBBoORl5eXjrMWhmEmkwnDcH9///T0tFAo1Ov16R8OSKVSynbv6elRKBRzdAZBECQSiQQCQTKZ7O7udtjtNAihwajP7YYAqKqq2rp1a2lp6Ut8tvZIsvrQLwMIggAYmvC7LwzcTRCpOMBHoPhNNJYwKvb80/9XWl7+tI7kqCEtk8nGx8c7OjoikUhBQUFmMs8AAJlMxmQyb9261dXVJZVKS0pKMouxRlGUUvDp7e2dmJhQKBTpTDQQBDEYDJIkR0dHJycmNq1pYuEo5AjzI1C1oaQiv3h0eITNZr3xxhuFhYWv1Blx1oaeIyiK0mg0l8s1NTUF0RBTSTEh4nkwBrPIJC0zMwT8oeGhxsbGlStXUrmwLyUQBEWj0evXr3u9XqPRWFlZmWZAFIIgUqmUxWL5fL77vfedNlvA7YuHoxBBYgJs+fIVGzdupMQiHl4Cw3AqlfJ4PLFYDEXRl/Io+RnZ0FS0OkEQgUCAzWYvX758zZo1CoXipYxegyAIRVGqlGAoGIzGY9NelzsVD0IExKDJFIrCwsK1a9cWFRU99QkfgiAIgoaHhwcGBhwOh8lkEggE6dyFwWBgGOZyuXp7eyORiMlkokLV07kpj8fjcrmxWOzy5cuRSEQkEhkMBqonmT0Ck8kUiUSUKK1apdbr9Saj0ZxvrqysXLlyZUlJydOS0ltAZG3olwGqgolco+JIJREm6mIhZF5O6cbVG9/asayu7um+1pT4JY7jMzMz169fVyqVCoUis4prCIJwOBwul3vnzh2Hw8Fms0tKSjLrKo1GU6lUVGXaycnJ3NzcdAqjQBAkFouZTGYkEhkZHXXM2OAEwQRw2B+AAZSfn79x48bq6uqX2Ln1SLI29ByhtmfU6hWNRmN40hr0eolkBAV0LluhVObm5jY1NeXm5r6U1t5DYrHY4ODg0NCQSqVasWJFmg8LQRCXy6U8XiwWSyQUxWMxv89nNBo3btzY1NRkNpv/ZrmipO6am5utVqtEInkpB+xTt6EJgrBYLH19fT6fT6PR6PX6kpKS4uLipxjGMA+BIEgikajVaqrgFwTDApGIet8WL168a9euwsLCZxEFjiAIhmEcDmdsbOzGjRs0Gs1oNKazhYZhGMMwPp8/MjLS09ODomh+fn76a7pIJFIoFNPT0xMTE1KptKqqao6V11gslkajWbJkSWFhYW5ubmlpaUNDQ01NjUqlYjAYL9+4+16yNVZeBiAIEgqFS5cuVcjk9xcvctkdXB7PXFyQby54FvtCDodTU1Pjcrn+93//12q1er1etVqdWVNSqXT16tW9vb0dHR2nTp0qKirKz8/PwPyiJK7WrVs3PT197949q9VaVFSUjldbIpHU19djGNbV1eVyuSh1PBzHc3JyKisry8rKhELhS7yiZHlG0On0yspKgUBw6dKljo4ODo/HFwgSiQSbwyktLd28ebNIJHrpDzfodLrBYMBx3OFwULm5aV4IQRCl2NPU1NTT00Oj0ex2e0lJyc6dOx956kWS5PT09P79+7VarclkUqlU2TH7BCiv8+jo6KFDh3p6eqqrq4uKiqhi0S+ZEMcjgSBIqVS+/vrra9as8Xq9kUiEwWAIBAIOh0Oj0Z7dmwPDcGVl5dTUlMViaW5uNpvNMpksnbBDBEGWLVtmtVo//PDDgwcP5uXlNTU1pXn8i6Ko0Wj8l3/5lxs3bhiNxqe1PaC2ItQeIGPHdpbvJWtDPz8gCOKwOYVFRYVFRc/hdgaDoampaWpqymg0ZhaAQYGiqEajefPNN10u1717977++us9e/YYDIbMThLLysp27dolEAhmtXOQyWSrV69+7bXXpqamXC4XQRAymUwul2cFerLMBarGp06ne+ONNzweTzQa5XA4AoGAy+XS6fSX8qz8b0BR1GAwUBatz+fj8XizfWrKmC4qKjp37pzX6w2Hw480HSj7j8vl+nw+r9c7d2Xflw9qPiQIgtJLuXLlyokTJ0ZGRrRa7UOF8lfHGIJhGIZhGo3GZrNxHKf+fg73ZbFYy5cvt9vtBw4cGB4edrlc6djQ1O9SU1MzMTHx6aefHjx4EMOw1atXp7nyMpnMwsJCyk8ciUTcbje1Z5ijPZ3dpj4Hsjb0y4zBYPi3f/s3Go1Go9EoRTk6nZ7BFIwgSFVVVVNT08zMzJdffllUVMTj8eRyeQZdotPp1dXV5eXllKp8PB5HUTTNZZsqeEbV9EYQ5FUwcbI8UyAIol4kJpOJYRhBEAiCvHxVCZ8Ag8Ewm807d+7k8/kZl0xjMplyuZzH44VCIY/H87iSNEwmUygUTk9Pe73eV8GZmgEkSQaDwbNnz7a0tNy6dcvr9a5ataqxsbGmpuaVne6ec/Q8BEEqlWrjxo1SqVSv188qlUij0axaterBgwfnz58/d+6cRqMpLy9P50Iqi4kyuG/duvXVV19JpdKtW7fm5+dn+BhZnhdZG/plBkVRoVBIRSL29PRAEFRXV5dBtRQqz2P58uVut/u//uu/Dh48yOPxNm7cmIFjgEp6YDKZBEFcuXKFiujIy8tLMxn55Q5OzfICecl0dtOETqerVKr169dTRc4yVt2RSCR8Pj8cDrtcrlQq9ciZgcFgCIXCoaEhj8eTtaEfCQzD8Xi8vb39xo0bIpFo8+bNVJ3XrHDn8wRBEKPRqNVqqXWKEnWlxDeefCEEQXl5ebt27RocHOzs7JTJZCaTicVipb//oU4hBgcHL168GAwG3333XaPR+MpunxYEWYvk5YdKTGlubg6Hw3w+v66uLrMQCI1G89prrw0PD587d+706dNarbaioiKzLpEkSZJkd3f3pUuXzGbzz372M41Gkz14ypLlOQNBELXGJxKJRCKRWTITiqIikYjP509NTbnd7mQy+Ugbmk6nYxgWCAScTmc2luO7UPsKqlKGRCIpKSmprq7m8/lZx8Hzh3J+x+Pxnp6e/v5+pVJZU1OTTkYah8OprKzcuXPn/v37z507ZzabX3vttfS1fWAYNplMW7duPXjwYHNzczKZfOutt56FCEmWp0V2cL78UMskjuOdnZ1arValUhUUFGTQDhU8umfPnqGhoRs3bshkMr1ej2FYBrtkCIIo/WmPx7N///7S0tK1a9e+fPUCsmRZENy9e3diYkIikdTU1GSwwaZinTEMGx4edrvdqVTqkR9jMplGo9FkMmEY9upEy6QPSZI4jnM4nO3btycSCRaL9Sor58wHYrFYZ2fn119/XVxcLJPJSkpK0nFFc7ncLVu2zMzMHD9+/OOPP5bL5UuWLEn/p5RKpU1NTTiOf/HFFy0tLTAMv/fee7m5uVlv9Pwk6/l7+UEQpKKiYvfu3YWFha2trWfOnMnYD8RkMnNzc3fs2CEWiy9evHjq1Cmv15tZryAIWrNmzfbt2xkMxr59+zo7O9OvAZ4lS5anSEdHx759+7755ptYLJbB5ZTdwOfzU6mU1+t9nA3NZrOrq6v37NlTX1+f9a1+FyovDYZhHo8nFouzBvQLh8FgVFZWymSyq1evNjc3+3y+dK6iIqo3b968cuXKK1eufP311wMDA7O6r1Kp3LJly09/+lOpVHrs2LEvvvjCbrdn9ARZnjnZieyVgMViVVRU7Nq1649//OOxY8co2aAM5miqwFtjY+PU1NSBAwe++uqrnJyczHxXAAClUllXVzcyMnLu3LmLFy9SkpYZtJMlS5a5kEwmHQ4Hk8mkynlkAIIgfD4fQRCfz/cEPzSljEmn07Nn048k656fVzAYjLKyso0bN7pcrvPnz1dVVdXW1qZZ7KKgoGD9+vV9fX2dnZ1KpVIqlebk5KR5X0qWrrGxkSTJ4eHh8vLy7IZq3pL1Q78qSCSS1atXNzQ0jI2NHT9+fGRk5HFL3feiUqlef/31+vr6a9euHTp0aHR0NLN2EAQpKCh455131Gp1e3v7uXPnwF+DArNkyfLcEIlEVNHBjOcECIIoKa4nNEKpoIRCIbvdHgwGsyM9yzyH8hktX768vr7e4/EcOnSov78/mUymcy2Xy120aNF7773HYrHa29tPnz7t8/nS36PCMCyVSteuXfv222+vWLGCz+dTIZRTU1MZD9Isz4KsH/oVQqFQbN26FcdxsVicsY4VAACG4YKCgi1btoyMjHR1dRmNRolEkoHcBwCAzWYXFxe/++67g4ODBoMBZD0xWbI8dwQCAYPBcLvdiUSCIIjMsnsFAgGTyfT7/U9Y4wOBwNmzZ/1+//Lly4uKil5NLZQsC4v8/Px169YNDg62tbXV1tYWFxeneYqiUCi2bNkyMDBw8uTJI0eOmEymysrKdNSmHyKTyag0IQiC2tra7ty5s3jx4oaGBo1GM5eaD68IVIIBiqKJROLZ7dizNvQrBIPBKC0tpdZLmUwWj8dpNFpmargMBqOiouKtt97au3fvmTNnlErlhg0bMisnzmQy169fv3LlSjabTRAEVSwtGy6ZJctzg6p+MjEx4ff7ZTJZBqYt5YembOgnOOoikUhzc/PExIRIJDKZTFkbOsuCoLi4+P33329ubhYKhelbY1SewI9+9KNwOHzkyJHf/OY3v/jFLyoqKtJf3R6W3YnH44FA4Nq1a6dPn+7p6dm5c2dlZWV2+HwXSvILx3HKlnA6nW63e3h4GMfxZ+Sey1oqrxZMJtNkMkEQ5Ha7x8fHhUKhQqHIINYKhmG5XL5mzZqBgYHm5uaWlhaDwbBo0aIMAqMpcVnqvbfb7RaLhRIPyTqks2R5PojFYqFQmEqlrFarWq3ObG0WCARsNtvpdEaj0cd9hkajUZXYvF5vxrHXWbI8ZzAMq6mpycnJkUqlNBotlUqlqQIJw3BOTs7WrVv9fn97e/uXX37JYDDSLLzy7UZQFN2wYQOLxTp58mR7e7vVal23bt26desUCsWrnFpA/hUYhiEISiQSDodjZGRkZGRkfHycqmqcTCZ9Pl9FRUXWhs7ydIBhmCTJrq6ujz/+WKlU/t3f/d2SJUsyO71Vq9U7duywWCzt7e1qtVqpVGq12ow7ZrVajx49eu7cuQ0bNrz55puZBYdkyZJltsjl8vXr1+fl5el0uszygyEIwjBMIBDMzMxQ69Yjl3YEQcRiMVVXPGtDZ1ko0Gg0iUQikUgikcjw8PD09HRNTQ2Px0vHLGMymRUVFcFg0GazXb16VSgUcrlco9E4K5MORdGCggIMw+Ry+alTp+7evfvll18mk8mdO3fOqpLiS0Y4HHY6nTabTa/Xy2SycDh87dq1M2fODAwMRCIRKtFZp9PR6fRnpwyYtaFfRSAIovRcW1tbtVqtUCiknNOzbQdBkLy8vB07drjd7itXruh0ut27d88q3uvbCAQCrVbr8/mOHz8ul8upbXfWG50ly7NGIBAsW7asvLxcKpVmZkNTjVAn3Xa7PRwOCwSC736GUpKGIMjn82XLrCwgCIIIh8ORSARFUQ6Hw2AwFtzMTBCE1+t1OBzhcJgkSTabLZVKxWLxrKwrn8/X1tZ27tw5BoOxePHiNMMX+Xz+8uXLw+Hwhx9+eOzYMQzD3nrrLblcPtvvUKlUbtu2zWw2Hz58uKOjY3BwMJFIAAACgQAMwxwOZ8H9KLMllUqFQiG32+3z+Xw+n9VqHR0d7e/vf+uttxoaGih9IbfbTafTzWZzQUGB2WxevHjxiRMnRkZGntGEk7WhX1Fyc3Obmpru3r3b2tqqVCqpiI4MvNF8Pn/FihVjY2OHDh06ffp0UVFRVVVVOvWc/gYIgvh8fmVlZV1d3enTp48fP67RaBYtWpTNnMiysMBxPBAI+Hw+anljs9kCgWAuKbzPATqdLhQK2Wx2NBpFECTjeGiRSJRKpWw2WyQSeWQhFRiGhUIhAMDj8WTlBRYEiUTC7XbPzMxMTk56vV46nS6WSLQ5OSqVisPhLJTElUAgMDo62tPT09vba7PZcByXy+XFxcWlpaVms5nL5aa/9oXD4b6+vr1799Lp9JqamjTHtUAgWLlyB2oi2gAAIABJREFUpcPh2L9//+HDhzkczpYtW+Ry+WwfhCon/tOf/nT79u0AAAzDXC5XW1tbIpGoqKhQKpVpescXBMlkMhaLxWKxRCLB5XLZbHY8Hu/u7m5paenr63M6nZSzmSTJmZmZUCgklUo3bdrU0NDAZDIFAgFVbJLFYj1TZ9zCGABZHgkVNR8Khai0UzqdzuFwOBxOOtOBTCZbu3btvXv3jh492tLSUlJSUlZWloHBSgVGb9q0aXp6+vz58wcOHBAIBCUlJZkFaanV6p07d46Pj7e2tioUCrlcTol1ZMky/yFJMhgMjo2NdXd337t3z+l0QhCk0+kWL15cXFxMHSnO2+XN7Xbfv39/cHBw9erVeXl5GbTA5/NFIhFBEDMzM5FI5JGfQVFUqVTK5XIajZbVtpv/RKPRgYGB06dP9/b24imcx+MmEolIJCIQCFatWVO7bJlGo5nnZjRBEJFIpK2t7fz581arVS6TCfh8CIJi0eiF8+c7Ozs3bNhQX19PhRh9b2tisbi8vLy8vLyzs7O4uFij0aSv+iyXy5uamjwez7Fjx44fP87lcjds2JBBzU46nS6Tyai9aDKZfPDgwZkzZ/r7+4uKihoaGpYuXSqXyxkMxoLLOCRJkvoqqHcsFApZrdaJiQmLxeJwOBoaGpYsWcLhcNxu9+DgYDgczs3NVavVer1ep9MVFxeLRCIajaZUKkmS/BulhGc6687rtz/LE4jH49PT0z09PTdv3rRarTiOK5XKioqK8vJyrVabzlmbQCD4yU9+4na7b9++vXfv3l/+8pcKhSKzt62goIAyo1taWnQ6nVAo1Ol0GTQFw7DJZNqxY4fD4bh27VpJSYlEIklT0z7LQockyVQqhadSBElAEIzACEpDM4vUf/6QJOnz+S5dunTp0iW/349hGMbnAwDcbvfRo0c7Ozu3bNlSVlY2b19mj8fT1dXV0tKiVCopc39Wl1M19oRCIZ1Op/zQj/wYjUYrKyvbs2cPhmEZnFZleZ7gOH7r1q3Tp0/39fejCGKz2Zz33XSUJpfJxFLJ8WPHnA7Hzp07M4hJeJ5EIpGBgYEDBw7E4rF4MtnR0SFl82AY9kRDPKFAiar27v2CyWRSwlDf2xqDwViyZEkwGPz3f//3U6dOqdXqXbt2PTT+ngwMw0aj8e233w6FQidPnvziiy9EIlFdXV1mcwLlpYIgSK1WL126dGZm5tKlSx0dHSUlJcuWLaurq6uoqFgok+dDCIKAIKirq6u5uXlkZMTlcnk8nkgkwuVyVSqV2WyWSCTl5eX/8A//gCCIVCoViURCoVAgEDx80ue/o3t1bWgcx3EcJwkSQACGYQRBFsoLR5JkLBbr6uq6ePHixMQExuezmEwAQcFg8OzZs11dXevXr6d0KJ88sGk0msFg2LRpk1AoZLFYc3l8GIYXLVq0devW/v7+U6dOyeXyN998k81mZzC38vn82tra0dFRi8WCYdhC+VGyzJ1YLHbr1q3bt2/P2GwYhhUVFtbX1wuEQnger9APCYVCd+/ePXLkSDQaDYRCltExMZtLQqQrFOBhWCqV+uSTT/7pn/5p3ooi02g0GIb7+/sHBgYqKyvVanUGjfD5fB6PZ7PZwuHw4+6i1+s1Gg2dTp+f30MWCpIkvV5ve3v7ta5rcpkUjiUlrjDL4qZx2FwGP+oP+vz+np4ejUazZcuW+eyKnpmZuXDhQiQSgQCE2L1Y96gAYcIASpEJulmXwgRuj6u7u1un0xUWFqazYInF4rq6utdff/3s2bMnT54sLy83Go1pZhGgKJqfn//DH/4wHA63trZ+9NFHBEHU1dVlnESEoqhOp3vjjTd0Ol1bW9uNGzdu375ts9lSqdSiRYsgCIrH4yRJsliszNp/RiSTyVAo5PV6PR6P2+12OBzRaFSv1y9ZskQsFk9PT3d2dno8HpFIlJeXJ5fLc3JyysrKqEqoubm5ubm5L/oJ/h/z99V/psRisf6BgZ57d60zMywWO9doWlq9NM3TnBdOLBYbGRk5dOjQzMxMJBabmBiXcPgwjHjCAQKGhALBvn37GAxGVVXVk2MzqLJhdXV1BoMhHo9ncKj0baRS6cqVK4eGhg4cOHDixAmDwVBfX5/B3ArDsFKp3LJli8vl0mg0GWc4ZVlAkCTp8XhuXrt+4tCRvgvt/skZtgjrqyibHB/fuHlzjkbz7LKqnwokSY6Pj7e1t3t9PozDozt84e5+HGWSEMDJBKumAhaA/v7+27dvSyQSjUbzovv7CGQyGbVKPXjwwGKxZGZD83g8gUAwMjISDAYf+QEIgphMZjAY9Pl8DAaDy+XO81/2lSWZTPb29s7MzBAkGXX7yHvDOnc8B2fHE2DsnuXO0HDB2hWpZLK1tXX16tV8Pn/eLp3T09Otl1rz8/OHb3XDtwe3AAmPQGAA/GTq1oh9NJUoWlk7MTHR399vNpvTfBsFAsHOnTvD4XAymbTb7Xq9flZdKikp+eEPfwhB0KlTp/bt24fjOFWJMOP1VyAQNDQ0lJeXDw4OXr161eVyUVHRsVjs5s2bY2NjOp2O0q8UCARz9JfNFpIk4/F4JBKJx+MMBgPDMARB+vr6bt68OTIyYrVaXS4XlQW4fv16s9ksFovz8/N37NjBYrF0Ol1OTo5MJmOxWHQ6fX5u1eZjn54pJCAj4UjPvZ7jXx+4eeaCY3iMyeeaKsontm5s2rQxR5MzP3+nb2O321tbW8fGxjAMQ4JRW+tNGsqEIchHxKWLijCV5l5v7/Xr19VqtcFg+N5hKZVKKRU5v99vsVjYbHbG+nRyufy9994bHx+/c+fOV199ZTQalUplBoHREASZzWaz2Uyl2QYCAbFYLJFI5vOJYZa5kEgkujq79n30h9it/nJXVA7EYR851tnz5fAwj8Nd27ROqVK96D4+CYIghh4M3bxx06DTDVy9Lu2bWgskHBwFgHSCxLU7g+OhwJLa6p6eHpPJND9taA6Ho9VqdTrd2NjY0NBQbW1tBsONx+NJJJIbN274fL5kMvlITzNJkt3d3b29vSaTqba2NhvRMT9JJpPd3d0IgnA4nKHL17eEGAaczgAIIElWHPhTCdQXtnm9TpfL6XSyWKx56+zweDw9PT05arUoluInIDlAAQkAAGxAUyWTbgIWC4U9ffcnJyfTD9BnMBglJSVvv/02AKC8vJxOp6cZzkGBIAglV+x0Oq9du0b5iWtqajJL6wcAwDBMp9PlcrlQKCwtLaUy7RAECQaDFy5c2Ldvn0KhKCoqKikpKS4uNhqNUqmUqmhGkiRBEE/lEJ4gCKrEKSWeG4/HE4lEIpEIh8N2u31yctLtdut0uuXLl7PZ7I6OjgMHDkxPT6MoKpVK9Xq9yWQqLS2lZoPi4mKTyUQ9FJ1On7fbM4r5bi8+dfAUfufOnc8//Mjd2Z1vCzYQ4liAnOjq+9PQCALBG7dsVs/LFe7bTE5OXrx4MTc3d/jOPej2g11AiuEoAoCXTN7pmxyIREqql0xMTPT19el0ujQ31vF4fGhoaP/+/RiG/fjHP1YoFBnsJWg0mk6n27p1aygUomIrN23apNPpZv+If8Hn850/f76rq6umpmbLli0ZH3hlmeeEQ6Fbt28Ptl5ZH2XrCDoDwDhOMkIJb9J/u/WywWSc5zY0juPWGWtvb2+OVC6J4jlJSAFogAQAQBzAHI8FkwQkEolu3bpltVpfdGcfDaWYsXTp0kuXLg0PDyeTSRSddTA6n8+Xy+WxWMzpdIbD4Ufa0BAE9fb2HjlypK6ubtGiRVkben6SSqWmp6dJghByOPZYUkpwuADBAYABhAE0D6c/mLAGeag8R+N0Oqkkthfd5UdAEEQikYjFY9FQkBHH+QCGAYQDEgAAA4hNwlwShkkQCoWj0eisChAymczKykoYhhkMRiqVSiQSKIqmf6jCZDIXLVr0y1/+8j//8z+vX7/u8/n+9V//taKiYo5rHGV0UumGAAAWi1VVVeVwOHp7e7/55ptTp04xGIzq6uq333571apVAACfzxeJRDKrs/Y3xONxj8fDYrFEIhGO4+3t7W1tbb29vS6XKxgMhkIhgiBef/31iooKNptdVlZGo9HodLpGo6FkizgcDo/H43A41JezgPS4XjkbOhqN9vT03jh7oTGAGnEaF6A4TrLDCXfMe7f1iikvT6lSzfN9j8vlun3njkwixSJJXgTXAjpEAggAPmA4oilvHJdJJINDQxaLZVaZ7xAETUxMTExM8Pn83bt3SySS2XaMCg5ZuXKl1WodGxv785//rFKpxGJxxssklVJ948aNYDCo1Wrr6+vTrA6VZQFBEITT5fLa7exISgXoPIAQANAAJAW0/BRhudc3NTH5ovv4PeA4Ho/Hg6FALBTiJgkMIDCAUoAEANAAxAMoD6CAIHw+3xNq+L1weDze6tWrb926NT09PT09nZOTM9uZEMMwSqiBOqIVCASPHK0wDAcCgbGxsVgs9pT6nuUpA8MwjUZLJpMpkkyQeAr8ZS0hAcABGYMImE6HYZBKpf5GA2FeAcMwm80WiUR8ocjNnoEh4uGaSAAyCFJuIqEjCbFINNtQCgiCqCDj0dHRlpYWDofT0NAwqzhdJpNZXFy8Z88eDodz+fLl3/72t++8887y5ctlMtmsnvEJUDa0Wq2emJiYnJycnJwcGRkRi8WUw3tiYuLChQuXL1+m0hgwDONwOHK5vKqqymAwRKPRmZkZSq6A+maoP0wmk06ni0Qi9+/f7+/vt9vtlIZGOBwOhUKNjY07d+4kSdLpdE5MTLhcLi6Xq9FoJBKJTCajhDUAAMXFxQaDgclk8vn8+X/y/2QWdu9nC0mSbrfbYbWi/kgOKREBGgFIOoBkgF5EEMO9g5bRUZJc9aK7+SQIgojFYn6/P+wPcOK4BKAIgHBAkgDQAIRBCAZQFIK9Pt/jQhIfCZWaUFVVNTY29tVXXxUUFGScLywUClevXu1yuT744IPDhw+LRKKVK1dm0A4AAMOw5cuXt7W1dXd3HzhwoKioSCQSLfQhl+W7wDBCwjABAPnX/wAAJCBxkoQQGJrfe1oAAIIgLBZLJBCyMJ6TDgcBAQCgFmQckAEi6UslAAxTGswvtqtPgMViLV68+P3332exWGlKZP4NfD4/JyeHxWJNTk7a7fbHVW6SSCQYhjkcDkpCO8s8BEEQrVbb398fCAdRiWDGTbDjOB8gKUC6odQwksRUUgFMoCgqkUjmpxOaQiQSFRcXkzAU5tIjIkafL4bhMASAH8KnMTopwexOp1qtzkxICgAQCASuXr3q9/tpNJpMJktfnhmCIBRFly1bRhAEjuOtra2HDx+Ox+Nr1qyRSCRPxZGHoqhMJpNKpWVlZfF43OVyDQ8PUwrTNBoNx/FQKDQ1NUUVnaHRaAiCGAwGuVyu1+t9Pl9nZ2dra2s0GqU6g+M4iqJvvvmmRqOJxWKU6KHFYqHkGSiXvNfrpSI6DAbDihUrlixZQmnUyuVymUzG5/Op2E6BQDDH/Kv5w6tnjpAkgCAIBgAHJCC/tWaTxEIQLIUgiMFgCDA+h88NMFD/t1ZrAMgQifvwJE6SfB5vVqs1VT+sqanJZrMdOXLkyJEjIpGIOqvKoJM6nW7Dhg09PT19fX0nT57U6/UZ+LQAAEwms6CgYNeuXZ988smVK1e++uqrbdu2pa/HmWVBAMOwUCgQyaVJPssWxhkpiAXgJCBcED5Gx40Fear5HcgBAEAQRCaT5ebnEwgS5LMmOIggEmeTEAmAF0q5RawUxnS5XLm5uQqF4kV39rFQK+727dshCKLRaJSLcVbDllKuFYlEVqvVZrM9bkIVi8UYhk1MTAQCgVkFkmZ5btDp9MWLF9+/f9/v8+tKiwZ7R1KOqD4JxwA5TCcsAma5XCin0Xk8nlwun88SK2q1evXq1e3tbQQNiRlVbRNWfZhESNJCJ6D8HHmOZmR4+I033igsLMxssVMoFKWlpQcPHjx16pTRaPzeVP6/gcFgLF++XCKRxOPxjo4Oh8OB43hTU9NTVDigdCdZLFZOTo5Go3k43DQazcaNG81ms9Vqtf8VJpNJBaWEw+GxsTEqzuRhTzgcTn19PWUxs1gssVhMp9MpjTnK02w2m6kTjGXLli1btuzbffhur57K071wXi0bGoIgPoaJZJIUj2UPEpwUwQJwEpBekBpFkrI8vVqjnuc/LSXCai4oRBmMMI8Rw2iWQJxNQhAAIUDMcJEExnZ5vWq1WqvVzupZYBg2m81NTU2jo6O3bt2iqkJkUEgJAMBgMEwm0+7duz/66KNr167l5OTs2rUrs6RAKjhkcnJy3759f/7zn4uKiqRS6QIKlsqSDnw+v7So+HZ50f3eMdKXUJNoAODD9JRFwty2emV+YcGL7uD/45E2H6VrXlVV1dvTA2OcKZ3QNeXSxmECkAP0lKDIJJVL79+//95775lMphfS7TShzr7j8bjb7Q6FQgqFgjp7TR8ul2s0GgcHB2dmZqh0pe9+RiwWi8Xi/v5+h8MRi8Xmm/BWFgAAgiCFhYV6vX5sbIwvkYZgpKNv4JTdQWcwpBrVaw31wxaLUqlsbGx8sQY0QRBUNbtUKoWgKJ1OZ9Dp337rVCpVY2Njb29vPBbXFimxikWO0fE4jhdqNXGYdDqd5vz86upqtTrDpV8ul2/evHlsbOzixYtyuVypVD7u+OVxoCial5f3i1/84pNPPrlw4cIHH3zgdDq3bt1qNBoz6M+T+XbHmEymwWDQaDSJRCL1VxAEocKpdTrdT37ykzfeeCOZTFKTHlXBVCKR0Gg0Ho+3du3a2tpagiAomxtBEBRFGQwGdVA8z+2opwjyq1/96tm13t3d7XK5ampq5k9lARqNFvQFhoZH3AEfGktyABSA8CFa8g4fNO7eueK11x4Xw/f8obw43+1MMpmMRqMjIyOxVCKIwsMRXwIQDhi/SY8H81SKPMPYuKVq6dL6+nqpVDrbwaxQKPh8/p07dyAIys/PVyqVGfSc2vVqNBq73X779u0HDx4UFxdLpdLMjvyoqKlEItHa2lpaWqrVaufP6/Si6O/vn5ycrKmpEQgEs72Wii9ftmzZ/IkrgGFYoVLKVMpRv6vDNXk14R3gAmZp3vaf/Lhx3TqlUvnCUxRIkqSSzVOp1EMz+uHggiCIx+OxWKybN2+mCMJYWCAzm4J8JqFT5C6vhtjMYCio0+m2bdum1+vnuZobjuPXrl373e9+d+nSJaPRONtDgFgsNj09fevWLY1GU1NT88ghTxDE8PDwwMBAUVGRTqfjcDjzZMqdI5cuXaJStTLj/v3709PT1dXVGQzqpw51FsHhcEiSfDD0wBv0c+RSTZFZoFHiTLrb61UqlatWraJC/l7Uz0cQxIMHD86dPPXl53tPtZxou3hpZGiYRqeLxOKHelAIgnC5XKFQiKCo3ekcGRt1BP2eaDgUj7JYrNKysk2bNs2l+BEEQRwOh8FgDA4ODg8P83g8s9k8Ky8P9VULhUKpVIogyNjY2MDAgN/vp7aa4JnZozAMoyhKp9Op2C0qJPphuAWKojweTyqVyuXyh/EYEomEKvsAwzCTyeTxeHw+n8oIpLRZ5mdw/N27dx0OxzNSAXq1/NAAAARBqqqX/uz//P+HPv/iQvvVkNNGZ9DluYZd2zavW79eqVTOkzcgheM4jiMw/N0sOo1Gs379+v7+/hCC6MoKsaolnrEJkiDMGmUMAU6XS6VULq2qyizAi8Ph1NbWUmV75+gz43A427ZtczgcBw4c+Pzzz4VC4eLFizNrSq/Xv/POOyUlJeXl5RkkO2aZ50AQJBQIa+pqWRzO6Lq1geD/Ze+9ouO6rvv/c9v03nsDZjAYNKI3giQAFpAUCYpVsmQ51t+x4jhrxXlKHvLglRU//FfKSvL/6Wc7qpFkShSLKFawEyAJgCDRe+8YtAEwFVNu+T9cC2ZIWaKGBDAE5/OAxbV458y5c+85Z5999v5uD5vJ1Or0aRnpGo1m3SPgI5FIf19fQ119V2dXKBzi8Xk2W1JxcbEpwbLSNw6H43A4jh492tzcPDg4ODc76/d6AQQtTgC5QlFQWFhUVGQ2m2P51HsFHo+HomhTU1N1dbVWq/1B8SdcLjclJYXL5TqdzrGxMYfD8eT+RygU7tixQ6vVZmVl8Xi8GJly4zwGDMOpqal01eix8XGSIBgMBkEQdJBPUVFRXl6eQqFYr8eH4/js7OyFc+frT5/zNnXBOE6i6KBR7ZqeIQkyMzuL3r/RGhp0vIRSqezt7Q1HIiRJslkss9mclZWVkpLyjKOSz+cXFRX19fV99dVXra2te/bsiWIXhCDIpk2b+Hw+n8+ni4HPz8+/9tpr9Bh5lu49C3QcyHp9+wvBS2dD07EQeYUFKIZmbStZXFxkYJhWo83IyjSaTOu+wlEUNTIy0tLY1NbS6g8G2CyW0WTOy8+zJSWt9I3NZickJBw6dKipqWloaKhvcszjXyJJUjgL5Ap5alpafn5+Wlpa1CekEokkPz+fwWDgOD41NUVRlEKhiE7m2WQy7d69e3JysqWl5cKFCxKJJDqpOxaLZTAYZDIZm81eWlry+/30hnjd3ZNxniNSmaxse/k2sjQSidAng+vdIwAAwHF8fGL80rnztafPL7T3UBEc5rA7HIm+paUde3Zbk5JWfNJSqbSiokKhUNy7d49OtQEAsNlsh8NRUFCQnp7+QryuMAybTKbCwsLa2tpbt26lpaWpVKqnj1pmsVipqalyuXx6erq7u9tutz9512w2Ozs7OzMzM5Zz0eIAAFAUTU5Ottlsk5OTzc3NY2NjbDY7MTExNzf3hwb5PHd8Pt+9O3dufXkGaezeByRygLlxom5wpvbk1wiGmizmR/d+MAynpKSkpKQQBBEIBCiK4nA4z3GGkUgk+/fvZ7PZ4XA46oMmGIatVuvbb78tkUg++eSTL774Ynp6+mc/+1l+fr5EIonbsrFJTKxSa49ILC7bsWNrWVk4HKaz9GLhBSUIYmFh4ca1a9Unvx6te0iGQhCDKbKZXM5pULk/KdlOG7IQBPF4vF27dimVyjt37nR1dSkUCpIkmUym1WotLCzMzc19lhBDFEVRFMVxvKen5/79+xwOh/6uKJqiyyUuLi7+x3/8x40bNywWC20HR2FMoCgqEAgCgUBDQ0NHR0d+fn5WVpZAIIiiV3FiGTq/e7178ScWl5bu3q65+Onnsu6x14BEAJBZP37jYde54DIFwwaT6dFzWy6XW1JSUlJSEg6HPR4PLbocC3PL0wNBkEgkysvLy8zMrK6uvnHjRnJyslqtfkrLYCXIsr29vb29vbKy8lu/AkEQ2o9Ix8A875uI8zyBYVilUpWXl+M4TgcAxMIIXVxcvHL+gmxqyQwEIoARALABXASEoSlvf0f3vMv1recndDIcAOD5hlTRO8833niDts4XFhYYDEZ0/mMej7dnzx6FQnH8+PH79+//13/91759+3bs2GEwGOKJQDHIS2pD09CKVOvdiz9BayF/9T+fEbXtB4BIAYRLBFHTOnjRd5ygSJXmF4+GMdBi6fn5+ZFIZHFxkaIooVD4HMdYJBJpaGh49913RSKRSqXaunVrFPMm7fUvKSnp6+s7ceLEV199pdfr8/Pzo56CPR7PrVu3Pvnkk507d/7DP/xDampqdO3EifM0UBQ1OTFx8/wF42zABvh8gAJAiQCyE4gu9092d3S43e5v3YGjKEqXS3hBdSe0Wu2RI0cmJyevXr1qNBp/9KMfPX31BwRB0tLS+vr6Ojs7/X4/nW/02DUej6etre3MmTMVFRVbtmyJndD8OE8CQRBdvGO9O/K/CIdC4yOjJm9QClAUABIABEAigPIoaj7g93o9OEGgT7x4tKLcc+8M7YljMpkkSbpcrosXL+p0utzc3ChqpsAwLJVKi4qKpFKpRqO5efPmJ598MjIyUllZuWnTJjoc+UWcUjYqL8DZ4suDa37+0pkzklFXNuDJAQYDwKeQrZRQOeLqbG6Zd7m+9VMIgohEIrFYHEW4xXfAYDD27t176NAhn8/33nvvtbS0RC3mSmcuFxUVNTc3Hz9+fHBwkD7mjgKxWLxr167y8vLm5ubz588PDw9H106cOE+Jz+cdGxgS+CMSgCEAAAAxAKSkMFYwEvB4PR4PSZJPfooWeMIw7IWI33gSFouVnp6+fft2Fos1NDTk9/uf/rMQBNERIJOTkz09PYFA4MlrCIKYmZm5fv16Q0PDzMzM8+t4nJcFGIa5XF4EQyKAhAEEAQABQAIqBAgCACaTiazH0AsGg+Pj46dOnfroo4/u3r0bnV4uBEECgSA3N/fnP//5j3/8Yx6P9+WXX/7bv/3bmTNnlpaW4gZ0TPFS+6FjjWAoNNjbr/csKwGGAYgEAANADlA+TiwuedxuN0EQT3p06LLyz70zCILodLodO3aMj4/fu3fv4sWLfD7/W6Mbn6Ypq9VaWVnZ399fU1OTmJgolUqjCw6hVUv37NkzPDx8/fp1o9Eok8niaUlxVg8YRhhMJgFDFAAwgChAAQCTgMIBSQGAYdhGffekUum+fftoLecf6idOTU01m83t7e10VuKTogd0TWCPx9PV1TU6Omo2m59fx+O8FAiFwpLtpffGZ9oXR1kA5gBkGZAjYHlOyE2wJkYnpfrsIAjC4XAUCkVLS8vp06cTExNNJlPU564Wi+Xo0aMqlerrr79ua2v74IMPxsfHy8rKHA7HM1YFj/O8eCF9JBsVCAAERSkYogC1srEGABCAIikKgeG1nxQyMjL27t0rk8nOnTt37dq1ubm56NrhcDhFRUWHDh1iMBgXL168d+/et3qnvhcIgmQyWVlZ2Z49e2ZmZk6cOFFXVxevdhZnlaDft8zigmkhox/4fACPAHIJRFqAd1ksUOn1YrH4BfU0fy8Yhlmt1jfffHPfvn0Yho2Pj9PJWN/7QQiClEql1Wrlcrk3b96cnZ198hoOh2PeaVbsAAAgAElEQVQ0Gg0Gw9TU1ODg4Lf68uPE+Q4EQuGOigrd5twFk7KNjXcgy51MvEfFU5UXlO3cLhaJ16VXTCbTaDQeO3bMZrN1dHR8/vnnY2NjOI5H3aBcLt+1a9evfvWrAwcOQBB04sSJDz74oKqqamhoKBgMvgh14TY4G3P2f0Hh8/l5RYVLUm4fCHgAjgPKD4heEJhjYzKdRiaXr/1qzePx8vLyDh06hKLo9PT0D6of/hh8Pr+ysnLfvn2Li4snTpzo6uqK2vbVarWHDx8uLi52uVwDAwPPMkPFifPdaDSa7a/s5WYlD0u5HVi4Fwp1MfFWJceyq2Tzls0bPpCX1tYcHBz88ssv79y5s7Cw8JQftFqtDoejo6NjcHDwW+cNHo+XkZHh9/sHBwdDoVDcGojzg2AymUl2+xs/ezvvzcMDScprSqQ1QWTcV/baOz8r3bFjHfXg2Gx2WVnZrl272Gz2//zP/zQ0NDz9qHkSGIYFAkFmZuZf//Vf//KXv7RYLDdu3PjXf/3XDz/8sK+vz+v1xvef68tLV2MllkFRVCASdo2PTM7O4JGwnyKcGNkpgHmFGTsqX8nIzFyXtFy6WgqXy83IyEhOTo76WAqGYaFQyGAwnE5nS0sLhmEajUYqlUbnXGexWDKZzGKxpKam6vX6GK9b8dzZYDVWYhkMw6RyOV8mWSDDDxedXdCyTyd1VJQefPP1gsJCOsVnvfu4uiwvL9+5c+fjjz/u7OzUaDRPWSYGwzCv11tVVaXT6YxGo0KheOwCgiA8Hk9zczOCIHT5gxfdo7+RaqzEPrS6i0QiSbQn5W4t2VG5b9eBfdt2lDuSHQKBYH1HJYIgdIGzO3fu+P1+g8HwjEUHYRjmcrlarTYlJUUmk42Ojt65c+fBgwd+v18ikcSV776beI2VlwUWm52ann7kp2/dkEoeXr3lnndxRQJrXvauQ6+WlGxer30IhmF6vf7o0aMMBoOuA0wn2kc3aHNycmZmZvr7+0+cOKFWq9VqdXQLBpfLzcvLS09PZzAYEASFw2EURV/0NThODAJBkFAgKNm6RW80lL26PxgOcdkco8loMpl43HXzda0lDAYjISEhPT390qVLZ86cEQqFRUVF3/spuVyelpZmNBobGhroShaPzRi0stDt27chCFpcXFQqlS/bTjjOs8Nmsw0Gg8FgWO+OPI5KpSorK1taWqJruzx7g7To5KZNm6RSqcFguH37dnNz86lTp3p6eoqLi3Nzc81mcyxoDr5sxG3oGAKCIA6HU1RcrNFq88q3+fx+NotlNBitNpt4XSuQwzAsl8txHO/o6Dh//nxBQUFGRsaTjqWngcViFRYWOp3Of/mXf/n666/lcnllZWUUti8t88lms91ud3V1dW9v7549exISEmKkMEecDYZQIExPS09PS6co6o8lVV4axw+Kona7/dixY06ns729/cyZMzKZzGg0fveCzWAw9Hr9jh07bt682draunXrVvn/jkbDMMxgMBw5ciQcDkul0rgBHWcjgaJoQkLC22+/zeFwOBxOIBAIBAIikegZVygMwywWi0ajcTgcVVVVNTU19+7d6+3t7evrKy4uttlsarU6phR7NzzxWI6Yg8FgyOVyu92ekZ7ucDi0Wm2MnBdHIpHu7u733ntvYmJCKpWazebo/L5MJlMikczPz/f393u93oSEBKFQGPXM4vf7q6urT5065ff7dTpd1MEhLxbxWI61B/rfrHd31hQGgyGTyVAU7evrGxwcRBAkMTHxe/Vw6APo+/fvLy0tqdVqs9n8qKFMCwqZzWa6KVpI+4X+YeOxHHEeBcMwgUDAZrNxHO/t7W1tbVUoFM+lviOKokqlMj8/PzU1FcfxxsbGGzduNDU1RSIRqVTK4XAQBImfyq6wqrEc8V85FoEgCH6E9e7OH6GN+6SkpMbGxmvXrvX19UWXBkQ7qI4dO2axWDo7O0+fPj09PR21YjSPx9PpdGw2+/Tp09XV1d8qAhAnTpxnAYIgPp//2muvVVZWUhT1+eefO53O7x2zAoGgoKAgISGBVqIMhUJPXkOLA3q93oWFhbjATpyNB0EQ3d3dn3322b//+79//fXXTqfzebWMIEhSUtJf/dVf/ed//ucvf/lLgUDw+eef/+pXv/rNb35z/fr1xcXFUCgUzzhcbeJ+6DhPCy38brVaq6ur29raUBQtLCyM7gQWwzCz2ezxeFpaWmpra9PT01UqVXQnUHQNcADA1atXPR6PSqVKTEyMnY3HKhH3Q8dZe2AYlslkGRkZdDQX7VH7Ds8xnfW1vLw8NDQ0OjqamJioUCgeiwChKOrmzZu/+c1vxsfHNRrNo6VYXzjifug4TwJBEI7jk5OTdXV1s7OzEolEp9PRaTzP3jKGYUKhUKPR6PV6OvXf6XT29/d3d3f39PR4vV665PjLeXq2wqr6oeM2dJwfAIIg9IAcHR3t7e2lR2/U0VcSiYQgiPr6+pmZGa1WazaboxvkbDZbIBDMz893dXUFg8HExESRSLSxwyvjNnScdYHP56vVaqPRyOVyR0dHnU4nm83+jkIzdI7H6Ohoa2srDMN2u10qlT52QXd395UrV4aGhtLS0iwWy4u70sdt6DhPQvuexGKxx+O5f//+7OysRqPRaDTPMXUHwzA6/jMpKUkmk5EkOTo6Wl9f39/fPz4+vri4iOM4h8NhsVgv7uB6FuI2dJxYAYIgBoMhEolcLtfQ0BBFUZs2bYp6xufxeEwm0+v1NjY2QhCkVqtVKlUU7dCloaRSaX9//+LiolartVgsq1G7MXaI29Bx1gU6iJnFYgWDwcuXL9+6dYuiKKVS+edkN2kDwufzdXZ2Dg4O2u12o9GIYdij1wSDwdnZ2dra2sTERJvN9uK+lnEbOs63Qpdq0ul0o6Ojd+/edbvdZrNZJpM9X0cPgiBisTgjIyMzM9NkMkEQNDU11djYeP/+/bGxMZ/Ph+M4RVH0EH6pjOm4tl2cGAKCIJPJtGvXLgzDMAx7ls00ne//5ptv9vf319XVqVQqi8VC50P80Ka4XG5paeno6Ojg4OAGLr8cJ04sQJKkz+fr7u7+4osv6urqaLGdP2f7IgiSn5/f29v74YcfXr161Wq1pqSkPHqB0Wjctm3b+fPnHz58mJmZuW3btjW5iThx1hSLxfLmm28GAoH+/v779+9brdZVcvQoFIrS0tKsrKz+/v6HDx/ev3+/u7u7u7tbJpM5HI6cnJyUlBSFQsHhcNhs9sZ2Nq0BcRs6zg8GRdH8/PysrCwYhjEMCwaD9NY2iqb4fH56evrhw4c/++yzy5cv2+32rVu3CoXC6Dp29OhRiqLogMtwOAzDcFzqLk6c5w4EQWKx+NVXXw0EAhcuXHjvvfcikcjWrVu/9bCYLv1dXFxcV1fX3NxcX19vMBge1fTg8XhJSUlpaWlDQ0NNTU2bN2+OWn4+TpyYhcViZWdn//jHPx4bG0tNTV0945XOERIIBAqFIikpadu2bT09PQ0NDS0tLRcvXrx9+zYtjZeZmUlHTzGZzA0ZME1rHqz2TcUtjDjRwGAwGAwGSZLT09MPHz4Ui8W5ublRlFGk8/337NkzNjZ24cKF999/X6FQZGZmRqcVT0dmh0Kh/v7+mZkZlUqVmppKa2ZF0VqcOHG+FQiCmExmWlraa6+9FgqFamtrP/74YwzDiouLv3USoC/es2fPhx9+eOnSpYSEhM2bN6/sbxEEUSqVZWVlx48f7+npmZmZUSqV8d1vnI2HQCDYsmVLJBLhcrkIgkxMTEgkktULXmIymVqtVqvVpqen5+Tk9Pb2dnd3d3R0DAwM9PT03Lp1S6/XJyQk2Gw2q9WamJioVqs3Rh4RjuMul2tmZsblcoXD4fb2doIgVskMiM9TcaInFAq1tbWdOHFCLBaz2Wy6auAPbQSGYb1ev3fv3omJiWvXrp07d04sFiclJUXRH3qQeL3ey5cvt7a25ubmGgwGeraKorU4ceJ8BzweLzc3F8OwUChUV1en0+ksFovBYPjW4SaTycrKyhobG2tqaqqqqiwWi16vX1nVuFzuzp07A4EArYUf3/TG2ZDAMMzn8+nCun19fadOnUpJSSksLNRqtav6vSwWKzk52W63b9u2bXBwsLOzs7Ozc2RkxOl0Dg0N1dbWajQas9lssVjUarVcLpfJZFKp9FnqNqwNJEkGAgGv1+vz+Twej9fr9Xq9S0tLCwsLs7OzMzMzCwsLdBnUJ+ukPi9i+geKE+PAMIwgiNvtfvDgAV3RVK/XR9EOgiDZ2dmvvvrq0NDQtWvXDAaDUqmMOrEGhmEmk9nT0zM1NWUymXbu3PniZinFiRPL0A7mn/70pyKRSCqV4jj+HQuVXq/fs2dPb29vdXV1SkrK/v37V6K26Oprb731FoZhjwl3xImzkaAHSCgUGh0dvXz58oMHDwKBwCuvvCISiVZVkpXemopEooyMjOTk5H379o2NjXV1dbW3t/f19TmdzoGBAQCARCLRaDQmkykhIUGv18vlcjabzWQyWSwWk8lkMpkMBmONpWMJgsBxPBQK4TgeiUTC3xAKhTwez9zc3MzMzPT09Pz8vMvlcrlcbrc7HA4jCIKiKJPJ1Gg0q5pDGbeh40QPk8nMyck5fPjwb3/725s3b1oslkOHDkVXh4lOS/rJT37ywQcfXLhwQavV7tixI4rgEACASCQ6cuTI5ORkVVXVBx98oNPpUlNTo2sqTpw43w2Hw8nJydFqtSwWSyaT+Xw+n88nFAqfrK7K5XLz8/O3bdt25syZK1eu2Gy27OzsFUcXiqJyuTwcDs/MzASDQZlM9lwqusWJE4Pw+Xy73V5YWHj+/PkTJ04IhcLdu3evQXofLSmNYRiXyxWJRHa7fe/evX6/f3x8vLOzs6mpqbOzs6am5vz587SOrUKhoCuJWiwWk8lkMBhUKhXtSl/trtLgOO7z+WhD2el0Op3Oqakp+u/U1BRtLuM4juM4m82WyWQajSYlJUWv15tMJqPRqNVq1Wr18ePHh4eHV6ncTNyGjvNMCASCnTt3jo+Pnzlz5syZM3a7PT09PQqDFYZhtVpdXl7e2dlZXV1Nm9EOhyO6phQKxSuvvDI7O1tdXX327Fkej2e3239oO3HixHka+Hw+rV66uLjY0NBQVVV16NCh/Pz8xzTsIAhSqVTHjh0bHR1tbGw8ffq02WxWKBSPXjA0NHT69Om5ubmf/vSnWVlZa30nceKsFRqN5p133olEIrW1tR988AGfz8/KylpLWUMYhlksFovFEgqFUqnUbDYXFRUtLCzMz887nc6RkZGxsbGZmZmhoaHOzk4IgrhcLpfL5fF49KGTVCoVi8UikUgoFPL5fB6Px+VyV5zWDAYDw7DHSo5TFEWSJEEQ4XA4EomEQqFQKBQIBILBoN/v9/l8fr/f6/V6PB6Px+N2u5eWljwej8/nW15eDgaDgUCALmXK4XA4HI7RaBSLxXK5XKFQKBQKiUSy0g0ej7fSn5X4mVX6GeM2dJxnAkEQjUZz8OBBp9N57dq1Tz/99J133oku9ohWzTt69OjIyMjly5eVSqVarVar1VG0g6JoVlYWXbGJzmFSq9VRy33EiRPnaYhEImNjY1VVVVNTUz6fr6ys7DHXGoZh9Dny7Ozs7du3s7KyysvL5XL5ygUoivp8vjt37tA+JKVSueY3ESfOWsBisZKSko4dO4bj+L179z799FMul/voycxawmQyFQoFPRIJgvB4PLOzs9PT07Ozs3Nzc3SYxNLSktvt9vl8CwsLIyMjMAzTSy2LxaILuKzEe9CityiK0gI7K8YARVEURREEEYlEaOdxKBQKh8PBYDAUCgWDweXl5XA4TF9Gu43pkhQCgUCr1fJ4PHq7LhQKBQKBSCSijXj6H4+p4j5qgdACHatE3IaO8xyw2WwHDhzgcrk2m42uvB0dKIqmpaUdOXLE6XRWVVWZzebDhw9HV6CHy+WWlJQsLy83NjZqtdrohD7ixInz9LDZ7ISEhPz8/IcPH/7hD38gCKKsrOwxwTtavmNkZOTkyZNffPGFSCQqKSlZKRuuVquzs7Pv3LlTXV2dnp5eXl5OL9Xrd09xXhZIkvR6vS6Xy+/3kyTJZrMlEolQKHzsOOU5AkFQcXExbUcODw8vLi6uUrzB0/cHAICiqEQikUgkdrudtj5xHHe73dPT006nc2ZmZsWqXlhYcLvdHo/H5XLRZjHxDSRJkiRJW8MAgBV1LAiC4G+gvdS0qU3/xTCMw+EIBAKhULhiHNOdkUqlMplMJBKtBInFyLQQt6HjPAcwDMvMzKQ3snK5nN5rRifyyuPxtm7dOjQ0dO7cOdqFnJubG0U5cfrgePfu3Q6Hw2w2YxhGEER8PY4TZ/Xg8Xg5OTlsNhvH8dbWVr/fz+Px0tPTRSLRo+NOq9Vu3759cHDw3Llz9BlRWloaPTbpE+2MjIy7d+/euXPHbrdrtdq4rs5qQzsFKQBo/+F6d2cdiEQic3NzbW1ttbW1o6Oj4XBYp9Pl5+dnZ2frdLrVM6NhGC4uLk5ISOjv78/IyKDXqdhRa6b7gGGYTCaTSCTJycnU/yYSidBSGHQABh2Psby8TG8MaMN6xQ1MW8y0MC6TyWSz2Ww2mw66oO1mHo/HYrHoqYD+ajoU5Ml/xw4v42iJsxrQYwyGYZfLNT8/DwBISEiIYuqhg0P27dvndDobGhrOnj0rkUiSkpKiaIoOjJbJZDiODw0NLS8vq9VqiUQSX5LXi5XJNNbmwTjPBbqyd3Z29t/+7d++9957Fy9e/Md//Md//ud/LioqenT8QhDkcDjeeuutlpaWCxcuCIXCxMTEFVU7k8l04MCB7u7uCxcuJCYmHj58OJ5cuHqEw+GFxcW+np6hgQESJyxWqzXJplAonpxvcRzHcYKiKASBURRdY3GGVSUUCtXU1Fy6dGl0dFSlUsnlcgiCgsvBr858VVVVVVFRsX37dqFQuEqzFovF0mq1YrGYxWKNjIxMTEzI5XK9Xh9rr/23PnHaFJZIJLRoxooH+lE/9KPTPm0fr/xd8UPTTmgURV+4pWEj29AUoAB40R7ICwsEQbRteuHChWvXrkkkkl//+tcSiSSKIUFHM1dWVtIHvlarVS6XRxcZSQ/U+fn53/3ud729va+99tr+/fufJdokTnREIhG3293X1zc+NgZDkDUpyWQyfeuy9Ggk3EZap1egKIo+G11cXIQgSCqV8ni81XN0rT0MBiM5OfnNN9/U6/UjIyMikehJ1yaLxbLb7b/4xS8+/vjjW7du6XS6gwcP0glVdMx0WVnZqVOnWltby8rKYs2Y2DCEQqGOjo7r16511z2AZhcBSdWoJY78nJKtW/MLCh4dfV6vd2hwcKCvP+D3y5RyhyNVpVZtjAA5iqIePHhQU1MzODAYWl7ucbnYMIrBsDcShhEEYzFramo4HM7WrVtX6T2kQ34ZDEYwGGxsbDxz5ozZbD506FBGRkbsu3vokOiX8+yCZgPeOR0RPzg4ODIyQhGEJTHRbDZ/q/giSVHgm2qQL9zu5ykhSdLj8SwuLkYiEalUyufzV1tAhy6dcO/evVOnTu3du1en00XXTnZ29uHDhycmJk6ePCkSiQ4cOBBFRAcAgE4oVqvVt2/fPn/+vMlkys3N3Riz/4tCIBDo7emprr491NgWnlkAEKgz6zLyc/ILC+3JySuXURTl9XrHxsbGR8dwPCJXyBOttm+1wF5cSJKcnpysr7/f19PrcS1QgJKqlKnpaQVFRWuZkr/a8Hi8zMxMuVw+MTGh1WrD4bDP56MT5OmnCUGQUCisqKgYGRm5du3a6dOnjUZjdnY2/SMoFIrdu3cjCKLT6eKqlKvH3Pz8pXPnr390nD3uNAEOAsAICF5r7/Z5vLakJJFYjMAwAGBxafHGtRuNd2vHW9ojHj9fq27Mzdixu8LhcPB5vMfapACgo4oBAEKhUCQUxvJOmKKoYDB4+fLlrq4usUDg9vmJ9iHgDpAAppgI02GWabR01YLU1NTV3stBEERR1NjY2IMHD+i4JqvVuqrfGOfZ2TiLEw1d5/ne3Ts9DU3BqTlAUbUGdVpedl5BQUpq6qOGciAQGB8fHxsZDYeCYqk0ISFBKpNtpNWaoqgFl+tBQ0NPV8/C7CyJ4zypxG635xcWqDWa1fve5OTk7Ozs3t7eU6dOaTQaWvgminYUCsWWLVv6+/vPnz9PF14pKiqKbqvD5XK3bt3a3d3d3Nx85swZmUxmtVpjf4u/YXBOT58/c/byx59xJ+f1gEMBqgOq7m1q9vn9ZosFwzB6lV1YXLhfV//wbu3gwxY8HFYlmtNLijeXbKa1h59s1uv1en0+BIbpiLo1v61oWHDN19679+F//V9Xey9rOUyQZEjAadtayGQw8goLX5S7eBr4fH5ycnJycjJJkt3d3S0tLRwOJy8vT6PRrARZqtXqffv2zc/PX7hw4dSpU3Q4NYIgbDY7OzvbbrfTVRKCweDaV3bY8ITCof7evpbbdw3ji1uAkglgAKBsQN4aW+ypf9jS0pKXl8fn830+X0Nt/af/8X+WOwbMQYhDgrme0a/v3HNNTh/9izcfc1cHlpcHBvq72jrGBocoilIZdHaHw2azPRYQHzuEw+GJiYnx8XHPkpsTIYNNPdv8DB0lgSlobhlvHpj283heEJmZmRkZGVGpVKvqgWIwGOXl5RAEvfvuu+fOnUNR9Ec/+pHJZFoD3eg4UbNxTEaaeZer6sLFcx98Ag2MmQAHAqADBLsfPFxYWDCZzRwOhx7wXq/3QUPDg7u1fQ8ag16/3GRI21y4eUuJwWB40tlJUVQgEPD5fACCuBwOl8uNzengMTweT2tz84f/5/+ONbQgS34EQD4GZCnIIiLhHbt38wWCVboLjUZTWlo6Pj7+ySefXL16ValU5uXlRdeUXq9/4403BgcHW1pavvrqK6vVKpFIotjnoCiam5vrcrmmpqbOnTtntVoFAoFarX4hnuOLTjgc7u7srL9yLX0ykAkUTAADQOVRvOtdY40194pLSux2O4vFCgQCNbduv/9v/xnpHTMESA4Fhpt6b1+5NvtXf7nv8MHH5L2DweDExERnR8f40AjGwPRmk8ORolKrYtxnSZDk/fsNl06eBm0DB5Y5CkoAUWDIG+5+2PX5x59w+Pzc3NyNZynS+YW///3vcRx/++239+zZ8+jQy8jIqKysnJiYuHLlilKpFIvFNpsNAIAgCJ/Pj0QiU1NT/f39drtdqVTG973PEZ/PP9zfj7n9aoAJAEICQAHAAIgSh6dnl9paWlJTU3k83uDgwLXzF5hDTocHmAETAsCPk/JgsPPy9boE06bMzJUVMxhcbn748PP3PxpubOP5I4Ail3ksplbx2ttvle3cKRaL1/d+v5Xl5eXu7m6BQDCKR8ZaOkt8iJJEmACGAJABNNEbvtnW7U/UCIXC4eHhtLS0VTVn6TqCW7ZsWV5e/uyzz06ePAlB0FtvvWU0GjfetLBhQH7961+vXustLS3z8/MFBQXReSJ/KJFIpKWl5eT7HylahiuAJBGwTYDpAJwp9+IMgluS7VKpFMOw4PLy/fr6/+83/2/Xxev8vine+MJ039DVO7fDAKg0aoVS8ahpFYlEJicnmxoba2vu9nR1uhYWUAxjs9mxH7/48MHDs8e/GLl+r9SNbCF5mSTHSGAzHvfg4hxfITObTKu3IIlEIplM1t3d3dPTQ2teRqfRgaKoWCyGYXhgYKCrq0sqlarVat4Tp4ffC/3VYrEYgqDm5ubR0VGdTpeQkPDiLsnd3d3j4+MFBQVRBAA8ePDA6/UWFhauTQn02bnZ+uqasbsPEhdCWsBEAYQAiAngBSIc4jFZWqXNZmNgWEtry6UTJwN1bWmuSBLOUBKIJAyYgXDn/JREr0lNT195f4LLy/fr6j9693c1Zy5M1zcPN7Y1NjU2t7XK5HKFShnLR0kkRVw4c7bp9MXcRaCjGBwAMwDEpqBIMFQ/M+YozHMkJ2+8xRKCIBaLRU/OdD1hhULB5XLp0YcgCF3iob29fXBwEIZhm81Ge50hCJqbm6OrjcIwrFQqBau2838u3Lp1q6ysLOqPd3Z2Tk5O5ufnr01Uj9frbWtqmmzukM/6VIBBAAAAgAHkAoRPxOZaDZnZWTwe7+GDB6ff+8g6s2zDMTFAMQBzASIBWLN/nptoyMzN4fF49EMZ6B/8w+/fH71SoxuaS17Cle4Qf97TNz62jEFipcJoMsXgs/N6vW1tbR6PZ2Jiwt03XIrzeACBAEQBgAGIoqiHwTlCLbXbbBwOJzk5eQ3CObhcrkajYbPZDQ0Nk5OTRqMx7op+RlpbW2dnZ4uKiqIwHr6X2F1vosDt8Qz19qEur5rCJAClAKAAxAKQOgjmJ+aaGxsTEhLYbHb/wMCN8xfhvrHMedxEMWEAPGFC6scfnr2oNWiTku0r72s4HG5rafny088Gm9oZnmVAUriYIzTojv74R0UlJavxPJ4jgwMDndW1m9yUhkD5AIEAUFOofylcU/ewpTi/vLx89TYBTCYzMTHx5z//+enTpyORiM/niy7+GIIgJpNZXl4+Pj7+5Zdfvvfee0qlki5BFEVrEomksLBwbGyst7c3FAqtrxLny0MwGPJ5vCwSsAGCAAgHFAAABoBLIcuB8MLCAp3A3dXV3XWn3uHBEwCTDxAKACFABCTyh/7hkaFhr9f7R/uJonp6ei6eODl86aZqxq8GGA6oOYRs6+zVKNUCkTA9I2O97/jPQ4K5+fmAc84MFEwAUQBQAPAAoohEZp1TSx73qtYCWC9gGDabzUeOHIEg6PTp0x988IHH4zl48GBiYiK94ZHJZFu2bHE6nZ988gmd/HD48GHajuRyuQwGY2ho6Pjx41KpdLUP0zcq9Fz32PaMz+PpzSY/E5kGy3bARgAEAUACagaE/EJ2Smoqh8MFFAgFQ/4lNwuHEIDgAFAAQACwAIUJPKcAACAASURBVAwTJF0ng7aMcRwfHhupv1WdMRvIBjwRQEkAlikyHCaH6hobkmwlW7fG4P4QQRCRSOT1ekmC4EvEczMRDgWzAQQBgAPggUkOV+iDIL/fz+Vy12x/LpPJdu3aFQwGvV6v0WiMZb9AnA31bMLhsMftZhAUFyAIgCJ/XK0pDkCwID4/P0/gOEVRQ0NDD2/V2BZDiRRTClACABGFigHaPTQ21D+4tLQkk8no0T42Onr+xKmec9eFY/MGwCQBtQCTHa09t8QSkVicm58fgxvrFRYWF+YnnSZCyAUwvVqzAawkYJ9rZmZ+jiCI1ftq+kxq+/btcrmcw+FwudxnmT3lcvmOHTtmZ2d///vff/XVV0KhsKCgILpemc3m1157bWpqKj4xrRkCAV+qUnpgagmECcBEAAwAhQPKBcK4kGMxmxkYRlLk0tKSZ3qOH2GgACIAoACAASSgEChCBkPBUDAIBAIAAE4QrR3tDVdvpbvCWYBPW9tugiAWva03q3VWc0zb0ACw2WyUw3IHCAWAYQAgACKAWoYBm8VlMTZsniuGYYmJiW+99RYEQR9//PGZM2fkcvmjpUPFYvGhQ4dmZ2e/+OKL//7v/1YoFKWlpXRNsry8vD179pw4caKqqspkMmVnZ6/vvbxAeDweWivN5XIRBMFms2UymclkUqvVdLXkpGSHKTtjYGiybsEjg5gwAPNUaFYtsGSnZeXmcjgcAAGpTGp0JM829ik8OA+gAFAhQM1AEYLNFohEKyfMBEl6fD6Pa0GCY1yAhAAFAIAAMAFmr3N+emqKjMn9IYfDsdls586dY7E5srTkBwuNyxFKQ2EoALMA72OSijQ7gwUH/H6j0bg2B3cAAAiCZDLZwYMHIQji8XjBYLC9vV2hUGg0mviyFWtsqOfB5XIVapUfhRZBCAdsGEAQoCgAXCAc5DEtFguTyaQoyuPxuCanBWGEAdCVjTUfIEiEDIaCwVCIbo0giL6BgdsXL9ud3hwgkAKUBMBPksDn6a2uvZ9oys7LQ2LYhmYxmSwO2xsg+ADG/uhjAMuAwlAW539XDlsNEAQRi8Xbtm0DALjd7t7eXqlUKhaLowufcDgclZWVzc3Nd+/eVavVZrM5Oqk7DofjcDgcDgdFUbOzs5OTk3a7fc1mxpcTsUjsSE+7nZzQPzEHBf0iwKAANQfC80pe0iZHTm4uk8WiKFKhUEhN+vm+GXWQYAEYAEAv1RSbwePzOd+cF0ciEdfion/epcLZTADTSzUKoCSKeXNkfGpiap3v9juBICg5Obk3M7X+XtsmwJUAFAJgEoQGuMimvHyj3hDLe/JnR6lUvv766ywWq7W1dUXBkAaCIIlEcuDAAZ/Pd/bs2c8++4zBYGzdupXNZut0utdff31wcLC9vf306dMajUYmk8V+KN36QpLk4uJia2vr7du3m5ubJycmwpGIQCAwGo35+fklJSV2u53L5Wp12t2V+094PO31jXISgSlqBuUkFeeX796t0+sxFKUoymg2Fe3efmfWNdQ3g+IRFILcENGF4dIUa1JSEp/P/2P9CwhCYRhFMRICBAVolwkJQBhQMIZhDCw232wmk2mxWNRqdSgY5LDZXVoh6iPcQcAgqCkmOiNlWa1GLBSSSKWJiYlrmW6BIIhUKoUgKBgMjo2NffDBB6mpqRUVFSaTKV4pLKbYUDa0gM93pKVJkxNHBidYAa8EMCAAFkB4WsrWpSXlFRRwuFwAgEQiUVmMrq5JFU5wAUIBKgIoF4jgLIzH43O/qSSJ4/iCe2lxdk4ZwXgACX6zsU4CrPEx5/joGIjJjfUKFovFnpf94EptOsFSAQwBkAuEe5ikLi01LTkFRdbo0Ucikd7e3jNnziQnJ2/fvl2r1UbRCIZhSUlJ77zzzrvvvnvnzh2dTnfkyJGV6TsK5ufn6+rqzp49+/bbb2/atCmuGP2MEAQRiUSCoRAgKRRDmUzmipUDw7DVaq04dOBLt6ehb1hKYYACTgx1bCvatn27Wq1GUZQgcLvDkVK6uW+xSjTphygEAmABxjsZuMpuNZvMnG/ylujnDX1zqgEBQP1RCR4ACI5xOXgYhrPzcifGxr4cGUH9QBkkAQAjDBi3aQ++dsTh2IDB0I9Cl086duzYzp07uVwuk8mcm5uDIIj2iaIoarPZDhw44Ha76+vrT58+LRKJsrOz6TjUgwcPHj9+/MGDB83NzUUbSwdwNfD5fF9//fWFCxeYTKbNZpOJxcvLQbFUyuPzqqqqBgcHKysrt2/fzuVwSrZusdmT2tva+rt7CZywpyY7UlM1Gg32jQShyWTeV1k5OjBUvXjp3uwcD2V6EQpI+H/15tHyXTtX3KIYhskkUoVO4/Q5NcsRBWBQgCIgqpNa5iRaE6zW2DT76GD9ysrKTz/9tLGpadfhA/75hdmx8XAgqEmwaEW8lvY2pUJZUVEhl8vXvm8AgFAoNDU11dDQUFNTMz8//3d/93crAehxYoEXz4YmSTISDofCYYqi6LqRK6s1BEFGo3HXq/tPLi3Vt3YrAQZR1BQMWQpzS3ftNBgMDAaDJEmzxZKzfVur65xg1M0gYASC3BDRieIim9mSYH7UMoMAgMGfXlb6X7Sg9BrfdRQ4UlNLKvf+vq8PdQUXgwSDABMMaEknLa/cXVRUiGJr9Ohpj0h9fX1zc7NAIHjllVeiqEVEu6nKy8tbW1uvXr369ddf2+32jIyMqEPSA4HA0NBQdXW1QCDAMKygoCA+Kz0L/kCgs7Ozvq42EiESExNzcnMMev3K/0ql0t2vvJJgT2p92DQ1MgZD8L5Ue9qmTWajiV6DYRhxJCfvrtw/MTx8YaFG6I9gCOZBKVIi+sVbrxdt3rxiXGIMhkwi5UokzoBfjRN8gFIABADVDYdEZrvWEM0Obc2AIMhoMr167KhUqai/eqOvqw9AkDU7Y3PFji2lpTKpdMO/hCiKqlQqlUoFAKCjs3AcLykp2b59OwCAzWbn5OQAABYWFmpqathsNpfLpdUhKisrZ2Zm2tvbHy0dHOdbCQaDLS0tTU1NPq+XDIf76h8K5/0sgpjnjI6IuSKFbGR4uLa2NjExUafTcTgco9EoFApTUlNJipJKJAKB4NGAARiC9AbDT37+s9ziwsmhkUgoxJOIDWZTdk6OQql89I21Wq373jh25cM/XOkbN1JMCJAuDAyykD2lm4u3bHnyBJKiqKWlpa7Ozt7Obp/PozOZUtPSzGbz2h8yJCcnHzhwQCqVDg8PjwwP+/1+iKLm+nsMRmN+Xn5xcXFWVtZ6lRTgcDh2u/3tt98+derUpUuXAAA/+clPdDpdPKgjRnjxdDn8AX9Xd9elixfq6uvnXS4+n/+oT4LJZGp1uqRNGYqkBKZeLU23bz366r4jh3Jyc2l7iw7VFYrFnSNDtZP93cGlPjjcjCyPi7FXf/YXFXv3SuWyleLsUxOTjXfvsTxBKQnxAAoDEAZkK/BHbPpNpSV5BTEdD83j8ZRajc5qcaPUCLHs5GOKosyKH7++u3K/aQ21cuhinrQZPTMzo9fr1Wp1FBEdMAyzWCyFQjE2Nnbr1q1AIJCamiqTyaLrFZPJDIVCPT09TU1NfD4/KSkpxjNEHyOmdDk62tvPnjp95dSZsWt3Z1q6+ru7u0eGSAAkEjGte0X7GrUajUavsyRZUzalZWVnG/T6FVUsutiVSCSUqlVyW4I0yazOTE0t37rz0IHyXTs0Wi2M/PF1hWAYQxC3z9c+PDjt93oBMQZCnQy8jweVvnawvGKXXKF4rHsURbk9ntbW1nv37rY0NS25l5gs9no9bgRBBAKBwWjSmI22nE2ZW4s3by/PzsmRyWSxPJmsBj6fr6amprq6emhoCEEQvV7PYDBQFJXJZBwOZ3x8vLGxMRwOq1QqmUzGZrOlUmlSUpLdbpdKpbGpqBMjuhwLCwuXLl2anJoiInhoZErQO6lz+iSLy/C8Z3nJvcxjoBwOjMAQBFmtVgzDIAiiyzVLJRI2m/3k0oCiqFKlMickmBITEpPtmTnZmVlZUpnssafAZrPFclmEhYYF7LCIg2tlrIyklPKSXfv3paSlPmYZRyKRoaGh69eu3jh9ru/GnYmG1tGhYefcbAjHDUbjGocrMJlMOmMVhmG+QKDVag0mk9FkTEtPKy0tzcnJkUgk63VGhCAIj8fT6XQURY2Ojj548IDBYMhksuhqAL+cxHU5/kR/X9/Na9db6u57O/pBBO9SSBrS75Xu2J6XnyeTywEAMAyLxeLc7GyT0TA7O0dRlFqlEovFj27aMAyzJ9vf+Pn/48jNmh4eJSM4RyzUm0zbykr1JuPKewnDsN1u33HoQO3x00sjcwaIBShyDqW6GeT2bcVFmzd/6xvs8/kGBgaGBgYCgYBaq01KStJqtevyriMIolIqKyoqTAbj1NREOBJRqzTWpCS5XLaW0wEMw3q9ft++fWNjY7W1tSdPnpTL5dHpykEQZLPZ9u/f73Q6a2pq7HY7n8+PLjiEzWZnZmb+5V/+5b/+67/evHlTo9G8+eab9HISRWsvLXQVzFs3bt78w5dY34TeT8EAmhuY7OgZXJibk0jEWY/UB4VhWKNWq1Uq8GcqgwpFom2lpZsyM6edToIgxGKxWqN5rLgGBEBCYmLF4VfDFDHV0TO34KMgCFWKi8z6rRU7ExITH2szHA6Pj43V1td31Nyb7x0mwiGpLSE5NyunqHBTViZFUWv/xBEEkUolhUVF1DdFUjd2CMefg8PhlJaWzs7OdnV1ffjhh5FIpKioSKPRcDickpISj8fz/vvv37hxQyAQsFgsk8lks9msVitdyM3tdguFQovFst43EYv4fL7W1lYmk8nDmPjgVMEyWwEwCgCCpCY94eONbbmv7olEIvfu3auoqHjKjTQMwwI+X/CdvjA6Gkfzi190bu3s6uwCFDAYDXTtySdHmdfrvX3z5qn3Pgq39CURLCmAJ3tGqh40DQ4MJCXb1Wr1GguwCIXCTZs2ZWRkuN1ut9uN47hYLH7MJb9eoCiq0+kOHTqEIMjvf//7U6dO6fX6hISEl3PeiDXW//14SiiK8vl8d2pqrnz6BdQzavASGIBdA1Pd3QOzU1NCoUAskayYZTAMK+QKuUwO/sxqzePxSkpK0jIypqemgqGQWCxWq9VPbsG1Wu3ugwdCkchwU9ucyw1IipKJcoya0ld2JyXbH2sWx/GpqamHDx403b4z09Uf8vlFFkNSblZ2QX5uft665AHQdQqyc3OyqGyKomAYXpduoCialJS0d+/ewcHBu3fvJicny+Xy6CT3GQxGbm7u7Ozs7373u+vXrxsMhj179nC+CWH/QYjF4rKysvb29itXrly8eDE1NTU1NTWeX/iDCIXDQ0NDTfUNUPfo5gCTFpQMh6jeSf+NWzW95eVWm21FewH8mcH46P8ymUylUkmHHv65i1lMZkFhodliaWpsHOjrZzAYCdbE7JwckUj05Cmwy+W6fvXqifc/QrrHzDjKoaD+9r7m2rqRsVFzgmUt9aoeBYKg2PSkriU8Hq+8vJzD4Xz++eeXLl169913cRyvqKgQi8UymWz//v0ej+ejjz46e/asWCzet2+fSqVCECQUCtXW1j58+DAxMfEnP/nJM2r+bEhCodDk1CSXw9PgMBdH2ACGvhG64VGomWKxcMrpchE4/tzVmWgdiazMrPTUdAABBEH+nGNiyum8ffkqp3lwNyUSABQBIJUAD5eWp3uHr1RV7a+spAN+1hi6BD2fz19ZLte+D38OjUazb98+kUhUXV3N4/Fiqm8vMy+MDR2JREZGRhrvN0Q6h0p9qAJwKADCYWpkNnT+1p3u8jK7wyGVSleu/+7VGgCAMRhymUwqkXzHxQwGI2PTJq1O19rS0tXRBUOQ0WLOzcuVy+VPrtZer7fm9u3P3//I97ArMYyIKHiyo7+97n5fT7c5wSKRSNYllzxGVmuBQFBaWtrX13f27NmOjo7du3dHZ0NDECSXy7du3TowMHD58uWLFy/qdLrMzMwoMqZp5ZBjx465XK62trbGxkaLxRK3oX8QwWCws7MzMjypCUE8gCAAogBgAUgOMPUyGO8bnHI6H7Whn5LvXR7osNqy8vLizZshGGZg2J/bR42Mjl48dVbdNp5JcIQAgQGUHCDrpjzDTe23b98uLS2Np5OuF3QAT25uLofDkUgkx48f/+yzzzgczv79+2lT5sc//jEA4JNPPnn33XfZbPbOnTvVajVdNba1tbWtrc1gMGzZsiWeX/gkMASjCAwomIThleBxCAAKAhEYUBAMwzC1Ov4UCIIYDMZ3e5FD4dDU+ER4ySMjYTlAIQABABAKKCOwd3qpsba+tLR0XWxoEDMr5pPAMKxWq3fu3Jmenq5UKiORiNvtpjctcZmadeSFsaHp6FVf/6g2BPgAXVmtZRSmCxNTfQPjExOP2tBPyfeu1giCyOXyzVtKcnPzAAAYA1spGP4YTqfzytcXsPquPRG2CKAYgFKWqQfT/qm2nuvXr+/atSvq4N2NgUgkOnLkSF5eHu1nirodumTD4cOH6aRAuVyu0Wj0en0U+3IYhmnZ2oWFhfT09CisvZcdiqJICkAQDP3p14cAABBEQYCiyD8qZqwCCIJwudzvLhvmDwSmxiciriUNAasARucHsyhYF4qMjTof1NYV5ObFbej1hcViJSUlHTlyRCAQ8Pl8o9EIQRBJknTiyp49ewKBwPHjxz/++GMcx1955RWZTFZUVNTf319VVfXZZ58JBIL8/PyVwPo4AAAGg6HRaDAU87kWl6CQF8BCgCAABAG5QEWmqJCCwkUiEYfNXi9jkSDIUCgECJIBYARAtMYhXRoQDeMet5vA8XXpWIzDYDAUCoVCoSBJsq2t7fr160KhsLy8PB7UtI68MDY0AICiKEABCEDQN5pWEAAAAhSMUBSgqNUqOwfDMIfN4bC/y0MZDocnxycCcy55hNIABgIgAACHAtowEp5y3b9ztzC/4CW3oREEMRgMSqUSQRAURZ1OJ5fLjU6fjpZLO3To0MzMzPXr100m09GjR6PTHmIwGMnJyQRB8Pn8cDjs8XgYDEZcPOgpYTAZRrMJlYvmoIgfoEwAQwCEALVIRRYRRKZRS6I6bXhehMPhZb8fIUkWQNBvlmoIADYJwf7g/Px8hIgv1esPj8dzOBy0eLxQKHS73SMjI0KhUK1WJyQk7N+/3+fznThx4quvvmIwGAcOHLBarXv37p2amqqrqzt//rxYLE5LS4sfba8gEAgyMzO7urq8EBkxq9sGZxfCOAOCFwE+yYElKdZFv88glxUXF69X0UcmgyGVySgWYx6EfQDnARQGEAHAPIh4+HxHqoOzyiW1X3RIkpybm7tx44bL5fJ4PD/60Y/UavV6d+ol5YWZdzAM0+v1bLVsHib8gKC+KfHlBvg8FJGolVLpelqoERz3+30QQbABgn0jh0cBwKIgbDk8PzuH45F17F4sQCtxCoVCGIa7uro+/fTTO3fuLC4uRtcan8/fvHlzRUUFSZJVVVUPHjwIBoPR9UogEIjFYr/ff/PmzRMnTrS1ta1qEceNBJvFTk9L02WmuhS8brA8DkKTINwHAgNMnJOgT0pPVSnX50CWhsVi8YSCMAq5AR4GJAwADAAFwBJFRHgcrVGPxQtHxwYYhhkMBq1Wy+PxxsfHT5w4cfr06e7u7kgkYrPZ3nnnnV27dvX19X300Ud1dXXBYLCoqOjNN9/UarVVVVX37t3zeDxxwbsVBAJBbm4ugiAUQUgciQOJsqZEcYtN1pogmbTIrBlpEATJpNLi4uL10mtDEMRoMto3pXs10odQYAAER0GoC/iGBRgr3Vaxd69YIlmXjr0oIAiSkpLy6quvMhiMEydOfP7552NjY/Fla114YfzQTCYzxZFizs4YrH/YPe5ZJkkMwAsgMoyRDLPWmp6qi0qf4XmBoahAJCIw1A3wECAYAKE95R5ABDgMg8nIWMMSRzGO3+/v6Oj47W9/m5eXx2azS0tLo3P6yuXygwcPTk5OXr9+/dSpUxaLxWazRe2O8ng8VVVVN2/efOWVV+jlPO7Z+l5gGBYIBK/uryT9wftXro14QhAELaMcUYLxFz9/2263r2/32CyWyWLRWhNH+qe4/mU1YMAAWgKRYSEiTrftqtj9HDU34zwXCIJYXl7u7e3t7+/v7+9//fXXN23apFAofvnLX7LZ7MuXL//TP/3T3//93xcWFhYVFf3N3/zNmTNnlpeXPR5PPCp6BSaTmZycXF5efvHixbm5ucScTBGXh0LwMh5e8niGhodzcnLKysrWSzCKRiaTVR4+GPR4m25UjwYjTBIskpQuK71s/9609HQ2iwUAoCiKIAg6vS82Y5TXCwiCFApFRUWF3+8/efLk8ePHIQg6cuTI+j7Tl5MXRh8agiCMgQmFAj8E2jyz4wxqXMQYkbBAquWnf/PX+QX56xvXSI/w7u6eseFhMhhGABQC1BwId3IoKMv++s/+wmJJWK9Nf6zBYrF4PN7w8HB7e7vP50tLS4suyxiGYZFIxGQyJyYm2tra2Gy2RqMRCoXRTSIMBgOCoJ6envb2di6Xa7FYvjvWdn2JHX1oGIaFQqHBYk5ITZEmGE3Z6fm7t+8+9GpObo5YLF73fQiLxeLy+YOzzl7/4iSDGmODLhYhK8goe3XfttJtLBYLhmG67jStcxdfgdYXWquYw+E4nc6HDx9OT09zuVytVqtQKEQiEY7jd+/enZ2dFQgEiYmJWq3WZrNlZGQolUo6inp9yyDHiD40AIDFYmm1Wq1Wy2KxvF7v4Mjw5IyTogCdhVlRUZGamrpegRw0KIrKFQqLw27KSFWm2NSbUooO7N198EBBYcHKvEEQxNz8/JLbjX1fkuJLCO2/0Gg0KIo2NDS0t7czGAyHw7GWBclfFOL60H8EhmFrovX1v3gruyBvuLcPD4VFCrnFZqVj6da7d0ChUO4/cvCk29N8p74/TDIpsEAQsk2OLXt3bdqUuWKQrazW625erBcIgqhUqjfeeMPj8TQ1NX3xxRdvvfWWSqWKYvFDECQvL29ycnJqaurzzz9XKpVCoVAS1TkgrRi9ffv2L7744tq1a2azedu2bXGZjqeBy+WmOBw2q3V6ZoYkSZFIJIyZRD2hULi1rJTN47a1trim58hIRKhSZGzalJGe/qchSVGuBRdFAalEEgtysC8zdEXSPXv2CIXC9957r66ujtbr3bt3b2ZmJoqiy8vLFy9ejEQiDAZj7969SqUSAOByuejAj9zc3LhGAfimTkJhYaFOp+vq6hoZGYlEIiKRyGQypaWlPWXFEFr5IYLjQqGQswpZmwwGI8lmMxqNi4sLwVBIJpXyeX/0tQUCgebm5vv19dOTTkDgLD4/OcWRn5dnMBrjI3QFCIJ0Ot3+/fu9Xu/Q0NC36nDHWW1esNeRzWYn2WwJFstMTg6O40KhQCSMlSM8LpdTUFzE5nIbi/Nnp5x4MMiTSVPT0jMy0lf8Cv9/e3caHEVyJwo8s6q6q++7W32pWy2pJXTfgC50c4hjuDQHDGt7vON9dmys9/nFxsaLWL9vu7ER7+3ObthmdjHzZsZmGDwDCNAAGoGQOAUIhO4T3Ue3pNYt9VnH+1D2rJ+PgW4QIJG/T4QiVGSrqyr/mfnP/NM0PTc/z73OhK/xeFEsFhcUFAwMDJw6derkyZORkZGFhYWhbQqUyWSFhYVOp/Nf/uVfKisrw8LCSktLQxufGAyGPXv2DA0N1dbWfvHFF1xZB/TKfko8Hi/cbA7hF2maXl5ZASwrkUie+4otl+9eWlqanZ09OTXlD/jDTeZvome3293d3d3W3jY54cQAUGg13GBA/Xpv/33pvjk6+qOPPhoYGOjp6dmyZYtKpUpOTv7hD3+4srJy586d//zP/xQIBNnZ2RKJZHh4+Pz581NTUxiGJScno6Evh8fjWa3W8PBwLlOWm7jBcfyJr8elpcX+/oHHfY9dDicVCCg06kh7VGxs7GpsOiL5/DBdGNc87ic0Td9ruHvx5KnmmnrhkpcHsRWWbo+NmDs0vXvfXnN4eLCRIldcwulwTE9N+wN+hUJhNJlU62LAzBX4PHDgwOLiIlfjYn5+nqsL8bKb9rpYk/cQQRAmozGEX2QYZnllhaFpsVi8GtMVYpE4JycnNS11etrldruNRuM3E3I+n6+vr6+1rXV8dIylKJlSGbNhQ3xcnFarfQ0zvbgV25KSkunp6ZMnTw4ODqalpYUWQwMAzGbzrl27mpqaWltbq6qqoqKiIiIiQvircrVg9u/fPzU1NTQ05HA4bDbbOnjPvrKWl5fHx8eGh0dczkmGZbR6fYQ1wmIJF65CDCQUCi3h4SzLfnNj+Hy++w13z332eVv9bb7bj0PoxtiIzem7D71VXFoiD35wzh1dPDMzs7iwwLJAJpOqNRqxWIwmh0KA4/imTZsIgujo6AgPD5fL5V6vl6KoiIiI73//+0KhsK6u7mc/+5nf78/Ly8MwbGFhoampCUL4ne98JzU1FYXRHBzHuUInT/8rfr+/u6PrVx999OjmHbjoxhl2hY/FZ6a/8953CoqLn/uz+QcJVCzLrqysnP781Mjl+iSnO5YlMQCXALj9oLteetFstWh0WqEgiElxmqbdbndrc/ONmqvNDfdWlpYj42Lzykqyt+QbDIZ18Hrnui3uOEi/33/v3j2JRJKYmCiTydCb5wVY8zfQU3K73ePj48PDw9MOZ4CiNDptREREuMWyGsM1oUBoNpm45DzuJzRNNzc1VX3+xb3qq/iimwegBzKaxNjyQ29uKy/nliOD5fV6XS7Xwvw8RdESiVit0chksrWVHxIZGbljxw6aphMSEp7li+DG4t/73vc+/PDDlpaWM2fOHDlyRKfThTY4ycrK4kqHqNXq13B488L4/f6OtvbfnDjRdv8hWPKwLM1KRZk5OW9/992k5JTn3rf9cdWxmZmZ3JARRQAAIABJREFUL399YqzmVqJj2Qr4LABzgLpbc/OaXGo0mbI2bgzqaeLmutrb2m7U1nU8bGJZdkNy0pbS4qTUVDnqzILHlepIT0/fsGEDj8cTiUS9vb3T09NRUVEJCQnvvPMORVGXL1/+5JNP+Hz+pk2btm7d6nA4vvrqK6VSKRQKk5OT0cMbmt7e3pqLlx5dupo1RRkojAcwF/R1+h5VEjxSLCosDHEL+FPyer2jo6PDvY/VrpVkViQAGABADPB4JtDfPXq//sam7OygYuilpaWHDx/++//+P1TLY9O8T0cDR+/Yh/cf9I8MH373XZPRuA7uE+7l5na729vbjx49yrLswYMHDx8+vA4+2qvvtYihKYrq7e45deJE0527zPwyZJmAkJ+clfnWkcMbs7Of+4Q0V+jo929fj8dz+vNTvVW1USOz0QwfA3AJUA/mmq6KRUazWVlQENSGCYZhfD5fd1fXrWv1zfcb3cvLURtic4oLMzdt0qjVayiM5vF4KSkpVqtVIBDweDyv18t1nCG8o6VSaXFxcU9Pz5dffnn27NmUlJSsrKwQEqO5AmlFRUUbN26USCQ0TXu9Xh6P93L3Kq1L3T09NRcv3a+8mDjl09AYDuAYmOqe95zh4UKhaENc3Kr+7x6vd3BoqLel3Ta5lAbEQkAAwGoBf2Z5fqaxvSH2Rmpa2tNvAmZZdn5+/t79ex/9/EN/S5/CtYQB8KCpq/HuvXf/2w9KiotQqmJoSJLkvgW/319dXV1VVWW323/0ox8lJSX95V/+JYZhtbW1H3zwwU9+8pPs7GwAwMjIyLlz5zAMk0qlNpvtdY4huEMtvF6vz+cTCAQkST7luLSjra2z/pZ92hdNCxQAxwBUsLhv1t96r6ltS2dubt6qbu/z+/1zs7OYPyBhoQjgNGABABAABSDIFd+0w+kPBHdK7NDg4Nlfn8Sb+iJdXhtL8gDUzAe6V6ZbqmqsZvOefftWY5/ZS8Hj8UwmU1xc3M2bN0+fPq1QKHJycl7zqhQvwGsRQz9+/Pjq5cu3z1RtGF/R0ZAH4BQMDM2uVGKYQCTKyMxc1f+dG1h3NbcpxmczGZEU4ACAAOAv+wLDLb0NdfWp6emaYCosLi8vd3R2/uLf/32hsUM5uSAKMF1NPc137+848s7B/fu1Wu0aCqNJkgwLC6NpurW1tbu7WyKRFBcXh3AgBhd879mzx+Vyffzxx8eOHZNIJLm5uaG1iiuA5/f7L168SFFUZmYmVz4ttKuteyzL+vx+KhAQCARPP3/cdL+x69qNqClPCiORAwwD0AD4zeMLjTV1Gfn59piYVQ2APB7P7PQ07qOULCECBAVYAAAOoBGQS66F0eHgDltlWbanq6vqxCnPreao+UAEIAGAI2OLPXNttcrTGoUiv2ALvvZXjV8WLgOHy+iorq7GMGzv3r2pqalHjhyBENbX1//iF79477334uPj/+Zv/ub48eMdHR3Nzc1ms/m1jaGpQGBkZKSjo3N8bMzn8fBIMsIWERcXb42wPrF3cIxPzPQP5QZwMcAggCwAQoAZKXhvenZqejrg969qDE0QhFgsZnHMxzIBwGC/K7bgBSwl5GvkciLI79Qx4bh19VrpPB3DCmQABwBIAORRoK6lq+nho63l5esphtbr9fv27VtZWbl9+/Ynn3xCkuTmzZtR/d1VtcZe6yzL+v1+v9/PzVw+5W+1Nje3Xr1ucSwlM0IVIDAATSyDT3ra6m/Hbc5KTk3lrWb35vP5XNPTwOuXs5gUENzAGgNAC8ipBc/E0IjP5wvqgiPDw5WfnZyvbwyfdEexJB8QjklP11xvg+iCUafbtmO7SPTqHsr2JzEMMzAwUFVVRVGU0WhMSkoK7TVtsVjKyspGR0evX79+6dIlpVIZHx8fcpNomn706BG3q/39999fc6kyL0DA75+YmBgaHJqemvT7fAKxJNxitlojtFrtE4ccw/39C33DeTQpBhgAkAFADgij1/9gdGLKNRXw+/HVLOCMYxiPzwcQBgBDAwYAyB3o7gcsEJBCoTCoIRPLsn19j+/XXCtZhpFAJPldV016/A3XG9rzsrPzclEMHTJuZS8vL497/9+6dcvn81EUlZiYeODAAe4nJ0+efOutt4qKimZnZ2dmZkiSfG2fVpZlnZOT1V9dPP3JiYnuXoJmVyh/3Oas/UcO7a04+MRDOVgMAgzDAORKAv/2hwBgEAIAaGa16gFzhEKhNSJCrFPPCAZGVrxawMcB8AN2EPh8xvC49JRgZ1hWPJ7JyUkVpZUAjCvDQwBMy/Jp97RrxrXO6pJwuwj8fv/S0tK5c+c0Gs2zzCUhT2PNvNapQMDhcAwODk46nV6PVyAUmsPNERE2vV4PsSf0dqPDw9M9A9kBngTg3MBaAjCzHzSNO52TkwG/b1VjaAzD+Hw+xCANWAow8HcD6wBgGZIQCoV4kO/6sbHxuotf58z6Y1mhHBAQACnABAF4+0Hbg3uNW4qK1lwMzZ0xzDBMY2NjTU2NTCaz2+0hXIer3nTw4MHHjx/fuXNHr9ebzWaxWBzCdBSEkCAInU5348aNqqqqhISETZs2qYNZLngdTE9PXzx/4fRnn4/3DxIs62bo3JKiN989vHXHdpIkvz0M9VM0Q1EC8F8jYQgADjAMAJqiV7urlkqllogIVipwYcwsTXNRLwXZEUjh4bqYxPigErIZhpmdn5ucnghjLVKAc121CBAmBsxOTbhcLpZBVfSeVVhY2LZt22w22z/+4z/W1tZOTk7+5Cc/SUpKUiqVgUDg+vXri4uLYWFhBw8eFIlE3FbOlZUVHMefeCuuMwsLC9VfXbz25Tld93iZXyliMR/LPGwbqj9bxReQ+w8elHzr5hNbhE2/IbZ9slFEYSpAQADcgBnGKVGYJtxoXO3OBUIokUj2HNh/yU9fu/XA7vHyAeYSYGNScXpmcnZ+frA7ZwQkX6lSzc+wKzQrBRAC4AfsLAxAvlihkAfb+a4JGRkZDMPMz8+3t7c/evQoIyMDHRq9etZMDD07O1tz+fJvfvXZcHcPTrNuOpC1Ja/i8KGde3aLnrTzPfDb3hr/ZmEIAkAAiLGQpmmKWt2RqFgsjoiIwOWSGZx1UQEF4EEAKAjGWMqvV9mTE4RBzrctLS2Njo7qKJ0c4NznIQFmYPmBBcfEpJOmqNX4FKsKx/Hs7Gyn09nS0lJZWWm1Ws1mc7B/Fo5ard68efPevXtPnTr19ddfx8XFZWdnh5YcwuPx9uzZ43Q6T5w48ctf/lKlUr0KRUNeHVNTU5ervrryxVl9+1i+l08CzA3otpuPqgVCvoAsKSn59kra1gjrY1t4T/NgOisWAxwDYAlQTpyWqBRatXq1X/oYhoXpdKV799R7zlR3DMQwAgihg88+FuLF6Yk5+fnBbWqEkOTzBbjQTbN+luUDCAAIAHYJ0iSPFApI8BqFcKtILBbHxcX9/d///cmTJ4eGhiYmJlJTU+Pj43/0ox9JpdLa2tp/+Id/+PGPf1xQUMCyLHfgXXh4eHl5+Wt1OsrC4sK9+huw7XGyFzcBHg9ABgDPsqertfea5sr2nTu/PYZOTkkZ3VrweWcHscAYAn4eA51YYEIrTtlenJWVheOr+wLkXryFRUUSieR+VNRoU+tyIKAIN2ZlpW/ekhdhswX7PeoNhtySwsH6Rv60L4ri4RDOsFSXkFGmxAe152ENEYlEKSkpP/7xj3t7exMTE3k8HsMwAADUea2GtRFDz83NVV+8VP2bM4rmgWyvQMhiHpZubWivEVTyhYLt27cLvjXeMoeHq6Mjume6JQwmBzgAYAUwExhFquRhGt1qn4IEIZTJ5Tv27qlZ8V283xZP83kAm+KxfQI2JSkmp6Ag2IE1n88TiyUrS6yPAdzHpgC7BGiI8cUiIVybz4lQKCwsLJydnT1+/Pjnn3+u0+mKi4tDe+YVCsWBAweGhoauXbt27Ngxg8EQExMT2s5Rk8lUWlo6MTFx5cqVy5cvy+XyuFXe67aGTE5ONly9xu8YSvBgZkASAAQA653xjjQ01+m1eVu2fHsMnblx41h3X21vPwz4dRSGsWAU+ib18o3by+Li4l5AJqtcLivftVMmlbTW3pzsG4QQk1qNB9KTc0uDLoOMQWixWuJzMnuah4ilgJHlQQCnQaBbxFpT06Lsdux1Tcx9vjAME4lESUlJhw8fnp6ettlsJEl6vV6r1bpv3z4cx6uqqj799FOPx1NQUOByue7du1dfX+/3+8vLy5VK5WsSRrs93qGBgfDFlQigAVwaBgARgBxyLXV1dz9xT57FaincsX3e4xlqfDQ0MMp6fKQpLCs3a+ueXXFxcS/gbwghNJpMxXK5LTr6cW8vFaDUWk3shg0GgwEL/n+32WwVRw6dWF5pvP2wfXaaZPFFHsAjbSV7d+Zv2RLaTM2rT6FQFBQUpKamkiTp8/kWFhbkcnmwKWrI01gbMfTs3Oyd2jrQ3JfoxiyAzwOQBjz/vGegseOqprqgsPDbY+i09LTRovyvunoxj99AYQQDHZh/TC1MKitIS09d7d4aQkiSZElZmUgoemi7PtPezVK0yKQvT0vMLi6MjIoKNlIMCwvbuCVnoKGdnAtE0DwcwDlAdZO0LC42MTmZJNdkTVQMwwwGQ0lJSXd3d2Nj4927d5OSkkLbH0kQRHh4+O7du10u1/379ysrK995552oqKgQWoXjeFJS0u7du7u6uh4+fBgfHx8XF8eVmQzhauvM3OJCf1dP0oLHAuQ4gAAAPoDRDH90bKq1veOJ6yEb4uO27NkxMTez2De86HABmqHCzDGbU3dUHIiMjHwB7ScIXnxCglqjibTbe7u6AQBmqyUjI0Mf/KmxGIbFxcXtePNAtefUg/ZBtceDATBDYp4oc+m+PalpacFuhEK+hUgk2rhxI/dvl8tVW1u7vLyckJCwf/9+t9t98+bNkydPUhQVExNjNpuvXr360UcfSSSSgoKCV6Gc7YuBYzgLIAtYbumVy/UHEMNx/IlvLoIgEhISIiIibty82d3V5V5ZiYqOzsvLM5lML3KPpkQiSUpMTEpMfMbrqNXqwuKShYWlWmPY8MAgxbJiuXRT1sZdb7wRFR39XJr6auJqVdI03dzcXF9fHxsbu2nTppCLMCB/ztqIoZeWV/q7emxzyzag5HprHgBRLDnumGlra/f7/d/+61HR0VvKt41NTy109vVPTAMfReuMkVnJOw7uj4+LfwHxEIZhUVFRSqUyMjqqo709EAjoDYaUtFSr1cojgp4ftUZE7HvnzTMr3uaHXSML8yTA5whmyarfuLMsNy9PEMzZma8UHMcjIyMPHDggkUie8VEnCCI7O3tycnJgYODy5csWi0Wr1cpCKkCtVquzs7Pffvttp9PJ5YSgAJrDMAxFUwQAxO9lKpAAgwwboAKAfUIGsEgkKiwqjouPr758uau9MxAIpKanFRWXWCzhL2zNEUKo1+v1en3Z1q3PeB2bLXLvgYPzi0tXZFcfT0xiAMi06uLi4jf277XabM+rwcgfcLlc586du3Pnzt69ew8fPvx3f/d3AIDa2tqZmZmf/vSne/fupSjq1KlTR48eJUmyoKDgdai9IhGLY+I2TPSNd84uW4GIByAD2F7g9oTJU1PTyKfIkoIQisXiosLC/NxchmUIgrem92jy+fzyXTtz8/Pm5+a8Hq9KrZIrFN+e0LJu+P3+sbGx8+fPy+Vyv9+/fft2NBv9fK2NGJphGZqhsf+/t+YBDDIg8BTZzAKBYNPmzTExMTU1Ne2tbV63e0NCfElpmdVqWY1qhX8ShFCtVufm5eXm5T3jpQwGw849b8wvLF2WCR/1D/AA5MskuTm5+yoqkpKSnktrXxahUFhQUJCcnCwQCKRSKUVRf1DF6ulxJ0a7XK5jx46dO3fOYrEUFhaG1iqtVvvee++xLCsQCFiWDQQCBEGs3R7leVHI5BGRUVPDc6NejxaQOIAMYPuAhwlTxsfEPs0xFDiGaTXafXv37dyxkwWsQCB44t6GV5lKrf7ee+/t3rNnxuViWUat0Wo0GmXwh5QjT89gMFRUVLjd7rq6OpfL9d3vfvedd95RKBSXL1/+p3/6p8OHD5eUlOA4fvXq1U8//VSpVG7evPllN3nVKRWKgu1bPx8evner2cf6ZSy2DJlHPMaQFlu+Z7fkKTaHcG/ddTPe4PYpSiQSg8FA0/QL6/RfBXw+PzY2dvPmzTU1NV9++SW3X2hdZoG/LGsjhpaKxLaoqLnHk4MrbgMgCYAxADwGbp9WlhgX9zSPBI5hSqVyZ3l5aUkpw9IkKRCFdFzDK0IoFFa8WVFUXDQzM+PzelVqtVqtVq2LUyNwHFcoFDiOj4yMjIyMGAwGk8kUwg4zboqxtLS0q6ursbHxwoULOp3ObreH8ALFcZzrTvx+//Dw8OjoaFxcnF6vX7vR3nNh0OtzyoovDI3e7xmLZ6EYYPOQeURShrS4su3bvj0ZmsOd6r0+7lsAAI/H04WF6cLCfD4fy7KkQPBa3x8vhEQiycvLw3H8yy+/bGlp+fnPf37o0KHi4mKSJE+dOlVZWVleXl5cXBwIBKanpxcXF1+HRCyxWJxbWEBjsE5f1Xm/yTO3QMqlcQU5hXvKc/JXt0LKK+6Pi5WueziO2+32ioqKycnJW7duabVarh9cB0XOXxFr4++o0WjytpZUDo/efdSbBDApiy0Bponn1ySnbNu182m2BXBHlSnWSz4chmFKlUqpUkUEAhRFCQSCddMxcPuyaZpubGysrKyMjIw8fPiw3W4PLTE6NjZ23759DoejpqZGr9cfOXLEYDCE0CocxxmG4RbF7t27d+DAga1bt4ZQB3E9UavVxeXbFwPeR1VXmnuHGI8XU0jMm7KL9u3Ozc9f1fMiX3FomueFwXFcp9Nt3bpVKpV++eWXp0+fViqVhw4dOnToEMMwFy5c+PLLL/fv3//GG2/4fL7o6Oh18578FhBCnVZbWlJi0uu7tnQsLi1JxOLk1LSYDbGoXuZrCMfxuLi4/fv3j4+P19fXm83md99912g0vux2rRNro5+Ty+UFW8uWA/67ysttHX308gomkxg3btqyd+eWosLXucfi8XjrcmUKx3Eejzc5OfngwQOz2axQKMLCwkK4DkmS2dnZY2Nj//Zv/3bmzBmr1bpr164QjroDAHCLmxiGNTU10TRtMpny8/NDuM66QRBEVFTUu4ffjbZFtbc0Ly8tq9Tq3IItCYmJr/noAnnBhEJhdna2XC7nTponSdJut//VX/0Vj8e7cOHCiRMn3n///a1bt9psttHR0YGBAbFYnJSUtI47Dm4/2abs7IysLIZhIIQEwSMIHAXQryeJRJKdnT06Onru3Dmn0+nxeF6HBZkXY23E0BiGWS2WNysqIq0RLU1Ni4uLcrk8Ozc3ITlJi8rBr1OZmZm7d+/+xS9+waVhbNu2LbRziORyeWlpaW9v71dffXXhwgWbzZaenh7CShaE0Gg0lpWVtbW1NTY2nj17VqfTRUdHr92MoGdHEIRer9+2Y3thcRHLMBiOi4Qi/to8GQZZ0wQCQVxc3N/+7d+SJKlQKLxe7/z8fE5OTiAQqK6u/uyzz3w+34EDB1pbWysrK1mW/d73vpeSkhLsuaJrCLf0ipbsEY5arT5w4IDVauXxeE9TRxZ5SmvmAcNxXKvVFpUU5+TlMgyDYZhQKHydU7vWPYPBUFRU1NPTc/Xq1erq6vDw8LS0tBC2GGIYZjQa9+7dOz093dXVdf78eaVSabPZQgujo6Ki3n777dnZ2draWp1Od+TIkWDPEl5ncBzn9uu87IYgrzVumYjL1ggEAh0dHR988IHZbE5OTtbpdMePH//444+5YTBFUVy18Pfffz8nJ2ddruOtaSzLAnT80fOGYZhOp+PKD4lEIp/Ph+M4GmI9u7X0F+QO2F83m4WRbwchjI6Ofu+99wYHB+/evavRaBISEkJbfhUIBDk5OZOTk2NjY5WVlbGxsQqFQq1Wh5BjLRKJMjMzy8vLjx49evHixQ0bNiiVytCSQxAEeb64wAtCiGGYx+O5fPnywMBAaWnpd77znXPnzv3Hf/zH1q1bExMTA4HA7du3CYIIBAKlpaUvu9UIAABQFDU+Pj4wMDA+Pg4AUCgUNpstMjJyTR+r9+qAEOI4LpPJPB5PZ2dnVVVVZmZmVlYWyrt7RmsphkZeN0KhMCEh4e23325padFoNM8yM4FhWH5+/sTExM9//vNf/epXcrm8vLw8tFezUqksLS0dGhqam5vjUjBDbhWCIM8djuMmk+mtt946f/58Z2fnyspKfn5+cXHxlStXbt26lZWVFRcXt7y83NXV9Zvf/EYkEqWlpa3XenVrAk3TCwsLjx496urqcjqdc3NzLMuKxeKOjo6oqKi0tLTw8HC05vy8UBTlcDhOnjz5+PFjoVCYn5+PpvyfBYqhkVcaVxkhPj6ez+cTBPEsT7tWq92yZUt/f//FixcvX75sMBiysrJCuCCGYeHh4QcOHHC73Xa7Hb3c1yKapr1eL1dD9HXOaF+XIIQqlWrnzp3cYR03btygKGr79u1vvPHG119//fDhQwhhRkZGY2Ojw+Ho6uqKi4tDMfRLtLi4ePfu3aNHj05OTlqt1piYGACh0+m8fee2z+v7i7/4i3379lkslpfdzHVCLBaHh4cbjcZbt24Zjca0tDSJRILC6JChGHrVMQzj9XpZluXz+Sj3LlgQQovFEh4eHggE5ufnx8fHlUql2WwGwSfMcdnMFRUVfX19zc3Nly5dioiIUKlUIeSE8fn89PR0CKHb7R4ZGVleXtbr9c84U468MDRNz8/PTzgcGMTC9DqVUoUWE9YZCKFAICgqKjKZTEql8vTp03w+/6c//Wl8fPy//uu/VlZW7tu3Ly8vz2w2Z2VlicVidExBaCiK8vl8DMMAAAiCCCHvwufzNTc3f/zxx2G6MDGPP9LeNdrYDCGkMUxnC7ckp9y8eVMqlb7xxhsqlQp9R88OwzCDwfD+++9/+OGHTU1NV65c2bZtG0pHDBmKoVcXRVELCwvj4+MMzWh1Wp1O94yTqa8hbh+hx+O5e/fur3/969zc3O9///uhpcVLJJKMjIyDBw8eP368uro6NTW1oKBAGdKp4VxX4XQ6v/jii7a2tnfeeWf79u1ojPSKo2l6bGzsq8pzt+qvL8zMYhCTKOU5BVt2vrEn3BLO56ElhXWFIAibzXbkyJG0tDSNRmOz2Ww228rKyqlTp2praxMTE00mk16vp2m6p6eHIIiYmBi0KPGUWJZdWloaGxvr7OxcWFjgalrFx8eHhYUFNak/MTHR0dGBQTg2OsIfc0WOLoV5GADBIg6mfaP9LKvSabu7u6Ojo3Nzc9G381xIpdKSkpL79+/fuHHj/PnzGRkZAoEA/W1Dg2Lo1cIwjNPpvHShqu7rmrmpacgCgVSckpW5/623oqKj0NJhsAiCUCgUMzMzFy5cUCgUFRUVIRQvBADw+fydO3eOjIxcuHDhZz/7mUajycjICPnr4Ip+P3r0SKlUhoWFZWZmohnNV9ni4uIXn596VHnR3zFg9DI0BMt8rG7YEaDpdw6/YzSaXnYDkeeJO6wjJibGZDIRBCGVSru7u91ud1xcnNfrHRsbu3r1qkQiMZvNly5dmp2dLS8vz87OXscH3j1H3d3dDQ0NfX19FE3TFAUg7OzsbGhoSEpKysvLe/oSHkNDQx0dHUajcaz3cVi/IyMgNAMhZMEcQzVOzLdidHRkVE9Pj9lszs7ORnHec0EQhFqtLikpefz48c2bN9va2mQyWWhzSQiKoVeL2+OpPHP2zqlz3tYek5sGECwTsGlgwusPfO8v34u229FsdFBIkoyIiMjIyKivr6+qqoqJiUlMTAxhBYo74mfr1q3T09NnzpyprKwUiUTp6emhtUqlUmVlZdXV1T148CAsLMxqtWo0GvSiXyV+vx8nCDzUUYrH4xkeHKw+e071aDCXEpoAnwbsJBW42tJVL7uUnp6mVmvWcd2N1xZJkt98rW1tbdeuXRMIBImJiZ2dnS0tLU6nMy8vr7m5ubOzc3x8nCCIzZs3o9OfvoXf73c4HFVVVdevX5+fnw8z6KViCcuyrtnZOZert7c3EAiUlZVpNJqnmVCYm5sbHh6Oi43VEQIzJLWARwEAABADIgIIFgGfdnsGhwadTid35h3yvGRlZTkcDj6fT9N0IBB42c1Zq1AM/af5/X4Mx4lQgyGfzzc2OnL14iX6QXuuX2AFIgDADE01PB67WXVp46aNeqNBKkGzHUHg8XgGg2HPnj1Op/P27dtnz56VyWQbNmwIbSiSlpa2uLjY2tp65coVg8EQHh6u1WpDuI5UKt20aVNFRcXx48dramrsdvuOHTsUCkUIl0L+HI/HMzc355yaWlpY4JN8jVqj1WhlclmwU/5zc3NtLa3CFV8kFOgBnwYAAKgBvDggHplZ7GxpS0hO1oV0GyCvPi7jWS6X+3y+hoaGxMREu90uk8nu3bvn9XpjYmKioqLu3LnDpWNlZ2ejpcI/Z2Zm5vTp0y0tLVKRSMjAodsPSBYyLEPIpZYN0TgAl6urAQD79u17yqEIy7IMw0CaxX4vSoYAAMBAiqYpimEBAIDLukaeF5VKtWPHjszMTIvFgtZeQoZi6P+Px+OZmZlxOJ3zc3MEQWg0Gr1er1Qqg912trS83N7aBueWIwBpBHzu0VcAwg7E7qVAT2t7UnoqiqGDhWFYRkZGeXl5f39/VVVVUlKS0WiUy+UhXEogEKSkpPzgBz/44IMPrly5YjQa33zzzdAOnBcIBBUVFWNjY2fOnPnlL3+ZkJAgFotRYvTz4vV67929W1N18dHtBpxiaAi04abiHdtKy7cbjaagwmiapj0eDxFgeCwLAWABgABAAHiAxb0Br9tN0/TqfRDk5eIG29nZ2RiGVVZW3rp1a3FxMTw8vKio6OHDh+3t7VaLroE1AAAPq0lEQVSrNTs7u6Oj49ixYxDCnJwctCjxJ01OTlZXVyuVSh7Fznf0FUzSchZnAJhYWBznj6niovv6+hrV6sLCQqFQ+MQ5DqFQqFareSQ5i9NSSPsBIwA4AIAB7CIE0wJMJZNoNRqpVIrW954vDMP0er1Op8MwzOv1YhiGbvgQoBj6v/j9/kcPH14+X9V4/SbmoxjAysI0+VvLdryxOzIqEsOCeIBZhvH5fHiA4nprDgQAByweoAIeD02h3joUfD4/Ly9vamrqzJkzTqdzfn4+tBgaAKDRaIqKilpaWm7cuHHhwoWYmJj4+PgQ1nAxDJPJZNu3b19ZWbl79y53PFPIrUJ+H8Mwbe1tNVUXm09/ZRidlQI8ABhH18iVZTefz9+xZ49SFUQOn1AoDDMaVkhsGTA0YHEAAQAsAAuA8UlFGn0Y6kLWPZlMlpOTI5fLxWLxjRs3+vr6UlNTc3NzucOJY2JiwsPDu7q67t69Gxsbq9fr0faGPzA3Nzc4OMgjeK7JaeX0om18KYEViwDGAqD2+emB6WHA8JQShmF6e3tVKtUTp/NNJpPdbu/t7ePJpFNh0lvjCzEMHwPQAQKPxdCvFC/5PFGRkTExMSj78bmDEPp8vsbGxoaGhpiYmP3797/sFq09KIb+L11dXTVfXXpw9ivTgEsOcBowk/zxusUVPp8nPLDfZApivxFJkgaj0SsiFwFNAZYPIACAAWAZsEtivtqgF6N8u5Bwu7937txpsVgsFsuz1FgiCMJgMFRUVDidzoaGhs8+++yv//qvo6KiQmgSACApKUkkEm3atCk2NhatAj8vFEXV1VztrbluHJ3LA3IRwCgA+t3upvvtVyTi5KyMoGJoLvlHFhE+MObizS9bAEkBdhJQPQQdFmGIS0yUoorlrwGxWJyVlaVQKGQy2eDgoN1uz87ODg8Pr6ysfPToUWpqalZWVnR0NCqP9yctLS3NzM4ajYbGxkbx6Gw0Q5IA4xZalYBv8XiaRx1aa7pEIpmcnPT7/U98GVqt1tTU1NbWVj7JFyZGu/WLncOTkAWUTkeGKSU4u7S4nFmclZaW9oK/Dpqmp6an+/v6HOPjGI5rtboN8XGhnYX6KqNpenZ2tra2tr+/Pz093WQyoUXUoKyru+FZsCx7o66+8+u6sMGZHCCTAIwBYMLvvd8yUC+5uCE1JagYWiwWx8TGhtkjxnqGHriWIwEJAZwCgXaeHzNr41KSNBrN6n2W9Q3DsIiICIvFguO4x+NxOp08Hk+hUISw0odhWGpq6p49e8bGxs6dOxcbGyuRSMLCwkJolUgkSkpKio+PxzBsenqapmmdTocWH58RwzCtzc3Y8GQiEPMAxm02sgLh9OJie3fv7NxcUFfj8/lms3n3G7tvC0SDjzpdE3MsgXt0GkOMpXD7tmh79EvpPGianpubGx8fW1hY4PH4KpXKYrEIBAI067Z6IIR2u/3w4cOzs7NyuVyv17Ms63K5vv76697e3uLiYpvNhuP48PDw1NSU3W5HOxx+HwYhhBi3w49bzOFAwGIAQAggt8LzdFsA5XJ5YmJiWlpaT08PjuMBmWyU9rEsrTGGKXVaMUWpVKqMjAybzfYin4hAIDA+Pn77+o37X18dbu/CCZ4pJiqjtDB7S35ERMR6qqvFbdYXi8U9PT23bt3at28fiqGDgmLo32IB29nV6R8Y38gKSYBxmRY6IIjyLt/uHZhyTQd1NRzHw3S6Xbt21UFi4kHL4tAUBMCnVatirFllRbEbNryUVWOGYeYX5sdGR6enpzGIKVWqCJtNJpWuuekWCCEXQDc2Nj548MBkMpWVlYU2J83j8XJzcx0Ox7Fjxy5evGg0Grdu3RraqXlcw5aWlq5cueJwOPLz81NSUkK+FMLxBfwYRQsA/5v+kwcgDwCaomk66D1GIrH4jf37zRbrves3e5qaeXx+Unzs5sItqRkZ8pdxtBNFUWPjo4137t25cnXi8aBQKomKj8vbXpaQlPSUxxogoeGKN5lMJgzDaJp2Op18Pj81NbWtra22tlahUGzcuHFsbKy+vv7AgQN5eXno6+CIRCKxRDLhmJCKxHwNO+5eUDEEF0kvA3qax4oV8uXFRbfb/fT7iGw22w9/+MNz585VVlb29fUplEoM8roG+oWOiV27dlVUVMTGxr7gIaXL5frqQtWZjz4Rdo7E0yQF4WjX0MXq6r/6n//j3XePGIOZUHvF8fl8u91ut9svXbpUX1+/fft2VG8lKCiG/i0IYCBAAZrhA+Kbh5UALA8AlmUYJuhTdXg8Xtm2bXqj8W7srba7jQAwkTH2rLzcrM2bVC+jt6Zpempq6n5DQ8OV2oHWTpzHs8REbS4rydi00WAwrMWhZyAQ6O7uPn36tMlk0ul0oe0BghDqdLqioqKhoaHr169XV1cbjcbk5OSQZxqWl5cfPXpUX18/MjKiUqkiIyPRbHTIIAA6jW5aKnR5/XIg4vYBLoPAEgakMqko+JwZCKFSpcoryE9OTVlaWsIwTCQWK+TylzKmZVnW6XSerzz/1WenJN1jBg/rJbB7jW0Xr9T8/f/6h9KyUqlU9uJb9fogCIIL8rhn9syZMxKJJD4+vqen5/jx421tbSqVqq6ubmhoyO1279+/Hx14BwBQqVSRNhtFUTZ7NK1eaJi67/WyeganAXgMvcNaaWR25sDEGMuyT19BHcMwlUpVXl6enJzscDhmZ2chhGKxWKPRcFWpX3D3xDBMV0/3159/YemfjqWEWsBnWaj3UYzX3117qyEicl/FwfU0oCJJMiMjo6mpqaura2hoSCaTraeJ9tWGYujfYdkwrXZOIZ1aWVYDHhdGuwEzBxmJTCoN4e0JoVgiycjMjI2LWzl8CEBWIBBIxJKXNTE5Ozv7dXX1F//3E7a5L9INGQz2Nfdc/rrmB3/339+sqNCFlMDwcgmFwoKCggcPHly9evXEiRN2u52rAR4sgiASExMPHTrU19dXXV2t1+stFotWqw1h5oPrDDIzM5uamiorK5OSkmQyWWjJIQgAACeIsm3bKkfGr9fc9gJWBXA/YDvA8rRZk7e91PzUdRz+gIAUCHQCnU73fFsbLIZhGu7erf/NGW3byAYfrgVkgGZHp313Z4fuXPw6TBeWk5f7clv4mhCLxWVlZTMzM3V1dQMDA2q1mmGYlpYWtVqdlJTU29v76aefejyet99+WywWr17wBCFkWZZLgXhlz0LmKkXn5+d3dnYGhKQ+P8M15ppyLQAcAr1ZF65zM1RYWFhqaqparcYw7Ok/CHdGhMfjmZ+fBwCIxWKJRMINcl7wX8Pr9TomJhyPh5Ld0AIEGIAAAD5LJAFhW1d/T1c3wzDrKdUKw7CEhISIiIhr1661trZaLBadTvfK3oHBWu1vCsXQvwNhcVnZTP/wrQs1vgCrAwQN2D7gHtJJ83aURdujQ7sqj8dTKhTKl51OxzBMd29P1YnPZc2D9mXMBEiGAfqFwPKCq6X6mi3csmP3rjU3sObxeFFRUfv27XO5XA8fPjx79uzevXvDw8NDeGYghBs2bHj77bePHj16/vx5s9m8f//+0JIgSZLcsmXLxMTEhx9+eO7cOaPRWFZW9goO69dEH0AQxObc7JnZmesYNtQ1NLboZngEZQpPL84u3bNTs8bPcvb5fH2P+2a7+8t8vAhAcl21AGB+Bgw9aOnL60Ux9IvB5/M3b94skUjUavXNmzeXlpa443IXFxcFAoHJZHI4HJ9//jkAYMeOHSaTaZWeHYqiHA5HQ0PDyMjIK3vMIoTQ4/EoFAqHwwEhtEdHj7K0A3oJArdadHKVqqury2q1MgzT0NBAEEQIodg3f96XFcYtLy+3tbbROJwT8wYgTgMWAMACzA0E896V7u7uurq69bS6CCFcXl5mWTYQCNy5c0ckEhkMhlf2DgwWSZIdHR1LS0urdDuhGPq3IIRp6Wmu/XtoyDqae51zSwDHGIMpfcvGkj27gtpQ+AoKBALjY+OjHT0lbmAHIh6AAAAhwLxA2tPZ29HWvn3XzpfdxlAQBLFx48bR0dHPPvvs9OnTer1eJpOFFvtKJJL8/PzBwcEvvvji0qVLFoslPz8/tOQQvV5fVlY2NjZWW1tbVVVlMBhCroO4GhiGmZ+f7+np4ebbXnZznoBl2Uh79FJpYS1VPTnhFIiEaVkpmTnZAlIwNDS0didLWJadn5+fGJ9gAaSE/BlIMIAFANAAioBwxjXT19vX39+P6oe9MFKptKCgwOl01tXVicVinU43NzfX2dm5efNmAEB3d/exY8ckEklSUhKPx/vjG48giNnZ2WdpgEAgcLlcJ06cEAgEr/KNzU2Wi8ViCKHD6cT5fFOEFQDgo+lpl0utVq+srFRVVa2JUfqfwzCMOTN5DIDx3/shC4AEgHn38tGjR19ay1YHy7I0Taempk5NTZ06dWpNf3d/gNvln5SUtErDntWNoRmGmZmZ6ezsnJ2dffWHNRBCnUGfuiXv6srS+ChD8IiE5Nj0zRtJkhzoH3iVX2pPtLy83NfXS7OsX8CbgQQ3sGYAxmOFS4tLj/v7W1tb1+jAmiAIpVIZFhZWW1tbV1cnkUhCy+jgTsq02WwGg6Gzs/PSpUsCgUChUIQWZVIUlZKScuPGjRs3blitVgzDnuM0v0AgGB4e9ng8od2TFEU1NDT09PSQJLkm7mqGYQJ+v9frxWViCsDmjvbu/scYhq31Fz1N016vl4o2XQcYBgD3TbAAsAD4IXvrzp2mluaX3MTXDFeFh9s+6PF4SJK0Wq2zs7MMw5jNZgzDPvrooz+3pgQhHB4efpb/vaCgICYmBqyRNaJvb+SaeLF8O+4DfvMxfv/TroNP98de+vT/6qEoSiKRrNLpOnBV/17Hjx8/duyYVCp9xQfW32AYhqFpv99PMwwAgEfweHzeOuitWZb1+/1+r5cPAPa7twHXW1OAxXl8gWgNH2lM07TP5/P7/SRJPsuprlzJWa/XS9M0n88nSTLk750b1ns8HgAASZI8Hu853kIYhjmdTrvd/s///M9WqzXYX+/v7x8eHn6+YT2CIH6/v7S09GW3AkGQF2d1Y+jR0dGRkREI4RqKQf+4qWsi+n+idTxt8Psf7dk/yHMcjv92JmMV/raBQEAqlW7YsAHVc0EQBEGQl2J1Y2gEQRAEQRAEWX/QYi6CIAiCIAiCBAfF0AiCIAiCIAgSHBRDIwiCIAiCIEhwUAyNIAiCIAiCIMFBMTSCIAiCIAiCBAfF0AiCIAiCIAgSHBRDIwiCIAiCIEhwUAyNIAiCIAiCIMFBMTSCIAiCIAiCBAfF0AiCIAiCIAgSHBRDIwiCIAiCIEhwUAyNIAiCIAiCIMFBMTSCIAiCIAiCBOf/Af5Hz9HJOlK3AAAAAElFTkSuQmCC)"
      ],
      "metadata": {
        "id": "nxr6bWc8O7ph"
      }
    },
    {
      "cell_type": "code",
      "source": [
        "from sklearn import model_selection, naive_bayes, svm\n",
        "from sklearn.metrics import accuracy_score"
      ],
      "metadata": {
        "id": "btgncRHgASEC"
      },
      "execution_count": null,
      "outputs": []
    },
    {
      "cell_type": "code",
      "source": [
        "# Classifier - Algorithm - SVM\n",
        "# fit the training dataset on the classifier\n",
        "pipeline1 = Pipeline([\n",
        "    ('bow', CountVectorizer(analyzer=text_process)),  # strings to token integer counts\n",
        "    ('tfidf', TfidfTransformer()),  # integer counts to weighted TF-IDF scores\n",
        "    ('classifier', svm.SVC(C=1.0, kernel='linear', degree=3, gamma='auto'))  # train on TF-IDF vectors w/ Naive Bayes classifier\n",
        "])\n",
        "                \n",
        "\n"
      ],
      "metadata": {
        "id": "cQcyaAJUqlTj"
      },
      "execution_count": null,
      "outputs": []
    },
    {
      "cell_type": "code",
      "source": [
        "pipeline1.fit(msg_train,label_train)"
      ],
      "metadata": {
        "id": "2l6QjpqAATp-"
      },
      "execution_count": null,
      "outputs": []
    },
    {
      "cell_type": "code",
      "source": [
        "predictions1 = pipeline1.predict(msg_test)"
      ],
      "metadata": {
        "id": "Zz45WZVMBLqp"
      },
      "execution_count": null,
      "outputs": []
    },
    {
      "cell_type": "code",
      "source": [
        "print(classification_report(predictions1,label_test))"
      ],
      "metadata": {
        "id": "EImkIzygBZRD"
      },
      "execution_count": null,
      "outputs": []
    },
    {
      "cell_type": "code",
      "source": [],
      "metadata": {
        "id": "lFjLufcUBgeJ"
      },
      "execution_count": null,
      "outputs": []
    }
  ]
}