{
 "cells": [
  {
   "cell_type": "raw",
   "metadata": {},
   "source": [
    "---\n",
    "layout: post\n",
    "title: Team Teach 3.3 Homework and Popcorn Hacks\n",
    "description: Showing how I was able to work and experiment with these.\n",
    "courses: { csp: {week:1} }\n",
    "comments: true\n",
    "sticky_rank: 1\n",
    "---"
   ]
  },
  {
   "cell_type": "markdown",
   "metadata": {},
   "source": [
    "# 3.3 Team lesson Popcorn Hacks + Homework\n",
    "## Popcorn hack are in both python first then javascript\n",
    "### Popcorn hack 1"
   ]
  },
  {
   "cell_type": "code",
   "execution_count": 1,
   "metadata": {},
   "outputs": [
    {
     "name": "stdout",
     "output_type": "stream",
     "text": [
      "Add: 14\n",
      "Subtract: 8\n",
      "Multiply: 33\n",
      "Divide: 3.6666666666666665\n",
      "Modulus: 2\n",
      "Exponentiation: 1331\n",
      "The 7th Fibonacci number is: 13\n"
     ]
    }
   ],
   "source": [
    "def calculate_operations(a, b):\n",
    "    \"\"\"Performs basic arithmetic operations on two numbers and handles edge cases.\"\"\"\n",
    "    addition = a + b\n",
    "    subtraction = a - b\n",
    "    multiplication = a * b\n",
    "    division = a / b if b != 0 else 'undefined'  # Handles division by zero\n",
    "    modulus = a % b if b != 0 else 'undefined'\n",
    "    exponentiation = a ** b  # Raises 'a' to the power of 'b'\n",
    "    \n",
    "    print(f\"Add: {addition}\")\n",
    "    print(f\"Subtract: {subtraction}\")\n",
    "    print(f\"Multiply: {multiplication}\")\n",
    "    print(f\"Divide: {division}\")\n",
    "    print(f\"Modulus: {modulus}\")\n",
    "    print(f\"Exponentiation: {exponentiation}\")\n",
    "\n",
    "def fibonacci(n):\n",
    "    \"\"\"Returns the nth Fibonacci number using an iterative approach for efficiency.\"\"\"\n",
    "    if n == 0:\n",
    "        return 0\n",
    "    elif n == 1:\n",
    "        return 1\n",
    "    else:\n",
    "        a, b = 0, 1\n",
    "        for i in range(2, n+1):\n",
    "            a, b = b, a + b\n",
    "        return b\n",
    "\n",
    "# Example usage\n",
    "a, b = 11, 3\n",
    "\n",
    "# Perform operations\n",
    "calculate_operations(a, b)\n",
    "\n",
    "# Find the nth Fibonacci number (e.g., 7th Fibonacci number)\n",
    "n = 7\n",
    "print(f\"The {n}th Fibonacci number is: {fibonacci(n)}\")\n"
   ]
  },
  {
   "cell_type": "code",
   "execution_count": 4,
   "metadata": {
    "vscode": {
     "languageId": "javascript"
    }
   },
   "outputs": [
    {
     "data": {
      "application/javascript": "function calculateOperations(a, b) {\n    // Perform basic arithmetic operations\n    let addition = a + b;\n    let subtraction = a - b;\n    let multiplication = a * b;\n    let division = b !== 0 ? a / b : 'undefined';  // Handles division by zero\n    let modulus = b !== 0 ? a % b : 'undefined';\n    let exponentiation = Math.pow(a, b);  // Raises 'a' to the power of 'b'\n    \n    console.log(`Add: ${addition}`);\n    console.log(`Subtract: ${subtraction}`);\n    console.log(`Multiply: ${multiplication}`);\n    console.log(`Divide: ${division}`);\n    console.log(`Modulus: ${modulus}`);\n    console.log(`Exponentiation: ${exponentiation}`);\n}\n\nfunction fibonacci(n) {\n    // Returns the nth Fibonacci number using an iterative approach\n    if (n === 0) {\n        return 0;\n    } else if (n === 1) {\n        return 1;\n    } else {\n        let a = 0, b = 1, temp;\n        for (let i = 2; i <= n; i++) {\n            temp = a + b;\n            a = b;\n            b = temp;\n        }\n        return b;\n    }\n}\n\n// Example usage\nlet a = 11, b = 3;\n\n// Perform operations\ncalculateOperations(a, b);\n\n// Find the nth Fibonacci number (e.g., 7th Fibonacci number)\nlet n = 7;\nconsole.log(`The ${n}th Fibonacci number is: ${fibonacci(n)}`);\n",
      "text/plain": [
       "<IPython.core.display.Javascript object>"
      ]
     },
     "metadata": {},
     "output_type": "display_data"
    }
   ],
   "source": [
    "%%javascript\n",
    "function calculateOperations(a, b) {\n",
    "    // Perform basic arithmetic operations\n",
    "    let addition = a + b;\n",
    "    let subtraction = a - b;\n",
    "    let multiplication = a * b;\n",
    "    let division = b !== 0 ? a / b : 'undefined';  // Handles division by zero\n",
    "    let modulus = b !== 0 ? a % b : 'undefined';\n",
    "    let exponentiation = Math.pow(a, b);  // Raises 'a' to the power of 'b'\n",
    "    \n",
    "    console.log(`Add: ${addition}`);\n",
    "    console.log(`Subtract: ${subtraction}`);\n",
    "    console.log(`Multiply: ${multiplication}`);\n",
    "    console.log(`Divide: ${division}`);\n",
    "    console.log(`Modulus: ${modulus}`);\n",
    "    console.log(`Exponentiation: ${exponentiation}`);\n",
    "}\n",
    "\n",
    "function fibonacci(n) {\n",
    "    // Returns the nth Fibonacci number using an iterative approach\n",
    "    if (n === 0) {\n",
    "        return 0;\n",
    "    } else if (n === 1) {\n",
    "        return 1;\n",
    "    } else {\n",
    "        let a = 0, b = 1, temp;\n",
    "        for (let i = 2; i <= n; i++) {\n",
    "            temp = a + b;\n",
    "            a = b;\n",
    "            b = temp;\n",
    "        }\n",
    "        return b;\n",
    "    }\n",
    "}\n",
    "\n",
    "let a = 11, b = 3;\n",
    "\n",
    "calculateOperations(a, b);\n",
    "\n",
    "let n = 7;\n",
    "console.log(`The ${n}th Fibonacci number is: ${fibonacci(n)}`);\n"
   ]
  },
  {
   "cell_type": "markdown",
   "metadata": {},
   "source": [
    "## What I learned through this lesson + Hacks\n",
    "- Iterating through lists using loops.\n",
    "- Modifying lists: append, insert, remove.\n",
    "- Using conditional logic for dynamic data manipulation.\n",
    "- Index loops for element access and operations.\n",
    "- Simple input-output interaction for user-driven changes.\n",
    "- Arithmetic operations like summing even/odd numbers.\n",
    "- Error handling and input validation.\n",
    "- Encouraging simplicity and efficient coding.\n"
   ]
  },
  {
   "cell_type": "markdown",
   "metadata": {},
   "source": [
    "## Homework hacks"
   ]
  },
  {
   "cell_type": "code",
   "execution_count": 25,
   "metadata": {},
   "outputs": [
    {
     "name": "stdout",
     "output_type": "stream",
     "text": [
      "Fibonacci number at position 10 (Matrix Exponentiation) is: 55\n",
      "Fibonacci number at position 10 (Recursive) is: 55\n"
     ]
    }
   ],
   "source": [
    "import logging\n",
    "import sys\n",
    "\n",
    "# Configure logging\n",
    "logging.basicConfig(level=logging.INFO, format='%(levelname)s:%(message)s')\n",
    "\n",
    "def matrix_multiply(A, B):\n",
    "    \"\"\"\n",
    "    Manually multiply two 2x2 matrices A and B.\n",
    "    \"\"\"\n",
    "    return [\n",
    "        [A[0][0] * B[0][0] + A[0][1] * B[1][0], A[0][0] * B[0][1] + A[0][1] * B[1][1]],\n",
    "        [A[1][0] * B[0][0] + A[1][1] * B[1][0], A[1][0] * B[0][1] + A[1][1] * B[1][1]]\n",
    "    ]\n",
    "\n",
    "def matrix_power(M, power):\n",
    "    \"\"\"\n",
    "    Raise matrix M to the specified power using binary exponentiation.\n",
    "    \"\"\"\n",
    "    result = [[1, 0], [0, 1]]  # Identity matrix\n",
    "    while power > 0:\n",
    "        if power % 2 == 1:\n",
    "            result = matrix_multiply(result, M)\n",
    "        M = matrix_multiply(M, M)\n",
    "        power //= 2\n",
    "    return result\n",
    "\n",
    "def fibonacci_matrix(n):\n",
    "    \"\"\"\n",
    "    Calculate the nth Fibonacci number using matrix exponentiation.\n",
    "    \"\"\"\n",
    "    if n == 0:\n",
    "        return 0\n",
    "    elif n == 1:\n",
    "        return 1\n",
    "\n",
    "    F = [[1, 1], [1, 0]]  # The Fibonacci transformation matrix\n",
    "    result = matrix_power(F, n - 1)\n",
    "    \n",
    "    return result[0][0]\n",
    "\n",
    "def fibonacci_recursive(n):\n",
    "    \"\"\"\n",
    "    Calculate the nth Fibonacci number using a recursive approach.\n",
    "    \"\"\"\n",
    "    if n == 0:\n",
    "        return 0\n",
    "    elif n == 1:\n",
    "        return 1\n",
    "    else:\n",
    "        return fibonacci_recursive(n - 1) + fibonacci_recursive(n - 2)\n",
    "\n",
    "def validate_input(user_input):\n",
    "    \"\"\"\n",
    "    Validate the user input to ensure it's a non-negative integer.\n",
    "    \"\"\"\n",
    "    try:\n",
    "        value = int(user_input)\n",
    "        if value < 0:\n",
    "            raise ValueError\n",
    "        return value\n",
    "    except ValueError:\n",
    "        raise ValueError(\"Please enter a valid non-negative integer.\")\n",
    "\n",
    "def main():\n",
    "    \"\"\"\n",
    "    Main function to execute Fibonacci calculation using both matrix exponentiation and recursion.\n",
    "    \"\"\"\n",
    "    try:\n",
    "        user_input = input(\"Enter the position of the Fibonacci number you want to calculate: \")\n",
    "        n = validate_input(user_input)\n",
    "        \n",
    "        fib_matrix = fibonacci_matrix(n)\n",
    "        fib_recursive = fibonacci_recursive(n)\n",
    "        \n",
    "        print(f\"Fibonacci number at position {n} (Matrix Exponentiation) is: {fib_matrix}\")\n",
    "        print(f\"Fibonacci number at position {n} (Recursive) is: {fib_recursive}\")\n",
    "    except ValueError as ve:\n",
    "        logging.error(ve)\n",
    "    except Exception as e:\n",
    "        logging.error(f\"An unexpected error occurred: {e}\")\n",
    "        sys.exit(1)\n",
    "\n",
    "if __name__ == \"__main__\":\n",
    "    main()\n"
   ]
  },
  {
   "cell_type": "markdown",
   "metadata": {},
   "source": [
    "### What I Learned About Fibonacci Sequences\n",
    "\n",
    "- The **Fibonacci sequence** is a series of numbers where each number is the sum of the two preceding numbers.\n",
    "- It starts with 0 and 1, and follows the pattern: `0, 1, 1, 2, 3, 5, 8, 13...`.\n",
    "- The formula is: **F(n) = F(n-1) + F(n-2)**, where `F(n)` represents the nth Fibonacci number.\n",
    "- The sequence is used to model growth patterns and solve algorithmic problems.\n",
    "- Fibonacci numbers appear in nature, such as in the arrangement of leaves, flowers, and even the branching of trees.\n",
    "\n",
    "This sequecne can be useful for mathematical theory and practical applications like comp bio or computing and biology\n"
   ]
  },
  {
   "cell_type": "markdown",
   "metadata": {},
   "source": [
    "<style>\n",
    "    body {\n",
    "        background-color: #2e3440;  /* Dark background */\n",
    "        color: white;               /* White text */\n",
    "    }\n",
    "    \n",
    "    div.code_cell {\n",
    "        background-color: #282a36;  /* Dark theme for code cells */\n",
    "        color: white;               /* White text for code cells */\n",
    "        border-radius: 10px;\n",
    "        padding: 10px;\n",
    "    }\n",
    "    \n",
    "    div.markdown_cell {\n",
    "        background-color: #44475a;  /* Dark theme for markdown cells */\n",
    "        color: white;               /* White text for markdown cells */\n",
    "        border-radius: 10px;\n",
    "        padding: 10px;\n",
    "    }\n",
    "    </style>"
   ]
  }
 ],
 "metadata": {
  "kernelspec": {
   "display_name": "venv",
   "language": "python",
   "name": "python3"
  },
  "language_info": {
   "codemirror_mode": {
    "name": "ipython",
    "version": 3
   },
   "file_extension": ".py",
   "mimetype": "text/x-python",
   "name": "python",
   "nbconvert_exporter": "python",
   "pygments_lexer": "ipython3",
   "version": "3.12.7"
  }
 },
 "nbformat": 4,
 "nbformat_minor": 2
}
