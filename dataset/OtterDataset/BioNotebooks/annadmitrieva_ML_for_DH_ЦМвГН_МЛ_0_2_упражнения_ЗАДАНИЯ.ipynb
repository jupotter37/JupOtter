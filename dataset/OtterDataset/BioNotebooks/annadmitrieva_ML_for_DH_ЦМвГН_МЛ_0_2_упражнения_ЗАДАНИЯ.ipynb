{
  "cells": [
    {
      "cell_type": "markdown",
      "source": [
        "# ЦМвГН МЛ0-МЛ2: упражнения"
      ],
      "metadata": {
        "id": "SNrpEGtSKCE5"
      },
      "id": "SNrpEGtSKCE5"
    },
    {
      "cell_type": "markdown",
      "source": [
        "## Подготовка данных"
      ],
      "metadata": {
        "id": "pu20X7zYUOFD"
      },
      "id": "pu20X7zYUOFD"
    },
    {
      "cell_type": "markdown",
      "source": [
        "### Задание 1.1"
      ],
      "metadata": {
        "id": "Xy23bRHKNE7N"
      },
      "id": "Xy23bRHKNE7N"
    },
    {
      "cell_type": "markdown",
      "source": [
        "Постройте CountVectorizer самостоятельно для предложений ниже. Затем импортируйте CountVectorizer из sklearn и сравните результаты.\n",
        "\n",
        "Дополнительно: используйте предобработку, например, лемматизацию, перед построением векторов."
      ],
      "metadata": {
        "id": "365Ru9XIJOyH"
      },
      "id": "365Ru9XIJOyH"
    },
    {
      "cell_type": "code",
      "source": [
        "corpus = ['Короткий осенний день клонится к вечеру. ',\n",
        "          'Точно в полусне прошел весь остальной день',\n",
        "          'Весь остаток дня был сплошным торжеством']"
      ],
      "metadata": {
        "id": "40LtpSRZKXe_"
      },
      "id": "40LtpSRZKXe_",
      "execution_count": null,
      "outputs": []
    },
    {
      "cell_type": "markdown",
      "source": [
        "### Задание 1.2"
      ],
      "metadata": {
        "id": "Gp2HZUm_NMYp"
      },
      "id": "Gp2HZUm_NMYp"
    },
    {
      "cell_type": "markdown",
      "source": [
        "Работа с датасетом \"Weight Data for Domestic Cats\".\n",
        "\n",
        "**Датасет:** cats.csv (документация: https://vincentarelbundock.github.io/Rdatasets/doc/MASS/cats.html)\n",
        "\n",
        "**Основное задание:** предобработка датасета.\n",
        "\n",
        "\n",
        "*   Избавьтесь от колонки \"rownames\";\n",
        "*   Разделите датасет на тренировочную и тестовую выборки;\n",
        "*   Шкалируйте независимые переменные Bwt, Hwt;\n",
        "*   Закодируйте зависимую переменную Sex.\n",
        "\n",
        "\n",
        "**Дополнительные задания:** предскажите пол кошки по её весу (Bwt) и весу ее сердца (Hwt). Оцените качество работы модели.\n",
        "\n",
        "(*) В этом задании можно попробовать: уравновесить классы, нарисовать ConfusionMatrix, нарисовать ROC-кривую и посчитать AUC score.\n",
        "\n"
      ],
      "metadata": {
        "id": "BD0YRcg_JrME"
      },
      "id": "BD0YRcg_JrME"
    },
    {
      "cell_type": "markdown",
      "source": [
        "### Задание 1.3"
      ],
      "metadata": {
        "id": "p-hNx-oQNuyj"
      },
      "id": "p-hNx-oQNuyj"
    },
    {
      "cell_type": "markdown",
      "source": [
        "Работа с датасетом \"Willingness to Pay for the Preservation of the Kakadu National Park\".\n",
        "\n",
        "**Датасет:** Kakadu.csv (документация: https://vincentarelbundock.github.io/Rdatasets/doc/Ecdat/Kakadu.html)\n",
        "\n",
        "**Основное задание:** предобработка датасета.\n",
        "\n",
        "*   Ваши независимые переменные - все бинарные (ответы да/нет и пол респондентов). Ваша зависимая переменная - answer.\n",
        "*   Разделите датасет на тренировочную и тестовую выборки;\n",
        "*   Закодируйте независимые переменные (подумайте, какой энкодер использовать).\n",
        "*   Закодируйте зависимую переменную.\n",
        "*   Подумайте, какой тип байесовского классификатора подойдет для вашей задачи.\n",
        "\n",
        "\n",
        "**Дополнительные задания:** имплементируйте выбранный вами байесовский классификатор и/или любую другую модель. Оцените качество работы модели.\n",
        "\n",
        "(*) В этом задании можно попробовать: сравнить несколько энкодеров, нарисовать ConfusionMatrix."
      ],
      "metadata": {
        "id": "VzOd_v-6NxwF"
      },
      "id": "VzOd_v-6NxwF"
    },
    {
      "cell_type": "markdown",
      "source": [
        "## Моделирование"
      ],
      "metadata": {
        "id": "tnzRCzdFUSD1"
      },
      "id": "tnzRCzdFUSD1"
    },
    {
      "cell_type": "markdown",
      "source": [
        "### Задание 2.1"
      ],
      "metadata": {
        "id": "SkbndtKHPA6n"
      },
      "id": "SkbndtKHPA6n"
    },
    {
      "cell_type": "markdown",
      "source": [
        "Работа с датасетом \"Number of Equations and Citations for Evolutionary Biology Publications\".\n",
        "\n",
        "**Датасет:** EquationCitations.csv (документация: https://vincentarelbundock.github.io/Rdatasets/doc/AER/EquationCitations.html)\n",
        "\n",
        "**Основное задание:** предобработка датасета и моделирование зависимостей.\n",
        "\n",
        "\n",
        "*   Ваши независимые переменные: 'startpage', 'pages', 'equations', 'mainequations', 'appequations'. Ваша зависимая переменная - othercites.\n",
        "*   Разделите датасет на тренировочную и тестовую выборки;\n",
        "*   Шкалируйте независимые переменные.\n",
        "*   Смоделируйте зависимость количества \"чужих\" цитат (т.е. цитат, не являющихся самоцитированиями) от стартовой страницы, количества страниц, общего количества формул, количества формул в теле текста и количества формул в предложениях.\n",
        "*   Оцените качество работы модели;\n",
        "*   Ответьте на вопрос: какая переменная влияет на зависимую больше всего?\n",
        "\n",
        "\n",
        "**Дополнительные задания:** сравните работу нескольких моделей на этом датасете. Выполните feature engineering: сделайте ваши признаки полиномиальными. Оцените качество работы моделей на этих признаках."
      ],
      "metadata": {
        "id": "TD9B7ph8PGpF"
      },
      "id": "TD9B7ph8PGpF"
    },
    {
      "cell_type": "markdown",
      "source": [
        "### Задание 2.2"
      ],
      "metadata": {
        "id": "bt8qAVzNQ1v8"
      },
      "id": "bt8qAVzNQ1v8"
    },
    {
      "cell_type": "markdown",
      "source": [
        "Работа с укороченной версией датасета \"Amazon reviews on Women dresses\".\n",
        "\n",
        "**Датасет:** dresses_sample.csv (документация: https://www.kaggle.com/datasets/surajjha101/myntra-reviews-on-women-dresses-comprehensive)\n",
        "\n",
        "**Основное задание** предобработайте датасет и предскажите, о каком предмете одежды (department_name) идет речь, ориентируясь на текст ревью.\n",
        "\n",
        "*   Оставьте следующие колонки: department_name, review_text;\n",
        "*   Разделите датасет на тренировочную и тестовую выборки;\n",
        "*   Векторизуйте тексты ревью;\n",
        "*   Закодируйте переменную department_name;\n",
        "*   Постройте модель для определения предмета одежды, о котором идет речь, по тексту ревью;\n",
        "*   Постройте ConfusionMatrix и оцените качество модели.\n",
        "\n",
        "**Дополнительное задание:** при помощи коэффициентов модели определите, какие слова влияют на ее решения. Внимание: вам нужно выбрать модель, которая строит значимые коэффициенты.\n",
        "\n",
        "(*) В этом задании можно попробовать: уравновесить классы, сравнить несколько моделей (не нужно смотреть на коэффициенты каждой из них, просто сравнить качество)."
      ],
      "metadata": {
        "id": "WCnYy3RvRD6D"
      },
      "id": "WCnYy3RvRD6D"
    },
    {
      "cell_type": "code",
      "source": [],
      "metadata": {
        "id": "7L5tWIFgJFXm"
      },
      "id": "7L5tWIFgJFXm",
      "execution_count": null,
      "outputs": []
    }
  ],
  "metadata": {
    "kernelspec": {
      "display_name": "Python 3 (ipykernel)",
      "language": "python",
      "name": "python3"
    },
    "language_info": {
      "codemirror_mode": {
        "name": "ipython",
        "version": 3
      },
      "file_extension": ".py",
      "mimetype": "text/x-python",
      "name": "python",
      "nbconvert_exporter": "python",
      "pygments_lexer": "ipython3",
      "version": "3.7.13"
    },
    "colab": {
      "provenance": [],
      "toc_visible": true
    }
  },
  "nbformat": 4,
  "nbformat_minor": 5
}