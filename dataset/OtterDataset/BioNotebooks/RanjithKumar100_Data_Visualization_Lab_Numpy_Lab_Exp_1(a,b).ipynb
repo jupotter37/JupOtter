{
 "cells": [
  {
   "cell_type": "markdown",
   "id": "4efc97e6",
   "metadata": {
    "id": "4efc97e6"
   },
   "source": [
    "# Ex No 1.a: Basic NumPy Array Operations\n",
    "\n",
    "Aim:\n",
    "To understand the basics of NumPy arrays, including creation, attributes, slicing and indexing.\n",
    "\n",
    "Scenario:\n",
    "You are a data scientist working with a dataset of students' scores in various subjects. You need to organize this data efficiently for analysis.\n",
    "\n",
    "Sample Dataset:\n",
    "data = [\n",
    "    [85, 92, 78, 90],\n",
    "    [88, 79, 85, 93],\n",
    "    [91, 85, 87, 88],\n",
    "    [76, 88, 84, 91]\n",
    "]\n",
    "subjects = ['Math', 'Physics', 'Chemistry', 'Biology']\n",
    "\n",
    "Task to be Performed:\n",
    "1.\tCreate a NumPy array from the given dataset.\n",
    "2.\tRetrieve the attributes of the array (shape, size, dtype).\n",
    "3.\tSlice the array to get the scores of the first two students.\n",
    "4.\tIndex the array to get the score of the second student in Chemistry.\n"
   ]
  },
  {
   "cell_type": "code",
   "execution_count": null,
   "id": "feb0c0d1",
   "metadata": {
    "id": "feb0c0d1",
    "outputId": "35285d1a-56e9-4649-8ca3-330a407e513b"
   },
   "outputs": [
    {
     "name": "stdout",
     "output_type": "stream",
     "text": [
      "[[85 92 78 90]\n",
      " [88 79 85 93]\n",
      " [91 85 87 88]\n",
      " [76 88 84 91]]\n",
      "['Math' 'Physics' 'Chemistry' 'Biology']\n",
      "Shape: (4, 4)\n",
      "Size: 16\n",
      "Data type: int32\n",
      "Scores of the first two students: [[85 92 78 90]\n",
      " [88 79 85 93]]\n",
      "Score of the second student in Chemistry :  85\n"
     ]
    }
   ],
   "source": [
    "#1.\n",
    "import numpy as np\n",
    "data = np.array([ [85, 92, 78, 90], [88, 79, 85, 93], [91, 85, 87, 88], [76, 88, 84, 91] ])\n",
    "subjects = np.array(['Math', 'Physics', 'Chemistry', 'Biology'])\n",
    "print(data)\n",
    "print(subjects)\n",
    "#2.\n",
    "print(\"Shape:\", data.shape)\n",
    "print(\"Size:\",data.size)\n",
    "print(\"Data type:\",data.dtype)\n",
    "#3.\n",
    "print(\"Scores of the first two students:\",data[:2])\n",
    "#4.\n",
    "print(\"Score of the second student in Chemistry : \",data[1,2])"
   ]
  },
  {
   "cell_type": "markdown",
   "id": "c84078bd",
   "metadata": {
    "id": "c84078bd"
   },
   "source": [
    "# Ex No 1.b: Basic NumPy Array Operations\n",
    "\n",
    "Aim: To understand the basics of NumPy arrays, including creation, attributes, slicing and indexing.\n",
    "\n",
    "Scenario: You are a financial analyst working with a dataset of monthly sales revenue for a company over a year. You need to organize and analyze this data efficiently.\n",
    "\n",
    "Sample Dataset:\n",
    "months = ['January', 'February', 'March', 'April', 'May', 'June', 'July', 'August', 'September', 'October', 'November', 'December']\n",
    "sales_revenue = [12000, 15000, 17000, 13000, 16000, 18000, 20000, 19000, 17500, 16000, 15000, 16500]\n",
    "\n",
    "Task to be Performed:\n",
    "1.\tCreate a NumPy array from the sales revenue list.\n",
    "2.\tRetrieve the attributes of the array (shape, size, dtype).\n",
    "3.\tSlice the array to get the sales revenue for the first half of the year.\n",
    "4.\tIndex the array to get the sales revenue for May.\n",
    "5.\tCalculate the total sales revenue for the year.\n",
    "6.\tFind the month with the highest sales revenue.\n",
    "Expected Output:\n",
    "Shape: (12,)\n",
    "Size: 12\n",
    "Data type: int32\n",
    "First half of the year sales revenue: [12000 15000 17000 13000 16000 18000]\n",
    "Sales revenue for May: 16000\n",
    "Total sales revenue for the year: 195500\n",
    "Month with highest sales revenue: July\n"
   ]
  },
  {
   "cell_type": "code",
   "execution_count": null,
   "id": "4723b3a4",
   "metadata": {
    "colab": {
     "base_uri": "https://localhost:8080/"
    },
    "id": "4723b3a4",
    "outputId": "c3ef7724-aedc-4749-eb3e-3b8260dee7be"
   },
   "outputs": [
    {
     "name": "stdout",
     "output_type": "stream",
     "text": [
      "Sales revenue list: [12000 15000 17000 13000 16000 18000 20000 19000 17500 16000 15000 16500]\n",
      "Shape: (12,)\n",
      "Size: 12\n",
      "Data type: int64\n",
      "Sales of first half: [12000 15000 17000 13000 16000 18000]\n",
      "Sales of May: 16000\n",
      "Total Sales revenue: 195000\n",
      "Highest sales revenue: 20000\n"
     ]
    }
   ],
   "source": [
    "#1.\n",
    "import numpy as np\n",
    "data = np.array([12000, 15000, 17000, 13000, 16000, 18000, 20000, 19000, 17500, 16000, 15000, 16500])\n",
    "print(\"Sales revenue list:\",data)\n",
    "#2.\n",
    "print(\"Shape:\", data.shape)\n",
    "print(\"Size:\",data.size)\n",
    "print(\"Data type:\",data.dtype)\n",
    "#3.\n",
    "print(\"Sales of first half:\",data[0:6])\n",
    "#4.\n",
    "print(\"Sales of May:\",data[4])\n",
    "#5.\n",
    "sum = np.sum(data)\n",
    "print(\"Total Sales revenue:\",sum)\n",
    "#6.\n",
    "high = np.max(data)\n",
    "print(\"Highest sales revenue:\",high)"
   ]
  },
  {
   "cell_type": "code",
   "execution_count": null,
   "id": "5d8ee346",
   "metadata": {
    "id": "5d8ee346"
   },
   "outputs": [],
   "source": []
  }
 ],
 "metadata": {
  "colab": {
   "provenance": []
  },
  "kernelspec": {
   "display_name": "Python 3 (ipykernel)",
   "language": "python",
   "name": "python3"
  },
  "language_info": {
   "codemirror_mode": {
    "name": "ipython",
    "version": 3
   },
   "file_extension": ".py",
   "mimetype": "text/x-python",
   "name": "python",
   "nbconvert_exporter": "python",
   "pygments_lexer": "ipython3",
   "version": "3.11.5"
  }
 },
 "nbformat": 4,
 "nbformat_minor": 5
}
