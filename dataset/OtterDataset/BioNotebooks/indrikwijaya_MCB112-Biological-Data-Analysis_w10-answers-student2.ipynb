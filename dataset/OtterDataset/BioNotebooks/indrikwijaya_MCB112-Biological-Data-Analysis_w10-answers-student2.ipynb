{
 "cells": [
  {
   "cell_type": "markdown",
   "metadata": {},
   "source": [
    "# Pset 10: the adventure of the moonlighting genes\n"
   ]
  },
  {
   "cell_type": "markdown",
   "metadata": {},
   "source": [
    "## 0.1 Imports"
   ]
  },
  {
   "cell_type": "code",
   "execution_count": 49,
   "metadata": {},
   "outputs": [],
   "source": [
    "import pandas as pd\n",
    "import numpy as np\n",
    "import matplotlib.pyplot as plt\n",
    "import seaborn as sns"
   ]
  },
  {
   "cell_type": "markdown",
   "metadata": {},
   "source": [
    "## 0.1 Loading Data\n",
    "We want to pre-load Adler's data so we can use it later in the pset.\n",
    "We also want to use the list of gene names for our own synthetic data so it makes sense to load it early.\n",
    "We will also be extracting all the values, without any gene names, into out V matrix that we can use later."
   ]
  },
  {
   "cell_type": "code",
   "execution_count": 50,
   "metadata": {},
   "outputs": [
    {
     "data": {
      "text/html": [
       "<div>\n",
       "<style scoped>\n",
       "    .dataframe tbody tr th:only-of-type {\n",
       "        vertical-align: middle;\n",
       "    }\n",
       "\n",
       "    .dataframe tbody tr th {\n",
       "        vertical-align: top;\n",
       "    }\n",
       "\n",
       "    .dataframe thead th {\n",
       "        text-align: right;\n",
       "    }\n",
       "</style>\n",
       "<table border=\"1\" class=\"dataframe\">\n",
       "  <thead>\n",
       "    <tr style=\"text-align: right;\">\n",
       "      <th></th>\n",
       "      <th>0</th>\n",
       "      <th>1</th>\n",
       "      <th>2</th>\n",
       "      <th>3</th>\n",
       "      <th>4</th>\n",
       "      <th>5</th>\n",
       "      <th>6</th>\n",
       "      <th>7</th>\n",
       "      <th>8</th>\n",
       "      <th>9</th>\n",
       "      <th>...</th>\n",
       "      <th>51</th>\n",
       "      <th>52</th>\n",
       "      <th>53</th>\n",
       "      <th>54</th>\n",
       "      <th>55</th>\n",
       "      <th>56</th>\n",
       "      <th>57</th>\n",
       "      <th>58</th>\n",
       "      <th>59</th>\n",
       "      <th>60</th>\n",
       "    </tr>\n",
       "  </thead>\n",
       "  <tbody>\n",
       "    <tr>\n",
       "      <th>0</th>\n",
       "      <td>anise</td>\n",
       "      <td>1453</td>\n",
       "      <td>11100</td>\n",
       "      <td>4600</td>\n",
       "      <td>6130</td>\n",
       "      <td>8434</td>\n",
       "      <td>9249</td>\n",
       "      <td>2232</td>\n",
       "      <td>10746</td>\n",
       "      <td>4745</td>\n",
       "      <td>...</td>\n",
       "      <td>2859</td>\n",
       "      <td>715</td>\n",
       "      <td>10075</td>\n",
       "      <td>1816</td>\n",
       "      <td>196</td>\n",
       "      <td>3506</td>\n",
       "      <td>3454</td>\n",
       "      <td>3576</td>\n",
       "      <td>6269</td>\n",
       "      <td>835</td>\n",
       "    </tr>\n",
       "    <tr>\n",
       "      <th>1</th>\n",
       "      <td>apricot</td>\n",
       "      <td>944</td>\n",
       "      <td>14</td>\n",
       "      <td>1591</td>\n",
       "      <td>142</td>\n",
       "      <td>372</td>\n",
       "      <td>568</td>\n",
       "      <td>1374</td>\n",
       "      <td>154</td>\n",
       "      <td>582</td>\n",
       "      <td>...</td>\n",
       "      <td>375</td>\n",
       "      <td>1257</td>\n",
       "      <td>217</td>\n",
       "      <td>300</td>\n",
       "      <td>2250</td>\n",
       "      <td>460</td>\n",
       "      <td>578</td>\n",
       "      <td>415</td>\n",
       "      <td>1330</td>\n",
       "      <td>1387</td>\n",
       "    </tr>\n",
       "    <tr>\n",
       "      <th>2</th>\n",
       "      <td>artichoke</td>\n",
       "      <td>883</td>\n",
       "      <td>155</td>\n",
       "      <td>278</td>\n",
       "      <td>720</td>\n",
       "      <td>23</td>\n",
       "      <td>175</td>\n",
       "      <td>15</td>\n",
       "      <td>206</td>\n",
       "      <td>560</td>\n",
       "      <td>...</td>\n",
       "      <td>922</td>\n",
       "      <td>395</td>\n",
       "      <td>122</td>\n",
       "      <td>557</td>\n",
       "      <td>465</td>\n",
       "      <td>400</td>\n",
       "      <td>512</td>\n",
       "      <td>825</td>\n",
       "      <td>27</td>\n",
       "      <td>609</td>\n",
       "    </tr>\n",
       "    <tr>\n",
       "      <th>3</th>\n",
       "      <td>arugula</td>\n",
       "      <td>228</td>\n",
       "      <td>35</td>\n",
       "      <td>69</td>\n",
       "      <td>158</td>\n",
       "      <td>9</td>\n",
       "      <td>44</td>\n",
       "      <td>2</td>\n",
       "      <td>48</td>\n",
       "      <td>115</td>\n",
       "      <td>...</td>\n",
       "      <td>198</td>\n",
       "      <td>94</td>\n",
       "      <td>44</td>\n",
       "      <td>135</td>\n",
       "      <td>105</td>\n",
       "      <td>84</td>\n",
       "      <td>114</td>\n",
       "      <td>167</td>\n",
       "      <td>3</td>\n",
       "      <td>134</td>\n",
       "    </tr>\n",
       "    <tr>\n",
       "      <th>4</th>\n",
       "      <td>asparagus</td>\n",
       "      <td>608</td>\n",
       "      <td>5</td>\n",
       "      <td>1065</td>\n",
       "      <td>89</td>\n",
       "      <td>262</td>\n",
       "      <td>409</td>\n",
       "      <td>859</td>\n",
       "      <td>87</td>\n",
       "      <td>357</td>\n",
       "      <td>...</td>\n",
       "      <td>257</td>\n",
       "      <td>791</td>\n",
       "      <td>156</td>\n",
       "      <td>199</td>\n",
       "      <td>1429</td>\n",
       "      <td>261</td>\n",
       "      <td>354</td>\n",
       "      <td>255</td>\n",
       "      <td>849</td>\n",
       "      <td>887</td>\n",
       "    </tr>\n",
       "    <tr>\n",
       "      <th>...</th>\n",
       "      <td>...</td>\n",
       "      <td>...</td>\n",
       "      <td>...</td>\n",
       "      <td>...</td>\n",
       "      <td>...</td>\n",
       "      <td>...</td>\n",
       "      <td>...</td>\n",
       "      <td>...</td>\n",
       "      <td>...</td>\n",
       "      <td>...</td>\n",
       "      <td>...</td>\n",
       "      <td>...</td>\n",
       "      <td>...</td>\n",
       "      <td>...</td>\n",
       "      <td>...</td>\n",
       "      <td>...</td>\n",
       "      <td>...</td>\n",
       "      <td>...</td>\n",
       "      <td>...</td>\n",
       "      <td>...</td>\n",
       "      <td>...</td>\n",
       "    </tr>\n",
       "    <tr>\n",
       "      <th>95</th>\n",
       "      <td>wasabi</td>\n",
       "      <td>391</td>\n",
       "      <td>54</td>\n",
       "      <td>102</td>\n",
       "      <td>287</td>\n",
       "      <td>11</td>\n",
       "      <td>67</td>\n",
       "      <td>6</td>\n",
       "      <td>78</td>\n",
       "      <td>247</td>\n",
       "      <td>...</td>\n",
       "      <td>335</td>\n",
       "      <td>133</td>\n",
       "      <td>58</td>\n",
       "      <td>268</td>\n",
       "      <td>200</td>\n",
       "      <td>141</td>\n",
       "      <td>216</td>\n",
       "      <td>322</td>\n",
       "      <td>10</td>\n",
       "      <td>236</td>\n",
       "    </tr>\n",
       "    <tr>\n",
       "      <th>96</th>\n",
       "      <td>watercress</td>\n",
       "      <td>5149</td>\n",
       "      <td>755</td>\n",
       "      <td>1499</td>\n",
       "      <td>3871</td>\n",
       "      <td>136</td>\n",
       "      <td>923</td>\n",
       "      <td>79</td>\n",
       "      <td>1081</td>\n",
       "      <td>3300</td>\n",
       "      <td>...</td>\n",
       "      <td>4759</td>\n",
       "      <td>2098</td>\n",
       "      <td>917</td>\n",
       "      <td>3411</td>\n",
       "      <td>2678</td>\n",
       "      <td>2147</td>\n",
       "      <td>2935</td>\n",
       "      <td>4367</td>\n",
       "      <td>153</td>\n",
       "      <td>3260</td>\n",
       "    </tr>\n",
       "    <tr>\n",
       "      <th>97</th>\n",
       "      <td>watermelon</td>\n",
       "      <td>75</td>\n",
       "      <td>559</td>\n",
       "      <td>279</td>\n",
       "      <td>295</td>\n",
       "      <td>429</td>\n",
       "      <td>482</td>\n",
       "      <td>121</td>\n",
       "      <td>532</td>\n",
       "      <td>250</td>\n",
       "      <td>...</td>\n",
       "      <td>147</td>\n",
       "      <td>43</td>\n",
       "      <td>491</td>\n",
       "      <td>100</td>\n",
       "      <td>12</td>\n",
       "      <td>188</td>\n",
       "      <td>160</td>\n",
       "      <td>191</td>\n",
       "      <td>364</td>\n",
       "      <td>41</td>\n",
       "    </tr>\n",
       "    <tr>\n",
       "      <th>98</th>\n",
       "      <td>yam</td>\n",
       "      <td>301</td>\n",
       "      <td>2598</td>\n",
       "      <td>1041</td>\n",
       "      <td>1369</td>\n",
       "      <td>1901</td>\n",
       "      <td>2034</td>\n",
       "      <td>507</td>\n",
       "      <td>2375</td>\n",
       "      <td>1029</td>\n",
       "      <td>...</td>\n",
       "      <td>671</td>\n",
       "      <td>168</td>\n",
       "      <td>2191</td>\n",
       "      <td>379</td>\n",
       "      <td>56</td>\n",
       "      <td>842</td>\n",
       "      <td>716</td>\n",
       "      <td>758</td>\n",
       "      <td>1392</td>\n",
       "      <td>172</td>\n",
       "    </tr>\n",
       "    <tr>\n",
       "      <th>99</th>\n",
       "      <td>zucchini</td>\n",
       "      <td>101</td>\n",
       "      <td>872</td>\n",
       "      <td>345</td>\n",
       "      <td>494</td>\n",
       "      <td>656</td>\n",
       "      <td>717</td>\n",
       "      <td>150</td>\n",
       "      <td>832</td>\n",
       "      <td>383</td>\n",
       "      <td>...</td>\n",
       "      <td>223</td>\n",
       "      <td>50</td>\n",
       "      <td>728</td>\n",
       "      <td>141</td>\n",
       "      <td>14</td>\n",
       "      <td>275</td>\n",
       "      <td>271</td>\n",
       "      <td>309</td>\n",
       "      <td>513</td>\n",
       "      <td>61</td>\n",
       "    </tr>\n",
       "  </tbody>\n",
       "</table>\n",
       "<p>100 rows × 61 columns</p>\n",
       "</div>"
      ],
      "text/plain": [
       "            0     1      2     3     4     5     6     7      8     9   ...  \\\n",
       "0        anise  1453  11100  4600  6130  8434  9249  2232  10746  4745  ...   \n",
       "1      apricot   944     14  1591   142   372   568  1374    154   582  ...   \n",
       "2    artichoke   883    155   278   720    23   175    15    206   560  ...   \n",
       "3      arugula   228     35    69   158     9    44     2     48   115  ...   \n",
       "4    asparagus   608      5  1065    89   262   409   859     87   357  ...   \n",
       "..         ...   ...    ...   ...   ...   ...   ...   ...    ...   ...  ...   \n",
       "95      wasabi   391     54   102   287    11    67     6     78   247  ...   \n",
       "96  watercress  5149    755  1499  3871   136   923    79   1081  3300  ...   \n",
       "97  watermelon    75    559   279   295   429   482   121    532   250  ...   \n",
       "98         yam   301   2598  1041  1369  1901  2034   507   2375  1029  ...   \n",
       "99    zucchini   101    872   345   494   656   717   150    832   383  ...   \n",
       "\n",
       "      51    52     53    54    55    56    57    58    59    60  \n",
       "0   2859   715  10075  1816   196  3506  3454  3576  6269   835  \n",
       "1    375  1257    217   300  2250   460   578   415  1330  1387  \n",
       "2    922   395    122   557   465   400   512   825    27   609  \n",
       "3    198    94     44   135   105    84   114   167     3   134  \n",
       "4    257   791    156   199  1429   261   354   255   849   887  \n",
       "..   ...   ...    ...   ...   ...   ...   ...   ...   ...   ...  \n",
       "95   335   133     58   268   200   141   216   322    10   236  \n",
       "96  4759  2098    917  3411  2678  2147  2935  4367   153  3260  \n",
       "97   147    43    491   100    12   188   160   191   364    41  \n",
       "98   671   168   2191   379    56   842   716   758  1392   172  \n",
       "99   223    50    728   141    14   275   271   309   513    61  \n",
       "\n",
       "[100 rows x 61 columns]"
      ]
     },
     "execution_count": 50,
     "metadata": {},
     "output_type": "execute_result"
    }
   ],
   "source": [
    "file = \"w10-data.tbl\"\n",
    "df = pd.read_table(file, delim_whitespace=True, header=None)\n",
    "genes = df[0].values\n",
    "V_a = df.iloc[:,1:]\n",
    "df"
   ]
  },
  {
   "cell_type": "markdown",
   "metadata": {},
   "source": [
    "## 1. write a script that simulates positive control data\n",
    "There are four steps to creating synthetic data within the parameters given in the pset. They are\n",
    "\n",
    "- Init H matrix\n",
    "- Init W matrix\n",
    "- Get WH by multiplication\n",
    "- Construct the expected counts lambda by using $\\lambda_i = < V_i > = C \\sum_a W_{ia} H_a $\n",
    "- Introduce noise to the V matrix\n",
    "\n",
    "We init H with the dirichlet distribution like shown in section.\n",
    "For initializing W, we have to write a little more code.\n",
    "We first randomly pick a size for each gene battery, and then randomly decide which two batteries will have the overlapping moonlight genes. We then allocate genes randomly to a battery and init W as if there were no moonlighting genes with true/false assignment.\n",
    "For the genes we have selected randomly out of the genes assigned to the overlapping batteries, we also set the assignment to true for the second batteries of the moonlights. Then we assign probabilities by using, again, the dirichlet distribution across colummns so they sum to one.\n",
    "\n",
    "Then, we randomly initialize our counts matrix and construct lambda (<V>) by multiplying it to WH.\n",
    "Finally, we add poisson distributed noise (with lambda as mean) to matrix V. We return the constructed V, along with our values for W and H which we know to be the true, underlying factorizations. "
   ]
  },
  {
   "cell_type": "code",
   "execution_count": 51,
   "metadata": {},
   "outputs": [],
   "source": [
    "def get_W(N, R):\n",
    "    \n",
    "    ML_n = np.random.randint(2, 5)\n",
    "    #print('Setting ', ML_n, ' moonlight genes')\n",
    "    \n",
    "    W =  np.zeros((N, R))\n",
    "    \n",
    "    #      bat 1 bat 2 ... bat 6   \n",
    "    #\n",
    "    # g1\n",
    "    # g2\n",
    "    # ...\n",
    "    # g100\n",
    "    \n",
    "    \n",
    "    battery_n = np.random.randint(10, 40-ML_n, R)\n",
    "    #print(battery_n)\n",
    "    battery_n = ((battery_n/sum(battery_n))*N).round().astype(int) \n",
    "    \n",
    "    #print(battery_n)\n",
    "    \n",
    "    # randomly allocate genes to batteries\n",
    "    allocation = np.random.permutation(N)\n",
    "       \n",
    "    battery = []\n",
    "    for n in battery_n:\n",
    "        battery.append(allocation[:n]) \n",
    "        allocation = allocation[n:]\n",
    "        \n",
    "    # choose which two sets overlap\n",
    "    overlap = np.random.randint(0, R, 2)\n",
    "    \n",
    "    #print('Setting ', overlap, ' as overlapping batteries')\n",
    "        \n",
    "    # get indices for those sets\n",
    "    potential_moonlights = list(battery[overlap[0]]) + list(battery[overlap[1]])\n",
    "    \n",
    "    # randomly choose moonlight genes\n",
    "    moonlights = np.random.choice(potential_moonlights, size=ML_n, replace=False)\n",
    "    \n",
    "    #print('Setting ', moonlights, ' as moonlights')\n",
    "    \n",
    "    # populate W based on gene allocation in batteries\n",
    "    for column in range(W.shape[1]): # 0 to 4, 5\n",
    "        current_battery = battery[column]\n",
    "        for gene in range(W.shape[0]): # 0 to 99, 100\n",
    "            if gene in current_battery: # index is in bat 1\n",
    "                W[gene, column] = 1\n",
    "            else:\n",
    "                W[gene, column] = 0\n",
    "    \n",
    "    # change allocation for moonlights\n",
    "    for gene in moonlights:\n",
    "        tmp = np.zeros(R)\n",
    "        tmp[overlap[0]] = 1\n",
    "        tmp[overlap[1]] = 1\n",
    "        \n",
    "        # add row to W\n",
    "        W[gene] = tmp\n",
    "        \n",
    "    # Finally fill W with dirichlet per modules\n",
    "    for column in range(W.shape[1]): # 0 to 4, 5\n",
    "        tmp = W[:,column] == 1\n",
    "        dist = np.random.dirichlet(np.ones(sum(tmp)))\n",
    "        W[tmp,column] = dist\n",
    "\n",
    "    \n",
    "    return W, moonlights\n",
    "        "
   ]
  },
  {
   "cell_type": "code",
   "execution_count": 52,
   "metadata": {},
   "outputs": [],
   "source": [
    "def simulate_data(N, M, R):\n",
    "    # N genes\n",
    "    # M experiemnts\n",
    "    # R gene batteries\n",
    "    \n",
    "    # From section / lecture:\n",
    "    # V = WH => matrix factorization\n",
    "    # Set up W and H\n",
    "    \n",
    "    # dimW = N x R\n",
    "    # dimH = R x M\n",
    "    # V = N x M\n",
    "    \n",
    "    # mixture coefficient matrix\n",
    "    H = np.random.dirichlet(np.ones(R), size=M).T\n",
    "    #        ex 1 , ex 2, ..., ex 50\n",
    "    #\n",
    "    # bat 1\n",
    "    # bat 2\n",
    "    # ...\n",
    "    # bat 5\n",
    "    \n",
    "    # weights matrix\n",
    "    W, moonlights = get_W(N, R)\n",
    "    \n",
    "    # Matrix Multiplication\n",
    "    WH = W @ H\n",
    "    \n",
    "    # Get expected counts per experiment \n",
    "    # min and max of experiments\n",
    "    Cmin = 90000\n",
    "    Cmax = 110000\n",
    "    C = np.random.randint(Cmin, Cmax, M)\n",
    "    # Lambda: <V> = C*(WH)\n",
    "    V = C*(WH)\n",
    "    \n",
    "    # Introduce noise\n",
    "    V = np.random.poisson(V)\n",
    "    \n",
    "    return V, W, H, moonlights\n",
    "    "
   ]
  },
  {
   "cell_type": "code",
   "execution_count": 53,
   "metadata": {},
   "outputs": [],
   "source": [
    "# Set parameters\n",
    "np.random.seed(42)\n",
    "N, M, R = 100, 60, np.random.randint(3, 6)\n",
    "# Simulate data\n",
    "V, W, H, moonlights  = simulate_data(N, M, R)"
   ]
  },
  {
   "cell_type": "code",
   "execution_count": 54,
   "metadata": {},
   "outputs": [
    {
     "data": {
      "text/plain": [
       "array([22., 11., 28., 17., 25.])"
      ]
     },
     "execution_count": 54,
     "metadata": {},
     "output_type": "execute_result"
    }
   ],
   "source": [
    "# Checking battery size\n",
    "battery_size = np.zeros(R)\n",
    "for i in range(R):\n",
    "    for j in range(N):\n",
    "        if W[j,i] != 0:\n",
    "            battery_size[i] += 1\n",
    "battery_size\n"
   ]
  },
  {
   "cell_type": "code",
   "execution_count": 55,
   "metadata": {},
   "outputs": [
    {
     "data": {
      "text/plain": [
       "array([78, 73, 59])"
      ]
     },
     "execution_count": 55,
     "metadata": {},
     "output_type": "execute_result"
    }
   ],
   "source": [
    "# Checking moonlights\n",
    "moonlights"
   ]
  },
  {
   "cell_type": "code",
   "execution_count": 56,
   "metadata": {},
   "outputs": [
    {
     "data": {
      "text/plain": [
       "100.0"
      ]
     },
     "execution_count": 56,
     "metadata": {},
     "output_type": "execute_result"
    }
   ],
   "source": [
    "sum(battery_size) - len(moonlights)"
   ]
  },
  {
   "cell_type": "code",
   "execution_count": 57,
   "metadata": {},
   "outputs": [
    {
     "data": {
      "image/png": "[encoded data removed]",
      "text/plain": [
       "<Figure size 432x288 with 1 Axes>"
      ]
     },
     "metadata": {
      "needs_background": "light"
     },
     "output_type": "display_data"
    }
   ],
   "source": [
    "plt.hist(W.flatten(), bins=50)\n",
    "plt.xlabel('weight')\n",
    "plt.ylabel('occurances')\n",
    "plt.show()"
   ]
  },
  {
   "cell_type": "code",
   "execution_count": 58,
   "metadata": {},
   "outputs": [
    {
     "data": {
      "image/png": "[encoded data removed]",
      "text/plain": [
       "<Figure size 1080x144 with 2 Axes>"
      ]
     },
     "metadata": {
      "needs_background": "light"
     },
     "output_type": "display_data"
    }
   ],
   "source": [
    "# Checking W\n",
    "plt.figure(figsize=(15,2))\n",
    "sns.heatmap(W.T) \n",
    "plt.ylabel('modules')\n",
    "plt.xlabel('genes')\n",
    "plt.show()"
   ]
  },
  {
   "cell_type": "markdown",
   "metadata": {},
   "source": [
    "Unfortunately this does not really tell us anything other than our probability are between 0 and 1 and thus conform to what we set as parameters"
   ]
  },
  {
   "cell_type": "markdown",
   "metadata": {},
   "source": [
    "We can see the weights but cannot really tell if the assignment worked. Let's normalize per gene, meaning we scale based on the sum of probabilities across genes and that should show us one battery per gene and for the moonlights, two batteries. Let's see."
   ]
  },
  {
   "cell_type": "code",
   "execution_count": 59,
   "metadata": {},
   "outputs": [
    {
     "data": {
      "image/png": "[encoded data removed]",
      "text/plain": [
       "<Figure size 432x288 with 1 Axes>"
      ]
     },
     "metadata": {
      "needs_background": "light"
     },
     "output_type": "display_data"
    }
   ],
   "source": [
    "# Let's also check for normalized W\n",
    "W_n = np.divide(W.T, np.sum(W, axis=1))\n",
    "plt.hist(W_n.flatten(), bins=50)\n",
    "plt.xlabel('weight')\n",
    "plt.ylabel('occurances')\n",
    "plt.show()"
   ]
  },
  {
   "cell_type": "markdown",
   "metadata": {},
   "source": [
    "Great, we can see that we have values of 1 and 0 and a few inbetween for the moonlights."
   ]
  },
  {
   "cell_type": "code",
   "execution_count": 60,
   "metadata": {},
   "outputs": [
    {
     "data": {
      "image/png": "[encoded data removed]",
      "text/plain": [
       "<Figure size 1080x144 with 2 Axes>"
      ]
     },
     "metadata": {
      "needs_background": "light"
     },
     "output_type": "display_data"
    }
   ],
   "source": [
    "# Checking W_n\n",
    "plt.figure(figsize=(15,2)) \n",
    "sns.heatmap(W_n)\n",
    "plt.ylabel('modules')\n",
    "plt.xlabel('genes')\n",
    "plt.show()"
   ]
  },
  {
   "cell_type": "markdown",
   "metadata": {},
   "source": [
    "Plotting a heatmap may not be the most intuitive but it allows us the see assignments and weights more clearly rather than just looking at the matrix. So we will use this representation to compare W's."
   ]
  },
  {
   "cell_type": "markdown",
   "metadata": {},
   "source": [
    "Great, we can clearly identify three moonlight genes and that the assignment worked. We also confirmed that the batteries have the right size and that W looks right. It seems to work!"
   ]
  },
  {
   "cell_type": "markdown",
   "metadata": {},
   "source": [
    "## 2. implement nonnegative matrix factorization\n",
    "In the synthesis step, we used W and H of our choosing to generate a data matrix V. In reality, we only observe (or measure) V, but we are actually interested in the matrix W - we want to know which genes belong to which batteries. To \"extract\" that information from V, we employ a method called non-negative matrix factorization. It tries to recreate W and H that best match the data V. Of course, this will not be perfect since V contains some noise that has nothing to do with H and W, but we can try to get as close as possible for the best guesses for W and H by using the LogLikelihood to determine parameter fit, i.e. how well do estimations of H and W fit V. We iteratively improve H and W such to converge to a point where changing W and H does not yield a large change in LLH. Since NMF is a local optimizer, we also want to be sure to run our calcualtions a few times and pick the one with the best Likelihood.\n",
    "\n",
    "The formulas we use to arrive at an NMF algorithm were given in lecture and the only deviation from that notation made here is in terms of transposing matrixes as to multiply / dot product them.\n",
    "We start with the update equations and calcualte them step by step:\n",
    "\n",
    "- To get W', we divide V by lambda, which are the counts multiplied by our assumption of what WH looks like (Note here that since we are updating W and H, lambda changes too throughout the method). \n",
    "- Then we multiply each row of H with our row-like matrix of counts\n",
    "- Finally, we build the dot product out of those two pieces and multiply it by W\n",
    "- Then, we row normalize W and get W''\n",
    "\n",
    "- To get H', we also divide V by lambda but dot product it with W (Note, this is the 'old' W and not the updated one)\n",
    "- Then we multiply by H\n",
    "\n",
    "All the neccessary dimensions and transpositions based on them are commented in the code\n",
    "\n",
    "Essentially, all we are doing is calcualting a transformation that we apply onto W and H respectively to change their values to more reasonable values as we are getting closer to a matrix factorization that best fits the data V.\n",
    "\n",
    "For the LogLikelihood, we use the equation \n",
    "$ log P(V∣W,H) = \\sum_{\\mu=1}^M \\sum_{i=1}^N V_{i\\mu} log(\\lambda_{i\\mu}) - \\lambda_{i\\mu} $\n",
    "We can leave out the factorial as per section advice.\n"
   ]
  },
  {
   "cell_type": "code",
   "execution_count": 61,
   "metadata": {},
   "outputs": [],
   "source": [
    "# Using the structure from section\n",
    "def log_likelihood(V, C, W, H):\n",
    "    \"\"\"input\n",
    "            V: observed counts matrix (NxM)\n",
    "            C: total number of counts per experiment (Rx1)\n",
    "            W: current weights matrix (NxR)\n",
    "            H: current mixture coefficients matrix (RxM)\n",
    "        output\n",
    "            ll: total log likelihood of data given model\n",
    "    \"\"\"\n",
    "    # Calculate expected counts V_exp from C, W, and H\n",
    "    V_exp = C*(W@H) # lambda\n",
    "    \n",
    "    # Calculate loglikelihood using observed counts and expected counts\n",
    "    # lambda = V_exp\n",
    "    ll = np.sum(V*np.log(V_exp) - V_exp) # one sum is enough, sums over all elements since we do not specify axis\n",
    "    \n",
    "    return ll"
   ]
  },
  {
   "cell_type": "code",
   "execution_count": 62,
   "metadata": {},
   "outputs": [],
   "source": [
    "def NMF(V, R, threshold = 1e-2):\n",
    "\n",
    "    # dimW = N x R\n",
    "    # dimH = R x M\n",
    "    # V = N x M\n",
    "    N, M = V.shape\n",
    "    \n",
    "    # init W and H randomly\n",
    "    #W = np.zeros((N, R))\n",
    "    W = np.random.dirichlet(np.ones(N), size=R).T\n",
    "    H = np.random.dirichlet(np.ones(R), size=M).T\n",
    "    \n",
    "    # init C \n",
    "    C = np.sum(V, axis=0)\n",
    "    \n",
    "    # calc lambda\n",
    "    V_exp = C*(W@H)\n",
    "    \n",
    "    # Keep track of Log Likelihood\n",
    "    LLH = [np.inf, np.inf] # old and new\n",
    "    \n",
    "    # check llh until convergence\n",
    "    converged = False\n",
    "    while not converged:\n",
    "        \n",
    "        # Set previous LLH as old\n",
    "        LLH[0] = LLH[1]\n",
    "        \n",
    "        # Update Step\n",
    "        # I will be using np functions instead of shorthand notation to make it explicit what is happening\n",
    "        # That way I understand better what is going on\n",
    "        \n",
    "        # CH\n",
    "        # multiply every row (R) in H (1xM) with C (1xM)\n",
    "        # result has size of H (RxM)\n",
    "        CH = np.multiply(C,H)\n",
    "        \n",
    "        # V / lambda\n",
    "        # They have the same size so elementwise\n",
    "        # result is N x M\n",
    "        VL = np.divide(V,V_exp)\n",
    "        \n",
    "        # How can we dot them?\n",
    "        # they both have an M dimension\n",
    "        # unfortunately both columns\n",
    "        # Idea: transpose one to build dot product with same M\n",
    "        # result is NxR\n",
    "        \n",
    "        VLCH = np.dot(VL,CH.T)\n",
    "        \n",
    "        # W is N x R so that can multiply elemtwise perfectly\n",
    "        W1 = np.multiply(W,VLCH)\n",
    "        \n",
    "        # Next, we normalize and get W''\n",
    "        W2 = np.divide(W1, np.sum(W1, axis=0))\n",
    "        \n",
    "        # Then we want to update H similarily\n",
    "        # Here we again have the situation where W needs to be transposed\n",
    "        # VL is NxM and W is NxR, we transpose and dot over N\n",
    "        VLW = np.dot(W.T, VL)\n",
    "        #print(VL.shape)\n",
    "        #print(W.T.shape)\n",
    "        #print(VLW.shape)\n",
    "        H1 = np.multiply(H,VLW)\n",
    "        \n",
    "        # After getting W1, W2, H1, we assign them\n",
    "        W = W2\n",
    "        H = H1\n",
    "        V_exp = C*(W@H)\n",
    "        \n",
    "        # Get LLH\n",
    "        LLH[1] = log_likelihood(V, C, W, H)\n",
    "        \n",
    "        #print(LLH)\n",
    "        \n",
    "        # Check convergece criterion\n",
    "        diff = abs(LLH[0] - LLH[1])\n",
    "        #print(diff)\n",
    "        if diff < threshold:\n",
    "            converged = True\n",
    "            \n",
    "    return W, H, LLH[1]\n"
   ]
  },
  {
   "cell_type": "code",
   "execution_count": 63,
   "metadata": {},
   "outputs": [],
   "source": [
    "def run_NMF(V, R, runs=10, txt=False):\n",
    "    best = [0., 0., 0.] # W, H, LLH\n",
    "    for run in range(runs):\n",
    "        W, H, LLH = NMF(V, R, threshold = 1e-2)\n",
    "        if txt:\n",
    "            print('Iteration #', str(run+1), ' | LLH at ', str(LLH)) \n",
    "        if LLH > best[2]:\n",
    "            W_norm = np.divide(W.T, np.sum(W, axis=1))\n",
    "            best = [W, H, LLH, W_norm]\n",
    "    return best"
   ]
  },
  {
   "cell_type": "code",
   "execution_count": 97,
   "metadata": {},
   "outputs": [
    {
     "name": "stdout",
     "output_type": "stream",
     "text": [
      "Synthetic R:  5\n",
      "Synthetic Moonlights:  [78 73 59]\n",
      "Iteration # 1  | LLH at  40034073.52310686\n",
      "Iteration # 2  | LLH at  40034048.035661094\n",
      "Iteration # 3  | LLH at  40034079.081053056\n",
      "Iteration # 4  | LLH at  40034071.32318529\n",
      "Iteration # 5  | LLH at  40034070.569720596\n"
     ]
    }
   ],
   "source": [
    "# Setting up data for random R\n",
    "np.random.seed(42)\n",
    "N, M, R = 100, 60, np.random.randint(3, 6, 1)[0]\n",
    "print(\"Synthetic R: \", R)\n",
    "\n",
    "# Simulate data\n",
    "V, W, H, moonlights  = simulate_data(N, M, R)\n",
    "print(\"Synthetic Moonlights: \", moonlights)\n",
    "\n",
    "# running for best NMF, true R\n",
    "best = run_NMF(V, R, runs=5, txt=True)"
   ]
  },
  {
   "cell_type": "code",
   "execution_count": 98,
   "metadata": {},
   "outputs": [
    {
     "name": "stdout",
     "output_type": "stream",
     "text": [
      "R =  3  | LLH =  39276708.23071943\n",
      "R =  4  | LLH =  39720268.51077072\n",
      "R =  5  | LLH =  40034077.338995166\n",
      "R =  6  | LLH =  40034125.49496319\n",
      "R =  7  | LLH =  40034243.08854093\n"
     ]
    }
   ],
   "source": [
    "# running for different R\n",
    "np.random.seed(42)\n",
    "best_allR = []\n",
    "for r in range(3,8):\n",
    "    # run for that R\n",
    "    # V is given, no other params to vary\n",
    "    best = run_NMF(V, r, runs = 1, txt=False)\n",
    "    print ('R = ', r, ' | LLH = ', best[2])\n",
    "    best_allR.append(best)\n",
    "    "
   ]
  },
  {
   "cell_type": "code",
   "execution_count": 99,
   "metadata": {},
   "outputs": [],
   "source": [
    "# Great, we can see that the LLH stagnates at R = 5\n",
    "# which is the true R\n",
    "# Let's see\n",
    "bestW = best_allR[2][3]"
   ]
  },
  {
   "cell_type": "code",
   "execution_count": 100,
   "metadata": {},
   "outputs": [
    {
     "data": {
      "image/png": "[encoded data removed]",
      "text/plain": [
       "<Figure size 1080x144 with 2 Axes>"
      ]
     },
     "metadata": {
      "needs_background": "light"
     },
     "output_type": "display_data"
    },
    {
     "data": {
      "image/png": "[encoded data removed]",
      "text/plain": [
       "<Figure size 432x288 with 1 Axes>"
      ]
     },
     "metadata": {
      "needs_background": "light"
     },
     "output_type": "display_data"
    }
   ],
   "source": [
    "# plotting the best W, but non-normalized\n",
    "plt.figure(figsize=(15,2))\n",
    "sns.heatmap(best_allR[2][0].T)\n",
    "plt.ylabel('modules')\n",
    "plt.xlabel('genes')\n",
    "plt.show()\n",
    "\n",
    "plt.hist(best_allR[2][0].flatten(), bins=50)\n",
    "plt.xlabel('weight')\n",
    "plt.ylabel('occurances')\n",
    "plt.show()"
   ]
  },
  {
   "cell_type": "markdown",
   "metadata": {},
   "source": [
    "Here, we can see that while NMF comes up with positive weights for genes that belong to a battery, the rest of the probabilties are not exactly zero. That does not matter if we look at normalization later but is something to keep in mind if there should ever be a problem where the probabilities for the genes are way closer to zero than they are in this problem and dataset. We can also see that in the numbers by looking at best_allR[2][0].T but no need to print an entire matrix here. We get the idea.\n",
    "Now, let's try with the row-normalized (across genes, i.e. normalize per gene) data matrix. "
   ]
  },
  {
   "cell_type": "code",
   "execution_count": 101,
   "metadata": {},
   "outputs": [
    {
     "data": {
      "image/png": "[encoded data removed]",
      "text/plain": [
       "<Figure size 432x288 with 1 Axes>"
      ]
     },
     "metadata": {
      "needs_background": "light"
     },
     "output_type": "display_data"
    }
   ],
   "source": [
    "plt.hist(bestW.flatten(), bins=50)\n",
    "plt.xlabel('weight')\n",
    "plt.ylabel('occurances')\n",
    "plt.show()"
   ]
  },
  {
   "cell_type": "code",
   "execution_count": 102,
   "metadata": {},
   "outputs": [
    {
     "data": {
      "image/png": "[encoded data removed]",
      "text/plain": [
       "<Figure size 1080x144 with 2 Axes>"
      ]
     },
     "metadata": {
      "needs_background": "light"
     },
     "output_type": "display_data"
    },
    {
     "data": {
      "image/png": "[encoded data removed]",
      "text/plain": [
       "<Figure size 1080x144 with 2 Axes>"
      ]
     },
     "metadata": {
      "needs_background": "light"
     },
     "output_type": "display_data"
    }
   ],
   "source": [
    "# plotting the true W\n",
    "W_n = np.divide(W.T, np.sum(W, axis=1))\n",
    "plt.figure(figsize=(15,2))\n",
    "sns.heatmap(W_n) \n",
    "plt.ylabel('modules')\n",
    "plt.xlabel('genes')\n",
    "plt.show()\n",
    "\n",
    "# plotting the best W\n",
    "plt.figure(figsize=(15,2))\n",
    "sns.heatmap(bestW)\n",
    "plt.ylabel('modules')\n",
    "plt.xlabel('genes')\n",
    "plt.show()\n"
   ]
  },
  {
   "cell_type": "markdown",
   "metadata": {},
   "source": [
    "Great, we can see that W seem to match well and that we can visually make out the moonlights. We can also see that the modules do not seem to match directly but those are arbitrary and if we order them by the genes that belong to them, the batteries containing the moonlights should match between the two W's.\n",
    "\n",
    "Now, let's make this a bit more tangible. We can count the number of genes per modules and we can also find out which are the moonlight genes and assign them names. Here, the critical part is the threshold, that we can roughly set by looking at the histogram."
   ]
  },
  {
   "cell_type": "code",
   "execution_count": 103,
   "metadata": {},
   "outputs": [],
   "source": [
    "# Extract clusters\n",
    "def get_batteries(W, threshold, return_ML=False, txt=True):\n",
    "    \n",
    "    moonlights = []\n",
    "    rows, columns = W.shape\n",
    "    modules = [[] for x in range(columns)]\n",
    "    #print(modules)\n",
    "    for i in range(rows):\n",
    "        m_id = 0\n",
    "        for j in range(columns):\n",
    "            # print(W[i,j])\n",
    "            if float(W[i,j]) > threshold:\n",
    "                modules[j].append(i)\n",
    "                m_id += 1\n",
    "        if m_id > 1:\n",
    "            # moonlight gene\n",
    "            moonlights.append(i)\n",
    "    if txt:\n",
    "        print(\"Identified moonlights (idx): \", moonlights)\n",
    "        print(\"Identified moonlights (names): \", genes[moonlights].tolist())\n",
    "\n",
    "    # Order modules by length\n",
    "    modules.sort(key=lambda s: len(s))\n",
    "    \n",
    "    overlap = set()\n",
    "    for moonlight in moonlights:\n",
    "        for idx, module in enumerate(modules):\n",
    "            if moonlight in module:\n",
    "                #print(\"Moonlight \", moonlight, \"identified in module \", idx+1)\n",
    "                overlap.add(idx+1)\n",
    "                \n",
    "    if txt:\n",
    "        print(\"Overlapping Modules #\", overlap, '\\n')\n",
    "    \n",
    "        for idx, module in enumerate(modules):\n",
    "            print(\"Module #\", idx+1, \" | Length: \", len(module), '\\n')\n",
    "        \n",
    "    if return_ML:\n",
    "        return len(moonlights)\n",
    "        \n",
    " "
   ]
  },
  {
   "cell_type": "code",
   "execution_count": 111,
   "metadata": {},
   "outputs": [
    {
     "name": "stdout",
     "output_type": "stream",
     "text": [
      "Identified moonlights (idx):  [59, 73, 78]\n",
      "Identified moonlights (names):  ['nectarine', 'pineapple', 'pumpkin']\n",
      "Overlapping Modules # {2, 3} \n",
      "\n",
      "Module # 1  | Length:  11 \n",
      "\n",
      "Module # 2  | Length:  17 \n",
      "\n",
      "Module # 3  | Length:  22 \n",
      "\n",
      "Module # 4  | Length:  25 \n",
      "\n",
      "Module # 5  | Length:  28 \n",
      "\n",
      "Identified moonlights (idx):  [59, 73, 78]\n",
      "Identified moonlights (names):  ['nectarine', 'pineapple', 'pumpkin']\n",
      "Overlapping Modules # {2, 3} \n",
      "\n",
      "Module # 1  | Length:  11 \n",
      "\n",
      "Module # 2  | Length:  17 \n",
      "\n",
      "Module # 3  | Length:  22 \n",
      "\n",
      "Module # 4  | Length:  25 \n",
      "\n",
      "Module # 5  | Length:  28 \n",
      "\n"
     ]
    }
   ],
   "source": [
    "# Threshold is kind of arbitrary, but looking at the ihstogram helped in identifying ~ 0.1\n",
    "# getting clusters for true W (we know that already)\n",
    "get_batteries(W_n.T, 0.2)\n",
    "\n",
    "# getting clusters for NMF W \n",
    "get_batteries(bestW.T, 0.2)\n"
   ]
  },
  {
   "cell_type": "markdown",
   "metadata": {},
   "source": [
    "## 3. analyze the Adler data"
   ]
  },
  {
   "cell_type": "code",
   "execution_count": 105,
   "metadata": {},
   "outputs": [
    {
     "name": "stdout",
     "output_type": "stream",
     "text": [
      "R =  3  | LLH =  40398456.07783157\n",
      "R =  4  | LLH =  40796057.773460835\n",
      "R =  5  | LLH =  40796146.98205508\n",
      "R =  6  | LLH =  40796196.136119686\n",
      "R =  7  | LLH =  40796281.90635849\n"
     ]
    }
   ],
   "source": [
    "for r in range(3,8):\n",
    "    W, H, LLH = NMF(np.array(V_a), r, threshold = 1e-2)\n",
    "    print ('R = ', r, ' | LLH = ', LLH)"
   ]
  },
  {
   "cell_type": "markdown",
   "metadata": {},
   "source": [
    "Interesting, it seems like LLH stagnates at R = 4.\n",
    "So we we identify that as the true number of modules and run the NMF with that value multiple times."
   ]
  },
  {
   "cell_type": "code",
   "execution_count": 106,
   "metadata": {},
   "outputs": [
    {
     "name": "stdout",
     "output_type": "stream",
     "text": [
      "Iteration # 1  | LLH at  40795891.35025979\n",
      "Iteration # 2  | LLH at  40795960.951767236\n",
      "Iteration # 3  | LLH at  40795954.51008718\n",
      "Iteration # 4  | LLH at  40796047.189449854\n",
      "Iteration # 5  | LLH at  40796058.31814475\n",
      "Iteration # 6  | LLH at  40796058.019186385\n",
      "Iteration # 7  | LLH at  40796058.40882925\n",
      "Iteration # 8  | LLH at  40796053.95952989\n"
     ]
    }
   ],
   "source": [
    "# running for best NMF\n",
    "best = run_NMF(np.array(V_a), R=4, runs=8, txt=True)\n",
    "W_a = best[3]"
   ]
  },
  {
   "cell_type": "code",
   "execution_count": 107,
   "metadata": {},
   "outputs": [
    {
     "data": {
      "image/png": "[encoded data removed]",
      "text/plain": [
       "<Figure size 1080x144 with 2 Axes>"
      ]
     },
     "metadata": {
      "needs_background": "light"
     },
     "output_type": "display_data"
    }
   ],
   "source": [
    "plt.figure(figsize=(15,2))\n",
    "sns.heatmap(W_a)\n",
    "plt.ylabel('modules')\n",
    "plt.xlabel('genes')\n",
    "plt.show()"
   ]
  },
  {
   "cell_type": "markdown",
   "metadata": {},
   "source": [
    "It seems like there are three moonlight genes just based on visual confirmation. Let's also look at the histogram to try and get a threshold and then run the module assignment function."
   ]
  },
  {
   "cell_type": "code",
   "execution_count": 108,
   "metadata": {},
   "outputs": [
    {
     "data": {
      "image/png": "[encoded data removed]",
      "text/plain": [
       "<Figure size 432x288 with 1 Axes>"
      ]
     },
     "metadata": {
      "needs_background": "light"
     },
     "output_type": "display_data"
    }
   ],
   "source": [
    "plt.hist(W_a.flatten(), bins=50)\n",
    "plt.xlabel('weight')\n",
    "plt.ylabel('occurance')\n",
    "plt.show()"
   ]
  },
  {
   "cell_type": "code",
   "execution_count": 115,
   "metadata": {},
   "outputs": [
    {
     "name": "stdout",
     "output_type": "stream",
     "text": [
      "Identified moonlights (idx):  [39, 47, 71]\n",
      "Identified moonlights (names):  ['grape', 'kohlrabi', 'pepper']\n",
      "Overlapping Modules # {2, 3} \n",
      "\n",
      "Module # 1  | Length:  20 \n",
      "\n",
      "Module # 2  | Length:  20 \n",
      "\n",
      "Module # 3  | Length:  20 \n",
      "\n",
      "Module # 4  | Length:  43 \n",
      "\n",
      "Identified moonlights (idx):  [47, 71]\n",
      "Identified moonlights (names):  ['kohlrabi', 'pepper']\n",
      "Overlapping Modules # {1, 3} \n",
      "\n",
      "Module # 1  | Length:  19 \n",
      "\n",
      "Module # 2  | Length:  20 \n",
      "\n",
      "Module # 3  | Length:  20 \n",
      "\n",
      "Module # 4  | Length:  43 \n",
      "\n"
     ]
    }
   ],
   "source": [
    "# Lenient threshold\n",
    "get_batteries(W_a.T, 0.1)\n",
    "\n",
    "# Strict threshold\n",
    "get_batteries(W_a.T, 0.2)\n"
   ]
  },
  {
   "cell_type": "markdown",
   "metadata": {},
   "source": [
    "Also note here that modules 1, 2, and 3 aren't neccessarily the numbers for the original modules of Adler's data. Since they all have the same length, we would only match modules across data generation if we compare comprising genes. Here, we can say that the moonlighters were in modules with length 20 each. Another module w/o moonlighters also had length 20 and the remaining module had length 43. "
   ]
  },
  {
   "cell_type": "markdown",
   "metadata": {},
   "source": [
    "Since the threshold is a major component in (mis)identifying moonlights. Finally, we want to figure out how senstive it is w.r.t this data."
   ]
  },
  {
   "cell_type": "code",
   "execution_count": 110,
   "metadata": {},
   "outputs": [
    {
     "data": {
      "image/png": "[encoded data removed]",
      "text/plain": [
       "<Figure size 432x288 with 1 Axes>"
      ]
     },
     "metadata": {
      "needs_background": "light"
     },
     "output_type": "display_data"
    }
   ],
   "source": [
    "# We get different results based on the treshold and this seems to be one of the drawbacks \n",
    "# since we might miss moonlighting genes if they might have even more disperesed probabilities\n",
    "\n",
    "moonlight_n = []\n",
    "thresholds = np.linspace(0., 0.2, num=25)\n",
    "for t in thresholds:\n",
    "    moonlight_n.append(get_batteries(W_a.T, t, return_ML=True, txt=False))\n",
    "plt.plot(thresholds, moonlight_n)\n",
    "plt.xlabel('threshold for module assignment')\n",
    "plt.ylabel('number of moonlight genes found')\n",
    "plt.show()"
   ]
  },
  {
   "cell_type": "markdown",
   "metadata": {},
   "source": [
    "This analysis kind of reminds me of the Bonferroni or q value comparison. If we set a really strict threshold such that we may even miss some true moonlights, we make sure to identify those that are ver likely moonlights (above 0.2 for example) but miss out on one's that are moonlights too but not as clearly. And in fact, we can see that with Adler and thresolding at 0.2. Then we only identify two moonlights. The more lenient we are with the threhold, the more moonlights we indentify, but that also means that we may very well have some false postives. So, depending on how many ressources one has and what to do with the identified moonlights after the analysis, one might to be either conservative and restric tmoonlights, or one might be open to inccuring some faulty moonlights.\n",
    "\n",
    "For the Adler data, I would settle on the lenient threshold and say we have three moonlights ['grape', 'kohlrabi', 'pepper'] with batteries of 20,20,20,43 lengths. This is also guided by the visual representation of W.\n",
    "\n",
    "Finally, we can say that NMF worked pretty well on our synthetic data, as well as on Adler's data. We saw how useful it is the generate synthetic data to test the algorithm an sniff out possible complications (such as the cutoff expression probability). \n",
    "However, out data was pretty \"simple\" the way it was generated. We only had genes be shared across two batteries - in reality, that is usually much more complicated and that can lead to cases where the identification with NMF isn't so clear since the probabilities are all closer together (here, it was pretty clear to see which genes were only on in one battery). This might be a potential drawback and would suggest that further study or refinment is neccessary in pinpointing moonlights. Finally, I am feeling really good about having implemented this algorithm from scratch and with the help of the paper - something that not only taught me how to do the maths and biology but also something that gave me some trust in my ability to read and recreate actual academic work!"
   ]
  },
  {
   "cell_type": "code",
   "execution_count": null,
   "metadata": {},
   "outputs": [],
   "source": []
  }
 ],
 "metadata": {
  "kernelspec": {
   "display_name": "Python 3",
   "language": "python",
   "name": "python3"
  },
  "language_info": {
   "codemirror_mode": {
    "name": "ipython",
    "version": 3
   },
   "file_extension": ".py",
   "mimetype": "text/x-python",
   "name": "python",
   "nbconvert_exporter": "python",
   "pygments_lexer": "ipython3",
   "version": "3.6.9"
  }
 },
 "nbformat": 4,
 "nbformat_minor": 4
}
