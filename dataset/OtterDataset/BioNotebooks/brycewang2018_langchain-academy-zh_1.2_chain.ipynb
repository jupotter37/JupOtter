{
 "cells": [
  {
   "cell_type": "markdown",
   "id": "4cbf2458",
   "metadata": {},
   "source": [
    "[![Open in Colab](https://colab.research.google.com/assets/colab-badge.svg)](https://colab.research.google.com/github/langchain-ai/langchain-academy/blob/main/module-1/chain.ipynb) [![Open in LangChain Academy](https://cdn.prod.website-files.com/65b8cd72835ceeacd4449a53/66e9eba12c7b7688aa3dbb5e_LCA-badge-green.svg)](https://academy.langchain.com/courses/take/intro-to-langgraph/lessons/58238466-lesson-4-chain)"
   ]
  },
  {
   "cell_type": "markdown",
   "id": "d7c08b85",
   "metadata": {},
   "source": [
    "英文原版：https://github.com/langchain-ai/langchain-academy/tree/main\n",
    "\n",
    "译者：Bryce Wang, brycewang2018@gmail.com"
   ]
  },
  {
   "attachments": {},
   "cell_type": "markdown",
   "id": "ee55d3da-c53a-4c76-b46f-8e0d602e072e",
   "metadata": {},
   "source": [
    "# 主题：Chain\n",
    "\n",
    "## 回顾\n",
    "\n",
    "在上一个 ipynb 中，我们创建了一个包含多个节点、普通边和条件边的一个简单图。\n",
    "\n",
    "## Goals\n",
    "\n",
    "现在，让我们创建一个简单的 chain，基于下面的 4 个概念 [concepts](https://python.langchain.com/v0.2/docs/concepts/):\n",
    "\n",
    "* 用 [chat messages](https://python.langchain.com/v0.2/docs/concepts/#messages) 来当成 graph state（字典）\n",
    "* 用 [chat models](https://python.langchain.com/v0.2/docs/concepts/#chat-models) 来建立节点（节点=基于大模型的函数）\n",
    "* [Binding tools](https://python.langchain.com/v0.2/docs/concepts/#tools) - 为我们的大模型创建工具（工具=函数）\n",
    "* [Executing tool calls](https://python.langchain.com/v0.2/docs/concepts/#functiontool-calling) - 在图的节点中执行工具\n",
    "\n",
    "![Screenshot 2024-08-21 at 9.24.03 AM.png](https://cdn.prod.website-files.com/65b8cd72835ceeacd4449a53/66dbab08dd607b08df5e1101_chain1.png)"
   ]
  },
  {
   "cell_type": "code",
   "execution_count": 1,
   "id": "a55e2e80-a718-4aaf-99b9-371157b34a4b",
   "metadata": {},
   "outputs": [],
   "source": [
    "%%capture --no-stderr\n",
    "%pip install --quiet -U langchain_openai langchain_core langgraph"
   ]
  },
  {
   "cell_type": "markdown",
   "id": "ae5ac2d0-c7b0-4a20-86e5-4b6ed15ec20e",
   "metadata": {},
   "source": [
    "## Messages: 聊天记录\n",
    "\n",
    "Chat models 可以使用 [`messages`](https://python.langchain.com/v0.2/docs/concepts/#messages)，用来记录对话中的不同角色。\n",
    "\n",
    "LangChain 支持多种消息类型，包括 `HumanMessage`、`AIMessage`、`SystemMessage` 和 `ToolMessage`。\n",
    "\n",
    "这些类型分别表示`来自用户的消息`、`来自聊天模型的消息`、`用于指导聊天模型行为的消息`，以及`来自工具调用的消息`。\n",
    "\n",
    "我们来创建一组消息。\n",
    "\n",
    "每条消息可以包含以下内容：\n",
    "\n",
    "- `content` - 消息的内容\n",
    "- `name` - 可选的，消息作者的名称\n",
    "- `response_metadata` - 可选的，包含元数据的字典（例如，通常由模型提供商为 AIMessages 填充）"
   ]
  },
  {
   "cell_type": "code",
   "execution_count": 2,
   "id": "866b5321-a238-4a9e-af9e-f11a131b5f11",
   "metadata": {},
   "outputs": [
    {
     "name": "stdout",
     "output_type": "stream",
     "text": [
      "==================================\u001b[1m Ai Message \u001b[0m==================================\n",
      "Name: Model\n",
      "\n",
      "So you said you were researching ocean mammals?\n",
      "================================\u001b[1m Human Message \u001b[0m=================================\n",
      "Name: Lance\n",
      "\n",
      "Yes, that's right.\n",
      "==================================\u001b[1m Ai Message \u001b[0m==================================\n",
      "Name: Model\n",
      "\n",
      "Great, what would you like to learn about.\n",
      "================================\u001b[1m Human Message \u001b[0m=================================\n",
      "Name: Lance\n",
      "\n",
      "I want to learn about the best place to see Orcas in the US.\n"
     ]
    }
   ],
   "source": [
    "from pprint import pprint\n",
    "from langchain_core.messages import AIMessage, HumanMessage\n",
    "\n",
    "## 虚构一些人类用户和大模型 AI 的聊天记录\n",
    "messages = [AIMessage(content=f\"So you said you were researching ocean mammals?\", name=\"Model\")]\n",
    "messages.append(HumanMessage(content=f\"Yes, that's right.\",name=\"Lance\"))\n",
    "messages.append(AIMessage(content=f\"Great, what would you like to learn about.\", name=\"Model\"))\n",
    "messages.append(HumanMessage(content=f\"I want to learn about the best place to see Orcas in the US.\", name=\"Lance\"))\n",
    "\n",
    "for m in messages:\n",
    "    m.pretty_print()"
   ]
  },
  {
   "cell_type": "code",
   "execution_count": 4,
   "id": "24247c33",
   "metadata": {},
   "outputs": [
    {
     "data": {
      "text/plain": [
       "[AIMessage(content='So you said you were researching ocean mammals?', additional_kwargs={}, response_metadata={}, name='Model'),\n",
       " HumanMessage(content=\"Yes, that's right.\", additional_kwargs={}, response_metadata={}, name='Lance'),\n",
       " AIMessage(content='Great, what would you like to learn about.', additional_kwargs={}, response_metadata={}, name='Model'),\n",
       " HumanMessage(content='I want to learn about the best place to see Orcas in the US.', additional_kwargs={}, response_metadata={}, name='Lance')]"
      ]
     },
     "execution_count": 4,
     "metadata": {},
     "output_type": "execute_result"
    }
   ],
   "source": [
    "messages # 返回的是一个列表"
   ]
  },
  {
   "cell_type": "code",
   "execution_count": 7,
   "id": "1d89b629",
   "metadata": {},
   "outputs": [
    {
     "data": {
      "text/plain": [
       "'So you said you were researching ocean mammals?'"
      ]
     },
     "execution_count": 7,
     "metadata": {},
     "output_type": "execute_result"
    }
   ],
   "source": [
    "messages[0].content # 类似于提取大模型聊天结果的内容"
   ]
  },
  {
   "cell_type": "markdown",
   "id": "0ca48df0-b639-4ff1-a777-ffe2185d991e",
   "metadata": {},
   "source": [
    "## Chat Models：定义大模型\n",
    "\n",
    "[Chat models](https://python.langchain.com/v0.2/docs/concepts/#chat-models) 可以把一系列的聊天记录当成 input，并且支持区分前面提到的 4 种不同的信息类型。\n",
    "\n",
    "我们有 [多种选择](https://python.langchain.com/v0.2/docs/concepts/#chat-models) ，本案例的选择是 OpenAI. \n",
    "\n",
    "让我们核对下你的 `OPENAI_API_KEY` 是否设置成功，否则我们会让你再次输入。"
   ]
  },
  {
   "cell_type": "code",
   "execution_count": 8,
   "id": "2652d5ec-7602-4220-bc6e-b90783ab287b",
   "metadata": {},
   "outputs": [],
   "source": [
    "## 检查并要求输入 OpenAI API 密钥\n",
    "import os, getpass\n",
    "\n",
    "def _set_env(var: str):\n",
    "    if not os.environ.get(var):\n",
    "        os.environ[var] = getpass.getpass(f\"{var}: \")\n",
    "\n",
    "_set_env(\"OPENAI_API_KEY\")"
   ]
  },
  {
   "cell_type": "markdown",
   "id": "ceae53d4-14f5-4bf3-a953-cc465240f5b5",
   "metadata": {},
   "source": [
    "我们可以创建一个 Chat Model，并使用 messages 聊天记录列表来 invoke 它.\n",
    "\n",
    "我们可以看到返回的结果，是一个带有 `response_metadata` 的 `AIMessage` 对象。"
   ]
  },
  {
   "cell_type": "code",
   "execution_count": 12,
   "id": "321e5fa1",
   "metadata": {},
   "outputs": [
    {
     "data": {
      "text/plain": [
       "[AIMessage(content='So you said you were researching ocean mammals?', additional_kwargs={}, response_metadata={}, name='Model'),\n",
       " HumanMessage(content=\"Yes, that's right.\", additional_kwargs={}, response_metadata={}, name='Lance'),\n",
       " AIMessage(content='Great, what would you like to learn about.', additional_kwargs={}, response_metadata={}, name='Model'),\n",
       " HumanMessage(content='I want to learn about the best place to see Orcas in the US.', additional_kwargs={}, response_metadata={}, name='Lance')]"
      ]
     },
     "execution_count": 12,
     "metadata": {},
     "output_type": "execute_result"
    }
   ],
   "source": [
    "messages "
   ]
  },
  {
   "cell_type": "code",
   "execution_count": 9,
   "id": "95b99ad4-5753-49d3-a916-a9e949722c01",
   "metadata": {},
   "outputs": [
    {
     "data": {
      "text/plain": [
       "langchain_core.messages.ai.AIMessage"
      ]
     },
     "execution_count": 9,
     "metadata": {},
     "output_type": "execute_result"
    }
   ],
   "source": [
    "from langchain_openai import ChatOpenAI\n",
    "llm = ChatOpenAI(model=\"gpt-4o\")\n",
    "result = llm.invoke(messages)\n",
    "type(result)"
   ]
  },
  {
   "cell_type": "code",
   "execution_count": 10,
   "id": "88d60338-c892-4d04-a83f-878de4a76a6a",
   "metadata": {},
   "outputs": [
    {
     "data": {
      "text/plain": [
       "AIMessage(content=\"One of the best places to see orcas in the United States is in the waters around the San Juan Islands in Washington State. These islands are located in the Pacific Northwest, near the Canadian border, and are renowned for their rich marine life, including orcas. The best time for orca watching in the San Juan Islands is typically from late spring through early fall, with the peak season being from May to September.\\n\\nIn addition to the San Juan Islands, other notable locations for orca sightings in the U.S. include:\\n\\n1. **Puget Sound, Washington**: Orcas, especially the Southern Resident orcas, can often be seen in Puget Sound. The waters around Seattle and Tacoma sometimes offer orca sightings.\\n\\n2. **Monterey Bay, California**: While primarily known for other marine mammals, orcas can occasionally be spotted in Monterey Bay, especially around April and May during their hunting of gray whale calves.\\n\\n3. **Southeast Alaska**: Though not part of the contiguous U.S., Southeast Alaska is another excellent location for seeing orcas, particularly during the summer months.\\n\\nWhen planning a trip to see orcas, it's a good idea to book a tour with a reputable whale-watching company that follows guidelines to protect these magnificent animals.\", additional_kwargs={'refusal': None}, response_metadata={'token_usage': {'completion_tokens': 258, 'prompt_tokens': 67, 'total_tokens': 325, 'completion_tokens_details': {'accepted_prediction_tokens': 0, 'audio_tokens': 0, 'reasoning_tokens': 0, 'rejected_prediction_tokens': 0}, 'prompt_tokens_details': {'audio_tokens': 0, 'cached_tokens': 0}}, 'model_name': 'gpt-4o-2024-08-06', 'system_fingerprint': 'fp_d28bcae782', 'finish_reason': 'stop', 'logprobs': None}, id='run-3205e3d6-752a-4912-aff5-cbd02ac07642-0', usage_metadata={'input_tokens': 67, 'output_tokens': 258, 'total_tokens': 325, 'input_token_details': {'audio': 0, 'cache_read': 0}, 'output_token_details': {'audio': 0, 'reasoning': 0}})"
      ]
     },
     "execution_count": 10,
     "metadata": {},
     "output_type": "execute_result"
    }
   ],
   "source": [
    "result"
   ]
  },
  {
   "cell_type": "code",
   "execution_count": 11,
   "id": "18ed82c6",
   "metadata": {},
   "outputs": [
    {
     "data": {
      "text/plain": [
       "\"One of the best places to see orcas in the United States is in the waters around the San Juan Islands in Washington State. These islands are located in the Pacific Northwest, near the Canadian border, and are renowned for their rich marine life, including orcas. The best time for orca watching in the San Juan Islands is typically from late spring through early fall, with the peak season being from May to September.\\n\\nIn addition to the San Juan Islands, other notable locations for orca sightings in the U.S. include:\\n\\n1. **Puget Sound, Washington**: Orcas, especially the Southern Resident orcas, can often be seen in Puget Sound. The waters around Seattle and Tacoma sometimes offer orca sightings.\\n\\n2. **Monterey Bay, California**: While primarily known for other marine mammals, orcas can occasionally be spotted in Monterey Bay, especially around April and May during their hunting of gray whale calves.\\n\\n3. **Southeast Alaska**: Though not part of the contiguous U.S., Southeast Alaska is another excellent location for seeing orcas, particularly during the summer months.\\n\\nWhen planning a trip to see orcas, it's a good idea to book a tour with a reputable whale-watching company that follows guidelines to protect these magnificent animals.\""
      ]
     },
     "execution_count": 11,
     "metadata": {},
     "output_type": "execute_result"
    }
   ],
   "source": [
    "result.content "
   ]
  },
  {
   "cell_type": "code",
   "execution_count": 13,
   "id": "c3a29654-6b8e-4eda-9cec-22fabb9b8620",
   "metadata": {},
   "outputs": [
    {
     "data": {
      "text/plain": [
       "{'token_usage': {'completion_tokens': 258,\n",
       "  'prompt_tokens': 67,\n",
       "  'total_tokens': 325,\n",
       "  'completion_tokens_details': {'accepted_prediction_tokens': 0,\n",
       "   'audio_tokens': 0,\n",
       "   'reasoning_tokens': 0,\n",
       "   'rejected_prediction_tokens': 0},\n",
       "  'prompt_tokens_details': {'audio_tokens': 0, 'cached_tokens': 0}},\n",
       " 'model_name': 'gpt-4o-2024-08-06',\n",
       " 'system_fingerprint': 'fp_d28bcae782',\n",
       " 'finish_reason': 'stop',\n",
       " 'logprobs': None}"
      ]
     },
     "execution_count": 13,
     "metadata": {},
     "output_type": "execute_result"
    }
   ],
   "source": [
    "result.response_metadata"
   ]
  },
  {
   "cell_type": "code",
   "execution_count": null,
   "id": "8ef8e737",
   "metadata": {},
   "outputs": [
    {
     "data": {
      "text/plain": [
       "AIMessage(content='Hello! How can I assist you today?', additional_kwargs={'refusal': None}, response_metadata={'token_usage': {'completion_tokens': 10, 'prompt_tokens': 7, 'total_tokens': 17, 'completion_tokens_details': {'accepted_prediction_tokens': 0, 'audio_tokens': 0, 'reasoning_tokens': 0, 'rejected_prediction_tokens': 0}, 'prompt_tokens_details': {'audio_tokens': 0, 'cached_tokens': 0}}, 'model_name': 'gpt-4o-2024-08-06', 'system_fingerprint': 'fp_d28bcae782', 'finish_reason': 'stop', 'logprobs': None}, id='run-88423622-a7ed-40dd-b069-d543275e8576-0', usage_metadata={'input_tokens': 7, 'output_tokens': 10, 'total_tokens': 17, 'input_token_details': {'audio': 0, 'cache_read': 0}, 'output_token_details': {'audio': 0, 'reasoning': 0}})"
      ]
     },
     "execution_count": 15,
     "metadata": {},
     "output_type": "execute_result"
    }
   ],
   "source": [
    "## 基于空白的 messages 对象调用 invoke\n",
    "llm.invoke(input=\"\")  ## 返回的是类似于 ChatGPT 平时的打招呼信息"
   ]
  },
  {
   "attachments": {},
   "cell_type": "markdown",
   "id": "4718bd5c-5314-4405-a164-f1fe912ae306",
   "metadata": {},
   "source": [
    "## Tools：基于函数定义工具，供大模型调用并在节点执行\n",
    "\n",
    "工具在需要模型与外部系统交互时非常有用。\n",
    "\n",
    "外部系统（例如 API）通常需要特定的`输入格式或数据结构` (`input schema or payload`)，而不是自然语言。\n",
    "\n",
    "当我们将一个 API `绑定为工具时，就会提示大模型该工具所需的输入格式`。\n",
    "\n",
    "模型会`根据用户的自然语言输入，决定是否调用工具`。\n",
    "\n",
    "同时，工具所返回的输出，将符合工具的规定格式（schema）。\n",
    "\n",
    "[许多 LLM 供应商都支持 tool calling](https://python.langchain.com/v0.1/docs/integrations/chat/) 和 [tool calling interface](https://blog.langchain.dev/improving-core-tool-interfaces-and-docs-in-langchain/)，它们在 LangChain 中的定义是很简单的. \n",
    " \n",
    "你可以可以简单地给 `ChatModel.bind_tools(function)`，传递一个普通的 Python `函数`。\n",
    "\n",
    "![Screenshot 2024-08-19 at 7.46.28 PM.png](https://cdn.prod.website-files.com/65b8cd72835ceeacd4449a53/66dbab08dc1c17a7a57f9960_chain2.png)"
   ]
  },
  {
   "cell_type": "markdown",
   "id": "17a942b1",
   "metadata": {},
   "source": [
    "下面我们会展示一个 tool calling 的简单案例。\n",
    " \n",
    "这里我们的工具是 `multiply` 函数（工具=函数）。"
   ]
  },
  {
   "cell_type": "code",
   "execution_count": 16,
   "id": "928faf56-1a1a-4c5f-b97d-bd64d8e166d1",
   "metadata": {},
   "outputs": [],
   "source": [
    "## 定义一个函数 \n",
    "def multiply(a: int, b: int) -> int:\n",
    "    \"\"\"Multiply a and b.\n",
    "\n",
    "    Args:\n",
    "        a: first int\n",
    "        b: second int\n",
    "    \"\"\"\n",
    "    return a * b\n",
    "\n",
    "## 绑定函数到 llm 对象\n",
    "llm_with_tools = llm.bind_tools([multiply])"
   ]
  },
  {
   "cell_type": "markdown",
   "id": "8a3f9dba",
   "metadata": {},
   "source": [
    " 如果我们给大模型传入一句话，比如，`\"What is 2 multiplied by 3\"`，我们可以得到一个 tool call。\n",
    "\n",
    "这个 tool call， 会带匹配目标工具的 input schema 参数（`大模型在调用工具的时候，会自动生成运行工具函数的参数`）:\n",
    "\n",
    "```\n",
    "{'arguments': '{\"a\":2,\"b\":3}', 'name': 'multiply'}\n",
    "```"
   ]
  },
  {
   "cell_type": "code",
   "execution_count": null,
   "id": "9edbe13e-cc72-4685-ac97-2ebb4ceb2544",
   "metadata": {},
   "outputs": [
    {
     "data": {
      "text/plain": [
       "AIMessage(content='', additional_kwargs={'tool_calls': [{'id': 'call_YPW8aFyk1nRKv3fd4HUcL767', 'function': {'arguments': '{\"a\":2,\"b\":3}', 'name': 'multiply'}, 'type': 'function'}], 'refusal': None}, response_metadata={'token_usage': {'completion_tokens': 18, 'prompt_tokens': 62, 'total_tokens': 80, 'completion_tokens_details': {'accepted_prediction_tokens': 0, 'audio_tokens': 0, 'reasoning_tokens': 0, 'rejected_prediction_tokens': 0}, 'prompt_tokens_details': {'audio_tokens': 0, 'cached_tokens': 0}}, 'model_name': 'gpt-4o-2024-08-06', 'system_fingerprint': 'fp_d28bcae782', 'finish_reason': 'tool_calls', 'logprobs': None}, id='run-3877704d-b0b2-4a2a-a1ba-f03e6c307263-0', tool_calls=[{'name': 'multiply', 'args': {'a': 2, 'b': 3}, 'id': 'call_YPW8aFyk1nRKv3fd4HUcL767', 'type': 'tool_call'}], usage_metadata={'input_tokens': 62, 'output_tokens': 18, 'total_tokens': 80, 'input_token_details': {'audio': 0, 'cache_read': 0}, 'output_token_details': {'audio': 0, 'reasoning': 0}})"
      ]
     },
     "execution_count": 17,
     "metadata": {},
     "output_type": "execute_result"
    }
   ],
   "source": [
    "## 调用工具函数\n",
    "tool_call = llm_with_tools.invoke([HumanMessage(content=f\"What is 2 multiplied by 3\", name=\"Lance\")])\n",
    "tool_call\n",
    "\n",
    "## 再次说明：大模型决定了是否调用工具，并且如果决定调用，会返回执行工具函数所需要的参数"
   ]
  },
  {
   "cell_type": "code",
   "execution_count": 18,
   "id": "a78178cb-fa43-45b5-be5e-5a22bda5a5e7",
   "metadata": {},
   "outputs": [
    {
     "data": {
      "text/plain": [
       "[{'id': 'call_YPW8aFyk1nRKv3fd4HUcL767',\n",
       "  'function': {'arguments': '{\"a\":2,\"b\":3}', 'name': 'multiply'},\n",
       "  'type': 'function'}]"
      ]
     },
     "execution_count": 18,
     "metadata": {},
     "output_type": "execute_result"
    }
   ],
   "source": [
    "## 提取工具函数返回的参数\n",
    "tool_call.additional_kwargs['tool_calls']"
   ]
  },
  {
   "cell_type": "markdown",
   "id": "21c10f9a-2372-486b-9305-55b7c41ecd6e",
   "metadata": {},
   "source": [
    "## 基于 messages 定义 state （=字典= input schema for all）\n",
    "\n",
    "\n",
    "Let's define our state, `MessagesState`, as a `TypedDict` with a single key: `messages`.\n",
    "\n",
    "`messages` is simply a list of messages, as we defined above (e.g., `HumanMessage`, etc).\n",
    "\n",
    "有了这些基础，我们现在可以在我们的图状态（graph state）中使用 [`messages`](https://python.langchain.com/v0.2/docs/concepts/#messages)。\n",
    "\n",
    "让我们将状态 `MessagesState` 定义为一个带有单一键 `messages` 的 `TypedDict` (state = 字典)。\n",
    "\n",
    "`messages` 就是我们上面定义的一组消息（例如，`HumanMessage` 等）的列表。"
   ]
  },
  {
   "cell_type": "code",
   "execution_count": 19,
   "id": "3699dd5c-398c-43c7-b496-fd87e55e11ca",
   "metadata": {},
   "outputs": [],
   "source": [
    "## 基于 messages 定义 state\n",
    "from typing_extensions import TypedDict\n",
    "from langchain_core.messages import AnyMessage\n",
    "\n",
    "\n",
    "##  AnyMessage 是用来表示消息的泛型类型。这是一种类型注解，表示 messages 列表中的元素可以是任何消息类型，\n",
    "## 例如 HumanMessage, AIMessage, SystemMessage 或 ToolMessage 等\n",
    "class MessagesState(TypedDict): # 之前我们定义的叫 State; LangGraph 其实自带有 MessageState，下面会正式介绍\n",
    "    messages: list[AnyMessage]\n",
    "\n",
    "\n",
    "## 对比一下我们之前定义的 state 字典\n",
    "## 定义了一个名为 State 的类型\n",
    "## 这个类型继承了 TypedDict，声明 State 的实例是一个字典\n",
    "## 字典中必须包含一个键名为 graph_state，其值的类型必须是 str（TypeDict 的核心作用）\n",
    "#class State(TypedDict):\n",
    "#    graph_state: str  ## 对于 graph_state 这个键，其值必须是 str 类型"
   ]
  },
  {
   "cell_type": "markdown",
   "id": "211cba3e-ebba-4b91-a539-1cbc28b4a40e",
   "metadata": {},
   "source": [
    "## Reducers: append 新信息，而不是 override\n",
    "现在，我们遇到了一个小问题！\n",
    "\n",
    "正如我们讨论的，每个节点都会为 state key `messages` 返回一个新值（字典中，默认会覆盖原来的值）。\n",
    "\n",
    "而且，这个新值会覆盖[override](https://langchain-ai.github.io/langgraph/concepts/low_level/#reducers) 之前的 messages 值。\n",
    "\n",
    "随着图的运行，我们希望将消息追加**append** (而不是覆盖)到我们的 `messages` state key 中。\n",
    "\n",
    "我们可以使用`归约函数`[reducer functions](https://langchain-ai.github.io/langgraph/concepts/low_level/#reducers),来解决这个问题。\n",
    "\n",
    "归约函数允许我们，指定状态更新的执行方式。\n",
    "\n",
    "如果未指定归约函数，则默认假定对键的更新是覆盖，正如我们之前看到的那样。\n",
    "\n",
    "这里，为了追加消息，我们可以使用预构建的 `add_messages` 归约函数。\n",
    "\n",
    "这可以确保任何新消息都被追加到现有的消息列表中。\n",
    "\n",
    "我们只需通过元数据将 `add_messages` 归约函数，注解到 `messages 键`上即可。"
   ]
  },
  {
   "cell_type": "code",
   "execution_count": 22,
   "id": "6b33eb72-3197-4870-b9a3-0da8056c40c5",
   "metadata": {},
   "outputs": [],
   "source": [
    "from typing import Annotated\n",
    "from langgraph.graph.message import add_messages\n",
    "\n",
    "class MessagesState(TypedDict):\n",
    "    messages: Annotated[list[AnyMessage], add_messages]"
   ]
  },
  {
   "cell_type": "markdown",
   "id": "3663e574-ba15-46be-a37c-48c8052d693b",
   "metadata": {},
   "source": [
    "由于在图状态中拥有消息列表是如此常见，LangGraph 提供了一个预构建的 [`MessagesState`](https://langchain-ai.github.io/langgraph/concepts/low_level/#messagesstate)! \n",
    "\n",
    "`MessagesState` 的定义如下：\n",
    "\n",
    "- 内置了一个单一的 `messages` 键\n",
    "- 这是一个由 `AnyMessage` 对象组成的列表\n",
    "- 使用了 `add_messages` 归约函数\n",
    "- 我们通常会使用 `MessagesState`，因为它比自定义 `TypedDict` 的方式更简洁。"
   ]
  },
  {
   "cell_type": "code",
   "execution_count": 23,
   "id": "9ab516ee-eab1-4856-8210-99f1fe499672",
   "metadata": {},
   "outputs": [],
   "source": [
    "from langgraph.graph import MessagesState\n",
    "\n",
    "class MessagesState(MessagesState):\n",
    "    # Add any keys needed beyond messages, which is pre-built \n",
    "    pass"
   ]
  },
  {
   "cell_type": "markdown",
   "id": "36b0fff7-60a2-4582-8f12-3a3ab6633d6c",
   "metadata": {},
   "source": [
    "更深入一点，我们可以单独看看 `add_messages` 归约函数是如何工作的。"
   ]
  },
  {
   "cell_type": "code",
   "execution_count": 24,
   "id": "23ffea76-16a5-4053-a1bc-91e0101d91dc",
   "metadata": {},
   "outputs": [
    {
     "data": {
      "text/plain": [
       "[AIMessage(content='Hello! How can I assist you?', additional_kwargs={}, response_metadata={}, name='Model', id='eb313cae-e1d9-40ef-a43c-e65345ef5e73'),\n",
       " HumanMessage(content=\"I'm looking for information on marine biology.\", additional_kwargs={}, response_metadata={}, name='Lance', id='d6397750-5cf1-4a6e-9aa1-3eadd2ce5b8a'),\n",
       " AIMessage(content='Sure, I can help with that. What specifically are you interested in?', additional_kwargs={}, response_metadata={}, name='Model', id='590421b6-4219-484f-9ee3-6606b8c3d144')]"
      ]
     },
     "execution_count": 24,
     "metadata": {},
     "output_type": "execute_result"
    }
   ],
   "source": [
    "# Initial state\n",
    "initial_messages = [AIMessage(content=\"Hello! How can I assist you?\", name=\"Model\"),\n",
    "                    HumanMessage(content=\"I'm looking for information on marine biology.\", name=\"Lance\")\n",
    "                   ]\n",
    "\n",
    "# New message to add\n",
    "new_message = AIMessage(content=\"Sure, I can help with that. What specifically are you interested in?\", name=\"Model\")\n",
    "\n",
    "# Test\n",
    "add_messages(initial_messages , new_message)"
   ]
  },
  {
   "cell_type": "markdown",
   "id": "485adccc-f262-49dd-af4f-a30e9b6a48e2",
   "metadata": {},
   "source": [
    "## 创建图"
   ]
  },
  {
   "cell_type": "markdown",
   "id": "604f53b5",
   "metadata": {},
   "source": [
    "现在，让我们使用 `MessagesState` 创建一个图。"
   ]
  },
  {
   "cell_type": "code",
   "execution_count": 25,
   "id": "b5306639-7e6a-44be-8471-8d2631701cfb",
   "metadata": {},
   "outputs": [
    {
     "data": {
      "image/png": "[encoded data removed]",
      "text/plain": [
       "<IPython.core.display.Image object>"
      ]
     },
     "metadata": {},
     "output_type": "display_data"
    }
   ],
   "source": [
    "from IPython.display import Image, display\n",
    "from langgraph.graph import StateGraph, START, END\n",
    "    \n",
    "# Node\n",
    "def tool_calling_llm(state: MessagesState):\n",
    "    return {\"messages\": [llm_with_tools.invoke(state[\"messages\"])]}\n",
    "\n",
    "# Build graph\n",
    "builder = StateGraph(MessagesState) \n",
    "builder.add_node(\"tool_calling_llm\", tool_calling_llm)\n",
    "builder.add_edge(START, \"tool_calling_llm\")\n",
    "builder.add_edge(\"tool_calling_llm\", END)\n",
    "graph = builder.compile()\n",
    "\n",
    "# View\n",
    "display(Image(graph.get_graph().draw_mermaid_png()))"
   ]
  },
  {
   "cell_type": "markdown",
   "id": "e8909771-7786-47d6-a53d-6bbc3b365737",
   "metadata": {},
   "source": [
    "If we pass in `Hello!`, the LLM responds without any tool calls."
   ]
  },
  {
   "cell_type": "code",
   "execution_count": 26,
   "id": "983e2487-c0a5-40a2-afbc-aa53ff49fefc",
   "metadata": {},
   "outputs": [
    {
     "name": "stdout",
     "output_type": "stream",
     "text": [
      "================================\u001b[1m Human Message \u001b[0m=================================\n",
      "\n",
      "Hello!\n",
      "==================================\u001b[1m Ai Message \u001b[0m==================================\n",
      "\n",
      "Hi there! How can I assist you today?\n"
     ]
    }
   ],
   "source": [
    "messages = graph.invoke({\"messages\": HumanMessage(content=\"Hello!\")})\n",
    "for m in messages['messages']:\n",
    "    m.pretty_print()"
   ]
  },
  {
   "cell_type": "markdown",
   "id": "3588688b-efd9-4dbc-abf2-7903e3ef89ba",
   "metadata": {},
   "source": [
    "The LLM chooses to use a tool when it determines that the input or task requires the functionality provided by that tool."
   ]
  },
  {
   "cell_type": "code",
   "execution_count": 27,
   "id": "7fe8b042-ecc8-426f-995e-cc1bbaf7cacc",
   "metadata": {},
   "outputs": [
    {
     "name": "stdout",
     "output_type": "stream",
     "text": [
      "================================\u001b[1m Human Message \u001b[0m=================================\n",
      "\n",
      "Multiply 2 and 3\n",
      "==================================\u001b[1m Ai Message \u001b[0m==================================\n",
      "Tool Calls:\n",
      "  multiply (call_nRrHkMgtWJvWAPHiKtuYyi9d)\n",
      " Call ID: call_nRrHkMgtWJvWAPHiKtuYyi9d\n",
      "  Args:\n",
      "    a: 2\n",
      "    b: 3\n"
     ]
    }
   ],
   "source": [
    "messages = graph.invoke({\"messages\": HumanMessage(content=\"Multiply 2 and 3\")})\n",
    "for m in messages['messages']:\n",
    "    m.pretty_print()"
   ]
  },
  {
   "cell_type": "code",
   "execution_count": null,
   "id": "b31e117a",
   "metadata": {},
   "outputs": [],
   "source": [
    "## 后面的 notebook，会介绍如何执行工具函数，并返回结果\n",
    "# END"
   ]
  }
 ],
 "metadata": {
  "kernelspec": {
   "display_name": "lc-academy-env",
   "language": "python",
   "name": "python3"
  },
  "language_info": {
   "codemirror_mode": {
    "name": "ipython",
    "version": 3
   },
   "file_extension": ".py",
   "mimetype": "text/x-python",
   "name": "python",
   "nbconvert_exporter": "python",
   "pygments_lexer": "ipython3",
   "version": "3.11.1"
  }
 },
 "nbformat": 4,
 "nbformat_minor": 5
}
