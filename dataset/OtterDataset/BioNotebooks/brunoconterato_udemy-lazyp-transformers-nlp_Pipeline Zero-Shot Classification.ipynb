{
 "cells": [
  {
   "cell_type": "code",
   "execution_count": 1,
   "metadata": {},
   "outputs": [
    {
     "name": "stdout",
     "output_type": "stream",
     "text": [
      "O arquivo “bbc_text_cls.csv” já existe, não será baixado.\n",
      "\n"
     ]
    }
   ],
   "source": [
    "# https://www.kaggle.com/shivamkushwaha/bbc-full-text-document-classification\n",
    "!wget -nc https://lazyprogrammer.me/course_files/nlp/bbc_text_cls.csv"
   ]
  },
  {
   "cell_type": "code",
   "execution_count": 2,
   "metadata": {},
   "outputs": [
    {
     "name": "stdout",
     "output_type": "stream",
     "text": [
      "Requirement already satisfied: transformers in /home/bruno/anaconda3/envs/gpt/lib/python3.9/site-packages (4.31.0)\n",
      "Requirement already satisfied: pyyaml>=5.1 in /home/bruno/anaconda3/envs/gpt/lib/python3.9/site-packages (from transformers) (6.0)\n",
      "Requirement already satisfied: huggingface-hub<1.0,>=0.14.1 in /home/bruno/anaconda3/envs/gpt/lib/python3.9/site-packages (from transformers) (0.16.4)\n",
      "Requirement already satisfied: packaging>=20.0 in /home/bruno/anaconda3/envs/gpt/lib/python3.9/site-packages (from transformers) (22.0)\n",
      "Requirement already satisfied: tqdm>=4.27 in /home/bruno/anaconda3/envs/gpt/lib/python3.9/site-packages (from transformers) (4.64.1)\n",
      "Requirement already satisfied: filelock in /home/bruno/anaconda3/envs/gpt/lib/python3.9/site-packages (from transformers) (3.9.0)\n",
      "Requirement already satisfied: safetensors>=0.3.1 in /home/bruno/anaconda3/envs/gpt/lib/python3.9/site-packages (from transformers) (0.3.1)\n",
      "Requirement already satisfied: numpy>=1.17 in /home/bruno/anaconda3/envs/gpt/lib/python3.9/site-packages (from transformers) (1.21.5)\n",
      "Requirement already satisfied: requests in /home/bruno/anaconda3/envs/gpt/lib/python3.9/site-packages (from transformers) (2.28.1)\n",
      "Requirement already satisfied: tokenizers!=0.11.3,<0.14,>=0.11.1 in /home/bruno/anaconda3/envs/gpt/lib/python3.9/site-packages (from transformers) (0.13.3)\n",
      "Requirement already satisfied: regex!=2019.12.17 in /home/bruno/anaconda3/envs/gpt/lib/python3.9/site-packages (from transformers) (2022.7.9)\n",
      "Requirement already satisfied: fsspec in /home/bruno/anaconda3/envs/gpt/lib/python3.9/site-packages (from huggingface-hub<1.0,>=0.14.1->transformers) (2022.11.0)\n",
      "Requirement already satisfied: typing-extensions>=3.7.4.3 in /home/bruno/anaconda3/envs/gpt/lib/python3.9/site-packages (from huggingface-hub<1.0,>=0.14.1->transformers) (4.4.0)\n",
      "Requirement already satisfied: certifi>=2017.4.17 in /home/bruno/anaconda3/envs/gpt/lib/python3.9/site-packages (from requests->transformers) (2022.12.7)\n",
      "Requirement already satisfied: urllib3<1.27,>=1.21.1 in /home/bruno/anaconda3/envs/gpt/lib/python3.9/site-packages (from requests->transformers) (1.26.14)\n",
      "Requirement already satisfied: idna<4,>=2.5 in /home/bruno/anaconda3/envs/gpt/lib/python3.9/site-packages (from requests->transformers) (3.4)\n",
      "Requirement already satisfied: charset-normalizer<3,>=2 in /home/bruno/anaconda3/envs/gpt/lib/python3.9/site-packages (from requests->transformers) (2.0.4)\n"
     ]
    }
   ],
   "source": [
    "!pip install transformers"
   ]
  },
  {
   "cell_type": "code",
   "execution_count": 88,
   "metadata": {},
   "outputs": [],
   "source": [
    "from transformers import pipeline\n",
    "\n",
    "import pandas as pd\n",
    "import numpy as np\n",
    "import seaborn as sn\n",
    "import matplotlib.pyplot as plt\n",
    "import textwrap\n",
    "\n",
    "from sklearn.metrics import roc_auc_score, f1_score, confusion_matrix, recall_score, precision_score\n",
    "\n",
    "from typing import List"
   ]
  },
  {
   "cell_type": "code",
   "execution_count": 4,
   "metadata": {},
   "outputs": [
    {
     "name": "stderr",
     "output_type": "stream",
     "text": [
      "No model was supplied, defaulted to facebook/bart-large-mnli and revision c626438 (https://huggingface.co/facebook/bart-large-mnli).\n",
      "Using a pipeline without specifying a model name and revision in production is not recommended.\n"
     ]
    }
   ],
   "source": [
    "classifier = pipeline(\"zero-shot-classification\", device=0)"
   ]
  },
  {
   "cell_type": "code",
   "execution_count": 5,
   "metadata": {},
   "outputs": [
    {
     "data": {
      "text/plain": [
       "{'sequence': 'this is a great movie',\n",
       " 'labels': ['positive', 'negative'],\n",
       " 'scores': [0.9962115287780762, 0.003788488684222102]}"
      ]
     },
     "execution_count": 5,
     "metadata": {},
     "output_type": "execute_result"
    }
   ],
   "source": [
    "classifier(\"this is a great movie\", candidate_labels=[\"positive\", \"negative\"])"
   ]
  },
  {
   "cell_type": "code",
   "execution_count": 6,
   "metadata": {},
   "outputs": [
    {
     "data": {
      "text/plain": [
       "{'sequence': 'Due to the presence of isoforms of its components, there are 12 versions of AMPK in mammals, each of which can have different tissue localizations, and different functions under different conditions. AMPK is regulated allosterically and by post-translational modification, which work together.',\n",
       " 'labels': ['biology', 'math', 'geology'],\n",
       " 'scores': [0.8908607959747314, 0.06606560200452805, 0.04307366907596588]}"
      ]
     },
     "execution_count": 6,
     "metadata": {},
     "output_type": "execute_result"
    }
   ],
   "source": [
    "# https://en.wikipedia.org/wiki/AMP-activated_protein_kinase\n",
    "text = \"Due to the presence of isoforms of its components, there are 12 \" + \\\n",
    "  \"versions of AMPK in mammals, each of which can have different tissue \" + \\\n",
    "  \"localizations, and different functions under different conditions. \" + \\\n",
    "  \"AMPK is regulated allosterically and by post-translational \" + \\\n",
    "  \"modification, which work together.\"\n",
    "classifier(text, candidate_labels=[\"biology\", \"math\", \"geology\"])"
   ]
  },
  {
   "cell_type": "code",
   "execution_count": 7,
   "metadata": {},
   "outputs": [
    {
     "data": {
      "text/plain": [
       "2225"
      ]
     },
     "execution_count": 7,
     "metadata": {},
     "output_type": "execute_result"
    }
   ],
   "source": [
    "df = pd.read_csv(\"bbc_text_cls.csv\")\n",
    "len(df)"
   ]
  },
  {
   "cell_type": "code",
   "execution_count": 8,
   "metadata": {},
   "outputs": [
    {
     "data": {
      "text/html": [
       "<div>\n",
       "<style scoped>\n",
       "    .dataframe tbody tr th:only-of-type {\n",
       "        vertical-align: middle;\n",
       "    }\n",
       "\n",
       "    .dataframe tbody tr th {\n",
       "        vertical-align: top;\n",
       "    }\n",
       "\n",
       "    .dataframe thead th {\n",
       "        text-align: right;\n",
       "    }\n",
       "</style>\n",
       "<table border=\"1\" class=\"dataframe\">\n",
       "  <thead>\n",
       "    <tr style=\"text-align: right;\">\n",
       "      <th></th>\n",
       "      <th>text</th>\n",
       "      <th>labels</th>\n",
       "    </tr>\n",
       "  </thead>\n",
       "  <tbody>\n",
       "    <tr>\n",
       "      <th>710</th>\n",
       "      <td>Triple triumph for Little Britain\\n\\nTop TV cu...</td>\n",
       "      <td>entertainment</td>\n",
       "    </tr>\n",
       "    <tr>\n",
       "      <th>1578</th>\n",
       "      <td>Benitez 'to launch Morientes bid'\\n\\nLiverpool...</td>\n",
       "      <td>sport</td>\n",
       "    </tr>\n",
       "    <tr>\n",
       "      <th>866</th>\n",
       "      <td>Aviator and Vera take Bafta glory\\n\\nHollywood...</td>\n",
       "      <td>entertainment</td>\n",
       "    </tr>\n",
       "    <tr>\n",
       "      <th>277</th>\n",
       "      <td>SBC plans post-takeover job cuts\\n\\nUS phone c...</td>\n",
       "      <td>business</td>\n",
       "    </tr>\n",
       "    <tr>\n",
       "      <th>1519</th>\n",
       "      <td>Arnesen denies rift with Santini\\n\\nTottenham ...</td>\n",
       "      <td>sport</td>\n",
       "    </tr>\n",
       "  </tbody>\n",
       "</table>\n",
       "</div>"
      ],
      "text/plain": [
       "                                                   text         labels\n",
       "710   Triple triumph for Little Britain\\n\\nTop TV cu...  entertainment\n",
       "1578  Benitez 'to launch Morientes bid'\\n\\nLiverpool...          sport\n",
       "866   Aviator and Vera take Bafta glory\\n\\nHollywood...  entertainment\n",
       "277   SBC plans post-takeover job cuts\\n\\nUS phone c...       business\n",
       "1519  Arnesen denies rift with Santini\\n\\nTottenham ...          sport"
      ]
     },
     "execution_count": 8,
     "metadata": {},
     "output_type": "execute_result"
    }
   ],
   "source": [
    "df.sample(frac=1.0).head()"
   ]
  },
  {
   "cell_type": "code",
   "execution_count": 9,
   "metadata": {},
   "outputs": [
    {
     "data": {
      "text/plain": [
       "['business', 'entertainment', 'politics', 'sport', 'tech']"
      ]
     },
     "execution_count": 9,
     "metadata": {},
     "output_type": "execute_result"
    }
   ],
   "source": [
    "# labels = list(set(df[\"labels\"]))\n",
    "labels = df[\"labels\"].unique().tolist()\n",
    "labels"
   ]
  },
  {
   "cell_type": "code",
   "execution_count": 10,
   "metadata": {},
   "outputs": [
    {
     "name": "stdout",
     "output_type": "stream",
     "text": [
      "UK troops on Ivory Coast standby  Downing Street has confirmed British\n",
      "troops are on standby in case they need to help evacuate several\n",
      "hundred UK citizens from Ivory Coast.  The news came as it emerged\n",
      "France had begun evacuating its hostages after days of anti-French\n",
      "demonstrations. Trouble flared after nine French peacekeepers were\n",
      "killed and President Jacques Chirac ordered the destruction of the\n",
      "Ivory Coast's air force. A company of 100-120 UK troops is understood\n",
      "to have been put on standby. They are ready to fly out and secure the\n",
      "route from the embassy to the airport if called upon. Prime Minister\n",
      "Tony Blair's official spokesman said: \"There are British nationals in\n",
      "Ivory Coast and as you can imagine we are making the usual contingency\n",
      "plans in case the situation deteriorates further, but that's all I can\n",
      "say at this stage.\"  He added the situation would be monitored\n",
      "carefully in case evacuation became necessary. France has played a\n",
      "lead role in international peacekeeping in Ivory Coast - a former\n",
      "colony - after President Laurent Gbagbo broke an 18-month ceasefire\n",
      "with rebels bombing their positions and killing the nine French\n",
      "soldiers. The decision to destroy the African nation's small air force\n",
      "prompted riots against French and other foreign nationals. The Spanish\n",
      "have already put their forces on standby to evacuate their nationals\n",
      "if necessary.\n"
     ]
    }
   ],
   "source": [
    "print(textwrap.fill(df.iloc[1024]['text']))"
   ]
  },
  {
   "cell_type": "code",
   "execution_count": 11,
   "metadata": {},
   "outputs": [
    {
     "data": {
      "text/plain": [
       "'politics'"
      ]
     },
     "execution_count": 11,
     "metadata": {},
     "output_type": "execute_result"
    }
   ],
   "source": [
    "df.iloc[1024]['labels']"
   ]
  },
  {
   "cell_type": "code",
   "execution_count": 12,
   "metadata": {},
   "outputs": [
    {
     "data": {
      "text/plain": [
       "{'sequence': 'UK troops on Ivory Coast standby\\n\\nDowning Street has confirmed British troops are on standby in case they need to help evacuate several hundred UK citizens from Ivory Coast.\\n\\nThe news came as it emerged France had begun evacuating its hostages after days of anti-French demonstrations. Trouble flared after nine French peacekeepers were killed and President Jacques Chirac ordered the destruction of the Ivory Coast\\'s air force. A company of 100-120 UK troops is understood to have been put on standby. They are ready to fly out and secure the route from the embassy to the airport if called upon. Prime Minister Tony Blair\\'s official spokesman said: \"There are British nationals in Ivory Coast and as you can imagine we are making the usual contingency plans in case the situation deteriorates further, but that\\'s all I can say at this stage.\"\\n\\nHe added the situation would be monitored carefully in case evacuation became necessary. France has played a lead role in international peacekeeping in Ivory Coast - a former colony - after President Laurent Gbagbo broke an 18-month ceasefire with rebels bombing their positions and killing the nine French soldiers. The decision to destroy the African nation\\'s small air force prompted riots against French and other foreign nationals. The Spanish have already put their forces on standby to evacuate their nationals if necessary.',\n",
       " 'labels': ['politics', 'tech', 'business', 'entertainment', 'sport'],\n",
       " 'scores': [0.41753101348876953,\n",
       "  0.2115551084280014,\n",
       "  0.20523874461650848,\n",
       "  0.11830674856901169,\n",
       "  0.0473683699965477]}"
      ]
     },
     "execution_count": 12,
     "metadata": {},
     "output_type": "execute_result"
    }
   ],
   "source": [
    "classifier(df.iloc[1024]['text'], candidate_labels=labels)"
   ]
  },
  {
   "cell_type": "code",
   "execution_count": 13,
   "metadata": {},
   "outputs": [],
   "source": [
    "import warnings\n",
    "with warnings.catch_warnings():\n",
    "    warnings.simplefilter('ignore', category=UserWarning)\n",
    "    preds = classifier(df['text'].tolist(), candidate_labels=labels)"
   ]
  },
  {
   "cell_type": "code",
   "execution_count": 15,
   "metadata": {},
   "outputs": [
    {
     "data": {
      "text/plain": [
       "{'sequence': 'Ad sales boost Time Warner profit\\n\\nQuarterly profits at US media giant TimeWarner jumped 76% to $1.13bn (£600m) for the three months to December, from $639m year-earlier.\\n\\nThe firm, which is now one of the biggest investors in Google, benefited from sales of high-speed internet connections and higher advert sales. TimeWarner said fourth quarter sales rose 2% to $11.1bn from $10.9bn. Its profits were buoyed by one-off gains which offset a profit dip at Warner Bros, and less users for AOL.\\n\\nTime Warner said on Friday that it now owns 8% of search-engine Google. But its own internet business, AOL, had has mixed fortunes. It lost 464,000 subscribers in the fourth quarter profits were lower than in the preceding three quarters. However, the company said AOL\\'s underlying profit before exceptional items rose 8% on the back of stronger internet advertising revenues. It hopes to increase subscribers by offering the online service free to TimeWarner internet customers and will try to sign up AOL\\'s existing customers for high-speed broadband. TimeWarner also has to restate 2000 and 2003 results following a probe by the US Securities Exchange Commission (SEC), which is close to concluding.\\n\\nTime Warner\\'s fourth quarter profits were slightly better than analysts\\' expectations. But its film division saw profits slump 27% to $284m, helped by box-office flops Alexander and Catwoman, a sharp contrast to year-earlier, when the third and final film in the Lord of the Rings trilogy boosted results. For the full-year, TimeWarner posted a profit of $3.36bn, up 27% from its 2003 performance, while revenues grew 6.4% to $42.09bn. \"Our financial performance was strong, meeting or exceeding all of our full-year objectives and greatly enhancing our flexibility,\" chairman and chief executive Richard Parsons said. For 2005, TimeWarner is projecting operating earnings growth of around 5%, and also expects higher revenue and wider profit margins.\\n\\nTimeWarner is to restate its accounts as part of efforts to resolve an inquiry into AOL by US market regulators. It has already offered to pay $300m to settle charges, in a deal that is under review by the SEC. The company said it was unable to estimate the amount it needed to set aside for legal reserves, which it previously set at $500m. It intends to adjust the way it accounts for a deal with German music publisher Bertelsmann\\'s purchase of a stake in AOL Europe, which it had reported as advertising revenue. It will now book the sale of its stake in AOL Europe as a loss on the value of that stake.',\n",
       " 'labels': ['business', 'tech', 'entertainment', 'politics', 'sport'],\n",
       " 'scores': [0.5125008225440979,\n",
       "  0.18689684569835663,\n",
       "  0.1622413545846939,\n",
       "  0.0762288048863411,\n",
       "  0.0621320977807045]}"
      ]
     },
     "execution_count": 15,
     "metadata": {},
     "output_type": "execute_result"
    }
   ],
   "source": [
    "preds[0]"
   ]
  },
  {
   "cell_type": "code",
   "execution_count": 16,
   "metadata": {},
   "outputs": [
    {
     "data": {
      "text/plain": [
       "'business'"
      ]
     },
     "execution_count": 16,
     "metadata": {},
     "output_type": "execute_result"
    }
   ],
   "source": [
    "predicted_labels = [d[\"labels\"][0] for d in preds]\n",
    "predicted_labels[0]"
   ]
  },
  {
   "cell_type": "code",
   "execution_count": 17,
   "metadata": {},
   "outputs": [],
   "source": [
    "df['predicted_labels'] = predicted_labels"
   ]
  },
  {
   "cell_type": "code",
   "execution_count": 18,
   "metadata": {},
   "outputs": [
    {
     "name": "stdout",
     "output_type": "stream",
     "text": [
      "acc.: 0.5649438202247191\n"
     ]
    }
   ],
   "source": [
    "print(f\"acc.: {np.mean(df['predicted_labels'] == df['labels'])}\")"
   ]
  },
  {
   "cell_type": "code",
   "execution_count": 111,
   "metadata": {},
   "outputs": [
    {
     "name": "stdout",
     "output_type": "stream",
     "text": [
      "['business', 'entertainment', 'politics', 'sport', 'tech']\n",
      "N: 2225\t K: 5\n",
      "Accuracy: 0.564944\n",
      "F1: 0.560391\n",
      "Recall: 0.564944\n",
      "Precision: 0.611344\n",
      "Confusion matrix:\n",
      "[[0.7627451  0.00588235 0.1627451  0.03529412 0.03333333]\n",
      " [0.38341969 0.41709845 0.03626943 0.02590674 0.1373057 ]\n",
      " [0.0911271  0.00719424 0.79136691 0.02398082 0.08633094]\n",
      " [0.38943249 0.06457926 0.02739726 0.44618395 0.07240705]\n",
      " [0.35411471 0.20199501 0.03740648 0.03491272 0.37157107]]\n"
     ]
    }
   ],
   "source": [
    "# Convert prediction probs into N x K matrix according to original label order\n",
    "\n",
    "\n",
    "def getProbsMatrix(\n",
    "    df: pd.DataFrame, labels: List[str], pipeline_results: List[str], labels_col: str\n",
    "):\n",
    "    print(labels)\n",
    "    N = len(df)\n",
    "    K = len(labels)\n",
    "\n",
    "    print(f\"N: {N}\\t K: {K}\")\n",
    "\n",
    "    label2idx = {l: i for i, l in enumerate(labels)}\n",
    "\n",
    "    df[\"labels_int\"] = df[labels_col].apply(lambda l: label2idx[l])\n",
    "\n",
    "    probs = np.zeros((N, K))\n",
    "    for n in range(N):\n",
    "        for label in pipeline_results[n][\"labels\"]:\n",
    "            label_pos = pipeline_results[n][\"labels\"].index(label)\n",
    "            probs[n, label2idx[label]] = pipeline_results[n][\"scores\"][label_pos]\n",
    "\n",
    "    return probs\n",
    "\n",
    "\n",
    "probs = getProbsMatrix(df, labels, pipeline_results=preds, labels_col=\"labels\")\n",
    "\n",
    "\n",
    "def getStatistics(df: pd.DataFrame, probs_matrix: np.ndarray):\n",
    "    # Compute accuracy\n",
    "    accuracy = np.mean(np.argmax(probs_matrix, axis=1) == df[\"labels_int\"])\n",
    "    print(\"Accuracy: {:.6f}\".format(accuracy))\n",
    "\n",
    "    # Compute precision, recall, and F1\n",
    "    f1 = f1_score(df[\"labels_int\"], np.argmax(probs_matrix, axis=1), average=\"weighted\")\n",
    "    print(\"F1: {:.6f}\".format(f1))\n",
    "\n",
    "    recall = recall_score(\n",
    "        df[\"labels_int\"], np.argmax(probs_matrix, axis=1), average=\"weighted\"\n",
    "    )\n",
    "    print(\"Recall: {:.6f}\".format(recall))\n",
    "\n",
    "    precision = precision_score(\n",
    "        df[\"labels_int\"], np.argmax(probs_matrix, axis=1), average=\"weighted\"\n",
    "    )\n",
    "    print(\"Precision: {:.6f}\".format(precision))\n",
    "\n",
    "    # Compute confusion matrix\n",
    "    cm = confusion_matrix(\n",
    "        y_true=df[\"labels_int\"],\n",
    "        y_pred=np.argmax(probs_matrix, axis=1),\n",
    "        normalize=\"true\",\n",
    "    )\n",
    "    print(\"Confusion matrix:\")\n",
    "    print(cm)\n",
    "\n",
    "    return accuracy, f1, recall, precision, cm\n",
    "\n",
    "\n",
    "accuracy, f1, recall, precision, cm = getStatistics(df, probs)\n"
   ]
  },
  {
   "cell_type": "code",
   "execution_count": 91,
   "metadata": {},
   "outputs": [
    {
     "data": {
      "text/plain": [
       "<sklearn.metrics._plot.confusion_matrix.ConfusionMatrixDisplay at 0x7fd9cc2bec10>"
      ]
     },
     "execution_count": 91,
     "metadata": {},
     "output_type": "execute_result"
    },
    {
     "data": {
      "image/png": "[encoded data removed]",
      "text/plain": [
       "<Figure size 640x480 with 2 Axes>"
      ]
     },
     "metadata": {},
     "output_type": "display_data"
    }
   ],
   "source": [
    "from sklearn.metrics import ConfusionMatrixDisplay\n",
    "\n",
    "ConfusionMatrixDisplay(confusion_matrix=cm).plot(cmap='Blues')"
   ]
  },
  {
   "cell_type": "code",
   "execution_count": 92,
   "metadata": {},
   "outputs": [],
   "source": [
    "label2idx = {l: i for i, l in enumerate(labels)}\n",
    "int_labels = [label2idx[l] for l in df['labels']]"
   ]
  },
  {
   "cell_type": "code",
   "execution_count": 93,
   "metadata": {},
   "outputs": [],
   "source": [
    "int_preds = np.argmax(probs, axis=1)"
   ]
  },
  {
   "cell_type": "code",
   "execution_count": 96,
   "metadata": {},
   "outputs": [
    {
     "data": {
      "text/plain": [
       "array([[0.7627451 , 0.00588235, 0.1627451 , 0.03529412, 0.03333333],\n",
       "       [0.38341969, 0.41709845, 0.03626943, 0.02590674, 0.1373057 ],\n",
       "       [0.0911271 , 0.00719424, 0.79136691, 0.02398082, 0.08633094],\n",
       "       [0.38943249, 0.06457926, 0.02739726, 0.44618395, 0.07240705],\n",
       "       [0.35411471, 0.20199501, 0.03740648, 0.03491272, 0.37157107]])"
      ]
     },
     "execution_count": 96,
     "metadata": {},
     "output_type": "execute_result"
    }
   ],
   "source": [
    "# cm_lesson is just the code from lesson, different from mine code: cm\n",
    "cm_lesson = confusion_matrix(int_labels, int_preds, normalize='true')\n",
    "cm_lesson"
   ]
  },
  {
   "cell_type": "code",
   "execution_count": 95,
   "metadata": {},
   "outputs": [
    {
     "data": {
      "text/plain": [
       "<sklearn.metrics._plot.confusion_matrix.ConfusionMatrixDisplay at 0x7fd9c068cc70>"
      ]
     },
     "execution_count": 95,
     "metadata": {},
     "output_type": "execute_result"
    },
    {
     "data": {
      "image/png": "[encoded data removed]",
      "text/plain": [
       "<Figure size 640x480 with 2 Axes>"
      ]
     },
     "metadata": {},
     "output_type": "display_data"
    }
   ],
   "source": [
    "from sklearn.metrics import ConfusionMatrixDisplay\n",
    "\n",
    "ConfusionMatrixDisplay(confusion_matrix=cm_lesson).plot(cmap='Blues')"
   ]
  },
  {
   "cell_type": "code",
   "execution_count": 63,
   "metadata": {},
   "outputs": [],
   "source": [
    "# Exercise:\n",
    "# Try this with airline sentment dataset\n",
    "# Compare with actual sentiment analyser\n",
    "# The result should be surprising!"
   ]
  },
  {
   "cell_type": "code",
   "execution_count": 82,
   "metadata": {},
   "outputs": [
    {
     "data": {
      "text/plain": [
       "(14640, 15)"
      ]
     },
     "execution_count": 82,
     "metadata": {},
     "output_type": "execute_result"
    }
   ],
   "source": [
    "at_data = pd.read_csv(\"AirlineTweets.csv\")\n",
    "at_data.shape"
   ]
  },
  {
   "cell_type": "code",
   "execution_count": 83,
   "metadata": {},
   "outputs": [],
   "source": [
    "at_data = at_data[['airline_sentiment', 'text']].copy()"
   ]
  },
  {
   "cell_type": "code",
   "execution_count": 84,
   "metadata": {},
   "outputs": [
    {
     "data": {
      "text/plain": [
       "['neutral', 'positive', 'negative']"
      ]
     },
     "execution_count": 84,
     "metadata": {},
     "output_type": "execute_result"
    }
   ],
   "source": [
    "available_sentiments = at_data[\"airline_sentiment\"].unique().tolist()\n",
    "available_sentiments"
   ]
  },
  {
   "cell_type": "code",
   "execution_count": 85,
   "metadata": {},
   "outputs": [
    {
     "data": {
      "text/plain": [
       "['positive', 'negative']"
      ]
     },
     "execution_count": 85,
     "metadata": {},
     "output_type": "execute_result"
    }
   ],
   "source": [
    "available_sentiments.remove('neutral')\n",
    "available_sentiments"
   ]
  },
  {
   "cell_type": "code",
   "execution_count": 87,
   "metadata": {},
   "outputs": [
    {
     "name": "stdout",
     "output_type": "stream",
     "text": [
      "Rows with neutral: 14640\n",
      "Rows without neutral: 11541\n"
     ]
    }
   ],
   "source": [
    "print(f\"Rows with neutral: {len(at_data)}\")\n",
    "at_data = at_data[at_data['airline_sentiment'] != 'neutral']\n",
    "print(f\"Rows without neutral: {len(at_data)}\")"
   ]
  },
  {
   "cell_type": "code",
   "execution_count": null,
   "metadata": {},
   "outputs": [],
   "source": [
    "with warnings.catch_warnings():\n",
    "    warnings.simplefilter('ignore', category=UserWarning)\n",
    "    at_preds = classifier(at_data['text'].tolist(), candidate_labels=available_sentiments)"
   ]
  },
  {
   "cell_type": "code",
   "execution_count": 99,
   "metadata": {},
   "outputs": [
    {
     "data": {
      "text/plain": [
       "'negative'"
      ]
     },
     "execution_count": 99,
     "metadata": {},
     "output_type": "execute_result"
    }
   ],
   "source": [
    "at_predicted_labels = [p[\"labels\"][0] for p in at_preds]\n",
    "at_predicted_labels[0]"
   ]
  },
  {
   "cell_type": "code",
   "execution_count": 100,
   "metadata": {},
   "outputs": [],
   "source": [
    "at_data[\"predicted_labels\"] = at_predicted_labels"
   ]
  },
  {
   "cell_type": "code",
   "execution_count": 102,
   "metadata": {},
   "outputs": [
    {
     "name": "stdout",
     "output_type": "stream",
     "text": [
      "Acc.: 0.9158651763278746\n"
     ]
    }
   ],
   "source": [
    "print(f\"Acc.: {np.mean(at_data['predicted_labels'] == at_data['airline_sentiment'])}\")"
   ]
  },
  {
   "cell_type": "code",
   "execution_count": 114,
   "metadata": {},
   "outputs": [
    {
     "name": "stdout",
     "output_type": "stream",
     "text": [
      "['positive', 'negative']\n",
      "N: 11541\t K: 2\n",
      "Accuracy: 0.915865\n",
      "F1: 0.919132\n",
      "Recall: 0.915865\n",
      "Precision: 0.928215\n",
      "Confusion matrix:\n",
      "[[0.91917055 0.08082945]\n",
      " [0.08498584 0.91501416]]\n"
     ]
    },
    {
     "data": {
      "text/plain": [
       "<sklearn.metrics._plot.confusion_matrix.ConfusionMatrixDisplay at 0x7fd991a095e0>"
      ]
     },
     "execution_count": 114,
     "metadata": {},
     "output_type": "execute_result"
    },
    {
     "data": {
      "image/png": "[encoded data removed]",
      "text/plain": [
       "<Figure size 640x480 with 2 Axes>"
      ]
     },
     "metadata": {},
     "output_type": "display_data"
    }
   ],
   "source": [
    "probs = getProbsMatrix(\n",
    "    at_data,\n",
    "    available_sentiments,\n",
    "    pipeline_results=at_preds,\n",
    "    labels_col=\"airline_sentiment\",\n",
    ")\n",
    "accuracy, f1, recall, precision, cm = getStatistics(at_data, probs)\n",
    "\n",
    "ConfusionMatrixDisplay(confusion_matrix=cm).plot(cmap=\"Blues\")\n"
   ]
  },
  {
   "cell_type": "code",
   "execution_count": null,
   "metadata": {},
   "outputs": [],
   "source": []
  }
 ],
 "metadata": {
  "kernelspec": {
   "display_name": "gpt",
   "language": "python",
   "name": "python3"
  },
  "language_info": {
   "codemirror_mode": {
    "name": "ipython",
    "version": 3
   },
   "file_extension": ".py",
   "mimetype": "text/x-python",
   "name": "python",
   "nbconvert_exporter": "python",
   "pygments_lexer": "ipython3",
   "version": "3.9.16"
  },
  "orig_nbformat": 4
 },
 "nbformat": 4,
 "nbformat_minor": 2
}
