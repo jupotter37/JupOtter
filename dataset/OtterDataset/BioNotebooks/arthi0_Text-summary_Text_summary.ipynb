{
  "nbformat": 4,
  "nbformat_minor": 0,
  "metadata": {
    "colab": {
      "provenance": []
    },
    "kernelspec": {
      "name": "python3",
      "display_name": "Python 3"
    },
    "language_info": {
      "name": "python"
    }
  },
  "cells": [
    {
      "cell_type": "code",
      "source": [
        "!pip install nltk"
      ],
      "metadata": {
        "colab": {
          "base_uri": "https://localhost:8080/"
        },
        "id": "Wg51yuGksss0",
        "outputId": "ebc0939f-605e-45d3-c835-6c2f725c501c"
      },
      "execution_count": 1,
      "outputs": [
        {
          "output_type": "stream",
          "name": "stdout",
          "text": [
            "Requirement already satisfied: nltk in /usr/local/lib/python3.10/dist-packages (3.8.1)\n",
            "Requirement already satisfied: click in /usr/local/lib/python3.10/dist-packages (from nltk) (8.1.7)\n",
            "Requirement already satisfied: joblib in /usr/local/lib/python3.10/dist-packages (from nltk) (1.4.2)\n",
            "Requirement already satisfied: regex>=2021.8.3 in /usr/local/lib/python3.10/dist-packages (from nltk) (2024.9.11)\n",
            "Requirement already satisfied: tqdm in /usr/local/lib/python3.10/dist-packages (from nltk) (4.66.5)\n"
          ]
        }
      ]
    },
    {
      "cell_type": "code",
      "source": [
        "import nltk\n",
        "nltk.download('punkt')"
      ],
      "metadata": {
        "colab": {
          "base_uri": "https://localhost:8080/"
        },
        "id": "yFF9gORWsgZ4",
        "outputId": "be059386-6ac1-49e4-e0fd-3ab2df5f2b34"
      },
      "execution_count": 2,
      "outputs": [
        {
          "output_type": "stream",
          "name": "stderr",
          "text": [
            "[nltk_data] Downloading package punkt to /root/nltk_data...\n",
            "[nltk_data]   Unzipping tokenizers/punkt.zip.\n"
          ]
        },
        {
          "output_type": "execute_result",
          "data": {
            "text/plain": [
              "True"
            ]
          },
          "metadata": {},
          "execution_count": 2
        }
      ]
    },
    {
      "cell_type": "code",
      "source": [
        "from nltk import word_tokenize"
      ],
      "metadata": {
        "id": "RwxNaAgasiOZ"
      },
      "execution_count": 3,
      "outputs": []
    },
    {
      "cell_type": "code",
      "source": [
        "words=word_tokenize(\"hello world\")\n",
        "words"
      ],
      "metadata": {
        "colab": {
          "base_uri": "https://localhost:8080/"
        },
        "id": "VhY1fEBWskoM",
        "outputId": "9fe93037-409f-4d7d-b1e5-71eac1f4d9c9"
      },
      "execution_count": 4,
      "outputs": [
        {
          "output_type": "execute_result",
          "data": {
            "text/plain": [
              "['hello', 'world']"
            ]
          },
          "metadata": {},
          "execution_count": 4
        }
      ]
    },
    {
      "cell_type": "code",
      "source": [
        "df=\"\"\"First of all, all kinds of living organisms which are eukaryotes and compose of numerous cells and can sexually reproduce are known as animals. All animals have a unique role to play in maintaining the balance of nature.\n",
        "\n",
        "A lot of animal species exist in both, land and water. As a result, each of them has a purpose for their existence. The animals divide into specific groups in biology. Amphibians are those which can live on both, land and water.\n",
        "\n",
        "Reptiles are cold-blooded animals which have scales on their body. Further, mammals are ones which give birth to their offspring in the womb and have mammary glands. Birds are animals whose forelimbs evolve into wings and their body is covered with feather.\n",
        "\n",
        "They lay eggs to give birth. Fishes have fins and not limbs. They breathe through gills in water. Further, insects are mostly six-legged or more. Thus, these are the kinds of animals present on earth.\"\"\""
      ],
      "metadata": {
        "id": "7pKi2B24spCh"
      },
      "execution_count": 5,
      "outputs": []
    },
    {
      "cell_type": "code",
      "source": [
        "from nltk import sent_tokenize\n",
        "sentance=sent_tokenize(df)\n",
        "sentance"
      ],
      "metadata": {
        "colab": {
          "base_uri": "https://localhost:8080/"
        },
        "id": "oo0Gw6RItbLt",
        "outputId": "692c54f7-878c-4553-df02-cd8579274c8a"
      },
      "execution_count": 6,
      "outputs": [
        {
          "output_type": "execute_result",
          "data": {
            "text/plain": [
              "['First of all, all kinds of living organisms which are eukaryotes and compose of numerous cells and can sexually reproduce are known as animals.',\n",
              " 'All animals have a unique role to play in maintaining the balance of nature.',\n",
              " 'A lot of animal species exist in both, land and water.',\n",
              " 'As a result, each of them has a purpose for their existence.',\n",
              " 'The animals divide into specific groups in biology.',\n",
              " 'Amphibians are those which can live on both, land and water.',\n",
              " 'Reptiles are cold-blooded animals which have scales on their body.',\n",
              " 'Further, mammals are ones which give birth to their offspring in the womb and have mammary glands.',\n",
              " 'Birds are animals whose forelimbs evolve into wings and their body is covered with feather.',\n",
              " 'They lay eggs to give birth.',\n",
              " 'Fishes have fins and not limbs.',\n",
              " 'They breathe through gills in water.',\n",
              " 'Further, insects are mostly six-legged or more.',\n",
              " 'Thus, these are the kinds of animals present on earth.']"
            ]
          },
          "metadata": {},
          "execution_count": 6
        }
      ]
    },
    {
      "cell_type": "code",
      "source": [
        "import nltk\n",
        "nltk.download('averaged_perceptron_tagger')"
      ],
      "metadata": {
        "colab": {
          "base_uri": "https://localhost:8080/"
        },
        "id": "_8BdrrdduYD-",
        "outputId": "1b608c93-d5bd-4a11-df54-b690e31e200c"
      },
      "execution_count": 7,
      "outputs": [
        {
          "output_type": "stream",
          "name": "stderr",
          "text": [
            "[nltk_data] Downloading package averaged_perceptron_tagger to\n",
            "[nltk_data]     /root/nltk_data...\n",
            "[nltk_data]   Unzipping taggers/averaged_perceptron_tagger.zip.\n"
          ]
        },
        {
          "output_type": "execute_result",
          "data": {
            "text/plain": [
              "True"
            ]
          },
          "metadata": {},
          "execution_count": 7
        }
      ]
    },
    {
      "cell_type": "code",
      "source": [
        "for i in sent_tokenize(df):\n",
        "  print(nltk.pos_tag(word_tokenize(i)))"
      ],
      "metadata": {
        "colab": {
          "base_uri": "https://localhost:8080/"
        },
        "id": "HEBHhx4mtoUb",
        "outputId": "9b83fb55-d20a-492d-99b7-045a6aa64427"
      },
      "execution_count": 8,
      "outputs": [
        {
          "output_type": "stream",
          "name": "stdout",
          "text": [
            "[('First', 'NNP'), ('of', 'IN'), ('all', 'DT'), (',', ','), ('all', 'DT'), ('kinds', 'NNS'), ('of', 'IN'), ('living', 'NN'), ('organisms', 'NNS'), ('which', 'WDT'), ('are', 'VBP'), ('eukaryotes', 'NNS'), ('and', 'CC'), ('compose', 'NN'), ('of', 'IN'), ('numerous', 'JJ'), ('cells', 'NNS'), ('and', 'CC'), ('can', 'MD'), ('sexually', 'RB'), ('reproduce', 'VB'), ('are', 'VBP'), ('known', 'VBN'), ('as', 'IN'), ('animals', 'NNS'), ('.', '.')]\n",
            "[('All', 'DT'), ('animals', 'NNS'), ('have', 'VBP'), ('a', 'DT'), ('unique', 'JJ'), ('role', 'NN'), ('to', 'TO'), ('play', 'VB'), ('in', 'IN'), ('maintaining', 'VBG'), ('the', 'DT'), ('balance', 'NN'), ('of', 'IN'), ('nature', 'NN'), ('.', '.')]\n",
            "[('A', 'DT'), ('lot', 'NN'), ('of', 'IN'), ('animal', 'JJ'), ('species', 'NNS'), ('exist', 'VBP'), ('in', 'IN'), ('both', 'DT'), (',', ','), ('land', 'NN'), ('and', 'CC'), ('water', 'NN'), ('.', '.')]\n",
            "[('As', 'IN'), ('a', 'DT'), ('result', 'NN'), (',', ','), ('each', 'DT'), ('of', 'IN'), ('them', 'PRP'), ('has', 'VBZ'), ('a', 'DT'), ('purpose', 'NN'), ('for', 'IN'), ('their', 'PRP$'), ('existence', 'NN'), ('.', '.')]\n",
            "[('The', 'DT'), ('animals', 'NNS'), ('divide', 'VBP'), ('into', 'IN'), ('specific', 'JJ'), ('groups', 'NNS'), ('in', 'IN'), ('biology', 'NN'), ('.', '.')]\n",
            "[('Amphibians', 'NNS'), ('are', 'VBP'), ('those', 'DT'), ('which', 'WDT'), ('can', 'MD'), ('live', 'VB'), ('on', 'IN'), ('both', 'DT'), (',', ','), ('land', 'NN'), ('and', 'CC'), ('water', 'NN'), ('.', '.')]\n",
            "[('Reptiles', 'NNS'), ('are', 'VBP'), ('cold-blooded', 'JJ'), ('animals', 'NNS'), ('which', 'WDT'), ('have', 'VBP'), ('scales', 'NNS'), ('on', 'IN'), ('their', 'PRP$'), ('body', 'NN'), ('.', '.')]\n",
            "[('Further', 'RB'), (',', ','), ('mammals', 'NNS'), ('are', 'VBP'), ('ones', 'NNS'), ('which', 'WDT'), ('give', 'VBP'), ('birth', 'NN'), ('to', 'TO'), ('their', 'PRP$'), ('offspring', 'NN'), ('in', 'IN'), ('the', 'DT'), ('womb', 'NN'), ('and', 'CC'), ('have', 'VBP'), ('mammary', 'JJ'), ('glands', 'NNS'), ('.', '.')]\n",
            "[('Birds', 'NNS'), ('are', 'VBP'), ('animals', 'NNS'), ('whose', 'WP$'), ('forelimbs', 'JJ'), ('evolve', 'NN'), ('into', 'IN'), ('wings', 'NNS'), ('and', 'CC'), ('their', 'PRP$'), ('body', 'NN'), ('is', 'VBZ'), ('covered', 'VBN'), ('with', 'IN'), ('feather', 'NN'), ('.', '.')]\n",
            "[('They', 'PRP'), ('lay', 'VBD'), ('eggs', 'NNS'), ('to', 'TO'), ('give', 'VB'), ('birth', 'NN'), ('.', '.')]\n",
            "[('Fishes', 'NNS'), ('have', 'VBP'), ('fins', 'NNS'), ('and', 'CC'), ('not', 'RB'), ('limbs', 'NNS'), ('.', '.')]\n",
            "[('They', 'PRP'), ('breathe', 'VBP'), ('through', 'IN'), ('gills', 'NNS'), ('in', 'IN'), ('water', 'NN'), ('.', '.')]\n",
            "[('Further', 'RB'), (',', ','), ('insects', 'NNS'), ('are', 'VBP'), ('mostly', 'RB'), ('six-legged', 'JJ'), ('or', 'CC'), ('more', 'RBR'), ('.', '.')]\n",
            "[('Thus', 'RB'), (',', ','), ('these', 'DT'), ('are', 'VBP'), ('the', 'DT'), ('kinds', 'NNS'), ('of', 'IN'), ('animals', 'NNS'), ('present', 'JJ'), ('on', 'IN'), ('earth', 'NN'), ('.', '.')]\n"
          ]
        }
      ]
    },
    {
      "cell_type": "code",
      "source": [
        "nltk.download('stopwords')\n",
        "from nltk.corpus import stopwords\n"
      ],
      "metadata": {
        "colab": {
          "base_uri": "https://localhost:8080/"
        },
        "id": "_ZjN3eB8tyNo",
        "outputId": "66902760-cc58-466f-9ae2-1fea81122005"
      },
      "execution_count": 9,
      "outputs": [
        {
          "output_type": "stream",
          "name": "stderr",
          "text": [
            "[nltk_data] Downloading package stopwords to /root/nltk_data...\n",
            "[nltk_data]   Unzipping corpora/stopwords.zip.\n"
          ]
        }
      ]
    },
    {
      "cell_type": "code",
      "source": [
        "stopwords=stopwords.words('english')\n",
        "stopwords"
      ],
      "metadata": {
        "colab": {
          "base_uri": "https://localhost:8080/"
        },
        "id": "ZE0YW-Favfg2",
        "outputId": "dba6cc2a-536e-4492-cccf-628b8edc437d"
      },
      "execution_count": 10,
      "outputs": [
        {
          "output_type": "execute_result",
          "data": {
            "text/plain": [
              "['i',\n",
              " 'me',\n",
              " 'my',\n",
              " 'myself',\n",
              " 'we',\n",
              " 'our',\n",
              " 'ours',\n",
              " 'ourselves',\n",
              " 'you',\n",
              " \"you're\",\n",
              " \"you've\",\n",
              " \"you'll\",\n",
              " \"you'd\",\n",
              " 'your',\n",
              " 'yours',\n",
              " 'yourself',\n",
              " 'yourselves',\n",
              " 'he',\n",
              " 'him',\n",
              " 'his',\n",
              " 'himself',\n",
              " 'she',\n",
              " \"she's\",\n",
              " 'her',\n",
              " 'hers',\n",
              " 'herself',\n",
              " 'it',\n",
              " \"it's\",\n",
              " 'its',\n",
              " 'itself',\n",
              " 'they',\n",
              " 'them',\n",
              " 'their',\n",
              " 'theirs',\n",
              " 'themselves',\n",
              " 'what',\n",
              " 'which',\n",
              " 'who',\n",
              " 'whom',\n",
              " 'this',\n",
              " 'that',\n",
              " \"that'll\",\n",
              " 'these',\n",
              " 'those',\n",
              " 'am',\n",
              " 'is',\n",
              " 'are',\n",
              " 'was',\n",
              " 'were',\n",
              " 'be',\n",
              " 'been',\n",
              " 'being',\n",
              " 'have',\n",
              " 'has',\n",
              " 'had',\n",
              " 'having',\n",
              " 'do',\n",
              " 'does',\n",
              " 'did',\n",
              " 'doing',\n",
              " 'a',\n",
              " 'an',\n",
              " 'the',\n",
              " 'and',\n",
              " 'but',\n",
              " 'if',\n",
              " 'or',\n",
              " 'because',\n",
              " 'as',\n",
              " 'until',\n",
              " 'while',\n",
              " 'of',\n",
              " 'at',\n",
              " 'by',\n",
              " 'for',\n",
              " 'with',\n",
              " 'about',\n",
              " 'against',\n",
              " 'between',\n",
              " 'into',\n",
              " 'through',\n",
              " 'during',\n",
              " 'before',\n",
              " 'after',\n",
              " 'above',\n",
              " 'below',\n",
              " 'to',\n",
              " 'from',\n",
              " 'up',\n",
              " 'down',\n",
              " 'in',\n",
              " 'out',\n",
              " 'on',\n",
              " 'off',\n",
              " 'over',\n",
              " 'under',\n",
              " 'again',\n",
              " 'further',\n",
              " 'then',\n",
              " 'once',\n",
              " 'here',\n",
              " 'there',\n",
              " 'when',\n",
              " 'where',\n",
              " 'why',\n",
              " 'how',\n",
              " 'all',\n",
              " 'any',\n",
              " 'both',\n",
              " 'each',\n",
              " 'few',\n",
              " 'more',\n",
              " 'most',\n",
              " 'other',\n",
              " 'some',\n",
              " 'such',\n",
              " 'no',\n",
              " 'nor',\n",
              " 'not',\n",
              " 'only',\n",
              " 'own',\n",
              " 'same',\n",
              " 'so',\n",
              " 'than',\n",
              " 'too',\n",
              " 'very',\n",
              " 's',\n",
              " 't',\n",
              " 'can',\n",
              " 'will',\n",
              " 'just',\n",
              " 'don',\n",
              " \"don't\",\n",
              " 'should',\n",
              " \"should've\",\n",
              " 'now',\n",
              " 'd',\n",
              " 'll',\n",
              " 'm',\n",
              " 'o',\n",
              " 're',\n",
              " 've',\n",
              " 'y',\n",
              " 'ain',\n",
              " 'aren',\n",
              " \"aren't\",\n",
              " 'couldn',\n",
              " \"couldn't\",\n",
              " 'didn',\n",
              " \"didn't\",\n",
              " 'doesn',\n",
              " \"doesn't\",\n",
              " 'hadn',\n",
              " \"hadn't\",\n",
              " 'hasn',\n",
              " \"hasn't\",\n",
              " 'haven',\n",
              " \"haven't\",\n",
              " 'isn',\n",
              " \"isn't\",\n",
              " 'ma',\n",
              " 'mightn',\n",
              " \"mightn't\",\n",
              " 'mustn',\n",
              " \"mustn't\",\n",
              " 'needn',\n",
              " \"needn't\",\n",
              " 'shan',\n",
              " \"shan't\",\n",
              " 'shouldn',\n",
              " \"shouldn't\",\n",
              " 'wasn',\n",
              " \"wasn't\",\n",
              " 'weren',\n",
              " \"weren't\",\n",
              " 'won',\n",
              " \"won't\",\n",
              " 'wouldn',\n",
              " \"wouldn't\"]"
            ]
          },
          "metadata": {},
          "execution_count": 10
        }
      ]
    },
    {
      "cell_type": "code",
      "source": [
        "for i in sent_tokenize(df):\n",
        "  print([j for j in word_tokenize(i) if j not in stopwords])"
      ],
      "metadata": {
        "colab": {
          "base_uri": "https://localhost:8080/"
        },
        "id": "TlOB8cA4vubW",
        "outputId": "c3cf2bdf-6a69-4f36-e474-6f194445649d"
      },
      "execution_count": 11,
      "outputs": [
        {
          "output_type": "stream",
          "name": "stdout",
          "text": [
            "['First', ',', 'kinds', 'living', 'organisms', 'eukaryotes', 'compose', 'numerous', 'cells', 'sexually', 'reproduce', 'known', 'animals', '.']\n",
            "['All', 'animals', 'unique', 'role', 'play', 'maintaining', 'balance', 'nature', '.']\n",
            "['A', 'lot', 'animal', 'species', 'exist', ',', 'land', 'water', '.']\n",
            "['As', 'result', ',', 'purpose', 'existence', '.']\n",
            "['The', 'animals', 'divide', 'specific', 'groups', 'biology', '.']\n",
            "['Amphibians', 'live', ',', 'land', 'water', '.']\n",
            "['Reptiles', 'cold-blooded', 'animals', 'scales', 'body', '.']\n",
            "['Further', ',', 'mammals', 'ones', 'give', 'birth', 'offspring', 'womb', 'mammary', 'glands', '.']\n",
            "['Birds', 'animals', 'whose', 'forelimbs', 'evolve', 'wings', 'body', 'covered', 'feather', '.']\n",
            "['They', 'lay', 'eggs', 'give', 'birth', '.']\n",
            "['Fishes', 'fins', 'limbs', '.']\n",
            "['They', 'breathe', 'gills', 'water', '.']\n",
            "['Further', ',', 'insects', 'mostly', 'six-legged', '.']\n",
            "['Thus', ',', 'kinds', 'animals', 'present', 'earth', '.']\n"
          ]
        }
      ]
    },
    {
      "cell_type": "code",
      "source": [
        "import re\n",
        "from nltk.stem.wordnet import WordNetLemmatizer\n",
        "nltk.download('wordnet')\n",
        "lemma=WordNetLemmatizer()\n",
        "corpu=[]\n",
        "sentences=sent_tokenize(df)\n",
        "for i in range(len(sentences)):\n",
        "  review=re.sub('[^a-zA-Z]',' ',sentences[i])\n",
        "  review=review.lower()\n",
        "  review=review.split()\n",
        "  review=[lemma.lemmatize(j) for j in review if j not in stopwords]\n",
        "  review=' '.join(review)\n",
        "  corpu.append(review)"
      ],
      "metadata": {
        "id": "6G2Pkfn8wdez",
        "colab": {
          "base_uri": "https://localhost:8080/"
        },
        "outputId": "0093d8db-2cff-466d-dbd5-bee10da29721"
      },
      "execution_count": 15,
      "outputs": [
        {
          "output_type": "stream",
          "name": "stderr",
          "text": [
            "[nltk_data] Downloading package wordnet to /root/nltk_data...\n"
          ]
        }
      ]
    },
    {
      "cell_type": "code",
      "source": [
        "corpu"
      ],
      "metadata": {
        "colab": {
          "base_uri": "https://localhost:8080/"
        },
        "id": "Xb5trGQjuNad",
        "outputId": "b320f7cf-bb7b-4692-be41-f80eec345780"
      },
      "execution_count": 16,
      "outputs": [
        {
          "output_type": "execute_result",
          "data": {
            "text/plain": [
              "['first kind living organism eukaryote compose numerous cell sexually reproduce known animal',\n",
              " 'animal unique role play maintaining balance nature',\n",
              " 'lot animal specie exist land water',\n",
              " 'result purpose existence',\n",
              " 'animal divide specific group biology',\n",
              " 'amphibian live land water',\n",
              " 'reptile cold blooded animal scale body',\n",
              " 'mammal one give birth offspring womb mammary gland',\n",
              " 'bird animal whose forelimb evolve wing body covered feather',\n",
              " 'lay egg give birth',\n",
              " 'fish fin limb',\n",
              " 'breathe gill water',\n",
              " 'insect mostly six legged',\n",
              " 'thus kind animal present earth']"
            ]
          },
          "metadata": {},
          "execution_count": 16
        }
      ]
    }
  ]
}