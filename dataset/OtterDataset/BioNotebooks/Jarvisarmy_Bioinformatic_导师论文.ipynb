{
 "cells": [
  {
   "cell_type": "markdown",
   "id": "d1a56947",
   "metadata": {},
   "source": [
    "1. **Schreiber et al., 2020, Ledidi: Designing genomic edits that induce functional activity**\n",
    "    * Ledidi, an approach that treats the design of genomic edits as an optimization problem where the goal is to produce the desired output from a predictive model. \n",
    "    * use Gumbel-Softmax reparameterization trick to solve the discrete nature\n",
    "    * the objective function contains two parts\n",
    "        1. the distance between the original sequence and the proposed edited sequence (the sequence loss)\n",
    "        2. the distance between the model output using the edited sequence and the desired output (the functional loss)\n",
    "        3. the second term is weighted by $\\lambda$ to either encourage a small number of edits when small or a closer match to the desired output when large\n",
    "    * The main idea is about how to reverse the predictive model to find a minimal set of mutations to achieve desirable targetsm"
   ]
  },
  {
   "cell_type": "markdown",
   "id": "f60ba412",
   "metadata": {},
   "source": [
    "Nature Computational Biology compendium\n",
    "\n",
    "Molecular biology for computer scientists\n",
    "\n",
    "1. alphafold\n",
    "\n",
    "2. **Jo et al., 2022, Score-based Generative Modeling of Graphs via the System of Stochastic Differential Equations** https://arxiv.org/abs/2202.02514\n",
    "    1. a method infer direct effects from an observed correlation matrix containing both direct and indirect effects. \n",
    "    2. formulate the problem as the inverse of network convolutin, and introduce an algorithm that removes the combined effect of all indirect paths of arbitrary length in a closed-form solution by exploiting eigen-decomposition and infinite-series sums.\n",
    "    3. applications:\n",
    "        1. distinguishing direct targets in gene expression regulatory networks\n",
    "        2. recognizing directly interacting amino-acid residues for protein structure prediction from sequence alignments\n",
    "        3. distinguishing strong collaborations in co-authorship social networks using connectivity information alone\n",
    "\n",
    "\n",
    "\n",
    "3. **Feizi et al., 2013, Network deconvolution as a general method to distinguish direct dependencies in networks** https://www.nature.com/articles/nbt.2635"
   ]
  },
  {
   "cell_type": "code",
   "execution_count": null,
   "id": "ed6800ca",
   "metadata": {},
   "outputs": [],
   "source": []
  }
 ],
 "metadata": {
  "kernelspec": {
   "display_name": "Python 3",
   "language": "python",
   "name": "python3"
  },
  "language_info": {
   "codemirror_mode": {
    "name": "ipython",
    "version": 3
   },
   "file_extension": ".py",
   "mimetype": "text/x-python",
   "name": "python",
   "nbconvert_exporter": "python",
   "pygments_lexer": "ipython3",
   "version": "3.9.5"
  }
 },
 "nbformat": 4,
 "nbformat_minor": 5
}
