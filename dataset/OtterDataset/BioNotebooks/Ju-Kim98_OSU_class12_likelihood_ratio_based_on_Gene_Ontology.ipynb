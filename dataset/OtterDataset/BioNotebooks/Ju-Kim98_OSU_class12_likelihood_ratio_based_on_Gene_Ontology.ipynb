{
  "nbformat": 4,
  "nbformat_minor": 0,
  "metadata": {
    "colab": {
      "provenance": []
    },
    "kernelspec": {
      "name": "python3",
      "display_name": "Python 3"
    },
    "language_info": {
      "name": "python"
    }
  },
  "cells": [
    {
      "cell_type": "markdown",
      "source": [
        "# Notebook 12\n",
        "### Computing the protein interaction likelihood ration based on Gene Ontology overlap"
      ],
      "metadata": {
        "id": "R_CS4p1R4J1R"
      }
    },
    {
      "cell_type": "code",
      "source": [
        "import pandas as pd\n",
        "import numpy as np\n",
        "import random, pprint"
      ],
      "metadata": {
        "id": "lfjLo_bZ4Y5k"
      },
      "execution_count": null,
      "outputs": []
    },
    {
      "cell_type": "code",
      "source": [
        "#load a \"\\t\"-separated data file of protein information into a dataframe\n",
        "# I saved tsv file on my drive\n",
        "prot_data = pd.read_csv(\"/content/uniprotkb_proteome_UP000005640_2024_01_29.tsv\",sep=\"\\t\")"
      ],
      "metadata": {
        "id": "0kIGICBG4gf_"
      },
      "execution_count": null,
      "outputs": []
    },
    {
      "cell_type": "code",
      "source": [
        "#delete inessential colums from the dataframe\n",
        "del prot_data['Reviewed']\n",
        "del prot_data['Entry Name']\n",
        "del prot_data['Protein names']\n",
        "del prot_data['Organism']\n",
        "del prot_data['Length']\n",
        "del prot_data['Gene Ontology (cellular component)']\n",
        "del prot_data['Gene Ontology (molecular function)']\n",
        "del prot_data['Entry']\n"
      ],
      "metadata": {
        "id": "68TDqKCN4uQ-"
      },
      "execution_count": null,
      "outputs": []
    },
    {
      "cell_type": "code",
      "source": [
        "prot_data.head(6)"
      ],
      "metadata": {
        "colab": {
          "base_uri": "https://localhost:8080/",
          "height": 237
        },
        "id": "LrHhy7KzFlm_",
        "outputId": "2ae6d5e4-abdc-4c43-8f19-7be7b2d6158f"
      },
      "execution_count": null,
      "outputs": [
        {
          "output_type": "execute_result",
          "data": {
            "text/plain": [
              "     Gene Names                 Gene Ontology (biological process)\n",
              "0           DMD  bone development [GO:0060348]; cardiac muscle ...\n",
              "1          DGKI  excitatory postsynaptic potential [GO:0060079]...\n",
              "2  BOLA2-SMG1P6                                                NaN\n",
              "3        CYP2D7  arachidonic acid metabolic process [GO:0019369...\n",
              "4         PTGS1  prostaglandin biosynthetic process [GO:0001516...\n",
              "5         HNF1A  apoptotic nuclear changes [GO:0030262]; bile a..."
            ],
            "text/html": [
              "\n",
              "  <div id=\"df-3cbb1989-8b28-4a9c-85bb-1442d88821b7\" class=\"colab-df-container\">\n",
              "    <div>\n",
              "<style scoped>\n",
              "    .dataframe tbody tr th:only-of-type {\n",
              "        vertical-align: middle;\n",
              "    }\n",
              "\n",
              "    .dataframe tbody tr th {\n",
              "        vertical-align: top;\n",
              "    }\n",
              "\n",
              "    .dataframe thead th {\n",
              "        text-align: right;\n",
              "    }\n",
              "</style>\n",
              "<table border=\"1\" class=\"dataframe\">\n",
              "  <thead>\n",
              "    <tr style=\"text-align: right;\">\n",
              "      <th></th>\n",
              "      <th>Gene Names</th>\n",
              "      <th>Gene Ontology (biological process)</th>\n",
              "    </tr>\n",
              "  </thead>\n",
              "  <tbody>\n",
              "    <tr>\n",
              "      <th>0</th>\n",
              "      <td>DMD</td>\n",
              "      <td>bone development [GO:0060348]; cardiac muscle ...</td>\n",
              "    </tr>\n",
              "    <tr>\n",
              "      <th>1</th>\n",
              "      <td>DGKI</td>\n",
              "      <td>excitatory postsynaptic potential [GO:0060079]...</td>\n",
              "    </tr>\n",
              "    <tr>\n",
              "      <th>2</th>\n",
              "      <td>BOLA2-SMG1P6</td>\n",
              "      <td>NaN</td>\n",
              "    </tr>\n",
              "    <tr>\n",
              "      <th>3</th>\n",
              "      <td>CYP2D7</td>\n",
              "      <td>arachidonic acid metabolic process [GO:0019369...</td>\n",
              "    </tr>\n",
              "    <tr>\n",
              "      <th>4</th>\n",
              "      <td>PTGS1</td>\n",
              "      <td>prostaglandin biosynthetic process [GO:0001516...</td>\n",
              "    </tr>\n",
              "    <tr>\n",
              "      <th>5</th>\n",
              "      <td>HNF1A</td>\n",
              "      <td>apoptotic nuclear changes [GO:0030262]; bile a...</td>\n",
              "    </tr>\n",
              "  </tbody>\n",
              "</table>\n",
              "</div>\n",
              "    <div class=\"colab-df-buttons\">\n",
              "\n",
              "  <div class=\"colab-df-container\">\n",
              "    <button class=\"colab-df-convert\" onclick=\"convertToInteractive('df-3cbb1989-8b28-4a9c-85bb-1442d88821b7')\"\n",
              "            title=\"Convert this dataframe to an interactive table.\"\n",
              "            style=\"display:none;\">\n",
              "\n",
              "  <svg xmlns=\"http://www.w3.org/2000/svg\" height=\"24px\" viewBox=\"0 -960 960 960\">\n",
              "    <path d=\"M120-120v-720h720v720H120Zm60-500h600v-160H180v160Zm220 220h160v-160H400v160Zm0 220h160v-160H400v160ZM180-400h160v-160H180v160Zm440 0h160v-160H620v160ZM180-180h160v-160H180v160Zm440 0h160v-160H620v160Z\"/>\n",
              "  </svg>\n",
              "    </button>\n",
              "\n",
              "  <style>\n",
              "    .colab-df-container {\n",
              "      display:flex;\n",
              "      gap: 12px;\n",
              "    }\n",
              "\n",
              "    .colab-df-convert {\n",
              "      background-color: #E8F0FE;\n",
              "      border: none;\n",
              "      border-radius: 50%;\n",
              "      cursor: pointer;\n",
              "      display: none;\n",
              "      fill: #1967D2;\n",
              "      height: 32px;\n",
              "      padding: 0 0 0 0;\n",
              "      width: 32px;\n",
              "    }\n",
              "\n",
              "    .colab-df-convert:hover {\n",
              "      background-color: #E2EBFA;\n",
              "      box-shadow: 0px 1px 2px rgba(60, 64, 67, 0.3), 0px 1px 3px 1px rgba(60, 64, 67, 0.15);\n",
              "      fill: #174EA6;\n",
              "    }\n",
              "\n",
              "    .colab-df-buttons div {\n",
              "      margin-bottom: 4px;\n",
              "    }\n",
              "\n",
              "    [theme=dark] .colab-df-convert {\n",
              "      background-color: #3B4455;\n",
              "      fill: #D2E3FC;\n",
              "    }\n",
              "\n",
              "    [theme=dark] .colab-df-convert:hover {\n",
              "      background-color: #434B5C;\n",
              "      box-shadow: 0px 1px 3px 1px rgba(0, 0, 0, 0.15);\n",
              "      filter: drop-shadow(0px 1px 2px rgba(0, 0, 0, 0.3));\n",
              "      fill: #FFFFFF;\n",
              "    }\n",
              "  </style>\n",
              "\n",
              "    <script>\n",
              "      const buttonEl =\n",
              "        document.querySelector('#df-3cbb1989-8b28-4a9c-85bb-1442d88821b7 button.colab-df-convert');\n",
              "      buttonEl.style.display =\n",
              "        google.colab.kernel.accessAllowed ? 'block' : 'none';\n",
              "\n",
              "      async function convertToInteractive(key) {\n",
              "        const element = document.querySelector('#df-3cbb1989-8b28-4a9c-85bb-1442d88821b7');\n",
              "        const dataTable =\n",
              "          await google.colab.kernel.invokeFunction('convertToInteractive',\n",
              "                                                    [key], {});\n",
              "        if (!dataTable) return;\n",
              "\n",
              "        const docLinkHtml = 'Like what you see? Visit the ' +\n",
              "          '<a target=\"_blank\" href=https://colab.research.google.com/notebooks/data_table.ipynb>data table notebook</a>'\n",
              "          + ' to learn more about interactive tables.';\n",
              "        element.innerHTML = '';\n",
              "        dataTable['output_type'] = 'display_data';\n",
              "        await google.colab.output.renderOutput(dataTable, element);\n",
              "        const docLink = document.createElement('div');\n",
              "        docLink.innerHTML = docLinkHtml;\n",
              "        element.appendChild(docLink);\n",
              "      }\n",
              "    </script>\n",
              "  </div>\n",
              "\n",
              "\n",
              "<div id=\"df-1ce7884c-93a5-43f0-934f-76bc1da25b8e\">\n",
              "  <button class=\"colab-df-quickchart\" onclick=\"quickchart('df-1ce7884c-93a5-43f0-934f-76bc1da25b8e')\"\n",
              "            title=\"Suggest charts\"\n",
              "            style=\"display:none;\">\n",
              "\n",
              "<svg xmlns=\"http://www.w3.org/2000/svg\" height=\"24px\"viewBox=\"0 0 24 24\"\n",
              "     width=\"24px\">\n",
              "    <g>\n",
              "        <path d=\"M19 3H5c-1.1 0-2 .9-2 2v14c0 1.1.9 2 2 2h14c1.1 0 2-.9 2-2V5c0-1.1-.9-2-2-2zM9 17H7v-7h2v7zm4 0h-2V7h2v10zm4 0h-2v-4h2v4z\"/>\n",
              "    </g>\n",
              "</svg>\n",
              "  </button>\n",
              "\n",
              "<style>\n",
              "  .colab-df-quickchart {\n",
              "      --bg-color: #E8F0FE;\n",
              "      --fill-color: #1967D2;\n",
              "      --hover-bg-color: #E2EBFA;\n",
              "      --hover-fill-color: #174EA6;\n",
              "      --disabled-fill-color: #AAA;\n",
              "      --disabled-bg-color: #DDD;\n",
              "  }\n",
              "\n",
              "  [theme=dark] .colab-df-quickchart {\n",
              "      --bg-color: #3B4455;\n",
              "      --fill-color: #D2E3FC;\n",
              "      --hover-bg-color: #434B5C;\n",
              "      --hover-fill-color: #FFFFFF;\n",
              "      --disabled-bg-color: #3B4455;\n",
              "      --disabled-fill-color: #666;\n",
              "  }\n",
              "\n",
              "  .colab-df-quickchart {\n",
              "    background-color: var(--bg-color);\n",
              "    border: none;\n",
              "    border-radius: 50%;\n",
              "    cursor: pointer;\n",
              "    display: none;\n",
              "    fill: var(--fill-color);\n",
              "    height: 32px;\n",
              "    padding: 0;\n",
              "    width: 32px;\n",
              "  }\n",
              "\n",
              "  .colab-df-quickchart:hover {\n",
              "    background-color: var(--hover-bg-color);\n",
              "    box-shadow: 0 1px 2px rgba(60, 64, 67, 0.3), 0 1px 3px 1px rgba(60, 64, 67, 0.15);\n",
              "    fill: var(--button-hover-fill-color);\n",
              "  }\n",
              "\n",
              "  .colab-df-quickchart-complete:disabled,\n",
              "  .colab-df-quickchart-complete:disabled:hover {\n",
              "    background-color: var(--disabled-bg-color);\n",
              "    fill: var(--disabled-fill-color);\n",
              "    box-shadow: none;\n",
              "  }\n",
              "\n",
              "  .colab-df-spinner {\n",
              "    border: 2px solid var(--fill-color);\n",
              "    border-color: transparent;\n",
              "    border-bottom-color: var(--fill-color);\n",
              "    animation:\n",
              "      spin 1s steps(1) infinite;\n",
              "  }\n",
              "\n",
              "  @keyframes spin {\n",
              "    0% {\n",
              "      border-color: transparent;\n",
              "      border-bottom-color: var(--fill-color);\n",
              "      border-left-color: var(--fill-color);\n",
              "    }\n",
              "    20% {\n",
              "      border-color: transparent;\n",
              "      border-left-color: var(--fill-color);\n",
              "      border-top-color: var(--fill-color);\n",
              "    }\n",
              "    30% {\n",
              "      border-color: transparent;\n",
              "      border-left-color: var(--fill-color);\n",
              "      border-top-color: var(--fill-color);\n",
              "      border-right-color: var(--fill-color);\n",
              "    }\n",
              "    40% {\n",
              "      border-color: transparent;\n",
              "      border-right-color: var(--fill-color);\n",
              "      border-top-color: var(--fill-color);\n",
              "    }\n",
              "    60% {\n",
              "      border-color: transparent;\n",
              "      border-right-color: var(--fill-color);\n",
              "    }\n",
              "    80% {\n",
              "      border-color: transparent;\n",
              "      border-right-color: var(--fill-color);\n",
              "      border-bottom-color: var(--fill-color);\n",
              "    }\n",
              "    90% {\n",
              "      border-color: transparent;\n",
              "      border-bottom-color: var(--fill-color);\n",
              "    }\n",
              "  }\n",
              "</style>\n",
              "\n",
              "  <script>\n",
              "    async function quickchart(key) {\n",
              "      const quickchartButtonEl =\n",
              "        document.querySelector('#' + key + ' button');\n",
              "      quickchartButtonEl.disabled = true;  // To prevent multiple clicks.\n",
              "      quickchartButtonEl.classList.add('colab-df-spinner');\n",
              "      try {\n",
              "        const charts = await google.colab.kernel.invokeFunction(\n",
              "            'suggestCharts', [key], {});\n",
              "      } catch (error) {\n",
              "        console.error('Error during call to suggestCharts:', error);\n",
              "      }\n",
              "      quickchartButtonEl.classList.remove('colab-df-spinner');\n",
              "      quickchartButtonEl.classList.add('colab-df-quickchart-complete');\n",
              "    }\n",
              "    (() => {\n",
              "      let quickchartButtonEl =\n",
              "        document.querySelector('#df-1ce7884c-93a5-43f0-934f-76bc1da25b8e button');\n",
              "      quickchartButtonEl.style.display =\n",
              "        google.colab.kernel.accessAllowed ? 'block' : 'none';\n",
              "    })();\n",
              "  </script>\n",
              "</div>\n",
              "    </div>\n",
              "  </div>\n"
            ],
            "application/vnd.google.colaboratory.intrinsic+json": {
              "type": "dataframe",
              "variable_name": "prot_data",
              "summary": "{\n  \"name\": \"prot_data\",\n  \"rows\": 82485,\n  \"fields\": [\n    {\n      \"column\": \"Gene Names\",\n      \"properties\": {\n        \"dtype\": \"category\",\n        \"samples\": [\n          \"CENPM C22orf18 ICEN39 PANE1\",\n          \"SLC5A12 hCG_2036627\",\n          \"UBE2V2 MMS2 UEV2\"\n        ],\n        \"num_unique_values\": 32132,\n        \"semantic_type\": \"\",\n        \"description\": \"\"\n      }\n    },\n    {\n      \"column\": \"Gene Ontology (biological process)\",\n      \"properties\": {\n        \"dtype\": \"category\",\n        \"samples\": [\n          \"long-term synaptic potentiation [GO:0060291]; negative regulation of DNA-templated transcription [GO:0045892]; positive regulation of synaptic transmission, glutamatergic [GO:0051968]; regulation of respiratory gaseous exchange by nervous system process [GO:0002087]; regulation of transcription by RNA polymerase II [GO:0006357]\",\n          \"angiogenesis [GO:0001525]; cellular response to epidermal growth factor stimulus [GO:0071364]; cellular response to leukemia inhibitory factor [GO:1990830]; negative regulation of insulin receptor signaling pathway [GO:0046627]; negative regulation of translation [GO:0017148]; positive regulation of mRNA splicing, via spliceosome [GO:0048026]; positive regulation of transcription by RNA polymerase II [GO:0045944]; positive regulation of transcription of nucleolar large rRNA by RNA polymerase I [GO:1901838]; regulation of peptidyl-tyrosine phosphorylation [GO:0050730]\",\n          \"blood coagulation [GO:0007596]; proteolysis [GO:0006508]\"\n        ],\n        \"num_unique_values\": 15393,\n        \"semantic_type\": \"\",\n        \"description\": \"\"\n      }\n    }\n  ]\n}"
            }
          },
          "metadata": {},
          "execution_count": 39
        }
      ]
    },
    {
      "cell_type": "code",
      "source": [
        "# make a dictionary relating gene name to a list of Gene Ontology biological process annotation terms for that gene\n",
        "ctr = 0\n",
        "gene_names_dict = {}\n",
        "for index, prot in prot_data.iterrows():\n",
        "    ctr += 1\n",
        "    gene_names = prot[0]\n",
        "    if isinstance(gene_names, float) and np.isnan(gene_names):\n",
        "        continue\n",
        "    gene_names_list = gene_names.split(' ')\n",
        "    go_bp = prot[1]\n",
        "    if not isinstance(go_bp, float) or not np.isnan(go_bp):\n",
        "        go_bp_list = go_bp.split(';')\n",
        "        go_bp_list = [bp.strip() for bp in go_bp_list]\n",
        "    else:\n",
        "        go_bp_list = []\n",
        "    for gene_name in gene_names_list:\n",
        "        gene_names_dict[gene_name] = go_bp_list\n",
        "# the string-type biological process column is no longer need, since we have converted it to a list-type column\n",
        "del prot_data['Gene Ontology (biological process)']\n"
      ],
      "metadata": {
        "id": "oCE_BjFd6CKT"
      },
      "execution_count": null,
      "outputs": []
    },
    {
      "cell_type": "code",
      "source": [
        "# make a dataframe containing just two columns - \"gene\" and \"bp\"\n",
        "# where \"gene\" contains the gene symbol, \"bp\" contains a list of GO biological process term annotations for theat gene symbol\n",
        "go_tuple = tuple(zip(*tuple((k,v) for k,v in gene_names_dict.items())))\n",
        "go_df = pd.DataFrame({'gene': go_tuple[0], 'bp': go_tuple[1]})\n"
      ],
      "metadata": {
        "id": "dmJxB2f8GE96"
      },
      "execution_count": null,
      "outputs": []
    },
    {
      "cell_type": "code",
      "source": [
        "# make dictionary relating gene symbol to the list of GO biological process term annotations for that gene\n",
        "gene_to_go = pd.Series.to_dict(go_df.groupby([go_df.gene]).bp.apply(sum))\n",
        "\n",
        "#make dictionary relating GO biological process terms to genes that are annotated with the GO biological process term in the key\n",
        "go_to_gene = dict()\n",
        "for gene_name, bp_list in gene_to_go.items():\n",
        "    for go_term in bp_list:\n",
        "        go_term_genes = go_to_gene.get(go_term, None)\n",
        "        if go_term_genes is None:\n",
        "            go_term_genes = []\n",
        "            go_to_gene[go_term] = go_term_genes\n",
        "        go_term_genes.append(gene_name)\n"
      ],
      "metadata": {
        "id": "tw6amCEJG3RT"
      },
      "execution_count": null,
      "outputs": []
    },
    {
      "cell_type": "code",
      "source": [
        "# load the protein-protein interaction data from the SIF file\n",
        "\n",
        "!curl https://csx46.s3-us-west-2.amazonaws.com/PathwayCommons9.All.hgnc.sif.gz --output PathwayCommons9.All.hgnc.sif.gz\n",
        "!gunzip -f PathwayCommons9.All.hgnc.sif.gz"
      ],
      "metadata": {
        "colab": {
          "base_uri": "https://localhost:8080/"
        },
        "id": "IBaTW5RjInsc",
        "outputId": "67b56e3a-0121-4920-f6b5-03f9046d9a70"
      },
      "execution_count": null,
      "outputs": [
        {
          "output_type": "stream",
          "name": "stdout",
          "text": [
            "  % Total    % Received % Xferd  Average Speed   Time    Time     Time  Current\n",
            "                                 Dload  Upload   Total   Spent    Left  Speed\n",
            "100 5930k  100 5930k    0     0  9505k      0 --:--:-- --:--:-- --:--:-- 9503k\n"
          ]
        }
      ]
    },
    {
      "cell_type": "code",
      "source": [
        "sif_data = pd.read_csv(\"PathwayCommons9.All.hgnc.sif\",\n",
        "                       sep=\"\\t\", names=[\"species1\",\"interaction_type\",\"species2\"])"
      ],
      "metadata": {
        "id": "tFBn4QU9IL2h"
      },
      "execution_count": null,
      "outputs": []
    },
    {
      "cell_type": "code",
      "source": [
        "# process the protein-protein interaction data to eliminate duplicates\n",
        "interaction_types_ppi = set([\"interacts-with\",\n",
        "                             \"in-complex-with\"])\n",
        "interac_ppi = sif_data[sif_data.interaction_type.isin(interaction_types_ppi)].copy()\n",
        "boolean_vec = interac_ppi['species1'] > interac_ppi['species2']\n",
        "interac_ppi.loc[boolean_vec, ['species1', 'species2']] = interac_ppi.loc[boolean_vec, ['species2', 'species1']].values\n",
        "for rowid, row in interac_ppi.head().iterrows():\n",
        "    if row['species1'] > row['species2']:\n",
        "        interac_ppi['species1'][rowid] = row['species2']\n",
        "        interac_ppi['species2'][rowid] = row['species1']\n",
        "interac_ppi_unique = interac_ppi[[\"species1\", \"species2\"]].drop_duplicates()\n"
      ],
      "metadata": {
        "id": "KNcIwGsuIqza"
      },
      "execution_count": null,
      "outputs": []
    },
    {
      "cell_type": "code",
      "source": [
        "# calculate, for all pairs of interacting proteins (mapped to gene names),\n",
        "# the size of the smallest shared GO biological process annotation for the genes\n",
        "size_smallest_shared_bp_int = []\n",
        "no_shared_bp_int = 0\n",
        "int_set = set()  # need set of \"keys\" of interacting proteins;\n",
        "for row in interac_ppi_unique.iterrows():\n",
        "    g1 = row[1].species1\n",
        "    g2 = row[1].species2\n",
        "    int_set.add(g1 + '-' + g2)\n",
        "    go1 = set(gene_to_go.get(g1, []))\n",
        "    go2 = set(gene_to_go.get(g2, []))\n",
        "    go12_terms = go1 & go2\n",
        "    if len(go12_terms) > 0:\n",
        "        go12_terms_sizes = {t: len(go_to_gene[t]) for t in go12_terms}\n",
        "        min_term = min(go12_terms_sizes, key=go12_terms_sizes.get)\n",
        "        size_min_term = go12_terms_sizes[min_term]\n",
        "        size_smallest_shared_bp_int.append(size_min_term)\n",
        "    else:\n",
        "        no_shared_bp_int += 1"
      ],
      "metadata": {
        "id": "NLMXHH2gItav"
      },
      "execution_count": null,
      "outputs": []
    },
    {
      "cell_type": "code",
      "source": [
        "# calculate, for ten million random pairs of non-interacting proteins (mapped to gene names),\n",
        "# the size of the smallest shared GO biological process annotation for the genes\n",
        "size_smallest_shared_bp_no_int = []\n",
        "no_shared_bp_no_int = 0\n",
        "all_genes = list(gene_to_go.keys())\n",
        "ctr = 0\n",
        "Nnoint = 10000000\n",
        "while ctr < Nnoint:\n",
        "    g1 = random.choice(all_genes)\n",
        "    g2 = g1\n",
        "    while g2 == g1 or (g1 + '-' + g2) in int_set:  # use the \"key\" to check if they are interacting\n",
        "        g2 = random.choice(all_genes)\n",
        "    go1 = set(gene_to_go.get(g1, []))\n",
        "    go2 = set(gene_to_go.get(g2, []))\n",
        "    go12_terms = go1 & go2\n",
        "    if len(go12_terms) > 0:\n",
        "        go12_terms_sizes = {t: len(go_to_gene[t]) for t in go12_terms}\n",
        "        min_term = min(go12_terms_sizes, key=go12_terms_sizes.get)\n",
        "        size_min_term = go12_terms_sizes[min_term]\n",
        "        size_smallest_shared_bp_no_int.append(size_min_term)\n",
        "    else:\n",
        "        no_shared_bp_no_int += 1\n",
        "    ctr += 1"
      ],
      "metadata": {
        "id": "0Pk4FMZrJPlH"
      },
      "execution_count": null,
      "outputs": []
    },
    {
      "cell_type": "code",
      "source": [
        "# calculate the likelihood ratios using the same binning based on GO biological process gen-set size that Reading12 used\n",
        "# use Nunpy's histogram feature\n",
        "breaks = [0, 10, 50, 100, 500, 1000, 5000]\n",
        "Nint = interac_ppi_unique.shape[0]\n",
        "l_no_shared = (no_shared_bp_int / Nint)/(no_shared_bp_no_int / Nnoint)\n",
        "hist_int = np.histogram(size_smallest_shared_bp_int, bins=breaks)\n",
        "hist_no_int = np.histogram(size_smallest_shared_bp_no_int, bins=breaks)\n",
        "l_ratios = (hist_int[0]/Nint)/(hist_no_int[0]/Nnoint)\n",
        "l_ratios_res = [('no relation', l_no_shared)]\n",
        "for ctr in range(len(l_ratios)):\n",
        "    l_ratios_res.append((f\"{breaks[ctr]}-{breaks[ctr+1]}\", l_ratios[ctr]))\n"
      ],
      "metadata": {
        "id": "6YuBK9IyJc7E"
      },
      "execution_count": null,
      "outputs": []
    },
    {
      "cell_type": "code",
      "source": [
        "# print likelihood ratios\n",
        "pprint.pprint(l_ratios_res)"
      ],
      "metadata": {
        "colab": {
          "base_uri": "https://localhost:8080/"
        },
        "id": "hSq7wSSNJ_WQ",
        "outputId": "2f371a03-9b34-4110-f71e-6e63f393597e"
      },
      "execution_count": null,
      "outputs": [
        {
          "output_type": "stream",
          "name": "stdout",
          "text": [
            "[('no relation', 0.9821131025446865),\n",
            " ('0-10', 7.009383461640098),\n",
            " ('10-50', 4.4480223036432704),\n",
            " ('50-100', 2.7503962862833395),\n",
            " ('100-500', 3.6085925344746212),\n",
            " ('500-1000', 1.9461299631233013),\n",
            " ('1000-5000', 0.6328541523315716)]\n"
          ]
        }
      ]
    },
    {
      "cell_type": "markdown",
      "source": [
        "The output likelihood ratio decreases as a function of increasing size of the smallest set of overlapping Gene Ontology Biology Process terms for the protein pair."
      ],
      "metadata": {
        "id": "F0q4HWMsKVga"
      }
    },
    {
      "cell_type": "code",
      "source": [],
      "metadata": {
        "id": "bbqt1TDtKZqw"
      },
      "execution_count": null,
      "outputs": []
    }
  ]
}