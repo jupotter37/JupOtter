{
 "cells": [
  {
   "cell_type": "markdown",
   "id": "761bcc86",
   "metadata": {},
   "source": [
    "# Student Portfolio\n"
   ]
  },
  {
   "cell_type": "code",
   "execution_count": 1,
   "id": "cccc38f7",
   "metadata": {},
   "outputs": [
    {
     "name": "stdout",
     "output_type": "stream",
     "text": [
      "PLEASE SUBMIT YOUR STUDENT DETAILS\n",
      "****************************** \n",
      "\n",
      "Enter your first name:Yash\n",
      "Enter your last name:Gondegaonkar\n",
      "Enter your standard:12\n",
      "Enter your roll number:66\n",
      "PLEASE SUBMIT YOUR SUBJECT DETAILS\n",
      "******************** \n",
      "\n",
      "Enter your first subject:English\n",
      "Enter your second subject:Biology\n",
      "Enter your third subject:Chemistry\n",
      "Enter your mark percentage for above subjects:79.67\n",
      "********************\n"
     ]
    }
   ],
   "source": [
    "print(\"PLEASE SUBMIT YOUR STUDENT DETAILS\")\n",
    "print('*'*30,\"\\n\")\n",
    "\n",
    "first_name= str(input(\"Enter your first name:\"))\n",
    "last_name= str(input(\"Enter your last name:\"))\n",
    "standard= int(input(\"Enter your standard:\"))\n",
    "roll_no= int(input(\"Enter your roll number:\"))\n",
    "\n",
    "\n",
    "print(\"PLEASE SUBMIT YOUR SUBJECT DETAILS\")\n",
    "print('*'*20,\"\\n\")\n",
    "subject_1= str(input('Enter your first subject:'))\n",
    "subject_2= str(input('Enter your second subject:'))\n",
    "subject_3= str(input('Enter your third subject:'))\n",
    "percentage= float(input('Enter your mark percentage for above subjects:'))\n",
    "print('*'*20)"
   ]
  },
  {
   "cell_type": "code",
   "execution_count": null,
   "id": "cbd9a799",
   "metadata": {},
   "outputs": [],
   "source": []
  }
 ],
 "metadata": {
  "kernelspec": {
   "display_name": "Python 3 (ipykernel)",
   "language": "python",
   "name": "python3"
  },
  "language_info": {
   "codemirror_mode": {
    "name": "ipython",
    "version": 3
   },
   "file_extension": ".py",
   "mimetype": "text/x-python",
   "name": "python",
   "nbconvert_exporter": "python",
   "pygments_lexer": "ipython3",
   "version": "3.9.12"
  }
 },
 "nbformat": 4,
 "nbformat_minor": 5
}
