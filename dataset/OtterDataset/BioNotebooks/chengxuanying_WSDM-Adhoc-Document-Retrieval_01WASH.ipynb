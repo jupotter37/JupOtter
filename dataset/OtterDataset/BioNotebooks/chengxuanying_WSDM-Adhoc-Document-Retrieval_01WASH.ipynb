{
 "cells": [
  {
   "cell_type": "code",
   "execution_count": 7,
   "metadata": {},
   "outputs": [
    {
     "name": "stderr",
     "output_type": "stream",
     "text": [
      "D:\\yingchengxuan\\Miniconda3\\lib\\site-packages\\IPython\\core\\interactiveshell.py:3051: DtypeWarning: Columns (2) have mixed types. Specify dtype option on import or set low_memory=False.\n",
      "  interactivity=interactivity, compiler=compiler, result=result)\n"
     ]
    }
   ],
   "source": [
    "# Wash candid and train\n",
    "import pandas as pd\n",
    "candid = pd.read_csv('bisai/candidate_paper_for_wsdm2020.csv').fillna('')\n",
    "train = pd.read_csv('bisai/train_release.csv').fillna('')\n",
    "val = pd.read_csv('bisai/test.csv').fillna('')"
   ]
  },
  {
   "cell_type": "code",
   "execution_count": 8,
   "metadata": {},
   "outputs": [],
   "source": [
    "from nltk import word_tokenize\n",
    "from nltk.corpus import stopwords\n",
    "from string import punctuation\n",
    "# stop_words = set(stopwords.words('english'))\n",
    "from nltk import sent_tokenize, word_tokenize\n",
    "def preprocess_sentence(text):\n",
    "    text = text.replace('/', ' / ')\n",
    "    text = text.replace('.-', ' .- ')\n",
    "    text = text.replace('.', ' . ')\n",
    "    text = text.replace('\\'', ' \\' ')\n",
    "    text = text.lower()\n",
    "\n",
    "    tokens = [token for token in word_tokenize(text) if token not in punctuation and token not in stop_words]\n",
    "\n",
    "    return ' '.join(tokens)\n",
    "def preprocess_pubmed(text):\n",
    "    \"\"\"\n",
    "    Preprocess PubMed abstract. (https://www.ncbi.nlm.nih.gov/research/bionlp/APIs/BioC-PubMed/)\n",
    "    1. tokenize sentences and words\n",
    "    2. lowercase\n",
    "    \"\"\"\n",
    "    ret = []\n",
    "    has = False\n",
    "    for sent in sent_tokenize(text):\n",
    "        if '**##**' not in sent:\n",
    "            continue\n",
    "        has = True\n",
    "#         sent = sent.replace('[[**##**]]', '')\n",
    "#         text = ' '.join(word_tokenize(sent))\n",
    "        ret.append(sent)\n",
    "    if has:\n",
    "        return ' '.join(ret)\n",
    "    else:\n",
    "        return 'NO_CITE'"
   ]
  },
  {
   "cell_type": "code",
   "execution_count": 9,
   "metadata": {},
   "outputs": [
    {
     "name": "stdout",
     "output_type": "stream",
     "text": [
      "838939\n",
      "636439\n"
     ]
    }
   ],
   "source": [
    "print(len(candid))\n",
    "candid = candid[~candid.abstract.str.contains('NO_CONTENT', regex=False)]\n",
    "print(len(candid))"
   ]
  },
  {
   "cell_type": "code",
   "execution_count": 10,
   "metadata": {},
   "outputs": [
    {
     "name": "stdout",
     "output_type": "stream",
     "text": [
      "62976\n",
      "62975\n"
     ]
    }
   ],
   "source": [
    "print(len(train))\n",
    "train.description_text = train.description_text.apply(preprocess_pubmed)\n",
    "train = train[~train.description_text.str.contains('NO_CITE', regex=False)]\n",
    "print(len(train))"
   ]
  },
  {
   "cell_type": "code",
   "execution_count": 11,
   "metadata": {},
   "outputs": [
    {
     "name": "stdout",
     "output_type": "stream",
     "text": [
      "34428\n",
      "34428\n"
     ]
    }
   ],
   "source": [
    "print(len(val))\n",
    "val.description_text = val.description_text.apply(preprocess_pubmed)\n",
    "val = val[~val.description_text.str.contains('NO_CITE', regex=False)]\n",
    "print(len(val))"
   ]
  },
  {
   "cell_type": "code",
   "execution_count": 12,
   "metadata": {},
   "outputs": [
    {
     "name": "stderr",
     "output_type": "stream",
     "text": [
      "D:\\yingchengxuan\\Miniconda3\\lib\\site-packages\\pandas\\core\\generic.py:2377: PerformanceWarning: \n",
      "your performance may suffer as PyTables will pickle object types that it cannot\n",
      "map directly to c-types [inferred_type->mixed,key->block0_values] [items->['abstract', 'journal', 'keywords', 'paper_id', 'title', 'year']]\n",
      "\n",
      "  return pytables.to_hdf(path_or_buf, key, self, **kwargs)\n"
     ]
    }
   ],
   "source": [
    "\n",
    "train.to_hdf('cleaned2.h5', 'train')\n",
    "candid.to_hdf('cleaned2.h5', 'candid')\n",
    "val.to_hdf('cleaned2.h5', 'val')"
   ]
  },
  {
   "cell_type": "code",
   "execution_count": 8,
   "metadata": {},
   "outputs": [
    {
     "data": {
      "text/html": [
       "<div>\n",
       "<style scoped>\n",
       "    .dataframe tbody tr th:only-of-type {\n",
       "        vertical-align: middle;\n",
       "    }\n",
       "\n",
       "    .dataframe tbody tr th {\n",
       "        vertical-align: top;\n",
       "    }\n",
       "\n",
       "    .dataframe thead th {\n",
       "        text-align: right;\n",
       "    }\n",
       "</style>\n",
       "<table border=\"1\" class=\"dataframe\">\n",
       "  <thead>\n",
       "    <tr style=\"text-align: right;\">\n",
       "      <th></th>\n",
       "      <th>abstract</th>\n",
       "      <th>journal</th>\n",
       "      <th>keywords</th>\n",
       "      <th>paper_id</th>\n",
       "      <th>title</th>\n",
       "      <th>year</th>\n",
       "    </tr>\n",
       "  </thead>\n",
       "  <tbody>\n",
       "    <tr>\n",
       "      <td>1</td>\n",
       "      <td>Ecological and population biology issues const...</td>\n",
       "      <td>Science (New York, N.Y.)</td>\n",
       "      <td></td>\n",
       "      <td>55a4e85b612c6b12aafdb996</td>\n",
       "      <td>The ecology of genetically modified mosquitoes.</td>\n",
       "      <td>2002</td>\n",
       "    </tr>\n",
       "    <tr>\n",
       "      <td>2</td>\n",
       "      <td>Thiotepa and its oxygen analogue tepa, used to...</td>\n",
       "      <td>Bulletin of the World Health Organization</td>\n",
       "      <td></td>\n",
       "      <td>55a4cc5024011b361acddf6f</td>\n",
       "      <td>Persistence of thiotepa and tepa in pupae and ...</td>\n",
       "      <td>1972</td>\n",
       "    </tr>\n",
       "    <tr>\n",
       "      <td>6</td>\n",
       "      <td>Some simple formulae were obtained which enabl...</td>\n",
       "      <td>Journal of molecular evolution</td>\n",
       "      <td></td>\n",
       "      <td>55a63b48240199498b9c0751</td>\n",
       "      <td>A simple method for estimating evolutionary ra...</td>\n",
       "      <td>1980</td>\n",
       "    </tr>\n",
       "    <tr>\n",
       "      <td>7</td>\n",
       "      <td>Arlequin ver 3.0 is a software package integra...</td>\n",
       "      <td>Evolutionary bioinformatics online</td>\n",
       "      <td></td>\n",
       "      <td>55a4eaedc91bf3b1cc4a184d</td>\n",
       "      <td>Arlequin (version 3.0): an integrated software...</td>\n",
       "      <td>2007</td>\n",
       "    </tr>\n",
       "    <tr>\n",
       "      <td>8</td>\n",
       "      <td>Reconstructing phylogenies from intraspecific ...</td>\n",
       "      <td>Molecular biology and evolution</td>\n",
       "      <td></td>\n",
       "      <td>55a42a2c612ca6486889d813</td>\n",
       "      <td>Median-joining networks for inferring intraspe...</td>\n",
       "      <td>1999</td>\n",
       "    </tr>\n",
       "    <tr>\n",
       "      <td>...</td>\n",
       "      <td>...</td>\n",
       "      <td>...</td>\n",
       "      <td>...</td>\n",
       "      <td>...</td>\n",
       "      <td>...</td>\n",
       "      <td>...</td>\n",
       "    </tr>\n",
       "    <tr>\n",
       "      <td>838934</td>\n",
       "      <td></td>\n",
       "      <td>Physical therapy</td>\n",
       "      <td></td>\n",
       "      <td>55a55d5f24012c2a391ef339</td>\n",
       "      <td>Should patients with hemiplegia wear a sling? ...</td>\n",
       "      <td></td>\n",
       "    </tr>\n",
       "    <tr>\n",
       "      <td>838935</td>\n",
       "      <td>Air bubble artifacts on SWI post-mortem MRI st...</td>\n",
       "      <td>Neuroradiology</td>\n",
       "      <td>Air bubble artifacts;MRI;Microbleeds;Postmorte...</td>\n",
       "      <td>5c0f87d0da562944ac95f483</td>\n",
       "      <td>Air bubble artifact reduction in post-mortem w...</td>\n",
       "      <td></td>\n",
       "    </tr>\n",
       "    <tr>\n",
       "      <td>838936</td>\n",
       "      <td></td>\n",
       "      <td>Minnesota medicine</td>\n",
       "      <td></td>\n",
       "      <td>55a56a6424012c2a392299c0</td>\n",
       "      <td>The wheezing child.</td>\n",
       "      <td></td>\n",
       "    </tr>\n",
       "    <tr>\n",
       "      <td>838937</td>\n",
       "      <td>The purpose of this study is to assess the eff...</td>\n",
       "      <td>Environmental toxicology and pharmacology</td>\n",
       "      <td></td>\n",
       "      <td>55a41f1a65ce5cd7b3c5195a</td>\n",
       "      <td>Subacute toxicity of p,p'-DDT on rat thyroid: ...</td>\n",
       "      <td></td>\n",
       "    </tr>\n",
       "    <tr>\n",
       "      <td>838938</td>\n",
       "      <td></td>\n",
       "      <td>American journal of epidemiology</td>\n",
       "      <td></td>\n",
       "      <td>55a52ce924012c2a3913b4b3</td>\n",
       "      <td>Turtle-associated salmonellosis. 3. The effect...</td>\n",
       "      <td></td>\n",
       "    </tr>\n",
       "  </tbody>\n",
       "</table>\n",
       "<p>636439 rows × 6 columns</p>\n",
       "</div>"
      ],
      "text/plain": [
       "                                                 abstract  \\\n",
       "1       Ecological and population biology issues const...   \n",
       "2       Thiotepa and its oxygen analogue tepa, used to...   \n",
       "6       Some simple formulae were obtained which enabl...   \n",
       "7       Arlequin ver 3.0 is a software package integra...   \n",
       "8       Reconstructing phylogenies from intraspecific ...   \n",
       "...                                                   ...   \n",
       "838934                                                      \n",
       "838935  Air bubble artifacts on SWI post-mortem MRI st...   \n",
       "838936                                                      \n",
       "838937  The purpose of this study is to assess the eff...   \n",
       "838938                                                      \n",
       "\n",
       "                                          journal  \\\n",
       "1                        Science (New York, N.Y.)   \n",
       "2       Bulletin of the World Health Organization   \n",
       "6                  Journal of molecular evolution   \n",
       "7              Evolutionary bioinformatics online   \n",
       "8                 Molecular biology and evolution   \n",
       "...                                           ...   \n",
       "838934                           Physical therapy   \n",
       "838935                             Neuroradiology   \n",
       "838936                         Minnesota medicine   \n",
       "838937  Environmental toxicology and pharmacology   \n",
       "838938           American journal of epidemiology   \n",
       "\n",
       "                                                 keywords  \\\n",
       "1                                                           \n",
       "2                                                           \n",
       "6                                                           \n",
       "7                                                           \n",
       "8                                                           \n",
       "...                                                   ...   \n",
       "838934                                                      \n",
       "838935  Air bubble artifacts;MRI;Microbleeds;Postmorte...   \n",
       "838936                                                      \n",
       "838937                                                      \n",
       "838938                                                      \n",
       "\n",
       "                        paper_id  \\\n",
       "1       55a4e85b612c6b12aafdb996   \n",
       "2       55a4cc5024011b361acddf6f   \n",
       "6       55a63b48240199498b9c0751   \n",
       "7       55a4eaedc91bf3b1cc4a184d   \n",
       "8       55a42a2c612ca6486889d813   \n",
       "...                          ...   \n",
       "838934  55a55d5f24012c2a391ef339   \n",
       "838935  5c0f87d0da562944ac95f483   \n",
       "838936  55a56a6424012c2a392299c0   \n",
       "838937  55a41f1a65ce5cd7b3c5195a   \n",
       "838938  55a52ce924012c2a3913b4b3   \n",
       "\n",
       "                                                    title  year  \n",
       "1         The ecology of genetically modified mosquitoes.  2002  \n",
       "2       Persistence of thiotepa and tepa in pupae and ...  1972  \n",
       "6       A simple method for estimating evolutionary ra...  1980  \n",
       "7       Arlequin (version 3.0): an integrated software...  2007  \n",
       "8       Median-joining networks for inferring intraspe...  1999  \n",
       "...                                                   ...   ...  \n",
       "838934  Should patients with hemiplegia wear a sling? ...        \n",
       "838935  Air bubble artifact reduction in post-mortem w...        \n",
       "838936                                The wheezing child.        \n",
       "838937  Subacute toxicity of p,p'-DDT on rat thyroid: ...        \n",
       "838938  Turtle-associated salmonellosis. 3. The effect...        \n",
       "\n",
       "[636439 rows x 6 columns]"
      ]
     },
     "execution_count": 8,
     "metadata": {},
     "output_type": "execute_result"
    }
   ],
   "source": [
    "candid"
   ]
  },
  {
   "cell_type": "code",
   "execution_count": 3,
   "metadata": {},
   "outputs": [],
   "source": [
    "# train.iloc[7].to_dict()"
   ]
  },
  {
   "cell_type": "code",
   "execution_count": 5,
   "metadata": {},
   "outputs": [
    {
     "name": "stderr",
     "output_type": "stream",
     "text": [
      "[nltk_data] Downloading package stopwords to\n",
      "[nltk_data]     /home/dc2-user/nltk_data...\n",
      "[nltk_data]   Package stopwords is already up-to-date!\n"
     ]
    },
    {
     "data": {
      "text/plain": [
       "True"
      ]
     },
     "execution_count": 5,
     "metadata": {},
     "output_type": "execute_result"
    }
   ],
   "source": [
    "import nltk\n",
    "nltk.download('stopwords')"
   ]
  },
  {
   "cell_type": "code",
   "execution_count": 6,
   "metadata": {},
   "outputs": [
    {
     "name": "stderr",
     "output_type": "stream",
     "text": [
      "[nltk_data] Downloading package punkt to /home/dc2-user/nltk_data...\n",
      "[nltk_data]   Unzipping tokenizers/punkt.zip.\n"
     ]
    },
    {
     "data": {
      "text/plain": [
       "True"
      ]
     },
     "execution_count": 6,
     "metadata": {},
     "output_type": "execute_result"
    }
   ],
   "source": [
    "nltk.download('punkt')"
   ]
  },
  {
   "cell_type": "code",
   "execution_count": 7,
   "metadata": {},
   "outputs": [
    {
     "data": {
      "text/plain": [
       "1"
      ]
     },
     "execution_count": 7,
     "metadata": {},
     "output_type": "execute_result"
    }
   ],
   "source": [
    "1"
   ]
  },
  {
   "cell_type": "code",
   "execution_count": null,
   "metadata": {},
   "outputs": [],
   "source": []
  }
 ],
 "metadata": {
  "kernelspec": {
   "display_name": "Python 3",
   "language": "python",
   "name": "python3"
  },
  "language_info": {
   "codemirror_mode": {
    "name": "ipython",
    "version": 3
   },
   "file_extension": ".py",
   "mimetype": "text/x-python",
   "name": "python",
   "nbconvert_exporter": "python",
   "pygments_lexer": "ipython3",
   "version": "3.7.1"
  }
 },
 "nbformat": 4,
 "nbformat_minor": 4
}
