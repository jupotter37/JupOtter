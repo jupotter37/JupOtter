{
 "cells": [
  {
   "cell_type": "markdown",
   "metadata": {},
   "source": [
    "# Flux Balance Analysis (FBA) of Metabolic Network in R using Sybil"
   ]
  },
  {
   "cell_type": "markdown",
   "metadata": {},
   "source": [
    "[sybil](https://www.cs.hhu.de/en/research-groups/computational-cell-biology/software-contributions/sybil) is a Systems Biology Library for R implementing algorithms for constraint based analysis of metabolic networks.\n",
    "\n",
    "Here is a [link](https://cran.r-project.org/web/packages/sybil/vignettes/sybil.pdf) to the manual (`pdf`)."
   ]
  },
  {
   "cell_type": "markdown",
   "metadata": {},
   "source": [
    "## Load `sybil` in a running R session"
   ]
  },
  {
   "cell_type": "code",
   "execution_count": 1,
   "metadata": {},
   "outputs": [
    {
     "name": "stderr",
     "output_type": "stream",
     "text": [
      "Loading required package: Matrix\n",
      "\n",
      "Loading required package: lattice\n",
      "\n"
     ]
    }
   ],
   "source": [
    "library(sybil)"
   ]
  },
  {
   "cell_type": "markdown",
   "metadata": {},
   "source": [
    "## Extract the data from the example *E. coli* dataset\n",
    "(the dataset that comes with the sybil package)"
   ]
  },
  {
   "cell_type": "markdown",
   "metadata": {},
   "source": [
    "The package sybil can read metabolic network models written in tabular form. The example dataset consists of three files:\n",
    "\n",
    "| Table | Description |\n",
    "| - | - |\n",
    "| [`Ec_core_desc.tsv`](data/Ec_core_desc.tsv) | containing the model description |\n",
    "| [`Ec_core_met.tsv`](data/Ec_core_met.tsv) | containing the metabolite list and |\n",
    "| [`Ec_core_react.tsv`](data/Ec_core_react.tsv) | containing the reaction list |\n",
    "\n",
    "These files are located in the directory extdata/ in the package sybil. The exact location of the files can be retrieved with the `system.file()` command:"
   ]
  },
  {
   "cell_type": "code",
   "execution_count": 2,
   "metadata": {},
   "outputs": [],
   "source": [
    "mp = system.file(package = \"sybil\", \"extdata\")"
   ]
  },
  {
   "cell_type": "markdown",
   "metadata": {},
   "source": [
    "Now the model files can be read in by using the command readTSVmod():"
   ]
  },
  {
   "cell_type": "markdown",
   "metadata": {},
   "source": [
    "## Load the model"
   ]
  },
  {
   "cell_type": "code",
   "execution_count": 3,
   "metadata": {},
   "outputs": [
    {
     "name": "stderr",
     "output_type": "stream",
     "text": [
      "reading model description, ... \n",
      "OK\n",
      "\n",
      "reading metabolite list ... \n",
      "OK\n",
      "\n",
      "parsing reaction list ... \n",
      "OK\n",
      "\n",
      "GPR mapping ... \n",
      "OK\n",
      "\n",
      "sub systems ... \n",
      "OK\n",
      "\n",
      "prepare modelorg object ... \n",
      "OK\n",
      "\n",
      "validating object ... \n",
      "OK\n",
      "\n"
     ]
    }
   ],
   "source": [
    "model = readTSVmod(prefix = \"Ec_core\", fpath = mp, quoteChar = \"\\\"\")"
   ]
  },
  {
   "cell_type": "code",
   "execution_count": 4,
   "metadata": {},
   "outputs": [
    {
     "data": {
      "text/plain": [
       "model name:             Ecoli_core_model \n",
       "number of compartments  2 \n",
       "                        C_c \n",
       "                        C_e \n",
       "number of reactions:    95 \n",
       "number of metabolites:  72 \n",
       "number of unique genes: 137 \n",
       "objective function:     +1 Biomass_Ecoli_core_w_GAM "
      ]
     },
     "metadata": {},
     "output_type": "display_data"
    }
   ],
   "source": [
    "model # Display the model"
   ]
  },
  {
   "cell_type": "markdown",
   "metadata": {},
   "source": [
    "**Note**: models (especially if changed) can be converted to files in tabular form with the command `modelorg2tsv`."
   ]
  },
  {
   "cell_type": "markdown",
   "metadata": {},
   "source": [
    "## Optimize the model according to the defined objective function `Biomass_Ecoli_core_w_GAM`"
   ]
  },
  {
   "cell_type": "markdown",
   "metadata": {},
   "source": [
    "The flux-balance analysis (FBA) can be performed using method `optimizeProb`:"
   ]
  },
  {
   "cell_type": "code",
   "execution_count": 5,
   "metadata": {},
   "outputs": [
    {
     "name": "stderr",
     "output_type": "stream",
     "text": [
      "Loading required package: glpkAPI\n",
      "\n",
      "using GLPK version 5.0\n",
      "\n"
     ]
    },
    {
     "data": {
      "text/plain": [
       "solver:                                   glpkAPI\n",
       "method:                                   simplex\n",
       "algorithm:                                fba\n",
       "number of variables:                      95\n",
       "number of constraints:                    72\n",
       "return value of solver:                   solution process was successful\n",
       "solution status:                          solution is optimal\n",
       "value of objective function (fba):        0.873922\n",
       "value of objective function (model):      0.873922"
      ]
     },
     "metadata": {},
     "output_type": "display_data"
    }
   ],
   "source": [
    "opt = optimizeProb(model, algorithm = \"fba\") # Solve the optimization problem\n",
    "opt"
   ]
  },
  {
   "cell_type": "markdown",
   "metadata": {},
   "source": [
    "Retrieve the value of the objective function after optimization:"
   ]
  },
  {
   "cell_type": "code",
   "execution_count": 6,
   "metadata": {},
   "outputs": [
    {
     "data": {
      "text/html": [
       "0.873921506968277"
      ],
      "text/latex": [
       "0.873921506968277"
      ],
      "text/markdown": [
       "0.873921506968277"
      ],
      "text/plain": [
       "[1] 0.8739215"
      ]
     },
     "metadata": {},
     "output_type": "display_data"
    }
   ],
   "source": [
    "lp_obj(opt)"
   ]
  },
  {
   "cell_type": "code",
   "execution_count": null,
   "metadata": {},
   "outputs": [],
   "source": []
  }
 ],
 "metadata": {
  "kernelspec": {
   "display_name": "R",
   "language": "R",
   "name": "ir"
  },
  "language_info": {
   "codemirror_mode": "r",
   "file_extension": ".r",
   "mimetype": "text/x-r-source",
   "name": "R",
   "pygments_lexer": "r",
   "version": "4.2.2"
  }
 },
 "nbformat": 4,
 "nbformat_minor": 4
}
