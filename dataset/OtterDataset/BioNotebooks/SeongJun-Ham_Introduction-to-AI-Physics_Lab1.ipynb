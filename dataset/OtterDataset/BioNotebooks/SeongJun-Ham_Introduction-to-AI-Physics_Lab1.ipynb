{
  "nbformat": 4,
  "nbformat_minor": 0,
  "metadata": {
    "colab": {
      "provenance": []
    },
    "kernelspec": {
      "name": "python3",
      "display_name": "Python 3"
    },
    "language_info": {
      "name": "python"
    }
  },
  "cells": [
    {
      "cell_type": "code",
      "source": [
        "print(\"My name is SeongJun-Ham\")\n",
        "print(\"My student number is 201921251\")"
      ],
      "metadata": {
        "colab": {
          "base_uri": "https://localhost:8080/"
        },
        "id": "mrNpY7e35LMm",
        "outputId": "9994a8d9-c2d0-4b5c-d59e-ba3d8c09052a"
      },
      "execution_count": 29,
      "outputs": [
        {
          "output_type": "stream",
          "name": "stdout",
          "text": [
            "My name is SeongJun-Ham\n",
            "My student number is 201921251\n"
          ]
        }
      ]
    },
    {
      "cell_type": "code",
      "execution_count": 26,
      "metadata": {
        "colab": {
          "base_uri": "https://localhost:8080/"
        },
        "id": "BTxzj7-HtxPe",
        "outputId": "97707c6a-da2a-4ae6-bcd2-28bf8ebeff76"
      },
      "outputs": [
        {
          "output_type": "stream",
          "name": "stdout",
          "text": [
            "My name is SeongJun-Ham\n",
            "Ths class is AI Physics\n",
            "Lab number is 1\n",
            "<class 'str'>\n",
            "<class 'str'>\n",
            "<class 'int'>\n"
          ]
        }
      ],
      "source": [
        "# Task 0\n",
        "name = \"SeongJun-Ham\"\n",
        "class_name = \"AI Physics\"\n",
        "lab_num = 1\n",
        "print(\"My name is\", name)\n",
        "print(\"Ths class is\", class_name)\n",
        "print(\"Lab number is\", lab_num)\n",
        "print(type(name))\n",
        "print(type(class_name))\n",
        "print(type(lab_num))"
      ]
    },
    {
      "cell_type": "code",
      "source": [
        "# Task 1\n",
        "v0 = 10 # m/s\n",
        "d0 = -35 # m\n",
        "a = 2 # m/s^2\n",
        "t = 10 # s\n",
        "\n",
        "v = v0 + a*t\n",
        "d = d0 + v0*t + 0.5*a*t**2\n",
        "\n",
        "print(\"Velocity at 10s is\", v, \"m/s\")\n",
        "print(\"Distance at 10s is\", d, \"m/s\")"
      ],
      "metadata": {
        "colab": {
          "base_uri": "https://localhost:8080/"
        },
        "id": "GyZR-mck3d8X",
        "outputId": "0d4eea45-15d0-4c45-f5e6-3533dc22cab4"
      },
      "execution_count": 23,
      "outputs": [
        {
          "output_type": "stream",
          "name": "stdout",
          "text": [
            "Velocity at 10s is 30 m/s\n",
            "Distance at 10s is 165.0 m/s\n"
          ]
        }
      ]
    },
    {
      "cell_type": "code",
      "source": [
        "# Task2\n",
        "math = 70\n",
        "english = 57\n",
        "biology = 83\n",
        "physics = 93\n",
        "\n",
        "average_score = (math + english + biology + physics) / 4\n",
        "\n",
        "print(\"Average score is\", average_score)\n",
        "if average_score >= 90:\n",
        "    print(\"Grade is A\")\n",
        "elif average_score >= 80:\n",
        "    print(\"Grade is B\")\n",
        "elif average_score >= 70:\n",
        "    print(\"Grade is C\")\n",
        "else:\n",
        "    print(\"Grade is D\")"
      ],
      "metadata": {
        "colab": {
          "base_uri": "https://localhost:8080/"
        },
        "id": "_a9gIqbb3Z-v",
        "outputId": "339d04df-e95c-43b6-a735-e80c5b456141"
      },
      "execution_count": 24,
      "outputs": [
        {
          "output_type": "stream",
          "name": "stdout",
          "text": [
            "Average score is 75.75\n",
            "Grade is C\n"
          ]
        }
      ]
    },
    {
      "cell_type": "code",
      "source": [
        "# Task 3\n",
        "input_value = 4\n",
        "for x in range(1, 11):\n",
        "    print(x, \"^\", input_value, \"is\", pow(x, input_value))\n",
        "\n",
        "input_value = 2\n",
        "x = 0\n",
        "while x < 10:\n",
        "    x += 1\n",
        "    print(x, \"^\", input_value, \"is\", pow(x, input_value))"
      ],
      "metadata": {
        "colab": {
          "base_uri": "https://localhost:8080/"
        },
        "id": "OkK7zeiJ3XDW",
        "outputId": "a506a6e1-7fcc-43b6-9be1-d801c4adba5b"
      },
      "execution_count": 28,
      "outputs": [
        {
          "output_type": "stream",
          "name": "stdout",
          "text": [
            "1 ^ 4 is 1\n",
            "2 ^ 4 is 16\n",
            "3 ^ 4 is 81\n",
            "4 ^ 4 is 256\n",
            "5 ^ 4 is 625\n",
            "6 ^ 4 is 1296\n",
            "7 ^ 4 is 2401\n",
            "8 ^ 4 is 4096\n",
            "9 ^ 4 is 6561\n",
            "10 ^ 4 is 10000\n",
            "1 ^ 2 is 1\n",
            "2 ^ 2 is 4\n",
            "3 ^ 2 is 9\n",
            "4 ^ 2 is 16\n",
            "5 ^ 2 is 25\n",
            "6 ^ 2 is 36\n",
            "7 ^ 2 is 49\n",
            "8 ^ 2 is 64\n",
            "9 ^ 2 is 81\n",
            "10 ^ 2 is 100\n"
          ]
        }
      ]
    }
  ]
}