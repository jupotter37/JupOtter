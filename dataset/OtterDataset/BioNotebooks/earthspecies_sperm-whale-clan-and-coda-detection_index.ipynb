{
 "cells": [
  {
   "cell_type": "markdown",
   "metadata": {},
   "source": [
    "# Sperm whale bioacoustics\n",
    "\n",
    "> Sperm whale clan membership and coda type detection using inter click intervals"
   ]
  },
  {
   "cell_type": "markdown",
   "metadata": {},
   "source": [
    "This repository builds on the work in [Deep Machine Learning Techniques for the Detection and Classification of Sperm Whale Bioacoustics](https://www.nature.com/articles/s41598-019-48909-4), a fascinating paper by Peter C. Bermant, Michael M. Bronstein, Robert J. Wood, Shane Gero & David F. Gruber.\n",
    "\n",
    "The purpose of the repository is to:\n",
    "* reproduce the RNN experiments, providing executable code with accompanying explanation to allow others to leverage these novel techniques on their data\n",
    "* identify whether architectural changes and advanced training schedules (1cycle policy) could alleviate the need for the cumbersome pretraining step\n",
    "* experiment with and report results of using Random Forest instead of the RNN, a model that can be trained to good effects without specialized deep learning knowledge, is not prone to overfitting, that can be trained without the need of a GPU and that lends itself very well to interpetation\n",
    "\n",
    "Above all, the goal of the repository is to provide an introduction to the world of marine biology and modern machine learning techniques."
   ]
  },
  {
   "cell_type": "markdown",
   "metadata": {},
   "source": [
    "## Summary of results\n",
    "\n",
    "We chose to focus on the clan detection and coda type detection tasks on the dominicana dataset. Those were the only tasks (apart from classification using a CNN) where results were reported on the validation set and where we were able to reconstruct how the data was processed (based on [the paper](https://www.nature.com/articles/s41598-019-48909-4) and [the accompanying repository](https://github.com/dgruber212/Sperm_Whale_Machine_Learning)).\n",
    "\n",
    "Our goal was not to go for the breadth of our inquiry, but rather to follow in the footsteps of the breakthrough paper to better understand the fascinating phenonemana of ICIs and their potential role in whale communication.\n",
    "\n",
    "The notebooks were constructed in a way as to allow a broader audience to follow in our footsteps.\n",
    "\n",
    "### Clan detection\n",
    "\n",
    "|model|accuracy|\n",
    "|:------:|:-----------|\n",
    "|RNN (paper)|95.3%|\n",
    "|RNN (ours) |93.7%|\n",
    "|Random Forest |95.3%|\n",
    "\n",
    "### Coda type detection\n",
    "\n",
    "|model|accuracy|\n",
    "|:------:|:-----------|\n",
    "|RNN (paper)|99.9%|\n",
    "|RNN (ours) |100%|\n",
    "|Random Forest |99.6%|\n",
    "\n",
    "Our RNN and Random Forest use the same sampling of the train and validation sets and thus these results are easiest to compare. The paper followed a different sampling of the train and validation sets.\n",
    "\n",
    "Overall, the differences in performance, given the size of the validation set, are next to insignificant. All the models perform similarly.\n",
    "\n",
    "An interesting result is the stronger performance of our Random Forest as compared to our RNN on the clan detection task.\n",
    "\n",
    "We found no benefits to pretraining. For RNNs we got best results when training the entire model from scratch.\n",
    "\n",
    "The main consideration that we would like to highlight is how much less compute and specialized knowledge was needed to get good results with Random Forest. Above all, the interpretability of the model is unparalleled. The robustness of the method to training on unbalanced data and its legendary ability to not overfit (while still packing enough variance to give good results) makes this a great model to have in one's toolbox."
   ]
  }
 ],
 "metadata": {
  "kernelspec": {
   "display_name": "Python 3",
   "language": "python",
   "name": "python3"
  },
  "language_info": {
   "codemirror_mode": {
    "name": "ipython",
    "version": 3
   },
   "file_extension": ".py",
   "mimetype": "text/x-python",
   "name": "python",
   "nbconvert_exporter": "python",
   "pygments_lexer": "ipython3",
   "version": "3.7.6"
  }
 },
 "nbformat": 4,
 "nbformat_minor": 2
}
