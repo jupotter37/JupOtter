{
 "cells": [
  {
   "cell_type": "markdown",
   "metadata": {},
   "source": [
    "# Source contributions"
   ]
  },
  {
   "cell_type": "code",
   "execution_count": 1,
   "metadata": {},
   "outputs": [],
   "source": [
    "import pickle\n",
    "import numpy as np\n",
    "import netCDF4 as nc\n",
    "import pandas as pd\n",
    "from calendar import monthrange\n",
    "\n",
    "%matplotlib inline"
   ]
  },
  {
   "cell_type": "markdown",
   "metadata": {},
   "source": [
    "#### Parameters:"
   ]
  },
  {
   "cell_type": "code",
   "execution_count": 2,
   "metadata": {},
   "outputs": [],
   "source": [
    "imin, imax = 1479, 2179\n",
    "jmin, jmax = 159, 799\n",
    "isize = imax-imin\n",
    "jsize = jmax-jmin\n",
    "\n",
    "# model result set:\n",
    "folder_ref      = '/data/brogalla/run_storage/Mn-reference-202204/'\n",
    "folder_cleanice = '/data/brogalla/run_storage/Mn-clean-ice-202204/'\n",
    "folder_spm      = '/data/brogalla/run_storage/Mn-spm-202204/'\n",
    "folder_bio      = '/data/brogalla/run_storage/Mn-bio-202204/'\n",
    "\n",
    "colors = ['#ccb598', '#448d90', '#739f78', '#CC8741', '#cee7fd', '#b9c1c7']"
   ]
  },
  {
   "cell_type": "code",
   "execution_count": 3,
   "metadata": {},
   "outputs": [],
   "source": [
    "years = [2002, 2003, 2004, 2005, 2006, 2007, 2008, 2009, 2010, 2011, 2012, 2013, 2014, 2015, 2016, \\\n",
    "         2017, 2018, 2019]"
   ]
  },
  {
   "cell_type": "markdown",
   "metadata": {},
   "source": [
    "#### Load files:"
   ]
  },
  {
   "cell_type": "code",
   "execution_count": 4,
   "metadata": {},
   "outputs": [],
   "source": [
    "mask      = nc.Dataset('/ocean/brogalla/GEOTRACES/data/ANHA12/ANHA12_mesh1.nc')\n",
    "tmask     = np.array(mask.variables['tmask'])[0,:,imin:imax,jmin:jmax]\n",
    "land_mask = np.ma.masked_where((tmask[:,:,:] > 0.1), tmask[:,:,:]) \n",
    "e1t_base  = np.array(mask.variables['e1t'])[0,imin:imax,jmin:jmax]\n",
    "e2t_base  = np.array(mask.variables['e2t'])[0,imin:imax,jmin:jmax]\n",
    "e3t       = np.array(mask.variables['e3t_0'])[0,:,imin:imax,jmin:jmax]\n",
    "e3t_masked = np.ma.masked_where((tmask[:,:,:] < 0.1), e3t)\n",
    "nav_lev   = np.array(mask.variables['nav_lev'])\n",
    "lons      = np.array(mask.variables['nav_lon'])\n",
    "\n",
    "e1t       = np.tile(e1t_base, (50,1,1))\n",
    "e2t       = np.tile(e2t_base, (50,1,1))\n",
    "volume    = e1t*e2t*e3t\n",
    "area_base = e1t_base*e2t_base\n",
    "volume_masked = np.ma.masked_where((tmask[:,:,:] < 0.1), volume)\n",
    "area_masked   = np.ma.masked_where((tmask[0,:,:] < 0.1), area_base)"
   ]
  },
  {
   "cell_type": "markdown",
   "metadata": {},
   "source": [
    "#### Functions:"
   ]
  },
  {
   "cell_type": "code",
   "execution_count": 5,
   "metadata": {},
   "outputs": [],
   "source": [
    "def load_results(folder_ref, year, experiment):\n",
    "    \n",
    "    months  = ['01', '02', '03', '04', '05', '06', '07', '08', '09', '10', '11', '12']\n",
    "    dmn_riv = np.empty((12,isize,jsize))   ; dmn_sed = np.empty((12,isize,jsize)); \n",
    "    dmn_atm = np.empty((12,isize,jsize))   ; dmn_ice = np.empty((12,isize,jsize));\n",
    "    dmn_sedice = np.empty((12,isize,jsize)); dmn_priv = np.empty((12,isize,jsize));\n",
    "    dmn_red = np.empty((12,50,isize,jsize)); dmn_oxi = np.empty((12,50,isize,jsize));\n",
    "    dmn_bio = np.empty((12,50,isize,jsize));\n",
    "    \n",
    "    for i, month in enumerate(months):\n",
    "        file        = f'ANHA12_EXH006_1m_{year}0101_{year}1231_comp_{year}{month}-{year}{month}.nc'\n",
    "        ref_monthly = nc.Dataset(folder_ref+file)\n",
    "        \n",
    "        dmn_riv[i,:,:]    = np.array(ref_monthly.variables['dmnriv'])[0,:,:]\n",
    "        \n",
    "        if experiment=='spm':\n",
    "            dmn_priv[i,:,:] = np.array(ref_monthly.variables['pmnriv'])[0,:,:]\n",
    "            dmn_bio[i,:,:]  = 0\n",
    "        elif experiment=='bio':\n",
    "            dmn_priv[i,:,:] = 0\n",
    "            dmn_bio[i,:,:]  = np.array(ref_monthly.variables['dmnbio'])[0,:,:,:]\n",
    "        else:\n",
    "            dmn_priv[i,:,:] = 0\n",
    "            dmn_bio[i,:,:]  = 0\n",
    "        \n",
    "        dmn_sed[i,:,:]    = np.array(ref_monthly.variables['dmnsed'])[0,:,:]\n",
    "        dmn_sedice[i,:,:] = np.array(ref_monthly.variables['dmnsedice'])[0,:,:]\n",
    "        dmn_atm[i,:,:]    = np.array(ref_monthly.variables['dmnatm'])[0,:,:]\n",
    "        dmn_ice[i,:,:]    = np.array(ref_monthly.variables['dmnice'])[0,:,:]\n",
    "        dmn_red[i,:,:,:]  = np.array(ref_monthly.variables['dmnred'])[0,:,:,:]\n",
    "        dmn_oxi[i,:,:,:]  = np.array(ref_monthly.variables['dmnoxi'])[0,:,:,:]\n",
    "    \n",
    "    tmask_surf    = np.empty(dmn_riv.shape)\n",
    "    tmask_surf[:] = tmask[0,:,:]\n",
    "    tmask_full    = np.empty(dmn_red.shape)\n",
    "    tmask_full[:] = tmask\n",
    "    \n",
    "    # Mask points on land:\n",
    "    dmn_riv    = np.ma.masked_where((tmask_surf < 0.1), dmn_riv); \n",
    "    dmn_priv   = np.ma.masked_where((tmask_surf < 0.1), dmn_priv); \n",
    "    dmn_sed    = np.ma.masked_where((tmask_surf < 0.1), dmn_sed)\n",
    "    dmn_sedice = np.ma.masked_where((tmask_surf < 0.1), dmn_sedice)\n",
    "    dmn_atm    = np.ma.masked_where((tmask_surf < 0.1), dmn_atm)\n",
    "    dmn_ice    = np.ma.masked_where((tmask_surf < 0.1), dmn_ice)\n",
    "    dmn_red    = np.ma.masked_where((tmask_full < 0.1), dmn_red)\n",
    "    dmn_oxi    = np.ma.masked_where((tmask_full < 0.1), dmn_oxi)\n",
    "    dmn_bio    = np.ma.masked_where((tmask_full < 0.1), dmn_bio)\n",
    "\n",
    "    return dmn_riv, dmn_priv, dmn_sed, dmn_sedice, dmn_atm, dmn_ice, dmn_red, dmn_oxi, dmn_bio"
   ]
  },
  {
   "cell_type": "code",
   "execution_count": 6,
   "metadata": {},
   "outputs": [],
   "source": [
    "def calculate_contribution(year, mask, experiment='ref'):\n",
    "    # Calculate the contribution of the model components by region:\n",
    "    if experiment=='spm':\n",
    "        folder_year = folder_spm + f'ANHA12_spm-{year}_20220422/'\n",
    "    elif experiment=='bio':\n",
    "        folder_year = folder_bio + f'ANHA12_bio-{year}_20220422/'\n",
    "    else:\n",
    "        folder_year = folder_ref + f'ANHA12_ref-{year}_20220422/'\n",
    "    \n",
    "    if experiment=='bio' and year>2015:\n",
    "        total_yearly_contribution = np.empty((9))\n",
    "        ave_yearly_contribution   = np.empty((9)) \n",
    "        total_yearly_contribution[:] = np.NaN\n",
    "        ave_yearly_contribution[:]   = np.NaN\n",
    "        return total_yearly_contribution, ave_yearly_contribution\n",
    "    \n",
    "    dmn_mriv, dmn_mpriv, dmn_msed, dmn_msedice, dmn_matm, dmn_mice, dmn_mred, dmn_moxi, dmn_mbio = \\\n",
    "                       load_results(folder_year, year, experiment)\n",
    "\n",
    "    # Calculate contributions to the upper water column, so mask locations where sediment resuspension is added in the deep.\n",
    "    indexes_bottom = np.tile(index_bottom, (12,1,1))\n",
    "    dmn_msed = np.ma.masked_where(indexes_bottom > 19, dmn_msed)\n",
    "    \n",
    "    # Momentary contribution: moles / second (from moles / L / s --> moles / m3 / s --> moles / s)\n",
    "    # Mask is for the points associated with the specified region. \n",
    "    priv   = np.ma.masked_where(mask==0, dmn_mpriv)   * volume_masked[0,:,:] * 1e3\n",
    "    riv    = np.ma.masked_where(mask==0, dmn_mriv)    * volume_masked[0,:,:] * 1e3\n",
    "    sed    = np.ma.masked_where(mask==0, dmn_msed)    * volume_bottom        * 1e3\n",
    "    sedice = np.ma.masked_where(mask==0, dmn_msedice) * volume_masked[0,:,:] * 1e3\n",
    "    atm    = np.ma.masked_where(mask==0, dmn_matm)    * volume_masked[0,:,:] * 1e3\n",
    "    ice    = np.ma.masked_where(mask==0, dmn_mice)    * volume_masked[0,:,:] * 1e3\n",
    "    # 3D fields only calculated over polar mixed layer:\n",
    "    mask_with_depths = np.tile(mask, (50,1,1,1)).reshape((12,50,700,640))\n",
    "    bio    = np.ma.masked_where(mask_with_depths==0, dmn_mbio)[:,0:17,:,:] * volume_masked[0:17,:,:] * 1e3\n",
    "    red    = np.ma.masked_where(mask_with_depths==0, dmn_mred)[:,0:17,:,:] * volume_masked[0:17,:,:] * 1e3\n",
    "    oxi    = np.ma.masked_where(mask_with_depths==0, dmn_moxi)[:,0:17,:,:] * volume_masked[0:17,:,:] * 1e3\n",
    "\n",
    "    # Yearly contribution to domain: moles / year (from moles / s / month --> moles / month --> moles / year)\n",
    "    atm_year = 0; riv_year = 0; priv_year = 0; sed_year = 0; sedice_year = 0;\n",
    "    ice_year = 0; bio_year = 0; red_year = 0; oxi_year = 0;\n",
    "    for month in range(1,13):   \n",
    "        index = month-1\n",
    "        days_in_month = monthrange(year, month)[1]\n",
    "        if days_in_month == 29: # ignore leap year\n",
    "            days_in_month = 28\n",
    "        \n",
    "        atm_year    = atm_year    + np.ma.sum(atm[index,:,:],axis=(0,1))   *3600*24*days_in_month\n",
    "        riv_year    = riv_year    + np.ma.sum(riv[index,:,:],axis=(0,1))   *3600*24*days_in_month\n",
    "        priv_year   = priv_year   + np.ma.sum(priv[index,:,:],axis=(0,1))  *3600*24*days_in_month\n",
    "        sed_year    = sed_year    + np.ma.sum(sed[index,:,:],axis=(0,1))   *3600*24*days_in_month\n",
    "        sedice_year = sedice_year + np.ma.sum(sedice[index,:,:],axis=(0,1))*3600*24*days_in_month\n",
    "        ice_year    = ice_year    + np.ma.sum(ice[index,:,:],axis=(0,1))   *3600*24*days_in_month\n",
    "        \n",
    "        bio_year    = bio_year    + np.ma.sum(bio[index,:,:,:],axis=(0,1,2)) *3600*24*days_in_month\n",
    "        red_year    = red_year    + np.ma.sum(red[index,:,:,:],axis=(0,1,2)) *3600*24*days_in_month\n",
    "        oxi_year    = oxi_year    + np.ma.sum(oxi[index,:,:,:],axis=(0,1,2)) *3600*24*days_in_month\n",
    "    \n",
    "    # Average yearly contribution over domain: moles / m2 / year\n",
    "    total_area     = np.ma.sum(np.ma.masked_where(mask[0,:,:]==0, area_masked[:,:]))\n",
    "    atmm2_year     =  atm_year    / total_area\n",
    "    rivm2_year     =  riv_year    / total_area\n",
    "    privm2_year    =  priv_year   / total_area\n",
    "    sedm2_year     =  sed_year    / total_area \n",
    "    sedicem2_year  =  sedice_year / total_area\n",
    "    icem2_year     =  ice_year    / total_area   \n",
    "    # Polar mixed layer average contribution:\n",
    "    PML_depth      = nav_lev[17]\n",
    "    biom2_year     =  bio_year    / (total_area*PML_depth)\n",
    "    redm2_year     =  red_year    / (total_area*PML_depth)\n",
    "    oxim2_year     =  oxi_year    / (total_area*PML_depth)\n",
    "    \n",
    "    total_yearly_contribution = np.array([priv_year, riv_year, sed_year, sedice_year, ice_year, atm_year, \\\n",
    "                                          bio_year, red_year, oxi_year])           # mol/yr\n",
    "    ave_yearly_contribution   = np.array([privm2_year, rivm2_year, sedm2_year, sedicem2_year, icem2_year, \\\n",
    "                                          atmm2_year, biom2_year, redm2_year, oxim2_year]) # mol/m2/yr\n",
    " \n",
    "    return total_yearly_contribution, ave_yearly_contribution"
   ]
  },
  {
   "cell_type": "code",
   "execution_count": 7,
   "metadata": {},
   "outputs": [],
   "source": [
    "def calculate_regional_contributions(mask):\n",
    "    \n",
    "    totals_ref   = np.empty((len(years),9)); totals_spm   = np.empty((len(years),9)); totals_bio   = np.empty((len(years),9));\n",
    "    averages_ref = np.empty((len(years),9)); averages_spm = np.empty((len(years),9)); averages_bio = np.empty((len(years),9));\n",
    "\n",
    "    totals_ref[:]   = np.NaN; totals_spm[:]    = np.NaN; totals_bio[:]   = np.NaN;\n",
    "    averages_ref[:] = np.NaN; averages_spm[:]  = np.NaN; averages_spm[:] = np.NaN;\n",
    "\n",
    "    for i, year in enumerate(years):\n",
    "        total_ref_year, ave_ref_year  = calculate_contribution(year, mask, experiment='ref')\n",
    "        total_spm_year, ave_spm_year  = calculate_contribution(year, mask, experiment='spm')\n",
    "        total_bio_year, ave_bio_year  = calculate_contribution(year, mask, experiment='bio')\n",
    "\n",
    "        totals_ref[i,:]        = total_ref_year \n",
    "        totals_spm[i,:]        = total_spm_year \n",
    "        totals_bio[i,:]        = total_bio_year \n",
    "        averages_ref[i,:]      = ave_ref_year  \n",
    "        averages_spm[i,:]      = ave_spm_year \n",
    "        averages_bio[i,:]      = ave_bio_year \n",
    "    \n",
    "    return totals_ref, totals_spm, totals_bio, averages_ref, averages_spm, averages_bio"
   ]
  },
  {
   "cell_type": "code",
   "execution_count": 8,
   "metadata": {},
   "outputs": [],
   "source": [
    "def reshape_arrays(array_in):\n",
    "    fixed      = np.zeros((len(years),8))\n",
    "    \n",
    "    for i in range(0,8):\n",
    "        if i==0: # Sum the particulate and dissolved river contributions\n",
    "            fixed[:,i] = array_in[:,i]+array_in[:,i+1]\n",
    "        else:\n",
    "            fixed[:,i] = array_in[:,i+1]\n",
    "    \n",
    "    return fixed"
   ]
  },
  {
   "cell_type": "code",
   "execution_count": 9,
   "metadata": {},
   "outputs": [],
   "source": [
    "def pipeline(totals_input_ref, totals_input_spm, totals_input_bio, \n",
    "             averages_input_ref, averages_input_spm, averages_input_bio):\n",
    "    \n",
    "    regions = ['full', 'CB', 'CAA', 'wCAA', 'eCAA']\n",
    "    \n",
    "    totals_fixed_ref = totals_input_ref.copy(); averages_fixed_ref = averages_input_ref.copy();\n",
    "    totals_fixed_spm = totals_input_spm.copy(); averages_fixed_spm = averages_input_spm.copy();\n",
    "    totals_fixed_bio = totals_input_bio.copy(); averages_fixed_bio = averages_input_bio.copy();\n",
    "    \n",
    "    # Reshape arrays so that particulate and dissolved river contributions are combined into one.\n",
    "    for region in regions:\n",
    "\n",
    "        totals_fixed_ref[region]   = reshape_arrays(totals_input_ref[region])\n",
    "        totals_fixed_spm[region]   = reshape_arrays(totals_input_spm[region])\n",
    "        totals_fixed_bio[region]   = reshape_arrays(totals_input_bio[region])\n",
    "        averages_fixed_ref[region] = reshape_arrays(averages_input_ref[region])\n",
    "        averages_fixed_spm[region] = reshape_arrays(averages_input_spm[region])\n",
    "        averages_fixed_bio[region] = reshape_arrays(averages_input_bio[region])\n",
    "    \n",
    "    return totals_fixed_ref, totals_fixed_spm, totals_fixed_bio, averages_fixed_ref, averages_fixed_spm, averages_fixed_bio"
   ]
  },
  {
   "cell_type": "code",
   "execution_count": 10,
   "metadata": {},
   "outputs": [],
   "source": [
    "def print_interannual_averages(totals_ref, totals_spm, totals_bio, \n",
    "                               averages_ref, averages_spm, averages_bio,\n",
    "                               location='Full'):\n",
    "\n",
    "    print(f'Interannual average values in {location}')\n",
    "    print('----------------------------------------------------------------')\n",
    "    total_ref_annual = np.sum(totals_ref[location][:,0:5], axis=1)\n",
    "    total_spm_annual = np.sum(totals_spm[location][:,0:5], axis=1)\n",
    "    total_bio_annual = np.sum(totals_bio[location][:,0:5], axis=1)\n",
    "    \n",
    "    # Total annual contribution is averaged over the 18-year time series and multiplied by 1e-6 to convert to Mmol\n",
    "    print(f\"{'Total annual contribution of Mn [Mmol/yr]:':<55}\" +\n",
    "          f\"{np.average(total_ref_annual)*1e-6:<5.0f} ({np.average(total_spm_annual)*1e-6:<5.0f})\")\n",
    "    print(f\"{'-- River discharge ---':<40}\" +\n",
    "          f\" {np.average(totals_ref[location][:,0])*1e-6:<8.2f} ({np.average(totals_spm[location][:,0])*1e-6:<5.2f})\")\n",
    "    print(f\"{'-- Sediment resuspension ---':<40}\" +\n",
    "          f\" {np.average(totals_ref[location][:,1])*1e-6:<8.2f} ({np.average(totals_spm[location][:,1])*1e-6:<5.2f})\")\n",
    "    print(f\"{'-- Sediment released by sea ice ---':<40}\" +\n",
    "          f\" {np.average(totals_ref[location][:,2])*1e-6:<8.2f} ({np.average(totals_spm[location][:,2])*1e-6:<5.2f})\")\n",
    "    print(f\"{'-- Dust released by sea ice ---':<40}\" +\n",
    "          f\" {np.average(totals_ref[location][:,3])*1e-6:<8.2f} ({np.average(totals_spm[location][:,3])*1e-6:<5.2f})\")\n",
    "    print(f\"{'-- Dust deposition ---':<40}\" +\n",
    "          f\" {np.average(totals_ref[location][:,4])*1e-6:<8.2f} ({np.average(totals_spm[location][:,4])*1e-6:<5.2f})\") \n",
    "\n",
    "    tref = np.sum(totals_ref[location][:,0:5], axis=(0,1))\n",
    "    tspm = np.sum(totals_spm[location][:,0:5], axis=(0,1))\n",
    "    tbio = np.sum(totals_bio[location][:,0:5], axis=(0,1))\n",
    "\n",
    "    # Percent is calculated from sum of component contribution over all months / total contributions over full time period\n",
    "    print('----------------------------------------------------------------')\n",
    "    print('Total annual contribution of Mn [%]:') \n",
    "    print(f\"{'-- River discharge ---':<40}\" +\n",
    "          f\"{np.sum(totals_ref[location][:,0])*100/tref:<5.2f} ({np.sum(totals_spm[location][:,0])*100/tspm:<5.2f})\")\n",
    "    print(f\"{'-- Sediment resuspension ---':<40}\" +\n",
    "          f\"{np.sum(totals_ref[location][:,1])*100/tref:<5.2f} ({np.sum(totals_spm[location][:,1])*100/tspm:<5.2f})\")\n",
    "    print(f\"{'-- Sediment released by sea ice ---':<40}\" +\n",
    "          f\"{np.sum(totals_ref[location][:,2])*100/tref:<5.2f} ({np.sum(totals_spm[location][:,2])*100/tspm:<5.2f})\")\n",
    "    print(f\"{'-- Dust released by sea ice ---':<40}\" +\n",
    "          f\"{np.sum(totals_ref[location][:,3])*100/tref:<5.2f} ({np.sum(totals_spm[location][:,3])*100/tspm:<5.2f})\")\n",
    "    print(f\"{'-- Dust deposition ---':<40}\" +\n",
    "          f\"{np.sum(totals_ref[location][:,4])*100/tref:<5.2f} ({np.sum(totals_spm[location][:,4])*100/tspm:<5.2f})\")\n",
    "\n",
    "    # Average annual contribution is calculated as an average over the full time series and converted to millimol\n",
    "    print('----------------------------------------------------------------')\n",
    "    print(f\"{'Average annual contribution of Mn [micromol/m2/yr]:':<55}\" +\n",
    "          f\"{np.average(np.sum(averages_ref[location][:,0:5], axis=1)*1e6):<5.0f}\" +\n",
    "          f\"({np.average(np.sum(averages_spm[location][:,0:5], axis=1)*1e6):<5.0f})\")\n",
    "    print(f\"{'-- River discharge ---':<40}\" +\n",
    "          f\"{np.average(averages_ref[location][:,0])*1e6:<8.2f} ({np.average(averages_spm[location][:,0])*1e6:<5.2f})\")\n",
    "    print(f\"{'-- Sediment resuspension ---':<40}\" +\n",
    "          f\"{np.average(averages_ref[location][:,1])*1e6:<8.2f} ({np.average(averages_spm[location][:,1])*1e6:<5.2f})\")\n",
    "    print(f\"{'-- Sediment released by sea ice ---':<40}\" +\n",
    "          f\"{np.average(averages_ref[location][:,2])*1e6:<8.2f} ({np.average(averages_spm[location][:,2])*1e6:<5.2f})\")\n",
    "    print(f\"{'-- Dust released by sea ice ---':<40}\" +\n",
    "          f\"{np.average(averages_ref[location][:,3])*1e6:<8.2f} ({np.average(averages_spm[location][:,3])*1e6:<5.2f})\")\n",
    "    print(f\"{'-- Dust deposition ---':<40}\" +\n",
    "          f\"{np.average(averages_ref[location][:,4])*1e6:<8.2f} ({np.average(averages_spm[location][:,4])*1e6:<5.2f})\")\n",
    "\n",
    "    return"
   ]
  },
  {
   "cell_type": "code",
   "execution_count": 11,
   "metadata": {},
   "outputs": [],
   "source": [
    "def print_interannual_averages_3D(totals_ref, totals_spm, totals_bio, \n",
    "                               averages_ref, averages_spm, averages_bio,\n",
    "                               location='Full'):\n",
    "    # include reduction, oxidation, and bio components calculated over the polar mixed layer\n",
    "\n",
    "    print(f'Interannual average values in {location}')\n",
    "    print('----------------------------------------------------------------')\n",
    "    total_ref_annual = np.sum(totals_ref[location], axis=1)\n",
    "    total_spm_annual = np.sum(totals_spm[location], axis=1)\n",
    "    total_bio_annual = np.nansum(totals_bio[location], axis=1)\n",
    "    \n",
    "    print(f\"{'Total annual contribution of Mn [Mmol/yr]:':<55}\" +\n",
    "          f\"{np.average(total_ref_annual)*1e-6:<5.0f} ({np.average(total_spm_annual)*1e-6:<5.0f})\" + \\\n",
    "          f\" {np.nanmean(total_bio_annual)*1e-6:<8.2f}\")\n",
    "    print(f\"{'-- River discharge ---':<40}\" +\n",
    "          f\" {np.average(totals_ref[location][:,0])*1e-6:<8.2f} ({np.average(totals_spm[location][:,0])*1e-6:<5.2f})\" + \\\n",
    "          f\" {np.nanmean(totals_bio[location][:,0])*1e-6:<8.2f}\")\n",
    "    print(f\"{'-- Sediment resuspension ---':<40}\" +\n",
    "          f\" {np.average(totals_ref[location][:,1])*1e-6:<8.2f} ({np.average(totals_spm[location][:,1])*1e-6:<5.2f})\" + \\\n",
    "          f\" {np.nanmean(totals_bio[location][:,1])*1e-6:<8.2f}\")\n",
    "    print(f\"{'-- Sediment released by sea ice ---':<40}\" +\n",
    "          f\" {np.average(totals_ref[location][:,2])*1e-6:<8.2f} ({np.average(totals_spm[location][:,2])*1e-6:<5.2f})\" + \\\n",
    "          f\" {np.nanmean(totals_bio[location][:,2])*1e-6:<8.2f}\")\n",
    "    print(f\"{'-- Dust released by sea ice ---':<40}\" +\n",
    "          f\" {np.average(totals_ref[location][:,3])*1e-6:<8.2f} ({np.average(totals_spm[location][:,3])*1e-6:<5.2f})\" + \\\n",
    "          f\" {np.nanmean(totals_bio[location][:,3])*1e-6:<8.2f}\")\n",
    "    print(f\"{'-- Dust deposition ---':<40}\" +\n",
    "          f\" {np.average(totals_ref[location][:,4])*1e-6:<8.2f} ({np.average(totals_spm[location][:,4])*1e-6:<5.2f})\" + \\\n",
    "          f\" {np.nanmean(totals_bio[location][:,4])*1e-6:<8.2f}\")\n",
    "    print(f\"{'-- Uptake/remineralization ---':<40}\" +\n",
    "          f\" {np.average(totals_ref[location][:,5])*1e-6:<8.2f} ({np.average(totals_spm[location][:,5])*1e-6:<5.2f})\" + \\\n",
    "          f\" {np.nanmean(totals_bio[location][:,5])*1e-6:<8.2f}\")\n",
    "    print(f\"{'-- Scavenging ---':<40}\" +\n",
    "          f\" {(np.average(totals_ref[location][:,6])-np.average(totals_ref[location][:,7]))*1e-6:<8.2f}\" + \\\n",
    "          f\"({(np.average(totals_spm[location][:,6])-np.average(totals_spm[location][:,7]))*1e-6:<5.2f})\" + \\\n",
    "          f\" {(np.nanmean(totals_bio[location][:,6])-np.nanmean(totals_bio[location][:,7]))*1e-6:<8.2f}\")\n",
    "\n",
    "    tref = np.sum(totals_ref[location], axis=(0,1))\n",
    "    tspm = np.sum(totals_spm[location], axis=(0,1))\n",
    "    tbio = np.nansum(totals_bio[location], axis=(0,1))\n",
    "\n",
    "    print('----------------------------------------------------------------')\n",
    "    print('Total annual contribution of Mn [%]:') \n",
    "    print(f\"{'-- River discharge ---':<40}\" +\n",
    "          f\"{np.sum(totals_ref[location][:,0])*100/tref:<5.2f} ({np.sum(totals_spm[location][:,0])*100/tspm:<5.2f})\" + \\\n",
    "          f\"{np.nansum(totals_bio[location][:,0])*100/tref:<5.2f}\")\n",
    "    print(f\"{'-- Sediment resuspension ---':<40}\" +\n",
    "          f\"{np.sum(totals_ref[location][:,1])*100/tref:<5.2f} ({np.sum(totals_spm[location][:,1])*100/tspm:<5.2f})\" + \\\n",
    "          f\"{np.nansum(totals_bio[location][:,1])*100/tref:<5.2f}\")\n",
    "    print(f\"{'-- Sediment released by sea ice ---':<40}\" +\n",
    "          f\"{np.sum(totals_ref[location][:,2])*100/tref:<5.2f} ({np.sum(totals_spm[location][:,2])*100/tspm:<5.2f})\" + \\\n",
    "          f\"{np.nansum(totals_bio[location][:,2])*100/tref:<5.2f}\")\n",
    "    print(f\"{'-- Dust released by sea ice ---':<40}\" +\n",
    "          f\"{np.sum(totals_ref[location][:,3])*100/tref:<5.2f} ({np.sum(totals_spm[location][:,3])*100/tspm:<5.2f})\" + \\\n",
    "          f\"{np.nansum(totals_bio[location][:,3])*100/tref:<5.2f}\")\n",
    "    print(f\"{'-- Dust deposition ---':<40}\" +\n",
    "          f\"{np.sum(totals_ref[location][:,4])*100/tref:<5.2f} ({np.sum(totals_spm[location][:,4])*100/tspm:<5.2f})\" + \\\n",
    "          f\"{np.nansum(totals_bio[location][:,4])*100/tref:<5.2f}\")\n",
    "    print(f\"{'-- Uptake/remineralization ---':<40}\" +\n",
    "          f\"{np.sum(totals_ref[location][:,5])*100/tref:<5.2f} ({np.sum(totals_spm[location][:,5])*100/tspm:<5.2f})\" + \\\n",
    "          f\"{np.nansum(totals_bio[location][:,5])*100/tref:<5.2f}\")\n",
    "    print(f\"{'-- Scavenging ---':<40}\" +\n",
    "          f\"{np.sum(totals_ref[location][:,6]   - totals_ref[location][:,7])*100/tref:<5.2f} \"+ \\\n",
    "          f\"({np.sum(totals_spm[location][:,6]  - totals_spm[location][:,7])*100/tspm:<5.2f})\" + \\\n",
    "          f\"{np.nansum(totals_bio[location][:,6]- totals_bio[location][:,7])*100/tref:<5.2f}\")\n",
    "\n",
    "    print('----------------------------------------------------------------')\n",
    "    print(f\"{'Average annual contribution of Mn [micromol/m2/yr]:':<55}\" +\n",
    "          f\"{np.average(np.sum(averages_ref[location], axis=1)*1e6):<5.0f}\" +\n",
    "          f\"({np.average(np.sum(averages_spm[location], axis=1)*1e6):<5.0f})\"+\n",
    "          f\"{np.nanmean(np.nansum(averages_bio[location], axis=1)*1e6):<5.0f}\")\n",
    "    print(f\"{'-- River discharge ---':<40}\" +\n",
    "          f\"{np.average(averages_ref[location][:,0])*1e6:<8.2f} ({np.average(averages_spm[location][:,0])*1e6:<5.2f})\" +\\\n",
    "          f\"{np.nanmean(averages_bio[location][:,0])*1e6:<8.2f}\")\n",
    "    print(f\"{'-- Sediment resuspension ---':<40}\" +\n",
    "          f\"{np.average(averages_ref[location][:,1])*1e6:<8.2f} ({np.average(averages_spm[location][:,1])*1e6:<5.2f})\" +\\\n",
    "          f\"{np.nanmean(averages_bio[location][:,1])*1e6:<8.2f}\")\n",
    "    print(f\"{'-- Sediment released by sea ice ---':<40}\" +\n",
    "          f\"{np.average(averages_ref[location][:,2])*1e6:<8.2f} ({np.average(averages_spm[location][:,2])*1e6:<5.2f})\" +\\\n",
    "          f\"{np.nanmean(averages_bio[location][:,2])*1e6:<8.2f}\")\n",
    "    print(f\"{'-- Dust released by sea ice ---':<40}\" +\n",
    "          f\"{np.average(averages_ref[location][:,3])*1e6:<8.2f} ({np.average(averages_spm[location][:,3])*1e6:<5.2f})\" +\\\n",
    "          f\"{np.nanmean(averages_bio[location][:,3])*1e6:<8.2f}\")\n",
    "    print(f\"{'-- Dust deposition ---':<40}\" +\n",
    "          f\"{np.average(averages_ref[location][:,4])*1e6:<8.2f} ({np.average(averages_spm[location][:,4])*1e6:<5.2f})\" +\\\n",
    "          f\"{np.nanmean(averages_bio[location][:,4])*1e6:<8.2f}\")\n",
    "    print(f\"{'-- Uptake/remineralization ---':<40}\" +\n",
    "          f\"{np.average(averages_ref[location][:,5])*1e6:<8.2f} ({np.average(averages_spm[location][:,5])*1e6:<5.2f})\" +\\\n",
    "          f\"{np.nanmean(averages_bio[location][:,5])*1e6:<8.2f}\")\n",
    "    print(f\"{'-- Scavenging ---':<40}\" +\n",
    "          f\"{(np.average(averages_ref[location][:,6]) - np.average(averages_ref[location][:,7]))*1e6:<8.2f}\"+ \\\n",
    "          f\"({(np.average(averages_spm[location][:,6])- np.average(averages_spm[location][:,7]))*1e6:<5.2f})\" +\\\n",
    "          f\"{(np.nanmean(averages_bio[location][:,6]) - np.nanmean(averages_bio[location][:,7]))*1e6:<8.2f}\")\n",
    "\n",
    "    return"
   ]
  },
  {
   "cell_type": "markdown",
   "metadata": {},
   "source": [
    "### Calculations:"
   ]
  },
  {
   "cell_type": "markdown",
   "metadata": {},
   "source": [
    "Find grid cell volume and thickness at ocean floor:"
   ]
  },
  {
   "cell_type": "code",
   "execution_count": 12,
   "metadata": {},
   "outputs": [],
   "source": [
    "tmask_bot = np.copy(tmask)\n",
    "tmask_bot[0,:,:] = 1\n",
    "e3t_mask = np.ma.masked_where((tmask_bot[:,:,:] < 0.1), e3t[:,:,:])\n",
    "\n",
    "# find bottom grid cell index:\n",
    "ind = np.array(np.ma.notmasked_edges(e3t_mask[:,:,:], axis=0))\n",
    "\n",
    "# array of shape (isize, jsize) containing bottom grid cell index\n",
    "index_bottom = np.ma.masked_where((tmask[0,:,:] < 0.1), ind[1][0][:].reshape(isize,jsize))"
   ]
  },
  {
   "cell_type": "code",
   "execution_count": 13,
   "metadata": {},
   "outputs": [],
   "source": [
    "e3t_bot = np.zeros((isize,jsize))\n",
    "vol_bot = np.zeros((isize,jsize))\n",
    "\n",
    "for i in range(0, isize):\n",
    "    for j in range(0,jsize):\n",
    "        k = index_bottom[i,j]\n",
    "        try:\n",
    "            e3t_bot[i,j] = e3t[k,i,j]\n",
    "            vol_bot[i,j] = volume[k,i,j]\n",
    "        except:\n",
    "            e3t_bot[i,j] = np.nan\n",
    "            vol_bot[i,j] = np.nan\n",
    "        \n",
    "e3t_bottom    = np.ma.masked_where((tmask[0,:,:] < 0.1), np.ma.masked_where(np.isnan(e3t_bot), e3t_bot))\n",
    "volume_bottom = np.ma.masked_where((tmask[0,:,:] < 0.1), np.ma.masked_where(np.isnan(vol_bot), vol_bot))"
   ]
  },
  {
   "cell_type": "markdown",
   "metadata": {},
   "source": [
    "Create masks for specific subregions:\n",
    "- Canada Basin\n",
    "- CAA\n",
    "- Full domain\n",
    "- Western CAA (separated by Barrow Sill)\n",
    "- Eastern CAA (separated by Barrow Sill)"
   ]
  },
  {
   "cell_type": "code",
   "execution_count": 14,
   "metadata": {},
   "outputs": [],
   "source": [
    "# Find indices to separate out Canada Basin:\n",
    "\n",
    "x_ind = np.arange(1621, 2100, 1)\n",
    "y_ind = (-7/8)*x_ind + 1517 + 700\n",
    "\n",
    "CB_indx = []\n",
    "CB_indy = []\n",
    "\n",
    "for index in range(0,len(x_ind)):\n",
    "    CB_x = np.arange(x_ind[index],2179,1)\n",
    "    CB_y = np.ones(CB_x.shape)*y_ind[index]\n",
    "    \n",
    "    CB_indx = np.append(CB_x, CB_indx)\n",
    "    CB_indy = np.append(CB_y, CB_indy)"
   ]
  },
  {
   "cell_type": "code",
   "execution_count": 15,
   "metadata": {},
   "outputs": [],
   "source": [
    "# Separate Canada Basin and the CAA:\n",
    "mask_ini_CB  = np.zeros((isize,jsize))\n",
    "mask_ini_CAA = np.ones((isize,jsize))\n",
    "\n",
    "for i, j in zip(CB_indx, CB_indy):\n",
    "    mask_ini_CB[int(i-imin),int(j-jmin)]  = 1\n",
    "    mask_ini_CAA[int(i-imin),int(j-jmin)] = 0\n",
    "    \n",
    "mask_ini_CB[150:-1 ,-8:-1] = 1\n",
    "mask_ini_CAA[150:-1,-8:-1] = 0"
   ]
  },
  {
   "cell_type": "code",
   "execution_count": 16,
   "metadata": {},
   "outputs": [],
   "source": [
    "mask_ini_wCAA = np.zeros((isize,jsize))\n",
    "mask_ini_eCAA = np.zeros((isize,jsize))\n",
    "\n",
    "# Separate the western and eastern CAA:\n",
    "mask_ini_wCAA = np.where(lons[imin:imax,jmin:jmax] < -100, 1, 0)\n",
    "mask_ini_eCAA = np.where(lons[imin:imax,jmin:jmax] > -100, 1, 0)\n",
    "\n",
    "for i, j in zip(CB_indx, CB_indy):\n",
    "    mask_ini_wCAA[int(i-imin),int(j-jmin)] = 0\n",
    "    mask_ini_eCAA[int(i-imin),int(j-jmin)] = 0\n",
    "    \n",
    "mask_ini_wCAA[150:-1,-8:-1] = 0\n",
    "mask_ini_eCAA[150:-1,-8:-1] = 0"
   ]
  },
  {
   "cell_type": "code",
   "execution_count": 17,
   "metadata": {},
   "outputs": [],
   "source": [
    "mask_CB_yr    = np.tile(mask_ini_CB  , (12,1,1))\n",
    "mask_CAA_yr   = np.tile(mask_ini_CAA , (12,1,1))\n",
    "mask_full_yr  = np.ones((12, isize, jsize))\n",
    "mask_wCAA_yr  = np.tile(mask_ini_wCAA, (12,1,1))\n",
    "mask_eCAA_yr  = np.tile(mask_ini_eCAA, (12,1,1))"
   ]
  },
  {
   "cell_type": "code",
   "execution_count": 18,
   "metadata": {},
   "outputs": [],
   "source": [
    "mask_CB_depth = np.tile(mask_CB_yr  , (50,1,1,1))\n",
    "mask_CB_depth = mask_CB_depth.reshape(12,50,700,640)"
   ]
  },
  {
   "cell_type": "markdown",
   "metadata": {},
   "source": [
    "### Calculate and pickle the results:"
   ]
  },
  {
   "cell_type": "code",
   "execution_count": 22,
   "metadata": {},
   "outputs": [],
   "source": [
    "full_totals_ref, full_totals_spm, full_totals_bio, \\\n",
    "        full_averages_ref, full_averages_spm, full_averages_bio = calculate_regional_contributions(mask_full_yr)"
   ]
  },
  {
   "cell_type": "code",
   "execution_count": 23,
   "metadata": {},
   "outputs": [],
   "source": [
    "pickle.dump((full_totals_ref  , full_totals_spm, full_totals_bio    ), open('calculations/full-domain-totals-202204.pickle','wb'))\n",
    "pickle.dump((full_averages_ref, full_averages_spm, full_averages_bio), open('calculations/full-domain-averages-202204.pickle','wb'))"
   ]
  },
  {
   "cell_type": "code",
   "execution_count": 24,
   "metadata": {},
   "outputs": [],
   "source": [
    "CB_totals_ref, CB_totals_spm, CB_totals_bio, \\\n",
    "        CB_averages_ref, CB_averages_spm, CB_averages_bio = calculate_regional_contributions(mask_CB_yr)"
   ]
  },
  {
   "cell_type": "code",
   "execution_count": 25,
   "metadata": {},
   "outputs": [],
   "source": [
    "pickle.dump((CB_totals_ref  , CB_totals_spm, CB_totals_bio    ), open('calculations/Canada-Basin-totals-202204.pickle','wb'))\n",
    "pickle.dump((CB_averages_ref, CB_averages_spm, CB_averages_bio), open('calculations/Canada-Basin-averages-202204.pickle','wb'))"
   ]
  },
  {
   "cell_type": "code",
   "execution_count": 26,
   "metadata": {},
   "outputs": [],
   "source": [
    "CAA_totals_ref, CAA_totals_spm, CAA_totals_bio, \\\n",
    "        CAA_averages_ref, CAA_averages_spm, CAA_averages_bio = calculate_regional_contributions(mask_CAA_yr)"
   ]
  },
  {
   "cell_type": "code",
   "execution_count": 27,
   "metadata": {},
   "outputs": [],
   "source": [
    "pickle.dump((CAA_totals_ref  , CAA_totals_spm, CAA_totals_bio    ), open('calculations/CAA-totals-202204.pickle','wb'))\n",
    "pickle.dump((CAA_averages_ref, CAA_averages_spm, CAA_averages_bio), open('calculations/CAA-averages-202204.pickle','wb'))"
   ]
  },
  {
   "cell_type": "code",
   "execution_count": 28,
   "metadata": {},
   "outputs": [],
   "source": [
    "wCAA_totals_ref, wCAA_totals_spm, wCAA_totals_bio, \\\n",
    "        wCAA_averages_ref, wCAA_averages_spm, wCAA_averages_bio = calculate_regional_contributions(mask_wCAA_yr)"
   ]
  },
  {
   "cell_type": "code",
   "execution_count": 29,
   "metadata": {},
   "outputs": [],
   "source": [
    "pickle.dump((wCAA_totals_ref  , wCAA_totals_spm, wCAA_totals_bio    ), open('calculations/wCAA-totals-202204.pickle','wb'))\n",
    "pickle.dump((wCAA_averages_ref, wCAA_averages_spm, wCAA_averages_bio), open('calculations/wCAA-averages-202204.pickle','wb'))"
   ]
  },
  {
   "cell_type": "code",
   "execution_count": 30,
   "metadata": {},
   "outputs": [],
   "source": [
    "eCAA_totals_ref, eCAA_totals_spm, eCAA_totals_bio,  \\\n",
    "        eCAA_averages_ref, eCAA_averages_spm, eCAA_averages_bio = calculate_regional_contributions(mask_eCAA_yr)"
   ]
  },
  {
   "cell_type": "code",
   "execution_count": 31,
   "metadata": {},
   "outputs": [],
   "source": [
    "pickle.dump((eCAA_totals_ref  , eCAA_totals_spm, eCAA_totals_bio    ), open('calculations/eCAA-totals-202204.pickle','wb'))\n",
    "pickle.dump((eCAA_averages_ref, eCAA_averages_spm, eCAA_averages_bio), open('calculations/eCAA-averages-202204.pickle','wb'))"
   ]
  },
  {
   "cell_type": "markdown",
   "metadata": {},
   "source": [
    "### Overview:"
   ]
  },
  {
   "cell_type": "code",
   "execution_count": 19,
   "metadata": {},
   "outputs": [],
   "source": [
    "# Component contribution calculations:\n",
    "CB_totals_ref,   CB_totals_spm,   CB_totals_bio   = pickle.load(open('calculations/Canada-Basin-totals-202204.pickle','rb')) \n",
    "CAA_totals_ref,  CAA_totals_spm,  CAA_totals_bio  = pickle.load(open('calculations/CAA-totals-202204.pickle' ,'rb')) \n",
    "wCAA_totals_ref, wCAA_totals_spm, wCAA_totals_bio = pickle.load(open('calculations/wCAA-totals-202204.pickle','rb'))  \n",
    "eCAA_totals_ref, eCAA_totals_spm, eCAA_totals_bio = pickle.load(open('calculations/eCAA-totals-202204.pickle','rb')) \n",
    "totals_ref     , totals_spm     , totals_bio      = pickle.load(open('calculations/full-domain-totals-202204.pickle','rb')) \n",
    "\n",
    "ref_totals   = {'full': totals_ref, 'CB': CB_totals_ref, 'CAA':CAA_totals_ref, 'wCAA':wCAA_totals_ref, 'eCAA':eCAA_totals_ref}\n",
    "spm_totals   = {'full': totals_spm, 'CB': CB_totals_spm, 'CAA':CAA_totals_spm, 'wCAA':wCAA_totals_spm, 'eCAA':eCAA_totals_spm}\n",
    "bio_totals   = {'full': totals_bio, 'CB': CB_totals_bio, 'CAA':CAA_totals_bio, 'wCAA':wCAA_totals_bio, 'eCAA':eCAA_totals_bio}"
   ]
  },
  {
   "cell_type": "code",
   "execution_count": 20,
   "metadata": {},
   "outputs": [],
   "source": [
    "# Component contribution calculations:\n",
    "CB_averages_ref,   CB_averages_spm,   CB_averages_bio   = pickle.load(open('calculations/Canada-Basin-averages-202204.pickle','rb')) \n",
    "CAA_averages_ref,  CAA_averages_spm,  CAA_averages_bio  = pickle.load(open('calculations/CAA-averages-202204.pickle' ,'rb')) \n",
    "wCAA_averages_ref, wCAA_averages_spm, wCAA_averages_bio = pickle.load(open('calculations/wCAA-averages-202204.pickle','rb'))  \n",
    "eCAA_averages_ref, eCAA_averages_spm, eCAA_averages_bio = pickle.load(open('calculations/eCAA-averages-202204.pickle','rb')) \n",
    "averages_ref     , averages_spm     , averages_bio      = pickle.load(open('calculations/full-domain-averages-202204.pickle','rb')) \n",
    "\n",
    "ref_averages   = {'full': averages_ref, 'CB': CB_averages_ref, 'CAA':CAA_averages_ref, 'wCAA':wCAA_averages_ref, 'eCAA':eCAA_averages_ref}\n",
    "spm_averages   = {'full': averages_spm, 'CB': CB_averages_spm, 'CAA':CAA_averages_spm, 'wCAA':wCAA_averages_spm, 'eCAA':eCAA_averages_spm}\n",
    "bio_averages   = {'full': averages_bio, 'CB': CB_averages_bio, 'CAA':CAA_averages_bio, 'wCAA':wCAA_averages_bio, 'eCAA':eCAA_averages_bio}"
   ]
  },
  {
   "cell_type": "code",
   "execution_count": 29,
   "metadata": {},
   "outputs": [],
   "source": [
    "# Component contribution calculations:\n",
    "CB_totals_ref,   CB_totals_spm,   CB_totals_bio   = pickle.load(open('calculations/Canada-Basin-totals-202204--fullcolumn.pickle','rb')) \n",
    "CAA_totals_ref,  CAA_totals_spm,  CAA_totals_bio  = pickle.load(open('calculations/CAA-totals-202204--fullcolumn.pickle' ,'rb')) \n",
    "wCAA_totals_ref, wCAA_totals_spm, wCAA_totals_bio = pickle.load(open('calculations/wCAA-totals-202204.pickle','rb'))  \n",
    "eCAA_totals_ref, eCAA_totals_spm, eCAA_totals_bio = pickle.load(open('calculations/eCAA-totals-202204.pickle','rb')) \n",
    "totals_ref     , totals_spm     , totals_bio      = pickle.load(open('calculations/full-depth-domain-totals-202204.pickle','rb')) \n",
    "\n",
    "ref_totals   = {'full': totals_ref, 'CB': CB_totals_ref, 'CAA':CAA_totals_ref, 'wCAA':wCAA_totals_ref, 'eCAA':eCAA_totals_ref}\n",
    "spm_totals   = {'full': totals_spm, 'CB': CB_totals_spm, 'CAA':CAA_totals_spm, 'wCAA':wCAA_totals_spm, 'eCAA':eCAA_totals_spm}\n",
    "bio_totals   = {'full': totals_bio, 'CB': CB_totals_bio, 'CAA':CAA_totals_bio, 'wCAA':wCAA_totals_bio, 'eCAA':eCAA_totals_bio}"
   ]
  },
  {
   "cell_type": "code",
   "execution_count": 30,
   "metadata": {},
   "outputs": [],
   "source": [
    "# Component contribution calculations:\n",
    "CB_averages_ref,   CB_averages_spm,   CB_averages_bio   = pickle.load(open('calculations/Canada-Basin-averages-202204--fullcolumn.pickle','rb')) \n",
    "CAA_averages_ref,  CAA_averages_spm,  CAA_averages_bio  = pickle.load(open('calculations/CAA-averages-202204--fullcolumn.pickle' ,'rb')) \n",
    "wCAA_averages_ref, wCAA_averages_spm, wCAA_averages_bio = pickle.load(open('calculations/wCAA-averages-202204.pickle','rb'))  \n",
    "eCAA_averages_ref, eCAA_averages_spm, eCAA_averages_bio = pickle.load(open('calculations/eCAA-averages-202204.pickle','rb')) \n",
    "averages_ref     , averages_spm     , averages_bio      = pickle.load(open('calculations/full-depth-domain-averages-202204.pickle','rb')) \n",
    "\n",
    "ref_averages   = {'full': averages_ref, 'CB': CB_averages_ref, 'CAA':CAA_averages_ref, 'wCAA':wCAA_averages_ref, 'eCAA':eCAA_averages_ref}\n",
    "spm_averages   = {'full': averages_spm, 'CB': CB_averages_spm, 'CAA':CAA_averages_spm, 'wCAA':wCAA_averages_spm, 'eCAA':eCAA_averages_spm}\n",
    "bio_averages   = {'full': averages_bio, 'CB': CB_averages_bio, 'CAA':CAA_averages_bio, 'wCAA':wCAA_averages_bio, 'eCAA':eCAA_averages_bio}"
   ]
  },
  {
   "cell_type": "code",
   "execution_count": 21,
   "metadata": {},
   "outputs": [],
   "source": [
    "final_ref_totals, final_spm_totals, final_bio_totals, \\\n",
    "    final_ref_averages, final_spm_averages, final_bio_averages = pipeline(ref_totals, spm_totals, bio_totals, \\\n",
    "                                                                          ref_averages, spm_averages, bio_averages)"
   ]
  },
  {
   "cell_type": "code",
   "execution_count": 39,
   "metadata": {},
   "outputs": [
    {
     "name": "stdout",
     "output_type": "stream",
     "text": [
      "Interannual average values in full\n",
      "----------------------------------------------------------------\n",
      "Total annual contribution of Mn [Mmol/yr]:             913   (1137 )\n",
      "-- River discharge ---                   32.81    (256.48)\n",
      "-- Sediment resuspension ---             277.79   (277.79)\n",
      "-- Sediment released by sea ice ---      602.08   (602.08)\n",
      "-- Dust released by sea ice ---          0.70     (0.70 )\n",
      "-- Dust deposition ---                   0.10     (0.10 )\n",
      "----------------------------------------------------------------\n",
      "Total annual contribution of Mn [%]:\n",
      "-- River discharge ---                  3.59  (22.55)\n",
      "-- Sediment resuspension ---            30.41 (24.43)\n",
      "-- Sediment released by sea ice ---     65.91 (52.95)\n",
      "-- Dust released by sea ice ---         0.08  (0.06 )\n",
      "-- Dust deposition ---                  0.01  (0.01 )\n",
      "----------------------------------------------------------------\n",
      "Average annual contribution of Mn [micromol/m2/yr]:    288  (358  )\n",
      "-- River discharge ---                  10.34    (80.80)\n",
      "-- Sediment resuspension ---            87.52    (87.52)\n",
      "-- Sediment released by sea ice ---     189.68   (189.68)\n",
      "-- Dust released by sea ice ---         0.22     (0.22 )\n",
      "-- Dust deposition ---                  0.03     (0.03 )\n"
     ]
    }
   ],
   "source": [
    "print_interannual_averages(final_ref_totals, final_spm_totals, final_bio_totals, \\\n",
    "                           final_ref_averages, final_spm_averages, final_bio_averages, \\\n",
    "                           location='full')"
   ]
  },
  {
   "cell_type": "code",
   "execution_count": 34,
   "metadata": {},
   "outputs": [
    {
     "name": "stdout",
     "output_type": "stream",
     "text": [
      "Interannual average values in CB\n",
      "----------------------------------------------------------------\n",
      "Total annual contribution of Mn [Mmol/yr]:             470   (502  )\n",
      "-- River discharge ---                   10.55    (42.78)\n",
      "-- Sediment resuspension ---             22.26    (22.26)\n",
      "-- Sediment released by sea ice ---      436.64   (436.64)\n",
      "-- Dust released by sea ice ---          0.39     (0.39 )\n",
      "-- Dust deposition ---                   0.06     (0.06 )\n",
      "----------------------------------------------------------------\n",
      "Total annual contribution of Mn [%]:\n",
      "-- River discharge ---                  2.24  (8.52 )\n",
      "-- Sediment resuspension ---            4.74  (4.43 )\n",
      "-- Sediment released by sea ice ---     92.92 (86.96)\n",
      "-- Dust released by sea ice ---         0.08  (0.08 )\n",
      "-- Dust deposition ---                  0.01  (0.01 )\n",
      "----------------------------------------------------------------\n",
      "Average annual contribution of Mn [micromol/m2/yr]:    238  (254  )\n",
      "-- River discharge ---                  5.34     (21.65)\n",
      "-- Sediment resuspension ---            11.27    (11.27)\n",
      "-- Sediment released by sea ice ---     220.98   (220.98)\n",
      "-- Dust released by sea ice ---         0.20     (0.20 )\n",
      "-- Dust deposition ---                  0.03     (0.03 )\n"
     ]
    }
   ],
   "source": [
    "print_interannual_averages(final_ref_totals, final_spm_totals, final_bio_totals, \\\n",
    "                           final_ref_averages, final_spm_averages, final_bio_averages, \\\n",
    "                           location='CB')"
   ]
  },
  {
   "cell_type": "code",
   "execution_count": 28,
   "metadata": {},
   "outputs": [
    {
     "name": "stdout",
     "output_type": "stream",
     "text": [
      "Interannual average values in CB\n",
      "----------------------------------------------------------------\n",
      "Total annual contribution of Mn [Mmol/yr]:             515   (547  )\n",
      "-- River discharge ---                   10.55    (42.78)\n",
      "-- Sediment resuspension ---             67.61    (67.61)\n",
      "-- Sediment released by sea ice ---      436.64   (436.64)\n",
      "-- Dust released by sea ice ---          0.39     (0.39 )\n",
      "-- Dust deposition ---                   0.06     (0.06 )\n",
      "----------------------------------------------------------------\n",
      "Total annual contribution of Mn [%]:\n",
      "-- River discharge ---                  2.05  (7.81 )\n",
      "-- Sediment resuspension ---            13.12 (12.35)\n",
      "-- Sediment released by sea ice ---     84.74 (79.75)\n",
      "-- Dust released by sea ice ---         0.08  (0.07 )\n",
      "-- Dust deposition ---                  0.01  (0.01 )\n",
      "----------------------------------------------------------------\n",
      "Average annual contribution of Mn [micromol/m2/yr]:    261  (277  )\n",
      "-- River discharge ---                  5.34     (21.65)\n",
      "-- Sediment resuspension ---            34.22    (34.22)\n",
      "-- Sediment released by sea ice ---     220.98   (220.98)\n",
      "-- Dust released by sea ice ---         0.20     (0.20 )\n",
      "-- Dust deposition ---                  0.03     (0.03 )\n"
     ]
    }
   ],
   "source": [
    "# full water column: \n",
    "print_interannual_averages(final_ref_totals, final_spm_totals, final_bio_totals, \\\n",
    "                           final_ref_averages, final_spm_averages, final_bio_averages, \\\n",
    "                           location='CB')"
   ]
  },
  {
   "cell_type": "code",
   "execution_count": 32,
   "metadata": {},
   "outputs": [
    {
     "name": "stdout",
     "output_type": "stream",
     "text": [
      "Interannual average values in CAA\n",
      "----------------------------------------------------------------\n",
      "Total annual contribution of Mn [Mmol/yr]:             981   (1173 )\n",
      "-- River discharge ---                   22.27    (213.70)\n",
      "-- Sediment resuspension ---             793.04   (793.04)\n",
      "-- Sediment released by sea ice ---      165.44   (165.44)\n",
      "-- Dust released by sea ice ---          0.31     (0.31 )\n",
      "-- Dust deposition ---                   0.04     (0.04 )\n",
      "----------------------------------------------------------------\n",
      "Total annual contribution of Mn [%]:\n",
      "-- River discharge ---                  2.27  (18.23)\n",
      "-- Sediment resuspension ---            80.83 (67.64)\n",
      "-- Sediment released by sea ice ---     16.86 (14.11)\n",
      "-- Dust released by sea ice ---         0.03  (0.03 )\n",
      "-- Dust deposition ---                  0.00  (0.00 )\n",
      "----------------------------------------------------------------\n",
      "Average annual contribution of Mn [micromol/m2/yr]:    819  (978  )\n",
      "-- River discharge ---                  18.58    (178.33)\n",
      "-- Sediment resuspension ---            661.79   (661.79)\n",
      "-- Sediment released by sea ice ---     138.06   (138.06)\n",
      "-- Dust released by sea ice ---         0.26     (0.26 )\n",
      "-- Dust deposition ---                  0.03     (0.03 )\n"
     ]
    }
   ],
   "source": [
    "# full water column:\n",
    "print_interannual_averages(final_ref_totals, final_spm_totals, final_bio_totals, \\\n",
    "                           final_ref_averages, final_spm_averages, final_bio_averages, \\\n",
    "                           location='CAA')"
   ]
  },
  {
   "cell_type": "code",
   "execution_count": 26,
   "metadata": {},
   "outputs": [
    {
     "name": "stdout",
     "output_type": "stream",
     "text": [
      "Interannual average values in CAA\n",
      "----------------------------------------------------------------\n",
      "Total annual contribution of Mn [Mmol/yr]:             444   (635  )\n",
      "-- River discharge ---                   22.27    (213.70)\n",
      "-- Sediment resuspension ---             255.53   (255.53)\n",
      "-- Sediment released by sea ice ---      165.44   (165.44)\n",
      "-- Dust released by sea ice ---          0.31     (0.31 )\n",
      "-- Dust deposition ---                   0.04     (0.04 )\n",
      "----------------------------------------------------------------\n",
      "Total annual contribution of Mn [%]:\n",
      "-- River discharge ---                  5.02  (33.65)\n",
      "-- Sediment resuspension ---            57.61 (40.24)\n",
      "-- Sediment released by sea ice ---     37.30 (26.05)\n",
      "-- Dust released by sea ice ---         0.07  (0.05 )\n",
      "-- Dust deposition ---                  0.01  (0.01 )\n",
      "----------------------------------------------------------------\n",
      "Average annual contribution of Mn [micromol/m2/yr]:    370  (530  )\n",
      "-- River discharge ---                  18.58    (178.33)\n",
      "-- Sediment resuspension ---            213.24   (213.24)\n",
      "-- Sediment released by sea ice ---     138.06   (138.06)\n",
      "-- Dust released by sea ice ---         0.26     (0.26 )\n",
      "-- Dust deposition ---                  0.03     (0.03 )\n"
     ]
    }
   ],
   "source": [
    "print_interannual_averages(final_ref_totals, final_spm_totals, final_bio_totals, \\\n",
    "                           final_ref_averages, final_spm_averages, final_bio_averages, \\\n",
    "                           location='CAA')"
   ]
  },
  {
   "cell_type": "code",
   "execution_count": 36,
   "metadata": {},
   "outputs": [
    {
     "name": "stdout",
     "output_type": "stream",
     "text": [
      "Interannual average values in wCAA\n",
      "----------------------------------------------------------------\n",
      "Total annual contribution of Mn [Mmol/yr]:             151   (162  )\n",
      "-- River discharge ---                   3.30     (14.04)\n",
      "-- Sediment resuspension ---             78.67    (78.67)\n",
      "-- Sediment released by sea ice ---      68.88    (68.88)\n",
      "-- Dust released by sea ice ---          0.12     (0.12 )\n",
      "-- Dust deposition ---                   0.02     (0.02 )\n",
      "----------------------------------------------------------------\n",
      "Total annual contribution of Mn [%]:\n",
      "-- River discharge ---                  2.19  (8.68 )\n",
      "-- Sediment resuspension ---            52.10 (48.64)\n",
      "-- Sediment released by sea ice ---     45.62 (42.59)\n",
      "-- Dust released by sea ice ---         0.08  (0.08 )\n",
      "-- Dust deposition ---                  0.01  (0.01 )\n",
      "----------------------------------------------------------------\n",
      "Average annual contribution of Mn [micromol/m2/yr]:    297  (318  )\n",
      "-- River discharge ---                  6.49     (27.62)\n",
      "-- Sediment resuspension ---            154.75   (154.75)\n",
      "-- Sediment released by sea ice ---     135.50   (135.50)\n",
      "-- Dust released by sea ice ---         0.25     (0.25 )\n",
      "-- Dust deposition ---                  0.04     (0.04 )\n"
     ]
    }
   ],
   "source": [
    "print_interannual_averages(final_ref_totals, final_spm_totals, final_bio_totals, \\\n",
    "                           final_ref_averages, final_spm_averages, final_bio_averages, \\\n",
    "                           location='wCAA')"
   ]
  },
  {
   "cell_type": "code",
   "execution_count": 37,
   "metadata": {},
   "outputs": [
    {
     "name": "stdout",
     "output_type": "stream",
     "text": [
      "Interannual average values in eCAA\n",
      "----------------------------------------------------------------\n",
      "Total annual contribution of Mn [Mmol/yr]:             293   (473  )\n",
      "-- River discharge ---                   18.97    (199.66)\n",
      "-- Sediment resuspension ---             176.86   (176.86)\n",
      "-- Sediment released by sea ice ---      96.56    (96.56)\n",
      "-- Dust released by sea ice ---          0.18     (0.18 )\n",
      "-- Dust deposition ---                   0.02     (0.02 )\n",
      "----------------------------------------------------------------\n",
      "Total annual contribution of Mn [%]:\n",
      "-- River discharge ---                  6.48  (42.19)\n",
      "-- Sediment resuspension ---            60.45 (37.37)\n",
      "-- Sediment released by sea ice ---     33.00 (20.40)\n",
      "-- Dust released by sea ice ---         0.06  (0.04 )\n",
      "-- Dust deposition ---                  0.01  (0.00 )\n",
      "----------------------------------------------------------------\n",
      "Average annual contribution of Mn [micromol/m2/yr]:    424  (686  )\n",
      "-- River discharge ---                  27.49    (289.37)\n",
      "-- Sediment resuspension ---            256.33   (256.33)\n",
      "-- Sediment released by sea ice ---     139.94   (139.94)\n",
      "-- Dust released by sea ice ---         0.27     (0.27 )\n",
      "-- Dust deposition ---                  0.02     (0.02 )\n"
     ]
    }
   ],
   "source": [
    "print_interannual_averages(final_ref_totals, final_spm_totals, final_bio_totals, \\\n",
    "                           final_ref_averages, final_spm_averages, final_bio_averages, \\\n",
    "                           location='eCAA')"
   ]
  },
  {
   "cell_type": "code",
   "execution_count": 38,
   "metadata": {},
   "outputs": [],
   "source": [
    "# biology runs only go to 2015, so later years have NaNs."
   ]
  },
  {
   "cell_type": "code",
   "execution_count": 52,
   "metadata": {},
   "outputs": [
    {
     "name": "stdout",
     "output_type": "stream",
     "text": [
      "Interannual average values in CB\n",
      "----------------------------------------------------------------\n",
      "Total annual contribution of Mn [Mmol/yr]:             6324  (6534 ) 4214.69 \n",
      "-- River discharge ---                   10.55    (42.78) 10.60   \n",
      "-- Sediment resuspension ---             22.26    (22.26) 22.26   \n",
      "-- Sediment released by sea ice ---      436.64   (436.64) 381.55  \n",
      "-- Dust released by sea ice ---          0.39     (0.39 ) 0.39    \n",
      "-- Dust deposition ---                   0.06     (0.06 ) 0.06    \n",
      "-- Uptake/remineralization ---           0.00     (0.00 ) -5.97   \n",
      "-- Scavenging ---                        -263.29 (-277.71) -244.63 \n",
      "----------------------------------------------------------------\n",
      "Total annual contribution of Mn [%]:\n",
      "-- River discharge ---                  0.17  (0.65 )0.13 \n",
      "-- Sediment resuspension ---            0.35  (0.34 )0.27 \n",
      "-- Sediment released by sea ice ---     6.90  (6.68 )4.69 \n",
      "-- Dust released by sea ice ---         0.01  (0.01 )0.00 \n",
      "-- Dust deposition ---                  0.00  (0.00 )0.00 \n",
      "-- Uptake/remineralization ---          0.00  (0.00 )-0.07\n",
      "-- Scavenging ---                       -4.16 (-4.25)-3.01\n",
      "----------------------------------------------------------------\n",
      "Average annual contribution of Mn [micromol/m2/yr]:    300  (319  )205  \n",
      "-- River discharge ---                  5.34     (21.65)5.36    \n",
      "-- Sediment resuspension ---            11.27    (11.27)11.27   \n",
      "-- Sediment released by sea ice ---     220.98   (220.98)193.10  \n",
      "-- Dust released by sea ice ---         0.20     (0.20 )0.20    \n",
      "-- Dust deposition ---                  0.03     (0.03 )0.03    \n",
      "-- Uptake/remineralization ---          0.00     (0.00 )-0.06   \n",
      "-- Scavenging ---                       -2.81   (-2.97)-2.61   \n"
     ]
    }
   ],
   "source": [
    "print_interannual_averages_3D(final_ref_totals, final_spm_totals, final_bio_totals, \\\n",
    "                           final_ref_averages, final_spm_averages, final_bio_averages, \\\n",
    "                           location='CB')"
   ]
  },
  {
   "cell_type": "code",
   "execution_count": 53,
   "metadata": {},
   "outputs": [
    {
     "name": "stdout",
     "output_type": "stream",
     "text": [
      "Interannual average values in CAA\n",
      "----------------------------------------------------------------\n",
      "Total annual contribution of Mn [Mmol/yr]:             4840  (6612 ) 3454.41 \n",
      "-- River discharge ---                   22.27    (213.70) 22.28   \n",
      "-- Sediment resuspension ---             255.53   (255.53) 255.53  \n",
      "-- Sediment released by sea ice ---      165.44   (165.44) 160.26  \n",
      "-- Dust released by sea ice ---          0.31     (0.31 ) 0.32    \n",
      "-- Dust deposition ---                   0.04     (0.04 ) 0.04    \n",
      "-- Uptake/remineralization ---           0.00     (0.00 ) -8.61   \n",
      "-- Scavenging ---                        -268.13 (-352.06) -264.76 \n",
      "----------------------------------------------------------------\n",
      "Total annual contribution of Mn [%]:\n",
      "-- River discharge ---                  0.46  (3.23 )0.36 \n",
      "-- Sediment resuspension ---            5.28  (3.86 )4.11 \n",
      "-- Sediment released by sea ice ---     3.42  (2.50 )2.58 \n",
      "-- Dust released by sea ice ---         0.01  (0.00 )0.01 \n",
      "-- Dust deposition ---                  0.00  (0.00 )0.00 \n",
      "-- Uptake/remineralization ---          0.00  (0.00 )-0.14\n",
      "-- Scavenging ---                       -5.54 (-5.32)-4.25\n",
      "----------------------------------------------------------------\n",
      "Average annual contribution of Mn [micromol/m2/yr]:    448  (635  )339  \n",
      "-- River discharge ---                  18.58    (178.33)18.59   \n",
      "-- Sediment resuspension ---            213.24   (213.24)213.24  \n",
      "-- Sediment released by sea ice ---     138.06   (138.06)133.73  \n",
      "-- Dust released by sea ice ---         0.26     (0.26 )0.26    \n",
      "-- Dust deposition ---                  0.03     (0.03 )0.03    \n",
      "-- Uptake/remineralization ---          0.00     (0.00 )-0.15   \n",
      "-- Scavenging ---                       -4.72   (-6.20)-4.66   \n"
     ]
    }
   ],
   "source": [
    "print_interannual_averages_3D(final_ref_totals, final_spm_totals, final_bio_totals, \\\n",
    "                           final_ref_averages, final_spm_averages, final_bio_averages, \\\n",
    "                           location='CAA')"
   ]
  },
  {
   "cell_type": "code",
   "execution_count": null,
   "metadata": {},
   "outputs": [],
   "source": []
  }
 ],
 "metadata": {
  "kernelspec": {
   "display_name": "Python 3",
   "language": "python",
   "name": "python3"
  },
  "language_info": {
   "codemirror_mode": {
    "name": "ipython",
    "version": 3
   },
   "file_extension": ".py",
   "mimetype": "text/x-python",
   "name": "python",
   "nbconvert_exporter": "python",
   "pygments_lexer": "ipython3",
   "version": "3.6.11"
  }
 },
 "nbformat": 4,
 "nbformat_minor": 4
}
