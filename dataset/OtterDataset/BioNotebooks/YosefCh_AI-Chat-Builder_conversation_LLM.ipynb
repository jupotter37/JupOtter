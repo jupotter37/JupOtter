{
 "cells": [
  {
   "cell_type": "code",
   "execution_count": null,
   "metadata": {},
   "outputs": [],
   "source": [
    "from IPython.display import display, Markdown, HTML\n",
    "import logging\n",
    "import random"
   ]
  },
  {
   "cell_type": "code",
   "execution_count": null,
   "metadata": {},
   "outputs": [
    {
     "data": {
      "text/html": [
       "\n",
       "                        <article style=\"background-color: rgb(70, 70, 70); margin: 10px; padding: 10px; height: auto; \n",
       "                        line-height: 1.5; width: 75%\"><b>You:</b> how are you</article>\n",
       "                        "
      ],
      "text/plain": [
       "<IPython.core.display.HTML object>"
      ]
     },
     "metadata": {},
     "output_type": "display_data"
    },
    {
     "data": {
      "text/markdown": [
       "__AI:__ I'm just a computer program, but I'm here and ready to help you! How can I assist you today?"
      ],
      "text/plain": [
       "<IPython.core.display.Markdown object>"
      ]
     },
     "metadata": {},
     "output_type": "display_data"
    },
    {
     "data": {
      "text/html": [
       "\n",
       "                        <article style=\"background-color: rgb(70, 70, 70); margin: 10px; padding: 10px; height: auto; \n",
       "                        line-height: 1.5; width: 75%\"><b>You:</b> what are you best at?</article>\n",
       "                        "
      ],
      "text/plain": [
       "<IPython.core.display.HTML object>"
      ]
     },
     "metadata": {},
     "output_type": "display_data"
    },
    {
     "data": {
      "text/markdown": [
       "__AI:__ I'm best at providing information, answering questions, assisting with problem-solving, and offering suggestions across a wide range of topics. Whether you need help with research, writing, learning something new, or just want to chat, I'm here to assist! What do you need help with today?"
      ],
      "text/plain": [
       "<IPython.core.display.Markdown object>"
      ]
     },
     "metadata": {},
     "output_type": "display_data"
    },
    {
     "data": {
      "text/html": [
       "\n",
       "                        <article style=\"background-color: rgb(70, 70, 70); margin: 10px; padding: 10px; height: auto; \n",
       "                        line-height: 1.5; width: 75%\"><b>You:</b> write me sample \"abstract\" for a research paper proving the non dependability of nature as can be proven since the navie bayes algorithm works which assumes that features aren't interdependant</article>\n",
       "                        "
      ],
      "text/plain": [
       "<IPython.core.display.HTML object>"
      ]
     },
     "metadata": {},
     "output_type": "display_data"
    },
    {
     "data": {
      "text/markdown": [
       "__AI:__ **Abstract**\n",
       "\n",
       "This research paper explores the inherent non-dependability of natural phenomena through the lens of the Naive Bayes algorithm, a fundamental statistical tool in machine learning. The Naive Bayes algorithm operates under the assumption that features are conditionally independent given the class label. This assumption, while often violated in real-world scenarios, serves as a critical framework for understanding the complexities of natural systems. By analyzing various datasets that represent natural processes, we demonstrate instances where the independence assumption leads to surprisingly accurate predictions, thereby highlighting the limitations of traditional models that rely on interdependent feature relationships. Our findings suggest that the apparent reliability of Naive Bayes in certain contexts underscores the unpredictable nature of complex systems, where underlying dependencies may be obscured. This paper contributes to the discourse on the unpredictability of nature by illustrating how machine learning models can yield insights even when foundational assumptions do not hold, ultimately questioning the extent to which we can depend on deterministic interpretations of natural phenomena. \n",
       "\n",
       "Keywords: Naive Bayes, feature independence, natural phenomena, machine learning, unpredictability."
      ],
      "text/plain": [
       "<IPython.core.display.Markdown object>"
      ]
     },
     "metadata": {},
     "output_type": "display_data"
    },
    {
     "data": {
      "text/html": [
       "\n",
       "                        <article style=\"background-color: rgb(70, 70, 70); margin: 10px; padding: 10px; height: auto; \n",
       "                        line-height: 1.5; width: 75%\"><b>You:</b> show me a list of websites that may discuss this</article>\n",
       "                        "
      ],
      "text/plain": [
       "<IPython.core.display.HTML object>"
      ]
     },
     "metadata": {},
     "output_type": "display_data"
    },
    {
     "data": {
      "text/markdown": [
       "__AI:__ Here’s a list of websites and resources that may discuss the topics related to the Naive Bayes algorithm, feature independence, and the unpredictability of natural phenomena:\n",
       "\n",
       "1. **Google Scholar** (scholar.google.com)\n",
       "   - A comprehensive database of scholarly articles where you can find research papers on Naive Bayes and its applications in various fields.\n",
       "\n",
       "2. **ResearchGate** (www.researchgate.net)\n",
       "   - A social networking site for researchers to share papers and results. You can find discussions and papers related to machine learning and Naive Bayes.\n",
       "\n",
       "3. **arXiv** (arxiv.org)\n",
       "   - A repository of preprint articles in various fields, including computer science and statistics. Search for papers related to Naive Bayes and feature independence.\n",
       "\n",
       "4. **Kaggle** (www.kaggle.com)\n",
       "   - A platform for data science competitions that often features discussions and notebooks using Naive Bayes in various datasets, including those related to natural phenomena.\n",
       "\n",
       "5. **Towards Data Science** (towardsdatascience.com)\n",
       "   - A Medium publication that features articles on data science, machine learning, and algorithms, including practical applications of Naive Bayes.\n",
       "\n",
       "6. **Machine Learning Mastery** (machinelearningmastery.com)\n",
       "   - A website that provides tutorials and explanations of machine learning concepts, including the Naive Bayes algorithm.\n",
       "\n",
       "7. **StatQuest with Josh Starmer** (statquest.org)\n",
       "   - A resource for understanding statistics and machine learning concepts, including Naive Bayes, through clear explanations and videos.\n",
       "\n",
       "8. **Wikipedia** (en.wikipedia.org/wiki/Naive_Bayes_classifier)\n",
       "   - The Wikipedia page on Naive Bayes provides a general overview of the algorithm, its assumptions, and applications.\n",
       "\n",
       "9. **Cross Validated (Stack Exchange)** (stats.stackexchange.com)\n",
       "   - A Q&A site for statistics and data analysis where you can find discussions on the assumptions of Naive Bayes and its implications.\n",
       "\n",
       "10. **SpringerLink** (link.springer.com)\n",
       "    - A database of scientific articles where you can find research on machine learning and its applications in understanding natural systems.\n",
       "\n",
       "These resources should provide a solid starting point for exploring the relationship between the Naive Bayes algorithm, feature independence, and the unpredictability of nature."
      ],
      "text/plain": [
       "<IPython.core.display.Markdown object>"
      ]
     },
     "metadata": {},
     "output_type": "display_data"
    },
    {
     "data": {
      "text/html": [
       "\n",
       "                        <article style=\"background-color: rgb(70, 70, 70); margin: 10px; padding: 10px; height: auto; \n",
       "                        line-height: 1.5; width: 75%\"><b>You:</b> give me a table of possible ideas with their advantages annd disadvantages in pursuing for my research</article>\n",
       "                        "
      ],
      "text/plain": [
       "<IPython.core.display.HTML object>"
      ]
     },
     "metadata": {},
     "output_type": "display_data"
    },
    {
     "data": {
      "text/markdown": [
       "__AI:__ Here’s a table of possible research ideas related to the non-dependability of nature and the Naive Bayes algorithm, along with their advantages and disadvantages:\n",
       "\n",
       "| Research Idea                                      | Advantages                                                                                      | Disadvantages                                                                                 |\n",
       "|----------------------------------------------------|------------------------------------------------------------------------------------------------|----------------------------------------------------------------------------------------------|\n",
       "| 1. **Analyzing Naive Bayes in Environmental Data** | - Real-world application in ecology and environmental science. <br> - Potential for impactful findings. | - Data may be noisy or incomplete. <br> - Assumptions of independence may not hold.        |\n",
       "| 2. **Comparative Study of Machine Learning Models** | - Provides a broader perspective on model performance. <br> - Highlights strengths and weaknesses of Naive Bayes. | - Requires extensive data collection and analysis. <br> - May involve complex model comparisons. |\n",
       "| 3. **Feature Independence in Biological Systems**   | - Explores a fundamental question in biology. <br> - Can lead to insights in genetics or ecology. | - Biological systems are often highly interdependent. <br> - Difficult to isolate features.  |\n",
       "| 4. **Impact of Assumption Violations on Predictions** | - Directly addresses the limitations of Naive Bayes. <br> - Can contribute to model improvement. | - May require advanced statistical techniques. <br> - Findings may be context-specific.     |\n",
       "| 5. **Case Studies of Naive Bayes in Social Sciences** | - Expands the application of Naive Bayes beyond natural sciences. <br> - Engages with interdisciplinary research. | - Social phenomena may be too complex for Naive Bayes. <br> - Ethical considerations in data use. |\n",
       "| 6. **Exploring Non-Linear Relationships in Nature** | - Investigates the complexity of natural systems. <br> - Could lead to the development of new models. | - Requires advanced statistical knowledge. <br> - May not directly relate to Naive Bayes.   |\n",
       "| 7. **Simulating Natural Processes with Naive Bayes** | - Provides a controlled environment to test assumptions. <br> - Can lead to innovative insights. | - Simulations may not accurately reflect reality. <br> - Time-consuming to set up and analyze. |\n",
       "| 8. **Naive Bayes for Predicting Climate Change Effects** | - Highly relevant and timely topic. <br> - Potential for significant societal impact. | - Complex interactions in climate data may challenge independence assumptions. <br> - Requires interdisciplinary knowledge. |\n",
       "\n",
       "This table provides a structured overview of potential research ideas, helping you weigh the pros and cons of each option as you consider your focus for the research paper."
      ],
      "text/plain": [
       "<IPython.core.display.Markdown object>"
      ]
     },
     "metadata": {},
     "output_type": "display_data"
    },
    {
     "data": {
      "text/html": [
       "\n",
       "                        <article style=\"background-color: rgb(70, 70, 70); margin: 10px; padding: 10px; height: auto; \n",
       "                        line-height: 1.5; width: 75%\"><b>You:</b> has this idea ever been written about before?</article>\n",
       "                        "
      ],
      "text/plain": [
       "<IPython.core.display.HTML object>"
      ]
     },
     "metadata": {},
     "output_type": "display_data"
    },
    {
     "data": {
      "text/markdown": [
       "__AI:__ The idea of exploring the non-dependability of nature through the lens of the Naive Bayes algorithm and its assumptions has been touched upon in various research contexts, but the specific angle you are considering may not have been extensively covered. Here are some points to consider regarding existing literature:\n",
       "\n",
       "1. **Naive Bayes in Environmental Science**: There are studies that apply the Naive Bayes algorithm to environmental data, but they often focus on classification tasks rather than the philosophical implications of feature independence.\n",
       "\n",
       "2. **Feature Independence in Biological Systems**: Research in biology often discusses the interdependence of features, particularly in genetics and ecology. However, studies specifically addressing the implications of using Naive Bayes in these contexts may be limited.\n",
       "\n",
       "3. **Comparative Studies of Machine Learning Models**: Many papers compare various machine learning models, including Naive Bayes, but they may not specifically address the philosophical implications of the independence assumption.\n",
       "\n",
       "4. **Case Studies in Social Sciences**: While Naive Bayes has been applied in social science research, discussions about the implications of its assumptions on the predictability of social phenomena are less common.\n",
       "\n",
       "5. **Simulations and Non-Linear Relationships**: Research that simulates natural processes or explores non-linear relationships often involves more complex models than Naive Bayes, which may lead to less focus on the independence assumption.\n",
       "\n",
       "To determine if your specific research idea has been written about before, I recommend conducting a thorough literature review using academic databases like Google Scholar, ResearchGate, and arXiv. Look for keywords related to your topic, such as \"Naive Bayes,\" \"feature independence,\" \"natural phenomena,\" and \"machine learning in ecology.\" This will help you identify existing studies and determine how your research can contribute to the field."
      ],
      "text/plain": [
       "<IPython.core.display.Markdown object>"
      ]
     },
     "metadata": {},
     "output_type": "display_data"
    },
    {
     "data": {
      "text/html": [
       "\n",
       "                        <article style=\"background-color: rgb(70, 70, 70); margin: 10px; padding: 10px; height: auto; \n",
       "                        line-height: 1.5; width: 75%\"><b>You:</b> ok great see you next time goodbye.</article>\n",
       "                        "
      ],
      "text/plain": [
       "<IPython.core.display.HTML object>"
      ]
     },
     "metadata": {},
     "output_type": "display_data"
    },
    {
     "data": {
      "text/markdown": [
       "__AI:__ Goodbye! If you have more questions in the future or need assistance, feel free to reach out. Have a great day!"
      ],
      "text/plain": [
       "<IPython.core.display.Markdown object>"
      ]
     },
     "metadata": {},
     "output_type": "display_data"
    },
    {
     "data": {
      "text/markdown": [
       "### __The conversation has been saved as ResearchNaiveBayes.html.__"
      ],
      "text/plain": [
       "<IPython.core.display.Markdown object>"
      ]
     },
     "metadata": {},
     "output_type": "display_data"
    }
   ],
   "source": [
    "# Suppress INFO messages from httpx as there can be distracting messages that aren't relevant to the user\n",
    "logging.getLogger(\"httpx\").setLevel(logging.ERROR)\n",
    "\n",
    "class Chatbot:\n",
    "    def __init__(self, model_name, system_role_content, max_inputs, tone, input_length_limit=4000):\n",
    "        # set instance variables\n",
    "        self.max_inputs = max_inputs\n",
    "        self.input_length_limit = input_length_limit\n",
    "        # Initialize history list to store the conversation history\n",
    "        self.history = []\n",
    "        # Initialize input count to keep track of the number of inputs\n",
    "        self.input_count = 0\n",
    "\n",
    "        # Set tone parameters by calling set_tone method defined below\n",
    "        self.set_tone(tone)\n",
    "        \n",
    "        from class_version import OpenAIClient\n",
    "        # Initialize the AI instance with the tone parameters\n",
    "        self.ai = OpenAIClient(\n",
    "            model_name=model_name,\n",
    "            system_role_content=system_role_content,\n",
    "            \n",
    "            # use the values set by set_tone method \n",
    "            temperature=self.temperature,\n",
    "            top_p=self.top_p\n",
    "        )\n",
    "\n",
    "    def set_tone(self, tone):\n",
    "        \n",
    "        # set temperature and top_p based on the tone by choosing random value within the given range\n",
    "        if tone == \"creative\":\n",
    "            self.temperature = random.uniform(0.8, 1.35)\n",
    "            self.top_p = random.uniform(0.8, 1.0)\n",
    "        elif tone == \"balanced\":\n",
    "            # there is a buffer zone of .7 to .8 to create a defined difference between balanced and creative\n",
    "            self.temperature = random.uniform(0.4, 0.7)\n",
    "            self.top_p = random.uniform(0.4, 0.7)\n",
    "        elif tone == \"precise\":\n",
    "            # there is a buffer zone of .3 to .4 to create a defined difference between balanced and precise\n",
    "            self.temperature = random.uniform(0.0, 0.3)\n",
    "            self.top_p = random.uniform(0.0, 0.3)\n",
    "        else:\n",
    "            raise ValueError(\"Invalid tone. Choose from 'creative', 'balanced', or 'precise'.\")\n",
    "        \n",
    "        \n",
    "        \n",
    "    def chat(self):\n",
    "        # loop to continue the conversation until the max_inputs is reached or the user types \"exit\" or \"quit\"\n",
    "        while self.input_count < self.max_inputs:\n",
    "            user_input = input(\"You: \")\n",
    "            if user_input.lower() in [\"exit\", \"quit\"]:\n",
    "                break\n",
    "\n",
    "            if len(user_input.split()) > self.input_length_limit:\n",
    "                display(Markdown(f\"__Error: Input exceeds the length limit of {self.input_length_limit} words.__\"))\n",
    "                # skip the current iteration and continue with the next iteration\n",
    "                continue\n",
    "\n",
    "            # Display user prompt\n",
    "            display(HTML(f'''\n",
    "                        <article style=\"background-color: rgb(70, 70, 70); margin: 10px; padding: 10px; height: auto; \n",
    "                        line-height: 1.5; width: 75%\"><b>You:</b> {user_input}</article>\n",
    "                        '''))\n",
    "\n",
    "            # Add user input to history\n",
    "            self.history.append(f\"User: {user_input}\")\n",
    "\n",
    "            # Create a prompt with the conversation history by using the join method to concatenate the list of prompts and responses\n",
    "            prompt = \"\\n\".join(self.history) + f\"\\nAI:\"\n",
    "\n",
    "            # Get the AI response\n",
    "            response = self.ai.get_response(prompt)\n",
    "\n",
    "            # Add AI response to history\n",
    "            self.history.append(f\"AI: {response}\")\n",
    "\n",
    "            # Increment the input count\n",
    "            self.input_count += 1\n",
    "            \n",
    "            # Display AI response\n",
    "            display(Markdown(f\"__AI:__ {response}\"))\n",
    "            \n",
    "            if self.input_count >= self.max_inputs:\n",
    "              display(Markdown(f\"### __This conversation has reached the limit of {self.max_inputs} inputs.__\"))\n",
    "              \n",
    "        print(\"Saving file....\") \n",
    "        print(\"This may take a few moments.\")\n",
    "        self.save_conversation()\n",
    "        \n",
    "        \n",
    "        \n",
    "    def save_conversation(self):\n",
    "        from class_version import OpenAIClient\n",
    "        self.ai = OpenAIClient(\n",
    "            model_name='gpt-4o-mini',\n",
    "            system_role_content=\"You are a helpful assistant.\",\n",
    "            temperature=0.1,\n",
    "            top_p=0.1\n",
    "        )\n",
    "        name = self.ai.get_response(f\"\"\"The following is a record of a conversation between a user and an AI assistant: {self.history}\n",
    "                            Please find a word or a phrase with which to name this conversation to be the name of the file.\n",
    "                            The name should be no longer than three words and should not contain any special characters or spaces.\"\"\")\n",
    "        \n",
    "        # Define the directory path\n",
    "        import os\n",
    "        directory = \"C:/Users/Rebecca/OneDrive/Documents/Python AI/AI Conversations\"\n",
    "        \n",
    "        # Ensure the directory exists\n",
    "        if not os.path.exists(directory):\n",
    "            os.makedirs(directory)\n",
    "        \n",
    "        # Use the directory path when opening the file\n",
    "        file_path = os.path.join(directory, name)\n",
    "        \n",
    "        try:\n",
    "            with open(file_path + \".md\", \"w\") as markdown:\n",
    "                for message in self.history:\n",
    "                    markdown.write(message + \"\\n\")\n",
    "                \n",
    "                    \n",
    "            with open(file_path + \".md\", \"r\") as markdown:\n",
    "                md_content = markdown.read()\n",
    "            \n",
    "            \n",
    "            with open('html_formatting.txt', 'r') as html_instructions:  \n",
    "                instructions = html_instructions.read()\n",
    "            \n",
    "                \n",
    "                html_dev = OpenAIClient(model_name='gpt-4o-mini', \n",
    "                                        system_role_content=\"You are a skilled web developer.\", \n",
    "                                        temperature=0.1, \n",
    "                                        top_p=0.1)\n",
    "                \n",
    "                import datetime\n",
    "                # Current date and time\n",
    "                date = datetime.datetime.now()\n",
    "\n",
    "                # Format date and time\n",
    "                formatted_date = date.strftime(\"%b %#d, %Y %#I:%M %p\")\n",
    "        \n",
    "                conversation = html_dev.get_response(f\"\"\"Please convert {md_content} to HTML format preserving the markdown formatting it has.\n",
    "                                        You can use the following code as a template: {instructions}. Pleaes put this as the date in the top right corner: {formatted_date}\n",
    "                                        The file name should be displayed as an h2 header at the top of the page. This is the name: {name}\n",
    "                                        \"\"\") \n",
    "                \n",
    "            with open(file_path + \".html\", \"w\") as file:\n",
    "                # Trim the conversation to only include the actual HTML and not the response of the AI\n",
    "                start_index = conversation.find(\"<!DOCTYPE html>\")\n",
    "                end_index = conversation.rfind(\"</html>\") + len(\"</html>\")\n",
    "                conversation = conversation[start_index:end_index]\n",
    "                file.write(conversation)\n",
    "                \n",
    "            # Verify the HTML file was created and has valid content\n",
    "            if os.path.exists(file_path + \".html\") and os.path.getsize(file_path + \".html\") > 30:  # Threshold for meaningful content\n",
    "                os.remove(file_path + \".md\")  # Delete the .md file\n",
    "                extension = \".html\"\n",
    "                \n",
    "            else:\n",
    "            # keep the markdown file if the HTML file is empty or has insufficient content\n",
    "                extension = \".md\"\n",
    "                raise ValueError(\"HTML file is empty or has insufficient content.\")\n",
    "              \n",
    "                \n",
    "                  \n",
    "        except Exception as e:\n",
    "            print(f\"Error: {e}\")\n",
    "        \n",
    "        display(Markdown(f\"### __The conversation has been saved as {name}.{extension}__\"))\n",
    "        \n",
    "chatbot = Chatbot(\n",
    "    model_name=\"gpt-4o-mini\",\n",
    "    system_role_content=\"\"\"You are a tech expert. \"\"\",\n",
    "    max_inputs=50,\n",
    "    tone=\"balanced\"\n",
    ")\n",
    "\n",
    "chatbot.chat()           \n",
    "\n"
   ]
  }
 ],
 "metadata": {
  "kernelspec": {
   "display_name": "Python 3",
   "language": "python",
   "name": "python3"
  },
  "language_info": {
   "codemirror_mode": {
    "name": "ipython",
    "version": 3
   },
   "file_extension": ".py",
   "mimetype": "text/x-python",
   "name": "python",
   "nbconvert_exporter": "python",
   "pygments_lexer": "ipython3",
   "version": "3.11.3"
  }
 },
 "nbformat": 4,
 "nbformat_minor": 2
}
