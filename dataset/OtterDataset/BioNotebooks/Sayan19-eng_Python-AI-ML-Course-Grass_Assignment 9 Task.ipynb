{
 "cells": [
  {
   "cell_type": "code",
   "execution_count": 1,
   "id": "3a97b7aa",
   "metadata": {},
   "outputs": [
    {
     "name": "stdout",
     "output_type": "stream",
     "text": [
      "Enter a number5\n",
      "positive\n"
     ]
    }
   ],
   "source": [
    "n = int(input(\"Enter a number\"))\n",
    "\n",
    "if n>0:\n",
    "    print(\"positive\")\n",
    "elif n==0:\n",
    "    print(\"zero\")\n",
    "else:\n",
    "    print(\"negative\")"
   ]
  },
  {
   "cell_type": "code",
   "execution_count": 3,
   "id": "b8b35635",
   "metadata": {},
   "outputs": [
    {
     "name": "stdout",
     "output_type": "stream",
     "text": [
      "Enter a number55\n",
      "55 is divisible by 5 and 11\n"
     ]
    }
   ],
   "source": [
    "n = int(input(\"Enter a number\"))\n",
    "\n",
    "if n%5==0 and n%11==0:\n",
    "    print(f'{n} is divisible by 5 and 11')\n",
    "else:\n",
    "    print(f'{n} is not divisible by 5 and 11')"
   ]
  },
  {
   "cell_type": "code",
   "execution_count": 6,
   "id": "99c49623",
   "metadata": {},
   "outputs": [
    {
     "name": "stdout",
     "output_type": "stream",
     "text": [
      "Enter a year1900\n",
      "1900 is not a leap year\n"
     ]
    }
   ],
   "source": [
    "n = int(input(\"Enter a year\"))\n",
    "\n",
    "if n%4==0 and (n%400==0 or n%100!=0):\n",
    "    print(f'{n} is a leap year')\n",
    "else:\n",
    "    print(f'{n} is not a leap year')"
   ]
  },
  {
   "cell_type": "code",
   "execution_count": 16,
   "id": "07c75c02",
   "metadata": {},
   "outputs": [
    {
     "name": "stdout",
     "output_type": "stream",
     "text": [
      "Enter any inputg\n",
      "g is an alphabet\n"
     ]
    }
   ],
   "source": [
    "n = input(\"Enter any input\")\n",
    "if n>='a' and n<='z':\n",
    "    print(f'{n} is an alphabet')\n",
    "elif n>='A' and n<='z':\n",
    "    print(f'{n} is an alphabet')\n",
    "else:\n",
    "    print(f'{n} is not an alphabet')"
   ]
  },
  {
   "cell_type": "code",
   "execution_count": 8,
   "id": "5afbfc0b",
   "metadata": {},
   "outputs": [
    {
     "name": "stdout",
     "output_type": "stream",
     "text": [
      "Enter a characterA\n",
      "A is a vowel\n"
     ]
    }
   ],
   "source": [
    "from string import ascii_lowercase\n",
    "from string import ascii_uppercase\n",
    "v = set()\n",
    "c = set()\n",
    "v = {'a', 'e', 'i' , 'o', 'u', 'A', 'E', 'I', 'O', 'U'}\n",
    "for i in ascii_lowercase:\n",
    "    c.add(i)\n",
    "for i in ascii_uppercase:\n",
    "    c.add(i)\n",
    "c = c-v\n",
    "n = input(\"Enter a character\")\n",
    "\n",
    "if n in v:\n",
    "    print(f'{n} is a vowel')\n",
    "elif n in c:\n",
    "    print(f'{n} is a consonant')\n",
    "else:\n",
    "    print(f'{n} is not an alphabet')"
   ]
  },
  {
   "cell_type": "code",
   "execution_count": 9,
   "id": "633f5b1c",
   "metadata": {},
   "outputs": [
    {
     "name": "stdout",
     "output_type": "stream",
     "text": [
      "Enter any character: %\n",
      "% is a special character\n"
     ]
    }
   ],
   "source": [
    "n = input(\"Enter any character: \")\n",
    "if n>='a' and n<='z':\n",
    "    print(f'{n} is an alphabet')\n",
    "elif n>='A' and n<='z':\n",
    "    print(f'{n} is an alphabet')\n",
    "elif n>='0' and n<='9':\n",
    "    print(f'{n} is a digit')\n",
    "else:\n",
    "    print(f'{n} is a special character')"
   ]
  },
  {
   "cell_type": "code",
   "execution_count": 10,
   "id": "850c9000",
   "metadata": {},
   "outputs": [
    {
     "name": "stdout",
     "output_type": "stream",
     "text": [
      "Enter any character: t\n",
      "t is a lowercase alphabet\n"
     ]
    }
   ],
   "source": [
    "n = input(\"Enter any character: \")\n",
    "if n>='a' and n<='z':\n",
    "    print(f'{n} is a lowercase alphabet')\n",
    "elif n>='A' and n<='z':\n",
    "    print(f'{n} is an uppercase alphabet')"
   ]
  },
  {
   "cell_type": "code",
   "execution_count": 11,
   "id": "30eb6520",
   "metadata": {},
   "outputs": [
    {
     "name": "stdout",
     "output_type": "stream",
     "text": [
      "Enter weekday number (1-7) : 5\n",
      "\n",
      "Friday\n"
     ]
    }
   ],
   "source": [
    "weekday = int(input(\"Enter weekday number (1-7) : \"))\n",
    "\n",
    "if weekday == 1 :\n",
    "    print(\"\\nMonday\");\n",
    "\n",
    "elif weekday == 2 :\n",
    "    print(\"\\nTuesday\")\n",
    "\n",
    "elif(weekday == 3) :\n",
    "    print(\"\\nWednesday\")\n",
    "\n",
    "elif(weekday == 4) :\n",
    "    print(\"\\nThursday\")\n",
    "\n",
    "elif(weekday == 5) :\n",
    "    print(\"\\nFriday\")\n",
    "\n",
    "elif(weekday == 6) :\n",
    "    print(\"\\nSaturday\")\n",
    "\n",
    "elif (weekday == 7) :\n",
    "    print(\"\\nSunday\")\n",
    "\n",
    "else :\n",
    "    print(\"\\nPlease enter a valid weekday number\")"
   ]
  },
  {
   "cell_type": "code",
   "execution_count": 13,
   "id": "034e35b8",
   "metadata": {},
   "outputs": [
    {
     "name": "stdout",
     "output_type": "stream",
     "text": [
      "Enter angle 1: 67\n",
      "Enter angle 2: 33\n",
      "Enter angle 3: 80\n",
      "the angles make a valid triangle\n"
     ]
    }
   ],
   "source": [
    "a = int(input(\"Enter angle 1: \"))\n",
    "b = int(input(\"Enter angle 2: \"))\n",
    "c = int(input(\"Enter angle 3: \"))\n",
    "\n",
    "if a+b+c == 180:\n",
    "    print(\"the angles make a valid triangle\")\n",
    "else:\n",
    "    print(\"the angles do not make a valid triangle\")"
   ]
  },
  {
   "cell_type": "code",
   "execution_count": 14,
   "id": "45bd113d",
   "metadata": {},
   "outputs": [
    {
     "name": "stdout",
     "output_type": "stream",
     "text": [
      "Enter side 1: 3\n",
      "Enter side 2: 4\n",
      "Enter side 3: 5\n",
      "the sides make a valid triangle\n"
     ]
    }
   ],
   "source": [
    "a = int(input(\"Enter side 1: \"))\n",
    "b = int(input(\"Enter side 2: \"))\n",
    "c = int(input(\"Enter side 3: \"))\n",
    "\n",
    "if a+b>c and b+c>a and a+c>b:\n",
    "    print(\"the sides make a valid triangle\")\n",
    "else:\n",
    "    print(\"the sides do not make a valid triangle\")"
   ]
  },
  {
   "cell_type": "code",
   "execution_count": 15,
   "id": "0656211b",
   "metadata": {},
   "outputs": [
    {
     "name": "stdout",
     "output_type": "stream",
     "text": [
      "Enter side 1: 4\n",
      "Enter side 2: 5\n",
      "Enter side 3: 4\n",
      "isoceles triange\n"
     ]
    }
   ],
   "source": [
    "a = int(input(\"Enter side 1: \"))\n",
    "b = int(input(\"Enter side 2: \"))\n",
    "c = int(input(\"Enter side 3: \"))\n",
    "\n",
    "if a==b and b==c:\n",
    "    print(\"equilateral triangle\")\n",
    "elif (a==b and b!=c) or (b==c and c!=a) or (a==c and c!=b):\n",
    "    print(\"isoceles triange\")\n",
    "else:\n",
    "    print(\"scalene triangle\")"
   ]
  },
  {
   "cell_type": "code",
   "execution_count": 20,
   "id": "5de14c64",
   "metadata": {},
   "outputs": [
    {
     "name": "stdout",
     "output_type": "stream",
     "text": [
      "Enter physics marks: 88\n",
      "Enter chemistry marks: 90\n",
      "Enter biology marks: 85\n",
      "Enter math marks: 97\n",
      "Enter computer marks: 83\n",
      "88.6\n",
      "grade B\n"
     ]
    }
   ],
   "source": [
    "a = int(input(\"Enter physics marks: \"))\n",
    "b = int(input(\"Enter chemistry marks: \"))\n",
    "c = int(input(\"Enter biology marks: \"))\n",
    "d = int(input(\"Enter math marks: \"))\n",
    "e = int(input(\"Enter computer marks: \"))\n",
    "\n",
    "perc = (a+b+c+d+e)/5\n",
    "print(perc)\n",
    "if perc>=90:\n",
    "    print(\"grade A\")\n",
    "elif perc>=80:\n",
    "    print(\"grade B\")\n",
    "elif perc>=70:\n",
    "    print(\"grade C\")\n",
    "elif perc>=60:\n",
    "    print(\"grade D\")\n",
    "elif perc>=40:\n",
    "    print(\"grade E\")\n",
    "else:\n",
    "    print(\"grade F\")"
   ]
  },
  {
   "cell_type": "code",
   "execution_count": 21,
   "id": "69c0fb50",
   "metadata": {},
   "outputs": [
    {
     "name": "stdout",
     "output_type": "stream",
     "text": [
      "Enter basic salary: 17000\n",
      "gross pay : 36550.0\n"
     ]
    }
   ],
   "source": [
    "bp = int(input(\"Enter basic salary: \"))\n",
    "gr = bp\n",
    "if bp<=10000:\n",
    "    gr += (0.2*bp + 0.8*bp)\n",
    "elif bp<=20000:\n",
    "    gr += (0.25*bp + 0.9*bp)\n",
    "else:\n",
    "    gr += (0.3*bp + 0.95*bp)\n",
    "print(f'gross pay : {gr}')"
   ]
  },
  {
   "cell_type": "code",
   "execution_count": 22,
   "id": "f215f295",
   "metadata": {},
   "outputs": [
    {
     "name": "stdout",
     "output_type": "stream",
     "text": [
      "Enter units of electricity used: 370\n",
      "amount = 480.0\n"
     ]
    }
   ],
   "source": [
    "unit = int(input(\"Enter units of electricity used: \"))\n",
    "amt = 0\n",
    "if unit <= 50:\n",
    "    amt += unit*0.5\n",
    "elif unit <= 150:\n",
    "    amt += (50*0.5 + (unit-50)*0.75)\n",
    "elif unit <= 250:\n",
    "    amt += (50*0.5 + 100*0.75 + (unit-150)*1.2)\n",
    "elif unit>= 250:\n",
    "    amt += (50*0.5 + 100*0.75 + 100*1.2 + (unit-250)*1.5)\n",
    "amt += 0.2*amt\n",
    "print(f'amount = {amt}')"
   ]
  },
  {
   "cell_type": "code",
   "execution_count": null,
   "id": "36b2ab2a",
   "metadata": {},
   "outputs": [],
   "source": []
  }
 ],
 "metadata": {
  "kernelspec": {
   "display_name": "Python 3 (ipykernel)",
   "language": "python",
   "name": "python3"
  },
  "language_info": {
   "codemirror_mode": {
    "name": "ipython",
    "version": 3
   },
   "file_extension": ".py",
   "mimetype": "text/x-python",
   "name": "python",
   "nbconvert_exporter": "python",
   "pygments_lexer": "ipython3",
   "version": "3.9.13"
  }
 },
 "nbformat": 4,
 "nbformat_minor": 5
}
