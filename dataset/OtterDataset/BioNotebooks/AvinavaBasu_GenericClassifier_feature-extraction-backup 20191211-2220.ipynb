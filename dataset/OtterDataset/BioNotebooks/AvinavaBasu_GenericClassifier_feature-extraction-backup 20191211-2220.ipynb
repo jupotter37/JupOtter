{
 "cells": [
  {
   "cell_type": "code",
   "execution_count": 1,
   "metadata": {},
   "outputs": [],
   "source": [
    "train_ds_path = 'output/dataset-200k-noisy.train.csv'\n",
    "test_ds_path = 'output/dataset-200k-noisy.test.csv'\n",
    "abbreviation_mapping_path = 'dicts/mle_abbreviation_mapping_from_ani_20190925.csv'"
   ]
  },
  {
   "cell_type": "code",
   "execution_count": 2,
   "metadata": {},
   "outputs": [],
   "source": [
    "import sys\n",
    "sys.path.append('.')"
   ]
  },
  {
   "cell_type": "code",
   "execution_count": 3,
   "metadata": {},
   "outputs": [],
   "source": [
    "import os\n",
    "if os.getcwd().endswith('/notebooks'):\n",
    "    os.chdir(os.path.join(os.getcwd(), '..'))"
   ]
  },
  {
   "cell_type": "code",
   "execution_count": 4,
   "metadata": {},
   "outputs": [],
   "source": [
    "import pandas as pd\n",
    "from sklearn.base import TransformerMixin\n",
    "from sklearn.model_selection import train_test_split\n",
    "from collections import Counter, defaultdict, OrderedDict\n",
    "from sklearn.metrics import precision_recall_fscore_support\n",
    "from sklearn.preprocessing import KBinsDiscretizer, OneHotEncoder, LabelEncoder\n",
    "from sklearn.feature_extraction.text import CountVectorizer, TfidfTransformer\n",
    "from sklearn.datasets import dump_svmlight_file\n",
    "from classifyGenericModified import ExperimentalClassifier, normalizeName\n",
    "from tqdm import tqdm\n",
    "import numpy as np\n",
    "from sklearn.pipeline import FeatureUnion\n",
    "from sklearn.pipeline import make_pipeline\n",
    "from sklearn.svm import SVC, LinearSVC\n",
    "from sklearn.kernel_approximation import Nystroem\n",
    "import itertools\n",
    "import re\n",
    "import joblib"
   ]
  },
  {
   "cell_type": "code",
   "execution_count": 5,
   "metadata": {},
   "outputs": [],
   "source": [
    "train_ds = pd.read_csv(train_ds_path)\n",
    "test_ds = pd.read_csv(test_ds_path)"
   ]
  },
  {
   "cell_type": "code",
   "execution_count": 6,
   "metadata": {},
   "outputs": [
    {
     "data": {
      "text/html": [
       "<div>\n",
       "<style scoped>\n",
       "    .dataframe tbody tr th:only-of-type {\n",
       "        vertical-align: middle;\n",
       "    }\n",
       "\n",
       "    .dataframe tbody tr th {\n",
       "        vertical-align: top;\n",
       "    }\n",
       "\n",
       "    .dataframe thead th {\n",
       "        text-align: right;\n",
       "    }\n",
       "</style>\n",
       "<table border=\"1\" class=\"dataframe\">\n",
       "  <thead>\n",
       "    <tr style=\"text-align: right;\">\n",
       "      <th></th>\n",
       "      <th>input</th>\n",
       "      <th>id</th>\n",
       "      <th>label</th>\n",
       "      <th>numdocs</th>\n",
       "    </tr>\n",
       "  </thead>\n",
       "  <tbody>\n",
       "    <tr>\n",
       "      <th>16864</th>\n",
       "      <td>Nailsea</td>\n",
       "      <td>NaN</td>\n",
       "      <td>SPE</td>\n",
       "      <td>51.0</td>\n",
       "    </tr>\n",
       "    <tr>\n",
       "      <th>71106</th>\n",
       "      <td>New Zealand Institute For Plant And Food Research</td>\n",
       "      <td>NaN</td>\n",
       "      <td>SPE</td>\n",
       "      <td>50.0</td>\n",
       "    </tr>\n",
       "    <tr>\n",
       "      <th>47901</th>\n",
       "      <td>Akaki Tsereteli State University</td>\n",
       "      <td>NaN</td>\n",
       "      <td>SPE</td>\n",
       "      <td>100.0</td>\n",
       "    </tr>\n",
       "  </tbody>\n",
       "</table>\n",
       "</div>"
      ],
      "text/plain": [
       "                                                   input  id label  numdocs\n",
       "16864                                            Nailsea NaN   SPE     51.0\n",
       "71106  New Zealand Institute For Plant And Food Research NaN   SPE     50.0\n",
       "47901                   Akaki Tsereteli State University NaN   SPE    100.0"
      ]
     },
     "execution_count": 6,
     "metadata": {},
     "output_type": "execute_result"
    }
   ],
   "source": [
    "train_ds.sample(3)"
   ]
  },
  {
   "cell_type": "code",
   "execution_count": 35,
   "metadata": {},
   "outputs": [
    {
     "data": {
      "text/plain": [
       "SPE    75000\n",
       "GEN    23400\n",
       "Name: label, dtype: int64"
      ]
     },
     "execution_count": 35,
     "metadata": {},
     "output_type": "execute_result"
    }
   ],
   "source": [
    "train_ds.label.value_counts()"
   ]
  },
  {
   "cell_type": "code",
   "execution_count": 36,
   "metadata": {},
   "outputs": [],
   "source": [
    "class_weight = {'SPE': 1, 'GEN': 15}"
   ]
  },
  {
   "cell_type": "markdown",
   "metadata": {},
   "source": [
    "# Word frequency"
   ]
  },
  {
   "cell_type": "code",
   "execution_count": 37,
   "metadata": {},
   "outputs": [],
   "source": [
    "tokens = Counter(t.lower() for s in train_ds.input for t in s.split())"
   ]
  },
  {
   "cell_type": "code",
   "execution_count": 38,
   "metadata": {},
   "outputs": [],
   "source": [
    "tokens_ordered = [t for t, _ in tokens.most_common()]"
   ]
  },
  {
   "cell_type": "code",
   "execution_count": 39,
   "metadata": {},
   "outputs": [],
   "source": [
    "tokens_group1 = set(tokens_ordered[:1000])\n",
    "tokens_group2 = set(tokens_ordered[1000:10000])\n",
    "tokens_group3 = set(tokens_ordered[10000:])"
   ]
  },
  {
   "cell_type": "code",
   "execution_count": 40,
   "metadata": {},
   "outputs": [
    {
     "data": {
      "text/plain": [
       "['usda-ars',\n",
       " 'toronto',\n",
       " 'biochemical',\n",
       " 'neurosurgery',\n",
       " 'rochester',\n",
       " 'metall.',\n",
       " 'bordeaux',\n",
       " 'complejo',\n",
       " 'wissenschaften',\n",
       " 'w']"
      ]
     },
     "execution_count": 40,
     "metadata": {},
     "output_type": "execute_result"
    }
   ],
   "source": [
    "tokens_ordered[1000:1010] # more frequent tokens are more likely to be common words"
   ]
  },
  {
   "cell_type": "code",
   "execution_count": 41,
   "metadata": {},
   "outputs": [
    {
     "data": {
      "text/plain": [
       "['icon',\n",
       " 'ripault',\n",
       " 'rijeci',\n",
       " 'lessi',\n",
       " 'biol./environmental',\n",
       " 'cmw.',\n",
       " 'sentara',\n",
       " 'bamboo',\n",
       " 'rattan',\n",
       " 'neurocirugía']"
      ]
     },
     "execution_count": 41,
     "metadata": {},
     "output_type": "execute_result"
    }
   ],
   "source": [
    "tokens_ordered[10000:10010] # less frequent tokens are more likely to be names"
   ]
  },
  {
   "cell_type": "markdown",
   "metadata": {},
   "source": [
    "# Feature extraction"
   ]
  },
  {
   "cell_type": "code",
   "execution_count": 42,
   "metadata": {},
   "outputs": [],
   "source": []
  },
  {
   "cell_type": "code",
   "execution_count": 43,
   "metadata": {},
   "outputs": [],
   "source": []
  },
  {
   "cell_type": "code",
   "execution_count": 44,
   "metadata": {},
   "outputs": [
    {
     "name": "stdout",
     "output_type": "stream",
     "text": [
      "Loading dictionary...\n"
     ]
    },
    {
     "name": "stderr",
     "output_type": "stream",
     "text": [
      "generating approximate dict: 100%|██████████| 50434/50434 [00:28<00:00, 1777.06it/s]\n"
     ]
    },
    {
     "name": "stdout",
     "output_type": "stream",
     "text": [
      "Loading dictionary done in 29.72 sec.\n"
     ]
    }
   ],
   "source": [
    "rule_based_classifier = ExperimentalClassifier('rule', use_multilingual_dicts=True, use_zipcode_us_rule=True)"
   ]
  },
  {
   "cell_type": "code",
   "execution_count": 45,
   "metadata": {},
   "outputs": [],
   "source": [
    "top_level_types = '''Academy\n",
    "Branch\n",
    "Center\n",
    "Centers\n",
    "Central Institute\n",
    "Centre\n",
    "Centre National\n",
    "Centro\n",
    "Centro Nacional\n",
    "Centro Ricerche\n",
    "Children's Hospital\n",
    "Clinic\n",
    "Clinica\n",
    "Clinical Division\n",
    "Clininque\n",
    "Clinique\n",
    "Clinique chirurgicale\n",
    "College\n",
    "Escola\n",
    "Escuel\n",
    "Escuela\n",
    "Estación\n",
    "Graduate Institute\n",
    "Graduate School\n",
    "Group\n",
    "Groupe\n",
    "Grupo\n",
    "Hôpital\n",
    "Hospital\n",
    "Institut\n",
    "Institute\n",
    "Institutes\n",
    "Institution\n",
    "Institut Municipal\n",
    "Institut National\n",
    "Instituto\n",
    "Instituto Nacional\n",
    "Istituto\n",
    "Klinik\n",
    "Klinik und Poliklinik\n",
    "Lab\n",
    "Lab.\n",
    "Laboratoire\n",
    "Laboratories\n",
    "Laboratorio\n",
    "Laboratório\n",
    "Laboratório Especial\n",
    "Laboratory\n",
    "Ministry\n",
    "Municipal Institute\n",
    "National Center\n",
    "National Centre\n",
    "National Institute\n",
    "National Institutes\n",
    "National Laboratory\n",
    "Program\n",
    "Programa\n",
    "Research Center\n",
    "Research Centre\n",
    "Research Institute\n",
    "Research Unit\n",
    "Sch.\n",
    "School\n",
    "Scuola\n",
    "Sección\n",
    "Section\n",
    "Service\n",
    "Servicio\n",
    "Serviço\n",
    "Servizio\n",
    "Sezione\n",
    "Specialist Clinic\n",
    "University Hospital\n",
    "Zentrum'''.lower().split()\n",
    "# top_level_types"
   ]
  },
  {
   "cell_type": "code",
   "execution_count": 46,
   "metadata": {},
   "outputs": [],
   "source": [
    "top_level_words = itertools.chain(rule_based_classifier.cn, rule_based_classifier.univ,\n",
    "                                  rule_based_classifier.companyTypes, top_level_types)\n",
    "top_level_word_map = {\n",
    "    w: '^top' for w in top_level_words\n",
    "}"
   ]
  },
  {
   "cell_type": "code",
   "execution_count": 47,
   "metadata": {},
   "outputs": [],
   "source": [
    "word_lists = [ # later lists have precedence\n",
    "    ('^L', rule_based_classifier.allLoc),\n",
    "    ('^sbE', rule_based_classifier.expandedSubjectDict),\n",
    "    ('^S', rule_based_classifier.subjectDict),\n",
    "    ('^cS', rule_based_classifier.commonSubjectsDict),\n",
    "    ('^sb', rule_based_classifier.subjModDict),\n",
    "    ('^mO', rule_based_classifier.orgModDict),\n",
    "    ('^cn', rule_based_classifier.cn),\n",
    "    ('^univ', rule_based_classifier.univ),\n",
    "    ('^cnS', rule_based_classifier.companySuffixes),\n",
    "    ('^cnT', rule_based_classifier.companyTypes),\n",
    "    ('^T', rule_based_classifier.typeDict),\n",
    "    ('^e', rule_based_classifier.wordEndingsDict),\n",
    "    ('^sw', rule_based_classifier.sw),\n",
    "    ('^lf', tokens_group3),\n",
    "    ('^and', 'and|&|y|und|e|og|i|και|ja|et|és|en|ból|ve'.split('|')),\n",
    "    ('^of', 'of|de|des|der|di|fur|fr|for|für|voor|in|zu|és'.split('|')),\n",
    "    ('^in', 'in|a|op|zu'.split('|')),\n",
    "    ('^lat', 'I|II|III|IV|V|VI|VII|VIII|IX|X|XI|XII|XIII|XIV|XV|XVI|XVII|XVIII|XIX|XX'.split('|')),\n",
    "]"
   ]
  },
  {
   "cell_type": "code",
   "execution_count": 48,
   "metadata": {
    "scrolled": true
   },
   "outputs": [
    {
     "name": "stderr",
     "output_type": "stream",
     "text": [
      "100%|██████████| 72276/72276 [00:00<00:00, 1316761.72it/s]\n",
      "100%|██████████| 15072/15072 [00:00<00:00, 1624310.75it/s]\n",
      "100%|██████████| 50434/50434 [00:00<00:00, 734855.58it/s]\n",
      "100%|██████████| 236/236 [00:00<00:00, 312553.12it/s]\n",
      "100%|██████████| 3077/3077 [00:00<00:00, 451506.91it/s]\n",
      "100%|██████████| 112/112 [00:00<00:00, 183357.55it/s]\n",
      "100%|██████████| 542/542 [00:00<00:00, 419507.80it/s]\n",
      "100%|██████████| 36/36 [00:00<00:00, 142448.06it/s]\n",
      "100%|██████████| 99/99 [00:00<00:00, 172799.04it/s]\n",
      "100%|██████████| 95/95 [00:00<00:00, 280013.27it/s]\n",
      "100%|██████████| 569/569 [00:00<00:00, 299630.76it/s]\n",
      "100%|██████████| 154/154 [00:00<00:00, 156663.31it/s]\n",
      "100%|██████████| 1911/1911 [00:00<00:00, 758738.64it/s]\n",
      "100%|██████████| 27550/27550 [00:00<00:00, 1095082.21it/s]\n",
      "100%|██████████| 14/14 [00:00<00:00, 8534.92it/s]\n",
      "100%|██████████| 13/13 [00:00<00:00, 26585.06it/s]\n",
      "100%|██████████| 4/4 [00:00<00:00, 2631.72it/s]\n",
      "100%|██████████| 20/20 [00:00<00:00, 42733.61it/s]\n"
     ]
    }
   ],
   "source": [
    "word2tag = {}\n",
    "for name, word_list in word_lists:\n",
    "    # word lists from ExperimentalClassifier are preprocessed already, \n",
    "    # strings were lower-cased and there are no duplicates\n",
    "    for w in tqdm(word_list, position=0, leave=True):\n",
    "        if w:\n",
    "            # ideally, each word occurs in only one list\n",
    "            # in reality, it's commonly that they occur in many lists\n",
    "            word2tag[w] = name"
   ]
  },
  {
   "cell_type": "code",
   "execution_count": 49,
   "metadata": {},
   "outputs": [
    {
     "data": {
      "text/plain": [
       "[('^L', 72276),\n",
       " ('^sbE', 15072),\n",
       " ('^S', 50434),\n",
       " ('^cS', 236),\n",
       " ('^sb', 3077),\n",
       " ('^mO', 112),\n",
       " ('^cn', 542),\n",
       " ('^univ', 36),\n",
       " ('^cnS', 99),\n",
       " ('^cnT', 95),\n",
       " ('^T', 569),\n",
       " ('^e', 154),\n",
       " ('^sw', 1911),\n",
       " ('^lf', 27550),\n",
       " ('^and', 14),\n",
       " ('^of', 13),\n",
       " ('^in', 4),\n",
       " ('^lat', 20)]"
      ]
     },
     "execution_count": 49,
     "metadata": {},
     "output_type": "execute_result"
    }
   ],
   "source": [
    "[(name, len(wl)) for name, wl in word_lists]"
   ]
  },
  {
   "cell_type": "code",
   "execution_count": 50,
   "metadata": {},
   "outputs": [
    {
     "data": {
      "text/plain": [
       "150122"
      ]
     },
     "execution_count": 50,
     "metadata": {},
     "output_type": "execute_result"
    }
   ],
   "source": [
    "len(word2tag)"
   ]
  },
  {
   "cell_type": "code",
   "execution_count": 51,
   "metadata": {},
   "outputs": [],
   "source": [
    "def identity_analyzer(x): \n",
    "    ''' This is verbose but a lambda can't be serialized '''\n",
    "    return x"
   ]
  },
  {
   "cell_type": "code",
   "execution_count": 52,
   "metadata": {},
   "outputs": [],
   "source": [
    "rule_encoder = OneHotEncoder(handle_unknown='ignore')\n",
    "freq_number_vectorizer_func = lambda: CountVectorizer(analyzer=identity_analyzer, max_features=20, binary=True)\n",
    "ngram_pattern_vectorizer = CountVectorizer(analyzer=identity_analyzer, ngram_range=(2,5), min_df=10, binary=True)\n",
    "joined_pattern_vectorizer = CountVectorizer(analyzer=identity_analyzer, min_df=20, binary=True)\n",
    "ngram_pattern_vectorizer2 = CountVectorizer(analyzer=identity_analyzer, ngram_range=(2,5), min_df=10, binary=True)\n",
    "joined_pattern_vectorizer2 = CountVectorizer(analyzer=identity_analyzer, min_df=20, binary=True)\n",
    "discretizer = KBinsDiscretizer(n_bins=(5, 5, 5, 5, 5), encode='onehot', strategy='quantile')\n",
    "feature_extractor = make_pipeline(\n",
    "    TokenTranslator(abbreviation_mapping_path),\n",
    "    FeatureUnion([\n",
    "        ('freq-char-len', make_pipeline(CharLenFeature(), freq_number_vectorizer_func())),\n",
    "        ('freq-word-len', make_pipeline(WordLenFeature(), freq_number_vectorizer_func())),\n",
    "        ('freq-min-word-freq', make_pipeline(WordFrequencyFeatures(tokens, stats=['min']), freq_number_vectorizer_func())),\n",
    "        ('freq-max-word-freq', make_pipeline(WordFrequencyFeatures(tokens, stats=['max']), freq_number_vectorizer_func())),\n",
    "        ('numerical-discretized', make_pipeline(\n",
    "            FeatureUnion([\n",
    "                ('char_len', CharLenFeature()),\n",
    "                ('word_len', WordLenFeature()),\n",
    "                ('word_freq', WordFrequencyFeatures(tokens)),\n",
    "            ]),\n",
    "            discretizer,\n",
    "        )),\n",
    "        ('word_list', make_pipeline( # todo: slow to serialize\n",
    "            # didn't use num_top_freq_words because I don't want to override \"^top\" tags\n",
    "            WordListTagger(word2tag, 0, default_tag='^nf'),\n",
    "            FeatureUnion([\n",
    "                ('joined', make_pipeline(StringConcat(), joined_pattern_vectorizer)),\n",
    "                ('n-grams', ngram_pattern_vectorizer)\n",
    "            ])\n",
    "        )),\n",
    "        ('word_list_top_freq', make_pipeline( # todo: slow to serialize\n",
    "            WordListTagger(word2tag, 0, default_tag='^nf'),\n",
    "            FeatureUnion([\n",
    "                ('joined', make_pipeline(StringConcat(), joined_pattern_vectorizer2)),\n",
    "                ('n-grams', ngram_pattern_vectorizer2)\n",
    "            ])\n",
    "        )),\n",
    "        ('top_level_word', make_pipeline( # check for words such as \"university\", \"institution\", \"ltd.\"\n",
    "            WordListTagger(top_level_word_map, 1000, default_tag='other'),\n",
    "            CountVectorizer(analyzer=identity_analyzer, ngram_range=(1,3), binary=True)\n",
    "        )),\n",
    "        ('rule', make_pipeline( # todo: slow to serialize\n",
    "            # ignore the last one (default rule) because it just emit 'GEN' for everything\n",
    "            RuleFeatures(rule_based_classifier.classification_functions[:-1],\n",
    "                         rule_based_classifier.preprocess), \n",
    "            rule_encoder\n",
    "        ))\n",
    "    ]),\n",
    "    TfidfTransformer(norm=None), # so that feature vectors are more meaningful (for debugging)\n",
    ")\n",
    "pipeline = make_pipeline(\n",
    "    feature_extractor,\n",
    "    Nystroem(kernel='poly', degree=2),\n",
    "    LinearSVC(class_weight=class_weight)\n",
    ")"
   ]
  },
  {
   "cell_type": "code",
   "execution_count": 53,
   "metadata": {
    "scrolled": false
   },
   "outputs": [
    {
     "name": "stderr",
     "output_type": "stream",
     "text": [
      "//anaconda2/envs/generic-classifier/lib/python3.6/site-packages/sklearn/preprocessing/_discretization.py:193: UserWarning: Bins whose width are too small (i.e., <= 1e-8) in feature 1 are removed. Consider decreasing the number of bins.\n",
      "  'decreasing the number of bins.' % jj)\n",
      "//anaconda2/envs/generic-classifier/lib/python3.6/site-packages/sklearn/preprocessing/_discretization.py:193: UserWarning: Bins whose width are too small (i.e., <= 1e-8) in feature 2 are removed. Consider decreasing the number of bins.\n",
      "  'decreasing the number of bins.' % jj)\n",
      "//anaconda2/envs/generic-classifier/lib/python3.6/site-packages/sklearn/preprocessing/_discretization.py:193: UserWarning: Bins whose width are too small (i.e., <= 1e-8) in feature 3 are removed. Consider decreasing the number of bins.\n",
      "  'decreasing the number of bins.' % jj)\n"
     ]
    },
    {
     "name": "stdout",
     "output_type": "stream",
     "text": [
      "CPU times: user 2min 41s, sys: 1.29 s, total: 2min 42s\n",
      "Wall time: 2min 38s\n"
     ]
    },
    {
     "data": {
      "text/plain": [
       "Pipeline(memory=None,\n",
       "         steps=[('pipeline',\n",
       "                 Pipeline(memory=None,\n",
       "                          steps=[('tokentranslator',\n",
       "                                  <__main__.TokenTranslator object at 0x2fae6a0b8>),\n",
       "                                 ('featureunion',\n",
       "                                  FeatureUnion(n_jobs=None,\n",
       "                                               transformer_list=[('freq-char-len',\n",
       "                                                                  Pipeline(memory=None,\n",
       "                                                                           steps=[('charlenfeature',\n",
       "                                                                                   <__main__.CharLenFeature object at 0x2fae6a0f0>),\n",
       "                                                                                  ('countvectorizer',\n",
       "                                                                                   CountVectorizer(analyzer=<fun...\n",
       "                ('nystroem',\n",
       "                 Nystroem(coef0=None, degree=2, gamma=None, kernel='poly',\n",
       "                          kernel_params=None, n_components=100,\n",
       "                          random_state=None)),\n",
       "                ('linearsvc',\n",
       "                 LinearSVC(C=1.0, class_weight={'GEN': 15, 'SPE': 1}, dual=True,\n",
       "                           fit_intercept=True, intercept_scaling=1,\n",
       "                           loss='squared_hinge', max_iter=1000,\n",
       "                           multi_class='ovr', penalty='l2', random_state=None,\n",
       "                           tol=0.0001, verbose=0))],\n",
       "         verbose=False)"
      ]
     },
     "execution_count": 53,
     "metadata": {},
     "output_type": "execute_result"
    }
   ],
   "source": [
    "%%time\n",
    "# _, train_sample = train_test_split(train_ds, test_size=0.01, stratify=train_ds.label)\n",
    "# train_sample = train_sample.copy()\n",
    "train_sample = train_ds\n",
    "pipeline.fit(train_sample.input, y=train_sample.label)"
   ]
  },
  {
   "cell_type": "code",
   "execution_count": 54,
   "metadata": {},
   "outputs": [],
   "source": [
    "# _, test_sample = train_test_split(test_ds, test_size=0.1, stratify=test_ds.label)\n",
    "# test_sample = test_sample.copy()\n",
    "test_sample = test_ds"
   ]
  },
  {
   "cell_type": "code",
   "execution_count": 55,
   "metadata": {},
   "outputs": [
    {
     "name": "stdout",
     "output_type": "stream",
     "text": [
      "CPU times: user 2min 27s, sys: 1.45 s, total: 2min 28s\n",
      "Wall time: 2min 24s\n"
     ]
    }
   ],
   "source": [
    "%%time\n",
    "classifyOrg(rule_based_classifier, pipeline, test_sample)"
   ]
  },
  {
   "cell_type": "code",
   "execution_count": 56,
   "metadata": {},
   "outputs": [
    {
     "data": {
      "text/html": [
       "<div>\n",
       "<style scoped>\n",
       "    .dataframe tbody tr th:only-of-type {\n",
       "        vertical-align: middle;\n",
       "    }\n",
       "\n",
       "    .dataframe tbody tr th {\n",
       "        vertical-align: top;\n",
       "    }\n",
       "\n",
       "    .dataframe thead th {\n",
       "        text-align: right;\n",
       "    }\n",
       "</style>\n",
       "<table border=\"1\" class=\"dataframe\">\n",
       "  <thead>\n",
       "    <tr style=\"text-align: right;\">\n",
       "      <th></th>\n",
       "      <th>input</th>\n",
       "      <th>id</th>\n",
       "      <th>label</th>\n",
       "      <th>numdocs</th>\n",
       "      <th>prediction</th>\n",
       "    </tr>\n",
       "  </thead>\n",
       "  <tbody>\n",
       "    <tr>\n",
       "      <th>0</th>\n",
       "      <td>Royal Signals &amp; Radar Establishment</td>\n",
       "      <td>NaN</td>\n",
       "      <td>SPE</td>\n",
       "      <td>79.0</td>\n",
       "      <td>SPE</td>\n",
       "    </tr>\n",
       "    <tr>\n",
       "      <th>1</th>\n",
       "      <td>Hôpital Neuchâtelois</td>\n",
       "      <td>NaN</td>\n",
       "      <td>SPE</td>\n",
       "      <td>87.0</td>\n",
       "      <td>SPE</td>\n",
       "    </tr>\n",
       "    <tr>\n",
       "      <th>2</th>\n",
       "      <td>Facultad De Medicina</td>\n",
       "      <td>NaN</td>\n",
       "      <td>SPE</td>\n",
       "      <td>442.0</td>\n",
       "      <td>GEN</td>\n",
       "    </tr>\n",
       "    <tr>\n",
       "      <th>3</th>\n",
       "      <td>Fraunhofer-institute For Applied Polymer Research</td>\n",
       "      <td>NaN</td>\n",
       "      <td>SPE</td>\n",
       "      <td>44.0</td>\n",
       "      <td>GEN</td>\n",
       "    </tr>\n",
       "    <tr>\n",
       "      <th>4</th>\n",
       "      <td>Inst. Fiziol.</td>\n",
       "      <td>NaN</td>\n",
       "      <td>SPE</td>\n",
       "      <td>101.0</td>\n",
       "      <td>SPE</td>\n",
       "    </tr>\n",
       "    <tr>\n",
       "      <th>...</th>\n",
       "      <td>...</td>\n",
       "      <td>...</td>\n",
       "      <td>...</td>\n",
       "      <td>...</td>\n",
       "      <td>...</td>\n",
       "    </tr>\n",
       "    <tr>\n",
       "      <th>98396</th>\n",
       "      <td>College of Law</td>\n",
       "      <td>60120362.0</td>\n",
       "      <td>GEN</td>\n",
       "      <td>1.0</td>\n",
       "      <td>GEN</td>\n",
       "    </tr>\n",
       "    <tr>\n",
       "      <th>98397</th>\n",
       "      <td>Departments of Human Development and Family St...</td>\n",
       "      <td>60120172.0</td>\n",
       "      <td>GEN</td>\n",
       "      <td>1.0</td>\n",
       "      <td>GEN</td>\n",
       "    </tr>\n",
       "    <tr>\n",
       "      <th>98398</th>\n",
       "      <td>National University Of Defense And Technology</td>\n",
       "      <td>NaN</td>\n",
       "      <td>SPE</td>\n",
       "      <td>376.0</td>\n",
       "      <td>SPE</td>\n",
       "    </tr>\n",
       "    <tr>\n",
       "      <th>98399</th>\n",
       "      <td>Us Doe Joint Genome Institute</td>\n",
       "      <td>NaN</td>\n",
       "      <td>SPE</td>\n",
       "      <td>36.0</td>\n",
       "      <td>SPE</td>\n",
       "    </tr>\n",
       "    <tr>\n",
       "      <th>98400</th>\n",
       "      <td>Engineering University Of Capf</td>\n",
       "      <td>NaN</td>\n",
       "      <td>SPE</td>\n",
       "      <td>71.0</td>\n",
       "      <td>SPE</td>\n",
       "    </tr>\n",
       "  </tbody>\n",
       "</table>\n",
       "<p>98401 rows × 5 columns</p>\n",
       "</div>"
      ],
      "text/plain": [
       "                                                   input          id label  \\\n",
       "0                    Royal Signals & Radar Establishment         NaN   SPE   \n",
       "1                                   Hôpital Neuchâtelois         NaN   SPE   \n",
       "2                                   Facultad De Medicina         NaN   SPE   \n",
       "3      Fraunhofer-institute For Applied Polymer Research         NaN   SPE   \n",
       "4                                          Inst. Fiziol.         NaN   SPE   \n",
       "...                                                  ...         ...   ...   \n",
       "98396                                     College of Law  60120362.0   GEN   \n",
       "98397  Departments of Human Development and Family St...  60120172.0   GEN   \n",
       "98398      National University Of Defense And Technology         NaN   SPE   \n",
       "98399                      Us Doe Joint Genome Institute         NaN   SPE   \n",
       "98400                     Engineering University Of Capf         NaN   SPE   \n",
       "\n",
       "       numdocs prediction  \n",
       "0         79.0        SPE  \n",
       "1         87.0        SPE  \n",
       "2        442.0        GEN  \n",
       "3         44.0        GEN  \n",
       "4        101.0        SPE  \n",
       "...        ...        ...  \n",
       "98396      1.0        GEN  \n",
       "98397      1.0        GEN  \n",
       "98398    376.0        SPE  \n",
       "98399     36.0        SPE  \n",
       "98400     71.0        SPE  \n",
       "\n",
       "[98401 rows x 5 columns]"
      ]
     },
     "execution_count": 56,
     "metadata": {},
     "output_type": "execute_result"
    }
   ],
   "source": [
    "test_sample"
   ]
  },
  {
   "cell_type": "code",
   "execution_count": 57,
   "metadata": {},
   "outputs": [
    {
     "data": {
      "text/plain": [
       "0.8007337323807685"
      ]
     },
     "execution_count": 57,
     "metadata": {},
     "output_type": "execute_result"
    }
   ],
   "source": [
    "(test_sample['label'] == test_sample['prediction']).mean()"
   ]
  },
  {
   "cell_type": "code",
   "execution_count": 58,
   "metadata": {},
   "outputs": [
    {
     "data": {
      "text/plain": [
       "41215"
      ]
     },
     "execution_count": 58,
     "metadata": {},
     "output_type": "execute_result"
    }
   ],
   "source": [
    "(test_sample['prediction'] == 'GEN').sum()"
   ]
  },
  {
   "cell_type": "code",
   "execution_count": 59,
   "metadata": {},
   "outputs": [
    {
     "data": {
      "text/plain": [
       "98401"
      ]
     },
     "execution_count": 59,
     "metadata": {},
     "output_type": "execute_result"
    }
   ],
   "source": [
    "len(test_sample)"
   ]
  },
  {
   "cell_type": "code",
   "execution_count": 60,
   "metadata": {},
   "outputs": [
    {
     "data": {
      "text/plain": [
       "(array([0.5460148]), array([0.9616683]), array([0.69654575]), array([23401]))"
      ]
     },
     "execution_count": 60,
     "metadata": {},
     "output_type": "execute_result"
    }
   ],
   "source": [
    "precision_recall_fscore_support(test_sample.label, test_sample.prediction, labels=['GEN'])"
   ]
  },
  {
   "cell_type": "markdown",
   "metadata": {},
   "source": [
    "## Examining transformations"
   ]
  },
  {
   "cell_type": "markdown",
   "metadata": {},
   "source": [
    "### Abbreviation resolution"
   ]
  },
  {
   "cell_type": "code",
   "execution_count": 167,
   "metadata": {},
   "outputs": [
    {
     "data": {
      "text/plain": [
       "(array([0.61084165]), array([0.94718174]), array([0.74270779]), array([23401]))"
      ]
     },
     "execution_count": 167,
     "metadata": {},
     "output_type": "execute_result"
    }
   ],
   "source": [
    "precision_recall_fscore_support(test_sample.label, test_sample.prediction, labels=['GEN'])"
   ]
  },
  {
   "cell_type": "code",
   "execution_count": 61,
   "metadata": {},
   "outputs": [],
   "source": [
    "abbreviation_solver = make_pipeline(\n",
    "    WordSplitter(),\n",
    "    TokenTranslator(abbreviation_mapping_path)\n",
    ")"
   ]
  },
  {
   "cell_type": "code",
   "execution_count": 62,
   "metadata": {},
   "outputs": [],
   "source": [
    "train_sample['input_abbr_solved'] = abbreviation_solver.transform(train_sample.input)"
   ]
  },
  {
   "cell_type": "code",
   "execution_count": 63,
   "metadata": {},
   "outputs": [
    {
     "data": {
      "text/html": [
       "<div>\n",
       "<style scoped>\n",
       "    .dataframe tbody tr th:only-of-type {\n",
       "        vertical-align: middle;\n",
       "    }\n",
       "\n",
       "    .dataframe tbody tr th {\n",
       "        vertical-align: top;\n",
       "    }\n",
       "\n",
       "    .dataframe thead th {\n",
       "        text-align: right;\n",
       "    }\n",
       "</style>\n",
       "<table border=\"1\" class=\"dataframe\">\n",
       "  <thead>\n",
       "    <tr style=\"text-align: right;\">\n",
       "      <th></th>\n",
       "      <th>input</th>\n",
       "      <th>input_abbr_solved</th>\n",
       "    </tr>\n",
       "  </thead>\n",
       "  <tbody>\n",
       "    <tr>\n",
       "      <th>69799</th>\n",
       "      <td>Inst.Zool.</td>\n",
       "      <td>institute zoology</td>\n",
       "    </tr>\n",
       "    <tr>\n",
       "      <th>42600</th>\n",
       "      <td>Lab.Molec. Genet.</td>\n",
       "      <td>laboratory molecular genetics</td>\n",
       "    </tr>\n",
       "    <tr>\n",
       "      <th>25779</th>\n",
       "      <td>Lab.Mikrobiol.</td>\n",
       "      <td>laboratory mikrobiologie</td>\n",
       "    </tr>\n",
       "    <tr>\n",
       "      <th>89410</th>\n",
       "      <td>Dept.Pathol.</td>\n",
       "      <td>department pathology</td>\n",
       "    </tr>\n",
       "    <tr>\n",
       "      <th>52223</th>\n",
       "      <td>Dept.Neonatol. Thorac. Cardiovasc. Surg.</td>\n",
       "      <td>department neonatology thoracic cardiovascular...</td>\n",
       "    </tr>\n",
       "  </tbody>\n",
       "</table>\n",
       "</div>"
      ],
      "text/plain": [
       "                                          input  \\\n",
       "69799                                Inst.Zool.   \n",
       "42600                         Lab.Molec. Genet.   \n",
       "25779                            Lab.Mikrobiol.   \n",
       "89410                              Dept.Pathol.   \n",
       "52223  Dept.Neonatol. Thorac. Cardiovasc. Surg.   \n",
       "\n",
       "                                       input_abbr_solved  \n",
       "69799                                  institute zoology  \n",
       "42600                      laboratory molecular genetics  \n",
       "25779                           laboratory mikrobiologie  \n",
       "89410                               department pathology  \n",
       "52223  department neonatology thoracic cardiovascular...  "
      ]
     },
     "execution_count": 63,
     "metadata": {},
     "output_type": "execute_result"
    }
   ],
   "source": [
    "train_sample[train_sample.input.str.match(r'\\b(\\w{2,}\\.){2,}')][['input', 'input_abbr_solved']].sample(5)"
   ]
  },
  {
   "cell_type": "code",
   "execution_count": 64,
   "metadata": {},
   "outputs": [
    {
     "data": {
      "text/html": [
       "<div>\n",
       "<style scoped>\n",
       "    .dataframe tbody tr th:only-of-type {\n",
       "        vertical-align: middle;\n",
       "    }\n",
       "\n",
       "    .dataframe tbody tr th {\n",
       "        vertical-align: top;\n",
       "    }\n",
       "\n",
       "    .dataframe thead th {\n",
       "        text-align: right;\n",
       "    }\n",
       "</style>\n",
       "<table border=\"1\" class=\"dataframe\">\n",
       "  <thead>\n",
       "    <tr style=\"text-align: right;\">\n",
       "      <th></th>\n",
       "      <th>input</th>\n",
       "      <th>input_abbr_solved</th>\n",
       "    </tr>\n",
       "  </thead>\n",
       "  <tbody>\n",
       "    <tr>\n",
       "      <th>8097</th>\n",
       "      <td>Cnrs/ups</td>\n",
       "      <td>Cnrs ups</td>\n",
       "    </tr>\n",
       "    <tr>\n",
       "      <th>21093</th>\n",
       "      <td>Biophysics/Biochemistry Dept.</td>\n",
       "      <td>Biophysics Biochemistry department</td>\n",
       "    </tr>\n",
       "    <tr>\n",
       "      <th>12895</th>\n",
       "      <td>ESAT/SCD</td>\n",
       "      <td>ESAT SCD</td>\n",
       "    </tr>\n",
       "    <tr>\n",
       "      <th>70368</th>\n",
       "      <td>Ecology/Evolution Department</td>\n",
       "      <td>Ecology Evolution Department</td>\n",
       "    </tr>\n",
       "    <tr>\n",
       "      <th>2576</th>\n",
       "      <td>Niaaa/nih</td>\n",
       "      <td>Niaaa nih</td>\n",
       "    </tr>\n",
       "  </tbody>\n",
       "</table>\n",
       "</div>"
      ],
      "text/plain": [
       "                               input                   input_abbr_solved\n",
       "8097                        Cnrs/ups                            Cnrs ups\n",
       "21093  Biophysics/Biochemistry Dept.  Biophysics Biochemistry department\n",
       "12895                       ESAT/SCD                            ESAT SCD\n",
       "70368   Ecology/Evolution Department        Ecology Evolution Department\n",
       "2576                       Niaaa/nih                           Niaaa nih"
      ]
     },
     "execution_count": 64,
     "metadata": {},
     "output_type": "execute_result"
    }
   ],
   "source": [
    "train_sample[train_sample.input.str.match(r'\\b\\w{3,}\\.?(/\\w{3,}\\.?)+')][['input', 'input_abbr_solved']].sample(5)"
   ]
  },
  {
   "cell_type": "code",
   "execution_count": 65,
   "metadata": {
    "scrolled": false
   },
   "outputs": [
    {
     "data": {
      "text/html": [
       "<div>\n",
       "<style scoped>\n",
       "    .dataframe tbody tr th:only-of-type {\n",
       "        vertical-align: middle;\n",
       "    }\n",
       "\n",
       "    .dataframe tbody tr th {\n",
       "        vertical-align: top;\n",
       "    }\n",
       "\n",
       "    .dataframe thead th {\n",
       "        text-align: right;\n",
       "    }\n",
       "</style>\n",
       "<table border=\"1\" class=\"dataframe\">\n",
       "  <thead>\n",
       "    <tr style=\"text-align: right;\">\n",
       "      <th></th>\n",
       "      <th>input</th>\n",
       "      <th>input_abbr_solved</th>\n",
       "    </tr>\n",
       "  </thead>\n",
       "  <tbody>\n",
       "    <tr>\n",
       "      <th>68650</th>\n",
       "      <td>Depts. Biochem. Molec. Biol.</td>\n",
       "      <td>department biochemistry molecular biology</td>\n",
       "    </tr>\n",
       "    <tr>\n",
       "      <th>88356</th>\n",
       "      <td>Dept. Pharmacol.Therapeut.</td>\n",
       "      <td>department pharmacology therapeutics</td>\n",
       "    </tr>\n",
       "    <tr>\n",
       "      <th>81976</th>\n",
       "      <td>Lab. Of Cad And Cg</td>\n",
       "      <td>laboratory Of Cad And Cg</td>\n",
       "    </tr>\n",
       "    <tr>\n",
       "      <th>44032</th>\n",
       "      <td>Inst. of Soil Sci. and Plant Nutr.</td>\n",
       "      <td>institute of Soil science and Plant nutrition</td>\n",
       "    </tr>\n",
       "    <tr>\n",
       "      <th>71319</th>\n",
       "      <td>St. Petersburg State Technical Univ</td>\n",
       "      <td>St. Petersburg State Technical Univ</td>\n",
       "    </tr>\n",
       "    <tr>\n",
       "      <th>22168</th>\n",
       "      <td>Depto. de Quim. Organica</td>\n",
       "      <td>department de quimica Organica</td>\n",
       "    </tr>\n",
       "    <tr>\n",
       "      <th>48813</th>\n",
       "      <td>Inst. Of Gen. And Inorg. Chemistry</td>\n",
       "      <td>institute Of general And inorganic Chemistry</td>\n",
       "    </tr>\n",
       "    <tr>\n",
       "      <th>62658</th>\n",
       "      <td>Lab. Phys. Theor. L'ecl. Normale S.</td>\n",
       "      <td>laboratory physics theoretical L'ecl. Normale S.</td>\n",
       "    </tr>\n",
       "    <tr>\n",
       "      <th>45874</th>\n",
       "      <td>Clin. Obstet.</td>\n",
       "      <td>clinical obstetrics</td>\n",
       "    </tr>\n",
       "    <tr>\n",
       "      <th>71915</th>\n",
       "      <td>Ctr. For Math. And Computer Science</td>\n",
       "      <td>ctra For mathematics And Computer Science</td>\n",
       "    </tr>\n",
       "    <tr>\n",
       "      <th>38114</th>\n",
       "      <td>Sch. of Comp. Sci. and Engineering</td>\n",
       "      <td>school of computer science and Engineering</td>\n",
       "    </tr>\n",
       "    <tr>\n",
       "      <th>45637</th>\n",
       "      <td>Natl. Acad. Of Sciences Of Ukraine</td>\n",
       "      <td>Natl. academy Of Sciences Of Ukraine</td>\n",
       "    </tr>\n",
       "    <tr>\n",
       "      <th>82044</th>\n",
       "      <td>Mikrobiol. Lab.</td>\n",
       "      <td>mikrobiologie laboratory</td>\n",
       "    </tr>\n",
       "    <tr>\n",
       "      <th>84414</th>\n",
       "      <td>Dept. of Food Sci. andTechnology</td>\n",
       "      <td>department of Food science andTechnology</td>\n",
       "    </tr>\n",
       "    <tr>\n",
       "      <th>30324</th>\n",
       "      <td>Dept. Maladies Infectieuses P.</td>\n",
       "      <td>department Maladies Infectieuses P.</td>\n",
       "    </tr>\n",
       "    <tr>\n",
       "      <th>56271</th>\n",
       "      <td>Dept. Polymer Chem.</td>\n",
       "      <td>department Polymer chemistry</td>\n",
       "    </tr>\n",
       "    <tr>\n",
       "      <th>677</th>\n",
       "      <td>Hop. Bichat</td>\n",
       "      <td>hopkins Bichat</td>\n",
       "    </tr>\n",
       "    <tr>\n",
       "      <th>27237</th>\n",
       "      <td>Natl. Inst. Livestock Grass. Sci.</td>\n",
       "      <td>Natl. institute Livestock grassland science</td>\n",
       "    </tr>\n",
       "    <tr>\n",
       "      <th>37307</th>\n",
       "      <td>Dpto. Ing. de Comunicaciones</td>\n",
       "      <td>Dpto. ingegneria de Comunicaciones</td>\n",
       "    </tr>\n",
       "    <tr>\n",
       "      <th>31400</th>\n",
       "      <td>Univ. Of Copenhagen</td>\n",
       "      <td>university Of Copenhagen</td>\n",
       "    </tr>\n",
       "    <tr>\n",
       "      <th>8716</th>\n",
       "      <td>Inst. Vaktsin Syvorotok</td>\n",
       "      <td>institute Vaktsin Syvorotok</td>\n",
       "    </tr>\n",
       "    <tr>\n",
       "      <th>50394</th>\n",
       "      <td>Dept. Microbiology</td>\n",
       "      <td>department Microbiology</td>\n",
       "    </tr>\n",
       "    <tr>\n",
       "      <th>36472</th>\n",
       "      <td>Onkol. Nauch. Tsent.</td>\n",
       "      <td>onkologie nauchnyj tsentr</td>\n",
       "    </tr>\n",
       "    <tr>\n",
       "      <th>19325</th>\n",
       "      <td>Dept. of Materials Scienceand Eng.</td>\n",
       "      <td>department of Materials Scienceand engineering</td>\n",
       "    </tr>\n",
       "    <tr>\n",
       "      <th>10827</th>\n",
       "      <td>Abt. Orthop.</td>\n",
       "      <td>abteilung orthopaedic</td>\n",
       "    </tr>\n",
       "    <tr>\n",
       "      <th>11552</th>\n",
       "      <td>Dept. Ing. Electrónica</td>\n",
       "      <td>department ingegneria Electrónica</td>\n",
       "    </tr>\n",
       "    <tr>\n",
       "      <th>34976</th>\n",
       "      <td>Dept. Automat. Contr.</td>\n",
       "      <td>department automation control</td>\n",
       "    </tr>\n",
       "    <tr>\n",
       "      <th>97192</th>\n",
       "      <td>Dept. Civil Environmental Engrng.</td>\n",
       "      <td>department Civil Environmental Engrng.</td>\n",
       "    </tr>\n",
       "    <tr>\n",
       "      <th>38753</th>\n",
       "      <td>Acad. Of Sci. Of The Czech Republic</td>\n",
       "      <td>academy Of science Of The Czech Republic</td>\n",
       "    </tr>\n",
       "    <tr>\n",
       "      <th>81455</th>\n",
       "      <td>Dept. Physical Med./Rehabilitation</td>\n",
       "      <td>department Physical medicine Rehabilitation</td>\n",
       "    </tr>\n",
       "    <tr>\n",
       "      <th>97831</th>\n",
       "      <td>Dept. Electronic Sci. Eng.</td>\n",
       "      <td>department Electronic science engineering</td>\n",
       "    </tr>\n",
       "    <tr>\n",
       "      <th>32728</th>\n",
       "      <td>Dept. of Microbiol. and Biochemistry</td>\n",
       "      <td>department of microbiology and Biochemistry</td>\n",
       "    </tr>\n",
       "    <tr>\n",
       "      <th>56748</th>\n",
       "      <td>C. S. Azad University Of Agriculture And Techn...</td>\n",
       "      <td>C. S. Azad University Of Agriculture And Techn...</td>\n",
       "    </tr>\n",
       "    <tr>\n",
       "      <th>69105</th>\n",
       "      <td>Dep. Physiol. II</td>\n",
       "      <td>department physiology II</td>\n",
       "    </tr>\n",
       "    <tr>\n",
       "      <th>22796</th>\n",
       "      <td>Pac. Northwest National Laboratory</td>\n",
       "      <td>pacific Northwest National Laboratory</td>\n",
       "    </tr>\n",
       "    <tr>\n",
       "      <th>90842</th>\n",
       "      <td>Inst. Virus Res.</td>\n",
       "      <td>institute Virus research</td>\n",
       "    </tr>\n",
       "    <tr>\n",
       "      <th>54225</th>\n",
       "      <td>Univ. Of Southern California</td>\n",
       "      <td>university Of Southern California</td>\n",
       "    </tr>\n",
       "    <tr>\n",
       "      <th>69117</th>\n",
       "      <td>Natl. Academy Of Sciences Of Belarus</td>\n",
       "      <td>Natl. Academy Of Sciences Of Belarus</td>\n",
       "    </tr>\n",
       "    <tr>\n",
       "      <th>38306</th>\n",
       "      <td>Ist. Ric. Farmacologiche Mario N.</td>\n",
       "      <td>istituto rice Farmacologiche Mario N.</td>\n",
       "    </tr>\n",
       "    <tr>\n",
       "      <th>86983</th>\n",
       "      <td>Dept. of Comp. and Info. Sciences</td>\n",
       "      <td>department of computer and information Sciences</td>\n",
       "    </tr>\n",
       "    <tr>\n",
       "      <th>16088</th>\n",
       "      <td>Dept. of Biochem. and Microbiology</td>\n",
       "      <td>department of biochemistry and Microbiology</td>\n",
       "    </tr>\n",
       "    <tr>\n",
       "      <th>74292</th>\n",
       "      <td>Res. Lab.</td>\n",
       "      <td>research laboratory</td>\n",
       "    </tr>\n",
       "    <tr>\n",
       "      <th>32539</th>\n",
       "      <td>St. Lucas Andreas Ziekenhuis</td>\n",
       "      <td>St. Lucas Andreas Ziekenhuis</td>\n",
       "    </tr>\n",
       "    <tr>\n",
       "      <th>97648</th>\n",
       "      <td>Dagestan. Med. Inst.</td>\n",
       "      <td>Dagestan. medicine institute</td>\n",
       "    </tr>\n",
       "    <tr>\n",
       "      <th>34260</th>\n",
       "      <td>Univ. Delhi</td>\n",
       "      <td>university Delhi</td>\n",
       "    </tr>\n",
       "    <tr>\n",
       "      <th>92879</th>\n",
       "      <td>West. Illinois Univ.</td>\n",
       "      <td>western Illinois university</td>\n",
       "    </tr>\n",
       "    <tr>\n",
       "      <th>35488</th>\n",
       "      <td>Dept. Microbiol. Immunol.</td>\n",
       "      <td>department microbiology immunology</td>\n",
       "    </tr>\n",
       "    <tr>\n",
       "      <th>19121</th>\n",
       "      <td>Inst. Khir.</td>\n",
       "      <td>institute khirurgii</td>\n",
       "    </tr>\n",
       "    <tr>\n",
       "      <th>61280</th>\n",
       "      <td>Dept. Chemical Engineering</td>\n",
       "      <td>department Chemical Engineering</td>\n",
       "    </tr>\n",
       "    <tr>\n",
       "      <th>68215</th>\n",
       "      <td>Dept. of Biol. and Environ.Science</td>\n",
       "      <td>department of biology and Environ.Science</td>\n",
       "    </tr>\n",
       "  </tbody>\n",
       "</table>\n",
       "</div>"
      ],
      "text/plain": [
       "                                                   input  \\\n",
       "68650                       Depts. Biochem. Molec. Biol.   \n",
       "88356                         Dept. Pharmacol.Therapeut.   \n",
       "81976                                 Lab. Of Cad And Cg   \n",
       "44032                 Inst. of Soil Sci. and Plant Nutr.   \n",
       "71319                St. Petersburg State Technical Univ   \n",
       "22168                           Depto. de Quim. Organica   \n",
       "48813                 Inst. Of Gen. And Inorg. Chemistry   \n",
       "62658                Lab. Phys. Theor. L'ecl. Normale S.   \n",
       "45874                                      Clin. Obstet.   \n",
       "71915                Ctr. For Math. And Computer Science   \n",
       "38114                 Sch. of Comp. Sci. and Engineering   \n",
       "45637                 Natl. Acad. Of Sciences Of Ukraine   \n",
       "82044                                    Mikrobiol. Lab.   \n",
       "84414                   Dept. of Food Sci. andTechnology   \n",
       "30324                     Dept. Maladies Infectieuses P.   \n",
       "56271                                Dept. Polymer Chem.   \n",
       "677                                          Hop. Bichat   \n",
       "27237                  Natl. Inst. Livestock Grass. Sci.   \n",
       "37307                       Dpto. Ing. de Comunicaciones   \n",
       "31400                                Univ. Of Copenhagen   \n",
       "8716                             Inst. Vaktsin Syvorotok   \n",
       "50394                                 Dept. Microbiology   \n",
       "36472                               Onkol. Nauch. Tsent.   \n",
       "19325                 Dept. of Materials Scienceand Eng.   \n",
       "10827                                       Abt. Orthop.   \n",
       "11552                            Dept. Ing. Electrónica   \n",
       "34976                              Dept. Automat. Contr.   \n",
       "97192                  Dept. Civil Environmental Engrng.   \n",
       "38753                Acad. Of Sci. Of The Czech Republic   \n",
       "81455                 Dept. Physical Med./Rehabilitation   \n",
       "97831                         Dept. Electronic Sci. Eng.   \n",
       "32728               Dept. of Microbiol. and Biochemistry   \n",
       "56748  C. S. Azad University Of Agriculture And Techn...   \n",
       "69105                                   Dep. Physiol. II   \n",
       "22796                 Pac. Northwest National Laboratory   \n",
       "90842                                   Inst. Virus Res.   \n",
       "54225                       Univ. Of Southern California   \n",
       "69117               Natl. Academy Of Sciences Of Belarus   \n",
       "38306                  Ist. Ric. Farmacologiche Mario N.   \n",
       "86983                  Dept. of Comp. and Info. Sciences   \n",
       "16088                 Dept. of Biochem. and Microbiology   \n",
       "74292                                          Res. Lab.   \n",
       "32539                       St. Lucas Andreas Ziekenhuis   \n",
       "97648                               Dagestan. Med. Inst.   \n",
       "34260                                        Univ. Delhi   \n",
       "92879                               West. Illinois Univ.   \n",
       "35488                          Dept. Microbiol. Immunol.   \n",
       "19121                                        Inst. Khir.   \n",
       "61280                         Dept. Chemical Engineering   \n",
       "68215                 Dept. of Biol. and Environ.Science   \n",
       "\n",
       "                                       input_abbr_solved  \n",
       "68650          department biochemistry molecular biology  \n",
       "88356               department pharmacology therapeutics  \n",
       "81976                           laboratory Of Cad And Cg  \n",
       "44032      institute of Soil science and Plant nutrition  \n",
       "71319                St. Petersburg State Technical Univ  \n",
       "22168                     department de quimica Organica  \n",
       "48813       institute Of general And inorganic Chemistry  \n",
       "62658   laboratory physics theoretical L'ecl. Normale S.  \n",
       "45874                                clinical obstetrics  \n",
       "71915          ctra For mathematics And Computer Science  \n",
       "38114         school of computer science and Engineering  \n",
       "45637               Natl. academy Of Sciences Of Ukraine  \n",
       "82044                           mikrobiologie laboratory  \n",
       "84414           department of Food science andTechnology  \n",
       "30324                department Maladies Infectieuses P.  \n",
       "56271                       department Polymer chemistry  \n",
       "677                                       hopkins Bichat  \n",
       "27237        Natl. institute Livestock grassland science  \n",
       "37307                 Dpto. ingegneria de Comunicaciones  \n",
       "31400                           university Of Copenhagen  \n",
       "8716                         institute Vaktsin Syvorotok  \n",
       "50394                            department Microbiology  \n",
       "36472                          onkologie nauchnyj tsentr  \n",
       "19325     department of Materials Scienceand engineering  \n",
       "10827                              abteilung orthopaedic  \n",
       "11552                 department ingegneria Electrónica  \n",
       "34976                      department automation control  \n",
       "97192             department Civil Environmental Engrng.  \n",
       "38753           academy Of science Of The Czech Republic  \n",
       "81455        department Physical medicine Rehabilitation  \n",
       "97831          department Electronic science engineering  \n",
       "32728        department of microbiology and Biochemistry  \n",
       "56748  C. S. Azad University Of Agriculture And Techn...  \n",
       "69105                           department physiology II  \n",
       "22796              pacific Northwest National Laboratory  \n",
       "90842                           institute Virus research  \n",
       "54225                  university Of Southern California  \n",
       "69117               Natl. Academy Of Sciences Of Belarus  \n",
       "38306              istituto rice Farmacologiche Mario N.  \n",
       "86983    department of computer and information Sciences  \n",
       "16088        department of biochemistry and Microbiology  \n",
       "74292                                research laboratory  \n",
       "32539                       St. Lucas Andreas Ziekenhuis  \n",
       "97648                       Dagestan. medicine institute  \n",
       "34260                                   university Delhi  \n",
       "92879                        western Illinois university  \n",
       "35488                 department microbiology immunology  \n",
       "19121                                institute khirurgii  \n",
       "61280                    department Chemical Engineering  \n",
       "68215          department of biology and Environ.Science  "
      ]
     },
     "execution_count": 65,
     "metadata": {},
     "output_type": "execute_result"
    }
   ],
   "source": [
    "train_sample[train_sample.input.str.match(r'\\b\\w+\\.\\s')][['input', 'input_abbr_solved']].sample(50)"
   ]
  },
  {
   "cell_type": "markdown",
   "metadata": {},
   "source": [
    "### Pattern tagging"
   ]
  },
  {
   "cell_type": "code",
   "execution_count": 66,
   "metadata": {},
   "outputs": [],
   "source": [
    "pattern_tagger = make_pipeline(\n",
    "    WordSplitter(),\n",
    "    TokenTranslator(abbreviation_mapping_path),\n",
    "    WordListTagger(word2tag, 0, default_tag='^nf'),\n",
    ")\n",
    "pattern_tagger2 = make_pipeline(\n",
    "    WordSplitter(),\n",
    "    TokenTranslator('dicts/mle_abbreviation_mapping_from_ani_20190925.csv'),\n",
    "    WordListTagger(word2tag, 100, default_tag='^nf'),\n",
    ")"
   ]
  },
  {
   "cell_type": "code",
   "execution_count": 67,
   "metadata": {},
   "outputs": [],
   "source": [
    "train_sample['input_tagged'] = pattern_tagger.fit_transform(train_sample.input)\n",
    "train_sample['input_tagged2'] = pattern_tagger2.fit_transform(train_sample.input)"
   ]
  },
  {
   "cell_type": "code",
   "execution_count": 68,
   "metadata": {},
   "outputs": [
    {
     "data": {
      "text/plain": [
       "0.8429776422764228"
      ]
     },
     "execution_count": 68,
     "metadata": {},
     "output_type": "execute_result"
    }
   ],
   "source": [
    "(train_sample['input_tagged'] != train_sample['input_tagged2']).mean()"
   ]
  },
  {
   "cell_type": "code",
   "execution_count": 69,
   "metadata": {},
   "outputs": [
    {
     "data": {
      "text/html": [
       "<div>\n",
       "<style scoped>\n",
       "    .dataframe tbody tr th:only-of-type {\n",
       "        vertical-align: middle;\n",
       "    }\n",
       "\n",
       "    .dataframe tbody tr th {\n",
       "        vertical-align: top;\n",
       "    }\n",
       "\n",
       "    .dataframe thead th {\n",
       "        text-align: right;\n",
       "    }\n",
       "</style>\n",
       "<table border=\"1\" class=\"dataframe\">\n",
       "  <thead>\n",
       "    <tr style=\"text-align: right;\">\n",
       "      <th></th>\n",
       "      <th>input</th>\n",
       "      <th>input_tagged</th>\n",
       "      <th>input_tagged2</th>\n",
       "    </tr>\n",
       "  </thead>\n",
       "  <tbody>\n",
       "    <tr>\n",
       "      <th>17079</th>\n",
       "      <td>Wellcome Trust Genome Camp.</td>\n",
       "      <td>[^nf, ^cnT, ^sb, ^nf]</td>\n",
       "      <td>[^nf, ^cnT, ^sb, ^nf]</td>\n",
       "    </tr>\n",
       "    <tr>\n",
       "      <th>95932</th>\n",
       "      <td>Japanese Foundation For Cancer Research</td>\n",
       "      <td>[^nf, ^T, ^of, ^sb, ^cnS]</td>\n",
       "      <td>[^nf, foundation, for, cancer, research]</td>\n",
       "    </tr>\n",
       "    <tr>\n",
       "      <th>56454</th>\n",
       "      <td>Mt Sinai Hosp.</td>\n",
       "      <td>[^S, ^L, ^T]</td>\n",
       "      <td>[^S, ^L, hospital]</td>\n",
       "    </tr>\n",
       "    <tr>\n",
       "      <th>16542</th>\n",
       "      <td>Fakultät Für Architektur</td>\n",
       "      <td>[^nf, ^of, ^lf]</td>\n",
       "      <td>[^nf, für, ^lf]</td>\n",
       "    </tr>\n",
       "    <tr>\n",
       "      <th>20522</th>\n",
       "      <td>Université De Paris-sud</td>\n",
       "      <td>[^nf, ^of, ^nf]</td>\n",
       "      <td>[université, de, ^nf]</td>\n",
       "    </tr>\n",
       "    <tr>\n",
       "      <th>59718</th>\n",
       "      <td>Economics Department</td>\n",
       "      <td>[^S, ^T]</td>\n",
       "      <td>[^S, department]</td>\n",
       "    </tr>\n",
       "    <tr>\n",
       "      <th>35120</th>\n",
       "      <td>Hubei Univ. Of Technology</td>\n",
       "      <td>[^L, ^univ, ^of, ^cS]</td>\n",
       "      <td>[^L, university, of, technology]</td>\n",
       "    </tr>\n",
       "    <tr>\n",
       "      <th>51746</th>\n",
       "      <td>Department of Social Sciences</td>\n",
       "      <td>[^T, ^of, ^sb, ^S]</td>\n",
       "      <td>[department, of, ^sb, sciences]</td>\n",
       "    </tr>\n",
       "    <tr>\n",
       "      <th>83995</th>\n",
       "      <td>Amazon.com</td>\n",
       "      <td>[^lf]</td>\n",
       "      <td>[^lf]</td>\n",
       "    </tr>\n",
       "    <tr>\n",
       "      <th>66234</th>\n",
       "      <td>Tokyo Electron Ltd</td>\n",
       "      <td>[^L, ^S, ^cnT]</td>\n",
       "      <td>[^L, ^S, ^cnT]</td>\n",
       "    </tr>\n",
       "    <tr>\n",
       "      <th>50822</th>\n",
       "      <td>Hia Val De Grâce</td>\n",
       "      <td>[^nf, ^of, ^lf]</td>\n",
       "      <td>[^nf, de, ^lf]</td>\n",
       "    </tr>\n",
       "    <tr>\n",
       "      <th>33650</th>\n",
       "      <td>Institut Klinicheskoj Kardiologii</td>\n",
       "      <td>[^T, ^lf, ^nf]</td>\n",
       "      <td>[institut, ^lf, ^nf]</td>\n",
       "    </tr>\n",
       "    <tr>\n",
       "      <th>54567</th>\n",
       "      <td>Faculty Of Pharmaceutical Sciences</td>\n",
       "      <td>[^T, ^of, ^sb, ^S]</td>\n",
       "      <td>[faculty, of, ^sb, sciences]</td>\n",
       "    </tr>\n",
       "    <tr>\n",
       "      <th>26232</th>\n",
       "      <td>School of Business and Administration</td>\n",
       "      <td>[^T, ^of, ^S, ^and, ^S]</td>\n",
       "      <td>[school, of, business, and, ^S]</td>\n",
       "    </tr>\n",
       "    <tr>\n",
       "      <th>44371</th>\n",
       "      <td>Fair Isaac Corporation</td>\n",
       "      <td>[^nf, ^cnT]</td>\n",
       "      <td>[^nf, corporation]</td>\n",
       "    </tr>\n",
       "    <tr>\n",
       "      <th>18099</th>\n",
       "      <td>Brown Univ.</td>\n",
       "      <td>[^nf, ^univ]</td>\n",
       "      <td>[^nf, university]</td>\n",
       "    </tr>\n",
       "    <tr>\n",
       "      <th>19000</th>\n",
       "      <td>Faculdade De Medicina De Lisboa.</td>\n",
       "      <td>[^T, ^of, ^sb, ^of, ^lf]</td>\n",
       "      <td>[^T, de, ^sb, de, ^lf]</td>\n",
       "    </tr>\n",
       "    <tr>\n",
       "      <th>82121</th>\n",
       "      <td>The Furukawa Electric Co., Ltd.</td>\n",
       "      <td>[^sw, ^L, ^S, ^nf]</td>\n",
       "      <td>[the, ^L, ^S, ^nf, ltd.]</td>\n",
       "    </tr>\n",
       "    <tr>\n",
       "      <th>19480</th>\n",
       "      <td>Faculty Of Divinity</td>\n",
       "      <td>[^T, ^of, ^S]</td>\n",
       "      <td>[faculty, of, ^S]</td>\n",
       "    </tr>\n",
       "    <tr>\n",
       "      <th>86248</th>\n",
       "      <td>The Walton Centre</td>\n",
       "      <td>[^sw, ^L, ^T]</td>\n",
       "      <td>[the, ^L, centre]</td>\n",
       "    </tr>\n",
       "    <tr>\n",
       "      <th>23664</th>\n",
       "      <td>Forestry Canada</td>\n",
       "      <td>[^S, ^L]</td>\n",
       "      <td>[^S, ^L]</td>\n",
       "    </tr>\n",
       "    <tr>\n",
       "      <th>40932</th>\n",
       "      <td>Lcgc</td>\n",
       "      <td>[^lf]</td>\n",
       "      <td>[^lf]</td>\n",
       "    </tr>\n",
       "    <tr>\n",
       "      <th>96387</th>\n",
       "      <td>Lermat</td>\n",
       "      <td>[^lf]</td>\n",
       "      <td>[^lf]</td>\n",
       "    </tr>\n",
       "    <tr>\n",
       "      <th>36110</th>\n",
       "      <td>Ciesas</td>\n",
       "      <td>[^lf]</td>\n",
       "      <td>[^lf]</td>\n",
       "    </tr>\n",
       "    <tr>\n",
       "      <th>42980</th>\n",
       "      <td>Department of Haematological Medicine</td>\n",
       "      <td>[^T, ^of, ^S, ^cS]</td>\n",
       "      <td>[department, of, ^S, medicine]</td>\n",
       "    </tr>\n",
       "    <tr>\n",
       "      <th>88997</th>\n",
       "      <td>Daiichi Sankyo Co., Ltd</td>\n",
       "      <td>[^nf, ^cnT]</td>\n",
       "      <td>[^nf, ^cnT]</td>\n",
       "    </tr>\n",
       "    <tr>\n",
       "      <th>20308</th>\n",
       "      <td>Department of Psychology</td>\n",
       "      <td>[^T, ^of, ^S]</td>\n",
       "      <td>[department, of, ^S]</td>\n",
       "    </tr>\n",
       "    <tr>\n",
       "      <th>62053</th>\n",
       "      <td>National Tokyo Medical Center</td>\n",
       "      <td>[^S, ^L, ^sb, ^T]</td>\n",
       "      <td>[national, ^L, medical, center]</td>\n",
       "    </tr>\n",
       "    <tr>\n",
       "      <th>25215</th>\n",
       "      <td>Austrian Academy Of Sciences</td>\n",
       "      <td>[^nf, ^T, ^of, ^S]</td>\n",
       "      <td>[^nf, academy, of, sciences]</td>\n",
       "    </tr>\n",
       "    <tr>\n",
       "      <th>57599</th>\n",
       "      <td>Hydroqual Inc.</td>\n",
       "      <td>[^lf, ^nf]</td>\n",
       "      <td>[^lf, inc.]</td>\n",
       "    </tr>\n",
       "    <tr>\n",
       "      <th>22847</th>\n",
       "      <td>Childrens Hospital</td>\n",
       "      <td>[^mO, ^T]</td>\n",
       "      <td>[^mO, hospital]</td>\n",
       "    </tr>\n",
       "    <tr>\n",
       "      <th>56439</th>\n",
       "      <td>Sichuan Provincial Hospital</td>\n",
       "      <td>[^L, ^nf, ^T]</td>\n",
       "      <td>[^L, ^nf, hospital]</td>\n",
       "    </tr>\n",
       "    <tr>\n",
       "      <th>62724</th>\n",
       "      <td>Foundation Irccs Policlinico San Matteo</td>\n",
       "      <td>[^T, ^nf, ^S, ^nf]</td>\n",
       "      <td>[foundation, ^nf, ^S, ^nf]</td>\n",
       "    </tr>\n",
       "    <tr>\n",
       "      <th>60915</th>\n",
       "      <td>Pol. Acad. Sci.</td>\n",
       "      <td>[^nf, ^T, ^cS]</td>\n",
       "      <td>[^nf, academy, science]</td>\n",
       "    </tr>\n",
       "    <tr>\n",
       "      <th>60665</th>\n",
       "      <td>National Cancer Institute</td>\n",
       "      <td>[^S, ^sb, ^T]</td>\n",
       "      <td>[national, cancer, institute]</td>\n",
       "    </tr>\n",
       "    <tr>\n",
       "      <th>65671</th>\n",
       "      <td>Laboratoire D'electromyographie</td>\n",
       "      <td>[^T, ^lf]</td>\n",
       "      <td>[^T, ^lf]</td>\n",
       "    </tr>\n",
       "    <tr>\n",
       "      <th>12446</th>\n",
       "      <td>Paracelsus Medical University/salzburger Lande...</td>\n",
       "      <td>[^nf, ^sb, ^univ, ^nf, ^lf]</td>\n",
       "      <td>[^nf, medical, university, ^nf, ^lf]</td>\n",
       "    </tr>\n",
       "    <tr>\n",
       "      <th>22111</th>\n",
       "      <td>The Gertner Institute For Epidemiology And Hea...</td>\n",
       "      <td>[^sw, ^nf, ^T, ^of, ^S, ^and, ^sb, ^cnS]</td>\n",
       "      <td>[the, ^nf, institute, for, ^S, and, health, ^s...</td>\n",
       "    </tr>\n",
       "    <tr>\n",
       "      <th>60516</th>\n",
       "      <td>Academy Of Sciences Of The Ussr</td>\n",
       "      <td>[^T, ^of, ^S, ^of, ^sw, ^sbE]</td>\n",
       "      <td>[academy, of, sciences, of, the, ^sbE]</td>\n",
       "    </tr>\n",
       "    <tr>\n",
       "      <th>56634</th>\n",
       "      <td>Max-planck-inst. Eisenforsch. Gmbh</td>\n",
       "      <td>[^nf, ^cnT]</td>\n",
       "      <td>[^nf, ^cnT]</td>\n",
       "    </tr>\n",
       "    <tr>\n",
       "      <th>12943</th>\n",
       "      <td>Hlth Sci. Cent.</td>\n",
       "      <td>[^S, ^cS, ^T]</td>\n",
       "      <td>[^S, science, center]</td>\n",
       "    </tr>\n",
       "    <tr>\n",
       "      <th>73795</th>\n",
       "      <td>Departimento di Pediatria</td>\n",
       "      <td>[^nf, ^of, ^sb]</td>\n",
       "      <td>[^nf, di, ^sb]</td>\n",
       "    </tr>\n",
       "    <tr>\n",
       "      <th>47953</th>\n",
       "      <td>Electrical Engineering Dept.</td>\n",
       "      <td>[^sb, ^T]</td>\n",
       "      <td>[electrical, engineering, department]</td>\n",
       "    </tr>\n",
       "    <tr>\n",
       "      <th>3353</th>\n",
       "      <td>Ministry Of Transportation Ontario</td>\n",
       "      <td>[^T, ^of, ^S, ^L]</td>\n",
       "      <td>[^T, of, ^S, ^L]</td>\n",
       "    </tr>\n",
       "    <tr>\n",
       "      <th>20520</th>\n",
       "      <td>Russian Academy Of National Economy And Public...</td>\n",
       "      <td>[^L, ^T, ^of, ^S, ^and, ^sb, ^S]</td>\n",
       "      <td>[russian, academy, of, national, ^S, and, publ...</td>\n",
       "    </tr>\n",
       "    <tr>\n",
       "      <th>89670</th>\n",
       "      <td>Universidad Politécnica De Guanajuato</td>\n",
       "      <td>[^T, ^nf, ^of, ^lf]</td>\n",
       "      <td>[universidad, ^nf, de, ^lf]</td>\n",
       "    </tr>\n",
       "    <tr>\n",
       "      <th>90465</th>\n",
       "      <td>Biogen S.a.</td>\n",
       "      <td>[^nf]</td>\n",
       "      <td>[^nf]</td>\n",
       "    </tr>\n",
       "    <tr>\n",
       "      <th>2276</th>\n",
       "      <td>First Affiliated Hospital Of Xi'an Jiaotong Un...</td>\n",
       "      <td>[^nf, ^T, ^of, ^nf, ^univ, ^T, ^of, ^cS]</td>\n",
       "      <td>[^nf, hospital, of, ^nf, university, school, o...</td>\n",
       "    </tr>\n",
       "    <tr>\n",
       "      <th>98221</th>\n",
       "      <td>School of Physics</td>\n",
       "      <td>[^T, ^of, ^S]</td>\n",
       "      <td>[school, of, physics]</td>\n",
       "    </tr>\n",
       "    <tr>\n",
       "      <th>50127</th>\n",
       "      <td>Cleveland Veterans Administration Medical Center</td>\n",
       "      <td>[^L, ^sb, ^S, ^sb, ^T]</td>\n",
       "      <td>[^L, ^sb, ^S, medical, center]</td>\n",
       "    </tr>\n",
       "  </tbody>\n",
       "</table>\n",
       "</div>"
      ],
      "text/plain": [
       "                                                   input  \\\n",
       "17079                        Wellcome Trust Genome Camp.   \n",
       "95932            Japanese Foundation For Cancer Research   \n",
       "56454                                     Mt Sinai Hosp.   \n",
       "16542                           Fakultät Für Architektur   \n",
       "20522                            Université De Paris-sud   \n",
       "59718                               Economics Department   \n",
       "35120                          Hubei Univ. Of Technology   \n",
       "51746                      Department of Social Sciences   \n",
       "83995                                         Amazon.com   \n",
       "66234                                 Tokyo Electron Ltd   \n",
       "50822                                   Hia Val De Grâce   \n",
       "33650                  Institut Klinicheskoj Kardiologii   \n",
       "54567                 Faculty Of Pharmaceutical Sciences   \n",
       "26232              School of Business and Administration   \n",
       "44371                             Fair Isaac Corporation   \n",
       "18099                                        Brown Univ.   \n",
       "19000                   Faculdade De Medicina De Lisboa.   \n",
       "82121                    The Furukawa Electric Co., Ltd.   \n",
       "19480                                Faculty Of Divinity   \n",
       "86248                                  The Walton Centre   \n",
       "23664                                    Forestry Canada   \n",
       "40932                                               Lcgc   \n",
       "96387                                             Lermat   \n",
       "36110                                             Ciesas   \n",
       "42980              Department of Haematological Medicine   \n",
       "88997                            Daiichi Sankyo Co., Ltd   \n",
       "20308                           Department of Psychology   \n",
       "62053                      National Tokyo Medical Center   \n",
       "25215                       Austrian Academy Of Sciences   \n",
       "57599                                     Hydroqual Inc.   \n",
       "22847                                 Childrens Hospital   \n",
       "56439                        Sichuan Provincial Hospital   \n",
       "62724            Foundation Irccs Policlinico San Matteo   \n",
       "60915                                    Pol. Acad. Sci.   \n",
       "60665                          National Cancer Institute   \n",
       "65671                    Laboratoire D'electromyographie   \n",
       "12446  Paracelsus Medical University/salzburger Lande...   \n",
       "22111  The Gertner Institute For Epidemiology And Hea...   \n",
       "60516                    Academy Of Sciences Of The Ussr   \n",
       "56634                 Max-planck-inst. Eisenforsch. Gmbh   \n",
       "12943                                    Hlth Sci. Cent.   \n",
       "73795                          Departimento di Pediatria   \n",
       "47953                       Electrical Engineering Dept.   \n",
       "3353                  Ministry Of Transportation Ontario   \n",
       "20520  Russian Academy Of National Economy And Public...   \n",
       "89670              Universidad Politécnica De Guanajuato   \n",
       "90465                                        Biogen S.a.   \n",
       "2276   First Affiliated Hospital Of Xi'an Jiaotong Un...   \n",
       "98221                                  School of Physics   \n",
       "50127   Cleveland Veterans Administration Medical Center   \n",
       "\n",
       "                                   input_tagged  \\\n",
       "17079                     [^nf, ^cnT, ^sb, ^nf]   \n",
       "95932                 [^nf, ^T, ^of, ^sb, ^cnS]   \n",
       "56454                              [^S, ^L, ^T]   \n",
       "16542                           [^nf, ^of, ^lf]   \n",
       "20522                           [^nf, ^of, ^nf]   \n",
       "59718                                  [^S, ^T]   \n",
       "35120                     [^L, ^univ, ^of, ^cS]   \n",
       "51746                        [^T, ^of, ^sb, ^S]   \n",
       "83995                                     [^lf]   \n",
       "66234                            [^L, ^S, ^cnT]   \n",
       "50822                           [^nf, ^of, ^lf]   \n",
       "33650                            [^T, ^lf, ^nf]   \n",
       "54567                        [^T, ^of, ^sb, ^S]   \n",
       "26232                   [^T, ^of, ^S, ^and, ^S]   \n",
       "44371                               [^nf, ^cnT]   \n",
       "18099                              [^nf, ^univ]   \n",
       "19000                  [^T, ^of, ^sb, ^of, ^lf]   \n",
       "82121                        [^sw, ^L, ^S, ^nf]   \n",
       "19480                             [^T, ^of, ^S]   \n",
       "86248                             [^sw, ^L, ^T]   \n",
       "23664                                  [^S, ^L]   \n",
       "40932                                     [^lf]   \n",
       "96387                                     [^lf]   \n",
       "36110                                     [^lf]   \n",
       "42980                        [^T, ^of, ^S, ^cS]   \n",
       "88997                               [^nf, ^cnT]   \n",
       "20308                             [^T, ^of, ^S]   \n",
       "62053                         [^S, ^L, ^sb, ^T]   \n",
       "25215                        [^nf, ^T, ^of, ^S]   \n",
       "57599                                [^lf, ^nf]   \n",
       "22847                                 [^mO, ^T]   \n",
       "56439                             [^L, ^nf, ^T]   \n",
       "62724                        [^T, ^nf, ^S, ^nf]   \n",
       "60915                            [^nf, ^T, ^cS]   \n",
       "60665                             [^S, ^sb, ^T]   \n",
       "65671                                 [^T, ^lf]   \n",
       "12446               [^nf, ^sb, ^univ, ^nf, ^lf]   \n",
       "22111  [^sw, ^nf, ^T, ^of, ^S, ^and, ^sb, ^cnS]   \n",
       "60516             [^T, ^of, ^S, ^of, ^sw, ^sbE]   \n",
       "56634                               [^nf, ^cnT]   \n",
       "12943                             [^S, ^cS, ^T]   \n",
       "73795                           [^nf, ^of, ^sb]   \n",
       "47953                                 [^sb, ^T]   \n",
       "3353                          [^T, ^of, ^S, ^L]   \n",
       "20520          [^L, ^T, ^of, ^S, ^and, ^sb, ^S]   \n",
       "89670                       [^T, ^nf, ^of, ^lf]   \n",
       "90465                                     [^nf]   \n",
       "2276   [^nf, ^T, ^of, ^nf, ^univ, ^T, ^of, ^cS]   \n",
       "98221                             [^T, ^of, ^S]   \n",
       "50127                    [^L, ^sb, ^S, ^sb, ^T]   \n",
       "\n",
       "                                           input_tagged2  \n",
       "17079                              [^nf, ^cnT, ^sb, ^nf]  \n",
       "95932           [^nf, foundation, for, cancer, research]  \n",
       "56454                                 [^S, ^L, hospital]  \n",
       "16542                                    [^nf, für, ^lf]  \n",
       "20522                              [université, de, ^nf]  \n",
       "59718                                   [^S, department]  \n",
       "35120                   [^L, university, of, technology]  \n",
       "51746                    [department, of, ^sb, sciences]  \n",
       "83995                                              [^lf]  \n",
       "66234                                     [^L, ^S, ^cnT]  \n",
       "50822                                     [^nf, de, ^lf]  \n",
       "33650                               [institut, ^lf, ^nf]  \n",
       "54567                       [faculty, of, ^sb, sciences]  \n",
       "26232                    [school, of, business, and, ^S]  \n",
       "44371                                 [^nf, corporation]  \n",
       "18099                                  [^nf, university]  \n",
       "19000                             [^T, de, ^sb, de, ^lf]  \n",
       "82121                           [the, ^L, ^S, ^nf, ltd.]  \n",
       "19480                                  [faculty, of, ^S]  \n",
       "86248                                  [the, ^L, centre]  \n",
       "23664                                           [^S, ^L]  \n",
       "40932                                              [^lf]  \n",
       "96387                                              [^lf]  \n",
       "36110                                              [^lf]  \n",
       "42980                     [department, of, ^S, medicine]  \n",
       "88997                                        [^nf, ^cnT]  \n",
       "20308                               [department, of, ^S]  \n",
       "62053                    [national, ^L, medical, center]  \n",
       "25215                       [^nf, academy, of, sciences]  \n",
       "57599                                        [^lf, inc.]  \n",
       "22847                                    [^mO, hospital]  \n",
       "56439                                [^L, ^nf, hospital]  \n",
       "62724                         [foundation, ^nf, ^S, ^nf]  \n",
       "60915                            [^nf, academy, science]  \n",
       "60665                      [national, cancer, institute]  \n",
       "65671                                          [^T, ^lf]  \n",
       "12446               [^nf, medical, university, ^nf, ^lf]  \n",
       "22111  [the, ^nf, institute, for, ^S, and, health, ^s...  \n",
       "60516             [academy, of, sciences, of, the, ^sbE]  \n",
       "56634                                        [^nf, ^cnT]  \n",
       "12943                              [^S, science, center]  \n",
       "73795                                     [^nf, di, ^sb]  \n",
       "47953              [electrical, engineering, department]  \n",
       "3353                                    [^T, of, ^S, ^L]  \n",
       "20520  [russian, academy, of, national, ^S, and, publ...  \n",
       "89670                        [universidad, ^nf, de, ^lf]  \n",
       "90465                                              [^nf]  \n",
       "2276   [^nf, hospital, of, ^nf, university, school, o...  \n",
       "98221                              [school, of, physics]  \n",
       "50127                     [^L, ^sb, ^S, medical, center]  "
      ]
     },
     "execution_count": 69,
     "metadata": {},
     "output_type": "execute_result"
    }
   ],
   "source": [
    "train_sample[['input', 'input_tagged', 'input_tagged2']].sample(50)"
   ]
  },
  {
   "cell_type": "code",
   "execution_count": 70,
   "metadata": {
    "scrolled": true
   },
   "outputs": [
    {
     "data": {
      "text/plain": [
       "OrderedDict([('of', 31354),\n",
       "             ('university', 16260),\n",
       "             ('department', 13923),\n",
       "             ('and', 11552),\n",
       "             ('institute', 10333),\n",
       "             ('hospital', 8545),\n",
       "             ('research', 6994),\n",
       "             ('de', 6764),\n",
       "             ('for', 4481),\n",
       "             ('center', 4471),\n",
       "             ('college', 3887),\n",
       "             ('engineering', 3867),\n",
       "             ('medical', 3864),\n",
       "             ('sciences', 3787),\n",
       "             ('science', 3725),\n",
       "             ('medicine', 3721),\n",
       "             ('school', 3568),\n",
       "             ('technology', 3105),\n",
       "             ('national', 2703),\n",
       "             ('health', 2321),\n",
       "             ('the', 2195),\n",
       "             ('centre', 1963),\n",
       "             ('academy', 1880),\n",
       "             ('state', 1745),\n",
       "             ('laboratory', 1528),\n",
       "             ('chemistry', 1159),\n",
       "             ('inc.', 1146),\n",
       "             ('biology', 1133),\n",
       "             ('institut', 1045),\n",
       "             ('physics', 967),\n",
       "             ('faculty', 930),\n",
       "             ('di', 909),\n",
       "             ('division', 864),\n",
       "             ('surgery', 846),\n",
       "             ('general', 841),\n",
       "             ('corporation', 800),\n",
       "             ('molecular', 795),\n",
       "             ('cancer', 783),\n",
       "             ('materials', 742),\n",
       "             ('université', 700),\n",
       "             ('environmental', 696),\n",
       "             ('instituto', 656),\n",
       "             ('ltd.', 655),\n",
       "             ('electrical', 637),\n",
       "             ('univ', 637),\n",
       "             ('agricultural', 631),\n",
       "             ('central', 629),\n",
       "             ('computer', 627),\n",
       "             ('clinical', 621),\n",
       "             ('la', 620),\n",
       "             ('universidad', 619),\n",
       "             ('international', 613),\n",
       "             ('information', 611),\n",
       "             ('chemical', 591),\n",
       "             ('foundation', 581),\n",
       "             ('departamento', 578),\n",
       "             ('für', 566),\n",
       "             ('abteilung', 554),\n",
       "             ('systems', 553),\n",
       "             ('biochemistry', 548),\n",
       "             ('&', 536),\n",
       "             ('education', 533),\n",
       "             ('st.', 524),\n",
       "             ('applied', 517),\n",
       "             ('federal', 513),\n",
       "             ('new', 511),\n",
       "             ('public', 505),\n",
       "             (\"children's\", 503),\n",
       "             ('studies', 498),\n",
       "             ('development', 476),\n",
       "             ('des', 474),\n",
       "             ('veterinary', 473),\n",
       "             ('et', 466),\n",
       "             ('graduate', 465),\n",
       "             ('mechanical', 453),\n",
       "             ('service', 452),\n",
       "             ('in', 450),\n",
       "             ('pathology', 447),\n",
       "             ('royal', 426),\n",
       "             ('russian', 426),\n",
       "             ('management', 426),\n",
       "             ('technical', 425),\n",
       "             ('i', 424),\n",
       "             ('universidade', 416),\n",
       "             ('energy', 411),\n",
       "             ('nuclear', 409),\n",
       "             ('nacional', 402),\n",
       "             ('mathematics', 401),\n",
       "             ('-', 400),\n",
       "             ('china', 394),\n",
       "             ('centro', 393),\n",
       "             ('agriculture', 392),\n",
       "             ('genetics', 391),\n",
       "             ('at', 391),\n",
       "             ('city', 389),\n",
       "             ('food', 386),\n",
       "             ('y', 385),\n",
       "             ('chinese', 384),\n",
       "             ('business', 381),\n",
       "             ('california', 379)])"
      ]
     },
     "execution_count": 70,
     "metadata": {},
     "output_type": "execute_result"
    }
   ],
   "source": [
    "pattern_tagger2.steps[2][1].top_freq_words"
   ]
  },
  {
   "cell_type": "code",
   "execution_count": 71,
   "metadata": {},
   "outputs": [],
   "source": [
    "top_level_tagger = WordListTagger(top_level_word_map, 0, default_tag='other')"
   ]
  },
  {
   "cell_type": "code",
   "execution_count": 72,
   "metadata": {},
   "outputs": [],
   "source": [
    "train_sample['input_top_lvl_tagged'] = top_level_tagger.fit_transform(train_sample.input)"
   ]
  },
  {
   "cell_type": "code",
   "execution_count": 73,
   "metadata": {},
   "outputs": [
    {
     "data": {
      "text/html": [
       "<div>\n",
       "<style scoped>\n",
       "    .dataframe tbody tr th:only-of-type {\n",
       "        vertical-align: middle;\n",
       "    }\n",
       "\n",
       "    .dataframe tbody tr th {\n",
       "        vertical-align: top;\n",
       "    }\n",
       "\n",
       "    .dataframe thead th {\n",
       "        text-align: right;\n",
       "    }\n",
       "</style>\n",
       "<table border=\"1\" class=\"dataframe\">\n",
       "  <thead>\n",
       "    <tr style=\"text-align: right;\">\n",
       "      <th></th>\n",
       "      <th>input</th>\n",
       "      <th>input_top_lvl_tagged</th>\n",
       "    </tr>\n",
       "  </thead>\n",
       "  <tbody>\n",
       "    <tr>\n",
       "      <th>26264</th>\n",
       "      <td>Max-planck-institut Für Tierzucht Und Tierernä...</td>\n",
       "      <td>[other, ^top, other]</td>\n",
       "    </tr>\n",
       "    <tr>\n",
       "      <th>13609</th>\n",
       "      <td>Institut fur Physikalische Chemie</td>\n",
       "      <td>[^top, other]</td>\n",
       "    </tr>\n",
       "    <tr>\n",
       "      <th>11839</th>\n",
       "      <td>Council Of Labor Affairs</td>\n",
       "      <td>[other]</td>\n",
       "    </tr>\n",
       "    <tr>\n",
       "      <th>66393</th>\n",
       "      <td>Hospital General La Mancha-centro</td>\n",
       "      <td>[^top, other]</td>\n",
       "    </tr>\n",
       "    <tr>\n",
       "      <th>41908</th>\n",
       "      <td>Departments of Neurological Sciences</td>\n",
       "      <td>[other]</td>\n",
       "    </tr>\n",
       "    <tr>\n",
       "      <th>58711</th>\n",
       "      <td>Inst. of Biosciences and Technology</td>\n",
       "      <td>[other]</td>\n",
       "    </tr>\n",
       "    <tr>\n",
       "      <th>63551</th>\n",
       "      <td>Depts. Pathol.</td>\n",
       "      <td>[other]</td>\n",
       "    </tr>\n",
       "    <tr>\n",
       "      <th>88680</th>\n",
       "      <td>Hospital De Mataro</td>\n",
       "      <td>[^top, other]</td>\n",
       "    </tr>\n",
       "    <tr>\n",
       "      <th>23173</th>\n",
       "      <td>Pennsylvania Coll. Of Podiatric Med.</td>\n",
       "      <td>[other]</td>\n",
       "    </tr>\n",
       "    <tr>\n",
       "      <th>70069</th>\n",
       "      <td>Biology Centre Ascr</td>\n",
       "      <td>[other, ^top, other]</td>\n",
       "    </tr>\n",
       "  </tbody>\n",
       "</table>\n",
       "</div>"
      ],
      "text/plain": [
       "                                                   input  input_top_lvl_tagged\n",
       "26264  Max-planck-institut Für Tierzucht Und Tierernä...  [other, ^top, other]\n",
       "13609                  Institut fur Physikalische Chemie         [^top, other]\n",
       "11839                           Council Of Labor Affairs               [other]\n",
       "66393                  Hospital General La Mancha-centro         [^top, other]\n",
       "41908               Departments of Neurological Sciences               [other]\n",
       "58711                Inst. of Biosciences and Technology               [other]\n",
       "63551                                     Depts. Pathol.               [other]\n",
       "88680                                 Hospital De Mataro         [^top, other]\n",
       "23173               Pennsylvania Coll. Of Podiatric Med.               [other]\n",
       "70069                                Biology Centre Ascr  [other, ^top, other]"
      ]
     },
     "execution_count": 73,
     "metadata": {},
     "output_type": "execute_result"
    }
   ],
   "source": [
    "train_sample[['input', 'input_top_lvl_tagged']].sample(10)"
   ]
  },
  {
   "cell_type": "markdown",
   "metadata": {},
   "source": [
    "## Examining feaures"
   ]
  },
  {
   "cell_type": "code",
   "execution_count": 74,
   "metadata": {},
   "outputs": [
    {
     "data": {
      "text/plain": [
       "array([array([  2.,  20.,  26.,  33.,  41., 140.]),\n",
       "       array([ 1.,  3.,  4.,  5., 19.]), array([0., 1.]),\n",
       "       array([1.0000e+00, 6.5600e+02, 6.7640e+03, 1.1552e+04, 3.1354e+04]),\n",
       "       array([3.33333333e-01, 2.16500000e+02, 1.84800000e+03, 3.53600000e+03,\n",
       "       7.28085714e+03, 1.51640000e+04])], dtype=object)"
      ]
     },
     "execution_count": 74,
     "metadata": {},
     "output_type": "execute_result"
    }
   ],
   "source": [
    "discretizer.bin_edges_"
   ]
  },
  {
   "cell_type": "code",
   "execution_count": 75,
   "metadata": {},
   "outputs": [
    {
     "data": {
      "text/plain": [
       "{'^nf': 12,\n",
       " '^mO': 11,\n",
       " '^T': 2,\n",
       " '^of': 13,\n",
       " '^L': 0,\n",
       " '^sb': 14,\n",
       " '^S': 1,\n",
       " '^lf': 10,\n",
       " '^and': 3,\n",
       " '^cnT': 7,\n",
       " '^univ': 17,\n",
       " '^cnS': 6,\n",
       " '^sw': 16,\n",
       " '^cS': 4,\n",
       " '^sbE': 15,\n",
       " '^in': 9,\n",
       " '^e': 8,\n",
       " '^cn': 5}"
      ]
     },
     "execution_count": 75,
     "metadata": {},
     "output_type": "execute_result"
    }
   ],
   "source": [
    "ngram_pattern_vectorizer.vocabulary_"
   ]
  },
  {
   "cell_type": "code",
   "execution_count": 76,
   "metadata": {
    "scrolled": false
   },
   "outputs": [
    {
     "data": {
      "text/plain": [
       "{'^T_^of_^sb_^S_^lf': 215,\n",
       " '^nf_^lf': 387,\n",
       " '^T_^nf': 150,\n",
       " '^T_^of_^sb_^and_^sb': 223,\n",
       " '^T_^S': 121,\n",
       " '^lf': 261,\n",
       " '^lf_^cnT': 290,\n",
       " '^nf_^S': 340,\n",
       " '^nf': 329,\n",
       " '^univ_^of_^L_^sb_^T': 526,\n",
       " '^univ_^of_^L_^nf': 525,\n",
       " '^nf_^S_^lf': 344,\n",
       " '^sb_^T_^S': 458,\n",
       " '^nf_^univ_^nf': 439,\n",
       " '^sb_^and_^sb_^T': 466,\n",
       " '^T_^of_^S': 162,\n",
       " '^L_^T': 10,\n",
       " '^univ_^nf_^sw_^nf_^lf': 517,\n",
       " '^S_^nf_^T': 103,\n",
       " '^nf_^T_^of_^sb_^S': 372,\n",
       " '^L_^T_^of_^cS': 15,\n",
       " '^univ_^of_^L': 519,\n",
       " '^nf_^lf_^T_^of_^S': 390,\n",
       " '^lf_^mO_^T': 291,\n",
       " '^S_^sb_^T': 112,\n",
       " '^lf_^univ_^of_^L': 317,\n",
       " '^L_^nf': 32,\n",
       " '^nf_^univ': 434,\n",
       " '^lf_^T': 272,\n",
       " '^T_^sb': 243,\n",
       " '^sb_^S_^T': 452,\n",
       " '^nf_^T_^of_^cS': 366,\n",
       " '^L_^univ': 57,\n",
       " '^L_^nf_^lf_^T': 41,\n",
       " '^nf_^sb_^S': 414,\n",
       " '^sb_^univ': 483,\n",
       " '^S_^T': 76,\n",
       " '^S_^T_^lf': 79,\n",
       " '^T_^of_^sb_^S': 212,\n",
       " '^S_^cS_^T': 93,\n",
       " '^nf_^T_^of_^S': 362,\n",
       " '^T_^of_^S_^nf': 176,\n",
       " '^sb_^nf_^T': 480,\n",
       " '^T_^of_^sb': 211,\n",
       " '^univ_^T_^of_^S': 507,\n",
       " '^L_^nf_^cnT': 40,\n",
       " '^sb_^S_^sb_^T': 455,\n",
       " '^T_^nf_^of_^nf': 158,\n",
       " '^T_^of_^cS_^and_^cS': 189,\n",
       " '^lf_^nf': 292,\n",
       " '^T_^nf_^S': 152,\n",
       " '^S_^nf': 101,\n",
       " '^L_^T_^of_^S': 11,\n",
       " '^sb_^T': 456,\n",
       " '^T_^lf_^and_^lf': 146,\n",
       " '^lf_^univ': 315,\n",
       " '^nf_^L': 330,\n",
       " '^T_^of_^lf': 195,\n",
       " '^nf_^cnS_^nf': 385,\n",
       " '^T_^of_^cS': 186,\n",
       " '^T_^of_^sb_^cS_^and_^cS': 230,\n",
       " '^T_^sb_^S': 244,\n",
       " '^T_^of_^S_^and_^S': 164,\n",
       " '^nf_^T': 351,\n",
       " '^sb_^lf_^T': 477,\n",
       " '^nf_^univ_^of_^S': 441,\n",
       " '^T_^nf_^of_^lf': 157,\n",
       " '^sb_^univ_^of_^L': 484,\n",
       " '^lf_^sb_^T': 309,\n",
       " '^L_^sb_^cS_^T': 53,\n",
       " '^T_^sb_^cS': 247,\n",
       " '^nf_^of_^S': 402,\n",
       " '^univ_^nf_^L': 512,\n",
       " '^nf_^cS': 380,\n",
       " '^T_^of_^sb_^and_^S': 217,\n",
       " '^nf_^sb': 413,\n",
       " '^T_^of_^S_^lf': 175,\n",
       " '^lf_^nf_^T': 294,\n",
       " '^nf_^sb_^cnS_^T': 423,\n",
       " '^univ_^of_^nf_^S': 538,\n",
       " '^T_^of_^sb_^and_^lf': 222,\n",
       " '^T_^of_^nf_^S': 205,\n",
       " '^T_^of_^S_^and_^sb': 170,\n",
       " '^lf_^cnS_^T': 287,\n",
       " '^nf_^sb_^T': 417,\n",
       " '^mO_^T_^of_^sb_^S': 325,\n",
       " '^L_^nf_^univ': 45,\n",
       " '^lf_^T_^of_^cS': 275,\n",
       " '^univ_^of_^lf': 534,\n",
       " '^nf_^S_^T': 341,\n",
       " '^T_^of_^sb_^cS': 227,\n",
       " '^univ_^of_^S': 528,\n",
       " '^T_^of_^sb_^and_^sb_^cS': 225,\n",
       " '^nf_^T_^of_^sb_^cS': 374,\n",
       " '^L_^S_^nf': 6,\n",
       " '^T_^of_^sb_^cS_^nf': 233,\n",
       " '^sw_^L_^T': 486,\n",
       " '^nf_^univ_^sb_^T': 447,\n",
       " '^T_^of_^lf_^and_^lf': 198,\n",
       " '^T_^of_^S_^cS': 173,\n",
       " '^T_^S_^and_^sb_^cS': 126,\n",
       " '^T_^cS': 139,\n",
       " '^T_^lf_^S': 144,\n",
       " '^univ_^nf_^of_^L': 514,\n",
       " '^T_^of_^nf': 204,\n",
       " '^nf_^lf_^T': 389,\n",
       " '^lf_^S': 266,\n",
       " '^L_^S_^T': 2,\n",
       " '^nf_^univ_^L': 435,\n",
       " '^nf_^T_^of_^nf': 369,\n",
       " '^T_^lf': 143,\n",
       " '^nf_^of_^nf': 407,\n",
       " '^univ_^T_^nf': 505,\n",
       " '^nf_^sb_^S_^nf': 416,\n",
       " '^univ_^of_^nf': 536,\n",
       " '^nf_^T_^of_^S_^nf': 364,\n",
       " '^T_^of_^S_^of_^sw_^L_^nf': 180,\n",
       " '^nf_^T_^of_^sb': 371,\n",
       " '^univ_^of_^nf_^L': 537,\n",
       " '^L_^lf_^T': 27,\n",
       " '^lf_^and_^nf': 283,\n",
       " '^lf_^sb_^cnS_^T': 310,\n",
       " '^T_^of_^L': 161,\n",
       " '^T_^of_^nf_^cS': 208,\n",
       " '^nf_^of_^L': 399,\n",
       " '^sb_^cS_^T': 469,\n",
       " '^lf_^T_^of_^sb_^S': 278,\n",
       " '^T_^of_^sb_^and_^S_^cS': 218,\n",
       " '^nf_^L_^cnT': 333,\n",
       " '^T_^of_^lf_^sb': 202,\n",
       " '^nf_^cnT': 386,\n",
       " '^nf_^L_^nf': 335,\n",
       " '^S_^T_^of_^S': 81,\n",
       " '^T_^lf_^nf': 148,\n",
       " '^S_^T_^S': 78,\n",
       " '^sw_^univ': 497,\n",
       " '^L_^T_^of_^sb': 18,\n",
       " '^nf_^L_^T': 332,\n",
       " '^nf_^T_^of_^lf': 368,\n",
       " '^nf_^sw_^nf': 433,\n",
       " '^nf_^univ_^T': 436,\n",
       " '^lf_^nf_^cnT': 296,\n",
       " '^L_^univ_^of_^sb_^cS': 66,\n",
       " '^L_^nf_^cnS_^T': 39,\n",
       " '^L_^sb_^S': 49,\n",
       " '^L_^univ_^of_^cS': 63,\n",
       " '^T_^of_^sb_^and_^sb_^cnS': 226,\n",
       " '^T_^nf_^S_^cS': 153,\n",
       " '^T_^sb_^nf': 250,\n",
       " '^nf_^S_^nf': 345,\n",
       " '^T_^of_^sb_^and_^cS': 220,\n",
       " '^univ_^of_^L_^S': 520,\n",
       " '^sb_^and_^sb': 463,\n",
       " '^univ_^of': 518,\n",
       " '^L_^sb_^T': 51,\n",
       " '^nf_^lf_^sb_^T': 396,\n",
       " '^nf_^of_^lf': 406,\n",
       " '^nf_^T_^of_^L': 359,\n",
       " '^S': 68,\n",
       " '^lf_^nf_^univ': 301,\n",
       " '^nf_^T_^L': 352,\n",
       " '^T_^lf_^sb': 149,\n",
       " '^T_^of_^sb_^and_^S_^sb': 219,\n",
       " '^S_^T_^of_^sb_^cS': 88,\n",
       " '^L_^sb_^T_^and_^T': 52,\n",
       " '^T_^nf_^cS': 154,\n",
       " '^L_^univ_^sb_^T': 67,\n",
       " '^sw_^nf_^T': 492,\n",
       " '^nf_^S_^univ': 350,\n",
       " '^L_^T_^of_^sb_^S': 19,\n",
       " '^L_^lf_^nf': 29,\n",
       " '^nf_^lf_^univ': 397,\n",
       " '^L_^cnS_^T': 24,\n",
       " '^univ_^of_^nf_^lf': 539,\n",
       " '^nf_^lf_^nf': 393,\n",
       " '^lf_^T_^of_^S': 274,\n",
       " '^univ_^of_^S_^L': 529,\n",
       " '^S_^T_^of_^sb': 86,\n",
       " '^sw_^S_^T': 487,\n",
       " '^L_^univ_^T': 58,\n",
       " '^S_^and_^sb_^T': 92,\n",
       " '^T_^of_^sb_^S_^and_^S': 213,\n",
       " '^cnS_^T_^of_^sb_^cS': 259,\n",
       " '^T_^of_^cS_^and_^sb': 190,\n",
       " '^T_^of_^nf_^lf': 209,\n",
       " '^univ_^nf_^sw_^nf': 516,\n",
       " '^lf_^T_^of_^sb_^cS': 280,\n",
       " '^L_^S_^nf_^T': 7,\n",
       " '^T_^S_^of_^lf': 133,\n",
       " '^univ_^of_^lf_^nf': 535,\n",
       " '^T_^of_^S_^sb': 183,\n",
       " '^L_^nf_^T': 34,\n",
       " '^S_^T_^of_^sb_^cnS': 89,\n",
       " '^sb_^cS': 468,\n",
       " '^univ_^sb_^T': 543,\n",
       " '^T_^of_^cS_^S': 187,\n",
       " '^T_^nf_^of_^L': 156,\n",
       " '^L_^T_^of_^sb_^cnS': 21,\n",
       " '^T_^of_^cS_^nf': 193,\n",
       " '^S_^nf_^univ': 108,\n",
       " '^T_^of_^sw_^nf': 242,\n",
       " '^nf_^T_^cS': 355,\n",
       " '^L_^T_^of_^sb_^cS': 20,\n",
       " '^cnS_^T_^of_^S': 257,\n",
       " '^nf_^and_^nf': 379,\n",
       " '^L_^sb_^univ': 56,\n",
       " '^T_^nf_^lf': 155,\n",
       " '^lf_^T_^of_^sb': 277,\n",
       " '^univ_^nf': 511,\n",
       " '^sb_^lf': 476,\n",
       " '^T_^S_^cS': 127,\n",
       " '^L_^univ_^of_^sb_^S': 65,\n",
       " '^T_^of_^lf_^S': 196,\n",
       " '^T_^of_^sb_^cS_^S': 228,\n",
       " '^nf_^univ_^of_^cS': 442,\n",
       " '^S_^and_^S_^T': 91,\n",
       " '^L_^lf': 26,\n",
       " '^lf_^sw': 314,\n",
       " '^lf_^nf_^lf': 297,\n",
       " '^L': 0,\n",
       " '^lf_^cnS': 286,\n",
       " '^nf_^T_^of_^S_^of_^L': 365,\n",
       " '^univ_^T_^of_^L': 506,\n",
       " '^cnS_^T': 256,\n",
       " '^sb_^cnS_^T': 474,\n",
       " '^T_^nf_^L': 151,\n",
       " '^T_^of_^cS_^lf': 192,\n",
       " '^T_^of_^sb_^cS_^and_^sb': 231,\n",
       " '^sb_^cS_^and_^sb_^T': 470,\n",
       " '^T_^of_^sb_^cnS': 235,\n",
       " '^nf_^T_^nf': 358,\n",
       " '^T_^sw_^S': 251,\n",
       " '^sb_^nf_^cnS_^T': 481,\n",
       " '^nf_^sb_^T_^and_^T': 418,\n",
       " '^T_^of_^nf_^and_^nf': 207,\n",
       " '^T_^of_^S_^and_^sb_^cS': 172,\n",
       " '^univ_^of_^sb_^S': 540,\n",
       " '^S_^lf': 98,\n",
       " '^nf_^of_^sb_^S': 411,\n",
       " '^lf_^L': 262,\n",
       " '^mO_^T_^of_^S': 322,\n",
       " '^lf_^nf_^S': 293,\n",
       " '^univ_^of_^L_^T_^of_^cS': 523,\n",
       " '^T_^cS_^sb': 142,\n",
       " '^T_^nf_^sb': 159,\n",
       " '^univ_^L': 499,\n",
       " '^cS_^T': 254,\n",
       " '^nf_^sb_^univ': 428,\n",
       " '^L_^cnT': 25,\n",
       " '^univ_^S': 501,\n",
       " '^nf_^T_^of_^L_^nf': 360,\n",
       " '^nf_^cnS_^T': 383,\n",
       " '^T_^sw_^lf': 252,\n",
       " '^T': 119,\n",
       " '^T_^of_^sb_^lf': 236,\n",
       " '^lf_^cnS_^nf': 289,\n",
       " '^L_^sb_^cnS_^T': 54,\n",
       " '^T_^of_^sb_^nf': 238,\n",
       " '^S_^lf_^T': 99,\n",
       " '^S_^T_^of_^nf': 85,\n",
       " '^mO_^univ_^of_^L': 328,\n",
       " '^T_^of_^sb_^and_^cnS_^sb': 221,\n",
       " '^cn': 255,\n",
       " '^lf_^sb_^nf': 312,\n",
       " '^L_^nf_^T_^of_^cS': 36,\n",
       " '^L_^sb_^S_^T': 50,\n",
       " '^nf_^univ_^of_^nf': 445,\n",
       " '^S_^univ_^L': 117,\n",
       " '^sb_^lf_^nf': 478,\n",
       " '^T_^of_^sb_^and_^sb_^S': 224,\n",
       " '^T_^of_^cS_^of_^sw_^L_^sbE': 194,\n",
       " '^lf_^univ_^of_^sb_^S': 320,\n",
       " '^T_^of_^sb_^nf_^lf': 240,\n",
       " '^sb_^nf_^of_^L': 482,\n",
       " '^L_^nf_^univ_^T_^of_^cS': 46,\n",
       " '^nf_^mO_^T': 398,\n",
       " '^T_^of_^S_^of_^sw_^sbE': 182,\n",
       " '^L_^nf_^S_^T': 33,\n",
       " '^L_^S_^cnT': 5,\n",
       " '^nf_^sb_^lf': 425,\n",
       " '^L_^nf_^sb_^univ': 44,\n",
       " '^lf_^S_^T': 267,\n",
       " '^univ_^nf_^lf': 513,\n",
       " '^nf_^of_^cS': 405,\n",
       " '^T_^of_^sb_^cS_^and_^S': 229,\n",
       " '^T_^of_^nf_^sb': 210,\n",
       " '^univ_^L_^nf': 500,\n",
       " '^S_^L_^of_^S_^nf': 73,\n",
       " '^T_^of_^lf_^nf': 201,\n",
       " '^T_^of_^S_^and_^sb_^S': 171,\n",
       " '^nf_^sb_^sbE': 427,\n",
       " '^T_^of_^S_^and_^lf': 168,\n",
       " '^T_^lf_^cS': 147,\n",
       " '^L_^univ_^of_^cS_^and_^cS': 64,\n",
       " '^T_^S_^nf': 129,\n",
       " '^T_^of_^S_^cnS': 174,\n",
       " '^sb_^cnS_^nf': 475,\n",
       " '^lf_^S_^cnT': 269,\n",
       " '^L_^S_^univ': 9,\n",
       " '^L_^S': 1,\n",
       " '^univ_^T_^of_^nf': 509,\n",
       " '^nf_^lf_^nf_^univ': 395,\n",
       " '^L_^mO_^T': 31,\n",
       " '^nf_^S_^sb_^T': 348,\n",
       " '^L_^T_^of_^S_^sb_^and_^sb': 14,\n",
       " '^S_^cnS_^nf': 95,\n",
       " '^sb_^and_^sb_^cS_^T': 467,\n",
       " '^nf_^univ_^of_^L': 440,\n",
       " '^T_^S_^and_^S': 123,\n",
       " '^lf_^L_^nf': 264,\n",
       " '^S_^cnT': 97,\n",
       " '^T_^S_^of_^S_^nf': 132,\n",
       " '^sb_^S': 451,\n",
       " '^mO_^T_^of_^lf': 324,\n",
       " '^lf_^nf_^sb_^T': 299,\n",
       " '^sb_^nf': 479,\n",
       " '^L_^univ_^T_^of_^cS': 61,\n",
       " '^nf_^sb_^nf': 426,\n",
       " '^lf_^S_^nf': 270,\n",
       " '^univ_^of_^L_^lf': 524,\n",
       " '^lf_^of_^S': 303,\n",
       " '^nf_^sb_^cS_^T': 421,\n",
       " '^L_^nf_^sb_^T': 43,\n",
       " '^S_^T_^of_^cS_^lf': 84,\n",
       " '^nf_^L_^S': 331,\n",
       " '^sw_^univ_^of_^L': 498,\n",
       " '^nf_^of_^L_^S': 400,\n",
       " '^T_^S_^of_^L': 130,\n",
       " '^nf_^S_^nf_^cnT': 347,\n",
       " '^nf_^T_^lf': 357,\n",
       " '^nf_^S_^cnT': 343,\n",
       " '^T_^sb_^and_^sb_^cS': 246,\n",
       " '^nf_^T_^of_^L_^sb_^univ': 361,\n",
       " '^sb': 448,\n",
       " '^L_^nf_^and_^cnS_^T': 38,\n",
       " '^nf_^T_^of_^sb_^cnS': 375,\n",
       " '^L_^T_^of_^cS_^and_^cS': 16,\n",
       " '^S_^cnS_^T': 94,\n",
       " '^nf_^L_^nf_^univ': 337,\n",
       " '^S_^L_^T': 70,\n",
       " '^lf_^L_^univ': 265,\n",
       " '^L_^lf_^univ': 30,\n",
       " '^L_^nf_^univ_^sb_^T': 47,\n",
       " '^S_^univ': 116,\n",
       " '^nf_^L_^univ': 339,\n",
       " '^nf_^lf_^S': 388,\n",
       " '^T_^S_^and_^sb': 124,\n",
       " '^nf_^lf_^cnT': 392,\n",
       " '^mO_^T': 321,\n",
       " '^S_^univ_^of_^L': 118,\n",
       " '^sw_^nf_^T_^of_^S': 494,\n",
       " '^sb_^T_^nf': 460,\n",
       " '^S_^T_^of_^cS': 83,\n",
       " '^nf_^T_^of_^sw_^L_^T_^of_^S': 377,\n",
       " '^sb_^T_^L': 457,\n",
       " '^nf_^sw_^lf': 432,\n",
       " '^nf_^sw_^S': 430,\n",
       " '^nf_^T_^of_^S_^and_^S': 363,\n",
       " '^nf_^univ_^lf': 438,\n",
       " '^T_^of_^S_^of_^L': 178,\n",
       " '^L_^nf_^mO_^T': 42,\n",
       " '^nf_^T_^of_^sb_^lf': 376,\n",
       " '^L_^sb_^nf': 55,\n",
       " '^univ_^T_^L': 503,\n",
       " '^T_^of_^lf_^cS': 200,\n",
       " '^lf_^sb_^S': 308,\n",
       " '^L_^T_^of_^nf': 17,\n",
       " '^S_^nf_^cnS_^T': 104,\n",
       " '^nf_^cnS_^cnT': 384,\n",
       " '^T_^of_^S_^and_^cS_^sb': 167,\n",
       " '^T_^S_^sb': 136,\n",
       " '^lf_^univ_^of_^cS': 318,\n",
       " '^nf_^S_^cnS_^T': 342,\n",
       " '^univ_^T': 502,\n",
       " '^univ_^T_^lf': 504,\n",
       " '^nf_^sb_^cnT': 424,\n",
       " '^lf_^cS': 284,\n",
       " '^nf_^lf_^nf_^T': 394,\n",
       " '^nf_^univ_^T_^of_^cS': 437,\n",
       " '^T_^S_^of_^sw_^nf': 135,\n",
       " '^univ_^lf': 510,\n",
       " '^nf_^T_^S': 353,\n",
       " '^lf_^univ_^T': 316,\n",
       " '^nf_^of_^L_^nf': 401,\n",
       " '^T_^of_^sb_^S_^and_^sb': 214,\n",
       " '^lf_^sb': 307,\n",
       " '^L_^S_^T_^of_^cS': 3,\n",
       " '^nf_^L_^lf': 334,\n",
       " '^S_^and_^S': 90,\n",
       " '^cnS_^T_^of_^sb_^S': 258,\n",
       " '^T_^S_^lf': 128,\n",
       " '^nf_^L_^nf_^T': 336,\n",
       " '^L_^univ_^of_^S': 62,\n",
       " '^sw': 485,\n",
       " '^sb_^T_^of_^L': 461,\n",
       " '^univ_^of_^S_^sb_^T': 531,\n",
       " '^nf_^of_^S_^and_^S': 403,\n",
       " '^S_^sb_^nf': 114,\n",
       " '^univ_^nf_^of_^nf': 515,\n",
       " '^nf_^univ_^of_^cS_^and_^cS': 443,\n",
       " '^nf_^T_^cnT': 356,\n",
       " '^S_^T_^of_^sb_^S': 87,\n",
       " '^S_^L_^univ': 75,\n",
       " '^univ_^of_^cS': 533,\n",
       " '^sw_^lf_^T': 489,\n",
       " '^nf_^of_^sb_^cS': 412,\n",
       " '^L_^S_^cnS_^T': 4,\n",
       " '^nf_^cnS': 382,\n",
       " '^T_^cS_^S': 140,\n",
       " '^T_^of_^sb_^nf_^S': 239,\n",
       " '^lf_^nf_^sb_^univ': 300,\n",
       " '^T_^of_^lf_^and_^S': 197,\n",
       " '^S_^T_^of_^S_^of_^L': 82,\n",
       " '^nf_^S_^sw_^nf': 349,\n",
       " '^nf_^sb_^cnS': 422,\n",
       " '^T_^of_^cS_^and_^S': 188,\n",
       " '^nf_^T_^sb_^cS': 378,\n",
       " '^T_^of_^sb_^S_^nf': 216,\n",
       " '^lf_^S_^univ': 271,\n",
       " '^T_^L': 120,\n",
       " '^T_^of_^S_^sw': 185,\n",
       " '^sbE_^T_^of_^S': 450,\n",
       " '^lf_^cS_^T': 285,\n",
       " '^sb_^and_^sb_^S_^T': 465,\n",
       " '^sb_^T_^lf': 459,\n",
       " '^lf_^L_^T': 263,\n",
       " '^T_^of_^sb_^lf_^sb': 237,\n",
       " '^cnS_^and_^sb_^T': 260,\n",
       " '^lf_^of_^L': 302,\n",
       " '^univ_^of_^L_^T_^of_^S': 522,\n",
       " '^S_^sb_^cnS_^T': 113,\n",
       " '^nf_^T_^of_^sb_^and_^cS': 373,\n",
       " '^lf_^sb_^univ': 313,\n",
       " '^T_^nf_^sw_^nf': 160,\n",
       " '^T_^S_^sb_^cS': 138,\n",
       " '^lf_^of_^nf': 305,\n",
       " '^univ_^of_^L_^S_^T': 521,\n",
       " '^lf_^T_^of_^sb_^cnS': 281,\n",
       " '^lf_^and_^lf': 282,\n",
       " '^mO_^sb_^T': 327,\n",
       " '^lf_^univ_^of_^cS_^and_^cS': 319,\n",
       " '^lf_^T_^of_^nf': 276,\n",
       " '^sbE_^T': 449,\n",
       " '^nf_^of_^sb': 410,\n",
       " '^nf_^T_^of_^nf_^S': 370,\n",
       " '^univ_^T_^of_^cS': 508,\n",
       " '^nf_^cS_^T': 381,\n",
       " '^L_^T_^of_^S_^and_^S': 12,\n",
       " '^nf_^of_^nf_^lf': 409,\n",
       " '^S_^sb_^univ': 115,\n",
       " '^nf_^univ_^of_^lf': 444,\n",
       " '^nf_^S_^nf_^T': 346,\n",
       " '^S_^lf_^nf': 100,\n",
       " '^S_^sb': 110,\n",
       " '^lf_^of_^sb': 306,\n",
       " '^T_^of_^cS_^and_^sb_^cS': 191,\n",
       " '^sw_^T_^of_^S': 488,\n",
       " '^mO_^T_^of_^cS': 323,\n",
       " '^S_^T_^nf': 80,\n",
       " '^L_^nf_^T_^of_^S': 35,\n",
       " '^sb_^S_^cnS_^T': 453,\n",
       " '^T_^sb_^and_^sb': 245,\n",
       " '^nf_^L_^sb_^T': 338,\n",
       " '^univ_^of_^sb_^S_^L': 541,\n",
       " '^S_^nf_^sb_^T': 107,\n",
       " '^sw_^nf_^univ': 495,\n",
       " '^S_^L_^sb_^T': 74,\n",
       " '^univ_^of_^S_^nf': 530,\n",
       " '^lf_^nf_^mO_^T': 298,\n",
       " '^nf_^univ_^of_^sb_^S': 446,\n",
       " '^T_^of_^S_^of_^nf': 179,\n",
       " '^nf_^T_^of_^cS_^and_^cS': 367,\n",
       " '^T_^of_^lf_^and_^sb': 199,\n",
       " '^nf_^of_^S_^nf': 404,\n",
       " '^T_^cS_^nf': 141,\n",
       " '^nf_^of_^nf_^S': 408,\n",
       " '^sb_^and_^sb_^S': 464,\n",
       " '^T_^of_^S_^and_^nf': 169,\n",
       " '^T_^S_^of_^S': 131,\n",
       " '^sb_^cS_^nf': 472,\n",
       " '^T_^sb_^cS_^S': 248,\n",
       " '^L_^cnS_^S_^T': 23,\n",
       " '^univ_^of_^sw_^nf': 542,\n",
       " '^S_^cnS_^sb': 96,\n",
       " '^T_^sw_^nf': 253,\n",
       " '^sb_^S_^nf': 454,\n",
       " '^S_^nf_^L': 102,\n",
       " '^sw_^lf_^univ': 490,\n",
       " '^S_^sb_^S': 111,\n",
       " '^L_^S_^sb_^T': 8,\n",
       " '^nf_^sb_^cS': 420,\n",
       " '^sw_^nf_^T_^of_^L_^sb_^univ': 493,\n",
       " '^nf_^sb_^S_^T': 415,\n",
       " '^L_^T_^of_^S_^and_^sb': 13,\n",
       " '^sb_^cS_^sb_^T': 473,\n",
       " '^lf_^T_^nf': 273,\n",
       " '^S_^of_^L': 109,\n",
       " '^lf_^T_^of_^sb_^and_^cS': 279,\n",
       " '^S_^nf_^of_^L': 106,\n",
       " '^T_^of_^S_^sb_^S': 184,\n",
       " '^lf_^of_^cS': 304,\n",
       " '^T_^of_^S_^and_^cS': 166,\n",
       " '^T_^lf_^and_^S': 145,\n",
       " '^L_^lf_^cnT': 28,\n",
       " '^S_^L_^nf_^T': 71,\n",
       " '^T_^of_^S_^and_^S_^lf': 165,\n",
       " '^lf_^cnS_^cnT': 288,\n",
       " '^L_^univ_^T_^cS': 59,\n",
       " '^T_^of_^S_^and': 163,\n",
       " '^univ_^sb_^T_^L': 544,\n",
       " '^T_^of_^sb_^cS_^lf': 232,\n",
       " '^S_^nf_^lf': 105,\n",
       " '^L_^nf_^T_^of_^sb': 37,\n",
       " '^sb_^T_^of_^sb_^S': 462,\n",
       " '^sw_^nf': 491,\n",
       " '^univ_^of_^L_^sw_^L': 527,\n",
       " '^T_^S_^and': 122,\n",
       " '^T_^of_^sw_^lf': 241,\n",
       " '^nf_^sb_^T_^and_^cnS_^T': 419,\n",
       " '^nf_^T_^S_^nf': 354,\n",
       " '^S_^L': 69,\n",
       " '^T_^of_^nf_^and_^S': 206,\n",
       " '^T_^S_^sb_^S': 137,\n",
       " '^univ_^of_^S_^sw_^L': 532,\n",
       " '^nf_^sw': 429,\n",
       " '^T_^of_^S_^of_^sw_^L_^sbE': 181,\n",
       " '^T_^of_^lf_^sb_^cS': 203,\n",
       " '^lf_^S_^cnS_^T': 268,\n",
       " '^sb_^cS_^cnS_^T': 471,\n",
       " '^L_^univ_^T_^of_^S': 60,\n",
       " '^T_^sb_^cS_^and_^sb': 249,\n",
       " '^L_^sb': 48,\n",
       " '^sw_^sb_^T': 496,\n",
       " '^T_^of_^sb_^cS_^sb_^T': 234,\n",
       " '^nf_^lf_^cnS_^T': 391,\n",
       " '^T_^S_^and_^sb_^S': 125,\n",
       " '^T_^S_^of_^nf': 134,\n",
       " '^S_^T_^L': 77,\n",
       " '^lf_^sb_^cnT': 311,\n",
       " '^mO_^T_^of_^sb_^cS': 326,\n",
       " '^lf_^nf_^cnS_^T': 295,\n",
       " '^L_^cS_^T': 22,\n",
       " '^S_^L_^nf_^univ': 72,\n",
       " '^T_^of_^S_^nf_^lf': 177,\n",
       " '^nf_^sw_^S_^of_^L': 431}"
      ]
     },
     "execution_count": 76,
     "metadata": {},
     "output_type": "execute_result"
    }
   ],
   "source": [
    "joined_pattern_vectorizer.vocabulary_"
   ]
  },
  {
   "cell_type": "code",
   "execution_count": 77,
   "metadata": {},
   "outputs": [
    {
     "data": {
      "text/plain": [
       "545"
      ]
     },
     "execution_count": 77,
     "metadata": {},
     "output_type": "execute_result"
    }
   ],
   "source": [
    "len(joined_pattern_vectorizer.vocabulary_)"
   ]
  },
  {
   "cell_type": "markdown",
   "metadata": {},
   "source": [
    "# Debugging"
   ]
  },
  {
   "cell_type": "code",
   "execution_count": 78,
   "metadata": {},
   "outputs": [],
   "source": [
    "gen_orgs = train_ds[train_ds.label == 'GEN'].iloc[:10000].copy()\n",
    "spe_orgs = train_ds[train_ds.label == 'SPE'].iloc[:10000]"
   ]
  },
  {
   "cell_type": "code",
   "execution_count": 79,
   "metadata": {},
   "outputs": [],
   "source": [
    "classifyOrg(rule_based_classifier, pipeline, gen_orgs)"
   ]
  },
  {
   "cell_type": "code",
   "execution_count": 80,
   "metadata": {},
   "outputs": [],
   "source": [
    "gen_orgs_misclassified = gen_orgs[gen_orgs['prediction'] != 'GEN']"
   ]
  },
  {
   "cell_type": "code",
   "execution_count": 81,
   "metadata": {},
   "outputs": [
    {
     "data": {
      "text/plain": [
       "376"
      ]
     },
     "execution_count": 81,
     "metadata": {},
     "output_type": "execute_result"
    }
   ],
   "source": [
    "len(gen_orgs_misclassified)"
   ]
  },
  {
   "cell_type": "code",
   "execution_count": 82,
   "metadata": {},
   "outputs": [
    {
     "name": "stdout",
     "output_type": "stream",
     "text": [
      "Zhejiang Children’s Hospital\n",
      "UK Cambridge Research Institute (CRI)\n",
      "Kansas City School of Dentistry Kansas City\n",
      "Centre for Excellence in Teaching in Higher Education\n",
      "VIRUTUS\n",
      "THIS Institute\n",
      "KievUniversity\n",
      "Department of Oncology and Leuven Cancer Institute (LKI)\n",
      "Germany ‡Institute for Medical Statistics and Epidemiology\n",
      "Depts. Pharmacol. Toxicol. B.\n",
      "Institutionen för Datavetenskap\n",
      "School of Civil and Environmental Engineering University of Technology Sydney\n",
      "Trinity Collage\n",
      "Russian State University Justice\n",
      "Aberdeen Business School\n",
      "Sterrenkunde Leuven\n",
      "Education Seoul National University Seoul\n",
      "Physik-Department E17\n",
      "Australian Institute for Health Innovation\n",
      "School of Social Welfare, University of California\n",
      "Kiev Univ.\n",
      "Tip Fakultesi (Dekanlik Binasi)\n",
      "Center for State Health Policy\n",
      "Nautral Products Research Institute\n",
      "Nephrol.Abt.\n",
      "Second Hospital Affiliated to Medical College\n",
      "Economics Department University of Melbourne\n",
      "Division of Cardiovascular Disease Birmingham\n",
      "ACCMS\n",
      "Hals-Nasen-Ohren-Klinik\n",
      "Dept.Immunol.\n",
      "Measure, Model and Manage BIORESPONSES (M3-BIORES)\n",
      "Birmingham School of Nursing\n",
      "University Health Services Tang Center\n",
      "St Catharine's College\n",
      "L-Mob\n",
      "Berkeley BioSENSE\n",
      "Reserch Reactor Institute\n",
      "Faculty of Humanities and Theology in Sweden\n",
      "Depts.Pathol.\n",
      "Old Quadrangle\n",
      "Institutionen för Arkeologi och Antikens Hiostoria\n",
      "TNW\n",
      "III. Physikalisches Institut B\n",
      "St. John's College\n",
      "INSY/CGV\n",
      "ESAT-PSI-iMinds\n",
      "Natl. Institute for Early Education\n",
      "Cloud Computing and Applications Research Lab\n",
      "Program in Administration-Health Services\n"
     ]
    }
   ],
   "source": [
    "_ = gen_orgs_misclassified.sample(50).input.apply(print)"
   ]
  },
  {
   "cell_type": "code",
   "execution_count": 86,
   "metadata": {},
   "outputs": [],
   "source": [
    "gen_vecs = feature_extractor.transform(gen_orgs_misclassified.input)\n",
    "spe_vecs = feature_extractor.transform(spe_orgs.input)"
   ]
  },
  {
   "cell_type": "code",
   "execution_count": 87,
   "metadata": {},
   "outputs": [],
   "source": [
    "muls = gen_vecs.dot(spe_vecs.transpose())"
   ]
  },
  {
   "cell_type": "code",
   "execution_count": 88,
   "metadata": {},
   "outputs": [
    {
     "data": {
      "text/plain": [
       "((376, 2256), (10000, 2256), (376, 10000))"
      ]
     },
     "execution_count": 88,
     "metadata": {},
     "output_type": "execute_result"
    }
   ],
   "source": [
    "gen_vecs.shape, spe_vecs.shape, muls.shape"
   ]
  },
  {
   "cell_type": "code",
   "execution_count": 89,
   "metadata": {},
   "outputs": [],
   "source": [
    "# sorted_indices = muls.argsort(axis=None) # only work for dense matrix\n",
    "sorted_items = sorted(muls[:100].todok().items(), key=lambda x: -x[1])"
   ]
  },
  {
   "cell_type": "code",
   "execution_count": 90,
   "metadata": {},
   "outputs": [],
   "source": [
    "def print_similar_orgs(i):\n",
    "#     idx = sorted_indices[-i-1] # only work for dense matrix\n",
    "#     gen_idx, spe_idx = idx // muls.shape[0], idx % muls.shape[0] # only work for dense matrix\n",
    "    gen_idx, spe_idx = sorted_items[i][0]\n",
    "    print('Generic:', gen_orgs['input'].iloc[gen_idx])\n",
    "    print('Specific:', spe_orgs['input'].iloc[spe_idx])\n",
    "    # print vector elements (not very informative without feature names)\n",
    "#     for v in zip(gen_vecs[gen_idx].todok().items(), spe_vecs[spe_idx].todok().items()):\n",
    "#         print(v)"
   ]
  },
  {
   "cell_type": "code",
   "execution_count": 91,
   "metadata": {},
   "outputs": [
    {
     "name": "stdout",
     "output_type": "stream",
     "text": [
      "Generic: School of Electrical and Electronics\n",
      "Specific: National Children's Research Centre\n"
     ]
    }
   ],
   "source": [
    "print_similar_orgs(1)"
   ]
  },
  {
   "cell_type": "code",
   "execution_count": 92,
   "metadata": {},
   "outputs": [
    {
     "name": "stdout",
     "output_type": "stream",
     "text": [
      "Generic: Faculty for Mechanical Engineering\n",
      "Specific: National Research Council\n"
     ]
    }
   ],
   "source": [
    "print_similar_orgs(2)"
   ]
  },
  {
   "cell_type": "code",
   "execution_count": 93,
   "metadata": {},
   "outputs": [
    {
     "name": "stdout",
     "output_type": "stream",
     "text": [
      "Generic: Faculty for Mechanical Engineering\n",
      "Specific: National Research Council\n"
     ]
    }
   ],
   "source": [
    "print_similar_orgs(3)"
   ]
  },
  {
   "cell_type": "code",
   "execution_count": 94,
   "metadata": {},
   "outputs": [
    {
     "name": "stdout",
     "output_type": "stream",
     "text": [
      "Generic: School of Electrical and Electronics\n",
      "Specific: United Aircraft Research Laboratories\n"
     ]
    }
   ],
   "source": [
    "print_similar_orgs(5)"
   ]
  },
  {
   "cell_type": "code",
   "execution_count": 95,
   "metadata": {},
   "outputs": [
    {
     "name": "stdout",
     "output_type": "stream",
     "text": [
      "Generic: School of Electrical and Electronics\n",
      "Specific: Electricity Council Research Cent\n"
     ]
    }
   ],
   "source": [
    "print_similar_orgs(6)"
   ]
  },
  {
   "cell_type": "code",
   "execution_count": 96,
   "metadata": {},
   "outputs": [
    {
     "name": "stdout",
     "output_type": "stream",
     "text": [
      "Generic: Faculty for Mechanical Engineering\n",
      "Specific: Northwest Research Associates\n"
     ]
    }
   ],
   "source": [
    "print_similar_orgs(10)"
   ]
  },
  {
   "cell_type": "code",
   "execution_count": 97,
   "metadata": {},
   "outputs": [
    {
     "name": "stdout",
     "output_type": "stream",
     "text": [
      "Generic: Departamento de Inmunología y Reumatología\n",
      "Specific: Aberdeen Business School\n"
     ]
    }
   ],
   "source": [
    "print_similar_orgs(13)"
   ]
  },
  {
   "cell_type": "code",
   "execution_count": 98,
   "metadata": {},
   "outputs": [
    {
     "name": "stdout",
     "output_type": "stream",
     "text": [
      "Generic: Abt. Pathol.\n",
      "Specific: Otago Business School\n"
     ]
    }
   ],
   "source": [
    "print_similar_orgs(15)"
   ]
  },
  {
   "cell_type": "code",
   "execution_count": 99,
   "metadata": {},
   "outputs": [
    {
     "name": "stdout",
     "output_type": "stream",
     "text": [
      "Generic: Abt. Pathol.\n",
      "Specific: Trinity Business School\n"
     ]
    }
   ],
   "source": [
    "print_similar_orgs(25)"
   ]
  },
  {
   "cell_type": "code",
   "execution_count": 100,
   "metadata": {},
   "outputs": [
    {
     "name": "stdout",
     "output_type": "stream",
     "text": [
      "Generic: 3rd Department of Medicine\n",
      "Specific: The First Affiliated Hospital Of Wenzhou Medical University\n"
     ]
    }
   ],
   "source": [
    "print_similar_orgs(35)"
   ]
  },
  {
   "cell_type": "code",
   "execution_count": 101,
   "metadata": {},
   "outputs": [
    {
     "name": "stdout",
     "output_type": "stream",
     "text": [
      "Generic: Departments of Biochemistry and Microbiology\n",
      "Specific: St Barnabas Hospital\n"
     ]
    }
   ],
   "source": [
    "print_similar_orgs(100)"
   ]
  },
  {
   "cell_type": "markdown",
   "metadata": {},
   "source": [
    "# Storing to file in LibSVM-friendly format"
   ]
  },
  {
   "cell_type": "code",
   "execution_count": 102,
   "metadata": {},
   "outputs": [
    {
     "name": "stderr",
     "output_type": "stream",
     "text": [
      "//anaconda2/envs/generic-classifier/lib/python3.6/site-packages/sklearn/preprocessing/_discretization.py:193: UserWarning: Bins whose width are too small (i.e., <= 1e-8) in feature 1 are removed. Consider decreasing the number of bins.\n",
      "  'decreasing the number of bins.' % jj)\n",
      "//anaconda2/envs/generic-classifier/lib/python3.6/site-packages/sklearn/preprocessing/_discretization.py:193: UserWarning: Bins whose width are too small (i.e., <= 1e-8) in feature 2 are removed. Consider decreasing the number of bins.\n",
      "  'decreasing the number of bins.' % jj)\n",
      "//anaconda2/envs/generic-classifier/lib/python3.6/site-packages/sklearn/preprocessing/_discretization.py:193: UserWarning: Bins whose width are too small (i.e., <= 1e-8) in feature 3 are removed. Consider decreasing the number of bins.\n",
      "  'decreasing the number of bins.' % jj)\n"
     ]
    },
    {
     "data": {
      "text/plain": [
       "Pipeline(memory=None,\n",
       "         steps=[('pipeline',\n",
       "                 Pipeline(memory=None,\n",
       "                          steps=[('tokentranslator',\n",
       "                                  <__main__.TokenTranslator object at 0x2fae6a0b8>),\n",
       "                                 ('featureunion',\n",
       "                                  FeatureUnion(n_jobs=None,\n",
       "                                               transformer_list=[('freq-char-len',\n",
       "                                                                  Pipeline(memory=None,\n",
       "                                                                           steps=[('charlenfeature',\n",
       "                                                                                   <__main__.CharLenFeature object at 0x2fae6a0f0>),\n",
       "                                                                                  ('countvectorizer',\n",
       "                                                                                   CountVectorizer(analyzer=<fun...\n",
       "                ('nystroem',\n",
       "                 Nystroem(coef0=None, degree=2, gamma=None, kernel='poly',\n",
       "                          kernel_params=None, n_components=100,\n",
       "                          random_state=None)),\n",
       "                ('linearsvc',\n",
       "                 LinearSVC(C=1.0, class_weight={'GEN': 15, 'SPE': 1}, dual=True,\n",
       "                           fit_intercept=True, intercept_scaling=1,\n",
       "                           loss='squared_hinge', max_iter=1000,\n",
       "                           multi_class='ovr', penalty='l2', random_state=None,\n",
       "                           tol=0.0001, verbose=0))],\n",
       "         verbose=False)"
      ]
     },
     "execution_count": 102,
     "metadata": {},
     "output_type": "execute_result"
    }
   ],
   "source": [
    "%%time\n",
    "pipeline.fit(train_ds.input, y=train_ds.label)"
   ]
  },
  {
   "cell_type": "code",
   "execution_count": 103,
   "metadata": {
    "scrolled": true
   },
   "outputs": [
    {
     "name": "stdout",
     "output_type": "stream",
     "text": [
      "CPU times: user 1min 32s, sys: 853 ms, total: 1min 33s\n",
      "Wall time: 1min 31s\n"
     ]
    }
   ],
   "source": [
    "%%time\n",
    "label_encoder = LabelEncoder()\n",
    "features = feature_extractor.transform(train_ds.input)\n",
    "labels = label_encoder.fit_transform(train_ds.label)"
   ]
  },
  {
   "cell_type": "code",
   "execution_count": 104,
   "metadata": {},
   "outputs": [],
   "source": [
    "dump_svmlight_file(features, labels, 'output/dataset-200k-noisy.train.svm')"
   ]
  },
  {
   "cell_type": "code",
   "execution_count": 105,
   "metadata": {},
   "outputs": [
    {
     "name": "stdout",
     "output_type": "stream",
     "text": [
      "CPU times: user 1min 34s, sys: 685 ms, total: 1min 35s\n",
      "Wall time: 1min 32s\n"
     ]
    }
   ],
   "source": [
    "%%time\n",
    "test_features = feature_extractor.transform(test_ds.input)\n",
    "test_labels = label_encoder.transform(test_ds.label)"
   ]
  },
  {
   "cell_type": "code",
   "execution_count": 106,
   "metadata": {},
   "outputs": [],
   "source": [
    "dump_svmlight_file(test_features, test_labels, 'output/dataset-200k-noisy.test.svm')"
   ]
  },
  {
   "cell_type": "code",
   "execution_count": 107,
   "metadata": {},
   "outputs": [
    {
     "data": {
      "text/plain": [
       "['output/label_encoder.pkl']"
      ]
     },
     "execution_count": 107,
     "metadata": {},
     "output_type": "execute_result"
    }
   ],
   "source": [
    "joblib.dump(label_encoder, 'output/label_encoder.pkl')"
   ]
  },
  {
   "cell_type": "code",
   "execution_count": 108,
   "metadata": {},
   "outputs": [
    {
     "data": {
      "text/plain": [
       "['output/feature_extractor.pkl']"
      ]
     },
     "execution_count": 108,
     "metadata": {},
     "output_type": "execute_result"
    }
   ],
   "source": [
    "joblib.dump(feature_extractor, 'output/feature_extractor.pkl')"
   ]
  },
  {
   "cell_type": "code",
   "execution_count": null,
   "metadata": {},
   "outputs": [],
   "source": [
    "joblib.dump(hybrid_classifier, 'output/hybrid_classifier.pkl')"
   ]
  }
 ],
 "metadata": {
  "kernelspec": {
   "display_name": "Python [conda env:generic-classifier] *",
   "language": "python",
   "name": "conda-env-generic-classifier-py"
  },
  "language_info": {
   "codemirror_mode": {
    "name": "ipython",
    "version": 3
   },
   "file_extension": ".py",
   "mimetype": "text/x-python",
   "name": "python",
   "nbconvert_exporter": "python",
   "pygments_lexer": "ipython3",
   "version": "3.6.9"
  }
 },
 "nbformat": 4,
 "nbformat_minor": 2
}
