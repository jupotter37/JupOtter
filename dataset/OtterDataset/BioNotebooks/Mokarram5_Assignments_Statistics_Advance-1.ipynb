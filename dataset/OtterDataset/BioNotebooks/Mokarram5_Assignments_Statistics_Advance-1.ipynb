{
 "cells": [
  {
   "cell_type": "markdown",
   "id": "3a7b45cc-606c-4cfd-9017-f0e2422620d5",
   "metadata": {},
   "source": [
    "## Assignment of Statistics Advance-1"
   ]
  },
  {
   "cell_type": "markdown",
   "id": "df579223-7c0b-4e2d-b5dc-a83ddd5f96e2",
   "metadata": {},
   "source": [
    "#### Q1. What is the Probability density function?"
   ]
  },
  {
   "cell_type": "markdown",
   "id": "21006020-52c3-4a1b-853b-7009bde64c4c",
   "metadata": {},
   "source": [
    "#### Answer:"
   ]
  },
  {
   "cell_type": "markdown",
   "id": "807b558d-b8c2-4c7d-9f73-78629ae5852d",
   "metadata": {},
   "source": [
    "The Probability Density Function (PDF) is a statistical concept used in probability theory to describe the likelihood of a continuous random variable falling within a particular range. It is denoted by \\(f(x)\\), where \\(x\\) is the variable, and \\(f(x)\\) represents the probability density at a specific value \\(x\\).\r\n",
    "\r\n",
    "In short, the PDF provides a mathematical function that describes the relative likelihood of different outcomes for a continuous random variable. Unlike the Probability Mass Function (PMF) used for discrete random variables, the PDF does not directly give probabilities but rather the density of probabilities over the range of possible values. The probability of an event occurring within a specific interval is obtained by integrating the PDF over that interval.tion of values."
   ]
  },
  {
   "cell_type": "markdown",
   "id": "2f33c936-064c-4c89-94c0-2c03dc102051",
   "metadata": {},
   "source": [
    "#### Q2. What are the types of Probability distribution?"
   ]
  },
  {
   "cell_type": "markdown",
   "id": "ef3689a0-b381-4398-8eb1-d1ba2f426106",
   "metadata": {},
   "source": [
    "#### Answer:"
   ]
  },
  {
   "cell_type": "markdown",
   "id": "c1fcd69f-ec14-465e-b54b-15d9d895b4ee",
   "metadata": {},
   "source": [
    "There are several types of probability distributions, each associated with different types of random variables. The two main categories of probability distributions are:\r\n",
    "\r\n",
    "1. **Discrete Probability Distributions:**\r\n",
    "   - **Probability Mass Function (PMF):** Describes the probability distribution of a discrete random variable. It gives the probability of each possible outcome.\r\n",
    "   - **Examples:**\r\n",
    "     - Bernoulli Distribution\r\n",
    "     - Binomial Distribution\r\n",
    "     - Poisson Distribution\r\n",
    "\r\n",
    "2. **Continuous Probability Distributions:**\r\n",
    "   - **Probability Density Function (PDF):** Describes the probability distribution of a continuous random variable. It gives the density of probabilities over a range of values.\r\n",
    "   - **Examples:**\r\n",
    "     - Normal Distribution\r\n",
    "     - Exponential Distribution\r\n",
    "     - Uniform Distributthe\n",
    "\r\n",
    "Here are some common probability distributions in each category:\r\n",
    "\r\n",
    "**Discrete Probability Distributions:**\r\n",
    "1. **Bernoulli Distribution:** Describes a binary outcome (success/failure) with a single trial.\r\n",
    "2. **Binomial Distribution:** Generalization of the Bernoulli distribution, representing the number of successes in a fixed number of independent Bernoulli trials.\r\n",
    "3. **Poisson Distribution:** Models the number of events occurring in a fixed interval of time or space.\r\n",
    "\r\n",
    "**Continuous Probability Distributions:**\r\n",
    "1. **Normal Distribution (Gaussian Distribution):** Characterized by a bell-shaped curve and is widely used due to the Central Limit Theorem.\r\n",
    "2. **Exponential Distribution:** Models the time until an event occurs in a Poisson process.\r\n",
    "3. **Uniform Distribution:** All outcomes are equally likely within a specified range.\r\n",
    "\r\n",
    "These distributions play a crucial role in probability theory, statistics, and various fields such as finance, engineering, and biology. The choice of distribution depends on the nature of the random variable being modeled and the characteristics of the data.of the dataset."
   ]
  },
  {
   "cell_type": "markdown",
   "id": "4d1daed7-fcd7-438a-ae71-c17c811dd430",
   "metadata": {},
   "source": [
    "#### Q3. Write a Python function to calculate the probability density function of a normal distribution with given mean and standard deviation at a given point."
   ]
  },
  {
   "cell_type": "markdown",
   "id": "51622379-6954-40e1-905d-f966bca4b651",
   "metadata": {},
   "source": [
    "#### Answer: "
   ]
  },
  {
   "cell_type": "code",
   "execution_count": 4,
   "id": "ed3fce95-ef89-4081-8a42-d40e83d002b1",
   "metadata": {},
   "outputs": [
    {
     "name": "stdout",
     "output_type": "stream",
     "text": [
      "PDF at 1.5: 0.12951759566589174\n"
     ]
    }
   ],
   "source": [
    "from scipy.stats import norm\r\n",
    "\r\n",
    "def calculate_normal_pdf(x, mean, std_dev):\r\n",
    "    \"\"\"\r\n",
    "    Calculate the probability density function (PDF) of a normal distribution at a given point.\r\n",
    "\r\n",
    "    Parameters:\r\n",
    "    - x: The point at which to calculate the PDF.\r\n",
    "    - mean: Mean of the normal distribution.\r\n",
    "    - std_dev: Standard deviation of the normal distribution.\r\n",
    "\r\n",
    "    Returns:\r\n",
    "    - PDF value at the given point.\r\n",
    "    \"\"\"\r\n",
    "    pdf_value = norm.pdf(x, loc=mean, scale=std_dev)\r\n",
    "    return pdf_value\r\n",
    "\r\n",
    "# Example usage:\r\n",
    "mean_value = 0\r\n",
    "std_dev_value = 1\r\n",
    "point = 1.5\r\n",
    "\r\n",
    "result = calculate_normal_pdf(point, mean_value, std_dev_value)\r\n",
    "print(f\"PDF at {point}: {result}\")\r\n"
   ]
  },
  {
   "cell_type": "markdown",
   "id": "f12f2fdc-e2db-4e63-b47e-9be490030768",
   "metadata": {},
   "source": [
    "#### Q4. What are the properties of Binomial distribution? Give two examples of events where binomial distribution can be applied."
   ]
  },
  {
   "cell_type": "markdown",
   "id": "6502d700-b12e-41b9-901e-8417736264ec",
   "metadata": {},
   "source": [
    "#### Answer:"
   ]
  },
  {
   "cell_type": "markdown",
   "id": "a3df027f-78c5-4972-bd79-75b1c6a5ff12",
   "metadata": {},
   "source": [
    "**Properties of Binomial Distribution:**\n",
    "\n",
    "1. **Fixed Number of Trials (n):** The number of trials (experiments) is fixed in advance.\n",
    "\n",
    "2. **Independent Trials:** Each trial is independent of the others. The outcome of one trial does not affect the outcome of another.\n",
    "\n",
    "3. **Two Possible Outcomes:** Each trial results in one of two mutually exclusive outcomes: success or failure.\n",
    "\n",
    "4. **Constant Probability of Success (p):** The probability of success (p) remains constant for each trial.\n",
    "\n",
    "5. **Discrete Nature:** The random variable representing the number of successes is discrete.\n",
    "\n",
    "6. **Binomial Coefficient:** The probability mass function involves the binomial coefficient, which is a combinatorial term denoted as \\(C(n, k)\\), representing the number of ways to choose \\(k\\) successes from \\(n\\) trials.\n",
    "\n",
    "**Examples of Events Where Binomial Distribution Can Be Applied:**\n",
    "\n",
    "1. **Coin Flipping:**\n",
    "   - **Experiment:** Repeatedly flipping a fair coin (biased toward heads with probability \\(p\\) of heads).\n",
    "   - **Properties:**\n",
    "      - Fixed number of trials (n flips).\n",
    "      - Each flip is independent.\n",
    "      - Two outcomes (heads or tails).\n",
    "      - Constant probability of heads (p).\n",
    "   - **Application:** Calculate the probability of getting a specific number of heads in \\(n\\) flips.\n",
    "\n",
    "2. **Quality Control:**\n",
    "   - **Experiment:** Inspecting a sample of products from a production line to check for defects.\n",
    "   - **Properties:**\n",
    "      - Fixed number of products inspected (n).\n",
    "      - Each inspection is independent.\n",
    "      - Two outcomes (defective or non-defective).\n",
    "      - Constant probability of a defective product (p).\n",
    "   - **Application:** Determine the probability of finding a certain number of defective products in the sample.\n",
    "\n",
    "The binomial distribution is applicable in various real-world scenarios where there are a fixed number of independent trials, each with two possible outcomes, and a constant probability of success.iation)\r\n"
   ]
  },
  {
   "cell_type": "markdown",
   "id": "dbc0de54-5700-4cad-9455-95b5bbd5839f",
   "metadata": {},
   "source": [
    "#### Q5. Generate a random sample of size 1000 from a binomial distribution with probability of success 0.4 and plot a histogram of the results using matplotlib."
   ]
  },
  {
   "cell_type": "markdown",
   "id": "3fa9fdf3-281e-47ca-aa42-e3336df8d9fc",
   "metadata": {},
   "source": [
    "#### Answer:"
   ]
  },
  {
   "cell_type": "code",
   "execution_count": 5,
   "id": "81531a36-2f2f-44b7-a8e6-df54a8b5d547",
   "metadata": {},
   "outputs": [
    {
     "data": {
      "image/png": "[encoded data removed]",
      "text/plain": [
       "<Figure size 640x480 with 1 Axes>"
      ]
     },
     "metadata": {},
     "output_type": "display_data"
    }
   ],
   "source": [
    "import numpy as np\n",
    "import matplotlib.pyplot as plt\n",
    "\n",
    "# Set the random seed for reproducibility\n",
    "np.random.seed(42)\n",
    "\n",
    "# Generate a random sample of size 1000 from a binomial distribution\n",
    "sample_size = 1000\n",
    "probability_of_success = 0.4\n",
    "\n",
    "binomial_sample = np.random.binomial(1, probability_of_success, sample_size)\n",
    "\n",
    "# Plot the histogram\n",
    "plt.hist(binomial_sample, bins=[-0.5, 0.5, 1.5], edgecolor='black', align='mid', color='skyblue')\n",
    "plt.title('Binomial Distribution Sample')\n",
    "plt.xlabel('Outcome (0: Failure, 1: Success)')\n",
    "plt.ylabel('Frequency')\n",
    "plt.xticks([0, 1], ['Failure', 'Success'])\n",
    "plt.show()\n"
   ]
  },
  {
   "cell_type": "markdown",
   "id": "c457ea76-f126-456f-b44c-58c8a3798e45",
   "metadata": {},
   "source": [
    "#### Q6. Write a Python function to calculate the cumulative distribution function of a Poisson distribution with given mean at a given point."
   ]
  },
  {
   "cell_type": "markdown",
   "id": "06962022-99dc-4b7f-9c45-1f63fbeca545",
   "metadata": {},
   "source": [
    "#### Answer:"
   ]
  },
  {
   "cell_type": "code",
   "execution_count": 6,
   "id": "0e641cbd-8a88-41e6-bf8a-71de83f6bcab",
   "metadata": {},
   "outputs": [
    {
     "name": "stdout",
     "output_type": "stream",
     "text": [
      "CDF at 2: 0.42319008112684364\n"
     ]
    }
   ],
   "source": [
    "from scipy.stats import poisson\r\n",
    "\r\n",
    "def calculate_poisson_cdf(k, mean):\r\n",
    "    \"\"\"\r\n",
    "    Calculate the cumulative distribution function (CDF) of a Poisson distribution at a given point.\r\n",
    "\r\n",
    "    Parameters:\r\n",
    "    - k: The point at which to calculate the CDF.\r\n",
    "    - mean: Mean of the Poisson distribution.\r\n",
    "\r\n",
    "    Returns:\r\n",
    "    - CDF value at the given point.\r\n",
    "    \"\"\"\r\n",
    "    cdf_value = poisson.cdf(k, mu=mean)\r\n",
    "    return cdf_value\r\n",
    "\r\n",
    "# Example usage:\r\n",
    "mean_value = 3\r\n",
    "point = 2\r\n",
    "\r\n",
    "result = calculate_poisson_cdf(point, mean_value)\r\n",
    "print(f\"CDF at {point}: {result}\")\r\n"
   ]
  },
  {
   "cell_type": "markdown",
   "id": "92be0c76-51c5-40d2-b5fd-30309798d3d2",
   "metadata": {},
   "source": [
    "#### Q7. How Binomial distribution different from Poisson distribution?"
   ]
  },
  {
   "cell_type": "markdown",
   "id": "9ef72e81-9974-4dca-b483-6bb4d186fe7b",
   "metadata": {},
   "source": [
    "#### Answer:"
   ]
  },
  {
   "cell_type": "markdown",
   "id": "6cd394fe-309f-4351-a0c7-eee8df64bf31",
   "metadata": {},
   "source": [
    "The Binomial distribution and the Poisson distribution are both probability distributions that describe the number of events in a fixed number of trials, but they have some key differences:\r\n",
    "\r\n",
    "**1. Nature of Events:**\r\n",
    "   - **Binomial Distribution:** Describes the number of successes (or failures) in a fixed number of independent trials, where each trial has two possible outcomes (success or failure).\r\n",
    "   - **Poisson Distribution:** Describes the number of events that occur in a fixed interval of time or space, where the events are rare and independent.\r\n",
    "\r\n",
    "**2. Number of Possible Outcomes:**\r\n",
    "   - **Binomial Distribution:** Each trial results in one of two mutually exclusive outcomes (success or failure).\r\n",
    "   - **Poisson Distribution:** The number of events in a fixed interval can theoretically range from 0 to infinity.\r\n",
    "\r\n",
    "**3. Independence of Trials:**\r\n",
    "   - **Binomial Distribution:** Assumes that each trial is independent of the others.\r\n",
    "   - **Poisson Distribution:** Assumes that the events are rare and independent.\r\n",
    "\r\n",
    "**4. Parameters:**\r\n",
    "   - **Binomial Distribution:** Requires two parameters - the number of trials (\\(n\\)) and the probability of success on a single trial (\\(p\\)).\r\n",
    "   - **Poisson Distribution:** Requires one parameter - the average rate of events per interval (\\(\\lambda\\)).\r\n",
    "\r\n",
    "**5. Conditions:**\r\n",
    "   - **Binomial Distribution:** Appropriate when there is a fixed number of trials, and the probability of success remains constant across all trials.\r\n",
    "   - **Poisson Distribution:** Appropriate when events are rare and independent, and the average rate nt events in a fixed interval., 6, 7, 8, 10}"
   ]
  },
  {
   "cell_type": "markdown",
   "id": "e9caa4bb-b475-4f8e-8e0f-bfa4a86e4197",
   "metadata": {},
   "source": [
    "#### Q8. Generate a random sample of size 1000 from a Poisson distribution with mean 5 and calculate the sample mean and variance."
   ]
  },
  {
   "cell_type": "markdown",
   "id": "2d1db97c-6e3f-4a40-9d5e-5f84ebed4d4c",
   "metadata": {},
   "source": [
    "#### Answer :"
   ]
  },
  {
   "cell_type": "code",
   "execution_count": 8,
   "id": "7b2c19ed-7324-4ce9-b026-32bbf72f8df9",
   "metadata": {},
   "outputs": [
    {
     "name": "stdout",
     "output_type": "stream",
     "text": [
      "Sample Mean: 4.985\n",
      "Sample Variance: 4.9967749999999995\n"
     ]
    }
   ],
   "source": [
    "import numpy as np\n",
    "\n",
    "# Set the random seed for reproducibility\n",
    "np.random.seed(42)\n",
    "\n",
    "# Generate a random sample of size 1000 from a Poisson distribution with mean 5\n",
    "sample_size = 1000\n",
    "mean_value = 5\n",
    "\n",
    "poisson_sample = np.random.poisson(mean_value, sample_size)\n",
    "\n",
    "# Calculate the sample mean and variance\n",
    "sample_mean = np.mean(poisson_sample)\n",
    "sample_variance = np.var(poisson_sample)\n",
    "\n",
    "# Print the results\n",
    "print(f\"Sample Mean: {sample_mean}\")\n",
    "print(f\"Sample Variance: {sample_variance}\")\n"
   ]
  },
  {
   "cell_type": "markdown",
   "id": "369ea658-b252-4bdf-bc54-aea358de108f",
   "metadata": {},
   "source": [
    "#### Q9. How mean and variance are related in Binomial distribution and Poisson distribution?"
   ]
  },
  {
   "cell_type": "markdown",
   "id": "6929e32e-eda0-4d83-a75a-14da27432ae5",
   "metadata": {},
   "source": [
    "##### Answer:"
   ]
  },
  {
   "cell_type": "markdown",
   "id": "9ca7d1ab-110b-4de1-b370-2b216340f2dd",
   "metadata": {},
   "source": [
    "The mean (\\(\\mu\\)) and variance (\\(\\sigma^2\\)) are related in both the Binomial distribution and the Poisson distribution, but the specific relationships differ between the two distributions.\r\n",
    "\r\n",
    "### Binomial Distribution:\r\n",
    "\r\n",
    "**Mean (\\(\\mu\\)) and Variance (\\(\\sigma^2\\)) Relationship:**\r\n",
    "- For a Binomial distribution with parameters \\(n\\) (number of trials) and \\(p\\) (probability of success on a single trial), the mean and variance are related as follows:\r\n",
    "  \\[ \\mu = np \\]\r\n",
    "  \\[ \\sigma^2 = np(1 - p) \\]\r\n",
    "\r\n",
    "### Poisson Distribution:\r\n",
    "\r\n",
    "**Mean (\\(\\mu\\)) and Variance (\\(\\sigma^2\\)) Relationship:**\r\n",
    "- For a Poisson distribution with parameter \\(\\lambda\\) (average rate of events per interval), the mean and variance are equal:\r\n",
    "  \\[ \\mu = \\sigma^2 = \\lambda \\]\r\n",
    "\r\n",
    "### Summary:\r\n",
    "\r\n",
    "1. **Binomial Distribution:**\r\n",
    "   - Mean (\\(\\mu\\)) is calculated as \\(np\\).\r\n",
    "   - Variance (\\(\\sigma^2\\)) is calculated as \\(np(1 - p)\\).\r\n",
    "\r\n",
    "2. **Poisson Distribution:**\r\n",
    "   - Mean (\\(\\mu\\)) and Variance (\\(\\sigma^2\\)) are both equal and are calculated as \\(\\lambda\\).\r\n",
    "\r\n",
    "In both cases, the mean provides a measure of the center of the distribution, and the variance represents the spread or dispersion of the distribution. Understanding these relationships is important for interpreting and analyzing data modeled by these distributions.> Median"
   ]
  },
  {
   "cell_type": "markdown",
   "id": "d15dcd0e-5629-4425-805f-286e5617ad35",
   "metadata": {},
   "source": [
    "#### Q10. In normal distribution with respect to mean position, where does the least frequent data appear?"
   ]
  },
  {
   "cell_type": "markdown",
   "id": "55bfd0ba-3f98-4626-9b8e-f3e0e7572447",
   "metadata": {},
   "source": [
    "#### Answer:"
   ]
  },
  {
   "cell_type": "markdown",
   "id": "f2dc54fc-8354-4532-82be-bda40f8f083b",
   "metadata": {},
   "source": [
    "In a normal distribution, also known as a Gaussian distribution or bell curve, the least frequent data appears in the tails of the distribution, farthest away from the mean. The normal distribution is symmetric, and the mean is located at the center of the distribution.\r\n",
    "\r\n",
    "The tails of the distribution, which are the regions farther from the mean, contain data points that are less likely to occur. As you move away from the mean in either direction (left or right), the probability of observing a data point decreases.\r\n",
    "\r\n",
    "Therefore, the least frequent data appears in the extreme tails of the normal distribution. The data becomes less and less likely as you move farther from the mean towards the tails. The majority of the data is concentrated around the mean, and the frequency decreases gradually as you move towards the tails.n statistical analysis."
   ]
  }
 ],
 "metadata": {
  "kernelspec": {
   "display_name": "Python 3 (ipykernel)",
   "language": "python",
   "name": "python3"
  },
  "language_info": {
   "codemirror_mode": {
    "name": "ipython",
    "version": 3
   },
   "file_extension": ".py",
   "mimetype": "text/x-python",
   "name": "python",
   "nbconvert_exporter": "python",
   "pygments_lexer": "ipython3",
   "version": "3.11.5"
  }
 },
 "nbformat": 4,
 "nbformat_minor": 5
}
