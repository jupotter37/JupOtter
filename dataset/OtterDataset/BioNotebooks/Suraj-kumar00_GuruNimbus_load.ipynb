{
 "cells": [
  {
   "cell_type": "code",
   "execution_count": 1,
   "metadata": {},
   "outputs": [
    {
     "name": "stdout",
     "output_type": "stream",
     "text": [
      "f839e0d6-ac96-40f8-85e8-5f864e058ba4\n"
     ]
    },
    {
     "name": "stderr",
     "output_type": "stream",
     "text": [
      "/home/devopsbro/miniconda3/envs/rag/lib/python3.10/site-packages/pinecone/data/index.py:1: TqdmWarning: IProgress not found. Please update jupyter and ipywidgets. See https://ipywidgets.readthedocs.io/en/stable/user_install.html\n",
      "  from tqdm.autonotebook import tqdm\n"
     ]
    }
   ],
   "source": [
    "from dotenv import load_dotenv\n",
    "load_dotenv()\n",
    "import os\n",
    "from openai import OpenAI\n",
    "from pinecone import Pinecone, ServerlessSpec\n",
    "print(os.getenv(\"PINECONE_API_KEY\"))\n",
    "\n"
   ]
  },
  {
   "cell_type": "code",
   "execution_count": 18,
   "metadata": {},
   "outputs": [],
   "source": [
    "pc = Pinecone(api_key=os.getenv(\"PINECONE_API_KEY\"))\n",
    "\n",
    "pc.delete_index(\"rag\")\n",
    "\n",
    "pc.create_index(\n",
    "    name=\"rag\",\n",
    "    dimension=768,\n",
    "    metric=\"cosine\",\n",
    "    spec=ServerlessSpec(cloud=\"aws\", region=\"us-east-1\")\n",
    ")"
   ]
  },
  {
   "cell_type": "code",
   "execution_count": 19,
   "metadata": {},
   "outputs": [
    {
     "data": {
      "text/plain": [
       "[{'professor': 'Dr. Emily Parker',\n",
       "  'subject': 'Molecular Biology',\n",
       "  'star': 4,\n",
       "  'review': 'Complex biological concepts made accessible and interesting.'},\n",
       " {'professor': 'Prof. John Smith',\n",
       "  'subject': 'World History',\n",
       "  'star': 3,\n",
       "  'review': 'Covers a broad range of historical events, but lacks depth.'},\n",
       " {'professor': 'Dr. Maria Rodriguez',\n",
       "  'subject': 'Quantum Physics',\n",
       "  'star': 5,\n",
       "  'review': 'Mind-bending theories explained with clarity and enthusiasm.'},\n",
       " {'professor': 'Prof. David Lee',\n",
       "  'subject': 'Literature',\n",
       "  'star': 4,\n",
       "  'review': 'Insightful analysis of classic and contemporary works.'},\n",
       " {'professor': 'Dr. Sarah Johnson',\n",
       "  'subject': 'Psychology',\n",
       "  'star': 5,\n",
       "  'review': 'Fascinating exploration of human behavior and cognition.'},\n",
       " {'professor': 'Prof. Michael Brown',\n",
       "  'subject': 'Computer Science',\n",
       "  'star': 2,\n",
       "  'review': 'Programming concepts not explained clearly enough.'},\n",
       " {'professor': 'Dr. Laura White',\n",
       "  'subject': 'Economics',\n",
       "  'star': 4,\n",
       "  'review': 'Makes macroeconomic principles relevant to everyday life.'},\n",
       " {'professor': 'Prof. Robert Green',\n",
       "  'subject': 'Environmental Science',\n",
       "  'star': 3,\n",
       "  'review': 'Important topics covered, but lectures lack engagement.'},\n",
       " {'professor': 'Dr. Lisa Chen',\n",
       "  'subject': 'Organic Chemistry',\n",
       "  'star': 5,\n",
       "  'review': 'Difficult subject made manageable through clear explanations.'},\n",
       " {'professor': 'Prof. James Wilson',\n",
       "  'subject': 'Political Science',\n",
       "  'star': 4,\n",
       "  'review': 'Thought-provoking discussions on current political systems.'},\n",
       " {'professor': 'Dr. Thomas Anderson',\n",
       "  'subject': 'Calculus',\n",
       "  'star': 2,\n",
       "  'review': 'Advanced mathematical concepts rushed through too quickly.'},\n",
       " {'professor': 'Prof. Anna Kim',\n",
       "  'subject': 'Art History',\n",
       "  'star': 5,\n",
       "  'review': 'Brings historical artworks and their contexts to life.'},\n",
       " {'professor': 'Dr. Kevin Patel',\n",
       "  'subject': 'Biochemistry',\n",
       "  'star': 3,\n",
       "  'review': 'Solid content but struggles to simplify complex reactions.'},\n",
       " {'professor': 'Prof. Rachel Turner',\n",
       "  'subject': 'Sociology',\n",
       "  'star': 4,\n",
       "  'review': 'Eye-opening perspectives on social structures and interactions.'},\n",
       " {'professor': 'Dr. Daniel Martinez',\n",
       "  'subject': 'Statistics',\n",
       "  'star': 5,\n",
       "  'review': 'Transforms dry numbers into meaningful insights.'},\n",
       " {'professor': 'Prof. Olivia Taylor',\n",
       "  'subject': 'Marketing',\n",
       "  'star': 3,\n",
       "  'review': 'Good real-world examples, but lacks theoretical depth.'},\n",
       " {'professor': 'Dr. Christopher Lee',\n",
       "  'subject': 'Astronomy',\n",
       "  'star': 4,\n",
       "  'review': 'Captivating journey through the cosmos and its phenomena.'},\n",
       " {'professor': 'Prof. Elizabeth Wright',\n",
       "  'subject': 'Philosophy',\n",
       "  'star': 5,\n",
       "  'review': 'Challenges students to question fundamental assumptions.'},\n",
       " {'professor': 'Dr. Steven Harris',\n",
       "  'subject': 'Neuroscience',\n",
       "  'star': 2,\n",
       "  'review': 'Fascinating subject matter, but poorly communicated.'},\n",
       " {'professor': 'Prof. Melissa Chang',\n",
       "  'subject': 'International Relations',\n",
       "  'star': 4,\n",
       "  'review': 'Insightful analysis of global political dynamics.'}]"
      ]
     },
     "execution_count": 19,
     "metadata": {},
     "output_type": "execute_result"
    }
   ],
   "source": [
    "import json\n",
    "data = json.load(open('review.json'))\n",
    "data['reviews']"
   ]
  },
  {
   "cell_type": "code",
   "execution_count": 20,
   "metadata": {},
   "outputs": [],
   "source": [
    "import google.generativeai as genai\n",
    "import os\n",
    "\n",
    "processed_data = []\n",
    "for review in data['reviews']:\n",
    "    \n",
    "    genai.configure(api_key=os.getenv(\"GEMINI_API_KEY\"))\n",
    "    result = genai.embed_content(\n",
    "        model=\"models/text-embedding-004\",\n",
    "        content=review['review'],\n",
    "        task_type=\"retrieval_document\",\n",
    "        title=\"Embedding of single string\")\n",
    "    embeddings = result['embedding']\n",
    "    \n",
    "    processed_data.append({\n",
    "        \"values\": embeddings,\n",
    "        \"id\": review['professor'],\n",
    "        \"metadata\":{\n",
    "            'review': review['review'],\n",
    "            'subject': review['subject'],\n",
    "            'star': review['star'],\n",
    "        }\n",
    "    })"
   ]
  },
  {
   "cell_type": "code",
   "execution_count": 21,
   "metadata": {},
   "outputs": [
    {
     "data": {
      "text/plain": [
       "{'upserted_count': 20}"
      ]
     },
     "execution_count": 21,
     "metadata": {},
     "output_type": "execute_result"
    }
   ],
   "source": [
    "index = pc.Index('rag')\n",
    "index.upsert(\n",
    "    vectors = processed_data,\n",
    "    namespace='ns1'\n",
    "    )"
   ]
  },
  {
   "cell_type": "code",
   "execution_count": 22,
   "metadata": {},
   "outputs": [
    {
     "data": {
      "text/plain": [
       "{'dimension': 768,\n",
       " 'index_fullness': 0.0,\n",
       " 'namespaces': {'ns1': {'vector_count': 20}},\n",
       " 'total_vector_count': 20}"
      ]
     },
     "execution_count": 22,
     "metadata": {},
     "output_type": "execute_result"
    }
   ],
   "source": [
    "index.describe_index_stats()"
   ]
  }
 ],
 "metadata": {
  "kernelspec": {
   "display_name": "rag",
   "language": "python",
   "name": "python3"
  },
  "language_info": {
   "codemirror_mode": {
    "name": "ipython",
    "version": 3
   },
   "file_extension": ".py",
   "mimetype": "text/x-python",
   "name": "python",
   "nbconvert_exporter": "python",
   "pygments_lexer": "ipython3",
   "version": "3.10.14"
  }
 },
 "nbformat": 4,
 "nbformat_minor": 2
}
