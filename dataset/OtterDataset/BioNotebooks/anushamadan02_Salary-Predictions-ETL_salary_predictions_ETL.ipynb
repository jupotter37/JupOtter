{
  "cells": [
    {
      "cell_type": "markdown",
      "metadata": {
        "id": "eU25JOjUgOvF"
      },
      "source": [
        "# Introduction"
      ]
    },
    {
      "cell_type": "markdown",
      "metadata": {
        "id": "5heotUp4gQO7"
      },
      "source": [
        "This is a 'notebook' in Google Colaboratory. It contains a mixture of programming code (in Python), interspersed with comments and descriptions, to explain what's going on.\n",
        "\n",
        "It's a 'live' notebook. That is, you can execute the code contained in the notebook by clicking the play button (triangle inside a circle) next to any of the code cells. You can also edit and change the code before you run it, or you can run it, change it, then run it again to see the changes. It's a good way to experiment with code.\n",
        "\n",
        "You don't really need to know Python coding to use this notebook. In the simplest case you can just run the supplied code and it should work. But if you do know Python, or you want to experiment, you are welcome to.\n",
        "\n",
        "\n",
        "To save your own copy of this notebook, you'll need to save it into Google Drive (or GitHub).\n",
        "\n",
        "This example works through a very simple case of **ETL** - Extract, Transform, Load."
      ]
    },
    {
      "cell_type": "markdown",
      "metadata": {
        "id": "fo1CbhAZfSwG"
      },
      "source": [
        "# Extract"
      ]
    },
    {
      "cell_type": "markdown",
      "metadata": {
        "id": "2oEa7O-zgVP7"
      },
      "source": [
        "The first thing we are going to do is to extract some data from your MongoDB Atlas cluster."
      ]
    },
    {
      "cell_type": "markdown",
      "metadata": {
        "id": "TmMhBUdFg1Y7"
      },
      "source": [
        "### Import various Python libraries we will need\n",
        "\n"
      ]
    },
    {
      "cell_type": "code",
      "execution_count": null,
      "metadata": {
        "colab": {
          "base_uri": "https://localhost:8080/"
        },
        "id": "NjF2km0ufKZ_",
        "outputId": "2b16b929-7635-400b-e4e7-0c550a1b1f99",
        "vscode": {
          "languageId": "python"
        }
      },
      "outputs": [
        {
          "name": "stdout",
          "output_type": "stream",
          "text": [
            "Looking in indexes: https://pypi.org/simple, https://us-python.pkg.dev/colab-wheels/public/simple/\n",
            "Requirement already satisfied: pymongo[srv] in /usr/local/lib/python3.7/dist-packages (4.3.3)\n",
            "Requirement already satisfied: dnspython<3.0.0,>=1.16.0 in /usr/local/lib/python3.7/dist-packages (from pymongo[srv]) (2.2.1)\n"
          ]
        }
      ],
      "source": [
        "# Although PyMongo is already included in Colab, you need the `srv` extra to connect to Atlas:\n",
        "!pip install --upgrade pymongo[srv]\n",
        "\n",
        "from datetime import datetime, timedelta\n",
        "\n",
        "from bson import ObjectId\n",
        "import pymongo\n",
        "from pymongo import MongoClient\n",
        "import pandas as pd"
      ]
    },
    {
      "cell_type": "markdown",
      "metadata": {
        "id": "H3uzZCUYlRm_"
      },
      "source": [
        "### Connect to MongoDB Atlas"
      ]
    },
    {
      "cell_type": "markdown",
      "metadata": {
        "id": "F7eH7q2X0iHe"
      },
      "source": [
        "**In the line below, you can replace the value of MONGODB_URL (the bit inside the quotes) with the one that links to your own MongoDB Atlas database!**"
      ]
    },
    {
      "cell_type": "code",
      "execution_count": null,
      "metadata": {
        "colab": {
          "base_uri": "https://localhost:8080/"
        },
        "id": "0_NYKBr8lcPM",
        "outputId": "17983c53-7701-438e-cd10-1c72850ac58d",
        "vscode": {
          "languageId": "python"
        }
      },
      "outputs": [
        {
          "data": {
            "text/plain": [
              "['Salary_Predictions', 'admin', 'local']"
            ]
          },
          "execution_count": 5,
          "metadata": {},
          "output_type": "execute_result"
        }
      ],
      "source": [
        "MONGODB_URL = \"mongodb+srv://anushamadan02:<<password>>@cluster0.zrypgiq.mongodb.net/?retryWrites=true&w=majority\"\n",
        "\n",
        "client = MongoClient(MONGODB_URL)\n",
        "client.list_database_names()"
      ]
    },
    {
      "cell_type": "code",
      "execution_count": null,
      "metadata": {
        "colab": {
          "base_uri": "https://localhost:8080/"
        },
        "id": "ct9mK9o0lgAG",
        "outputId": "ef05b14b-81dd-41b7-8008-b5a85b6dba51",
        "vscode": {
          "languageId": "python"
        }
      },
      "outputs": [
        {
          "data": {
            "text/plain": [
              "['django_migrations', 'salary_data_salary_data', '__schema__']"
            ]
          },
          "execution_count": 6,
          "metadata": {},
          "output_type": "execute_result"
        }
      ],
      "source": [
        "# Choose a database, and list the collections in that database\n",
        "db = client.get_database(\"Salary_Predictions\")\n",
        "db.list_collection_names()"
      ]
    },
    {
      "cell_type": "code",
      "execution_count": null,
      "metadata": {
        "id": "jpAlRB9uljK9",
        "vscode": {
          "languageId": "python"
        }
      },
      "outputs": [],
      "source": [
        "# Choose a collection\n",
        "salary_data = db.get_collection(\"salary_data_salary_data\")"
      ]
    },
    {
      "cell_type": "markdown",
      "metadata": {
        "id": "fXkodqDGl8A8"
      },
      "source": [
        "### Run a query and store results in a Pandas DataFrame"
      ]
    },
    {
      "cell_type": "code",
      "execution_count": null,
      "metadata": {
        "colab": {
          "base_uri": "https://localhost:8080/",
          "height": 508
        },
        "id": "y1iviXDHlpG9",
        "outputId": "e9106ba0-1ab1-4606-8cd8-990177fd5590",
        "vscode": {
          "languageId": "python"
        }
      },
      "outputs": [
        {
          "data": {
            "text/html": [
              "\n",
              "  <div id=\"df-3302863d-161f-4955-9b64-8d23243c5b36\">\n",
              "    <div class=\"colab-df-container\">\n",
              "      <div>\n",
              "<style scoped>\n",
              "    .dataframe tbody tr th:only-of-type {\n",
              "        vertical-align: middle;\n",
              "    }\n",
              "\n",
              "    .dataframe tbody tr th {\n",
              "        vertical-align: top;\n",
              "    }\n",
              "\n",
              "    .dataframe thead th {\n",
              "        text-align: right;\n",
              "    }\n",
              "</style>\n",
              "<table border=\"1\" class=\"dataframe\">\n",
              "  <thead>\n",
              "    <tr style=\"text-align: right;\">\n",
              "      <th></th>\n",
              "      <th>_id</th>\n",
              "      <th>Id</th>\n",
              "      <th>job_title</th>\n",
              "      <th>salary_estimate</th>\n",
              "      <th>job_description</th>\n",
              "      <th>rating</th>\n",
              "      <th>company_name</th>\n",
              "      <th>location</th>\n",
              "      <th>headquarters</th>\n",
              "      <th>size</th>\n",
              "      <th>...</th>\n",
              "      <th>avg_salary</th>\n",
              "      <th>company_txt</th>\n",
              "      <th>job_state</th>\n",
              "      <th>same_state</th>\n",
              "      <th>age</th>\n",
              "      <th>python_yn</th>\n",
              "      <th>R_yn</th>\n",
              "      <th>spark</th>\n",
              "      <th>aws</th>\n",
              "      <th>excel</th>\n",
              "    </tr>\n",
              "  </thead>\n",
              "  <tbody>\n",
              "    <tr>\n",
              "      <th>0</th>\n",
              "      <td>63808d4db5717040c1455c1b</td>\n",
              "      <td>1</td>\n",
              "      <td>Data Scientist</td>\n",
              "      <td>$53K-$91K (Glassdoor est.)</td>\n",
              "      <td>Data Scientist\\nLocation: Albuquerque, NM\\nEdu...</td>\n",
              "      <td>3.8</td>\n",
              "      <td>Tecolote Research\\n3.8</td>\n",
              "      <td>Albuquerque, NM</td>\n",
              "      <td>Goleta, CA</td>\n",
              "      <td>501 to 1000 employees</td>\n",
              "      <td>...</td>\n",
              "      <td>72</td>\n",
              "      <td>Tecolote Research\\n</td>\n",
              "      <td>NM</td>\n",
              "      <td>0</td>\n",
              "      <td>47</td>\n",
              "      <td>1</td>\n",
              "      <td>0</td>\n",
              "      <td>0</td>\n",
              "      <td>0</td>\n",
              "      <td>1</td>\n",
              "    </tr>\n",
              "    <tr>\n",
              "      <th>1</th>\n",
              "      <td>63808d4db5717040c1455c1d</td>\n",
              "      <td>3</td>\n",
              "      <td>Data Scientist</td>\n",
              "      <td>$80K-$90K (Glassdoor est.)</td>\n",
              "      <td>KnowBe4, Inc. is a high growth information sec...</td>\n",
              "      <td>4.8</td>\n",
              "      <td>KnowBe4\\n4.8</td>\n",
              "      <td>Clearwater, FL</td>\n",
              "      <td>Clearwater, FL</td>\n",
              "      <td>501 to 1000 employees</td>\n",
              "      <td>...</td>\n",
              "      <td>85</td>\n",
              "      <td>KnowBe4\\n</td>\n",
              "      <td>FL</td>\n",
              "      <td>1</td>\n",
              "      <td>10</td>\n",
              "      <td>1</td>\n",
              "      <td>0</td>\n",
              "      <td>1</td>\n",
              "      <td>0</td>\n",
              "      <td>1</td>\n",
              "    </tr>\n",
              "    <tr>\n",
              "      <th>2</th>\n",
              "      <td>63808d4db5717040c1455c1e</td>\n",
              "      <td>4</td>\n",
              "      <td>Data Scientist</td>\n",
              "      <td>$56K-$97K (Glassdoor est.)</td>\n",
              "      <td>*Organization and Job ID**\\nJob ID: 310709\\n\\n...</td>\n",
              "      <td>3.8</td>\n",
              "      <td>PNNL\\n3.8</td>\n",
              "      <td>Richland, WA</td>\n",
              "      <td>Richland, WA</td>\n",
              "      <td>1001 to 5000 employees</td>\n",
              "      <td>...</td>\n",
              "      <td>76.5</td>\n",
              "      <td>PNNL\\n</td>\n",
              "      <td>WA</td>\n",
              "      <td>1</td>\n",
              "      <td>55</td>\n",
              "      <td>1</td>\n",
              "      <td>0</td>\n",
              "      <td>0</td>\n",
              "      <td>0</td>\n",
              "      <td>0</td>\n",
              "    </tr>\n",
              "    <tr>\n",
              "      <th>3</th>\n",
              "      <td>63808d4db5717040c1455c1f</td>\n",
              "      <td>5</td>\n",
              "      <td>Data Scientist</td>\n",
              "      <td>$86K-$143K (Glassdoor est.)</td>\n",
              "      <td>Data Scientist\\nAffinity Solutions / Marketing...</td>\n",
              "      <td>2.9</td>\n",
              "      <td>Affinity Solutions\\n2.9</td>\n",
              "      <td>New York, NY</td>\n",
              "      <td>New York, NY</td>\n",
              "      <td>51 to 200 employees</td>\n",
              "      <td>...</td>\n",
              "      <td>114.5</td>\n",
              "      <td>Affinity Solutions\\n</td>\n",
              "      <td>NY</td>\n",
              "      <td>1</td>\n",
              "      <td>22</td>\n",
              "      <td>1</td>\n",
              "      <td>0</td>\n",
              "      <td>0</td>\n",
              "      <td>0</td>\n",
              "      <td>1</td>\n",
              "    </tr>\n",
              "    <tr>\n",
              "      <th>4</th>\n",
              "      <td>63808d4db5717040c1455c20</td>\n",
              "      <td>6</td>\n",
              "      <td>Data Scientist</td>\n",
              "      <td>$71K-$119K (Glassdoor est.)</td>\n",
              "      <td>CyrusOne is seeking a talented Data Scientist ...</td>\n",
              "      <td>3.4</td>\n",
              "      <td>CyrusOne\\n3.4</td>\n",
              "      <td>Dallas, TX</td>\n",
              "      <td>Dallas, TX</td>\n",
              "      <td>201 to 500 employees</td>\n",
              "      <td>...</td>\n",
              "      <td>95</td>\n",
              "      <td>CyrusOne\\n</td>\n",
              "      <td>TX</td>\n",
              "      <td>1</td>\n",
              "      <td>20</td>\n",
              "      <td>1</td>\n",
              "      <td>0</td>\n",
              "      <td>0</td>\n",
              "      <td>1</td>\n",
              "      <td>1</td>\n",
              "    </tr>\n",
              "  </tbody>\n",
              "</table>\n",
              "<p>5 rows × 30 columns</p>\n",
              "</div>\n",
              "      <button class=\"colab-df-convert\" onclick=\"convertToInteractive('df-3302863d-161f-4955-9b64-8d23243c5b36')\"\n",
              "              title=\"Convert this dataframe to an interactive table.\"\n",
              "              style=\"display:none;\">\n",
              "        \n",
              "  <svg xmlns=\"http://www.w3.org/2000/svg\" height=\"24px\"viewBox=\"0 0 24 24\"\n",
              "       width=\"24px\">\n",
              "    <path d=\"M0 0h24v24H0V0z\" fill=\"none\"/>\n",
              "    <path d=\"M18.56 5.44l.94 2.06.94-2.06 2.06-.94-2.06-.94-.94-2.06-.94 2.06-2.06.94zm-11 1L8.5 8.5l.94-2.06 2.06-.94-2.06-.94L8.5 2.5l-.94 2.06-2.06.94zm10 10l.94 2.06.94-2.06 2.06-.94-2.06-.94-.94-2.06-.94 2.06-2.06.94z\"/><path d=\"M17.41 7.96l-1.37-1.37c-.4-.4-.92-.59-1.43-.59-.52 0-1.04.2-1.43.59L10.3 9.45l-7.72 7.72c-.78.78-.78 2.05 0 2.83L4 21.41c.39.39.9.59 1.41.59.51 0 1.02-.2 1.41-.59l7.78-7.78 2.81-2.81c.8-.78.8-2.07 0-2.86zM5.41 20L4 18.59l7.72-7.72 1.47 1.35L5.41 20z\"/>\n",
              "  </svg>\n",
              "      </button>\n",
              "      \n",
              "  <style>\n",
              "    .colab-df-container {\n",
              "      display:flex;\n",
              "      flex-wrap:wrap;\n",
              "      gap: 12px;\n",
              "    }\n",
              "\n",
              "    .colab-df-convert {\n",
              "      background-color: #E8F0FE;\n",
              "      border: none;\n",
              "      border-radius: 50%;\n",
              "      cursor: pointer;\n",
              "      display: none;\n",
              "      fill: #1967D2;\n",
              "      height: 32px;\n",
              "      padding: 0 0 0 0;\n",
              "      width: 32px;\n",
              "    }\n",
              "\n",
              "    .colab-df-convert:hover {\n",
              "      background-color: #E2EBFA;\n",
              "      box-shadow: 0px 1px 2px rgba(60, 64, 67, 0.3), 0px 1px 3px 1px rgba(60, 64, 67, 0.15);\n",
              "      fill: #174EA6;\n",
              "    }\n",
              "\n",
              "    [theme=dark] .colab-df-convert {\n",
              "      background-color: #3B4455;\n",
              "      fill: #D2E3FC;\n",
              "    }\n",
              "\n",
              "    [theme=dark] .colab-df-convert:hover {\n",
              "      background-color: #434B5C;\n",
              "      box-shadow: 0px 1px 3px 1px rgba(0, 0, 0, 0.15);\n",
              "      filter: drop-shadow(0px 1px 2px rgba(0, 0, 0, 0.3));\n",
              "      fill: #FFFFFF;\n",
              "    }\n",
              "  </style>\n",
              "\n",
              "      <script>\n",
              "        const buttonEl =\n",
              "          document.querySelector('#df-3302863d-161f-4955-9b64-8d23243c5b36 button.colab-df-convert');\n",
              "        buttonEl.style.display =\n",
              "          google.colab.kernel.accessAllowed ? 'block' : 'none';\n",
              "\n",
              "        async function convertToInteractive(key) {\n",
              "          const element = document.querySelector('#df-3302863d-161f-4955-9b64-8d23243c5b36');\n",
              "          const dataTable =\n",
              "            await google.colab.kernel.invokeFunction('convertToInteractive',\n",
              "                                                     [key], {});\n",
              "          if (!dataTable) return;\n",
              "\n",
              "          const docLinkHtml = 'Like what you see? Visit the ' +\n",
              "            '<a target=\"_blank\" href=https://colab.research.google.com/notebooks/data_table.ipynb>data table notebook</a>'\n",
              "            + ' to learn more about interactive tables.';\n",
              "          element.innerHTML = '';\n",
              "          dataTable['output_type'] = 'display_data';\n",
              "          await google.colab.output.renderOutput(dataTable, element);\n",
              "          const docLink = document.createElement('div');\n",
              "          docLink.innerHTML = docLinkHtml;\n",
              "          element.appendChild(docLink);\n",
              "        }\n",
              "      </script>\n",
              "    </div>\n",
              "  </div>\n",
              "  "
            ],
            "text/plain": [
              "                        _id  Id       job_title              salary_estimate  \\\n",
              "0  63808d4db5717040c1455c1b   1  Data Scientist   $53K-$91K (Glassdoor est.)   \n",
              "1  63808d4db5717040c1455c1d   3  Data Scientist   $80K-$90K (Glassdoor est.)   \n",
              "2  63808d4db5717040c1455c1e   4  Data Scientist   $56K-$97K (Glassdoor est.)   \n",
              "3  63808d4db5717040c1455c1f   5  Data Scientist  $86K-$143K (Glassdoor est.)   \n",
              "4  63808d4db5717040c1455c20   6  Data Scientist  $71K-$119K (Glassdoor est.)   \n",
              "\n",
              "                                     job_description rating  \\\n",
              "0  Data Scientist\\nLocation: Albuquerque, NM\\nEdu...    3.8   \n",
              "1  KnowBe4, Inc. is a high growth information sec...    4.8   \n",
              "2  *Organization and Job ID**\\nJob ID: 310709\\n\\n...    3.8   \n",
              "3  Data Scientist\\nAffinity Solutions / Marketing...    2.9   \n",
              "4  CyrusOne is seeking a talented Data Scientist ...    3.4   \n",
              "\n",
              "              company_name         location    headquarters  \\\n",
              "0   Tecolote Research\\n3.8  Albuquerque, NM      Goleta, CA   \n",
              "1             KnowBe4\\n4.8   Clearwater, FL  Clearwater, FL   \n",
              "2                PNNL\\n3.8     Richland, WA    Richland, WA   \n",
              "3  Affinity Solutions\\n2.9     New York, NY    New York, NY   \n",
              "4            CyrusOne\\n3.4       Dallas, TX      Dallas, TX   \n",
              "\n",
              "                     size  ... avg_salary           company_txt job_state  \\\n",
              "0   501 to 1000 employees  ...         72   Tecolote Research\\n        NM   \n",
              "1   501 to 1000 employees  ...         85             KnowBe4\\n        FL   \n",
              "2  1001 to 5000 employees  ...       76.5                PNNL\\n        WA   \n",
              "3     51 to 200 employees  ...      114.5  Affinity Solutions\\n        NY   \n",
              "4    201 to 500 employees  ...         95            CyrusOne\\n        TX   \n",
              "\n",
              "  same_state age python_yn R_yn spark aws excel  \n",
              "0          0  47         1    0     0   0     1  \n",
              "1          1  10         1    0     1   0     1  \n",
              "2          1  55         1    0     0   0     0  \n",
              "3          1  22         1    0     0   0     1  \n",
              "4          1  20         1    0     0   1     1  \n",
              "\n",
              "[5 rows x 30 columns]"
            ]
          },
          "execution_count": 11,
          "metadata": {},
          "output_type": "execute_result"
        }
      ],
      "source": [
        "results = salary_data.find()\n",
        "\n",
        "# We need to do some type manipulation - convert our Cursor of results into a list, then convert the list into a Pandas DataFrame\n",
        "results_list = list(results)\n",
        "df = pd.DataFrame(results_list)\n",
        "\n",
        "# Print out the first few rows of the DataFrame\n",
        "df.head()"
      ]
    },
    {
      "cell_type": "code",
      "execution_count": null,
      "metadata": {
        "colab": {
          "base_uri": "https://localhost:8080/"
        },
        "id": "Ix40eDm2l2H0",
        "outputId": "2bff32e5-7575-441e-87f3-b9caff6ae5b7",
        "vscode": {
          "languageId": "python"
        }
      },
      "outputs": [
        {
          "name": "stdout",
          "output_type": "stream",
          "text": [
            "742\n"
          ]
        }
      ],
      "source": [
        "# Show total number of documents in the collection\n",
        "print (len(df))"
      ]
    },
    {
      "cell_type": "markdown",
      "metadata": {
        "id": "1W7ihPFmmX6-"
      },
      "source": [
        "### Explore the data a little bit"
      ]
    },
    {
      "cell_type": "code",
      "execution_count": null,
      "metadata": {
        "colab": {
          "base_uri": "https://localhost:8080/"
        },
        "id": "--R85oEGmbCv",
        "outputId": "ed99209c-857a-4146-eaa0-e9e826601cd1",
        "vscode": {
          "languageId": "python"
        }
      },
      "outputs": [
        {
          "data": {
            "text/plain": [
              "Data Scientist                          131\n",
              "Data Engineer                            53\n",
              "Senior Data Scientist                    34\n",
              "Data Analyst                             15\n",
              "Senior Data Engineer                     14\n",
              "                                       ... \n",
              "SQL Data Engineer                         1\n",
              "Junior Data Analyst                       1\n",
              "Lead Health Data Analyst - Front End      1\n",
              "Survey Data Analyst                       1\n",
              "Data Scientist2                           1\n",
              "Name: job_title, Length: 264, dtype: int64"
            ]
          },
          "execution_count": 13,
          "metadata": {},
          "output_type": "execute_result"
        }
      ],
      "source": [
        "# Count the number of documents in each job title\n",
        "df['job_title'].value_counts()"
      ]
    },
    {
      "cell_type": "code",
      "execution_count": null,
      "metadata": {
        "colab": {
          "base_uri": "https://localhost:8080/"
        },
        "id": "nerud0oCml5S",
        "outputId": "7274712e-1a82-4f38-badf-c3c7f74878e7",
        "vscode": {
          "languageId": "python"
        }
      },
      "outputs": [
        {
          "data": {
            "text/plain": [
              "1    392\n",
              "0    350\n",
              "Name: python_yn, dtype: int64"
            ]
          },
          "execution_count": 15,
          "metadata": {},
          "output_type": "execute_result"
        }
      ],
      "source": [
        "# Count the number of documents for availability of the different python skills\n",
        "df['python_yn'].value_counts()"
      ]
    },
    {
      "cell_type": "code",
      "execution_count": null,
      "metadata": {
        "colab": {
          "base_uri": "https://localhost:8080/",
          "height": 248
        },
        "id": "VccFtwKpnVJr",
        "outputId": "5cb0cdf4-381c-4275-f189-9047210fcbf4",
        "vscode": {
          "languageId": "python"
        }
      },
      "outputs": [
        {
          "data": {
            "image/png": "[encoded data removed]",
            "text/plain": [
              "<Figure size 432x288 with 1 Axes>"
            ]
          },
          "metadata": {},
          "output_type": "display_data"
        }
      ],
      "source": [
        "# Just for fun we can even create a little bar chart and visualise the number of types of jobs\n",
        "temp= df['job_title'].value_counts()\n",
        "temp.head(10).plot(kind='pie');"
      ]
    },
    {
      "cell_type": "code",
      "execution_count": null,
      "metadata": {
        "colab": {
          "base_uri": "https://localhost:8080/",
          "height": 275
        },
        "id": "G_0TfaewQ1bI",
        "outputId": "97535026-9434-4841-aad7-533d8c57583e",
        "vscode": {
          "languageId": "python"
        }
      },
      "outputs": [
        {
          "data": {
            "image/png": "[encoded data removed]",
            "text/plain": [
              "<Figure size 432x288 with 1 Axes>"
            ]
          },
          "metadata": {
            "needs_background": "light"
          },
          "output_type": "display_data"
        }
      ],
      "source": [
        "# Just for fun we can even create a little bar chart and visualise the number of jobs available in each state\n",
        "temp= df['job_state'].value_counts()\n",
        "temp.head(10).plot(kind='bar');"
      ]
    },
    {
      "cell_type": "code",
      "execution_count": null,
      "metadata": {
        "colab": {
          "base_uri": "https://localhost:8080/",
          "height": 385
        },
        "id": "VkSxhc2TTIz9",
        "outputId": "4275aa7f-97ba-4e20-8e37-770342a6bca2",
        "vscode": {
          "languageId": "python"
        }
      },
      "outputs": [
        {
          "data": {
            "image/png": "[encoded data removed]",
            "text/plain": [
              "<Figure size 432x288 with 1 Axes>"
            ]
          },
          "metadata": {
            "needs_background": "light"
          },
          "output_type": "display_data"
        }
      ],
      "source": [
        "# Just for fun we can even create a little bar chart and visualise the size ranges of the different jobs\n",
        "df['size'].value_counts().plot(kind='bar');"
      ]
    },
    {
      "cell_type": "markdown",
      "metadata": {
        "id": "p-AF2Gxxn7VL"
      },
      "source": [
        "# Transform"
      ]
    },
    {
      "cell_type": "markdown",
      "metadata": {
        "id": "Sc6lWoLzn9Ay"
      },
      "source": [
        "Now that we've extracted the data and had a bit of a look at it, we can apply some transformations. Note that we're processing the data as a batch here, not streaming transformation."
      ]
    },
    {
      "cell_type": "markdown",
      "metadata": {
        "id": "dNcFg3CioUhg"
      },
      "source": [
        "### Deal with missing values"
      ]
    },
    {
      "cell_type": "markdown",
      "metadata": {
        "id": "JY-xgDuTpezD"
      },
      "source": [
        "We noticed above that some documents have '-1' or 'Unknown' as the size. When cleaning/transforming the data, we need to decide what to do with them. We could:\n",
        "* remove those rows entirely\n",
        "* change 'Missing' to some other value\n",
        "\n",
        "If it was numeric data we could consider taking the mean or median value, but as it's a text field that's not applicable.\n",
        "\n",
        "Let's say that we want our data warehouse to only have clean data, so we'll just remove those rows entirely from the data set."
      ]
    },
    {
      "cell_type": "code",
      "execution_count": null,
      "metadata": {
        "colab": {
          "base_uri": "https://localhost:8080/"
        },
        "id": "RA1u1QixoST_",
        "outputId": "5ec40856-2fab-4830-97f3-d6908315c7a0",
        "vscode": {
          "languageId": "python"
        }
      },
      "outputs": [
        {
          "data": {
            "text/plain": [
              "1001 to 5000 employees     151\n",
              "501 to 1000 employees      134\n",
              "10000+ employees           129\n",
              "201 to 500 employees       117\n",
              "51 to 200 employees         94\n",
              "5001 to 10000 employees     76\n",
              "1 to 50 employees           31\n",
              "Unknown                      9\n",
              "-1                           1\n",
              "Name: size, dtype: int64"
            ]
          },
          "execution_count": 32,
          "metadata": {},
          "output_type": "execute_result"
        }
      ],
      "source": [
        "# We'll create a new DataFrame called transformed that consists of all documents from the original set where the size is not -1 or Unknown\n",
        "df['size'].value_counts()"
      ]
    },
    {
      "cell_type": "code",
      "execution_count": null,
      "metadata": {
        "id": "P6_PAZGdUuGO",
        "vscode": {
          "languageId": "python"
        }
      },
      "outputs": [],
      "source": [
        "# We'll create a new DataFrame called transformed that consists of all documents from the original set where the size is not -1 or Unknown\n",
        "transformed = df[(df['size'] != \"Unknown\") & (df['size'] != \"-1\")].copy()"
      ]
    },
    {
      "cell_type": "code",
      "execution_count": null,
      "metadata": {
        "colab": {
          "base_uri": "https://localhost:8080/"
        },
        "id": "N235qrxmpNnh",
        "outputId": "6da2a437-dcbb-4168-9c3d-685c68a56e04",
        "vscode": {
          "languageId": "python"
        }
      },
      "outputs": [
        {
          "data": {
            "text/plain": [
              "1001 to 5000 employees     151\n",
              "501 to 1000 employees      134\n",
              "10000+ employees           129\n",
              "201 to 500 employees       117\n",
              "51 to 200 employees         94\n",
              "5001 to 10000 employees     76\n",
              "1 to 50 employees           31\n",
              "Name: size, dtype: int64"
            ]
          },
          "execution_count": 57,
          "metadata": {},
          "output_type": "execute_result"
        }
      ],
      "source": [
        "# To verify this, let's count the number of documents for each size again. There shouldn't be any -1 or Unknown\n",
        "transformed['size'].value_counts()"
      ]
    },
    {
      "cell_type": "markdown",
      "metadata": {
        "id": "0xJxQLsRpqK9"
      },
      "source": [
        "### Rewrite values"
      ]
    },
    {
      "cell_type": "markdown",
      "metadata": {
        "id": "nsSmZ2qXpt5G"
      },
      "source": [
        "Maybe the data we are importing doesn't match the data model used in our data warehouse. We might need to transform or change some of the values in the input data so that it matches what we want it to be.\n",
        "\n",
        "Let's look at all the possible (unique) job titles types"
      ]
    },
    {
      "cell_type": "code",
      "execution_count": null,
      "metadata": {
        "colab": {
          "base_uri": "https://localhost:8080/"
        },
        "id": "rOTp_L1zs525",
        "outputId": "62dfae33-d215-4361-a26a-40c67ac1b4e3",
        "vscode": {
          "languageId": "python"
        }
      },
      "outputs": [
        {
          "name": "stdout",
          "output_type": "stream",
          "text": [
            "['Data Scientist' 'Research Scientist' 'Staff Data Scientist - Technology'\n",
            " 'Data Analyst' 'Data Engineer I' 'Scientist I/II, Biology'\n",
            " 'Customer Data Scientist' 'Data Scientist - Health Data Analytics'\n",
            " 'Senior Data Scientist / Machine Learning'\n",
            " 'Data Scientist - Quantitative' 'Digital Health Data Scientist'\n",
            " 'Associate Data Analyst' 'Clinical Data Scientist'\n",
            " 'Data Scientist / Machine Learning Expert' 'Web Data Analyst'\n",
            " 'Senior Data Scientist' 'Data Engineer'\n",
            " 'Data Scientist - Algorithms & Inference' 'Scientist'\n",
            " 'Lead Data Scientist' 'Spectral Scientist/Engineer'\n",
            " 'College Hire - Data Scientist - Open to December 2019 Graduates'\n",
            " 'Data Scientist, Office of Data Science' 'Data Science Analyst'\n",
            " 'Senior Risk Data Scientist'\n",
            " 'Data Scientist in Artificial Intelligence Early Career'\n",
            " 'Data Scientist - Research' 'R&D Data Analysis Scientist'\n",
            " 'Analytics Consultant' 'Director, Data Science' 'Data Scientist SR'\n",
            " 'R&D Sr Data Scientist' 'Customer Data Scientist/Sales Engineer (Bay'\n",
            " 'Jr. Business Data Analyst' 'Data Management Specialist'\n",
            " 'E-Commerce Data Analyst' 'Sr. Scientist II' 'Insurance Data Scientist'\n",
            " 'Data Modeler' 'Data Analyst / Scientist'\n",
            " 'Data Scientist, Rice University' 'Financial Data Analyst'\n",
            " 'Senior Data Analyst' 'Ag Data Scientist' 'Data Scientist II'\n",
            " 'Senior Data Engineer' 'Project Scientist' 'Data Analytics Manager'\n",
            " 'Senior Machine Learning (ML) Engineer / Data Scientist - Cyber Security Analytics'\n",
            " 'Associate Scientist' 'Scientist 2, QC Viral Vector'\n",
            " 'Machine Learning Engineer' 'Data Scientist/ML Engineer'\n",
            " 'Sr. Data Scientist' 'Data Engineer 4 - Contract'\n",
            " 'Data Analyst - Asset Management'\n",
            " 'Senior Research Scientist - Embedded System Development for DevOps'\n",
            " 'Data Scientist - Bioinformatics'\n",
            " 'Customer Data Scientist/Sales Engineer' 'MongoDB Data Engineer II'\n",
            " 'Senior Data Scientist Statistics' 'Senior Spark Engineer (Data Science)'\n",
            " 'BI & Platform Analytics Manager'\n",
            " 'Sr. Data Scientist - Analytics, Personalized Healthcare (PHC)'\n",
            " 'Pricipal Scientist Molecular and cellular biologist'\n",
            " 'Data Scientist (Actuary, FSA or ASA)' 'Staff Data Scientist'\n",
            " 'Data Engineer 5 - Contract (Remote)' 'Senior Scientist - Neuroscience'\n",
            " 'Medical Lab Scientist' 'Risk and Analytics IT, Data Scientist'\n",
            " 'Scientist, Analytical Development' 'Analytics Manager'\n",
            " 'Digital Marketing & ECommerce Data Analyst'\n",
            " 'Sr. Scientist - Digital & Image Analysis/Computational Pathology'\n",
            " 'Principal Scientist - Immunologist'\n",
            " 'Principal Data Scientist with over 10 years experience'\n",
            " 'MED TECH/LAB SCIENTIST - LABORATORY'\n",
            " 'Sr. Scientist, Quantitative Translational Sciences'\n",
            " 'Sr. Data Scientist II' 'Excel / VBA / SQL Data Analyst'\n",
            " 'Machine Learning Research Scientist' 'VP, Data Science'\n",
            " 'Radar Data Analyst' 'PL Actuarial-Lead Data Scientist' 'PV Scientist'\n",
            " 'Senior Data & Machine Learning Scientist'\n",
            " 'Principal Data Scientist (Computational Chemistry)'\n",
            " 'Principal Scientist, Chemistry & Immunology'\n",
            " 'Software Engineer - Data Visualization'\n",
            " 'Scientist/Senior Scientist, Autoimmune'\n",
            " 'Staff Machine Learning Engineer' 'Principal Scientist, Hematology'\n",
            " 'Lead Data Engineer' 'Marketing Data Analyst'\n",
            " 'Medical Laboratory Scientist' 'R&D Specialist/ Food Scientist'\n",
            " 'Senior Research Scientist-Machine Learning'\n",
            " 'Analytics Manager - Data Mart'\n",
            " 'Sr. Data Engineer - Contract-to-Hire (Java)'\n",
            " 'MED TECH/LAB SCIENTIST- SOUTH COASTAL LAB' 'Food Scientist - Developer'\n",
            " 'Staff Scientist-Downstream Process Development' 'Sr. Data Engineer'\n",
            " 'Senior Research Statistician- Data Scientist'\n",
            " 'Business Data Analyst, SQL'\n",
            " 'Medical Technologist / Clinical Laboratory Scientist'\n",
            " 'Associate Data Scientist/Computer Scientist'\n",
            " 'Business Intelligence Analyst / Developer' 'System and Data Analyst'\n",
            " 'Data & Analytics Consultant (NYC)'\n",
            " 'Big Data Engineer - Chicago - Future Opportunity' 'Survey Data Analyst'\n",
            " 'Lead Health Data Analyst - Front End' 'Junior Data Analyst'\n",
            " 'SQL Data Engineer' 'Sr. Data Scientist, Cyber-Security LT Contract'\n",
            " 'Insurance Financial Data Analyst' 'Data Engineer I - Azure'\n",
            " 'Information Security Data Analyst' 'Data Scientist, Senior'\n",
            " 'CONSULTANT– DATA ANALYTICS GROUP'\n",
            " 'Data Engineer, Data Engineering and Artifical Intelligence'\n",
            " 'Staff Scientist'\n",
            " 'Associate Scientist/Scientist, Process Analytical Technology - Small Molecule Analytical Chemistry'\n",
            " 'Sr. Data Analyst' 'Program/Data Analyst'\n",
            " 'Senior Data Scientist: Causal & Predictive analytics AI Innovation Lab'\n",
            " 'Principal Data Engineer, Data Platform & Insights'\n",
            " 'RESEARCH SCIENTIST - BIOLOGICAL SAFETY' 'Data Operations Lead'\n",
            " 'Big Data Engineer' 'Clinical Data Analyst'\n",
            " 'Computational Chemist/Data Scientist' 'Product Engineer – Data Science'\n",
            " 'Market Data Analyst' 'Staff Data Engineer' 'Associate Data Engineer'\n",
            " 'Staff BI and Data Engineer' 'Director - Data, Privacy and AI Governance'\n",
            " 'Scientist Manufacturing - Kentucky BioProcessing'\n",
            " 'Data Analytics Project Manager' 'Consultant - Analytics Consulting'\n",
            " 'Senior Scientist (Neuroscience)'\n",
            " 'Machine Learning Engineer - Regulatory' 'Scientist, Bacteriology'\n",
            " 'Associate Director, Platform and DevOps- Data Engineering and Aritifical Intelligence'\n",
            " 'Clinical Laboratory Scientist' 'Senior Data Scientist - R&D Oncology'\n",
            " 'Director II, Data Science - GRM Actuarial'\n",
            " 'Scientist, Molecular/Cellular Biologist'\n",
            " 'Scientist - Analytical Services'\n",
            " 'Associate Data Analyst- Graduate Development Program'\n",
            " 'Senior Insurance Data Scientist' 'Senior Data Science Systems Engineer'\n",
            " 'ENVIRONMENTAL ENGINEER/SCIENTIST'\n",
            " 'Senior Scientist - Regulatory Submissions'\n",
            " 'Scientist - Biomarker and Flow Cytometry' 'Revenue Analytics Manager'\n",
            " 'Associate Scientist, LC/MS Biologics' 'Sr. Scientist Method Development'\n",
            " 'IT - Data Engineer II' 'Research Scientist, Immunology - Cancer Biology'\n",
            " 'Project Scientist - Auton Lab, Robotics Institute'\n",
            " 'Enterprise Architect, Data'\n",
            " 'Senior Manager, Epidemiologic Data Scientist'\n",
            " 'Corporate Risk Data Analyst (SQL Based) - Milwaukee or'\n",
            " 'Marketing Data Analyst, May 2020 Undergrad'\n",
            " 'Data Modeler - Data Solutions Engineer'\n",
            " 'Associate Environmental Scientist - Wildlife Biologist'\n",
            " 'Associate, Data Science, Internal Audit'\n",
            " 'Sr Data Engineer (Sr BI Developer)' 'Senior LiDAR Data Scientist'\n",
            " 'Salesforce Analytics Consultant'\n",
            " 'Technology-Minded, Data Professional Opportunities'\n",
            " 'Managing Data Scientist/ML Engineer' 'Scientist, Pharmacometrics'\n",
            " 'Staff Scientist- Upstream PD'\n",
            " 'Scientist Manufacturing Pharma - Kentucky BioProcessing'\n",
            " 'Lead Big Data Engineer'\n",
            " 'Product Engineer – Spatial Data Science and Statistical Analysis'\n",
            " 'Sr Software Engineer (Data Scientist)'\n",
            " 'Sr. Data Engineer (ETL Developer)'\n",
            " 'Senior Data Scientist Artificial Intelligence'\n",
            " 'Analytics - Business Assurance Data Analyst'\n",
            " 'Associate Director/Director, Safety Scientist'\n",
            " 'Senior Scientist, Cell Pharmacology/Assay Development'\n",
            " 'Data Analyst Senior' 'Lead Data Engineer (Python)'\n",
            " 'Senior Data Scientist 4 Artificial Intelligence'\n",
            " 'Medical Lab Scientist - MLT'\n",
            " 'Senior Operations Data Analyst, Call Center Operations'\n",
            " 'Director II, Data Science - GRS Predictive Analytics'\n",
            " 'RESEARCH COMPUTER SCIENTIST - RESEARCH ENGINEER - SR. COMPUTER SCIENTIST - SOFTWARE DEVELOPMENT'\n",
            " 'Geospatial Software Developer and Data Scientist'\n",
            " 'Senior Scientist - Toxicologist - Product Integrity (Stewardship)'\n",
            " 'Systems Engineer II - Data Analyst'\n",
            " 'Senior Research Analytical Scientist-Non-Targeted Analysis'\n",
            " 'Director Data Science' 'Sr Data Analyst - IT'\n",
            " 'Associate Machine Learning Engineer / Data Scientist May 2020 Undergrad'\n",
            " 'Senior Scientist - Biostatistician'\n",
            " 'Principal Machine Learning Scientist'\n",
            " 'Data Analyst, Performance Partnership' 'Data Scientist Manager'\n",
            " 'Software Data Engineer - College' 'Senior Data Scientist - Algorithms'\n",
            " 'Senior Data Scientist Oncology' 'Principal Data Scientist'\n",
            " 'Data Scientist - Alpha Insights'\n",
            " 'Associate Principal Scientist, Pharmacogenomics'\n",
            " 'Data Scientist - Systems Engineering'\n",
            " 'Data Engineer - Consultant (Charlotte Based)'\n",
            " 'Data Analyst 1, full-time contract worker for up to 12 months'\n",
            " 'Scientist, Immuno-Oncology' 'Products Data Analyst II'\n",
            " 'Lead Data Analyst' 'Data Science Engineer - Mobile'\n",
            " 'Sr Expert Data Science, Advanced Visual Analytics (Associate level)'\n",
            " 'IT Associate Data Analyst' 'Business Data Analyst'\n",
            " 'Data Scientist - Sales' 'Principal, Data Science - Advanced Analytics'\n",
            " 'Data Science Project Manager' 'Sr Scientist, Immuno-Oncology - Oncology'\n",
            " 'Research Scientist – Security and Privacy' 'Data Science Manager'\n",
            " 'Data Analyst 2 (Missionary Department)' 'Supply Chain Data Analyst'\n",
            " 'Data Engineer - ETL' 'Data Modeler (Analytical Systems)'\n",
            " 'Data Scientist in Translational Medicine'\n",
            " 'Product Manager/Data Evangelist'\n",
            " 'Senior Data Scientist – Visualization, Novartis AI Innovation Lab'\n",
            " 'Senior Data Analyst/Scientist'\n",
            " 'Scientist – Cancer Discovery, Molecular Assay'\n",
            " 'Data Engineering Analyst' 'Manager of Data Science'\n",
            " 'Software Engineer (Data Scientist/Software Engineer) - SISW - MG'\n",
            " 'Associate Research Scientist I (Protein Expression and Production)'\n",
            " 'Director, Precision Medicine Clinical Biomarker Scientist'\n",
            " 'Senior Formulations Scientist II' 'Senior Quantitative Analyst'\n",
            " 'Research Scientist or Senior Research Scientist - Computer Vision'\n",
            " 'Data Analyst Chemist - Quality System Contractor'\n",
            " 'Research Scientist / Principal Research Scientist - Multiphysical Systems'\n",
            " 'Research Scientist, Machine Learning Department'\n",
            " 'Foundational Community Supports Data Analyst'\n",
            " 'Senior Health Data Analyst, Star Ratings'\n",
            " 'Principal Research Scientist/Team Lead, Medicinal Chemistry - Oncology'\n",
            " 'Senior Engineer, Data Management Engineering'\n",
            " 'Quality Control Scientist III- Analytical Development'\n",
            " 'Clinical Scientist, Clinical Development'\n",
            " 'Software Engineer Staff Scientist: Human Language Technologies'\n",
            " 'Manager, Safety Scientist, Medical Safety & Risk Management'\n",
            " 'Assistant Director/Director, Office of Data Science'\n",
            " 'Sr. Data Engineer | Big Data SaaS Pipeline'\n",
            " 'Scientist - CVRM Metabolism - in vivo pharmacology'\n",
            " 'Data Scientist (Warehouse Automation)' 'Jr. Data Scientist'\n",
            " 'Data Architect / Data Modeler'\n",
            " 'Associate Scientist / Sr. Associate Scientist, Antibody Discovery'\n",
            " 'Machine Learning Engineer (NLP)' 'Data Scientist2']\n"
          ]
        }
      ],
      "source": [
        "print (df['job_title'].unique())"
      ]
    },
    {
      "cell_type": "code",
      "execution_count": null,
      "metadata": {
        "colab": {
          "base_uri": "https://localhost:8080/"
        },
        "id": "invCsX44f1JC",
        "outputId": "fe499b12-c7ba-4190-e628-d0d6513204d2",
        "vscode": {
          "languageId": "python"
        }
      },
      "outputs": [
        {
          "data": {
            "text/plain": [
              "264"
            ]
          },
          "execution_count": 68,
          "metadata": {},
          "output_type": "execute_result"
        }
      ],
      "source": [
        "df['job_title'].nunique()"
      ]
    },
    {
      "cell_type": "markdown",
      "metadata": {
        "id": "5iZPDBnotrp-"
      },
      "source": [
        "There's some data quality issues in there. \n",
        "The fact that there's two different terms representing the same thing is a problem. It's also a bit cumbersome if you wanted to query the data.\n"
      ]
    },
    {
      "cell_type": "code",
      "execution_count": null,
      "metadata": {
        "colab": {
          "base_uri": "https://localhost:8080/"
        },
        "id": "ZMoZgJfsp6Y2",
        "outputId": "ee2f4c2c-07c1-4305-e82a-006c1db5227a",
        "vscode": {
          "languageId": "python"
        }
      },
      "outputs": [
        {
          "data": {
            "text/plain": [
              "89"
            ]
          },
          "execution_count": 84,
          "metadata": {},
          "output_type": "execute_result"
        }
      ],
      "source": [
        "\n",
        "transformed.loc[df['job_title'].str.contains('Data Scientist'), 'job_title'] = 'Data Scientist'\n",
        "transformed.loc[df['job_title'].str.contains('Data Engineer'), 'job_title'] = 'Data Engineer'\n",
        "transformed.loc[df['job_title'].str.contains('Software Engineer'), 'job_title'] = 'Software Engineer'\n",
        "transformed.loc[df['job_title'].str.contains('Research Scientist'), 'job_title'] = 'Research Scientist'\n",
        "transformed.loc[df['job_title'].str.contains('Director'), 'job_title'] = 'Director'\n",
        "transformed.loc[df['job_title'].str.contains('Data Analyst'), 'job_title'] = 'Data Analyst'\n",
        "transformed.loc[df['job_title'].str.contains('Machine Learning Engineer'), 'job_title'] = 'Machine Learning Engineer'\n",
        "transformed.loc[df['job_title'].str.contains('Associate Scientist'), 'job_title'] = 'Associate Scientist'\n",
        "transformed.loc[df['job_title'].str.contains('Developer'), 'job_title'] = 'Developer'\n",
        "transformed.loc[df['job_title'].str.contains('Manager'), 'job_title'] = 'Manager'\n",
        "transformed.loc[df['job_title'].str.contains('Architect'), 'job_title'] = 'Architect'\n",
        "transformed['job_title'].nunique()\n"
      ]
    },
    {
      "cell_type": "code",
      "execution_count": null,
      "metadata": {
        "colab": {
          "base_uri": "https://localhost:8080/"
        },
        "id": "1jFK9PkjqW1o",
        "outputId": "bfa43807-1b40-47fd-dbd4-053abe41c34c",
        "vscode": {
          "languageId": "python"
        }
      },
      "outputs": [
        {
          "data": {
            "text/plain": [
              "Data Scientist                                          266\n",
              "Data Engineer                                           112\n",
              "Data Analyst                                             99\n",
              "Manager                                                  25\n",
              "Research Scientist                                       17\n",
              "                                                       ... \n",
              "Senior Spark Engineer (Data Science)                      1\n",
              "Medical Technologist / Clinical Laboratory Scientist      1\n",
              "Data & Analytics Consultant (NYC)                         1\n",
              "CONSULTANT– DATA ANALYTICS GROUP                          1\n",
              "Scientist - CVRM Metabolism - in vivo pharmacology        1\n",
              "Name: job_title, Length: 89, dtype: int64"
            ]
          },
          "execution_count": 85,
          "metadata": {},
          "output_type": "execute_result"
        }
      ],
      "source": [
        "# To verify this, let's count the number of documents for each job title type again.\n",
        "transformed['job_title'].value_counts()"
      ]
    },
    {
      "cell_type": "markdown",
      "metadata": {
        "id": "X-EyMke8yu7c"
      },
      "source": [
        "### Select columns"
      ]
    },
    {
      "cell_type": "markdown",
      "metadata": {
        "id": "GgwqJ8LByw1c"
      },
      "source": [
        "Maybe we don't want to load all columns from the original data into our data warehouse.\n",
        "\n",
        "The original data contains a column called 'grades'. Let's delete this column entirely."
      ]
    },
    {
      "cell_type": "code",
      "execution_count": null,
      "metadata": {
        "id": "9g_9wVbhy818",
        "vscode": {
          "languageId": "python"
        }
      },
      "outputs": [],
      "source": [
        "# Delete the 'grades' column\n",
        "del transformed['job_description']"
      ]
    },
    {
      "cell_type": "code",
      "execution_count": null,
      "metadata": {
        "colab": {
          "base_uri": "https://localhost:8080/",
          "height": 438
        },
        "id": "0euU9Fk6zEOc",
        "outputId": "05acc920-5378-4456-86c6-969cf0b9da40",
        "vscode": {
          "languageId": "python"
        }
      },
      "outputs": [
        {
          "data": {
            "text/html": [
              "\n",
              "  <div id=\"df-478df4a1-8b77-47d8-9ddb-149dd6620f51\">\n",
              "    <div class=\"colab-df-container\">\n",
              "      <div>\n",
              "<style scoped>\n",
              "    .dataframe tbody tr th:only-of-type {\n",
              "        vertical-align: middle;\n",
              "    }\n",
              "\n",
              "    .dataframe tbody tr th {\n",
              "        vertical-align: top;\n",
              "    }\n",
              "\n",
              "    .dataframe thead th {\n",
              "        text-align: right;\n",
              "    }\n",
              "</style>\n",
              "<table border=\"1\" class=\"dataframe\">\n",
              "  <thead>\n",
              "    <tr style=\"text-align: right;\">\n",
              "      <th></th>\n",
              "      <th>_id</th>\n",
              "      <th>Id</th>\n",
              "      <th>job_title</th>\n",
              "      <th>salary_estimate</th>\n",
              "      <th>rating</th>\n",
              "      <th>company_name</th>\n",
              "      <th>location</th>\n",
              "      <th>headquarters</th>\n",
              "      <th>size</th>\n",
              "      <th>founded</th>\n",
              "      <th>...</th>\n",
              "      <th>avg_salary</th>\n",
              "      <th>company_txt</th>\n",
              "      <th>job_state</th>\n",
              "      <th>same_state</th>\n",
              "      <th>age</th>\n",
              "      <th>python_yn</th>\n",
              "      <th>R_yn</th>\n",
              "      <th>spark</th>\n",
              "      <th>aws</th>\n",
              "      <th>excel</th>\n",
              "    </tr>\n",
              "  </thead>\n",
              "  <tbody>\n",
              "    <tr>\n",
              "      <th>0</th>\n",
              "      <td>63808d4db5717040c1455c1b</td>\n",
              "      <td>1</td>\n",
              "      <td>Data Scientist</td>\n",
              "      <td>$53K-$91K (Glassdoor est.)</td>\n",
              "      <td>3.8</td>\n",
              "      <td>Tecolote Research\\n3.8</td>\n",
              "      <td>Albuquerque, NM</td>\n",
              "      <td>Goleta, CA</td>\n",
              "      <td>501 to 1000 employees</td>\n",
              "      <td>1973</td>\n",
              "      <td>...</td>\n",
              "      <td>72</td>\n",
              "      <td>Tecolote Research\\n</td>\n",
              "      <td>NM</td>\n",
              "      <td>0</td>\n",
              "      <td>47</td>\n",
              "      <td>1</td>\n",
              "      <td>0</td>\n",
              "      <td>0</td>\n",
              "      <td>0</td>\n",
              "      <td>1</td>\n",
              "    </tr>\n",
              "    <tr>\n",
              "      <th>1</th>\n",
              "      <td>63808d4db5717040c1455c1d</td>\n",
              "      <td>3</td>\n",
              "      <td>Data Scientist</td>\n",
              "      <td>$80K-$90K (Glassdoor est.)</td>\n",
              "      <td>4.8</td>\n",
              "      <td>KnowBe4\\n4.8</td>\n",
              "      <td>Clearwater, FL</td>\n",
              "      <td>Clearwater, FL</td>\n",
              "      <td>501 to 1000 employees</td>\n",
              "      <td>2010</td>\n",
              "      <td>...</td>\n",
              "      <td>85</td>\n",
              "      <td>KnowBe4\\n</td>\n",
              "      <td>FL</td>\n",
              "      <td>1</td>\n",
              "      <td>10</td>\n",
              "      <td>1</td>\n",
              "      <td>0</td>\n",
              "      <td>1</td>\n",
              "      <td>0</td>\n",
              "      <td>1</td>\n",
              "    </tr>\n",
              "    <tr>\n",
              "      <th>2</th>\n",
              "      <td>63808d4db5717040c1455c1e</td>\n",
              "      <td>4</td>\n",
              "      <td>Data Scientist</td>\n",
              "      <td>$56K-$97K (Glassdoor est.)</td>\n",
              "      <td>3.8</td>\n",
              "      <td>PNNL\\n3.8</td>\n",
              "      <td>Richland, WA</td>\n",
              "      <td>Richland, WA</td>\n",
              "      <td>1001 to 5000 employees</td>\n",
              "      <td>1965</td>\n",
              "      <td>...</td>\n",
              "      <td>76.5</td>\n",
              "      <td>PNNL\\n</td>\n",
              "      <td>WA</td>\n",
              "      <td>1</td>\n",
              "      <td>55</td>\n",
              "      <td>1</td>\n",
              "      <td>0</td>\n",
              "      <td>0</td>\n",
              "      <td>0</td>\n",
              "      <td>0</td>\n",
              "    </tr>\n",
              "    <tr>\n",
              "      <th>3</th>\n",
              "      <td>63808d4db5717040c1455c1f</td>\n",
              "      <td>5</td>\n",
              "      <td>Data Scientist</td>\n",
              "      <td>$86K-$143K (Glassdoor est.)</td>\n",
              "      <td>2.9</td>\n",
              "      <td>Affinity Solutions\\n2.9</td>\n",
              "      <td>New York, NY</td>\n",
              "      <td>New York, NY</td>\n",
              "      <td>51 to 200 employees</td>\n",
              "      <td>1998</td>\n",
              "      <td>...</td>\n",
              "      <td>114.5</td>\n",
              "      <td>Affinity Solutions\\n</td>\n",
              "      <td>NY</td>\n",
              "      <td>1</td>\n",
              "      <td>22</td>\n",
              "      <td>1</td>\n",
              "      <td>0</td>\n",
              "      <td>0</td>\n",
              "      <td>0</td>\n",
              "      <td>1</td>\n",
              "    </tr>\n",
              "    <tr>\n",
              "      <th>4</th>\n",
              "      <td>63808d4db5717040c1455c20</td>\n",
              "      <td>6</td>\n",
              "      <td>Data Scientist</td>\n",
              "      <td>$71K-$119K (Glassdoor est.)</td>\n",
              "      <td>3.4</td>\n",
              "      <td>CyrusOne\\n3.4</td>\n",
              "      <td>Dallas, TX</td>\n",
              "      <td>Dallas, TX</td>\n",
              "      <td>201 to 500 employees</td>\n",
              "      <td>2000</td>\n",
              "      <td>...</td>\n",
              "      <td>95</td>\n",
              "      <td>CyrusOne\\n</td>\n",
              "      <td>TX</td>\n",
              "      <td>1</td>\n",
              "      <td>20</td>\n",
              "      <td>1</td>\n",
              "      <td>0</td>\n",
              "      <td>0</td>\n",
              "      <td>1</td>\n",
              "      <td>1</td>\n",
              "    </tr>\n",
              "  </tbody>\n",
              "</table>\n",
              "<p>5 rows × 29 columns</p>\n",
              "</div>\n",
              "      <button class=\"colab-df-convert\" onclick=\"convertToInteractive('df-478df4a1-8b77-47d8-9ddb-149dd6620f51')\"\n",
              "              title=\"Convert this dataframe to an interactive table.\"\n",
              "              style=\"display:none;\">\n",
              "        \n",
              "  <svg xmlns=\"http://www.w3.org/2000/svg\" height=\"24px\"viewBox=\"0 0 24 24\"\n",
              "       width=\"24px\">\n",
              "    <path d=\"M0 0h24v24H0V0z\" fill=\"none\"/>\n",
              "    <path d=\"M18.56 5.44l.94 2.06.94-2.06 2.06-.94-2.06-.94-.94-2.06-.94 2.06-2.06.94zm-11 1L8.5 8.5l.94-2.06 2.06-.94-2.06-.94L8.5 2.5l-.94 2.06-2.06.94zm10 10l.94 2.06.94-2.06 2.06-.94-2.06-.94-.94-2.06-.94 2.06-2.06.94z\"/><path d=\"M17.41 7.96l-1.37-1.37c-.4-.4-.92-.59-1.43-.59-.52 0-1.04.2-1.43.59L10.3 9.45l-7.72 7.72c-.78.78-.78 2.05 0 2.83L4 21.41c.39.39.9.59 1.41.59.51 0 1.02-.2 1.41-.59l7.78-7.78 2.81-2.81c.8-.78.8-2.07 0-2.86zM5.41 20L4 18.59l7.72-7.72 1.47 1.35L5.41 20z\"/>\n",
              "  </svg>\n",
              "      </button>\n",
              "      \n",
              "  <style>\n",
              "    .colab-df-container {\n",
              "      display:flex;\n",
              "      flex-wrap:wrap;\n",
              "      gap: 12px;\n",
              "    }\n",
              "\n",
              "    .colab-df-convert {\n",
              "      background-color: #E8F0FE;\n",
              "      border: none;\n",
              "      border-radius: 50%;\n",
              "      cursor: pointer;\n",
              "      display: none;\n",
              "      fill: #1967D2;\n",
              "      height: 32px;\n",
              "      padding: 0 0 0 0;\n",
              "      width: 32px;\n",
              "    }\n",
              "\n",
              "    .colab-df-convert:hover {\n",
              "      background-color: #E2EBFA;\n",
              "      box-shadow: 0px 1px 2px rgba(60, 64, 67, 0.3), 0px 1px 3px 1px rgba(60, 64, 67, 0.15);\n",
              "      fill: #174EA6;\n",
              "    }\n",
              "\n",
              "    [theme=dark] .colab-df-convert {\n",
              "      background-color: #3B4455;\n",
              "      fill: #D2E3FC;\n",
              "    }\n",
              "\n",
              "    [theme=dark] .colab-df-convert:hover {\n",
              "      background-color: #434B5C;\n",
              "      box-shadow: 0px 1px 3px 1px rgba(0, 0, 0, 0.15);\n",
              "      filter: drop-shadow(0px 1px 2px rgba(0, 0, 0, 0.3));\n",
              "      fill: #FFFFFF;\n",
              "    }\n",
              "  </style>\n",
              "\n",
              "      <script>\n",
              "        const buttonEl =\n",
              "          document.querySelector('#df-478df4a1-8b77-47d8-9ddb-149dd6620f51 button.colab-df-convert');\n",
              "        buttonEl.style.display =\n",
              "          google.colab.kernel.accessAllowed ? 'block' : 'none';\n",
              "\n",
              "        async function convertToInteractive(key) {\n",
              "          const element = document.querySelector('#df-478df4a1-8b77-47d8-9ddb-149dd6620f51');\n",
              "          const dataTable =\n",
              "            await google.colab.kernel.invokeFunction('convertToInteractive',\n",
              "                                                     [key], {});\n",
              "          if (!dataTable) return;\n",
              "\n",
              "          const docLinkHtml = 'Like what you see? Visit the ' +\n",
              "            '<a target=\"_blank\" href=https://colab.research.google.com/notebooks/data_table.ipynb>data table notebook</a>'\n",
              "            + ' to learn more about interactive tables.';\n",
              "          element.innerHTML = '';\n",
              "          dataTable['output_type'] = 'display_data';\n",
              "          await google.colab.output.renderOutput(dataTable, element);\n",
              "          const docLink = document.createElement('div');\n",
              "          docLink.innerHTML = docLinkHtml;\n",
              "          element.appendChild(docLink);\n",
              "        }\n",
              "      </script>\n",
              "    </div>\n",
              "  </div>\n",
              "  "
            ],
            "text/plain": [
              "                        _id  Id       job_title              salary_estimate  \\\n",
              "0  63808d4db5717040c1455c1b   1  Data Scientist   $53K-$91K (Glassdoor est.)   \n",
              "1  63808d4db5717040c1455c1d   3  Data Scientist   $80K-$90K (Glassdoor est.)   \n",
              "2  63808d4db5717040c1455c1e   4  Data Scientist   $56K-$97K (Glassdoor est.)   \n",
              "3  63808d4db5717040c1455c1f   5  Data Scientist  $86K-$143K (Glassdoor est.)   \n",
              "4  63808d4db5717040c1455c20   6  Data Scientist  $71K-$119K (Glassdoor est.)   \n",
              "\n",
              "  rating             company_name         location    headquarters  \\\n",
              "0    3.8   Tecolote Research\\n3.8  Albuquerque, NM      Goleta, CA   \n",
              "1    4.8             KnowBe4\\n4.8   Clearwater, FL  Clearwater, FL   \n",
              "2    3.8                PNNL\\n3.8     Richland, WA    Richland, WA   \n",
              "3    2.9  Affinity Solutions\\n2.9     New York, NY    New York, NY   \n",
              "4    3.4            CyrusOne\\n3.4       Dallas, TX      Dallas, TX   \n",
              "\n",
              "                     size founded  ... avg_salary           company_txt  \\\n",
              "0   501 to 1000 employees    1973  ...         72   Tecolote Research\\n   \n",
              "1   501 to 1000 employees    2010  ...         85             KnowBe4\\n   \n",
              "2  1001 to 5000 employees    1965  ...       76.5                PNNL\\n   \n",
              "3     51 to 200 employees    1998  ...      114.5  Affinity Solutions\\n   \n",
              "4    201 to 500 employees    2000  ...         95            CyrusOne\\n   \n",
              "\n",
              "  job_state same_state age python_yn R_yn spark aws excel  \n",
              "0        NM          0  47         1    0     0   0     1  \n",
              "1        FL          1  10         1    0     1   0     1  \n",
              "2        WA          1  55         1    0     0   0     0  \n",
              "3        NY          1  22         1    0     0   0     1  \n",
              "4        TX          1  20         1    0     0   1     1  \n",
              "\n",
              "[5 rows x 29 columns]"
            ]
          },
          "execution_count": 87,
          "metadata": {},
          "output_type": "execute_result"
        }
      ],
      "source": [
        "# Print out the first few rows again, just so we can see that column is gone now\n",
        "transformed.head()"
      ]
    },
    {
      "cell_type": "markdown",
      "metadata": {
        "id": "qRf353sHuuG9"
      },
      "source": [
        "# Load"
      ]
    },
    {
      "cell_type": "markdown",
      "metadata": {
        "id": "H-Qy9J8VuwF1"
      },
      "source": [
        "Now that we've extracted our data and transformed it, it's time to load it.\n",
        "\n",
        "In this example, for simplicity we'll just load it back into the same MongoDB Atlas database that we extracted it from, but put it into a new collection.\n",
        "\n",
        "Normally of course you would load it into a different database."
      ]
    },
    {
      "cell_type": "code",
      "execution_count": null,
      "metadata": {
        "id": "gdTkhPOfvEGU",
        "vscode": {
          "languageId": "python"
        }
      },
      "outputs": [],
      "source": [
        "# Create a new collection in the database. Note that with MongoDB the collection doesn't actually exist until we put some data into it (next step)\n",
        "# Our new collection will be called \"new_salary_data\"\n",
        "newcollection = db[\"new_salary_data\"]"
      ]
    },
    {
      "cell_type": "code",
      "execution_count": null,
      "metadata": {
        "colab": {
          "base_uri": "https://localhost:8080/"
        },
        "id": "B-ZSvGiIwruS",
        "outputId": "1929e720-c18a-4a72-e06b-77e84e57e03f",
        "vscode": {
          "languageId": "python"
        }
      },
      "outputs": [
        {
          "name": "stdout",
          "output_type": "stream",
          "text": [
            "0  documents deleted.\n"
          ]
        }
      ],
      "source": [
        "# Just in case the new collection has data in it (because we re-ran this notebook several times), let's delete all documents in it.\n",
        "delete_result = newcollection.delete_many({})\n",
        "print(delete_result.deleted_count, \" documents deleted.\")\n"
      ]
    },
    {
      "cell_type": "code",
      "execution_count": null,
      "metadata": {
        "colab": {
          "base_uri": "https://localhost:8080/"
        },
        "id": "z_KgWcKlvU09",
        "outputId": "35c36e9b-d16f-4880-9601-79d2b0b3bb2a",
        "vscode": {
          "languageId": "python"
        }
      },
      "outputs": [
        {
          "name": "stdout",
          "output_type": "stream",
          "text": [
            "Insert successful\n"
          ]
        }
      ],
      "source": [
        "# Insert the records (documents) from our 'transformed' Pandas DataFrame into the new collection\n",
        "# Note that if you try to run this twice without first deleting all the documents, you will get an error about inserting duplicates. That's OK, just delete them (previous code block) first\n",
        "insert_result = newcollection.insert_many(transformed.to_dict('records'))\n",
        "if insert_result.acknowledged:\n",
        "  print (\"Insert successful\")\n"
      ]
    },
    {
      "cell_type": "markdown",
      "metadata": {
        "id": "wWjKUdDEvf_0"
      },
      "source": [
        "Now log in to your MongoDB Atlas cluster, and look at your list of databases and collections.\n",
        "\n",
        "In the 'restaurants' database, there should now be another collection called 'new_restaurants'.\n",
        "\n",
        "How many documents are in the new collection compared with the original one?\n",
        "\n",
        "Verify that there is no 'grades' attribute in the new collection either."
      ]
    },
    {
      "cell_type": "markdown",
      "metadata": {
        "id": "s_sfJ9-lzh9R"
      },
      "source": [
        "# Summary"
      ]
    },
    {
      "cell_type": "markdown",
      "metadata": {
        "id": "fQAdypW6zjkp"
      },
      "source": [
        "We've just seen a very simple ETL example where we extracted some data from a database, applied some transformations, then loaded it back into another database.\n",
        "\n",
        "The purpose is just to illustrate at a very basic level how a data engineer might create code that implements batch ETL processing on data. If you don't know Python code and didn't really understand the code, that's fine - it's more about understanding the steps, and being able to try them out.\n",
        "\n",
        "Even if you don't know Python though, one thing you might have noticed along the way is that most steps only required 1 or 2 lines of code. We could transform an entire data set with a single instruction. That's the power of ETL - being able to automate data pipelines with simple instructions."
      ]
    }
  ],
  "metadata": {
    "colab": {
      "provenance": []
    },
    "kernelspec": {
      "display_name": "Python 3",
      "name": "python3"
    }
  },
  "nbformat": 4,
  "nbformat_minor": 0
}
