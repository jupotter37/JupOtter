{
 "cells": [
  {
   "cell_type": "code",
   "execution_count": 8,
   "metadata": {},
   "outputs": [
    {
     "name": "stdout",
     "output_type": "stream",
     "text": [
      "Name: jamil\n",
      "Age: 20\n",
      "Address: 123 Main St.\n"
     ]
    }
   ],
   "source": [
    "class Person:\n",
    "    def __init__(self, name, age, address):\n",
    "        self.name = name\n",
    "        self.age = age\n",
    "        self.address = address\n",
    "\n",
    "    def display_info(self):\n",
    "        print(f\"Name: {self.name}\")\n",
    "        print(f\"Age: {self.age}\")\n",
    "        print(f\"Address: {self.address}\")\n",
    "\n",
    "\n",
    "Person(\"jamil\", 20, \"123 Main St.\").display_info()\n",
    "\n",
    "\n",
    "  \n",
    "\n"
   ]
  },
  {
   "cell_type": "code",
   "execution_count": null,
   "metadata": {},
   "outputs": [],
   "source": [
    "def print_person_info(person):\n",
    "    if isinstance(person, Faculty):\n",
    "        person.display_info()\n",
    "        person.calculate_salary()\n",
    "        person.teach_course()\n",
    "    elif isinstance(person, Employee):\n",
    "        person.display_info()\n",
    "        person.calculate_salary()\n",
    "    elif isinstance(person, Student):\n",
    "        person.display_info()\n",
    "        person.display_academics()\n",
    "    elif isinstance(person, Person):\n",
    "        person.display_info()"
   ]
  },
  {
   "cell_type": "code",
   "execution_count": null,
   "metadata": {},
   "outputs": [],
   "source": []
  },
  {
   "cell_type": "code",
   "execution_count": 9,
   "metadata": {},
   "outputs": [
    {
     "name": "stdout",
     "output_type": "stream",
     "text": [
      "Name: jamil\n",
      "Age: 20\n",
      "Address: 123 Main St\n",
      "Monthly Salary: 10000.0\n"
     ]
    }
   ],
   "source": [
    "class Employee(Person):\n",
    "    def __init__(self, name, age, address, employee_id, department, salary):\n",
    "        super().__init__(name, age, address)\n",
    "        self.employee_id = employee_id\n",
    "        self.department = department\n",
    "        self.salary = salary\n",
    "\n",
    "    def calculate_salary(self):\n",
    "        monthly_salary = self.salary / 12\n",
    "        print(f\"Monthly Salary: {monthly_salary}\")\n",
    "\n",
    "\n",
    "e = Employee(\"jamil\", 20, \"123 Main St\", \"B041\", \"IT\", 120000)\n",
    "e.display_info()\n",
    "e.calculate_salary()"
   ]
  },
  {
   "cell_type": "code",
   "execution_count": 10,
   "metadata": {},
   "outputs": [
    {
     "name": "stdout",
     "output_type": "stream",
     "text": [
      "Name: Jamil \n",
      "Age: 20\n",
      "Address: 123 Main St\n",
      "Monthly Salary: 10000.0\n",
      "Teaching Subject: Computer Science\n"
     ]
    }
   ],
   "source": [
    "class Faculty(Employee):\n",
    "    def __init__(self, name, age, address, employee_id, department, salary, teaching_subject):\n",
    "        super().__init__(name, age, address, employee_id, department, salary)\n",
    "        self.teaching_subject = teaching_subject\n",
    "\n",
    "    def teach_course(self):\n",
    "        print(f\"Teaching Subject: {self.teaching_subject}\")\n",
    "\n",
    "f = Faculty(\"Jamil \", 20, \"123 Main St\", \"B041\", \"IT\", 120000, \"Computer Science\")\n",
    "f.display_info()\n",
    "f.calculate_salary()\n",
    "f.teach_course()        "
   ]
  },
  {
   "cell_type": "code",
   "execution_count": 13,
   "metadata": {},
   "outputs": [
    {
     "name": "stdout",
     "output_type": "stream",
     "text": [
      "Name: Jonny liver\n",
      "Age: 20\n",
      "Address: 13 harley St\n",
      "Student ID: S001\n",
      "Major: Computer Science\n",
      "GPA: 3.8\n"
     ]
    }
   ],
   "source": [
    "class Student(Person):\n",
    "    def __init__(self, name, age, address, student_id, major, gpa):\n",
    "        super().__init__(name, age, address)\n",
    "        self.student_id = student_id\n",
    "        self.major = major\n",
    "        self.gpa = gpa\n",
    "\n",
    "    def display_academics(self):\n",
    "        print(f\"Student ID: {self.student_id}\")\n",
    "        print(f\"Major: {self.major}\")\n",
    "        print(f\"GPA: {self.gpa}\")\n",
    "\n",
    "s = Student(\"Jonny liver\", 20, \"13 Main St\", \"S001\", \"Computer Science\", 3.8)\n",
    "s.display_info()\n",
    "s.display_academics()"
   ]
  },
  {
   "cell_type": "code",
   "execution_count": 15,
   "metadata": {},
   "outputs": [
    {
     "name": "stdout",
     "output_type": "stream",
     "text": [
      "Name: John Doe\n",
      "Age: 30\n",
      "Address: 123 Main St\n",
      "Name: Jane Doe\n",
      "Age: 35\n",
      "Address: 456 Main St\n",
      "Monthly Salary: 7500.0\n",
      "Name: Jim Doe\n",
      "Age: 40\n",
      "Address: 789 Main St\n",
      "Monthly Salary: 6666.666666666667\n",
      "Teaching Subject: Calculus\n",
      "Name: Jill Doe\n",
      "Age: 20\n",
      "Address: 012 Main St\n",
      "Student ID: S002\n",
      "Major: Biology\n",
      "GPA: 3.9\n"
     ]
    }
   ],
   "source": [
    "def print_person_info(person):\n",
    "    if isinstance(person, Faculty):\n",
    "        person.display_info()\n",
    "        person.calculate_salary()\n",
    "        person.teach_course()\n",
    "    elif isinstance(person, Employee):\n",
    "        person.display_info()\n",
    "        person.calculate_salary()\n",
    "    elif isinstance(person, Student):\n",
    "        person.display_info()\n",
    "        person.display_academics()\n",
    "    elif isinstance(person, Person):\n",
    "        person.display_info()\n",
    "\n",
    "p = Person(\"John Doe\", 30, \"123 Main St\")\n",
    "e = Employee(\"Jane Doe\", 35, \"456 Main St\", \"E002\", \"HR\", 90000)\n",
    "f = Faculty(\"Jim Doe\", 40, \"789 Main St\", \"E003\", \"Math\", 80000, \"Calculus\")\n",
    "s = Student(\"Jill Doe\", 20, \"012 Main St\", \"S002\", \"Biology\", 3.9)\n",
    "\n",
    "print_person_info(p)\n",
    "print_person_info(e)\n",
    "print_person_info(f)\n",
    "print_person_info(s)"
   ]
  },
  {
   "cell_type": "code",
   "execution_count": 16,
   "metadata": {},
   "outputs": [
    {
     "name": "stdout",
     "output_type": "stream",
     "text": [
      "Name: John Doe\n",
      "Age: 30\n",
      "Address: 123 Main St\n",
      "--------------------\n",
      "Name: Jane Doe\n",
      "Age: 35\n",
      "Address: 456 Main St\n",
      "Monthly Salary: 7500.0\n",
      "--------------------\n",
      "Name: Jim Doe\n",
      "Age: 40\n",
      "Address: 789 Main St\n",
      "Monthly Salary: 6666.666666666667\n",
      "Teaching Subject: Calculus\n",
      "--------------------\n",
      "Name: Jill Doe\n",
      "Age: 20\n",
      "Address: 012 Main St\n",
      "Student ID: S002\n",
      "Major: Biology\n",
      "GPA: 3.9\n",
      "--------------------\n"
     ]
    }
   ],
   "source": [
    "\n",
    "persons = [\n",
    "    Person(\"John Doe\", 30, \"123 Main St\"),\n",
    "    Employee(\"Jane Doe\", 35, \"456 Main St\", \"E002\", \"HR\", 90000),\n",
    "    Faculty(\"Jim Doe\", 40, \"789 Main St\", \"E003\", \"Math\", 80000, \"Calculus\"),\n",
    "    Student(\"Jill Doe\", 20, \"012 Main St\", \"S002\", \"Biology\", 3.9)\n",
    "]\n",
    "\n",
    "for person in persons:\n",
    "    print_person_info(person)\n",
    "    print(\"--------------------\") "
   ]
  },
  {
   "cell_type": "code",
   "execution_count": null,
   "metadata": {},
   "outputs": [],
   "source": []
  }
 ],
 "metadata": {
  "kernelspec": {
   "display_name": "Python 3",
   "language": "python",
   "name": "python3"
  },
  "language_info": {
   "codemirror_mode": {
    "name": "ipython",
    "version": 3
   },
   "file_extension": ".py",
   "mimetype": "text/x-python",
   "name": "python",
   "nbconvert_exporter": "python",
   "pygments_lexer": "ipython3",
   "version": "3.11.0"
  }
 },
 "nbformat": 4,
 "nbformat_minor": 2
}
