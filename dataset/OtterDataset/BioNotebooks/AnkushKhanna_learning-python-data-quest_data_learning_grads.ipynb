{
 "cells": [
  {
   "cell_type": "code",
   "execution_count": 11,
   "metadata": {
    "collapsed": false
   },
   "outputs": [
    {
     "data": {
      "text/plain": [
       "array(['Agriculture & Natural Resources', 'Biology & Life Science',\n",
       "       'Engineering', 'Humanities & Liberal Arts',\n",
       "       'Communications & Journalism', 'Computers & Mathematics',\n",
       "       'Industrial Arts & Consumer Services', 'Education',\n",
       "       'Law & Public Policy', 'Interdisciplinary', 'Health',\n",
       "       'Social Science', 'Physical Sciences', 'Psychology & Social Work',\n",
       "       'Arts', 'Business'], dtype=object)"
      ]
     },
     "execution_count": 11,
     "metadata": {},
     "output_type": "execute_result"
    }
   ],
   "source": [
    "import numpy as np\n",
    "import pandas as pd\n",
    "\n",
    "all_ages = pd.read_csv(\"all-ages.csv\")\n",
    "\n",
    "recent_grads = pd.read_csv(\"recent-grads.csv\")\n",
    "\n",
    "all_ages['Major_category'].unique()"
   ]
  },
  {
   "cell_type": "code",
   "execution_count": 12,
   "metadata": {
    "collapsed": false
   },
   "outputs": [
    {
     "data": {
      "text/plain": [
       "Major_category\n",
       "Agriculture & Natural Resources         632437\n",
       "Arts                                   1805865\n",
       "Biology & Life Science                 1338186\n",
       "Business                               9858741\n",
       "Communications & Journalism            1803822\n",
       "Computers & Mathematics                1781378\n",
       "Education                              4700118\n",
       "Engineering                            3576013\n",
       "Health                                 2950859\n",
       "Humanities & Liberal Arts              3738335\n",
       "Industrial Arts & Consumer Services    1033798\n",
       "Interdisciplinary                        45199\n",
       "Law & Public Policy                     902926\n",
       "Physical Sciences                      1025318\n",
       "Psychology & Social Work               1987278\n",
       "Social Science                         2654125\n",
       "Name: Total, dtype: int64"
      ]
     },
     "execution_count": 12,
     "metadata": {},
     "output_type": "execute_result"
    }
   ],
   "source": [
    "major_category = all_ages['Major_category'].unique()\n",
    "\n",
    "aa_cat_counts = all_ages.pivot_table(index=\"Major_category\", values=\"Total\", aggfunc=np.sum)\n",
    "aa_cat_counts"
   ]
  },
  {
   "cell_type": "code",
   "execution_count": 13,
   "metadata": {
    "collapsed": false
   },
   "outputs": [
    {
     "data": {
      "text/plain": [
       "Major_category\n",
       "Agriculture & Natural Resources          79981\n",
       "Arts                                    357130\n",
       "Biology & Life Science                  453862\n",
       "Business                               1302376\n",
       "Communications & Journalism             392601\n",
       "Computers & Mathematics                 299008\n",
       "Education                               559129\n",
       "Engineering                             537583\n",
       "Health                                  463230\n",
       "Humanities & Liberal Arts               713468\n",
       "Industrial Arts & Consumer Services     229792\n",
       "Interdisciplinary                        12296\n",
       "Law & Public Policy                     179107\n",
       "Physical Sciences                       185479\n",
       "Psychology & Social Work                481007\n",
       "Social Science                          529966\n",
       "Name: Total, dtype: int64"
      ]
     },
     "execution_count": 13,
     "metadata": {},
     "output_type": "execute_result"
    }
   ],
   "source": [
    "rg_cat_counts = recent_grads.pivot_table(index=\"Major_category\", values=\"Total\", aggfunc=np.sum)\n",
    "rg_cat_counts"
   ]
  },
  {
   "cell_type": "markdown",
   "metadata": {},
   "source": [
    "### Low wage precentage\n"
   ]
  },
  {
   "cell_type": "code",
   "execution_count": 15,
   "metadata": {
    "collapsed": false
   },
   "outputs": [
    {
     "data": {
      "text/plain": [
       "Major_category\n",
       "Agriculture & Natural Resources        0.098761\n",
       "Arts                                   0.168331\n",
       "Biology & Life Science                 0.094174\n",
       "Business                               0.097351\n",
       "Communications & Journalism            0.126324\n",
       "Computers & Mathematics                0.053965\n",
       "Education                              0.073096\n",
       "Engineering                            0.046651\n",
       "Health                                 0.067504\n",
       "Humanities & Liberal Arts              0.132087\n",
       "Industrial Arts & Consumer Services    0.115713\n",
       "Interdisciplinary                      0.086288\n",
       "Law & Public Policy                    0.115685\n",
       "Physical Sciences                      0.075901\n",
       "Psychology & Social Work               0.116934\n",
       "Social Science                         0.102233\n",
       "dtype: float64"
      ]
     },
     "execution_count": 15,
     "metadata": {},
     "output_type": "execute_result"
    }
   ],
   "source": [
    "low_wage_total_sum = recent_grads.pivot_table(index=\"Major_category\", values=[\"Low_wage_jobs\", \"Total\"], aggfunc=np.sum)\n",
    "\n",
    "low_wage_percent = low_wage_total_sum[\"Low_wage_jobs\"] / low_wage_total_sum[\"Total\"]\n",
    "\n",
    "low_wage_percent"
   ]
  },
  {
   "cell_type": "code",
   "execution_count": 20,
   "metadata": {
    "collapsed": false
   },
   "outputs": [
    {
     "data": {
      "text/plain": [
       "0.09852546076122913"
      ]
     },
     "execution_count": 20,
     "metadata": {},
     "output_type": "execute_result"
    }
   ],
   "source": [
    "low_wage_all_percentage = low_wage_total_sum[\"Low_wage_jobs\"].sum()/low_wage_total_sum[\"Total\"].sum()\n",
    "low_wage_all_percentage"
   ]
  },
  {
   "cell_type": "markdown",
   "metadata": {},
   "source": [
    "### Comparing majors from both dataframe"
   ]
  },
  {
   "cell_type": "code",
   "execution_count": 26,
   "metadata": {
    "collapsed": false
   },
   "outputs": [
    {
     "name": "stdout",
     "output_type": "stream",
     "text": [
      "173\n"
     ]
    },
    {
     "data": {
      "text/plain": [
       "43"
      ]
     },
     "execution_count": 26,
     "metadata": {},
     "output_type": "execute_result"
    }
   ],
   "source": [
    "# All majors, common to both DataFrames\n",
    "majors = recent_grads['Major'].unique()\n",
    "print(len(majors))\n",
    "\n",
    "rg_lower_count = 0\n",
    "\n",
    "un_all_major = all_ages.pivot_table(index='Major', values='Unemployment_rate', aggfunc=np.sum)\n",
    "\n",
    "un_recent_major = recent_grads.pivot_table(index='Major', values='Unemployment_rate', aggfunc=np.sum)\n",
    "\n",
    "for m in majors:\n",
    "    if un_all_major[m] > un_recent_major[m]:\n",
    "        rg_lower_count = rg_lower_count + 1\n",
    "\n",
    "rg_lower_count"
   ]
  },
  {
   "cell_type": "code",
   "execution_count": null,
   "metadata": {
    "collapsed": true
   },
   "outputs": [],
   "source": []
  },
  {
   "cell_type": "code",
   "execution_count": null,
   "metadata": {
    "collapsed": true
   },
   "outputs": [],
   "source": []
  },
  {
   "cell_type": "code",
   "execution_count": null,
   "metadata": {
    "collapsed": true
   },
   "outputs": [],
   "source": []
  }
 ],
 "metadata": {
  "kernelspec": {
   "display_name": "Python 3",
   "language": "python",
   "name": "python3"
  },
  "language_info": {
   "codemirror_mode": {
    "name": "ipython",
    "version": 3
   },
   "file_extension": ".py",
   "mimetype": "text/x-python",
   "name": "python",
   "nbconvert_exporter": "python",
   "pygments_lexer": "ipython3",
   "version": "3.6.0"
  }
 },
 "nbformat": 4,
 "nbformat_minor": 2
}
