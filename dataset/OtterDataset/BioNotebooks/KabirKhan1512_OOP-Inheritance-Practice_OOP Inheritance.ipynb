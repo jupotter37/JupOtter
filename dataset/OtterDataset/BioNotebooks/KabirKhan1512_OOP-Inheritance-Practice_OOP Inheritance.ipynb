{
 "cells": [
  {
   "cell_type": "markdown",
   "id": "c4f0d7e0-9442-469e-a6a1-70a7f342740b",
   "metadata": {},
   "source": [
    "1. *Assignment 1:*\n",
    "   Create a Vehicle class with a constructor that initializes make and model attributes. Then, create a Car class that inherits from Vehicle and adds a color attribute. Add a method to Car that prints out a description of the car including its make, model, and color. Demonstrate how to create an object of Car and call the description method.\n",
    "\n"
   ]
  },
  {
   "cell_type": "code",
   "execution_count": 7,
   "id": "dfa4a60b-6499-4201-81df-12c7cff904da",
   "metadata": {},
   "outputs": [],
   "source": [
    "class Vehicle():\n",
    "    def __init__(self, make, model):\n",
    "        self.make = make\n",
    "        self.model = model\n",
    "\n",
    "\n",
    "class Car(Vehicle):\n",
    "    def __init__(self, make, model, color):\n",
    "        Vehicle.__init__(self, make, model)\n",
    "        self.color = color\n",
    "\n",
    "    def details(self):\n",
    "        print(f\"\"\"The details of this car is: \n",
    "        Model = {self.model}\n",
    "        Make = {self.make}\n",
    "        Color = {self.color}\"\"\")\n",
    "\n",
    "a = Car(\"Toyota\", \"2024\", \"White\")"
   ]
  },
  {
   "cell_type": "code",
   "execution_count": 8,
   "id": "9c4a3c93-84f7-4009-bd41-53aabab71d9b",
   "metadata": {},
   "outputs": [
    {
     "name": "stdout",
     "output_type": "stream",
     "text": [
      "The details of this car is: \n",
      "        Model = 2024\n",
      "        Make = Toyota\n",
      "        Color = White\n"
     ]
    }
   ],
   "source": [
    "a.details()"
   ]
  },
  {
   "cell_type": "markdown",
   "id": "8aceab48-2363-4f53-b856-a811c11d1d62",
   "metadata": {},
   "source": [
    "2. *Assignment 2:*\n",
    "   Define a Library class with a static variable total_books to keep track of the number of books across all instances. Implement methods to add books and get the total number of books. Then, create a Book class that inherits from Library and initializes additional attributes such as title and author in its constructor. Show how to update the total number of books using the static variable.\n",
    "\n"
   ]
  },
  {
   "cell_type": "code",
   "execution_count": 13,
   "id": "e0d5cb4d-3929-47da-8722-7ec7ebcade77",
   "metadata": {},
   "outputs": [],
   "source": [
    "class Library():\n",
    "    total_books = 0\n",
    "\n",
    "    def __init__(self, book_no, section):\n",
    "        self.book_no = book_no\n",
    "        self.section = section\n",
    "        Library.total_books += 1\n",
    "\n",
    "    def total_book(self):\n",
    "        print(f\"Total Books are {Library.total_books} in this library.\")\n",
    "\n",
    "\n",
    "class Book(Library):\n",
    "    def __init__(self, book_no, section, title, author):\n",
    "        Library.__init__(self, book_no, section)\n",
    "        self.title = title\n",
    "        self.author = author\n",
    "\n",
    "a = Book(\"1\", \"Bio\", \"Biology\", \"Kabir\")"
   ]
  },
  {
   "cell_type": "code",
   "execution_count": 17,
   "id": "0828ce3a-c3c2-4bb4-9fa2-d7c22b7fec5f",
   "metadata": {},
   "outputs": [
    {
     "data": {
      "text/plain": [
       "2"
      ]
     },
     "execution_count": 17,
     "metadata": {},
     "output_type": "execute_result"
    }
   ],
   "source": [
    "a.total_books"
   ]
  },
  {
   "cell_type": "markdown",
   "id": "9dfc0c8b-1b94-40cc-a5f7-c8377fe74466",
   "metadata": {},
   "source": [
    "3. *Assignment 3:*\n",
    "   Develop a Shape base class with a constructor that initializes name and a method to calculate area (though it may be an abstract method). Then, create Rectangle and Circle classes that inherit from Shape. Implement the area calculation methods in both subclasses. Demonstrate how to initialize objects of Rectangle and Circle and call their area calculation methods.\n",
    "calculation methods."
   ]
  },
  {
   "cell_type": "code",
   "execution_count": 34,
   "id": "fc28836c-9fe9-453a-b664-1202b06a40fa",
   "metadata": {},
   "outputs": [],
   "source": [
    "from abc import ABC, abstractmethod\n",
    "class Shape():\n",
    "    def __init__(self, name):\n",
    "        self.name = name\n",
    "    @abstractmethod\n",
    "    def area(self):\n",
    "        pass"
   ]
  },
  {
   "cell_type": "code",
   "execution_count": 35,
   "id": "62eb7ebd-0e3a-4b1b-bcd3-68f594783ed0",
   "metadata": {},
   "outputs": [],
   "source": [
    "class Rectangle(Shape):\n",
    "    def __init__(self, name, length, width):\n",
    "        Shape.__init__(self, name)\n",
    "        self.length = length\n",
    "        self.width = width\n",
    "\n",
    "    def area(self):\n",
    "        return self.length * self.width"
   ]
  },
  {
   "cell_type": "code",
   "execution_count": 36,
   "id": "c0cae4f9-74b8-4eae-9421-cffa641bbd8d",
   "metadata": {},
   "outputs": [],
   "source": [
    "a = Rectangle(\"My Rectangle\", 10, 20)"
   ]
  },
  {
   "cell_type": "code",
   "execution_count": 37,
   "id": "2fc3d9c9-c5c1-4d70-abd3-0d6cd2986cfc",
   "metadata": {},
   "outputs": [
    {
     "data": {
      "text/plain": [
       "200"
      ]
     },
     "execution_count": 37,
     "metadata": {},
     "output_type": "execute_result"
    }
   ],
   "source": [
    "a.area()"
   ]
  },
  {
   "cell_type": "code",
   "execution_count": 38,
   "id": "1d4093e7-0838-409c-9ecd-d85586281018",
   "metadata": {},
   "outputs": [],
   "source": [
    "class Circle(Shape):\n",
    "    def __init__(self, name, radius):\n",
    "        Shape.__init__(self, name)\n",
    "        self.pie = 3.14\n",
    "        self.radius = radius\n",
    "\n",
    "    def area(self):\n",
    "        return self.pie * self.radius**2"
   ]
  },
  {
   "cell_type": "code",
   "execution_count": 41,
   "id": "f4b7f88a-047e-4659-b36d-cc00bacae539",
   "metadata": {},
   "outputs": [],
   "source": [
    "b = Circle(\"My Circle\", radius=6)"
   ]
  },
  {
   "cell_type": "code",
   "execution_count": 42,
   "id": "6c1ac193-1fc7-4d2e-a190-5530b0c39b36",
   "metadata": {},
   "outputs": [
    {
     "data": {
      "text/plain": [
       "113.04"
      ]
     },
     "execution_count": 42,
     "metadata": {},
     "output_type": "execute_result"
    }
   ],
   "source": [
    "b.area()"
   ]
  },
  {
   "cell_type": "markdown",
   "id": "362156ee-61cf-40d1-b6fb-0fd8d8afda4a",
   "metadata": {},
   "source": [
    "\n",
    "4. *Assignment 4:*\n",
    "   Implement a Person class with attributes first_name and last_name, and a method to return the full name. Then, create a Student class that inherits from Person and adds a student_id attribute and a method to print student details. Show how to create a Student object, initialize it with values, and call both the full name method and student details method."
   ]
  },
  {
   "cell_type": "code",
   "execution_count": 50,
   "id": "5d4e383a-bacd-44fb-b038-efb5701239a6",
   "metadata": {},
   "outputs": [],
   "source": [
    "class Person():\n",
    "    def __init__(self, first_name, second_name):\n",
    "        self.first_name = first_name\n",
    "        self.second_name = second_name\n",
    "\n",
    "    def full_name(self):\n",
    "        return f\"{self.first_name} {self.second_name}\"\n",
    "\n",
    "class Student(Person):\n",
    "    def __init__(self, first_name, second_name, std_id):\n",
    "        Person.__init__(self, first_name, second_name)\n",
    "        self.std_id = std_id\n",
    "\n",
    "    def details(self):\n",
    "        print(f\"Name: {self.first_name} {self.second_name}\\nID: {self.std_id}\")"
   ]
  },
  {
   "cell_type": "code",
   "execution_count": 48,
   "id": "0917e817-8427-411a-8ca4-adf1a415edf6",
   "metadata": {},
   "outputs": [],
   "source": [
    "a = Person(\"a\", \"b\")"
   ]
  },
  {
   "cell_type": "code",
   "execution_count": 49,
   "id": "259ced06-cfea-427a-bac7-fda2c27d5e3c",
   "metadata": {},
   "outputs": [
    {
     "data": {
      "text/plain": [
       "'a b'"
      ]
     },
     "execution_count": 49,
     "metadata": {},
     "output_type": "execute_result"
    }
   ],
   "source": [
    "a.full_name()"
   ]
  },
  {
   "cell_type": "code",
   "execution_count": 51,
   "id": "ec9ba21e-3cfa-4a28-842a-20f4636d36e2",
   "metadata": {},
   "outputs": [],
   "source": [
    "a = Student(\"Kabir\", \"Khan\", \"01\")"
   ]
  },
  {
   "cell_type": "code",
   "execution_count": 52,
   "id": "71211729-9657-42c5-a4cd-f6a4b2cc5d0a",
   "metadata": {},
   "outputs": [
    {
     "name": "stdout",
     "output_type": "stream",
     "text": [
      "Name: Kabir Khan\n",
      "ID: 01\n"
     ]
    }
   ],
   "source": [
    "a.details()"
   ]
  },
  {
   "cell_type": "markdown",
   "id": "7903c529-bbb0-40e1-89d3-368bd153d5fe",
   "metadata": {},
   "source": [
    "5. *Assignment 5:*\n",
    "   Design a BankAccount class with a static variable interest_rate. Include a constructor to initialize account_number and balance attributes, and methods to deposit and withdraw funds. Then, create a SavingsAccount class that inherits from BankAccount and adds a method to calculate the interest based on the static interest_rate. Demonstrate how to create a SavingsAccount object, initialize it, and use the deposit, withdraw, and interest "
   ]
  },
  {
   "cell_type": "code",
   "execution_count": 22,
   "id": "1a9b7ed1-939c-4383-953d-e16a4f30cc95",
   "metadata": {},
   "outputs": [],
   "source": [
    "class BankAccount():\n",
    "    interest_rate = 0.1\n",
    "    def __init__(self, ac_no, balance):\n",
    "        self.ac_no = ac_no\n",
    "        self.balance = balance\n",
    "\n",
    "    def add_amount(self, amount):\n",
    "        self.balance += amount\n",
    "        print(f\"Your amount {amount} is deposited to your account and your new balance is {self.balance}.\")\n",
    "\n",
    "    def withdraw(self, amount):\n",
    "        self.balance -= amount\n",
    "        print(f\"Your amount {amount} is withdrawn and your new balance is {self.balance}.\")\n",
    "\n",
    "class SavingAccount(BankAccount):\n",
    "    def __init__(self, ac_no, balance):\n",
    "        super().__init__(ac_no, balance)\n",
    "\n",
    "    def interest_cal(self, loan):\n",
    "        return SavingAccount.interest_rate * loan\n",
    "\n",
    "\n"
   ]
  },
  {
   "cell_type": "code",
   "execution_count": 23,
   "id": "d90890d0-1049-43f3-934a-6eb6f1a932a9",
   "metadata": {},
   "outputs": [],
   "source": [
    "a = BankAccount(\"1\", 10000)"
   ]
  },
  {
   "cell_type": "code",
   "execution_count": 24,
   "id": "d02febdc-6ecd-4691-b52b-949c05835f67",
   "metadata": {},
   "outputs": [
    {
     "name": "stdout",
     "output_type": "stream",
     "text": [
      "Your amount 5000 is deposited to your account and your new balance is 15000.\n"
     ]
    }
   ],
   "source": [
    "a.add_amount(5000)"
   ]
  },
  {
   "cell_type": "code",
   "execution_count": 25,
   "id": "95aac807-3b3c-4903-a5b8-185b8ffc7353",
   "metadata": {},
   "outputs": [
    {
     "name": "stdout",
     "output_type": "stream",
     "text": [
      "Your amount 8000 is withdrawn and your new balance is 7000.\n"
     ]
    }
   ],
   "source": [
    "a.withdraw(8000)"
   ]
  },
  {
   "cell_type": "code",
   "execution_count": 26,
   "id": "31c50f5a-2f3d-477e-93d6-76973d4256de",
   "metadata": {},
   "outputs": [],
   "source": [
    "b = SavingAccount(\"2\", 15000)"
   ]
  },
  {
   "cell_type": "code",
   "execution_count": 27,
   "id": "beb0aa57-25f0-4f6e-b977-7dd777f1de42",
   "metadata": {},
   "outputs": [
    {
     "data": {
      "text/plain": [
       "'2'"
      ]
     },
     "execution_count": 27,
     "metadata": {},
     "output_type": "execute_result"
    }
   ],
   "source": [
    "b.ac_no"
   ]
  },
  {
   "cell_type": "code",
   "execution_count": 28,
   "id": "681bb22f-4f63-437e-af60-56fd086689bd",
   "metadata": {},
   "outputs": [
    {
     "name": "stdout",
     "output_type": "stream",
     "text": [
      "Your amount 1000 is deposited to your account and your new balance is 16000.\n"
     ]
    }
   ],
   "source": [
    "b.add_amount(1000)"
   ]
  },
  {
   "cell_type": "code",
   "execution_count": 29,
   "id": "d9419d86-34f6-4d3c-839a-885b169a39d3",
   "metadata": {},
   "outputs": [
    {
     "data": {
      "text/plain": [
       "1000.0"
      ]
     },
     "execution_count": 29,
     "metadata": {},
     "output_type": "execute_result"
    }
   ],
   "source": [
    "b.interest_cal(10000)"
   ]
  },
  {
   "cell_type": "markdown",
   "id": "34c13687-f9cd-4d3a-b4ef-f2e982f212c3",
   "metadata": {},
   "source": [
    "\n",
    "\n",
    "### **Assignment 1:**\n",
    "Create three classes: `Employee`, `Manager`, and `Engineer`. \n",
    "\n",
    "- The `Employee` class should have attributes `name` and `employee_id`, and a method to display the employee's details.\n",
    "- The `Manager` class should inherit from `Employee` and add an attribute `department` with a method to display the manager's details.\n",
    "- The `Engineer` class should also inherit from `Employee` and add an attribute `specialization` with a method to display the engineer's details.\n",
    "\n",
    "Then, create a `TechLead` class that inherits from both `Manager` and `Engineer`. Ensure that the `TechLead` can have a `department`, `specialization`, and their employee details properly initialized and displayed.\n"
   ]
  },
  {
   "cell_type": "code",
   "execution_count": 36,
   "id": "92f466f6-3418-42cd-9b42-dadd38b09ac0",
   "metadata": {},
   "outputs": [],
   "source": [
    "class Employee():\n",
    "    def __init__(self, name, employee_id):\n",
    "        self.name = name\n",
    "        self.employee_id = employee_id\n",
    "\n",
    "    def details(self):\n",
    "        print(f\"Name: {self.name}\\nEmployee ID: {self.employee_id}\")\n",
    "\n",
    "a = Employee(\"Kabir\", \"01\")"
   ]
  },
  {
   "cell_type": "code",
   "execution_count": 37,
   "id": "58cc8808-571a-456e-be96-23758e2e6c76",
   "metadata": {},
   "outputs": [
    {
     "name": "stdout",
     "output_type": "stream",
     "text": [
      "Name: Kabir\n",
      "Employee ID: 01\n"
     ]
    }
   ],
   "source": [
    "a.details()"
   ]
  },
  {
   "cell_type": "code",
   "execution_count": 63,
   "id": "cc149144-695b-413d-a48f-e744a5fada7a",
   "metadata": {},
   "outputs": [],
   "source": [
    "class Manager(Employee):\n",
    "    def __init__(self, name, employee_id, department):\n",
    "        Employee.__init__(self, name, employee_id)\n",
    "        self.department = department\n",
    "\n",
    "    def details(self):\n",
    "        print(f\"Name: {self.name}\\nEmployee ID: {self.employee_id}\\nDepartment: {self.department}\")"
   ]
  },
  {
   "cell_type": "code",
   "execution_count": 64,
   "id": "7f2af16f-ba97-49f4-afb8-c2b7bdfc8f7b",
   "metadata": {},
   "outputs": [
    {
     "name": "stdout",
     "output_type": "stream",
     "text": [
      "Name: Ali\n",
      "Employee ID: 02\n",
      "Department: Education\n"
     ]
    }
   ],
   "source": [
    "b = Manager(\"Ali\", \"02\", \"Education\")\n",
    "\n",
    "b.details()"
   ]
  },
  {
   "cell_type": "code",
   "execution_count": 68,
   "id": "94f950d1-72bc-46fb-bd56-4481f0445690",
   "metadata": {},
   "outputs": [],
   "source": [
    "class Engineer(Employee):\n",
    "    def __init__(self, name, employee_id, specialization):\n",
    "        Employee.__init__(self, name, employee_id)\n",
    "        self.specialization = specialization\n",
    "\n",
    "    def details(self):\n",
    "        print(f\"Name: {self.name}\\nEmployee ID: {self.employee_id}\\nSpecialization: {self.specialization}\")"
   ]
  },
  {
   "cell_type": "code",
   "execution_count": 69,
   "id": "429723f4-e810-4035-b758-9f6727ce5e40",
   "metadata": {},
   "outputs": [
    {
     "name": "stdout",
     "output_type": "stream",
     "text": [
      "Name: Noman\n",
      "Employee ID: 03\n",
      "Specialization: Civil\n"
     ]
    }
   ],
   "source": [
    "c = Engineer(\"Noman\", \"03\", \"Civil\")\n",
    "c.details()"
   ]
  },
  {
   "cell_type": "code",
   "execution_count": 70,
   "id": "57746480-4a2a-4df2-82e3-ff9b29dcf324",
   "metadata": {},
   "outputs": [],
   "source": [
    "class TechLead(Manager, Engineer):\n",
    "    def __init__(self, name, employee_id, department, specialization):\n",
    "        Manager.__init__(self, name, employee_id, department)\n",
    "        Engineer.__init__(self, name, employee_id, specialization)\n",
    "\n",
    "    def details(self):\n",
    "        print(f\"Name: {self.name}\\nEmployee ID: {self.employee_id}\\nSpecialization: {self.specialization}\\nDepartment: {self.department}\")"
   ]
  },
  {
   "cell_type": "code",
   "execution_count": 72,
   "id": "fce4c871-b6b0-4f58-8c9c-b7b3107bd1e0",
   "metadata": {},
   "outputs": [
    {
     "name": "stdout",
     "output_type": "stream",
     "text": [
      "Name: Haris\n",
      "Employee ID: 04\n",
      "Specialization: Robotics\n",
      "Department: AI\n"
     ]
    }
   ],
   "source": [
    "d = TechLead(\"Haris\", \"04\", \"AI\", \"Robotics\")\n",
    "d.details()"
   ]
  },
  {
   "cell_type": "markdown",
   "id": "bbf48735-11e2-4afc-a968-dc6e88fe8c2f",
   "metadata": {},
   "source": [
    "\n",
    "### **Assignment 2:**\n",
    "Design three classes: `Person`, `Athlete`, and `Scholar`.\n",
    "\n",
    "- The `Person` class should initialize with `first_name` and `last_name` and have a method to return the full name.\n",
    "- The `Athlete` class should inherit from `Person` and add an attribute `sport` with a method to display what sport the athlete plays.\n",
    "- The `Scholar` class should also inherit from `Person` and add an attribute `field_of_study` with a method to display the scholar's field.\n",
    "\n",
    "Then, create a `StudentAthlete` class that inherits from both `Athlete` and `Scholar`. The `StudentAthlete` should be able to have attributes from both parents (e.g., `sport` and `field_of_study`) and a method to display the student-athlete's full name, sport, and field of study."
   ]
  },
  {
   "cell_type": "code",
   "execution_count": 77,
   "id": "9accfeb8-c4b0-40ff-ab08-0a4a5f8e2fd4",
   "metadata": {},
   "outputs": [],
   "source": [
    "class Person():\n",
    "    def __init__(self, first_name, last_name):\n",
    "        self.first_name = first_name\n",
    "        self.last_name = last_name\n",
    "\n",
    "    def full_name(self):\n",
    "        print(f\"Full Name: {self.first_name} {self.last_name}\")"
   ]
  },
  {
   "cell_type": "code",
   "execution_count": 78,
   "id": "e3952714-a77e-41a8-bde7-76a508811ae2",
   "metadata": {},
   "outputs": [
    {
     "name": "stdout",
     "output_type": "stream",
     "text": [
      "Full Name: Kabir Khan\n"
     ]
    }
   ],
   "source": [
    "a = Person(\"Kabir\", \"Khan\")\n",
    "a.full_name()"
   ]
  },
  {
   "cell_type": "code",
   "execution_count": 81,
   "id": "0cd7bfc9-7969-4ea6-a57a-de7c7755399c",
   "metadata": {},
   "outputs": [],
   "source": [
    "class Athlete(Person):\n",
    "    def __init__(self, first_name, last_name, sport):\n",
    "        Person.__init__(self, first_name, last_name)\n",
    "        self.sport = sport\n",
    "\n",
    "    def details(self):\n",
    "        print(f\"Full Name: {self.first_name} {self.last_name}\\nSport: {self.sport}\")"
   ]
  },
  {
   "cell_type": "code",
   "execution_count": 82,
   "id": "127957a7-83ae-4f78-abfd-760745f06b93",
   "metadata": {},
   "outputs": [
    {
     "name": "stdout",
     "output_type": "stream",
     "text": [
      "Full Name: Ali Khan\n",
      "Sport: Cricket\n"
     ]
    }
   ],
   "source": [
    "b = Athlete(\"Ali\", \"Khan\", \"Cricket\")\n",
    "b.details()"
   ]
  },
  {
   "cell_type": "code",
   "execution_count": 83,
   "id": "b3116e99-2c07-43b9-909f-3bad90ebbdaa",
   "metadata": {},
   "outputs": [],
   "source": [
    "class Scholar(Person):\n",
    "    def __init__(self, first_name, last_name, field_of_study):\n",
    "        Person.__init__(self, first_name, last_name)\n",
    "        self.field_of_study = field_of_study\n",
    "\n",
    "    def details(self):\n",
    "        print(f\"Full Name: {self.first_name} {self.last_name}\\nField of Study: {self.field_of_study}\")"
   ]
  },
  {
   "cell_type": "code",
   "execution_count": 85,
   "id": "33d96ba9-c3f4-426f-9c85-995dcae9a014",
   "metadata": {},
   "outputs": [
    {
     "name": "stdout",
     "output_type": "stream",
     "text": [
      "Full Name: Noman Khan\n",
      "Field of Study: Islamic\n"
     ]
    }
   ],
   "source": [
    "c = Scholar(\"Noman\", \"Khan\", \"Islamic\")\n",
    "c.details()"
   ]
  },
  {
   "cell_type": "code",
   "execution_count": 87,
   "id": "4db1b127-c0d0-4f6f-9c66-3dc1778eb163",
   "metadata": {},
   "outputs": [],
   "source": [
    "class StudentAthlete():\n",
    "    def __init__(self, first_name, last_name, sport, field_of_study):\n",
    "        Athlete.__init__(self, first_name, last_name, sport)\n",
    "        Scholar.__init__(self, first_name, last_name, field_of_study)\n",
    "\n",
    "    def details(self):\n",
    "        print(f\"Full Name: {self.first_name} {self.last_name}\\nField of Study: {self.field_of_study}\\nSport: {self.sport}\")"
   ]
  },
  {
   "cell_type": "code",
   "execution_count": 88,
   "id": "ba67c9ad-5d9e-4f70-9ffe-fa7b15873a88",
   "metadata": {},
   "outputs": [],
   "source": [
    "d = StudentAthlete(\"Ahmad\", \"Jan\", \"Football\", \"Biology\")"
   ]
  },
  {
   "cell_type": "code",
   "execution_count": 89,
   "id": "fc46c87c-1e35-45b2-a99d-a3de22c72e54",
   "metadata": {},
   "outputs": [
    {
     "name": "stdout",
     "output_type": "stream",
     "text": [
      "Full Name: Ahmad Jan\n",
      "Field of Study: Biology\n",
      "Sport: Football\n"
     ]
    }
   ],
   "source": [
    "d.details()"
   ]
  },
  {
   "cell_type": "code",
   "execution_count": null,
   "id": "3e13befc-5211-4614-877e-7e59fd9005e6",
   "metadata": {},
   "outputs": [],
   "source": []
  }
 ],
 "metadata": {
  "kernelspec": {
   "display_name": "Python 3 (ipykernel)",
   "language": "python",
   "name": "python3"
  },
  "language_info": {
   "codemirror_mode": {
    "name": "ipython",
    "version": 3
   },
   "file_extension": ".py",
   "mimetype": "text/x-python",
   "name": "python",
   "nbconvert_exporter": "python",
   "pygments_lexer": "ipython3",
   "version": "3.12.4"
  }
 },
 "nbformat": 4,
 "nbformat_minor": 5
}
