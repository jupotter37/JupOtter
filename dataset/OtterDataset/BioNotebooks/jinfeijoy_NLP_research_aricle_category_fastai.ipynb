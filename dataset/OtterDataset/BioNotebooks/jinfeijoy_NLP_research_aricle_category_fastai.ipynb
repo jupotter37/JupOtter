{
 "cells": [
  {
   "cell_type": "code",
   "execution_count": 1,
   "metadata": {
    "colab": {
     "base_uri": "https://localhost:8080/"
    },
    "id": "yVuJz5bjI2MZ",
    "outputId": "79197248-e0c6-4f3d-a80e-2143d56229b7"
   },
   "outputs": [
    {
     "name": "stdout",
     "output_type": "stream",
     "text": [
      "Mounted at /content/drive\n",
      "Collecting fastai==2.3.1\n",
      "\u001b[?25l  Downloading https://files.pythonhosted.org/packages/e8/79/e8a87e4c20238e114671314426227db8647d2b42744eab79e0917c59865e/fastai-2.3.1-py3-none-any.whl (194kB)\n",
      "\u001b[K     |████████████████████████████████| 204kB 27.4MB/s \n",
      "\u001b[?25hRequirement already satisfied: pillow>6.0.0 in /usr/local/lib/python3.7/dist-packages (from fastai==2.3.1) (7.1.2)\n",
      "Requirement already satisfied: scipy in /usr/local/lib/python3.7/dist-packages (from fastai==2.3.1) (1.4.1)\n",
      "Requirement already satisfied: matplotlib in /usr/local/lib/python3.7/dist-packages (from fastai==2.3.1) (3.2.2)\n",
      "Requirement already satisfied: spacy<4 in /usr/local/lib/python3.7/dist-packages (from fastai==2.3.1) (2.2.4)\n",
      "Requirement already satisfied: fastprogress>=0.2.4 in /usr/local/lib/python3.7/dist-packages (from fastai==2.3.1) (1.0.0)\n",
      "Requirement already satisfied: packaging in /usr/local/lib/python3.7/dist-packages (from fastai==2.3.1) (20.9)\n",
      "Requirement already satisfied: pyyaml in /usr/local/lib/python3.7/dist-packages (from fastai==2.3.1) (3.13)\n",
      "Requirement already satisfied: torchvision>=0.8.2 in /usr/local/lib/python3.7/dist-packages (from fastai==2.3.1) (0.10.0+cu102)\n",
      "Collecting torch<1.9,>=1.7.0\n",
      "\u001b[?25l  Downloading https://files.pythonhosted.org/packages/56/74/6fc9dee50f7c93d6b7d9644554bdc9692f3023fa5d1de779666e6bf8ae76/torch-1.8.1-cp37-cp37m-manylinux1_x86_64.whl (804.1MB)\n",
      "\u001b[K     |████████████████████████████████| 804.1MB 22kB/s \n",
      "\u001b[?25hCollecting fastcore<1.4,>=1.3.8\n",
      "\u001b[?25l  Downloading https://files.pythonhosted.org/packages/d8/b0/f1fbf554e0bf3c76e1bdc3b82eedfe41fcf656479586be38c64421082b1b/fastcore-1.3.20-py3-none-any.whl (53kB)\n",
      "\u001b[K     |████████████████████████████████| 61kB 19kB/s \n",
      "\u001b[?25hRequirement already satisfied: pandas in /usr/local/lib/python3.7/dist-packages (from fastai==2.3.1) (1.1.5)\n",
      "Requirement already satisfied: scikit-learn in /usr/local/lib/python3.7/dist-packages (from fastai==2.3.1) (0.22.2.post1)\n",
      "Requirement already satisfied: requests in /usr/local/lib/python3.7/dist-packages (from fastai==2.3.1) (2.23.0)\n",
      "Requirement already satisfied: pip in /usr/local/lib/python3.7/dist-packages (from fastai==2.3.1) (19.3.1)\n",
      "Requirement already satisfied: numpy>=1.13.3 in /usr/local/lib/python3.7/dist-packages (from scipy->fastai==2.3.1) (1.19.5)\n",
      "Requirement already satisfied: python-dateutil>=2.1 in /usr/local/lib/python3.7/dist-packages (from matplotlib->fastai==2.3.1) (2.8.1)\n",
      "Requirement already satisfied: pyparsing!=2.0.4,!=2.1.2,!=2.1.6,>=2.0.1 in /usr/local/lib/python3.7/dist-packages (from matplotlib->fastai==2.3.1) (2.4.7)\n",
      "Requirement already satisfied: kiwisolver>=1.0.1 in /usr/local/lib/python3.7/dist-packages (from matplotlib->fastai==2.3.1) (1.3.1)\n",
      "Requirement already satisfied: cycler>=0.10 in /usr/local/lib/python3.7/dist-packages (from matplotlib->fastai==2.3.1) (0.10.0)\n",
      "Requirement already satisfied: catalogue<1.1.0,>=0.0.7 in /usr/local/lib/python3.7/dist-packages (from spacy<4->fastai==2.3.1) (1.0.0)\n",
      "Requirement already satisfied: plac<1.2.0,>=0.9.6 in /usr/local/lib/python3.7/dist-packages (from spacy<4->fastai==2.3.1) (1.1.3)\n",
      "Requirement already satisfied: setuptools in /usr/local/lib/python3.7/dist-packages (from spacy<4->fastai==2.3.1) (57.0.0)\n",
      "Requirement already satisfied: murmurhash<1.1.0,>=0.28.0 in /usr/local/lib/python3.7/dist-packages (from spacy<4->fastai==2.3.1) (1.0.5)\n",
      "Requirement already satisfied: wasabi<1.1.0,>=0.4.0 in /usr/local/lib/python3.7/dist-packages (from spacy<4->fastai==2.3.1) (0.8.2)\n",
      "Requirement already satisfied: blis<0.5.0,>=0.4.0 in /usr/local/lib/python3.7/dist-packages (from spacy<4->fastai==2.3.1) (0.4.1)\n",
      "Requirement already satisfied: tqdm<5.0.0,>=4.38.0 in /usr/local/lib/python3.7/dist-packages (from spacy<4->fastai==2.3.1) (4.41.1)\n",
      "Requirement already satisfied: thinc==7.4.0 in /usr/local/lib/python3.7/dist-packages (from spacy<4->fastai==2.3.1) (7.4.0)\n",
      "Requirement already satisfied: srsly<1.1.0,>=1.0.2 in /usr/local/lib/python3.7/dist-packages (from spacy<4->fastai==2.3.1) (1.0.5)\n",
      "Requirement already satisfied: cymem<2.1.0,>=2.0.2 in /usr/local/lib/python3.7/dist-packages (from spacy<4->fastai==2.3.1) (2.0.5)\n",
      "Requirement already satisfied: preshed<3.1.0,>=3.0.2 in /usr/local/lib/python3.7/dist-packages (from spacy<4->fastai==2.3.1) (3.0.5)\n",
      "Requirement already satisfied: typing-extensions in /usr/local/lib/python3.7/dist-packages (from torch<1.9,>=1.7.0->fastai==2.3.1) (3.7.4.3)\n",
      "Requirement already satisfied: pytz>=2017.2 in /usr/local/lib/python3.7/dist-packages (from pandas->fastai==2.3.1) (2018.9)\n",
      "Requirement already satisfied: joblib>=0.11 in /usr/local/lib/python3.7/dist-packages (from scikit-learn->fastai==2.3.1) (1.0.1)\n",
      "Requirement already satisfied: idna<3,>=2.5 in /usr/local/lib/python3.7/dist-packages (from requests->fastai==2.3.1) (2.10)\n",
      "Requirement already satisfied: urllib3!=1.25.0,!=1.25.1,<1.26,>=1.21.1 in /usr/local/lib/python3.7/dist-packages (from requests->fastai==2.3.1) (1.24.3)\n",
      "Requirement already satisfied: chardet<4,>=3.0.2 in /usr/local/lib/python3.7/dist-packages (from requests->fastai==2.3.1) (3.0.4)\n",
      "Requirement already satisfied: certifi>=2017.4.17 in /usr/local/lib/python3.7/dist-packages (from requests->fastai==2.3.1) (2021.5.30)\n",
      "Requirement already satisfied: six>=1.5 in /usr/local/lib/python3.7/dist-packages (from python-dateutil>=2.1->matplotlib->fastai==2.3.1) (1.15.0)\n",
      "Requirement already satisfied: importlib-metadata>=0.20; python_version < \"3.8\" in /usr/local/lib/python3.7/dist-packages (from catalogue<1.1.0,>=0.0.7->spacy<4->fastai==2.3.1) (4.5.0)\n",
      "Requirement already satisfied: zipp>=0.5 in /usr/local/lib/python3.7/dist-packages (from importlib-metadata>=0.20; python_version < \"3.8\"->catalogue<1.1.0,>=0.0.7->spacy<4->fastai==2.3.1) (3.4.1)\n",
      "\u001b[31mERROR: torchvision 0.10.0+cu102 has requirement torch==1.9.0, but you'll have torch 1.8.1 which is incompatible.\u001b[0m\n",
      "\u001b[31mERROR: torchtext 0.10.0 has requirement torch==1.9.0, but you'll have torch 1.8.1 which is incompatible.\u001b[0m\n",
      "Installing collected packages: torch, fastcore, fastai\n",
      "  Found existing installation: torch 1.9.0+cu102\n",
      "    Uninstalling torch-1.9.0+cu102:\n",
      "      Successfully uninstalled torch-1.9.0+cu102\n",
      "  Found existing installation: fastai 1.0.61\n",
      "    Uninstalling fastai-1.0.61:\n",
      "      Successfully uninstalled fastai-1.0.61\n",
      "Successfully installed fastai-2.3.1 fastcore-1.3.20 torch-1.8.1\n"
     ]
    }
   ],
   "source": [
    "#Please select GPU first (from Edit->NotebookSetting)\n",
    "import pandas as pd\n",
    "import numpy as np\n",
    "import io\n",
    "import os\n",
    "import re\n",
    "from google.colab import drive\n",
    "drive.mount('/content/drive')\n",
    "!pip install fastai==2.3.1\n",
    "from fastai.text.all import *"
   ]
  },
  {
   "cell_type": "code",
   "execution_count": 3,
   "metadata": {
    "id": "3ZTu0fJIJs2U"
   },
   "outputs": [],
   "source": [
    "def generate_target(data):\n",
    "    tmp = data.copy()\n",
    "    tmp.set_index(['ID','TITLE','ABSTRACT'],inplace=True)\n",
    "    tmp['LABEL'] = tmp.idxmax(axis=1)\n",
    "    tmp = tmp.reset_index()\n",
    "    tmp = tmp[['ID','TITLE','ABSTRACT','LABEL']]\n",
    "    return tmp\n",
    "path = '/content/drive/MyDrive/colab_data'\n",
    "data = pd.read_csv(os.path.join(path, \"train.csv\"))\n",
    "data = generate_target(data)\n",
    "convert_label = {'Computer Science':0,'Physics':1,'Mathematics':2,'Statistics':3,'Quantitative Biology':4,'Quantitative Finance':5}\n",
    "data['convert_label'] = data.LABEL.map(convert_label)\n"
   ]
  },
  {
   "cell_type": "code",
   "execution_count": 4,
   "metadata": {
    "id": "vIYkA8-KJ6pi"
   },
   "outputs": [],
   "source": [
    "df_clas = data[['TITLE', 'LABEL']].dropna(subset=['LABEL'])\n",
    "df_clas.columns = df_clas.columns.str.strip()"
   ]
  },
  {
   "cell_type": "code",
   "execution_count": 6,
   "metadata": {
    "colab": {
     "base_uri": "https://localhost:8080/",
     "height": 267
    },
    "id": "9spcTb4CKHiZ",
    "outputId": "7ebc56b6-88a7-4c89-965c-a467690c77f0"
   },
   "outputs": [
    {
     "data": {
      "text/html": [],
      "text/plain": [
       "<IPython.core.display.HTML object>"
      ]
     },
     "metadata": {
      "tags": []
     },
     "output_type": "display_data"
    },
    {
     "name": "stderr",
     "output_type": "stream",
     "text": [
      "/usr/local/lib/python3.7/dist-packages/numpy/core/_asarray.py:83: VisibleDeprecationWarning: Creating an ndarray from ragged nested sequences (which is a list-or-tuple of lists-or-tuples-or ndarrays with different lengths or shapes) is deprecated. If you meant to do this, you must specify 'dtype=object' when creating the ndarray\n",
      "  return array(a, dtype, copy=False, order=order)\n"
     ]
    },
    {
     "data": {
      "text/html": [
       "<table border=\"1\" class=\"dataframe\">\n",
       "  <thead>\n",
       "    <tr style=\"text-align: right;\">\n",
       "      <th></th>\n",
       "      <th>text</th>\n",
       "      <th>text_</th>\n",
       "    </tr>\n",
       "  </thead>\n",
       "  <tbody>\n",
       "    <tr>\n",
       "      <th>0</th>\n",
       "      <td>xxbos xxmaj variable xxmaj exponent xxmaj fock xxmaj spaces xxbos a partial inverse problem for the sturm - liouville operator on the graph with a loop xxbos xxmaj stein xxmaj variational xxmaj message xxmaj passing for xxmaj continuous xxmaj graphical xxmaj models xxbos xxmaj deriving mesoscopic models of collective behaviour for finite populations xxbos xxmaj realistic finite temperature simulations of magnetic systems using quantum statistics xxbos xxmaj geometric vulnerability of xxunk institutions</td>\n",
       "      <td>xxmaj variable xxmaj exponent xxmaj fock xxmaj spaces xxbos a partial inverse problem for the sturm - liouville operator on the graph with a loop xxbos xxmaj stein xxmaj variational xxmaj message xxmaj passing for xxmaj continuous xxmaj graphical xxmaj models xxbos xxmaj deriving mesoscopic models of collective behaviour for finite populations xxbos xxmaj realistic finite temperature simulations of magnetic systems using quantum statistics xxbos xxmaj geometric vulnerability of xxunk institutions against</td>\n",
       "    </tr>\n",
       "    <tr>\n",
       "      <th>1</th>\n",
       "      <td>xxbos xxmaj drone xxmaj xxunk xxmaj optimization : a xxmaj self - adaptive xxmaj algorithm for xxmaj global xxmaj numerical xxmaj optimization xxbos a xxmaj review of laser - plasma xxmaj ion xxmaj acceleration xxbos xxmaj determinants of xxunk - xxunk kinetics of short xxup dna with xxunk ends xxbos xxmaj joins in the strong xxmaj xxunk degrees xxbos xxmaj learning xxmaj program xxmaj component xxmaj order xxbos xxmaj analysis of error</td>\n",
       "      <td>xxmaj drone xxmaj xxunk xxmaj optimization : a xxmaj self - adaptive xxmaj algorithm for xxmaj global xxmaj numerical xxmaj optimization xxbos a xxmaj review of laser - plasma xxmaj ion xxmaj acceleration xxbos xxmaj determinants of xxunk - xxunk kinetics of short xxup dna with xxunk ends xxbos xxmaj joins in the strong xxmaj xxunk degrees xxbos xxmaj learning xxmaj program xxmaj component xxmaj order xxbos xxmaj analysis of error control</td>\n",
       "    </tr>\n",
       "  </tbody>\n",
       "</table>"
      ],
      "text/plain": [
       "<IPython.core.display.HTML object>"
      ]
     },
     "metadata": {
      "tags": []
     },
     "output_type": "display_data"
    }
   ],
   "source": [
    "dls_lm = TextDataLoaders.from_df(data, text_col='TITLE', is_lm=True, valid_pct=0.1)\n",
    "dls_lm.show_batch(max_n=2)\n",
    "# torch.save(dls_lm, os.path.join(path, 'dls_lm.pkl'))"
   ]
  },
  {
   "cell_type": "code",
   "execution_count": 7,
   "metadata": {
    "colab": {
     "base_uri": "https://localhost:8080/",
     "height": 17
    },
    "id": "UUHFJaTeK0eX",
    "outputId": "2d93b526-a0d3-40c4-eba8-de93d97d59f7"
   },
   "outputs": [
    {
     "data": {
      "text/html": [],
      "text/plain": [
       "<IPython.core.display.HTML object>"
      ]
     },
     "metadata": {
      "tags": []
     },
     "output_type": "display_data"
    }
   ],
   "source": [
    "learn = language_model_learner(dls_lm, AWD_LSTM, drop_mult = 0.3, metrics=[accuracy, Perplexity()]).to_fp16()"
   ]
  },
  {
   "cell_type": "code",
   "execution_count": 8,
   "metadata": {
    "colab": {
     "base_uri": "https://localhost:8080/",
     "height": 173
    },
    "id": "F-1otFS7K1aQ",
    "outputId": "55019682-4712-4e0d-853d-7f55ce8cea69"
   },
   "outputs": [
    {
     "data": {
      "text/html": [
       "<table border=\"1\" class=\"dataframe\">\n",
       "  <thead>\n",
       "    <tr style=\"text-align: left;\">\n",
       "      <th>epoch</th>\n",
       "      <th>train_loss</th>\n",
       "      <th>valid_loss</th>\n",
       "      <th>accuracy</th>\n",
       "      <th>perplexity</th>\n",
       "      <th>time</th>\n",
       "    </tr>\n",
       "  </thead>\n",
       "  <tbody>\n",
       "    <tr>\n",
       "      <td>0</td>\n",
       "      <td>4.461620</td>\n",
       "      <td>4.121613</td>\n",
       "      <td>0.383545</td>\n",
       "      <td>61.658619</td>\n",
       "      <td>00:21</td>\n",
       "    </tr>\n",
       "    <tr>\n",
       "      <td>1</td>\n",
       "      <td>4.076141</td>\n",
       "      <td>3.885459</td>\n",
       "      <td>0.400906</td>\n",
       "      <td>48.689270</td>\n",
       "      <td>00:21</td>\n",
       "    </tr>\n",
       "    <tr>\n",
       "      <td>2</td>\n",
       "      <td>3.826846</td>\n",
       "      <td>3.809280</td>\n",
       "      <td>0.406603</td>\n",
       "      <td>45.117939</td>\n",
       "      <td>00:21</td>\n",
       "    </tr>\n",
       "    <tr>\n",
       "      <td>3</td>\n",
       "      <td>3.684431</td>\n",
       "      <td>3.803184</td>\n",
       "      <td>0.408583</td>\n",
       "      <td>44.843754</td>\n",
       "      <td>00:21</td>\n",
       "    </tr>\n",
       "  </tbody>\n",
       "</table>"
      ],
      "text/plain": [
       "<IPython.core.display.HTML object>"
      ]
     },
     "metadata": {
      "tags": []
     },
     "output_type": "display_data"
    }
   ],
   "source": [
    "learn.unfreeze()\n",
    "learn.fit_one_cycle(4, 1e-3) "
   ]
  },
  {
   "cell_type": "code",
   "execution_count": 9,
   "metadata": {
    "colab": {
     "base_uri": "https://localhost:8080/",
     "height": 51
    },
    "id": "OgIWoJAIK5H_",
    "outputId": "036f2e08-e1a9-4d18-911e-fb38e1208310"
   },
   "outputs": [
    {
     "data": {
      "text/html": [],
      "text/plain": [
       "<IPython.core.display.HTML object>"
      ]
     },
     "metadata": {
      "tags": []
     },
     "output_type": "display_data"
    },
    {
     "data": {
      "text/html": [],
      "text/plain": [
       "<IPython.core.display.HTML object>"
      ]
     },
     "metadata": {
      "tags": []
     },
     "output_type": "display_data"
    },
    {
     "name": "stdout",
     "output_type": "stream",
     "text": [
      "Xxunk Energy Preferences in Quasi - equilibrium Systems Infinite Pt - flat Column Functions Learning Semi - supervised Learning for Special Session Learning via Task Learning\n",
      "Xxunk : a Tactile Neural Network for Images and Evaluating Visual Stimulus Tracking Novel Structural Testing for Accelerator Systems Some Hierarchies of High Dimensional Semiconductor\n"
     ]
    }
   ],
   "source": [
    "TEXT = \"Apple\"\n",
    "N_WORDS = 45\n",
    "N_SENTENCES = 2\n",
    "print(\"\\n\".join(learn.predict(TEXT, N_WORDS, temperature=0.75) for _ in range(N_SENTENCES)))"
   ]
  },
  {
   "cell_type": "code",
   "execution_count": 11,
   "metadata": {
    "id": "NI2255I0LOTg"
   },
   "outputs": [],
   "source": [
    "from sklearn.model_selection import train_test_split\n",
    "df_train, df_val = train_test_split(df_clas, test_size=0.33, random_state=42)"
   ]
  },
  {
   "cell_type": "code",
   "execution_count": 13,
   "metadata": {
    "colab": {
     "base_uri": "https://localhost:8080/",
     "height": 71
    },
    "id": "R9QXcVdFK6qO",
    "outputId": "c554c1cb-f5ae-492e-e9bb-dc07a1646213"
   },
   "outputs": [
    {
     "data": {
      "text/html": [],
      "text/plain": [
       "<IPython.core.display.HTML object>"
      ]
     },
     "metadata": {
      "tags": []
     },
     "output_type": "display_data"
    },
    {
     "name": "stderr",
     "output_type": "stream",
     "text": [
      "/usr/local/lib/python3.7/dist-packages/numpy/core/_asarray.py:83: VisibleDeprecationWarning: Creating an ndarray from ragged nested sequences (which is a list-or-tuple of lists-or-tuples-or ndarrays with different lengths or shapes) is deprecated. If you meant to do this, you must specify 'dtype=object' when creating the ndarray\n",
      "  return array(a, dtype, copy=False, order=order)\n"
     ]
    }
   ],
   "source": [
    "dls_clas = DataBlock(\n",
    "    blocks = (TextBlock.from_df('TITLE', seq_len = dls_lm.seq_len, vocab = dls_lm.vocab), CategoryBlock),\n",
    "    get_x = ColReader('text'),\n",
    "    get_y = ColReader('LABEL'),\n",
    "    splitter = RandomSplitter()\n",
    ").dataloaders(df_train, bs = 64)"
   ]
  },
  {
   "cell_type": "code",
   "execution_count": 16,
   "metadata": {
    "id": "jFZ64tQqK-1A"
   },
   "outputs": [],
   "source": [
    "learn = text_classifier_learner(dls_clas, AWD_LSTM, drop_mult=0.5, metrics=accuracy).to_fp16()"
   ]
  },
  {
   "cell_type": "code",
   "execution_count": 17,
   "metadata": {
    "colab": {
     "base_uri": "https://localhost:8080/",
     "height": 204
    },
    "id": "XSD37eE0LAD2",
    "outputId": "0ea4f79e-5e2c-4d94-df6e-267f6be65d4b"
   },
   "outputs": [
    {
     "data": {
      "text/html": [
       "<table border=\"1\" class=\"dataframe\">\n",
       "  <thead>\n",
       "    <tr style=\"text-align: left;\">\n",
       "      <th>epoch</th>\n",
       "      <th>train_loss</th>\n",
       "      <th>valid_loss</th>\n",
       "      <th>accuracy</th>\n",
       "      <th>time</th>\n",
       "    </tr>\n",
       "  </thead>\n",
       "  <tbody>\n",
       "    <tr>\n",
       "      <td>0</td>\n",
       "      <td>1.262770</td>\n",
       "      <td>1.029961</td>\n",
       "      <td>0.683986</td>\n",
       "      <td>00:17</td>\n",
       "    </tr>\n",
       "    <tr>\n",
       "      <td>1</td>\n",
       "      <td>0.983322</td>\n",
       "      <td>0.877945</td>\n",
       "      <td>0.708541</td>\n",
       "      <td>00:17</td>\n",
       "    </tr>\n",
       "    <tr>\n",
       "      <td>2</td>\n",
       "      <td>0.873867</td>\n",
       "      <td>0.814948</td>\n",
       "      <td>0.719929</td>\n",
       "      <td>00:17</td>\n",
       "    </tr>\n",
       "    <tr>\n",
       "      <td>3</td>\n",
       "      <td>0.798573</td>\n",
       "      <td>0.778062</td>\n",
       "      <td>0.729181</td>\n",
       "      <td>00:17</td>\n",
       "    </tr>\n",
       "    <tr>\n",
       "      <td>4</td>\n",
       "      <td>0.776375</td>\n",
       "      <td>0.773119</td>\n",
       "      <td>0.730961</td>\n",
       "      <td>00:17</td>\n",
       "    </tr>\n",
       "  </tbody>\n",
       "</table>"
      ],
      "text/plain": [
       "<IPython.core.display.HTML object>"
      ]
     },
     "metadata": {
      "tags": []
     },
     "output_type": "display_data"
    }
   ],
   "source": [
    "learn.unfreeze()\n",
    "learn.fit_one_cycle(5, slice(1e-3/(2.6**4),1e-3))"
   ]
  },
  {
   "cell_type": "code",
   "execution_count": 18,
   "metadata": {
    "colab": {
     "base_uri": "https://localhost:8080/",
     "height": 17
    },
    "id": "zfag8lAQLJnN",
    "outputId": "381d81be-7792-4cae-c3f4-e89132020174"
   },
   "outputs": [
    {
     "data": {
      "text/html": [],
      "text/plain": [
       "<IPython.core.display.HTML object>"
      ]
     },
     "metadata": {
      "tags": []
     },
     "output_type": "display_data"
    }
   ],
   "source": [
    "pred_dl = dls_clas.test_dl(df_val['TITLE'])\n",
    "preds = learn.get_preds(dl=pred_dl)"
   ]
  },
  {
   "cell_type": "code",
   "execution_count": 25,
   "metadata": {
    "colab": {
     "base_uri": "https://localhost:8080/"
    },
    "id": "ks1x8z4WOmnZ",
    "outputId": "71af8aa9-d22e-4e5a-c072-af69012493ca"
   },
   "outputs": [
    {
     "data": {
      "text/plain": [
       "['Computer Science', 'Mathematics', 'Physics', 'Quantitative Biology', 'Quantitative Finance', 'Statistics']"
      ]
     },
     "execution_count": 25,
     "metadata": {
      "tags": []
     },
     "output_type": "execute_result"
    }
   ],
   "source": [
    "learn.dls.vocab[1]"
   ]
  },
  {
   "cell_type": "code",
   "execution_count": 19,
   "metadata": {
    "colab": {
     "base_uri": "https://localhost:8080/"
    },
    "id": "cT9gYBlsNXa_",
    "outputId": "f53f7b27-4dea-45f2-aabd-980320bb410f"
   },
   "outputs": [
    {
     "data": {
      "text/plain": [
       "(tensor([[8.8741e-01, 1.4511e-03, 6.3268e-04, 1.6303e-02, 4.6932e-03, 8.9511e-02],\n",
       "         [7.6366e-01, 4.2675e-02, 9.0572e-03, 2.4995e-02, 1.4361e-02, 1.4525e-01],\n",
       "         [5.9968e-01, 8.2334e-02, 1.2075e-02, 1.8849e-02, 3.3389e-02, 2.5367e-01],\n",
       "         ...,\n",
       "         [6.0792e-03, 6.5049e-01, 2.7436e-01, 2.5846e-02, 2.7857e-02, 1.5365e-02],\n",
       "         [2.1029e-03, 1.2174e-01, 8.5334e-01, 1.1349e-02, 9.9274e-03, 1.5385e-03],\n",
       "         [7.6692e-01, 2.7582e-02, 1.1154e-03, 2.6767e-02, 5.1935e-02, 1.2569e-01]]),\n",
       " None)"
      ]
     },
     "execution_count": 19,
     "metadata": {
      "tags": []
     },
     "output_type": "execute_result"
    }
   ],
   "source": [
    "preds"
   ]
  },
  {
   "cell_type": "code",
   "execution_count": 26,
   "metadata": {
    "id": "P-PcwrebNeVN"
   },
   "outputs": [],
   "source": [
    "# convert_label = {'Computer Science':0,'Physics':1,'Mathematics':2,'Statistics':3,'Quantitative Biology':4,'Quantitative Finance':5}\n",
    "# data['convert_label'] = data.LABEL.map(convert_label)\n",
    "cols = ['Computer Science', 'Mathematics', 'Physics', 'Quantitative Biology', 'Quantitative Finance', 'Statistics']\n",
    "predsTest = pd.DataFrame(np.asarray(preds[0]), columns = cols)\n",
    "predsTest['pred'] = predsTest.idxmax(axis = 1)\n",
    "# predsTest['pred_convert'] = predsTest['pred'].apply(lambda x: target_map[x])"
   ]
  },
  {
   "cell_type": "code",
   "execution_count": 27,
   "metadata": {
    "colab": {
     "base_uri": "https://localhost:8080/"
    },
    "id": "j7yEoN1NN5tD",
    "outputId": "c5532b34-edf8-4492-b0be-b55368231489"
   },
   "outputs": [
    {
     "data": {
      "text/plain": [
       "array([[2502,  342,  230,   93,   35,  479],\n",
       "       [ 169,  972,  166,    5,    7,   37],\n",
       "       [ 101,  119, 1470,   36,    8,   34],\n",
       "       [   4,    0,   12,   19,    1,    3],\n",
       "       [   3,    0,    2,    1,   10,    2],\n",
       "       [  20,   13,    6,    3,    3,   14]])"
      ]
     },
     "execution_count": 27,
     "metadata": {
      "tags": []
     },
     "output_type": "execute_result"
    }
   ],
   "source": [
    "from sklearn.metrics import confusion_matrix, classification_report\n",
    "confusion_matrix(predsTest.pred, df_val.LABEL)"
   ]
  },
  {
   "cell_type": "code",
   "execution_count": 28,
   "metadata": {
    "colab": {
     "base_uri": "https://localhost:8080/"
    },
    "id": "szG6nzJaOEQr",
    "outputId": "032a30d5-88a7-4a8e-b047-a6268d619a0b"
   },
   "outputs": [
    {
     "name": "stdout",
     "output_type": "stream",
     "text": [
      "                      precision    recall  f1-score   support\n",
      "\n",
      "    Computer Science       0.89      0.68      0.77      3681\n",
      "         Mathematics       0.67      0.72      0.69      1356\n",
      "             Physics       0.78      0.83      0.80      1768\n",
      "Quantitative Biology       0.12      0.49      0.19        39\n",
      "Quantitative Finance       0.16      0.56      0.24        18\n",
      "          Statistics       0.02      0.24      0.04        59\n",
      "\n",
      "            accuracy                           0.72      6921\n",
      "           macro avg       0.44      0.58      0.46      6921\n",
      "        weighted avg       0.81      0.72      0.75      6921\n",
      "\n"
     ]
    }
   ],
   "source": [
    "print(classification_report(predsTest.pred, df_val.LABEL))"
   ]
  }
 ],
 "metadata": {
  "accelerator": "GPU",
  "colab": {
   "name": "research_aricle_category_tastai.ipynb",
   "provenance": []
  },
  "kernelspec": {
   "display_name": "Python 3",
   "language": "python",
   "name": "python3"
  },
  "language_info": {
   "codemirror_mode": {
    "name": "ipython",
    "version": 3
   },
   "file_extension": ".py",
   "mimetype": "text/x-python",
   "name": "python",
   "nbconvert_exporter": "python",
   "pygments_lexer": "ipython3",
   "version": "3.8.8"
  }
 },
 "nbformat": 4,
 "nbformat_minor": 1
}
