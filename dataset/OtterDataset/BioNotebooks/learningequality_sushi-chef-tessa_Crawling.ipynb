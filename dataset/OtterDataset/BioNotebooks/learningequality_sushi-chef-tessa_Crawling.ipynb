{
 "cells": [
  {
   "cell_type": "code",
   "execution_count": 1,
   "metadata": {
    "collapsed": true
   },
   "outputs": [],
   "source": [
    "from collections import defaultdict\n",
    "import json\n",
    "import os\n",
    "\n",
    "import requests\n",
    "import ricecooker\n",
    "from bs4 import BeautifulSoup\n",
    "\n",
    "from tessa_chef import get_modtype, get_resource_info\n",
    "from tessa_chef import process_language_page\n",
    "from tessa_chef import get_text, create_subpage_node\n",
    "from tessa_chef import  TESSA_LANG_URL_MAP, TESSA_HOME_URL\n",
    "\n",
    "from tessa_chef import DATA_DIR, TREES_DATA_DIR, CRAWLING_STAGE_OUTPUT_TPL, SCRAPING_STAGE_OUTPUT_TPL\n",
    "\n",
    "import pprint\n",
    "pp = pprint.PrettyPrinter(indent=4, width=80)"
   ]
  },
  {
   "cell_type": "code",
   "execution_count": 2,
   "metadata": {
    "collapsed": true
   },
   "outputs": [],
   "source": [
    "from tessa_chef import TessaChef\n",
    "tessa_chef = TessaChef()"
   ]
  },
  {
   "cell_type": "markdown",
   "metadata": {},
   "source": [
    "## Explore crawling with the following debugging steps"
   ]
  },
  {
   "cell_type": "code",
   "execution_count": 3,
   "metadata": {
    "scrolled": false
   },
   "outputs": [
    {
     "name": "stdout",
     "output_type": "stream",
     "text": [
      "\n",
      "\n",
      "\n",
      "------- JULY 28 SPECIAL OUTPUT FOR CRAWLING REVIEW ------\n",
      "crawling lang= fr starting at http://www.open.edu/openlearnworks/course/view.php?id=2046\n",
      "\n",
      "\n",
      "\n",
      "Processing TESSA page  FR     num of unfiltered activity links: 16\n",
      "Adding oucontent Résumé des matériels pédagogiques TESSA\n",
      "Ignoring activity of type resource \tstartswith: Récapitulatif détaillé TESSA\n",
      "\n",
      "\n",
      "Adding subpage Compétences de la vie courante\n",
      "http://www.open.edu/openlearncreate/mod/subpage/view.php?id=66857\n",
      " - NEW! Recognizd standard module structure. Taking whole module:\n",
      "   Content (oucontent): Module 1 : Développement personnel – Impact de l’estime de soi sur l’apprentissage\n",
      "   total oucontent sections skipped in prev module = 5\n",
      " - NEW! Recognizd standard module structure. Taking whole module:\n",
      "   Content (oucontent): Module 2 : Exploration du développement de l’enfant dans son contexte social\n",
      "   total oucontent sections skipped in prev module = 5\n",
      " - NEW! Recognizd standard module structure. Taking whole module:\n",
      "   Content (oucontent): Module 3 : Etudes de questions relatives à la communauté et à la citoyenneté\n",
      "   total oucontent sections skipped in prev module = 5\n",
      "\n",
      "\n",
      "Adding subpage Alphabétisation\n",
      "http://www.open.edu/openlearncreate/mod/subpage/view.php?id=80922\n",
      " - NEW! Recognizd standard module structure. Taking whole module:\n",
      "   Content (oucontent): Module 1 : Des raisons pour lire et écrire\n",
      "   total oucontent sections skipped in prev module = 5\n",
      " - NEW! Recognizd standard module structure. Taking whole module:\n",
      "   Content (oucontent): Module 2 : Utilisation des voix de la communauté dans la classe\n",
      "   total oucontent sections skipped in prev module = 5\n",
      " - NEW! Recognizd standard module structure. Taking whole module:\n",
      "   Content (oucontent): Module 3 : Mise en place de situation pour l’apprentissage et l’utilisation d’une langue supplémentaire\n",
      "   total oucontent sections skipped in prev module = 5\n",
      "\n",
      "\n",
      "Adding subpage Mathématiques\n",
      "http://www.open.edu/openlearncreate/mod/subpage/view.php?id=66860\n",
      " - NEW! Recognizd standard module structure. Taking whole module:\n",
      "   Content (oucontent): Module 1 : Étude du nombre et de la structure\n",
      "   total oucontent sections skipped in prev module = 5\n",
      " - NEW! Recognizd standard module structure. Taking whole module:\n",
      "   Content (oucontent): Module 2 : Étude de la forme et de l’espace\n",
      "   total oucontent sections skipped in prev module = 5\n",
      " - NEW! Recognizd standard module structure. Taking whole module:\n",
      "   Content (oucontent): Module 3 : Étude des mesures et de l’utilisation des données\n",
      "   total oucontent sections skipped in prev module = 5\n",
      "\n",
      "\n",
      "Adding subpage Sciences\n",
      "http://www.open.edu/openlearncreate/mod/subpage/view.php?id=80923\n",
      " - NEW! Recognizd standard module structure. Taking whole module:\n",
      "   Content (oucontent): Module 1 : Observation du vivant\n",
      "   total oucontent sections skipped in prev module = 5\n",
      " - NEW! Recognizd standard module structure. Taking whole module:\n",
      "   Content (oucontent): Module 2 : Étude des matériaux\n",
      "   total oucontent sections skipped in prev module = 5\n",
      " - NEW! Recognizd standard module structure. Taking whole module:\n",
      "   Content (oucontent): Module 3 : L’énergie et le mouvement\n",
      "   total oucontent sections skipped in prev module = 5\n",
      "\n",
      "\n",
      "Adding subpage Sciences humaines et arts\n",
      "http://www.open.edu/openlearncreate/mod/subpage/view.php?id=80924\n",
      " - NEW! Recognizd standard module structure. Taking whole module:\n",
      "   Content (oucontent): Module 1 : Comprendre les lieux\n",
      "   total oucontent sections skipped in prev module = 5\n",
      " - NEW! Recognizd standard module structure. Taking whole module:\n",
      "   Content (oucontent): Module 2 : Étude de l’Histoire\n",
      "   total oucontent sections skipped in prev module = 5\n",
      " - NEW! Recognizd standard module structure. Taking whole module:\n",
      "   Content (oucontent): Module 3 : Examen des arts\n",
      "   total oucontent sections skipped in prev module = 5\n",
      "\n",
      "\n",
      "Found ADDITIONAL RESOURCES SUBPAGE Ressources clés\n",
      "http://www.open.edu/openlearncreate/mod/subpage/view.php?id=80919\n",
      "should never be here >>>>>>>>>>>>>>>>>>>>>>>>>>>>>>>>>>>>>>>>>>>>>>>>>>>>>>>>>>>>>>>>>\n",
      " - NEW! Recognizd standard module structure. Taking whole module:\n",
      "   Content (oucontent): Ressource clé : Travailler avec des classes à effectif lourd ou à niveaux multiples\n",
      " - NEW! Recognizd standard module structure. Taking whole module:\n",
      "   Content (oucontent): Ressource clé : Travailler en groupes dans la classe\n",
      " - NEW! Recognizd standard module structure. Taking whole module:\n",
      "   Content (oucontent): Ressource clé : Utiliser des cartes conceptuelles et le remue-méninges pour explorer les idées\n",
      " - NEW! Recognizd standard module structure. Taking whole module:\n",
      "   Content (oucontent): Ressource clé : Planifiez et préparez vos leçons\n",
      " - NEW! Recognizd standard module structure. Taking whole module:\n",
      "   Content (oucontent): Ressource clé : Evaluer l'apprentissage\n",
      " - NEW! Recognizd standard module structure. Taking whole module:\n",
      "   Content (oucontent): Ressource clé : Travail d'investigation et de recherche en classe\n",
      " - NEW! Recognizd standard module structure. Taking whole module:\n",
      "   Content (oucontent): Ressource clé : Être chercheur dans sa classe\n",
      " - NEW! Recognizd standard module structure. Taking whole module:\n",
      "   Content (oucontent): Ressource clé : Utiliser les jeux de rôles, l'expression orale et l'art dramatique dans la classe\n",
      " - NEW! Recognizd standard module structure. Taking whole module:\n",
      "   Content (oucontent): Ressource clé : Utiliser le questionnement pour développer la pensée\n",
      " - NEW! Recognizd standard module structure. Taking whole module:\n",
      "   Content (oucontent): Ressource clé : Utiliser les récits dans la classe\n",
      " - NEW! Recognizd standard module structure. Taking whole module:\n",
      "   Content (oucontent): Ressource clé : Utiliser l'explication et la démonstration pour favoriser l'apprentissage\n",
      " - NEW! Recognizd standard module structure. Taking whole module:\n",
      "   Content (oucontent): Ressource clé : Utiliser l'environnement local et la communauté comme ressource\n",
      " - NEW! Recognizd standard module structure. Taking whole module:\n",
      "   Content (oucontent): Ressource clé : Utiliser les nouvelles technologies\n",
      " - NEW! Recognizd standard module structure. Taking whole module:\n",
      "   Content (oucontent): Ressource clé : Etre un enseignant inventif et créatif dans des conditions difficiles\n",
      "   total oucontent sections skipped in prev module = 0\n",
      "{'kind': 'TessaSubpage', 'url': 'http://www.open.edu/openlearncreate/mod/subpage/view.php?id=80919', 'source_id': 'topic_80919', 'title': 'Ressources clés', 'lang': 'fr', 'description': \"Les ressources clés ont été produites pour la communauté TESSA. Elles décrivent des aspects importants du processus d'enseignement apprentissage. Les ressources de TESSA font constamment appel à ces ressources fondamentales.\", 'children': [{'kind': 'TessaSubject', 'source_id': '80919:Pour\\xa0lire ou télécharger une ressource individuelle, sélectionnez le lien qui convient :', 'title': 'Pour\\xa0lire ou télécharger une ressource individuelle, sélectionnez le lien qui convient :', 'children': [{'url': 'http://www.open.edu/openlearncreate/mod/oucontent/view.php?id=84354', 'source_id': '84354', 'title': 'Ressource clé : Travailler avec des classes à effectif lourd ou à niveaux multiples', 'hidden_subspan_text': 'Website content', 'children': [], 'kind': 'TessaModule', 'lang': 'fr'}, {'url': 'http://www.open.edu/openlearncreate/mod/oucontent/view.php?id=84355', 'source_id': '84355', 'title': 'Ressource clé : Travailler en groupes dans la classe', 'hidden_subspan_text': 'Website content', 'children': [], 'kind': 'TessaModule', 'lang': 'fr'}, {'url': 'http://www.open.edu/openlearncreate/mod/oucontent/view.php?id=84356', 'source_id': '84356', 'title': 'Ressource clé : Utiliser des cartes conceptuelles et le remue-méninges pour explorer les idées', 'hidden_subspan_text': 'Website content', 'children': [], 'kind': 'TessaModule', 'lang': 'fr'}, {'url': 'http://www.open.edu/openlearncreate/mod/oucontent/view.php?id=84357', 'source_id': '84357', 'title': 'Ressource clé : Planifiez et préparez vos leçons', 'hidden_subspan_text': 'Website content', 'children': [], 'kind': 'TessaModule', 'lang': 'fr'}, {'url': 'http://www.open.edu/openlearncreate/mod/oucontent/view.php?id=84358', 'source_id': '84358', 'title': \"Ressource clé : Evaluer l'apprentissage\", 'hidden_subspan_text': 'Website content', 'children': [], 'kind': 'TessaModule', 'lang': 'fr'}, {'url': 'http://www.open.edu/openlearncreate/mod/oucontent/view.php?id=84359', 'source_id': '84359', 'title': \"Ressource clé : Travail d'investigation et de recherche en classe\", 'hidden_subspan_text': 'Website content', 'children': [], 'kind': 'TessaModule', 'lang': 'fr'}, {'url': 'http://www.open.edu/openlearncreate/mod/oucontent/view.php?id=84360', 'source_id': '84360', 'title': 'Ressource clé : Être chercheur dans sa classe', 'hidden_subspan_text': 'Website content', 'children': [], 'kind': 'TessaModule', 'lang': 'fr'}, {'url': 'http://www.open.edu/openlearncreate/mod/oucontent/view.php?id=84361', 'source_id': '84361', 'title': \"Ressource clé : Utiliser les jeux de rôles, l'expression orale et l'art dramatique dans la classe\", 'hidden_subspan_text': 'Website content', 'children': [], 'kind': 'TessaModule', 'lang': 'fr'}, {'url': 'http://www.open.edu/openlearncreate/mod/oucontent/view.php?id=84362', 'source_id': '84362', 'title': 'Ressource clé : Utiliser le questionnement pour développer la pensée', 'hidden_subspan_text': 'Website content', 'children': [], 'kind': 'TessaModule', 'lang': 'fr'}, {'url': 'http://www.open.edu/openlearncreate/mod/oucontent/view.php?id=84363', 'source_id': '84363', 'title': 'Ressource clé : Utiliser les récits dans la classe', 'hidden_subspan_text': 'Website content', 'children': [], 'kind': 'TessaModule', 'lang': 'fr'}, {'url': 'http://www.open.edu/openlearncreate/mod/oucontent/view.php?id=84364', 'source_id': '84364', 'title': \"Ressource clé : Utiliser l'explication et la démonstration pour favoriser l'apprentissage\", 'hidden_subspan_text': 'Website content', 'children': [], 'kind': 'TessaModule', 'lang': 'fr'}, {'url': 'http://www.open.edu/openlearncreate/mod/oucontent/view.php?id=84365', 'source_id': '84365', 'title': \"Ressource clé : Utiliser l'environnement local et la communauté comme ressource\", 'hidden_subspan_text': 'Website content', 'children': [], 'kind': 'TessaModule', 'lang': 'fr'}, {'url': 'http://www.open.edu/openlearncreate/mod/oucontent/view.php?id=84366', 'source_id': '84366', 'title': 'Ressource clé : Utiliser les nouvelles technologies', 'hidden_subspan_text': 'Website content', 'children': [], 'kind': 'TessaModule', 'lang': 'fr'}, {'url': 'http://www.open.edu/openlearncreate/mod/oucontent/view.php?id=84367', 'source_id': '84367', 'title': 'Ressource clé : Etre un enseignant inventif et créatif dans des conditions difficiles', 'hidden_subspan_text': 'Website content', 'children': [], 'kind': 'TessaModule', 'lang': 'fr'}]}]}\n",
      "\n",
      "\n",
      "Found ADDITIONAL RESOURCES SUBPAGE Guides pour les enseignants et les formateurs d’enseignants\n",
      "http://www.open.edu/openlearncreate/mod/subpage/view.php?id=78407\n",
      " - NEW! Recognizd standard module structure. Taking whole module:\n",
      "   Content (oucontent): Travailler avec les élèves: Guide de l’enseignant\n",
      "   total oucontent sections skipped in prev module = 1\n",
      "   total oucontent sections skipped in prev module = 0\n",
      "{'kind': 'TessaSubpage', 'url': 'http://www.open.edu/openlearncreate/mod/subpage/view.php?id=78407', 'source_id': 'topic_78407', 'title': 'Guides pour les enseignants et les formateurs d’enseignants', 'lang': 'fr', 'description': \"L’équipe TESSA a rédigé plusieurs guides sur lesquels les enseignants et les formateurs d'enseignants peuvent s'appuyer pour leur travail avec les élèves et les enseignants. Tous les guides peuvent être adaptés à votre situation spécifique. Téléchargez et imprimez la version PDF ou téléchargez et adaptez le document Word pour votre propre école ou institution\", 'children': [{'kind': 'TessaSubject', 'source_id': '78407:Travailler avec les élèves\\xa0: guide de l’enseignant Ce court guide destiné aux enseignants explique comment utiliser les ressources TESSA dans la classe en fonction des programmes scolaires et du contexte de votre établissement.', 'title': 'Travailler avec les élèves\\xa0: guide de l’enseignant Ce court guide destiné aux enseignants explique comment utiliser les ressources TESSA dans la classe en fonction des programmes scolaires et du contexte de votre établissement.', 'children': [{'url': 'http://www.open.edu/openlearncreate/mod/oucontent/view.php?id=84301', 'source_id': '84301', 'title': 'Travailler avec les élèves: Guide de l’enseignant', 'hidden_subspan_text': 'Website content', 'children': [], 'kind': 'TessaModule', 'lang': 'fr'}]}, {'kind': 'TessaSubject', 'source_id': \"78407:Boîte à outils pour les superviseurs de pratiques pédagogiques La Boîte à outils contient des ressources que les superviseurs de pratiques pédagogiques peuvent utiliser pour soutenir les enseignants en formation au cours de leurs pratiques ou stages pédagogiques. La Boîte à outils aidera aussi les superviseurs à encourager l'intégration des ressources TESSA dans pratique des enseignants en formation.\", 'title': \"Boîte à outils pour les superviseurs de pratiques pédagogiques La Boîte à outils contient des ressources que les superviseurs de pratiques pédagogiques peuvent utiliser pour soutenir les enseignants en formation au cours de leurs pratiques ou stages pédagogiques. La Boîte à outils aidera aussi les superviseurs à encourager l'intégration des ressources TESSA dans pratique des enseignants en formation.\", 'children': []}]}\n",
      "\n",
      "\n",
      "Found ADDITIONAL RESOURCES SUBPAGE Ressources  audio\n",
      "http://www.open.edu/openlearncreate/mod/subpage/view.php?id=66858\n",
      "   total oucontent sections skipped in prev module = 0\n",
      "{'kind': 'TessaSubpage', 'url': 'http://www.open.edu/openlearncreate/mod/subpage/view.php?id=66858', 'source_id': 'topic_66858', 'title': 'Ressources  audio', 'lang': 'fr', 'description': 'TESSA offre des ressources audio couvrant différents aspects du travail des enseignants en Afrique. Ces ressources sont organisées sous différents thèmes. Cliquez sur le thème pour accéder aux matériels.', 'children': []}\n",
      "Ignoring activity of type url \tstartswith: TESSA Share URL\n",
      "Skipping footer section....\n",
      "Unfiltered result stored in chefdata/trees/web_resource_tree_fr_unfiltered.json\n",
      "filter_exclue_match_found Résumé et récapitulatif des matériels TESSA\n",
      "Filtered result stored in chefdata/trees/web_resource_tree_fr.json\n"
     ]
    }
   ],
   "source": [
    "DEBUG_LANG = 'fr'\n",
    "tessa_chef.crawl(None, {'lang': DEBUG_LANG})"
   ]
  },
  {
   "cell_type": "code",
   "execution_count": null,
   "metadata": {
    "collapsed": true
   },
   "outputs": [],
   "source": []
  },
  {
   "cell_type": "code",
   "execution_count": 1,
   "metadata": {},
   "outputs": [
    {
     "name": "stdout",
     "output_type": "stream",
     "text": [
      "<Additional resources>\n",
      "<Autres ressources>\n",
      "<موارد المواد>\n",
      "<Nyenzo za zaidi>\n"
     ]
    }
   ],
   "source": [
    "ADDITIONAL_RESOURCES_TITLES = [\n",
    "    'Additional resources',\n",
    "    'Autres ressources',\n",
    "    'موارد المواد',\n",
    "    'Nyenzo za zaidi',\n",
    "    # 'Download the complete Pan-Africa English library' # keeping bcs we can handle pdf\n",
    "]\n",
    "for r in ADDITIONAL_RESOURCES_TITLES:\n",
    "    print('<' + r + '>')"
   ]
  },
  {
   "cell_type": "code",
   "execution_count": null,
   "metadata": {
    "collapsed": true
   },
   "outputs": [],
   "source": [
    "TESSA_AUDIO_RESOURCES_SUBPAGES = ['66697', '81259', '66858']  # special handling for pages with audio resouces\n",
    "url_tpl = 'http://www.open.edu/openlearncreate/course/view.php?id=2199'"
   ]
  },
  {
   "cell_type": "code",
   "execution_count": null,
   "metadata": {
    "collapsed": true
   },
   "outputs": [],
   "source": []
  },
  {
   "cell_type": "code",
   "execution_count": null,
   "metadata": {
    "collapsed": true
   },
   "outputs": [],
   "source": []
  },
  {
   "cell_type": "code",
   "execution_count": null,
   "metadata": {
    "collapsed": true
   },
   "outputs": [],
   "source": []
  },
  {
   "cell_type": "code",
   "execution_count": null,
   "metadata": {
    "collapsed": true
   },
   "outputs": [],
   "source": []
  },
  {
   "cell_type": "code",
   "execution_count": null,
   "metadata": {
    "collapsed": true
   },
   "outputs": [],
   "source": []
  },
  {
   "cell_type": "code",
   "execution_count": 5,
   "metadata": {
    "scrolled": false
   },
   "outputs": [
    {
     "name": "stdout",
     "output_type": "stream",
     "text": [
      "----\n",
      "WEB RESOURCE TREE: title: TESSA (EN)   len(children) = 4\n",
      "      description: TESSA materials have been\r",
      " created and developed by experts ..\n",
      "   - Category   title: Curriculum\r",
      " framework\n",
      "           desciption: An\r",
      " outline of all the TESSA modules can be found in the fol..\n",
      "      - Resource (oucontent): Primary Curriculum framework\n",
      "      - Resource (oucontent): Secondary Science Curriculum framework\n",
      "   - Category   title: Subject\r",
      " resources\n",
      "           desciption:  The subject resources are divided into six subject areas wh..\n",
      "      - Resource (TessaSubpage): Life Skills (primary)\n",
      "         - Child (TessaModule): Module 1: Personal development – how self-esteem impacts on learning\n",
      "         - Child (TessaModule): Module 2: Exploring social development\n",
      "         - Child (TessaModule): Module 3: Community issues and citizenship\n",
      "      - Resource (TessaSubpage): Literacy (primary)\n",
      "         - Child (TessaModule): Module 1: Reading and writing for a range of purposes\n",
      "         - Child (TessaModule): Module 2: Using community voices in your classroom\n",
      "         - Child (TessaModule): Module 3: Promoting Communication in an Additional Language\n",
      "      - Resource (TessaSubpage): Numeracy (primary)\n",
      "         - Child (TessaModule): Module 1: Investigating Number and Pattern\n",
      "         - Child (TessaModule): Module 2: Exploring Shape and Space\n",
      "         - Child (TessaModule): Module 3: Investigating measurement and data handling\n",
      "      - Resource (TessaSubpage): Social Studies and the Arts (primary)\n",
      "         - Child (TessaModule): Module 1: Developing an Understanding of Place\n",
      "         - Child (TessaModule): Module 2: Investigating History\n",
      "         - Child (TessaModule): Module 3: Looking at the Arts\n",
      "      - Resource (TessaSubpage): Science (primary)\n",
      "         - Child (TessaModule): Module 1: Science - Looking at Life\n",
      "         - Child (TessaModule): Module 2: Science - Investigating Materials\n",
      "         - Child (TessaModule): Module 3: Science - Energy and Movement\n",
      "      - Resource (TessaSubpage): Science (secondary)\n",
      "         - Child (TessaSubject): Biology\n",
      "         - Child (TessaSubject): Chemistry\n",
      "         - Child (TessaSubject): Physics\n",
      "   - Category   title: Additional\r",
      " resources\n",
      "           desciption: ..\n",
      "      - Resource (TessaSubpage): Key resources for teachers and teacher educators\n",
      "         - Child (TessaSubject): Read or download individual resources:\n",
      "      - Resource (TessaSubpage): Handbooks and toolkits for teachers and teacher educators\n",
      "         - Child (TessaSubject): A handbook designed to support teacher educators to use TESSA materials in courses and programmes. It is for lecturers, advisers, professional development leaders, policy makers and other colleagues working in teacher education. Working with teachers includes the handbook for teachers, Working with pupils.\n",
      "         - Child (TessaSubject): This handbook is designed for teacher educators working with pre-service teachers or planning in-service programmes. It provides practical advice on how to introduce teachers to the TESSA Secondary Science materials by integrating them into courses.\n",
      "         - Child (TessaSubject): The toolkit contains a range of resources for teacher educators to use to help teachers develop strategies that enable all pupils to reach their potential whatever their abilities, disabilities and needs. The toolkit refers teacher educators and teachers to TESSA resources that are particularly suited to developing inclusive practices within the classroom and the school.\n",
      "      - Resource (TessaSubpage): Audio resources\n",
      "      - Resource (TessaSubpage): Teaching packs\n",
      "         - Child (TessaSubject): \n",
      "   - Category   title: Download the complete Pan-Africa English library\n",
      "           desciption: Here you can download the complete set of English materials ..\n",
      "      - Resource (resource): Download Pan-Africa English library in pdf format\n",
      "\n",
      "\n",
      "\n"
     ]
    }
   ],
   "source": [
    "with open(os.path.join(TREES_DATA_DIR, CRAWLING_STAGE_OUTPUT_TPL.format(DEBUG_LANG).replace('.json', '_unfiltered.json'))) as json_file:\n",
    "    web_resource_tree = json.load(json_file)\n",
    "\n",
    "print('----')\n",
    "print('WEB RESOURCE TREE:', 'title:', web_resource_tree['title'], '  len(children) =', len(web_resource_tree['children']))\n",
    "print('      description:', web_resource_tree['description'][0:60]+'..')\n",
    "for category in web_resource_tree['children']:\n",
    "    print('   - Category   title:', category['title']) # len(category['title']))\n",
    "    print('           desciption:', category['description'][0:60]+'..') # len(category['description']))\n",
    "\n",
    "    for resource in category['children']:\n",
    "        # print(resource)\n",
    "        if 'kind' not in resource:\n",
    "            resource['kind'] = resource['type']\n",
    "        print('      - Resource (%s):' % resource['kind'], resource['title'])\n",
    "        for child in resource['children']:\n",
    "            # print(child)\n",
    "            print('         - Child (%s):' % child['kind'], child['title'])\n",
    "\n",
    "print('\\n\\n')\n",
    "\n"
   ]
  },
  {
   "cell_type": "code",
   "execution_count": null,
   "metadata": {
    "collapsed": true,
    "scrolled": false
   },
   "outputs": [],
   "source": []
  },
  {
   "cell_type": "code",
   "execution_count": null,
   "metadata": {
    "collapsed": true
   },
   "outputs": [],
   "source": []
  },
  {
   "cell_type": "code",
   "execution_count": 6,
   "metadata": {
    "scrolled": false
   },
   "outputs": [
    {
     "name": "stdout",
     "output_type": "stream",
     "text": [
      "----\n",
      "WEB RESOURCE TREE: title: TESSA (EN)   len(children) = 4\n",
      "      description: TESSA materials have been\r",
      " created and developed by experts ..\n",
      "   - Category   title: Curriculum\r",
      " framework\n",
      "           desciption: An\r",
      " outline of all the TESSA modules can be found in the fol..\n",
      "      - Resource (oucontent): Primary Curriculum framework\n",
      "      - Resource (oucontent): Secondary Science Curriculum framework\n",
      "   - Category   title: Subject\r",
      " resources\n",
      "           desciption:  The subject resources are divided into six subject areas wh..\n",
      "      - Resource (TessaSubpage): Life Skills (primary)\n",
      "         - Child (TessaModule): Module 1: Personal development – how self-esteem impacts on learning\n",
      "         - Child (TessaModule): Module 2: Exploring social development\n",
      "         - Child (TessaModule): Module 3: Community issues and citizenship\n",
      "      - Resource (TessaSubpage): Literacy (primary)\n",
      "         - Child (TessaModule): Module 1: Reading and writing for a range of purposes\n",
      "         - Child (TessaModule): Module 2: Using community voices in your classroom\n",
      "         - Child (TessaModule): Module 3: Promoting Communication in an Additional Language\n",
      "      - Resource (TessaSubpage): Numeracy (primary)\n",
      "         - Child (TessaModule): Module 1: Investigating Number and Pattern\n",
      "         - Child (TessaModule): Module 2: Exploring Shape and Space\n",
      "         - Child (TessaModule): Module 3: Investigating measurement and data handling\n",
      "      - Resource (TessaSubpage): Social Studies and the Arts (primary)\n",
      "         - Child (TessaModule): Module 1: Developing an Understanding of Place\n",
      "         - Child (TessaModule): Module 2: Investigating History\n",
      "         - Child (TessaModule): Module 3: Looking at the Arts\n",
      "      - Resource (TessaSubpage): Science (primary)\n",
      "         - Child (TessaModule): Module 1: Science - Looking at Life\n",
      "         - Child (TessaModule): Module 2: Science - Investigating Materials\n",
      "         - Child (TessaModule): Module 3: Science - Energy and Movement\n",
      "      - Resource (TessaSubpage): Science (secondary)\n",
      "         - Child (TessaSubject): Biology\n",
      "            - Subchild (TessaModule): Module 1: Secondary Science - Biology\n",
      "         - Child (TessaSubject): Chemistry\n",
      "            - Subchild (TessaModule): Module 2: Secondary Science - Chemistry\n",
      "         - Child (TessaSubject): Physics\n",
      "            - Subchild (TessaModule): Module 3: Secondary Science - Physics\n",
      "   - Category   title: Additional\r",
      " resources\n",
      "           desciption: ..\n",
      "      - Resource (TessaSubpage): Key resources for teachers and teacher educators\n",
      "         - Child (TessaSubject): Read or download individual resources:\n",
      "            - Subchild (TessaModule): Introducing the TESSA Key Resources\n",
      "            - Subchild (TessaModule): Key Resource: Assessing learning\n",
      "            - Subchild (TessaModule): Key Resource: Using mind maps and brainstorming to explore ideas\n",
      "            - Subchild (TessaModule): Key Resource: Being a resourceful teacher in challenging circumstances\n",
      "            - Subchild (TessaModule): Key Resource: Using explaining and demonstrating to assist learning\n",
      "            - Subchild (TessaModule): Key Resource: Using group work in your classroom\n",
      "            - Subchild (TessaModule): Key Resource: Using investigations in the classroom\n",
      "            - Subchild (TessaModule): Key Resource: Tools for planning and carrying out investigations in Science\n",
      "            - Subchild (TessaModule): Key Resource: Working with large classes\n",
      "            - Subchild (TessaModule): Key Resource: Using the local community/environment as a resource\n",
      "            - Subchild (TessaModule): Key Resource: Planning and preparing your lessons\n",
      "            - Subchild (TessaModule): Key Resource: Using questioning to promote thinking\n",
      "            - Subchild (TessaModule): Key Resource: Researching in the classroom\n",
      "            - Subchild (TessaModule): Key Resource: Using role play/dialogue/drama in the classroom\n",
      "            - Subchild (TessaModule): Key Resource: Using storytelling in the classroom\n",
      "            - Subchild (TessaModule): Key Resource: Using new technologies\n",
      "            - Subchild (TessaModule): Key Resource: Working with multigrade classes\n",
      "      - Resource (TessaSubpage): Handbooks and toolkits for teachers and teacher educators\n",
      "         - Child (TessaSubject): A handbook designed to support teacher educators to use TESSA materials in courses and programmes. It is for lecturers, advisers, professional development leaders, policy makers and other colleagues working in teacher education. Working with teachers includes the handbook for teachers, Working with pupils.\n",
      "            - Subchild (TessaModule): Working with Pupils: A Guide for Teachers\n",
      "         - Child (TessaSubject): This handbook is designed for teacher educators working with pre-service teachers or planning in-service programmes. It provides practical advice on how to introduce teachers to the TESSA Secondary Science materials by integrating them into courses.\n",
      "         - Child (TessaSubject): The toolkit contains a range of resources for teacher educators to use to help teachers develop strategies that enable all pupils to reach their potential whatever their abilities, disabilities and needs. The toolkit refers teacher educators and teachers to TESSA resources that are particularly suited to developing inclusive practices within the classroom and the school.\n",
      "      - Resource (TessaSubpage): Audio resources\n",
      "      - Resource (TessaSubpage): Teaching packs\n",
      "         - Child (TessaSubject): \n",
      "   - Category   title: Download the complete Pan-Africa English library\n",
      "           desciption: Here you can download the complete set of English materials ..\n",
      "      - Resource (resource): Download Pan-Africa English library in pdf format\n",
      "\n",
      "\n",
      "\n"
     ]
    }
   ],
   "source": [
    "from tessa_chef import get_parsed_html_from_url\n",
    "\n",
    "with open(os.path.join(TREES_DATA_DIR, CRAWLING_STAGE_OUTPUT_TPL.format(DEBUG_LANG))) as json_file:\n",
    "    web_resource_tree = json.load(json_file)\n",
    "\n",
    "print('----')\n",
    "print('WEB RESOURCE TREE:', 'title:', web_resource_tree['title'], '  len(children) =', len(web_resource_tree['children']))\n",
    "print('      description:', web_resource_tree['description'][0:60]+'..')\n",
    "for category in web_resource_tree['children']:\n",
    "    print('   - Category   title:', category['title']) # len(category['title']))\n",
    "    print('           desciption:', category['description'][0:60]+'..') # len(category['description']))\n",
    "\n",
    "    for resource in category['children']:\n",
    "        # print(resource)\n",
    "        if 'kind' not in resource:\n",
    "            resource['kind'] = resource['type']\n",
    "        print('      - Resource (%s):' % resource['kind'], resource['title'])\n",
    "        for child in resource['children']:\n",
    "            # print(child)\n",
    "            print('         - Child (%s):' % child['kind'], child['title'])\n",
    "            for subchild in child['children']:\n",
    "                print('            - Subchild (%s):' % subchild['kind'], subchild['title'])\n",
    "\n",
    "print('\\n\\n')\n"
   ]
  },
  {
   "cell_type": "code",
   "execution_count": 25,
   "metadata": {
    "collapsed": true
   },
   "outputs": [],
   "source": [
    "from tessa_chef import get_parsed_html_from_url\n",
    "\n",
    "page = get_parsed_html_from_url('http://www.open.edu/openlearncreate/course/view.php?id=2042')\n",
    "pre_activity_links = page.find(class_=\"course-content\").find_all(\"li\", class_=\"activity\")\n",
    "activity_links = list(pre_activity_links)\n",
    "\n",
    "activity = activity_links[12]"
   ]
  },
  {
   "cell_type": "code",
   "execution_count": 27,
   "metadata": {},
   "outputs": [
    {
     "data": {
      "text/plain": [
       "'Additional\\r resources'"
      ]
     },
     "execution_count": 27,
     "metadata": {},
     "output_type": "execute_result"
    }
   ],
   "source": [
    "from tessa_chef import get_text\n",
    "get_text(activity)\n"
   ]
  },
  {
   "cell_type": "code",
   "execution_count": 10,
   "metadata": {},
   "outputs": [
    {
     "data": {
      "text/plain": [
       "'alksj_{}_bas.json'"
      ]
     },
     "execution_count": 10,
     "metadata": {},
     "output_type": "execute_result"
    }
   ],
   "source": [
    "s"
   ]
  },
  {
   "cell_type": "code",
   "execution_count": 8,
   "metadata": {},
   "outputs": [
    {
     "data": {
      "text/plain": [
       "'https://contentworkshop.learningequality.org'"
      ]
     },
     "execution_count": 8,
     "metadata": {},
     "output_type": "execute_result"
    }
   ],
   "source": [
    "DOMAIN = os.getenv('CONTENTWORKSHOP_URL', \"https://contentworkshop.learningequality.org/\")\n",
    "if DOMAIN.endswith('/'):\n",
    "    DOMAIN = DOMAIN.rstrip('/')\n",
    "DOMAIN"
   ]
  },
  {
   "cell_type": "code",
   "execution_count": 5,
   "metadata": {},
   "outputs": [
    {
     "data": {
      "text/plain": [
       "'https://contentworkshop.learningequality.org'"
      ]
     },
     "execution_count": 5,
     "metadata": {},
     "output_type": "execute_result"
    }
   ],
   "source": []
  },
  {
   "cell_type": "code",
   "execution_count": null,
   "metadata": {
    "collapsed": true
   },
   "outputs": [],
   "source": []
  }
 ],
 "metadata": {
  "kernelspec": {
   "display_name": "Python 3",
   "language": "python",
   "name": "python3"
  },
  "language_info": {
   "codemirror_mode": {
    "name": "ipython",
    "version": 3
   },
   "file_extension": ".py",
   "mimetype": "text/x-python",
   "name": "python",
   "nbconvert_exporter": "python",
   "pygments_lexer": "ipython3",
   "version": "3.6.2"
  }
 },
 "nbformat": 4,
 "nbformat_minor": 2
}
