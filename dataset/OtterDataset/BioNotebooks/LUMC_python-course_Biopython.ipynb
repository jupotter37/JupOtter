{
 "cells": [
  {
   "cell_type": "markdown",
   "metadata": {
    "slideshow": {
     "slide_type": "slide"
    }
   },
   "source": [
    "# Biopython\n",
    "\n",
    "![biopython logo](http://biopython.org/assets/images/biopython_logo_white.png)\n",
    "\n",
    "## A quick overview\n",
    "### [Sander Bollen](mailto://a.h.b.bollen@lumc.nl)"
   ]
  },
  {
   "cell_type": "markdown",
   "metadata": {
    "slideshow": {
     "slide_type": "slide"
    }
   },
   "source": [
    "# What is Biopython?\n",
    "\n",
    "## 'Python Tools for Computational Molecular Biology'\n",
    "\n",
    "- Fully open-source\n",
    "- Actively developed\n",
    "- Large community"
   ]
  },
  {
   "cell_type": "markdown",
   "metadata": {
    "slideshow": {
     "slide_type": "slide"
    }
   },
   "source": [
    "# What can it do?\n",
    "\n",
    "Modules, classes and functions for manipulating biological data\n",
    "\n",
    "- File parsers and writers.\n",
    "  - Sequence files: fasta, fastq, genbank, abi, sff, etc.\n",
    "  - Alignment files: clustal, emboss, phylip, nexus, etc.\n",
    "  - Sequence search outputs: BLAST, HMMER, BLAT, etc.\n",
    "  - Phylogenetic trees: newick, nexus, phyloxml, etc.\n",
    "  - Sequence motifs: AlignAce, TRANSFAC, etc.\n",
    "  - Others: PDB files, etc.\n",
    "- Access to remote resources (e.g., Entrez, NCBI BLAST).\n",
    "- Application wrappers.\n",
    "- A simple graphing tool.\n",
    "- Simple algorithms (e.g., pairwise alignment, cluster analysis).\n",
    "- References such as codon tables and IUPAC sequences."
   ]
  },
  {
   "cell_type": "markdown",
   "metadata": {
    "slideshow": {
     "slide_type": "slide"
    }
   },
   "source": [
    "# Where can I find more information?\n",
    "\n",
    "- [Biopython Homepage](http://biopython.org/)\n",
    "- [Biopython development repository](http://github.com/biopython/biopython)\n",
    "- [Biopython mailing list](http://lists.open-bio.org/pipermail/biopython/)\n",
    "- [Biopython 'cookbook'](http://biopython.org/DIST/docs/tutorial/Tutorial.html) (essential reading!)"
   ]
  },
  {
   "cell_type": "markdown",
   "metadata": {
    "slideshow": {
     "slide_type": "slide"
    }
   },
   "source": [
    "# Manipulating sequence data\n",
    "\n",
    "## Seq and SeqRecord objects\n",
    "\n",
    "`Seq` and `SeqRecord` objects are the basis of all sequence manipulation in Biopython. \n",
    "\n",
    "* `Seq` is a raw sequence with an alphabet (e.g. DNA or RNA).\n",
    "* `SeqRecord` is a sequence with metadata (e.g. names, ids, etc). This contains a `Seq` object. \n"
   ]
  },
  {
   "cell_type": "code",
   "execution_count": 1,
   "metadata": {
    "slideshow": {
     "slide_type": "subslide"
    }
   },
   "outputs": [
    {
     "name": "stdout",
     "output_type": "stream",
     "text": [
      "ATGGCCCTGTGGATGCGCCTCCTGCCCCTG\n"
     ]
    }
   ],
   "source": [
    "from Bio.Seq import Seq\n",
    "from Bio.Alphabet import generic_dna\n",
    "\n",
    "# create a sequence, and store it in a variable\n",
    "\n",
    "my_sequence = Seq(\"ATGGCCCTGTGGATGCGCCTCCTGCCCCTG\", generic_dna)\n",
    "print(my_sequence)\n",
    "\n"
   ]
  },
  {
   "cell_type": "markdown",
   "metadata": {
    "slideshow": {
     "slide_type": "subslide"
    }
   },
   "source": [
    "There are lots of built in methods that can be used to manipulate the sequence\n",
    "\n",
    "The sequence acts like a string in many ways\n"
   ]
  },
  {
   "cell_type": "code",
   "execution_count": 2,
   "metadata": {
    "slideshow": {
     "slide_type": "subslide"
    }
   },
   "outputs": [
    {
     "name": "stdout",
     "output_type": "stream",
     "text": [
      "length: 30\n"
     ]
    }
   ],
   "source": [
    "# get the length of a sequence\n",
    "print(\"length: {0}\".format(len(my_sequence)))"
   ]
  },
  {
   "cell_type": "code",
   "execution_count": 3,
   "metadata": {
    "slideshow": {
     "slide_type": "subslide"
    }
   },
   "outputs": [
    {
     "name": "stdout",
     "output_type": "stream",
     "text": [
      "ATGGCCCTGT\n"
     ]
    }
   ],
   "source": [
    "# slice and dice\n",
    "print(my_sequence[:10])"
   ]
  },
  {
   "cell_type": "code",
   "execution_count": 4,
   "metadata": {
    "slideshow": {
     "slide_type": "subslide"
    }
   },
   "outputs": [
    {
     "name": "stdout",
     "output_type": "stream",
     "text": [
      "atggccctgtggatgcgcctcctgcccctg\n"
     ]
    }
   ],
   "source": [
    "# change the case\n",
    "print(my_sequence.lower())"
   ]
  },
  {
   "cell_type": "code",
   "execution_count": 5,
   "metadata": {
    "slideshow": {
     "slide_type": "subslide"
    }
   },
   "outputs": [
    {
     "name": "stdout",
     "output_type": "stream",
     "text": [
      "ATGGCCCTGTCCTGCCCCTG\n"
     ]
    }
   ],
   "source": [
    "# concatenate the first and last 10 nucleotides\n",
    "print(my_sequence[:10] + my_sequence[-10:])"
   ]
  },
  {
   "cell_type": "markdown",
   "metadata": {
    "slideshow": {
     "slide_type": "subslide"
    }
   },
   "source": [
    "But also has more sequence-specific methods"
   ]
  },
  {
   "cell_type": "code",
   "execution_count": 6,
   "metadata": {
    "slideshow": {
     "slide_type": "subslide"
    }
   },
   "outputs": [
    {
     "name": "stdout",
     "output_type": "stream",
     "text": [
      "TACCGGGACACCTACGCGGAGGACGGGGAC\n"
     ]
    }
   ],
   "source": [
    "# complement\n",
    "print(my_sequence.complement())"
   ]
  },
  {
   "cell_type": "code",
   "execution_count": 7,
   "metadata": {
    "slideshow": {
     "slide_type": "subslide"
    }
   },
   "outputs": [
    {
     "name": "stdout",
     "output_type": "stream",
     "text": [
      "CAGGGGCAGGAGGCGCATCCACAGGGCCAT\n"
     ]
    }
   ],
   "source": [
    "# reverse complement\n",
    "print(my_sequence.reverse_complement())"
   ]
  },
  {
   "cell_type": "code",
   "execution_count": 8,
   "metadata": {
    "slideshow": {
     "slide_type": "subslide"
    }
   },
   "outputs": [
    {
     "name": "stdout",
     "output_type": "stream",
     "text": [
      "AUGGCCCUGUGGAUGCGCCUCCUGCCCCUG\n"
     ]
    }
   ],
   "source": [
    "# transcribe from DNA to RNA\n",
    "rna = my_sequence.transcribe()\n",
    "print(rna)"
   ]
  },
  {
   "cell_type": "code",
   "execution_count": 9,
   "metadata": {},
   "outputs": [
    {
     "name": "stdout",
     "output_type": "stream",
     "text": [
      "MALWMRLLPL\n"
     ]
    }
   ],
   "source": [
    "# Translate from nucleotide to protein\n",
    "protein = my_sequence.translate()\n",
    "print(protein)"
   ]
  },
  {
   "cell_type": "markdown",
   "metadata": {
    "slideshow": {
     "slide_type": "slide"
    }
   },
   "source": [
    "# Manipulating Sequence Data\n",
    "\n",
    "## Bio.SeqIO\n",
    "\n",
    "Input and output of sequence files.\n",
    "\n",
    "- `SeqIO.read`\n",
    "  - Read a file containing a single sequence\n",
    "- `SeqIO.parse`\n",
    "  - Iterate over all sequences in a sequence file\n",
    "- `SeqIO.write`\n",
    "  - write sequences to a file"
   ]
  },
  {
   "cell_type": "code",
   "execution_count": 10,
   "metadata": {
    "slideshow": {
     "slide_type": "subslide"
    }
   },
   "outputs": [
    {
     "name": "stdout",
     "output_type": "stream",
     "text": [
      "ID: 1\n",
      "Name: 1\n",
      "Description: 1\n",
      "Number of features: 0\n",
      "Seq('TGGAACATGTCCCGCTAGCTTCTTCTTGCTAGCAGATTTTTTCAGTTGATCGTC...TCT', SingleLetterAlphabet())\n"
     ]
    }
   ],
   "source": [
    "from Bio import SeqIO\n",
    "\n",
    "# read the first sequence\n",
    "# returns SeqRecord objects\n",
    "for record in SeqIO.parse(\"../data/records.fa\", \"fasta\"):\n",
    "    dna = record\n",
    "    break\n",
    "\n",
    "print(dna)"
   ]
  },
  {
   "cell_type": "markdown",
   "metadata": {
    "slideshow": {
     "slide_type": "subslide"
    }
   },
   "source": [
    "Each record is an object with several fields, including:\n",
    "\n",
    "- `record.id`\n",
    "  - the sequence id\n",
    "- `record.name`\n",
    "  - sequence name, usually the same as the id\n",
    "- `record.description`\n",
    "  - sequence description\n",
    "\n",
    "The actual sequence is a separate object contained within the record which can be accessed using record.seq\n",
    "\n",
    "The sequence has an 'alphabet' associated with it which defines which letters are allowed.\n",
    "\n",
    "Different alphabets are used for DNA, RNA, protein etc."
   ]
  },
  {
   "cell_type": "code",
   "execution_count": 11,
   "metadata": {
    "slideshow": {
     "slide_type": "subslide"
    }
   },
   "outputs": [
    {
     "name": "stdout",
     "output_type": "stream",
     "text": [
      "TGGAACATGTCCCGCTAGCTTCTTCTTGCTAGCAGATTTTTTCAGTTGATCGTCACATGCGGTAGACTACCCAAGGTGTGACTACTCGCATGCCTGATCT\n"
     ]
    }
   ],
   "source": [
    "print(dna.seq)"
   ]
  },
  {
   "cell_type": "code",
   "execution_count": 12,
   "metadata": {
    "slideshow": {
     "slide_type": "subslide"
    }
   },
   "outputs": [
    {
     "name": "stdout",
     "output_type": "stream",
     "text": [
      "AGATCAGGCATGCGAGTAGTCACACCTTGGGTAGTCTACCGCATGTGACGATCAACTGAAAAAATCTGCTAGCAAGAAGAAGCTAGCGGGACATGTTCCA\n"
     ]
    }
   ],
   "source": [
    "# we can then do our sequence manipulations on the `.seq` attribute of the record\n",
    "\n",
    "print(dna.seq.reverse_complement())"
   ]
  },
  {
   "cell_type": "markdown",
   "metadata": {
    "slideshow": {
     "slide_type": "slide"
    }
   },
   "source": [
    "Sequence records can easily be written to a file.\n",
    "\n",
    "Specifying the file type allows conversion between different formats.\n",
    "\n",
    "For example, to convert from a fastq file to fasta format:"
   ]
  },
  {
   "cell_type": "code",
   "execution_count": 13,
   "metadata": {
    "slideshow": {
     "slide_type": "fragment"
    }
   },
   "outputs": [
    {
     "data": {
      "text/plain": [
       "1"
      ]
     },
     "execution_count": 13,
     "metadata": {},
     "output_type": "execute_result"
    }
   ],
   "source": [
    "records = SeqIO.parse(\"../data/easy.fastq\", \"fastq\")\n",
    "SeqIO.write(records, \"tmp.fasta\", \"fasta\")"
   ]
  },
  {
   "cell_type": "markdown",
   "metadata": {
    "slideshow": {
     "slide_type": "slide"
    }
   },
   "source": [
    "## Sequence alignment\n",
    "\n",
    "It is possible align sequences using biopython with various methods.\n",
    "Some of these depend on external tools (e.g. `clustalw`), but simple pair-wise alignment is supported out of the box.\n"
   ]
  },
  {
   "cell_type": "code",
   "execution_count": 14,
   "metadata": {
    "slideshow": {
     "slide_type": "subslide"
    }
   },
   "outputs": [],
   "source": [
    "from Bio.pairwise2 import align, format_alignment\n",
    "\n",
    "# load fasta with insulin for several species as a handle\n",
    "ins_handle = SeqIO.parse(\"../data/ins.fa\", \"fasta\")"
   ]
  },
  {
   "cell_type": "code",
   "execution_count": 15,
   "metadata": {
    "slideshow": {
     "slide_type": "subslide"
    }
   },
   "outputs": [],
   "source": [
    "# make a list of records \n",
    "ins_records = []\n",
    "for item in ins_handle:\n",
    "    ins_records.append(item)"
   ]
  },
  {
   "cell_type": "code",
   "execution_count": 16,
   "metadata": {
    "slideshow": {
     "slide_type": "subslide"
    }
   },
   "outputs": [],
   "source": [
    "# extract a little of the sequence for human and chimp\n",
    "\n",
    "human_ins_bit = ins_records[0][-45:]\n",
    "chimp_ins_bit = ins_records[1][-45:]"
   ]
  },
  {
   "cell_type": "code",
   "execution_count": 17,
   "metadata": {
    "slideshow": {
     "slide_type": "subslide"
    }
   },
   "outputs": [
    {
     "name": "stdout",
     "output_type": "stream",
     "text": [
      "CTCCTGC-A---C--C-G-AGAG--AGATGGAATAAAGCCCTTGAACCAGCAAAA\n",
      "   |||  |   |  | | | |   ||||||||||||||||||||||||||\n",
      "---CTG-GAGAACTACTGCA-A-CTAGATGGAATAAAGCCCTTGAACCAGC----\n",
      "  Score=35\n",
      "\n"
     ]
    }
   ],
   "source": [
    "# get the alignments with smith-waterman, without gap penalties\n",
    "alignments = align.localxx(human_ins_bit.seq, chimp_ins_bit.seq)\n",
    "\n",
    "\n",
    "# print the best alignment \n",
    "best = alignments[0]\n",
    "print(format_alignment(*best))"
   ]
  },
  {
   "cell_type": "code",
   "execution_count": 18,
   "metadata": {
    "slideshow": {
     "slide_type": "subslide"
    }
   },
   "outputs": [
    {
     "name": "stdout",
     "output_type": "stream",
     "text": [
      "CTCCTGCACCGAGA------G-----AGATGGAATAAAGCCCTTGAACCAGCAAAA\n",
      "   |||    ||||      |     ||||||||||||||||||||||||||\n",
      "---CTG----GAGAACTACTGCAACTAGATGGAATAAAGCCCTTGAACCAGC----\n",
      "  Score=56\n",
      "\n"
     ]
    }
   ],
   "source": [
    "# get alignments with specified scores and penalties:\n",
    "# 2 for match, 4 for mismatch, \n",
    "#-2 for gap open, -0.5 for gap extend\n",
    "gap_alignments = align.localms(human_ins_bit.seq, \n",
    "                               chimp_ins_bit.seq, \n",
    "                               2, -4, -2, -0.5)\n",
    "\n",
    "print(format_alignment(*gap_alignments[0]))"
   ]
  },
  {
   "cell_type": "markdown",
   "metadata": {
    "slideshow": {
     "slide_type": "slide"
    }
   },
   "source": [
    "# Motis\n",
    "\n",
    "We can also get a consensus sequence given multiple sequences, and visualize the result. \n"
   ]
  },
  {
   "cell_type": "code",
   "execution_count": 19,
   "metadata": {
    "slideshow": {
     "slide_type": "subslide"
    }
   },
   "outputs": [],
   "source": [
    "motif_handle = SeqIO.parse(\"../data/motif.fa\", \"fasta\")\n",
    "motif_records = []\n",
    "for item in motif_handle:\n",
    "    motif_records.append(item.seq[:9].upper())"
   ]
  },
  {
   "cell_type": "code",
   "execution_count": 20,
   "metadata": {
    "slideshow": {
     "slide_type": "subslide"
    }
   },
   "outputs": [],
   "source": [
    "from Bio import motifs\n",
    "\n",
    "# create a motif object\n",
    "motif = motifs.create(motif_records)"
   ]
  },
  {
   "cell_type": "code",
   "execution_count": 21,
   "metadata": {
    "slideshow": {
     "slide_type": "subslide"
    }
   },
   "outputs": [
    {
     "name": "stdout",
     "output_type": "stream",
     "text": [
      "        0      1      2      3      4      5      6      7      8\n",
      "A:  30.00   0.00  17.00  27.00   0.00  25.00  26.00   0.00  19.00\n",
      "C:  52.00  50.00   0.00  57.00  50.00   0.00  58.00  50.00   0.00\n",
      "G:   0.00  50.00  61.00   0.00  50.00  58.00   0.00  50.00  53.00\n",
      "T:  18.00   0.00  22.00  16.00   0.00  17.00  16.00   0.00  28.00\n",
      "\n"
     ]
    }
   ],
   "source": [
    "print(motif.counts)"
   ]
  },
  {
   "cell_type": "code",
   "execution_count": 22,
   "metadata": {
    "slideshow": {
     "slide_type": "subslide"
    }
   },
   "outputs": [
    {
     "name": "stdout",
     "output_type": "stream",
     "text": [
      "CGGCGGCGG\n"
     ]
    }
   ],
   "source": [
    "print(motif.consensus)"
   ]
  },
  {
   "cell_type": "code",
   "execution_count": 23,
   "metadata": {
    "slideshow": {
     "slide_type": "subslide"
    }
   },
   "outputs": [],
   "source": [
    "motif.weblogo(\"tmp.svg\", format=\"SVG\")"
   ]
  },
  {
   "cell_type": "markdown",
   "metadata": {
    "slideshow": {
     "slide_type": "subslide"
    }
   },
   "source": [
    "![ll](tmp.svg)"
   ]
  },
  {
   "cell_type": "markdown",
   "metadata": {
    "slideshow": {
     "slide_type": "slide"
    }
   },
   "source": [
    "# Remote files\n",
    "\n",
    "NCBI allow for remote querying of their Entrez database, and Biopython allows us to use their services from within python.\n",
    "\n",
    "We can use the Entrez.efetch utility to retrieve various records from one of NCBI's databases.\n",
    "\n",
    "A full list of these services and their documentation can be found on the [Entrez utilities help page](https://www.ncbi.nlm.nih.gov/books/NBK25500/)"
   ]
  },
  {
   "cell_type": "code",
   "execution_count": 24,
   "metadata": {
    "slideshow": {
     "slide_type": "fragment"
    }
   },
   "outputs": [],
   "source": [
    "from Bio import Entrez"
   ]
  },
  {
   "cell_type": "markdown",
   "metadata": {
    "slideshow": {
     "slide_type": "fragment"
    }
   },
   "source": [
    "IMPORTANT:\n",
    "\n",
    "To monitor potential excessive use of their services, NCBI requests you to specify your email address with each request.\n",
    "\n",
    "With Biopython, you can set it once for your session like this:"
   ]
  },
  {
   "cell_type": "code",
   "execution_count": 25,
   "metadata": {
    "slideshow": {
     "slide_type": "fragment"
    }
   },
   "outputs": [],
   "source": [
    "Entrez.email = 'python@lumc.nl'"
   ]
  },
  {
   "cell_type": "markdown",
   "metadata": {
    "slideshow": {
     "slide_type": "subslide"
    }
   },
   "source": [
    "Now we can make a query of the database.\n",
    "\n",
    "The Entrez.efetch function returns a file-like handle that instead of pointing to a local file, points to a remote resource."
   ]
  },
  {
   "cell_type": "code",
   "execution_count": 26,
   "metadata": {
    "slideshow": {
     "slide_type": "subslide"
    }
   },
   "outputs": [],
   "source": [
    "efetch_handle = Entrez.efetch(db=\"nucleotide\", id=\"NM_005804\",\n",
    "                              rettype=\"gb\", retmode=\"text\")"
   ]
  },
  {
   "cell_type": "markdown",
   "metadata": {
    "slideshow": {
     "slide_type": "subslide"
    }
   },
   "source": [
    "We can use the handle as if it were a normal file handle opened with ```open(\"filename\", \"r\")```, and read from it using SeqIO.read()"
   ]
  },
  {
   "cell_type": "code",
   "execution_count": 27,
   "metadata": {
    "slideshow": {
     "slide_type": "subslide"
    }
   },
   "outputs": [
    {
     "name": "stdout",
     "output_type": "stream",
     "text": [
      "ID: NM_005804.3\n",
      "Name: NM_005804\n",
      "Description: Homo sapiens DExD-box helicase 39A (DDX39A), transcript variant 1, mRNA\n",
      "Number of features: 25\n",
      "/molecule_type=mRNA\n",
      "/topology=linear\n",
      "/data_file_division=PRI\n",
      "/date=20-OCT-2018\n",
      "/accessions=['NM_005804']\n",
      "/sequence_version=3\n",
      "/keywords=['RefSeq']\n",
      "/source=Homo sapiens (human)\n",
      "/organism=Homo sapiens\n",
      "/taxonomy=['Eukaryota', 'Metazoa', 'Chordata', 'Craniata', 'Vertebrata', 'Euteleostomi', 'Mammalia', 'Eutheria', 'Euarchontoglires', 'Primates', 'Haplorrhini', 'Catarrhini', 'Hominidae', 'Homo']\n",
      "/references=[Reference(title='The RNA helicase DDX39B and its paralog DDX39A regulate androgen receptor splice variant AR-V7 generation', ...), Reference(title='Identification of DDX39A as a Potential Biomarker for Unfavorable Neuroblastoma Using a Proteomic Approach', ...), Reference(title='Up-regulation of DDX39 in human malignant pleural mesothelioma cell lines compared to normal pleural mesothelial cells', ...), Reference(title='The mRNA-bound proteome and its global occupancy profile on protein-coding transcripts', ...), Reference(title='Clinical proteomics identified ATP-dependent RNA helicase DDX39 as a novel biomarker to predict poor prognosis of patients with gastrointestinal stromal tumor', ...), Reference(title='The closely related RNA helicases, UAP56 and URH49, preferentially form distinct mRNA export machineries and coordinately regulate mitotic progression', ...), Reference(title='Hcc-1 is a novel component of the nuclear matrix with growth inhibitory function', ...), Reference(title='Growth-regulated expression and G0-specific turnover of the mRNA that encodes URH49, a mammalian DExH/D box protein that is highly related to the mRNA export protein UAP56', ...), Reference(title='Analysis of a high-throughput yeast two-hybrid system and its use to predict the function of intracellular proteins encoded within the human MHC class III region', ...), Reference(title='The BAT1 gene in the MHC encodes an evolutionarily conserved putative nuclear RNA helicase of the DEAD family', ...)]\n",
      "/comment=REVIEWED REFSEQ: This record has been curated by NCBI staff. The\n",
      "reference sequence was derived from DA432925.1, BC001009.2 and\n",
      "BM792110.1.\n",
      "This sequence is a reference standard in the RefSeqGene project.\n",
      "On Oct 14, 2010 this sequence version replaced NM_005804.2.\n",
      "Summary: This gene encodes a member of the DEAD box protein family.\n",
      "These proteins are characterized by the conserved motif\n",
      "Asp-Glu-Ala-Asp (DEAD) and are putative RNA helicases. They are\n",
      "implicated in a number of cellular processes involving alteration\n",
      "of RNA secondary structure, such as translation initiation, nuclear\n",
      "and mitochondrial splicing, and ribosome and spliceosome assembly.\n",
      "Based on their distribution patterns, some members of the DEAD box\n",
      "protein family are believed to be involved in embryogenesis,\n",
      "spermatogenesis, and cellular growth and division. This gene is\n",
      "thought to play a role in the prognosis of patients with\n",
      "gastrointestinal stromal tumors. A pseudogene of this gene is\n",
      "present on chromosome 13. Alternate splicing results in multiple\n",
      "transcript variants. Additional alternatively spliced transcript\n",
      "variants of this gene have been described, but their full-length\n",
      "nature is not known. [provided by RefSeq, Sep 2013].\n",
      "Transcript Variant: This variant (1) represents the longer\n",
      "transcript.\n",
      "Publication Note:  This RefSeq record includes a subset of the\n",
      "publications that are available for this gene. Please see the Gene\n",
      "record to access additional publications.\n",
      "                               SRR1163655.274234.1 [ECO:0000332]\n",
      "                               SAMEA1965299, SAMEA1966682\n",
      "                               [ECO:0000350]\n",
      "COMPLETENESS: complete on the 3' end.\n",
      "/structured_comment=OrderedDict([('Evidence-Data', OrderedDict([('Transcript exon combination', 'SRR1163655.176131.1,'), ('RNAseq introns', 'mixed/partial sample support')]))])\n",
      "Seq('AGCAGCAGCCCGACGCAAGAGGCAGGAAGCGCAGCAACTCGTGTCTGAGCGCCC...AAA', IUPACAmbiguousDNA())\n"
     ]
    }
   ],
   "source": [
    "ncbi_record = SeqIO.read(efetch_handle, 'genbank')\n",
    "\n",
    "print(ncbi_record)"
   ]
  },
  {
   "cell_type": "markdown",
   "metadata": {
    "slideshow": {
     "slide_type": "subslide"
    }
   },
   "source": [
    "It is also possible to query for multiple records"
   ]
  },
  {
   "cell_type": "code",
   "execution_count": 28,
   "metadata": {
    "slideshow": {
     "slide_type": "subslide"
    }
   },
   "outputs": [],
   "source": [
    "efetch_handle = Entrez.efetch(db=\"nucleotide\", id=[\"NM_005804\",\"NM_000967\"],\n",
    "                              rettype=\"gb\", retmode=\"text\")"
   ]
  },
  {
   "cell_type": "markdown",
   "metadata": {
    "slideshow": {
     "slide_type": "subslide"
    }
   },
   "source": [
    "Which can then be iterated over using ```SeqIO.parse```"
   ]
  },
  {
   "cell_type": "code",
   "execution_count": 29,
   "metadata": {
    "slideshow": {
     "slide_type": "subslide"
    }
   },
   "outputs": [
    {
     "name": "stdout",
     "output_type": "stream",
     "text": [
      "NM_005804.3 Homo sapiens DExD-box helicase 39A (DDX39A), transcript variant 1, mRNA\n",
      "NM_000967.3 Homo sapiens ribosomal protein L3 (RPL3), transcript variant 1, mRNA\n"
     ]
    }
   ],
   "source": [
    "for record in SeqIO.parse(efetch_handle, 'genbank'):\n",
    "    print(record.id, record.description)"
   ]
  },
  {
   "cell_type": "markdown",
   "metadata": {
    "slideshow": {
     "slide_type": "slide"
    }
   },
   "source": [
    "# Remote Tools\n",
    "\n",
    "It is possible to use Biopyton with remote tools.\n",
    "\n",
    "For example, we can submit a BLAST search to the NCBI service. ([Documentation here](https://www.ncbi.nlm.nih.gov/BLAST/Doc/urlapi.html))\n",
    "\n",
    "We will use qblast function in the Bio.Blast.NCBIWWW module to perform a BLAST search using the record we retrieved earlier.\n",
    "\n",
    "NOTE: It can take some time for the search results to become available"
   ]
  },
  {
   "cell_type": "code",
   "execution_count": 30,
   "metadata": {
    "slideshow": {
     "slide_type": "subslide"
    }
   },
   "outputs": [
    {
     "name": "stdout",
     "output_type": "stream",
     "text": [
      "AGCAGCAGCCCGACGCAAGAGGCAGGAAGCGCAGCAACTCGTGTCTGAGCGCCCGGCGGAAAACCGAAGTTGGAAGTGTCTCTTAGCAGCGCGCGGAGAAGAACGGGGAGCCAGCATCATGGCAGAACAGGATGTGGAAAACGATCTTTTGGATTACGATGAAGAGGAAGAGCCCCAGGCTCCTCAAGAGAGCACACCAGCTCCCCCTAAGAAAGACATCAAGGGATCCTACGTTTCCATCCACAGCTCTGGCTTCCGGGACTTTCTGCTGAAGCCGGAGCTCCTGCGGGCCATCGTGGACTGTGGCTTTGAGCATCCTTCTGAGGTCCAGCATGAGTGCATTCCCCAGGCCATCCTGGGCATGGACGTCCTGTGCCAGGCCAAGTCCGGGATGGGCAAGACAGCGGTCTTCGTGCTGGCCACCCTACAGCAGATTGAGCCTGTCAACGGACAGGTGACGGTCCTGGTCATGTGCCACACGAGGGAGCTGGCCTTCCAGATCAGCAAGGAATATGAGCGCTTTTCCAAGTACATGCCCAGCGTCAAGGTGTCTGTGTTCTTCGGTGGTCTCTCCATCAAGAAGGATGAAGAAGTGTTGAAGAAGAACTGTCCCCATGTCGTGGTGGGGACCCCGGGCCGCATCCTGGCGCTCGTGCGGAATAGGAGCTTCAGCCTAAAGAATGTGAAGCACTTTGTGCTGGACGAGTGTGACAAGATGCTGGAGCAGCTGGACATGCGGCGGGATGTGCAGGAGATCTTCCGCCTGACACCACACGAGAAGCAGTGCATGATGTTCAGCGCCACCCTGAGCAAGGACATCCGGCCTGTGTGCAGGAAGTTCATGCAGGATCCCATGGAGGTGTTTGTGGACGACGAGACCAAGCTCACGCTGCACGGCCTGCAGCAGTACTACGTCAAACTCAAAGACAGTGAGAAGAACCGCAAGCTCTTTGATCTCTTGGATGTGCTGGAGTTTAACCAGGTGATAATCTTCGTCAAGTCAGTGCAGCGCTGCATGGCCCTGGCCCAGCTCCTCGTGGAGCAGAACTTCCCGGCCATCGCCATCCACCGGGGCATGGCCCAGGAGGAGCGCCTGTCACGCTATCAGCAGTTCAAGGATTTCCAGCGGCGGATCCTGGTGGCCACCAATCTGTTTGGCCGGGGGATGGACATCGAGCGAGTCAACATCGTCTTTAACTACGACATGCCTGAGGACTCGGACACCTACCTGCACCGGGTGGCCCGGGCGGGTCGCTTTGGCACCAAAGGCCTAGCCATCACTTTTGTGTCTGACGAGAATGATGCCAAAATCCTCAATGACGTCCAGGACCGGTTTGAAGTTAATGTGGCAGAACTTCCAGAGGAAATCGACATCTCCACATACATCGAGCAGAGCCGGTAACCACCACGTGCCAGAGCCGCCCACCCGGAGCCGCCCGCATGCAGCTTCACCTCCCCTTTCCAGGCGCCACTGTTGAGAAGCTAGAGATTGTATGAGAATAAACTTGTTATTATGGAAGCCTGGCTCCCACCCCATCTAAAAAAAAAAAAAAAAAAA\n"
     ]
    }
   ],
   "source": [
    "from Bio.Blast.NCBIWWW import qblast\n",
    "blast_handle = qblast('blastn', 'nt', ncbi_record.seq)\n",
    "\n",
    "print(ncbi_record.seq)"
   ]
  },
  {
   "cell_type": "markdown",
   "metadata": {
    "slideshow": {
     "slide_type": "subslide"
    }
   },
   "source": [
    "We can the read from the file handle using the ```Bio.SearchIO``` module."
   ]
  },
  {
   "cell_type": "code",
   "execution_count": 31,
   "metadata": {
    "slideshow": {
     "slide_type": "subslide"
    }
   },
   "outputs": [
    {
     "name": "stdout",
     "output_type": "stream",
     "text": [
      "Program: blastn (2.8.1+)\n",
      "  Query: No (1558)\n",
      "         definition line\n",
      " Target: nt\n",
      "   Hits: ----  -----  ----------------------------------------------------------\n",
      "            #  # HSP  ID + description\n",
      "         ----  -----  ----------------------------------------------------------\n",
      "            0      1  gi|308522777|ref|NM_005804.3|  Homo sapiens DExD-box he...\n",
      "            1      1  gi|1367219251|ref|XM_016935303.2|  PREDICTED: Pan trogl...\n",
      "            2      1  gi|675689963|ref|XM_003807080.2|  PREDICTED: Pan panisc...\n",
      "            3      1  gi|1099186172|ref|XM_004060164.2|  PREDICTED: Gorilla g...\n",
      "            4      1  gi|1351474314|ref|XM_002828787.4|  PREDICTED: Pongo abe...\n",
      "            5      1  gi|1905997|gb|U90426.1|HSU90426  Human nuclear RNA heli...\n",
      "            6      1  gi|33875869|gb|BC001009.2|  Homo sapiens DEAD (Asp-Glu-...\n",
      "            7      1  gi|10439504|dbj|AK026614.1|  Homo sapiens cDNA: FLJ2296...\n",
      "            8      1  gi|795239725|ref|XM_011953207.1|  PREDICTED: Colobus an...\n",
      "            9      1  gi|1411128774|ref|XM_025367317.1|  PREDICTED: Theropith...\n",
      "           10      1  gi|1059109912|ref|XM_017851234.1|  PREDICTED: Rhinopith...\n",
      "           11      1  gi|724815869|ref|XM_010361572.1|  PREDICTED: Rhinopithe...\n",
      "           12      1  gi|1220191829|ref|XM_009193704.2|  PREDICTED: Papio anu...\n",
      "           13      1  gi|982311930|ref|XM_005588244.2|  PREDICTED: Macaca fas...\n",
      "           14      1  gi|1297694799|ref|XM_023229571.1|  PREDICTED: Piliocolo...\n",
      "           15      1  gi|967496221|ref|XM_015123082.1|  PREDICTED: Macaca mul...\n",
      "           16      1  gi|768000518|ref|XM_011527620.1|  PREDICTED: Homo sapie...\n",
      "           17      1  gi|635036575|ref|XM_007995524.1|  PREDICTED: Chlorocebu...\n",
      "           18      1  gi|795271240|ref|XM_011768647.1|  PREDICTED: Macaca nem...\n",
      "           19      1  gi|795144436|ref|XM_011981779.1|  PREDICTED: Mandrillus...\n",
      "           20      1  gi|194377853|dbj|AK301847.1|  Homo sapiens cDNA FLJ5548...\n",
      "           21      1  gi|795433285|ref|XM_012094155.1|  PREDICTED: Cercocebus...\n",
      "           22      1  gi|1367219254|ref|XM_016935304.2|  PREDICTED: Pan trogl...\n",
      "           23      1  gi|795433280|ref|XM_012094154.1|  PREDICTED: Cercocebus...\n",
      "           24      1  gi|1297694797|ref|XM_023229570.1|  PREDICTED: Piliocolo...\n",
      "           25      1  gi|795239720|ref|XM_011953206.1|  PREDICTED: Colobus an...\n",
      "           26      1  gi|1059109914|ref|XM_017851235.1|  PREDICTED: Rhinopith...\n",
      "           27      1  gi|1220191830|ref|XM_021930788.1|  PREDICTED: Papio anu...\n",
      "           28      1  gi|685606530|ref|XM_009193706.1|  PREDICTED: Papio anub...\n",
      "           29      1  gi|1220191832|ref|XM_017952263.2|  PREDICTED: Papio anu...\n",
      "           ~~~\n",
      "           47      1  gi|1044402864|ref|XM_017497619.1|  PREDICTED: Cebus cap...\n",
      "           48      1  gi|1044402866|ref|XM_017497620.1|  PREDICTED: Cebus cap...\n",
      "           49      1  gi|1044402868|ref|XM_017497621.1|  PREDICTED: Cebus cap...\n"
     ]
    }
   ],
   "source": [
    "from Bio import SearchIO\n",
    "qresult = SearchIO.read(blast_handle, 'blast-xml')\n",
    "print(qresult)"
   ]
  },
  {
   "cell_type": "code",
   "execution_count": 32,
   "metadata": {
    "slideshow": {
     "slide_type": "subslide"
    }
   },
   "outputs": [
    {
     "name": "stdout",
     "output_type": "stream",
     "text": [
      "Query: No\n",
      "       definition line\n",
      "  Hit: gi|308522777|ref|NM_005804.3| (1558)\n",
      "       Homo sapiens DExD-box helicase 39A (DDX39A), transcript variant 1, mRNA\n",
      " HSPs: ----  --------  ---------  ------  ---------------  ---------------------\n",
      "          #   E-value  Bit score    Span      Query range              Hit range\n",
      "       ----  --------  ---------  ------  ---------------  ---------------------\n",
      "          0         0    2810.93    1558         [0:1558]               [0:1558]\n"
     ]
    }
   ],
   "source": [
    "print(qresult[0])"
   ]
  },
  {
   "cell_type": "code",
   "execution_count": 33,
   "metadata": {
    "slideshow": {
     "slide_type": "subslide"
    }
   },
   "outputs": [
    {
     "name": "stdout",
     "output_type": "stream",
     "text": [
      "Query: No\n",
      "       definition line\n",
      "  Hit: gi|1367219251|ref|XM_016935303.2| (1530)\n",
      "       PREDICTED: Pan troglodytes DExD-box helicase 39A (DDX39A), transcript...\n",
      " HSPs: ----  --------  ---------  ------  ---------------  ---------------------\n",
      "          #   E-value  Bit score    Span      Query range              Hit range\n",
      "       ----  --------  ---------  ------  ---------------  ---------------------\n",
      "          0         0    2695.52    1519         [0:1519]              [11:1530]\n"
     ]
    }
   ],
   "source": [
    "print(qresult[1])"
   ]
  },
  {
   "cell_type": "markdown",
   "metadata": {
    "slideshow": {
     "slide_type": "slide"
    }
   },
   "source": [
    "# That was just an overview\n",
    "\n",
    "This lesson was just a small taste of what can be done with Biopython.\n",
    "\n",
    "I strongly recommend looking at the [Biopython 'cookbook'](http://biopython.org/DIST/docs/tutorial/Tutorial.html) to get an idea of the wide range of things that you can do with it."
   ]
  },
  {
   "cell_type": "markdown",
   "metadata": {
    "slideshow": {
     "slide_type": "fragment"
    }
   },
   "source": [
    "The lesson was based on previous material by [Guy Allard](mailto://w.g.allard@lumc.nl), [Wibowo Arindrarto](mailto://w.arindrarto@lumc.nl) and Martijn Vermaat.\n",
    "\n",
    "License: [Creative Commons Attribution 3.0 License (CC-by)](http://creativecommons.org/licenses/by/3.0)"
   ]
  },
  {
   "cell_type": "code",
   "execution_count": null,
   "metadata": {},
   "outputs": [],
   "source": []
  }
 ],
 "metadata": {
  "celltoolbar": "Slideshow",
  "kernelspec": {
   "display_name": "Python 3",
   "language": "python",
   "name": "python3"
  },
  "language_info": {
   "codemirror_mode": {
    "name": "ipython",
    "version": 3
   },
   "file_extension": ".py",
   "mimetype": "text/x-python",
   "name": "python",
   "nbconvert_exporter": "python",
   "pygments_lexer": "ipython3",
   "version": "3.6.6"
  }
 },
 "nbformat": 4,
 "nbformat_minor": 2
}
