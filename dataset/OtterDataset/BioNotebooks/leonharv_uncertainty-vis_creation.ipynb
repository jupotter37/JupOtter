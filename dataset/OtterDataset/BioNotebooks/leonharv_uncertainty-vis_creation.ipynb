{
 "cells": [
  {
   "cell_type": "code",
   "execution_count": 1,
   "metadata": {},
   "outputs": [],
   "source": [
    "import numpy as np\n",
    "from matplotlib import pyplot as plt"
   ]
  },
  {
   "cell_type": "markdown",
   "metadata": {},
   "source": [
    "This phantom is made of a 33 cm diameter cylinder of solid water with sixteen 2.8 cm diameter inserts of various tissue equivalent materials.\n",
    "\n",
    "<img height=\"300px\" src=\"gammex467.jpg\" />\n",
    "\n",
    "| InsertID | Materials         | Density ($g cm^3$) | $dE / dx (MeV cm ^{-1})$ | RSP   |\n",
    "|----------|-------------------|--------------------|--------------------------|-------|\n",
    "| 5        | LN300 lungs       | 0.30               | 1.023                    | 0.291 |\n",
    "| 6 \t   | LN450 lungs       | 0.45 \t            | 1.552 \t               | 0.442 |\n",
    "| 3,15 \t   | AP6 adipose       | 0.94 \t            | 3.314 \t               | 0.943 |\n",
    "| 13 \t   | BR12 breast       | 0.98 \t            | 3.412 \t               | 0.971 |\n",
    "| 8,11 \t   | Water solid CT    | 1.02 \t            | 3.506 \t               | 0.998 |\n",
    "| 10 \t   | Water insert \t   | 1.00 \t            | 3.513 \t               | 1.000 |\n",
    "| 9 \t   | BRN-SR2 brain \t   | 1.05 \t            | 3.726 \t               | 1.060 |\n",
    "| 2,16 \t   | LV1 liver \t       | 1.10 \t            | 3.755 \t               | 1.068 |\n",
    "| 1 \t   | IB inner bone \t   | 1.14 \t            | 3.808 \t               | 1.083 |\n",
    "| 4 \t   | B200 bone mineral | 1.15 \t            | 3.843 \t               | 1.093 |\n",
    "| 7 \t   | CB2-30% CaCO3 \t   | 1.34 \t            | 4.468 \t               | 1.271 |\n",
    "| 12 \t   | CB2-50% CaCO3 \t   | 1.56 \t            | 5.051 \t               | 1.437 |\n",
    "| 14 \t   | SB3 cortical bone | 1.82 \t            | 5.733 \t               | 1.631 |\n",
    "\n",
    "Dauvergne, D., et al. \"Monte Carlo comparison of x-ray and proton CT for range calculations of proton therapy beams.\" Physics in Medicine & Biology 60.19 (2015): 7585."
   ]
  },
  {
   "cell_type": "code",
   "execution_count": 37,
   "metadata": {},
   "outputs": [
    {
     "data": {
      "image/png": "[encoded data removed]",
      "text/plain": [
       "<Figure size 1800x600 with 2 Axes>"
      ]
     },
     "metadata": {},
     "output_type": "display_data"
    }
   ],
   "source": [
    "resolution = np.array([130, 130])\n",
    "conversionFactor = 130 / 33e-3 # pixel / m\n",
    "\n",
    "phantom = np.zeros(resolution)\n",
    "center = resolution // 2\n",
    "xx, yy = np.meshgrid(np.arange(resolution[1]), np.arange(resolution[1]))\n",
    "\n",
    "# Water cylinder\n",
    "water_radius = 33e-3 / 2 * conversionFactor\n",
    "selection = np.where( np.linalg.norm(np.array([xx, yy]).T - center, axis=2) <= water_radius  )\n",
    "phantom[selection] = 1.0\n",
    "\n",
    "inlet_radius = 2.8e-3 / 2 * conversionFactor\n",
    "\n",
    "# outer ring inlets\n",
    "rsp_outer_inlets = np.array([\n",
    "    1.083,\n",
    "    1.068,\n",
    "    0.943,\n",
    "    1.093,\n",
    "    0.291,\n",
    "    0.442,\n",
    "    1.271,\n",
    "    0.998\n",
    "])\n",
    "outer_ring_radius = 12e-3 * conversionFactor\n",
    "outer_ring_offset = np.pi/8\n",
    "for outer_inlet in range(8):\n",
    "    angle = 0 - outer_ring_offset + np.pi/4 * outer_inlet\n",
    "    selection = np.where( np.linalg.norm(np.array([xx, yy]).T - center - np.array([np.cos(angle), np.sin(angle)]) * outer_ring_radius, axis=2) <= inlet_radius )\n",
    "    phantom[selection] = rsp_outer_inlets[outer_inlet]\n",
    "\n",
    "# inner ring inlets\n",
    "rsp_inner_inlets = np.array([\n",
    "    1.060,\n",
    "    1.0,\n",
    "    0.998,\n",
    "    1.437,\n",
    "    0.971,\n",
    "    1.631,\n",
    "    0.943,\n",
    "    1.068\n",
    "])\n",
    "inner_ring_radius = 7e-3 * conversionFactor\n",
    "inner_ring_offset = 0\n",
    "for inner_inlet in range(8):\n",
    "    angle = 0 - inner_ring_offset + np.pi/4 * inner_inlet\n",
    "    selection = np.where( np.linalg.norm(np.array([xx, yy]).T - center - np.array([np.cos(angle), np.sin(angle)]) * inner_ring_radius, axis=2) <= inlet_radius )\n",
    "    phantom[selection] = rsp_inner_inlets[inner_inlet]\n",
    "\n",
    "plt.figure(figsize=(18,6))\n",
    "plt.imshow(phantom, origin='lower', cmap='gray')\n",
    "plt.colorbar()\n",
    "plt.show()"
   ]
  },
  {
   "cell_type": "code",
   "execution_count": null,
   "metadata": {},
   "outputs": [],
   "source": []
  }
 ],
 "metadata": {
  "kernelspec": {
   "display_name": "pct",
   "language": "python",
   "name": "python3"
  },
  "language_info": {
   "codemirror_mode": {
    "name": "ipython",
    "version": 3
   },
   "file_extension": ".py",
   "mimetype": "text/x-python",
   "name": "python",
   "nbconvert_exporter": "python",
   "pygments_lexer": "ipython3",
   "version": "3.10.8"
  }
 },
 "nbformat": 4,
 "nbformat_minor": 2
}
