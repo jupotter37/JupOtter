{
 "cells": [
  {
   "cell_type": "code",
   "execution_count": 2,
   "metadata": {},
   "outputs": [],
   "source": [
    "import cv2;\n",
    "import numpy as np;\n"
   ]
  },
  {
   "cell_type": "code",
   "execution_count": 3,
   "metadata": {},
   "outputs": [
    {
     "ename": "error",
     "evalue": "OpenCV(4.5.3) /Users/runner/miniforge3/conda-bld/libopencv_1630689852376/work/modules/imgproc/src/color.cpp:182: error: (-215:Assertion failed) !_src.empty() in function 'cvtColor'\n",
     "output_type": "error",
     "traceback": [
      "\u001b[0;31m---------------------------------------------------------------------------\u001b[0m",
      "\u001b[0;31merror\u001b[0m                                     Traceback (most recent call last)",
      "Input \u001b[0;32mIn [3]\u001b[0m, in \u001b[0;36m<cell line: 9>\u001b[0;34m()\u001b[0m\n\u001b[1;32m      4\u001b[0m keypoints \u001b[38;5;241m=\u001b[39m detector\u001b[38;5;241m.\u001b[39mdetect(im)\n\u001b[1;32m      5\u001b[0m \u001b[38;5;66;03m# Draw detected blobs as red circles.\u001b[39;00m\n\u001b[1;32m      6\u001b[0m \n\u001b[1;32m      7\u001b[0m \u001b[38;5;66;03m# cv2.DRAW_MATCHES_FLAGS_DRAW_RICH_KEYPOINTS ensures the size of the circle corresponds to the size of blob\u001b[39;00m\n\u001b[0;32m----> 9\u001b[0m im_with_keypoints \u001b[38;5;241m=\u001b[39m cv2\u001b[38;5;241m.\u001b[39mdrawKeypoints(im, keypoints, np\u001b[38;5;241m.\u001b[39marray([]), (\u001b[38;5;241m0\u001b[39m,\u001b[38;5;241m0\u001b[39m,\u001b[38;5;241m255\u001b[39m), cv2\u001b[38;5;241m.\u001b[39mDRAW_MATCHES_FLAGS_DRAW_RICH_KEYPOINTS)\n\u001b[1;32m     10\u001b[0m \u001b[38;5;66;03m# Show keypoints\u001b[39;00m\n\u001b[1;32m     12\u001b[0m th, dst \u001b[38;5;241m=\u001b[39m cv2\u001b[38;5;241m.\u001b[39mthreshold(im,\u001b[38;5;241m90\u001b[39m,\u001b[38;5;241m255\u001b[39m, cv2\u001b[38;5;241m.\u001b[39mTHRESH_BINARY);\n",
      "\u001b[0;31merror\u001b[0m: OpenCV(4.5.3) /Users/runner/miniforge3/conda-bld/libopencv_1630689852376/work/modules/imgproc/src/color.cpp:182: error: (-215:Assertion failed) !_src.empty() in function 'cvtColor'\n"
     ]
    }
   ],
   "source": [
    "im = cv2.imread(\"002.jpeg\", cv2.IMREAD_GRAYSCALE)\n",
    "detector = cv2.SimpleBlobDetector_create()\n",
    "# Detect blobs.\n",
    "keypoints = detector.detect(im)\n",
    "# Draw detected blobs as red circles.\n",
    "\n",
    "# cv2.DRAW_MATCHES_FLAGS_DRAW_RICH_KEYPOINTS ensures the size of the circle corresponds to the size of blob\n",
    "\n",
    "im_with_keypoints = cv2.drawKeypoints(im, keypoints, np.array([]), (0,0,255), cv2.DRAW_MATCHES_FLAGS_DRAW_RICH_KEYPOINTS)\n",
    "# Show keypoints\n",
    "\n",
    "th, dst = cv2.threshold(im,90,255, cv2.THRESH_BINARY);\n",
    "\n",
    "\n",
    "cv2.imwrite(\"opencv-thresh-binary-maxval.jpg\", dst);\n",
    "\n",
    "# cv2.imshow(\"Keypoints\", im_with_keypoints)\n",
    "# cv2.waitKey(0)\n"
   ]
  },
  {
   "cell_type": "code",
   "execution_count": null,
   "metadata": {},
   "outputs": [],
   "source": []
  },
  {
   "cell_type": "code",
   "execution_count": 4,
   "metadata": {},
   "outputs": [
    {
     "ename": "error",
     "evalue": "OpenCV(4.5.3) /Users/runner/miniforge3/conda-bld/libopencv_1630689852376/work/modules/imgproc/src/color.cpp:182: error: (-215:Assertion failed) !_src.empty() in function 'cvtColor'\n",
     "output_type": "error",
     "traceback": [
      "\u001b[0;31m---------------------------------------------------------------------------\u001b[0m",
      "\u001b[0;31merror\u001b[0m                                     Traceback (most recent call last)",
      "Input \u001b[0;32mIn [4]\u001b[0m, in \u001b[0;36m<cell line: 9>\u001b[0;34m()\u001b[0m\n\u001b[1;32m      4\u001b[0m keypoints \u001b[38;5;241m=\u001b[39m detector\u001b[38;5;241m.\u001b[39mdetect(im)\n\u001b[1;32m      5\u001b[0m \u001b[38;5;66;03m# Draw detected blobs as red circles.\u001b[39;00m\n\u001b[1;32m      6\u001b[0m \n\u001b[1;32m      7\u001b[0m \u001b[38;5;66;03m# cv2.DRAW_MATCHES_FLAGS_DRAW_RICH_KEYPOINTS ensures the size of the circle corresponds to the size of blob\u001b[39;00m\n\u001b[0;32m----> 9\u001b[0m im_with_keypoints \u001b[38;5;241m=\u001b[39m cv2\u001b[38;5;241m.\u001b[39mdrawKeypoints(im, keypoints, np\u001b[38;5;241m.\u001b[39marray([]), (\u001b[38;5;241m0\u001b[39m,\u001b[38;5;241m0\u001b[39m,\u001b[38;5;241m255\u001b[39m), cv2\u001b[38;5;241m.\u001b[39mDRAW_MATCHES_FLAGS_DRAW_RICH_KEYPOINTS)\n\u001b[1;32m     10\u001b[0m \u001b[38;5;66;03m# Show keypoints\u001b[39;00m\n\u001b[1;32m     13\u001b[0m cv2\u001b[38;5;241m.\u001b[39mimshow(\u001b[38;5;124m\"\u001b[39m\u001b[38;5;124mKeypoints\u001b[39m\u001b[38;5;124m\"\u001b[39m, im_with_keypoints)\n",
      "\u001b[0;31merror\u001b[0m: OpenCV(4.5.3) /Users/runner/miniforge3/conda-bld/libopencv_1630689852376/work/modules/imgproc/src/color.cpp:182: error: (-215:Assertion failed) !_src.empty() in function 'cvtColor'\n"
     ]
    }
   ],
   "source": [
    "im = cv2.imread(\"opencv-thresh-binary-maxval.jpg\", cv2.IMREAD_GRAYSCALE)\n",
    "detector = cv2.SimpleBlobDetector_create()\n",
    "# Detect blobs.\n",
    "keypoints = detector.detect(im)\n",
    "# Draw detected blobs as red circles.\n",
    "\n",
    "# cv2.DRAW_MATCHES_FLAGS_DRAW_RICH_KEYPOINTS ensures the size of the circle corresponds to the size of blob\n",
    "\n",
    "im_with_keypoints = cv2.drawKeypoints(im, keypoints, np.array([]), (0,0,255), cv2.DRAW_MATCHES_FLAGS_DRAW_RICH_KEYPOINTS)\n",
    "# Show keypoints\n",
    "\n",
    "\n",
    "cv2.imshow(\"Keypoints\", im_with_keypoints)\n",
    "cv2.waitKey(0)"
   ]
  },
  {
   "cell_type": "code",
   "execution_count": 7,
   "metadata": {},
   "outputs": [],
   "source": [
    "import numpy as np\n",
    "import cv2\n",
    "import glob"
   ]
  },
  {
   "cell_type": "code",
   "execution_count": 8,
   "metadata": {},
   "outputs": [
    {
     "ename": "error",
     "evalue": "OpenCV(4.5.3) /Users/runner/miniforge3/conda-bld/libopencv_1630689852376/work/modules/imgproc/src/smooth.dispatch.cpp:617: error: (-215:Assertion failed) !_src.empty() in function 'GaussianBlur'\n",
     "output_type": "error",
     "traceback": [
      "\u001b[0;31m---------------------------------------------------------------------------\u001b[0m",
      "\u001b[0;31merror\u001b[0m                                     Traceback (most recent call last)",
      "Input \u001b[0;32mIn [8]\u001b[0m, in \u001b[0;36m<cell line: 3>\u001b[0;34m()\u001b[0m\n\u001b[1;32m      1\u001b[0m im \u001b[38;5;241m=\u001b[39m cv2\u001b[38;5;241m.\u001b[39mimread(\u001b[38;5;124m\"\u001b[39m\u001b[38;5;124mopencv-thresh-binary-maxval.jpg\u001b[39m\u001b[38;5;124m\"\u001b[39m, cv2\u001b[38;5;241m.\u001b[39mIMREAD_GRAYSCALE)\n\u001b[1;32m      2\u001b[0m \u001b[38;5;66;03m# Blur image to remove noise\u001b[39;00m\n\u001b[0;32m----> 3\u001b[0m frame\u001b[38;5;241m=\u001b[39mcv2\u001b[38;5;241m.\u001b[39mGaussianBlur(im, (\u001b[38;5;241m3\u001b[39m, \u001b[38;5;241m3\u001b[39m), \u001b[38;5;241m0\u001b[39m)\n\u001b[1;32m      5\u001b[0m \u001b[38;5;66;03m# Switch image from BGR colorspace to HSV\u001b[39;00m\n\u001b[1;32m      6\u001b[0m hsv \u001b[38;5;241m=\u001b[39m cv2\u001b[38;5;241m.\u001b[39mcvtColor(frame, cv2\u001b[38;5;241m.\u001b[39mCOLOR_BGR2HSV)\n",
      "\u001b[0;31merror\u001b[0m: OpenCV(4.5.3) /Users/runner/miniforge3/conda-bld/libopencv_1630689852376/work/modules/imgproc/src/smooth.dispatch.cpp:617: error: (-215:Assertion failed) !_src.empty() in function 'GaussianBlur'\n"
     ]
    }
   ],
   "source": [
    "    im = cv2.imread(\"opencv-thresh-binary-maxval.jpg\", cv2.IMREAD_GRAYSCALE)\n",
    "    # Blur image to remove noise\n",
    "    frame=cv2.GaussianBlur(im, (3, 3), 0)\n",
    " \n",
    "    # Switch image from BGR colorspace to HSV\n",
    "    hsv = cv2.cvtColor(frame, cv2.COLOR_BGR2HSV)\n",
    "    \n",
    "    # define range of purple color in HSV\n",
    "    purpleMin = (115,50,10)\n",
    "    purpleMax = (160, 255, 255)\n",
    "    \n",
    "    # Sets pixels to white if in purple range, else will be set to black\n",
    "    mask = cv2.inRange(hsv, purpleMin, purpleMax)\n",
    "        \n",
    "    # Bitwise-AND of mask and purple only image - only used for display\n",
    "    res = cv2.bitwise_and(frame, frame, mask= mask)\n",
    "#    mask = cv2.erode(mask, None, iterations=1)\n",
    "    # commented out erode call, detection more accurate without it\n",
    " \n",
    "    # dilate makes the in range areas larger\n",
    "    mask = cv2.dilate(mask, None, iterations=1)"
   ]
  },
  {
   "cell_type": "code",
   "execution_count": 9,
   "metadata": {},
   "outputs": [
    {
     "ename": "error",
     "evalue": "OpenCV(4.5.3) /Users/runner/miniforge3/conda-bld/libopencv_1630689852376/work/modules/imgproc/src/smooth.dispatch.cpp:617: error: (-215:Assertion failed) !_src.empty() in function 'GaussianBlur'\n",
     "output_type": "error",
     "traceback": [
      "\u001b[0;31m---------------------------------------------------------------------------\u001b[0m",
      "\u001b[0;31merror\u001b[0m                                     Traceback (most recent call last)",
      "Input \u001b[0;32mIn [9]\u001b[0m, in \u001b[0;36m<cell line: 8>\u001b[0;34m()\u001b[0m\n\u001b[1;32m      6\u001b[0m DRAW_CIRCLE_RADIUS \u001b[38;5;241m=\u001b[39m \u001b[38;5;241m18\u001b[39m\n\u001b[1;32m      7\u001b[0m img \u001b[38;5;241m=\u001b[39m cv2\u001b[38;5;241m.\u001b[39mimread(num\u001b[38;5;241m+\u001b[39m\u001b[38;5;124m'\u001b[39m\u001b[38;5;124m.jpeg\u001b[39m\u001b[38;5;124m'\u001b[39m)\n\u001b[0;32m----> 8\u001b[0m blur \u001b[38;5;241m=\u001b[39m cv2\u001b[38;5;241m.\u001b[39mGaussianBlur(img,(\u001b[38;5;241m49\u001b[39m,\u001b[38;5;241m49\u001b[39m),\u001b[38;5;241m0\u001b[39m)\n\u001b[1;32m      9\u001b[0m gray_img \u001b[38;5;241m=\u001b[39m cv2\u001b[38;5;241m.\u001b[39mcvtColor(blur, cv2\u001b[38;5;241m.\u001b[39mCOLOR_BGR2GRAY)\n\u001b[1;32m     12\u001b[0m ret, thresh \u001b[38;5;241m=\u001b[39m cv2\u001b[38;5;241m.\u001b[39mthreshold(gray_img, \u001b[38;5;241m100\u001b[39m, \u001b[38;5;241m255\u001b[39m, cv2\u001b[38;5;241m.\u001b[39mTHRESH_BINARY)\n",
      "\u001b[0;31merror\u001b[0m: OpenCV(4.5.3) /Users/runner/miniforge3/conda-bld/libopencv_1630689852376/work/modules/imgproc/src/smooth.dispatch.cpp:617: error: (-215:Assertion failed) !_src.empty() in function 'GaussianBlur'\n"
     ]
    }
   ],
   "source": [
    "import cv2\n",
    "import numpy as np\n",
    "num = \"225\"\n",
    "kernel = np.ones((11,11),np.uint8)\n",
    "CONNECTIVITY = 4\n",
    "DRAW_CIRCLE_RADIUS = 18\n",
    "img = cv2.imread(path+num+'.jpeg')\n",
    "blur = cv2.GaussianBlur(img,(49,49),0)\n",
    "gray_img = cv2.cvtColor(blur, cv2.COLOR_BGR2GRAY)\n",
    "\n",
    "\n",
    "ret, thresh = cv2.threshold(gray_img, 100, 255, cv2.THRESH_BINARY)\n",
    "erosion = cv2.erode(thresh,kernel,iterations = 1)\n",
    "\n",
    "components = cv2.connectedComponentsWithStats(erosion, CONNECTIVITY, cv2.CV_32S)\n",
    "\n",
    "centers = components[3]\n",
    "centers[0]=centers[1]\n",
    "for center in centers:\n",
    "    cv2.circle(img, (int(center[0]), int(center[1])), DRAW_CIRCLE_RADIUS, (0,0,255), thickness=1)\n",
    "    \n",
    "\n",
    "\n",
    "# cv2.imshow('Original', img)\n",
    "# cv2.imshow('Blur', blur)\n",
    "# cv2.imshow('Thresh', thresh)\n",
    "# cv2.imshow('Erosion', erosion)\n",
    "# cv2.waitKey(0)\n",
    "cv2.imwrite(num +\"-thresh.jpg\", thresh);\n",
    "\n",
    "cv2.countNonZero(thresh)"
   ]
  },
  {
   "cell_type": "code",
   "execution_count": 10,
   "metadata": {},
   "outputs": [
    {
     "name": "stdout",
     "output_type": "stream",
     "text": [
      "Collecting matplotlib\n",
      "  Downloading matplotlib-3.5.2-cp39-cp39-macosx_11_0_arm64.whl (7.2 MB)\n",
      "     |████████████████████████████████| 7.2 MB 3.6 MB/s            \n",
      "\u001b[?25hCollecting fonttools>=4.22.0\n",
      "  Downloading fonttools-4.33.3-py3-none-any.whl (930 kB)\n",
      "     |████████████████████████████████| 930 kB 3.7 MB/s            \n",
      "\u001b[?25hRequirement already satisfied: packaging>=20.0 in /Users/pierre/miniforge3/lib/python3.9/site-packages (from matplotlib) (21.3)\n",
      "Requirement already satisfied: pyparsing>=2.2.1 in /Users/pierre/miniforge3/lib/python3.9/site-packages (from matplotlib) (3.0.9)\n",
      "Requirement already satisfied: python-dateutil>=2.7 in /Users/pierre/miniforge3/lib/python3.9/site-packages (from matplotlib) (2.8.2)\n",
      "Requirement already satisfied: pillow>=6.2.0 in /Users/pierre/miniforge3/lib/python3.9/site-packages (from matplotlib) (9.1.0)\n",
      "Collecting cycler>=0.10\n",
      "  Using cached cycler-0.11.0-py3-none-any.whl (6.4 kB)\n",
      "Requirement already satisfied: numpy>=1.17 in /Users/pierre/miniforge3/lib/python3.9/site-packages (from matplotlib) (1.22.4)\n",
      "Collecting kiwisolver>=1.0.1\n",
      "  Using cached kiwisolver-1.4.2-cp39-cp39-macosx_11_0_arm64.whl (63 kB)\n",
      "Requirement already satisfied: six>=1.5 in /Users/pierre/miniforge3/lib/python3.9/site-packages (from python-dateutil>=2.7->matplotlib) (1.16.0)\n",
      "Installing collected packages: kiwisolver, fonttools, cycler, matplotlib\n",
      "Successfully installed cycler-0.11.0 fonttools-4.33.3 kiwisolver-1.4.2 matplotlib-3.5.2\n"
     ]
    }
   ],
   "source": [
    "#!conda install -c conda-forge opencv -y\n",
    "!pip install matplotlib"
   ]
  },
  {
   "cell_type": "code",
   "execution_count": 15,
   "metadata": {},
   "outputs": [
    {
     "name": "stdout",
     "output_type": "stream",
     "text": [
      "01\n",
      "02\n",
      "03\n",
      "04\n",
      "05\n",
      "06\n",
      "07\n",
      "08\n",
      "09\n",
      "10\n",
      "11\n",
      "12\n",
      "13\n",
      "14\n",
      "15\n",
      "16\n",
      "17\n",
      "18\n",
      "19\n",
      "20\n",
      "21\n",
      "22\n",
      "25\n",
      "30\n"
     ]
    }
   ],
   "source": [
    "import cv2\n",
    "import numpy as np\n",
    "import os\n",
    "import re\n",
    "size = [[],[]]\n",
    "lastVal = 0\n",
    "diffs = [0,0,0,0,0,0]\n",
    "vals = [0]\n",
    "lastDiff = 0.1\n",
    "#path=\"./Fluidics-Paper-Experiment/Figure-Selections/processed/\"\n",
    "path = \"/Users/pierre/Pictures/biology/Blob-Measuring/Level-Measurement-Experiment/cropped-dataset/\"\n",
    "#path = \"./Fluidics-Paper-Experiment/2020-02-07-fluidics-imaging-2-timelapse-2022-04-12T11:54/C15/Cropped-and-adjusted/\"\n",
    "for entry in sorted(os.scandir(path),key=lambda e: e.name):\n",
    "    #print(entry)\n",
    "    if (entry.path.endswith(\".jpeg\") or entry.path.endswith(\".png\")) and entry.is_file():\n",
    "        num = re.split('\\.|/',entry.path)\n",
    "        num = num[len(num)-2]\n",
    "        print(num)\n",
    "        img = cv2.imread(entry.path)\n",
    "        blur = cv2.GaussianBlur(img,(49,49),0)\n",
    "        gray_img = cv2.cvtColor(blur, cv2.COLOR_BGR2GRAY)\n",
    "        ret, thresh = cv2.threshold(gray_img, 110, 255, cv2.THRESH_BINARY)\n",
    "        cv2.imwrite(path+\"thresh/\"+num +\"-thresh.jpg\", thresh);\n",
    "        #print(img.shape)\n",
    "        #print(cv2.countNonZero(thresh))\n",
    "        #size[0].append(int(re.split('-|/',entry.path)[1]))\n",
    "        \n",
    "        val = (img.shape[0]*img.shape[1]-cv2.countNonZero(thresh))#*0.0000033397\n",
    "#         diff = abs(abs(val)-abs(lastVal))\n",
    "#         diffs.append(diff)\n",
    "#         meanDiff = np.mean(diffs[len(diffs)-5:len(diffs)])\n",
    "#         meanVals = np.mean(vals[len(vals)-5:len(vals)])\n",
    "#         print(abs(meanVals))\n",
    "\n",
    "#         if abs(val-1.1*meanVals) < 0.2:#and val-lastVal > -0.1:\n",
    "#             size[0].append(int(num))\n",
    "#             size[1].append((val))\n",
    "#             vals.append(val)\n",
    "#             lastVal = val\n",
    "#             lastDiff = diff\n",
    "\n",
    "\n",
    "        size[0].append(int(num)/24)\n",
    "        size[1].append((val))\n",
    "\n",
    "#         print(re.split('-|/',entry.path)[1])\n",
    "#         print(img.shape[0]*img.shape[1]-cv2.countNonZero(thresh))\n",
    "        \n",
    "        \n",
    "        "
   ]
  },
  {
   "cell_type": "code",
   "execution_count": 24,
   "metadata": {
    "scrolled": true
   },
   "outputs": [
    {
     "data": {
      "image/png": "[encoded data removed]",
      "text/plain": [
       "<Figure size 432x288 with 1 Axes>"
      ]
     },
     "metadata": {
      "needs_background": "light"
     },
     "output_type": "display_data"
    },
    {
     "name": "stdout",
     "output_type": "stream",
     "text": [
      "y=89713.547457x+(-361959.935774)\n"
     ]
    }
   ],
   "source": [
    "import matplotlib.pylab as plt\n",
    "plt.plot(size[0],size[1], 'ro')\n",
    "x= size[0];\n",
    "y=size[1];\n",
    "z = np.polyfit(x, y, 3)\n",
    "p = np.poly1d(z)\n",
    "plt.plot(x,p(x),'k--',linewidth=2)\n",
    "color = 0.8;\n",
    "plt.ylabel('Size ($mm^2$)')\n",
    "plt.xlabel('Time (days)')\n",
    "plt.title(\"Organoid Growth\")\n",
    "plt.show()\n",
    "print( \"y=%.6fx+(%.6f)\"%(z[0],z[1]))"
   ]
  },
  {
   "cell_type": "code",
   "execution_count": 19,
   "metadata": {},
   "outputs": [
    {
     "data": {
      "text/plain": [
       "1.6286141616411733e-08"
      ]
     },
     "execution_count": 19,
     "metadata": {},
     "output_type": "execute_result"
    }
   ],
   "source": [
    "z[0]"
   ]
  },
  {
   "cell_type": "code",
   "execution_count": 80,
   "metadata": {},
   "outputs": [
    {
     "data": {
      "text/plain": [
       "['./236.jpeg']"
      ]
     },
     "execution_count": 80,
     "metadata": {},
     "output_type": "execute_result"
    }
   ],
   "source": [
    "entry.path.split(\"\\.\")"
   ]
  },
  {
   "cell_type": "code",
   "execution_count": 89,
   "metadata": {},
   "outputs": [
    {
     "data": {
      "text/plain": [
       "'236'"
      ]
     },
     "execution_count": 89,
     "metadata": {},
     "output_type": "execute_result"
    }
   ],
   "source": [
    "re.split('\\.|/',entry.path)[2]"
   ]
  },
  {
   "cell_type": "code",
   "execution_count": 102,
   "metadata": {},
   "outputs": [
    {
     "data": {
      "text/plain": [
       "[]"
      ]
     },
     "execution_count": 102,
     "metadata": {},
     "output_type": "execute_result"
    }
   ],
   "source": [
    "diffs[len(diffs)-5:len(diffs)]"
   ]
  },
  {
   "cell_type": "code",
   "execution_count": 101,
   "metadata": {},
   "outputs": [],
   "source": [
    "diffs=[]"
   ]
  },
  {
   "cell_type": "code",
   "execution_count": 127,
   "metadata": {},
   "outputs": [
    {
     "data": {
      "text/plain": [
       "[0.2375929374, 0.3455954957, 0.1200722341, 0.4936944922, 0.2526917211]"
      ]
     },
     "execution_count": 127,
     "metadata": {},
     "output_type": "execute_result"
    }
   ],
   "source": [
    "vals[len(vals)-5:len(vals)]"
   ]
  },
  {
   "cell_type": "code",
   "execution_count": 18,
   "metadata": {},
   "outputs": [
    {
     "name": "stdout",
     "output_type": "stream",
     "text": [
      "[[0.4583333333333333, 1.2916666666666667, 2.125, 2.875, 3.75, 4.583333333333333, 5.458333333333333, 6.291666666666667], [0.0884252369, 0.1172301494, 0.1852731972, 0.2684150287, 0.360654203, 0.4573084607, 0.5538458289, 0.722076537]]\n"
     ]
    }
   ],
   "source": [
    "print(size)"
   ]
  },
  {
   "cell_type": "code",
   "execution_count": 57,
   "metadata": {},
   "outputs": [
    {
     "name": "stdout",
     "output_type": "stream",
     "text": [
      "06\n",
      "07\n",
      "08\n",
      "09\n",
      "10\n",
      "11\n",
      "12\n",
      "13\n",
      "14\n",
      "15\n",
      "16\n",
      "17\n",
      "18\n",
      "19\n",
      "20\n",
      "21\n",
      "22\n",
      "23\n",
      "24\n",
      "25\n",
      "26\n",
      "27\n",
      "28\n",
      "29\n",
      "30\n",
      "31\n",
      "32\n",
      "33\n"
     ]
    }
   ],
   "source": [
    "#this is the one to optimize for lights\n",
    "\n",
    "import cv2\n",
    "import numpy as np\n",
    "import os\n",
    "import re\n",
    "size = [[],[]]\n",
    "lastVal = 0\n",
    "diffs = [0,0,0,0,0,0]\n",
    "vals = [0]\n",
    "lastDiff = 0.1\n",
    "#path=\"./Fluidics-Paper-Experiment/Figure-Selections/processed/\"\n",
    "path = \"/Users/pierre/Pictures/biology/Blob-Measuring/Level-Measurement-Experiment/second-dataset/cropped-dataset/\"\n",
    "#path = \"./Fluidics-Paper-Experiment/2020-02-07-fluidics-imaging-2-timelapse-2022-04-12T11:54/C15/Cropped-and-adjusted/\"\n",
    "for entry in sorted(os.scandir(path),key=lambda e: e.name):\n",
    "    #print(entry)\n",
    "    if (entry.path.endswith(\".jpeg\") or entry.path.endswith(\".png\")) and entry.is_file():\n",
    "        num = re.split('\\.|/',entry.path)\n",
    "        num = num[len(num)-2]\n",
    "        print(num)\n",
    "        img = cv2.imread(entry.path)\n",
    "        #blur = cv2.GaussianBlur(img,(49,49),0)\n",
    "        blur = cv2.blur(img,(49,49))\n",
    "        gray_img = cv2.cvtColor(blur, cv2.COLOR_BGR2GRAY)\n",
    "        ret, thresh = cv2.threshold(gray_img, 50, 255, cv2.THRESH_BINARY_INV)\n",
    "        cv2.imwrite(path+\"thresh/\"+num +\"-thresh.jpg\", thresh);\n",
    "        #print(img.shape)\n",
    "        #print(cv2.countNonZero(thresh))\n",
    "        #size[0].append(int(re.split('-|/',entry.path)[1]))\n",
    "        \n",
    "        val = (img.shape[0]*img.shape[1]-cv2.countNonZero(thresh))#*0.0000033397\n",
    "#         diff = abs(abs(val)-abs(lastVal))\n",
    "#         diffs.append(diff)\n",
    "#         meanDiff = np.mean(diffs[len(diffs)-5:len(diffs)])\n",
    "#         meanVals = np.mean(vals[len(vals)-5:len(vals)])\n",
    "#         print(abs(meanVals))\n",
    "\n",
    "#         if abs(val-1.1*meanVals) < 0.2:#and val-lastVal > -0.1:\n",
    "#             size[0].append(int(num))\n",
    "#             size[1].append((val))\n",
    "#             vals.append(val)\n",
    "#             lastVal = val\n",
    "#             lastDiff = diff\n",
    "\n",
    "\n",
    "        size[0].append(int(num)/10)\n",
    "        size[1].append((val))\n",
    "\n",
    "#         print(re.split('-|/',entry.path)[1])\n",
    "#         print(img.shape[0]*img.shape[1]-cv2.countNonZero(thresh))\n",
    "        \n",
    "        \n",
    "        "
   ]
  },
  {
   "cell_type": "code",
   "execution_count": 58,
   "metadata": {},
   "outputs": [
    {
     "data": {
      "image/png": "[encoded data removed]",
      "text/plain": [
       "<Figure size 432x288 with 1 Axes>"
      ]
     },
     "metadata": {
      "needs_background": "light"
     },
     "output_type": "display_data"
    },
    {
     "name": "stdout",
     "output_type": "stream",
     "text": [
      "y=-15564.673632x+(131791.010742)\n"
     ]
    }
   ],
   "source": [
    "import matplotlib.pylab as plt\n",
    "plt.plot(size[0],size[1], 'ro')\n",
    "x= size[0];\n",
    "y=size[1];\n",
    "z = np.polyfit(x, y, 3)\n",
    "p = np.poly1d(z)\n",
    "plt.plot(x,p(x),'k--',linewidth=2)\n",
    "color = 0.8;\n",
    "plt.ylabel('Size ($mm^2$)')\n",
    "plt.xlabel('ml')\n",
    "plt.title(\"Light Diffusion\")\n",
    "plt.show()\n",
    "print( \"y=%.6fx+(%.6f)\"%(z[0],z[1]))"
   ]
  },
  {
   "cell_type": "code",
   "execution_count": null,
   "metadata": {},
   "outputs": [],
   "source": [
    "|"
   ]
  }
 ],
 "metadata": {
  "kernelspec": {
   "display_name": "Python 3.9.13 64-bit",
   "language": "python",
   "name": "python3"
  },
  "language_info": {
   "codemirror_mode": {
    "name": "ipython",
    "version": 3
   },
   "file_extension": ".py",
   "mimetype": "text/x-python",
   "name": "python",
   "nbconvert_exporter": "python",
   "pygments_lexer": "ipython3",
   "version": "3.9.13"
  },
  "vscode": {
   "interpreter": {
    "hash": "b0fa6594d8f4cbf19f97940f81e996739fb7646882a419484c72d19e05852a7e"
   }
  }
 },
 "nbformat": 4,
 "nbformat_minor": 4
}
