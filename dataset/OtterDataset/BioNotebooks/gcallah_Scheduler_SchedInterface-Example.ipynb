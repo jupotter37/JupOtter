{
 "cells": [
  {
   "cell_type": "code",
   "execution_count": 1,
   "metadata": {},
   "outputs": [],
   "source": [
    "#cd ../scheduler"
   ]
  },
  {
   "cell_type": "markdown",
   "metadata": {},
   "source": [
    "# Welcome to Scheduler!"
   ]
  },
  {
   "cell_type": "markdown",
   "metadata": {},
   "source": [
    "First ensure you are in the correct directory. (You might not need to do this command.)"
   ]
  },
  {
   "cell_type": "code",
   "execution_count": 3,
   "metadata": {},
   "outputs": [
    {
     "name": "stdout",
     "output_type": "stream",
     "text": [
      "/Users/gcallah/GitProjects/Scheduler/scheduler\n"
     ]
    }
   ],
   "source": [
    "cd ../scheduler"
   ]
  },
  {
   "cell_type": "markdown",
   "metadata": {},
   "source": [
    "### Loading the example data\n",
    "To do this run the cell below (Ctrl + Enter)."
   ]
  },
  {
   "cell_type": "code",
   "execution_count": 4,
   "metadata": {},
   "outputs": [
    {
     "name": "stdout",
     "output_type": "stream",
     "text": [
      "Data loaded successfully\n"
     ]
    }
   ],
   "source": [
    "%run -i example_data_loader"
   ]
  },
  {
   "cell_type": "markdown",
   "metadata": {},
   "source": [
    "### Visualising the data\n",
    "Run the cell below to see the example professors, classrooms and courses"
   ]
  },
  {
   "cell_type": "code",
   "execution_count": 5,
   "metadata": {},
   "outputs": [
    {
     "data": {
      "text/html": [
       "<table>\n",
       "<thead>\n",
       "<tr><th style=\"text-align: center;\">     profs      </th><th style=\"text-align: center;\"> rooms </th><th style=\"text-align: center;\">     courses     </th></tr>\n",
       "</thead>\n",
       "<tbody>\n",
       "<tr><td style=\"text-align: center;\">   John Smith   </td><td style=\"text-align: center;\">  655  </td><td style=\"text-align: center;\">     physics     </td></tr>\n",
       "<tr><td style=\"text-align: center;\">   Lisa Jones   </td><td style=\"text-align: center;\">  666  </td><td style=\"text-align: center;\">    chemistry    </td></tr>\n",
       "<tr><td style=\"text-align: center;\"> Mike Williams  </td><td style=\"text-align: center;\"> 745a  </td><td style=\"text-align: center;\">  biochemistry   </td></tr>\n",
       "<tr><td style=\"text-align: center;\">  Tim Simpson   </td><td style=\"text-align: center;\"> 745b  </td><td style=\"text-align: center;\">    biology 1    </td></tr>\n",
       "<tr><td style=\"text-align: center;\">  Rachel Smith  </td><td style=\"text-align: center;\">  433  </td><td style=\"text-align: center;\">    biology 2    </td></tr>\n",
       "<tr><td style=\"text-align: center;\">  Gregg Woods   </td><td style=\"text-align: center;\">  201  </td><td style=\"text-align: center;\">molecular biology</td></tr>\n",
       "<tr><td style=\"text-align: center;\"> Simon Valinski </td><td style=\"text-align: center;\"> 115a  </td><td style=\"text-align: center;\">   calculus 1    </td></tr>\n",
       "<tr><td style=\"text-align: center;\">    Chu Yen     </td><td style=\"text-align: center;\"> 115b  </td><td style=\"text-align: center;\">   calculus 4    </td></tr>\n",
       "<tr><td style=\"text-align: center;\">  Peter Parker  </td><td style=\"text-align: center;\">       </td><td style=\"text-align: center;\">  astrophysics   </td></tr>\n",
       "<tr><td style=\"text-align: center;\">  Lisa Mullen   </td><td style=\"text-align: center;\">       </td><td style=\"text-align: center;\">                 </td></tr>\n",
       "<tr><td style=\"text-align: center;\">Elizabeth Walker</td><td style=\"text-align: center;\">       </td><td style=\"text-align: center;\">                 </td></tr>\n",
       "<tr><td style=\"text-align: center;\">Brian K. Dickson</td><td style=\"text-align: center;\">       </td><td style=\"text-align: center;\">                 </td></tr>\n",
       "<tr><td style=\"text-align: center;\"> Jamir Abdullah </td><td style=\"text-align: center;\">       </td><td style=\"text-align: center;\">                 </td></tr>\n",
       "</tbody>\n",
       "</table>"
      ],
      "text/plain": [
       "<IPython.core.display.HTML object>"
      ]
     },
     "execution_count": 5,
     "metadata": {},
     "output_type": "execute_result"
    }
   ],
   "source": [
    "check_the_data"
   ]
  },
  {
   "cell_type": "markdown",
   "metadata": {},
   "source": [
    "### See the schedule "
   ]
  },
  {
   "cell_type": "code",
   "execution_count": 6,
   "metadata": {},
   "outputs": [
    {
     "data": {
      "text/html": [
       "<div>\n",
       "<style scoped>\n",
       "    .dataframe tbody tr th:only-of-type {\n",
       "        vertical-align: middle;\n",
       "    }\n",
       "\n",
       "    .dataframe tbody tr th {\n",
       "        vertical-align: top;\n",
       "    }\n",
       "\n",
       "    .dataframe thead th {\n",
       "        text-align: right;\n",
       "    }\n",
       "</style>\n",
       "<table border=\"1\" class=\"dataframe\">\n",
       "  <thead>\n",
       "    <tr style=\"text-align: right;\">\n",
       "      <th></th>\n",
       "      <th>Day</th>\n",
       "      <th>Course</th>\n",
       "      <th>Professor</th>\n",
       "      <th>Room</th>\n",
       "      <th>Period</th>\n",
       "    </tr>\n",
       "  </thead>\n",
       "  <tbody>\n",
       "    <tr>\n",
       "      <th>0</th>\n",
       "      <td>MON</td>\n",
       "      <td>biology 2</td>\n",
       "      <td>Peter Parker</td>\n",
       "      <td>745b</td>\n",
       "      <td>10:00 to 11:00</td>\n",
       "    </tr>\n",
       "    <tr>\n",
       "      <th>1</th>\n",
       "      <td>TUES</td>\n",
       "      <td>calculus 1</td>\n",
       "      <td>Lisa Mullen</td>\n",
       "      <td>745b</td>\n",
       "      <td>11:00 to 12:00</td>\n",
       "    </tr>\n",
       "    <tr>\n",
       "      <th>2</th>\n",
       "      <td>TUES</td>\n",
       "      <td>calculus 4</td>\n",
       "      <td>Tim Simpson</td>\n",
       "      <td>655</td>\n",
       "      <td>09:00 to 10:00</td>\n",
       "    </tr>\n",
       "    <tr>\n",
       "      <th>3</th>\n",
       "      <td>WED</td>\n",
       "      <td>physics</td>\n",
       "      <td>John Smith</td>\n",
       "      <td>115b</td>\n",
       "      <td>09:30 to 10:30</td>\n",
       "    </tr>\n",
       "    <tr>\n",
       "      <th>4</th>\n",
       "      <td>WED</td>\n",
       "      <td>biology 1</td>\n",
       "      <td>Mike Williams</td>\n",
       "      <td>115b</td>\n",
       "      <td>13:00 to 14:30</td>\n",
       "    </tr>\n",
       "    <tr>\n",
       "      <th>5</th>\n",
       "      <td>WED</td>\n",
       "      <td>molecular biology</td>\n",
       "      <td>Peter Parker</td>\n",
       "      <td>115b</td>\n",
       "      <td>08:30 to 09:30</td>\n",
       "    </tr>\n",
       "    <tr>\n",
       "      <th>6</th>\n",
       "      <td>WED</td>\n",
       "      <td>calculus 1</td>\n",
       "      <td>Lisa Mullen</td>\n",
       "      <td>745b</td>\n",
       "      <td>12:00 to 13:00</td>\n",
       "    </tr>\n",
       "    <tr>\n",
       "      <th>7</th>\n",
       "      <td>WED</td>\n",
       "      <td>calculus 4</td>\n",
       "      <td>Tim Simpson</td>\n",
       "      <td>115a</td>\n",
       "      <td>15:30 to 16:30</td>\n",
       "    </tr>\n",
       "    <tr>\n",
       "      <th>8</th>\n",
       "      <td>THUR</td>\n",
       "      <td>physics</td>\n",
       "      <td>John Smith</td>\n",
       "      <td>745b</td>\n",
       "      <td>09:30 to 10:30</td>\n",
       "    </tr>\n",
       "    <tr>\n",
       "      <th>9</th>\n",
       "      <td>THUR</td>\n",
       "      <td>chemistry</td>\n",
       "      <td>Gregg Woods</td>\n",
       "      <td>115b</td>\n",
       "      <td>16:00 to 17:30</td>\n",
       "    </tr>\n",
       "    <tr>\n",
       "      <th>10</th>\n",
       "      <td>THUR</td>\n",
       "      <td>biochemistry</td>\n",
       "      <td>Gregg Woods</td>\n",
       "      <td>745a</td>\n",
       "      <td>14:00 to 15:30</td>\n",
       "    </tr>\n",
       "    <tr>\n",
       "      <th>11</th>\n",
       "      <td>THUR</td>\n",
       "      <td>biology 1</td>\n",
       "      <td>Mike Williams</td>\n",
       "      <td>115b</td>\n",
       "      <td>11:30 to 13:00</td>\n",
       "    </tr>\n",
       "    <tr>\n",
       "      <th>12</th>\n",
       "      <td>THUR</td>\n",
       "      <td>biology 2</td>\n",
       "      <td>Peter Parker</td>\n",
       "      <td>201</td>\n",
       "      <td>09:30 to 10:30</td>\n",
       "    </tr>\n",
       "    <tr>\n",
       "      <th>13</th>\n",
       "      <td>THUR</td>\n",
       "      <td>calculus 1</td>\n",
       "      <td>Lisa Mullen</td>\n",
       "      <td>745b</td>\n",
       "      <td>11:00 to 12:00</td>\n",
       "    </tr>\n",
       "    <tr>\n",
       "      <th>14</th>\n",
       "      <td>THUR</td>\n",
       "      <td>astrophysics</td>\n",
       "      <td>Simon Valinski</td>\n",
       "      <td>115a</td>\n",
       "      <td>10:00 to 11:00</td>\n",
       "    </tr>\n",
       "    <tr>\n",
       "      <th>15</th>\n",
       "      <td>FRI</td>\n",
       "      <td>physics</td>\n",
       "      <td>John Smith</td>\n",
       "      <td>115a</td>\n",
       "      <td>08:30 to 09:30</td>\n",
       "    </tr>\n",
       "    <tr>\n",
       "      <th>16</th>\n",
       "      <td>FRI</td>\n",
       "      <td>chemistry</td>\n",
       "      <td>Gregg Woods</td>\n",
       "      <td>201</td>\n",
       "      <td>09:30 to 11:00</td>\n",
       "    </tr>\n",
       "    <tr>\n",
       "      <th>17</th>\n",
       "      <td>FRI</td>\n",
       "      <td>biochemistry</td>\n",
       "      <td>Gregg Woods</td>\n",
       "      <td>745b</td>\n",
       "      <td>16:30 to 18:00</td>\n",
       "    </tr>\n",
       "    <tr>\n",
       "      <th>18</th>\n",
       "      <td>FRI</td>\n",
       "      <td>biology 2</td>\n",
       "      <td>Peter Parker</td>\n",
       "      <td>115b</td>\n",
       "      <td>13:00 to 14:00</td>\n",
       "    </tr>\n",
       "  </tbody>\n",
       "</table>\n",
       "</div>"
      ],
      "text/plain": [
       "     Day             Course       Professor  Room          Period\n",
       "0    MON          biology 2    Peter Parker  745b  10:00 to 11:00\n",
       "1   TUES         calculus 1     Lisa Mullen  745b  11:00 to 12:00\n",
       "2   TUES         calculus 4     Tim Simpson   655  09:00 to 10:00\n",
       "3    WED            physics      John Smith  115b  09:30 to 10:30\n",
       "4    WED          biology 1   Mike Williams  115b  13:00 to 14:30\n",
       "5    WED  molecular biology    Peter Parker  115b  08:30 to 09:30\n",
       "6    WED         calculus 1     Lisa Mullen  745b  12:00 to 13:00\n",
       "7    WED         calculus 4     Tim Simpson  115a  15:30 to 16:30\n",
       "8   THUR            physics      John Smith  745b  09:30 to 10:30\n",
       "9   THUR          chemistry     Gregg Woods  115b  16:00 to 17:30\n",
       "10  THUR       biochemistry     Gregg Woods  745a  14:00 to 15:30\n",
       "11  THUR          biology 1   Mike Williams  115b  11:30 to 13:00\n",
       "12  THUR          biology 2    Peter Parker   201  09:30 to 10:30\n",
       "13  THUR         calculus 1     Lisa Mullen  745b  11:00 to 12:00\n",
       "14  THUR       astrophysics  Simon Valinski  115a  10:00 to 11:00\n",
       "15   FRI            physics      John Smith  115a  08:30 to 09:30\n",
       "16   FRI          chemistry     Gregg Woods   201  09:30 to 11:00\n",
       "17   FRI       biochemistry     Gregg Woods  745b  16:30 to 18:00\n",
       "18   FRI          biology 2    Peter Parker  115b  13:00 to 14:00"
      ]
     },
     "metadata": {},
     "output_type": "display_data"
    }
   ],
   "source": [
    "show_me_the_schedule()"
   ]
  },
  {
   "cell_type": "code",
   "execution_count": null,
   "metadata": {},
   "outputs": [],
   "source": []
  }
 ],
 "metadata": {
  "kernelspec": {
   "display_name": "Python 3",
   "language": "python",
   "name": "python3"
  },
  "language_info": {
   "codemirror_mode": {
    "name": "ipython",
    "version": 3
   },
   "file_extension": ".py",
   "mimetype": "text/x-python",
   "name": "python",
   "nbconvert_exporter": "python",
   "pygments_lexer": "ipython3",
   "version": "3.6.2"
  }
 },
 "nbformat": 4,
 "nbformat_minor": 2
}
