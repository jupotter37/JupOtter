{
  "cells": [
    {
      "cell_type": "markdown",
      "metadata": {
        "id": "Y0RIUh43Hlki"
      },
      "source": [
        "# **ADSP - P8 PROJECT** - scientific papers classifier based on NLP\n",
        "---\n",
        "**CANDIDATES**\n",
        "\n",
        "GILLIO FRANCESCO\n",
        "\n",
        "SEMINARIO YRIGOYEN CESAR AUGUSTO\n",
        "\n",
        "**COURSE** Applied Data Science Project\n",
        "\n",
        "**University** Politecnico di Torino - Italy\n"
      ]
    },
    {
      "cell_type": "markdown",
      "metadata": {
        "id": "djYmfMmHHlkj"
      },
      "source": [
        "## Project description\n",
        "\n",
        "**BertTopic** is used to create a semi-supervised model with labels available\n",
        "\n",
        "**Dataset for testing** can be downloaded fro hugginface at the link: [dhiruHF papers multilabeled](https://huggingface.co/datasets/dhiruHF/research_paper_multi_label_data_balanced)\n",
        "\n",
        "**Dataset for the project** is contained in the input_data folder, called: articles_2023.csv"
      ]
    },
    {
      "cell_type": "markdown",
      "metadata": {
        "id": "UBKZYzDvHlkj"
      },
      "source": [
        " ## <span style=\"font-family:Verdana; color:blue\">  0. TO DO"
      ]
    },
    {
      "cell_type": "markdown",
      "metadata": {
        "id": "JWTSOVEYHlkj"
      },
      "source": [
        "<span style=\"font-family:Verdana; color:blue\">\n",
        "\n",
        "- download similar dataset from hugging-face to start - DONE\n",
        "- data cleaning - DONE\n",
        "- create embeddings - DONE\n",
        "- export embeddings - DONE\n",
        "- start with the model - IN PROGRESS\n",
        "***"
      ]
    },
    {
      "cell_type": "markdown",
      "metadata": {
        "id": "CfO8yL9xHlkj"
      },
      "source": [
        "## 1. Exploring the dataset"
      ]
    },
    {
      "cell_type": "code",
      "source": [
        "%%capture\n",
        "!pip install bertopic\n",
        "!pip install datasets\n",
        "!pip install openai\n",
        "import tqdm as notebook_tqdm\n",
        "from tqdm.autonotebook import tqdm, trange\n",
        "\n",
        "import pandas as pd\n",
        "import numpy as np"
      ],
      "metadata": {
        "id": "gyIEojFpHqBW"
      },
      "execution_count": 1,
      "outputs": []
    },
    {
      "cell_type": "markdown",
      "source": [
        "### 1.1 Exploring similar dataset\n",
        "\n",
        "\n"
      ],
      "metadata": {
        "id": "Wc41IW_eAhow"
      }
    },
    {
      "cell_type": "code",
      "execution_count": null,
      "metadata": {
        "colab": {
          "base_uri": "https://localhost:8080/",
          "height": 238,
          "referenced_widgets": [
            "eb5ab33a533b4d8480365f1de68aa79a",
            "99293c51536b4aae8770607ff7659c39",
            "ba6c02546117440d9d45ca6b3da1e2e6",
            "799f026bd71b47a8b3e9808d65aac921",
            "b10ca08a5e3d41f6b81e8dae9bfd3dc3",
            "58932a2e5c074ebb97e277ecb7f82b4a",
            "13cdec9d21d1415eabad02e88b6cdd88",
            "dac84823ec8240fe8ea9d4dc5c633c1c",
            "aa7aa7e72cd54ca7b477f8c339a24447",
            "eff9e3e57d81411e8da1880340737113",
            "51276bfbefc44d52a22c86242c5e2c2f",
            "631283a04c674ef1b996d0b23374ad20",
            "78125fce708e4f3fa081ce735eca90a7",
            "589f194040444c5680698884f3e747cd",
            "670317b6396d4281a893ddd443e67c05",
            "e7909abedc174842894113c28bf22166",
            "b23af09058c74f469f7d5ec0771b06ca",
            "96a0d1e384064acab934978d7026259a",
            "548c10bfc7df4f68aa5ec9f363771e52",
            "351f623f8a9a4ffabb2c183cc0b63cf6",
            "8b382e6cd79c47a29c737e5c6e4c563d",
            "0d76c876a5a2482ebba43f6e16988c2c",
            "c3f3755f25144e17b7fd38fe7bbff314",
            "2d698ec394c94427b219c23acaa57937",
            "3443f27c3ecd4341a2158937f94044f8",
            "8b8300113de1494da33d3735bf5ef78a",
            "079ab66b83a1495c956aaa867cd568fd",
            "e3f18c7bc0284272b308156195c03439",
            "ec3380495bba41f7a2f3a4a0b63cb0e0",
            "fac0c0afef374a089fe1655d08f854d3",
            "84817fe545814d29b6fcb250cae49248",
            "3783b861a8be45349e1ed0f92915dcfb",
            "f357a7b842da4d56a98a4231b4437055"
          ]
        },
        "id": "vMZLEoH-Hlkk",
        "outputId": "78551b02-ba56-41d3-b6ce-32ff47b0be02"
      },
      "outputs": [
        {
          "output_type": "stream",
          "name": "stderr",
          "text": [
            "/usr/local/lib/python3.10/dist-packages/huggingface_hub/utils/_token.py:89: UserWarning: \n",
            "The secret `HF_TOKEN` does not exist in your Colab secrets.\n",
            "To authenticate with the Hugging Face Hub, create a token in your settings tab (https://huggingface.co/settings/tokens), set it as secret in your Google Colab and restart your session.\n",
            "You will be able to reuse this secret in all of your notebooks.\n",
            "Please note that authentication is recommended but still optional to access public models or datasets.\n",
            "  warnings.warn(\n"
          ]
        },
        {
          "output_type": "display_data",
          "data": {
            "text/plain": [
              "README.md:   0%|          | 0.00/382 [00:00<?, ?B/s]"
            ],
            "application/vnd.jupyter.widget-view+json": {
              "version_major": 2,
              "version_minor": 0,
              "model_id": "eb5ab33a533b4d8480365f1de68aa79a"
            }
          },
          "metadata": {}
        },
        {
          "output_type": "display_data",
          "data": {
            "text/plain": [
              "(…)-00000-of-00001-6cb8c751614cff33.parquet:   0%|          | 0.00/1.36M [00:00<?, ?B/s]"
            ],
            "application/vnd.jupyter.widget-view+json": {
              "version_major": 2,
              "version_minor": 0,
              "model_id": "631283a04c674ef1b996d0b23374ad20"
            }
          },
          "metadata": {}
        },
        {
          "output_type": "display_data",
          "data": {
            "text/plain": [
              "Generating train split:   0%|          | 0/1985 [00:00<?, ? examples/s]"
            ],
            "application/vnd.jupyter.widget-view+json": {
              "version_major": 2,
              "version_minor": 0,
              "model_id": "c3f3755f25144e17b7fd38fe7bbff314"
            }
          },
          "metadata": {}
        },
        {
          "output_type": "stream",
          "name": "stdout",
          "text": [
            "N° wiki terms: 1985\n"
          ]
        }
      ],
      "source": [
        "from datasets import load_dataset\n",
        "\n",
        "dataset = load_dataset(\"dhiruHF/research_paper_multi_label_data_balanced\")\n",
        "terms_number= len(dataset['train'])\n",
        "print(f\"N° wiki terms: {terms_number}\")\n"
      ]
    },
    {
      "cell_type": "code",
      "source": [
        "def get_chapters(text):\n",
        "    chapters = text.split('###')[2]\n",
        "    labels = text.split('###')[3]\n",
        "    labels = labels.split(':')[1]\n",
        "    title=chapters.split('\\n')[2].split(':')[1]\n",
        "    abstract=chapters.split('\\n')[3:]\n",
        "    abstract[0]=abstract[0][9:]\n",
        "    delimiter=\"\\n\"\n",
        "    abstract=delimiter.join(abstract)\n",
        "    #labels=labels.split(',')\n",
        "    #labels=[label.strip() for label in labels]\n",
        "    item_dict={}\n",
        "    item_dict['title']=title\n",
        "    item_dict['abstract']=abstract\n",
        "    item_dict['labels']=labels\n",
        "    return item_dict\n"
      ],
      "metadata": {
        "id": "Ui9YVxQHKkEn"
      },
      "execution_count": null,
      "outputs": []
    },
    {
      "cell_type": "code",
      "source": [
        "item=get_chapters(dataset['train'][0]['text'])\n",
        "print(item['title'])"
      ],
      "metadata": {
        "colab": {
          "base_uri": "https://localhost:8080/"
        },
        "id": "4bL-pWJ_NQbq",
        "outputId": "b76694b7-508b-4397-b248-49f263aed5e3"
      },
      "execution_count": null,
      "outputs": [
        {
          "output_type": "stream",
          "name": "stdout",
          "text": [
            " Reconstructing Subject-Specific Effect Maps\n"
          ]
        }
      ]
    },
    {
      "cell_type": "code",
      "source": [
        "dataset['train'][0]['text'].split('###')[2]"
      ],
      "metadata": {
        "colab": {
          "base_uri": "https://localhost:8080/",
          "height": 122
        },
        "id": "KKpvGrCjIJoB",
        "outputId": "61b158ef-3bc5-4fdb-dd9f-8e70d271147d"
      },
      "execution_count": null,
      "outputs": [
        {
          "output_type": "execute_result",
          "data": {
            "text/plain": [
              "\"RESEARCH PAPER:\\n\\nTitle: Reconstructing Subject-Specific Effect Maps\\nAbstract:   Predictive models allow subject-specific inference when analyzing disease\\nrelated alterations in neuroimaging data. Given a subject's data, inference can\\nbe made at two levels: global, i.e. identifiying condition presence for the\\nsubject, and local, i.e. detecting condition effect on each individual\\nmeasurement extracted from the subject's data. While global inference is widely\\nused, local inference, which can be used to form subject-specific effect maps,\\nis rarely used because existing models often yield noisy detections composed of\\ndispersed isolated islands. In this article, we propose a reconstruction\\nmethod, named RSM, to improve subject-specific detections of predictive\\nmodeling approaches and in particular, binary classifiers. RSM specifically\\naims to reduce noise due to sampling error associated with using a finite\\nsample of examples to train classifiers. The proposed method is a wrapper-type\\nalgorithm that can be used with different binary classifiers in a diagnostic\\nmanner, i.e. without information on condition presence. Reconstruction is posed\\nas a Maximum-A-Posteriori problem with a prior model whose parameters are\\nestimated from training data in a classifier-specific fashion. Experimental\\nevaluation is performed on synthetically generated data and data from the\\nAlzheimer's Disease Neuroimaging Initiative (ADNI) database. Results on\\nsynthetic data demonstrate that using RSM yields higher detection accuracy\\ncompared to using models directly or with bootstrap averaging. Analyses on the\\nADNI dataset show that RSM can also improve correlation between\\nsubject-specific detections in cortical thickness data and non-imaging markers\\nof Alzheimer's Disease (AD), such as the Mini Mental State Examination Score\\nand Cerebrospinal Fluid amyloid-$\\\\beta$ levels. Further reliability studies on\\nthe longitudinal ADNI dataset show improvement on detection reliability when\\nRSM is used.\\n\\n\\n\""
            ],
            "application/vnd.google.colaboratory.intrinsic+json": {
              "type": "string"
            }
          },
          "metadata": {},
          "execution_count": 26
        }
      ]
    },
    {
      "cell_type": "code",
      "source": [
        "#converting in structure dict:{title,abstract,labels}\n",
        "data_dict=[get_chapters(item) for item in dataset['train']['text']]"
      ],
      "metadata": {
        "id": "Wjy0lpybPB4u"
      },
      "execution_count": null,
      "outputs": []
    },
    {
      "cell_type": "code",
      "source": [
        "item=1345\n",
        "print(f\"title:\\n {data_dict[item]['title']}\")\n",
        "print(f\"abstract:\\n {data_dict[item]['abstract']}\")\n",
        "print(f\"labels:\\n {data_dict[item]['labels']}\")"
      ],
      "metadata": {
        "colab": {
          "base_uri": "https://localhost:8080/"
        },
        "id": "fH2a-CH5Plu4",
        "outputId": "213d19a6-a69a-480f-aa3e-e74200c0cbe0"
      },
      "execution_count": null,
      "outputs": [
        {
          "output_type": "stream",
          "name": "stdout",
          "text": [
            "title:\n",
            "  Bounds on the expected size of the maximum agreement subtree for a given tree shape\n",
            "abstract:\n",
            "    We show that the expected size of the maximum agreement subtree of two\n",
            "$n$-leaf trees, uniformly random among all trees with the shape, is\n",
            "$\\Theta(\\sqrt{n})$. To derive the lower bound, we prove a global structural\n",
            "result on a decomposition of rooted binary trees into subgroups of leaves\n",
            "called blobs. To obtain the upper bound, we generalize a first moment argument\n",
            "for random tree distributions that are exchangeable and not necessarily\n",
            "sampling consistent.\n",
            "\n",
            "\n",
            "\n",
            "labels:\n",
            "  ['Quantitative Biology']\n"
          ]
        }
      ]
    },
    {
      "cell_type": "code",
      "execution_count": null,
      "metadata": {
        "colab": {
          "base_uri": "https://localhost:8080/",
          "height": 843
        },
        "id": "prX-RJquHlkk",
        "outputId": "0dffcf38-b4b5-41aa-8edf-31d34b1835cd"
      },
      "outputs": [
        {
          "output_type": "execute_result",
          "data": {
            "text/plain": [
              "<Axes: xlabel='labels'>"
            ]
          },
          "metadata": {},
          "execution_count": 11
        },
        {
          "output_type": "display_data",
          "data": {
            "text/plain": [
              "<Figure size 640x480 with 1 Axes>"
            ],
            "image/png": "[encoded data removed]"
          },
          "metadata": {}
        }
      ],
      "source": [
        "data_df= pd.DataFrame(data_dict)\n",
        "data_df['labels'].value_counts().plot(kind='bar')"
      ]
    },
    {
      "cell_type": "markdown",
      "source": [
        "### 1.2 Exploring article_2023 dataset"
      ],
      "metadata": {
        "id": "czPfRmy6A1RF"
      }
    },
    {
      "cell_type": "code",
      "source": [
        "!git clone https://github.com/adsp-polito/2024-P8-PPS.git"
      ],
      "metadata": {
        "id": "fqk_XxltBGcl",
        "outputId": "8e942971-65a9-429e-bca5-93258278b683",
        "colab": {
          "base_uri": "https://localhost:8080/"
        }
      },
      "execution_count": 2,
      "outputs": [
        {
          "output_type": "stream",
          "name": "stdout",
          "text": [
            "Cloning into '2024-P8-PPS'...\n",
            "remote: Enumerating objects: 12, done.\u001b[K\n",
            "remote: Counting objects: 100% (12/12), done.\u001b[K\n",
            "remote: Compressing objects: 100% (10/10), done.\u001b[K\n",
            "remote: Total 12 (delta 2), reused 0 (delta 0), pack-reused 0 (from 0)\u001b[K\n",
            "Receiving objects: 100% (12/12), 1.02 MiB | 3.91 MiB/s, done.\n",
            "Resolving deltas: 100% (2/2), done.\n"
          ]
        }
      ]
    },
    {
      "cell_type": "code",
      "source": [
        "data_df=pd.read_csv('/content/2024-P8-PPS/input_data/articles_2023.csv')\n",
        "titles=data_df['Title'].to_list()\n",
        "abstracts=data_df['Abstract'].to_list()\n",
        "labels=data_df['Label'].to_list()"
      ],
      "metadata": {
        "id": "vhQ6ChyYB3al"
      },
      "execution_count": 3,
      "outputs": []
    },
    {
      "cell_type": "code",
      "source": [
        "data_df['Label'].value_counts().plot(kind='bar')"
      ],
      "metadata": {
        "id": "_89UbHIAColD",
        "outputId": "86f59234-72aa-41a2-c09f-60884d8f908d",
        "colab": {
          "base_uri": "https://localhost:8080/",
          "height": 461
        }
      },
      "execution_count": 4,
      "outputs": [
        {
          "output_type": "execute_result",
          "data": {
            "text/plain": [
              "<Axes: xlabel='Label'>"
            ]
          },
          "metadata": {},
          "execution_count": 4
        },
        {
          "output_type": "display_data",
          "data": {
            "text/plain": [
              "<Figure size 640x480 with 1 Axes>"
            ],
            "image/png": "[encoded data removed]"
          },
          "metadata": {}
        }
      ]
    },
    {
      "cell_type": "code",
      "source": [
        "print(abstracts[0])"
      ],
      "metadata": {
        "id": "7tGoqZ6vHRgH",
        "outputId": "fc43d87a-ad48-44fd-ed1a-bb6c07e6b3f8",
        "colab": {
          "base_uri": "https://localhost:8080/"
        }
      },
      "execution_count": null,
      "outputs": [
        {
          "output_type": "stream",
          "name": "stdout",
          "text": [
            "PURPOSE: The transition towards adult-focused healthcare comprises a complex process requiring careful, individualized guidance of adolescents with congenital heart disease (CHD). Detailed data on their preferences regarding disease-related information and acquirable transitional skills are mostly lacking. We examined the preferences of CHD adolescents in the early transition stage. METHODS: A cross-sectional descriptive study was performed with adolescents recruited from a transition program. Two questionnaires assessing needs for information and transitional skills were used. Only questionnaires completed in the early transition stage were included. RESULTS: Forty-nine adolescents participated (mean age 15.9 ± 1.2 years, 43% girls). 59% requested information about their heart and previous and/or future surgeries/interventions, 45% about sports and medication, and a maximum of 27% about psychosocial topics. More girls than boys requested surgical information (76% versus 46%; p = 0.04). Adolescents with severely complex CHD more often requested information about medication than those with moderately complex CHD (63% versus 28%; p = 0.02). Older adolescents were less likely to request surgical information (OR = 0.53; 95%CI [0.26-0.88]; p = 0.03). Up to 83% of the adolescents perceived their skills as insufficient, but less than 14% was interested in acquiring skills.    Conclusion: Adolescents were mainly interested in medical topics, followed by lifestyle information. The informational needs tended to decrease with age. Timely gauging individual needs and delivering information, ideally in the early teens, appear important when providing person-tailored transitional care in CHD. Paradoxically, although the transitional skills were low-perceived, there was limited motivation to improve them. This paradox requires further investigation to better tailor transition interventions.     Clinical trial registration: Not applicable. WHAT IS KNOWN: • Transition towards adult life and care requires careful patient guidance. A person-tailored approach is strongly encouraged. However, details on preferences regarding disease-related information and transitional skills are scarce in adolescents with CHD. WHAT IS NEW: • This study showed that adolescents with CHD in early transition mainly need medical-related information. Their informational needs tend to decrease with age necessitating timely gauging for interest and delivering information. Adolescents report a low need to acquire transitional skills despite low self-esteemed skills levels.\n"
          ]
        }
      ]
    },
    {
      "cell_type": "code",
      "source": [
        "#counting words in each abstract to manage embeddings\n",
        "#splitting by string:\n",
        "data_df['Abstract_word_count'] = data_df['Abstract'].apply(lambda x: len(str(x).split()))\n",
        "\n",
        "ax=data_df['Abstract_word_count'].hist(bins=20)\n",
        "ax.set_xlabel('Word Count')\n",
        "ax.set_ylabel('Frequency')\n",
        "ax.set_title('Word Count Distribution')\n"
      ],
      "metadata": {
        "id": "AdPDqOyvDUW1",
        "outputId": "168e903f-2466-4680-d757-0539779d2908",
        "colab": {
          "base_uri": "https://localhost:8080/",
          "height": 489
        }
      },
      "execution_count": 5,
      "outputs": [
        {
          "output_type": "execute_result",
          "data": {
            "text/plain": [
              "Text(0.5, 1.0, 'Word Count Distribution')"
            ]
          },
          "metadata": {},
          "execution_count": 5
        },
        {
          "output_type": "display_data",
          "data": {
            "text/plain": [
              "<Figure size 640x480 with 1 Axes>"
            ],
            "image/png": "[encoded data removed]"
          },
          "metadata": {}
        }
      ]
    },
    {
      "cell_type": "code",
      "source": [
        "#nltk:\n",
        "#it holds punctuation, incase we don't want it use\n",
        "from nltk.tokenize import RegexpTokenizer\n",
        "tokenizer = RegexpTokenizer(r'\\w+')\n",
        "\n",
        "import nltk\n",
        "from nltk.tokenize import word_tokenize\n",
        "from collections import Counter\n",
        "nltk.download('punkt')\n",
        "nltk.download('punkt_tab')\n",
        "words=[len(word_tokenize(str(text))) for text in data_df['Abstract']]\n",
        "data_df['Abstract_word_count_nltk']=words\n",
        "\n",
        "ax=data_df['Abstract_word_count_nltk'].hist(bins=20)\n",
        "ax.set_xlabel('Word Count')\n",
        "ax.set_ylabel('Frequency')\n",
        "ax.set_title('Word Count Distribution - NLTK')"
      ],
      "metadata": {
        "id": "UIFKiwQ1F6l4",
        "outputId": "b06b3774-65af-4b4d-8460-1dcb23125534",
        "colab": {
          "base_uri": "https://localhost:8080/",
          "height": 559
        }
      },
      "execution_count": 8,
      "outputs": [
        {
          "output_type": "stream",
          "name": "stderr",
          "text": [
            "[nltk_data] Downloading package punkt to /root/nltk_data...\n",
            "[nltk_data]   Package punkt is already up-to-date!\n",
            "[nltk_data] Downloading package punkt_tab to /root/nltk_data...\n",
            "[nltk_data]   Unzipping tokenizers/punkt_tab.zip.\n"
          ]
        },
        {
          "output_type": "execute_result",
          "data": {
            "text/plain": [
              "Text(0.5, 1.0, 'Word Count Distribution - NLTK')"
            ]
          },
          "metadata": {},
          "execution_count": 8
        },
        {
          "output_type": "display_data",
          "data": {
            "text/plain": [
              "<Figure size 640x480 with 1 Axes>"
            ],
            "image/png": "[encoded data removed]"
          },
          "metadata": {}
        }
      ]
    },
    {
      "cell_type": "code",
      "source": [],
      "metadata": {
        "id": "4jPlrWv0MFsR"
      },
      "execution_count": null,
      "outputs": []
    },
    {
      "cell_type": "markdown",
      "metadata": {
        "id": "LQKdoD3cHlkk"
      },
      "source": [
        "## 2. Preparing the dataset for BERTopic architecture"
      ]
    },
    {
      "cell_type": "code",
      "execution_count": 9,
      "metadata": {
        "colab": {
          "base_uri": "https://localhost:8080/"
        },
        "id": "RTQquHzdHlkl",
        "outputId": "d8fd12a7-70c1-4730-c0c8-dd52b98adb0d"
      },
      "outputs": [
        {
          "output_type": "stream",
          "name": "stdout",
          "text": [
            "initial size: (1215, 19)\n",
            "new size of items after removing duplicates: (1214, 19)\n"
          ]
        }
      ],
      "source": [
        "# functions preparing the dataset for BERTopic architecture\n",
        "\n",
        "#1. Removing duplicates\n",
        "print(f\"initial size: {data_df.shape}\")\n",
        "data_df_clean=data_df.drop_duplicates(subset=['Title'], keep ='first')\n",
        "print(f\"new size of items after removing duplicates: {data_df_clean.shape}\")\n"
      ]
    },
    {
      "cell_type": "code",
      "execution_count": 10,
      "metadata": {
        "colab": {
          "base_uri": "https://localhost:8080/"
        },
        "id": "2f4lXW1-Hlkl",
        "outputId": "c5d20879-8550-467e-b736-7341fcd2cabd"
      },
      "outputs": [
        {
          "output_type": "stream",
          "name": "stdout",
          "text": [
            "total nan Titles in dataset: 0\n",
            "total nan abstracts in dataset: 44\n",
            "total nan Titles in dataset after manage: 0\n",
            "total nan abstracts in dataset after manage: 0\n"
          ]
        }
      ],
      "source": [
        "#2. Managing nan or empty sections\n",
        "tot_nan=data_df_clean['Title'].isnull().sum()\n",
        "print(f\"total nan Titles in dataset: {tot_nan}\")\n",
        "tot_nan=data_df_clean['Abstract'].isnull().sum()\n",
        "print(f\"total nan abstracts in dataset: {tot_nan}\")\n",
        "\n",
        "#saving titles without abstract --> find abstracts and complete dataset\n",
        "#titles_nanAbs=data_df_clean[data_df_clean['Abstract'].isnull()]['Title']#.to_list()\n",
        "#titles_nanAbs.to_excel('titles_nanAbs.xlsx')\n",
        "#print(f\"titles with nan in abstract: {titles_nanAbs}\")\n",
        "\n",
        "#Manage nan _hyp1: if both title and abstract nan -> delete; if just 1 nan, keep item and put an empty string (to allow tokenization)\n",
        "for elem in data_df_clean.index:\n",
        "    if pd.isnull(data_df_clean.at[elem, 'Title']) and pd.isnull(data_df_clean.at[elem, 'Abstract']):\n",
        "        data_df_clean.drop(elem, inplace=True)\n",
        "    elif pd.isnull(data_df_clean.at[elem, 'Title']):\n",
        "        data_df_clean.at[elem, 'Title'] = ''\n",
        "    elif pd.isnull(data_df_clean.at[elem, 'Abstract']):\n",
        "        data_df_clean.at[elem, 'Abstract'] = ''\n",
        "\n",
        "\n",
        "tot_nan=data_df_clean['Title'].isnull().sum()\n",
        "print(f\"total nan Titles in dataset after manage: {tot_nan}\")\n",
        "tot_nan=data_df_clean['Abstract'].isnull().sum()\n",
        "print(f\"total nan abstracts in dataset after manage: {tot_nan}\")\n"
      ]
    },
    {
      "cell_type": "markdown",
      "metadata": {
        "id": "D6em_DIoHlkl"
      },
      "source": [
        "## 3. Setting up base BERTopic model"
      ]
    },
    {
      "cell_type": "markdown",
      "metadata": {
        "id": "efYp_hCcHlkl"
      },
      "source": [
        "### 3.1 Precalculate embeddings (if loading pass to 3.2)\n"
      ]
    },
    {
      "cell_type": "code",
      "execution_count": 12,
      "metadata": {
        "id": "_JDCthVtHlkl"
      },
      "outputs": [],
      "source": [
        "from sentence_transformers import SentenceTransformer\n",
        "# Pre-calculate embeddings\n",
        "embedding_model = SentenceTransformer(\"sentence-transformers/all-MiniLM-L6-v2\")"
      ]
    },
    {
      "cell_type": "code",
      "execution_count": 13,
      "metadata": {
        "id": "8pc1-UwKHlkl",
        "outputId": "23cbd0e0-5a19-47d1-859e-6be24bab0c98",
        "colab": {
          "base_uri": "https://localhost:8080/",
          "height": 49,
          "referenced_widgets": [
            "95c6600f008f4934af8b2155293ea427",
            "d7982452c2a048c5b281a08d096fdb6f",
            "920f8b26b03e40c4a4857aa6cec4b4fd",
            "29c38316923b4bdd89a08dc8262192f9",
            "96556beada5e462c99ec506180373a7a",
            "5bc5e9b5ab2c48d5b0f1cb1417749d8b",
            "a331674b37224454bcbb04a67f620a62",
            "950e086c859a448cbe8f5a39a847964b",
            "7a99be2d0cf64df187618ae0ac32639c",
            "926e79e0528d43e399d68cb00779a6cc",
            "a9e3f28bb3f84913bc03e53780e14f9b"
          ]
        }
      },
      "outputs": [
        {
          "output_type": "display_data",
          "data": {
            "text/plain": [
              "Batches:   0%|          | 0/38 [00:00<?, ?it/s]"
            ],
            "application/vnd.jupyter.widget-view+json": {
              "version_major": 2,
              "version_minor": 0,
              "model_id": "95c6600f008f4934af8b2155293ea427"
            }
          },
          "metadata": {}
        }
      ],
      "source": [
        "title_embeddings = embedding_model.encode(data_df_clean['Title'].tolist(), show_progress_bar=True)"
      ]
    },
    {
      "cell_type": "code",
      "source": [
        "abstract_embeddings = embedding_model.encode(data_df_clean['Abstract'].tolist(), show_progress_bar=True)"
      ],
      "metadata": {
        "id": "Rzh3vB9iA2Xz",
        "outputId": "dad6a24e-a1d2-4382-cacd-0f4628ecbcf9",
        "colab": {
          "base_uri": "https://localhost:8080/",
          "height": 49,
          "referenced_widgets": [
            "48d5f0dbb94b43848b8a2af55eca2c98",
            "53bb68807966441e9c3230492aff9cc4",
            "c43361855be94dfe93941ed8c878c0d4",
            "34a8708a2223457fb6cbc1b62ab04f8f",
            "eb4fc5f9985d43d896863f1433339606",
            "30404fbf390a4514b06fa53dde3a1d00",
            "f8f881cd445a4d6ca4d39de5d90a299f",
            "5af78198aa1d4c50a2bf20888e256a8f",
            "683fffbb8bd04e21a7bcef866532d257",
            "0be6806eb2e74751b8c17f4498681051",
            "f5ccde16a46e40cf8d128124847e31f3"
          ]
        }
      },
      "execution_count": 14,
      "outputs": [
        {
          "output_type": "display_data",
          "data": {
            "text/plain": [
              "Batches:   0%|          | 0/38 [00:00<?, ?it/s]"
            ],
            "application/vnd.jupyter.widget-view+json": {
              "version_major": 2,
              "version_minor": 0,
              "model_id": "48d5f0dbb94b43848b8a2af55eca2c98"
            }
          },
          "metadata": {}
        }
      ]
    },
    {
      "cell_type": "code",
      "source": [
        "# saving data\n",
        "#import numpy as np\n",
        "np.save('title_embeddings_all-MiniLM-L6-v2.npy', title_embeddings)\n",
        "np.save('abstract_embeddings_all-MiniLM-L6-v2.npy', abstract_embeddings)"
      ],
      "metadata": {
        "id": "eb0y8EBfDgRb"
      },
      "execution_count": 15,
      "outputs": []
    },
    {
      "cell_type": "code",
      "source": [
        "data_df_clean.to_pickle('data_df_clean.pkl')"
      ],
      "metadata": {
        "id": "svkks6B8Gdaf"
      },
      "execution_count": 16,
      "outputs": []
    },
    {
      "cell_type": "markdown",
      "source": [
        "### 3.2 Uploading embeddings"
      ],
      "metadata": {
        "id": "ryogioVkIkdP"
      }
    },
    {
      "cell_type": "code",
      "source": [
        "# first load the files to the drive folder following this process\n",
        "#UNCOMMENT BELOW TO LOAD\n",
        "'''\n",
        "!git clone https://github.com/adsp-polito/2024-P8-PPS.git\n",
        "title_embeddings=np.load('/content/2024-P8-PPS/embeddings/title_embeddings_all-MiniLM-L6-v2.npy')\n",
        "abstract_embeddings=np.load('/content/2024-P8-PPS/embeddings/abstract_embeddings_all-MiniLM-L6-v2.npy')\n",
        "data_df=pd.read_pickle('/content/2024-P8-PPS/embeddings/data_df_clean.pkl')\n",
        "'''"
      ],
      "metadata": {
        "id": "cJ0GGJwJIScx"
      },
      "execution_count": null,
      "outputs": []
    },
    {
      "cell_type": "markdown",
      "metadata": {
        "id": "yCkbD9dfHlkl"
      },
      "source": [
        "### 3.3 Setting up bertopic blocks"
      ]
    },
    {
      "cell_type": "code",
      "execution_count": null,
      "metadata": {
        "id": "YqsEotSgHlkl"
      },
      "outputs": [],
      "source": [
        "#!pip install 'umap-learn==0.3.10'\n",
        "from umap import UMAP\n",
        "umap_model = UMAP(n_neighbors=20, n_components=5, min_dist=0.0, metric='cosine', random_state=42)"
      ]
    },
    {
      "cell_type": "code",
      "execution_count": null,
      "metadata": {
        "id": "iabxN4t8Hlkm"
      },
      "outputs": [],
      "source": [
        "from hdbscan import HDBSCAN\n",
        "hdbscan_model = HDBSCAN(min_cluster_size=20, metric='euclidean', cluster_selection_method='eom', prediction_data=True)"
      ]
    },
    {
      "cell_type": "code",
      "execution_count": null,
      "metadata": {
        "id": "sXgJkkz9Hlkm"
      },
      "outputs": [],
      "source": [
        "from sklearn.feature_extraction.text import CountVectorizer\n",
        "from sklearn.feature_extraction import text\n",
        "#additional_stopwords=['Signs','signs','Sign', 'sign', 'Symptoms','symptoms','Symptom','symptom','include','affected','people','features','patients','disease','present','common','usually'] #'syndrome', disease, patient, patients\n",
        "stop_words_mod=list(text.ENGLISH_STOP_WORDS)#+additional_stopwords\n",
        "vectorizer_model = CountVectorizer(stop_words=stop_words_mod, min_df=1, ngram_range=(1, 2))\n",
        "# vectorizer_model = CountVectorizer(stop_words=\"english\", min_df=2, ngram_range=(1, 2))"
      ]
    },
    {
      "cell_type": "markdown",
      "metadata": {
        "id": "d9peFXQEHlkm"
      },
      "source": [
        "### 3.3 DEFINING representation models"
      ]
    },
    {
      "cell_type": "code",
      "execution_count": null,
      "metadata": {
        "id": "GqHDZQRMHlkm"
      },
      "outputs": [],
      "source": [
        "#!pip install typing-extensions --upgrade\n",
        "\n",
        "import openai\n",
        "import bertopic\n",
        "from bertopic.representation import KeyBERTInspired, MaximalMarginalRelevance, OpenAI, PartOfSpeech\n",
        "#from spacy import parts_of_speech\n",
        "# KeyBERT\n",
        "keybert_model = KeyBERTInspired()\n",
        "\n",
        "# Part-of-Speech\n",
        "pos_model = PartOfSpeech(\"en_core_web_sm\")\n",
        "# MMR\n",
        "mmr_model = MaximalMarginalRelevance(diversity=0.3)\n",
        "\n",
        "# GPT-3.5\n",
        "prompt = \"\"\"\n",
        "I have a topic that contains the following documents:\n",
        "[DOCUMENTS]\n",
        "The topic is described by the following keywords: [KEYWORDS]\n",
        "\n",
        "Based on the information above, extract a short but highly descriptive topic label of at most 5 words. Make sure it is in the following format:\n",
        "topic: <topic label>\n",
        "\"\"\"\n",
        "client = openai.OpenAI(api_key=\"sk-...\")\n",
        "#openai_model = OpenAI(client, model=\"gpt-3.5-turbo\", exponential_backoff=True, chat=True, prompt=prompt)\n",
        "\n",
        "# All representation models\n",
        "representation_model = {\n",
        "    \"KeyBERT\": keybert_model,\n",
        "    # \"OpenAI\": openai_model,  # Uncomment if you will use OpenAI\n",
        "    \"MMR\": mmr_model,\n",
        "    \"POS\": pos_model\n",
        "}"
      ]
    },
    {
      "cell_type": "markdown",
      "metadata": {
        "id": "8kq_f5FyHlkm"
      },
      "source": [
        "## 4. Model exploration"
      ]
    },
    {
      "cell_type": "markdown",
      "metadata": {
        "id": "wdBiObB_Hlkm"
      },
      "source": [
        "### Tests:\n",
        "HDBSCAN - choose reasonable number of topics\n",
        "\n",
        "\n",
        "Vectorizer tests\n",
        "- mindf=1 : changes just group 12: war--- to veteran.sle, war, gulf. # of topics are the same. SLe is the most representative doc, it's autoimmune disease\n"
      ]
    },
    {
      "cell_type": "code",
      "execution_count": null,
      "metadata": {
        "colab": {
          "base_uri": "https://localhost:8080/"
        },
        "id": "RuJz8FxRHlkm",
        "outputId": "73b2ab95-d2a4-42ff-edd5-1717aa00c664"
      },
      "outputs": [
        {
          "output_type": "stream",
          "name": "stderr",
          "text": [
            "2024-11-07 21:49:17,156 - BERTopic - Dimensionality - Fitting the dimensionality reduction algorithm\n",
            "2024-11-07 21:49:39,592 - BERTopic - Dimensionality - Completed ✓\n",
            "2024-11-07 21:49:39,797 - BERTopic - Cluster - Start clustering the reduced embeddings\n",
            "2024-11-07 21:49:39,884 - BERTopic - Cluster - Completed ✓\n",
            "2024-11-07 21:49:39,895 - BERTopic - Representation - Extracting topics from clusters using representation models.\n",
            "2024-11-07 21:49:52,921 - BERTopic - Representation - Completed ✓\n"
          ]
        },
        {
          "output_type": "stream",
          "name": "stdout",
          "text": [
            "size (1, 3) analyzed\n"
          ]
        }
      ],
      "source": [
        "from bertopic import BERTopic\n",
        "from sklearn.cluster import KMeans\n",
        "#put here the block to study in order to understand behaviors\n",
        "# list_to_check=range(20,160,10)\n",
        "list_to_check=[(1,3)]\n",
        "\n",
        "params=[]\n",
        "# list_to_check=range(140,160,10)\n",
        "for size in list_to_check:#reversed(list_to_check):\n",
        "  # hdbscan_model = HDBSCAN(min_cluster_size=size, metric='euclidean', cluster_selection_method='eom', prediction_data=True)\n",
        "  vectorizer_model = CountVectorizer(stop_words=stop_words_mod, min_df=1, ngram_range=size)\n",
        "  # hdbscan_model= KMeans(n_clusters=size)\n",
        "  topic_model = BERTopic(\n",
        "\n",
        "  # Pipeline models\n",
        "  embedding_model=embedding_model,\n",
        "  umap_model=umap_model,\n",
        "  hdbscan_model=hdbscan_model,\n",
        "  vectorizer_model=vectorizer_model,\n",
        "  representation_model=representation_model,\n",
        "\n",
        "  # Hyperparameters\n",
        "  top_n_words=10,\n",
        "  verbose=True\n",
        ")\n",
        "  topics, probs = topic_model.fit_transform(data_df['title'].tolist(), abstract_embeddings)\n",
        "  print(f\"size {size} analyzed\")\n",
        "  a=topic_model.get_topic_freq()\n",
        "  # a['index_old']=a.index\n",
        "  b=topic_model.get_topic_info()['Name']\n",
        "  a.reset_index(inplace=True)\n",
        "  b.reset_index(drop=True)\n",
        "  a=pd.concat([a,b],axis=1)\n",
        "  params.append(a)\n",
        "  topic_model.get_topic_info()"
      ]
    },
    {
      "cell_type": "code",
      "execution_count": null,
      "metadata": {
        "colab": {
          "base_uri": "https://localhost:8080/",
          "height": 846
        },
        "id": "AYk8jOGPHlkm",
        "outputId": "a7cee01f-38f8-4468-a582-07048e553074"
      },
      "outputs": [
        {
          "output_type": "execute_result",
          "data": {
            "text/plain": [
              "    Topic  Count                                               Name  \\\n",
              "0      -1    533                       -1_learning_based_data_model   \n",
              "1       0    252                    0_neural_deep_learning_networks   \n",
              "2       1    238                1_estimation_sparse_rank_stochastic   \n",
              "3       2    202                 2_spaces_algebras_groups_functions   \n",
              "4       3    135                  3_networks_network_model_neuronal   \n",
              "5       4    132                     4_market_price_pricing_optimal   \n",
              "6       5     85                         5_spin_quantum__2_electron   \n",
              "7       6     72                 6_stokes_boundary_solutions_navier   \n",
              "8       7     72                     7_star_galaxy_exoplanet_survey   \n",
              "9       8     46                          8_dna_cell_protein_cancer   \n",
              "10      9     42  9_learning_reinforcement learning_reinforcemen...   \n",
              "11     10     40                      10_power_networks_codes_relay   \n",
              "12     11     38                11_bayesian_monte_monte carlo_carlo   \n",
              "13     12     36  12_populations_evolutionary_harvest_stationary...   \n",
              "14     13     36              13_bandit_bandits_learning_stochastic   \n",
              "15     14     26                   14_causal_data_analysis_clinical   \n",
              "\n",
              "                                       Representation  \\\n",
              "0   [learning, based, data, model, using, analysis...   \n",
              "1   [neural, deep, learning, networks, neural netw...   \n",
              "2   [estimation, sparse, rank, stochastic, method,...   \n",
              "3   [spaces, algebras, groups, functions, mathbb, ...   \n",
              "4   [networks, network, model, neuronal, graphs, s...   \n",
              "5   [market, price, pricing, optimal, model, risk,...   \n",
              "6   [spin, quantum, _2, electron, topological, str...   \n",
              "7   [stokes, boundary, solutions, navier, porous, ...   \n",
              "8   [star, galaxy, exoplanet, survey, cloud, stell...   \n",
              "9   [dna, cell, protein, cancer, dynamics, single,...   \n",
              "10  [learning, reinforcement learning, reinforceme...   \n",
              "11  [power, networks, codes, relay, wireless, ener...   \n",
              "12  [bayesian, monte, monte carlo, carlo, inferenc...   \n",
              "13  [populations, evolutionary, harvest, stationar...   \n",
              "14  [bandit, bandits, learning, stochastic, online...   \n",
              "15  [causal, data, analysis, clinical, drug, metho...   \n",
              "\n",
              "                                              KeyBERT  \\\n",
              "0   [bayesian optimization, machine learning, opti...   \n",
              "1   [deep neural networks, deep neural network, de...   \n",
              "2   [stochastic variance reduced, convex optimizat...   \n",
              "3   [dimensional manifolds, semigroups, characteri...   \n",
              "4   [complex networks, networks, neuronal networks...   \n",
              "5   [option pricing models, pricing models, option...   \n",
              "6   [superconductivity, superconductors, excitons ...   \n",
              "7   [navier stokes equations, navier stokes, stoke...   \n",
              "8   [star formation, planet star systems, galaxies...   \n",
              "9   [molecular dynamics, molecular dynamics algori...   \n",
              "10  [reinforcement learning sparse, agent reinforc...   \n",
              "11  [power allocation duplex, wireless power trans...   \n",
              "12  [markov chain monte, bayesian inference large,...   \n",
              "13  [niche modeling interference, populations subj...   \n",
              "14  [optimization bandit sampling, optimization ba...   \n",
              "15  [methods causal inference, causal inference, m...   \n",
              "\n",
              "                                                  MMR  \\\n",
              "0   [learning, bayesian, models, prediction, stoch...   \n",
              "1   [deep neural, adversarial, deep neural network...   \n",
              "2   [sparse, stochastic, regression, kernel, low r...   \n",
              "3   [spaces, algebras, groups, generalized, graphs...   \n",
              "4   [networks, neuronal, graphs, social, dynamics,...   \n",
              "5   [risk, stochastic, volatility, markets, fracti...   \n",
              "6   [spin, quantum, topological, superconductivity...   \n",
              "7   [solutions, navier stokes, flows, porous media...   \n",
              "8   [exoplanet, stellar, stars, star formation, hu...   \n",
              "9   [dna, cancer, molecular dynamics, folding, act...   \n",
              "10  [reinforcement learning, robot, deep, agent re...   \n",
              "11  [relay, energy harvesting, wireless power tran...   \n",
              "12  [monte carlo, sampling, bayesian inference, ba...   \n",
              "13  [evolutionary, harvest, stationary populations...   \n",
              "14  [bandit, bandits, adaptive, multi armed bandit...   \n",
              "15  [causal, clinical, drug, methods causal, survi...   \n",
              "\n",
              "                                                  POS  \\\n",
              "0   [data, model, analysis, optimization, networks...   \n",
              "1   [neural, deep, learning, networks, neural netw...   \n",
              "2   [estimation, sparse, rank, stochastic, method,...   \n",
              "3   [spaces, algebras, groups, functions, classes,...   \n",
              "4   [networks, network, model, neuronal, graphs, b...   \n",
              "5   [market, pricing, price, optimal, model, risk,...   \n",
              "6   [spin, quantum, electron, topological, structu...   \n",
              "7   [boundary, solutions, porous, flows, equation,...   \n",
              "8   [star, galaxy, exoplanet, cloud, stellar, grav...   \n",
              "9   [cell, protein, cancer, dynamics, single, effe...   \n",
              "10  [learning, human, robotic, action, body, model...   \n",
              "11  [networks, relay, wireless, energy, harvesting...   \n",
              "12  [inference, sampling, sampler, particle, datas...   \n",
              "13  [populations, evolutionary, marine, harvest, m...   \n",
              "14  [bandit, bandits, stochastic, armed, multi, op...   \n",
              "15  [data, analysis, clinical, drug, wide, models,...   \n",
              "\n",
              "                                  Representative_Docs  \n",
              "0   [ Batched High-dimensional Bayesian Optimizati...  \n",
              "1   [ On Deep Neural Networks for Detecting Heart ...  \n",
              "2   [ Doubly Accelerated Stochastic Variance Reduc...  \n",
              "3   [ Preduals for spaces of operators involving H...  \n",
              "4   [ Complex Networks,  Hidden Community Detectio...  \n",
              "5   [ On the optimal investment-consumption and li...  \n",
              "6   [ Pressure tuning of structure, superconductiv...  \n",
              "7   [ Thermophoretic MHD Flow and Non-linear Radia...  \n",
              "8   [ Large Magellanic Cloud Near-Infrared Synopti...  \n",
              "9   [ Connecting the dots between mechanosensitive...  \n",
              "10  [ Switching Isotropic and Directional Explorat...  \n",
              "11  [ Power Allocation for Full-Duplex Relay Selec...  \n",
              "12  [ Weighted batch means estimators in Markov ch...  \n",
              "13  [ Interactions mediated by a public good trans...  \n",
              "14  [ PAC Identification of Many Good Arms in Stoc...  \n",
              "15  [ Analysis of Extremely Obese Individuals Usin...  "
            ],
            "text/html": [
              "\n",
              "  <div id=\"df-dc34f5c4-5302-4389-bf5f-1d8ff070d899\" class=\"colab-df-container\">\n",
              "    <div>\n",
              "<style scoped>\n",
              "    .dataframe tbody tr th:only-of-type {\n",
              "        vertical-align: middle;\n",
              "    }\n",
              "\n",
              "    .dataframe tbody tr th {\n",
              "        vertical-align: top;\n",
              "    }\n",
              "\n",
              "    .dataframe thead th {\n",
              "        text-align: right;\n",
              "    }\n",
              "</style>\n",
              "<table border=\"1\" class=\"dataframe\">\n",
              "  <thead>\n",
              "    <tr style=\"text-align: right;\">\n",
              "      <th></th>\n",
              "      <th>Topic</th>\n",
              "      <th>Count</th>\n",
              "      <th>Name</th>\n",
              "      <th>Representation</th>\n",
              "      <th>KeyBERT</th>\n",
              "      <th>MMR</th>\n",
              "      <th>POS</th>\n",
              "      <th>Representative_Docs</th>\n",
              "    </tr>\n",
              "  </thead>\n",
              "  <tbody>\n",
              "    <tr>\n",
              "      <th>0</th>\n",
              "      <td>-1</td>\n",
              "      <td>533</td>\n",
              "      <td>-1_learning_based_data_model</td>\n",
              "      <td>[learning, based, data, model, using, analysis...</td>\n",
              "      <td>[bayesian optimization, machine learning, opti...</td>\n",
              "      <td>[learning, bayesian, models, prediction, stoch...</td>\n",
              "      <td>[data, model, analysis, optimization, networks...</td>\n",
              "      <td>[ Batched High-dimensional Bayesian Optimizati...</td>\n",
              "    </tr>\n",
              "    <tr>\n",
              "      <th>1</th>\n",
              "      <td>0</td>\n",
              "      <td>252</td>\n",
              "      <td>0_neural_deep_learning_networks</td>\n",
              "      <td>[neural, deep, learning, networks, neural netw...</td>\n",
              "      <td>[deep neural networks, deep neural network, de...</td>\n",
              "      <td>[deep neural, adversarial, deep neural network...</td>\n",
              "      <td>[neural, deep, learning, networks, neural netw...</td>\n",
              "      <td>[ On Deep Neural Networks for Detecting Heart ...</td>\n",
              "    </tr>\n",
              "    <tr>\n",
              "      <th>2</th>\n",
              "      <td>1</td>\n",
              "      <td>238</td>\n",
              "      <td>1_estimation_sparse_rank_stochastic</td>\n",
              "      <td>[estimation, sparse, rank, stochastic, method,...</td>\n",
              "      <td>[stochastic variance reduced, convex optimizat...</td>\n",
              "      <td>[sparse, stochastic, regression, kernel, low r...</td>\n",
              "      <td>[estimation, sparse, rank, stochastic, method,...</td>\n",
              "      <td>[ Doubly Accelerated Stochastic Variance Reduc...</td>\n",
              "    </tr>\n",
              "    <tr>\n",
              "      <th>3</th>\n",
              "      <td>2</td>\n",
              "      <td>202</td>\n",
              "      <td>2_spaces_algebras_groups_functions</td>\n",
              "      <td>[spaces, algebras, groups, functions, mathbb, ...</td>\n",
              "      <td>[dimensional manifolds, semigroups, characteri...</td>\n",
              "      <td>[spaces, algebras, groups, generalized, graphs...</td>\n",
              "      <td>[spaces, algebras, groups, functions, classes,...</td>\n",
              "      <td>[ Preduals for spaces of operators involving H...</td>\n",
              "    </tr>\n",
              "    <tr>\n",
              "      <th>4</th>\n",
              "      <td>3</td>\n",
              "      <td>135</td>\n",
              "      <td>3_networks_network_model_neuronal</td>\n",
              "      <td>[networks, network, model, neuronal, graphs, s...</td>\n",
              "      <td>[complex networks, networks, neuronal networks...</td>\n",
              "      <td>[networks, neuronal, graphs, social, dynamics,...</td>\n",
              "      <td>[networks, network, model, neuronal, graphs, b...</td>\n",
              "      <td>[ Complex Networks,  Hidden Community Detectio...</td>\n",
              "    </tr>\n",
              "    <tr>\n",
              "      <th>5</th>\n",
              "      <td>4</td>\n",
              "      <td>132</td>\n",
              "      <td>4_market_price_pricing_optimal</td>\n",
              "      <td>[market, price, pricing, optimal, model, risk,...</td>\n",
              "      <td>[option pricing models, pricing models, option...</td>\n",
              "      <td>[risk, stochastic, volatility, markets, fracti...</td>\n",
              "      <td>[market, pricing, price, optimal, model, risk,...</td>\n",
              "      <td>[ On the optimal investment-consumption and li...</td>\n",
              "    </tr>\n",
              "    <tr>\n",
              "      <th>6</th>\n",
              "      <td>5</td>\n",
              "      <td>85</td>\n",
              "      <td>5_spin_quantum__2_electron</td>\n",
              "      <td>[spin, quantum, _2, electron, topological, str...</td>\n",
              "      <td>[superconductivity, superconductors, excitons ...</td>\n",
              "      <td>[spin, quantum, topological, superconductivity...</td>\n",
              "      <td>[spin, quantum, electron, topological, structu...</td>\n",
              "      <td>[ Pressure tuning of structure, superconductiv...</td>\n",
              "    </tr>\n",
              "    <tr>\n",
              "      <th>7</th>\n",
              "      <td>6</td>\n",
              "      <td>72</td>\n",
              "      <td>6_stokes_boundary_solutions_navier</td>\n",
              "      <td>[stokes, boundary, solutions, navier, porous, ...</td>\n",
              "      <td>[navier stokes equations, navier stokes, stoke...</td>\n",
              "      <td>[solutions, navier stokes, flows, porous media...</td>\n",
              "      <td>[boundary, solutions, porous, flows, equation,...</td>\n",
              "      <td>[ Thermophoretic MHD Flow and Non-linear Radia...</td>\n",
              "    </tr>\n",
              "    <tr>\n",
              "      <th>8</th>\n",
              "      <td>7</td>\n",
              "      <td>72</td>\n",
              "      <td>7_star_galaxy_exoplanet_survey</td>\n",
              "      <td>[star, galaxy, exoplanet, survey, cloud, stell...</td>\n",
              "      <td>[star formation, planet star systems, galaxies...</td>\n",
              "      <td>[exoplanet, stellar, stars, star formation, hu...</td>\n",
              "      <td>[star, galaxy, exoplanet, cloud, stellar, grav...</td>\n",
              "      <td>[ Large Magellanic Cloud Near-Infrared Synopti...</td>\n",
              "    </tr>\n",
              "    <tr>\n",
              "      <th>9</th>\n",
              "      <td>8</td>\n",
              "      <td>46</td>\n",
              "      <td>8_dna_cell_protein_cancer</td>\n",
              "      <td>[dna, cell, protein, cancer, dynamics, single,...</td>\n",
              "      <td>[molecular dynamics, molecular dynamics algori...</td>\n",
              "      <td>[dna, cancer, molecular dynamics, folding, act...</td>\n",
              "      <td>[cell, protein, cancer, dynamics, single, effe...</td>\n",
              "      <td>[ Connecting the dots between mechanosensitive...</td>\n",
              "    </tr>\n",
              "    <tr>\n",
              "      <th>10</th>\n",
              "      <td>9</td>\n",
              "      <td>42</td>\n",
              "      <td>9_learning_reinforcement learning_reinforcemen...</td>\n",
              "      <td>[learning, reinforcement learning, reinforceme...</td>\n",
              "      <td>[reinforcement learning sparse, agent reinforc...</td>\n",
              "      <td>[reinforcement learning, robot, deep, agent re...</td>\n",
              "      <td>[learning, human, robotic, action, body, model...</td>\n",
              "      <td>[ Switching Isotropic and Directional Explorat...</td>\n",
              "    </tr>\n",
              "    <tr>\n",
              "      <th>11</th>\n",
              "      <td>10</td>\n",
              "      <td>40</td>\n",
              "      <td>10_power_networks_codes_relay</td>\n",
              "      <td>[power, networks, codes, relay, wireless, ener...</td>\n",
              "      <td>[power allocation duplex, wireless power trans...</td>\n",
              "      <td>[relay, energy harvesting, wireless power tran...</td>\n",
              "      <td>[networks, relay, wireless, energy, harvesting...</td>\n",
              "      <td>[ Power Allocation for Full-Duplex Relay Selec...</td>\n",
              "    </tr>\n",
              "    <tr>\n",
              "      <th>12</th>\n",
              "      <td>11</td>\n",
              "      <td>38</td>\n",
              "      <td>11_bayesian_monte_monte carlo_carlo</td>\n",
              "      <td>[bayesian, monte, monte carlo, carlo, inferenc...</td>\n",
              "      <td>[markov chain monte, bayesian inference large,...</td>\n",
              "      <td>[monte carlo, sampling, bayesian inference, ba...</td>\n",
              "      <td>[inference, sampling, sampler, particle, datas...</td>\n",
              "      <td>[ Weighted batch means estimators in Markov ch...</td>\n",
              "    </tr>\n",
              "    <tr>\n",
              "      <th>13</th>\n",
              "      <td>12</td>\n",
              "      <td>36</td>\n",
              "      <td>12_populations_evolutionary_harvest_stationary...</td>\n",
              "      <td>[populations, evolutionary, harvest, stationar...</td>\n",
              "      <td>[niche modeling interference, populations subj...</td>\n",
              "      <td>[evolutionary, harvest, stationary populations...</td>\n",
              "      <td>[populations, evolutionary, marine, harvest, m...</td>\n",
              "      <td>[ Interactions mediated by a public good trans...</td>\n",
              "    </tr>\n",
              "    <tr>\n",
              "      <th>14</th>\n",
              "      <td>13</td>\n",
              "      <td>36</td>\n",
              "      <td>13_bandit_bandits_learning_stochastic</td>\n",
              "      <td>[bandit, bandits, learning, stochastic, online...</td>\n",
              "      <td>[optimization bandit sampling, optimization ba...</td>\n",
              "      <td>[bandit, bandits, adaptive, multi armed bandit...</td>\n",
              "      <td>[bandit, bandits, stochastic, armed, multi, op...</td>\n",
              "      <td>[ PAC Identification of Many Good Arms in Stoc...</td>\n",
              "    </tr>\n",
              "    <tr>\n",
              "      <th>15</th>\n",
              "      <td>14</td>\n",
              "      <td>26</td>\n",
              "      <td>14_causal_data_analysis_clinical</td>\n",
              "      <td>[causal, data, analysis, clinical, drug, metho...</td>\n",
              "      <td>[methods causal inference, causal inference, m...</td>\n",
              "      <td>[causal, clinical, drug, methods causal, survi...</td>\n",
              "      <td>[data, analysis, clinical, drug, wide, models,...</td>\n",
              "      <td>[ Analysis of Extremely Obese Individuals Usin...</td>\n",
              "    </tr>\n",
              "  </tbody>\n",
              "</table>\n",
              "</div>\n",
              "    <div class=\"colab-df-buttons\">\n",
              "\n",
              "  <div class=\"colab-df-container\">\n",
              "    <button class=\"colab-df-convert\" onclick=\"convertToInteractive('df-dc34f5c4-5302-4389-bf5f-1d8ff070d899')\"\n",
              "            title=\"Convert this dataframe to an interactive table.\"\n",
              "            style=\"display:none;\">\n",
              "\n",
              "  <svg xmlns=\"http://www.w3.org/2000/svg\" height=\"24px\" viewBox=\"0 -960 960 960\">\n",
              "    <path d=\"M120-120v-720h720v720H120Zm60-500h600v-160H180v160Zm220 220h160v-160H400v160Zm0 220h160v-160H400v160ZM180-400h160v-160H180v160Zm440 0h160v-160H620v160ZM180-180h160v-160H180v160Zm440 0h160v-160H620v160Z\"/>\n",
              "  </svg>\n",
              "    </button>\n",
              "\n",
              "  <style>\n",
              "    .colab-df-container {\n",
              "      display:flex;\n",
              "      gap: 12px;\n",
              "    }\n",
              "\n",
              "    .colab-df-convert {\n",
              "      background-color: #E8F0FE;\n",
              "      border: none;\n",
              "      border-radius: 50%;\n",
              "      cursor: pointer;\n",
              "      display: none;\n",
              "      fill: #1967D2;\n",
              "      height: 32px;\n",
              "      padding: 0 0 0 0;\n",
              "      width: 32px;\n",
              "    }\n",
              "\n",
              "    .colab-df-convert:hover {\n",
              "      background-color: #E2EBFA;\n",
              "      box-shadow: 0px 1px 2px rgba(60, 64, 67, 0.3), 0px 1px 3px 1px rgba(60, 64, 67, 0.15);\n",
              "      fill: #174EA6;\n",
              "    }\n",
              "\n",
              "    .colab-df-buttons div {\n",
              "      margin-bottom: 4px;\n",
              "    }\n",
              "\n",
              "    [theme=dark] .colab-df-convert {\n",
              "      background-color: #3B4455;\n",
              "      fill: #D2E3FC;\n",
              "    }\n",
              "\n",
              "    [theme=dark] .colab-df-convert:hover {\n",
              "      background-color: #434B5C;\n",
              "      box-shadow: 0px 1px 3px 1px rgba(0, 0, 0, 0.15);\n",
              "      filter: drop-shadow(0px 1px 2px rgba(0, 0, 0, 0.3));\n",
              "      fill: #FFFFFF;\n",
              "    }\n",
              "  </style>\n",
              "\n",
              "    <script>\n",
              "      const buttonEl =\n",
              "        document.querySelector('#df-dc34f5c4-5302-4389-bf5f-1d8ff070d899 button.colab-df-convert');\n",
              "      buttonEl.style.display =\n",
              "        google.colab.kernel.accessAllowed ? 'block' : 'none';\n",
              "\n",
              "      async function convertToInteractive(key) {\n",
              "        const element = document.querySelector('#df-dc34f5c4-5302-4389-bf5f-1d8ff070d899');\n",
              "        const dataTable =\n",
              "          await google.colab.kernel.invokeFunction('convertToInteractive',\n",
              "                                                    [key], {});\n",
              "        if (!dataTable) return;\n",
              "\n",
              "        const docLinkHtml = 'Like what you see? Visit the ' +\n",
              "          '<a target=\"_blank\" href=https://colab.research.google.com/notebooks/data_table.ipynb>data table notebook</a>'\n",
              "          + ' to learn more about interactive tables.';\n",
              "        element.innerHTML = '';\n",
              "        dataTable['output_type'] = 'display_data';\n",
              "        await google.colab.output.renderOutput(dataTable, element);\n",
              "        const docLink = document.createElement('div');\n",
              "        docLink.innerHTML = docLinkHtml;\n",
              "        element.appendChild(docLink);\n",
              "      }\n",
              "    </script>\n",
              "  </div>\n",
              "\n",
              "\n",
              "<div id=\"df-f8d45773-3ea3-4bf3-a1b7-08ae4c3511c5\">\n",
              "  <button class=\"colab-df-quickchart\" onclick=\"quickchart('df-f8d45773-3ea3-4bf3-a1b7-08ae4c3511c5')\"\n",
              "            title=\"Suggest charts\"\n",
              "            style=\"display:none;\">\n",
              "\n",
              "<svg xmlns=\"http://www.w3.org/2000/svg\" height=\"24px\"viewBox=\"0 0 24 24\"\n",
              "     width=\"24px\">\n",
              "    <g>\n",
              "        <path d=\"M19 3H5c-1.1 0-2 .9-2 2v14c0 1.1.9 2 2 2h14c1.1 0 2-.9 2-2V5c0-1.1-.9-2-2-2zM9 17H7v-7h2v7zm4 0h-2V7h2v10zm4 0h-2v-4h2v4z\"/>\n",
              "    </g>\n",
              "</svg>\n",
              "  </button>\n",
              "\n",
              "<style>\n",
              "  .colab-df-quickchart {\n",
              "      --bg-color: #E8F0FE;\n",
              "      --fill-color: #1967D2;\n",
              "      --hover-bg-color: #E2EBFA;\n",
              "      --hover-fill-color: #174EA6;\n",
              "      --disabled-fill-color: #AAA;\n",
              "      --disabled-bg-color: #DDD;\n",
              "  }\n",
              "\n",
              "  [theme=dark] .colab-df-quickchart {\n",
              "      --bg-color: #3B4455;\n",
              "      --fill-color: #D2E3FC;\n",
              "      --hover-bg-color: #434B5C;\n",
              "      --hover-fill-color: #FFFFFF;\n",
              "      --disabled-bg-color: #3B4455;\n",
              "      --disabled-fill-color: #666;\n",
              "  }\n",
              "\n",
              "  .colab-df-quickchart {\n",
              "    background-color: var(--bg-color);\n",
              "    border: none;\n",
              "    border-radius: 50%;\n",
              "    cursor: pointer;\n",
              "    display: none;\n",
              "    fill: var(--fill-color);\n",
              "    height: 32px;\n",
              "    padding: 0;\n",
              "    width: 32px;\n",
              "  }\n",
              "\n",
              "  .colab-df-quickchart:hover {\n",
              "    background-color: var(--hover-bg-color);\n",
              "    box-shadow: 0 1px 2px rgba(60, 64, 67, 0.3), 0 1px 3px 1px rgba(60, 64, 67, 0.15);\n",
              "    fill: var(--button-hover-fill-color);\n",
              "  }\n",
              "\n",
              "  .colab-df-quickchart-complete:disabled,\n",
              "  .colab-df-quickchart-complete:disabled:hover {\n",
              "    background-color: var(--disabled-bg-color);\n",
              "    fill: var(--disabled-fill-color);\n",
              "    box-shadow: none;\n",
              "  }\n",
              "\n",
              "  .colab-df-spinner {\n",
              "    border: 2px solid var(--fill-color);\n",
              "    border-color: transparent;\n",
              "    border-bottom-color: var(--fill-color);\n",
              "    animation:\n",
              "      spin 1s steps(1) infinite;\n",
              "  }\n",
              "\n",
              "  @keyframes spin {\n",
              "    0% {\n",
              "      border-color: transparent;\n",
              "      border-bottom-color: var(--fill-color);\n",
              "      border-left-color: var(--fill-color);\n",
              "    }\n",
              "    20% {\n",
              "      border-color: transparent;\n",
              "      border-left-color: var(--fill-color);\n",
              "      border-top-color: var(--fill-color);\n",
              "    }\n",
              "    30% {\n",
              "      border-color: transparent;\n",
              "      border-left-color: var(--fill-color);\n",
              "      border-top-color: var(--fill-color);\n",
              "      border-right-color: var(--fill-color);\n",
              "    }\n",
              "    40% {\n",
              "      border-color: transparent;\n",
              "      border-right-color: var(--fill-color);\n",
              "      border-top-color: var(--fill-color);\n",
              "    }\n",
              "    60% {\n",
              "      border-color: transparent;\n",
              "      border-right-color: var(--fill-color);\n",
              "    }\n",
              "    80% {\n",
              "      border-color: transparent;\n",
              "      border-right-color: var(--fill-color);\n",
              "      border-bottom-color: var(--fill-color);\n",
              "    }\n",
              "    90% {\n",
              "      border-color: transparent;\n",
              "      border-bottom-color: var(--fill-color);\n",
              "    }\n",
              "  }\n",
              "</style>\n",
              "\n",
              "  <script>\n",
              "    async function quickchart(key) {\n",
              "      const quickchartButtonEl =\n",
              "        document.querySelector('#' + key + ' button');\n",
              "      quickchartButtonEl.disabled = true;  // To prevent multiple clicks.\n",
              "      quickchartButtonEl.classList.add('colab-df-spinner');\n",
              "      try {\n",
              "        const charts = await google.colab.kernel.invokeFunction(\n",
              "            'suggestCharts', [key], {});\n",
              "      } catch (error) {\n",
              "        console.error('Error during call to suggestCharts:', error);\n",
              "      }\n",
              "      quickchartButtonEl.classList.remove('colab-df-spinner');\n",
              "      quickchartButtonEl.classList.add('colab-df-quickchart-complete');\n",
              "    }\n",
              "    (() => {\n",
              "      let quickchartButtonEl =\n",
              "        document.querySelector('#df-f8d45773-3ea3-4bf3-a1b7-08ae4c3511c5 button');\n",
              "      quickchartButtonEl.style.display =\n",
              "        google.colab.kernel.accessAllowed ? 'block' : 'none';\n",
              "    })();\n",
              "  </script>\n",
              "</div>\n",
              "\n",
              "    </div>\n",
              "  </div>\n"
            ],
            "application/vnd.google.colaboratory.intrinsic+json": {
              "type": "dataframe",
              "summary": "{\n  \"name\": \"# params[13]\",\n  \"rows\": 16,\n  \"fields\": [\n    {\n      \"column\": \"Topic\",\n      \"properties\": {\n        \"dtype\": \"number\",\n        \"std\": 4,\n        \"min\": -1,\n        \"max\": 14,\n        \"num_unique_values\": 16,\n        \"samples\": [\n          -1,\n          0,\n          4\n        ],\n        \"semantic_type\": \"\",\n        \"description\": \"\"\n      }\n    },\n    {\n      \"column\": \"Count\",\n      \"properties\": {\n        \"dtype\": \"number\",\n        \"std\": 132,\n        \"min\": 26,\n        \"max\": 533,\n        \"num_unique_values\": 14,\n        \"samples\": [\n          42,\n          38,\n          533\n        ],\n        \"semantic_type\": \"\",\n        \"description\": \"\"\n      }\n    },\n    {\n      \"column\": \"Name\",\n      \"properties\": {\n        \"dtype\": \"string\",\n        \"num_unique_values\": 16,\n        \"samples\": [\n          \"-1_learning_based_data_model\",\n          \"0_neural_deep_learning_networks\",\n          \"4_market_price_pricing_optimal\"\n        ],\n        \"semantic_type\": \"\",\n        \"description\": \"\"\n      }\n    },\n    {\n      \"column\": \"Representation\",\n      \"properties\": {\n        \"dtype\": \"object\",\n        \"semantic_type\": \"\",\n        \"description\": \"\"\n      }\n    },\n    {\n      \"column\": \"KeyBERT\",\n      \"properties\": {\n        \"dtype\": \"object\",\n        \"semantic_type\": \"\",\n        \"description\": \"\"\n      }\n    },\n    {\n      \"column\": \"MMR\",\n      \"properties\": {\n        \"dtype\": \"object\",\n        \"semantic_type\": \"\",\n        \"description\": \"\"\n      }\n    },\n    {\n      \"column\": \"POS\",\n      \"properties\": {\n        \"dtype\": \"object\",\n        \"semantic_type\": \"\",\n        \"description\": \"\"\n      }\n    },\n    {\n      \"column\": \"Representative_Docs\",\n      \"properties\": {\n        \"dtype\": \"object\",\n        \"semantic_type\": \"\",\n        \"description\": \"\"\n      }\n    }\n  ]\n}"
            }
          },
          "metadata": {},
          "execution_count": 16
        }
      ],
      "source": [
        "topic_model.get_topic_info()\n",
        "# params[13].head()"
      ]
    },
    {
      "cell_type": "code",
      "execution_count": null,
      "metadata": {
        "id": "DbNWJCvpHlkm"
      },
      "outputs": [],
      "source": [
        "topic_model.get_representative_docs(15)"
      ]
    },
    {
      "cell_type": "markdown",
      "metadata": {
        "id": "IZvFosnhHlkm"
      },
      "source": [
        "### saving model"
      ]
    },
    {
      "cell_type": "code",
      "execution_count": null,
      "metadata": {
        "id": "TsQSm_3YHlkm"
      },
      "outputs": [],
      "source": [
        "embedding_model = \"sentence-transformers/all-MiniLM-L6-v2\"\n",
        "topic_model.save(\"./model_dir/hdbscan\", serialization=\"safetensors\", save_ctfidf=True, save_embedding_model=embedding_model)"
      ]
    },
    {
      "cell_type": "markdown",
      "metadata": {
        "id": "xSlMxq6bHlkm"
      },
      "source": [
        "### Accuracy Calculation\n",
        "- find metrics - remember ICD11 per clustering"
      ]
    },
    {
      "cell_type": "code",
      "execution_count": null,
      "metadata": {
        "id": "BKlR4BiGHlkm"
      },
      "outputs": [],
      "source": []
    },
    {
      "cell_type": "code",
      "execution_count": null,
      "metadata": {
        "id": "ZCb5LSiTHlkm"
      },
      "outputs": [],
      "source": [
        "\n"
      ]
    },
    {
      "cell_type": "code",
      "execution_count": null,
      "metadata": {
        "id": "rdlXYzWkHlkm"
      },
      "outputs": [],
      "source": [
        "\n"
      ]
    },
    {
      "cell_type": "markdown",
      "metadata": {
        "id": "ezHKWWcSHlkm"
      },
      "source": [
        "#### OPEC evaluation"
      ]
    },
    {
      "cell_type": "code",
      "execution_count": null,
      "metadata": {
        "id": "1uiaEM-IHlkm"
      },
      "outputs": [],
      "source": [
        "#creating dataset ready for opec\n",
        "\n"
      ]
    },
    {
      "cell_type": "markdown",
      "metadata": {
        "id": "GaaZDEplHlkm"
      },
      "source": [
        "### Creating plots"
      ]
    },
    {
      "cell_type": "code",
      "execution_count": null,
      "metadata": {
        "id": "MLMuQegyHlkm"
      },
      "outputs": [],
      "source": [
        "%matplotlib inline\n"
      ]
    },
    {
      "cell_type": "code",
      "execution_count": null,
      "metadata": {
        "id": "9MKL3_u_Hlkn"
      },
      "outputs": [],
      "source": [
        "\n",
        "\n"
      ]
    },
    {
      "cell_type": "code",
      "execution_count": null,
      "metadata": {
        "id": "ug9VE8HFHlkn"
      },
      "outputs": [],
      "source": []
    },
    {
      "cell_type": "markdown",
      "metadata": {
        "id": "8Q3M_YYyHlkn"
      },
      "source": []
    },
    {
      "cell_type": "code",
      "execution_count": null,
      "metadata": {
        "id": "nphXENluHlkn"
      },
      "outputs": [],
      "source": []
    },
    {
      "cell_type": "markdown",
      "metadata": {
        "id": "v9k1RynXHlkn"
      },
      "source": [
        "### Model visualization: topics and documents"
      ]
    },
    {
      "cell_type": "code",
      "execution_count": null,
      "metadata": {
        "id": "i7DO2Np0Hlkn"
      },
      "outputs": [],
      "source": [
        "topic_model.visualize_topics()"
      ]
    },
    {
      "cell_type": "code",
      "execution_count": null,
      "metadata": {
        "id": "3XPKVQ1JHlkn"
      },
      "outputs": [],
      "source": []
    },
    {
      "cell_type": "code",
      "execution_count": null,
      "metadata": {
        "id": "nf0Lhv2jHlkn"
      },
      "outputs": [],
      "source": []
    },
    {
      "cell_type": "code",
      "execution_count": null,
      "metadata": {
        "id": "TInKTgjGHlkn"
      },
      "outputs": [],
      "source": []
    },
    {
      "cell_type": "code",
      "execution_count": null,
      "metadata": {
        "id": "SCnTQYrmHlkn"
      },
      "outputs": [],
      "source": []
    },
    {
      "cell_type": "code",
      "execution_count": null,
      "metadata": {
        "id": "UcommjtHHlkn"
      },
      "outputs": [],
      "source": [
        "topic_model.visualize_hierarchy()"
      ]
    },
    {
      "cell_type": "code",
      "execution_count": null,
      "metadata": {
        "id": "Jt9IMmC3Hlkn"
      },
      "outputs": [],
      "source": [
        "# Documents\n",
        "from umap import UMAP\n",
        "reduced_embeddings = UMAP(n_neighbors=10, n_components=2, min_dist=0.0, metric='cosine').fit_transform(embeddings)\n",
        "# Visualize the documents in 2-dimensional space and show the titles on hover instead of the abstracts\n",
        "# NOTE: You can hide the hover with `hide_document_hover=True` which is especially helpful if you have a large dataset\n",
        "labels=md_terms_ss_df['medical_term'].to_list()\n",
        "topic_model.visualize_documents(labels, reduced_embeddings=reduced_embeddings)"
      ]
    }
  ],
  "metadata": {
    "kernelspec": {
      "display_name": "Python 3",
      "name": "python3"
    },
    "language_info": {
      "codemirror_mode": {
        "name": "ipython",
        "version": 3
      },
      "file_extension": ".py",
      "mimetype": "text/x-python",
      "name": "python",
      "nbconvert_exporter": "python",
      "pygments_lexer": "ipython3",
      "version": "3.11.7"
    },
    "colab": {
      "provenance": [],
      "gpuType": "T4"
    },
    "widgets": {
      "application/vnd.jupyter.widget-state+json": {
        "eb5ab33a533b4d8480365f1de68aa79a": {
          "model_module": "@jupyter-widgets/controls",
          "model_name": "HBoxModel",
          "model_module_version": "1.5.0",
          "state": {
            "_dom_classes": [],
            "_model_module": "@jupyter-widgets/controls",
            "_model_module_version": "1.5.0",
            "_model_name": "HBoxModel",
            "_view_count": null,
            "_view_module": "@jupyter-widgets/controls",
            "_view_module_version": "1.5.0",
            "_view_name": "HBoxView",
            "box_style": "",
            "children": [
              "IPY_MODEL_99293c51536b4aae8770607ff7659c39",
              "IPY_MODEL_ba6c02546117440d9d45ca6b3da1e2e6",
              "IPY_MODEL_799f026bd71b47a8b3e9808d65aac921"
            ],
            "layout": "IPY_MODEL_b10ca08a5e3d41f6b81e8dae9bfd3dc3"
          }
        },
        "99293c51536b4aae8770607ff7659c39": {
          "model_module": "@jupyter-widgets/controls",
          "model_name": "HTMLModel",
          "model_module_version": "1.5.0",
          "state": {
            "_dom_classes": [],
            "_model_module": "@jupyter-widgets/controls",
            "_model_module_version": "1.5.0",
            "_model_name": "HTMLModel",
            "_view_count": null,
            "_view_module": "@jupyter-widgets/controls",
            "_view_module_version": "1.5.0",
            "_view_name": "HTMLView",
            "description": "",
            "description_tooltip": null,
            "layout": "IPY_MODEL_58932a2e5c074ebb97e277ecb7f82b4a",
            "placeholder": "​",
            "style": "IPY_MODEL_13cdec9d21d1415eabad02e88b6cdd88",
            "value": "README.md: 100%"
          }
        },
        "ba6c02546117440d9d45ca6b3da1e2e6": {
          "model_module": "@jupyter-widgets/controls",
          "model_name": "FloatProgressModel",
          "model_module_version": "1.5.0",
          "state": {
            "_dom_classes": [],
            "_model_module": "@jupyter-widgets/controls",
            "_model_module_version": "1.5.0",
            "_model_name": "FloatProgressModel",
            "_view_count": null,
            "_view_module": "@jupyter-widgets/controls",
            "_view_module_version": "1.5.0",
            "_view_name": "ProgressView",
            "bar_style": "success",
            "description": "",
            "description_tooltip": null,
            "layout": "IPY_MODEL_dac84823ec8240fe8ea9d4dc5c633c1c",
            "max": 382,
            "min": 0,
            "orientation": "horizontal",
            "style": "IPY_MODEL_aa7aa7e72cd54ca7b477f8c339a24447",
            "value": 382
          }
        },
        "799f026bd71b47a8b3e9808d65aac921": {
          "model_module": "@jupyter-widgets/controls",
          "model_name": "HTMLModel",
          "model_module_version": "1.5.0",
          "state": {
            "_dom_classes": [],
            "_model_module": "@jupyter-widgets/controls",
            "_model_module_version": "1.5.0",
            "_model_name": "HTMLModel",
            "_view_count": null,
            "_view_module": "@jupyter-widgets/controls",
            "_view_module_version": "1.5.0",
            "_view_name": "HTMLView",
            "description": "",
            "description_tooltip": null,
            "layout": "IPY_MODEL_eff9e3e57d81411e8da1880340737113",
            "placeholder": "​",
            "style": "IPY_MODEL_51276bfbefc44d52a22c86242c5e2c2f",
            "value": " 382/382 [00:00&lt;00:00, 1.76kB/s]"
          }
        },
        "b10ca08a5e3d41f6b81e8dae9bfd3dc3": {
          "model_module": "@jupyter-widgets/base",
          "model_name": "LayoutModel",
          "model_module_version": "1.2.0",
          "state": {
            "_model_module": "@jupyter-widgets/base",
            "_model_module_version": "1.2.0",
            "_model_name": "LayoutModel",
            "_view_count": null,
            "_view_module": "@jupyter-widgets/base",
            "_view_module_version": "1.2.0",
            "_view_name": "LayoutView",
            "align_content": null,
            "align_items": null,
            "align_self": null,
            "border": null,
            "bottom": null,
            "display": null,
            "flex": null,
            "flex_flow": null,
            "grid_area": null,
            "grid_auto_columns": null,
            "grid_auto_flow": null,
            "grid_auto_rows": null,
            "grid_column": null,
            "grid_gap": null,
            "grid_row": null,
            "grid_template_areas": null,
            "grid_template_columns": null,
            "grid_template_rows": null,
            "height": null,
            "justify_content": null,
            "justify_items": null,
            "left": null,
            "margin": null,
            "max_height": null,
            "max_width": null,
            "min_height": null,
            "min_width": null,
            "object_fit": null,
            "object_position": null,
            "order": null,
            "overflow": null,
            "overflow_x": null,
            "overflow_y": null,
            "padding": null,
            "right": null,
            "top": null,
            "visibility": null,
            "width": null
          }
        },
        "58932a2e5c074ebb97e277ecb7f82b4a": {
          "model_module": "@jupyter-widgets/base",
          "model_name": "LayoutModel",
          "model_module_version": "1.2.0",
          "state": {
            "_model_module": "@jupyter-widgets/base",
            "_model_module_version": "1.2.0",
            "_model_name": "LayoutModel",
            "_view_count": null,
            "_view_module": "@jupyter-widgets/base",
            "_view_module_version": "1.2.0",
            "_view_name": "LayoutView",
            "align_content": null,
            "align_items": null,
            "align_self": null,
            "border": null,
            "bottom": null,
            "display": null,
            "flex": null,
            "flex_flow": null,
            "grid_area": null,
            "grid_auto_columns": null,
            "grid_auto_flow": null,
            "grid_auto_rows": null,
            "grid_column": null,
            "grid_gap": null,
            "grid_row": null,
            "grid_template_areas": null,
            "grid_template_columns": null,
            "grid_template_rows": null,
            "height": null,
            "justify_content": null,
            "justify_items": null,
            "left": null,
            "margin": null,
            "max_height": null,
            "max_width": null,
            "min_height": null,
            "min_width": null,
            "object_fit": null,
            "object_position": null,
            "order": null,
            "overflow": null,
            "overflow_x": null,
            "overflow_y": null,
            "padding": null,
            "right": null,
            "top": null,
            "visibility": null,
            "width": null
          }
        },
        "13cdec9d21d1415eabad02e88b6cdd88": {
          "model_module": "@jupyter-widgets/controls",
          "model_name": "DescriptionStyleModel",
          "model_module_version": "1.5.0",
          "state": {
            "_model_module": "@jupyter-widgets/controls",
            "_model_module_version": "1.5.0",
            "_model_name": "DescriptionStyleModel",
            "_view_count": null,
            "_view_module": "@jupyter-widgets/base",
            "_view_module_version": "1.2.0",
            "_view_name": "StyleView",
            "description_width": ""
          }
        },
        "dac84823ec8240fe8ea9d4dc5c633c1c": {
          "model_module": "@jupyter-widgets/base",
          "model_name": "LayoutModel",
          "model_module_version": "1.2.0",
          "state": {
            "_model_module": "@jupyter-widgets/base",
            "_model_module_version": "1.2.0",
            "_model_name": "LayoutModel",
            "_view_count": null,
            "_view_module": "@jupyter-widgets/base",
            "_view_module_version": "1.2.0",
            "_view_name": "LayoutView",
            "align_content": null,
            "align_items": null,
            "align_self": null,
            "border": null,
            "bottom": null,
            "display": null,
            "flex": null,
            "flex_flow": null,
            "grid_area": null,
            "grid_auto_columns": null,
            "grid_auto_flow": null,
            "grid_auto_rows": null,
            "grid_column": null,
            "grid_gap": null,
            "grid_row": null,
            "grid_template_areas": null,
            "grid_template_columns": null,
            "grid_template_rows": null,
            "height": null,
            "justify_content": null,
            "justify_items": null,
            "left": null,
            "margin": null,
            "max_height": null,
            "max_width": null,
            "min_height": null,
            "min_width": null,
            "object_fit": null,
            "object_position": null,
            "order": null,
            "overflow": null,
            "overflow_x": null,
            "overflow_y": null,
            "padding": null,
            "right": null,
            "top": null,
            "visibility": null,
            "width": null
          }
        },
        "aa7aa7e72cd54ca7b477f8c339a24447": {
          "model_module": "@jupyter-widgets/controls",
          "model_name": "ProgressStyleModel",
          "model_module_version": "1.5.0",
          "state": {
            "_model_module": "@jupyter-widgets/controls",
            "_model_module_version": "1.5.0",
            "_model_name": "ProgressStyleModel",
            "_view_count": null,
            "_view_module": "@jupyter-widgets/base",
            "_view_module_version": "1.2.0",
            "_view_name": "StyleView",
            "bar_color": null,
            "description_width": ""
          }
        },
        "eff9e3e57d81411e8da1880340737113": {
          "model_module": "@jupyter-widgets/base",
          "model_name": "LayoutModel",
          "model_module_version": "1.2.0",
          "state": {
            "_model_module": "@jupyter-widgets/base",
            "_model_module_version": "1.2.0",
            "_model_name": "LayoutModel",
            "_view_count": null,
            "_view_module": "@jupyter-widgets/base",
            "_view_module_version": "1.2.0",
            "_view_name": "LayoutView",
            "align_content": null,
            "align_items": null,
            "align_self": null,
            "border": null,
            "bottom": null,
            "display": null,
            "flex": null,
            "flex_flow": null,
            "grid_area": null,
            "grid_auto_columns": null,
            "grid_auto_flow": null,
            "grid_auto_rows": null,
            "grid_column": null,
            "grid_gap": null,
            "grid_row": null,
            "grid_template_areas": null,
            "grid_template_columns": null,
            "grid_template_rows": null,
            "height": null,
            "justify_content": null,
            "justify_items": null,
            "left": null,
            "margin": null,
            "max_height": null,
            "max_width": null,
            "min_height": null,
            "min_width": null,
            "object_fit": null,
            "object_position": null,
            "order": null,
            "overflow": null,
            "overflow_x": null,
            "overflow_y": null,
            "padding": null,
            "right": null,
            "top": null,
            "visibility": null,
            "width": null
          }
        },
        "51276bfbefc44d52a22c86242c5e2c2f": {
          "model_module": "@jupyter-widgets/controls",
          "model_name": "DescriptionStyleModel",
          "model_module_version": "1.5.0",
          "state": {
            "_model_module": "@jupyter-widgets/controls",
            "_model_module_version": "1.5.0",
            "_model_name": "DescriptionStyleModel",
            "_view_count": null,
            "_view_module": "@jupyter-widgets/base",
            "_view_module_version": "1.2.0",
            "_view_name": "StyleView",
            "description_width": ""
          }
        },
        "631283a04c674ef1b996d0b23374ad20": {
          "model_module": "@jupyter-widgets/controls",
          "model_name": "HBoxModel",
          "model_module_version": "1.5.0",
          "state": {
            "_dom_classes": [],
            "_model_module": "@jupyter-widgets/controls",
            "_model_module_version": "1.5.0",
            "_model_name": "HBoxModel",
            "_view_count": null,
            "_view_module": "@jupyter-widgets/controls",
            "_view_module_version": "1.5.0",
            "_view_name": "HBoxView",
            "box_style": "",
            "children": [
              "IPY_MODEL_78125fce708e4f3fa081ce735eca90a7",
              "IPY_MODEL_589f194040444c5680698884f3e747cd",
              "IPY_MODEL_670317b6396d4281a893ddd443e67c05"
            ],
            "layout": "IPY_MODEL_e7909abedc174842894113c28bf22166"
          }
        },
        "78125fce708e4f3fa081ce735eca90a7": {
          "model_module": "@jupyter-widgets/controls",
          "model_name": "HTMLModel",
          "model_module_version": "1.5.0",
          "state": {
            "_dom_classes": [],
            "_model_module": "@jupyter-widgets/controls",
            "_model_module_version": "1.5.0",
            "_model_name": "HTMLModel",
            "_view_count": null,
            "_view_module": "@jupyter-widgets/controls",
            "_view_module_version": "1.5.0",
            "_view_name": "HTMLView",
            "description": "",
            "description_tooltip": null,
            "layout": "IPY_MODEL_b23af09058c74f469f7d5ec0771b06ca",
            "placeholder": "​",
            "style": "IPY_MODEL_96a0d1e384064acab934978d7026259a",
            "value": "(…)-00000-of-00001-6cb8c751614cff33.parquet: 100%"
          }
        },
        "589f194040444c5680698884f3e747cd": {
          "model_module": "@jupyter-widgets/controls",
          "model_name": "FloatProgressModel",
          "model_module_version": "1.5.0",
          "state": {
            "_dom_classes": [],
            "_model_module": "@jupyter-widgets/controls",
            "_model_module_version": "1.5.0",
            "_model_name": "FloatProgressModel",
            "_view_count": null,
            "_view_module": "@jupyter-widgets/controls",
            "_view_module_version": "1.5.0",
            "_view_name": "ProgressView",
            "bar_style": "success",
            "description": "",
            "description_tooltip": null,
            "layout": "IPY_MODEL_548c10bfc7df4f68aa5ec9f363771e52",
            "max": 1359885,
            "min": 0,
            "orientation": "horizontal",
            "style": "IPY_MODEL_351f623f8a9a4ffabb2c183cc0b63cf6",
            "value": 1359885
          }
        },
        "670317b6396d4281a893ddd443e67c05": {
          "model_module": "@jupyter-widgets/controls",
          "model_name": "HTMLModel",
          "model_module_version": "1.5.0",
          "state": {
            "_dom_classes": [],
            "_model_module": "@jupyter-widgets/controls",
            "_model_module_version": "1.5.0",
            "_model_name": "HTMLModel",
            "_view_count": null,
            "_view_module": "@jupyter-widgets/controls",
            "_view_module_version": "1.5.0",
            "_view_name": "HTMLView",
            "description": "",
            "description_tooltip": null,
            "layout": "IPY_MODEL_8b382e6cd79c47a29c737e5c6e4c563d",
            "placeholder": "​",
            "style": "IPY_MODEL_0d76c876a5a2482ebba43f6e16988c2c",
            "value": " 1.36M/1.36M [00:00&lt;00:00, 3.15MB/s]"
          }
        },
        "e7909abedc174842894113c28bf22166": {
          "model_module": "@jupyter-widgets/base",
          "model_name": "LayoutModel",
          "model_module_version": "1.2.0",
          "state": {
            "_model_module": "@jupyter-widgets/base",
            "_model_module_version": "1.2.0",
            "_model_name": "LayoutModel",
            "_view_count": null,
            "_view_module": "@jupyter-widgets/base",
            "_view_module_version": "1.2.0",
            "_view_name": "LayoutView",
            "align_content": null,
            "align_items": null,
            "align_self": null,
            "border": null,
            "bottom": null,
            "display": null,
            "flex": null,
            "flex_flow": null,
            "grid_area": null,
            "grid_auto_columns": null,
            "grid_auto_flow": null,
            "grid_auto_rows": null,
            "grid_column": null,
            "grid_gap": null,
            "grid_row": null,
            "grid_template_areas": null,
            "grid_template_columns": null,
            "grid_template_rows": null,
            "height": null,
            "justify_content": null,
            "justify_items": null,
            "left": null,
            "margin": null,
            "max_height": null,
            "max_width": null,
            "min_height": null,
            "min_width": null,
            "object_fit": null,
            "object_position": null,
            "order": null,
            "overflow": null,
            "overflow_x": null,
            "overflow_y": null,
            "padding": null,
            "right": null,
            "top": null,
            "visibility": null,
            "width": null
          }
        },
        "b23af09058c74f469f7d5ec0771b06ca": {
          "model_module": "@jupyter-widgets/base",
          "model_name": "LayoutModel",
          "model_module_version": "1.2.0",
          "state": {
            "_model_module": "@jupyter-widgets/base",
            "_model_module_version": "1.2.0",
            "_model_name": "LayoutModel",
            "_view_count": null,
            "_view_module": "@jupyter-widgets/base",
            "_view_module_version": "1.2.0",
            "_view_name": "LayoutView",
            "align_content": null,
            "align_items": null,
            "align_self": null,
            "border": null,
            "bottom": null,
            "display": null,
            "flex": null,
            "flex_flow": null,
            "grid_area": null,
            "grid_auto_columns": null,
            "grid_auto_flow": null,
            "grid_auto_rows": null,
            "grid_column": null,
            "grid_gap": null,
            "grid_row": null,
            "grid_template_areas": null,
            "grid_template_columns": null,
            "grid_template_rows": null,
            "height": null,
            "justify_content": null,
            "justify_items": null,
            "left": null,
            "margin": null,
            "max_height": null,
            "max_width": null,
            "min_height": null,
            "min_width": null,
            "object_fit": null,
            "object_position": null,
            "order": null,
            "overflow": null,
            "overflow_x": null,
            "overflow_y": null,
            "padding": null,
            "right": null,
            "top": null,
            "visibility": null,
            "width": null
          }
        },
        "96a0d1e384064acab934978d7026259a": {
          "model_module": "@jupyter-widgets/controls",
          "model_name": "DescriptionStyleModel",
          "model_module_version": "1.5.0",
          "state": {
            "_model_module": "@jupyter-widgets/controls",
            "_model_module_version": "1.5.0",
            "_model_name": "DescriptionStyleModel",
            "_view_count": null,
            "_view_module": "@jupyter-widgets/base",
            "_view_module_version": "1.2.0",
            "_view_name": "StyleView",
            "description_width": ""
          }
        },
        "548c10bfc7df4f68aa5ec9f363771e52": {
          "model_module": "@jupyter-widgets/base",
          "model_name": "LayoutModel",
          "model_module_version": "1.2.0",
          "state": {
            "_model_module": "@jupyter-widgets/base",
            "_model_module_version": "1.2.0",
            "_model_name": "LayoutModel",
            "_view_count": null,
            "_view_module": "@jupyter-widgets/base",
            "_view_module_version": "1.2.0",
            "_view_name": "LayoutView",
            "align_content": null,
            "align_items": null,
            "align_self": null,
            "border": null,
            "bottom": null,
            "display": null,
            "flex": null,
            "flex_flow": null,
            "grid_area": null,
            "grid_auto_columns": null,
            "grid_auto_flow": null,
            "grid_auto_rows": null,
            "grid_column": null,
            "grid_gap": null,
            "grid_row": null,
            "grid_template_areas": null,
            "grid_template_columns": null,
            "grid_template_rows": null,
            "height": null,
            "justify_content": null,
            "justify_items": null,
            "left": null,
            "margin": null,
            "max_height": null,
            "max_width": null,
            "min_height": null,
            "min_width": null,
            "object_fit": null,
            "object_position": null,
            "order": null,
            "overflow": null,
            "overflow_x": null,
            "overflow_y": null,
            "padding": null,
            "right": null,
            "top": null,
            "visibility": null,
            "width": null
          }
        },
        "351f623f8a9a4ffabb2c183cc0b63cf6": {
          "model_module": "@jupyter-widgets/controls",
          "model_name": "ProgressStyleModel",
          "model_module_version": "1.5.0",
          "state": {
            "_model_module": "@jupyter-widgets/controls",
            "_model_module_version": "1.5.0",
            "_model_name": "ProgressStyleModel",
            "_view_count": null,
            "_view_module": "@jupyter-widgets/base",
            "_view_module_version": "1.2.0",
            "_view_name": "StyleView",
            "bar_color": null,
            "description_width": ""
          }
        },
        "8b382e6cd79c47a29c737e5c6e4c563d": {
          "model_module": "@jupyter-widgets/base",
          "model_name": "LayoutModel",
          "model_module_version": "1.2.0",
          "state": {
            "_model_module": "@jupyter-widgets/base",
            "_model_module_version": "1.2.0",
            "_model_name": "LayoutModel",
            "_view_count": null,
            "_view_module": "@jupyter-widgets/base",
            "_view_module_version": "1.2.0",
            "_view_name": "LayoutView",
            "align_content": null,
            "align_items": null,
            "align_self": null,
            "border": null,
            "bottom": null,
            "display": null,
            "flex": null,
            "flex_flow": null,
            "grid_area": null,
            "grid_auto_columns": null,
            "grid_auto_flow": null,
            "grid_auto_rows": null,
            "grid_column": null,
            "grid_gap": null,
            "grid_row": null,
            "grid_template_areas": null,
            "grid_template_columns": null,
            "grid_template_rows": null,
            "height": null,
            "justify_content": null,
            "justify_items": null,
            "left": null,
            "margin": null,
            "max_height": null,
            "max_width": null,
            "min_height": null,
            "min_width": null,
            "object_fit": null,
            "object_position": null,
            "order": null,
            "overflow": null,
            "overflow_x": null,
            "overflow_y": null,
            "padding": null,
            "right": null,
            "top": null,
            "visibility": null,
            "width": null
          }
        },
        "0d76c876a5a2482ebba43f6e16988c2c": {
          "model_module": "@jupyter-widgets/controls",
          "model_name": "DescriptionStyleModel",
          "model_module_version": "1.5.0",
          "state": {
            "_model_module": "@jupyter-widgets/controls",
            "_model_module_version": "1.5.0",
            "_model_name": "DescriptionStyleModel",
            "_view_count": null,
            "_view_module": "@jupyter-widgets/base",
            "_view_module_version": "1.2.0",
            "_view_name": "StyleView",
            "description_width": ""
          }
        },
        "c3f3755f25144e17b7fd38fe7bbff314": {
          "model_module": "@jupyter-widgets/controls",
          "model_name": "HBoxModel",
          "model_module_version": "1.5.0",
          "state": {
            "_dom_classes": [],
            "_model_module": "@jupyter-widgets/controls",
            "_model_module_version": "1.5.0",
            "_model_name": "HBoxModel",
            "_view_count": null,
            "_view_module": "@jupyter-widgets/controls",
            "_view_module_version": "1.5.0",
            "_view_name": "HBoxView",
            "box_style": "",
            "children": [
              "IPY_MODEL_2d698ec394c94427b219c23acaa57937",
              "IPY_MODEL_3443f27c3ecd4341a2158937f94044f8",
              "IPY_MODEL_8b8300113de1494da33d3735bf5ef78a"
            ],
            "layout": "IPY_MODEL_079ab66b83a1495c956aaa867cd568fd"
          }
        },
        "2d698ec394c94427b219c23acaa57937": {
          "model_module": "@jupyter-widgets/controls",
          "model_name": "HTMLModel",
          "model_module_version": "1.5.0",
          "state": {
            "_dom_classes": [],
            "_model_module": "@jupyter-widgets/controls",
            "_model_module_version": "1.5.0",
            "_model_name": "HTMLModel",
            "_view_count": null,
            "_view_module": "@jupyter-widgets/controls",
            "_view_module_version": "1.5.0",
            "_view_name": "HTMLView",
            "description": "",
            "description_tooltip": null,
            "layout": "IPY_MODEL_e3f18c7bc0284272b308156195c03439",
            "placeholder": "​",
            "style": "IPY_MODEL_ec3380495bba41f7a2f3a4a0b63cb0e0",
            "value": "Generating train split: 100%"
          }
        },
        "3443f27c3ecd4341a2158937f94044f8": {
          "model_module": "@jupyter-widgets/controls",
          "model_name": "FloatProgressModel",
          "model_module_version": "1.5.0",
          "state": {
            "_dom_classes": [],
            "_model_module": "@jupyter-widgets/controls",
            "_model_module_version": "1.5.0",
            "_model_name": "FloatProgressModel",
            "_view_count": null,
            "_view_module": "@jupyter-widgets/controls",
            "_view_module_version": "1.5.0",
            "_view_name": "ProgressView",
            "bar_style": "success",
            "description": "",
            "description_tooltip": null,
            "layout": "IPY_MODEL_fac0c0afef374a089fe1655d08f854d3",
            "max": 1985,
            "min": 0,
            "orientation": "horizontal",
            "style": "IPY_MODEL_84817fe545814d29b6fcb250cae49248",
            "value": 1985
          }
        },
        "8b8300113de1494da33d3735bf5ef78a": {
          "model_module": "@jupyter-widgets/controls",
          "model_name": "HTMLModel",
          "model_module_version": "1.5.0",
          "state": {
            "_dom_classes": [],
            "_model_module": "@jupyter-widgets/controls",
            "_model_module_version": "1.5.0",
            "_model_name": "HTMLModel",
            "_view_count": null,
            "_view_module": "@jupyter-widgets/controls",
            "_view_module_version": "1.5.0",
            "_view_name": "HTMLView",
            "description": "",
            "description_tooltip": null,
            "layout": "IPY_MODEL_3783b861a8be45349e1ed0f92915dcfb",
            "placeholder": "​",
            "style": "IPY_MODEL_f357a7b842da4d56a98a4231b4437055",
            "value": " 1985/1985 [00:00&lt;00:00, 18509.60 examples/s]"
          }
        },
        "079ab66b83a1495c956aaa867cd568fd": {
          "model_module": "@jupyter-widgets/base",
          "model_name": "LayoutModel",
          "model_module_version": "1.2.0",
          "state": {
            "_model_module": "@jupyter-widgets/base",
            "_model_module_version": "1.2.0",
            "_model_name": "LayoutModel",
            "_view_count": null,
            "_view_module": "@jupyter-widgets/base",
            "_view_module_version": "1.2.0",
            "_view_name": "LayoutView",
            "align_content": null,
            "align_items": null,
            "align_self": null,
            "border": null,
            "bottom": null,
            "display": null,
            "flex": null,
            "flex_flow": null,
            "grid_area": null,
            "grid_auto_columns": null,
            "grid_auto_flow": null,
            "grid_auto_rows": null,
            "grid_column": null,
            "grid_gap": null,
            "grid_row": null,
            "grid_template_areas": null,
            "grid_template_columns": null,
            "grid_template_rows": null,
            "height": null,
            "justify_content": null,
            "justify_items": null,
            "left": null,
            "margin": null,
            "max_height": null,
            "max_width": null,
            "min_height": null,
            "min_width": null,
            "object_fit": null,
            "object_position": null,
            "order": null,
            "overflow": null,
            "overflow_x": null,
            "overflow_y": null,
            "padding": null,
            "right": null,
            "top": null,
            "visibility": null,
            "width": null
          }
        },
        "e3f18c7bc0284272b308156195c03439": {
          "model_module": "@jupyter-widgets/base",
          "model_name": "LayoutModel",
          "model_module_version": "1.2.0",
          "state": {
            "_model_module": "@jupyter-widgets/base",
            "_model_module_version": "1.2.0",
            "_model_name": "LayoutModel",
            "_view_count": null,
            "_view_module": "@jupyter-widgets/base",
            "_view_module_version": "1.2.0",
            "_view_name": "LayoutView",
            "align_content": null,
            "align_items": null,
            "align_self": null,
            "border": null,
            "bottom": null,
            "display": null,
            "flex": null,
            "flex_flow": null,
            "grid_area": null,
            "grid_auto_columns": null,
            "grid_auto_flow": null,
            "grid_auto_rows": null,
            "grid_column": null,
            "grid_gap": null,
            "grid_row": null,
            "grid_template_areas": null,
            "grid_template_columns": null,
            "grid_template_rows": null,
            "height": null,
            "justify_content": null,
            "justify_items": null,
            "left": null,
            "margin": null,
            "max_height": null,
            "max_width": null,
            "min_height": null,
            "min_width": null,
            "object_fit": null,
            "object_position": null,
            "order": null,
            "overflow": null,
            "overflow_x": null,
            "overflow_y": null,
            "padding": null,
            "right": null,
            "top": null,
            "visibility": null,
            "width": null
          }
        },
        "ec3380495bba41f7a2f3a4a0b63cb0e0": {
          "model_module": "@jupyter-widgets/controls",
          "model_name": "DescriptionStyleModel",
          "model_module_version": "1.5.0",
          "state": {
            "_model_module": "@jupyter-widgets/controls",
            "_model_module_version": "1.5.0",
            "_model_name": "DescriptionStyleModel",
            "_view_count": null,
            "_view_module": "@jupyter-widgets/base",
            "_view_module_version": "1.2.0",
            "_view_name": "StyleView",
            "description_width": ""
          }
        },
        "fac0c0afef374a089fe1655d08f854d3": {
          "model_module": "@jupyter-widgets/base",
          "model_name": "LayoutModel",
          "model_module_version": "1.2.0",
          "state": {
            "_model_module": "@jupyter-widgets/base",
            "_model_module_version": "1.2.0",
            "_model_name": "LayoutModel",
            "_view_count": null,
            "_view_module": "@jupyter-widgets/base",
            "_view_module_version": "1.2.0",
            "_view_name": "LayoutView",
            "align_content": null,
            "align_items": null,
            "align_self": null,
            "border": null,
            "bottom": null,
            "display": null,
            "flex": null,
            "flex_flow": null,
            "grid_area": null,
            "grid_auto_columns": null,
            "grid_auto_flow": null,
            "grid_auto_rows": null,
            "grid_column": null,
            "grid_gap": null,
            "grid_row": null,
            "grid_template_areas": null,
            "grid_template_columns": null,
            "grid_template_rows": null,
            "height": null,
            "justify_content": null,
            "justify_items": null,
            "left": null,
            "margin": null,
            "max_height": null,
            "max_width": null,
            "min_height": null,
            "min_width": null,
            "object_fit": null,
            "object_position": null,
            "order": null,
            "overflow": null,
            "overflow_x": null,
            "overflow_y": null,
            "padding": null,
            "right": null,
            "top": null,
            "visibility": null,
            "width": null
          }
        },
        "84817fe545814d29b6fcb250cae49248": {
          "model_module": "@jupyter-widgets/controls",
          "model_name": "ProgressStyleModel",
          "model_module_version": "1.5.0",
          "state": {
            "_model_module": "@jupyter-widgets/controls",
            "_model_module_version": "1.5.0",
            "_model_name": "ProgressStyleModel",
            "_view_count": null,
            "_view_module": "@jupyter-widgets/base",
            "_view_module_version": "1.2.0",
            "_view_name": "StyleView",
            "bar_color": null,
            "description_width": ""
          }
        },
        "3783b861a8be45349e1ed0f92915dcfb": {
          "model_module": "@jupyter-widgets/base",
          "model_name": "LayoutModel",
          "model_module_version": "1.2.0",
          "state": {
            "_model_module": "@jupyter-widgets/base",
            "_model_module_version": "1.2.0",
            "_model_name": "LayoutModel",
            "_view_count": null,
            "_view_module": "@jupyter-widgets/base",
            "_view_module_version": "1.2.0",
            "_view_name": "LayoutView",
            "align_content": null,
            "align_items": null,
            "align_self": null,
            "border": null,
            "bottom": null,
            "display": null,
            "flex": null,
            "flex_flow": null,
            "grid_area": null,
            "grid_auto_columns": null,
            "grid_auto_flow": null,
            "grid_auto_rows": null,
            "grid_column": null,
            "grid_gap": null,
            "grid_row": null,
            "grid_template_areas": null,
            "grid_template_columns": null,
            "grid_template_rows": null,
            "height": null,
            "justify_content": null,
            "justify_items": null,
            "left": null,
            "margin": null,
            "max_height": null,
            "max_width": null,
            "min_height": null,
            "min_width": null,
            "object_fit": null,
            "object_position": null,
            "order": null,
            "overflow": null,
            "overflow_x": null,
            "overflow_y": null,
            "padding": null,
            "right": null,
            "top": null,
            "visibility": null,
            "width": null
          }
        },
        "f357a7b842da4d56a98a4231b4437055": {
          "model_module": "@jupyter-widgets/controls",
          "model_name": "DescriptionStyleModel",
          "model_module_version": "1.5.0",
          "state": {
            "_model_module": "@jupyter-widgets/controls",
            "_model_module_version": "1.5.0",
            "_model_name": "DescriptionStyleModel",
            "_view_count": null,
            "_view_module": "@jupyter-widgets/base",
            "_view_module_version": "1.2.0",
            "_view_name": "StyleView",
            "description_width": ""
          }
        },
        "95c6600f008f4934af8b2155293ea427": {
          "model_module": "@jupyter-widgets/controls",
          "model_name": "HBoxModel",
          "model_module_version": "1.5.0",
          "state": {
            "_dom_classes": [],
            "_model_module": "@jupyter-widgets/controls",
            "_model_module_version": "1.5.0",
            "_model_name": "HBoxModel",
            "_view_count": null,
            "_view_module": "@jupyter-widgets/controls",
            "_view_module_version": "1.5.0",
            "_view_name": "HBoxView",
            "box_style": "",
            "children": [
              "IPY_MODEL_d7982452c2a048c5b281a08d096fdb6f",
              "IPY_MODEL_920f8b26b03e40c4a4857aa6cec4b4fd",
              "IPY_MODEL_29c38316923b4bdd89a08dc8262192f9"
            ],
            "layout": "IPY_MODEL_96556beada5e462c99ec506180373a7a"
          }
        },
        "d7982452c2a048c5b281a08d096fdb6f": {
          "model_module": "@jupyter-widgets/controls",
          "model_name": "HTMLModel",
          "model_module_version": "1.5.0",
          "state": {
            "_dom_classes": [],
            "_model_module": "@jupyter-widgets/controls",
            "_model_module_version": "1.5.0",
            "_model_name": "HTMLModel",
            "_view_count": null,
            "_view_module": "@jupyter-widgets/controls",
            "_view_module_version": "1.5.0",
            "_view_name": "HTMLView",
            "description": "",
            "description_tooltip": null,
            "layout": "IPY_MODEL_5bc5e9b5ab2c48d5b0f1cb1417749d8b",
            "placeholder": "​",
            "style": "IPY_MODEL_a331674b37224454bcbb04a67f620a62",
            "value": "Batches: 100%"
          }
        },
        "920f8b26b03e40c4a4857aa6cec4b4fd": {
          "model_module": "@jupyter-widgets/controls",
          "model_name": "FloatProgressModel",
          "model_module_version": "1.5.0",
          "state": {
            "_dom_classes": [],
            "_model_module": "@jupyter-widgets/controls",
            "_model_module_version": "1.5.0",
            "_model_name": "FloatProgressModel",
            "_view_count": null,
            "_view_module": "@jupyter-widgets/controls",
            "_view_module_version": "1.5.0",
            "_view_name": "ProgressView",
            "bar_style": "success",
            "description": "",
            "description_tooltip": null,
            "layout": "IPY_MODEL_950e086c859a448cbe8f5a39a847964b",
            "max": 38,
            "min": 0,
            "orientation": "horizontal",
            "style": "IPY_MODEL_7a99be2d0cf64df187618ae0ac32639c",
            "value": 38
          }
        },
        "29c38316923b4bdd89a08dc8262192f9": {
          "model_module": "@jupyter-widgets/controls",
          "model_name": "HTMLModel",
          "model_module_version": "1.5.0",
          "state": {
            "_dom_classes": [],
            "_model_module": "@jupyter-widgets/controls",
            "_model_module_version": "1.5.0",
            "_model_name": "HTMLModel",
            "_view_count": null,
            "_view_module": "@jupyter-widgets/controls",
            "_view_module_version": "1.5.0",
            "_view_name": "HTMLView",
            "description": "",
            "description_tooltip": null,
            "layout": "IPY_MODEL_926e79e0528d43e399d68cb00779a6cc",
            "placeholder": "​",
            "style": "IPY_MODEL_a9e3f28bb3f84913bc03e53780e14f9b",
            "value": " 38/38 [00:02&lt;00:00, 43.52it/s]"
          }
        },
        "96556beada5e462c99ec506180373a7a": {
          "model_module": "@jupyter-widgets/base",
          "model_name": "LayoutModel",
          "model_module_version": "1.2.0",
          "state": {
            "_model_module": "@jupyter-widgets/base",
            "_model_module_version": "1.2.0",
            "_model_name": "LayoutModel",
            "_view_count": null,
            "_view_module": "@jupyter-widgets/base",
            "_view_module_version": "1.2.0",
            "_view_name": "LayoutView",
            "align_content": null,
            "align_items": null,
            "align_self": null,
            "border": null,
            "bottom": null,
            "display": null,
            "flex": null,
            "flex_flow": null,
            "grid_area": null,
            "grid_auto_columns": null,
            "grid_auto_flow": null,
            "grid_auto_rows": null,
            "grid_column": null,
            "grid_gap": null,
            "grid_row": null,
            "grid_template_areas": null,
            "grid_template_columns": null,
            "grid_template_rows": null,
            "height": null,
            "justify_content": null,
            "justify_items": null,
            "left": null,
            "margin": null,
            "max_height": null,
            "max_width": null,
            "min_height": null,
            "min_width": null,
            "object_fit": null,
            "object_position": null,
            "order": null,
            "overflow": null,
            "overflow_x": null,
            "overflow_y": null,
            "padding": null,
            "right": null,
            "top": null,
            "visibility": null,
            "width": null
          }
        },
        "5bc5e9b5ab2c48d5b0f1cb1417749d8b": {
          "model_module": "@jupyter-widgets/base",
          "model_name": "LayoutModel",
          "model_module_version": "1.2.0",
          "state": {
            "_model_module": "@jupyter-widgets/base",
            "_model_module_version": "1.2.0",
            "_model_name": "LayoutModel",
            "_view_count": null,
            "_view_module": "@jupyter-widgets/base",
            "_view_module_version": "1.2.0",
            "_view_name": "LayoutView",
            "align_content": null,
            "align_items": null,
            "align_self": null,
            "border": null,
            "bottom": null,
            "display": null,
            "flex": null,
            "flex_flow": null,
            "grid_area": null,
            "grid_auto_columns": null,
            "grid_auto_flow": null,
            "grid_auto_rows": null,
            "grid_column": null,
            "grid_gap": null,
            "grid_row": null,
            "grid_template_areas": null,
            "grid_template_columns": null,
            "grid_template_rows": null,
            "height": null,
            "justify_content": null,
            "justify_items": null,
            "left": null,
            "margin": null,
            "max_height": null,
            "max_width": null,
            "min_height": null,
            "min_width": null,
            "object_fit": null,
            "object_position": null,
            "order": null,
            "overflow": null,
            "overflow_x": null,
            "overflow_y": null,
            "padding": null,
            "right": null,
            "top": null,
            "visibility": null,
            "width": null
          }
        },
        "a331674b37224454bcbb04a67f620a62": {
          "model_module": "@jupyter-widgets/controls",
          "model_name": "DescriptionStyleModel",
          "model_module_version": "1.5.0",
          "state": {
            "_model_module": "@jupyter-widgets/controls",
            "_model_module_version": "1.5.0",
            "_model_name": "DescriptionStyleModel",
            "_view_count": null,
            "_view_module": "@jupyter-widgets/base",
            "_view_module_version": "1.2.0",
            "_view_name": "StyleView",
            "description_width": ""
          }
        },
        "950e086c859a448cbe8f5a39a847964b": {
          "model_module": "@jupyter-widgets/base",
          "model_name": "LayoutModel",
          "model_module_version": "1.2.0",
          "state": {
            "_model_module": "@jupyter-widgets/base",
            "_model_module_version": "1.2.0",
            "_model_name": "LayoutModel",
            "_view_count": null,
            "_view_module": "@jupyter-widgets/base",
            "_view_module_version": "1.2.0",
            "_view_name": "LayoutView",
            "align_content": null,
            "align_items": null,
            "align_self": null,
            "border": null,
            "bottom": null,
            "display": null,
            "flex": null,
            "flex_flow": null,
            "grid_area": null,
            "grid_auto_columns": null,
            "grid_auto_flow": null,
            "grid_auto_rows": null,
            "grid_column": null,
            "grid_gap": null,
            "grid_row": null,
            "grid_template_areas": null,
            "grid_template_columns": null,
            "grid_template_rows": null,
            "height": null,
            "justify_content": null,
            "justify_items": null,
            "left": null,
            "margin": null,
            "max_height": null,
            "max_width": null,
            "min_height": null,
            "min_width": null,
            "object_fit": null,
            "object_position": null,
            "order": null,
            "overflow": null,
            "overflow_x": null,
            "overflow_y": null,
            "padding": null,
            "right": null,
            "top": null,
            "visibility": null,
            "width": null
          }
        },
        "7a99be2d0cf64df187618ae0ac32639c": {
          "model_module": "@jupyter-widgets/controls",
          "model_name": "ProgressStyleModel",
          "model_module_version": "1.5.0",
          "state": {
            "_model_module": "@jupyter-widgets/controls",
            "_model_module_version": "1.5.0",
            "_model_name": "ProgressStyleModel",
            "_view_count": null,
            "_view_module": "@jupyter-widgets/base",
            "_view_module_version": "1.2.0",
            "_view_name": "StyleView",
            "bar_color": null,
            "description_width": ""
          }
        },
        "926e79e0528d43e399d68cb00779a6cc": {
          "model_module": "@jupyter-widgets/base",
          "model_name": "LayoutModel",
          "model_module_version": "1.2.0",
          "state": {
            "_model_module": "@jupyter-widgets/base",
            "_model_module_version": "1.2.0",
            "_model_name": "LayoutModel",
            "_view_count": null,
            "_view_module": "@jupyter-widgets/base",
            "_view_module_version": "1.2.0",
            "_view_name": "LayoutView",
            "align_content": null,
            "align_items": null,
            "align_self": null,
            "border": null,
            "bottom": null,
            "display": null,
            "flex": null,
            "flex_flow": null,
            "grid_area": null,
            "grid_auto_columns": null,
            "grid_auto_flow": null,
            "grid_auto_rows": null,
            "grid_column": null,
            "grid_gap": null,
            "grid_row": null,
            "grid_template_areas": null,
            "grid_template_columns": null,
            "grid_template_rows": null,
            "height": null,
            "justify_content": null,
            "justify_items": null,
            "left": null,
            "margin": null,
            "max_height": null,
            "max_width": null,
            "min_height": null,
            "min_width": null,
            "object_fit": null,
            "object_position": null,
            "order": null,
            "overflow": null,
            "overflow_x": null,
            "overflow_y": null,
            "padding": null,
            "right": null,
            "top": null,
            "visibility": null,
            "width": null
          }
        },
        "a9e3f28bb3f84913bc03e53780e14f9b": {
          "model_module": "@jupyter-widgets/controls",
          "model_name": "DescriptionStyleModel",
          "model_module_version": "1.5.0",
          "state": {
            "_model_module": "@jupyter-widgets/controls",
            "_model_module_version": "1.5.0",
            "_model_name": "DescriptionStyleModel",
            "_view_count": null,
            "_view_module": "@jupyter-widgets/base",
            "_view_module_version": "1.2.0",
            "_view_name": "StyleView",
            "description_width": ""
          }
        },
        "48d5f0dbb94b43848b8a2af55eca2c98": {
          "model_module": "@jupyter-widgets/controls",
          "model_name": "HBoxModel",
          "model_module_version": "1.5.0",
          "state": {
            "_dom_classes": [],
            "_model_module": "@jupyter-widgets/controls",
            "_model_module_version": "1.5.0",
            "_model_name": "HBoxModel",
            "_view_count": null,
            "_view_module": "@jupyter-widgets/controls",
            "_view_module_version": "1.5.0",
            "_view_name": "HBoxView",
            "box_style": "",
            "children": [
              "IPY_MODEL_53bb68807966441e9c3230492aff9cc4",
              "IPY_MODEL_c43361855be94dfe93941ed8c878c0d4",
              "IPY_MODEL_34a8708a2223457fb6cbc1b62ab04f8f"
            ],
            "layout": "IPY_MODEL_eb4fc5f9985d43d896863f1433339606"
          }
        },
        "53bb68807966441e9c3230492aff9cc4": {
          "model_module": "@jupyter-widgets/controls",
          "model_name": "HTMLModel",
          "model_module_version": "1.5.0",
          "state": {
            "_dom_classes": [],
            "_model_module": "@jupyter-widgets/controls",
            "_model_module_version": "1.5.0",
            "_model_name": "HTMLModel",
            "_view_count": null,
            "_view_module": "@jupyter-widgets/controls",
            "_view_module_version": "1.5.0",
            "_view_name": "HTMLView",
            "description": "",
            "description_tooltip": null,
            "layout": "IPY_MODEL_30404fbf390a4514b06fa53dde3a1d00",
            "placeholder": "​",
            "style": "IPY_MODEL_f8f881cd445a4d6ca4d39de5d90a299f",
            "value": "Batches: 100%"
          }
        },
        "c43361855be94dfe93941ed8c878c0d4": {
          "model_module": "@jupyter-widgets/controls",
          "model_name": "FloatProgressModel",
          "model_module_version": "1.5.0",
          "state": {
            "_dom_classes": [],
            "_model_module": "@jupyter-widgets/controls",
            "_model_module_version": "1.5.0",
            "_model_name": "FloatProgressModel",
            "_view_count": null,
            "_view_module": "@jupyter-widgets/controls",
            "_view_module_version": "1.5.0",
            "_view_name": "ProgressView",
            "bar_style": "success",
            "description": "",
            "description_tooltip": null,
            "layout": "IPY_MODEL_5af78198aa1d4c50a2bf20888e256a8f",
            "max": 38,
            "min": 0,
            "orientation": "horizontal",
            "style": "IPY_MODEL_683fffbb8bd04e21a7bcef866532d257",
            "value": 38
          }
        },
        "34a8708a2223457fb6cbc1b62ab04f8f": {
          "model_module": "@jupyter-widgets/controls",
          "model_name": "HTMLModel",
          "model_module_version": "1.5.0",
          "state": {
            "_dom_classes": [],
            "_model_module": "@jupyter-widgets/controls",
            "_model_module_version": "1.5.0",
            "_model_name": "HTMLModel",
            "_view_count": null,
            "_view_module": "@jupyter-widgets/controls",
            "_view_module_version": "1.5.0",
            "_view_name": "HTMLView",
            "description": "",
            "description_tooltip": null,
            "layout": "IPY_MODEL_0be6806eb2e74751b8c17f4498681051",
            "placeholder": "​",
            "style": "IPY_MODEL_f5ccde16a46e40cf8d128124847e31f3",
            "value": " 38/38 [00:03&lt;00:00, 15.69it/s]"
          }
        },
        "eb4fc5f9985d43d896863f1433339606": {
          "model_module": "@jupyter-widgets/base",
          "model_name": "LayoutModel",
          "model_module_version": "1.2.0",
          "state": {
            "_model_module": "@jupyter-widgets/base",
            "_model_module_version": "1.2.0",
            "_model_name": "LayoutModel",
            "_view_count": null,
            "_view_module": "@jupyter-widgets/base",
            "_view_module_version": "1.2.0",
            "_view_name": "LayoutView",
            "align_content": null,
            "align_items": null,
            "align_self": null,
            "border": null,
            "bottom": null,
            "display": null,
            "flex": null,
            "flex_flow": null,
            "grid_area": null,
            "grid_auto_columns": null,
            "grid_auto_flow": null,
            "grid_auto_rows": null,
            "grid_column": null,
            "grid_gap": null,
            "grid_row": null,
            "grid_template_areas": null,
            "grid_template_columns": null,
            "grid_template_rows": null,
            "height": null,
            "justify_content": null,
            "justify_items": null,
            "left": null,
            "margin": null,
            "max_height": null,
            "max_width": null,
            "min_height": null,
            "min_width": null,
            "object_fit": null,
            "object_position": null,
            "order": null,
            "overflow": null,
            "overflow_x": null,
            "overflow_y": null,
            "padding": null,
            "right": null,
            "top": null,
            "visibility": null,
            "width": null
          }
        },
        "30404fbf390a4514b06fa53dde3a1d00": {
          "model_module": "@jupyter-widgets/base",
          "model_name": "LayoutModel",
          "model_module_version": "1.2.0",
          "state": {
            "_model_module": "@jupyter-widgets/base",
            "_model_module_version": "1.2.0",
            "_model_name": "LayoutModel",
            "_view_count": null,
            "_view_module": "@jupyter-widgets/base",
            "_view_module_version": "1.2.0",
            "_view_name": "LayoutView",
            "align_content": null,
            "align_items": null,
            "align_self": null,
            "border": null,
            "bottom": null,
            "display": null,
            "flex": null,
            "flex_flow": null,
            "grid_area": null,
            "grid_auto_columns": null,
            "grid_auto_flow": null,
            "grid_auto_rows": null,
            "grid_column": null,
            "grid_gap": null,
            "grid_row": null,
            "grid_template_areas": null,
            "grid_template_columns": null,
            "grid_template_rows": null,
            "height": null,
            "justify_content": null,
            "justify_items": null,
            "left": null,
            "margin": null,
            "max_height": null,
            "max_width": null,
            "min_height": null,
            "min_width": null,
            "object_fit": null,
            "object_position": null,
            "order": null,
            "overflow": null,
            "overflow_x": null,
            "overflow_y": null,
            "padding": null,
            "right": null,
            "top": null,
            "visibility": null,
            "width": null
          }
        },
        "f8f881cd445a4d6ca4d39de5d90a299f": {
          "model_module": "@jupyter-widgets/controls",
          "model_name": "DescriptionStyleModel",
          "model_module_version": "1.5.0",
          "state": {
            "_model_module": "@jupyter-widgets/controls",
            "_model_module_version": "1.5.0",
            "_model_name": "DescriptionStyleModel",
            "_view_count": null,
            "_view_module": "@jupyter-widgets/base",
            "_view_module_version": "1.2.0",
            "_view_name": "StyleView",
            "description_width": ""
          }
        },
        "5af78198aa1d4c50a2bf20888e256a8f": {
          "model_module": "@jupyter-widgets/base",
          "model_name": "LayoutModel",
          "model_module_version": "1.2.0",
          "state": {
            "_model_module": "@jupyter-widgets/base",
            "_model_module_version": "1.2.0",
            "_model_name": "LayoutModel",
            "_view_count": null,
            "_view_module": "@jupyter-widgets/base",
            "_view_module_version": "1.2.0",
            "_view_name": "LayoutView",
            "align_content": null,
            "align_items": null,
            "align_self": null,
            "border": null,
            "bottom": null,
            "display": null,
            "flex": null,
            "flex_flow": null,
            "grid_area": null,
            "grid_auto_columns": null,
            "grid_auto_flow": null,
            "grid_auto_rows": null,
            "grid_column": null,
            "grid_gap": null,
            "grid_row": null,
            "grid_template_areas": null,
            "grid_template_columns": null,
            "grid_template_rows": null,
            "height": null,
            "justify_content": null,
            "justify_items": null,
            "left": null,
            "margin": null,
            "max_height": null,
            "max_width": null,
            "min_height": null,
            "min_width": null,
            "object_fit": null,
            "object_position": null,
            "order": null,
            "overflow": null,
            "overflow_x": null,
            "overflow_y": null,
            "padding": null,
            "right": null,
            "top": null,
            "visibility": null,
            "width": null
          }
        },
        "683fffbb8bd04e21a7bcef866532d257": {
          "model_module": "@jupyter-widgets/controls",
          "model_name": "ProgressStyleModel",
          "model_module_version": "1.5.0",
          "state": {
            "_model_module": "@jupyter-widgets/controls",
            "_model_module_version": "1.5.0",
            "_model_name": "ProgressStyleModel",
            "_view_count": null,
            "_view_module": "@jupyter-widgets/base",
            "_view_module_version": "1.2.0",
            "_view_name": "StyleView",
            "bar_color": null,
            "description_width": ""
          }
        },
        "0be6806eb2e74751b8c17f4498681051": {
          "model_module": "@jupyter-widgets/base",
          "model_name": "LayoutModel",
          "model_module_version": "1.2.0",
          "state": {
            "_model_module": "@jupyter-widgets/base",
            "_model_module_version": "1.2.0",
            "_model_name": "LayoutModel",
            "_view_count": null,
            "_view_module": "@jupyter-widgets/base",
            "_view_module_version": "1.2.0",
            "_view_name": "LayoutView",
            "align_content": null,
            "align_items": null,
            "align_self": null,
            "border": null,
            "bottom": null,
            "display": null,
            "flex": null,
            "flex_flow": null,
            "grid_area": null,
            "grid_auto_columns": null,
            "grid_auto_flow": null,
            "grid_auto_rows": null,
            "grid_column": null,
            "grid_gap": null,
            "grid_row": null,
            "grid_template_areas": null,
            "grid_template_columns": null,
            "grid_template_rows": null,
            "height": null,
            "justify_content": null,
            "justify_items": null,
            "left": null,
            "margin": null,
            "max_height": null,
            "max_width": null,
            "min_height": null,
            "min_width": null,
            "object_fit": null,
            "object_position": null,
            "order": null,
            "overflow": null,
            "overflow_x": null,
            "overflow_y": null,
            "padding": null,
            "right": null,
            "top": null,
            "visibility": null,
            "width": null
          }
        },
        "f5ccde16a46e40cf8d128124847e31f3": {
          "model_module": "@jupyter-widgets/controls",
          "model_name": "DescriptionStyleModel",
          "model_module_version": "1.5.0",
          "state": {
            "_model_module": "@jupyter-widgets/controls",
            "_model_module_version": "1.5.0",
            "_model_name": "DescriptionStyleModel",
            "_view_count": null,
            "_view_module": "@jupyter-widgets/base",
            "_view_module_version": "1.2.0",
            "_view_name": "StyleView",
            "description_width": ""
          }
        }
      }
    },
    "accelerator": "GPU"
  },
  "nbformat": 4,
  "nbformat_minor": 0
}