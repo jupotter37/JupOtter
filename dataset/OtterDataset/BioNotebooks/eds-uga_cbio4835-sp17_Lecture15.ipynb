{
 "cells": [
  {
   "cell_type": "markdown",
   "metadata": {
    "deletable": true,
    "editable": true,
    "slideshow": {
     "slide_type": "slide"
    }
   },
   "source": [
    "# Lecture 15: BioPython\n",
    "\n",
    "CBIO (CSCI) 4835/6835: Introduction to Computational Biology"
   ]
  },
  {
   "cell_type": "markdown",
   "metadata": {
    "deletable": true,
    "editable": true,
    "slideshow": {
     "slide_type": "slide"
    }
   },
   "source": [
    "## Overview and Objectives\n",
    "\n",
    "BioPython is a versatile Python package for computational biology, particularly if your interest is in sequence analysis. In addition to performing multiple alignments, it can download sequences from the internet, construct phylogenetic trees, and even run population genetics simulations. By the end of this lecture, you should be able to:\n",
    "\n",
    " - Be familiar with the basic submodules of BioPython, such as\n",
    "   - Sequence alignment\n",
    "   - Motif finding\n",
    "   - Online BLAST searches\n",
    "   - building phylogenetic trees\n",
    "   - Finding \"fuzzy\" motifs"
   ]
  },
  {
   "cell_type": "markdown",
   "metadata": {
    "deletable": true,
    "editable": true,
    "slideshow": {
     "slide_type": "slide"
    }
   },
   "source": [
    "## Part 1: BioPython"
   ]
  },
  {
   "cell_type": "markdown",
   "metadata": {
    "deletable": true,
    "editable": true
   },
   "source": [
    "*Biopython features include parsers for various Bioinformatics file formats (BLAST, Clustalw, FASTA, Genbank,...), access to online services (NCBI, Expasy,...), interfaces to common and not-so-common programs (Clustalw, DSSP, MSMS...), a standard sequence class, various clustering modules, a KD tree data structure etc. and even documentation.*\n",
    "\n",
    "Other modules that might be of interest:\n",
    "\n",
    " *   Pycogent: http://pycogent.org/\n",
    " *   bx-python: https://github.com/bxlab/bx-python\n",
    " *   DendroPy: https://pythonhosted.org/DendroPy/"
   ]
  },
  {
   "cell_type": "markdown",
   "metadata": {
    "deletable": true,
    "editable": true,
    "slideshow": {
     "slide_type": "slide"
    }
   },
   "source": [
    "### Sequence Data"
   ]
  },
  {
   "cell_type": "markdown",
   "metadata": {
    "deletable": true,
    "editable": true
   },
   "source": [
    "Recall from lectures gone by: http://www.ncbi.nlm.nih.gov/gene/5216"
   ]
  },
  {
   "cell_type": "markdown",
   "metadata": {
    "deletable": true,
    "editable": true,
    "slideshow": {
     "slide_type": "slide"
    }
   },
   "source": [
    "### FASTA Format"
   ]
  },
  {
   "cell_type": "markdown",
   "metadata": {
    "deletable": true,
    "editable": true
   },
   "source": [
    "First line is description of sequence and starts with >\n",
    "\n",
    "All lines up to the next > are part of the same sequence\n",
    "\n",
    "Usually fewer than 80 characters per line"
   ]
  },
  {
   "cell_type": "markdown",
   "metadata": {
    "deletable": true,
    "editable": true
   },
   "source": [
    "```\n",
    ">gi|568815581:c4949086-4945650 Homo sapiens chromosome 17, GRCh38.p2 Primary Assembly\n",
    "CCCGCAGGGTCCACACGGGTCGGGCCGGGCGCGCTCCCGTGCAGCCGGCTCCGGCCCCGACCGCCCCATG\n",
    "CACTCCCGGCCCCGGCGCAGGCGCAGGCGCGGGCACACGCGCCGCCGCCCGCCGGTCCTTCCCTTCGGCG\n",
    "GAGGTGGGGGAAGGAGGAGTCATCCCGTTTAACCCTGGGCTCCCCGAACTCTCCTTAATTTGCTAAATTT\n",
    "GCAGCTTGCTAATTCCTCCTGCTTTCTCCTTCCTTCCTTCTTCTGGCTCACTCCCTGCCCCGATACCAAA\n",
    "GTCTGGTTTATATTCAGTGCAAATTGGAGCAAACCCTACCCTTCACCTCTCTCCCGCCACCCCCCATCCT\n",
    "TCTGCATTGCTTTCCATCGAACTCTGCAAATTTTGCAATAGGGGGAGGGATTTTTAAAATTGCATTTGCA\n",
    "```"
   ]
  },
  {
   "cell_type": "markdown",
   "metadata": {
    "deletable": true,
    "editable": true
   },
   "source": [
    "### GenBank\n",
    "\n",
    "Annotated format.  Starts with `LOCUS` field.  Can have several other annotation (e.g. `KEYWORDS`, `SOURCE`, `REFERENCE`, `FEATURES`).\n",
    "\n",
    "`ORIGIN` record indicates start of sequence\n",
    "\n",
    "'`\\\\`' indicates the end of sequence"
   ]
  },
  {
   "cell_type": "markdown",
   "metadata": {
    "deletable": true,
    "editable": true
   },
   "source": [
    "```\n",
    "LOCUS       CAG28598                 140 aa            linear   PRI 16-OCT-2008\n",
    "DEFINITION  PFN1, partial [Homo sapiens].\n",
    "ACCESSION   CAG28598\n",
    "VERSION     CAG28598.1  GI:47115277\n",
    "DBSOURCE    embl accession CR407670.1\n",
    "KEYWORDS    .\n",
    "SOURCE      Homo sapiens (human)\n",
    "  ORGANISM  Homo sapiens\n",
    "            Eukaryota; Metazoa; Chordata; Craniata; Vertebrata; Euteleostomi;\n",
    "            Mammalia; Eutheria; Euarchontoglires; Primates; Haplorrhini;\n",
    "            Catarrhini; Hominidae; Homo.\n",
    "ORIGIN      \n",
    "        1 magwnayidn lmadgtcqda aivgykdsps vwaavpgktf vnitpaevgv lvgkdrssfy\n",
    "       61 vngltlggqk csvirdsllq dgefsmdlrt kstggaptfn vtvtktdktl vllmgkegvh\n",
    "      121 gglinkkcye mashlrrsqy\n",
    "//\n",
    "```"
   ]
  },
  {
   "cell_type": "markdown",
   "metadata": {
    "deletable": true,
    "editable": true,
    "slideshow": {
     "slide_type": "slide"
    }
   },
   "source": [
    "### Sequence Objects"
   ]
  },
  {
   "cell_type": "markdown",
   "metadata": {
    "deletable": true,
    "editable": true
   },
   "source": [
    "Let's dive into BioPython, shall we?"
   ]
  },
  {
   "cell_type": "code",
   "execution_count": 1,
   "metadata": {
    "collapsed": false,
    "deletable": true,
    "editable": true
   },
   "outputs": [
    {
     "name": "stdout",
     "output_type": "stream",
     "text": [
      "GATTACA\n"
     ]
    }
   ],
   "source": [
    "from Bio.Seq import Seq # the submodule structure of biopython is a little awkward\n",
    "\n",
    "s = Seq(\"GATTACA\")\n",
    "print(s)"
   ]
  },
  {
   "cell_type": "markdown",
   "metadata": {
    "deletable": true,
    "editable": true
   },
   "source": [
    "Sequences act a lot like strings, but have an associated *alphabet* and additional methods.\n",
    "\n",
    "Methods shared with `str`: `count`, `endswith`, `find`, `lower`, `lstrip`, `rfind`, `split`, `startswith`, `strip`,`upper`\n",
    "\n",
    "`Seq`-specific methods: `back_transcribe`, `complement`, `reverse_complement`, `tomutable`, `tostring`, `transcribe`, `translate`, `ungap`"
   ]
  },
  {
   "cell_type": "code",
   "execution_count": 2,
   "metadata": {
    "collapsed": false,
    "deletable": true,
    "editable": true
   },
   "outputs": [
    {
     "data": {
      "text/plain": [
       "Alphabet()"
      ]
     },
     "execution_count": 2,
     "metadata": {},
     "output_type": "execute_result"
    }
   ],
   "source": [
    "s.alphabet"
   ]
  },
  {
   "cell_type": "markdown",
   "metadata": {
    "deletable": true,
    "editable": true,
    "slideshow": {
     "slide_type": "slide"
    }
   },
   "source": [
    "### Alphabets"
   ]
  },
  {
   "cell_type": "markdown",
   "metadata": {
    "deletable": true,
    "editable": true
   },
   "source": [
    "The *alphabet* of a sequence defines what the characters mean"
   ]
  },
  {
   "cell_type": "code",
   "execution_count": 3,
   "metadata": {
    "collapsed": false,
    "deletable": true,
    "editable": true
   },
   "outputs": [],
   "source": [
    "from Bio.Alphabet import IUPAC \n",
    "\n",
    "# Who is IUPAC?"
   ]
  },
  {
   "cell_type": "markdown",
   "metadata": {
    "deletable": true,
    "editable": true,
    "slideshow": {
     "slide_type": "fragment"
    }
   },
   "source": [
    "IUPAC: https://en.wikipedia.org/wiki/International_Union_of_Pure_and_Applied_Chemistry"
   ]
  },
  {
   "cell_type": "markdown",
   "metadata": {
    "deletable": true,
    "editable": true,
    "slideshow": {
     "slide_type": "slide"
    }
   },
   "source": [
    "### Accessing Sequence Data"
   ]
  },
  {
   "cell_type": "markdown",
   "metadata": {
    "deletable": true,
    "editable": true
   },
   "source": [
    "The sequence objects in BioPython, or `Seq` objects, act a lot like Python strings."
   ]
  },
  {
   "cell_type": "code",
   "execution_count": 4,
   "metadata": {
    "collapsed": false,
    "deletable": true,
    "editable": true
   },
   "outputs": [
    {
     "data": {
      "text/plain": [
       "'G'"
      ]
     },
     "execution_count": 4,
     "metadata": {},
     "output_type": "execute_result"
    }
   ],
   "source": [
    "s[0]  # This returns a string"
   ]
  },
  {
   "cell_type": "code",
   "execution_count": 5,
   "metadata": {
    "collapsed": false,
    "deletable": true,
    "editable": true
   },
   "outputs": [
    {
     "data": {
      "text/plain": [
       "Seq('TT', Alphabet())"
      ]
     },
     "execution_count": 5,
     "metadata": {},
     "output_type": "execute_result"
    }
   ],
   "source": [
    "s[2:4] # This returns sequence"
   ]
  },
  {
   "cell_type": "code",
   "execution_count": 6,
   "metadata": {
    "collapsed": false,
    "deletable": true,
    "editable": true
   },
   "outputs": [
    {
     "data": {
      "text/plain": [
       "Seq('gattaca', Alphabet())"
      ]
     },
     "execution_count": 6,
     "metadata": {},
     "output_type": "execute_result"
    }
   ],
   "source": [
    "s.lower()"
   ]
  },
  {
   "cell_type": "code",
   "execution_count": 7,
   "metadata": {
    "collapsed": false,
    "deletable": true,
    "editable": true
   },
   "outputs": [
    {
     "data": {
      "text/plain": [
       "Seq('GATTACAGATTACA', Alphabet())"
      ]
     },
     "execution_count": 7,
     "metadata": {},
     "output_type": "execute_result"
    }
   ],
   "source": [
    "s + s"
   ]
  },
  {
   "cell_type": "markdown",
   "metadata": {
    "deletable": true,
    "editable": true,
    "slideshow": {
     "slide_type": "slide"
    }
   },
   "source": [
    "### The Central Dogma"
   ]
  },
  {
   "cell_type": "markdown",
   "metadata": {
    "deletable": true,
    "editable": true
   },
   "source": [
    "Another blast from the past. But now we can do this using Python."
   ]
  },
  {
   "cell_type": "markdown",
   "metadata": {
    "deletable": true,
    "editable": true
   },
   "source": [
    "```\n",
    "DNA coding strand (aka Crick strand, strand +1)\t \n",
    "5’\tATGGCCATTGTAATGGGCCGCTGAAAGGGTGCCCGATAG\t3’\n",
    " \t|||||||||||||||||||||||||||||||||||||||\t \n",
    "3’\tTACCGGTAACATTACCCGGCGACTTTCCCACGGGCTATC\t5’\n",
    " \tDNA template strand (aka Watson strand, strand −1)\t \n",
    "                        |\t \n",
    "                    Transcription\t \n",
    "                        ↓\t \n",
    " \n",
    "5’\tAUGGCCAUUGUAAUGGGCCGCUGAAAGGGUGCCCGAUAG\t3’\n",
    " \tSingle stranded messenger RNA\t \n",
    "                        |\t \n",
    "                   Translation\t \n",
    "                        ↓\t \n",
    "                  MAIVMGR*KGAR*\n",
    "        amino acid sequence (w/stop codons)\n",
    " ```"
   ]
  },
  {
   "cell_type": "code",
   "execution_count": 8,
   "metadata": {
    "collapsed": false,
    "deletable": true,
    "editable": true
   },
   "outputs": [
    {
     "name": "stdout",
     "output_type": "stream",
     "text": [
      "CTAATGTCTAATGTCTAATGT TGTAATCTGTAATCTGTAATC\n"
     ]
    }
   ],
   "source": [
    "dna = Seq('GATTACAGATTACAGATTACA')\n",
    "\n",
    "print(dna.complement(), dna.reverse_complement())"
   ]
  },
  {
   "cell_type": "markdown",
   "metadata": {
    "deletable": true,
    "editable": true,
    "slideshow": {
     "slide_type": "slide"
    }
   },
   "source": [
    "`Seq` objects may largely behave like strings, but they have all sorts of additional methods that make them extremely useful and convenient for sequence analysis."
   ]
  },
  {
   "cell_type": "code",
   "execution_count": 9,
   "metadata": {
    "collapsed": false,
    "deletable": true,
    "editable": true
   },
   "outputs": [
    {
     "name": "stdout",
     "output_type": "stream",
     "text": [
      "GATTACAGATTACAGATTACA\n"
     ]
    }
   ],
   "source": [
    "print(dna)"
   ]
  },
  {
   "cell_type": "code",
   "execution_count": 10,
   "metadata": {
    "collapsed": false,
    "deletable": true,
    "editable": true
   },
   "outputs": [
    {
     "name": "stdout",
     "output_type": "stream",
     "text": [
      "GAUUACAGAUUACAGAUUACA\n"
     ]
    }
   ],
   "source": [
    "rna = dna.transcribe()  # No need for a transcriptase!\n",
    "print(rna)"
   ]
  },
  {
   "cell_type": "code",
   "execution_count": 11,
   "metadata": {
    "collapsed": false,
    "deletable": true,
    "editable": true
   },
   "outputs": [
    {
     "name": "stdout",
     "output_type": "stream",
     "text": [
      "DYRLQIT\n"
     ]
    }
   ],
   "source": [
    "protein = rna.translate()\n",
    "print(protein)"
   ]
  },
  {
   "cell_type": "code",
   "execution_count": 12,
   "metadata": {
    "collapsed": false,
    "deletable": true,
    "editable": true
   },
   "outputs": [
    {
     "name": "stdout",
     "output_type": "stream",
     "text": [
      "DYRLQIT\n"
     ]
    }
   ],
   "source": [
    "print(dna.translate())   # Can go straight from the DNA to amino acid sequences."
   ]
  },
  {
   "cell_type": "markdown",
   "metadata": {
    "deletable": true,
    "editable": true,
    "slideshow": {
     "slide_type": "slide"
    }
   },
   "source": [
    "### Codon Tables"
   ]
  },
  {
   "cell_type": "markdown",
   "metadata": {
    "deletable": true,
    "editable": true
   },
   "source": [
    "Yes, *plural*. Did you think there was only one codon table?"
   ]
  },
  {
   "cell_type": "markdown",
   "metadata": {
    "deletable": true,
    "editable": true
   },
   "source": [
    "By default the standard translation table is used, but others can be provided to the `translate` method."
   ]
  },
  {
   "cell_type": "code",
   "execution_count": 13,
   "metadata": {
    "collapsed": false,
    "deletable": true,
    "editable": true
   },
   "outputs": [
    {
     "name": "stdout",
     "output_type": "stream",
     "text": [
      "['Alternative Flatworm Mitochondrial', 'Alternative Yeast Nuclear', 'Archaeal', 'Ascidian Mitochondrial', 'Bacterial', 'Blepharisma Macronuclear', 'Candidate Division SR1', 'Chlorophycean Mitochondrial', 'Ciliate Nuclear', 'Coelenterate Mitochondrial', 'Dasycladacean Nuclear', 'Echinoderm Mitochondrial', 'Euplotid Nuclear', 'Flatworm Mitochondrial', 'Gracilibacteria', 'Hexamita Nuclear', 'Invertebrate Mitochondrial', 'Mold Mitochondrial', 'Mycoplasma', 'Pachysolen tannophilus Nuclear Code', 'Plant Plastid', 'Protozoan Mitochondrial', 'Pterobranchia Mitochondrial', 'SGC0', 'SGC1', 'SGC2', 'SGC3', 'SGC4', 'SGC5', 'SGC8', 'SGC9', 'Scenedesmus obliquus Mitochondrial', 'Spiroplasma', 'Standard', 'Thraustochytrium Mitochondrial', 'Trematode Mitochondrial', 'Vertebrate Mitochondrial', 'Yeast Mitochondrial']\n"
     ]
    }
   ],
   "source": [
    "from Bio.Data import CodonTable\n",
    "print(sorted(CodonTable.unambiguous_dna_by_name.keys()))"
   ]
  },
  {
   "cell_type": "code",
   "execution_count": 14,
   "metadata": {
    "collapsed": false,
    "deletable": true,
    "editable": true,
    "slideshow": {
     "slide_type": "slide"
    }
   },
   "outputs": [
    {
     "name": "stdout",
     "output_type": "stream",
     "text": [
      "Table 1 Standard, SGC0\n",
      "\n",
      "  |  T      |  C      |  A      |  G      |\n",
      "--+---------+---------+---------+---------+--\n",
      "T | TTT F   | TCT S   | TAT Y   | TGT C   | T\n",
      "T | TTC F   | TCC S   | TAC Y   | TGC C   | C\n",
      "T | TTA L   | TCA S   | TAA Stop| TGA Stop| A\n",
      "T | TTG L(s)| TCG S   | TAG Stop| TGG W   | G\n",
      "--+---------+---------+---------+---------+--\n",
      "C | CTT L   | CCT P   | CAT H   | CGT R   | T\n",
      "C | CTC L   | CCC P   | CAC H   | CGC R   | C\n",
      "C | CTA L   | CCA P   | CAA Q   | CGA R   | A\n",
      "C | CTG L(s)| CCG P   | CAG Q   | CGG R   | G\n",
      "--+---------+---------+---------+---------+--\n",
      "A | ATT I   | ACT T   | AAT N   | AGT S   | T\n",
      "A | ATC I   | ACC T   | AAC N   | AGC S   | C\n",
      "A | ATA I   | ACA T   | AAA K   | AGA R   | A\n",
      "A | ATG M(s)| ACG T   | AAG K   | AGG R   | G\n",
      "--+---------+---------+---------+---------+--\n",
      "G | GTT V   | GCT A   | GAT D   | GGT G   | T\n",
      "G | GTC V   | GCC A   | GAC D   | GGC G   | C\n",
      "G | GTA V   | GCA A   | GAA E   | GGA G   | A\n",
      "G | GTG V   | GCG A   | GAG E   | GGG G   | G\n",
      "--+---------+---------+---------+---------+--\n"
     ]
    }
   ],
   "source": [
    "print(CodonTable.unambiguous_dna_by_name['Standard'])  # What does this structure look like?"
   ]
  },
  {
   "cell_type": "markdown",
   "metadata": {
    "deletable": true,
    "editable": true,
    "slideshow": {
     "slide_type": "slide"
    }
   },
   "source": [
    "### SeqRecord objects"
   ]
  },
  {
   "cell_type": "markdown",
   "metadata": {
    "deletable": true,
    "editable": true
   },
   "source": [
    "Sequence data is read/written as `SeqRecord` objects."
   ]
  },
  {
   "cell_type": "markdown",
   "metadata": {
    "deletable": true,
    "editable": true
   },
   "source": [
    "These objects store additional information about the sequence (name, id, description, features)."
   ]
  },
  {
   "cell_type": "markdown",
   "metadata": {
    "deletable": true,
    "editable": true
   },
   "source": [
    "`SeqIO` reads sequence records: \n",
    "  * must specify format\n",
    "  * `read` to read a file with a single record\n",
    "  * `parse` to iterate over file with mulitple records"
   ]
  },
  {
   "cell_type": "markdown",
   "metadata": {
    "deletable": true,
    "editable": true,
    "slideshow": {
     "slide_type": "fragment"
    }
   },
   "source": [
    "**Python file I/O!**"
   ]
  },
  {
   "cell_type": "code",
   "execution_count": 15,
   "metadata": {
    "collapsed": false,
    "deletable": true,
    "editable": true,
    "slideshow": {
     "slide_type": "slide"
    }
   },
   "outputs": [],
   "source": [
    "from Bio.SeqRecord import SeqRecord\n",
    "from Bio import SeqIO\n",
    "\n",
    "seq = SeqIO.read('p53.gb','genbank')\n",
    "seqs = []\n",
    "\n",
    "# http://eds-uga.github.io/cbio4835-sp17/files/p53.gb\n",
    "# http://eds-uga.github.io/cbio4835-sp17/files/hydra.fasta\n",
    "\n",
    "for s in SeqIO.parse('hydra.fasta','fasta'):\n",
    "    seqs.append(s)"
   ]
  },
  {
   "cell_type": "code",
   "execution_count": 16,
   "metadata": {
    "collapsed": false,
    "deletable": true,
    "editable": true
   },
   "outputs": [
    {
     "name": "stdout",
     "output_type": "stream",
     "text": [
      "40\n"
     ]
    }
   ],
   "source": [
    "print(len(seqs))"
   ]
  },
  {
   "cell_type": "code",
   "execution_count": 17,
   "metadata": {
    "collapsed": false,
    "deletable": true,
    "editable": true,
    "slideshow": {
     "slide_type": "fragment"
    }
   },
   "outputs": [
    {
     "name": "stdout",
     "output_type": "stream",
     "text": [
      "ID: NG_017013.2\n",
      "Name: NG_017013\n",
      "Description: Homo sapiens tumor protein p53 (TP53), RefSeqGene (LRG_321) on chromosome 17.\n",
      "Number of features: 37\n",
      "/topology=linear\n",
      "/comment=REVIEWED REFSEQ: This record has been curated by NCBI staff in\n",
      "collaboration with Magali Olivier, Thierry Soussi, Jean-Christophe\n",
      "Bourdon, Nazneen Rahman. The reference sequence was derived from\n",
      "AC087388.9 and AC007421.13.\n",
      "This sequence is a reference standard in the RefSeqGene project.\n",
      "On Apr 3, 2012 this sequence version replaced gi:293651587.\n",
      "Summary: This gene encodes a tumor suppressor protein containing\n",
      "transcriptional activation, DNA binding, and oligomerization\n",
      "domains. The encoded protein responds to diverse cellular stresses\n",
      "to regulate expression of target genes, thereby inducing cell cycle\n",
      "arrest, apoptosis, senescence, DNA repair, or changes in\n",
      "metabolism. Mutations in this gene are associated with a variety of\n",
      "human cancers, including hereditary cancers such as Li-Fraumeni\n",
      "syndrome. Alternative splicing of this gene and the use of\n",
      "alternate promoters result in multiple transcript variants and\n",
      "isoforms. Additional isoforms have also been shown to result from\n",
      "the use of alternate translation initiation codons (PMIDs:\n",
      "12032546, 20937277). [provided by RefSeq, Feb 2013].\n",
      "Publication Note:  This RefSeq record includes a subset of the\n",
      "publications that are available for this gene. Please see the Gene\n",
      "record to access additional publications.\n",
      "COMPLETENESS: complete on the 3' end.\n",
      "/source=Homo sapiens (human)\n",
      "/sequence_version=2\n",
      "/data_file_division=PRI\n",
      "/date=18-MAY-2014\n",
      "/gi=383209646\n",
      "/accessions=['NG_017013', 'REGION:', '5001..24149']\n",
      "/references=[Reference(title='G-quadruplex structures in TP53 intron 3: role in alternative splicing and in production of p53 mRNA isoforms', ...), Reference(title='Delta160p53 is a novel N-terminal p53 isoform encoded by Delta133p53 transcript', ...), Reference(title='Does the nonsense-mediated mRNA decay mechanism prevent the synthesis of truncated BRCA1, CHK2, and p53 proteins?', ...), Reference(title='p53 Family isoforms', ...), Reference(title='Li-Fraumeni Syndrome', ...), Reference(title='Characterization of the human p53 gene', ...), Reference(title='Localization of gene for human p53 tumour antigen to band 17p13', ...), Reference(title='Transformation associated p53 protein is encoded by a gene on human chromosome 17', ...), Reference(title='Molecular cloning and in vitro expression of a cDNA clone for human cellular tumor antigen p53', ...), Reference(title='Human p53 cellular tumor antigen: cDNA sequence and expression in COS cells', ...)]\n",
      "/keywords=['RefSeq', 'RefSeqGene']\n",
      "/organism=Homo sapiens\n",
      "/taxonomy=['Eukaryota', 'Metazoa', 'Chordata', 'Craniata', 'Vertebrata', 'Euteleostomi', 'Mammalia', 'Eutheria', 'Euarchontoglires', 'Primates', 'Haplorrhini', 'Catarrhini', 'Hominidae', 'Homo']\n",
      "Seq('GATGGGATTGGGGTTTTCCCCTCCCATGTGCTCAAGACTGGCGCTAAAAGTTTT...GTG', IUPACAmbiguousDNA())\n"
     ]
    }
   ],
   "source": [
    "print(seq)"
   ]
  },
  {
   "cell_type": "markdown",
   "metadata": {
    "deletable": true,
    "editable": true,
    "slideshow": {
     "slide_type": "slide"
    }
   },
   "source": [
    "### Searching Sequences"
   ]
  },
  {
   "cell_type": "markdown",
   "metadata": {
    "deletable": true,
    "editable": true
   },
   "source": [
    "These files are available through the course website and repository if you'd like to use them."
   ]
  },
  {
   "cell_type": "markdown",
   "metadata": {
    "deletable": true,
    "editable": true
   },
   "source": [
    "However, BioPython lets you fetch sequences automatically directly off the internet, through an interface to the [NCBI \"Entrez\" search engine](http://www.ncbi.nlm.nih.gov/sites/gquery)."
   ]
  },
  {
   "cell_type": "markdown",
   "metadata": {
    "deletable": true,
    "editable": true
   },
   "source": [
    "The results of these queries are returned as file-like objects."
   ]
  },
  {
   "cell_type": "markdown",
   "metadata": {
    "deletable": true,
    "editable": true,
    "slideshow": {
     "slide_type": "slide"
    }
   },
   "source": [
    "Just import the `Entrez` interface:"
   ]
  },
  {
   "cell_type": "code",
   "execution_count": 18,
   "metadata": {
    "collapsed": false,
    "deletable": true,
    "editable": true
   },
   "outputs": [
    {
     "name": "stdout",
     "output_type": "stream",
     "text": [
      "{'DbList': ['pubmed', 'protein', 'nuccore', 'nucleotide', 'nucgss', 'nucest', 'structure', 'sparcle', 'genome', 'annotinfo', 'assembly', 'bioproject', 'biosample', 'blastdbinfo', 'books', 'cdd', 'clinvar', 'clone', 'gap', 'gapplus', 'grasp', 'dbvar', 'gene', 'gds', 'geoprofiles', 'homologene', 'medgen', 'mesh', 'ncbisearch', 'nlmcatalog', 'omim', 'orgtrack', 'pmc', 'popset', 'probe', 'proteinclusters', 'pcassay', 'biosystems', 'pccompound', 'pcsubstance', 'pubmedhealth', 'seqannot', 'snp', 'sra', 'taxonomy', 'unigene', 'gencoll', 'gtr']}\n"
     ]
    }
   ],
   "source": [
    "from Bio import Entrez\n",
    "Entrez.email = \"squinn@cs.uga.edu\" # BioPython forces you to provide your email\n",
    "res = Entrez.read(Entrez.einfo())  # The names of all available databases\n",
    "print(res)"
   ]
  },
  {
   "cell_type": "code",
   "execution_count": 19,
   "metadata": {
    "collapsed": false,
    "deletable": true,
    "editable": true
   },
   "outputs": [
    {
     "name": "stdout",
     "output_type": "stream",
     "text": [
      "['annotinfo', 'assembly', 'bioproject', 'biosample', 'biosystems', 'blastdbinfo', 'books', 'cdd', 'clinvar', 'clone', 'dbvar', 'gap', 'gapplus', 'gds', 'gencoll', 'gene', 'genome', 'geoprofiles', 'grasp', 'gtr', 'homologene', 'medgen', 'mesh', 'ncbisearch', 'nlmcatalog', 'nuccore', 'nucest', 'nucgss', 'nucleotide', 'omim', 'orgtrack', 'pcassay', 'pccompound', 'pcsubstance', 'pmc', 'popset', 'probe', 'protein', 'proteinclusters', 'pubmed', 'pubmedhealth', 'seqannot', 'snp', 'sparcle', 'sra', 'structure', 'taxonomy', 'unigene']\n"
     ]
    }
   ],
   "source": [
    "print(sorted(res['DbList']))"
   ]
  },
  {
   "cell_type": "markdown",
   "metadata": {
    "deletable": true,
    "editable": true,
    "slideshow": {
     "slide_type": "slide"
    }
   },
   "source": [
    "You can search any of the available databases for a given term, and it will return the IDs of all the relevant records."
   ]
  },
  {
   "cell_type": "markdown",
   "metadata": {
    "deletable": true,
    "editable": true
   },
   "source": [
    "This is done through the `esearch` method in the `Entrez` submodule."
   ]
  },
  {
   "cell_type": "code",
   "execution_count": 20,
   "metadata": {
    "collapsed": false,
    "deletable": true,
    "editable": true
   },
   "outputs": [
    {
     "name": "stdout",
     "output_type": "stream",
     "text": [
      "{'RetMax': '20', 'Count': '7457', 'TranslationStack': [{'Term': 'tp53[All Fields]', 'Field': 'All Fields', 'Explode': 'N', 'Count': '7457'}, 'GROUP'], 'TranslationSet': [], 'IdList': ['123959767', '54792141', '1147690151', '1147390868', '1147371848', '1147371063', '1147370158', '1147370155', '1147370152', '1147284217', '1147284026', '1147281628', '1147255345', '1147255343', '1147255170', '1143017308', '1143016088', '1143015864', '1143014988', '1143014939'], 'QueryTranslation': 'tp53[All Fields]', 'RetStart': '0'}\n"
     ]
    }
   ],
   "source": [
    "result = Entrez.esearch(db = 'nucleotide', term = 'tp53')\n",
    "# The result is a file-like object of the raw XML data\n",
    "\n",
    "records = Entrez.read(result)\n",
    "# This puts the object into a more palatable form (dictionary)\n",
    "\n",
    "print(records)"
   ]
  },
  {
   "cell_type": "code",
   "execution_count": 21,
   "metadata": {
    "collapsed": false,
    "deletable": true,
    "editable": true
   },
   "outputs": [
    {
     "name": "stdout",
     "output_type": "stream",
     "text": [
      "['123959767', '54792141', '1147690151', '1147390868', '1147371848', '1147371063', '1147370158', '1147370155', '1147370152', '1147284217', '1147284026', '1147281628', '1147255345', '1147255343', '1147255170', '1143017308', '1143016088', '1143015864', '1143014988', '1143014939']\n",
      "20\n"
     ]
    }
   ],
   "source": [
    "print(records['IdList'])\n",
    "print(len(records['IdList']))"
   ]
  },
  {
   "cell_type": "markdown",
   "metadata": {
    "deletable": true,
    "editable": true,
    "slideshow": {
     "slide_type": "slide"
    }
   },
   "source": [
    "In the previous slide, only 20 results were actually returned. However, there were considerably more hits than that--2,923 to be exact."
   ]
  },
  {
   "cell_type": "markdown",
   "metadata": {
    "deletable": true,
    "editable": true
   },
   "source": [
    "They weren't returned [immediately] because of the online nature of the query. Luckily, [this is something we can tweak](http://www.ncbi.nlm.nih.gov/books/NBK25499/#chapter4.ESearch)."
   ]
  },
  {
   "cell_type": "code",
   "execution_count": 22,
   "metadata": {
    "collapsed": false,
    "deletable": true,
    "editable": true
   },
   "outputs": [
    {
     "name": "stdout",
     "output_type": "stream",
     "text": [
      "{'RetMax': '50', 'Count': '7457', 'TranslationStack': [{'Term': 'tp53[All Fields]', 'Field': 'All Fields', 'Explode': 'N', 'Count': '7457'}, 'GROUP'], 'TranslationSet': [], 'IdList': ['123959767', '54792141', '1147690151', '1147390868', '1147371848', '1147371063', '1147370158', '1147370155', '1147370152', '1147284217', '1147284026', '1147281628', '1147255345', '1147255343', '1147255170', '1143017308', '1143016088', '1143015864', '1143014988', '1143014939', '1143014901', '1143012217', '1142984843', '908661396', '1143421917', '1143420384', '1143409309', '1143406388', '1143406386', '1143382759', '1137562549', '1137562520', '1137562503', '1137561523', '1137561198', '685156931', '685156929', '571026673', '571026671', '205361188', '1133563937', '1133563800', '1139437910', '1139435148', '1139424333', '761388684', '1137549668', '1137549667', '1137549666', '1137547598'], 'QueryTranslation': 'tp53[All Fields]', 'RetStart': '0'}\n",
      "50\n"
     ]
    }
   ],
   "source": [
    "records = Entrez.read(Entrez.esearch(db = 'nucleotide', term = 'tp53', retmax = 50))\n",
    "print(records)\n",
    "print(len(records['IdList']))"
   ]
  },
  {
   "cell_type": "markdown",
   "metadata": {
    "deletable": true,
    "editable": true,
    "slideshow": {
     "slide_type": "slide"
    }
   },
   "source": [
    "### Fetching Sequences"
   ]
  },
  {
   "cell_type": "markdown",
   "metadata": {
    "deletable": true,
    "editable": true
   },
   "source": [
    "To get the full record for a given ID, we'll use the `efetch` function."
   ]
  },
  {
   "cell_type": "markdown",
   "metadata": {
    "deletable": true,
    "editable": true
   },
   "source": [
    "To use this function, we have to provide `rettype`  ([available options](http://www.ncbi.nlm.nih.gov/books/NBK25499/table/chapter4.T._valid_values_of__retmode_and/?report=objectonly) include FASTA and gb)."
   ]
  },
  {
   "cell_type": "markdown",
   "metadata": {
    "deletable": true,
    "editable": true
   },
   "source": [
    "We also have to specify `retmode`, which can be plan text or XML."
   ]
  },
  {
   "cell_type": "code",
   "execution_count": 23,
   "metadata": {
    "collapsed": false,
    "deletable": true,
    "editable": true,
    "slideshow": {
     "slide_type": "slide"
    }
   },
   "outputs": [],
   "source": [
    "# Fetch the genbank file for the 10th ID from our search\n",
    "result = Entrez.efetch(db = \"nucleotide\", id = records['IdList'][10], rettype = \"gb\", retmode = 'text')\n",
    "\n",
    "# Parse into a seqrecord\n",
    "p53 = SeqIO.read(result,'gb')"
   ]
  },
  {
   "cell_type": "code",
   "execution_count": 24,
   "metadata": {
    "collapsed": false,
    "deletable": true,
    "editable": true,
    "slideshow": {
     "slide_type": "fragment"
    }
   },
   "outputs": [
    {
     "name": "stdout",
     "output_type": "stream",
     "text": [
      "ID: XM_020168006.1\n",
      "Name: XM_020168006\n",
      "Description: PREDICTED: Castor canadensis TP53 target 5 (Tp53tg5), mRNA.\n",
      "Database cross-references: BioProject:PRJNA371604\n",
      "Number of features: 3\n",
      "/topology=linear\n",
      "/structured_comment=defaultdict(<class 'dict'>, {'Genome-Annotation-Data': {'Annotation Software Version': '7.3', 'Annotation Method': 'Best-placed RefSeq; Gnomon', 'Annotation Provider': 'NCBI', 'Annotation Version': 'Castor canadensis Annotation Release', 'Annotation Status': 'Full annotation', 'Features Annotated': 'Gene; mRNA; CDS; ncRNA', 'Annotation Pipeline': 'NCBI eukaryotic genome annotation'}, 'RefSeq-Attributes': {'internal stop codons': 'corrected 1 genomic stop codon', 'ab initio': '8% of CDS bases', 'frameshifts': 'corrected 1 indel'}})\n",
      "/comment=MODEL REFSEQ:  This record is predicted by automated computational\n",
      "analysis. This record is derived from a genomic sequence\n",
      "(NW_017870857.1) annotated using gene prediction method: Gnomon.\n",
      "Also see:\n",
      "    Documentation of NCBI's Annotation Process\n",
      "                               100\n",
      "                               pipeline\n",
      "/accessions=['XM_020168006']\n",
      "/source=Castor canadensis (American beaver)\n",
      "/sequence_version=1\n",
      "/keywords=['RefSeq', 'corrected model', 'includes ab initio']\n",
      "/taxonomy=['Eukaryota', 'Metazoa', 'Chordata', 'Craniata', 'Vertebrata', 'Euteleostomi', 'Mammalia', 'Eutheria', 'Euarchontoglires', 'Glires', 'Rodentia', 'Sciurognathi', 'Castoridae', 'Castor']\n",
      "/organism=Castor canadensis\n",
      "/data_file_division=ROD\n",
      "/date=15-FEB-2017\n",
      "Seq('TTAAGAATTTCTTTATTCCATCACTTAGAAAAGAACCTGGCATGCAGCAATACA...AAA', IUPACAmbiguousDNA())\n"
     ]
    }
   ],
   "source": [
    "print(p53)"
   ]
  },
  {
   "cell_type": "markdown",
   "metadata": {
    "deletable": true,
    "editable": true,
    "slideshow": {
     "slide_type": "slide"
    }
   },
   "source": [
    "### Features"
   ]
  },
  {
   "cell_type": "markdown",
   "metadata": {
    "deletable": true,
    "editable": true
   },
   "source": [
    "Genbank files are typically annotated with a ton of additional features that refer to portions of the full sequence."
   ]
  },
  {
   "cell_type": "markdown",
   "metadata": {
    "deletable": true,
    "editable": true
   },
   "source": [
    "`SeqRecord` objects track these features, allowing you to extract the corresponding subsequence."
   ]
  },
  {
   "cell_type": "code",
   "execution_count": 25,
   "metadata": {
    "collapsed": false,
    "deletable": true,
    "editable": true
   },
   "outputs": [
    {
     "data": {
      "text/plain": [
       "[SeqFeature(FeatureLocation(ExactPosition(0), ExactPosition(1806), strand=1), type='source'),\n",
       " SeqFeature(FeatureLocation(ExactPosition(0), ExactPosition(1806), strand=1), type='gene'),\n",
       " SeqFeature(FeatureLocation(ExactPosition(778), ExactPosition(1645), strand=1), type='CDS')]"
      ]
     },
     "execution_count": 25,
     "metadata": {},
     "output_type": "execute_result"
    }
   ],
   "source": [
    "p53.features"
   ]
  },
  {
   "cell_type": "markdown",
   "metadata": {
    "deletable": true,
    "editable": true
   },
   "source": [
    "(*CDS* is a coding sequence!)"
   ]
  },
  {
   "cell_type": "markdown",
   "metadata": {
    "deletable": true,
    "editable": true,
    "slideshow": {
     "slide_type": "slide"
    }
   },
   "source": [
    "You can then extract these subsequences like you would an element from a list:"
   ]
  },
  {
   "cell_type": "code",
   "execution_count": 26,
   "metadata": {
    "collapsed": false,
    "deletable": true,
    "editable": true
   },
   "outputs": [
    {
     "name": "stdout",
     "output_type": "stream",
     "text": [
      "type: CDS\n",
      "location: [778:1645](+)\n",
      "qualifiers:\n",
      "    Key: codon_start, Value: ['1']\n",
      "    Key: db_xref, Value: ['GeneID:109689248']\n",
      "    Key: gene, Value: ['Tp53tg5']\n",
      "    Key: note, Value: ['The sequence of the model RefSeq protein was modified relative to its source genomic sequence to represent the inferred CDS: inserted 1 base in 1 codon; substituted 1 base at 1 genomic stop codon']\n",
      "    Key: product, Value: ['LOW QUALITY PROTEIN: TP53-target gene 5 protein']\n",
      "    Key: protein_id, Value: ['XP_020023595.1']\n",
      "    Key: transl_except, Value: ['(pos:1547..1549,aa:OTHER)']\n",
      "    Key: translation, Value: ['MQDQKLRDNIKEPASKLIELSRLKMVLRNLSLLKLFKSSNGRIQELHHLARKCWNSILRFPKILEISSGLYSIIMRIMGLTQLSWDQGLNPALLTVFHLSVRDNNICNKVKENNELQEARSLEKQMESTREPEETRPKNLRPKVGTKAKRSPVAEPWEEKQMQPEDPRTSSTGAHRRQLHTGGSHVIFLKTSHHRTPMGDMKLLDVTDKSIWFEGLPTRIHLPGPRIMCRSSNLRWVKRCCTRFCSASLELSMCHPXVDVTVPLPGPGWRSXNQLNGRDGRENSRVYK']\n",
      "\n"
     ]
    }
   ],
   "source": [
    "cdsfeature = p53.features[2]\n",
    "print(cdsfeature)"
   ]
  },
  {
   "cell_type": "markdown",
   "metadata": {
    "deletable": true,
    "editable": true,
    "slideshow": {
     "slide_type": "slide"
    }
   },
   "source": [
    "Using the feature, you can extract the subsequence from the original full sequence."
   ]
  },
  {
   "cell_type": "code",
   "execution_count": 27,
   "metadata": {
    "collapsed": false,
    "deletable": true,
    "editable": true
   },
   "outputs": [
    {
     "name": "stdout",
     "output_type": "stream",
     "text": [
      "ID: XM_020168006.1\n",
      "Name: XM_020168006\n",
      "Description: PREDICTED: Castor canadensis TP53 target 5 (Tp53tg5), mRNA.\n",
      "Number of features: 1\n",
      "Seq('ATGCAAGACCAGAAACTGCGGGACAACATAAAGGAGCCTGCCAGCAAATTAATT...TAA', IUPACAmbiguousDNA())\n"
     ]
    }
   ],
   "source": [
    "coding = cdsfeature.extract(p53) # Pass the full record (p53) to the feature\n",
    "print(coding)"
   ]
  },
  {
   "cell_type": "markdown",
   "metadata": {
    "deletable": true,
    "editable": true,
    "slideshow": {
     "slide_type": "slide"
    }
   },
   "source": [
    "### BLAST!"
   ]
  },
  {
   "cell_type": "markdown",
   "metadata": {
    "deletable": true,
    "editable": true
   },
   "source": [
    "BioPython also allows you to use [NCBI's BLAST](http://blast.ncbi.nlm.nih.gov/Blast.cgi) to search for similar sequences with the `qblast` function."
   ]
  },
  {
   "cell_type": "markdown",
   "metadata": {
    "deletable": true,
    "editable": true
   },
   "source": [
    "This function has three required arguments:\n",
    " * **program**: blastn, blastp, blastx, tblastn, tblastx\n",
    " * **database**: see website\n",
    " * **sequence**: a sequence object"
   ]
  },
  {
   "cell_type": "markdown",
   "metadata": {
    "deletable": true,
    "editable": true,
    "slideshow": {
     "slide_type": "slide"
    }
   },
   "source": [
    "A couple of examples:"
   ]
  },
  {
   "cell_type": "code",
   "execution_count": 28,
   "metadata": {
    "collapsed": true,
    "deletable": true,
    "editable": true
   },
   "outputs": [],
   "source": [
    "from Bio.Blast import NCBIWWW\n",
    "\n",
    "result = NCBIWWW.qblast(\"blastn\", \"nt\", coding.seq)\n",
    "\n",
    "# The variable \"result\" is a file-like object with XML in it\n",
    "# BE WARNED: it can take a while to get results!\n",
    "# Note whether there is a NUMBER or a STAR next to your JupyterHub cell!"
   ]
  },
  {
   "cell_type": "code",
   "execution_count": 29,
   "metadata": {
    "collapsed": true,
    "deletable": true,
    "editable": true
   },
   "outputs": [],
   "source": [
    "from Bio.Blast import NCBIXML # For parsing xmls\n",
    "blast_records = NCBIXML.read(result)"
   ]
  },
  {
   "cell_type": "code",
   "execution_count": 30,
   "metadata": {
    "collapsed": false,
    "deletable": true,
    "editable": true
   },
   "outputs": [
    {
     "name": "stdout",
     "output_type": "stream",
     "text": [
      "50 50\n"
     ]
    }
   ],
   "source": [
    "print(len(blast_records.alignments), len(blast_records.descriptions))"
   ]
  },
  {
   "cell_type": "code",
   "execution_count": 31,
   "metadata": {
    "collapsed": false,
    "deletable": true,
    "editable": true,
    "slideshow": {
     "slide_type": "slide"
    }
   },
   "outputs": [
    {
     "name": "stdout",
     "output_type": "stream",
     "text": [
      "1\n"
     ]
    }
   ],
   "source": [
    "alignment = blast_records.alignments[1]\n",
    "print(len(alignment.hsps))"
   ]
  },
  {
   "cell_type": "code",
   "execution_count": 32,
   "metadata": {
    "collapsed": false,
    "deletable": true,
    "editable": true
   },
   "outputs": [
    {
     "name": "stdout",
     "output_type": "stream",
     "text": [
      "****Alignment****\n",
      "sequence: gi|744560427|ref|XM_010978666.1| PREDICTED: Camelus dromedarius TP53 target 5 (TP53TG5), mRNA\n",
      "length: 1297\n",
      "e value: 3.59825e-115\n",
      "CAAGACCAGAAACTGCGGGACAACATAAAGGAGCCTGCCAGCAAATTAATTGAACTGAGCCGACTTAAAATGGTG...\n",
      "|||||  || |||  | |||||| ||| || |||||| ||||||| ||||||| | || ||||||||||||||||...\n",
      "CAAGATGAGGAACCACAGGACAAGATACAGCAGCCTGTCAGCAAAGTAATTGAGCGGAACCGACTTAAAATGGTG...\n"
     ]
    }
   ],
   "source": [
    "hsp = alignment.hsps[0] #high scoring segment pairs\n",
    "print('****Alignment****')\n",
    "print('sequence:', alignment.title)\n",
    "print('length:', alignment.length)\n",
    "print('e value:', hsp.expect)\n",
    "print(hsp.query[0:75] + '...')  # what we searched with\n",
    "print(hsp.match[0:75] + '...')\n",
    "print(hsp.sbjct[0:75] + '...') # what we matched to"
   ]
  },
  {
   "cell_type": "markdown",
   "metadata": {
    "deletable": true,
    "editable": true,
    "slideshow": {
     "slide_type": "slide"
    }
   },
   "source": [
    "### Creating Alignments"
   ]
  },
  {
   "cell_type": "markdown",
   "metadata": {
    "deletable": true,
    "editable": true
   },
   "source": [
    "Biopython can use lots of different alignment algorithms, but it includes a pre-packaged that works decently well."
   ]
  },
  {
   "cell_type": "code",
   "execution_count": 33,
   "metadata": {
    "collapsed": false,
    "deletable": true,
    "editable": true,
    "slideshow": {
     "slide_type": "-"
    }
   },
   "outputs": [],
   "source": [
    "from Bio import pairwise2\n",
    "alignments = pairwise2.align.globalxx(\"ACCGT\", \"ACG\")"
   ]
  },
  {
   "cell_type": "markdown",
   "metadata": {
    "deletable": true,
    "editable": true,
    "slideshow": {
     "slide_type": "-"
    }
   },
   "source": [
    "This will return the list of alignments for the two sequences."
   ]
  },
  {
   "cell_type": "code",
   "execution_count": 34,
   "metadata": {
    "collapsed": false,
    "deletable": true,
    "editable": true
   },
   "outputs": [
    {
     "name": "stdout",
     "output_type": "stream",
     "text": [
      "ACCGT\n",
      "|||||\n",
      "A-CG-\n",
      "  Score=3\n",
      "\n",
      "ACCGT\n",
      "|||||\n",
      "AC-G-\n",
      "  Score=3\n",
      "\n"
     ]
    }
   ],
   "source": [
    "print(pairwise2.format_alignment(*alignments[0]))\n",
    "print(pairwise2.format_alignment(*alignments[1]))"
   ]
  },
  {
   "cell_type": "markdown",
   "metadata": {
    "deletable": true,
    "editable": true,
    "slideshow": {
     "slide_type": "-"
    }
   },
   "source": [
    "BioPython has a bunch of other alignment tools built-in, but they rely on external programs (some are HMM-based!)."
   ]
  },
  {
   "cell_type": "markdown",
   "metadata": {
    "deletable": true,
    "editable": true,
    "slideshow": {
     "slide_type": "slide"
    }
   },
   "source": [
    "### Phylogenetic Trees"
   ]
  },
  {
   "cell_type": "markdown",
   "metadata": {
    "deletable": true,
    "editable": true
   },
   "source": [
    "*A phylogenetic tree or evolutionary tree is a branching diagram or \"tree\" showing the inferred evolutionary relationships among various biological species or other entities—their phylogeny—based upon similarities and differences in their physical or genetic characteristics.* --Wikipedia"
   ]
  },
  {
   "cell_type": "markdown",
   "metadata": {
    "deletable": true,
    "editable": true
   },
   "source": [
    "Biopython can read a variety of tree formats: **Newick (clustal)**, NEXUS, phyloXML, NeXML, and CDAO."
   ]
  },
  {
   "cell_type": "code",
   "execution_count": 35,
   "metadata": {
    "collapsed": false,
    "deletable": true,
    "editable": true,
    "slideshow": {
     "slide_type": "-"
    }
   },
   "outputs": [
    {
     "data": {
      "text/plain": [
       "Tree(rooted=True, weight=1.0)"
      ]
     },
     "execution_count": 35,
     "metadata": {},
     "output_type": "execute_result"
    }
   ],
   "source": [
    "from Bio import Phylo\n",
    "tree = Phylo.read('hydra179.dnd','newick') # Must specify format.\n",
    "tree.rooted = True\n",
    "tree"
   ]
  },
  {
   "cell_type": "markdown",
   "metadata": {
    "deletable": true,
    "editable": true,
    "slideshow": {
     "slide_type": "slide"
    }
   },
   "source": [
    "Displaying the full phylogenetic trees can get a little interesting."
   ]
  },
  {
   "cell_type": "markdown",
   "metadata": {
    "deletable": true,
    "editable": true
   },
   "source": [
    "First, we can visualize them as pure ASCII, as the early internet would have intended:"
   ]
  },
  {
   "cell_type": "code",
   "execution_count": 36,
   "metadata": {
    "collapsed": false,
    "deletable": true,
    "editable": true
   },
   "outputs": [
    {
     "name": "stdout",
     "output_type": "stream",
     "text": [
      "                  ______ gi|302171738|gb|ADK97770.1|\n",
      "             ____|\n",
      "            |    |____ gi|302171740|gb|ADK97771.1|\n",
      "       _____|\n",
      "      |     |                               , gi|313105485|gb|ADR32101.1|\n",
      "      |     |_______________________________|\n",
      "      |                                     | gi|313105490|gb|ADR32105.1|\n",
      "      |\n",
      "      |     , gi|225423246|gb|ACN91129.1|\n",
      "      |     |\n",
      "      |     | gi|407380197|gb|AFU11414.1|\n",
      "      |     |\n",
      "      |     |, gi|302171754|gb|ADK97778.1|\n",
      "      |     ||\n",
      "      |     || gi|407380047|gb|AFU11341.1|\n",
      "      |     |\n",
      "      |    ,, gi|407380097|gb|AFU11366.1|\n",
      "      |    ||\n",
      "      |    || gi|407380101|gb|AFU11368.1|\n",
      "      |    ||\n",
      "      |    || gi|407380017|gb|AFU11326.1|\n",
      "      |    ||\n",
      "      |    || gi|407380135|gb|AFU11385.1|\n",
      "      |    ||\n",
      "      |    || gi|407380117|gb|AFU11376.1|\n",
      "      |    |\n",
      "      |    |, gi|407380023|gb|AFU11329.1|\n",
      "      |    ||\n",
      "      |    || gi|407380045|gb|AFU11340.1|\n",
      "      |    ||\n",
      "      |    || gi|302171762|gb|ADK97782.1|\n",
      "      |    |\n",
      "      |    |_ gi|407380093|gb|AFU11364.1|\n",
      "      |    |\n",
      "      |    | , gi|302171792|gb|ADK97797.1|\n",
      "      |    | |\n",
      "      |    |,| gi|302171794|gb|ADK97798.1|\n",
      "      |    |||\n",
      "      |    ||| gi|225423258|gb|ACN91135.1|\n",
      "      |    ||\n",
      "      |    ,| gi|407380183|gb|AFU11407.1|\n",
      "      |    ||\n",
      "      |    || gi|302171760|gb|ADK97781.1|\n",
      "      |    |\n",
      "      |    |__ gi|225423252|gb|ACN91132.1|\n",
      "      |    |\n",
      "      |    | , gi|407380005|gb|AFU11320.1|\n",
      "      |    | |\n",
      "      |    |_| gi|407380157|gb|AFU11396.1|\n",
      "      |    | |\n",
      "      |    | | gi|407380057|gb|AFU11346.1|\n",
      "      |    |\n",
      "      |    | , gi|302171782|gb|ADK97792.1|\n",
      "      |    | |\n",
      "      |    | | gi|407380151|gb|AFU11393.1|\n",
      "      |    | |\n",
      "    __|    |,| gi|407380113|gb|AFU11374.1|\n",
      "   |  |   ,|||\n",
      "   |  |   |||| gi|407380085|gb|AFU11360.1|\n",
      "   |  |   |||\n",
      "   |  |   |||, gi|407380139|gb|AFU11387.1|\n",
      "   |  |   ||||\n",
      "   |  |   |||| gi|407380181|gb|AFU11406.1|\n",
      "   |  |   |||\n",
      "   |  |   ||| gi|407380035|gb|AFU11335.1|\n",
      "   |  |   |||\n",
      "   |  |   |||_ gi|407380123|gb|AFU11379.1|\n",
      "   |  |   |||\n",
      "   |  |   ||| gi|407380187|gb|AFU11409.1|\n",
      "   |  |   ||\n",
      "   |  |   ||, gi|225423250|gb|ACN91131.1|\n",
      "   |  |   |||\n",
      "   |  |   |,| gi|407380176|gb|AFU11404.1|\n",
      "   |  |   |||\n",
      "   |  |   ||| gi|407380103|gb|AFU11369.1|\n",
      "   |  |   ||\n",
      "   |  |   || gi|407379993|gb|AFU11314.1|\n",
      "   |  |   |\n",
      "   |  |   |  , gi|225423248|gb|ACN91130.1|\n",
      "   |  |   |  |\n",
      "   |  |   |  | gi|225423296|gb|ACN91154.1|\n",
      "   |  |   |  |\n",
      "   |  |   |  | gi|225423298|gb|ACN91155.1|\n",
      "   |  |   |  |\n",
      "   |  |   | ,| gi|302171786|gb|ADK97794.1|\n",
      "   |  |   | ||\n",
      "   |  |   |,|| gi|302171788|gb|ADK97795.1|\n",
      "   |  |   |||\n",
      "   |  |   ||| gi|407380051|gb|AFU11343.1|\n",
      "   |  |   ||\n",
      "   |  |   || , gi|225423280|gb|ACN91146.1|\n",
      "   |  |   || |\n",
      "   |  |   ||,| gi|302171758|gb|ADK97780.1|\n",
      "   |  |   ||||\n",
      "   |  |   |||| gi|407380185|gb|AFU11408.1|\n",
      "   |  |   | |\n",
      "   |  |   | |, gi|407380007|gb|AFU11321.1|\n",
      "   |  |   | ||\n",
      "   |  |   |  | gi|407380105|gb|AFU11370.1|\n",
      "   |  |   |\n",
      "   |  |   |_ gi|407380133|gb|AFU11384.1|\n",
      "   |  |   |\n",
      "  ,|  |   |  , gi|225423276|gb|ACN91144.1|\n",
      "  ||  |   |  |\n",
      "  ||  |   |  | gi|407380001|gb|AFU11318.1|\n",
      "  ||  |   |  |\n",
      "  ||  |   |  | gi|302171752|gb|ADK97777.1|\n",
      "  ||  |   |  |\n",
      "  ||  |   |  | gi|313105489|gb|ADR32104.1|\n",
      "  ||  |   |  |\n",
      "  ||  |___|  | gi|407380003|gb|AFU11319.1|\n",
      "  ||      |  |\n",
      "  ||      |  , gi|225423300|gb|ACN91156.1|\n",
      "  ||      |  |\n",
      "  ||      |  | gi|302171790|gb|ADK97796.1|\n",
      "  ||      |  |\n",
      "  ||      | ,| gi|407380031|gb|AFU11333.1|\n",
      "  ||      | ||\n",
      "  ||      | ||, gi|407380077|gb|AFU11356.1|\n",
      "  ||      | |,|\n",
      "  ||      | ||| gi|407380079|gb|AFU11357.1|\n",
      "  ||      | ||\n",
      "  ||      | || gi|407380015|gb|AFU11325.1|\n",
      "  ||      | |\n",
      "  ||      | |, gi|302171764|gb|ADK97783.1|\n",
      "  ||      |,||\n",
      "  ||      |||| gi|407380171|gb|AFU11402.1|\n",
      "  ||      ||,|\n",
      "  ||      |||, gi|407380033|gb|AFU11334.1|\n",
      "  ||      ||||\n",
      "  ||      |||| gi|407380083|gb|AFU11359.1|\n",
      "  ||      |||\n",
      "  ||      |||_ gi|407380013|gb|AFU11324.1|\n",
      "  ||      |||\n",
      "  ||      ||| , gi|407380037|gb|AFU11336.1|\n",
      "  ||      |||,|\n",
      " ,||       |||| gi|407380039|gb|AFU11337.1|\n",
      " |||       |,|\n",
      " |||       ||, gi|407380173|gb|AFU11403.1|\n",
      " |||       |||\n",
      " |||       ||| gi|407380210|gb|AFU11420.1|\n",
      " |||       ||\n",
      " |||       ||_ gi|407380075|gb|AFU11355.1|\n",
      " |||       ||\n",
      " |||       || gi|407380189|gb|AFU11410.1|\n",
      " |||       |\n",
      " |||       |_ gi|407380143|gb|AFU11389.1|\n",
      " |||\n",
      " |||__ gi|302171734|gb|ADK97768.1|\n",
      " |||\n",
      " |||___ gi|302171736|gb|ADK97769.1|\n",
      " ||\n",
      " || , gi|225423290|gb|ACN91151.1|\n",
      " || |\n",
      " || | gi|407380025|gb|AFU11330.1|\n",
      " || |\n",
      " || | gi|302171774|gb|ADK97788.1|\n",
      " || |\n",
      " ||,| gi|225423244|gb|ACN91128.1|\n",
      " ||||\n",
      " ||||, gi|407380155|gb|AFU11395.1|\n",
      " |,|||\n",
      " ||| | gi|407380179|gb|AFU11405.1|\n",
      " |||\n",
      " ||| gi|225423272|gb|ACN91142.1|\n",
      " ||\n",
      " || , gi|407380061|gb|AFU11348.1|\n",
      " ||,|\n",
      " |||| gi|407380205|gb|AFU11418.1|\n",
      " |||\n",
      " |||, gi|407380069|gb|AFU11352.1|\n",
      " ||||\n",
      " || | gi|407380195|gb|AFU11413.1|\n",
      " ||\n",
      " ||_ gi|407380019|gb|AFU11327.1|\n",
      " ||\n",
      " ||_ gi|407380053|gb|AFU11344.1|\n",
      " |\n",
      " | , gi|225423284|gb|ACN91148.1|\n",
      " | |\n",
      " |_| gi|407380109|gb|AFU11372.1|\n",
      " | |\n",
      " | | gi|302171750|gb|ADK97776.1|\n",
      " |\n",
      " | , gi|302171784|gb|ADK97793.1|\n",
      " | |\n",
      " | | gi|407380089|gb|AFU11362.1|\n",
      " | |\n",
      " |,| gi|225423254|gb|ACN91133.1|\n",
      " |||\n",
      " ,|| gi|225423294|gb|ACN91153.1|\n",
      " ||\n",
      " || gi|407379991|gb|AFU11313.1|\n",
      " |\n",
      " |, gi|225423260|gb|ACN91136.1|\n",
      " ||\n",
      " || gi|407380131|gb|AFU11383.1|\n",
      " ||\n",
      " ||, gi|407380027|gb|AFU11331.1|\n",
      " |||\n",
      " ||| gi|407380029|gb|AFU11332.1|\n",
      " |||\n",
      " |,| gi|302171778|gb|ADK97790.1|\n",
      " |||\n",
      " ||| gi|225423266|gb|ACN91139.1|\n",
      " ||\n",
      " ||, gi|225423292|gb|ACN91152.1|\n",
      " |||\n",
      " ||| gi|302171776|gb|ADK97789.1|\n",
      " ||\n",
      " |, gi|407380055|gb|AFU11345.1|\n",
      " ||\n",
      " || gi|407380214|gb|AFU11422.1|\n",
      " ||\n",
      " ||, gi|407380041|gb|AFU11338.1|\n",
      " |||\n",
      " ||| gi|407380149|gb|AFU11392.1|\n",
      " |||\n",
      " ||| gi|407380169|gb|AFU11401.1|\n",
      " |||\n",
      " ,|| gi|225423268|gb|ACN91140.1|\n",
      " ||\n",
      " ||, gi|302171770|gb|ADK97786.1|\n",
      " |,|\n",
      " ||| gi|407380203|gb|AFU11417.1|\n",
      " ||\n",
      " ||, gi|407379997|gb|AFU11316.1|\n",
      " |||\n",
      " ||| gi|407380009|gb|AFU11322.1|\n",
      " |||\n",
      " ||| gi|407380141|gb|AFU11388.1|\n",
      " |||\n",
      " ||| gi|407380011|gb|AFU11323.1|\n",
      " ||\n",
      " |, gi|407380021|gb|AFU11328.1|\n",
      " ||\n",
      " || gi|407380191|gb|AFU11411.1|\n",
      " ||\n",
      " || gi|407379989|gb|AFU11312.1|\n",
      " |\n",
      " |_ gi|407380095|gb|AFU11365.1|\n",
      " |\n",
      " |  , gi|225423270|gb|ACN91141.1|\n",
      " | ,|\n",
      " |,|| gi|407380193|gb|AFU11412.1|\n",
      " |||\n",
      " ||| gi|407380147|gb|AFU11391.1|\n",
      " ||\n",
      " ||, gi|225423288|gb|ACN91150.1|\n",
      " |||\n",
      " ||| gi|302171768|gb|ADK97785.1|\n",
      " |||\n",
      " ||, gi|407380043|gb|AFU11339.1|\n",
      " |,|\n",
      " ||| gi|407380111|gb|AFU11373.1|\n",
      " |||\n",
      " ||| gi|407380212|gb|AFU11421.1|\n",
      " ||\n",
      " || gi|407380067|gb|AFU11351.1|\n",
      " ||\n",
      " || gi|302171756|gb|ADK97779.1|\n",
      " ||\n",
      " ||, gi|407380063|gb|AFU11349.1|\n",
      " |,|\n",
      " ||| gi|407380145|gb|AFU11390.1|\n",
      " ||\n",
      " || gi|407380160|gb|AFU11397.1|\n",
      " |\n",
      " |, gi|302171746|gb|ADK97774.1|\n",
      " ||\n",
      " || gi|407380137|gb|AFU11386.1|\n",
      " |\n",
      " |, gi|225423286|gb|ACN91149.1|\n",
      " ||\n",
      " || gi|302171766|gb|ADK97784.1|\n",
      " ||\n",
      " || gi|225423256|gb|ACN91134.1|\n",
      " ||\n",
      " || gi|407380164|gb|AFU11399.1|\n",
      " ||\n",
      " || gi|407380199|gb|AFU11415.1|\n",
      " ||\n",
      " |, gi|225423282|gb|ACN91147.1|\n",
      " ||\n",
      " || gi|302171748|gb|ADK97775.1|\n",
      " ||\n",
      " ,| gi|407379995|gb|AFU11315.1|\n",
      " ||\n",
      " || gi|407379987|gb|AFU11311.1|\n",
      " ||\n",
      " || gi|407380065|gb|AFU11350.1|\n",
      " |\n",
      " |, gi|302171772|gb|ADK97787.1|\n",
      " ||\n",
      " || gi|407380127|gb|AFU11381.1|\n",
      " ,|\n",
      " |, gi|407380099|gb|AFU11367.1|\n",
      " ||\n",
      " || gi|407380129|gb|AFU11382.1|\n",
      " |\n",
      " |, gi|407380119|gb|AFU11377.1|\n",
      " ||\n",
      " || gi|407380121|gb|AFU11378.1|\n",
      " ||\n",
      " || gi|407380081|gb|AFU11358.1|\n",
      " |\n",
      " , gi|302171780|gb|ADK97791.1|\n",
      " |\n",
      " | gi|407380073|gb|AFU11354.1|\n",
      " |\n",
      " , gi|407380107|gb|AFU11371.1|\n",
      " |\n",
      " | gi|407380153|gb|AFU11394.1|\n",
      " |\n",
      " , gi|407380115|gb|AFU11375.1|\n",
      " |\n",
      " | gi|407380201|gb|AFU11416.1|\n",
      " |\n",
      " |    ___ model1_F.pdb\n",
      "_|  _|\n",
      " |,| | gi|407380166|gb|AFU11400.1|\n",
      " |||\n",
      " ||| gi|407380162|gb|AFU11398.1|\n",
      " ||\n",
      " || gi|407379985|gb|AFU11310.1|\n",
      " ||\n",
      " ,| gi|407380059|gb|AFU11347.1|\n",
      " ||\n",
      " || gi|164609123|gb|ABY62783.1|\n",
      " |\n",
      " | gi|225423262|gb|ACN91137.1|\n",
      " |\n",
      " | gi|407380049|gb|AFU11342.1|\n",
      " |\n",
      " | gi|407380208|gb|AFU11419.1|\n",
      " |\n",
      " , gi|407380071|gb|AFU11353.1|\n",
      " |\n",
      " | gi|407380091|gb|AFU11363.1|\n",
      " |\n",
      " |, gi|225423274|gb|ACN91143.1|\n",
      " ||\n",
      " || gi|225423278|gb|ACN91145.1|\n",
      " ||\n",
      " || gi|302171742|gb|ADK97772.1|\n",
      " ||\n",
      " ,| gi|302171744|gb|ADK97773.1|\n",
      " ||\n",
      " || gi|313105486|gb|ADR32102.1|\n",
      " |\n",
      " | gi|225423264|gb|ACN91138.1|\n",
      " |\n",
      " , gi|407379999|gb|AFU11317.1|\n",
      " |\n",
      " | gi|407380087|gb|AFU11361.1|\n",
      " |\n",
      " | gi|407380125|gb|AFU11380.1|\n",
      "\n"
     ]
    }
   ],
   "source": [
    "Phylo.draw_ascii(tree)"
   ]
  },
  {
   "cell_type": "markdown",
   "metadata": {
    "deletable": true,
    "editable": true,
    "slideshow": {
     "slide_type": "slide"
    }
   },
   "source": [
    "With some plotting tools, however, we can make wonderful image visualizations of the tree."
   ]
  },
  {
   "cell_type": "code",
   "execution_count": 37,
   "metadata": {
    "collapsed": false,
    "deletable": true,
    "editable": true
   },
   "outputs": [
    {
     "data": {
      "image/png": "[encoded data removed]",
      "text/plain": [
       "<matplotlib.figure.Figure at 0x1046eb240>"
      ]
     },
     "metadata": {},
     "output_type": "display_data"
    }
   ],
   "source": [
    "%matplotlib inline\n",
    "\n",
    "Phylo.draw(tree)"
   ]
  },
  {
   "cell_type": "markdown",
   "metadata": {
    "deletable": true,
    "editable": true
   },
   "source": [
    "...maybe more \"wonderful\" than *wonderful* at first, given how much information there is."
   ]
  },
  {
   "cell_type": "markdown",
   "metadata": {
    "deletable": true,
    "editable": true,
    "slideshow": {
     "slide_type": "slide"
    }
   },
   "source": [
    "Let's re-draw the previous tree, this time without tree labels, just to see how the branching looks."
   ]
  },
  {
   "cell_type": "code",
   "execution_count": 38,
   "metadata": {
    "collapsed": false,
    "deletable": true,
    "editable": true
   },
   "outputs": [
    {
     "data": {
      "image/png": "[encoded data removed]",
      "text/plain": [
       "<matplotlib.figure.Figure at 0x10f1c77f0>"
      ]
     },
     "metadata": {},
     "output_type": "display_data"
    }
   ],
   "source": [
    "Phylo.draw(tree, label_func = lambda x: None)  # Don't worry about what this does"
   ]
  },
  {
   "cell_type": "markdown",
   "metadata": {
    "deletable": true,
    "editable": true
   },
   "source": [
    "Now we're getting somewhere! We can clearly see some structure in the respective evolutionary offshoots."
   ]
  },
  {
   "cell_type": "markdown",
   "metadata": {
    "deletable": true,
    "editable": true,
    "slideshow": {
     "slide_type": "slide"
    }
   },
   "source": [
    "### Motifs\n",
    "\n",
    "*Sequence motifs are short, recurring patterns in DNA that are presumed to have a biological function. Often they indicate sequence-specific binding sites for proteins such as nucleases and transcription factors (TF).* --The Internet"
   ]
  },
  {
   "cell_type": "code",
   "execution_count": 39,
   "metadata": {
    "collapsed": true,
    "deletable": true,
    "editable": true
   },
   "outputs": [],
   "source": [
    "from Bio import motifs  # Lowercase for some reason...\n",
    "\n",
    "m = motifs.create([\"TACAA\",\"CATGC\",\"TACTA\",\"CCCAA\"])"
   ]
  },
  {
   "cell_type": "markdown",
   "metadata": {
    "deletable": true,
    "editable": true,
    "slideshow": {
     "slide_type": "slide"
    }
   },
   "source": [
    "Remember the \"profile\" from profile HMMs? It looked something like this:"
   ]
  },
  {
   "cell_type": "code",
   "execution_count": 40,
   "metadata": {
    "collapsed": false,
    "deletable": true,
    "editable": true
   },
   "outputs": [
    {
     "name": "stdout",
     "output_type": "stream",
     "text": [
      "        0      1      2      3      4\n",
      "A:   0.00   3.00   0.00   2.00   3.00\n",
      "C:   2.00   1.00   3.00   0.00   1.00\n",
      "G:   0.00   0.00   0.00   1.00   0.00\n",
      "T:   2.00   0.00   1.00   1.00   0.00\n",
      "\n"
     ]
    }
   ],
   "source": [
    "print(m.counts)"
   ]
  },
  {
   "cell_type": "markdown",
   "metadata": {
    "deletable": true,
    "editable": true
   },
   "source": [
    "We can visualize this information in different ways."
   ]
  },
  {
   "cell_type": "markdown",
   "metadata": {
    "deletable": true,
    "editable": true,
    "slideshow": {
     "slide_type": "slide"
    }
   },
   "source": [
    "For instance, we can look at the *consensus* sequence, which is just the sequence formed by picking the nucleotide at each position that is most frequent."
   ]
  },
  {
   "cell_type": "code",
   "execution_count": 41,
   "metadata": {
    "collapsed": false,
    "deletable": true,
    "editable": true
   },
   "outputs": [
    {
     "name": "stdout",
     "output_type": "stream",
     "text": [
      "        0      1      2      3      4\n",
      "A:   0.00   3.00   0.00   2.00   3.00\n",
      "C:   2.00   1.00   3.00   0.00   1.00\n",
      "G:   0.00   0.00   0.00   1.00   0.00\n",
      "T:   2.00   0.00   1.00   1.00   0.00\n",
      "\n",
      "TACAA\n"
     ]
    }
   ],
   "source": [
    "print(m.counts)\n",
    "print(m.consensus)"
   ]
  },
  {
   "cell_type": "markdown",
   "metadata": {
    "deletable": true,
    "editable": true,
    "slideshow": {
     "slide_type": "slide"
    }
   },
   "source": [
    "We can also generate logos!"
   ]
  },
  {
   "cell_type": "code",
   "execution_count": 42,
   "metadata": {
    "collapsed": true,
    "deletable": true,
    "editable": true
   },
   "outputs": [],
   "source": [
    "m.weblogo('logo.png', stack_width = 'large')"
   ]
  },
  {
   "cell_type": "code",
   "execution_count": 43,
   "metadata": {
    "collapsed": false,
    "deletable": true,
    "editable": true
   },
   "outputs": [
    {
     "data": {
      "image/png": "[encoded data removed]",
      "text/plain": [
       "<IPython.core.display.Image object>"
      ]
     },
     "execution_count": 43,
     "metadata": {},
     "output_type": "execute_result"
    }
   ],
   "source": [
    "from IPython.display import Image\n",
    "Image(filename = 'logo.png')"
   ]
  },
  {
   "cell_type": "markdown",
   "metadata": {
    "deletable": true,
    "editable": true
   },
   "source": [
    "Remember this visualization from the last lecture? The relative heights of each letter are a measure of how frequently those nucleotides show up at those positions in the aligned sequence."
   ]
  },
  {
   "cell_type": "markdown",
   "metadata": {
    "deletable": true,
    "editable": true,
    "slideshow": {
     "slide_type": "slide"
    }
   },
   "source": [
    "Biopython supports a number of motif formats: [JASPAR](http://jaspar.genereg.net/), MEME, TRANSFAC."
   ]
  },
  {
   "cell_type": "markdown",
   "metadata": {
    "deletable": true,
    "editable": true
   },
   "source": [
    "These formats are associated with databases (JASPAR, TRANSFAC) and tools (MEME)."
   ]
  },
  {
   "cell_type": "markdown",
   "metadata": {
    "deletable": true,
    "editable": true
   },
   "source": [
    "Of particular interest are sequence motifs for transcription factor binding."
   ]
  },
  {
   "cell_type": "code",
   "execution_count": 44,
   "metadata": {
    "collapsed": false,
    "deletable": true,
    "editable": true
   },
   "outputs": [
    {
     "name": "stdout",
     "output_type": "stream",
     "text": [
      "TF name\tNone\n",
      "Matrix ID\tNone\n",
      "Matrix:\n",
      "        0      1      2      3      4      5\n",
      "A:   4.00  19.00   0.00   0.00   0.00   0.00\n",
      "C:  16.00   0.00  20.00   0.00   0.00   0.00\n",
      "G:   0.00   1.00   0.00  20.00   0.00  20.00\n",
      "T:   0.00   0.00   0.00   0.00  20.00   0.00\n",
      "\n",
      "\n",
      "\n"
     ]
    }
   ],
   "source": [
    "f = open('MA0004.1.sites')  # Unlike other parts of Biopython, can't just provide filename to open.\n",
    "arnt = motifs.read(f,'sites') # JASPAR sites\n",
    "print(arnt)"
   ]
  },
  {
   "cell_type": "markdown",
   "metadata": {
    "deletable": true,
    "editable": true,
    "slideshow": {
     "slide_type": "slide"
    }
   },
   "source": [
    "Now we can examine all sorts of properties associated with the motif."
   ]
  },
  {
   "cell_type": "markdown",
   "metadata": {
    "deletable": true,
    "editable": true
   },
   "source": [
    "First, what motifs are even in this file?"
   ]
  },
  {
   "cell_type": "code",
   "execution_count": 45,
   "metadata": {
    "collapsed": false,
    "deletable": true,
    "editable": true
   },
   "outputs": [
    {
     "name": "stdout",
     "output_type": "stream",
     "text": [
      "CACGTG\n",
      "CACGTG\n",
      "CACGTG\n",
      "CACGTG\n",
      "CACGTG\n",
      "CACGTG\n",
      "CACGTG\n",
      "CACGTG\n",
      "CACGTG\n",
      "CACGTG\n",
      "CACGTG\n",
      "CACGTG\n",
      "CACGTG\n",
      "CACGTG\n",
      "CACGTG\n",
      "AACGTG\n",
      "AACGTG\n",
      "AACGTG\n",
      "AACGTG\n",
      "CGCGTG\n",
      "\n"
     ]
    }
   ],
   "source": [
    "print(arnt.instances)"
   ]
  },
  {
   "cell_type": "markdown",
   "metadata": {
    "deletable": true,
    "editable": true,
    "slideshow": {
     "slide_type": "slide"
    }
   },
   "source": [
    "Next, what is the profile matrix of the motifs?"
   ]
  },
  {
   "cell_type": "code",
   "execution_count": 46,
   "metadata": {
    "collapsed": false,
    "deletable": true,
    "editable": true
   },
   "outputs": [
    {
     "name": "stdout",
     "output_type": "stream",
     "text": [
      "        0      1      2      3      4      5\n",
      "A:   4.00  19.00   0.00   0.00   0.00   0.00\n",
      "C:  16.00   0.00  20.00   0.00   0.00   0.00\n",
      "G:   0.00   1.00   0.00  20.00   0.00  20.00\n",
      "T:   0.00   0.00   0.00   0.00  20.00   0.00\n",
      "\n"
     ]
    }
   ],
   "source": [
    "print(arnt.counts)"
   ]
  },
  {
   "cell_type": "markdown",
   "metadata": {
    "deletable": true,
    "editable": true
   },
   "source": [
    "And the consensus sequence?"
   ]
  },
  {
   "cell_type": "code",
   "execution_count": 47,
   "metadata": {
    "collapsed": false,
    "deletable": true,
    "editable": true
   },
   "outputs": [
    {
     "name": "stdout",
     "output_type": "stream",
     "text": [
      "CACGTG\n"
     ]
    }
   ],
   "source": [
    "print(arnt.consensus)"
   ]
  },
  {
   "cell_type": "markdown",
   "metadata": {
    "deletable": true,
    "editable": true,
    "slideshow": {
     "slide_type": "slide"
    }
   },
   "source": [
    "### Scoring Matrices"
   ]
  },
  {
   "cell_type": "markdown",
   "metadata": {
    "deletable": true,
    "editable": true
   },
   "source": [
    "We've touched on this idea in previous lectures--the idea that not all mismatches in sequence alignments are created equal--but BioPython has this concept built-in."
   ]
  },
  {
   "cell_type": "markdown",
   "metadata": {
    "deletable": true,
    "editable": true
   },
   "source": [
    "For one, we can normalize the counts to be *probabilities* instead, allowing you to compare multiple motifs:"
   ]
  },
  {
   "cell_type": "code",
   "execution_count": 48,
   "metadata": {
    "collapsed": false,
    "deletable": true,
    "editable": true
   },
   "outputs": [
    {
     "name": "stdout",
     "output_type": "stream",
     "text": [
      "        0      1      2      3      4      5\n",
      "A:   0.20   0.95   0.00   0.00   0.00   0.00\n",
      "C:   0.80   0.00   1.00   0.00   0.00   0.00\n",
      "G:   0.00   0.05   0.00   1.00   0.00   1.00\n",
      "T:   0.00   0.00   0.00   0.00   1.00   0.00\n",
      "\n"
     ]
    }
   ],
   "source": [
    "print(arnt.counts.normalize())"
   ]
  },
  {
   "cell_type": "markdown",
   "metadata": {
    "deletable": true,
    "editable": true,
    "slideshow": {
     "slide_type": "slide"
    }
   },
   "source": [
    "An interesting question with normalized counts: what happens if the count is 0? Is the probability of seeing that nucleotide at that position also 0?"
   ]
  },
  {
   "cell_type": "markdown",
   "metadata": {
    "deletable": true,
    "editable": true
   },
   "source": [
    "(Hint as to where this is going: how do you compute the probabilities of a bunch of statistically independent events? what happens if one of those events has a probability of 0?)"
   ]
  },
  {
   "cell_type": "markdown",
   "metadata": {
    "deletable": true,
    "editable": true,
    "slideshow": {
     "slide_type": "fragment"
    }
   },
   "source": [
    "**It probably doesn't have a probability of 0, but it may be *close* to 0.** In machine learning, there's a concept known as \"pseudocounting\" in which a very small number of counts are given to variables whose probabilities we want to keep close to 0, but not *exactly* 0."
   ]
  },
  {
   "cell_type": "markdown",
   "metadata": {
    "deletable": true,
    "editable": true
   },
   "source": [
    "We can do that in BioPython, too:"
   ]
  },
  {
   "cell_type": "code",
   "execution_count": 49,
   "metadata": {
    "collapsed": false,
    "deletable": true,
    "editable": true
   },
   "outputs": [
    {
     "name": "stdout",
     "output_type": "stream",
     "text": [
      "        0      1      2      3      4      5\n",
      "A:   0.21   0.85   0.03   0.03   0.03   0.03\n",
      "C:   0.72   0.03   0.90   0.03   0.03   0.03\n",
      "G:   0.03   0.08   0.03   0.90   0.03   0.90\n",
      "T:   0.03   0.03   0.03   0.03   0.90   0.03\n",
      "\n"
     ]
    }
   ],
   "source": [
    "print(arnt.counts.normalize(pseudocounts = 0.8))"
   ]
  },
  {
   "cell_type": "markdown",
   "metadata": {
    "deletable": true,
    "editable": true,
    "slideshow": {
     "slide_type": "slide"
    }
   },
   "source": [
    "### Searching for Motifs"
   ]
  },
  {
   "cell_type": "markdown",
   "metadata": {
    "deletable": true,
    "editable": true
   },
   "source": [
    "Finally, we can use BioPython to search for motifs in larger sequences."
   ]
  },
  {
   "cell_type": "code",
   "execution_count": 50,
   "metadata": {
    "collapsed": true,
    "deletable": true,
    "editable": true
   },
   "outputs": [],
   "source": [
    "from Bio import SeqIO\n",
    "from Bio.Seq import Seq\n",
    "\n",
    "largeseq = SeqIO.read('bnip3.fasta', 'fasta', arnt.alphabet).seq # Load with same alphabet as motif\n",
    "smallseq = Seq('AAACCCACGTGACTATATA')"
   ]
  },
  {
   "cell_type": "markdown",
   "metadata": {
    "deletable": true,
    "editable": true,
    "slideshow": {
     "slide_type": "slide"
    }
   },
   "source": [
    "We can search for exact matches:"
   ]
  },
  {
   "cell_type": "code",
   "execution_count": 51,
   "metadata": {
    "collapsed": false,
    "deletable": true,
    "editable": true
   },
   "outputs": [
    {
     "name": "stdout",
     "output_type": "stream",
     "text": [
      "5 CACGTG\n"
     ]
    }
   ],
   "source": [
    "exact_matches = arnt.instances.search(smallseq)\n",
    "\n",
    "for match in exact_matches:\n",
    "    position = match[0]\n",
    "    sequence = match[1]\n",
    "    print(position, sequence)"
   ]
  },
  {
   "cell_type": "code",
   "execution_count": 52,
   "metadata": {
    "collapsed": false,
    "deletable": true,
    "editable": true,
    "slideshow": {
     "slide_type": "fragment"
    }
   },
   "outputs": [
    {
     "name": "stdout",
     "output_type": "stream",
     "text": [
      "3452 CACGTG\n",
      "4058 CACGTG\n",
      "6181 AACGTG\n",
      "8591 CGCGTG\n",
      "10719 CACGTG\n",
      "10998 CACGTG\n"
     ]
    }
   ],
   "source": [
    "exact_matches = arnt.instances.search(largeseq)\n",
    "\n",
    "for match in exact_matches:\n",
    "    position = match[0]\n",
    "    sequence = match[1]\n",
    "    print(position, sequence)"
   ]
  },
  {
   "cell_type": "markdown",
   "metadata": {
    "deletable": true,
    "editable": true,
    "slideshow": {
     "slide_type": "slide"
    }
   },
   "source": [
    "### Position-Specific Scoring Matrices (PSSM)"
   ]
  },
  {
   "cell_type": "markdown",
   "metadata": {
    "deletable": true,
    "editable": true
   },
   "source": [
    "We can also use a PSSM to search for \"fuzzy\" matches--instances where we don't find an *exact* match of the thing we're looking for, but rather something that's \"close\" (for some definition of \"close\")."
   ]
  },
  {
   "cell_type": "markdown",
   "metadata": {
    "deletable": true,
    "editable": true
   },
   "source": [
    "Basically, this makes use of the counts matrix we saw before."
   ]
  },
  {
   "cell_type": "markdown",
   "metadata": {
    "deletable": true,
    "editable": true
   },
   "source": [
    "If we're looking for a specific motif that isn't found *exactly*, we can specify a count threshold at which mismatches in certain positions are allowed to count toward search hits."
   ]
  },
  {
   "cell_type": "markdown",
   "metadata": {
    "deletable": true,
    "editable": true,
    "slideshow": {
     "slide_type": "slide"
    }
   },
   "source": [
    "Here's an example:"
   ]
  },
  {
   "cell_type": "code",
   "execution_count": 53,
   "metadata": {
    "collapsed": false,
    "deletable": true,
    "editable": true
   },
   "outputs": [
    {
     "name": "stdout",
     "output_type": "stream",
     "text": [
      "167 fuzzy matches found with threshold of 4\n"
     ]
    }
   ],
   "source": [
    "# First, normalize to probabilities and use pseudocounts.\n",
    "pwm = arnt.counts.normalize(pseudocounts = 0.8)\n",
    "\n",
    "# Next, take the log of all the numbers.\n",
    "pssm = pwm.log_odds()\n",
    "\n",
    "# Now, run a search for the motif, using the scoring matrix and a threshold.\n",
    "results = []\n",
    "threshold = 4\n",
    "fuzzy_matches = pssm.search(largeseq, threshold)\n",
    "for match in fuzzy_matches:\n",
    "    results.append(match)\n",
    "print(len(results), \"fuzzy matches found with threshold of\", threshold)"
   ]
  },
  {
   "cell_type": "markdown",
   "metadata": {
    "deletable": true,
    "editable": true
   },
   "source": [
    "The score is a $log_2$ likelihood, so a score of 4 is $2^4=16$ times more likely to occur as part of the motif than as part of the (assumed uniform random) background."
   ]
  },
  {
   "cell_type": "markdown",
   "metadata": {
    "deletable": true,
    "editable": true,
    "slideshow": {
     "slide_type": "slide"
    }
   },
   "source": [
    "## Administrivia"
   ]
  },
  {
   "cell_type": "markdown",
   "metadata": {
    "deletable": true,
    "editable": true
   },
   "source": [
    " - Assignment 3 due tonight at 11:59pm!"
   ]
  },
  {
   "cell_type": "markdown",
   "metadata": {
    "deletable": true,
    "editable": true
   },
   "source": [
    " - No one will bite in the Slack chat :)"
   ]
  },
  {
   "cell_type": "markdown",
   "metadata": {
    "deletable": true,
    "editable": true
   },
   "source": [
    " - Expect some kind of midterm-related announcement over the weekend (since I'm planning to finish it then)"
   ]
  },
  {
   "cell_type": "markdown",
   "metadata": {
    "deletable": true,
    "editable": true
   },
   "source": [
    " - Guest lecturer on Tuesday, then the midterm exam Thursday (Assignment 4 won't come out until the week we come back from spring break)"
   ]
  }
 ],
 "metadata": {
  "anaconda-cloud": {},
  "celltoolbar": "Slideshow",
  "kernelspec": {
   "display_name": "Python 3",
   "language": "python",
   "name": "python3"
  },
  "language_info": {
   "codemirror_mode": {
    "name": "ipython",
    "version": 3
   },
   "file_extension": ".py",
   "mimetype": "text/x-python",
   "name": "python",
   "nbconvert_exporter": "python",
   "pygments_lexer": "ipython3",
   "version": "3.5.3"
  }
 },
 "nbformat": 4,
 "nbformat_minor": 0
}
