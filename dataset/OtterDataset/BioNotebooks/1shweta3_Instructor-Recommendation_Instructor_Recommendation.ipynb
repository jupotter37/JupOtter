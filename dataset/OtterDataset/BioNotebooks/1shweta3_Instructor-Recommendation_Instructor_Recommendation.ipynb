{
  "cells": [
    {
      "cell_type": "code",
      "execution_count": 1,
      "metadata": {
        "id": "xl4DAxJ8Xs0q"
      },
      "outputs": [],
      "source": [
        "import pandas as pd"
      ]
    },
    {
      "cell_type": "code",
      "execution_count": 2,
      "metadata": {
        "colab": {
          "base_uri": "https://localhost:8080/"
        },
        "id": "5pyQXPb8mq2U",
        "outputId": "7d7b08b1-66f0-4a9a-c567-49cdaff26876"
      },
      "outputs": [
        {
          "name": "stdout",
          "output_type": "stream",
          "text": [
            "Requirement already satisfied: faker in c:\\users\\hp\\desktop\\recommendation_edi\\venv\\lib\\site-packages (20.0.3)\n",
            "Requirement already satisfied: python-dateutil>=2.4 in c:\\users\\hp\\desktop\\recommendation_edi\\venv\\lib\\site-packages (from faker) (2.8.2)\n",
            "Requirement already satisfied: six>=1.5 in c:\\users\\hp\\desktop\\recommendation_edi\\venv\\lib\\site-packages (from python-dateutil>=2.4->faker) (1.16.0)\n",
            "Note: you may need to restart the kernel to use updated packages.\n"
          ]
        },
        {
          "name": "stderr",
          "output_type": "stream",
          "text": [
            "\n",
            "[notice] A new release of pip available: 22.2.2 -> 23.3.1\n",
            "[notice] To update, run: python.exe -m pip install --upgrade pip\n"
          ]
        }
      ],
      "source": [
        "%pip install faker\n",
        "from faker import Faker"
      ]
    },
    {
      "cell_type": "code",
      "execution_count": 3,
      "metadata": {
        "id": "rfKqLFv7mylA"
      },
      "outputs": [],
      "source": [
        "fake = Faker()"
      ]
    },
    {
      "cell_type": "code",
      "execution_count": 4,
      "metadata": {
        "id": "hZwFWafKZp3m"
      },
      "outputs": [],
      "source": [
        "instructor_data = {\n",
        "    'Instructor ID':['I1','I2','I3','I4','I5','I6','I7','I8','I9','I10','I11','I12','I13','I14','I15','I16','I17','I18','I19','I20','I21','I22','I23','I24','I25','I26','I27','I28','I29','I30','I31','I32','I33','I34','I35','I36','I37'],\n",
        "    'Instructor name':[fake.name() for i in range (37)],\n",
        "    'Topic_of_interests':[['Machine Learning','Data Science','Natural Language Processing'],['Mathematics','Data Science','python','Artificial Intelligence'],['Physics','Mathematics','Chemistry','Biology'],['Literature','Histroy','English'],['Embedded System','Data Communication','Digital Systems'],['Computer Science','Data Sructures and Algorithms','Advanced Data Structures','Design and Analysis of Algorithms'],['Industrial Electronics','Digital Systems','Embedded System'],['C Language','Java','Python','C++'],['Python','Data Science','Data Structures and Algorithms'],['Java','Mathematics'],['Web Development','Javascript','HTML','CSS'],['HTML','CSS','Bootstrap','PHP','Javascript'],['Web Dvelopment'],['Pyhton','Mathematics','Machine Learning','Web Development'],['Object Oriented Proramming','Database Management System','Internet of Things'],['Object Oriented Programming','Python','Machine Learning'],['History','Geography','English','Mathematics'],['Organic_Chemistry','Inorganic Chemistry','Physical Chemistry'],['Physical Chemistry','Physics','Mathematics'],['Data Communication','Data Science','Industrial Electronics'],['Natural Language Processing', 'Data Engineering'],['Python', 'Web Development'],['Deep Learning', 'Computer Vision'],['Mathe,atics','Data Engineering'],['Image Processing','Natural Language Processing','Mathematics'],['Deep Learning',' Machine Learning'],['Mathematics','Deep Learning','Image Processing'],['Chemistry','Biology','Physics','Fluid Mechanics'],['Control Theory','Instrumntation and Control','Embedded Systems'],['Digital Systems','Control Therory','Measurement Systems'],['Control Theory','Measurement Systems'],['Machine learning','Control Theory','Instrumentation and Control'],['Measurement Systems','Industrial Electronics'],['Object Oriented Programming ','Web Development','Image Processing'],['Python','Deep Learning'],['Operating System','Computer Network Security'],['Object Oriented Programming','Computer Network Security']]\n",
        "}"
      ]
    },
    {
      "cell_type": "code",
      "execution_count": null,
      "metadata": {
        "id": "P_Zb9BlklgXi"
      },
      "outputs": [],
      "source": [
        "instructor_data = pd.DataFrame(instructor_data)"
      ]
    },
    {
      "cell_type": "code",
      "execution_count": null,
      "metadata": {
        "id": "FO45JmcY5P8e"
      },
      "outputs": [],
      "source": [
        "instructor_data.to_csv('instructor_data.csv')"
      ]
    },
    {
      "cell_type": "code",
      "execution_count": 6,
      "metadata": {
        "id": "9dhmg0h55f_Y"
      },
      "outputs": [],
      "source": [
        "instructors = pd.read_csv('instructor_data.csv')"
      ]
    },
    {
      "cell_type": "code",
      "execution_count": 7,
      "metadata": {
        "colab": {
          "base_uri": "https://localhost:8080/",
          "height": 293
        },
        "id": "wb7q1dJJ5tOF",
        "outputId": "e8bb05f1-3efd-4ded-b0d8-b3a2bf2f95c7"
      },
      "outputs": [
        {
          "data": {
            "text/html": [
              "<div>\n",
              "<style scoped>\n",
              "    .dataframe tbody tr th:only-of-type {\n",
              "        vertical-align: middle;\n",
              "    }\n",
              "\n",
              "    .dataframe tbody tr th {\n",
              "        vertical-align: top;\n",
              "    }\n",
              "\n",
              "    .dataframe thead th {\n",
              "        text-align: right;\n",
              "    }\n",
              "</style>\n",
              "<table border=\"1\" class=\"dataframe\">\n",
              "  <thead>\n",
              "    <tr style=\"text-align: right;\">\n",
              "      <th></th>\n",
              "      <th>Unnamed: 0</th>\n",
              "      <th>Instructor ID</th>\n",
              "      <th>Instructor name</th>\n",
              "      <th>Topic_of_interests</th>\n",
              "    </tr>\n",
              "  </thead>\n",
              "  <tbody>\n",
              "    <tr>\n",
              "      <th>0</th>\n",
              "      <td>0</td>\n",
              "      <td>I1</td>\n",
              "      <td>Albert Bell</td>\n",
              "      <td>['Machine Learning', 'Data Science', 'Natural ...</td>\n",
              "    </tr>\n",
              "    <tr>\n",
              "      <th>1</th>\n",
              "      <td>1</td>\n",
              "      <td>I2</td>\n",
              "      <td>Stephanie Jones</td>\n",
              "      <td>['Mathematics', 'Data Science', 'python', 'Art...</td>\n",
              "    </tr>\n",
              "    <tr>\n",
              "      <th>2</th>\n",
              "      <td>2</td>\n",
              "      <td>I3</td>\n",
              "      <td>David Taylor</td>\n",
              "      <td>['Physics', 'Mathematics', 'Chemistry', 'Biolo...</td>\n",
              "    </tr>\n",
              "    <tr>\n",
              "      <th>3</th>\n",
              "      <td>3</td>\n",
              "      <td>I4</td>\n",
              "      <td>James Clark</td>\n",
              "      <td>['Literature', 'Histroy', 'English']</td>\n",
              "    </tr>\n",
              "    <tr>\n",
              "      <th>4</th>\n",
              "      <td>4</td>\n",
              "      <td>I5</td>\n",
              "      <td>Anna White</td>\n",
              "      <td>['Embedded System', 'Data Communication', 'Dig...</td>\n",
              "    </tr>\n",
              "  </tbody>\n",
              "</table>\n",
              "</div>"
            ],
            "text/plain": [
              "   Unnamed: 0 Instructor ID  Instructor name  \\\n",
              "0           0            I1      Albert Bell   \n",
              "1           1            I2  Stephanie Jones   \n",
              "2           2            I3     David Taylor   \n",
              "3           3            I4      James Clark   \n",
              "4           4            I5       Anna White   \n",
              "\n",
              "                                  Topic_of_interests  \n",
              "0  ['Machine Learning', 'Data Science', 'Natural ...  \n",
              "1  ['Mathematics', 'Data Science', 'python', 'Art...  \n",
              "2  ['Physics', 'Mathematics', 'Chemistry', 'Biolo...  \n",
              "3               ['Literature', 'Histroy', 'English']  \n",
              "4  ['Embedded System', 'Data Communication', 'Dig...  "
            ]
          },
          "execution_count": 7,
          "metadata": {},
          "output_type": "execute_result"
        }
      ],
      "source": [
        "instructors.head()"
      ]
    },
    {
      "cell_type": "code",
      "execution_count": 8,
      "metadata": {
        "id": "T4JdxLWM5vVo"
      },
      "outputs": [],
      "source": [
        "instructors=instructors.drop(['Unnamed: 0'], axis=1)"
      ]
    },
    {
      "cell_type": "code",
      "execution_count": 9,
      "metadata": {
        "colab": {
          "base_uri": "https://localhost:8080/",
          "height": 241
        },
        "id": "dGOqMFUg6Geu",
        "outputId": "0cf72391-b068-48b1-853a-a50579464bc7"
      },
      "outputs": [
        {
          "data": {
            "text/html": [
              "<div>\n",
              "<style scoped>\n",
              "    .dataframe tbody tr th:only-of-type {\n",
              "        vertical-align: middle;\n",
              "    }\n",
              "\n",
              "    .dataframe tbody tr th {\n",
              "        vertical-align: top;\n",
              "    }\n",
              "\n",
              "    .dataframe thead th {\n",
              "        text-align: right;\n",
              "    }\n",
              "</style>\n",
              "<table border=\"1\" class=\"dataframe\">\n",
              "  <thead>\n",
              "    <tr style=\"text-align: right;\">\n",
              "      <th></th>\n",
              "      <th>Instructor ID</th>\n",
              "      <th>Instructor name</th>\n",
              "      <th>Topic_of_interests</th>\n",
              "    </tr>\n",
              "  </thead>\n",
              "  <tbody>\n",
              "    <tr>\n",
              "      <th>0</th>\n",
              "      <td>I1</td>\n",
              "      <td>Albert Bell</td>\n",
              "      <td>['Machine Learning', 'Data Science', 'Natural ...</td>\n",
              "    </tr>\n",
              "    <tr>\n",
              "      <th>1</th>\n",
              "      <td>I2</td>\n",
              "      <td>Stephanie Jones</td>\n",
              "      <td>['Mathematics', 'Data Science', 'python', 'Art...</td>\n",
              "    </tr>\n",
              "    <tr>\n",
              "      <th>2</th>\n",
              "      <td>I3</td>\n",
              "      <td>David Taylor</td>\n",
              "      <td>['Physics', 'Mathematics', 'Chemistry', 'Biolo...</td>\n",
              "    </tr>\n",
              "    <tr>\n",
              "      <th>3</th>\n",
              "      <td>I4</td>\n",
              "      <td>James Clark</td>\n",
              "      <td>['Literature', 'Histroy', 'English']</td>\n",
              "    </tr>\n",
              "    <tr>\n",
              "      <th>4</th>\n",
              "      <td>I5</td>\n",
              "      <td>Anna White</td>\n",
              "      <td>['Embedded System', 'Data Communication', 'Dig...</td>\n",
              "    </tr>\n",
              "  </tbody>\n",
              "</table>\n",
              "</div>"
            ],
            "text/plain": [
              "  Instructor ID  Instructor name  \\\n",
              "0            I1      Albert Bell   \n",
              "1            I2  Stephanie Jones   \n",
              "2            I3     David Taylor   \n",
              "3            I4      James Clark   \n",
              "4            I5       Anna White   \n",
              "\n",
              "                                  Topic_of_interests  \n",
              "0  ['Machine Learning', 'Data Science', 'Natural ...  \n",
              "1  ['Mathematics', 'Data Science', 'python', 'Art...  \n",
              "2  ['Physics', 'Mathematics', 'Chemistry', 'Biolo...  \n",
              "3               ['Literature', 'Histroy', 'English']  \n",
              "4  ['Embedded System', 'Data Communication', 'Dig...  "
            ]
          },
          "execution_count": 9,
          "metadata": {},
          "output_type": "execute_result"
        }
      ],
      "source": [
        "instructors.head()"
      ]
    },
    {
      "cell_type": "code",
      "execution_count": 10,
      "metadata": {
        "colab": {
          "base_uri": "https://localhost:8080/"
        },
        "id": "N0UJnGhM79I9",
        "outputId": "9e7147e7-002f-4d99-ab5d-53ad8a1e776e"
      },
      "outputs": [
        {
          "name": "stdout",
          "output_type": "stream",
          "text": [
            "Requirement already satisfied: scikit-learn in c:\\users\\hp\\desktop\\recommendation_edi\\venv\\lib\\site-packages (1.2.2)\n",
            "Requirement already satisfied: joblib>=1.1.1 in c:\\users\\hp\\desktop\\recommendation_edi\\venv\\lib\\site-packages (from scikit-learn) (1.3.2)\n",
            "Requirement already satisfied: numpy>=1.17.3 in c:\\users\\hp\\desktop\\recommendation_edi\\venv\\lib\\site-packages (from scikit-learn) (1.26.2)\n",
            "Requirement already satisfied: threadpoolctl>=2.0.0 in c:\\users\\hp\\desktop\\recommendation_edi\\venv\\lib\\site-packages (from scikit-learn) (3.2.0)\n",
            "Requirement already satisfied: scipy>=1.3.2 in c:\\users\\hp\\desktop\\recommendation_edi\\venv\\lib\\site-packages (from scikit-learn) (1.11.4)\n",
            "Note: you may need to restart the kernel to use updated packages.\n"
          ]
        },
        {
          "name": "stderr",
          "output_type": "stream",
          "text": [
            "\n",
            "[notice] A new release of pip available: 22.2.2 -> 23.3.1\n",
            "[notice] To update, run: python.exe -m pip install --upgrade pip\n"
          ]
        }
      ],
      "source": [
        "%pip install scikit-learn"
      ]
    },
    {
      "cell_type": "code",
      "execution_count": 11,
      "metadata": {
        "id": "IfPaYL6E6H6v"
      },
      "outputs": [],
      "source": [
        "from sklearn.feature_extraction.text import CountVectorizer\n",
        "\n",
        "vectorizer = CountVectorizer()\n",
        "topics_matrix = vectorizer.fit_transform(instructors['Topic_of_interests'].apply(lambda x: ''.join(x)))"
      ]
    },
    {
      "cell_type": "code",
      "execution_count": 12,
      "metadata": {
        "id": "DvnsdTUb9On8"
      },
      "outputs": [],
      "source": [
        "from sklearn.metrics.pairwise import cosine_similarity\n",
        "\n",
        "similarity_matrix = cosine_similarity(topics_matrix,topics_matrix)"
      ]
    },
    {
      "cell_type": "code",
      "execution_count": 13,
      "metadata": {
        "id": "huWWVwZt-O1i"
      },
      "outputs": [],
      "source": [
        "def recommend_similar_instructors(instructor_id, top_n=5):\n",
        "  instructor_index = instructors[instructors['Instructor ID']== instructor_id].index[0]\n",
        "  similarity_scores = similarity_matrix[instructor_index]\n",
        "  similar_instructors_indices = similarity_scores.argsort()[-top_n-1:-1][::-1]\n",
        "  similar_instructors = instructors.iloc[similar_instructors_indices]\n",
        "  return similar_instructors[['Instructor ID','Instructor name','Topic_of_interests']]"
      ]
    },
    {
      "cell_type": "code",
      "execution_count": 14,
      "metadata": {
        "id": "2NFbYryvqVUV"
      },
      "outputs": [],
      "source": [
        "import pickle\n",
        "pickle.dump(topics_matrix, open('topics_matrix.pkl','wb'))\n",
        "pickle.dump(similarity_matrix, open('similarity_matrix.pkl','wb'))\n",
        "pickle.dump(instructors, open('instructors.pkl','wb'))\n",
        "\n"
      ]
    },
    {
      "cell_type": "code",
      "execution_count": 15,
      "metadata": {
        "colab": {
          "base_uri": "https://localhost:8080/"
        },
        "id": "cJEU8bdBA3bg",
        "outputId": "9e37cc8d-fa05-44a0-b128-49f843403a47"
      },
      "outputs": [
        {
          "name": "stdout",
          "output_type": "stream",
          "text": [
            "   Instructor ID Instructor name  \\\n",
            "20           I21   Joshua Hughes   \n",
            "24           I25   Emily Barnett   \n",
            "25           I26   Daniel Romero   \n",
            "19           I20   Lauren Archer   \n",
            "8             I9     Amanda Bond   \n",
            "\n",
            "                                   Topic_of_interests  \n",
            "20  ['Natural Language Processing', 'Data Engineer...  \n",
            "24  ['Image Processing', 'Natural Language Process...  \n",
            "25             ['Deep Learning', ' Machine Learning']  \n",
            "19  ['Data Communication', 'Data Science', 'Indust...  \n",
            "8   ['Python', 'Data Science', 'Data Structures an...  \n"
          ]
        }
      ],
      "source": [
        "recommendations = recommend_similar_instructors(instructor_id='I1')\n",
        "print(recommendations)"
      ]
    }
  ],
  "metadata": {
    "colab": {
      "provenance": []
    },
    "kernelspec": {
      "display_name": "Python 3",
      "name": "python3"
    },
    "language_info": {
      "codemirror_mode": {
        "name": "ipython",
        "version": 3
      },
      "file_extension": ".py",
      "mimetype": "text/x-python",
      "name": "python",
      "nbconvert_exporter": "python",
      "pygments_lexer": "ipython3",
      "version": "3.10.7"
    }
  },
  "nbformat": 4,
  "nbformat_minor": 0
}
