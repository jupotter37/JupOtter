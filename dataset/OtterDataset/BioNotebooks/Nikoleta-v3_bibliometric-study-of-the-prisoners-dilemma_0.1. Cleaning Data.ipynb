{
 "cells": [
  {
   "cell_type": "markdown",
   "metadata": {
    "collapsed": true
   },
   "source": [
    "# Cleaning Data PD\n"
   ]
  },
  {
   "cell_type": "markdown",
   "metadata": {},
   "source": [
    "This notebook is used in order to clean the metadata retrieved with the software Arcas."
   ]
  },
  {
   "cell_type": "code",
   "execution_count": 1,
   "metadata": {},
   "outputs": [],
   "source": [
    "import glob\n",
    "import pandas as pd\n"
   ]
  },
  {
   "cell_type": "code",
   "execution_count": 2,
   "metadata": {},
   "outputs": [],
   "source": [
    "dfs = []\n",
    "for filename in glob.glob(\"../data/PD_*.json\"):\n",
    "    dfs.append(pd.read_json(filename))\n"
   ]
  },
  {
   "cell_type": "code",
   "execution_count": 3,
   "metadata": {},
   "outputs": [],
   "source": [
    "dfs.append(pd.read_json(\"../data/bibliography.json\"))\n"
   ]
  },
  {
   "cell_type": "code",
   "execution_count": 4,
   "metadata": {},
   "outputs": [
    {
     "name": "stderr",
     "output_type": "stream",
     "text": [
      "//anaconda3/envs/literature/lib/python3.6/site-packages/ipykernel_launcher.py:1: FutureWarning: Sorting because non-concatenation axis is not aligned. A future version\n",
      "of pandas will change to not sort by default.\n",
      "\n",
      "To accept the future behavior, pass 'sort=False'.\n",
      "\n",
      "To retain the current behavior and silence the warning, pass 'sort=True'.\n",
      "\n",
      "  \"\"\"Entry point for launching an IPython kernel.\n"
     ]
    }
   ],
   "source": [
    "df = pd.concat(dfs, ignore_index=True)\n"
   ]
  },
  {
   "cell_type": "code",
   "execution_count": 5,
   "metadata": {},
   "outputs": [
    {
     "data": {
      "text/plain": [
       "array(['Springer', 'Nature', 'PLOS', 'IEEE', 'arXiv', 'Manual'],\n",
       "      dtype=object)"
      ]
     },
     "execution_count": 5,
     "metadata": {},
     "output_type": "execute_result"
    }
   ],
   "source": [
    "df.provenance.unique()\n"
   ]
  },
  {
   "cell_type": "code",
   "execution_count": 6,
   "metadata": {},
   "outputs": [
    {
     "data": {
      "text/plain": [
       "(3096, 3193)"
      ]
     },
     "execution_count": 6,
     "metadata": {},
     "output_type": "execute_result"
    }
   ],
   "source": [
    "len(df.title.unique()), len(df.unique_key.unique())\n"
   ]
  },
  {
   "cell_type": "code",
   "execution_count": 7,
   "metadata": {},
   "outputs": [
    {
     "data": {
      "text/plain": [
       "provenance\n",
       "IEEE         295\n",
       "Manual        79\n",
       "Nature       687\n",
       "PLOS         482\n",
       "Springer     576\n",
       "arXiv       1074\n",
       "dtype: int64"
      ]
     },
     "execution_count": 7,
     "metadata": {},
     "output_type": "execute_result"
    }
   ],
   "source": [
    "provenance_size = (\n",
    "    df.groupby([\"unique_key\", \"provenance\"])\n",
    "    .size()\n",
    "    .reset_index()\n",
    "    .groupby(\"provenance\")\n",
    "    .size()\n",
    ")\n",
    "provenance_size\n"
   ]
  },
  {
   "cell_type": "code",
   "execution_count": 8,
   "metadata": {},
   "outputs": [],
   "source": [
    "df = df[~(df[\"date\"] < 1950)]\n",
    "df = df[~(df[\"date\"] > 2018)]\n"
   ]
  },
  {
   "cell_type": "code",
   "execution_count": 9,
   "metadata": {},
   "outputs": [],
   "source": [
    "df = df.replace(to_replace=2021, value=2015)\n"
   ]
  },
  {
   "cell_type": "code",
   "execution_count": 10,
   "metadata": {},
   "outputs": [],
   "source": [
    "df.to_json(\"../data/pd_November_2018.json\")\n"
   ]
  },
  {
   "cell_type": "markdown",
   "metadata": {
    "collapsed": true
   },
   "source": [
    "Duplicate articles\n",
    "------------------"
   ]
  },
  {
   "cell_type": "code",
   "execution_count": 2,
   "metadata": {},
   "outputs": [],
   "source": [
    "df = pd.read_csv('../data/prisoners_dilemma_articles_meta_data_clean.csv')"
   ]
  },
  {
   "cell_type": "code",
   "execution_count": 3,
   "metadata": {},
   "outputs": [],
   "source": [
    "table = (\n",
    "    df.groupby([\"title\", \"unique_key\"]).size().reset_index().groupby(\"title\").count()\n",
    ")\n",
    "duplicates = table[table[\"unique_key\"] > 1]\n"
   ]
  },
  {
   "cell_type": "code",
   "execution_count": 4,
   "metadata": {},
   "outputs": [],
   "source": [
    "duplicates_title = df[df[\"title\"].isin(duplicates.index)][\"title\"].unique()\n"
   ]
  },
  {
   "cell_type": "code",
   "execution_count": 5,
   "metadata": {},
   "outputs": [
    {
     "data": {
      "text/plain": [
       "array(['Agent-Based Models', 'Coordination Problems and Communication',\n",
       "       'Group Selection', 'Prisoner’s Dilemma', 'Game Theory',\n",
       "       'Learning and Evolution in Games: ESS',\n",
       "       'Some Economics of International Climate Policy',\n",
       "       'Segregation and Strategic Neighborhood Interaction',\n",
       "       'Economic Governance', 'The Prisoner’s Dilemma',\n",
       "       'Biology and Evolutionary Games',\n",
       "       'Strategic and Extensive Form Games',\n",
       "       'Computer Science and Game Theory',\n",
       "       'Nash  John Forbes (Born 1928)', 'Selten  Reinhard (Born 1930)',\n",
       "       'Cooperation', 'Economy as a Complex System',\n",
       "       'IQ and National Productivity', 'Social Capital',\n",
       "       'Collective Rationality', 'Strategic Trade Policy',\n",
       "       'Neuroeconomics', 'A Prisoner’s Dilemma',\n",
       "       'Spatial Patterns of Prisoner’s Dilemma Game in Metapopulations',\n",
       "       'Rationality  History of the Concept', 'Game Theory and Biology',\n",
       "       'Public Goods Experiments', 'Altruism in Experiments',\n",
       "       'Reputation', 'Rational Behaviour',\n",
       "       \"Latinos and US Citizenship Today: The “Prisoner's Dilemma” Revisited…\",\n",
       "       \"Kantian Ethics and the Prisoners' Dilemma\",\n",
       "       'Mathematical <span>Games</span>',\n",
       "       \"Optimal Strategies of the Iterated Prisoner's Dilemma Problem for Multiple Conflicting Objectives\"],\n",
       "      dtype=object)"
      ]
     },
     "execution_count": 5,
     "metadata": {},
     "output_type": "execute_result"
    }
   ],
   "source": [
    "duplicates_title "
   ]
  },
  {
   "cell_type": "code",
   "execution_count": 6,
   "metadata": {},
   "outputs": [],
   "source": [
    "duplicates_in_arxiv = df[\n",
    "    (df[\"title\"].isin(duplicates.index)) & (df[\"provenance\"] == \"arXiv\")\n",
    "][\"title\"].unique()\n"
   ]
  },
  {
   "cell_type": "code",
   "execution_count": 7,
   "metadata": {},
   "outputs": [],
   "source": [
    "diff = list(set(duplicates_title) - set(duplicates_in_arxiv))\n"
   ]
  },
  {
   "cell_type": "code",
   "execution_count": 15,
   "metadata": {},
   "outputs": [],
   "source": [
    "df_without_arxiv = df[~(df[\"provenance\"] == \"arXiv\")]\n"
   ]
  },
  {
   "cell_type": "code",
   "execution_count": 16,
   "metadata": {},
   "outputs": [],
   "source": [
    "df_without_arxiv = df_without_arxiv.drop_duplicates(subset=\"title\")\n"
   ]
  },
  {
   "cell_type": "code",
   "execution_count": 17,
   "metadata": {},
   "outputs": [],
   "source": [
    "df_without_arxiv.to_json(\"../data/pd_November_2018_without_arxiv.json\")\n"
   ]
  },
  {
   "cell_type": "markdown",
   "metadata": {},
   "source": [
    "**Drop duplicates.**"
   ]
  },
  {
   "cell_type": "code",
   "execution_count": 18,
   "metadata": {},
   "outputs": [],
   "source": [
    "articles_to_drop = df[\n",
    "    (df[\"title\"].isin(duplicates.index)) & (df[\"provenance\"] == \"arXiv\")\n",
    "][\"unique_key\"].unique()\n"
   ]
  },
  {
   "cell_type": "code",
   "execution_count": 19,
   "metadata": {},
   "outputs": [],
   "source": [
    "df = df[~df[\"unique_key\"].isin(articles_to_drop)]\n"
   ]
  },
  {
   "cell_type": "code",
   "execution_count": 20,
   "metadata": {},
   "outputs": [
    {
     "data": {
      "text/plain": [
       "(3077, 3155)"
      ]
     },
     "execution_count": 20,
     "metadata": {},
     "output_type": "execute_result"
    }
   ],
   "source": [
    "len(df[\"title\"].unique()), len(df[\"unique_key\"].unique())\n"
   ]
  },
  {
   "cell_type": "markdown",
   "metadata": {},
   "source": [
    "**Export clean json.**"
   ]
  },
  {
   "cell_type": "code",
   "execution_count": 21,
   "metadata": {},
   "outputs": [],
   "source": [
    "df.to_json(\"../data/pd_November_2018_clean.json\")\n"
   ]
  },
  {
   "cell_type": "code",
   "execution_count": 22,
   "metadata": {},
   "outputs": [],
   "source": [
    "df.to_csv('../data/prisoners_dilemma_articles_meta_data.csv')"
   ]
  },
  {
   "cell_type": "code",
   "execution_count": 4,
   "metadata": {},
   "outputs": [],
   "source": [
    "df = pd.read_csv('../data/prisoners_dilemma_articles_meta_data_clean.csv', index_col=0)"
   ]
  },
  {
   "cell_type": "code",
   "execution_count": 76,
   "metadata": {},
   "outputs": [
    {
     "data": {
      "text/plain": [
       "2500"
      ]
     },
     "execution_count": 76,
     "metadata": {},
     "output_type": "execute_result"
    }
   ],
   "source": [
    "len(df['unique_key'].unique())\\"
   ]
  },
  {
   "cell_type": "code",
   "execution_count": 77,
   "metadata": {},
   "outputs": [],
   "source": [
    "words = [\"prisoner's dilemma\",\n",
    "         \"prisoner’s dilemma\",\n",
    "         \"prisoners dilemma\",\n",
    "         \"prisoners' dilemma\",\n",
    "         \"prisoners evolution\",\n",
    "         \"prisoner dilemma\",\n",
    "         \"prisoner game theory\",\n",
    "         \"equilibria\",\n",
    "         \"cooperation\",\n",
    "         'reciprocity',\n",
    "         \"tit-for-tat\",\n",
    "         \"tit for tat\",\n",
    "         \"zero-determinant\",\n",
    "         \"evolutionary\",\n",
    "         \"altruism\",\n",
    "         \"strategy\",\n",
    "         \"strategies\",\n",
    "         \"extortion\",\n",
    "         \"cooperative\",\n",
    "         \"rational\",\n",
    "         \"evolutionarily stable\"\n",
    "]"
   ]
  },
  {
   "cell_type": "code",
   "execution_count": 78,
   "metadata": {},
   "outputs": [],
   "source": [
    "columns = ['title', 'abstract', 'unique_key', 'primary_category', 'category']"
   ]
  },
  {
   "cell_type": "code",
   "execution_count": 79,
   "metadata": {},
   "outputs": [],
   "source": [
    "temp = df[columns].drop_duplicates()"
   ]
  },
  {
   "cell_type": "code",
   "execution_count": 80,
   "metadata": {},
   "outputs": [],
   "source": [
    "temp = temp.fillna('Not given')"
   ]
  },
  {
   "cell_type": "code",
   "execution_count": 81,
   "metadata": {},
   "outputs": [],
   "source": [
    "not_remove = [\n",
    "'Rosalind’s Ghost: Biology, Collaboration, and the Female',\n",
    "'How human location-specific contact patterns impact spatial transmission between populations?',\n",
    "'A suicide-based typology of suicide terrorists: Conventional, coerced, escapist and indirect',\n",
    "'Unauthorized Horizontal Spread in the Laboratory Environment: The Tactics of Lula, a Temperate Lambdoid Bacteriophage of <i>Escherichia coli</i>',\n",
    "'Model-Selection-Based Approach for Calculating Cellular Multiplicity of Infection during Virus Colonization of Multi-Cellular Hosts',\n",
    "'Experimental Evolution of <i>Trichoderma citrinoviride</i> for Faster Deconstruction of Cellulose',\n",
    "'Interpopulational differences in the use of the Tit-For-Tat strategy during predator inspection in the guppy ',\n",
    "'Cooperate to accumulate',\n",
    "'A simulation of moral behavior within marketing exchange relationships',\n",
    "'Truthful Channel Sharing for Self Coexistence of Overlapping Medical Body Area Networks',\n",
    "'Finding overlapping communities in multilayer networks',\n",
    "'Conditions for the Emergence of Shared Norms in Populations with Incompatible Preferences',\n",
    "'The Impact of Payoff Function and Local Interaction on the ',\n",
    "'Modelling and Computation in the Valuation of Carbon Derivatives with Stochastic Convenience Yields',\n",
    "'Dissertation abstract: A status theory of collective action',\n",
    "'Managing the climate commons at the nexus of ecology, behaviour and economics',\n",
    "'The Emergence of Groups and Inequality through Co-Adaptation',\n",
    "'Pursuing the big questions about interspecific mutualism: a review of theoretical approaches',\\\n",
    "'Tunable Stochastic Pulsing in the <i>Escherichia coli</i> Multiple Antibiotic Resistance Network from Interlinked Positive and Negative Feedback Loops',\n",
    "'The Migrations of Human Populations',\n",
    "'Reputation',\n",
    "'Public Goods Experiments',\n",
    "'From the Editors: Student samples in international business research',\n",
    "'The foreign language effect on the self-serving bias: A field experiment in the high school classroom',\n",
    "'the logic of animal conflict',\n",
    "'Dynamics of International Relations: Conflict and Mutual Gain in an Era of Global Interdependence',\n",
    "'Less is more: rarity trumps quality in luxury markets',\n",
    "'Risk Management and Business Ethics: Integrating the Human Factor',\n",
    "'Delay and Probability Discounting of Sexual and Monetary Outcomes in Individuals with Cocaine Use Disorders and Matched Controls',\n",
    "'Investigation on law and economics of listed companies’ financing preference based on complex network theory',\n",
    "'Why we sometimes punish the innocent: The role of group entitativity in collective punishment',\n",
    "'Early warning signs for saddle-escape transitions in complex networks',\n",
    "'Self-disclosure at international cartels',\n",
    "'Interrelations of Graph Distance Measures Based on Topological Indices',\n",
    "'Development of shared information in communication despite hippocampal amnesia',\n",
    "'Selfish and Altruistic Bacterial Populations Maximize Fitness Under Stress by Local Segregation',\n",
    "'Modeling crowdsourcing as collective problem solving',\n",
    "'Predators promote defence of rhizosphere bacterial populations by selective feeding on non-toxic cheaters',\n",
    "'Ten Simple Rules for Protecting Research Integrity',\n",
    "'Agent-Based Models',\n",
    "'Good Fences: The Importance of Setting Boundaries for Peaceful Coexistence',\n",
    "'Perverted Research and the Political Imagination – The Trial of the Good Scholar Švejk',\n",
    "'Presenting an Approach for Conducting Knowledge Architecture within Large-Scale Organizations',\n",
    "'Multi-agent modelling for revenue management',\n",
    "'Dynamics of a producer-freeloader ecosystem on the brink of collapse',\n",
    "'Leading from the Centre: A Comprehensive Examination of the Relationship between Central Playing Positions and Leadership in Sport',\n",
    "'Impact of Degree Heterogeneity on Attack Vulnerability of Interdependent Networks',\n",
    "'Time Preferences and Natural Resource Extraction Behavior: An Experimental Study from Artisanal Fisheries in Zanzibar',\n",
    "'Molecular Biopolitics, Somatic Ethics and the Spirit of Biocapital',\n",
    "'Specific and Individuated Death Reflection Fosters Identity Integration',\n",
    "'Differences in Collaboration Patterns across Discipline, Career Stage, and Gender',\n",
    "'Search, Memory, and Choice Error: An Experiment',\n",
    "'Coping with Bullying in the Classroom Through Agent-Based Modeling']"
   ]
  },
  {
   "cell_type": "code",
   "execution_count": 82,
   "metadata": {},
   "outputs": [],
   "source": [
    "def word_in_text(row, word, not_remove):\n",
    "    if row.title in not_remove:\n",
    "        return True\n",
    "    return (word in row.title.lower() or word in row.abstract.lower()\n",
    "                or word in row.primary_category.lower() or word in row.category.lower())"
   ]
  },
  {
   "cell_type": "code",
   "execution_count": 83,
   "metadata": {},
   "outputs": [],
   "source": [
    "for i, word in enumerate(words):\n",
    "    values = []\n",
    "    for j, row in temp.iterrows():\n",
    "        values.append(word_in_text(row, word, not_remove))\n",
    "    temp[f'key_{i}'] = values"
   ]
  },
  {
   "cell_type": "code",
   "execution_count": 84,
   "metadata": {},
   "outputs": [
    {
     "data": {
      "text/plain": [
       "Index(['title', 'abstract', 'unique_key', 'primary_category', 'category',\n",
       "       'key_0', 'key_1', 'key_2', 'key_3', 'key_4', 'key_5', 'key_6', 'key_7',\n",
       "       'key_8', 'key_9', 'key_10', 'key_11', 'key_12', 'key_13', 'key_14',\n",
       "       'key_15', 'key_16', 'key_17', 'key_18', 'key_19', 'key_20'],\n",
       "      dtype='object')"
      ]
     },
     "execution_count": 84,
     "metadata": {},
     "output_type": "execute_result"
    }
   ],
   "source": [
    "temp.columns"
   ]
  },
  {
   "cell_type": "code",
   "execution_count": 85,
   "metadata": {},
   "outputs": [],
   "source": [
    "check = sum([temp[f'key_{i}'].values for i in range(len(words))])\n",
    "temp['check'] = check"
   ]
  },
  {
   "cell_type": "code",
   "execution_count": 86,
   "metadata": {},
   "outputs": [],
   "source": [
    "keys = temp.groupby('unique_key')['check'].max()\n",
    "list_of_keys = keys[keys.values == False].index"
   ]
  },
  {
   "cell_type": "code",
   "execution_count": 87,
   "metadata": {},
   "outputs": [
    {
     "data": {
      "text/plain": [
       "256"
      ]
     },
     "execution_count": 87,
     "metadata": {},
     "output_type": "execute_result"
    }
   ],
   "source": [
    "len(list_of_keys.unique())"
   ]
  },
  {
   "cell_type": "code",
   "execution_count": 88,
   "metadata": {},
   "outputs": [],
   "source": [
    "to_clean = temp[temp['unique_key'].isin(list_of_keys.unique())]"
   ]
  },
  {
   "cell_type": "code",
   "execution_count": 89,
   "metadata": {},
   "outputs": [],
   "source": [
    "to_clean[['title', 'abstract', 'unique_key']].drop_duplicates().reset_index(drop=True).to_csv('../data/to_clean.csv')"
   ]
  },
  {
   "cell_type": "code",
   "execution_count": null,
   "metadata": {},
   "outputs": [],
   "source": []
  },
  {
   "cell_type": "code",
   "execution_count": null,
   "metadata": {},
   "outputs": [],
   "source": []
  },
  {
   "cell_type": "code",
   "execution_count": 7,
   "metadata": {},
   "outputs": [],
   "source": [
    "keys_to_delete = pd.read_csv('../data/to_delete.csv', encoding = \"ISO-8859-1\")"
   ]
  },
  {
   "cell_type": "code",
   "execution_count": 9,
   "metadata": {},
   "outputs": [
    {
     "data": {
      "text/plain": [
       "30"
      ]
     },
     "execution_count": 9,
     "metadata": {},
     "output_type": "execute_result"
    }
   ],
   "source": [
    "len(keys_to_delete)"
   ]
  },
  {
   "cell_type": "code",
   "execution_count": 37,
   "metadata": {
    "scrolled": true
   },
   "outputs": [],
   "source": [
    "keys_to_clean = list(set(list_of_keys.unique()) - set(keys_to_delete['unique_key'].unique()))"
   ]
  },
  {
   "cell_type": "code",
   "execution_count": 8,
   "metadata": {},
   "outputs": [
    {
     "ename": "NameError",
     "evalue": "name 'keys_to_clean' is not defined",
     "output_type": "error",
     "traceback": [
      "\u001b[0;31m---------------------------------------------------------------------------\u001b[0m",
      "\u001b[0;31mNameError\u001b[0m                                 Traceback (most recent call last)",
      "\u001b[0;32m<ipython-input-8-4de06e381152>\u001b[0m in \u001b[0;36m<module>\u001b[0;34m\u001b[0m\n\u001b[0;32m----> 1\u001b[0;31m \u001b[0mlen\u001b[0m\u001b[0;34m(\u001b[0m\u001b[0mkeys_to_clean\u001b[0m\u001b[0;34m)\u001b[0m\u001b[0;34m\u001b[0m\u001b[0;34m\u001b[0m\u001b[0m\n\u001b[0m",
      "\u001b[0;31mNameError\u001b[0m: name 'keys_to_clean' is not defined"
     ]
    }
   ],
   "source": [
    "len(keys_to_clean)"
   ]
  },
  {
   "cell_type": "code",
   "execution_count": 30,
   "metadata": {},
   "outputs": [],
   "source": [
    "df_with_keys = df[df['unique_key'].isin(list(keys_to_clean))]"
   ]
  },
  {
   "cell_type": "code",
   "execution_count": 31,
   "metadata": {},
   "outputs": [],
   "source": [
    "df_with_keys = df_with_keys.drop_duplicates()"
   ]
  },
  {
   "cell_type": "code",
   "execution_count": 32,
   "metadata": {},
   "outputs": [],
   "source": [
    "df_with_keys = df_with_keys[columns].drop_duplicates()"
   ]
  },
  {
   "cell_type": "code",
   "execution_count": 33,
   "metadata": {},
   "outputs": [
    {
     "data": {
      "text/plain": [
       "412"
      ]
     },
     "execution_count": 33,
     "metadata": {},
     "output_type": "execute_result"
    }
   ],
   "source": [
    "len(df_with_keys)"
   ]
  },
  {
   "cell_type": "markdown",
   "metadata": {},
   "source": [
    "**After cleaning**"
   ]
  },
  {
   "cell_type": "code",
   "execution_count": 10,
   "metadata": {},
   "outputs": [],
   "source": [
    "df = pd.read_csv('../data/prisoners_dilemma_articles_meta_data_clean.csv')"
   ]
  },
  {
   "cell_type": "code",
   "execution_count": 11,
   "metadata": {},
   "outputs": [],
   "source": [
    "keys_to_delete = pd.read_csv('../data/to_delete.csv', encoding = \"ISO-8859-1\")"
   ]
  },
  {
   "cell_type": "code",
   "execution_count": 12,
   "metadata": {},
   "outputs": [],
   "source": [
    "list_keys_to_delete = keys_to_delete['unique_key'].unique()"
   ]
  },
  {
   "cell_type": "code",
   "execution_count": 13,
   "metadata": {},
   "outputs": [
    {
     "data": {
      "text/plain": [
       "30"
      ]
     },
     "execution_count": 13,
     "metadata": {},
     "output_type": "execute_result"
    }
   ],
   "source": [
    "len(list_keys_to_delete)"
   ]
  },
  {
   "cell_type": "code",
   "execution_count": 14,
   "metadata": {},
   "outputs": [],
   "source": [
    "df_without_keys = df[~df['unique_key'].isin(list(list_keys_to_delete))]"
   ]
  },
  {
   "cell_type": "code",
   "execution_count": 15,
   "metadata": {},
   "outputs": [
    {
     "data": {
      "text/plain": [
       "2470"
      ]
     },
     "execution_count": 15,
     "metadata": {},
     "output_type": "execute_result"
    }
   ],
   "source": [
    "len(df_without_keys['unique_key'].unique())"
   ]
  },
  {
   "cell_type": "code",
   "execution_count": 16,
   "metadata": {},
   "outputs": [],
   "source": [
    "df_without_keys.to_csv('../data/prisoners_dilemma_articles_meta_data_clean.csv')"
   ]
  },
  {
   "cell_type": "markdown",
   "metadata": {},
   "source": [
    "**dates**"
   ]
  },
  {
   "cell_type": "code",
   "execution_count": 6,
   "metadata": {},
   "outputs": [],
   "source": [
    "import pandas as pd\n",
    "import numpy as np"
   ]
  },
  {
   "cell_type": "code",
   "execution_count": 3,
   "metadata": {},
   "outputs": [],
   "source": [
    "df = pd.read_csv('../data/prisoners_dilemma_articles_meta_data_clean.csv')"
   ]
  },
  {
   "cell_type": "code",
   "execution_count": 21,
   "metadata": {},
   "outputs": [
    {
     "data": {
      "text/plain": [
       "array([\"The Iterated Prisoner's Dilemma\",\n",
       "       'Game Theory: A Classical Introduction, Mathematical Games, and the Tournament',\n",
       "       \"Solving a Complex Prisoner's Dilemma with Self-Modifying Policies\",\n",
       "       'Essentials of Game Theory: A Concise Multidisciplinary Introduction',\n",
       "       \"Quasi-Stable States in the Iterated-Prisoner's Dilemma\"],\n",
       "      dtype=object)"
      ]
     },
     "execution_count": 21,
     "metadata": {},
     "output_type": "execute_result"
    }
   ],
   "source": [
    "df[np.isnan(df['date'])]['title'].unique()"
   ]
  },
  {
   "cell_type": "code",
   "execution_count": 22,
   "metadata": {},
   "outputs": [],
   "source": [
    "missing_dates = [('Game Theory: A Classical Introduction, Mathematical Games, and the Tournament', 2017),\n",
    "                 (\"Solving a Complex Prisoner's Dilemma with Self-Modifying Policies\", 1999),\n",
    "                 ('Essentials of Game Theory: A Concise Multidisciplinary Introduction', 2008),\n",
    "                 (\"Quasi-Stable States in the Iterated-Prisoner's Dilemma\", 2004)]"
   ]
  },
  {
   "cell_type": "code",
   "execution_count": 38,
   "metadata": {},
   "outputs": [
    {
     "data": {
      "text/plain": [
       "1994.0"
      ]
     },
     "execution_count": 38,
     "metadata": {},
     "output_type": "execute_result"
    }
   ],
   "source": [
    "df.iloc[0, 4]"
   ]
  },
  {
   "cell_type": "code",
   "execution_count": 39,
   "metadata": {},
   "outputs": [],
   "source": [
    "for title, year in missing_dates:\n",
    "    temp = df[df['title'] == title]\n",
    "    for i in temp.index:\n",
    "        df.iloc[i, 4] = year"
   ]
  },
  {
   "cell_type": "code",
   "execution_count": 40,
   "metadata": {},
   "outputs": [
    {
     "data": {
      "text/plain": [
       "array([\"The Iterated Prisoner's Dilemma\"], dtype=object)"
      ]
     },
     "execution_count": 40,
     "metadata": {},
     "output_type": "execute_result"
    }
   ],
   "source": [
    "df[np.isnan(df['date'])]['title'].unique()"
   ]
  },
  {
   "cell_type": "code",
   "execution_count": 41,
   "metadata": {},
   "outputs": [],
   "source": [
    "df.to_csv('../data/prisoners_dilemma_articles_meta_data_clean.csv')"
   ]
  },
  {
   "cell_type": "markdown",
   "metadata": {},
   "source": [
    "**drop title**"
   ]
  },
  {
   "cell_type": "code",
   "execution_count": 46,
   "metadata": {},
   "outputs": [],
   "source": [
    "title = 'Historical development and current status of organ procurement from death-row prisoners in China'"
   ]
  },
  {
   "cell_type": "code",
   "execution_count": 47,
   "metadata": {},
   "outputs": [],
   "source": [
    "df = df[df['title'] != title]"
   ]
  },
  {
   "cell_type": "code",
   "execution_count": 48,
   "metadata": {},
   "outputs": [],
   "source": [
    "df.to_csv('../data/prisoners_dilemma_articles_meta_data_clean.csv')"
   ]
  },
  {
   "cell_type": "markdown",
   "metadata": {},
   "source": [
    "**checking manual papers**"
   ]
  },
  {
   "cell_type": "code",
   "execution_count": 5,
   "metadata": {},
   "outputs": [],
   "source": [
    "df = pd.read_csv('../data/prisoners_dilemma_articles_meta_data_clean.csv', index_col=0)"
   ]
  },
  {
   "cell_type": "code",
   "execution_count": 8,
   "metadata": {},
   "outputs": [],
   "source": [
    "manuals = df[df['provenance'] == 'Manual']"
   ]
  },
  {
   "cell_type": "code",
   "execution_count": 15,
   "metadata": {},
   "outputs": [
    {
     "data": {
      "text/plain": [
       "array(['evolution of cooperation without reciprocity',\n",
       "       \"the evolution of strategies in the iterated prisoner's dilemma\",\n",
       "       'launching “the evolution of cooperation”',\n",
       "       'the further evolution of cooperation',\n",
       "       \"effective choice in the prisoner's dilemma\",\n",
       "       \"more effective choice in the prisoner's dilemma\",\n",
       "       \"how to cope with noise in the iterated prisoner's dilemma\",\n",
       "       'the emergence of cooperation among egoists'], dtype=object)"
      ]
     },
     "execution_count": 15,
     "metadata": {},
     "output_type": "execute_result"
    }
   ],
   "source": [
    "manuals[manuals.author.isin(['Axelrod Robert', 'Robert Axelrod'])].title.unique()"
   ]
  },
  {
   "cell_type": "code",
   "execution_count": 19,
   "metadata": {},
   "outputs": [
    {
     "data": {
      "text/html": [
       "<div>\n",
       "<style scoped>\n",
       "    .dataframe tbody tr th:only-of-type {\n",
       "        vertical-align: middle;\n",
       "    }\n",
       "\n",
       "    .dataframe tbody tr th {\n",
       "        vertical-align: top;\n",
       "    }\n",
       "\n",
       "    .dataframe thead th {\n",
       "        text-align: right;\n",
       "    }\n",
       "</style>\n",
       "<table border=\"1\" class=\"dataframe\">\n",
       "  <thead>\n",
       "    <tr style=\"text-align: right;\">\n",
       "      <th></th>\n",
       "      <th>abstract</th>\n",
       "      <th>author</th>\n",
       "      <th>category</th>\n",
       "      <th>date</th>\n",
       "      <th>doi</th>\n",
       "      <th>journal</th>\n",
       "      <th>key</th>\n",
       "      <th>open_access</th>\n",
       "      <th>primary_category</th>\n",
       "      <th>provenance</th>\n",
       "      <th>score</th>\n",
       "      <th>title</th>\n",
       "      <th>unique_key</th>\n",
       "      <th>url</th>\n",
       "      <th>name_check</th>\n",
       "    </tr>\n",
       "  </thead>\n",
       "  <tbody>\n",
       "    <tr>\n",
       "      <td>19080</td>\n",
       "      <td>Not given</td>\n",
       "      <td>Joshua Plotkin</td>\n",
       "      <td>Not given</td>\n",
       "      <td>2012.0</td>\n",
       "      <td>10.1073/pnas.1208087109</td>\n",
       "      <td>proceedings of the national academy of sciences</td>\n",
       "      <td>Not given</td>\n",
       "      <td>Not given</td>\n",
       "      <td>Not given</td>\n",
       "      <td>Manual</td>\n",
       "      <td>Not given</td>\n",
       "      <td>extortion and cooperation in the prisoner’s di...</td>\n",
       "      <td>b9017e30774b4a1b764c12156a7570e7</td>\n",
       "      <td>http://www.pnas.org/content/109/26/10134.short</td>\n",
       "      <td>Joshua Plotkin</td>\n",
       "    </tr>\n",
       "  </tbody>\n",
       "</table>\n",
       "</div>"
      ],
      "text/plain": [
       "        abstract          author   category    date                       doi  \\\n",
       "19080  Not given  Joshua Plotkin  Not given  2012.0  10.1073/pnas.1208087109    \n",
       "\n",
       "                                                journal        key  \\\n",
       "19080  proceedings of the national academy of sciences   Not given   \n",
       "\n",
       "      open_access primary_category provenance      score  \\\n",
       "19080   Not given        Not given     Manual  Not given   \n",
       "\n",
       "                                                   title  \\\n",
       "19080  extortion and cooperation in the prisoner’s di...   \n",
       "\n",
       "                             unique_key  \\\n",
       "19080  b9017e30774b4a1b764c12156a7570e7   \n",
       "\n",
       "                                                   url      name_check  \n",
       "19080  http://www.pnas.org/content/109/26/10134.short   Joshua Plotkin  "
      ]
     },
     "execution_count": 19,
     "metadata": {},
     "output_type": "execute_result"
    }
   ],
   "source": [
    "manuals[manuals.author == 'Joshua Plotkin']"
   ]
  },
  {
   "cell_type": "code",
   "execution_count": null,
   "metadata": {},
   "outputs": [],
   "source": []
  }
 ],
 "metadata": {
  "anaconda-cloud": {},
  "kernelspec": {
   "display_name": "literature",
   "language": "python",
   "name": "literature"
  },
  "language_info": {
   "codemirror_mode": {
    "name": "ipython",
    "version": 3
   },
   "file_extension": ".py",
   "mimetype": "text/x-python",
   "name": "python",
   "nbconvert_exporter": "python",
   "pygments_lexer": "ipython3",
   "version": "3.6.7"
  }
 },
 "nbformat": 4,
 "nbformat_minor": 2
}
