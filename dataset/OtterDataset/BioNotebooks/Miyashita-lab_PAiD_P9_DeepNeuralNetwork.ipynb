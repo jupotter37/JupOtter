{
  "nbformat": 4,
  "nbformat_minor": 0,
  "metadata": {
    "colab": {
      "provenance": []
    },
    "kernelspec": {
      "name": "python3",
      "display_name": "Python 3"
    },
    "language_info": {
      "name": "python"
    }
  },
  "cells": [
    {
      "cell_type": "markdown",
      "source": [
        "<h1> 実習9　AIで『手書きの数字の数をあてよう』<p>\n",
        "\n",
        "<dr>\n",
        "<h2> AI（学習器）にDeep Neural Networkとよばれる深層学習を用いたケース。<p>\n",
        "\n",
        "<h3> mnistと呼ばれる手書き数字データを用いた。尚、sklearnを用いた。Google Colaboratoryを使うこと。<p>\n",
        "\n",
        "\n",
        "---\n",
        "\n",
        "\n",
        "<h1> Practice 9. Prediction of the number from hand writing number by AI <p>\n",
        "<h2> -- Deep Neural Network -- <p>\n",
        "<h3> We used mnist for the data of the hand writing number and the label, and sklearn for the library of machine learning. <p>\n",
        "\n",
        "\n",
        "\n",
        "---\n",
        "\n",
        "For education <p>\n",
        "(c) 2023 Naoyuki Miyashita, KINDAI University<p>\n",
        "Naoyuki Miyashita, Biology-Oriented Science and Technology, KINDAI University,  miya@miyashita_lab.net <p>\n",
        "License: GPL3.1\n",
        "\n",
        "\n",
        "---\n",
        "\n"
      ],
      "metadata": {
        "id": "Vs5PLbu7KmjO"
      }
    },
    {
      "cell_type": "markdown",
      "source": [
        "ここでは、Deep Neural Network（深層学習）を用いた学習器（AI）に、手書き数字データを勉強させ、勉強させればさせるほど賢くなることを体験しよう。深層学習器の原理やこの課題などを、B-AiDaS科目である『AI・データサイエンス基礎実習』講義にて詳しく教えながら体験してもらう。"
      ],
      "metadata": {
        "id": "5Pr3wjKNskG0"
      }
    },
    {
      "cell_type": "markdown",
      "source": [
        "\n",
        "\n",
        "---\n",
        "\n",
        "\n",
        "<h1> [ 準備 ]"
      ],
      "metadata": {
        "id": "vJSXZVD_TpsQ"
      }
    },
    {
      "cell_type": "markdown",
      "source": [
        "<B> 準備1. mnistの読み込みと正規化を実施 </B> <p>\n",
        "データ中の3割をテストデータ(test)とし、残りを学習用データ(train)としました。test_size=0.3となっている値を変更することで割合を変えられます。<p>\n",
        "学習用データ(train_dataとtrain_label)を用いてAIは勉強します。また、テストデータ(test_data)を用いて試験して性能を調べます。データには入力データ(data)と答え（label）があり、学習用データの入力（train_data）とその答え(train_label)のペアの対応をなん度も勉強することでAIは賢くなります。"
      ],
      "metadata": {
        "id": "6BBSFl7ZNdz2"
      }
    },
    {
      "cell_type": "code",
      "execution_count": null,
      "metadata": {
        "id": "Wo6tgmruKUKD"
      },
      "outputs": [],
      "source": [
        "#準備１\n",
        "from sklearn.datasets import fetch_openml\n",
        "mnist = fetch_openml('mnist_784')\n",
        "from sklearn.model_selection import train_test_split\n",
        "train_data,test_data, train_label, test_label = train_test_split(mnist.data, mnist.target, test_size=0.3, random_state=0)\n",
        "#正規化\n",
        "from sklearn.preprocessing import StandardScaler\n",
        "std_scaler = StandardScaler()\n",
        "std_scaler.fit(train_data)\n",
        "train_data_norm = std_scaler.transform(train_data)\n",
        "test_data_norm = std_scaler.transform(test_data)"
      ]
    },
    {
      "cell_type": "markdown",
      "source": [
        "<B> 準備2. 文字データとラベルデータを表示させる命令を作成（関数）</B> <p>\n",
        "入力する文字データを表示させるときは、<p>\n",
        "> show_data_picture(データの番号, 入力データ）<p>\n",
        "\n",
        "で表示されます。また、その入力データの答えは<p>\n",
        "> show_label_data(データの番号, ラベルデータ）<p>\n",
        "\n",
        "で表示されます。"
      ],
      "metadata": {
        "id": "YA7H0_4zO9Hh"
      }
    },
    {
      "cell_type": "code",
      "source": [
        "#準備2\n",
        "import matplotlib.pyplot as plt\n",
        "def show_data_picture(num, data):\n",
        "  numdata = data.iloc[num].values.reshape(28,28)\n",
        "  plt.imshow(numdata,'gray')\n",
        "def show_label_data(num, data):\n",
        "  numlabel = data.iloc[num]\n",
        "  print(\"正解= \", numlabel)"
      ],
      "metadata": {
        "id": "3F6HFVuFPLbs"
      },
      "execution_count": null,
      "outputs": []
    },
    {
      "cell_type": "markdown",
      "source": [
        "<B> 準備3. AI学習器のモデルの設定 (今回、Deep Neural Networkとした) </B> <p>\n",
        " 学習数(max_iter)の値を変えて精度について調べてみて下さい。初期値は１になっています。<p>\n",
        " 学習は<p>\n",
        " > nn_model.fit( train_data_norm, train_label ) <p>\n",
        "\n",
        " で実行されます。"
      ],
      "metadata": {
        "id": "CzJQdT-GR-KD"
      }
    },
    {
      "cell_type": "code",
      "source": [
        "#準備3\n",
        "import sklearn.neural_network\n",
        "nn_model = sklearn.neural_network.MLPClassifier(\n",
        "    activation='relu',\n",
        "    solver='lbfgs',\n",
        "    hidden_layer_sizes = (784,400,100,10),\n",
        "    #　学習数\n",
        "    max_iter = 1\n",
        ")"
      ],
      "metadata": {
        "id": "FBVXpo5zR6bR"
      },
      "execution_count": null,
      "outputs": []
    },
    {
      "cell_type": "markdown",
      "source": [
        "<B> 準備4. 学習精度（かしこさ）を計算する命令を作成（関数）</B> <p>\n",
        "最大値100点満点となっており、100だとほぼ満点、0だとほぼ0点の能力となります。<p>\n",
        "表示させる際は、学習の後、<p>\n",
        "\n",
        "> accuracy_x(test_data_norm, test_label)\n",
        "\n",
        "で表示されます。"
      ],
      "metadata": {
        "id": "cYy5H9MSTJy_"
      }
    },
    {
      "cell_type": "code",
      "source": [
        "#準備4\n",
        "def accuracy_x(test_data_norm, test_label):\n",
        "  from sklearn import metrics\n",
        "  accuracy = metrics.accuracy_score(test_label, nn_model.predict(test_data_norm))\n",
        "  print(\"精度：\", accuracy*100)"
      ],
      "metadata": {
        "id": "Q_4U8rIdTRvi"
      },
      "execution_count": null,
      "outputs": []
    },
    {
      "cell_type": "markdown",
      "source": [
        "<B> 準備5. AIで予測させる命令（関数）　</B> <p>\n",
        "テストの10番目の入力データのAIによる答えは、<p>\n",
        "\n",
        "> Anser(10)\n",
        "\n",
        "と記載すると得られる。"
      ],
      "metadata": {
        "id": "mrN9wdbrbViW"
      }
    },
    {
      "cell_type": "code",
      "source": [
        "#準備5\n",
        "def Anser( data_check ):\n",
        "  A=nn_model.predict( test_data_norm[data_check].reshape(1,-1))\n",
        "  print (data_check, \" 番目の手書きデータのAIの出した答えは、\", A[0])"
      ],
      "metadata": {
        "id": "xm1EixpIbmEM"
      },
      "execution_count": null,
      "outputs": []
    },
    {
      "cell_type": "markdown",
      "source": [
        "ここまでで、AIを動かすまでの準備ができました。さぁ、「練習」セクションで実際にAIを動かしてみましょう。<p>\n",
        "勉強をたくさんさせると賢くなることを体験しよう！\n"
      ],
      "metadata": {
        "id": "A7_BYPlMsLta"
      }
    },
    {
      "cell_type": "markdown",
      "source": [
        "\n",
        "\n",
        "---\n",
        "\n",
        "\n",
        "<h1> [ 練習 ] </h1>"
      ],
      "metadata": {
        "id": "G-G-DvieUZI0"
      }
    },
    {
      "cell_type": "markdown",
      "source": [
        "<h1> 練習１</h1>\n",
        "最初にAIに学習させる前に元のmnistにどのようなデータが入っているのかを確かめてみましょう。<p>\n",
        "例えば、学習データの25番目の入力データは？また、そのラベル（答え）は？<p>\n",
        "\n",
        "自分でいろいろな番号のデータの内容を確かめてみましょう。<p>\n",
        "\n",
        "> number = 25\n",
        "\n",
        "の番号を変えると調べられます。このとき、関数の変数が何になっているか、確認しておこう。"
      ],
      "metadata": {
        "id": "HrG_swA5VHd5"
      }
    },
    {
      "cell_type": "code",
      "source": [
        "#練習1\n",
        "number = 25\n",
        "show_data_picture(number, train_data)\n",
        "show_label_data(number, train_label)"
      ],
      "metadata": {
        "id": "7Pi8sZr9Z-Pw"
      },
      "execution_count": null,
      "outputs": []
    },
    {
      "cell_type": "markdown",
      "source": [
        "<h1>練習２</h1><p>\n",
        "\n",
        "学習前に、テストデータについても確認しよう。<p>\n",
        "例えば、テストデータの25番目の入力データとそのラベル（答え）は？<p>\n",
        "自分でいろいろな番号のデータの内容を確かめてみましょう。<p>\n",
        "\n",
        "> number = 25\n",
        "\n",
        "の番号を変えると調べられます。このとき、関数の変数が何になっているか、確認しておこう。"
      ],
      "metadata": {
        "id": "9UaGaA33eRkm"
      }
    },
    {
      "cell_type": "code",
      "source": [
        "#練習2\n",
        "number = 25\n",
        "show_data_picture(number, test_data)\n",
        "show_label_data(number, test_label)"
      ],
      "metadata": {
        "id": "2-FyG7GUeO97"
      },
      "execution_count": null,
      "outputs": []
    },
    {
      "cell_type": "markdown",
      "source": [
        "<h1> 練習3 </h1> <p>\n",
        "それではまず、学習数１のままでAIに勉強してもらおう。<p>\n"
      ],
      "metadata": {
        "id": "atuOnCgFfY60"
      }
    },
    {
      "cell_type": "code",
      "source": [
        "#練習3\n",
        "nn_model.fit( train_data_norm, train_label )"
      ],
      "metadata": {
        "id": "GCF3AWzFfwR7"
      },
      "execution_count": null,
      "outputs": []
    },
    {
      "cell_type": "markdown",
      "source": [
        "3-1. その時の、成績を出してみましょう。<p>\n"
      ],
      "metadata": {
        "id": "ymrF--27i9EK"
      }
    },
    {
      "cell_type": "code",
      "source": [
        "#練習3-1\n",
        "accuracy_x(test_data_norm, test_label)"
      ],
      "metadata": {
        "id": "cC51FL5xjVQK"
      },
      "execution_count": null,
      "outputs": []
    },
    {
      "cell_type": "markdown",
      "source": [
        "3-2. さらに、テストデータ25番を見せて、AIが何と答えるか調べよう。正解と同じですか？<p>\n"
      ],
      "metadata": {
        "id": "HHBjxz6UjGTK"
      }
    },
    {
      "cell_type": "code",
      "source": [
        "#練習3-2\n",
        "number = 25\n",
        "Anser(number)\n",
        "show_data_picture(number, test_data)\n",
        "show_label_data(number, test_label)"
      ],
      "metadata": {
        "id": "A5sCykJij_lX"
      },
      "execution_count": null,
      "outputs": []
    },
    {
      "cell_type": "markdown",
      "source": [
        "3-3.　他の番号のテストデータについても調べてみよう？正解と同じですか？"
      ],
      "metadata": {
        "id": "wiO2KBYGlpir"
      }
    },
    {
      "cell_type": "code",
      "source": [
        "#練習3-3\n",
        "number = 1053\n",
        "Anser(number)\n",
        "show_data_picture(number, test_data)\n",
        "show_label_data(number, test_label)"
      ],
      "metadata": {
        "id": "CXjqUZJPluH4"
      },
      "execution_count": null,
      "outputs": []
    },
    {
      "cell_type": "markdown",
      "source": [
        "<h1>練習4</h1>\n",
        "AIの勉強量を増やしてみよう。準備３のmaxitrの値を増やそう20程度にして、準備３を実行後、以下の学習を実行してみよう。"
      ],
      "metadata": {
        "id": "vPxtf3d2l2EW"
      }
    },
    {
      "cell_type": "code",
      "source": [
        "#練習4\n",
        "nn_model.fit( train_data_norm, train_label )"
      ],
      "metadata": {
        "id": "SUEJFM5im600"
      },
      "execution_count": null,
      "outputs": []
    },
    {
      "cell_type": "markdown",
      "source": [
        "4-1. その時の、成績を出してみましょう。<p>"
      ],
      "metadata": {
        "id": "bzZl3eOfnfLE"
      }
    },
    {
      "cell_type": "code",
      "source": [
        "#練習4-1\n",
        "accuracy_x(test_data_norm, test_label)"
      ],
      "metadata": {
        "id": "Zl0TwIzknnUp"
      },
      "execution_count": null,
      "outputs": []
    },
    {
      "cell_type": "markdown",
      "source": [
        "4-2. さらに、テストデータ25番を見せて、AIが何と答えるか調べよう。正解と同じですか？<p>"
      ],
      "metadata": {
        "id": "o2ghc4e1n37j"
      }
    },
    {
      "cell_type": "code",
      "source": [
        "#練習4-2\n",
        "number = 25\n",
        "Anser(number)\n",
        "show_data_picture(number, test_data)\n",
        "show_label_data(number, test_label)"
      ],
      "metadata": {
        "id": "Kco_s0i-pmj-"
      },
      "execution_count": null,
      "outputs": []
    },
    {
      "cell_type": "markdown",
      "source": [
        "4-3.　他の番号のテストデータについても調べてみよう？正解と同じですか？"
      ],
      "metadata": {
        "id": "7GdIrBvEp4pq"
      }
    },
    {
      "cell_type": "code",
      "source": [
        "#練習4-3\n",
        "number = 1053\n",
        "Anser(number)\n",
        "show_data_picture(number, test_data)\n",
        "show_label_data(number, test_label)"
      ],
      "metadata": {
        "id": "a7I-lw5Dp6q-"
      },
      "execution_count": null,
      "outputs": []
    },
    {
      "cell_type": "markdown",
      "source": [
        "\n",
        "\n",
        "---\n",
        "\n",
        "\n",
        "簡単なAIを自分で作ってみてどうでしたか？　作るのは案外簡単です。あとは何に、どの様に使うのかです。すなわち、入力データとラベルデータを何にするかで、どんなものにも使える方法です。大規模データをたくさん勉強させると、AIは識別して答えてくれます。"
      ],
      "metadata": {
        "id": "RjaG3ruhqruK"
      }
    }
  ]
}
