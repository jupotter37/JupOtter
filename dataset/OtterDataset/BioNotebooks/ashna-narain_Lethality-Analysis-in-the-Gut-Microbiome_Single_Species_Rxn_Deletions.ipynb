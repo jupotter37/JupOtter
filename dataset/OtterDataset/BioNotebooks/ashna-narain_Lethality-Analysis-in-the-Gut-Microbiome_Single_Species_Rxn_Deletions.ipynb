{
 "cells": [
  {
   "cell_type": "code",
   "execution_count": 1,
   "id": "10801870",
   "metadata": {},
   "outputs": [],
   "source": [
    "import os\n",
    "import warnings\n",
    "import re\n",
    "\n",
    "import math\n",
    "import sympy\n",
    "import scipy\n",
    "import cobra\n",
    "import csv\n",
    "import numpy as np\n",
    "import pandas as pd\n",
    "from cobra.io import read_sbml_model\n",
    "from cobra.medium import minimal_medium\n",
    "from cobra.flux_analysis import (single_gene_deletion, single_reaction_deletion, \n",
    "                                 double_gene_deletion, double_reaction_deletion)"
   ]
  },
  {
   "cell_type": "code",
   "execution_count": 2,
   "id": "cd8cba97",
   "metadata": {},
   "outputs": [
    {
     "data": {
      "text/plain": [
       "['Acidaminococcus_fermentans_DSM_20731',\n",
       " 'Akkermansia_muciniphila_ATCC_BAA_835',\n",
       " 'Alistipes_finegoldii_DSM_17242',\n",
       " 'Alistipes_putredinis_DSM_17216',\n",
       " 'Alistipes_shahii_WAL_8301',\n",
       " 'Bacteroides_caccae_ATCC_43185',\n",
       " 'Bacteroides_coprocola_M16_DSM_17136',\n",
       " 'Bacteroides_eggerthii_DSM_20697',\n",
       " 'Bacteroides_fragilis_NCTC_9343',\n",
       " 'Bacteroides_intestinalis_341_DSM_17393',\n",
       " 'Bacteroides_stercoris_ATCC_43183',\n",
       " 'Bacteroides_thetaiotaomicron_VPI_5482',\n",
       " 'Bacteroides_uniformis_ATCC_8492',\n",
       " 'Bifidobacterium_adolescentis_ATCC_15703',\n",
       " 'Bifidobacterium_bifidum_PRL2010',\n",
       " 'Bifidobacterium_longum_NCC2705',\n",
       " 'Bilophila_wadsworthia_3_1_6',\n",
       " 'Blautia_wexlerae_DSM_19850',\n",
       " 'Citrobacter_amalonaticus_Y19',\n",
       " 'Clostridium_clostridioforme_CM201',\n",
       " 'Collinsella_tanakaei_YIT_12063',\n",
       " 'Coprococcus_catus_GD_7',\n",
       " 'Desulfovibrio_desulfuricans_subsp_desulfuricans_DSM_642',\n",
       " 'Desulfovibrio_piger_ATCC_29098',\n",
       " 'Dialister_invisus_DSM_15470',\n",
       " 'Dorea_longicatena_DSM_13814',\n",
       " 'Enterobacter_cloacae_EcWSU1',\n",
       " 'Enterococcus_faecium_TX1330',\n",
       " 'Escherichia_coli_str_K_12_substr_MG1655',\n",
       " 'Eubacterium_rectale_M104_1',\n",
       " 'Faecalibacterium_prausnitzii_L2_6',\n",
       " 'Fusobacterium_varium_ATCC_27725',\n",
       " 'Haemophilus_parainfluenzae_T3T1',\n",
       " 'Helicobacter_pylori_26695',\n",
       " 'Klebsiella_pneumoniae_pneumoniae_MGH78578',\n",
       " 'Lactobacillus_mucosae_LM1',\n",
       " 'Lactobacillus_reuteri_SD2112_ATCC_55730',\n",
       " 'Megasphaera_elsdenii_DSM_20460',\n",
       " 'Parabacteroides_distasonis_ATCC_8503',\n",
       " 'Parabacteroides_johnsonii_DSM_18315',\n",
       " 'Phascolarctobacterium_succinatutens_YIT_12067',\n",
       " 'Prevotella_ruminicola_23',\n",
       " 'Pseudoflavonifractor_capillosus_strain_ATCC_29799',\n",
       " 'Roseburia_intestinalis_L1_82',\n",
       " 'Roseburia_inulinivorans_DSM_16841',\n",
       " 'Ruminococcus_bromii_L2_63',\n",
       " 'Ruminococcus_callidus_ATCC_2776001',\n",
       " 'Ruminococcus_torques_ATCC_27756',\n",
       " 'Shigella_flexneri_2002017',\n",
       " 'Streptococcus_salivarius_JIM8777',\n",
       " 'Subdoligranulum_variabile_DSM_15176',\n",
       " 'Veillonella_atypica_ACS_049_V_Sch6']"
      ]
     },
     "execution_count": 2,
     "metadata": {},
     "output_type": "execute_result"
    }
   ],
   "source": [
    "org_list_file = open('/Users/ashnanarain/Computational_Biology/Gut_Microbiome/Models.csv')\n",
    "org_names = [(i.split())[0] for i in org_list_file.readlines()]\n",
    "org_names"
   ]
  },
  {
   "cell_type": "code",
   "execution_count": 3,
   "id": "7a52dfbf",
   "metadata": {},
   "outputs": [],
   "source": [
    "lethals_pd = pd.DataFrame(columns = org_names)"
   ]
  },
  {
   "cell_type": "code",
   "execution_count": 4,
   "id": "ce6784b3",
   "metadata": {},
   "outputs": [],
   "source": [
    "medium_western_file = open('/Users/ashnanarain/Computational_Biology/Gut_Microbiome/Diets_and_Media/Diet_Western.csv', 'r')\n",
    "medium_western = {}\n",
    "for i in medium_western_file.readlines():\n",
    "    \n",
    "    met = i.strip().split(',')\n",
    "    met[0] = met[0].replace('_e', '(e)')\n",
    "    medium_western[met[0]] = float(met[1]) * float(met[2])"
   ]
  },
  {
   "cell_type": "code",
   "execution_count": 5,
   "id": "455f7c5a",
   "metadata": {},
   "outputs": [
    {
     "ename": "FileNotFoundError",
     "evalue": "[Errno 2] No such file or directory: '/Users/ashnanarain/Computational_Biology/Gut_Microbiome/Diets_and_Media/Diet_DMEM.csv'",
     "output_type": "error",
     "traceback": [
      "\u001b[0;31m---------------------------------------------------------------------------\u001b[0m",
      "\u001b[0;31mFileNotFoundError\u001b[0m                         Traceback (most recent call last)",
      "Cell \u001b[0;32mIn[5], line 1\u001b[0m\n\u001b[0;32m----> 1\u001b[0m medium_DMEM_file \u001b[38;5;241m=\u001b[39m \u001b[38;5;28;43mopen\u001b[39;49m\u001b[43m(\u001b[49m\u001b[38;5;124;43m'\u001b[39;49m\u001b[38;5;124;43m/Users/ashnanarain/Computational_Biology/Gut_Microbiome/Diets_and_Media/Diet_DMEM.csv\u001b[39;49m\u001b[38;5;124;43m'\u001b[39;49m\u001b[43m,\u001b[49m\u001b[43m \u001b[49m\u001b[38;5;124;43m'\u001b[39;49m\u001b[38;5;124;43mr\u001b[39;49m\u001b[38;5;124;43m'\u001b[39;49m\u001b[43m)\u001b[49m\n\u001b[1;32m      2\u001b[0m medium_DMEM \u001b[38;5;241m=\u001b[39m {}\n\u001b[1;32m      3\u001b[0m \u001b[38;5;28;01mfor\u001b[39;00m i \u001b[38;5;129;01min\u001b[39;00m medium_DMEM_file\u001b[38;5;241m.\u001b[39mreadlines():\n",
      "File \u001b[0;32m~/anaconda3/envs/cobraenv/lib/python3.11/site-packages/IPython/core/interactiveshell.py:284\u001b[0m, in \u001b[0;36m_modified_open\u001b[0;34m(file, *args, **kwargs)\u001b[0m\n\u001b[1;32m    277\u001b[0m \u001b[38;5;28;01mif\u001b[39;00m file \u001b[38;5;129;01min\u001b[39;00m {\u001b[38;5;241m0\u001b[39m, \u001b[38;5;241m1\u001b[39m, \u001b[38;5;241m2\u001b[39m}:\n\u001b[1;32m    278\u001b[0m     \u001b[38;5;28;01mraise\u001b[39;00m \u001b[38;5;167;01mValueError\u001b[39;00m(\n\u001b[1;32m    279\u001b[0m         \u001b[38;5;124mf\u001b[39m\u001b[38;5;124m\"\u001b[39m\u001b[38;5;124mIPython won\u001b[39m\u001b[38;5;124m'\u001b[39m\u001b[38;5;124mt let you open fd=\u001b[39m\u001b[38;5;132;01m{\u001b[39;00mfile\u001b[38;5;132;01m}\u001b[39;00m\u001b[38;5;124m by default \u001b[39m\u001b[38;5;124m\"\u001b[39m\n\u001b[1;32m    280\u001b[0m         \u001b[38;5;124m\"\u001b[39m\u001b[38;5;124mas it is likely to crash IPython. If you know what you are doing, \u001b[39m\u001b[38;5;124m\"\u001b[39m\n\u001b[1;32m    281\u001b[0m         \u001b[38;5;124m\"\u001b[39m\u001b[38;5;124myou can use builtins\u001b[39m\u001b[38;5;124m'\u001b[39m\u001b[38;5;124m open.\u001b[39m\u001b[38;5;124m\"\u001b[39m\n\u001b[1;32m    282\u001b[0m     )\n\u001b[0;32m--> 284\u001b[0m \u001b[38;5;28;01mreturn\u001b[39;00m \u001b[43mio_open\u001b[49m\u001b[43m(\u001b[49m\u001b[43mfile\u001b[49m\u001b[43m,\u001b[49m\u001b[43m \u001b[49m\u001b[38;5;241;43m*\u001b[39;49m\u001b[43margs\u001b[49m\u001b[43m,\u001b[49m\u001b[43m \u001b[49m\u001b[38;5;241;43m*\u001b[39;49m\u001b[38;5;241;43m*\u001b[39;49m\u001b[43mkwargs\u001b[49m\u001b[43m)\u001b[49m\n",
      "\u001b[0;31mFileNotFoundError\u001b[0m: [Errno 2] No such file or directory: '/Users/ashnanarain/Computational_Biology/Gut_Microbiome/Diets_and_Media/Diet_DMEM.csv'"
     ]
    }
   ],
   "source": [
    "medium_DMEM_file = open('/Users/ashnanarain/Computational_Biology/Gut_Microbiome/Diets_and_Media/Diet_DMEM.csv', 'r')\n",
    "medium_DMEM = {}\n",
    "for i in medium_DMEM_file.readlines():\n",
    "    \n",
    "    met = i.strip().split(',')\n",
    "    met[0] = met[0].replace('_e', '(e)')\n",
    "    medium_DMEM[met[0]] = float(met[1])"
   ]
  },
  {
   "cell_type": "code",
   "execution_count": 13,
   "id": "734446d0",
   "metadata": {},
   "outputs": [
    {
     "name": "stderr",
     "output_type": "stream",
     "text": [
      "/Users/ashnanarain/anaconda3/envs/cobraenv/lib/python3.11/site-packages/cobra/medium/minimal_medium.py:112: FutureWarning: The default dtype for empty Series will be 'object' instead of 'float64' in a future version. Specify a dtype explicitly to silence this warning.\n",
      "  medium = pd.Series()\n"
     ]
    },
    {
     "name": "stdout",
     "output_type": "stream",
     "text": [
      "Read LP format model from file /var/folders/dn/p3xbs4r94jqf_5q7_q53zj_c0000gn/T/tmp28wqpxk9.lp\n",
      "Reading time = 0.00 seconds\n",
      ": 1163 rows, 2462 columns, 9666 nonzeros\n",
      "Read LP format model from file /var/folders/dn/p3xbs4r94jqf_5q7_q53zj_c0000gn/T/tmp5j8s55rj.lp\n",
      "Reading time = 0.00 seconds\n",
      ": 1163 rows, 2462 columns, 9666 nonzeros\n",
      "Read LP format model from file /var/folders/dn/p3xbs4r94jqf_5q7_q53zj_c0000gn/T/tmpadn4layj.lp\n",
      "Reading time = 0.01 seconds\n",
      ": 1163 rows, 2462 columns, 9666 nonzeros\n",
      "Read LP format model from file /var/folders/dn/p3xbs4r94jqf_5q7_q53zj_c0000gn/T/tmp6ycazgad.lp\n",
      "Reading time = 0.01 seconds\n",
      ": 1163 rows, 2462 columns, 9666 nonzeros\n",
      "Read LP format model from file /var/folders/dn/p3xbs4r94jqf_5q7_q53zj_c0000gn/T/tmpwip0ojq3.lp\n",
      "Reading time = 0.01 seconds\n",
      ": 1163 rows, 2462 columns, 9666 nonzeros\n",
      "Read LP format model from file /var/folders/dn/p3xbs4r94jqf_5q7_q53zj_c0000gn/T/tmptu2yrp9k.lp\n",
      "Reading time = 0.01 seconds\n",
      ": 1163 rows, 2462 columns, 9666 nonzeros\n",
      "Read LP format model from file /var/folders/dn/p3xbs4r94jqf_5q7_q53zj_c0000gn/T/tmpwyv3i_v5.lp\n",
      "Reading time = 0.01 seconds\n",
      ": 1163 rows, 2462 columns, 9666 nonzeros\n",
      "320\n"
     ]
    },
    {
     "name": "stderr",
     "output_type": "stream",
     "text": [
      "/Users/ashnanarain/anaconda3/envs/cobraenv/lib/python3.11/site-packages/cobra/medium/minimal_medium.py:112: FutureWarning: The default dtype for empty Series will be 'object' instead of 'float64' in a future version. Specify a dtype explicitly to silence this warning.\n",
      "  medium = pd.Series()\n"
     ]
    },
    {
     "name": "stdout",
     "output_type": "stream",
     "text": [
      "Read LP format model from file /var/folders/dn/p3xbs4r94jqf_5q7_q53zj_c0000gn/T/tmpp6_zvk58.lp\n",
      "Reading time = 0.00 seconds\n",
      ": 1105 rows, 2430 columns, 9724 nonzeros\n",
      "Read LP format model from file /var/folders/dn/p3xbs4r94jqf_5q7_q53zj_c0000gn/T/tmp6vtct_qt.lp\n",
      "Reading time = 0.00 seconds\n",
      ": 1105 rows, 2430 columns, 9724 nonzeros\n",
      "Read LP format model from file /var/folders/dn/p3xbs4r94jqf_5q7_q53zj_c0000gn/T/tmp_j67i1db.lp\n",
      "Reading time = 0.00 seconds\n",
      ": 1105 rows, 2430 columns, 9724 nonzeros\n",
      "Read LP format model from file /var/folders/dn/p3xbs4r94jqf_5q7_q53zj_c0000gn/T/tmp0kfbs_2h.lp\n",
      "Reading time = 0.00 seconds\n",
      ": 1105 rows, 2430 columns, 9724 nonzeros\n",
      "Read LP format model from file /var/folders/dn/p3xbs4r94jqf_5q7_q53zj_c0000gn/T/tmpvs_qyksu.lp\n",
      "Reading time = 0.00 seconds\n",
      ": 1105 rows, 2430 columns, 9724 nonzeros\n",
      "Read LP format model from file /var/folders/dn/p3xbs4r94jqf_5q7_q53zj_c0000gn/T/tmpjmc8ls48.lp\n",
      "Reading time = 0.00 seconds\n",
      ": 1105 rows, 2430 columns, 9724 nonzeros\n",
      "Read LP format model from file /var/folders/dn/p3xbs4r94jqf_5q7_q53zj_c0000gn/T/tmpsr08cnfp.lp\n",
      "Reading time = 0.01 seconds\n",
      ": 1105 rows, 2430 columns, 9724 nonzeros\n",
      "378\n"
     ]
    },
    {
     "name": "stderr",
     "output_type": "stream",
     "text": [
      "/Users/ashnanarain/anaconda3/envs/cobraenv/lib/python3.11/site-packages/cobra/medium/minimal_medium.py:112: FutureWarning: The default dtype for empty Series will be 'object' instead of 'float64' in a future version. Specify a dtype explicitly to silence this warning.\n",
      "  medium = pd.Series()\n"
     ]
    },
    {
     "name": "stdout",
     "output_type": "stream",
     "text": [
      "Read LP format model from file /var/folders/dn/p3xbs4r94jqf_5q7_q53zj_c0000gn/T/tmphut7trl_.lp\n",
      "Reading time = 0.00 seconds\n",
      ": 1149 rows, 2506 columns, 10008 nonzeros\n",
      "Read LP format model from file /var/folders/dn/p3xbs4r94jqf_5q7_q53zj_c0000gn/T/tmpi8hiof3p.lp\n",
      "Reading time = 0.00 seconds\n",
      ": 1149 rows, 2506 columns, 10008 nonzeros\n",
      "Read LP format model from file /var/folders/dn/p3xbs4r94jqf_5q7_q53zj_c0000gn/T/tmpwwzekc2w.lp\n",
      "Reading time = 0.00 seconds\n",
      ": 1149 rows, 2506 columns, 10008 nonzeros\n",
      "Read LP format model from file /var/folders/dn/p3xbs4r94jqf_5q7_q53zj_c0000gn/T/tmp6i7fudme.lp\n",
      "Reading time = 0.00 seconds\n",
      ": 1149 rows, 2506 columns, 10008 nonzeros\n",
      "Read LP format model from file /var/folders/dn/p3xbs4r94jqf_5q7_q53zj_c0000gn/T/tmp2z972ut_.lp\n",
      "Reading time = 0.00 seconds\n",
      ": 1149 rows, 2506 columns, 10008 nonzeros\n",
      "Read LP format model from file /var/folders/dn/p3xbs4r94jqf_5q7_q53zj_c0000gn/T/tmpfkip663q.lp\n",
      "Reading time = 0.00 seconds\n",
      ": 1149 rows, 2506 columns, 10008 nonzeros\n",
      "Read LP format model from file /var/folders/dn/p3xbs4r94jqf_5q7_q53zj_c0000gn/T/tmp_otzois5.lp\n",
      "Reading time = 0.01 seconds\n",
      ": 1149 rows, 2506 columns, 10008 nonzeros\n",
      "302\n"
     ]
    },
    {
     "name": "stderr",
     "output_type": "stream",
     "text": [
      "/Users/ashnanarain/anaconda3/envs/cobraenv/lib/python3.11/site-packages/cobra/medium/minimal_medium.py:112: FutureWarning: The default dtype for empty Series will be 'object' instead of 'float64' in a future version. Specify a dtype explicitly to silence this warning.\n",
      "  medium = pd.Series()\n"
     ]
    },
    {
     "name": "stdout",
     "output_type": "stream",
     "text": [
      "Read LP format model from file /var/folders/dn/p3xbs4r94jqf_5q7_q53zj_c0000gn/T/tmpp5ibokja.lp\n",
      "Reading time = 0.00 seconds\n",
      ": 934 rows, 1906 columns, 7558 nonzeros\n",
      "Read LP format model from file /var/folders/dn/p3xbs4r94jqf_5q7_q53zj_c0000gn/T/tmpffq40d48.lp\n",
      "Reading time = 0.00 seconds\n",
      ": 934 rows, 1906 columns, 7558 nonzeros\n",
      "Read LP format model from file /var/folders/dn/p3xbs4r94jqf_5q7_q53zj_c0000gn/T/tmpl9q84hbu.lp\n",
      "Reading time = 0.00 seconds\n",
      ": 934 rows, 1906 columns, 7558 nonzeros\n",
      "Read LP format model from file /var/folders/dn/p3xbs4r94jqf_5q7_q53zj_c0000gn/T/tmpv9vsmfyz.lp\n",
      "Reading time = 0.00 seconds\n",
      ": 934 rows, 1906 columns, 7558 nonzeros\n",
      "Read LP format model from file /var/folders/dn/p3xbs4r94jqf_5q7_q53zj_c0000gn/T/tmp2z0zh8_x.lp\n",
      "Reading time = 0.01 seconds\n",
      ": 934 rows, 1906 columns, 7558 nonzeros\n",
      "Read LP format model from file /var/folders/dn/p3xbs4r94jqf_5q7_q53zj_c0000gn/T/tmp3xdhb6k1.lp\n",
      "Reading time = 0.00 seconds\n",
      ": 934 rows, 1906 columns, 7558 nonzeros\n",
      "Read LP format model from file /var/folders/dn/p3xbs4r94jqf_5q7_q53zj_c0000gn/T/tmpqhxod_fq.lp\n",
      "Reading time = 0.01 seconds\n",
      ": 934 rows, 1906 columns, 7558 nonzeros\n",
      "404\n"
     ]
    },
    {
     "name": "stderr",
     "output_type": "stream",
     "text": [
      "/Users/ashnanarain/anaconda3/envs/cobraenv/lib/python3.11/site-packages/cobra/medium/minimal_medium.py:112: FutureWarning: The default dtype for empty Series will be 'object' instead of 'float64' in a future version. Specify a dtype explicitly to silence this warning.\n",
      "  medium = pd.Series()\n"
     ]
    },
    {
     "name": "stdout",
     "output_type": "stream",
     "text": [
      "Read LP format model from file /var/folders/dn/p3xbs4r94jqf_5q7_q53zj_c0000gn/T/tmp5s5kb21l.lp\n",
      "Reading time = 0.01 seconds\n",
      ": 2022 rows, 4868 columns, 16258 nonzeros\n",
      "Read LP format model from file /var/folders/dn/p3xbs4r94jqf_5q7_q53zj_c0000gn/T/tmpwbva8hwb.lp\n",
      "Reading time = 0.01 seconds\n",
      ": 2022 rows, 4868 columns, 16258 nonzeros\n",
      "Read LP format model from file /var/folders/dn/p3xbs4r94jqf_5q7_q53zj_c0000gn/T/tmpa6obo4cl.lp\n",
      "Reading time = 0.01 seconds\n",
      ": 2022 rows, 4868 columns, 16258 nonzeros\n",
      "Read LP format model from file /var/folders/dn/p3xbs4r94jqf_5q7_q53zj_c0000gn/T/tmpvgp6rxyt.lp\n",
      "Reading time = 0.01 seconds\n",
      ": 2022 rows, 4868 columns, 16258 nonzeros\n",
      "Read LP format model from file /var/folders/dn/p3xbs4r94jqf_5q7_q53zj_c0000gn/T/tmpms3loezq.lp\n",
      "Reading time = 0.01 seconds\n",
      ": 2022 rows, 4868 columns, 16258 nonzeros\n",
      "Read LP format model from file /var/folders/dn/p3xbs4r94jqf_5q7_q53zj_c0000gn/T/tmp56s5gkj5.lp\n",
      "Reading time = 0.01 seconds\n",
      ": 2022 rows, 4868 columns, 16258 nonzeros\n",
      "Read LP format model from file /var/folders/dn/p3xbs4r94jqf_5q7_q53zj_c0000gn/T/tmpeg8m54y2.lp\n",
      "Reading time = 0.01 seconds\n",
      ": 2022 rows, 4868 columns, 16258 nonzeros\n",
      "359\n"
     ]
    },
    {
     "name": "stderr",
     "output_type": "stream",
     "text": [
      "/Users/ashnanarain/anaconda3/envs/cobraenv/lib/python3.11/site-packages/cobra/medium/minimal_medium.py:112: FutureWarning: The default dtype for empty Series will be 'object' instead of 'float64' in a future version. Specify a dtype explicitly to silence this warning.\n",
      "  medium = pd.Series()\n"
     ]
    },
    {
     "name": "stdout",
     "output_type": "stream",
     "text": [
      "Read LP format model from file /var/folders/dn/p3xbs4r94jqf_5q7_q53zj_c0000gn/T/tmpt8sr2e_v.lp\n",
      "Reading time = 0.01 seconds\n",
      ": 1876 rows, 4408 columns, 14276 nonzeros\n",
      "Read LP format model from file /var/folders/dn/p3xbs4r94jqf_5q7_q53zj_c0000gn/T/tmp6d89vcu9.lp\n",
      "Reading time = 0.01 seconds\n",
      ": 1876 rows, 4408 columns, 14276 nonzeros\n",
      "Read LP format model from file /var/folders/dn/p3xbs4r94jqf_5q7_q53zj_c0000gn/T/tmpl2343h0d.lp\n",
      "Reading time = 0.01 seconds\n",
      ": 1876 rows, 4408 columns, 14276 nonzeros\n",
      "Read LP format model from file /var/folders/dn/p3xbs4r94jqf_5q7_q53zj_c0000gn/T/tmp9_9fbirz.lp\n",
      "Reading time = 0.01 seconds\n",
      ": 1876 rows, 4408 columns, 14276 nonzeros\n",
      "Read LP format model from file /var/folders/dn/p3xbs4r94jqf_5q7_q53zj_c0000gn/T/tmp6sgpau78.lp\n",
      "Reading time = 0.01 seconds\n",
      ": 1876 rows, 4408 columns, 14276 nonzeros\n",
      "Read LP format model from file /var/folders/dn/p3xbs4r94jqf_5q7_q53zj_c0000gn/T/tmpxo1299q6.lp\n",
      "Reading time = 0.01 seconds\n",
      ": 1876 rows, 4408 columns, 14276 nonzeros\n",
      "Read LP format model from file /var/folders/dn/p3xbs4r94jqf_5q7_q53zj_c0000gn/T/tmpqtjmn7n7.lp\n",
      "Reading time = 0.01 seconds\n",
      ": 1876 rows, 4408 columns, 14276 nonzeros\n",
      "257\n"
     ]
    },
    {
     "name": "stderr",
     "output_type": "stream",
     "text": [
      "/Users/ashnanarain/anaconda3/envs/cobraenv/lib/python3.11/site-packages/cobra/medium/minimal_medium.py:112: FutureWarning: The default dtype for empty Series will be 'object' instead of 'float64' in a future version. Specify a dtype explicitly to silence this warning.\n",
      "  medium = pd.Series()\n"
     ]
    },
    {
     "name": "stdout",
     "output_type": "stream",
     "text": [
      "Read LP format model from file /var/folders/dn/p3xbs4r94jqf_5q7_q53zj_c0000gn/T/tmpxvt6v98v.lp\n",
      "Reading time = 0.01 seconds\n",
      ": 1744 rows, 4048 columns, 13288 nonzeros\n",
      "Read LP format model from file /var/folders/dn/p3xbs4r94jqf_5q7_q53zj_c0000gn/T/tmpn83ka33a.lp\n",
      "Reading time = 0.01 seconds\n",
      ": 1744 rows, 4048 columns, 13288 nonzeros\n",
      "Read LP format model from file /var/folders/dn/p3xbs4r94jqf_5q7_q53zj_c0000gn/T/tmptmd8lmq9.lp\n",
      "Reading time = 0.01 seconds\n",
      ": 1744 rows, 4048 columns, 13288 nonzeros\n",
      "Read LP format model from file /var/folders/dn/p3xbs4r94jqf_5q7_q53zj_c0000gn/T/tmp8ktot4ib.lp\n",
      "Reading time = 0.01 seconds\n",
      ": 1744 rows, 4048 columns, 13288 nonzeros\n",
      "Read LP format model from file /var/folders/dn/p3xbs4r94jqf_5q7_q53zj_c0000gn/T/tmpeetk4qx7.lp\n",
      "Reading time = 0.01 seconds\n",
      ": 1744 rows, 4048 columns, 13288 nonzeros\n",
      "Read LP format model from file /var/folders/dn/p3xbs4r94jqf_5q7_q53zj_c0000gn/T/tmpt41d4_23.lp\n",
      "Reading time = 0.01 seconds\n",
      ": 1744 rows, 4048 columns, 13288 nonzeros\n",
      "Read LP format model from file /var/folders/dn/p3xbs4r94jqf_5q7_q53zj_c0000gn/T/tmp8repmzm3.lp\n",
      "Reading time = 0.01 seconds\n",
      ": 1744 rows, 4048 columns, 13288 nonzeros\n",
      "236\n"
     ]
    },
    {
     "name": "stderr",
     "output_type": "stream",
     "text": [
      "/Users/ashnanarain/anaconda3/envs/cobraenv/lib/python3.11/site-packages/cobra/medium/minimal_medium.py:112: FutureWarning: The default dtype for empty Series will be 'object' instead of 'float64' in a future version. Specify a dtype explicitly to silence this warning.\n",
      "  medium = pd.Series()\n"
     ]
    },
    {
     "name": "stdout",
     "output_type": "stream",
     "text": [
      "Read LP format model from file /var/folders/dn/p3xbs4r94jqf_5q7_q53zj_c0000gn/T/tmp6tq1syac.lp\n",
      "Reading time = 0.00 seconds\n",
      ": 1183 rows, 2610 columns, 10452 nonzeros\n",
      "Read LP format model from file /var/folders/dn/p3xbs4r94jqf_5q7_q53zj_c0000gn/T/tmpzizojtcd.lp\n",
      "Reading time = 0.00 seconds\n",
      ": 1183 rows, 2610 columns, 10452 nonzeros\n",
      "Read LP format model from file /var/folders/dn/p3xbs4r94jqf_5q7_q53zj_c0000gn/T/tmpn21snl_g.lp\n",
      "Reading time = 0.00 seconds\n",
      ": 1183 rows, 2610 columns, 10452 nonzeros\n",
      "Read LP format model from file /var/folders/dn/p3xbs4r94jqf_5q7_q53zj_c0000gn/T/tmpf3i1ll83.lp\n",
      "Reading time = 0.01 seconds\n",
      ": 1183 rows, 2610 columns, 10452 nonzeros\n",
      "Read LP format model from file /var/folders/dn/p3xbs4r94jqf_5q7_q53zj_c0000gn/T/tmp8w9bwyei.lp\n",
      "Reading time = 0.01 seconds\n",
      ": 1183 rows, 2610 columns, 10452 nonzeros\n",
      "Read LP format model from file /var/folders/dn/p3xbs4r94jqf_5q7_q53zj_c0000gn/T/tmp6fuzmjhe.lp\n",
      "Reading time = 0.01 seconds\n",
      ": 1183 rows, 2610 columns, 10452 nonzeros\n",
      "Read LP format model from file /var/folders/dn/p3xbs4r94jqf_5q7_q53zj_c0000gn/T/tmpcd8zrrz_.lp\n",
      "Reading time = 0.01 seconds\n",
      ": 1183 rows, 2610 columns, 10452 nonzeros\n",
      "299\n"
     ]
    },
    {
     "name": "stderr",
     "output_type": "stream",
     "text": [
      "/Users/ashnanarain/anaconda3/envs/cobraenv/lib/python3.11/site-packages/cobra/medium/minimal_medium.py:112: FutureWarning: The default dtype for empty Series will be 'object' instead of 'float64' in a future version. Specify a dtype explicitly to silence this warning.\n",
      "  medium = pd.Series()\n"
     ]
    },
    {
     "name": "stdout",
     "output_type": "stream",
     "text": [
      "Read LP format model from file /var/folders/dn/p3xbs4r94jqf_5q7_q53zj_c0000gn/T/tmp8e1xyltc.lp\n",
      "Reading time = 0.01 seconds\n",
      ": 1987 rows, 4668 columns, 15444 nonzeros\n",
      "Read LP format model from file /var/folders/dn/p3xbs4r94jqf_5q7_q53zj_c0000gn/T/tmpvq5l9nmj.lp\n",
      "Reading time = 0.01 seconds\n",
      ": 1987 rows, 4668 columns, 15444 nonzeros\n",
      "Read LP format model from file /var/folders/dn/p3xbs4r94jqf_5q7_q53zj_c0000gn/T/tmp32xu_im_.lp\n",
      "Reading time = 0.01 seconds\n",
      ": 1987 rows, 4668 columns, 15444 nonzeros\n",
      "Read LP format model from file /var/folders/dn/p3xbs4r94jqf_5q7_q53zj_c0000gn/T/tmp0_ut1aeg.lp\n",
      "Reading time = 0.01 seconds\n",
      ": 1987 rows, 4668 columns, 15444 nonzeros\n",
      "Read LP format model from file /var/folders/dn/p3xbs4r94jqf_5q7_q53zj_c0000gn/T/tmppy009o37.lp\n",
      "Reading time = 0.01 seconds\n",
      ": 1987 rows, 4668 columns, 15444 nonzeros\n",
      "Read LP format model from file /var/folders/dn/p3xbs4r94jqf_5q7_q53zj_c0000gn/T/tmpphdmhwup.lp\n",
      "Reading time = 0.01 seconds\n",
      ": 1987 rows, 4668 columns, 15444 nonzeros\n",
      "Read LP format model from file /var/folders/dn/p3xbs4r94jqf_5q7_q53zj_c0000gn/T/tmpu9srhnxn.lp\n",
      "Reading time = 0.01 seconds\n",
      ": 1987 rows, 4668 columns, 15444 nonzeros\n",
      "362\n"
     ]
    },
    {
     "name": "stderr",
     "output_type": "stream",
     "text": [
      "/Users/ashnanarain/anaconda3/envs/cobraenv/lib/python3.11/site-packages/cobra/medium/minimal_medium.py:112: FutureWarning: The default dtype for empty Series will be 'object' instead of 'float64' in a future version. Specify a dtype explicitly to silence this warning.\n",
      "  medium = pd.Series()\n"
     ]
    },
    {
     "name": "stdout",
     "output_type": "stream",
     "text": [
      "Read LP format model from file /var/folders/dn/p3xbs4r94jqf_5q7_q53zj_c0000gn/T/tmp27wddqvn.lp\n",
      "Reading time = 0.01 seconds\n",
      ": 2129 rows, 5168 columns, 17416 nonzeros\n",
      "Read LP format model from file /var/folders/dn/p3xbs4r94jqf_5q7_q53zj_c0000gn/T/tmpfmciy5y7.lp\n",
      "Reading time = 0.01 seconds\n",
      ": 2129 rows, 5168 columns, 17416 nonzeros\n",
      "Read LP format model from file /var/folders/dn/p3xbs4r94jqf_5q7_q53zj_c0000gn/T/tmp8sdrtw1l.lp\n",
      "Reading time = 0.01 seconds\n",
      ": 2129 rows, 5168 columns, 17416 nonzeros\n",
      "Read LP format model from file /var/folders/dn/p3xbs4r94jqf_5q7_q53zj_c0000gn/T/tmpmwojh841.lp\n",
      "Reading time = 0.01 seconds\n",
      ": 2129 rows, 5168 columns, 17416 nonzeros\n",
      "Read LP format model from file /var/folders/dn/p3xbs4r94jqf_5q7_q53zj_c0000gn/T/tmpshs35yw9.lp\n",
      "Reading time = 0.01 seconds\n",
      ": 2129 rows, 5168 columns, 17416 nonzeros\n",
      "Read LP format model from file /var/folders/dn/p3xbs4r94jqf_5q7_q53zj_c0000gn/T/tmp6ou4s_pn.lp\n",
      "Reading time = 0.01 seconds\n",
      ": 2129 rows, 5168 columns, 17416 nonzeros\n",
      "Read LP format model from file /var/folders/dn/p3xbs4r94jqf_5q7_q53zj_c0000gn/T/tmph3w_ihkg.lp\n",
      "Reading time = 0.01 seconds\n",
      ": 2129 rows, 5168 columns, 17416 nonzeros\n",
      "252\n"
     ]
    },
    {
     "name": "stderr",
     "output_type": "stream",
     "text": [
      "/Users/ashnanarain/anaconda3/envs/cobraenv/lib/python3.11/site-packages/cobra/medium/minimal_medium.py:112: FutureWarning: The default dtype for empty Series will be 'object' instead of 'float64' in a future version. Specify a dtype explicitly to silence this warning.\n",
      "  medium = pd.Series()\n"
     ]
    },
    {
     "name": "stdout",
     "output_type": "stream",
     "text": [
      "Read LP format model from file /var/folders/dn/p3xbs4r94jqf_5q7_q53zj_c0000gn/T/tmpaaneyqfb.lp\n",
      "Reading time = 0.00 seconds\n",
      ": 1165 rows, 2572 columns, 10488 nonzeros\n",
      "Read LP format model from file /var/folders/dn/p3xbs4r94jqf_5q7_q53zj_c0000gn/T/tmpg36uzh66.lp\n",
      "Reading time = 0.00 seconds\n",
      ": 1165 rows, 2572 columns, 10488 nonzeros\n",
      "Read LP format model from file /var/folders/dn/p3xbs4r94jqf_5q7_q53zj_c0000gn/T/tmpyjit6og1.lp\n",
      "Reading time = 0.00 seconds\n",
      ": 1165 rows, 2572 columns, 10488 nonzeros\n",
      "Read LP format model from file /var/folders/dn/p3xbs4r94jqf_5q7_q53zj_c0000gn/T/tmpw93fmocu.lp\n",
      "Reading time = 0.00 seconds\n",
      ": 1165 rows, 2572 columns, 10488 nonzeros\n",
      "Read LP format model from file /var/folders/dn/p3xbs4r94jqf_5q7_q53zj_c0000gn/T/tmp594fs3cg.lp\n",
      "Reading time = 0.01 seconds\n",
      ": 1165 rows, 2572 columns, 10488 nonzeros\n",
      "Read LP format model from file /var/folders/dn/p3xbs4r94jqf_5q7_q53zj_c0000gn/T/tmp5e3sowc0.lp\n",
      "Reading time = 0.01 seconds\n",
      ": 1165 rows, 2572 columns, 10488 nonzeros\n",
      "Read LP format model from file /var/folders/dn/p3xbs4r94jqf_5q7_q53zj_c0000gn/T/tmpxd_s3770.lp\n",
      "Reading time = 0.01 seconds\n",
      ": 1165 rows, 2572 columns, 10488 nonzeros\n",
      "272\n"
     ]
    },
    {
     "name": "stderr",
     "output_type": "stream",
     "text": [
      "/Users/ashnanarain/anaconda3/envs/cobraenv/lib/python3.11/site-packages/cobra/medium/minimal_medium.py:112: FutureWarning: The default dtype for empty Series will be 'object' instead of 'float64' in a future version. Specify a dtype explicitly to silence this warning.\n",
      "  medium = pd.Series()\n"
     ]
    },
    {
     "name": "stdout",
     "output_type": "stream",
     "text": [
      "Read LP format model from file /var/folders/dn/p3xbs4r94jqf_5q7_q53zj_c0000gn/T/tmpqcrnayl_.lp\n",
      "Reading time = 0.01 seconds\n",
      ": 2041 rows, 4876 columns, 15788 nonzeros\n",
      "Read LP format model from file /var/folders/dn/p3xbs4r94jqf_5q7_q53zj_c0000gn/T/tmpgrryenap.lp\n",
      "Reading time = 0.01 seconds\n",
      ": 2041 rows, 4876 columns, 15788 nonzeros\n",
      "Read LP format model from file /var/folders/dn/p3xbs4r94jqf_5q7_q53zj_c0000gn/T/tmp9fmvcocv.lp\n",
      "Reading time = 0.01 seconds\n",
      ": 2041 rows, 4876 columns, 15788 nonzeros\n",
      "Read LP format model from file /var/folders/dn/p3xbs4r94jqf_5q7_q53zj_c0000gn/T/tmpcex363qs.lp\n",
      "Reading time = 0.01 seconds\n",
      ": 2041 rows, 4876 columns, 15788 nonzeros\n",
      "Read LP format model from file /var/folders/dn/p3xbs4r94jqf_5q7_q53zj_c0000gn/T/tmp1h98hrjs.lp\n",
      "Reading time = 0.01 seconds\n",
      ": 2041 rows, 4876 columns, 15788 nonzeros\n",
      "Read LP format model from file /var/folders/dn/p3xbs4r94jqf_5q7_q53zj_c0000gn/T/tmpbbw2szrs.lp\n",
      "Reading time = 0.01 seconds\n",
      ": 2041 rows, 4876 columns, 15788 nonzeros\n",
      "Read LP format model from file /var/folders/dn/p3xbs4r94jqf_5q7_q53zj_c0000gn/T/tmpvhbcpdj3.lp\n",
      "Reading time = 0.01 seconds\n",
      ": 2041 rows, 4876 columns, 15788 nonzeros\n",
      "396\n"
     ]
    },
    {
     "name": "stderr",
     "output_type": "stream",
     "text": [
      "/Users/ashnanarain/anaconda3/envs/cobraenv/lib/python3.11/site-packages/cobra/medium/minimal_medium.py:112: FutureWarning: The default dtype for empty Series will be 'object' instead of 'float64' in a future version. Specify a dtype explicitly to silence this warning.\n",
      "  medium = pd.Series()\n"
     ]
    },
    {
     "name": "stdout",
     "output_type": "stream",
     "text": [
      "Read LP format model from file /var/folders/dn/p3xbs4r94jqf_5q7_q53zj_c0000gn/T/tmpxjj6mhmg.lp\n",
      "Reading time = 0.01 seconds\n",
      ": 2204 rows, 5372 columns, 18058 nonzeros\n",
      "Read LP format model from file /var/folders/dn/p3xbs4r94jqf_5q7_q53zj_c0000gn/T/tmpx8aaf0qt.lp\n",
      "Reading time = 0.01 seconds\n",
      ": 2204 rows, 5372 columns, 18058 nonzeros\n",
      "Read LP format model from file /var/folders/dn/p3xbs4r94jqf_5q7_q53zj_c0000gn/T/tmpp6q70a4_.lp\n",
      "Reading time = 0.01 seconds\n",
      ": 2204 rows, 5372 columns, 18058 nonzeros\n",
      "Read LP format model from file /var/folders/dn/p3xbs4r94jqf_5q7_q53zj_c0000gn/T/tmpo7b9b9dd.lp\n",
      "Reading time = 0.01 seconds\n",
      ": 2204 rows, 5372 columns, 18058 nonzeros\n",
      "Read LP format model from file /var/folders/dn/p3xbs4r94jqf_5q7_q53zj_c0000gn/T/tmpiuo2vyyh.lp\n",
      "Reading time = 0.01 seconds\n",
      ": 2204 rows, 5372 columns, 18058 nonzeros\n",
      "Read LP format model from file /var/folders/dn/p3xbs4r94jqf_5q7_q53zj_c0000gn/T/tmpv0ut1oa9.lp\n",
      "Reading time = 0.01 seconds\n",
      ": 2204 rows, 5372 columns, 18058 nonzeros\n",
      "Read LP format model from file /var/folders/dn/p3xbs4r94jqf_5q7_q53zj_c0000gn/T/tmpv41qia3x.lp\n",
      "Reading time = 0.02 seconds\n",
      ": 2204 rows, 5372 columns, 18058 nonzeros\n",
      "238\n"
     ]
    },
    {
     "name": "stderr",
     "output_type": "stream",
     "text": [
      "/Users/ashnanarain/anaconda3/envs/cobraenv/lib/python3.11/site-packages/cobra/medium/minimal_medium.py:112: FutureWarning: The default dtype for empty Series will be 'object' instead of 'float64' in a future version. Specify a dtype explicitly to silence this warning.\n",
      "  medium = pd.Series()\n"
     ]
    },
    {
     "name": "stdout",
     "output_type": "stream",
     "text": [
      "Read LP format model from file /var/folders/dn/p3xbs4r94jqf_5q7_q53zj_c0000gn/T/tmpi9hl2j90.lp\n",
      "Reading time = 0.00 seconds\n",
      ": 946 rows, 2106 columns, 8756 nonzeros\n",
      "Read LP format model from file /var/folders/dn/p3xbs4r94jqf_5q7_q53zj_c0000gn/T/tmpbgm38plk.lp\n",
      "Reading time = 0.00 seconds\n",
      ": 946 rows, 2106 columns, 8756 nonzeros\n",
      "Read LP format model from file /var/folders/dn/p3xbs4r94jqf_5q7_q53zj_c0000gn/T/tmpz3kr4goo.lp\n",
      "Reading time = 0.00 seconds\n",
      ": 946 rows, 2106 columns, 8756 nonzeros\n",
      "Read LP format model from file /var/folders/dn/p3xbs4r94jqf_5q7_q53zj_c0000gn/T/tmpik5nrdc_.lp\n",
      "Reading time = 0.00 seconds\n",
      ": 946 rows, 2106 columns, 8756 nonzeros\n",
      "Read LP format model from file /var/folders/dn/p3xbs4r94jqf_5q7_q53zj_c0000gn/T/tmp2mtve12v.lp\n",
      "Reading time = 0.00 seconds\n",
      ": 946 rows, 2106 columns, 8756 nonzeros\n",
      "Read LP format model from file /var/folders/dn/p3xbs4r94jqf_5q7_q53zj_c0000gn/T/tmp3vij1d6o.lp\n",
      "Reading time = 0.00 seconds\n",
      ": 946 rows, 2106 columns, 8756 nonzeros\n",
      "Read LP format model from file /var/folders/dn/p3xbs4r94jqf_5q7_q53zj_c0000gn/T/tmpple59re1.lp\n",
      "Reading time = 0.00 seconds\n",
      ": 946 rows, 2106 columns, 8756 nonzeros\n",
      "321\n"
     ]
    },
    {
     "name": "stderr",
     "output_type": "stream",
     "text": [
      "/Users/ashnanarain/anaconda3/envs/cobraenv/lib/python3.11/site-packages/cobra/medium/minimal_medium.py:112: FutureWarning: The default dtype for empty Series will be 'object' instead of 'float64' in a future version. Specify a dtype explicitly to silence this warning.\n",
      "  medium = pd.Series()\n"
     ]
    },
    {
     "name": "stdout",
     "output_type": "stream",
     "text": [
      "Read LP format model from file /var/folders/dn/p3xbs4r94jqf_5q7_q53zj_c0000gn/T/tmpaf1xt50f.lp\n",
      "Reading time = 0.00 seconds\n",
      ": 1011 rows, 2316 columns, 9556 nonzeros\n",
      "Read LP format model from file /var/folders/dn/p3xbs4r94jqf_5q7_q53zj_c0000gn/T/tmpvp0mjhpr.lp\n",
      "Reading time = 0.00 seconds\n",
      ": 1011 rows, 2316 columns, 9556 nonzeros\n",
      "Read LP format model from file /var/folders/dn/p3xbs4r94jqf_5q7_q53zj_c0000gn/T/tmp5hjgzbdz.lp\n",
      "Reading time = 0.00 seconds\n",
      ": 1011 rows, 2316 columns, 9556 nonzeros\n",
      "Read LP format model from file /var/folders/dn/p3xbs4r94jqf_5q7_q53zj_c0000gn/T/tmpqfpwjx0v.lp\n",
      "Reading time = 0.00 seconds\n",
      ": 1011 rows, 2316 columns, 9556 nonzeros\n",
      "Read LP format model from file /var/folders/dn/p3xbs4r94jqf_5q7_q53zj_c0000gn/T/tmp582ev0qn.lp\n",
      "Reading time = 0.00 seconds\n",
      ": 1011 rows, 2316 columns, 9556 nonzeros\n",
      "Read LP format model from file /var/folders/dn/p3xbs4r94jqf_5q7_q53zj_c0000gn/T/tmpjxrhhtye.lp\n",
      "Reading time = 0.00 seconds\n",
      ": 1011 rows, 2316 columns, 9556 nonzeros\n",
      "Read LP format model from file /var/folders/dn/p3xbs4r94jqf_5q7_q53zj_c0000gn/T/tmpaycslw46.lp\n",
      "Reading time = 0.01 seconds\n",
      ": 1011 rows, 2316 columns, 9556 nonzeros\n",
      "334\n"
     ]
    },
    {
     "name": "stderr",
     "output_type": "stream",
     "text": [
      "/Users/ashnanarain/anaconda3/envs/cobraenv/lib/python3.11/site-packages/cobra/medium/minimal_medium.py:112: FutureWarning: The default dtype for empty Series will be 'object' instead of 'float64' in a future version. Specify a dtype explicitly to silence this warning.\n",
      "  medium = pd.Series()\n"
     ]
    },
    {
     "name": "stdout",
     "output_type": "stream",
     "text": [
      "Read LP format model from file /var/folders/dn/p3xbs4r94jqf_5q7_q53zj_c0000gn/T/tmpy06rsah2.lp\n",
      "Reading time = 0.00 seconds\n",
      ": 926 rows, 2016 columns, 8310 nonzeros\n",
      "Read LP format model from file /var/folders/dn/p3xbs4r94jqf_5q7_q53zj_c0000gn/T/tmp0tdbxr0g.lp\n",
      "Reading time = 0.00 seconds\n",
      ": 926 rows, 2016 columns, 8310 nonzeros\n",
      "Read LP format model from file /var/folders/dn/p3xbs4r94jqf_5q7_q53zj_c0000gn/T/tmp55u2uuuv.lp\n",
      "Reading time = 0.00 seconds\n",
      ": 926 rows, 2016 columns, 8310 nonzeros\n",
      "Read LP format model from file /var/folders/dn/p3xbs4r94jqf_5q7_q53zj_c0000gn/T/tmp2r7okjvb.lp\n",
      "Reading time = 0.00 seconds\n",
      ": 926 rows, 2016 columns, 8310 nonzeros\n",
      "Read LP format model from file /var/folders/dn/p3xbs4r94jqf_5q7_q53zj_c0000gn/T/tmpf77e_lza.lp\n",
      "Reading time = 0.00 seconds\n",
      ": 926 rows, 2016 columns, 8310 nonzeros\n",
      "Read LP format model from file /var/folders/dn/p3xbs4r94jqf_5q7_q53zj_c0000gn/T/tmpfre9jngf.lp\n",
      "Reading time = 0.00 seconds\n",
      ": 926 rows, 2016 columns, 8310 nonzeros\n",
      "Read LP format model from file /var/folders/dn/p3xbs4r94jqf_5q7_q53zj_c0000gn/T/tmptczazsaq.lp\n",
      "Reading time = 0.00 seconds\n",
      ": 926 rows, 2016 columns, 8310 nonzeros\n",
      "163\n"
     ]
    },
    {
     "name": "stderr",
     "output_type": "stream",
     "text": [
      "/Users/ashnanarain/anaconda3/envs/cobraenv/lib/python3.11/site-packages/cobra/medium/minimal_medium.py:112: FutureWarning: The default dtype for empty Series will be 'object' instead of 'float64' in a future version. Specify a dtype explicitly to silence this warning.\n",
      "  medium = pd.Series()\n"
     ]
    },
    {
     "name": "stdout",
     "output_type": "stream",
     "text": [
      "Read LP format model from file /var/folders/dn/p3xbs4r94jqf_5q7_q53zj_c0000gn/T/tmprpuca0kw.lp\n",
      "Reading time = 0.00 seconds\n",
      ": 1154 rows, 2480 columns, 10266 nonzeros\n",
      "Read LP format model from file /var/folders/dn/p3xbs4r94jqf_5q7_q53zj_c0000gn/T/tmp8z7ebz5o.lp\n",
      "Reading time = 0.00 seconds\n",
      ": 1154 rows, 2480 columns, 10266 nonzeros\n",
      "Read LP format model from file /var/folders/dn/p3xbs4r94jqf_5q7_q53zj_c0000gn/T/tmp7w4amfy1.lp\n",
      "Reading time = 0.00 seconds\n",
      ": 1154 rows, 2480 columns, 10266 nonzeros\n",
      "Read LP format model from file /var/folders/dn/p3xbs4r94jqf_5q7_q53zj_c0000gn/T/tmp9wmdbsw6.lp\n",
      "Reading time = 0.00 seconds\n",
      ": 1154 rows, 2480 columns, 10266 nonzeros\n",
      "Read LP format model from file /var/folders/dn/p3xbs4r94jqf_5q7_q53zj_c0000gn/T/tmphrr79__6.lp\n",
      "Reading time = 0.01 seconds\n",
      ": 1154 rows, 2480 columns, 10266 nonzeros\n",
      "Read LP format model from file /var/folders/dn/p3xbs4r94jqf_5q7_q53zj_c0000gn/T/tmpelvytowx.lp\n",
      "Reading time = 0.00 seconds\n",
      ": 1154 rows, 2480 columns, 10266 nonzeros\n",
      "Read LP format model from file /var/folders/dn/p3xbs4r94jqf_5q7_q53zj_c0000gn/T/tmpebr0597e.lp\n",
      "Reading time = 0.01 seconds\n",
      ": 1154 rows, 2480 columns, 10266 nonzeros\n",
      "224\n"
     ]
    },
    {
     "name": "stderr",
     "output_type": "stream",
     "text": [
      "/Users/ashnanarain/anaconda3/envs/cobraenv/lib/python3.11/site-packages/cobra/medium/minimal_medium.py:112: FutureWarning: The default dtype for empty Series will be 'object' instead of 'float64' in a future version. Specify a dtype explicitly to silence this warning.\n",
      "  medium = pd.Series()\n"
     ]
    },
    {
     "name": "stdout",
     "output_type": "stream",
     "text": [
      "Read LP format model from file /var/folders/dn/p3xbs4r94jqf_5q7_q53zj_c0000gn/T/tmpvmw7dzpt.lp\n",
      "Reading time = 0.00 seconds\n",
      ": 1121 rows, 2440 columns, 10740 nonzeros\n",
      "Read LP format model from file /var/folders/dn/p3xbs4r94jqf_5q7_q53zj_c0000gn/T/tmp3m6ufx0i.lp\n",
      "Reading time = 0.00 seconds\n",
      ": 1121 rows, 2440 columns, 10740 nonzeros\n",
      "Read LP format model from file /var/folders/dn/p3xbs4r94jqf_5q7_q53zj_c0000gn/T/tmp26db7anu.lp\n",
      "Reading time = 0.00 seconds\n",
      ": 1121 rows, 2440 columns, 10740 nonzeros\n",
      "Read LP format model from file /var/folders/dn/p3xbs4r94jqf_5q7_q53zj_c0000gn/T/tmpjf3n6sqa.lp\n",
      "Reading time = 0.00 seconds\n",
      ": 1121 rows, 2440 columns, 10740 nonzeros\n",
      "Read LP format model from file /var/folders/dn/p3xbs4r94jqf_5q7_q53zj_c0000gn/T/tmp66vbnx67.lp\n",
      "Reading time = 0.00 seconds\n",
      ": 1121 rows, 2440 columns, 10740 nonzeros\n",
      "Read LP format model from file /var/folders/dn/p3xbs4r94jqf_5q7_q53zj_c0000gn/T/tmpc68pzlbq.lp\n",
      "Reading time = 0.00 seconds\n",
      ": 1121 rows, 2440 columns, 10740 nonzeros\n",
      "Read LP format model from file /var/folders/dn/p3xbs4r94jqf_5q7_q53zj_c0000gn/T/tmpmkp_blnn.lp\n",
      "Reading time = 0.01 seconds\n",
      ": 1121 rows, 2440 columns, 10740 nonzeros\n",
      "327\n"
     ]
    },
    {
     "name": "stderr",
     "output_type": "stream",
     "text": [
      "/Users/ashnanarain/anaconda3/envs/cobraenv/lib/python3.11/site-packages/cobra/medium/minimal_medium.py:112: FutureWarning: The default dtype for empty Series will be 'object' instead of 'float64' in a future version. Specify a dtype explicitly to silence this warning.\n",
      "  medium = pd.Series()\n"
     ]
    },
    {
     "name": "stdout",
     "output_type": "stream",
     "text": [
      "Read LP format model from file /var/folders/dn/p3xbs4r94jqf_5q7_q53zj_c0000gn/T/tmpqzy73w1_.lp\n",
      "Reading time = 0.01 seconds\n",
      ": 1587 rows, 3952 columns, 16074 nonzeros\n",
      "Read LP format model from file /var/folders/dn/p3xbs4r94jqf_5q7_q53zj_c0000gn/T/tmp8h6jtj52.lp\n",
      "Reading time = 0.01 seconds\n",
      ": 1587 rows, 3952 columns, 16074 nonzeros\n",
      "Read LP format model from file /var/folders/dn/p3xbs4r94jqf_5q7_q53zj_c0000gn/T/tmp64wlhuh8.lp\n",
      "Reading time = 0.01 seconds\n",
      ": 1587 rows, 3952 columns, 16074 nonzeros\n",
      "Read LP format model from file /var/folders/dn/p3xbs4r94jqf_5q7_q53zj_c0000gn/T/tmp0tzn40uf.lp\n",
      "Reading time = 0.01 seconds\n",
      ": 1587 rows, 3952 columns, 16074 nonzeros\n",
      "Read LP format model from file /var/folders/dn/p3xbs4r94jqf_5q7_q53zj_c0000gn/T/tmpqt5zuv8b.lp\n",
      "Reading time = 0.01 seconds\n",
      ": 1587 rows, 3952 columns, 16074 nonzeros\n",
      "Read LP format model from file /var/folders/dn/p3xbs4r94jqf_5q7_q53zj_c0000gn/T/tmp6hnnew2u.lp\n",
      "Reading time = 0.01 seconds\n",
      ": 1587 rows, 3952 columns, 16074 nonzeros\n",
      "Read LP format model from file /var/folders/dn/p3xbs4r94jqf_5q7_q53zj_c0000gn/T/tmp777qzuvy.lp\n",
      "Reading time = 0.01 seconds\n",
      ": 1587 rows, 3952 columns, 16074 nonzeros\n",
      "306\n"
     ]
    },
    {
     "name": "stderr",
     "output_type": "stream",
     "text": [
      "/Users/ashnanarain/anaconda3/envs/cobraenv/lib/python3.11/site-packages/cobra/medium/minimal_medium.py:112: FutureWarning: The default dtype for empty Series will be 'object' instead of 'float64' in a future version. Specify a dtype explicitly to silence this warning.\n",
      "  medium = pd.Series()\n"
     ]
    },
    {
     "name": "stdout",
     "output_type": "stream",
     "text": [
      "Read LP format model from file /var/folders/dn/p3xbs4r94jqf_5q7_q53zj_c0000gn/T/tmpz_sm7qgz.lp\n",
      "Reading time = 0.01 seconds\n",
      ": 1808 rows, 4336 columns, 15724 nonzeros\n",
      "Read LP format model from file /var/folders/dn/p3xbs4r94jqf_5q7_q53zj_c0000gn/T/tmpa5n6dssz.lp\n",
      "Reading time = 0.01 seconds\n",
      ": 1808 rows, 4336 columns, 15724 nonzeros\n",
      "Read LP format model from file /var/folders/dn/p3xbs4r94jqf_5q7_q53zj_c0000gn/T/tmpsm758ke1.lp\n",
      "Reading time = 0.01 seconds\n",
      ": 1808 rows, 4336 columns, 15724 nonzeros\n",
      "Read LP format model from file /var/folders/dn/p3xbs4r94jqf_5q7_q53zj_c0000gn/T/tmpg69prz2h.lp\n",
      "Reading time = 0.01 seconds\n",
      ": 1808 rows, 4336 columns, 15724 nonzeros\n",
      "Read LP format model from file /var/folders/dn/p3xbs4r94jqf_5q7_q53zj_c0000gn/T/tmpviohus3u.lp\n",
      "Reading time = 0.01 seconds\n",
      ": 1808 rows, 4336 columns, 15724 nonzeros\n",
      "Read LP format model from file /var/folders/dn/p3xbs4r94jqf_5q7_q53zj_c0000gn/T/tmpro4mnqie.lp\n",
      "Reading time = 0.01 seconds\n",
      ": 1808 rows, 4336 columns, 15724 nonzeros\n",
      "Read LP format model from file /var/folders/dn/p3xbs4r94jqf_5q7_q53zj_c0000gn/T/tmpv9jndbrr.lp\n",
      "Reading time = 0.01 seconds\n",
      ": 1808 rows, 4336 columns, 15724 nonzeros\n",
      "295\n"
     ]
    },
    {
     "name": "stderr",
     "output_type": "stream",
     "text": [
      "/Users/ashnanarain/anaconda3/envs/cobraenv/lib/python3.11/site-packages/cobra/medium/minimal_medium.py:112: FutureWarning: The default dtype for empty Series will be 'object' instead of 'float64' in a future version. Specify a dtype explicitly to silence this warning.\n",
      "  medium = pd.Series()\n"
     ]
    },
    {
     "name": "stdout",
     "output_type": "stream",
     "text": [
      "Read LP format model from file /var/folders/dn/p3xbs4r94jqf_5q7_q53zj_c0000gn/T/tmptfg8_560.lp\n",
      "Reading time = 0.01 seconds\n",
      ": 1710 rows, 3960 columns, 14318 nonzeros\n",
      "Read LP format model from file /var/folders/dn/p3xbs4r94jqf_5q7_q53zj_c0000gn/T/tmpduf3hp2n.lp\n",
      "Reading time = 0.01 seconds\n",
      ": 1710 rows, 3960 columns, 14318 nonzeros\n",
      "Read LP format model from file /var/folders/dn/p3xbs4r94jqf_5q7_q53zj_c0000gn/T/tmpodxb28e4.lp\n",
      "Reading time = 0.01 seconds\n",
      ": 1710 rows, 3960 columns, 14318 nonzeros\n",
      "Read LP format model from file /var/folders/dn/p3xbs4r94jqf_5q7_q53zj_c0000gn/T/tmp6p62zfg8.lp\n",
      "Reading time = 0.01 seconds\n",
      ": 1710 rows, 3960 columns, 14318 nonzeros\n",
      "Read LP format model from file /var/folders/dn/p3xbs4r94jqf_5q7_q53zj_c0000gn/T/tmpv3ut_jfc.lp\n",
      "Reading time = 0.01 seconds\n",
      ": 1710 rows, 3960 columns, 14318 nonzeros\n",
      "Read LP format model from file /var/folders/dn/p3xbs4r94jqf_5q7_q53zj_c0000gn/T/tmp7xtnfk3d.lp\n",
      "Reading time = 0.01 seconds\n",
      ": 1710 rows, 3960 columns, 14318 nonzeros\n",
      "Read LP format model from file /var/folders/dn/p3xbs4r94jqf_5q7_q53zj_c0000gn/T/tmpb05ujf62.lp\n",
      "Reading time = 0.01 seconds\n",
      ": 1710 rows, 3960 columns, 14318 nonzeros\n",
      "311\n"
     ]
    },
    {
     "name": "stderr",
     "output_type": "stream",
     "text": [
      "/Users/ashnanarain/anaconda3/envs/cobraenv/lib/python3.11/site-packages/cobra/medium/minimal_medium.py:112: FutureWarning: The default dtype for empty Series will be 'object' instead of 'float64' in a future version. Specify a dtype explicitly to silence this warning.\n",
      "  medium = pd.Series()\n"
     ]
    },
    {
     "name": "stdout",
     "output_type": "stream",
     "text": [
      "Read LP format model from file /var/folders/dn/p3xbs4r94jqf_5q7_q53zj_c0000gn/T/tmphuhfspyt.lp\n",
      "Reading time = 0.00 seconds\n",
      ": 1101 rows, 2396 columns, 10460 nonzeros\n",
      "Read LP format model from file /var/folders/dn/p3xbs4r94jqf_5q7_q53zj_c0000gn/T/tmp8nmmjpm1.lp\n",
      "Reading time = 0.01 seconds\n",
      ": 1101 rows, 2396 columns, 10460 nonzeros\n",
      "Read LP format model from file /var/folders/dn/p3xbs4r94jqf_5q7_q53zj_c0000gn/T/tmpfp0ujz9x.lp\n",
      "Reading time = 0.01 seconds\n",
      ": 1101 rows, 2396 columns, 10460 nonzeros\n",
      "Read LP format model from file /var/folders/dn/p3xbs4r94jqf_5q7_q53zj_c0000gn/T/tmppoe8vana.lp\n",
      "Reading time = 0.00 seconds\n",
      ": 1101 rows, 2396 columns, 10460 nonzeros\n",
      "Read LP format model from file /var/folders/dn/p3xbs4r94jqf_5q7_q53zj_c0000gn/T/tmp9vp5n826.lp\n",
      "Reading time = 0.00 seconds\n",
      ": 1101 rows, 2396 columns, 10460 nonzeros\n",
      "Read LP format model from file /var/folders/dn/p3xbs4r94jqf_5q7_q53zj_c0000gn/T/tmpzxp1g6py.lp\n",
      "Reading time = 0.00 seconds\n",
      ": 1101 rows, 2396 columns, 10460 nonzeros\n",
      "Read LP format model from file /var/folders/dn/p3xbs4r94jqf_5q7_q53zj_c0000gn/T/tmpc7nhodzx.lp\n",
      "Reading time = 0.01 seconds\n",
      ": 1101 rows, 2396 columns, 10460 nonzeros\n",
      "291\n"
     ]
    },
    {
     "name": "stderr",
     "output_type": "stream",
     "text": [
      "/Users/ashnanarain/anaconda3/envs/cobraenv/lib/python3.11/site-packages/cobra/medium/minimal_medium.py:112: FutureWarning: The default dtype for empty Series will be 'object' instead of 'float64' in a future version. Specify a dtype explicitly to silence this warning.\n",
      "  medium = pd.Series()\n"
     ]
    },
    {
     "name": "stdout",
     "output_type": "stream",
     "text": [
      "Read LP format model from file /var/folders/dn/p3xbs4r94jqf_5q7_q53zj_c0000gn/T/tmpb2s845f6.lp\n",
      "Reading time = 0.00 seconds\n",
      ": 1257 rows, 2748 columns, 11490 nonzeros\n",
      "Read LP format model from file /var/folders/dn/p3xbs4r94jqf_5q7_q53zj_c0000gn/T/tmpm9jn_stj.lp\n",
      "Reading time = 0.00 seconds\n",
      ": 1257 rows, 2748 columns, 11490 nonzeros\n",
      "Read LP format model from file /var/folders/dn/p3xbs4r94jqf_5q7_q53zj_c0000gn/T/tmp1551pciu.lp\n",
      "Reading time = 0.00 seconds\n",
      ": 1257 rows, 2748 columns, 11490 nonzeros\n",
      "Read LP format model from file /var/folders/dn/p3xbs4r94jqf_5q7_q53zj_c0000gn/T/tmpdenirf3e.lp\n",
      "Reading time = 0.01 seconds\n",
      ": 1257 rows, 2748 columns, 11490 nonzeros\n",
      "Read LP format model from file /var/folders/dn/p3xbs4r94jqf_5q7_q53zj_c0000gn/T/tmp4vi80gnp.lp\n",
      "Reading time = 0.00 seconds\n",
      ": 1257 rows, 2748 columns, 11490 nonzeros\n",
      "Read LP format model from file /var/folders/dn/p3xbs4r94jqf_5q7_q53zj_c0000gn/T/tmpclma57kv.lp\n",
      "Reading time = 0.01 seconds\n",
      ": 1257 rows, 2748 columns, 11490 nonzeros\n",
      "Read LP format model from file /var/folders/dn/p3xbs4r94jqf_5q7_q53zj_c0000gn/T/tmpeefdjy7p.lp\n",
      "Reading time = 0.01 seconds\n",
      ": 1257 rows, 2748 columns, 11490 nonzeros\n",
      "298\n"
     ]
    },
    {
     "name": "stderr",
     "output_type": "stream",
     "text": [
      "/Users/ashnanarain/anaconda3/envs/cobraenv/lib/python3.11/site-packages/cobra/medium/minimal_medium.py:112: FutureWarning: The default dtype for empty Series will be 'object' instead of 'float64' in a future version. Specify a dtype explicitly to silence this warning.\n",
      "  medium = pd.Series()\n"
     ]
    },
    {
     "name": "stdout",
     "output_type": "stream",
     "text": [
      "Read LP format model from file /var/folders/dn/p3xbs4r94jqf_5q7_q53zj_c0000gn/T/tmpdtmzec1t.lp\n",
      "Reading time = 0.00 seconds\n",
      ": 1031 rows, 2236 columns, 9216 nonzeros\n",
      "Read LP format model from file /var/folders/dn/p3xbs4r94jqf_5q7_q53zj_c0000gn/T/tmpjn2m8rgv.lp\n",
      "Reading time = 0.00 seconds\n",
      ": 1031 rows, 2236 columns, 9216 nonzeros\n",
      "Read LP format model from file /var/folders/dn/p3xbs4r94jqf_5q7_q53zj_c0000gn/T/tmpgkkpw1kz.lp\n",
      "Reading time = 0.00 seconds\n",
      ": 1031 rows, 2236 columns, 9216 nonzeros\n",
      "Read LP format model from file /var/folders/dn/p3xbs4r94jqf_5q7_q53zj_c0000gn/T/tmpcbxwbeub.lp\n",
      "Reading time = 0.00 seconds\n",
      ": 1031 rows, 2236 columns, 9216 nonzeros\n",
      "Read LP format model from file /var/folders/dn/p3xbs4r94jqf_5q7_q53zj_c0000gn/T/tmpxh_e68v4.lp\n",
      "Reading time = 0.00 seconds\n",
      ": 1031 rows, 2236 columns, 9216 nonzeros\n",
      "Read LP format model from file /var/folders/dn/p3xbs4r94jqf_5q7_q53zj_c0000gn/T/tmpts3my_g8.lp\n",
      "Reading time = 0.00 seconds\n",
      ": 1031 rows, 2236 columns, 9216 nonzeros\n",
      "Read LP format model from file /var/folders/dn/p3xbs4r94jqf_5q7_q53zj_c0000gn/T/tmptyarcprm.lp\n",
      "Reading time = 0.01 seconds\n",
      ": 1031 rows, 2236 columns, 9216 nonzeros\n",
      "204\n"
     ]
    },
    {
     "name": "stderr",
     "output_type": "stream",
     "text": [
      "/Users/ashnanarain/anaconda3/envs/cobraenv/lib/python3.11/site-packages/cobra/medium/minimal_medium.py:112: FutureWarning: The default dtype for empty Series will be 'object' instead of 'float64' in a future version. Specify a dtype explicitly to silence this warning.\n",
      "  medium = pd.Series()\n"
     ]
    },
    {
     "name": "stdout",
     "output_type": "stream",
     "text": [
      "Read LP format model from file /var/folders/dn/p3xbs4r94jqf_5q7_q53zj_c0000gn/T/tmpuihrxxvq.lp\n",
      "Reading time = 0.00 seconds\n",
      ": 987 rows, 2018 columns, 8234 nonzeros\n",
      "Read LP format model from file /var/folders/dn/p3xbs4r94jqf_5q7_q53zj_c0000gn/T/tmp1r2jwvuw.lp\n",
      "Reading time = 0.00 seconds\n",
      ": 987 rows, 2018 columns, 8234 nonzeros\n",
      "Read LP format model from file /var/folders/dn/p3xbs4r94jqf_5q7_q53zj_c0000gn/T/tmpsrlane__.lp\n",
      "Reading time = 0.00 seconds\n",
      ": 987 rows, 2018 columns, 8234 nonzeros\n",
      "Read LP format model from file /var/folders/dn/p3xbs4r94jqf_5q7_q53zj_c0000gn/T/tmp2p9wjare.lp\n",
      "Reading time = 0.00 seconds\n",
      ": 987 rows, 2018 columns, 8234 nonzeros\n",
      "Read LP format model from file /var/folders/dn/p3xbs4r94jqf_5q7_q53zj_c0000gn/T/tmpjugqw6u3.lp\n",
      "Reading time = 0.00 seconds\n",
      ": 987 rows, 2018 columns, 8234 nonzeros\n",
      "Read LP format model from file /var/folders/dn/p3xbs4r94jqf_5q7_q53zj_c0000gn/T/tmp0fmi5sp8.lp\n",
      "Reading time = 0.01 seconds\n",
      ": 987 rows, 2018 columns, 8234 nonzeros\n",
      "Read LP format model from file /var/folders/dn/p3xbs4r94jqf_5q7_q53zj_c0000gn/T/tmps3o9ingf.lp\n",
      "Reading time = 0.01 seconds\n",
      ": 987 rows, 2018 columns, 8234 nonzeros\n",
      "337\n"
     ]
    },
    {
     "name": "stderr",
     "output_type": "stream",
     "text": [
      "/Users/ashnanarain/anaconda3/envs/cobraenv/lib/python3.11/site-packages/cobra/medium/minimal_medium.py:112: FutureWarning: The default dtype for empty Series will be 'object' instead of 'float64' in a future version. Specify a dtype explicitly to silence this warning.\n",
      "  medium = pd.Series()\n"
     ]
    },
    {
     "name": "stdout",
     "output_type": "stream",
     "text": [
      "Read LP format model from file /var/folders/dn/p3xbs4r94jqf_5q7_q53zj_c0000gn/T/tmpm2odktlz.lp\n",
      "Reading time = 0.01 seconds\n",
      ": 973 rows, 2078 columns, 8850 nonzeros\n",
      "Read LP format model from file /var/folders/dn/p3xbs4r94jqf_5q7_q53zj_c0000gn/T/tmp8ufyfwmq.lp\n",
      "Reading time = 0.01 seconds\n",
      ": 973 rows, 2078 columns, 8850 nonzeros\n",
      "Read LP format model from file /var/folders/dn/p3xbs4r94jqf_5q7_q53zj_c0000gn/T/tmps0bbpjmq.lp\n",
      "Reading time = 0.01 seconds\n",
      ": 973 rows, 2078 columns, 8850 nonzeros\n",
      "Read LP format model from file /var/folders/dn/p3xbs4r94jqf_5q7_q53zj_c0000gn/T/tmph43anr5_.lp\n",
      "Reading time = 0.01 seconds\n",
      ": 973 rows, 2078 columns, 8850 nonzeros\n",
      "Read LP format model from file /var/folders/dn/p3xbs4r94jqf_5q7_q53zj_c0000gn/T/tmpsmfqrnbu.lp\n",
      "Reading time = 0.01 seconds\n",
      ": 973 rows, 2078 columns, 8850 nonzeros\n",
      "Read LP format model from file /var/folders/dn/p3xbs4r94jqf_5q7_q53zj_c0000gn/T/tmpptqeag7b.lp\n",
      "Reading time = 0.00 seconds\n",
      ": 973 rows, 2078 columns, 8850 nonzeros\n",
      "Read LP format model from file /var/folders/dn/p3xbs4r94jqf_5q7_q53zj_c0000gn/T/tmpeyq_ct9m.lp\n",
      "Reading time = 0.01 seconds\n",
      ": 973 rows, 2078 columns, 8850 nonzeros\n",
      "186\n"
     ]
    },
    {
     "name": "stderr",
     "output_type": "stream",
     "text": [
      "/Users/ashnanarain/anaconda3/envs/cobraenv/lib/python3.11/site-packages/cobra/medium/minimal_medium.py:112: FutureWarning: The default dtype for empty Series will be 'object' instead of 'float64' in a future version. Specify a dtype explicitly to silence this warning.\n",
      "  medium = pd.Series()\n"
     ]
    },
    {
     "name": "stdout",
     "output_type": "stream",
     "text": [
      "Read LP format model from file /var/folders/dn/p3xbs4r94jqf_5q7_q53zj_c0000gn/T/tmpa3ihv31_.lp\n",
      "Reading time = 0.01 seconds\n",
      ": 1664 rows, 4100 columns, 16464 nonzeros\n",
      "Read LP format model from file /var/folders/dn/p3xbs4r94jqf_5q7_q53zj_c0000gn/T/tmpv0pwrvxt.lp\n",
      "Reading time = 0.01 seconds\n",
      ": 1664 rows, 4100 columns, 16464 nonzeros\n",
      "Read LP format model from file /var/folders/dn/p3xbs4r94jqf_5q7_q53zj_c0000gn/T/tmp7ghg50pg.lp\n",
      "Reading time = 0.01 seconds\n",
      ": 1664 rows, 4100 columns, 16464 nonzeros\n",
      "Read LP format model from file /var/folders/dn/p3xbs4r94jqf_5q7_q53zj_c0000gn/T/tmpw9tx8hdj.lp\n",
      "Reading time = 0.01 seconds\n",
      ": 1664 rows, 4100 columns, 16464 nonzeros\n",
      "Read LP format model from file /var/folders/dn/p3xbs4r94jqf_5q7_q53zj_c0000gn/T/tmp9rj8e7_n.lp\n",
      "Reading time = 0.01 seconds\n",
      ": 1664 rows, 4100 columns, 16464 nonzeros\n",
      "Read LP format model from file /var/folders/dn/p3xbs4r94jqf_5q7_q53zj_c0000gn/T/tmpt_ytrjov.lp\n",
      "Reading time = 0.01 seconds\n",
      ": 1664 rows, 4100 columns, 16464 nonzeros\n",
      "Read LP format model from file /var/folders/dn/p3xbs4r94jqf_5q7_q53zj_c0000gn/T/tmpq7bkbkoi.lp\n",
      "Reading time = 0.02 seconds\n",
      ": 1664 rows, 4100 columns, 16464 nonzeros\n",
      "320\n"
     ]
    },
    {
     "name": "stderr",
     "output_type": "stream",
     "text": [
      "/Users/ashnanarain/anaconda3/envs/cobraenv/lib/python3.11/site-packages/cobra/medium/minimal_medium.py:112: FutureWarning: The default dtype for empty Series will be 'object' instead of 'float64' in a future version. Specify a dtype explicitly to silence this warning.\n",
      "  medium = pd.Series()\n"
     ]
    },
    {
     "name": "stdout",
     "output_type": "stream",
     "text": [
      "Read LP format model from file /var/folders/dn/p3xbs4r94jqf_5q7_q53zj_c0000gn/T/tmpirm87t_k.lp\n",
      "Reading time = 0.00 seconds\n",
      ": 936 rows, 2148 columns, 8874 nonzeros\n",
      "Read LP format model from file /var/folders/dn/p3xbs4r94jqf_5q7_q53zj_c0000gn/T/tmp285fu_6x.lp\n",
      "Reading time = 0.00 seconds\n",
      ": 936 rows, 2148 columns, 8874 nonzeros\n",
      "Read LP format model from file /var/folders/dn/p3xbs4r94jqf_5q7_q53zj_c0000gn/T/tmpm4wjwgdb.lp\n",
      "Reading time = 0.00 seconds\n",
      ": 936 rows, 2148 columns, 8874 nonzeros\n",
      "Read LP format model from file /var/folders/dn/p3xbs4r94jqf_5q7_q53zj_c0000gn/T/tmp_pg_1eij.lp\n",
      "Reading time = 0.00 seconds\n",
      ": 936 rows, 2148 columns, 8874 nonzeros\n",
      "Read LP format model from file /var/folders/dn/p3xbs4r94jqf_5q7_q53zj_c0000gn/T/tmp2tswxdp_.lp\n",
      "Reading time = 0.00 seconds\n",
      ": 936 rows, 2148 columns, 8874 nonzeros\n",
      "Read LP format model from file /var/folders/dn/p3xbs4r94jqf_5q7_q53zj_c0000gn/T/tmpynavkob4.lp\n",
      "Reading time = 0.00 seconds\n",
      ": 936 rows, 2148 columns, 8874 nonzeros\n",
      "Read LP format model from file /var/folders/dn/p3xbs4r94jqf_5q7_q53zj_c0000gn/T/tmpl0c080k0.lp\n",
      "Reading time = 0.01 seconds\n",
      ": 936 rows, 2148 columns, 8874 nonzeros\n",
      "158\n"
     ]
    },
    {
     "name": "stderr",
     "output_type": "stream",
     "text": [
      "/Users/ashnanarain/anaconda3/envs/cobraenv/lib/python3.11/site-packages/cobra/medium/minimal_medium.py:112: FutureWarning: The default dtype for empty Series will be 'object' instead of 'float64' in a future version. Specify a dtype explicitly to silence this warning.\n",
      "  medium = pd.Series()\n"
     ]
    },
    {
     "name": "stdout",
     "output_type": "stream",
     "text": [
      "Read LP format model from file /var/folders/dn/p3xbs4r94jqf_5q7_q53zj_c0000gn/T/tmp541nt68b.lp\n",
      "Reading time = 0.01 seconds\n",
      ": 2630 rows, 6554 columns, 22274 nonzeros\n",
      "Read LP format model from file /var/folders/dn/p3xbs4r94jqf_5q7_q53zj_c0000gn/T/tmp_l6s2tc_.lp\n",
      "Reading time = 0.01 seconds\n",
      ": 2630 rows, 6554 columns, 22274 nonzeros\n",
      "Read LP format model from file /var/folders/dn/p3xbs4r94jqf_5q7_q53zj_c0000gn/T/tmpwaekeqo_.lp\n",
      "Reading time = 0.02 seconds\n",
      ": 2630 rows, 6554 columns, 22274 nonzeros\n",
      "Read LP format model from file /var/folders/dn/p3xbs4r94jqf_5q7_q53zj_c0000gn/T/tmpnnbvumu8.lp\n",
      "Reading time = 0.02 seconds\n",
      ": 2630 rows, 6554 columns, 22274 nonzeros\n",
      "Read LP format model from file /var/folders/dn/p3xbs4r94jqf_5q7_q53zj_c0000gn/T/tmp7f9dgw0m.lp\n",
      "Reading time = 0.02 seconds\n",
      ": 2630 rows, 6554 columns, 22274 nonzeros\n",
      "Read LP format model from file /var/folders/dn/p3xbs4r94jqf_5q7_q53zj_c0000gn/T/tmp0kviwngn.lp\n",
      "Reading time = 0.02 seconds\n",
      ": 2630 rows, 6554 columns, 22274 nonzeros\n",
      "Read LP format model from file /var/folders/dn/p3xbs4r94jqf_5q7_q53zj_c0000gn/T/tmp2k87fcii.lp\n",
      "Reading time = 0.02 seconds\n",
      ": 2630 rows, 6554 columns, 22274 nonzeros\n",
      "166\n"
     ]
    },
    {
     "name": "stderr",
     "output_type": "stream",
     "text": [
      "/Users/ashnanarain/anaconda3/envs/cobraenv/lib/python3.11/site-packages/cobra/medium/minimal_medium.py:112: FutureWarning: The default dtype for empty Series will be 'object' instead of 'float64' in a future version. Specify a dtype explicitly to silence this warning.\n",
      "  medium = pd.Series()\n"
     ]
    },
    {
     "name": "stdout",
     "output_type": "stream",
     "text": [
      "Read LP format model from file /var/folders/dn/p3xbs4r94jqf_5q7_q53zj_c0000gn/T/tmpof84n22y.lp\n",
      "Reading time = 0.00 seconds\n",
      ": 1047 rows, 2318 columns, 9754 nonzeros\n",
      "Read LP format model from file /var/folders/dn/p3xbs4r94jqf_5q7_q53zj_c0000gn/T/tmpak3x8hub.lp\n",
      "Reading time = 0.01 seconds\n",
      ": 1047 rows, 2318 columns, 9754 nonzeros\n",
      "Read LP format model from file /var/folders/dn/p3xbs4r94jqf_5q7_q53zj_c0000gn/T/tmp32sneion.lp\n",
      "Reading time = 0.01 seconds\n",
      ": 1047 rows, 2318 columns, 9754 nonzeros\n",
      "Read LP format model from file /var/folders/dn/p3xbs4r94jqf_5q7_q53zj_c0000gn/T/tmpt4q34esy.lp\n",
      "Reading time = 0.01 seconds\n",
      ": 1047 rows, 2318 columns, 9754 nonzeros\n",
      "Read LP format model from file /var/folders/dn/p3xbs4r94jqf_5q7_q53zj_c0000gn/T/tmpzobsvv6h.lp\n",
      "Reading time = 0.01 seconds\n",
      ": 1047 rows, 2318 columns, 9754 nonzeros\n",
      "Read LP format model from file /var/folders/dn/p3xbs4r94jqf_5q7_q53zj_c0000gn/T/tmp83s9i302.lp\n",
      "Reading time = 0.01 seconds\n",
      ": 1047 rows, 2318 columns, 9754 nonzeros\n",
      "Read LP format model from file /var/folders/dn/p3xbs4r94jqf_5q7_q53zj_c0000gn/T/tmpjdbrtza_.lp\n",
      "Reading time = 0.01 seconds\n",
      ": 1047 rows, 2318 columns, 9754 nonzeros\n",
      "159\n"
     ]
    },
    {
     "name": "stderr",
     "output_type": "stream",
     "text": [
      "/Users/ashnanarain/anaconda3/envs/cobraenv/lib/python3.11/site-packages/cobra/medium/minimal_medium.py:112: FutureWarning: The default dtype for empty Series will be 'object' instead of 'float64' in a future version. Specify a dtype explicitly to silence this warning.\n",
      "  medium = pd.Series()\n"
     ]
    },
    {
     "name": "stdout",
     "output_type": "stream",
     "text": [
      "Read LP format model from file /var/folders/dn/p3xbs4r94jqf_5q7_q53zj_c0000gn/T/tmpnjzwgbz9.lp\n",
      "Reading time = 0.01 seconds\n",
      ": 1600 rows, 3714 columns, 12266 nonzeros\n",
      "Read LP format model from file /var/folders/dn/p3xbs4r94jqf_5q7_q53zj_c0000gn/T/tmpn2y1e_wi.lp\n",
      "Reading time = 0.01 seconds\n",
      ": 1600 rows, 3714 columns, 12266 nonzeros\n",
      "Read LP format model from file /var/folders/dn/p3xbs4r94jqf_5q7_q53zj_c0000gn/T/tmp4o2fy8qs.lp\n",
      "Reading time = 0.01 seconds\n",
      ": 1600 rows, 3714 columns, 12266 nonzeros\n",
      "Read LP format model from file /var/folders/dn/p3xbs4r94jqf_5q7_q53zj_c0000gn/T/tmpu4swfjs0.lp\n",
      "Reading time = 0.01 seconds\n",
      ": 1600 rows, 3714 columns, 12266 nonzeros\n",
      "Read LP format model from file /var/folders/dn/p3xbs4r94jqf_5q7_q53zj_c0000gn/T/tmp1vdnyl9c.lp\n",
      "Reading time = 0.01 seconds\n",
      ": 1600 rows, 3714 columns, 12266 nonzeros\n",
      "Read LP format model from file /var/folders/dn/p3xbs4r94jqf_5q7_q53zj_c0000gn/T/tmp2y36i2hh.lp\n",
      "Reading time = 0.01 seconds\n",
      ": 1600 rows, 3714 columns, 12266 nonzeros\n",
      "Read LP format model from file /var/folders/dn/p3xbs4r94jqf_5q7_q53zj_c0000gn/T/tmpyax51d0h.lp\n",
      "Reading time = 0.02 seconds\n",
      ": 1600 rows, 3714 columns, 12266 nonzeros\n",
      "180\n"
     ]
    },
    {
     "name": "stderr",
     "output_type": "stream",
     "text": [
      "/Users/ashnanarain/anaconda3/envs/cobraenv/lib/python3.11/site-packages/cobra/medium/minimal_medium.py:112: FutureWarning: The default dtype for empty Series will be 'object' instead of 'float64' in a future version. Specify a dtype explicitly to silence this warning.\n",
      "  medium = pd.Series()\n"
     ]
    },
    {
     "name": "stdout",
     "output_type": "stream",
     "text": [
      "Read LP format model from file /var/folders/dn/p3xbs4r94jqf_5q7_q53zj_c0000gn/T/tmpccxxh0e4.lp\n",
      "Reading time = 0.01 seconds\n",
      ": 1288 rows, 2850 columns, 11214 nonzeros\n",
      "Read LP format model from file /var/folders/dn/p3xbs4r94jqf_5q7_q53zj_c0000gn/T/tmpc9tvl0r6.lp\n",
      "Reading time = 0.01 seconds\n",
      ": 1288 rows, 2850 columns, 11214 nonzeros\n",
      "Read LP format model from file /var/folders/dn/p3xbs4r94jqf_5q7_q53zj_c0000gn/T/tmp8fuv4g9l.lp\n",
      "Reading time = 0.01 seconds\n",
      ": 1288 rows, 2850 columns, 11214 nonzeros\n",
      "Read LP format model from file /var/folders/dn/p3xbs4r94jqf_5q7_q53zj_c0000gn/T/tmp9jx11v74.lp\n",
      "Reading time = 0.01 seconds\n",
      ": 1288 rows, 2850 columns, 11214 nonzeros\n",
      "Read LP format model from file /var/folders/dn/p3xbs4r94jqf_5q7_q53zj_c0000gn/T/tmpb8f2ymmd.lp\n",
      "Reading time = 0.01 seconds\n",
      ": 1288 rows, 2850 columns, 11214 nonzeros\n",
      "Read LP format model from file /var/folders/dn/p3xbs4r94jqf_5q7_q53zj_c0000gn/T/tmp1x90lyqm.lp\n",
      "Reading time = 0.01 seconds\n",
      ": 1288 rows, 2850 columns, 11214 nonzeros\n",
      "Read LP format model from file /var/folders/dn/p3xbs4r94jqf_5q7_q53zj_c0000gn/T/tmpwqngarq5.lp\n",
      "Reading time = 0.01 seconds\n",
      ": 1288 rows, 2850 columns, 11214 nonzeros\n",
      "215\n"
     ]
    },
    {
     "name": "stderr",
     "output_type": "stream",
     "text": [
      "/Users/ashnanarain/anaconda3/envs/cobraenv/lib/python3.11/site-packages/cobra/medium/minimal_medium.py:112: FutureWarning: The default dtype for empty Series will be 'object' instead of 'float64' in a future version. Specify a dtype explicitly to silence this warning.\n",
      "  medium = pd.Series()\n"
     ]
    },
    {
     "name": "stdout",
     "output_type": "stream",
     "text": [
      "Read LP format model from file /var/folders/dn/p3xbs4r94jqf_5q7_q53zj_c0000gn/T/tmpgsz1kl91.lp\n",
      "Reading time = 0.01 seconds\n",
      ": 1242 rows, 2794 columns, 11228 nonzeros\n",
      "Read LP format model from file /var/folders/dn/p3xbs4r94jqf_5q7_q53zj_c0000gn/T/tmpleylsnxs.lp\n",
      "Reading time = 0.01 seconds\n",
      ": 1242 rows, 2794 columns, 11228 nonzeros\n",
      "Read LP format model from file /var/folders/dn/p3xbs4r94jqf_5q7_q53zj_c0000gn/T/tmp85aknwru.lp\n",
      "Reading time = 0.01 seconds\n",
      ": 1242 rows, 2794 columns, 11228 nonzeros\n",
      "Read LP format model from file /var/folders/dn/p3xbs4r94jqf_5q7_q53zj_c0000gn/T/tmplfc0x_02.lp\n",
      "Reading time = 0.01 seconds\n",
      ": 1242 rows, 2794 columns, 11228 nonzeros\n",
      "Read LP format model from file /var/folders/dn/p3xbs4r94jqf_5q7_q53zj_c0000gn/T/tmpb3wi14x_.lp\n",
      "Reading time = 0.01 seconds\n",
      ": 1242 rows, 2794 columns, 11228 nonzeros\n",
      "Read LP format model from file /var/folders/dn/p3xbs4r94jqf_5q7_q53zj_c0000gn/T/tmpz38jgqul.lp\n",
      "Reading time = 0.01 seconds\n",
      ": 1242 rows, 2794 columns, 11228 nonzeros\n",
      "Read LP format model from file /var/folders/dn/p3xbs4r94jqf_5q7_q53zj_c0000gn/T/tmpctc4aije.lp\n",
      "Reading time = 0.01 seconds\n",
      ": 1242 rows, 2794 columns, 11228 nonzeros\n",
      "351\n"
     ]
    },
    {
     "name": "stderr",
     "output_type": "stream",
     "text": [
      "/Users/ashnanarain/anaconda3/envs/cobraenv/lib/python3.11/site-packages/cobra/medium/minimal_medium.py:112: FutureWarning: The default dtype for empty Series will be 'object' instead of 'float64' in a future version. Specify a dtype explicitly to silence this warning.\n",
      "  medium = pd.Series()\n"
     ]
    },
    {
     "name": "stdout",
     "output_type": "stream",
     "text": [
      "Read LP format model from file /var/folders/dn/p3xbs4r94jqf_5q7_q53zj_c0000gn/T/tmp88firrl5.lp\n",
      "Reading time = 0.00 seconds\n",
      ": 1073 rows, 2278 columns, 9080 nonzeros\n",
      "Read LP format model from file /var/folders/dn/p3xbs4r94jqf_5q7_q53zj_c0000gn/T/tmpg4ribsu5.lp\n",
      "Reading time = 0.00 seconds\n",
      ": 1073 rows, 2278 columns, 9080 nonzeros\n",
      "Read LP format model from file /var/folders/dn/p3xbs4r94jqf_5q7_q53zj_c0000gn/T/tmp8xyjn6pr.lp\n",
      "Reading time = 0.00 seconds\n",
      ": 1073 rows, 2278 columns, 9080 nonzeros\n",
      "Read LP format model from file /var/folders/dn/p3xbs4r94jqf_5q7_q53zj_c0000gn/T/tmpruwtnq1f.lp\n",
      "Reading time = 0.00 seconds\n",
      ": 1073 rows, 2278 columns, 9080 nonzeros\n",
      "Read LP format model from file /var/folders/dn/p3xbs4r94jqf_5q7_q53zj_c0000gn/T/tmp7u0fninb.lp\n",
      "Reading time = 0.00 seconds\n",
      ": 1073 rows, 2278 columns, 9080 nonzeros\n",
      "Read LP format model from file /var/folders/dn/p3xbs4r94jqf_5q7_q53zj_c0000gn/T/tmps6ez1tso.lp\n",
      "Reading time = 0.01 seconds\n",
      ": 1073 rows, 2278 columns, 9080 nonzeros\n",
      "Read LP format model from file /var/folders/dn/p3xbs4r94jqf_5q7_q53zj_c0000gn/T/tmp9rrzp5fg.lp\n",
      "Reading time = 0.01 seconds\n",
      ": 1073 rows, 2278 columns, 9080 nonzeros\n",
      "229\n"
     ]
    },
    {
     "name": "stderr",
     "output_type": "stream",
     "text": [
      "/Users/ashnanarain/anaconda3/envs/cobraenv/lib/python3.11/site-packages/cobra/medium/minimal_medium.py:112: FutureWarning: The default dtype for empty Series will be 'object' instead of 'float64' in a future version. Specify a dtype explicitly to silence this warning.\n",
      "  medium = pd.Series()\n"
     ]
    },
    {
     "name": "stdout",
     "output_type": "stream",
     "text": [
      "Read LP format model from file /var/folders/dn/p3xbs4r94jqf_5q7_q53zj_c0000gn/T/tmpvtwkwyo5.lp\n",
      "Reading time = 0.01 seconds\n",
      ": 1667 rows, 4226 columns, 16702 nonzeros\n",
      "Read LP format model from file /var/folders/dn/p3xbs4r94jqf_5q7_q53zj_c0000gn/T/tmpqidg2elw.lp\n",
      "Reading time = 0.01 seconds\n",
      ": 1667 rows, 4226 columns, 16702 nonzeros\n",
      "Read LP format model from file /var/folders/dn/p3xbs4r94jqf_5q7_q53zj_c0000gn/T/tmppgtgfga8.lp\n",
      "Reading time = 0.01 seconds\n",
      ": 1667 rows, 4226 columns, 16702 nonzeros\n",
      "Read LP format model from file /var/folders/dn/p3xbs4r94jqf_5q7_q53zj_c0000gn/T/tmpa8hsg_48.lp\n",
      "Reading time = 0.01 seconds\n",
      ": 1667 rows, 4226 columns, 16702 nonzeros\n",
      "Read LP format model from file /var/folders/dn/p3xbs4r94jqf_5q7_q53zj_c0000gn/T/tmplrkqogwx.lp\n",
      "Reading time = 0.02 seconds\n",
      ": 1667 rows, 4226 columns, 16702 nonzeros\n",
      "Read LP format model from file /var/folders/dn/p3xbs4r94jqf_5q7_q53zj_c0000gn/T/tmpvvxejbk1.lp\n",
      "Reading time = 0.01 seconds\n",
      ": 1667 rows, 4226 columns, 16702 nonzeros\n",
      "Read LP format model from file /var/folders/dn/p3xbs4r94jqf_5q7_q53zj_c0000gn/T/tmpyf0tx2n1.lp\n",
      "Reading time = 0.02 seconds\n",
      ": 1667 rows, 4226 columns, 16702 nonzeros\n",
      "192\n"
     ]
    },
    {
     "name": "stderr",
     "output_type": "stream",
     "text": [
      "/Users/ashnanarain/anaconda3/envs/cobraenv/lib/python3.11/site-packages/cobra/medium/minimal_medium.py:112: FutureWarning: The default dtype for empty Series will be 'object' instead of 'float64' in a future version. Specify a dtype explicitly to silence this warning.\n",
      "  medium = pd.Series()\n"
     ]
    },
    {
     "name": "stdout",
     "output_type": "stream",
     "text": [
      "Read LP format model from file /var/folders/dn/p3xbs4r94jqf_5q7_q53zj_c0000gn/T/tmpeqsr_ve1.lp\n",
      "Reading time = 0.00 seconds\n",
      ": 942 rows, 2074 columns, 8852 nonzeros\n",
      "Read LP format model from file /var/folders/dn/p3xbs4r94jqf_5q7_q53zj_c0000gn/T/tmpbqubxfxg.lp\n",
      "Reading time = 0.00 seconds\n",
      ": 942 rows, 2074 columns, 8852 nonzeros\n",
      "Read LP format model from file /var/folders/dn/p3xbs4r94jqf_5q7_q53zj_c0000gn/T/tmpy06ci56y.lp\n",
      "Reading time = 0.00 seconds\n",
      ": 942 rows, 2074 columns, 8852 nonzeros\n",
      "Read LP format model from file /var/folders/dn/p3xbs4r94jqf_5q7_q53zj_c0000gn/T/tmphm352f8n.lp\n",
      "Reading time = 0.00 seconds\n",
      ": 942 rows, 2074 columns, 8852 nonzeros\n",
      "Read LP format model from file /var/folders/dn/p3xbs4r94jqf_5q7_q53zj_c0000gn/T/tmpigg742w5.lp\n",
      "Reading time = 0.00 seconds\n",
      ": 942 rows, 2074 columns, 8852 nonzeros\n",
      "Read LP format model from file /var/folders/dn/p3xbs4r94jqf_5q7_q53zj_c0000gn/T/tmpe3kta3b1.lp\n",
      "Reading time = 0.00 seconds\n",
      ": 942 rows, 2074 columns, 8852 nonzeros\n",
      "Read LP format model from file /var/folders/dn/p3xbs4r94jqf_5q7_q53zj_c0000gn/T/tmp6t9zmc3m.lp\n",
      "Reading time = 0.01 seconds\n",
      ": 942 rows, 2074 columns, 8852 nonzeros\n",
      "309\n"
     ]
    },
    {
     "name": "stderr",
     "output_type": "stream",
     "text": [
      "/Users/ashnanarain/anaconda3/envs/cobraenv/lib/python3.11/site-packages/cobra/medium/minimal_medium.py:112: FutureWarning: The default dtype for empty Series will be 'object' instead of 'float64' in a future version. Specify a dtype explicitly to silence this warning.\n",
      "  medium = pd.Series()\n"
     ]
    },
    {
     "name": "stdout",
     "output_type": "stream",
     "text": [
      "Read LP format model from file /var/folders/dn/p3xbs4r94jqf_5q7_q53zj_c0000gn/T/tmp8bxudskm.lp\n",
      "Reading time = 0.00 seconds\n",
      ": 974 rows, 2154 columns, 9060 nonzeros\n",
      "Read LP format model from file /var/folders/dn/p3xbs4r94jqf_5q7_q53zj_c0000gn/T/tmpvj846wbq.lp\n",
      "Reading time = 0.00 seconds\n",
      ": 974 rows, 2154 columns, 9060 nonzeros\n",
      "Read LP format model from file /var/folders/dn/p3xbs4r94jqf_5q7_q53zj_c0000gn/T/tmpx391k9gt.lp\n",
      "Reading time = 0.00 seconds\n",
      ": 974 rows, 2154 columns, 9060 nonzeros\n",
      "Read LP format model from file /var/folders/dn/p3xbs4r94jqf_5q7_q53zj_c0000gn/T/tmpiywwmxuc.lp\n",
      "Reading time = 0.00 seconds\n",
      ": 974 rows, 2154 columns, 9060 nonzeros\n",
      "Read LP format model from file /var/folders/dn/p3xbs4r94jqf_5q7_q53zj_c0000gn/T/tmpgt9k9pbo.lp\n",
      "Reading time = 0.01 seconds\n",
      ": 974 rows, 2154 columns, 9060 nonzeros\n",
      "Read LP format model from file /var/folders/dn/p3xbs4r94jqf_5q7_q53zj_c0000gn/T/tmpkfwwx2tz.lp\n",
      "Reading time = 0.00 seconds\n",
      ": 974 rows, 2154 columns, 9060 nonzeros\n",
      "Read LP format model from file /var/folders/dn/p3xbs4r94jqf_5q7_q53zj_c0000gn/T/tmp6uv51hym.lp\n",
      "Reading time = 0.00 seconds\n",
      ": 974 rows, 2154 columns, 9060 nonzeros\n",
      "146\n"
     ]
    },
    {
     "name": "stderr",
     "output_type": "stream",
     "text": [
      "/Users/ashnanarain/anaconda3/envs/cobraenv/lib/python3.11/site-packages/cobra/medium/minimal_medium.py:112: FutureWarning: The default dtype for empty Series will be 'object' instead of 'float64' in a future version. Specify a dtype explicitly to silence this warning.\n",
      "  medium = pd.Series()\n"
     ]
    },
    {
     "name": "stdout",
     "output_type": "stream",
     "text": [
      "Read LP format model from file /var/folders/dn/p3xbs4r94jqf_5q7_q53zj_c0000gn/T/tmpazck86_z.lp\n",
      "Reading time = 0.00 seconds\n",
      ": 1225 rows, 2754 columns, 11132 nonzeros\n",
      "Read LP format model from file /var/folders/dn/p3xbs4r94jqf_5q7_q53zj_c0000gn/T/tmph6l7qbq5.lp\n",
      "Reading time = 0.01 seconds\n",
      ": 1225 rows, 2754 columns, 11132 nonzeros\n",
      "Read LP format model from file /var/folders/dn/p3xbs4r94jqf_5q7_q53zj_c0000gn/T/tmpboqy8moy.lp\n",
      "Reading time = 0.01 seconds\n",
      ": 1225 rows, 2754 columns, 11132 nonzeros\n",
      "Read LP format model from file /var/folders/dn/p3xbs4r94jqf_5q7_q53zj_c0000gn/T/tmpw2bxd0m6.lp\n",
      "Reading time = 0.01 seconds\n",
      ": 1225 rows, 2754 columns, 11132 nonzeros\n",
      "Read LP format model from file /var/folders/dn/p3xbs4r94jqf_5q7_q53zj_c0000gn/T/tmpeja0s6ce.lp\n",
      "Reading time = 0.01 seconds\n",
      ": 1225 rows, 2754 columns, 11132 nonzeros\n",
      "Read LP format model from file /var/folders/dn/p3xbs4r94jqf_5q7_q53zj_c0000gn/T/tmpqq97kage.lp\n",
      "Reading time = 0.01 seconds\n",
      ": 1225 rows, 2754 columns, 11132 nonzeros\n",
      "Read LP format model from file /var/folders/dn/p3xbs4r94jqf_5q7_q53zj_c0000gn/T/tmpfr3twtm9.lp\n",
      "Reading time = 0.01 seconds\n",
      ": 1225 rows, 2754 columns, 11132 nonzeros\n",
      "322\n"
     ]
    },
    {
     "name": "stderr",
     "output_type": "stream",
     "text": [
      "/Users/ashnanarain/anaconda3/envs/cobraenv/lib/python3.11/site-packages/cobra/medium/minimal_medium.py:112: FutureWarning: The default dtype for empty Series will be 'object' instead of 'float64' in a future version. Specify a dtype explicitly to silence this warning.\n",
      "  medium = pd.Series()\n"
     ]
    },
    {
     "name": "stdout",
     "output_type": "stream",
     "text": [
      "Read LP format model from file /var/folders/dn/p3xbs4r94jqf_5q7_q53zj_c0000gn/T/tmprm4py4p3.lp\n",
      "Reading time = 0.01 seconds\n",
      ": 1953 rows, 4640 columns, 15766 nonzeros\n",
      "Read LP format model from file /var/folders/dn/p3xbs4r94jqf_5q7_q53zj_c0000gn/T/tmpjm90dbde.lp\n",
      "Reading time = 0.01 seconds\n",
      ": 1953 rows, 4640 columns, 15766 nonzeros\n",
      "Read LP format model from file /var/folders/dn/p3xbs4r94jqf_5q7_q53zj_c0000gn/T/tmpww3o39n0.lp\n",
      "Reading time = 0.01 seconds\n",
      ": 1953 rows, 4640 columns, 15766 nonzeros\n",
      "Read LP format model from file /var/folders/dn/p3xbs4r94jqf_5q7_q53zj_c0000gn/T/tmpf30cwifs.lp\n",
      "Reading time = 0.01 seconds\n",
      ": 1953 rows, 4640 columns, 15766 nonzeros\n",
      "Read LP format model from file /var/folders/dn/p3xbs4r94jqf_5q7_q53zj_c0000gn/T/tmph36uizqv.lp\n",
      "Reading time = 0.01 seconds\n",
      ": 1953 rows, 4640 columns, 15766 nonzeros\n",
      "Read LP format model from file /var/folders/dn/p3xbs4r94jqf_5q7_q53zj_c0000gn/T/tmpmvyrormk.lp\n",
      "Reading time = 0.01 seconds\n",
      ": 1953 rows, 4640 columns, 15766 nonzeros\n",
      "Read LP format model from file /var/folders/dn/p3xbs4r94jqf_5q7_q53zj_c0000gn/T/tmpi6m0ulu2.lp\n",
      "Reading time = 0.02 seconds\n",
      ": 1953 rows, 4640 columns, 15766 nonzeros\n",
      "359\n"
     ]
    },
    {
     "name": "stderr",
     "output_type": "stream",
     "text": [
      "/Users/ashnanarain/anaconda3/envs/cobraenv/lib/python3.11/site-packages/cobra/medium/minimal_medium.py:112: FutureWarning: The default dtype for empty Series will be 'object' instead of 'float64' in a future version. Specify a dtype explicitly to silence this warning.\n",
      "  medium = pd.Series()\n"
     ]
    },
    {
     "name": "stdout",
     "output_type": "stream",
     "text": [
      "Read LP format model from file /var/folders/dn/p3xbs4r94jqf_5q7_q53zj_c0000gn/T/tmph0jo_rqr.lp\n",
      "Reading time = 0.01 seconds\n",
      ": 2154 rows, 5294 columns, 18098 nonzeros\n",
      "Read LP format model from file /var/folders/dn/p3xbs4r94jqf_5q7_q53zj_c0000gn/T/tmpzwaj6pdp.lp\n",
      "Reading time = 0.01 seconds\n",
      ": 2154 rows, 5294 columns, 18098 nonzeros\n",
      "Read LP format model from file /var/folders/dn/p3xbs4r94jqf_5q7_q53zj_c0000gn/T/tmpd_cm2p6s.lp\n",
      "Reading time = 0.01 seconds\n",
      ": 2154 rows, 5294 columns, 18098 nonzeros\n",
      "Read LP format model from file /var/folders/dn/p3xbs4r94jqf_5q7_q53zj_c0000gn/T/tmpa2up_0hc.lp\n",
      "Reading time = 0.01 seconds\n",
      ": 2154 rows, 5294 columns, 18098 nonzeros\n",
      "Read LP format model from file /var/folders/dn/p3xbs4r94jqf_5q7_q53zj_c0000gn/T/tmpnbbx8rrj.lp\n",
      "Reading time = 0.01 seconds\n",
      ": 2154 rows, 5294 columns, 18098 nonzeros\n",
      "Read LP format model from file /var/folders/dn/p3xbs4r94jqf_5q7_q53zj_c0000gn/T/tmph0g1zfyz.lp\n",
      "Reading time = 0.01 seconds\n",
      ": 2154 rows, 5294 columns, 18098 nonzeros\n",
      "Read LP format model from file /var/folders/dn/p3xbs4r94jqf_5q7_q53zj_c0000gn/T/tmpjc6o4jq4.lp\n",
      "Reading time = 0.02 seconds\n",
      ": 2154 rows, 5294 columns, 18098 nonzeros\n",
      "254\n"
     ]
    },
    {
     "name": "stderr",
     "output_type": "stream",
     "text": [
      "/Users/ashnanarain/anaconda3/envs/cobraenv/lib/python3.11/site-packages/cobra/medium/minimal_medium.py:112: FutureWarning: The default dtype for empty Series will be 'object' instead of 'float64' in a future version. Specify a dtype explicitly to silence this warning.\n",
      "  medium = pd.Series()\n"
     ]
    },
    {
     "name": "stdout",
     "output_type": "stream",
     "text": [
      "Read LP format model from file /var/folders/dn/p3xbs4r94jqf_5q7_q53zj_c0000gn/T/tmp51hmu128.lp\n",
      "Reading time = 0.00 seconds\n",
      ": 1046 rows, 2200 columns, 9166 nonzeros\n",
      "Read LP format model from file /var/folders/dn/p3xbs4r94jqf_5q7_q53zj_c0000gn/T/tmpuvtqksjl.lp\n",
      "Reading time = 0.01 seconds\n",
      ": 1046 rows, 2200 columns, 9166 nonzeros\n",
      "Read LP format model from file /var/folders/dn/p3xbs4r94jqf_5q7_q53zj_c0000gn/T/tmp13grch63.lp\n",
      "Reading time = 0.00 seconds\n",
      ": 1046 rows, 2200 columns, 9166 nonzeros\n",
      "Read LP format model from file /var/folders/dn/p3xbs4r94jqf_5q7_q53zj_c0000gn/T/tmppk61tjy4.lp\n",
      "Reading time = 0.00 seconds\n",
      ": 1046 rows, 2200 columns, 9166 nonzeros\n",
      "Read LP format model from file /var/folders/dn/p3xbs4r94jqf_5q7_q53zj_c0000gn/T/tmpg9zkhxsy.lp\n",
      "Reading time = 0.01 seconds\n",
      ": 1046 rows, 2200 columns, 9166 nonzeros\n",
      "Read LP format model from file /var/folders/dn/p3xbs4r94jqf_5q7_q53zj_c0000gn/T/tmp12gg8w32.lp\n",
      "Reading time = 0.00 seconds\n",
      ": 1046 rows, 2200 columns, 9166 nonzeros\n",
      "Read LP format model from file /var/folders/dn/p3xbs4r94jqf_5q7_q53zj_c0000gn/T/tmpe5laoq5l.lp\n",
      "Reading time = 0.01 seconds\n",
      ": 1046 rows, 2200 columns, 9166 nonzeros\n",
      "273\n"
     ]
    },
    {
     "name": "stderr",
     "output_type": "stream",
     "text": [
      "/Users/ashnanarain/anaconda3/envs/cobraenv/lib/python3.11/site-packages/cobra/medium/minimal_medium.py:112: FutureWarning: The default dtype for empty Series will be 'object' instead of 'float64' in a future version. Specify a dtype explicitly to silence this warning.\n",
      "  medium = pd.Series()\n"
     ]
    },
    {
     "name": "stdout",
     "output_type": "stream",
     "text": [
      "Read LP format model from file /var/folders/dn/p3xbs4r94jqf_5q7_q53zj_c0000gn/T/tmpewrx0frw.lp\n",
      "Reading time = 0.01 seconds\n",
      ": 2157 rows, 5210 columns, 17328 nonzeros\n",
      "Read LP format model from file /var/folders/dn/p3xbs4r94jqf_5q7_q53zj_c0000gn/T/tmpvx3u96rd.lp\n",
      "Reading time = 0.01 seconds\n",
      ": 2157 rows, 5210 columns, 17328 nonzeros\n",
      "Read LP format model from file /var/folders/dn/p3xbs4r94jqf_5q7_q53zj_c0000gn/T/tmpw26a2jk7.lp\n",
      "Reading time = 0.01 seconds\n",
      ": 2157 rows, 5210 columns, 17328 nonzeros\n",
      "Read LP format model from file /var/folders/dn/p3xbs4r94jqf_5q7_q53zj_c0000gn/T/tmp5mpuec82.lp\n",
      "Reading time = 0.01 seconds\n",
      ": 2157 rows, 5210 columns, 17328 nonzeros\n",
      "Read LP format model from file /var/folders/dn/p3xbs4r94jqf_5q7_q53zj_c0000gn/T/tmpm4m2zxww.lp\n",
      "Reading time = 0.02 seconds\n",
      ": 2157 rows, 5210 columns, 17328 nonzeros\n",
      "Read LP format model from file /var/folders/dn/p3xbs4r94jqf_5q7_q53zj_c0000gn/T/tmpxhp5ch18.lp\n",
      "Reading time = 0.01 seconds\n",
      ": 2157 rows, 5210 columns, 17328 nonzeros\n",
      "Read LP format model from file /var/folders/dn/p3xbs4r94jqf_5q7_q53zj_c0000gn/T/tmpcp4mipsn.lp\n",
      "Reading time = 0.02 seconds\n",
      ": 2157 rows, 5210 columns, 17328 nonzeros\n",
      "347\n"
     ]
    },
    {
     "name": "stderr",
     "output_type": "stream",
     "text": [
      "/Users/ashnanarain/anaconda3/envs/cobraenv/lib/python3.11/site-packages/cobra/medium/minimal_medium.py:112: FutureWarning: The default dtype for empty Series will be 'object' instead of 'float64' in a future version. Specify a dtype explicitly to silence this warning.\n",
      "  medium = pd.Series()\n"
     ]
    },
    {
     "name": "stdout",
     "output_type": "stream",
     "text": [
      "Read LP format model from file /var/folders/dn/p3xbs4r94jqf_5q7_q53zj_c0000gn/T/tmpg8i6lgzl.lp\n",
      "Reading time = 0.00 seconds\n",
      ": 999 rows, 2104 columns, 9112 nonzeros\n",
      "Read LP format model from file /var/folders/dn/p3xbs4r94jqf_5q7_q53zj_c0000gn/T/tmpfpam8p7f.lp\n",
      "Reading time = 0.00 seconds\n",
      ": 999 rows, 2104 columns, 9112 nonzeros\n",
      "Read LP format model from file /var/folders/dn/p3xbs4r94jqf_5q7_q53zj_c0000gn/T/tmpspgoih0y.lp\n",
      "Reading time = 0.00 seconds\n",
      ": 999 rows, 2104 columns, 9112 nonzeros\n",
      "Read LP format model from file /var/folders/dn/p3xbs4r94jqf_5q7_q53zj_c0000gn/T/tmp414zj_4c.lp\n",
      "Reading time = 0.00 seconds\n",
      ": 999 rows, 2104 columns, 9112 nonzeros\n",
      "Read LP format model from file /var/folders/dn/p3xbs4r94jqf_5q7_q53zj_c0000gn/T/tmp7f__lde0.lp\n",
      "Reading time = 0.00 seconds\n",
      ": 999 rows, 2104 columns, 9112 nonzeros\n",
      "Read LP format model from file /var/folders/dn/p3xbs4r94jqf_5q7_q53zj_c0000gn/T/tmpyexhwjiu.lp\n",
      "Reading time = 0.00 seconds\n",
      ": 999 rows, 2104 columns, 9112 nonzeros\n",
      "Read LP format model from file /var/folders/dn/p3xbs4r94jqf_5q7_q53zj_c0000gn/T/tmpbzr_4gdb.lp\n",
      "Reading time = 0.01 seconds\n",
      ": 999 rows, 2104 columns, 9112 nonzeros\n",
      "195\n"
     ]
    },
    {
     "name": "stderr",
     "output_type": "stream",
     "text": [
      "/Users/ashnanarain/anaconda3/envs/cobraenv/lib/python3.11/site-packages/cobra/medium/minimal_medium.py:112: FutureWarning: The default dtype for empty Series will be 'object' instead of 'float64' in a future version. Specify a dtype explicitly to silence this warning.\n",
      "  medium = pd.Series()\n"
     ]
    },
    {
     "name": "stdout",
     "output_type": "stream",
     "text": [
      "Read LP format model from file /var/folders/dn/p3xbs4r94jqf_5q7_q53zj_c0000gn/T/tmpo4qeqftf.lp\n",
      "Reading time = 0.01 seconds\n",
      ": 1691 rows, 3966 columns, 15066 nonzeros\n",
      "Read LP format model from file /var/folders/dn/p3xbs4r94jqf_5q7_q53zj_c0000gn/T/tmpppk_96g3.lp\n",
      "Reading time = 0.01 seconds\n",
      ": 1691 rows, 3966 columns, 15066 nonzeros\n",
      "Read LP format model from file /var/folders/dn/p3xbs4r94jqf_5q7_q53zj_c0000gn/T/tmpkfdt97cl.lp\n",
      "Reading time = 0.01 seconds\n",
      ": 1691 rows, 3966 columns, 15066 nonzeros\n",
      "Read LP format model from file /var/folders/dn/p3xbs4r94jqf_5q7_q53zj_c0000gn/T/tmputbqynfj.lp\n",
      "Reading time = 0.01 seconds\n",
      ": 1691 rows, 3966 columns, 15066 nonzeros\n",
      "Read LP format model from file /var/folders/dn/p3xbs4r94jqf_5q7_q53zj_c0000gn/T/tmp2if7i6we.lp\n",
      "Reading time = 0.01 seconds\n",
      ": 1691 rows, 3966 columns, 15066 nonzeros\n",
      "Read LP format model from file /var/folders/dn/p3xbs4r94jqf_5q7_q53zj_c0000gn/T/tmp1ybke3g3.lp\n",
      "Reading time = 0.01 seconds\n",
      ": 1691 rows, 3966 columns, 15066 nonzeros\n",
      "Read LP format model from file /var/folders/dn/p3xbs4r94jqf_5q7_q53zj_c0000gn/T/tmpvif12lpm.lp\n",
      "Reading time = 0.01 seconds\n",
      ": 1691 rows, 3966 columns, 15066 nonzeros\n",
      "186\n"
     ]
    },
    {
     "name": "stderr",
     "output_type": "stream",
     "text": [
      "/Users/ashnanarain/anaconda3/envs/cobraenv/lib/python3.11/site-packages/cobra/medium/minimal_medium.py:112: FutureWarning: The default dtype for empty Series will be 'object' instead of 'float64' in a future version. Specify a dtype explicitly to silence this warning.\n",
      "  medium = pd.Series()\n"
     ]
    },
    {
     "name": "stdout",
     "output_type": "stream",
     "text": [
      "Read LP format model from file /var/folders/dn/p3xbs4r94jqf_5q7_q53zj_c0000gn/T/tmpbr6qjftl.lp\n",
      "Reading time = 0.00 seconds\n",
      ": 1035 rows, 2220 columns, 9420 nonzeros\n",
      "Read LP format model from file /var/folders/dn/p3xbs4r94jqf_5q7_q53zj_c0000gn/T/tmp4tcthvdm.lp\n",
      "Reading time = 0.00 seconds\n",
      ": 1035 rows, 2220 columns, 9420 nonzeros\n",
      "Read LP format model from file /var/folders/dn/p3xbs4r94jqf_5q7_q53zj_c0000gn/T/tmpn40hihw5.lp\n",
      "Reading time = 0.00 seconds\n",
      ": 1035 rows, 2220 columns, 9420 nonzeros\n",
      "Read LP format model from file /var/folders/dn/p3xbs4r94jqf_5q7_q53zj_c0000gn/T/tmpolmo4dib.lp\n",
      "Reading time = 0.00 seconds\n",
      ": 1035 rows, 2220 columns, 9420 nonzeros\n",
      "Read LP format model from file /var/folders/dn/p3xbs4r94jqf_5q7_q53zj_c0000gn/T/tmp547irkwy.lp\n",
      "Reading time = 0.00 seconds\n",
      ": 1035 rows, 2220 columns, 9420 nonzeros\n",
      "Read LP format model from file /var/folders/dn/p3xbs4r94jqf_5q7_q53zj_c0000gn/T/tmp5c2d0u96.lp\n",
      "Reading time = 0.00 seconds\n",
      ": 1035 rows, 2220 columns, 9420 nonzeros\n",
      "Read LP format model from file /var/folders/dn/p3xbs4r94jqf_5q7_q53zj_c0000gn/T/tmpz92omsn6.lp\n",
      "Reading time = 0.01 seconds\n",
      ": 1035 rows, 2220 columns, 9420 nonzeros\n",
      "182\n"
     ]
    },
    {
     "name": "stderr",
     "output_type": "stream",
     "text": [
      "/Users/ashnanarain/anaconda3/envs/cobraenv/lib/python3.11/site-packages/cobra/medium/minimal_medium.py:112: FutureWarning: The default dtype for empty Series will be 'object' instead of 'float64' in a future version. Specify a dtype explicitly to silence this warning.\n",
      "  medium = pd.Series()\n"
     ]
    },
    {
     "name": "stdout",
     "output_type": "stream",
     "text": [
      "Read LP format model from file /var/folders/dn/p3xbs4r94jqf_5q7_q53zj_c0000gn/T/tmpp4ivjh38.lp\n",
      "Reading time = 0.00 seconds\n",
      ": 775 rows, 1602 columns, 6696 nonzeros\n",
      "Read LP format model from file /var/folders/dn/p3xbs4r94jqf_5q7_q53zj_c0000gn/T/tmpbg9sm6bo.lp\n",
      "Reading time = 0.00 seconds\n",
      ": 775 rows, 1602 columns, 6696 nonzeros\n",
      "Read LP format model from file /var/folders/dn/p3xbs4r94jqf_5q7_q53zj_c0000gn/T/tmp65wj9r14.lp\n",
      "Reading time = 0.00 seconds\n",
      ": 775 rows, 1602 columns, 6696 nonzeros\n",
      "Read LP format model from file /var/folders/dn/p3xbs4r94jqf_5q7_q53zj_c0000gn/T/tmp3fm0fe8n.lp\n",
      "Reading time = 0.00 seconds\n",
      ": 775 rows, 1602 columns, 6696 nonzeros\n",
      "Read LP format model from file /var/folders/dn/p3xbs4r94jqf_5q7_q53zj_c0000gn/T/tmpurtj3y7g.lp\n",
      "Reading time = 0.00 seconds\n",
      ": 775 rows, 1602 columns, 6696 nonzeros\n",
      "Read LP format model from file /var/folders/dn/p3xbs4r94jqf_5q7_q53zj_c0000gn/T/tmp0l0ed6sp.lp\n",
      "Reading time = 0.00 seconds\n",
      ": 775 rows, 1602 columns, 6696 nonzeros\n",
      "Read LP format model from file /var/folders/dn/p3xbs4r94jqf_5q7_q53zj_c0000gn/T/tmpbabdurr6.lp\n",
      "Reading time = 0.01 seconds\n",
      ": 775 rows, 1602 columns, 6696 nonzeros\n",
      "211\n"
     ]
    },
    {
     "name": "stderr",
     "output_type": "stream",
     "text": [
      "/Users/ashnanarain/anaconda3/envs/cobraenv/lib/python3.11/site-packages/cobra/medium/minimal_medium.py:112: FutureWarning: The default dtype for empty Series will be 'object' instead of 'float64' in a future version. Specify a dtype explicitly to silence this warning.\n",
      "  medium = pd.Series()\n"
     ]
    },
    {
     "name": "stdout",
     "output_type": "stream",
     "text": [
      "Read LP format model from file /var/folders/dn/p3xbs4r94jqf_5q7_q53zj_c0000gn/T/tmpsjvjmw8y.lp\n",
      "Reading time = 0.00 seconds\n",
      ": 994 rows, 2062 columns, 9034 nonzeros\n",
      "Read LP format model from file /var/folders/dn/p3xbs4r94jqf_5q7_q53zj_c0000gn/T/tmptffzdi7p.lp\n",
      "Reading time = 0.00 seconds\n",
      ": 994 rows, 2062 columns, 9034 nonzeros\n",
      "Read LP format model from file /var/folders/dn/p3xbs4r94jqf_5q7_q53zj_c0000gn/T/tmpfjjjbaly.lp\n",
      "Reading time = 0.00 seconds\n",
      ": 994 rows, 2062 columns, 9034 nonzeros\n",
      "Read LP format model from file /var/folders/dn/p3xbs4r94jqf_5q7_q53zj_c0000gn/T/tmpwm31m1o_.lp\n",
      "Reading time = 0.00 seconds\n",
      ": 994 rows, 2062 columns, 9034 nonzeros\n",
      "Read LP format model from file /var/folders/dn/p3xbs4r94jqf_5q7_q53zj_c0000gn/T/tmpp7fqsgvp.lp\n",
      "Reading time = 0.00 seconds\n",
      ": 994 rows, 2062 columns, 9034 nonzeros\n",
      "Read LP format model from file /var/folders/dn/p3xbs4r94jqf_5q7_q53zj_c0000gn/T/tmpdrkpsh9y.lp\n",
      "Reading time = 0.01 seconds\n",
      ": 994 rows, 2062 columns, 9034 nonzeros\n",
      "Read LP format model from file /var/folders/dn/p3xbs4r94jqf_5q7_q53zj_c0000gn/T/tmpzanu9e8g.lp\n",
      "Reading time = 0.01 seconds\n",
      ": 994 rows, 2062 columns, 9034 nonzeros\n",
      "317\n"
     ]
    },
    {
     "name": "stderr",
     "output_type": "stream",
     "text": [
      "/Users/ashnanarain/anaconda3/envs/cobraenv/lib/python3.11/site-packages/cobra/medium/minimal_medium.py:112: FutureWarning: The default dtype for empty Series will be 'object' instead of 'float64' in a future version. Specify a dtype explicitly to silence this warning.\n",
      "  medium = pd.Series()\n"
     ]
    },
    {
     "name": "stdout",
     "output_type": "stream",
     "text": [
      "Read LP format model from file /var/folders/dn/p3xbs4r94jqf_5q7_q53zj_c0000gn/T/tmp6diiahbg.lp\n",
      "Reading time = 0.00 seconds\n",
      ": 907 rows, 1996 columns, 8564 nonzeros\n",
      "Read LP format model from file /var/folders/dn/p3xbs4r94jqf_5q7_q53zj_c0000gn/T/tmpt5nrimoz.lp\n",
      "Reading time = 0.00 seconds\n",
      ": 907 rows, 1996 columns, 8564 nonzeros\n",
      "Read LP format model from file /var/folders/dn/p3xbs4r94jqf_5q7_q53zj_c0000gn/T/tmp74lkna8e.lp\n",
      "Reading time = 0.00 seconds\n",
      ": 907 rows, 1996 columns, 8564 nonzeros\n",
      "Read LP format model from file /var/folders/dn/p3xbs4r94jqf_5q7_q53zj_c0000gn/T/tmp0typ5til.lp\n",
      "Reading time = 0.00 seconds\n",
      ": 907 rows, 1996 columns, 8564 nonzeros\n",
      "Read LP format model from file /var/folders/dn/p3xbs4r94jqf_5q7_q53zj_c0000gn/T/tmpsp30kfaz.lp\n",
      "Reading time = 0.00 seconds\n",
      ": 907 rows, 1996 columns, 8564 nonzeros\n",
      "Read LP format model from file /var/folders/dn/p3xbs4r94jqf_5q7_q53zj_c0000gn/T/tmp41x3ogz0.lp\n",
      "Reading time = 0.00 seconds\n",
      ": 907 rows, 1996 columns, 8564 nonzeros\n",
      "Read LP format model from file /var/folders/dn/p3xbs4r94jqf_5q7_q53zj_c0000gn/T/tmpn6wjvu3r.lp\n",
      "Reading time = 0.01 seconds\n",
      ": 907 rows, 1996 columns, 8564 nonzeros\n",
      "186\n"
     ]
    },
    {
     "name": "stderr",
     "output_type": "stream",
     "text": [
      "/Users/ashnanarain/anaconda3/envs/cobraenv/lib/python3.11/site-packages/cobra/medium/minimal_medium.py:112: FutureWarning: The default dtype for empty Series will be 'object' instead of 'float64' in a future version. Specify a dtype explicitly to silence this warning.\n",
      "  medium = pd.Series()\n"
     ]
    },
    {
     "name": "stdout",
     "output_type": "stream",
     "text": [
      "Read LP format model from file /var/folders/dn/p3xbs4r94jqf_5q7_q53zj_c0000gn/T/tmpu0p8cx4x.lp\n",
      "Reading time = 0.01 seconds\n",
      ": 2591 rows, 6284 columns, 21432 nonzeros\n",
      "Read LP format model from file /var/folders/dn/p3xbs4r94jqf_5q7_q53zj_c0000gn/T/tmp83lauash.lp\n",
      "Reading time = 0.01 seconds\n",
      ": 2591 rows, 6284 columns, 21432 nonzeros\n",
      "Read LP format model from file /var/folders/dn/p3xbs4r94jqf_5q7_q53zj_c0000gn/T/tmpuoshfozq.lp\n",
      "Reading time = 0.01 seconds\n",
      ": 2591 rows, 6284 columns, 21432 nonzeros\n",
      "Read LP format model from file /var/folders/dn/p3xbs4r94jqf_5q7_q53zj_c0000gn/T/tmpydel831o.lp\n",
      "Reading time = 0.01 seconds\n",
      ": 2591 rows, 6284 columns, 21432 nonzeros\n",
      "Read LP format model from file /var/folders/dn/p3xbs4r94jqf_5q7_q53zj_c0000gn/T/tmpvz1a98ph.lp\n",
      "Reading time = 0.01 seconds\n",
      ": 2591 rows, 6284 columns, 21432 nonzeros\n",
      "Read LP format model from file /var/folders/dn/p3xbs4r94jqf_5q7_q53zj_c0000gn/T/tmp14xfzf0r.lp\n",
      "Reading time = 0.02 seconds\n",
      ": 2591 rows, 6284 columns, 21432 nonzeros\n",
      "Read LP format model from file /var/folders/dn/p3xbs4r94jqf_5q7_q53zj_c0000gn/T/tmpm9030thu.lp\n",
      "Reading time = 0.02 seconds\n",
      ": 2591 rows, 6284 columns, 21432 nonzeros\n",
      "306\n"
     ]
    },
    {
     "name": "stderr",
     "output_type": "stream",
     "text": [
      "/Users/ashnanarain/anaconda3/envs/cobraenv/lib/python3.11/site-packages/cobra/medium/minimal_medium.py:112: FutureWarning: The default dtype for empty Series will be 'object' instead of 'float64' in a future version. Specify a dtype explicitly to silence this warning.\n",
      "  medium = pd.Series()\n"
     ]
    },
    {
     "name": "stdout",
     "output_type": "stream",
     "text": [
      "Read LP format model from file /var/folders/dn/p3xbs4r94jqf_5q7_q53zj_c0000gn/T/tmp0_tahhue.lp\n",
      "Reading time = 0.00 seconds\n",
      ": 1006 rows, 2322 columns, 9908 nonzeros\n",
      "Read LP format model from file /var/folders/dn/p3xbs4r94jqf_5q7_q53zj_c0000gn/T/tmpkezmtbsu.lp\n",
      "Reading time = 0.00 seconds\n",
      ": 1006 rows, 2322 columns, 9908 nonzeros\n",
      "Read LP format model from file /var/folders/dn/p3xbs4r94jqf_5q7_q53zj_c0000gn/T/tmpqqj18rgf.lp\n",
      "Reading time = 0.01 seconds\n",
      ": 1006 rows, 2322 columns, 9908 nonzeros\n",
      "Read LP format model from file /var/folders/dn/p3xbs4r94jqf_5q7_q53zj_c0000gn/T/tmpa6qwafoj.lp\n",
      "Reading time = 0.00 seconds\n",
      ": 1006 rows, 2322 columns, 9908 nonzeros\n",
      "Read LP format model from file /var/folders/dn/p3xbs4r94jqf_5q7_q53zj_c0000gn/T/tmpe33lpse0.lp\n",
      "Reading time = 0.00 seconds\n",
      ": 1006 rows, 2322 columns, 9908 nonzeros\n",
      "Read LP format model from file /var/folders/dn/p3xbs4r94jqf_5q7_q53zj_c0000gn/T/tmpt8xs6v6s.lp\n",
      "Reading time = 0.01 seconds\n",
      ": 1006 rows, 2322 columns, 9908 nonzeros\n",
      "Read LP format model from file /var/folders/dn/p3xbs4r94jqf_5q7_q53zj_c0000gn/T/tmpfo7j37uq.lp\n",
      "Reading time = 0.01 seconds\n",
      ": 1006 rows, 2322 columns, 9908 nonzeros\n",
      "300\n"
     ]
    },
    {
     "name": "stderr",
     "output_type": "stream",
     "text": [
      "/Users/ashnanarain/anaconda3/envs/cobraenv/lib/python3.11/site-packages/cobra/medium/minimal_medium.py:112: FutureWarning: The default dtype for empty Series will be 'object' instead of 'float64' in a future version. Specify a dtype explicitly to silence this warning.\n",
      "  medium = pd.Series()\n"
     ]
    },
    {
     "name": "stdout",
     "output_type": "stream",
     "text": [
      "Read LP format model from file /var/folders/dn/p3xbs4r94jqf_5q7_q53zj_c0000gn/T/tmp12_3a8qr.lp\n",
      "Reading time = 0.00 seconds\n",
      ": 957 rows, 2076 columns, 8892 nonzeros\n",
      "Read LP format model from file /var/folders/dn/p3xbs4r94jqf_5q7_q53zj_c0000gn/T/tmp8yd1olob.lp\n",
      "Reading time = 0.00 seconds\n",
      ": 957 rows, 2076 columns, 8892 nonzeros\n",
      "Read LP format model from file /var/folders/dn/p3xbs4r94jqf_5q7_q53zj_c0000gn/T/tmpuvvyvetr.lp\n",
      "Reading time = 0.00 seconds\n",
      ": 957 rows, 2076 columns, 8892 nonzeros\n",
      "Read LP format model from file /var/folders/dn/p3xbs4r94jqf_5q7_q53zj_c0000gn/T/tmp92_uxvn_.lp\n",
      "Reading time = 0.00 seconds\n",
      ": 957 rows, 2076 columns, 8892 nonzeros\n",
      "Read LP format model from file /var/folders/dn/p3xbs4r94jqf_5q7_q53zj_c0000gn/T/tmp0x0pphet.lp\n",
      "Reading time = 0.00 seconds\n",
      ": 957 rows, 2076 columns, 8892 nonzeros\n",
      "Read LP format model from file /var/folders/dn/p3xbs4r94jqf_5q7_q53zj_c0000gn/T/tmpewqeghmm.lp\n",
      "Reading time = 0.00 seconds\n",
      ": 957 rows, 2076 columns, 8892 nonzeros\n",
      "Read LP format model from file /var/folders/dn/p3xbs4r94jqf_5q7_q53zj_c0000gn/T/tmporbnfwcd.lp\n",
      "Reading time = 0.00 seconds\n",
      ": 957 rows, 2076 columns, 8892 nonzeros\n",
      "179\n"
     ]
    },
    {
     "name": "stderr",
     "output_type": "stream",
     "text": [
      "/Users/ashnanarain/anaconda3/envs/cobraenv/lib/python3.11/site-packages/cobra/medium/minimal_medium.py:112: FutureWarning: The default dtype for empty Series will be 'object' instead of 'float64' in a future version. Specify a dtype explicitly to silence this warning.\n",
      "  medium = pd.Series()\n"
     ]
    },
    {
     "name": "stdout",
     "output_type": "stream",
     "text": [
      "Read LP format model from file /var/folders/dn/p3xbs4r94jqf_5q7_q53zj_c0000gn/T/tmpzrdstq3f.lp\n",
      "Reading time = 0.00 seconds\n",
      ": 1169 rows, 2520 columns, 10118 nonzeros\n",
      "Read LP format model from file /var/folders/dn/p3xbs4r94jqf_5q7_q53zj_c0000gn/T/tmp27h3axm6.lp\n",
      "Reading time = 0.00 seconds\n",
      ": 1169 rows, 2520 columns, 10118 nonzeros\n",
      "Read LP format model from file /var/folders/dn/p3xbs4r94jqf_5q7_q53zj_c0000gn/T/tmpdx1wq8gx.lp\n",
      "Reading time = 0.01 seconds\n",
      ": 1169 rows, 2520 columns, 10118 nonzeros\n",
      "Read LP format model from file /var/folders/dn/p3xbs4r94jqf_5q7_q53zj_c0000gn/T/tmpaxyz5qn5.lp\n",
      "Reading time = 0.01 seconds\n",
      ": 1169 rows, 2520 columns, 10118 nonzeros\n",
      "Read LP format model from file /var/folders/dn/p3xbs4r94jqf_5q7_q53zj_c0000gn/T/tmp04w42f0o.lp\n",
      "Reading time = 0.01 seconds\n",
      ": 1169 rows, 2520 columns, 10118 nonzeros\n",
      "Read LP format model from file /var/folders/dn/p3xbs4r94jqf_5q7_q53zj_c0000gn/T/tmpya2xmy8g.lp\n",
      "Reading time = 0.01 seconds\n",
      ": 1169 rows, 2520 columns, 10118 nonzeros\n",
      "Read LP format model from file /var/folders/dn/p3xbs4r94jqf_5q7_q53zj_c0000gn/T/tmpkemxqe1_.lp\n",
      "Reading time = 0.01 seconds\n",
      ": 1169 rows, 2520 columns, 10118 nonzeros\n",
      "359\n"
     ]
    }
   ],
   "source": [
    "growths = []\n",
    "for org in org_names:\n",
    "    \n",
    "    file = '/Users/ashnanarain/Computational_Biology/Gut_Microbiome/Models/' + org + '.xml'\n",
    "  \n",
    "    model = read_sbml_model(file)\n",
    "    \n",
    "    '''\n",
    "    medium_western_matched = {}\n",
    "    for i in medium_western.keys():\n",
    "        if i not in dir(model.exchanges):\n",
    "            pass\n",
    "        else:\n",
    "            medium_western_matched[i] = medium_western[i]\n",
    "            \n",
    "    model.medium = medium_western_matched\n",
    "    \n",
    "    medium_DMEM_matched = {}\n",
    "    for i in medium_DMEM.keys():\n",
    "        if i not in dir(model.exchanges):\n",
    "            pass\n",
    "        else:\n",
    "            medium_DMEM_matched[i] = medium_DMEM[i]\n",
    "            \n",
    "    model.medium = medium_western_matched\n",
    "    max_growth = model.slim_optimize()\n",
    "    print(org, max_growth)\n",
    "    growths.append([org, max_growth])\n",
    "    '''\n",
    "    '''\n",
    "    non_exc_rxns = []\n",
    "    for i in model.reactions:\n",
    "        if i not in model.exchanges:\n",
    "            non_exc_rxns.append(i)\n",
    "    '''\n",
    "    \n",
    "    model.medium = minimal_medium(model, 1)\n",
    "    sol = model.optimize()\n",
    "    max_growth = sol.objective_value\n",
    "\n",
    "    single_reaction_deletion_results = single_reaction_deletion(model)\n",
    "    single_reaction_deletion_results\n",
    "    single_lethal_reactions = []\n",
    "\n",
    "    for i in range(len(single_reaction_deletion_results)):\n",
    "        if single_reaction_deletion_results.loc[i]['growth'] < (0.1 * max_growth):\n",
    "            single_lethal_reactions.append(single_reaction_deletion_results.loc[i]['ids'])\n",
    "\n",
    "    lethals_pd[org] = pd.Series(single_lethal_reactions)\n",
    "    print(len(single_lethal_reactions))\n"
   ]
  },
  {
   "cell_type": "code",
   "execution_count": 12,
   "id": "218dc5dd",
   "metadata": {},
   "outputs": [
    {
     "data": {
      "text/plain": [
       "1.0"
      ]
     },
     "execution_count": 12,
     "metadata": {},
     "output_type": "execute_result"
    }
   ],
   "source": [
    "sol.objective_value"
   ]
  },
  {
   "cell_type": "code",
   "execution_count": 14,
   "id": "f3714d5a",
   "metadata": {},
   "outputs": [],
   "source": [
    "file = open('FINAL_ALL_Single_Species_Lethals.csv', 'w')\n",
    "lethals_pd.to_csv(file, index=False)"
   ]
  },
  {
   "cell_type": "code",
   "execution_count": 64,
   "id": "9c476510",
   "metadata": {},
   "outputs": [
    {
     "name": "stdout",
     "output_type": "stream",
     "text": [
      "                                          0         1\n",
      "0                 Alistipes_shahii_WAL_8301  0.001178\n",
      "1             Bacteroides_caccae_ATCC_43185  0.044971\n",
      "2       Bacteroides_coprocola_M16_DSM_17136  0.014406\n",
      "3            Bacteroides_fragilis_NCTC_9343  0.048726\n",
      "4    Bacteroides_intestinalis_341_DSM_17393  0.022847\n",
      "5     Bacteroides_thetaiotaomicron_VPI_5482  0.052550\n",
      "6           Bacteroides_uniformis_ATCC_8492  0.037316\n",
      "7   Bifidobacterium_adolescentis_ATCC_15703  0.032361\n",
      "8            Bifidobacterium_longum_NCC2705  0.010528\n",
      "9         Clostridium_clostridioforme_CM201  0.031560\n",
      "10           Collinsella_tanakaei_YIT_12063  0.024553\n",
      "11  Escherichia_coli_str_K_12_substr_MG1655  0.071480\n",
      "12        Faecalibacterium_prausnitzii_L2_6  0.044971\n",
      "13          Haemophilus_parainfluenzae_T3T1  0.025930\n",
      "14           Megasphaera_elsdenii_DSM_20460  0.085024\n",
      "15     Parabacteroides_distasonis_ATCC_8503  0.052550\n",
      "16      Parabacteroides_johnsonii_DSM_18315  0.010944\n",
      "17                 Prevotella_ruminicola_23  0.026688\n",
      "18             Roseburia_intestinalis_L1_82  0.020162\n",
      "19                Shigella_flexneri_2002017  0.060351\n"
     ]
    }
   ],
   "source": [
    "file = open('FINAL_Single_Species_Growths_DMEM.csv', 'w')\n",
    "growths_df = pd.DataFrame(growths)\n",
    "print(growths_df)\n",
    "growths_df.to_csv(file, index=False)"
   ]
  }
 ],
 "metadata": {
  "kernelspec": {
   "display_name": "Python 3 (ipykernel)",
   "language": "python",
   "name": "python3"
  },
  "language_info": {
   "codemirror_mode": {
    "name": "ipython",
    "version": 3
   },
   "file_extension": ".py",
   "mimetype": "text/x-python",
   "name": "python",
   "nbconvert_exporter": "python",
   "pygments_lexer": "ipython3",
   "version": "3.11.4"
  }
 },
 "nbformat": 4,
 "nbformat_minor": 5
}
