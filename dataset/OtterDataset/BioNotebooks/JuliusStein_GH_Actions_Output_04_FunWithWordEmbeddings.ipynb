{
 "cells": [
  {
   "cell_type": "markdown",
   "id": "a513109a",
   "metadata": {},
   "source": [
    "# Fun With Word Embeddings --\n",
    "\n",
    "Word embeddings (or \"word vectors\") are mappings from discrete word tokens (e.g., the word \"kitten\") to numerical vectors, e.g., a 50-dimensional vector of real numbers. The goal is for words that are related (such as \"scared\" and \"afraid\") to map to points that are close together in the 50-dimensional space.\n",
    "\n",
    "These continous representations for words have proven very helpful in many NLP tasks. For example, they can help deal with synonyms that would otherwise have been considered totally unrelated in the bag of words approach to representing documents.\n",
    "\n",
    "There are several approaches for finding such an embedding. One approach is to analyze the contexts that words appear in over a large corpus and then find embeddings that map words with similar contexts to similar points in the space. For example,\n",
    "\n",
    "    I am scared of dogs.\n",
    "    I am scared of bees.\n",
    "    I am afraid of dogs.\n",
    "    I am afraid of bees.\n",
    "    ...\n",
    "\n",
    "The words \"scared\" and \"afraid\" both appear in the contexts\n",
    "\n",
    "    \"I am ... of dogs\"\n",
    "\n",
    "and\n",
    "\n",
    "    \"I am ... of bees\"\n",
    "\n",
    "so it's likely that the words are related in some way. The relationship can be semantic (related to meaning) or syntactic (e.g., often occur between a determiner and a noun) In this case, \"scared\" and \"afraid\" are related semantically (similar meaning) and also syntactically (both adjectives).\n",
    "\n",
    "One really neat thing that researchers discovered is that word embeddings can be used to solve analogies, e.g.,\n",
    "\n",
    "    \"puppy\" is to \"dog\" as \"kitten\" is to ?\n",
    "\n",
    "Amazingly, this kind of puzzle can be solved by doing computations on word vectors:\n",
    "````python\n",
    "wv[\"kitten\"] - wv[\"puppy\"] + wv[\"dog\"]\n",
    "````    \n",
    "and finding the most similar word to the result, `wv[\"cat\"]` in this case.\n",
    "\n",
    "The reason is that the vector `(wv[\"dog\"] - wv[\"puppy\"])` represents a direction in the space the often takes the youth version of a concept to the adult version. So starting with \"kitten\" and moving in that direction winds up in an area of the space similar to \"cat\"."
   ]
  },
  {
   "cell_type": "markdown",
   "id": "c33e1044",
   "metadata": {},
   "source": [
    "## 0 Imports"
   ]
  },
  {
   "cell_type": "code",
   "execution_count": null,
   "id": "e7d157bd",
   "metadata": {},
   "outputs": [],
   "source": [
    "from collections import defaultdict\n",
    "import numpy as np\n",
    "import time\n",
    "import gensim\n",
    "from gensim.models.keyedvectors import KeyedVectors\n",
    "from sklearn.decomposition import TruncatedSVD\n",
    "import matplotlib.pyplot as plt\n",
    "%matplotlib inline"
   ]
  },
  {
   "cell_type": "markdown",
   "id": "a2c6ac7e",
   "metadata": {},
   "source": [
    "## 1 Load pre-trained GloVe embeddings using gensim library\n",
    "\n",
    "The [gensim](https://radimrehurek.com/gensim/) library is a great tool for working with word embeddings and doing other things with text (like analyzing latent topics). If you need to install gensim, try:\n",
    "\n",
    "    pip install gensim\n",
    "\n",
    "We're going to use gensim to explore some pre-trained word embeddings trained with an algorithm called [GloVe](https://nlp.stanford.edu/projects/glove/). First, download the some 50-dimensional embeddings from the first link in this list:\n",
    "\n",
    "- [glove.6B.50d.txt.w2v.zip](https://www.dropbox.com/s/c6m006wzrzb2p6t/glove.6B.50d.txt.w2v.zip?dl=0) (67 MB)\n",
    "- [glove.6B.100d.txt.w2v.zip](https://www.dropbox.com/s/2g4895t426z28qa/glove.6B.100d.txt.w2v.zip?dl=0) (131 MB)\n",
    "- [glove.6B.200d.txt.w2v.zip](https://www.dropbox.com/s/3clt5qi13fxkg3g/glove.6B.200d.txt.w2v.zip?dl=0) (258 MB)\n",
    "- [glove.6B.300d.txt.w2v.zip](https://www.dropbox.com/s/u0ij0eogko4zdp1/glove.6B.300d.txt.w2v.zip?dl=0) (385 MB)\n",
    "\n",
    "Once you've downloaded the file, unzip it and update `path` to point to where you saved the unzipped version (glove.6B.50d.txt.w2v).\n",
    "\n",
    "The following code will now use gensim to load the word vectors into a variable called `glove`."
   ]
  },
  {
   "cell_type": "code",
   "execution_count": null,
   "id": "4b6b48e6",
   "metadata": {},
   "outputs": [],
   "source": [
    "path = r\"./dat/glove.6B.50d.txt.w2v\"\n",
    "t0 = time.time()\n",
    "glove = KeyedVectors.load_word2vec_format(path, binary=False)\n",
    "t1 = time.time()\n",
    "print(\"elapsed %ss\" % (t1 - t0))\n",
    "# 50d: elapsed 17.67420792579651s\n",
    "# 100d:"
   ]
  },
  {
   "cell_type": "markdown",
   "id": "b7fb4620",
   "metadata": {},
   "source": [
    "You can get the word vector for a word (string) with the following:\n",
    "````python\n",
    "glove[\"word\"]\n",
    "````\n",
    "Print out the word vector for your favorite word. Note: you can check that the word is in the 400K lowercased vocabulary with:\n",
    "````python\n",
    "\"word\" in glove\n",
    "````\n",
    "What's the type of the word vector (e.g. a numpy array, a tuple)? What's its shape?"
   ]
  },
  {
   "cell_type": "code",
   "execution_count": null,
   "id": "0bde7f40",
   "metadata": {},
   "outputs": [],
   "source": [
    "# STUDENT CODE HERE"
   ]
  },
  {
   "cell_type": "markdown",
   "id": "5fa68eff",
   "metadata": {},
   "source": [
    "It's not clear how to (or even if we can) interpret what the individual dimensions mean. But we can gain some intuition by looking at the relationships between whole word vectors."
   ]
  },
  {
   "cell_type": "markdown",
   "id": "74f955e5",
   "metadata": {},
   "source": [
    "## 2 Finding most similar words\n",
    "\n",
    "You can use\n",
    "````python\n",
    "glove.most_similar(\"word\")\n",
    "````\n",
    "to find the words that the model considers most similar to a specified word (according to cosine similarity). Try it out on \"funny\" and \"pencil\" and some other words."
   ]
  },
  {
   "cell_type": "code",
   "execution_count": null,
   "id": "9a361a58",
   "metadata": {},
   "outputs": [],
   "source": [
    "# STUDENT CODE HERE"
   ]
  },
  {
   "cell_type": "markdown",
   "id": "ae7b29f1",
   "metadata": {},
   "source": [
    "What do you notice about the relationships of the similars words to the query word? Are they all the same part of speech (e.g., all adjectives or all verbs)? Are they synonyms or near synonyms? Are they all objects of the same type (e.g., all tools)?"
   ]
  },
  {
   "cell_type": "markdown",
   "id": "1a25886a",
   "metadata": {},
   "source": [
    "## 3 Visualization through dimensionality reduction\n",
    "\n",
    "It's difficult to visualize high-dimensional data like the 50-dimensional GloVe embeddings. So we're going to use (truncated) Singular Value Decomposition (SVD) to reduce the dimensions down to 2, which we can then easily plot.\n",
    "\n",
    "We'll be using scikit-learn's `TruncatedSVD` implementation. When creating the object, you provide the number of desired dimensions, e.g.,\n",
    "````python\n",
    "svd = TruncatedSVD(n_components=2)\n",
    "````\n",
    "Then you fit the dimensionality reduction model to data with:\n",
    "````python\n",
    "svd.fit(X_train)\n",
    "````\n",
    "Finally, to transform a 50-dimensional matrix (or single vector) down to 2-dimensions according to the model, you call:\n",
    "````python\n",
    "X_reduced = svd.transform(X)\n",
    "````"
   ]
  },
  {
   "cell_type": "markdown",
   "id": "376195db",
   "metadata": {},
   "source": [
    "### Get all embeddings into a matrix\n",
    "\n",
    "First, we'll copy all of the word embeddings into a single matrix. Note: It's a little wasteful to have loaded the embeddings using gensim (which is storing them internally already) and then copying them into a numpy array in order to apply dimensionality reduction. But it was handy to use gensim for loading and for some of it's convenient lookup methods..."
   ]
  },
  {
   "cell_type": "code",
   "execution_count": null,
   "id": "2bbf6c01",
   "metadata": {},
   "outputs": [],
   "source": [
    "n = len(glove.key_to_index)\n",
    "d = glove.vector_size\n",
    "X_glove = np.zeros((n, d))\n",
    "for i, word in enumerate(glove.key_to_index.keys()):\n",
    "    X_glove[i,:] = glove[word]\n",
    "print(X_glove.nbytes)"
   ]
  },
  {
   "cell_type": "markdown",
   "id": "5125211b",
   "metadata": {},
   "source": [
    "### Fit `TruncatedSVD` on the `X_glove` matrix."
   ]
  },
  {
   "cell_type": "code",
   "execution_count": null,
   "id": "c6202894",
   "metadata": {},
   "outputs": [],
   "source": [
    "# STUDENT CODE HERE"
   ]
  },
  {
   "cell_type": "markdown",
   "id": "7abaad1d",
   "metadata": {},
   "source": [
    "The following helper function will help us visualize word pairs in the reduced 2-dimensional version of the word embedding space:"
   ]
  },
  {
   "cell_type": "code",
   "execution_count": null,
   "id": "f3e34c59",
   "metadata": {},
   "outputs": [],
   "source": [
    "def plot_pairs(words, word_vectors, svd):\n",
    "    \"\"\" Plots pairs of words in 2D.\n",
    "\n",
    "    Parameters\n",
    "    ----------\n",
    "    words: list[str]\n",
    "        A list with an even number of words, where pairs of words have some common relationship\n",
    "        (like profession and tool), e.g., [\"carpenter\", \"hammer\", \"plumber\", \"wrench\"].\n",
    "\n",
    "    word_vectors: KeyedVectors instance\n",
    "        A word embedding model in gensim's KeyedVectors wrapper.\n",
    "\n",
    "    svd: TruncatedSVD instance\n",
    "        A truncated SVD instance that's already been fit (with n_components=2).\n",
    "    \"\"\"\n",
    "\n",
    "    # map specified words to 2D space\n",
    "    d = word_vectors.vector_size\n",
    "    words_temp = np.zeros((len(words), d))\n",
    "    for i, word in enumerate(words):\n",
    "        words_temp[i,:] = word_vectors[word]\n",
    "    words_2D = svd.transform(words_temp)\n",
    "\n",
    "    # plot points\n",
    "    plt.scatter(words_2D[:,0], words_2D[:,1])\n",
    "\n",
    "    # plot labels\n",
    "    for i, txt in enumerate(words):\n",
    "        plt.annotate(txt, (words_2D[i, 0], words_2D[i, 1]))\n",
    "\n",
    "    # plot lines\n",
    "    for i in range(int(len(words)/2)):\n",
    "        plt.plot(words_2D[i*2:i*2+2,0], words_2D[i*2:i*2+2,1], linestyle='dashed', color='k')"
   ]
  },
  {
   "cell_type": "markdown",
   "id": "6a4b0684",
   "metadata": {},
   "source": [
    "### Visualize: Male vs Female\n",
    "\n",
    "Try plotting these pairs and then adding some more to see how consistent the relationship is."
   ]
  },
  {
   "cell_type": "code",
   "execution_count": null,
   "id": "8f01b468",
   "metadata": {},
   "outputs": [],
   "source": [
    "words = [\"man\", \"woman\", \"king\", \"queen\", \"uncle\", \"aunt\", \"nephew\", \"niece\", \"brother\", \"sister\", \"sir\", \"madam\"]\n",
    "plot_pairs(words, glove, svd)"
   ]
  },
  {
   "cell_type": "markdown",
   "id": "d4e9e341",
   "metadata": {},
   "source": [
    "### Visualize: Adjective vs Comparative\n",
    "\n",
    "Try plotting these pairs and then adding some more to see how consistent the relationship is."
   ]
  },
  {
   "cell_type": "code",
   "execution_count": null,
   "id": "99ba3f3a",
   "metadata": {},
   "outputs": [],
   "source": [
    "words = [\"short\", \"shorter\", \"strong\", \"stronger\", \"good\", \"better\"]\n",
    "plot_pairs(words, glove, svd)"
   ]
  },
  {
   "cell_type": "markdown",
   "id": "c1895772",
   "metadata": {},
   "source": [
    "### Visualize: Cellular Biology Metaphors\n",
    "\n",
    "Try plotting these pairs and then adding some more to see how consistent the relationship is."
   ]
  },
  {
   "cell_type": "code",
   "execution_count": null,
   "id": "3e3dc81d",
   "metadata": {},
   "outputs": [],
   "source": [
    "words = [\"mitochondria\", \"cell\", \"powerhouse\", \"town\"]\n",
    "plot_pairs(words, glove, svd)"
   ]
  },
  {
   "cell_type": "markdown",
   "id": "e44a1e8b",
   "metadata": {},
   "source": [
    "## 4 Introduction to Analogies\n",
    "\n",
    "Let's try applying word embeddings to solve analogies of the form: $a$ is to $b$ as $c$ is to ?\n",
    "\n",
    "We'll exploit the directions in the embedding space by finding the closest vector to $c + (b - a)$, or equivalently $c - a + b$.\n",
    "\n",
    "A common example is: \"puppy\" is to \"dog\" as \"kitten\" is to ?\n",
    "\n",
    "This can be solved by finding the closest vector to: \"kitten\" - \"puppy\" + \"dog\"."
   ]
  },
  {
   "cell_type": "code",
   "execution_count": null,
   "id": "4e77798f",
   "metadata": {},
   "outputs": [],
   "source": [
    "query = glove[\"kitten\"] - glove[\"puppy\"] + glove[\"dog\"]\n",
    "glove.similar_by_vector(query)"
   ]
  },
  {
   "cell_type": "markdown",
   "id": "c8c1e395",
   "metadata": {},
   "source": [
    "Note that the most similar word (other than \"dog\" itself) is \"cat\"!\n",
    "\n",
    "Now try solving: \"france\" is to \"paris\" as \"germany\" is to ?"
   ]
  },
  {
   "cell_type": "code",
   "execution_count": null,
   "id": "044fa91b",
   "metadata": {},
   "outputs": [],
   "source": [
    "# STUDENT CODE HERE"
   ]
  },
  {
   "cell_type": "markdown",
   "id": "27d11c26",
   "metadata": {},
   "source": [
    "Note that the gensim library has convenience methods for doing analogies. For example,\n",
    "\n",
    "\"kitten\" - \"puppy\" + \"dog\"\n",
    "\n",
    "can be solved with:\n",
    "\n",
    "```python\n",
    "glove.most_similar_cosmul(positive=['kitten', 'dog'], negative=['puppy'])\n",
    "```\n",
    "\n",
    "This uses a slightly more advanced technique for solving analogies that has \"less susceptibility to one large distance dominating the calculation\". See most_similar_cosmul() documentation for more details."
   ]
  },
  {
   "cell_type": "code",
   "execution_count": null,
   "id": "c742318a",
   "metadata": {},
   "outputs": [],
   "source": [
    "glove.most_similar_cosmul(positive=['kitten', 'dog'], negative=['puppy'])"
   ]
  },
  {
   "cell_type": "markdown",
   "id": "38ed4472",
   "metadata": {},
   "source": [
    "Try experimenting with some other kinds of word relationships (e.g., plurals, ing forms, etc.)."
   ]
  }
 ],
 "metadata": {
  "jupytext": {
   "notebook_metadata_filter": "nbsphinx"
  },
  "kernelspec": {
   "display_name": "Python [conda env:week3]",
   "language": "python",
   "name": "conda-env-week3-py"
  },
  "nbsphinx": {
   "execute": "never"
  }
 },
 "nbformat": 4,
 "nbformat_minor": 5
}
