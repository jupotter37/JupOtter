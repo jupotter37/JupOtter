{
  "nbformat": 4,
  "nbformat_minor": 0,
  "metadata": {
    "colab": {
      "provenance": []
    },
    "kernelspec": {
      "name": "python3",
      "display_name": "Python 3"
    },
    "language_info": {
      "name": "python"
    }
  },
  "cells": [
    {
      "cell_type": "markdown",
      "source": [
        "1. Discuss string alicing and provide example.\n",
        "\n",
        "ans: In python slicing using the in-bulid slice() method and using the [:] array slice.\n",
        "\n",
        "**using slice() method:**\n",
        "the slice() creates a slice object represting the set of indices specified by range.\n",
        "\n",
        "example:"
      ],
      "metadata": {
        "id": "vB_6zg3gReEa"
      }
    },
    {
      "cell_type": "code",
      "source": [
        "Str = \"BIKRAM\"\n",
        "s1 = slice(4)\n",
        "print(Str[s1])"
      ],
      "metadata": {
        "colab": {
          "base_uri": "https://localhost:8080/"
        },
        "id": "OXqObxlQSh0_",
        "outputId": "36315a7b-87eb-4503-f22f-8967c6e02f30"
      },
      "execution_count": 4,
      "outputs": [
        {
          "output_type": "stream",
          "name": "stdout",
          "text": [
            "BIKR\n"
          ]
        }
      ]
    },
    {
      "cell_type": "markdown",
      "source": [
        "**Using array slicing[::]**  \n",
        " indexing syntax can be used as a substitude for the slice object.\n",
        "\n",
        " exapmle:"
      ],
      "metadata": {
        "id": "Q1c9vYzuS5cQ"
      }
    },
    {
      "cell_type": "code",
      "source": [
        "string = \" BIKRAM\"\n",
        "print(string[:3])"
      ],
      "metadata": {
        "colab": {
          "base_uri": "https://localhost:8080/"
        },
        "id": "IJbVtxuMTKm0",
        "outputId": "b876f312-dfec-4182-b098-922b26cdc3ff"
      },
      "execution_count": 5,
      "outputs": [
        {
          "output_type": "stream",
          "name": "stdout",
          "text": [
            " BI\n"
          ]
        }
      ]
    },
    {
      "cell_type": "markdown",
      "source": [
        "2. Explain the key features of list in python.\n",
        "\n",
        "Ans: List is a sequnce of data type which is used to stored the collection of data.  \n",
        "\n",
        "**characteristics**  \n",
        "* the list are in order\n",
        "* the list element can be accessed in the index\n",
        "* mutable type of list\n",
        "\n",
        "example:"
      ],
      "metadata": {
        "id": "8ZFk3zcsTdqg"
      }
    },
    {
      "cell_type": "code",
      "source": [
        "l1 = [0,3,\"bikram\", \"program\", 12.6]\n",
        "l2 = [ \"jhon\",\"roman\",\"rock\",\"brok\"]\n",
        "print(l1)\n",
        "print(l2)\n",
        "print(type(l1))"
      ],
      "metadata": {
        "colab": {
          "base_uri": "https://localhost:8080/"
        },
        "id": "2JaUx7_LUkHW",
        "outputId": "31ea40a8-90a4-45cf-9f77-554df6c5aaa6"
      },
      "execution_count": 6,
      "outputs": [
        {
          "output_type": "stream",
          "name": "stdout",
          "text": [
            "[0, 3, 'bikram', 'program', 12.6]\n",
            "['jhon', 'roman', 'rock', 'brok']\n",
            "<class 'list'>\n"
          ]
        }
      ]
    },
    {
      "cell_type": "code",
      "source": [
        "print(l1[4])"
      ],
      "metadata": {
        "colab": {
          "base_uri": "https://localhost:8080/"
        },
        "id": "7PIwtzK0U6tS",
        "outputId": "3f25a25c-d064-4864-b08f-0fa218def8af"
      },
      "execution_count": 7,
      "outputs": [
        {
          "output_type": "stream",
          "name": "stdout",
          "text": [
            "12.6\n"
          ]
        }
      ]
    },
    {
      "cell_type": "code",
      "source": [],
      "metadata": {
        "id": "AavxaAaqVGXh"
      },
      "execution_count": null,
      "outputs": []
    },
    {
      "cell_type": "markdown",
      "source": [
        "3. Describe how to acess , modify and delete element in a list with example.\n",
        "\n",
        "Ans: in python modify and delete to the list the best way use append(), insert(), extend(), remove(), pop(), del insertion and deletions in python."
      ],
      "metadata": {
        "id": "sCLM0q5BVIEF"
      }
    },
    {
      "cell_type": "code",
      "source": [
        "l1 = [12.0,34,45.6,37,28.98,]\n",
        "l1.remove(12.0)\n",
        "print(l1)"
      ],
      "metadata": {
        "colab": {
          "base_uri": "https://localhost:8080/"
        },
        "id": "3xdlmzsHV-UA",
        "outputId": "cc40ebcf-ad63-4b69-828b-2e94a58a33df"
      },
      "execution_count": 8,
      "outputs": [
        {
          "output_type": "stream",
          "name": "stdout",
          "text": [
            "[34, 45.6, 37, 28.98]\n"
          ]
        }
      ]
    },
    {
      "cell_type": "code",
      "source": [
        "l2 = [ 12,34,67,122,45,50]\n",
        "var = l2.pop(2)\n",
        "print(l2)\n",
        "print(\"remove:\",var)"
      ],
      "metadata": {
        "colab": {
          "base_uri": "https://localhost:8080/"
        },
        "id": "aSr2S-X2WLDI",
        "outputId": "7fd1e292-5cb6-4200-cd70-074d2e78a3a7"
      },
      "execution_count": 11,
      "outputs": [
        {
          "output_type": "stream",
          "name": "stdout",
          "text": [
            "[12, 34, 122, 45, 50]\n",
            "remove: 67\n"
          ]
        }
      ]
    },
    {
      "cell_type": "code",
      "source": [
        "l3 = [34,56,87,90,80]\n",
        "del l3[4]\n",
        "print(l3)"
      ],
      "metadata": {
        "colab": {
          "base_uri": "https://localhost:8080/"
        },
        "id": "uQ2MaoWhWxRb",
        "outputId": "1d0fd745-1538-4089-9a8f-acd42497d269"
      },
      "execution_count": 12,
      "outputs": [
        {
          "output_type": "stream",
          "name": "stdout",
          "text": [
            "[34, 56, 87, 90]\n"
          ]
        }
      ]
    },
    {
      "cell_type": "code",
      "source": [
        "a = [23,45,67,89]\n",
        "a.clear()\n",
        "print(a)"
      ],
      "metadata": {
        "colab": {
          "base_uri": "https://localhost:8080/"
        },
        "id": "XkWi_TyiWcLA",
        "outputId": "a53e60b2-1472-4c71-a656-006663dd8a28"
      },
      "execution_count": 13,
      "outputs": [
        {
          "output_type": "stream",
          "name": "stdout",
          "text": [
            "[]\n"
          ]
        }
      ]
    },
    {
      "cell_type": "code",
      "source": [
        "animal = ['dog','elephant','cow','hourse']\n",
        "animal.insert(1,'anaconda')\n",
        "print(animal)"
      ],
      "metadata": {
        "colab": {
          "base_uri": "https://localhost:8080/"
        },
        "id": "ykLiE9eVXF-U",
        "outputId": "43c94a8d-b0de-482b-eb64-f17bdf76e7e4"
      },
      "execution_count": 14,
      "outputs": [
        {
          "output_type": "stream",
          "name": "stdout",
          "text": [
            "['dog', 'anaconda', 'elephant', 'cow', 'hourse']\n"
          ]
        }
      ]
    },
    {
      "cell_type": "code",
      "source": [
        "book = [ 'math','english','physics','chemistry']\n",
        "book.append('biology')\n",
        "print(book)"
      ],
      "metadata": {
        "colab": {
          "base_uri": "https://localhost:8080/"
        },
        "id": "YlOo8hvGgHpn",
        "outputId": "e94ed658-a77b-4b65-9a7c-fe5765c1c3c5"
      },
      "execution_count": 15,
      "outputs": [
        {
          "output_type": "stream",
          "name": "stdout",
          "text": [
            "['math', 'english', 'physics', 'chemistry', 'biology']\n"
          ]
        }
      ]
    },
    {
      "cell_type": "code",
      "source": [],
      "metadata": {
        "id": "t-r9PbVtghHa"
      },
      "execution_count": null,
      "outputs": []
    },
    {
      "cell_type": "markdown",
      "source": [
        "4. Compare and constrast tuples and list with example.\n",
        "\n",
        "ans:\n",
        "**tuple:**\n",
        "\n",
        "1. tuple are immutable\n",
        "2. implication of iteration is faster as comaper list\n",
        "3. tuple does not have many built-in methods\n",
        "4. in dictionary we can create keys using tuples.\n",
        "\n",
        "**list:**\n",
        "\n",
        "1. list are mutable\n",
        "2. implication of iterations is time consuming\n",
        "3. the list is better for performing operation\n",
        "4. kist consume more memory\n",
        "5. in dictionary we can not use list as key.\n",
        "\n",
        "example:"
      ],
      "metadata": {
        "id": "WKOOHBDsgmtP"
      }
    },
    {
      "cell_type": "code",
      "source": [
        "list1 = [12,34,56,67,89,90,56]\n",
        "print(list1)\n",
        "list1[3] = 20\n",
        "print(list1)"
      ],
      "metadata": {
        "colab": {
          "base_uri": "https://localhost:8080/"
        },
        "id": "UddcAWvbiezX",
        "outputId": "2d34759e-bf23-4380-b840-17f76b329b7b"
      },
      "execution_count": 16,
      "outputs": [
        {
          "output_type": "stream",
          "name": "stdout",
          "text": [
            "[12, 34, 56, 67, 89, 90, 56]\n",
            "[12, 34, 56, 20, 89, 90, 56]\n"
          ]
        }
      ]
    },
    {
      "cell_type": "code",
      "source": [
        "tuple2 = (2,33,56,12,23,20)\n",
        "tuple2[0] = 45\n",
        "print(tuple2)"
      ],
      "metadata": {
        "colab": {
          "base_uri": "https://localhost:8080/",
          "height": 176
        },
        "id": "DUGtqnUzip0N",
        "outputId": "9c0cd5dc-f85a-497b-a62e-b96f85242028"
      },
      "execution_count": 18,
      "outputs": [
        {
          "output_type": "error",
          "ename": "TypeError",
          "evalue": "'tuple' object does not support item assignment",
          "traceback": [
            "\u001b[0;31m---------------------------------------------------------------------------\u001b[0m",
            "\u001b[0;31mTypeError\u001b[0m                                 Traceback (most recent call last)",
            "\u001b[0;32m<ipython-input-18-4e4e2be2cc28>\u001b[0m in \u001b[0;36m<cell line: 2>\u001b[0;34m()\u001b[0m\n\u001b[1;32m      1\u001b[0m \u001b[0mtuple2\u001b[0m \u001b[0;34m=\u001b[0m \u001b[0;34m(\u001b[0m\u001b[0;36m2\u001b[0m\u001b[0;34m,\u001b[0m\u001b[0;36m33\u001b[0m\u001b[0;34m,\u001b[0m\u001b[0;36m56\u001b[0m\u001b[0;34m,\u001b[0m\u001b[0;36m12\u001b[0m\u001b[0;34m,\u001b[0m\u001b[0;36m23\u001b[0m\u001b[0;34m,\u001b[0m\u001b[0;36m20\u001b[0m\u001b[0;34m)\u001b[0m\u001b[0;34m\u001b[0m\u001b[0;34m\u001b[0m\u001b[0m\n\u001b[0;32m----> 2\u001b[0;31m \u001b[0mtuple2\u001b[0m\u001b[0;34m[\u001b[0m\u001b[0;36m0\u001b[0m\u001b[0;34m]\u001b[0m \u001b[0;34m=\u001b[0m \u001b[0;36m45\u001b[0m\u001b[0;34m\u001b[0m\u001b[0;34m\u001b[0m\u001b[0m\n\u001b[0m\u001b[1;32m      3\u001b[0m \u001b[0mprint\u001b[0m\u001b[0;34m(\u001b[0m\u001b[0mtuple2\u001b[0m\u001b[0;34m)\u001b[0m\u001b[0;34m\u001b[0m\u001b[0;34m\u001b[0m\u001b[0m\n",
            "\u001b[0;31mTypeError\u001b[0m: 'tuple' object does not support item assignment"
          ]
        }
      ]
    },
    {
      "cell_type": "markdown",
      "source": [
        "type error: tuple object does not support item assignment."
      ],
      "metadata": {
        "id": "ZCQ_o0bjjH37"
      }
    },
    {
      "cell_type": "markdown",
      "source": [
        "5. describe the key features of sets and provied examples of their use.\n",
        "\n",
        "ans:\n",
        "\n",
        "in python set are used to store multiple items in a single variable.\n",
        "\n",
        "set is one 4 built in data types in python used to stored collections of data, the other list, tuple and dictionary .\n",
        "\n",
        "set items are unchangeable but you can remove items and add new items."
      ],
      "metadata": {
        "id": "uy2R_C8SjTFs"
      }
    },
    {
      "cell_type": "code",
      "source": [
        " set0 = { \"apple\",\"banana\",\"cherry\"}\n",
        " print(set0)"
      ],
      "metadata": {
        "colab": {
          "base_uri": "https://localhost:8080/"
        },
        "id": "5H1k4yQckfnD",
        "outputId": "75babd0d-73d9-4c6a-a147-11e00f1d0ef6"
      },
      "execution_count": 19,
      "outputs": [
        {
          "output_type": "stream",
          "name": "stdout",
          "text": [
            "{'apple', 'cherry', 'banana'}\n"
          ]
        }
      ]
    },
    {
      "cell_type": "markdown",
      "source": [
        "6. discuss the use cases of tuples and sets in python programming.\n",
        "\n",
        "ans:\n",
        "\n",
        "**tuples:**\n",
        "immutable: their elements can not be changed.\n",
        "orderd: tuple maintain the order of element\n",
        "allow duplicates: can have repeated elements."
      ],
      "metadata": {
        "id": "xYRlah_fk4OR"
      }
    },
    {
      "cell_type": "code",
      "source": [
        "bik_tuple = (1,2,3,4,5,6,7)\n",
        "print(bik_tuple[2])\n",
        "print(len(bik_tuple))"
      ],
      "metadata": {
        "colab": {
          "base_uri": "https://localhost:8080/"
        },
        "id": "HuzH2bt3mQIL",
        "outputId": "64c12222-3476-4422-82a7-75c15253717d"
      },
      "execution_count": 21,
      "outputs": [
        {
          "output_type": "stream",
          "name": "stdout",
          "text": [
            "3\n",
            "7\n"
          ]
        }
      ]
    },
    {
      "cell_type": "markdown",
      "source": [
        "**sets:**\n",
        "unorderd: sets are dont maintain element order.\n",
        "no duplicates: sets automatically remove duplicates."
      ],
      "metadata": {
        "id": "nISVjYfmmv3H"
      }
    },
    {
      "cell_type": "markdown",
      "source": [],
      "metadata": {
        "id": "VSMjEARTwFPz"
      }
    },
    {
      "cell_type": "code",
      "source": [
        "sets = {1,23,40}\n",
        "sets1 = {2,56,90}\n",
        "print(sets | sets1)\n",
        "\n"
      ],
      "metadata": {
        "colab": {
          "base_uri": "https://localhost:8080/"
        },
        "id": "XrWH-1Amm-Iv",
        "outputId": "5af3ce12-d120-493e-f7a5-947b1f5b5b33"
      },
      "execution_count": 22,
      "outputs": [
        {
          "output_type": "stream",
          "name": "stdout",
          "text": [
            "{1, 2, 90, 23, 40, 56}\n"
          ]
        }
      ]
    },
    {
      "cell_type": "code",
      "source": [
        "bikram_set = {1,2,3,4,5,6,7}\n",
        "bikram_set.add(8)\n",
        "print(bikram_set)"
      ],
      "metadata": {
        "colab": {
          "base_uri": "https://localhost:8080/"
        },
        "id": "3ejFYJuenGve",
        "outputId": "328d63d7-56b9-48dd-e0c3-d98e577a9bd6"
      },
      "execution_count": 23,
      "outputs": [
        {
          "output_type": "stream",
          "name": "stdout",
          "text": [
            "{1, 2, 3, 4, 5, 6, 7, 8}\n"
          ]
        }
      ]
    },
    {
      "cell_type": "markdown",
      "source": [
        "7. describe how to add, modify and delete items in a dictionary with example.\n",
        "\n",
        "Ans:\n",
        "\n",
        "**Adding **\n",
        "add a new key value pair by assigning a value to a new key. if the key already exists, the value eill be modified.\n",
        "\n",
        "example:"
      ],
      "metadata": {
        "id": "hWSnmgIlwG-p"
      }
    },
    {
      "cell_type": "code",
      "source": [
        "bk_dict = {\"name\":\"BIKRAM\", \"age\":20}\n",
        "bk_dict[\"city\"] = \"kolkata\"\n",
        "print(bk_dict)"
      ],
      "metadata": {
        "colab": {
          "base_uri": "https://localhost:8080/"
        },
        "id": "bs-SZNs7xJmO",
        "outputId": "60d6ad8c-93ef-4a24-ec36-c57d2d0141cd"
      },
      "execution_count": 24,
      "outputs": [
        {
          "output_type": "stream",
          "name": "stdout",
          "text": [
            "{'name': 'BIKRAM', 'age': 20, 'city': 'kolkata'}\n"
          ]
        }
      ]
    },
    {
      "cell_type": "code",
      "source": [
        "bk_dict.update({\"city\":\"kolkata\", \"occupation\":\"engineer\"})\n",
        "print(bk_dict)"
      ],
      "metadata": {
        "colab": {
          "base_uri": "https://localhost:8080/"
        },
        "id": "-1odXDwcxX69",
        "outputId": "5b9b689d-7295-4413-a950-0bf5bce0ca5b"
      },
      "execution_count": 25,
      "outputs": [
        {
          "output_type": "stream",
          "name": "stdout",
          "text": [
            "{'name': 'BIKRAM', 'age': 20, 'city': 'kolkata', 'occupation': 'engineer'}\n"
          ]
        }
      ]
    },
    {
      "cell_type": "markdown",
      "source": [
        "**modifying items **\n",
        "we can modify a value by assiging a new to an existing key."
      ],
      "metadata": {
        "id": "jatQbYtvxrEt"
      }
    },
    {
      "cell_type": "code",
      "source": [
        "bk_dict[\"age\"] = 21\n",
        "print(bk_dict)"
      ],
      "metadata": {
        "colab": {
          "base_uri": "https://localhost:8080/"
        },
        "id": "NcR8KtfNx6Kp",
        "outputId": "59d8beba-a5d9-4618-dde8-e9130c5e7d9a"
      },
      "execution_count": 26,
      "outputs": [
        {
          "output_type": "stream",
          "name": "stdout",
          "text": [
            "{'name': 'BIKRAM', 'age': 21, 'city': 'kolkata', 'occupation': 'engineer'}\n"
          ]
        }
      ]
    },
    {
      "cell_type": "markdown",
      "source": [
        "**Deleting **\n",
        "removes a key value pair by key."
      ],
      "metadata": {
        "id": "knqZ_OpoyCNN"
      }
    },
    {
      "cell_type": "code",
      "source": [
        "del bk_dict[\"occupation\"]\n",
        "print(bk_dict)"
      ],
      "metadata": {
        "colab": {
          "base_uri": "https://localhost:8080/"
        },
        "id": "Iq0u4qCPyOOo",
        "outputId": "0f9593c8-0dd4-4527-b577-577bf63e6dec"
      },
      "execution_count": 27,
      "outputs": [
        {
          "output_type": "stream",
          "name": "stdout",
          "text": [
            "{'name': 'BIKRAM', 'age': 21, 'city': 'kolkata'}\n"
          ]
        }
      ]
    },
    {
      "cell_type": "code",
      "source": [
        "# using clear() method\n",
        "bk_dict.clear()\n",
        "print(bk_dict)"
      ],
      "metadata": {
        "colab": {
          "base_uri": "https://localhost:8080/"
        },
        "id": "DmLpvH68yQ97",
        "outputId": "b3450dd6-12a3-4730-97ad-82d826de8dc2"
      },
      "execution_count": 28,
      "outputs": [
        {
          "output_type": "stream",
          "name": "stdout",
          "text": [
            "{}\n"
          ]
        }
      ]
    },
    {
      "cell_type": "code",
      "source": [],
      "metadata": {
        "id": "LuUDMmoYyYrz"
      },
      "execution_count": null,
      "outputs": []
    },
    {
      "cell_type": "markdown",
      "source": [
        "**example**"
      ],
      "metadata": {
        "id": "vz0NwiJ_ycaO"
      }
    },
    {
      "cell_type": "code",
      "source": [
        "people = {\"name\":\"BIKRAM\", \"age\":20, \"city\":\"kolkata\"}\n",
        "people[\"profession\"] = \"engineer\"\n",
        "people.update({ \"men\": True, \"age\":21})\n",
        "people[\"city\"] = \"goa\"\n",
        "del people[\"men\"]\n",
        "profession = people.pop(\"profession\")\n",
        "print(people)"
      ],
      "metadata": {
        "colab": {
          "base_uri": "https://localhost:8080/"
        },
        "id": "v0uhY8zgyfCb",
        "outputId": "8292531c-fac4-46f7-ee47-d7aa077c3a0e"
      },
      "execution_count": 29,
      "outputs": [
        {
          "output_type": "stream",
          "name": "stdout",
          "text": [
            "{'name': 'BIKRAM', 'age': 21, 'city': 'goa'}\n"
          ]
        }
      ]
    },
    {
      "cell_type": "markdown",
      "source": [
        "8. discuss the impotance of dictionary keys bening immutable and provide example.\n",
        "\n",
        "ans:  in python , dictionary keys must be immutable reason they as unique identifiers for their corresponding values.\n",
        "\n",
        "**why**\n",
        "\n",
        "A. dictionary keys are hashed to qucikly locate the corrsponding values.\n",
        "\n",
        "keys were mutable their hash value could change, making not possible to find correct key.\n",
        "\n",
        "B. allow mutable keys would introduce unexpected bahaviors and bugs.\n",
        "\n",
        "**conclution**\n",
        "consistency : keys must remain the same dictionary to function correctly.\n",
        "\n",
        "**performance** immutable keys enable fast lookup through hashing\n",
        "\n",
        "example:"
      ],
      "metadata": {
        "id": "Jo1BduGtzNFY"
      }
    },
    {
      "cell_type": "code",
      "source": [
        "people = {(\"bikram\",\"raj\"): \"Student\"}\n",
        "print(people[(\"bikram\",\"raj\")])"
      ],
      "metadata": {
        "colab": {
          "base_uri": "https://localhost:8080/"
        },
        "id": "JZuT0u5W08n9",
        "outputId": "489c1d59-1517-4e2e-9a82-36d683ab446f"
      },
      "execution_count": 30,
      "outputs": [
        {
          "output_type": "stream",
          "name": "stdout",
          "text": [
            "Student\n"
          ]
        }
      ]
    },
    {
      "cell_type": "code",
      "source": [
        "people1 = {[1,2,3,4]:\"invalied\"}"
      ],
      "metadata": {
        "colab": {
          "base_uri": "https://localhost:8080/",
          "height": 141
        },
        "id": "FE-MDPTp1gzz",
        "outputId": "e58f9a19-fbdb-4dd8-d400-46d057f0d6c2"
      },
      "execution_count": 31,
      "outputs": [
        {
          "output_type": "error",
          "ename": "TypeError",
          "evalue": "unhashable type: 'list'",
          "traceback": [
            "\u001b[0;31m---------------------------------------------------------------------------\u001b[0m",
            "\u001b[0;31mTypeError\u001b[0m                                 Traceback (most recent call last)",
            "\u001b[0;32m<ipython-input-31-1a526181aa9a>\u001b[0m in \u001b[0;36m<cell line: 1>\u001b[0;34m()\u001b[0m\n\u001b[0;32m----> 1\u001b[0;31m \u001b[0mpeople1\u001b[0m \u001b[0;34m=\u001b[0m \u001b[0;34m{\u001b[0m\u001b[0;34m[\u001b[0m\u001b[0;36m1\u001b[0m\u001b[0;34m,\u001b[0m\u001b[0;36m2\u001b[0m\u001b[0;34m,\u001b[0m\u001b[0;36m3\u001b[0m\u001b[0;34m,\u001b[0m\u001b[0;36m4\u001b[0m\u001b[0;34m]\u001b[0m\u001b[0;34m:\u001b[0m\u001b[0;34m\"invalied\"\u001b[0m\u001b[0;34m}\u001b[0m\u001b[0;34m\u001b[0m\u001b[0;34m\u001b[0m\u001b[0m\n\u001b[0m",
            "\u001b[0;31mTypeError\u001b[0m: unhashable type: 'list'"
          ]
        }
      ]
    },
    {
      "cell_type": "markdown",
      "source": [
        "TypeError: unhashable type: 'list'\" indicates that you are trying to use a list [1,2,3,4] as a key in a dictionary people1."
      ],
      "metadata": {
        "id": "z-JCsRyz1zoZ"
      }
    },
    {
      "cell_type": "code",
      "source": [
        "keys = [2,3,4,5]\n",
        "dict0 = {keys:\"values\"}\n",
        "keys.append(4)\n",
        "print(dict0[keys])"
      ],
      "metadata": {
        "colab": {
          "base_uri": "https://localhost:8080/",
          "height": 193
        },
        "id": "8m9B0A0g1tBv",
        "outputId": "822dea97-78d6-4149-b6b0-1bcdabf32905"
      },
      "execution_count": 32,
      "outputs": [
        {
          "output_type": "error",
          "ename": "TypeError",
          "evalue": "unhashable type: 'list'",
          "traceback": [
            "\u001b[0;31m---------------------------------------------------------------------------\u001b[0m",
            "\u001b[0;31mTypeError\u001b[0m                                 Traceback (most recent call last)",
            "\u001b[0;32m<ipython-input-32-6ba917259685>\u001b[0m in \u001b[0;36m<cell line: 2>\u001b[0;34m()\u001b[0m\n\u001b[1;32m      1\u001b[0m \u001b[0mkeys\u001b[0m \u001b[0;34m=\u001b[0m \u001b[0;34m[\u001b[0m\u001b[0;36m2\u001b[0m\u001b[0;34m,\u001b[0m\u001b[0;36m3\u001b[0m\u001b[0;34m,\u001b[0m\u001b[0;36m4\u001b[0m\u001b[0;34m,\u001b[0m\u001b[0;36m5\u001b[0m\u001b[0;34m]\u001b[0m\u001b[0;34m\u001b[0m\u001b[0;34m\u001b[0m\u001b[0m\n\u001b[0;32m----> 2\u001b[0;31m \u001b[0mdict0\u001b[0m \u001b[0;34m=\u001b[0m \u001b[0;34m{\u001b[0m\u001b[0mkeys\u001b[0m\u001b[0;34m:\u001b[0m\u001b[0;34m\"values\"\u001b[0m\u001b[0;34m}\u001b[0m\u001b[0;34m\u001b[0m\u001b[0;34m\u001b[0m\u001b[0m\n\u001b[0m\u001b[1;32m      3\u001b[0m \u001b[0mkeys\u001b[0m\u001b[0;34m.\u001b[0m\u001b[0mappend\u001b[0m\u001b[0;34m(\u001b[0m\u001b[0;36m4\u001b[0m\u001b[0;34m)\u001b[0m\u001b[0;34m\u001b[0m\u001b[0;34m\u001b[0m\u001b[0m\n\u001b[1;32m      4\u001b[0m \u001b[0mprint\u001b[0m\u001b[0;34m(\u001b[0m\u001b[0mdict0\u001b[0m\u001b[0;34m[\u001b[0m\u001b[0mkeys\u001b[0m\u001b[0;34m]\u001b[0m\u001b[0;34m)\u001b[0m\u001b[0;34m\u001b[0m\u001b[0;34m\u001b[0m\u001b[0m\n",
            "\u001b[0;31mTypeError\u001b[0m: unhashable type: 'list'"
          ]
        }
      ]
    },
    {
      "cell_type": "markdown",
      "source": [
        "The error \"TypeError: unhashable type: 'list'\" arises because you are attempting to use a list (keys) as a dictionary ke"
      ],
      "metadata": {
        "id": "DGT5oQbS2dNm"
      }
    }
  ]
}