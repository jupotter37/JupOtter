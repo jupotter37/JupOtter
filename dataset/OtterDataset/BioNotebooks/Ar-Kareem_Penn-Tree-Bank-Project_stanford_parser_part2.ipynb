{
 "cells": [
  {
   "cell_type": "code",
   "execution_count": 1,
   "metadata": {},
   "outputs": [],
   "source": [
    "import pickle\n",
    "with open('stanford_biology_all.pkl', 'rb') as f:\n",
    "    stanford_biology_all = pickle.load(f)"
   ]
  },
  {
   "cell_type": "code",
   "execution_count": 2,
   "metadata": {},
   "outputs": [
    {
     "data": {
      "text/plain": [
       "[('The', 'DT'),\n",
       " ('construct', 'NN'),\n",
       " ('retained', 'VBD'),\n",
       " ('the', 'DT'),\n",
       " ('native', 'JJ'),\n",
       " ('signal', 'NN'),\n",
       " ('sequence', 'NN'),\n",
       " ('to', 'TO'),\n",
       " ('allow', 'VB'),\n",
       " ('secretion', 'NN'),\n",
       " ('of', 'IN'),\n",
       " ('recombinant', 'JJ'),\n",
       " ('protein', 'NN'),\n",
       " ('into', 'IN'),\n",
       " ('the', 'DT'),\n",
       " ('culture', 'NN'),\n",
       " ('medium', 'NN'),\n",
       " ('.', '.')]"
      ]
     },
     "execution_count": 2,
     "metadata": {},
     "output_type": "execute_result"
    }
   ],
   "source": [
    "stanford_biology_all[0]"
   ]
  },
  {
   "cell_type": "code",
   "execution_count": 15,
   "metadata": {},
   "outputs": [],
   "source": [
    "import dataset\n",
    "bio = dataset.get_biology(limit_train=0, limit_val=0, limit_test=None, check_pos=False)"
   ]
  },
  {
   "cell_type": "code",
   "execution_count": 16,
   "metadata": {},
   "outputs": [
    {
     "data": {
      "text/plain": [
       "[['The', 'DT'],\n",
       " ['construct', 'NN'],\n",
       " ['retained', 'VBD'],\n",
       " ['the', 'DT'],\n",
       " ['native', 'JJ'],\n",
       " ['signal', 'NN'],\n",
       " ['sequence', 'NN'],\n",
       " ['to', 'TO'],\n",
       " ['allow', 'VB'],\n",
       " ['secretion', 'NN'],\n",
       " ['of', 'IN'],\n",
       " ['recombinant', 'JJ'],\n",
       " ['protein', 'NN'],\n",
       " ['into', 'IN'],\n",
       " ['the', 'DT'],\n",
       " ['culture', 'NN'],\n",
       " ['medium', 'NN'],\n",
       " ['.', '.']]"
      ]
     },
     "execution_count": 16,
     "metadata": {},
     "output_type": "execute_result"
    }
   ],
   "source": [
    "test_tags = bio['test_tags']\n",
    "test_tags[0]"
   ]
  },
  {
   "cell_type": "code",
   "execution_count": 70,
   "metadata": {},
   "outputs": [
    {
     "name": "stdout",
     "output_type": "stream",
     "text": [
      "correct: 674238/818428 (82.3820788145078%), incorrect: 144190/818428 (17.617921185492186%)\n",
      "correct_sents: 2549/31810 (8.013203395158754%), incorrect_sents: 29261/31810 (91.98679660484125%)\n"
     ]
    }
   ],
   "source": [
    "correct = 0\n",
    "incorrect = 0\n",
    "correct_sents = 0\n",
    "incorrect_sents = 0\n",
    "all_bio_pos = []\n",
    "all_truth_pos = []\n",
    "for i in range(len(stanford_biology_all)):\n",
    "    bio_sent = stanford_biology_all[i]\n",
    "    truth_sent = test_tags[i]\n",
    "    # bio_sent_just_pos = [tup[1] for tup in bio_sent]\n",
    "    # all_bio_pos += bio_sent_just_pos\n",
    "    # truth_sent_just_pos = [tup[1] for tup in truth_sent]\n",
    "    # all_truth_pos += truth_sent_just_pos\n",
    "    # print(bio_sent)\n",
    "    # print(truth_sent)\n",
    "    # print(bio_sent_just_pos)\n",
    "    # print(truth_sent_just_pos)\n",
    "    s1 = truth_sent\n",
    "    s2 = bio_sent\n",
    "    fixed_s2 = []\n",
    "    ind_s1 = 0\n",
    "    ind_s2 = 0\n",
    "    while ind_s1 < len(s1) or ind_s2 < len(s2):\n",
    "        # print(ind_s1, ind_s2, s1[ind_s1], s2[ind_s2])\n",
    "        for delta in range(1, 5):\n",
    "            s1_joined = s1[ind_s1][0].replace('(', '-LRB-').replace(')', '-RRB-')\n",
    "            s2_joined = ' '.join([x[0] for x in s2[ind_s2:ind_s2+delta]])\n",
    "\n",
    "            if s1_joined == s2_joined:\n",
    "                fixed_s2.append((s2_joined, [s2[ind_s2+x][1] for x in range(delta)]))\n",
    "                ind_s1 += 1\n",
    "                ind_s2 += delta\n",
    "                break\n",
    "        else:\n",
    "            print(i)\n",
    "            print(ind_s1, ind_s2, s1[ind_s1], s2[ind_s2])\n",
    "            print(s1)\n",
    "            print(s2)\n",
    "            assert False\n",
    "    bio_sent = fixed_s2\n",
    "    # if len(bio_sent_just_pos) != len(truth_sent_just_pos):\n",
    "    #     print(bio_sent)\n",
    "    #     print(truth_sent)\n",
    "    #     print()\n",
    "    #     continue\n",
    "\n",
    "    if all(any(x == truth_sent[j][1] for x in bio_sent[j][1]) for j in range(len(bio_sent))):\n",
    "        correct_sents += 1\n",
    "    else:\n",
    "        incorrect_sents += 1\n",
    "\n",
    "    for j in range(len(bio_sent)):\n",
    "        if len(bio_sent[j][1]) == 1:\n",
    "            if bio_sent[j][1][0] == truth_sent[j][1]:\n",
    "                correct += 1\n",
    "            else:\n",
    "                incorrect += 1\n",
    "        else:\n",
    "            if any(x == truth_sent[j][1] for x in bio_sent[j][1]):\n",
    "                correct += 1\n",
    "            else:\n",
    "                incorrect += 1\n",
    "    \n",
    "    # print()\n",
    "\n",
    "# all_bio_pos = sum(len(x) for x in test_tags)\n",
    "# all_bio_pos = len(test_tags)\n",
    "all_bio_pos = sum([len(sent) for sent in test_tags])\n",
    "\n",
    "# print(f'correct={correct}, incorrect={incorrect}, all_bio_pos={all_bio_pos}')\n",
    "assert(correct + incorrect == all_bio_pos)\n",
    "assert(correct_sents + incorrect_sents == len(stanford_biology_all))\n",
    "print(f'correct: {correct}/{all_bio_pos} ({100*correct/all_bio_pos}%), incorrect: {incorrect}/{all_bio_pos} ({100*incorrect/all_bio_pos}%)')\n",
    "print(f'correct_sents: {correct_sents}/{len(stanford_biology_all)} ({100*correct_sents/len(stanford_biology_all)}%), incorrect_sents: {incorrect_sents}/{len(stanford_biology_all)} ({100*incorrect_sents/len(stanford_biology_all)}%)')"
   ]
  }
 ],
 "metadata": {
  "kernelspec": {
   "display_name": "Python 3",
   "language": "python",
   "name": "python3"
  },
  "language_info": {
   "codemirror_mode": {
    "name": "ipython",
    "version": 3
   },
   "file_extension": ".py",
   "mimetype": "text/x-python",
   "name": "python",
   "nbconvert_exporter": "python",
   "pygments_lexer": "ipython3",
   "version": "3.10.11"
  },
  "orig_nbformat": 4
 },
 "nbformat": 4,
 "nbformat_minor": 2
}
