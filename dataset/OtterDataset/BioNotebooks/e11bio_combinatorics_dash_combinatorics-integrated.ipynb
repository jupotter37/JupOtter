{
 "cells": [
  {
   "cell_type": "code",
   "execution_count": 1,
   "id": "a5e3575f",
   "metadata": {
    "slideshow": {
     "slide_type": "skip"
    }
   },
   "outputs": [],
   "source": [
    "#yay imports\n",
    "import numpy as np\n",
    "import pandas as pd\n",
    "import seaborn as sns\n",
    "from scipy.special import comb\n",
    "import matplotlib.pyplot as plt\n",
    "from textwrap import wrap\n",
    "from IPython.display import HTML\n",
    "import random"
   ]
  },
  {
   "cell_type": "code",
   "execution_count": 2,
   "id": "802b76aa",
   "metadata": {
    "code_folding": [
     1,
     48
    ],
    "slideshow": {
     "slide_type": "skip"
    }
   },
   "outputs": [],
   "source": [
    "# functs to make stuff look pretty\n",
    "def wrap_t(text, l, linker = \"\\n\"):\n",
    "    '''wrapper for breaking long text strings'''\n",
    "    return linker.join(wrap(text, l))\n",
    "\n",
    "def plot_params(ax, title,\n",
    "                x_title=None, \n",
    "                y_title=None,\n",
    "                varied_by = None,\n",
    "                threshold=None,\n",
    "                x_len=50,\n",
    "                y_len=50,\n",
    "                title_len=50,\n",
    "                scale='log'):\n",
    "    '''mini-helper for cleaner axes formatting'''\n",
    "    \n",
    "    title = wrap_t(title, title_len) #shorten titles\n",
    "    \n",
    "    # conditional wrapping/naming/marking\n",
    "    if scale:\n",
    "        ax.set_yscale(scale) # reset scale\n",
    "    if x_title:\n",
    "        x_label = wrap_t(x_title, x_len)\n",
    "        ax.set_xlabel(x_label)\n",
    "    if y_title:\n",
    "        y_label = wrap_t(y_title, y_len)\n",
    "        ax.set_ylabel(y_label)\n",
    "    if threshold:\n",
    "        for line in threshold:\n",
    "            ax.axhline(line)\n",
    "#         title = f\"{title} \\n Blue line marks {threshold:.2} thresholds\"\n",
    "    if varied_by:\n",
    "         plt.legend(bbox_to_anchor=(1.02, 1), loc='upper left', borderaxespad=0, title = varied_by)\n",
    "\n",
    "        \n",
    "    title = wrap_t(title, title_len) #shorten titles\n",
    "    ax = ax.set_title(title)\n",
    "#     legend_title = plt.\n",
    "    \n",
    "#     legend = plt.legend(handles=[one, two, three], title=\"title\",\n",
    "#                     loc=4, fontsize='small', fancybox=True)\n",
    "    \n",
    "#     plt.legend(bbox_to_anchor=(1.02, 1), loc='upper left', borderaxespad=0, title = \"\")\n",
    "    \n",
    "    \n",
    "#     legend = plt.legend(handles=[one, two, three], title=\"title\",\n",
    "#                     loc=4, fontsize='small', fancybox=True)\n",
    "    return ax\n",
    "\n",
    "def hide_toggle(for_next=False):\n",
    "    '''this is for hide/show cells in slide mode'''\n",
    "    this_cell = \"\"\"$('div.cell.code_cell.rendered.selected')\"\"\"\n",
    "    next_cell = this_cell + '.next()'\n",
    "\n",
    "    toggle_text = 'Toggle show/hide'  # text shown on toggle link\n",
    "    target_cell = this_cell  # target cell to control with toggle\n",
    "    js_hide_current = ''  # bit of JS to permanently hide code in current cell (only when toggling next cell)\n",
    "\n",
    "    if for_next:\n",
    "        target_cell = next_cell\n",
    "        toggle_text += ' next cell'\n",
    "        js_hide_current = this_cell + '.find(\"div.input\").hide();'\n",
    "\n",
    "    js_f_name = 'code_toggle_{}'.format(str(random.randint(1,2**64)))\n",
    "\n",
    "    html = \"\"\"\n",
    "        <script>\n",
    "            function {f_name}() {{\n",
    "                {cell_selector}.find('div.input').toggle();\n",
    "            }}\n",
    "\n",
    "            {js_hide_current}\n",
    "        </script>\n",
    "\n",
    "        <a href=\"javascript:{f_name}()\">{toggle_text}</a>\n",
    "    \"\"\".format(\n",
    "        f_name=js_f_name,\n",
    "        cell_selector=target_cell,\n",
    "        js_hide_current=js_hide_current, \n",
    "        toggle_text=toggle_text\n",
    "    )\n",
    "\n",
    "    return HTML(html) "
   ]
  },
  {
   "cell_type": "code",
   "execution_count": 3,
   "id": "6d8e569e",
   "metadata": {
    "code_folding": [],
    "slideshow": {
     "slide_type": "skip"
    }
   },
   "outputs": [],
   "source": [
    "# notebook wide\n",
    "sns.set_context(\"talk\", font_scale=.75)\n",
    "sns.set_style(\"darkgrid\")\n",
    "threshold_y2 = 1e6 #setting general threshold for OKR # barcodes\n",
    "threshold_e11 = 1e11"
   ]
  },
  {
   "cell_type": "markdown",
   "id": "1d0043ef",
   "metadata": {
    "slideshow": {
     "slide_type": "slide"
    }
   },
   "source": [
    "# $n$ choose $k$"
   ]
  },
  {
   "cell_type": "markdown",
   "id": "074ad365",
   "metadata": {
    "slideshow": {
     "slide_type": "fragment"
    }
   },
   "source": [
    "* $n$, the total number of elements in a set -- here, the number of available epitopes (=bits)\n",
    "* $k$, the length of the set chosen from n -- here, the bits expressed per cell\n",
    "\n",
    "$$\n",
    "{n \\choose k} = \\frac{n!}{k! (n-k)!}\n",
    "$$\n",
    "\n",
    "Mathematically, maximum ${n \\choose k}$ is when $k = \\frac{n}{2}$. \n",
    "\n",
    "This is also the easiest *imaging* parameter readout -- if a voxel(/cell) has only 5 bits, throw it out. If it has more than 7 bits, also throw it out."
   ]
  },
  {
   "cell_type": "markdown",
   "id": "40f39308",
   "metadata": {
    "slideshow": {
     "slide_type": "slide"
    }
   },
   "source": [
    "# epitope hungry vs epitope conservative\n",
    "\n",
    "\n",
    "*Hungry*: In one model of the integrated shifter, each location always expresses 1 of 3 proteins (at equal proportions, biology to be solved). This is computationally much easier, but requires many more rounds of staining.\n",
    "\n",
    "*Conservative*:In the other, we have a variable number expressed -- each location has single epitope with some % chance of expression. This replicates the math of the analog barcoding system, but at what % do they need to be on/off in order to average $k = \\frac{n}{2}$?\n"
   ]
  },
  {
   "cell_type": "markdown",
   "id": "f10c1fab",
   "metadata": {
    "slideshow": {
     "slide_type": "slide"
    }
   },
   "source": [
    "## easier case: epitope hungry\n",
    "\n",
    "1. At each site, there are $c$ (cassette length) bits encoded and 1 expressed.\n",
    "    e.g. if there are 3 cassettes of 3 or 4 each then\n",
    "    * total epitopes are: $3*3 = 9 \\text{ or }  4*4 = 12$\n",
    "    * and barcode diversity is: ${3^{3}= 27} \\text{ or } 4^{3} = 64$\n",
    "2. Total epitope requirement $= \\text{num sites} * 3$\n",
    "3. Total diversity is (assuming equal probability) is $c^n$"
   ]
  },
  {
   "cell_type": "code",
   "execution_count": 4,
   "id": "8c8a28d4",
   "metadata": {
    "code_folding": [],
    "slideshow": {
     "slide_type": "skip"
    }
   },
   "outputs": [],
   "source": [
    "def integrated_hungry(n = range(1,20,3), sites = range(1,5), model = \"epitope_hungry\"):\n",
    "    dfs = []\n",
    "    if model == \"epitope_hungry\":\n",
    "        for epitopes in n:\n",
    "            df = pd.DataFrame(data = {'sites':sites})\n",
    "            df['epitopes'] = epitopes\n",
    "            df['epitopes_per_site'] = df['epitopes']/df['sites']\n",
    "            \n",
    "            df['bcs'] = df['epitopes_per_site'] ** df['sites']\n",
    "            dfs.append(df)\n",
    "        df = pd.concat(dfs)\n",
    "        df_evens = df[df['epitopes_per_site'].mod(2) == 0] #evens\n",
    "        df_odds = df[(df['epitopes_per_site']-1).mod(2) == 0] #odds\n",
    "        df = df_evens.append(df_odds).reset_index()\n",
    "        df = df.drop('index', inplace=False, axis=1)\n",
    "        return df"
   ]
  },
  {
   "cell_type": "code",
   "execution_count": 5,
   "id": "a4269417",
   "metadata": {
    "slideshow": {
     "slide_type": "subslide"
    }
   },
   "outputs": [],
   "source": [
    "n = 100\n",
    "c = 22\n",
    "df = integrated_hungry(n=range(20,n), sites = range (1, c, 3)) ## this removes any fractional epitope signals"
   ]
  },
  {
   "cell_type": "code",
   "execution_count": 6,
   "id": "42deecaf",
   "metadata": {
    "code_folding": [
     0
    ],
    "slideshow": {
     "slide_type": "fragment"
    }
   },
   "outputs": [
    {
     "data": {
      "text/html": [
       "\n",
       "        <script>\n",
       "            function code_toggle_13345347366253662609() {\n",
       "                $('div.cell.code_cell.rendered.selected').find('div.input').toggle();\n",
       "            }\n",
       "\n",
       "            \n",
       "        </script>\n",
       "\n",
       "        <a href=\"javascript:code_toggle_13345347366253662609()\">Toggle show/hide</a>\n",
       "    "
      ],
      "text/plain": [
       "<IPython.core.display.HTML object>"
      ]
     },
     "execution_count": 6,
     "metadata": {},
     "output_type": "execute_result"
    },
    {
     "data": {
      "image/png": "[encoded data removed]",
      "text/plain": [
       "<Figure size 432x288 with 1 Axes>"
      ]
     },
     "metadata": {},
     "output_type": "display_data"
    }
   ],
   "source": [
    "## range of full signal at all rounds across c cassettes and \n",
    "ax = sns.lineplot(data = df,\n",
    "                  x = 'epitopes',\n",
    "                  y = 'bcs', \n",
    "                  hue = \"sites\")\n",
    "title = \"Epitope hungry integrated lin -- num of combinations generated from $n$ epitopes split into $c$ cassettes\"\n",
    "\n",
    "ax = plot_params(ax, \n",
    "                 title,\n",
    "                 threshold = [threshold_y2, threshold_e11],\n",
    "                 varied_by = \"$c$ cassettes/locations\")\n",
    "\n",
    "\n",
    "hide_toggle()"
   ]
  },
  {
   "cell_type": "markdown",
   "id": "8c7ab393",
   "metadata": {
    "slideshow": {
     "slide_type": "slide"
    }
   },
   "source": [
    "# Conserving epitope usage \n",
    "Harder :)\n",
    "\n",
    "The probability of any *specific* combination is $P^{k}$.\n",
    "\n",
    "1. At $c$ sites, there is a probability $P$ of expression. \n",
    "2. For $n$ epitopes, the chance of a combo of $n$ (e.g. all expressed, and $k=n$) is $P(bit)\\cdot n$\n",
    "3. For $n$ epitopes, the chance of a combo of $0$ (e.g. none expressed, and $k=0$) is $(P(bit)-1)\\cdot n$\n",
    "\n",
    "Eg for 10 epitopes, $ P = \\frac{1}{3}$, a combo of 10 is \n",
    "    $$\n",
    "       \\frac{1}{3}^{10} = \\frac{1}{3^{10}} = \\frac{1}{59049} \\approx 0.0000062\n",
    "    $$\n",
    " And for a combo of 0 (no expression):\n",
    " $$\n",
    "      \\frac{2}{3}^{10} = \\frac{2^10}{3^{10}} = \\frac{1024}{59049} \\approx 0.017\n",
    "  $$\n",
    "  "
   ]
  },
  {
   "cell_type": "markdown",
   "id": "95cb7dfa",
   "metadata": {
    "slideshow": {
     "slide_type": "fragment"
    }
   },
   "source": [
    "For a set of epitopes $n$ (here this is the number of ORF shifters integrated total) each epitope has an expression probability $P$ -- random chance in an ORF-shifter system of being turned on. \n",
    "\n",
    "The probabilty of a set of length $k$ being expressed is:\n",
    "$$ P^{k}\\cdot (P-1)^{n-k}$$\n",
    "\n",
    "The total number of barcodes potentially generated is the number of potential combinations e.g. \n",
    "$$P^{k}\\cdot (P-1)^{n-k} \\cdot  {n \\choose k}$$"
   ]
  },
  {
   "cell_type": "code",
   "execution_count": 42,
   "id": "2cff9e86",
   "metadata": {
    "slideshow": {
     "slide_type": "-"
    }
   },
   "outputs": [],
   "source": [
    "## ok let's do the math guys!!!!\n",
    "# set variables\n"
   ]
  },
  {
   "cell_type": "code",
   "execution_count": 43,
   "id": "9afd8be1",
   "metadata": {
    "code_folding": [
     2,
     5
    ]
   },
   "outputs": [],
   "source": [
    "## actually we can re use this! and then just generate probabilities on top of the thing we already have ookkkaaayyy!\n",
    "\n",
    "def vary(n,k):\n",
    "    return comb(n, k, repetition=False) #combine without repete\n",
    "\n",
    "def make_combinatorics(n = range(0,60,1), k = range(1, 20)):\n",
    "    ks = k\n",
    "    dfs = []\n",
    "    for k in ks:\n",
    "        df = pd.DataFrame(data = {'n':n})\n",
    "        df['k'] = k\n",
    "        df['num_unique'] = df['n'].apply(lambda n : vary(n, k))\n",
    "        dfs.append(df)\n",
    "    df = pd.concat(dfs)\n",
    "    df = df.reset_index().drop('index', inplace=False, axis=1)\n",
    "\n",
    "    return df\n",
    "\n",
    "def prob_specific_combo(p, k):\n",
    "    return (p**k)"
   ]
  },
  {
   "cell_type": "code",
   "execution_count": 71,
   "id": "5d2fce51",
   "metadata": {},
   "outputs": [],
   "source": [
    "p = .7 #prob. of epitope expressing\n",
    "n = 40 #number of potential epitopes\n",
    "\n",
    "df = make_combinatorics(n=range(1,n+1,4), k = range(1,n+1,4))\n",
    "df = df.query(\"num_unique > 0\").copy()\n",
    "df['p'] = p"
   ]
  },
  {
   "cell_type": "code",
   "execution_count": 72,
   "id": "70eba8d2",
   "metadata": {},
   "outputs": [],
   "source": [
    "df['prob_individual_len_k'] = df.apply(lambda x: prob_specific_combo(x.p, x.k), axis=1)\n",
    "df['num_possible'] = df['prob_individual_len_k']*df['num_unique']"
   ]
  },
  {
   "cell_type": "code",
   "execution_count": 82,
   "id": "b4727ac4",
   "metadata": {},
   "outputs": [
    {
     "data": {
      "text/html": [
       "<div>\n",
       "<style scoped>\n",
       "    .dataframe tbody tr th:only-of-type {\n",
       "        vertical-align: middle;\n",
       "    }\n",
       "\n",
       "    .dataframe tbody tr th {\n",
       "        vertical-align: top;\n",
       "    }\n",
       "\n",
       "    .dataframe thead th {\n",
       "        text-align: right;\n",
       "    }\n",
       "</style>\n",
       "<table border=\"1\" class=\"dataframe\">\n",
       "  <thead>\n",
       "    <tr style=\"text-align: right;\">\n",
       "      <th></th>\n",
       "      <th>k</th>\n",
       "      <th>num_unique</th>\n",
       "      <th>p</th>\n",
       "      <th>prob_individual_len_k</th>\n",
       "      <th>num_possible</th>\n",
       "    </tr>\n",
       "    <tr>\n",
       "      <th>n</th>\n",
       "      <th></th>\n",
       "      <th></th>\n",
       "      <th></th>\n",
       "      <th></th>\n",
       "      <th></th>\n",
       "    </tr>\n",
       "  </thead>\n",
       "  <tbody>\n",
       "    <tr>\n",
       "      <th>1</th>\n",
       "      <td>1</td>\n",
       "      <td>1.000000e+00</td>\n",
       "      <td>0.7</td>\n",
       "      <td>0.700000</td>\n",
       "      <td>7.000000e-01</td>\n",
       "    </tr>\n",
       "    <tr>\n",
       "      <th>5</th>\n",
       "      <td>6</td>\n",
       "      <td>6.000000e+00</td>\n",
       "      <td>1.4</td>\n",
       "      <td>0.868070</td>\n",
       "      <td>3.668070e+00</td>\n",
       "    </tr>\n",
       "    <tr>\n",
       "      <th>9</th>\n",
       "      <td>15</td>\n",
       "      <td>1.360000e+02</td>\n",
       "      <td>2.1</td>\n",
       "      <td>0.908424</td>\n",
       "      <td>2.751717e+01</td>\n",
       "    </tr>\n",
       "    <tr>\n",
       "      <th>13</th>\n",
       "      <td>28</td>\n",
       "      <td>2.016000e+03</td>\n",
       "      <td>2.8</td>\n",
       "      <td>0.918113</td>\n",
       "      <td>2.542686e+02</td>\n",
       "    </tr>\n",
       "    <tr>\n",
       "      <th>17</th>\n",
       "      <td>45</td>\n",
       "      <td>3.289600e+04</td>\n",
       "      <td>3.5</td>\n",
       "      <td>0.920439</td>\n",
       "      <td>2.055975e+03</td>\n",
       "    </tr>\n",
       "    <tr>\n",
       "      <th>21</th>\n",
       "      <td>66</td>\n",
       "      <td>5.237760e+05</td>\n",
       "      <td>4.2</td>\n",
       "      <td>0.920997</td>\n",
       "      <td>1.728141e+04</td>\n",
       "    </tr>\n",
       "    <tr>\n",
       "      <th>25</th>\n",
       "      <td>91</td>\n",
       "      <td>8.390656e+06</td>\n",
       "      <td>4.9</td>\n",
       "      <td>0.921131</td>\n",
       "      <td>1.442968e+05</td>\n",
       "    </tr>\n",
       "    <tr>\n",
       "      <th>29</th>\n",
       "      <td>120</td>\n",
       "      <td>1.342095e+08</td>\n",
       "      <td>5.6</td>\n",
       "      <td>0.921164</td>\n",
       "      <td>1.204774e+06</td>\n",
       "    </tr>\n",
       "    <tr>\n",
       "      <th>33</th>\n",
       "      <td>153</td>\n",
       "      <td>2.147516e+09</td>\n",
       "      <td>6.3</td>\n",
       "      <td>0.921171</td>\n",
       "      <td>1.006397e+07</td>\n",
       "    </tr>\n",
       "    <tr>\n",
       "      <th>37</th>\n",
       "      <td>190</td>\n",
       "      <td>3.435961e+10</td>\n",
       "      <td>7.0</td>\n",
       "      <td>0.921173</td>\n",
       "      <td>8.405194e+07</td>\n",
       "    </tr>\n",
       "  </tbody>\n",
       "</table>\n",
       "</div>"
      ],
      "text/plain": [
       "      k    num_unique    p  prob_individual_len_k  num_possible\n",
       "n                                                              \n",
       "1     1  1.000000e+00  0.7               0.700000  7.000000e-01\n",
       "5     6  6.000000e+00  1.4               0.868070  3.668070e+00\n",
       "9    15  1.360000e+02  2.1               0.908424  2.751717e+01\n",
       "13   28  2.016000e+03  2.8               0.918113  2.542686e+02\n",
       "17   45  3.289600e+04  3.5               0.920439  2.055975e+03\n",
       "21   66  5.237760e+05  4.2               0.920997  1.728141e+04\n",
       "25   91  8.390656e+06  4.9               0.921131  1.442968e+05\n",
       "29  120  1.342095e+08  5.6               0.921164  1.204774e+06\n",
       "33  153  2.147516e+09  6.3               0.921171  1.006397e+07\n",
       "37  190  3.435961e+10  7.0               0.921173  8.405194e+07"
      ]
     },
     "execution_count": 82,
     "metadata": {},
     "output_type": "execute_result"
    }
   ],
   "source": [
    "df.groupby(\"n\").agg('sum')"
   ]
  },
  {
   "cell_type": "code",
   "execution_count": 76,
   "id": "c571b950",
   "metadata": {},
   "outputs": [
    {
     "data": {
      "image/png": "[encoded data removed]",
      "text/plain": [
       "<Figure size 432x288 with 1 Axes>"
      ]
     },
     "metadata": {},
     "output_type": "display_data"
    }
   ],
   "source": [
    "## the ful range of varying n, constrained k\n",
    "ax = sns.lineplot(data = df,\n",
    "                  x = 'n',\n",
    "                  y = 'num_possible',\n",
    "                  hue = \"k\")\n",
    "title = f\"for probability {p}\"\n",
    "\n",
    "\n",
    "ax = plot_params(ax, \n",
    "                 title,\n",
    "                 threshold = [threshold_y2], \n",
    "                 varied_by = \"$k$ values\")\n",
    "\n",
    "\n",
    "# hide_toggle()"
   ]
  },
  {
   "cell_type": "code",
   "execution_count": null,
   "id": "2da08d09",
   "metadata": {},
   "outputs": [],
   "source": []
  },
  {
   "cell_type": "markdown",
   "id": "0a17ba66",
   "metadata": {
    "slideshow": {
     "slide_type": "subslide"
    }
   },
   "source": [
    "\n",
    "## Poisson distribution\n",
    "\n",
    "\n",
    "This math assumes no replacement -- i.e. we are only counting the number of sets of length $k$, not any of the other potential sets generated in a Poisson distribution of $k$ delivered to each cell.\n",
    "\n",
    "* CasTag is a controlled length $k$\n",
    "* original episomal delivery is Poisson (requires delivering 20 and only 20 viral genomes/cell from a pool of 40)\n",
    "    * if we are *including* voxels of varying $k$, diversity increases, but introduces dropout confound of dropout -- is this a 5-bit cell, or a bad round of antibody staining?\n",
    "    \n",
    "---"
   ]
  },
  {
   "cell_type": "markdown",
   "id": "5776d7d4",
   "metadata": {
    "slideshow": {
     "slide_type": "slide"
    }
   },
   "source": [
    "# $n$ choose $k$ without replacement (sets with exactly $k$ unique elements)"
   ]
  },
  {
   "cell_type": "code",
   "execution_count": null,
   "id": "1ce3ec48",
   "metadata": {
    "code_folding": [],
    "slideshow": {
     "slide_type": "skip"
    }
   },
   "outputs": [],
   "source": [
    "def vary(n,k):\n",
    "    return comb(n, k, repetition=False) #combine without repete\n",
    "\n",
    "def make_combinatorics(n = range(0,60,1), k = range(3, 20)):\n",
    "    ks = k\n",
    "    dfs = []\n",
    "    for k in ks:\n",
    "        df = pd.DataFrame(data = {'n':n})\n",
    "        df['k'] = k\n",
    "        df['num_unique'] = df['n'].apply(lambda n : vary(n, k))\n",
    "        dfs.append(df)\n",
    "    df = pd.concat(dfs)\n",
    "    return df.reset_index()"
   ]
  },
  {
   "cell_type": "code",
   "execution_count": null,
   "id": "e484e549",
   "metadata": {
    "code_folding": [],
    "slideshow": {
     "slide_type": "subslide"
    }
   },
   "outputs": [],
   "source": [
    "## df test\n",
    "df = make_combinatorics(n=range(5,40,1), k = range(3,40,1))\n",
    "df.head(10)"
   ]
  },
  {
   "cell_type": "markdown",
   "id": "41752656",
   "metadata": {
    "slideshow": {
     "slide_type": "slide"
    }
   },
   "source": [
    "# variable $n$, constrained $k$"
   ]
  },
  {
   "cell_type": "code",
   "execution_count": null,
   "id": "3566bed8",
   "metadata": {
    "slideshow": {
     "slide_type": "skip"
    }
   },
   "outputs": [],
   "source": [
    "df = make_combinatorics(n=range(1,40,1), k = range(1,25,1))"
   ]
  },
  {
   "cell_type": "code",
   "execution_count": null,
   "id": "36d1dd51",
   "metadata": {
    "slideshow": {
     "slide_type": "skip"
    }
   },
   "outputs": [],
   "source": [
    "## the ful range of varying n, constrained k\n",
    "ax = sns.lineplot(data = df,\n",
    "                  x = 'n',\n",
    "                  y = 'num_unique', \n",
    "                  hue = \"k\")\n",
    "title = \"Unique sets of length $k$ across total pool of barcoding elements $n$\"\n",
    "\n",
    "ax = plot_params(ax, \n",
    "                 title,\n",
    "                 threshold = threshold, \n",
    "                 varied_by = \"$k$ values\")\n",
    "\n",
    "\n",
    "# hide_toggle()"
   ]
  },
  {
   "cell_type": "code",
   "execution_count": null,
   "id": "4982daf9",
   "metadata": {
    "slideshow": {
     "slide_type": "skip"
    }
   },
   "outputs": [],
   "source": [
    "# ax = sns.lineplot(data = df,\n",
    "#                   x = 'n',\n",
    "#                   y = 'num_unique', \n",
    "#                   hue = \"k\")\n",
    "# ax = plot_params(x,)\n",
    "# ax.axhline(threshold)\n",
    "\n",
    "\n",
    "# ax = ax.set_title(f\"Varying n across constrained set length k. \\\n",
    "# \\nBlue line indicates {threshold:.2} unique codes\")"
   ]
  },
  {
   "cell_type": "code",
   "execution_count": null,
   "id": "bf3778bc",
   "metadata": {
    "code_folding": [],
    "slideshow": {
     "slide_type": "slide"
    }
   },
   "outputs": [],
   "source": [
    "# subsampling for constrained k\n",
    "\n",
    "select = range(0, 20, 5) #select a subset of k in sets of whatever\n",
    "df_ = df[df['k'].isin(select)] #use this frame from here on out!\n",
    "\n",
    "hue_var = \"k\"\n",
    "ax = sns.lineplot(data = df_,\n",
    "                  x = 'n',\n",
    "                  y = 'num_unique',\n",
    "                  hue = hue_var)\n",
    "\n",
    "title = \"Unique sets of length $k$ across total pool of barcoding elements n.\"\n",
    "x = \"n, epitope pool size\"\n",
    "y = \"y, number of unique equal length sets\"\n",
    "\n",
    "ax = plot_params(ax, title,\n",
    "                 x, y, f\"${hue_var}$ values\",\n",
    "                 threshold, \n",
    "                 y_len = 20\n",
    "                 )\n",
    "\n",
    "hide_toggle()"
   ]
  },
  {
   "cell_type": "code",
   "execution_count": null,
   "id": "92696cfc",
   "metadata": {},
   "outputs": [],
   "source": [
    "# ax = sns.lineplot(data = df[df['solved']], x = 'n', y = 'num_unique', hue = \"k\")\n",
    "# ax.set_yscale('log')\n",
    "# ax.axhline(threshold)\n",
    "# ax = ax.set_title(f\"values of n choose k that solve the {threshold:.2}\")"
   ]
  },
  {
   "cell_type": "markdown",
   "id": "db54a8d1",
   "metadata": {
    "slideshow": {
     "slide_type": "slide"
    }
   },
   "source": [
    "# varying $k$ with constrained $n$"
   ]
  },
  {
   "cell_type": "code",
   "execution_count": null,
   "id": "37eee61e",
   "metadata": {
    "slideshow": {
     "slide_type": "skip"
    }
   },
   "outputs": [],
   "source": [
    "df = make_combinatorics(n=range(1,50,1), k = range(1,40,1))"
   ]
  },
  {
   "cell_type": "code",
   "execution_count": null,
   "id": "8fd32f16",
   "metadata": {
    "code_folding": [
     6
    ],
    "slideshow": {
     "slide_type": "subslide"
    }
   },
   "outputs": [],
   "source": [
    "### values as k varies with constrained n\n",
    "hue_var = \"n\"\n",
    "title = f\"Unique expressed sets as ${hue_var}$ varies.\"\n",
    "x = \"$k$, length of expressed set\"\n",
    "y = \"y, number of unique equal length sets\"\n",
    "\n",
    "ax = sns.lineplot(data=df,\n",
    "                  x='k',\n",
    "                  y='num_unique',\n",
    "                  hue=hue_var)\n",
    "ax = plot_params(ax, title,\n",
    "                 x, y, f\"${hue_var}$\",\n",
    "                 threshold, \n",
    "                 y_len = 20,\n",
    "#                  scale = ,\n",
    "                 )\n",
    "\n",
    "hide_toggle()"
   ]
  },
  {
   "cell_type": "code",
   "execution_count": null,
   "id": "c4b5059f",
   "metadata": {
    "code_folding": [],
    "scrolled": true,
    "slideshow": {
     "slide_type": "subslide"
    }
   },
   "outputs": [],
   "source": [
    "### sampling unique across k and holding n steady\n",
    "select = range(10, 40, 10)\n",
    "df_ = df[df['n'].isin(select)]\n",
    "\n",
    "title = \"Diversity as $n$ varies.\"\n",
    "# Diversity is maximized when $k=n/2$: each set sampling half the possible pool\"\n",
    "x = \"$k$, length of expressed set\"\n",
    "y = \"y, number of unique equal length sets\"\n",
    "hue_var = \"n\"\n",
    "\n",
    "ax = sns.lineplot(data = df_, x = 'k', y = 'num_unique', hue = hue_var)\n",
    "ax = plot_params(ax, title,\n",
    "                 x, y, f\"${hue_var}$\",\n",
    "                 threshold, \n",
    "#                  scale = None,\n",
    "                 y_len = 20\n",
    "                 )\n",
    "hide_toggle()\n"
   ]
  },
  {
   "cell_type": "markdown",
   "id": "9cffc034",
   "metadata": {
    "slideshow": {
     "slide_type": "slide"
    }
   },
   "source": [
    "# Synthesis constraints: cassette lengths and shuffled assembly\n",
    "___\n",
    "\n",
    "Given synthesis constraints, we can fit 3-4 epitopes on a single oligo synthesis as part of an oligo pool.\n",
    "\n",
    "However, we can combine cassettes (i.e. synthesize each cassette, bit length 3-4, and then assemble into a larger set of expressed epitopes).\n",
    "\n",
    "With some number of cassettes $c$, diversity is now ${\\frac{n}{c} \\choose k}$, and requires $n\\times c$ epitopes. \n",
    "This lets us reach more unique barcodes while maintaining a 3 or 4 bit synthesis & dropping the number of epitopes needed significantly (the point where $n \\choose 3$ = 1e6).\n",
    "\n",
    "* not currently accounting for collisions in unique space or bias in the biological assembly components"
   ]
  },
  {
   "cell_type": "markdown",
   "id": "304e85ed",
   "metadata": {
    "slideshow": {
     "slide_type": "subslide"
    }
   },
   "source": [
    "# $k$-bits at $c$ sites"
   ]
  },
  {
   "cell_type": "code",
   "execution_count": null,
   "id": "a3c031ad",
   "metadata": {
    "code_folding": []
   },
   "outputs": [],
   "source": [
    "def apply_cassette_math(unique_in_cassette, n_col, num_cassettes):\n",
    "    return pd.Series([unique_in_cassette**num_cassettes, #unique cassettets from n choose k\n",
    "                      n_col*num_cassettes, ##num epitopes needed\n",
    "                      num_cassettes]) #num cassettes we're mathing"
   ]
  },
  {
   "cell_type": "code",
   "execution_count": null,
   "id": "685debeb",
   "metadata": {
    "code_folding": []
   },
   "outputs": [],
   "source": [
    "def cassette_comb(df, c = range(1,5,1)):\n",
    "    '''iteratively apply cassette math for differing values of c'''\n",
    "    cs = c\n",
    "    dfs = []\n",
    "    for c in cs:\n",
    "        _df = df.copy()\n",
    "        _df[['total_diversity',\n",
    "           'total_epitopes_needed',\n",
    "           'c']] = df.apply(lambda x: cassette_math(x['num_unique'],\n",
    "                                                    x['n'],\n",
    "                                                    c), axis=1)\n",
    "        dfs.append(_df)\n",
    "    new_df = pd.concat(dfs)\n",
    "    return new_df.reset_index()"
   ]
  },
  {
   "cell_type": "code",
   "execution_count": null,
   "id": "f0b2ab75",
   "metadata": {
    "code_folding": []
   },
   "outputs": [],
   "source": [
    "df = make_combinatorics(n=range(1,20,1), k = range(3,9,1)) #make combinatorics df\n",
    "df = cassette_comb(df) #this is a little weird actually but workable"
   ]
  },
  {
   "cell_type": "code",
   "execution_count": null,
   "id": "7b481c2a",
   "metadata": {
    "code_folding": [
     9
    ]
   },
   "outputs": [],
   "source": [
    "## plotting at a selection of k\n",
    "_df = df[df['c'].isin([2,4])]\n",
    "_df = _df[_df['k'].isin([3,4])]\n",
    "\n",
    "_df = _df[_df['total_epitopes_needed'] <= 40]\n",
    "\n",
    "## plotting for real\n",
    "\n",
    "hue_var = \"c\"\n",
    "ax = sns.lineplot(data = _df,\n",
    "                  y = 'total_diversity',\n",
    "                  x = 'total_epitopes_needed',\n",
    "                  style = \"k\",\n",
    "                  hue = 'c')\n",
    "\n",
    "title = f\"Unique sets from $n/c$ choose $k$ (i.e. $c$ pools of non-overlapping $n$, and assembled for final $k*c$ bit expressed set).\"\n",
    "x = f\"$n$, number of total epitopes required (split between $c$ pools)\"\n",
    "y = \"y, number of unique expressed sets\"\n",
    "\n",
    "# ax.set_ylim(0, 10e9)\n",
    "\n",
    "ax = plot_params(ax, title,\n",
    "                 x, y, f\"${hue_var}$\",\n",
    "                 threshold, \n",
    "                 y_len = 20)\n",
    "\n",
    "hide_toggle()"
   ]
  },
  {
   "cell_type": "markdown",
   "id": "da6997bc",
   "metadata": {},
   "source": [
    "# $k$-bits at 3 sites\n",
    "Where each synthesis is 3 epitopes at 3 locations"
   ]
  },
  {
   "cell_type": "code",
   "execution_count": null,
   "id": "07e3bd60",
   "metadata": {
    "code_folding": [
     0
    ]
   },
   "outputs": [],
   "source": [
    "## math for 3 cassettes\n",
    "df = make_combinatorics(n=range(1,40,1), k = range(2,16,1))\n",
    "num_cassettes = 3\n",
    "\n",
    "df['total_diversity'] = df['num_unique']**num_cassettes\n",
    "df['total_epitopes_needed'] = df['n']*num_cassettes\n",
    "df['assembly_solved'] = df['total_diversity'].apply(lambda x : x>threshold)\n",
    "df['solved'] = df['num_unique'].apply(lambda x : x>threshold)"
   ]
  },
  {
   "cell_type": "code",
   "execution_count": null,
   "id": "ca0c0cca",
   "metadata": {
    "code_folding": [
     0
    ],
    "scrolled": true
   },
   "outputs": [],
   "source": [
    "##plotting\n",
    "\n",
    "_df = df[df['k'].isin([2,3,4])]\n",
    "\n",
    "hue_var = \"k\"\n",
    "ax = sns.lineplot(data = _df,\n",
    "                  y = 'total_diversity',\n",
    "                  x = 'total_epitopes_needed',\n",
    "                  hue = hue_var)\n",
    "\n",
    "\n",
    "\n",
    "title = f\"Unique sets from $n/{num_cassettes}$ choose $k$ (i.e.\\\n",
    "{num_cassettes} pools comprised of non-overlapping $n$, and all\\\n",
    "possible assembled for a final of a $k$*{num_cassettes} bit expressed set).\"\n",
    "x = f\"$n$, number of total epitopes required (split between {num_cassettes} pools)\"\n",
    "y = \"y, number of unique expressed sets\"\n",
    "\n",
    "\n",
    "ax = plot_params(ax, title,\n",
    "                 x, y, f\"${hue_var}$\",\n",
    "                 threshold, \n",
    "                 y_len = 20\n",
    "                 )\n",
    "# hide_toggle()\n",
    "\n",
    "\n",
    "\n",
    "\n",
    "\n",
    "# ax = sns.lineplot(data = _df,\n",
    "#                   y = 'total_diversity',\n",
    "#                   x = 'total_epitopes_needed',\n",
    "#                   hue = \"k\")\n",
    "\n",
    "# title = \"Unique sets from n/2 choose k (i.e. two part random-shuffle assembly).\\n\\\n",
    "# Combinatorics addressing synthesis length (assuming 300 bp from Twist).\"\n",
    "# x = \"n, number of total epitopes required for assembly\"\n",
    "# y = \"y, number of unique sets\"\n",
    "\n",
    "# ax = plot_params(ax, title, x, y, threshold, y_len=20, x_len = 20)\n",
    "# hide_toggle()\n"
   ]
  },
  {
   "cell_type": "code",
   "execution_count": null,
   "id": "3e892cfe",
   "metadata": {},
   "outputs": [],
   "source": [
    "## scratch work below this"
   ]
  },
  {
   "cell_type": "markdown",
   "id": "1c1942e7",
   "metadata": {},
   "source": [
    "# $n$ choose $k$ with replacement -- $ \\left( n \\choose k \\right)$\n",
    "* in analysis, if set length isn't controlled we _can_ deal with that (just more difficult) -- introduces concept of dropout\n",
    "* _but_ gives us the integral -- diversity is all set lengths -- n choose k with replacement, rather\n",
    "\n",
    "* https://www.johndcook.com/blog/select_with_replacement/"
   ]
  },
  {
   "cell_type": "code",
   "execution_count": null,
   "id": "e83bd1fc",
   "metadata": {
    "code_folding": [],
    "slideshow": {
     "slide_type": "skip"
    }
   },
   "outputs": [],
   "source": [
    "def vary_r(n,k):\n",
    "    return comb(n, k, repetition=True) #combine with repeats\n",
    "\n",
    "def make_combinatorics_r(n = range(0,60,1), k = range(3, 20)):\n",
    "    ks = k\n",
    "    dfs = []\n",
    "    for k in ks:\n",
    "        df = pd.DataFrame(data = {'n':n})\n",
    "        df['k'] = k\n",
    "        df['num_unique'] = df['n'].apply(lambda n : vary_r(n, k))\n",
    "        dfs.append(df)\n",
    "    df = pd.concat(dfs)\n",
    "    return df.reset_index()"
   ]
  },
  {
   "cell_type": "code",
   "execution_count": null,
   "id": "98450fc8",
   "metadata": {
    "code_folding": [],
    "slideshow": {
     "slide_type": "subslide"
    }
   },
   "outputs": [],
   "source": [
    "## df test\n",
    "df = make_combinatorics_r(n=range(5,40,1), k = range(3,40,1))\n",
    "df.head(10)"
   ]
  },
  {
   "cell_type": "markdown",
   "id": "3e5b9eee",
   "metadata": {
    "slideshow": {
     "slide_type": "slide"
    }
   },
   "source": [
    "# variable $n$, constrained $k$"
   ]
  },
  {
   "cell_type": "code",
   "execution_count": null,
   "id": "78716a5f",
   "metadata": {
    "slideshow": {
     "slide_type": "skip"
    }
   },
   "outputs": [],
   "source": [
    "df = make_combinatorics_r(n=range(1,40,1), k = range(1,40,1))"
   ]
  },
  {
   "cell_type": "code",
   "execution_count": null,
   "id": "26635987",
   "metadata": {
    "slideshow": {
     "slide_type": "skip"
    }
   },
   "outputs": [],
   "source": [
    "## the ful range of varying n, constrained k\n",
    "ax = sns.lineplot(data = df,\n",
    "                  x = 'n',\n",
    "                  y = 'num_unique', \n",
    "                  hue = \"k\")\n",
    "title = \"Unique sets of up to length k across total pool of barcoding elements $n$\"\n",
    "\n",
    "ax = plot_params(ax, \n",
    "                 title,\n",
    "                 threshold = threshold, \n",
    "                 varied_by = \"$k$ values\")\n",
    "\n",
    "\n",
    "# hide_toggle()"
   ]
  },
  {
   "cell_type": "code",
   "execution_count": null,
   "id": "78dffa56",
   "metadata": {
    "slideshow": {
     "slide_type": "skip"
    }
   },
   "outputs": [],
   "source": [
    "# ax = sns.lineplot(data = df,\n",
    "#                   x = 'n',\n",
    "#                   y = 'num_unique', \n",
    "#                   hue = \"k\")\n",
    "# ax = plot_params(x,)\n",
    "# ax.axhline(threshold)\n",
    "\n",
    "\n",
    "# ax = ax.set_title(f\"Varying n across constrained set length k. \\\n",
    "# \\nBlue line indicates {threshold:.2} unique codes\")"
   ]
  },
  {
   "cell_type": "code",
   "execution_count": null,
   "id": "c2f0041b",
   "metadata": {
    "code_folding": [],
    "slideshow": {
     "slide_type": "slide"
    }
   },
   "outputs": [],
   "source": [
    "# subsampling for constrained k\n",
    "\n",
    "select = range(0, 40, 10) #select a subset of k in sets of whatever\n",
    "df_ = df[df['k'].isin(select)] #use this frame from here on out!\n",
    "\n",
    "hue_var = \"k\"\n",
    "ax = sns.lineplot(data = df_,\n",
    "                  x = 'n',\n",
    "                  y = 'num_unique',\n",
    "                  hue = hue_var)\n",
    "\n",
    "title = \"Unique sets up to length $k$ across total pool of barcoding elements $n$.\"\n",
    "x = \"n, epitope pool size\"\n",
    "y = \"y, number of unique equal length sets\"\n",
    "\n",
    "ax = plot_params(ax, title,\n",
    "                 x, y, f\"${hue_var}$ values\",\n",
    "                 threshold, \n",
    "                 y_len = 20\n",
    "                 )\n",
    "\n",
    "hide_toggle()"
   ]
  },
  {
   "cell_type": "code",
   "execution_count": null,
   "id": "9f2ea96b",
   "metadata": {},
   "outputs": [],
   "source": [
    "# ax = sns.lineplot(data = df[df['solved']], x = 'n', y = 'num_unique', hue = \"k\")\n",
    "# ax.set_yscale('log')\n",
    "# ax.axhline(threshold)\n",
    "# ax = ax.set_title(f\"values of n choose k that solve the {threshold:.2}\")"
   ]
  },
  {
   "cell_type": "markdown",
   "id": "32839a10",
   "metadata": {
    "slideshow": {
     "slide_type": "slide"
    }
   },
   "source": [
    "# varying $k$ with constrained $n$"
   ]
  },
  {
   "cell_type": "code",
   "execution_count": null,
   "id": "7b90fb3a",
   "metadata": {
    "slideshow": {
     "slide_type": "skip"
    }
   },
   "outputs": [],
   "source": [
    "df = make_combinatorics_r(n=range(1,50,1), k = range(3,40,1))"
   ]
  },
  {
   "cell_type": "code",
   "execution_count": null,
   "id": "3d3c7412",
   "metadata": {
    "code_folding": [
     6
    ],
    "slideshow": {
     "slide_type": "subslide"
    }
   },
   "outputs": [],
   "source": [
    "### values as k varies with constrained n\n",
    "hue_var = \"n\"\n",
    "title = f\"Unique expressed sets as ${hue_var}$ varies.\"\n",
    "x = \"$k$, length of expressed set\"\n",
    "y = \"y, number of unique equal length sets\"\n",
    "\n",
    "ax = sns.lineplot(data=df,\n",
    "                  x='k',\n",
    "                  y='num_unique',\n",
    "                  hue=hue_var)\n",
    "ax = plot_params(ax, title,\n",
    "                 x, y, f\"${hue_var}$\",\n",
    "                 threshold, \n",
    "                 y_len = 20\n",
    "                 )\n",
    "\n",
    "hide_toggle()"
   ]
  },
  {
   "cell_type": "code",
   "execution_count": null,
   "id": "ca396750",
   "metadata": {
    "code_folding": [
     10
    ],
    "scrolled": true,
    "slideshow": {
     "slide_type": "subslide"
    }
   },
   "outputs": [],
   "source": [
    "### sampling unique across k and holding n steady\n",
    "select = range(10, 50, 10)\n",
    "df_ = df[df['n'].isin(select)]\n",
    "\n",
    "title = \"Diversity as $n$ increases.\"\n",
    "x = \"$k$, length of expressed set\"\n",
    "y = \"y, number of unique equal length sets\"\n",
    "hue_var = \"n\"\n",
    "\n",
    "ax = sns.lineplot(data = df_, x = 'k', y = 'num_unique', hue = hue_var)\n",
    "ax = plot_params(ax, title,\n",
    "                 x, y, f\"${hue_var}$\",\n",
    "                 threshold, \n",
    "                 y_len = 20\n",
    "                 )\n",
    "hide_toggle()\n"
   ]
  },
  {
   "cell_type": "markdown",
   "id": "d7ffd7fb",
   "metadata": {
    "slideshow": {
     "slide_type": "slide"
    }
   },
   "source": [
    "# Synthesis constraints: cassette lengths and shuffled assembly\n",
    "___\n",
    "\n",
    "Given synthesis constraints, we can fit 3-4 epitopes on a single oligo synthesis as part of an oligo pool.\n",
    "\n",
    "However, we can combine cassettes (i.e. synthesize each cassette, bit length 3-4, and then assemble into a larger set of expressed epitopes).\n",
    "\n",
    "With some number of cassettes $c$, diversity is now ${\\frac{n}{c} \\choose k}$, and requires $n\\times c$ epitopes. \n",
    "This lets us reach more unique barcodes while maintaining a 3 or 4 bit synthesis & dropping the number of epitopes needed significantly (the point where $n \\choose 3$ = 1e6).\n",
    "\n",
    "* not currently accounting for collisions in unique space or bias in the biological assembly components"
   ]
  },
  {
   "cell_type": "markdown",
   "id": "5def4245",
   "metadata": {
    "slideshow": {
     "slide_type": "subslide"
    }
   },
   "source": [
    "# $k$-bits at two locations"
   ]
  },
  {
   "cell_type": "code",
   "execution_count": null,
   "id": "0fe4e119",
   "metadata": {
    "code_folding": []
   },
   "outputs": [],
   "source": [
    "## math for cassette combinatorics\n",
    "num_cassettes = 2\n",
    "df = make_combinatorics_r(n=range(1,40,1), k = range(3,20,1))\n",
    "df['total_diversity'] = df['num_unique']**num_cassettes\n",
    "df['total_epitopes_needed'] = df['n']*num_cassettes\n",
    "df['assembly_solved'] = df['total_diversity'].apply(lambda x : x>threshold)\n",
    "df['solved'] = df['num_unique'].apply(lambda x : x>threshold)"
   ]
  },
  {
   "cell_type": "code",
   "execution_count": null,
   "id": "d1e3baeb",
   "metadata": {
    "code_folding": [
     4
    ]
   },
   "outputs": [],
   "source": [
    "## plotting at a selection of k\n",
    "select = range(0, 20, 5)\n",
    "_df = df[df['k'].isin(select)]\n",
    "\n",
    "hue_var = \"k\"\n",
    "ax = sns.lineplot(data = _df,\n",
    "                  y = 'total_diversity',\n",
    "                  x = 'total_epitopes_needed',\n",
    "                  hue = hue_var)\n",
    "\n",
    "title = f\"Unique sets from $n/{num_cassettes}$ choose $k$ with replacement (i.e. two \\\n",
    "pools comprised of non-overlapping $n$), where each pool is between 1 and $k$ bits long.\"\n",
    "x = f\"$n$, number of total epitopes required (split between {num_cassettes} pools)\"\n",
    "y = \"y, number of unique expressed sets\"\n",
    "\n",
    "ax = plot_params(ax, title,\n",
    "                 x, y, f\"${hue_var}$\",\n",
    "                 threshold, \n",
    "                 y_len = 20)\n",
    "hide_toggle()\n"
   ]
  },
  {
   "cell_type": "markdown",
   "id": "b4969338",
   "metadata": {},
   "source": [
    "# $k$-bits at 3 sites\n",
    "Where each synthesis is 3 epitopes at 3 locations"
   ]
  },
  {
   "cell_type": "code",
   "execution_count": null,
   "id": "f4a791fd",
   "metadata": {
    "code_folding": []
   },
   "outputs": [],
   "source": [
    "## math for 3 cassettes\n",
    "df = make_combinatorics(n=range(1,40,1), k = range(2,16,1))\n",
    "num_cassettes = 3\n",
    "\n",
    "df['total_diversity'] = df['num_unique']**num_cassettes\n",
    "df['total_epitopes_needed'] = df['n']*num_cassettes\n",
    "df['assembly_solved'] = df['total_diversity'].apply(lambda x : x>threshold)\n",
    "df['solved'] = df['num_unique'].apply(lambda x : x>threshold)"
   ]
  },
  {
   "cell_type": "code",
   "execution_count": null,
   "id": "42efd5f4",
   "metadata": {
    "code_folding": [
     0
    ],
    "scrolled": true
   },
   "outputs": [],
   "source": [
    "##plotting\n",
    "\n",
    "_df = df[df['k'].isin([2,3,4])]\n",
    "\n",
    "hue_var = \"k\"\n",
    "ax = sns.lineplot(data = _df,\n",
    "                  y = 'total_diversity',\n",
    "                  x = 'total_epitopes_needed',\n",
    "                  hue = hue_var)\n",
    "\n",
    "\n",
    "\n",
    "title = f\"Unique sets from $n/{num_cassettes}$ choose $k$ (i.e.\\\n",
    "{num_cassettes} pools comprised of non-overlapping $n$, and all\\\n",
    "possible assembled for a final of a $k$*{num_cassettes} bit expressed set).\"\n",
    "x = f\"$n$, number of total epitopes required (split between {num_cassettes} pools)\"\n",
    "y = \"y, number of unique expressed sets\"\n",
    "\n",
    "\n",
    "ax = plot_params(ax, title,\n",
    "                 x, y, f\"${hue_var}$\",\n",
    "                 threshold, \n",
    "                 y_len = 20\n",
    "                 )\n",
    "# hide_toggle()\n",
    "\n",
    "\n",
    "\n",
    "\n",
    "\n",
    "# ax = sns.lineplot(data = _df,\n",
    "#                   y = 'total_diversity',\n",
    "#                   x = 'total_epitopes_needed',\n",
    "#                   hue = \"k\")\n",
    "\n",
    "# title = \"Unique sets from n/2 choose k (i.e. two part random-shuffle assembly).\\n\\\n",
    "# Combinatorics addressing synthesis length (assuming 300 bp from Twist).\"\n",
    "# x = \"n, number of total epitopes required for assembly\"\n",
    "# y = \"y, number of unique sets\"\n",
    "\n",
    "# ax = plot_params(ax, title, x, y, threshold, y_len=20, x_len = 20)\n",
    "# hide_toggle()\n"
   ]
  },
  {
   "cell_type": "code",
   "execution_count": null,
   "id": "cc1b620c",
   "metadata": {},
   "outputs": [],
   "source": []
  },
  {
   "cell_type": "code",
   "execution_count": null,
   "id": "4e701072",
   "metadata": {},
   "outputs": [],
   "source": [
    "min_df = df[df['solved']].groupby(\"n\").min().reset_index()"
   ]
  },
  {
   "cell_type": "code",
   "execution_count": null,
   "id": "c47045a2",
   "metadata": {},
   "outputs": [],
   "source": [
    "df[df['assembly_solved']].groupby(\"n\").min()"
   ]
  },
  {
   "cell_type": "code",
   "execution_count": null,
   "id": "ed609362",
   "metadata": {},
   "outputs": [],
   "source": [
    "min_df.sort_values('n')"
   ]
  },
  {
   "cell_type": "code",
   "execution_count": null,
   "id": "e7de4c68",
   "metadata": {},
   "outputs": [],
   "source": [
    "ax = sns.relplot(x='k', y='n', data=min_df)\n",
    "# ax.set_title(f\"minimum nCk combo\\nthat crosses {threshold:e} threshold\")"
   ]
  },
  {
   "cell_type": "code",
   "execution_count": null,
   "id": "4a0834b1",
   "metadata": {},
   "outputs": [],
   "source": [
    "# min_df = df[df['solved it! assembly']].groupby('epitope_ct_needed').min().reset_index()"
   ]
  },
  {
   "cell_type": "code",
   "execution_count": null,
   "id": "86968d34",
   "metadata": {},
   "outputs": [],
   "source": [
    "#min_df = df[df['solved it! assembly']].groupby().min().reset_index()"
   ]
  },
  {
   "cell_type": "code",
   "execution_count": null,
   "id": "dddffb53",
   "metadata": {},
   "outputs": [],
   "source": [
    "#min_df.sort_values(\"epitope_ct_needed\")"
   ]
  },
  {
   "cell_type": "code",
   "execution_count": null,
   "id": "deed2b1b",
   "metadata": {},
   "outputs": [],
   "source": [
    "ax = sns.scatterplot(x='k', y='epitope_ct_needed', data=min_df)\n",
    "ax.set_title(f\"minimum # of a n/k combo that crosses {threshold} threshold\")"
   ]
  },
  {
   "cell_type": "code",
   "execution_count": null,
   "id": "623fe750",
   "metadata": {},
   "outputs": [],
   "source": [
    "min_df = df[df['solved it!']].groupby('k').min().sort_values('k').reset_index()\n",
    "min_df\n",
    "\n",
    "# when does [x choose 3]^2 cross threshold"
   ]
  },
  {
   "cell_type": "code",
   "execution_count": null,
   "id": "d3da9682",
   "metadata": {},
   "outputs": [],
   "source": [
    "ax = sns.scatterplot(x='n', y='k', data=min_df)\n",
    "ax.set_title(f\"minimum nCk combo\\nthat crosses {threshold:e} threshold\")"
   ]
  },
  {
   "cell_type": "code",
   "execution_count": null,
   "id": "dc651761",
   "metadata": {},
   "outputs": [],
   "source": []
  }
 ],
 "metadata": {
  "celltoolbar": "Slideshow",
  "kernelspec": {
   "display_name": "Python 3 (ipykernel)",
   "language": "python",
   "name": "python3"
  },
  "language_info": {
   "codemirror_mode": {
    "name": "ipython",
    "version": 3
   },
   "file_extension": ".py",
   "mimetype": "text/x-python",
   "name": "python",
   "nbconvert_exporter": "python",
   "pygments_lexer": "ipython3",
   "version": "3.9.7"
  }
 },
 "nbformat": 4,
 "nbformat_minor": 5
}
