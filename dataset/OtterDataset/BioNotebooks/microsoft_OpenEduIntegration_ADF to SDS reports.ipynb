{
  "metadata": {
    "saveOutput": true,
    "language_info": {
      "name": "python"
    }
  },
  "nbformat": 4,
  "nbformat_minor": 2,
  "cells": [
    {
      "cell_type": "markdown",
      "metadata": {},
      "source": [
        "## This notebook provides basic queries for exploring data issues regarding the ETL process for integration with SDS.\n",
        "\n",
        "You'll need to have an instance of Synapse workspace in Azure, and will need to grant your synapse instance the role assignment \"Storage Blob Data Contributor\" for your storage account.\n",
        ""
      ],
      "attachments": {}
    },
    {
      "cell_type": "code",
      "execution_count": 57,
      "outputs": [],
      "metadata": {},
      "source": [
        "data_path = 'abfss://sds@stcontososdsetl.dfs.core.windows.net/2020-10-05T1150_09/profile1'\n",
        "\n",
        "# Load the inbound data\n",
        "sqlContext.registerDataFrameAsTable(spark.read.csv(f'{data_path}/school.csv', header='true'), 'school')\n",
        "sqlContext.registerDataFrameAsTable(spark.read.csv(f'{data_path}/section.csv', header='true'), 'section')\n",
        "sqlContext.registerDataFrameAsTable(spark.read.csv(f'{data_path}/teacher.csv', header='true'), 'teacher')\n",
        "sqlContext.registerDataFrameAsTable(spark.read.csv(f'{data_path}/teacherroster.csv', header='true'), 'teacherroster')\n",
        "sqlContext.registerDataFrameAsTable(spark.read.csv(f'{data_path}/student.csv', header='true'), 'student')\n",
        "sqlContext.registerDataFrameAsTable(spark.read.csv(f'{data_path}/studentenrollment.csv', header='true'), 'studentenrollment')\n",
        "\n",
        "# Load the directly invalidated data (data with missing required fields)\n",
        "sqlContext.registerDataFrameAsTable(spark.read.csv(f'{data_path}/invalid/invalid_school_records.csv', header='true'), 'i_school')\n",
        "sqlContext.registerDataFrameAsTable(spark.read.csv(f'{data_path}/invalid/invalid_section_records.csv', header='true'), 'i_section')\n",
        "sqlContext.registerDataFrameAsTable(spark.read.csv(f'{data_path}/invalid/invalid_teacher_records.csv', header='true'), 'i_teacher')\n",
        "sqlContext.registerDataFrameAsTable(spark.read.csv(f'{data_path}/invalid/invalid_teacherroster_records.csv', header='true'), 'i_teacherroster')\n",
        "sqlContext.registerDataFrameAsTable(spark.read.csv(f'{data_path}/invalid/invalid_studentenrollment_records.csv', header='true'), 'i_studentenrollment')\n",
        "sqlContext.registerDataFrameAsTable(spark.read.csv(f'{data_path}/invalid/invalid_student_records.csv', header='true'), 'i_student')\n",
        "\n",
        "# Now load the validated data\n",
        "sqlContext.registerDataFrameAsTable(spark.read.csv(f'{data_path}/validated/school.csv', header='true'), 'v_school')\n",
        "sqlContext.registerDataFrameAsTable(spark.read.csv(f'{data_path}/validated/section.csv', header='true'), 'v_section')\n",
        "sqlContext.registerDataFrameAsTable(spark.read.csv(f'{data_path}/validated/teacher.csv', header='true'), 'v_teacher')\n",
        "sqlContext.registerDataFrameAsTable(spark.read.csv(f'{data_path}/validated/teacherroster.csv', header='true'), 'v_teacherroster')\n",
        "sqlContext.registerDataFrameAsTable(spark.read.csv(f'{data_path}/validated/studentenrollment.csv', header='true'), 'v_studentenrollment')\n",
        "sqlContext.registerDataFrameAsTable(spark.read.csv(f'{data_path}/validated/student.csv', header='true'), 'v_student')"
      ],
      "attachments": {}
    },
    {
      "cell_type": "code",
      "execution_count": 58,
      "outputs": [
        {
          "output_type": "execute_result",
          "execution_count": 61,
          "data": {
            "text/plain": "schools: 6 -> 6 (0)\nsections: 156 -> 142 (14)\nteachers: 12 -> 11 (1)\nteacherroster: 154 -> 142 (12)\nstudent: 60 -> 60 (0)\nstudentenrollment: 720 -> 650 (70)"
          },
          "metadata": {}
        }
      ],
      "metadata": {},
      "source": [
        "school_count = sqlContext.sql('select count(*) x from school').first()['x']\n",
        "teacher_count = sqlContext.sql('select count(*) x from teacher').first()['x']\n",
        "teacherroster_count = sqlContext.sql('select count(*) x from teacherroster').first()['x']\n",
        "section_count = sqlContext.sql('select count(*) x from section').first()['x']\n",
        "student_count = sqlContext.sql('select count(*) x from student').first()['x']\n",
        "studentenrollment_count = sqlContext.sql('select count(*) x from studentenrollment').first()['x']\n",
        "\n",
        "v_school_count = sqlContext.sql('select count(*) x from v_school').first()['x']\n",
        "v_teacher_count = sqlContext.sql('select count(*) x from v_teacher').first()['x']\n",
        "v_teacherroster_count = sqlContext.sql('select count(*) x from v_teacherroster').first()['x']\n",
        "v_section_count = sqlContext.sql('select count(*) x from v_section').first()['x']\n",
        "v_student_count = sqlContext.sql('select count(*) x from v_student').first()['x']\n",
        "v_studentenrollment_count = sqlContext.sql('select count(*) x from v_studentenrollment').first()['x']\n",
        "\n",
        "print(f'schools: {school_count} -> {v_school_count} ({school_count - v_school_count})\\nsections: {section_count} -> {v_section_count} ({section_count - v_section_count})\\nteachers: {teacher_count} -> {v_teacher_count} ({teacher_count - v_teacher_count})\\nteacherroster: {teacherroster_count} -> {v_teacherroster_count} ({teacherroster_count-v_teacherroster_count})\\nstudent: {student_count} -> {v_student_count} ({student_count-v_student_count})\\nstudentenrollment: {studentenrollment_count} -> {v_studentenrollment_count} ({studentenrollment_count-v_studentenrollment_count})')"
      ],
      "attachments": {}
    },
    {
      "cell_type": "code",
      "execution_count": 59,
      "outputs": [
        {
          "output_type": "execute_result",
          "execution_count": 62,
          "data": {
            "application/json": {
              "table": {
                "rows": [
                  {
                    "Term SIS ID": "term5",
                    "Term Name": "Fall Semester",
                    "Term StartDate": "9/1/2019",
                    "Course Number": "47",
                    "Term EndDate": "12/22/2019",
                    "Section Number": "106",
                    "School SIS ID": "sch5",
                    "Periods": "2",
                    "Course Description": "Instruction covering Technology - Programming",
                    "SIS ID": "106",
                    "Course SIS ID": "course47",
                    "Course Subject": "Technology - Programming",
                    "Section Name": "Technology - Programming 106",
                    "Course Name": "Technology - Programming",
                    "Status": "Active"
                  },
                  {
                    "Term SIS ID": "term5",
                    "Term Name": "Fall Semester",
                    "Term StartDate": "9/1/2019",
                    "Course Number": "43",
                    "Term EndDate": "12/22/2019",
                    "Section Number": "108",
                    "School SIS ID": "sch5",
                    "Periods": "2",
                    "Course Description": "Instruction covering English Language",
                    "SIS ID": "108",
                    "Course SIS ID": "course43",
                    "Course Subject": "English Language",
                    "Section Name": "English Language 108",
                    "Course Name": "English Language",
                    "Status": "Active"
                  },
                  {
                    "Term SIS ID": "term5",
                    "Term Name": "Fall Semester",
                    "Term StartDate": "9/1/2019",
                    "Course Number": "44",
                    "Term EndDate": "12/22/2019",
                    "Section Number": "110",
                    "School SIS ID": "sch5",
                    "Periods": "2",
                    "Course Description": "Instruction covering History - World History",
                    "SIS ID": "110",
                    "Course SIS ID": "course44",
                    "Course Subject": "History - World History",
                    "Section Name": "History - World History 110",
                    "Course Name": "History - World History",
                    "Status": "Active"
                  },
                  {
                    "Term SIS ID": "term5",
                    "Term Name": "Fall Semester",
                    "Term StartDate": "9/1/2019",
                    "Course Number": "49",
                    "Term EndDate": "12/22/2019",
                    "Section Number": "112",
                    "School SIS ID": "sch5",
                    "Periods": "2",
                    "Course Description": "Instruction covering Art",
                    "SIS ID": "112",
                    "Course SIS ID": "course49",
                    "Course Subject": "Art",
                    "Section Name": "Art 112",
                    "Course Name": "Art",
                    "Status": "Active"
                  },
                  {
                    "Term SIS ID": "term5",
                    "Term Name": "Fall Semester",
                    "Term StartDate": "9/1/2019",
                    "Course Number": "45",
                    "Term EndDate": "12/22/2019",
                    "Section Number": "114",
                    "School SIS ID": "sch5",
                    "Periods": "2",
                    "Course Description": "Instruction covering Science Biology",
                    "SIS ID": "114",
                    "Course SIS ID": "course45",
                    "Course Subject": "Science Biology",
                    "Section Name": "Science Biology 114",
                    "Course Name": "Science Biology",
                    "Status": "Active"
                  },
                  {
                    "Term SIS ID": "term5",
                    "Term Name": "Fall Semester",
                    "Term StartDate": "9/1/2019",
                    "Course Number": "45",
                    "Term EndDate": "12/22/2019",
                    "Section Number": "116",
                    "School SIS ID": "sch5",
                    "Periods": "2",
                    "Course Description": "Instruction covering Science Biology",
                    "SIS ID": "116",
                    "Course SIS ID": "course45",
                    "Course Subject": "Science Biology",
                    "Section Name": "Science Biology 116",
                    "Course Name": "Science Biology",
                    "Status": "Active"
                  },
                  {
                    "Term SIS ID": "term6",
                    "Term Name": "Spring Semester",
                    "Term StartDate": "1/21/2020",
                    "Course Number": "43",
                    "Term EndDate": "5/30/2020",
                    "Section Number": "119",
                    "School SIS ID": "sch5",
                    "Periods": "2",
                    "Course Description": "Instruction covering English Language",
                    "SIS ID": "119",
                    "Course SIS ID": "course43",
                    "Course Subject": "English Language",
                    "Section Name": "English Language 119",
                    "Course Name": "English Language",
                    "Status": "Active"
                  },
                  {
                    "Term SIS ID": "term6",
                    "Term Name": "Spring Semester",
                    "Term StartDate": "1/21/2020",
                    "Course Number": "41",
                    "Term EndDate": "5/30/2020",
                    "Section Number": "121",
                    "School SIS ID": "sch5",
                    "Periods": "2",
                    "Course Description": "Instruction covering Math - Algebra",
                    "SIS ID": "121",
                    "Course SIS ID": "course41",
                    "Course Subject": "Math - Algebra",
                    "Section Name": "Math - Algebra 121",
                    "Course Name": "Math - Algebra",
                    "Status": "Active"
                  },
                  {
                    "Term SIS ID": "term6",
                    "Term Name": "Spring Semester",
                    "Term StartDate": "1/21/2020",
                    "Course Number": "44",
                    "Term EndDate": "5/30/2020",
                    "Section Number": "123",
                    "School SIS ID": "sch5",
                    "Periods": "2",
                    "Course Description": "Instruction covering History - World History",
                    "SIS ID": "123",
                    "Course SIS ID": "course44",
                    "Course Subject": "History - World History",
                    "Section Name": "History - World History 123",
                    "Course Name": "History - World History",
                    "Status": "Active"
                  },
                  {
                    "Term SIS ID": "term6",
                    "Term Name": "Spring Semester",
                    "Term StartDate": "1/21/2020",
                    "Course Number": "50",
                    "Term EndDate": "5/30/2020",
                    "Section Number": "125",
                    "School SIS ID": "sch5",
                    "Periods": "2",
                    "Course Description": "Instruction covering Music",
                    "SIS ID": "125",
                    "Course SIS ID": "course50",
                    "Course Subject": "Music",
                    "Section Name": "Music 125",
                    "Course Name": "Music",
                    "Status": "Active"
                  },
                  {
                    "Term SIS ID": "term6",
                    "Term Name": "Spring Semester",
                    "Term StartDate": "1/21/2020",
                    "Course Number": "49",
                    "Term EndDate": "5/30/2020",
                    "Section Number": "127",
                    "School SIS ID": "sch5",
                    "Periods": "2",
                    "Course Description": "Instruction covering Art",
                    "SIS ID": "127",
                    "Course SIS ID": "course49",
                    "Course Subject": "Art",
                    "Section Name": "Art 127",
                    "Course Name": "Art",
                    "Status": "Active"
                  },
                  {
                    "Term SIS ID": "term6",
                    "Term Name": "Spring Semester",
                    "Term StartDate": "1/21/2020",
                    "Course Number": "46",
                    "Term EndDate": "5/30/2020",
                    "Section Number": "129",
                    "School SIS ID": "sch5",
                    "Periods": "2",
                    "Course Description": "Instruction covering Health",
                    "SIS ID": "129",
                    "Course SIS ID": "course46",
                    "Course Subject": "Health",
                    "Section Name": "Health 129",
                    "Course Name": "Health",
                    "Status": "Active"
                  },
                  {
                    "Term SIS ID": "term10",
                    "Term Name": "Spring Semester",
                    "Term StartDate": "1/21/2020",
                    "Course Number": "84",
                    "Term EndDate": "5/30/2020",
                    "Section Number": "222",
                    "School SIS ID": "sch9",
                    "Periods": "2",
                    "Course Description": "Instruction covering History - World History",
                    "SIS ID": "222",
                    "Course SIS ID": "course84",
                    "Course Subject": "History - World History",
                    "Section Name": "History - World History 222",
                    "Course Name": "History - World History",
                    "Status": "Active"
                  },
                  {
                    "Term SIS ID": "term10",
                    "Term Name": "Spring Semester",
                    "Term StartDate": "1/21/2020",
                    "Course Number": "89",
                    "Term EndDate": "5/30/2020",
                    "Section Number": "233",
                    "School SIS ID": "sch9",
                    "Periods": "2",
                    "Course Description": "Instruction covering Art",
                    "SIS ID": "233",
                    "Course SIS ID": "course89",
                    "Course Subject": "Art",
                    "Section Name": "Art 233",
                    "Course Name": "Art",
                    "Status": "Active"
                  }
                ],
                "schema": {
                  "SIS ID": "string",
                  "School SIS ID": "string",
                  "Section Name": "string",
                  "Section Number": "string",
                  "Term SIS ID": "string",
                  "Term Name": "string",
                  "Term StartDate": "string",
                  "Term EndDate": "string",
                  "Course SIS ID": "string",
                  "Course Name": "string",
                  "Course Number": "string",
                  "Course Description": "string",
                  "Course Subject": "string",
                  "Periods": "string",
                  "Status": "string"
                }
              },
              "isSummary": false,
              "language": "scala"
            }
          },
          "metadata": {}
        }
      ],
      "metadata": {
        "diagram": {
          "activateDiagramType": 1,
          "chartConfig": {
            "category": "bar",
            "keys": [
              "SIS ID"
            ],
            "values": [
              "SIS ID"
            ],
            "yLabel": "SIS ID",
            "xLabel": "SIS ID",
            "aggregation": "COUNT",
            "aggByBackend": false
          },
          "aggData": "{\"SIS ID\":{\"106\":1,\"108\":1,\"110\":1,\"112\":1,\"114\":1,\"116\":1,\"119\":1,\"121\":1,\"123\":1,\"125\":1,\"127\":1,\"129\":1,\"222\":1,\"233\":1}}",
          "isSummary": false,
          "previewData": {
            "filter": null
          },
          "isSql": false
        }
      },
      "source": [
        "# Get a list of all the sections that were found to be invalid (the delta between what came in and what is being sent to SDS)\n",
        "section_delta = sqlContext.sql('select * from section where `SIS ID` not in (select `SIS ID` from v_section)')\n",
        "display(section_delta)\n",
        "# write out the delta to a file\n",
        "#section_delta.write.mode('overwrite').csv(f'{data_path}/section_delta', header = 'true')"
      ],
      "attachments": {}
    },
    {
      "cell_type": "code",
      "execution_count": 61,
      "outputs": [
        {
          "output_type": "execute_result",
          "execution_count": 64,
          "data": {
            "text/plain": "Total of 14 sections with no assigned teacher.\n+------+-------------+--------------------+--------------+-----------+---------------+--------------+------------+-------------+--------------------+-------------+--------------------+--------------------+-------+------+--------------------+\n|SIS ID|School SIS ID|        Section Name|Section Number|Term SIS ID|      Term Name|Term StartDate|Term EndDate|Course SIS ID|         Course Name|Course Number|  Course Description|      Course Subject|Periods|Status|teacherroster SIS ID|\n+------+-------------+--------------------+--------------+-----------+---------------+--------------+------------+-------------+--------------------+-------------+--------------------+--------------------+-------+------+--------------------+\n|   106|         sch5|Technology - Prog...|           106|      term5|  Fall Semester|      9/1/2019|  12/22/2019|     course47|Technology - Prog...|           47|Instruction cover...|Technology - Prog...|      2|Active|                null|\n|   108|         sch5|English Language 108|           108|      term5|  Fall Semester|      9/1/2019|  12/22/2019|     course43|    English Language|           43|Instruction cover...|    English Language|      2|Active|                null|\n|   110|         sch5|History - World H...|           110|      term5|  Fall Semester|      9/1/2019|  12/22/2019|     course44|History - World H...|           44|Instruction cover...|History - World H...|      2|Active|                null|\n|   112|         sch5|             Art 112|           112|      term5|  Fall Semester|      9/1/2019|  12/22/2019|     course49|                 Art|           49|Instruction cover...|                 Art|      2|Active|                null|\n|   114|         sch5| Science Biology 114|           114|      term5|  Fall Semester|      9/1/2019|  12/22/2019|     course45|     Science Biology|           45|Instruction cover...|     Science Biology|      2|Active|                null|\n|   116|         sch5| Science Biology 116|           116|      term5|  Fall Semester|      9/1/2019|  12/22/2019|     course45|     Science Biology|           45|Instruction cover...|     Science Biology|      2|Active|                null|\n|   119|         sch5|English Language 119|           119|      term6|Spring Semester|     1/21/2020|   5/30/2020|     course43|    English Language|           43|Instruction cover...|    English Language|      2|Active|                null|\n|   121|         sch5|  Math - Algebra 121|           121|      term6|Spring Semester|     1/21/2020|   5/30/2020|     course41|      Math - Algebra|           41|Instruction cover...|      Math - Algebra|      2|Active|                null|\n|   123|         sch5|History - World H...|           123|      term6|Spring Semester|     1/21/2020|   5/30/2020|     course44|History - World H...|           44|Instruction cover...|History - World H...|      2|Active|                null|\n|   125|         sch5|           Music 125|           125|      term6|Spring Semester|     1/21/2020|   5/30/2020|     course50|               Music|           50|Instruction cover...|               Music|      2|Active|                null|\n|   127|         sch5|             Art 127|           127|      term6|Spring Semester|     1/21/2020|   5/30/2020|     course49|                 Art|           49|Instruction cover...|                 Art|      2|Active|                null|\n|   129|         sch5|          Health 129|           129|      term6|Spring Semester|     1/21/2020|   5/30/2020|     course46|              Health|           46|Instruction cover...|              Health|      2|Active|                null|\n|   222|         sch9|History - World H...|           222|     term10|Spring Semester|     1/21/2020|   5/30/2020|     course84|History - World H...|           84|Instruction cover...|History - World H...|      2|Active|                null|\n|   233|         sch9|             Art 233|           233|     term10|Spring Semester|     1/21/2020|   5/30/2020|     course89|                 Art|           89|Instruction cover...|                 Art|      2|Active|                null|\n+------+-------------+--------------------+--------------+-----------+---------------+--------------+------------+-------------+--------------------+-------------+--------------------+--------------------+-------+------+--------------------+"
          },
          "metadata": {}
        }
      ],
      "metadata": {
        "diagram": {
          "activateDiagramType": 1,
          "chartConfig": {
            "category": "bar",
            "keys": [
              "School SIS ID"
            ],
            "values": [
              "School SIS ID"
            ],
            "yLabel": "School SIS ID",
            "xLabel": "School SIS ID",
            "aggregation": "COUNT",
            "aggByBackend": false
          },
          "aggData": "{\"School SIS ID\":{\"sch1\":26,\"sch2\":26}}",
          "isSummary": false,
          "previewData": {
            "filter": null
          },
          "isSql": false
        }
      },
      "source": [
        "# show all sections and assigned teachers\n",
        "#df = sqlContext.sql('select section.*, v_teacherroster.`SIS ID` as `teacherroster SIS ID` from section left join v_teacherroster on section.`SIS ID` = v_teacherroster.`Section SIS ID`')\n",
        "\n",
        "# get a list of sections that don't have a teacher assigned in teacherroster\n",
        "df = sqlContext.sql('select section.*, v_teacherroster.`SIS ID` as `teacherroster SIS ID` from section left join v_teacherroster on section.`SIS ID` = v_teacherroster.`Section SIS ID` where v_teacherroster.`SIS ID` is null')\n",
        "\n",
        "\n",
        "print(\"Total of \" + str(df.count()) + \" sections with no assigned teacher.\")\n",
        "df.show(df.count())\n",
        "\n",
        "# write out the list of sections that don't have an assigned teacher\n",
        "df.write.mode('overwrite').csv(f'{data_path}/sections_without_teachers', header = 'true')"
      ],
      "attachments": {}
    }
  ]
}