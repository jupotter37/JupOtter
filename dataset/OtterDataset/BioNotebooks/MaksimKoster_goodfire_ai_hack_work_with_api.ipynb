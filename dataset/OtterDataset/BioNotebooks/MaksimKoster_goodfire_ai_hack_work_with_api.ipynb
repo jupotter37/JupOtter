{
 "cells": [
  {
   "cell_type": "code",
   "execution_count": 8,
   "metadata": {},
   "outputs": [],
   "source": [
    "from goodfire import Client\n",
    "import goodfire\n",
    "\n",
    "client = Client(api_key=\"sk-goodfire-AwQLz-ErW-gNwn3wg-uTaKhBRc2N32LakfgdwFYEXc-2LB16OJrpew\")\n",
    "model_name = 'meta-llama/Meta-Llama-3-8B-Instruct'\n",
    "variant = goodfire.Variant(model_name)"
   ]
  },
  {
   "cell_type": "code",
   "execution_count": 9,
   "metadata": {},
   "outputs": [],
   "source": [
    "# pirate_features, relevance = client.features.search(\n",
    "#     \"science\",\n",
    "#     model=variant,\n",
    "#     top_k=5\n",
    "# )\n",
    "# pirate_features"
   ]
  },
  {
   "cell_type": "code",
   "execution_count": 10,
   "metadata": {},
   "outputs": [],
   "source": [
    "import datasets\n",
    "\n",
    "df = datasets.load_from_disk('./dataset_s/prepared_samples/math_fr.hf')"
   ]
  },
  {
   "cell_type": "code",
   "execution_count": 11,
   "metadata": {},
   "outputs": [],
   "source": [
    "models_answers_api = []\n",
    "models_answers_is_correct = []"
   ]
  },
  {
   "cell_type": "code",
   "execution_count": 533,
   "metadata": {},
   "outputs": [],
   "source": [
    "INDEX = 99"
   ]
  },
  {
   "cell_type": "code",
   "execution_count": 534,
   "metadata": {},
   "outputs": [
    {
     "name": "stdout",
     "output_type": "stream",
     "text": [
      "En tant que spécialiste expérimenté en résolution de problèmes, résolvez étape par étape les questions Mathématiques suivantes.\n",
      "\n",
      "Question : Dans le bosquet, il y a 15 arbres. Aujourd'hui, les travailleurs vont planter des arbres dans le bosquet. Après qu'ils auront fini, il y aura 21 arbres. Combien d'arbres les travailleurs ont-ils plantés aujourd'hui ?\n",
      "Réponse : Commençons avec 15 arbres. Plus tard, nous aurons 21 arbres. La différence doit être le nombre d'arbres qu'ils ont plantés. Ainsi, ils ont dû planter 21 - 15 = 6 arbres. La réponse est 6.\n",
      "\n",
      "Question : Si sur le parking il y a 3 voitures et que 2 autres arrivent, combien de voitures y a-t-il sur le parking ?\n",
      "Réponse : Il y a déjà 3 voitures sur le parking. En arrivent 2 autres. Maintenant, il y en a 3 + 2 = 5. La réponse est 5.\n",
      "\n",
      "Question : Lia avait 32 chocolats et sa sœur en avait 42. Si elles en ont mangé 35, combien leur en reste-t-il en tout ?\n",
      "Réponse : Lia avait 32 chocolats et la sœur de Lia en avait 42. Cela signifie qu'au début, il y avait 32 + 42 = 74 chocolats. Il en a été mangé 35. Ainsi, au total, il leur reste 74 - 35 = 39 chocolats. La réponse est 39.\n",
      "\n",
      "Question : Sean a cinq jouets. À Noël, il a reçu deux jouets de sa mère et deux de son père. Combien de jouets a-t-il maintenant ?\n",
      "Réponse : Il a 5 jouets. Il a reçu 2 jouets de sa mère, et maintenant il en a 5 + 2 = 7. Ensuite, il a reçu 2 autres jouets de son père, ce qui fait un total de 7 + 2 = 9 jouets. La réponse est 9.\n",
      "\n",
      "Question : Olivia a 23 dollars. Elle a acheté cinq bagels à 3 dollars chacun. Combien d'argent lui reste-t-il ?\n",
      "Réponse : Elle a acheté 5 bagels à 3 dollars chacun. Cela signifie qu'elle a dépensé 5 * 3 dollars = 15 dollars pour les bagels. Au début, elle avait 23 dollars, donc maintenant elle a 23 dollars - 15 dollars = 8 dollars. La réponse est 8.\n",
      "\n",
      "Question: Pour un groupe de n personnes, k desquelles k sont du même sexe, l'expression (n - k) / n fournit un indicateur pour un phénomène de dynamique de groupe pour les membres de ce sexe. Pour un groupe composé de 20 personnes, 6 desquelles sont des femmes, à combien l'indicateur des femmes excède-t-il l'indicateur des hommes dans le groupe?\n",
      "Réponse: \n"
     ]
    }
   ],
   "source": [
    "print(df[INDEX]['prompt_with_few_shots'])"
   ]
  },
  {
   "cell_type": "code",
   "execution_count": 528,
   "metadata": {},
   "outputs": [
    {
     "data": {
      "text/plain": [
       "{'Problem': \"Pour un groupe de n personnes, k desquelles k sont du même sexe, l'expression (n - k) / n fournit un indicateur pour un phénomène de dynamique de groupe pour les membres de ce sexe. Pour un groupe composé de 20 personnes, 6 desquelles sont des femmes, à combien l'indicateur des femmes excède-t-il l'indicateur des hommes dans le groupe?\",\n",
       " 'Rationale': \"L'indice pour les femmes vaut (20 - 6) / 20 = 7 / 10 = 0,7. L'indice pour les hommes vaut (20 - 14) / 20 = 3 / 10 = 0,3. L'indice des femmes excède celui des hommes de 0,7 - 0,3 = 0,4. Réponse : oui.\",\n",
       " 'options': 'a ) 0.4 , b ) 0.0625 , c ) 0.2 , d ) 0.25 , e ) 0.6',\n",
       " 'correct': 'a',\n",
       " 'annotated_formula': 'subtract(divide(subtract(20, 6), 20), divide(6, 20))',\n",
       " 'linear_formula': 'divide(n1,n0)|subtract(n0,n1)|divide(#1,n0)|subtract(#2,#0)|',\n",
       " 'category': 'general',\n",
       " 'prompt_with_few_shots': \"En tant que spécialiste expérimenté en résolution de problèmes, résolvez étape par étape les questions Mathématiques suivantes.\\n\\nQuestion : Dans le bosquet, il y a 15 arbres. Aujourd'hui, les travailleurs vont planter des arbres dans le bosquet. Après qu'ils auront fini, il y aura 21 arbres. Combien d'arbres les travailleurs ont-ils plantés aujourd'hui ?\\nRéponse : Commençons avec 15 arbres. Plus tard, nous aurons 21 arbres. La différence doit être le nombre d'arbres qu'ils ont plantés. Ainsi, ils ont dû planter 21 - 15 = 6 arbres. La réponse est 6.\\n\\nQuestion : Si sur le parking il y a 3 voitures et que 2 autres arrivent, combien de voitures y a-t-il sur le parking ?\\nRéponse : Il y a déjà 3 voitures sur le parking. En arrivent 2 autres. Maintenant, il y en a 3 + 2 = 5. La réponse est 5.\\n\\nQuestion : Lia avait 32 chocolats et sa sœur en avait 42. Si elles en ont mangé 35, combien leur en reste-t-il en tout ?\\nRéponse : Lia avait 32 chocolats et la sœur de Lia en avait 42. Cela signifie qu'au début, il y avait 32 + 42 = 74 chocolats. Il en a été mangé 35. Ainsi, au total, il leur reste 74 - 35 = 39 chocolats. La réponse est 39.\\n\\nQuestion : Sean a cinq jouets. À Noël, il a reçu deux jouets de sa mère et deux de son père. Combien de jouets a-t-il maintenant ?\\nRéponse : Il a 5 jouets. Il a reçu 2 jouets de sa mère, et maintenant il en a 5 + 2 = 7. Ensuite, il a reçu 2 autres jouets de son père, ce qui fait un total de 7 + 2 = 9 jouets. La réponse est 9.\\n\\nQuestion : Olivia a 23 dollars. Elle a acheté cinq bagels à 3 dollars chacun. Combien d'argent lui reste-t-il ?\\nRéponse : Elle a acheté 5 bagels à 3 dollars chacun. Cela signifie qu'elle a dépensé 5 * 3 dollars = 15 dollars pour les bagels. Au début, elle avait 23 dollars, donc maintenant elle a 23 dollars - 15 dollars = 8 dollars. La réponse est 8.\\n\\nQuestion: Pour un groupe de n personnes, k desquelles k sont du même sexe, l'expression (n - k) / n fournit un indicateur pour un phénomène de dynamique de groupe pour les membres de ce sexe. Pour un groupe composé de 20 personnes, 6 desquelles sont des femmes, à combien l'indicateur des femmes excède-t-il l'indicateur des hommes dans le groupe?\\nRéponse: \"}"
      ]
     },
     "execution_count": 528,
     "metadata": {},
     "output_type": "execute_result"
    }
   ],
   "source": [
    "df[INDEX]"
   ]
  },
  {
   "cell_type": "code",
   "execution_count": 529,
   "metadata": {},
   "outputs": [
    {
     "name": "stdout",
     "output_type": "stream",
     "text": [
      "Je vais résoudre cette question étape par étape.\n",
      "\n",
      "Tout d'abord, nous devons trouver l'indicateur pour les hommes. Pour cela, nous devons trouver le nombre d'hommes dans le groupe. Nous savons que k des 20 personnes sont des femmes, donc les 20 - 6 = 14 personnes restantes sont des hommes. Maintenant, nous pouvons calculer l'indicateur pour les hommes : (14 - k) / 20 = (14 -?) / 20, car nous ne connaissons pas le nombre exact de femmes du même sexe.\n",
      "\n",
      "Ensuite, nous devons trouver l'indicateur pour les femmes. Nous savons que k des 20 personnes sont des femmes, donc l'indicateur pour les femmes est : (n - k) / n = (20 - 6) / 20 = 14 / 20 = 7 / 10.\n",
      "\n",
      "Maintenant, nous pouvons trouver la réponse. Nous devons trouver la différence entre l'indicateur des femmes et l'indicateur des hommes. La différence est : (7 / 10) - ((14 -?) / 20). Nous devons trouver le nombre? pour que la différence soit maximale.\n",
      "\n",
      "En résolvant l'équation, nous trouvons que? = 8. Maintenant, nous pouvons calculer la différence : (7 / 10) - ((14 - 8) / 20) = (7 / 10) - (6 / 20) = (7 / 10) - (3 / 10) = 4 / 10 = 2 / 5.\n",
      "\n",
      "Donc, l'indicateur des femmes excède l'indicateur des hommes de 2/5 dans le groupe. La réponse est 2/5."
     ]
    }
   ],
   "source": [
    "for token in client.chat.completions.create(\n",
    "    [\n",
    "        {\"role\": \"user\", \"content\": df[INDEX]['prompt_with_few_shots']}\n",
    "    ],\n",
    "    model=variant,\n",
    "    stream=True,\n",
    "    max_completion_tokens=1024,\n",
    "):\n",
    "    print(token.choices[0].delta.content, end=\"\")"
   ]
  },
  {
   "cell_type": "code",
   "execution_count": 530,
   "metadata": {},
   "outputs": [],
   "source": [
    "models_answers_api.append(\"\"\"\n",
    "Je vais résoudre cette question étape par étape.\n",
    "\n",
    "Tout d'abord, nous devons trouver l'indicateur pour les hommes. Pour cela, nous devons trouver le nombre d'hommes dans le groupe. Nous savons que k des 20 personnes sont des femmes, donc les 20 - 6 = 14 personnes restantes sont des hommes. Maintenant, nous pouvons calculer l'indicateur pour les hommes : (14 - k) / 20 = (14 -?) / 20, car nous ne connaissons pas le nombre exact de femmes du même sexe.\n",
    "\n",
    "Ensuite, nous devons trouver l'indicateur pour les femmes. Nous savons que k des 20 personnes sont des femmes, donc l'indicateur pour les femmes est : (n - k) / n = (20 - 6) / 20 = 14 / 20 = 7 / 10.\n",
    "\n",
    "Maintenant, nous pouvons trouver la réponse. Nous devons trouver la différence entre l'indicateur des femmes et l'indicateur des hommes. La différence est : (7 / 10) - ((14 -?) / 20). Nous devons trouver le nombre? pour que la différence soit maximale.\n",
    "\n",
    "En résolvant l'équation, nous trouvons que? = 8. Maintenant, nous pouvons calculer la différence : (7 / 10) - ((14 - 8) / 20) = (7 / 10) - (6 / 20) = (7 / 10) - (3 / 10) = 4 / 10 = 2 / 5.\n",
    "\n",
    "Donc, l'indicateur des femmes excède l'indicateur des hommes de 2/5 dans le groupe. La réponse est 2/5.\n",
    "\"\"\")\n",
    "\n",
    "models_answers_is_correct.append(1)"
   ]
  },
  {
   "cell_type": "code",
   "execution_count": 216,
   "metadata": {},
   "outputs": [
    {
     "data": {
      "text/plain": [
       "[\"\\nI'd be happy to help you solve the question step by step.\\n\\nLet's count the money Tairon found:\\n\\n* 2 $1 bills = 2 dollars\\n* 1 $5 bill = 5 dollars\\n* 13 quarters = 13 x 25 cents = $3.25\\n* 20 dimes = 20 x 10 cents = $2\\n* 8 nickels = 8 x 5 cents = $0.40\\n* 35 pennies = 35 cents = $0.35\\n\\nAdding all these amounts together, we get:\\n\\n2 + 5 + 3.25 + 2 + 0.40 + 0.35 = 13.00\\n\\nSo, Tairon found a total of $13.00.\\n\",\n",
       " \"\\nLet's solve the problem step by step!\\n\\nWe know that there are 3414 yellow balls. We also know that there are 1762 more black balls than yellow balls. To find the total number of black balls, we add 3414 (yellow balls) to 1762, which gives us:\\n\\n3414 + 1762 = 5176\\n\\nSo, there are 5176 black balls.\\n\\nNow, we need to find out the total number of balls. We add the number of yellow balls to the number of black balls:\\n\\n3414 (yellow balls) + 5176 (black balls) = 8590\\n\\nThere are 8590 balls in total. To find out how many balls each school will receive, we divide the total number of balls by the number of schools:\\n\\n8590 ÷ 10 = 859\\n\\nSo, each school will receive 859 balls.\\n\",\n",
       " \"\\nLet's solve the problem step by step!\\n\\nSince James buys twice as many toy soldiers as toy cars, and he buys 20 toy cars, he buys 2 x 20 = 40 toy soldiers.\\n\\nIn total, he buys 20 toy cars + 40 toy soldiers = 60 toy figures.\\n\\nAnswer: 60\\n\",\n",
       " \"\\nLet's break it down step by step!\\n\\nWe know that Корнелия visited 42 countries in total. 20 of them were in Europe, and 10 were in South America. To find the number of countries that are left, we subtract the number of European and South American countries from the total:\\n\\n42 (total) - 20 (Europe) - 10 (South America) = 12\\n\\nSo, there are 12 countries left. We are told that half of these countries were in Asia. To find the number of Asian countries, we divide the number of remaining countries by 2:\\n\\n12 (remaining) / 2 = 6\\n\\nTherefore, Корнелия visited 6 Asian countries.\\n\",\n",
       " '\\nI\\'d be happy to help you solve the math problems step by step!\\n\\nFor the last question, \"Макенна продает конфеты для своей команды по софтболу. В коробке 25 плиток молочного шоколада, 25 плиток темного шоколада, 25 плиток молочного шоколада с миндалем и 25 плиток белого шоколада. Каков процент каждого вида плитки шоколада?\"\\n\\nLet\\'s break it down:\\n\\n* Total number of chocolates: 25 + 25 + 25 + 25 = 100\\n* Number of milk chocolate: 25\\n* Number of dark chocolate: 25\\n* Number of milk chocolate with nuts: 25\\n* Number of white chocolate: 25\\n\\nTo find the percentage of each type, we can divide the number of each type by the total number of chocolates and multiply by 100:\\n\\n* Milk chocolate: (25/100) x 100% = 25%\\n* Dark chocolate: (25/100) x 100% = 25%\\n* Milk chocolate with nuts: (25/100) x 100% = 25%\\n* White chocolate: (25/100) x 100% = 25%\\n\\nSo, each type of chocolate makes up 25% of the total chocolates.\\n',\n",
       " '\\nLet\\'s break it down step by step!\\n\\nWe know that 83% of the guests responded with \"Yes\", which is 200 * 0.83 = 166 guests. We also know that 9% of the guests responded with \"No\", which is 200 * 0.09 = 18 guests.\\n\\nTo find the number of guests who did not respond at all, we need to subtract the number of guests who responded with \"Yes\" and \"No\" from the total number of guests.\\n\\n200 (total guests) - 166 (responded with \"Yes\") - 18 (responded with \"No\") = 16 guests\\n\\nSo, 16 guests did not respond at all.\\n',\n",
       " \"\\nI'd be happy to help you solve the problem step by step.\\n\\nThe problem states that Bob eats half of the pizza, which is 8/2 = 4 pieces. Each piece contains 300 calories, so the total number of calories he consumes is:\\n\\n4 pieces * 300 calories/piece = 1200 calories\\n\\nSo, Bob consumes 1200 calories.\\n\",\n",
       " '\\nМерседес пробежал вдвое большее расстояние, чем Джонатан. Джонатан пробежал 7,5 км, поэтому Мерседес пробежал 7,5 * 2 = 15 км. Давонте пробежал на 2 км дальше Мерседес, поэтому он пробежал 15 + 2 = 17 км. В общей сложности Мерседес и Давонте пробежали 15 + 17 = 32 км. Ответ - 32 км.\\n',\n",
       " \"\\nI'd be happy to help you solve this question step by step.\\n\\nLet's analyze the situation: Meso can print 15 pages in 5 minutes, and Tyler can print the same 15 pages in 3 minutes. To find out how much time they need to print 40 pages together, we need to find the total number of pages they can print in one minute.\\n\\nMeso prints 15 pages in 5 minutes, so he prints 15 ÷ 5 = 3 pages per minute. Tyler prints 15 pages in 3 minutes, so he prints 15 ÷ 3 = 5 pages per minute.\\n\\nTogether, they can print 3 + 5 = 8 pages per minute.\\n\\nTo print 40 pages, they will need 40 ÷ 8 = 5 minutes.\\n\\nSo, it will take Meso and Tyler 5 minutes to print 40 pages together.\\n\",\n",
       " \"\\nI'd be happy to help you solve the problem step by step.\\n\\nLet's count the total number of stripes on all of Vai's hats:\\n\\n* 4 hats with 3 stripes each = 4 x 3 = 12 stripes\\n* 3 hats with 4 stripes each = 3 x 4 = 12 stripes\\n* 6 hats with no stripes = 0 stripes\\n* 2 hats with 5 stripes each = 2 x 5 = 10 stripes\\n\\nAdding up all the stripes, we get: 12 + 12 + 0 + 10 = 34 stripes\\n\\nSo, Vai has a total of 34 stripes on all of her hats.\\n\",\n",
       " \"\\nI'd be happy to help you solve the question step by step.\\n\\nYou said RRedжи] bought 5 books, each costing 2 dollars. To find out how much he spent, we multiply the number of books by the cost of each book: 5 books * 2 dollars/book = 10 dollars.\\n\\nRRedжи] had 48 dollars initially, and he spent 10 dollars on books. To find out how much he has left, we subtract the amount he spent from the initial amount: 48 dollars - 10 dollars = 38 dollars.\\n\\nSo, RRedжи] has 38 dollars left.\\n\",\n",
       " \"\\nI'd be happy to help you solve this question step by step.\\n\\nLet's start by finding out how old Catherine will be when she is 12 years old (since a dozen is 12). Since Catherine is currently some age, let's call it x. When she turns 12, she will be x + 12 years old.\\n\\nMell is 3 years younger than Catherine, so when Catherine is 12, Mell will be x + 12 - 3 = x + 9 years old.\\n\\nSo, when Catherine is 12, Mell will be 9 years old.\\n\",\n",
       " '\\nI see what\\'s going on here! You want me to help you solve some math problems step by step.\\n\\nFor the last question: \"Ханна наполняет детские чулки 4 леденцами, 2 детскими шапочками и 1 книгой. Если у нее трое детей, сколько всего чулок она купит?\"\\n\\nLet\\'s break it down:\\n\\nHanna fills each child\\'s bag with 4 lollipops, 2 toy hats, and 1 book. If she has three children, how many bags will she buy in total?\\n\\nSince each bag has 4 + 2 + 1 = 7 items, Hanna will need to buy at least 3 bags (one for each child). But we don\\'t know if she\\'ll buy more bags, right?\\n\\nSo, the answer is: \"Ханна купит минимум 3 чулка.\" (Hanna will buy at least 3 bags.)\\n',\n",
       " \"\\nI'd be happy to help you solve the math problem step by step!\\n\\nTo find the total number of calories in the salad, we need to add up the calories from the salad, the cucumber, and the crackers.\\n\\nThe salad contains 30 calories.\\nThe cucumber contains 80 calories.\\nThe 12 crackers contain 20 calories each, so the total number of calories from the crackers is 12 x 20 = 240 calories.\\n\\nNow, let's add up the calories from all three components:\\n\\n30 (salad) + 80 (cucumber) + 240 (crackers) = 350 calories\\n\\nSo, the salad contains 350 calories.\\n\",\n",
       " \"\\nI'd be happy to help you solve these math problems step by step!\\n\\nLet's break it down:\\n\\n**Problem 1:**\\nWe have 15 trees in the forest, and after the workers finish, there will be 21 trees. To find out how many trees they planted, we subtract the initial number from the final number: 21 - 15 = 6 trees. So, the workers planted 6 trees.\\n\\n**Problem 2:**\\nThere are 3 cars on the parking lot, and 2 more arrive. To find the total number of cars, we add the initial number to the new number: 3 + 2 = 5 cars. So, there are 5 cars on the parking lot.\\n\\n**Problem 3:**\\nLia has 32 chocolates, and her sister has 42. In total, they have 32 + 42 = 74 chocolates. After eating 35, they have 74 - 35 = 39 chocolates left.\\n\\n**Problem 4:**\\nShawn has 5 toys. He receives 2 toys from his mom and 2 toys from his dad, making a total of 5 + 2 + 2 = 9 toys.\\n\\n**Problem 5:**\\nOlivia has 23 dollars. She buys 5 roulis for 3 dollars each, spending 5 * 3 = 15 dollars. She has 23 - 15 = 8 dollars left.\\n\\n**Problem 6:**\\nIt's raining in central Texas, and it rains for:\\n\\n* 7 hours on Monday at a rate of 1 inch per hour, making a total of 7 inches.\\n* 4 hours on Tuesday at a rate of 2 inches per hour, making a total of 8 inches.\\n* 2 hours on Wednesday at a rate of 4 inches per hour (twice the previous day's rate), making a total of 8 inches.\\n\\nTo find the total amount of rain, we add the amounts: 7 + 8 + 8 = 23 inches.\\n\\nSo, the answer is 23 inches of rain.\\n\",\n",
       " \"\\nI'd be happy to help you solve the question step by step.\\n\\nThe question is: John spends 40 dollars on lube boxes. How much average amount did he lose?\\n\\nLet's break it down:\\n\\n* John spends 40 dollars on lube boxes.\\n* Each lube box costs 5 dollars, so he buys 40/5 = 8 lube boxes.\\n* The average cost of items inside each lube box is 3.5 dollars.\\n* Since John has 8 lube boxes, the total average cost of items inside is 8 * 3.5 = 28 dollars.\\n\\nSo, John has lost 28 dollars.\\n\",\n",
       " '\\nI\\'d be happy to help you solve this question step by step.\\n\\nLet\\'s start by finding out how many minutes Matt worked on Tuesday. Since he worked \"вдвое меньше минут, чем в понедельник\", it means he worked half of the 450 minutes he worked on Monday. So, on Tuesday, Matt worked 450 / 2 = 225 minutes.\\n\\nNow, let\\'s compare the number of minutes Matt worked on Tuesday and Wednesday. He worked 300 minutes on Wednesday. To find out how many more minutes he worked on Wednesday than on Tuesday, we subtract the number of minutes he worked on Tuesday from the number of minutes he worked on Wednesday:\\n\\n300 (Wednesday) - 225 (Tuesday) = 75\\n\\nSo, Matt worked 75 more minutes on Wednesday than on Tuesday.\\n',\n",
       " \"\\nI'd be happy to help you solve this question step by step.\\n\\nLet's start by finding the total number of leaves on the tree. Since there are 30 branches, and each branch has 90 twigs, we can multiply the number of branches by the number of twigs to get the total number of twigs:\\n\\n30 branches × 90 twigs/branch = 2700 twigs\\n\\nSince 30% of the twigs produce 4 leaves each, we can find the number of twigs that produce 4 leaves:\\n\\n30% of 2700 twigs = 0.3 × 2700 = 810 twigs\\n\\nThese 810 twigs produce 4 leaves each, so we can multiply the number of twigs by the number of leaves each twig produces:\\n\\n810 twigs × 4 leaves/twig = 3240 leaves\\n\\nThe remaining 90% of the twigs produce 5 leaves each, so we can find the number of twigs that produce 5 leaves:\\n\\n90% of 2700 twigs = 0.9 × 2700 = 2430 twigs\\n\\nThese 2430 twigs produce 5 leaves each, so we can multiply the number of twigs by the number of leaves each twig produces:\\n\\n2430 twigs × 5 leaves/twig = 12150 leaves\\n\\nAdding the number of leaves produced by the twigs that produce 4 leaves and the twigs that produce 5 leaves, we get:\\n\\n3240 leaves + 12150 leaves = 15890 leaves\\n\\nSo, there are a total of 15,890 leaves on the tree.\\n\",\n",
       " \"\\nLet's break it down step by step!\\n\\nWe know that each table on 4 places has 4 chairs, and each table on 6 places has 6 chairs. So, the total number of chairs needed is:\\n\\n6 tables on 4 places = 6 x 4 = 24 chairs\\n12 tables on 6 places = 12 x 6 = 72 chairs\\n\\nIn total, Jackson needs 24 + 72 = 96 chairs.\\n\",\n",
       " \"\\nI'd be happy to help you solve the question step by step.\\n\\nLet's break it down:\\n\\nZayne started with 30 bangles. He sold some bangles for $5 each and earned $60. Since he sold them for $5 each, he must have sold 60/5 = 12 bangles for $5 each.\\n\\nHe also sold 2 bangles for $8 each. So, he sold 2 * 8 = 16 dollars more.\\n\\nIn total, he earned 60 + 16 = 76 dollars.\\n\\nHe started with 30 bangles and sold some for $5 each and 2 for $8 each. Let's calculate the number of bangles he sold:\\n\\n12 bangles for $5 each = 12 * 5 = 60 dollars\\nHe earned 60 dollars, but he sold 12 bangles, so he must have sold the remaining bangles (30 - 12 = 18) for $8 each.\\n\\nSo, the total number of bangles he sold is 12 + 2 = 14 bangles.\\n\\nHe started with 30 bangles, and he sold 14 bangles. To find out how many bangles he has left, subtract the number of bangles he sold from the initial number:\\n\\n30 - 14 = 16\\n\\nZayne has 16 bangles left.\\n\\nTherefore, the answer is: Zayne earned a total of $76 on the sale of his bangles.\\n\",\n",
       " \"\\nI'd be happy to help you solve this problem step by step.\\n\\nLet's break it down:\\n\\n1. First, we need to calculate how many pounds of pasta Michelle will make. She has three packets of flour, and each packet is 8 cups. So, she has a total of 3 x 8 = 24 cups of flour.\\n2. Since each pound of pasta requires 2 cups of flour, we can calculate the total weight of pasta Michelle will make: 24 cups / 2 cups/pound = 12 pounds.\\n3. Since Michelle needs a drying rack for every 3 pounds of pasta, we can divide the total weight of pasta by 3: 12 pounds / 3 pounds/rack = 4 racks.\\n\\nSo, Michelle will need 4 drying racks. She already has 3, so she'll need to get 1 more.\\n\",\n",
       " \"\\nI'd be happy to help you solve this question step by step.\\n\\nDay 1: She walks 1 mile.\\nDay 2: She walks 2 miles (doubles the distance from the previous day).\\nDay 3: She walks 4 miles (doubles the distance from the previous day again).\\nDay 4: She walks 8 miles (doubles the distance from the previous day again).\\nDay 5: She walks 16 miles (doubles the distance from the previous day again).\\n\\nOn the 5th day, she walks more than 10 times the distance she walked on the 1st day (1 mile). Therefore, the answer is Day 5.\\n\",\n",
       " \"\\nLet's solve the problem step by step!\\n\\nThere are 20 students and 3 teachers, so the total number of people is 20 + 3 = 23.\\n\\nEach person needs a ticket, so they need 23 tickets. Since each ticket costs 5 dollars, they will need to pay 23 * 5 = 115 dollars.\\n\\nSo, the answer is: 115 dollars!\\n\",\n",
       " \"\\nI'd be happy to help you solve this problem step by step.\\n\\nLet's think about it: Kodjer already has a pair of shoes (3 items) that he wears. He wants to have 5 complete sets of shoes (3 items each). To find out how many pairs he needs to buy, we need to subtract the number of shoes he already has from the total number of shoes he wants to have.\\n\\nLet's do the math:\\n\\n5 complete sets of shoes (3 items each) = 5 x 3 = 15 shoes\\n\\nKodjer already has 3 shoes, so he needs:\\n\\n15 shoes - 3 shoes = 12 shoes\\n\\nSince shoes come in pairs, we need to divide the number of shoes by 2:\\n\\n12 shoes / 2 = 6 pairs\\n\\nSo, Kodjer needs to buy 6 pairs of shoes to have 5 complete sets of shoes.\\n\",\n",
       " \"\\nI'd be happy to help you solve this problem step by step.\\n\\nLet's start by identifying the number of grams of sugar used for the cake layers. Since Nina used the same amount of sugar for each layer as she did for a dozen cupcakes, we can let x be the number of grams of sugar used for one cupcake.\\n\\nThe total amount of sugar used is 720 grams, and this is used for the two cake layers and the dozen cupcakes. We can set up an equation to represent this:\\n\\n2x + 12x = 720\\n\\nCombine like terms:\\n\\n14x = 720\\n\\nDivide by 14:\\n\\nx = 52\\n\\nSo, Nina used 52 grams of sugar for one cupcake.\\n\",\n",
       " \"\\nI'd be happy to help you solve this problem step by step.\\n\\nLet's break it down:\\n\\nThe old machine can travel 8 miles per hour. After 5 hours of continuous driving, the car needs to stop and cool down, which takes 1 hour. This means that in the first 5 hours, the car will travel:\\n\\n8 miles/hour * 5 hours = 40 miles\\n\\nThe car then stops for 1 hour, and after that, it will continue driving for the remaining 13 - 5 = 8 hours.\\n\\nIn these 8 hours, the car will travel:\\n\\n8 miles/hour * 8 hours = 64 miles\\n\\nAdding the 40 miles traveled in the first 5 hours, the total distance the car can travel in 13 hours is:\\n\\n40 miles + 64 miles = 104 miles\\n\\nSo, the answer is 104 miles.\\n\",\n",
       " \"\\nI'd be happy to help you solve this question step by step.\\n\\nLet's analyze KENNY's jump height records:\\n\\n* Last week: 324 jumps\\n* This week:\\n\\t+ Sunday: 34 jumps\\n\\t+ Monday: 20 jumps\\n\\t+ Tuesday: skipped\\n\\t+ Wednesday: 123 jumps\\n\\t+ Thursday: 64 jumps\\n\\t+ Friday: 23 jumps\\n\\nTo beat the previous week's record, KENNY needs to make more jumps this week. Let's calculate the total number of jumps he's made so far:\\n\\n34 + 20 + 123 + 64 + 23 = 264 jumps\\n\\nHe still needs to make more jumps to beat the previous week's record. To do this, he needs to make at least:\\n\\n324 - 264 = 60 jumps\\n\\non the next day (Saturday).\\n\\nSo, KENNY should make at least 60 jumps on Saturday to beat the previous week's record.\\n\",\n",
       " \"\\nI'd be happy to help you solve the question step by step.\\n\\nLet's start by using the information that Glennis is 30 years old, and Billy is 3 times younger than her. This means Billy is 30 / 3 = 10 years old.\\n\\nThe question also states that Billy's age plus Lucas's age is half of Glennis' age. We can set up an equation to represent this:\\n\\nBilly's age + Lucas's age = 1/2 x Glennis' age\\n\\nSince Billy is 10 years old, we can substitute this into the equation:\\n\\n10 + Lucas's age = 1/2 x 30\\n\\nTo solve for Lucas's age, we can subtract 10 from both sides of the equation:\\n\\nLucas's age = 1/2 x 30 - 10\\nLucas's age = 15 - 10\\nLucas's age = 5\\n\\nSo Lucas is currently 5 years old.\\n\\nThe question also asks for Lucas's age in 3 years, so we need to add 3 to his current age:\\n\\nLucas's age in 3 years = 5 + 3\\nLucas's age in 3 years = 8\\n\\nTherefore, Lucas will be 8 years old in 3 years.\\n\",\n",
       " '\\nI\\'d be happy to help you solve this question step by step.\\n\\nLet\\'s analyze the situation. The first store charges $3 for 6 apples, which means each apple costs $0.50 ($3 ÷ 6). The second store charges $4 for 10 apples, which means each apple costs $0.40 ($4 ÷ 10).\\n\\nTo find out how many cents you would save by buying from the second store, we need to compare the cost of each apple. The difference is $0.50 - $0.40 = $0.10 per apple. So, you would save 10 cents per apple.\\n\\nNow, let\\'s answer the question: \"How many cents would you save on each apple if you buy from the second store compared to the first store?\"\\n\\nAnswer: You would save 10 cents per apple.\\n',\n",
       " \"\\nI'd be happy to help you solve this question step by step.\\n\\nLet's start by finding out how many zefirs Joe has. Since he has four times more zefirs than his father, and his father has 21 zefirs, Joe has:\\n\\n21 x 4 = 84 zefirs\\n\\nNow, let's find out how many zefirs they will burn. Joe's father will burn a third of his zefirs, which is:\\n\\n21 / 3 = 7 zefirs\\n\\nJoe will burn half of his zefirs, which is:\\n\\n84 / 2 = 42 zefirs\\n\\nIn total, they will burn:\\n\\n7 + 42 = 49 zefirs\\n\\nSo, the answer is 49 zefirs.\\n\",\n",
       " \"\\nI'd be happy to help you solve this question step by step.\\n\\nLet's start with the information we have:\\n\\n* Cindy is 5 years old.\\n* Her sister Jan is 2 years older than Cindy, so Jan is 5 + 2 = 7 years old.\\n* Their older sister Marisa is twice as old as Jan, so Marisa is 7 x 2 = 14 years old.\\n* Greg is 2 years older than Marisa, so Greg is 14 + 2 = 16 years old.\\n\\nTherefore, Greg is 16 years old.\\n\",\n",
       " \"\\nLet's break down the problem step by step.\\n\\n1. We know that the electric stove uses energy worth $500 per month. This is twice the amount that Joseph pays for the water heater, so the water heater uses $500 / 2 = $250 per month.\\n2. The total amount Joseph pays for the refrigerator is three times the amount he pays for the water heater, so the refrigerator uses $250 x 3 = $750 per month.\\n3. To find the total amount Joseph pays for all three devices, we add the costs: $500 (electric stove) + $250 (water heater) + $750 (refrigerator) = $1500 per month.\\n\\nSo, the answer is $1500.\\n\",\n",
       " \"\\nI'd be happy to help you solve this question step by step.\\n\\nLet's start by finding the maximum possible reward for CoinRun. We know that it's half of the maximum reward for ProcGen, which is 240. So, the maximum reward for CoinRun is 240 / 2 = 120.\\n\\nNow, we know that the algorithm PPO Greg got 90% of the maximum possible reward in CoinRun. To find the reward, we can multiply the maximum reward by 0.9:\\n\\n120 * 0.9 = 108\\n\\nSo, the algorithm PPO Greg got a reward of 108.\\n\\nThe answer is 108.\\n\",\n",
       " \"\\nI'd be happy to help you solve this question step by step.\\n\\nLet's start by finding the number of students in the biology hall. Since it's twice the number of students in the general education hall, and there are 30 students in the general education hall, there are 2 x 30 = 60 students in the biology hall.\\n\\nNow, let's find the number of students in the math hall. Since it's 3/5 the number of students in both the general education and biology halls combined, we need to calculate the total number of students in both halls first. There are 30 students in the general education hall and 60 students in the biology hall, so the total is 30 + 60 = 90 students.\\n\\nTo find the number of students in the math hall, we multiply the total number of students in both halls by 3/5. This gives us:\\n\\n90 x 3/5 = 54\\n\\nSo, there are 54 students in the math hall.\\n\\nNow, let's add up the number of students in all three halls:\\n\\n30 (general education) + 60 (biology) + 54 (math) = 144\\n\\nTherefore, there are 144 students in all three halls together.\\n\",\n",
       " \"\\nLet's solve the problem step by step!\\n\\nThe cost of the bread is 2 dollars, and the cost of the oil is 3 dollars. The cost of the juice is twice the cost of the bread, so it's 2 x 2 = 4 dollars.\\n\\nIn total, Pol spent 2 + 3 + 4 = 9 dollars on his purchases.\\n\\nHe had 15 dollars initially, so now he has 15 - 9 = 6 dollars left.\\n\",\n",
       " \"\\nI'd be happy to help you solve the problem step by step.\\n\\nLet's start with the number of cookies Zak baked on Monday: 32.\\n\\nOn Tuesday, he baked half of the cookies he baked on Monday, which is 32 / 2 = 16 cookies.\\n\\nOn Wednesday, he baked three times more cookies than on Tuesday, which is 16 x 3 = 48 cookies. However, his brother ate 4 cookies, so the total number of cookies baked on Wednesday is 48 - 4 = 44 cookies.\\n\\nIn total, Zak baked 32 + 16 + 44 = 92 cookies over the three days.\\n\\nHowever, we need to find out how many cookies Zak had at the end of the three days, not how many he baked. Since his brother ate 4 cookies on Wednesday, Zak had 92 - 4 = 88 cookies at the end of the three days.\\n\\nSo, the answer is 88 cookies.\\n\",\n",
       " \"\\nI'd be happy to help you solve this problem step by step.\\n\\nLet's start by finding the total amount of liquid in the bottle initially. The bottle is 10 ounces, and 1 ounce is used each day. So, in 4 days, 4 ounces of shampoo will be used, leaving 10 - 4 = 6 ounces of liquid in the bottle.\\n\\nNow, let's find the amount of hot sauce in the bottle. Each day, 1/2 ounce of hot sauce is added. So, in 4 days, 4 x 1/2 = 2 ounces of hot sauce are added.\\n\\nTo find the percentage of hot sauce in the bottle, we can divide the amount of hot sauce by the total amount of liquid and multiply by 100:\\n\\n(2 ounces / 6 ounces) x 100 = 33.33%\\n\\nSo, after 4 days, the hot sauce makes up approximately 33.33% of the liquid in the bottle.\\nSo, the answer is 88 cookies.\\n\",\n",
       " \"\\nI'd be happy to help you solve the problem step by step.\\n\\nLet's count the beads used by Kaily:\\n\\nOn Monday, Kaily makes 10 necklaces, which requires 10 x 20 = 200 beads.\\nOn Tuesday, Kaily makes 2 necklaces, which requires 2 x 20 = 40 beads.\\nTotal beads used for necklaces: 200 + 40 = 240 beads.\\n\\nOn Wednesday, Kaily makes 5 bracelets, which requires 5 x 10 = 50 beads.\\nKaily also makes 7 earrings, which requires 7 x 5 = 35 beads.\\nTotal beads used for bracelets and earrings: 50 + 35 = 85 beads.\\n\\nIn total, Kaily uses 240 + 85 = 325 beads.\\n\"]"
      ]
     },
     "execution_count": 216,
     "metadata": {},
     "output_type": "execute_result"
    }
   ],
   "source": [
    "models_answers_api"
   ]
  },
  {
   "cell_type": "code",
   "execution_count": 535,
   "metadata": {},
   "outputs": [
    {
     "data": {
      "text/plain": [
       "100"
      ]
     },
     "execution_count": 535,
     "metadata": {},
     "output_type": "execute_result"
    }
   ],
   "source": [
    "len(models_answers_is_correct)"
   ]
  },
  {
   "cell_type": "code",
   "execution_count": 518,
   "metadata": {},
   "outputs": [
    {
     "data": {
      "text/plain": [
       "\"\\nI'd be happy to help you solve this question step by step.\\n\\nLet's start by identifying the number of eggs each person received:\\n\\n* Each adult received 3 eggs\\n* Boys received 1 egg more than each girl\\n* Girls received 1 egg each\\n* There are 7 girls, so they received a total of 7 eggs\\n\\nLet's assume the number of boys is x. Then, the total number of eggs received by boys is x + (x-1) (because each boy received 1 egg more than each girl).\\n\\nThe total number of eggs prepared is 3 tens, which is 30 eggs. The total number of eggs received by adults and girls is 3 (adults) x 3 (eggs) + 7 (girls) x 1 (eggs) = 9 + 7 = 16 eggs.\\n\\nSo, the number of eggs remaining for boys is 30 - 16 = 14 eggs. Since each boy received 1 egg more than each girl, the boys received 1 egg more than 1 egg, which is 2 eggs.\\n\\nLet's set up the equation: x + (x-1) = 14\\n\\nSimplifying the equation, we get: 2x = 15\\n\\nDividing both sides by 2, we get: x = 7.5\\n\\nSince the number of boys can't be a fraction, we can round up to the nearest whole number, which is 8 boys.\\n\\nSo, 8 boys sent on a trip.\\n\""
      ]
     },
     "execution_count": 518,
     "metadata": {},
     "output_type": "execute_result"
    }
   ],
   "source": [
    "models_answers_api[96]"
   ]
  },
  {
   "cell_type": "code",
   "execution_count": 519,
   "metadata": {},
   "outputs": [],
   "source": [
    "del models_answers_api[96]\n",
    "del models_answers_is_correct[96]"
   ]
  },
  {
   "cell_type": "code",
   "execution_count": 694,
   "metadata": {},
   "outputs": [],
   "source": [
    "NEEW_INDEX = 30"
   ]
  },
  {
   "cell_type": "code",
   "execution_count": 695,
   "metadata": {},
   "outputs": [
    {
     "name": "stdout",
     "output_type": "stream",
     "text": [
      "As an expert problem solver solve step by step the following mathematical questions.\n",
      "\n",
      "Q: There are 15 trees in the grove. Grove workers will plant trees in the grove today. After they are done, there will be 21 trees. How many trees did the grove workers plant today?\n",
      "A: We start with 15 trees. Later we have 21 trees. The difference must be the number of trees they planted. So, they must have planted 21 - 15 = 6 trees. The answer is 6.\n",
      "\n",
      "Q: If there are 3 cars in the parking lot and 2 more cars arrive, how many cars are in the parking lot?\n",
      "A: There are 3 cars in the parking lot already. 2 more arrive. Now there are 3 + 2 = 5 cars. The answer is 5.\n",
      "\n",
      "Q: Leah had 32 chocolates and her sister had 42. If they ate 35, how many pieces do they have left in total?\n",
      "A: Leah had 32 chocolates and Leah's sister had 42. That means there were originally 32 + 42 = 74 chocolates. 35 have been eaten. So in total they still have 74 - 35 = 39 chocolates. The answer is 39.\n",
      "\n",
      "Q: Shawn has five toys. For Christmas, he got two toys each from his mom and dad. How many toys does he have now?\n",
      "A: He has 5 toys. He got 2 from mom, so after that he has 5 + 2 = 7 toys. Then he got 2 more from dad, so in total he has 7 + 2 = 9 toys. The answer is 9.\n",
      "\n",
      "Q: Olivia has $23. She bought five bagels for $3 each. How much money does she have left?\n",
      "A: She bought 5 bagels for $3 each. This means she spent 5 * $3 = $15 on the bagels. She had $23 in beginning, so now she has $23 - $15 = $8. The answer is 8.\n",
      "\n",
      "Q: Caleb has 3 dozen jellybeans.  Sophie has half as many jellybeans as Caleb.  How many jellybeans do they have in total?\n",
      "A: \n"
     ]
    }
   ],
   "source": [
    "print(df.select(range(100))['prompt_with_few_shots'][NEEW_INDEX])"
   ]
  },
  {
   "cell_type": "code",
   "execution_count": 696,
   "metadata": {},
   "outputs": [
    {
     "name": "stdout",
     "output_type": "stream",
     "text": [
      "\n",
      "I'd be happy to help you solve the question step by step.\n",
      "\n",
      "Caleb has 3 dozen jellybeans, which is equal to 3 x 12 = 36 jellybeans. Sophie has half as many jellybeans as Caleb, so Sophie has 36 / 2 = 18 jellybeans.\n",
      "\n",
      "In total, Caleb and Sophie have 36 + 18 = 54 jellybeans. The answer is 54.\n",
      "\n"
     ]
    }
   ],
   "source": [
    "print(models_answers_api[NEEW_INDEX])"
   ]
  },
  {
   "cell_type": "code",
   "execution_count": 593,
   "metadata": {},
   "outputs": [
    {
     "data": {
      "text/plain": [
       "101"
      ]
     },
     "execution_count": 593,
     "metadata": {},
     "output_type": "execute_result"
    }
   ],
   "source": [
    "len(models_answers_is_correct)"
   ]
  },
  {
   "cell_type": "code",
   "execution_count": 201,
   "metadata": {},
   "outputs": [],
   "source": [
    "del models_answers_api[25]\n",
    "del models_answers_is_correct[25]"
   ]
  },
  {
   "cell_type": "code",
   "execution_count": 598,
   "metadata": {},
   "outputs": [
    {
     "data": {
      "text/plain": [
       "101"
      ]
     },
     "execution_count": 598,
     "metadata": {},
     "output_type": "execute_result"
    }
   ],
   "source": [
    "len(df.select(range(101)))"
   ]
  },
  {
   "cell_type": "code",
   "execution_count": 536,
   "metadata": {},
   "outputs": [
    {
     "data": {
      "text/plain": [
       "Dataset({\n",
       "    features: ['Problem', 'Rationale', 'options', 'correct', 'annotated_formula', 'linear_formula', 'category', 'prompt_with_few_shots'],\n",
       "    num_rows: 100\n",
       "})"
      ]
     },
     "execution_count": 536,
     "metadata": {},
     "output_type": "execute_result"
    }
   ],
   "source": [
    "df"
   ]
  },
  {
   "cell_type": "code",
   "execution_count": 537,
   "metadata": {},
   "outputs": [],
   "source": [
    "from datasets import Dataset\n",
    "\n",
    "data_dict = {\n",
    "    \"prompt\": df.select(range(100))['prompt_with_few_shots'],\n",
    "    \"model_ans\": models_answers_api,\n",
    "    'ground_truth': df.select(range(100))['correct'],\n",
    "    'options': df.select(range(100))['options'],\n",
    "    \"is_coorect\": models_answers_is_correct\n",
    "}\n",
    "\n",
    "new_dataset = Dataset.from_dict(data_dict)"
   ]
  },
  {
   "cell_type": "code",
   "execution_count": 539,
   "metadata": {},
   "outputs": [
    {
     "data": {
      "text/plain": [
       "{'prompt': \"En tant que spécialiste expérimenté en résolution de problèmes, résolvez étape par étape les questions Mathématiques suivantes.\\n\\nQuestion : Dans le bosquet, il y a 15 arbres. Aujourd'hui, les travailleurs vont planter des arbres dans le bosquet. Après qu'ils auront fini, il y aura 21 arbres. Combien d'arbres les travailleurs ont-ils plantés aujourd'hui ?\\nRéponse : Commençons avec 15 arbres. Plus tard, nous aurons 21 arbres. La différence doit être le nombre d'arbres qu'ils ont plantés. Ainsi, ils ont dû planter 21 - 15 = 6 arbres. La réponse est 6.\\n\\nQuestion : Si sur le parking il y a 3 voitures et que 2 autres arrivent, combien de voitures y a-t-il sur le parking ?\\nRéponse : Il y a déjà 3 voitures sur le parking. En arrivent 2 autres. Maintenant, il y en a 3 + 2 = 5. La réponse est 5.\\n\\nQuestion : Lia avait 32 chocolats et sa sœur en avait 42. Si elles en ont mangé 35, combien leur en reste-t-il en tout ?\\nRéponse : Lia avait 32 chocolats et la sœur de Lia en avait 42. Cela signifie qu'au début, il y avait 32 + 42 = 74 chocolats. Il en a été mangé 35. Ainsi, au total, il leur reste 74 - 35 = 39 chocolats. La réponse est 39.\\n\\nQuestion : Sean a cinq jouets. À Noël, il a reçu deux jouets de sa mère et deux de son père. Combien de jouets a-t-il maintenant ?\\nRéponse : Il a 5 jouets. Il a reçu 2 jouets de sa mère, et maintenant il en a 5 + 2 = 7. Ensuite, il a reçu 2 autres jouets de son père, ce qui fait un total de 7 + 2 = 9 jouets. La réponse est 9.\\n\\nQuestion : Olivia a 23 dollars. Elle a acheté cinq bagels à 3 dollars chacun. Combien d'argent lui reste-t-il ?\\nRéponse : Elle a acheté 5 bagels à 3 dollars chacun. Cela signifie qu'elle a dépensé 5 * 3 dollars = 15 dollars pour les bagels. Au début, elle avait 23 dollars, donc maintenant elle a 23 dollars - 15 dollars = 8 dollars. La réponse est 8.\\n\\nQuestion: Le salaire moyen mensuel des 55 employés d'une entreprise est de 8 500 roupies. Si le salaire du manager est ajouté, le salaire moyen passe à 8 800 roupies. Quel est le salaire du manager?\\nRéponse: \",\n",
       " 'model_ans': \"\\nJe vais résoudre cette question étape par étape.\\n\\nTout d'abord, nous savons que le salaire moyen mensuel des 55 employés est de 8 500 roupies. Cela signifie que le total des salaires des 55 employés est égal à 55 fois 8 500, soit 55 x 8 500 = 467 500 roupies.\\n\\nEnsuite, nous savons que le salaire moyen mensuel des 55 employés, y compris le salaire du manager, est de 8 800 roupies. Cela signifie que le total des salaires des 55 employés, y compris le salaire du manager, est égal à 55 fois 8 800, soit 55 x 8 800 = 482 000 roupies.\\n\\nMaintenant, nous pouvons trouver le salaire du manager en soustrayant le total des salaires des 55 employés (467 500 roupies) du total des salaires des 55 employés y compris le salaire du manager (482 000 roupies). Cela nous donne :\\n\\n482 000 - 467 500 = 14 500 roupies\\n\\nDonc, le salaire du manager est de 14 500 roupies.\\n\\nLa réponse est 14 500.\\n\",\n",
       " 'ground_truth': 'd',\n",
       " 'options': 'a ) 10000 , b ) 12000 , c ) 23000 , d ) 25300 , e ) 45000',\n",
       " 'is_coorect': 0}"
      ]
     },
     "execution_count": 539,
     "metadata": {},
     "output_type": "execute_result"
    }
   ],
   "source": [
    "new_dataset[0]"
   ]
  },
  {
   "cell_type": "code",
   "execution_count": 540,
   "metadata": {},
   "outputs": [
    {
     "data": {
      "application/vnd.jupyter.widget-view+json": {
       "model_id": "33d183d138ab4d0ebb50853630688f5a",
       "version_major": 2,
       "version_minor": 0
      },
      "text/plain": [
       "Saving the dataset (0/1 shards):   0%|          | 0/100 [00:00<?, ? examples/s]"
      ]
     },
     "metadata": {},
     "output_type": "display_data"
    }
   ],
   "source": [
    "new_dataset.save_to_disk('dataset_s/base_generation/fr_math.hf')"
   ]
  },
  {
   "cell_type": "code",
   "execution_count": 541,
   "metadata": {},
   "outputs": [
    {
     "data": {
      "text/plain": [
       "Counter({0: 77, 1: 23})"
      ]
     },
     "execution_count": 541,
     "metadata": {},
     "output_type": "execute_result"
    }
   ],
   "source": [
    "from collections import Counter\n",
    "values = Counter(new_dataset['is_coorect'])\n",
    "values"
   ]
  },
  {
   "cell_type": "code",
   "execution_count": null,
   "metadata": {},
   "outputs": [],
   "source": []
  }
 ],
 "metadata": {
  "kernelspec": {
   "display_name": "Python 3",
   "language": "python",
   "name": "python3"
  },
  "language_info": {
   "codemirror_mode": {
    "name": "ipython",
    "version": 3
   },
   "file_extension": ".py",
   "mimetype": "text/x-python",
   "name": "python",
   "nbconvert_exporter": "python",
   "pygments_lexer": "ipython3",
   "version": "3.10.13"
  }
 },
 "nbformat": 4,
 "nbformat_minor": 2
}
