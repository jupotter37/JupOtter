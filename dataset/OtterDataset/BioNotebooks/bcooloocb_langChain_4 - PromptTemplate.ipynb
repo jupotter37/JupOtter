{
 "cells": [
  {
   "cell_type": "markdown",
   "id": "a3191092",
   "metadata": {},
   "source": [
    "# PromptTemplate - No Input Variable"
   ]
  },
  {
   "cell_type": "code",
   "execution_count": 2,
   "id": "e7cad216-a2bc-4fa1-a3e7-07d0b2a1a453",
   "metadata": {},
   "outputs": [
    {
     "name": "stdout",
     "output_type": "stream",
     "text": [
      "Requirement already satisfied: openai in c:\\users\\bharanidharan.a\\appdata\\local\\anaconda3\\lib\\site-packages (1.42.0)Note: you may need to restart the kernel to use updated packages.\n",
      "\n",
      "Requirement already satisfied: anyio<5,>=3.5.0 in c:\\users\\bharanidharan.a\\appdata\\local\\anaconda3\\lib\\site-packages (from openai) (4.2.0)\n",
      "Requirement already satisfied: distro<2,>=1.7.0 in c:\\users\\bharanidharan.a\\appdata\\local\\anaconda3\\lib\\site-packages (from openai) (1.9.0)\n",
      "Requirement already satisfied: httpx<1,>=0.23.0 in c:\\users\\bharanidharan.a\\appdata\\local\\anaconda3\\lib\\site-packages (from openai) (0.27.0)\n",
      "Requirement already satisfied: jiter<1,>=0.4.0 in c:\\users\\bharanidharan.a\\appdata\\local\\anaconda3\\lib\\site-packages (from openai) (0.5.0)\n",
      "Requirement already satisfied: pydantic<3,>=1.9.0 in c:\\users\\bharanidharan.a\\appdata\\local\\anaconda3\\lib\\site-packages (from openai) (2.8.2)\n",
      "Requirement already satisfied: sniffio in c:\\users\\bharanidharan.a\\appdata\\local\\anaconda3\\lib\\site-packages (from openai) (1.3.0)\n",
      "Requirement already satisfied: tqdm>4 in c:\\users\\bharanidharan.a\\appdata\\local\\anaconda3\\lib\\site-packages (from openai) (4.66.4)\n",
      "Requirement already satisfied: typing-extensions<5,>=4.11 in c:\\users\\bharanidharan.a\\appdata\\local\\anaconda3\\lib\\site-packages (from openai) (4.11.0)\n",
      "Requirement already satisfied: idna>=2.8 in c:\\users\\bharanidharan.a\\appdata\\local\\anaconda3\\lib\\site-packages (from anyio<5,>=3.5.0->openai) (3.7)\n",
      "Requirement already satisfied: certifi in c:\\users\\bharanidharan.a\\appdata\\local\\anaconda3\\lib\\site-packages (from httpx<1,>=0.23.0->openai) (2024.6.2)\n",
      "Requirement already satisfied: httpcore==1.* in c:\\users\\bharanidharan.a\\appdata\\local\\anaconda3\\lib\\site-packages (from httpx<1,>=0.23.0->openai) (1.0.5)\n",
      "Requirement already satisfied: h11<0.15,>=0.13 in c:\\users\\bharanidharan.a\\appdata\\local\\anaconda3\\lib\\site-packages (from httpcore==1.*->httpx<1,>=0.23.0->openai) (0.14.0)\n",
      "Requirement already satisfied: annotated-types>=0.4.0 in c:\\users\\bharanidharan.a\\appdata\\local\\anaconda3\\lib\\site-packages (from pydantic<3,>=1.9.0->openai) (0.6.0)\n",
      "Requirement already satisfied: pydantic-core==2.20.1 in c:\\users\\bharanidharan.a\\appdata\\local\\anaconda3\\lib\\site-packages (from pydantic<3,>=1.9.0->openai) (2.20.1)\n",
      "Requirement already satisfied: colorama in c:\\users\\bharanidharan.a\\appdata\\local\\anaconda3\\lib\\site-packages (from tqdm>4->openai) (0.4.6)\n"
     ]
    }
   ],
   "source": [
    "pip install openai"
   ]
  },
  {
   "cell_type": "code",
   "execution_count": 3,
   "id": "0e51a5aa",
   "metadata": {},
   "outputs": [],
   "source": [
    "import openai\n",
    "import os \n",
    "from langchain.chat_models import ChatOpenAI\n",
    "from langchain.llms import OpenAI\n",
    "from langchain import PromptTemplate\n",
    "import getpass"
   ]
  },
  {
   "cell_type": "code",
   "execution_count": 4,
   "id": "ac3856ac",
   "metadata": {},
   "outputs": [
    {
     "name": "stdin",
     "output_type": "stream",
     "text": [
      " ········\n"
     ]
    }
   ],
   "source": [
    "os.environ['OPENAI_API_KEY'] = getpass.getpass()"
   ]
  },
  {
   "cell_type": "code",
   "execution_count": 5,
   "id": "d717b672",
   "metadata": {},
   "outputs": [],
   "source": [
    "openai.api_key = os.getenv('OPENAI_API_KEY')"
   ]
  },
  {
   "cell_type": "code",
   "execution_count": 6,
   "id": "bfdf4e37",
   "metadata": {},
   "outputs": [],
   "source": [
    "template = PromptTemplate(input_variables=[],template='What is chemistry?')"
   ]
  },
  {
   "cell_type": "code",
   "execution_count": 7,
   "id": "9fb22cc5",
   "metadata": {},
   "outputs": [
    {
     "data": {
      "text/plain": [
       "PromptTemplate(input_variables=[], template='What is chemistry?')"
      ]
     },
     "execution_count": 7,
     "metadata": {},
     "output_type": "execute_result"
    }
   ],
   "source": [
    "template"
   ]
  },
  {
   "cell_type": "code",
   "execution_count": 8,
   "id": "188b94dc",
   "metadata": {},
   "outputs": [
    {
     "data": {
      "text/plain": [
       "'What is chemistry?'"
      ]
     },
     "execution_count": 8,
     "metadata": {},
     "output_type": "execute_result"
    }
   ],
   "source": [
    "template.format()"
   ]
  },
  {
   "cell_type": "code",
   "execution_count": 9,
   "id": "c03734e8",
   "metadata": {},
   "outputs": [
    {
     "name": "stderr",
     "output_type": "stream",
     "text": [
      "C:\\Users\\bharanidharan.a\\AppData\\Local\\anaconda3\\Lib\\site-packages\\langchain_core\\_api\\deprecation.py:151: LangChainDeprecationWarning: The class `OpenAI` was deprecated in LangChain 0.0.10 and will be removed in 0.3.0. An updated version of the class exists in the langchain-openai package and should be used instead. To use it run `pip install -U langchain-openai` and import as `from langchain_openai import OpenAI`.\n",
      "  warn_deprecated(\n"
     ]
    }
   ],
   "source": [
    "llm = OpenAI(openai_api_key=openai.api_key)"
   ]
  },
  {
   "cell_type": "code",
   "execution_count": 10,
   "id": "1537c3dc",
   "metadata": {},
   "outputs": [
    {
     "name": "stderr",
     "output_type": "stream",
     "text": [
      "C:\\Users\\bharanidharan.a\\AppData\\Local\\anaconda3\\Lib\\site-packages\\langchain_core\\_api\\deprecation.py:151: LangChainDeprecationWarning: The method `BaseLLM.__call__` was deprecated in langchain-core 0.1.7 and will be removed in 1.0. Use invoke instead.\n",
      "  warn_deprecated(\n"
     ]
    },
    {
     "name": "stdout",
     "output_type": "stream",
     "text": [
      "\n",
      "\n",
      "Chemistry is the scientific study of matter, its properties, and the changes it undergoes. It is concerned with the composition, structure, and properties of substances, as well as the reactions that occur between them. Chemistry plays a crucial role in understanding the world around us and in developing new materials, medicines, and technologies. It also helps us to understand the fundamental processes of life and the natural world.\n"
     ]
    }
   ],
   "source": [
    "print(llm(template.format()))"
   ]
  },
  {
   "cell_type": "code",
   "execution_count": 11,
   "id": "d284e650",
   "metadata": {},
   "outputs": [
    {
     "name": "stdin",
     "output_type": "stream",
     "text": [
      "Please enter a prompt:  science\n"
     ]
    },
    {
     "name": "stdout",
     "output_type": "stream",
     "text": [
      "------------\n",
      "Answer from OpenAI: \n",
      "\n",
      "Science is a systematic and evidence-based approach to understanding the natural world through observation, experimentation, and analysis. It involves using the scientific method to form hypotheses, test them through experiments, and gather data to support or refute those hypotheses. Science covers a wide range of fields, including biology, chemistry, physics, and psychology, and it is used to explain natural phenomena, make predictions, and develop new technologies. The goal of science is to increase our understanding of the world and improve our lives through the acquisition of knowledge.\n"
     ]
    }
   ],
   "source": [
    "def describe_template(subject):\n",
    "    \n",
    "    prompt = PromptTemplate(input_variables=[\"subject\"],\n",
    "    template=\"What is {subject}?\")\n",
    "\n",
    "    return llm(prompt.format(subject=subject))\n",
    "\n",
    "question = input(\"Please enter a prompt: \")\n",
    "openai_reply = describe_template(question)\n",
    "print(\"------------\")\n",
    "print(f\"Answer from OpenAI: {openai_reply}\")"
   ]
  },
  {
   "cell_type": "code",
   "execution_count": null,
   "id": "b31c2163",
   "metadata": {},
   "outputs": [],
   "source": [
    "def describe_template_two(subject, tone):\n",
    "    \n",
    "    prompt = PromptTemplate(input_variables=[\"subject\", \"tone\"],\n",
    "    template=\"What is {subject}? The tone should be {tone}.\")\n",
    "\n",
    "    return llm(prompt.format(subject=subject, tone=tone))\n",
    "\n",
    "question = input(\"Please enter a prompt: \")\n",
    "tone = input(\"Please enter the tone: \")\n",
    "openai_reply = describe_template_two(question, tone)\n",
    "print(\"------------\")\n",
    "print(f\"Answer from OpenAI: {openai_reply}\")"
   ]
  },
  {
   "cell_type": "code",
   "execution_count": null,
   "id": "a9b5de22",
   "metadata": {},
   "outputs": [],
   "source": [
    "from langchain.prompts import ChatPromptTemplate,SystemMessagePromptTemplate,AIMessagePromptTemplate,HumanMessagePromptTemplate"
   ]
  },
  {
   "cell_type": "code",
   "execution_count": null,
   "id": "d0611f3e",
   "metadata": {},
   "outputs": [],
   "source": [
    "from langchain.schema import AIMessage,HumanMessage,SystemMessage"
   ]
  },
  {
   "cell_type": "code",
   "execution_count": null,
   "id": "96df49a7",
   "metadata": {},
   "outputs": [],
   "source": [
    "chat_llm = ChatOpenAI(openai_api_key=openai.api_key,model_name=\"gpt-3.5-turbo\")"
   ]
  },
  {
   "cell_type": "code",
   "execution_count": null,
   "id": "3634d296",
   "metadata": {},
   "outputs": [],
   "source": [
    "def consult(expertise, question):\n",
    "    \n",
    "    system_template = 'You are a consultant that is an expert in {expertise}'\n",
    "    system_message = SystemMessagePromptTemplate.from_template(system_template)\n",
    "    \n",
    "    human_template = \"{question}\"\n",
    "    human_message = HumanMessagePromptTemplate.from_template(human_template)\n",
    "    \n",
    "    chat_prompt = ChatPromptTemplate.from_messages([system_message,human_message])\n",
    "    prompt = chat_prompt.format_prompt(expertise=expertise,question=question).to_messages()\n",
    "    reply = chat_llm(prompt)\n",
    "\n",
    "    return reply.content\n",
    "    \n",
    "    #return reply.content\n",
    "\n",
    "expertise = input(\"What is the expertise of the consultant? \")\n",
    "question = input(\"What is the question for the consultant? \")\n",
    "openai_reply = consult(expertise, question)\n",
    "print(\"------------\")\n",
    "print(f\"Answer from OpenAI: {openai_reply}\")\n"
   ]
  },
  {
   "cell_type": "code",
   "execution_count": null,
   "id": "22fda051",
   "metadata": {},
   "outputs": [],
   "source": [
    "system_template = 'You are a consultant that is an expert in {expertise}'\n",
    "system_message = SystemMessagePromptTemplate.from_template(system_template)"
   ]
  },
  {
   "cell_type": "code",
   "execution_count": null,
   "id": "e344adfe",
   "metadata": {},
   "outputs": [],
   "source": [
    "system_message.input_variables"
   ]
  },
  {
   "cell_type": "code",
   "execution_count": null,
   "id": "62f1a73b",
   "metadata": {},
   "outputs": [],
   "source": [
    "def shakespeare_convert(modern_text_input):\n",
    "    template = \"You are an expert in translating modern Enlish into Shakespearean prose.\"\n",
    "    system_message = SystemMessagePromptTemplate.from_template(template)\n",
    "\n",
    "    modern_text = \"I just updated my profile picture.\"\n",
    "    modern_text_one = HumanMessagePromptTemplate.from_template(modern_text)\n",
    "\n",
    "    shakespeare_text = \"I hath but refreshed mine own visage upon yon profile.\"\n",
    "    shakespeare_text_one = AIMessagePromptTemplate.from_template(shakespeare_text)\n",
    "    \n",
    "    modern_text = \"I binge-watched that series last night.\"\n",
    "    modern_text_two = HumanMessagePromptTemplate.from_template(modern_text)\n",
    "\n",
    "    shakespeare_text = \"I didst indulge in viewing yon series through the night.\"\n",
    "    shakespeare_text_two = AIMessagePromptTemplate.from_template(shakespeare_text)    \n",
    "\n",
    "    human_template = \"{modern_text_input}\"\n",
    "    human_message = HumanMessagePromptTemplate.from_template(human_template)\n",
    "\n",
    "    chat_prompt = ChatPromptTemplate.from_messages(\n",
    "        [system_message, modern_text_one, shakespeare_text_one, modern_text_two, shakespeare_text_two, human_message]\n",
    "    )\n",
    "\n",
    "    prompt = chat_prompt.format_prompt(modern_text_input=modern_text_input).to_messages()\n",
    "\n",
    "    reply = chat_llm(prompt)\n",
    "\n",
    "    return reply.content\n",
    "\n",
    "modern_text_input = input(\"Enter a sentence: \")\n",
    "openai_reply = shakespeare_convert(modern_text_input)\n",
    "print(\"------------\")\n",
    "print(f\"Answer from OpenAI: {openai_reply}\")\n",
    "\n"
   ]
  },
  {
   "cell_type": "code",
   "execution_count": null,
   "id": "99aa3bc5",
   "metadata": {},
   "outputs": [],
   "source": []
  }
 ],
 "metadata": {
  "kernelspec": {
   "display_name": "Python 3 (ipykernel)",
   "language": "python",
   "name": "python3"
  },
  "language_info": {
   "codemirror_mode": {
    "name": "ipython",
    "version": 3
   },
   "file_extension": ".py",
   "mimetype": "text/x-python",
   "name": "python",
   "nbconvert_exporter": "python",
   "pygments_lexer": "ipython3",
   "version": "3.12.4"
  }
 },
 "nbformat": 4,
 "nbformat_minor": 5
}
