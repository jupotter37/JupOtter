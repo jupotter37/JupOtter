{
 "cells": [
  {
   "cell_type": "markdown",
   "id": "85ac30f5-b708-43ad-8966-ca348fe9e171",
   "metadata": {},
   "source": [
    "# Seldonian Algorithm Application on Predicting Students' GPA in Brazil\n",
    "\n",
    "### Author: Dasha Asienga\n",
    "\n",
    "We've seen how the Seldonian Algorithm can be applied to synthetic data in a regression setting. Now, let's extend that further by demonstrating the application to a real-world data set, still within the regression setting. We'll be using a data set that contains anonymized information about an applicant's scores on nine exams taken as part of the application process to a university in Brazil (Federal University of Rio Grande do Sul), as well as their corresponding GPA during the first three semesters at university.\n",
    "\n",
    "The codebook for the data is contained in the `Data Sets` folder of the repository. \n",
    "\n",
    "There are 2 sensitive variables: race and gender. \n",
    "\n",
    "We'll largely mimic the set-up of the tutorial with a few edits to suit our data set, especially when defining our fairness constraints. "
   ]
  },
  {
   "cell_type": "markdown",
   "id": "08650141-b274-47a5-8cc0-8c1ce988da83",
   "metadata": {},
   "source": [
    "### Import Necessary Libraries"
   ]
  },
  {
   "cell_type": "code",
   "execution_count": 1,
   "id": "90051861-2d51-4e4e-b3f5-623cd22f68df",
   "metadata": {
    "tags": []
   },
   "outputs": [],
   "source": [
    "import math\n",
    "import numpy as np\n",
    "import sys\n",
    "import pandas as pd # Work with data sets \n",
    "from sklearn.linear_model import LinearRegression\n",
    "from sklearn.model_selection import train_test_split\n",
    "from scipy.stats import t\n",
    "from scipy.optimize import minimize # The black-box optimization algorithm used to find a candidate solution "
   ]
  },
  {
   "cell_type": "code",
   "execution_count": 2,
   "id": "36194df1-8756-4812-a098-d2d43238a515",
   "metadata": {
    "tags": []
   },
   "outputs": [],
   "source": [
    "np.set_printoptions(precision=5, suppress=True)"
   ]
  },
  {
   "cell_type": "markdown",
   "id": "4ab30842-d0b8-45d6-a443-1b50ae98fde6",
   "metadata": {},
   "source": [
    "### Read in the Data\n",
    "\n",
    "Next, let's read in the data set."
   ]
  },
  {
   "cell_type": "code",
   "execution_count": 3,
   "id": "869ef668-bfaf-4741-84d4-9c10e3558da3",
   "metadata": {
    "tags": []
   },
   "outputs": [],
   "source": [
    "columns = [\"Gender\", \"Physics\", \"Biology\", \n",
    "    \"History\", \"Second_Language\", \"Geography\", \n",
    "    \"Literature\", \"Portuguese_and_Essay\", \n",
    "    \"Math\", \"Chemistry\", \"GPA\"]\n",
    "\n",
    "df = pd.read_csv(\"DataSets/data.csv\", header = None, names=columns)"
   ]
  },
  {
   "cell_type": "code",
   "execution_count": 4,
   "id": "28eb4d49-6e9c-4e23-90a9-1bed67cd8fa4",
   "metadata": {
    "tags": []
   },
   "outputs": [
    {
     "data": {
      "text/html": [
       "<div>\n",
       "<style scoped>\n",
       "    .dataframe tbody tr th:only-of-type {\n",
       "        vertical-align: middle;\n",
       "    }\n",
       "\n",
       "    .dataframe tbody tr th {\n",
       "        vertical-align: top;\n",
       "    }\n",
       "\n",
       "    .dataframe thead th {\n",
       "        text-align: right;\n",
       "    }\n",
       "</style>\n",
       "<table border=\"1\" class=\"dataframe\">\n",
       "  <thead>\n",
       "    <tr style=\"text-align: right;\">\n",
       "      <th></th>\n",
       "      <th>Gender</th>\n",
       "      <th>Physics</th>\n",
       "      <th>Biology</th>\n",
       "      <th>History</th>\n",
       "      <th>Second_Language</th>\n",
       "      <th>Geography</th>\n",
       "      <th>Literature</th>\n",
       "      <th>Portuguese_and_Essay</th>\n",
       "      <th>Math</th>\n",
       "      <th>Chemistry</th>\n",
       "      <th>GPA</th>\n",
       "    </tr>\n",
       "  </thead>\n",
       "  <tbody>\n",
       "    <tr>\n",
       "      <th>0</th>\n",
       "      <td>0</td>\n",
       "      <td>622.60</td>\n",
       "      <td>491.56</td>\n",
       "      <td>439.93</td>\n",
       "      <td>707.64</td>\n",
       "      <td>663.65</td>\n",
       "      <td>557.09</td>\n",
       "      <td>711.37</td>\n",
       "      <td>731.31</td>\n",
       "      <td>509.80</td>\n",
       "      <td>1.33333</td>\n",
       "    </tr>\n",
       "    <tr>\n",
       "      <th>1</th>\n",
       "      <td>1</td>\n",
       "      <td>538.00</td>\n",
       "      <td>490.58</td>\n",
       "      <td>406.59</td>\n",
       "      <td>529.05</td>\n",
       "      <td>532.28</td>\n",
       "      <td>447.23</td>\n",
       "      <td>527.58</td>\n",
       "      <td>379.14</td>\n",
       "      <td>488.64</td>\n",
       "      <td>2.98333</td>\n",
       "    </tr>\n",
       "    <tr>\n",
       "      <th>2</th>\n",
       "      <td>1</td>\n",
       "      <td>455.18</td>\n",
       "      <td>440.00</td>\n",
       "      <td>570.86</td>\n",
       "      <td>417.54</td>\n",
       "      <td>453.53</td>\n",
       "      <td>425.87</td>\n",
       "      <td>475.63</td>\n",
       "      <td>476.11</td>\n",
       "      <td>407.15</td>\n",
       "      <td>1.97333</td>\n",
       "    </tr>\n",
       "    <tr>\n",
       "      <th>3</th>\n",
       "      <td>0</td>\n",
       "      <td>756.91</td>\n",
       "      <td>679.62</td>\n",
       "      <td>531.28</td>\n",
       "      <td>583.63</td>\n",
       "      <td>534.42</td>\n",
       "      <td>521.40</td>\n",
       "      <td>592.41</td>\n",
       "      <td>783.76</td>\n",
       "      <td>588.26</td>\n",
       "      <td>2.53333</td>\n",
       "    </tr>\n",
       "    <tr>\n",
       "      <th>4</th>\n",
       "      <td>1</td>\n",
       "      <td>584.54</td>\n",
       "      <td>649.84</td>\n",
       "      <td>637.43</td>\n",
       "      <td>609.06</td>\n",
       "      <td>670.46</td>\n",
       "      <td>515.38</td>\n",
       "      <td>572.52</td>\n",
       "      <td>581.25</td>\n",
       "      <td>529.04</td>\n",
       "      <td>1.58667</td>\n",
       "    </tr>\n",
       "  </tbody>\n",
       "</table>\n",
       "</div>"
      ],
      "text/plain": [
       "   Gender  Physics  Biology  History  Second_Language  Geography  Literature  \\\n",
       "0       0   622.60   491.56   439.93           707.64     663.65      557.09   \n",
       "1       1   538.00   490.58   406.59           529.05     532.28      447.23   \n",
       "2       1   455.18   440.00   570.86           417.54     453.53      425.87   \n",
       "3       0   756.91   679.62   531.28           583.63     534.42      521.40   \n",
       "4       1   584.54   649.84   637.43           609.06     670.46      515.38   \n",
       "\n",
       "   Portuguese_and_Essay    Math  Chemistry      GPA  \n",
       "0                711.37  731.31     509.80  1.33333  \n",
       "1                527.58  379.14     488.64  2.98333  \n",
       "2                475.63  476.11     407.15  1.97333  \n",
       "3                592.41  783.76     588.26  2.53333  \n",
       "4                572.52  581.25     529.04  1.58667  "
      ]
     },
     "execution_count": 4,
     "metadata": {},
     "output_type": "execute_result"
    }
   ],
   "source": [
    "df.head()"
   ]
  },
  {
   "cell_type": "markdown",
   "id": "8ca8f4e2-29d1-4207-8462-2e08e9bf4bb0",
   "metadata": {},
   "source": [
    "Let's extract the predictor variables."
   ]
  },
  {
   "cell_type": "code",
   "execution_count": 5,
   "id": "30e761c7-1089-4ff9-b7cb-14a8fb07c1e8",
   "metadata": {
    "tags": []
   },
   "outputs": [],
   "source": [
    "X = df.drop(columns=[\"GPA\"])"
   ]
  },
  {
   "cell_type": "code",
   "execution_count": 6,
   "id": "72760b14-acb1-4cbf-a154-511243da3269",
   "metadata": {
    "tags": []
   },
   "outputs": [
    {
     "data": {
      "text/html": [
       "<div>\n",
       "<style scoped>\n",
       "    .dataframe tbody tr th:only-of-type {\n",
       "        vertical-align: middle;\n",
       "    }\n",
       "\n",
       "    .dataframe tbody tr th {\n",
       "        vertical-align: top;\n",
       "    }\n",
       "\n",
       "    .dataframe thead th {\n",
       "        text-align: right;\n",
       "    }\n",
       "</style>\n",
       "<table border=\"1\" class=\"dataframe\">\n",
       "  <thead>\n",
       "    <tr style=\"text-align: right;\">\n",
       "      <th></th>\n",
       "      <th>Gender</th>\n",
       "      <th>Physics</th>\n",
       "      <th>Biology</th>\n",
       "      <th>History</th>\n",
       "      <th>Second_Language</th>\n",
       "      <th>Geography</th>\n",
       "      <th>Literature</th>\n",
       "      <th>Portuguese_and_Essay</th>\n",
       "      <th>Math</th>\n",
       "      <th>Chemistry</th>\n",
       "    </tr>\n",
       "  </thead>\n",
       "  <tbody>\n",
       "    <tr>\n",
       "      <th>0</th>\n",
       "      <td>0</td>\n",
       "      <td>622.60</td>\n",
       "      <td>491.56</td>\n",
       "      <td>439.93</td>\n",
       "      <td>707.64</td>\n",
       "      <td>663.65</td>\n",
       "      <td>557.09</td>\n",
       "      <td>711.37</td>\n",
       "      <td>731.31</td>\n",
       "      <td>509.80</td>\n",
       "    </tr>\n",
       "    <tr>\n",
       "      <th>1</th>\n",
       "      <td>1</td>\n",
       "      <td>538.00</td>\n",
       "      <td>490.58</td>\n",
       "      <td>406.59</td>\n",
       "      <td>529.05</td>\n",
       "      <td>532.28</td>\n",
       "      <td>447.23</td>\n",
       "      <td>527.58</td>\n",
       "      <td>379.14</td>\n",
       "      <td>488.64</td>\n",
       "    </tr>\n",
       "    <tr>\n",
       "      <th>2</th>\n",
       "      <td>1</td>\n",
       "      <td>455.18</td>\n",
       "      <td>440.00</td>\n",
       "      <td>570.86</td>\n",
       "      <td>417.54</td>\n",
       "      <td>453.53</td>\n",
       "      <td>425.87</td>\n",
       "      <td>475.63</td>\n",
       "      <td>476.11</td>\n",
       "      <td>407.15</td>\n",
       "    </tr>\n",
       "    <tr>\n",
       "      <th>3</th>\n",
       "      <td>0</td>\n",
       "      <td>756.91</td>\n",
       "      <td>679.62</td>\n",
       "      <td>531.28</td>\n",
       "      <td>583.63</td>\n",
       "      <td>534.42</td>\n",
       "      <td>521.40</td>\n",
       "      <td>592.41</td>\n",
       "      <td>783.76</td>\n",
       "      <td>588.26</td>\n",
       "    </tr>\n",
       "    <tr>\n",
       "      <th>4</th>\n",
       "      <td>1</td>\n",
       "      <td>584.54</td>\n",
       "      <td>649.84</td>\n",
       "      <td>637.43</td>\n",
       "      <td>609.06</td>\n",
       "      <td>670.46</td>\n",
       "      <td>515.38</td>\n",
       "      <td>572.52</td>\n",
       "      <td>581.25</td>\n",
       "      <td>529.04</td>\n",
       "    </tr>\n",
       "  </tbody>\n",
       "</table>\n",
       "</div>"
      ],
      "text/plain": [
       "   Gender  Physics  Biology  History  Second_Language  Geography  Literature  \\\n",
       "0       0   622.60   491.56   439.93           707.64     663.65      557.09   \n",
       "1       1   538.00   490.58   406.59           529.05     532.28      447.23   \n",
       "2       1   455.18   440.00   570.86           417.54     453.53      425.87   \n",
       "3       0   756.91   679.62   531.28           583.63     534.42      521.40   \n",
       "4       1   584.54   649.84   637.43           609.06     670.46      515.38   \n",
       "\n",
       "   Portuguese_and_Essay    Math  Chemistry  \n",
       "0                711.37  731.31     509.80  \n",
       "1                527.58  379.14     488.64  \n",
       "2                475.63  476.11     407.15  \n",
       "3                592.41  783.76     588.26  \n",
       "4                572.52  581.25     529.04  "
      ]
     },
     "execution_count": 6,
     "metadata": {},
     "output_type": "execute_result"
    }
   ],
   "source": [
    "X.head()"
   ]
  },
  {
   "cell_type": "markdown",
   "id": "b1da6e7a-b574-4d3b-a65a-590cc4fc9051",
   "metadata": {},
   "source": [
    "Let's now convert this to a `numpy` array. "
   ]
  },
  {
   "cell_type": "code",
   "execution_count": 7,
   "id": "e0ac1d48-77a0-44d7-bac8-838f148675d1",
   "metadata": {
    "tags": []
   },
   "outputs": [],
   "source": [
    "X = X.values"
   ]
  },
  {
   "cell_type": "code",
   "execution_count": 8,
   "id": "a8cff1f9-74b9-46a2-9187-4df0b0f107b3",
   "metadata": {
    "tags": []
   },
   "outputs": [
    {
     "data": {
      "text/plain": [
       "array([[  0.  , 622.6 , 491.56, ..., 711.37, 731.31, 509.8 ],\n",
       "       [  1.  , 538.  , 490.58, ..., 527.58, 379.14, 488.64],\n",
       "       [  1.  , 455.18, 440.  , ..., 475.63, 476.11, 407.15],\n",
       "       ...,\n",
       "       [  0.  , 798.75, 817.58, ..., 662.05, 773.15, 835.25],\n",
       "       [  0.  , 527.66, 443.82, ..., 583.41, 395.46, 509.8 ],\n",
       "       [  0.  , 512.56, 415.41, ..., 538.35, 448.02, 496.39]])"
      ]
     },
     "execution_count": 8,
     "metadata": {},
     "output_type": "execute_result"
    }
   ],
   "source": [
    "X"
   ]
  },
  {
   "cell_type": "markdown",
   "id": "5a618727-f53e-488c-8e60-57642d7c79fa",
   "metadata": {},
   "source": [
    "Let's extract the response variable."
   ]
  },
  {
   "cell_type": "code",
   "execution_count": 9,
   "id": "976f0fe8-404f-4c76-8433-d11119380555",
   "metadata": {
    "tags": []
   },
   "outputs": [
    {
     "data": {
      "text/plain": [
       "0    1.33333\n",
       "1    2.98333\n",
       "2    1.97333\n",
       "3    2.53333\n",
       "4    1.58667\n",
       "Name: GPA, dtype: float64"
      ]
     },
     "execution_count": 9,
     "metadata": {},
     "output_type": "execute_result"
    }
   ],
   "source": [
    "Y = df[\"GPA\"]\n",
    "Y.head()"
   ]
  },
  {
   "cell_type": "code",
   "execution_count": 10,
   "id": "491dae55-ef87-425a-aba2-ad7b63aca661",
   "metadata": {
    "tags": []
   },
   "outputs": [
    {
     "data": {
      "text/plain": [
       "array([1.33333, 2.98333, 1.97333, ..., 3.75   , 2.5    , 3.16667])"
      ]
     },
     "execution_count": 10,
     "metadata": {},
     "output_type": "execute_result"
    }
   ],
   "source": [
    "Y = Y.values\n",
    "Y"
   ]
  },
  {
   "cell_type": "markdown",
   "id": "9015e2b2-37fe-4209-a6f7-f7f2a6bc11ee",
   "metadata": {},
   "source": [
    "Finally, let's extract the sensitive attribute."
   ]
  },
  {
   "cell_type": "code",
   "execution_count": 11,
   "id": "291adda3-ac2a-4a0a-9d3b-88fa5c65b0c6",
   "metadata": {
    "tags": []
   },
   "outputs": [
    {
     "data": {
      "text/plain": [
       "0    0\n",
       "1    1\n",
       "2    1\n",
       "3    0\n",
       "4    1\n",
       "Name: Gender, dtype: int64"
      ]
     },
     "execution_count": 11,
     "metadata": {},
     "output_type": "execute_result"
    }
   ],
   "source": [
    "gender = df[\"Gender\"]\n",
    "gender.head()"
   ]
  },
  {
   "cell_type": "code",
   "execution_count": 12,
   "id": "982b1700-437a-4d6e-a36b-421f60f0b5bf",
   "metadata": {
    "tags": []
   },
   "outputs": [
    {
     "data": {
      "text/plain": [
       "array([0, 1, 1, ..., 0, 0, 0])"
      ]
     },
     "execution_count": 12,
     "metadata": {},
     "output_type": "execute_result"
    }
   ],
   "source": [
    "gender = gender.values\n",
    "gender"
   ]
  },
  {
   "cell_type": "markdown",
   "id": "02f46595-802f-48a0-a4ae-da9fc10d1d9d",
   "metadata": {},
   "source": [
    "### Implement Simple/ Helper Functions"
   ]
  },
  {
   "cell_type": "code",
   "execution_count": 13,
   "id": "65763843-d408-44cf-b0bf-019020c50c27",
   "metadata": {
    "tags": []
   },
   "outputs": [],
   "source": [
    "def tinv(p, nu):\n",
    "    return t.ppf(p, nu)"
   ]
  },
  {
   "cell_type": "code",
   "execution_count": 14,
   "id": "44ebb524-eff6-447d-947d-0104b7f46384",
   "metadata": {
    "tags": []
   },
   "outputs": [],
   "source": [
    "def stddev(v):\n",
    "    n = v.size\n",
    "    variance = (np.var(v) * n) / (n-1) # Variance with Bessel's correction\n",
    "    return np.sqrt(variance)           # Compute the standard deviation"
   ]
  },
  {
   "cell_type": "code",
   "execution_count": 15,
   "id": "85d07595-efb0-4d45-804a-71d393cda3e0",
   "metadata": {
    "tags": []
   },
   "outputs": [],
   "source": [
    "def ttestUpperBound(v, delta):\n",
    "    n  = v.size\n",
    "    res = v.mean() + stddev(v) / math.sqrt(n) * tinv(1.0 - delta, n - 1)\n",
    "    return res"
   ]
  },
  {
   "cell_type": "code",
   "execution_count": 16,
   "id": "62bf76e0-4e02-4f81-891d-4cfbc83fd0e3",
   "metadata": {
    "tags": []
   },
   "outputs": [],
   "source": [
    "def predictTTestUpperBound(v, delta, k):\n",
    "    # conservative prediction of what the upper bound will be in the safety test for the a given constraint\n",
    "    res = v.mean() + 2.0 * stddev(v) / math.sqrt(k) * tinv(1.0 - delta, k - 1)\n",
    "    return res"
   ]
  },
  {
   "cell_type": "markdown",
   "id": "6425f939-b1f9-4610-b6b4-5b8fdb4ec304",
   "metadata": {},
   "source": [
    "### Implement the QSA"
   ]
  },
  {
   "cell_type": "code",
   "execution_count": 17,
   "id": "1f8de0a9-2408-455b-bb45-508fb88db508",
   "metadata": {
    "tags": []
   },
   "outputs": [],
   "source": [
    "# Uses the weights in theta to predict the output value, y, associated with the provided x.\n",
    "# This function assumes we are performing linear regression, so that theta has two elements: \n",
    "# the y-intercept (first parameter) and slope (second parameter)\n",
    "def predict(theta, x):\n",
    "    return theta[0] + theta[1] * x"
   ]
  },
  {
   "cell_type": "code",
   "execution_count": 18,
   "id": "de4de942-6b41-49d0-a2d9-45e0b1953842",
   "metadata": {
    "tags": []
   },
   "outputs": [],
   "source": [
    "# Estimator of the primary objective, in this case, the negative sample mean squared error\n",
    "def fHat(theta, X, Y):\n",
    "    n = X.size          # Number of points in the data set\n",
    "    res = 0.0           # Used to store the sample MSE we are computing\n",
    "    for i in range(n):  # For each point X[i] in the data set ...\n",
    "        prediction = predict(theta, X[i])                # Get the prediction using theta\n",
    "        res += (prediction - Y[i]) * (prediction - Y[i]) # Add the squared error to the result\n",
    "    res /= n            # Divide by the number of points to obtain the sample mean squared error\n",
    "    return -res         # Returns the negative sample mean squared error"
   ]
  },
  {
   "cell_type": "code",
   "execution_count": 19,
   "id": "8db90adb-90c5-438e-a929-7f253f376a6e",
   "metadata": {
    "tags": []
   },
   "outputs": [],
   "source": [
    "# Returns unbiased estimates of g_1(theta), computed using the provided data\n",
    "def gHat1(theta, X, Y):\n",
    "    n = X.size          # Number of points in the data set\n",
    "    res = np.zeros(n)   # We will get one estimate per point; initialize res to store these estimates\n",
    "    for i in range(n):\n",
    "        prediction = predict(theta, X[i])                   # Compute the prediction for the i-th data point\n",
    "        res[i] = (prediction - Y[i]) * (prediction - Y[i])  # Compute the squared error for the i-th data point\n",
    "    res = res - 2.0     # We want the MSE to be less than 2.0, so g(theta) = MSE-2.0\n",
    "    return res\n",
    "\n",
    "# Returns unbiased estimates of g_2(theta), computed using the provided data\n",
    "def gHat2(theta, X, Y):\n",
    "    n = X.size          # Number of points in the data set\n",
    "    res = np.zeros(n)   # We will get one estimate per point; initialize res to store these estimates\n",
    "    for i in range(n):\n",
    "        prediction = predict(theta, X[i])                   # Compute the prediction for the i-th data point\n",
    "        res[i] = (prediction - Y[i]) * (prediction - Y[i])  # Compute the squared error for the i-th data point\n",
    "    res = 1.25 - res    # We want the MSE to be at least 1.25, so g(theta) = 1.25-MSE\n",
    "    return res"
   ]
  },
  {
   "cell_type": "code",
   "execution_count": 39,
   "id": "8645c6ac-627d-433b-a89d-e80a696a243f",
   "metadata": {
    "tags": []
   },
   "outputs": [],
   "source": [
    "# Run ordinary least squares linear regression on data (X,Y)\n",
    "def leastSq(X, Y):\n",
    "    #X = np.expand_dims(X, axis=1) # Places the input  data in a matrix\n",
    "    #Y = np.expand_dims(Y, axis=1) # Places the output data in a matrix\n",
    "    reg = LinearRegression().fit(X, Y)\n",
    "    #theta0 = reg.intercept_[0]  # Gets theta0, the y-intercept coefficient\n",
    "    #theta1 = reg.coef_[0][0]     # Gets the slope coefficients\n",
    "    theta0 = reg.intercept_  # Gets theta0, the y-intercept coefficient\n",
    "    theta1 = reg.coef_     # Gets the slope coefficients\n",
    "    #return np.array([theta0, theta1])\n",
    "    return np.concatenate((np.array([theta0]), theta1))"
   ]
  },
  {
   "cell_type": "code",
   "execution_count": 21,
   "id": "0a9adc14-d370-4ffc-923d-cad239f2046b",
   "metadata": {
    "tags": []
   },
   "outputs": [],
   "source": [
    "# Our Quasi-Seldonian linear regression algorithm operating over data (X,Y).\n",
    "# The pair of objects returned by QSA is the solution (first element) \n",
    "# and a Boolean flag indicating whether a solution was found (second element).\n",
    "def QSA(X, Y, gHats, deltas):\n",
    "  # Put 40% of the data in candidateData (D1), and the rest in safetyData (D2)\n",
    "    candidateData_len = 0.40\n",
    "    candidateData_X, safetyData_X, candidateData_Y, safetyData_Y = train_test_split(\n",
    "      X, Y, test_size=1-candidateData_len, shuffle=False)\n",
    "  \n",
    "  # Get the candidate solution\n",
    "    candidateSolution = getCandidateSolution(candidateData_X, candidateData_Y, gHats, deltas, safetyData_X.size)\n",
    "\n",
    "  # Run the safety test\n",
    "    passedSafety      = safetyTest(candidateSolution, safetyData_X, safetyData_Y, gHats, deltas)\n",
    "\n",
    "  # Return the result and success flag\n",
    "    return [candidateSolution, passedSafety]"
   ]
  },
  {
   "cell_type": "code",
   "execution_count": 22,
   "id": "1d2a2998-2013-49b4-ab76-9bf95b8bc8ce",
   "metadata": {
    "tags": []
   },
   "outputs": [],
   "source": [
    "# Run the safety test on a candidate solution. Returns true if the test is passed.\n",
    "#   candidateSolution: the solution to test. \n",
    "#   (safetyData_X, safetyData_Y): data set D2 to be used in the safety test.\n",
    "#   (gHats, deltas): vectors containing the behavioral constraints and confidence levels.\n",
    "def safetyTest(candidateSolution, safetyData_X, safetyData_Y, gHats, deltas):\n",
    "\n",
    "    for i in range(len(gHats)):  # Loop over behavioral constraints, checking each\n",
    "        g         = gHats[i]  # The current behavioral constraint being checked\n",
    "        delta     = deltas[i] # The confidence level of the constraint\n",
    "\n",
    "    # This is a vector of unbiased estimates of g(candidateSolution) -- defined above\n",
    "        g_samples = g(candidateSolution, safetyData_X, safetyData_Y) \n",
    "\n",
    "    # Check if the i-th behavioral constraint is satisfied\n",
    "        upperBound = ttestUpperBound(g_samples, delta) \n",
    "\n",
    "        if upperBound > 0.0: # If the current constraint was not satisfied, the safety test failed\n",
    "            return False\n",
    "\n",
    "  # If we get here, all of the behavioral constraints were satisfied      \n",
    "    return True"
   ]
  },
  {
   "cell_type": "code",
   "execution_count": 23,
   "id": "77eea3ec-970a-4198-8ed4-ab23d0c91705",
   "metadata": {
    "tags": []
   },
   "outputs": [],
   "source": [
    "# The objective function maximized by getCandidateSolution.\n",
    "#     thetaToEvaluate: the candidate solution to evaluate.\n",
    "#     (candidateData_X, candidateData_Y): the data set D1 used to evaluated the solution.\n",
    "#     (gHats, deltas): vectors containing the behavioral constraints and confidence levels.\n",
    "#     safetyDataSize: |D2|, used when computing the conservative upper bound on each behavioral constraint.\n",
    "def candidateObjective(thetaToEvaluate, candidateData_X, candidateData_Y, gHats, deltas, safetyDataSize): \n",
    "\n",
    "  # Get the primary objective of the solution, fHat(thetaToEvaluate)\n",
    "    result = fHat(thetaToEvaluate, candidateData_X, candidateData_Y)\n",
    "\n",
    "    predictSafetyTest = True     # Prediction of what the safety test will return. Initialized to \"True\" = pass\n",
    "    \n",
    "    for i in range(len(gHats)):  # Loop over behavioral constraints, checking each\n",
    "        g         = gHats[i]       # The current behavioral constraint being checked\n",
    "        delta     = deltas[i]      # The confidence level of the constraint\n",
    "\n",
    "    # This is a vector of unbiased estimates of g_i(thetaToEvaluate)\n",
    "        g_samples = g(thetaToEvaluate, candidateData_X, candidateData_Y)\n",
    "\n",
    "    # Get the conservative prediction of what the upper bound on g_i(thetaToEvaluate) will be in the safety test\n",
    "        upperBound = predictTTestUpperBound(g_samples, delta, safetyDataSize)\n",
    "\n",
    "    # We don't think the i-th constraint will pass the safety test if we return this candidate solution\n",
    "        if upperBound > 0.0:\n",
    "\n",
    "            if predictSafetyTest:\n",
    "        # Set this flag to indicate that we don't think the safety test will pass\n",
    "                predictSafetyTest = False  \n",
    "    \n",
    "        # Put a barrier in the objective. Any solution that we think will fail the safety test will have a\n",
    "        # large negative performance associated with it\n",
    "                result = -100000.0    \n",
    "\n",
    "      # Add a shaping to the objective function that will push the search toward solutions that will pass \n",
    "      # the prediction of the safety test\n",
    "            result = result - upperBound\n",
    "\n",
    "  # Negative because our optimizer (Powell) is a minimizer, but we want to maximize the candidate objective\n",
    "    return -result  "
   ]
  },
  {
   "cell_type": "code",
   "execution_count": 24,
   "id": "e955c833-00ab-4bc3-af54-83f4b1d4873c",
   "metadata": {
    "tags": []
   },
   "outputs": [],
   "source": [
    "# Use the provided data to get a candidate solution expected to pass the safety test.\n",
    "#    (candidateData_X, candidateData_Y): data used to compute a candidate solution.\n",
    "#    (gHats, deltas): vectors containing the behavioral constraints and confidence levels.\n",
    "#    safetyDataSize: |D2|, used when computing the conservative upper bound on each behavioral constraint.\n",
    "def getCandidateSolution(candidateData_X, candidateData_Y, gHats, deltas, safetyDataSize):\n",
    "  \n",
    "  # Chooses the black-box optimizer we will use (Powell)\n",
    "    minimizer_method = 'Powell'\n",
    "    minimizer_options={'disp': False}\n",
    "\n",
    "  # Initial solution given to Powell: simple linear fit we'd get from ordinary least squares linear regression\n",
    "    initialSolution = leastSq(candidateData_X, candidateData_Y)\n",
    "\n",
    "  # Use Powell to get a candidate solution that tries to maximize candidateObjective\n",
    "    res = minimize(candidateObjective, x0=initialSolution, method=minimizer_method, options=minimizer_options, \n",
    "    args=(candidateData_X, candidateData_Y, gHats, deltas, safetyDataSize))\n",
    "\n",
    "  # Return the candidate solution we believe will pass the safety test\n",
    "    return res.x"
   ]
  },
  {
   "cell_type": "code",
   "execution_count": 25,
   "id": "3cdd5191-90e8-4077-9ce9-96c05c2cf8a9",
   "metadata": {
    "tags": []
   },
   "outputs": [],
   "source": [
    "def main():\n",
    "    np.random.seed(0)  # Create the random number generator to use, with seed zero\n",
    "    numPoints = 5000   # Let's use 5000 points\n",
    "\n",
    "    # Create the behavioral constraints - each is a gHat function and a confidence level delta\n",
    "    gHats  = [gHat1, gHat2] # The 1st gHat requires MSE < 2.0. The 2nd gHat requires MSE > 1.25\n",
    "    deltas = [0.1, 0.1]\n",
    "\n",
    "    (result, found) = QSA(X, Y, gHats, deltas) # Run the Quasi-Seldonian algorithm\n",
    "    \n",
    "    if found:\n",
    "        print(\"A solution was found: [%.10f, %.10f]\" % (result[0], result[1]))\n",
    "        print(\"fHat of solution (computed over all data, D):\", fHat(result, X, Y))\n",
    "    else:\n",
    "        print(\"No solution found\")"
   ]
  },
  {
   "cell_type": "code",
   "execution_count": 40,
   "id": "e67e56f2-8775-4181-8b24-c9e0c3b5ef88",
   "metadata": {
    "tags": []
   },
   "outputs": [
    {
     "ename": "IndexError",
     "evalue": "index 17321 is out of bounds for axis 0 with size 17321",
     "output_type": "error",
     "traceback": [
      "\u001b[0;31m---------------------------------------------------------------------------\u001b[0m",
      "\u001b[0;31mIndexError\u001b[0m                                Traceback (most recent call last)",
      "Cell \u001b[0;32mIn[40], line 1\u001b[0m\n\u001b[0;32m----> 1\u001b[0m \u001b[43mmain\u001b[49m\u001b[43m(\u001b[49m\u001b[43m)\u001b[49m\n",
      "Cell \u001b[0;32mIn[25], line 9\u001b[0m, in \u001b[0;36mmain\u001b[0;34m()\u001b[0m\n\u001b[1;32m      6\u001b[0m gHats  \u001b[38;5;241m=\u001b[39m [gHat1, gHat2] \u001b[38;5;66;03m# The 1st gHat requires MSE < 2.0. The 2nd gHat requires MSE > 1.25\u001b[39;00m\n\u001b[1;32m      7\u001b[0m deltas \u001b[38;5;241m=\u001b[39m [\u001b[38;5;241m0.1\u001b[39m, \u001b[38;5;241m0.1\u001b[39m]\n\u001b[0;32m----> 9\u001b[0m (result, found) \u001b[38;5;241m=\u001b[39m \u001b[43mQSA\u001b[49m\u001b[43m(\u001b[49m\u001b[43mX\u001b[49m\u001b[43m,\u001b[49m\u001b[43m \u001b[49m\u001b[43mY\u001b[49m\u001b[43m,\u001b[49m\u001b[43m \u001b[49m\u001b[43mgHats\u001b[49m\u001b[43m,\u001b[49m\u001b[43m \u001b[49m\u001b[43mdeltas\u001b[49m\u001b[43m)\u001b[49m \u001b[38;5;66;03m# Run the Quasi-Seldonian algorithm\u001b[39;00m\n\u001b[1;32m     11\u001b[0m \u001b[38;5;28;01mif\u001b[39;00m found:\n\u001b[1;32m     12\u001b[0m     \u001b[38;5;28mprint\u001b[39m(\u001b[38;5;124m\"\u001b[39m\u001b[38;5;124mA solution was found: [\u001b[39m\u001b[38;5;132;01m%.10f\u001b[39;00m\u001b[38;5;124m, \u001b[39m\u001b[38;5;132;01m%.10f\u001b[39;00m\u001b[38;5;124m]\u001b[39m\u001b[38;5;124m\"\u001b[39m \u001b[38;5;241m%\u001b[39m (result[\u001b[38;5;241m0\u001b[39m], result[\u001b[38;5;241m1\u001b[39m]))\n",
      "Cell \u001b[0;32mIn[21], line 11\u001b[0m, in \u001b[0;36mQSA\u001b[0;34m(X, Y, gHats, deltas)\u001b[0m\n\u001b[1;32m      7\u001b[0m   candidateData_X, safetyData_X, candidateData_Y, safetyData_Y \u001b[38;5;241m=\u001b[39m train_test_split(\n\u001b[1;32m      8\u001b[0m     X, Y, test_size\u001b[38;5;241m=\u001b[39m\u001b[38;5;241m1\u001b[39m\u001b[38;5;241m-\u001b[39mcandidateData_len, shuffle\u001b[38;5;241m=\u001b[39m\u001b[38;5;28;01mFalse\u001b[39;00m)\n\u001b[1;32m     10\u001b[0m \u001b[38;5;66;03m# Get the candidate solution\u001b[39;00m\n\u001b[0;32m---> 11\u001b[0m   candidateSolution \u001b[38;5;241m=\u001b[39m \u001b[43mgetCandidateSolution\u001b[49m\u001b[43m(\u001b[49m\u001b[43mcandidateData_X\u001b[49m\u001b[43m,\u001b[49m\u001b[43m \u001b[49m\u001b[43mcandidateData_Y\u001b[49m\u001b[43m,\u001b[49m\u001b[43m \u001b[49m\u001b[43mgHats\u001b[49m\u001b[43m,\u001b[49m\u001b[43m \u001b[49m\u001b[43mdeltas\u001b[49m\u001b[43m,\u001b[49m\u001b[43m \u001b[49m\u001b[43msafetyData_X\u001b[49m\u001b[38;5;241;43m.\u001b[39;49m\u001b[43msize\u001b[49m\u001b[43m)\u001b[49m\n\u001b[1;32m     13\u001b[0m \u001b[38;5;66;03m# Run the safety test\u001b[39;00m\n\u001b[1;32m     14\u001b[0m   passedSafety      \u001b[38;5;241m=\u001b[39m safetyTest(candidateSolution, safetyData_X, safetyData_Y, gHats, deltas)\n",
      "Cell \u001b[0;32mIn[24], line 15\u001b[0m, in \u001b[0;36mgetCandidateSolution\u001b[0;34m(candidateData_X, candidateData_Y, gHats, deltas, safetyDataSize)\u001b[0m\n\u001b[1;32m     12\u001b[0m   initialSolution \u001b[38;5;241m=\u001b[39m leastSq(candidateData_X, candidateData_Y)\n\u001b[1;32m     14\u001b[0m \u001b[38;5;66;03m# Use Powell to get a candidate solution that tries to maximize candidateObjective\u001b[39;00m\n\u001b[0;32m---> 15\u001b[0m   res \u001b[38;5;241m=\u001b[39m \u001b[43mminimize\u001b[49m\u001b[43m(\u001b[49m\u001b[43mcandidateObjective\u001b[49m\u001b[43m,\u001b[49m\u001b[43m \u001b[49m\u001b[43mx0\u001b[49m\u001b[38;5;241;43m=\u001b[39;49m\u001b[43minitialSolution\u001b[49m\u001b[43m,\u001b[49m\u001b[43m \u001b[49m\u001b[43mmethod\u001b[49m\u001b[38;5;241;43m=\u001b[39;49m\u001b[43mminimizer_method\u001b[49m\u001b[43m,\u001b[49m\u001b[43m \u001b[49m\u001b[43moptions\u001b[49m\u001b[38;5;241;43m=\u001b[39;49m\u001b[43mminimizer_options\u001b[49m\u001b[43m,\u001b[49m\u001b[43m \u001b[49m\n\u001b[1;32m     16\u001b[0m \u001b[43m  \u001b[49m\u001b[43margs\u001b[49m\u001b[38;5;241;43m=\u001b[39;49m\u001b[43m(\u001b[49m\u001b[43mcandidateData_X\u001b[49m\u001b[43m,\u001b[49m\u001b[43m \u001b[49m\u001b[43mcandidateData_Y\u001b[49m\u001b[43m,\u001b[49m\u001b[43m \u001b[49m\u001b[43mgHats\u001b[49m\u001b[43m,\u001b[49m\u001b[43m \u001b[49m\u001b[43mdeltas\u001b[49m\u001b[43m,\u001b[49m\u001b[43m \u001b[49m\u001b[43msafetyDataSize\u001b[49m\u001b[43m)\u001b[49m\u001b[43m)\u001b[49m\n\u001b[1;32m     18\u001b[0m \u001b[38;5;66;03m# Return the candidate solution we believe will pass the safety test\u001b[39;00m\n\u001b[1;32m     19\u001b[0m   \u001b[38;5;28;01mreturn\u001b[39;00m res\u001b[38;5;241m.\u001b[39mx\n",
      "File \u001b[0;32m/cm/shared/apps/amh-python-extra-py39-gcc9/0.0.1/lib/python3.9/site-packages/scipy/optimize/_minimize.py:701\u001b[0m, in \u001b[0;36mminimize\u001b[0;34m(fun, x0, args, method, jac, hess, hessp, bounds, constraints, tol, callback, options)\u001b[0m\n\u001b[1;32m    698\u001b[0m     res \u001b[38;5;241m=\u001b[39m _minimize_neldermead(fun, x0, args, callback, bounds\u001b[38;5;241m=\u001b[39mbounds,\n\u001b[1;32m    699\u001b[0m                                \u001b[38;5;241m*\u001b[39m\u001b[38;5;241m*\u001b[39moptions)\n\u001b[1;32m    700\u001b[0m \u001b[38;5;28;01melif\u001b[39;00m meth \u001b[38;5;241m==\u001b[39m \u001b[38;5;124m'\u001b[39m\u001b[38;5;124mpowell\u001b[39m\u001b[38;5;124m'\u001b[39m:\n\u001b[0;32m--> 701\u001b[0m     res \u001b[38;5;241m=\u001b[39m \u001b[43m_minimize_powell\u001b[49m\u001b[43m(\u001b[49m\u001b[43mfun\u001b[49m\u001b[43m,\u001b[49m\u001b[43m \u001b[49m\u001b[43mx0\u001b[49m\u001b[43m,\u001b[49m\u001b[43m \u001b[49m\u001b[43margs\u001b[49m\u001b[43m,\u001b[49m\u001b[43m \u001b[49m\u001b[43mcallback\u001b[49m\u001b[43m,\u001b[49m\u001b[43m \u001b[49m\u001b[43mbounds\u001b[49m\u001b[43m,\u001b[49m\u001b[43m \u001b[49m\u001b[38;5;241;43m*\u001b[39;49m\u001b[38;5;241;43m*\u001b[39;49m\u001b[43moptions\u001b[49m\u001b[43m)\u001b[49m\n\u001b[1;32m    702\u001b[0m \u001b[38;5;28;01melif\u001b[39;00m meth \u001b[38;5;241m==\u001b[39m \u001b[38;5;124m'\u001b[39m\u001b[38;5;124mcg\u001b[39m\u001b[38;5;124m'\u001b[39m:\n\u001b[1;32m    703\u001b[0m     res \u001b[38;5;241m=\u001b[39m _minimize_cg(fun, x0, args, jac, callback, \u001b[38;5;241m*\u001b[39m\u001b[38;5;241m*\u001b[39moptions)\n",
      "File \u001b[0;32m/cm/shared/apps/amh-python-extra-py39-gcc9/0.0.1/lib/python3.9/site-packages/scipy/optimize/_optimize.py:3495\u001b[0m, in \u001b[0;36m_minimize_powell\u001b[0;34m(func, x0, args, callback, bounds, xtol, ftol, maxiter, maxfev, disp, direc, return_all, **unknown_options)\u001b[0m\n\u001b[1;32m   3491\u001b[0m     \u001b[38;5;28;01mif\u001b[39;00m np\u001b[38;5;241m.\u001b[39many(lower_bound \u001b[38;5;241m>\u001b[39m x0) \u001b[38;5;129;01mor\u001b[39;00m np\u001b[38;5;241m.\u001b[39many(x0 \u001b[38;5;241m>\u001b[39m upper_bound):\n\u001b[1;32m   3492\u001b[0m         warnings\u001b[38;5;241m.\u001b[39mwarn(\u001b[38;5;124m\"\u001b[39m\u001b[38;5;124mInitial guess is not within the specified bounds\u001b[39m\u001b[38;5;124m\"\u001b[39m,\n\u001b[1;32m   3493\u001b[0m                       OptimizeWarning, \u001b[38;5;241m3\u001b[39m)\n\u001b[0;32m-> 3495\u001b[0m fval \u001b[38;5;241m=\u001b[39m squeeze(\u001b[43mfunc\u001b[49m\u001b[43m(\u001b[49m\u001b[43mx\u001b[49m\u001b[43m)\u001b[49m)\n\u001b[1;32m   3496\u001b[0m x1 \u001b[38;5;241m=\u001b[39m x\u001b[38;5;241m.\u001b[39mcopy()\n\u001b[1;32m   3497\u001b[0m \u001b[38;5;28miter\u001b[39m \u001b[38;5;241m=\u001b[39m \u001b[38;5;241m0\u001b[39m\n",
      "File \u001b[0;32m/cm/shared/apps/amh-python-extra-py39-gcc9/0.0.1/lib/python3.9/site-packages/scipy/optimize/_optimize.py:620\u001b[0m, in \u001b[0;36m_wrap_scalar_function_maxfun_validation.<locals>.function_wrapper\u001b[0;34m(x, *wrapper_args)\u001b[0m\n\u001b[1;32m    618\u001b[0m ncalls[\u001b[38;5;241m0\u001b[39m] \u001b[38;5;241m+\u001b[39m\u001b[38;5;241m=\u001b[39m \u001b[38;5;241m1\u001b[39m\n\u001b[1;32m    619\u001b[0m \u001b[38;5;66;03m# A copy of x is sent to the user function (gh13740)\u001b[39;00m\n\u001b[0;32m--> 620\u001b[0m fx \u001b[38;5;241m=\u001b[39m \u001b[43mfunction\u001b[49m\u001b[43m(\u001b[49m\u001b[43mnp\u001b[49m\u001b[38;5;241;43m.\u001b[39;49m\u001b[43mcopy\u001b[49m\u001b[43m(\u001b[49m\u001b[43mx\u001b[49m\u001b[43m)\u001b[49m\u001b[43m,\u001b[49m\u001b[43m \u001b[49m\u001b[38;5;241;43m*\u001b[39;49m\u001b[43m(\u001b[49m\u001b[43mwrapper_args\u001b[49m\u001b[43m \u001b[49m\u001b[38;5;241;43m+\u001b[39;49m\u001b[43m \u001b[49m\u001b[43margs\u001b[49m\u001b[43m)\u001b[49m\u001b[43m)\u001b[49m\n\u001b[1;32m    621\u001b[0m \u001b[38;5;66;03m# Ideally, we'd like to a have a true scalar returned from f(x). For\u001b[39;00m\n\u001b[1;32m    622\u001b[0m \u001b[38;5;66;03m# backwards-compatibility, also allow np.array([1.3]),\u001b[39;00m\n\u001b[1;32m    623\u001b[0m \u001b[38;5;66;03m# np.array([[1.3]]) etc.\u001b[39;00m\n\u001b[1;32m    624\u001b[0m \u001b[38;5;28;01mif\u001b[39;00m \u001b[38;5;129;01mnot\u001b[39;00m np\u001b[38;5;241m.\u001b[39misscalar(fx):\n",
      "Cell \u001b[0;32mIn[23], line 9\u001b[0m, in \u001b[0;36mcandidateObjective\u001b[0;34m(thetaToEvaluate, candidateData_X, candidateData_Y, gHats, deltas, safetyDataSize)\u001b[0m\n\u001b[1;32m      6\u001b[0m \u001b[38;5;28;01mdef\u001b[39;00m \u001b[38;5;21mcandidateObjective\u001b[39m(thetaToEvaluate, candidateData_X, candidateData_Y, gHats, deltas, safetyDataSize): \n\u001b[1;32m      7\u001b[0m \n\u001b[1;32m      8\u001b[0m   \u001b[38;5;66;03m# Get the primary objective of the solution, fHat(thetaToEvaluate)\u001b[39;00m\n\u001b[0;32m----> 9\u001b[0m     result \u001b[38;5;241m=\u001b[39m \u001b[43mfHat\u001b[49m\u001b[43m(\u001b[49m\u001b[43mthetaToEvaluate\u001b[49m\u001b[43m,\u001b[49m\u001b[43m \u001b[49m\u001b[43mcandidateData_X\u001b[49m\u001b[43m,\u001b[49m\u001b[43m \u001b[49m\u001b[43mcandidateData_Y\u001b[49m\u001b[43m)\u001b[49m\n\u001b[1;32m     11\u001b[0m     predictSafetyTest \u001b[38;5;241m=\u001b[39m \u001b[38;5;28;01mTrue\u001b[39;00m     \u001b[38;5;66;03m# Prediction of what the safety test will return. Initialized to \"True\" = pass\u001b[39;00m\n\u001b[1;32m     13\u001b[0m     \u001b[38;5;28;01mfor\u001b[39;00m i \u001b[38;5;129;01min\u001b[39;00m \u001b[38;5;28mrange\u001b[39m(\u001b[38;5;28mlen\u001b[39m(gHats)):  \u001b[38;5;66;03m# Loop over behavioral constraints, checking each\u001b[39;00m\n",
      "Cell \u001b[0;32mIn[18], line 6\u001b[0m, in \u001b[0;36mfHat\u001b[0;34m(theta, X, Y)\u001b[0m\n\u001b[1;32m      4\u001b[0m res \u001b[38;5;241m=\u001b[39m \u001b[38;5;241m0.0\u001b[39m           \u001b[38;5;66;03m# Used to store the sample MSE we are computing\u001b[39;00m\n\u001b[1;32m      5\u001b[0m \u001b[38;5;28;01mfor\u001b[39;00m i \u001b[38;5;129;01min\u001b[39;00m \u001b[38;5;28mrange\u001b[39m(n):  \u001b[38;5;66;03m# For each point X[i] in the data set ...\u001b[39;00m\n\u001b[0;32m----> 6\u001b[0m     prediction \u001b[38;5;241m=\u001b[39m predict(theta, \u001b[43mX\u001b[49m\u001b[43m[\u001b[49m\u001b[43mi\u001b[49m\u001b[43m]\u001b[49m)                \u001b[38;5;66;03m# Get the prediction using theta\u001b[39;00m\n\u001b[1;32m      7\u001b[0m     res \u001b[38;5;241m+\u001b[39m\u001b[38;5;241m=\u001b[39m (prediction \u001b[38;5;241m-\u001b[39m Y[i]) \u001b[38;5;241m*\u001b[39m (prediction \u001b[38;5;241m-\u001b[39m Y[i]) \u001b[38;5;66;03m# Add the squared error to the result\u001b[39;00m\n\u001b[1;32m      8\u001b[0m res \u001b[38;5;241m/\u001b[39m\u001b[38;5;241m=\u001b[39m n            \u001b[38;5;66;03m# Divide by the number of points to obtain the sample mean squared error\u001b[39;00m\n",
      "\u001b[0;31mIndexError\u001b[0m: index 17321 is out of bounds for axis 0 with size 17321"
     ]
    }
   ],
   "source": [
    "main()"
   ]
  },
  {
   "cell_type": "code",
   "execution_count": 41,
   "id": "768f9674-df5e-4505-b2ec-2d2e37c5fd49",
   "metadata": {
    "tags": []
   },
   "outputs": [
    {
     "data": {
      "text/plain": [
       "array([ 0.5067 , -0.34821,  0.00008,  0.00043,  0.00065,  0.00039,\n",
       "        0.0003 ,  0.00142,  0.00089, -0.00006,  0.0002 ])"
      ]
     },
     "execution_count": 41,
     "metadata": {},
     "output_type": "execute_result"
    }
   ],
   "source": [
    "leastSq(X,Y)"
   ]
  }
 ],
 "metadata": {
  "kernelspec": {
   "display_name": "Seldonian1",
   "language": "python",
   "name": "seldonian1"
  },
  "language_info": {
   "codemirror_mode": {
    "name": "ipython",
    "version": 3
   },
   "file_extension": ".py",
   "mimetype": "text/x-python",
   "name": "python",
   "nbconvert_exporter": "python",
   "pygments_lexer": "ipython3",
   "version": "3.9.16"
  }
 },
 "nbformat": 4,
 "nbformat_minor": 5
}
