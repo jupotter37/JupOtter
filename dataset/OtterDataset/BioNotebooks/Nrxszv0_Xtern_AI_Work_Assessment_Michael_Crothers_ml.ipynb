{
 "cells": [
  {
   "cell_type": "code",
   "execution_count": 125,
   "id": "f4e41246-d771-4d4f-ace3-fa06fa995336",
   "metadata": {},
   "outputs": [
    {
     "data": {
      "text/html": [
       "<div>\n",
       "<style scoped>\n",
       "    .dataframe tbody tr th:only-of-type {\n",
       "        vertical-align: middle;\n",
       "    }\n",
       "\n",
       "    .dataframe tbody tr th {\n",
       "        vertical-align: top;\n",
       "    }\n",
       "\n",
       "    .dataframe thead th {\n",
       "        text-align: right;\n",
       "    }\n",
       "</style>\n",
       "<table border=\"1\" class=\"dataframe\">\n",
       "  <thead>\n",
       "    <tr style=\"text-align: right;\">\n",
       "      <th></th>\n",
       "      <th>Year</th>\n",
       "      <th>Major</th>\n",
       "      <th>University</th>\n",
       "      <th>Time</th>\n",
       "      <th>Order</th>\n",
       "    </tr>\n",
       "  </thead>\n",
       "  <tbody>\n",
       "    <tr>\n",
       "      <th>0</th>\n",
       "      <td>Year 2</td>\n",
       "      <td>Physics</td>\n",
       "      <td>Indiana State University</td>\n",
       "      <td>12</td>\n",
       "      <td>Fried Catfish Basket</td>\n",
       "    </tr>\n",
       "    <tr>\n",
       "      <th>1</th>\n",
       "      <td>Year 3</td>\n",
       "      <td>Chemistry</td>\n",
       "      <td>Ball State University</td>\n",
       "      <td>14</td>\n",
       "      <td>Sugar Cream Pie</td>\n",
       "    </tr>\n",
       "    <tr>\n",
       "      <th>2</th>\n",
       "      <td>Year 3</td>\n",
       "      <td>Chemistry</td>\n",
       "      <td>Butler University</td>\n",
       "      <td>12</td>\n",
       "      <td>Indiana Pork Chili</td>\n",
       "    </tr>\n",
       "    <tr>\n",
       "      <th>3</th>\n",
       "      <td>Year 2</td>\n",
       "      <td>Biology</td>\n",
       "      <td>Indiana State University</td>\n",
       "      <td>11</td>\n",
       "      <td>Fried Catfish Basket</td>\n",
       "    </tr>\n",
       "    <tr>\n",
       "      <th>4</th>\n",
       "      <td>Year 3</td>\n",
       "      <td>Business Administration</td>\n",
       "      <td>Butler University</td>\n",
       "      <td>12</td>\n",
       "      <td>Indiana Corn on the Cob (brushed with garlic b...</td>\n",
       "    </tr>\n",
       "  </tbody>\n",
       "</table>\n",
       "</div>"
      ],
      "text/plain": [
       "     Year                    Major                University  Time  \\\n",
       "0  Year 2                  Physics  Indiana State University    12   \n",
       "1  Year 3                Chemistry     Ball State University    14   \n",
       "2  Year 3                Chemistry         Butler University    12   \n",
       "3  Year 2                  Biology  Indiana State University    11   \n",
       "4  Year 3  Business Administration         Butler University    12   \n",
       "\n",
       "                                               Order  \n",
       "0                               Fried Catfish Basket  \n",
       "1                                    Sugar Cream Pie  \n",
       "2                                 Indiana Pork Chili  \n",
       "3                               Fried Catfish Basket  \n",
       "4  Indiana Corn on the Cob (brushed with garlic b...  "
      ]
     },
     "execution_count": 125,
     "metadata": {},
     "output_type": "execute_result"
    }
   ],
   "source": [
    "import pandas as pd\n",
    "import matplotlib.pyplot as plt\n",
    "from sklearn.model_selection import cross_val_score\n",
    "from sklearn.model_selection import GridSearchCV\n",
    "from sklearn.neighbors import KNeighborsClassifier\n",
    "from sklearn import metrics\n",
    "from sklearn.preprocessing import LabelEncoder\n",
    "from sklearn.preprocessing import OneHotEncoder\n",
    "import pickle\n",
    "from joblib import dump, load\n",
    "df = pd.read_csv('data.csv') \n",
    "df.head()"
   ]
  },
  {
   "cell_type": "code",
   "execution_count": 65,
   "id": "8ed59cc1-6199-4619-a688-07fa370a937e",
   "metadata": {},
   "outputs": [
    {
     "data": {
      "text/html": [
       "<div>\n",
       "<style scoped>\n",
       "    .dataframe tbody tr th:only-of-type {\n",
       "        vertical-align: middle;\n",
       "    }\n",
       "\n",
       "    .dataframe tbody tr th {\n",
       "        vertical-align: top;\n",
       "    }\n",
       "\n",
       "    .dataframe thead th {\n",
       "        text-align: right;\n",
       "    }\n",
       "</style>\n",
       "<table border=\"1\" class=\"dataframe\">\n",
       "  <thead>\n",
       "    <tr style=\"text-align: right;\">\n",
       "      <th></th>\n",
       "      <th>Year</th>\n",
       "      <th>Major</th>\n",
       "      <th>University</th>\n",
       "      <th>Time</th>\n",
       "    </tr>\n",
       "  </thead>\n",
       "  <tbody>\n",
       "    <tr>\n",
       "      <th>0</th>\n",
       "      <td>Year 2</td>\n",
       "      <td>Physics</td>\n",
       "      <td>Indiana State University</td>\n",
       "      <td>12</td>\n",
       "    </tr>\n",
       "    <tr>\n",
       "      <th>1</th>\n",
       "      <td>Year 3</td>\n",
       "      <td>Chemistry</td>\n",
       "      <td>Ball State University</td>\n",
       "      <td>14</td>\n",
       "    </tr>\n",
       "    <tr>\n",
       "      <th>2</th>\n",
       "      <td>Year 3</td>\n",
       "      <td>Chemistry</td>\n",
       "      <td>Butler University</td>\n",
       "      <td>12</td>\n",
       "    </tr>\n",
       "    <tr>\n",
       "      <th>3</th>\n",
       "      <td>Year 2</td>\n",
       "      <td>Biology</td>\n",
       "      <td>Indiana State University</td>\n",
       "      <td>11</td>\n",
       "    </tr>\n",
       "    <tr>\n",
       "      <th>4</th>\n",
       "      <td>Year 3</td>\n",
       "      <td>Business Administration</td>\n",
       "      <td>Butler University</td>\n",
       "      <td>12</td>\n",
       "    </tr>\n",
       "  </tbody>\n",
       "</table>\n",
       "</div>"
      ],
      "text/plain": [
       "     Year                    Major                University  Time\n",
       "0  Year 2                  Physics  Indiana State University    12\n",
       "1  Year 3                Chemistry     Ball State University    14\n",
       "2  Year 3                Chemistry         Butler University    12\n",
       "3  Year 2                  Biology  Indiana State University    11\n",
       "4  Year 3  Business Administration         Butler University    12"
      ]
     },
     "execution_count": 65,
     "metadata": {},
     "output_type": "execute_result"
    }
   ],
   "source": [
    "X = df.drop('Order', axis = 'columns')\n",
    "X.head()"
   ]
  },
  {
   "cell_type": "code",
   "execution_count": 66,
   "id": "155612fa-0bb5-4a67-9038-40e430113a6b",
   "metadata": {},
   "outputs": [
    {
     "data": {
      "text/plain": [
       "(5000,)"
      ]
     },
     "execution_count": 66,
     "metadata": {},
     "output_type": "execute_result"
    }
   ],
   "source": [
    "y = df.Order\n",
    "y.shape"
   ]
  },
  {
   "cell_type": "code",
   "execution_count": 106,
   "id": "8c907ac2-5d87-4e20-8e84-cf027951603b",
   "metadata": {},
   "outputs": [
    {
     "data": {
      "text/plain": [
       "array([[0., 1., 0., ..., 0., 0., 0.],\n",
       "       [0., 0., 1., ..., 0., 0., 0.],\n",
       "       [0., 0., 1., ..., 0., 0., 0.],\n",
       "       ...,\n",
       "       [0., 0., 1., ..., 0., 0., 0.],\n",
       "       [0., 0., 1., ..., 1., 0., 0.],\n",
       "       [0., 1., 0., ..., 1., 0., 0.]])"
      ]
     },
     "execution_count": 106,
     "metadata": {},
     "output_type": "execute_result"
    }
   ],
   "source": [
    "oheX = OneHotEncoder(sparse_output=False)\n",
    "features = oheX.fit_transform(X)\n",
    "features"
   ]
  },
  {
   "cell_type": "code",
   "execution_count": 107,
   "id": "ccfd9daa-b0b1-4835-a323-2dc31b78c24e",
   "metadata": {},
   "outputs": [
    {
     "data": {
      "text/plain": [
       "[array(['Year 1', 'Year 2', 'Year 3', 'Year 4'], dtype=object),\n",
       " array(['Accounting', 'Anthropology', 'Astronomy', 'Biology',\n",
       "        'Business Administration', 'Chemistry', 'Civil Engineering',\n",
       "        'Economics', 'Finance', 'Fine Arts', 'International Business',\n",
       "        'Marketing', 'Mathematics', 'Mechanical Engineering', 'Music',\n",
       "        'Philosophy', 'Physics', 'Political Science', 'Psychology',\n",
       "        'Sociology'], dtype=object),\n",
       " array(['Ball State University', 'Butler University', 'DePauw University',\n",
       "        'Indiana State University', 'Indiana University Bloomington',\n",
       "        'Indiana University-Purdue University Indianapolis (IUPUI)',\n",
       "        'Purdue University', 'University of Evansville',\n",
       "        'University of Notre Dame', 'Valparaiso University'], dtype=object),\n",
       " array([ 8,  9, 10, 11, 12, 13, 14, 15, 16, 17], dtype=int64)]"
      ]
     },
     "execution_count": 107,
     "metadata": {},
     "output_type": "execute_result"
    }
   ],
   "source": [
    "oheX.categories_"
   ]
  },
  {
   "cell_type": "code",
   "execution_count": 108,
   "id": "195df583-7513-4d17-9e5b-f9921c55c05c",
   "metadata": {},
   "outputs": [
    {
     "data": {
      "text/plain": [
       "array([2, 7, 6, ..., 7, 7, 0])"
      ]
     },
     "execution_count": 108,
     "metadata": {},
     "output_type": "execute_result"
    }
   ],
   "source": [
    "le = LabelEncoder()\n",
    "response = le.fit_transform(y)\n",
    "response"
   ]
  },
  {
   "cell_type": "code",
   "execution_count": 109,
   "id": "b353e58c-cd35-4d5a-90b1-75190f504c81",
   "metadata": {},
   "outputs": [
    {
     "data": {
      "text/plain": [
       "array(['Breaded Pork Tenderloin Sandwich', 'Cornbread Hush Puppies',\n",
       "       'Fried Catfish Basket', 'Hoosier BBQ Pulled Pork Sandwich',\n",
       "       'Indiana Buffalo Chicken Tacos (3 tacos)',\n",
       "       'Indiana Corn on the Cob (brushed with garlic butter)',\n",
       "       'Indiana Pork Chili', 'Sugar Cream Pie', 'Sweet Potato Fries',\n",
       "       'Ultimate Grilled Cheese Sandwich (with bacon and tomato)'],\n",
       "      dtype=object)"
      ]
     },
     "execution_count": 109,
     "metadata": {},
     "output_type": "execute_result"
    }
   ],
   "source": [
    "le.classes_"
   ]
  },
  {
   "cell_type": "code",
   "execution_count": 110,
   "id": "febaf582-6f1f-4d10-844f-c48429eabfcf",
   "metadata": {
    "collapsed": true,
    "jupyter": {
     "outputs_hidden": true,
     "source_hidden": true
    }
   },
   "outputs": [
    {
     "data": {
      "text/plain": [
       "array([0.59 , 0.576, 0.658, 0.618, 0.624, 0.626, 0.606, 0.63 , 0.614,\n",
       "       0.6  ])"
      ]
     },
     "execution_count": 110,
     "metadata": {},
     "output_type": "execute_result"
    }
   ],
   "source": [
    "#10 fold cross validation with K=5 for knn ( the n_neighbors parameter)\n",
    "knn = KNeighborsClassifier(n_neighbors =5)\n",
    "scores = cross_val_score(knn, features, response, cv=10, scoring='accuracy') #cross val score splits data into folds so we don't have to \n",
    "scores"
   ]
  },
  {
   "cell_type": "code",
   "execution_count": 111,
   "id": "faa52293-547d-403f-a70a-08005b147293",
   "metadata": {
    "collapsed": true,
    "jupyter": {
     "outputs_hidden": true,
     "source_hidden": true
    }
   },
   "outputs": [
    {
     "name": "stdout",
     "output_type": "stream",
     "text": [
      "[0.571, 0.5302, 0.5953999999999999, 0.6085999999999999, 0.6142, 0.616, 0.6144, 0.6160000000000001, 0.6164, 0.612, 0.6152, 0.6129999999999999, 0.6098, 0.612, 0.6132000000000001, 0.6118, 0.6096, 0.6108, 0.6116, 0.613, 0.6072, 0.603, 0.5986, 0.6018000000000001, 0.6035999999999999, 0.601, 0.6043999999999999, 0.5976, 0.6022000000000001, 0.6028]\n"
     ]
    }
   ],
   "source": [
    "#find an optimal value of K for KNN\n",
    "k_range = range(1,31) # range 1 - 30\n",
    "k_scores = []\n",
    "for k in k_range:\n",
    "    knn = KNeighborsClassifier(n_neighbors = k)\n",
    "    scores = cross_val_score(knn, features, response, cv=10, scoring='accuracy')\n",
    "    k_scores.append(scores.mean())\n",
    "print(k_scores)"
   ]
  },
  {
   "cell_type": "code",
   "execution_count": 112,
   "id": "8d8792d4-1734-47b1-a02e-ed0ffe42e62b",
   "metadata": {
    "collapsed": true,
    "jupyter": {
     "outputs_hidden": true,
     "source_hidden": true
    }
   },
   "outputs": [
    {
     "data": {
      "text/plain": [
       "Text(0, 0.5, 'Cross-validated Accuracy')"
      ]
     },
     "execution_count": 112,
     "metadata": {},
     "output_type": "execute_result"
    },
    {
     "data": {
      "image/png": "[encoded data removed]",
      "text/plain": [
       "<Figure size 640x480 with 1 Axes>"
      ]
     },
     "metadata": {},
     "output_type": "display_data"
    }
   ],
   "source": [
    "#plot value of K for KNN x-axis versus cros-validated accuracy y-axis\n",
    "plt.plot(k_range, k_scores)\n",
    "plt.xlabel('Value of K for KNN')\n",
    "plt.ylabel('Cross-validated Accuracy')"
   ]
  },
  {
   "cell_type": "code",
   "execution_count": 82,
   "id": "6b75a261-a066-4527-aab4-f6a8d90083ac",
   "metadata": {},
   "outputs": [
    {
     "name": "stdout",
     "output_type": "stream",
     "text": [
      "{'n_neighbors': [1, 2, 3, 4, 5, 6, 7, 8, 9, 10, 11, 12, 13, 14, 15, 16, 17, 18, 19, 20, 21, 22, 23, 24, 25, 26, 27, 28, 29, 30]}\n"
     ]
    }
   ],
   "source": [
    "k_range = list(range(1,31))\n",
    "param_grid = dict(n_neighbors=k_range) #key n_neighbordsd , value: list 1 - 30\n",
    "print(param_grid)"
   ]
  },
  {
   "cell_type": "code",
   "execution_count": 85,
   "id": "99e7e5ed-dbb2-4921-86e7-59b8695129b7",
   "metadata": {},
   "outputs": [
    {
     "data": {
      "text/html": [
       "<style>#sk-container-id-3 {color: black;}#sk-container-id-3 pre{padding: 0;}#sk-container-id-3 div.sk-toggleable {background-color: white;}#sk-container-id-3 label.sk-toggleable__label {cursor: pointer;display: block;width: 100%;margin-bottom: 0;padding: 0.3em;box-sizing: border-box;text-align: center;}#sk-container-id-3 label.sk-toggleable__label-arrow:before {content: \"▸\";float: left;margin-right: 0.25em;color: #696969;}#sk-container-id-3 label.sk-toggleable__label-arrow:hover:before {color: black;}#sk-container-id-3 div.sk-estimator:hover label.sk-toggleable__label-arrow:before {color: black;}#sk-container-id-3 div.sk-toggleable__content {max-height: 0;max-width: 0;overflow: hidden;text-align: left;background-color: #f0f8ff;}#sk-container-id-3 div.sk-toggleable__content pre {margin: 0.2em;color: black;border-radius: 0.25em;background-color: #f0f8ff;}#sk-container-id-3 input.sk-toggleable__control:checked~div.sk-toggleable__content {max-height: 200px;max-width: 100%;overflow: auto;}#sk-container-id-3 input.sk-toggleable__control:checked~label.sk-toggleable__label-arrow:before {content: \"▾\";}#sk-container-id-3 div.sk-estimator input.sk-toggleable__control:checked~label.sk-toggleable__label {background-color: #d4ebff;}#sk-container-id-3 div.sk-label input.sk-toggleable__control:checked~label.sk-toggleable__label {background-color: #d4ebff;}#sk-container-id-3 input.sk-hidden--visually {border: 0;clip: rect(1px 1px 1px 1px);clip: rect(1px, 1px, 1px, 1px);height: 1px;margin: -1px;overflow: hidden;padding: 0;position: absolute;width: 1px;}#sk-container-id-3 div.sk-estimator {font-family: monospace;background-color: #f0f8ff;border: 1px dotted black;border-radius: 0.25em;box-sizing: border-box;margin-bottom: 0.5em;}#sk-container-id-3 div.sk-estimator:hover {background-color: #d4ebff;}#sk-container-id-3 div.sk-parallel-item::after {content: \"\";width: 100%;border-bottom: 1px solid gray;flex-grow: 1;}#sk-container-id-3 div.sk-label:hover label.sk-toggleable__label {background-color: #d4ebff;}#sk-container-id-3 div.sk-serial::before {content: \"\";position: absolute;border-left: 1px solid gray;box-sizing: border-box;top: 0;bottom: 0;left: 50%;z-index: 0;}#sk-container-id-3 div.sk-serial {display: flex;flex-direction: column;align-items: center;background-color: white;padding-right: 0.2em;padding-left: 0.2em;position: relative;}#sk-container-id-3 div.sk-item {position: relative;z-index: 1;}#sk-container-id-3 div.sk-parallel {display: flex;align-items: stretch;justify-content: center;background-color: white;position: relative;}#sk-container-id-3 div.sk-item::before, #sk-container-id-3 div.sk-parallel-item::before {content: \"\";position: absolute;border-left: 1px solid gray;box-sizing: border-box;top: 0;bottom: 0;left: 50%;z-index: -1;}#sk-container-id-3 div.sk-parallel-item {display: flex;flex-direction: column;z-index: 1;position: relative;background-color: white;}#sk-container-id-3 div.sk-parallel-item:first-child::after {align-self: flex-end;width: 50%;}#sk-container-id-3 div.sk-parallel-item:last-child::after {align-self: flex-start;width: 50%;}#sk-container-id-3 div.sk-parallel-item:only-child::after {width: 0;}#sk-container-id-3 div.sk-dashed-wrapped {border: 1px dashed gray;margin: 0 0.4em 0.5em 0.4em;box-sizing: border-box;padding-bottom: 0.4em;background-color: white;}#sk-container-id-3 div.sk-label label {font-family: monospace;font-weight: bold;display: inline-block;line-height: 1.2em;}#sk-container-id-3 div.sk-label-container {text-align: center;}#sk-container-id-3 div.sk-container {/* jupyter's `normalize.less` sets `[hidden] { display: none; }` but bootstrap.min.css set `[hidden] { display: none !important; }` so we also need the `!important` here to be able to override the default hidden behavior on the sphinx rendered scikit-learn.org. See: https://github.com/scikit-learn/scikit-learn/issues/21755 */display: inline-block !important;position: relative;}#sk-container-id-3 div.sk-text-repr-fallback {display: none;}</style><div id=\"sk-container-id-3\" class=\"sk-top-container\"><div class=\"sk-text-repr-fallback\"><pre>GridSearchCV(cv=10, estimator=KNeighborsClassifier(n_neighbors=30), n_jobs=-1,\n",
       "             param_grid={&#x27;n_neighbors&#x27;: [1, 2, 3, 4, 5, 6, 7, 8, 9, 10, 11, 12,\n",
       "                                         13, 14, 15, 16, 17, 18, 19, 20, 21, 22,\n",
       "                                         23, 24, 25, 26, 27, 28, 29, 30]},\n",
       "             scoring=&#x27;accuracy&#x27;)</pre><b>In a Jupyter environment, please rerun this cell to show the HTML representation or trust the notebook. <br />On GitHub, the HTML representation is unable to render, please try loading this page with nbviewer.org.</b></div><div class=\"sk-container\" hidden><div class=\"sk-item sk-dashed-wrapped\"><div class=\"sk-label-container\"><div class=\"sk-label sk-toggleable\"><input class=\"sk-toggleable__control sk-hidden--visually\" id=\"sk-estimator-id-3\" type=\"checkbox\" ><label for=\"sk-estimator-id-3\" class=\"sk-toggleable__label sk-toggleable__label-arrow\">GridSearchCV</label><div class=\"sk-toggleable__content\"><pre>GridSearchCV(cv=10, estimator=KNeighborsClassifier(n_neighbors=30), n_jobs=-1,\n",
       "             param_grid={&#x27;n_neighbors&#x27;: [1, 2, 3, 4, 5, 6, 7, 8, 9, 10, 11, 12,\n",
       "                                         13, 14, 15, 16, 17, 18, 19, 20, 21, 22,\n",
       "                                         23, 24, 25, 26, 27, 28, 29, 30]},\n",
       "             scoring=&#x27;accuracy&#x27;)</pre></div></div></div><div class=\"sk-parallel\"><div class=\"sk-parallel-item\"><div class=\"sk-item\"><div class=\"sk-label-container\"><div class=\"sk-label sk-toggleable\"><input class=\"sk-toggleable__control sk-hidden--visually\" id=\"sk-estimator-id-4\" type=\"checkbox\" ><label for=\"sk-estimator-id-4\" class=\"sk-toggleable__label sk-toggleable__label-arrow\">estimator: KNeighborsClassifier</label><div class=\"sk-toggleable__content\"><pre>KNeighborsClassifier(n_neighbors=30)</pre></div></div></div><div class=\"sk-serial\"><div class=\"sk-item\"><div class=\"sk-estimator sk-toggleable\"><input class=\"sk-toggleable__control sk-hidden--visually\" id=\"sk-estimator-id-5\" type=\"checkbox\" ><label for=\"sk-estimator-id-5\" class=\"sk-toggleable__label sk-toggleable__label-arrow\">KNeighborsClassifier</label><div class=\"sk-toggleable__content\"><pre>KNeighborsClassifier(n_neighbors=30)</pre></div></div></div></div></div></div></div></div></div></div>"
      ],
      "text/plain": [
       "GridSearchCV(cv=10, estimator=KNeighborsClassifier(n_neighbors=30), n_jobs=-1,\n",
       "             param_grid={'n_neighbors': [1, 2, 3, 4, 5, 6, 7, 8, 9, 10, 11, 12,\n",
       "                                         13, 14, 15, 16, 17, 18, 19, 20, 21, 22,\n",
       "                                         23, 24, 25, 26, 27, 28, 29, 30]},\n",
       "             scoring='accuracy')"
      ]
     },
     "execution_count": 85,
     "metadata": {},
     "output_type": "execute_result"
    }
   ],
   "source": [
    "grid = GridSearchCV(knn, param_grid, cv=10, scoring='accuracy', n_jobs=-1)\n",
    "grid.fit(features, response)"
   ]
  },
  {
   "cell_type": "code",
   "execution_count": 86,
   "id": "bac94d31-dc91-4940-b41e-609d572ab2c5",
   "metadata": {},
   "outputs": [
    {
     "data": {
      "text/html": [
       "<div>\n",
       "<style scoped>\n",
       "    .dataframe tbody tr th:only-of-type {\n",
       "        vertical-align: middle;\n",
       "    }\n",
       "\n",
       "    .dataframe tbody tr th {\n",
       "        vertical-align: top;\n",
       "    }\n",
       "\n",
       "    .dataframe thead th {\n",
       "        text-align: right;\n",
       "    }\n",
       "</style>\n",
       "<table border=\"1\" class=\"dataframe\">\n",
       "  <thead>\n",
       "    <tr style=\"text-align: right;\">\n",
       "      <th></th>\n",
       "      <th>mean_test_score</th>\n",
       "      <th>std_test_score</th>\n",
       "      <th>params</th>\n",
       "    </tr>\n",
       "  </thead>\n",
       "  <tbody>\n",
       "    <tr>\n",
       "      <th>0</th>\n",
       "      <td>0.5710</td>\n",
       "      <td>0.019519</td>\n",
       "      <td>{'n_neighbors': 1}</td>\n",
       "    </tr>\n",
       "    <tr>\n",
       "      <th>1</th>\n",
       "      <td>0.5326</td>\n",
       "      <td>0.015285</td>\n",
       "      <td>{'n_neighbors': 2}</td>\n",
       "    </tr>\n",
       "    <tr>\n",
       "      <th>2</th>\n",
       "      <td>0.5896</td>\n",
       "      <td>0.024030</td>\n",
       "      <td>{'n_neighbors': 3}</td>\n",
       "    </tr>\n",
       "    <tr>\n",
       "      <th>3</th>\n",
       "      <td>0.6098</td>\n",
       "      <td>0.023587</td>\n",
       "      <td>{'n_neighbors': 4}</td>\n",
       "    </tr>\n",
       "    <tr>\n",
       "      <th>4</th>\n",
       "      <td>0.6020</td>\n",
       "      <td>0.021909</td>\n",
       "      <td>{'n_neighbors': 5}</td>\n",
       "    </tr>\n",
       "    <tr>\n",
       "      <th>5</th>\n",
       "      <td>0.6148</td>\n",
       "      <td>0.020104</td>\n",
       "      <td>{'n_neighbors': 6}</td>\n",
       "    </tr>\n",
       "    <tr>\n",
       "      <th>6</th>\n",
       "      <td>0.6146</td>\n",
       "      <td>0.021486</td>\n",
       "      <td>{'n_neighbors': 7}</td>\n",
       "    </tr>\n",
       "    <tr>\n",
       "      <th>7</th>\n",
       "      <td>0.6156</td>\n",
       "      <td>0.026485</td>\n",
       "      <td>{'n_neighbors': 8}</td>\n",
       "    </tr>\n",
       "    <tr>\n",
       "      <th>8</th>\n",
       "      <td>0.6114</td>\n",
       "      <td>0.026893</td>\n",
       "      <td>{'n_neighbors': 9}</td>\n",
       "    </tr>\n",
       "    <tr>\n",
       "      <th>9</th>\n",
       "      <td>0.6100</td>\n",
       "      <td>0.026608</td>\n",
       "      <td>{'n_neighbors': 10}</td>\n",
       "    </tr>\n",
       "    <tr>\n",
       "      <th>10</th>\n",
       "      <td>0.6154</td>\n",
       "      <td>0.026789</td>\n",
       "      <td>{'n_neighbors': 11}</td>\n",
       "    </tr>\n",
       "    <tr>\n",
       "      <th>11</th>\n",
       "      <td>0.6184</td>\n",
       "      <td>0.027983</td>\n",
       "      <td>{'n_neighbors': 12}</td>\n",
       "    </tr>\n",
       "    <tr>\n",
       "      <th>12</th>\n",
       "      <td>0.6150</td>\n",
       "      <td>0.027353</td>\n",
       "      <td>{'n_neighbors': 13}</td>\n",
       "    </tr>\n",
       "    <tr>\n",
       "      <th>13</th>\n",
       "      <td>0.6154</td>\n",
       "      <td>0.025846</td>\n",
       "      <td>{'n_neighbors': 14}</td>\n",
       "    </tr>\n",
       "    <tr>\n",
       "      <th>14</th>\n",
       "      <td>0.6084</td>\n",
       "      <td>0.027053</td>\n",
       "      <td>{'n_neighbors': 15}</td>\n",
       "    </tr>\n",
       "    <tr>\n",
       "      <th>15</th>\n",
       "      <td>0.6102</td>\n",
       "      <td>0.025868</td>\n",
       "      <td>{'n_neighbors': 16}</td>\n",
       "    </tr>\n",
       "    <tr>\n",
       "      <th>16</th>\n",
       "      <td>0.6086</td>\n",
       "      <td>0.025394</td>\n",
       "      <td>{'n_neighbors': 17}</td>\n",
       "    </tr>\n",
       "    <tr>\n",
       "      <th>17</th>\n",
       "      <td>0.6104</td>\n",
       "      <td>0.025935</td>\n",
       "      <td>{'n_neighbors': 18}</td>\n",
       "    </tr>\n",
       "    <tr>\n",
       "      <th>18</th>\n",
       "      <td>0.6130</td>\n",
       "      <td>0.022895</td>\n",
       "      <td>{'n_neighbors': 19}</td>\n",
       "    </tr>\n",
       "    <tr>\n",
       "      <th>19</th>\n",
       "      <td>0.6092</td>\n",
       "      <td>0.021600</td>\n",
       "      <td>{'n_neighbors': 20}</td>\n",
       "    </tr>\n",
       "    <tr>\n",
       "      <th>20</th>\n",
       "      <td>0.6080</td>\n",
       "      <td>0.020804</td>\n",
       "      <td>{'n_neighbors': 21}</td>\n",
       "    </tr>\n",
       "    <tr>\n",
       "      <th>21</th>\n",
       "      <td>0.6068</td>\n",
       "      <td>0.022022</td>\n",
       "      <td>{'n_neighbors': 22}</td>\n",
       "    </tr>\n",
       "    <tr>\n",
       "      <th>22</th>\n",
       "      <td>0.6046</td>\n",
       "      <td>0.021892</td>\n",
       "      <td>{'n_neighbors': 23}</td>\n",
       "    </tr>\n",
       "    <tr>\n",
       "      <th>23</th>\n",
       "      <td>0.6020</td>\n",
       "      <td>0.020630</td>\n",
       "      <td>{'n_neighbors': 24}</td>\n",
       "    </tr>\n",
       "    <tr>\n",
       "      <th>24</th>\n",
       "      <td>0.6026</td>\n",
       "      <td>0.020279</td>\n",
       "      <td>{'n_neighbors': 25}</td>\n",
       "    </tr>\n",
       "    <tr>\n",
       "      <th>25</th>\n",
       "      <td>0.6040</td>\n",
       "      <td>0.020020</td>\n",
       "      <td>{'n_neighbors': 26}</td>\n",
       "    </tr>\n",
       "    <tr>\n",
       "      <th>26</th>\n",
       "      <td>0.6012</td>\n",
       "      <td>0.023853</td>\n",
       "      <td>{'n_neighbors': 27}</td>\n",
       "    </tr>\n",
       "    <tr>\n",
       "      <th>27</th>\n",
       "      <td>0.5954</td>\n",
       "      <td>0.024034</td>\n",
       "      <td>{'n_neighbors': 28}</td>\n",
       "    </tr>\n",
       "    <tr>\n",
       "      <th>28</th>\n",
       "      <td>0.5956</td>\n",
       "      <td>0.025594</td>\n",
       "      <td>{'n_neighbors': 29}</td>\n",
       "    </tr>\n",
       "    <tr>\n",
       "      <th>29</th>\n",
       "      <td>0.5938</td>\n",
       "      <td>0.024891</td>\n",
       "      <td>{'n_neighbors': 30}</td>\n",
       "    </tr>\n",
       "  </tbody>\n",
       "</table>\n",
       "</div>"
      ],
      "text/plain": [
       "    mean_test_score  std_test_score               params\n",
       "0            0.5710        0.019519   {'n_neighbors': 1}\n",
       "1            0.5326        0.015285   {'n_neighbors': 2}\n",
       "2            0.5896        0.024030   {'n_neighbors': 3}\n",
       "3            0.6098        0.023587   {'n_neighbors': 4}\n",
       "4            0.6020        0.021909   {'n_neighbors': 5}\n",
       "5            0.6148        0.020104   {'n_neighbors': 6}\n",
       "6            0.6146        0.021486   {'n_neighbors': 7}\n",
       "7            0.6156        0.026485   {'n_neighbors': 8}\n",
       "8            0.6114        0.026893   {'n_neighbors': 9}\n",
       "9            0.6100        0.026608  {'n_neighbors': 10}\n",
       "10           0.6154        0.026789  {'n_neighbors': 11}\n",
       "11           0.6184        0.027983  {'n_neighbors': 12}\n",
       "12           0.6150        0.027353  {'n_neighbors': 13}\n",
       "13           0.6154        0.025846  {'n_neighbors': 14}\n",
       "14           0.6084        0.027053  {'n_neighbors': 15}\n",
       "15           0.6102        0.025868  {'n_neighbors': 16}\n",
       "16           0.6086        0.025394  {'n_neighbors': 17}\n",
       "17           0.6104        0.025935  {'n_neighbors': 18}\n",
       "18           0.6130        0.022895  {'n_neighbors': 19}\n",
       "19           0.6092        0.021600  {'n_neighbors': 20}\n",
       "20           0.6080        0.020804  {'n_neighbors': 21}\n",
       "21           0.6068        0.022022  {'n_neighbors': 22}\n",
       "22           0.6046        0.021892  {'n_neighbors': 23}\n",
       "23           0.6020        0.020630  {'n_neighbors': 24}\n",
       "24           0.6026        0.020279  {'n_neighbors': 25}\n",
       "25           0.6040        0.020020  {'n_neighbors': 26}\n",
       "26           0.6012        0.023853  {'n_neighbors': 27}\n",
       "27           0.5954        0.024034  {'n_neighbors': 28}\n",
       "28           0.5956        0.025594  {'n_neighbors': 29}\n",
       "29           0.5938        0.024891  {'n_neighbors': 30}"
      ]
     },
     "execution_count": 86,
     "metadata": {},
     "output_type": "execute_result"
    }
   ],
   "source": [
    "pd.DataFrame(grid.cv_results_)[['mean_test_score', 'std_test_score', 'params']]"
   ]
  },
  {
   "cell_type": "code",
   "execution_count": 88,
   "id": "d2d38ea5-83bb-4ec9-8606-df7a3181a7a5",
   "metadata": {},
   "outputs": [
    {
     "data": {
      "text/plain": [
       "array([0.571 , 0.5326, 0.5896, 0.6098, 0.602 , 0.6148, 0.6146, 0.6156,\n",
       "       0.6114, 0.61  , 0.6154, 0.6184, 0.615 , 0.6154, 0.6084, 0.6102,\n",
       "       0.6086, 0.6104, 0.613 , 0.6092, 0.608 , 0.6068, 0.6046, 0.602 ,\n",
       "       0.6026, 0.604 , 0.6012, 0.5954, 0.5956, 0.5938])"
      ]
     },
     "execution_count": 88,
     "metadata": {},
     "output_type": "execute_result"
    }
   ],
   "source": [
    "grid_mean_scores = grid.cv_results_['mean_test_score']\n",
    "grid_mean_scores"
   ]
  },
  {
   "cell_type": "code",
   "execution_count": 89,
   "id": "30f9b453-ea7f-4503-8e98-ec25e60cd528",
   "metadata": {},
   "outputs": [
    {
     "data": {
      "text/plain": [
       "Text(0, 0.5, 'Cross-Validated Accuracy')"
      ]
     },
     "execution_count": 89,
     "metadata": {},
     "output_type": "execute_result"
    },
    {
     "data": {
      "image/png": "[encoded data removed]",
      "text/plain": [
       "<Figure size 640x480 with 1 Axes>"
      ]
     },
     "metadata": {},
     "output_type": "display_data"
    }
   ],
   "source": [
    "plt.plot(k_range, grid_mean_scores)\n",
    "plt.xlabel('K value for KNN')\n",
    "plt.ylabel('Cross-Validated Accuracy')"
   ]
  },
  {
   "cell_type": "code",
   "execution_count": 90,
   "id": "b0076e03-b357-4f1d-924c-59bf51429795",
   "metadata": {},
   "outputs": [
    {
     "name": "stdout",
     "output_type": "stream",
     "text": [
      "0.6184000000000001\n",
      "{'n_neighbors': 12}\n",
      "KNeighborsClassifier(n_neighbors=12)\n"
     ]
    }
   ],
   "source": [
    "#examine best model\n",
    "print(grid.best_score_) # single best score achieved across all paramters\n",
    "print(grid.best_params_) # dictionary with best parameters to generate best score\n",
    "print(grid.best_estimator_) #actual model object fit with those best parameters which show all of default parameters that weren't speicfied"
   ]
  },
  {
   "cell_type": "code",
   "execution_count": 120,
   "id": "d1d4ef30-67dd-42cd-88bd-afd1a2f70f4d",
   "metadata": {},
   "outputs": [
    {
     "data": {
      "text/plain": [
       "array([[0., 0., 1., ..., 0., 0., 0.],\n",
       "       [0., 1., 0., ..., 0., 0., 0.],\n",
       "       [0., 0., 1., ..., 0., 0., 0.],\n",
       "       ...,\n",
       "       [0., 1., 0., ..., 0., 0., 0.],\n",
       "       [0., 0., 1., ..., 0., 0., 0.],\n",
       "       [0., 0., 1., ..., 0., 0., 0.]])"
      ]
     },
     "execution_count": 120,
     "metadata": {},
     "output_type": "execute_result"
    }
   ],
   "source": [
    "X_new = X.sample(4000, random_state=1) #should be out of sample data but we don't have any\n",
    "oheXNew = OneHotEncoder(sparse_output=False)\n",
    "features_new = oheXNew.fit_transform(X_new)\n",
    "features_new"
   ]
  },
  {
   "cell_type": "code",
   "execution_count": 121,
   "id": "bdd9dabe-3e56-4386-a06e-437c678b0b20",
   "metadata": {},
   "outputs": [
    {
     "data": {
      "text/plain": [
       "array([5, 0, 5, ..., 9, 5, 1])"
      ]
     },
     "execution_count": 121,
     "metadata": {},
     "output_type": "execute_result"
    }
   ],
   "source": [
    "grid.predict(features_new)"
   ]
  },
  {
   "cell_type": "code",
   "execution_count": 122,
   "id": "5c5b97a8-8024-4eca-9a8c-1ba5d9d43e21",
   "metadata": {},
   "outputs": [
    {
     "data": {
      "text/plain": [
       "array([5, 0, 5, ..., 9, 5, 1])"
      ]
     },
     "execution_count": 122,
     "metadata": {},
     "output_type": "execute_result"
    }
   ],
   "source": [
    "knn_best = KNeighborsClassifier(n_neighbors = 12)\n",
    "knn_best.fit(features, response)\n",
    "knn_best.predict(features_new)"
   ]
  },
  {
   "cell_type": "code",
   "execution_count": 127,
   "id": "25704ad9-7a06-4624-8af8-5823ffb2bd62",
   "metadata": {},
   "outputs": [],
   "source": [
    "s = pickle.dumps(knn_best)"
   ]
  },
  {
   "cell_type": "code",
   "execution_count": 128,
   "id": "b163835c-bd25-4934-b739-f9c514082d8c",
   "metadata": {},
   "outputs": [
    {
     "data": {
      "text/plain": [
       "['knn_best_file.joblib']"
      ]
     },
     "execution_count": 128,
     "metadata": {},
     "output_type": "execute_result"
    }
   ],
   "source": [
    "dump(knn_best, 'knn_best_file.joblib')"
   ]
  }
 ],
 "metadata": {
  "kernelspec": {
   "display_name": "Python 3 (ipykernel)",
   "language": "python",
   "name": "python3"
  },
  "language_info": {
   "codemirror_mode": {
    "name": "ipython",
    "version": 3
   },
   "file_extension": ".py",
   "mimetype": "text/x-python",
   "name": "python",
   "nbconvert_exporter": "python",
   "pygments_lexer": "ipython3",
   "version": "3.11.3"
  }
 },
 "nbformat": 4,
 "nbformat_minor": 5
}
