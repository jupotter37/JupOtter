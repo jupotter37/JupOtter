{
  "nbformat": 4,
  "nbformat_minor": 0,
  "metadata": {
    "colab": {
      "provenance": [],
      "include_colab_link": true
    },
    "kernelspec": {
      "name": "python3",
      "display_name": "Python 3"
    },
    "widgets": {
      "application/vnd.jupyter.widget-state+json": {
        "1e452e6bcb4e46d78e16e465b41d4071": {
          "model_module": "@jupyter-widgets/controls",
          "model_name": "FloatProgressModel",
          "model_module_version": "1.5.0",
          "state": {
            "_dom_classes": [],
            "_model_module": "@jupyter-widgets/controls",
            "_model_module_version": "1.5.0",
            "_model_name": "FloatProgressModel",
            "_view_count": null,
            "_view_module": "@jupyter-widgets/controls",
            "_view_module_version": "1.5.0",
            "_view_name": "ProgressView",
            "bar_style": "info",
            "description": "Progress:",
            "description_tooltip": null,
            "layout": "IPY_MODEL_1ca6a9e966da4a31b9a2c93161c83bde",
            "max": 1,
            "min": 0,
            "orientation": "horizontal",
            "style": "IPY_MODEL_e842525b2d98483087f59e6d65c1db73",
            "value": 0
          }
        },
        "1ca6a9e966da4a31b9a2c93161c83bde": {
          "model_module": "@jupyter-widgets/base",
          "model_name": "LayoutModel",
          "model_module_version": "1.2.0",
          "state": {
            "_model_module": "@jupyter-widgets/base",
            "_model_module_version": "1.2.0",
            "_model_name": "LayoutModel",
            "_view_count": null,
            "_view_module": "@jupyter-widgets/base",
            "_view_module_version": "1.2.0",
            "_view_name": "LayoutView",
            "align_content": null,
            "align_items": null,
            "align_self": null,
            "border": null,
            "bottom": null,
            "display": null,
            "flex": null,
            "flex_flow": null,
            "grid_area": null,
            "grid_auto_columns": null,
            "grid_auto_flow": null,
            "grid_auto_rows": null,
            "grid_column": null,
            "grid_gap": null,
            "grid_row": null,
            "grid_template_areas": null,
            "grid_template_columns": null,
            "grid_template_rows": null,
            "height": "25px",
            "justify_content": null,
            "justify_items": null,
            "left": null,
            "margin": null,
            "max_height": null,
            "max_width": null,
            "min_height": null,
            "min_width": null,
            "object_fit": null,
            "object_position": null,
            "order": null,
            "overflow": null,
            "overflow_x": null,
            "overflow_y": null,
            "padding": null,
            "right": null,
            "top": null,
            "visibility": null,
            "width": "50%"
          }
        },
        "e842525b2d98483087f59e6d65c1db73": {
          "model_module": "@jupyter-widgets/controls",
          "model_name": "ProgressStyleModel",
          "model_module_version": "1.5.0",
          "state": {
            "_model_module": "@jupyter-widgets/controls",
            "_model_module_version": "1.5.0",
            "_model_name": "ProgressStyleModel",
            "_view_count": null,
            "_view_module": "@jupyter-widgets/base",
            "_view_module_version": "1.2.0",
            "_view_name": "StyleView",
            "bar_color": null,
            "description_width": ""
          }
        },
        "28dfca5623124a3f918436502373a087": {
          "model_module": "@jupyter-widgets/controls",
          "model_name": "FloatProgressModel",
          "model_module_version": "1.5.0",
          "state": {
            "_dom_classes": [],
            "_model_module": "@jupyter-widgets/controls",
            "_model_module_version": "1.5.0",
            "_model_name": "FloatProgressModel",
            "_view_count": null,
            "_view_module": "@jupyter-widgets/controls",
            "_view_module_version": "1.5.0",
            "_view_name": "ProgressView",
            "bar_style": "info",
            "description": "Progress:",
            "description_tooltip": null,
            "layout": "IPY_MODEL_6b8b3b2260c44d27badc34dacac0af05",
            "max": 1,
            "min": 0,
            "orientation": "horizontal",
            "style": "IPY_MODEL_a4ed9405834e480d90ddc2059503a89e",
            "value": 0
          }
        },
        "6b8b3b2260c44d27badc34dacac0af05": {
          "model_module": "@jupyter-widgets/base",
          "model_name": "LayoutModel",
          "model_module_version": "1.2.0",
          "state": {
            "_model_module": "@jupyter-widgets/base",
            "_model_module_version": "1.2.0",
            "_model_name": "LayoutModel",
            "_view_count": null,
            "_view_module": "@jupyter-widgets/base",
            "_view_module_version": "1.2.0",
            "_view_name": "LayoutView",
            "align_content": null,
            "align_items": null,
            "align_self": null,
            "border": null,
            "bottom": null,
            "display": null,
            "flex": null,
            "flex_flow": null,
            "grid_area": null,
            "grid_auto_columns": null,
            "grid_auto_flow": null,
            "grid_auto_rows": null,
            "grid_column": null,
            "grid_gap": null,
            "grid_row": null,
            "grid_template_areas": null,
            "grid_template_columns": null,
            "grid_template_rows": null,
            "height": "25px",
            "justify_content": null,
            "justify_items": null,
            "left": null,
            "margin": null,
            "max_height": null,
            "max_width": null,
            "min_height": null,
            "min_width": null,
            "object_fit": null,
            "object_position": null,
            "order": null,
            "overflow": null,
            "overflow_x": null,
            "overflow_y": null,
            "padding": null,
            "right": null,
            "top": null,
            "visibility": null,
            "width": "50%"
          }
        },
        "a4ed9405834e480d90ddc2059503a89e": {
          "model_module": "@jupyter-widgets/controls",
          "model_name": "ProgressStyleModel",
          "model_module_version": "1.5.0",
          "state": {
            "_model_module": "@jupyter-widgets/controls",
            "_model_module_version": "1.5.0",
            "_model_name": "ProgressStyleModel",
            "_view_count": null,
            "_view_module": "@jupyter-widgets/base",
            "_view_module_version": "1.2.0",
            "_view_name": "StyleView",
            "bar_color": null,
            "description_width": ""
          }
        },
        "701f68a93ad14839876e21d7ce99b122": {
          "model_module": "@jupyter-widgets/controls",
          "model_name": "FloatProgressModel",
          "model_module_version": "1.5.0",
          "state": {
            "_dom_classes": [],
            "_model_module": "@jupyter-widgets/controls",
            "_model_module_version": "1.5.0",
            "_model_name": "FloatProgressModel",
            "_view_count": null,
            "_view_module": "@jupyter-widgets/controls",
            "_view_module_version": "1.5.0",
            "_view_name": "ProgressView",
            "bar_style": "info",
            "description": "Progress:",
            "description_tooltip": null,
            "layout": "IPY_MODEL_9c8f7fef372d451daa43c550cc62f98c",
            "max": 1,
            "min": 0,
            "orientation": "horizontal",
            "style": "IPY_MODEL_c4e8e3c3454846fc91db200a6389b11b",
            "value": 0
          }
        },
        "9c8f7fef372d451daa43c550cc62f98c": {
          "model_module": "@jupyter-widgets/base",
          "model_name": "LayoutModel",
          "model_module_version": "1.2.0",
          "state": {
            "_model_module": "@jupyter-widgets/base",
            "_model_module_version": "1.2.0",
            "_model_name": "LayoutModel",
            "_view_count": null,
            "_view_module": "@jupyter-widgets/base",
            "_view_module_version": "1.2.0",
            "_view_name": "LayoutView",
            "align_content": null,
            "align_items": null,
            "align_self": null,
            "border": null,
            "bottom": null,
            "display": null,
            "flex": null,
            "flex_flow": null,
            "grid_area": null,
            "grid_auto_columns": null,
            "grid_auto_flow": null,
            "grid_auto_rows": null,
            "grid_column": null,
            "grid_gap": null,
            "grid_row": null,
            "grid_template_areas": null,
            "grid_template_columns": null,
            "grid_template_rows": null,
            "height": "25px",
            "justify_content": null,
            "justify_items": null,
            "left": null,
            "margin": null,
            "max_height": null,
            "max_width": null,
            "min_height": null,
            "min_width": null,
            "object_fit": null,
            "object_position": null,
            "order": null,
            "overflow": null,
            "overflow_x": null,
            "overflow_y": null,
            "padding": null,
            "right": null,
            "top": null,
            "visibility": null,
            "width": "50%"
          }
        },
        "c4e8e3c3454846fc91db200a6389b11b": {
          "model_module": "@jupyter-widgets/controls",
          "model_name": "ProgressStyleModel",
          "model_module_version": "1.5.0",
          "state": {
            "_model_module": "@jupyter-widgets/controls",
            "_model_module_version": "1.5.0",
            "_model_name": "ProgressStyleModel",
            "_view_count": null,
            "_view_module": "@jupyter-widgets/base",
            "_view_module_version": "1.2.0",
            "_view_name": "StyleView",
            "bar_color": null,
            "description_width": ""
          }
        },
        "605f17a2ab6e4c54adcf65229d316cca": {
          "model_module": "@jupyter-widgets/controls",
          "model_name": "FloatProgressModel",
          "model_module_version": "1.5.0",
          "state": {
            "_dom_classes": [],
            "_model_module": "@jupyter-widgets/controls",
            "_model_module_version": "1.5.0",
            "_model_name": "FloatProgressModel",
            "_view_count": null,
            "_view_module": "@jupyter-widgets/controls",
            "_view_module_version": "1.5.0",
            "_view_name": "ProgressView",
            "bar_style": "info",
            "description": "Progress:",
            "description_tooltip": null,
            "layout": "IPY_MODEL_30eb03e5f0bd4b35a9e4ae4685c70048",
            "max": 1,
            "min": 0,
            "orientation": "horizontal",
            "style": "IPY_MODEL_621b4258ec7c41df99b5ad288c4ceae2",
            "value": 0
          }
        },
        "30eb03e5f0bd4b35a9e4ae4685c70048": {
          "model_module": "@jupyter-widgets/base",
          "model_name": "LayoutModel",
          "model_module_version": "1.2.0",
          "state": {
            "_model_module": "@jupyter-widgets/base",
            "_model_module_version": "1.2.0",
            "_model_name": "LayoutModel",
            "_view_count": null,
            "_view_module": "@jupyter-widgets/base",
            "_view_module_version": "1.2.0",
            "_view_name": "LayoutView",
            "align_content": null,
            "align_items": null,
            "align_self": null,
            "border": null,
            "bottom": null,
            "display": null,
            "flex": null,
            "flex_flow": null,
            "grid_area": null,
            "grid_auto_columns": null,
            "grid_auto_flow": null,
            "grid_auto_rows": null,
            "grid_column": null,
            "grid_gap": null,
            "grid_row": null,
            "grid_template_areas": null,
            "grid_template_columns": null,
            "grid_template_rows": null,
            "height": "25px",
            "justify_content": null,
            "justify_items": null,
            "left": null,
            "margin": null,
            "max_height": null,
            "max_width": null,
            "min_height": null,
            "min_width": null,
            "object_fit": null,
            "object_position": null,
            "order": null,
            "overflow": null,
            "overflow_x": null,
            "overflow_y": null,
            "padding": null,
            "right": null,
            "top": null,
            "visibility": null,
            "width": "50%"
          }
        },
        "621b4258ec7c41df99b5ad288c4ceae2": {
          "model_module": "@jupyter-widgets/controls",
          "model_name": "ProgressStyleModel",
          "model_module_version": "1.5.0",
          "state": {
            "_model_module": "@jupyter-widgets/controls",
            "_model_module_version": "1.5.0",
            "_model_name": "ProgressStyleModel",
            "_view_count": null,
            "_view_module": "@jupyter-widgets/base",
            "_view_module_version": "1.2.0",
            "_view_name": "StyleView",
            "bar_color": null,
            "description_width": ""
          }
        },
        "dfda2722f6d042c896568066ed3f3836": {
          "model_module": "@jupyter-widgets/controls",
          "model_name": "FloatProgressModel",
          "model_module_version": "1.5.0",
          "state": {
            "_dom_classes": [],
            "_model_module": "@jupyter-widgets/controls",
            "_model_module_version": "1.5.0",
            "_model_name": "FloatProgressModel",
            "_view_count": null,
            "_view_module": "@jupyter-widgets/controls",
            "_view_module_version": "1.5.0",
            "_view_name": "ProgressView",
            "bar_style": "info",
            "description": "Progress:",
            "description_tooltip": null,
            "layout": "IPY_MODEL_c3929a21e21346beb6ce3a2f7c73e881",
            "max": 1,
            "min": 0,
            "orientation": "horizontal",
            "style": "IPY_MODEL_52f77ad585bc413ab782d43347494ab7",
            "value": 0
          }
        },
        "c3929a21e21346beb6ce3a2f7c73e881": {
          "model_module": "@jupyter-widgets/base",
          "model_name": "LayoutModel",
          "model_module_version": "1.2.0",
          "state": {
            "_model_module": "@jupyter-widgets/base",
            "_model_module_version": "1.2.0",
            "_model_name": "LayoutModel",
            "_view_count": null,
            "_view_module": "@jupyter-widgets/base",
            "_view_module_version": "1.2.0",
            "_view_name": "LayoutView",
            "align_content": null,
            "align_items": null,
            "align_self": null,
            "border": null,
            "bottom": null,
            "display": null,
            "flex": null,
            "flex_flow": null,
            "grid_area": null,
            "grid_auto_columns": null,
            "grid_auto_flow": null,
            "grid_auto_rows": null,
            "grid_column": null,
            "grid_gap": null,
            "grid_row": null,
            "grid_template_areas": null,
            "grid_template_columns": null,
            "grid_template_rows": null,
            "height": "25px",
            "justify_content": null,
            "justify_items": null,
            "left": null,
            "margin": null,
            "max_height": null,
            "max_width": null,
            "min_height": null,
            "min_width": null,
            "object_fit": null,
            "object_position": null,
            "order": null,
            "overflow": null,
            "overflow_x": null,
            "overflow_y": null,
            "padding": null,
            "right": null,
            "top": null,
            "visibility": null,
            "width": "50%"
          }
        },
        "52f77ad585bc413ab782d43347494ab7": {
          "model_module": "@jupyter-widgets/controls",
          "model_name": "ProgressStyleModel",
          "model_module_version": "1.5.0",
          "state": {
            "_model_module": "@jupyter-widgets/controls",
            "_model_module_version": "1.5.0",
            "_model_name": "ProgressStyleModel",
            "_view_count": null,
            "_view_module": "@jupyter-widgets/base",
            "_view_module_version": "1.2.0",
            "_view_name": "StyleView",
            "bar_color": null,
            "description_width": ""
          }
        },
        "f7e79474e53c45feba5d08b49f9a3dcc": {
          "model_module": "@jupyter-widgets/controls",
          "model_name": "FloatProgressModel",
          "model_module_version": "1.5.0",
          "state": {
            "_dom_classes": [],
            "_model_module": "@jupyter-widgets/controls",
            "_model_module_version": "1.5.0",
            "_model_name": "FloatProgressModel",
            "_view_count": null,
            "_view_module": "@jupyter-widgets/controls",
            "_view_module_version": "1.5.0",
            "_view_name": "ProgressView",
            "bar_style": "info",
            "description": "Progress:",
            "description_tooltip": null,
            "layout": "IPY_MODEL_5e597edd1b5d43ebb7c3191536d7bb83",
            "max": 1,
            "min": 0,
            "orientation": "horizontal",
            "style": "IPY_MODEL_4aeab5dfd1224aaabeb268d275bfa038",
            "value": 0
          }
        },
        "5e597edd1b5d43ebb7c3191536d7bb83": {
          "model_module": "@jupyter-widgets/base",
          "model_name": "LayoutModel",
          "model_module_version": "1.2.0",
          "state": {
            "_model_module": "@jupyter-widgets/base",
            "_model_module_version": "1.2.0",
            "_model_name": "LayoutModel",
            "_view_count": null,
            "_view_module": "@jupyter-widgets/base",
            "_view_module_version": "1.2.0",
            "_view_name": "LayoutView",
            "align_content": null,
            "align_items": null,
            "align_self": null,
            "border": null,
            "bottom": null,
            "display": null,
            "flex": null,
            "flex_flow": null,
            "grid_area": null,
            "grid_auto_columns": null,
            "grid_auto_flow": null,
            "grid_auto_rows": null,
            "grid_column": null,
            "grid_gap": null,
            "grid_row": null,
            "grid_template_areas": null,
            "grid_template_columns": null,
            "grid_template_rows": null,
            "height": "25px",
            "justify_content": null,
            "justify_items": null,
            "left": null,
            "margin": null,
            "max_height": null,
            "max_width": null,
            "min_height": null,
            "min_width": null,
            "object_fit": null,
            "object_position": null,
            "order": null,
            "overflow": null,
            "overflow_x": null,
            "overflow_y": null,
            "padding": null,
            "right": null,
            "top": null,
            "visibility": null,
            "width": "50%"
          }
        },
        "4aeab5dfd1224aaabeb268d275bfa038": {
          "model_module": "@jupyter-widgets/controls",
          "model_name": "ProgressStyleModel",
          "model_module_version": "1.5.0",
          "state": {
            "_model_module": "@jupyter-widgets/controls",
            "_model_module_version": "1.5.0",
            "_model_name": "ProgressStyleModel",
            "_view_count": null,
            "_view_module": "@jupyter-widgets/base",
            "_view_module_version": "1.2.0",
            "_view_name": "StyleView",
            "bar_color": null,
            "description_width": ""
          }
        }
      }
    }
  },
  "cells": [
    {
      "cell_type": "markdown",
      "metadata": {
        "id": "view-in-github",
        "colab_type": "text"
      },
      "source": [
        "<a href=\"https://colab.research.google.com/github/MarinaWolters/Coding-Tracker/blob/master/Hands_on_4.ipynb\" target=\"_parent\"><img src=\"https://colab.research.google.com/assets/colab-badge.svg\" alt=\"Open In Colab\"/></a>"
      ]
    },
    {
      "cell_type": "markdown",
      "metadata": {
        "id": "vueVFzzyAmaF"
      },
      "source": [
        "# Hands-on: Bigger Data\n",
        "\n",
        "In this hands-on notebook, we'll take a look at:\n",
        "* Pandas indexing and its role\n",
        "* Dask dataframes (in limited memory)\n",
        "* Apache Spark on a cluster!\n",
        "\n",
        "Note that you have been given AWSEducate accounts, and that Homework 3 will ask\n",
        "you to use them to program using Spark.  The second part of the demo will\n",
        "show you how this is done, but you will not be able to run this part of the demo until you have learned how to set up your own cluster.  "
      ]
    },
    {
      "cell_type": "code",
      "metadata": {
        "id": "QFHltZIzAF-U"
      },
      "source": [
        "import pandas as pd\n",
        "import numpy as np\n",
        "\n",
        "# JSON parsing\n",
        "import json\n"
      ],
      "execution_count": 1,
      "outputs": []
    },
    {
      "cell_type": "code",
      "source": [
        "!wget -nc https://storage.googleapis.com/penn-cis5450/linkedin_small.json"
      ],
      "metadata": {
        "colab": {
          "base_uri": "https://localhost:8080/"
        },
        "id": "XwmWX_dwAJ3l",
        "outputId": "377cb68e-3a3d-4957-c892-04140eb0f980"
      },
      "execution_count": 2,
      "outputs": [
        {
          "output_type": "stream",
          "name": "stdout",
          "text": [
            "--2023-02-09 22:39:27--  https://storage.googleapis.com/penn-cis5450/linkedin_small.json\n",
            "Resolving storage.googleapis.com (storage.googleapis.com)... 173.194.192.128, 209.85.145.128, 209.85.146.128, ...\n",
            "Connecting to storage.googleapis.com (storage.googleapis.com)|173.194.192.128|:443... connected.\n",
            "HTTP request sent, awaiting response... 200 OK\n",
            "Length: 480593111 (458M) [application/json]\n",
            "Saving to: ‘linkedin_small.json’\n",
            "\n",
            "linkedin_small.json 100%[===================>] 458.33M   146MB/s    in 3.2s    \n",
            "\n",
            "2023-02-09 22:39:31 (142 MB/s) - ‘linkedin_small.json’ saved [480593111/480593111]\n",
            "\n"
          ]
        }
      ]
    },
    {
      "cell_type": "code",
      "metadata": {
        "id": "XB2Duhw2A8DQ",
        "colab": {
          "base_uri": "https://localhost:8080/",
          "height": 1000
        },
        "outputId": "ec083813-8707-4f8e-ac47-403baa479345"
      },
      "source": [
        "%%time\n",
        "# 100K records from linkedin\n",
        "linked_in = open('/content/linkedin_small.json')\n",
        "    \n",
        "people = []\n",
        "\n",
        "for line in linked_in:\n",
        "    person = json.loads(line)\n",
        "    people.append(person)\n",
        "    \n",
        "people_df = pd.DataFrame(people)\n",
        "print (\"%d records\"%len(people_df))\n",
        "\n",
        "people_df"
      ],
      "execution_count": null,
      "outputs": [
        {
          "output_type": "stream",
          "name": "stdout",
          "text": [
            "100000 records\n",
            "CPU times: user 8.47 s, sys: 1.42 s, total: 9.9 s\n",
            "Wall time: 9.81 s\n"
          ]
        },
        {
          "output_type": "execute_result",
          "data": {
            "text/plain": [
              "                           _id  \\\n",
              "0                  in-00000001   \n",
              "1                     in-00001   \n",
              "2                     in-00006   \n",
              "3             in-000montgomery   \n",
              "4           in-000vijaychauhan   \n",
              "...                        ...   \n",
              "99995      in-dorothyballarini   \n",
              "99996  in-dorothybarnettgrimes   \n",
              "99997        in-dorothycarroll   \n",
              "99998       in-dorothyczudziak   \n",
              "99999         in-dorothydalton   \n",
              "\n",
              "                                                    name  \\\n",
              "0      {'family_name': 'Mazalu MBA', 'given_name': 'D...   \n",
              "1       {'family_name': 'Forslund', 'given_name': 'Ann'}   \n",
              "2      {'family_name': 'Douglas', 'given_name': 'Shawn'}   \n",
              "3      {'family_name': 'Kilimann', 'given_name': 'Edr...   \n",
              "4      {'family_name': 'Chauhan, PMP', 'given_name': ...   \n",
              "...                                                  ...   \n",
              "99995  {'family_name': 'Ballarini', 'given_name': 'Do...   \n",
              "99996  {'family_name': 'Grimes', 'given_name': 'Dorot...   \n",
              "99997  {'family_name': 'Huffman', 'given_name': 'Doro...   \n",
              "99998  {'family_name': 'Czudziak', 'given_name': 'Dor...   \n",
              "99999  {'family_name': 'Dalton', 'given_name': 'Dorot...   \n",
              "\n",
              "                         locality  \\\n",
              "0                   United States   \n",
              "1           Antwerp Area, Belgium   \n",
              "2       San Francisco, California   \n",
              "3          San Francisco Bay Area   \n",
              "4             Chennai Area, India   \n",
              "...                           ...   \n",
              "99995      London, United Kingdom   \n",
              "99996         Houston, Texas Area   \n",
              "99997     Richmond, Virginia Area   \n",
              "99998  Greater New York City Area   \n",
              "99999      Brussels Area, Belgium   \n",
              "\n",
              "                                                  skills  \\\n",
              "0      [Key Account Development, Strategic Planning, ...   \n",
              "1                        [Molecular Biology, Biomarkers]   \n",
              "2      [DNA, Nanotechnology, Molecular Biology, Softw...   \n",
              "3                                                    NaN   \n",
              "4      [Program Management, French, Avionics, Embedde...   \n",
              "...                                                  ...   \n",
              "99995  [Zbrush, 3D Studio Max, Concept Design, Charac...   \n",
              "99996  [Internal Controls, Revenue Recognition, Sarba...   \n",
              "99997                                                NaN   \n",
              "99998                                                NaN   \n",
              "99999  [Candidate Generation, Candidate Development, ...   \n",
              "\n",
              "                                  industry  \\\n",
              "0                          Medical Devices   \n",
              "1                          Pharmaceuticals   \n",
              "2                                 Research   \n",
              "3      Information Technology and Services   \n",
              "4                     Aviation & Aerospace   \n",
              "...                                    ...   \n",
              "99995             Motion Pictures and Film   \n",
              "99996                         Oil & Energy   \n",
              "99997  Information Technology and Services   \n",
              "99998                        Entertainment   \n",
              "99999                      Human Resources   \n",
              "\n",
              "                                                 summary  \\\n",
              "0      SALES MANAGEMENT / BUSINESS DEVELOPMENT / PROJ...   \n",
              "1      Ph.D. scientist with background in cancer rese...   \n",
              "2      I am interested in inventing new methods to co...   \n",
              "3      OBJECTIVE<Primary> Work on an interesting and ...   \n",
              "4      Experience in Avionics Systems, Embedded Syste...   \n",
              "...                                                  ...   \n",
              "99995  I have 10 years of experience working with the...   \n",
              "99996  • Results driven finance leader and business p...   \n",
              "99997  •Over 6 years experience in all phases of soft...   \n",
              "99998                                                NaN   \n",
              "99999                                                NaN   \n",
              "\n",
              "                                                   url  \\\n",
              "0                  http://www.linkedin.com/in/00000001   \n",
              "1                      http://be.linkedin.com/in/00001   \n",
              "2                     http://www.linkedin.com/in/00006   \n",
              "3             http://www.linkedin.com/in/000montgomery   \n",
              "4            http://in.linkedin.com/in/000vijaychauhan   \n",
              "...                                                ...   \n",
              "99995       http://uk.linkedin.com/in/dorothyballarini   \n",
              "99996  http://www.linkedin.com/in/dorothybarnettgrimes   \n",
              "99997        http://www.linkedin.com/in/dorothycarroll   \n",
              "99998       http://www.linkedin.com/in/dorothyczudziak   \n",
              "99999          http://be.linkedin.com/in/dorothydalton   \n",
              "\n",
              "                                               also_view  \\\n",
              "0      [{'url': 'http://www.linkedin.com/pub/krisa-dr...   \n",
              "1      [{'url': 'http://www.linkedin.com/pub/peter-ki...   \n",
              "2      [{'url': 'http://www.linkedin.com/pub/george-c...   \n",
              "3      [{'url': 'http://www.linkedin.com/pub/david-br...   \n",
              "4      [{'url': 'http://in.linkedin.com/in/sandeeprag...   \n",
              "...                                                  ...   \n",
              "99995  [{'url': 'http://es.linkedin.com/pub/rebeca-pu...   \n",
              "99996  [{'url': 'http://www.linkedin.com/pub/ken-greg...   \n",
              "99997  [{'url': 'http://www.linkedin.com/pub/kim-cava...   \n",
              "99998  [{'url': 'http://www.linkedin.com/pub/lindsay-...   \n",
              "99999                                                 []   \n",
              "\n",
              "                                               education  \\\n",
              "0                                                    NaN   \n",
              "1      [{'start': '2008', 'major': 'Economics', 'end'...   \n",
              "2      [{'major': 'Biophysics', 'end': '2009', 'name'...   \n",
              "3                                                    NaN   \n",
              "4      [{'start': '1988', 'end': '1989', 'name': 'Eco...   \n",
              "...                                                  ...   \n",
              "99995  [{'start': '2007', 'major': 'Design', 'end': '...   \n",
              "99996  [{'major': 'Business', 'name': 'Santa Clara Un...   \n",
              "99997  [{'major': 'Religion', 'end': '2009', 'name': ...   \n",
              "99998  [{'start': '1998', 'end': '2004', 'name': 'Que...   \n",
              "99999                                                NaN   \n",
              "\n",
              "                                                   group  \\\n",
              "0                                                    NaN   \n",
              "1      {'affilition': ['ASMALLWORLD.net', 'Biomarker ...   \n",
              "2                                                    NaN   \n",
              "3      {'affilition': ['Big Data, Low Latency', 'Expe...   \n",
              "4      {'member': 'Member of Project Management Insti...   \n",
              "...                                                  ...   \n",
              "99995  {'affilition': ['3D Animation, VFX & Games', '...   \n",
              "99996                                                NaN   \n",
              "99997  {'member': 'CERT (Community Emergency Response...   \n",
              "99998                                                NaN   \n",
              "99999                                                NaN   \n",
              "\n",
              "                                           overview_html  interval  \\\n",
              "0                                                    NaN       NaN   \n",
              "1      <dl id=\"overview\"><dt id=\"overview-summary-cur...      20.0   \n",
              "2      <dl id=\"overview\"><dt id=\"overview-summary-cur...       0.0   \n",
              "3                                                    NaN       5.0   \n",
              "4                                                    NaN       NaN   \n",
              "...                                                  ...       ...   \n",
              "99995                                                NaN       6.0   \n",
              "99996                                                NaN      25.0   \n",
              "99997                                                NaN      31.0   \n",
              "99998                                                NaN       0.0   \n",
              "99999                                                NaN       NaN   \n",
              "\n",
              "                                              experience  \\\n",
              "0                                                    NaN   \n",
              "1      [{'org': 'Johnson and Johnson', 'title': 'Seni...   \n",
              "2      [{'org': 'UCSF', 'title': 'Assistant Professor...   \n",
              "3      [{'org': '<Online Recruiting Company>', 'desc'...   \n",
              "4                                                    NaN   \n",
              "...                                                  ...   \n",
              "99995  [{'org': 'ZOO', 'title': 'Freelancer 3D artist...   \n",
              "99996  [{'org': 'Spectrum ASA', 'title': 'Multi-Clien...   \n",
              "99997  [{'org': 'Estes Express Lines', 'title': 'QA L...   \n",
              "99998  [{'start': 'January 2000', 'desc': 'I'm a full...   \n",
              "99999                                                NaN   \n",
              "\n",
              "                                             specilities  \\\n",
              "0                                                    NaN   \n",
              "1      Biomarkers in Oncology, Cancer Genomics, Molec...   \n",
              "2                                                    NaN   \n",
              "3                                                    NaN   \n",
              "4                                                    NaN   \n",
              "...                                                  ...   \n",
              "99995                                                NaN   \n",
              "99996                                                NaN   \n",
              "99997                                                NaN   \n",
              "99998                                                NaN   \n",
              "99999                                                NaN   \n",
              "\n",
              "                                                  events  \\\n",
              "0                                                    NaN   \n",
              "1      [{'from': 'Sahlgrenska University Hospital', '...   \n",
              "2      [{'from': 'Wyss Institute for Biologically Ins...   \n",
              "3      [{'from': '<Employee Benefits, Administration ...   \n",
              "4                                                    NaN   \n",
              "...                                                  ...   \n",
              "99995  [{'from': 'Universidade Federal do Rio Grande ...   \n",
              "99996  [{'from': 'TanThap Inc and Digitan Systems', '...   \n",
              "99997  [{'from': 'Circuit City', 'to': 'Circuit City'...   \n",
              "99998                                                 []   \n",
              "99999                                                NaN   \n",
              "\n",
              "                                          interests  \\\n",
              "0                                               NaN   \n",
              "1                                               NaN   \n",
              "2                 personal genomics, nanotechnology   \n",
              "3                                               NaN   \n",
              "4                     Literature, Philosophy, Music   \n",
              "...                                             ...   \n",
              "99995  Arts, Computer Graphics, Cinema, Video Games   \n",
              "99996                                           NaN   \n",
              "99997                                           NaN   \n",
              "99998                                           NaN   \n",
              "99999                                           NaN   \n",
              "\n",
              "                                                homepage  \\\n",
              "0                                                    NaN   \n",
              "1                                                    NaN   \n",
              "2      {'BIOMOD': ['http://biomod.net/'], 'Company We...   \n",
              "3                                                    NaN   \n",
              "4                                                    NaN   \n",
              "...                                                  ...   \n",
              "99995                                                NaN   \n",
              "99996                                                NaN   \n",
              "99997                                                NaN   \n",
              "99998                                                NaN   \n",
              "99999                                                NaN   \n",
              "\n",
              "                                               honors  \n",
              "0                                                 NaN  \n",
              "1                                                 NaN  \n",
              "2                                                 NaN  \n",
              "3                                                 NaN  \n",
              "4                                                 NaN  \n",
              "...                                               ...  \n",
              "99995                                             NaN  \n",
              "99996  [Certified Public Accountant - State of Texas]  \n",
              "99997                                             NaN  \n",
              "99998                                             NaN  \n",
              "99999                                             NaN  \n",
              "\n",
              "[100000 rows x 18 columns]"
            ],
            "text/html": [
              "\n",
              "  <div id=\"df-bb156abd-7dfb-4477-aece-ceec6f215292\">\n",
              "    <div class=\"colab-df-container\">\n",
              "      <div>\n",
              "<style scoped>\n",
              "    .dataframe tbody tr th:only-of-type {\n",
              "        vertical-align: middle;\n",
              "    }\n",
              "\n",
              "    .dataframe tbody tr th {\n",
              "        vertical-align: top;\n",
              "    }\n",
              "\n",
              "    .dataframe thead th {\n",
              "        text-align: right;\n",
              "    }\n",
              "</style>\n",
              "<table border=\"1\" class=\"dataframe\">\n",
              "  <thead>\n",
              "    <tr style=\"text-align: right;\">\n",
              "      <th></th>\n",
              "      <th>_id</th>\n",
              "      <th>name</th>\n",
              "      <th>locality</th>\n",
              "      <th>skills</th>\n",
              "      <th>industry</th>\n",
              "      <th>summary</th>\n",
              "      <th>url</th>\n",
              "      <th>also_view</th>\n",
              "      <th>education</th>\n",
              "      <th>group</th>\n",
              "      <th>overview_html</th>\n",
              "      <th>interval</th>\n",
              "      <th>experience</th>\n",
              "      <th>specilities</th>\n",
              "      <th>events</th>\n",
              "      <th>interests</th>\n",
              "      <th>homepage</th>\n",
              "      <th>honors</th>\n",
              "    </tr>\n",
              "  </thead>\n",
              "  <tbody>\n",
              "    <tr>\n",
              "      <th>0</th>\n",
              "      <td>in-00000001</td>\n",
              "      <td>{'family_name': 'Mazalu MBA', 'given_name': 'D...</td>\n",
              "      <td>United States</td>\n",
              "      <td>[Key Account Development, Strategic Planning, ...</td>\n",
              "      <td>Medical Devices</td>\n",
              "      <td>SALES MANAGEMENT / BUSINESS DEVELOPMENT / PROJ...</td>\n",
              "      <td>http://www.linkedin.com/in/00000001</td>\n",
              "      <td>[{'url': 'http://www.linkedin.com/pub/krisa-dr...</td>\n",
              "      <td>NaN</td>\n",
              "      <td>NaN</td>\n",
              "      <td>NaN</td>\n",
              "      <td>NaN</td>\n",
              "      <td>NaN</td>\n",
              "      <td>NaN</td>\n",
              "      <td>NaN</td>\n",
              "      <td>NaN</td>\n",
              "      <td>NaN</td>\n",
              "      <td>NaN</td>\n",
              "    </tr>\n",
              "    <tr>\n",
              "      <th>1</th>\n",
              "      <td>in-00001</td>\n",
              "      <td>{'family_name': 'Forslund', 'given_name': 'Ann'}</td>\n",
              "      <td>Antwerp Area, Belgium</td>\n",
              "      <td>[Molecular Biology, Biomarkers]</td>\n",
              "      <td>Pharmaceuticals</td>\n",
              "      <td>Ph.D. scientist with background in cancer rese...</td>\n",
              "      <td>http://be.linkedin.com/in/00001</td>\n",
              "      <td>[{'url': 'http://www.linkedin.com/pub/peter-ki...</td>\n",
              "      <td>[{'start': '2008', 'major': 'Economics', 'end'...</td>\n",
              "      <td>{'affilition': ['ASMALLWORLD.net', 'Biomarker ...</td>\n",
              "      <td>&lt;dl id=\"overview\"&gt;&lt;dt id=\"overview-summary-cur...</td>\n",
              "      <td>20.0</td>\n",
              "      <td>[{'org': 'Johnson and Johnson', 'title': 'Seni...</td>\n",
              "      <td>Biomarkers in Oncology, Cancer Genomics, Molec...</td>\n",
              "      <td>[{'from': 'Sahlgrenska University Hospital', '...</td>\n",
              "      <td>NaN</td>\n",
              "      <td>NaN</td>\n",
              "      <td>NaN</td>\n",
              "    </tr>\n",
              "    <tr>\n",
              "      <th>2</th>\n",
              "      <td>in-00006</td>\n",
              "      <td>{'family_name': 'Douglas', 'given_name': 'Shawn'}</td>\n",
              "      <td>San Francisco, California</td>\n",
              "      <td>[DNA, Nanotechnology, Molecular Biology, Softw...</td>\n",
              "      <td>Research</td>\n",
              "      <td>I am interested in inventing new methods to co...</td>\n",
              "      <td>http://www.linkedin.com/in/00006</td>\n",
              "      <td>[{'url': 'http://www.linkedin.com/pub/george-c...</td>\n",
              "      <td>[{'major': 'Biophysics', 'end': '2009', 'name'...</td>\n",
              "      <td>NaN</td>\n",
              "      <td>&lt;dl id=\"overview\"&gt;&lt;dt id=\"overview-summary-cur...</td>\n",
              "      <td>0.0</td>\n",
              "      <td>[{'org': 'UCSF', 'title': 'Assistant Professor...</td>\n",
              "      <td>NaN</td>\n",
              "      <td>[{'from': 'Wyss Institute for Biologically Ins...</td>\n",
              "      <td>personal genomics, nanotechnology</td>\n",
              "      <td>{'BIOMOD': ['http://biomod.net/'], 'Company We...</td>\n",
              "      <td>NaN</td>\n",
              "    </tr>\n",
              "    <tr>\n",
              "      <th>3</th>\n",
              "      <td>in-000montgomery</td>\n",
              "      <td>{'family_name': 'Kilimann', 'given_name': 'Edr...</td>\n",
              "      <td>San Francisco Bay Area</td>\n",
              "      <td>NaN</td>\n",
              "      <td>Information Technology and Services</td>\n",
              "      <td>OBJECTIVE&lt;Primary&gt; Work on an interesting and ...</td>\n",
              "      <td>http://www.linkedin.com/in/000montgomery</td>\n",
              "      <td>[{'url': 'http://www.linkedin.com/pub/david-br...</td>\n",
              "      <td>NaN</td>\n",
              "      <td>{'affilition': ['Big Data, Low Latency', 'Expe...</td>\n",
              "      <td>NaN</td>\n",
              "      <td>5.0</td>\n",
              "      <td>[{'org': '&lt;Online Recruiting Company&gt;', 'desc'...</td>\n",
              "      <td>NaN</td>\n",
              "      <td>[{'from': '&lt;Employee Benefits, Administration ...</td>\n",
              "      <td>NaN</td>\n",
              "      <td>NaN</td>\n",
              "      <td>NaN</td>\n",
              "    </tr>\n",
              "    <tr>\n",
              "      <th>4</th>\n",
              "      <td>in-000vijaychauhan</td>\n",
              "      <td>{'family_name': 'Chauhan, PMP', 'given_name': ...</td>\n",
              "      <td>Chennai Area, India</td>\n",
              "      <td>[Program Management, French, Avionics, Embedde...</td>\n",
              "      <td>Aviation &amp; Aerospace</td>\n",
              "      <td>Experience in Avionics Systems, Embedded Syste...</td>\n",
              "      <td>http://in.linkedin.com/in/000vijaychauhan</td>\n",
              "      <td>[{'url': 'http://in.linkedin.com/in/sandeeprag...</td>\n",
              "      <td>[{'start': '1988', 'end': '1989', 'name': 'Eco...</td>\n",
              "      <td>{'member': 'Member of Project Management Insti...</td>\n",
              "      <td>NaN</td>\n",
              "      <td>NaN</td>\n",
              "      <td>NaN</td>\n",
              "      <td>NaN</td>\n",
              "      <td>NaN</td>\n",
              "      <td>Literature, Philosophy, Music</td>\n",
              "      <td>NaN</td>\n",
              "      <td>NaN</td>\n",
              "    </tr>\n",
              "    <tr>\n",
              "      <th>...</th>\n",
              "      <td>...</td>\n",
              "      <td>...</td>\n",
              "      <td>...</td>\n",
              "      <td>...</td>\n",
              "      <td>...</td>\n",
              "      <td>...</td>\n",
              "      <td>...</td>\n",
              "      <td>...</td>\n",
              "      <td>...</td>\n",
              "      <td>...</td>\n",
              "      <td>...</td>\n",
              "      <td>...</td>\n",
              "      <td>...</td>\n",
              "      <td>...</td>\n",
              "      <td>...</td>\n",
              "      <td>...</td>\n",
              "      <td>...</td>\n",
              "      <td>...</td>\n",
              "    </tr>\n",
              "    <tr>\n",
              "      <th>99995</th>\n",
              "      <td>in-dorothyballarini</td>\n",
              "      <td>{'family_name': 'Ballarini', 'given_name': 'Do...</td>\n",
              "      <td>London, United Kingdom</td>\n",
              "      <td>[Zbrush, 3D Studio Max, Concept Design, Charac...</td>\n",
              "      <td>Motion Pictures and Film</td>\n",
              "      <td>I have 10 years of experience working with the...</td>\n",
              "      <td>http://uk.linkedin.com/in/dorothyballarini</td>\n",
              "      <td>[{'url': 'http://es.linkedin.com/pub/rebeca-pu...</td>\n",
              "      <td>[{'start': '2007', 'major': 'Design', 'end': '...</td>\n",
              "      <td>{'affilition': ['3D Animation, VFX &amp; Games', '...</td>\n",
              "      <td>NaN</td>\n",
              "      <td>6.0</td>\n",
              "      <td>[{'org': 'ZOO', 'title': 'Freelancer 3D artist...</td>\n",
              "      <td>NaN</td>\n",
              "      <td>[{'from': 'Universidade Federal do Rio Grande ...</td>\n",
              "      <td>Arts, Computer Graphics, Cinema, Video Games</td>\n",
              "      <td>NaN</td>\n",
              "      <td>NaN</td>\n",
              "    </tr>\n",
              "    <tr>\n",
              "      <th>99996</th>\n",
              "      <td>in-dorothybarnettgrimes</td>\n",
              "      <td>{'family_name': 'Grimes', 'given_name': 'Dorot...</td>\n",
              "      <td>Houston, Texas Area</td>\n",
              "      <td>[Internal Controls, Revenue Recognition, Sarba...</td>\n",
              "      <td>Oil &amp; Energy</td>\n",
              "      <td>• Results driven finance leader and business p...</td>\n",
              "      <td>http://www.linkedin.com/in/dorothybarnettgrimes</td>\n",
              "      <td>[{'url': 'http://www.linkedin.com/pub/ken-greg...</td>\n",
              "      <td>[{'major': 'Business', 'name': 'Santa Clara Un...</td>\n",
              "      <td>NaN</td>\n",
              "      <td>NaN</td>\n",
              "      <td>25.0</td>\n",
              "      <td>[{'org': 'Spectrum ASA', 'title': 'Multi-Clien...</td>\n",
              "      <td>NaN</td>\n",
              "      <td>[{'from': 'TanThap Inc and Digitan Systems', '...</td>\n",
              "      <td>NaN</td>\n",
              "      <td>NaN</td>\n",
              "      <td>[Certified Public Accountant - State of Texas]</td>\n",
              "    </tr>\n",
              "    <tr>\n",
              "      <th>99997</th>\n",
              "      <td>in-dorothycarroll</td>\n",
              "      <td>{'family_name': 'Huffman', 'given_name': 'Doro...</td>\n",
              "      <td>Richmond, Virginia Area</td>\n",
              "      <td>NaN</td>\n",
              "      <td>Information Technology and Services</td>\n",
              "      <td>•Over 6 years experience in all phases of soft...</td>\n",
              "      <td>http://www.linkedin.com/in/dorothycarroll</td>\n",
              "      <td>[{'url': 'http://www.linkedin.com/pub/kim-cava...</td>\n",
              "      <td>[{'major': 'Religion', 'end': '2009', 'name': ...</td>\n",
              "      <td>{'member': 'CERT (Community Emergency Response...</td>\n",
              "      <td>NaN</td>\n",
              "      <td>31.0</td>\n",
              "      <td>[{'org': 'Estes Express Lines', 'title': 'QA L...</td>\n",
              "      <td>NaN</td>\n",
              "      <td>[{'from': 'Circuit City', 'to': 'Circuit City'...</td>\n",
              "      <td>NaN</td>\n",
              "      <td>NaN</td>\n",
              "      <td>NaN</td>\n",
              "    </tr>\n",
              "    <tr>\n",
              "      <th>99998</th>\n",
              "      <td>in-dorothyczudziak</td>\n",
              "      <td>{'family_name': 'Czudziak', 'given_name': 'Dor...</td>\n",
              "      <td>Greater New York City Area</td>\n",
              "      <td>NaN</td>\n",
              "      <td>Entertainment</td>\n",
              "      <td>NaN</td>\n",
              "      <td>http://www.linkedin.com/in/dorothyczudziak</td>\n",
              "      <td>[{'url': 'http://www.linkedin.com/pub/lindsay-...</td>\n",
              "      <td>[{'start': '1998', 'end': '2004', 'name': 'Que...</td>\n",
              "      <td>NaN</td>\n",
              "      <td>NaN</td>\n",
              "      <td>0.0</td>\n",
              "      <td>[{'start': 'January 2000', 'desc': 'I'm a full...</td>\n",
              "      <td>NaN</td>\n",
              "      <td>[]</td>\n",
              "      <td>NaN</td>\n",
              "      <td>NaN</td>\n",
              "      <td>NaN</td>\n",
              "    </tr>\n",
              "    <tr>\n",
              "      <th>99999</th>\n",
              "      <td>in-dorothydalton</td>\n",
              "      <td>{'family_name': 'Dalton', 'given_name': 'Dorot...</td>\n",
              "      <td>Brussels Area, Belgium</td>\n",
              "      <td>[Candidate Generation, Candidate Development, ...</td>\n",
              "      <td>Human Resources</td>\n",
              "      <td>NaN</td>\n",
              "      <td>http://be.linkedin.com/in/dorothydalton</td>\n",
              "      <td>[]</td>\n",
              "      <td>NaN</td>\n",
              "      <td>NaN</td>\n",
              "      <td>NaN</td>\n",
              "      <td>NaN</td>\n",
              "      <td>NaN</td>\n",
              "      <td>NaN</td>\n",
              "      <td>NaN</td>\n",
              "      <td>NaN</td>\n",
              "      <td>NaN</td>\n",
              "      <td>NaN</td>\n",
              "    </tr>\n",
              "  </tbody>\n",
              "</table>\n",
              "<p>100000 rows × 18 columns</p>\n",
              "</div>\n",
              "      <button class=\"colab-df-convert\" onclick=\"convertToInteractive('df-bb156abd-7dfb-4477-aece-ceec6f215292')\"\n",
              "              title=\"Convert this dataframe to an interactive table.\"\n",
              "              style=\"display:none;\">\n",
              "        \n",
              "  <svg xmlns=\"http://www.w3.org/2000/svg\" height=\"24px\"viewBox=\"0 0 24 24\"\n",
              "       width=\"24px\">\n",
              "    <path d=\"M0 0h24v24H0V0z\" fill=\"none\"/>\n",
              "    <path d=\"M18.56 5.44l.94 2.06.94-2.06 2.06-.94-2.06-.94-.94-2.06-.94 2.06-2.06.94zm-11 1L8.5 8.5l.94-2.06 2.06-.94-2.06-.94L8.5 2.5l-.94 2.06-2.06.94zm10 10l.94 2.06.94-2.06 2.06-.94-2.06-.94-.94-2.06-.94 2.06-2.06.94z\"/><path d=\"M17.41 7.96l-1.37-1.37c-.4-.4-.92-.59-1.43-.59-.52 0-1.04.2-1.43.59L10.3 9.45l-7.72 7.72c-.78.78-.78 2.05 0 2.83L4 21.41c.39.39.9.59 1.41.59.51 0 1.02-.2 1.41-.59l7.78-7.78 2.81-2.81c.8-.78.8-2.07 0-2.86zM5.41 20L4 18.59l7.72-7.72 1.47 1.35L5.41 20z\"/>\n",
              "  </svg>\n",
              "      </button>\n",
              "      \n",
              "  <style>\n",
              "    .colab-df-container {\n",
              "      display:flex;\n",
              "      flex-wrap:wrap;\n",
              "      gap: 12px;\n",
              "    }\n",
              "\n",
              "    .colab-df-convert {\n",
              "      background-color: #E8F0FE;\n",
              "      border: none;\n",
              "      border-radius: 50%;\n",
              "      cursor: pointer;\n",
              "      display: none;\n",
              "      fill: #1967D2;\n",
              "      height: 32px;\n",
              "      padding: 0 0 0 0;\n",
              "      width: 32px;\n",
              "    }\n",
              "\n",
              "    .colab-df-convert:hover {\n",
              "      background-color: #E2EBFA;\n",
              "      box-shadow: 0px 1px 2px rgba(60, 64, 67, 0.3), 0px 1px 3px 1px rgba(60, 64, 67, 0.15);\n",
              "      fill: #174EA6;\n",
              "    }\n",
              "\n",
              "    [theme=dark] .colab-df-convert {\n",
              "      background-color: #3B4455;\n",
              "      fill: #D2E3FC;\n",
              "    }\n",
              "\n",
              "    [theme=dark] .colab-df-convert:hover {\n",
              "      background-color: #434B5C;\n",
              "      box-shadow: 0px 1px 3px 1px rgba(0, 0, 0, 0.15);\n",
              "      filter: drop-shadow(0px 1px 2px rgba(0, 0, 0, 0.3));\n",
              "      fill: #FFFFFF;\n",
              "    }\n",
              "  </style>\n",
              "\n",
              "      <script>\n",
              "        const buttonEl =\n",
              "          document.querySelector('#df-bb156abd-7dfb-4477-aece-ceec6f215292 button.colab-df-convert');\n",
              "        buttonEl.style.display =\n",
              "          google.colab.kernel.accessAllowed ? 'block' : 'none';\n",
              "\n",
              "        async function convertToInteractive(key) {\n",
              "          const element = document.querySelector('#df-bb156abd-7dfb-4477-aece-ceec6f215292');\n",
              "          const dataTable =\n",
              "            await google.colab.kernel.invokeFunction('convertToInteractive',\n",
              "                                                     [key], {});\n",
              "          if (!dataTable) return;\n",
              "\n",
              "          const docLinkHtml = 'Like what you see? Visit the ' +\n",
              "            '<a target=\"_blank\" href=https://colab.research.google.com/notebooks/data_table.ipynb>data table notebook</a>'\n",
              "            + ' to learn more about interactive tables.';\n",
              "          element.innerHTML = '';\n",
              "          dataTable['output_type'] = 'display_data';\n",
              "          await google.colab.output.renderOutput(dataTable, element);\n",
              "          const docLink = document.createElement('div');\n",
              "          docLink.innerHTML = docLinkHtml;\n",
              "          element.appendChild(docLink);\n",
              "        }\n",
              "      </script>\n",
              "    </div>\n",
              "  </div>\n",
              "  "
            ]
          },
          "metadata": {},
          "execution_count": 5
        }
      ]
    },
    {
      "cell_type": "markdown",
      "metadata": {
        "id": "S4XbxV5g_Dzy"
      },
      "source": [
        "## 1.1 Indices\n",
        "\n",
        "\n",
        "Pandas differs from most other models of relations, in that it has a built-in notion of *indices*.  These are not part of the data, but rather they are special metadata.\n",
        "\n",
        "**It is considered good data design to put all meaningful fields into the data, so you should not rely too heavily on Pandas indices for semantics.**\n",
        "\n",
        "By default, indices are used to help look up data -- in a way that is similar to selection but is more efficient:  see the `iloc` and `loc` commands."
      ]
    },
    {
      "cell_type": "markdown",
      "metadata": {
        "id": "lO2Ru8LKEhb4"
      },
      "source": [
        "### 1.1. Integer indices and iloc"
      ]
    },
    {
      "cell_type": "markdown",
      "metadata": {
        "id": "IenQsaTVDvZp"
      },
      "source": [
        "There are two ways of using the index.\n",
        "\n",
        "If it's an `integer` then you can use `.iloc`."
      ]
    },
    {
      "cell_type": "code",
      "metadata": {
        "id": "V0jJZKv1D3v3"
      },
      "source": [
        "# TODO 1:  Return the 4th entry of people_df using .iloc\n"
      ],
      "execution_count": null,
      "outputs": []
    },
    {
      "cell_type": "code",
      "metadata": {
        "id": "398D9ct1EDwZ"
      },
      "source": [
        "# You can also index along the column dimension, although\n",
        "# this depends on the ordering and not values!\n",
        "\n",
        "# TODO 2:  Return the 2nd column of the second entry in people_df\n"
      ],
      "execution_count": null,
      "outputs": []
    },
    {
      "cell_type": "code",
      "metadata": {
        "id": "mBpjPS0YEOUR"
      },
      "source": [
        "# You can do an .iloc using an array as well\n"
      ],
      "execution_count": null,
      "outputs": []
    },
    {
      "cell_type": "markdown",
      "metadata": {
        "id": "u6yECpzjEmg8"
      },
      "source": [
        "### 1.2. Groupby and loc"
      ]
    },
    {
      "cell_type": "code",
      "metadata": {
        "id": "yc04VluAEeYJ"
      },
      "source": [
        "# Suppose we group by industry...\n",
        "\n"
      ],
      "execution_count": null,
      "outputs": []
    },
    {
      "cell_type": "code",
      "metadata": {
        "id": "PwZWQjgSE0P8"
      },
      "source": [
        "# TODO 3:  Use .loc to find the entry indexed by 'Accounting'\n"
      ],
      "execution_count": null,
      "outputs": []
    },
    {
      "cell_type": "code",
      "metadata": {
        "id": "IYKUlcKoE-m0"
      },
      "source": [
        "# TODO 4:  Use .loc to find the value of 'experience' in the entry\n",
        "# indexed by 'Accounting'\n",
        "\n"
      ],
      "execution_count": null,
      "outputs": []
    },
    {
      "cell_type": "code",
      "metadata": {
        "id": "UkCA_OeWFDe1"
      },
      "source": [
        "# Using .loc, we can also use a combination of \n",
        "# a numeric row index and a named column index!\n"
      ],
      "execution_count": null,
      "outputs": []
    },
    {
      "cell_type": "markdown",
      "metadata": {
        "id": "PzdaJnNyEz0I"
      },
      "source": []
    },
    {
      "cell_type": "markdown",
      "metadata": {
        "id": "7tqXH-FOAdup"
      },
      "source": [
        "## 2. Parallel Processing in Dask\n"
      ]
    },
    {
      "cell_type": "code",
      "metadata": {
        "id": "hriN_hwY_CYz",
        "colab": {
          "base_uri": "https://localhost:8080/"
        },
        "outputId": "be4ff6c7-dce5-4234-eae2-807d127c53c1"
      },
      "source": [
        "!pip install dask[complete]\n",
        "import dask\n",
        "import dask.dataframe as dd\n",
        "\n",
        "import gc\n",
        "gc.enable()"
      ],
      "execution_count": null,
      "outputs": [
        {
          "output_type": "stream",
          "name": "stdout",
          "text": [
            "Looking in indexes: https://pypi.org/simple, https://us-python.pkg.dev/colab-wheels/public/simple/\n",
            "Requirement already satisfied: dask[complete] in /usr/local/lib/python3.7/dist-packages (2022.2.0)\n",
            "Requirement already satisfied: toolz>=0.8.2 in /usr/local/lib/python3.7/dist-packages (from dask[complete]) (0.12.0)\n",
            "Requirement already satisfied: packaging>=20.0 in /usr/local/lib/python3.7/dist-packages (from dask[complete]) (21.3)\n",
            "Requirement already satisfied: partd>=0.3.10 in /usr/local/lib/python3.7/dist-packages (from dask[complete]) (1.3.0)\n",
            "Requirement already satisfied: fsspec>=0.6.0 in /usr/local/lib/python3.7/dist-packages (from dask[complete]) (2022.8.2)\n",
            "Requirement already satisfied: cloudpickle>=1.1.1 in /usr/local/lib/python3.7/dist-packages (from dask[complete]) (1.5.0)\n",
            "Requirement already satisfied: pyyaml>=5.3.1 in /usr/local/lib/python3.7/dist-packages (from dask[complete]) (6.0)\n",
            "Requirement already satisfied: distributed==2022.02.0 in /usr/local/lib/python3.7/dist-packages (from dask[complete]) (2022.2.0)\n",
            "Requirement already satisfied: jinja2 in /usr/local/lib/python3.7/dist-packages (from dask[complete]) (2.11.3)\n",
            "Requirement already satisfied: bokeh>=2.1.1 in /usr/local/lib/python3.7/dist-packages (from dask[complete]) (2.3.3)\n",
            "Requirement already satisfied: pandas>=1.0 in /usr/local/lib/python3.7/dist-packages (from dask[complete]) (1.3.5)\n",
            "Requirement already satisfied: numpy>=1.18 in /usr/local/lib/python3.7/dist-packages (from dask[complete]) (1.21.6)\n",
            "Requirement already satisfied: click>=6.6 in /usr/local/lib/python3.7/dist-packages (from distributed==2022.02.0->dask[complete]) (7.1.2)\n",
            "Requirement already satisfied: sortedcontainers!=2.0.0,!=2.0.1 in /usr/local/lib/python3.7/dist-packages (from distributed==2022.02.0->dask[complete]) (2.4.0)\n",
            "Requirement already satisfied: zict>=0.1.3 in /usr/local/lib/python3.7/dist-packages (from distributed==2022.02.0->dask[complete]) (2.2.0)\n",
            "Requirement already satisfied: msgpack>=0.6.0 in /usr/local/lib/python3.7/dist-packages (from distributed==2022.02.0->dask[complete]) (1.0.4)\n",
            "Requirement already satisfied: tblib>=1.6.0 in /usr/local/lib/python3.7/dist-packages (from distributed==2022.02.0->dask[complete]) (1.7.0)\n",
            "Requirement already satisfied: tornado>=5 in /usr/local/lib/python3.7/dist-packages (from distributed==2022.02.0->dask[complete]) (5.1.1)\n",
            "Requirement already satisfied: setuptools in /usr/local/lib/python3.7/dist-packages (from distributed==2022.02.0->dask[complete]) (57.4.0)\n",
            "Requirement already satisfied: psutil>=5.0 in /usr/local/lib/python3.7/dist-packages (from distributed==2022.02.0->dask[complete]) (5.4.8)\n",
            "Requirement already satisfied: typing-extensions>=3.7.4 in /usr/local/lib/python3.7/dist-packages (from bokeh>=2.1.1->dask[complete]) (4.1.1)\n",
            "Requirement already satisfied: python-dateutil>=2.1 in /usr/local/lib/python3.7/dist-packages (from bokeh>=2.1.1->dask[complete]) (2.8.2)\n",
            "Requirement already satisfied: pillow>=7.1.0 in /usr/local/lib/python3.7/dist-packages (from bokeh>=2.1.1->dask[complete]) (7.1.2)\n",
            "Requirement already satisfied: MarkupSafe>=0.23 in /usr/local/lib/python3.7/dist-packages (from jinja2->dask[complete]) (2.0.1)\n",
            "Requirement already satisfied: pyparsing!=3.0.5,>=2.0.2 in /usr/local/lib/python3.7/dist-packages (from packaging>=20.0->dask[complete]) (3.0.9)\n",
            "Requirement already satisfied: pytz>=2017.3 in /usr/local/lib/python3.7/dist-packages (from pandas>=1.0->dask[complete]) (2022.2.1)\n",
            "Requirement already satisfied: locket in /usr/local/lib/python3.7/dist-packages (from partd>=0.3.10->dask[complete]) (1.0.0)\n",
            "Requirement already satisfied: six>=1.5 in /usr/local/lib/python3.7/dist-packages (from python-dateutil>=2.1->bokeh>=2.1.1->dask[complete]) (1.15.0)\n",
            "Requirement already satisfied: heapdict in /usr/local/lib/python3.7/dist-packages (from zict>=0.1.3->distributed==2022.02.0->dask[complete]) (1.0.1)\n"
          ]
        }
      ]
    },
    {
      "cell_type": "markdown",
      "metadata": {
        "id": "z6eJ9FJAFe0a"
      },
      "source": [
        "### 2.1. Exploding our dataframes\n",
        "\n",
        "Let's do a quick review!\n",
        "\n",
        "Let's split out the following fields from people_df:\n",
        "* experience -> experience_df\n",
        "* education -> education_df"
      ]
    },
    {
      "cell_type": "code",
      "metadata": {
        "id": "8ErG6sCe60e-"
      },
      "source": [
        "# TODO 5:  Create three new dataframes -- experience_df, education_df \n",
        "# and linkedin_df (which is people_df without the experience and education cols)\n"
      ],
      "execution_count": null,
      "outputs": []
    },
    {
      "cell_type": "code",
      "metadata": {
        "id": "yvr3M18n63mx"
      },
      "source": [
        "# experience_df"
      ],
      "execution_count": null,
      "outputs": []
    },
    {
      "cell_type": "code",
      "metadata": {
        "id": "Czt4PqHI63do"
      },
      "source": [
        "# education_df"
      ],
      "execution_count": null,
      "outputs": []
    },
    {
      "cell_type": "code",
      "metadata": {
        "id": "5lr-Z_fZ63Pn"
      },
      "source": [
        "# drop experience and education from the original df"
      ],
      "execution_count": null,
      "outputs": []
    },
    {
      "cell_type": "markdown",
      "metadata": {
        "id": "u92WRM0pF5Y6"
      },
      "source": [
        "Next let's do a \"proper\" merge back!"
      ]
    },
    {
      "cell_type": "code",
      "metadata": {
        "id": "QqI41vXvFaGa"
      },
      "source": [
        "# TODO 6: reassemble the data (you don't need to collapse the entries back to lists,\n",
        "#   but note that we have repeated information for each entry)\n",
        "# HINT:  What kind of merge should you use?\n"
      ],
      "execution_count": null,
      "outputs": []
    },
    {
      "cell_type": "code",
      "source": [
        "linkedin_df.merge(education_df, on='_id').merge(experience_df, on='_id')"
      ],
      "metadata": {
        "id": "s34Na0MvTwJo"
      },
      "execution_count": null,
      "outputs": []
    },
    {
      "cell_type": "markdown",
      "metadata": {
        "id": "u1_eIFvKGcpF"
      },
      "source": [
        "### 2.2. Converting to Dask Dataframes\n",
        "\n",
        "Let's convert to dd.dataframe, and try the same computation!"
      ]
    },
    {
      "cell_type": "code",
      "metadata": {
        "id": "jxd-XTIdGkGg"
      },
      "source": [
        "### TODO 7: use dd.from_pandas to convert each of linkedin_df, \n",
        "### experience_df, and education_df.  Set npartitions=2.\n",
        "\n",
        "\n"
      ],
      "execution_count": null,
      "outputs": []
    },
    {
      "cell_type": "code",
      "metadata": {
        "id": "Yjlbavdr7x8-"
      },
      "source": [],
      "execution_count": null,
      "outputs": []
    },
    {
      "cell_type": "code",
      "source": [],
      "metadata": {
        "id": "yMeHojUJUyY-"
      },
      "execution_count": null,
      "outputs": []
    },
    {
      "cell_type": "code",
      "metadata": {
        "id": "ommvvrcA71Fy"
      },
      "source": [
        "## Dask doesn't actually compute results until they are needed....\n"
      ],
      "execution_count": null,
      "outputs": []
    },
    {
      "cell_type": "markdown",
      "metadata": {
        "id": "gmOaL8b6GvM1"
      },
      "source": [
        "Now try the merge!"
      ]
    },
    {
      "cell_type": "code",
      "metadata": {
        "id": "6iuhHdq9GxKe"
      },
      "source": [
        "### TODO 8: merge into combined_ddf\n"
      ],
      "execution_count": null,
      "outputs": []
    },
    {
      "cell_type": "code",
      "metadata": {
        "id": "byvv_MkCIE7c"
      },
      "source": [
        "## Compute and convert back to pandas...\n"
      ],
      "execution_count": null,
      "outputs": []
    },
    {
      "cell_type": "markdown",
      "source": [
        "### Advantage of Dask with Example\n",
        "\n",
        "Size out of memory"
      ],
      "metadata": {
        "id": "b8Fmci2EfwCC"
      }
    },
    {
      "cell_type": "code",
      "source": [
        "import numpy as np\n",
        "import pandas as pd\n",
        "# create a 3-D array can be out of memory"
      ],
      "metadata": {
        "id": "LD4rf_eEVzz8"
      },
      "execution_count": null,
      "outputs": []
    },
    {
      "cell_type": "code",
      "source": [
        "import dask.array as da\n"
      ],
      "metadata": {
        "id": "tCDqclLrWCfe"
      },
      "execution_count": null,
      "outputs": []
    },
    {
      "cell_type": "markdown",
      "source": [
        "Parallel to speed up"
      ],
      "metadata": {
        "id": "P49PQpSRf7-l"
      }
    },
    {
      "cell_type": "code",
      "source": [
        "from time import sleep\n",
        "def inc(x):\n",
        "  sleep(1)\n",
        "  return x + 1\n",
        "\n",
        "def add(x, y):\n",
        "  sleep(1)\n",
        "  return x + y"
      ],
      "metadata": {
        "id": "NAjzYgS6Wdsp"
      },
      "execution_count": null,
      "outputs": []
    },
    {
      "cell_type": "code",
      "source": [
        "%%time\n",
        "x=inc(1)\n",
        "y=inc(2)\n",
        "z=add(x, y)"
      ],
      "metadata": {
        "colab": {
          "base_uri": "https://localhost:8080/"
        },
        "id": "xqrT_Z66WpY4",
        "outputId": "c679a034-e43f-40a7-c7c4-5a7059bce8c3"
      },
      "execution_count": null,
      "outputs": [
        {
          "output_type": "stream",
          "name": "stdout",
          "text": [
            "CPU times: user 17.4 ms, sys: 1.51 ms, total: 18.9 ms\n",
            "Wall time: 3 s\n"
          ]
        }
      ]
    },
    {
      "cell_type": "markdown",
      "source": [
        "**Using Dask to do the same comptation.**"
      ],
      "metadata": {
        "id": "kUxlrGE1hA6I"
      }
    },
    {
      "cell_type": "code",
      "source": [
        "from dask import delayed"
      ],
      "metadata": {
        "id": "sJ9bNmNcW252"
      },
      "execution_count": null,
      "outputs": []
    },
    {
      "cell_type": "code",
      "source": [
        "\n",
        "def inc(x):\n",
        "  sleep(1)\n",
        "  return x + 1\n",
        "\n",
        "def add(x, y):\n",
        "  sleep(1)\n",
        "  return x + y"
      ],
      "metadata": {
        "id": "euOS7NlBW--n"
      },
      "execution_count": null,
      "outputs": []
    },
    {
      "cell_type": "code",
      "source": [
        "# visualize computation graph"
      ],
      "metadata": {
        "id": "ovnLMzFNXfix"
      },
      "execution_count": null,
      "outputs": []
    },
    {
      "cell_type": "markdown",
      "metadata": {
        "id": "ornXu8QZAg1G"
      },
      "source": [
        "## 3. Spark\n",
        "\n",
        "Let's now look at using Apache Spark, connected to a real Amazon EMR-hosted cluster.\n",
        "\n",
        "###This part will be demo only, you will not be able to run it unless you have set up your own cluster and connect to it.###\n",
        "\n",
        "We have to set up \"spark magics\" that enable `%%spark` commands.  Your code needs to run on the Spark cluster, and every cell needs to be preceded with `%%spark`."
      ]
    },
    {
      "cell_type": "code",
      "metadata": {
        "id": "lG5GOUy2Aij0"
      },
      "source": [
        "!apt install libkrb5-dev\n",
        "!pip install sparkmagic"
      ],
      "execution_count": null,
      "outputs": []
    },
    {
      "cell_type": "code",
      "metadata": {
        "id": "jKCAO_zzKcw5"
      },
      "source": [
        "%load_ext sparkmagic.magics"
      ],
      "execution_count": null,
      "outputs": []
    },
    {
      "cell_type": "markdown",
      "metadata": {
        "id": "N9e5NstlMvSx"
      },
      "source": [
        "[link text](https://)### 3.1 Connecting to the cluster\n",
        "\n",
        "Here is where you give a *session name* and the address of your Amazon Spark cluster coordinator."
      ]
    },
    {
      "cell_type": "code",
      "metadata": {
        "id": "CYIe2iy-BHTF",
        "colab": {
          "base_uri": "https://localhost:8080/",
          "height": 96,
          "referenced_widgets": [
            "1e452e6bcb4e46d78e16e465b41d4071",
            "1ca6a9e966da4a31b9a2c93161c83bde",
            "e842525b2d98483087f59e6d65c1db73"
          ]
        },
        "outputId": "c8f93752-83d3-47c7-f526-64950a781b99"
      },
      "source": [
        "%spark add -s my_session_1 -l python -u http://ec2-100-26-161-176.compute-1.amazonaws.com -a cis545-livy -p password -t Basic_Access\n",
        "# The above can connect to an EMR node running Spark + Livy, assuming the firewall is set to let anyone in"
      ],
      "execution_count": null,
      "outputs": [
        {
          "output_type": "stream",
          "name": "stdout",
          "text": [
            "Starting Spark application\n"
          ]
        },
        {
          "output_type": "display_data",
          "data": {
            "text/plain": [
              "<IPython.core.display.HTML object>"
            ],
            "text/html": [
              "<table>\n",
              "<tr><th>ID</th><th>YARN Application ID</th><th>Kind</th><th>State</th><th>Spark UI</th><th>Driver log</th><th>User</th><th>Current session?</th></tr><tr><td>1</td><td>application_1664302273938_0002</td><td>pyspark</td><td>idle</td><td><a target=\"_blank\" href=\"http://ip-172-31-54-12.ec2.internal:20888/proxy/application_1664302273938_0002/\">Link</a></td><td><a target=\"_blank\" href=\"http://ip-172-31-59-167.ec2.internal:8042/node/containerlogs/container_1664302273938_0002_01_000001/livy\">Link</a></td><td>None</td><td>✔</td></tr></table>"
            ]
          },
          "metadata": {}
        },
        {
          "output_type": "display_data",
          "data": {
            "text/plain": [
              "FloatProgress(value=0.0, bar_style='info', description='Progress:', layout=Layout(height='25px', width='50%'),…"
            ],
            "application/vnd.jupyter.widget-view+json": {
              "version_major": 2,
              "version_minor": 0,
              "model_id": "1e452e6bcb4e46d78e16e465b41d4071"
            }
          },
          "metadata": {}
        },
        {
          "output_type": "stream",
          "name": "stdout",
          "text": [
            "SparkSession available as 'spark'.\n"
          ]
        }
      ]
    },
    {
      "cell_type": "markdown",
      "metadata": {
        "id": "TDiY7UvyM3km"
      },
      "source": [
        "Your Python code will be running not in Colab, but on the cluster...  So all imports, files, etc. are separate!\n",
        "\n",
        "This means you need to re-import packages.\n",
        "\n",
        "More frustratingly, pip install doesn't work on the cluster.  You need to preconfigure the cluster with whatever packages you need!"
      ]
    },
    {
      "cell_type": "code",
      "metadata": {
        "id": "2GrjOqHOAjF1",
        "colab": {
          "base_uri": "https://localhost:8080/",
          "height": 17,
          "referenced_widgets": [
            "28dfca5623124a3f918436502373a087",
            "6b8b3b2260c44d27badc34dacac0af05",
            "a4ed9405834e480d90ddc2059503a89e"
          ]
        },
        "outputId": "d6a56b6c-70a7-4fc7-f053-c1afa016f997"
      },
      "source": [
        "%%spark\n",
        "import json\n",
        "import requests\n"
      ],
      "execution_count": null,
      "outputs": [
        {
          "output_type": "display_data",
          "data": {
            "text/plain": [
              "FloatProgress(value=0.0, bar_style='info', description='Progress:', layout=Layout(height='25px', width='50%'),…"
            ],
            "application/vnd.jupyter.widget-view+json": {
              "version_major": 2,
              "version_minor": 0,
              "model_id": "28dfca5623124a3f918436502373a087"
            }
          },
          "metadata": {}
        }
      ]
    },
    {
      "cell_type": "markdown",
      "metadata": {
        "id": "z-dtYI6lNERz"
      },
      "source": [
        "Let's load some data.  Note this can't be from our local machine or from Colab itself!"
      ]
    },
    {
      "cell_type": "code",
      "metadata": {
        "id": "So8ci6gfKQVH",
        "colab": {
          "base_uri": "https://localhost:8080/",
          "height": 35,
          "referenced_widgets": [
            "701f68a93ad14839876e21d7ce99b122",
            "9c8f7fef372d451daa43c550cc62f98c",
            "c4e8e3c3454846fc91db200a6389b11b"
          ]
        },
        "outputId": "4e8a711c-3c93-4620-bffd-65368732e217"
      },
      "source": [
        "%%spark\n",
        "\n",
        "# 10K records from linkedin\n",
        "linked_in = requests.get('https://storage.googleapis.com/penn-cis5450/linkedin_small.json')\n",
        "\n",
        "my_list = [json.loads(line) for line in linked_in.iter_lines()]\n",
        "len(my_list)\n"
      ],
      "execution_count": null,
      "outputs": [
        {
          "output_type": "display_data",
          "data": {
            "text/plain": [
              "FloatProgress(value=0.0, bar_style='info', description='Progress:', layout=Layout(height='25px', width='50%'),…"
            ],
            "application/vnd.jupyter.widget-view+json": {
              "version_major": 2,
              "version_minor": 0,
              "model_id": "701f68a93ad14839876e21d7ce99b122"
            }
          },
          "metadata": {}
        },
        {
          "output_type": "stream",
          "name": "stdout",
          "text": [
            "100000"
          ]
        }
      ]
    },
    {
      "cell_type": "markdown",
      "metadata": {
        "id": "WwZ3ij70N04u"
      },
      "source": [
        "### 3.2. Creating a Spark dataframe"
      ]
    },
    {
      "cell_type": "code",
      "metadata": {
        "id": "6ZrdbIqTKYbw",
        "colab": {
          "base_uri": "https://localhost:8080/",
          "height": 17,
          "referenced_widgets": [
            "605f17a2ab6e4c54adcf65229d316cca",
            "30eb03e5f0bd4b35a9e4ae4685c70048",
            "621b4258ec7c41df99b5ad288c4ceae2"
          ]
        },
        "outputId": "97ef3be7-ef48-40e2-b939-d5b88ecf2535"
      },
      "source": [
        "%%spark\n",
        "\n",
        "# Spark requires that we define a schema for the LinkedIn data...\n",
        "from pyspark.sql.types import StringType, StructField, StructType, ArrayType, MapType\n",
        "schema = StructType([\n",
        "        StructField(\"_id\", StringType(), True),\n",
        "        StructField(\"name\", MapType(StringType(), StringType()), True),\n",
        "        StructField(\"locality\", StringType(), True),\n",
        "        StructField(\"skills\", ArrayType(StringType()), True),\n",
        "        StructField(\"industry\", StringType(), True),\n",
        "        StructField(\"summary\", StringType(), True),\n",
        "        StructField(\"url\", StringType(), True),\n",
        "        StructField(\"also_view\", ArrayType(\\\n",
        "                    StructType([\\\n",
        "                      StructField(\"url\", StringType(), True),\\\n",
        "                      StructField(\"id\", StringType(), True)])\\\n",
        "                    ), True)\\\n",
        "         ])"
      ],
      "execution_count": null,
      "outputs": [
        {
          "output_type": "display_data",
          "data": {
            "text/plain": [
              "FloatProgress(value=0.0, bar_style='info', description='Progress:', layout=Layout(height='25px', width='50%'),…"
            ],
            "application/vnd.jupyter.widget-view+json": {
              "version_major": 2,
              "version_minor": 0,
              "model_id": "605f17a2ab6e4c54adcf65229d316cca"
            }
          },
          "metadata": {}
        }
      ]
    },
    {
      "cell_type": "code",
      "metadata": {
        "id": "KM-_9T2sLQDQ",
        "colab": {
          "base_uri": "https://localhost:8080/",
          "height": 216,
          "referenced_widgets": [
            "dfda2722f6d042c896568066ed3f3836",
            "c3929a21e21346beb6ce3a2f7c73e881",
            "52f77ad585bc413ab782d43347494ab7"
          ]
        },
        "outputId": "c22199ff-957a-4fd2-9ad6-1dd19735f43e"
      },
      "source": [
        "%%spark\n",
        "# Load the remote data as a list of dictionaries\n",
        "linked_df = sqlContext.createDataFrame(my_list, schema).\\\n",
        "  repartition('_id')\n",
        "linked_df.createOrReplaceTempView('linked_in')\n",
        "linked_df.show(5)"
      ],
      "execution_count": null,
      "outputs": [
        {
          "output_type": "display_data",
          "data": {
            "text/plain": [
              "FloatProgress(value=0.0, bar_style='info', description='Progress:', layout=Layout(height='25px', width='50%'),…"
            ],
            "application/vnd.jupyter.widget-view+json": {
              "version_major": 2,
              "version_minor": 0,
              "model_id": "dfda2722f6d042c896568066ed3f3836"
            }
          },
          "metadata": {}
        },
        {
          "output_type": "stream",
          "name": "stdout",
          "text": [
            "+--------------------+--------------------+--------------------+--------------------+--------------------+--------------------+--------------------+--------------------+\n",
            "|                 _id|                name|            locality|              skills|            industry|             summary|                 url|           also_view|\n",
            "+--------------------+--------------------+--------------------+--------------------+--------------------+--------------------+--------------------+--------------------+\n",
            "|  in-aarthigandhiraj|{given_name -> Aa...|Dallas/Fort Worth...|                null|  Telecommunications|As a Telecommunic...|http://www.linked...|[{http://www.link...|\n",
            "|in-aashishjoshi14...|{given_name -> Aa...|    Pune Area, India|[Datastage, Terad...|Information Techn...|Teradata 12 Certi...|http://in.linkedi...|[{http://in.linke...|\n",
            "|    in-abbeysprofile|{given_name -> Ab...|Miami/Fort Lauder...|                null|Information Techn...|                null|http://www.linked...|[{http://www.link...|\n",
            "|       in-adelaconde|{given_name -> Ad...|Madrid y alrededo...|                null|Desarrollo y come...|                null|http://es.linkedi...|[{http://es.linke...|\n",
            "|         in-aewood84|{given_name -> An...|Dallas/Fort Worth...|                null|             Banking|                null|http://www.linked...|[{http://www.link...|\n",
            "+--------------------+--------------------+--------------------+--------------------+--------------------+--------------------+--------------------+--------------------+\n",
            "only showing top 5 rows"
          ]
        }
      ]
    },
    {
      "cell_type": "code",
      "metadata": {
        "id": "hWMUmqw4LnoD",
        "colab": {
          "base_uri": "https://localhost:8080/",
          "height": 216,
          "referenced_widgets": [
            "f7e79474e53c45feba5d08b49f9a3dcc",
            "5e597edd1b5d43ebb7c3191536d7bb83",
            "4aeab5dfd1224aaabeb268d275bfa038"
          ]
        },
        "outputId": "6db8435e-a73c-414e-e849-a62257c611a2"
      },
      "source": [
        "%%spark\n",
        "\n",
        "sqlContext.sql('select * from linked_in').show(5)"
      ],
      "execution_count": null,
      "outputs": [
        {
          "output_type": "display_data",
          "data": {
            "text/plain": [
              "FloatProgress(value=0.0, bar_style='info', description='Progress:', layout=Layout(height='25px', width='50%'),…"
            ],
            "application/vnd.jupyter.widget-view+json": {
              "version_major": 2,
              "version_minor": 0,
              "model_id": "f7e79474e53c45feba5d08b49f9a3dcc"
            }
          },
          "metadata": {}
        },
        {
          "output_type": "stream",
          "name": "stdout",
          "text": [
            "+--------------------+--------------------+--------------------+--------------------+--------------------+--------------------+--------------------+--------------------+\n",
            "|                 _id|                name|            locality|              skills|            industry|             summary|                 url|           also_view|\n",
            "+--------------------+--------------------+--------------------+--------------------+--------------------+--------------------+--------------------+--------------------+\n",
            "|  in-aarthigandhiraj|{given_name -> Aa...|Dallas/Fort Worth...|                null|  Telecommunications|As a Telecommunic...|http://www.linked...|[{http://www.link...|\n",
            "|in-aashishjoshi14...|{given_name -> Aa...|    Pune Area, India|[Datastage, Terad...|Information Techn...|Teradata 12 Certi...|http://in.linkedi...|[{http://in.linke...|\n",
            "|    in-abbeysprofile|{given_name -> Ab...|Miami/Fort Lauder...|                null|Information Techn...|                null|http://www.linked...|[{http://www.link...|\n",
            "|       in-adelaconde|{given_name -> Ad...|Madrid y alrededo...|                null|Desarrollo y come...|                null|http://es.linkedi...|[{http://es.linke...|\n",
            "|         in-aewood84|{given_name -> An...|Dallas/Fort Worth...|                null|             Banking|                null|http://www.linked...|[{http://www.link...|\n",
            "+--------------------+--------------------+--------------------+--------------------+--------------------+--------------------+--------------------+--------------------+\n",
            "only showing top 5 rows"
          ]
        }
      ]
    },
    {
      "cell_type": "markdown",
      "metadata": {
        "id": "gJRlmYF4N4M4"
      },
      "source": [
        "### 3.3. Nested content and explode in Spark"
      ]
    },
    {
      "cell_type": "code",
      "metadata": {
        "id": "02L_yNyCL0Iz"
      },
      "source": [
        "%%spark\n",
        "sqlContext.sql('select _id, name.given_name, name.family_name, explode(skills) from linked_in').show(5)"
      ],
      "execution_count": null,
      "outputs": []
    },
    {
      "cell_type": "markdown",
      "metadata": {
        "id": "hdkmLtvpN7zp"
      },
      "source": [
        "### 3.4 Grouping and counting"
      ]
    },
    {
      "cell_type": "code",
      "metadata": {
        "id": "rBK8S18LMGar"
      },
      "source": [
        "%%spark\n",
        "## Count how many users are in a given locality, and show the first 5\n",
        "sqlContext.sql('select locality, count(*) from linked_in group by locality').show(5)\n"
      ],
      "execution_count": null,
      "outputs": []
    },
    {
      "cell_type": "markdown",
      "metadata": {
        "id": "qR9Pq6AQN-cm"
      },
      "source": [
        "### 3.5 Queries and grouping"
      ]
    },
    {
      "cell_type": "code",
      "metadata": {
        "id": "dUGXxOwKMUQm"
      },
      "source": [
        "%%spark\n",
        "## TODO 5: How many \"Lauras\" are in the data?  Show the first 5.\n",
        "sqlContext.sql('select count(*) from linked_in where name.given_name=\\'Laura\\' ').show(5)"
      ],
      "execution_count": null,
      "outputs": []
    },
    {
      "cell_type": "code",
      "metadata": {
        "id": "TGmxnLOLNiRr"
      },
      "source": [],
      "execution_count": null,
      "outputs": []
    }
  ]
}