{
  "nbformat": 4,
  "nbformat_minor": 0,
  "metadata": {
    "colab": {
      "provenance": []
    },
    "kernelspec": {
      "name": "python3",
      "display_name": "Python 3"
    },
    "language_info": {
      "name": "python"
    }
  },
  "cells": [
    {
      "cell_type": "code",
      "source": [
        "!rm -rf /content/2018_data_final/"
      ],
      "metadata": {
        "id": "wcjtJvN5-MDf"
      },
      "execution_count": null,
      "outputs": []
    },
    {
      "cell_type": "code",
      "source": [
        "try:\n",
        "  import google.colab\n",
        "  IN_COLAB = True\n",
        "except:\n",
        "  IN_COLAB = False"
      ],
      "metadata": {
        "id": "zFcFjjqo-N_f"
      },
      "execution_count": null,
      "outputs": []
    },
    {
      "cell_type": "code",
      "source": [
        "if IN_COLAB:\n",
        "    !apt-get install openjdk-8-jdk-headless -qq > /dev/null\n",
        "    !wget -q https://archive.apache.org/dist/spark/spark-3.3.2/spark-3.3.2-bin-hadoop3.tgz\n",
        "    !tar xf spark-3.3.2-bin-hadoop3.tgz\n",
        "    !mv spark-3.3.2-bin-hadoop3 spark\n",
        "    !pip install -q findspark\n",
        "    import os\n",
        "    os.environ[\"JAVA_HOME\"] = \"/usr/lib/jvm/java-8-openjdk-amd64\"\n",
        "    os.environ[\"SPARK_HOME\"] = \"/content/spark\""
      ],
      "metadata": {
        "id": "faCEidnS-OHU"
      },
      "execution_count": null,
      "outputs": []
    },
    {
      "cell_type": "code",
      "source": [
        "import findspark\n",
        "findspark.init()\n",
        "spark_url = 'local'\n",
        "\n",
        "import os\n",
        "import json\n",
        "from pyspark.sql import SparkSession\n",
        "from pyspark.sql import Row\n",
        "\n",
        "\n",
        "spark = SparkSession.builder\\\n",
        "        .master(spark_url)\\\n",
        "        .appName('Spark SQL')\\\n",
        "        .getOrCreate()"
      ],
      "metadata": {
        "id": "g8kRtnw8-OLt"
      },
      "execution_count": null,
      "outputs": []
    },
    {
      "cell_type": "code",
      "source": [
        "import zipfile\n",
        "import os\n",
        "\n",
        "# ZIP\n",
        "input_path = \"/content/2023.zip\"\n",
        "output_folder = \"/content/2023_extracted\"\n",
        "\n",
        "os.makedirs(output_folder, exist_ok=True)\n",
        "\n",
        "with zipfile.ZipFile(input_path, 'r') as zip_ref:\n",
        "    zip_ref.extractall(output_folder)\n",
        "\n",
        "print(f\"Files extracted to: {output_folder}\")"
      ],
      "metadata": {
        "colab": {
          "base_uri": "https://localhost:8080/"
        },
        "id": "utibP7Pz-hdP",
        "outputId": "288fc5fa-f86f-44a9-bb8f-81c3995f7c03"
      },
      "execution_count": null,
      "outputs": [
        {
          "output_type": "stream",
          "name": "stdout",
          "text": [
            "Files extracted to: /content/2023_extracted\n"
          ]
        }
      ]
    },
    {
      "cell_type": "code",
      "execution_count": null,
      "metadata": {
        "colab": {
          "base_uri": "https://localhost:8080/"
        },
        "id": "6LAMzXTU-FZf",
        "outputId": "e50c1e68-8994-4a6a-d9f2-dbbd40e44a34"
      },
      "outputs": [
        {
          "output_type": "stream",
          "name": "stdout",
          "text": [
            "Total files: 2890\n",
            "Data successfully written to /content/2023_coredata\n"
          ]
        }
      ],
      "source": [
        "# Paths\n",
        "folder_path = r\"/content/2023_extracted\"\n",
        "output_csv = r\"/content/2023_coredata\"\n",
        "\n",
        "def process_file(file_path):\n",
        "    with open(file_path, 'r', encoding='utf-8') as json_file:\n",
        "        try:\n",
        "            data = json.load(json_file)\n",
        "\n",
        "            if not isinstance(data, dict):\n",
        "                print(f\"Unexpected structure in file: {file_path}\")\n",
        "                return [Row(filename=os.path.basename(file_path), status=\"Invalid JSON structure\")]\n",
        "\n",
        "            coredata = data.get('abstracts-retrieval-response', {}).get('coredata', {})\n",
        "            affiliations = data.get('abstracts-retrieval-response', {}).get('affiliation', [])\n",
        "            subject_areas = data.get('abstracts-retrieval-response', {}).get('subject-areas', {}).get('subject-area', [])\n",
        "\n",
        "            if isinstance(affiliations, dict):\n",
        "                affiliations = [affiliations]\n",
        "            elif not isinstance(affiliations, list):\n",
        "                affiliations = []\n",
        "\n",
        "            if not isinstance(subject_areas, list):\n",
        "                subject_areas = []\n",
        "\n",
        "            rows = []\n",
        "            for affiliation in affiliations:\n",
        "                if not isinstance(affiliation, dict):\n",
        "                    continue\n",
        "                for subject in subject_areas:\n",
        "                    if not isinstance(subject, dict):\n",
        "                        continue\n",
        "                    row = Row(\n",
        "                        filename=os.path.basename(file_path),\n",
        "                        status=\"Processed\",\n",
        "                        srctype=coredata.get('srctype', None),\n",
        "                        eid=coredata.get('eid', None),\n",
        "                        prism_coverDate=coredata.get('prism:coverDate', None),\n",
        "                        prism_aggregationType=coredata.get('prism:aggregationType', None),\n",
        "                        subtypeDescription=coredata.get('subtypeDescription', None),\n",
        "                        affiliation_city=affiliation.get('affiliation-city', None),\n",
        "                        affiliation_id=affiliation.get('@id', None),\n",
        "                        affiliation_name=affiliation.get('affilname', None),\n",
        "                        affiliation_country=affiliation.get('affiliation-country', None),\n",
        "                        subject_area_name=subject.get('$', None),\n",
        "                        subject_area_code=subject.get('@code', None),\n",
        "                        subject_area_abbrev=subject.get('@abbrev', None),\n",
        "                        publicationName=coredata.get('prism:publicationName', None),\n",
        "                        source_id=coredata.get('source-id', None),\n",
        "                        citedby_count=coredata.get('citedby-count', None),\n",
        "                        subtype=coredata.get('subtype', None),\n",
        "                        dc_title=coredata.get('dc:title', None),\n",
        "                        prism_doi=coredata.get('prism:doi', None),\n",
        "                        dc_identifier=coredata.get('dc:identifier', None),\n",
        "                        dc_publisher=coredata.get('dc:publisher', None)\n",
        "                    )\n",
        "                    rows.append(row)\n",
        "\n",
        "            if not rows:\n",
        "                rows.append(Row(\n",
        "                    filename=os.path.basename(file_path),\n",
        "                    status=\"No valid data\",\n",
        "                    srctype=None, eid=None, prism_coverDate=None,\n",
        "                    prism_aggregationType=None, subtypeDescription=None,\n",
        "                    affiliation_city=None, affiliation_id=None, affiliation_name=None,\n",
        "                    affiliation_country=None,\n",
        "                    subject_area_name=None, subject_area_code=None, subject_area_abbrev=None,\n",
        "                    publicationName=None, source_id=None, citedby_count=None,\n",
        "                    subtype=None, dc_title=None, prism_doi=None,\n",
        "                    dc_identifier=None, dc_publisher=None\n",
        "                ))\n",
        "\n",
        "            return rows\n",
        "\n",
        "        except json.JSONDecodeError as e:\n",
        "            print(f\"Error decoding JSON in file {file_path}: {e}\")\n",
        "            return [Row(\n",
        "                filename=os.path.basename(file_path),\n",
        "                status=\"JSON Decode Error\",\n",
        "                srctype=None, eid=None, prism_coverDate=None,\n",
        "                prism_aggregationType=None, subtypeDescription=None,\n",
        "                affiliation_city=None, affiliation_id=None, affiliation_name=None,\n",
        "                affiliation_country=None,\n",
        "                subject_area_name=None, subject_area_code=None, subject_area_abbrev=None,\n",
        "                publicationName=None, source_id=None, citedby_count=None,\n",
        "                subtype=None, dc_title=None, prism_doi=None,\n",
        "                dc_identifier=None, dc_publisher=None\n",
        "            )]\n",
        "        except Exception as e:\n",
        "            print(f\"Unexpected error in file {file_path}: {e}\")\n",
        "            return [Row(\n",
        "                filename=os.path.basename(file_path),\n",
        "                status=\"Unexpected Error\",\n",
        "                srctype=None, eid=None, prism_coverDate=None,\n",
        "                prism_aggregationType=None, subtypeDescription=None,\n",
        "                affiliation_city=None, affiliation_id=None, affiliation_name=None,\n",
        "                affiliation_country=None,\n",
        "                subject_area_name=None, subject_area_code=None, subject_area_abbrev=None,\n",
        "                publicationName=None, source_id=None, citedby_count=None,\n",
        "                subtype=None, dc_title=None, prism_doi=None,\n",
        "                dc_identifier=None, dc_publisher=None\n",
        "            )]\n",
        "\n",
        "files = [os.path.join(folder_path, f) for f in os.listdir(folder_path) if os.path.isfile(os.path.join(folder_path, f))]\n",
        "print(f\"Total files: {len(files)}\")\n",
        "\n",
        "rdd = spark.sparkContext.parallelize(files).flatMap(process_file)\n",
        "\n",
        "columns = [\n",
        "    \"filename\", \"status\", \"srctype\", \"eid\", \"prism_coverDate\", \"prism_aggregationType\", \"subtypeDescription\",\n",
        "    \"affiliation_city\", \"affiliation_id\", \"affiliation_name\", \"affiliation_country\",\n",
        "    \"subject_area_name\", \"subject_area_code\", \"subject_area_abbrev\",\n",
        "    \"publicationName\", \"source_id\", \"citedby_count\", \"subtype\", \"dc_title\", \"prism_doi\", \"dc_identifier\", \"dc_publisher\"\n",
        "]\n",
        "\n",
        "df = spark.createDataFrame(rdd)\n",
        "\n",
        "df = df.orderBy(\"filename\")\n",
        "\n",
        "df.write.csv(output_csv, header=True, mode=\"overwrite\")\n",
        "\n",
        "print(f\"Data successfully written to {output_csv}\")\n"
      ]
    },
    {
      "cell_type": "code",
      "source": [
        "from pyspark.sql import SparkSession\n",
        "from pyspark.sql.functions import col\n",
        "\n",
        "spark = SparkSession.builder.appName(\"FilterDC_Title\").getOrCreate()\n",
        "\n",
        "file_path = \"/content/2018_coredata/2018_coredata.csv\"\n",
        "df = spark.read.csv(file_path, header=True, inferSchema=True)\n",
        "\n",
        "columns_to_drop = [\"affiliation_city\", \"affiliation_id\", \"affiliation_name\"]\n",
        "df = df.drop(*columns_to_drop)\n",
        "\n",
        "result_df = df.dropDuplicates([\"dc_title\", \"affiliation_country\"])\n",
        "\n",
        "result_df = result_df.orderBy(\"filename\")\n",
        "\n",
        "result_df = result_df.select(\"filename\", \"dc_title\", \"affiliation_country\", \"srctype\", \"eid\", \"prism_coverDate\", \"prism_aggregationType\", \"subtypeDescription\",\n",
        "    \"subject_area_name\", \"subject_area_code\", \"subject_area_abbrev\",\n",
        "    \"publicationName\", \"source_id\", \"citedby_count\", \"subtype\", \"prism_doi\", \"dc_identifier\", \"dc_publisher\")\n",
        "\n",
        "output_path = \"/content/2018_data_clean\"\n",
        "result_df.write.csv(output_path, header=True)\n"
      ],
      "metadata": {
        "id": "-Tol_FXIAmvu"
      },
      "execution_count": null,
      "outputs": []
    },
    {
      "cell_type": "code",
      "source": [
        "from pyspark.sql import SparkSession\n",
        "from pyspark.sql.functions import col\n",
        "import os\n",
        "\n",
        "file_path = \"/content/2023_data_clean/2023_data_clean.csv\"\n",
        "df = spark.read.csv(file_path, header=True, inferSchema=True)\n",
        "\n",
        "df_cleaned = df.dropna()\n",
        "df_cleaned.show()\n",
        "\n",
        "output_path = \"/content/2023_data_final\"\n",
        "df_cleaned.write.csv(output_path, header=True)\n"
      ],
      "metadata": {
        "colab": {
          "base_uri": "https://localhost:8080/"
        },
        "id": "aWA8AN3lNpFd",
        "outputId": "8703d66c-6d4b-473d-e4cd-285697fc9f5b"
      },
      "execution_count": null,
      "outputs": [
        {
          "output_type": "stream",
          "name": "stdout",
          "text": [
            "+---------+--------------------+-------------------+-------+------------------+-------------------+---------------------+------------------+--------------------+-----------------+-------------------+--------------------+-----------+-------------+-------+--------------------+--------------------+--------------------+\n",
            "| filename|            dc_title|affiliation_country|srctype|               eid|    prism_coverDate|prism_aggregationType|subtypeDescription|   subject_area_name|subject_area_code|subject_area_abbrev|     publicationName|  source_id|citedby_count|subtype|           prism_doi|       dc_identifier|        dc_publisher|\n",
            "+---------+--------------------+-------------------+-------+------------------+-------------------+---------------------+------------------+--------------------+-----------------+-------------------+--------------------+-----------+-------------+-------+--------------------+--------------------+--------------------+\n",
            "|202300000|Graphene oxide-al...|           Thailand|      j|2-s2.0-85170238281|2023-12-31 00:00:00|              Journal|           Article|  Structural Biology|             1315|               BIOC|International Jou...|      17544|            0|     ar|10.1016/j.ijbioma...|SCOPUS_ID:8517023...|       Elsevier B.V.|\n",
            "|202300001|Rare coordination...|              India|      j|2-s2.0-85169978316|2023-12-15 00:00:00|              Journal|           Article|Analytical Chemistry|             1602|               CHEM|Journal of Molecu...|      24642|            0|     ar|10.1016/j.molstru...|SCOPUS_ID:8516997...|       Elsevier B.V.|\n",
            "|202300001|Rare coordination...|           Thailand|      j|2-s2.0-85169978316|2023-12-15 00:00:00|              Journal|           Article|Analytical Chemistry|             1602|               CHEM|Journal of Molecu...|      24642|            0|     ar|10.1016/j.molstru...|SCOPUS_ID:8516997...|       Elsevier B.V.|\n",
            "|202300002|Total ammonia nit...|           Thailand|      j|2-s2.0-85165929707|2023-12-15 00:00:00|              Journal|           Article|     Aquatic Science|             1104|               AGRI|         Aquaculture|      29419|            0|     ar|10.1016/j.aquacul...|SCOPUS_ID:8516592...|       Elsevier B.V.|\n",
            "|202300003|Effects of microa...|           Thailand|      j|2-s2.0-85167831666|2023-12-10 00:00:00|              Journal|           Article|Environmental Eng...|             2305|               ENVI|Science of the To...|      25349|            0|     ar|10.1016/j.scitote...|SCOPUS_ID:8516783...|       Elsevier B.V.|\n",
            "|202300004|Bioaccumulation o...|              India|      j|2-s2.0-85165076456|2023-12-10 00:00:00|              Journal|           Article|Ecology, Evolutio...|             1105|               AGRI|Regional Studies ...|21100390177|            0|     ar|10.1016/j.rsma.20...|SCOPUS_ID:8516507...|       Elsevier B.V.|\n",
            "|202300004|Bioaccumulation o...|             Israel|      j|2-s2.0-85165076456|2023-12-10 00:00:00|              Journal|           Article|Ecology, Evolutio...|             1105|               AGRI|Regional Studies ...|21100390177|            0|     ar|10.1016/j.rsma.20...|SCOPUS_ID:8516507...|       Elsevier B.V.|\n",
            "|202300004|Bioaccumulation o...|       Saudi Arabia|      j|2-s2.0-85165076456|2023-12-10 00:00:00|              Journal|           Article|Ecology, Evolutio...|             1105|               AGRI|Regional Studies ...|21100390177|            0|     ar|10.1016/j.rsma.20...|SCOPUS_ID:8516507...|       Elsevier B.V.|\n",
            "|202300004|Bioaccumulation o...|           Thailand|      j|2-s2.0-85165076456|2023-12-10 00:00:00|              Journal|           Article|Ecology, Evolutio...|             1105|               AGRI|Regional Studies ...|21100390177|            0|     ar|10.1016/j.rsma.20...|SCOPUS_ID:8516507...|       Elsevier B.V.|\n",
            "|202300004|Bioaccumulation o...|      United States|      j|2-s2.0-85165076456|2023-12-10 00:00:00|              Journal|           Article|Ecology, Evolutio...|             1105|               AGRI|Regional Studies ...|21100390177|            0|     ar|10.1016/j.rsma.20...|SCOPUS_ID:8516507...|       Elsevier B.V.|\n",
            "|202300005|A comprehensive r...|              India|      j|2-s2.0-85163980976|2023-12-05 00:00:00|              Journal|            Review|        Pharmacology|             3004|               PHAR|Journal of Ethnop...|      23015|            0|     re|10.1016/j.jep.202...|SCOPUS_ID:8516398...|Elsevier Ireland Ltd|\n",
            "|202300005|A comprehensive r...|           Thailand|      j|2-s2.0-85163980976|2023-12-05 00:00:00|              Journal|            Review|        Pharmacology|             3004|               PHAR|Journal of Ethnop...|      23015|            0|     re|10.1016/j.jep.202...|SCOPUS_ID:8516398...|Elsevier Ireland Ltd|\n",
            "|202300006|Potential natural...|           Thailand|      j|2-s2.0-85163518601|2023-12-05 00:00:00|              Journal|           Article|        Pharmacology|             3004|               PHAR|Journal of Ethnop...|      23015|            0|     ar|10.1016/j.jep.202...|SCOPUS_ID:8516351...|Elsevier Ireland Ltd|\n",
            "|202300007|Rice straw-derive...|           Thailand|      j|2-s2.0-85170343668|2023-12-01 00:00:00|              Journal|           Article|   Multidisciplinary|             1000|               MULT|  Scientific Reports|21100200805|            0|     ar|10.1038/s41598-02...|SCOPUS_ID:8517034...|     Nature Research|\n",
            "|202300008|Improving pharmac...|              Spain|      j|2-s2.0-85170099383|2023-12-01 00:00:00|              Journal|           Article|Environmental Che...|             2304|               ENVI|Sustainable Chemi...|21100444313|            0|     ar|10.1016/j.scp.202...|SCOPUS_ID:8517009...|       Elsevier B.V.|\n",
            "|202300008|Improving pharmac...|           Thailand|      j|2-s2.0-85170099383|2023-12-01 00:00:00|              Journal|           Article|Environmental Che...|             2304|               ENVI|Sustainable Chemi...|21100444313|            0|     ar|10.1016/j.scp.202...|SCOPUS_ID:8517009...|       Elsevier B.V.|\n",
            "|202300009|Targeted sequenci...|          Australia|      j|2-s2.0-85170059053|2023-12-01 00:00:00|              Journal|           Article|Ecology, Evolutio...|             1105|               AGRI|          IMA Fungus|21100406884|            0|     ar|10.1186/s43008-02...|SCOPUS_ID:8517005...|  BioMed Central Ltd|\n",
            "|202300009|Targeted sequenci...|        Netherlands|      j|2-s2.0-85170059053|2023-12-01 00:00:00|              Journal|           Article|Ecology, Evolutio...|             1105|               AGRI|          IMA Fungus|21100406884|            0|     ar|10.1186/s43008-02...|SCOPUS_ID:8517005...|  BioMed Central Ltd|\n",
            "|202300009|Targeted sequenci...|           Thailand|      j|2-s2.0-85170059053|2023-12-01 00:00:00|              Journal|           Article|Ecology, Evolutio...|             1105|               AGRI|          IMA Fungus|21100406884|            0|     ar|10.1186/s43008-02...|SCOPUS_ID:8517005...|  BioMed Central Ltd|\n",
            "|202300009|Targeted sequenci...|      United States|      j|2-s2.0-85170059053|2023-12-01 00:00:00|              Journal|           Article|Ecology, Evolutio...|             1105|               AGRI|          IMA Fungus|21100406884|            0|     ar|10.1186/s43008-02...|SCOPUS_ID:8517005...|  BioMed Central Ltd|\n",
            "+---------+--------------------+-------------------+-------+------------------+-------------------+---------------------+------------------+--------------------+-----------------+-------------------+--------------------+-----------+-------------+-------+--------------------+--------------------+--------------------+\n",
            "only showing top 20 rows\n",
            "\n"
          ]
        }
      ]
    }
  ]
}