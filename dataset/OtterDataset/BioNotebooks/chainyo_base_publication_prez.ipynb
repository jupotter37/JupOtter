{
 "metadata": {
  "language_info": {
   "codemirror_mode": {
    "name": "ipython",
    "version": 3
   },
   "file_extension": ".py",
   "mimetype": "text/x-python",
   "name": "python",
   "nbconvert_exporter": "python",
   "pygments_lexer": "ipython3",
   "version": "3.8.5-final"
  },
  "orig_nbformat": 2,
  "kernelspec": {
   "name": "python3",
   "display_name": "Python 3",
   "language": "python"
  }
 },
 "nbformat": 4,
 "nbformat_minor": 2,
 "cells": [
  {
   "source": [
    "# <center>Présentation du code</center>\n",
    "\n",
    "<div style=\"text-align:center\"><img src=\"./mongodb_logo.png\" /></div>\n",
    "\n",
    "## <center>Paul & Thomas</center>\n"
   ],
   "cell_type": "markdown",
   "metadata": {}
  },
  {
   "cell_type": "code",
   "execution_count": 1,
   "metadata": {},
   "outputs": [],
   "source": [
    "from bdd import MongoDB_Log"
   ]
  },
  {
   "source": [
    "## Compter le nombre de documents de la collection publis"
   ],
   "cell_type": "markdown",
   "metadata": {}
  },
  {
   "cell_type": "code",
   "execution_count": 2,
   "metadata": {},
   "outputs": [
    {
     "output_type": "stream",
     "name": "stdout",
     "text": [
      "Il y a 23000 documents dans notre base de données.\n"
     ]
    }
   ],
   "source": [
    "MongoDB_Log().count_docs()"
   ]
  },
  {
   "source": [
    "## Lister tous les livres (type “Book”)"
   ],
   "cell_type": "markdown",
   "metadata": {}
  },
  {
   "cell_type": "code",
   "execution_count": 3,
   "metadata": {
    "tags": [
     "outputPrepend"
    ]
   },
   "outputs": [
    {
     "output_type": "stream",
     "name": "stdout",
     "text": [
      "series': 'Computational Biology',\n",
      "  'title': 'Comparative Gene Finding - Models, Algorithms and Implementation',\n",
      "  'type': 'Book',\n",
      "  'volume': '11',\n",
      "  'year': 2010},\n",
      " {'_id': 'series/cb/ChaoZ09',\n",
      "  'authors': ['Kun-Mao Chao', 'Louxin Zhang'],\n",
      "  'isbn': ['978-1-84800-319-4'],\n",
      "  'pages': 'i',\n",
      "  'publisher': 'Springer',\n",
      "  'series': 'Computational Biology',\n",
      "  'title': 'Sequence Comparison - Theory and Methods',\n",
      "  'type': 'Book',\n",
      "  'volume': '7',\n",
      "  'year': 2009},\n",
      " {'_id': 'series/cb/UsseryWB09',\n",
      "  'authors': ['David Ussery', 'Trudy M. Wassenaar', 'Stefano Borini'],\n",
      "  'isbn': ['978-1-84800-254-8'],\n",
      "  'pages': 'I',\n",
      "  'publisher': 'Springer',\n",
      "  'series': 'Computational Biology',\n",
      "  'title': 'Computing for Comparative Microbial Genomics - Bioinformatics for '\n",
      "           'Microbiologists',\n",
      "  'type': 'Book',\n",
      "  'volume': '8',\n",
      "  'year': 2009},\n",
      " {'_id': 'series/cb/Saitou13',\n",
      "  'authors': ['Naruya Saitou'],\n",
      "  'isbn': ['978-1-4471-5303-0'],\n",
      "  'pages': {'end': 442, 'start': 3},\n",
      "  'publisher': 'Springer',\n",
      "  'series': 'Computational Biology',\n",
      "  'title': 'Introduction to Evolutionary Genomics',\n",
      "  'type': 'Book',\n",
      "  'url': 'http://dx.doi.org/10.1007/978-1-4471-5304-7',\n",
      "  'volume': '17',\n",
      "  'year': 2013}]\n"
     ]
    }
   ],
   "source": [
    "MongoDB_Log().list_type()"
   ]
  },
  {
   "source": [
    "## Lister les livres depuis une certaine date (exemple : 2014)"
   ],
   "cell_type": "markdown",
   "metadata": {}
  },
  {
   "cell_type": "code",
   "execution_count": 4,
   "metadata": {
    "tags": [
     "outputPrepend"
    ]
   },
   "outputs": [
    {
     "output_type": "stream",
     "name": "stdout",
     "text": [
      "'title': 'Distances and Similarities in Intuitionistic Fuzzy Sets'},\n {'authors': ['Deng-Feng Li'],\n  'title': 'Decision and Game Theory in Management With Intuitionistic Fuzzy '\n           'Sets'},\n {'authors': ['Zeshui Xu'], 'title': 'Hesitant Fuzzy Sets Theory'},\n {'authors': ['Peter C. Casey',\n              'Michael B. Gibilisco',\n              'Carly A. Goodman',\n              'Kelly Nelson Pook',\n              'John N. Mordeson',\n              'Mark J. Wierman',\n              'Terry D. Clark'],\n  'title': 'Fuzzy Social Choice Models - Explaining the Government Formation '\n           'Process'},\n {'authors': ['Michael B. Gibilisco',\n              'Annie M. Gowen',\n              'Karen E. Albert',\n              'John N. Mordeson',\n              'Mark J. Wierman',\n              'Terry D. Clark'],\n  'title': 'Fuzzy Social Choice Theory'},\n {'authors': ['Zongmin Ma', 'Fu Zhang', 'Li Yan', 'Jingwei Cheng'],\n  'title': 'Fuzzy Knowledge Management for the Semantic Web'},\n {'authors': ['Li Yan', 'Zongmin Ma', 'Fu Zhang'],\n  'title': 'Fuzzy XML Data Management'},\n {'authors': ['Zeshui Xu'],\n  'title': 'Intuitionistic Preference Modeling and Interactive Decision '\n           'Making'}]\n"
     ]
    }
   ],
   "source": [
    "MongoDB_Log().list_book_date(2014)"
   ]
  },
  {
   "source": [
    "## Lister les publications d'un auteur (exemple : “Toru Ishida”)"
   ],
   "cell_type": "markdown",
   "metadata": {}
  },
  {
   "cell_type": "code",
   "execution_count": 5,
   "metadata": {
    "tags": [
     "outputPrepend"
    ]
   },
   "outputs": [
    {
     "output_type": "stream",
     "name": "stdout",
     "text": [
      "',\n              'Eri Tsunokawa',\n              'Yoko Kubota',\n              'Virach Sornlertlamvanich'],\n  'title': 'Federated Operation Model for Service Grids.'},\n {'authors': ['Rie Tanaka', 'Yohei Murakami', 'Toru Ishida'],\n  'title': 'Cascading Translation Services.'},\n {'authors': ['Yohei Murakami',\n              'Donghui Lin',\n              'Masahiro Tanaka',\n              'Takao Nakaguchi',\n              'Toru Ishida'],\n  'title': 'Service Grid Architecture.'},\n {'authors': ['Toru Ishida', 'Yohei Murakami', 'Donghui Lin'],\n  'title': 'The Language Grid: Service-Oriented Approach to Sharing Language '\n           'Resources.'},\n {'authors': ['Naomi Yamashita', 'Toru Ishida'],\n  'title': 'Conversational Grounding in Machine Translation Mediated '\n           'Communication.'},\n {'authors': ['Ari Hautasaari',\n              'Toshiyuki Takasaki',\n              'Takao Nakaguchi',\n              'Jun Koyama',\n              'Yohei Murakami',\n              'Toru Ishida'],\n  'title': 'Multi-Language Discussion Platform for Wikipedia Translation.'},\n {'authors': ['Ahlem Ben Hassine', 'Shigeo Matsubara', 'Toru Ishida'],\n  'title': 'Horizontal Service Composition for Language Services.'}]\n"
     ]
    }
   ],
   "source": [
    "MongoDB_Log().list_publi_auth(\"Toru Ishida\")"
   ]
  },
  {
   "source": [
    "## Lister tous les auteurs distincts"
   ],
   "cell_type": "markdown",
   "metadata": {}
  },
  {
   "cell_type": "code",
   "execution_count": 6,
   "metadata": {
    "tags": [
     "outputPrepend"
    ]
   },
   "outputs": [
    {
     "output_type": "stream",
     "name": "stdout",
     "text": [
      "Ziying Dai',\n",
      " 'Ziyou Gao',\n",
      " 'Ziyou Wang',\n",
      " 'Zizhen Wang',\n",
      " 'Zlatko Petrov',\n",
      " 'Zne-Jung Lee',\n",
      " 'Zoe Antoniou',\n",
      " 'Zoe C. H. Yu',\n",
      " 'Zoe Yan Zhuang',\n",
      " 'Zofia Wilimowska',\n",
      " 'Zohar Manna',\n",
      " 'Zohra Slimane',\n",
      " 'Zolt?n ?sik',\n",
      " 'Zolt?n Beny?',\n",
      " 'Zolt?n D?vid',\n",
      " 'Zolt?n F?',\n",
      " 'Zolt?n Fiala',\n",
      " 'Zolt?n Hidv?gi',\n",
      " 'Zolt?n Juvancz',\n",
      " 'Zolt?n Kar?di',\n",
      " 'Zolt?n Petres',\n",
      " 'Zolt?n Ujhelyi',\n",
      " 'Zoltan Toth',\n",
      " 'Zong Woo Geem',\n",
      " 'Zonghai Chen',\n",
      " 'Zonghang Yang',\n",
      " 'Zongmin Ma',\n",
      " 'Zongyang Luo',\n",
      " 'Zongyuan Yang',\n",
      " 'Zora Konjovic',\n",
      " 'Zoraida Callejas',\n",
      " 'Zoran Budimac',\n",
      " 'Zoran Constantinescu',\n",
      " 'Zoran Dimitrijevic',\n",
      " 'Zoran Jeremic',\n",
      " 'Zoran Majkic',\n",
      " 'Zoran Milosevic',\n",
      " 'Zoran Obradovic',\n",
      " 'Zornitsa Kozareva',\n",
      " 'Zoubida Kedad',\n",
      " 'Zoya Durdik',\n",
      " 'Zs?fia Derzsi',\n",
      " 'Zs?fia Kr?ussl',\n",
      " 'Zsolt ?ry',\n",
      " 'Zsolt J. Horv?th',\n",
      " 'Zsolt Kov?cs',\n",
      " 'Zsolt Mih?ly Szab?',\n",
      " 'Zsolt Palotai',\n",
      " 'Zubeida Casmod Dawood',\n",
      " 'Zude Li',\n",
      " 'Zufan Abera Damtew',\n",
      " 'Zuhua Jiang',\n",
      " 'Zulfa Zakaria',\n",
      " 'Zulfiqar A. Memon',\n",
      " 'Zulkhairi Md. Dahalin',\n",
      " 'Zuohong Pan',\n",
      " 'Zuohua Ding',\n",
      " 'Zuraini Zainol',\n",
      " 'Zurina Saaya',\n",
      " 'Zuwairie Ibrahim',\n",
      " 'Zuzana Oplatkov?',\n",
      " 'Zvi Boger',\n",
      " 'Zygmunt A. Garczarczyk',\n",
      " 'Zygmunt Kus',\n",
      " 'Zygmunt Wr?bel',\n",
      " 'eva K?']\n"
     ]
    }
   ],
   "source": [
    "MongoDB_Log().list_all_auth()"
   ]
  },
  {
   "source": [
    "## Trier les publications de “Toru Ishida” par titre de livre"
   ],
   "cell_type": "markdown",
   "metadata": {}
  },
  {
   "cell_type": "code",
   "execution_count": 7,
   "metadata": {
    "tags": [
     "outputPrepend"
    ]
   },
   "outputs": [
    {
     "output_type": "stream",
     "name": "stdout",
     "text": [
      "',\n  'url': 'db/series/cogtech/364221177.html#BramantoroSI11',\n  'year': 2011},\n {'_id': 'series/cogtech/MurakamiLTNI11',\n  'authors': ['Yohei Murakami',\n              'Donghui Lin',\n              'Masahiro Tanaka',\n              'Takao Nakaguchi',\n              'Toru Ishida'],\n  'booktitle': 'The Language Grid',\n  'pages': {'end': 34, 'start': 19},\n  'title': 'Service Grid Architecture.',\n  'type': 'Article',\n  'url': 'db/series/cogtech/364221177.html#MurakamiLTNI11',\n  'year': 2011},\n {'_id': 'series/cogtech/TanakaIM11',\n  'authors': ['Masahiro Tanaka', 'Toru Ishida', 'Yohei Murakami'],\n  'booktitle': 'The Language Grid',\n  'pages': {'end': 83, 'start': 69},\n  'title': 'Service Supervision for Runtime Service Management.',\n  'type': 'Article',\n  'url': 'db/series/cogtech/364221177.html#TanakaIM11',\n  'year': 2011},\n {'_id': 'series/cogtech/IshidaML11',\n  'authors': ['Toru Ishida', 'Yohei Murakami', 'Donghui Lin'],\n  'booktitle': 'The Language Grid',\n  'pages': {'end': 17, 'start': 3},\n  'title': 'The Language Grid: Service-Oriented Approach to Sharing Language '\n           'Resources.',\n  'type': 'Article',\n  'url': 'db/series/cogtech/364221177.html#IshidaML11',\n  'year': 2011}]\n"
     ]
    }
   ],
   "source": [
    "MongoDB_Log().list_publi_auth_sort(\"Toru Ishida\")"
   ]
  },
  {
   "source": [
    "## Compter le nombre de ses publications"
   ],
   "cell_type": "markdown",
   "metadata": {}
  },
  {
   "cell_type": "code",
   "execution_count": 8,
   "metadata": {},
   "outputs": [
    {
     "output_type": "stream",
     "name": "stdout",
     "text": [
      "Il y a 12 publications de Toru Ishida.\n"
     ]
    }
   ],
   "source": [
    "MongoDB_Log().count_publi_auth(\"Toru Ishida\")"
   ]
  },
  {
   "source": [
    "## Compter le nombre de publications depuis 2011 et par type"
   ],
   "cell_type": "markdown",
   "metadata": {}
  },
  {
   "cell_type": "code",
   "execution_count": 9,
   "metadata": {},
   "outputs": [
    {
     "output_type": "stream",
     "name": "stdout",
     "text": [
      "[{'_id': 'Article', 'count': 6706}, {'_id': 'Book', 'count': 890}]\n"
     ]
    }
   ],
   "source": [
    "MongoDB_Log().count_publi_date_type(2011)"
   ]
  },
  {
   "source": [
    "## Compter le nombre de publications par auteur et trier le résultat par ordre croissant"
   ],
   "cell_type": "markdown",
   "metadata": {}
  },
  {
   "cell_type": "code",
   "execution_count": 10,
   "metadata": {
    "tags": [
     "outputPrepend"
    ]
   },
   "outputs": [
    {
     "output_type": "stream",
     "name": "stdout",
     "text": [
      "unt': 18},\n",
      " {'_id': 'Starr Roxanne Hiltz', 'count': 18},\n",
      " {'_id': 'Alessandro Garcia', 'count': 18},\n",
      " {'_id': 'Ken-ichi Matsumoto', 'count': 18},\n",
      " {'_id': 'Robin Cohen', 'count': 18},\n",
      " {'_id': 'Cengiz Kahraman', 'count': 19},\n",
      " {'_id': 'Ivan Zelinka', 'count': 20},\n",
      " {'_id': 'Andrea De Lucia', 'count': 20},\n",
      " {'_id': 'Simon Parsons', 'count': 20},\n",
      " {'_id': 'Roberto Sep?lveda', 'count': 21},\n",
      " {'_id': 'Motoshi Saeki', 'count': 22},\n",
      " {'_id': 'Giuliano Antoniol', 'count': 22},\n",
      " {'_id': 'John Zeleznikow', 'count': 22},\n",
      " {'_id': 'Robert J. Kauffman', 'count': 23},\n",
      " {'_id': 'Vladik Kreinovich', 'count': 24},\n",
      " {'_id': 'Eric K. Clemons', 'count': 24},\n",
      " {'_id': 'Kevin D. Ashley', 'count': 25},\n",
      " {'_id': 'Henry Prakken', 'count': 25},\n",
      " {'_id': 'Lakhmi C. Jain', 'count': 25},\n",
      " {'_id': 'Robert O. Briggs', 'count': 26},\n",
      " {'_id': 'Andr? Carlos Ponce Leon Ferreira de Carvalho', 'count': 27},\n",
      " {'_id': 'Thomas A. Henzinger', 'count': 27},\n",
      " {'_id': 'Gert-Jan de Vreede', 'count': 28},\n",
      " {'_id': 'Trevor J. M. Bench-Capon', 'count': 31},\n",
      " {'_id': 'Ajith Abraham', 'count': 31},\n",
      " {'_id': 'Teresa Bernarda Ludermir', 'count': 32},\n",
      " {'_id': 'Patricia Melin', 'count': 69},\n",
      " {'_id': 'Oscar Castillo', 'count': 84}]\n"
     ]
    }
   ],
   "source": [
    "MongoDB_Log().count_publi_all_auth()"
   ]
  },
  {
   "source": [
    "## Méthode pour insérer un nouveau fichier json dans la base de données"
   ],
   "cell_type": "markdown",
   "metadata": {}
  },
  {
   "cell_type": "code",
   "execution_count": 11,
   "metadata": {},
   "outputs": [
    {
     "output_type": "stream",
     "name": "stdout",
     "text": [
      "Le fichier dblp.json a bien été inséré dans la collection nom_de_la_collection.\n"
     ]
    }
   ],
   "source": [
    "MongoDB_Log().insert_json('nom_de_la_collection')"
   ]
  }
 ]
}