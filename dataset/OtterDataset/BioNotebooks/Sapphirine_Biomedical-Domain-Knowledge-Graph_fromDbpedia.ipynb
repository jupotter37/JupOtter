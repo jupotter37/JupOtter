{
 "cells": [
  {
   "cell_type": "markdown",
   "metadata": {},
   "source": [
    "## Use saprQL to query DBpedia"
   ]
  },
  {
   "cell_type": "code",
   "execution_count": 1,
   "metadata": {},
   "outputs": [
    {
     "name": "stdout",
     "output_type": "stream",
     "text": [
      "http://dbpedia.org/resource/Biomedical http://www.w3.org/2000/01/rdf-schema#label Biomedical\n",
      "http://dbpedia.org/resource/Biomedical http://xmlns.com/foaf/0.1/isPrimaryTopicOf http://en.wikipedia.org/wiki/Biomedical\n",
      "http://dbpedia.org/resource/Nadine_Barrie_Smith http://dbpedia.org/ontology/field http://dbpedia.org/resource/Biomedical\n",
      "http://dbpedia.org/resource/Biomedical http://dbpedia.org/ontology/wikiPageID 609268\n",
      "http://dbpedia.org/resource/Musa_Hakan_Asyalı http://dbpedia.org/ontology/knownFor http://dbpedia.org/resource/Biomedical\n",
      "http://dbpedia.org/resource/Charles_Stark_Draper_Laboratory http://dbpedia.org/ontology/industry http://dbpedia.org/resource/Biomedical\n",
      "http://dbpedia.org/resource/Biomedical http://dbpedia.org/ontology/wikiPageRedirects http://dbpedia.org/resource/Medical_research\n",
      "http://dbpedia.org/resource/Biomedical http://dbpedia.org/ontology/wikiPageRevisionID 288855867\n",
      "http://en.wikipedia.org/wiki/Biomedical http://xmlns.com/foaf/0.1/primaryTopic http://dbpedia.org/resource/Biomedical\n",
      "http://dbpedia.org/resource/Biomedical http://www.w3.org/ns/prov#wasDerivedFrom http://en.wikipedia.org/wiki/Biomedical?oldid=288855867\n",
      "http://dbpedia.org/resource/Biomedical http://www.w3.org/2002/07/owl#sameAs http://dbpedia.org/resource/Biomedical\n"
     ]
    }
   ],
   "source": [
    "import rdflib\n",
    "g=rdflib.Graph()\n",
    "g.load('http://dbpedia.org/resource/Biomedical')\n",
    "\n",
    "for s,p,o in g:\n",
    "    print (s,p,o)"
   ]
  },
  {
   "cell_type": "code",
   "execution_count": 1,
   "metadata": {
    "collapsed": true
   },
   "outputs": [],
   "source": [
    "from SPARQLWrapper import SPARQLWrapper, JSON\n",
    "\n",
    "prefix = \"\"\"\n",
    "    PREFIX rdf: <http://www.w3.org/1999/02/22-rdf-syntax-ns#>\n",
    "    PREFIX rdfs: <http://www.w3.org/2000/01/rdf-schema#>\n",
    "    PREFIX dbpedia: <http://dbpedia.org/resource/>\n",
    "    PREFIX dbo: <http://dbpedia.org/ontology/>PREFIX category: <http://dbpedia.org/resource/Category:>\n",
    "    PREFIX xsd: <http://www.w3.org/2001/XMLSchema#>PREFIX foaf: <http://xmlns.com/foaf/0.1/>PREFIX dbpprop: <http://dbpedia.org/property/>\n",
    "    PREFIX dbprop: <http://dbpedia.org/property/>PREFIX grs: <http://www.georss.org/georss/>\n",
    "    PREFIX category: <http://dbpedia.org/resource/Category:>\n",
    "    PREFIX dct: <http://purl.org/dc/terms/>\n",
    "    PREFIX owl: <http://www.w3.org/2002/07/owl#>\n",
    "    PREFIX freebase: <http://rdf.freebase.com/ns/>\n",
    "    PREFIX db: <http://dbpedia.org/>\n",
    "    PREFIX dbp: <http://dbpedia.org/property/>\n",
    "    PREFIX foaf: <http://xmlns.com/foaf/0.1/>\n",
    "    PREFIX http: <http://www.w3.org/2006/http#>\"\"\""
   ]
  },
  {
   "cell_type": "code",
   "execution_count": 3,
   "metadata": {},
   "outputs": [
    {
     "name": "stdout",
     "output_type": "stream",
     "text": [
      "{'z': {'type': 'uri', 'value': 'http://www.w3.org/2002/07/owl#Thing'}}\n",
      "{'z': {'type': 'uri', 'value': 'http://dbpedia.org/ontology/Software'}}\n",
      "{'z': {'type': 'uri', 'value': 'http://dbpedia.org/class/yago/Abstraction100002137'}}\n",
      "{'z': {'type': 'uri', 'value': 'http://dbpedia.org/class/yago/Cognition100023271'}}\n",
      "{'z': {'type': 'uri', 'value': 'http://dbpedia.org/class/yago/Content105809192'}}\n",
      "{'z': {'type': 'uri', 'value': 'http://dbpedia.org/class/yago/Discipline105996646'}}\n",
      "{'z': {'type': 'uri', 'value': 'http://dbpedia.org/class/yago/KnowledgeDomain105999266'}}\n",
      "{'z': {'type': 'uri', 'value': 'http://dbpedia.org/class/yago/PsychologicalFeature100023100'}}\n",
      "{'z': {'type': 'uri', 'value': 'http://dbpedia.org/class/yago/WikicatEngineeringDisciplines'}}\n"
     ]
    }
   ],
   "source": [
    "sparql = SPARQLWrapper(\"http://dbpedia.org/sparql\")\n",
    "sparql.setQuery(prefix + \"\"\"    \n",
    "    SELECT ?z\n",
    "    WHERE { <http://dbpedia.org/resource/Biomedical_engineering> rdf:type ?z }\n",
    "\"\"\")\n",
    "#Arye_Rosen\n",
    "sparql.setReturnFormat(JSON)\n",
    "results = sparql.query().convert()\n",
    "\n",
    "for result in results[\"results\"][\"bindings\"]:\n",
    "    print(result)"
   ]
  },
  {
   "cell_type": "code",
   "execution_count": 2,
   "metadata": {},
   "outputs": [
    {
     "name": "stdout",
     "output_type": "stream",
     "text": [
      "Biomedical engineering\n"
     ]
    }
   ],
   "source": [
    "sparql = SPARQLWrapper(\"http://dbpedia.org/sparql\")\n",
    "sparql.setQuery(prefix + \"\"\"\n",
    "    SELECT ?z\n",
    "    WHERE { <http://dbpedia.org/resource/Biomedical_engineering> rdfs:label ?z }\n",
    "\"\"\")\n",
    "sparql.setReturnFormat(JSON)\n",
    "results = sparql.query().convert()\n",
    "\n",
    "for result in results[\"results\"][\"bindings\"]:\n",
    "    if result['z']['xml:lang'] == 'en':\n",
    "        print(result['z']['value'])"
   ]
  },
  {
   "cell_type": "markdown",
   "metadata": {
    "collapsed": true
   },
   "source": [
    "## Search things in DBpedia and Store into mongoDB"
   ]
  },
  {
   "cell_type": "markdown",
   "metadata": {},
   "source": [
    "### Search things using DBpedia"
   ]
  },
  {
   "cell_type": "code",
   "execution_count": 2,
   "metadata": {
    "collapsed": true
   },
   "outputs": [],
   "source": [
    "from pymongo import MongoClient\n",
    "from bson.objectid import ObjectId\n",
    "import json\n",
    "\n",
    "config = json.load(open(\"config.json\"))\n",
    "\n",
    "client = MongoClient()\n",
    "client = MongoClient(config[\"server\"], 27017)\n",
    "\n",
    "db = client.Biomedical\n",
    "\n",
    "#load search type for sparql\n",
    "searchtype = json.load(open(\"searchtype.json\"))\n",
    "query_contents = json.load(open(\"query_content.json\"))"
   ]
  },
  {
   "cell_type": "code",
   "execution_count": 3,
   "metadata": {
    "collapsed": true
   },
   "outputs": [],
   "source": [
    "#Replace symbol that may crash the query\n",
    "def clean(word):\n",
    "    word = word.replace(' ','_')\n",
    "    word = word.replace('\"','//')\n",
    "    word = word.replace(\"'\",\"/\")\n",
    "    return word\n",
    "\n",
    "\n",
    "def clean_output(word):\n",
    "    word = word.split('/')[-1]\n",
    "    word = word.replace('_',' ')\n",
    "    return word"
   ]
  },
  {
   "cell_type": "code",
   "execution_count": 4,
   "metadata": {
    "collapsed": true
   },
   "outputs": [],
   "source": [
    "#Search the page title and get its pages\n",
    "def get_type_from_db(title):\n",
    "    title = clean(title)\n",
    "    sparql = SPARQLWrapper(\"http://dbpedia.org/sparql\")\n",
    "    sparql.setQuery(prefix + \"\"\"    \n",
    "        SELECT ?z\n",
    "        WHERE { <http://dbpedia.org/resource/\"\"\"+title+\"\"\"> rdf:type ?z }\n",
    "    \"\"\")\n",
    "    sparql.setReturnFormat(JSON)\n",
    "    results = sparql.query().convert()\n",
    "    value = []\n",
    "    for result in results[\"results\"][\"bindings\"]:\n",
    "        value.append(result['z']['value'].split('/')[-1])\n",
    "    if 'Person' in value:\n",
    "        return 'Person'\n",
    "    elif 'University' in value:\n",
    "        return 'University'\n",
    "    else:\n",
    "        return 'Thing'"
   ]
  },
  {
   "cell_type": "code",
   "execution_count": 5,
   "metadata": {
    "collapsed": true
   },
   "outputs": [],
   "source": [
    "#Get all fields needed for a person\n",
    "def construct(title,ctype):\n",
    "    title = clean(title)\n",
    "    results = {}\n",
    "    results['category'] = clean(ctype)\n",
    "    for content in query_contents[ctype]:\n",
    "        sparql = SPARQLWrapper(\"http://dbpedia.org/sparql\")\n",
    "        sparql.setQuery(prefix + \"\"\"    \n",
    "            SELECT ?z\n",
    "            WHERE { <http://dbpedia.org/resource/\"\"\"+title+\"> \"+searchtype[content]+\":\"+content+\"\"\" ?z }\n",
    "        \"\"\")\n",
    "        sparql.setReturnFormat(JSON)\n",
    "        result = sparql.query().convert()\n",
    "        output = []\n",
    "        for r in result[\"results\"][\"bindings\"]:\n",
    "            #clean spaces except links\n",
    "            if content != 'homepage' and 'Link' not in content:\n",
    "                r['z']['value'] = clean_output(r['z']['value'])\n",
    "            try:\n",
    "                if r['z']['xml:lang'] == 'en':\n",
    "                    output.append(r['z']['value'])\n",
    "            except:\n",
    "                output.append(r['z']['value'])\n",
    "        results[content] = output\n",
    "    return results"
   ]
  },
  {
   "cell_type": "code",
   "execution_count": 8,
   "metadata": {},
   "outputs": [
    {
     "data": {
      "text/plain": [
       "{'abstract': ['Cassie Mitchell (born 1981) is an American chemist and Paralympic athlete and cyclist.'],\n",
       " 'almaMater': ['Georgia Institute of Technology',\n",
       "  'Emory University',\n",
       "  'Oklahoma State University–Stillwater'],\n",
       " 'birthDate': ['1981-1-1'],\n",
       " 'birthPlace': ['Muskogee, Oklahoma'],\n",
       " 'category': 'Person',\n",
       " 'field': ['Biomedical engineering', 'Chemical engineering'],\n",
       " 'homepage': ['http://www.cassie-mitchell.com/paralympics.html'],\n",
       " 'label': ['Cassie Mitchell'],\n",
       " 'type': []}"
      ]
     },
     "execution_count": 8,
     "metadata": {},
     "output_type": "execute_result"
    }
   ],
   "source": [
    "construct('Cassie_Mitchell','Person')"
   ]
  },
  {
   "cell_type": "code",
   "execution_count": 29,
   "metadata": {},
   "outputs": [
    {
     "data": {
      "text/plain": [
       "{'abstract': [\"Columbia University (officially Columbia University in the City of New York) is a private Ivy League research university in Upper Manhattan, New York City. It was established in 1754 as King's College by royal charter of George II of Great Britain. Columbia is the oldest college in the state of New York and the fifth chartered institution of higher learning in the country, making it one of nine colonial colleges founded before the Declaration of Independence. After the American Revolutionary War, King's College briefly became a state entity, and was renamed Columbia College in 1784. A 1787 charter placed the institution under a private board of trustees before it was renamed Columbia University in 1896 when the campus was moved from Madison Avenue to its current location in Morningside Heights occupying 32 acres (13 ha) of land. Columbia is one of the fourteen founding members of the Association of American Universities, and was the first school in the United States to grant the M.D. degree. The university is organized into twenty schools, including Columbia College, the School of Engineering and Applied Science, and the School of General Studies. The university also has global research outposts in Amman, Beijing, Istanbul, Paris, Mumbai, Rio de Janeiro, Santiago, Asunción and Nairobi. It has affiliations with several other institutions nearby, including Teachers College, Barnard College, and Union Theological Seminary, with joint undergraduate programs available through the Jewish Theological Seminary of America, University College London, Sciences Po, City University of Hong Kong, and the Juilliard School. Columbia administers annually the Pulitzer Prize. Notable alumni and former students (counting those from King's College) include five Founding Fathers of the United States; nine Justices of the United States Supreme Court; 20 living billionaires; 29 Academy Award winners; and 29 heads of state, including three United States Presidents. Additionally, 104 Nobel laureates have been affiliated with Columbia as students, researchers, faculty, or staff. Columbia is also second only to Harvard University in the number of Pulitzer Prize winning alumni and former students, with over 100 recipients as of 2015.\"],\n",
       " 'category': 'University',\n",
       " 'city': ['New York City'],\n",
       " 'country': ['U.S.'],\n",
       " 'homepage': ['http://www.columbia.edu'],\n",
       " 'label': ['Columbia University'],\n",
       " 'state': ['New York (state)'],\n",
       " 'type': ['Private university']}"
      ]
     },
     "execution_count": 29,
     "metadata": {},
     "output_type": "execute_result"
    }
   ],
   "source": [
    "construct('Columbia_University','University')"
   ]
  },
  {
   "cell_type": "code",
   "execution_count": 7,
   "metadata": {},
   "outputs": [
    {
     "data": {
      "text/plain": [
       "{'abstract': ['Biomedical engineering (BME) is the application of engineering principles and design concepts to medicine and biology for healthcare purposes (e.g. diagnostic or therapeutic). This field seeks to close the gap between engineering and medicine, combining the design and problem solving skills of engineering with medical and biological sciences to advance health care treatment, including diagnosis, monitoring, and therapy.Biomedical engineering has only recently emerged as its own study, compared to many other engineering fields. Such an evolution is common as a new field transitions from being an interdisciplinary specialization among already-established fields, to being considered a field in itself. Much of the work in biomedical engineering consists of research and development, spanning a broad array of subfields (see below). Prominent biomedical engineering applications include the development of biocompatible prostheses, various diagnostic and therapeutic medical devices ranging from clinical equipment to micro-implants, common imaging equipment such as MRIs and EEGs, regenerative tissue growth, pharmaceutical drugs and therapeutic biologicals.'],\n",
       " 'category': 'Thing',\n",
       " 'isPrimaryTopicOf': ['Biomedical engineering'],\n",
       " 'label': ['Biomedical engineering'],\n",
       " 'subject': ['Category:Biological engineering',\n",
       "  'Category:Biomedical engineering'],\n",
       " 'wikiPageExternalLink': ['http://crcpress.com/product/isbn/9780849321245',\n",
       "  'http://www.biomedtechnicians.com']}"
      ]
     },
     "execution_count": 7,
     "metadata": {},
     "output_type": "execute_result"
    }
   ],
   "source": [
    "construct('Biomedical_engineering','Thing')"
   ]
  },
  {
   "cell_type": "markdown",
   "metadata": {},
   "source": [
    "### Add Data to MongoDB"
   ]
  },
  {
   "cell_type": "code",
   "execution_count": 9,
   "metadata": {
    "collapsed": true
   },
   "outputs": [],
   "source": [
    "#check if the noe is already exists in the database\n",
    "def check_not_exists(result):\n",
    "    if result['category'] == 'Person':\n",
    "        return db.Node.find({'category':result['category'],'label':result['label'],'birthDate':result['birthDate']}).count() == 0\n",
    "    else:\n",
    "        r = db.Node.find({'category':result['category'],'label':result['label']}).count()\n",
    "        return r == 0\n",
    "        \n",
    "    \n",
    "#Transfer the result format and save to mongoDB\n",
    "def save_to_mongo(result):\n",
    "    #flag = check_not_exists(result)\n",
    "    flag = db.Node.find({'label':result['label']}).count() == 0\n",
    "    if flag:\n",
    "        db.Node.insert_one(result)\n",
    "    else:\n",
    "        pass\n",
    "    return\n",
    "\n",
    "\n",
    "#Add edges based on the nodes constructed in mongoDB\n",
    "def add_relation_to_mongo():\n",
    "    for node in db.Node,find({}):\n",
    "        relationship = query_content[node['category']]\n",
    "        for r in relationship:\n",
    "            if len(node[r]) > 0:\n",
    "                db.Edge.insert_one({'Source':node['title'],'Destination':node[r],'relationship':r})\n",
    "    return "
   ]
  },
  {
   "cell_type": "code",
   "execution_count": 11,
   "metadata": {
    "collapsed": true
   },
   "outputs": [],
   "source": [
    "# Use the title to search and extract\n",
    "def get_info_from_db(title):\n",
    "    page_type = get_type_from_db(title)\n",
    "    result = construct(title, page_type)\n",
    "    return result\n",
    "    \n",
    "    \n",
    "# Transder pages to specific nodes with labels\n",
    "def transfer_pages():\n",
    "    pages = db.pages.find({'_id': {'$gt':ObjectId('5aeb72c443bf575d8c34a2e7')}},no_cursor_timeout=True)\n",
    "    count = 0\n",
    "    ct = 0\n",
    "    for page in pages:\n",
    "        if db.Node.find({'label':page['title']}).count() == 0:\n",
    "            try:\n",
    "                result = get_info_from_db(page['title'])\n",
    "                if len(result['abstract']) == 0:\n",
    "                    if ct%100 == 0:\n",
    "                        print(page['_id'])\n",
    "                    ct += 1\n",
    "                    continue\n",
    "                else:\n",
    "                    save_to_mongo(result)\n",
    "                    if count%100 == 0:\n",
    "                        print(count)\n",
    "                    count += 1\n",
    "            except:\n",
    "                print(page['title'])\n",
    "        else:\n",
    "            pass"
   ]
  },
  {
   "cell_type": "code",
   "execution_count": 12,
   "metadata": {},
   "outputs": [
    {
     "name": "stdout",
     "output_type": "stream",
     "text": [
      "5aeb72c643bf575d8c349f6c\n",
      "0\n",
      "Negative elongation factor\n",
      "100\n",
      "200\n",
      "TRANSFAC\n",
      "Tricho-rhino-phalangeal syndrome Type 1\n",
      "TWIST2\n",
      "Ultrabithorax\n",
      "USF1\n",
      "Whirly\n",
      "300\n",
      "400\n",
      "500\n",
      "600\n",
      "700\n",
      "800\n",
      "900\n",
      "5aeb74d643bf575d8c34a64a\n",
      "1000\n"
     ]
    }
   ],
   "source": [
    "transfer_pages()"
   ]
  },
  {
   "cell_type": "markdown",
   "metadata": {},
   "source": [
    "### Query data saved below"
   ]
  },
  {
   "cell_type": "code",
   "execution_count": null,
   "metadata": {
    "collapsed": true
   },
   "outputs": [],
   "source": [
    "add_relation_to_mongo()"
   ]
  },
  {
   "cell_type": "code",
   "execution_count": 12,
   "metadata": {},
   "outputs": [
    {
     "name": "stderr",
     "output_type": "stream",
     "text": [
      "F:\\python\\Lib\\site-packages\\ipykernel_launcher.py:1: DeprecationWarning: remove is deprecated. Use delete_one or delete_many instead.\n",
      "  \"\"\"Entry point for launching an IPython kernel.\n"
     ]
    },
    {
     "data": {
      "text/plain": [
       "{'n': 1457, 'ok': 1.0}"
      ]
     },
     "execution_count": 12,
     "metadata": {},
     "output_type": "execute_result"
    }
   ],
   "source": [
    "db.Node.remove({})"
   ]
  },
  {
   "cell_type": "code",
   "execution_count": 16,
   "metadata": {},
   "outputs": [
    {
     "data": {
      "text/plain": [
       "13427"
      ]
     },
     "execution_count": 16,
     "metadata": {},
     "output_type": "execute_result"
    }
   ],
   "source": [
    "db.pages.find({}).count()"
   ]
  },
  {
   "cell_type": "code",
   "execution_count": null,
   "metadata": {
    "collapsed": true
   },
   "outputs": [],
   "source": []
  }
 ],
 "metadata": {
  "kernelspec": {
   "display_name": "Python 3",
   "language": "python",
   "name": "python3"
  },
  "language_info": {
   "codemirror_mode": {
    "name": "ipython",
    "version": 3
   },
   "file_extension": ".py",
   "mimetype": "text/x-python",
   "name": "python",
   "nbconvert_exporter": "python",
   "pygments_lexer": "ipython3",
   "version": "3.6.2"
  }
 },
 "nbformat": 4,
 "nbformat_minor": 2
}
