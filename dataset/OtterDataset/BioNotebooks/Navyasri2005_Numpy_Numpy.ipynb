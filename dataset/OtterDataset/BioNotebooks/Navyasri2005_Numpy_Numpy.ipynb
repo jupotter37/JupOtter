{
 "cells": [
  {
   "cell_type": "code",
   "execution_count": 4,
   "id": "9ff9fb70-0108-4538-9870-e1ad98481398",
   "metadata": {},
   "outputs": [],
   "source": [
    "import numpy as np"
   ]
  },
  {
   "cell_type": "markdown",
   "id": "2e26509b-3517-456f-a072-488fbedf3f84",
   "metadata": {},
   "source": [
    "# Array creation:\n",
    "Various methods to create arrays: np.array(), np.zeros(), np.ones(), np.arange(), and np.linspace()."
   ]
  },
  {
   "cell_type": "code",
   "execution_count": 5,
   "id": "b388682c-f0c6-4304-ad01-f088b0aadcd2",
   "metadata": {},
   "outputs": [
    {
     "name": "stdout",
     "output_type": "stream",
     "text": [
      "1D Array: [1 2 3 4 5]\n"
     ]
    }
   ],
   "source": [
    "# Create a 1D array\n",
    "array_1d = np.array([1, 2, 3, 4, 5])\n",
    "print(\"1D Array:\", array_1d)"
   ]
  },
  {
   "cell_type": "code",
   "execution_count": 6,
   "id": "3b70dbb3-8787-4a64-8317-1a33a965a956",
   "metadata": {},
   "outputs": [
    {
     "name": "stdout",
     "output_type": "stream",
     "text": [
      "2D Array:\n",
      " [[1 2 3]\n",
      " [4 5 6]]\n"
     ]
    }
   ],
   "source": [
    "# Create a 2D array\n",
    "array_2d = np.array([[1, 2, 3], [4, 5, 6]])\n",
    "print(\"2D Array:\\n\", array_2d)"
   ]
  },
  {
   "cell_type": "code",
   "execution_count": 8,
   "id": "cb26142b-d2cc-448c-be15-ef7d0e99f3d3",
   "metadata": {},
   "outputs": [
    {
     "name": "stdout",
     "output_type": "stream",
     "text": [
      "Zeros Array:\n",
      " [[0. 0. 0.]\n",
      " [0. 0. 0.]\n",
      " [0. 0. 0.]]\n"
     ]
    }
   ],
   "source": [
    "#creating an array with all zeros\n",
    "zeros_array = np.zeros((3, 3))\n",
    "print(\"Zeros Array:\\n\", zeros_array)"
   ]
  },
  {
   "cell_type": "code",
   "execution_count": 9,
   "id": "70a1a8f1-941d-4da7-a884-599377a24d01",
   "metadata": {},
   "outputs": [
    {
     "name": "stdout",
     "output_type": "stream",
     "text": [
      "Ones Array:\n",
      " [[1. 1. 1. 1.]\n",
      " [1. 1. 1. 1.]]\n"
     ]
    }
   ],
   "source": [
    "# Create an array with all ones\n",
    "ones_array = np.ones((2, 4))\n",
    "print(\"Ones Array:\\n\", ones_array)"
   ]
  },
  {
   "cell_type": "code",
   "execution_count": 10,
   "id": "5bc6cfa8-64eb-4ee2-a96d-1e8d3e1d0efe",
   "metadata": {},
   "outputs": [
    {
     "name": "stdout",
     "output_type": "stream",
     "text": [
      "Range Array: [10 12 14 16 18]\n"
     ]
    }
   ],
   "source": [
    "# Create an array with a range of values\n",
    "range_array = np.arange(10, 20, 2)\n",
    "print(\"Range Array:\", range_array)"
   ]
  },
  {
   "cell_type": "markdown",
   "id": "6f2a0392-8f9e-4e06-b60b-d9c6039029e4",
   "metadata": {},
   "source": [
    "# DATA MANIPULATION"
   ]
  },
  {
   "cell_type": "markdown",
   "id": "cea1a5cb-5f5b-4af5-ae0b-1e5fda0b1deb",
   "metadata": {},
   "source": [
    "# Indexing:\n",
    "Accessing specific elements in 1D and 2D arrays.\n"
   ]
  },
  {
   "cell_type": "code",
   "execution_count": 11,
   "id": "09d86777-3062-478c-84e6-2eb84c1f07fa",
   "metadata": {},
   "outputs": [
    {
     "name": "stdout",
     "output_type": "stream",
     "text": [
      "Element at index 2 in 1D Array: 3\n"
     ]
    }
   ],
   "source": [
    "# Access elements in a 1D array\n",
    "element_1d = array_1d[2]  \n",
    "print(\"Element at index 2 in 1D Array:\", element_1d)"
   ]
  },
  {
   "cell_type": "code",
   "execution_count": 12,
   "id": "4b30c5c6-dbb9-44de-8b2b-421b0f90cb80",
   "metadata": {},
   "outputs": [
    {
     "name": "stdout",
     "output_type": "stream",
     "text": [
      "Element at (1, 2) in 2D Array: 6\n"
     ]
    }
   ],
   "source": [
    "# Access elements in a 2D array\n",
    "element_2d = array_2d[1, 2]  \n",
    "print(\"Element at (1, 2) in 2D Array:\", element_2d)\n"
   ]
  },
  {
   "cell_type": "markdown",
   "id": "4e71fbb1-e4f7-4e67-b525-e6c4926a28fc",
   "metadata": {},
   "source": [
    "# Slicing:\n",
    "Extracting parts of arrays using slicing.\n"
   ]
  },
  {
   "cell_type": "code",
   "execution_count": 13,
   "id": "2fc61a92-ad68-4c6d-af31-2f4a4f7bcf02",
   "metadata": {},
   "outputs": [
    {
     "name": "stdout",
     "output_type": "stream",
     "text": [
      "Slice of 1D Array [1:4]: [2 3 4]\n"
     ]
    }
   ],
   "source": [
    "# Slice a 1D array\n",
    "slice_1d = array_1d[1:4]  \n",
    "print(\"Slice of 1D Array [1:4]:\", slice_1d)\n"
   ]
  },
  {
   "cell_type": "code",
   "execution_count": 14,
   "id": "a7dd17de-292a-4e5c-8570-538ed6c68107",
   "metadata": {},
   "outputs": [
    {
     "name": "stdout",
     "output_type": "stream",
     "text": [
      "Slice of 2D Array [0:2, 1:3]:\n",
      " [[2 3]\n",
      " [5 6]]\n"
     ]
    }
   ],
   "source": [
    "# Slice a 2D array\n",
    "slice_2d = array_2d[0:2, 1:3] \n",
    "print(\"Slice of 2D Array [0:2, 1:3]:\\n\", slice_2d)\n"
   ]
  },
  {
   "cell_type": "markdown",
   "id": "61499bbe-5197-466a-b3d6-cec22bd4ca05",
   "metadata": {},
   "source": [
    "Reshaping:Changing the shape of an array using reshape() and flattening it with flatten().\n",
    "\n",
    "\n"
   ]
  },
  {
   "cell_type": "code",
   "execution_count": 15,
   "id": "ed3b2656-4d63-47f5-8f77-a21de7c82c6c",
   "metadata": {},
   "outputs": [
    {
     "name": "stdout",
     "output_type": "stream",
     "text": [
      "Reshaped 1D Array to 2D:\n",
      " [[1 2 3 4 5]]\n"
     ]
    }
   ],
   "source": [
    "# Reshape a 1D array to a 2D array\n",
    "reshaped_array = array_1d.reshape((1, 5))\n",
    "print(\"Reshaped 1D Array to 2D:\\n\", reshaped_array)\n"
   ]
  },
  {
   "cell_type": "code",
   "execution_count": 16,
   "id": "e3022d82-748b-43af-ad43-ec8590c0cfb9",
   "metadata": {},
   "outputs": [
    {
     "name": "stdout",
     "output_type": "stream",
     "text": [
      "Flattened 2D Array: [1 2 3 4 5 6]\n"
     ]
    }
   ],
   "source": [
    "flattened_array = array_2d.flatten()\n",
    "print(\"Flattened 2D Array:\", flattened_array)\n"
   ]
  },
  {
   "cell_type": "markdown",
   "id": "f84688c5-9868-489e-8084-8132fc9abf65",
   "metadata": {},
   "source": [
    "# Mathematical operations:\n",
    "Performing ebasic operations and matrix operations, and basic statistical operations like mean and standard deviation."
   ]
  },
  {
   "cell_type": "markdown",
   "id": "2f4e586a-a3a1-4eb5-9af9-90dd31e48d2c",
   "metadata": {},
   "source": [
    "# Basic operations"
   ]
  },
  {
   "cell_type": "code",
   "execution_count": 34,
   "id": "d1feac1a-3eae-4697-8cef-fc903515ff9b",
   "metadata": {},
   "outputs": [
    {
     "name": "stdout",
     "output_type": "stream",
     "text": [
      "addition:\n",
      " [ 6  7  8  9 10]\n"
     ]
    }
   ],
   "source": [
    "# addition\n",
    "add_result = array_1d + 5\n",
    "print(\"addition:\\n\", add_result)"
   ]
  },
  {
   "cell_type": "code",
   "execution_count": 20,
   "id": "9e0f1464-666a-4183-839d-9e4159ec52f4",
   "metadata": {},
   "outputs": [
    {
     "name": "stdout",
     "output_type": "stream",
     "text": [
      "multiplication:\n",
      " [[ 2  4  6]\n",
      " [ 8 10 12]]\n"
     ]
    }
   ],
   "source": [
    "#multiplication\n",
    "mul_result = array_2d * 2\n",
    "print(\"multiplication:\\n\", mul_result)\n"
   ]
  },
  {
   "cell_type": "code",
   "execution_count": 37,
   "id": "0d4ebb5b-047c-4920-80cc-17865d6475f2",
   "metadata": {},
   "outputs": [
    {
     "data": {
      "text/plain": [
       "1"
      ]
     },
     "execution_count": 37,
     "metadata": {},
     "output_type": "execute_result"
    }
   ],
   "source": [
    "# return no .of dimensions in array\n",
    "array_1d.ndim"
   ]
  },
  {
   "cell_type": "code",
   "execution_count": 38,
   "id": "ada36f68-b403-4a6d-8329-7e73ddb47338",
   "metadata": {},
   "outputs": [
    {
     "data": {
      "text/plain": [
       "(5,)"
      ]
     },
     "execution_count": 38,
     "metadata": {},
     "output_type": "execute_result"
    }
   ],
   "source": [
    "# return the shape of array\n",
    "array_1d.shape\n"
   ]
  },
  {
   "cell_type": "code",
   "execution_count": 39,
   "id": "c05824c6-b8bf-476f-8d3c-62642b155a51",
   "metadata": {},
   "outputs": [
    {
     "data": {
      "text/plain": [
       "5"
      ]
     },
     "execution_count": 39,
     "metadata": {},
     "output_type": "execute_result"
    }
   ],
   "source": [
    "# return the size of array\n",
    "array_1d.size"
   ]
  },
  {
   "cell_type": "code",
   "execution_count": 41,
   "id": "9bed3050-710c-4b49-9377-37670ddaf5d0",
   "metadata": {},
   "outputs": [
    {
     "data": {
      "text/plain": [
       "dtype('int32')"
      ]
     },
     "execution_count": 41,
     "metadata": {},
     "output_type": "execute_result"
    }
   ],
   "source": [
    "# return the data type of array\n",
    "array_2d.dtype"
   ]
  },
  {
   "cell_type": "code",
   "execution_count": 21,
   "id": "f7fbd3b5-b779-466f-801a-10bc538bd7c4",
   "metadata": {},
   "outputs": [
    {
     "name": "stdout",
     "output_type": "stream",
     "text": [
      "Matrix multiplication result:\n",
      " [[14]\n",
      " [32]]\n"
     ]
    }
   ],
   "source": [
    "# Matrix multiplication\n",
    "matrix_mult_result = np.dot(array_2d, np.array([[1], [2], [3]]))\n",
    "print(\"Matrix multiplication result:\\n\", matrix_mult_result)\n"
   ]
  },
  {
   "cell_type": "code",
   "execution_count": 42,
   "id": "54dfdec8-b53a-4ec4-8308-120ff74e6cde",
   "metadata": {},
   "outputs": [
    {
     "data": {
      "text/plain": [
       "4"
      ]
     },
     "execution_count": 42,
     "metadata": {},
     "output_type": "execute_result"
    }
   ],
   "source": [
    "# return the size of each element in array\n",
    "array_2d.itemsize"
   ]
  },
  {
   "cell_type": "code",
   "execution_count": 26,
   "id": "6c0cda89-9a08-49f3-bae0-259f2c25774e",
   "metadata": {},
   "outputs": [],
   "source": [
    "n1=np.array([0,np.pi/2,np.pi])"
   ]
  },
  {
   "cell_type": "code",
   "execution_count": 27,
   "id": "623c4029-7894-41a7-8c74-e6fe4ecf4ad7",
   "metadata": {},
   "outputs": [
    {
     "data": {
      "text/plain": [
       "array([ 1.        ,  4.81047738, 23.14069263])"
      ]
     },
     "execution_count": 27,
     "metadata": {},
     "output_type": "execute_result"
    }
   ],
   "source": [
    "# exponential function\n",
    "np.exp(n1)"
   ]
  },
  {
   "cell_type": "code",
   "execution_count": 28,
   "id": "7bc4f42c-7628-47ca-b3b1-c200011816f3",
   "metadata": {},
   "outputs": [
    {
     "data": {
      "text/plain": [
       "array([0.0000000e+00, 1.0000000e+00, 1.2246468e-16])"
      ]
     },
     "execution_count": 28,
     "metadata": {},
     "output_type": "execute_result"
    }
   ],
   "source": [
    "np.sin(n1)\n"
   ]
  },
  {
   "cell_type": "code",
   "execution_count": 29,
   "id": "5c492a72-837b-4827-a893-0d955a7258bc",
   "metadata": {},
   "outputs": [
    {
     "data": {
      "text/plain": [
       "array([ 1.000000e+00,  6.123234e-17, -1.000000e+00])"
      ]
     },
     "execution_count": 29,
     "metadata": {},
     "output_type": "execute_result"
    }
   ],
   "source": [
    "np.cos(n1)"
   ]
  },
  {
   "cell_type": "code",
   "execution_count": 30,
   "id": "39ee1ef9-910d-45dc-8608-32618f5f2cbf",
   "metadata": {},
   "outputs": [
    {
     "data": {
      "text/plain": [
       "array([ 0.00000000e+00,  1.63312394e+16, -1.22464680e-16])"
      ]
     },
     "execution_count": 30,
     "metadata": {},
     "output_type": "execute_result"
    }
   ],
   "source": [
    "np.tan(n1)"
   ]
  },
  {
   "cell_type": "code",
   "execution_count": 32,
   "id": "bdba142a-69e4-4c60-8996-5184dd96b46d",
   "metadata": {},
   "outputs": [
    {
     "data": {
      "text/plain": [
       "array([0.        , 1.25331414, 1.77245385])"
      ]
     },
     "execution_count": 32,
     "metadata": {},
     "output_type": "execute_result"
    }
   ],
   "source": [
    "np.sqrt(n1)"
   ]
  },
  {
   "cell_type": "markdown",
   "id": "32e76391-3ba7-4930-8ab5-093a22d691e4",
   "metadata": {},
   "source": [
    "# Boolean indexing:\n",
    "Using conditions to filter array elements.\n"
   ]
  },
  {
   "cell_type": "code",
   "execution_count": 35,
   "id": "ee28305d-3a78-4cc1-bbc6-5c3bc9d19b33",
   "metadata": {},
   "outputs": [
    {
     "name": "stdout",
     "output_type": "stream",
     "text": [
      "Elements greater than 3 in 2D Array: [4 5 6]\n"
     ]
    }
   ],
   "source": [
    "bool_indexing = array_2d[array_2d > 3]  \n",
    "print(\"Elements greater than 3 in 2D Array:\", bool_indexing)"
   ]
  },
  {
   "cell_type": "markdown",
   "id": "5ef1a760-6c2f-4317-b007-efca345f95b9",
   "metadata": {},
   "source": [
    "# Data Aggregation:"
   ]
  },
  {
   "cell_type": "code",
   "execution_count": 45,
   "id": "41f18adb-3b58-45cb-97c0-a0432ea49956",
   "metadata": {},
   "outputs": [
    {
     "name": "stdout",
     "output_type": "stream",
     "text": [
      "[[60 85 22 78]\n",
      " [18 51  7 31]\n",
      " [84 11 89 59]\n",
      " [49 37 66 59]\n",
      " [18 52 48 90]]\n"
     ]
    }
   ],
   "source": [
    "data=np.random.randint(1,100,(5,4))\n",
    "print(data)"
   ]
  },
  {
   "cell_type": "markdown",
   "id": "3bf933a6-8e90-4db5-88eb-5c8ad4a33feb",
   "metadata": {},
   "source": [
    "# Mean"
   ]
  },
  {
   "cell_type": "code",
   "execution_count": 46,
   "id": "624b08a2-948f-419a-aba1-1c7a4387dc06",
   "metadata": {},
   "outputs": [
    {
     "name": "stdout",
     "output_type": "stream",
     "text": [
      "Mean: 50.7\n"
     ]
    }
   ],
   "source": [
    "mean_value = np.mean(data)\n",
    "print(\"Mean:\", mean_value)"
   ]
  },
  {
   "cell_type": "markdown",
   "id": "4dc417e4-da8e-4cfa-a692-4445dcf5c689",
   "metadata": {},
   "source": [
    "# Median"
   ]
  },
  {
   "cell_type": "code",
   "execution_count": 47,
   "id": "31708139-8d78-4f8b-897b-4ded086c0360",
   "metadata": {},
   "outputs": [
    {
     "name": "stdout",
     "output_type": "stream",
     "text": [
      "Median: 51.5\n"
     ]
    }
   ],
   "source": [
    "median_value = np.median(data)\n",
    "print(\"Median:\", median_value)"
   ]
  },
  {
   "cell_type": "markdown",
   "id": "c01f99fc-aa52-44cc-bcfc-344f8368c593",
   "metadata": {},
   "source": [
    "# Standard Deviation"
   ]
  },
  {
   "cell_type": "code",
   "execution_count": 49,
   "id": "c8ebcdee-df48-47d9-9571-c7f650b83b2d",
   "metadata": {},
   "outputs": [
    {
     "name": "stdout",
     "output_type": "stream",
     "text": [
      "Standard Deviation: 26.015572259706303\n"
     ]
    }
   ],
   "source": [
    "std_dev = np.std(data)\n",
    "print(\"Standard Deviation:\", std_dev)\n"
   ]
  },
  {
   "cell_type": "markdown",
   "id": "89d35afc-6807-4480-9691-ba226a2632d0",
   "metadata": {},
   "source": [
    "# Sum"
   ]
  },
  {
   "cell_type": "code",
   "execution_count": 50,
   "id": "ee7fa8a9-9ae1-45e1-8f72-8a329896b901",
   "metadata": {},
   "outputs": [
    {
     "name": "stdout",
     "output_type": "stream",
     "text": [
      "Sum: 1014\n"
     ]
    }
   ],
   "source": [
    "total_sum = np.sum(data)\n",
    "print(\"Sum:\", total_sum)\n"
   ]
  },
  {
   "cell_type": "code",
   "execution_count": 61,
   "id": "f3e4d25c-d7bd-452d-bc13-00ce0e039c4d",
   "metadata": {},
   "outputs": [
    {
     "name": "stdout",
     "output_type": "stream",
     "text": [
      "percentile: 51.5\n"
     ]
    }
   ],
   "source": [
    "total_percentile=np.percentile(data,50)\n",
    "print(\"percentile:\",total_percentile)"
   ]
  },
  {
   "cell_type": "markdown",
   "id": "75beff0f-d26e-4035-bf57-4ccfee4fceac",
   "metadata": {},
   "source": [
    "# Compute statistics along axes\n"
   ]
  },
  {
   "cell_type": "code",
   "execution_count": 51,
   "id": "862384d1-b9ff-469e-a434-74dfccdf3ef8",
   "metadata": {},
   "outputs": [
    {
     "name": "stdout",
     "output_type": "stream",
     "text": [
      "Mean along rows: [61.25 26.75 60.75 52.75 52.  ]\n"
     ]
    }
   ],
   "source": [
    "# Mean along rows (axis=1)\n",
    "mean_rows = np.mean(data, axis=1)\n",
    "print(\"Mean along rows:\", mean_rows)\n"
   ]
  },
  {
   "cell_type": "code",
   "execution_count": 52,
   "id": "41c280bc-4c7d-4d6c-bd3d-31fb7d745eaf",
   "metadata": {},
   "outputs": [
    {
     "name": "stdout",
     "output_type": "stream",
     "text": [
      "Mean along columns: [45.8 47.2 46.4 63.4]\n"
     ]
    }
   ],
   "source": [
    "# Mean along columns (axis=0)\n",
    "mean_columns = np.mean(data, axis=0)\n",
    "print(\"Mean along columns:\", mean_columns)\n"
   ]
  },
  {
   "cell_type": "code",
   "execution_count": 53,
   "id": "fba71854-305a-4f38-b412-c0962cfd9721",
   "metadata": {},
   "outputs": [
    {
     "name": "stdout",
     "output_type": "stream",
     "text": [
      "Median along rows: [69.  24.5 71.5 54.  50. ]\n"
     ]
    }
   ],
   "source": [
    "# Median along rows (axis=1)\n",
    "median_rows = np.median(data, axis=1)\n",
    "print(\"Median along rows:\", median_rows)\n"
   ]
  },
  {
   "cell_type": "code",
   "execution_count": 54,
   "id": "75322b8e-49f1-4a9e-8bfb-cb7ee69d66a9",
   "metadata": {},
   "outputs": [
    {
     "name": "stdout",
     "output_type": "stream",
     "text": [
      "Median along columns: [49. 51. 48. 59.]\n"
     ]
    }
   ],
   "source": [
    "# Median along columns (axis=0)\n",
    "median_columns = np.median(data, axis=0)\n",
    "print(\"Median along columns:\", median_columns)"
   ]
  },
  {
   "cell_type": "code",
   "execution_count": 55,
   "id": "d1bf0c13-5be2-40ad-aaf9-07f77ed8e502",
   "metadata": {},
   "outputs": [
    {
     "name": "stdout",
     "output_type": "stream",
     "text": [
      "Standard Deviation along rows: [24.42718772 16.37643124 30.88992554 10.91730278 25.57342371]\n"
     ]
    }
   ],
   "source": [
    "# Standard Deviation along rows (axis=1)\n",
    "std_dev_rows = np.std(data, axis=1)\n",
    "print(\"Standard Deviation along rows:\", std_dev_rows)"
   ]
  },
  {
   "cell_type": "code",
   "execution_count": 56,
   "id": "04e1c8a3-84e2-4526-919f-cb900609f04e",
   "metadata": {},
   "outputs": [
    {
     "name": "stdout",
     "output_type": "stream",
     "text": [
      "Standard Deviation along columns: [25.36454218 24.0033331  29.49305003 20.04594722]\n"
     ]
    }
   ],
   "source": [
    "# Standard Deviation along columns (axis=0)\n",
    "std_dev_columns = np.std(data, axis=0)\n",
    "print(\"Standard Deviation along columns:\", std_dev_columns)"
   ]
  },
  {
   "cell_type": "code",
   "execution_count": 57,
   "id": "f6738dc5-d9e5-4cfd-bb67-5deacec79800",
   "metadata": {},
   "outputs": [
    {
     "name": "stdout",
     "output_type": "stream",
     "text": [
      "Sum along rows: [245 107 243 211 208]\n"
     ]
    }
   ],
   "source": [
    "# Sum along rows (axis=1)\n",
    "sum_rows = np.sum(data, axis=1)\n",
    "print(\"Sum along rows:\", sum_rows)"
   ]
  },
  {
   "cell_type": "code",
   "execution_count": 58,
   "id": "378f5f7d-6a40-4218-a620-5f9640290458",
   "metadata": {},
   "outputs": [
    {
     "name": "stdout",
     "output_type": "stream",
     "text": [
      "Sum along columns: [229 236 232 317]\n"
     ]
    }
   ],
   "source": [
    "# Sum along columns (axis=0)\n",
    "sum_columns = np.sum(data, axis=0)\n",
    "print(\"Sum along columns:\", sum_columns)\n"
   ]
  },
  {
   "cell_type": "markdown",
   "id": "89bc5f17-6eaf-40ea-996c-5f44150a23f8",
   "metadata": {},
   "source": [
    "# Data analysis using numpy"
   ]
  },
  {
   "cell_type": "markdown",
   "id": "626bf97d-e48c-4754-ad6d-3c9d467e8e12",
   "metadata": {},
   "source": [
    "# Creating a sample dataset\n"
   ]
  },
  {
   "cell_type": "code",
   "execution_count": 74,
   "id": "6356d24c-48f1-470a-9ab1-541872bf9a7b",
   "metadata": {},
   "outputs": [
    {
     "name": "stdout",
     "output_type": "stream",
     "text": [
      "Sample Data:\n",
      " [[54.88135039 71.51893664 60.27633761]\n",
      " [54.4883183  42.36547993 64.58941131]\n",
      " [43.75872113 89.17730008 96.36627605]\n",
      " [38.34415188 79.17250381 52.88949198]\n",
      " [56.80445611 92.55966383  7.10360582]]\n"
     ]
    }
   ],
   "source": [
    "np.random.seed(0) \n",
    "data = np.random.rand(1000, 3) * 100 \n",
    "print(\"Sample Data:\\n\", data[:5])  "
   ]
  },
  {
   "cell_type": "markdown",
   "id": "c161ac9d-9dac-4374-b6c1-b9af4f9caec7",
   "metadata": {},
   "source": [
    " # Finding Correlations"
   ]
  },
  {
   "cell_type": "code",
   "execution_count": 72,
   "id": "236d70bd-10a4-4a6c-bf92-afc7862408b4",
   "metadata": {},
   "outputs": [
    {
     "name": "stdout",
     "output_type": "stream",
     "text": [
      "Correlation Matrix:\n",
      " [[1.         0.01549005 0.06686736]\n",
      " [0.01549005 1.         0.03008067]\n",
      " [0.06686736 0.03008067 1.        ]]\n"
     ]
    }
   ],
   "source": [
    "# Compute the correlation matrix\n",
    "correlation_matrix = np.corrcoef(data, rowvar=False)\n",
    "print(\"Correlation Matrix:\\n\", correlation_matrix)\n"
   ]
  },
  {
   "cell_type": "markdown",
   "id": "0708dffd-201b-4f27-8a2f-92d68c8a3bde",
   "metadata": {},
   "source": [
    " # Identifying Outliers"
   ]
  },
  {
   "cell_type": "code",
   "execution_count": 73,
   "id": "a3368ac5-e2f8-482b-8056-60e0088ac0dc",
   "metadata": {},
   "outputs": [
    {
     "name": "stdout",
     "output_type": "stream",
     "text": [
      "Outliers (boolean mask):\n",
      " [[False False False]\n",
      " [False False False]\n",
      " [False False False]\n",
      " [False False False]\n",
      " [False False False]]\n"
     ]
    }
   ],
   "source": [
    "from scipy import stats\n",
    "z_scores = np.abs(stats.zscore(data, axis=0))\n",
    "threshold = 3\n",
    "outliers = (z_scores > threshold)\n",
    "print(\"Outliers (boolean mask):\\n\", outliers[:5])"
   ]
  },
  {
   "cell_type": "markdown",
   "id": "07ce53e7-5cca-4079-bd4e-b833decd94c5",
   "metadata": {},
   "source": [
    "# Calculating Percentiles"
   ]
  },
  {
   "cell_type": "code",
   "execution_count": 76,
   "id": "d9045335-8e89-4f7c-b464-658b39f30043",
   "metadata": {},
   "outputs": [
    {
     "name": "stdout",
     "output_type": "stream",
     "text": [
      "25th Percentile:\n",
      " [24.58891912 25.95436298 27.41549352]\n",
      "50th Percentile (Median):\n",
      " [50.47048025 49.83071758 49.90504209]\n",
      "75th Percentile:\n",
      " [77.09744017 75.64236137 75.52793214]\n"
     ]
    }
   ],
   "source": [
    "# Calculate percentiles for each feature\n",
    "percentiles_25 = np.percentile(data, 25, axis=0)\n",
    "percentiles_50 = np.percentile(data, 50, axis=0)\n",
    "percentiles_75 = np.percentile(data, 75, axis=0)\n",
    "\n",
    "print(\"25th Percentile:\\n\", percentiles_25)\n",
    "print(\"50th Percentile (Median):\\n\", percentiles_50)\n",
    "print(\"75th Percentile:\\n\", percentiles_75)"
   ]
  },
  {
   "cell_type": "markdown",
   "id": "8bed5491-2421-412d-a495-f519928e3dfd",
   "metadata": {},
   "source": [
    "# Normalizing Data"
   ]
  },
  {
   "cell_type": "code",
   "execution_count": 77,
   "id": "d7aa7bd6-2631-4bfb-b51c-0e12d68be5ae",
   "metadata": {},
   "outputs": [
    {
     "name": "stdout",
     "output_type": "stream",
     "text": [
      "Normalized Data:\n",
      " [[ 0.14563521  0.74332202  0.32774122]\n",
      " [ 0.13245741 -0.25700861  0.47815644]\n",
      " [-0.22729068  1.34922622  1.58635079]\n",
      " ...\n",
      " [-0.10113331 -0.72490168  1.29347258]\n",
      " [-0.73913842  1.52049433  0.13024615]\n",
      " [-0.60942758  1.08080574  0.65778068]]\n"
     ]
    }
   ],
   "source": [
    "# Normalize data (zero mean, unit variance)\n",
    "normalized_data = (data - np.mean(data, axis=0)) / np.std(data, axis=0)\n",
    "print(\"Normalized Data:\\n\", normalized_data)"
   ]
  },
  {
   "cell_type": "markdown",
   "id": "1954a7bc-24c7-4af5-8009-3cecf176caa3",
   "metadata": {},
   "source": [
    "# Correlation and Covariance\n"
   ]
  },
  {
   "cell_type": "code",
   "execution_count": 69,
   "id": "1399b16a-14f8-407a-b0c1-dfca16fb9290",
   "metadata": {},
   "outputs": [
    {
     "name": "stdout",
     "output_type": "stream",
     "text": [
      "Correlation Matrix:\n",
      " [[ 1.         -0.36719395  0.6401474   0.07331997]\n",
      " [-0.36719395  1.         -0.79284507  0.31614636]\n",
      " [ 0.6401474  -0.79284507  1.          0.23314655]\n",
      " [ 0.07331997  0.31614636  0.23314655  1.        ]]\n",
      "Covariance Matrix:\n",
      " [[ 804.2  -279.45  598.6    46.6 ]\n",
      " [-279.45  720.2  -701.6   190.15]\n",
      " [ 598.6  -701.6  1087.3   172.3 ]\n",
      " [  46.6   190.15  172.3   502.3 ]]\n"
     ]
    }
   ],
   "source": [
    "# Compute correlation matrix\n",
    "correlation_matrix = np.corrcoef(data, rowvar=False)\n",
    "print(\"Correlation Matrix:\\n\", correlation_matrix)\n",
    "\n",
    "# Compute covariance matrix\n",
    "covariance_matrix = np.cov(data, rowvar=False)\n",
    "print(\"Covariance Matrix:\\n\", covariance_matrix)\n"
   ]
  },
  {
   "cell_type": "markdown",
   "id": "36120d80-2085-4beb-9400-07b7e0cfde8b",
   "metadata": {},
   "source": [
    "# Applications of data science"
   ]
  },
  {
   "cell_type": "markdown",
   "id": "e8e29e56-5f8d-4278-8cf8-75fb45c59024",
   "metadata": {},
   "source": [
    "In this program, the use of NumPy is a critical aspect for any data science professional due to its efficiency, versatility, and performance in handling numerical computations. NumPy, with its powerful n-dimensional array objects (ndarrays), provides a foundation for numerical analysis in Python that surpasses traditional Python data structures like lists and tuples.\n",
    "\n",
    "Advantages of Using NumPy over Traditional Python Data Structures\n",
    "1.Performance: NumPy arrays are stored in contiguous blocks of memory, unlike Python lists which are stored as an array of pointers. This leads to much faster execution of operations in NumPy, particularly when dealing with large datasets. Operations on NumPy arrays are implemented in C, which further accelerates computation.\n",
    "\n",
    "2.Memory Efficiency: NumPy arrays use significantly less memory than Python lists. This is crucial when working with large datasets, as it reduces the memory overhead and allows for efficient storage and manipulation of data.\n",
    "\n",
    "3.Vectorization: NumPy allows for vectorized operations, meaning that batch operations can be performed on entire arrays without the need for explicit loops. This not only makes the code more concise and readable but also significantly speeds up execution.\n",
    "\n",
    "4.Broad Functionality: NumPy provides a wide range of mathematical and statistical functions that are essential for data analysis. These include linear algebra operations, Fourier transformations, random number generation, and more, which are not only optimized but also easier to implement compared to traditional Python methods.\n",
    "\n",
    "5.Integration with Other Libraries: NumPy serves as the backbone for many other data science libraries like pandas, SciPy, scikit-learn, and TensorFlow. This makes it indispensable for anyone looking to work in the field of data science or machine learning.\n",
    "\n",
    "6.Advanced Mathematical Functions:NumPy provides a wide array of mathematical functions, including linear algebra, statistical operations, and Fourier transforms, all of which are optimized for performance. These functions are not only faster but also more reliable than manually implementing the same operations in pure Python.\n",
    "\n",
    "Integration with Other Libraries:\n",
    "\n",
    "NumPy serves as the foundational library for many other data science libraries like Pandas, Scikit-learn, TensorFlow, and SciPy. This integration allows for seamless data manipulation, machine learning model development, and scientific computing.\n",
    "Handling Multidimensional Data:\n",
    "\n",
    "Unlike Python lists, NumPy arrays can handle multidimensional data easily, making it possible to work with matrices, tensors, and higher-dimensional arrays. This is particularly useful in areas like image processing, where data often exists in multiple dimensions.\n",
    "\n",
    "\n",
    "Real-World Examples Where NumPy’s Capabilities Are Crucial\n",
    "1.Machine Learning: NumPy is heavily used in machine learning for operations such as matrix multiplication, which is fundamental for algorithms like linear regression, neural networks, and deep learning models. Libraries like TensorFlow and PyTorch rely on NumPy for tensor operations and gradient calculations.\n",
    "\n",
    "2.Financial Analysis: In finance, NumPy is used to perform large-scale simulations and calculations like Monte Carlo simulations, which are essential for risk analysis and option pricing. The ability to handle large datasets efficiently is crucial for processing financial data.\n",
    "\n",
    "3.Scientific Research: In scientific research, particularly in fields like physics, chemistry, and biology, NumPy is used for tasks such as image processing, signal processing, and solving differential equations. Its ability to handle multi-dimensional data arrays and perform complex mathematical operations makes it a go-to tool for scientists.\n",
    "\n",
    "4.Data Manipulation: NumPy’s broadcasting and advanced indexing capabilities allow for sophisticated data manipulation tasks that are required in big data analytics. This is essential for cleaning, transforming, and analyzing large datasets in a time-efficient manner.\n",
    "\n",
    "\n"
   ]
  },
  {
   "cell_type": "code",
   "execution_count": null,
   "id": "e98e558a-1948-4b93-8e9c-72ba35727a37",
   "metadata": {},
   "outputs": [],
   "source": []
  }
 ],
 "metadata": {
  "kernelspec": {
   "display_name": "Python 3 (ipykernel)",
   "language": "python",
   "name": "python3"
  },
  "language_info": {
   "codemirror_mode": {
    "name": "ipython",
    "version": 3
   },
   "file_extension": ".py",
   "mimetype": "text/x-python",
   "name": "python",
   "nbconvert_exporter": "python",
   "pygments_lexer": "ipython3",
   "version": "3.12.4"
  }
 },
 "nbformat": 4,
 "nbformat_minor": 5
}
