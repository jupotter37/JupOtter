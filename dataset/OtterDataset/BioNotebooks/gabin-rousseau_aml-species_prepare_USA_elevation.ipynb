{
 "cells": [
  {
   "cell_type": "code",
   "execution_count": 1,
   "id": "2d093545-5fac-43aa-8701-2406d479c88f",
   "metadata": {},
   "outputs": [],
   "source": [
    "#import packages\n",
    "import numpy as np\n",
    "import matplotlib.pyplot as plt\n",
    "import pandas as pd\n",
    "from tqdm import tqdm\n",
    "from requests import get\n",
    "import math"
   ]
  },
  {
   "cell_type": "markdown",
   "id": "4acbccdd-65a1-4de3-bdfd-5ccb5aa0f9d3",
   "metadata": {},
   "source": [
    "### Documentation of the api used to fetch altitudes (GET API): https://github.com/Jorl17/open-elevation"
   ]
  },
  {
   "cell_type": "code",
   "execution_count": 29,
   "id": "51b6449d-3cbe-4245-a51b-4c4611620f6a",
   "metadata": {},
   "outputs": [
    {
     "name": "stdout",
     "output_type": "stream",
     "text": [
      "34815\n"
     ]
    }
   ],
   "source": [
    "#create a training dataset for Florida species over the US\n",
    "fl_train=train.loc[train['species_present'].isin(species_fl)].copy().drop('Unnamed: 0.1', axis=1)\n",
    "print(len(fl_train))\n",
    "fl_train.to_csv('train_USA_FLspecies.csv')"
   ]
  },
  {
   "cell_type": "code",
   "execution_count": 10,
   "id": "08449a21-1df0-46e5-b17a-0b1d03516058",
   "metadata": {},
   "outputs": [
    {
     "data": {
      "text/plain": [
       "36"
      ]
     },
     "execution_count": 10,
     "metadata": {},
     "output_type": "execute_result"
    }
   ],
   "source": [
    "#load train US\n",
    "train=pd.read_csv('train_USA_FLspecies.csv')\n",
    "old_fl=pd.read_csv('habitats_fl.csv')\n",
    "species_fl=list(set(train.loc[train['state']=='Florida']['species_present'].tolist()))\n",
    "len(species_fl)"
   ]
  },
  {
   "cell_type": "code",
   "execution_count": 19,
   "id": "8def2816-6cf3-4188-91cd-df8fcb453c0d",
   "metadata": {},
   "outputs": [
    {
     "name": "stdout",
     "output_type": "stream",
     "text": [
      "3490\n",
      "3546\n"
     ]
    }
   ],
   "source": [
    "#reverse geocode method is more precise than the boundaries we used arbitrarily\n",
    "print(len(train.loc[train['state']=='Florida']))\n",
    "print(len(fl))"
   ]
  },
  {
   "cell_type": "code",
   "execution_count": 2,
   "id": "43be39e8-a9b5-49c6-b443-6c9aafda9703",
   "metadata": {},
   "outputs": [],
   "source": [
    "#load test US\n",
    "test=pd.read_csv('test_USA.csv')"
   ]
  },
  {
   "cell_type": "code",
   "execution_count": 3,
   "id": "c3f49a47-cd15-41b5-aee7-c2fd03b7af33",
   "metadata": {},
   "outputs": [],
   "source": [
    "#elevation retrieval function\n",
    "# script for returning elevation from lat, long, based on open elevation data\n",
    "# which in turn is based on SRTM\n",
    "def get_elevation(lat = None, long = None):\n",
    "    '''\n",
    "        A custom script designed to retrieve elevation data in meters based on latitude and longitude coordinates.\n",
    "    '''\n",
    "    if lat is None or long is None: return None\n",
    "    \n",
    "    query = ('https://api.open-elevation.com/api/v1/lookup'\n",
    "             f'?locations={lat},{long}')\n",
    "    \n",
    "    # Making a request with a 20-second timeout limit for sluggish responses\n",
    "    r = get(query, timeout = 20)\n",
    "\n",
    "    # Parsing the JSON response only for status codes 200 or 201\n",
    "    if r.status_code == 200 or r.status_code == 201:\n",
    "        elevation = pd.json_normalize(r.json(), 'results')['elevation'].values[0]\n",
    "    else: \n",
    "        elevation = None\n",
    "    return elevation"
   ]
  },
  {
   "cell_type": "markdown",
   "id": "1454b127-6087-42d4-aac1-840e6bdb0f2c",
   "metadata": {},
   "source": [
    "## Getting elevation data with a GET API loop"
   ]
  },
  {
   "cell_type": "code",
   "execution_count": 32,
   "id": "bc630bb3-b7e9-48b7-a8be-1810668016fb",
   "metadata": {},
   "outputs": [
    {
     "name": "stderr",
     "output_type": "stream",
     "text": [
      "100%|██████████| 34815/34815 [1:40:39<00:00,  5.76it/s]   \n"
     ]
    }
   ],
   "source": [
    "#Get a full list of altitudes from the Florida training dataset\n",
    "ids=train.index.tolist()\n",
    "altitudes=[]\n",
    "\n",
    "\n",
    "for i in tqdm(ids,position=0, leave=True):\n",
    "    lat,lon=train['Lat'][i],train['Lon'][i]\n",
    "    alt=get_elevation(lat,lon)\n",
    "    altitudes.append(alt)"
   ]
  },
  {
   "cell_type": "code",
   "execution_count": 41,
   "id": "038c1d3c-b6f1-4181-b321-2a8e3bf9ffac",
   "metadata": {},
   "outputs": [
    {
     "name": "stdout",
     "output_type": "stream",
     "text": [
      "25 gaps pending...\n",
      "\n"
     ]
    },
    {
     "name": "stderr",
     "output_type": "stream",
     "text": [
      "100%|██████████| 25/25 [00:02<00:00,  8.85it/s]\n"
     ]
    }
   ],
   "source": [
    "#retry for empty indicies\n",
    "empty=[i for i in range(len(altitudes)) if altitudes[i] == None]\n",
    "print(f'{len(empty)} gaps pending...\\n')\n",
    "\n",
    "for i in tqdm(empty):\n",
    "    locate=ids[i]\n",
    "    lat,lon=train['Lat'][locate],train['Lon'][locate]\n",
    "    alt=get_elevation(lat,lon)\n",
    "    altitudes[i]=alt\n",
    "    #if altitudes[i]!=None:\n",
    "    #    print(f'Succesful replacement at id {i}.')\n",
    "    #else:\n",
    "    #    print(f'Failed replacement at id {i}.')"
   ]
  },
  {
   "cell_type": "markdown",
   "id": "1d22041c-58d9-41b4-886e-7fa47f70cb93",
   "metadata": {},
   "source": [
    "## Save results"
   ]
  },
  {
   "cell_type": "code",
   "execution_count": 8,
   "id": "40cd7c32-24a2-49c4-a60b-947b30b03aa4",
   "metadata": {},
   "outputs": [],
   "source": [
    "#update the dataset\n",
    "train['Alt']=altitudes"
   ]
  },
  {
   "cell_type": "code",
   "execution_count": 9,
   "id": "b4dbfb7d-7e3e-4d25-9c2d-b56db073747b",
   "metadata": {},
   "outputs": [],
   "source": [
    "#save the data\n",
    "train.to_csv('train_USA_FLspecies.csv')"
   ]
  },
  {
   "cell_type": "code",
   "execution_count": 21,
   "id": "ddcd5592-aa76-470f-a2b7-e73af4afd486",
   "metadata": {},
   "outputs": [
    {
     "data": {
      "text/plain": [
       "21244"
      ]
     },
     "execution_count": 21,
     "metadata": {},
     "output_type": "execute_result"
    }
   ],
   "source": [
    "len(altitudes)"
   ]
  },
  {
   "cell_type": "code",
   "execution_count": 12,
   "id": "2b2470c1-2b39-40a8-824e-9ca6534a17be",
   "metadata": {},
   "outputs": [],
   "source": [
    "altitudes=list(train['Alt'])\n",
    "empty=[i for i in range(len(altitudes)) if math.isnan(altitudes[i])]"
   ]
  },
  {
   "cell_type": "code",
   "execution_count": 13,
   "id": "79114993-71e3-46be-90b4-b955c3256d40",
   "metadata": {},
   "outputs": [
    {
     "data": {
      "text/plain": [
       "[]"
      ]
     },
     "execution_count": 13,
     "metadata": {},
     "output_type": "execute_result"
    }
   ],
   "source": [
    "empty"
   ]
  },
  {
   "cell_type": "markdown",
   "id": "e1adb1d2-3887-4047-b779-1e643359d2b5",
   "metadata": {},
   "source": [
    "## Adjusting values not returned"
   ]
  },
  {
   "cell_type": "code",
   "execution_count": 26,
   "id": "d9ee8f16-b6c9-4691-aad2-28d10491b9dc",
   "metadata": {},
   "outputs": [
    {
     "name": "stdout",
     "output_type": "stream",
     "text": [
      "Coordinates: 14.617134 , -174.0137.\n",
      "Altitude: None\n"
     ]
    }
   ],
   "source": [
    "#test a set of coordinates\n",
    "print(f'Coordinates: {test[\"Lat\"][ids[84]]} , {test[\"Lon\"][ids[84]]}.')\n",
    "print(f'Altitude: {get_elevation(test[\"Lat\"][ids[84]],test[\"Lon\"][ids[84]])}')"
   ]
  },
  {
   "cell_type": "code",
   "execution_count": 4,
   "id": "7384c70e-8238-4331-97a3-e1a09de3e6d4",
   "metadata": {},
   "outputs": [],
   "source": [
    "#missing coordinates found a day later, reload the dataframe\n",
    "missing=pd.read_csv(\"train_USA_FLspecies.csv\")\n",
    "altitudes=list(missing['Alt'])"
   ]
  },
  {
   "cell_type": "code",
   "execution_count": 7,
   "id": "31b0cf16-69b6-46ff-9cc0-82dd494c705c",
   "metadata": {},
   "outputs": [
    {
     "name": "stdout",
     "output_type": "stream",
     "text": [
      "1 gaps pending...\n",
      "\n",
      "Succesful replacement at id 22848.\n"
     ]
    }
   ],
   "source": [
    "#retry for empty indicies (nan method)\n",
    "ids=train.index.tolist()\n",
    "#empty=[i for i in range(len(altitudes)) if math.isnan(altitudes[i])] #only for the first run\n",
    "empty=[i for i in range(len(altitudes)) if altitudes[i] == None]\n",
    "print(f'{len(empty)} gaps pending...\\n')\n",
    "\n",
    "mod=0.00001 #set this to zero if you don't want to slightly shift coordinates to get an approximate result\n",
    "\n",
    "for i in empty:\n",
    "    locate=ids[i]\n",
    "    lat,lon=train['Lat'][locate]-mod,train['Lon'][locate]-2*mod #the minus term is used to slightly modify the coordinates in order to get a response from the api\n",
    "    alt=get_elevation(lat,lon)\n",
    "    altitudes[i]=alt\n",
    "    if altitudes[i]!=None:\n",
    "        print(f'Succesful replacement at id {i}.')\n",
    "    else:\n",
    "        print(f'Failed replacement at id {i}.')"
   ]
  },
  {
   "cell_type": "markdown",
   "id": "b68f7ec6-1e18-4ac6-9aa4-660d32866f79",
   "metadata": {},
   "source": [
    "## Assign elevation levels"
   ]
  },
  {
   "cell_type": "code",
   "execution_count": 2,
   "id": "748428cf-9997-41c3-b91f-799a69fe2ccd",
   "metadata": {},
   "outputs": [],
   "source": [
    "#load test and train\n",
    "train=pd.read_csv('train_USA_FLspecies.csv')\n",
    "test=pd.read_csv('test_USA.csv')"
   ]
  },
  {
   "cell_type": "code",
   "execution_count": 20,
   "id": "b37f6da0-f054-4d23-9c01-25cd48fed794",
   "metadata": {},
   "outputs": [
    {
     "name": "stdout",
     "output_type": "stream",
     "text": [
      "-82.0 4149.0\n",
      "-71.0 3947.0\n",
      "#####\n",
      "7659\n",
      "7659\n"
     ]
    }
   ],
   "source": [
    "tr_alt=list(train['Alt'])\n",
    "te_alt=list(test['Alt'])\n",
    "print(min(tr_alt),max(tr_alt))\n",
    "print(min(te_alt),max(te_alt))\n",
    "print('#####')\n",
    "tr_low=[x for x in tr_alt if 0 < x < 25]\n",
    "te_low=[x for x in te_alt if 0 < x < 25]\n",
    "print(len(tr_low))\n",
    "print(len(tr_low))"
   ]
  },
  {
   "cell_type": "markdown",
   "id": "34b5d8d0-2248-40a0-a286-2b7076290760",
   "metadata": {},
   "source": [
    "#### Details of chosen elevation levels\n",
    "0. **Below 0.0:** sub-sea level\n",
    "\n",
    "1. **Between 0.0 and 25.0:** coastal lowlands and plains Chapter 21-Ecological subregions of the United \n",
    "States (capped by max altitude in Western Florida coastal lowlands)\n",
    "\n",
    "2. **Between 25 and 100:** lowlands (and the rest of the levels: mainly inspired by chapter 33 and the book \"The Biology of Alpine Habitats\")\n",
    "\n",
    "3. **Between 100 and 500:** foothill zones \n",
    "\n",
    "4. **Between 500 and 1000:** uphill zones \n",
    "\n",
    "5. **Between 1000 and 1500:** lower montane \n",
    "\n",
    "6. **Between 1500 and 2000:** montane \n",
    "\n",
    "7. **Between 2000 and 2500:** upper montane \n",
    "\n",
    "8. **Between 2500 and 3000:** lower alpine \n",
    "\n",
    "9. **3000 and above:** alpine"
   ]
  },
  {
   "cell_type": "code",
   "execution_count": 20,
   "id": "23902e2e-1761-4560-a69f-817a72ee50c2",
   "metadata": {},
   "outputs": [],
   "source": [
    "#extract altitudes\n",
    "tr_alt=list(train['Alt'])\n",
    "te_alt=list(test['Alt'])"
   ]
  },
  {
   "cell_type": "code",
   "execution_count": 19,
   "id": "5ee8bd25-dc68-4051-9fe1-9b99529600ab",
   "metadata": {},
   "outputs": [],
   "source": [
    "#filter and assign levels\n",
    "def alt_zonation(alt):\n",
    "    zones=alt.copy()\n",
    "    for i in range(len(alt)):\n",
    "        if alt[i] < 0.0:\n",
    "            zones[i]=0\n",
    "        elif 0.0 <= alt[i] < 25.0:\n",
    "            zones[i]=1\n",
    "        elif 25.0 <= alt[i] < 100.0:\n",
    "            zones[i]=2\n",
    "        elif 100.0 <= alt[i] < 500.0:\n",
    "            zones[i]=3\n",
    "        elif 500.0 <= alt[i] < 1000.0:\n",
    "            zones[i]=4\n",
    "        elif 1000.0 <= alt[i] < 1500.0:\n",
    "            zones[i]=5\n",
    "        elif 1500.0 <= alt[i] < 2000.0:\n",
    "            zones[i]=6\n",
    "        elif 2000.0 <= alt[i] < 2500.0:\n",
    "            zones[i]=7\n",
    "        elif 2500.0 <= alt[i] < 3000.0:\n",
    "            zones[i]=8\n",
    "        elif 3000.0 <= alt[i]:\n",
    "            zones[i]=9\n",
    "            \n",
    "    return zones"
   ]
  },
  {
   "cell_type": "code",
   "execution_count": 23,
   "id": "21f0bcb0-596d-446b-8f62-f48a772c887e",
   "metadata": {},
   "outputs": [],
   "source": [
    "#add elevation level columns to the data\n",
    "tr_zone=alt_zonation(tr_alt)\n",
    "te_zone=alt_zonation(te_alt)\n",
    "train['Alt_zone']=tr_zone\n",
    "test['Alt_zone']=te_zone"
   ]
  },
  {
   "cell_type": "code",
   "execution_count": 32,
   "id": "b15af378-e724-4b6e-a8b3-338d619e7275",
   "metadata": {},
   "outputs": [
    {
     "name": "stdout",
     "output_type": "stream",
     "text": [
      "True\n",
      "True\n",
      "True\n",
      "True\n",
      "True\n",
      "True\n",
      "True\n",
      "True\n",
      "True\n",
      "True\n"
     ]
    }
   ],
   "source": [
    "#check all levels exist in the data\n",
    "for i in range(10):\n",
    "    print(i in list(test['Alt_zone']))"
   ]
  },
  {
   "cell_type": "code",
   "execution_count": 38,
   "id": "2fd3dcab-1981-4dd3-843c-3663d8f43a2d",
   "metadata": {},
   "outputs": [],
   "source": [
    "#save US-wide florida species train data\n",
    "\n",
    "#train.to_csv('train_USA_FLspecies.csv')\n",
    "#test.to_csv('test_USA.csv')"
   ]
  },
  {
   "cell_type": "markdown",
   "id": "54c9fa3c-4645-42de-a71a-028f32db3b3a",
   "metadata": {},
   "source": [
    "### Assign altitude zonation to the full test data\n"
   ]
  },
  {
   "cell_type": "code",
   "execution_count": 2,
   "id": "0486e760-a0f1-4273-8122-91b94b13c6cf",
   "metadata": {},
   "outputs": [],
   "source": [
    "test=pd.read_csv('predictable_coordinates_USA.csv')\n",
    "full=pd.read_csv('test_USA_full.csv')"
   ]
  },
  {
   "cell_type": "code",
   "execution_count": 138,
   "id": "72da0450-ed1f-449e-bd3f-a3f35857dbd3",
   "metadata": {},
   "outputs": [
    {
     "name": "stderr",
     "output_type": "stream",
     "text": [
      "100%|██████████| 141725/141725 [1:28:25<00:00, 26.71it/s]"
     ]
    },
    {
     "name": "stdout",
     "output_type": "stream",
     "text": [
      "True\n"
     ]
    },
    {
     "name": "stderr",
     "output_type": "stream",
     "text": [
      "\n"
     ]
    }
   ],
   "source": [
    "\n",
    "#debugging a decimal issue: I don't know why but I have more decimal places in the full set, which means I have to find rounded approximates\n",
    "#fixed, it seems the biggest innate level of rounding in test_USA in 3 (longitude), so let's try to use that\n",
    "#rounding errors, simplifying to 2 decimals\n",
    "#again... 1 decimal!\n",
    "\n",
    "full_zones=[]\n",
    "\n",
    "for i in tqdm(range(len(full)),leave=True,position=0):\n",
    "    lat=round(full['Lat'][i],1)\n",
    "    lon=round(full['Lon'][i],1)\n",
    "    test_cords=round(test[['Lat','Lon']],1).to_numpy().tolist()\n",
    "    ids=[i for i in range(len(test_cords)) if test_cords[i]==[lat,lon]]\n",
    "    if len(ids) == 0 or len(ids) > 1:\n",
    "        print(f'Warning! Error encountered when matching coordinates at id {i}.')\n",
    "        break\n",
    "    full_zones.append(test['Alt_zone'][ids[0]])\n",
    "\n",
    "print(len(full_zones)==len(full))"
   ]
  },
  {
   "cell_type": "code",
   "execution_count": 3,
   "id": "97c3ce4d-a95e-4bd2-bc7c-8f79ca29eb51",
   "metadata": {},
   "outputs": [
    {
     "name": "stderr",
     "output_type": "stream",
     "text": [
      "100%|██████████| 141725/141725 [06:04<00:00, 389.30it/s]\n"
     ]
    },
    {
     "ename": "TypeError",
     "evalue": "object of type 'bool' has no len()",
     "output_type": "error",
     "traceback": [
      "\u001b[0;31m---------------------------------------------------------------------------\u001b[0m",
      "\u001b[0;31mTypeError\u001b[0m                                 Traceback (most recent call last)",
      "Cell \u001b[0;32mIn[3], line 19\u001b[0m\n\u001b[1;32m     16\u001b[0m     full_lats\u001b[38;5;241m.\u001b[39mappend(test_cords[ids[\u001b[38;5;241m0\u001b[39m]][\u001b[38;5;241m0\u001b[39m])\n\u001b[1;32m     17\u001b[0m     full_lons\u001b[38;5;241m.\u001b[39mappend(test_cords[ids[\u001b[38;5;241m0\u001b[39m]][\u001b[38;5;241m1\u001b[39m])\n\u001b[0;32m---> 19\u001b[0m \u001b[38;5;28mprint\u001b[39m(\u001b[38;5;28mlen\u001b[39m(full_lats)\u001b[38;5;241m==\u001b[39m\u001b[38;5;28;43mlen\u001b[39;49m\u001b[43m(\u001b[49m\u001b[43mfull_lons\u001b[49m\u001b[43m \u001b[49m\u001b[38;5;129;43;01mand\u001b[39;49;00m\u001b[43m \u001b[49m\u001b[38;5;28;43mlen\u001b[39;49m\u001b[43m(\u001b[49m\u001b[43mfull_lats\u001b[49m\u001b[43m)\u001b[49m\u001b[38;5;241;43m==\u001b[39;49m\u001b[38;5;28;43mlen\u001b[39;49m\u001b[43m(\u001b[49m\u001b[43mfull\u001b[49m\u001b[43m)\u001b[49m\u001b[43m)\u001b[49m)\n",
      "\u001b[0;31mTypeError\u001b[0m: object of type 'bool' has no len()"
     ]
    }
   ],
   "source": [
    "#have the coordinates match\n",
    "test_cords=test[['Lat','Lon']].to_numpy().tolist()\n",
    "rounded_test_cords=round(test[['Lat','Lon']],1).to_numpy().tolist()\n",
    "full_lats=[]\n",
    "full_lons=[]\n",
    "for i in tqdm(range(len(full)),leave=True,position=0):\n",
    "    lat=round(full['Lat'][i],1)\n",
    "    lon=round(full['Lon'][i],1)\n",
    "    \n",
    "    ids=[i for i in range(len(test_cords)) if rounded_test_cords[i]==[lat,lon]]\n",
    "    \n",
    "    if len(ids) == 0 or len(ids) > 1:\n",
    "        print(f'Warning! Error encountered when matching coordinates at id {i}.')\n",
    "        break\n",
    "    \n",
    "    full_lats.append(test_cords[ids[0]][0])\n",
    "    full_lons.append(test_cords[ids[0]][1])\n",
    "\n",
    "print(len(full_lats)==len(full_lons) and len(full_lats)==len(full)))"
   ]
  },
  {
   "cell_type": "code",
   "execution_count": 9,
   "id": "b478bf3f-5c95-4d19-8cb6-c35fc7976e2d",
   "metadata": {},
   "outputs": [
    {
     "name": "stdout",
     "output_type": "stream",
     "text": [
      "True\n"
     ]
    }
   ],
   "source": [
    "print(len(full_lats)==len(full_lons) and len(full_lats)==len(full))\n",
    "full['Lat']=full_lats\n",
    "full['Lon']=full_lons"
   ]
  },
  {
   "cell_type": "code",
   "execution_count": 16,
   "id": "9df85856-3022-45a1-a3f7-a6a00dbb84bc",
   "metadata": {},
   "outputs": [],
   "source": [
    "full.to_csv('test_USA_full.csv',index=False)"
   ]
  },
  {
   "cell_type": "code",
   "execution_count": 137,
   "id": "a8155ee7-4e5e-4829-8d3c-1f59c6d0031f",
   "metadata": {},
   "outputs": [
    {
     "name": "stdout",
     "output_type": "stream",
     "text": [
      "38.0 -83.3 [425]\n"
     ]
    }
   ],
   "source": [
    "#investigate specific coordinates\n",
    "lat=round(full['Lat'][422],1)\n",
    "lon=round(full['Lon'][422],1)\n",
    "test_cords=round(test[['Lat','Lon']],1).to_numpy().tolist()\n",
    "\n",
    "ids=[i for i in range(len(test_cords)) if test_cords[i]==[lat,lon]]\n",
    "print(lat,lon,ids)\n"
   ]
  },
  {
   "cell_type": "markdown",
   "id": "84146c7f-f923-4339-8ef7-1277e48b38fd",
   "metadata": {},
   "source": [
    "### Minor dataset adjustments and addition of 'presence' column for the test data"
   ]
  },
  {
   "cell_type": "code",
   "execution_count": 139,
   "id": "4c090121-2921-4053-a67c-f60c1a602ba2",
   "metadata": {},
   "outputs": [],
   "source": [
    "full['Alt_zone']=full_zones"
   ]
  },
  {
   "cell_type": "code",
   "execution_count": 140,
   "id": "aa56ae86-aa88-4a99-9445-b4cddbab2734",
   "metadata": {},
   "outputs": [],
   "source": [
    "full.to_csv('test_USA_full.csv')"
   ]
  },
  {
   "cell_type": "code",
   "execution_count": 2,
   "id": "c1ad4297-28ed-43aa-8d89-eb5281f7a236",
   "metadata": {},
   "outputs": [],
   "source": [
    "full=pd.read_csv('test_USA_full.csv')"
   ]
  },
  {
   "cell_type": "code",
   "execution_count": 14,
   "id": "fa380b54-93c3-4a8d-9f94-e2a0f2ee1c15",
   "metadata": {},
   "outputs": [],
   "source": [
    "full.to_csv('test_USA_full.csv')"
   ]
  }
 ],
 "metadata": {
  "kernelspec": {
   "display_name": "Python 3 (ipykernel)",
   "language": "python",
   "name": "python3"
  },
  "language_info": {
   "codemirror_mode": {
    "name": "ipython",
    "version": 3
   },
   "file_extension": ".py",
   "mimetype": "text/x-python",
   "name": "python",
   "nbconvert_exporter": "python",
   "pygments_lexer": "ipython3",
   "version": "3.11.9"
  }
 },
 "nbformat": 4,
 "nbformat_minor": 5
}
