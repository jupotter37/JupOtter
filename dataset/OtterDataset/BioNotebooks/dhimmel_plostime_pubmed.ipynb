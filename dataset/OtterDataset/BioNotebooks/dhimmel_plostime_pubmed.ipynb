{
 "cells": [
  {
   "cell_type": "markdown",
   "metadata": {},
   "source": [
    "# Query the Entrez eutils API for articles and retreive/parse each record"
   ]
  },
  {
   "cell_type": "code",
   "execution_count": 63,
   "metadata": {
    "collapsed": true
   },
   "outputs": [],
   "source": [
    "import itertools\n",
    "import time\n",
    "import gzip\n",
    "\n",
    "import xml.etree.ElementTree as ET\n",
    "import requests\n",
    "import pandas\n",
    "import numpy"
   ]
  },
  {
   "cell_type": "markdown",
   "metadata": {},
   "source": [
    "## Functions for querying pubmed"
   ]
  },
  {
   "cell_type": "code",
   "execution_count": 13,
   "metadata": {
    "collapsed": true
   },
   "outputs": [],
   "source": [
    "def esearch_query(payload, retmax = 10000, sleep=3):\n",
    "    \"\"\"\n",
    "    Query the esearch E-utility.\n",
    "    \"\"\"\n",
    "    url = 'http://eutils.ncbi.nlm.nih.gov/entrez/eutils/esearch.fcgi'\n",
    "    payload['retmax'] = retmax\n",
    "    payload['retstart'] = 0\n",
    "    ids = list()\n",
    "    count = 1\n",
    "    while payload['retstart'] < count:\n",
    "        response = requests.get(url, params=payload)\n",
    "        xml = ET.fromstring(response.content)\n",
    "        count = int(xml.findtext('Count'))\n",
    "        ids += [xml_id.text for xml_id in xml.findall('IdList/Id')]\n",
    "        payload['retstart'] += retmax\n",
    "        time.sleep(sleep)\n",
    "    return ids"
   ]
  },
  {
   "cell_type": "code",
   "execution_count": 3,
   "metadata": {
    "collapsed": true
   },
   "outputs": [],
   "source": [
    "def esummary_query(ids, retmax=100, sleep=2):\n",
    "    url = 'http://eutils.ncbi.nlm.nih.gov/entrez/eutils/esummary.fcgi'\n",
    "    id_subsets = (ids[i:i+retmax] for i in range(0, len(ids), retmax))\n",
    "    elements = list()\n",
    "    for id_subset in id_subsets:\n",
    "        id_string = ','.join(map(str, id_subset))\n",
    "        payload = {'db': 'pubmed', 'id': id_string}\n",
    "        response = requests.get(url, params=payload)\n",
    "        xml = ET.fromstring(response.text)\n",
    "        elements += xml.getchildren()\n",
    "        time.sleep(sleep)\n",
    "    return elements"
   ]
  },
  {
   "cell_type": "code",
   "execution_count": 4,
   "metadata": {
    "collapsed": false
   },
   "outputs": [],
   "source": [
    "def parse_doc_summary(elem):\n",
    "    doc = dict()\n",
    "    doc['pubmed_id'] = elem.findtext(\"Id\")\n",
    "    doc['pubdate'] = elem.findtext(\"Item[@Name='PubDate']\")\n",
    "    doc['epub_date'] = elem.findtext(\"Item[@Name='EPubDate']\")\n",
    "    doc['journal_abbrev'] = elem.findtext(\"Item[@Name='Source']\")\n",
    "    doc['date_received'] = elem.findtext(\"Item[@Name='History']/Item[@Name='received']\")\n",
    "    doc['date_accepted'] = elem.findtext(\"Item[@Name='History']/Item[@Name='accepted']\")\n",
    "    doc['date_epublish'] = elem.findtext(\"Item[@Name='History']/Item[@Name='epublish']\")\n",
    "    doc['date_pubmed'] = elem.findtext(\"Item[@Name='History']/Item[@Name='pubmed']\")\n",
    "    doc['date_medline'] = elem.findtext(\"Item[@Name='History']/Item[@Name='medline']\")\n",
    "    doc['doi'] = elem.findtext(\"Item[@Name='DOI']\")\n",
    "    doc['journal'] = elem.findtext(\"Item[@Name='FullJournalName']\")\n",
    "    doc['pubtype'] = '|'.join(x.text for x in elem.findall(\"Item[@Name='PubTypeList']/Item[@Name='PubType']\"))\n",
    "    return doc"
   ]
  },
  {
   "cell_type": "markdown",
   "metadata": {},
   "source": [
    "## Retreive pubmed information for all PLOS publications"
   ]
  },
  {
   "cell_type": "code",
   "execution_count": 5,
   "metadata": {
    "collapsed": false
   },
   "outputs": [],
   "source": [
    "journals = [\n",
    "    'PLoS Biol',\n",
    "    'PLoS Comput Biol',\n",
    "    'PLoS Genet',\n",
    "    'PLoS Med',\n",
    "    'PLoS Negl Trop Dis',\n",
    "    'PLoS Pathog',\n",
    "    'PloS One'\n",
    "]"
   ]
  },
  {
   "cell_type": "code",
   "execution_count": 6,
   "metadata": {
    "collapsed": false
   },
   "outputs": [
    {
     "name": "stdout",
     "output_type": "stream",
     "text": [
      "PLoS Biol\n",
      "PLoS Comput Biol\n",
      "PLoS Genet\n",
      "PLoS Med\n",
      "PLoS Negl Trop Dis\n",
      "PLoS Pathog\n",
      "PloS One\n"
     ]
    },
    {
     "data": {
      "text/plain": [
       "151728"
      ]
     },
     "execution_count": 6,
     "metadata": {},
     "output_type": "execute_result"
    }
   ],
   "source": [
    "pubmed_ids = list()\n",
    "for journal in journals:\n",
    "    print(journal)\n",
    "    payload = {'db': 'pubmed', 'term': '{}[journal]'.format(journal)}\n",
    "    pubmed_ids += esearch_query(payload)\n",
    "\n",
    "len(pubmed_ids)"
   ]
  },
  {
   "cell_type": "code",
   "execution_count": 7,
   "metadata": {
    "collapsed": false
   },
   "outputs": [],
   "source": [
    "docs = esummary_query(pubmed_ids, retmax=500)\n",
    "pubmed_df = pandas.DataFrame(list(map(parse_doc_summary, docs)))"
   ]
  },
  {
   "cell_type": "code",
   "execution_count": 8,
   "metadata": {
    "collapsed": true
   },
   "outputs": [],
   "source": [
    "with gzip.open('data/pubmed-plos.tsv.gz', 'wt') as write_file:\n",
    "    pubmed_df.to_csv(write_file, index=False, sep='\\t')"
   ]
  },
  {
   "cell_type": "code",
   "execution_count": 9,
   "metadata": {
    "collapsed": false
   },
   "outputs": [
    {
     "data": {
      "text/html": [
       "<div>\n",
       "<table border=\"1\" class=\"dataframe\">\n",
       "  <thead>\n",
       "    <tr style=\"text-align: right;\">\n",
       "      <th></th>\n",
       "      <th>date_accepted</th>\n",
       "      <th>date_epublish</th>\n",
       "      <th>date_medline</th>\n",
       "      <th>date_pubmed</th>\n",
       "      <th>date_received</th>\n",
       "      <th>doi</th>\n",
       "      <th>epub_date</th>\n",
       "      <th>journal</th>\n",
       "      <th>journal_abbrev</th>\n",
       "      <th>pubdate</th>\n",
       "      <th>pubmed_id</th>\n",
       "      <th>pubtype</th>\n",
       "    </tr>\n",
       "  </thead>\n",
       "  <tbody>\n",
       "    <tr>\n",
       "      <th>0</th>\n",
       "      <td>None</td>\n",
       "      <td>2015/06/23 00:00</td>\n",
       "      <td>2015/06/24 06:00</td>\n",
       "      <td>2015/06/24 06:00</td>\n",
       "      <td>None</td>\n",
       "      <td>10.1371/journal.pbio.1002185</td>\n",
       "      <td>2015 Jun 23</td>\n",
       "      <td>PLoS biology</td>\n",
       "      <td>PLoS Biol</td>\n",
       "      <td>2015 Jun</td>\n",
       "      <td>26102073</td>\n",
       "      <td>Journal Article</td>\n",
       "    </tr>\n",
       "    <tr>\n",
       "      <th>1</th>\n",
       "      <td>None</td>\n",
       "      <td>2015/06/22 00:00</td>\n",
       "      <td>2015/06/23 06:00</td>\n",
       "      <td>2015/06/23 06:00</td>\n",
       "      <td>None</td>\n",
       "      <td>10.1371/journal.pbio.1002182</td>\n",
       "      <td>2015 Jun 22</td>\n",
       "      <td>PLoS biology</td>\n",
       "      <td>PLoS Biol</td>\n",
       "      <td>2015 Jun</td>\n",
       "      <td>26098912</td>\n",
       "      <td>Journal Article</td>\n",
       "    </tr>\n",
       "    <tr>\n",
       "      <th>2</th>\n",
       "      <td>2015/05/12 00:00</td>\n",
       "      <td>2015/06/22 00:00</td>\n",
       "      <td>2015/06/23 06:00</td>\n",
       "      <td>2015/06/23 06:00</td>\n",
       "      <td>2015/01/23 00:00</td>\n",
       "      <td>10.1371/journal.pbio.1002181</td>\n",
       "      <td>2015 Jun 22</td>\n",
       "      <td>PLoS biology</td>\n",
       "      <td>PLoS Biol</td>\n",
       "      <td>2015 Jun</td>\n",
       "      <td>26098891</td>\n",
       "      <td>Journal Article</td>\n",
       "    </tr>\n",
       "    <tr>\n",
       "      <th>3</th>\n",
       "      <td>2015/05/12 00:00</td>\n",
       "      <td>2015/06/22 00:00</td>\n",
       "      <td>2015/06/23 06:00</td>\n",
       "      <td>2015/06/23 06:00</td>\n",
       "      <td>2014/10/22 00:00</td>\n",
       "      <td>10.1371/journal.pbio.1002180</td>\n",
       "      <td>2015 Jun 22</td>\n",
       "      <td>PLoS biology</td>\n",
       "      <td>PLoS Biol</td>\n",
       "      <td>2015 Jun</td>\n",
       "      <td>26098873</td>\n",
       "      <td>Journal Article</td>\n",
       "    </tr>\n",
       "    <tr>\n",
       "      <th>4</th>\n",
       "      <td>None</td>\n",
       "      <td>2015/06/22 00:00</td>\n",
       "      <td>2015/06/23 06:00</td>\n",
       "      <td>2015/06/23 06:00</td>\n",
       "      <td>None</td>\n",
       "      <td>10.1371/journal.pbio.1002179</td>\n",
       "      <td>2015 Jun 22</td>\n",
       "      <td>PLoS biology</td>\n",
       "      <td>PLoS Biol</td>\n",
       "      <td>2015 Jun</td>\n",
       "      <td>26098828</td>\n",
       "      <td>Journal Article</td>\n",
       "    </tr>\n",
       "  </tbody>\n",
       "</table>\n",
       "</div>"
      ],
      "text/plain": [
       "      date_accepted     date_epublish      date_medline       date_pubmed  \\\n",
       "0              None  2015/06/23 00:00  2015/06/24 06:00  2015/06/24 06:00   \n",
       "1              None  2015/06/22 00:00  2015/06/23 06:00  2015/06/23 06:00   \n",
       "2  2015/05/12 00:00  2015/06/22 00:00  2015/06/23 06:00  2015/06/23 06:00   \n",
       "3  2015/05/12 00:00  2015/06/22 00:00  2015/06/23 06:00  2015/06/23 06:00   \n",
       "4              None  2015/06/22 00:00  2015/06/23 06:00  2015/06/23 06:00   \n",
       "\n",
       "      date_received                           doi    epub_date       journal  \\\n",
       "0              None  10.1371/journal.pbio.1002185  2015 Jun 23  PLoS biology   \n",
       "1              None  10.1371/journal.pbio.1002182  2015 Jun 22  PLoS biology   \n",
       "2  2015/01/23 00:00  10.1371/journal.pbio.1002181  2015 Jun 22  PLoS biology   \n",
       "3  2014/10/22 00:00  10.1371/journal.pbio.1002180  2015 Jun 22  PLoS biology   \n",
       "4              None  10.1371/journal.pbio.1002179  2015 Jun 22  PLoS biology   \n",
       "\n",
       "  journal_abbrev   pubdate pubmed_id          pubtype  \n",
       "0      PLoS Biol  2015 Jun  26102073  Journal Article  \n",
       "1      PLoS Biol  2015 Jun  26098912  Journal Article  \n",
       "2      PLoS Biol  2015 Jun  26098891  Journal Article  \n",
       "3      PLoS Biol  2015 Jun  26098873  Journal Article  \n",
       "4      PLoS Biol  2015 Jun  26098828  Journal Article  "
      ]
     },
     "execution_count": 9,
     "metadata": {},
     "output_type": "execute_result"
    }
   ],
   "source": [
    "pubmed_df.head()"
   ]
  },
  {
   "cell_type": "markdown",
   "metadata": {
    "collapsed": true
   },
   "source": [
    "## Retreive pubmed information for all publications since 2014"
   ]
  },
  {
   "cell_type": "code",
   "execution_count": 15,
   "metadata": {
    "collapsed": false,
    "scrolled": true
   },
   "outputs": [],
   "source": [
    "payload = {'db': 'pubmed', 'mindate': '2014', 'maxdate': '2015'}\n",
    "recent_ids = esearch_query(payload)"
   ]
  },
  {
   "cell_type": "code",
   "execution_count": 16,
   "metadata": {
    "collapsed": false
   },
   "outputs": [
    {
     "data": {
      "text/plain": [
       "1572538"
      ]
     },
     "execution_count": 16,
     "metadata": {},
     "output_type": "execute_result"
    }
   ],
   "source": [
    "# articles in pubmed since 2014\n",
    "len(recent_ids)"
   ]
  },
  {
   "cell_type": "code",
   "execution_count": 18,
   "metadata": {
    "collapsed": false
   },
   "outputs": [],
   "source": [
    "docs = esummary_query(recent_ids, retmax=450, sleep=2.1)\n",
    "recent_df = pandas.DataFrame(list(map(parse_doc_summary, docs)))\n",
    "with gzip.open('data/pubmed-since-2014.tsv.gz', 'wt') as write_file:\n",
    "    recent_df.to_csv(write_file, index=False, sep='\\t')"
   ]
  }
 ],
 "metadata": {
  "kernelspec": {
   "display_name": "Python 3",
   "language": "python",
   "name": "python3"
  },
  "language_info": {
   "codemirror_mode": {
    "name": "ipython",
    "version": 3
   },
   "file_extension": ".py",
   "mimetype": "text/x-python",
   "name": "python",
   "nbconvert_exporter": "python",
   "pygments_lexer": "ipython3",
   "version": "3.4.3"
  }
 },
 "nbformat": 4,
 "nbformat_minor": 0
}
