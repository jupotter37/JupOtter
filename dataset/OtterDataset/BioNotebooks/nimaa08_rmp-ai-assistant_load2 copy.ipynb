{
 "cells": [
  {
   "cell_type": "code",
   "execution_count": 1,
   "metadata": {},
   "outputs": [
    {
     "name": "stderr",
     "output_type": "stream",
     "text": [
      "c:\\Python312\\Lib\\site-packages\\pinecone\\data\\index.py:1: TqdmWarning: IProgress not found. Please update jupyter and ipywidgets. See https://ipywidgets.readthedocs.io/en/stable/user_install.html\n",
      "  from tqdm.autonotebook import tqdm\n"
     ]
    }
   ],
   "source": [
    "from dotenv import load_dotenv\n",
    "load_dotenv()\n",
    "from pinecone import Pinecone, ServerlessSpec\n",
    "from openai import OpenAI\n",
    "import os\n",
    "import json\n"
   ]
  },
  {
   "cell_type": "code",
   "execution_count": 2,
   "metadata": {},
   "outputs": [],
   "source": [
    "import os\n",
    "from pathlib import Path\n",
    "import pinecone\n",
    "from pprint import pprint\n",
    "\n",
    "#from langchain.vectorstores import Pinecone\n",
    "from langchain.document_loaders import PyPDFLoader\n",
    "from langchain.text_splitter import RecursiveCharacterTextSplitter\n",
    "from langchain.embeddings import HuggingFaceEmbeddings\n",
    "from sentence_transformers import SentenceTransformer\n",
    "from langchain_google_genai import GoogleGenerativeAIEmbeddings\n",
    "\n",
    "from langchain_google_genai import ChatGoogleGenerativeAI\n",
    "from langchain.chains.question_answering import load_qa_chain\n",
    "from langchain import PromptTemplate\n",
    "\n",
    "import google.generativeai as genai"
   ]
  },
  {
   "cell_type": "code",
   "execution_count": 3,
   "metadata": {},
   "outputs": [],
   "source": [
    "PINECONE_API_KEY= \"9ad6e8f9-0adb-4f03-b03b-2b94e650ecf0\""
   ]
  },
  {
   "cell_type": "code",
   "execution_count": 4,
   "metadata": {},
   "outputs": [
    {
     "name": "stderr",
     "output_type": "stream",
     "text": [
      "c:\\Python312\\Lib\\site-packages\\huggingface_hub\\file_download.py:159: UserWarning: `huggingface_hub` cache-system uses symlinks by default to efficiently store duplicated files but your machine does not support them in C:\\Users\\Poornima\\.cache\\huggingface\\hub\\models--intfloat--multilingual-e5-large. Caching files will still work but in a degraded version that might require more space on your disk. This warning can be disabled by setting the `HF_HUB_DISABLE_SYMLINKS_WARNING` environment variable. For more details, see https://huggingface.co/docs/huggingface_hub/how-to-cache#limitations.\n",
      "To support symlinks on Windows, you either need to activate Developer Mode or to run Python as an administrator. In order to see activate developer mode, see this article: https://docs.microsoft.com/en-us/windows/apps/get-started/enable-your-device-for-development\n",
      "  warnings.warn(message)\n"
     ]
    }
   ],
   "source": [
    "#model_name = \"sentence-transformers/paraphrase-multilingual-mpnet-base-v2\"\n",
    "#\"jinaai/jina-embeddings-v2-base-en\", # switch to en/zh for English or Chinese\n",
    "# trust_remote_code=True\n",
    "\n",
    "model_name = SentenceTransformer(\n",
    "    \"intfloat/multilingual-e5-large\", # switch to en/zh for English or Chinese\n",
    "    trust_remote_code=True\n",
    ")\n",
    "\n",
    "#embeddings = HuggingFaceEmbeddings(model_name = model_name)"
   ]
  },
  {
   "cell_type": "code",
   "execution_count": 5,
   "metadata": {},
   "outputs": [],
   "source": [
    "pc = Pinecone(api_key=\"9ad6e8f9-0adb-4f03-b03b-2b94e650ecf0\")"
   ]
  },
  {
   "cell_type": "code",
   "execution_count": 6,
   "metadata": {},
   "outputs": [],
   "source": [
    "\n",
    "\n",
    "dim = 1024\n",
    "\n",
    "# Create a Pinecone index\n",
    "pc.create_index(\n",
    "    name=\"rag-index\",\n",
    "    dimension=dim,\n",
    "    metric=\"cosine\",\n",
    "       spec=ServerlessSpec(cloud=\"aws\", region=\"us-east-1\"),\n",
    ")\n",
    "    "
   ]
  },
  {
   "cell_type": "code",
   "execution_count": 8,
   "metadata": {},
   "outputs": [],
   "source": [
    "data = json.load(open(\"reviews.json\"))"
   ]
  },
  {
   "cell_type": "code",
   "execution_count": 9,
   "metadata": {},
   "outputs": [
    {
     "name": "stdout",
     "output_type": "stream",
     "text": [
      "[ 0.02432381 -0.02364407 -0.02100378 ... -0.00223902 -0.02795023\n",
      "  0.00475863]\n",
      "[-0.00092918  0.01592753 -0.02330413 ... -0.03121607 -0.011764\n",
      " -0.0118153 ]\n",
      "[ 0.0177086  -0.02911551  0.0022586  ... -0.00421246 -0.01322166\n",
      "  0.02484181]\n",
      "[ 0.00983218  0.00582714 -0.02218431 ... -0.04082119 -0.02098964\n",
      "  0.00941287]\n",
      "[ 0.01146369  0.01084676 -0.04239646 ... -0.04071549 -0.04683482\n",
      "  0.02721784]\n",
      "[ 0.02143234  0.00369757 -0.02597647 ... -0.02674247 -0.03878894\n",
      "  0.00024299]\n",
      "[ 0.0058188  -0.02052629 -0.02318107 ... -0.00289585 -0.01324174\n",
      "  0.01334855]\n",
      "[ 0.00435513  0.00102532 -0.02066496 ... -0.01982301 -0.01021237\n",
      "  0.01662004]\n",
      "[ 0.03244032 -0.01726412 -0.02438657 ... -0.01283096 -0.03496867\n",
      " -0.00700557]\n",
      "[-0.00209978 -0.00979444 -0.02363471 ... -0.03463656 -0.02126561\n",
      " -0.00039217]\n",
      "[ 0.00467627  0.00158913 -0.02305844 ... -0.01281487 -0.01914744\n",
      " -0.00092732]\n",
      "[ 0.00342707  0.0022107  -0.03820909 ... -0.03097768 -0.04567344\n",
      "  0.00622324]\n",
      "[-0.00826303 -0.00509928 -0.02697211 ... -0.01670809 -0.02894051\n",
      "  0.01016957]\n",
      "[-0.00541011 -0.00027636 -0.0241953  ... -0.01922382 -0.03968059\n",
      "  0.0168672 ]\n",
      "[-0.0068947  -0.01338234 -0.04010641 ... -0.01634189 -0.02225423\n",
      "  0.00031445]\n",
      "[ 0.00189956 -0.00621333 -0.03674649 ... -0.02355771 -0.01717309\n",
      "  0.00720246]\n",
      "[ 0.00794316 -0.0236062  -0.0270243  ... -0.01411985 -0.02134131\n",
      "  0.00421639]\n",
      "[ 0.00694478 -0.00047896 -0.02956366 ... -0.03590179 -0.01035643\n",
      " -0.02406784]\n",
      "[ 0.01203495 -0.00997918 -0.0249542  ...  0.00593026 -0.04453336\n",
      "  0.00201866]\n",
      "[ 0.00169055 -0.00137502 -0.03068953 ... -0.0252131  -0.01369473\n",
      "  0.02712881]\n",
      "[ 0.02780051  0.02063259 -0.03282184 ... -0.01747297 -0.02674679\n",
      "  0.00623005]\n",
      "[ 0.0072113  -0.00619749 -0.03498581 ... -0.00710533 -0.04066516\n",
      " -0.0249524 ]\n",
      "[-0.00354811 -0.01793069 -0.02524109 ... -0.0114003  -0.04070434\n",
      "  0.03231659]\n",
      "[ 0.01522476 -0.02564399 -0.01623546 ... -0.00646729 -0.03218786\n",
      "  0.00911787]\n",
      "[-0.00234185  0.01124332 -0.04108318 ... -0.03076823 -0.02869852\n",
      "  0.02571688]\n",
      "[ 0.01580201 -0.0270053  -0.01534052 ... -0.00716379 -0.03612316\n",
      "  0.01462716]\n",
      "[ 0.00901562 -0.01020984 -0.01584379 ... -0.05284813 -0.02371064\n",
      " -0.00200009]\n",
      "[ 0.03506909 -0.00547235 -0.02959526 ... -0.01674122 -0.01712682\n",
      "  0.01012275]\n",
      "[ 0.00814871  0.03252229 -0.05526342 ... -0.02877232 -0.00868272\n",
      " -0.0290972 ]\n",
      "[ 0.02296602  0.01163085 -0.01084081 ... -0.01914788 -0.02382014\n",
      "  0.00070903]\n",
      "[ 1.77610014e-02  1.73002705e-02 -2.06298158e-02 ... -2.37072650e-02\n",
      " -1.39283575e-02  5.55192782e-05]\n",
      "[ 0.00800928 -0.02339788 -0.04255089 ... -0.0027124  -0.00797755\n",
      " -0.00193357]\n",
      "[-0.00240737  0.01287833 -0.02781763 ... -0.01988808 -0.03542433\n",
      "  0.02004338]\n",
      "[ 0.02225053 -0.01081933 -0.01888498 ...  0.00960713 -0.03646453\n",
      " -0.02368451]\n",
      "[-0.01558809 -0.01493488 -0.06007412 ... -0.01537075 -0.00626825\n",
      "  0.00879802]\n",
      "[ 0.01056252 -0.01372006 -0.02519236 ... -0.00539128 -0.01801092\n",
      " -0.00245284]\n",
      "[-0.00217978 -0.00915567 -0.0452028  ... -0.04588949 -0.01536569\n",
      "  0.01207514]\n",
      "[ 0.0124395  -0.0112569  -0.02439691 ... -0.01198126 -0.00968009\n",
      "  0.01249605]\n",
      "[ 0.00546674 -0.0095146  -0.02778683 ... -0.00763802 -0.04114898\n",
      " -0.00140619]\n",
      "[ 0.02237879 -0.00579844 -0.01884173 ...  0.00684442 -0.00728606\n",
      " -0.04659034]\n",
      "[ 0.02799067  0.0009531  -0.03221334 ... -0.02475397 -0.01929663\n",
      "  0.01753384]\n",
      "[-0.01539837 -0.00130667 -0.02237504 ... -0.01112024 -0.03717783\n",
      " -0.01837892]\n",
      "[-0.00241495  0.0086062  -0.03761201 ... -0.02959729 -0.01601031\n",
      " -0.01681406]\n",
      "[-0.00095327 -0.00630157 -0.01066444 ... -0.00908234 -0.02749804\n",
      " -0.00440136]\n",
      "[ 0.00498505  0.0063597  -0.02649287 ... -0.03177485 -0.02370371\n",
      "  0.02687693]\n",
      "[ 0.02367811 -0.00601828 -0.02698954 ... -0.00706008 -0.02050111\n",
      "  0.00786442]\n",
      "[-0.00637588 -0.00962409 -0.04053593 ... -0.02819799 -0.0137291\n",
      "  0.02364537]\n",
      "[ 0.01566191 -0.02873863 -0.00830163 ... -0.02420105 -0.01728545\n",
      "  0.01749404]\n",
      "[ 0.01912407 -0.00353709 -0.03851279 ... -0.02076363 -0.00700816\n",
      " -0.00939057]\n"
     ]
    }
   ],
   "source": [
    "#create embedding for each review and store in vector db\n",
    "\n",
    "processed_data = []\n",
    "for reviews in data[\"professor_reviews\"]: \n",
    "    #for review in reviews: \n",
    "        #embedding = embeddings.embed_query(reviews[\"comment\"])\n",
    "        embedding = model_name.encode(reviews[\"comment\"])\n",
    "        print(embedding)\n",
    "        processed_data.append(\n",
    "        {\n",
    "            \"values\": embedding,\n",
    "            \"id\": reviews[\"name\"],\n",
    "            \"metadata\":{\n",
    "                \"review\": reviews[\"comment\"],\n",
    "                \"subject\": reviews[\"subject\"],\n",
    "                \"stars\": reviews[\"rating\"],\n",
    "            }\n",
    "        }\n",
    "        )\n",
    "\n",
    "         "
   ]
  },
  {
   "cell_type": "code",
   "execution_count": 10,
   "metadata": {},
   "outputs": [
    {
     "name": "stdout",
     "output_type": "stream",
     "text": [
      "[{'values': array([ 0.02432381, -0.02364407, -0.02100378, ..., -0.00223902,\n",
      "       -0.02795023,  0.00475863], dtype=float32), 'id': 'Dr. Sarah Johnson', 'metadata': {'review': 'Excellent at explaining complex concepts. Engaging lectures!', 'subject': 'Physics', 'stars': 4.5}}, {'values': array([-0.00092918,  0.01592753, -0.02330413, ..., -0.03121607,\n",
      "       -0.011764  , -0.0118153 ], dtype=float32), 'id': 'Prof. Michael Lee', 'metadata': {'review': 'Knowledgeable, but assignments can be unclear.', 'subject': 'Literature', 'stars': 3.0}}, {'values': array([ 0.0177086 , -0.02911551,  0.0022586 , ..., -0.00421246,\n",
      "       -0.01322166,  0.02484181], dtype=float32), 'id': 'Dr. Emily Chen', 'metadata': {'review': 'Fantastic teacher! Always available for extra help.', 'subject': 'Computer Science', 'stars': 4.8}}, {'values': array([ 0.00983218,  0.00582714, -0.02218431, ..., -0.04082119,\n",
      "       -0.02098964,  0.00941287], dtype=float32), 'id': 'Prof. Robert Taylor', 'metadata': {'review': 'Lectures are dry. Needs more interactive elements.', 'subject': 'History', 'stars': 2.5}}, {'values': array([ 0.01146369,  0.01084676, -0.04239646, ..., -0.04071549,\n",
      "       -0.04683482,  0.02721784], dtype=float32), 'id': 'Dr. Amanda Rodriguez', 'metadata': {'review': 'Great lab sessions, but exams are very challenging.', 'subject': 'Biology', 'stars': 4.2}}, {'values': array([ 0.02143234,  0.00369757, -0.02597647, ..., -0.02674247,\n",
      "       -0.03878894,  0.00024299], dtype=float32), 'id': 'Prof. David Kim', 'metadata': {'review': 'Clear explanations, but moves through material quickly.', 'subject': 'Mathematics', 'stars': 3.7}}, {'values': array([ 0.0058188 , -0.02052629, -0.02318107, ..., -0.00289585,\n",
      "       -0.01324174,  0.01334855], dtype=float32), 'id': 'Dr. Lisa Brown', 'metadata': {'review': 'Passionate about the subject. Makes class enjoyable!', 'subject': 'Psychology', 'stars': 4.9}}, {'values': array([ 0.00435513,  0.00102532, -0.02066496, ..., -0.01982301,\n",
      "       -0.01021237,  0.01662004], dtype=float32), 'id': 'Prof. James Wilson', 'metadata': {'review': 'Knowledgeable, but not very approachable.', 'subject': 'Economics', 'stars': 3.3}}, {'values': array([ 0.03244032, -0.01726412, -0.02438657, ..., -0.01283096,\n",
      "       -0.03496867, -0.00700557], dtype=float32), 'id': 'Dr. Maria Garcia', 'metadata': {'review': 'Excellent at breaking down complex topics.', 'subject': 'Chemistry', 'stars': 4.6}}, {'values': array([-0.00209978, -0.00979444, -0.02363471, ..., -0.03463656,\n",
      "       -0.02126561, -0.00039217], dtype=float32), 'id': 'Prof. Thomas Wright', 'metadata': {'review': 'Thought-provoking discussions, but grading can be subjective.', 'subject': 'Philosophy', 'stars': 3.8}}, {'values': array([ 0.00467627,  0.00158913, -0.02305844, ..., -0.01281487,\n",
      "       -0.01914744, -0.00092732], dtype=float32), 'id': 'Dr. Rachel Green', 'metadata': {'review': 'Engaging field trips and practical applications.', 'subject': 'Environmental Science', 'stars': 4.4}}, {'values': array([ 0.00342707,  0.0022107 , -0.03820909, ..., -0.03097768,\n",
      "       -0.04567344,  0.00622324], dtype=float32), 'id': 'Prof. Daniel Martinez', 'metadata': {'review': 'Interesting material, but lectures can be disorganized.', 'subject': 'Sociology', 'stars': 3.5}}, {'values': array([-0.00826303, -0.00509928, -0.02697211, ..., -0.01670809,\n",
      "       -0.02894051,  0.01016957], dtype=float32), 'id': 'Dr. Jessica Lee', 'metadata': {'review': 'Challenging course, but Dr. Lee makes it accessible.', 'subject': 'Neuroscience', 'stars': 4.7}}, {'values': array([-0.00541011, -0.00027636, -0.0241953 , ..., -0.01922382,\n",
      "       -0.03968059,  0.0168672 ], dtype=float32), 'id': 'Prof. William Turner', 'metadata': {'review': 'Passionate about art, but heavy workload.', 'subject': 'Art History', 'stars': 3.9}}, {'values': array([-0.0068947 , -0.01338234, -0.04010641, ..., -0.01634189,\n",
      "       -0.02225423,  0.00031445], dtype=float32), 'id': 'Dr. Kevin Patel', 'metadata': {'review': 'Great industry insights, but tough grader.', 'subject': 'Engineering', 'stars': 4.1}}, {'values': array([ 0.00189956, -0.00621333, -0.03674649, ..., -0.02355771,\n",
      "       -0.01717309,  0.00720246], dtype=float32), 'id': 'Prof. Laura Simpson', 'metadata': {'review': 'Knowledgeable, but tends to favor certain viewpoints.', 'subject': 'Political Science', 'stars': 3.2}}, {'values': array([ 0.00794316, -0.0236062 , -0.0270243 , ..., -0.01411985,\n",
      "       -0.02134131,  0.00421639], dtype=float32), 'id': 'Dr. Christopher Lee', 'metadata': {'review': 'Excellent field trips, brings the subject to life.', 'subject': 'Geology', 'stars': 4.3}}, {'values': array([ 0.00694478, -0.00047896, -0.02956366, ..., -0.03590179,\n",
      "       -0.01035643, -0.02406784], dtype=float32), 'id': 'Prof. Olivia Carter', 'metadata': {'review': 'Interesting topics, but assignments can be vague.', 'subject': 'Linguistics', 'stars': 3.6}}, {'values': array([ 0.01203495, -0.00997918, -0.0249542 , ...,  0.00593026,\n",
      "       -0.04453336,  0.00201866], dtype=float32), 'id': 'Dr. Mark Johnson', 'metadata': {'review': 'Captivating lectures, makes complex concepts understandable.', 'subject': 'Astronomy', 'stars': 4.8}}, {'values': array([ 0.00169055, -0.00137502, -0.03068953, ..., -0.0252131 ,\n",
      "       -0.01369473,  0.02712881], dtype=float32), 'id': 'Prof. Sophia Nguyen', 'metadata': {'review': 'Engaging discussions, but lectures can be repetitive.', 'subject': 'Anthropology', 'stars': 3.4}}, {'values': array([ 0.02780051,  0.02063259, -0.03282184, ..., -0.01747297,\n",
      "       -0.02674679,  0.00623005], dtype=float32), 'id': 'Dr. Alan Robbins', 'metadata': {'review': 'Clear explanations, but pace can be too fast.', 'subject': 'Statistics', 'stars': 3.7}}, {'values': array([ 0.0072113 , -0.00619749, -0.03498581, ..., -0.00710533,\n",
      "       -0.04066516, -0.0249524 ], dtype=float32), 'id': 'Prof. Natalie Wong', 'metadata': {'review': 'Great real-world examples, helpful for career prospects.', 'subject': 'Marketing', 'stars': 4.2}}, {'values': array([-0.00354811, -0.01793069, -0.02524109, ..., -0.0114003 ,\n",
      "       -0.04070434,  0.03231659], dtype=float32), 'id': 'Dr. Eric Sanders', 'metadata': {'review': 'Tough course, but Dr. Sanders is always willing to help.', 'subject': 'Organic Chemistry', 'stars': 3.9}}, {'values': array([ 0.01522476, -0.02564399, -0.01623546, ..., -0.00646729,\n",
      "       -0.03218786,  0.00911787], dtype=float32), 'id': 'Prof. Grace Miller', 'metadata': {'review': 'Passionate and inspiring. Makes theory enjoyable.', 'subject': 'Music Theory', 'stars': 4.5}}, {'values': array([-0.00234185,  0.01124332, -0.04108318, ..., -0.03076823,\n",
      "       -0.02869852,  0.02571688], dtype=float32), 'id': \"Dr. Patrick O'Brien\", 'metadata': {'review': 'Interesting lab work, but lectures can be dry.', 'subject': 'Microbiology', 'stars': 3.8}}, {'values': array([ 0.01580201, -0.0270053 , -0.01534052, ..., -0.00716379,\n",
      "       -0.03612316,  0.01462716], dtype=float32), 'id': 'Prof. Samantha Lewis', 'metadata': {'review': 'Excellent teaching methods, makes learning fun.', 'subject': 'World Languages', 'stars': 4.6}}, {'values': array([ 0.00901562, -0.01020984, -0.01584379, ..., -0.05284813,\n",
      "       -0.02371064, -0.00200009], dtype=float32), 'id': 'Dr. Benjamin Harris', 'metadata': {'review': 'Knowledgeable, but can be impatient with questions.', 'subject': 'Electrical Engineering', 'stars': 3.5}}, {'values': array([ 0.03506909, -0.00547235, -0.02959526, ..., -0.01674122,\n",
      "       -0.01712682,  0.01012275], dtype=float32), 'id': 'Prof. Emma Thompson', 'metadata': {'review': 'Insightful analysis and engaging discussions.', 'subject': 'Film Studies', 'stars': 4.4}}, {'values': array([ 0.00814871,  0.03252229, -0.05526342, ..., -0.02877232,\n",
      "       -0.00868272, -0.0290972 ], dtype=float32), 'id': 'Dr. Ryan Clark', 'metadata': {'review': 'Informative, but could use more practical applications.', 'subject': 'Nutrition', 'stars': 3.3}}, {'values': array([ 0.02296602,  0.01163085, -0.01084081, ..., -0.01914788,\n",
      "       -0.02382014,  0.00070903], dtype=float32), 'id': 'Prof. Angela Davis', 'metadata': {'review': 'Thought-provoking and empowering lectures.', 'subject': \"Women's Studies\", 'stars': 4.7}}, {'values': array([ 1.77610014e-02,  1.73002705e-02, -2.06298158e-02, ...,\n",
      "       -2.37072650e-02, -1.39283575e-02,  5.55192782e-05], dtype=float32), 'id': 'Dr. Jason Kim', 'metadata': {'review': 'Very knowledgeable, but explanations can be confusing.', 'subject': 'Biochemistry', 'stars': 3.6}}, {'values': array([ 0.00800928, -0.02339788, -0.04255089, ..., -0.0027124 ,\n",
      "       -0.00797755, -0.00193357], dtype=float32), 'id': 'Prof. Linda Martinez', 'metadata': {'review': 'Practical teaching strategies, very helpful for future educators.', 'subject': 'Education', 'stars': 4.3}}, {'values': array([-0.00240737,  0.01287833, -0.02781763, ..., -0.01988808,\n",
      "       -0.03542433,  0.02004338], dtype=float32), 'id': 'Dr. Andrew Wilson', 'metadata': {'review': 'Brilliant mind, but lectures can be hard to follow.', 'subject': 'Quantum Physics', 'stars': 3.9}}, {'values': array([ 0.02225053, -0.01081933, -0.01888498, ...,  0.00960713,\n",
      "       -0.03646453, -0.02368451], dtype=float32), 'id': 'Prof. Cynthia Baker', 'metadata': {'review': 'Engaging lectures with relevant, current examples.', 'subject': 'Public Health', 'stars': 4.5}}, {'values': array([-0.01558809, -0.01493488, -0.06007412, ..., -0.01537075,\n",
      "       -0.00626825,  0.00879802], dtype=float32), 'id': 'Dr. Timothy Green', 'metadata': {'review': 'Interesting field work, but lectures need more structure.', 'subject': 'Botany', 'stars': 3.7}}, {'values': array([ 0.01056252, -0.01372006, -0.02519236, ..., -0.00539128,\n",
      "       -0.01801092, -0.00245284], dtype=float32), 'id': 'Prof. Karen White', 'metadata': {'review': 'Thought-provoking case studies, fair grader.', 'subject': 'Business Ethics', 'stars': 4.1}}, {'values': array([-0.00217978, -0.00915567, -0.0452028 , ..., -0.04588949,\n",
      "       -0.01536569,  0.01207514], dtype=float32), 'id': 'Dr. Frank Lopez', 'metadata': {'review': 'Knowledgeable, but could improve teaching style.', 'subject': 'Mechanical Engineering', 'stars': 3.4}}, {'values': array([ 0.0124395 , -0.0112569 , -0.02439691, ..., -0.01198126,\n",
      "       -0.00968009,  0.01249605], dtype=float32), 'id': 'Prof. Helen Chang', 'metadata': {'review': 'Passionate and insightful. Broadens literary perspectives.', 'subject': 'Comparative Literature', 'stars': 4.6}}, {'values': array([ 0.00546674, -0.0095146 , -0.02778683, ..., -0.00763802,\n",
      "       -0.04114898, -0.00140619], dtype=float32), 'id': 'Dr. George Martin', 'metadata': {'review': 'Challenging material, but Dr. Martin is helpful in office hours.', 'subject': 'Genetics', 'stars': 3.8}}, {'values': array([ 0.02237879, -0.00579844, -0.01884173, ...,  0.00684442,\n",
      "       -0.00728606, -0.04659034], dtype=float32), 'id': 'Prof. Julia Sanchez', 'metadata': {'review': 'Engaging discussions on current global issues.', 'subject': 'International Relations', 'stars': 4.2}}, {'values': array([ 0.02799067,  0.0009531 , -0.03221334, ..., -0.02475397,\n",
      "       -0.01929663,  0.01753384], dtype=float32), 'id': 'Dr. Paul Anderson', 'metadata': {'review': 'Very rigorous course. Dr. Anderson knows his stuff but can be intimidating.', 'subject': 'Physical Chemistry', 'stars': 3.5}}, {'values': array([-0.01539837, -0.00130667, -0.02237504, ..., -0.01112024,\n",
      "       -0.03717783, -0.01837892], dtype=float32), 'id': 'Prof. Michelle Lee', 'metadata': {'review': 'Creative projects and valuable industry insights.', 'subject': 'Graphic Design', 'stars': 4.8}}, {'values': array([-0.00241495,  0.0086062 , -0.03761201, ..., -0.02959729,\n",
      "       -0.01601031, -0.01681406], dtype=float32), 'id': 'Dr. Edward Brown', 'metadata': {'review': 'Fascinating subject matter, but assignments can be unclear.', 'subject': 'Astrophysics', 'stars': 3.9}}, {'values': array([-0.00095327, -0.00630157, -0.01066444, ..., -0.00908234,\n",
      "       -0.02749804, -0.00440136], dtype=float32), 'id': 'Prof. Catherine Ross', 'metadata': {'review': 'Compassionate teacher with practical, real-world approach.', 'subject': 'Social Work', 'stars': 4.4}}, {'values': array([ 0.00498505,  0.0063597 , -0.02649287, ..., -0.03177485,\n",
      "       -0.02370371,  0.02687693], dtype=float32), 'id': 'Dr. Anthony Nguyen', 'metadata': {'review': 'Knowledgeable, but lectures can be hard to follow.', 'subject': 'Immunology', 'stars': 3.7}}, {'values': array([ 0.02367811, -0.00601828, -0.02698954, ..., -0.00706008,\n",
      "       -0.02050111,  0.00786442], dtype=float32), 'id': 'Prof. Rebecca Taylor', 'metadata': {'review': 'Inspiring and supportive. Helps students find their voice.', 'subject': 'Creative Writing', 'stars': 4.7}}, {'values': array([-0.00637588, -0.00962409, -0.04053593, ..., -0.02819799,\n",
      "       -0.0137291 ,  0.02364537], dtype=float32), 'id': 'Dr. Samuel Cohen', 'metadata': {'review': 'Tough grader, but very knowledgeable in the field.', 'subject': 'Analytical Chemistry', 'stars': 3.6}}, {'values': array([ 0.01566191, -0.02873863, -0.00830163, ..., -0.02420105,\n",
      "       -0.01728545,  0.01749404], dtype=float32), 'id': 'Prof. Elizabeth Ward', 'metadata': {'review': 'Passionate advocate. Lectures are engaging and thought-provoking.', 'subject': 'Human Rights Law', 'stars': 4.5}}, {'values': array([ 0.01912407, -0.00353709, -0.03851279, ..., -0.02076363,\n",
      "       -0.00700816, -0.00939057], dtype=float32), 'id': 'Dr. Victor Ramirez', 'metadata': {'review': 'Cutting-edge knowledge, but could improve explanations.', 'subject': 'Robotics', 'stars': 4.0}}]\n"
     ]
    }
   ],
   "source": [
    "print(processed_data)"
   ]
  },
  {
   "cell_type": "code",
   "execution_count": 11,
   "metadata": {},
   "outputs": [
    {
     "ename": "PineconeApiException",
     "evalue": "(400)\nReason: Bad Request\nHTTP response headers: HTTPHeaderDict({'Date': 'Sun, 25 Aug 2024 13:10:52 GMT', 'Content-Type': 'application/json', 'Content-Length': '103', 'Connection': 'keep-alive', 'x-pinecone-request-latency-ms': '1329', 'x-pinecone-request-id': '5359569843297793653', 'x-envoy-upstream-service-time': '53', 'server': 'envoy'})\nHTTP response body: {\"code\":3,\"message\":\"Vector dimension 1024 does not match the dimension of the index 768\",\"details\":[]}\n",
     "output_type": "error",
     "traceback": [
      "\u001b[1;31m---------------------------------------------------------------------------\u001b[0m",
      "\u001b[1;31mPineconeApiException\u001b[0m                      Traceback (most recent call last)",
      "Cell \u001b[1;32mIn[11], line 2\u001b[0m\n\u001b[0;32m      1\u001b[0m index \u001b[38;5;241m=\u001b[39m pc\u001b[38;5;241m.\u001b[39mIndex(\u001b[38;5;124m\"\u001b[39m\u001b[38;5;124mrag-index\u001b[39m\u001b[38;5;124m\"\u001b[39m)\n\u001b[1;32m----> 2\u001b[0m upsert_response \u001b[38;5;241m=\u001b[39m \u001b[43mindex\u001b[49m\u001b[38;5;241;43m.\u001b[39;49m\u001b[43mupsert\u001b[49m\u001b[43m(\u001b[49m\n\u001b[0;32m      3\u001b[0m \u001b[43m    \u001b[49m\u001b[43mvectors\u001b[49m\u001b[38;5;241;43m=\u001b[39;49m\u001b[43mprocessed_data\u001b[49m\u001b[43m,\u001b[49m\n\u001b[0;32m      4\u001b[0m \u001b[43m    \u001b[49m\u001b[43mnamespace\u001b[49m\u001b[38;5;241;43m=\u001b[39;49m\u001b[38;5;124;43m\"\u001b[39;49m\u001b[38;5;124;43mns1\u001b[39;49m\u001b[38;5;124;43m\"\u001b[39;49m\n\u001b[0;32m      5\u001b[0m \u001b[43m)\u001b[49m\n",
      "File \u001b[1;32mc:\\Python312\\Lib\\site-packages\\pinecone\\utils\\error_handling.py:11\u001b[0m, in \u001b[0;36mvalidate_and_convert_errors.<locals>.inner_func\u001b[1;34m(*args, **kwargs)\u001b[0m\n\u001b[0;32m      8\u001b[0m \u001b[38;5;129m@wraps\u001b[39m(func)\n\u001b[0;32m      9\u001b[0m \u001b[38;5;28;01mdef\u001b[39;00m \u001b[38;5;21minner_func\u001b[39m(\u001b[38;5;241m*\u001b[39margs, \u001b[38;5;241m*\u001b[39m\u001b[38;5;241m*\u001b[39mkwargs):\n\u001b[0;32m     10\u001b[0m     \u001b[38;5;28;01mtry\u001b[39;00m:\n\u001b[1;32m---> 11\u001b[0m         \u001b[38;5;28;01mreturn\u001b[39;00m \u001b[43mfunc\u001b[49m\u001b[43m(\u001b[49m\u001b[38;5;241;43m*\u001b[39;49m\u001b[43margs\u001b[49m\u001b[43m,\u001b[49m\u001b[43m \u001b[49m\u001b[38;5;241;43m*\u001b[39;49m\u001b[38;5;241;43m*\u001b[39;49m\u001b[43mkwargs\u001b[49m\u001b[43m)\u001b[49m\n\u001b[0;32m     12\u001b[0m     \u001b[38;5;28;01mexcept\u001b[39;00m MaxRetryError \u001b[38;5;28;01mas\u001b[39;00m e:\n\u001b[0;32m     13\u001b[0m         \u001b[38;5;28;01mif\u001b[39;00m \u001b[38;5;28misinstance\u001b[39m(e\u001b[38;5;241m.\u001b[39mreason, ProtocolError):\n",
      "File \u001b[1;32mc:\\Python312\\Lib\\site-packages\\pinecone\\data\\index.py:175\u001b[0m, in \u001b[0;36mIndex.upsert\u001b[1;34m(self, vectors, namespace, batch_size, show_progress, **kwargs)\u001b[0m\n\u001b[0;32m    168\u001b[0m     \u001b[38;5;28;01mraise\u001b[39;00m \u001b[38;5;167;01mValueError\u001b[39;00m(\n\u001b[0;32m    169\u001b[0m         \u001b[38;5;124m\"\u001b[39m\u001b[38;5;124masync_req is not supported when batch_size is provided.\u001b[39m\u001b[38;5;124m\"\u001b[39m\n\u001b[0;32m    170\u001b[0m         \u001b[38;5;124m\"\u001b[39m\u001b[38;5;124mTo upsert in parallel, please follow: \u001b[39m\u001b[38;5;124m\"\u001b[39m\n\u001b[0;32m    171\u001b[0m         \u001b[38;5;124m\"\u001b[39m\u001b[38;5;124mhttps://docs.pinecone.io/docs/insert-data#sending-upserts-in-parallel\u001b[39m\u001b[38;5;124m\"\u001b[39m\n\u001b[0;32m    172\u001b[0m     )\n\u001b[0;32m    174\u001b[0m \u001b[38;5;28;01mif\u001b[39;00m batch_size \u001b[38;5;129;01mis\u001b[39;00m \u001b[38;5;28;01mNone\u001b[39;00m:\n\u001b[1;32m--> 175\u001b[0m     \u001b[38;5;28;01mreturn\u001b[39;00m \u001b[38;5;28;43mself\u001b[39;49m\u001b[38;5;241;43m.\u001b[39;49m\u001b[43m_upsert_batch\u001b[49m\u001b[43m(\u001b[49m\u001b[43mvectors\u001b[49m\u001b[43m,\u001b[49m\u001b[43m \u001b[49m\u001b[43mnamespace\u001b[49m\u001b[43m,\u001b[49m\u001b[43m \u001b[49m\u001b[43m_check_type\u001b[49m\u001b[43m,\u001b[49m\u001b[43m \u001b[49m\u001b[38;5;241;43m*\u001b[39;49m\u001b[38;5;241;43m*\u001b[39;49m\u001b[43mkwargs\u001b[49m\u001b[43m)\u001b[49m\n\u001b[0;32m    177\u001b[0m \u001b[38;5;28;01mif\u001b[39;00m \u001b[38;5;129;01mnot\u001b[39;00m \u001b[38;5;28misinstance\u001b[39m(batch_size, \u001b[38;5;28mint\u001b[39m) \u001b[38;5;129;01mor\u001b[39;00m batch_size \u001b[38;5;241m<\u001b[39m\u001b[38;5;241m=\u001b[39m \u001b[38;5;241m0\u001b[39m:\n\u001b[0;32m    178\u001b[0m     \u001b[38;5;28;01mraise\u001b[39;00m \u001b[38;5;167;01mValueError\u001b[39;00m(\u001b[38;5;124m\"\u001b[39m\u001b[38;5;124mbatch_size must be a positive integer\u001b[39m\u001b[38;5;124m\"\u001b[39m)\n",
      "File \u001b[1;32mc:\\Python312\\Lib\\site-packages\\pinecone\\data\\index.py:204\u001b[0m, in \u001b[0;36mIndex._upsert_batch\u001b[1;34m(self, vectors, namespace, _check_type, **kwargs)\u001b[0m\n\u001b[0;32m    201\u001b[0m args_dict \u001b[38;5;241m=\u001b[39m \u001b[38;5;28mself\u001b[39m\u001b[38;5;241m.\u001b[39m_parse_non_empty_args([(\u001b[38;5;124m\"\u001b[39m\u001b[38;5;124mnamespace\u001b[39m\u001b[38;5;124m\"\u001b[39m, namespace)])\n\u001b[0;32m    202\u001b[0m vec_builder \u001b[38;5;241m=\u001b[39m \u001b[38;5;28;01mlambda\u001b[39;00m v: VectorFactory\u001b[38;5;241m.\u001b[39mbuild(v, check_type\u001b[38;5;241m=\u001b[39m_check_type)\n\u001b[1;32m--> 204\u001b[0m \u001b[38;5;28;01mreturn\u001b[39;00m \u001b[38;5;28;43mself\u001b[39;49m\u001b[38;5;241;43m.\u001b[39;49m\u001b[43m_vector_api\u001b[49m\u001b[38;5;241;43m.\u001b[39;49m\u001b[43mupsert\u001b[49m\u001b[43m(\u001b[49m\n\u001b[0;32m    205\u001b[0m \u001b[43m    \u001b[49m\u001b[43mUpsertRequest\u001b[49m\u001b[43m(\u001b[49m\n\u001b[0;32m    206\u001b[0m \u001b[43m        \u001b[49m\u001b[43mvectors\u001b[49m\u001b[38;5;241;43m=\u001b[39;49m\u001b[38;5;28;43mlist\u001b[39;49m\u001b[43m(\u001b[49m\u001b[38;5;28;43mmap\u001b[39;49m\u001b[43m(\u001b[49m\u001b[43mvec_builder\u001b[49m\u001b[43m,\u001b[49m\u001b[43m \u001b[49m\u001b[43mvectors\u001b[49m\u001b[43m)\u001b[49m\u001b[43m)\u001b[49m\u001b[43m,\u001b[49m\n\u001b[0;32m    207\u001b[0m \u001b[43m        \u001b[49m\u001b[38;5;241;43m*\u001b[39;49m\u001b[38;5;241;43m*\u001b[39;49m\u001b[43margs_dict\u001b[49m\u001b[43m,\u001b[49m\n\u001b[0;32m    208\u001b[0m \u001b[43m        \u001b[49m\u001b[43m_check_type\u001b[49m\u001b[38;5;241;43m=\u001b[39;49m\u001b[43m_check_type\u001b[49m\u001b[43m,\u001b[49m\n\u001b[0;32m    209\u001b[0m \u001b[43m        \u001b[49m\u001b[38;5;241;43m*\u001b[39;49m\u001b[38;5;241;43m*\u001b[39;49m\u001b[43m{\u001b[49m\u001b[43mk\u001b[49m\u001b[43m:\u001b[49m\u001b[43m \u001b[49m\u001b[43mv\u001b[49m\u001b[43m \u001b[49m\u001b[38;5;28;43;01mfor\u001b[39;49;00m\u001b[43m \u001b[49m\u001b[43mk\u001b[49m\u001b[43m,\u001b[49m\u001b[43m \u001b[49m\u001b[43mv\u001b[49m\u001b[43m \u001b[49m\u001b[38;5;129;43;01min\u001b[39;49;00m\u001b[43m \u001b[49m\u001b[43mkwargs\u001b[49m\u001b[38;5;241;43m.\u001b[39;49m\u001b[43mitems\u001b[49m\u001b[43m(\u001b[49m\u001b[43m)\u001b[49m\u001b[43m \u001b[49m\u001b[38;5;28;43;01mif\u001b[39;49;00m\u001b[43m \u001b[49m\u001b[43mk\u001b[49m\u001b[43m \u001b[49m\u001b[38;5;129;43;01mnot\u001b[39;49;00m\u001b[43m \u001b[49m\u001b[38;5;129;43;01min\u001b[39;49;00m\u001b[43m \u001b[49m\u001b[43m_OPENAPI_ENDPOINT_PARAMS\u001b[49m\u001b[43m}\u001b[49m\u001b[43m,\u001b[49m\n\u001b[0;32m    210\u001b[0m \u001b[43m    \u001b[49m\u001b[43m)\u001b[49m\u001b[43m,\u001b[49m\n\u001b[0;32m    211\u001b[0m \u001b[43m    \u001b[49m\u001b[38;5;241;43m*\u001b[39;49m\u001b[38;5;241;43m*\u001b[39;49m\u001b[43m{\u001b[49m\u001b[43mk\u001b[49m\u001b[43m:\u001b[49m\u001b[43m \u001b[49m\u001b[43mv\u001b[49m\u001b[43m \u001b[49m\u001b[38;5;28;43;01mfor\u001b[39;49;00m\u001b[43m \u001b[49m\u001b[43mk\u001b[49m\u001b[43m,\u001b[49m\u001b[43m \u001b[49m\u001b[43mv\u001b[49m\u001b[43m \u001b[49m\u001b[38;5;129;43;01min\u001b[39;49;00m\u001b[43m \u001b[49m\u001b[43mkwargs\u001b[49m\u001b[38;5;241;43m.\u001b[39;49m\u001b[43mitems\u001b[49m\u001b[43m(\u001b[49m\u001b[43m)\u001b[49m\u001b[43m \u001b[49m\u001b[38;5;28;43;01mif\u001b[39;49;00m\u001b[43m \u001b[49m\u001b[43mk\u001b[49m\u001b[43m \u001b[49m\u001b[38;5;129;43;01min\u001b[39;49;00m\u001b[43m \u001b[49m\u001b[43m_OPENAPI_ENDPOINT_PARAMS\u001b[49m\u001b[43m}\u001b[49m\u001b[43m,\u001b[49m\n\u001b[0;32m    212\u001b[0m \u001b[43m\u001b[49m\u001b[43m)\u001b[49m\n",
      "File \u001b[1;32mc:\\Python312\\Lib\\site-packages\\pinecone\\core\\openapi\\shared\\api_client.py:761\u001b[0m, in \u001b[0;36mEndpoint.__call__\u001b[1;34m(self, *args, **kwargs)\u001b[0m\n\u001b[0;32m    750\u001b[0m \u001b[38;5;28;01mdef\u001b[39;00m \u001b[38;5;21m__call__\u001b[39m(\u001b[38;5;28mself\u001b[39m, \u001b[38;5;241m*\u001b[39margs, \u001b[38;5;241m*\u001b[39m\u001b[38;5;241m*\u001b[39mkwargs):\n\u001b[0;32m    751\u001b[0m \u001b[38;5;250m    \u001b[39m\u001b[38;5;124;03m\"\"\"This method is invoked when endpoints are called\u001b[39;00m\n\u001b[0;32m    752\u001b[0m \u001b[38;5;124;03m    Example:\u001b[39;00m\n\u001b[0;32m    753\u001b[0m \n\u001b[1;32m   (...)\u001b[0m\n\u001b[0;32m    759\u001b[0m \n\u001b[0;32m    760\u001b[0m \u001b[38;5;124;03m    \"\"\"\u001b[39;00m\n\u001b[1;32m--> 761\u001b[0m     \u001b[38;5;28;01mreturn\u001b[39;00m \u001b[38;5;28;43mself\u001b[39;49m\u001b[38;5;241;43m.\u001b[39;49m\u001b[43mcallable\u001b[49m\u001b[43m(\u001b[49m\u001b[38;5;28;43mself\u001b[39;49m\u001b[43m,\u001b[49m\u001b[43m \u001b[49m\u001b[38;5;241;43m*\u001b[39;49m\u001b[43margs\u001b[49m\u001b[43m,\u001b[49m\u001b[43m \u001b[49m\u001b[38;5;241;43m*\u001b[39;49m\u001b[38;5;241;43m*\u001b[39;49m\u001b[43mkwargs\u001b[49m\u001b[43m)\u001b[49m\n",
      "File \u001b[1;32mc:\\Python312\\Lib\\site-packages\\pinecone\\core\\openapi\\data\\api\\data_plane_api.py:811\u001b[0m, in \u001b[0;36mDataPlaneApi.__init__.<locals>.__upsert\u001b[1;34m(self, upsert_request, **kwargs)\u001b[0m\n\u001b[0;32m    809\u001b[0m kwargs[\u001b[38;5;124m\"\u001b[39m\u001b[38;5;124m_host_index\u001b[39m\u001b[38;5;124m\"\u001b[39m] \u001b[38;5;241m=\u001b[39m kwargs\u001b[38;5;241m.\u001b[39mget(\u001b[38;5;124m\"\u001b[39m\u001b[38;5;124m_host_index\u001b[39m\u001b[38;5;124m\"\u001b[39m)\n\u001b[0;32m    810\u001b[0m kwargs[\u001b[38;5;124m\"\u001b[39m\u001b[38;5;124mupsert_request\u001b[39m\u001b[38;5;124m\"\u001b[39m] \u001b[38;5;241m=\u001b[39m upsert_request\n\u001b[1;32m--> 811\u001b[0m \u001b[38;5;28;01mreturn\u001b[39;00m \u001b[38;5;28;43mself\u001b[39;49m\u001b[38;5;241;43m.\u001b[39;49m\u001b[43mcall_with_http_info\u001b[49m\u001b[43m(\u001b[49m\u001b[38;5;241;43m*\u001b[39;49m\u001b[38;5;241;43m*\u001b[39;49m\u001b[43mkwargs\u001b[49m\u001b[43m)\u001b[49m\n",
      "File \u001b[1;32mc:\\Python312\\Lib\\site-packages\\pinecone\\core\\openapi\\shared\\api_client.py:819\u001b[0m, in \u001b[0;36mEndpoint.call_with_http_info\u001b[1;34m(self, **kwargs)\u001b[0m\n\u001b[0;32m    816\u001b[0m     header_list \u001b[38;5;241m=\u001b[39m \u001b[38;5;28mself\u001b[39m\u001b[38;5;241m.\u001b[39mapi_client\u001b[38;5;241m.\u001b[39mselect_header_content_type(content_type_headers_list)\n\u001b[0;32m    817\u001b[0m     params[\u001b[38;5;124m\"\u001b[39m\u001b[38;5;124mheader\u001b[39m\u001b[38;5;124m\"\u001b[39m][\u001b[38;5;124m\"\u001b[39m\u001b[38;5;124mContent-Type\u001b[39m\u001b[38;5;124m\"\u001b[39m] \u001b[38;5;241m=\u001b[39m header_list\n\u001b[1;32m--> 819\u001b[0m \u001b[38;5;28;01mreturn\u001b[39;00m \u001b[38;5;28;43mself\u001b[39;49m\u001b[38;5;241;43m.\u001b[39;49m\u001b[43mapi_client\u001b[49m\u001b[38;5;241;43m.\u001b[39;49m\u001b[43mcall_api\u001b[49m\u001b[43m(\u001b[49m\n\u001b[0;32m    820\u001b[0m \u001b[43m    \u001b[49m\u001b[38;5;28;43mself\u001b[39;49m\u001b[38;5;241;43m.\u001b[39;49m\u001b[43msettings\u001b[49m\u001b[43m[\u001b[49m\u001b[38;5;124;43m\"\u001b[39;49m\u001b[38;5;124;43mendpoint_path\u001b[39;49m\u001b[38;5;124;43m\"\u001b[39;49m\u001b[43m]\u001b[49m\u001b[43m,\u001b[49m\n\u001b[0;32m    821\u001b[0m \u001b[43m    \u001b[49m\u001b[38;5;28;43mself\u001b[39;49m\u001b[38;5;241;43m.\u001b[39;49m\u001b[43msettings\u001b[49m\u001b[43m[\u001b[49m\u001b[38;5;124;43m\"\u001b[39;49m\u001b[38;5;124;43mhttp_method\u001b[39;49m\u001b[38;5;124;43m\"\u001b[39;49m\u001b[43m]\u001b[49m\u001b[43m,\u001b[49m\n\u001b[0;32m    822\u001b[0m \u001b[43m    \u001b[49m\u001b[43mparams\u001b[49m\u001b[43m[\u001b[49m\u001b[38;5;124;43m\"\u001b[39;49m\u001b[38;5;124;43mpath\u001b[39;49m\u001b[38;5;124;43m\"\u001b[39;49m\u001b[43m]\u001b[49m\u001b[43m,\u001b[49m\n\u001b[0;32m    823\u001b[0m \u001b[43m    \u001b[49m\u001b[43mparams\u001b[49m\u001b[43m[\u001b[49m\u001b[38;5;124;43m\"\u001b[39;49m\u001b[38;5;124;43mquery\u001b[39;49m\u001b[38;5;124;43m\"\u001b[39;49m\u001b[43m]\u001b[49m\u001b[43m,\u001b[49m\n\u001b[0;32m    824\u001b[0m \u001b[43m    \u001b[49m\u001b[43mparams\u001b[49m\u001b[43m[\u001b[49m\u001b[38;5;124;43m\"\u001b[39;49m\u001b[38;5;124;43mheader\u001b[39;49m\u001b[38;5;124;43m\"\u001b[39;49m\u001b[43m]\u001b[49m\u001b[43m,\u001b[49m\n\u001b[0;32m    825\u001b[0m \u001b[43m    \u001b[49m\u001b[43mbody\u001b[49m\u001b[38;5;241;43m=\u001b[39;49m\u001b[43mparams\u001b[49m\u001b[43m[\u001b[49m\u001b[38;5;124;43m\"\u001b[39;49m\u001b[38;5;124;43mbody\u001b[39;49m\u001b[38;5;124;43m\"\u001b[39;49m\u001b[43m]\u001b[49m\u001b[43m,\u001b[49m\n\u001b[0;32m    826\u001b[0m \u001b[43m    \u001b[49m\u001b[43mpost_params\u001b[49m\u001b[38;5;241;43m=\u001b[39;49m\u001b[43mparams\u001b[49m\u001b[43m[\u001b[49m\u001b[38;5;124;43m\"\u001b[39;49m\u001b[38;5;124;43mform\u001b[39;49m\u001b[38;5;124;43m\"\u001b[39;49m\u001b[43m]\u001b[49m\u001b[43m,\u001b[49m\n\u001b[0;32m    827\u001b[0m \u001b[43m    \u001b[49m\u001b[43mfiles\u001b[49m\u001b[38;5;241;43m=\u001b[39;49m\u001b[43mparams\u001b[49m\u001b[43m[\u001b[49m\u001b[38;5;124;43m\"\u001b[39;49m\u001b[38;5;124;43mfile\u001b[39;49m\u001b[38;5;124;43m\"\u001b[39;49m\u001b[43m]\u001b[49m\u001b[43m,\u001b[49m\n\u001b[0;32m    828\u001b[0m \u001b[43m    \u001b[49m\u001b[43mresponse_type\u001b[49m\u001b[38;5;241;43m=\u001b[39;49m\u001b[38;5;28;43mself\u001b[39;49m\u001b[38;5;241;43m.\u001b[39;49m\u001b[43msettings\u001b[49m\u001b[43m[\u001b[49m\u001b[38;5;124;43m\"\u001b[39;49m\u001b[38;5;124;43mresponse_type\u001b[39;49m\u001b[38;5;124;43m\"\u001b[39;49m\u001b[43m]\u001b[49m\u001b[43m,\u001b[49m\n\u001b[0;32m    829\u001b[0m \u001b[43m    \u001b[49m\u001b[43mauth_settings\u001b[49m\u001b[38;5;241;43m=\u001b[39;49m\u001b[38;5;28;43mself\u001b[39;49m\u001b[38;5;241;43m.\u001b[39;49m\u001b[43msettings\u001b[49m\u001b[43m[\u001b[49m\u001b[38;5;124;43m\"\u001b[39;49m\u001b[38;5;124;43mauth\u001b[39;49m\u001b[38;5;124;43m\"\u001b[39;49m\u001b[43m]\u001b[49m\u001b[43m,\u001b[49m\n\u001b[0;32m    830\u001b[0m \u001b[43m    \u001b[49m\u001b[43masync_req\u001b[49m\u001b[38;5;241;43m=\u001b[39;49m\u001b[43mkwargs\u001b[49m\u001b[43m[\u001b[49m\u001b[38;5;124;43m\"\u001b[39;49m\u001b[38;5;124;43masync_req\u001b[39;49m\u001b[38;5;124;43m\"\u001b[39;49m\u001b[43m]\u001b[49m\u001b[43m,\u001b[49m\n\u001b[0;32m    831\u001b[0m \u001b[43m    \u001b[49m\u001b[43m_check_type\u001b[49m\u001b[38;5;241;43m=\u001b[39;49m\u001b[43mkwargs\u001b[49m\u001b[43m[\u001b[49m\u001b[38;5;124;43m\"\u001b[39;49m\u001b[38;5;124;43m_check_return_type\u001b[39;49m\u001b[38;5;124;43m\"\u001b[39;49m\u001b[43m]\u001b[49m\u001b[43m,\u001b[49m\n\u001b[0;32m    832\u001b[0m \u001b[43m    \u001b[49m\u001b[43m_return_http_data_only\u001b[49m\u001b[38;5;241;43m=\u001b[39;49m\u001b[43mkwargs\u001b[49m\u001b[43m[\u001b[49m\u001b[38;5;124;43m\"\u001b[39;49m\u001b[38;5;124;43m_return_http_data_only\u001b[39;49m\u001b[38;5;124;43m\"\u001b[39;49m\u001b[43m]\u001b[49m\u001b[43m,\u001b[49m\n\u001b[0;32m    833\u001b[0m \u001b[43m    \u001b[49m\u001b[43m_preload_content\u001b[49m\u001b[38;5;241;43m=\u001b[39;49m\u001b[43mkwargs\u001b[49m\u001b[43m[\u001b[49m\u001b[38;5;124;43m\"\u001b[39;49m\u001b[38;5;124;43m_preload_content\u001b[39;49m\u001b[38;5;124;43m\"\u001b[39;49m\u001b[43m]\u001b[49m\u001b[43m,\u001b[49m\n\u001b[0;32m    834\u001b[0m \u001b[43m    \u001b[49m\u001b[43m_request_timeout\u001b[49m\u001b[38;5;241;43m=\u001b[39;49m\u001b[43mkwargs\u001b[49m\u001b[43m[\u001b[49m\u001b[38;5;124;43m\"\u001b[39;49m\u001b[38;5;124;43m_request_timeout\u001b[39;49m\u001b[38;5;124;43m\"\u001b[39;49m\u001b[43m]\u001b[49m\u001b[43m,\u001b[49m\n\u001b[0;32m    835\u001b[0m \u001b[43m    \u001b[49m\u001b[43m_host\u001b[49m\u001b[38;5;241;43m=\u001b[39;49m\u001b[43m_host\u001b[49m\u001b[43m,\u001b[49m\n\u001b[0;32m    836\u001b[0m \u001b[43m    \u001b[49m\u001b[43mcollection_formats\u001b[49m\u001b[38;5;241;43m=\u001b[39;49m\u001b[43mparams\u001b[49m\u001b[43m[\u001b[49m\u001b[38;5;124;43m\"\u001b[39;49m\u001b[38;5;124;43mcollection_format\u001b[39;49m\u001b[38;5;124;43m\"\u001b[39;49m\u001b[43m]\u001b[49m\u001b[43m,\u001b[49m\n\u001b[0;32m    837\u001b[0m \u001b[43m\u001b[49m\u001b[43m)\u001b[49m\n",
      "File \u001b[1;32mc:\\Python312\\Lib\\site-packages\\pinecone\\core\\openapi\\shared\\api_client.py:380\u001b[0m, in \u001b[0;36mApiClient.call_api\u001b[1;34m(self, resource_path, method, path_params, query_params, header_params, body, post_params, files, response_type, auth_settings, async_req, _return_http_data_only, collection_formats, _preload_content, _request_timeout, _host, _check_type)\u001b[0m\n\u001b[0;32m    326\u001b[0m \u001b[38;5;250m\u001b[39m\u001b[38;5;124;03m\"\"\"Makes the HTTP request (synchronous) and returns deserialized data.\u001b[39;00m\n\u001b[0;32m    327\u001b[0m \n\u001b[0;32m    328\u001b[0m \u001b[38;5;124;03mTo make an async_req request, set the async_req parameter.\u001b[39;00m\n\u001b[1;32m   (...)\u001b[0m\n\u001b[0;32m    377\u001b[0m \u001b[38;5;124;03m    then the method will return the response directly.\u001b[39;00m\n\u001b[0;32m    378\u001b[0m \u001b[38;5;124;03m\"\"\"\u001b[39;00m\n\u001b[0;32m    379\u001b[0m \u001b[38;5;28;01mif\u001b[39;00m \u001b[38;5;129;01mnot\u001b[39;00m async_req:\n\u001b[1;32m--> 380\u001b[0m     \u001b[38;5;28;01mreturn\u001b[39;00m \u001b[38;5;28;43mself\u001b[39;49m\u001b[38;5;241;43m.\u001b[39;49m\u001b[43m__call_api\u001b[49m\u001b[43m(\u001b[49m\n\u001b[0;32m    381\u001b[0m \u001b[43m        \u001b[49m\u001b[43mresource_path\u001b[49m\u001b[43m,\u001b[49m\n\u001b[0;32m    382\u001b[0m \u001b[43m        \u001b[49m\u001b[43mmethod\u001b[49m\u001b[43m,\u001b[49m\n\u001b[0;32m    383\u001b[0m \u001b[43m        \u001b[49m\u001b[43mpath_params\u001b[49m\u001b[43m,\u001b[49m\n\u001b[0;32m    384\u001b[0m \u001b[43m        \u001b[49m\u001b[43mquery_params\u001b[49m\u001b[43m,\u001b[49m\n\u001b[0;32m    385\u001b[0m \u001b[43m        \u001b[49m\u001b[43mheader_params\u001b[49m\u001b[43m,\u001b[49m\n\u001b[0;32m    386\u001b[0m \u001b[43m        \u001b[49m\u001b[43mbody\u001b[49m\u001b[43m,\u001b[49m\n\u001b[0;32m    387\u001b[0m \u001b[43m        \u001b[49m\u001b[43mpost_params\u001b[49m\u001b[43m,\u001b[49m\n\u001b[0;32m    388\u001b[0m \u001b[43m        \u001b[49m\u001b[43mfiles\u001b[49m\u001b[43m,\u001b[49m\n\u001b[0;32m    389\u001b[0m \u001b[43m        \u001b[49m\u001b[43mresponse_type\u001b[49m\u001b[43m,\u001b[49m\n\u001b[0;32m    390\u001b[0m \u001b[43m        \u001b[49m\u001b[43mauth_settings\u001b[49m\u001b[43m,\u001b[49m\n\u001b[0;32m    391\u001b[0m \u001b[43m        \u001b[49m\u001b[43m_return_http_data_only\u001b[49m\u001b[43m,\u001b[49m\n\u001b[0;32m    392\u001b[0m \u001b[43m        \u001b[49m\u001b[43mcollection_formats\u001b[49m\u001b[43m,\u001b[49m\n\u001b[0;32m    393\u001b[0m \u001b[43m        \u001b[49m\u001b[43m_preload_content\u001b[49m\u001b[43m,\u001b[49m\n\u001b[0;32m    394\u001b[0m \u001b[43m        \u001b[49m\u001b[43m_request_timeout\u001b[49m\u001b[43m,\u001b[49m\n\u001b[0;32m    395\u001b[0m \u001b[43m        \u001b[49m\u001b[43m_host\u001b[49m\u001b[43m,\u001b[49m\n\u001b[0;32m    396\u001b[0m \u001b[43m        \u001b[49m\u001b[43m_check_type\u001b[49m\u001b[43m,\u001b[49m\n\u001b[0;32m    397\u001b[0m \u001b[43m    \u001b[49m\u001b[43m)\u001b[49m\n\u001b[0;32m    399\u001b[0m \u001b[38;5;28;01mreturn\u001b[39;00m \u001b[38;5;28mself\u001b[39m\u001b[38;5;241m.\u001b[39mpool\u001b[38;5;241m.\u001b[39mapply_async(\n\u001b[0;32m    400\u001b[0m     \u001b[38;5;28mself\u001b[39m\u001b[38;5;241m.\u001b[39m__call_api,\n\u001b[0;32m    401\u001b[0m     (\n\u001b[1;32m   (...)\u001b[0m\n\u001b[0;32m    418\u001b[0m     ),\n\u001b[0;32m    419\u001b[0m )\n",
      "File \u001b[1;32mc:\\Python312\\Lib\\site-packages\\pinecone\\core\\openapi\\shared\\api_client.py:187\u001b[0m, in \u001b[0;36mApiClient.__call_api\u001b[1;34m(self, resource_path, method, path_params, query_params, header_params, body, post_params, files, response_type, auth_settings, _return_http_data_only, collection_formats, _preload_content, _request_timeout, _host, _check_type)\u001b[0m\n\u001b[0;32m    185\u001b[0m \u001b[38;5;28;01mexcept\u001b[39;00m PineconeApiException \u001b[38;5;28;01mas\u001b[39;00m e:\n\u001b[0;32m    186\u001b[0m     e\u001b[38;5;241m.\u001b[39mbody \u001b[38;5;241m=\u001b[39m e\u001b[38;5;241m.\u001b[39mbody\u001b[38;5;241m.\u001b[39mdecode(\u001b[38;5;124m\"\u001b[39m\u001b[38;5;124mutf-8\u001b[39m\u001b[38;5;124m\"\u001b[39m)\n\u001b[1;32m--> 187\u001b[0m     \u001b[38;5;28;01mraise\u001b[39;00m e\n\u001b[0;32m    189\u001b[0m \u001b[38;5;28mself\u001b[39m\u001b[38;5;241m.\u001b[39mlast_response \u001b[38;5;241m=\u001b[39m response_data\n\u001b[0;32m    191\u001b[0m return_data \u001b[38;5;241m=\u001b[39m response_data\n",
      "File \u001b[1;32mc:\\Python312\\Lib\\site-packages\\pinecone\\core\\openapi\\shared\\api_client.py:175\u001b[0m, in \u001b[0;36mApiClient.__call_api\u001b[1;34m(self, resource_path, method, path_params, query_params, header_params, body, post_params, files, response_type, auth_settings, _return_http_data_only, collection_formats, _preload_content, _request_timeout, _host, _check_type)\u001b[0m\n\u001b[0;32m    171\u001b[0m     url \u001b[38;5;241m=\u001b[39m _host \u001b[38;5;241m+\u001b[39m resource_path\n\u001b[0;32m    173\u001b[0m \u001b[38;5;28;01mtry\u001b[39;00m:\n\u001b[0;32m    174\u001b[0m     \u001b[38;5;66;03m# perform request and return response\u001b[39;00m\n\u001b[1;32m--> 175\u001b[0m     response_data \u001b[38;5;241m=\u001b[39m \u001b[38;5;28;43mself\u001b[39;49m\u001b[38;5;241;43m.\u001b[39;49m\u001b[43mrequest\u001b[49m\u001b[43m(\u001b[49m\n\u001b[0;32m    176\u001b[0m \u001b[43m        \u001b[49m\u001b[43mmethod\u001b[49m\u001b[43m,\u001b[49m\n\u001b[0;32m    177\u001b[0m \u001b[43m        \u001b[49m\u001b[43murl\u001b[49m\u001b[43m,\u001b[49m\n\u001b[0;32m    178\u001b[0m \u001b[43m        \u001b[49m\u001b[43mquery_params\u001b[49m\u001b[38;5;241;43m=\u001b[39;49m\u001b[43mquery_params\u001b[49m\u001b[43m,\u001b[49m\n\u001b[0;32m    179\u001b[0m \u001b[43m        \u001b[49m\u001b[43mheaders\u001b[49m\u001b[38;5;241;43m=\u001b[39;49m\u001b[43mheader_params\u001b[49m\u001b[43m,\u001b[49m\n\u001b[0;32m    180\u001b[0m \u001b[43m        \u001b[49m\u001b[43mpost_params\u001b[49m\u001b[38;5;241;43m=\u001b[39;49m\u001b[43mpost_params\u001b[49m\u001b[43m,\u001b[49m\n\u001b[0;32m    181\u001b[0m \u001b[43m        \u001b[49m\u001b[43mbody\u001b[49m\u001b[38;5;241;43m=\u001b[39;49m\u001b[43mbody\u001b[49m\u001b[43m,\u001b[49m\n\u001b[0;32m    182\u001b[0m \u001b[43m        \u001b[49m\u001b[43m_preload_content\u001b[49m\u001b[38;5;241;43m=\u001b[39;49m\u001b[43m_preload_content\u001b[49m\u001b[43m,\u001b[49m\n\u001b[0;32m    183\u001b[0m \u001b[43m        \u001b[49m\u001b[43m_request_timeout\u001b[49m\u001b[38;5;241;43m=\u001b[39;49m\u001b[43m_request_timeout\u001b[49m\u001b[43m,\u001b[49m\n\u001b[0;32m    184\u001b[0m \u001b[43m    \u001b[49m\u001b[43m)\u001b[49m\n\u001b[0;32m    185\u001b[0m \u001b[38;5;28;01mexcept\u001b[39;00m PineconeApiException \u001b[38;5;28;01mas\u001b[39;00m e:\n\u001b[0;32m    186\u001b[0m     e\u001b[38;5;241m.\u001b[39mbody \u001b[38;5;241m=\u001b[39m e\u001b[38;5;241m.\u001b[39mbody\u001b[38;5;241m.\u001b[39mdecode(\u001b[38;5;124m\"\u001b[39m\u001b[38;5;124mutf-8\u001b[39m\u001b[38;5;124m\"\u001b[39m)\n",
      "File \u001b[1;32mc:\\Python312\\Lib\\site-packages\\pinecone\\core\\openapi\\shared\\api_client.py:460\u001b[0m, in \u001b[0;36mApiClient.request\u001b[1;34m(self, method, url, query_params, headers, post_params, body, _preload_content, _request_timeout)\u001b[0m\n\u001b[0;32m    450\u001b[0m     \u001b[38;5;28;01mreturn\u001b[39;00m \u001b[38;5;28mself\u001b[39m\u001b[38;5;241m.\u001b[39mrest_client\u001b[38;5;241m.\u001b[39mOPTIONS(\n\u001b[0;32m    451\u001b[0m         url,\n\u001b[0;32m    452\u001b[0m         query_params\u001b[38;5;241m=\u001b[39mquery_params,\n\u001b[1;32m   (...)\u001b[0m\n\u001b[0;32m    457\u001b[0m         body\u001b[38;5;241m=\u001b[39mbody,\n\u001b[0;32m    458\u001b[0m     )\n\u001b[0;32m    459\u001b[0m \u001b[38;5;28;01melif\u001b[39;00m method \u001b[38;5;241m==\u001b[39m \u001b[38;5;124m\"\u001b[39m\u001b[38;5;124mPOST\u001b[39m\u001b[38;5;124m\"\u001b[39m:\n\u001b[1;32m--> 460\u001b[0m     \u001b[38;5;28;01mreturn\u001b[39;00m \u001b[38;5;28;43mself\u001b[39;49m\u001b[38;5;241;43m.\u001b[39;49m\u001b[43mrest_client\u001b[49m\u001b[38;5;241;43m.\u001b[39;49m\u001b[43mPOST\u001b[49m\u001b[43m(\u001b[49m\n\u001b[0;32m    461\u001b[0m \u001b[43m        \u001b[49m\u001b[43murl\u001b[49m\u001b[43m,\u001b[49m\n\u001b[0;32m    462\u001b[0m \u001b[43m        \u001b[49m\u001b[43mquery_params\u001b[49m\u001b[38;5;241;43m=\u001b[39;49m\u001b[43mquery_params\u001b[49m\u001b[43m,\u001b[49m\n\u001b[0;32m    463\u001b[0m \u001b[43m        \u001b[49m\u001b[43mheaders\u001b[49m\u001b[38;5;241;43m=\u001b[39;49m\u001b[43mheaders\u001b[49m\u001b[43m,\u001b[49m\n\u001b[0;32m    464\u001b[0m \u001b[43m        \u001b[49m\u001b[43mpost_params\u001b[49m\u001b[38;5;241;43m=\u001b[39;49m\u001b[43mpost_params\u001b[49m\u001b[43m,\u001b[49m\n\u001b[0;32m    465\u001b[0m \u001b[43m        \u001b[49m\u001b[43m_preload_content\u001b[49m\u001b[38;5;241;43m=\u001b[39;49m\u001b[43m_preload_content\u001b[49m\u001b[43m,\u001b[49m\n\u001b[0;32m    466\u001b[0m \u001b[43m        \u001b[49m\u001b[43m_request_timeout\u001b[49m\u001b[38;5;241;43m=\u001b[39;49m\u001b[43m_request_timeout\u001b[49m\u001b[43m,\u001b[49m\n\u001b[0;32m    467\u001b[0m \u001b[43m        \u001b[49m\u001b[43mbody\u001b[49m\u001b[38;5;241;43m=\u001b[39;49m\u001b[43mbody\u001b[49m\u001b[43m,\u001b[49m\n\u001b[0;32m    468\u001b[0m \u001b[43m    \u001b[49m\u001b[43m)\u001b[49m\n\u001b[0;32m    469\u001b[0m \u001b[38;5;28;01melif\u001b[39;00m method \u001b[38;5;241m==\u001b[39m \u001b[38;5;124m\"\u001b[39m\u001b[38;5;124mPUT\u001b[39m\u001b[38;5;124m\"\u001b[39m:\n\u001b[0;32m    470\u001b[0m     \u001b[38;5;28;01mreturn\u001b[39;00m \u001b[38;5;28mself\u001b[39m\u001b[38;5;241m.\u001b[39mrest_client\u001b[38;5;241m.\u001b[39mPUT(\n\u001b[0;32m    471\u001b[0m         url,\n\u001b[0;32m    472\u001b[0m         query_params\u001b[38;5;241m=\u001b[39mquery_params,\n\u001b[1;32m   (...)\u001b[0m\n\u001b[0;32m    477\u001b[0m         body\u001b[38;5;241m=\u001b[39mbody,\n\u001b[0;32m    478\u001b[0m     )\n",
      "File \u001b[1;32mc:\\Python312\\Lib\\site-packages\\pinecone\\core\\openapi\\shared\\rest.py:343\u001b[0m, in \u001b[0;36mRESTClientObject.POST\u001b[1;34m(self, url, headers, query_params, post_params, body, _preload_content, _request_timeout)\u001b[0m\n\u001b[0;32m    333\u001b[0m \u001b[38;5;28;01mdef\u001b[39;00m \u001b[38;5;21mPOST\u001b[39m(\n\u001b[0;32m    334\u001b[0m     \u001b[38;5;28mself\u001b[39m,\n\u001b[0;32m    335\u001b[0m     url,\n\u001b[1;32m   (...)\u001b[0m\n\u001b[0;32m    341\u001b[0m     _request_timeout\u001b[38;5;241m=\u001b[39m\u001b[38;5;28;01mNone\u001b[39;00m,\n\u001b[0;32m    342\u001b[0m ):\n\u001b[1;32m--> 343\u001b[0m     \u001b[38;5;28;01mreturn\u001b[39;00m \u001b[38;5;28;43mself\u001b[39;49m\u001b[38;5;241;43m.\u001b[39;49m\u001b[43mrequest\u001b[49m\u001b[43m(\u001b[49m\n\u001b[0;32m    344\u001b[0m \u001b[43m        \u001b[49m\u001b[38;5;124;43m\"\u001b[39;49m\u001b[38;5;124;43mPOST\u001b[39;49m\u001b[38;5;124;43m\"\u001b[39;49m\u001b[43m,\u001b[49m\n\u001b[0;32m    345\u001b[0m \u001b[43m        \u001b[49m\u001b[43murl\u001b[49m\u001b[43m,\u001b[49m\n\u001b[0;32m    346\u001b[0m \u001b[43m        \u001b[49m\u001b[43mheaders\u001b[49m\u001b[38;5;241;43m=\u001b[39;49m\u001b[43mheaders\u001b[49m\u001b[43m,\u001b[49m\n\u001b[0;32m    347\u001b[0m \u001b[43m        \u001b[49m\u001b[43mquery_params\u001b[49m\u001b[38;5;241;43m=\u001b[39;49m\u001b[43mquery_params\u001b[49m\u001b[43m,\u001b[49m\n\u001b[0;32m    348\u001b[0m \u001b[43m        \u001b[49m\u001b[43mpost_params\u001b[49m\u001b[38;5;241;43m=\u001b[39;49m\u001b[43mpost_params\u001b[49m\u001b[43m,\u001b[49m\n\u001b[0;32m    349\u001b[0m \u001b[43m        \u001b[49m\u001b[43m_preload_content\u001b[49m\u001b[38;5;241;43m=\u001b[39;49m\u001b[43m_preload_content\u001b[49m\u001b[43m,\u001b[49m\n\u001b[0;32m    350\u001b[0m \u001b[43m        \u001b[49m\u001b[43m_request_timeout\u001b[49m\u001b[38;5;241;43m=\u001b[39;49m\u001b[43m_request_timeout\u001b[49m\u001b[43m,\u001b[49m\n\u001b[0;32m    351\u001b[0m \u001b[43m        \u001b[49m\u001b[43mbody\u001b[49m\u001b[38;5;241;43m=\u001b[39;49m\u001b[43mbody\u001b[49m\u001b[43m,\u001b[49m\n\u001b[0;32m    352\u001b[0m \u001b[43m    \u001b[49m\u001b[43m)\u001b[49m\n",
      "File \u001b[1;32mc:\\Python312\\Lib\\site-packages\\pinecone\\core\\openapi\\shared\\rest.py:277\u001b[0m, in \u001b[0;36mRESTClientObject.request\u001b[1;34m(self, method, url, query_params, headers, body, post_params, _preload_content, _request_timeout)\u001b[0m\n\u001b[0;32m    274\u001b[0m     \u001b[38;5;28;01mif\u001b[39;00m \u001b[38;5;241m500\u001b[39m \u001b[38;5;241m<\u001b[39m\u001b[38;5;241m=\u001b[39m r\u001b[38;5;241m.\u001b[39mstatus \u001b[38;5;241m<\u001b[39m\u001b[38;5;241m=\u001b[39m \u001b[38;5;241m599\u001b[39m:\n\u001b[0;32m    275\u001b[0m         \u001b[38;5;28;01mraise\u001b[39;00m ServiceException(http_resp\u001b[38;5;241m=\u001b[39mr)\n\u001b[1;32m--> 277\u001b[0m     \u001b[38;5;28;01mraise\u001b[39;00m PineconeApiException(http_resp\u001b[38;5;241m=\u001b[39mr)\n\u001b[0;32m    279\u001b[0m \u001b[38;5;28;01mreturn\u001b[39;00m r\n",
      "\u001b[1;31mPineconeApiException\u001b[0m: (400)\nReason: Bad Request\nHTTP response headers: HTTPHeaderDict({'Date': 'Sun, 25 Aug 2024 13:10:52 GMT', 'Content-Type': 'application/json', 'Content-Length': '103', 'Connection': 'keep-alive', 'x-pinecone-request-latency-ms': '1329', 'x-pinecone-request-id': '5359569843297793653', 'x-envoy-upstream-service-time': '53', 'server': 'envoy'})\nHTTP response body: {\"code\":3,\"message\":\"Vector dimension 1024 does not match the dimension of the index 768\",\"details\":[]}\n"
     ]
    }
   ],
   "source": [
    "index = pc.Index(\"rag-index\")\n",
    "upsert_response = index.upsert(\n",
    "    vectors=processed_data,\n",
    "    namespace=\"ns1\"\n",
    ")"
   ]
  },
  {
   "cell_type": "code",
   "execution_count": null,
   "metadata": {},
   "outputs": [],
   "source": []
  }
 ],
 "metadata": {
  "kernelspec": {
   "display_name": "Python 3",
   "language": "python",
   "name": "python3"
  },
  "language_info": {
   "codemirror_mode": {
    "name": "ipython",
    "version": 3
   },
   "file_extension": ".py",
   "mimetype": "text/x-python",
   "name": "python",
   "nbconvert_exporter": "python",
   "pygments_lexer": "ipython3",
   "version": "3.12.4"
  }
 },
 "nbformat": 4,
 "nbformat_minor": 2
}
