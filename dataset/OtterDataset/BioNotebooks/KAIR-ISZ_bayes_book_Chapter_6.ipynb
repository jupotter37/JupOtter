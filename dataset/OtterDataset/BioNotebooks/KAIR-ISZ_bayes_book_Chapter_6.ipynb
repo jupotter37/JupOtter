{
 "cells": [
  {
   "cell_type": "markdown",
   "metadata": {},
   "source": [
    "---\n",
    "jupytext:\n",
    "  formats: md:myst\n",
    "  text_representation:\n",
    "    extension: .md\n",
    "    format_name: myst\n",
    "kernelspec:\n",
    "  display_name: Python 3\n",
    "  language: python\n",
    "  name: python3\n",
    "---"
   ]
  },
  {
   "cell_type": "markdown",
   "metadata": {
    "collapsed": true,
    "slideshow": {
     "slide_type": "slide"
    }
   },
   "source": [
    "# Data analytics\n",
    "\n",
    "## Intro to statistical modelling\n",
    "\n",
    "### dr hab. inż. Jerzy Baranowski, Prof. AGH"
   ]
  },
  {
   "cell_type": "markdown",
   "metadata": {
    "slideshow": {
     "slide_type": "slide"
    }
   },
   "source": [
    "## What is the point?\n",
    "- We are focusing on Bayesian Data Analysis and statistical modelling\n",
    "- Models grounded in probability\n",
    "- As interpretable as possible\n",
    "- Maximally transparent"
   ]
  },
  {
   "cell_type": "markdown",
   "metadata": {
    "slideshow": {
     "slide_type": "slide"
    }
   },
   "source": [
    "## What is data science?\n",
    "<img src=\"img/tierney.png\" width=\"500\">\n",
    "\n",
    "```{figure} img/tierney.png\n",
    "---\n",
    "width: 500px\n",
    "name: interdisciplinary_ds\n",
    "---\n",
    "Here is my figure caption!\n",
    "```\n",
    "\n",
    "\n",
    "Work of data scientist intertwines both machine learning and statistical modelling and multiple other fields\n"
   ]
  },
  {
   "cell_type": "markdown",
   "metadata": {
    "slideshow": {
     "slide_type": "subslide"
    }
   },
   "source": [
    "## SM vs ML\n",
    "- Statistical modelling and machine learning are closely related fields, often hard to distinguish\n",
    "- They should not be directly compared because those comparisons are usually unfair to one or another, as they are for different problems"
   ]
  },
  {
   "cell_type": "markdown",
   "metadata": {
    "slideshow": {
     "slide_type": "subslide"
    }
   },
   "source": [
    "## SM\n",
    "- Incorporates probability\n",
    "- Considers data generation\n",
    "- Looks for interpretability\n",
    "- Usually regression based\n",
    "- Not limited to linear"
   ]
  },
  {
   "cell_type": "markdown",
   "metadata": {
    "slideshow": {
     "slide_type": "subslide"
    }
   },
   "source": [
    "## ML\n",
    "- No initial structure nor traditional parameters\n",
    "- No focus on single variable\n",
    "- Does not model the process but learns from data\n",
    "- Does not rely on additivity"
   ]
  },
  {
   "cell_type": "markdown",
   "metadata": {
    "slideshow": {
     "slide_type": "subslide"
    }
   },
   "source": [
    "## Advantages of ML\n",
    "- ML is the best in high Signal/Noise ratios\n",
    "- Especially visual and sound recognition, language translation\n",
    "- More of a black box approach\n",
    "- Large datasets with multiple number of features"
   ]
  },
  {
   "cell_type": "markdown",
   "metadata": {
    "slideshow": {
     "slide_type": "subslide"
    }
   },
   "source": [
    "## Advantages of SM\n",
    "- Handles small datasets better\n",
    "- Provides uncertainty estimates\n",
    "- Transparent\n",
    "- Allows investigation of influence of predictors"
   ]
  },
  {
   "cell_type": "markdown",
   "metadata": {
    "slideshow": {
     "slide_type": "subslide"
    }
   },
   "source": [
    "## Discussion points\n",
    "- ML might need more data for the same problem as SM\n",
    "- SM needs interactions to be specified, while ML can determine them more freely\n",
    "- ML usually is a better classifier/predictor but uncertanity is not handled that well\n",
    "- ML has much more vocal advocates\n",
    "- SM requires data reduction for larger datasets"
   ]
  },
  {
   "cell_type": "markdown",
   "metadata": {
    "slideshow": {
     "slide_type": "subslide"
    }
   },
   "source": [
    "## When to use SM?\n",
    "- Uncertainty is important or Signal/Noise ratio is small\n",
    "- Not perfect training data\n",
    "- Isolation of particular variables effects\n",
    "- Additivity \n",
    "- Smaller samples\n",
    "- Interpretability"
   ]
  },
  {
   "cell_type": "markdown",
   "metadata": {
    "slideshow": {
     "slide_type": "subslide"
    }
   },
   "source": [
    "## When to use ML?\n",
    "- Signal/noise ratio is large and little randomness\n",
    "- Relatively unlimited training data\n",
    "- Overall prediction is important\n",
    "- Uncertanity is not\n",
    "- Expected substantial nonlinearity\n",
    "- Huge samples\n",
    "- Black box is acceptable"
   ]
  },
  {
   "cell_type": "markdown",
   "metadata": {
    "slideshow": {
     "slide_type": "slide"
    }
   },
   "source": [
    "## Bayesian Statistical Modelling\n",
    "- Three essential steps:\n",
    "- Set up full probability model\n",
    "- Condition on the observed data\n",
    "- Check and evaluate model and its posterior distribution (repeat if necessary)"
   ]
  },
  {
   "cell_type": "markdown",
   "metadata": {
    "slideshow": {
     "slide_type": "subslide"
    }
   },
   "source": [
    "## Bayesian paradigm\n",
    "- Bayesian statistics differs in two main points with frequentist statistics:\n",
    "- Data is fixed, parameters are uncertain\n",
    "- Prior knowledge is inconporated in inference\n",
    "- Everything has a probability distribution"
   ]
  },
  {
   "cell_type": "markdown",
   "metadata": {
    "slideshow": {
     "slide_type": "subslide"
    }
   },
   "source": [
    "## Bayesian methods work\n",
    "Sharon Bertsch McGrayne\n",
    "\n",
    "<img src=\"img/theory.jpg\" width=\"200\">\n",
    "\n",
    "\n",
    "Available e.g. on Audible (1st month free)\n",
    "History of use of Bayesian statistics"
   ]
  },
  {
   "cell_type": "markdown",
   "metadata": {
    "slideshow": {
     "slide_type": "subslide"
    }
   },
   "source": [
    "## Main fields of Bayesian applications\n",
    "- Social sciences\n",
    "- Medicine and biology\n",
    "- Experimental sciences\n",
    "- Diagnositics \n",
    "- Decision support"
   ]
  },
  {
   "cell_type": "markdown",
   "metadata": {
    "slideshow": {
     "slide_type": "subslide"
    }
   },
   "source": [
    "## Main concepts of BDA\n",
    "- Observables and unobservables\n",
    "- Parameters $\\theta$, data $y$ and predictions $\\hat{y}$\n",
    "- Observational units and variables\n",
    "- Exchangeability\n",
    "- Explanatory variables (predictors)\n",
    "- Hierarchical modelling\n",
    "- Utility distributions"
   ]
  },
  {
   "cell_type": "markdown",
   "metadata": {
    "slideshow": {
     "slide_type": "slide"
    }
   },
   "source": [
    "## Bayes’ rule derivation\n",
    "\n",
    "It all starts with joint probability\n",
    "\n",
    "$$p(\\theta,y)=p(\\theta)p(y|\\theta)$$\n",
    "\n",
    "With relatively basic transformations\n",
    "\n",
    "$$ p(\\theta|y)=\\frac{p(\\theta,y)}{p(y)}=\\frac{p(\\theta)p(y|\\theta)}{p(y)}$$\n",
    "\n",
    "where \n",
    "\n",
    "$$p(y)=\\sum_\\theta p(\\theta)p(y|\\theta)$$"
   ]
  },
  {
   "cell_type": "markdown",
   "metadata": {
    "slideshow": {
     "slide_type": "subslide"
    }
   },
   "source": [
    "## Bayes' rule\n",
    "In most applicatations we focus on the numerator\n",
    "\n",
    "$$ \\underbrace{p(\\theta|y)}_{\\mathrm{posterior}}\\propto \n",
    "\\underbrace{p(\\theta)}_{\\mathrm{prior}}\n",
    "\\underbrace{p(y|\\theta)}_{\\mathrm{likelihood}}$$\n",
    "\n"
   ]
  },
  {
   "cell_type": "markdown",
   "metadata": {
    "slideshow": {
     "slide_type": "subslide"
    }
   },
   "source": [
    "![](img/quote.png)"
   ]
  },
  {
   "cell_type": "markdown",
   "metadata": {
    "slideshow": {
     "slide_type": "slide"
    }
   },
   "source": [
    "## Example – spelling correction (BDA3)\n",
    "Probability of writing ‘radom’ instead of ‘random’\n",
    "\n",
    "$$\n",
    "p(\\theta|y=\\mathrm{'radom'})\\propto p(\\theta)p(y=\\mathrm{'radom'}|\\theta)\n",
    "$$\n",
    "\n",
    "Simplifying assumptions – only 3 candidates $\\theta_1=\\mathrm{'random'}$, $\\theta_2=\\mathrm{'radon'}$ and $\\theta_3=\\mathrm{'radom'}$\n",
    "\n",
    "$$\n",
    "p(\\theta_1|y=\\mathrm{'radom'}))= \\frac{p(\\theta_1)p(y=\\mathrm{'radom'}|\\theta_1)}{\\sum_{j=1}^{3}p(\\theta_j)p(y=\\mathrm{'radom'}|\\theta_j)}\n",
    "$$\n"
   ]
  },
  {
   "cell_type": "markdown",
   "metadata": {
    "slideshow": {
     "slide_type": "subslide"
    }
   },
   "source": [
    "## Example cont.\n",
    "Data comes from Google spellcheck model\n",
    "\n",
    "#### Prior distribution\n",
    "\n",
    "| $\\theta$ | $p(\\theta)$             |\n",
    "|----------|-------------------------|\n",
    "| random   | $7.60\\ \\times\\ 10^{−5}$ |\n",
    "| radon    | $6.05\\ \\times\\ 10^{−6}$ |\n",
    "| radom    | $3.12\\ \\times\\ 10^{−7}$ |"
   ]
  },
  {
   "cell_type": "markdown",
   "metadata": {
    "slideshow": {
     "slide_type": "subslide"
    }
   },
   "source": [
    "## Example cont.\n",
    "\n",
    "#### Likelyhood\n",
    "\n",
    "| $\\theta$ | $p(\\mathrm{radom}\\vert\\theta)$   |\n",
    "|----------|----------------------------------|\n",
    "| random   | 0.00193                          |\n",
    "| radon    | 0.000143000                      |\n",
    "| radom    | 0.975                            |"
   ]
  },
  {
   "cell_type": "markdown",
   "metadata": {
    "slideshow": {
     "slide_type": "subslide"
    }
   },
   "source": [
    "\n",
    "## Example cont.\n",
    "Posterior distribution\n",
    "\n",
    "| $\\theta$ | $p(\\theta)p(\\mathrm{'radom'}\\vert\\theta)$ | $p(\\theta\\vert\\mathrm{'radom'})$ |\n",
    "|----------|-------------------------------------------|---------------------------------|\n",
    "| random   | $1.47\\ \\times\\ 10^{−7}$                   | $0.325000000$                           |\n",
    "| radon    | $8.65\\ \\times\\ 10^{−10}$                  | $0.002000000$                           |\n",
    "| radom    | $3.04\\ \\times\\ 10^{−7}$                   | $0.673000000$                           |"
   ]
  },
  {
   "cell_type": "markdown",
   "metadata": {
    "slideshow": {
     "slide_type": "slide"
    }
   },
   "source": [
    "# Data analytics\n",
    "\n",
    "## Bayesian basics\n",
    "\n",
    "### dr hab. inż. Jerzy Baranowski, Prof. AGH"
   ]
  },
  {
   "cell_type": "markdown",
   "metadata": {
    "slideshow": {
     "slide_type": "slide"
    }
   },
   "source": [
    "## Bayes' rule\n",
    "In most applicatations we focus on the numerator\n",
    "\n",
    "$$ \\underbrace{p(\\theta|y)}_{\\mathrm{posterior}}\\propto \n",
    "\\underbrace{p(\\theta)}_{\\mathrm{prior}}\n",
    "\\underbrace{p(y|\\theta)}_{\\mathrm{likelihood}}\n",
    "$$\n"
   ]
  },
  {
   "cell_type": "markdown",
   "metadata": {
    "slideshow": {
     "slide_type": "subslide"
    }
   },
   "source": [
    "## Predictions\n",
    "\n",
    "### Prior predictive distribution\n",
    "\n",
    "What values of data can we expect before actual measurements (based on prior knowledge)\n",
    "\n",
    "$$\n",
    "p(y)=\\int p(y,\\theta) d\\theta=\\int p(\\theta)p(y|\\theta)d\\theta\n",
    "$$"
   ]
  },
  {
   "cell_type": "markdown",
   "metadata": {
    "slideshow": {
     "slide_type": "subslide"
    }
   },
   "source": [
    "## Predictions\n",
    "\n",
    "### Posterior predictive distribution\n",
    "\n",
    "What values of new data can we expect based on previous measurements and prior knowledge\n",
    "\n",
    "$$\n",
    "p(\\tilde{y}|y)=\\int p(\\tilde{y},\\theta|y) d\\theta=\n",
    "\\int p(\\tilde{y}|\\theta,y) p(\\theta|y)d\\theta=\n",
    "\\int p(\\tilde{y}|\\theta) p(\\theta|y)d\\theta\n",
    "$$"
   ]
  },
  {
   "cell_type": "markdown",
   "metadata": {
    "slideshow": {
     "slide_type": "subslide"
    }
   },
   "source": [
    "## Additional notation and properties\n",
    "### Everything is conditional\n",
    "$$p(\\theta,y|H)=p(\\theta|H)p(y|\\theta,H)$$\n",
    "\n",
    "### Expectation\n",
    "$$ \\mathrm{E}(u)=\\int up(u) d u $$\n",
    "\n",
    "### Variance\n",
    "$$ \\mathrm{var}(u)=\\int(u-\\mathrm{E}(u))(u-\\mathrm{E}(u))^T p(u) du$$"
   ]
  },
  {
   "cell_type": "markdown",
   "metadata": {
    "slideshow": {
     "slide_type": "subslide"
    }
   },
   "source": [
    "## Conditional expectations and variances\n",
    "### Expectation of conditional distribution\n",
    "$$ \\mathrm{E}(u)=\\mathrm{E}(\\mathrm{E}(u|v)) $$\n",
    "$$ \\mathrm{E}(u)=\\iint u p(u,v) du dv =\\iint u p(u|v) du p(v) dv=\\int  \\mathrm{E}(u|v)p(v)d v $$\n",
    "### Variance of conditional distribution\n",
    "$$ \\mathrm{var}(u)=\\mathrm{E}(\\mathrm{var}(u|v))+\\mathrm{var}(\\mathrm{E}(u|v) $$"
   ]
  },
  {
   "cell_type": "markdown",
   "metadata": {
    "slideshow": {
     "slide_type": "subslide"
    }
   },
   "source": [
    "## Changing variables\n",
    "$$ v=f(u) $$\n",
    "### Discrete distributions\n",
    "$$\n",
    "p_v(v)=p_u(f^{-1}(v))\n",
    "$$\n",
    "\n",
    "## Continuous distributions\n",
    "$$\n",
    "p_v(v)=|J|p_u(f^{-1}(v))\n",
    "$$"
   ]
  },
  {
   "cell_type": "markdown",
   "metadata": {
    "slideshow": {
     "slide_type": "subslide"
    }
   },
   "source": [
    "## Typical variable changes\n",
    "It is useful to work on the unbounded interval i.e. $(-\\infty,\\infty)$. Often parameters are bounded, so we use transformations\n",
    "\n",
    "- Logarithmic (from $(0,\\infty)\\rightarrow (-\\infty,\\infty)$)\n",
    "$$ v=\\log(u)$$\n",
    "- Logistic (from $(0,1)\\rightarrow (-\\infty,\\infty)$)\n",
    "$$ v=\\mathrm{logit}(u) $$\n",
    "where \n",
    "$$ \\mathrm{logit}(x)=\\log\\left(\\frac{x}{1-x}\\right),\\quad\n",
    "\\mathrm{logit}^{-1}(y)=\\frac{\\exp(y)}{1+\\exp(y)}$$\n",
    "\n",
    "- Probit (from $(0,1)\\rightarrow (-\\infty,\\infty)$)\n",
    "$$ v=\\Phi^{-1}(u) $$\n",
    "where $\\phi$ is the standard normal cumulative distribution function"
   ]
  },
  {
   "cell_type": "markdown",
   "metadata": {
    "slideshow": {
     "slide_type": "slide"
    }
   },
   "source": [
    "## Single parameter models\n",
    "### Building blocks of more complicated models\n",
    "### Answers to basic questions e.g.:\n",
    "- What is the average difference between treatment groups?\n",
    "- How strong is the association between a treatment and an outcome?\n",
    "- Does the effect of the treatment depend upon a covariate?\n",
    "- How much variation is there among groups?"
   ]
  },
  {
   "cell_type": "markdown",
   "metadata": {
    "slideshow": {
     "slide_type": "subslide"
    }
   },
   "source": [
    "## Binomial model\n",
    "\n",
    "- Natural model for data that arise from a sequence of $n$ exchangeable trials \n",
    "- Two possible outcomes, conventionally labeled ‘success’ and ‘failure.’\n",
    "$$\n",
    "p(y|\\theta)=\\mathrm{Bin}(y|n,\\theta)={n \\choose y}\\theta^y (1-\\theta)^{n-y}\n",
    "$$\n"
   ]
  },
  {
   "cell_type": "markdown",
   "metadata": {
    "slideshow": {
     "slide_type": "subslide"
    }
   },
   "source": [
    "## Example of Bayesian learning\n",
    "Globe tossing:\n",
    "- The true proportion of water covering the globe is p.\n",
    "- A single toss of the globe has a probability $p$ of producing a water (W) observation.\n",
    "- It has a probability $1 − p$ of producing a land (L) observation. \n",
    "- Each toss of the globe is independent of the others."
   ]
  },
  {
   "cell_type": "markdown",
   "metadata": {
    "slideshow": {
     "slide_type": "subslide"
    }
   },
   "source": [
    "## Globe tossing likelyhood"
   ]
  },
  {
   "cell_type": "code",
   "execution_count": null,
   "metadata": {
    "slideshow": {
     "slide_type": "skip"
    }
   },
   "outputs": [],
   "source": [
    "import scipy.stats as stats\n",
    "import numpy as np\n",
    "#import seaborn as sns\n",
    "import matplotlib.pyplot as plt\n",
    "theta=np.linspace(0,1,200)\n",
    "#sns.set(style='darkgrid')"
   ]
  },
  {
   "cell_type": "code",
   "execution_count": null,
   "metadata": {},
   "outputs": [
    {
     "data": {
      "image/png": "[encoded data removed]",
      "text/plain": [
       "<Figure size 432x288 with 1 Axes>"
      ]
     },
     "metadata": {},
     "output_type": "display_data"
    }
   ],
   "source": [
    "y=7\n",
    "n=11\n",
    "likelihood = stats.binom.pmf(y, n, theta)\n",
    "plt.plot(theta,likelihood)\n",
    "plt.xlabel(r'$\\theta$')\n",
    "plt.show()"
   ]
  },
  {
   "cell_type": "markdown",
   "metadata": {
    "slideshow": {
     "slide_type": "subslide"
    }
   },
   "source": [
    "## How does it look analytically?\n",
    "Posterior distribution with uniform prior takes form\n",
    "$$ p(\\theta|y)\\propto \\theta^y (1-\\theta)^{n-y}$$\n",
    "Which has form of Beta distribution\n",
    "$$ \\theta|y\\sim \\mathrm{Beta} (y+1,n-y+1)$$"
   ]
  },
  {
   "cell_type": "markdown",
   "metadata": {
    "slideshow": {
     "slide_type": "slide"
    }
   },
   "source": [
    "## How to summarize posterior?\n",
    "- Ideally – by itself\n",
    "- Usually – mean, median, mode\n",
    "- Variation – standard deviation, the interquartile range, and other quantiles"
   ]
  },
  {
   "cell_type": "markdown",
   "metadata": {
    "slideshow": {
     "slide_type": "subslide"
    }
   },
   "source": [
    "## Interval summaries\n",
    "- Central interval - a symmetric interval around for example a mean\n",
    "- Highest posterior density region - smallest interval containing the desired probability\n",
    "\n",
    "<img src=\"img/intervals.png\" width=\"500\">\n"
   ]
  },
  {
   "cell_type": "markdown",
   "metadata": {
    "slideshow": {
     "slide_type": "slide"
    }
   },
   "source": [
    "## Priors\n",
    "- **population interpretation**, the prior distribution represents a population of possible parameter values, from which the $\\theta$ of current interest has been drawn\n",
    "- **state of knowledge interpretation**, we must express our knowledge (and uncertainty) about $\\theta$ as if its value could be thought of as a random realization from the prior distribution"
   ]
  },
  {
   "cell_type": "markdown",
   "metadata": {
    "slideshow": {
     "slide_type": "subslide"
    }
   },
   "source": [
    "## Informative priors\n",
    "- They try to introduce new information\n",
    "- Often interpreted as knowledge from previous experiments\n",
    "- For binomial example\n",
    "$$ p(\\theta)\\propto \\theta^{\\alpha-1}(1-\\theta)^{\\beta-1}$$\n",
    "It’s a Beta distribution $\\theta \\sim \\mathrm{Beta}(\\alpha, \\beta)$, prior density is equivalent to $\\alpha − 1$ prior successes and $\\beta − 1$ prior failures."
   ]
  },
  {
   "cell_type": "markdown",
   "metadata": {
    "slideshow": {
     "slide_type": "subslide"
    }
   },
   "source": [
    "## Posterior with informative prior\n",
    "Posterior has a closed form\n",
    "$$\n",
    "\\begin{aligned}\n",
    "p(\\theta|y)\\propto{}& \\theta^{y}(1-\\theta)^{n-y}\\theta^{\\alpha-1}(1-\\theta)^{\\beta-1}=\\\\\n",
    "={}&\\theta^{y+\\alpha-1}(1-\\theta)^{n-y+\\beta-1}=\\\\\n",
    "={}&\\mathrm{Beta}(\\alpha+y,\\beta+n-y)\n",
    "\\end{aligned}\n",
    "$$\n",
    "With expectation\n",
    "$$\n",
    "\\mathrm{E}(\\theta|y)=\\frac{\\alpha+y}{\\alpha+\\beta+n}\n",
    "$$\n",
    "which always lies between the sample proportion, $y/n$, and the prior mean, $\\alpha/(\\alpha + \\beta)$"
   ]
  },
  {
   "cell_type": "markdown",
   "metadata": {
    "slideshow": {
     "slide_type": "subslide"
    }
   },
   "source": [
    "## Conjugacy\n",
    "$$ p(\\theta|y)\\in\\mathcal{P}\\mathrm{for\\ all}\\ p(\\cdot|\\theta)\\in\\mathcal{F}\\ \\mathrm{and}\\ p(\\cdot)\\in\\mathcal{P}\n",
    "$$\n",
    "\n",
    "Class $\\mathcal{P}$ is conjugate to class $\\mathcal{F}$\n",
    "\n",
    "- Conjugacy makes everything easier, formulas are analytic so computation is faster\n",
    "- It should not be a goal by itself, as sometimes different distributions are much more justified"
   ]
  },
  {
   "cell_type": "markdown",
   "metadata": {
    "slideshow": {
     "slide_type": "subslide"
    }
   },
   "source": [
    "## Example - biology\n",
    "\n",
    "Is proportion of girls born with placenta previa lower than the proportion of female births in general population i.e. 0.485?\n",
    "\n",
    "Study results: of 980 births with PP 437 were female.\n",
    "<img src=\"img/placenta.png\" width=\"400\">\n"
   ]
  },
  {
   "cell_type": "markdown",
   "metadata": {
    "slideshow": {
     "slide_type": "subslide"
    }
   },
   "source": [
    "## Uniform prior\n",
    "Assuming uniform prior the analytic computation gives us posterior Beta(438,544). We can compute values analytically but its easier via sampling"
   ]
  },
  {
   "cell_type": "code",
   "execution_count": null,
   "metadata": {
    "slideshow": {
     "slide_type": "-"
    }
   },
   "outputs": [
    {
     "name": "stdout",
     "output_type": "stream",
     "text": [
      "94% HPD interval:[0.41608096 0.47592636]\n",
      "Median:0.4458620618113093\n"
     ]
    }
   ],
   "source": [
    "import arviz as az\n",
    "samples=np.random.beta(438,544,10000)\n",
    "interval=az.hdi(samples,0.94) \n",
    "\n",
    "print('94% HPD interval:'+str(interval))\n",
    "print('Median:'+str(np.median(samples)))"
   ]
  },
  {
   "cell_type": "markdown",
   "metadata": {
    "slideshow": {
     "slide_type": "subslide"
    }
   },
   "source": [
    "### Visualisation"
   ]
  },
  {
   "cell_type": "code",
   "execution_count": null,
   "metadata": {
    "slideshow": {
     "slide_type": "skip"
    }
   },
   "outputs": [
    {
     "data": {
      "image/png": "[encoded data removed]",
      "text/plain": [
       "<Figure size 432x288 with 1 Axes>"
      ]
     },
     "metadata": {},
     "output_type": "display_data"
    }
   ],
   "source": [
    "\n",
    "theta1=np.linspace(0.3,0.6,200)\n",
    "theta2=np.linspace(interval[0],interval[1],200)\n",
    "bd=stats.beta.pdf(theta1,438,544)\n",
    "bd2=stats.beta.pdf(theta2,438,544)\n",
    "\n",
    "fig, ax = plt.subplots()\n",
    "ax.plot(theta1,bd)\n",
    "ax.fill_between(theta2, bd2, alpha=0.5)\n",
    "plt.show()"
   ]
  },
  {
   "cell_type": "code",
   "execution_count": null,
   "metadata": {},
   "outputs": [
    {
     "data": {
      "image/png": "[encoded data removed]",
      "text/plain": [
       "<Figure size 432x288 with 1 Axes>"
      ]
     },
     "metadata": {},
     "output_type": "display_data"
    }
   ],
   "source": [
    "fig"
   ]
  },
  {
   "cell_type": "markdown",
   "metadata": {
    "slideshow": {
     "slide_type": "subslide"
    }
   },
   "source": [
    "## Conjugate priors\n",
    "\n",
    "For binomial likelihood Beta is its conjugate. We can encode our knowledge (mean value of whole population) using the following relationships:\n",
    "\n",
    "- mean of $\\mathrm{Beta}(\\alpha,\\beta)$ distribution is $\\frac{\\alpha}{\\alpha+\\beta}$\n",
    "- interpreting Beta, as previous binomial experiments then $\\alpha+\\beta$ is the population size\n",
    "- we can try to do computation using various population sizes keeping mean of $0.485$"
   ]
  },
  {
   "cell_type": "code",
   "execution_count": null,
   "metadata": {
    "slideshow": {
     "slide_type": "subslide"
    }
   },
   "outputs": [],
   "source": [
    "sizes=[2, 5, 10, 20, 100, 200, 1000]\n",
    "post_median=[]\n",
    "post_hpd=[]\n",
    "alphas=[]\n",
    "betas=[]\n",
    "for n in sizes:\n",
    "    alpha=0.485*n\n",
    "    beta=n-alpha\n",
    "    alphas.append(alpha)\n",
    "    betas.append(beta)\n",
    "    post_samples=np.random.beta(438+alpha,544+beta,1000)\n",
    "    post_median.append(np.median(post_samples))\n",
    "    post_hpd.append(az.hdi(post_samples,0.94))\n"
   ]
  },
  {
   "cell_type": "code",
   "execution_count": null,
   "metadata": {
    "slideshow": {
     "slide_type": "skip"
    }
   },
   "outputs": [],
   "source": [
    "import pandas as pd\n",
    "df=pd.DataFrame({'Population size':sizes,\n",
    "                 'Posterior median':post_median,\n",
    "                 'Posterior 94% credible interval':post_hpd})"
   ]
  },
  {
   "cell_type": "code",
   "execution_count": null,
   "metadata": {
    "slideshow": {
     "slide_type": "subslide"
    }
   },
   "outputs": [
    {
     "data": {
      "text/html": [
       "<div>\n",
       "<style scoped>\n",
       "    .dataframe tbody tr th:only-of-type {\n",
       "        vertical-align: middle;\n",
       "    }\n",
       "\n",
       "    .dataframe tbody tr th {\n",
       "        vertical-align: top;\n",
       "    }\n",
       "\n",
       "    .dataframe thead th {\n",
       "        text-align: right;\n",
       "    }\n",
       "</style>\n",
       "<table border=\"1\" class=\"dataframe\">\n",
       "  <thead>\n",
       "    <tr style=\"text-align: right;\">\n",
       "      <th></th>\n",
       "      <th>Population size</th>\n",
       "      <th>Posterior median</th>\n",
       "      <th>Posterior 94% credible interval</th>\n",
       "    </tr>\n",
       "  </thead>\n",
       "  <tbody>\n",
       "    <tr>\n",
       "      <th>0</th>\n",
       "      <td>2</td>\n",
       "      <td>0.446429</td>\n",
       "      <td>[0.4144847065876194, 0.47444481014315626]</td>\n",
       "    </tr>\n",
       "    <tr>\n",
       "      <th>1</th>\n",
       "      <td>5</td>\n",
       "      <td>0.445706</td>\n",
       "      <td>[0.41461637845804045, 0.47567394656086126]</td>\n",
       "    </tr>\n",
       "    <tr>\n",
       "      <th>2</th>\n",
       "      <td>10</td>\n",
       "      <td>0.446182</td>\n",
       "      <td>[0.41564827839177565, 0.47519065116467646]</td>\n",
       "    </tr>\n",
       "    <tr>\n",
       "      <th>3</th>\n",
       "      <td>20</td>\n",
       "      <td>0.445831</td>\n",
       "      <td>[0.41842096080499497, 0.47557166309718013]</td>\n",
       "    </tr>\n",
       "    <tr>\n",
       "      <th>4</th>\n",
       "      <td>100</td>\n",
       "      <td>0.448541</td>\n",
       "      <td>[0.42086019030459254, 0.47626062987793105]</td>\n",
       "    </tr>\n",
       "    <tr>\n",
       "      <th>5</th>\n",
       "      <td>200</td>\n",
       "      <td>0.452210</td>\n",
       "      <td>[0.42334691862965107, 0.4763137420761648]</td>\n",
       "    </tr>\n",
       "    <tr>\n",
       "      <th>6</th>\n",
       "      <td>1000</td>\n",
       "      <td>0.465782</td>\n",
       "      <td>[0.4459358992754644, 0.4873422832268561]</td>\n",
       "    </tr>\n",
       "  </tbody>\n",
       "</table>\n",
       "</div>"
      ],
      "text/plain": [
       "   Population size  Posterior median  \\\n",
       "0                2          0.446429   \n",
       "1                5          0.445706   \n",
       "2               10          0.446182   \n",
       "3               20          0.445831   \n",
       "4              100          0.448541   \n",
       "5              200          0.452210   \n",
       "6             1000          0.465782   \n",
       "\n",
       "              Posterior 94% credible interval  \n",
       "0   [0.4144847065876194, 0.47444481014315626]  \n",
       "1  [0.41461637845804045, 0.47567394656086126]  \n",
       "2  [0.41564827839177565, 0.47519065116467646]  \n",
       "3  [0.41842096080499497, 0.47557166309718013]  \n",
       "4  [0.42086019030459254, 0.47626062987793105]  \n",
       "5   [0.42334691862965107, 0.4763137420761648]  \n",
       "6    [0.4459358992754644, 0.4873422832268561]  "
      ]
     },
     "metadata": {},
     "output_type": "display_data"
    }
   ],
   "source": [
    "df.head(7)"
   ]
  },
  {
   "cell_type": "code",
   "execution_count": null,
   "metadata": {
    "slideshow": {
     "slide_type": "skip"
    }
   },
   "outputs": [
    {
     "data": {
      "image/png": "[encoded data removed]",
      "text/plain": [
       "<Figure size 504x288 with 3 Axes>"
      ]
     },
     "metadata": {},
     "output_type": "display_data"
    }
   ],
   "source": [
    "f, (ax1, ax2,ax3) = plt.subplots(3, 1, sharex=True,figsize=(7,4),tight_layout=True)\n",
    "ax1.plot(theta1,stats.beta.pdf(theta1,alphas[0],betas[0]),theta1, stats.beta.pdf(theta1,438+alphas[0],544+betas[0]),theta1, stats.beta.pdf(theta1,438,544))\n",
    "ax1.set_title('Prior population size='+str(sizes[0]))\n",
    "ax1.set_yticks([])\n",
    "ax2.plot(theta1,stats.beta.pdf(theta1,alphas[3],betas[3]),theta1, stats.beta.pdf(theta1,438+alphas[3],544+betas[3]),theta1, stats.beta.pdf(theta1,438,544))\n",
    "ax2.set_title('Prior population size='+str(sizes[4]))\n",
    "ax2.set_yticks([])\n",
    "ax3.plot(theta1,stats.beta.pdf(theta1,alphas[5],betas[5]),theta1, stats.beta.pdf(theta1,438+alphas[5],544+betas[5]),theta1, stats.beta.pdf(theta1,438,544))\n",
    "ax3.set_title('Prior population size='+str(sizes[6]))\n",
    "ax3.set_yticks([])\n",
    "f.legend(['Prior','Posterior','Posterior with uniform prior'],loc=1)\n",
    "plt.show()"
   ]
  },
  {
   "cell_type": "code",
   "execution_count": null,
   "metadata": {
    "slideshow": {
     "slide_type": "subslide"
    }
   },
   "outputs": [],
   "source": [
    "f"
   ]
  },
  {
   "cell_type": "markdown",
   "metadata": {
    "slideshow": {
     "slide_type": "subslide"
    }
   },
   "source": [
    "## Non-conjugate prior\n"
   ]
  },
  {
   "cell_type": "code",
   "execution_count": null,
   "metadata": {
    "slideshow": {
     "slide_type": "skip"
    }
   },
   "outputs": [
    {
     "data": {
      "image/png": "[encoded data removed]",
      "text/plain": [
       "<Figure size 504x288 with 3 Axes>"
      ]
     },
     "metadata": {},
     "output_type": "display_data"
    }
   ],
   "source": [
    "f2, (ax1, ax2,ax3) = plt.subplots(3, 1, sharex=True,figsize=(7,4),tight_layout=True)\n",
    "\n",
    "ax1.plot(theta1, stats.beta.pdf(theta1,438,544))\n",
    "ax1.set_title('Likelihood')\n",
    "ax2.plot(theta1,stats.norm.pdf(theta1,0.485,0.05))\n",
    "ax2.set_title('Nonconjugate prior: N(0.485,0.05)')\n",
    "post=stats.beta.pdf(theta1,438,544)*stats.norm.pdf(theta1,0.485,0.05)\n",
    "post=post/np.sum(post)\n",
    "ax3.plot(theta1, post)\n",
    "ax3.set_title('Non-conjugate posterior')\n",
    "ax1.set_yticks([])\n",
    "ax2.set_yticks([])\n",
    "ax3.set_yticks([])\n",
    "plt.show()\n",
    "\n"
   ]
  },
  {
   "cell_type": "markdown",
   "metadata": {
    "slideshow": {
     "slide_type": "slide"
    }
   },
   "source": [
    "# Data analytics\n",
    "\n",
    "## Exploring distributions\n",
    "\n",
    "### dr hab. inż. Jerzy Baranowski, Prof. AGH"
   ]
  },
  {
   "cell_type": "code",
   "execution_count": null,
   "metadata": {
    "slideshow": {
     "slide_type": "skip"
    }
   },
   "outputs": [],
   "source": [
    "import scipy.stats as stats\n",
    "import numpy as np\n",
    "import arviz as az\n",
    "import matplotlib.pyplot as plt\n",
    "\n",
    "light=\"#FFFCDC\"\n",
    "light_highlight=\"#FEF590\"\n",
    "mid=\"#FDED2A\"\n",
    "mid_highlight=\"#f0dc05\"\n",
    "dark=\"#EECA02\"\n",
    "dark_highlight=\"#BB9700\"\n",
    "green=\"#00FF00\"\n",
    "light_grey=\"#DDDDDD\""
   ]
  },
  {
   "cell_type": "markdown",
   "metadata": {
    "slideshow": {
     "slide_type": "slide"
    }
   },
   "source": [
    "## Managing expectations\n",
    "\n",
    "- Main point of probabilistic compoutation is to compute an expectation of certain function of parameters. \n",
    "\n",
    "- It generally covers all kind of statistics\n",
    "\n",
    "- Has many beneficial properties"
   ]
  },
  {
   "cell_type": "markdown",
   "metadata": {
    "slideshow": {
     "slide_type": "subslide"
    }
   },
   "source": [
    "## Expectations\n",
    "\n",
    "In general case, function of parameter $q\\in Q$: $f(q)$  with respect to a probability distribution (mass function) $\\pi(q)$ has expectation given by\n",
    "\n",
    "$$\n",
    "\\mathbb{E}_{\\pi}[f] = \\int_{Q} \\mathrm{d} q \\, \\pi(q) \\, f(q).\n",
    "$$\n",
    "\n",
    "or in discrete case\n",
    "\n",
    "$$\n",
    "\\mathbb{E}_{\\pi}[f] = \\sum_{q \\in Q} \\pi(q) \\, f(q).\n",
    "$$"
   ]
  },
  {
   "cell_type": "markdown",
   "metadata": {
    "slideshow": {
     "slide_type": "subslide"
    }
   },
   "source": [
    "## How to compute expectations?\n",
    "\n",
    "Analytic integration is practically impossible. \n",
    "\n",
    "We are left with quadratures, for ex. Euler\n",
    "$$\n",
    "\\mathbb{E}_{\\pi}[f] \\approx \n",
    "\\sum_{n = 1}^{N} (\\Delta q)_{n} \\, \\pi(q_{n}) \\, f(q_{n}).\n",
    "$$\n"
   ]
  },
  {
   "cell_type": "markdown",
   "metadata": {
    "slideshow": {
     "slide_type": "subslide"
    }
   },
   "source": [
    "## How to compute expectations?\n",
    "\n",
    "Other option is exact sampling, leading to so called Monte Carlo estimators.\n",
    "\n",
    "If we can generate set of samples $\\{ q_{1}, \\ldots, q_{N} \\} \\in Q$, such that\n",
    "\n",
    "$$\\hat{f}_{N}^{\\text{MC}} = \\frac{1}{N} \\sum_{n = 1}^{N} f(q_{n}),$$\n",
    "\n",
    "asymptotically converges\n",
    "\n",
    "$$\n",
    "\\lim_{N \\rightarrow \\infty} \\hat{f}_{N}^{\\text{MC}} = \\mathbb{E}_{\\pi}[f].\n",
    "$$\n",
    "\n",
    "Then we have an exact sampling procedure\n"
   ]
  },
  {
   "cell_type": "markdown",
   "metadata": {
    "slideshow": {
     "slide_type": "subslide"
    }
   },
   "source": [
    "## Monte Carlo estimators\n",
    "\n",
    "Provided, that samples are generated properly we can quantify estimator error\n",
    "\n",
    "$$\n",
    "\\frac{ \\hat{f}_{N}^{\\text{MC}} - \\mathbb{E}_{\\pi}[f] }\n",
    "{\\text{MC-SE}_{N}[f] } \n",
    "\\sim \\mathcal{N}(0, 1),\n",
    "$$\n",
    "\n",
    "With Monte Carlo Standard Error given by\n",
    "$$\n",
    "\\text{MC-SE}_{N}[f] \n",
    "= \\sqrt{ \\frac{ \\text{Var}_{\\pi}[f]}{N} }.\n",
    "$$"
   ]
  },
  {
   "cell_type": "markdown",
   "metadata": {
    "slideshow": {
     "slide_type": "slide"
    }
   },
   "source": [
    "## Motivational example\n",
    "- We return to Mass Effect experiment using grid approximation\n"
   ]
  },
  {
   "cell_type": "markdown",
   "metadata": {},
   "source": [
    "<img src=\"img/masseffect.png\" alt=\"drawing\" width=\"500\"/> "
   ]
  },
  {
   "cell_type": "markdown",
   "metadata": {
    "slideshow": {
     "slide_type": "-"
    }
   },
   "source": [
    "<div style=\"text-align: right\"> <span style=\"font-size:.3em;\">Image &copy; EA &amp; Bioware </div>\n"
   ]
  },
  {
   "cell_type": "markdown",
   "metadata": {
    "slideshow": {
     "slide_type": "subslide"
    }
   },
   "source": [
    "## Grid approximation\n",
    "1. Define the grid. This means you decide how many points to use in estimating the posterior, and then you make a list of the parameter values on the grid.\n",
    "2. Compute the value of the prior at each parameter value on the grid.\n",
    "3. Compute the likelihood at each parameter value.\n",
    "4. Compute the unstandardized posterior at each parameter value, by multiplying the prior by the likelihood.\n",
    "5. Finally, standardize the posterior, by dividing each value by the sum of all values."
   ]
  },
  {
   "cell_type": "code",
   "execution_count": null,
   "metadata": {
    "slideshow": {
     "slide_type": "subslide"
    }
   },
   "outputs": [],
   "source": [
    "def posterior_grid_approx(grid_points=5, success=6, tosses=9):\n",
    "    \n",
    "    # define grid\n",
    "    p_grid = np.linspace(0, 1, grid_points)\n",
    "\n",
    "    # define prior\n",
    "    prior = np.repeat(5, grid_points)  # uniform\n",
    "   \n",
    "    # compute likelihood at each point in the grid\n",
    "    likelihood = stats.binom.pmf(success, tosses, p_grid)\n",
    "\n",
    "    # compute product of likelihood and prior\n",
    "    unstd_posterior = likelihood * prior\n",
    "\n",
    "    # standardize the posterior, so it sums to 1\n",
    "    posterior = unstd_posterior / unstd_posterior.sum()\n",
    "    return p_grid, posterior"
   ]
  },
  {
   "cell_type": "code",
   "execution_count": null,
   "metadata": {},
   "outputs": [
    {
     "data": {
      "text/plain": [
       "(array([0.  , 0.25, 0.5 , 0.75, 1.  ]),\n",
       " array([0.        , 0.02129338, 0.40378549, 0.57492114, 0.        ]))"
      ]
     },
     "metadata": {},
     "output_type": "display_data"
    }
   ],
   "source": [
    "posterior_grid_approx()"
   ]
  },
  {
   "cell_type": "markdown",
   "metadata": {
    "slideshow": {
     "slide_type": "subslide"
    }
   },
   "source": [
    "## Grid approximation example"
   ]
  },
  {
   "cell_type": "code",
   "execution_count": null,
   "metadata": {
    "slideshow": {
     "slide_type": "skip"
    }
   },
   "outputs": [
    {
     "data": {
      "image/png": "[encoded data removed]",
      "text/plain": [
       "<Figure size 504x288 with 2 Axes>"
      ]
     },
     "metadata": {},
     "output_type": "display_data"
    }
   ],
   "source": [
    "f3, (ax1, ax2) = plt.subplots(1, 2, sharex=True,figsize=(7,4),tight_layout=True)\n",
    "grid5=posterior_grid_approx()\n",
    "grid20=posterior_grid_approx(20)\n",
    "ax1.plot(grid5[0],grid5[1],marker='o',color=dark)\n",
    "ax1.set_title('5 points')\n",
    "ax1.set_xlabel('probability of water')\n",
    "ax1.set_ylabel('posterior probability')\n",
    "ax1.set_yticks([])\n",
    "ax2.plot(grid20[0],grid20[1],marker='o',color=dark)\n",
    "ax2.set_title('20 points')\n",
    "ax2.set_xlabel('probability of water')\n",
    "ax2.set_yticks([])\n",
    "plt.show()\n"
   ]
  },
  {
   "cell_type": "markdown",
   "metadata": {},
   "source": [
    "```{code-cell} ipython3\n",
    "---\n",
    "render:\n",
    "  image:\n",
    "    alt: fun-fish\n",
    "    classes: shadow bg-primary\n",
    "  figure:\n",
    "    caption: |\n",
    "      Hey everyone its **party** time!\n",
    "    name: fun-fish\n",
    "---\n",
    "f3, (ax1, ax2) = plt.subplots(1, 2, sharex=True,figsize=(7,4),tight_layout=True)\n",
    "grid5=posterior_grid_approx()\n",
    "grid20=posterior_grid_approx(20)\n",
    "ax1.plot(grid5[0],grid5[1],marker='o',color=dark)\n",
    "ax1.set_title('5 points')\n",
    "ax1.set_xlabel('probability of water')\n",
    "ax1.set_ylabel('posterior probability')\n",
    "ax1.set_yticks([])\n",
    "ax2.plot(grid20[0],grid20[1],marker='o',color=dark)\n",
    "ax2.set_title('20 points')\n",
    "ax2.set_xlabel('probability of water')\n",
    "ax2.set_yticks([])\n",
    "plt.show()\n",
    "\n",
    "```"
   ]
  },
  {
   "cell_type": "markdown",
   "metadata": {
    "slideshow": {
     "slide_type": "slide"
    }
   },
   "source": [
    "## Summarizing by sampling\n",
    "- The easiest way to get information about even complicated posteriors is to simulate data that correspond to it and get parameter estimates from sampling.\n",
    "- For single parameter problems the easiest way is to use inverse cumulative distribution function \n",
    "- Grid approximation is more universal"
   ]
  },
  {
   "cell_type": "code",
   "execution_count": null,
   "metadata": {
    "slideshow": {
     "slide_type": "subslide"
    }
   },
   "outputs": [],
   "source": [
    "def posterior_grid_approx(grid_points=5, success=7, tosses=11,prior_sel=1):\n",
    "    \n",
    "    # define grid\n",
    "    p_grid = np.linspace(0, 1, grid_points)\n",
    "\n",
    "    # define prior\n",
    "    if prior_sel==1:\n",
    "        prior = np.repeat(5, grid_points)  # uniform\n",
    "    elif prior_sel==2:\n",
    "        prior = (p_grid >= 0.5).astype(int)  # truncated\n",
    "    elif prior_sel==3:    \n",
    "        prior = np.exp(- 5 * abs(p_grid - 0.5))  # double exp \n",
    "    else:\n",
    "        raise ValueError('Unsuported prior selection')\n",
    "    # compute likelihood at each point in the grid\n",
    "    likelihood = stats.binom.pmf(success, tosses, p_grid)\n",
    "\n",
    "    # compute product of likelihood and prior\n",
    "    unstd_posterior = likelihood * prior\n",
    "\n",
    "    # standardize the posterior, so it sums to 1\n",
    "    posterior = unstd_posterior / unstd_posterior.sum()\n",
    "    return p_grid, posterior"
   ]
  },
  {
   "cell_type": "code",
   "execution_count": null,
   "metadata": {
    "slideshow": {
     "slide_type": "subslide"
    }
   },
   "outputs": [
    {
     "data": {
      "image/png": "[encoded data removed]",
      "text/plain": [
       "<Figure size 504x288 with 1 Axes>"
      ]
     },
     "metadata": {},
     "output_type": "display_data"
    }
   ],
   "source": [
    "\n",
    "p_grid, posterior=posterior_grid_approx(100,6,9,prior_sel=3)\n",
    "p_grid, prior=posterior_grid_approx(100,0,0,prior_sel=3)\n",
    "fig,ax = plt.subplots(1, 1, figsize=(7,4),tight_layout=True)\n",
    "ax.plot(p_grid, posterior,color=dark,label='Posterior')\n",
    "ax.plot(p_grid, prior,color=mid,label='Prior')\n",
    "\n",
    "\n",
    "ax.set_xlabel('probability of water')\n",
    "ax.set_ylabel(' probability')\n",
    "ax.set_yticks([])\n",
    "ax.legend()\n",
    "plt.show()"
   ]
  },
  {
   "cell_type": "markdown",
   "metadata": {
    "slideshow": {
     "slide_type": "subslide"
    }
   },
   "source": [
    "## Sampling from grid posterior"
   ]
  },
  {
   "cell_type": "code",
   "execution_count": null,
   "metadata": {
    "slideshow": {
     "slide_type": "-"
    }
   },
   "outputs": [
    {
     "data": {
      "image/png": "[encoded data removed]",
      "text/plain": [
       "<Figure size 504x288 with 1 Axes>"
      ]
     },
     "metadata": {},
     "output_type": "display_data"
    }
   ],
   "source": [
    "np.random.seed(44)\n",
    "samples=np.random.choice(p_grid,size=10000,replace=True,p=posterior)\n",
    "\n",
    "fig,ax = plt.subplots(1, 1, figsize=(7,4),tight_layout=True)\n",
    "ax.scatter(range(10000),samples,color=dark,edgecolor=dark_highlight)\n",
    "ax.set_xlabel('sample number')\n",
    "ax.set_ylabel(r'value of $\\theta$')\n",
    "plt.show()\n"
   ]
  },
  {
   "cell_type": "markdown",
   "metadata": {
    "slideshow": {
     "slide_type": "skip"
    }
   },
   "source": [
    "## Weakly informative priors\n",
    "We characterize a prior distribution as weakly informative if it is proper but is set up so that the information it does provide is intentionally weaker than whatever actual prior knowledge is available. \n",
    "- Make uninformative more complicated\n",
    "- Make informative less complicated"
   ]
  },
  {
   "cell_type": "code",
   "execution_count": null,
   "metadata": {
    "slideshow": {
     "slide_type": "subslide"
    }
   },
   "outputs": [
    {
     "data": {
      "image/png": "[encoded data removed]",
      "text/plain": [
       "<Figure size 504x288 with 1 Axes>"
      ]
     },
     "metadata": {},
     "output_type": "display_data"
    }
   ],
   "source": [
    "fig,ax = plt.subplots(1, 1, figsize=(7,4),tight_layout=True)\n",
    "ax.hist(samples,bins=25,density=True,color=dark,edgecolor=dark_highlight)\n",
    "ax.set_xlabel(r'value of $\\theta$')\n",
    "plt.show()"
   ]
  },
  {
   "cell_type": "code",
   "execution_count": null,
   "metadata": {
    "slideshow": {
     "slide_type": "subslide"
    }
   },
   "outputs": [
    {
     "name": "stdout",
     "output_type": "stream",
     "text": [
      "0.24107415057429232\n"
     ]
    }
   ],
   "source": [
    "# posterior probability where p < 0.5\n",
    "print(np.sum( posterior[ p_grid < 0.5 ] ))"
   ]
  },
  {
   "cell_type": "code",
   "execution_count": null,
   "metadata": {},
   "outputs": [
    {
     "name": "stdout",
     "output_type": "stream",
     "text": [
      "0.2371\n"
     ]
    }
   ],
   "source": [
    "# same by sampling\n",
    "print(np.sum( samples < 0.5 ) / 1e4)"
   ]
  },
  {
   "cell_type": "code",
   "execution_count": null,
   "metadata": {},
   "outputs": [
    {
     "name": "stdout",
     "output_type": "stream",
     "text": [
      "0.6694\n"
     ]
    }
   ],
   "source": [
    "# intervals of interest\n",
    "print(np.sum( (samples > 0.5) & (samples < 0.75) ) / 1e4)"
   ]
  },
  {
   "cell_type": "code",
   "execution_count": null,
   "metadata": {},
   "outputs": [
    {
     "data": {
      "text/plain": [
       "array([0.44444444, 0.74747475])"
      ]
     },
     "metadata": {},
     "output_type": "display_data"
    }
   ],
   "source": [
    "# quantiles\n",
    "np.quantile(samples, [0.1,0.9])"
   ]
  },
  {
   "cell_type": "markdown",
   "metadata": {
    "slideshow": {
     "slide_type": "subslide"
    }
   },
   "source": [
    "## Prior predictive distribution"
   ]
  },
  {
   "cell_type": "code",
   "execution_count": null,
   "metadata": {},
   "outputs": [
    {
     "name": "stdout",
     "output_type": "stream",
     "text": [
      "Mean rate of success = 0.5017\n"
     ]
    }
   ],
   "source": [
    "pr_samples=np.random.choice(p_grid,size=10000,replace=True,p=prior)\n",
    "pr_pr_d_samples=np.random.binomial(1,pr_samples)\n",
    "\n",
    "print('Mean rate of success = {}'.format(np.sum(pr_pr_d_samples)/1e4))\n",
    "\n"
   ]
  },
  {
   "cell_type": "code",
   "execution_count": null,
   "metadata": {},
   "outputs": [
    {
     "data": {
      "image/png": "[encoded data removed]",
      "text/plain": [
       "<Figure size 504x288 with 1 Axes>"
      ]
     },
     "metadata": {},
     "output_type": "display_data"
    }
   ],
   "source": [
    "fig,ax = plt.subplots(1, 1, figsize=(7,4),tight_layout=True)\n",
    "ax.hist(pr_pr_d_samples,bins=[-.1,.1,.9,1.1],density=True,color=dark,edgecolor=dark_highlight)\n",
    "ax.set_xlabel('outcome')\n",
    "ax.set_xticks([0,1])\n",
    "ax.set_yticks([])\n",
    "plt.show()"
   ]
  },
  {
   "cell_type": "markdown",
   "metadata": {
    "slideshow": {
     "slide_type": "subslide"
    }
   },
   "source": [
    "## Posterior predictive distribution"
   ]
  },
  {
   "cell_type": "code",
   "execution_count": null,
   "metadata": {
    "slideshow": {
     "slide_type": "-"
    }
   },
   "outputs": [
    {
     "name": "stdout",
     "output_type": "stream",
     "text": [
      "Mean rate of success = 0.5813\n"
     ]
    }
   ],
   "source": [
    "post_samples=np.random.choice(p_grid,size=10000,replace=True,p=posterior)\n",
    "post_pr_d_samples=np.random.binomial(1,post_samples)\n",
    "print('Mean rate of success = {}'.format(np.sum(post_pr_d_samples)/1e4))\n"
   ]
  },
  {
   "cell_type": "code",
   "execution_count": null,
   "metadata": {},
   "outputs": [
    {
     "data": {
      "image/png": "[encoded data removed]",
      "text/plain": [
       "<Figure size 504x288 with 1 Axes>"
      ]
     },
     "metadata": {},
     "output_type": "display_data"
    }
   ],
   "source": [
    "fig,ax = plt.subplots(1, 1, figsize=(7,4),tight_layout=True)\n",
    "ax.hist(post_pr_d_samples,bins=[-.1,.1,.9,1.1],density=True,color=dark,edgecolor=dark_highlight)\n",
    "ax.set_xlabel('outcome')\n",
    "ax.set_xticks([0,1])\n",
    "ax.set_yticks([])\n",
    "plt.show()\n"
   ]
  },
  {
   "cell_type": "code",
   "execution_count": null,
   "metadata": {},
   "outputs": [
    {
     "data": {
      "text/plain": [
       "array([1, 0, 0, ..., 0, 1, 1])"
      ]
     },
     "metadata": {},
     "output_type": "display_data"
    }
   ],
   "source": [
    "post_pr_d_samples"
   ]
  },
  {
   "cell_type": "markdown",
   "metadata": {
    "slideshow": {
     "slide_type": "subslide"
    }
   },
   "source": [
    "## Do grid approximations generalize?\n",
    "It depends"
   ]
  },
  {
   "cell_type": "markdown",
   "metadata": {},
   "source": [
    "<img src=\"img/grid_density.png\" alt=\"drawing\" width=\"500\"/> "
   ]
  },
  {
   "cell_type": "markdown",
   "metadata": {
    "slideshow": {
     "slide_type": "-"
    }
   },
   "source": [
    "<div style=\"text-align: right\"> <span style=\"font-size:.3em;\">Image &copy; <a href=\"https://betanalpha.github.io\"> Michael Betancourt</a></span> </div>\n"
   ]
  },
  {
   "cell_type": "markdown",
   "metadata": {
    "slideshow": {
     "slide_type": "subslide"
    }
   },
   "source": [
    "## Sometimes geometry is difficult"
   ]
  },
  {
   "cell_type": "markdown",
   "metadata": {
    "slideshow": {
     "slide_type": "-"
    }
   },
   "source": [
    "<img src=\"img/grid_negligible.png\" alt=\"drawing\" width=\"500\"/>\n"
   ]
  },
  {
   "cell_type": "markdown",
   "metadata": {
    "slideshow": {
     "slide_type": "-"
    }
   },
   "source": [
    "<div style=\"text-align: right\"> <span style=\"font-size:.3em;\">Image &copy; <a href=\"https://betanalpha.github.io\"> Michael Betancourt</a></span> </div>\n"
   ]
  },
  {
   "cell_type": "markdown",
   "metadata": {
    "slideshow": {
     "slide_type": "slide"
    }
   },
   "source": [
    "## What contributes to expectation?\n",
    "Expectation is an integral\n",
    "\n",
    "$$\n",
    "\\mathbb{E}_{\\pi}[f] = \\int_{Q} \\mathrm{d} q \\, \\pi(q) \\, f(q).\n",
    "$$\n",
    "\n",
    "Intuitively, wherever distribution $\\pi(q)$ is large, it should contribute the most, in particular next to maximum (mode)."
   ]
  },
  {
   "cell_type": "markdown",
   "metadata": {
    "slideshow": {
     "slide_type": "-"
    }
   },
   "source": [
    "<img src=\"img/conc_of_meas_anal_1.png\" alt=\"drawing\" width=\"400\"/>\n"
   ]
  },
  {
   "cell_type": "markdown",
   "metadata": {
    "slideshow": {
     "slide_type": "-"
    }
   },
   "source": [
    "<div style=\"text-align: right\"> <span style=\"font-size:.3em;\">Image &copy; <a href=\"https://betanalpha.github.io\"> Michael Betancourt</a></span> </div>\n"
   ]
  },
  {
   "cell_type": "markdown",
   "metadata": {
    "slideshow": {
     "slide_type": "subslide"
    }
   },
   "source": [
    "## But what about the volume?\n",
    "\n",
    "$dq$ is also under the integral, and volume rises with dimension\n",
    "<img src=\"img/box-1d.png\" alt=\"drawing\" width=\"150\"/>\n",
    "<img src=\"img/box-2d.png\" alt=\"drawing\" width=\"500\"/>\n",
    "<img src=\"img/box-3d.png\" alt=\"drawing\" width=\"700\"/>\n",
    "<div style=\"text-align: right\"> <span style=\"font-size:.3em;\">Image &copy; <a href=\"https://betanalpha.github.io\"> Michael Betancourt</a></span> </div>"
   ]
  },
  {
   "cell_type": "markdown",
   "metadata": {
    "slideshow": {
     "slide_type": "subslide"
    }
   },
   "source": [
    "## Volume rises exponentially with dimension"
   ]
  },
  {
   "cell_type": "markdown",
   "metadata": {
    "slideshow": {
     "slide_type": "-"
    }
   },
   "source": [
    "<img src=\"img/conc_of_meas_anal_2.png\" alt=\"drawing\" width=\"400\"/>\n"
   ]
  },
  {
   "cell_type": "markdown",
   "metadata": {
    "slideshow": {
     "slide_type": "-"
    }
   },
   "source": [
    "<div style=\"text-align: right\"> <span style=\"font-size:.3em;\">Image &copy; <a href=\"https://betanalpha.github.io\"> Michael Betancourt</a></span> </div>\n"
   ]
  },
  {
   "cell_type": "markdown",
   "metadata": {
    "slideshow": {
     "slide_type": "subslide"
    }
   },
   "source": [
    "## It is the product that counts\n"
   ]
  },
  {
   "cell_type": "markdown",
   "metadata": {
    "slideshow": {
     "slide_type": "-"
    }
   },
   "source": [
    "<img src=\"img/conc_of_meas_anal_3.png\" alt=\"drawing\" width=\"400\"/>\n"
   ]
  },
  {
   "cell_type": "markdown",
   "metadata": {
    "slideshow": {
     "slide_type": "-"
    }
   },
   "source": [
    "<div style=\"text-align: right\"> <span style=\"font-size:.3em;\">Image &copy; <a href=\"https://betanalpha.github.io\"> Michael Betancourt</a></span> </div>\n"
   ]
  },
  {
   "cell_type": "markdown",
   "metadata": {
    "slideshow": {
     "slide_type": "subslide"
    }
   },
   "source": [
    "## Typical set\n",
    "What contributes the most to the expectation are the values from the typical set"
   ]
  },
  {
   "cell_type": "markdown",
   "metadata": {
    "slideshow": {
     "slide_type": "-"
    }
   },
   "source": [
    "<img src=\"img/conc_of_meas_anal_4.png\" alt=\"drawing\" width=\"400\"/>\n"
   ]
  },
  {
   "cell_type": "markdown",
   "metadata": {
    "slideshow": {
     "slide_type": "-"
    }
   },
   "source": [
    "<div style=\"text-align: right\"> <span style=\"font-size:.3em;\">Image &copy; <a href=\"https://betanalpha.github.io\"> Michael Betancourt</a></span> </div>\n"
   ]
  },
  {
   "cell_type": "markdown",
   "metadata": {
    "slideshow": {
     "slide_type": "subslide"
    }
   },
   "source": [
    "## Concentration of measure\n",
    "\n",
    "Typical set, is a \"fuzzy surface\" that is located progressively away from the mode with the rise of dimension."
   ]
  },
  {
   "cell_type": "markdown",
   "metadata": {},
   "source": [
    "<img src=\"img/typical_set.png\" alt=\"drawing\" width=\"500\"/> "
   ]
  },
  {
   "cell_type": "markdown",
   "metadata": {
    "slideshow": {
     "slide_type": "-"
    }
   },
   "source": [
    "<div style=\"text-align: right\"> <span style=\"font-size:.3em;\">Image &copy; <a href=\"https://betanalpha.github.io\"> Michael Betancourt</a></span> </div>\n"
   ]
  },
  {
   "cell_type": "markdown",
   "metadata": {
    "slideshow": {
     "slide_type": "subslide"
    }
   },
   "source": [
    "## Typical set is where we should sample from"
   ]
  },
  {
   "cell_type": "markdown",
   "metadata": {},
   "source": [
    "<img src=\"img/typical_set_samples.png\" alt=\"drawing\" width=\"500\"/> "
   ]
  },
  {
   "cell_type": "markdown",
   "metadata": {
    "slideshow": {
     "slide_type": "-"
    }
   },
   "source": [
    "<div style=\"text-align: right\"> <span style=\"font-size:.3em;\">Image &copy; <a href=\"https://betanalpha.github.io\"> Michael Betancourt</a></span> </div>\n"
   ]
  },
  {
   "cell_type": "markdown",
   "metadata": {
    "slideshow": {
     "slide_type": "slide"
    }
   },
   "source": [
    "## Computational algorithms for probabilistic computing\n",
    "\n",
    "- Point estimators\n",
    "- Laplace approximation\n",
    "- Variational approximation\n",
    "- Monte Carlo estimators\n",
    "- Markov Chain Monte Carlo "
   ]
  },
  {
   "cell_type": "markdown",
   "metadata": {
    "slideshow": {
     "slide_type": "subslide"
    }
   },
   "source": [
    "## Modal estimators \n",
    "This approach searches for the maximal value of probability distribution, in order to obtain approximation of expected value"
   ]
  },
  {
   "cell_type": "markdown",
   "metadata": {},
   "source": [
    "<img src=\"img/good_mode.png\" alt=\"drawing\" width=\"500\"/> "
   ]
  },
  {
   "cell_type": "markdown",
   "metadata": {
    "slideshow": {
     "slide_type": "-"
    }
   },
   "source": [
    "<div style=\"text-align: right\"> <span style=\"font-size:.3em;\">Image &copy; <a href=\"https://betanalpha.github.io\"> Michael Betancourt</a></span> </div>\n"
   ]
  },
  {
   "cell_type": "markdown",
   "metadata": {
    "slideshow": {
     "slide_type": "subslide"
    }
   },
   "source": [
    "## Issues\n",
    "- skewed distributions have maxima far from expectations\n",
    "- problems with uncertainty quantisation"
   ]
  },
  {
   "cell_type": "markdown",
   "metadata": {},
   "source": [
    "<img src=\"img/bad_mode.png\" alt=\"drawing\" width=\"500\"/> "
   ]
  },
  {
   "cell_type": "markdown",
   "metadata": {
    "slideshow": {
     "slide_type": "-"
    }
   },
   "source": [
    "<div style=\"text-align: right\"> <span style=\"font-size:.3em;\">Image &copy; <a href=\"https://betanalpha.github.io\"> Michael Betancourt</a></span> </div>\n"
   ]
  },
  {
   "cell_type": "markdown",
   "metadata": {
    "slideshow": {
     "slide_type": "subslide"
    }
   },
   "source": [
    "## Laplace estimator\n",
    "\n",
    "Main idea is to find the maximal value, and fit a Gaussian distribution with a mean in it, and covariance obtained by second order Taylor approximation.\n",
    "\n",
    "Expectation values can then estimated with Gaussian integrals,\n",
    "$$\n",
    "\\mathbb{E}_{\\pi} \\! \\left[ f \\right]\n",
    "\\approx \n",
    "\\int_{Q} \\mathrm{d} q \\, \\mathcal{N} \\! \\left( q \\mid \\mu, \\Sigma \\right) \\,\n",
    "f \\! \\left( q \\right),\n",
    "$$"
   ]
  },
  {
   "cell_type": "markdown",
   "metadata": {
    "slideshow": {
     "slide_type": "subslide"
    }
   },
   "source": [
    "## If distribution is relatively close to Gaussian, typical set is well approximated"
   ]
  },
  {
   "cell_type": "markdown",
   "metadata": {},
   "source": [
    "<img src=\"img/laplace.png\" alt=\"drawing\" width=\"500\"/> "
   ]
  },
  {
   "cell_type": "markdown",
   "metadata": {
    "slideshow": {
     "slide_type": "-"
    }
   },
   "source": [
    "<div style=\"text-align: right\"> <span style=\"font-size:.3em;\">Image &copy; <a href=\"https://betanalpha.github.io\"> Michael Betancourt</a></span> </div>\n"
   ]
  },
  {
   "cell_type": "markdown",
   "metadata": {
    "slideshow": {
     "slide_type": "subslide"
    }
   },
   "source": [
    "## Variational approximation\n",
    "\n",
    "- The main idea is to approximate the posterior with functions, that can be easily sampled from (or their combination). \n",
    "\n",
    "- Such approximation is realized by minimization of a function called divergence, which measures how differetnt candidate and probability distribution are from one another.\n",
    "\n",
    "- In practice it is done by minimizing certain bound on the divergence."
   ]
  },
  {
   "cell_type": "markdown",
   "metadata": {
    "slideshow": {
     "slide_type": "subslide"
    }
   },
   "source": [
    "## Multimodality of variational approximation\n",
    "\n",
    "It can happen, that significantly different candidates have similar divergences, that causes optimization problem to be multimodal\n",
    "\n"
   ]
  },
  {
   "cell_type": "markdown",
   "metadata": {},
   "source": [
    "<img src=\"img/degenerate_fits.png\" alt=\"drawing\" width=\"1000\"/> "
   ]
  },
  {
   "cell_type": "markdown",
   "metadata": {
    "slideshow": {
     "slide_type": "-"
    }
   },
   "source": [
    "<div style=\"text-align: right\"> <span style=\"font-size:.3em;\">Image &copy; <a href=\"https://betanalpha.github.io\"> Michael Betancourt</a></span> </div>\n"
   ]
  },
  {
   "cell_type": "markdown",
   "metadata": {
    "slideshow": {
     "slide_type": "subslide"
    }
   },
   "source": [
    "## Over and under fitting of the typical set\n",
    "\n",
    "<img src=\"img/overestimated_var.png\" alt=\"drawing\" width=\"500\"/>\n",
    "<img src=\"img/underestimated_var.png\" alt=\"drawing\" width=\"500\"/>\n",
    "<div style=\"text-align: right\"> <span style=\"font-size:.3em;\">Image &copy; <a href=\"https://betanalpha.github.io\"> Michael Betancourt</a></span> </div>"
   ]
  },
  {
   "cell_type": "markdown",
   "metadata": {
    "slideshow": {
     "slide_type": "subslide"
    }
   },
   "source": [
    "## Monte Carlo sampling"
   ]
  },
  {
   "cell_type": "markdown",
   "metadata": {},
   "source": [
    "<img src=\"img/typical_set_samples.png\" alt=\"drawing\" width=\"500\"/> "
   ]
  },
  {
   "cell_type": "markdown",
   "metadata": {
    "slideshow": {
     "slide_type": "-"
    }
   },
   "source": [
    "<div style=\"text-align: right\"> <span style=\"font-size:.3em;\">Image &copy; <a href=\"https://betanalpha.github.io\"> Michael Betancourt</a></span> </div>\n"
   ]
  },
  {
   "cell_type": "markdown",
   "metadata": {
    "slideshow": {
     "slide_type": "subslide"
    }
   },
   "source": [
    "## Issues with Monte Carlo \n",
    "\n",
    "- It is easy to sample from known distributions, especially low dimensional or normal\n",
    "- Complicated distributions are an issue\n",
    "- Importance sampling is an option\n",
    "    - Sample from something that you know (proposal distribution)\n",
    "    - Correct with properly chosen weights\n",
    "    - Strongly depends on quality of proposal"
   ]
  },
  {
   "cell_type": "markdown",
   "metadata": {
    "slideshow": {
     "slide_type": "subslide"
    }
   },
   "source": [
    "## Markov Chain Monte Carlo\n"
   ]
  },
  {
   "cell_type": "markdown",
   "metadata": {},
   "source": [
    "<img src=\"img/typical_set_markov_chain.png\" alt=\"drawing\" width=\"500\"/> "
   ]
  },
  {
   "cell_type": "markdown",
   "metadata": {
    "slideshow": {
     "slide_type": "-"
    }
   },
   "source": [
    "<div style=\"text-align: right\"> <span style=\"font-size:.3em;\">Image &copy; <a href=\"https://betanalpha.github.io\"> Michael Betancourt</a></span> </div>\n"
   ]
  },
  {
   "cell_type": "markdown",
   "metadata": {
    "slideshow": {
     "slide_type": "slide"
    }
   },
   "source": [
    "## Extra reading\n",
    "\n",
    "[Probabilistic Computation by Michael Betancourt](https://betanalpha.github.io/assets/case_studies/probabilistic_computation.html#1_representation_with_computational_taxation)"
   ]
  },
  {
   "cell_type": "code",
   "execution_count": null,
   "metadata": {},
   "outputs": [],
   "source": []
  }
 ],
 "metadata": {
  "celltoolbar": "Slideshow",
  "jupytext": {
   "formats": "ipynb"
  },
  "kernelspec": {
   "display_name": "Python 3",
   "language": "python",
   "name": "python3"
  },
  "language_info": {
   "codemirror_mode": {
    "name": "ipython",
    "version": 3
   },
   "file_extension": ".py",
   "mimetype": "text/x-python",
   "name": "python",
   "nbconvert_exporter": "python",
   "pygments_lexer": "ipython3",
   "version": "3.10.0"
  },
  "rise": {
   "autolaunch": true,
   "backimage": "img/tlo_agh.png"
  }
 },
 "nbformat": 4,
 "nbformat_minor": 2
}
