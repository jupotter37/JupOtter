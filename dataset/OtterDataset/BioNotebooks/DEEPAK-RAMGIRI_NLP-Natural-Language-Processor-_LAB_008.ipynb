{
  "nbformat": 4,
  "nbformat_minor": 0,
  "metadata": {
    "colab": {
      "provenance": [],
      "authorship_tag": "ABX9TyP7q59tzvpErmrgxhTzRp5P",
      "include_colab_link": true
    },
    "kernelspec": {
      "name": "python3",
      "display_name": "Python 3"
    },
    "language_info": {
      "name": "python"
    }
  },
  "cells": [
    {
      "cell_type": "markdown",
      "metadata": {
        "id": "view-in-github",
        "colab_type": "text"
      },
      "source": [
        "<a href=\"https://colab.research.google.com/github/DEEPAK-RAMGIRI/NLP-Natural-Language-Processor-/blob/main/LAB_008.ipynb\" target=\"_parent\"><img src=\"https://colab.research.google.com/assets/colab-badge.svg\" alt=\"Open In Colab\"/></a>"
      ]
    },
    {
      "cell_type": "markdown",
      "source": [
        "* You are working as a data scientist at a news aggregation company. The company wants to automatically generate concise summaries of daily news articles for its users to save their time. Your task is to develop a text summarization tool using a Large Language Model (LLM), such as GPT or BERT-based models, that can summarize lengthy news articles into 2-3 sentences.\n"
      ],
      "metadata": {
        "id": "p6jEmIBLczgO"
      }
    },
    {
      "cell_type": "code",
      "source": [
        "from transformers import pipeline"
      ],
      "metadata": {
        "id": "V2mIXiiGUzZA"
      },
      "execution_count": null,
      "outputs": []
    },
    {
      "cell_type": "code",
      "source": [
        "summarizer = pipeline(\"summarization\", model=\"facebook/bart-large-cnn\")"
      ],
      "metadata": {
        "colab": {
          "base_uri": "https://localhost:8080/"
        },
        "id": "Abg_Z4AWU1fq",
        "outputId": "3bd1d231-8d8f-4e79-f32f-993efde3a41b"
      },
      "execution_count": null,
      "outputs": [
        {
          "output_type": "stream",
          "name": "stderr",
          "text": [
            "/usr/local/lib/python3.10/dist-packages/transformers/tokenization_utils_base.py:1601: FutureWarning: `clean_up_tokenization_spaces` was not set. It will be set to `True` by default. This behavior will be depracted in transformers v4.45, and will be then set to `False` by default. For more details check this issue: https://github.com/huggingface/transformers/issues/31884\n",
            "  warnings.warn(\n"
          ]
        }
      ]
    },
    {
      "cell_type": "code",
      "source": [
        "def summarize_article(text):\n",
        "    summary = summarizer(text, max_length=50, min_length=20, do_sample=False)\n",
        "    return summary[0]['summary_text']"
      ],
      "metadata": {
        "id": "_dNevIQbU3VH"
      },
      "execution_count": null,
      "outputs": []
    },
    {
      "cell_type": "code",
      "source": [
        "article = \"\"\"A TEAM of researchers from the Bengaluru-based National Centre for Biological Sciences (NCBS) and the Indian Institute of Science (IISc) has found that the Indian elephant migrated from the north to the south over many millennia and lost their genetic diversity progressively with each southward migration.\n",
        "Published in the latest issue of Current Biology, the study analysed whole genome sequences from captive and wild elephant blood samples collected across India to identify five genetically distinct populations — one along the Himalayan foothills from the northwest to northeast, one in central India, and three in the south.\n",
        "According to the last national census conducted in 2017, India is home to more than 29,000 elephants. While the three southern populations added up to 14,500 elephants, the central population was estimated at over 3,000. The northern population accounted for the remaining 12,000 — around 2,000 in the northwest and 10,000 in the northeast\"\"\"\n",
        "summary = summarize_article(article)\n",
        "print(\"Summary:\")\n",
        "print(summary)"
      ],
      "metadata": {
        "colab": {
          "base_uri": "https://localhost:8080/"
        },
        "id": "xznLfwSNU3R6",
        "outputId": "458ad63c-8734-4457-9ccb-d60d1cf1df60"
      },
      "execution_count": null,
      "outputs": [
        {
          "output_type": "stream",
          "name": "stdout",
          "text": [
            "Summary:\n",
            "The study analysed whole genome sequences from captive and wild elephant blood samples collected across India. It identified five genetically distinct populations — one along the Himalayan foothills from the northwest to northeast.\n"
          ]
        }
      ]
    }
  ]
}