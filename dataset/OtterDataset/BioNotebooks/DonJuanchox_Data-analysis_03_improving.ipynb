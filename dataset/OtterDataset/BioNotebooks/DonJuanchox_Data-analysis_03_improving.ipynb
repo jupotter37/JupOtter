{
 "cells": [
  {
   "cell_type": "markdown",
   "metadata": {},
   "source": [
    "# Assignment 3: Improving the Index"
   ]
  },
  {
   "cell_type": "markdown",
   "metadata": {},
   "source": [
    "In this assignment, we will improve the search index and query functions from the previous assignment."
   ]
  },
  {
   "cell_type": "markdown",
   "metadata": {},
   "source": [
    "## Loading the Data and Defining Auxiliary Functions"
   ]
  },
  {
   "cell_type": "markdown",
   "metadata": {},
   "source": [
    "This section is copied from the previous notebook."
   ]
  },
  {
   "cell_type": "code",
   "execution_count": 1,
   "metadata": {},
   "outputs": [],
   "source": [
    "import pickle, bz2, re\n",
    "from collections import namedtuple, defaultdict, Counter\n",
    "from IPython.display import display, HTML\n",
    "from math import log10, sqrt\n",
    "\n",
    "Summaries_file = 'fungus_Summaries.pkl.bz2'\n",
    "Abstracts_file = 'fungus_Abstracts.pkl.bz2'\n",
    "\n",
    "Summaries = pickle.load( bz2.BZ2File( Summaries_file, 'rb' ) )\n",
    "Abstracts = pickle.load( bz2.BZ2File( Abstracts_file, 'rb' ) )\n",
    "\n",
    "paper = namedtuple( 'paper', ['title', 'authors', 'year', 'doi'] )\n",
    "for (id, paper_info) in Summaries.items():\n",
    "    Summaries[id] = paper( *paper_info )"
   ]
  },
  {
   "cell_type": "code",
   "execution_count": 2,
   "metadata": {},
   "outputs": [],
   "source": [
    "def tokenize(text):\n",
    "    \"\"\"\n",
    "    Function that tokenizes a string in a rather naive way. Can be extended later.\n",
    "    \"\"\"\n",
    "    return text.split(' ')\n",
    "\n",
    "def preprocess(tokens):\n",
    "    \"\"\"\n",
    "    Perform linguistic preprocessing on a list of tokens. Can be extended later.\n",
    "    \"\"\"\n",
    "    result = []\n",
    "    for token in tokens:\n",
    "        result.append(token.lower())\n",
    "    return result"
   ]
  },
  {
   "cell_type": "code",
   "execution_count": 3,
   "metadata": {},
   "outputs": [],
   "source": [
    "def display_summary( id, show_abstract=False, show_id=True, extra_text='' ):\n",
    "    \"\"\"\n",
    "    Function for printing a paper's summary through IPython's Rich Display System.\n",
    "    Trims long author lists, and adds a link to the paper's DOI (when available).\n",
    "    \"\"\"\n",
    "    s = Summaries[id]\n",
    "    lines = []\n",
    "    title = s.title\n",
    "    if s.doi != '':\n",
    "        title = '<a href=http://dx.doi.org/{:s}>{:s}</a>'.format(s.doi, title)\n",
    "    title = '<strong>' + title + '</strong>'\n",
    "    lines.append(title)\n",
    "    authors = ', '.join( s.authors[:20] ) + ('' if len(s.authors) <= 20 else ', ...')\n",
    "    lines.append(str(s.year) + '. ' + authors)\n",
    "    if (show_abstract):\n",
    "        lines.append('<small><strong>Abstract:</strong> <em>{:s}</em></small>'.format(Abstracts[id]))\n",
    "    if (show_id):\n",
    "        lines.append('[ID: {:d}]'.format(id))\n",
    "    if (extra_text != ''):\n",
    "         lines.append(extra_text)\n",
    "    display( HTML('<br>'.join(lines)) )"
   ]
  },
  {
   "cell_type": "code",
   "execution_count": 4,
   "metadata": {},
   "outputs": [],
   "source": [
    "inverted_index = defaultdict(list)\n",
    "\n",
    "for id in sorted(Summaries.keys()):\n",
    "    term_set = set(preprocess(tokenize(Summaries[id].title)))\n",
    "    if id in Abstracts:\n",
    "        term_set.update(preprocess(tokenize(Abstracts[id])))\n",
    "    for term in term_set:\n",
    "        inverted_index[term].append(id)"
   ]
  },
  {
   "cell_type": "markdown",
   "metadata": {},
   "source": [
    "## Stemming"
   ]
  },
  {
   "cell_type": "markdown",
   "metadata": {},
   "source": [
    "As we could see from the results of the last assignment, our simple index doesn't handle punctuation and the difference between singular and plural versions of the same word very well. We won't go much into the details of tokenization and linguistic analysis here, because we also want to focus on scoring and ranking below. Therefore, we are using an existing library for tokenizatoin and stemming, namely the NLTK package. The following line will install NLTK if necessary (or you have to follow [these instructions](http://www.nltk.org/install.html) if that doesn't work):"
   ]
  },
  {
   "cell_type": "code",
   "execution_count": 5,
   "metadata": {},
   "outputs": [
    {
     "name": "stdout",
     "output_type": "stream",
     "text": [
      "Requirement already satisfied: nltk in c:\\users\\juann\\anaconda3\\lib\\site-packages (3.4.5)\n",
      "Requirement already satisfied: six in c:\\users\\juann\\anaconda3\\lib\\site-packages (from nltk) (1.14.0)\n"
     ]
    }
   ],
   "source": [
    "! pip install --user nltk"
   ]
  },
  {
   "cell_type": "code",
   "execution_count": 6,
   "metadata": {},
   "outputs": [
    {
     "name": "stdout",
     "output_type": "stream",
     "text": [
      "INPUT TEXT:\n",
      "  Good muffins cost $3.88\n",
      "in New York.  Please buy me two of them.\n",
      "\n",
      "Thanks.\n",
      "TOKENIZE:  ['Good', 'muffins', 'cost', '$3.88\\nin', 'New', 'York.', '', 'Please', 'buy', 'me', 'two', 'of', 'them.\\n\\nThanks.']\n",
      "WORD TOKENIZE:  ['Good', 'muffins', 'cost', '$', '3.88', 'in', 'New', 'York', '.', 'Please', 'buy', 'me', 'two', 'of', 'them', '.', 'Thanks', '.']\n"
     ]
    },
    {
     "name": "stderr",
     "output_type": "stream",
     "text": [
      "[nltk_data] Downloading package punkt to\n",
      "[nltk_data]     C:\\Users\\juann\\AppData\\Roaming\\nltk_data...\n",
      "[nltk_data]   Package punkt is already up-to-date!\n"
     ]
    }
   ],
   "source": [
    "from nltk.tokenize import word_tokenize\n",
    "from nltk.stem.snowball import EnglishStemmer\n",
    "import nltk\n",
    "nltk.download('punkt')\n",
    "stemmer = EnglishStemmer()\n",
    "\n",
    "s = '''Good muffins cost $3.88\\nin New York.  Please buy me two of them.\\n\\nThanks.'''\n",
    "\n",
    "print('INPUT TEXT:\\n ', s)\n",
    "\n",
    "print('TOKENIZE: ', tokenize(s))\n",
    "print('WORD TOKENIZE: ', word_tokenize(s))"
   ]
  },
  {
   "cell_type": "code",
   "execution_count": 7,
   "metadata": {},
   "outputs": [
    {
     "name": "stdout",
     "output_type": "stream",
     "text": [
      "process\n"
     ]
    }
   ],
   "source": [
    "print(stemmer.stem(\"processes\"))"
   ]
  },
  {
   "cell_type": "markdown",
   "metadata": {},
   "source": [
    "## Ranking"
   ]
  },
  {
   "cell_type": "markdown",
   "metadata": {},
   "source": [
    "Another important method to improve our search results is to rank them, which can be done by calculating a score for each document based on the matching terms from the query. One such scoring method is *tf-idf*, which comes with several variants, as explained in the lecture slides.\n",
    "\n",
    "In order to quickly calculate the scores for a term/document combination, we'll need quick access to a couple of things:\n",
    "\n",
    "- tf(t,d): How often does a term occur in a document\n",
    "- df(t): In how many documents does a term occur\n",
    "- num_documents: The number of documents in our index"
   ]
  },
  {
   "cell_type": "code",
   "execution_count": 8,
   "metadata": {},
   "outputs": [],
   "source": [
    "tf_matrix = defaultdict(Counter)\n",
    "\n",
    "for doc_id in Summaries.keys():\n",
    "    tokens = preprocess(tokenize(Summaries[doc_id].title))\n",
    "    if (doc_id in Abstracts):\n",
    "        tokens.extend(preprocess(tokenize(Abstracts[doc_id])))\n",
    "    tf_matrix[doc_id] = Counter(tokens)\n",
    "\n",
    "def tf(t,d):\n",
    "    return float(tf_matrix[d][t])\n",
    "\n",
    "def df(t):\n",
    "    return float(len(inverted_index[t]))\n",
    "\n",
    "num_documents = float(len(Summaries))"
   ]
  },
  {
   "cell_type": "markdown",
   "metadata": {},
   "source": [
    "Let's test these functions with some examples:"
   ]
  },
  {
   "cell_type": "code",
   "execution_count": 9,
   "metadata": {},
   "outputs": [
    {
     "name": "stdout",
     "output_type": "stream",
     "text": [
      "3.0\n",
      "5.0\n",
      "54751.0\n"
     ]
    }
   ],
   "source": [
    "print(tf('amsterdam', 22679594))\n",
    "print(df('amsterdam'))\n",
    "print(num_documents)"
   ]
  },
  {
   "cell_type": "markdown",
   "metadata": {},
   "source": [
    "With these helper functions, we can now easily calculate the _tf-idf_ weights of a term in a document by implementing the weighting formula from the slides, which you will do in the assignments below."
   ]
  },
  {
   "cell_type": "markdown",
   "metadata": {},
   "source": [
    "----------"
   ]
  },
  {
   "cell_type": "markdown",
   "metadata": {},
   "source": [
    "# Tasks"
   ]
  },
  {
   "cell_type": "markdown",
   "metadata": {},
   "source": [
    "**Your name:** Juan Rodriguez Peinado "
   ]
  },
  {
   "cell_type": "markdown",
   "metadata": {},
   "source": [
    "### Task 1\n",
    "\n",
    "Implement in the code block below the `smarter_tokenize_and_preprocess` function using NLTK's functions for tokenization and stemming. "
   ]
  },
  {
   "cell_type": "code",
   "execution_count": 10,
   "metadata": {},
   "outputs": [
    {
     "name": "stdout",
     "output_type": "stream",
     "text": [
      "['he', 'buy', 'mani', 'book', ',', 'some', 'about', 'i.r.', ',', 'for', 'less', 'than', '$', '1.50', '!']\n"
     ]
    }
   ],
   "source": [
    "# Smarter linguistic processing\n",
    "\n",
    "# Your code here:\n",
    "\n",
    "def smarter_tokenize_and_preprocess(text):\n",
    "#  ...\n",
    "    query = word_tokenize(text)\n",
    "    singles = [stemmer.stem(element) for element in query]\n",
    "    return singles\n",
    "# To test it:\n",
    "print(smarter_tokenize_and_preprocess(\"He buys many books, some about I.R., for less than $1.50!\"))"
   ]
  },
  {
   "cell_type": "markdown",
   "metadata": {},
   "source": [
    "Now we can make a smarter index based on this function. For practical purposes, the code below generates the smarter index on a subset of the data, as generating an index with stemming on the entire set would take too much time. (You don't need to change or add anything in the code block below. Just leave it as it is.)"
   ]
  },
  {
   "cell_type": "code",
   "execution_count": 11,
   "metadata": {},
   "outputs": [],
   "source": [
    "# Below, we create our smarter index (based on a subset of the documents for demonstration purposes)\n",
    "smarter_index = defaultdict(list)\n",
    "\n",
    "# Here we define the subset (somewhat arbitrary):\n",
    "subset_of_ids = list(key for key in Summaries.keys() if 28000000 <= key < 29000000)\n",
    "\n",
    "# Building our smarter index:\n",
    "for id in sorted(subset_of_ids):\n",
    "    term_set = set(smarter_tokenize_and_preprocess(Summaries[id].title))\n",
    "    if id in Abstracts:\n",
    "        term_set.update(smarter_tokenize_and_preprocess(Abstracts[id]))\n",
    "    for term in term_set:\n",
    "        smarter_index[term].append(id)\n",
    "#print(smarter_index)"
   ]
  },
  {
   "cell_type": "markdown",
   "metadata": {},
   "source": [
    "Now implement the `smarter_and_query` function, based on the two functions `smarter_tokenize` and `smarter_preprocess` you defined above and accessing our new index `smarter_index`. You can start from copying the code for `and_query` from the last assignment. For that to work, you'll also have to copy the code for the `and_merge` function from the last assignment."
   ]
  },
  {
   "cell_type": "code",
   "execution_count": 12,
   "metadata": {},
   "outputs": [
    {
     "name": "stdout",
     "output_type": "stream",
     "text": [
      "['basidiomycet', 'heterobasidion', 'annosum']\n",
      "[28801666]\n"
     ]
    },
    {
     "data": {
      "text/html": [
       "<strong><a href=http://dx.doi.org/10.1038/s41598-017-08010-0>Small secreted proteins from the necrotrophic conifer pathogen Heterobasidion annosum s.l. (HaSSPs) induce cell death in Nicotiana benthamiana.</a></strong><br>2017. Raffaello T, Asiegbu FO<br><small><strong>Abstract:</strong> <em>The basidiomycete Heterobasidion annosum sensu lato (s.l.) is considered to be one of the most destructive conifer pathogens in the temperate forests of the northern hemisphere. H. annosum is characterized by a dual fungal lifestyle. The fungus grows necrotrophically on living plant cells and saprotrophically on dead wood material. In this study, we screened the H. annosum genome for small secreted proteins (HaSSPs) that could potentially be involved in promoting necrotrophic growth during the fungal infection process. The final list included 58 HaSSPs that lacked predictable protein domains. The transient expression of HaSSP encoding genes revealed the ability of 8 HaSSPs to induce cell chlorosis and cell death in Nicotiana benthamiana. In particular, one protein (HaSSP30) could induce a rapid, strong, and consistent cell death within 2 days post-infiltration. HaSSP30 also increased the transcription of host-defence-related genes in N. benthamiana, which suggested a necrotrophic-specific immune response. This is the first line of evidence demonstrating that the H. annosum genome encodes HaSSPs with the capability to induce plant cell death in a non-host plant.</em></small><br>[ID: 28801666]"
      ],
      "text/plain": [
       "<IPython.core.display.HTML object>"
      ]
     },
     "metadata": {},
     "output_type": "display_data"
    }
   ],
   "source": [
    "# Smarter and_query based on the smarter tokenize and preprocess functions\n",
    "\n",
    "# Your code here:\n",
    "\n",
    "def and_merge(sorted_list1, sorted_list2):\n",
    "    merged_list = []\n",
    "    \n",
    "    # first we make copies of the lists, so we don't modify the existing lists in the index:\n",
    "    list1 = list(sorted_list1)\n",
    "    list2 = list(sorted_list2)\n",
    "    lst = list1+list2\n",
    "\n",
    "    # ---\n",
    "    \n",
    "    dupes = [x for n, x in enumerate(lst) if x in lst[:n]]\n",
    "    # ---\n",
    "    return dupes\n",
    "\n",
    "\n",
    "def and_query(a_query):\n",
    "    merge_list = []\n",
    "    elem = smarter_tokenize_and_preprocess(a_query)\n",
    "    merge_list = smarter_index[elem[0]]\n",
    "    print(elem)\n",
    "    for word in elem[1:]:\n",
    "        merge_list = and_merge(merge_list, smarter_index[word])\n",
    "    \n",
    "    # ---\n",
    "    return merge_list\n",
    "        \n",
    "\n",
    "def smarter_and_query(query_string):\n",
    "#  ...\n",
    "    a_query = and_query(query_string)\n",
    "    # --- \n",
    "    return a_query\n",
    "   \n",
    "    \n",
    "\n",
    "query = 'basidiomycete Heterobasidion annosum'\n",
    "searching_query = smarter_and_query(query)\n",
    "print(searching_query)\n",
    "for elemen in searching_query:\n",
    "        display_summary(elemen, show_abstract = True)\n"
   ]
  },
  {
   "cell_type": "markdown",
   "metadata": {},
   "source": [
    "### Task 2\n",
    "\n",
    "Run the query \"infection range expansions\" with the new `smarter_and_query` function from task 1. Does it return paper *28425998*? Explain what our new smarter function specifically contributes to the result (as compared to our previous naive implementations for tokenization and preprocessing)?"
   ]
  },
  {
   "cell_type": "code",
   "execution_count": 13,
   "metadata": {},
   "outputs": [
    {
     "data": {
      "text/html": [
       "<strong><a href=http://dx.doi.org/10.1128/microbiolspec.FUNK-0016-2016>Necrotrophic Mycoparasites and Their Genomes.</a></strong><br>2017. Karlsson M, Atanasova L, Jensen DF, Zeilinger S<br><small><strong>Abstract:</strong> <em>Mycoparasitism is a lifestyle where one fungus establishes parasitic interactions with other fungi. Species of the genus Trichoderma together with Clonostachys rosea are among the most studied fungal mycoparasites. They have wide host ranges comprising several plant pathogens and are used for biological control of plant diseases. Trichoderma as well as C. rosea mycoparasites efficiently overgrow and kill their fungal prey by using infection structures and by applying lytic enzymes and toxic metabolites. Most of our knowledge on the putative signals and signaling pathways involved in prey recognition and activation of the mycoparasitic response is derived from studies with Trichoderma. These fungi rely on G-protein signaling, the cAMP pathway, and mitogen-activated protein kinase cascades during growth and development as well as during mycoparasitism. The signals being recognized by the mycoparasite may include surface molecules and surface properties as well as secondary metabolites and other small molecules released from the prey. Their exact nature, however, remains elusive so far. Recent genomics-based studies of mycoparasitic fungi of the order Hypocreales, i.e., Trichoderma species, C. rosea, Tolypocladium ophioglossoides, and Escovopsis weberi, revealed not only several gene families with a mycoparasitism-related expansion of gene paralogue numbers, but also distinct differences between the different mycoparasites. We use this information to illustrate the biological principles and molecular basis of necrotrophic mycoparasitism and compare the mycoparasitic strategies of Trichoderma as a \"model\" mycoparasite with the behavior and special features of C. rosea, T. ophioglossoides, and E. weberi.</em></small><br>[ID: 28281442]"
      ],
      "text/plain": [
       "<IPython.core.display.HTML object>"
      ]
     },
     "metadata": {},
     "output_type": "display_data"
    },
    {
     "data": {
      "text/html": [
       "<strong><a href=http://dx.doi.org/10.1038/nature22059>Drivers of salamander extirpation mediated by Batrachochytrium salamandrivorans.</a></strong><br>2017. Stegen G, Pasmans F, Schmidt BR, Rouffaer LO, Van Praet S, Schaub M, Canessa S, Laudelout A, Kinet T, Adriaensen C, Haesebrouck F, Bert W, Bossuyt F, Martel A<br><small><strong>Abstract:</strong> <em>The recent arrival of Batrachochytrium salamandrivorans in Europe was followed by rapid expansion of its geographical distribution and host range, confirming the unprecedented threat that this chytrid fungus poses to western Palaearctic amphibians. Mitigating this hazard requires a thorough understanding of the pathogen's disease ecology that is driving the extinction process. Here, we monitored infection, disease and host population dynamics in a Belgian fire salamander (Salamandra salamandra) population for two years immediately after the first signs of infection. We show that arrival of this chytrid is associated with rapid population collapse without any sign of recovery, largely due to lack of increased resistance in the surviving salamanders and a demographic shift that prevents compensation for mortality. The pathogen adopts a dual transmission strategy, with environmentally resistant non-motile spores in addition to the motile spores identified in its sister species B. dendrobatidis. The fungus retains its virulence not only in water and soil, but also in anurans and less susceptible urodelan species that function as infection reservoirs. The combined characteristics of the disease ecology suggest that further expansion of this fungus will behave as a 'perfect storm' that is able to rapidly extirpate highly susceptible salamander populations across Europe.</em></small><br>[ID: 28425998]"
      ],
      "text/plain": [
       "<IPython.core.display.HTML object>"
      ]
     },
     "metadata": {},
     "output_type": "display_data"
    },
    {
     "data": {
      "text/html": [
       "<strong><a href=http://dx.doi.org/10.1038/s41598-017-01869-z>The caterpillar fungus, Ophiocordyceps sinensis, genome provides insights into highland adaptation of fungal pathogenicity.</a></strong><br>2017. Xia EH, Yang DR, Jiang JJ, Zhang QJ, Liu Y, Liu YL, Zhang Y, Zhang HB, Shi C, Tong Y, Kim C, Chen H, Peng YQ, Yu Y, Zhang W, Eichler EE, Gao LZ<br><small><strong>Abstract:</strong> <em>To understand the potential genetic basis of highland adaptation of fungal pathogenicity, we present here the ~116 Mb de novo assembled high-quality genome of Ophiocordyceps sinensis endemic to the Qinghai-Tibetan Plateau. Compared with other plain-dwelling fungi, we find about 3.4-fold inflation of the O. sinensis genome due to a rapid amplification of long terminal repeat retrotransposons that occurred ~38 million years ago in concert with the uplift of the plateau. We also observe massive removal of thousands of genes related to the transport process and energy metabolism. O. sinensis displays considerable lineage-specific expansion of gene families functionally enriched in the adaptability of low-temperature of cold tolerance, fungal pathogenicity and specialized host infection. We detect signals of positive selection for genes involved in peroxidase and hypoxia to enable its highland adaptation. Resequencing and analyzing 31 whole genomes of O. sinensis, representing nearly all of its geographic range, exhibits latitude-based population divergence and nature selection for population inhabitation towards higher altitudes on the Qinghai-Tibetan Plateau.</em></small><br>[ID: 28496210]"
      ],
      "text/plain": [
       "<IPython.core.display.HTML object>"
      ]
     },
     "metadata": {},
     "output_type": "display_data"
    }
   ],
   "source": [
    "# Smarter and_query based on the smarter tokenize and preprocess functions\n",
    "\n",
    "# Your code here:\n",
    "\n",
    "def and_merge(sorted_list1, sorted_list2):\n",
    "    merged_list = []\n",
    "    \n",
    "    # first we make copies of the lists, so we don't modify the existing lists in the index:\n",
    "    list1 = list(sorted_list1)\n",
    "    list2 = list(sorted_list2)\n",
    "    lst = list1+list2\n",
    "\n",
    "    # ---\n",
    "    \n",
    "    dupes = [x for n, x in enumerate(lst) if x in lst[:n]]\n",
    "    # ---\n",
    "    return dupes\n",
    "\n",
    "\n",
    "def and_query(a_query):\n",
    "    merge_list = []\n",
    "    elem = smarter_tokenize_and_preprocess(a_query)\n",
    "    merge_list = smarter_index[elem[0]]\n",
    "    for word in elem[1:]:\n",
    "        merge_list = and_merge(merge_list, smarter_index[word])\n",
    "    \n",
    "    # ---\n",
    "    return merge_list\n",
    "        \n",
    "\n",
    "def smarter_and_query(query_string):\n",
    "#  ...\n",
    "    a_query = and_query(query_string)\n",
    "    # --- \n",
    "    return a_query\n",
    "   \n",
    "    \n",
    "\n",
    "query = 'infection range expansions'\n",
    "searching_query = smarter_and_query(query)\n",
    "#print(searching_query)\n",
    "for elemen in searching_query:\n",
    "        display_summary(elemen, show_abstract = True)"
   ]
  },
  {
   "cell_type": "markdown",
   "metadata": {},
   "source": [
    "**Answer:** Well, basically in the tokenize and preprocessing functions, it does not alterate query at all, the tokenize function just split the 'text' but it is already splitted and the preprocessing function just lower case the strings that are given in the query. It barely changes the input."
   ]
  },
  {
   "cell_type": "markdown",
   "metadata": {},
   "source": [
    "### Task 3\n",
    "\n",
    "Now we move to a different subject and use our old index again. That is, we **don't** use the smarter functions defined above for tasks 3 to 5!\n",
    "\n",
    "Create a function `tfidf(t,d)` that returns the tf-idf score of term `t` in document `d` by using `tf(t,d)`, `df(t)` and `num_documents` as defined above. To do this, first implement a function `idf(t)` to calculate the inverse document frequency, and then use this function to calculate the full tf-idf. Use the _add-one-smoothing_ version of idf, so we don't run into problems with terms that don't appear in the collection at all. The relevant formulas can be found on the lecture slides. Use tf-idf with plain (non-logarithmic) term frequency, as applied by scoring variant `ntn`. Test your function with the examples shown below. You can use the `log10(n)` function to calculate the base 10 logarithm.\n",
    "\n",
    "Again, use our old (non-smart) index for this task and the tasks below, and **not** the functions defined in tasks 1 and 2."
   ]
  },
  {
   "cell_type": "code",
   "execution_count": 10,
   "metadata": {},
   "outputs": [
    {
     "name": "stdout",
     "output_type": "stream",
     "text": [
      "2.29\n",
      "4.35\n",
      "1.31\n"
     ]
    }
   ],
   "source": [
    "# Your code here:\n",
    "\n",
    "def idf(t):\n",
    "    result = log10(num_documents/ df(t)) \n",
    "    #-\n",
    "    return result\n",
    "    \n",
    "def tfidf(t,d):\n",
    "    result_idf = idf(t)\n",
    "    result_tf = tf(t,d)\n",
    "    result_tf_idf = result_idf * result_tf\n",
    "    #-\n",
    "    return format(result_tf_idf, \".2f\") #this might not be necessary, ask TA about it\n",
    "\n",
    "print(tfidf('europe', 28425998))\n",
    "print(tfidf('chytrid', 28425998))\n",
    "print(tfidf('this', 28425998))"
   ]
  },
  {
   "cell_type": "markdown",
   "metadata": {},
   "source": [
    "### Task 4\n",
    "\n",
    "Create a function `query_ntn_nnn(query_string)`, which accepts as input a single query string of one or more words, and returns or prints a list of (up to) 10 best matching documents, along with their score. Use _tf-idf_ to calculate document scores based on the query, applying variant `ntn.nnn`, as above (see the formula for the `ntn.nnn` version of scoring on the lecture slides). Use an auxiliary function `score_ntn_nnn` to calculate the score. The results should be shown in descending order by score.\n",
    "\n",
    "You can start by copying your functions `or_merge` and `or_query` from assignment 2, then expand that to rank the results, making use of the `tfidf(t,d)` function you created above.\n",
    "\n",
    "Demonstrate your function by giving it the exemplary query string \"evolution of resistance in the context of rice\"."
   ]
  },
  {
   "cell_type": "code",
   "execution_count": 15,
   "metadata": {},
   "outputs": [
    {
     "name": "stdout",
     "output_type": "stream",
     "text": [
      "[(36.053067402310035, 25324853), (26.126036524122867, 26720072), (24.68529182488877, 23888278), (24.59229117200141, 30617050), (24.37124802448904, 26635817), (24.27948205909175, 26158382), (24.248082181228728, 2907262), (22.410821723511884, 17022177), (21.69203744052453, 2016048), (21.45153796294144, 25547964)]\n"
     ]
    },
    {
     "data": {
      "text/html": [
       "<strong><a href=http://dx.doi.org/10.3389/fpls.2014.00505>Large scale germplasm screening for identification of novel rice blast resistance sources.</a></strong><br>2014. Vasudevan K, Vera Cruz CM, Gruissem W, Bhullar NK<br><small><strong>Abstract:</strong> <em>Rice is a major cereal crop that contributes significantly to global food security. Biotic stresses, including the rice blast fungus, cause severe yield losses that significantly impair rice production worldwide. The rapid genetic evolution of the fungus often overcomes the resistance conferred by major genes after a few years of intensive agricultural use. Therefore, resistance breeding requires continuous efforts of enriching the reservoir of resistance genes/alleles to effectively tackle the disease. Seed banks represent a rich stock of genetic diversity, however, they are still under-explored for identifying novel genes and/or their functional alleles. We conducted a large-scale screen for new rice blast resistance sources in 4246 geographically diverse rice accessions originating from 13 major rice-growing countries. The accessions were selected from a total collection of over 120,000 accessions based on their annotated rice blast resistance information in the International Rice Genebank. A two-step resistance screening protocol was used involving natural infection in a rice uniform blast nursery and subsequent artificial infections with five single rice blast isolates. The nursery-resistant accessions showed varied disease responses when infected with single isolates, suggesting the presence of diverse resistance genes/alleles in this accession collection. In addition, 289 accessions showed broad-spectrum resistance against all five single rice blast isolates. The selected resistant accessions were genotyped for the presence of the Pi2 resistance gene, thereby identifying potential accessions for isolation of allelic variants of this blast resistance gene. Together, the accession collection with broad spectrum and isolate specific blast resistance represent the core material for isolation of previously unknown blast resistance genes and/or their allelic variants that can be deployed in rice breeding programs. </em></small><br>[ID: 25324853]"
      ],
      "text/plain": [
       "<IPython.core.display.HTML object>"
      ]
     },
     "metadata": {},
     "output_type": "display_data"
    },
    {
     "name": "stdout",
     "output_type": "stream",
     "text": [
      "Total score is 36.053067402310035\n"
     ]
    },
    {
     "data": {
      "text/html": [
       "<strong><a href=http://dx.doi.org/10.1111/mpp.12362>Current understanding on Villosiclava virens, a unique flower-infecting fungus causing rice false smut disease.</a></strong><br>2016. Fan J, Yang J, Wang YQ, Li GB, Li Y, Huang F, Wang WM<br><small><strong>Abstract:</strong> <em>Villosiclava virens (Vv) is an ascomycete fungal pathogen that causes false smut disease in rice. Recent reports have revealed some interesting aspects of the enigmatic pathogen to address the question of why it specifically infects rice flowers and converts a grain into a false smut ball. Comparative and functional genomics have suggested specific adaptation of Vv in the colonization of rice flowers. Anatomical studies have disclosed that Vv specifically infects rice stamen filaments before heading and intercepts seed formation. In addition, Vv can occupy the whole inner space of a spikelet embracing all floral organs and activate the rice grain-filling network, presumably for nutrient acquisition to support the development of the false smut ball. This profile provides a general overview of the rice false smut pathogen, and summarizes advances in the Vv life cycle, genomics and genetics, and the molecular Vv-rice interaction. Current understandings of the Vv-rice pathosystem indicate that it is a unique and interesting system which can enrich the study of plant-pathogen interactions. Taxonomy: Ustilaginoidea virens is the anamorph form of the pathogen (Kingdom Fungi; Phylum Ascomycota; Class Ascomycetes; Subclass Incertae sedis; Order Incertae sedis; Family Incertae sedis; Genus Ustilaginoidea). The teleomorph form is Villosiclava virens (Kingdom Fungi; Phylum Ascomycota; Class Ascomycetes; Subclass Sordariomycetes; Order Hypocreales; Family Clavicipitaceae; Genus Villosiclava). Disease symptoms: The only visible symptom is the replacement of rice grains by ball-shaped fungal mycelia, namely false smut balls. When maturing, the false smut ball is covered with powdery chlamydospores, and the colour changes to yellowish, yellowish orange, green, olive green and, finally, to greenish black. Sclerotia are often formed on the false smut balls in autumn. Identification and detection: Vv conidia are round to elliptical, measuring 3-5 μm in diameter. Chlamydospores are ornamented with prominent irregularly curved spines, which are 200-500 nm in length. The sclerotia are black, horseshoe-shaped and irregular oblong or flat, ranging from 2 to 20 mm. Nested polymerase chain reaction (PCR) and quantitative PCR have been developed to specifically detect Vv presence in rice tissues and other biotic and abiotic samples in fields. Host range: Rice is the primary host for Vv. Natural infection by Vv has been found on several paddy field weeds, including Digitaria marginata, Panicum trypheron, Echinochloa crusgalli and Imperata cylindrica. However, the occurrence of infection in these potential alternative hosts is very rare. Life cycle: Vv infects rice spikelets at the late rice booting stage, and produces false smut balls covered with dark-green chlamydospores. Occasionally, sclerotia form on the surface of false smut balls in late autumn when the temperature fluctuates greatly between day and night. Both chlamydospores and sclerotia may serve as primary infection sources. Rainfall at the rice booting stage is a major environmental factor resulting in epidemics of rice false smut disease. Disease control: The use of fungicides is the major approach for the control of Vv. Several fungicides, such as cuproxat SC, copper oxychloride, tebuconazole, propiconazole, difenoconazole and validamycin, are often applied. However, the employment of resistant rice cultivars and genes has been limited, because of the poor understanding of rice resistance to Vv. Useful websites: Villosiclava virens genome sequence: http://www.ncbi.nlm.nih.gov/Traces/wgs/?val=JHTR01#contigs.</em></small><br>[ID: 26720072]"
      ],
      "text/plain": [
       "<IPython.core.display.HTML object>"
      ]
     },
     "metadata": {},
     "output_type": "display_data"
    },
    {
     "name": "stdout",
     "output_type": "stream",
     "text": [
      "Total score is 26.126036524122867\n"
     ]
    },
    {
     "data": {
      "text/html": [
       "<strong><a href=http://dx.doi.org/10.1186/2193-1801-2-308>Investigating the impact of rice blast disease on the livelihood of the local farmers in greater Mwea region of Kenya.</a></strong><br>2013. Kihoro J, Bosco NJ, Murage H, Ateka E, Makihara D<br><small><strong>Abstract:</strong> <em>Rice is the most important cereal crop in Kenya coming third after maize and wheat. It forms a very important diet for a majority of families in Kenya. The demand for rice in Kenya has seen a dramatic increase over the last few years while production has remained low. This is because rice production has been faced by serious constraints notably plant diseases of which the most devastating is rice blast. Rice blast is known to cause approximately 60% -100% yield losses. It is caused by an Ascomycete fungus called Magnaporthe Oryzae. The aim of this study was to investigate the impact of rice blast disease on the livelihood of the local farmers in Greater Mwea region and develop a rice blast disease distribution map using GIS approach. The study methodology employed a questionnaire survey which were subjected to sample population of households in the 7 sections with 70 blocks within Mwea region. The collected data was analysed using SAS Version 9.1. Descriptive statistics were used to summarize the household characteristics, the farm characteristics and the farmers' perceptions of rice blast disease. In the questionnaire, farmers' response on whether they had been affected by rice blast disease and the total production per acreage was used to develop an attribute table with GPS points. The GPS points were interpolated to create a geographical distribution map of rice blast disease. From the research findings almost all the farmers' had awareness and knowledge of rice blast disease, 98% of the farmers interviewed were aware of rice blast disease. Out of the 98% with knowledge and awareness 76% have been affected by the disease, while 24% have never been affected. Farmers attributed rice blast disease to a range of different causes, including excessive use of nitrogen fertilizer, water shortage, lack of proper drainage canal and due to climate change. Majority of the farmers interviewed (72%) did not engage themselves in any other socio-economic activity even after being affected by the rice blast disease. 15% opted to growing horticultural crops, 7% engaged in trading activities while 2% started livestock raring, wage earning and Boda boda business. </em></small><br>[ID: 23888278]"
      ],
      "text/plain": [
       "<IPython.core.display.HTML object>"
      ]
     },
     "metadata": {},
     "output_type": "display_data"
    },
    {
     "name": "stdout",
     "output_type": "stream",
     "text": [
      "Total score is 24.68529182488877\n"
     ]
    },
    {
     "data": {
      "text/html": [
       "<strong><a href=http://dx.doi.org/10.1104/pp.18.01013>OsSYP121 Accumulates at Fungal Penetration Sites and Mediates Host Resistance to Rice Blast.</a></strong><br>2019. Cao WL, Yu Y, Li MY, Luo J, Wang RS, Tang HJ, Huang J, Wang JF, Zhang HS, Bao YM<br><small><strong>Abstract:</strong> <em> Magnaporthe oryzae is a fungal pathogen that causes rice ( Oryza sativa ) blast. SNAREs (soluble N -ethylmaleimide-sensitive factor attachment protein receptors) are key components in vesicle trafficking in eukaryotic cells and are known to contribute to fungal pathogen resistance. Syntaxin of Plants121 (SYP121), a Qa-SNARE, has been reported to function in nonhost resistance in Arabidopsis ( Arabidopsis thaliana ). However, the functions of SYP121 in host resistance to rice blast are largely unknown. Here, we report that the rice SYP121 protein, OsSYP121, accumulates at fungal penetration sites and mediates host resistance to rice blast. OsSYP121 is plasma membrane localized and its expression was obviously induced by the rice blast in both the blast-resistant rice landrace Heikezijing and the blast-susceptible landrace Suyunuo (Su). Overexpression of OsSYP121 in Su resulted in enhanced resistance to blast. Knockdown of OsSYP121 expression in Su resulted in a more susceptible phenotype. However, knockdown of OsSYP121 expression in the resistant landrace Heikezijing resulted in susceptibility to the blast fungus. The P OsSYP121 ::GFP-OsSYP121 accumulated at rice blast penetration sites in transgenic rice, as observed by confocal microscopy. Yeast two-hybrid results showed that OsSYP121 can interact with OsSNAP32 (Synaptosome-associated protein of 32 kD) and Vesicle-associated membrane protein714/724. The interaction between OsSYP121 and OsSNAP32 may contribute to host resistance to rice blast. Our study reveals that OsSYP121 plays an important role in rice blast resistance as it is a key component in vesicle trafficking. </em></small><br>[ID: 30617050]"
      ],
      "text/plain": [
       "<IPython.core.display.HTML object>"
      ]
     },
     "metadata": {},
     "output_type": "display_data"
    },
    {
     "name": "stdout",
     "output_type": "stream",
     "text": [
      "Total score is 24.59229117200141\n"
     ]
    },
    {
     "data": {
      "text/html": [
       "<strong><a href=http://dx.doi.org/10.3389/fpls.2015.00886>Molecular Breeding Strategy and Challenges Towards Improvement of Blast Disease Resistance in Rice Crop.</a></strong><br>2015. Ashkani S, Rafii MY, Shabanimofrad M, Miah G, Sahebi M, Azizi P, Tanweer FA, Akhtar MS, Nasehi A<br><small><strong>Abstract:</strong> <em>Rice is a staple and most important security food crop consumed by almost half of the world's population. More rice production is needed due to the rapid population growth in the world. Rice blast caused by the fungus, Magnaporthe oryzae is one of the most destructive diseases of this crop in different part of the world. Breakdown of blast resistance is the major cause of yield instability in several rice growing areas. There is a need to develop strategies providing long-lasting disease resistance against a broad spectrum of pathogens, giving protection for a long time over a broad geographic area, promising for sustainable rice production in the future. So far, molecular breeding approaches involving DNA markers, such as QTL mapping, marker-aided selection, gene pyramiding, allele mining and genetic transformation have been used to develop new resistant rice cultivars. Such techniques now are used as a low-cost, high-throughput alternative to conventional methods allowing rapid introgression of disease resistance genes into susceptible varieties as well as the incorporation of multiple genes into individual lines for more durable blast resistance. The paper briefly reviewed the progress of studies on this aspect to provide the interest information for rice disease resistance breeding. This review includes examples of how advanced molecular method have been used in breeding programs for improving blast resistance. New information and knowledge gained from previous research on the recent strategy and challenges towards improvement of blast disease such as pyramiding disease resistance gene for creating new rice varieties with high resistance against multiple diseases will undoubtedly provide new insights into the rice disease control. </em></small><br>[ID: 26635817]"
      ],
      "text/plain": [
       "<IPython.core.display.HTML object>"
      ]
     },
     "metadata": {},
     "output_type": "display_data"
    },
    {
     "name": "stdout",
     "output_type": "stream",
     "text": [
      "Total score is 24.37124802448904\n"
     ]
    },
    {
     "data": {
      "text/html": [
       "<strong><a href=http://dx.doi.org/10.1139/gen-2015-0005>Identification of rice blast resistance genes in the elite hybrid rice restorer line Yahui2115.</a></strong><br>2015. Shi J, Li D, Li Y, Li X, Guo X, Luo Y, Lu Y, Zhang Q, Xu Y, Fan J, Huang F, Wang W<br><small><strong>Abstract:</strong> <em>Rice blast, caused by the ascomycete fungus Magnaporthe oryzae, is one of the most serious rice diseases worldwide. We previously developed an elite hybrid rice restorer line with high resistance to rice blast, Yahui2115 (YH2115). To identify the blast resistance genes in YH2115, we first performed expression profiling on previously reported blast resistance genes and disease assay on monogenic lines, and we found that Pi2, Pi9, and Pikm were the most likely resistance candidates in YH2115. Furthermore, RNA interference and linkage analysis demonstrated that silencing of Pi2 reduced the blast resistance of YH2115 and a Pi2 linkage marker was closely associated with blast resistance in an F2 population generated from YH2115. These data suggest that the broad-spectrum blast resistance gene Pi2 contributes greatly to the blast resistance of YH2115. Thus, YH2115 could be used as a new germplasm to facilitate rice blast resistance breeding in hybrid rice breeding programs.</em></small><br>[ID: 26158382]"
      ],
      "text/plain": [
       "<IPython.core.display.HTML object>"
      ]
     },
     "metadata": {},
     "output_type": "display_data"
    },
    {
     "name": "stdout",
     "output_type": "stream",
     "text": [
      "Total score is 24.27948205909175\n"
     ]
    },
    {
     "data": {
      "text/html": [
       "<strong>[An ecologic study of adult and larval Culicidae in a rice field of Kou Valley, Burkino Faso].</strong><br>1988. Robert V, Ouari B, Ouedraogo V, Carnevale P<br><small><strong>Abstract:</strong> <em>An entomological survey based on collections of human bait mosquitoes and of mosquito larvae was carried out through one year in a rice-field, the Kou Valley of southwest Burkina Faso. Each year, in this irrigated rice field there are two crops of rice, one during the dry season and another during the wet one. Between the two rice cycles irrigation is interrupted and the rice field becomes dry. The rice crop cycle moves through several stages, all of which have positive or negative effects on the development of the larvae of most abundant mosquitoes species. Rice cultivation does not explain however entirely the ecology of mosquito populations. Two main limiting factors for mosquito development are highlighted: the season with two periods (1. dry, 2. wet) and the rice cultivation with three periods (1. start of the flooding, growing rice transplantation and tillering, 2. rice heading and flowering, 3. rice maturation and harvest). The development of a majority of mosquito species depends strictly on rice growth: (i) Anopheles gambiae s.1. uses the whole rice field during the first period of rice cultivation until growing rice protects the larval breeding places from solar radiation. It is the most frequent mosquito (53% of the man-biting mosquitoes caught). 5% of its larvae are parasitized with a fungus Coelomomyces sp., (ii) A. pharoensis has its maximum density during the second period of rice cultivation, as Culex gr. decens; both seem to succeed better in the dry season, contrary to all other anophelines, (iii) A. coustani profits by the third period when the pH of the breeding places becomes basic.(ABSTRACT TRUNCATED AT 250 WORDS)</em></small><br>[ID: 2907262]"
      ],
      "text/plain": [
       "<IPython.core.display.HTML object>"
      ]
     },
     "metadata": {},
     "output_type": "display_data"
    },
    {
     "name": "stdout",
     "output_type": "stream",
     "text": [
      "Total score is 24.248082181228728\n"
     ]
    },
    {
     "data": {
      "text/html": [
       "<strong><a href=http://dx.doi.org/10.1094/MPMI-19-1127>Inducible overexpression of a rice allene oxide synthase gene increases the endogenous jasmonic acid level, PR gene expression, and host resistance to fungal infection.</a></strong><br>2006. Mei C, Qi M, Sheng G, Yang Y<br><small><strong>Abstract:</strong> <em>Many studies in dicotyledonous plants have shown that jasmonates, including jasmonic acid (JA) and methyl jasmonate, are important signal molecules involved in induced resistance to pathogen infection and insect herbivory. However, very little genetic and molecular evidence is available to demonstrate their role in host defense response of rice and other economically important monocot plants. In this study, we have shown that exogenous application of JA was able to activate defense gene expression and local induced resistance in rice seedlings against the rice blast fungus (Magnaporthe grisea). Furthermore, we have characterized a pathogen-inducible rice OsAOS2 gene (which encodes allene oxide synthase, a key enzyme in the JA biosynthetic pathway) and examined the role of endogenous JA in rice defense response through transgenic manipulation of the JA biosynthesis. Sequence analysis indicated that OsAOS2 contains four common domains of the cytochrome P450 enzyme, but does not have the signal peptide for chloroplast targeting. The basal level of OsAOS2 expression is very low in leaves but relatively high in the sheath, culm, and flower of rice plants. Interestingly, the expression of OsAOS2 in rice leaves can be induced significantly upon M. grisea infection. Transgenic rice lines carrying the OsAOS2 transgene under the control of a strong, pathogen-inducible PBZ1 promoter accumulated abundant OsAOS2 transcripts and higher levels of JA, especially after the pathogen infection. These transgenic lines also exhibited enhanced activation of pathogenesis-related (PR) genes such as PR1a, PR3, and PR5 and increased resistance to M. grisea infection. Our results suggest that JA plays a significant role in PR gene induction and blast resistance in rice plants.</em></small><br>[ID: 17022177]"
      ],
      "text/plain": [
       "<IPython.core.display.HTML object>"
      ]
     },
     "metadata": {},
     "output_type": "display_data"
    },
    {
     "name": "stdout",
     "output_type": "stream",
     "text": [
      "Total score is 22.410821723511884\n"
     ]
    },
    {
     "data": {
      "text/html": [
       "<strong>Magnaporthe grisea genes for pathogenicity and virulence identified through a series of backcrosses.</strong><br>1991. Valent B, Farrall L, Chumley FG<br><small><strong>Abstract:</strong> <em>We have identified genes for pathogenicity toward rice (Oryza sativa) and genes for virulence toward specific rice cultivars in the plant pathogenic fungus Magnaporthe grisea. A genetic cross was conducted between the weeping lovegrass (Eragrostis curvula) pathogen 4091-5-8, a highly fertile, hermaphroditic laboratory strain, and the rice pathogen O-135, a poorly fertile, female-sterile field isolate that infects weeping lovegrass as well as rice. A six-generation backcrossing scheme was then undertaken with the rice pathogen as the recurrent parent. One goal of these crosses was to generate rice pathogenic progeny with the high fertility characteristic of strain 4091-5-8, which would permit rigorous genetic analysis of rice pathogens. Therefore, progeny strains to be used as parents for backcross generations were chosen only on the basis of fertility. The ratios of pathogenic to nonpathogenic (and virulent to avirulent) progeny through the backcross generations suggested that the starting parent strains differ in two types of genes that control the ability to infect rice. First, they differ by polygenic factors that determine the extent of lesion development achieved by those progeny that infect rice. These genes do not appear to play a role in infection of weeping lovegrass because both parents and all progeny infect weeping lovegrass. Second, the parents differ by simple Mendelian determinants, \"avirulence genes,\" that govern virulence toward specific rice cultivars in all-or-none fashion. Several crosses confirm the segregation of three unlinked avirulence genes, Avr 1-CO39, Avr 1-M201 and Avr1-YAMO, alleles of which determine avirulence on rice cultivars CO39, M201, and Yashiro-mochi, respectively. Interestingly, avirulence alleles of Avr1-CO39, Avr1-M201 and Avr1-YAMO were inherited from the parent strain 4091-5-8, which is a nonpathogen of rice. Middle repetitive DNA sequences (\"MGR sequences\"), present in approximately 40-50 copies in the genome of the rice pathogen parent, and in very low copy number in the genome of the nonpathogen of rice, were used as physical markers to monitor restoration of the rice pathogen genetic background during introgression of fertility. The introgression of highest levels of fertility into the most successful rice pathogen progeny was incomplete by the sixth generation, perhaps a consequence of genetic linkage between genes for fertility and genes for rice pathogenicity. One chromosomal DNA segment with MGR sequence homology appeared to be linked to the gene Avr1-CO39. Finally, many of the crosses described in this paper exhibited a characteristic common to many crosses involving M. grisea rice pathogen field isolates.(ABSTRACT TRUNCATED AT 400 WORDS)</em></small><br>[ID: 2016048]"
      ],
      "text/plain": [
       "<IPython.core.display.HTML object>"
      ]
     },
     "metadata": {},
     "output_type": "display_data"
    },
    {
     "name": "stdout",
     "output_type": "stream",
     "text": [
      "Total score is 21.69203744052453\n"
     ]
    },
    {
     "data": {
      "text/html": [
       "<strong><a href=http://dx.doi.org/10.1007/s00709-014-0750-9>Cytological and molecular analysis of nonhost resistance in rice to wheat powdery mildew and leaf rust pathogens.</a></strong><br>2015. Cheng Y, Yao J, Zhang H, Huang L, Kang Z<br><small><strong>Abstract:</strong> <em>Cereal powdery mildews caused by Blumeria graminis and cereal rusts caused by Puccinia spp. are constant disease threats that limit the production of almost all important cereal crops. Rice is an intensively grown agricultural cereal that is atypical because of its immunity to all powdery mildew and rust fungi. We analyzed the nonhost interactions between rice and the wheat powdery mildew fungus B. graminis f. sp. tritici (Bgt) and the wheat leaf rust fungus Puccinia triticina (Ptr) to identify the basis of nonhost resistance (NHR) in rice against cereal powdery mildew and rust fungi at cytological and molecular levels. No visible symptoms were observed on rice leaves inoculated with Bgt or Ptr. Microscopic observations showed that both pathogens exhibited aberrant differentiation and significantly reduced penetration frequencies on rice compared to wheat. The development of Bgt and Ptr was also completely arrested at early infection stages in cases of successful penetration into rice leaves. Attempted infection of rice by Bgt and Ptr induced similar defense responses, including callose deposition, accumulation of reactive oxygen species, and hypersensitive response in rice epidermal and mesophyll cells, respectively. Furthermore, a set of defense-related genes were upregulated in rice against Bgt and Ptr infection. Rice is an excellent monocot model for genetic and molecular studies. Therefore, our results demonstrate that rice is a useful model to study the mechanisms of NHR to cereal powdery mildew and rust fungi, which provides useful information for the development of novel and durable strategies to control these important pathogens. </em></small><br>[ID: 25547964]"
      ],
      "text/plain": [
       "<IPython.core.display.HTML object>"
      ]
     },
     "metadata": {},
     "output_type": "display_data"
    },
    {
     "name": "stdout",
     "output_type": "stream",
     "text": [
      "Total score is 21.45153796294144\n"
     ]
    }
   ],
   "source": [
    "def tf(t,d):\n",
    "    return float(tf_matrix[d][t])\n",
    "\n",
    "def df(t):\n",
    "    return float(len(inverted_index[t]))\n",
    "\n",
    "num_documents = float(len(Summaries))\n",
    "\n",
    "def idf(t):\n",
    "    return (log10(num_documents/ (df(t))))\n",
    "    \n",
    "def tfidf(t,d):\n",
    "    #-\n",
    "    return (idf(t) * tf(t,d))\n",
    "\n",
    "\n",
    "def or_merge(sorted_list1, sorted_list2):\n",
    "    \n",
    "    list1 = list(sorted_list1)\n",
    "    list2 = list(sorted_list2)\n",
    "    #-\n",
    "    i = 0\n",
    "    j = 0\n",
    "    result = []\n",
    "    #-\n",
    "    while (i < len(list1) and j < len(list2)):\n",
    "        if list1[i] == list2[j]:\n",
    "            result.append(list1[i])\n",
    "            i +=1\n",
    "            j +=1\n",
    "        elif list1[i] <= list2[j]:\n",
    "            result.append(list1[i])\n",
    "            i += 1\n",
    "        else:\n",
    "            result.append(list2[j])\n",
    "            j += 1\n",
    "\n",
    "    remained = list1[i:] + list2[j:]\n",
    "    result.extend(remained)\n",
    "    #-\n",
    "    return (result)\n",
    "\n",
    "                   \n",
    "def or_query(a_query):\n",
    "    merge_list = []\n",
    "    merge_list = inverted_index[a_query[0]]\n",
    "    #-\n",
    "    for word in a_query[1:]:\n",
    "        merge_list = or_merge(merge_list, inverted_index[word])\n",
    "    #-\n",
    "    return (merge_list)\n",
    "\n",
    "def score_ntn_nnn(query_words, doc_id):\n",
    "    result = 0\n",
    "    #-\n",
    "    for i in query_words:\n",
    "        score = tfidf(i,doc_id)\n",
    "        result += score\n",
    "    return (result)\n",
    "\n",
    "def query_ntn_nnn(query_string):\n",
    "    elem = preprocess(tokenize(query_string))\n",
    "    docs_id = or_query(elem)\n",
    "    final_result = []\n",
    "    #-\n",
    "    for doc_id in docs_id:\n",
    "        result = score_ntn_nnn(elem, doc_id)\n",
    "        final_result .append((result, doc_id))\n",
    "    return (sorted(final_result , reverse = True)[:10])\n",
    "\n",
    "\n",
    "query = 'evolution of resistance in the context of rice'\n",
    "search_query = query_ntn_nnn(query)  \n",
    "\n",
    "print(search_query)\n",
    "\n",
    "for (rank,doc_id) in search_query:\n",
    "        display_summary(doc_id, show_abstract = True)\n",
    "        print('Total score is {}'.format(rank))"
   ]
  },
  {
   "cell_type": "markdown",
   "metadata": {},
   "source": [
    "### Task 5\n",
    "\n",
    "In this last task, you should create a second version of the query function from Task 4, called `query_ntc_ntc`. This second version should use, as its name suggests, variant `ntc.ntc` instead of `ntn.nnn`, and therefore apply the cosine similarity measure, in addition to applying _tf-idf_. For this, consult the formula for variant `nnc.nnc` on the lecture slides and adopt it to include the _idf_ metric (that is, add the `t` element of `ntc`). (You can drop the square root of |q| in the formula, as indicated on the slides.)\n",
    "\n",
    "As a first step, we can calculate beforehand the length of all document vectors (because they don't depend on the query) for document vectors consisting of _tf-idf_ values. The code below does just that, assuming that you defined the function `tfidf(t,d)` above (don't change this code block, just run it):"
   ]
  },
  {
   "cell_type": "code",
   "execution_count": 16,
   "metadata": {},
   "outputs": [],
   "source": [
    "tfidf_length_values = defaultdict(int)\n",
    "\n",
    "for doc_id in Summaries.keys():\n",
    "    l = 0\n",
    "    for t in tf_matrix[doc_id].keys():\n",
    "        l += tfidf(t,doc_id) ** 2\n",
    "    tfidf_length_values[doc_id] = sqrt(l)\n",
    "\n",
    "def tfidf_length(d):\n",
    "    return tfidf_length_values[d]"
   ]
  },
  {
   "cell_type": "markdown",
   "metadata": {},
   "source": [
    "We can now get the length of a document vector by calling `tfidf_length(d)`.\n",
    "\n",
    "Based on this, you can now implement `query_ntc_ntc` in the code block below. You should again first define an auxiliary function, called `score_ntc_ntc`. You can start by copy-pasting the code from Task 4.\n",
    "\n",
    "To output the results, use the provided `display_summary` function to make the output a bit more like the results page of a search engine. Lastly, demonstrate your `query_ntc_ntc` function with the same example query as above: \"evolution of resistance in the context of rice\""
   ]
  },
  {
   "cell_type": "code",
   "execution_count": 17,
   "metadata": {},
   "outputs": [
    {
     "name": "stdout",
     "output_type": "stream",
     "text": [
      "[(1.0459475433838634, 25324853), (1.024553773628267, 31309315), (0.9554419160053966, 23544090), (0.9088530689359053, 26635817), (0.8875285904197701, 23741492), (0.867611189057035, 27576685), (0.8593354479128119, 29679239), (0.829774618277997, 26158382), (0.7775706620791388, 30112588), (0.7556450694787762, 28154240)]\n"
     ]
    },
    {
     "data": {
      "text/html": [
       "<strong><a href=http://dx.doi.org/10.3389/fpls.2014.00505>Large scale germplasm screening for identification of novel rice blast resistance sources.</a></strong><br>2014. Vasudevan K, Vera Cruz CM, Gruissem W, Bhullar NK<br><small><strong>Abstract:</strong> <em>Rice is a major cereal crop that contributes significantly to global food security. Biotic stresses, including the rice blast fungus, cause severe yield losses that significantly impair rice production worldwide. The rapid genetic evolution of the fungus often overcomes the resistance conferred by major genes after a few years of intensive agricultural use. Therefore, resistance breeding requires continuous efforts of enriching the reservoir of resistance genes/alleles to effectively tackle the disease. Seed banks represent a rich stock of genetic diversity, however, they are still under-explored for identifying novel genes and/or their functional alleles. We conducted a large-scale screen for new rice blast resistance sources in 4246 geographically diverse rice accessions originating from 13 major rice-growing countries. The accessions were selected from a total collection of over 120,000 accessions based on their annotated rice blast resistance information in the International Rice Genebank. A two-step resistance screening protocol was used involving natural infection in a rice uniform blast nursery and subsequent artificial infections with five single rice blast isolates. The nursery-resistant accessions showed varied disease responses when infected with single isolates, suggesting the presence of diverse resistance genes/alleles in this accession collection. In addition, 289 accessions showed broad-spectrum resistance against all five single rice blast isolates. The selected resistant accessions were genotyped for the presence of the Pi2 resistance gene, thereby identifying potential accessions for isolation of allelic variants of this blast resistance gene. Together, the accession collection with broad spectrum and isolate specific blast resistance represent the core material for isolation of previously unknown blast resistance genes and/or their allelic variants that can be deployed in rice breeding programs. </em></small><br>[ID: 25324853]"
      ],
      "text/plain": [
       "<IPython.core.display.HTML object>"
      ]
     },
     "metadata": {},
     "output_type": "display_data"
    },
    {
     "name": "stdout",
     "output_type": "stream",
     "text": [
      "Total score is 1.0459475433838634\n"
     ]
    },
    {
     "data": {
      "text/html": [
       "<strong><a href=http://dx.doi.org/10.1186/s12284-019-0309-7>Genome-wide association mapping of resistance against rice blast strains in South China and identification of a new Pik allele.</a></strong><br>2019. Li C, Wang D, Peng S, Chen Y, Su P, Chen J, Zheng L, Tan X, Liu J, Xiao Y, Kang H, Zhang D, Wang GL, Liu Y<br><small><strong>Abstract:</strong> <em>Effective management of rice blast, caused by the fungus Magnaporthe oryzae, requires an understanding of the genetic architecture of the resistance to the disease in rice. Rice resistance varies with M. oryzae strains, and many quantitative trait loci (QTLs) affecting rice blast resistance have been mapped using different strains of M. oryzae from different areas. However, little is known about the genetic architecture of rice resistance against the M. oryzae population in Hunan Province, which is a main rice production area in South China.</em></small><br>[ID: 31309315]"
      ],
      "text/plain": [
       "<IPython.core.display.HTML object>"
      ]
     },
     "metadata": {},
     "output_type": "display_data"
    },
    {
     "name": "stdout",
     "output_type": "stream",
     "text": [
      "Total score is 1.024553773628267\n"
     ]
    },
    {
     "data": {
      "text/html": [
       "<strong><a href=http://dx.doi.org/10.1371/journal.pone.0059720>Transcriptional profiling of rice early response to Magnaporthe oryzae identified OsWRKYs as important regulators in rice blast resistance.</a></strong><br>2013. Wei T, Ou B, Li J, Zhao Y, Guo D, Zhu Y, Chen Z, Gu H, Li C, Qin G, Qu LJ<br><small><strong>Abstract:</strong> <em>Rice blast disease is a major threat to rice production worldwide, but the mechanisms underlying rice resistance to the causal agent Magnaporthe oryzae remain elusive. Therefore, we carried out a transcriptome study on rice early defense response to M. oryzae. We found that the transcriptional profiles of rice compatible and incompatible interactions with M. oryzae were mostly similar, with genes regulated more prominently in the incompatible interactions. The functional analysis showed that the genes involved in signaling and secondary metabolism were extensively up-regulated. In particular, WRKY transcription factor genes were significantly enriched among the up-regulated genes. Overexpressing one of these WRKY genes, OsWRKY47, in transgenic rice plants conferred enhanced resistance against rice blast fungus. Our results revealed the sophisticated transcriptional reprogramming of signaling and metabolic pathways during rice early response to M. oryzae and demonstrated the critical roles of WRKY transcription factors in rice blast resistance.</em></small><br>[ID: 23544090]"
      ],
      "text/plain": [
       "<IPython.core.display.HTML object>"
      ]
     },
     "metadata": {},
     "output_type": "display_data"
    },
    {
     "name": "stdout",
     "output_type": "stream",
     "text": [
      "Total score is 0.9554419160053966\n"
     ]
    },
    {
     "data": {
      "text/html": [
       "<strong><a href=http://dx.doi.org/10.3389/fpls.2015.00886>Molecular Breeding Strategy and Challenges Towards Improvement of Blast Disease Resistance in Rice Crop.</a></strong><br>2015. Ashkani S, Rafii MY, Shabanimofrad M, Miah G, Sahebi M, Azizi P, Tanweer FA, Akhtar MS, Nasehi A<br><small><strong>Abstract:</strong> <em>Rice is a staple and most important security food crop consumed by almost half of the world's population. More rice production is needed due to the rapid population growth in the world. Rice blast caused by the fungus, Magnaporthe oryzae is one of the most destructive diseases of this crop in different part of the world. Breakdown of blast resistance is the major cause of yield instability in several rice growing areas. There is a need to develop strategies providing long-lasting disease resistance against a broad spectrum of pathogens, giving protection for a long time over a broad geographic area, promising for sustainable rice production in the future. So far, molecular breeding approaches involving DNA markers, such as QTL mapping, marker-aided selection, gene pyramiding, allele mining and genetic transformation have been used to develop new resistant rice cultivars. Such techniques now are used as a low-cost, high-throughput alternative to conventional methods allowing rapid introgression of disease resistance genes into susceptible varieties as well as the incorporation of multiple genes into individual lines for more durable blast resistance. The paper briefly reviewed the progress of studies on this aspect to provide the interest information for rice disease resistance breeding. This review includes examples of how advanced molecular method have been used in breeding programs for improving blast resistance. New information and knowledge gained from previous research on the recent strategy and challenges towards improvement of blast disease such as pyramiding disease resistance gene for creating new rice varieties with high resistance against multiple diseases will undoubtedly provide new insights into the rice disease control. </em></small><br>[ID: 26635817]"
      ],
      "text/plain": [
       "<IPython.core.display.HTML object>"
      ]
     },
     "metadata": {},
     "output_type": "display_data"
    },
    {
     "name": "stdout",
     "output_type": "stream",
     "text": [
      "Total score is 0.9088530689359053\n"
     ]
    },
    {
     "data": {
      "text/html": [
       "<strong><a href=http://dx.doi.org/10.1371/journal.pone.0065416>Experimental evolution reveals genome-wide spectrum and dynamics of mutations in the rice blast fungus, Magnaporthe oryzae.</a></strong><br>2013. Jeon J, Choi J, Lee GW, Dean RA, Lee YH<br><small><strong>Abstract:</strong> <em>Knowledge on mutation processes is central to interpreting genetic analysis data as well as understanding the underlying nature of almost all evolutionary phenomena. However, studies on genome-wide mutational spectrum and dynamics in fungal pathogens are scarce, hindering our understanding of their evolution and biology. Here, we explored changes in the phenotypes and genome sequences of the rice blast fungus Magnaporthe oryzae during the forced in vitro evolution by weekly transfer of cultures on artificial media. Through combination of experimental evolution with high throughput sequencing technology, we found that mutations accumulate rapidly prior to visible phenotypic changes and that both genetic drift and selection seem to contribute to shaping mutational landscape, suggesting the buffering capacity of fungal genome against mutations. Inference of mutational effects on phenotypes through the use of T-DNA insertion mutants suggested that at least some of the DNA sequence mutations are likely associated with the observed phenotypic changes. Furthermore, our data suggest oxidative damages and UV as major sources of mutation during subcultures. Taken together, our work revealed important properties of original source of variation in the genome of the rice blast fungus. We believe that these results provide not only insights into stability of pathogenicity and genome evolution in plant pathogenic fungi but also a model in which evolution of fungal pathogens in natura can be comparatively investigated.</em></small><br>[ID: 23741492]"
      ],
      "text/plain": [
       "<IPython.core.display.HTML object>"
      ]
     },
     "metadata": {},
     "output_type": "display_data"
    },
    {
     "name": "stdout",
     "output_type": "stream",
     "text": [
      "Total score is 0.8875285904197701\n"
     ]
    },
    {
     "data": {
      "text/html": [
       "<strong><a href=http://dx.doi.org/10.1186/s12284-016-0116-3>A Genome-Wide Association Study of Field Resistance to Magnaporthe Oryzae in Rice.</a></strong><br>2016. Zhu D, Kang H, Li Z, Liu M, Zhu X, Wang Y, Wang D, Wang Z, Liu W, Wang GL<br><small><strong>Abstract:</strong> <em>Breeding of rice cultivars with long-lasting resistance to the rice blast fungus Magnaporthe oryzae is difficult, and identification of new resistance genes is essential. Most of the loci associated with blast resistance against M. oryzae in rice have been identified in controlled environments and with single isolates, and such loci may confer resistance to only a small faction of the M. oryzae strains. In the field, however, rice is commonly attacked by multiple strains. Research is therefore needed to identify loci that confer resistance in the field, i.e., \"field blast resistance\". To identify loci associated with field blast resistance (LAFBRs), we conducted a genome-wide association study (GWAS) using the rice diversity panel 1 (RDP1) cultivars. These cultivars were evaluated in the field in three major rice production areas of China.</em></small><br>[ID: 27576685]"
      ],
      "text/plain": [
       "<IPython.core.display.HTML object>"
      ]
     },
     "metadata": {},
     "output_type": "display_data"
    },
    {
     "name": "stdout",
     "output_type": "stream",
     "text": [
      "Total score is 0.867611189057035\n"
     ]
    },
    {
     "data": {
      "text/html": [
       "<strong><a href=http://dx.doi.org/10.1186/s12284-018-0211-8>Comparative analysis of the root transcriptomes of cultivated and wild rice varieties in response to Magnaporthe oryzae infection revealed both common and species-specific pathogen responses.</a></strong><br>2018. Tian L, Shi S, Nasir F, Chang C, Li W, Tran LP, Tian C<br><small><strong>Abstract:</strong> <em>Magnaporthe oryzae, the causal fungus of rice blast disease, negatively impacts global rice production. Wild rice (Oryza rufipogon), a relative of cultivated rice (O. sativa), possesses unique attributes that enable it to resist pathogen invasion. Although wild rice represents a major resource for disease resistance, relative to current cultivated rice varieties, no prior studies have compared the immune and transcriptional responses in the roots of wild and cultivated rice to M. oryzae.</em></small><br>[ID: 29679239]"
      ],
      "text/plain": [
       "<IPython.core.display.HTML object>"
      ]
     },
     "metadata": {},
     "output_type": "display_data"
    },
    {
     "name": "stdout",
     "output_type": "stream",
     "text": [
      "Total score is 0.8593354479128119\n"
     ]
    },
    {
     "data": {
      "text/html": [
       "<strong><a href=http://dx.doi.org/10.1139/gen-2015-0005>Identification of rice blast resistance genes in the elite hybrid rice restorer line Yahui2115.</a></strong><br>2015. Shi J, Li D, Li Y, Li X, Guo X, Luo Y, Lu Y, Zhang Q, Xu Y, Fan J, Huang F, Wang W<br><small><strong>Abstract:</strong> <em>Rice blast, caused by the ascomycete fungus Magnaporthe oryzae, is one of the most serious rice diseases worldwide. We previously developed an elite hybrid rice restorer line with high resistance to rice blast, Yahui2115 (YH2115). To identify the blast resistance genes in YH2115, we first performed expression profiling on previously reported blast resistance genes and disease assay on monogenic lines, and we found that Pi2, Pi9, and Pikm were the most likely resistance candidates in YH2115. Furthermore, RNA interference and linkage analysis demonstrated that silencing of Pi2 reduced the blast resistance of YH2115 and a Pi2 linkage marker was closely associated with blast resistance in an F2 population generated from YH2115. These data suggest that the broad-spectrum blast resistance gene Pi2 contributes greatly to the blast resistance of YH2115. Thus, YH2115 could be used as a new germplasm to facilitate rice blast resistance breeding in hybrid rice breeding programs.</em></small><br>[ID: 26158382]"
      ],
      "text/plain": [
       "<IPython.core.display.HTML object>"
      ]
     },
     "metadata": {},
     "output_type": "display_data"
    },
    {
     "name": "stdout",
     "output_type": "stream",
     "text": [
      "Total score is 0.829774618277997\n"
     ]
    },
    {
     "data": {
      "text/html": [
       "<strong><a href=http://dx.doi.org/10.1186/s12284-018-0240-3>Proteomic analysis of the defense response to Magnaporthe oryzae in rice harboring the blast resistance gene Piz-t.</a></strong><br>2018. Tian D, Yang L, Chen Z, Chen Z, Wang F, Zhou Y, Luo Y, Yang L, Chen S<br><small><strong>Abstract:</strong> <em>Rice blast (caused by Magnaporthe oryzae) is one of the most destructive diseases of rice. While many blast resistance (R) genes have been identified and deployed in rice cultivars, little is known about the R gene-mediated defense mechanism. We used a rice transgenic line harboring the resistance gene Piz-t to investigate the R gene-mediated resistance response to infection.</em></small><br>[ID: 30112588]"
      ],
      "text/plain": [
       "<IPython.core.display.HTML object>"
      ]
     },
     "metadata": {},
     "output_type": "display_data"
    },
    {
     "name": "stdout",
     "output_type": "stream",
     "text": [
      "Total score is 0.7775706620791388\n"
     ]
    },
    {
     "data": {
      "text/html": [
       "<strong><a href=http://dx.doi.org/10.1126/science.aai8898>Epigenetic regulation of antagonistic receptors confers rice blast resistance with yield balance.</a></strong><br>2017. Deng Y, Zhai K, Xie Z, Yang D, Zhu X, Liu J, Wang X, Qin P, Yang Y, Zhang G, Li Q, Zhang J, Wu S, Milazzo J, Mao B, Wang E, Xie H, Tharreau D, He Z<br><small><strong>Abstract:</strong> <em>Crop breeding aims to balance disease resistance with yield; however, single resistance (R) genes can lead to resistance breakdown, and R gene pyramiding may affect growth fitness. Here we report that the rice </em></small><br>[ID: 28154240]"
      ],
      "text/plain": [
       "<IPython.core.display.HTML object>"
      ]
     },
     "metadata": {},
     "output_type": "display_data"
    },
    {
     "name": "stdout",
     "output_type": "stream",
     "text": [
      "Total score is 0.7556450694787762\n"
     ]
    }
   ],
   "source": [
    "def tf(t,d):\n",
    "    return float(tf_matrix[d][t])\n",
    "\n",
    "def df(t):\n",
    "    return float(len(inverted_index[t]))\n",
    "\n",
    "num_documents = float(len(Summaries))\n",
    "\n",
    "def idf(t):\n",
    "    return (log10(num_documents/ (df(t))))\n",
    "    \n",
    "def tfidf(t,d):\n",
    "    #-\n",
    "    return (idf(t) * tf(t,d))\n",
    "\n",
    "\n",
    "def or_merge(sorted_list1, sorted_list2):\n",
    "    \n",
    "    list1 = list(sorted_list1)\n",
    "    list2 = list(sorted_list2)\n",
    "    #-\n",
    "    i = 0\n",
    "    j = 0\n",
    "    result = []\n",
    "    #-\n",
    "    while (i < len(list1) and j < len(list2)):\n",
    "        if list1[i] == list2[j]:\n",
    "            result.append(list1[i])\n",
    "            i +=1\n",
    "            j +=1\n",
    "        elif list1[i] <= list2[j]:\n",
    "            result.append(list1[i])\n",
    "            i += 1\n",
    "        else:\n",
    "            result.append(list2[j])\n",
    "            j += 1\n",
    "\n",
    "    remained = list1[i:] + list2[j:]\n",
    "    result.extend(remained)\n",
    "    #-\n",
    "    return (result)\n",
    "\n",
    "                   \n",
    "def or_query(a_query):\n",
    "    merge_list = []\n",
    "    merge_list = inverted_index[a_query[0]]\n",
    "    #-\n",
    "    for word in a_query[1:]:\n",
    "        merge_list = or_merge(merge_list, inverted_index[word])\n",
    "    #-\n",
    "    return (merge_list)\n",
    "\n",
    "def score_ntn_nnn(query_words, doc_id):\n",
    "    result = 0\n",
    "    #-\n",
    "    for i in query_words:\n",
    "        score = tfidf(i,doc_id) * idf(i)\n",
    "        result += score\n",
    "    \n",
    "    \n",
    "    return (result / tfidf_length(doc_id))\n",
    "\n",
    "def query_ntn_nnn(query_string):\n",
    "    elem = preprocess(tokenize(query_string))\n",
    "    docs_id = or_query(elem)\n",
    "    final_result = []\n",
    "    #-\n",
    "    for doc_id in docs_id:\n",
    "        result = score_ntn_nnn(elem, doc_id)\n",
    "        final_result.append((result, doc_id))\n",
    "    return (sorted(final_result, reverse = True)[:10])\n",
    "\n",
    "\n",
    "query = 'evolution of resistance in the context of rice'\n",
    "search_query = query_ntn_nnn(query)  \n",
    "\n",
    "print(search_query)\n",
    "\n",
    "for (rank,doc_id) in search_query:\n",
    "    display_summary(doc_id, show_abstract = True)\n",
    "    print('Total score is {}'.format(rank))\n",
    "        "
   ]
  },
  {
   "cell_type": "markdown",
   "metadata": {},
   "source": [
    "# Submission"
   ]
  },
  {
   "cell_type": "markdown",
   "metadata": {},
   "source": [
    "Submit the answers to the assignment via Canvas as a modified version of this Notebook file (file with `.ipynb` extension) that includes your code and your answers.\n",
    "\n",
    "Before submitting, restart the kernel and re-run the complete code (**Kernel > Restart & Run All**), and then check whether your assignment code still works as expected.\n",
    "\n",
    "Don't forget to add your name, and remember that the assignments have to be done **individually**, and that code sharing or copying are **strictly forbidden** and will be punished."
   ]
  }
 ],
 "metadata": {
  "kernelspec": {
   "display_name": "Python 3 (ipykernel)",
   "language": "python",
   "name": "python3"
  },
  "language_info": {
   "codemirror_mode": {
    "name": "ipython",
    "version": 3
   },
   "file_extension": ".py",
   "mimetype": "text/x-python",
   "name": "python",
   "nbconvert_exporter": "python",
   "pygments_lexer": "ipython3",
   "version": "3.11.4"
  }
 },
 "nbformat": 4,
 "nbformat_minor": 1
}
