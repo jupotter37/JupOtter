{
 "cells": [
  {
   "cell_type": "markdown",
   "metadata": {},
   "source": [
    "# Information Retrieval - Artificial Intelligence \n",
    "This notebook retrieves abstracts relevant to AI and then uses topic modeling to analyze the chosen abstracts.  Three info retrieval techniques are used: Literal Term Matching, TF-IDF, and Latent Semantic Indexing.  These are linear algebra techniques.  \n",
    "We use the Scikit-Learn library."
   ]
  },
  {
   "cell_type": "code",
   "execution_count": 2,
   "metadata": {},
   "outputs": [
    {
     "name": "stderr",
     "output_type": "stream",
     "text": [
      "/home/dab3dj/.conda/envs/CO_BERT/lib/python3.8/site-packages/gensim/similarities/__init__.py:15: UserWarning: The gensim.similarities.levenshtein submodule is disabled, because the optional Levenshtein package <https://pypi.org/project/python-Levenshtein/> is unavailable. Install Levenhstein (e.g. `pip install python-Levenshtein`) to suppress this warning.\n",
      "  warnings.warn(msg)\n"
     ]
    }
   ],
   "source": [
    "import pandas as pd\n",
    "import numpy as np\n",
    "import pickle\n",
    "import matplotlib.pyplot as plt\n",
    "import gensim\n",
    "import time\n",
    "import seaborn as sns\n",
    "\n",
    "from sklearn.decomposition import NMF, TruncatedSVD, LatentDirichletAllocation\n",
    "from sklearn.feature_extraction.text import CountVectorizer\n",
    "from sklearn.feature_extraction.text import TfidfVectorizer\n",
    "from sklearn.metrics import pairwise_distances\n",
    "\n",
    "from gensim.models.phrases import Phrases, Phraser\n",
    "\n",
    "import spacy\n",
    "from spacy.lang.en.stop_words import STOP_WORDS"
   ]
  },
  {
   "cell_type": "code",
   "execution_count": null,
   "metadata": {},
   "outputs": [],
   "source": []
  },
  {
   "cell_type": "code",
   "execution_count": 3,
   "metadata": {},
   "outputs": [],
   "source": [
    "# pull in entire dataframe\n",
    "\n",
    "df = pd.read_pickle(\"/home/dab3dj/git/dspg21RnD/data/dspg21RnD/smaller-final-dataset.pkl\")\n",
    "\n",
    "df.reset_index(inplace = True)\n",
    "#df.rename(columns={'index':'original index'}, inplace=True)"
   ]
  },
  {
   "cell_type": "code",
   "execution_count": 4,
   "metadata": {},
   "outputs": [
    {
     "data": {
      "text/html": [
       "<div>\n",
       "<style scoped>\n",
       "    .dataframe tbody tr th:only-of-type {\n",
       "        vertical-align: middle;\n",
       "    }\n",
       "\n",
       "    .dataframe tbody tr th {\n",
       "        vertical-align: top;\n",
       "    }\n",
       "\n",
       "    .dataframe thead th {\n",
       "        text-align: right;\n",
       "    }\n",
       "</style>\n",
       "<table border=\"1\" class=\"dataframe\">\n",
       "  <thead>\n",
       "    <tr style=\"text-align: right;\">\n",
       "      <th></th>\n",
       "      <th>index</th>\n",
       "      <th>original index</th>\n",
       "      <th>PROJECT_ID</th>\n",
       "      <th>ABSTRACT</th>\n",
       "      <th>FY</th>\n",
       "      <th>PROJECT_TERMS</th>\n",
       "      <th>PROJECT_TITLE</th>\n",
       "      <th>DEPARTMENT</th>\n",
       "      <th>AGENCY</th>\n",
       "      <th>IC_CENTER</th>\n",
       "      <th>...</th>\n",
       "      <th>BUDGET_START_DATE</th>\n",
       "      <th>BUDGET_END_DATE</th>\n",
       "      <th>CFDA_CODE</th>\n",
       "      <th>FY.y</th>\n",
       "      <th>FY_TOTAL_COST</th>\n",
       "      <th>FY_TOTAL_COST_SUB_PROJECTS</th>\n",
       "      <th>ORG_COUNT</th>\n",
       "      <th>PI_COUNT</th>\n",
       "      <th>nchar</th>\n",
       "      <th>final_frqwds_removed</th>\n",
       "    </tr>\n",
       "  </thead>\n",
       "  <tbody>\n",
       "    <tr>\n",
       "      <th>0</th>\n",
       "      <td>0</td>\n",
       "      <td>17608</td>\n",
       "      <td>152242</td>\n",
       "      <td>The multiprotein complex y-secretase proteolyt...</td>\n",
       "      <td>2008</td>\n",
       "      <td>Active Sites; Affect; Alzheimer's Disease; Amy...</td>\n",
       "      <td>STRUCTURE OF SIGNAL PEPTIDE PEPTIDASE</td>\n",
       "      <td>HHS</td>\n",
       "      <td>NIH</td>\n",
       "      <td>NaN</td>\n",
       "      <td>...</td>\n",
       "      <td>NaN</td>\n",
       "      <td>NaN</td>\n",
       "      <td>93.866</td>\n",
       "      <td>2008</td>\n",
       "      <td>3483.0</td>\n",
       "      <td>NaN</td>\n",
       "      <td>1</td>\n",
       "      <td>1</td>\n",
       "      <td>1402</td>\n",
       "      <td>[multiprotein, y_secretase, proteolytically_cl...</td>\n",
       "    </tr>\n",
       "    <tr>\n",
       "      <th>1</th>\n",
       "      <td>1</td>\n",
       "      <td>111864</td>\n",
       "      <td>190316</td>\n",
       "      <td>DESCRIPTION (provided by applicant):   The Kis...</td>\n",
       "      <td>2008</td>\n",
       "      <td>Affect; Animal Model; Axon; Behavior; Behavior...</td>\n",
       "      <td>ROLE OF KISS1 NEURONS IN THE SEASONAL AND CIRC...</td>\n",
       "      <td>HHS</td>\n",
       "      <td>NIH</td>\n",
       "      <td>NaN</td>\n",
       "      <td>...</td>\n",
       "      <td>NaN</td>\n",
       "      <td>NaN</td>\n",
       "      <td>93.865</td>\n",
       "      <td>2008</td>\n",
       "      <td>39175.0</td>\n",
       "      <td>NaN</td>\n",
       "      <td>1</td>\n",
       "      <td>1</td>\n",
       "      <td>2553</td>\n",
       "      <td>[kissl, gene, encode, peptide, kisspeptin, bin...</td>\n",
       "    </tr>\n",
       "    <tr>\n",
       "      <th>2</th>\n",
       "      <td>2</td>\n",
       "      <td>22052</td>\n",
       "      <td>154213</td>\n",
       "      <td>DESCRIPTION (provided by applicant): The objec...</td>\n",
       "      <td>2008</td>\n",
       "      <td>Agreement; Antibodies; base; Binding; Biochemi...</td>\n",
       "      <td>CARBONIC ANHYDRASE AS A MODEL TO UNDERSTAND DI...</td>\n",
       "      <td>HHS</td>\n",
       "      <td>NIH</td>\n",
       "      <td>NaN</td>\n",
       "      <td>...</td>\n",
       "      <td>NaN</td>\n",
       "      <td>NaN</td>\n",
       "      <td>93.859</td>\n",
       "      <td>2008</td>\n",
       "      <td>49646.0</td>\n",
       "      <td>NaN</td>\n",
       "      <td>1</td>\n",
       "      <td>1</td>\n",
       "      <td>1414</td>\n",
       "      <td>[biophysical, basis, thermodynamics_kinetic, m...</td>\n",
       "    </tr>\n",
       "    <tr>\n",
       "      <th>3</th>\n",
       "      <td>3</td>\n",
       "      <td>35004</td>\n",
       "      <td>159362</td>\n",
       "      <td>Obesity is the cause of many adverse pregnancy...</td>\n",
       "      <td>2008</td>\n",
       "      <td>African; Analysis of Variance; Asians; Birth; ...</td>\n",
       "      <td>OBESITY ON VAGAL TONE AND HBA1C DURING PREGNANCY</td>\n",
       "      <td>HHS</td>\n",
       "      <td>NIH</td>\n",
       "      <td>NaN</td>\n",
       "      <td>...</td>\n",
       "      <td>NaN</td>\n",
       "      <td>NaN</td>\n",
       "      <td>93.361</td>\n",
       "      <td>2008</td>\n",
       "      <td>20406.0</td>\n",
       "      <td>NaN</td>\n",
       "      <td>1</td>\n",
       "      <td>1</td>\n",
       "      <td>1545</td>\n",
       "      <td>[obesity, adverse_pregnancyoutcome, great, hea...</td>\n",
       "    </tr>\n",
       "    <tr>\n",
       "      <th>4</th>\n",
       "      <td>4</td>\n",
       "      <td>371628</td>\n",
       "      <td>594482</td>\n",
       "      <td>Local potato advisory groups have expressed in...</td>\n",
       "      <td>2010</td>\n",
       "      <td>cost; Health; interest; Manure; Parasitic nema...</td>\n",
       "      <td>PLANT-PARASITIC NEMATODE MANAGEMENT AS A COMPO...</td>\n",
       "      <td>USDA</td>\n",
       "      <td>NIFA</td>\n",
       "      <td>NaN</td>\n",
       "      <td>...</td>\n",
       "      <td>NaN</td>\n",
       "      <td>NaN</td>\n",
       "      <td>10.203</td>\n",
       "      <td>2010</td>\n",
       "      <td>NaN</td>\n",
       "      <td>NaN</td>\n",
       "      <td>1</td>\n",
       "      <td>1</td>\n",
       "      <td>271</td>\n",
       "      <td>[local, potato, advisory, express, interest, m...</td>\n",
       "    </tr>\n",
       "  </tbody>\n",
       "</table>\n",
       "<p>5 rows × 32 columns</p>\n",
       "</div>"
      ],
      "text/plain": [
       "   index  original index PROJECT_ID  \\\n",
       "0      0           17608     152242   \n",
       "1      1          111864     190316   \n",
       "2      2           22052     154213   \n",
       "3      3           35004     159362   \n",
       "4      4          371628     594482   \n",
       "\n",
       "                                            ABSTRACT    FY  \\\n",
       "0  The multiprotein complex y-secretase proteolyt...  2008   \n",
       "1  DESCRIPTION (provided by applicant):   The Kis...  2008   \n",
       "2  DESCRIPTION (provided by applicant): The objec...  2008   \n",
       "3  Obesity is the cause of many adverse pregnancy...  2008   \n",
       "4  Local potato advisory groups have expressed in...  2010   \n",
       "\n",
       "                                       PROJECT_TERMS  \\\n",
       "0  Active Sites; Affect; Alzheimer's Disease; Amy...   \n",
       "1  Affect; Animal Model; Axon; Behavior; Behavior...   \n",
       "2  Agreement; Antibodies; base; Binding; Biochemi...   \n",
       "3  African; Analysis of Variance; Asians; Birth; ...   \n",
       "4  cost; Health; interest; Manure; Parasitic nema...   \n",
       "\n",
       "                                       PROJECT_TITLE DEPARTMENT AGENCY  \\\n",
       "0              STRUCTURE OF SIGNAL PEPTIDE PEPTIDASE        HHS    NIH   \n",
       "1  ROLE OF KISS1 NEURONS IN THE SEASONAL AND CIRC...        HHS    NIH   \n",
       "2  CARBONIC ANHYDRASE AS A MODEL TO UNDERSTAND DI...        HHS    NIH   \n",
       "3   OBESITY ON VAGAL TONE AND HBA1C DURING PREGNANCY        HHS    NIH   \n",
       "4  PLANT-PARASITIC NEMATODE MANAGEMENT AS A COMPO...       USDA   NIFA   \n",
       "\n",
       "  IC_CENTER  ... BUDGET_START_DATE BUDGET_END_DATE CFDA_CODE  FY.y  \\\n",
       "0       NaN  ...               NaN             NaN    93.866  2008   \n",
       "1       NaN  ...               NaN             NaN    93.865  2008   \n",
       "2       NaN  ...               NaN             NaN    93.859  2008   \n",
       "3       NaN  ...               NaN             NaN    93.361  2008   \n",
       "4       NaN  ...               NaN             NaN    10.203  2010   \n",
       "\n",
       "  FY_TOTAL_COST FY_TOTAL_COST_SUB_PROJECTS ORG_COUNT PI_COUNT nchar  \\\n",
       "0        3483.0                        NaN         1        1  1402   \n",
       "1       39175.0                        NaN         1        1  2553   \n",
       "2       49646.0                        NaN         1        1  1414   \n",
       "3       20406.0                        NaN         1        1  1545   \n",
       "4           NaN                        NaN         1        1   271   \n",
       "\n",
       "                                final_frqwds_removed  \n",
       "0  [multiprotein, y_secretase, proteolytically_cl...  \n",
       "1  [kissl, gene, encode, peptide, kisspeptin, bin...  \n",
       "2  [biophysical, basis, thermodynamics_kinetic, m...  \n",
       "3  [obesity, adverse_pregnancyoutcome, great, hea...  \n",
       "4  [local, potato, advisory, express, interest, m...  \n",
       "\n",
       "[5 rows x 32 columns]"
      ]
     },
     "execution_count": 4,
     "metadata": {},
     "output_type": "execute_result"
    }
   ],
   "source": [
    "df.head()"
   ]
  },
  {
   "cell_type": "code",
   "execution_count": 5,
   "metadata": {},
   "outputs": [],
   "source": [
    "# input needed for doc-term matrix creation in Scikit-Learn is one string per document (not a list of strings).  \n",
    "# Original data 'ABSTRACT' is already in this form, but not the tokens in \"final_frqwds_removed\"\n",
    "\n",
    "tokens = df[\"final_frqwds_removed\"]\n",
    "\n",
    "docs = [] # docs will contain the processed tokens in string form (1 string per abstract)\n",
    "\n",
    "for abstract in tokens:\n",
    "    docs.append(\" \".join(abstract))\n",
    "    \n",
    "docs = pd.Series(docs)"
   ]
  },
  {
   "cell_type": "code",
   "execution_count": null,
   "metadata": {},
   "outputs": [],
   "source": []
  },
  {
   "cell_type": "code",
   "execution_count": null,
   "metadata": {},
   "outputs": [],
   "source": []
  },
  {
   "cell_type": "markdown",
   "metadata": {},
   "source": [
    "## Functions needed for all info retrieval approaches"
   ]
  },
  {
   "cell_type": "code",
   "execution_count": 6,
   "metadata": {},
   "outputs": [],
   "source": [
    "# Create query vector \n",
    "\n",
    "def create_query(words, terms):\n",
    "    \n",
    "    # words: search query words\n",
    "    # terms: terms in corpus\n",
    "    \n",
    "    q = np.zeros(len(terms))  # number of terms\n",
    "\n",
    "    idx = []\n",
    "    for word in query_words:\n",
    "        idx.append(terms.index(word))\n",
    "\n",
    "    q[idx] = 1\n",
    "    \n",
    "    return q"
   ]
  },
  {
   "cell_type": "code",
   "execution_count": 7,
   "metadata": {},
   "outputs": [],
   "source": [
    "def return_top_abstracts(docs, scores, top_n):\n",
    "    \n",
    "    '''\n",
    "    docs: Series that contains abstract\n",
    "    scores: scores of abstracts\n",
    "    top_n: return the top_n abstracts given by idx, if top_n = -1 return all abstracts\n",
    "    '''\n",
    "    # sort scores in descending order\n",
    "    scores_sorted_idx = np.argsort(scores)[::-1]\n",
    "    \n",
    "    if top_n == -1:\n",
    "        n = sum(scores > 0)\n",
    "        ix = scores_sorted_idx[:n]\n",
    "    else:\n",
    "        ix = scores_sorted_idx[:top_n]\n",
    "    \n",
    "    print(ix[0:10])\n",
    "    \n",
    "    return ix, docs[ix]\n",
    "    "
   ]
  },
  {
   "cell_type": "code",
   "execution_count": 8,
   "metadata": {},
   "outputs": [],
   "source": [
    "def create_result_df(abstracts, scores):\n",
    "    \n",
    "    df = pd.DataFrame()\n",
    "    df[\"abstracts\"] = abstracts\n",
    "    df[\"scores\"] = scores\n",
    "    \n",
    "    return df"
   ]
  },
  {
   "cell_type": "code",
   "execution_count": null,
   "metadata": {},
   "outputs": [],
   "source": []
  },
  {
   "cell_type": "markdown",
   "metadata": {},
   "source": [
    "## Literal Term Matching - Frequency Count Document-Term Matrix\n",
    "\n",
    "This will return all abstracts in the corpus with exact word matches to the query.  \n",
    "\n",
    "Results will be return in sorted order of how high the query scores with each abstract. A high score means more occurences of the query words in the abstract."
   ]
  },
  {
   "cell_type": "code",
   "execution_count": 9,
   "metadata": {
    "jupyter": {
     "source_hidden": true
    }
   },
   "outputs": [
    {
     "data": {
      "text/plain": [
       "'\\ndef create_stopwords():\\n      \\n    \"\"\" creates list of stopwords. stop words include the general English list and any additional we see sneaking \\n    through.  \"\"\"\\n    \\n    spacy_stop_words = STOP_WORDS\\n\\n    # more stop words that do not add meaning to topics\\n    additional_stopwords = {\\'addition\\', \\'specifically\\', \\'similar\\',\\'including\\', \\'particular\\', \\n                            \\'furthermore\\',\\'include\\', \\'includes\\',\\'overall\\', \\'finally\\', \\'specific\\', \\n                            \\'additional\\'} \\n           \\n    sw = spacy_stop_words.union(additional_stopwords)\\n    \\n    return sw\\n    \\n'"
      ]
     },
     "execution_count": 9,
     "metadata": {},
     "output_type": "execute_result"
    }
   ],
   "source": [
    "# Note - we are now using the spaCy stopwords list instead of nltk.  It is more comprehensive.\n",
    "# ONLY USE THIS FUNCTION if using raw text to search\n",
    "\n",
    "'''\n",
    "def create_stopwords():\n",
    "      \n",
    "    \"\"\" creates list of stopwords. stop words include the general English list and any additional we see sneaking \n",
    "    through.  \"\"\"\n",
    "    \n",
    "    spacy_stop_words = STOP_WORDS\n",
    "\n",
    "    # more stop words that do not add meaning to topics\n",
    "    additional_stopwords = {'addition', 'specifically', 'similar','including', 'particular', \n",
    "                            'furthermore','include', 'includes','overall', 'finally', 'specific', \n",
    "                            'additional'} \n",
    "           \n",
    "    sw = spacy_stop_words.union(additional_stopwords)\n",
    "    \n",
    "    return sw\n",
    "    \n",
    "'''"
   ]
  },
  {
   "cell_type": "markdown",
   "metadata": {},
   "source": [
    "#### Create Document-Term Matrix"
   ]
  },
  {
   "cell_type": "code",
   "execution_count": null,
   "metadata": {},
   "outputs": [],
   "source": [
    "# Create document-term matrix based on count frequencies\n",
    "\n",
    "#stop_words = create_stopwords()\n",
    "\n",
    "vectorizer = CountVectorizer(lowercase=True, min_df=1)\n",
    "doc_term_matrix = vectorizer.fit_transform(docs)"
   ]
  },
  {
   "cell_type": "code",
   "execution_count": 10,
   "metadata": {},
   "outputs": [
    {
     "data": {
      "text/plain": [
       "(690814, 1277822)"
      ]
     },
     "execution_count": 10,
     "metadata": {},
     "output_type": "execute_result"
    }
   ],
   "source": [
    "doc_term_matrix.shape"
   ]
  },
  {
   "cell_type": "code",
   "execution_count": 11,
   "metadata": {},
   "outputs": [],
   "source": [
    "terms = vectorizer.get_feature_names()"
   ]
  },
  {
   "cell_type": "markdown",
   "metadata": {},
   "source": [
    "#### Create Query Words - list the search terms\n",
    "\n",
    "A query is just a list of words to search for in the corpus.  We will use the same query for all three info retrieval techniques."
   ]
  },
  {
   "cell_type": "code",
   "execution_count": 12,
   "metadata": {},
   "outputs": [
    {
     "data": {
      "text/plain": [
       "True"
      ]
     },
     "execution_count": 12,
     "metadata": {},
     "output_type": "execute_result"
    }
   ],
   "source": [
    "'artificial_intelligence' in terms"
   ]
  },
  {
   "cell_type": "code",
   "execution_count": 53,
   "metadata": {
    "jupyter": {
     "source_hidden": true
    }
   },
   "outputs": [
    {
     "name": "stdout",
     "output_type": "stream",
     "text": [
      "796\n"
     ]
    }
   ],
   "source": [
    "# ONLY USE FOR RAW TEXT STRING MATCHING\n",
    "\n",
    "# tokens with - or strange symbol between words\n",
    "\n",
    "'''\n",
    "count = 0\n",
    "idx = []\n",
    "\n",
    "for ix, abstract in enumerate(df['ABSTRACT']):\n",
    "    if 'artificial intelligence' in abstract.lower(): \n",
    "        count = count + 1\n",
    "        idx.append(ix)\n",
    "    elif 'artificialintelligence' in abstract.lower(): \n",
    "        count = count + 1\n",
    "        idx.append(ix)\n",
    "    elif 'artificially intelligent' in abstract.lower(): \n",
    "        count = count + 1\n",
    "        idx.append(ix)\n",
    "    #else: \n",
    "        # do nothing\n",
    "\n",
    "print(count)\n",
    "\n",
    "'''"
   ]
  },
  {
   "cell_type": "code",
   "execution_count": null,
   "metadata": {},
   "outputs": [],
   "source": []
  },
  {
   "cell_type": "code",
   "execution_count": 13,
   "metadata": {},
   "outputs": [],
   "source": [
    "# CHANGE QUERY WORDS HERE \n",
    "\n",
    "# these words were found by analyzing all tokens with some form of 'artificial intelligence'\n",
    "query_words = ['artificial_intelligence', 'artificial_intelligence_ai', \n",
    "               'artificial_intelligence_machine_learning', 'artificialintelligence', 'artificially_intelligent',\n",
    "               'artificial_intelligence_aaai', 'artificial_intelligence_ijcai', 'artificialintelligence_ai',\n",
    "               'artificialintelligent'\n",
    "              ] \n",
    "\n",
    "#'ai', 'artificial', 'intelligence' \n",
    "              \n",
    "q = create_query(query_words, terms)"
   ]
  },
  {
   "cell_type": "code",
   "execution_count": null,
   "metadata": {},
   "outputs": [],
   "source": []
  },
  {
   "cell_type": "code",
   "execution_count": 14,
   "metadata": {},
   "outputs": [],
   "source": [
    "# calculate the score for each document against the query. Docs with more occurences of the query words \n",
    "# will score higher\n",
    "\n",
    "f_scores = doc_term_matrix.dot(q)"
   ]
  },
  {
   "cell_type": "code",
   "execution_count": 15,
   "metadata": {},
   "outputs": [
    {
     "data": {
      "text/plain": [
       "971"
      ]
     },
     "execution_count": 15,
     "metadata": {},
     "output_type": "execute_result"
    }
   ],
   "source": [
    "sum(f_scores >0)  # how many abstracts include at least one of the query words\n",
    "\n",
    "# some are being left off from raw counts"
   ]
  },
  {
   "cell_type": "code",
   "execution_count": 16,
   "metadata": {},
   "outputs": [
    {
     "data": {
      "text/plain": [
       "array([6., 5., 5., 4., 4., 4., 4., 4., 4., 3.])"
      ]
     },
     "execution_count": 16,
     "metadata": {},
     "output_type": "execute_result"
    }
   ],
   "source": [
    "# sort scores in descending order\n",
    "\n",
    "f_scores_sorted = np.sort(f_scores)[::-1]\n",
    "f_scores_sorted[:10]"
   ]
  },
  {
   "cell_type": "code",
   "execution_count": 17,
   "metadata": {},
   "outputs": [
    {
     "name": "stdout",
     "output_type": "stream",
     "text": [
      "[493912  83585  10300  19512 293012 689629 637044 689591 429296 292485]\n"
     ]
    }
   ],
   "source": [
    "f_idx, f_top_abstracts = return_top_abstracts(docs, f_scores, -1)  # CHANGE NUMBER OF TOP DOCS RETURNED"
   ]
  },
  {
   "cell_type": "code",
   "execution_count": 18,
   "metadata": {},
   "outputs": [
    {
     "data": {
      "text/plain": [
       "493912    unique interdisciplinary team computer scienti...\n",
       "83585     eager award education collaboration kindle_mat...\n",
       "10300     graduate student attend workshop organize conj...\n",
       "19512     aaai artificial_intelligence interactive digit...\n",
       "293012    grant participation undergraduate student hold...\n",
       "                                ...                        \n",
       "363997    investigation topic temporal relation extracti...\n",
       "32191     broader commercial small_business_innovation s...\n",
       "357956    undergraduate reu site advance student technol...\n",
       "145096    yale spore skin cancer skin cancer basal cell ...\n",
       "122566    alignment rfa da 19_008 seek great_lakes node ...\n",
       "Length: 971, dtype: object"
      ]
     },
     "execution_count": 18,
     "metadata": {},
     "output_type": "execute_result"
    }
   ],
   "source": [
    "f_top_abstracts"
   ]
  },
  {
   "cell_type": "code",
   "execution_count": 19,
   "metadata": {},
   "outputs": [
    {
     "data": {
      "text/plain": [
       "'unique interdisciplinary team computer scientist scientist ornithologist manager programmer network machine_learning human observational capacity explore synergy mechanical computation human computation human computer learning network broad scale citizen science network wide applicability variety domain network active learning feedback_loop machine human dramatically continually effectiveness network human computer learning network leverage contribution broad recruitment human observer artificial_intelligence algorithm total computational power far exceed sum individual highly successful ebird citizen science testbed human computer learning network bird engage global network volunteer submit million bird observation annually central database fundamental challenge citizen science error identification classification object quantify difference individual observer spatial bias prevalent citizen science challenge build advance artificial_intelligence opportunity generation account enormous complexity preliminary observer classification extend multi_label machine learn classification algorithm better ecological interpretation accurate prediction active learning algorithm construct sampling path optimize volunteer survey maximize spatial coverage incentivize participation crowdsourcing participant observation feedback artificial_intelligence broad scale citizen science recruit extensive network volunteer act intelligent trainable sensor environment gather observation artificial_intelligence dramatically observational volunteer filtering input observer expertise judgment aggregate historical guide observer immediate feedback observation accuracy customization observation worksheet artificial_intelligence advance expertise observer simultaneously artificial_intelligence decision benefit citizen science broader emerge world ubiquitous computing human machine partnership increasingly common'"
      ]
     },
     "execution_count": 19,
     "metadata": {},
     "output_type": "execute_result"
    }
   ],
   "source": [
    "f_top_abstracts.iloc[0]"
   ]
  },
  {
   "cell_type": "code",
   "execution_count": 20,
   "metadata": {},
   "outputs": [
    {
     "data": {
      "text/plain": [
       "\"A unique interdisciplinary team of computer scientists, information scientists, ornithologists, project managers, and programmers will develop a novel network between machine learning methods and human observational capacity to explore the synergies between mechanical computation and human computation. This is called a Human/Computer Learning Network, and while the focus is to improve data quality in broad-scale citizen-science projects, the network has the potential for wide applicability in a variety of complex problem domains. The core of this network is an active learning feedback loop between machines and humans that dramatically improves the quality of both, and thereby continually improves the effectiveness of the network as a whole. The Human/Computer Learning Network will leverage the contributions of broad recruitment of human observers and process their contributed data with artificial intelligence algorithms leading to a total computational power far exceeding the sum of their individual parts. This work will use the highly successful eBird citizen-science project as a testbed to develop the Human/Computer Learning Network. eBird engages a global network of volunteers who submit tens of millions of bird observations annually to a central database.This research addresses three fundamental data quality challenges in citizen-science. These are: 1) reducing errors in identification or classification of objects; 2) identifying and quantifying the differences between individual observers; 3) reducing the spatial bias prevalent in many citizen-science projects. To address these challenges, the project will build on advances in artificial intelligence that now provide the opportunity to study systems through the generation of models that can account for enormous complexity. Preliminary work on observer classification will be extended by developing new multi-label machine learning classification algorithms that provide better ecological interpretations and more accurate predictions. In addition, the research will develop new active learning algorithms by constructing sampling paths that will optimize volunteer survey efforts to maximize overall spatial coverage, and incentivize participation via crowdsourcing techniques. Finally, it will study how participants can improve the quality of their observations based on the feedback and information provided by the artificial intelligence. Broad-scale citizen-science projects can recruit extensive networks of volunteers, who act as intelligent and trainable sensors in the environment to gather observations. Artificial intelligence processes can dramatically improve the quality of the observational data that volunteers can provide by filtering inputs based on observers' expertise, a judgment that is based on aggregated historical data. By guiding the observers with immediate feedback on observation accuracy and customization of observation worksheets, the artificial intelligence processes contribute to advancing expertise of the observers, while simultaneously improving the quality of the training data on which the artificial intelligence processes make their decisions. The results of the project will have significant benefit for all citizen science and broader impact in an emerging world of ubiquitous computing in which human-machine partnerships will become increasingly common.\""
      ]
     },
     "execution_count": 20,
     "metadata": {},
     "output_type": "execute_result"
    }
   ],
   "source": [
    "df['ABSTRACT'][493912]"
   ]
  },
  {
   "cell_type": "code",
   "execution_count": null,
   "metadata": {},
   "outputs": [],
   "source": []
  },
  {
   "cell_type": "code",
   "execution_count": null,
   "metadata": {},
   "outputs": [],
   "source": []
  },
  {
   "cell_type": "markdown",
   "metadata": {},
   "source": [
    "## TF-IDF Document-Term Matrix\n",
    "\n",
    "This approach is similar to Literal Term Matching using frequency counts in the document-term matrix.  However, instead of using frequency counts, the entries of the document-term matrix are weighted using TF-IDF."
   ]
  },
  {
   "cell_type": "code",
   "execution_count": 21,
   "metadata": {},
   "outputs": [],
   "source": [
    "# Find doc-term matrix using TF-IDF weighting\n",
    "\n",
    "tf_idf_vectorizer = TfidfVectorizer(lowercase=True, min_df=1)\n",
    "tf_idf = tf_idf_vectorizer.fit_transform(docs)"
   ]
  },
  {
   "cell_type": "code",
   "execution_count": 22,
   "metadata": {},
   "outputs": [],
   "source": [
    "tf_idf_terms = tf_idf_vectorizer.get_feature_names()  # these terms are the same as the terms created from the \n",
    "                                                      # frequency count document-term matrix, so we do not need to\n",
    "                                                      # recreate the query vector."
   ]
  },
  {
   "cell_type": "code",
   "execution_count": 23,
   "metadata": {},
   "outputs": [
    {
     "data": {
      "text/plain": [
       "True"
      ]
     },
     "execution_count": 23,
     "metadata": {},
     "output_type": "execute_result"
    }
   ],
   "source": [
    "tf_idf_terms == terms"
   ]
  },
  {
   "cell_type": "code",
   "execution_count": 24,
   "metadata": {},
   "outputs": [],
   "source": [
    "# calculate the score for each document against the query. Docs with more occurences of the query words \n",
    "# will score higher\n",
    "\n",
    "tf_idf_scores = tf_idf.dot(q)"
   ]
  },
  {
   "cell_type": "code",
   "execution_count": 25,
   "metadata": {},
   "outputs": [
    {
     "data": {
      "text/plain": [
       "971"
      ]
     },
     "execution_count": 25,
     "metadata": {},
     "output_type": "execute_result"
    }
   ],
   "source": [
    "sum(tf_idf_scores >0)   # how many abstracts include at least one of the query words"
   ]
  },
  {
   "cell_type": "code",
   "execution_count": 26,
   "metadata": {},
   "outputs": [
    {
     "data": {
      "text/plain": [
       "array([0.67110913, 0.50600405, 0.44719966, 0.42104089, 0.40140886,\n",
       "       0.39908403, 0.37190372, 0.37129172, 0.37005479, 0.3416502 ])"
      ]
     },
     "execution_count": 26,
     "metadata": {},
     "output_type": "execute_result"
    }
   ],
   "source": [
    "# sort scores in descending order\n",
    "\n",
    "tf_idf_scores_sorted = np.sort(tf_idf_scores)[::-1]\n",
    "tf_idf_scores_sorted[:10]"
   ]
  },
  {
   "cell_type": "code",
   "execution_count": 27,
   "metadata": {},
   "outputs": [
    {
     "name": "stdout",
     "output_type": "stream",
     "text": [
      "[235101 293012  10300 209895 493912 366791 581817 232572 108705 531638]\n"
     ]
    }
   ],
   "source": [
    "tfidf_idx, tfidf_top_abstracts = return_top_abstracts(docs, tf_idf_scores, -1)  # CHANGE NUMBER OF TOP DOCS RETURNED"
   ]
  },
  {
   "cell_type": "code",
   "execution_count": 28,
   "metadata": {},
   "outputs": [
    {
     "data": {
      "text/plain": [
       "235101    phd student artificial_intelligence opportunit...\n",
       "293012    grant participation undergraduate student hold...\n",
       "10300     graduate student attend workshop organize conj...\n",
       "209895    imperative environmental societal sustainabili...\n",
       "493912    unique interdisciplinary team computer scienti...\n",
       "                                ...                        \n",
       "168231    animal human means better human barrier progre...\n",
       "688857    generate humanity past exceed create human his...\n",
       "114280    elderly patient dementia present massive care ...\n",
       "638620    scene ie recognize object human action event i...\n",
       "237025    background people multiple_sclerosis_ms chroni...\n",
       "Length: 971, dtype: object"
      ]
     },
     "execution_count": 28,
     "metadata": {},
     "output_type": "execute_result"
    }
   ],
   "source": [
    "tfidf_top_abstracts"
   ]
  },
  {
   "cell_type": "code",
   "execution_count": 29,
   "metadata": {},
   "outputs": [
    {
     "data": {
      "text/plain": [
       "'phd student artificial_intelligence opportunity share interact senior learn sub ai mentor publication career opportunity accomplish partially travel cost phd student attend international joint conference artificial_intelligence_ijcai premier international conference artificial_intelligence conference 2017 hold melbourne_australia attract international crowd academics industry worker entrepreneur funding agency leader'"
      ]
     },
     "execution_count": 29,
     "metadata": {},
     "output_type": "execute_result"
    }
   ],
   "source": [
    "tfidf_top_abstracts.iloc[0]"
   ]
  },
  {
   "cell_type": "code",
   "execution_count": 30,
   "metadata": {},
   "outputs": [
    {
     "data": {
      "text/plain": [
       "'This proposal will support US-based Ph.D. students working in artificial intelligence the opportunity to share their knowledge and interact with each other and more senior researchers, to learn about different sub-fields within AI, and to be mentored in research, publication, and career opportunities. This goal will be accomplished by partially supporting the travel costs for US-based Ph.D. students to attend the International Joint Conference on Artificial Intelligence (IJCAI), which is one of the premier international conferences on research in artificial intelligence. The conference, which in 2017 will be held in Melbourne, Australia attracts an international crowd that includes academics, industry workers, entrepreneurs, and funding agency leaders.'"
      ]
     },
     "execution_count": 30,
     "metadata": {},
     "output_type": "execute_result"
    }
   ],
   "source": [
    "df['ABSTRACT'][235101]"
   ]
  },
  {
   "cell_type": "code",
   "execution_count": null,
   "metadata": {},
   "outputs": [],
   "source": []
  },
  {
   "cell_type": "markdown",
   "metadata": {},
   "source": [
    "## Latent Semantic Indexing (LSI) Approach\n",
    "\n",
    "LSI Uses the TF-IDF matrix.  LSI is a tecnique that utilizes a truncated Singular Value Decomposition of the document-term matrix.  Basically, LSI still returns relevant documents to the query; however some of the documents returned may not include the exact search terms!  LSI is finding the latent or hidden relationships in the terms.  "
   ]
  },
  {
   "cell_type": "code",
   "execution_count": 31,
   "metadata": {},
   "outputs": [],
   "source": [
    "# Find the Truncated SVD of the TF-IDF matrix\n",
    "\n",
    "lsa = TruncatedSVD(n_components=500, random_state=1)  # CHANGE THE NUMBER OF COMPONENTS - NOTE: MORE COMPONENTS \n",
    "                                                      # GIVES YOU A MORE ACCURATE APPROXIMATION OF THE DOC-TERM \n",
    "                                                      # MATRIX, BUT IS ALSO MORE EXPENSIVE AND MAY NOT LEAD TO THE \n",
    "                                                      # BEST INFO RETRIEVAL RESULTS.\n",
    "USigma = lsa.fit_transform(tf_idf)\n",
    "Vtrans = lsa.components_"
   ]
  },
  {
   "cell_type": "code",
   "execution_count": 32,
   "metadata": {},
   "outputs": [],
   "source": [
    "# transform query to be in same space as documents\n",
    "\n",
    "q = q.reshape(1,-1)\n",
    "qhat = lsa.transform(q)"
   ]
  },
  {
   "cell_type": "code",
   "execution_count": 33,
   "metadata": {},
   "outputs": [
    {
     "name": "stdout",
     "output_type": "stream",
     "text": [
      "(1, 500)\n",
      "(690814, 500)\n",
      "(500, 1277822)\n"
     ]
    }
   ],
   "source": [
    "print(qhat.shape)\n",
    "print(USigma.shape)\n",
    "print(Vtrans.shape)"
   ]
  },
  {
   "cell_type": "code",
   "execution_count": 35,
   "metadata": {},
   "outputs": [],
   "source": [
    "lsa_scores = pairwise_distances(qhat, USigma, metric='cosine', n_jobs=7)  # CHANGE N_JOBS TO BE NUMBER OF CORES - 1"
   ]
  },
  {
   "cell_type": "code",
   "execution_count": 36,
   "metadata": {},
   "outputs": [
    {
     "data": {
      "text/plain": [
       "(1, 690814)"
      ]
     },
     "execution_count": 36,
     "metadata": {},
     "output_type": "execute_result"
    }
   ],
   "source": [
    "lsa_scores.shape"
   ]
  },
  {
   "cell_type": "code",
   "execution_count": 37,
   "metadata": {},
   "outputs": [
    {
     "data": {
      "text/plain": [
       "array([[0.99236369, 0.96254083, 0.99793398, ..., 0.9605319 , 1.00196225,\n",
       "        1.04424589]])"
      ]
     },
     "execution_count": 37,
     "metadata": {},
     "output_type": "execute_result"
    }
   ],
   "source": [
    "lsa_scores"
   ]
  },
  {
   "cell_type": "code",
   "execution_count": 38,
   "metadata": {},
   "outputs": [
    {
     "data": {
      "text/plain": [
       "array([0.99236369, 0.96254083, 0.99793398, ..., 0.9605319 , 1.00196225,\n",
       "       1.04424589])"
      ]
     },
     "execution_count": 38,
     "metadata": {},
     "output_type": "execute_result"
    }
   ],
   "source": [
    "lsa_scores[0]"
   ]
  },
  {
   "cell_type": "code",
   "execution_count": 39,
   "metadata": {},
   "outputs": [
    {
     "data": {
      "text/plain": [
       "690814"
      ]
     },
     "execution_count": 39,
     "metadata": {},
     "output_type": "execute_result"
    }
   ],
   "source": [
    "sum(lsa_scores[0] > 0)  # how many abstracts scored above 0"
   ]
  },
  {
   "cell_type": "code",
   "execution_count": 40,
   "metadata": {},
   "outputs": [
    {
     "data": {
      "text/plain": [
       "array([1.14614006, 1.1378564 , 1.12743337, 1.12316128, 1.12287109,\n",
       "       1.12060152, 1.11858765, 1.11773294, 1.11709405, 1.11691335])"
      ]
     },
     "execution_count": 40,
     "metadata": {},
     "output_type": "execute_result"
    }
   ],
   "source": [
    "# sort scores in descending order\n",
    "\n",
    "lsa_scores_sorted = np.sort(lsa_scores[0])[::-1]\n",
    "lsa_scores_sorted[:10]"
   ]
  },
  {
   "cell_type": "code",
   "execution_count": 41,
   "metadata": {},
   "outputs": [
    {
     "name": "stdout",
     "output_type": "stream",
     "text": [
      "[671417 395223 423786 590413 320655 674822 352765  51594 558851 463708]\n"
     ]
    }
   ],
   "source": [
    "lsa_idx, lsa_top_abstracts = return_top_abstracts(docs, lsa_scores[0], 50)  # CHANGE NUMBER OF TOP DOCS RETURNED"
   ]
  },
  {
   "cell_type": "code",
   "execution_count": 42,
   "metadata": {},
   "outputs": [
    {
     "data": {
      "text/plain": [
       "671417    investigation magnetic_reconnection geometry s...\n",
       "395223    concerned nonlinear_elliptic_parabolic_equatio...\n",
       "423786    award pi postdoctoral supervision dr meers opp...\n",
       "590413    offer annual week short course functional magn...\n",
       "320655    student nationwide place developmental math en...\n",
       "674822    station great_plains participant access experi...\n",
       "352765    scattering wafe acoustic radio optical inescap...\n",
       "51594     lateral stirring fundamental advection diapycn...\n",
       "558851    partially average_navier_stokes pan turbulence...\n",
       "463708    hard x_ray emission black_hole observate cyg i...\n",
       "66959     nanotechnology undergraduate education nue_eng...\n",
       "6987      mathematical sciences reformulate standard sem...\n",
       "127137    superfund basic translation seek deliver membe...\n",
       "521029    background hivcontinuestobeapressingpublicheal...\n",
       "292613    responsibility managerial communicationsupport...\n",
       "296382    responsibility managerial communicationsupport...\n",
       "301280    responsibility managerial communicationsupport...\n",
       "290456    responsibility managerial communicationsupport...\n",
       "541903    eddy resolve simulation accurately simulate tu...\n",
       "413427    optoelectronic property strongly correlate nan...\n",
       "574297    nue_engineering entitle direction dr create in...\n",
       "385159    collaboration lansing college ease transition ...\n",
       "290054    evidence practice ebps increasingly implement ...\n",
       "231650    sensitivity investigation x_ray nanoflares nus...\n",
       "28181     access asteroseismology kepler realistic 3d si...\n",
       "306306    wave instability neutral dynamo windy windy wa...\n",
       "216869    shallow water inner_shelf bay_estuary turbulen...\n",
       "60325     biological sciences overarching introduce geno...\n",
       "447748    gillette museum arthropod diversity csuc integ...\n",
       "385244    mathematical sciences collaborative strengthen...\n",
       "622445    introduction resubmit substantive comment rega...\n",
       "636699    introduction resubmit substantive comment rega...\n",
       "643373    introduction resubmit substantive comment rega...\n",
       "86460                                                public\n",
       "555404    nanotechnology undergraduate education nue_eng...\n",
       "232353    eustachian_tube_et communication middle_ear na...\n",
       "547025    initial success continuously variable coupling...\n",
       "553973    initial success continuously variable coupling...\n",
       "544830    initial success continuously variable coupling...\n",
       "689195    math anxiety disproportionately feel woman wom...\n",
       "286505    evidence practice ebps increasingly implement ...\n",
       "344482    aspect gravity gravitational_collapse gravitat...\n",
       "589125    catalyze institutional broad evidence teaching...\n",
       "564477    deer double electron electron resonance extend...\n",
       "553981    deer double electron electron resonance extend...\n",
       "544854    deer double electron electron resonance extend...\n",
       "546710    deer double electron electron resonance extend...\n",
       "661922    cooperative_agreement expand ncbddd capacity i...\n",
       "539843    quantify phytoremediation plant species protot...\n",
       "529881    historically_black_colleges_universities under...\n",
       "dtype: object"
      ]
     },
     "execution_count": 42,
     "metadata": {},
     "output_type": "execute_result"
    }
   ],
   "source": [
    "lsa_top_abstracts"
   ]
  },
  {
   "cell_type": "code",
   "execution_count": 53,
   "metadata": {},
   "outputs": [
    {
     "data": {
      "text/plain": [
       "'aspect gravity gravitational_collapse gravitational radiation object gravity strong trap light object black_hole black_hole object smaller smaller influence gravity point infinite density infinite gravitational singularity property singularity gravitational_collapse force feel observer singularity electric radio transmitter radio wafe mass gravity_wafe radio receiver react presence radio wafe ongoing detect gravitational_wafe interesting aspect gravitational radiation gravitational_wave memory wave pass permanent gravitational_wave_detector property gravitational_wave memory conjecture singularity black_hole consist spacelike singularity black_hole null singularity place black_hole inner horizon singularity numerical previously simulation spacelike singularity simulation reveal presence small spatial scale spike resolve simulation revisit simulation adaptive_mesh_refinement serve resolve spike simulation analytic approximation spike expect equation singularity null singularity double null formulation einstein equation instead usual foliation spacetime spacelike surface constant foliation pair null surface constant null coordinate einstein equation bianchi identity equation expansion shear null surface weyl tensor numerical simulation equation weyl tensor blow inner horizon black_hole gravitational_wave memory variety source variety memory neutrinos treat nonlinear einstein vlasov_equation memory expand universe treat cosmological perturbation theory memory vacuum case treat second order perturbation theory gravitational_collapse vacuum axixymmetric code numerical einstein aether theory gravitational_collapse anti_de_sitter spacetime charge black_hole'"
      ]
     },
     "execution_count": 53,
     "metadata": {},
     "output_type": "execute_result"
    }
   ],
   "source": [
    "lsa_top_abstracts.iloc[41]"
   ]
  },
  {
   "cell_type": "code",
   "execution_count": 52,
   "metadata": {},
   "outputs": [
    {
     "data": {
      "text/plain": [
       "\"This project will study two aspects of gravity: (1) gravitational collapse and (2) gravitational radiation.  (1) When an object's gravity becomes strong enough to trap light, the object becomes a black hole.  Inside the black hole the object continues to become smaller and smaller under the influence of its own gravity until it becomes a point with infinite density and infinite gravitational field called a singularity.  I will work out the properties of the singularities formed in gravitational collapse, and in particular the forces felt by any observer who approaches the singularity.  (2) Just as the electric currents in a radio transmitter make radio waves, so moving masses make gravity waves.  And just as radio receivers react to the presence of radio waves, so there is an ongoing effort to detect gravitational waves.  One interesting aspect of gravitational radiation is something called gravitational wave memory: even after the wave has passed, there is a permanent change in the gravitational wave detector. I will study the causes and properties of this gravitational wave memory.It is conjectured that the singularity inside a black hole consists of two parts: a spacelike singularity at the center of the black hole and a null singularity that takes the place of the black hole's inner horizon. I will study both types of singularities using two different numerical methods.  Previously, I have performed simulations of spacelike singularities; however these simulations revealed the presence of structure with a very small spatial scale (called  spikes ) that was not resolved by the simulations.  I will revisit these simulations using the technique of adaptive mesh refinement, which should serve to resolve the spikes.  I will compare the results of these simulations to those of an analytic approximation to spike behavior using what are expected to be the leading terms of the field equations near the singularity.  I will study null singularities using a  double null  formulation of the Einstein field equations.  Here instead of the usual foliation of spacetime by spacelike surfaces of constant time t, one has a foliation by pairs of null surfaces of constant null coordinates u and v.  The Einstein field equations and Bianchi identities then become equations for the expansion and shear of the null surfaces and the Weyl tensor.  I will perform numerical simulations of these equations to see whether the Weyl tensor blows up on (what used to be) the inner horizon of the black hole.  I will study gravitational wave memory from a variety of sources using a variety of methods.  Memory from neutrinos will be treated using the full nonlinear Einstein-Vlasov equations.  Memory in an expanding universe will be treated using cosmological perturbation theory.   Memory for the vacuum case will be treated in second order perturbation theory.  I will also study critical gravitational collapse using a new vacuum axixymmetric code.  In addition, I will continue, using numerical methods, my studies of Einstein-Aether theory, gravitational collapse in anti de-Sitter spacetime, and charged black holes.\""
      ]
     },
     "execution_count": 52,
     "metadata": {},
     "output_type": "execute_result"
    }
   ],
   "source": [
    "df['ABSTRACT'][344482]"
   ]
  },
  {
   "cell_type": "code",
   "execution_count": null,
   "metadata": {},
   "outputs": [],
   "source": [
    "# I don't think LSI is giving us AI results - I spot checked 5-10 of these.  "
   ]
  },
  {
   "cell_type": "code",
   "execution_count": null,
   "metadata": {},
   "outputs": [],
   "source": []
  },
  {
   "cell_type": "code",
   "execution_count": null,
   "metadata": {},
   "outputs": [],
   "source": []
  },
  {
   "cell_type": "markdown",
   "metadata": {},
   "source": [
    "## Create pandemics corpus\n",
    "\n",
    "We use the results of our three information retrieval techniques to create a new, smaller corpus that only contains abstracts relevant to the query. "
   ]
  },
  {
   "cell_type": "code",
   "execution_count": 68,
   "metadata": {},
   "outputs": [],
   "source": [
    "docs_ix = np.concatenate([f_idx, tfidf_idx]) #lsa_idx])"
   ]
  },
  {
   "cell_type": "code",
   "execution_count": 69,
   "metadata": {},
   "outputs": [],
   "source": [
    "docs_idx = np.unique(docs_ix)"
   ]
  },
  {
   "cell_type": "code",
   "execution_count": 70,
   "metadata": {},
   "outputs": [
    {
     "data": {
      "text/plain": [
       "(971,)"
      ]
     },
     "execution_count": 70,
     "metadata": {},
     "output_type": "execute_result"
    }
   ],
   "source": [
    "docs_idx.shape"
   ]
  },
  {
   "cell_type": "code",
   "execution_count": null,
   "metadata": {},
   "outputs": [],
   "source": []
  },
  {
   "cell_type": "markdown",
   "metadata": {},
   "source": [
    "**create case-study corpus**"
   ]
  },
  {
   "cell_type": "code",
   "execution_count": 71,
   "metadata": {},
   "outputs": [],
   "source": [
    "ai_corpus = df.loc[docs_idx, :]"
   ]
  },
  {
   "cell_type": "code",
   "execution_count": 72,
   "metadata": {},
   "outputs": [
    {
     "data": {
      "text/plain": [
       "(971, 40)"
      ]
     },
     "execution_count": 72,
     "metadata": {},
     "output_type": "execute_result"
    }
   ],
   "source": [
    "ai_corpus.shape"
   ]
  },
  {
   "cell_type": "code",
   "execution_count": 2,
   "metadata": {},
   "outputs": [],
   "source": [
    "# save or read corpus\n",
    "\n",
    "#ai_corpus.to_pickle(\"./ai_corpus.pkl\")\n",
    "#ai_corpus = pd.read_pickle(\"ai_corpus.pkl\")"
   ]
  },
  {
   "cell_type": "code",
   "execution_count": 3,
   "metadata": {},
   "outputs": [],
   "source": [
    "lim_docs = ai_corpus[\"final_frqwds_removed\"]"
   ]
  },
  {
   "cell_type": "code",
   "execution_count": null,
   "metadata": {},
   "outputs": [],
   "source": []
  },
  {
   "cell_type": "code",
   "execution_count": null,
   "metadata": {},
   "outputs": [],
   "source": []
  },
  {
   "cell_type": "code",
   "execution_count": 4,
   "metadata": {},
   "outputs": [],
   "source": [
    "# input needed for LDA, NMF (all from Scikit-Learn) is one string per document (not a list of strings)\n",
    "\n",
    "text = []\n",
    "\n",
    "for token_list in lim_docs:\n",
    "    text.append(\" \".join(token_list))"
   ]
  },
  {
   "cell_type": "code",
   "execution_count": 5,
   "metadata": {},
   "outputs": [
    {
     "data": {
      "text/plain": [
       "971"
      ]
     },
     "execution_count": 5,
     "metadata": {},
     "output_type": "execute_result"
    }
   ],
   "source": [
    "len(lim_docs)"
   ]
  },
  {
   "cell_type": "markdown",
   "metadata": {},
   "source": [
    "## Topic Modeling with relevant AI abstracts"
   ]
  },
  {
   "cell_type": "code",
   "execution_count": 6,
   "metadata": {},
   "outputs": [],
   "source": [
    "# function slightly modified from https://nlpforhackers.io/topic-modeling/\n",
    "\n",
    "def print_topics(model, vectorizer, top_n=10):\n",
    "    for idx, topic in enumerate(model.components_):  # loop through each row of H.  idx = row index.  topic = actual row\n",
    "        print(\"\\nTopic %d:\" % (idx))\n",
    "        #print([(vectorizer.get_feature_names()[i], topic[i])  # printing out words corresponding to indices found in next line\n",
    "                        #for i in topic.argsort()[:-top_n - 1:-1]])  # finding indices of top words in topic\n",
    "            \n",
    "        print_list = [(vectorizer.get_feature_names()[i], topic[i])  \n",
    "                        for i in topic.argsort()[:-top_n - 1:-1]]\n",
    "        for item in print_list:\n",
    "            print(item)\n",
    "        "
   ]
  },
  {
   "cell_type": "code",
   "execution_count": null,
   "metadata": {},
   "outputs": [],
   "source": []
  },
  {
   "cell_type": "code",
   "execution_count": 7,
   "metadata": {},
   "outputs": [],
   "source": [
    "# Create a TF-IDF document-term matrix for the AI corpus \n",
    "\n",
    "# TRY DIFFERENT PARAMETERS IN THE TF-IDF DOC-TERM MATRIX SET-UP\n",
    "nmf_vectorizer = TfidfVectorizer(max_df=1.0, min_df=3, lowercase=True) #, max_features=int(len(lim_docs)/2))\n",
    "\n",
    "# by default TfidfVectorizer has l2 normalization for rows: \n",
    "# from Scikit Learn documentation: Each output row will have unit norm, either: * ‘l2’: Sum of squares of vector \n",
    "# elements is 1. The cosine similarity between two vectors is their dot product when l2 norm has been applied.\n",
    "\n",
    "nmf_tf_idf = nmf_vectorizer.fit_transform(text)"
   ]
  },
  {
   "cell_type": "code",
   "execution_count": 8,
   "metadata": {},
   "outputs": [
    {
     "data": {
      "text/plain": [
       "(971, 4541)"
      ]
     },
     "execution_count": 8,
     "metadata": {},
     "output_type": "execute_result"
    }
   ],
   "source": [
    "nmf_tf_idf.shape"
   ]
  },
  {
   "cell_type": "code",
   "execution_count": 9,
   "metadata": {},
   "outputs": [],
   "source": [
    "AI_terms = nmf_vectorizer.get_feature_names()"
   ]
  },
  {
   "cell_type": "code",
   "execution_count": 10,
   "metadata": {},
   "outputs": [
    {
     "data": {
      "text/plain": [
       "['offering',\n",
       " 'office',\n",
       " 'offline',\n",
       " 'ofresearch',\n",
       " 'oise',\n",
       " 'old',\n",
       " 'older',\n",
       " 'omic',\n",
       " 'omnidirectional',\n",
       " 'oncologist',\n",
       " 'oncology',\n",
       " 'ongoing',\n",
       " 'online',\n",
       " 'onset',\n",
       " 'ontological',\n",
       " 'ontology',\n",
       " 'open',\n",
       " 'opening',\n",
       " 'openly',\n",
       " 'operate']"
      ]
     },
     "execution_count": 10,
     "metadata": {},
     "output_type": "execute_result"
    }
   ],
   "source": [
    "AI_terms[2830:2850]"
   ]
  },
  {
   "cell_type": "code",
   "execution_count": 11,
   "metadata": {},
   "outputs": [],
   "source": [
    "# topic modeling with NMF\n",
    "\n",
    "nmf_model = NMF(n_components=30, random_state=1)  # TRY DIFFERENT NUMBERS OF TOPICS\n",
    "W = nmf_model.fit_transform(nmf_tf_idf)\n",
    "H = nmf_model.components_"
   ]
  },
  {
   "cell_type": "code",
   "execution_count": null,
   "metadata": {},
   "outputs": [],
   "source": [
    "print_topics(nmf_model, nmf_vectorizer, 10)"
   ]
  },
  {
   "cell_type": "code",
   "execution_count": null,
   "metadata": {},
   "outputs": [],
   "source": []
  },
  {
   "cell_type": "code",
   "execution_count": null,
   "metadata": {},
   "outputs": [],
   "source": []
  },
  {
   "cell_type": "markdown",
   "metadata": {},
   "source": [
    "### properties of AI corpus"
   ]
  },
  {
   "cell_type": "code",
   "execution_count": 11,
   "metadata": {},
   "outputs": [
    {
     "data": {
      "text/html": [
       "<div>\n",
       "<style scoped>\n",
       "    .dataframe tbody tr th:only-of-type {\n",
       "        vertical-align: middle;\n",
       "    }\n",
       "\n",
       "    .dataframe tbody tr th {\n",
       "        vertical-align: top;\n",
       "    }\n",
       "\n",
       "    .dataframe thead th {\n",
       "        text-align: right;\n",
       "    }\n",
       "</style>\n",
       "<table border=\"1\" class=\"dataframe\">\n",
       "  <thead>\n",
       "    <tr style=\"text-align: right;\">\n",
       "      <th></th>\n",
       "      <th>index</th>\n",
       "      <th>original index</th>\n",
       "      <th>PROJECT_ID</th>\n",
       "      <th>ABSTRACT</th>\n",
       "      <th>FY</th>\n",
       "      <th>PROJECT_TERMS</th>\n",
       "      <th>PROJECT_TITLE</th>\n",
       "      <th>DEPARTMENT</th>\n",
       "      <th>AGENCY</th>\n",
       "      <th>IC_CENTER</th>\n",
       "      <th>...</th>\n",
       "      <th>working_abstract</th>\n",
       "      <th>Start_Char</th>\n",
       "      <th>nchar</th>\n",
       "      <th>LAST_CHAR</th>\n",
       "      <th>lemma_abstract</th>\n",
       "      <th>clean_lemmas</th>\n",
       "      <th>stopwds_removed</th>\n",
       "      <th>n_grams_added</th>\n",
       "      <th>final_tokens</th>\n",
       "      <th>final_frqwds_removed</th>\n",
       "    </tr>\n",
       "  </thead>\n",
       "  <tbody>\n",
       "    <tr>\n",
       "      <th>206</th>\n",
       "      <td>206</td>\n",
       "      <td>1094356</td>\n",
       "      <td>1130812</td>\n",
       "      <td>PROJECT SUMMARY / ABSTRACTModern digital patho...</td>\n",
       "      <td>2019</td>\n",
       "      <td>actionable mutation; anticancer research; Arch...</td>\n",
       "      <td>GENOTYPE AND HISTOLOGICAL PHENOTYPE RELATIONSH...</td>\n",
       "      <td>HHS</td>\n",
       "      <td>NIH</td>\n",
       "      <td>NCI</td>\n",
       "      <td>...</td>\n",
       "      <td>Modern digital pathology departments produce a...</td>\n",
       "      <td>M</td>\n",
       "      <td>3058</td>\n",
       "      <td>e</td>\n",
       "      <td>[modern, digital, pathology, department, produ...</td>\n",
       "      <td>[modern, digital, pathology, department, produ...</td>\n",
       "      <td>[modern, digital, pathology, department, produ...</td>\n",
       "      <td>[modern, digital, pathology, department, produ...</td>\n",
       "      <td>[modern, digital, pathology, department, produ...</td>\n",
       "      <td>[modern, digital, pathology, department, treme...</td>\n",
       "    </tr>\n",
       "    <tr>\n",
       "      <th>207</th>\n",
       "      <td>207</td>\n",
       "      <td>938623</td>\n",
       "      <td>931185</td>\n",
       "      <td>PROJECT SUMMARY / ABSTRACTModern digital patho...</td>\n",
       "      <td>2017</td>\n",
       "      <td>actionable mutation; anticancer research; Arch...</td>\n",
       "      <td>GENOTYPE AND HISTOLOGICAL PHENOTYPE RELATIONSH...</td>\n",
       "      <td>HHS</td>\n",
       "      <td>NIH</td>\n",
       "      <td>NCI</td>\n",
       "      <td>...</td>\n",
       "      <td>Modern digital pathology departments produce a...</td>\n",
       "      <td>M</td>\n",
       "      <td>3059</td>\n",
       "      <td>e</td>\n",
       "      <td>[modern, digital, pathology, department, produ...</td>\n",
       "      <td>[modern, digital, pathology, department, produ...</td>\n",
       "      <td>[modern, digital, pathology, department, produ...</td>\n",
       "      <td>[modern, digital, pathology, department, produ...</td>\n",
       "      <td>[modern, digital, pathology, department, produ...</td>\n",
       "      <td>[modern, digital, pathology, department, treme...</td>\n",
       "    </tr>\n",
       "    <tr>\n",
       "      <th>2940</th>\n",
       "      <td>2940</td>\n",
       "      <td>197954</td>\n",
       "      <td>119775</td>\n",
       "      <td>This is funding to support participation by ap...</td>\n",
       "      <td>2009</td>\n",
       "      <td>Academia; Artificial Intelligence; Arts; base;...</td>\n",
       "      <td>SUPPORTING STUDENTS ATTENDING IUI 2009 CONFERENCE</td>\n",
       "      <td>NSF</td>\n",
       "      <td>NSF</td>\n",
       "      <td>NaN</td>\n",
       "      <td>...</td>\n",
       "      <td>This is funding to support participation by ap...</td>\n",
       "      <td>T</td>\n",
       "      <td>3170</td>\n",
       "      <td>e</td>\n",
       "      <td>[fund, support, participation, approximately, ...</td>\n",
       "      <td>[fund, support, participation, approximately, ...</td>\n",
       "      <td>[fund, support, participation, approximately, ...</td>\n",
       "      <td>[fund, support, participation, approximately, ...</td>\n",
       "      <td>[fund, support, participation, approximately, ...</td>\n",
       "      <td>[fund, participation, approximately, graduate,...</td>\n",
       "    </tr>\n",
       "    <tr>\n",
       "      <th>2988</th>\n",
       "      <td>2988</td>\n",
       "      <td>197569</td>\n",
       "      <td>119389</td>\n",
       "      <td>Within the literature on causal statistical in...</td>\n",
       "      <td>2009</td>\n",
       "      <td>Affect; Agriculture; Applied Research; Area; A...</td>\n",
       "      <td>COLLAB. PROPOSAL: PARTIAL AND POINT IDENTIFICA...</td>\n",
       "      <td>NSF</td>\n",
       "      <td>NSF</td>\n",
       "      <td>NaN</td>\n",
       "      <td>...</td>\n",
       "      <td>Within the literature on causal statistical in...</td>\n",
       "      <td>W</td>\n",
       "      <td>4672</td>\n",
       "      <td>t</td>\n",
       "      <td>[literature, causal, statistical, inference, i...</td>\n",
       "      <td>[literature, causal, statistical, inference, i...</td>\n",
       "      <td>[literature, causal, statistical, inference, i...</td>\n",
       "      <td>[literature, causal, statistical, inference, i...</td>\n",
       "      <td>[literature, causal, statistical, inference, i...</td>\n",
       "      <td>[literature, causal, statistical, inference, c...</td>\n",
       "    </tr>\n",
       "    <tr>\n",
       "      <th>3035</th>\n",
       "      <td>3035</td>\n",
       "      <td>197568</td>\n",
       "      <td>119388</td>\n",
       "      <td>Within the literature on causal statistical in...</td>\n",
       "      <td>2009</td>\n",
       "      <td>Affect; Agriculture; Applied Research; Area; A...</td>\n",
       "      <td>PARTIAL AND POINT IDENTIFICATION OF CAUSAL NET...</td>\n",
       "      <td>NSF</td>\n",
       "      <td>NSF</td>\n",
       "      <td>NaN</td>\n",
       "      <td>...</td>\n",
       "      <td>Within the literature on causal statistical in...</td>\n",
       "      <td>W</td>\n",
       "      <td>4714</td>\n",
       "      <td>t</td>\n",
       "      <td>[literature, causal, statistical, inference, i...</td>\n",
       "      <td>[literature, causal, statistical, inference, i...</td>\n",
       "      <td>[literature, causal, statistical, inference, i...</td>\n",
       "      <td>[literature, causal, statistical, inference, i...</td>\n",
       "      <td>[literature, causal, statistical, inference, i...</td>\n",
       "      <td>[literature, causal, statistical, inference, c...</td>\n",
       "    </tr>\n",
       "  </tbody>\n",
       "</table>\n",
       "<p>5 rows × 40 columns</p>\n",
       "</div>"
      ],
      "text/plain": [
       "      index  original index PROJECT_ID  \\\n",
       "206     206         1094356    1130812   \n",
       "207     207          938623     931185   \n",
       "2940   2940          197954     119775   \n",
       "2988   2988          197569     119389   \n",
       "3035   3035          197568     119388   \n",
       "\n",
       "                                               ABSTRACT    FY  \\\n",
       "206   PROJECT SUMMARY / ABSTRACTModern digital patho...  2019   \n",
       "207   PROJECT SUMMARY / ABSTRACTModern digital patho...  2017   \n",
       "2940  This is funding to support participation by ap...  2009   \n",
       "2988  Within the literature on causal statistical in...  2009   \n",
       "3035  Within the literature on causal statistical in...  2009   \n",
       "\n",
       "                                          PROJECT_TERMS  \\\n",
       "206   actionable mutation; anticancer research; Arch...   \n",
       "207   actionable mutation; anticancer research; Arch...   \n",
       "2940  Academia; Artificial Intelligence; Arts; base;...   \n",
       "2988  Affect; Agriculture; Applied Research; Area; A...   \n",
       "3035  Affect; Agriculture; Applied Research; Area; A...   \n",
       "\n",
       "                                          PROJECT_TITLE DEPARTMENT AGENCY  \\\n",
       "206   GENOTYPE AND HISTOLOGICAL PHENOTYPE RELATIONSH...        HHS    NIH   \n",
       "207   GENOTYPE AND HISTOLOGICAL PHENOTYPE RELATIONSH...        HHS    NIH   \n",
       "2940  SUPPORTING STUDENTS ATTENDING IUI 2009 CONFERENCE        NSF    NSF   \n",
       "2988  COLLAB. PROPOSAL: PARTIAL AND POINT IDENTIFICA...        NSF    NSF   \n",
       "3035  PARTIAL AND POINT IDENTIFICATION OF CAUSAL NET...        NSF    NSF   \n",
       "\n",
       "     IC_CENTER  ...                                   working_abstract  \\\n",
       "206        NCI  ...  Modern digital pathology departments produce a...   \n",
       "207        NCI  ...  Modern digital pathology departments produce a...   \n",
       "2940       NaN  ...  This is funding to support participation by ap...   \n",
       "2988       NaN  ...  Within the literature on causal statistical in...   \n",
       "3035       NaN  ...  Within the literature on causal statistical in...   \n",
       "\n",
       "     Start_Char nchar LAST_CHAR  \\\n",
       "206           M  3058         e   \n",
       "207           M  3059         e   \n",
       "2940          T  3170         e   \n",
       "2988          W  4672         t   \n",
       "3035          W  4714         t   \n",
       "\n",
       "                                         lemma_abstract  \\\n",
       "206   [modern, digital, pathology, department, produ...   \n",
       "207   [modern, digital, pathology, department, produ...   \n",
       "2940  [fund, support, participation, approximately, ...   \n",
       "2988  [literature, causal, statistical, inference, i...   \n",
       "3035  [literature, causal, statistical, inference, i...   \n",
       "\n",
       "                                           clean_lemmas  \\\n",
       "206   [modern, digital, pathology, department, produ...   \n",
       "207   [modern, digital, pathology, department, produ...   \n",
       "2940  [fund, support, participation, approximately, ...   \n",
       "2988  [literature, causal, statistical, inference, i...   \n",
       "3035  [literature, causal, statistical, inference, i...   \n",
       "\n",
       "                                        stopwds_removed  \\\n",
       "206   [modern, digital, pathology, department, produ...   \n",
       "207   [modern, digital, pathology, department, produ...   \n",
       "2940  [fund, support, participation, approximately, ...   \n",
       "2988  [literature, causal, statistical, inference, i...   \n",
       "3035  [literature, causal, statistical, inference, i...   \n",
       "\n",
       "                                          n_grams_added  \\\n",
       "206   [modern, digital, pathology, department, produ...   \n",
       "207   [modern, digital, pathology, department, produ...   \n",
       "2940  [fund, support, participation, approximately, ...   \n",
       "2988  [literature, causal, statistical, inference, i...   \n",
       "3035  [literature, causal, statistical, inference, i...   \n",
       "\n",
       "                                           final_tokens  \\\n",
       "206   [modern, digital, pathology, department, produ...   \n",
       "207   [modern, digital, pathology, department, produ...   \n",
       "2940  [fund, support, participation, approximately, ...   \n",
       "2988  [literature, causal, statistical, inference, i...   \n",
       "3035  [literature, causal, statistical, inference, i...   \n",
       "\n",
       "                                   final_frqwds_removed  \n",
       "206   [modern, digital, pathology, department, treme...  \n",
       "207   [modern, digital, pathology, department, treme...  \n",
       "2940  [fund, participation, approximately, graduate,...  \n",
       "2988  [literature, causal, statistical, inference, c...  \n",
       "3035  [literature, causal, statistical, inference, c...  \n",
       "\n",
       "[5 rows x 40 columns]"
      ]
     },
     "execution_count": 11,
     "metadata": {},
     "output_type": "execute_result"
    }
   ],
   "source": [
    "ai_corpus.head()"
   ]
  },
  {
   "cell_type": "code",
   "execution_count": 92,
   "metadata": {},
   "outputs": [
    {
     "data": {
      "text/plain": [
       "'Address; Antibodies; Antiviral Agents; Applications Grants; Applied Research; Area; Arts; base; Basic Science; Biochemical; Biology; Cancer Center Support Grant; cancer immunotherapy; cancer therapy; Cellular biology; Chemicals; Chemistry; Clinic; Clinical; clinical candidate; clinical care; clinical development; Clinical Investigator; Clinical Research; Clinical Trials; Clinical Trials Network; Code; Collaborations; Colorectal Cancer; Conduct Clinical Trials; Cytotoxic Chemotherapy; design; Development; Developmental Therapeutics Program; Direct Costs; Disease; DNA Repair; drug candidate; drug discovery; early phase trial; Engineering; Evaluation; Faculty; Funding; Future; Genome; Genomics; Goals; Grant; Hospitals; Immune; Immunotherapy; innovation; insight; Institute of Medicine (U.S.); Institutes; invention; Investigational Therapies; Investments; kinase inhibitor; Laboratories; Lead; Leadership; Link; Lung; Malignant neoplasm of lung; Malignant Neoplasms; Medical; medical schools; Medicine; meetings; melanoma; member; Mentorship; Mission; Molecular; National Clinical Trials Network; NCI Center for Cancer Research; novel; novel anticancer drug; novel strategies; novel therapeutics; oncology; Paper; patient population; Patient Selection; Patients; Peer Review; personalized medicine; Pharmacology; Phase; pre-clinical; predictive marker; Process; programs; Public Health; Publishing; recruit; Research; Research Infrastructure; Research Personnel; Resource Sharing; response; Science; Scientist; Services; Site; Skin; structural biology; Structure; success; targeted therapy trials; targeted treatment; Techniques; Testing; Therapeutic; Therapeutic Human Experimentation; Tissue Banks; tool; Translating; translational scientist; treatment strategy; tumor; United States National Academy of Sciences; Work; Yale Cancer Center'"
      ]
     },
     "execution_count": 92,
     "metadata": {},
     "output_type": "execute_result"
    }
   ],
   "source": [
    "# project terms - worth looking into??\n",
    "\n",
    "ai_corpus['PROJECT_TERMS'].iloc[500] # does not have artificial intelligence as key term"
   ]
  },
  {
   "cell_type": "code",
   "execution_count": 93,
   "metadata": {},
   "outputs": [
    {
     "data": {
      "text/plain": [
       "\"Project Summary/Abstract The objective of Stanford's proposed Health Services Research Training Program (HSRTP) is to developindependent, well-trained, diverse researchers who conduct rigorous and innovative health services research(HSR) on important challenges facing the U.S. health care system. Our program design is motivated by ourview that excellent health services researchers need a strong grasp of core disciplinary skills, the ability tofunction in multidisciplinary settings, and the ability to engage with both traditional and emerging researchcontexts. Accordingly, our program emphasizes strong disciplinary training in our core areas of healtheconomics, outcomes research, and decision science. We provide this training within the rich multidisciplinaryenvironment of our integrated campus. Our trainees will frequently be side-by-side with trainees and facultyfrom areas like clinical medicine, economics, engineering, ethics, informatics, and law. Mentored research experiences are designed to further our program design goals. Trainees will pursueone or more independent research projects in their area(s) of interest, working with multiple mentors withcomplementary areas of expertise. The program will connect trainees with mentors focused on trainees' topicsand methods of interest as well as at least one mentor focused on career development. The program includes30 faculty mentors, drawn from 12 departments or programs. Trainees will find opportunities to engage inresearch projects in a wide variety of HSR areas, including AHRQ priority areas like health insurance, qualityand safety, affordability, and access. As they pursue their research, our program will particularly facilitateengagement with emerging HSR topics, settings, and methods. Our program includes faculty and otherconnections to Stanford's strong and expanding capabilities in the areas of population health management,learning health care systems, informatics, and health law. We take advantage of extensive recent investmentsin cutting-edge data and computing resources to support HSR; the creation of HSR-related collaborations withinstitutions like Intermountain Health, Kaiser Permanente, Google, and Facebook; and the presence of leadinginvestigators in advanced computing, artificial intelligence, machine learning, textual processing, and theirapplication to new data sources and types. The program will support 5 pre- and 4 postdoctoral trainees per year, providing 2-3 years of full timesupport for each trainee. Predoctoral trainees will earn a PhD in Health Policy or a related field andpostdoctoral fellows with a professional degree (e.g. MD) will commonly earn an MS in Health Policy.Postdoctoral trainees with a research degree will focus on research activities complemented by targetedelectives. Our aim is that these trainees will strengthen the next generation of diverse HSR leaders, equipped togenerate, translate and disseminate the evidence needed to improve health care delivery in the United States.\""
      ]
     },
     "execution_count": 93,
     "metadata": {},
     "output_type": "execute_result"
    }
   ],
   "source": [
    "ai_corpus['ABSTRACT'].iloc[500]"
   ]
  },
  {
   "cell_type": "code",
   "execution_count": 12,
   "metadata": {},
   "outputs": [
    {
     "name": "stdout",
     "output_type": "stream",
     "text": [
      "NSF     725\n",
      "HHS     223\n",
      "ED        8\n",
      "DOD       6\n",
      "VA        5\n",
      "USDA      3\n",
      "EPA       1\n",
      "Name: DEPARTMENT, dtype: int64\n"
     ]
    },
    {
     "data": {
      "image/png": "[encoded data removed]",
      "text/plain": [
       "<Figure size 432x288 with 1 Axes>"
      ]
     },
     "metadata": {
      "needs_background": "light"
     },
     "output_type": "display_data"
    }
   ],
   "source": [
    "# plot number of abstracts by department\n",
    "\n",
    "y = ai_corpus[\"DEPARTMENT\"].value_counts()\n",
    "y.plot(kind = 'bar')\n",
    "plt.ylabel('Number of Abstracts')\n",
    "plt.title('Abstract Count by Department');\n",
    "\n",
    "print(y)"
   ]
  },
  {
   "cell_type": "code",
   "execution_count": 12,
   "metadata": {},
   "outputs": [],
   "source": [
    "# plot number of abstracts by project start year\n",
    "\n",
    "# extract year from project start date\n",
    "\n",
    "def getYear(a):   \n",
    "    a = str(a)\n",
    "    if a.find(\"/\"):\n",
    "        splitdate = a.split(\"/\")\n",
    "        if len(splitdate) == 3:\n",
    "            a = splitdate[2]\n",
    "        else:\n",
    "            a = splitdate[0]\n",
    "    year = str(a)\n",
    "    return year\n",
    "\n",
    "ai_corpus['START_YEAR'] = ai_corpus['PROJECT_START_DATE'].apply(getYear)"
   ]
  },
  {
   "cell_type": "code",
   "execution_count": 15,
   "metadata": {},
   "outputs": [
    {
     "name": "stdout",
     "output_type": "stream",
     "text": [
      "1977      3\n",
      "1987      2\n",
      "1997      1\n",
      "2002      1\n",
      "2003      1\n",
      "2004      2\n",
      "2005      3\n",
      "2006      8\n",
      "2007      5\n",
      "2008     38\n",
      "2009     60\n",
      "2010     56\n",
      "2011     53\n",
      "2012     61\n",
      "2013     47\n",
      "2014     44\n",
      "2015     64\n",
      "2016     84\n",
      "2017    139\n",
      "2018    227\n",
      "2019     72\n",
      "Name: START_YEAR, dtype: int64\n"
     ]
    },
    {
     "data": {
      "image/png": "[encoded data removed]",
      "text/plain": [
       "<Figure size 432x288 with 1 Axes>"
      ]
     },
     "metadata": {
      "needs_background": "light"
     },
     "output_type": "display_data"
    }
   ],
   "source": [
    "y = ai_corpus[\"START_YEAR\"].value_counts().sort_index()\n",
    "y.plot(kind = 'bar')\n",
    "plt.ylabel('Number of Abstracts')\n",
    "plt.title('Abstract Count by Project Start Year');\n",
    "\n",
    "print(y)"
   ]
  },
  {
   "cell_type": "code",
   "execution_count": 28,
   "metadata": {},
   "outputs": [],
   "source": [
    "# plot dollars by year\n",
    "\n",
    "dollars_by_year = ai_corpus.groupby(by = ['START_YEAR']).sum()\n",
    "dollars_by_year[\"FY_TOTAL_COST\"] = dollars_by_year[\"FY_TOTAL_COST\"]/1000000"
   ]
  },
  {
   "cell_type": "code",
   "execution_count": 31,
   "metadata": {},
   "outputs": [
    {
     "data": {
      "image/png": "[encoded data removed]",
      "text/plain": [
       "<Figure size 432x288 with 1 Axes>"
      ]
     },
     "metadata": {
      "needs_background": "light"
     },
     "output_type": "display_data"
    }
   ],
   "source": [
    "dollars_by_year.plot.bar(y = \"FY_TOTAL_COST\")\n",
    "plt.ylabel('Dollars (millions)')\n",
    "plt.title('Dollars Spent by Project Start Year');\n"
   ]
  },
  {
   "cell_type": "code",
   "execution_count": null,
   "metadata": {},
   "outputs": [],
   "source": []
  },
  {
   "cell_type": "code",
   "execution_count": 14,
   "metadata": {},
   "outputs": [
    {
     "data": {
      "text/html": [
       "<div>\n",
       "<style scoped>\n",
       "    .dataframe tbody tr th:only-of-type {\n",
       "        vertical-align: middle;\n",
       "    }\n",
       "\n",
       "    .dataframe tbody tr th {\n",
       "        vertical-align: top;\n",
       "    }\n",
       "\n",
       "    .dataframe thead th {\n",
       "        text-align: right;\n",
       "    }\n",
       "</style>\n",
       "<table border=\"1\" class=\"dataframe\">\n",
       "  <thead>\n",
       "    <tr style=\"text-align: right;\">\n",
       "      <th></th>\n",
       "      <th></th>\n",
       "      <th>index</th>\n",
       "      <th>original index</th>\n",
       "      <th>FY_TOTAL_COST</th>\n",
       "      <th>FY_TOTAL_COST_SUB_PROJECTS</th>\n",
       "      <th>ORG_COUNT</th>\n",
       "      <th>PI_COUNT</th>\n",
       "      <th>nchar</th>\n",
       "    </tr>\n",
       "    <tr>\n",
       "      <th>START_YEAR</th>\n",
       "      <th>DEPARTMENT</th>\n",
       "      <th></th>\n",
       "      <th></th>\n",
       "      <th></th>\n",
       "      <th></th>\n",
       "      <th></th>\n",
       "      <th></th>\n",
       "      <th></th>\n",
       "    </tr>\n",
       "  </thead>\n",
       "  <tbody>\n",
       "    <tr>\n",
       "      <th>1977</th>\n",
       "      <th>HHS</th>\n",
       "      <td>1241229</td>\n",
       "      <td>1113451</td>\n",
       "      <td>1.141446</td>\n",
       "      <td>0.0</td>\n",
       "      <td>3</td>\n",
       "      <td>4</td>\n",
       "      <td>6668</td>\n",
       "    </tr>\n",
       "    <tr>\n",
       "      <th>1987</th>\n",
       "      <th>HHS</th>\n",
       "      <td>764375</td>\n",
       "      <td>231535</td>\n",
       "      <td>0.510160</td>\n",
       "      <td>0.0</td>\n",
       "      <td>2</td>\n",
       "      <td>2</td>\n",
       "      <td>4979</td>\n",
       "    </tr>\n",
       "    <tr>\n",
       "      <th>1997</th>\n",
       "      <th>HHS</th>\n",
       "      <td>646480</td>\n",
       "      <td>1107697</td>\n",
       "      <td>0.000000</td>\n",
       "      <td>59104.0</td>\n",
       "      <td>1</td>\n",
       "      <td>1</td>\n",
       "      <td>2869</td>\n",
       "    </tr>\n",
       "    <tr>\n",
       "      <th>2002</th>\n",
       "      <th>HHS</th>\n",
       "      <td>396611</td>\n",
       "      <td>36595</td>\n",
       "      <td>0.364134</td>\n",
       "      <td>0.0</td>\n",
       "      <td>1</td>\n",
       "      <td>1</td>\n",
       "      <td>1712</td>\n",
       "    </tr>\n",
       "    <tr>\n",
       "      <th>2003</th>\n",
       "      <th>HHS</th>\n",
       "      <td>457682</td>\n",
       "      <td>1051077</td>\n",
       "      <td>0.378026</td>\n",
       "      <td>0.0</td>\n",
       "      <td>1</td>\n",
       "      <td>1</td>\n",
       "      <td>3157</td>\n",
       "    </tr>\n",
       "    <tr>\n",
       "      <th>2004</th>\n",
       "      <th>HHS</th>\n",
       "      <td>546536</td>\n",
       "      <td>1082534</td>\n",
       "      <td>1.001188</td>\n",
       "      <td>0.0</td>\n",
       "      <td>2</td>\n",
       "      <td>2</td>\n",
       "      <td>4834</td>\n",
       "    </tr>\n",
       "    <tr>\n",
       "      <th>2005</th>\n",
       "      <th>HHS</th>\n",
       "      <td>1384876</td>\n",
       "      <td>888213</td>\n",
       "      <td>0.750220</td>\n",
       "      <td>0.0</td>\n",
       "      <td>3</td>\n",
       "      <td>3</td>\n",
       "      <td>11918</td>\n",
       "    </tr>\n",
       "    <tr>\n",
       "      <th>2006</th>\n",
       "      <th>HHS</th>\n",
       "      <td>3196253</td>\n",
       "      <td>1065385</td>\n",
       "      <td>6.728157</td>\n",
       "      <td>0.0</td>\n",
       "      <td>8</td>\n",
       "      <td>8</td>\n",
       "      <td>18870</td>\n",
       "    </tr>\n",
       "    <tr>\n",
       "      <th rowspan=\"2\" valign=\"top\">2007</th>\n",
       "      <th>HHS</th>\n",
       "      <td>1212214</td>\n",
       "      <td>265585</td>\n",
       "      <td>1.190586</td>\n",
       "      <td>0.0</td>\n",
       "      <td>5</td>\n",
       "      <td>4</td>\n",
       "      <td>10059</td>\n",
       "    </tr>\n",
       "    <tr>\n",
       "      <th>NSF</th>\n",
       "      <td>385247</td>\n",
       "      <td>11811</td>\n",
       "      <td>0.400000</td>\n",
       "      <td>0.0</td>\n",
       "      <td>1</td>\n",
       "      <td>1</td>\n",
       "      <td>2254</td>\n",
       "    </tr>\n",
       "    <tr>\n",
       "      <th rowspan=\"2\" valign=\"top\">2008</th>\n",
       "      <th>HHS</th>\n",
       "      <td>463406</td>\n",
       "      <td>472248</td>\n",
       "      <td>0.000000</td>\n",
       "      <td>0.0</td>\n",
       "      <td>3</td>\n",
       "      <td>3</td>\n",
       "      <td>6044</td>\n",
       "    </tr>\n",
       "    <tr>\n",
       "      <th>NSF</th>\n",
       "      <td>11181436</td>\n",
       "      <td>421792</td>\n",
       "      <td>23.279253</td>\n",
       "      <td>0.0</td>\n",
       "      <td>37</td>\n",
       "      <td>37</td>\n",
       "      <td>70323</td>\n",
       "    </tr>\n",
       "    <tr>\n",
       "      <th rowspan=\"3\" valign=\"top\">2009</th>\n",
       "      <th>DOD</th>\n",
       "      <td>265727</td>\n",
       "      <td>171495</td>\n",
       "      <td>0.568111</td>\n",
       "      <td>0.0</td>\n",
       "      <td>1</td>\n",
       "      <td>1</td>\n",
       "      <td>4441</td>\n",
       "    </tr>\n",
       "    <tr>\n",
       "      <th>HHS</th>\n",
       "      <td>5175776</td>\n",
       "      <td>2992239</td>\n",
       "      <td>5.305379</td>\n",
       "      <td>0.0</td>\n",
       "      <td>12</td>\n",
       "      <td>12</td>\n",
       "      <td>39047</td>\n",
       "    </tr>\n",
       "    <tr>\n",
       "      <th>NSF</th>\n",
       "      <td>18127879</td>\n",
       "      <td>9121012</td>\n",
       "      <td>15.918851</td>\n",
       "      <td>0.0</td>\n",
       "      <td>49</td>\n",
       "      <td>49</td>\n",
       "      <td>113883</td>\n",
       "    </tr>\n",
       "    <tr>\n",
       "      <th rowspan=\"5\" valign=\"top\">2010</th>\n",
       "      <th>EPA</th>\n",
       "      <td>539198</td>\n",
       "      <td>307517</td>\n",
       "      <td>0.010000</td>\n",
       "      <td>0.0</td>\n",
       "      <td>1</td>\n",
       "      <td>1</td>\n",
       "      <td>1499</td>\n",
       "    </tr>\n",
       "    <tr>\n",
       "      <th>HHS</th>\n",
       "      <td>3407039</td>\n",
       "      <td>3614332</td>\n",
       "      <td>2.457230</td>\n",
       "      <td>0.0</td>\n",
       "      <td>8</td>\n",
       "      <td>8</td>\n",
       "      <td>23181</td>\n",
       "    </tr>\n",
       "    <tr>\n",
       "      <th>NSF</th>\n",
       "      <td>16950137</td>\n",
       "      <td>13279488</td>\n",
       "      <td>28.327119</td>\n",
       "      <td>0.0</td>\n",
       "      <td>47</td>\n",
       "      <td>47</td>\n",
       "      <td>101854</td>\n",
       "    </tr>\n",
       "    <tr>\n",
       "      <th>USDA</th>\n",
       "      <td>668483</td>\n",
       "      <td>372435</td>\n",
       "      <td>0.000000</td>\n",
       "      <td>0.0</td>\n",
       "      <td>1</td>\n",
       "      <td>1</td>\n",
       "      <td>2603</td>\n",
       "    </tr>\n",
       "    <tr>\n",
       "      <th>VA</th>\n",
       "      <td>205419</td>\n",
       "      <td>431782</td>\n",
       "      <td>0.000000</td>\n",
       "      <td>0.0</td>\n",
       "      <td>1</td>\n",
       "      <td>1</td>\n",
       "      <td>2656</td>\n",
       "    </tr>\n",
       "    <tr>\n",
       "      <th rowspan=\"4\" valign=\"top\">2011</th>\n",
       "      <th>DOD</th>\n",
       "      <td>57732</td>\n",
       "      <td>368558</td>\n",
       "      <td>0.235818</td>\n",
       "      <td>0.0</td>\n",
       "      <td>1</td>\n",
       "      <td>1</td>\n",
       "      <td>3657</td>\n",
       "    </tr>\n",
       "    <tr>\n",
       "      <th>HHS</th>\n",
       "      <td>1756670</td>\n",
       "      <td>3973962</td>\n",
       "      <td>2.356986</td>\n",
       "      <td>0.0</td>\n",
       "      <td>8</td>\n",
       "      <td>9</td>\n",
       "      <td>24735</td>\n",
       "    </tr>\n",
       "    <tr>\n",
       "      <th>NSF</th>\n",
       "      <td>17995725</td>\n",
       "      <td>16701203</td>\n",
       "      <td>15.127427</td>\n",
       "      <td>0.0</td>\n",
       "      <td>48</td>\n",
       "      <td>48</td>\n",
       "      <td>104093</td>\n",
       "    </tr>\n",
       "    <tr>\n",
       "      <th>USDA</th>\n",
       "      <td>679257</td>\n",
       "      <td>527963</td>\n",
       "      <td>0.000000</td>\n",
       "      <td>0.0</td>\n",
       "      <td>1</td>\n",
       "      <td>1</td>\n",
       "      <td>2436</td>\n",
       "    </tr>\n",
       "    <tr>\n",
       "      <th rowspan=\"4\" valign=\"top\">2012</th>\n",
       "      <th>ED</th>\n",
       "      <td>1006343</td>\n",
       "      <td>1189734</td>\n",
       "      <td>0.996461</td>\n",
       "      <td>0.0</td>\n",
       "      <td>2</td>\n",
       "      <td>2</td>\n",
       "      <td>4254</td>\n",
       "    </tr>\n",
       "    <tr>\n",
       "      <th>HHS</th>\n",
       "      <td>3708474</td>\n",
       "      <td>4813950</td>\n",
       "      <td>3.314829</td>\n",
       "      <td>0.0</td>\n",
       "      <td>9</td>\n",
       "      <td>9</td>\n",
       "      <td>31092</td>\n",
       "    </tr>\n",
       "    <tr>\n",
       "      <th>NSF</th>\n",
       "      <td>18861149</td>\n",
       "      <td>23923585</td>\n",
       "      <td>11.768732</td>\n",
       "      <td>0.0</td>\n",
       "      <td>54</td>\n",
       "      <td>54</td>\n",
       "      <td>114302</td>\n",
       "    </tr>\n",
       "    <tr>\n",
       "      <th>USDA</th>\n",
       "      <td>676291</td>\n",
       "      <td>646212</td>\n",
       "      <td>0.000000</td>\n",
       "      <td>0.0</td>\n",
       "      <td>1</td>\n",
       "      <td>1</td>\n",
       "      <td>1400</td>\n",
       "    </tr>\n",
       "    <tr>\n",
       "      <th rowspan=\"2\" valign=\"top\">2013</th>\n",
       "      <th>HHS</th>\n",
       "      <td>3302464</td>\n",
       "      <td>6249599</td>\n",
       "      <td>3.874279</td>\n",
       "      <td>0.0</td>\n",
       "      <td>9</td>\n",
       "      <td>9</td>\n",
       "      <td>24628</td>\n",
       "    </tr>\n",
       "    <tr>\n",
       "      <th>NSF</th>\n",
       "      <td>14205799</td>\n",
       "      <td>20769774</td>\n",
       "      <td>6.896143</td>\n",
       "      <td>0.0</td>\n",
       "      <td>43</td>\n",
       "      <td>43</td>\n",
       "      <td>90897</td>\n",
       "    </tr>\n",
       "    <tr>\n",
       "      <th rowspan=\"4\" valign=\"top\">2014</th>\n",
       "      <th>DOD</th>\n",
       "      <td>365844</td>\n",
       "      <td>740616</td>\n",
       "      <td>0.000000</td>\n",
       "      <td>0.0</td>\n",
       "      <td>1</td>\n",
       "      <td>1</td>\n",
       "      <td>3233</td>\n",
       "    </tr>\n",
       "    <tr>\n",
       "      <th>ED</th>\n",
       "      <td>71279</td>\n",
       "      <td>741456</td>\n",
       "      <td>0.000000</td>\n",
       "      <td>0.0</td>\n",
       "      <td>1</td>\n",
       "      <td>1</td>\n",
       "      <td>526</td>\n",
       "    </tr>\n",
       "    <tr>\n",
       "      <th>HHS</th>\n",
       "      <td>1885922</td>\n",
       "      <td>3719330</td>\n",
       "      <td>0.990755</td>\n",
       "      <td>0.0</td>\n",
       "      <td>5</td>\n",
       "      <td>6</td>\n",
       "      <td>14209</td>\n",
       "    </tr>\n",
       "    <tr>\n",
       "      <th>NSF</th>\n",
       "      <td>12670781</td>\n",
       "      <td>26605297</td>\n",
       "      <td>1.064021</td>\n",
       "      <td>0.0</td>\n",
       "      <td>41</td>\n",
       "      <td>41</td>\n",
       "      <td>95946</td>\n",
       "    </tr>\n",
       "    <tr>\n",
       "      <th rowspan=\"4\" valign=\"top\">2015</th>\n",
       "      <th>ED</th>\n",
       "      <td>31853</td>\n",
       "      <td>839170</td>\n",
       "      <td>0.149924</td>\n",
       "      <td>0.0</td>\n",
       "      <td>1</td>\n",
       "      <td>1</td>\n",
       "      <td>600</td>\n",
       "    </tr>\n",
       "    <tr>\n",
       "      <th>HHS</th>\n",
       "      <td>3466364</td>\n",
       "      <td>7427095</td>\n",
       "      <td>3.213240</td>\n",
       "      <td>0.0</td>\n",
       "      <td>10</td>\n",
       "      <td>9</td>\n",
       "      <td>28848</td>\n",
       "    </tr>\n",
       "    <tr>\n",
       "      <th>NSF</th>\n",
       "      <td>21299684</td>\n",
       "      <td>43686467</td>\n",
       "      <td>15.087395</td>\n",
       "      <td>0.0</td>\n",
       "      <td>56</td>\n",
       "      <td>56</td>\n",
       "      <td>141542</td>\n",
       "    </tr>\n",
       "    <tr>\n",
       "      <th>VA</th>\n",
       "      <td>437669</td>\n",
       "      <td>743696</td>\n",
       "      <td>0.000000</td>\n",
       "      <td>0.0</td>\n",
       "      <td>1</td>\n",
       "      <td>1</td>\n",
       "      <td>4166</td>\n",
       "    </tr>\n",
       "    <tr>\n",
       "      <th rowspan=\"3\" valign=\"top\">2016</th>\n",
       "      <th>ED</th>\n",
       "      <td>1176181</td>\n",
       "      <td>2851701</td>\n",
       "      <td>1.830453</td>\n",
       "      <td>0.0</td>\n",
       "      <td>3</td>\n",
       "      <td>3</td>\n",
       "      <td>6582</td>\n",
       "    </tr>\n",
       "    <tr>\n",
       "      <th>HHS</th>\n",
       "      <td>6826739</td>\n",
       "      <td>13998223</td>\n",
       "      <td>7.874106</td>\n",
       "      <td>0.0</td>\n",
       "      <td>17</td>\n",
       "      <td>15</td>\n",
       "      <td>44020</td>\n",
       "    </tr>\n",
       "    <tr>\n",
       "      <th>NSF</th>\n",
       "      <td>26507392</td>\n",
       "      <td>60562150</td>\n",
       "      <td>15.480814</td>\n",
       "      <td>0.0</td>\n",
       "      <td>71</td>\n",
       "      <td>71</td>\n",
       "      <td>155985</td>\n",
       "    </tr>\n",
       "    <tr>\n",
       "      <th rowspan=\"3\" valign=\"top\">2017</th>\n",
       "      <th>DOD</th>\n",
       "      <td>237031</td>\n",
       "      <td>926502</td>\n",
       "      <td>0.237749</td>\n",
       "      <td>0.0</td>\n",
       "      <td>1</td>\n",
       "      <td>1</td>\n",
       "      <td>4876</td>\n",
       "    </tr>\n",
       "    <tr>\n",
       "      <th>HHS</th>\n",
       "      <td>6396338</td>\n",
       "      <td>20990935</td>\n",
       "      <td>6.590461</td>\n",
       "      <td>1101748.0</td>\n",
       "      <td>22</td>\n",
       "      <td>21</td>\n",
       "      <td>64466</td>\n",
       "    </tr>\n",
       "    <tr>\n",
       "      <th>NSF</th>\n",
       "      <td>51151544</td>\n",
       "      <td>116491854</td>\n",
       "      <td>41.230296</td>\n",
       "      <td>0.0</td>\n",
       "      <td>136</td>\n",
       "      <td>136</td>\n",
       "      <td>312580</td>\n",
       "    </tr>\n",
       "    <tr>\n",
       "      <th rowspan=\"5\" valign=\"top\">2018</th>\n",
       "      <th>DOD</th>\n",
       "      <td>661352</td>\n",
       "      <td>1000964</td>\n",
       "      <td>0.311056</td>\n",
       "      <td>0.0</td>\n",
       "      <td>1</td>\n",
       "      <td>1</td>\n",
       "      <td>5007</td>\n",
       "    </tr>\n",
       "    <tr>\n",
       "      <th>ED</th>\n",
       "      <td>624918</td>\n",
       "      <td>1072833</td>\n",
       "      <td>0.468135</td>\n",
       "      <td>0.0</td>\n",
       "      <td>1</td>\n",
       "      <td>1</td>\n",
       "      <td>1945</td>\n",
       "    </tr>\n",
       "    <tr>\n",
       "      <th>HHS</th>\n",
       "      <td>12067534</td>\n",
       "      <td>37434100</td>\n",
       "      <td>11.651881</td>\n",
       "      <td>1533380.0</td>\n",
       "      <td>37</td>\n",
       "      <td>36</td>\n",
       "      <td>102896</td>\n",
       "    </tr>\n",
       "    <tr>\n",
       "      <th>NSF</th>\n",
       "      <td>87307443</td>\n",
       "      <td>199827650</td>\n",
       "      <td>78.395675</td>\n",
       "      <td>0.0</td>\n",
       "      <td>216</td>\n",
       "      <td>216</td>\n",
       "      <td>503635</td>\n",
       "    </tr>\n",
       "    <tr>\n",
       "      <th>VA</th>\n",
       "      <td>458715</td>\n",
       "      <td>1043600</td>\n",
       "      <td>0.000000</td>\n",
       "      <td>0.0</td>\n",
       "      <td>1</td>\n",
       "      <td>1</td>\n",
       "      <td>2570</td>\n",
       "    </tr>\n",
       "    <tr>\n",
       "      <th rowspan=\"4\" valign=\"top\">2019</th>\n",
       "      <th>DOD</th>\n",
       "      <td>456784</td>\n",
       "      <td>1071898</td>\n",
       "      <td>0.591228</td>\n",
       "      <td>0.0</td>\n",
       "      <td>2</td>\n",
       "      <td>2</td>\n",
       "      <td>4534</td>\n",
       "    </tr>\n",
       "    <tr>\n",
       "      <th>HHS</th>\n",
       "      <td>22144566</td>\n",
       "      <td>69884654</td>\n",
       "      <td>26.983748</td>\n",
       "      <td>1316286.0</td>\n",
       "      <td>64</td>\n",
       "      <td>64</td>\n",
       "      <td>183391</td>\n",
       "    </tr>\n",
       "    <tr>\n",
       "      <th>NSF</th>\n",
       "      <td>421861</td>\n",
       "      <td>5307246</td>\n",
       "      <td>2.675990</td>\n",
       "      <td>0.0</td>\n",
       "      <td>6</td>\n",
       "      <td>6</td>\n",
       "      <td>18182</td>\n",
       "    </tr>\n",
       "    <tr>\n",
       "      <th>VA</th>\n",
       "      <td>545841</td>\n",
       "      <td>2154457</td>\n",
       "      <td>0.000000</td>\n",
       "      <td>0.0</td>\n",
       "      <td>2</td>\n",
       "      <td>2</td>\n",
       "      <td>6079</td>\n",
       "    </tr>\n",
       "  </tbody>\n",
       "</table>\n",
       "</div>"
      ],
      "text/plain": [
       "                          index  original index  FY_TOTAL_COST  \\\n",
       "START_YEAR DEPARTMENT                                            \n",
       "1977       HHS          1241229         1113451       1.141446   \n",
       "1987       HHS           764375          231535       0.510160   \n",
       "1997       HHS           646480         1107697       0.000000   \n",
       "2002       HHS           396611           36595       0.364134   \n",
       "2003       HHS           457682         1051077       0.378026   \n",
       "2004       HHS           546536         1082534       1.001188   \n",
       "2005       HHS          1384876          888213       0.750220   \n",
       "2006       HHS          3196253         1065385       6.728157   \n",
       "2007       HHS          1212214          265585       1.190586   \n",
       "           NSF           385247           11811       0.400000   \n",
       "2008       HHS           463406          472248       0.000000   \n",
       "           NSF         11181436          421792      23.279253   \n",
       "2009       DOD           265727          171495       0.568111   \n",
       "           HHS          5175776         2992239       5.305379   \n",
       "           NSF         18127879         9121012      15.918851   \n",
       "2010       EPA           539198          307517       0.010000   \n",
       "           HHS          3407039         3614332       2.457230   \n",
       "           NSF         16950137        13279488      28.327119   \n",
       "           USDA          668483          372435       0.000000   \n",
       "           VA            205419          431782       0.000000   \n",
       "2011       DOD            57732          368558       0.235818   \n",
       "           HHS          1756670         3973962       2.356986   \n",
       "           NSF         17995725        16701203      15.127427   \n",
       "           USDA          679257          527963       0.000000   \n",
       "2012       ED           1006343         1189734       0.996461   \n",
       "           HHS          3708474         4813950       3.314829   \n",
       "           NSF         18861149        23923585      11.768732   \n",
       "           USDA          676291          646212       0.000000   \n",
       "2013       HHS          3302464         6249599       3.874279   \n",
       "           NSF         14205799        20769774       6.896143   \n",
       "2014       DOD           365844          740616       0.000000   \n",
       "           ED             71279          741456       0.000000   \n",
       "           HHS          1885922         3719330       0.990755   \n",
       "           NSF         12670781        26605297       1.064021   \n",
       "2015       ED             31853          839170       0.149924   \n",
       "           HHS          3466364         7427095       3.213240   \n",
       "           NSF         21299684        43686467      15.087395   \n",
       "           VA            437669          743696       0.000000   \n",
       "2016       ED           1176181         2851701       1.830453   \n",
       "           HHS          6826739        13998223       7.874106   \n",
       "           NSF         26507392        60562150      15.480814   \n",
       "2017       DOD           237031          926502       0.237749   \n",
       "           HHS          6396338        20990935       6.590461   \n",
       "           NSF         51151544       116491854      41.230296   \n",
       "2018       DOD           661352         1000964       0.311056   \n",
       "           ED            624918         1072833       0.468135   \n",
       "           HHS         12067534        37434100      11.651881   \n",
       "           NSF         87307443       199827650      78.395675   \n",
       "           VA            458715         1043600       0.000000   \n",
       "2019       DOD           456784         1071898       0.591228   \n",
       "           HHS         22144566        69884654      26.983748   \n",
       "           NSF           421861         5307246       2.675990   \n",
       "           VA            545841         2154457       0.000000   \n",
       "\n",
       "                       FY_TOTAL_COST_SUB_PROJECTS  ORG_COUNT  PI_COUNT   nchar  \n",
       "START_YEAR DEPARTMENT                                                           \n",
       "1977       HHS                                0.0          3         4    6668  \n",
       "1987       HHS                                0.0          2         2    4979  \n",
       "1997       HHS                            59104.0          1         1    2869  \n",
       "2002       HHS                                0.0          1         1    1712  \n",
       "2003       HHS                                0.0          1         1    3157  \n",
       "2004       HHS                                0.0          2         2    4834  \n",
       "2005       HHS                                0.0          3         3   11918  \n",
       "2006       HHS                                0.0          8         8   18870  \n",
       "2007       HHS                                0.0          5         4   10059  \n",
       "           NSF                                0.0          1         1    2254  \n",
       "2008       HHS                                0.0          3         3    6044  \n",
       "           NSF                                0.0         37        37   70323  \n",
       "2009       DOD                                0.0          1         1    4441  \n",
       "           HHS                                0.0         12        12   39047  \n",
       "           NSF                                0.0         49        49  113883  \n",
       "2010       EPA                                0.0          1         1    1499  \n",
       "           HHS                                0.0          8         8   23181  \n",
       "           NSF                                0.0         47        47  101854  \n",
       "           USDA                               0.0          1         1    2603  \n",
       "           VA                                 0.0          1         1    2656  \n",
       "2011       DOD                                0.0          1         1    3657  \n",
       "           HHS                                0.0          8         9   24735  \n",
       "           NSF                                0.0         48        48  104093  \n",
       "           USDA                               0.0          1         1    2436  \n",
       "2012       ED                                 0.0          2         2    4254  \n",
       "           HHS                                0.0          9         9   31092  \n",
       "           NSF                                0.0         54        54  114302  \n",
       "           USDA                               0.0          1         1    1400  \n",
       "2013       HHS                                0.0          9         9   24628  \n",
       "           NSF                                0.0         43        43   90897  \n",
       "2014       DOD                                0.0          1         1    3233  \n",
       "           ED                                 0.0          1         1     526  \n",
       "           HHS                                0.0          5         6   14209  \n",
       "           NSF                                0.0         41        41   95946  \n",
       "2015       ED                                 0.0          1         1     600  \n",
       "           HHS                                0.0         10         9   28848  \n",
       "           NSF                                0.0         56        56  141542  \n",
       "           VA                                 0.0          1         1    4166  \n",
       "2016       ED                                 0.0          3         3    6582  \n",
       "           HHS                                0.0         17        15   44020  \n",
       "           NSF                                0.0         71        71  155985  \n",
       "2017       DOD                                0.0          1         1    4876  \n",
       "           HHS                          1101748.0         22        21   64466  \n",
       "           NSF                                0.0        136       136  312580  \n",
       "2018       DOD                                0.0          1         1    5007  \n",
       "           ED                                 0.0          1         1    1945  \n",
       "           HHS                          1533380.0         37        36  102896  \n",
       "           NSF                                0.0        216       216  503635  \n",
       "           VA                                 0.0          1         1    2570  \n",
       "2019       DOD                                0.0          2         2    4534  \n",
       "           HHS                          1316286.0         64        64  183391  \n",
       "           NSF                                0.0          6         6   18182  \n",
       "           VA                                 0.0          2         2    6079  "
      ]
     },
     "execution_count": 14,
     "metadata": {},
     "output_type": "execute_result"
    }
   ],
   "source": [
    "# plot dollars by year & department\n",
    "\n",
    "dollars_by_deptNyear = ai_corpus.groupby(by = ['START_YEAR','DEPARTMENT']).sum()\n",
    "dollars_by_deptNyear[\"FY_TOTAL_COST\"] = dollars_by_deptNyear[\"FY_TOTAL_COST\"]/1000000\n",
    "\n",
    "dollars_by_deptNyear"
   ]
  },
  {
   "cell_type": "code",
   "execution_count": 15,
   "metadata": {},
   "outputs": [
    {
     "data": {
      "image/png": "[encoded data removed]",
      "text/plain": [
       "<Figure size 1080x360 with 1 Axes>"
      ]
     },
     "metadata": {
      "needs_background": "light"
     },
     "output_type": "display_data"
    }
   ],
   "source": [
    "dollars_by_deptNyear.plot.bar(y = \"FY_TOTAL_COST\", figsize=(15,5))\n",
    "plt.ylabel('Dollars (millions)')\n",
    "plt.title('Dollars Spent by Project Start Year and Department');"
   ]
  },
  {
   "cell_type": "code",
   "execution_count": 16,
   "metadata": {},
   "outputs": [],
   "source": [
    "dollars_by_deptNyear = dollars_by_deptNyear.reset_index()"
   ]
  },
  {
   "cell_type": "code",
   "execution_count": 17,
   "metadata": {},
   "outputs": [
    {
     "data": {
      "text/plain": [
       "<matplotlib.axes._subplots.AxesSubplot at 0x7f08aae4e850>"
      ]
     },
     "execution_count": 17,
     "metadata": {},
     "output_type": "execute_result"
    },
    {
     "data": {
      "image/png": "[encoded data removed]",
      "text/plain": [
       "<Figure size 720x360 with 1 Axes>"
      ]
     },
     "metadata": {
      "needs_background": "light"
     },
     "output_type": "display_data"
    }
   ],
   "source": [
    "fig, ax = plt.subplots(figsize=(10,5))\n",
    "sns.barplot(ax=ax, x=\"START_YEAR\", y=\"FY_TOTAL_COST\", hue=\"DEPARTMENT\", data=dollars_by_deptNyear)"
   ]
  },
  {
   "cell_type": "code",
   "execution_count": null,
   "metadata": {},
   "outputs": [],
   "source": []
  },
  {
   "cell_type": "code",
   "execution_count": null,
   "metadata": {},
   "outputs": [],
   "source": []
  },
  {
   "cell_type": "code",
   "execution_count": 13,
   "metadata": {},
   "outputs": [],
   "source": [
    "# next step - look at documents containing machine learning applications (such as topic 21)\n",
    "\n",
    "topic_docs = W[:, 21]"
   ]
  },
  {
   "cell_type": "code",
   "execution_count": 14,
   "metadata": {},
   "outputs": [
    {
     "data": {
      "text/plain": [
       "269"
      ]
     },
     "execution_count": 14,
     "metadata": {},
     "output_type": "execute_result"
    }
   ],
   "source": [
    "sum(topic_docs > 0) "
   ]
  },
  {
   "cell_type": "code",
   "execution_count": 16,
   "metadata": {},
   "outputs": [
    {
     "data": {
      "text/plain": [
       "0.42245060347796837"
      ]
     },
     "execution_count": 16,
     "metadata": {},
     "output_type": "execute_result"
    }
   ],
   "source": [
    "max_score = max(topic_docs)\n",
    "max_score"
   ]
  },
  {
   "cell_type": "code",
   "execution_count": 17,
   "metadata": {},
   "outputs": [
    {
     "data": {
      "text/plain": [
       "array([0.00119196, 0.00129095, 0.        , 0.00067637, 0.00050862,\n",
       "       0.        , 0.        , 0.        , 0.        , 0.        ,\n",
       "       0.        , 0.0139517 , 0.000811  , 0.        , 0.        ,\n",
       "       0.        , 0.        , 0.01106404, 0.        , 0.03714427])"
      ]
     },
     "execution_count": 17,
     "metadata": {},
     "output_type": "execute_result"
    }
   ],
   "source": [
    "topic_docs[0:20]"
   ]
  },
  {
   "cell_type": "code",
   "execution_count": 120,
   "metadata": {},
   "outputs": [
    {
     "name": "stdout",
     "output_type": "stream",
     "text": [
      "['literature', 'causal', 'statistical', 'inference', 'causal', 'channel', 'interest', 'net', 'direct', 'causal', 'block', 'variable', 'represent', 'net', 'useful', 'learn', 'way', 'causally', 'policy', 'purpose', 'evaluation', 'evident', 'importance', 'latest', 'theoretical', 'definition', 'identification', 'estimation', 'place', 'economics', 'introduce', 'net', 'economics', 'employ', 'familiar', 'econometric', 'language', 'ii', 'literature', 'causal', 'partial', 'point', 'identification', 'nonparametric_parametric', 'assignment', 'heterogeneous', 'iii', 'relevant', 'simulation', 'guide', 'future', 'apply', 'employ', 'framework', 'neyman', '1923', 'rubin', '1974', 'related', 'concept', 'principal', 'stratification', 'frangakis_rubin_2002', 'introduce', 'economics', 'concept', 'net', 'average', 'nate', 'average', 'mate', 'decompose', 'total', 'average', 'eat', 'related', 'concept', 'previously', 'introduce', 'robins', 'greenland', '1992', 'pearl', '2001', 'second', 'nonparametric', 'partial', 'identification', 'net', 'minimal', 'assumption', 'subsequently', 'present', 'set', 'assumption', 'parametric_nonparametric', 'point', 'identification', 'nate', 'nonparametric', 'insight', 'seminal', 'imbens', 'angrist', '1994', 'angrist', 'imbens', 'rubin', '1996', 'local', 'average', 'case', 'randomly_assign', 'selection', 'observable', 'selection', 'unobservable', 'case', 'consider', 'recent', 'literature', 'net', 'economics', 'methodology', 'substantive', 'empirical', 'employ', 'set', 'available', 'complement', 'monte_carlo_simulation', 'simulation', 'offer', 'insight', 'robustness', 'alternative', 'identification', 'assumption', 'clear', 'contribution', 'econometric', 'literature', 'causal_inference', 'linkage', 'econometric', 'statistic', 'epidemiology', 'artificial_intelligence', 'emphasize', 'estimation', 'causal', 'likely', 'economics', 'science', 'add', 'kit', 'apply', 'particularly', 'case', 'estimation', 'policymaking', 'labor', 'public', 'agricultural', 'health', 'economics', 'stress', 'inclusion', 'empirical', 'simulation', 'guidance', 'apply', 'implement', 'introduce', 'broader_impacts', 'teaching', 'graduate', 'course', 'economics', 'agricultural', 'economics', 'university', 'miami', 'assistant', 'select', 'coding', 'statistical', 'empirical', 'simulationswill', 'train', 'regard', 'ensure', 'come', 'underrepresented', 'anticipate', 'exist', 'diversity', 'principal', 'institution', 'broaden_participation_underrepresented', 'pis', 'junior', 'faculty', 'member', 'synergy', 'university', 'miami', 'particularly', 'economics', 'agricultural', 'economics', 'pis', 'member', 'department']\n"
     ]
    }
   ],
   "source": [
    "print(lim_docs.iloc[2])"
   ]
  },
  {
   "cell_type": "code",
   "execution_count": 18,
   "metadata": {},
   "outputs": [],
   "source": [
    "idx = np.where(topic_docs == max_score)"
   ]
  },
  {
   "cell_type": "code",
   "execution_count": 19,
   "metadata": {},
   "outputs": [
    {
     "data": {
      "text/plain": [
       "(array([ 26, 745]),)"
      ]
     },
     "execution_count": 19,
     "metadata": {},
     "output_type": "execute_result"
    }
   ],
   "source": [
    "idx"
   ]
  },
  {
   "cell_type": "code",
   "execution_count": 25,
   "metadata": {},
   "outputs": [
    {
     "data": {
      "text/plain": [
       "(array([ 26,  39,  41, 318, 745, 759]),)"
      ]
     },
     "execution_count": 25,
     "metadata": {},
     "output_type": "execute_result"
    }
   ],
   "source": [
    "idx = np.where(topic_docs > 0.3)\n",
    "idx"
   ]
  },
  {
   "cell_type": "code",
   "execution_count": null,
   "metadata": {},
   "outputs": [],
   "source": []
  },
  {
   "cell_type": "code",
   "execution_count": 20,
   "metadata": {},
   "outputs": [
    {
     "data": {
      "text/plain": [
       "array([0.        , 0.0139517 , 0.000811  , 0.        , 0.        ,\n",
       "       0.        , 0.        , 0.01106404, 0.        , 0.03714427,\n",
       "       0.        , 0.        , 0.        , 0.        , 0.        ,\n",
       "       0.        , 0.4224506 , 0.01098602, 0.02576101, 0.        ])"
      ]
     },
     "execution_count": 20,
     "metadata": {},
     "output_type": "execute_result"
    }
   ],
   "source": [
    "topic_docs[10:30]"
   ]
  },
  {
   "cell_type": "code",
   "execution_count": 23,
   "metadata": {},
   "outputs": [
    {
     "name": "stdout",
     "output_type": "stream",
     "text": [
      "['intervene', 'psychosis', 'onset', 'prevent', 'morbidity', 'recent', 'schizophrenia', 'identification', 'young', 'people', 'putative', 'prodromal', 'period', 'safe', 'modify', 'course', 'past_decade', 'columbia', 'clinical', 'chr', 'individual', 'range', 'cognitive', 'deficit', 'schizophrenia', 'evident', 'psychosis', 'onset', 'subtle', 'think', 'disorder', 'manifest', 'disturbance', 'language', 'production', 'feature', 'predate', 'psychosis', 'onset', 'chr', 'individual', 'indicator', 'schizophrenia', 'liability', 'subtle', 'think', 'disorder', 'schizophrenia', 'typically', 'clinical', 'rating', 'scale', 'occasionally', 'labor_intensive', 'manual', 'linguistic', 'instead', 'automated', 'machine_learning', 'speech', 'inform', 'artificial_intelligence', 'derive', 'semantic', 'meaning_word_phrase', 'draw', 'corpus', 'text', 'human', 'assign', 'mean', 'language', 'syntax', 'speech', 'tagging', 'yield', 'fine_grain', 'index', 'speech', 'semantic_syntax', 'accurately', 'capture', 'subtle', 'thought', 'disorder', 'discriminate', 'psychosis', 'chr', 'individual', 'automated', 'speech', 'collaboration', 'computer', 'scientist', 'ibm', 'able', 'classifier', 'accuracy', 'psychosis', 'onset', 'small', 'chr', 'cohort', 'columbia', 'semantic', 'coherence', 'phrase_phrase', 'shorten', 'phrase', 'length', 'decrease', 'determiner', 'pronoun', 'feature', 'correlate', 'prodromal', 'symptom', 'outperform', 'classification', 'accuracy', 'discriminate', 'schizophrenia', 'normal', 'speech', 'promise', 'automated', 'validation', 'second', 'chr', 'cohort', 'collaboration', 'ibm', 'validate', 'automated', 'archive', 'speech', 'ucla', 'chr', 'cohort', 'dataset', 'advantage', 'ucla', 'chr', 'cohort', 'prevalence', 'psychosis', 'transition', 'machine_learning', 'sensitive', 'size', 'second', 'undergone', 'prior', 'manual', 'linguistic', 'feature', 'language', 'production', 'predict', 'psychosis', 'automated', 'manual', 'directly', 'speech', 'available', 'healthy', 'controls', 'recent', 'onset', 'psychosis', 'patient', 'validation', 'fourth', 'participant', 'speech', 'assay', 'stability', 'classifier', 'validation', 'maximize', 'size', 'combine', 'speech', 'columbia', 'ucla', 'common', 'classifier', 'psychosis', 'automated', 'language', 'prediction', 'psychosis', 'onset', 'inform', 'remediation', 'prevention']\n"
     ]
    }
   ],
   "source": [
    "print(lim_docs.iloc[745]) # psychosis topic with AI component"
   ]
  },
  {
   "cell_type": "code",
   "execution_count": 29,
   "metadata": {},
   "outputs": [
    {
     "data": {
      "text/plain": [
       "'Project Summary In an effort to intervene before psychosis onset and prevent morbidity, a major recent focus inschizophrenia research has been the identification of young people during a putative prodromal period, so asto develop safe and effective interventions to modify disease course. Over the past decade, studies atColumbia and elsewhere have evaluated clinical high-risk (CHR) individuals across a wide range of cognitiveprocesses to try to identify core deficits of schizophrenia evident before psychosis onset. Subthreshold thoughtdisorder and impaired emotion recognition have emerged as profound deficits that predate, rather than follow,psychosis onset and thus may be indicators of schizophrenia liability, consistent with studies in other riskcohorts, including genetic high risk. Further, subthreshold thought disorder and emotion recognition deficit aresignificantly correlated, suggesting shared neural substrates in temporoparietal regions. This study aims to identify the neural mechanisms that underlie subthreshold thought disorder andemotion recognition deficit in 125 CHR individuals followed prospectively for psychosis outcome. CHR cohortsare enriched with early cases of schizophrenia, as 20-25% develop schizophrenia and related psychoticdisorders within 1-2 years. CHR cohorts may be optimal for studying core characteristics of illness as theyotherwise have low-level symptoms, less illness chronicity and minimum exposure to antipsychotics. 25individuals with schizophrenia and 50 healthy volunteers are included for comparison. Subthreshold thought disorder and emotion recognition deficits will be studied across behavioral,physiological and circuit levels. For thought disorder, we will use automated speech analysis approachesdeveloped in collaboration with IBM to identify constituent impairments in semantics and syntax, and a listeningtask that elicits reliable activation in language circuits. Our automated machine-learning approach to speechanalysis, informed by artificial intelligence, derives the semantic meaning of words and phrases by drawing ona large corpus of text, similar to how humans assign meaning to what they read or hear. Emotion recognitionwill be measured using standard tasks, naturalistic tasks with dynamic face stimuli and parametric face morphtasks that discriminate between perception and appraisal; task-related BOLD activity will be used to identifyrelevant circuits. Associations with basic sensory impairment will be tested, including novel auditory mismatchnegativity paradigms. Resting state functional connectivity (RSFC) methods will be used for circuit-levelanalysis of language production and emotion recognition across stages of illness, to determine unique andshared substrates of these constructs in early schizophrenia. If successful, this proposal will identify neuraltargets for remediation of cognitive impairments.'"
      ]
     },
     "execution_count": 29,
     "metadata": {},
     "output_type": "execute_result"
    }
   ],
   "source": [
    "ai_corpus[\"ABSTRACT\"].iloc[759]"
   ]
  },
  {
   "cell_type": "code",
   "execution_count": null,
   "metadata": {},
   "outputs": [],
   "source": []
  },
  {
   "cell_type": "code",
   "execution_count": null,
   "metadata": {},
   "outputs": [],
   "source": []
  }
 ],
 "metadata": {
  "kernelspec": {
   "display_name": "Python [conda env:.conda-CO_BERT]",
   "language": "python",
   "name": "conda-env-.conda-CO_BERT-py"
  },
  "language_info": {
   "codemirror_mode": {
    "name": "ipython",
    "version": 3
   },
   "file_extension": ".py",
   "mimetype": "text/x-python",
   "name": "python",
   "nbconvert_exporter": "python",
   "pygments_lexer": "ipython3",
   "version": "3.8.10"
  }
 },
 "nbformat": 4,
 "nbformat_minor": 4
}
