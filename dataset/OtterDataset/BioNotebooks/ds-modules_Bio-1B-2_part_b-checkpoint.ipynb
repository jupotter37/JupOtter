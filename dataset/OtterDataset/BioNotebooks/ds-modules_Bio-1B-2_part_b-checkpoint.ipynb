{
 "cells": [
  {
   "cell_type": "markdown",
   "metadata": {
    "cell_id": "a80e5f55623742bd9a8ecbb2cd38f10b",
    "deepnote_cell_type": "text-cell-p",
    "formattedRanges": [],
    "is_collapsed": false,
    "tags": []
   },
   "source": [
    "Welcome to Bio 1B Notebook on Phylogeny Part B on the Molecular Estimation of the Phylogeny of Primates Using the Epsilon Hemoglobin Gene! In this notebook we will be going over the phylogeny of primates, utilizing the hemoglobin gene and performing analysis through data science principles. "
   ]
  },
  {
   "cell_type": "markdown",
   "metadata": {
    "cell_id": "f85ec7406a06402ab55417219d15470a",
    "deepnote_cell_type": "text-cell-h2",
    "formattedRanges": [],
    "is_collapsed": false,
    "tags": []
   },
   "source": [
    "## Learning Outcomes"
   ]
  },
  {
   "cell_type": "markdown",
   "metadata": {
    "cell_id": "8edd1085957c41af910c18303abe4c0f",
    "deepnote_cell_type": "text-cell-bullet",
    "formattedRanges": [],
    "is_collapsed": false,
    "tags": []
   },
   "source": [
    "- Understanding BioPython"
   ]
  },
  {
   "cell_type": "markdown",
   "metadata": {
    "cell_id": "fb7bafa7-73e2-4a7f-9876-b79d1cd294b5",
    "deepnote_cell_type": "text-cell-bullet",
    "formattedRanges": [],
    "is_collapsed": false,
    "tags": []
   },
   "source": [
    "- Understanding comprehensively the process of parsimony analysis"
   ]
  },
  {
   "cell_type": "markdown",
   "metadata": {
    "cell_id": "cde2d58d-b2e6-4091-974c-ff3864baa934",
    "deepnote_cell_type": "text-cell-bullet",
    "formattedRanges": [],
    "is_collapsed": false,
    "tags": []
   },
   "source": [
    "- Selecting an outgroup and display it on a tree"
   ]
  },
  {
   "cell_type": "markdown",
   "metadata": {
    "cell_id": "f312186c-0b4e-45c4-aa5a-cb274956fde1",
    "deepnote_cell_type": "text-cell-bullet",
    "formattedRanges": [],
    "is_collapsed": false,
    "tags": []
   },
   "source": [
    "- Understand the phylogeny of primates & the interdisciplinary connection with data science"
   ]
  },
  {
   "cell_type": "markdown",
   "metadata": {
    "cell_id": "a7886bf799f2475fb6f9b9bb6350c4ca",
    "deepnote_cell_type": "text-cell-h2",
    "formattedRanges": [],
    "is_collapsed": false,
    "tags": []
   },
   "source": [
    "## Reading in the Data"
   ]
  },
  {
   "cell_type": "markdown",
   "metadata": {
    "cell_id": "a9152bcf-ad15-417e-ab06-80e2345089f8",
    "deepnote_cell_type": "text-cell-p",
    "formattedRanges": [],
    "is_collapsed": false,
    "tags": []
   },
   "source": [
    "We need to import our libraries first."
   ]
  },
  {
   "cell_type": "code",
   "execution_count": 1,
   "metadata": {
    "cell_id": "955dbe36820a4daeb1d4488d81cfd5b0",
    "deepnote_cell_type": "code",
    "deepnote_to_be_reexecuted": false,
    "execution_millis": 1,
    "execution_start": 1677238849272,
    "source_hash": "226eac3",
    "tags": []
   },
   "outputs": [],
   "source": [
    "import pandas as pd\n",
    "import numpy as np\n",
    "import seaborn as sns"
   ]
  },
  {
   "cell_type": "markdown",
   "metadata": {
    "cell_id": "005d7117eb33418da3565da2d4ef2a6a",
    "deepnote_cell_type": "text-cell-p",
    "formattedRanges": [
     {
      "fromCodePoint": 24,
      "marks": {
       "bold": true
      },
      "toCodePoint": 33,
      "type": "marks"
     },
     {
      "fromCodePoint": 35,
      "marks": {
       "bold": true
      },
      "toCodePoint": 44,
      "type": "marks"
     },
     {
      "fromCodePoint": 164,
      "ranges": [],
      "toCodePoint": 168,
      "type": "link",
      "url": "https://biopython.org/"
     }
    ],
    "is_collapsed": false,
    "tags": []
   },
   "source": [
    "We need to also install biopython. Biopython is a helpful set of Python tools intended for computational biology and bioinformatics. You can learn and explore more here."
   ]
  },
  {
   "cell_type": "code",
   "execution_count": 2,
   "metadata": {
    "cell_id": "8f43bc06d45a40dfaa23a5cee0733156",
    "deepnote_cell_type": "code",
    "deepnote_to_be_reexecuted": false,
    "execution_millis": 3026,
    "execution_start": 1677238853565,
    "source_hash": "7be774f2",
    "tags": []
   },
   "outputs": [
    {
     "name": "stdout",
     "output_type": "stream",
     "text": [
      "Collecting biopython\n",
      "  Downloading biopython-1.81-cp39-cp39-win_amd64.whl (2.7 MB)\n",
      "     ---------------------------------------- 2.7/2.7 MB 1.5 MB/s eta 0:00:00\n",
      "Requirement already satisfied: numpy in c:\\users\\am513\\anaconda3\\envs\\python39\\lib\\site-packages (from biopython) (1.23.5)\n",
      "Installing collected packages: biopython\n",
      "Successfully installed biopython-1.81\n"
     ]
    }
   ],
   "source": [
    "! pip install biopython"
   ]
  },
  {
   "cell_type": "code",
   "execution_count": 3,
   "metadata": {
    "cell_id": "61b82c4fc44444c1b6ec7ba3e9cc9b90",
    "deepnote_cell_type": "code",
    "deepnote_to_be_reexecuted": false,
    "execution_millis": 40,
    "execution_start": 1677238861438,
    "source_hash": "457a22e1",
    "tags": []
   },
   "outputs": [],
   "source": [
    "from Bio import Phylo"
   ]
  },
  {
   "cell_type": "markdown",
   "metadata": {
    "cell_id": "17a065867e6949d39c5f70ea446fb84c",
    "deepnote_cell_type": "text-cell-p",
    "formattedRanges": [
     {
      "fromCodePoint": 80,
      "marks": {
       "bold": true
      },
      "toCodePoint": 91,
      "type": "marks"
     }
    ],
    "is_collapsed": false,
    "tags": []
   },
   "source": [
    "We will begin by importing SeqIO, which allows us to parse through fasta files. Fasta files are text-based format for representing either nucleotide sequences or amino acid (protein) sequences, used extensively in data analysis in the realm of biology. Run the following cell, and we can see different types of primates paired with their individual DNA amino acid sequence."
   ]
  },
  {
   "cell_type": "code",
   "execution_count": 10,
   "metadata": {
    "cell_id": "52c92b815e344e05b739a669d3fb942d",
    "deepnote_cell_type": "code",
    "deepnote_to_be_reexecuted": false,
    "execution_millis": 2,
    "execution_start": 1677239999007,
    "source_hash": "f852872c",
    "tags": []
   },
   "outputs": [
    {
     "name": "stdout",
     "output_type": "stream",
     "text": [
      "Galago\n",
      "Seq('CTTTGACCAATGACTTCTAACTACCACGGAGAACAAGGGGCTAGAACTTCAGCA...TCA')\n",
      "1620\n",
      "Lemur\n",
      "Seq('CCTTGACCAATGACTTCTAACTACCACGGAGAGCAAGGGGCCAGAACATCAGCA...TCA')\n",
      "1637\n",
      "Goat\n",
      "Seq('CCTTGACCAATGACTTCAAAGGACAAGGGGGAGCAAGGGGGCAGAAGTTCAGCA...TCA')\n",
      "1608\n",
      "Tarsier\n",
      "Seq('ATCACTAGCAAGTTGCCAGACCTGACATCATGGTGCATCTTACTGCTGAAGAAA...TCA')\n",
      "1510\n",
      "Marmoset\n",
      "Seq('CCTTGACCAATGACTTTTAAGTACCATGGAGAATAGGGAGCAGAACTTCAGCAG...TCA')\n",
      "1507\n",
      "Chimpanzee\n",
      "Seq('CCTTGACCAATGACTTTTAAGTACCATGGAGAACAGGGGGCCAGAACTTCGGCA...TCA')\n",
      "1660\n",
      "Gorilla\n",
      "Seq('CCTTGACCAATGACTTTTAAGTACCATGGAGAACAGGGGGCCAGAACTTCGGCA...TCA')\n",
      "1662\n",
      "Gibbon\n",
      "Seq('CCTTGACCAATGACTTTTAAGTACCACGGAGAACAGGGGGCCAGAACTTCGGCA...TCA')\n",
      "1672\n",
      "Human\n",
      "Seq('CCTTGACCAATGACTTTTAAGTACCATGGAGAACAGGGGGCCAGAACTTCGGCA...TCA')\n",
      "1659\n",
      "Orangutan\n",
      "Seq('CCTTGACCAATGACTTTTAAATACCATGGAGAACAGGGGGCCAGAACTTCGGCA...TCA')\n",
      "1667\n"
     ]
    }
   ],
   "source": [
    "from Bio import SeqIO\n",
    "for seq_record in SeqIO.parse(\"DataSets/Primate_Epsilon.fas\", \"fasta\"):\n",
    "    print(seq_record.id)\n",
    "    print(repr(seq_record.seq))\n",
    "    print(len(seq_record))"
   ]
  },
  {
   "cell_type": "markdown",
   "metadata": {
    "cell_id": "9a012bb389c2458491f7a25130af82a5",
    "deepnote_cell_type": "text-cell-p",
    "formattedRanges": [],
    "is_collapsed": false,
    "tags": []
   },
   "source": [
    "Run the next cell to check out the different primates represented in the "
   ]
  },
  {
   "cell_type": "code",
   "execution_count": 12,
   "metadata": {
    "cell_id": "23b1db78dbc049ba86baf0f42f2d0d78",
    "deepnote_cell_type": "code",
    "deepnote_to_be_reexecuted": false,
    "execution_millis": 2,
    "execution_start": 1677240520519,
    "source_hash": "2cb46c0f",
    "tags": []
   },
   "outputs": [
    {
     "name": "stdout",
     "output_type": "stream",
     "text": [
      "Galago\n",
      "Lemur\n",
      "Goat\n",
      "Tarsier\n",
      "Marmoset\n",
      "Chimpanzee\n",
      "Gorilla\n",
      "Gibbon\n",
      "Human\n",
      "Orangutan\n"
     ]
    }
   ],
   "source": [
    "from Bio import SeqIO\n",
    "\n",
    "for record in SeqIO.parse(\"DataSets/Primate_Epsilon.fas\", \"fasta\"):\n",
    "    print(record.id)"
   ]
  },
  {
   "cell_type": "markdown",
   "metadata": {
    "cell_id": "91ebf37dd315426ca82dc32e3aeac331",
    "deepnote_cell_type": "text-cell-p",
    "formattedRanges": [
     {
      "fromCodePoint": 97,
      "marks": {
       "bold": true
      },
      "toCodePoint": 114,
      "type": "marks"
     }
    ],
    "is_collapsed": false,
    "tags": []
   },
   "source": [
    "Next we'll finally keep our values for each primate's DNA sequence within a python dictionary. A python dictionary maps two distinct values, a key and a value pair, together. This allows for one to easily link two separate facets together, like the name of a primate and the primate's specific sequence record! Run the cell and check it out."
   ]
  },
  {
   "cell_type": "code",
   "execution_count": 14,
   "metadata": {
    "cell_id": "df8609a2f85346009d9bbfb74383b4da",
    "deepnote_cell_type": "code",
    "deepnote_to_be_reexecuted": false,
    "execution_millis": 4,
    "execution_start": 1677240612717,
    "source_hash": "9fc5eb0f",
    "tags": []
   },
   "outputs": [
    {
     "data": {
      "text/plain": [
       "{'Galago': SeqRecord(seq=Seq('CTTTGACCAATGACTTCTAACTACCACGGAGAACAAGGGGCTAGAACTTCAGCA...TCA'), id='Galago', name='Galago', description='Galago', dbxrefs=[]),\n",
       " 'Lemur': SeqRecord(seq=Seq('CCTTGACCAATGACTTCTAACTACCACGGAGAGCAAGGGGCCAGAACATCAGCA...TCA'), id='Lemur', name='Lemur', description='Lemur', dbxrefs=[]),\n",
       " 'Goat': SeqRecord(seq=Seq('CCTTGACCAATGACTTCAAAGGACAAGGGGGAGCAAGGGGGCAGAAGTTCAGCA...TCA'), id='Goat', name='Goat', description='Goat', dbxrefs=[]),\n",
       " 'Tarsier': SeqRecord(seq=Seq('ATCACTAGCAAGTTGCCAGACCTGACATCATGGTGCATCTTACTGCTGAAGAAA...TCA'), id='Tarsier', name='Tarsier', description='Tarsier', dbxrefs=[]),\n",
       " 'Marmoset': SeqRecord(seq=Seq('CCTTGACCAATGACTTTTAAGTACCATGGAGAATAGGGAGCAGAACTTCAGCAG...TCA'), id='Marmoset', name='Marmoset', description='Marmoset', dbxrefs=[]),\n",
       " 'Chimpanzee': SeqRecord(seq=Seq('CCTTGACCAATGACTTTTAAGTACCATGGAGAACAGGGGGCCAGAACTTCGGCA...TCA'), id='Chimpanzee', name='Chimpanzee', description='Chimpanzee', dbxrefs=[]),\n",
       " 'Gorilla': SeqRecord(seq=Seq('CCTTGACCAATGACTTTTAAGTACCATGGAGAACAGGGGGCCAGAACTTCGGCA...TCA'), id='Gorilla', name='Gorilla', description='Gorilla', dbxrefs=[]),\n",
       " 'Gibbon': SeqRecord(seq=Seq('CCTTGACCAATGACTTTTAAGTACCACGGAGAACAGGGGGCCAGAACTTCGGCA...TCA'), id='Gibbon', name='Gibbon', description='Gibbon', dbxrefs=[]),\n",
       " 'Human': SeqRecord(seq=Seq('CCTTGACCAATGACTTTTAAGTACCATGGAGAACAGGGGGCCAGAACTTCGGCA...TCA'), id='Human', name='Human', description='Human', dbxrefs=[]),\n",
       " 'Orangutan': SeqRecord(seq=Seq('CCTTGACCAATGACTTTTAAATACCATGGAGAACAGGGGGCCAGAACTTCGGCA...TCA'), id='Orangutan', name='Orangutan', description='Orangutan', dbxrefs=[])}"
      ]
     },
     "execution_count": 14,
     "metadata": {},
     "output_type": "execute_result"
    }
   ],
   "source": [
    "record_dict = SeqIO.to_dict(SeqIO.parse(\"DataSets/Primate_Epsilon.fas\", \"fasta\"))\n",
    "record_dict"
   ]
  },
  {
   "cell_type": "markdown",
   "metadata": {
    "cell_id": "c55d155c9fad4bd68396822d0e8352ba",
    "deepnote_cell_type": "text-cell-p",
    "formattedRanges": [],
    "is_collapsed": false,
    "tags": []
   },
   "source": [
    "In your own words (1-2 sentences), why might it be important for biologists to have the biopython library for programming? How is it helpful for biologists in this scenario of DNA sequences?"
   ]
  },
  {
   "cell_type": "markdown",
   "metadata": {
    "cell_id": "3a025ff27a574a09aa17d5f5f744ea10",
    "deepnote_cell_type": "text-cell-p",
    "formattedRanges": [
     {
      "fromCodePoint": 0,
      "marks": {
       "italic": true
      },
      "toCodePoint": 16,
      "type": "marks"
     }
    ],
    "is_collapsed": false,
    "tags": []
   },
   "source": [
    "Your answer here"
   ]
  },
  {
   "cell_type": "markdown",
   "metadata": {
    "cell_id": "9821fb1cc68f4ccd97438200d0f329b9",
    "deepnote_cell_type": "text-cell-h1",
    "formattedRanges": [],
    "is_collapsed": false,
    "tags": []
   },
   "source": [
    "# Aligning Data with ClustalQ"
   ]
  },
  {
   "cell_type": "code",
   "execution_count": 22,
   "metadata": {},
   "outputs": [],
   "source": [
    "from Bio import AlignIO\n",
    "from Bio.Phylo.TreeConstruction import DistanceCalculator, DistanceTreeConstructor\n",
    "\n",
    "\n",
    "\n",
    "from Bio import AlignIO\n",
    "from Bio import SeqIO\n",
    "from Bio import Seq\n",
    "import os"
   ]
  },
  {
   "cell_type": "code",
   "execution_count": 23,
   "metadata": {},
   "outputs": [
    {
     "name": "stdout",
     "output_type": "stream",
     "text": [
      "Alignment with 10 rows and 1672 columns\n",
      "CTTTGACCAATGACTTCTAACTACCACGGAGAACAAGGGGCTAG...... Galago\n",
      "CCTTGACCAATGACTTCTAACTACCACGGAGAGCAAGGGGCCAG...... Lemur\n",
      "CCTTGACCAATGACTTCAAAGGACAAGGGGGAGCAAGGGGGCAG...... Goat\n",
      "ATCACTAGCAAGTTGCCAGACCTGACATCATGGTGCATCTTACT...... Tarsier\n",
      "CCTTGACCAATGACTTTTAAGTACCATGGAGAATAGGGAGCAGA...... Marmoset\n",
      "CCTTGACCAATGACTTTTAAGTACCATGGAGAACAGGGGGCCAG...... Chimpanzee\n",
      "CCTTGACCAATGACTTTTAAGTACCATGGAGAACAGGGGGCCAG...... Gorilla\n",
      "CCTTGACCAATGACTTTTAAGTACCACGGAGAACAGGGGGCCAG...TCA Gibbon\n",
      "CCTTGACCAATGACTTTTAAGTACCATGGAGAACAGGGGGCCAG...... Human\n",
      "CCTTGACCAATGACTTTTAAATACCATGGAGAACAGGGGGCCAG...... Orangutan\n"
     ]
    }
   ],
   "source": [
    "input_file = \"DataSets/Primate_Epsilon.fas\"\n",
    "records = SeqIO.parse(input_file, 'fasta')\n",
    "records = list(records) # make a copy, otherwise our generator\n",
    "                        # is exhausted after calculating maxlen\n",
    "maxlen = max(len(record.seq) for record in records)\n",
    "\n",
    "# pad sequences so that they all have the same length\n",
    "for record in records:\n",
    "    if len(record.seq) != maxlen:\n",
    "        sequence = str(record.seq).ljust(maxlen, '.')\n",
    "        record.seq = Seq.Seq(sequence)\n",
    "assert all(len(record.seq) == maxlen for record in records)\n",
    "\n",
    "# write to temporary file and do alignment\n",
    "output_file = '{}_padded.fasta'.format(os.path.splitext(input_file)[0])\n",
    "with open(output_file, 'w') as f:\n",
    "    SeqIO.write(records, f, 'fasta')\n",
    "alignment = AlignIO.read(output_file, \"fasta\")\n",
    "print(alignment)"
   ]
  },
  {
   "cell_type": "code",
   "execution_count": 25,
   "metadata": {},
   "outputs": [
    {
     "name": "stdout",
     "output_type": "stream",
     "text": [
      "Alignment with 10 rows and 1672 columns\n",
      "CTTTGACCAATGACTTCTAACTACCACGGAGAACAAGGGGCTAG...... Galago\n",
      "CCTTGACCAATGACTTCTAACTACCACGGAGAGCAAGGGGCCAG...... Lemur\n",
      "CCTTGACCAATGACTTCAAAGGACAAGGGGGAGCAAGGGGGCAG...... Goat\n",
      "ATCACTAGCAAGTTGCCAGACCTGACATCATGGTGCATCTTACT...... Tarsier\n",
      "CCTTGACCAATGACTTTTAAGTACCATGGAGAATAGGGAGCAGA...... Marmoset\n",
      "CCTTGACCAATGACTTTTAAGTACCATGGAGAACAGGGGGCCAG...... Chimpanzee\n",
      "CCTTGACCAATGACTTTTAAGTACCATGGAGAACAGGGGGCCAG...... Gorilla\n",
      "CCTTGACCAATGACTTTTAAGTACCACGGAGAACAGGGGGCCAG...TCA Gibbon\n",
      "CCTTGACCAATGACTTTTAAGTACCATGGAGAACAGGGGGCCAG...... Human\n",
      "CCTTGACCAATGACTTTTAAATACCATGGAGAACAGGGGGCCAG...... Orangutan\n"
     ]
    }
   ],
   "source": [
    "# Read the sequences and align\n",
    "align = AlignIO.read(\"DataSets/Primate_Epsilon_padded.fasta\", \"fasta\")\n",
    "print(align)"
   ]
  },
  {
   "cell_type": "code",
   "execution_count": 26,
   "metadata": {},
   "outputs": [
    {
     "name": "stdout",
     "output_type": "stream",
     "text": [
      "Galago  0.000000\n",
      "Lemur   0.577153    0.000000\n",
      "Goat    0.637560    0.644139    0.000000\n",
      "Tarsier 0.736244    0.755981    0.724282    0.000000\n",
      "Marmoset    0.717703    0.732656    0.697368    0.681220    0.000000\n",
      "Chimpanzee  0.605263    0.609450    0.660287    0.770933    0.708134    0.000000\n",
      "Gorilla 0.578349    0.601077    0.658493    0.765550    0.707536    0.294258    0.000000\n",
      "Gibbon  0.616029    0.620813    0.666866    0.777512    0.727871    0.324163    0.322967    0.000000\n",
      "Human   0.603469    0.556818    0.671053    0.773325    0.723086    0.285885    0.291866    0.331340    0.000000\n",
      "Orangutan   0.642943    0.608254    0.654904    0.785885    0.724282    0.456938    0.464115    0.452153    0.453349    0.000000\n",
      "    Galago  Lemur   Goat    Tarsier Marmoset    Chimpanzee  Gorilla Gibbon  Human   Orangutan\n"
     ]
    }
   ],
   "source": [
    "# Calculate the distance matrix\n",
    "calculator = DistanceCalculator('identity')\n",
    "distMatrix = calculator.get_distance(align)\n",
    "print(distMatrix)"
   ]
  },
  {
   "cell_type": "code",
   "execution_count": 29,
   "metadata": {},
   "outputs": [],
   "source": [
    "# Create a DistanceTreeConstructor object\n",
    "constructor = DistanceTreeConstructor()# Construct the phlyogenetic tree using UPGMA algorithm\n",
    "UGMATree = constructor.upgma(distMatrix)# Construct the phlyogenetic tree using NJ algorithm\n",
    "NJTree = constructor.nj(distMatrix)"
   ]
  },
  {
   "cell_type": "code",
   "execution_count": 32,
   "metadata": {},
   "outputs": [
    {
     "name": "stdout",
     "output_type": "stream",
     "text": [
      "     _________________________________________________________ Marmoset\n",
      "  __|\n",
      " |  |_________________________________________________________ Tarsier\n",
      " |\n",
      "_|      ______________________________________________________ Goat\n",
      " |     |\n",
      " |     |                    ______________________________________ Orangutan\n",
      " |     |      _____________|\n",
      " |_____|     |             |           ___________________________ Gibbon\n",
      "       |     |             |__________|\n",
      "       |     |                        |   ________________________ Gorilla\n",
      "       |     |                        |__|\n",
      "       |_____|                           |________________________ Human\n",
      "             |                           |\n",
      "             |                           |________________________ Chimpanzee\n",
      "             |\n",
      "             |   _________________________________________________ Lemur\n",
      "             |__|\n",
      "                |_________________________________________________ Galago\n",
      "\n"
     ]
    }
   ],
   "source": [
    "# Draw the phlyogenetic tree\n",
    "#Phylo.draw(UPGMATree)# Draw the phlyogenetic tree using terminal\n",
    "Phylo.draw_ascii(UGMATree)"
   ]
  },
  {
   "cell_type": "markdown",
   "metadata": {
    "cell_id": "c1cae440dbe44917bdf7dbba14d84523",
    "deepnote_cell_type": "text-cell-h2",
    "formattedRanges": [],
    "is_collapsed": false,
    "tags": []
   },
   "source": [
    "## parsimony analysis"
   ]
  },
  {
   "cell_type": "markdown",
   "metadata": {
    "cell_id": "b1fd606933f54e46bc977dd6c97f46cd",
    "deepnote_cell_type": "text-cell-h2",
    "formattedRanges": [],
    "is_collapsed": false,
    "tags": []
   },
   "source": [
    "## Tree Display"
   ]
  },
  {
   "cell_type": "markdown",
   "metadata": {
    "created_in_deepnote_cell": true,
    "deepnote_cell_type": "markdown",
    "tags": []
   },
   "source": [
    "<a style='text-decoration:none;line-height:16px;display:flex;color:#5B5B62;padding:10px;justify-content:end;' href='https://deepnote.com?utm_source=created-in-deepnote-cell&projectId=5f76ca8c-bac0-4258-8219-91851f8426bf' target=\"_blank\">\n",
    "<img alt='Created in deepnote.com' style='display:inline;max-height:16px;margin:0px;margin-right:7.5px;' src='data:image/svg+xml;base64,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' > </img>\n",
    "Created in <span style='font-weight:600;margin-left:4px;'>Deepnote</span></a>"
   ]
  }
 ],
 "metadata": {
  "deepnote": {},
  "deepnote_execution_queue": [],
  "deepnote_notebook_id": "9de145dc2aff48b68fa0751d9d1b9d57",
  "kernelspec": {
   "display_name": "Python 3 (ipykernel)",
   "language": "python",
   "name": "python3"
  },
  "language_info": {
   "codemirror_mode": {
    "name": "ipython",
    "version": 3
   },
   "file_extension": ".py",
   "mimetype": "text/x-python",
   "name": "python",
   "nbconvert_exporter": "python",
   "pygments_lexer": "ipython3",
   "version": "3.9.15"
  }
 },
 "nbformat": 4,
 "nbformat_minor": 4
}
