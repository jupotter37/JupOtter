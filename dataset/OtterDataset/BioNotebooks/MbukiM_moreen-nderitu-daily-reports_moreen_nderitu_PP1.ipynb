{
 "cells": [
  {
   "cell_type": "markdown",
   "metadata": {
    "id": "zG2Z5XJzbzQi"
   },
   "source": [
    "<center>\n",
    "    <a href=\"https://aims-senegal.org/\" ><img src=\"images/logoaimssn.jpeg\" style=\"float:left; max-width: 650px; display: inline\" alt=\"AIMS-SN\"/> </a>\n",
    "    </center>\n",
    "\n",
    "\n",
    "\n",
    "<center>\n",
    "    \n",
    "<a href=\"https://acas-yde.org/\" ><img src=\"images/logo-ACAS.jpg\" style=\"float:right; max-width: 250px; display: inline\" alt=\"ACAS\"/></a>\n",
    "    \n",
    "</center>\n",
    "\n"
   ]
  },
  {
   "cell_type": "markdown",
   "metadata": {
    "id": "LSyl9i29bzQk"
   },
   "source": [
    "****\n",
    "\n",
    "# <center> <b> <span style=\"color:orange;\"> Python Programming Assignment 1   </span> </b></center>\n",
    "\n",
    "### <center> <b> <span style=\"color:green;\">Moreen Mbuki Nderitu </span> </b></center>\n",
    "    \n"
   ]
  },
  {
   "cell_type": "markdown",
   "metadata": {
    "id": "3BA1ai2NbzQl"
   },
   "source": [
    "## 1 Getting help in Python \n",
    "\n",
    "\n",
    "Start the Python interpreter and type help() to start the online help utility. Or you can type\r\n",
    "help(print) to get information about the print function. When finished with the help utility,\r\n",
    "type quit at the prompt to return to the interpreter.\n"
   ]
  },
  {
   "cell_type": "code",
   "execution_count": 1,
   "metadata": {},
   "outputs": [
    {
     "name": "stdout",
     "output_type": "stream",
     "text": [
      "Welcome to Python 3.12's help utility! If this is your first time using\n",
      "Python, you should definitely check out the tutorial at\n",
      "https://docs.python.org/3.12/tutorial/.\n",
      "\n",
      "Enter the name of any module, keyword, or topic to get help on writing\n",
      "Python programs and using Python modules.  To get a list of available\n",
      "modules, keywords, symbols, or topics, enter \"modules\", \"keywords\",\n",
      "\"symbols\", or \"topics\".\n",
      "\n",
      "Each module also comes with a one-line summary of what it does; to list\n",
      "the modules whose name or summary contain a given string such as \"spam\",\n",
      "enter \"modules spam\".\n",
      "\n",
      "To quit this help utility and return to the interpreter,\n",
      "enter \"q\" or \"quit\".\n",
      "\n"
     ]
    },
    {
     "name": "stdin",
     "output_type": "stream",
     "text": [
      "help>  q\n"
     ]
    },
    {
     "name": "stdout",
     "output_type": "stream",
     "text": [
      "\n",
      "You are now leaving help and returning to the Python interpreter.\n",
      "If you want to ask for help on a particular object directly from the\n",
      "interpreter, you can type \"help(object)\".  Executing \"help('string')\"\n",
      "has the same effect as typing a particular string at the help> prompt.\n"
     ]
    }
   ],
   "source": [
    "help()"
   ]
  },
  {
   "cell_type": "code",
   "execution_count": 2,
   "metadata": {},
   "outputs": [
    {
     "name": "stdout",
     "output_type": "stream",
     "text": [
      "8.5\n",
      "<class 'float'>\n",
      "\t\n",
      "8.5\n",
      "<class 'float'>\n",
      "\t\n",
      "4.0\n",
      "<class 'float'>\n",
      "\t\n",
      "11\n",
      "<class 'int'>\n",
      "\t\n",
      ". . . . . \n",
      "<class 'str'>\n",
      "\t\n"
     ]
    }
   ],
   "source": [
    "# Solution \n",
    "# Assigning variables\n",
    "\n",
    "width = 17\n",
    "height= 12.0\n",
    "delimiter = '. '\n",
    "\n",
    "\n",
    "print(width/2)\n",
    "print(type(width/2))\n",
    "print('\\t')\n",
    "\n",
    "print(width/2.0)\n",
    "print(type(width/2.0))\n",
    "print('\\t')\n",
    "\n",
    "print(height/3)\n",
    "print(type(height/3))\n",
    "print('\\t')\n",
    "\n",
    "print(1+2*5)\n",
    "print(type(1+2*5))\n",
    "print('\\t')\n",
    "\n",
    "\n",
    "print(delimiter*5)\n",
    "print(type(delimiter*5))\n",
    "print('\\t')\n"
   ]
  },
  {
   "cell_type": "markdown",
   "metadata": {
    "id": "Dc61g12cbzQl"
   },
   "source": [
    "#### Question 2 "
   ]
  },
  {
   "cell_type": "code",
   "execution_count": 3,
   "metadata": {},
   "outputs": [
    {
     "name": "stdout",
     "output_type": "stream",
     "text": [
      "523.5987755982987\n",
      "\t\n",
      "The volume of a sphere whose radius is 5 is 523.60 cubic cm \n"
     ]
    }
   ],
   "source": [
    "# Finding the volume of a sphere \n",
    "\n",
    "pi = 3.1415926535897931 # Declaring the value of pi \n",
    "r = 5  # defining the value of Radius \n",
    "\n",
    "volume = (4/3)*(pi*(r*r*r))  # calculating the volume\n",
    "print(volume)\n",
    "print('\\t') \n",
    "print(\"The volume of a sphere whose radius is {} is {:.2f} cubic cm \".format(r, volume))"
   ]
  },
  {
   "cell_type": "markdown",
   "metadata": {
    "id": "qep1OySobzQn"
   },
   "source": [
    "## Knowing More about data types and their operation "
   ]
  },
  {
   "cell_type": "code",
   "execution_count": 4,
   "metadata": {
    "id": "BfF-C4p0bzQn"
   },
   "outputs": [
    {
     "name": "stdout",
     "output_type": "stream",
     "text": [
      "<class 'int'>\n",
      "\t\n",
      "<class 'float'>\n",
      "\t\n",
      "<class 'str'>\n",
      "\t\n",
      "2\n",
      "\t\n",
      "6.0\n",
      "\t\n",
      "10.0\n",
      "\t\n",
      "\t\n",
      "tenten\n",
      "\t\n"
     ]
    }
   ],
   "source": [
    " int , float , string = 1,5.0, \"ten\"  # Multiple assigment \n",
    "\n",
    " print(type(int))\n",
    " print('\\t')\n",
    " print(type(float))\n",
    " print('\\t')\n",
    " print(type(string))\n",
    " print('\\t')\n",
    "\n",
    "\n",
    " print(int + int)\n",
    " print('\\t')\n",
    "\n",
    " print(int + float) \n",
    " print('\\t')\n",
    "\n",
    " print(float + float)\n",
    " print('\\t')\n",
    "\n",
    " # print(float + string) # Give an error \n",
    " print('\\t')\n",
    "\n",
    " print(string + string)\n",
    " print('\\t')"
   ]
  },
  {
   "cell_type": "code",
   "execution_count": 5,
   "metadata": {},
   "outputs": [
    {
     "name": "stdout",
     "output_type": "stream",
     "text": [
      "1\n",
      "\t\n",
      "5.0\n",
      "\t\n",
      "25.0\n",
      "\t\n",
      "ten\n",
      "\t\n"
     ]
    }
   ],
   "source": [
    "# Multiplication operation on int, float and string \n",
    "\n",
    "print((int * int))\n",
    "print('\\t')\n",
    "\n",
    "print((int * float))\n",
    "print('\\t')\n",
    "\n",
    "print((float * float))\n",
    "print('\\t')\n",
    "\n",
    "#print((float * string)) # canit multiple non integer with float \n",
    "#print('\\t')\n",
    "\n",
    "#print((string * float))\n",
    "#print('\\t')\n",
    "\n",
    "print((string * int))\n",
    "print('\\t')\n",
    "\n",
    "#print((string * string))\n",
    "#print('\\t')"
   ]
  },
  {
   "cell_type": "markdown",
   "metadata": {},
   "source": [
    "From this operation we can clearly see that the multiplication opearato only applies in string, integer and float data types."
   ]
  },
  {
   "cell_type": "code",
   "execution_count": 6,
   "metadata": {
    "id": "MGHiw49xbzQn"
   },
   "outputs": [
    {
     "name": "stdout",
     "output_type": "stream",
     "text": [
      "0\n",
      "\t\n",
      "-4.0\n",
      "\t\n",
      "0.0\n",
      "\t\n",
      "Minus operation on works for int and float\n"
     ]
    }
   ],
   "source": [
    "# Subtraction operation on integer, float and string \n",
    "\n",
    "print((int - int))\n",
    "print('\\t')\n",
    "\n",
    "print((int - float))\n",
    "print('\\t')\n",
    "\n",
    "print((float - float))\n",
    "print('\\t')\n",
    "\n",
    "\n",
    "print(\"Minus operation on works for int and float\")\n",
    "#print((float - string)) # canit multiple non integer with float \n",
    "#print('\\t')\n",
    "\n",
    "#print((string - float))\n",
    "#print('\\t')\n",
    "\n",
    "#print((string - int))\n",
    "#print('\\t')\n",
    "\n",
    "#print((string - string))\n",
    "#print('\\t')"
   ]
  },
  {
   "cell_type": "markdown",
   "metadata": {},
   "source": [
    "Subraction only works in integers and floats"
   ]
  },
  {
   "cell_type": "code",
   "execution_count": 7,
   "metadata": {},
   "outputs": [
    {
     "name": "stdout",
     "output_type": "stream",
     "text": [
      "1.0\n",
      "\t\n",
      "0.2\n",
      "\t\n",
      "1.0\n",
      "\t\n",
      "Division operation on works for int and float\n"
     ]
    }
   ],
   "source": [
    "# Division  \n",
    "\n",
    "print((int / int))\n",
    "print('\\t')\n",
    "\n",
    "print((int / float))\n",
    "print('\\t')\n",
    "\n",
    "print((float / float))\n",
    "print('\\t')\n",
    "\n",
    "\n",
    "print(\"Division operation on works for int and float\")\n",
    "#print((float / string)) # canit multiple non integer with float \n",
    "#print('\\t')\n",
    "\n",
    "#print((string / float))\n",
    "#print('\\t')\n",
    "\n",
    "#print((string / int))\n",
    "#print('\\t')\n",
    "\n",
    "#print((string / string))\n",
    "#print('\\t')"
   ]
  },
  {
   "cell_type": "markdown",
   "metadata": {},
   "source": [
    "Division operation is only possible in the integers and float data types"
   ]
  },
  {
   "cell_type": "code",
   "execution_count": 8,
   "metadata": {},
   "outputs": [
    {
     "name": "stdout",
     "output_type": "stream",
     "text": [
      "0\n",
      "\t\n",
      "1.0\n",
      "\t\n",
      "0.0\n",
      "\t\n",
      "Modulus operation on works for int and float\n"
     ]
    }
   ],
   "source": [
    "# Modulus  \n",
    "\n",
    "print((int % int))\n",
    "print('\\t')\n",
    "\n",
    "print((int % float))\n",
    "print('\\t')\n",
    "\n",
    "print((float % float))\n",
    "print('\\t')\n",
    "\n",
    "\n",
    "print(\"Modulus operation on works for int and float\")\n",
    "#print((float % string)) # canit multiple non integer with float \n",
    "#print('\\t')\n",
    "\n",
    "#print((string % float))\n",
    "#print('\\t')\n",
    "\n",
    "#print((string  % int))\n",
    "#print('\\t')\n",
    "\n",
    "#print((string % string))\n",
    "#print('\\t')"
   ]
  },
  {
   "cell_type": "code",
   "execution_count": 9,
   "metadata": {},
   "outputs": [
    {
     "name": "stdout",
     "output_type": "stream",
     "text": [
      "False\n",
      "\t\n",
      "True\n",
      "\t\n",
      "False\n",
      "\t\n",
      "False\n",
      "\t\n",
      "Logical operation on works for int, float and string\n"
     ]
    }
   ],
   "source": [
    "# Logical <  \n",
    "\n",
    "print((int < int))\n",
    "print('\\t')\n",
    "\n",
    "print((int < float))\n",
    "print('\\t')\n",
    "\n",
    "print((float < float))\n",
    "print('\\t')\n",
    "\n",
    "\n",
    "print((string < string))\n",
    "print('\\t')\n",
    "\n",
    "print(\"Logical operation on works for int, float and string\")\n",
    "#print((float < string)) # canit multiple non integer with float \n",
    "#print('\\t')\n",
    "\n",
    "#print((string < float))\n",
    "#print('\\t')\n",
    "\n",
    "#print((string < int))\n",
    "#print('\\t')\n"
   ]
  },
  {
   "cell_type": "code",
   "execution_count": 10,
   "metadata": {},
   "outputs": [
    {
     "name": "stdout",
     "output_type": "stream",
     "text": [
      "False\n",
      "\t\n",
      "False\n",
      "\t\n",
      "False\n",
      "\t\n",
      "False\n",
      "\t\n",
      "Logical operation on works for int, float and string\n"
     ]
    }
   ],
   "source": [
    "# Logical >  \n",
    "\n",
    "print((int > int))\n",
    "print('\\t')\n",
    "\n",
    "print((int > float))\n",
    "print('\\t')\n",
    "\n",
    "print((float > float))\n",
    "print('\\t')\n",
    "\n",
    "\n",
    "print((string > string))\n",
    "print('\\t')\n",
    "\n",
    "print(\"Logical operation on works for int, float and string\")\n",
    "#print((float < string)) # canit multiple non integer with float \n",
    "#print('\\t')\n",
    "\n",
    "#print((string < float))\n",
    "#print('\\t')\n",
    "\n",
    "#print((string < int))\n",
    "#print('\\t')\n"
   ]
  },
  {
   "cell_type": "code",
   "execution_count": 11,
   "metadata": {},
   "outputs": [
    {
     "name": "stdout",
     "output_type": "stream",
     "text": [
      "True\n",
      "\t\n",
      "False\n",
      "\t\n",
      "True\n",
      "\t\n",
      "True\n",
      "\t\n",
      "Logical operation on works for int, float and string\n"
     ]
    }
   ],
   "source": [
    "# Logical >=  \n",
    "\n",
    "print((int >= int))\n",
    "print('\\t')\n",
    "\n",
    "print((int >= float))\n",
    "print('\\t')\n",
    "\n",
    "print((float >= float))\n",
    "print('\\t')\n",
    "\n",
    "\n",
    "print((string >= string))\n",
    "print('\\t')\n",
    "\n",
    "print(\"Logical operation on works for int, float and string\")\n",
    "#print((float < string)) # canit multiple non integer with float \n",
    "#print('\\t')\n",
    "\n",
    "#print((string < float))\n",
    "#print('\\t')\n",
    "\n",
    "#print((string < int))\n",
    "#print('\\t')\n"
   ]
  },
  {
   "cell_type": "code",
   "execution_count": 12,
   "metadata": {},
   "outputs": [
    {
     "name": "stdout",
     "output_type": "stream",
     "text": [
      "True\n",
      "\t\n",
      "True\n",
      "\t\n",
      "True\n",
      "\t\n",
      "True\n",
      "\t\n",
      "Logical operation on works for int, float and string\n"
     ]
    }
   ],
   "source": [
    "# Logical <=\n",
    "\n",
    "print((int <= int))\n",
    "print('\\t')\n",
    "\n",
    "print((int <= float))\n",
    "print('\\t')\n",
    "\n",
    "print((float <= float))\n",
    "print('\\t')\n",
    "\n",
    "\n",
    "print((string <= string))\n",
    "print('\\t')\n",
    "\n",
    "print(\"Logical operation on works for int, float and string\")\n",
    "#print((float < string)) # canit multiple non integer with float \n",
    "#print('\\t')\n",
    "\n",
    "#print((string < float))\n",
    "#print('\\t')\n",
    "\n",
    "#print((string < int))\n",
    "#print('\\t')\n"
   ]
  },
  {
   "cell_type": "code",
   "execution_count": 13,
   "metadata": {},
   "outputs": [
    {
     "name": "stdout",
     "output_type": "stream",
     "text": [
      "True\n",
      "\t\n",
      "False\n",
      "\t\n",
      "True\n",
      "\t\n",
      "True\n",
      "\t\n",
      "Logical operation on works for int, float and string\n"
     ]
    }
   ],
   "source": [
    "# Logical ==\n",
    "\n",
    "print((int == int))\n",
    "print('\\t')\n",
    "\n",
    "print((int == float))\n",
    "print('\\t')\n",
    "\n",
    "print((float == float))\n",
    "print('\\t')\n",
    "\n",
    "\n",
    "print((string == string))\n",
    "print('\\t')\n",
    "\n",
    "print(\"Logical operation on works for int, float and string\")\n",
    "#print((float < string)) # canit multiple non integer with float \n",
    "#print('\\t')\n",
    "\n",
    "#print((string < float))\n",
    "#print('\\t')\n",
    "\n",
    "#print((string < int))\n",
    "#print('\\t')"
   ]
  },
  {
   "cell_type": "code",
   "execution_count": 14,
   "metadata": {},
   "outputs": [
    {
     "name": "stdout",
     "output_type": "stream",
     "text": [
      "Help on int object:\n",
      "\n",
      "class int(object)\n",
      " |  int([x]) -> integer\n",
      " |  int(x, base=10) -> integer\n",
      " |\n",
      " |  Convert a number or string to an integer, or return 0 if no arguments\n",
      " |  are given.  If x is a number, return x.__int__().  For floating point\n",
      " |  numbers, this truncates towards zero.\n",
      " |\n",
      " |  If x is not a number or if base is given, then x must be a string,\n",
      " |  bytes, or bytearray instance representing an integer literal in the\n",
      " |  given base.  The literal can be preceded by '+' or '-' and be surrounded\n",
      " |  by whitespace.  The base defaults to 10.  Valid bases are 0 and 2-36.\n",
      " |  Base 0 means to interpret the base from the string as an integer literal.\n",
      " |  >>> int('0b100', base=0)\n",
      " |  4\n",
      " |\n",
      " |  Built-in subclasses:\n",
      " |      bool\n",
      " |\n",
      " |  Methods defined here:\n",
      " |\n",
      " |  __abs__(self, /)\n",
      " |      abs(self)\n",
      " |\n",
      " |  __add__(self, value, /)\n",
      " |      Return self+value.\n",
      " |\n",
      " |  __and__(self, value, /)\n",
      " |      Return self&value.\n",
      " |\n",
      " |  __bool__(self, /)\n",
      " |      True if self else False\n",
      " |\n",
      " |  __ceil__(...)\n",
      " |      Ceiling of an Integral returns itself.\n",
      " |\n",
      " |  __divmod__(self, value, /)\n",
      " |      Return divmod(self, value).\n",
      " |\n",
      " |  __eq__(self, value, /)\n",
      " |      Return self==value.\n",
      " |\n",
      " |  __float__(self, /)\n",
      " |      float(self)\n",
      " |\n",
      " |  __floor__(...)\n",
      " |      Flooring an Integral returns itself.\n",
      " |\n",
      " |  __floordiv__(self, value, /)\n",
      " |      Return self//value.\n",
      " |\n",
      " |  __format__(self, format_spec, /)\n",
      " |      Convert to a string according to format_spec.\n",
      " |\n",
      " |  __ge__(self, value, /)\n",
      " |      Return self>=value.\n",
      " |\n",
      " |  __getattribute__(self, name, /)\n",
      " |      Return getattr(self, name).\n",
      " |\n",
      " |  __getnewargs__(self, /)\n",
      " |\n",
      " |  __gt__(self, value, /)\n",
      " |      Return self>value.\n",
      " |\n",
      " |  __hash__(self, /)\n",
      " |      Return hash(self).\n",
      " |\n",
      " |  __index__(self, /)\n",
      " |      Return self converted to an integer, if self is suitable for use as an index into a list.\n",
      " |\n",
      " |  __int__(self, /)\n",
      " |      int(self)\n",
      " |\n",
      " |  __invert__(self, /)\n",
      " |      ~self\n",
      " |\n",
      " |  __le__(self, value, /)\n",
      " |      Return self<=value.\n",
      " |\n",
      " |  __lshift__(self, value, /)\n",
      " |      Return self<<value.\n",
      " |\n",
      " |  __lt__(self, value, /)\n",
      " |      Return self<value.\n",
      " |\n",
      " |  __mod__(self, value, /)\n",
      " |      Return self%value.\n",
      " |\n",
      " |  __mul__(self, value, /)\n",
      " |      Return self*value.\n",
      " |\n",
      " |  __ne__(self, value, /)\n",
      " |      Return self!=value.\n",
      " |\n",
      " |  __neg__(self, /)\n",
      " |      -self\n",
      " |\n",
      " |  __or__(self, value, /)\n",
      " |      Return self|value.\n",
      " |\n",
      " |  __pos__(self, /)\n",
      " |      +self\n",
      " |\n",
      " |  __pow__(self, value, mod=None, /)\n",
      " |      Return pow(self, value, mod).\n",
      " |\n",
      " |  __radd__(self, value, /)\n",
      " |      Return value+self.\n",
      " |\n",
      " |  __rand__(self, value, /)\n",
      " |      Return value&self.\n",
      " |\n",
      " |  __rdivmod__(self, value, /)\n",
      " |      Return divmod(value, self).\n",
      " |\n",
      " |  __repr__(self, /)\n",
      " |      Return repr(self).\n",
      " |\n",
      " |  __rfloordiv__(self, value, /)\n",
      " |      Return value//self.\n",
      " |\n",
      " |  __rlshift__(self, value, /)\n",
      " |      Return value<<self.\n",
      " |\n",
      " |  __rmod__(self, value, /)\n",
      " |      Return value%self.\n",
      " |\n",
      " |  __rmul__(self, value, /)\n",
      " |      Return value*self.\n",
      " |\n",
      " |  __ror__(self, value, /)\n",
      " |      Return value|self.\n",
      " |\n",
      " |  __round__(...)\n",
      " |      Rounding an Integral returns itself.\n",
      " |\n",
      " |      Rounding with an ndigits argument also returns an integer.\n",
      " |\n",
      " |  __rpow__(self, value, mod=None, /)\n",
      " |      Return pow(value, self, mod).\n",
      " |\n",
      " |  __rrshift__(self, value, /)\n",
      " |      Return value>>self.\n",
      " |\n",
      " |  __rshift__(self, value, /)\n",
      " |      Return self>>value.\n",
      " |\n",
      " |  __rsub__(self, value, /)\n",
      " |      Return value-self.\n",
      " |\n",
      " |  __rtruediv__(self, value, /)\n",
      " |      Return value/self.\n",
      " |\n",
      " |  __rxor__(self, value, /)\n",
      " |      Return value^self.\n",
      " |\n",
      " |  __sizeof__(self, /)\n",
      " |      Returns size in memory, in bytes.\n",
      " |\n",
      " |  __sub__(self, value, /)\n",
      " |      Return self-value.\n",
      " |\n",
      " |  __truediv__(self, value, /)\n",
      " |      Return self/value.\n",
      " |\n",
      " |  __trunc__(...)\n",
      " |      Truncating an Integral returns itself.\n",
      " |\n",
      " |  __xor__(self, value, /)\n",
      " |      Return self^value.\n",
      " |\n",
      " |  as_integer_ratio(self, /)\n",
      " |      Return a pair of integers, whose ratio is equal to the original int.\n",
      " |\n",
      " |      The ratio is in lowest terms and has a positive denominator.\n",
      " |\n",
      " |      >>> (10).as_integer_ratio()\n",
      " |      (10, 1)\n",
      " |      >>> (-10).as_integer_ratio()\n",
      " |      (-10, 1)\n",
      " |      >>> (0).as_integer_ratio()\n",
      " |      (0, 1)\n",
      " |\n",
      " |  bit_count(self, /)\n",
      " |      Number of ones in the binary representation of the absolute value of self.\n",
      " |\n",
      " |      Also known as the population count.\n",
      " |\n",
      " |      >>> bin(13)\n",
      " |      '0b1101'\n",
      " |      >>> (13).bit_count()\n",
      " |      3\n",
      " |\n",
      " |  bit_length(self, /)\n",
      " |      Number of bits necessary to represent self in binary.\n",
      " |\n",
      " |      >>> bin(37)\n",
      " |      '0b100101'\n",
      " |      >>> (37).bit_length()\n",
      " |      6\n",
      " |\n",
      " |  conjugate(...)\n",
      " |      Returns self, the complex conjugate of any int.\n",
      " |\n",
      " |  is_integer(self, /)\n",
      " |      Returns True. Exists for duck type compatibility with float.is_integer.\n",
      " |\n",
      " |  to_bytes(self, /, length=1, byteorder='big', *, signed=False)\n",
      " |      Return an array of bytes representing an integer.\n",
      " |\n",
      " |      length\n",
      " |        Length of bytes object to use.  An OverflowError is raised if the\n",
      " |        integer is not representable with the given number of bytes.  Default\n",
      " |        is length 1.\n",
      " |      byteorder\n",
      " |        The byte order used to represent the integer.  If byteorder is 'big',\n",
      " |        the most significant byte is at the beginning of the byte array.  If\n",
      " |        byteorder is 'little', the most significant byte is at the end of the\n",
      " |        byte array.  To request the native byte order of the host system, use\n",
      " |        `sys.byteorder' as the byte order value.  Default is to use 'big'.\n",
      " |      signed\n",
      " |        Determines whether two's complement is used to represent the integer.\n",
      " |        If signed is False and a negative integer is given, an OverflowError\n",
      " |        is raised.\n",
      " |\n",
      " |  ----------------------------------------------------------------------\n",
      " |  Class methods defined here:\n",
      " |\n",
      " |  from_bytes(bytes, byteorder='big', *, signed=False)\n",
      " |      Return the integer represented by the given array of bytes.\n",
      " |\n",
      " |      bytes\n",
      " |        Holds the array of bytes to convert.  The argument must either\n",
      " |        support the buffer protocol or be an iterable object producing bytes.\n",
      " |        Bytes and bytearray are examples of built-in objects that support the\n",
      " |        buffer protocol.\n",
      " |      byteorder\n",
      " |        The byte order used to represent the integer.  If byteorder is 'big',\n",
      " |        the most significant byte is at the beginning of the byte array.  If\n",
      " |        byteorder is 'little', the most significant byte is at the end of the\n",
      " |        byte array.  To request the native byte order of the host system, use\n",
      " |        `sys.byteorder' as the byte order value.  Default is to use 'big'.\n",
      " |      signed\n",
      " |        Indicates whether two's complement is used to represent the integer.\n",
      " |\n",
      " |  ----------------------------------------------------------------------\n",
      " |  Static methods defined here:\n",
      " |\n",
      " |  __new__(*args, **kwargs)\n",
      " |      Create and return a new object.  See help(type) for accurate signature.\n",
      " |\n",
      " |  ----------------------------------------------------------------------\n",
      " |  Data descriptors defined here:\n",
      " |\n",
      " |  denominator\n",
      " |      the denominator of a rational number in lowest terms\n",
      " |\n",
      " |  imag\n",
      " |      the imaginary part of a complex number\n",
      " |\n",
      " |  numerator\n",
      " |      the numerator of a rational number in lowest terms\n",
      " |\n",
      " |  real\n",
      " |      the real part of a complex number\n",
      "\n"
     ]
    }
   ],
   "source": [
    "help(int)"
   ]
  },
  {
   "cell_type": "code",
   "execution_count": 15,
   "metadata": {},
   "outputs": [],
   "source": [
    "#help(float)"
   ]
  },
  {
   "cell_type": "markdown",
   "metadata": {},
   "source": [
    "## About Random Number Generator "
   ]
  },
  {
   "cell_type": "code",
   "execution_count": 16,
   "metadata": {},
   "outputs": [
    {
     "name": "stdout",
     "output_type": "stream",
     "text": [
      "Help on built-in function random:\n",
      "\n",
      "random() method of random.Random instance\n",
      "    random() -> x in the interval [0, 1).\n",
      "\n"
     ]
    }
   ],
   "source": [
    "import random \n",
    "help(random.random)"
   ]
  },
  {
   "cell_type": "code",
   "execution_count": 17,
   "metadata": {},
   "outputs": [],
   "source": [
    "#help(random)"
   ]
  },
  {
   "cell_type": "code",
   "execution_count": 18,
   "metadata": {},
   "outputs": [
    {
     "name": "stdout",
     "output_type": "stream",
     "text": [
      "35\n"
     ]
    }
   ],
   "source": [
    "import random \n",
    "y = random.randrange(5,100, 5)\n",
    "print(y)"
   ]
  },
  {
   "cell_type": "code",
   "execution_count": 19,
   "metadata": {},
   "outputs": [
    {
     "name": "stdout",
     "output_type": "stream",
     "text": [
      "(1, 2, 3, 4, 5, 6, 7, 8, 9, 10)\n",
      "[3, 10, 5, 4, 7]\n"
     ]
    }
   ],
   "source": [
    "seq = ( 1,2,3,4,5,6,7,8,9,10)\n",
    "print(seq)\n",
    "s = random.sample(seq, 5)\n",
    "print(s)"
   ]
  },
  {
   "cell_type": "code",
   "execution_count": 20,
   "metadata": {
    "scrolled": true
   },
   "outputs": [
    {
     "name": "stdout",
     "output_type": "stream",
     "text": [
      "[5517, 492, 9456, 9635, 3065, 171, 5608, 3526, 9136, 945, 4131, 3382, 9756, 1234, 358, 4702, 3821, 5796, 5296, 7002, 6637, 5716, 8857, 365, 6831, 6273, 3314, 2754, 4411, 2555, 5399, 8204, 5607, 3569, 4120, 1430, 4674, 2974, 6569, 926, 5289, 5330, 7109, 881, 6221, 8518, 6734, 4247, 1091, 1755, 2762, 5936, 141, 134, 745, 1608, 2782, 8606, 8804, 2318]\n",
      "\t\n",
      "60\n"
     ]
    }
   ],
   "source": [
    "print(random.sample(range(10000), 60))\n",
    "print('\\t')\n",
    "print(len(random.sample(range(10000), 60)))"
   ]
  },
  {
   "cell_type": "code",
   "execution_count": 21,
   "metadata": {},
   "outputs": [
    {
     "name": "stdout",
     "output_type": "stream",
     "text": [
      "Help on method seed in module random:\n",
      "\n",
      "seed(a=None, version=2) method of random.Random instance\n",
      "    Initialize internal state from a seed.\n",
      "\n",
      "    The only supported seed types are None, int, float,\n",
      "    str, bytes, and bytearray.\n",
      "\n",
      "    None or no argument seeds from current time or from an operating\n",
      "    system specific randomness source if available.\n",
      "\n",
      "    If *a* is an int, all bits are used.\n",
      "\n",
      "    For version 2 (the default), all of the bits are used if *a* is a str,\n",
      "    bytes, or bytearray.  For version 1 (provided for reproducing random\n",
      "    sequences from older versions of Python), the algorithm for str and\n",
      "    bytes generates a narrower range of seeds.\n",
      "\n"
     ]
    }
   ],
   "source": [
    "help(random.seed)"
   ]
  },
  {
   "cell_type": "code",
   "execution_count": 22,
   "metadata": {},
   "outputs": [
    {
     "name": "stdout",
     "output_type": "stream",
     "text": [
      "0.1456692551041303\n",
      "\t\n",
      "[465, 974, 789, 178, 722, 402, 749, 358, 443, 519, 819, 112, 545, 124, 82, 754, 466, 269, 49, 674, 955, 663, 969, 209, 343, 235, 316, 859, 786, 208, 182, 144, 193, 914, 355, 378, 641, 419, 854, 215, 412, 472, 568, 282, 922, 811, 837, 384, 164, 877, 664, 653, 127, 184, 5, 617, 405, 151, 792, 871, 579, 166, 197, 171, 861, 26, 681, 242, 458, 818, 948, 923, 396, 129, 638, 567, 775, 53, 623, 253, 734, 633, 793, 990, 731, 296, 706, 604, 346, 540, 698, 351, 555, 874, 371, 495, 411, 779, 63, 833]\n"
     ]
    }
   ],
   "source": [
    "random.seed(a =100)\n",
    "\n",
    "print(random.random())\n",
    "print('\\t')\n",
    "\n",
    "print(random.sample(range(1000), 100))"
   ]
  },
  {
   "cell_type": "code",
   "execution_count": 23,
   "metadata": {},
   "outputs": [
    {
     "name": "stdout",
     "output_type": "stream",
     "text": [
      "Help on method randint in module random:\n",
      "\n",
      "randint(a, b) method of random.Random instance\n",
      "    Return random integer in range [a, b], including both end points.\n",
      "\n"
     ]
    }
   ],
   "source": [
    "help(random.randint)"
   ]
  },
  {
   "cell_type": "code",
   "execution_count": 24,
   "metadata": {},
   "outputs": [
    {
     "name": "stdout",
     "output_type": "stream",
     "text": [
      "0.1013225755874585\n",
      "11\n"
     ]
    }
   ],
   "source": [
    "print(random.random()) # give any random number\n",
    "print(random.randint(2,20)) # give a random between the interval 2 and 20"
   ]
  },
  {
   "cell_type": "code",
   "execution_count": 25,
   "metadata": {},
   "outputs": [
    {
     "name": "stdout",
     "output_type": "stream",
     "text": [
      "0.021082727358758956\n",
      "2314.9002135182127\n"
     ]
    }
   ],
   "source": [
    "# Distributions\n",
    "exp = random.expovariate(50)\n",
    "print(exp)\n",
    "\n",
    "print(random.gammavariate(100,25))\n"
   ]
  },
  {
   "cell_type": "code",
   "execution_count": 51,
   "metadata": {},
   "outputs": [
    {
     "name": "stdin",
     "output_type": "stream",
     "text": [
      "Enter the number of units you want to randomly select:  4\n"
     ]
    },
    {
     "ename": "TypeError",
     "evalue": "'int' object is not callable",
     "output_type": "error",
     "traceback": [
      "\u001b[1;31m---------------------------------------------------------------------------\u001b[0m",
      "\u001b[1;31mTypeError\u001b[0m                                 Traceback (most recent call last)",
      "Cell \u001b[1;32mIn[51], line 4\u001b[0m\n\u001b[0;32m      2\u001b[0m course \u001b[38;5;241m=\u001b[39m [\u001b[38;5;124m'\u001b[39m\u001b[38;5;124mbiology\u001b[39m\u001b[38;5;124m'\u001b[39m, \u001b[38;5;124m'\u001b[39m\u001b[38;5;124mchemistry\u001b[39m\u001b[38;5;124m'\u001b[39m, \u001b[38;5;124m'\u001b[39m\u001b[38;5;124mhistory\u001b[39m\u001b[38;5;124m'\u001b[39m, \u001b[38;5;124m'\u001b[39m\u001b[38;5;124mart\u001b[39m\u001b[38;5;124m'\u001b[39m, \u001b[38;5;124m'\u001b[39m\u001b[38;5;124mcomputer science\u001b[39m\u001b[38;5;124m'\u001b[39m, \u001b[38;5;124m'\u001b[39m\u001b[38;5;124meconomics\u001b[39m\u001b[38;5;124m'\u001b[39m, \u001b[38;5;124m'\u001b[39m\u001b[38;5;124mphilosophy\u001b[39m\u001b[38;5;124m'\u001b[39m, \u001b[38;5;124m'\u001b[39m\u001b[38;5;124mstatistics\u001b[39m\u001b[38;5;124m'\u001b[39m]\n\u001b[0;32m      3\u001b[0m n \u001b[38;5;241m=\u001b[39m \u001b[38;5;28minput\u001b[39m(\u001b[38;5;124m\"\u001b[39m\u001b[38;5;124mEnter the number of units you want to randomly select: \u001b[39m\u001b[38;5;124m\"\u001b[39m)\n\u001b[1;32m----> 4\u001b[0m common_course \u001b[38;5;241m=\u001b[39m random\u001b[38;5;241m.\u001b[39mchoices(course, k\u001b[38;5;241m=\u001b[39m\u001b[38;5;28mint\u001b[39m(n))\n\u001b[0;32m      5\u001b[0m \u001b[38;5;28mprint\u001b[39m(\u001b[38;5;124m\"\u001b[39m\u001b[38;5;124mThese are the common unit that should be share \u001b[39m\u001b[38;5;132;01m{0}\u001b[39;00m\u001b[38;5;124m in this program .\u001b[39m\u001b[38;5;124m\"\u001b[39m\u001b[38;5;241m.\u001b[39mformat(common_course))\n",
      "\u001b[1;31mTypeError\u001b[0m: 'int' object is not callable"
     ]
    }
   ],
   "source": [
    "import random \n",
    "course = ['biology', 'chemistry', 'history', 'art', 'computer science', 'economics', 'philosophy', 'statistics']\n",
    "#n = input(\"Enter the number of units you want to randomly select: \")\n",
    "common_course = random.choices(course, k=4)\n",
    "print(\"These are the common unit that should be share {0} in this program .\".format(common_course))\n"
   ]
  },
  {
   "cell_type": "markdown",
   "metadata": {},
   "source": [
    "## More on Data type "
   ]
  },
  {
   "cell_type": "code",
   "execution_count": 27,
   "metadata": {},
   "outputs": [],
   "source": [
    "#help(math)"
   ]
  },
  {
   "cell_type": "code",
   "execution_count": 28,
   "metadata": {},
   "outputs": [],
   "source": [
    "#help(cmath)"
   ]
  },
  {
   "cell_type": "code",
   "execution_count": 29,
   "metadata": {},
   "outputs": [
    {
     "name": "stdout",
     "output_type": "stream",
     "text": [
      "1.6232492903979006\n",
      "<class 'float'>\n",
      "\t\n",
      "(-0.49485002168009395+1.3643763538418412j)\n",
      "<class 'complex'>\n"
     ]
    }
   ],
   "source": [
    "import math \n",
    "import cmath\n",
    "# math.log10()\n",
    "\n",
    "print(math.log10(42))\n",
    "print(type(math.log10(42)))\n",
    "print('\\t')\n",
    "\n",
    "value = -0.32\n",
    "print(cmath.log10(value))\n",
    "print(type(cmath.log10(value)))"
   ]
  },
  {
   "cell_type": "code",
   "execution_count": 30,
   "metadata": {},
   "outputs": [
    {
     "name": "stdout",
     "output_type": "stream",
     "text": [
      "15\n",
      "<class 'int'>\n",
      "\t\n",
      "35\n",
      "<class 'int'>\n",
      "\t\n"
     ]
    }
   ],
   "source": [
    "# create integer and float\n",
    "\n",
    "integer_num = 15\n",
    "float_num = 35.68\n",
    "\n",
    "print(math.floor(integer_num))\n",
    "print(type(math.floor(integer_num)))\n",
    "print('\\t')\n",
    "\n",
    "\n",
    "print(math.floor(float_num))\n",
    "print(type(math.floor(float_num)))\n",
    "print('\\t')"
   ]
  },
  {
   "cell_type": "code",
   "execution_count": 31,
   "metadata": {},
   "outputs": [
    {
     "name": "stdout",
     "output_type": "stream",
     "text": [
      "Help on built-in function len in module builtins:\n",
      "\n",
      "len(obj, /)\n",
      "    Return the number of items in a container.\n",
      "\n"
     ]
    }
   ],
   "source": [
    "help(len)"
   ]
  },
  {
   "cell_type": "code",
   "execution_count": 32,
   "metadata": {},
   "outputs": [
    {
     "name": "stdout",
     "output_type": "stream",
     "text": [
      "11\n",
      "\t\n",
      "7\n",
      "\t\n",
      "20\n",
      "\t\n",
      "4\n",
      "\t\n",
      "Length function used to count the number of elements can be used in all the data types above: String , integers, float and boolean \n"
     ]
    }
   ],
   "source": [
    "# Creating a list of integer, float, string and boolean \n",
    "\n",
    "int_num = [45,34,468,90,123,389,900,287,190,67,98]\n",
    "float_num = [ 23.78,90.05,87.56, 291.98, 12.86, 3.142, 9.8]\n",
    "string_1 = \"Today is a happy day\"\n",
    "bool = [True, False, True, False]\n",
    "        \n",
    "print(len(int_num))\n",
    "print('\\t')\n",
    "\n",
    "print(len(float_num))\n",
    "print('\\t')\n",
    "\n",
    "print(len(string_1))\n",
    "print('\\t')\n",
    "\n",
    "\n",
    "print(len(bool))\n",
    "print('\\t')\n",
    "\n",
    "\n",
    "print(\"Length function used to count the number of elements can be used in all the data types above: String , integers, float and boolean \")"
   ]
  },
  {
   "cell_type": "code",
   "execution_count": 34,
   "metadata": {},
   "outputs": [
    {
     "name": "stdin",
     "output_type": "stream",
     "text": [
      "Enter the positive integer:  2145\n"
     ]
    },
    {
     "ename": "TypeError",
     "evalue": "'int' object is not callable",
     "output_type": "error",
     "traceback": [
      "\u001b[1;31m---------------------------------------------------------------------------\u001b[0m",
      "\u001b[1;31mTypeError\u001b[0m                                 Traceback (most recent call last)",
      "Cell \u001b[1;32mIn[34], line 1\u001b[0m\n\u001b[1;32m----> 1\u001b[0m a\u001b[38;5;241m=\u001b[39m\u001b[38;5;28mint\u001b[39m(\u001b[38;5;28minput\u001b[39m(\u001b[38;5;124m\"\u001b[39m\u001b[38;5;124mEnter the positive integer: \u001b[39m\u001b[38;5;124m\"\u001b[39m))\n\u001b[0;32m      2\u001b[0m b \u001b[38;5;241m=\u001b[39m \u001b[38;5;28mabs\u001b[39m(a)\n\u001b[0;32m      3\u001b[0m \u001b[38;5;28mprint\u001b[39m(\u001b[38;5;124m\"\u001b[39m\u001b[38;5;124mThe positive number \u001b[39m\u001b[38;5;132;01m{0}\u001b[39;00m\u001b[38;5;124m has a length of \u001b[39m\u001b[38;5;132;01m{1}\u001b[39;00m\u001b[38;5;124m\"\u001b[39m\u001b[38;5;241m.\u001b[39mformat(b,\u001b[38;5;28mlen\u001b[39m(\u001b[38;5;28mstr\u001b[39m(b))))\n",
      "\u001b[1;31mTypeError\u001b[0m: 'int' object is not callable"
     ]
    }
   ],
   "source": [
    "a=45654654646\n",
    "b = abs(a)\n",
    "print(\"The positive number {0} has a length of {1}\".format(b,len(str(b))))"
   ]
  },
  {
   "cell_type": "code",
   "execution_count": null,
   "metadata": {},
   "outputs": [],
   "source": []
  }
 ],
 "metadata": {
  "colab": {
   "include_colab_link": true,
   "provenance": []
  },
  "kernelspec": {
   "display_name": "Python 3 (ipykernel)",
   "language": "python",
   "name": "python3"
  },
  "language_info": {
   "codemirror_mode": {
    "name": "ipython",
    "version": 3
   },
   "file_extension": ".py",
   "mimetype": "text/x-python",
   "name": "python",
   "nbconvert_exporter": "python",
   "pygments_lexer": "ipython3",
   "version": "3.12.4"
  }
 },
 "nbformat": 4,
 "nbformat_minor": 4
}
