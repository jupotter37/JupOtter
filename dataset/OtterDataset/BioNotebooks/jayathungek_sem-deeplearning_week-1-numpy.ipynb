{
 "cells": [
  {
   "attachments": {},
   "cell_type": "markdown",
   "id": "4d2c698f",
   "metadata": {},
   "source": [
    "# 1. Numpy \n",
    "Numpy is a powerful Python module that should be in the toolbelt of any AI/Deep learning practitioner. It provides functions and data structures that allow fast, efficient manipulation of mathematical structures like matrices and vectors. It represents these structures internally using Numpy arrays, which are like Python Lists, but highly optimised for calculations on large amounts of numerical data. Let's import this module now.\n",
    "\n",
    "Numpy arrays are almost the exact same as Pytorch Tensors, which you will have heard about by now. The only difference is that Pytorch Tensors can be operated on by the GPU; Numpy array operations are always performed by the CPU.  "
   ]
  },
  {
   "cell_type": "code",
   "execution_count": 102,
   "id": "a352c02e",
   "metadata": {},
   "outputs": [],
   "source": [
    "import numpy as np"
   ]
  },
  {
   "attachments": {},
   "cell_type": "markdown",
   "id": "fe0a2fda",
   "metadata": {},
   "source": [
    "### 1.1.1 Array creation\n",
    "Numpy arrays can be created in a few different ways. Common ones are:\n",
    "1. Instantiated using values from a normal Python list\n",
    "2. Filled with sequential values upto a target number\n",
    "3. Filled with a specific value\n",
    "4. Filled with random values (various random distributions available) - see https://numpy.org/doc/stable/reference/random/index.html\n",
    "\n",
    "For a full list of array creation routines, please see: https://numpy.org/doc/stable/reference/routines.array-creation.html\n"
   ]
  },
  {
   "cell_type": "code",
   "execution_count": 103,
   "id": "cc36ef32",
   "metadata": {},
   "outputs": [
    {
     "name": "stdout",
     "output_type": "stream",
     "text": [
      "[ 2  4  8 16 32]\n"
     ]
    }
   ],
   "source": [
    "#Array creation from python list\n",
    "python_list = [2, 4, 8, 16, 32]\n",
    "np_from_list = np.array(python_list)\n",
    "print(np_from_list)"
   ]
  },
  {
   "cell_type": "code",
   "execution_count": 104,
   "id": "0ccacf1d",
   "metadata": {},
   "outputs": [
    {
     "data": {
      "text/plain": [
       "array([10, 15, 20, 25, 30, 35, 40, 45])"
      ]
     },
     "execution_count": 104,
     "metadata": {},
     "output_type": "execute_result"
    }
   ],
   "source": [
    "#Array creation with sequential values \n",
    "seq_array = np.arange(start=10, stop=50, step=5)\n",
    "seq_array"
   ]
  },
  {
   "cell_type": "code",
   "execution_count": 105,
   "id": "3b4a7775",
   "metadata": {},
   "outputs": [
    {
     "data": {
      "text/plain": [
       "array([0.0558312 , 0.55795473, 0.85109954, 0.89719848, 0.81816223,\n",
       "       0.99459988, 0.81678427, 0.68479151, 0.69150509, 0.08798084,\n",
       "       0.33840512, 0.74235266, 0.75673493, 0.96929529, 0.393403  ,\n",
       "       0.38768088, 0.67991731, 0.92771085, 0.16915778, 0.7987478 ])"
      ]
     },
     "execution_count": 105,
     "metadata": {},
     "output_type": "execute_result"
    }
   ],
   "source": [
    "#Array creation with random values \n",
    "random_array = np.random.rand(20)\n",
    "random_array"
   ]
  },
  {
   "cell_type": "code",
   "execution_count": 106,
   "id": "68a1cf04",
   "metadata": {},
   "outputs": [
    {
     "data": {
      "text/plain": [
       "array([256, 256, 256, 256, 256, 256, 256, 256, 256, 256])"
      ]
     },
     "execution_count": 106,
     "metadata": {},
     "output_type": "execute_result"
    }
   ],
   "source": [
    "#Array filled with the same specific value\n",
    "filled_array = np.full(10, 256)\n",
    "filled_array"
   ]
  },
  {
   "attachments": {},
   "cell_type": "markdown",
   "id": "e92f617f",
   "metadata": {},
   "source": [
    "### 1.1.2 Reshaping arrays\n",
    "\n",
    "One of the many things that set Numpy arrays apart from Python lists is their `reshape` method. This allows you to define the number of dimensions that the structure represented by the array has. For example, the array `np_from_list` that we have just defined is just a flat list of numbers at the moment. `reshape` helps us represent it as a 2D data structure (a matrix). Keep in mind that the shape that you put into this method must agree with the number of elements in the array. In our example, the array has 10 elements, so acceptable shapes include:\n",
    "* 5, 2\n",
    "* 2, 5\n",
    "* 1, 10\n",
    "* 10, 1"
   ]
  },
  {
   "cell_type": "code",
   "execution_count": 107,
   "id": "e5e2f39c",
   "metadata": {},
   "outputs": [
    {
     "name": "stdout",
     "output_type": "stream",
     "text": [
      "[[256 256]\n",
      " [256 256]\n",
      " [256 256]\n",
      " [256 256]\n",
      " [256 256]]\n",
      "matrix has shape: (5, 2)\n"
     ]
    }
   ],
   "source": [
    "matrix_5_2 = filled_array.reshape(5, 2)\n",
    "print(matrix_5_2)\n",
    "print(f\"matrix has shape: {matrix_5_2.shape}\")"
   ]
  },
  {
   "cell_type": "code",
   "execution_count": 108,
   "id": "440acb3f",
   "metadata": {},
   "outputs": [
    {
     "name": "stdout",
     "output_type": "stream",
     "text": [
      "[[0.0558312  0.55795473 0.85109954 0.89719848 0.81816223 0.99459988\n",
      "  0.81678427 0.68479151 0.69150509 0.08798084]\n",
      " [0.33840512 0.74235266 0.75673493 0.96929529 0.393403   0.38768088\n",
      "  0.67991731 0.92771085 0.16915778 0.7987478 ]]\n",
      "matrix has shape: (2, 10)\n"
     ]
    }
   ],
   "source": [
    "matrix_2_10 = random_array.reshape(2, 10)\n",
    "print(matrix_2_10)\n",
    "print(f\"matrix has shape: {matrix_2_10.shape}\")"
   ]
  },
  {
   "cell_type": "code",
   "execution_count": 109,
   "id": "5b7ecc7c",
   "metadata": {},
   "outputs": [
    {
     "data": {
      "text/plain": [
       "array([[32, 32],\n",
       "       [32, 32],\n",
       "       [32, 32],\n",
       "       [32, 32],\n",
       "       [32, 32]])"
      ]
     },
     "execution_count": 109,
     "metadata": {},
     "output_type": "execute_result"
    }
   ],
   "source": [
    "# You can also pass a desired shape into the array creation function to instantiate\n",
    "# an array with a pre-defined shape\n",
    "array_from_shape = np.full(matrix_5_2.shape, 32)\n",
    "array_from_shape\n"
   ]
  },
  {
   "attachments": {},
   "cell_type": "markdown",
   "id": "e5f458bc",
   "metadata": {},
   "source": [
    "### 1.1.3 Exercises"
   ]
  },
  {
   "cell_type": "code",
   "execution_count": 110,
   "id": "f97ac428",
   "metadata": {},
   "outputs": [
    {
     "name": "stdout",
     "output_type": "stream",
     "text": [
      "[ 0  1  2  3  4  5  6  7  8  9 10 11 12 13 14 15 16 17 18 19 20 21 22 23\n",
      " 24 25 26 27 28 29 30 31]\n"
     ]
    }
   ],
   "source": [
    "# Create a Numpy array A that contains the integers from 0 - 31 (32 elements long)\n",
    "A = np.arange(32)\n",
    "print(A)"
   ]
  },
  {
   "cell_type": "code",
   "execution_count": 111,
   "id": "4c06fa53",
   "metadata": {},
   "outputs": [
    {
     "name": "stdout",
     "output_type": "stream",
     "text": [
      "[0.99899732 0.26085224 0.69718724 0.04511611 0.66449267 0.34984788\n",
      " 0.37932433 0.53465679 0.67605431 0.61273308 0.07041292 0.20024893]\n"
     ]
    }
   ],
   "source": [
    "# Create a Numpy array B that contains 12 random numbers between 0 and 1\n",
    "B = np.random.rand(12)\n",
    "print(B)"
   ]
  },
  {
   "cell_type": "code",
   "execution_count": 112,
   "id": "b5ad76b4",
   "metadata": {},
   "outputs": [
    {
     "name": "stdout",
     "output_type": "stream",
     "text": [
      "[[ 0  1  2  3]\n",
      " [ 4  5  6  7]\n",
      " [ 8  9 10 11]\n",
      " [12 13 14 15]\n",
      " [16 17 18 19]\n",
      " [20 21 22 23]\n",
      " [24 25 26 27]\n",
      " [28 29 30 31]]\n"
     ]
    }
   ],
   "source": [
    "# Turn A into a 2d matrix of shape (8, 4) - 8 rows, 4 columns\n",
    "A = A.reshape(8, 4)\n",
    "print(A)"
   ]
  },
  {
   "cell_type": "code",
   "execution_count": 113,
   "id": "f28e3f39",
   "metadata": {},
   "outputs": [
    {
     "name": "stdout",
     "output_type": "stream",
     "text": [
      "[[0.99899732 0.26085224 0.69718724]\n",
      " [0.04511611 0.66449267 0.34984788]\n",
      " [0.37932433 0.53465679 0.67605431]\n",
      " [0.61273308 0.07041292 0.20024893]]\n"
     ]
    }
   ],
   "source": [
    "# Turn B into a 2d matrix of shape (4, 3)\n",
    "B = B.reshape(4, 3)\n",
    "print(B)"
   ]
  },
  {
   "attachments": {},
   "cell_type": "markdown",
   "id": "e3e3ea19",
   "metadata": {},
   "source": [
    "## 1.2 Array operations\n",
    "Once you have created an array, there are various operations you may want to perform on them. We'll go through some of the most common ones in the next few cells.\n",
    "\n",
    "### 1.2.1 Binary operators\n",
    "Similar to normal counting numbers, Numpy arrays can be used as arguments to binary arithmetic operators like `*` (multiplication), `+` (addition), `-`(subtraction) and `/`(division). However, these can only be applied to arrays under certain conditions:\n",
    "1. The arrays have the same shape, OR\n",
    "2. The operation is between an array and a scalar, OR\n",
    "3. The operations is between 2 arrays of different shapes that can be \"broadcast\" together - more on this later\n",
    "\n",
    "These operations are applied **element-wise** meaning each element in the array is combined with its corresponding element at the same position in the other array"
   ]
  },
  {
   "cell_type": "code",
   "execution_count": 114,
   "id": "d630c356",
   "metadata": {},
   "outputs": [
    {
     "data": {
      "text/plain": [
       "array([[11.90374858, 11.13704644, 11.99761466, 11.58659545],\n",
       "       [11.93997586, 11.25169205, 11.39017383, 11.887816  ],\n",
       "       [11.15400018, 11.14766971, 11.18396393, 11.79222709],\n",
       "       [11.96812249, 11.44261924, 11.57567083, 11.15782329],\n",
       "       [11.31233315, 11.90362521, 11.53315133, 11.74771463],\n",
       "       [11.55444117, 11.1325504 , 11.29449117, 11.97480948],\n",
       "       [11.60965251, 11.82979361, 11.56039823, 11.33596708],\n",
       "       [11.35541464, 11.46476937, 11.86548446, 11.57900587]])"
      ]
     },
     "execution_count": 114,
     "metadata": {},
     "output_type": "execute_result"
    }
   ],
   "source": [
    "# Addition with a scalar\n",
    "arr = np.random.rand(32).reshape(A.shape)\n",
    "scalar_add = arr + 11\n",
    "scalar_add"
   ]
  },
  {
   "cell_type": "code",
   "execution_count": 115,
   "id": "b729a52e",
   "metadata": {},
   "outputs": [
    {
     "data": {
      "text/plain": [
       "array([[  0.90374858,  -0.86295356,  -1.00238534,  -2.41340455],\n",
       "       [ -3.06002414,  -4.74830795,  -5.60982617,  -6.112184  ],\n",
       "       [ -7.84599982,  -8.85233029,  -9.81603607, -10.20777291],\n",
       "       [-11.03187751, -12.55738076, -13.42432917, -14.84217671],\n",
       "       [-15.68766685, -16.09637479, -17.46684867, -18.25228537],\n",
       "       [-19.44555883, -20.8674496 , -21.70550883, -22.02519052],\n",
       "       [-23.39034749, -24.17020639, -25.43960177, -26.66403292],\n",
       "       [-27.64458536, -28.53523063, -29.13451554, -30.42099413]])"
      ]
     },
     "execution_count": 115,
     "metadata": {},
     "output_type": "execute_result"
    }
   ],
   "source": [
    "# Subtraction with another array of same shape\n",
    "sub_array = arr - A\n",
    "sub_array"
   ]
  },
  {
   "cell_type": "code",
   "execution_count": 116,
   "id": "d3454d04",
   "metadata": {},
   "outputs": [
    {
     "data": {
      "text/plain": [
       "array([[ 0.        ,  0.13704644,  1.99522933,  1.75978636],\n",
       "       [ 3.75990345,  1.25846026,  2.341043  ,  6.21471202],\n",
       "       [ 1.23200144,  1.32902735,  1.83963933,  8.71449799],\n",
       "       [11.61746987,  5.75405017,  8.0593916 ,  2.36734931],\n",
       "       [ 4.99733037, 15.36162865,  9.59672399, 14.20657793],\n",
       "       [11.08882332,  2.7835583 ,  6.4788058 , 22.42061797],\n",
       "       [14.63166026, 20.74484037, 14.57035406,  9.07111113],\n",
       "       [ 9.95160993, 13.47831168, 25.96453369, 17.94918188]])"
      ]
     },
     "execution_count": 116,
     "metadata": {},
     "output_type": "execute_result"
    }
   ],
   "source": [
    "# Multiplication with another array of same shape\n",
    "mul_array = arr * A\n",
    "mul_array"
   ]
  },
  {
   "cell_type": "code",
   "execution_count": 117,
   "id": "9ae00ef0",
   "metadata": {},
   "outputs": [
    {
     "data": {
      "text/plain": [
       "array([[12.17152675, 80.2647599 , 11.02630144, 18.75227627],\n",
       "       [11.70242817, 43.70420096, 28.19256207, 12.38995464],\n",
       "       [71.42848803, 74.49056644, 59.79432937, 13.88490768],\n",
       "       [11.36219861, 24.85205997, 19.10814212, 69.69820614],\n",
       "       [35.21880424, 12.17318842, 20.6320407 , 14.71149498],\n",
       "       [19.83979667, 82.98730437, 37.35256272, 11.28425632],\n",
       "       [18.04306519, 13.25630832, 19.62889844, 32.74130323],\n",
       "       [30.94976614, 23.66765271, 12.70964478, 18.99808037]])"
      ]
     },
     "execution_count": 117,
     "metadata": {},
     "output_type": "execute_result"
    }
   ],
   "source": [
    "# Division by a scalar\n",
    "div_array = 11 / arr\n",
    "div_array"
   ]
  },
  {
   "attachments": {},
   "cell_type": "markdown",
   "id": "2e285677",
   "metadata": {},
   "source": [
    "### 1.2.2 Broadcasting\n",
    "As long as an array's dimensions are compatible with their counterparts in the other array, they can be \"broadcasted\" together. This means that numpy will 'stretch' the smaller dimension along its axis so that element-wise operations can be applied between them. In general, 2 arrays can be broadcast together if each dimension in one array is compatible with its counterpart in the other array. Dimensions are compatible if they are equal or one of them is equal to 1. The dimension of size 1 is expanded to fit the size of its counterpart [https://numpy.org/doc/stable/user/basics.broadcasting.html]"
   ]
  },
  {
   "cell_type": "code",
   "execution_count": 118,
   "id": "be491c00",
   "metadata": {},
   "outputs": [
    {
     "name": "stdout",
     "output_type": "stream",
     "text": [
      "[[0]\n",
      " [1]\n",
      " [2]\n",
      " [3]]\n",
      "--------\n",
      "[[ 0  1  2]\n",
      " [ 3  4  5]\n",
      " [ 6  7  8]\n",
      " [ 9 10 11]]\n",
      "--------\n",
      "[[ 0  1  2]\n",
      " [ 4  5  6]\n",
      " [ 8  9 10]\n",
      " [12 13 14]]\n"
     ]
    }
   ],
   "source": [
    "B = np.arange(12).reshape(4, 3)\n",
    "array_4_1 = np.arange(4).reshape(4, 1)\n",
    "print(array_4_1)\n",
    "print(\"--------\")\n",
    "print(B)\n",
    "print(\"--------\")\n",
    "\n",
    "broadcasted = array_4_1 + B\n",
    "print(broadcasted)"
   ]
  },
  {
   "cell_type": "code",
   "execution_count": 119,
   "id": "8af7f502",
   "metadata": {},
   "outputs": [
    {
     "name": "stdout",
     "output_type": "stream",
     "text": [
      "[[0 1 2]]\n",
      "-------------\n",
      "[[ 0  1  2]\n",
      " [ 3  4  5]\n",
      " [ 6  7  8]\n",
      " [ 9 10 11]]\n",
      "-------------\n"
     ]
    },
    {
     "data": {
      "text/plain": [
       "array([[ 0,  2,  4],\n",
       "       [ 3,  5,  7],\n",
       "       [ 6,  8, 10],\n",
       "       [ 9, 11, 13]])"
      ]
     },
     "execution_count": 119,
     "metadata": {},
     "output_type": "execute_result"
    }
   ],
   "source": [
    "# Similarly, we can also broadcast an array of shape (1, 3) along B's vertical axis\n",
    "array_1_3 = np.arange(3).reshape(1, 3)\n",
    "print(array_1_3)\n",
    "print(\"-------------\")\n",
    "print(B)\n",
    "print(\"-------------\")\n",
    "broadcasted = B + array_1_3\n",
    "broadcasted\n"
   ]
  },
  {
   "attachments": {},
   "cell_type": "markdown",
   "id": "5cfde7f5",
   "metadata": {},
   "source": [
    "### 1.2.3 Array products\n",
    "Contrary to the `*` operator, which performs element-wise multiplication between the arrays, `np.matmul` is the matrix product of the arrays."
   ]
  },
  {
   "cell_type": "code",
   "execution_count": 120,
   "id": "4a8b3147",
   "metadata": {},
   "outputs": [
    {
     "name": "stdout",
     "output_type": "stream",
     "text": [
      "A: (8, 4), B: (4, 3), A.B: (8, 3)\n",
      "[[ 42  48  54]\n",
      " [114 136 158]\n",
      " [186 224 262]\n",
      " [258 312 366]\n",
      " [330 400 470]\n",
      " [402 488 574]\n",
      " [474 576 678]\n",
      " [546 664 782]]\n"
     ]
    }
   ],
   "source": [
    "matmul_matrix = np.matmul(A, B)\n",
    "print(f\"A: {A.shape}, B: {B.shape}, A.B: {matmul_matrix.shape}\")\n",
    "print(matmul_matrix)"
   ]
  },
  {
   "attachments": {},
   "cell_type": "markdown",
   "id": "f70b44ed",
   "metadata": {},
   "source": [
    "### 1.2.4 Exercises"
   ]
  },
  {
   "cell_type": "code",
   "execution_count": 121,
   "id": "9db105a1",
   "metadata": {},
   "outputs": [
    {
     "name": "stdout",
     "output_type": "stream",
     "text": [
      "[[0.  0.4 0.8]\n",
      " [1.2 1.6 2. ]\n",
      " [2.4 2.8 3.2]\n",
      " [3.6 4.  4.4]]\n"
     ]
    }
   ],
   "source": [
    "# Divide your array B by the number 2.5. Store the result in a variable C\n",
    "C = B / 2.5\n",
    "print(C)"
   ]
  },
  {
   "cell_type": "code",
   "execution_count": 122,
   "id": "69a4a760",
   "metadata": {},
   "outputs": [
    {
     "name": "stdout",
     "output_type": "stream",
     "text": [
      "[[-1 -1 -1]\n",
      " [-1 -1 -1]\n",
      " [-1 -1 -1]\n",
      " [-1 -1 -1]]\n"
     ]
    }
   ],
   "source": [
    "# Create a new array filled with -1. The array must have the same shape as B. Store the result in a variable D\n",
    "D = np.full(B.shape, -1)\n",
    "print(D)"
   ]
  },
  {
   "cell_type": "code",
   "execution_count": 123,
   "id": "27789dc5",
   "metadata": {},
   "outputs": [
    {
     "name": "stdout",
     "output_type": "stream",
     "text": [
      "[[  0  -1  -2]\n",
      " [ -3  -4  -5]\n",
      " [ -6  -7  -8]\n",
      " [ -9 -10 -11]]\n"
     ]
    }
   ],
   "source": [
    "# Multiply this new array ELEMENT-WISE with B and store the result in a variable called E.\n",
    "E = D* B\n",
    "print(E)"
   ]
  },
  {
   "cell_type": "code",
   "execution_count": 124,
   "id": "9e7d9a92",
   "metadata": {},
   "outputs": [
    {
     "name": "stdout",
     "output_type": "stream",
     "text": [
      "[[0 1]\n",
      " [2 3]]\n"
     ]
    }
   ],
   "source": [
    "# Consider the intermediate array below. \n",
    "intermediate_arr = np.arange(4).reshape(2, 2)\n",
    "print(intermediate_arr)"
   ]
  },
  {
   "cell_type": "code",
   "execution_count": 125,
   "id": "bf5bb2bd",
   "metadata": {},
   "outputs": [
    {
     "name": "stdout",
     "output_type": "stream",
     "text": [
      "[[-42 -48 -54]]\n"
     ]
    }
   ],
   "source": [
    "# Try and multiply it with D element-wise. What happens? What could \n",
    "# you do to make this multiplication work? (hint: try and make\n",
    "# the intermediate array broadcastable to C)\n",
    "intermediate_arr = intermediate_arr.reshape(1, 4)\n",
    "F = np.matmul(intermediate_arr, E)\n",
    "print(F)"
   ]
  },
  {
   "attachments": {},
   "cell_type": "markdown",
   "id": "5f4be63d",
   "metadata": {},
   "source": [
    "## 1.3 Functions\n",
    "Another useful thing we might want to do with an array is to apply a function to each element. Generally speaking, it is best to use the built-in Numpy functions to work on numpy arrays instead of defining your own. This is because Numpy functions are highly optimised for speed, which is important when working with large amounts of data. Chances are, whatever kind of mathematical operation you want to perform on a Numpy array is already built in. See below for a full list:  \n",
    "https://numpy.org/doc/stable/reference/routines.math.html  \n",
    "\n",
    "### 1.3.1 Element-wise functions\n",
    "Common uses are applying trig functions to an array of values:"
   ]
  },
  {
   "cell_type": "code",
   "execution_count": 126,
   "id": "0d99a1ba",
   "metadata": {},
   "outputs": [
    {
     "data": {
      "image/png": "[encoded data removed]",
      "text/plain": [
       "<Figure size 252x252 with 1 Axes>"
      ]
     },
     "metadata": {
      "needs_background": "light"
     },
     "output_type": "display_data"
    },
    {
     "data": {
      "image/png": "[encoded data removed]",
      "text/plain": [
       "<Figure size 252x252 with 1 Axes>"
      ]
     },
     "metadata": {
      "needs_background": "light"
     },
     "output_type": "display_data"
    }
   ],
   "source": [
    "import matplotlib.pyplot as plt\n",
    "\n",
    "def simple_plot(x, y, label):\n",
    "    plt.plot(x, y)\n",
    "    plt.suptitle(label)\n",
    "    plt.show()\n",
    "\n",
    "    \n",
    "\n",
    "# Element-wise functions: \n",
    "X = np.arange(0, 2*np.pi, 0.2)\n",
    "Y = np.sin(X)\n",
    "simple_plot(X, Y, \"sin(X)\")\n",
    "\n",
    "Y_1  = np.exp(X)\n",
    "simple_plot(X, Y_1, \"exp(X)\")\n"
   ]
  },
  {
   "attachments": {},
   "cell_type": "markdown",
   "id": "abc97f70",
   "metadata": {},
   "source": [
    "### 1.3.2 Reduce functions\n",
    "These are applied along the selected axis, consume all the elements and reduce the axis down to 1 element. If no axis is specified, the function is applied to the whole array, and reduces it to a scalar"
   ]
  },
  {
   "cell_type": "code",
   "execution_count": 127,
   "id": "5d79e457",
   "metadata": {},
   "outputs": [
    {
     "name": "stdout",
     "output_type": "stream",
     "text": [
      "[[ 0  1  2  3]\n",
      " [ 4  5  6  7]\n",
      " [ 8  9 10 11]\n",
      " [12 13 14 15]\n",
      " [16 17 18 19]\n",
      " [20 21 22 23]\n",
      " [24 25 26 27]\n",
      " [28 29 30 31]]\n",
      "-----------\n",
      "max: 31\n",
      "[[ 1.5]\n",
      " [ 5.5]\n",
      " [ 9.5]\n",
      " [13.5]\n",
      " [17.5]\n",
      " [21.5]\n",
      " [25.5]\n",
      " [29.5]]\n"
     ]
    }
   ],
   "source": [
    "# Max, mean minimun functions:\n",
    "A = np.arange(32).reshape(8, 4)\n",
    "print(A)\n",
    "print(\"-----------\")\n",
    "I = A.max()\n",
    "print(f\"max: {I}\")\n",
    "\n",
    "I_2 = np.mean(A, axis=1, keepdims=True)\n",
    "print(I_2)"
   ]
  },
  {
   "attachments": {},
   "cell_type": "markdown",
   "id": "c796c03c",
   "metadata": {},
   "source": [
    "### 1.3.3 Exercises\n"
   ]
  },
  {
   "cell_type": "code",
   "execution_count": 128,
   "id": "bfef5c5f",
   "metadata": {},
   "outputs": [
    {
     "name": "stdout",
     "output_type": "stream",
     "text": [
      "[-0.99999303 -0.99999148 -0.9999896  -0.99998729 -0.99998448 -0.99998104\n",
      " -0.99997684 -0.99997172 -0.99996545 -0.99995781 -0.99994846 -0.99993706\n",
      " -0.99992312 -0.9999061  -0.99988531 -0.99985992 -0.99982891 -0.99979103\n",
      " -0.99974477 -0.99968827 -0.99961927 -0.99953499 -0.99943207 -0.99930637\n",
      " -0.99915286 -0.9989654  -0.99873648 -0.99845695 -0.99811564 -0.99769892\n",
      " -0.99719016 -0.99656913 -0.99581111 -0.99488605 -0.99375734 -0.99238047\n",
      " -0.99070133 -0.98865425 -0.98615966 -0.98312123 -0.97942267 -0.97492392\n",
      " -0.96945679 -0.96282015 -0.95477457 -0.94503671 -0.93327368 -0.91909789\n",
      " -0.90206306 -0.88166254 -0.85733128 -0.82845337 -0.79437734 -0.75444149\n",
      " -0.70801148 -0.65453119 -0.59358628 -0.52497672 -0.44879099 -0.36547052\n",
      " -0.27585058 -0.1811634  -0.08299396  0.01681311  0.11628624  0.21348\n",
      "  0.30662392  0.39424359  0.47523785  0.54890634  0.61493237  0.67333244\n",
      "  0.72438705  0.76856596  0.80645811  0.83871205  0.8659896   0.88893254\n",
      "  0.90814095  0.92416076  0.93747833  0.94851987  0.95765405  0.96519649\n",
      "  0.97141513  0.9765359   0.98074828  0.98421047  0.9870541   0.98938834\n",
      "  0.99130355  0.99287433  0.99416222  0.9952179   0.99608305  0.99679194\n",
      "  0.9973727   0.99784843  0.9982381   0.99855725  0.99881862  0.99903267\n",
      "  0.99920794  0.99935147  0.999469    0.99956523  0.99964403  0.99970855\n",
      "  0.99976137  0.99980462  0.99984004  0.99986903  0.99989277  0.99991221\n",
      "  0.99992812  0.99994115  0.99995182  0.99996055  0.9999677   0.99997356\n",
      "  0.99997835  0.99998227  0.99998549  0.99998812  0.99999027  0.99999204]\n"
     ]
    }
   ],
   "source": [
    "# Have a look at the trigonometric functions listed in the official numpy documentation: \n",
    "# https://numpy.org/doc/stable/reference/routines.math.html\n",
    "# Pick any element-wise function that takes 1 numpy array as an argument and apply it to the following\n",
    "# array. store the result in a variable called Ys\n",
    "Xs = np.arange(-2*np.pi, 2*np.pi, 0.1)\n",
    "Ys = np.tanh(Xs)\n",
    "print(Ys)"
   ]
  },
  {
   "cell_type": "code",
   "execution_count": 129,
   "id": "0158d8c2",
   "metadata": {},
   "outputs": [
    {
     "data": {
      "image/png": "[encoded data removed]",
      "text/plain": [
       "<Figure size 252x252 with 1 Axes>"
      ]
     },
     "metadata": {
      "needs_background": "light"
     },
     "output_type": "display_data"
    }
   ],
   "source": [
    "# Call our previously-defined simple plot function and display your result! Give the plot a suitable title\n",
    "simple_plot(Xs, Ys, \"tanh(Xs)\")"
   ]
  },
  {
   "cell_type": "code",
   "execution_count": 130,
   "id": "cb7444e7",
   "metadata": {},
   "outputs": [
    {
     "name": "stdout",
     "output_type": "stream",
     "text": [
      "0.9999920352594386\n"
     ]
    }
   ],
   "source": [
    "# Use a suitable Numpy reduce function to find the maximum value of your function's result\n",
    "max_val = Ys.max()\n",
    "print(max_val)"
   ]
  },
  {
   "attachments": {},
   "cell_type": "markdown",
   "id": "bd2d92ce",
   "metadata": {},
   "source": [
    "## 1.4 numpy.where\n",
    "This allows us to conditionally modify the elements of an array, which can be useful for tasks like thresholding or masking."
   ]
  },
  {
   "cell_type": "code",
   "execution_count": 131,
   "id": "25e1bea8",
   "metadata": {},
   "outputs": [
    {
     "data": {
      "text/plain": [
       "array([[ 0. ,  0. ,  0. ,  0. ,  0. ,  0. ,  0. ,  0. ,  0. ,  0. ],\n",
       "       [ 0. ,  0. ,  0. ,  0. ,  0. ,  0. ,  0. ,  0. ,  0. ,  0. ],\n",
       "       [ 0. ,  0. ,  0. ,  0. ,  0. ,  0. ,  0. ,  0. ,  0. ,  0. ],\n",
       "       [ 0. ,  0. ,  0. ,  0. ,  0. ,  0. ,  0. ,  0. ,  0. ,  0. ],\n",
       "       [ 0. ,  0. ,  0. ,  0. ,  0. ,  0. ,  0. ,  0. ,  0. ,  0. ],\n",
       "       [25. , 25.5, 26. , 26.5, 27. , 27.5, 28. , 28.5, 29. , 29.5],\n",
       "       [30. , 30.5, 31. , 31.5, 32. , 32.5, 33. , 33.5, 34. , 34.5],\n",
       "       [35. , 35.5, 36. , 36.5, 37. , 37.5, 38. , 38.5, 39. , 39.5],\n",
       "       [40. , 40.5, 41. , 41.5, 42. , 42.5, 43. , 43.5, 44. , 44.5],\n",
       "       [45. , 45.5, 46. , 46.5, 47. , 47.5, 48. , 48.5, 49. , 49.5]])"
      ]
     },
     "execution_count": 131,
     "metadata": {},
     "output_type": "execute_result"
    }
   ],
   "source": [
    "big_image = np.arange(10*10).reshape(10, 10)\n",
    "big_image_thresh = np.where(big_image < 50, 0, big_image / 2)\n",
    "big_image_thresh"
   ]
  },
  {
   "attachments": {},
   "cell_type": "markdown",
   "id": "21cba204",
   "metadata": {},
   "source": [
    "### 1.4.1 Exercises\n"
   ]
  },
  {
   "cell_type": "code",
   "execution_count": 132,
   "id": "b0c50f34",
   "metadata": {},
   "outputs": [
    {
     "name": "stdout",
     "output_type": "stream",
     "text": [
      "[[0.87163067 0.29510891 0.75165945 0.55135109 0.09569675]\n",
      " [0.46090516 0.9579623  0.12648068 0.03449916 0.08861705]\n",
      " [0.97053682 0.63324143 0.35074232 0.98733841 0.81142608]\n",
      " [0.04222029 0.04999845 0.98029201 0.47929151 0.26781435]\n",
      " [0.61451358 0.48327363 0.62592263 0.64631053 0.04889921]\n",
      " [0.57206565 0.44718355 0.77988358 0.9708396  0.95868845]\n",
      " [0.4571169  0.08733939 0.83149753 0.79123784 0.03567614]\n",
      " [0.56933149 0.24462318 0.75180903 0.55798355 0.15373791]\n",
      " [0.59352978 0.32623847 0.74664981 0.27790879 0.25384295]\n",
      " [0.38577662 0.50372145 0.6600113  0.24711904 0.61008507]]\n"
     ]
    }
   ],
   "source": [
    "# Create a Numpy array of shape (10, 5) and fill it with random values between 0 and 1. Store it in a variable called J\n",
    "J = np.random.rand(10* 5).reshape(10, 5)\n",
    "print(J)"
   ]
  },
  {
   "cell_type": "code",
   "execution_count": 133,
   "id": "36292d54",
   "metadata": {},
   "outputs": [
    {
     "name": "stdout",
     "output_type": "stream",
     "text": [
      "[[1 0 1 1 0]\n",
      " [0 1 0 0 0]\n",
      " [1 1 0 1 1]\n",
      " [0 0 1 0 0]\n",
      " [1 0 1 1 0]\n",
      " [1 0 1 1 1]\n",
      " [0 0 1 1 0]\n",
      " [1 0 1 1 0]\n",
      " [1 0 1 0 0]\n",
      " [0 1 1 0 1]]\n"
     ]
    }
   ],
   "source": [
    "# Conditionally modify the array such that numbers below 0.5 are replaced with 0 and numbers above \n",
    "# or equal to 0.5 are replaced with 1. Store the result in a variable called K\n",
    "K = np.where(J < 0.5, 0, 1)\n",
    "print(K)"
   ]
  },
  {
   "attachments": {},
   "cell_type": "markdown",
   "id": "1e67bef4",
   "metadata": {},
   "source": [
    "## 1.5 Practical example\n",
    "\n",
    "Putting everything together for a practical example, and visulalise the output of some Numpy operations"
   ]
  },
  {
   "cell_type": "code",
   "execution_count": 134,
   "id": "053dfac8",
   "metadata": {},
   "outputs": [],
   "source": [
    "# Defining some helper functions\n",
    "def plot_point(point):\n",
    "    plt.rcParams[\"figure.figsize\"] = [3.50, 3.50]\n",
    "    plt.rcParams[\"figure.autolayout\"] = True\n",
    "    x = point[0]\n",
    "    y = point[1]\n",
    "    \n",
    "    lims = 3\n",
    "    fig = plt.figure()\n",
    "    ax = fig.add_subplot(111)\n",
    "    plt.xlim(-lims, lims)\n",
    "    plt.ylim(-lims, lims)\n",
    "    plt.grid()\n",
    "    ax.plot(x, y, marker=\"o\", markersize=7, markeredgecolor=\"black\", markerfacecolor=\"red\")\n",
    "    ax.spines['left'].set_position('zero')\n",
    "    ax.spines['right'].set_color('none')\n",
    "    ax.spines['bottom'].set_position('zero')\n",
    "    ax.spines['top'].set_color('none')\n",
    "    plt.show()\n",
    "\n",
    "\n",
    "\n",
    "# This function returns an np array that describes a 2d rotation \n",
    "# matrix [https://www1.udel.edu/biology/rosewc/kaap686/notes/matrices_rotations.pdf]. \n",
    "# These kinds of structures are often used in computer graphics to rotate and translate points in space\n",
    "def get_rot_clockwise_matrix(angle):\n",
    "    return np.array([\n",
    "        [ np.cos(angle), np.sin(angle)],\n",
    "        [-np.sin(angle), np.cos(angle)]\n",
    "    ])"
   ]
  },
  {
   "cell_type": "code",
   "execution_count": 135,
   "id": "e5bedc69",
   "metadata": {},
   "outputs": [
    {
     "name": "stdout",
     "output_type": "stream",
     "text": [
      "[0.95283504 0.43576252]\n"
     ]
    }
   ],
   "source": [
    "# Create a random 2-element array containing values from 0 - 1. Assign this array to a variable `p`\n",
    "p = np.random.rand(2)\n",
    "print(p)"
   ]
  },
  {
   "cell_type": "code",
   "execution_count": 136,
   "id": "d3454cb0",
   "metadata": {},
   "outputs": [
    {
     "name": "stdout",
     "output_type": "stream",
     "text": [
      "[1.90567007 0.87152504]\n"
     ]
    }
   ],
   "source": [
    "# Use scalar multiplication to double the value of the elements in `p`. Assign the result back to `p`\n",
    "p = 2 * p\n",
    "print(p)"
   ]
  },
  {
   "cell_type": "code",
   "execution_count": 137,
   "id": "00655ac8",
   "metadata": {},
   "outputs": [
    {
     "data": {
      "image/png": "[encoded data removed]",
      "text/plain": [
       "<Figure size 252x252 with 1 Axes>"
      ]
     },
     "metadata": {
      "needs_background": "light"
     },
     "output_type": "display_data"
    }
   ],
   "source": [
    "# Reshape `p` to be (2, 1), assign the result to `p` and plot the point.\n",
    "p = p.reshape(2, 1)\n",
    "plot_point(p)"
   ]
  },
  {
   "cell_type": "code",
   "execution_count": 138,
   "id": "1937533d",
   "metadata": {},
   "outputs": [
    {
     "name": "stdout",
     "output_type": "stream",
     "text": [
      "126.41757241179826\n"
     ]
    }
   ],
   "source": [
    "# We will now rotate this point about the origin of the plot using the funciton we defined above\n",
    "# This cell is just some setup for the rest of the exercise, just run it once\n",
    "min_angle = np.pi/2 # 90 degrees\n",
    "max_angle = np.pi   # 180 degrees\n",
    "angle = np.random.uniform(min_angle, max_angle) # get a random angle between 90 and 180 degrees\n",
    "print(np.degrees(angle)) # print the angle in degrees so we can check the rotation is correct!"
   ]
  },
  {
   "cell_type": "code",
   "execution_count": 139,
   "id": "0ea1d746",
   "metadata": {},
   "outputs": [
    {
     "name": "stdout",
     "output_type": "stream",
     "text": [
      "[[-0.59366572  0.80471176]\n",
      " [-0.80471176 -0.59366572]]\n"
     ]
    }
   ],
   "source": [
    "# Call the previously-defined roation matrix function with the angle. Assign the result to \n",
    "# a variable called `rot90`\n",
    "rot = get_rot_clockwise_matrix(angle)\n",
    "print(rot)\n"
   ]
  },
  {
   "cell_type": "code",
   "execution_count": 140,
   "id": "350ff0ba",
   "metadata": {},
   "outputs": [
    {
     "data": {
      "image/png": "[encoded data removed]",
      "text/plain": [
       "<Figure size 252x252 with 1 Axes>"
      ]
     },
     "metadata": {
      "needs_background": "light"
     },
     "output_type": "display_data"
    }
   ],
   "source": [
    "# Apply a matrix multiplication operation between rot90 and p. assign the result back to p and plot it.\n",
    "p = np.matmul(rot, p)\n",
    "plot_point(p)\n"
   ]
  },
  {
   "cell_type": "code",
   "execution_count": 141,
   "id": "65e93aeb",
   "metadata": {},
   "outputs": [
    {
     "name": "stdout",
     "output_type": "stream",
     "text": [
      "[[2]\n",
      " [2]]\n"
     ]
    }
   ],
   "source": [
    "# Create an array named `translation` which has the same shape as `p`, and fill it with 2's\n",
    "translation = np.full(p.shape, 2)\n",
    "print(translation)"
   ]
  },
  {
   "cell_type": "code",
   "execution_count": 142,
   "id": "0fff9269",
   "metadata": {},
   "outputs": [
    {
     "data": {
      "image/png": "[encoded data removed]",
      "text/plain": [
       "<Figure size 252x252 with 1 Axes>"
      ]
     },
     "metadata": {
      "needs_background": "light"
     },
     "output_type": "display_data"
    }
   ],
   "source": [
    "# Add this result to p and plot it!\n",
    "p = p + translation\n",
    "plot_point(p)\n"
   ]
  }
 ],
 "metadata": {
  "kernelspec": {
   "display_name": "Python 3 (ipykernel)",
   "language": "python",
   "name": "python3"
  },
  "language_info": {
   "codemirror_mode": {
    "name": "ipython",
    "version": 3
   },
   "file_extension": ".py",
   "mimetype": "text/x-python",
   "name": "python",
   "nbconvert_exporter": "python",
   "pygments_lexer": "ipython3",
   "version": "3.10.4"
  }
 },
 "nbformat": 4,
 "nbformat_minor": 5
}
