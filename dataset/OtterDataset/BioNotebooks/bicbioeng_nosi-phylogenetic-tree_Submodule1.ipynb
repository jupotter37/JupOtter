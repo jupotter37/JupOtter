{
 "cells": [
  {
   "cell_type": "markdown",
   "id": "1b7e0f11-40d7-47e4-a64d-f623601d38f6",
   "metadata": {},
   "source": [
    "# Submodule #1: Understanding the Basics of Phylogenetic Trees\n",
    "\n",
    "### Introduction to Phylogenetics\n",
    "\n",
    "Phylogenetics is the study of evolutionary relationships among organisms using genetic or phenotypic data. It uses genetic data (like DNA) or phenotypic data (traits like size or color) to understand these relationships. By comparing similarities and differences, scientists can create evolutionary trees (called phylogenetic trees) that show how species share common ancestors and have evolved over time.\n",
    "\n",
    "To illustrate its importance, consider the COVID-19 pandemic. Researchers around the world have used phylogenetic trees to:\n",
    " - Track the spread and mutation of SARS-CoV-2.\n",
    " - Identify emerging variants and their ancestral relationships.\n",
    " - Understand how the virus evolves over time and across populations.\n",
    "\n",
    "This module builds foundational skills to analyze and visualize phylogenetic trees using Python. By the end, these skills can be applied to real-world biological datasets, including COVID-19 genomic data.\n",
    "\n",
    "\n",
    "\n",
    "\n"
   ]
  },
  {
   "cell_type": "markdown",
   "id": "355a9996-3b47-4f5f-a669-e3ac9500d508",
   "metadata": {},
   "source": [
    "# Learning Objectives:\n",
    "\n",
    "Phylogenetics explores the evolutionary connections and ancestral relationships among organisms, providing insights into their genetic and evolutionary history. This submodule introduces the foundational concepts of phylogenetic trees, helping learners understand their structure, purpose, and applications in biological research. By the end of this module, learners will be able to define and interpret phylogenetic trees, recognize their importance in mapping genetic changes and understanding biodiversity, and apply practical skills to construct and analyze phylogenetic trees using Python for real-world biological data.\n",
    "\n",
    "- **What You'll Learn:**\n",
    "    - Basics of phylogenetic trees and their significance.\n",
    "    - Steps to create and interpret different tree types (Rooted, Unrooted, Cladograms, Phylograms, Dendrograms).\n",
    "    - Hands-on examples using Python for visualizations.\n",
    "- **Tools and Libraries:** \n",
    "    - `Biopython` for phylogenetic analysis.\n",
    "    - `Matplotlib` for visualization.\n",
    "    - Real-world biological data in Newick format.\n",
    "- **Why It Matters:**\n",
    "    - Phylogenetic trees provide insights into evolutionary history, biodiversity, and genetic variation.\n",
    "    - Understanding these trees is critical for applications in genomics, disease research, and conservation biology.\n",
    "\n"
   ]
  },
  {
   "cell_type": "markdown",
   "id": "14021b68-9436-4548-969c-db9d8ab0fd92",
   "metadata": {},
   "source": [
    "----------------------------------------------------------------------------------------------------------------\n",
    "# Training Plan "
   ]
  },
  {
   "cell_type": "markdown",
   "id": "8b2c2065-1f55-4903-b257-481c36c45aa2",
   "metadata": {},
   "source": [
    "<font color=\"green\"> **Submodule #1: Understanding the Basics of Phylogenetic** </font>\n",
    "\n",
    " \n",
    "Submodule #2: Collect and Prepare Sequence Data and Analysis\n",
    "\n",
    "\n",
    "Submodule #3: Construct Phylogenetic Tree\n",
    "\n",
    " \n",
    "Submodule #4: Analyze Phylogenetic Tree"
   ]
  },
  {
   "cell_type": "markdown",
   "id": "cf83e963-0240-4b96-94f1-fd24527e6bea",
   "metadata": {},
   "source": [
    "-------------------------------------------------------------------------------------------------------------------"
   ]
  },
  {
   "cell_type": "markdown",
   "id": "65e9f611-6f95-4b1c-b34e-2f8d2e9440d1",
   "metadata": {},
   "source": [
    "## What is a Phylogenetic Tree?\n",
    "Imagine tracing your family tree to uncover your ancestry and relationships with relatives. A phylogenetic tree works similarly, but instead of human relatives, it maps the evolutionary history of organisms. It illustrates how species are connected, showing shared ancestry and how closely related they are based on genetic or physical traits.\n",
    "\n",
    "For example, consider a phylogenetic tree of primates. It reveals how humans, chimpanzees, gorillas, and orangutans share common ancestors and highlights their evolutionary divergence. A phylogenetic tree is essentially a hypothesis that depicts evolutionary pathways and relationships.\n",
    "\n",
    "Example: COVID-19 Variants\n",
    "During the COVID-19 pandemic, phylogenetic trees were essential in understanding the virus's evolution. For instance, comparing genetic sequences of SARS-CoV-2 samples from different regions helped scientists:\n",
    " - Identify new variants like Alpha, Delta, and Omicron\n",
    " - Trace how these variants spread geographically.\n",
    " - Predict future mutations and design targeted public health responses."
   ]
  },
  {
   "cell_type": "markdown",
   "id": "5f10e824-1941-471e-94d4-117ccfe3b69e",
   "metadata": {},
   "source": [
    "## Why Are Phylogenetic Trees Important?\n",
    "\n",
    "Phylogenetic trees are powerful tools for visualizing and understanding the relationships among organisms, genes, or pathogens. They play a central role in many fields, including evolutionary biology, disease research, and conservation. Here’s a detailed breakdown of their importance, with real-world examples like COVID-19:\n",
    "\n",
    "1. **Tracing Evolutionary Pathways:** Phylogenetic trees help scientists understand the origins and evolutionary history of species, populations, or pathogens. They reveal how organisms are related to one another through a shared common ancestor and show the timeline of divergence. Example: COVID-19 When SARS-CoV-2 first emerged, scientists constructed phylogenetic trees to trace its origins. By comparing the genetic sequence of SARS-CoV-2 to other coronaviruses, researchers found that it likely originated from a bat coronavirus and later jumped to humans. Phylogenetic analysis continues to track how the virus evolves, leading to new variants like Delta, Omicron, and their sublineages.\n",
    "2. **Mapping Genetic Changes:** Phylogenetic trees allow us to identify and track mutations and genetic divergence over time. This is particularly important for studying pathogens, as mutations can impact their transmissibility, severity, or resistance to treatment.\n",
    "Example: Tracking SARS-CoV-2 Mutations\n",
    "As SARS-CoV-2 spreads, it accumulates mutations in its genome. Scientists use phylogenetic trees to map these changes and understand their significance. For instance:\n",
    "   - **The Delta variant**: Known for increased transmissibility.\n",
    "   - **The Omicron variant**: Has numerous mutations in its spike protein, which affects vaccine efficacy.\n",
    "By visualizing these changes on a phylogenetic tree, researchers can predict how future variants might evolve and prepare vaccines or treatments accordingly.\n",
    "           \n",
    "3. **Understanding Biodiversity:** Phylogenetic trees help us explore how species diversify, adapt, and evolve over time. They show relationships among organisms and help identify patterns of adaptation to different environments.\n",
    "Example: Bird Species Adaptation\n",
    "In evolutionary biology, phylogenetic trees have been used to study Darwin’s finches on the Galápagos Islands. The trees revealed how the finches adapted to different niches, leading to the evolution of distinct beak shapes that suited their food sources. This example highlights how evolutionary pressures drive biodiversity.\n",
    "4. **Disease Research:** Phylogenetic trees are essential for tracking the spread and evolution of infectious diseases. They help identify the origin of outbreaks, monitor how pathogens evolve, and guide public health responses.\n",
    "   Example: Global Spread of COVID-19\n",
    "   During the COVID-19 pandemic, phylogenetic trees were used to:\n",
    "   - **Trace Spread:** Show how SARS-CoV-2 traveled between countries. For example, variants found in the UK and          South Africa spread globally.\n",
    "   - **Monitor Evolution:** Identify how and when new variants emerged. For instance, the Alpha variant emerged in        the UK, followed by Beta in South Africa and Delta in India.\n",
    "   - **Inform Decisions:** Governments and health agencies used this data to implement travel restrictions, update        vaccines, and develop targeted interventions.\n"
   ]
  },
  {
   "cell_type": "markdown",
   "id": "9edbad5f-d997-4733-85dc-1043a75f98ac",
   "metadata": {},
   "source": [
    "## How Are Phylogenetic Trees Created?\n",
    "### To construct accurate phylogenetic trees, researchers rely on various data sources:\n",
    "\n",
    "1. **Genetic Sequences:** The primary data used in phylogenetic analysis are DNA, RNA, or protein sequences obtained from different species or strains. These sequences are compared to identify similarities and differences.\n",
    "2. **Public Databases:** Genetic sequence data can be accessed from public repositories like GenBank, EMBL, and DDBJ, which maintain comprehensive and annotated genetic information for numerous organisms.\n",
    "3. **Genomic Projects:** Large-scale genomic projects, such as the Human Genome Project or the 1000 Genomes Project, provide extensive datasets that can be utilized for phylogenetic studies.\n",
    "4. **Sequencing Technologies:** Advances in sequencing technologies, like next-generation sequencing (NGS), have made it easier and more cost-effective to obtain high-quality genetic data for a wide range of organisms.\n"
   ]
  },
  {
   "cell_type": "markdown",
   "id": "2d6d38ce-bdbd-4434-ad2b-d84f689acc0d",
   "metadata": {},
   "source": [
    "## Types of Phylogenetic Trees and Their Applications\n",
    "#### 1. **Rooted Trees:**\n",
    "A rooted tree includes a single common ancestor, represented by the root, from which all other branches diverge. The direction of the branches shows the passage of time and evolutionary divergence.\n",
    "Example: COVID-19 Variant Tracking.\n",
    "Below is a Python visualization of a rooted tree comparing COVID-19 variants:\n"
   ]
  },
  {
   "cell_type": "code",
   "execution_count": null,
   "id": "44127754-24a8-4a20-8645-b4f3a1c2e2a3",
   "metadata": {},
   "outputs": [],
   "source": [
    "from Bio import Phylo\n",
    "from io import StringIO\n",
    "import matplotlib.pyplot as plt\n",
    "\n",
    "# Hypothetical rooted tree for COVID-19 variants in Newick format\n",
    "covid_rooted_tree = \"((Alpha:0.2, Delta:0.3):0.5, (Omicron:0.4, Beta:0.6):0.3);\"\n",
    "tree = Phylo.read(StringIO(covid_rooted_tree), \"newick\")\n",
    "\n",
    "# Visualization\n",
    "fig, ax = plt.subplots(figsize=(10, 6))\n",
    "Phylo.draw(tree, axes=ax)\n",
    "ax.set_title(\"Rooted Tree: COVID-19 Variants Evolution\", fontsize=14, weight='bold')\n",
    "plt.show()"
   ]
  },
  {
   "cell_type": "markdown",
   "id": "3a9034ff-1dee-4537-983f-16b37b1d2f42",
   "metadata": {},
   "source": [
    "- **Interpretation**: This rooted tree helps trace how different variants evolved from a common ancestor."
   ]
  },
  {
   "cell_type": "code",
   "execution_count": null,
   "id": "f7facfe2-a7ba-4bb1-85c1-ce3ac93a1e07",
   "metadata": {},
   "outputs": [],
   "source": [
    "from Bio import Phylo\n",
    "from io import StringIO\n",
    "import matplotlib.pyplot as plt\n",
    "\n",
    "# Newick format representing a rooted tree for mammals\n",
    "rooted_tree = \"((Human:0.6, Chimpanzee:0.6):0.4, (Dog:0.8, (Cat:0.7, Mouse:0.7):0.3):0.2);\"\n",
    "tree = Phylo.read(StringIO(rooted_tree), \"newick\")\n",
    "\n",
    "# Visualization\n",
    "fig, ax = plt.subplots(figsize=(12, 8))\n",
    "Phylo.draw(tree, axes=ax)\n",
    "ax.set_title(\"Rooted Tree: Evolutionary Relationships Among Mammals\", fontsize=14, weight='bold')\n",
    "plt.show()\n"
   ]
  },
  {
   "cell_type": "markdown",
   "id": "5ea73a35-cc96-48ef-9bad-e75fb711bfb6",
   "metadata": {},
   "source": [
    "### **Exercise 1**\n",
    "##### **Create a Rooted Tree using the following dataset:**\n",
    "##### Dataset 1: Avian Species Evolution\n",
    "##### The dataset is provided in Newick format:\n",
    "##### ((Sparrow:0.3, Crow:0.4):0.2, (Eagle:0.5, Hawk:0.6):0.3);\n",
    "Note: The Newick format will be discussed in Submodule 3."
   ]
  },
  {
   "cell_type": "code",
   "execution_count": null,
   "id": "5d9a968b-4a36-47fe-aab2-f042810274f5",
   "metadata": {},
   "outputs": [],
   "source": [
    "from IPython.display import IFrame\n",
    "IFrame(\"Exercises/answers1.html\", width=800, height=350)"
   ]
  },
  {
   "cell_type": "markdown",
   "id": "6d0a3735-dd1a-4fdf-b1df-286c88045aee",
   "metadata": {},
   "source": [
    "#### 2. **Unrooted Tree**\n",
    "\n",
    "Unrooted trees do not indicate a common ancestor. They depict relationships between species without implying       evolutionary direction or time.\n",
    "Example: Genetic Similarity Among COVID-19 Strains."
   ]
  },
  {
   "cell_type": "code",
   "execution_count": null,
   "id": "93172fd5-305e-48ff-bdea-17763391ec68",
   "metadata": {},
   "outputs": [],
   "source": [
    "covid_unrooted_tree = \"(Alpha, Delta, Omicron, Beta);\"\n",
    "tree = Phylo.read(StringIO(covid_unrooted_tree), \"newick\")\n",
    "\n",
    "# Visualization\n",
    "fig = plt.figure(figsize=(8, 6))\n",
    "ax = fig.add_subplot(1, 1, 1)\n",
    "Phylo.draw(tree, axes=ax)\n",
    "ax.set_title(\"Unrooted Tree: COVID-19 Variants Relationship\", fontsize=14, weight='bold')\n",
    "plt.show()"
   ]
  },
  {
   "cell_type": "markdown",
   "id": "4fe5b176-b02a-4241-8ac0-137722b10d72",
   "metadata": {},
   "source": [
    "- **When to Use**: Unrooted trees are helpful when ancestry is unknown or not relevant."
   ]
  },
  {
   "cell_type": "code",
   "execution_count": null,
   "id": "d7bab8d2-1bb2-4354-ad4e-2d5a1f626403",
   "metadata": {},
   "outputs": [],
   "source": [
    "from Bio import Phylo\n",
    "from io import StringIO\n",
    "import matplotlib.pyplot as plt\n",
    "\n",
    "# Newick format for an unrooted tree comparing microbial communities\n",
    "unrooted_tree = \"(Bacteria, Archaea, Eukaryota);\"\n",
    "tree = Phylo.read(StringIO(unrooted_tree), \"newick\")\n",
    "\n",
    "# Visualization\n",
    "fig = plt.figure(figsize=(8, 6))\n",
    "ax = fig.add_subplot(1, 1, 1)\n",
    "Phylo.draw(tree, axes=ax)\n",
    "ax.set_title(\"Unrooted Tree: Microbial Communities\", fontsize=14, weight='bold')\n",
    "plt.show()"
   ]
  },
  {
   "cell_type": "markdown",
   "id": "3f697194-4b54-48cb-9033-919550155476",
   "metadata": {},
   "source": [
    "### Exercise 2\n",
    "### **Interactive Question: Rooting an Unrooted Tree**\n",
    "##### Given the following unrooted tree for Microbial Communities:\n",
    "###### ***(Bacteria, Archaea, Eukaryota);***\n",
    "##### Tasks:\n",
    "- Visualize the unrooted tree using Biopython.\n",
    "- Root the tree again, but this time use \"Archaea\" as the outgroup.\n",
    "- Compare the two rooted trees:\n",
    "- How do the relationships between Bacteria, Archaea, and Eukaryota change?\n",
    "- Which rooting method provides a more meaningful representation, and why?\n",
    "\n"
   ]
  },
  {
   "cell_type": "code",
   "execution_count": null,
   "id": "0fed2ac9-0920-4b78-b7d6-34552f28dd36",
   "metadata": {},
   "outputs": [],
   "source": [
    "from IPython.display import IFrame\n",
    "IFrame(\"Exercises/answers2.html\", width=800, height=350)"
   ]
  },
  {
   "cell_type": "markdown",
   "id": "68521ceb-bc3f-4658-9f9c-dcfc41424fd3",
   "metadata": {},
   "source": [
    "#### 3. **Cladograms:**\n",
    "\n",
    "Cladograms focus on branching order, showing relationships between species but not providing information about branch lengths or evolutionary distances.\n",
    "Example: Evolutionary Relationship of Primates\n",
    "   "
   ]
  },
  {
   "cell_type": "code",
   "execution_count": null,
   "id": "42225b8b-d235-433e-af15-3e9384372773",
   "metadata": {},
   "outputs": [],
   "source": [
    "cladogram = \"(((Human, Chimpanzee), Gorilla), Orangutan);\"\n",
    "tree = Phylo.read(StringIO(cladogram), \"newick\")\n",
    "\n",
    "# Visualization\n",
    "fig, ax = plt.subplots(figsize=(10, 6))\n",
    "Phylo.draw(tree, axes=ax)\n",
    "ax.set_title(\"Cladogram: Evolution of Primates\", fontsize=14, weight='bold')\n",
    "plt.show()"
   ]
  },
  {
   "cell_type": "markdown",
   "id": "f5ab16ae-5afb-47b1-8ba1-fadcc9cf187a",
   "metadata": {},
   "source": [
    "- **Why It Matters**: Cladograms focus on relationships rather than evolutionary time.\n",
    "\n"
   ]
  },
  {
   "cell_type": "code",
   "execution_count": null,
   "id": "d7e6cbf9-5db7-495c-a59a-98ae63e0d0cb",
   "metadata": {},
   "outputs": [],
   "source": [
    "from Bio import Phylo\n",
    "from io import StringIO\n",
    "import matplotlib.pyplot as plt\n",
    "\n",
    "# Newick format for a cladogram (branching order only)\n",
    "cladogram = \"(((Frog, Lizard), (Bird, Mammal)), Fish);\"\n",
    "tree = Phylo.read(StringIO(cladogram), \"newick\")\n",
    "\n",
    "# Visualization\n",
    "fig, ax = plt.subplots(figsize=(10, 8))\n",
    "Phylo.draw(tree, axes=ax)\n",
    "ax.set_title(\"Cladogram: Vertebrate Evolution\", fontsize=14, weight='bold')\n",
    "plt.show()"
   ]
  },
  {
   "cell_type": "markdown",
   "id": "25ca743f-6714-4bec-a990-e3923051e1e4",
   "metadata": {},
   "source": [
    "### Exercise 3\n",
    "#### Using the following Newick format:\n",
    "(((Human, Chimpanzee), Gorilla), Orangutan);\n",
    "Which species are most closely related in the cladogram?"
   ]
  },
  {
   "cell_type": "code",
   "execution_count": null,
   "id": "0c304f89-6963-42fc-b318-83238f5541ac",
   "metadata": {},
   "outputs": [],
   "source": [
    "from IPython.display import IFrame\n",
    "IFrame(\"Exercises/answers3.html\", width=800, height=350)"
   ]
  },
  {
   "cell_type": "markdown",
   "id": "6d7d1360-a3c5-42d7-aa6e-9065730d5d71",
   "metadata": {},
   "source": [
    "#### 4. **Phylograms**\n",
    "Phylograms provide information on both branching order and branch lengths, which represent evolutionary changes.\n",
    "Example: Genetic Divergence in Fruit Flies"
   ]
  },
  {
   "cell_type": "code",
   "execution_count": null,
   "id": "468cf299-5db8-4a4a-be50-a820deb847c0",
   "metadata": {},
   "outputs": [],
   "source": [
    "phylogram = \"((Drosophila_melanogaster:0.4, Drosophila_simulans:0.5):0.3, Drosophila_yakuba:0.6);\"\n",
    "tree = Phylo.read(StringIO(phylogram), \"newick\")\n",
    "\n",
    "# Visualization\n",
    "fig, ax = plt.subplots(figsize=(10, 6))\n",
    "Phylo.draw(tree, axes=ax)\n",
    "ax.set_title(\"Phylogram: Genetic Divergence in Fruit Flies\", fontsize=14, weight='bold')\n",
    "plt.show()"
   ]
  },
  {
   "cell_type": "markdown",
   "id": "c724c1a3-9a90-4ef9-8ee2-ba7a853b3006",
   "metadata": {},
   "source": [
    "- **Why It Matters**: Useful for understanding evolutionary rates and genetic distances.\n",
    "\n"
   ]
  },
  {
   "cell_type": "markdown",
   "id": "37015713-c1b3-4eb9-95e6-8021ed25800c",
   "metadata": {},
   "source": [
    "#### Exercises 4\n",
    "##### Visualize the Phylogram: Use the provided Newick format to visualize the genetic divergence among fruit flies:\n",
    "##### ((A:0.2,B:0.3):0.4,C:0.5);\n",
    "\n"
   ]
  },
  {
   "cell_type": "code",
   "execution_count": null,
   "id": "06876845-0673-4d77-9b3f-1632e5d3848e",
   "metadata": {},
   "outputs": [],
   "source": [
    "from IPython.display import IFrame\n",
    "IFrame(\"Exercises/answers4.html\", width=800, height=350)"
   ]
  },
  {
   "cell_type": "markdown",
   "id": "54993434-0128-44d6-9001-3e857704281c",
   "metadata": {},
   "source": [
    "#### 5. **Dendrograms**:\n",
    "    \n",
    "Dendrograms include hierarchical clustering information and are useful in fields like genomics and linguistics.\n",
    "Example: Gene Expression Analysis"
   ]
  },
  {
   "cell_type": "code",
   "execution_count": null,
   "id": "8a625ce7-7ed2-4b08-9e72-e9112789b305",
   "metadata": {},
   "outputs": [],
   "source": [
    "from scipy.cluster.hierarchy import dendrogram, linkage\n",
    "import matplotlib.pyplot as plt\n",
    "import numpy as np\n",
    "from scipy.spatial.distance import squareform\n",
    "\n",
    "# Sample data\n",
    "genes = ['GeneA', 'GeneB', 'GeneC', 'GeneD', 'GeneE']\n",
    "similarity_data = np.array([\n",
    "    [0, 2, 4, 6, 8],\n",
    "    [2, 0, 3, 5, 7],\n",
    "    [4, 3, 0, 2, 4],\n",
    "    [6, 5, 2, 0, 3],\n",
    "    [8, 7, 4, 3, 0]\n",
    "])\n",
    "\n",
    "# Clustering\n",
    "linkage_matrix = linkage(squareform(similarity_data), method='ward')\n",
    "\n",
    "# Visualization\n",
    "plt.figure(figsize=(10, 7))\n",
    "dendrogram(linkage_matrix, labels=genes, leaf_rotation=45)\n",
    "plt.title(\"Dendrogram: Gene Clustering\", fontsize=14, weight='bold')\n",
    "plt.xlabel(\"Genes\")\n",
    "plt.ylabel(\"Distance\")\n",
    "plt.show()"
   ]
  },
  {
   "cell_type": "markdown",
   "id": "68bdafe0-73db-4135-ad4e-cb8fb1efb2f9",
   "metadata": {},
   "source": [
    "## Why Choose a Specific Tree Type?\n",
    "\n",
    "1. **Rooted Trees**: Ideal for understanding evolutionary direction and common ancestry.\n",
    "\n",
    "2. **Unrooted Trees**: Best for visualizing relationships when ancestral information is unavailable.\n",
    "\n",
    "3. **Cladograms**: Focus on relationships without evolutionary time.\n",
    "\n",
    "4. **Phylograms**: Combine evolutionary relationships with branch lengths for quantitative analysis.\n",
    "\n",
    "5. **Dendrograms**: Use clustering for hierarchical relationships in data."
   ]
  },
  {
   "cell_type": "markdown",
   "id": "8b8433cb-89a6-4ff7-a57a-41f9724cb74e",
   "metadata": {},
   "source": [
    "## Summary ##\n",
    "\n",
    "Phylogenetic trees are powerful tools for visualizing evolutionary relationships and understanding genetic changes. In the context of COVID-19, they help trace variants, study mutations, and inform public health strategies.\n",
    "\n",
    "By mastering the tools and concepts in this module, you will:\n",
    "\n",
    "- Interpret and analyze biological data.\n",
    "\n",
    "- Construct phylogenetic trees using Python.\n",
    "\n",
    "- Solve real-world problems like tracking disease evolution.\n",
    "\n",
    "\n",
    "  In next module we will study about \"Collect and Prepare Sequence Data\". It is the preprocessing step for constructing phylogenetic Tree.\n",
    "\n"
   ]
  },
  {
   "cell_type": "markdown",
   "id": "a067c7be-1d25-4d1a-a5fe-0670b4b2f59f",
   "metadata": {},
   "source": [
    "# Interactive Quiz\n",
    "The following quiz will help reinforce the understanding of phylogenetics:"
   ]
  },
  {
   "cell_type": "code",
   "execution_count": null,
   "id": "99105550-9e02-4a3c-8ed3-90713ca843a9",
   "metadata": {},
   "outputs": [],
   "source": [
    "from IPython.display import IFrame\n",
    "IFrame(\"Quiz/QS1.html\", width=800, height=350)"
   ]
  }
 ],
 "metadata": {
  "kernelspec": {
   "display_name": "Python 3 (ipykernel)",
   "language": "python",
   "name": "python3"
  },
  "language_info": {
   "codemirror_mode": {
    "name": "ipython",
    "version": 3
   },
   "file_extension": ".py",
   "mimetype": "text/x-python",
   "name": "python",
   "nbconvert_exporter": "python",
   "pygments_lexer": "ipython3",
   "version": "3.10.14"
  }
 },
 "nbformat": 4,
 "nbformat_minor": 5
}
