{
 "cells": [
  {
   "cell_type": "markdown",
   "metadata": {},
   "source": [
    "## Set Up Neo4j Environment"
   ]
  },
  {
   "cell_type": "markdown",
   "metadata": {},
   "source": [
    "Start by creating Neo4jGraph instance"
   ]
  },
  {
   "cell_type": "code",
   "execution_count": 2,
   "metadata": {},
   "outputs": [],
   "source": [
    "import os\n",
    "from dotenv import load_dotenv\n",
    "from langchain_community.graphs import Neo4jGraph\n",
    "\n",
    "\n",
    "# Load from environment\n",
    "load_dotenv('.env', override=True)\n",
    "NEO4J_URI = os.getenv('NEO4J_URI')\n",
    "NEO4J_USERNAME = os.getenv('NEO4J_USERNAME')\n",
    "NEO4J_PASSWORD = os.getenv('NEO4J_PASSWORD')\n",
    "OPENAI_API_KEY = os.getenv('OPENAI_API_KEY')\n",
    "graph = Neo4jGraph(refresh_schema=False)"
   ]
  },
  {
   "cell_type": "markdown",
   "metadata": {},
   "source": [
    "## Chunk Text"
   ]
  },
  {
   "cell_type": "markdown",
   "metadata": {},
   "source": [
    "In the microsoft paper, it is recommended to use smaller chunk sizes (~600) to extract more entities overall. The steps for this section are:\n",
    "- Import PDFs for this example (lets use 2 papers)\n",
    "- Convert PDF to markdown or txt files (use matextract workflow as basis)\n",
    "- Chunk text from articles (will have to explore best way to do this)"
   ]
  },
  {
   "cell_type": "markdown",
   "metadata": {},
   "source": [
    "Covert pdf to md using marker:"
   ]
  },
  {
   "cell_type": "code",
   "execution_count": 3,
   "metadata": {},
   "outputs": [
    {
     "name": "stdout",
     "output_type": "stream",
     "text": [
      "/bin/bash: line 1: marker_single: command not found\n"
     ]
    }
   ],
   "source": [
    "#! marker_single data/pdf/10.1038s41586-019-1798-7.pdf data/md --langs English\n",
    "! marker data/pdf/10-DOIs-for-KG data/md --workers 10 "
   ]
  },
  {
   "cell_type": "markdown",
   "metadata": {},
   "source": [
    "Clean up markdown file, removing sections, etc. For this example, I'll do a more simple approach and use just one .md file. We'll take the text and save it as a single chunk.\n",
    "\n",
    "To scale this workflow, we'd use multiple chunks (from multiple papers), instead of just one. We could use a vector database to store a lot of chunks, and retrieve the most relevant ones.\n",
    "\n",
    "ChemNLP offers a more thorough workflow for cleaning up .md files generated from scholarly articles."
   ]
  },
  {
   "cell_type": "code",
   "execution_count": 3,
   "metadata": {},
   "outputs": [
    {
     "name": "stdout",
     "output_type": "stream",
     "text": [
      "This article is published as part of the *Dalton Transactions* **themed issue entitled:** \n",
      "\n",
      "# New Talent Asia\n",
      "\n",
      "Highlighting the excellent work being carried out by younger members of the inorganic academic community in Asia Guest Editor Masahiro Yamashita Tohoku University, Japan Published in issue 10, 2011 of *Dalton Transactions*\n",
      "\n",
      "![0_image_0.png](0_image_0.png)\n",
      "\n",
      "Image reproduced with permission of Kenneth Kam-Wing Lo Articles in the issue include: PERSPECTIVES: Pyrazolin-4-ylidenes: a new class of intriguing ligands Yuan Han and Han Vinh Huynh, *Dalton Trans*., 2011, DOI: 10.1039/C0DT01037E Solvent induced molecular magnetic changes observed in single-crystal-to-single-crystal transformation Zheng-Ming Hao and Xian-Ming Zhang, *Dalton Trans*., 2011, DOI: 10.1039/C0DT00979B, ARTICLES: \n",
      "Negative thermal expansion emerging upon structural phase transition in ZrV2O7 and HfV2O7 Yasuhisa Yamamura, Aruto Horikoshi, Syuma Yasuzuka, Hideki Saitoh and Kazuya Saito Dalton Trans., 2011, DOI: 10.1039/C0DT01087A \n",
      "Preparation of surface molecularly imprinted Ru-complex catalysts for asymmetric transfer hydrogenation in water media Zhihuan Weng, Satoshi Muratsugu, Nozomu Ishiguro, Shin-ichi Ohkoshi and Mizuki Tada Dalton Trans., 2011, DOI: 10.1039/C0DT00950D \n",
      "Visit the *Dalton Transactions* website for more cutting-edge inorganic and organometallic research www.rsc.org/dalton\n",
      "\n",
      "# Microporous Sensor: Gas Sorption, Guest Exchange And Guest-Dependant Luminescence Of Metal–Organic Framework†\n",
      "\n",
      "Sergey A. Sapchenko,a Denis G. Samsonenko,*a,b Danil N. Dybtsev,a,c Maxim S. Melgunovd and Vladimir P. Fedina,b Received 12th August 2010, Accepted 14th October 2010 DOI: 10.1039/c0dt00999g Zn(II)-containing metal–organic framework (MOF) [Zn4(dmf)(ur)2(ndc)4] (ndc2- =\n",
      "2,6-naphtalenedicarboxylate, ur = urotropin, dmf = N,N¢-dimethylformamide) was synthesized and characterized by X-ray crystallography and gas sorption analysis. Host MOF retains its crystallinity after guest removal and exchange. Single-crystal to single-crystal formation of different host–guest systems with benzene and ferrocene was investigated. Interesting guest-depended luminescence properties of the porous host framework were observed.\n",
      "\n",
      "## Introduction\n",
      "\n",
      "Metal–organic coordination polymers constructed from metal ions and organic bridging ligands have attracted considerable attention in recent years.1 The wide variety of organic ligands and practically infinite number of ways to unite metal coordination complexes into extended metal–organic framework lead to a vast number of novel compounds with unique sorption, catalytic activity, luminescence, magnetism.2,3 While gas sorption or catalytic activity of metal–organic frameworks mainly depends on the structure, some other properties, *e.g.* luminescence, depend also on the guest composition, which could be directly applied for chemical sensing. Therefore the synthesis of porous metal–organic frameworks, which are capable of switching their functional characteristics upon guest-related transitions, is an important but challenging task. Other than luminescence itself, such sensor materials should feature at least two essential properties. Firstly, the size of porous channels must be sufficient for accommodation of functional guest species. Secondly, the metal–organic framework should be robust enough to maintain its porosity during the guest removal or exchange. Only several examples of porous coordination polymers with luminescence-based sensing of various guest molecules have been reported to date,4 therefore this highly promising area mainly remains underdeveloped. A\n",
      "particularly important issue here is an unambiguous structural characterization of such host–guest complexes because it allows detailed investigation of interactions between guest molecule and porous framework as well as elucidates the sensing mechanism.\n",
      "\n",
      "Single-crystal X-ray diffraction technique is often limited here, because of guest disorder problem or fragility of metal-organic single crystals during the guest exchange.5 In this work we describe the synthesis and characterization of a novel porous metal–organic coordination polymer\n",
      "[Zn4(dmf)(ur)2(ndc)4]·5DMF·H2O (1), which meets the abovementioned requirements for potential sensor applications. The solvent molecules can be removed from this MOF without loss of the sample's crystallinity. The resulting permanently porous framework demonstrates a reversible gas sorption as well as an uptake of various guests. The corresponding guest-free and guest-exchanged samples were characterized by a single-crystal X-ray diffraction analysis. Most interestingly, the luminescent properties of open framework [Zn4(dmf)(ur)2(ndc)4] are highly depended on the guest molecules, accommodated in the pores. The benzene molecules enhance the framework luminescence, while ferrocene effectively quenches it. Such pronounced guestdepended response could be applied for sensing of organic or organometallic molecules, many of which are very dangerous both to Nature and to human health.\n",
      "\n",
      "## Results And Discussion\n",
      "\n",
      "Compound 1 was obtained by heating a mixture of Zn(NO3)2·6H2O, 2,6-naphtalenedicarboxylic acid (H2ndc) and urotropin (ur) in DMF at 100 ◦C for 10 h. Compound 1 crystallizes in the monoclinic system with the space group P21/n. Asymmetric unit of 1 comprises four crystallographically independent zinc atoms forming two different binuclear carboxylate complexes as secondary building units (Fig. 1). In the first building unit (type A) the tetragonal-pyramidal Zn(1) and Zn(2) centers are similar.\n",
      "\n",
      "Each metal cation is coordinated by four O atoms of four ndc2- and one N atom of urotropin, such as these cations are interconnected via four bridging bidentate m2-RCOO-O,O¢ groups. This binuclear carboxylate complex {Zn2(COO)4}, known as \"paddle-wheel\",\n",
      "is very typical and common in metal carboxylate coordination structures. The Zn–O (2.006(5)–2.069(6) A˚ ) and Zn–N (2.065(6), 2.067(6) A˚ ) bond lengths found fall within the common values for Zn(II) complexes with coordination number 5. The structure of the second carboxylate secondary building unit (type B), to our best\n",
      "\n",
      "![2_image_0.png](2_image_0.png)\n",
      "\n",
      "knowledge, has never been described before and unprecedented in coordination frameworks. Contrary to the binuclear complex A, the coordination environments of Zn(3) and Zn(4) cations in B are different (Fig. 1). The distorted tetrahedral Zn(3) center is coordinated by three O atoms of three ndc2- ligands and one N atom of urotropin. The Zn(3)–O (1,899(9)–1,962(7) A˚ ) and Zn(3)–N(12) (2.111(7) A˚ ) bond lengths found fall within the common values for tetrahedral Zn(II) complexes. The distorted octahedral geometry of Zn(4) cation is composed of five O atoms of two monodentate ndc2-, one chelating bidentate ndc2- ligands and one coordinated dmf molecule, as well as one N atom of urotropin ligand. The Zn(4)–N(22) bond length is 2.143(7) A˚ .\n",
      "\n",
      "There are two type of Zn(4)–O distances. The first one includes two bonds with bridging ndc2- ligands (1.982(7), 1.997(6) A˚ )\n",
      "and one of two bonds with bidentate ndc2- ligand (2.161(16)\n",
      "A˚ ). The residual bond with bidentate ndc2- ligand and bond with dmf molecule form the second type. Thereby, coordination number of Zn(4) atom can be assigned as 4 + 2. In the type B\n",
      "building unit two metal cations Zn(3) and Zn(4) are interlinked via two bridging m2-RCOO-O,O¢ groups, so the overall formula of the coordination complex is {Zn2(dmf)(COO)4}. The metal–\n",
      "ligand distances in both carboxylate binuclear complexes lie within typical corresponding ranges with some acceptable deviations, indicating apparent distortion.\n",
      "\n",
      "In the structure 1 the organic ligands act as ditopic connectors between the binuclear secondary building units. Therefore, both binuclear complexes A and B could be simplified as six-connected nodes, each with distorted 4 + 2 octahedral geometry of four linear ndc2- and two angular urotropin linkers. The main difference is that urotropins are located in *trans*-positions in type A but in cis-positions in the type B node (Fig. 1). The ndc2- bridges connect nodes A and A, B and B, as well as A and B. At the same time urotropin ligands link only nodes A and B. Each type A node is connected through ndc2- to two nodes A and two nodes B\n",
      "and through urotropin to two nodes B. Similarly, each B node is connected through ndc2- to two nodes A and two B and through urotropin to two nodes A. The overall three-dimensional (3D)\n",
      "topology of the binodal 6-connected net in the metal–organic framework 1 is very complicated (Fig. S1†), one may refer to its point symbol (3244.68.8)(3.44.53.66.8).\n",
      "\n",
      "The interstitial space between inorganic carboxylate complexes and organic ligands in as-synthesized 1 is occupied by solvent guest molecules. The single-crystal X-ray diffraction analysis revealed five DMF and one H2O molecules per asymmetric unit of 1. The formula [Zn4(dmf)(ur)2(ndc)4]·5DMF·H2O was independently confirmed by elemental and thermogravimetrical\n",
      "(TG) analyses. The phase purity of 1 was also proved by powder X-ray diffraction method (See SI for the details). In particular, the TG analysis on the as-synthesized 1 indicated a gradual weight loss of 21% in the temperature range 25–300 ◦C, which is consistent with evacuation of one H2O and 5 DMF molecules. The following decrease of mass can be associated with the destruction of the metal–organic framework (Fig. S2). The guest molecules occupy distorted hexagonal channels with characteristic dimensions 9.5\n",
      "¥ 11 A˚ 2, running along a axis of 3D framework (Fig. 2). A space within channels is occupied by DMF and disordered H2O guest molecules, which form a weak H-bonding with CH or CH2 groups of ndc2- or urotropin ligands respectively, as well as with each\n",
      "\n",
      "![3_image_1.png](3_image_1.png)\n",
      "\n",
      "To prepare guest-free framework [Zn4(dmf)(ur)2(ndc)4] (2) the DMF molecules was exchanged with readily volatile CH2Cl2 solvent, followed by slight heating in the dynamic vacuum. A structure of guest-free compound 2 is generally similar to 1, but there are some distinct differences. Whereas the compound 1 crystallizes in *P21/n* space group, compound 2 has slightly higher Cc symmetry. Such difference does not affect significantly Zn– O and Zn–N interatomic distances. The channels running along c axis in 2 adopt more symmetric shape than in 1 and have characteristic dimensions 10.5 ¥ 10.5 A˚ (Fig. 3). The free solvent accessible volume in 2, derived from PLATON 6 routine analysis\n",
      "(filling of the cavities with probe spheres of radius 1.2 A˚ ) was found to be 43%. Interestingly, framework 2 is not centrosymmetric\n",
      "(sp. group Cc has no inversion center) that leads to racemic merohedral twinning of the crystals 2 contrary to 1. Attempts to apply centrosymmetric space group C2/c during the refinement of 2 leads to disorder of coordinated dmf molecules over two symmetrically related positions. In case of non centrosymmetric group Cc, the disordering is not observed.\n",
      "\n",
      "The high stability of the guest-free metal–organic framework was further confirmed by N2 sorption isotherm at 77 K for 2\n",
      "(Fig. 4), which shows type I behavior with small hysteresis and\n",
      "\n",
      "![3_image_0.png](3_image_0.png)\n",
      "\n",
      "![3_image_2.png](3_image_2.png)\n",
      "\n",
      "thus ensuring permanent microporosity of the bulk sample. The formally calculated Brunauer–Emmett–Teller (BET) surface area is 820 m2 g-1. Channels volume-size distribution diagram (Fig. S3†)\n",
      "shows the only intense peak at 0.9 nm and agrees quantitatively with the result of X-ray analysis. The volume of these pores was calculated to be 0.2 cm3 g-1. The maximum H2 uptake for 2 at 1 atm and 77 K is 0.92 wt.% H2 (Fig. 5). Knowing pore volume, one can estimate the density of H2 in pores as 0.04 g cm-3. For comparison, density of liquid H2 at 14 K is 0.07 g cm-3. The storage density of hydrogen in the bulk sample at 1 bar is 0.009 g cm-3, which is equivalent to the density of H2 at 2.7 MPa (estimated according\n",
      "\n",
      "![4_image_0.png](4_image_0.png)\n",
      "\n",
      "to ideal gas equation) at 77 K. Additional hydrogen isotherm was measured at 87 K to determine enthalpy of adsorption derived from the Clausius–Clapeyron equation (see Fig. S4 and S5 in ESI† for details). In the interval of 0.1–1.0 wt. % of adsorbed H2, value of D*Hads* lies in the range 4.7–5.2 kJ mol-1, which is typical to other zinc–organic frameworks.2a Microporous framework 2 can form different host–guest complexes with various species ranging from diatomic molecules to organometallics. Immersing single crystals of 2 in liquid benzene at room temperature for 16 h leads to single crystals of inclusion compound [Zn4(dmf)(ur)2(ndc)4]·6C6H6 (3). The framework structure of benzene adduct 3 is practically identical to one in 1. In both cases, a presence of guest molecules distorts the framework symmetry and space group is changed back to P21/n. A space within the channels is occupied by benzene molecules (Fig. 6).\n",
      "\n",
      "There are no strong contacts between guest benzene molecules except for specific C–H ◊◊◊p interactions (Fig. S6†), which are common in such aryl molecules packing.7 We also found some weak H-bonds between CH group of benzene and carboxyl group of ndc2- ligand. The host–guest adduct with ferrocene was prepared by heating a mixture of single crystals of 2 and solid ferrocene in an evacuated sealed glass tube at 100 ◦C for 10 h. After slow cooling to room temperature, yellow crystals of\n",
      "[Zn4(dmf)(ur)2(ndc)4]·4Fe(C5H5)2 (4) were separated from excess of the ferrocene. Noteworthy, the corresponding ferrocene adduct cannot be obtained by a reaction of 2 with ferrocene solution in cyclohexane. As identified from the single-crystal X-ray diffraction data, the ferrocene-imbued framework of host–guest system 4 has less distorted monoclinic Cc space group symmetry compared to that in 3 (Fig. 7). The most significant difference in 4 is that the all three ndc2- ligands are coordinated to Zn(4) atom on monodentate manner, whereas in 1–3 one ndc2- ligand is always bidentate. As a result, Zn(4) in structure 4 has distorted trigonal bipyramidal coordination environment in contrast to distorted octahedral one in 1–3 (Fig. S7†). A space within the channels is occupied by ferrocene molecules of four crystallographically independent types. Interestingly, one of them is disordered over two positions with the site occupancy factors being 0.32 and 0.68 (Fig. S8†). Except for van-der-Waals contacts, we could not identify any specific interactions between ferrocene molecules and the framework, as well as between guest molecules. We note here, that the framework stability and phase purity of guest-exchange compounds 3 and 4 were independently confirmed by X-ray powder diffraction method (Fig. S9†).\n",
      "\n",
      "The solid-state photoluminescence properties of complexes 1–4 were investigated at room temperature (Fig. 8, Fig. S10†).\n",
      "\n",
      "Their emissions spectra were collected from 380 nm to 600 nm with excitation wavelength at l = 370 nm. The positions of maxima of the photoluminescence spectra for the materials 1–3 are the identical. Some deviations in the luminescence intensities for these materials could be attributed to the method errors. All compounds 1–3 exhibit strong blue emission with broad maximum at l = 430 nm which can be assigned to naphtalenedicarboxylate (ndc2-) intraligand emission p–p*. However, the presence of ferrocene in the host–guest compound 4 essentially quenches the photoluminescence of the framework. In fact, the ferrocene molecule and its derivatives have been widely used as a luminescence quenchers,8 particularly, because of their high stability under visible irradiation and capacity to inhibit the lowest energy excited states (generally, the triplet state).9 Such photoluminescence quenching led to numerous applications in the areas of analytical chemistry, molecular organized systems and biology.10 The excitation energy is transferred to the ferrocene FeCp2, followed by the thermal relaxation of the excited FeCp2* state. There are two possible luminescence quenching mechanisms, known as energy transfer and electron transfer.9 The later is unlikely, because it should involve electron transfer from the ferrocene to exited anionic ligand, forming intermediate radical species ndc3-∑, which should be very unstable. The energy transfer mechanism requires the luminescence radiation energy to be higher, than the energy of the first exited state of ferrocene FeCp2*, which is 21800 cm-1. As mentioned above, the emitted radiation wavelength of p–p* transitions in ndc2- has maximum at l = 430 nm (or 23250 cm-1), which is just enough to promote the ferrocene excitation and effectively absorb the framework photoluminescence. Therefore, we believe that observed quenching of the metal–organic framework luminescence by the ferrocene follows the energy transfer mechanisms. The unique combination of the pronounced guest-dependant photoluminescence, great framework stability and potent sorption capability of microporous metal–organic material [Zn4(dmf)(ur)2(ndc)4] makes is very strong candidate for practical sensing applications for aromatic or other compounds. More experiments are currently under way in order to investigate the relations between host–guest interactions and luminescence properties of such supramolecular compounds.\n",
      "\n",
      "## Conclusions\n",
      "\n",
      "A novel microporous Zn(II) metal–organic framework with permanent porosity has been synthesized and structurally characterized. It is shown that as-synthesized form of this MOF-material retains its single crystallinity after guest molecules removal or exchange. The permanent porosity was further confirmed by nitrogen and hydrogen sorption data. Additionally, the pronounced guest-depended photoluminescence properties have been demonstrated, which open great possibilities to use this material for practical sensing applications.\n",
      "\n",
      "## Experimental General Remarks\n",
      "\n",
      "All chemicals purchased were of reagent grade and were used as received without further purification. Methylene chloride was purified according to standard procedure. FTIR spectra (KBr pellets) were recorded in the range of 4000–400 cm-1 on a Scimitar FTS 2000 Fourier-transform infrared spectrometer. Powder X-ray diffraction (PXRD) data were collected with Cu-Ka radiation on a Philips PW 1830 instrument equipped with a PW 1820 vertical Bragg–Brentano powder goniometer and a PW 1710 control unit.\n",
      "\n",
      "![5_image_0.png](5_image_0.png)\n",
      "\n",
      "![6_image_0.png](6_image_0.png)\n",
      "\n",
      "Thermogravimetric analysis (TGA) was carried out at a ramp rate of 10 ◦C min-1 in a helium atmosphere with a NETZSCH\n",
      "TG 209 F1 instrument. Elemental analyses on C, H, and N\n",
      "were performed on a Euro EA 3000 CHN Elemental Analyzer.\n",
      "\n",
      "Fluorescence emission spectra were collected on a Varian Cary Eclipse spectrofluorimeter.\n",
      "\n",
      "## Synthesis\n",
      "\n",
      "[Zn4(dmf)(ur)2(ndc)4]·5DMF·**H2O (1).** A mixture of Zn(NO3)2·6H2O (0.300 g, 1.00 mmol), 2,6-naphtalenedicarboxylic acid (0.216 g, 1.00 mmol), and urotropine (0.070 g, 0.50 mmol)\n",
      "in DMF (25 mL) was heated at 100 ◦C for 10 h in teflon-lined capped container under autogenous pressure. After slow cooling to room temperature, colorless crystals of 1 were separated by filtration, washed with DMF, and then diethylether and dried on air. Yield 0.434 g (28%). Anal: Calc. for C78H92N14O23Zn4 (%) C\n",
      "50.5; H 5.0; N 10.6. Found (%): C 49.9; H 5.2; N 10.6. IR (KBr, cm-1): 3435 (w), 3060 (w), 2928 (w), 1666 (s), 1616 (m), 1585 (m),\n",
      "1496 (w), 1408 (s), 1356 (m), 1251 (w), 1227 (w), 1196 (w), 1096 (w), 1027 (m), 993 (m), 922 (w), 836 (w), 784 (s), 730 (w), 660 (w),\n",
      "588 (w), 481 (m). TGA data: calc. weight loss for 5DMF + H2O:\n",
      "21%; found: 21%.\n",
      "\n",
      "[Zn4(dmf)(ur)2(ndc)4] (2). The crystals of 1 (0.100 g, 0.056 mmol) were immersed into dried CH2Cl2 (15 mL) for 72 h,\n",
      "\n",
      "| Table 1                                  | Crystal data and structure refinement for 1–4   |                                          |                    |                    |\n",
      "|------------------------------------------|-------------------------------------------------|------------------------------------------|--------------------|--------------------|\n",
      "| Compounds                                | 1                                               | 2                                        | 3                  | 4                  |\n",
      "| Empirical formula                        | C78H92N14O23Zn4                                 | C63H55N9O17Zn4                           | C99H91N9O17Zn4     | C103H95N9O17Zn4Fe4 |\n",
      "| Formula weight                           | 1855.14                                         | 1471.64                                  | 1940.29            | 2215,76            |\n",
      "| T/K                                      | 150(2)                                          | 150(2)                                   | 150(2)             | 130(2)             |\n",
      "| Crystal system                           | Monoclinic                                      | Monoclinic                               | Monoclinic         | Monoclinic         |\n",
      "| Space group                              | P21/n                                           | Cc                                       | P21/n              | Cc                 |\n",
      "| a/A˚                                     | 12.3274(5)                                      | 24.8414(6)                               | 12.2527(2)         | 24.6659(7)         |\n",
      "| b/A˚                                     | 30.5413(19)                                     | 31.1031(8)                               | 31.2515(5)         | 31.3085(12)        |\n",
      "| c/A˚                                     | 24.7472(15)                                     | 12.3400(3)                               | 24.7184(4)         | 12.2751(5)         |\n",
      "| b/◦                                      | 98.232(1)                                       | 97.318(1)                                | 97.023(1)          | 96.306(1)          |\n",
      "| Volume/A˚ 3                              | 9221.2(9)                                       | 9456.8(4)                                | 9394.0(3)          | 9422.1(6)          |\n",
      "| Z                                        | 4                                               | 4                                        | 4                  | 4                  |\n",
      "| Dcalc/g cm-3                             | 1.336                                           | 1.034                                    | 1.372              | 1.562              |\n",
      "| Absorbtion coefficient/mm-1              | 1.103                                           | 1.054                                    | 1.080              | 1.672              |\n",
      "| F(000)                                   | 3848                                            | 3008                                     | 4016               | 4544               |\n",
      "| Crystal size/mm                          | 0.32 ¥ 0.11 ¥ 0.07                              | 0.36 ¥ 0.16 ¥ 0.14                       | 0.20 ¥ 0.18 ¥ 0.12 | 0,09 ¥ 0,08 ¥ 0,06 |\n",
      "| q for data collection/◦                  | 1.79–26.39                                      | 2.11–30,54                               | 2.06–30.52         | 2.12–27.53         |\n",
      "| Limiting indices                         | -15 £ h £ 8, -38 £ k £ 38, -30 £ l £ 30         | -31 £ h £ 18, -40 £ k £ 40, -15 £ l £ 15 |                    |                    |\n",
      "| Reflns collected/unique                  | 57408/18509                                     | 61839/25216                              | 125023/28654       | 36506/17100        |\n",
      "| Rint                                     | 0.0555                                          | 0.0171                                   | 0.0279             | 0.0335             |\n",
      "| Goodness-of-fit on F2                    | 1.104                                           | 1.097                                    | 1.037              | 1.023              |\n",
      "| Absolute structure parameter             | -                                               | 0.472(8)                                 | -                  | 0.488(7)           |\n",
      "| Final R indices [I > 2s(I)]              | R1 = 0.1079                                     | R1 = 0.0374                              | R1 = 0.0367        | R1 = 0.0349        |\n",
      "| wR2 = 0.2833                             | wR2 = 0.1271                                    | wR2 = 0.0879                             | wR2 = 0.0672       |                    |\n",
      "| R indices (all data)                     | R1 = 0.1451                                     | R1 = 0.0423                              | R1 = 0.0492        | R1 = 0.0482        |\n",
      "| wR2 = 0.2973                             | wR2 = 0.1311                                    | wR2 = 0.0916                             | wR2 = 0.0706       |                    |\n",
      "| Largest diff. peak and hole/e A˚ -3      | 1.704/-0.950                                    | 1.230/-0.406                             | 0.980/-0.795       | 0.811/-0.850       |\n",
      "| -35 £ h £ 31, -44 £ k £ 40, -16 £ l £ 17 | -17 £ h £ 17, -44 £ k £ 39, -35 £ l £ 32        |                                          |                    |                    |\n",
      "\n",
      "![7_image_0.png](7_image_0.png)\n",
      "\n",
      "and then heated under dynamic vacuum at 65 ◦C for 24 h. Anal:\n",
      "Calc. for C63H55N9O17Zn4 (%): C 51.4; H 3.8; N 8.6. Found (%): C\n",
      "51,7; H 3,8; N 8,7.\n",
      "\n",
      "[Zn4(dmf)(ur)2(ndc)4]·6C6H6 **(3).** The crystals of 2 (0.100 g, 0.068 mmol) were immersed in benzene (10 ml) for 72 h. After that, colorless crystals of 3 was separated by filtration, and dried on air. Anal: Calc. for C99H91N9O17Zn4 (%): C 61.3; H 4.7; N 6.5.\n",
      "\n",
      "Found (%): C 60.9; H 4.4; N 6.7.\n",
      "\n",
      "[Zn4(dmf)(ur)2(ndc)4]·4Fe(C5H5)2 **(4).** A mixture of crystals of 2 (0.050 g, 0.034 mmol), and ferrocene (0.025 g, 0.136 mmol) was heated in evacuated sealed glass tube at 100 ◦C for 10 h. After slow cooling to room temperature, yellow crystals of 4 were separated from excess of ferrocene crystallized on the inner side wall of glass tube. Anal: Calc. for C103H95N9O17Zn4Fe4 (%): C 55.8; H 4.3; N\n",
      "5.7. Found (%): C 55.7; H 4.4; N 5.7.\n",
      "\n",
      "## Gas Sorption Measurements\n",
      "\n",
      "The dichloromethylene-exchanged sample 1 was activated in vacuum at 100 ◦C for 14 h. Nitrogen adsorption at 77 K was studied by means of Autosorb-6B-Kr (Quantachrome) instrument. Prior to experiment the MOF was degassed under dynamic vacuum (30 mTorr) at 80 ◦C overnight. Adsorption isotherm was measured in a range of 10-5 < P/P0 < 0.995. Pore volume-size distribution was calculated using standard regularization procedure with kernel functions, calculated using NLDFT for silica cylindrical pores. Despite on obvious model restrictions, the calculated isotherm fitted well the experimental one, and the characteristic sizes from pore volume-size distributions correlate with the sizes from X-ray diffraction data. The hydrogen sorption isotherms were measured on BELSORP-max instrument using high-purity gas (99.9999%)\n",
      "in the range 0.0–1.0 bar at 77 K (liq. N2 bath) and 87 K (liq. Ar bath). Enthalpies of H2 adsorption were calculated using a variant of the Clausius–Clapeyron equation: ln(P1/P2) = DHads(T2 - T1)/(RT1T2), where Pn - pressure for isotherm n, Tn - temperature for isotherm n, R = 8.3145 J/(mol K). Pressure as a function of the amount adsorbed was determined using the Langmuir–Freundlich fit for each isotherm (see ESI† for details).11\n",
      "\n",
      "## X-Ray Crystallography\n",
      "\n",
      "Single-crystal XRD data collections of 1–4 were performed by using an automated four circle Bruker–Nonius X8Apex CCD\n",
      "diffractometer with Mo-Ka radiation (l = 0.71073 A˚ ). An absorbtion correction was applied based on the intensities of equivalent reflections with the use of the SADABS 12 program.\n",
      "\n",
      "The structures were solved by direct method and refined on F2 by full-matrix least-squares method in the anisotropic approximation (for non-hydrogen atoms) using SHELX-97 program package.13 Positions of the hydrogen atoms of 2,6-naphtalenedicarboxylate, and urotropine ligands, guest benzene, ferrocene and DMF\n",
      "molecules were calculated geometrically and refined by the rigid model. The hydrogen atoms of disordered guest water molecules in 1 were not located. In the case of 2 and 4 a racemic merohedral twinning was found with the twinning law of {-1, 0, 0; 0, -1, 0; 0, 0, -1} with relative component weights of 0.528(8)/0.472(8) for 2, and 0.512(7)/0.488(7) for 4. X-ray data collections have been performed for several crystals of 1. The data given for 1 in the paper are the best we could achieve. Apparently, lower quality of X-ray data of 1 is due to non-ideal crystal quality and disordering in guest subsystem. A summary of the crystallographic data and structural determination for 1–4 is provided in Table 1. Selected bond length and angles are listed in Tables S1–S4 (see ESI†).\n",
      "\n",
      "\n"
     ]
    }
   ],
   "source": [
    "import re\n",
    "\n",
    "def clean_text(text):\n",
    "    # Delete the pattern [MISSING_PAGE_FAIL:x]\n",
    "    cleaned_text = re.sub(r\"\\[MISSING_PAGE_FAIL:\\d+\\]\", \"\", text)\n",
    "\n",
    "    # Delete the acknowledgements section\n",
    "    cleaned_text = re.sub(\n",
    "        r\"## Acknowledgements.*?(?=##|$)\", \"\", cleaned_text, flags=re.S\n",
    "    )\n",
    "\n",
    "    # delete the references section \n",
    "    cleaned_text = re.sub(r\"## *Notes And References.*\", \"\", cleaned_text, flags=re.S)\n",
    "\n",
    "    return cleaned_text\n",
    "\n",
    "\n",
    "\n",
    "input_file = \"data/md/10.1039c0dt00999g/10.1039c0dt00999g.md\"\n",
    "\n",
    "with open(input_file, \"r\", encoding=\"utf-8\") as f:\n",
    "    content = f.read()\n",
    "\n",
    "# clean the text\n",
    "text = clean_text(content)\n",
    "print(text)"
   ]
  },
  {
   "cell_type": "markdown",
   "metadata": {},
   "source": [
    "Document specific text chunking strategies will be used - ie. Langchains \"MarkdownTextSplitter\"\n",
    "\n",
    "Similar to recursive text splitting, but a step up."
   ]
  },
  {
   "cell_type": "code",
   "execution_count": 4,
   "metadata": {},
   "outputs": [],
   "source": [
    "from langchain.text_splitter import MarkdownTextSplitter\n",
    "splitter = MarkdownTextSplitter(chunk_size = 2000, chunk_overlap=0)"
   ]
  },
  {
   "cell_type": "code",
   "execution_count": 5,
   "metadata": {},
   "outputs": [],
   "source": [
    "chunks = splitter.create_documents([text])"
   ]
  },
  {
   "cell_type": "code",
   "execution_count": 6,
   "metadata": {},
   "outputs": [
    {
     "data": {
      "text/plain": [
       "Document(page_content='This article is published as part of the *Dalton Transactions* **themed issue entitled:** \\n\\n# New Talent Asia\\n\\nHighlighting the excellent work being carried out by younger members of the inorganic academic community in Asia Guest Editor Masahiro Yamashita Tohoku University, Japan Published in issue 10, 2011 of *Dalton Transactions*\\n\\n![0_image_0.png](0_image_0.png)\\n\\nImage reproduced with permission of Kenneth Kam-Wing Lo Articles in the issue include: PERSPECTIVES: Pyrazolin-4-ylidenes: a new class of intriguing ligands Yuan Han and Han Vinh Huynh, *Dalton Trans*., 2011, DOI: 10.1039/C0DT01037E Solvent induced molecular magnetic changes observed in single-crystal-to-single-crystal transformation Zheng-Ming Hao and Xian-Ming Zhang, *Dalton Trans*., 2011, DOI: 10.1039/C0DT00979B, ARTICLES: \\nNegative thermal expansion emerging upon structural phase transition in ZrV2O7 and HfV2O7 Yasuhisa Yamamura, Aruto Horikoshi, Syuma Yasuzuka, Hideki Saitoh and Kazuya Saito Dalton Trans., 2011, DOI: 10.1039/C0DT01087A \\nPreparation of surface molecularly imprinted Ru-complex catalysts for asymmetric transfer hydrogenation in water media Zhihuan Weng, Satoshi Muratsugu, Nozomu Ishiguro, Shin-ichi Ohkoshi and Mizuki Tada Dalton Trans., 2011, DOI: 10.1039/C0DT00950D \\nVisit the *Dalton Transactions* website for more cutting-edge inorganic and organometallic research www.rsc.org/dalton\\n\\n# Microporous Sensor: Gas Sorption, Guest Exchange And Guest-Dependant Luminescence Of Metal–Organic Framework†')"
      ]
     },
     "execution_count": 6,
     "metadata": {},
     "output_type": "execute_result"
    }
   ],
   "source": [
    "chunks[0]"
   ]
  },
  {
   "cell_type": "markdown",
   "metadata": {},
   "source": [
    "### Extracting Nodes and Relationships\n",
    "\n",
    "Could use two approaches:\n",
    "- Loop through each chunk with the LLM to extract the KG info (nodes,relationships, properties)\n",
    "- Employ a vector databse and do similarity search based off a query, then only look through those chunks\n",
    "\n",
    "I will begin with the first approach. If its not too time consuming/expensive, I think it would be best."
   ]
  },
  {
   "cell_type": "markdown",
   "metadata": {},
   "source": [
    "LLMGraphTransformer from langchain will be used to extract entities from unstructured text. Providing a predefined schema is optional. However, you cannot provide a description/more context related to your schema. \n",
    "\n",
    "I think it would be useful to provide some MOF-related context to ensure the LLM knows what it is looking for. Maybe modifying the system prompt in the Langchain code base could help. We could pass an optional \"schema description\" variable where we provide additional context. We just have to be careful about exceeding the context window of our LLM. If possible, maybe we could pass an optional description for each part of a schema, ie. you can choose to further describe a Node type or relationship, so the LLM better understands what to look for."
   ]
  },
  {
   "cell_type": "code",
   "execution_count": 7,
   "metadata": {},
   "outputs": [],
   "source": [
    "from langchain_experimental.graph_transformers import LLMGraphTransformer\n",
    "from langchain_openai import ChatOpenAI\n",
    "\n",
    "llm = ChatOpenAI(temperature=0, model_name=\"gpt-4o-mini\")\n",
    "llm_transformer = LLMGraphTransformer(\n",
    "  llm=llm, \n",
    "  allowed_nodes=[\"MOF\", \"Bond\", \"Atom\", \"Metal\", \"Linker\"],\n",
    "  allowed_relationships=[\"Has_Bond\", \"Has_Atom\", \"Has_Linker\"],\n",
    ")"
   ]
  },
  {
   "cell_type": "code",
   "execution_count": 8,
   "metadata": {},
   "outputs": [],
   "source": [
    "from typing import List\n",
    "from langchain_community.graphs.graph_document import GraphDocument\n",
    "from langchain_core.documents import Document\n",
    "def process_document(doc: Document) -> List[GraphDocument]:\n",
    "    return llm_transformer.convert_to_graph_documents([doc])"
   ]
  },
  {
   "cell_type": "code",
   "execution_count": 38,
   "metadata": {},
   "outputs": [
    {
     "name": "stdout",
     "output_type": "stream",
     "text": [
      "Processed 20 GraphDocuments.\n"
     ]
    }
   ],
   "source": [
    "# Process each chunk using the process_text function\n",
    "graph_documents = []\n",
    "for chunk in chunks:\n",
    "    graph_document = process_document(chunk)\n",
    "    graph_documents.extend(graph_document)\n",
    "\n",
    "# Print or handle the processed graph_documents as needed\n",
    "print(f\"Processed {len(graph_documents)} GraphDocuments.\")"
   ]
  },
  {
   "cell_type": "code",
   "execution_count": 39,
   "metadata": {},
   "outputs": [
    {
     "data": {
      "text/plain": [
       "[GraphDocument(nodes=[Node(id='Dalton Transactions', type='Mof')], relationships=[], source=Document(page_content='This article is published as part of the *Dalton Transactions* **themed issue entitled:** \\n\\n# New Talent Asia\\n\\nHighlighting the excellent work being carried out by younger members of the inorganic academic community in Asia Guest Editor Masahiro Yamashita Tohoku University, Japan Published in issue 10, 2011 of *Dalton Transactions*\\n\\n![0_image_0.png](0_image_0.png)\\n\\nImage reproduced with permission of Kenneth Kam-Wing Lo Articles in the issue include: PERSPECTIVES: Pyrazolin-4-ylidenes: a new class of intriguing ligands Yuan Han and Han Vinh Huynh, *Dalton Trans*., 2011, DOI: 10.1039/C0DT01037E Solvent induced molecular magnetic changes observed in single-crystal-to-single-crystal transformation Zheng-Ming Hao and Xian-Ming Zhang, *Dalton Trans*., 2011, DOI: 10.1039/C0DT00979B, ARTICLES: \\nNegative thermal expansion emerging upon structural phase transition in ZrV2O7 and HfV2O7 Yasuhisa Yamamura, Aruto Horikoshi, Syuma Yasuzuka, Hideki Saitoh and Kazuya Saito Dalton Trans., 2011, DOI: 10.1039/C0DT01087A \\nPreparation of surface molecularly imprinted Ru-complex catalysts for asymmetric transfer hydrogenation in water media Zhihuan Weng, Satoshi Muratsugu, Nozomu Ishiguro, Shin-ichi Ohkoshi and Mizuki Tada Dalton Trans., 2011, DOI: 10.1039/C0DT00950D \\nVisit the *Dalton Transactions* website for more cutting-edge inorganic and organometallic research www.rsc.org/dalton\\n\\n# Microporous Sensor: Gas Sorption, Guest Exchange And Guest-Dependant Luminescence Of Metal–Organic Framework†')),\n",
       " GraphDocument(nodes=[Node(id='Zn(Ii)-Containing Metal–Organic Framework (Mof) [Zn4(Dmf)(Ur)2(Ndc)4]', type='Mof'), Node(id='Ndc2- = 2,6-Naphtalenedicarboxylate', type='Linker'), Node(id='Ur = Urotropin', type='Linker'), Node(id='Dmf = N,N¢-Dimethylformamide', type='Linker')], relationships=[Relationship(source=Node(id='Zn(Ii)-Containing Metal–Organic Framework (Mof) [Zn4(Dmf)(Ur)2(Ndc)4]', type='Mof'), target=Node(id='Ndc2- = 2,6-Naphtalenedicarboxylate', type='Linker'), type='HAS_LINKER'), Relationship(source=Node(id='Zn(Ii)-Containing Metal–Organic Framework (Mof) [Zn4(Dmf)(Ur)2(Ndc)4]', type='Mof'), target=Node(id='Ur = Urotropin', type='Linker'), type='HAS_LINKER'), Relationship(source=Node(id='Zn(Ii)-Containing Metal–Organic Framework (Mof) [Zn4(Dmf)(Ur)2(Ndc)4]', type='Mof'), target=Node(id='Dmf = N,N¢-Dimethylformamide', type='Linker'), type='HAS_LINKER')], source=Document(page_content='Sergey A. Sapchenko,a Denis G. Samsonenko,*a,b Danil N. Dybtsev,a,c Maxim S. Melgunovd and Vladimir P. Fedina,b Received 12th August 2010, Accepted 14th October 2010 DOI: 10.1039/c0dt00999g Zn(II)-containing metal–organic framework (MOF) [Zn4(dmf)(ur)2(ndc)4] (ndc2- =\\n2,6-naphtalenedicarboxylate, ur = urotropin, dmf = N,N¢-dimethylformamide) was synthesized and characterized by X-ray crystallography and gas sorption analysis. Host MOF retains its crystallinity after guest removal and exchange. Single-crystal to single-crystal formation of different host–guest systems with benzene and ferrocene was investigated. Interesting guest-depended luminescence properties of the porous host framework were observed.\\n\\n## Introduction')),\n",
       " GraphDocument(nodes=[Node(id='Metal–Organic Coordination Polymers', type='Mof'), Node(id='Metal Ions', type='Atom'), Node(id='Organic Bridging Ligands', type='Linker'), Node(id='Metal Coordination Complexes', type='Mof'), Node(id='Extended Metal–Organic Framework', type='Mof'), Node(id='Novel Compounds', type='Mof'), Node(id='Porous Metal–Organic Frameworks', type='Mof'), Node(id='Porous Coordination Polymers', type='Mof'), Node(id='Host–Guest Complexes', type='Mof')], relationships=[Relationship(source=Node(id='Metal–Organic Coordination Polymers', type='Mof'), target=Node(id='Metal Ions', type='Atom'), type='HAS_ATOM'), Relationship(source=Node(id='Metal–Organic Coordination Polymers', type='Mof'), target=Node(id='Organic Bridging Ligands', type='Linker'), type='HAS_LINKER'), Relationship(source=Node(id='Metal Coordination Complexes', type='Mof'), target=Node(id='Extended Metal–Organic Framework', type='Mof'), type='HAS_BOND'), Relationship(source=Node(id='Extended Metal–Organic Framework', type='Mof'), target=Node(id='Novel Compounds', type='Mof'), type='HAS_BOND')], source=Document(page_content='Metal–organic coordination polymers constructed from metal ions and organic bridging ligands have attracted considerable attention in recent years.1 The wide variety of organic ligands and practically infinite number of ways to unite metal coordination complexes into extended metal–organic framework lead to a vast number of novel compounds with unique sorption, catalytic activity, luminescence, magnetism.2,3 While gas sorption or catalytic activity of metal–organic frameworks mainly depends on the structure, some other properties, *e.g.* luminescence, depend also on the guest composition, which could be directly applied for chemical sensing. Therefore the synthesis of porous metal–organic frameworks, which are capable of switching their functional characteristics upon guest-related transitions, is an important but challenging task. Other than luminescence itself, such sensor materials should feature at least two essential properties. Firstly, the size of porous channels must be sufficient for accommodation of functional guest species. Secondly, the metal–organic framework should be robust enough to maintain its porosity during the guest removal or exchange. Only several examples of porous coordination polymers with luminescence-based sensing of various guest molecules have been reported to date,4 therefore this highly promising area mainly remains underdeveloped. A\\nparticularly important issue here is an unambiguous structural characterization of such host–guest complexes because it allows detailed investigation of interactions between guest molecule and porous framework as well as elucidates the sensing mechanism.')),\n",
       " GraphDocument(nodes=[Node(id='[Zn4(Dmf)(Ur)2(Ndc)4]·5Dmf·H2O (1)', type='Mof')], relationships=[], source=Document(page_content=\"Single-crystal X-ray diffraction technique is often limited here, because of guest disorder problem or fragility of metal-organic single crystals during the guest exchange.5 In this work we describe the synthesis and characterization of a novel porous metal–organic coordination polymer\\n[Zn4(dmf)(ur)2(ndc)4]·5DMF·H2O (1), which meets the abovementioned requirements for potential sensor applications. The solvent molecules can be removed from this MOF without loss of the sample's crystallinity. The resulting permanently porous framework demonstrates a reversible gas sorption as well as an uptake of various guests. The corresponding guest-free and guest-exchanged samples were characterized by a single-crystal X-ray diffraction analysis. Most interestingly, the luminescent properties of open framework [Zn4(dmf)(ur)2(ndc)4] are highly depended on the guest molecules, accommodated in the pores. The benzene molecules enhance the framework luminescence, while ferrocene effectively quenches it. Such pronounced guestdepended response could be applied for sensing of organic or organometallic molecules, many of which are very dangerous both to Nature and to human health.\\n\\n## Results And Discussion\\n\\nCompound 1 was obtained by heating a mixture of Zn(NO3)2·6H2O, 2,6-naphtalenedicarboxylic acid (H2ndc) and urotropin (ur) in DMF at 100 ◦C for 10 h. Compound 1 crystallizes in the monoclinic system with the space group P21/n. Asymmetric unit of 1 comprises four crystallographically independent zinc atoms forming two different binuclear carboxylate complexes as secondary building units (Fig. 1). In the first building unit (type A) the tetragonal-pyramidal Zn(1) and Zn(2) centers are similar.\")),\n",
       " GraphDocument(nodes=[Node(id='Zn2(Coo)4', type='Metal'), Node(id='Ndc2-', type='Linker'), Node(id='Urotropin', type='Linker'), Node(id='M2-Rcoo-O,O¢', type='Linker'), Node(id='Zn(3)', type='Metal'), Node(id='Zn(4)', type='Metal'), Node(id='Dmf', type='Linker'), Node(id='O Atoms', type='Atom'), Node(id='N Atom', type='Atom')], relationships=[Relationship(source=Node(id='Zn2(Coo)4', type='Metal'), target=Node(id='Ndc2-', type='Linker'), type='HAS_LINKER'), Relationship(source=Node(id='Zn2(Coo)4', type='Metal'), target=Node(id='Urotropin', type='Linker'), type='HAS_LINKER'), Relationship(source=Node(id='Zn(3)', type='Metal'), target=Node(id='Ndc2-', type='Linker'), type='HAS_LINKER'), Relationship(source=Node(id='Zn(3)', type='Metal'), target=Node(id='Urotropin', type='Linker'), type='HAS_LINKER'), Relationship(source=Node(id='Zn(4)', type='Metal'), target=Node(id='Ndc2-', type='Linker'), type='HAS_LINKER'), Relationship(source=Node(id='Zn(4)', type='Metal'), target=Node(id='Dmf', type='Linker'), type='HAS_LINKER'), Relationship(source=Node(id='Zn(3)', type='Metal'), target=Node(id='O Atoms', type='Atom'), type='HAS_ATOM'), Relationship(source=Node(id='Zn(4)', type='Metal'), target=Node(id='O Atoms', type='Atom'), type='HAS_ATOM'), Relationship(source=Node(id='Zn(3)', type='Metal'), target=Node(id='N Atom', type='Atom'), type='HAS_ATOM'), Relationship(source=Node(id='Zn(4)', type='Metal'), target=Node(id='N Atom', type='Atom'), type='HAS_ATOM')], source=Document(page_content='Each metal cation is coordinated by four O atoms of four ndc2- and one N atom of urotropin, such as these cations are interconnected via four bridging bidentate m2-RCOO-O,O¢ groups. This binuclear carboxylate complex {Zn2(COO)4}, known as \"paddle-wheel\",\\nis very typical and common in metal carboxylate coordination structures. The Zn–O (2.006(5)–2.069(6) A˚ ) and Zn–N (2.065(6), 2.067(6) A˚ ) bond lengths found fall within the common values for Zn(II) complexes with coordination number 5. The structure of the second carboxylate secondary building unit (type B), to our best\\n\\n![2_image_0.png](2_image_0.png)\\n\\nknowledge, has never been described before and unprecedented in coordination frameworks. Contrary to the binuclear complex A, the coordination environments of Zn(3) and Zn(4) cations in B are different (Fig. 1). The distorted tetrahedral Zn(3) center is coordinated by three O atoms of three ndc2- ligands and one N atom of urotropin. The Zn(3)–O (1,899(9)–1,962(7) A˚ ) and Zn(3)–N(12) (2.111(7) A˚ ) bond lengths found fall within the common values for tetrahedral Zn(II) complexes. The distorted octahedral geometry of Zn(4) cation is composed of five O atoms of two monodentate ndc2-, one chelating bidentate ndc2- ligands and one coordinated dmf molecule, as well as one N atom of urotropin ligand. The Zn(4)–N(22) bond length is 2.143(7) A˚ .')),\n",
       " GraphDocument(nodes=[Node(id='Zn(4)', type='Metal'), Node(id='Ndc2-', type='Linker'), Node(id='Bidentate Ndc2-', type='Linker'), Node(id='Zn(3)', type='Metal'), Node(id='M2-Rcoo-O,O¢', type='Linker'), Node(id='{Zn2(Dmf)(Coo)4}', type='Mof'), Node(id='Ndc2-', type='Linker'), Node(id='Urotropin', type='Linker'), Node(id='Type A', type='Mof'), Node(id='Type B', type='Mof')], relationships=[Relationship(source=Node(id='Zn(4)', type='Metal'), target=Node(id='Ndc2-', type='Linker'), type='HAS_BOND'), Relationship(source=Node(id='Zn(4)', type='Metal'), target=Node(id='Bidentate Ndc2-', type='Linker'), type='HAS_BOND'), Relationship(source=Node(id='Zn(3)', type='Metal'), target=Node(id='M2-Rcoo-O,O¢', type='Linker'), type='HAS_BOND'), Relationship(source=Node(id='Zn(4)', type='Metal'), target=Node(id='{Zn2(Dmf)(Coo)4}', type='Mof'), type='HAS_BOND'), Relationship(source=Node(id='Ndc2-', type='Linker'), target=Node(id='Type A', type='Mof'), type='HAS_LINKER'), Relationship(source=Node(id='Ndc2-', type='Linker'), target=Node(id='Type B', type='Mof'), type='HAS_LINKER'), Relationship(source=Node(id='Urotropin', type='Linker'), target=Node(id='Type A', type='Mof'), type='HAS_LINKER'), Relationship(source=Node(id='Urotropin', type='Linker'), target=Node(id='Type B', type='Mof'), type='HAS_LINKER')], source=Document(page_content='There are two type of Zn(4)–O distances. The first one includes two bonds with bridging ndc2- ligands (1.982(7), 1.997(6) A˚ )\\nand one of two bonds with bidentate ndc2- ligand (2.161(16)\\nA˚ ). The residual bond with bidentate ndc2- ligand and bond with dmf molecule form the second type. Thereby, coordination number of Zn(4) atom can be assigned as 4 + 2. In the type B\\nbuilding unit two metal cations Zn(3) and Zn(4) are interlinked via two bridging m2-RCOO-O,O¢ groups, so the overall formula of the coordination complex is {Zn2(dmf)(COO)4}. The metal–\\nligand distances in both carboxylate binuclear complexes lie within typical corresponding ranges with some acceptable deviations, indicating apparent distortion.\\n\\nIn the structure 1 the organic ligands act as ditopic connectors between the binuclear secondary building units. Therefore, both binuclear complexes A and B could be simplified as six-connected nodes, each with distorted 4 + 2 octahedral geometry of four linear ndc2- and two angular urotropin linkers. The main difference is that urotropins are located in *trans*-positions in type A but in cis-positions in the type B node (Fig. 1). The ndc2- bridges connect nodes A and A, B and B, as well as A and B. At the same time urotropin ligands link only nodes A and B. Each type A node is connected through ndc2- to two nodes A and two nodes B\\nand through urotropin to two nodes B. Similarly, each B node is connected through ndc2- to two nodes A and two B and through urotropin to two nodes A. The overall three-dimensional (3D)\\ntopology of the binodal 6-connected net in the metal–organic framework 1 is very complicated (Fig. S1†), one may refer to its point symbol (3244.68.8)(3.44.53.66.8).')),\n",
       " GraphDocument(nodes=[Node(id='1', type='Mof'), Node(id='Zn4(Dmf)(Ur)2(Ndc)4', type='Mof')], relationships=[], source=Document(page_content='The interstitial space between inorganic carboxylate complexes and organic ligands in as-synthesized 1 is occupied by solvent guest molecules. The single-crystal X-ray diffraction analysis revealed five DMF and one H2O molecules per asymmetric unit of 1. The formula [Zn4(dmf)(ur)2(ndc)4]·5DMF·H2O was independently confirmed by elemental and thermogravimetrical\\n(TG) analyses. The phase purity of 1 was also proved by powder X-ray diffraction method (See SI for the details). In particular, the TG analysis on the as-synthesized 1 indicated a gradual weight loss of 21% in the temperature range 25–300 ◦C, which is consistent with evacuation of one H2O and 5 DMF molecules. The following decrease of mass can be associated with the destruction of the metal–organic framework (Fig. S2). The guest molecules occupy distorted hexagonal channels with characteristic dimensions 9.5\\n¥ 11 A˚ 2, running along a axis of 3D framework (Fig. 2). A space within channels is occupied by DMF and disordered H2O guest molecules, which form a weak H-bonding with CH or CH2 groups of ndc2- or urotropin ligands respectively, as well as with each\\n\\n![3_image_1.png](3_image_1.png)')),\n",
       " GraphDocument(nodes=[Node(id='Zn4(Dmf)(Ur)2(Ndc)4', type='Mof'), Node(id='Compound 1', type='Mof'), Node(id='Compound 2', type='Mof'), Node(id='P21/N', type='Bond'), Node(id='Cc', type='Bond')], relationships=[Relationship(source=Node(id='Zn4(Dmf)(Ur)2(Ndc)4', type='Mof'), target=Node(id='Compound 2', type='Mof'), type='HAS_BOND'), Relationship(source=Node(id='Compound 1', type='Mof'), target=Node(id='P21/N', type='Bond'), type='HAS_BOND'), Relationship(source=Node(id='Compound 2', type='Mof'), target=Node(id='Cc', type='Bond'), type='HAS_BOND')], source=Document(page_content='To prepare guest-free framework [Zn4(dmf)(ur)2(ndc)4] (2) the DMF molecules was exchanged with readily volatile CH2Cl2 solvent, followed by slight heating in the dynamic vacuum. A structure of guest-free compound 2 is generally similar to 1, but there are some distinct differences. Whereas the compound 1 crystallizes in *P21/n* space group, compound 2 has slightly higher Cc symmetry. Such difference does not affect significantly Zn– O and Zn–N interatomic distances. The channels running along c axis in 2 adopt more symmetric shape than in 1 and have characteristic dimensions 10.5 ¥ 10.5 A˚ (Fig. 3). The free solvent accessible volume in 2, derived from PLATON 6 routine analysis\\n(filling of the cavities with probe spheres of radius 1.2 A˚ ) was found to be 43%. Interestingly, framework 2 is not centrosymmetric\\n(sp. group Cc has no inversion center) that leads to racemic merohedral twinning of the crystals 2 contrary to 1. Attempts to apply centrosymmetric space group C2/c during the refinement of 2 leads to disorder of coordinated dmf molecules over two symmetrically related positions. In case of non centrosymmetric group Cc, the disordering is not observed.\\n\\nThe high stability of the guest-free metal–organic framework was further confirmed by N2 sorption isotherm at 77 K for 2\\n(Fig. 4), which shows type I behavior with small hysteresis and\\n\\n![3_image_0.png](3_image_0.png)\\n\\n![3_image_2.png](3_image_2.png)')),\n",
       " GraphDocument(nodes=[Node(id='Brunauer–Emmett–Teller', type='Mof'), Node(id='H2', type='Atom'), Node(id='Liquid H2', type='Atom'), Node(id='Hydrogen', type='Atom'), Node(id='Framework 2', type='Mof'), Node(id='Inclusion Compound [Zn4(Dmf)(Ur)2(Ndc)4]·6C6H6', type='Mof'), Node(id='Benzene', type='Atom'), Node(id='Framework Structure Of Benzene Adduct 3', type='Mof')], relationships=[], source=Document(page_content='thus ensuring permanent microporosity of the bulk sample. The formally calculated Brunauer–Emmett–Teller (BET) surface area is 820 m2 g-1. Channels volume-size distribution diagram (Fig. S3†)\\nshows the only intense peak at 0.9 nm and agrees quantitatively with the result of X-ray analysis. The volume of these pores was calculated to be 0.2 cm3 g-1. The maximum H2 uptake for 2 at 1 atm and 77 K is 0.92 wt.% H2 (Fig. 5). Knowing pore volume, one can estimate the density of H2 in pores as 0.04 g cm-3. For comparison, density of liquid H2 at 14 K is 0.07 g cm-3. The storage density of hydrogen in the bulk sample at 1 bar is 0.009 g cm-3, which is equivalent to the density of H2 at 2.7 MPa (estimated according\\n\\n![4_image_0.png](4_image_0.png)\\n\\nto ideal gas equation) at 77 K. Additional hydrogen isotherm was measured at 87 K to determine enthalpy of adsorption derived from the Clausius–Clapeyron equation (see Fig. S4 and S5 in ESI† for details). In the interval of 0.1–1.0 wt. % of adsorbed H2, value of D*Hads* lies in the range 4.7–5.2 kJ mol-1, which is typical to other zinc–organic frameworks.2a Microporous framework 2 can form different host–guest complexes with various species ranging from diatomic molecules to organometallics. Immersing single crystals of 2 in liquid benzene at room temperature for 16 h leads to single crystals of inclusion compound [Zn4(dmf)(ur)2(ndc)4]·6C6H6 (3). The framework structure of benzene adduct 3 is practically identical to one in 1. In both cases, a presence of guest molecules distorts the framework symmetry and space group is changed back to P21/n. A space within the channels is occupied by benzene molecules (Fig. 6).')),\n",
       " GraphDocument(nodes=[Node(id='Zn(4)', type='Atom'), Node(id='[Zn4(Dmf)(Ur)2(Ndc)4]·4Fe(C5H5)2 (4)', type='Mof'), Node(id='3', type='Mof'), Node(id='1', type='Mof'), Node(id='2', type='Mof')], relationships=[Relationship(source=Node(id='[Zn4(Dmf)(Ur)2(Ndc)4]·4Fe(C5H5)2 (4)', type='Mof'), target=Node(id='3', type='Mof'), type='HAS_BOND'), Relationship(source=Node(id='[Zn4(Dmf)(Ur)2(Ndc)4]·4Fe(C5H5)2 (4)', type='Mof'), target=Node(id='1', type='Mof'), type='HAS_BOND'), Relationship(source=Node(id='[Zn4(Dmf)(Ur)2(Ndc)4]·4Fe(C5H5)2 (4)', type='Mof'), target=Node(id='2', type='Mof'), type='HAS_BOND')], source=Document(page_content='There are no strong contacts between guest benzene molecules except for specific C–H ◊◊◊p interactions (Fig. S6†), which are common in such aryl molecules packing.7 We also found some weak H-bonds between CH group of benzene and carboxyl group of ndc2- ligand. The host–guest adduct with ferrocene was prepared by heating a mixture of single crystals of 2 and solid ferrocene in an evacuated sealed glass tube at 100 ◦C for 10 h. After slow cooling to room temperature, yellow crystals of\\n[Zn4(dmf)(ur)2(ndc)4]·4Fe(C5H5)2 (4) were separated from excess of the ferrocene. Noteworthy, the corresponding ferrocene adduct cannot be obtained by a reaction of 2 with ferrocene solution in cyclohexane. As identified from the single-crystal X-ray diffraction data, the ferrocene-imbued framework of host–guest system 4 has less distorted monoclinic Cc space group symmetry compared to that in 3 (Fig. 7). The most significant difference in 4 is that the all three ndc2- ligands are coordinated to Zn(4) atom on monodentate manner, whereas in 1–3 one ndc2- ligand is always bidentate. As a result, Zn(4) in structure 4 has distorted trigonal bipyramidal coordination environment in contrast to distorted octahedral one in 1–3 (Fig. S7†). A space within the channels is occupied by ferrocene molecules of four crystallographically independent types. Interestingly, one of them is disordered over two positions with the site occupancy factors being 0.32 and 0.68 (Fig. S8†). Except for van-der-Waals contacts, we could not identify any specific interactions between ferrocene molecules and the framework, as well as between guest molecules. We note here, that the framework stability and phase purity of guest-exchange compounds 3 and 4 were independently confirmed by X-ray powder diffraction method (Fig. S9†).\\n\\nThe solid-state photoluminescence properties of complexes 1–4 were investigated at room temperature (Fig. 8, Fig. S10†).')),\n",
       " GraphDocument(nodes=[Node(id='Ferrocene', type='Atom'), Node(id='Ndc2-', type='Atom'), Node(id='Fecp2', type='Metal'), Node(id='Framework', type='Mof')], relationships=[Relationship(source=Node(id='Ndc2-', type='Atom'), target=Node(id='Ferrocene', type='Atom'), type='HAS_BOND'), Relationship(source=Node(id='Fecp2', type='Metal'), target=Node(id='Ferrocene', type='Atom'), type='HAS_BOND'), Relationship(source=Node(id='Framework', type='Mof'), target=Node(id='Ferrocene', type='Atom'), type='HAS_LINKER')], source=Document(page_content='Their emissions spectra were collected from 380 nm to 600 nm with excitation wavelength at l = 370 nm. The positions of maxima of the photoluminescence spectra for the materials 1–3 are the identical. Some deviations in the luminescence intensities for these materials could be attributed to the method errors. All compounds 1–3 exhibit strong blue emission with broad maximum at l = 430 nm which can be assigned to naphtalenedicarboxylate (ndc2-) intraligand emission p–p*. However, the presence of ferrocene in the host–guest compound 4 essentially quenches the photoluminescence of the framework. In fact, the ferrocene molecule and its derivatives have been widely used as a luminescence quenchers,8 particularly, because of their high stability under visible irradiation and capacity to inhibit the lowest energy excited states (generally, the triplet state).9 Such photoluminescence quenching led to numerous applications in the areas of analytical chemistry, molecular organized systems and biology.10 The excitation energy is transferred to the ferrocene FeCp2, followed by the thermal relaxation of the excited FeCp2* state. There are two possible luminescence quenching mechanisms, known as energy transfer and electron transfer.9 The later is unlikely, because it should involve electron transfer from the ferrocene to exited anionic ligand, forming intermediate radical species ndc3-∑, which should be very unstable. The energy transfer mechanism requires the luminescence radiation energy to be higher, than the energy of the first exited state of ferrocene FeCp2*, which is 21800 cm-1. As mentioned above, the emitted radiation wavelength of p–p* transitions in ndc2- has maximum at l = 430 nm (or 23250 cm-1), which is just enough to promote the ferrocene excitation and effectively absorb the framework photoluminescence. Therefore, we believe that observed quenching of the metal–organic framework luminescence by the ferrocene follows the energy transfer mechanisms. The unique')),\n",
       " GraphDocument(nodes=[Node(id='[Zn4(Dmf)(Ur)2(Ndc)4]', type='Mof')], relationships=[], source=Document(page_content='combination of the pronounced guest-dependant photoluminescence, great framework stability and potent sorption capability of microporous metal–organic material [Zn4(dmf)(ur)2(ndc)4] makes is very strong candidate for practical sensing applications for aromatic or other compounds. More experiments are currently under way in order to investigate the relations between host–guest interactions and luminescence properties of such supramolecular compounds.')),\n",
       " GraphDocument(nodes=[Node(id='Zn(Ii) Metal–Organic Framework', type='Mof'), Node(id='Guest Molecules', type='Atom'), Node(id='Nitrogen', type='Atom'), Node(id='Hydrogen', type='Atom'), Node(id='Ftir Spectra', type='Linker'), Node(id='Powder X-Ray Diffraction Data', type='Linker'), Node(id='Thermogravimetric Analysis', type='Linker'), Node(id='Elemental Analyses', type='Linker'), Node(id='Fluorescence Emission Spectra', type='Linker')], relationships=[], source=Document(page_content='## Conclusions\\n\\nA novel microporous Zn(II) metal–organic framework with permanent porosity has been synthesized and structurally characterized. It is shown that as-synthesized form of this MOF-material retains its single crystallinity after guest molecules removal or exchange. The permanent porosity was further confirmed by nitrogen and hydrogen sorption data. Additionally, the pronounced guest-depended photoluminescence properties have been demonstrated, which open great possibilities to use this material for practical sensing applications.\\n\\n## Experimental General Remarks\\n\\nAll chemicals purchased were of reagent grade and were used as received without further purification. Methylene chloride was purified according to standard procedure. FTIR spectra (KBr pellets) were recorded in the range of 4000–400 cm-1 on a Scimitar FTS 2000 Fourier-transform infrared spectrometer. Powder X-ray diffraction (PXRD) data were collected with Cu-Ka radiation on a Philips PW 1830 instrument equipped with a PW 1820 vertical Bragg–Brentano powder goniometer and a PW 1710 control unit.\\n\\n![5_image_0.png](5_image_0.png)\\n\\n![6_image_0.png](6_image_0.png)\\n\\nThermogravimetric analysis (TGA) was carried out at a ramp rate of 10 ◦C min-1 in a helium atmosphere with a NETZSCH\\nTG 209 F1 instrument. Elemental analyses on C, H, and N\\nwere performed on a Euro EA 3000 CHN Elemental Analyzer.\\n\\nFluorescence emission spectra were collected on a Varian Cary Eclipse spectrofluorimeter.\\n\\n## Synthesis')),\n",
       " GraphDocument(nodes=[Node(id='Zn4(Dmf)(Ur)2(Ndc)4', type='Mof'), Node(id='Zn(No3)2·6H2O', type='Mof'), Node(id='2,6-Naphtalenedicarboxylic Acid', type='Mof'), Node(id='Urotropine', type='Mof'), Node(id='Dmf', type='Linker'), Node(id='Colorless Crystals Of 1', type='Mof')], relationships=[Relationship(source=Node(id='Zn4(Dmf)(Ur)2(Ndc)4', type='Mof'), target=Node(id='Dmf', type='Linker'), type='HAS_LINKER'), Relationship(source=Node(id='Zn(No3)2·6H2O', type='Mof'), target=Node(id='Zn4(Dmf)(Ur)2(Ndc)4', type='Mof'), type='HAS_BOND'), Relationship(source=Node(id='2,6-Naphtalenedicarboxylic Acid', type='Mof'), target=Node(id='Zn4(Dmf)(Ur)2(Ndc)4', type='Mof'), type='HAS_BOND'), Relationship(source=Node(id='Urotropine', type='Mof'), target=Node(id='Zn4(Dmf)(Ur)2(Ndc)4', type='Mof'), type='HAS_BOND'), Relationship(source=Node(id='Colorless Crystals Of 1', type='Mof'), target=Node(id='Zn4(Dmf)(Ur)2(Ndc)4', type='Mof'), type='HAS_BOND')], source=Document(page_content='[Zn4(dmf)(ur)2(ndc)4]·5DMF·**H2O (1).** A mixture of Zn(NO3)2·6H2O (0.300 g, 1.00 mmol), 2,6-naphtalenedicarboxylic acid (0.216 g, 1.00 mmol), and urotropine (0.070 g, 0.50 mmol)\\nin DMF (25 mL) was heated at 100 ◦C for 10 h in teflon-lined capped container under autogenous pressure. After slow cooling to room temperature, colorless crystals of 1 were separated by filtration, washed with DMF, and then diethylether and dried on air. Yield 0.434 g (28%). Anal: Calc. for C78H92N14O23Zn4 (%) C\\n50.5; H 5.0; N 10.6. Found (%): C 49.9; H 5.2; N 10.6. IR (KBr, cm-1): 3435 (w), 3060 (w), 2928 (w), 1666 (s), 1616 (m), 1585 (m),\\n1496 (w), 1408 (s), 1356 (m), 1251 (w), 1227 (w), 1196 (w), 1096 (w), 1027 (m), 993 (m), 922 (w), 836 (w), 784 (s), 730 (w), 660 (w),\\n588 (w), 481 (m). TGA data: calc. weight loss for 5DMF + H2O:\\n21%; found: 21%.\\n\\n[Zn4(dmf)(ur)2(ndc)4] (2). The crystals of 1 (0.100 g, 0.056 mmol) were immersed into dried CH2Cl2 (15 mL) for 72 h,')),\n",
       " GraphDocument(nodes=[], relationships=[], source=Document(page_content='| Table 1                                  | Crystal data and structure refinement for 1–4   |                                          |                    |                    |\\n|------------------------------------------|-------------------------------------------------|------------------------------------------|--------------------|--------------------|\\n| Compounds                                | 1                                               | 2                                        | 3                  | 4                  |\\n| Empirical formula                        | C78H92N14O23Zn4                                 | C63H55N9O17Zn4                           | C99H91N9O17Zn4     | C103H95N9O17Zn4Fe4 |\\n| Formula weight                           | 1855.14                                         | 1471.64                                  | 1940.29            | 2215,76            |\\n| T/K                                      | 150(2)                                          | 150(2)                                   | 150(2)             | 130(2)             |\\n| Crystal system                           | Monoclinic                                      | Monoclinic                               | Monoclinic         | Monoclinic         |\\n| Space group                              | P21/n                                           | Cc                                       | P21/n              | Cc                 |\\n| a/A˚                                     | 12.3274(5)                                      | 24.8414(6)                               | 12.2527(2)         | 24.6659(7)         |\\n| b/A˚                                     | 30.5413(19)                                     | 31.1031(8)                               | 31.2515(5)         | 31.3085(12)        |\\n| c/A˚                                     | 24.7472(15)                                     | 12.3400(3)                               | 24.7184(4)         | 12.2751(5)         |')),\n",
       " GraphDocument(nodes=[], relationships=[], source=Document(page_content='| b/◦                                      | 98.232(1)                                       | 97.318(1)                                | 97.023(1)          | 96.306(1)          |\\n| Volume/A˚ 3                              | 9221.2(9)                                       | 9456.8(4)                                | 9394.0(3)          | 9422.1(6)          |\\n| Z                                        | 4                                               | 4                                        | 4                  | 4                  |\\n| Dcalc/g cm-3                             | 1.336                                           | 1.034                                    | 1.372              | 1.562              |\\n| Absorbtion coefficient/mm-1              | 1.103                                           | 1.054                                    | 1.080              | 1.672              |\\n| F(000)                                   | 3848                                            | 3008                                     | 4016               | 4544               |\\n| Crystal size/mm                          | 0.32 ¥ 0.11 ¥ 0.07                              | 0.36 ¥ 0.16 ¥ 0.14                       | 0.20 ¥ 0.18 ¥ 0.12 | 0,09 ¥ 0,08 ¥ 0,06 |\\n| q for data collection/◦                  | 1.79–26.39                                      | 2.11–30,54                               | 2.06–30.52         | 2.12–27.53         |\\n| Limiting indices                         | -15 £ h £ 8, -38 £ k £ 38, -30 £ l £ 30         | -31 £ h £ 18, -40 £ k £ 40, -15 £ l £ 15 |                    |                    |\\n| Reflns collected/unique                  | 57408/18509                                     | 61839/25216                              | 125023/28654       | 36506/17100        |\\n| Rint                                     | 0.0555                                          | 0.0171                                   | 0.0279             | 0.0335             |')),\n",
       " GraphDocument(nodes=[], relationships=[], source=Document(page_content='| Goodness-of-fit on F2                    | 1.104                                           | 1.097                                    | 1.037              | 1.023              |\\n| Absolute structure parameter             | -                                               | 0.472(8)                                 | -                  | 0.488(7)           |\\n| Final R indices [I > 2s(I)]              | R1 = 0.1079                                     | R1 = 0.0374                              | R1 = 0.0367        | R1 = 0.0349        |\\n| wR2 = 0.2833                             | wR2 = 0.1271                                    | wR2 = 0.0879                             | wR2 = 0.0672       |                    |\\n| R indices (all data)                     | R1 = 0.1451                                     | R1 = 0.0423                              | R1 = 0.0492        | R1 = 0.0482        |\\n| wR2 = 0.2973                             | wR2 = 0.1311                                    | wR2 = 0.0916                             | wR2 = 0.0706       |                    |\\n| Largest diff. peak and hole/e A˚ -3      | 1.704/-0.950                                    | 1.230/-0.406                             | 0.980/-0.795       | 0.811/-0.850       |\\n| -35 £ h £ 31, -44 £ k £ 40, -16 £ l £ 17 | -17 £ h £ 17, -44 £ k £ 39, -35 £ l £ 32        |                                          |                    |                    |')),\n",
       " GraphDocument(nodes=[Node(id='Zn4(Dmf)(Ur)2(Ndc)4', type='Mof'), Node(id='C6H6', type='Linker'), Node(id='C99H91N9O17Zn4', type='Mof'), Node(id='C103H95N9O17Zn4Fe4', type='Mof'), Node(id='Ferrocene', type='Atom')], relationships=[Relationship(source=Node(id='Zn4(Dmf)(Ur)2(Ndc)4', type='Mof'), target=Node(id='C6H6', type='Linker'), type='HAS_LINKER'), Relationship(source=Node(id='C99H91N9O17Zn4', type='Mof'), target=Node(id='C6H6', type='Linker'), type='HAS_LINKER'), Relationship(source=Node(id='C103H95N9O17Zn4Fe4', type='Mof'), target=Node(id='Ferrocene', type='Atom'), type='HAS_ATOM')], source=Document(page_content='![7_image_0.png](7_image_0.png)\\n\\nand then heated under dynamic vacuum at 65 ◦C for 24 h. Anal:\\nCalc. for C63H55N9O17Zn4 (%): C 51.4; H 3.8; N 8.6. Found (%): C\\n51,7; H 3,8; N 8,7.\\n\\n[Zn4(dmf)(ur)2(ndc)4]·6C6H6 **(3).** The crystals of 2 (0.100 g, 0.068 mmol) were immersed in benzene (10 ml) for 72 h. After that, colorless crystals of 3 was separated by filtration, and dried on air. Anal: Calc. for C99H91N9O17Zn4 (%): C 61.3; H 4.7; N 6.5.\\n\\nFound (%): C 60.9; H 4.4; N 6.7.\\n\\n[Zn4(dmf)(ur)2(ndc)4]·4Fe(C5H5)2 **(4).** A mixture of crystals of 2 (0.050 g, 0.034 mmol), and ferrocene (0.025 g, 0.136 mmol) was heated in evacuated sealed glass tube at 100 ◦C for 10 h. After slow cooling to room temperature, yellow crystals of 4 were separated from excess of ferrocene crystallized on the inner side wall of glass tube. Anal: Calc. for C103H95N9O17Zn4Fe4 (%): C 55.8; H 4.3; N\\n5.7. Found (%): C 55.7; H 4.4; N 5.7.\\n\\n## Gas Sorption Measurements')),\n",
       " GraphDocument(nodes=[Node(id='Dichloromethylene-Exchanged Sample 1', type='Mof')], relationships=[], source=Document(page_content='The dichloromethylene-exchanged sample 1 was activated in vacuum at 100 ◦C for 14 h. Nitrogen adsorption at 77 K was studied by means of Autosorb-6B-Kr (Quantachrome) instrument. Prior to experiment the MOF was degassed under dynamic vacuum (30 mTorr) at 80 ◦C overnight. Adsorption isotherm was measured in a range of 10-5 < P/P0 < 0.995. Pore volume-size distribution was calculated using standard regularization procedure with kernel functions, calculated using NLDFT for silica cylindrical pores. Despite on obvious model restrictions, the calculated isotherm fitted well the experimental one, and the characteristic sizes from pore volume-size distributions correlate with the sizes from X-ray diffraction data. The hydrogen sorption isotherms were measured on BELSORP-max instrument using high-purity gas (99.9999%)\\nin the range 0.0–1.0 bar at 77 K (liq. N2 bath) and 87 K (liq. Ar bath). Enthalpies of H2 adsorption were calculated using a variant of the Clausius–Clapeyron equation: ln(P1/P2) = DHads(T2 - T1)/(RT1T2), where Pn - pressure for isotherm n, Tn - temperature for isotherm n, R = 8.3145 J/(mol K). Pressure as a function of the amount adsorbed was determined using the Langmuir–Freundlich fit for each isotherm (see ESI† for details).11\\n\\n## X-Ray Crystallography\\n\\nSingle-crystal XRD data collections of 1–4 were performed by using an automated four circle Bruker–Nonius X8Apex CCD\\ndiffractometer with Mo-Ka radiation (l = 0.71073 A˚ ). An absorbtion correction was applied based on the intensities of equivalent reflections with the use of the SADABS 12 program.')),\n",
       " GraphDocument(nodes=[], relationships=[], source=Document(page_content='The structures were solved by direct method and refined on F2 by full-matrix least-squares method in the anisotropic approximation (for non-hydrogen atoms) using SHELX-97 program package.13 Positions of the hydrogen atoms of 2,6-naphtalenedicarboxylate, and urotropine ligands, guest benzene, ferrocene and DMF\\nmolecules were calculated geometrically and refined by the rigid model. The hydrogen atoms of disordered guest water molecules in 1 were not located. In the case of 2 and 4 a racemic merohedral twinning was found with the twinning law of {-1, 0, 0; 0, -1, 0; 0, 0, -1} with relative component weights of 0.528(8)/0.472(8) for 2, and 0.512(7)/0.488(7) for 4. X-ray data collections have been performed for several crystals of 1. The data given for 1 in the paper are the best we could achieve. Apparently, lower quality of X-ray data of 1 is due to non-ideal crystal quality and disordering in guest subsystem. A summary of the crystallographic data and structural determination for 1–4 is provided in Table 1. Selected bond length and angles are listed in Tables S1–S4 (see ESI†).'))]"
      ]
     },
     "execution_count": 39,
     "metadata": {},
     "output_type": "execute_result"
    }
   ],
   "source": [
    "graph_documents"
   ]
  },
  {
   "cell_type": "markdown",
   "metadata": {},
   "source": [
    "### Changing Langchain's source code to allow for optional \"additional context\" prompt"
   ]
  },
  {
   "cell_type": "code",
   "execution_count": 9,
   "metadata": {},
   "outputs": [],
   "source": [
    "context = ''' \n",
    "### **Node Types:**\n",
    "- **MOF (Metal-Organic Framework):** Refers to compounds consisting of metal ions or clusters coordinated to organic ligands.\n",
    "- **Bond:** Represents a connection between two atoms within a MOF.\n",
    "- **Atom:** The basic unit of a chemical element in a MOF.\n",
    "- **Metal:** A chemical element forming positive ions and involved in the MOF's structure.\n",
    "- **Linker:** An organic molecule connecting metal ions or clusters in a MOF.\n",
    "\n",
    "### **Relationship Types:**\n",
    "- **Has_Bond:** Links an \"Atom\" to another \"Atom\" via a bond within a MOF.\n",
    "- **Has_Atom:** Indicates that a \"MOF\" contains a specific \"Atom\".\n",
    "- **Has_Linker:** Indicates that a \"MOF\" contains a specific \"Linker\".\n",
    "\n",
    "### **Important Guidelines:**\n",
    "1. **Scientific Context:** Interpret terms within the context of chemistry. For example, \"Atom\" should refer to elements within a MOF, not other uses of the word.\n",
    "2. **Disambiguation:** If a term could be ambiguous, prefer the scientific interpretation. Ignore non-scientific entities or terms unless directly relevant to MOFs.\n",
    "3. **Entity Consistency:** Ensure consistent naming for entities. For example, always use the full name of a MOF or a chemical element even if it appears in a shortened form in the text.\n",
    "4. **Domain-Specific Instructions:** Use technical jargon or abbreviations only within the context of chemistry, and classify them correctly.\n",
    "5. **Filtering Non-Relevant Content:** Ignore or deprioritize non-scientific text or sections irrelevant to the chemistry-specific nodes and relationships.\n",
    "6. **Known Misinterpretations:** Do not classify journal names, like \"Dalton Transactions,\" as a scientific entity like \"MOF.\"\n",
    "\n",
    "### **Examples of Correct Classifications:**\n",
    "- \"The MOF Zn-BTC has a bond between Zinc (Metal) and Benzene Tricarboxylate (Linker).\"\n",
    "  - `{\"head\": \"Zn-BTC\", \"head_type\": \"MOF\", \"relation\": \"Has_Bond\", \"tail\": \"Zinc\", \"tail_type\": \"Metal\"}`\n",
    "  - `{\"head\": \"Zn-BTC\", \"head_type\": \"MOF\", \"relation\": \"Has_Linker\", \"tail\": \"Benzene Tricarboxylate\", \"tail_type\": \"Linker\"}`\n",
    "\n",
    "'''"
   ]
  },
  {
   "cell_type": "code",
   "execution_count": 10,
   "metadata": {},
   "outputs": [],
   "source": [
    "from custom_llm import LLMGraphTransformer as CustomLLMGraphTransformer\n",
    "from langchain_openai import ChatOpenAI\n",
    "\n",
    "llm = ChatOpenAI(temperature=0, model_name=\"gpt-4o-mini\")\n",
    "llm_transformer = CustomLLMGraphTransformer(\n",
    "  llm=llm, \n",
    "  context = context,\n",
    "  allowed_nodes=[\"MOF\", \"Bond\", \"Atom\", \"Metal\", \"Linker\"],\n",
    "  allowed_relationships=[\"Has_Bond\", \"Has_Atom\", \"Has_Linker\"],\n",
    "  node_properties=[\"description\"],\n",
    "  relationship_properties=[\"description\"]\n",
    ")"
   ]
  },
  {
   "cell_type": "code",
   "execution_count": 11,
   "metadata": {},
   "outputs": [],
   "source": [
    "from typing import List\n",
    "from langchain_community.graphs.graph_document import GraphDocument\n",
    "from langchain_core.documents import Document\n",
    "def process_document(doc: Document) -> List[GraphDocument]:\n",
    "    return llm_transformer.convert_to_graph_documents([doc])"
   ]
  },
  {
   "cell_type": "code",
   "execution_count": 12,
   "metadata": {},
   "outputs": [
    {
     "name": "stdout",
     "output_type": "stream",
     "text": [
      "Processed 20 GraphDocuments.\n"
     ]
    }
   ],
   "source": [
    "# Process each chunk using the process_text function\n",
    "custom_graph_documents = []\n",
    "for chunk in chunks:\n",
    "    custom_graph_document = process_document(chunk)\n",
    "    custom_graph_documents.extend(custom_graph_document)\n",
    "\n",
    "# Print or handle the processed graph_documents as needed\n",
    "print(f\"Processed {len(custom_graph_documents)} GraphDocuments.\")"
   ]
  },
  {
   "cell_type": "code",
   "execution_count": 13,
   "metadata": {},
   "outputs": [
    {
     "data": {
      "text/plain": [
       "[GraphDocument(nodes=[Node(id='Dalton Transactions', type='Mof', properties={'description': 'A journal that publishes research in inorganic and organometallic chemistry.'})], relationships=[Relationship(source=Node(id='Dalton Transactions', type='Mof'), target=Node(id='New Talent Asia', type='Mof'), type='HAS_LINKER', properties={'description': 'Themed issue highlighting younger members of the inorganic academic community in Asia.'})], source=Document(page_content='This article is published as part of the *Dalton Transactions* **themed issue entitled:** \\n\\n# New Talent Asia\\n\\nHighlighting the excellent work being carried out by younger members of the inorganic academic community in Asia Guest Editor Masahiro Yamashita Tohoku University, Japan Published in issue 10, 2011 of *Dalton Transactions*\\n\\n![0_image_0.png](0_image_0.png)\\n\\nImage reproduced with permission of Kenneth Kam-Wing Lo Articles in the issue include: PERSPECTIVES: Pyrazolin-4-ylidenes: a new class of intriguing ligands Yuan Han and Han Vinh Huynh, *Dalton Trans*., 2011, DOI: 10.1039/C0DT01037E Solvent induced molecular magnetic changes observed in single-crystal-to-single-crystal transformation Zheng-Ming Hao and Xian-Ming Zhang, *Dalton Trans*., 2011, DOI: 10.1039/C0DT00979B, ARTICLES: \\nNegative thermal expansion emerging upon structural phase transition in ZrV2O7 and HfV2O7 Yasuhisa Yamamura, Aruto Horikoshi, Syuma Yasuzuka, Hideki Saitoh and Kazuya Saito Dalton Trans., 2011, DOI: 10.1039/C0DT01087A \\nPreparation of surface molecularly imprinted Ru-complex catalysts for asymmetric transfer hydrogenation in water media Zhihuan Weng, Satoshi Muratsugu, Nozomu Ishiguro, Shin-ichi Ohkoshi and Mizuki Tada Dalton Trans., 2011, DOI: 10.1039/C0DT00950D \\nVisit the *Dalton Transactions* website for more cutting-edge inorganic and organometallic research www.rsc.org/dalton\\n\\n# Microporous Sensor: Gas Sorption, Guest Exchange And Guest-Dependant Luminescence Of Metal–Organic Framework†')),\n",
       " GraphDocument(nodes=[Node(id='Zn(Ii)-Containing Metal–Organic Framework (Mof) [Zn4(Dmf)(Ur)2(Ndc)4]', type='Mof'), Node(id='Ndc2- = 2,6-Naphtalenedicarboxylate', type='Linker'), Node(id='Ur = Urotropin', type='Linker'), Node(id='Dmf = N,N¢-Dimethylformamide', type='Linker')], relationships=[Relationship(source=Node(id='Zn(Ii)-Containing Metal–Organic Framework (Mof) [Zn4(Dmf)(Ur)2(Ndc)4]', type='Mof'), target=Node(id='Ndc2- = 2,6-Naphtalenedicarboxylate', type='Linker'), type='HAS_LINKER'), Relationship(source=Node(id='Zn(Ii)-Containing Metal–Organic Framework (Mof) [Zn4(Dmf)(Ur)2(Ndc)4]', type='Mof'), target=Node(id='Ur = Urotropin', type='Linker'), type='HAS_LINKER'), Relationship(source=Node(id='Zn(Ii)-Containing Metal–Organic Framework (Mof) [Zn4(Dmf)(Ur)2(Ndc)4]', type='Mof'), target=Node(id='Dmf = N,N¢-Dimethylformamide', type='Linker'), type='HAS_LINKER')], source=Document(page_content='Sergey A. Sapchenko,a Denis G. Samsonenko,*a,b Danil N. Dybtsev,a,c Maxim S. Melgunovd and Vladimir P. Fedina,b Received 12th August 2010, Accepted 14th October 2010 DOI: 10.1039/c0dt00999g Zn(II)-containing metal–organic framework (MOF) [Zn4(dmf)(ur)2(ndc)4] (ndc2- =\\n2,6-naphtalenedicarboxylate, ur = urotropin, dmf = N,N¢-dimethylformamide) was synthesized and characterized by X-ray crystallography and gas sorption analysis. Host MOF retains its crystallinity after guest removal and exchange. Single-crystal to single-crystal formation of different host–guest systems with benzene and ferrocene was investigated. Interesting guest-depended luminescence properties of the porous host framework were observed.\\n\\n## Introduction')),\n",
       " GraphDocument(nodes=[Node(id='Metal–Organic Coordination Polymers', type='Mof', properties={'description': 'constructed from metal ions and organic bridging ligands'}), Node(id='Metal Coordination Complexes', type='Mof', properties={'description': 'united into extended metal–organic framework'}), Node(id='Porous Metal–Organic Frameworks', type='Mof', properties={'description': 'capable of switching their functional characteristics upon guest-related transitions'}), Node(id='Host–Guest Complexes', type='Mof', properties={'description': 'involves interactions between guest molecule and porous framework'})], relationships=[Relationship(source=Node(id='Metal–Organic Coordination Polymers', type='Mof'), target=Node(id='Metal Coordination Complexes', type='Mof'), type='HAS_BOND', properties={'description': 'constructed from'}), Relationship(source=Node(id='Metal Coordination Complexes', type='Mof'), target=Node(id='Porous Metal–Organic Frameworks', type='Mof'), type='HAS_BOND', properties={'description': 'united into'}), Relationship(source=Node(id='Porous Metal–Organic Frameworks', type='Mof'), target=Node(id='Host–Guest Complexes', type='Mof'), type='HAS_BOND', properties={'description': 'involves interactions with guest molecules'})], source=Document(page_content='Metal–organic coordination polymers constructed from metal ions and organic bridging ligands have attracted considerable attention in recent years.1 The wide variety of organic ligands and practically infinite number of ways to unite metal coordination complexes into extended metal–organic framework lead to a vast number of novel compounds with unique sorption, catalytic activity, luminescence, magnetism.2,3 While gas sorption or catalytic activity of metal–organic frameworks mainly depends on the structure, some other properties, *e.g.* luminescence, depend also on the guest composition, which could be directly applied for chemical sensing. Therefore the synthesis of porous metal–organic frameworks, which are capable of switching their functional characteristics upon guest-related transitions, is an important but challenging task. Other than luminescence itself, such sensor materials should feature at least two essential properties. Firstly, the size of porous channels must be sufficient for accommodation of functional guest species. Secondly, the metal–organic framework should be robust enough to maintain its porosity during the guest removal or exchange. Only several examples of porous coordination polymers with luminescence-based sensing of various guest molecules have been reported to date,4 therefore this highly promising area mainly remains underdeveloped. A\\nparticularly important issue here is an unambiguous structural characterization of such host–guest complexes because it allows detailed investigation of interactions between guest molecule and porous framework as well as elucidates the sensing mechanism.')),\n",
       " GraphDocument(nodes=[Node(id='Zn4(Dmf)(Ur)2(Ndc)4', type='Mof', properties={'description': 'a novel porous metal–organic coordination polymer'})], relationships=[], source=Document(page_content=\"Single-crystal X-ray diffraction technique is often limited here, because of guest disorder problem or fragility of metal-organic single crystals during the guest exchange.5 In this work we describe the synthesis and characterization of a novel porous metal–organic coordination polymer\\n[Zn4(dmf)(ur)2(ndc)4]·5DMF·H2O (1), which meets the abovementioned requirements for potential sensor applications. The solvent molecules can be removed from this MOF without loss of the sample's crystallinity. The resulting permanently porous framework demonstrates a reversible gas sorption as well as an uptake of various guests. The corresponding guest-free and guest-exchanged samples were characterized by a single-crystal X-ray diffraction analysis. Most interestingly, the luminescent properties of open framework [Zn4(dmf)(ur)2(ndc)4] are highly depended on the guest molecules, accommodated in the pores. The benzene molecules enhance the framework luminescence, while ferrocene effectively quenches it. Such pronounced guestdepended response could be applied for sensing of organic or organometallic molecules, many of which are very dangerous both to Nature and to human health.\\n\\n## Results And Discussion\\n\\nCompound 1 was obtained by heating a mixture of Zn(NO3)2·6H2O, 2,6-naphtalenedicarboxylic acid (H2ndc) and urotropin (ur) in DMF at 100 ◦C for 10 h. Compound 1 crystallizes in the monoclinic system with the space group P21/n. Asymmetric unit of 1 comprises four crystallographically independent zinc atoms forming two different binuclear carboxylate complexes as secondary building units (Fig. 1). In the first building unit (type A) the tetragonal-pyramidal Zn(1) and Zn(2) centers are similar.\")),\n",
       " GraphDocument(nodes=[Node(id='Zn2(Coo)4', type='Metal', properties={'description': \"binuclear carboxylate complex known as 'paddle-wheel'\"}), Node(id='Ndc2-', type='Linker', properties={'description': 'ligand used in coordination'}), Node(id='Urotropin', type='Linker', properties={'description': 'ligand used in coordination'}), Node(id='Zn(3)', type='Metal', properties={'description': 'distorted tetrahedral Zn(3) center'}), Node(id='Zn(4)', type='Metal', properties={'description': 'distorted octahedral Zn(4) cation'})], relationships=[Relationship(source=Node(id='Zn2(Coo)4', type='Metal'), target=Node(id='Ndc2-', type='Linker'), type='HAS_LINKER', properties={'description': 'interconnected via four bridging bidentate m2-RCOO-O,O¢ groups'}), Relationship(source=Node(id='Zn(3)', type='Metal'), target=Node(id='Ndc2-', type='Linker'), type='HAS_LINKER', properties={'description': 'coordinated by three O atoms of three ndc2- ligands'}), Relationship(source=Node(id='Zn(3)', type='Metal'), target=Node(id='Urotropin', type='Linker'), type='HAS_LINKER', properties={'description': 'coordinated by one N atom of urotropin'}), Relationship(source=Node(id='Zn(4)', type='Metal'), target=Node(id='Ndc2-', type='Linker'), type='HAS_LINKER', properties={'description': 'composed of five O atoms of two monodentate ndc2-, one chelating bidentate ndc2- ligands'}), Relationship(source=Node(id='Zn(4)', type='Metal'), target=Node(id='Urotropin', type='Linker'), type='HAS_LINKER', properties={'description': 'coordinated by one N atom of urotropin ligand'})], source=Document(page_content='Each metal cation is coordinated by four O atoms of four ndc2- and one N atom of urotropin, such as these cations are interconnected via four bridging bidentate m2-RCOO-O,O¢ groups. This binuclear carboxylate complex {Zn2(COO)4}, known as \"paddle-wheel\",\\nis very typical and common in metal carboxylate coordination structures. The Zn–O (2.006(5)–2.069(6) A˚ ) and Zn–N (2.065(6), 2.067(6) A˚ ) bond lengths found fall within the common values for Zn(II) complexes with coordination number 5. The structure of the second carboxylate secondary building unit (type B), to our best\\n\\n![2_image_0.png](2_image_0.png)\\n\\nknowledge, has never been described before and unprecedented in coordination frameworks. Contrary to the binuclear complex A, the coordination environments of Zn(3) and Zn(4) cations in B are different (Fig. 1). The distorted tetrahedral Zn(3) center is coordinated by three O atoms of three ndc2- ligands and one N atom of urotropin. The Zn(3)–O (1,899(9)–1,962(7) A˚ ) and Zn(3)–N(12) (2.111(7) A˚ ) bond lengths found fall within the common values for tetrahedral Zn(II) complexes. The distorted octahedral geometry of Zn(4) cation is composed of five O atoms of two monodentate ndc2-, one chelating bidentate ndc2- ligands and one coordinated dmf molecule, as well as one N atom of urotropin ligand. The Zn(4)–N(22) bond length is 2.143(7) A˚ .')),\n",
       " GraphDocument(nodes=[Node(id='Zn(4)', type='Metal'), Node(id='Ndc2-', type='Linker'), Node(id='Dmf', type='Linker'), Node(id='Zn(3)', type='Metal'), Node(id='Rcoo-O,O¢', type='Linker'), Node(id='Zn2(Dmf)(Coo)4', type='Mof'), Node(id='Type A', type='Mof'), Node(id='Type B', type='Mof'), Node(id='Urotropin', type='Linker')], relationships=[Relationship(source=Node(id='Zn(4)', type='Metal'), target=Node(id='Ndc2-', type='Linker'), type='HAS_BOND'), Relationship(source=Node(id='Zn(4)', type='Metal'), target=Node(id='Dmf', type='Linker'), type='HAS_BOND'), Relationship(source=Node(id='Zn(3)', type='Metal'), target=Node(id='Ndc2-', type='Linker'), type='HAS_BOND'), Relationship(source=Node(id='Zn(4)', type='Metal'), target=Node(id='Rcoo-O,O¢', type='Linker'), type='HAS_BOND'), Relationship(source=Node(id='Zn2(Dmf)(Coo)4', type='Mof'), target=Node(id='Zn(4)', type='Metal'), type='HAS_ATOM'), Relationship(source=Node(id='Type A', type='Mof'), target=Node(id='Ndc2-', type='Linker'), type='HAS_LINKER'), Relationship(source=Node(id='Type B', type='Mof'), target=Node(id='Ndc2-', type='Linker'), type='HAS_LINKER'), Relationship(source=Node(id='Type A', type='Mof'), target=Node(id='Urotropin', type='Linker'), type='HAS_LINKER'), Relationship(source=Node(id='Type B', type='Mof'), target=Node(id='Urotropin', type='Linker'), type='HAS_LINKER')], source=Document(page_content='There are two type of Zn(4)–O distances. The first one includes two bonds with bridging ndc2- ligands (1.982(7), 1.997(6) A˚ )\\nand one of two bonds with bidentate ndc2- ligand (2.161(16)\\nA˚ ). The residual bond with bidentate ndc2- ligand and bond with dmf molecule form the second type. Thereby, coordination number of Zn(4) atom can be assigned as 4 + 2. In the type B\\nbuilding unit two metal cations Zn(3) and Zn(4) are interlinked via two bridging m2-RCOO-O,O¢ groups, so the overall formula of the coordination complex is {Zn2(dmf)(COO)4}. The metal–\\nligand distances in both carboxylate binuclear complexes lie within typical corresponding ranges with some acceptable deviations, indicating apparent distortion.\\n\\nIn the structure 1 the organic ligands act as ditopic connectors between the binuclear secondary building units. Therefore, both binuclear complexes A and B could be simplified as six-connected nodes, each with distorted 4 + 2 octahedral geometry of four linear ndc2- and two angular urotropin linkers. The main difference is that urotropins are located in *trans*-positions in type A but in cis-positions in the type B node (Fig. 1). The ndc2- bridges connect nodes A and A, B and B, as well as A and B. At the same time urotropin ligands link only nodes A and B. Each type A node is connected through ndc2- to two nodes A and two nodes B\\nand through urotropin to two nodes B. Similarly, each B node is connected through ndc2- to two nodes A and two B and through urotropin to two nodes A. The overall three-dimensional (3D)\\ntopology of the binodal 6-connected net in the metal–organic framework 1 is very complicated (Fig. S1†), one may refer to its point symbol (3244.68.8)(3.44.53.66.8).')),\n",
       " GraphDocument(nodes=[Node(id='1', type='Mof', properties={'description': '[Zn4(dmf)(ur)2(ndc)4]·5DMF·H2O'})], relationships=[], source=Document(page_content='The interstitial space between inorganic carboxylate complexes and organic ligands in as-synthesized 1 is occupied by solvent guest molecules. The single-crystal X-ray diffraction analysis revealed five DMF and one H2O molecules per asymmetric unit of 1. The formula [Zn4(dmf)(ur)2(ndc)4]·5DMF·H2O was independently confirmed by elemental and thermogravimetrical\\n(TG) analyses. The phase purity of 1 was also proved by powder X-ray diffraction method (See SI for the details). In particular, the TG analysis on the as-synthesized 1 indicated a gradual weight loss of 21% in the temperature range 25–300 ◦C, which is consistent with evacuation of one H2O and 5 DMF molecules. The following decrease of mass can be associated with the destruction of the metal–organic framework (Fig. S2). The guest molecules occupy distorted hexagonal channels with characteristic dimensions 9.5\\n¥ 11 A˚ 2, running along a axis of 3D framework (Fig. 2). A space within channels is occupied by DMF and disordered H2O guest molecules, which form a weak H-bonding with CH or CH2 groups of ndc2- or urotropin ligands respectively, as well as with each\\n\\n![3_image_1.png](3_image_1.png)')),\n",
       " GraphDocument(nodes=[Node(id='Zn4(Dmf)(Ur)2(Ndc)4', type='Mof', properties={'description': 'guest-free framework'}), Node(id='Compound 1', type='Mof', properties={'description': 'a compound that crystallizes in *P21/n* space group'}), Node(id='Compound 2', type='Mof', properties={'description': 'a compound with slightly higher Cc symmetry than compound 1'})], relationships=[Relationship(source=Node(id='Compound 1', type='Mof'), target=Node(id='Compound 2', type='Mof'), type='HAS_BOND', properties={'description': 'compound 2 is generally similar to compound 1'}), Relationship(source=Node(id='Compound 1', type='Mof'), target=Node(id='Zn4(Dmf)(Ur)2(Ndc)4', type='Mof'), type='HAS_BOND', properties={'description': 'compound 1 has distinct differences compared to the guest-free framework'}), Relationship(source=Node(id='Compound 2', type='Mof'), target=Node(id='Zn4(Dmf)(Ur)2(Ndc)4', type='Mof'), type='HAS_BOND', properties={'description': 'compound 2 has distinct differences compared to the guest-free framework'})], source=Document(page_content='To prepare guest-free framework [Zn4(dmf)(ur)2(ndc)4] (2) the DMF molecules was exchanged with readily volatile CH2Cl2 solvent, followed by slight heating in the dynamic vacuum. A structure of guest-free compound 2 is generally similar to 1, but there are some distinct differences. Whereas the compound 1 crystallizes in *P21/n* space group, compound 2 has slightly higher Cc symmetry. Such difference does not affect significantly Zn– O and Zn–N interatomic distances. The channels running along c axis in 2 adopt more symmetric shape than in 1 and have characteristic dimensions 10.5 ¥ 10.5 A˚ (Fig. 3). The free solvent accessible volume in 2, derived from PLATON 6 routine analysis\\n(filling of the cavities with probe spheres of radius 1.2 A˚ ) was found to be 43%. Interestingly, framework 2 is not centrosymmetric\\n(sp. group Cc has no inversion center) that leads to racemic merohedral twinning of the crystals 2 contrary to 1. Attempts to apply centrosymmetric space group C2/c during the refinement of 2 leads to disorder of coordinated dmf molecules over two symmetrically related positions. In case of non centrosymmetric group Cc, the disordering is not observed.\\n\\nThe high stability of the guest-free metal–organic framework was further confirmed by N2 sorption isotherm at 77 K for 2\\n(Fig. 4), which shows type I behavior with small hysteresis and\\n\\n![3_image_0.png](3_image_0.png)\\n\\n![3_image_2.png](3_image_2.png)')),\n",
       " GraphDocument(nodes=[Node(id='2', type='Mof', properties={'description': 'Microporous framework 2'}), Node(id='3', type='Mof', properties={'description': 'Inclusion compound [Zn4(dmf)(ur)2(ndc)4]·6C6H6'})], relationships=[Relationship(source=Node(id='2', type='Mof'), target=Node(id='3', type='Mof'), type='HAS_LINKER', properties={'description': 'Framework structure of benzene adduct 3 is practically identical to one in 2'})], source=Document(page_content='thus ensuring permanent microporosity of the bulk sample. The formally calculated Brunauer–Emmett–Teller (BET) surface area is 820 m2 g-1. Channels volume-size distribution diagram (Fig. S3†)\\nshows the only intense peak at 0.9 nm and agrees quantitatively with the result of X-ray analysis. The volume of these pores was calculated to be 0.2 cm3 g-1. The maximum H2 uptake for 2 at 1 atm and 77 K is 0.92 wt.% H2 (Fig. 5). Knowing pore volume, one can estimate the density of H2 in pores as 0.04 g cm-3. For comparison, density of liquid H2 at 14 K is 0.07 g cm-3. The storage density of hydrogen in the bulk sample at 1 bar is 0.009 g cm-3, which is equivalent to the density of H2 at 2.7 MPa (estimated according\\n\\n![4_image_0.png](4_image_0.png)\\n\\nto ideal gas equation) at 77 K. Additional hydrogen isotherm was measured at 87 K to determine enthalpy of adsorption derived from the Clausius–Clapeyron equation (see Fig. S4 and S5 in ESI† for details). In the interval of 0.1–1.0 wt. % of adsorbed H2, value of D*Hads* lies in the range 4.7–5.2 kJ mol-1, which is typical to other zinc–organic frameworks.2a Microporous framework 2 can form different host–guest complexes with various species ranging from diatomic molecules to organometallics. Immersing single crystals of 2 in liquid benzene at room temperature for 16 h leads to single crystals of inclusion compound [Zn4(dmf)(ur)2(ndc)4]·6C6H6 (3). The framework structure of benzene adduct 3 is practically identical to one in 1. In both cases, a presence of guest molecules distorts the framework symmetry and space group is changed back to P21/n. A space within the channels is occupied by benzene molecules (Fig. 6).')),\n",
       " GraphDocument(nodes=[Node(id='Zn(4)', type='Atom'), Node(id='[Zn4(Dmf)(Ur)2(Ndc)4]·4Fe(C5H5)2 (4)', type='Mof'), Node(id='1–3', type='Mof'), Node(id='3', type='Mof'), Node(id='4', type='Mof')], relationships=[Relationship(source=Node(id='[Zn4(Dmf)(Ur)2(Ndc)4]·4Fe(C5H5)2 (4)', type='Mof'), target=Node(id='1–3', type='Mof'), type='HAS_BOND'), Relationship(source=Node(id='3', type='Mof'), target=Node(id='4', type='Mof'), type='HAS_BOND')], source=Document(page_content='There are no strong contacts between guest benzene molecules except for specific C–H ◊◊◊p interactions (Fig. S6†), which are common in such aryl molecules packing.7 We also found some weak H-bonds between CH group of benzene and carboxyl group of ndc2- ligand. The host–guest adduct with ferrocene was prepared by heating a mixture of single crystals of 2 and solid ferrocene in an evacuated sealed glass tube at 100 ◦C for 10 h. After slow cooling to room temperature, yellow crystals of\\n[Zn4(dmf)(ur)2(ndc)4]·4Fe(C5H5)2 (4) were separated from excess of the ferrocene. Noteworthy, the corresponding ferrocene adduct cannot be obtained by a reaction of 2 with ferrocene solution in cyclohexane. As identified from the single-crystal X-ray diffraction data, the ferrocene-imbued framework of host–guest system 4 has less distorted monoclinic Cc space group symmetry compared to that in 3 (Fig. 7). The most significant difference in 4 is that the all three ndc2- ligands are coordinated to Zn(4) atom on monodentate manner, whereas in 1–3 one ndc2- ligand is always bidentate. As a result, Zn(4) in structure 4 has distorted trigonal bipyramidal coordination environment in contrast to distorted octahedral one in 1–3 (Fig. S7†). A space within the channels is occupied by ferrocene molecules of four crystallographically independent types. Interestingly, one of them is disordered over two positions with the site occupancy factors being 0.32 and 0.68 (Fig. S8†). Except for van-der-Waals contacts, we could not identify any specific interactions between ferrocene molecules and the framework, as well as between guest molecules. We note here, that the framework stability and phase purity of guest-exchange compounds 3 and 4 were independently confirmed by X-ray powder diffraction method (Fig. S9†).\\n\\nThe solid-state photoluminescence properties of complexes 1–4 were investigated at room temperature (Fig. 8, Fig. S10†).')),\n",
       " GraphDocument(nodes=[], relationships=[], source=Document(page_content='Their emissions spectra were collected from 380 nm to 600 nm with excitation wavelength at l = 370 nm. The positions of maxima of the photoluminescence spectra for the materials 1–3 are the identical. Some deviations in the luminescence intensities for these materials could be attributed to the method errors. All compounds 1–3 exhibit strong blue emission with broad maximum at l = 430 nm which can be assigned to naphtalenedicarboxylate (ndc2-) intraligand emission p–p*. However, the presence of ferrocene in the host–guest compound 4 essentially quenches the photoluminescence of the framework. In fact, the ferrocene molecule and its derivatives have been widely used as a luminescence quenchers,8 particularly, because of their high stability under visible irradiation and capacity to inhibit the lowest energy excited states (generally, the triplet state).9 Such photoluminescence quenching led to numerous applications in the areas of analytical chemistry, molecular organized systems and biology.10 The excitation energy is transferred to the ferrocene FeCp2, followed by the thermal relaxation of the excited FeCp2* state. There are two possible luminescence quenching mechanisms, known as energy transfer and electron transfer.9 The later is unlikely, because it should involve electron transfer from the ferrocene to exited anionic ligand, forming intermediate radical species ndc3-∑, which should be very unstable. The energy transfer mechanism requires the luminescence radiation energy to be higher, than the energy of the first exited state of ferrocene FeCp2*, which is 21800 cm-1. As mentioned above, the emitted radiation wavelength of p–p* transitions in ndc2- has maximum at l = 430 nm (or 23250 cm-1), which is just enough to promote the ferrocene excitation and effectively absorb the framework photoluminescence. Therefore, we believe that observed quenching of the metal–organic framework luminescence by the ferrocene follows the energy transfer mechanisms. The unique')),\n",
       " GraphDocument(nodes=[Node(id='Zn4(Dmf)(Ur)2(Ndc)4', type='Mof', properties={'description': 'microporous metal–organic material'})], relationships=[], source=Document(page_content='combination of the pronounced guest-dependant photoluminescence, great framework stability and potent sorption capability of microporous metal–organic material [Zn4(dmf)(ur)2(ndc)4] makes is very strong candidate for practical sensing applications for aromatic or other compounds. More experiments are currently under way in order to investigate the relations between host–guest interactions and luminescence properties of such supramolecular compounds.')),\n",
       " GraphDocument(nodes=[Node(id='Zn(Ii) Metal–Organic Framework', type='Mof', properties={'description': 'A novel microporous Zn(II) metal–organic framework with permanent porosity.'})], relationships=[], source=Document(page_content='## Conclusions\\n\\nA novel microporous Zn(II) metal–organic framework with permanent porosity has been synthesized and structurally characterized. It is shown that as-synthesized form of this MOF-material retains its single crystallinity after guest molecules removal or exchange. The permanent porosity was further confirmed by nitrogen and hydrogen sorption data. Additionally, the pronounced guest-depended photoluminescence properties have been demonstrated, which open great possibilities to use this material for practical sensing applications.\\n\\n## Experimental General Remarks\\n\\nAll chemicals purchased were of reagent grade and were used as received without further purification. Methylene chloride was purified according to standard procedure. FTIR spectra (KBr pellets) were recorded in the range of 4000–400 cm-1 on a Scimitar FTS 2000 Fourier-transform infrared spectrometer. Powder X-ray diffraction (PXRD) data were collected with Cu-Ka radiation on a Philips PW 1830 instrument equipped with a PW 1820 vertical Bragg–Brentano powder goniometer and a PW 1710 control unit.\\n\\n![5_image_0.png](5_image_0.png)\\n\\n![6_image_0.png](6_image_0.png)\\n\\nThermogravimetric analysis (TGA) was carried out at a ramp rate of 10 ◦C min-1 in a helium atmosphere with a NETZSCH\\nTG 209 F1 instrument. Elemental analyses on C, H, and N\\nwere performed on a Euro EA 3000 CHN Elemental Analyzer.\\n\\nFluorescence emission spectra were collected on a Varian Cary Eclipse spectrofluorimeter.\\n\\n## Synthesis')),\n",
       " GraphDocument(nodes=[Node(id='Zn4(Dmf)(Ur)2(Ndc)4', type='Mof'), Node(id='Zn(No3)2·6H2O', type='Mof'), Node(id='2,6-Naphtalenedicarboxylic Acid', type='Mof'), Node(id='Urotropine', type='Mof'), Node(id='Dmf', type='Linker'), Node(id='Colorless Crystals Of 1', type='Mof')], relationships=[Relationship(source=Node(id='Zn4(Dmf)(Ur)2(Ndc)4', type='Mof'), target=Node(id='Dmf', type='Linker'), type='HAS_LINKER'), Relationship(source=Node(id='Zn4(Dmf)(Ur)2(Ndc)4', type='Mof'), target=Node(id='Zn(No3)2·6H2O', type='Mof'), type='HAS_ATOM'), Relationship(source=Node(id='Zn4(Dmf)(Ur)2(Ndc)4', type='Mof'), target=Node(id='2,6-Naphtalenedicarboxylic Acid', type='Mof'), type='HAS_ATOM'), Relationship(source=Node(id='Zn4(Dmf)(Ur)2(Ndc)4', type='Mof'), target=Node(id='Urotropine', type='Mof'), type='HAS_ATOM'), Relationship(source=Node(id='Colorless Crystals Of 1', type='Mof'), target=Node(id='Dmf', type='Linker'), type='HAS_LINKER')], source=Document(page_content='[Zn4(dmf)(ur)2(ndc)4]·5DMF·**H2O (1).** A mixture of Zn(NO3)2·6H2O (0.300 g, 1.00 mmol), 2,6-naphtalenedicarboxylic acid (0.216 g, 1.00 mmol), and urotropine (0.070 g, 0.50 mmol)\\nin DMF (25 mL) was heated at 100 ◦C for 10 h in teflon-lined capped container under autogenous pressure. After slow cooling to room temperature, colorless crystals of 1 were separated by filtration, washed with DMF, and then diethylether and dried on air. Yield 0.434 g (28%). Anal: Calc. for C78H92N14O23Zn4 (%) C\\n50.5; H 5.0; N 10.6. Found (%): C 49.9; H 5.2; N 10.6. IR (KBr, cm-1): 3435 (w), 3060 (w), 2928 (w), 1666 (s), 1616 (m), 1585 (m),\\n1496 (w), 1408 (s), 1356 (m), 1251 (w), 1227 (w), 1196 (w), 1096 (w), 1027 (m), 993 (m), 922 (w), 836 (w), 784 (s), 730 (w), 660 (w),\\n588 (w), 481 (m). TGA data: calc. weight loss for 5DMF + H2O:\\n21%; found: 21%.\\n\\n[Zn4(dmf)(ur)2(ndc)4] (2). The crystals of 1 (0.100 g, 0.056 mmol) were immersed into dried CH2Cl2 (15 mL) for 72 h,')),\n",
       " GraphDocument(nodes=[], relationships=[], source=Document(page_content='| Table 1                                  | Crystal data and structure refinement for 1–4   |                                          |                    |                    |\\n|------------------------------------------|-------------------------------------------------|------------------------------------------|--------------------|--------------------|\\n| Compounds                                | 1                                               | 2                                        | 3                  | 4                  |\\n| Empirical formula                        | C78H92N14O23Zn4                                 | C63H55N9O17Zn4                           | C99H91N9O17Zn4     | C103H95N9O17Zn4Fe4 |\\n| Formula weight                           | 1855.14                                         | 1471.64                                  | 1940.29            | 2215,76            |\\n| T/K                                      | 150(2)                                          | 150(2)                                   | 150(2)             | 130(2)             |\\n| Crystal system                           | Monoclinic                                      | Monoclinic                               | Monoclinic         | Monoclinic         |\\n| Space group                              | P21/n                                           | Cc                                       | P21/n              | Cc                 |\\n| a/A˚                                     | 12.3274(5)                                      | 24.8414(6)                               | 12.2527(2)         | 24.6659(7)         |\\n| b/A˚                                     | 30.5413(19)                                     | 31.1031(8)                               | 31.2515(5)         | 31.3085(12)        |\\n| c/A˚                                     | 24.7472(15)                                     | 12.3400(3)                               | 24.7184(4)         | 12.2751(5)         |')),\n",
       " GraphDocument(nodes=[], relationships=[], source=Document(page_content='| b/◦                                      | 98.232(1)                                       | 97.318(1)                                | 97.023(1)          | 96.306(1)          |\\n| Volume/A˚ 3                              | 9221.2(9)                                       | 9456.8(4)                                | 9394.0(3)          | 9422.1(6)          |\\n| Z                                        | 4                                               | 4                                        | 4                  | 4                  |\\n| Dcalc/g cm-3                             | 1.336                                           | 1.034                                    | 1.372              | 1.562              |\\n| Absorbtion coefficient/mm-1              | 1.103                                           | 1.054                                    | 1.080              | 1.672              |\\n| F(000)                                   | 3848                                            | 3008                                     | 4016               | 4544               |\\n| Crystal size/mm                          | 0.32 ¥ 0.11 ¥ 0.07                              | 0.36 ¥ 0.16 ¥ 0.14                       | 0.20 ¥ 0.18 ¥ 0.12 | 0,09 ¥ 0,08 ¥ 0,06 |\\n| q for data collection/◦                  | 1.79–26.39                                      | 2.11–30,54                               | 2.06–30.52         | 2.12–27.53         |\\n| Limiting indices                         | -15 £ h £ 8, -38 £ k £ 38, -30 £ l £ 30         | -31 £ h £ 18, -40 £ k £ 40, -15 £ l £ 15 |                    |                    |\\n| Reflns collected/unique                  | 57408/18509                                     | 61839/25216                              | 125023/28654       | 36506/17100        |\\n| Rint                                     | 0.0555                                          | 0.0171                                   | 0.0279             | 0.0335             |')),\n",
       " GraphDocument(nodes=[], relationships=[Relationship(source=Node(id='Goodness-Of-Fit On F2', type='Bond'), target=Node(id='1.104', type='Atom'), type='HAS_ATOM'), Relationship(source=Node(id='Goodness-Of-Fit On F2', type='Bond'), target=Node(id='1.097', type='Atom'), type='HAS_ATOM'), Relationship(source=Node(id='Goodness-Of-Fit On F2', type='Bond'), target=Node(id='1.037', type='Atom'), type='HAS_ATOM'), Relationship(source=Node(id='Goodness-Of-Fit On F2', type='Bond'), target=Node(id='1.023', type='Atom'), type='HAS_ATOM'), Relationship(source=Node(id='Absolute Structure Parameter', type='Bond'), target=Node(id='0.472(8)', type='Atom'), type='HAS_ATOM'), Relationship(source=Node(id='Absolute Structure Parameter', type='Bond'), target=Node(id='0.488(7)', type='Atom'), type='HAS_ATOM'), Relationship(source=Node(id='Final R Indices [I > 2S(I)]', type='Bond'), target=Node(id='R1 = 0.1079', type='Atom'), type='HAS_ATOM'), Relationship(source=Node(id='Final R Indices [I > 2S(I)]', type='Bond'), target=Node(id='R1 = 0.0374', type='Atom'), type='HAS_ATOM'), Relationship(source=Node(id='Final R Indices [I > 2S(I)]', type='Bond'), target=Node(id='R1 = 0.0367', type='Atom'), type='HAS_ATOM'), Relationship(source=Node(id='Final R Indices [I > 2S(I)]', type='Bond'), target=Node(id='R1 = 0.0349', type='Atom'), type='HAS_ATOM'), Relationship(source=Node(id='Wr2 = 0.2833', type='Bond'), target=Node(id='Wr2 = 0.1271', type='Atom'), type='HAS_ATOM'), Relationship(source=Node(id='Wr2 = 0.2833', type='Bond'), target=Node(id='Wr2 = 0.0879', type='Atom'), type='HAS_ATOM'), Relationship(source=Node(id='Wr2 = 0.2833', type='Bond'), target=Node(id='Wr2 = 0.0672', type='Atom'), type='HAS_ATOM'), Relationship(source=Node(id='R Indices (All Data)', type='Bond'), target=Node(id='R1 = 0.1451', type='Atom'), type='HAS_ATOM'), Relationship(source=Node(id='R Indices (All Data)', type='Bond'), target=Node(id='R1 = 0.0423', type='Atom'), type='HAS_ATOM'), Relationship(source=Node(id='R Indices (All Data)', type='Bond'), target=Node(id='R1 = 0.0492', type='Atom'), type='HAS_ATOM'), Relationship(source=Node(id='R Indices (All Data)', type='Bond'), target=Node(id='R1 = 0.0482', type='Atom'), type='HAS_ATOM'), Relationship(source=Node(id='Wr2 = 0.2973', type='Bond'), target=Node(id='Wr2 = 0.1311', type='Atom'), type='HAS_ATOM'), Relationship(source=Node(id='Wr2 = 0.2973', type='Bond'), target=Node(id='Wr2 = 0.0916', type='Atom'), type='HAS_ATOM'), Relationship(source=Node(id='Wr2 = 0.2973', type='Bond'), target=Node(id='Wr2 = 0.0706', type='Atom'), type='HAS_ATOM'), Relationship(source=Node(id='Largest Diff. Peak And Hole/E A˚ -3', type='Bond'), target=Node(id='1.704/-0.950', type='Atom'), type='HAS_ATOM'), Relationship(source=Node(id='Largest Diff. Peak And Hole/E A˚ -3', type='Bond'), target=Node(id='1.230/-0.406', type='Atom'), type='HAS_ATOM'), Relationship(source=Node(id='Largest Diff. Peak And Hole/E A˚ -3', type='Bond'), target=Node(id='0.980/-0.795', type='Atom'), type='HAS_ATOM'), Relationship(source=Node(id='Largest Diff. Peak And Hole/E A˚ -3', type='Bond'), target=Node(id='0.811/-0.850', type='Atom'), type='HAS_ATOM'), Relationship(source=Node(id='-35 £ H £ 31, -44 £ K £ 40, -16 £ L £ 17', type='Bond'), target=Node(id='-17 £ H £ 17, -44 £ K £ 39, -35 £ L £ 32', type='Atom'), type='HAS_ATOM')], source=Document(page_content='| Goodness-of-fit on F2                    | 1.104                                           | 1.097                                    | 1.037              | 1.023              |\\n| Absolute structure parameter             | -                                               | 0.472(8)                                 | -                  | 0.488(7)           |\\n| Final R indices [I > 2s(I)]              | R1 = 0.1079                                     | R1 = 0.0374                              | R1 = 0.0367        | R1 = 0.0349        |\\n| wR2 = 0.2833                             | wR2 = 0.1271                                    | wR2 = 0.0879                             | wR2 = 0.0672       |                    |\\n| R indices (all data)                     | R1 = 0.1451                                     | R1 = 0.0423                              | R1 = 0.0492        | R1 = 0.0482        |\\n| wR2 = 0.2973                             | wR2 = 0.1311                                    | wR2 = 0.0916                             | wR2 = 0.0706       |                    |\\n| Largest diff. peak and hole/e A˚ -3      | 1.704/-0.950                                    | 1.230/-0.406                             | 0.980/-0.795       | 0.811/-0.850       |\\n| -35 £ h £ 31, -44 £ k £ 40, -16 £ l £ 17 | -17 £ h £ 17, -44 £ k £ 39, -35 £ l £ 32        |                                          |                    |                    |')),\n",
       " GraphDocument(nodes=[Node(id='Zn4(Dmf)(Ur)2(Ndc)4', type='Mof', properties={'description': 'A metal-organic framework containing zinc and organic ligands.'})], relationships=[Relationship(source=Node(id='Zn4(Dmf)(Ur)2(Ndc)4', type='Mof'), target=Node(id='C63H55N9O17Zn4', type='Mof'), type='HAS_BOND', properties={'description': 'Composition analysis of the framework.'})], source=Document(page_content='![7_image_0.png](7_image_0.png)\\n\\nand then heated under dynamic vacuum at 65 ◦C for 24 h. Anal:\\nCalc. for C63H55N9O17Zn4 (%): C 51.4; H 3.8; N 8.6. Found (%): C\\n51,7; H 3,8; N 8,7.\\n\\n[Zn4(dmf)(ur)2(ndc)4]·6C6H6 **(3).** The crystals of 2 (0.100 g, 0.068 mmol) were immersed in benzene (10 ml) for 72 h. After that, colorless crystals of 3 was separated by filtration, and dried on air. Anal: Calc. for C99H91N9O17Zn4 (%): C 61.3; H 4.7; N 6.5.\\n\\nFound (%): C 60.9; H 4.4; N 6.7.\\n\\n[Zn4(dmf)(ur)2(ndc)4]·4Fe(C5H5)2 **(4).** A mixture of crystals of 2 (0.050 g, 0.034 mmol), and ferrocene (0.025 g, 0.136 mmol) was heated in evacuated sealed glass tube at 100 ◦C for 10 h. After slow cooling to room temperature, yellow crystals of 4 were separated from excess of ferrocene crystallized on the inner side wall of glass tube. Anal: Calc. for C103H95N9O17Zn4Fe4 (%): C 55.8; H 4.3; N\\n5.7. Found (%): C 55.7; H 4.4; N 5.7.\\n\\n## Gas Sorption Measurements')),\n",
       " GraphDocument(nodes=[Node(id='Dichloromethylene-Exchanged Sample 1', type='Mof')], relationships=[], source=Document(page_content='The dichloromethylene-exchanged sample 1 was activated in vacuum at 100 ◦C for 14 h. Nitrogen adsorption at 77 K was studied by means of Autosorb-6B-Kr (Quantachrome) instrument. Prior to experiment the MOF was degassed under dynamic vacuum (30 mTorr) at 80 ◦C overnight. Adsorption isotherm was measured in a range of 10-5 < P/P0 < 0.995. Pore volume-size distribution was calculated using standard regularization procedure with kernel functions, calculated using NLDFT for silica cylindrical pores. Despite on obvious model restrictions, the calculated isotherm fitted well the experimental one, and the characteristic sizes from pore volume-size distributions correlate with the sizes from X-ray diffraction data. The hydrogen sorption isotherms were measured on BELSORP-max instrument using high-purity gas (99.9999%)\\nin the range 0.0–1.0 bar at 77 K (liq. N2 bath) and 87 K (liq. Ar bath). Enthalpies of H2 adsorption were calculated using a variant of the Clausius–Clapeyron equation: ln(P1/P2) = DHads(T2 - T1)/(RT1T2), where Pn - pressure for isotherm n, Tn - temperature for isotherm n, R = 8.3145 J/(mol K). Pressure as a function of the amount adsorbed was determined using the Langmuir–Freundlich fit for each isotherm (see ESI† for details).11\\n\\n## X-Ray Crystallography\\n\\nSingle-crystal XRD data collections of 1–4 were performed by using an automated four circle Bruker–Nonius X8Apex CCD\\ndiffractometer with Mo-Ka radiation (l = 0.71073 A˚ ). An absorbtion correction was applied based on the intensities of equivalent reflections with the use of the SADABS 12 program.')),\n",
       " GraphDocument(nodes=[Node(id='F2', type='Mof'), Node(id='2,6-Naphtalenedicarboxylate', type='Linker'), Node(id='Urotropine', type='Linker'), Node(id='1', type='Mof'), Node(id='2', type='Mof'), Node(id='4', type='Mof')], relationships=[Relationship(source=Node(id='1', type='Mof'), target=Node(id='2,6-Naphtalenedicarboxylate', type='Linker'), type='HAS_LINKER'), Relationship(source=Node(id='1', type='Mof'), target=Node(id='Urotropine', type='Linker'), type='HAS_LINKER'), Relationship(source=Node(id='2', type='Mof'), target=Node(id='1', type='Mof'), type='HAS_BOND'), Relationship(source=Node(id='4', type='Mof'), target=Node(id='1', type='Mof'), type='HAS_BOND')], source=Document(page_content='The structures were solved by direct method and refined on F2 by full-matrix least-squares method in the anisotropic approximation (for non-hydrogen atoms) using SHELX-97 program package.13 Positions of the hydrogen atoms of 2,6-naphtalenedicarboxylate, and urotropine ligands, guest benzene, ferrocene and DMF\\nmolecules were calculated geometrically and refined by the rigid model. The hydrogen atoms of disordered guest water molecules in 1 were not located. In the case of 2 and 4 a racemic merohedral twinning was found with the twinning law of {-1, 0, 0; 0, -1, 0; 0, 0, -1} with relative component weights of 0.528(8)/0.472(8) for 2, and 0.512(7)/0.488(7) for 4. X-ray data collections have been performed for several crystals of 1. The data given for 1 in the paper are the best we could achieve. Apparently, lower quality of X-ray data of 1 is due to non-ideal crystal quality and disordering in guest subsystem. A summary of the crystallographic data and structural determination for 1–4 is provided in Table 1. Selected bond length and angles are listed in Tables S1–S4 (see ESI†).'))]"
      ]
     },
     "execution_count": 13,
     "metadata": {},
     "output_type": "execute_result"
    }
   ],
   "source": [
    "custom_graph_documents"
   ]
  },
  {
   "cell_type": "code",
   "execution_count": 14,
   "metadata": {},
   "outputs": [],
   "source": [
    "graph.add_graph_documents(\n",
    "    custom_graph_documents,\n",
    "    baseEntityLabel=True,\n",
    "    include_source=True\n",
    ")"
   ]
  },
  {
   "cell_type": "markdown",
   "metadata": {},
   "source": [
    "Let's see how many nodes and relationships were extracted"
   ]
  },
  {
   "cell_type": "code",
   "execution_count": 15,
   "metadata": {},
   "outputs": [
    {
     "data": {
      "text/plain": [
       "[{'type': 'node', 'total_count': 118, 'non_null_descriptions': 21},\n",
       " {'type': 'relationship', 'total_count': 127, 'non_null_descriptions': 13}]"
      ]
     },
     "execution_count": 15,
     "metadata": {},
     "output_type": "execute_result"
    }
   ],
   "source": [
    "graph.query(\"\"\"\n",
    "MATCH (n:`__Entity__`)\n",
    "RETURN \"node\" AS type,\n",
    "       count(*) AS total_count,\n",
    "       count(n.description) AS non_null_descriptions\n",
    "UNION ALL\n",
    "MATCH (n)-[r:!MENTIONS]->()\n",
    "RETURN \"relationship\" AS type,\n",
    "       count(*) AS total_count,\n",
    "       count(r.description) AS non_null_descriptions\n",
    "\"\"\")"
   ]
  },
  {
   "cell_type": "markdown",
   "metadata": {},
   "source": [
    "## Entity Resolution\n",
    "\n",
    "We will now remove duplicate entities from the knowlede graph.\n",
    "More research should be done on entity resolution techniques - as we can hope to resolve named entity linking issues in this step?\n",
    "\n",
    "The article uses a four step approach for entity resolution:\n",
    "1) Entities in the graph - start with all entities in the graph\n",
    "2) K-nearest graph - Construct a k-nearest neighbor graph, connecting similar entities based on text embeddings\n",
    "3) Weakly Connected Components — Identify weakly connected components in the k-nearest graph, grouping entities that are likely to be similar. Add a word distance filtering step after these components have been identified\n",
    "4) LLM evaluation — Use an LLM to evaluate these components and decide whether the entities within each component should be merged, resulting in a final decision on entity resolution (for example, merging ‘Silicon Valley Bank’ and ‘Silicon_Valley_Bank’ while rejecting the merge for different dates like ‘September 16, 2023’ and ‘September 2, 2023’)\n",
    "\n",
    "Could an approach like this be used resolve entity linking isses for MOFs? - Probably not"
   ]
  },
  {
   "cell_type": "markdown",
   "metadata": {},
   "source": [
    "Begin by calculating text embeddings for the names of entities:"
   ]
  },
  {
   "cell_type": "code",
   "execution_count": 16,
   "metadata": {},
   "outputs": [],
   "source": [
    "from langchain_community.vectorstores import Neo4jVector\n",
    "from langchain_openai import OpenAIEmbeddings\n",
    "\n",
    "vector = Neo4jVector.from_existing_graph(\n",
    "    OpenAIEmbeddings(),\n",
    "    node_label='__Entity__',\n",
    "    text_node_properties=['id', 'description'],\n",
    "    embedding_node_property='embedding'\n",
    ")"
   ]
  },
  {
   "cell_type": "markdown",
   "metadata": {},
   "source": [
    "Use cosine distance of embeddings to find potentially similar candidates. Will use graph algorithms available in Graph Data Science (GDS) package.\n",
    "\n",
    "First, we have to import an in-memory graph to execute graph algorithms."
   ]
  },
  {
   "cell_type": "code",
   "execution_count": 17,
   "metadata": {},
   "outputs": [],
   "source": [
    "from graphdatascience import GraphDataScience\n",
    "# project graph\n",
    "\n",
    "gds = GraphDataScience(\n",
    "    os.environ[\"NEO4J_URI\"],\n",
    "    auth=(os.environ[\"NEO4J_USERNAME\"], os.environ[\"NEO4J_PASSWORD\"])\n",
    ")"
   ]
  },
  {
   "cell_type": "markdown",
   "metadata": {},
   "source": [
    "The Neo4j stoed graph is projected into an in-memory graph for faster processing and analysis. Graph algorithms are executed on the in-memory graph. The results can optionally be stored back into the Neo4j database."
   ]
  },
  {
   "cell_type": "code",
   "execution_count": 20,
   "metadata": {},
   "outputs": [],
   "source": [
    "G, result = gds.graph.project(\n",
    "    \"entities2h0645\",                   #  Graph name\n",
    "    \"__Entity__\",                 #  Node projection\n",
    "    \"*\",                          #  Relationship projection\n",
    "    nodeProperties=[\"embedding\"]  #  Configuration parameters\n",
    ")"
   ]
  },
  {
   "cell_type": "markdown",
   "metadata": {},
   "source": [
    "Creating a k-nearest graph, will create relationships between entities only if the similarity is above a cuttoff (0.95). Use the \"mutate\" mode of the algorithm to store results back to the projected in-memory graph instead of the knowledge graph."
   ]
  },
  {
   "cell_type": "code",
   "execution_count": 21,
   "metadata": {},
   "outputs": [
    {
     "data": {
      "text/plain": [
       "ranIterations                                                             5\n",
       "nodePairsConsidered                                                   36049\n",
       "didConverge                                                            True\n",
       "preProcessingMillis                                                       0\n",
       "computeMillis                                                           298\n",
       "mutateMillis                                                             55\n",
       "postProcessingMillis                                                      0\n",
       "nodesCompared                                                           118\n",
       "relationshipsWritten                                                   1180\n",
       "similarityDistribution    {'min': 0.9015045166015625, 'p5': 0.9166793823...\n",
       "configuration             {'mutateProperty': 'score', 'jobId': '2fa06ac2...\n",
       "Name: 0, dtype: object"
      ]
     },
     "execution_count": 21,
     "metadata": {},
     "output_type": "execute_result"
    }
   ],
   "source": [
    "similarity_threshold = 0.7 #strategy - use a very low threshold, and rely on LLM more to filter out which entities should not be merged\n",
    "\n",
    "gds.knn.mutate(\n",
    "  G,\n",
    "  nodeProperties=['embedding'],\n",
    "  mutateRelationshipType= 'SIMILAR',\n",
    "  mutateProperty= 'score',\n",
    "  similarityCutoff=similarity_threshold\n",
    ")"
   ]
  },
  {
   "cell_type": "code",
   "execution_count": 22,
   "metadata": {},
   "outputs": [
    {
     "data": {
      "text/plain": [
       "writeMillis                                                             14\n",
       "nodePropertiesWritten                                                  118\n",
       "componentCount                                                           1\n",
       "componentDistribution    {'min': 118, 'p5': 118, 'max': 118, 'p999': 11...\n",
       "postProcessingMillis                                                     2\n",
       "preProcessingMillis                                                      0\n",
       "computeMillis                                                            7\n",
       "configuration            {'writeProperty': 'wcc', 'jobId': 'dd2abe90-1e...\n",
       "Name: 0, dtype: object"
      ]
     },
     "execution_count": 22,
     "metadata": {},
     "output_type": "execute_result"
    }
   ],
   "source": [
    "gds.wcc.write(\n",
    "    G,\n",
    "    writeProperty=\"wcc\", #using Weakly connected components algorithm\n",
    "    relationshipTypes=[\"SIMILAR\"]\n",
    ")"
   ]
  },
  {
   "cell_type": "markdown",
   "metadata": {},
   "source": [
    "Text embedding comparison is a starting point, but only part of entity resolution. For example, Google and Apple are very close in the embedding space (0.96 cos similarity).\n",
    "\n",
    "Therefore, we add an additional fiilter allowing only pairs of words with a text distance of three or fewer (meaning that only the characters can be changed).\n",
    "\n",
    "This step prevents the named entity linking problem to be resolved with this method. As for that use-case - we might want \"MOF-801\" and \"Compound 1\" to be resolved."
   ]
  },
  {
   "cell_type": "code",
   "execution_count": 24,
   "metadata": {},
   "outputs": [
    {
     "data": {
      "text/plain": [
       "[{'combinedResult': ['Urotropin', 'Urotropine']},\n",
       " {'combinedResult': ['Zn(3)', 'Zn(4)']},\n",
       " {'combinedResult': ['Zn4(Dmf)(Ur)2(Ndc)4', '[Zn4(Dmf)(Ur)2(Ndc)4]']},\n",
       " {'combinedResult': ['Compound 1', 'Compound 2']},\n",
       " {'combinedResult': ['Framework', 'Framework 2']},\n",
       " {'combinedResult': ['Guest Molecule', 'Guest Molecules']},\n",
       " {'combinedResult': ['N Atom', 'O Atoms']},\n",
       " {'combinedResult': ['Type A', 'Type B']},\n",
       " {'combinedResult': ['Wr2 = 0.2833', 'Wr2 = 0.2973']},\n",
       " {'combinedResult': ['1.023', '1.037', '1.097']},\n",
       " {'combinedResult': ['R1 = 0.0349',\n",
       "   'R1 = 0.0367',\n",
       "   'R1 = 0.0374',\n",
       "   'R1 = 0.0423',\n",
       "   'R1 = 0.0482',\n",
       "   'R1 = 0.0492']},\n",
       " {'combinedResult': ['Wr2 = 0.1271', 'Wr2 = 0.1311']},\n",
       " {'combinedResult': ['Wr2 = 0.0672', 'Wr2 = 0.0879']},\n",
       " {'combinedResult': ['Wr2 = 0.0706', 'Wr2 = 0.0916']}]"
      ]
     },
     "execution_count": 24,
     "metadata": {},
     "output_type": "execute_result"
    }
   ],
   "source": [
    "word_edit_distance = 3\n",
    "potential_duplicate_candidates = graph.query(\n",
    "    \"\"\"MATCH (e:`__Entity__`)\n",
    "    WHERE size(e.id) > 4 // longer than 4 characters\n",
    "    WITH e.wcc AS community, collect(e) AS nodes, count(*) AS count\n",
    "    WHERE count > 1\n",
    "    UNWIND nodes AS node\n",
    "    // Add text distance\n",
    "    WITH distinct\n",
    "      [n IN nodes WHERE apoc.text.distance(toLower(node.id), toLower(n.id)) < $distance | n.id] AS intermediate_results\n",
    "    WHERE size(intermediate_results) > 1\n",
    "    WITH collect(intermediate_results) AS results\n",
    "    // combine groups together if they share elements\n",
    "    UNWIND range(0, size(results)-1, 1) as index\n",
    "    WITH results, index, results[index] as result\n",
    "    WITH apoc.coll.sort(reduce(acc = result, index2 IN range(0, size(results)-1, 1) |\n",
    "            CASE WHEN index <> index2 AND\n",
    "                size(apoc.coll.intersection(acc, results[index2])) > 0\n",
    "                THEN apoc.coll.union(acc, results[index2])\n",
    "                ELSE acc\n",
    "            END\n",
    "    )) as combinedResult\n",
    "    WITH distinct(combinedResult) as combinedResult\n",
    "    // extra filtering\n",
    "    WITH collect(combinedResult) as allCombinedResults\n",
    "    UNWIND range(0, size(allCombinedResults)-1, 1) as combinedResultIndex\n",
    "    WITH allCombinedResults[combinedResultIndex] as combinedResult, combinedResultIndex, allCombinedResults\n",
    "    WHERE NOT any(x IN range(0,size(allCombinedResults)-1,1)\n",
    "        WHERE x <> combinedResultIndex\n",
    "        AND apoc.coll.containsAll(allCombinedResults[x], combinedResult)\n",
    "    )\n",
    "    RETURN combinedResult\n",
    "    \"\"\", params={'distance': word_edit_distance})\n",
    "potential_duplicate_candidates"
   ]
  },
  {
   "cell_type": "markdown",
   "metadata": {},
   "source": [
    "The merged entities shown above are all incorrect, sadly. In truth, we want all these entities to be distinct. This presents a clear problem with this form of entity resoltuion. Since we have a set of predefined nodes, we can look into setting rules/heuristics that tailor to each node type.\n",
    "\n",
    "For now, we will continue this approach. We will use an LLM to make a final decision about whether or not entities should be merged."
   ]
  },
  {
   "cell_type": "code",
   "execution_count": 25,
   "metadata": {},
   "outputs": [],
   "source": [
    "#this prompt can be more MOF specific\n",
    "#could feed in the descriptions to help the LLM decide?\n",
    "system_prompt = \"\"\"You are a data processing assistant. Your task is to identify duplicate entities in a list and decide which of them should be merged.\n",
    "The entities might be slightly different in format or content, but essentially refer to the same thing. Use your analytical skills to determine duplicates.\n",
    "\n",
    "Here are the rules for identifying duplicates:\n",
    "1. Entities with minor typographical differences should be considered duplicates.\n",
    "2. Entities with different formats but the same content should be considered duplicates.\n",
    "3. Entities that refer to the same real-world object or concept, even if described differently, should be considered duplicates.\n",
    "4. If it refers to different numbers, dates, or products, do not merge results\n",
    "\"\"\"\n",
    "user_template = \"\"\"\n",
    "Here is the list of entities to process:\n",
    "{entities}\n",
    "\n",
    "Please identify duplicates, merge them, and provide the merged list.\n",
    "\"\"\""
   ]
  },
  {
   "cell_type": "code",
   "execution_count": 26,
   "metadata": {},
   "outputs": [],
   "source": [
    "from langchain_core.pydantic_v1 import BaseModel, Field\n",
    "from typing import List, Optional\n",
    "from langchain_core.prompts import ChatPromptTemplate\n",
    "from retry import retry\n",
    "\n",
    "class DuplicateEntities(BaseModel):\n",
    "    entities: List[str] = Field(\n",
    "        description=\"Entities that represent the same object or real-world entity and should be merged\"\n",
    "    )\n",
    "\n",
    "\n",
    "class Disambiguate(BaseModel):\n",
    "    merge_entities: Optional[List[DuplicateEntities]] = Field(\n",
    "        description=\"Lists of entities that represent the same object or real-world entity and should be merged\"\n",
    "    )\n",
    "\n",
    "\n",
    "extraction_llm = ChatOpenAI(model_name=\"gpt-4o\").with_structured_output(\n",
    "    Disambiguate\n",
    ")\n",
    "\n",
    "extraction_prompt = ChatPromptTemplate.from_messages(\n",
    "    [\n",
    "        (\n",
    "            \"system\",\n",
    "            system_prompt,\n",
    "        ),\n",
    "        (\n",
    "            \"human\",\n",
    "            user_template,\n",
    "        ),\n",
    "    ]\n",
    ")"
   ]
  },
  {
   "cell_type": "code",
   "execution_count": 27,
   "metadata": {},
   "outputs": [],
   "source": [
    "extraction_chain = extraction_prompt | extraction_llm\n",
    "\n",
    "\n",
    "def entity_resolution(entities: List[str]) -> Optional[List[List[str]]]:\n",
    "    return [\n",
    "        el.entities\n",
    "        for el in extraction_chain.invoke({\"entities\": entities}).merge_entities\n",
    "    ]"
   ]
  },
  {
   "cell_type": "code",
   "execution_count": 31,
   "metadata": {},
   "outputs": [
    {
     "name": "stderr",
     "output_type": "stream",
     "text": [
      "Processing documents:   0%|          | 0/14 [00:00<?, ?it/s]"
     ]
    },
    {
     "name": "stderr",
     "output_type": "stream",
     "text": [
      "Processing documents: 100%|██████████| 14/14 [00:06<00:00,  2.14it/s]\n"
     ]
    }
   ],
   "source": [
    "from tqdm import tqdm\n",
    "import time\n",
    "\n",
    "merged_entities = []\n",
    "\n",
    "# Process each element sequentially without parallelization\n",
    "for el in tqdm(potential_duplicate_candidates, desc=\"Processing documents\"):\n",
    "    # Call entity_resolution function directly\n",
    "    to_merge = entity_resolution(el['combinedResult'])\n",
    "    if to_merge:\n",
    "        merged_entities.extend(to_merge)\n"
   ]
  },
  {
   "cell_type": "code",
   "execution_count": 32,
   "metadata": {},
   "outputs": [
    {
     "data": {
      "text/plain": [
       "[['Urotropin', 'Urotropine'],\n",
       " ['Zn(3)', 'Zn(4)'],\n",
       " ['Zn4(Dmf)(Ur)2(Ndc)4', '[Zn4(Dmf)(Ur)2(Ndc)4]'],\n",
       " ['Framework', 'Framework 2'],\n",
       " ['Guest Molecule', 'Guest Molecules']]"
      ]
     },
     "execution_count": 32,
     "metadata": {},
     "output_type": "execute_result"
    }
   ],
   "source": [
    "merged_entities"
   ]
  },
  {
   "cell_type": "markdown",
   "metadata": {},
   "source": [
    "Take results from entity_resolution and merge them back into the database"
   ]
  },
  {
   "cell_type": "code",
   "execution_count": 38,
   "metadata": {},
   "outputs": [
    {
     "data": {
      "text/plain": [
       "[{'count(*)': 5}]"
      ]
     },
     "execution_count": 38,
     "metadata": {},
     "output_type": "execute_result"
    }
   ],
   "source": [
    "graph.query(\"\"\"\n",
    "UNWIND $data AS candidates\n",
    "CALL {\n",
    "  WITH candidates\n",
    "  MATCH (e:__Entity__) WHERE e.id IN candidates\n",
    "  RETURN collect(e) AS nodes\n",
    "}\n",
    "CALL apoc.refactor.mergeNodes(nodes, {properties: {\n",
    "    `.*`: 'discard'\n",
    "}})\n",
    "YIELD node\n",
    "RETURN count(*)\n",
    "\"\"\", params={\"data\": merged_entities})"
   ]
  },
  {
   "cell_type": "code",
   "execution_count": 39,
   "metadata": {},
   "outputs": [
    {
     "data": {
      "text/html": [
       "<div>\n",
       "<style scoped>\n",
       "    .dataframe tbody tr th:only-of-type {\n",
       "        vertical-align: middle;\n",
       "    }\n",
       "\n",
       "    .dataframe tbody tr th {\n",
       "        vertical-align: top;\n",
       "    }\n",
       "\n",
       "    .dataframe thead th {\n",
       "        text-align: right;\n",
       "    }\n",
       "</style>\n",
       "<table border=\"1\" class=\"dataframe\">\n",
       "  <thead>\n",
       "    <tr style=\"text-align: right;\">\n",
       "      <th></th>\n",
       "      <th>graphName</th>\n",
       "      <th>database</th>\n",
       "      <th>databaseLocation</th>\n",
       "      <th>memoryUsage</th>\n",
       "      <th>sizeInBytes</th>\n",
       "      <th>nodeCount</th>\n",
       "      <th>relationshipCount</th>\n",
       "      <th>configuration</th>\n",
       "      <th>density</th>\n",
       "      <th>creationTime</th>\n",
       "      <th>modificationTime</th>\n",
       "      <th>schema</th>\n",
       "      <th>schemaWithOrientation</th>\n",
       "    </tr>\n",
       "  </thead>\n",
       "  <tbody>\n",
       "  </tbody>\n",
       "</table>\n",
       "</div>"
      ],
      "text/plain": [
       "Empty DataFrame\n",
       "Columns: [graphName, database, databaseLocation, memoryUsage, sizeInBytes, nodeCount, relationshipCount, configuration, density, creationTime, modificationTime, schema, schemaWithOrientation]\n",
       "Index: []"
      ]
     },
     "execution_count": 39,
     "metadata": {},
     "output_type": "execute_result"
    }
   ],
   "source": [
    "G.drop()"
   ]
  }
 ],
 "metadata": {
  "kernelspec": {
   "display_name": "general",
   "language": "python",
   "name": "python3"
  },
  "language_info": {
   "codemirror_mode": {
    "name": "ipython",
    "version": 3
   },
   "file_extension": ".py",
   "mimetype": "text/x-python",
   "name": "python",
   "nbconvert_exporter": "python",
   "pygments_lexer": "ipython3",
   "version": "3.12.5"
  }
 },
 "nbformat": 4,
 "nbformat_minor": 2
}
