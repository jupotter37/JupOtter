{
  "nbformat": 4,
  "nbformat_minor": 0,
  "metadata": {
    "colab": {
      "provenance": [],
      "include_colab_link": true
    },
    "kernelspec": {
      "name": "python3",
      "display_name": "Python 3"
    },
    "language_info": {
      "name": "python"
    }
  },
  "cells": [
    {
      "cell_type": "markdown",
      "metadata": {
        "id": "view-in-github",
        "colab_type": "text"
      },
      "source": [
        "<a href=\"https://colab.research.google.com/github/deltorobarba/astrophysics/blob/main/encoding.ipynb\" target=\"_parent\"><img src=\"https://colab.research.google.com/assets/colab-badge.svg\" alt=\"Open In Colab\"/></a>"
      ]
    },
    {
      "cell_type": "markdown",
      "source": [
        "# <font color=\"blue\">**Encoding (Embedding)**"
      ],
      "metadata": {
        "id": "98rDhQN9pWNw"
      }
    },
    {
      "cell_type": "markdown",
      "source": [
        "![sciences](https://raw.githubusercontent.com/deltorobarba/repo/master/sciences_0000.png)\n"
      ],
      "metadata": {
        "id": "YiqcrmGetjeG"
      }
    },
    {
      "cell_type": "markdown",
      "source": [
        "https://www.mdpi.com/2227-7390/12/21/3318: Quantum Machine Learning: Exploring the Role of Data Encoding Techniques, Challenges, and Future Directions"
      ],
      "metadata": {
        "id": "5OnWU5lzcJ3g"
      }
    },
    {
      "cell_type": "markdown",
      "source": [
        "https://arxiv.org/abs/2411.02087v2 An Exponential Separation Between Quantum and Quantum-Inspired Classical Algorithms for Machine Learning"
      ],
      "metadata": {
        "id": "rbjt8k9yKCa4"
      }
    },
    {
      "cell_type": "markdown",
      "source": [
        "https://pennylane.ai/qml/glossary/quantum_embedding"
      ],
      "metadata": {
        "id": "0s3Jmd4X7ogm"
      }
    },
    {
      "cell_type": "code",
      "source": [
        "!pip install pennylane cirq qutip -q"
      ],
      "metadata": {
        "colab": {
          "base_uri": "https://localhost:8080/"
        },
        "id": "gcjMD90ysTIY",
        "outputId": "b83f102d-d424-4e46-afc4-8225414f3a2a"
      },
      "execution_count": null,
      "outputs": [
        {
          "output_type": "stream",
          "name": "stdout",
          "text": [
            "\u001b[2K   \u001b[90m━━━━━━━━━━━━━━━━━━━━━━━━━━━━━━━━━━━━━━━━\u001b[0m \u001b[32m28.0/28.0 MB\u001b[0m \u001b[31m34.2 MB/s\u001b[0m eta \u001b[36m0:00:00\u001b[0m\n",
            "\u001b[?25h"
          ]
        }
      ]
    },
    {
      "cell_type": "code",
      "source": [
        "# Dense Angle Encoding\n",
        "def dense_angle_encode(data_vector):\n",
        "    n_qubits = len(data_vector) // 2  # Each qubit encodes 2 values\n",
        "    qubits = [cirq.GridQubit(0, i) for i in range(n_qubits)]\n",
        "    circuit = cirq.Circuit()\n",
        "\n",
        "    # Encode pairs of values using Ry and Rz rotations\n",
        "    for i, qubit in enumerate(qubits):\n",
        "        # Ry rotation for first value\n",
        "        circuit.append(cirq.ry(data_vector[2*i])(qubit))\n",
        "        # Rz rotation for second value\n",
        "        circuit.append(cirq.rz(data_vector[2*i + 1])(qubit))\n",
        "\n",
        "    # Add measurements\n",
        "    circuit.append(cirq.measure(*qubits, key='result'))\n",
        "    return circuit"
      ],
      "metadata": {
        "id": "8rQaj0VK46SH"
      },
      "execution_count": null,
      "outputs": []
    },
    {
      "cell_type": "markdown",
      "source": [
        "**Basis State Encoding**\n",
        "\n",
        "$| \\psi \\rangle = \\alpha |x_1\\rangle \\otimes \\beta |x_2\\rangle \\otimes \\ldots \\gamma |x_n\\rangle$"
      ],
      "metadata": {
        "id": "ffLPyctOr0ft"
      }
    },
    {
      "cell_type": "code",
      "source": [
        "# PennyLane Example\n",
        "import pennylane as qml\n",
        "import numpy as np\n",
        "\n",
        "# Create a device with 4 qubits\n",
        "dev = qml.device('default.qubit', wires=4)\n",
        "\n",
        "@qml.qnode(dev)\n",
        "def basis_state_encoding(binary_input):\n",
        "    \"\"\"\n",
        "    Encode a classical 4-bit binary number into quantum basis states\n",
        "    Args:\n",
        "        binary_input (list): List of 4 binary digits (0 or 1)\n",
        "    Returns:\n",
        "        array: Quantum state measurements\n",
        "    \"\"\"\n",
        "    # Initialize qubits in |0⟩ state by default\n",
        "\n",
        "    # Apply X gates where binary_input is 1 to flip from |0⟩ to |1⟩\n",
        "    for wire, bit in enumerate(binary_input):\n",
        "        if bit == 1:\n",
        "            qml.PauliX(wires=wire)\n",
        "\n",
        "    # Return measurements in computational basis\n",
        "    return qml.probs(wires=range(4))\n",
        "\n",
        "# Example usage for PennyLane\n",
        "classical_number = [1, 0, 1, 0]  # Encoding binary 1010 (decimal 10)\n",
        "result = basis_state_encoding(classical_number)\n",
        "print(f\"PennyLane encoded state probabilities for {classical_number}: {result}\\n\")"
      ],
      "metadata": {
        "colab": {
          "base_uri": "https://localhost:8080/"
        },
        "id": "T0jAOf3as6z-",
        "outputId": "56f04e23-034d-4723-9d44-24f9edd337e6"
      },
      "execution_count": null,
      "outputs": [
        {
          "output_type": "stream",
          "name": "stdout",
          "text": [
            "PennyLane encoded state probabilities for [1, 0, 1, 0]: [0. 0. 0. 0. 0. 0. 0. 0. 0. 0. 1. 0. 0. 0. 0. 0.]\n",
            "\n"
          ]
        }
      ]
    },
    {
      "cell_type": "code",
      "source": [
        "# Cirq Example\n",
        "import cirq\n",
        "\n",
        "def create_basis_state_circuit(binary_input):\n",
        "    \"\"\"\n",
        "    Create a Cirq circuit that encodes a classical 4-bit binary number\n",
        "    Args:\n",
        "        binary_input (list): List of 4 binary digits (0 or 1)\n",
        "    Returns:\n",
        "        Circuit: Cirq circuit with encoded basis states\n",
        "    \"\"\"\n",
        "    # Create qubits\n",
        "    qubits = [cirq.GridQubit(0, i) for i in range(4)]\n",
        "    circuit = cirq.Circuit()\n",
        "\n",
        "    # Apply X gates where binary_input is 1\n",
        "    for qubit, bit in zip(qubits, binary_input):\n",
        "        if bit == 1:\n",
        "            circuit.append(cirq.X(qubit))\n",
        "\n",
        "    # Add measurements\n",
        "    circuit.append(cirq.measure(*qubits, key='result'))\n",
        "    return circuit\n",
        "\n",
        "# Example usage for Cirq\n",
        "simulator = cirq.Simulator()\n",
        "circuit = create_basis_state_circuit([1, 0, 1, 0])\n",
        "result = simulator.run(circuit, repetitions=1)\n",
        "print(f\"Circuit:\\n{circuit}\")\n",
        "print(f\"\\nCirq measurement results:\\n{result}\")"
      ],
      "metadata": {
        "colab": {
          "base_uri": "https://localhost:8080/"
        },
        "id": "7vpQtEvbsbXE",
        "outputId": "b48f4a75-beb9-4324-9e58-355502bb24bc"
      },
      "execution_count": null,
      "outputs": [
        {
          "output_type": "stream",
          "name": "stdout",
          "text": [
            "Circuit:\n",
            "(0, 0): ───X───M('result')───\n",
            "               │\n",
            "(0, 1): ───────M─────────────\n",
            "               │\n",
            "(0, 2): ───X───M─────────────\n",
            "               │\n",
            "(0, 3): ───────M─────────────\n",
            "\n",
            "Cirq measurement results:\n",
            "result=1, 0, 1, 0\n"
          ]
        }
      ]
    },
    {
      "cell_type": "markdown",
      "source": [
        "**Single-Qubit Angle Encoding**\n",
        "\n",
        "$|\\psi(x)\\rangle = R(x) |0\\rangle $"
      ],
      "metadata": {
        "id": "RIliuJzWtiaO"
      }
    },
    {
      "cell_type": "code",
      "source": [
        "import cirq\n",
        "import numpy as np\n",
        "\n",
        "def single_qubit_angle_encode(data_point, rotation='x'):\n",
        "    \"\"\"\n",
        "    Encode a single classical value into a qubit's rotation\n",
        "    Args:\n",
        "        data_point (float): Value to encode (should be normalized between 0 and 2π)\n",
        "        rotation (str): Rotation axis ('x', 'y', or 'z')\n",
        "    Returns:\n",
        "        Circuit: Cirq circuit with encoded angle\n",
        "    \"\"\"\n",
        "    # Create circuit with single qubit\n",
        "    qubit = cirq.GridQubit(0, 0)\n",
        "    circuit = cirq.Circuit()\n",
        "\n",
        "    # Choose rotation based on axis\n",
        "    if rotation == 'x':\n",
        "        circuit.append(cirq.rx(data_point)(qubit))\n",
        "    elif rotation == 'y':\n",
        "        circuit.append(cirq.ry(data_point)(qubit))\n",
        "    else:  # z rotation\n",
        "        circuit.append(cirq.rz(data_point)(qubit))\n",
        "\n",
        "    # Add measurement\n",
        "    circuit.append(cirq.measure(qubit, key='result'))\n",
        "    return circuit\n",
        "\n",
        "# Example usage\n",
        "data = np.pi/4  # Example value to encode\n",
        "circuit = single_qubit_angle_encode(data, rotation='y')\n",
        "print(f\"Circuit for encoding {data:.3f} radians:\")\n",
        "print(circuit)\n",
        "\n",
        "# Simulate results\n",
        "simulator = cirq.Simulator()\n",
        "result = simulator.run(circuit, repetitions=100)\n",
        "print(\"\\nMeasurement results:\")\n",
        "print(result.histogram(key='result'))"
      ],
      "metadata": {
        "colab": {
          "base_uri": "https://localhost:8080/"
        },
        "id": "Arz9x2QLubSl",
        "outputId": "96a82c4c-dc0c-483a-d095-c77f9be9a330"
      },
      "execution_count": null,
      "outputs": [
        {
          "output_type": "stream",
          "name": "stdout",
          "text": [
            "Circuit for encoding 0.785 radians:\n",
            "(0, 0): ───Ry(0.25π)───M('result')───\n",
            "\n",
            "Measurement results:\n",
            "Counter({0: 91, 1: 9})\n"
          ]
        }
      ]
    },
    {
      "cell_type": "code",
      "source": [
        "import cirq\n",
        "import numpy as np\n",
        "import qutip as qt\n",
        "from matplotlib import pyplot as plt\n",
        "\n",
        "def single_qubit_angle_encode(data_point, rotation='x'):\n",
        "    \"\"\"\n",
        "    Encode a single classical value into a qubit's rotation\n",
        "    Args:\n",
        "        data_point (float): Value to encode (should be normalized between 0 and 2π)\n",
        "        rotation (str): Rotation axis ('x', 'y', or 'z')\n",
        "    Returns:\n",
        "        Circuit: Cirq circuit with encoded angle\n",
        "        final_state: Final state vector after encoding\n",
        "    \"\"\"\n",
        "    # Create circuit with single qubit\n",
        "    qubit = cirq.GridQubit(0, 0)\n",
        "    circuit = cirq.Circuit()\n",
        "\n",
        "    # Choose rotation based on axis\n",
        "    if rotation == 'x':\n",
        "        circuit.append(cirq.rx(data_point)(qubit))\n",
        "    elif rotation == 'y':\n",
        "        circuit.append(cirq.ry(data_point)(qubit))\n",
        "    else:  # z rotation\n",
        "        circuit.append(cirq.rz(data_point)(qubit))\n",
        "\n",
        "    # Simulate to get state vector\n",
        "    simulator = cirq.Simulator()\n",
        "    result = simulator.simulate(circuit)\n",
        "    final_state = result.final_state_vector\n",
        "\n",
        "    return circuit, final_state\n",
        "\n",
        "def plot_bloch_sphere(state_vector, title=\"Bloch Sphere Representation\"):\n",
        "    \"\"\"\n",
        "    Visualize a single-qubit state on the Bloch sphere\n",
        "    Args:\n",
        "        state_vector: Complex numpy array representing quantum state\n",
        "        title: Title for the plot\n",
        "    \"\"\"\n",
        "    # Create a new figure\n",
        "    plt.figure(figsize=(8, 8))\n",
        "\n",
        "    # Create Bloch sphere\n",
        "    b = qt.Bloch()\n",
        "\n",
        "    # Convert state vector to Qutip state\n",
        "    psi = qt.Qobj(state_vector)\n",
        "\n",
        "    # Add state to Bloch sphere\n",
        "    b.add_states(psi)\n",
        "    b.add_states(psi, 'point')\n",
        "\n",
        "    # Customize appearance\n",
        "    b.sphere_alpha = 0.1\n",
        "    b.vector_color = ['r']\n",
        "    b.point_color = ['b']\n",
        "\n",
        "    # Add title\n",
        "    plt.title(title)\n",
        "\n",
        "    # Render Bloch sphere\n",
        "    b.render()\n",
        "    plt.close()\n",
        "\n",
        "    return b\n",
        "\n",
        "# Example usage\n",
        "angles = [np.pi/4, np.pi/2, 3*np.pi/4]\n",
        "\n",
        "# Plot for different angles with Y-rotation\n",
        "for angle in angles:\n",
        "    circuit, state = single_qubit_angle_encode(angle, rotation='y')\n",
        "    print(f\"\\nCircuit for {angle:.3f} radians Y-rotation:\")\n",
        "    print(circuit)\n",
        "    print(f\"Final state vector: {state}\")\n",
        "\n",
        "    # Visualize on Bloch sphere\n",
        "    b = plot_bloch_sphere(state, f\"Y-rotation by {angle:.3f} radians\")\n",
        "    plt.show()\n",
        "\n",
        "# Compare different rotation axes\n",
        "angle = np.pi/3\n",
        "rotations = ['x', 'y', 'z']\n",
        "\n",
        "plt.figure(figsize=(15, 5))\n",
        "for i, rotation in enumerate(rotations, 1):\n",
        "    plt.subplot(1, 3, i)\n",
        "    circuit, state = single_qubit_angle_encode(angle, rotation=rotation)\n",
        "    b = plot_bloch_sphere(state, f\"{rotation.upper()}-rotation by {angle:.3f} radians\")\n",
        "    plt.show()"
      ],
      "metadata": {
        "colab": {
          "base_uri": "https://localhost:8080/",
          "height": 1000
        },
        "id": "MQh6Xu5nvs8J",
        "outputId": "e4df740b-10e9-4548-8f97-36e47069586b"
      },
      "execution_count": null,
      "outputs": [
        {
          "output_type": "stream",
          "name": "stdout",
          "text": [
            "\n",
            "Circuit for 0.785 radians Y-rotation:\n",
            "(0, 0): ───Ry(0.25π)───\n",
            "Final state vector: [0.9238795 +0.j 0.38268343+0.j]\n",
            "\n",
            "Circuit for 1.571 radians Y-rotation:\n",
            "(0, 0): ───Ry(0.5π)───\n",
            "Final state vector: [0.70710677+0.j 0.70710677+0.j]\n",
            "\n",
            "Circuit for 2.356 radians Y-rotation:\n",
            "(0, 0): ───Ry(0.75π)───\n",
            "Final state vector: [0.38268343+0.j 0.9238795 +0.j]\n"
          ]
        },
        {
          "output_type": "display_data",
          "data": {
            "text/plain": [
              "<Figure size 1500x500 with 1 Axes>"
            ],
            "image/png": "[encoded data removed]"
          },
          "metadata": {}
        },
        {
          "output_type": "display_data",
          "data": {
            "text/plain": [
              "<Figure size 640x480 with 1 Axes>"
            ],
            "image/png": "[encoded data removed]"
          },
          "metadata": {}
        },
        {
          "output_type": "display_data",
          "data": {
            "text/plain": [
              "<Figure size 640x480 with 1 Axes>"
            ],
            "image/png": "[encoded data removed]"
          },
          "metadata": {}
        }
      ]
    },
    {
      "cell_type": "markdown",
      "source": [
        "**Multi-Qubit Angle Encoding**\n",
        "\n",
        "$|\\psi(x_1, x_2, \\ldots , x_n)\\rangle = R_1(x_1) \\otimes R_2(x_2) \\otimes \\ldots \\otimes R_n(x_n) |0\\rangle \\otimes n$"
      ],
      "metadata": {
        "id": "to5x94N3tATn"
      }
    },
    {
      "cell_type": "code",
      "source": [
        "import cirq\n",
        "import numpy as np\n",
        "\n",
        "def multi_qubit_angle_encode(data_vector):\n",
        "    \"\"\"\n",
        "    Encode multiple classical values into multiple qubits using rotation gates\n",
        "    Args:\n",
        "        data_vector (list): List of values to encode (should be normalized between 0 and 2π)\n",
        "    Returns:\n",
        "        Circuit: Cirq circuit with encoded angles\n",
        "    \"\"\"\n",
        "    # Create qubits for each data point\n",
        "    qubits = [cirq.GridQubit(0, i) for i in range(len(data_vector))]\n",
        "    circuit = cirq.Circuit()\n",
        "\n",
        "    # Encode each value using Ry rotation\n",
        "    for qubit, value in zip(qubits, data_vector):\n",
        "        circuit.append(cirq.ry(value)(qubit))\n",
        "\n",
        "    # Add measurements\n",
        "    circuit.append(cirq.measure(*qubits, key='result'))\n",
        "    return circuit\n",
        "\n",
        "# Example usage\n",
        "data = [np.pi/4, np.pi/3, np.pi/2]  # Example values to encode\n",
        "circuit = multi_qubit_angle_encode(data)\n",
        "print(f\"Circuit for encoding {data}:\")\n",
        "print(circuit)\n",
        "\n",
        "# Simulate results\n",
        "simulator = cirq.Simulator()\n",
        "result = simulator.run(circuit, repetitions=100)\n",
        "print(\"\\nMeasurement results:\")\n",
        "print(result.histogram(key='result'))"
      ],
      "metadata": {
        "colab": {
          "base_uri": "https://localhost:8080/"
        },
        "id": "zjTgpWT9uYwq",
        "outputId": "c3418f25-6cd3-43b7-bb44-df31dab2423e"
      },
      "execution_count": null,
      "outputs": [
        {
          "output_type": "stream",
          "name": "stdout",
          "text": [
            "Circuit for encoding [0.7853981633974483, 1.0471975511965976, 1.5707963267948966]:\n",
            "(0, 0): ───Ry(0.25π)────M('result')───\n",
            "                        │\n",
            "(0, 1): ───Ry(0.333π)───M─────────────\n",
            "                        │\n",
            "(0, 2): ───Ry(0.5π)─────M─────────────\n",
            "\n",
            "Measurement results:\n",
            "Counter({1: 30, 0: 30, 2: 16, 3: 10, 4: 5, 7: 4, 5: 3, 6: 2})\n"
          ]
        }
      ]
    },
    {
      "cell_type": "markdown",
      "source": [
        "**Dense Angle Encoding**\n",
        "\n",
        "$|\\psi(x_1, x_2, \\ldots , x_n)\\rangle = R_1(x_1) P_1(x_2) \\otimes R_2(x_3) P_2(x_4) \\otimes \\ldots \\otimes R_n(x_{2n-1}) P_n(x_{2n}) |0\\rangle \\otimes n$"
      ],
      "metadata": {
        "id": "1PNBGyeJtENX"
      }
    },
    {
      "cell_type": "code",
      "source": [
        "import cirq\n",
        "import numpy as np\n",
        "\n",
        "def dense_angle_encode(data_vector):\n",
        "    \"\"\"\n",
        "    Dense angle encoding using both Ry and Rz rotations on each qubit\n",
        "    Args:\n",
        "        data_vector (list): List of values to encode (length should be 2*n_qubits)\n",
        "    Returns:\n",
        "        Circuit: Cirq circuit with densely encoded angles\n",
        "    \"\"\"\n",
        "    n_qubits = len(data_vector) // 2  # Each qubit encodes 2 values\n",
        "    qubits = [cirq.GridQubit(0, i) for i in range(n_qubits)]\n",
        "    circuit = cirq.Circuit()\n",
        "\n",
        "    # Encode pairs of values using Ry and Rz rotations\n",
        "    for i, qubit in enumerate(qubits):\n",
        "        # Ry rotation for first value\n",
        "        circuit.append(cirq.ry(data_vector[2*i])(qubit))\n",
        "        # Rz rotation for second value\n",
        "        circuit.append(cirq.rz(data_vector[2*i + 1])(qubit))\n",
        "\n",
        "    # Add measurements\n",
        "    circuit.append(cirq.measure(*qubits, key='result'))\n",
        "    return circuit\n",
        "\n",
        "# Example usage\n",
        "data = [np.pi/4, np.pi/3, np.pi/2, np.pi/6]  # 4 values to encode into 2 qubits\n",
        "circuit = dense_angle_encode(data)\n",
        "print(f\"Circuit for encoding {data}:\")\n",
        "print(circuit)\n",
        "\n",
        "# Simulate results\n",
        "simulator = cirq.Simulator()\n",
        "result = simulator.run(circuit, repetitions=100)\n",
        "print(\"\\nMeasurement results:\")\n",
        "print(result.histogram(key='result'))"
      ],
      "metadata": {
        "colab": {
          "base_uri": "https://localhost:8080/"
        },
        "id": "p2knJNdIuVK8",
        "outputId": "80075eb3-5340-41a7-a4a8-ee0177ad1d71"
      },
      "execution_count": null,
      "outputs": [
        {
          "output_type": "stream",
          "name": "stdout",
          "text": [
            "Circuit for encoding [0.7853981633974483, 1.0471975511965976, 1.5707963267948966, 0.5235987755982988]:\n",
            "(0, 0): ───Ry(0.25π)───Rz(0.333π)───M('result')───\n",
            "                                    │\n",
            "(0, 1): ───Ry(0.5π)────Rz(0.167π)───M─────────────\n",
            "\n",
            "Measurement results:\n",
            "Counter({1: 44, 0: 41, 3: 9, 2: 6})\n"
          ]
        }
      ]
    },
    {
      "cell_type": "markdown",
      "source": [
        "**Amplitude Encoding**\n",
        "\n",
        "$|\\psi(x)\\rangle =  x_1 |0\\rangle + x_2 |1\\rangle + ... + x_N |N-1\\rangle = \\sum_{i=0}^{N-1} x_i |i\\rangle $"
      ],
      "metadata": {
        "id": "rua6zytLtHkk"
      }
    },
    {
      "cell_type": "code",
      "source": [
        "import cirq\n",
        "import numpy as np\n",
        "from scipy.linalg import logm, expm\n",
        "\n",
        "def amplitude_encode(normalized_vector):\n",
        "    \"\"\"\n",
        "    Encode classical data into quantum amplitudes\n",
        "    Args:\n",
        "        normalized_vector (list): Normalized vector to encode (length must be power of 2)\n",
        "    Returns:\n",
        "        Circuit: Cirq circuit that prepares the state with given amplitudes\n",
        "    \"\"\"\n",
        "    # Check if length is power of 2\n",
        "    n_qubits = int(np.log2(len(normalized_vector)))\n",
        "    if 2**n_qubits != len(normalized_vector):\n",
        "        raise ValueError(\"Input vector length must be power of 2\")\n",
        "\n",
        "    # Create qubits\n",
        "    qubits = [cirq.GridQubit(0, i) for i in range(n_qubits)]\n",
        "    circuit = cirq.Circuit()\n",
        "\n",
        "    # Create state preparation unitary\n",
        "    # This is a simplified version that works for some cases\n",
        "    # A full implementation would use quantum state preparation algorithms\n",
        "    # like the Quantum Random Access Memory (QRAM) or Möttönen method\n",
        "\n",
        "    def create_state_preparation():\n",
        "        # Initialize in |0...0⟩ state\n",
        "        initial_state = np.zeros(2**n_qubits)\n",
        "        initial_state[0] = 1\n",
        "\n",
        "        # Calculate required unitary\n",
        "        target_state = np.array(normalized_vector)\n",
        "        initial_state = initial_state.reshape(-1, 1)\n",
        "        target_state = target_state.reshape(-1, 1)\n",
        "\n",
        "        # Using a simple rotation approach\n",
        "        cos_theta = np.abs(initial_state.T @ target_state)[0, 0]\n",
        "        theta = np.arccos(cos_theta)\n",
        "\n",
        "        if np.abs(theta) < 1e-10:\n",
        "            return []\n",
        "\n",
        "        axis = np.cross(initial_state.T, target_state.T)[0]\n",
        "        axis = axis / np.linalg.norm(axis)\n",
        "\n",
        "        generator = np.zeros((2**n_qubits, 2**n_qubits))\n",
        "        for i in range(2**n_qubits):\n",
        "            for j in range(2**n_qubits):\n",
        "                if i != j:\n",
        "                    generator[i, j] = theta * axis[j]\n",
        "                    generator[j, i] = -theta * axis[j]\n",
        "\n",
        "        unitary = expm(generator)\n",
        "        return unitary\n",
        "\n",
        "    # Try to decompose the unitary into gates (simplified approach)\n",
        "    try:\n",
        "        unitary = create_state_preparation()\n",
        "        circuit.append(cirq.MatrixGate(unitary).on(*qubits))\n",
        "    except:\n",
        "        print(\"Warning: Could not create exact encoding. Using approximate approach.\")\n",
        "        # Add some basic rotations as approximation\n",
        "        for i, amplitude in enumerate(normalized_vector):\n",
        "            if amplitude != 0:\n",
        "                angle = 2 * np.arccos(np.abs(amplitude))\n",
        "                circuit.append(cirq.ry(angle)(qubits[0]))\n",
        "\n",
        "    # Add measurements\n",
        "    circuit.append(cirq.measure(*qubits, key='result'))\n",
        "    return circuit\n",
        "\n",
        "# Example usage\n",
        "# Create normalized vector (must sum to 1)\n",
        "data = [0.5, 0.5, 0.5, 0.5]  # Example normalized vector for 2 qubits\n",
        "normalized_data = np.array(data) / np.linalg.norm(data)\n",
        "\n",
        "circuit = amplitude_encode(normalized_data)\n",
        "print(f\"Circuit for encoding {normalized_data}:\")\n",
        "print(circuit)\n",
        "\n",
        "# Simulate results\n",
        "simulator = cirq.Simulator()\n",
        "result = simulator.run(circuit, repetitions=100)\n",
        "print(\"\\nMeasurement results:\")\n",
        "print(result.histogram(key='result'))\n",
        "\n",
        "# Optional: Check state vector\n",
        "final_state = simulator.simulate(circuit).final_state_vector\n",
        "print(\"\\nFinal state vector:\")\n",
        "print(final_state)"
      ],
      "metadata": {
        "colab": {
          "base_uri": "https://localhost:8080/"
        },
        "id": "YYbCC47QuOZA",
        "outputId": "36c17ef2-e3f7-4603-82b7-20cb832fc7c1"
      },
      "execution_count": null,
      "outputs": [
        {
          "output_type": "stream",
          "name": "stdout",
          "text": [
            "Warning: Could not create exact encoding. Using approximate approach.\n",
            "Circuit for encoding [0.5 0.5 0.5 0.5]:\n",
            "(0, 0): ───Ry(0.667π)───Ry(0.667π)───Ry(0.667π)───Ry(0.667π)───M('result')───\n",
            "                                                               │\n",
            "(0, 1): ───────────────────────────────────────────────────────M─────────────\n",
            "\n",
            "Measurement results:\n",
            "Counter({2: 71, 0: 29})\n",
            "\n",
            "Final state vector:\n",
            "[ 0.+0.j  0.+0.j -1.+0.j  0.+0.j]\n"
          ]
        }
      ]
    },
    {
      "cell_type": "markdown",
      "source": [
        "##### <font color=\"blue\">*Applications*"
      ],
      "metadata": {
        "id": "UmzIk4pAUKaK"
      }
    },
    {
      "cell_type": "markdown",
      "source": [
        "###### *Quantum Biology*"
      ],
      "metadata": {
        "id": "8YwRWlGWUG8f"
      }
    },
    {
      "cell_type": "markdown",
      "source": [
        "* Research has already shown that quantum phenomena like coherence and tunneling are active in biological processes, from photosynthesis to enzyme activity. The framework hypothesizes that similar quantum effects might be at work in mycorrhizal nutrient transfer, especially in the transport of nutrients such as phosphorus and nitrogen.\n",
        "* Quantum tunneling, for example, could enable particles like protons to cross energy barriers within fungal membranes more efficiently than classical mechanics would allow. Meanwhile, coherence may optimize the transfer of electrons during redox reactions to facilitate nutrient uptake. The study notes that these mechanisms could explain why mycorrhizal fungi are able to maintain efficient nutrient exchange even under environmental stress.\n",
        "* https://thequantuminsider.com/2024/10/25/mushroom-mechanics-mycoponics-and-qml-model-fungal-network-for-sustainable-agriculture/"
      ],
      "metadata": {
        "id": "9NRoTF2GUD0l"
      }
    },
    {
      "cell_type": "markdown",
      "source": [
        "Video Course: [PHY361 Quantum Mechanics:\n",
        "Spin And Discrete Systems](https://youtube.com/playlist?list=PLIKpuUo6d5pLdaGlx355xdH_RCZXRuWLK&si=2U2Uixe14tr1hIMm)"
      ],
      "metadata": {
        "id": "4I3xfExjVDqm"
      }
    }
  ]
}