{
  "cells": [
    {
      "cell_type": "markdown",
      "id": "b2316b4b",
      "metadata": {
        "id": "b2316b4b"
      },
      "source": [
        "# Statistical Data Modeling in SciPy\n",
        "\n",
        "## Introduction\n",
        "\n",
        "**Overview of Statistical Modeling**  \n",
        "Statistical modeling is an essential method in data analysis, enabling us to understand, analyze, and interpret data. These models are pivotal in making predictions, discerning relationships in datasets, and extracting meaningful insights. Their applications span across various fields like economics, biology, engineering, and social sciences.\n",
        "\n",
        "**Importance in Data Analysis**  \n",
        "In our data-rich world, statistical modeling is the cornerstone of data analysis, crucial for identifying patterns and making informed decisions. It facilitates forecasting trends, testing hypotheses, and supports evidence-based decision-making.\n",
        "\n",
        "## Linear Regression\n",
        "\n",
        "![Linear Regression](../media/1_linear_regression.png)\n",
        "\n",
        "### Theory and Application\n",
        "Linear regression is a foundational statistical method for modeling the relationship between a dependent variable and one or more independent variables. The model is defined by the equation `Y = a + bX`, where:\n",
        "- `Y` is the dependent variable, representing the outcome or the variable you are trying to predict or explain.\n",
        "- `X` is the independent variable, representing the predictor or the variable that influences the outcome.\n",
        "- `a` is the intercept, representing the expected value of Y when all independent variables are zero.\n",
        "- `b` is the slope, representing the change in the dependent variable for each unit change in the independent variable.\n",
        "\n",
        "In simpler terms, linear regression aims to draw a straight line through the data points that minimizes the distance between the line and each point, effectively predicting Y based on X. It's widely utilized for forecasting (like sales projections), estimating relationships (how temperature affects crop yields), and trend analysis.\n",
        "\n",
        "### SciPy Implementation Example"
      ]
    },
    {
      "cell_type": "code",
      "execution_count": null,
      "id": "4b94b14f",
      "metadata": {
        "id": "4b94b14f",
        "outputId": "ab3ec74e-0719-4707-e07b-898338cd7e7a"
      },
      "outputs": [
        {
          "data": {
            "image/png": "[encoded data removed]",
            "text/plain": [
              "<Figure size 640x480 with 1 Axes>"
            ]
          },
          "metadata": {},
          "output_type": "display_data"
        },
        {
          "name": "stdout",
          "output_type": "stream",
          "text": [
            "Slope: 1.9\n",
            "Intercept: 4.700000000000003\n"
          ]
        }
      ],
      "source": [
        "import numpy as np\n",
        "from scipy import stats\n",
        "import matplotlib.pyplot as plt\n",
        "\n",
        "# Example data\n",
        "x = np.array([5, 10, 15, 20, 25])\n",
        "y = np.array([12, 24, 37, 43, 50])\n",
        "\n",
        "# Performing linear regression\n",
        "slope, intercept, r_value, p_value, std_err = stats.linregress(x, y)\n",
        "\n",
        "fitx = np.arange(1,50, 100)\n",
        "fity = fitx * slope + intercept\n",
        "\n",
        "plt.scatter(x=x, y=y)\n",
        "plt.plot(fitx,fity)\n",
        "plt.show()\n",
        "\n",
        "# The slope and intercept of the regression line\n",
        "print(\"Slope:\", slope)\n",
        "print(\"Intercept:\", intercept)"
      ]
    },
    {
      "cell_type": "markdown",
      "id": "83db7fbd",
      "metadata": {
        "id": "83db7fbd"
      },
      "source": [
        "![Linear Regression Plot](../media/1_linear_regression_plot.PNG)\n",
        "\n",
        "## ANOVA (Analysis of Variance)\n",
        "\n",
        "### Understanding ANOVA\n",
        "Analysis of Variance (ANOVA) is a statistical method used to compare the means of three or more different groups to see if they are significantly different from each other. It's based on analyzing the variances within and between groups.\n",
        "\n",
        "The F-value in ANOVA helps us determine the ratio of the variance between the groups to the variance within the groups. A high F-value typically indicates that there are significant differences between the means of the groups. The calculation involves comparing the variability between the group means (Mean Square Between) and the average variability within the groups (Mean Square Error).\n",
        "\n",
        "### Practical Example in SciPy"
      ]
    },
    {
      "cell_type": "code",
      "execution_count": null,
      "id": "eb104e5d",
      "metadata": {
        "id": "eb104e5d",
        "outputId": "7462c08e-f5f6-473f-b603-8a7326bfc32a"
      },
      "outputs": [
        {
          "name": "stdout",
          "output_type": "stream",
          "text": [
            "F-value: 60.48275862068964\n",
            "P-value: 5.403228229488652e-07\n"
          ]
        }
      ],
      "source": [
        "from scipy import stats\n",
        "\n",
        "# Sample data from three different groups\n",
        "group1 = [20, 21, 19, 22, 24]\n",
        "group2 = [28, 30, 27, 26, 29]\n",
        "group3 = [33, 35, 34, 31, 32]\n",
        "\n",
        "# Performing one-way ANOVA\n",
        "f_value, p_value = stats.f_oneway(group1, group2, group3)\n",
        "print(\"F-value:\", f_value)\n",
        "print(\"P-value:\", p_value)"
      ]
    },
    {
      "cell_type": "markdown",
      "id": "6b156ec3",
      "metadata": {
        "id": "6b156ec3"
      },
      "source": [
        "![ANOVA Plot](../media/1_anova.PNG)\n",
        "\n",
        "### Explanation\n",
        "- **F-value (60.48):** A high F-value (such as 60.48) suggests significant differences between the group means. This implies that not all group means are similar.\n",
        "- **P-value (5.40e-07):** This indicates the probability of observing such a large F-value if the null hypothesis of no difference between the means is true. A very small p-value (much less than 0.05) suggests that we can reject the null hypothesis, implying the group means are indeed different.\n",
        "\n",
        "---\n",
        "\n",
        "### Exercise 1: Linear Regression Analysis (Coding Exercise)\n",
        "**Objective**: Implement and interpret linear regression using SciPy.\n",
        "\n",
        "**Instructions**:\n",
        "1. Dataset: `x = np.array([2, 4, 6, 8, 10])`, `y = np.array([3, 5, 7, 9, 11])`.\n",
        "2. Perform linear regression to find slope and intercept.\n",
        "3. Plot data points and regression line.\n",
        "4. Interpret the results, focusing on the slope and intercept.\n",
        "\n",
        "---\n",
        "\n",
        "### Exercise 2: ANOVA Interpretation\n",
        "**Scenario**: Comparing three diets using ANOVA yielded an F-value of 9.7 and a P-value of 0.001.\n",
        "\n",
        "**Questions**:\n",
        "1. Discuss what the F-value and P-value signify in this scenario.\n",
        "2. What can be concluded about the diet effectiveness based on these values?"
      ]
    }
  ],
  "metadata": {
    "kernelspec": {
      "display_name": "Python 3",
      "language": "python",
      "name": "python3"
    },
    "language_info": {
      "codemirror_mode": {
        "name": "ipython",
        "version": 3
      },
      "file_extension": ".py",
      "mimetype": "text/x-python",
      "name": "python",
      "nbconvert_exporter": "python",
      "pygments_lexer": "ipython3",
      "version": "3.12.1"
    },
    "colab": {
      "provenance": []
    }
  },
  "nbformat": 4,
  "nbformat_minor": 5
}