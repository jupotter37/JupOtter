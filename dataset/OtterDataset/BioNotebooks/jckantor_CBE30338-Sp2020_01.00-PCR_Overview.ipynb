{
 "cells": [
  {
   "cell_type": "markdown",
   "metadata": {
    "colab_type": "text",
    "id": "XBwlMr3_KXD2"
   },
   "source": [
    "# Case Study: Thermal Cycling for PCR"
   ]
  },
  {
   "cell_type": "markdown",
   "metadata": {
    "colab_type": "text",
    "id": "2IaCjA9tN9gy"
   },
   "source": [
    "## Pre-reads\n",
    "\n",
    "* [Notre Dame Center for Advanced Diagnostics and Therapeutics](https://advanceddiagnostics.nd.edu/assets/382241/coronavirus_test_faq.pdf)\n",
    "* [miniPCR Thermal Cycler]( https://www.youtube.com/watch?time_continue=1&v=ALNZJhUOSMs&feature=emb_logo)"
   ]
  },
  {
   "cell_type": "markdown",
   "metadata": {
    "colab_type": "text",
    "id": "ta4O_dtbaBah"
   },
   "source": [
    "## Coronavirus Diagnostics\n",
    "\n",
    "\n",
    "\n",
    "COVID-19 is a respiratory tract infection by a specific species of coronavirus called SARS-CoV-2. Coronaviruses have a protein envelope characterized by club-shaped protrusions that give the impression of a corona when viewed with an electron microscope.\n",
    "\n",
    "<p><a href=\"https://commons.wikimedia.org/wiki/File:Novel_Coronavirus_SARS-CoV-2.jpg#/media/File:Novel_Coronavirus_SARS-CoV-2.jpg\"><img src=\"https://upload.wikimedia.org/wikipedia/commons/thumb/7/76/Novel_Coronavirus_SARS-CoV-2.jpg/1200px-Novel_Coronavirus_SARS-CoV-2.jpg\" alt=\"Electron micrograph of SARS-CoV-2 virions with visible coronae\"></a><br>By NIAID - <a rel=\"nofollow\" class=\"external free\" href=\"https://www.flickr.com/photos/niaid/49534865371/\">https://www.flickr.com/photos/niaid/49534865371/</a>, <a href=\"https://creativecommons.org/licenses/by/2.0\" title=\"Creative Commons Attribution 2.0\">CC BY 2.0</a>, <a href=\"https://commons.wikimedia.org/w/index.php?curid=87484997\">Link</a></p>\n",
    "\n",
    "Coronaviruses have a relatively large genome comprised of a single strand of positive-sense RNA. A coronavirus test begins with a swab of throat or nose. The swab is rinsed with a buffer solution to capture the host DNA and RNA, and the RNA of any virus that may be present. RNA is isolated from the solution and converted to DNA using a reverse transcriptase enzyme.\n",
    "\n",
    "The amount of DNA collected in this fashion is too small to analyze by conventional methods. So the first step in a diagnostic protocol is to amplify the amount of DNA using the polymerase chain reaction."
   ]
  },
  {
   "cell_type": "markdown",
   "metadata": {
    "colab_type": "text",
    "id": "AEQ15Fd8N7iR"
   },
   "source": [
    "## Polymerase Chain Reaction (PCR)\n",
    "\n",
    "The polymerase chain reaction (PCR) is a technique used in molecular biology to take amplify small samples of DNA into quantities large enough to be detected using conventional analytical methods. \n",
    "\n",
    "<a title=\"Enzoklop / CC BY-SA (https://creativecommons.org/licenses/by-sa/3.0)\" href=\"https://commons.wikimedia.org/wiki/File:Polymerase_chain_reaction.svg\"></a>\n",
    "\n",
    "\n",
    "<img width=\"1200\" alt=\"Polymerase chain reaction\" src=\"https://upload.wikimedia.org/wikipedia/commons/thumb/9/96/Polymerase_chain_reaction.svg/1200px-Polymerase_chain_reaction.svg.png\">\n",
    "\n",
    "The main part of PCR consists of three steps that are repeated 20 or more times:\n",
    "\n",
    "1. Denaturation at 94-96 $^\\circ$C. At this step, DNA 'breaks apart', splitting from a double helix into single strands\n",
    "2. Annealing at 68 $^\\circ$C. Primers bond to the single-stranded DNA\n",
    "3. Extension at ca. 72 $^\\circ$C. Polymerase compliments the DNA, synthesizing strands that are of the target sequence\n"
   ]
  },
  {
   "cell_type": "markdown",
   "metadata": {
    "colab_type": "text",
    "id": "EjJ1NaKvNYzz"
   },
   "source": [
    "## Examples of low-cost and open-source PCR thermal cyclers\n",
    "\n",
    "* [miniPCR Thermal Cycler]( https://www.youtube.com/watch?time_continue=1&v=ALNZJhUOSMs&feature=emb_logo)\n",
    "* https://www.instructables.com/id/Arduino-PCR-thermal-cycler-for-under-85/\n"
   ]
  },
  {
   "cell_type": "code",
   "execution_count": null,
   "metadata": {
    "colab": {
     "base_uri": "https://localhost:8080/",
     "height": 321
    },
    "colab_type": "code",
    "executionInfo": {
     "elapsed": 1405,
     "status": "ok",
     "timestamp": 1584913120241,
     "user": {
      "displayName": "Jeffrey Kantor",
      "photoUrl": "https://lh3.googleusercontent.com/a-/AOh14Gg_n8V7bVINy02QRuRgOoMo11Ri7NKU3OUKdC1bkQ=s64",
      "userId": "09038942003589296665"
     },
     "user_tz": 240
    },
    "id": "scK7j3pTKNVT",
    "outputId": "e1b05aa1-835e-4e12-9f62-57f3196f0a94"
   },
   "outputs": [
    {
     "data": {
      "image/jpeg": "[encoded data removed]",
      "text/html": [
       "\n",
       "        <iframe\n",
       "            width=\"400\"\n",
       "            height=\"300\"\n",
       "            src=\"https://www.youtube.com/embed/ALNZJhUOSMs\"\n",
       "            frameborder=\"0\"\n",
       "            allowfullscreen\n",
       "        ></iframe>\n",
       "        "
      ],
      "text/plain": [
       "<IPython.lib.display.YouTubeVideo at 0x7fc7c864aba8>"
      ]
     },
     "execution_count": 2,
     "metadata": {
      "tags": []
     },
     "output_type": "execute_result"
    }
   ],
   "source": [
    "from IPython.display import YouTubeVideo\n",
    "YouTubeVideo('ALNZJhUOSMs')"
   ]
  },
  {
   "cell_type": "code",
   "execution_count": null,
   "metadata": {
    "colab": {},
    "colab_type": "code",
    "id": "rGhvoGiONmjt"
   },
   "outputs": [],
   "source": []
  }
 ],
 "metadata": {
  "colab": {
   "authorship_tag": "ABX9TyNMv0PCsIVk9+5F36a4xQRI",
   "collapsed_sections": [],
   "name": "01.00-PCR_Overview.ipynb",
   "provenance": []
  },
  "kernelspec": {
   "display_name": "Python 3",
   "language": "python",
   "name": "python3"
  },
  "language_info": {
   "codemirror_mode": {
    "name": "ipython",
    "version": 3
   },
   "file_extension": ".py",
   "mimetype": "text/x-python",
   "name": "python",
   "nbconvert_exporter": "python",
   "pygments_lexer": "ipython3",
   "version": "3.7.4"
  }
 },
 "nbformat": 4,
 "nbformat_minor": 4
}
