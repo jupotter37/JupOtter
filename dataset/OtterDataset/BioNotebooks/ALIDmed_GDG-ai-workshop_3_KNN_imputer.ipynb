{
 "cells": [
  {
   "cell_type": "code",
   "execution_count": null,
   "metadata": {},
   "outputs": [],
   "source": [
    "import numpy as np\n",
    "import pandas as pd\n",
    "\n",
    "# import the KNNimputer class\n",
    "from sklearn.impute import KNNImputer\n",
    "\n",
    "\n",
    "# create dataset for marks of a student\n",
    "dict = {'Maths': [80, 90, np.nan, 95],\n",
    "        'Chemistry': [60, 65, 56, np.nan],\n",
    "        'Physics': [np.nan, 57, 80, 78],\n",
    "        'Biology': [78, 83, 67, np.nan]}\n",
    "\n",
    "# creating a data frame from the list\n",
    "Before_imputation = pd.DataFrame(dict)\n",
    "# print dataset before imputation\n",
    "print(\"Data Before performing imputation\\n\", Before_imputation)\n",
    "\n",
    "# create an object for KNNImputer\n",
    "imputer = KNNImputer(n_neighbors=2)\n",
    "After_imputation = imputer.fit_transform(Before_imputation)\n",
    "# print dataset after performing the operation\n",
    "print(\"\\n\\nAfter performing imputation\\n\", After_imputation)"
   ]
  }
 ],
 "metadata": {
  "kernelspec": {
   "display_name": "Python 3",
   "language": "python",
   "name": "python3"
  },
  "language_info": {
   "codemirror_mode": {
    "name": "ipython",
    "version": 3
   },
   "file_extension": ".py",
   "mimetype": "text/x-python",
   "name": "python",
   "nbconvert_exporter": "python",
   "pygments_lexer": "ipython3",
   "version": "3.10.10"
  }
 },
 "nbformat": 4,
 "nbformat_minor": 2
}
