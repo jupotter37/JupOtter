{
 "cells": [
  {
   "cell_type": "markdown",
   "metadata": {},
   "source": [
    "# Preamble"
   ]
  },
  {
   "cell_type": "code",
   "execution_count": 1,
   "metadata": {},
   "outputs": [],
   "source": [
    "from SPARQLWrapper import SPARQLWrapper, JSON\n",
    "from datetime import datetime\n",
    "from json import JSONDecodeError\n",
    "import json\n",
    "import bz2\n",
    "import gzip\n",
    "import io"
   ]
  },
  {
   "cell_type": "code",
   "execution_count": 2,
   "metadata": {},
   "outputs": [],
   "source": [
    "PATH_CAUSENET = \"../../data/causality-graphs/causenet-full.jsonl.bz2\"\n",
    "PATH_FREEBASE = \"../../data/external/knowledge-bases/freebase-rdf-latest.gz\"\n",
    "PATH_CONCEPTNET = \"../../data/external/knowledge-bases/conceptnet-assertions-5.6.0.tsv\"\n",
    "PATH_WIKIDATA = \"../../data/external/knowledge-bases/wikidata-20181001-all.json.bz2\""
   ]
  },
  {
   "cell_type": "markdown",
   "metadata": {},
   "source": [
    "# Table 1: Overview of causal relations in knowledge bases"
   ]
  },
  {
   "cell_type": "markdown",
   "metadata": {
    "heading_collapsed": true
   },
   "source": [
    "## CauseNet"
   ]
  },
  {
   "cell_type": "code",
   "execution_count": 3,
   "metadata": {
    "hidden": true
   },
   "outputs": [],
   "source": [
    "def load_jsonl(path):\n",
    "    print(\"Loading... \" + path)\n",
    "    lines = []\n",
    "    document = bz2.open(path, mode='rt')\n",
    "    for line in document:\n",
    "        lines.append(json.loads(line))\n",
    "    return lines"
   ]
  },
  {
   "cell_type": "code",
   "execution_count": 4,
   "metadata": {
    "hidden": true
   },
   "outputs": [],
   "source": [
    "def belongs_to_high_precision_causenet(sample):\n",
    "    if sample['support'] > 1:\n",
    "        return True\n",
    "\n",
    "    for source in sample['sources']:\n",
    "        if source['type'] == 'wikipedia_infobox':\n",
    "            return True\n",
    "\n",
    "        if source['type'] == 'wikipedia_list':\n",
    "            return True\n",
    "\n",
    "    return False"
   ]
  },
  {
   "cell_type": "code",
   "execution_count": 5,
   "metadata": {
    "hidden": true
   },
   "outputs": [],
   "source": [
    "def print_statistics(causality_graph):\n",
    "    nodes = []\n",
    "    for sample in causality_graph:\n",
    "        nodes.append(sample['causal_relation']['cause']['concept'])\n",
    "        nodes.append(sample['causal_relation']['effect']['concept'])\n",
    "\n",
    "    print(f'Relations: {len(causality_graph):,}')\n",
    "    print(f'Concepts: {len(set(nodes)):,}')"
   ]
  },
  {
   "cell_type": "code",
   "execution_count": null,
   "metadata": {
    "hidden": true
   },
   "outputs": [
    {
     "name": "stdout",
     "output_type": "stream",
     "text": [
      "Loading... ../../data/causality-graphs/causenet-full.jsonl.bz2\n"
     ]
    }
   ],
   "source": [
    "causenet = load_jsonl(PATH_CAUSENET)"
   ]
  },
  {
   "cell_type": "code",
   "execution_count": 7,
   "metadata": {
    "hidden": true
   },
   "outputs": [],
   "source": [
    "for relation in causenet:\n",
    "    patterns = []\n",
    "    for source in relation['sources']:\n",
    "        if 'path_pattern' in source['payload']:\n",
    "            patterns.append(source['payload']['path_pattern'])\n",
    "    relation['support'] = len(set(patterns))"
   ]
  },
  {
   "cell_type": "code",
   "execution_count": 8,
   "metadata": {
    "hidden": true
   },
   "outputs": [],
   "source": [
    "causenet_precision = []\n",
    "\n",
    "for sample in causenet:\n",
    "    if belongs_to_high_precision_causenet(sample):\n",
    "        causenet_precision.append(sample)"
   ]
  },
  {
   "cell_type": "code",
   "execution_count": 9,
   "metadata": {
    "hidden": true
   },
   "outputs": [
    {
     "name": "stdout",
     "output_type": "stream",
     "text": [
      "CauseNet:\n",
      "Relations: 11,609,890\n",
      "Concepts: 12,186,310\n",
      "\n",
      "CauseNet-Precision:\n",
      "Relations: 197,806\n",
      "Concepts: 80,223\n"
     ]
    }
   ],
   "source": [
    "print(\"CauseNet:\")\n",
    "print_statistics(causenet)\n",
    "print()\n",
    "print(\"CauseNet-Precision:\")\n",
    "print_statistics(causenet_precision)"
   ]
  },
  {
   "cell_type": "markdown",
   "metadata": {
    "heading_collapsed": true
   },
   "source": [
    "## Freebase"
   ]
  },
  {
   "cell_type": "code",
   "execution_count": 3,
   "metadata": {
    "hidden": true
   },
   "outputs": [],
   "source": [
    "freebase_causal_properties = [\n",
    "    'medicine.disease.symptoms>',\n",
    "    'medicine.symptom.symptom_of>',\n",
    "    'medicine.disease.risk_factors>',\n",
    "    'medicine.risk_factor.diseases>',\n",
    "    'medicine.disease.causes>',\n",
    "    'medicine.disease_cause.diseases>',\n",
    "    'medicine.drug.physiologic_effect>',\n",
    "    'medicine.drug_physiologic_effect.drugs_with_this_physiologic_effect>',\n",
    "    'base.pethealth.symptom.symptom_of>',\n",
    "    'base.pethealth.pet_disease_or_medical_condition.symptoms>',\n",
    "    'medicine.symptom.side_effect_of>',\n",
    "    'medicine.medical_treatment.side_effects>',\n",
    "    'base.wordnet.synset.causes>',\n",
    "    'base.wordnet.synset.caused_by>',\n",
    "    'base.pethealth.pet_disease_risk_factor.' +\n",
    "    'pet_diseases_with_this_risk_factor>',\n",
    "    'base.pethealth.pet_disease_or_medical_condition.risk_factors>',\n",
    "    'base.pethealth.cause.pet_diseases_or_conditions_caused>',\n",
    "    'base.horsefacts.coat_locus_effect.coat_colors>',\n",
    "    'base.horsefacts.coat_color.causative_locus>',\n",
    "    'base.pethealth.pet_disease_or_medical_condition.causes>',\n",
    "    'base.disaster2.rail_accident.cause>',\n",
    "    'base.disaster2.train_accident_cause.train_accidents_caused_this_way>',\n",
    "    'biology.plant_disease_cause.plant_disease_triangle>',\n",
    "    'biology.plant_disease_triangle.plant_disease_cause>',\n",
    "    'base.disaster2.injury_causing_event.injury>',\n",
    "    'base.disaster2.injury.caused_by_event>',\n",
    "    'base.animalpathology.animal_disease_cause.animal_disease_triangle>',\n",
    "    'base.animalpathology.animal_disease_triangle.animal_disease_cause>',\n",
    "    'base.fires.explosion.cause>',\n",
    "    'base.fires.explosion_cause.explosion>',\n",
    "    'base.horsefacts.coat_locus.effect>',\n",
    "    'base.horsefacts.coat_locus_effect.locus>',\n",
    "    'base.fires.fires.firecause>',\n",
    "    'user.skud.fictional_diseases.fictional_disease.symptoms>',\n",
    "    'base.fires.fire_cause.fires_caused_this_way>',\n",
    "    'user.skud.fictional_diseases.fictional_symptom.symptom_of>',\n",
    "    'user.lindajohnson.default_domain.side_effects.side_effect>',\n",
    "    'base.qualia.disability.disability_causing_medical_condition>',\n",
    "    'user.robert.earthquakes.earthquake_effect.earthquake>',\n",
    "\n",
    "    'people.deceased_person.cause_of_death>',\n",
    "    'people.cause_of_death.people>',\n",
    "    'people.cause_of_death.includes_causes_of_death>',\n",
    "    'base.disaster2.death_causing_event.person_killed>',\n",
    "    'base.fictionaluniverse.deceased_fictional_character.cause_of_death>',\n",
    "    'base.disaster2.type_of_injury_causing_event.injuries_caused_this_way>',\n",
    "    'base.disaster2.shipwreck_event.cause>',\n",
    "    'base.disaster2.shipwreck_cause.ships_wrecked_this_way>',\n",
    "    'media_common.cause_of_loss.works_lost_this_way>',\n",
    "    'base.damsbase.dam_failure.cause_of_failure>',\n",
    "    'user.teeler.default_domain.death_euphemism.related_causes>'\n",
    "]\n",
    "\n",
    "prefix = \"<http://rdf.freebase.com/ns/\"\n",
    "\n",
    "freebase_causal_properties = [prefix + p for p in freebase_causal_properties]"
   ]
  },
  {
   "cell_type": "code",
   "execution_count": 4,
   "metadata": {
    "hidden": true
   },
   "outputs": [],
   "source": [
    "def load_freebase(causal_properties):\n",
    "    gz = gzip.open(PATH_FREEBASE, 'rb')\n",
    "    causal_relations = {}\n",
    "\n",
    "    for line in io.BufferedReader(gz):\n",
    "        line = line.decode(\"utf-8\").strip()\n",
    "        s, p, o, _ = line.split(\"\\t\")\n",
    "\n",
    "        if p in causal_properties:\n",
    "            causal_relations.setdefault(p, []).append(line)\n",
    "    return causal_relations"
   ]
  },
  {
   "cell_type": "code",
   "execution_count": 5,
   "metadata": {
    "hidden": true
   },
   "outputs": [],
   "source": [
    "def get_freebase_statistics(freebase_causality, causal_properties):\n",
    "    causality_graph = []\n",
    "\n",
    "    for causal_property in causal_properties:\n",
    "\n",
    "        for relation in freebase_causality[causal_property]:\n",
    "            relation = relation.split(\"\\t\")\n",
    "            relation = (relation[0], causal_property, relation[2])\n",
    "\n",
    "            causality_graph.append(relation)\n",
    "\n",
    "    nodes = []\n",
    "\n",
    "    for relation in causality_graph:\n",
    "        nodes.append(relation[0])\n",
    "        nodes.append(relation[1])\n",
    "\n",
    "    print(f'Relations: {len(set([str(x) for x in causality_graph])):,}')\n",
    "    print(f'Concepts: {len(set(nodes)):,}')"
   ]
  },
  {
   "cell_type": "code",
   "execution_count": 6,
   "metadata": {
    "hidden": true
   },
   "outputs": [],
   "source": [
    "freebase_causality = load_freebase(freebase_causal_properties)"
   ]
  },
  {
   "cell_type": "code",
   "execution_count": 7,
   "metadata": {
    "hidden": true
   },
   "outputs": [
    {
     "name": "stdout",
     "output_type": "stream",
     "text": [
      "Freebase:\n",
      "Relations: 128,766\n",
      "Concepts: 52,487\n"
     ]
    }
   ],
   "source": [
    "print(\"Freebase:\")\n",
    "get_freebase_statistics(freebase_causality, freebase_causal_properties)"
   ]
  },
  {
   "cell_type": "markdown",
   "metadata": {
    "heading_collapsed": true
   },
   "source": [
    "## ConceptNet"
   ]
  },
  {
   "cell_type": "code",
   "execution_count": 3,
   "metadata": {
    "hidden": true
   },
   "outputs": [],
   "source": [
    "def load_conceptnet():\n",
    "    conceptnet = open(PATH_CONCEPTNET).readlines()\n",
    "    conceptnet_triples = []\n",
    "\n",
    "    for row in conceptnet:\n",
    "        elements = row.split(\"\\t\")\n",
    "        triple = (elements[2], elements[1], elements[3])\n",
    "        conceptnet_triples.append(triple)\n",
    "\n",
    "    return conceptnet_triples"
   ]
  },
  {
   "cell_type": "code",
   "execution_count": 4,
   "metadata": {
    "hidden": true
   },
   "outputs": [],
   "source": [
    "def count_nodes(relation_list):\n",
    "    nodes = []\n",
    "    for relation in relation_list:\n",
    "        nodes.append(relation[0])\n",
    "        nodes.append(relation[2])\n",
    "    return len(set(nodes))"
   ]
  },
  {
   "cell_type": "code",
   "execution_count": 5,
   "metadata": {
    "hidden": true
   },
   "outputs": [],
   "source": [
    "conceptnet = load_conceptnet()"
   ]
  },
  {
   "cell_type": "code",
   "execution_count": 6,
   "metadata": {
    "hidden": true
   },
   "outputs": [],
   "source": [
    "en_conceptnet = [t for t in conceptnet if '/en/' in t[0] and '/en/' in t[2]]\n",
    "en_conceptnet = set([str(t) for t in en_conceptnet])"
   ]
  },
  {
   "cell_type": "code",
   "execution_count": 7,
   "metadata": {
    "hidden": true
   },
   "outputs": [],
   "source": [
    "causal_properties = ['/r/CausesDesire', '/r/Causes']\n",
    "causal_triples = set([t for t in conceptnet if t[1] in causal_properties])\n",
    "en_causal_triples = set([t for t in causal_triples if str(t) in en_conceptnet])"
   ]
  },
  {
   "cell_type": "code",
   "execution_count": 8,
   "metadata": {
    "hidden": true,
    "scrolled": true
   },
   "outputs": [
    {
     "name": "stdout",
     "output_type": "stream",
     "text": [
      "ConceptNet Multilingual:\n",
      "Relations: 114,308\n",
      "Concepts: 57,561\n",
      "\n",
      "ConceptNet English:\n",
      "Relations: 21,485\n",
      "Concepts: 16,432\n"
     ]
    }
   ],
   "source": [
    "print(\"ConceptNet Multilingual:\")\n",
    "print(\"Relations: \" + f'{len(causal_triples):,}')\n",
    "print(\"Concepts: \" + f'{count_nodes(causal_triples):,}')\n",
    "print()\n",
    "print(\"ConceptNet English:\")\n",
    "print(\"Relations: \" + f'{len(en_causal_triples):,}')\n",
    "print(\"Concepts: \" + f'{count_nodes(en_causal_triples):,}')"
   ]
  },
  {
   "cell_type": "markdown",
   "metadata": {},
   "source": [
    "## Wikidata"
   ]
  },
  {
   "cell_type": "code",
   "execution_count": 3,
   "metadata": {},
   "outputs": [],
   "source": [
    "wikidata_causal_predicates = [\n",
    "    'P509',  # cause of death\n",
    "    'P780',  # symptoms\n",
    "    'P828',  # has cause\n",
    "    'P1542',  # has effect\n",
    "    'P770',  # cause of destruction\n",
    "    'P1478',  # has immediate cause\n",
    "    'P1479',  # has contributing factor\n",
    "    'P1534',  # end cause\n",
    "]"
   ]
  },
  {
   "cell_type": "code",
   "execution_count": 4,
   "metadata": {},
   "outputs": [],
   "source": [
    "def load_wikidata_causality(wikidata_causal_predicates):\n",
    "    causal_wikidata = []\n",
    "\n",
    "    for line in bz2.open(PATH_WIKIDATA, mode='rt'):\n",
    "        try:\n",
    "            item = json.loads(line.strip()[:-1])\n",
    "        except JSONDecodeError:\n",
    "            continue\n",
    "\n",
    "        for wikidata_property in item['claims'].keys():\n",
    "            if wikidata_property in wikidata_causal_predicates:\n",
    "                for snack in item['claims'][wikidata_property]:\n",
    "                    if 'datavalue' not in snack['mainsnak']:\n",
    "                        continue\n",
    "                    value = snack['mainsnak']['datavalue']['value']\n",
    "                    if 'id' not in value:\n",
    "                        continue\n",
    "                    wikidata_object = value['id']\n",
    "                    relation = (item['id'], wikidata_property, wikidata_object)\n",
    "                    causal_wikidata.append(relation)\n",
    "    return causal_wikidata"
   ]
  },
  {
   "cell_type": "code",
   "execution_count": null,
   "metadata": {},
   "outputs": [],
   "source": [
    "wikidata_causality = load_wikidata_causality(wikidata_causal_predicates)"
   ]
  },
  {
   "cell_type": "code",
   "execution_count": 8,
   "metadata": {},
   "outputs": [],
   "source": [
    "wikidata_cause_of_death = [relation \n",
    "                           for relation in wikidata_causality\n",
    "                           if relation[1] == 'P509']"
   ]
  },
  {
   "cell_type": "code",
   "execution_count": 7,
   "metadata": {
    "scrolled": true
   },
   "outputs": [],
   "source": [
    "nodes = []\n",
    "for relation in wikidata_causality:\n",
    "    nodes.append(relation[0])\n",
    "    nodes.append(relation[2])"
   ]
  },
  {
   "cell_type": "code",
   "execution_count": 8,
   "metadata": {},
   "outputs": [
    {
     "name": "stdout",
     "output_type": "stream",
     "text": [
      "Wikidata:\n",
      "Relations: 95,335\n",
      "Concepts: 88,233\n"
     ]
    }
   ],
   "source": [
    "print(\"Wikidata:\")\n",
    "print(f'Relations: {len(set(wikidata_causality)):,}')\n",
    "print(f'Concepts: {len(set(nodes)):,}')"
   ]
  },
  {
   "cell_type": "code",
   "execution_count": 16,
   "metadata": {},
   "outputs": [
    {
     "name": "stdout",
     "output_type": "stream",
     "text": [
      "Percentage of cause of death relations:\n",
      "0.847\n"
     ]
    }
   ],
   "source": [
    "cause_of_death = len(set(wikidata_cause_of_death))\n",
    "cause_of_death /= len(set(wikidata_causality))\n",
    "cause_of_death = round(cause_of_death,3)\n",
    "print(\"Percentage of cause of death relations:\")\n",
    "print(f\"{cause_of_death}\")"
   ]
  },
  {
   "cell_type": "markdown",
   "metadata": {},
   "source": [
    "## DBpedia Live"
   ]
  },
  {
   "cell_type": "code",
   "execution_count": 31,
   "metadata": {},
   "outputs": [],
   "source": [
    "dbpedia_live = SPARQLWrapper(\"http://live.dbpedia.org/sparql\")"
   ]
  },
  {
   "cell_type": "code",
   "execution_count": 32,
   "metadata": {},
   "outputs": [],
   "source": [
    "def send_query(endpoint, query):\n",
    "    endpoint.setQuery(query)\n",
    "    endpoint.setReturnFormat(JSON)\n",
    "    results = endpoint.query().convert()\n",
    "    return results"
   ]
  },
  {
   "cell_type": "code",
   "execution_count": 33,
   "metadata": {},
   "outputs": [],
   "source": [
    "def full_graph_query(endpoint, predicates):\n",
    "    all_relations = []\n",
    "    all_nodes = []\n",
    "\n",
    "    for predicate in predicates:\n",
    "        query = \"\"\"\n",
    "        SELECT ?s ?o WHERE { ?s <\"\"\" + predicate + \"\"\"> ?o}\n",
    "        \"\"\"\n",
    "        results = send_query(endpoint, query)\n",
    "\n",
    "        for result in results['results']['bindings']:\n",
    "            relation_subject = result['s']['value']\n",
    "            relation_object = result['o']['value']\n",
    "            all_relations.append((relation_subject, predicate, relation_object))\n",
    "            all_nodes.append(relation_subject)\n",
    "            all_nodes.append(relation_object)\n",
    "\n",
    "    return all_relations, all_nodes"
   ]
  },
  {
   "cell_type": "code",
   "execution_count": 34,
   "metadata": {},
   "outputs": [],
   "source": [
    "# defined by systematically searching DBpedia properties\n",
    "causal_predicates = [\n",
    "    \"http://dbpedia.org/property/cause\",\n",
    "    \"http://dbpedia.org/property/causes\",\n",
    "    \"http://dbpedia.org/ontology/deathCause\",\n",
    "    \"http://dbpedia.org/ontology/medicalCause\",\n",
    "    \"http://dbpedia.org/property/causeOfDeath\",\n",
    "    \"http://dbpedia.org/property/causalAgents\",\n",
    "    \"http://dbpedia.org/property/causeDeath\",\n",
    "    \"http://dbpedia.org/property/causeofdeath\",\n",
    "    \"http://dbpedia.org/property/effects\",\n",
    "    \"http://dbpedia.org/ontology/symptom\",\n",
    "]\n",
    "\n",
    "relations, nodes = full_graph_query(dbpedia_live, causal_predicates)"
   ]
  },
  {
   "cell_type": "code",
   "execution_count": 35,
   "metadata": {},
   "outputs": [],
   "source": [
    "cause_of_death_predicates = [causal_predicates[i] \n",
    "                             for i in [2,4,6,7]]\n",
    "cause_of_death_relations = [relation\n",
    "                            for relation in relations\n",
    "                            if relation[1] in cause_of_death_predicates]"
   ]
  },
  {
   "cell_type": "code",
   "execution_count": 36,
   "metadata": {},
   "outputs": [
    {
     "name": "stdout",
     "output_type": "stream",
     "text": [
      "DBpedia Live (2020-08-15 07:48:19.913180):\n",
      "Relations: 8,025\n",
      "Concepts: 7,691\n"
     ]
    }
   ],
   "source": [
    "print(f\"DBpedia Live ({datetime.now()}):\")\n",
    "print(\"Relations: \" + f'{len(set(relations)):,}')\n",
    "print(\"Concepts: \" + f'{len(set(nodes)):,}')"
   ]
  },
  {
   "cell_type": "code",
   "execution_count": 37,
   "metadata": {},
   "outputs": [
    {
     "name": "stdout",
     "output_type": "stream",
     "text": [
      "Percentage of cause of death relations:\n",
      "0.524\n"
     ]
    }
   ],
   "source": [
    "len(set(cause_of_death_relations))\n",
    "cause_of_death = len(set(cause_of_death_relations))\n",
    "cause_of_death /= len(set(relations))\n",
    "cause_of_death = round(cause_of_death,3)\n",
    "print(\"Percentage of cause of death relations:\")\n",
    "print(f\"{cause_of_death}\")"
   ]
  }
 ],
 "metadata": {
  "kernelspec": {
   "display_name": "cikm20-causenet",
   "language": "python",
   "name": "cikm20-causenet"
  },
  "language_info": {
   "codemirror_mode": {
    "name": "ipython",
    "version": 3
   },
   "file_extension": ".py",
   "mimetype": "text/x-python",
   "name": "python",
   "nbconvert_exporter": "python",
   "pygments_lexer": "ipython3",
   "version": "3.7.3"
  },
  "notify_time": "5",
  "toc": {
   "base_numbering": 1,
   "nav_menu": {},
   "number_sections": true,
   "sideBar": true,
   "skip_h1_title": false,
   "title_cell": "Table of Contents",
   "title_sidebar": "Contents",
   "toc_cell": false,
   "toc_position": {},
   "toc_section_display": true,
   "toc_window_display": false
  }
 },
 "nbformat": 4,
 "nbformat_minor": 4
}
