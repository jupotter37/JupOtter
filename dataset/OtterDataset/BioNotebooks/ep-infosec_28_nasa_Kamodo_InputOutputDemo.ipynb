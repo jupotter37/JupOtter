{
 "cells": [
  {
   "cell_type": "markdown",
   "id": "e9980461",
   "metadata": {},
   "source": [
    "# Demo notebook for Kamodo Flythrough Input/Output functions\n",
    "This notebook demonstrates how to functionalize data from a file created by a flythrough function. Then, the data is used in an analysis and stored in another file. The example input file used below is created by the RealFlightDemo notebook."
   ]
  },
  {
   "cell_type": "code",
   "execution_count": null,
   "id": "affecting-electronics",
   "metadata": {},
   "outputs": [],
   "source": [
    "# Retrieve data from a file. The returned object is a nested dictionary of arrays.\n",
    "from kamodo_ccmc.flythrough import wrapper_output as O\n",
    "output_name = 'C:/Users/rringuet/Kamodo_env/RealFlightExample_GITM.txt'  \n",
    "results = O.SF_read(output_name)\n",
    "results"
   ]
  },
  {
   "cell_type": "code",
   "execution_count": null,
   "id": "informed-biology",
   "metadata": {},
   "outputs": [],
   "source": [
    "# Functionalize the output.\n",
    "kamodo_object = O.Functionalize_SFResults(results['metadata']['model_used'], results)\n",
    "kamodo_object"
   ]
  },
  {
   "cell_type": "code",
   "execution_count": null,
   "id": "95a644d2",
   "metadata": {},
   "outputs": [],
   "source": [
    "# Print length, max, min, and data type of time grid\n",
    "from kamodo import get_defaults\n",
    "for var in ['T_i', 'T_e']:\n",
    "    print(var)\n",
    "    defaults_ijk = get_defaults(kamodo_object[var])\n",
    "    for key in defaults_ijk:\n",
    "        print(key, len(defaults_ijk[key]), defaults_ijk[key].min(), defaults_ijk[key].max(), type(defaults_ijk[key].min()))"
   ]
  },
  {
   "cell_type": "code",
   "execution_count": null,
   "id": "355014e5",
   "metadata": {},
   "outputs": [],
   "source": [
    "# Plot! Note the plot is interactive. \n",
    "kamodo_object.plot('T_e', 'T_i')  "
   ]
  },
  {
   "cell_type": "code",
   "execution_count": null,
   "id": "a203c8d6",
   "metadata": {},
   "outputs": [],
   "source": [
    "# The underlying interpolators now accept time in hours since midnight of this date:\n",
    "kamodo_object.filedate"
   ]
  },
  {
   "cell_type": "code",
   "execution_count": null,
   "id": "7c896e30",
   "metadata": {},
   "outputs": [],
   "source": [
    "# Demonstrate an interpolation call. The input time is hours since midnight (above).\n",
    "kamodo_object.T_e(1.56)"
   ]
  },
  {
   "cell_type": "code",
   "execution_count": null,
   "id": "8136ed90",
   "metadata": {},
   "outputs": [],
   "source": [
    "# Demonstrate unit conversion.\n",
    "# Convert the velocity components to cm/s and include in kamodo_object.\n",
    "kamodo_object['T_e2[mK]'] = 'T_e'\n",
    "kamodo_object\n",
    "# Note the conversion factor is automatically calculated and included in the LaTeX representation."
   ]
  },
  {
   "cell_type": "code",
   "execution_count": null,
   "id": "54449575",
   "metadata": {},
   "outputs": [],
   "source": [
    "# Show some information (e.g. variable name in text, units, etc)\n",
    "kamodo_object.detail()"
   ]
  },
  {
   "cell_type": "code",
   "execution_count": null,
   "id": "535d0a9e",
   "metadata": {},
   "outputs": [],
   "source": [
    "# Show how to access the metadata stored in the Kamodo object for the new variable.\n",
    "kamodo_object.T_e2.meta"
   ]
  },
  {
   "cell_type": "code",
   "execution_count": null,
   "id": "0f42de0d",
   "metadata": {},
   "outputs": [],
   "source": [
    "# Plot the converted functions. Note the vertical axis and labels change. \n",
    "kamodo_object.plot('T_e','T_e2')  "
   ]
  },
  {
   "cell_type": "code",
   "execution_count": null,
   "id": "9e2cb921",
   "metadata": {},
   "outputs": [],
   "source": [
    "# To add the new function to the output, store the units and data in the results dictionary.\n",
    "results['Te_2'] = {'units': kamodo_object.T_e2.meta['units'], 'data': kamodo_object.T_e2()}\n",
    "results['Te_2']"
   ]
  },
  {
   "cell_type": "code",
   "execution_count": null,
   "id": "7b95774d",
   "metadata": {},
   "outputs": [],
   "source": [
    "help(O.SF_write)"
   ]
  },
  {
   "cell_type": "code",
   "execution_count": null,
   "id": "2329e686",
   "metadata": {},
   "outputs": [],
   "source": [
    "# collect units and data into dictionaries, then write to a file\n",
    "filename = 'C:/Users/rringuet/Kamodo_env/RealFlightExample_GITM2.txt'\n",
    "out_file = O.SF_write(filename, results)"
   ]
  },
  {
   "cell_type": "code",
   "execution_count": null,
   "id": "8d645986",
   "metadata": {},
   "outputs": [],
   "source": []
  }
 ],
 "metadata": {
  "kernelspec": {
   "display_name": "Python 3 (ipykernel)",
   "language": "python",
   "name": "python3"
  },
  "language_info": {
   "codemirror_mode": {
    "name": "ipython",
    "version": 3
   },
   "file_extension": ".py",
   "mimetype": "text/x-python",
   "name": "python",
   "nbconvert_exporter": "python",
   "pygments_lexer": "ipython3",
   "version": "3.7.13"
  }
 },
 "nbformat": 4,
 "nbformat_minor": 5
}
