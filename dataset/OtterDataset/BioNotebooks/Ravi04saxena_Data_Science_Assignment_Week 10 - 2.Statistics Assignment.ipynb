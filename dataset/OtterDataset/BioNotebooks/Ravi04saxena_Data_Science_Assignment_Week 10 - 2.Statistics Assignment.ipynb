{
 "cells": [
  {
   "cell_type": "markdown",
   "id": "b8534bb2",
   "metadata": {},
   "source": [
    "### Q1. What are the three measures of central tendency?\n",
    "### Sol:- The three common measures of central tendency are:\n",
    "\n",
    "#### 1) Mean: The arithmetic average of a dataset, calculated by adding all the values and dividing by the number of values.\n",
    "#### 2) Median: The middle value of a dataset when the values are arranged in order. If the dataset has an even number of values, the median is the average of the two middle numbers.\n",
    "#### 3) Mode: The value that occurs most frequently in a dataset. A dataset can have more than one mode or no mode if no value repeats."
   ]
  },
  {
   "cell_type": "code",
   "execution_count": null,
   "id": "f4a7a75b",
   "metadata": {},
   "outputs": [],
   "source": []
  },
  {
   "cell_type": "markdown",
   "id": "f1613054",
   "metadata": {},
   "source": [
    "### Q2. What is the difference between the mean, median, and mode? How are they used to measure the central tendency of a dataset?\n",
    "### Sol:- The mean, median, and mode are all measures of central tendency, but they represent different aspects of the distribution of a dataset.\n",
    "\n",
    "#### 1. Mean (Average)\n",
    "* Definition: The mean is the sum of all the values in a dataset divided by the number of values.\n",
    "* Formula: \n",
    "* Mean = Sum of values/Number of values\n",
    "* Usage: The mean is used when the data is evenly distributed without extreme outliers. It is sensitive to outliers, so even one very large or very small value can significantly affect the mean.\n",
    "* Example: Data: [2, 4, 6, 8, 100]\n",
    "  \n",
    "  Mean: (2+4+6+8+100)/5 = 24\n",
    "\n",
    "#### 2. Median\n",
    "* Definition: The median is the middle value of a dataset when the values are arranged in ascending or descending order. If the dataset has an even number of values, the median is the average of the two middle numbers.\n",
    "* Usage: The median is often used when a dataset has outliers or is skewed, as it is more resistant to extreme values. It provides a better sense of the \"typical\" value in such cases.\n",
    "* Example: Data: [2, 4, 6, 8, 100]\n",
    "  \n",
    "  Median: 6 (middle value when ordered)\n",
    "\n",
    "#### 3. Mode\n",
    "* Definition: The mode is the value that appears most frequently in a dataset. A dataset can have no mode, one mode (unimodal), or multiple modes (bimodal or multimodal).\n",
    "* Usage: The mode is useful for categorical data or when you are interested in the most frequent occurrence in a dataset.\n",
    "* Example:Data: [2, 2, 4, 6, 100]\n",
    "\n",
    "  Mode: 2 (appears most frequently)\n",
    "\n",
    "##### Summary of Differences:\n",
    "* Mean: Sensitive to outliers, best used for evenly distributed data.\n",
    "* Median: More robust against outliers, best for skewed distributions.\n",
    "* Mode: Useful for finding the most common value, especially in categorical data.\n",
    "Each measure of central tendency provides different insights into the dataset, depending on the distribution and nature of the data."
   ]
  },
  {
   "cell_type": "code",
   "execution_count": null,
   "id": "cac79c52",
   "metadata": {},
   "outputs": [],
   "source": []
  },
  {
   "cell_type": "markdown",
   "id": "71bcddaf",
   "metadata": {},
   "source": [
    "### Q3. Measure the three measures of central tendency for the given height data:\n",
    "\n",
    "data =  [178,177,176,177,178.2,178,175,179,180,175,178.9,176.2,177,172.5,178,176.5]\n",
    "### Sol:-"
   ]
  },
  {
   "cell_type": "code",
   "execution_count": 3,
   "id": "5658541b",
   "metadata": {},
   "outputs": [],
   "source": [
    "data = [178,177,176,177,178.2,178,175,179,180,175,178.9,176.2,177,172.5,178,176.5]"
   ]
  },
  {
   "cell_type": "code",
   "execution_count": 1,
   "id": "635d32c4",
   "metadata": {},
   "outputs": [],
   "source": [
    "import numpy as np"
   ]
  },
  {
   "cell_type": "code",
   "execution_count": 4,
   "id": "b6506c53",
   "metadata": {},
   "outputs": [
    {
     "data": {
      "text/plain": [
       "177.01875"
      ]
     },
     "execution_count": 4,
     "metadata": {},
     "output_type": "execute_result"
    }
   ],
   "source": [
    "# Mean\n",
    "np.mean(data)"
   ]
  },
  {
   "cell_type": "code",
   "execution_count": 5,
   "id": "0b46dc8a",
   "metadata": {},
   "outputs": [
    {
     "data": {
      "text/plain": [
       "177.0"
      ]
     },
     "execution_count": 5,
     "metadata": {},
     "output_type": "execute_result"
    }
   ],
   "source": [
    "# Median\n",
    "np.median(data)"
   ]
  },
  {
   "cell_type": "code",
   "execution_count": 7,
   "id": "239b3ca1",
   "metadata": {},
   "outputs": [
    {
     "name": "stderr",
     "output_type": "stream",
     "text": [
      "C:\\Users\\asus\\AppData\\Local\\Temp\\ipykernel_3256\\4034009865.py:3: FutureWarning: Unlike other reduction functions (e.g. `skew`, `kurtosis`), the default behavior of `mode` typically preserves the axis it acts along. In SciPy 1.11.0, this behavior will change: the default value of `keepdims` will become False, the `axis` over which the statistic is taken will be eliminated, and the value None will no longer be accepted. Set `keepdims` to True or False to avoid this warning.\n",
      "  stats.mode(data)\n"
     ]
    },
    {
     "data": {
      "text/plain": [
       "ModeResult(mode=array([177.]), count=array([3]))"
      ]
     },
     "execution_count": 7,
     "metadata": {},
     "output_type": "execute_result"
    }
   ],
   "source": [
    "# Mode\n",
    "from scipy import stats\n",
    "stats.mode(data)"
   ]
  },
  {
   "cell_type": "code",
   "execution_count": null,
   "id": "132ace1a",
   "metadata": {},
   "outputs": [],
   "source": []
  },
  {
   "cell_type": "markdown",
   "id": "6dce49af",
   "metadata": {},
   "source": [
    "### Q4. Find the standard deviation for the given data:\n",
    "\n",
    "[178,177,176,177,178.2,178,175,179,180,175,178.9,176.2,177,172.5,178,176.5]\n",
    "### Sol:-"
   ]
  },
  {
   "cell_type": "code",
   "execution_count": 8,
   "id": "25a58fad",
   "metadata": {},
   "outputs": [],
   "source": [
    "import numpy as np"
   ]
  },
  {
   "cell_type": "code",
   "execution_count": 9,
   "id": "f1abb2db",
   "metadata": {},
   "outputs": [],
   "source": [
    "df = [178,177,176,177,178.2,178,175,179,180,175,178.9,176.2,177,172.5,178,176.5]"
   ]
  },
  {
   "cell_type": "code",
   "execution_count": 10,
   "id": "3bce2002",
   "metadata": {},
   "outputs": [
    {
     "data": {
      "text/plain": [
       "1.7885814036548633"
      ]
     },
     "execution_count": 10,
     "metadata": {},
     "output_type": "execute_result"
    }
   ],
   "source": [
    "np.std(df)"
   ]
  },
  {
   "cell_type": "code",
   "execution_count": null,
   "id": "42dd14e7",
   "metadata": {},
   "outputs": [],
   "source": []
  },
  {
   "cell_type": "markdown",
   "id": "d5e57a3c",
   "metadata": {},
   "source": [
    "### Q5. How are measures of dispersion such as range, variance, and standard deviation used to describe the spread of a dataset? Provide an example.\n",
    "### Sol:- Measures of dispersion describe how spread out the values in a dataset are. They provide insights into the variability or consistency of the data. Here’s how each measure is used:\n",
    "#### 1. Range\n",
    "* Definition: The range is the difference between the maximum and minimum values in a dataset.\n",
    "* Formula: Range=Maximum value−Minimum value\n",
    "* Usage: The range gives a simple measure of the spread but can be affected by outliers. It provides a quick sense of the extent of variability."
   ]
  },
  {
   "cell_type": "code",
   "execution_count": 16,
   "id": "913db066",
   "metadata": {},
   "outputs": [],
   "source": [
    "# Example\n",
    "Data = [5, 7, 8, 10, 12]"
   ]
  },
  {
   "cell_type": "code",
   "execution_count": 17,
   "id": "efead9be",
   "metadata": {},
   "outputs": [],
   "source": [
    "range = max(Data) - min(Data)"
   ]
  },
  {
   "cell_type": "code",
   "execution_count": 18,
   "id": "d60a40aa",
   "metadata": {},
   "outputs": [
    {
     "data": {
      "text/plain": [
       "7"
      ]
     },
     "execution_count": 18,
     "metadata": {},
     "output_type": "execute_result"
    }
   ],
   "source": [
    "range"
   ]
  },
  {
   "cell_type": "markdown",
   "id": "a8a774c9",
   "metadata": {},
   "source": [
    "#### 2. Variance\n",
    "* Definition: Variance measures the average squared deviation of each data point from the mean. It provides a sense of how much the values in the dataset differ from the mean.\n",
    "* Usage: Variance gives a detailed measure of dispersion but is in squared units of the original data, which can be less intuitive."
   ]
  },
  {
   "cell_type": "code",
   "execution_count": 24,
   "id": "bdc68458",
   "metadata": {},
   "outputs": [],
   "source": [
    "# Example:\n",
    "Data1 =  [5, 7, 8, 10, 12]"
   ]
  },
  {
   "cell_type": "code",
   "execution_count": 22,
   "id": "deb2c390",
   "metadata": {},
   "outputs": [],
   "source": [
    "import numpy as np"
   ]
  },
  {
   "cell_type": "code",
   "execution_count": 31,
   "id": "f6419b62",
   "metadata": {},
   "outputs": [
    {
     "data": {
      "text/plain": [
       "5.84"
      ]
     },
     "execution_count": 31,
     "metadata": {},
     "output_type": "execute_result"
    }
   ],
   "source": [
    "np.var(Data1)"
   ]
  },
  {
   "cell_type": "code",
   "execution_count": null,
   "id": "76862d34",
   "metadata": {},
   "outputs": [],
   "source": []
  },
  {
   "cell_type": "markdown",
   "id": "c3f3282c",
   "metadata": {},
   "source": [
    "#### 3. Standard Deviation\n",
    "* Definition: The standard deviation is the square root of the variance. It provides a measure of spread in the same units as the data.\n",
    "* Usage: The standard deviation is commonly used because it is in the same units as the data and provides a sense of the average distance of each data point from the mean.\n",
    "* Example : From the variance example above:"
   ]
  },
  {
   "cell_type": "code",
   "execution_count": 30,
   "id": "2675f2c6",
   "metadata": {},
   "outputs": [
    {
     "data": {
      "text/plain": [
       "2.4166091947189146"
      ]
     },
     "execution_count": 30,
     "metadata": {},
     "output_type": "execute_result"
    }
   ],
   "source": [
    "np.std(Data1)"
   ]
  },
  {
   "cell_type": "code",
   "execution_count": null,
   "id": "1542bd3d",
   "metadata": {},
   "outputs": [],
   "source": []
  },
  {
   "cell_type": "markdown",
   "id": "f667627b",
   "metadata": {},
   "source": [
    "### Q6. What is a Venn diagram?\n",
    "### Sol:- A Venn diagram is a visual representation used to show the relationships between different sets. It consists of overlapping circles, where each circle represents a set, and the areas where the circles overlap represent the elements that are common between the sets.\n",
    "\n",
    "#### Key Features of a Venn Diagram:\n",
    "* Circles for Sets: Each circle in the diagram represents a set, and the elements of the set are typically placed inside the circle.\n",
    "* Overlapping Areas: The overlapping areas between the circles represent the elements that are common to both sets (the intersection of the sets).\n",
    "* Non-Overlapping Areas: The areas that do not overlap represent elements that are unique to a particular set.\n",
    "* Universal Set: The entire diagram can be drawn within a rectangle, which represents the universal set, containing all possible elements under consideration.\n",
    "##### Uses of Venn Diagrams:\n",
    "* To visualize relationships such as intersections, unions, and differences between sets.\n",
    "* Commonly used in logic, statistics, and probability to explain set theory concepts.\n",
    "* Used in problem-solving to compare and contrast different groups or categories.\n",
    "##### Example:\n",
    "For two sets:\n",
    "\n",
    "Set A = {1, 2, 3, 4}\n",
    "\n",
    "Set B = {3, 4, 5, 6}\n",
    "\n",
    "The Venn diagram would show:\n",
    "\n",
    "* The overlapping area containing the common elements {3, 4}.\n",
    "* The non-overlapping areas containing elements unique to each set ({1, 2} in Set A and {5, 6} in Set B).\n",
    "\n",
    "##### Illustration:\n",
    "* Union (A ∪ B) includes all elements from both sets.\n",
    "* Intersection (A ∩ B) includes only the elements common to both sets.\n",
    "* Difference (A - B) includes elements in Set A that are not in Set B."
   ]
  },
  {
   "cell_type": "code",
   "execution_count": null,
   "id": "dd3e36d5",
   "metadata": {},
   "outputs": [],
   "source": []
  },
  {
   "cell_type": "markdown",
   "id": "600674a7",
   "metadata": {},
   "source": [
    "### Q7. For the two given sets A = (2,3,4,5,6,7) & B = (0,2,6,8,10). Find:\n",
    "\n",
    "(i) A intersection B\n",
    "\n",
    "(ii) A U B\n",
    "\n",
    "### Sol:- "
   ]
  },
  {
   "cell_type": "code",
   "execution_count": 44,
   "id": "178954bd",
   "metadata": {},
   "outputs": [],
   "source": [
    "A = {2,3,4,5,6,7}"
   ]
  },
  {
   "cell_type": "code",
   "execution_count": 43,
   "id": "5f2440f9",
   "metadata": {},
   "outputs": [],
   "source": [
    "B = {0,2,6,8,10}"
   ]
  },
  {
   "cell_type": "code",
   "execution_count": 46,
   "id": "b3d799c9",
   "metadata": {},
   "outputs": [
    {
     "name": "stdout",
     "output_type": "stream",
     "text": [
      "Intersection: {2, 6}\n",
      "Union: {0, 2, 3, 4, 5, 6, 7, 8, 10}\n"
     ]
    }
   ],
   "source": [
    "# Find the intersection (common elements)\n",
    "intersection = A.intersection(B)\n",
    "\n",
    "# Find the union (all unique elements from both sets)\n",
    "union = A.union(B)\n",
    "\n",
    "print(\"Intersection:\", intersection)\n",
    "print(\"Union:\", union)"
   ]
  },
  {
   "cell_type": "code",
   "execution_count": null,
   "id": "5faa4316",
   "metadata": {},
   "outputs": [],
   "source": []
  },
  {
   "cell_type": "markdown",
   "id": "3de96d42",
   "metadata": {},
   "source": [
    "### Q8. What do you understand about skewness in data?\n",
    "### Sol:- Skewness refers to the measure of asymmetry or deviation from the symmetrical bell-shaped distribution (normal distribution) in a dataset. It helps to understand whether the data is spread more towards one side of the mean or the other. In a perfectly symmetrical distribution, the mean, median, and mode are all equal, and skewness is zero.\n",
    "\n",
    "#### Types of Skewness:\n",
    "1) Positive Skew (Right Skewed):\n",
    "* In a positively skewed distribution, the tail on the right side of the distribution is longer or fatter than the left side.\n",
    "* Most data points are concentrated on the lower end (left), and the outliers are on the right.\n",
    "* Mean > Median > Mode.\n",
    "* Example: Income distributions where most people earn lower or average incomes, but a few individuals earn very high incomes.\n",
    "\n",
    "2) Negative Skew (Left Skewed):\n",
    "* In a negatively skewed distribution, the tail on the left side is longer or fatter than the right side.\n",
    "* Most data points are concentrated on the higher end (right), with outliers on the left.\n",
    "* Mean < Median < Mode.\n",
    "* Example: Test scores where most students perform well, but a few score very low.\n",
    "\n",
    "3) Zero Skewness (Symmetrical Distribution):\n",
    "* In a symmetrical or normal distribution, the data is evenly distributed around the mean, with no skew.\n",
    "* The mean, median, and mode are all equal.\n",
    "* Example: Heights of people in a population where most individuals cluster around the average height.\n",
    "\n",
    "#### Importance of Skewness:\n",
    "* Impact on Measures of Central Tendency: In skewed data, the mean is pulled in the direction of the skew due to the influence of extreme values, while the median remains more resistant to outliers.\n",
    "* Decision-Making: Understanding skewness is important in fields like finance and economics, where outliers (extreme values) can significantly affect the analysis and decisions.\n",
    "* Model Selection: Some statistical models assume normality, so knowing whether data is skewed helps in selecting the right model or applying transformations.\n",
    "\n",
    "#### Visualization:\n",
    "* Skewness is often visualized using a histogram or a box plot to see how the data is distributed.\n",
    "\n",
    "#### Example:\n",
    "* If you have a dataset of house prices, where most houses are priced in the lower to middle range but a few luxury homes are extremely expensive, the data would likely show positive skewness.\n"
   ]
  },
  {
   "cell_type": "code",
   "execution_count": 47,
   "id": "fa974bc7",
   "metadata": {},
   "outputs": [
    {
     "name": "stdout",
     "output_type": "stream",
     "text": [
      "Skewness: 2.68417076150307\n"
     ]
    }
   ],
   "source": [
    "from scipy.stats import skew\n",
    "data = [2, 3, 4, 5, 6, 7, 8, 12, 15, 18, 100]\n",
    "skewness = skew(data)\n",
    "print(\"Skewness:\", skewness)"
   ]
  },
  {
   "cell_type": "markdown",
   "id": "da471c82",
   "metadata": {},
   "source": [
    "##### This will give a measure of skewness, where:\n",
    "* Positive values indicate positive skewness.\n",
    "* Negative values indicate negative skewness.\n",
    "* Zero indicates no skewness (perfect symmetry)."
   ]
  },
  {
   "cell_type": "code",
   "execution_count": null,
   "id": "35b3d1a7",
   "metadata": {},
   "outputs": [],
   "source": []
  },
  {
   "cell_type": "markdown",
   "id": "79e820cc",
   "metadata": {},
   "source": [
    "### Q9. If a data is right skewed then what will be the position of median with respect to mean?\n",
    "### Sol:- If a dataset is right skewed (positively skewed), the distribution has a longer tail on the right side. In such a case, the mean is influenced by the extreme higher values (outliers) on the right, causing it to be greater than the median.\n",
    "#### Relationship in Right Skewed Data:\n",
    "* Mean > Median > Mode\n",
    "#### Explanation:\n",
    "* Mean: The mean is pulled to the right by the larger values (outliers), which increases its value compared to the median.\n",
    "* Median: The median, being the middle value, is less affected by outliers and will be positioned closer to the majority of data points, which are concentrated on the left of the distribution.\n",
    "* Mode: The mode is the value that appears most frequently and is typically found where the bulk of the data lies, often on the left side of the distribution.\n",
    "#### Visualization:\n",
    "* In a positively skewed distribution, the order of the three measures of central tendency will be:\n",
    "* Mode<Median<Mean\n",
    "\n",
    "This means the median will be to the left of the mean."
   ]
  },
  {
   "cell_type": "code",
   "execution_count": null,
   "id": "4b7ca891",
   "metadata": {},
   "outputs": [],
   "source": []
  },
  {
   "cell_type": "markdown",
   "id": "8949ba85",
   "metadata": {},
   "source": [
    "### Q10. Explain the difference between covariance and correlation. How are these measures used in statistical analysis?\n",
    "### Sol:- Covariance and correlation are both measures used in statistics to describe the relationship between two variables, but they have important differences:\n",
    "\n",
    "#### 1. Covariance:\n",
    "* Definition: Covariance measures the degree to which two variables change together. If the variables tend to increase or decrease together, they have a positive covariance. If one variable tends to increase while the other decreases, they have a negative covariance.\n",
    "* Range: Covariance can take any value (positive, negative, or zero). There is no upper or lower bound.\n",
    "* Units: The units of covariance are the product of the units of the two variables. For example, if 𝑋 is measured in meters and 𝑌 in kilograms, the covariance will have units of meter-kilograms, making it harder to interpret directly.\n",
    "\n",
    "#### 2. Correlation:\n",
    "* Definition: Correlation is a standardized version of covariance that measures the strength and direction of a linear relationship between two variables. It ranges from −1 to 1, making it easier to interpret.\n",
    "* Range: Correlation values lie between −1 and 1:\n",
    "\n",
    "   * +1: Perfect positive linear relationship.\n",
    "   * −1: Perfect negative linear relationship.\n",
    "   * 0: No linear relationship.\n",
    "\n",
    "* Units: Correlation is unitless, which makes it easier to compare across different datasets or variables with different units.\n",
    "\n",
    "#### Key Differences:\n",
    "* 1. Interpretability: Covariance is difficult to interpret because its value depends on the units of the variables, whereas correlation is easier to interpret as it is unitless and standardized.\n",
    "* 2. Range: Covariance has no defined range, while correlation is always between −1 and 1.\n",
    "* 3. Use Case: Correlation is more commonly used in practice because of its standardization, allowing for comparison across different pairs of variables.\n",
    "\n",
    "#### How Are These Measures Used in Statistical Analysis?\n",
    "* Covariance:\n",
    "** Used to understand the direction of the relationship (positive or negative) between two variables.\n",
    "** In finance, covariance is used to understand how different asset returns move together, which is important for portfolio diversification.\n",
    "\n",
    "* Correlation:\n",
    "** Used to measure the strength and direction of a linear relationship between two variables.\n",
    "** It is commonly used in regression analysis, time series analysis, and in evaluating the strength of relationships in many fields like finance, economics, biology, etc.\n",
    "** Correlation coefficients (e.g., Pearson or Spearman) are often calculated to determine whether variables are significantly related to one another.\n",
    "\n",
    "In summary, covariance indicates the direction of a relationship, while correlation provides both the direction and the strength of that relationship, making it a more versatile and commonly used statistic.\n"
   ]
  },
  {
   "cell_type": "code",
   "execution_count": null,
   "id": "8ab65d73",
   "metadata": {},
   "outputs": [],
   "source": []
  },
  {
   "cell_type": "markdown",
   "id": "2d289f82",
   "metadata": {},
   "source": [
    "### Q11. What is the formula for calculating the sample mean? Provide an example calculation for a dataset."
   ]
  },
  {
   "cell_type": "code",
   "execution_count": null,
   "id": "9b202391",
   "metadata": {},
   "outputs": [],
   "source": [
    "'''\n",
    "Sol:- The formula for calculating the sample mean is:\n",
    "  _       n \n",
    "  X = 1/n ∑ Xi\n",
    "         i=1\n",
    "\n",
    "# where:  \n",
    "  _ \n",
    "# X is the sample mean,\n",
    "# n is the number of observations in the dataset,\n",
    "# 𝑋i are the individual data points.                                                                   '''"
   ]
  },
  {
   "cell_type": "code",
   "execution_count": 5,
   "id": "1a0fbcff",
   "metadata": {},
   "outputs": [
    {
     "name": "stdout",
     "output_type": "stream",
     "text": [
      "Sample mean (statistics module): 30\n",
      "Sample mean (NumPy): 30.0\n"
     ]
    }
   ],
   "source": [
    "# Example :- \n",
    "import statistics\n",
    "import numpy as np\n",
    "\n",
    "data = [10, 20, 30, 40, 50]\n",
    "\n",
    "# Using statistics.mean()\n",
    "sample_mean_stats = statistics.mean(data)\n",
    "\n",
    "# Using numpy.mean()\n",
    "sample_mean_np = np.mean(data)\n",
    "\n",
    "print(\"Sample mean (statistics module):\", sample_mean_stats)\n",
    "print(\"Sample mean (NumPy):\", sample_mean_np)\n"
   ]
  },
  {
   "cell_type": "code",
   "execution_count": null,
   "id": "667d8a84",
   "metadata": {},
   "outputs": [],
   "source": []
  },
  {
   "cell_type": "markdown",
   "id": "4240c0a6",
   "metadata": {},
   "source": [
    "### Q12. For a normal distribution data what is the relationship between its measure of central tendency?\n",
    "### Sol:- In a normal distribution (also known as a Gaussian distribution), the measures of central tendency — mean, median, and mode — are all equal. This relationship is a key feature of the normal distribution, and it only holds in the case of a perfectly symmetrical, unimodal distribution.\n",
    "\n",
    "#### Key points of the relationship:\n",
    "1. Mean: The arithmetic average of the data. In a normal distribution, the mean lies at the center of the distribution.\n",
    "2. Median: The middle value when the data is ordered. Since the distribution is symmetric, half of the data lies below and half lies above the median, which coincides with the mean.\n",
    "3. Mode: The most frequent value in the data. In a normal distribution, the mode occurs at the peak of the bell curve, which is also the mean.\n",
    "\n",
    "#### Summary of Relationship:\n",
    "* For a perfectly normal distribution:\n",
    "    * Mean=Median=Mode\n",
    "\n",
    "#### Visualization:\n",
    "In a bell-shaped curve (normal distribution), the mean, median, and mode all align at the center of the distribution, making it symmetric around this central value.\n",
    "\n",
    "#### Why This Happens:\n",
    "* The mean is affected by every data point, and because the normal distribution is symmetric, the mean is centered.\n",
    "* The median divides the dataset into two equal halves, and since the distribution is symmetric, it must lie at the same point as the mean.\n",
    "* The mode represents the value that appears most frequently, and for a normal distribution, the peak of the distribution is centered at the same point as the mean and median.\n",
    "\n",
    "This property is specific to normal distributions. In skewed distributions, the mean, median, and mode are typically not the same."
   ]
  },
  {
   "cell_type": "code",
   "execution_count": null,
   "id": "e30a6c72",
   "metadata": {},
   "outputs": [],
   "source": []
  },
  {
   "cell_type": "markdown",
   "id": "0af53b82",
   "metadata": {},
   "source": [
    "### Q13. How is covariance different from correlation?\n",
    "### Sol:- Covariance and correlation are both measures used to describe the relationship between two variables, but they differ in how they quantify and interpret that relationship. Here’s a breakdown of the differences between them:\n",
    "\n",
    "1. Definition:\n",
    "* Covariance: Measures the degree to which two variables change together. If both variables tend to increase or decrease simultaneously, the covariance is positive. If one increases while the other decreases, the covariance is negative.\n",
    "\n",
    "* Correlation: Standardizes the covariance and measures the strength and direction of a linear relationship between two variables. Correlation removes the units of the variables, making it a unitless value that is easier to interpret and compare across different datasets.\n",
    "\n",
    "2. Range:\n",
    "* Covariance: Can range from −∞ to +∞. There are no defined limits, which makes it harder to interpret the strength of the relationship.\n",
    "\n",
    "* Correlation: Always ranges between −1 and 1:\n",
    "  * +1 indicates a perfect positive linear relationship,\n",
    "  * −1 indicates a perfect negative linear relationship,\n",
    "  * 0 indicates no linear relationship.\n",
    "\n",
    "3. Interpretability:\n",
    "* Covariance: Difficult to interpret because it depends on the units of the two variables. For example, if one variable is in meters and the other in kilograms, the covariance will have units of meter-kilograms, making it hard to grasp the strength of the relationship.\n",
    "* Correlation: Easy to interpret since it is unitless and bounded between −1 and 1. This makes it a more standardized and comparable measure of the relationship.\n",
    "\n",
    "4. Units:\n",
    "* Covariance: Has units derived from the product of the units of the two variables.\n",
    "* Correlation: Is dimensionless (unitless), as the standard deviations in the denominator cancel out the units.\n",
    "\n",
    "5. Use Cases:\n",
    "* Covariance: Used primarily to determine the direction of the relationship (positive or negative). It's frequently used in finance, especially in portfolio theory, to assess how two assets move together (e.g., stock returns).\n",
    "* Correlation: Used to determine both the strength and direction of the linear relationship between two variables. It's widely used in data analysis, regression analysis, and hypothesis testing across various fields like economics, biology, and social sciences."
   ]
  },
  {
   "cell_type": "code",
   "execution_count": null,
   "id": "eef94c67",
   "metadata": {},
   "outputs": [],
   "source": []
  },
  {
   "cell_type": "markdown",
   "id": "50a57f91",
   "metadata": {},
   "source": [
    "### Q14. How do outliers affect measures of central tendency and dispersion? Provide an example.\n",
    "### Sol:- Outliers can significantly affect measures of central tendency (mean, median, mode) and dispersion (range, variance, standard deviation). Here's how they impact these measures:\n",
    "\n",
    "1. Effect on Central Tendency:\n",
    "* Mean: The mean is highly sensitive to outliers because it takes into account every value in the dataset. A single extreme outlier can significantly shift the mean toward the outlier.\n",
    "\n",
    "* Median: The median is resistant to outliers because it only depends on the middle value(s) of the ordered dataset. Outliers do not have a large effect on the median.\n",
    "\n",
    "* Mode: The mode is also resistant to outliers, as it depends on the frequency of values, not their magnitude.\n",
    "\n",
    "2. Effect on Dispersion:\n",
    "* Range: The range is directly affected by outliers because it measures the difference between the maximum and minimum values. An extreme outlier can significantly increase the range.\n",
    "\n",
    "* Variance and Standard Deviation: Both are highly sensitive to outliers because they depend on the squared differences between each data point and the mean. Outliers, being far from the mean, can dramatically increase these measures of dispersion."
   ]
  },
  {
   "cell_type": "code",
   "execution_count": 11,
   "id": "9a976d9a",
   "metadata": {},
   "outputs": [
    {
     "name": "stdout",
     "output_type": "stream",
     "text": [
      "Without outlier:\n",
      "Mean: 14.857142857142858\n",
      "Median: 15.0\n",
      "Mode: 10\n",
      "\n",
      "Range: 9\n",
      "Std Dev: 2.9485382057928993\n",
      "Variance: 8.693877551020408\n",
      "\n",
      "With outlier:\n",
      "Mean: 25.5\n",
      "Median: 15.5\n",
      "Mode: 10\n",
      "\n",
      "Range: 90\n",
      "Std Dev: 28.293108701590217\n",
      "Variance: 800.5\n"
     ]
    }
   ],
   "source": [
    "# Example\n",
    "import numpy as np\n",
    "import statistics\n",
    "\n",
    "# Dataset without outliers\n",
    "data_without_outliers = [10, 12, 14, 15, 16, 18, 19]\n",
    "\n",
    "# Dataset with an outlier\n",
    "data_with_outlier = [10, 12, 14, 15, 16, 18, 19, 100]\n",
    "\n",
    "# Measures for data without outliers\n",
    "mean = np.mean(data_without_outliers)\n",
    "median = np.median(data_without_outliers)\n",
    "mode = statistics.mode(data_without_outliers)\n",
    "range_data = np.ptp(data_without_outliers)\n",
    "std_dev = np.std(data_without_outliers)\n",
    "variance = np.var(data_without_outliers)\n",
    "\n",
    "# Measures for data with an outlier\n",
    "mean_outlier = np.mean(data_with_outlier)\n",
    "median_outlier = np.median(data_with_outlier)\n",
    "mode_outlier = statistics.mode(data_with_outlier)\n",
    "range_outlier = np.ptp(data_with_outlier)\n",
    "std_dev_outlier = np.std(data_with_outlier)\n",
    "variance_outlier = np.var(data_with_outlier)\n",
    "\n",
    "# Output results\n",
    "print(\"Without outlier:\")\n",
    "print(f\"Mean: {mean}\")\n",
    "print(f\"Median: {median}\")\n",
    "print(f\"Mode: {mode}\\n\")\n",
    "print(f\"Range: {range_data}\")\n",
    "print(f\"Std Dev: {std_dev}\") \n",
    "print(f\"Variance: {variance}\\n\")\n",
    "\n",
    "print(\"With outlier:\")\n",
    "print(f\"Mean: {mean_outlier}\")\n",
    "print(f\"Median: {median_outlier}\")\n",
    "print(f\"Mode: {mode_outlier}\\n\")\n",
    "print(f\"Range: {range_outlier}\")\n",
    "print(f\"Std Dev: {std_dev_outlier}\")\n",
    "print(f\"Variance: {variance_outlier}\")\n"
   ]
  },
  {
   "cell_type": "code",
   "execution_count": null,
   "id": "a9135214",
   "metadata": {},
   "outputs": [],
   "source": []
  },
  {
   "cell_type": "code",
   "execution_count": null,
   "id": "a7a9095c",
   "metadata": {},
   "outputs": [],
   "source": []
  },
  {
   "cell_type": "code",
   "execution_count": null,
   "id": "e8ab35f4",
   "metadata": {},
   "outputs": [],
   "source": []
  },
  {
   "cell_type": "code",
   "execution_count": null,
   "id": "a63dcd22",
   "metadata": {},
   "outputs": [],
   "source": []
  }
 ],
 "metadata": {
  "kernelspec": {
   "display_name": "Python 3 (ipykernel)",
   "language": "python",
   "name": "python3"
  },
  "language_info": {
   "codemirror_mode": {
    "name": "ipython",
    "version": 3
   },
   "file_extension": ".py",
   "mimetype": "text/x-python",
   "name": "python",
   "nbconvert_exporter": "python",
   "pygments_lexer": "ipython3",
   "version": "3.10.9"
  }
 },
 "nbformat": 4,
 "nbformat_minor": 5
}
