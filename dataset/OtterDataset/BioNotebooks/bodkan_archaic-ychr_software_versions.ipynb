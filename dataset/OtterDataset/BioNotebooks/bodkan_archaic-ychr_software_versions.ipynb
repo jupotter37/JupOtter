{
 "cells": [
  {
   "cell_type": "markdown",
   "metadata": {},
   "source": [
    "This notebook describes the exact versions of R/Python packages and other software used to produce our results.\n",
    "\n",
    "Note that for many analyses I was fortunate to have access to extensive computational resources (several machines with > 50 cores and 1 TB RAM and a computing cluster with hundreds of nodes). Therefore, you might find that some analyses require a lot of time to run or lots of memory. In case of any trouble, please don't hesitate to [contact me](https://www.bodkan.net)."
   ]
  },
  {
   "cell_type": "markdown",
   "metadata": {},
   "source": [
    "# System"
   ]
  },
  {
   "cell_type": "code",
   "execution_count": 1,
   "metadata": {},
   "outputs": [
    {
     "name": "stdout",
     "output_type": "stream",
     "text": [
      "Linux version 4.4.0-116-generic (buildd@lgw01-amd64-021) (gcc version 5.4.0 20160609 (Ubuntu 5.4.0-6ubuntu1~16.04.9) ) #140-Ubuntu SMP Mon Feb 12 21:23:04 UTC 2018\n"
     ]
    }
   ],
   "source": [
    "cat /proc/version"
   ]
  },
  {
   "cell_type": "markdown",
   "metadata": {},
   "source": [
    "Version of make to run the `Makefile` processing pipeline:"
   ]
  },
  {
   "cell_type": "code",
   "execution_count": 2,
   "metadata": {},
   "outputs": [
    {
     "name": "stdout",
     "output_type": "stream",
     "text": [
      "GNU Make 4.1\n",
      "Built for x86_64-pc-linux-gnu\n",
      "Copyright (C) 1988-2014 Free Software Foundation, Inc.\n",
      "License GPLv3+: GNU GPL version 3 or later <http://gnu.org/licenses/gpl.html>\n",
      "This is free software: you are free to change and redistribute it.\n",
      "There is NO WARRANTY, to the extent permitted by law.\n"
     ]
    }
   ],
   "source": [
    "make -v"
   ]
  },
  {
   "cell_type": "markdown",
   "metadata": {},
   "source": [
    "# R environment"
   ]
  },
  {
   "cell_type": "code",
   "execution_count": 3,
   "metadata": {},
   "outputs": [
    {
     "name": "stdout",
     "output_type": "stream",
     "text": [
      "R version 3.6.0 (2019-04-26) -- \"Planting of a Tree\"\n",
      "Copyright (C) 2019 The R Foundation for Statistical Computing\n",
      "Platform: x86_64-pc-linux-gnu (64-bit)\n",
      "\n",
      "R is free software and comes with ABSOLUTELY NO WARRANTY.\n",
      "You are welcome to redistribute it under the terms of the\n",
      "GNU General Public License versions 2 or 3.\n",
      "For more information about these matters see\n",
      "https://www.gnu.org/licenses/.\n",
      "\n"
     ]
    }
   ],
   "source": [
    "R --version"
   ]
  },
  {
   "cell_type": "code",
   "execution_count": 4,
   "metadata": {},
   "outputs": [
    {
     "name": "stdout",
     "output_type": "stream",
     "text": [
      "[1] \"/r1/people/martin_petr/local/R_LIBS\"   \n",
      "[2] \"/usr/local64/opt/R-3.6.0/lib/R/library\"\n"
     ]
    }
   ],
   "source": [
    "R -s -e \".libPaths()\""
   ]
  },
  {
   "cell_type": "markdown",
   "metadata": {},
   "source": [
    "Scan the whole repo for packages used and fetch their versions:"
   ]
  },
  {
   "cell_type": "code",
   "execution_count": 5,
   "metadata": {},
   "outputs": [
    {
     "name": "stdout",
     "output_type": "stream",
     "text": [
      "binom  1.1-1\n",
      "cowplot  1.0.0\n",
      "furrr  0.1.0\n",
      "GenomicRanges  1.36.0\n",
      "ggtree  2.0.2\n",
      "glue  1.3.1\n",
      "here  0.1\n",
      "lemon  0.4.4\n",
      "magick  2.3\n",
      "magrittr  1.5\n",
      "phangorn  2.5.5\n",
      "RColorBrewer  1.1-2\n",
      "rtracklayer  1.44.0\n",
      "scales  1.1.0\n",
      "tidyverse  1.2.1\n",
      "treeio  1.10.0\n",
      "VariantAnnotation  1.30.1\n"
     ]
    }
   ],
   "source": [
    "pkgs=`grep -ho 'library([a-zA-Z0-9]*)' ../notebooks/*.ipynb ../R/*.R \\\n",
    "    | sed 's/; */\\n/g' \\\n",
    "    | sed 's/}.*$//' \\\n",
    "    | sed 's/))/)/' \\\n",
    "    | sed 's/library(\\(.*\\))/\\1/g' \\\n",
    "    | sort \\\n",
    "    | uniq`\n",
    "    \n",
    "for pkg in $pkgs; do\n",
    "    echo -n \"$pkg \"\n",
    "    if [ -d ~/local/R_LIBS/${pkg} ]; then\n",
    "        grep 'Version:' ~/local/R_LIBS/${pkg}/DESCRIPTION | sed 's/Version://'\n",
    "    elif [ -d /usr/local64/opt/R-3.6.0/lib/R/library/${pkg} ]; then\n",
    "        grep 'Version:' /usr/local64/opt/R-3.6.0/lib/R/library/${pkg}/DESCRIPTION | sed 's/Version://'\n",
    "    fi\n",
    "done"
   ]
  },
  {
   "cell_type": "markdown",
   "metadata": {},
   "source": [
    "To load the project functions using `devtools::load_all(\".\")` (see the top of all R Jupyter notebooks in the `notebooks/` directory), you will also need the R package `devtools` (I used version 2.2.1)."
   ]
  },
  {
   "cell_type": "markdown",
   "metadata": {},
   "source": [
    "# Python environment\n",
    "\n",
    "Note that the only things we used Python for have been to :\n",
    "\n",
    "* generate genotype calls using our [bam-caller](https://github.com/bodkan/bam-caller) script which only requires `pysam` and `pandas` libraries,\n",
    "\n",
    "* run Jupyter notebook."
   ]
  },
  {
   "cell_type": "code",
   "execution_count": 6,
   "metadata": {},
   "outputs": [
    {
     "name": "stdout",
     "output_type": "stream",
     "text": [
      "(archaic-ychr) "
     ]
    },
    {
     "ename": "",
     "evalue": "1",
     "output_type": "error",
     "traceback": []
    }
   ],
   "source": [
    "conda activate archaic-ychr"
   ]
  },
  {
   "cell_type": "code",
   "execution_count": 7,
   "metadata": {},
   "outputs": [
    {
     "name": "stdout",
     "output_type": "stream",
     "text": [
      "Python 3.7.4\n",
      "(archaic-ychr) "
     ]
    },
    {
     "ename": "",
     "evalue": "1",
     "output_type": "error",
     "traceback": []
    }
   ],
   "source": [
    "python --version"
   ]
  },
  {
   "cell_type": "code",
   "execution_count": 8,
   "metadata": {},
   "outputs": [
    {
     "name": "stdout",
     "output_type": "stream",
     "text": [
      "(archaic-ychr) "
     ]
    },
    {
     "ename": "",
     "evalue": "1",
     "output_type": "error",
     "traceback": []
    }
   ],
   "source": [
    "pip freeze > ../requirements.txt"
   ]
  },
  {
   "cell_type": "code",
   "execution_count": 9,
   "metadata": {},
   "outputs": [
    {
     "name": "stdout",
     "output_type": "stream",
     "text": [
      "attrs==19.1.0\n",
      "backcall==0.1.0\n",
      "bash-kernel==0.7.2\n",
      "biopython==1.76\n",
      "bleach==3.1.0\n",
      "certifi==2019.9.11\n",
      "chardet==3.0.4\n",
      "colorama==0.4.1\n",
      "cycler==0.10.0\n",
      "decorator==4.4.0\n",
      "defusedxml==0.6.0\n",
      "entrypoints==0.3\n",
      "gitdb2==2.0.6\n",
      "GitPython==3.0.4\n",
      "h5py==2.10.0\n",
      "idna==2.8\n",
      "ipdb==0.12.2\n",
      "ipykernel==5.1.2\n",
      "ipython==7.8.0\n",
      "ipython-genutils==0.2.0\n",
      "ipywidgets==7.5.1\n",
      "jedi==0.15.1\n",
      "Jinja2==2.10.1\n",
      "json5==0.9.1\n",
      "jsonschema==3.0.2\n",
      "jupyter==1.0.0\n",
      "jupyter-client==5.3.3\n",
      "jupyter-console==6.0.0\n",
      "jupyter-core==4.5.0\n",
      "jupyterlab-server==1.0.6\n",
      "kiwisolver==1.1.0\n",
      "MarkupSafe==1.1.1\n",
      "matplotlib==3.1.1\n",
      "mistune==0.8.4\n",
      "msprime==0.7.3\n",
      "nbconvert==5.6.0\n",
      "nbdime==1.1.0\n",
      "nbformat==4.4.0\n",
      "notebook==6.0.1\n",
      "numpy==1.17.2\n",
      "pandas==0.25.1\n",
      "pandocfilters==1.4.2\n",
      "parso==0.5.1\n",
      "pexpect==4.7.0\n",
      "pickleshare==0.7.5\n",
      "prometheus-client==0.7.1\n",
      "prompt-toolkit==2.0.9\n",
      "ptyprocess==0.6.0\n",
      "pybedtools==0.8.0\n",
      "Pygments==2.4.2\n",
      "pyparsing==2.4.2\n",
      "pyrsistent==0.15.4\n",
      "pysam==0.15.3\n",
      "python-dateutil==2.8.0\n",
      "pytz==2019.2\n",
      "PyVCF==0.6.8\n",
      "pyzmq==18.1.0\n",
      "qtconsole==4.5.5\n",
      "requests==2.22.0\n",
      "Send2Trash==1.5.0\n",
      "six==1.12.0\n",
      "smmap2==2.0.5\n",
      "svgwrite==1.3.1\n",
      "terminado==0.8.2\n",
      "testpath==0.4.2\n",
      "tornado==6.0.3\n",
      "traitlets==4.3.2\n",
      "tskit==0.2.2\n",
      "urllib3==1.25.6\n",
      "wcwidth==0.1.7\n",
      "webencodings==0.5.1\n",
      "widgetsnbextension==3.5.1\n",
      "(archaic-ychr) "
     ]
    },
    {
     "ename": "",
     "evalue": "1",
     "output_type": "error",
     "traceback": []
    }
   ],
   "source": [
    "cat ../requirements.txt"
   ]
  },
  {
   "cell_type": "markdown",
   "metadata": {},
   "source": [
    "# Jupyter notebooks\n",
    "\n",
    "Note that all of my computational notebooks are written in R. To be able to run them and play around with the data yourself you will need to install the [R Jupyter kernel](https://irkernel.github.io/)."
   ]
  },
  {
   "cell_type": "markdown",
   "metadata": {},
   "source": [
    "# SLiM\n",
    "\n",
    "In order to reproduce our simulation results, please make sure use use exactly the same version of SLiM shown below. SLiM is known to introduce backward-incompatible changes often."
   ]
  },
  {
   "cell_type": "code",
   "execution_count": 10,
   "metadata": {
    "scrolled": false
   },
   "outputs": [
    {
     "name": "stdout",
     "output_type": "stream",
     "text": [
      "SLiM version 3.3, built Aug 20 2019 10:37:20.\n",
      "\n",
      "SLiM is a product of the Messer Lab, http://messerlab.org/\n",
      "Copyright 2013-2019 Philipp Messer.  All rights reserved.\n",
      "\n",
      "By Benjamin C. Haller, http://benhaller.com/, and Philipp Messer.\n",
      "\n",
      "---------------------------------------------------------------------------------\n",
      "\n",
      "To cite SLiM in publications please use:\n",
      "\n",
      "Haller, B.C., and Messer, P.W. (2019). SLiM 3: Forward genetic simulations\n",
      "beyond the Wright–Fisher model. Molecular Biology and Evolution 36(3), 632-637.\n",
      "DOI: http://dx.doi.org/10.1093/molbev/msy228\n",
      "\n",
      "For papers using tree-sequence recording, please cite:\n",
      "\n",
      "Haller, B.C., Galloway, J., Kelleher, J., Messer, P.W., & Ralph, P.L. (2019).\n",
      "Tree‐sequence recording in SLiM opens new horizons for forward‐time simulation\n",
      "of whole genomes. Molecular Ecology Resources 19(2), 552-566.\n",
      "DOI: https://doi.org/10.1111/1755-0998.12968\n",
      "\n",
      "---------------------------------------------------------------------------------\n",
      "\n",
      "SLiM home page: http://messerlab.org/slim/\n",
      "slim-announce mailing list: https://groups.google.com/d/forum/slim-announce\n",
      "slim-discuss mailing list: https://groups.google.com/d/forum/slim-discuss\n",
      "\n",
      "---------------------------------------------------------------------------------\n",
      "\n",
      "SLiM is free software: you can redistribute it and/or modify it under the terms\n",
      "of the GNU General Public License as published by the Free Software Foundation,\n",
      "either version 3 of the License, or (at your option) any later version.\n",
      "\n",
      "SLiM is distributed in the hope that it will be useful, but WITHOUT ANY WARRANTY;\n",
      "without even the implied warranty of MERCHANTABILITY or FITNESS FOR A PARTICULAR\n",
      "PURPOSE.  See the GNU General Public License for more details.\n",
      "\n",
      "You should have received a copy of the GNU General Public License along with\n",
      "SLiM.  If not, see <http://www.gnu.org/licenses/>.\n",
      "\n",
      "---------------------------------------------------------------------------------\n",
      "\n",
      "usage: slim -v[ersion] | -u[sage] | -testEidos | -testSLiM |\n",
      "   [-l[ong]] [-s[eed] <seed>] [-t[ime]] [-m[em]] [-M[emhist]] [-x]\n",
      "   [-d[efine] <def>] [<script file>]\n",
      "\n",
      "   -v[ersion]       : print SLiM's version information\n",
      "   -u[sage]         : print command-line usage help\n",
      "   -testEidos | -te : run built-in self-diagnostic tests of Eidos\n",
      "   -testSLiM | -ts  : run built-in self-diagnostic tests of SLiM\n",
      "\n",
      "   -l[ong]          : long (i.e.) verbose output (format may change)\n",
      "   -s[eed] <seed>   : supply an initial random number seed for SLiM\n",
      "   -t[ime]          : print SLiM's total execution time (in user clock time)\n",
      "   -m[em]           : print SLiM's peak memory usage\n",
      "   -M[emhist]       : print a histogram of SLiM's memory usage\n",
      "   -x               : disable SLiM's runtime safety/consistency checks\n",
      "   -d[efine] <def>  : define an Eidos constant, such as \"mu=1e-7\"\n",
      "   <script file>    : the input script file (stdin may be used instead)\n",
      "\n",
      "(archaic-ychr) "
     ]
    },
    {
     "ename": "",
     "evalue": "1",
     "output_type": "error",
     "traceback": []
    }
   ],
   "source": [
    "slim"
   ]
  },
  {
   "cell_type": "markdown",
   "metadata": {},
   "source": [
    "# conda\n",
    "\n",
    "Conda environment (includes Python and R, all Python packages were installed from an older `requirements.txt` file, R packages originally installed \"globally\" and then made available to conda via editing of `Renviron` file):"
   ]
  },
  {
   "cell_type": "code",
   "execution_count": 11,
   "metadata": {
    "scrolled": false
   },
   "outputs": [
    {
     "name": "stdout",
     "output_type": "stream",
     "text": [
      "name: archaic-ychr\n",
      "channels:\n",
      "  - conda-forge\n",
      "  - bioconda\n",
      "  - defaults\n",
      "dependencies:\n",
      "  - python=3.7.4\n",
      "prefix: /home/martin_petr/local/miniconda3/envs/archaic-ychr\n",
      "\n",
      "(archaic-ychr) "
     ]
    },
    {
     "ename": "",
     "evalue": "1",
     "output_type": "error",
     "traceback": []
    }
   ],
   "source": [
    "cat ../environment.yml"
   ]
  }
 ],
 "metadata": {
  "kernelspec": {
   "display_name": "Bash",
   "language": "bash",
   "name": "bash"
  },
  "language_info": {
   "codemirror_mode": "shell",
   "file_extension": ".sh",
   "mimetype": "text/x-sh",
   "name": "bash"
  }
 },
 "nbformat": 4,
 "nbformat_minor": 2
}
