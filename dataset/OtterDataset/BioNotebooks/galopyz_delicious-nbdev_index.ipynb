{
 "cells": [
  {
   "cell_type": "raw",
   "id": "da5eb921",
   "metadata": {},
   "source": [
    "---\n",
    "title: \"How to solve it\"\n",
    "author: \"galopy\"\n",
    "date: \"January 17, 2025\"\n",
    "toc: true\n",
    "skip_showdoc: true\n",
    "skip_exec: true\n",
    "comments:\n",
    "  utterances:\n",
    "    repo: galopyz/delicious-nbdev\n",
    "---"
   ]
  },
  {
   "cell_type": "markdown",
   "id": "736e41e8",
   "metadata": {},
   "source": [
    "# Solve it technique"
   ]
  },
  {
   "cell_type": "markdown",
   "id": "f83260a2",
   "metadata": {},
   "source": [
    "<img src=\"solveit.jpg\" alt=\"How to solve it\" width=\"200\">"
   ]
  },
  {
   "cell_type": "markdown",
   "id": "c438c770",
   "metadata": {},
   "source": [
    "## Intro\n",
    "\n"
   ]
  },
  {
   "cell_type": "markdown",
   "id": "ae28ca24",
   "metadata": {},
   "source": [
    "Over the winter break, I learned about [Georgy Polya](https://en.wikipedia.org/wiki/George_P%C3%B3lya)'s \"How to solve it\" through a [course](https://www.answer.ai/posts/2024-11-07-solveit.html). [\"How to solve it\"](https://en.wikipedia.org/wiki/How_to_Solve_It) is a book about problem solving. As a mathematician, Polya solved difficult math problems, and the book focuses on math. However, his problem solving techniques can apply into many other fields as well. Let's briefly look at the technique."
   ]
  },
  {
   "cell_type": "markdown",
   "id": "1852454b",
   "metadata": {},
   "source": [
    "## Technique for solving problems"
   ]
  },
  {
   "cell_type": "markdown",
   "id": "0ef94bd3",
   "metadata": {},
   "source": [
    "In the course, we utilize [four-step problem-solving frame](https://gist.github.com/jph00/d60301884c56fe063101a7cc6193b3af) on [advent of code problems](https://adventofcode.com) to familiarize ourselves with problem solving. In the book, there are five steps, which I found was a bit more intuitive for me. Here's the steps from the book."
   ]
  },
  {
   "cell_type": "markdown",
   "id": "16daf5ad",
   "metadata": {},
   "source": [
    "1. Getting acquanted\n",
    "    \n",
    "    Before we solve, we want to understand the problem clearly in a big picture. There is no need for little details now. It's like looking at a painting in a distance. We can figure out what the painting is about.\n",
    "    \n",
    "    \n",
    "2. Working for better understanding\n",
    "\n",
    "\n",
    "    We want to get a much deeper understanding of the problem. To the point where we can have everything related to the problem in our head without looking at the problem. We think about each component and consider how they are important for our problem.\n",
    "  \n",
    "  \n",
    "3. Hunting for the helpful idea\n",
    "\n",
    "    Now we look for ideas that could help us solve the problem. We can look for similar problems we have solved in the past. This can be very straight forward for some problems, but it may not for others. Sometimes problems are related, but hard to find the connection. For instance, some designs in engineering may be inspired from biology.\n",
    "    \n",
    "    \n",
    "4. Carrying out the plan\n",
    "\n",
    "    We take small steps and check for correctness. We think about it in different angles and as ourselves whether it makes sense. In the end, we have the correct solution.\n",
    "   \n",
    "   \n",
    "5. Looking back\n",
    "\n",
    "    We make sure the solution is correct by thinking about it in differnt ways. We try to conquer the problem by simplifying the solution and applying those helpful ideas into other problems. Like our immune system, we can solve this type of problem with ease in the future."
   ]
  },
  {
   "cell_type": "markdown",
   "id": "db3dca28",
   "metadata": {},
   "source": [
    "After learning about the technique, I thought the steps were obvious and intuitive. I didn't think there was anything new or surprising here. I thought to myself, \"isn't it what everyone does to solve any problem?\" I was wrong. I learned that I wasn't following the steps and got punished when I was solving advent of code problems."
   ]
  },
  {
   "cell_type": "markdown",
   "id": "9e233e92",
   "metadata": {},
   "source": [
    "## Advent of code"
   ]
  },
  {
   "cell_type": "markdown",
   "id": "34eb9f54",
   "metadata": {},
   "source": [
    "Advent of code starts off with easy problems, and I believed in myself. But, I got one of them wrong because I didn't fully understand the problem. Then, I realized how important it was to follow each step of the technique. "
   ]
  },
  {
   "cell_type": "markdown",
   "id": "99b5e5b7",
   "metadata": {},
   "source": [
    "Some of the advent of code problems were very difficult for me, and I got stuck. First of all, it was difficult to even understand the problem for a few of them. After going through different cases by hand, I understood them fully. Even after understanding, it was difficult to come up with a solution. Those were problems I had never seen before, and I had no idea how to solve them. After a couple hours, looking at the problem in different angles helped me get helpful ideas to solve them. "
   ]
  },
  {
   "cell_type": "markdown",
   "id": "b07462a9",
   "metadata": {},
   "source": [
    "To really conquer the problem and prepare myself for future difficult problems, I looked back at the problem for a review. This step was probably the hardest because I already got the stars from the problems and I just wanted to move on and forget about them. But that doesn't do anything for me in the long run. To get the most out of those problems, I looked at other people's code. Many people had interesting dialogues that led to solutions, which helped me look at the problems from different angles."
   ]
  },
  {
   "cell_type": "markdown",
   "id": "49db1511",
   "metadata": {},
   "source": [
    "In the end, I stuck with reading [pytudes](https://github.com/norvig/pytudes) and try to figure out how Norvig came up with the code. After studying line by line and pretending to be in his shoes, I reproduced his code without looking after a day or two. There could probably be better ways to \"look back,\" but this was helpful for me to understand the problem better."
   ]
  },
  {
   "cell_type": "markdown",
   "id": "e470ffd2",
   "metadata": {},
   "source": [
    "## Solving other problems"
   ]
  },
  {
   "cell_type": "markdown",
   "id": "68532a47",
   "metadata": {},
   "source": [
    "Other than math and coding problems, it is interesting to solve problems in other domains. For instance, from [Veritasium's Youtube video on PCR](https://www.youtube.com/watch?v=zaXKQ70q4KQ), we can find out [Kary Mullis](https://en.wikipedia.org/wiki/Kary_Mullis) may have used Polya's technique to solve his problem and create [polymerase chain reaction](https://en.wikipedia.org/wiki/Polymerase_chain_reaction) (PCR). His steps could've been:\n",
    "1. He needed a lot of DNA for testing, and creating DNA from scratch was very tedious and boring. He needed a way to automate or simplify this.\n",
    "2. As an experienced biochemist he had every component that's required to build DNA in his head.\n",
    "3. While driving, he simulated performing PCR in his head and wrote down the notes.\n",
    "4. He worked with his team to make his idea reality.\n",
    "5. Trying to automate the tedious work paid off. We got to be lazy."
   ]
  },
  {
   "cell_type": "markdown",
   "id": "f493799a",
   "metadata": {},
   "source": [
    "There may be other fascinating examples in the history."
   ]
  },
  {
   "cell_type": "markdown",
   "id": "b532db70",
   "metadata": {},
   "source": [
    "## Conclusion"
   ]
  },
  {
   "cell_type": "markdown",
   "id": "47c24d88",
   "metadata": {},
   "source": [
    "Of course this technique applies to day to day problems as well with some flexibility and tweaks. I even apply to social problems if I feel like there is a problem with relationships and find ways to solve it. After practicing a lot on solving difficult problems, using the technique got easier. After all, I want to solve as many problems as possible fairly easily. "
   ]
  },
  {
   "cell_type": "code",
   "execution_count": null,
   "id": "e0314da0",
   "metadata": {},
   "outputs": [],
   "source": []
  }
 ],
 "metadata": {
  "kernelspec": {
   "display_name": "Python 3 (ipykernel)",
   "language": "python",
   "name": "python3"
  },
  "language_info": {
   "codemirror_mode": {
    "name": "ipython",
    "version": 3
   },
   "file_extension": ".py",
   "mimetype": "text/x-python",
   "name": "python",
   "nbconvert_exporter": "python",
   "pygments_lexer": "ipython3",
   "version": "3.11.11"
  }
 },
 "nbformat": 4,
 "nbformat_minor": 5
}
