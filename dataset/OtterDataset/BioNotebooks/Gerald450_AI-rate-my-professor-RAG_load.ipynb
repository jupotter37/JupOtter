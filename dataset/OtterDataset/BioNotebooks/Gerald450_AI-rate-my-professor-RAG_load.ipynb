{
 "cells": [
  {
   "cell_type": "code",
   "execution_count": 4,
   "metadata": {},
   "outputs": [
    {
     "name": "stderr",
     "output_type": "stream",
     "text": [
      "/Users/geraldshimo/miniconda3/envs/rag/lib/python3.10/site-packages/pinecone/data/index.py:1: TqdmWarning: IProgress not found. Please update jupyter and ipywidgets. See https://ipywidgets.readthedocs.io/en/stable/user_install.html\n",
      "  from tqdm.autonotebook import tqdm\n"
     ]
    }
   ],
   "source": [
    "from dotenv import load_dotenv\n",
    "load_dotenv()\n",
    "\n",
    "import os\n",
    "from openai import Openai\n",
    "from pinecone import Pinecone, ServerlessSpec\n"
   ]
  },
  {
   "cell_type": "code",
   "execution_count": 5,
   "metadata": {},
   "outputs": [],
   "source": [
    "pc  = Pinecone(api_key=os.getenv(\"PINECONE_API_KEY\"))\n",
    "pc.create_index(\n",
    "    name=\"rag\", dimension=1536, metric='cosine', spec= ServerlessSpec(cloud = 'aws', region = 'us-east-1')\n",
    ")"
   ]
  },
  {
   "cell_type": "code",
   "execution_count": 8,
   "metadata": {},
   "outputs": [
    {
     "data": {
      "text/plain": [
       "[{'professor': 'Dr. Emily Richards',\n",
       "  'subject': 'Physics 101',\n",
       "  'stars': 4,\n",
       "  'review': 'Dr. Richards is knowledgeable and her lectures are clear. However, the exams are tough.'},\n",
       " {'professor': 'Dr. John Matthews',\n",
       "  'subject': 'Chemistry 202',\n",
       "  'stars': 5,\n",
       "  'review': 'Amazing professor! He makes complex topics easy to understand.'},\n",
       " {'professor': 'Dr. Angela Martin',\n",
       "  'subject': 'Mathematics 305',\n",
       "  'stars': 3,\n",
       "  'review': \"Her lectures are detailed, but she doesn't explain concepts in a way that's easy to grasp.\"},\n",
       " {'professor': 'Dr. Michael Johnson',\n",
       "  'subject': 'Biology 150',\n",
       "  'stars': 5,\n",
       "  'review': \"Dr. Johnson's passion for biology is contagious. Highly recommended!\"},\n",
       " {'professor': 'Dr. Susan Lee',\n",
       "  'subject': 'English Literature 210',\n",
       "  'stars': 2,\n",
       "  'review': \"She is a strict grader and doesn't provide much feedback on assignments.\"},\n",
       " {'professor': 'Dr. Robert Brown',\n",
       "  'subject': 'Economics 101',\n",
       "  'stars': 4,\n",
       "  'review': 'Good professor, but you need to put in a lot of work to do well in his class.'},\n",
       " {'professor': 'Dr. Linda Green',\n",
       "  'subject': 'Philosophy 110',\n",
       "  'stars': 5,\n",
       "  'review': 'Incredibly engaging and thought-provoking lectures. Highly recommend.'},\n",
       " {'professor': 'Dr. Thomas Wilson',\n",
       "  'subject': 'Sociology 101',\n",
       "  'stars': 3,\n",
       "  'review': 'His classes are interesting, but sometimes hard to follow.'},\n",
       " {'professor': 'Dr. Karen White',\n",
       "  'subject': 'Psychology 201',\n",
       "  'stars': 5,\n",
       "  'review': 'Dr. White is fantastic! She really cares about her students.'},\n",
       " {'professor': 'Dr. David Harris',\n",
       "  'subject': 'History 101',\n",
       "  'stars': 4,\n",
       "  'review': 'His lectures are insightful, but his exams are very challenging.'},\n",
       " {'professor': 'Dr. Lisa Thompson',\n",
       "  'subject': 'Political Science 303',\n",
       "  'stars': 3,\n",
       "  'review': 'She knows her material, but her teaching style is a bit dry.'},\n",
       " {'professor': 'Dr. Richard King',\n",
       "  'subject': 'Computer Science 102',\n",
       "  'stars': 5,\n",
       "  'review': 'Great professor with a lot of practical knowledge. His coding examples are super helpful.'},\n",
       " {'professor': 'Dr. Elizabeth Taylor',\n",
       "  'subject': 'Art History 205',\n",
       "  'stars': 4,\n",
       "  'review': 'She is passionate about art history, but her lectures can be a bit long.'},\n",
       " {'professor': 'Dr. Steven Wright',\n",
       "  'subject': 'Statistics 200',\n",
       "  'stars': 2,\n",
       "  'review': \"The course material is difficult and his explanations aren't very clear.\"},\n",
       " {'professor': 'Dr. Amanda Scott',\n",
       "  'subject': 'Environmental Science 150',\n",
       "  'stars': 5,\n",
       "  'review': 'Engaging lectures and she is very approachable. Highly recommended!'},\n",
       " {'professor': 'Dr. James Moore',\n",
       "  'subject': 'Anthropology 120',\n",
       "  'stars': 4,\n",
       "  'review': 'Interesting course, but his grading is a bit harsh.'},\n",
       " {'professor': 'Dr. Jessica Adams',\n",
       "  'subject': 'Engineering 101',\n",
       "  'stars': 3,\n",
       "  'review': 'Her lectures are detailed, but the pace is too fast.'},\n",
       " {'professor': 'Dr. Charles Miller',\n",
       "  'subject': 'Law 220',\n",
       "  'stars': 5,\n",
       "  'review': 'Brilliant professor with a deep understanding of the subject. Highly recommend.'},\n",
       " {'professor': 'Dr. Patricia Davis',\n",
       "  'subject': 'Ethics 110',\n",
       "  'stars': 4,\n",
       "  'review': 'Her classes are engaging, but the assignments are challenging.'},\n",
       " {'professor': 'Dr. Daniel Clark',\n",
       "  'subject': 'Music Theory 101',\n",
       "  'stars': 5,\n",
       "  'review': 'He has a deep passion for music and it shows in his teaching.'}]"
      ]
     },
     "execution_count": 8,
     "metadata": {},
     "output_type": "execute_result"
    }
   ],
   "source": [
    "import json\n",
    "data = json.load(open(\"reviews.json\"))\n",
    "data['reviews']"
   ]
  },
  {
   "cell_type": "code",
   "execution_count": null,
   "metadata": {},
   "outputs": [],
   "source": [
    "processed_data = []\n",
    "client = "
   ]
  }
 ],
 "metadata": {
  "kernelspec": {
   "display_name": "rag",
   "language": "python",
   "name": "python3"
  },
  "language_info": {
   "codemirror_mode": {
    "name": "ipython",
    "version": 3
   },
   "file_extension": ".py",
   "mimetype": "text/x-python",
   "name": "python",
   "nbconvert_exporter": "python",
   "pygments_lexer": "ipython3",
   "version": "3.10.14"
  }
 },
 "nbformat": 4,
 "nbformat_minor": 2
}
