{
  "cells": [
    {
      "attachments": {},
      "cell_type": "markdown",
      "metadata": {
        "id": "jWpcRSXMQj1T"
      },
      "source": [
        "![Coding_Club_Header](https://raw.githubusercontent.com/nhs-pycom/coding-club/main/img/coding_club_header_small.png)\n",
        "\n",
        "[![Open In Colab](https://colab.research.google.com/assets/colab-badge.svg)](https://colab.research.google.com/github/nhs-pycom/coding-club/blob/main/introduction-to-applied-cryptography/introduction-to-applied-cryptography.ipynb)"
      ]
    },
    {
      "cell_type": "code",
      "execution_count": null,
      "metadata": {
        "id": "FZpjkyJ2QjQB"
      },
      "outputs": [],
      "source": [
        "!sudo apt update\n",
        "!pip install IPython --upgrade\n",
        "!pip install cryptography\n",
        "!pip install libnum"
      ]
    },
    {
      "cell_type": "markdown",
      "metadata": {
        "id": "7ouIm7kIRO_W"
      },
      "source": [
        "\n",
        "# Coding Club - Applied Cryptography\n",
        "\n",
        "Cryptography is a component of security in infosec, more commonly referred to as **Cybersecurity**.\n",
        "\n",
        "At the heart of security is the CIA...\n",
        "\n",
        "Not those guys, the acronym which stands for Confidentiality, Integrity, Availability (CIA).\n",
        "\n",
        "Most of the tools extend beyond python and as such we are limited to the parts we can meaningfully explore with python.\n",
        "\n",
        "If you take away two thing today let it be:\n",
        "\n",
        "- Security is not an algorithm it is a set of practices. Good OpsSec (operational security) is just as important as the algorithms, tools and technologies used to secure data.\n",
        "\n",
        "- Do not create and deploy to production your own crypto."
      ]
    },
    {
      "cell_type": "markdown",
      "metadata": {
        "id": "K8GvrGzqcG0s"
      },
      "source": [
        "## Agenda\n",
        "\n",
        "- Ciphers Fundamentals\n",
        "- Hashing\n",
        "- Symmetric Keys\n",
        "- Asymmetric Encryption\n",
        "- Interactive Quiz\n",
        "\n",
        "\n",
        "To start we need the [cryptography](https://cryptography.io/en/latest/installation/) library:\n",
        "\n",
        "    pip install cryptography\n",
        "\n"
      ]
    },
    {
      "cell_type": "code",
      "execution_count": null,
      "metadata": {
        "id": "6BFfpggYRYNO"
      },
      "outputs": [],
      "source": [
        "from cryptography.fernet import Fernet\n",
        "key = Fernet.generate_key()\n",
        "f = Fernet(key)\n",
        "token = f.encrypt(b\"My deep dark secret: I auditioned for the position of scary spice in the Spice Girls!\")\n",
        "print(token)\n",
        "print(key)"
      ]
    },
    {
      "cell_type": "code",
      "execution_count": null,
      "metadata": {
        "id": "NkwYPzzIRb36"
      },
      "outputs": [],
      "source": [
        "f.decrypt(token)"
      ]
    },
    {
      "cell_type": "markdown",
      "metadata": {
        "id": "3qoaSRYORtX5"
      },
      "source": [
        "That's it we can all go home. I hope my secret is safe with you."
      ]
    },
    {
      "cell_type": "markdown",
      "metadata": {
        "id": "ZRA4XQFi2M45"
      },
      "source": [
        "Ok, your turn generate a key, encrypt your secret and share the token."
      ]
    },
    {
      "cell_type": "code",
      "execution_count": null,
      "metadata": {
        "id": "PorwAFrL3oys"
      },
      "outputs": [],
      "source": [
        "key = Fernet.generate_key()\n",
        "f = Fernet(key)\n",
        "token = f.encrypt(b\"My deep dark secret: ...\")"
      ]
    },
    {
      "cell_type": "code",
      "execution_count": null,
      "metadata": {
        "id": "A1J8xD0g2GoX"
      },
      "outputs": [],
      "source": [
        "token = b'gAAAAABjD1MB8CQY_4IeQfnuZjzTp8yFkXG77PCj8GGTaunaUzk7yQ9BJf_bOLRjlYwswKK_0H_QFlbSJGm_YjlPwFiUOZzpn8vafGxH8ft4X5FeUCA0uwkKqjNz7XO0eyszodVcf-lulXdnHtUQts24tZle1pilUH4AbtR1Jgd_nTNlryqCfTLkUzG-tK-4NQPaJDo0oVSK'\n",
        "key = b'dC_0Fw_qiWfP3-DyIl5nhtJ_sleJ1UAPDCflOX2OhNs='\n",
        "f = Fernet(key)\n",
        "f.decrypt(token)"
      ]
    },
    {
      "cell_type": "markdown",
      "metadata": {
        "id": "wFGJ66nO4EoM"
      },
      "source": [
        "## Bob and Alice?\n",
        "\n",
        "There are archetypes that are used when discussing how different actors participate with cryptographic systems. You will hear the name Bob and Alice used a lot and for a good reason, the archetypes help encapsulate a common behaviour or concept in a cryptographic system. There are many different characters but the ones below are frequently mentioned:\n",
        "\n",
        "- Bob and Alice - Exchange messages or cryptographic keys.\n",
        "- Eve - The eavesdropper.\n",
        "- Trent - Trusted third party.\n",
        "- Mallory - Malicious Actor."
      ]
    },
    {
      "cell_type": "markdown",
      "metadata": {
        "id": "9UqYb4e-R0V1"
      },
      "source": [
        "## Part 1 - Cipher Fundamentals\n",
        "\n",
        "- Encoding\n",
        "    - ASCII\n",
        "    - Base64\n",
        "    - Binary\n",
        "    - Hexadecimal\n",
        "- Prime Factorisation\n",
        "- Modulus and Exponentiation\n",
        "\n",
        "To understand what is going on here we have to cover the fundamentals of cryptography and cryptographic primitives.\n",
        "We start with encoding."
      ]
    },
    {
      "cell_type": "markdown",
      "metadata": {
        "id": "DfkDpWR9RTtm"
      },
      "source": [
        "ASCII is the most common format for entering characters into a computer. The table below tabulates the binary value for the ASCII characters:\n",
        "\n",
        "| Val | Enc   | Val  | Enc   | Val   | Enc   | Val   | Enc   |\n",
        "|:---:|:-----:|:----:|:-----:|:-----:|:-----:|:-----:|:-----:|\n",
        "|  0  |  A | 16 | Q | 32 | g | 48 | w |\n",
        "|  1  |  B | 17 | R | 33 | h | 49 | x |\n",
        "|  2  | C  | 18 | S | 34 | i | 50 | y |\n",
        "|  3  |  D | 19 | T | 35 | j | 51 | z |\n",
        "|  4  |  E | 20 | U | 36 | k | 52 | 0 |\n",
        "|  5  |  F | 21 | V | 37 | l | 53 | 1 |\n",
        "|  6  |  G | 22 | W | 38 | m | 54 | 2 |\n",
        "|  7  |  H | 23 | X | 39 | n | 55 | 3 |\n",
        "|  8  |  I | 24 | Y | 40 | o | 56 | 4 |\n",
        "|  9  |  J | 25 | Z | 41 | p | 57 | 5 |\n",
        "| 10  |  K | 26 | a | 42 | q | 58 | 6  |\n",
        "| 11  |  L | 27 | b | 43 | r | 59 | 7 |\n",
        "| 12  |  M | 28 | c | 44 | s | 60 | 8 |\n",
        "| 13  |  N | 29 | d | 45 | t | 61 | 9 |\n",
        "| 14  |  O | 30 | e | 46 | u | 62 | * |\n",
        "| 15  |  P | 31 | f | 47 | v | 63 | $\\backslash$ |"
      ]
    },
    {
      "cell_type": "code",
      "execution_count": null,
      "metadata": {
        "id": "XvaNqdENSEKs"
      },
      "outputs": [],
      "source": [
        "import base64\n",
        "import binascii\n",
        "\n",
        "greeting = 'hello'\n",
        "\n",
        "greeting_binary = ''.join(format(i, '08b') for i in bytearray(greeting, encoding='utf_8' ))\n",
        "greeting_hexadecimal = binascii.hexlify(bytearray(greeting, encoding='utf_8' )).decode()\n",
        "greeting_bytes = bytes(greeting, encoding='utf_8')\n",
        "greeting_base64 = base64.b64encode(bytearray(greeting, encoding='utf_8' ), altchars=None)\n",
        "\n",
        "print(f\"The binary representation of the greeting hello is: {greeting_binary}\")\n",
        "print(f\"The hexadecimal representation of the greeting hello is: {greeting_hexadecimal}\")\n",
        "print(f\"The bytes representation of the greeting hello is: {greeting_bytes}\")\n",
        "print(f\"The base64 representation of the greeting hello is: {greeting_base64}\")"
      ]
    },
    {
      "cell_type": "markdown",
      "metadata": {
        "id": "lntjwH7caCEG"
      },
      "source": [
        "So, what is going on under the hood?\n",
        "\n",
        "The 8-bit binary representation of the ASCII for \"hello\" is:\n",
        "\n",
        "\\begin{align}\n",
        "\\nonumber \"hello\" \\rightarrow \\overbrace{\n",
        "\\underbrace{01101000}_{h=104_{10}}\n",
        "\\quad \n",
        "\\underbrace{01100101}_{e=101_{10}} \n",
        "\\quad \n",
        "\\underbrace{01101100}_{l=108_{10}} \n",
        "\\quad\n",
        "\\underbrace{01101100}_{l=108_{10}} \n",
        "\\quad \n",
        "\\underbrace{01101111}_{o=111_{10}}}^{binary}\n",
        "\\end{align}\n",
        "\n",
        "To convert the 8-bit binary ASCII to hexadecimal group the binary into 4-bits (right to left). When converted the hexadecimal for \"hello\" is **68656c6c6f**\n",
        "represented by the characters (0-9,A-F).\n",
        "\n",
        "\\begin{align}\n",
        "\\nonumber \"hello\" \\rightarrow \\overbrace{\n",
        "\\underbrace{0110 \\quad 1000}_{h=68_{16}} \n",
        "\\quad\n",
        "\\underbrace{0110 \\quad 0101}_{e=65_{16}}\n",
        "\\quad \n",
        "\\underbrace{0110 \\quad 1100}_{l=6c_{16}} \n",
        "\\quad \n",
        "\\underbrace{0110 \\quad 1100}_{l=6c_{16}} \n",
        "\\quad \n",
        "\\underbrace{0110 \\quad 1111}_{o=6f_{16}}}^{hexadecimal} \n",
        "\\end{align}\n",
        "\n",
        "To convert the 8-bit binary ASCII to Base-64 group the binary into 6 bytes (left to right). The binary representation for \"hello\" when converted to base-64 is **aGVsbG8=**:\n",
        "\n",
        "\\begin{align}\n",
        "\\nonumber \"hello\" \\rightarrow \\overbrace{\n",
        "\\underbrace{011010}_{a=26_{base64}}\n",
        "\\quad \n",
        "\\underbrace{000110}_{G=6_{base64}} \n",
        "\\quad \n",
        "\\underbrace{010101}_{V=37_{base64}} \n",
        "\\quad\n",
        "\\underbrace{101100}_{s=44_{base64}} \n",
        "\\quad \n",
        "\\underbrace{011011}_{b=27_{base64}}\n",
        "\\quad \n",
        "\\underbrace{000110}_{G=6_{base64}}\n",
        "\\quad \n",
        "\\underbrace{111100}_{8=60_{base64}}}^{base64}\n",
        "\\end{align}"
      ]
    },
    {
      "cell_type": "markdown",
      "metadata": {
        "id": "rNEh683FgCYr"
      },
      "source": [
        "### Question 1:\n",
        "\n",
        "Do you notice anything significant about the last group and the ASCII representation?"
      ]
    },
    {
      "cell_type": "markdown",
      "metadata": {
        "id": "JDN-FddGh0xU"
      },
      "source": [
        "### Exercise 1:\n",
        "\n",
        "Now that we know the difference between encoding formats, please use the functions below to find the ASCII representation of the following values:\n",
        "\n",
        "- 01110000011000010111000001110010011010010110101101100001 (hint:split into8-bit [int('01001101',2),...)\n",
        "-  cG9zaA==\n",
        "-  6c656f70617264207072696e74206f6e736965\n"
      ]
    },
    {
      "cell_type": "code",
      "execution_count": null,
      "metadata": {
        "id": "u_wC99yzg74X"
      },
      "outputs": [],
      "source": [
        "def decode_base64(stream: bytes): \n",
        "  return base64.b64decode(stream)\n",
        "\n",
        "def decode_hex(stream: str): \n",
        "  return bytes.fromhex(stream).decode('utf-8')\n",
        "\n",
        "def decode_binary(*stream): \n",
        "  return \"\".join([chr(i) for i in stream])"
      ]
    },
    {
      "cell_type": "code",
      "execution_count": null,
      "metadata": {
        "id": "C49-PVv9h8-c"
      },
      "outputs": [],
      "source": [
        "a = [int('01110000', 2), int('01100001',2), int('01110000', 2), int('01110010', 2), int('01101001', 2), int('01101011', 2), int('01100001', 2)]\n",
        "b = b'cG9zaA=='\n",
        "c = '6c656f70617264207072696e74206f6e736965'"
      ]
    },
    {
      "cell_type": "markdown",
      "metadata": {
        "id": "037PPb9nYKoi"
      },
      "source": [
        "Changing format may make it less readable by humans but *obfuscation* is not encryption. It should not be as easy as converting to another encoding format to decrypt a message. To underscore the point try the next exercise."
      ]
    },
    {
      "cell_type": "markdown",
      "metadata": {
        "id": "OTVGkB8eK69i"
      },
      "source": [
        "### Exercise 2:\n",
        "\n",
        "These database entries have been \"encrypted\" using base64. Crack the database and retrieve the passwords."
      ]
    },
    {
      "cell_type": "code",
      "execution_count": null,
      "metadata": {
        "id": "Wc2tFb2RNDht"
      },
      "outputs": [],
      "source": [
        "spots_store_db = {\n",
        "    \"Michael Phelps\": b'Ymx1ZQ==',\n",
        "    \"Jesse Owens\": b'cmVk',\n",
        "    \"Usain Bolt\": b'Z3JlZW4=',\n",
        "    \"Kelly Holmes\": b'YnJvd24=',\n",
        "    \"Linford Christie\": b'YmxhY2s=',\n",
        "    \"Carl Lewis\": b'eWVsbG93',\n",
        "    \"Mo Farah\": b'b3Jhbmdl',\n",
        "    \"Simone Biles\": b'Z3JlZW4=',\n",
        "    \"Mohammed Ali\":b'b3Jhbmdl'\n",
        "}"
      ]
    },
    {
      "cell_type": "code",
      "execution_count": null,
      "metadata": {
        "id": "addAvyx1YiPE"
      },
      "outputs": [],
      "source": []
    },
    {
      "cell_type": "markdown",
      "metadata": {
        "id": "qAwjlLOrND1D"
      },
      "source": [
        "Did you notice anything about the repeated password entries?"
      ]
    },
    {
      "cell_type": "markdown",
      "metadata": {
        "id": "Ywbfh06iXFWO"
      },
      "source": [
        "### Prime Factorisation and Greatest Common Divisor (GCD)\n",
        "\n",
        "Large prime numbers are very important in cryptography. Prime numbers have interesting properties that make them useful when building cryptographic primitives like hash functions and encryption ciphers. "
      ]
    },
    {
      "cell_type": "code",
      "execution_count": null,
      "metadata": {
        "id": "hTK0hVz5XI1S"
      },
      "outputs": [],
      "source": [
        "def prime_factorisation(p): \n",
        "  d, prime_factors = 2, [] \n",
        "  while d*d <= p:\n",
        "    while (p % d) == 0: \n",
        "      prime_factors.append(d) \n",
        "      p //= d\n",
        "    d += 1 \n",
        "  if p > 1:\n",
        "    prime_factors.append(p) \n",
        "  return prime_factors\n",
        "p = 956\n",
        "print(prime_factorisation(p))"
      ]
    },
    {
      "cell_type": "markdown",
      "metadata": {
        "id": "7XGNxTaf_HJd"
      },
      "source": [
        "### Exercise 3:\n",
        "\n",
        "Factorise the following prime numbers (please go in sequential order):\n",
        "\n",
        "1.   229 (8 bit)\n",
        "2.   51131 (16 bit)\n",
        "3.   3991116511 (32 bit)\n",
        "4.   17919019621785889583 (64 bit)\n",
        "5.   311230909699249272075466980068705556013 (128 bit)\n",
        "\n",
        "What do you observe?"
      ]
    },
    {
      "cell_type": "code",
      "execution_count": null,
      "metadata": {
        "id": "OOaaYSh5Z4hS"
      },
      "outputs": [],
      "source": []
    },
    {
      "cell_type": "markdown",
      "metadata": {
        "id": "F_tmkNqRN70D"
      },
      "source": [
        "Now imagine trying to factorise two large primes (secret keys) that have been multiplied together. This method is deployed in the RSA algorithm covered later.\n",
        "\n",
        "In general to increase the security of a well tested, secure cryptographic hash function or encryption scheme you can increase the bits required for the secrets or modulus.\n",
        "\n",
        "Brute forcing a key can be made more difficult by increasing the number of bits.\n",
        "4 bits (0000 - 1111) so $2^{4}$. The more bits the more computational power and time required to search the **keyspace**. \n",
        "\n",
        "The sweet spot where it becomes infeasible to find a key within an adequate time is at $72$ bits. The time it would take to crack the key can be calculated by, taking a key and the number of keys required to be tried which is approximately half and then the multiply that by the time taken to try one key. For example a 64-bit key has $1.84\\times10^{19}$ combinations. If it can be cracked in $0.9\\times10^{19}$ attempts, using a 1GHz clock (1ns) and one cycle for each attempt then it will take:\n",
        "\n",
        "\\begin{align}\n",
        "\t\\nonumber 1ns=1\\times10^{-9} seconds \\\\\n",
        "\t\\nonumber \\therefore(1\\times10^{-9})\\times0.9\\times10^{19} = 1\\times0.9\\times10^{10} \\\\\n",
        "\t\\nonumber = 9,000,000,000 \\quad\\text{seconds} \\\\\n",
        "\t\\nonumber = 9,000,000,000\\div60=15,000,000 \\quad\\text{minutes} \\\\\n",
        "\t\\nonumber = 15.000,000\\div60= 2,500,000\\quad\\text{hours} \\\\\n",
        "\t\\nonumber = 2,500,000\\div24=104,166.6667\\quad\\text{days} \\\\\n",
        "\t\\nonumber = 104,166.6667\\div365=285\\quad\\text{years (3 s.f.)}\n",
        "\\end{align}\n",
        "\n",
        "\n",
        "### Question 2:\n",
        "\n",
        "Why would a well tested and secure algorithm need increased security?\n",
        "\n",
        "### Greatest Common Divisor (GCD)\n",
        "\n",
        "The GCD is the largest integer that two numbers are both divible without a remainder. Below is an example of the Euclidean algorithm. Two numbers are said to be co-prime if they do not share co-factors apart from 1."
      ]
    },
    {
      "cell_type": "code",
      "execution_count": null,
      "metadata": {
        "id": "UDX4VskbVj5X"
      },
      "outputs": [],
      "source": [
        "def gcd(a:int, b:int): \n",
        "  rem: int = 0\n",
        "  while b != 0: \n",
        "    rem = a % b\n",
        "    a=b\n",
        "    b = rem \n",
        "  return a"
      ]
    },
    {
      "cell_type": "markdown",
      "metadata": {
        "id": "TgzireSVV2oq"
      },
      "source": [
        "### Exercise 4:\n",
        "\n",
        "Find the gcd for the following, which pair are co-prime?\n",
        "\n",
        "1.  (42, 56)\n",
        "2.  (96, 172)\n",
        "3.  (5435, 634)"
      ]
    },
    {
      "cell_type": "code",
      "execution_count": null,
      "metadata": {
        "id": "28AOZhMbW6e3"
      },
      "outputs": [],
      "source": []
    },
    {
      "cell_type": "markdown",
      "metadata": {
        "id": "-sI3sQkHXJKf"
      },
      "source": [
        "### The Modulus and Eponentiation\n",
        "\n",
        "And so we come to the modulus. In cryptography the mod operation uses a prime number.\n",
        "\n",
        "\\begin{align}\n",
        "C= yx  \\mod \\text{ p}\n",
        "\\end{align}\n",
        "\n",
        "If given a value for $x$ and $y$, 50 and 12 respectively, and a prime of 229. It is difficult to find the exact value of $x$ used in a scheme, since many values can get the same result. This feature makes determining secret keys used to encipher messages difficult to decrypt."
      ]
    },
    {
      "cell_type": "code",
      "execution_count": null,
      "metadata": {
        "id": "mEy7j8n0XR74"
      },
      "outputs": [],
      "source": [
        "C=12 * 50 % 229\n",
        "print(C)"
      ]
    },
    {
      "cell_type": "markdown",
      "metadata": {
        "id": "rtM-xE4V4VNA"
      },
      "source": [
        "### Exercise 5:\n",
        "\n",
        "Find some more results where $x=142$."
      ]
    },
    {
      "cell_type": "code",
      "execution_count": null,
      "metadata": {
        "id": "zctnNyu_5CrU"
      },
      "outputs": [],
      "source": []
    },
    {
      "cell_type": "markdown",
      "metadata": {
        "id": "BxZv5Don2UlD"
      },
      "source": [
        "Exponentiation ciphers are similar and take the form:\n",
        "\n",
        "\n",
        "\\begin{align}\n",
        "C= M^{e} \\mod \\text{ p}\n",
        "\\end{align}\n",
        "\n"
      ]
    },
    {
      "cell_type": "markdown",
      "metadata": {
        "id": "rk4fyatObn8p"
      },
      "source": [
        "### Summary\n",
        "\n",
        "We have covered:\n",
        "- How to encode and decode ASCII, binary, hexadecimal and base64.\n",
        "\n",
        "- The significance of large prime numbers for prime factorisation and their utility in cryptography. \n"
      ]
    },
    {
      "cell_type": "markdown",
      "metadata": {
        "id": "CNwTrvJUPswP"
      },
      "source": [
        "## Part 2 Symmetric Key\n",
        "\n",
        "There are two definitive types of symmetric key encryption:\n",
        "\n",
        "- Block\n",
        "- Stream\n",
        "\n",
        "Symmetric Key Encryption Algorithms include:\n",
        "\n",
        "- 3DES - Block\n",
        "- AES - Block\n",
        "- Twofish - Block\n",
        "- RC4 - Stream \n",
        "- ChaCha20 - Stream\n",
        "\n",
        "Symmetric key encryption algorithm has a shared private key."
      ]
    },
    {
      "cell_type": "markdown",
      "metadata": {
        "id": "jTDajttq38fv"
      },
      "source": [
        "Below is a code snippet from my course (Source: Professor Bill Buchanan OBE)."
      ]
    },
    {
      "cell_type": "code",
      "execution_count": null,
      "metadata": {
        "id": "l0_jmmIPJncC"
      },
      "outputs": [],
      "source": [
        "from cryptography.hazmat.primitives.ciphers import Cipher, algorithms, modes\n",
        "from cryptography.hazmat.primitives import padding\n",
        "import hashlib\n",
        "\n",
        "def encrypt(plaintext,key, mode): \n",
        "  method=algorithms.AES(key)\n",
        "  cipher = Cipher(method, mode)\n",
        "  encryptor = cipher.encryptor()\n",
        "  ct = encryptor.update(plaintext) + encryptor.finalize() \n",
        "  return(ct)\n",
        "\n",
        "def decrypt(ciphertext,key, mode): \n",
        "  method=algorithms.AES(key) \n",
        "  cipher = Cipher(method, mode)\n",
        "  decryptor = cipher.decryptor()\n",
        "  pl = decryptor.update(ciphertext) + decryptor.finalize() \n",
        "  return(pl)\n",
        "\n",
        "def pad(data,size=128):\n",
        "  padder = padding.PKCS7(size).padder() \n",
        "  padded_data = padder.update(data) \n",
        "  padded_data += padder.finalize() \n",
        "  return(padded_data)\n",
        "\n",
        "def unpad(data,size=128):\n",
        "  padder = padding.PKCS7(size).unpadder() \n",
        "  unpadded_data = padder.update(data) \n",
        "  unpadded_data += padder.finalize() \n",
        "  return(unpadded_data)"
      ]
    },
    {
      "cell_type": "code",
      "execution_count": null,
      "metadata": {
        "id": "8JhZVZ-wKKOj"
      },
      "outputs": [],
      "source": [
        "val= 'hello' \n",
        "password= 'secret' \n",
        "plaintext=val\n",
        "# a key is generated from a hash of the password. In the example we did at\n",
        "# the beginning this key is created for you.\n",
        "key = hashlib.sha256(password.encode()).digest()\n",
        "plaintext=pad(plaintext.encode())\n",
        "print(\"After padding (CMS): \",binascii.hexlify(bytearray(plaintext)))\n",
        "ciphertext = encrypt(plaintext,key,modes.ECB())\n",
        "print(\"Cipher (ECB): \",binascii.hexlify(bytearray(ciphertext)))\n",
        "plaintext = decrypt(ciphertext,key,modes.ECB())\n",
        "plaintext = unpad(plaintext)\n",
        "print(\" decrypt: \",plaintext.decode())"
      ]
    },
    {
      "cell_type": "markdown",
      "metadata": {
        "id": "idrC1FDGzIU5"
      },
      "source": [
        "### Salt/ Initialisation Vector (IV)\n",
        "\n",
        "ECB has a well known problem. Much like you saw with base64 the same plaintext alway returns the same cipher text. To avoid this AES uses what is known as a salt or initialisation vector. \n",
        "\n",
        "\n",
        "### Padding Value\n",
        "\n",
        "The value of the padding equals the number of padding bytes."
      ]
    },
    {
      "cell_type": "markdown",
      "metadata": {
        "id": "5QTY1IN1XVmO"
      },
      "source": [
        "## Part 3 Hashing\n",
        "\n",
        "A hash function is a cryptographic primitive that takes an input of any size and produces a fixed-size message digest.\n",
        "\n",
        "A cryptographic hash is:\n",
        "\n",
        "- Deterministic  - The same input will yield the same output. \n",
        "- Collision resistant - Different inputs will not yield the same output.\n",
        "- One way function - Prohibitively hard to derive the inverse.\n",
        "\n",
        "Examples of a hash function are:\n",
        "\n",
        "- MD5\n",
        "- SHA1\n",
        "- SHA256\n",
        "- BLAKE2b"
      ]
    },
    {
      "cell_type": "code",
      "execution_count": null,
      "metadata": {
        "id": "NDkqCYmode5f"
      },
      "outputs": [],
      "source": [
        "message=\"The quick brown fox jumps over the lazy dog\".encode('utf-8')\n",
        "message_digest = hashlib.sha256()\n",
        "message_digest.update(message)\n",
        "message_digest.hexdigest()"
      ]
    },
    {
      "cell_type": "markdown",
      "metadata": {
        "id": "g0w4y3xkfrtx"
      },
      "source": [
        "### Exercise 6:\n",
        "\n",
        "Using the example above generate a hash value for a fruit (singular, all lowercase) and stick the resulting message digest in the chat."
      ]
    },
    {
      "cell_type": "code",
      "execution_count": null,
      "metadata": {
        "id": "SIktGE2bgjFd"
      },
      "outputs": [],
      "source": []
    },
    {
      "cell_type": "code",
      "execution_count": null,
      "metadata": {
        "id": "KNgJ0V-HgCDM"
      },
      "outputs": [],
      "source": [
        "from string import hexdigits\n",
        "\n",
        "fruits = [ \"Apple\", \"Apricot\", \"Avocado\", \"Banana\", \"Bilberry\", \"Blackberry\", \n",
        "              \"Blackcurrant\", \"Blueberry\", \"Boysenberry\", \"Currant\", \"Cherry\", \n",
        "              \"Cherimoya\", \"Chico fruit\", \"Cloudberry\",\"Coconut\", \"Cranberry\", \n",
        "              \"Cucumber\", \"Custard apple\", \"Damson\", \"Date\", \"Dragonfruit\", \n",
        "              \"Durian\", \"Elderberry\", \"Feijoa\", \"Fig\", \"Goji berry\", \"'Gooseberry\",\n",
        "              \"Grape\", \"Raisin\", \"Grapefruit\", \"Guava\", \"Honeyberry\", \n",
        "              \"Huckleberry\", \"Jabuticaba\", \"Jackfruit\", \"Jambul\", \"Jujube\", \n",
        "              \"Juniper berry\", \"Kiwano\", \"Kiwifruit\", \n",
        "              \"Kumquat\", \"Lemon\", \"Lime\", \"Loquat\", \"Longan\", \"Lychee\", \"Mango\",\n",
        "              \"Mangosteen\", \"Marionberry\", \"Melon\", \"Cantaloupe\", \"Honeydew\", \n",
        "              \"Watermelon\", \"Miracle fruit\", \"Mulberry\", \"Nectarine\", \"Nance\", \n",
        "              \"Olive\", \"Orange\", \"Blood orange\", \"Clementine\", \"Mandarine\", \n",
        "              \"Tangerine\", \"Papaya\", \"Passionfruit\", \"Peach\", \"Pear\", \"Persimmon\",\n",
        "              \"Physalis\", \"Plantain\", \"Plum\", \"Prune\", \"Pineapple\", \"Plumcot\", \n",
        "              \"Pomegranate\", \"Pomelo\", \"Purple mangosteen\", \"Quince, Raspberry\", \n",
        "              \"Salmonberry\", \"Rambutan\", \"Redcurrant\", \"Salal berry\", \"Salak\", \n",
        "              \"Satsuma\", \"Soursop\", \"Star fruit\", \"Solanum quitoense\", \"Strawberry\", \n",
        "              \"Tamarillo\", \"Tamarind\",\"Ugli fruit\", \"Yuzu\", \"Tomatoe\" ]\n",
        "\n",
        "# Lowercase and encode the fruit list\n",
        "fruits_lc = [ i.encode('utf-8').lower() for i in fruits]\n",
        "print(fruits_lc)\n",
        "\n",
        "hash_table = {}\n",
        "\n",
        "# create our hash table\n",
        "for i in  fruits_lc:\n",
        "  fruit_digest = hashlib.sha256()\n",
        "  fruit_digest.update(i)\n",
        "  hash_table.update({fruit_digest.hexdigest(): i})\n",
        "\n",
        "print(hash_table)\n",
        "\n",
        "# person as key, hash as value\n",
        "code_club_fruits_hash = {}\n",
        "\n",
        "for k, v in code_club_fruits_hash.items():\n",
        "  if v in hash_table.keys():\n",
        "    print( \"\\n\",f\"{k}:\", hash_table.get(v))"
      ]
    },
    {
      "cell_type": "markdown",
      "metadata": {
        "id": "mLSQ3-qKLVNW"
      },
      "source": [
        "### Exercise 7:\n",
        "\n",
        "These database passwords have been \"encrypted\" using sha256 hash functions. All the passwords are colours (lowercase). Crack the database and reveal the passwords."
      ]
    },
    {
      "cell_type": "code",
      "execution_count": null,
      "metadata": {
        "id": "bfX_Z2OkMVMv"
      },
      "outputs": [],
      "source": [
        "colours = [\"red\", \"blue\", \"black\", \"orange\", \"yellow\", \"green\", \"purple\"]\n",
        "\n",
        "# create a hash table with hexdigest as key and colour as value\n",
        "hash_table = {}\n",
        "\n",
        "guitar_store_db = {\n",
        "    \"Jimmi Hendrix\" : 'b1f51a511f1da0cd348b8f8598db32e61cb963e5fc69e2b41485bf99590ed75a',\n",
        "    \"Prince\": '8e0a1b0ada42172886fd1297e25abf99f14396a9400acbd5f20da20289cff02f',\n",
        "    \"Victor Wooten\": '1b4c9133da73a711322404314402765ab0d23fd362a167d6f0c65bb215113d94',\n",
        "    \"John Myung\": 'c006c7e3ab14d686f63524136f1ec7c5e553d839bc01c851e4dc9de2bdbfc589',\n",
        "    \"Eric Clapton\": 'c685a2c9bab235ccdd2ab0ea92281a521c8aaf37895493d080070ea00fc7f5d7',\n",
        "    \"Slash\": '16477688c0e00699c6cfa4497a3612d7e83c532062b64b250fed8908128ed548',\n",
        "    \"BB King\": '1b4c9133da73a711322404314402765ab0d23fd362a167d6f0c65bb215113d94',\n",
        "}\n",
        "\n",
        "for k, v in guitar_store_db.items():\n",
        "  if v in hash_table.keys():\n",
        "    print( \"\\n\",f\"{k}:\", hash_table.get(v))"
      ]
    },
    {
      "cell_type": "markdown",
      "metadata": {
        "id": "rVVCJDndwQPS"
      },
      "source": [
        "There are tools that help automate the hash cracking process."
      ]
    },
    {
      "cell_type": "markdown",
      "metadata": {
        "id": "6fO9fAjDcOuU"
      },
      "source": [
        "## Asymmetric Key\n",
        "\n",
        "\n",
        "The work horse of the internet is the asymmetric key algorithm RSA. \n",
        "\n",
        "\n",
        "- Generate two large primes $p$ and $q$, such that $p\\neq q$.\n",
        "- Calculate $n=pq$ and $\\phi=(p-1)(q-1)$, where  $\\phi$ is the value of Eulers $\\phi$-function $\\phi(n)$\n",
        "- Using trial and error find $e$ where $gcd(e, \\phi)=1 \\text{ and } \\\\ e \\text{ with } 1<e< \\phi$\n",
        "- Calculate the value of decryption key $d$ such that $ed\\equiv1\\text{ mod }\\phi$ and $1<d<\\phi$\n",
        "\n",
        "\\\\\n",
        "\n",
        "\\begin{align}\n",
        "\tN (modulus) = p\\cdot q \\\\\n",
        "\t\\phi = (p-1)(q-1) \\\\\n",
        "\t\\nonumber \\text{Select a value for $e$ that has no common factors} \\\\\n",
        "\t\\nonumber \\text{Public Encryption Key $[e,n]$ } \\\\\t\n",
        "\t\\nonumber \\text{Find $d$ (the inverse mod )value for the decryption key} \\\\\t\n",
        "\t\\nonumber \\text{Decryption Key $[d,n]$ } \\\\\n",
        "\t\\text{if}\\quad p=3, q=11, e = 3 \\\\\n",
        "\tN=33 \\\\\n",
        "\tE(3,33) \\\\\n",
        "\t\\phi = (3-1)(11-1) = 20 \\\\\n",
        "\t(d\\times e)\\mod 20 = 1 \\\\\n",
        "\t(d\\times 3)\\mod 20 = 1 \\\\\n",
        "\td = 7 \\\\\n",
        "\tD(7, 33) \\\\\n",
        "\tM=5 \\quad \\text{M=Message} \\\\ \n",
        "\tDecipher = C^{d} mod N \\\\\n",
        "\tCipher=M^{e}\\mod N \\\\\n",
        "\t\\nonumber\\therefore \\\\\n",
        "\tCipher = 5^{3}\\mod 33 = 26 \\\\\n",
        "\tDecipher = (26)^{7} \\mod 33 = 5\t\n",
        "\\end{align} \n"
      ]
    },
    {
      "cell_type": "code",
      "execution_count": null,
      "metadata": {
        "id": "9VzKDKVwNNYN"
      },
      "outputs": [],
      "source": [
        "import libnum\n",
        "\n",
        "p=11\n",
        "q=17\n",
        "N=p*q\n",
        "PHI=(p-1)*(q-1)\n",
        "OM=81\n",
        "e=3\n",
        "C=pow(OM,e,N)\n",
        "d=libnum.invmod(e,PHI)\n",
        "DM=pow(C,d,N)\n",
        "print(DM)"
      ]
    },
    {
      "cell_type": "markdown",
      "metadata": {
        "id": "BFlxLgPzVIsG"
      },
      "source": [
        "## Quiz\n",
        "\n",
        "I hope you have enjoyed the session. To finish off let's have a little quiz. "
      ]
    },
    {
      "cell_type": "markdown",
      "metadata": {
        "id": "mPgtmMpGSEn7"
      },
      "source": [
        "Take a look at these links to explore the different roles and responsibilities in the cybersecurity field:\n",
        "\n",
        "- [The UK Cybersecurity Council](https://www.ukcybersecuritycouncil.org.uk/qualifications-and-careers/careers-route-map/)\n",
        "\n",
        "Other useful links:\n",
        "\n",
        "- [The National Cyber Security Centre](https://www.ncsc.gov.uk)\n",
        "- [asecuritysite](https://asecuritysite.com)"
      ]
    }
  ],
  "metadata": {
    "colab": {
      "collapsed_sections": [],
      "provenance": []
    },
    "kernelspec": {
      "display_name": "Python 3",
      "language": "python",
      "name": "python3"
    },
    "language_info": {
      "name": "python",
      "version": "3.9.10 (main, Mar  9 2022, 20:27:56) \n[Clang 13.0.0 (clang-1300.0.29.30)]"
    },
    "vscode": {
      "interpreter": {
        "hash": "70a703afd2ea37a8e881037d159474ccbbf41a2efff24854dc382a2b82dfe829"
      }
    }
  },
  "nbformat": 4,
  "nbformat_minor": 0
}
