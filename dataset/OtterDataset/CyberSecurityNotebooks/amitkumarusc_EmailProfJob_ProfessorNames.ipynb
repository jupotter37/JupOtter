{
 "cells": [
  {
   "cell_type": "code",
   "execution_count": 1,
   "metadata": {},
   "outputs": [],
   "source": [
    "from bs4 import BeautifulSoup\n",
    "import urllib"
   ]
  },
  {
   "cell_type": "code",
   "execution_count": 9,
   "metadata": {},
   "outputs": [],
   "source": [
    "class Professor:\n",
    "    def __init__(self, fname, lname, phone, email, desc, href=''):\n",
    "        self.fname = fname\n",
    "        self.lname = lname\n",
    "        self.email = email\n",
    "        self.phone = phone\n",
    "        self.desc = desc\n",
    "        self.href = href\n",
    "        self.area = None\n",
    "        self.profileText = ''\n",
    "        \n",
    "    def getName(self):\n",
    "        return self.fname + ' ' + self.lname\n",
    "    \n",
    "    def setAreaOfInterest(self, area):\n",
    "        self.area = area\n",
    "        \n",
    "    def getAreaOfInterest(self):\n",
    "        return self.area\n",
    "    \n",
    "    def setProfileText(self, text):\n",
    "        self.profileText = text\n",
    "        \n",
    "    def getProfileText(self):\n",
    "        return self.profileText\n",
    "    \n",
    "    def copyHref(self, other):\n",
    "        self.href = other.href\n",
    "    \n",
    "    def __str__(self):\n",
    "        return str('{:30}'.format(self.fname + ' ' + self.lname) + '{:20}'.format('=>' + self.email) + ' ' + self.desc[0:30]) \n",
    "    \n",
    "    def __repr__(self):\n",
    "        return self.__str__()"
   ]
  },
  {
   "cell_type": "code",
   "execution_count": 10,
   "metadata": {},
   "outputs": [],
   "source": [
    "def buildProfessor(raw_info):\n",
    "    lname, fname, email, phone, desc = [attribute.getText() for attribute in raw_info[:-1]]\n",
    "    return Professor(fname, lname, phone, email, desc)"
   ]
  },
  {
   "cell_type": "code",
   "execution_count": 11,
   "metadata": {},
   "outputs": [],
   "source": [
    "def getISIProfessors():\n",
    "    r = urllib.urlopen('https://www.isi.edu/people/directory?sq=&letter=&sort=asc&show=all').read()\n",
    "    soup = BeautifulSoup(r)\n",
    "    table = soup.find_all('table')[0]\n",
    "    trs = table.find_all('tr')\n",
    "    professors = []\n",
    "    for tr in trs[1:]:\n",
    "        professor = buildProfessor(list(tr.children))\n",
    "        professors.append(professor)\n",
    "    return professors"
   ]
  },
  {
   "cell_type": "code",
   "execution_count": null,
   "metadata": {},
   "outputs": [],
   "source": []
  },
  {
   "cell_type": "code",
   "execution_count": 12,
   "metadata": {},
   "outputs": [],
   "source": [
    "def getUSCProfessors():\n",
    "    r = urllib.urlopen('https://viterbi.usc.edu/directory/faculty/').read()\n",
    "    soup = BeautifulSoup(r)\n",
    "    names = soup.find_all('h5', 'resultName')\n",
    "    uscProfessors = []\n",
    "    for name in names:\n",
    "        url = 'https://viterbi.usc.edu' +name.parent.get_attribute_list('href')[0]\n",
    "        professor = Professor(name.getText(), lname='', phone='', email='', desc='', href=url)\n",
    "        uscProfessors.append(professor)\n",
    "    return uscProfessors"
   ]
  },
  {
   "cell_type": "code",
   "execution_count": null,
   "metadata": {},
   "outputs": [],
   "source": []
  },
  {
   "cell_type": "code",
   "execution_count": 13,
   "metadata": {},
   "outputs": [],
   "source": [
    "from fuzzywuzzy import fuzz\n",
    "from fuzzywuzzy import process"
   ]
  },
  {
   "cell_type": "code",
   "execution_count": 14,
   "metadata": {},
   "outputs": [
    {
     "name": "stdout",
     "output_type": "stream",
     "text": [
      "Matched : Jose-Luis Ambite     =>  Jose-Luis Ambite              =>ambite@isi.edu     Research Assistant Professor, \n",
      "Matched : Yigal Arens          =>  Yigal Arens                   =>arens@isi.edu      Senior Director For Administra\n",
      "Matched : David Barnhart       =>  David Barnhart                =>barnhart@isi.edu   Research Professor\n",
      "Matched : Andrea Belz          =>  Andrea Belz                   =>                   \n",
      "Matched : Spartak Buniatyan    =>  Spartak Buniatyan             =>                   \n",
      "Matched : Young Cho            =>  Young Cho                     =>youngcho@isi.edu   Research Assistant Professor\n",
      "Matched : Stephen Crago        =>  Stephen Crago                 =>crago@isi.edu      Research Associate Professor, \n",
      "Matched : Ewa Deelman          =>  Ewa Deelman                   =>deelman@isi.edu    Research Professor; Research D\n",
      "Matched : Emilio Ferrara       =>  Emilio Ferrara                =>ferrarae@isi.edu   Research Assistant Professor, \n",
      "Matched : Rafael Ferreira Da Silva =>  Rafael Ferreira Da Silva      =>rafsilva@isi.edu   Research Assistant Professor\n",
      "Matched : Aram Galstyan        =>  Aram Galstyan                 =>galstyan@isi.edu   Research Associate Professor, \n",
      "Matched : Yolanda Gil          =>  Yolanda Gil                   =>gil@isi.edu        Research Professor; Research D\n",
      "Matched : John Heidemann       =>  John Heidemann                =>johnh@isi.edu      Research Professor, Research T\n",
      "Matched : Erik Johnson         =>  Erik Johnson                  =>                   \n",
      "Matched : Carl Kesselman       =>  Carl Kesselman                =>carl@isi.edu       Director, Informatics Systems \n",
      "Matched : Behrokh Khoshnevis   =>  Behrokh Khoshnevis            =>khoshnev@usc.edu   \n",
      "Matched : Kevin Knight         =>  Kevin Knight                  =>knight@isi.edu     Research Director and ISI Fell\n",
      "Matched : Craig Knoblock       =>  Craig Knoblock                =>knoblock@isi.edu   Research Professor Of Computer\n",
      "Matched : Kristina Lerman      =>  Kristina Lerman               =>lerman@isi.edu     Research Associate Professor, \n",
      "Matched : Sook-Lei Liew        =>  Sook-Lei Liew                 =>sliew@usc.edu      \n",
      "Matched : Yan Liu              =>  Yan Liu                       =>                   \n",
      "Matched : Bob Lucas            =>  Bob Lucas                     =>rflucas@isi.edu    Research Associate Professor\n",
      "Matched : Daniel Marcu         =>  Daniel Marcu                  =>marcu@isi.edu      Research Associate Professor\n",
      "Matched : Jelena Mirkovic      =>  Jelena Mirkovic               =>mirkovic@isi.edu   Research Assistant Professor, \n",
      "Matched : Mahta Moghaddam      =>  Mahta Moghaddam               =>                   \n",
      "Matched : Shrikanth Narayanan  =>  Shrikanth Narayanan           =>shri@isi.edu       Research Director\n",
      "Matched : Prem Natarajan       =>  Prem Natarajan                =>pnataraj@isi.edu   Michael Keston Executive Direc\n",
      "Matched : Clifford Neuman      =>  Clifford Neuman               =>                   \n",
      "Matched : Michael Orosz        =>  Michael Orosz                 =>mdorosz@isi.edu    Research Associate Professor; \n",
      "Matched : Alexandros Potamianos =>  Alexandros Potamianos         =>                   \n",
      "Matched : Xiang Ren            =>  Xiang Ren                     =>xiangren@isi.edu   \n",
      "Matched : Phillip Requejo      =>  Phillip Requejo               =>                   \n",
      "Matched : Nicolas Schweighofer =>  Nicolas Schweighofer          =>                   \n",
      "Matched : Wei-Min Shen         =>  Wei-Min Shen                  =>shen@isi.edu       Research Associate Professor, \n",
      "Matched : Federico Spedalieri  =>  Federico Spedalieri           =>fspedali@isi.edu   Research Assistant Professor; \n",
      "Matched : Vijetha Vijayakumar  =>  Vijetha Vijayakumar           =>                   \n",
      "Matched : Yubo Wang            =>  Yubo Wang                     =>                   \n"
     ]
    }
   ],
   "source": [
    "uscProfessors = getUSCProfessors()\n",
    "isiProfessors = getISIProfessors()\n",
    "\n",
    "targetedProfessors = []\n",
    "for prof in isiProfessors:\n",
    "    for usc_prof in uscProfessors:\n",
    "        if fuzz.ratio(prof.getName(), usc_prof.getName()) > 80:\n",
    "            prof.copyHref(usc_prof)\n",
    "            targetedProfessors.append(prof)\n",
    "            print '{:30}'.format('Matched : ' + prof.getName().encode('utf-8').strip()) + ' => ', prof\n",
    "            break"
   ]
  },
  {
   "cell_type": "code",
   "execution_count": null,
   "metadata": {},
   "outputs": [],
   "source": []
  },
  {
   "cell_type": "code",
   "execution_count": 22,
   "metadata": {},
   "outputs": [],
   "source": [
    "def getProfessorProfile(professor):\n",
    "    r = urllib.urlopen(professor.href).read()\n",
    "    soup = BeautifulSoup(r)\n",
    "    div = soup.find_all('div', 'profileModuleLeft')[0]\n",
    "    return div.getText()"
   ]
  },
  {
   "cell_type": "code",
   "execution_count": 23,
   "metadata": {},
   "outputs": [],
   "source": [
    "for prof in targetedProfessors:\n",
    "    prof.setProfileText(getProfessorProfile(prof))"
   ]
  },
  {
   "cell_type": "code",
   "execution_count": 24,
   "metadata": {},
   "outputs": [],
   "source": [
    "def getCategoryScore(prof, categoryTags):\n",
    "    profText = prof.getProfileText().lower()\n",
    "    score = 0\n",
    "    for categoryTag in categoryTags:\n",
    "        if categoryTag in profText:\n",
    "            score += 1\n",
    "    return score"
   ]
  },
  {
   "cell_type": "code",
   "execution_count": 34,
   "metadata": {},
   "outputs": [],
   "source": [
    "def setCategoriesScores(prof, allCategories):\n",
    "    maxScore = 0\n",
    "    maxCategory = 'Not Found'\n",
    "    for category in allCategories.keys():\n",
    "        score = getCategoryScore(prof, allCategories[category])\n",
    "        if score > maxScore:\n",
    "            maxCategory = category\n",
    "            maxScore = score\n",
    "    prof.setAreaOfInterest(maxCategory)"
   ]
  },
  {
   "cell_type": "code",
   "execution_count": 35,
   "metadata": {},
   "outputs": [],
   "source": [
    "allCategories = {}\n",
    "allCategories['imageProcessing'] = ['image', 'computer vision', 'opencv']\n",
    "allCategories['artificialIntelligence'] = ['artificial', 'intelligence', 'machine leaning', 'intelligent']\n",
    "allCategories['robotics'] = ['robotics', 'motor', 'drones']\n",
    "allCategories['cryptography'] = ['cryptography', 'cyber security', 'steganography']\n",
    "allCategories['networking'] = ['networking', 'networks']\n",
    "allCategories['highperformance'] = ['performance', 'computing', 'cloud']\n",
    "\n",
    "for prof in targetedProfessors:\n",
    "    setCategoriesScores(prof, allCategories)"
   ]
  },
  {
   "cell_type": "code",
   "execution_count": 36,
   "metadata": {},
   "outputs": [
    {
     "name": "stdout",
     "output_type": "stream",
     "text": [
      "Jose-Luis Ambite         Not Found                https://viterbi.usc.edu/directory/faculty/Ambite-Molina/Jose-Luis\n",
      "Yigal Arens              artificialIntelligence   https://viterbi.usc.edu/directory/faculty/Arens/Yigal\n",
      "David Barnhart           robotics                 https://viterbi.usc.edu/directory/faculty/Barnhart/David\n",
      "Andrea Belz              artificialIntelligence   https://viterbi.usc.edu/directory/faculty/Belz/Andrea\n",
      "Spartak Buniatyan        highperformance          https://viterbi.usc.edu/directory/faculty/Buniatyan/Spartak\n",
      "Young Cho                networking               https://viterbi.usc.edu/directory/faculty/Cho/Young\n",
      "Stephen Crago            highperformance          https://viterbi.usc.edu/directory/faculty/Crago/Stephen\n",
      "Ewa Deelman              highperformance          https://viterbi.usc.edu/directory/faculty/Deelman/Ewa\n",
      "Emilio Ferrara           highperformance          https://viterbi.usc.edu/directory/faculty/Ferrara/Emilio\n",
      "Rafael Ferreira Da Silva highperformance          https://viterbi.usc.edu/directory/faculty/Ferreira-da-Silva/Rafael\n",
      "Aram Galstyan            artificialIntelligence   https://viterbi.usc.edu/directory/faculty/Galstyan/Aram\n",
      "Yolanda Gil              artificialIntelligence   https://viterbi.usc.edu/directory/faculty/Gil/Yolanda\n",
      "John Heidemann           networking               https://viterbi.usc.edu/directory/faculty/Heidemann/John\n",
      "Erik Johnson             Not Found                https://viterbi.usc.edu/directory/faculty/Johnson/Erik\n",
      "Carl Kesselman           highperformance          https://viterbi.usc.edu/directory/faculty/Kesselman/Carl\n",
      "Behrokh Khoshnevis       networking               https://viterbi.usc.edu/directory/faculty/Khoshnevis/Behrokh\n",
      "Kevin Knight             artificialIntelligence   https://viterbi.usc.edu/directory/faculty/Knight/Kevin\n",
      "Craig Knoblock           artificialIntelligence   https://viterbi.usc.edu/directory/faculty/Knoblock/Craig\n",
      "Kristina Lerman          networking               https://viterbi.usc.edu/directory/faculty/Lerman/Kristina\n",
      "Sook-Lei Liew            Not Found                https://viterbi.usc.edu/directory/faculty/Liew/Sook-Lei\n",
      "Yan Liu                  Not Found                https://viterbi.usc.edu/directory/faculty/Liu/Yan\n",
      "Bob Lucas                highperformance          https://viterbi.usc.edu/directory/faculty/Lucas/Robert\n",
      "Daniel Marcu             Not Found                https://viterbi.usc.edu/directory/faculty/Marcu/Daniel\n",
      "Jelena Mirkovic          networking               https://viterbi.usc.edu/directory/faculty/Mirkovic/Jelena\n",
      "Mahta Moghaddam          imageProcessing          https://viterbi.usc.edu/directory/faculty/Moghaddam/Mahta\n",
      "Shrikanth Narayanan      highperformance          https://viterbi.usc.edu/directory/faculty/Narayanan/Shrikanth\n",
      "Prem Natarajan           imageProcessing          https://viterbi.usc.edu/directory/faculty/Natarajan/Premkumar\n",
      "Clifford Neuman          highperformance          https://viterbi.usc.edu/directory/faculty/Neuman/B\n",
      "Michael Orosz            artificialIntelligence   https://viterbi.usc.edu/directory/faculty/Orosz/Michael\n",
      "Alexandros Potamianos    Not Found                https://viterbi.usc.edu/directory/faculty/Potamianos/Alexandros\n",
      "Xiang Ren                artificialIntelligence   https://viterbi.usc.edu/directory/faculty/Ren/Xiang\n",
      "Phillip Requejo          Not Found                https://viterbi.usc.edu/directory/faculty/Requejo/Philip\n",
      "Nicolas Schweighofer     Not Found                https://viterbi.usc.edu/directory/faculty/Schweighofer/Nicolas\n",
      "Wei-Min Shen             artificialIntelligence   https://viterbi.usc.edu/directory/faculty/Shen/Wei-Min\n",
      "Federico Spedalieri      Not Found                https://viterbi.usc.edu/directory/faculty/Spedalieri/Federico\n",
      "Vijetha Vijayakumar      robotics                 https://viterbi.usc.edu/directory/faculty/Vijayakumar/Sethu\n",
      "Yubo Wang                Not Found                https://viterbi.usc.edu/directory/faculty/Wang/Yuanbo\n"
     ]
    }
   ],
   "source": [
    "for prof in targetedProfessors:\n",
    "    print '{:25}'.format(prof.getName()) + '{:25}'.format(prof.getAreaOfInterest()) + prof.href"
   ]
  },
  {
   "cell_type": "code",
   "execution_count": null,
   "metadata": {},
   "outputs": [],
   "source": []
  }
 ],
 "metadata": {
  "kernelspec": {
   "display_name": "Python 2",
   "language": "python",
   "name": "python2"
  },
  "language_info": {
   "codemirror_mode": {
    "name": "ipython",
    "version": 2
   },
   "file_extension": ".py",
   "mimetype": "text/x-python",
   "name": "python",
   "nbconvert_exporter": "python",
   "pygments_lexer": "ipython2",
   "version": "2.7.14"
  }
 },
 "nbformat": 4,
 "nbformat_minor": 2
}
