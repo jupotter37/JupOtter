{
 "cells": [
  {
   "cell_type": "code",
   "execution_count": 1,
   "metadata": {},
   "outputs": [
    {
     "data": {
      "text/plain": [
       "True"
      ]
     },
     "execution_count": 1,
     "metadata": {},
     "output_type": "execute_result"
    }
   ],
   "source": [
    "import streamlit as st\n",
    "import os\n",
    "from langchain_groq import ChatGroq\n",
    "# from langchain_community.embeddings import OllamaEmbeddings\n",
    "from langchain_openai import OpenAIEmbeddings\n",
    "# from langchain.text_splitter import RecursiveCharacterTextSplitter\n",
    "from langchain.chains.combine_documents import create_stuff_documents_chain\n",
    "from langchain_core.prompts import ChatPromptTemplate\n",
    "from langchain.chains import create_retrieval_chain\n",
    "from langchain_community.vectorstores import FAISS\n",
    "from langchain import hub\n",
    "from  langchain.schema import Document\n",
    "import json\n",
    "from typing import Iterable\n",
    "from dotenv import load_dotenv\n",
    "load_dotenv()"
   ]
  },
  {
   "cell_type": "code",
   "execution_count": 2,
   "metadata": {},
   "outputs": [],
   "source": [
    "groq_api_key=os.environ['GROQ_API_KEY']"
   ]
  },
  {
   "cell_type": "code",
   "execution_count": 3,
   "metadata": {},
   "outputs": [],
   "source": [
    "\n",
    "def load_docs_from_jsonl(file_path)->Iterable[Document]:\n",
    "    array = []\n",
    "    with open(file_path, 'r') as jsonl_file:\n",
    "        for line in jsonl_file:\n",
    "            data = json.loads(line)\n",
    "            obj = Document(**data)\n",
    "            array.append(obj)\n",
    "    return array\n",
    "embeddings=OpenAIEmbeddings()\n",
    "final_documents=load_docs_from_jsonl(\"fresh_chunk.jsonl\")\n",
    "vectors=FAISS.from_documents(final_documents,embeddings)"
   ]
  },
  {
   "cell_type": "code",
   "execution_count": 4,
   "metadata": {},
   "outputs": [],
   "source": [
    "llm=ChatGroq(groq_api_key=groq_api_key,\n",
    "             model_name=\"mixtral-8x7b-32768\")"
   ]
  },
  {
   "cell_type": "code",
   "execution_count": 5,
   "metadata": {},
   "outputs": [],
   "source": [
    "\n",
    "prompt=ChatPromptTemplate.from_template(\n",
    "\"\"\"\n",
    "Answer the questions based on the provided context only.\n",
    "Please provide the most accurate response based on the question\n",
    "<context>\n",
    "{context}\n",
    "<context>\n",
    "Questions:{input}\n",
    "\n",
    "\"\"\"\n",
    ")"
   ]
  },
  {
   "cell_type": "code",
   "execution_count": 6,
   "metadata": {},
   "outputs": [],
   "source": [
    "document_chain = create_stuff_documents_chain(llm, prompt)\n",
    "retriever = vectors.as_retriever()\n",
    "retrieval_chain = create_retrieval_chain(retriever, document_chain)\n"
   ]
  },
  {
   "cell_type": "code",
   "execution_count": 8,
   "metadata": {},
   "outputs": [
    {
     "name": "stderr",
     "output_type": "stream",
     "text": [
      "c:\\Users\\dines\\Desktop\\SASBOT\\myenv\\lib\\site-packages\\tqdm\\auto.py:21: TqdmWarning: IProgress not found. Please update jupyter and ipywidgets. See https://ipywidgets.readthedocs.io/en/stable/user_install.html\n",
      "  from .autonotebook import tqdm as notebook_tqdm\n",
      "c:\\Users\\dines\\Desktop\\SASBOT\\myenv\\lib\\site-packages\\threadpoolctl.py:1214: RuntimeWarning: \n",
      "Found Intel OpenMP ('libiomp') and LLVM OpenMP ('libomp') loaded at\n",
      "the same time. Both libraries are known to be incompatible and this\n",
      "can cause random crashes or deadlocks on Linux when loaded in the\n",
      "same Python program.\n",
      "Using threadpoolctl may cause crashes or deadlocks. For more\n",
      "information and possible workarounds, please see\n",
      "    https://github.com/joblib/threadpoolctl/blob/master/multiple_openmp.md\n",
      "\n",
      "  warnings.warn(msg, RuntimeWarning)\n"
     ]
    }
   ],
   "source": [
    "from sentence_transformers import CrossEncoder"
   ]
  },
  {
   "cell_type": "code",
   "execution_count": 9,
   "metadata": {},
   "outputs": [
    {
     "name": "stderr",
     "output_type": "stream",
     "text": [
      "c:\\Users\\dines\\Desktop\\SASBOT\\myenv\\lib\\site-packages\\huggingface_hub\\file_download.py:1132: FutureWarning: `resume_download` is deprecated and will be removed in version 1.0.0. Downloads always resume when possible. If you want to force a new download, use `force_download=True`.\n",
      "  warnings.warn(\n"
     ]
    }
   ],
   "source": [
    "model = CrossEncoder('vectara/hallucination_evaluation_model')"
   ]
  },
  {
   "cell_type": "code",
   "execution_count": 10,
   "metadata": {},
   "outputs": [],
   "source": [
    "res=retriever.invoke(\"what are areas of interest of ghousiya begum?\")[0].page_content"
   ]
  },
  {
   "cell_type": "code",
   "execution_count": 11,
   "metadata": {},
   "outputs": [
    {
     "data": {
      "text/plain": [
       "'Click here\\n\\n\\n\\n\\n\\n\\n\\nDr. GHOUSIYA BEGUM K\\nAsst. Professor - III\\nghousiyabegumeie.sastra.edu\\n\\n\\n\\n\\n\\n\\n\\nSchool School of Electrical and Electronics Engineering\\nDesignation AP - III\\nDepartment EIE\\nEducational QualificationsPhD NIT, Tiruchirappalli\\rME, JJ College of Engg & Tech, Anna University\\nAreas of InterestProcess Control, Control Systems, Intelligent Control, Modelling and Simulation, Optimization\\nORCID URL\\n\\nClick here\\n\\n\\n\\n\\n\\n\\n\\nDr. VENKATESH T\\nAsst. Professor - III\\nvenkatesheee.sastra.edu'"
      ]
     },
     "execution_count": 11,
     "metadata": {},
     "output_type": "execute_result"
    }
   ],
   "source": [
    "res"
   ]
  },
  {
   "cell_type": "code",
   "execution_count": 14,
   "metadata": {},
   "outputs": [],
   "source": [
    "query=\"what are areas of interest of ghousiya begum?\"\n",
    "mis_answer = retrieval_chain.invoke({\"input\":query})['answer']"
   ]
  },
  {
   "cell_type": "code",
   "execution_count": 15,
   "metadata": {},
   "outputs": [
    {
     "data": {
      "text/plain": [
       "'The areas of interest for Ghousiya Begum are Process Control, Control Systems, Intelligent Control, Modelling and Simulation, and Optimization.'"
      ]
     },
     "execution_count": 15,
     "metadata": {},
     "output_type": "execute_result"
    }
   ],
   "source": [
    "mis_answer"
   ]
  },
  {
   "cell_type": "code",
   "execution_count": 19,
   "metadata": {},
   "outputs": [
    {
     "name": "stdout",
     "output_type": "stream",
     "text": [
      "0.99278957\n"
     ]
    }
   ],
   "source": [
    "score=model.predict([res,mis_answer])\n",
    "print(score)"
   ]
  },
  {
   "cell_type": "code",
   "execution_count": 71,
   "metadata": {},
   "outputs": [],
   "source": [
    "for i in range(len(lise)):\n",
    "    for j in range(1):\n",
    "        query=lise[i][j]\n",
    "        lise[i][1]=retriever.invoke(query)[0].page_content\n",
    "        break"
   ]
  },
  {
   "cell_type": "code",
   "execution_count": 87,
   "metadata": {},
   "outputs": [],
   "source": [
    "questions=['what is the designation of john bosco?',\n",
    "           'what are the progams offered in B.Tech by sastra?',\n",
    "           'what is the admission process to get seat in B.Tech in sastra?',\n",
    "           'what are facilities available in sastra hostel?',\n",
    "           'what are the prices of single, double, 4 in 1 rooms in hostel?',\n",
    "           'How to calculate CGPA?',\n",
    "           'how to calculate SGPA?',\n",
    "           'what is the contact details of registrar?',\n",
    "           'how can i contact dean of student affairs sastra?',\n",
    "           'what are educational qualifications of anila glory?',\n",
    "           'what is the minimum attendance required for attending semester exam?',\n",
    "           'If i score more than 50 marks what grade i can get?',\n",
    "           'what does the letter E means in grading?',\n",
    "           'what is SAP?',\n",
    "           'what is L,T,P?',\n",
    "           'how to contact dean of SEEE?',\n",
    "           'what is speciality of daksh',\n",
    "           'what are different events conducted in kuruksastra? who should participate in the event?',\n",
    "           'tell me about library in sastra',\n",
    "           'what are different laboratories available in vidhyut vihar?',\n",
    "           'is wifi facility available in SASTRA hostel? what is the speed of wifi?',\n",
    "           'what are services available in sastra hospital?',\n",
    "           'what are innovation opportunities available in sastra?',\n",
    "           'what is NAAC score and NIRF ranking of SASTRA?',\n",
    "           'what are sports facilities available in sastra?',\n",
    "           'what are cocurricular activities in sastra',\n",
    "           'to which department does padmapriya belongs to? and what are areas of interest of manjula KR'\n",
    "           ]"
   ]
  },
  {
   "cell_type": "code",
   "execution_count": 88,
   "metadata": {},
   "outputs": [
    {
     "data": {
      "text/plain": [
       "27"
      ]
     },
     "execution_count": 88,
     "metadata": {},
     "output_type": "execute_result"
    }
   ],
   "source": [
    "len(questions)"
   ]
  },
  {
   "cell_type": "code",
   "execution_count": 143,
   "metadata": {},
   "outputs": [
    {
     "data": {
      "text/plain": [
       "['what is ACRS?',\n",
       " 'what are areas of interest of muthubalan?',\n",
       " 'what is the designation of john bosco?',\n",
       " 'what are the progams offered in B.Tech by sastra?',\n",
       " 'what is the admission process to get seat in B.Tech in sastra?',\n",
       " 'what are facilities available in sastra hostel?',\n",
       " 'what are the prices of single, double, 4 in 1 rooms in hostel?',\n",
       " 'How to calculate CGPA?',\n",
       " 'how to calculate SGPA?',\n",
       " 'what is the contact details of registrar?',\n",
       " 'how can i contact dean of student affairs sastra?',\n",
       " 'what are educational qualifications of anila glory?',\n",
       " 'what is the minimum attendance required for attending semester exam?',\n",
       " 'If i score more than 50 marks what grade i can get?',\n",
       " 'what does the letter E means in grading?',\n",
       " 'what is SAP?',\n",
       " 'what is L,T,P?',\n",
       " 'how to contact dean of SEEE?',\n",
       " 'what is speciality of daksh',\n",
       " 'what are different events conducted in kuruksastra? who should participate in the event?',\n",
       " 'tell me about library in sastra',\n",
       " 'what are different laboratories available in vidhyut vihar?',\n",
       " 'is wifi facility available in SASTRA hostel? what is the speed of wifi?',\n",
       " 'what are services available in sastra hospital?',\n",
       " 'what are innovation opportunities available in sastra?',\n",
       " 'what is NAAC score and NIRF ranking of SASTRA?',\n",
       " 'what are sports facilities available in sastra?',\n",
       " 'what are cocurricular activities in sastra',\n",
       " 'to which department does padmapriya belongs to? and what are areas of interest of manjula KR',\n",
       " 'what is the email address of betty martin?']"
      ]
     },
     "execution_count": 143,
     "metadata": {},
     "output_type": "execute_result"
    }
   ],
   "source": [
    "questions"
   ]
  },
  {
   "cell_type": "code",
   "execution_count": 145,
   "metadata": {},
   "outputs": [
    {
     "data": {
      "text/plain": [
       "[{'source': 'https://www.sastra.edu/admissions/tuition-fees.html '},\n",
       " {'source': 'https://www.sastra.edu/admissions/hostel-fees.html '},\n",
       " {'source': 'https://www.sastra.edu/academics/programmes/ug-pg.html '},\n",
       " {'source': 'https://www.sastra.edu/about-us/key-contacts.html '},\n",
       " {'source': 'https://www.sastra.edu/student-activities/daksh.html '},\n",
       " {'source': 'https://www.sastra.edu/student-activities/kuruksastra.html '},\n",
       " {'source': 'https://www.sastra.edu/useful-links/2015-01-17-16-02-25.html '},\n",
       " {'source': 'https://www.sastra.edu/infrastructure/library.html '},\n",
       " {'source': 'https://www.sastra.edu/infrastructure/learning-resources.html '},\n",
       " {'source': 'https://www.sastra.edu/infrastructure/amenities/hostel.html '},\n",
       " {'source': 'https://www.sastra.edu/infrastructure/amenities/hospital.html '},\n",
       " {'source': 'https://www.sastra.edu/infrastructure/amenities/sports.html '},\n",
       " {'source': 'https://www.sastra.edu/infrastructure/amenities/temple.html '},\n",
       " {'source': 'https://www.sastra.edu/research/central-facilities.html '},\n",
       " {'source': 'https://www.sastra.edu/infrastructure/central-animal-facility-caf.html '},\n",
       " {'source': 'https://www.sastra.edu/research/innovation.html '},\n",
       " {'source': 'https://www.sastra.edu/research/research-infrastructure.html '},\n",
       " {'source': 'https://www.sastra.edu/academics/academic-flexibility.html '},\n",
       " {'source': 'https://www.sastra.edu/about-us/accreditation-ranking.html '},\n",
       " {'source': 'https://www.sastra.edu/about-us/best-practices.html '},\n",
       " {'source': 'https://www.sastra.edu/downloads/menu/Parents/BTech-MTech-Integ-Rules-Regulation-2018-19.pdf',\n",
       "  'page': 0},\n",
       " {'source': 'https://www.sastra.edu/downloads/menu/Parents/BTech-MTech-Integ-Rules-Regulation-2018-19.pdf',\n",
       "  'page': 1},\n",
       " {'source': 'https://www.sastra.edu/downloads/menu/Parents/BTech-MTech-Integ-Rules-Regulation-2018-19.pdf',\n",
       "  'page': 2},\n",
       " {'source': 'https://www.sastra.edu/downloads/menu/Parents/BTech-MTech-Integ-Rules-Regulation-2018-19.pdf',\n",
       "  'page': 3},\n",
       " {'source': 'https://www.sastra.edu/downloads/menu/Parents/BTech-MTech-Integ-Rules-Regulation-2018-19.pdf',\n",
       "  'page': 4},\n",
       " {'source': 'https://www.sastra.edu/downloads/menu/Parents/BTech-MTech-Integ-Rules-Regulation-2018-19.pdf',\n",
       "  'page': 5},\n",
       " {'source': 'https://www.sastra.edu/downloads/menu/Parents/BTech-MTech-Integ-Rules-Regulation-2018-19.pdf',\n",
       "  'page': 6},\n",
       " {'source': 'https://www.sastra.edu/downloads/menu/Parents/BTech-MTech-Integ-Rules-Regulation-2018-19.pdf',\n",
       "  'page': 7},\n",
       " {'source': 'https://www.sastra.edu/downloads/menu/Parents/BTech-MTech-Integ-Rules-Regulation-2018-19.pdf',\n",
       "  'page': 8},\n",
       " {'source': 'https://www.sastra.edu/downloads/menu/Parents/BTech-MTech-Integ-Rules-Regulation-2018-19.pdf',\n",
       "  'page': 9},\n",
       " {'source': 'https://www.sastra.edu/downloads/menu/Parents/Choice%20Based%20Credit%20System.pdf',\n",
       "  'page': 0},\n",
       " {'source': 'https://www.sastra.edu/downloads/menu/Parents/Choice%20Based%20Credit%20System.pdf',\n",
       "  'page': 1},\n",
       " {'source': 'https://www.sastra.edu/downloads/menu/Parents/Choice%20Based%20Credit%20System.pdf',\n",
       "  'page': 2},\n",
       " {'source': 'https://www.sastra.edu/downloads/menu/Parents/Cocurricular%20&%20Extra%20curricular%20opportunities.pdf',\n",
       "  'page': 0},\n",
       " {'source': 'https://www.sastra.edu/downloads/menu/Parents/Cocurricular%20&%20Extra%20curricular%20opportunities.pdf',\n",
       "  'page': 1},\n",
       " {'source': 'https://www.sastra.edu/downloads/menu/Parents/Cocurricular%20&%20Extra%20curricular%20opportunities.pdf',\n",
       "  'page': 2},\n",
       " {'source': 'https://sastra.edu/staffprofiles/schools/seee.php'},\n",
       " {'source': 'https://www.sastra.edu/staffprofiles/schools/soc.php'},\n",
       " {'source': 'https://www.sastra.edu/home/admissions.html'}]"
      ]
     },
     "execution_count": 145,
     "metadata": {},
     "output_type": "execute_result"
    }
   ],
   "source": [
    "sources"
   ]
  },
  {
   "cell_type": "code",
   "execution_count": 153,
   "metadata": {},
   "outputs": [],
   "source": [
    "references=[]"
   ]
  },
  {
   "cell_type": "code",
   "execution_count": 157,
   "metadata": {},
   "outputs": [],
   "source": [
    "for i in range(3,30):\n",
    "    for j in range(1):\n",
    "        query=questions[i]\n",
    "        retrieve_docs = retriever.invoke(query)\n",
    "        ref = ''\n",
    "        for doc in retrieve_docs:\n",
    "            ref=ref+doc.page_content\n",
    "        references.append(ref)\n",
    "        # break"
   ]
  },
  {
   "cell_type": "code",
   "execution_count": 158,
   "metadata": {},
   "outputs": [
    {
     "data": {
      "text/plain": [
       "['5.5.6 Students in the B. Tech. programme have an option of completing their course work \\nrequirements by VII semester through the Accelerated Course Registration System \\n(ACRS) and devote the VIII semester to do project work in academic institutions or R&D \\ncentres or industries in India or in premier institutions abroad.  ACRS is meant for high \\nand consistent performers who maintain a minimum CGPA and SGPA of 7.5.  Students \\nwith history of F or E grades are not eligible \\n \\n5.5.7 Students’ at the end of the V semester with the minimum CGPA of 7.5, may be permittedStudent ActivitiesASCIEEDakshKuruksastraPlasma CompendiumWadioBiotikosNCCNSSClubsED-CellIIChE Student ChapterASME Students ChapterIEEE SB SASTRAICT@S\\n\\nAcademic Flexibility\\n\\n\\n\\n\\n\\nSASTRA is sensitive to the learning abilities of diverse students and provides adequate avenues to accommodate such diverse learning abilities.\\n\\nThe following opportunities are provided for advanced learners:\\n\\nAccelerated Credit\\xa0Registration System (ACRS): Students with CGPA ≥ 7.5 can register for an open elective course each semester commencing from 4th semester onwards so that the finalsProject  12 \\nHR Skills  04 \\n \\n2.3 Accelerated Course R egistration System:  \\n \\nSASTRA University provides unique opportunity to students for completing the course \\nwork within even semesters, thereby enabling them to utilize eighth semester solely for \\nproject work. Students without any history of arrears can study  open elective courses that \\nare offered after regular class hours (after 5 pm.) from semesters IV to semesters VII, \\nthereby satisfying the credit requirement for core, department electives and open electives \\nwithin seven semesters.Student ActivitiesASCIEEDakshKuruksastraPlasma CompendiumWadioBiotikosNCCNSSClubsED-CellIIChE Student ChapterASME Students ChapterIEEE SB SASTRAICT@S\\n\\nCentral Animal Facility\\n\\n\\n\\n\\n\\nCENTRAL ANIMAL FACILITY\\n\\n(Accredited by NABL for Biological Testing, Approval No. T-3331)\\n\\nSASTRA houses a full-fledged (CPCSEA Registration No: 817/04/ac/CPCSEA) state-of- the-art Central Animal Facility (CAF) of 16,358 sq.ft. for the conduct of pre-clinical studies. The major objectives of the facility are to\\n\\nØ\\xa0 conduct high quality animal research',\n",
       " 'Click here\\n\\n\\n\\n\\n\\n\\n\\nDr. UMA .D\\nSr. Asst. Professor\\numavijayeee.sastra.edu\\n\\n\\n\\n\\n\\n\\n\\nSchool School of Electrical and Electronics Engineering\\nDesignation SAP\\nDepartment EEE\\nEducational QualificationsM.E(POWER ELECTRONICS & DRIVES)\\rRegistered Ph.D in SASTRA University\\nAreas of InterestFACTS,power Quality\\nORCID URL\\n\\nClick here\\n\\n\\n\\n\\n\\n\\n\\nDr. BALASUBRAMANIAN .G\\nSr. Asst. Professor\\nBalu_eieeie.sastra.eduClick here\\n\\n\\n\\n\\n\\n\\n\\nDr. KANNAN BALASUBRAMANIAN\\nProfessor\\nkannanbcse.sastra.edu\\n\\n\\n\\n\\n\\n\\n\\nSchool School of Computing\\nDesignation Professor\\nDepartment CSE\\nEducational QualificationsM.Sc. (Tech.) (Birla Institute of Technology and Science,Pilani),  M.Tech (Indian Institute of Technology, Bombay), Ph.D (University of California, Los Angeles)\\nAreas of InterestCOMPUTER NETWORKS,NETWORK SECURITY,CYBER SECURITY,MACHINE LEARNING\\nORCID URL\\n\\nClick here\\n\\n\\n\\n\\n\\n\\n\\nDr. MANJULA KR\\nAssociate Professor\\nmanjulacse.sastra.eduClick here\\n\\n\\n\\n\\n\\n\\n\\nDr. BHASKARAN S\\nAsst. Professor - II\\nbhaskaranmca.sastra.edu\\n\\n\\n\\n\\n\\n\\n\\nSchool School of Computing\\nDesignation AP - II\\nDepartment MCA\\nEducational QualificationsM.C.A., M.Phil(CS), M.Tech(IT), Ph.D\\nAreas of InterestSoft Computing, Artificial Intelligence, E-Learning\\nORCID URL\\n\\nClick here\\n\\n\\n\\n\\n\\n\\n\\nMr. VENKATA SUBRAMANIAN N\\nAsst. Professor - II\\ntyrvenkatmca.sastra.edu\\n\\n\\n\\n\\n\\n\\n\\nSchool School of Computing\\nDesignation AP - II\\nDepartment MCA\\nEducational QualificationsMCA, Ph.D (Pursuing)\\nAreas of InterestCloud Computing\\nORCID URL\\n\\nClick hereClick here\\n\\n\\n\\n\\n\\n\\n\\nDr. BALASUBRAMANIAN .R\\nSr. Asst. Professor\\nrbalueee.sastra.edu\\n\\n\\n\\n\\n\\n\\n\\nSchool School of Electrical and Electronics Engineering\\nDesignation SAP\\nDepartment EEE\\nEducational QualificationsB.E(Electrical and Electronics Engineering)University of Madras,\\rM.Tech (Control systems and instrumentation) SASTRA Deemed University\\rPhD (Power quality improvement) SASTRA Deemed University\\nAreas of InterestPower Quality improvement, Control systems, Power Electronics\\nORCID URL\\n\\nClick here\\n\\n\\n\\n\\n\\n\\n\\nDr. SRIRANJANI .R\\nSr. Asst. Professor\\nmathusrieee.sastra.edu',\n",
       " 'What full-time programmes does SASTRA offer? \\r\\n\\r\\n\\t\\r\\n\\tTHANJAVUR CAMPUS\\r\\n\\r\\n\\tB. Tech., (with various minor specializations), M. Tech. (5-Year integrated), M. Tech., M. Sc. (2-Year programmes in Biotechnology, Chemistry, Data Sciences, Bioinformatics & Physics), M.C.A., M.B.A., B. Com. (CA), B. Com. (BFSI), B.A./B.Com./B.B.A., LL.B, (Hons.), B.Sc./B.A., B.Ed. (4-year integrated programmes in English, Mathematics & Physics), M.Sc. (5-year integrated programmes in Biotechnology, Chemistry, Data Sciences & Physics), M. Optom. & B. Optom. courses are offered.\\r\\n\\r\\n\\tKUMBAKONAM CAMPUSStudent ActivitiesASCIEEDakshKuruksastraPlasma CompendiumWadioBiotikosNCCNSSClubsED-CellIIChE Student ChapterASME Students ChapterIEEE SB SASTRAICT@S\\n\\nProgrammes\\n\\n\\n\\n\\n\\nB.Tech. Aerospace Engineering\\n\\nB.Tech. Bioengineering\\n\\nB.Tech. Bioinformatics\\n\\nB.Tech. Biotechnology\\n\\nB.Tech. Chemical Engineering\\n\\nB.Tech. Civil Engineering\\n\\nB.Tech. Computer Science & Business Systems\\n\\nB.Tech. Computer Science & Engineering\\n\\nB.Tech. Computer Science & Engineering (Artificial Intelligence & Data Science)\\n\\nB.Tech. Computer Science & Engineering (Cyber Security & Block Chain Technology)Is there any other method for admission to B.Tech. programmes?\\r\\n\\t\\r\\n\\tAdmissions will be done by the Office of Admissions of SASTRA, either in Stream 1 or 2 basis. \\xa0Do not fall prey to any unauthorized persons / agencies who claim proximity to SASTRA admissions office. Admissions are based only on merit and only tuition fees will have to be paid. No donations or capitation fee. \\xa0Kindly bring it to the notice of the Office of Admissions if any unauthorized persons / agency approaches you promising admissions.UG Programmes\\n\\nThe SASTRA Chennai campus offers 4-Year Honours with an exit option at the end of the 3rd\\xa0year. The following are the programmes to be offered from the academic year 2024-25:\\n\\nBachelor of Arts Economics & Public Policy\\n\\nBachelor of Arts Journalism & Electronic Media\\n\\nBachelor of Arts Journalism & Visual Communications\\n\\nBachelor of Commerce (B.Com.) with Minor Specialisations in the area of Business Process, Financial Markets , Corporate Finance & Strategy, Economics & Public Policy',\n",
       " 'How are admissions done? \\r\\n\\t\\r\\n\\tThe Admissions to various B. Tech. and 5-Year Integrated M. Tech. programmes of SASTRA (Thanjavur & Kumbakonam) shall be done in the following way:\\r\\n\\r\\n\\tStream 1 – JEE-Main Score & Class XII Score: Admission to 50% of seats shall be based on normalised aggregate Class XII Scores and available JEE Main (2024) scores taken together with 50% weightage each. \\xa0Seats shall be filled based on the Ranks Secured by student.Is there any other method for admission to B.Tech. programmes?\\r\\n\\t\\r\\n\\tAdmissions will be done by the Office of Admissions of SASTRA, either in Stream 1 or 2 basis. \\xa0Do not fall prey to any unauthorized persons / agencies who claim proximity to SASTRA admissions office. Admissions are based only on merit and only tuition fees will have to be paid. No donations or capitation fee. \\xa0Kindly bring it to the notice of the Office of Admissions if any unauthorized persons / agency approaches you promising admissions.What is the eligibility?\\r\\n\\t\\r\\n\\tB.Tech. (with minor specialization) / 5 Year Integrated M. Tech. Programme\\r\\n\\r\\n\\tA pass in the +2 examination with Mathematics & Physics as compulsory subjects of study with either Chemistry / Biotechnology / Computer Science / Biology and recognized by any State Board / Central Board or any other Board accepted by SASTRA as equivalent to 10+2 examination, with a minimum +2 aggregate of 60% marks in a single sitting.2.1 Candidates for admission to the first semester of B.Tech. / M.Tech. (Integrated) degree \\nprogrammes should have passed the final examination of +2 Higher Secondary Course \\nin the academic stream (with Mathematics, Physics and Chemistry as subjects of study) \\nor vocational stream (with Mathematics as one of the subjects of study) conducted by \\nthe Board of Secondary Education, Government of Tamil Nadu or an Examination of any \\nother authority accepted by the Board of Management of SASTRA as equivalent thereto .',\n",
       " \"SASTRA has always believed in catering to the palate and providing wholesome and balanced nutrition in a hygienic environment. A completely balanced vegetarian diet is served in all hostels equipped with steam-cooking facilities. There is also North Indian Cuisine in addition to the South Indian culinary delights.\\n\\n1Gbps\\xa0Wi-Fi is available to all the inmates of the hostels.\\n\\nA well furnished guest house with adquate number of A/C and non-A/C rooms is available for visitors on prior request and subject to availability.\\n\\nGeneral InformationAbout the Guest House \\r\\n\\t\\r\\n\\t\\tWelcome to SASTRA Paradise Guest house. Situated diagonally opposite to our campus, this fully renovated Guest house is most comfortable with 28 rooms, 6 of those being NON- AC and rest fully air conditioned rooms. \\r\\n\\t\\tThe rooms are provided with necessary furniture to work and required modern amenities. \\r\\n\\t\\tSmart TV is also provided with required Wi-Fi facilities.\\r\\n\\t\\tHot and cold water in the bath rooms, comfortable and cozy beds with supporting furnishing makes the stay very pleasurable.Student ActivitiesASCIEEDakshKuruksastraPlasma CompendiumWadioBiotikosNCCNSSClubsED-CellIIChE Student ChapterASME Students ChapterIEEE SB SASTRAICT@S\\n\\nCentral Facilities\\n\\n\\n\\n\\n\\nMajor facilities established in the University are available for all students & faculty from SASTRA as well as from other institutions.\\xa0 The following are \\xa0partial list of equipment \\xa0available on campus for research:\\n\\nField emission transmission electron microscope with energy dispersive spectrometer (FE-TEM)\\n\\nComputer Numerically Controlled turning centres and machining centres (production capacity machines)Student ActivitiesASCIEEDakshKuruksastraPlasma CompendiumWadioBiotikosNCCNSSClubsED-CellIIChE Student ChapterASME Students ChapterIEEE SB SASTRAICT@S\\n\\nHostel\\n\\n\\n\\n\\n\\nThere are 9 boys' hostel and 6 girls' hostels providing accommodation to over 4000 boys and 2400 girls.\\n\\nThe hostels are of the following types:\\n\\n1. Single Room / 2-in-1 / 4-in1 (Bath Attached).\\n\\n2. Single Room / 2-in-1 / 3-in-1 / 4-in-1 / 5-in-1 / 6-in-1\\n\\nThe fees Structure is given below :\\n\\nClick here\",\n",
       " \"Is hostel facility available?\\r\\n\\t\\r\\n\\tThere are separate hostels for boys and girls in Thanjavur campus. \\xa0First year students will be provided shared accommodation. \\xa0The charges for food will be at actual based on dividing system and will approximately be around Rs 4,000 per month. \\xa0You can assume that you will stay for 10 months in a calendar year.\\r\\n\\r\\n\\tSingle room, Two-in-one, Three- in-one and Four-in-one (with or w/o bath attached facilities) will be available from second year onwards.\\r\\n\\r\\n\\tHostel fees is available at Click hereStudent ActivitiesASCIEEDakshKuruksastraPlasma CompendiumWadioBiotikosNCCNSSClubsED-CellIIChE Student ChapterASME Students ChapterIEEE SB SASTRAICT@S\\n\\nHostel\\n\\n\\n\\n\\n\\nThere are 9 boys' hostel and 6 girls' hostels providing accommodation to over 4000 boys and 2400 girls.\\n\\nThe hostels are of the following types:\\n\\n1. Single Room / 2-in-1 / 4-in1 (Bath Attached).\\n\\n2. Single Room / 2-in-1 / 3-in-1 / 4-in-1 / 5-in-1 / 6-in-1\\n\\nThe fees Structure is given below :\\n\\nClick hereHostel fees is available at Click here\\r\\n\\r\\n\\tPrivate accommodation available in Kumbakonam & Chennai campuses.Tariff \\r\\n\\t\\r\\n\\t\\r\\n\\t\\t\\r\\n\\t\\tGuest House\\r\\n\\t\\t\\r\\n\\t\\tCATEGORY\\r\\n\\t\\tROOM RENT (Excluding Breakfast)\\r\\n\\t\\tREMARKS\\r\\n\\t\\t\\r\\n\\t\\t\\r\\n\\t\\tA/c\\r\\n\\t\\t1000 ( One person )\\r\\n\\t\\tFor one extra person Rs.250 to be paid additionally\\r\\n\\t\\t\\r\\n\\t\\t\\r\\n\\t\\tNon-A/c\\r\\n\\t\\t700 ( One person )\\r\\n\\t\\tFor one extra person Rs.250 to be paid additionally\\r\\n\\t\\t\\r\\n\\t\\t\\r\\n\\t\\r\\n\\t\\t\\xa0\\r\\n\\t\\tNOTE:\\r\\n\\t\\t\\r\\n\\t\\tRoom categories are subject to availability.\\r\\n\\t\\tThe room rent is Exclusive of GST 12%.\\r\\n\\t\\t100% Payment to be made in advance. \\r\\n\\t\\tAdvance payment will not be refunded in case of cancellation.\\r\\n\\t\\t24 Hours check in / checkout.\\r\\n\\t\\tRoom tariff subject to change without prior notice.\",\n",
       " '9.5 Calculation of Cumulative Grade Point Average (CGPA)  \\n \\nCGPA is calculated from SGPA of the current and previous semesters.  Hence, it is an \\nindicator of the performance of a student over the period of study.  CGPA is calculated \\nas follows: \\n \\nLet ‘(SGPA) i‘ be the SGPA of a student in ith semester, \\nLet ‘N i’ be the number of credits taken by the student in ith semester, \\nLet ‘k’ be the number of semesters that a student has undergone, \\n \\n𝐶𝐺𝑃𝐴= ∑(𝑆𝐺𝑃𝐴)\\u0bdc𝑁\\u0bdc\\u0bde\\n\\u0bdcୀଵ\\n∑𝑁\\u0bdc\\u0bde\\n\\u0bdcୀଵ=𝑆𝐺𝑃𝐴ଵ𝑁ଵ+𝑆𝐺𝑃𝐴ଶ𝑁ଶ+ ……….+ 𝑆𝐺𝑃𝐴\\u0bde𝑁\\u0bde\\n𝑁ଵ+ ……….+ 𝑁\\u0bde \\n \\n10. CLASSIFICATION OF RESULT9.4 The average performance of a student in a particular semester is expressed as \\nSemester Grade Point Average (SGPA). It is calculated for each semester as follows: \\n \\nLet `C i’ be the credit assigned to the ith course,  \\nLet `P i’ be the grade point secured in the ith course, \\nLet `n’ be the number of courses for which the student has registered for the \\nexaminations, \\n \\n𝑆𝐺𝑃𝐴= ∑𝐶\\u0bdc\\u0be1\\n\\u0bdcୀଵ𝑃\\u0bdc\\n∑𝐶\\u0bdc\\u0be1\\n\\u0bdcୀଵ=𝐶ଵ𝑃ଵ+𝐶ଶ𝑃ଶ+⋯…………………..+ 𝐶\\u0be1𝑃\\u0be1\\n𝐶ଵ+𝐶ଶ+⋯…………………..+ 𝐶\\u0be1\\u0bdcୀଵ\\n∑𝑁\\u0bdc\\u0bde\\n\\u0bdcୀଵ=𝑆𝐺𝑃𝐴ଵ𝑁ଵ+𝑆𝐺𝑃𝐴ଶ𝑁ଶ+ ……….+ 𝑆𝐺𝑃𝐴\\u0bde𝑁\\u0bde\\n𝑁ଵ+ ……….+ 𝑁\\u0bde \\n \\n10. CLASSIFICATION OF RESULT  \\n \\n10.1 Students admitted to the B. Tech. programme, securing a CGPA of 7.5 and above shall \\nbe deemed to have passed in first class with distinction provided all the courses are \\npassed in the first attempt in the end semester examinations within the stipulated 8 \\nsemesters or 6 semesters for lateral entry students \\n \\n10.2 Students admitted to the M.Tech. (Integrated) programme, securing a CGPA of 7.5 and \\nabove shall be deemed to have passed in first class with distinction provided all thecredited course with a weightage of 50 marks \\n \\n6.4 A letter grade, corresponding to the marks secured by the student is awarded for each \\ncourse for which a student has registered. On obtaining a pass grade, the student \\naccumulates the course credits as earned credits. A student’s performance is measured \\nby the number of credits that the student has earned and the weighted grade point',\n",
       " '9.4 The average performance of a student in a particular semester is expressed as \\nSemester Grade Point Average (SGPA). It is calculated for each semester as follows: \\n \\nLet `C i’ be the credit assigned to the ith course,  \\nLet `P i’ be the grade point secured in the ith course, \\nLet `n’ be the number of courses for which the student has registered for the \\nexaminations, \\n \\n𝑆𝐺𝑃𝐴= ∑𝐶\\u0bdc\\u0be1\\n\\u0bdcୀଵ𝑃\\u0bdc\\n∑𝐶\\u0bdc\\u0be1\\n\\u0bdcୀଵ=𝐶ଵ𝑃ଵ+𝐶ଶ𝑃ଶ+⋯…………………..+ 𝐶\\u0be1𝑃\\u0be1\\n𝐶ଵ+𝐶ଶ+⋯…………………..+ 𝐶\\u0be19.5 Calculation of Cumulative Grade Point Average (CGPA)  \\n \\nCGPA is calculated from SGPA of the current and previous semesters.  Hence, it is an \\nindicator of the performance of a student over the period of study.  CGPA is calculated \\nas follows: \\n \\nLet ‘(SGPA) i‘ be the SGPA of a student in ith semester, \\nLet ‘N i’ be the number of credits taken by the student in ith semester, \\nLet ‘k’ be the number of semesters that a student has undergone, \\n \\n𝐶𝐺𝑃𝐴= ∑(𝑆𝐺𝑃𝐴)\\u0bdc𝑁\\u0bdc\\u0bde\\n\\u0bdcୀଵ\\n∑𝑁\\u0bdc\\u0bde\\n\\u0bdcୀଵ=𝑆𝐺𝑃𝐴ଵ𝑁ଵ+𝑆𝐺𝑃𝐴ଶ𝑁ଶ+ ……….+ 𝑆𝐺𝑃𝐴\\u0bde𝑁\\u0bde\\n𝑁ଵ+ ……….+ 𝑁\\u0bde \\n \\n10. CLASSIFICATION OF RESULTattendance of a student will be the number of periods attended divided by the total \\nnumber of periods actually conducted from the date of his/her admission and multiplied \\nby 100Honours courses: Students with CGPA ≥ 7.5 are permitted to enrol for additional courses in their discipline offered by SASTRA or online platforms like Coursera, SWAYAM etc., on a self-study mode.\\n\\nFellowships: Students are encouraged to apply and undertake fellowships at reputed national institutes through the Indian Academies by facilitating their joining the next semester at a later date.\\n\\nCompetitive exams preparation: Students appearing for competitive exams like GATE, CSIR-NET, etc., are mentored by experienced faculty.',\n",
       " \"S.No School / Office E.Mail Phone 1 Chancellor's Office This email address is being protected from spambots. You need JavaScript enabled to view it. 04362/350002 2 VC's Office This email address is being protected from spambots. You need JavaScript enabled to view it. 04362/350003 3 Registrar Office This email address is being protected from spambots. You need JavaScript enabled to view it. 04362/350004 4 Vice - Chancellor This email address is being protected from spambots. You need JavaScript enabled to view it. 04362/350003 5 Registrar This email address is being protected from spambots.Contact Details:\\r\\n\\t\\r\\n\\t\\r\\n\\t\\t\\r\\n\\t\\t\\t\\r\\n\\t\\t\\t\\tOffice of Admissions :\\r\\n\\t\\t\\t\\t\\r\\n\\t\\t\\t\\tSASTRA Deemed University\\r\\n\\r\\n\\t\\t\\t\\tThanjavur\\xa0 613 401\\r\\n\\r\\n\\t\\t\\t\\tGeneral Admission Helpdesk: +91 4362 350011-15\\r\\n\\t\\t\\t\\tThis email address is being protected from spambots. You need JavaScript enabled to view it.\\r\\n\\r\\n\\t\\t\\t\\tNRI Admissions: +91 4362 350016\\r\\n\\t\\t\\t\\tThis email address is being protected from spambots. You need JavaScript enabled to view it.\\r\\n\\r\\n\\t\\t\\t\\t\\xa0\\r\\n\\r\\n\\t\\t\\t\\tSASTRA Deemed University\\r\\n\\r\\n\\t\\t\\t\\tKumbakonam\\xa0 612 001\\r\\n\\r\\n\\t\\t\\t\\tGeneral Admission Helpdesk: +91 435 2426823Kumbakonam\\xa0 612 001\\r\\n\\r\\n\\t\\t\\t\\tGeneral Admission Helpdesk: +91 435 2426823\\r\\n\\r\\n\\t\\t\\t\\tThis email address is being protected from spambots. You need JavaScript enabled to view it.\\r\\n\\r\\n\\t\\t\\t\\t\\xa0\\r\\n\\r\\n\\t\\t\\t\\tSASTRA Deemed University\\r\\n\\r\\n\\t\\t\\t\\tChennai 600 083\\r\\n\\r\\n\\t\\t\\t\\tGeneral Admission Helpdesk: +91 44 23650027\\r\\n\\r\\n\\t\\t\\t\\tThis email address is being protected from spambots. You need JavaScript enabled to view it.\\r\\n\\r\\n\\t\\t\\t\\t\\xa0\\r\\n\\r\\n\\t\\t\\t\\tURL: www.sastra.edu\\r\\n\\t\\t\\t\\t\\r\\n\\t\\t\\t\\r\\n\\t\\t\\r\\n\\t\\r\\n\\r\\n\\tWe wish you good luck for your Class XII and other competitive exams.Contact\\n\\nSASTRA DEEMED UNIVERSITY\\n\\nTirumalaisamudram\\n\\nThanjavur - 613401\\n\\nTamilnadu, India\\n\\n+91 4362 264101 - 108\\n\\n+91 4362 350001 (20 lines)\\n\\n+91 4362 264120\\n\\nadmissionssastra.edu\\n\\nVisit\\n\\nQuick Links\\n\\nNational Scholarship Portal\\n\\nAcademic Bank of Credits (ABC) Registration\\n\\nDigiLocker\\n\\nUGC-DEB\\n\\nNCTE\\n\\nNIRF\\n\\nNAAC\\n\\nHeadlines Archives\\n\\nEvents Archives\\n\\nShanMail\\n\\nStudent Mail\\n\\nContact\\n\\nUseful-Links\\n\\nITIHAS (University Newsletter)\\n\\nNPTEL\\n\\nILLUMINATI\\n\\nStudent Web Interface\\n\\nParent Web Interface\\n\\nUGC Job Portal\\n\\nAlumni Network Portal\\n\\nGuest House Request\\n\\nVideo Tour\\n\\nCampus Map\\n\\nPress Release\",\n",
       " 'How can I get involved?\\n\\nThere are many programs / activities offered by the Residence Life Office which you may participate in and perhaps even help plan and coordinate.\\n\\nContact\\n\\nSASTRA DEEMED UNIVERSITY\\n\\nTirumalaisamudram\\n\\nThanjavur - 613401\\n\\nTamilnadu, India\\n\\n+91 4362 264101 - 108\\n\\n+91 4362 350001 (20 lines)\\n\\n+91 4362 264120\\n\\nadmissionssastra.edu\\n\\nVisit\\n\\nQuick Links\\n\\nNational Scholarship Portal\\n\\nAcademic Bank of Credits (ABC) Registration\\n\\nDigiLocker\\n\\nUGC-DEB\\n\\nNCTE\\n\\nNIRF\\n\\nNAAC\\n\\nHeadlines Archives\\n\\nEvents Archives\\n\\nShanMail\\n\\nStudent Mail\\n\\nContact\\n\\nUseful-LinksClick here\\n\\n\\n\\n\\n\\n\\n\\nDr. MANIVANNAN D\\nAssociate Dean - Infrastructure\\ndmvcse.sastra.edu\\n\\n\\n\\n\\n\\n\\n\\nSchool School of Computing\\nDesignation Associate Dean - Infrastructure\\nDepartment CSE\\nEducational QualificationsB.E., M.Tech., Ph.D\\nAreas of InterestCryptography\\r\\rWireless Sensor Network\\r\\rSecurity in Computing\\r\\rEmbedded Systems\\nORCID URL\\n Click here\\n\\n\\n\\n\\n\\n\\n\\nDr. ALAGESWARAN R\\nAssociate Dean - Student Welfare\\nalageswarancse.sastra.eduDr. ALAGESWARAN R\\nAssociate Dean - Student Welfare\\nalageswarancse.sastra.edu\\n\\n\\n\\n\\n\\n\\n\\nSchool School of Computing\\nDesignation Associate Dean - Student Welfare\\nDepartment CSE\\nEducational QualificationsM.E., M.B.A., Ph.D\\nAreas of InterestInternet of Things, Image Processing, Wireless Sensor Networks, Lightweight Cryptography\\nORCID URL\\n Click here\\n\\n\\n\\n\\n\\n\\n\\nDr. KANNAN .K\\nProfessor\\nkkannanmaths.sastra.eduDr. KRISHNAMOORTHY A\\nAssociate Dean - Academics\\nakeee.sastra.edu',\n",
       " 'Dr. ANILA GLORY H\\nAsst. Professor - II\\nanilaglorycse.sastra.edu\\n\\n\\n\\n\\n\\n\\n\\nSchool School of Computing\\nDesignation AP - II\\nDepartment CSE\\nEducational QualificationsB.E.(Computer Science & Engineering), M.E.(Computer Science & Engineering), Ph.D.\\nAreas of InterestBrain-Computer Interface, Machine Learning, Deep Learning\\nORCID URL\\n\\nClick here\\n\\n\\n\\n\\n\\n\\n\\nDr. PRAVEEN KUMAR K\\nAsst. Professor - II\\npraveenkumarit.sastra.eduDr. VIDIVELLI S\\nAsst. Professor - II\\nvidivellicse.sastra.edu\\n\\n\\n\\n\\n\\n\\n\\nSchool School of Computing\\nDesignation AP - II\\nDepartment CSE\\nEducational QualificationsB.E(CSE)\\rM.E(CSE)\\rPh.D(Information and Communication Engineering)\\nAreas of InterestMedical Image Processing, Computer Vision, Machine Learning, Deep Learning\\nORCID URL\\n Click here\\n\\n\\n\\n\\n\\n\\n\\nDr. ANILA GLORY H\\nAsst. Professor - II\\nanilaglorycse.sastra.eduClick here\\n\\n\\n\\n\\n\\n\\n\\nMs. GOKILA RG\\nAsst. Professor - II\\ngokilacse.sastra.edu\\n\\n\\n\\n\\n\\n\\n\\nSchool School of Computing\\nDesignation AP - II\\nDepartment CSE\\nEducational QualificationsB.TECH - Information Technology,\\rM.E - Software Engineering,\\r(Ph.D) - Anna University\\nAreas of InterestBig Data Analytics,\\rNetwork Security,\\rIoT\\nORCID URL\\n\\nClick here\\n\\n\\n\\n\\n\\n\\n\\nDr. NALAYINI P\\nAsst. Professor - II\\nnalayinicse.sastra.eduDr. SENTHILSELVAN N\\nAsst. Professor - II\\nsenthilselvancse.sastra.edu\\n\\n\\n\\n\\n\\n\\n\\nSchool School of Computing\\nDesignation AP - II\\nDepartment CSE\\nEducational QualificationsB.Tech.(IT), M.E.(CSE),(Ph.D.)\\nAreas of Interestbig data analytics, compiler engineering, Linked open data, Theory of Computation\\nORCID URL\\n\\nClick here\\n\\n\\n\\n\\n\\n\\n\\nMs. GOWRI L\\nAsst. Professor - II\\ngowrimca.sastra.edu\\n\\n\\n\\n\\n\\n\\n\\nSchool School of Computing\\nDesignation AP - II\\nDepartment MCA\\nEducational QualificationsMCA.,M.Phil.,M.Tech(CSE).,Ph.D(pursuing)\\nAreas of InterestRemote sensing image analysis\\nORCID URL\\n Click here',\n",
       " 'remaining semesters \\n \\n8.5 A student who has an attendance less than 70% in the odd/even semester, will not be \\nallowed to appear for the immediate odd/ even semester examination. In such a case, \\nthe student should register for the same semester during the next academic year, \\nthereby losing one year \\n \\n8.6 There is no provision for a student to improve his/ her attendance during the same \\nsemester \\n \\n8.7 Out of a total of 100 marks allotted for each course 50 marks are allotted for continuous \\ninternal assessment and 50 marks for the end semester examinationsubjects for B.Tech. \\n \\n8. REQUIREMENTS FOR SUCCESSFUL COMPLETION OF A COURSE & EARNING \\nCREDIT \\n \\n8.1 Students must attend every lecture, tutorial and laboratory class. However, in order to \\nprovide for sickness and such other contingencies, a minimum attendance percentage \\nhas been prescribed. A student can appear for an end-semester examination only when \\nhe/she has put-in a minimum attendance of 80% during the semester.  Percentage of \\nattendance of a student will be the number of periods attended divided by the total8.2 A student should necessarily register for the end-semester examinations in all the \\nregular and applicable arrear courses \\n \\n8.3 A student who has an attendance between 75 and 80% will be allowed to write the end \\nsemester examination provided he/she pays the condonation fees as prescribed by the \\nUniversity from time-to-time.  A student shall be allowed to pay condonation fees only \\ntwice during the entire duration of his / her study in the University \\n \\n8.4 A student who has an attendance between 70 and 75% will be allowed to write the end8.4 A student who has an attendance between 70 and 75% will be allowed to write the end \\nsemester examination provided he/she pays the condonation fees and a caution deposit \\nas prescribed by the University from time-to-time.  A student shall be allowed to pay \\ncondonation fees and a caution deposit only once during the entire duration of his / her \\nstudies in the University.  The caution deposit will be returned to the student at the end \\nof the course provided the student maintains attendance more than 80% for the \\nremaining semesters',\n",
       " '____________________________________________________________________________ \\n \\n \\n9. EVALUATION OF THE ACADEMIC PERFORMANCE & PROMOTION  \\n \\n9.1 Course-wise grades are awarded to the students by adopting the following scheme, \\nbased on the aggregate marks scored by the student in the course (which includes \\ninternal assessment marks and end-semester examination marks) \\n \\nRANGE LETTER  \\nGRADE GRADE \\nPOINT DESCRIPTION OF  \\nPERFORMANCE \\n≥91% S 10 Outstanding \\n≥86% and ≤ 90% A+ 9 Excellent \\n≥75% and ≤ 85% A 8 Very Good \\n≥66% and ≤ 74% B 7 Good \\n≥55% and ≤ 65% C 6 Satisfactoryinternal assessment and 50 marks for the end semester examination \\n \\n8.8 The break-up for continuous internal assessment marks for any course is as follows: \\n \\nTheory Course  Weightage  Practical Course  Weightage  \\nFirst, Second & Third test \\n(Best two out of three tests will \\nbe considered) 40% Experimental work & \\nobservations 40% \\nAssignment, Seminar, Quiz,  \\netc. 10% Viva-Voce 10% \\nTotal 50% Total 50% \\n \\n8.9 A candidate is declared to have passed in a course if he / she secures ‘D’ grade based \\non continuous internal assessment and the end-semester examination marks put \\ntogethercredited course with a weightage of 50 marks \\n \\n6.4 A letter grade, corresponding to the marks secured by the student is awarded for each \\ncourse for which a student has registered. On obtaining a pass grade, the student \\naccumulates the course credits as earned credits. A student’s performance is measured \\nby the number of credits that the student has earned and the weighted grade point≥75% and ≤ 85% A 8 Very Good \\n≥66% and ≤ 74% B 7 Good \\n≥55% and ≤ 65% C 6 Satisfactory \\n≥50% and ≤ 54% D 5 Pass \\n< 50% F 0 Fail \\nAbsent  E 0 Exposure \\n \\n \\n9.2 A candidate who does not pass a course in the odd/even semester examination should \\nregister and take up the subsequent supplementary odd/even semester examination in \\nthat course and pass the same \\n \\n9.3 Some students due to extraneous reasons score less marks in Continuous Internal \\nAssessment (CIA) resulting in failing in the course.  There is no provision for a student to',\n",
       " '____________________________________________________________________________ \\n \\n \\n9. EVALUATION OF THE ACADEMIC PERFORMANCE & PROMOTION  \\n \\n9.1 Course-wise grades are awarded to the students by adopting the following scheme, \\nbased on the aggregate marks scored by the student in the course (which includes \\ninternal assessment marks and end-semester examination marks) \\n \\nRANGE LETTER  \\nGRADE GRADE \\nPOINT DESCRIPTION OF  \\nPERFORMANCE \\n≥91% S 10 Outstanding \\n≥86% and ≤ 90% A+ 9 Excellent \\n≥75% and ≤ 85% A 8 Very Good \\n≥66% and ≤ 74% B 7 Good \\n≥55% and ≤ 65% C 6 SatisfactoryAssessment (CIA) resulting in failing in the course.  There is no provision for a student to \\nimprove his / her continuous internal assessment marks. For such candidates who \\nappear in the subsequent supplementary exams, the following formula will apply: \\n \\nM = (I+E) or 2E, whichever is greater, where I = CIA marks of the student; M = Total \\nmarks of the students and E = Marks scored by the student in the end semester \\nsupplementary examination \\n \\n9.4 The average performance of a student in a particular semester is expressed ascredited course with a weightage of 50 marks \\n \\n6.4 A letter grade, corresponding to the marks secured by the student is awarded for each \\ncourse for which a student has registered. On obtaining a pass grade, the student \\naccumulates the course credits as earned credits. A student’s performance is measured \\nby the number of credits that the student has earned and the weighted grade point≥75% and ≤ 85% A 8 Very Good \\n≥66% and ≤ 74% B 7 Good \\n≥55% and ≤ 65% C 6 Satisfactory \\n≥50% and ≤ 54% D 5 Pass \\n< 50% F 0 Fail \\nAbsent  E 0 Exposure \\n \\n \\n9.2 A candidate who does not pass a course in the odd/even semester examination should \\nregister and take up the subsequent supplementary odd/even semester examination in \\nthat course and pass the same \\n \\n9.3 Some students due to extraneous reasons score less marks in Continuous Internal \\nAssessment (CIA) resulting in failing in the course.  There is no provision for a student to',\n",
       " 'School School of Electrical and Electronics Engineering\\nDesignation SAP\\nDepartment Physics\\nEducational Qualifications2005 - 2010: Ph.D Physics (Magnetic nanomaterials and nanofluids) from Indira Gandhi Center for Atomic Research Kalpakkam. Degree awarded by University of Madras\\r\\r2003 - 2004: M.Phil. Nuclear Physics, Department of Nuclear Physics, University of Madras (Guindy campus), Chennai\\r\\r2001 - 2003: M.Sc. Physics from Presidency college (Autonomous), University of Madras, Chennai\\r\\r1998 - 2001: B.Sc. Physics from Presidency college(Autonomous), University of Madras, ChennaiClick here\\n\\n\\n\\n\\n\\n\\n\\nDr. SEKAR KR\\nSr. Asst. Professor\\nsekar_krcse.sastra.edu\\n\\n\\n\\n\\n\\n\\n\\nSchool School of Computing\\nDesignation SAP\\nDepartment CSE\\nEducational QualificationsM.C.A.,M.B.A.,M.Phil.,M.Tech.,Ph.D.\\nAreas of InterestComponent Based Technology , Data Mining and Warehousing , Artificial intelligence, Management Resource Techniques. Big Data Analytics, Active Directory Domain Service\\nORCID URL\\n\\nClick here\\n\\n\\n\\n\\n\\n\\n\\nDr. SIVANESAN P\\nSr. Asst. Professor\\nsivanesanict.sastra.eduClick here\\n\\n\\n\\n\\n\\n\\n\\nDr. RAJKUMAR K\\nSr. Asst. Professor\\nrajkumarcse.sastra.edu\\n\\n\\n\\n\\n\\n\\n\\nSchool School of Computing\\nDesignation SAP\\nDepartment CSE\\nEducational QualificationsM.Tech.(CSE),Ph.D.,\\nAreas of InterestComputer Networks,Distributed systems & Network Security\\nORCID URL\\n Click here\\n\\n\\n\\n\\n\\n\\n\\nDr. MANIKANDAN R\\nSr. Asst. Professor\\nmanikandan75core.sastra.eduClick here\\n\\n\\n\\n\\n\\n\\n\\nDr. KARTHIKEYAN B\\nSr. Asst. Professor\\nbkarthikeyanit.sastra.edu\\n\\n\\n\\n\\n\\n\\n\\nSchool School of Computing\\nDesignation SAP\\nDepartment IT\\nEducational QualificationsM.Sc.,M.Tech.,Ph.D\\nAreas of InterestImage Compression, Steganography, Algorithms, Machine Learning\\nORCID URL\\n Click here\\n\\n\\n\\n\\n\\n\\n\\nDr. DENNIS ANANTH A\\nSr. Asst. Professor\\ndennisananthit.sastra.edu',\n",
       " 'What can or should I bring?\\n\\nFlashlight, Batteries Hangers Erasable message board Stationery, stamps Dictionary, Thesaurus Laundry bag/basket Plastic storage crates Alarm clock/Clock radio Pens, Pencils, Erasers, Notebooks Iron Daily Planner Desk lamp Calendar Eating utensils, Tupperware Envelopes, Stamps Towels, washcloths First aid kit Bowls, cups Extension cord Pillows, Mattress pad Stapler, Scissors, Tape Extra-long sheets Umbrella Air fresheners Dust bin Shower slippers Toiletries, hygiene supplies\\n\\nHow can I get involved?Click here\\n\\n\\n\\n\\n\\n\\n\\nDr. LALITHAMBIKA .K.C\\nAsst. Professor - III\\nlalikcleee.sastra.edu\\n\\n\\n\\n\\n\\n\\n\\nSchool School of Electrical and Electronics Engineering\\nDesignation AP - III\\nDepartment Physics\\nEducational QualificationsM.Sc.,M.Phil.,Ph.D.\\nAreas of InterestThin films\\nORCID URL\\n\\nClick here\\n\\n\\n\\n\\n\\n\\n\\nDr. NATARAJAN .S\\nAsst. Professor - III\\nnatarajanseee.sastra.eduEducational QualificationsPh. D - Theoretical Physics - Nonlinear Dynamics\\rCentre for Nonlinear Dynamics, School of Physics, Bharathidasan University, Tiruchirapalli 620 024, India\\r\\rM. Sc., Physics\\rSchool of Physics, Bharathidasan University, Tiruchirapalli 620 024, India\\r\\rB. Sc., Physics\\rGovernment Arts College, Karur, Tamil Nadu, India\\r--------------------------------------------------\\rDetails of Employment and Nature of Duties:\\r--------------------------------------------------\\r> Visiting Research Fellow at the Physics Department, Lancaster University, UK (01-05-2007 to 31-03-2008)\\r\\r>Click here\\n\\n\\n\\n\\n\\n\\n\\nDr. LENIN PRAKASH S\\nAsst. Professor - II\\nleninprakasheee.sastra.edu\\n\\n\\n\\n\\n\\n\\n\\nSchool School of Electrical and Electronics Engineering\\nDesignation AP - II\\nDepartment EEE\\nEducational QualificationsB.Tech., M.E., Ph.D\\nAreas of InterestPower Electronics, Electrical Drives, Electric Vehicles, Power Quality, Renewable Energy Conversion.\\nORCID URL\\n Click here\\n\\n\\n\\n\\n\\n\\n\\nDr. SURESH RAMACHANDRAN\\nAsst. Professor - I - Research\\nsuresheee.sastra.edu',\n",
       " 'Click here\\n\\n\\n\\n\\n\\n\\n\\nDr. SRIDHAR K\\nDean - Research\\nsridharece.sastra.edu\\n\\n\\n\\n\\n\\n\\n\\nSchool School of Electrical and Electronics Engineering\\nDesignation Dean - Research\\nDepartment ECE\\nEducational QualificationsB.E.(ECE) - N.I.T.Trichy\\rM.E.(VLSI Systems) - N.I.T. Trichy\\rPh.D.(Reconfigurable Computing) - SASTRA Deemed University\\nAreas of InterestVLSI Design\\rInformation Security\\rElectronics\\rMicroprocessors and Microcontrollers\\rComputer Networks\\nORCID URL\\n\\nClick here\\n\\n\\n\\n\\n\\n\\n\\nLt. Dr. VIJAYAREKHA .K\\nAssociate Dean - Student Welfare\\nvijayarekhaeee.sastra.eduClick here\\n\\n\\n\\n\\n\\n\\n\\nDr. THENMOZHI .K\\nDean\\nthenmozhikece.sastra.edu\\n\\n\\n\\n\\n\\n\\n\\nSchool School of Electrical and Electronics Engineering\\nDesignation Dean\\nDepartment ECE\\nEducational QualificationsM.E.,Ph.D.\\nAreas of InterestWireless communication,Information Theory and Coding,Information security\\nORCID URL\\n\\nClick here\\n\\n\\n\\n\\n\\n\\n\\nDr. SRIDHAR K\\nDean - Research\\nsridharece.sastra.eduSchool School of Electrical and Electronics Engineering\\nDesignation Dean Sponsored Research\\nDepartment ECESchool School of Computing\\nDesignation Associate Dean - Academics\\nDepartment EIE',\n",
       " 'DAKSH, the international techno-management festival of SASTRA University, is an annual event comprising of a myriad of events involving all trades of engineering. It promises to not only be educating but also refreshing for each participant as it attempts to cross boundaries of knowledge beyond textbooks and classrooms. Having started in 2007, DAKSH is running into its eighth edition now. DAKSH presents an opportunity to students from across the globe to display their techno-managerial skills while participating in a plethora of exciting events, assorted workshops, excellent power talks andStudent ActivitiesASCIEEDakshKuruksastraPlasma CompendiumWadioBiotikosNCCNSSClubsED-CellIIChE Student ChapterASME Students ChapterIEEE SB SASTRAICT@S\\n\\nDakshAs\\xa0a huge platform for students to showcase their technical prowess and management talents, this techno-management extravaganza gets bigger and bigger with each passing year. Boasting of unique events and thousands of participants, DAKSH enters its Edition 8.0\\n\\nTo open the DAKSH 2015 website click here\\n\\nContact\\n\\nSASTRA DEEMED UNIVERSITY\\n\\nTirumalaisamudram\\n\\nThanjavur - 613401\\n\\nTamilnadu, India\\n\\n+91 4362 264101 - 108\\n\\n+91 4362 350001 (20 lines)\\n\\n+91 4362 264120\\n\\nadmissionssastra.edu\\n\\nVisit\\n\\nQuick Links\\n\\nNational Scholarship Portal\\n\\nAcademic Bank of Credits (ABC) Registration\\n\\nDigiLockerEach year brings about varying themes ranging from \"Engineering 360\" to the most recent \"Mahabharata\".\\xa0SASTRA University always believes in encouraging the students so that they may be empowered to open new challenging frontiers for themselves, and this technical festival is one such attempt, giving the students hands on experience in science, technology and management. With the introduction of online events, DAKSH now brings in international participants as well.',\n",
       " 'EVENTS @ KS\\n\\nDANCE\\n\\nWhether it be the moves which would make Michael Jackson cry for joy in heaven(or wherever he is) or the chime of anklets as Bharatanatyam dancers full of finesse gliding across the stage, dance at Kuruksastra has always been a study of contrasts. All the feet tapping and jaw dropping moves are put to test in an event where east meets the west,where the best compete and offer wholesome entertainment at packed auditorium\\n\\nLITERARY EVENTS:\\n\\nENGLISH:Kuruksastra\\n\\n\\n\\n\\n\\nIf Kurukshetra was the greatest battle in Hindu mythology,\\n\\nKuruksastra is the greatest battle of Southern india to establish proven talent and bring to the fore previously unheralded ones. A sublime melange of style and substance, glamour and colour, Kuruksastra, SASTRA\\'s cultural bonanza consists of arts, music, literary events(English, Tamil and Hindi) and dance. Top Institutes from all over India turn up to give fierce competition to each other in the race to win the ultimate prize- the title of overall championship at Kuruksastra.Student ActivitiesASCIEEDakshKuruksastraPlasma CompendiumWadioBiotikosNCCNSSClubsED-CellIIChE Student ChapterASME Students ChapterIEEE SB SASTRAICT@S\\n\\nKuruksastra\\n\\n\\n\\n\\n\\nIf Kurukshetra was the greatest battle in Hindu mythology,Each year brings about varying themes ranging from \"Engineering 360\" to the most recent \"Mahabharata\".\\xa0SASTRA University always believes in encouraging the students so that they may be empowered to open new challenging frontiers for themselves, and this technical festival is one such attempt, giving the students hands on experience in science, technology and management. With the introduction of online events, DAKSH now brings in international participants as well.',\n",
       " 'Saraswathi Sadan, the Central Library of SASTRA is an architectural elegance over an area of about 4,340 sq. m with modern study area, audio–visual room, internet and reprographic facilities. It is the nerve centre of the entire campus catering to the literary and knowledge pursuits of the faculty and students. Responding to the technological developments in the 21st century, SASTRA has adopted automation and integrated Information & Communication Technology tools into the resources and services offered in the Central Library. This has ensured that the library does not become an irrelevantAnnual subscription to bibliographic databases like Web of Sciences providing access to over 16,400 titles is also available. SASTRA is also an associate member of the e-SHODH SINDHU, which provides access to online resources. Online access for all the e-books and e-journals has facilitated on-campus users to access the huge collection from the comfort of their rooms and at their convenience. Access to the vast online resources at the library for SASTRA fraternity when they are off-campus is provided through the Knimbus software tool, enabling connectivity with SASTRA from anywhere around theClick here\\n\\n\\n\\n\\n\\n\\n\\nDr. PRAKASH. I\\nAP - Research\\nprakasheee.sastra.eduStudent ActivitiesASCIEEDakshKuruksastraPlasma CompendiumWadioBiotikosNCCNSSClubsED-CellIIChE Student ChapterASME Students ChapterIEEE SB SASTRAICT@S\\n\\nTemple\\n\\n\\n\\n\\n\\nShri JayaGanapathy temple at SASTRA has always been a centre of spiritual activities and religious learning. The temple was built and consecrated in the year 1993, and recently in July 2011 the temple was re-consecrated with the addition of many new deities to the already present deity congregation.',\n",
       " '10. Vidya Vihar 28 Class rooms for I years 11. Srinivasa Ramanujan Centre 56 Computer programming Laboratory Internet Laboratory Electrical Machines Laboratory Electronics Laboratory Basic Workshop Communications & DSP Laboratory Physics Laboratory Chemistry Laboratory Educational Technology Laboratory Biochemistry Laboratory Microbiology LaboratoryLaboratory VLSI Design Laboratory Internet Laboratory Digital Library INTEL Multicore Lab 7. Jana Chaitanya 6 Computer Laboratory 8. Gnana Vihar 4 Physics Laboratory Chemistry Laboratory Psychometric Analysis Laboratory Language Laboratory 9. Vignana Vihar 6 Technical Analysis Laboratory Applied Physical Chemistry Laboratory Chemical Reaction Engineering Lab Heat and Mass Transfer Laboratory Mechanical Operations Laboratory Instrumental & Fuel Analysis Laboratory Process Simulation Laboratory 10. Vidya Vihar 28 Class rooms for I years 11. Srinivasa Ramanujan Centre 56 Computer programmingS. No. Building No. of Class Rooms Laboratories 1. Nirman Vihar 10 Fluid Mechanics and Machinery Laboratory Geotechnical Engineering Laboratory Survey Lab Concrete and Highway Laboratory Strength of Materials Laboratory Structural Analysis Laboratory CAD Lab Geology Lab 2. Jiva Chaitanya 24 Biochemistry Laboratory Microbiology Laboratory Plant Cell Culture Laboratory Molecular Biology Laboratory Genetic Engg. Laboratory Bioprocess Engg. Laboratory Downstream Processing Lab Histology Laboratory Animal House Dissection Laboratory Biological / Data Banks & Analysis Lab Biochemistry LaboratoryAnimal House Dissection Laboratory Biological / Data Banks & Analysis Lab Biochemistry Laboratory Computational Chemistry Lab Drug Design Laboratory Bioinformatics Tools Laboratory Biological Sequence Analysis Lab Bio computing Laboratory Molecular Biology Techniques Lab Molecular Graphics & Modeling Lab RDBMS Laboratory 3. Vishwakarma Joth 19 Machine Shop CNC Centre Thermal Laboratory Heat Transfer Laboratory CAD/CAM Laboratory Dynamics Laboratory Metrology Laboratory Automobile Laboratory Mechatronics Laboratory Metallurgy Laboratory 4. Vidyut Vihar 33 A.C & D.C Machines Laboratory',\n",
       " 'SASTRA has always believed in catering to the palate and providing wholesome and balanced nutrition in a hygienic environment. A completely balanced vegetarian diet is served in all hostels equipped with steam-cooking facilities. There is also North Indian Cuisine in addition to the South Indian culinary delights.\\n\\n1Gbps\\xa0Wi-Fi is available to all the inmates of the hostels.\\n\\nA well furnished guest house with adquate number of A/C and non-A/C rooms is available for visitors on prior request and subject to availability.\\n\\nGeneral InformationAbout the Guest House \\r\\n\\t\\r\\n\\t\\tWelcome to SASTRA Paradise Guest house. Situated diagonally opposite to our campus, this fully renovated Guest house is most comfortable with 28 rooms, 6 of those being NON- AC and rest fully air conditioned rooms. \\r\\n\\t\\tThe rooms are provided with necessary furniture to work and required modern amenities. \\r\\n\\t\\tSmart TV is also provided with required Wi-Fi facilities.\\r\\n\\t\\tHot and cold water in the bath rooms, comfortable and cozy beds with supporting furnishing makes the stay very pleasurable.Student ActivitiesASCIEEDakshKuruksastraPlasma CompendiumWadioBiotikosNCCNSSClubsED-CellIIChE Student ChapterASME Students ChapterIEEE SB SASTRAICT@S\\n\\nCentral Facilities\\n\\n\\n\\n\\n\\nMajor facilities established in the University are available for all students & faculty from SASTRA as well as from other institutions.\\xa0 The following are \\xa0partial list of equipment \\xa0available on campus for research:\\n\\nField emission transmission electron microscope with energy dispersive spectrometer (FE-TEM)\\n\\nComputer Numerically Controlled turning centres and machining centres (production capacity machines)Student ActivitiesASCIEEDakshKuruksastraPlasma CompendiumWadioBiotikosNCCNSSClubsED-CellIIChE Student ChapterASME Students ChapterIEEE SB SASTRAICT@S\\n\\nHostel Fee\\n\\n\\n\\n\\n\\nHOSTEL LODGING FEE\\n\\nHostel / Room Type Annual Hostel Lodging Fee Single Rs.20,000/- 2 - in - 1 Rs.18,000/- 3-in-1 / 4-in-1 Rs.14,000/- Single (Bath Attached) Rs.28,000/- 2-in-1 (Bath Attached) Rs.24,000/- 3-in-1 / 4-in-1 (Bath Attached) Rs.20,000/-\\n\\nContact\\n\\nSASTRA DEEMED UNIVERSITY\\n\\nTirumalaisamudram\\n\\nThanjavur - 613401\\n\\nTamilnadu, India\\n\\n+91 4362 264101 - 108\\n\\n+91 4362 350001 (20 lines)\\n\\n+91 4362 264120\\n\\nadmissionssastra.edu',\n",
       " \"Hospital\\n\\n\\n\\n\\n\\nSASTRA requires a completed health evaluation form including immunization records on all full time students. Medical treatment given by the nursing staff and doctor on campus is offered without charge to all students. Students are responsible for all other costs, including doctor visits off campus, prescriptions, laboratory tests, ambulance service, and hospital care. Students are responsible for their own transportation to a physician's office and/or to a hospital except in an emergency, when an ambulance will be called.\\n\\nThe following services are providedMedical checkups\\n\\nConsultation and referrals\\n\\nMedication management\\n\\nVaidyanatha Arogyasala' the in-house hospital with 10 beds and regular doctors caters to the medical need of the students. Two fulltime doctors, one resident doctor besides adequate paramedical staff are available at the hospital. The hospital is adequately equipped with sophisticated equipment and is prepared to meet any medical emergency round the clock. The medical consultation is offered free and is also extended to the nearby villages surrounding SASTRA.\\n\\nContact\\n\\nSASTRA DEEMED UNIVERSITY\\n\\nTirumalaisamudramSASTRA has always believed in catering to the palate and providing wholesome and balanced nutrition in a hygienic environment. A completely balanced vegetarian diet is served in all hostels equipped with steam-cooking facilities. There is also North Indian Cuisine in addition to the South Indian culinary delights.\\n\\n1Gbps\\xa0Wi-Fi is available to all the inmates of the hostels.\\n\\nA well furnished guest house with adquate number of A/C and non-A/C rooms is available for visitors on prior request and subject to availability.\\n\\nGeneral InformationNational recognition for research in Indian system of medicine\\n\\nRobust campus wide Wi-Fi connectivity with threat management systems\\n\\nStudent enrichment, soft skills training and gender sensitization programmes\\n\\nFinancial assistanceship, freeships and scholarships to student community\\n\\nResearch exposure to undergraduate students\\n\\nValue-based education opportunities towards all round development of students On-line mentoring system\\n\\nWashington Accord Team lauds SASTRA\",\n",
       " 'Each year brings about varying themes ranging from \"Engineering 360\" to the most recent \"Mahabharata\".\\xa0SASTRA University always believes in encouraging the students so that they may be empowered to open new challenging frontiers for themselves, and this technical festival is one such attempt, giving the students hands on experience in science, technology and management. With the introduction of online events, DAKSH now brings in international participants as well.National recognition for research in Indian system of medicine\\n\\nRobust campus wide Wi-Fi connectivity with threat management systems\\n\\nStudent enrichment, soft skills training and gender sensitization programmes\\n\\nFinancial assistanceship, freeships and scholarships to student community\\n\\nResearch exposure to undergraduate students\\n\\nValue-based education opportunities towards all round development of students On-line mentoring system\\n\\nWashington Accord Team lauds SASTRAstimulus to the grey cells of the brain through its extremely challenging technical problems. This \\nattracts participants from all over the country and provides the cha nce to test our technical skills \\nwith the best in the country.  \\n  \\nCultural Events  \\n \\nThe immensely talented SASTRA students have many student clubs for expressing their talents \\nand creativity.  The cultural team of SASTRA is selected from the highly talented members of \\nthese clubs and the club members meet after working hours each week and hone their skills, planSASTRA houses two technology business incubators (TBI) with the support from Department of Science & Technology (DST) and Department of Biotechnology (DBT). The Foundation for Innovation and Research at SASTRA TBI (FIRST), a Section 8 company established in 2017, is jointly supported by DST and SASTRA to nurture innovations in 3D printing, Internet of Things, Virtual Reality and Augmented Reality. Established at a cost of Rs 1382.23 lakh with a dedicated space of 20,000 sq.ft., FIRST houses a Design facility, Innovation & Training Centre, Rapid Prototyping Centre, incubation & office space,',\n",
       " \"NAAC Accreditation\\n\\nAs a University, SASTRA has been re-accredited in the IV cycle with a maximum GRADE 'A++' by National Assessment and Accreditation Council (NAAC), an autonomous body established by the University Grants Commission. The Score of 3.76 puts SASTRA as number one university of its type in Tamilnadu and amongst the top in the country.Student ActivitiesASCIEEDakshKuruksastraPlasma CompendiumWadioBiotikosNCCNSSClubsED-CellIIChE Student ChapterASME Students ChapterIEEE SB SASTRAICT@S\\n\\nAccreditation & Ranking\\n\\n\\n\\n\\n\\nNational Institute Ranking Framework (NIRF)\\n\\nSASTRA DEEMED UNIVERSITY has consistently secured top ranks in the Engineering category by the NIRF. The data for NIRF has been submitted in Overall, Engineering, Management and Law category. The submitted data is available here\\n\\nNAAC AccreditationTCS Accreditation\\n\\nM/s Tata Consultancy Services Ltd., has accredited SASTRA with ‘A’ grade (Highest) putting SASTRA in the elite company of premier institutes. The MBA programme is also separately accredited by TCS.\\n\\nContact\\n\\nSASTRA DEEMED UNIVERSITY\\n\\nTirumalaisamudram\\n\\nThanjavur - 613401\\n\\nTamilnadu, India\\n\\n+91 4362 264101 - 108\\n\\n+91 4362 350001 (20 lines)\\n\\n+91 4362 264120\\n\\nadmissionssastra.edu\\n\\nVisit\\n\\nQuick Links\\n\\nNational Scholarship Portal\\n\\nAcademic Bank of Credits (ABC) Registration\\n\\nDigiLocker\\n\\nUGC-DEB\\n\\nNCTE\\n\\nNIRF\\n\\nNAAC\\n\\nHeadlines Archives\\n\\nEvents Archives\\n\\nShanMail\\n\\nStudent Mailmany accolades and has brought laurels to the University.  A noteworthy point of mention is that \\nSASTRA is the only team with the most  number of wins (overall championship) at \\nFESTEMBER – the inter -college cultural festival of National Institute of Technology, Trichy. \\nThe annual inter -collegiate national level cultural extravaganza called KURUKSASTRA held in \\nFebruary -March  each year is a  show -stopper and attracts talents from across the country. The \\nstudents get a chance to enchant one and all with their talents in literary and fine arts events.  \\n \\nSports\",\n",
       " 'Sports  \\n \\nIn tune with the popular adage ‘A health mind in a healthy body’ , the University provides \\nadequate facilities for boys and girls to keep themselves fit. The men’s gymnasium named \\n‘Maruti ’ has state -of-the-art facil ities such as tread mill, weights etc., to keep the young men in \\ntop physique. The girl’s gymnasium is in the girl’s hostel and also includes a basket ball court \\nand volleyball court apart from the tread mill and table tennis board.   \\n \\nThe annual intra-mural sports festival of SASTRA aptly named FUERA is a hotly contestedStudent ActivitiesASCIEEDakshKuruksastraPlasma CompendiumWadioBiotikosNCCNSSClubsED-CellIIChE Student ChapterASME Students ChapterIEEE SB SASTRAICT@S\\n\\nSports\\n\\n\\n\\n\\n\\nIndoor Stadium\\n\\nTo promote excellence in sports and provide organized relaxation and entertainment, an indoor stadium “MARUTI” has been constructed and equipped with billiards tables, badminton courts, a basketball court, table tennis, and carrom board with indoor lighting facility.\\n\\nGymnasium - \"Mens Sana, In Corpore Sano\"The annual intra-mural sports festival of SASTRA aptly named FUERA is a hotly contested \\ntournament. Apart from track & field, t he talents of the participants is put into acid test in team \\nevents such as cricket, football, hockey, basket ball, volleyball, Frisbee, badminton, table tennis, \\nchess etc. Body building and weight lifting are other popular categories in FUERA. The \\ncompeti tions provide the right environment for youngsters to get selected for the University \\nteam. The SASTRA sports teams have won places in the district and zonal levels and haveteam. The SASTRA sports teams have won places in the district and zonal levels and have \\nparticipated in national level contests.  The SASTRA team has won awards at TIES – the state \\nlevel Tamilnadu Inter -Engineering Sports.  The students’ teams have won laurels in the \\nbasketball, table tennis, kabaddi and have made a mark in body building, weight lifting, \\nswimming and Go -karting.  The students are guided to sporting glory b y an experienced physical \\ndirector, an enthusiastic physical directress and a weight trainer. The annual inter -collegiate',\n",
       " 'The student clubs organize CARPE DIEM – the annual intramural cultural festival of SASTRA \\nand the stu dent coordinators of each club are actively involved in screening and short -listing the \\nscores of talents that participate in the various events.  This festival provides a great opportunity \\nfor freshers to get into the University cultural team. The cultura l team of SASTRA is endowed \\nwith amazing talents and leaves an indelible mark wherever it participates.  The team has won \\nmany accolades and has brought laurels to the University.  A noteworthy point of mention is thatthese clubs and the club members meet after working hours each week and hone their skills, plan \\nand practice for their upcoming events.  Each club has its student and staff coordinators and \\ncommences its activities every academic year and has a final showdown at the end of each \\nacademic year which is very popular.  The various students clubs that are currently active at \\nSASTRA are listed below:  \\n\\uf0a7 Auto club  \\n\\uf0a7 Literary clubs (Tamil, English, Hindi and Telugu)  \\n\\uf0a7 Oratory & Debating clubs (Tamil, English, H indi and Telugu)  \\n\\uf0a7 Fine-Arts club (Music, Dance, Painting)Student ActivitiesASCIEEDakshKuruksastraPlasma CompendiumWadioBiotikosNCCNSSClubsED-CellIIChE Student ChapterASME Students ChapterIEEE SB SASTRAICT@S\\n\\nBest Practices\\n\\n\\n\\n\\n\\nSASTRA has adopted several best practices towards performance excellence. Some of the best practices followed are:\\n\\nTransparent merit-based admission\\n\\nEmphasis on outcome-based and experiential learning\\n\\nImpactful pedagogy\\n\\nAccelerated Credit Registration System providing flexibility\\n\\nSemester Abroad Programme offers international exposure in premier institutions\\n\\nSoft skills as an essential part of curriculumHonours courses: Students with CGPA ≥ 7.5 are permitted to enrol for additional courses in their discipline offered by SASTRA or online platforms like Coursera, SWAYAM etc., on a self-study mode.\\n\\nFellowships: Students are encouraged to apply and undertake fellowships at reputed national institutes through the Indian Academies by facilitating their joining the next semester at a later date.\\n\\nCompetitive exams preparation: Students appearing for competitive exams like GATE, CSIR-NET, etc., are mentored by experienced faculty.',\n",
       " 'Click here\\n\\n\\n\\n\\n\\n\\n\\nDr. MANJULA KR\\nAssociate Professor\\nmanjulacse.sastra.edu\\n\\n\\n\\n\\n\\n\\n\\nSchool School of Computing\\nDesignation Associate Professor\\nDepartment CSE\\nEducational QualificationsMCA., M.Tech., Ph.D\\nAreas of InterestData Mining, Geo-Spatial Data Mining, Web Mining,\\rGIS & Remote Sensing, Image Processing and Analysis,\\rSpatial Uncertainty,GIS Ontology,\\rObject Oriented Analysis & Design, \\rObject Based Data Modeling,  \\rSustainable Resources - Green Technology, \\rBig Data Analytics\\nORCID URL\\n\\nClick here\\n\\n\\n\\n\\n\\n\\n\\nDr. PRIYADARSINI PLK\\nAssociate Professor\\npriya.ayyagariit.sastra.eduClick here\\n\\n\\n\\n\\n\\n\\n\\nDr. PRIYADARSINI PLK\\nAssociate Professor\\npriya.ayyagariit.sastra.edu\\n\\n\\n\\n\\n\\n\\n\\nSchool School of Computing\\nDesignation Associate Professor\\nDepartment IT\\nEducational QualificationsM.C.A. (SPMVV, Tirupati, AP, 1994)\\rPh.D  (NIT, Trichy, TN, 2009)\\nAreas of InterestMachine Learning, Data Analytics, Algorithms, Computational Complexity, Graph Theory, Image Processing\\nORCID URL\\n\\nClick here\\n\\n\\n\\n\\n\\n\\n\\nDr. SASIKALA DEVI N\\nAssociate Professor\\nsasicse.sastra.eduClick here\\n\\n\\n\\n\\n\\n\\n\\nDr. KANNAN BALASUBRAMANIAN\\nProfessor\\nkannanbcse.sastra.edu\\n\\n\\n\\n\\n\\n\\n\\nSchool School of Computing\\nDesignation Professor\\nDepartment CSE\\nEducational QualificationsM.Sc. (Tech.) (Birla Institute of Technology and Science,Pilani),  M.Tech (Indian Institute of Technology, Bombay), Ph.D (University of California, Los Angeles)\\nAreas of InterestCOMPUTER NETWORKS,NETWORK SECURITY,CYBER SECURITY,MACHINE LEARNING\\nORCID URL\\n\\nClick here\\n\\n\\n\\n\\n\\n\\n\\nDr. MANJULA KR\\nAssociate Professor\\nmanjulacse.sastra.eduDr. PRABAHARAN L\\nAsst. Professor - II\\nprabaharanlmca.sastra.edu\\n\\n\\n\\n\\n\\n\\n\\nSchool School of Computing\\nDesignation AP - II\\nDepartment MCA\\nEducational QualificationsMCA,M.Phil.,M.Tech\\nAreas of InterestMusic Technology, Programming, Mobile Computing\\nORCID URL\\n\\nClick here\\n\\n\\n\\n\\n\\n\\n\\nDr. RENUGA DEVI T\\nAsst. Professor - II\\nrenugadevicse.sastra.edu\\n\\n\\n\\n\\n\\n\\n\\nSchool School of Computing\\nDesignation AP - II\\nDepartment CSE\\nEducational QualificationsM.Tech (CSE),\\rPhD\\nAreas of InterestEnergy Management based virtual Machine scheduling, Optimization techniques, Data structures, Operating systems\\nORCID URL',\n",
       " \"Click here\\n\\n\\n\\n\\n\\n\\n\\nDr. BETTY MARTIN\\nSr. Asst. Professor\\nbettymartinece.sastra.edu\\n\\n\\n\\n\\n\\n\\n\\nSchool School of Computing\\nDesignation SAP\\nDepartment IT\\nEducational QualificationsPhD: Signal Processing, \\rPG:  M.E in Electronics and Control Engineering, \\rUG:  B.E Electronics and Telecommunication\\nAreas of Interest1. Detection of Red Palm Weevil in Palms using smart sensors\\r2. Signal Processing in acoustics\\r3. Design and Implementation of PPG sensor for brain mapping using fMRI as Gold Standard\\r4. Coherence Analysis of Electroencephalogram and Photoplethysmogram\\nORCID URL\\n\\nClick hereClick here\\n\\n\\n\\n\\n\\n\\n\\nDr. SIVANESAN P\\nSr. Asst. Professor\\nsivanesanict.sastra.edu\\n\\n\\n\\n\\n\\n\\n\\nSchool School of Computing\\nDesignation SAP\\nDepartment ICT\\nEducational QualificationsM.E.,Ph.D\\nAreas of InterestWireless Communications, Mobile Ad hoc Networks, Wireless Sensor Networks and Vehicular Ad hoc Networks\\nORCID URL\\n\\nClick here\\n\\n\\n\\n\\n\\n\\n\\nDr. BETTY MARTIN\\nSr. Asst. Professor\\nbettymartinece.sastra.eduYou need JavaScript enabled to view it. 04362/350001 Extn: 2346 26 Finance Office This email address is being protected from spambots. You need JavaScript enabled to view it. 04362/350001 Extn: 2105 27 Guest House This email address is being protected from spambots. You need JavaScript enabled to view it. 04362/350001 Extn: 2712 28 Internal Complaints Committee This email address is being protected from spambots. You need JavaScript enabled to view it. 04362/350018 29 TBI-FIRST This email address is being protected from spambots. You need JavaScript enabled to view it. 04362/350001 Extn: 2776S.No School / Office E.Mail Phone 1 Chancellor's Office This email address is being protected from spambots. You need JavaScript enabled to view it. 04362/350002 2 VC's Office This email address is being protected from spambots. You need JavaScript enabled to view it. 04362/350003 3 Registrar Office This email address is being protected from spambots. You need JavaScript enabled to view it. 04362/350004 4 Vice - Chancellor This email address is being protected from spambots. You need JavaScript enabled to view it. 04362/350003 5 Registrar This email address is being protected from spambots.\"]"
      ]
     },
     "execution_count": 158,
     "metadata": {},
     "output_type": "execute_result"
    }
   ],
   "source": [
    "references"
   ]
  },
  {
   "cell_type": "code",
   "execution_count": 156,
   "metadata": {},
   "outputs": [],
   "source": [
    "# ref = ''\n",
    "# for doc in retrieve_docs:\n",
    "#     ref=ref+doc.page_content\n",
    "# ref"
   ]
  },
  {
   "cell_type": "code",
   "execution_count": 166,
   "metadata": {},
   "outputs": [
    {
     "data": {
      "text/plain": [
       "['5.5.6 Students in the B. Tech. programme have an option of completing their course work \\nrequirements by VII semester through the Accelerated Course Registration System \\n(ACRS) and devote the VIII semester to do project work in academic institutions or R&D \\ncentres or industries in India or in premier institutions abroad.  ACRS is meant for high \\nand consistent performers who maintain a minimum CGPA and SGPA of 7.5.  Students \\nwith history of F or E grades are not eligible \\n \\n5.5.7 Students’ at the end of the V semester with the minimum CGPA of 7.5, may be permittedStudent ActivitiesASCIEEDakshKuruksastraPlasma CompendiumWadioBiotikosNCCNSSClubsED-CellIIChE Student ChapterASME Students ChapterIEEE SB SASTRAICT@S\\n\\nAcademic Flexibility\\n\\n\\n\\n\\n\\nSASTRA is sensitive to the learning abilities of diverse students and provides adequate avenues to accommodate such diverse learning abilities.\\n\\nThe following opportunities are provided for advanced learners:\\n\\nAccelerated Credit\\xa0Registration System (ACRS): Students with CGPA ≥ 7.5 can register for an open elective course each semester commencing from 4th semester onwards so that the finalsProject  12 \\nHR Skills  04 \\n \\n2.3 Accelerated Course R egistration System:  \\n \\nSASTRA University provides unique opportunity to students for completing the course \\nwork within even semesters, thereby enabling them to utilize eighth semester solely for \\nproject work. Students without any history of arrears can study  open elective courses that \\nare offered after regular class hours (after 5 pm.) from semesters IV to semesters VII, \\nthereby satisfying the credit requirement for core, department electives and open electives \\nwithin seven semesters.Student ActivitiesASCIEEDakshKuruksastraPlasma CompendiumWadioBiotikosNCCNSSClubsED-CellIIChE Student ChapterASME Students ChapterIEEE SB SASTRAICT@S\\n\\nCentral Animal Facility\\n\\n\\n\\n\\n\\nCENTRAL ANIMAL FACILITY\\n\\n(Accredited by NABL for Biological Testing, Approval No. T-3331)\\n\\nSASTRA houses a full-fledged (CPCSEA Registration No: 817/04/ac/CPCSEA) state-of- the-art Central Animal Facility (CAF) of 16,358 sq.ft. for the conduct of pre-clinical studies. The major objectives of the facility are to\\n\\nØ\\xa0 conduct high quality animal research',\n",
       " 'Click here\\n\\n\\n\\n\\n\\n\\n\\nDr. UMA .D\\nSr. Asst. Professor\\numavijayeee.sastra.edu\\n\\n\\n\\n\\n\\n\\n\\nSchool School of Electrical and Electronics Engineering\\nDesignation SAP\\nDepartment EEE\\nEducational QualificationsM.E(POWER ELECTRONICS & DRIVES)\\rRegistered Ph.D in SASTRA University\\nAreas of InterestFACTS,power Quality\\nORCID URL\\n\\nClick here\\n\\n\\n\\n\\n\\n\\n\\nDr. BALASUBRAMANIAN .G\\nSr. Asst. Professor\\nBalu_eieeie.sastra.eduClick here\\n\\n\\n\\n\\n\\n\\n\\nDr. KANNAN BALASUBRAMANIAN\\nProfessor\\nkannanbcse.sastra.edu\\n\\n\\n\\n\\n\\n\\n\\nSchool School of Computing\\nDesignation Professor\\nDepartment CSE\\nEducational QualificationsM.Sc. (Tech.) (Birla Institute of Technology and Science,Pilani),  M.Tech (Indian Institute of Technology, Bombay), Ph.D (University of California, Los Angeles)\\nAreas of InterestCOMPUTER NETWORKS,NETWORK SECURITY,CYBER SECURITY,MACHINE LEARNING\\nORCID URL\\n\\nClick here\\n\\n\\n\\n\\n\\n\\n\\nDr. MANJULA KR\\nAssociate Professor\\nmanjulacse.sastra.eduClick here\\n\\n\\n\\n\\n\\n\\n\\nDr. BHASKARAN S\\nAsst. Professor - II\\nbhaskaranmca.sastra.edu\\n\\n\\n\\n\\n\\n\\n\\nSchool School of Computing\\nDesignation AP - II\\nDepartment MCA\\nEducational QualificationsM.C.A., M.Phil(CS), M.Tech(IT), Ph.D\\nAreas of InterestSoft Computing, Artificial Intelligence, E-Learning\\nORCID URL\\n\\nClick here\\n\\n\\n\\n\\n\\n\\n\\nMr. VENKATA SUBRAMANIAN N\\nAsst. Professor - II\\ntyrvenkatmca.sastra.edu\\n\\n\\n\\n\\n\\n\\n\\nSchool School of Computing\\nDesignation AP - II\\nDepartment MCA\\nEducational QualificationsMCA, Ph.D (Pursuing)\\nAreas of InterestCloud Computing\\nORCID URL\\n\\nClick hereClick here\\n\\n\\n\\n\\n\\n\\n\\nDr. BALASUBRAMANIAN .R\\nSr. Asst. Professor\\nrbalueee.sastra.edu\\n\\n\\n\\n\\n\\n\\n\\nSchool School of Electrical and Electronics Engineering\\nDesignation SAP\\nDepartment EEE\\nEducational QualificationsB.E(Electrical and Electronics Engineering)University of Madras,\\rM.Tech (Control systems and instrumentation) SASTRA Deemed University\\rPhD (Power quality improvement) SASTRA Deemed University\\nAreas of InterestPower Quality improvement, Control systems, Power Electronics\\nORCID URL\\n\\nClick here\\n\\n\\n\\n\\n\\n\\n\\nDr. SRIRANJANI .R\\nSr. Asst. Professor\\nmathusrieee.sastra.edu',\n",
       " \"Faculty Key List\\nSchool of Electrical and Electronics Engineering\\n\\n\\n\\n\\n\\n\\n\\n\\n\\nDr. JOHN BOSCO BALAGURU .R\\nDean Sponsored Research\\nrjboscoece.sastra.eduSchool School of Electrical and Electronics Engineering\\nDesignation Associate Professor\\nDepartment PhysicsSchool School of Electrical and Electronics Engineering\\nDesignation AP - Research\\nDepartment Physics\\nEducational QualificationsPost Doctoral Research\\rS.N. Bose National Centre for Basic Sciences, Kolkatta India.\\r\\rPh.D.(Physics)\\rBharathidasan University, Tiruchirappalli, Tamilnadu India\\r\\rM.Sc.(Physics)\\rBharathidasan University, Tiruchirappalli, Tamilnadu India\\r\\rB.Sc(Physics)\\rSt.John's College, Tirunelveli, India.\\nAreas of InterestMagnetization Switching Dynamics\\r\\rSpin Torque Nano-Oscillators\\r\\rSpin Waves in Magnonic Crystals\\r\\rDomain Wall Dynamics\\nORCID URL\\n\\nClick hereClick here\\n\\n\\n\\n\\n\\n\\n\\nDr. JOY CHRISTY A\\nAsst. Professor - II\\njoychristycse.sastra.edu\\n\\n\\n\\n\\n\\n\\n\\nSchool School of Computing\\nDesignation AP - II\\nDepartment CSE\\nEducational QualificationsPh.D.,\\nAreas of InterestData Mining, Software Metrics, Web Services, Big Data\\nORCID URL\\n\\nClick here\\n\\n\\n\\n\\n\\n\\n\\nDr. IFJAZ AHMED M\\nAsst. Professor - II\\nifjazahmedit.sastra.edu\\n\\n\\n\\n\\n\\n\\n\\nSchool School of Computing\\nDesignation AP - II\\nDepartment IT\\nEducational QualificationsMCA., Ph.D., \\nAreas of InterestDigital Image Processing\\rSteganography\\nORCID URL\\n\\nClick here\",\n",
       " 'What full-time programmes does SASTRA offer? \\r\\n\\r\\n\\t\\r\\n\\tTHANJAVUR CAMPUS\\r\\n\\r\\n\\tB. Tech., (with various minor specializations), M. Tech. (5-Year integrated), M. Tech., M. Sc. (2-Year programmes in Biotechnology, Chemistry, Data Sciences, Bioinformatics & Physics), M.C.A., M.B.A., B. Com. (CA), B. Com. (BFSI), B.A./B.Com./B.B.A., LL.B, (Hons.), B.Sc./B.A., B.Ed. (4-year integrated programmes in English, Mathematics & Physics), M.Sc. (5-year integrated programmes in Biotechnology, Chemistry, Data Sciences & Physics), M. Optom. & B. Optom. courses are offered.\\r\\n\\r\\n\\tKUMBAKONAM CAMPUSStudent ActivitiesASCIEEDakshKuruksastraPlasma CompendiumWadioBiotikosNCCNSSClubsED-CellIIChE Student ChapterASME Students ChapterIEEE SB SASTRAICT@S\\n\\nProgrammes\\n\\n\\n\\n\\n\\nB.Tech. Aerospace Engineering\\n\\nB.Tech. Bioengineering\\n\\nB.Tech. Bioinformatics\\n\\nB.Tech. Biotechnology\\n\\nB.Tech. Chemical Engineering\\n\\nB.Tech. Civil Engineering\\n\\nB.Tech. Computer Science & Business Systems\\n\\nB.Tech. Computer Science & Engineering\\n\\nB.Tech. Computer Science & Engineering (Artificial Intelligence & Data Science)\\n\\nB.Tech. Computer Science & Engineering (Cyber Security & Block Chain Technology)Is there any other method for admission to B.Tech. programmes?\\r\\n\\t\\r\\n\\tAdmissions will be done by the Office of Admissions of SASTRA, either in Stream 1 or 2 basis. \\xa0Do not fall prey to any unauthorized persons / agencies who claim proximity to SASTRA admissions office. Admissions are based only on merit and only tuition fees will have to be paid. No donations or capitation fee. \\xa0Kindly bring it to the notice of the Office of Admissions if any unauthorized persons / agency approaches you promising admissions.UG Programmes\\n\\nThe SASTRA Chennai campus offers 4-Year Honours with an exit option at the end of the 3rd\\xa0year. The following are the programmes to be offered from the academic year 2024-25:\\n\\nBachelor of Arts Economics & Public Policy\\n\\nBachelor of Arts Journalism & Electronic Media\\n\\nBachelor of Arts Journalism & Visual Communications\\n\\nBachelor of Commerce (B.Com.) with Minor Specialisations in the area of Business Process, Financial Markets , Corporate Finance & Strategy, Economics & Public Policy',\n",
       " 'How are admissions done? \\r\\n\\t\\r\\n\\tThe Admissions to various B. Tech. and 5-Year Integrated M. Tech. programmes of SASTRA (Thanjavur & Kumbakonam) shall be done in the following way:\\r\\n\\r\\n\\tStream 1 – JEE-Main Score & Class XII Score: Admission to 50% of seats shall be based on normalised aggregate Class XII Scores and available JEE Main (2024) scores taken together with 50% weightage each. \\xa0Seats shall be filled based on the Ranks Secured by student.Is there any other method for admission to B.Tech. programmes?\\r\\n\\t\\r\\n\\tAdmissions will be done by the Office of Admissions of SASTRA, either in Stream 1 or 2 basis. \\xa0Do not fall prey to any unauthorized persons / agencies who claim proximity to SASTRA admissions office. Admissions are based only on merit and only tuition fees will have to be paid. No donations or capitation fee. \\xa0Kindly bring it to the notice of the Office of Admissions if any unauthorized persons / agency approaches you promising admissions.What is the eligibility?\\r\\n\\t\\r\\n\\tB.Tech. (with minor specialization) / 5 Year Integrated M. Tech. Programme\\r\\n\\r\\n\\tA pass in the +2 examination with Mathematics & Physics as compulsory subjects of study with either Chemistry / Biotechnology / Computer Science / Biology and recognized by any State Board / Central Board or any other Board accepted by SASTRA as equivalent to 10+2 examination, with a minimum +2 aggregate of 60% marks in a single sitting.2.1 Candidates for admission to the first semester of B.Tech. / M.Tech. (Integrated) degree \\nprogrammes should have passed the final examination of +2 Higher Secondary Course \\nin the academic stream (with Mathematics, Physics and Chemistry as subjects of study) \\nor vocational stream (with Mathematics as one of the subjects of study) conducted by \\nthe Board of Secondary Education, Government of Tamil Nadu or an Examination of any \\nother authority accepted by the Board of Management of SASTRA as equivalent thereto .',\n",
       " \"SASTRA has always believed in catering to the palate and providing wholesome and balanced nutrition in a hygienic environment. A completely balanced vegetarian diet is served in all hostels equipped with steam-cooking facilities. There is also North Indian Cuisine in addition to the South Indian culinary delights.\\n\\n1Gbps\\xa0Wi-Fi is available to all the inmates of the hostels.\\n\\nA well furnished guest house with adquate number of A/C and non-A/C rooms is available for visitors on prior request and subject to availability.\\n\\nGeneral InformationAbout the Guest House \\r\\n\\t\\r\\n\\t\\tWelcome to SASTRA Paradise Guest house. Situated diagonally opposite to our campus, this fully renovated Guest house is most comfortable with 28 rooms, 6 of those being NON- AC and rest fully air conditioned rooms. \\r\\n\\t\\tThe rooms are provided with necessary furniture to work and required modern amenities. \\r\\n\\t\\tSmart TV is also provided with required Wi-Fi facilities.\\r\\n\\t\\tHot and cold water in the bath rooms, comfortable and cozy beds with supporting furnishing makes the stay very pleasurable.Student ActivitiesASCIEEDakshKuruksastraPlasma CompendiumWadioBiotikosNCCNSSClubsED-CellIIChE Student ChapterASME Students ChapterIEEE SB SASTRAICT@S\\n\\nCentral Facilities\\n\\n\\n\\n\\n\\nMajor facilities established in the University are available for all students & faculty from SASTRA as well as from other institutions.\\xa0 The following are \\xa0partial list of equipment \\xa0available on campus for research:\\n\\nField emission transmission electron microscope with energy dispersive spectrometer (FE-TEM)\\n\\nComputer Numerically Controlled turning centres and machining centres (production capacity machines)Student ActivitiesASCIEEDakshKuruksastraPlasma CompendiumWadioBiotikosNCCNSSClubsED-CellIIChE Student ChapterASME Students ChapterIEEE SB SASTRAICT@S\\n\\nHostel\\n\\n\\n\\n\\n\\nThere are 9 boys' hostel and 6 girls' hostels providing accommodation to over 4000 boys and 2400 girls.\\n\\nThe hostels are of the following types:\\n\\n1. Single Room / 2-in-1 / 4-in1 (Bath Attached).\\n\\n2. Single Room / 2-in-1 / 3-in-1 / 4-in-1 / 5-in-1 / 6-in-1\\n\\nThe fees Structure is given below :\\n\\nClick here\",\n",
       " \"Is hostel facility available?\\r\\n\\t\\r\\n\\tThere are separate hostels for boys and girls in Thanjavur campus. \\xa0First year students will be provided shared accommodation. \\xa0The charges for food will be at actual based on dividing system and will approximately be around Rs 4,000 per month. \\xa0You can assume that you will stay for 10 months in a calendar year.\\r\\n\\r\\n\\tSingle room, Two-in-one, Three- in-one and Four-in-one (with or w/o bath attached facilities) will be available from second year onwards.\\r\\n\\r\\n\\tHostel fees is available at Click hereStudent ActivitiesASCIEEDakshKuruksastraPlasma CompendiumWadioBiotikosNCCNSSClubsED-CellIIChE Student ChapterASME Students ChapterIEEE SB SASTRAICT@S\\n\\nHostel\\n\\n\\n\\n\\n\\nThere are 9 boys' hostel and 6 girls' hostels providing accommodation to over 4000 boys and 2400 girls.\\n\\nThe hostels are of the following types:\\n\\n1. Single Room / 2-in-1 / 4-in1 (Bath Attached).\\n\\n2. Single Room / 2-in-1 / 3-in-1 / 4-in-1 / 5-in-1 / 6-in-1\\n\\nThe fees Structure is given below :\\n\\nClick hereHostel fees is available at Click here\\r\\n\\r\\n\\tPrivate accommodation available in Kumbakonam & Chennai campuses.Tariff \\r\\n\\t\\r\\n\\t\\r\\n\\t\\t\\r\\n\\t\\tGuest House\\r\\n\\t\\t\\r\\n\\t\\tCATEGORY\\r\\n\\t\\tROOM RENT (Excluding Breakfast)\\r\\n\\t\\tREMARKS\\r\\n\\t\\t\\r\\n\\t\\t\\r\\n\\t\\tA/c\\r\\n\\t\\t1000 ( One person )\\r\\n\\t\\tFor one extra person Rs.250 to be paid additionally\\r\\n\\t\\t\\r\\n\\t\\t\\r\\n\\t\\tNon-A/c\\r\\n\\t\\t700 ( One person )\\r\\n\\t\\tFor one extra person Rs.250 to be paid additionally\\r\\n\\t\\t\\r\\n\\t\\t\\r\\n\\t\\r\\n\\t\\t\\xa0\\r\\n\\t\\tNOTE:\\r\\n\\t\\t\\r\\n\\t\\tRoom categories are subject to availability.\\r\\n\\t\\tThe room rent is Exclusive of GST 12%.\\r\\n\\t\\t100% Payment to be made in advance. \\r\\n\\t\\tAdvance payment will not be refunded in case of cancellation.\\r\\n\\t\\t24 Hours check in / checkout.\\r\\n\\t\\tRoom tariff subject to change without prior notice.\",\n",
       " '9.5 Calculation of Cumulative Grade Point Average (CGPA)  \\n \\nCGPA is calculated from SGPA of the current and previous semesters.  Hence, it is an \\nindicator of the performance of a student over the period of study.  CGPA is calculated \\nas follows: \\n \\nLet ‘(SGPA) i‘ be the SGPA of a student in ith semester, \\nLet ‘N i’ be the number of credits taken by the student in ith semester, \\nLet ‘k’ be the number of semesters that a student has undergone, \\n \\n𝐶𝐺𝑃𝐴= ∑(𝑆𝐺𝑃𝐴)\\u0bdc𝑁\\u0bdc\\u0bde\\n\\u0bdcୀଵ\\n∑𝑁\\u0bdc\\u0bde\\n\\u0bdcୀଵ=𝑆𝐺𝑃𝐴ଵ𝑁ଵ+𝑆𝐺𝑃𝐴ଶ𝑁ଶ+ ……….+ 𝑆𝐺𝑃𝐴\\u0bde𝑁\\u0bde\\n𝑁ଵ+ ……….+ 𝑁\\u0bde \\n \\n10. CLASSIFICATION OF RESULT9.4 The average performance of a student in a particular semester is expressed as \\nSemester Grade Point Average (SGPA). It is calculated for each semester as follows: \\n \\nLet `C i’ be the credit assigned to the ith course,  \\nLet `P i’ be the grade point secured in the ith course, \\nLet `n’ be the number of courses for which the student has registered for the \\nexaminations, \\n \\n𝑆𝐺𝑃𝐴= ∑𝐶\\u0bdc\\u0be1\\n\\u0bdcୀଵ𝑃\\u0bdc\\n∑𝐶\\u0bdc\\u0be1\\n\\u0bdcୀଵ=𝐶ଵ𝑃ଵ+𝐶ଶ𝑃ଶ+⋯…………………..+ 𝐶\\u0be1𝑃\\u0be1\\n𝐶ଵ+𝐶ଶ+⋯…………………..+ 𝐶\\u0be1\\u0bdcୀଵ\\n∑𝑁\\u0bdc\\u0bde\\n\\u0bdcୀଵ=𝑆𝐺𝑃𝐴ଵ𝑁ଵ+𝑆𝐺𝑃𝐴ଶ𝑁ଶ+ ……….+ 𝑆𝐺𝑃𝐴\\u0bde𝑁\\u0bde\\n𝑁ଵ+ ……….+ 𝑁\\u0bde \\n \\n10. CLASSIFICATION OF RESULT  \\n \\n10.1 Students admitted to the B. Tech. programme, securing a CGPA of 7.5 and above shall \\nbe deemed to have passed in first class with distinction provided all the courses are \\npassed in the first attempt in the end semester examinations within the stipulated 8 \\nsemesters or 6 semesters for lateral entry students \\n \\n10.2 Students admitted to the M.Tech. (Integrated) programme, securing a CGPA of 7.5 and \\nabove shall be deemed to have passed in first class with distinction provided all thecredited course with a weightage of 50 marks \\n \\n6.4 A letter grade, corresponding to the marks secured by the student is awarded for each \\ncourse for which a student has registered. On obtaining a pass grade, the student \\naccumulates the course credits as earned credits. A student’s performance is measured \\nby the number of credits that the student has earned and the weighted grade point',\n",
       " '9.4 The average performance of a student in a particular semester is expressed as \\nSemester Grade Point Average (SGPA). It is calculated for each semester as follows: \\n \\nLet `C i’ be the credit assigned to the ith course,  \\nLet `P i’ be the grade point secured in the ith course, \\nLet `n’ be the number of courses for which the student has registered for the \\nexaminations, \\n \\n𝑆𝐺𝑃𝐴= ∑𝐶\\u0bdc\\u0be1\\n\\u0bdcୀଵ𝑃\\u0bdc\\n∑𝐶\\u0bdc\\u0be1\\n\\u0bdcୀଵ=𝐶ଵ𝑃ଵ+𝐶ଶ𝑃ଶ+⋯…………………..+ 𝐶\\u0be1𝑃\\u0be1\\n𝐶ଵ+𝐶ଶ+⋯…………………..+ 𝐶\\u0be19.5 Calculation of Cumulative Grade Point Average (CGPA)  \\n \\nCGPA is calculated from SGPA of the current and previous semesters.  Hence, it is an \\nindicator of the performance of a student over the period of study.  CGPA is calculated \\nas follows: \\n \\nLet ‘(SGPA) i‘ be the SGPA of a student in ith semester, \\nLet ‘N i’ be the number of credits taken by the student in ith semester, \\nLet ‘k’ be the number of semesters that a student has undergone, \\n \\n𝐶𝐺𝑃𝐴= ∑(𝑆𝐺𝑃𝐴)\\u0bdc𝑁\\u0bdc\\u0bde\\n\\u0bdcୀଵ\\n∑𝑁\\u0bdc\\u0bde\\n\\u0bdcୀଵ=𝑆𝐺𝑃𝐴ଵ𝑁ଵ+𝑆𝐺𝑃𝐴ଶ𝑁ଶ+ ……….+ 𝑆𝐺𝑃𝐴\\u0bde𝑁\\u0bde\\n𝑁ଵ+ ……….+ 𝑁\\u0bde \\n \\n10. CLASSIFICATION OF RESULTattendance of a student will be the number of periods attended divided by the total \\nnumber of periods actually conducted from the date of his/her admission and multiplied \\nby 100Honours courses: Students with CGPA ≥ 7.5 are permitted to enrol for additional courses in their discipline offered by SASTRA or online platforms like Coursera, SWAYAM etc., on a self-study mode.\\n\\nFellowships: Students are encouraged to apply and undertake fellowships at reputed national institutes through the Indian Academies by facilitating their joining the next semester at a later date.\\n\\nCompetitive exams preparation: Students appearing for competitive exams like GATE, CSIR-NET, etc., are mentored by experienced faculty.',\n",
       " \"S.No School / Office E.Mail Phone 1 Chancellor's Office This email address is being protected from spambots. You need JavaScript enabled to view it. 04362/350002 2 VC's Office This email address is being protected from spambots. You need JavaScript enabled to view it. 04362/350003 3 Registrar Office This email address is being protected from spambots. You need JavaScript enabled to view it. 04362/350004 4 Vice - Chancellor This email address is being protected from spambots. You need JavaScript enabled to view it. 04362/350003 5 Registrar This email address is being protected from spambots.Contact Details:\\r\\n\\t\\r\\n\\t\\r\\n\\t\\t\\r\\n\\t\\t\\t\\r\\n\\t\\t\\t\\tOffice of Admissions :\\r\\n\\t\\t\\t\\t\\r\\n\\t\\t\\t\\tSASTRA Deemed University\\r\\n\\r\\n\\t\\t\\t\\tThanjavur\\xa0 613 401\\r\\n\\r\\n\\t\\t\\t\\tGeneral Admission Helpdesk: +91 4362 350011-15\\r\\n\\t\\t\\t\\tThis email address is being protected from spambots. You need JavaScript enabled to view it.\\r\\n\\r\\n\\t\\t\\t\\tNRI Admissions: +91 4362 350016\\r\\n\\t\\t\\t\\tThis email address is being protected from spambots. You need JavaScript enabled to view it.\\r\\n\\r\\n\\t\\t\\t\\t\\xa0\\r\\n\\r\\n\\t\\t\\t\\tSASTRA Deemed University\\r\\n\\r\\n\\t\\t\\t\\tKumbakonam\\xa0 612 001\\r\\n\\r\\n\\t\\t\\t\\tGeneral Admission Helpdesk: +91 435 2426823Kumbakonam\\xa0 612 001\\r\\n\\r\\n\\t\\t\\t\\tGeneral Admission Helpdesk: +91 435 2426823\\r\\n\\r\\n\\t\\t\\t\\tThis email address is being protected from spambots. You need JavaScript enabled to view it.\\r\\n\\r\\n\\t\\t\\t\\t\\xa0\\r\\n\\r\\n\\t\\t\\t\\tSASTRA Deemed University\\r\\n\\r\\n\\t\\t\\t\\tChennai 600 083\\r\\n\\r\\n\\t\\t\\t\\tGeneral Admission Helpdesk: +91 44 23650027\\r\\n\\r\\n\\t\\t\\t\\tThis email address is being protected from spambots. You need JavaScript enabled to view it.\\r\\n\\r\\n\\t\\t\\t\\t\\xa0\\r\\n\\r\\n\\t\\t\\t\\tURL: www.sastra.edu\\r\\n\\t\\t\\t\\t\\r\\n\\t\\t\\t\\r\\n\\t\\t\\r\\n\\t\\r\\n\\r\\n\\tWe wish you good luck for your Class XII and other competitive exams.Contact\\n\\nSASTRA DEEMED UNIVERSITY\\n\\nTirumalaisamudram\\n\\nThanjavur - 613401\\n\\nTamilnadu, India\\n\\n+91 4362 264101 - 108\\n\\n+91 4362 350001 (20 lines)\\n\\n+91 4362 264120\\n\\nadmissionssastra.edu\\n\\nVisit\\n\\nQuick Links\\n\\nNational Scholarship Portal\\n\\nAcademic Bank of Credits (ABC) Registration\\n\\nDigiLocker\\n\\nUGC-DEB\\n\\nNCTE\\n\\nNIRF\\n\\nNAAC\\n\\nHeadlines Archives\\n\\nEvents Archives\\n\\nShanMail\\n\\nStudent Mail\\n\\nContact\\n\\nUseful-Links\\n\\nITIHAS (University Newsletter)\\n\\nNPTEL\\n\\nILLUMINATI\\n\\nStudent Web Interface\\n\\nParent Web Interface\\n\\nUGC Job Portal\\n\\nAlumni Network Portal\\n\\nGuest House Request\\n\\nVideo Tour\\n\\nCampus Map\\n\\nPress Release\",\n",
       " 'How can I get involved?\\n\\nThere are many programs / activities offered by the Residence Life Office which you may participate in and perhaps even help plan and coordinate.\\n\\nContact\\n\\nSASTRA DEEMED UNIVERSITY\\n\\nTirumalaisamudram\\n\\nThanjavur - 613401\\n\\nTamilnadu, India\\n\\n+91 4362 264101 - 108\\n\\n+91 4362 350001 (20 lines)\\n\\n+91 4362 264120\\n\\nadmissionssastra.edu\\n\\nVisit\\n\\nQuick Links\\n\\nNational Scholarship Portal\\n\\nAcademic Bank of Credits (ABC) Registration\\n\\nDigiLocker\\n\\nUGC-DEB\\n\\nNCTE\\n\\nNIRF\\n\\nNAAC\\n\\nHeadlines Archives\\n\\nEvents Archives\\n\\nShanMail\\n\\nStudent Mail\\n\\nContact\\n\\nUseful-LinksClick here\\n\\n\\n\\n\\n\\n\\n\\nDr. MANIVANNAN D\\nAssociate Dean - Infrastructure\\ndmvcse.sastra.edu\\n\\n\\n\\n\\n\\n\\n\\nSchool School of Computing\\nDesignation Associate Dean - Infrastructure\\nDepartment CSE\\nEducational QualificationsB.E., M.Tech., Ph.D\\nAreas of InterestCryptography\\r\\rWireless Sensor Network\\r\\rSecurity in Computing\\r\\rEmbedded Systems\\nORCID URL\\n Click here\\n\\n\\n\\n\\n\\n\\n\\nDr. ALAGESWARAN R\\nAssociate Dean - Student Welfare\\nalageswarancse.sastra.eduDr. ALAGESWARAN R\\nAssociate Dean - Student Welfare\\nalageswarancse.sastra.edu\\n\\n\\n\\n\\n\\n\\n\\nSchool School of Computing\\nDesignation Associate Dean - Student Welfare\\nDepartment CSE\\nEducational QualificationsM.E., M.B.A., Ph.D\\nAreas of InterestInternet of Things, Image Processing, Wireless Sensor Networks, Lightweight Cryptography\\nORCID URL\\n Click here\\n\\n\\n\\n\\n\\n\\n\\nDr. KANNAN .K\\nProfessor\\nkkannanmaths.sastra.eduDr. KRISHNAMOORTHY A\\nAssociate Dean - Academics\\nakeee.sastra.edu',\n",
       " 'Dr. ANILA GLORY H\\nAsst. Professor - II\\nanilaglorycse.sastra.edu\\n\\n\\n\\n\\n\\n\\n\\nSchool School of Computing\\nDesignation AP - II\\nDepartment CSE\\nEducational QualificationsB.E.(Computer Science & Engineering), M.E.(Computer Science & Engineering), Ph.D.\\nAreas of InterestBrain-Computer Interface, Machine Learning, Deep Learning\\nORCID URL\\n\\nClick here\\n\\n\\n\\n\\n\\n\\n\\nDr. PRAVEEN KUMAR K\\nAsst. Professor - II\\npraveenkumarit.sastra.eduDr. VIDIVELLI S\\nAsst. Professor - II\\nvidivellicse.sastra.edu\\n\\n\\n\\n\\n\\n\\n\\nSchool School of Computing\\nDesignation AP - II\\nDepartment CSE\\nEducational QualificationsB.E(CSE)\\rM.E(CSE)\\rPh.D(Information and Communication Engineering)\\nAreas of InterestMedical Image Processing, Computer Vision, Machine Learning, Deep Learning\\nORCID URL\\n Click here\\n\\n\\n\\n\\n\\n\\n\\nDr. ANILA GLORY H\\nAsst. Professor - II\\nanilaglorycse.sastra.eduClick here\\n\\n\\n\\n\\n\\n\\n\\nMs. GOKILA RG\\nAsst. Professor - II\\ngokilacse.sastra.edu\\n\\n\\n\\n\\n\\n\\n\\nSchool School of Computing\\nDesignation AP - II\\nDepartment CSE\\nEducational QualificationsB.TECH - Information Technology,\\rM.E - Software Engineering,\\r(Ph.D) - Anna University\\nAreas of InterestBig Data Analytics,\\rNetwork Security,\\rIoT\\nORCID URL\\n\\nClick here\\n\\n\\n\\n\\n\\n\\n\\nDr. NALAYINI P\\nAsst. Professor - II\\nnalayinicse.sastra.eduDr. SENTHILSELVAN N\\nAsst. Professor - II\\nsenthilselvancse.sastra.edu\\n\\n\\n\\n\\n\\n\\n\\nSchool School of Computing\\nDesignation AP - II\\nDepartment CSE\\nEducational QualificationsB.Tech.(IT), M.E.(CSE),(Ph.D.)\\nAreas of Interestbig data analytics, compiler engineering, Linked open data, Theory of Computation\\nORCID URL\\n\\nClick here\\n\\n\\n\\n\\n\\n\\n\\nMs. GOWRI L\\nAsst. Professor - II\\ngowrimca.sastra.edu\\n\\n\\n\\n\\n\\n\\n\\nSchool School of Computing\\nDesignation AP - II\\nDepartment MCA\\nEducational QualificationsMCA.,M.Phil.,M.Tech(CSE).,Ph.D(pursuing)\\nAreas of InterestRemote sensing image analysis\\nORCID URL\\n Click here',\n",
       " 'remaining semesters \\n \\n8.5 A student who has an attendance less than 70% in the odd/even semester, will not be \\nallowed to appear for the immediate odd/ even semester examination. In such a case, \\nthe student should register for the same semester during the next academic year, \\nthereby losing one year \\n \\n8.6 There is no provision for a student to improve his/ her attendance during the same \\nsemester \\n \\n8.7 Out of a total of 100 marks allotted for each course 50 marks are allotted for continuous \\ninternal assessment and 50 marks for the end semester examinationsubjects for B.Tech. \\n \\n8. REQUIREMENTS FOR SUCCESSFUL COMPLETION OF A COURSE & EARNING \\nCREDIT \\n \\n8.1 Students must attend every lecture, tutorial and laboratory class. However, in order to \\nprovide for sickness and such other contingencies, a minimum attendance percentage \\nhas been prescribed. A student can appear for an end-semester examination only when \\nhe/she has put-in a minimum attendance of 80% during the semester.  Percentage of \\nattendance of a student will be the number of periods attended divided by the total8.2 A student should necessarily register for the end-semester examinations in all the \\nregular and applicable arrear courses \\n \\n8.3 A student who has an attendance between 75 and 80% will be allowed to write the end \\nsemester examination provided he/she pays the condonation fees as prescribed by the \\nUniversity from time-to-time.  A student shall be allowed to pay condonation fees only \\ntwice during the entire duration of his / her study in the University \\n \\n8.4 A student who has an attendance between 70 and 75% will be allowed to write the end8.4 A student who has an attendance between 70 and 75% will be allowed to write the end \\nsemester examination provided he/she pays the condonation fees and a caution deposit \\nas prescribed by the University from time-to-time.  A student shall be allowed to pay \\ncondonation fees and a caution deposit only once during the entire duration of his / her \\nstudies in the University.  The caution deposit will be returned to the student at the end \\nof the course provided the student maintains attendance more than 80% for the \\nremaining semesters',\n",
       " '____________________________________________________________________________ \\n \\n \\n9. EVALUATION OF THE ACADEMIC PERFORMANCE & PROMOTION  \\n \\n9.1 Course-wise grades are awarded to the students by adopting the following scheme, \\nbased on the aggregate marks scored by the student in the course (which includes \\ninternal assessment marks and end-semester examination marks) \\n \\nRANGE LETTER  \\nGRADE GRADE \\nPOINT DESCRIPTION OF  \\nPERFORMANCE \\n≥91% S 10 Outstanding \\n≥86% and ≤ 90% A+ 9 Excellent \\n≥75% and ≤ 85% A 8 Very Good \\n≥66% and ≤ 74% B 7 Good \\n≥55% and ≤ 65% C 6 Satisfactoryinternal assessment and 50 marks for the end semester examination \\n \\n8.8 The break-up for continuous internal assessment marks for any course is as follows: \\n \\nTheory Course  Weightage  Practical Course  Weightage  \\nFirst, Second & Third test \\n(Best two out of three tests will \\nbe considered) 40% Experimental work & \\nobservations 40% \\nAssignment, Seminar, Quiz,  \\netc. 10% Viva-Voce 10% \\nTotal 50% Total 50% \\n \\n8.9 A candidate is declared to have passed in a course if he / she secures ‘D’ grade based \\non continuous internal assessment and the end-semester examination marks put \\ntogethercredited course with a weightage of 50 marks \\n \\n6.4 A letter grade, corresponding to the marks secured by the student is awarded for each \\ncourse for which a student has registered. On obtaining a pass grade, the student \\naccumulates the course credits as earned credits. A student’s performance is measured \\nby the number of credits that the student has earned and the weighted grade point≥75% and ≤ 85% A 8 Very Good \\n≥66% and ≤ 74% B 7 Good \\n≥55% and ≤ 65% C 6 Satisfactory \\n≥50% and ≤ 54% D 5 Pass \\n< 50% F 0 Fail \\nAbsent  E 0 Exposure \\n \\n \\n9.2 A candidate who does not pass a course in the odd/even semester examination should \\nregister and take up the subsequent supplementary odd/even semester examination in \\nthat course and pass the same \\n \\n9.3 Some students due to extraneous reasons score less marks in Continuous Internal \\nAssessment (CIA) resulting in failing in the course.  There is no provision for a student to',\n",
       " '____________________________________________________________________________ \\n \\n \\n9. EVALUATION OF THE ACADEMIC PERFORMANCE & PROMOTION  \\n \\n9.1 Course-wise grades are awarded to the students by adopting the following scheme, \\nbased on the aggregate marks scored by the student in the course (which includes \\ninternal assessment marks and end-semester examination marks) \\n \\nRANGE LETTER  \\nGRADE GRADE \\nPOINT DESCRIPTION OF  \\nPERFORMANCE \\n≥91% S 10 Outstanding \\n≥86% and ≤ 90% A+ 9 Excellent \\n≥75% and ≤ 85% A 8 Very Good \\n≥66% and ≤ 74% B 7 Good \\n≥55% and ≤ 65% C 6 SatisfactoryAssessment (CIA) resulting in failing in the course.  There is no provision for a student to \\nimprove his / her continuous internal assessment marks. For such candidates who \\nappear in the subsequent supplementary exams, the following formula will apply: \\n \\nM = (I+E) or 2E, whichever is greater, where I = CIA marks of the student; M = Total \\nmarks of the students and E = Marks scored by the student in the end semester \\nsupplementary examination \\n \\n9.4 The average performance of a student in a particular semester is expressed ascredited course with a weightage of 50 marks \\n \\n6.4 A letter grade, corresponding to the marks secured by the student is awarded for each \\ncourse for which a student has registered. On obtaining a pass grade, the student \\naccumulates the course credits as earned credits. A student’s performance is measured \\nby the number of credits that the student has earned and the weighted grade point≥75% and ≤ 85% A 8 Very Good \\n≥66% and ≤ 74% B 7 Good \\n≥55% and ≤ 65% C 6 Satisfactory \\n≥50% and ≤ 54% D 5 Pass \\n< 50% F 0 Fail \\nAbsent  E 0 Exposure \\n \\n \\n9.2 A candidate who does not pass a course in the odd/even semester examination should \\nregister and take up the subsequent supplementary odd/even semester examination in \\nthat course and pass the same \\n \\n9.3 Some students due to extraneous reasons score less marks in Continuous Internal \\nAssessment (CIA) resulting in failing in the course.  There is no provision for a student to',\n",
       " 'School School of Electrical and Electronics Engineering\\nDesignation SAP\\nDepartment Physics\\nEducational Qualifications2005 - 2010: Ph.D Physics (Magnetic nanomaterials and nanofluids) from Indira Gandhi Center for Atomic Research Kalpakkam. Degree awarded by University of Madras\\r\\r2003 - 2004: M.Phil. Nuclear Physics, Department of Nuclear Physics, University of Madras (Guindy campus), Chennai\\r\\r2001 - 2003: M.Sc. Physics from Presidency college (Autonomous), University of Madras, Chennai\\r\\r1998 - 2001: B.Sc. Physics from Presidency college(Autonomous), University of Madras, ChennaiClick here\\n\\n\\n\\n\\n\\n\\n\\nDr. SEKAR KR\\nSr. Asst. Professor\\nsekar_krcse.sastra.edu\\n\\n\\n\\n\\n\\n\\n\\nSchool School of Computing\\nDesignation SAP\\nDepartment CSE\\nEducational QualificationsM.C.A.,M.B.A.,M.Phil.,M.Tech.,Ph.D.\\nAreas of InterestComponent Based Technology , Data Mining and Warehousing , Artificial intelligence, Management Resource Techniques. Big Data Analytics, Active Directory Domain Service\\nORCID URL\\n\\nClick here\\n\\n\\n\\n\\n\\n\\n\\nDr. SIVANESAN P\\nSr. Asst. Professor\\nsivanesanict.sastra.eduClick here\\n\\n\\n\\n\\n\\n\\n\\nDr. RAJKUMAR K\\nSr. Asst. Professor\\nrajkumarcse.sastra.edu\\n\\n\\n\\n\\n\\n\\n\\nSchool School of Computing\\nDesignation SAP\\nDepartment CSE\\nEducational QualificationsM.Tech.(CSE),Ph.D.,\\nAreas of InterestComputer Networks,Distributed systems & Network Security\\nORCID URL\\n Click here\\n\\n\\n\\n\\n\\n\\n\\nDr. MANIKANDAN R\\nSr. Asst. Professor\\nmanikandan75core.sastra.eduClick here\\n\\n\\n\\n\\n\\n\\n\\nDr. KARTHIKEYAN B\\nSr. Asst. Professor\\nbkarthikeyanit.sastra.edu\\n\\n\\n\\n\\n\\n\\n\\nSchool School of Computing\\nDesignation SAP\\nDepartment IT\\nEducational QualificationsM.Sc.,M.Tech.,Ph.D\\nAreas of InterestImage Compression, Steganography, Algorithms, Machine Learning\\nORCID URL\\n Click here\\n\\n\\n\\n\\n\\n\\n\\nDr. DENNIS ANANTH A\\nSr. Asst. Professor\\ndennisananthit.sastra.edu',\n",
       " 'What can or should I bring?\\n\\nFlashlight, Batteries Hangers Erasable message board Stationery, stamps Dictionary, Thesaurus Laundry bag/basket Plastic storage crates Alarm clock/Clock radio Pens, Pencils, Erasers, Notebooks Iron Daily Planner Desk lamp Calendar Eating utensils, Tupperware Envelopes, Stamps Towels, washcloths First aid kit Bowls, cups Extension cord Pillows, Mattress pad Stapler, Scissors, Tape Extra-long sheets Umbrella Air fresheners Dust bin Shower slippers Toiletries, hygiene supplies\\n\\nHow can I get involved?Click here\\n\\n\\n\\n\\n\\n\\n\\nDr. LALITHAMBIKA .K.C\\nAsst. Professor - III\\nlalikcleee.sastra.edu\\n\\n\\n\\n\\n\\n\\n\\nSchool School of Electrical and Electronics Engineering\\nDesignation AP - III\\nDepartment Physics\\nEducational QualificationsM.Sc.,M.Phil.,Ph.D.\\nAreas of InterestThin films\\nORCID URL\\n\\nClick here\\n\\n\\n\\n\\n\\n\\n\\nDr. NATARAJAN .S\\nAsst. Professor - III\\nnatarajanseee.sastra.eduEducational QualificationsPh. D - Theoretical Physics - Nonlinear Dynamics\\rCentre for Nonlinear Dynamics, School of Physics, Bharathidasan University, Tiruchirapalli 620 024, India\\r\\rM. Sc., Physics\\rSchool of Physics, Bharathidasan University, Tiruchirapalli 620 024, India\\r\\rB. Sc., Physics\\rGovernment Arts College, Karur, Tamil Nadu, India\\r--------------------------------------------------\\rDetails of Employment and Nature of Duties:\\r--------------------------------------------------\\r> Visiting Research Fellow at the Physics Department, Lancaster University, UK (01-05-2007 to 31-03-2008)\\r\\r>Click here\\n\\n\\n\\n\\n\\n\\n\\nDr. LENIN PRAKASH S\\nAsst. Professor - II\\nleninprakasheee.sastra.edu\\n\\n\\n\\n\\n\\n\\n\\nSchool School of Electrical and Electronics Engineering\\nDesignation AP - II\\nDepartment EEE\\nEducational QualificationsB.Tech., M.E., Ph.D\\nAreas of InterestPower Electronics, Electrical Drives, Electric Vehicles, Power Quality, Renewable Energy Conversion.\\nORCID URL\\n Click here\\n\\n\\n\\n\\n\\n\\n\\nDr. SURESH RAMACHANDRAN\\nAsst. Professor - I - Research\\nsuresheee.sastra.edu',\n",
       " 'Click here\\n\\n\\n\\n\\n\\n\\n\\nDr. SRIDHAR K\\nDean - Research\\nsridharece.sastra.edu\\n\\n\\n\\n\\n\\n\\n\\nSchool School of Electrical and Electronics Engineering\\nDesignation Dean - Research\\nDepartment ECE\\nEducational QualificationsB.E.(ECE) - N.I.T.Trichy\\rM.E.(VLSI Systems) - N.I.T. Trichy\\rPh.D.(Reconfigurable Computing) - SASTRA Deemed University\\nAreas of InterestVLSI Design\\rInformation Security\\rElectronics\\rMicroprocessors and Microcontrollers\\rComputer Networks\\nORCID URL\\n\\nClick here\\n\\n\\n\\n\\n\\n\\n\\nLt. Dr. VIJAYAREKHA .K\\nAssociate Dean - Student Welfare\\nvijayarekhaeee.sastra.eduClick here\\n\\n\\n\\n\\n\\n\\n\\nDr. THENMOZHI .K\\nDean\\nthenmozhikece.sastra.edu\\n\\n\\n\\n\\n\\n\\n\\nSchool School of Electrical and Electronics Engineering\\nDesignation Dean\\nDepartment ECE\\nEducational QualificationsM.E.,Ph.D.\\nAreas of InterestWireless communication,Information Theory and Coding,Information security\\nORCID URL\\n\\nClick here\\n\\n\\n\\n\\n\\n\\n\\nDr. SRIDHAR K\\nDean - Research\\nsridharece.sastra.eduSchool School of Electrical and Electronics Engineering\\nDesignation Dean Sponsored Research\\nDepartment ECESchool School of Computing\\nDesignation Associate Dean - Academics\\nDepartment EIE',\n",
       " 'DAKSH, the international techno-management festival of SASTRA University, is an annual event comprising of a myriad of events involving all trades of engineering. It promises to not only be educating but also refreshing for each participant as it attempts to cross boundaries of knowledge beyond textbooks and classrooms. Having started in 2007, DAKSH is running into its eighth edition now. DAKSH presents an opportunity to students from across the globe to display their techno-managerial skills while participating in a plethora of exciting events, assorted workshops, excellent power talks andStudent ActivitiesASCIEEDakshKuruksastraPlasma CompendiumWadioBiotikosNCCNSSClubsED-CellIIChE Student ChapterASME Students ChapterIEEE SB SASTRAICT@S\\n\\nDakshAs\\xa0a huge platform for students to showcase their technical prowess and management talents, this techno-management extravaganza gets bigger and bigger with each passing year. Boasting of unique events and thousands of participants, DAKSH enters its Edition 8.0\\n\\nTo open the DAKSH 2015 website click here\\n\\nContact\\n\\nSASTRA DEEMED UNIVERSITY\\n\\nTirumalaisamudram\\n\\nThanjavur - 613401\\n\\nTamilnadu, India\\n\\n+91 4362 264101 - 108\\n\\n+91 4362 350001 (20 lines)\\n\\n+91 4362 264120\\n\\nadmissionssastra.edu\\n\\nVisit\\n\\nQuick Links\\n\\nNational Scholarship Portal\\n\\nAcademic Bank of Credits (ABC) Registration\\n\\nDigiLockerEach year brings about varying themes ranging from \"Engineering 360\" to the most recent \"Mahabharata\".\\xa0SASTRA University always believes in encouraging the students so that they may be empowered to open new challenging frontiers for themselves, and this technical festival is one such attempt, giving the students hands on experience in science, technology and management. With the introduction of online events, DAKSH now brings in international participants as well.',\n",
       " 'EVENTS @ KS\\n\\nDANCE\\n\\nWhether it be the moves which would make Michael Jackson cry for joy in heaven(or wherever he is) or the chime of anklets as Bharatanatyam dancers full of finesse gliding across the stage, dance at Kuruksastra has always been a study of contrasts. All the feet tapping and jaw dropping moves are put to test in an event where east meets the west,where the best compete and offer wholesome entertainment at packed auditorium\\n\\nLITERARY EVENTS:\\n\\nENGLISH:Kuruksastra\\n\\n\\n\\n\\n\\nIf Kurukshetra was the greatest battle in Hindu mythology,\\n\\nKuruksastra is the greatest battle of Southern india to establish proven talent and bring to the fore previously unheralded ones. A sublime melange of style and substance, glamour and colour, Kuruksastra, SASTRA\\'s cultural bonanza consists of arts, music, literary events(English, Tamil and Hindi) and dance. Top Institutes from all over India turn up to give fierce competition to each other in the race to win the ultimate prize- the title of overall championship at Kuruksastra.Student ActivitiesASCIEEDakshKuruksastraPlasma CompendiumWadioBiotikosNCCNSSClubsED-CellIIChE Student ChapterASME Students ChapterIEEE SB SASTRAICT@S\\n\\nKuruksastra\\n\\n\\n\\n\\n\\nIf Kurukshetra was the greatest battle in Hindu mythology,Each year brings about varying themes ranging from \"Engineering 360\" to the most recent \"Mahabharata\".\\xa0SASTRA University always believes in encouraging the students so that they may be empowered to open new challenging frontiers for themselves, and this technical festival is one such attempt, giving the students hands on experience in science, technology and management. With the introduction of online events, DAKSH now brings in international participants as well.',\n",
       " 'Saraswathi Sadan, the Central Library of SASTRA is an architectural elegance over an area of about 4,340 sq. m with modern study area, audio–visual room, internet and reprographic facilities. It is the nerve centre of the entire campus catering to the literary and knowledge pursuits of the faculty and students. Responding to the technological developments in the 21st century, SASTRA has adopted automation and integrated Information & Communication Technology tools into the resources and services offered in the Central Library. This has ensured that the library does not become an irrelevantAnnual subscription to bibliographic databases like Web of Sciences providing access to over 16,400 titles is also available. SASTRA is also an associate member of the e-SHODH SINDHU, which provides access to online resources. Online access for all the e-books and e-journals has facilitated on-campus users to access the huge collection from the comfort of their rooms and at their convenience. Access to the vast online resources at the library for SASTRA fraternity when they are off-campus is provided through the Knimbus software tool, enabling connectivity with SASTRA from anywhere around theClick here\\n\\n\\n\\n\\n\\n\\n\\nDr. PRAKASH. I\\nAP - Research\\nprakasheee.sastra.eduStudent ActivitiesASCIEEDakshKuruksastraPlasma CompendiumWadioBiotikosNCCNSSClubsED-CellIIChE Student ChapterASME Students ChapterIEEE SB SASTRAICT@S\\n\\nTemple\\n\\n\\n\\n\\n\\nShri JayaGanapathy temple at SASTRA has always been a centre of spiritual activities and religious learning. The temple was built and consecrated in the year 1993, and recently in July 2011 the temple was re-consecrated with the addition of many new deities to the already present deity congregation.',\n",
       " '10. Vidya Vihar 28 Class rooms for I years 11. Srinivasa Ramanujan Centre 56 Computer programming Laboratory Internet Laboratory Electrical Machines Laboratory Electronics Laboratory Basic Workshop Communications & DSP Laboratory Physics Laboratory Chemistry Laboratory Educational Technology Laboratory Biochemistry Laboratory Microbiology LaboratoryLaboratory VLSI Design Laboratory Internet Laboratory Digital Library INTEL Multicore Lab 7. Jana Chaitanya 6 Computer Laboratory 8. Gnana Vihar 4 Physics Laboratory Chemistry Laboratory Psychometric Analysis Laboratory Language Laboratory 9. Vignana Vihar 6 Technical Analysis Laboratory Applied Physical Chemistry Laboratory Chemical Reaction Engineering Lab Heat and Mass Transfer Laboratory Mechanical Operations Laboratory Instrumental & Fuel Analysis Laboratory Process Simulation Laboratory 10. Vidya Vihar 28 Class rooms for I years 11. Srinivasa Ramanujan Centre 56 Computer programmingS. No. Building No. of Class Rooms Laboratories 1. Nirman Vihar 10 Fluid Mechanics and Machinery Laboratory Geotechnical Engineering Laboratory Survey Lab Concrete and Highway Laboratory Strength of Materials Laboratory Structural Analysis Laboratory CAD Lab Geology Lab 2. Jiva Chaitanya 24 Biochemistry Laboratory Microbiology Laboratory Plant Cell Culture Laboratory Molecular Biology Laboratory Genetic Engg. Laboratory Bioprocess Engg. Laboratory Downstream Processing Lab Histology Laboratory Animal House Dissection Laboratory Biological / Data Banks & Analysis Lab Biochemistry LaboratoryAnimal House Dissection Laboratory Biological / Data Banks & Analysis Lab Biochemistry Laboratory Computational Chemistry Lab Drug Design Laboratory Bioinformatics Tools Laboratory Biological Sequence Analysis Lab Bio computing Laboratory Molecular Biology Techniques Lab Molecular Graphics & Modeling Lab RDBMS Laboratory 3. Vishwakarma Joth 19 Machine Shop CNC Centre Thermal Laboratory Heat Transfer Laboratory CAD/CAM Laboratory Dynamics Laboratory Metrology Laboratory Automobile Laboratory Mechatronics Laboratory Metallurgy Laboratory 4. Vidyut Vihar 33 A.C & D.C Machines Laboratory',\n",
       " 'SASTRA has always believed in catering to the palate and providing wholesome and balanced nutrition in a hygienic environment. A completely balanced vegetarian diet is served in all hostels equipped with steam-cooking facilities. There is also North Indian Cuisine in addition to the South Indian culinary delights.\\n\\n1Gbps\\xa0Wi-Fi is available to all the inmates of the hostels.\\n\\nA well furnished guest house with adquate number of A/C and non-A/C rooms is available for visitors on prior request and subject to availability.\\n\\nGeneral InformationAbout the Guest House \\r\\n\\t\\r\\n\\t\\tWelcome to SASTRA Paradise Guest house. Situated diagonally opposite to our campus, this fully renovated Guest house is most comfortable with 28 rooms, 6 of those being NON- AC and rest fully air conditioned rooms. \\r\\n\\t\\tThe rooms are provided with necessary furniture to work and required modern amenities. \\r\\n\\t\\tSmart TV is also provided with required Wi-Fi facilities.\\r\\n\\t\\tHot and cold water in the bath rooms, comfortable and cozy beds with supporting furnishing makes the stay very pleasurable.Student ActivitiesASCIEEDakshKuruksastraPlasma CompendiumWadioBiotikosNCCNSSClubsED-CellIIChE Student ChapterASME Students ChapterIEEE SB SASTRAICT@S\\n\\nCentral Facilities\\n\\n\\n\\n\\n\\nMajor facilities established in the University are available for all students & faculty from SASTRA as well as from other institutions.\\xa0 The following are \\xa0partial list of equipment \\xa0available on campus for research:\\n\\nField emission transmission electron microscope with energy dispersive spectrometer (FE-TEM)\\n\\nComputer Numerically Controlled turning centres and machining centres (production capacity machines)Student ActivitiesASCIEEDakshKuruksastraPlasma CompendiumWadioBiotikosNCCNSSClubsED-CellIIChE Student ChapterASME Students ChapterIEEE SB SASTRAICT@S\\n\\nHostel Fee\\n\\n\\n\\n\\n\\nHOSTEL LODGING FEE\\n\\nHostel / Room Type Annual Hostel Lodging Fee Single Rs.20,000/- 2 - in - 1 Rs.18,000/- 3-in-1 / 4-in-1 Rs.14,000/- Single (Bath Attached) Rs.28,000/- 2-in-1 (Bath Attached) Rs.24,000/- 3-in-1 / 4-in-1 (Bath Attached) Rs.20,000/-\\n\\nContact\\n\\nSASTRA DEEMED UNIVERSITY\\n\\nTirumalaisamudram\\n\\nThanjavur - 613401\\n\\nTamilnadu, India\\n\\n+91 4362 264101 - 108\\n\\n+91 4362 350001 (20 lines)\\n\\n+91 4362 264120\\n\\nadmissionssastra.edu',\n",
       " \"Hospital\\n\\n\\n\\n\\n\\nSASTRA requires a completed health evaluation form including immunization records on all full time students. Medical treatment given by the nursing staff and doctor on campus is offered without charge to all students. Students are responsible for all other costs, including doctor visits off campus, prescriptions, laboratory tests, ambulance service, and hospital care. Students are responsible for their own transportation to a physician's office and/or to a hospital except in an emergency, when an ambulance will be called.\\n\\nThe following services are providedMedical checkups\\n\\nConsultation and referrals\\n\\nMedication management\\n\\nVaidyanatha Arogyasala' the in-house hospital with 10 beds and regular doctors caters to the medical need of the students. Two fulltime doctors, one resident doctor besides adequate paramedical staff are available at the hospital. The hospital is adequately equipped with sophisticated equipment and is prepared to meet any medical emergency round the clock. The medical consultation is offered free and is also extended to the nearby villages surrounding SASTRA.\\n\\nContact\\n\\nSASTRA DEEMED UNIVERSITY\\n\\nTirumalaisamudramSASTRA has always believed in catering to the palate and providing wholesome and balanced nutrition in a hygienic environment. A completely balanced vegetarian diet is served in all hostels equipped with steam-cooking facilities. There is also North Indian Cuisine in addition to the South Indian culinary delights.\\n\\n1Gbps\\xa0Wi-Fi is available to all the inmates of the hostels.\\n\\nA well furnished guest house with adquate number of A/C and non-A/C rooms is available for visitors on prior request and subject to availability.\\n\\nGeneral InformationNational recognition for research in Indian system of medicine\\n\\nRobust campus wide Wi-Fi connectivity with threat management systems\\n\\nStudent enrichment, soft skills training and gender sensitization programmes\\n\\nFinancial assistanceship, freeships and scholarships to student community\\n\\nResearch exposure to undergraduate students\\n\\nValue-based education opportunities towards all round development of students On-line mentoring system\\n\\nWashington Accord Team lauds SASTRA\",\n",
       " 'Each year brings about varying themes ranging from \"Engineering 360\" to the most recent \"Mahabharata\".\\xa0SASTRA University always believes in encouraging the students so that they may be empowered to open new challenging frontiers for themselves, and this technical festival is one such attempt, giving the students hands on experience in science, technology and management. With the introduction of online events, DAKSH now brings in international participants as well.National recognition for research in Indian system of medicine\\n\\nRobust campus wide Wi-Fi connectivity with threat management systems\\n\\nStudent enrichment, soft skills training and gender sensitization programmes\\n\\nFinancial assistanceship, freeships and scholarships to student community\\n\\nResearch exposure to undergraduate students\\n\\nValue-based education opportunities towards all round development of students On-line mentoring system\\n\\nWashington Accord Team lauds SASTRAstimulus to the grey cells of the brain through its extremely challenging technical problems. This \\nattracts participants from all over the country and provides the cha nce to test our technical skills \\nwith the best in the country.  \\n  \\nCultural Events  \\n \\nThe immensely talented SASTRA students have many student clubs for expressing their talents \\nand creativity.  The cultural team of SASTRA is selected from the highly talented members of \\nthese clubs and the club members meet after working hours each week and hone their skills, planSASTRA houses two technology business incubators (TBI) with the support from Department of Science & Technology (DST) and Department of Biotechnology (DBT). The Foundation for Innovation and Research at SASTRA TBI (FIRST), a Section 8 company established in 2017, is jointly supported by DST and SASTRA to nurture innovations in 3D printing, Internet of Things, Virtual Reality and Augmented Reality. Established at a cost of Rs 1382.23 lakh with a dedicated space of 20,000 sq.ft., FIRST houses a Design facility, Innovation & Training Centre, Rapid Prototyping Centre, incubation & office space,',\n",
       " \"NAAC Accreditation\\n\\nAs a University, SASTRA has been re-accredited in the IV cycle with a maximum GRADE 'A++' by National Assessment and Accreditation Council (NAAC), an autonomous body established by the University Grants Commission. The Score of 3.76 puts SASTRA as number one university of its type in Tamilnadu and amongst the top in the country.Student ActivitiesASCIEEDakshKuruksastraPlasma CompendiumWadioBiotikosNCCNSSClubsED-CellIIChE Student ChapterASME Students ChapterIEEE SB SASTRAICT@S\\n\\nAccreditation & Ranking\\n\\n\\n\\n\\n\\nNational Institute Ranking Framework (NIRF)\\n\\nSASTRA DEEMED UNIVERSITY has consistently secured top ranks in the Engineering category by the NIRF. The data for NIRF has been submitted in Overall, Engineering, Management and Law category. The submitted data is available here\\n\\nNAAC AccreditationTCS Accreditation\\n\\nM/s Tata Consultancy Services Ltd., has accredited SASTRA with ‘A’ grade (Highest) putting SASTRA in the elite company of premier institutes. The MBA programme is also separately accredited by TCS.\\n\\nContact\\n\\nSASTRA DEEMED UNIVERSITY\\n\\nTirumalaisamudram\\n\\nThanjavur - 613401\\n\\nTamilnadu, India\\n\\n+91 4362 264101 - 108\\n\\n+91 4362 350001 (20 lines)\\n\\n+91 4362 264120\\n\\nadmissionssastra.edu\\n\\nVisit\\n\\nQuick Links\\n\\nNational Scholarship Portal\\n\\nAcademic Bank of Credits (ABC) Registration\\n\\nDigiLocker\\n\\nUGC-DEB\\n\\nNCTE\\n\\nNIRF\\n\\nNAAC\\n\\nHeadlines Archives\\n\\nEvents Archives\\n\\nShanMail\\n\\nStudent Mailmany accolades and has brought laurels to the University.  A noteworthy point of mention is that \\nSASTRA is the only team with the most  number of wins (overall championship) at \\nFESTEMBER – the inter -college cultural festival of National Institute of Technology, Trichy. \\nThe annual inter -collegiate national level cultural extravaganza called KURUKSASTRA held in \\nFebruary -March  each year is a  show -stopper and attracts talents from across the country. The \\nstudents get a chance to enchant one and all with their talents in literary and fine arts events.  \\n \\nSports\",\n",
       " 'Sports  \\n \\nIn tune with the popular adage ‘A health mind in a healthy body’ , the University provides \\nadequate facilities for boys and girls to keep themselves fit. The men’s gymnasium named \\n‘Maruti ’ has state -of-the-art facil ities such as tread mill, weights etc., to keep the young men in \\ntop physique. The girl’s gymnasium is in the girl’s hostel and also includes a basket ball court \\nand volleyball court apart from the tread mill and table tennis board.   \\n \\nThe annual intra-mural sports festival of SASTRA aptly named FUERA is a hotly contestedStudent ActivitiesASCIEEDakshKuruksastraPlasma CompendiumWadioBiotikosNCCNSSClubsED-CellIIChE Student ChapterASME Students ChapterIEEE SB SASTRAICT@S\\n\\nSports\\n\\n\\n\\n\\n\\nIndoor Stadium\\n\\nTo promote excellence in sports and provide organized relaxation and entertainment, an indoor stadium “MARUTI” has been constructed and equipped with billiards tables, badminton courts, a basketball court, table tennis, and carrom board with indoor lighting facility.\\n\\nGymnasium - \"Mens Sana, In Corpore Sano\"The annual intra-mural sports festival of SASTRA aptly named FUERA is a hotly contested \\ntournament. Apart from track & field, t he talents of the participants is put into acid test in team \\nevents such as cricket, football, hockey, basket ball, volleyball, Frisbee, badminton, table tennis, \\nchess etc. Body building and weight lifting are other popular categories in FUERA. The \\ncompeti tions provide the right environment for youngsters to get selected for the University \\nteam. The SASTRA sports teams have won places in the district and zonal levels and haveteam. The SASTRA sports teams have won places in the district and zonal levels and have \\nparticipated in national level contests.  The SASTRA team has won awards at TIES – the state \\nlevel Tamilnadu Inter -Engineering Sports.  The students’ teams have won laurels in the \\nbasketball, table tennis, kabaddi and have made a mark in body building, weight lifting, \\nswimming and Go -karting.  The students are guided to sporting glory b y an experienced physical \\ndirector, an enthusiastic physical directress and a weight trainer. The annual inter -collegiate',\n",
       " 'The student clubs organize CARPE DIEM – the annual intramural cultural festival of SASTRA \\nand the stu dent coordinators of each club are actively involved in screening and short -listing the \\nscores of talents that participate in the various events.  This festival provides a great opportunity \\nfor freshers to get into the University cultural team. The cultura l team of SASTRA is endowed \\nwith amazing talents and leaves an indelible mark wherever it participates.  The team has won \\nmany accolades and has brought laurels to the University.  A noteworthy point of mention is thatthese clubs and the club members meet after working hours each week and hone their skills, plan \\nand practice for their upcoming events.  Each club has its student and staff coordinators and \\ncommences its activities every academic year and has a final showdown at the end of each \\nacademic year which is very popular.  The various students clubs that are currently active at \\nSASTRA are listed below:  \\n\\uf0a7 Auto club  \\n\\uf0a7 Literary clubs (Tamil, English, Hindi and Telugu)  \\n\\uf0a7 Oratory & Debating clubs (Tamil, English, H indi and Telugu)  \\n\\uf0a7 Fine-Arts club (Music, Dance, Painting)Student ActivitiesASCIEEDakshKuruksastraPlasma CompendiumWadioBiotikosNCCNSSClubsED-CellIIChE Student ChapterASME Students ChapterIEEE SB SASTRAICT@S\\n\\nBest Practices\\n\\n\\n\\n\\n\\nSASTRA has adopted several best practices towards performance excellence. Some of the best practices followed are:\\n\\nTransparent merit-based admission\\n\\nEmphasis on outcome-based and experiential learning\\n\\nImpactful pedagogy\\n\\nAccelerated Credit Registration System providing flexibility\\n\\nSemester Abroad Programme offers international exposure in premier institutions\\n\\nSoft skills as an essential part of curriculumHonours courses: Students with CGPA ≥ 7.5 are permitted to enrol for additional courses in their discipline offered by SASTRA or online platforms like Coursera, SWAYAM etc., on a self-study mode.\\n\\nFellowships: Students are encouraged to apply and undertake fellowships at reputed national institutes through the Indian Academies by facilitating their joining the next semester at a later date.\\n\\nCompetitive exams preparation: Students appearing for competitive exams like GATE, CSIR-NET, etc., are mentored by experienced faculty.',\n",
       " 'Click here\\n\\n\\n\\n\\n\\n\\n\\nDr. MANJULA KR\\nAssociate Professor\\nmanjulacse.sastra.edu\\n\\n\\n\\n\\n\\n\\n\\nSchool School of Computing\\nDesignation Associate Professor\\nDepartment CSE\\nEducational QualificationsMCA., M.Tech., Ph.D\\nAreas of InterestData Mining, Geo-Spatial Data Mining, Web Mining,\\rGIS & Remote Sensing, Image Processing and Analysis,\\rSpatial Uncertainty,GIS Ontology,\\rObject Oriented Analysis & Design, \\rObject Based Data Modeling,  \\rSustainable Resources - Green Technology, \\rBig Data Analytics\\nORCID URL\\n\\nClick here\\n\\n\\n\\n\\n\\n\\n\\nDr. PRIYADARSINI PLK\\nAssociate Professor\\npriya.ayyagariit.sastra.eduClick here\\n\\n\\n\\n\\n\\n\\n\\nDr. PRIYADARSINI PLK\\nAssociate Professor\\npriya.ayyagariit.sastra.edu\\n\\n\\n\\n\\n\\n\\n\\nSchool School of Computing\\nDesignation Associate Professor\\nDepartment IT\\nEducational QualificationsM.C.A. (SPMVV, Tirupati, AP, 1994)\\rPh.D  (NIT, Trichy, TN, 2009)\\nAreas of InterestMachine Learning, Data Analytics, Algorithms, Computational Complexity, Graph Theory, Image Processing\\nORCID URL\\n\\nClick here\\n\\n\\n\\n\\n\\n\\n\\nDr. SASIKALA DEVI N\\nAssociate Professor\\nsasicse.sastra.eduClick here\\n\\n\\n\\n\\n\\n\\n\\nDr. KANNAN BALASUBRAMANIAN\\nProfessor\\nkannanbcse.sastra.edu\\n\\n\\n\\n\\n\\n\\n\\nSchool School of Computing\\nDesignation Professor\\nDepartment CSE\\nEducational QualificationsM.Sc. (Tech.) (Birla Institute of Technology and Science,Pilani),  M.Tech (Indian Institute of Technology, Bombay), Ph.D (University of California, Los Angeles)\\nAreas of InterestCOMPUTER NETWORKS,NETWORK SECURITY,CYBER SECURITY,MACHINE LEARNING\\nORCID URL\\n\\nClick here\\n\\n\\n\\n\\n\\n\\n\\nDr. MANJULA KR\\nAssociate Professor\\nmanjulacse.sastra.eduDr. PRABAHARAN L\\nAsst. Professor - II\\nprabaharanlmca.sastra.edu\\n\\n\\n\\n\\n\\n\\n\\nSchool School of Computing\\nDesignation AP - II\\nDepartment MCA\\nEducational QualificationsMCA,M.Phil.,M.Tech\\nAreas of InterestMusic Technology, Programming, Mobile Computing\\nORCID URL\\n\\nClick here\\n\\n\\n\\n\\n\\n\\n\\nDr. RENUGA DEVI T\\nAsst. Professor - II\\nrenugadevicse.sastra.edu\\n\\n\\n\\n\\n\\n\\n\\nSchool School of Computing\\nDesignation AP - II\\nDepartment CSE\\nEducational QualificationsM.Tech (CSE),\\rPhD\\nAreas of InterestEnergy Management based virtual Machine scheduling, Optimization techniques, Data structures, Operating systems\\nORCID URL',\n",
       " \"Click here\\n\\n\\n\\n\\n\\n\\n\\nDr. BETTY MARTIN\\nSr. Asst. Professor\\nbettymartinece.sastra.edu\\n\\n\\n\\n\\n\\n\\n\\nSchool School of Computing\\nDesignation SAP\\nDepartment IT\\nEducational QualificationsPhD: Signal Processing, \\rPG:  M.E in Electronics and Control Engineering, \\rUG:  B.E Electronics and Telecommunication\\nAreas of Interest1. Detection of Red Palm Weevil in Palms using smart sensors\\r2. Signal Processing in acoustics\\r3. Design and Implementation of PPG sensor for brain mapping using fMRI as Gold Standard\\r4. Coherence Analysis of Electroencephalogram and Photoplethysmogram\\nORCID URL\\n\\nClick hereClick here\\n\\n\\n\\n\\n\\n\\n\\nDr. SIVANESAN P\\nSr. Asst. Professor\\nsivanesanict.sastra.edu\\n\\n\\n\\n\\n\\n\\n\\nSchool School of Computing\\nDesignation SAP\\nDepartment ICT\\nEducational QualificationsM.E.,Ph.D\\nAreas of InterestWireless Communications, Mobile Ad hoc Networks, Wireless Sensor Networks and Vehicular Ad hoc Networks\\nORCID URL\\n\\nClick here\\n\\n\\n\\n\\n\\n\\n\\nDr. BETTY MARTIN\\nSr. Asst. Professor\\nbettymartinece.sastra.eduYou need JavaScript enabled to view it. 04362/350001 Extn: 2346 26 Finance Office This email address is being protected from spambots. You need JavaScript enabled to view it. 04362/350001 Extn: 2105 27 Guest House This email address is being protected from spambots. You need JavaScript enabled to view it. 04362/350001 Extn: 2712 28 Internal Complaints Committee This email address is being protected from spambots. You need JavaScript enabled to view it. 04362/350018 29 TBI-FIRST This email address is being protected from spambots. You need JavaScript enabled to view it. 04362/350001 Extn: 2776S.No School / Office E.Mail Phone 1 Chancellor's Office This email address is being protected from spambots. You need JavaScript enabled to view it. 04362/350002 2 VC's Office This email address is being protected from spambots. You need JavaScript enabled to view it. 04362/350003 3 Registrar Office This email address is being protected from spambots. You need JavaScript enabled to view it. 04362/350004 4 Vice - Chancellor This email address is being protected from spambots. You need JavaScript enabled to view it. 04362/350003 5 Registrar This email address is being protected from spambots.\"]"
      ]
     },
     "execution_count": 166,
     "metadata": {},
     "output_type": "execute_result"
    }
   ],
   "source": [
    "references"
   ]
  },
  {
   "cell_type": "code",
   "execution_count": 168,
   "metadata": {},
   "outputs": [],
   "source": [
    "Mistral_answers = []"
   ]
  },
  {
   "cell_type": "code",
   "execution_count": 211,
   "metadata": {},
   "outputs": [],
   "source": [
    "for i in range(27,30): #27-29\n",
    "    for j in range(1):\n",
    "        query=questions[i]\n",
    "        mis_answer = retrieval_chain.invoke({\"input\":query})['answer']\n",
    "        Mistral_answers.append(mis_answer)\n",
    "        # break"
   ]
  },
  {
   "cell_type": "code",
   "execution_count": 212,
   "metadata": {},
   "outputs": [
    {
     "data": {
      "text/plain": [
       "['ACRS stands for Accelerated Credit Registration System. It is a system at SASTRA University that allows high-performing students with a minimum CGPA and SGPA of 7.5 to complete their course work requirements by the seventh semester. This enables them to utilize the eighth semester solely for project work, which they can do in academic institutions, R&D centers, industries in India or premier institutions abroad. Additionally, students with a CGPA of 7.5 or higher can register for an open elective course each semester, starting from the fourth semester onwards.',\n",
       " \"The context provided does not include information about a person named Muthubalan. Therefore, I'm unable to answer the question about Muthubalan's areas of interest.\",\n",
       " \"Dr. John Bosco Balaguru R's designation is Associate Professor.\",\n",
       " 'SASTRA offers the following B.Tech. programs at their Thanjavur and Kumbakonam campuses:\\n\\n1. Aerospace Engineering\\n2. Bioengineering\\n3. Bioinformatics\\n4. Biotechnology\\n5. Chemical Engineering\\n6. Civil Engineering\\n7. Computer Science & Business Systems\\n8. Computer Science & Engineering\\n9. Computer Science & Engineering (Artificial Intelligence & Data Science)\\n10. Computer Science & Engineering (Cyber Security & Block Chain Technology)\\n\\nPlease note that the Kumbakonam campus offers the aforementioned B.Tech. programs. You can find these programs listed in the context you provided under the \"Programmes\" section for the Kumbakonam campus.',\n",
       " 'The admission to B.Tech. programs at SASTRA is done through the Office of Admissions of SASTRA, either in Stream 1 or 2. In Stream 1, 50% of the seats are filled based on the normalised aggregate Class XII scores and available JEE Main (2024) scores, with each having 50% weightage. The seats are filled based on the ranks secured by the students.\\n\\nTo be eligible for admission, a candidate should have passed the +2 examination with Mathematics & Physics as compulsory subjects and either Chemistry / Biotechnology / Computer Science / Biology with a minimum +2 aggregate of 60% marks in a single sitting. Additionally, candidates should have passed the final examination of +2 Higher Secondary Course in the academic stream with Mathematics, Physics and Chemistry as subjects of study or vocational stream with Mathematics as one of the subjects of study.',\n",
       " 'The facilities available in SASTRA hostels include:\\n\\n* Steam-cooking facilities for providing balanced vegetarian meals\\n* Both South Indian and North Indian cuisine\\n* Wi-Fi with 1Gbps speed\\n* Single, 2-in-1, 3-in-1, 4-in-1, 5-in-1, and 6-in-1 room options\\n* Bath attached rooms are also available\\n\\nNote that the hostels can accommodate over 4000 boys and 2400 girls.',\n",
       " 'Based on the provided context, the hostel has different types of rooms available. Here are the prices for some of them:\\n\\n* Single Room (without bath attached): This information is not provided in the context.\\n* 2-in-1 (also known as double room, with bath attached): The context does not provide specific pricing for this type of room, but it is included in the list of available options.\\n* 4-in-1 (with bath attached): The cost for this type of room is not explicitly provided in the context, but it is mentioned that the fees structure is available at a specific URL.\\n\\nAdditionally, the context provides information about other types of rooms, such as 3-in-1, 5-in-1, and 6-in-1, but it does not provide pricing details for those rooms.\\n\\nTherefore, I cannot provide a direct answer to your question as the context does not provide specific pricing information for single, double, and 4-in-1 rooms. However, I have summarized the available information that might help you to get an idea about the room prices.',\n",
       " 'To calculate the Cumulative Grade Point Average (CGPA), you can follow the formula provided in the context:\\n\\nCGPA = (SGPA1 \\\\* Ni + SGPA2 \\\\* N2 + ... + SGPAk \\\\* Nk) / (N1 + N2 + ... + Nk)\\n\\nWhere:\\n\\n* SGPAi is the Semester Grade Point Average of the ith semester\\n* Ni is the number of credits taken by the student in the ith semester\\n* k is the number of semesters that the student has undergone\\n\\nThe SGPA is calculated as the sum of (Ci \\\\* Pi) for all courses in the semester, divided by the sum of Ci for all courses in the semester.\\n\\nCi is the credit assigned to the ith course, and Pi is the grade point secured in the ith course.\\n\\nSo, to calculate the CGPA, you need to first calculate the SGPA for each semester, then use the formula above to combine them.',\n",
       " \"To calculate the Semester Grade Point Average (SGPA) for a particular semester, you need to follow these steps:\\n\\n1. Determine the credit (Ci) assigned to each of the 'n' courses that the student has registered for.\\n2. Determine the grade point (Pi) secured in each of the 'n' courses.\\n3. Calculate the sum of the products of the credit and grade point for all 'n' courses, i.e., ΣCiPi\\n4. Calculate the sum of the credits of all 'n' courses, i.e., ΣCi\\n5. The SGPA is then calculated as the ratio of the sum of the products of credit and grade points (ΣCiPi) to the sum of the credits (ΣCi).\\n\\nMathematically, it is represented as: SGPA = ΣCiPi / ΣCi\\n\\nThis calculation gives you the Semester Grade Point Average (SGPA) for a particular semester.\",\n",
       " \"The contact details for the Registrar's Office at SASTRA Deemed University are as follows:\\n\\nPhone: 04362/350004\\nEmail: `This email address is being protected from spambots. You need JavaScript enabled to view it.`\",\n",
       " 'Based on the provided context, there is no direct contact information for the Dean of Student Affairs at SASTRA. However, you can contact SASTRA Deeemed University using the following contact information:\\n\\nPhone numbers:\\n* +91 4362 264101 - 108\\n* +91 4362 350001 (20 lines)\\n* +91 4362 264120\\n\\nEmail:\\n* admissionssastra.edu\\n\\nMailing address:\\nSASTRA DEEMED UNIVERSITY\\nTirumalaisamudram\\nThanjavur - 613401\\nTamilnadu, India\\n\\nYou can also contact the Associate Dean - Student Welfare, Dr. Alageswaran R, at alageswarancse.sastra.edu.',\n",
       " \"Anila Glory's educational qualifications are B.E.(Computer Science & Engineering), M.E.(Computer Science & Engineering), and Ph.D.\",\n",
       " 'The minimum attendance required for a student to attend the semester examination is 80%.',\n",
       " 'If you score more than 50 marks out of 100 in a course, you can get a grade of D or higher. According to the grading scheme provided, a grade of D is awarded to students who secure between 50% and 54% (50-54 marks out of 100), while grades of C, B, A, and S are awarded for higher scores. The corresponding grade points for these grades are 6, 7, 8, 9, and 10, respectively.',\n",
       " \"Based on the context provided, the letter grade 'E' means 'Exposure' in the grading system. However, it's worth noting that this specific grade does not seem to be associated with any percentage range or grade points, unlike the other letter grades mentioned in the context. It is also mentioned that a student can receive an 'Exposure' grade if they were absent for the course.\",\n",
       " 'In the provided context, SAP stands for Senior Assistant Professor. It is a designation for faculty members at the School of Electrical and Electronics Engineering and the School of Computing.',\n",
       " 'Based on the provided context, there are no clear definitions or explanations for the letters \"L\", \"T\", and \"P\". Therefore, it is not possible to provide an accurate response to this question without additional context.',\n",
       " 'To contact the Dean of the School of Electrical and Electronics Engineering (SEEE), you can email Dr. Sridhar K at [sridharece.sastra.edu](mailto:sridharece.sastra.edu). Alternatively, you can visit the school\\'s website and look for the \"Contact Us\" page to find other ways to get in touch with the Dean\\'s office.',\n",
       " 'The specialty of DAKSH lies in its role as a huge platform for students to showcase their technical prowess and management talents. It is an annual techno-management festival of SASTRA University that features a myriad of events, workshops, power talks, and student activities. DAKSH is known for its unique events, thousands of participants, and varying themes that encourage students to explore new frontiers in science, technology, and management. With the introduction of online events, DAKSH now attracts international participants as well. The festival aims to provide hands-on experience to students beyond textbooks and classrooms, making it a valuable experience for participants.',\n",
       " 'The different events conducted in Kuruksastra include arts, music, literary events in English, Tamil and Hindi, and dance. There are also technical events, such as those focused on science, technology, and management. These events are open to students from top institutes all over India, and with the introduction of online events, international participants are also welcome. Therefore, students who are interested in these fields and want to open new challenging frontiers for themselves should participate in the event.',\n",
       " 'The Central Library of SASTRA, named Saraswathi Sadan, is an architectural marvel spread over an area of about 4,340 sq. m. It is the nerve center of the campus, catering to the literary and knowledge needs of the faculty and students. The library has integrated Information & Communication Technology tools, ensuring it stays relevant in the 21st century. It offers resources like annual subscription to bibliographic databases such as Web of Sciences, providing access to over 16,400 titles. SASTRA is also an associate member of the e-SHODH SINDHU, which provides access to online resources. Online access to e-books and e-journals is available for on-campus users, and off-campus access is provided through the Knimbus software tool.',\n",
       " 'Based on the provided context, the following laboratories are available in Vidyut Vihar:\\n\\n1. A.C & D.C Machines Laboratory',\n",
       " 'Yes, Wi-Fi facility is available in SASTRA hostel with a speed of 1Gbps.',\n",
       " 'The services available in SASTRA hospital include medical checkups, consultation and referrals, and medication management. The hospital, called Vaidyanatha Arogyasala, has 10 beds and is equipped with sophisticated medical equipment. It has two full-time doctors, one resident doctor, and adequate paramedical staff available to attend to medical needs. The hospital provides free medical consultation to students and the surrounding villages. In addition to general medical services, the hospital is also prepared to handle medical emergencies 24/7.',\n",
       " 'SASTRA University provides several innovation opportunities to its students. Here are a few:\\n\\n1. Research exposure to undergraduate students: SASTRA University offers research opportunities to its undergraduate students, providing them with a chance to work on real-world problems and innovations.\\n2. Two technology business incubators (TBI): SASTRA houses two technology business incubators with the support from the Department of Science & Technology (DST) and Department of Biotechnology (DBT). These incubators provide students with the resources and support they need to turn their ideas into viable businesses.\\n3. Foundation for Innovation and Research at SASTRA TBI (FIRST): FIRST is a Section 8 company established in 2017, jointly supported by DST and SASTRA, to nurture innovations in 3D printing, Internet of Things, Virtual Reality and Augmented Reality.\\n4. Online mentoring system: SASTRA provides an online mentoring system that connects students with industry experts and mentors, providing them with guidance and support for their innovative projects.\\n5. Cultural Events: SASTRA has several student clubs that provide students with the opportunity to express their creativity and talents. These clubs also serve as a platform for students to innovate and come up with new and creative ideas.\\n\\nOverall, SASTRA University provides several innovation opportunities to its students, ranging from research and incubation to mentoring and cultural events, fostering a culture of innovation and creativity.',\n",
       " 'The NAAC score of SASTRA is 3.76 and it has not been provided with a specific ranking by NAAC as the accreditation is provided through grades. In the NIRF ranking, SASTRA has consistently secured top ranks in the Engineering category, however, the exact ranking was not provided in the context.',\n",
       " \"SASTRA provides several sports facilities, including:\\n\\n1. Men's gymnasium named 'Maruti' equipped with state-of-the-art facilities such as treadmills, weights, etc.\\n2. Girl's gymnasium located in the girl's hostel, which includes a basketball court, volleyball court, treadmill, and table tennis board.\\n3. An indoor stadium named 'MARUTI' equipped with billiards tables, badminton courts, a basketball court, table tennis, and carrom board with indoor lighting facility.\\n4. Sports facilities for various events and tournaments, such as track & field, cricket, football, hockey, basket ball, volleyball, Frisbee, badminton, table tennis, chess, body building, and weight lifting.\\n5. A physical director, physical directress, and a weight trainer to guide students to sporting glory.\\n\\nSASTRA sports teams have won places in the district and zonal levels and have participated in national level contests. The students have won laurels in various sports such as basketball, table tennis, kabaddi, body building, weight lifting, swimming, and Go-karting.\",\n",
       " 'Based on the context provided, cocurricular activities in SASTRA include:\\n\\n1. Participation in student clubs such as Auto club, Literary clubs (Tamil, English, Hindi and Telugu), Oratory & Debating clubs (Tamil, English, Hindi and Telugu), and Fine-Arts club (Music, Dance, Painting).\\n2. Participation in cultural festivals such as CARPE DIEM, where students can showcase their talents and have the opportunity to be part of the University cultural team.\\n3. Participation in clubs and activities organized by student coordinators and staff coordinators, which take place after working hours each week and commences every academic year.\\n4. Participation in competitions, events, and activities organized by various clubs throughout the academic year, culminating in a final showdown at the end of each academic year.\\n\\nThese cocurricular activities provide students with opportunities to develop skills outside of the classroom, build relationships with peers, and engage in meaningful experiences.',\n",
       " \"Padmapriya belongs to the School of Computing, Department MCA, based on the provided context.\\n\\nDr. Manjula KR's areas of interest include Data Mining, Geo-Spatial Data Mining, Web Mining, GIS & Remote Sensing, Image Processing and Analysis, Spatial Uncertainty, GIS Ontology, Object Oriented Analysis & Design, Object Based Data Modeling, Sustainable Resources - Green Technology, and Big Data Analytics.\",\n",
       " 'The email address of Betty Martin is bettymartin@sastra.edu.']"
      ]
     },
     "execution_count": 212,
     "metadata": {},
     "output_type": "execute_result"
    }
   ],
   "source": [
    "Mistral_answers"
   ]
  },
  {
   "cell_type": "code",
   "execution_count": 213,
   "metadata": {},
   "outputs": [
    {
     "data": {
      "text/plain": [
       "30"
      ]
     },
     "execution_count": 213,
     "metadata": {},
     "output_type": "execute_result"
    }
   ],
   "source": [
    "len(Mistral_answers)"
   ]
  },
  {
   "cell_type": "code",
   "execution_count": 214,
   "metadata": {},
   "outputs": [
    {
     "data": {
      "text/plain": [
       "'The email address of Betty Martin is bettymartin@sastra.edu.'"
      ]
     },
     "execution_count": 214,
     "metadata": {},
     "output_type": "execute_result"
    }
   ],
   "source": [
    "Mistral_answers[29]"
   ]
  },
  {
   "cell_type": "code",
   "execution_count": 215,
   "metadata": {},
   "outputs": [
    {
     "data": {
      "text/plain": [
       "['what is ACRS?',\n",
       " 'what are areas of interest of muthubalan?',\n",
       " 'what is the designation of john bosco?',\n",
       " 'what are the progams offered in B.Tech by sastra?',\n",
       " 'what is the admission process to get seat in B.Tech in sastra?',\n",
       " 'what are facilities available in sastra hostel?',\n",
       " 'what are the prices of single, double, 4 in 1 rooms in hostel?',\n",
       " 'How to calculate CGPA?',\n",
       " 'how to calculate SGPA?',\n",
       " 'what is the contact details of registrar?',\n",
       " 'how can i contact dean of student affairs sastra?',\n",
       " 'what are educational qualifications of anila glory?',\n",
       " 'what is the minimum attendance required for attending semester exam?',\n",
       " 'If i score more than 50 marks what grade i can get?',\n",
       " 'what does the letter E means in grading?',\n",
       " 'what is SAP?',\n",
       " 'what is L,T,P?',\n",
       " 'how to contact dean of SEEE?',\n",
       " 'what is speciality of daksh',\n",
       " 'what are different events conducted in kuruksastra? who should participate in the event?',\n",
       " 'tell me about library in sastra',\n",
       " 'what are different laboratories available in vidhyut vihar?',\n",
       " 'is wifi facility available in SASTRA hostel? what is the speed of wifi?',\n",
       " 'what are services available in sastra hospital?',\n",
       " 'what are innovation opportunities available in sastra?',\n",
       " 'what is NAAC score and NIRF ranking of SASTRA?',\n",
       " 'what are sports facilities available in sastra?',\n",
       " 'what are cocurricular activities in sastra',\n",
       " 'to which department does padmapriya belongs to? and what are areas of interest of manjula KR',\n",
       " 'what is the email address of betty martin?']"
      ]
     },
     "execution_count": 215,
     "metadata": {},
     "output_type": "execute_result"
    }
   ],
   "source": [
    "questions"
   ]
  },
  {
   "cell_type": "code",
   "execution_count": 12,
   "metadata": {},
   "outputs": [
    {
     "name": "stderr",
     "output_type": "stream",
     "text": [
      "c:\\Users\\dines\\Desktop\\SASBOT\\myenv\\lib\\site-packages\\huggingface_hub\\file_download.py:1132: FutureWarning: `resume_download` is deprecated and will be removed in version 1.0.0. Downloads always resume when possible. If you want to force a new download, use `force_download=True`.\n",
      "  warnings.warn(\n"
     ]
    }
   ],
   "source": [
    "model = CrossEncoder('vectara/hallucination_evaluation_model')"
   ]
  },
  {
   "cell_type": "code",
   "execution_count": 220,
   "metadata": {},
   "outputs": [],
   "source": [
    "scores=[]"
   ]
  },
  {
   "cell_type": "code",
   "execution_count": 221,
   "metadata": {},
   "outputs": [
    {
     "name": "stdout",
     "output_type": "stream",
     "text": [
      "0.94965494\n",
      "0.5203133\n",
      "0.9960508\n",
      "0.82726014\n",
      "0.87422734\n",
      "0.98483676\n",
      "0.553227\n",
      "0.7044091\n",
      "0.95489943\n",
      "0.23569942\n",
      "0.42550698\n",
      "0.98726803\n",
      "0.9542948\n",
      "0.4647648\n",
      "0.3446311\n",
      "0.6137047\n",
      "0.046057235\n",
      "0.49748275\n",
      "0.99530196\n",
      "0.99664366\n",
      "0.99900323\n",
      "0.33176944\n",
      "0.99549735\n",
      "0.99899524\n",
      "0.969165\n",
      "0.6876546\n",
      "0.67562634\n",
      "0.8832496\n",
      "0.66083837\n",
      "0.09227599\n"
     ]
    }
   ],
   "source": [
    "for i in range(30):\n",
    "    score=model.predict([references[i],Mistral_answers[i]])\n",
    "    print(score)\n",
    "    scores.append(score)"
   ]
  },
  {
   "cell_type": "code",
   "execution_count": 222,
   "metadata": {},
   "outputs": [
    {
     "data": {
      "text/plain": [
       "[0.94965494,\n",
       " 0.5203133,\n",
       " 0.9960508,\n",
       " 0.82726014,\n",
       " 0.87422734,\n",
       " 0.98483676,\n",
       " 0.553227,\n",
       " 0.7044091,\n",
       " 0.95489943,\n",
       " 0.23569942,\n",
       " 0.42550698,\n",
       " 0.98726803,\n",
       " 0.9542948,\n",
       " 0.4647648,\n",
       " 0.3446311,\n",
       " 0.6137047,\n",
       " 0.046057235,\n",
       " 0.49748275,\n",
       " 0.99530196,\n",
       " 0.99664366,\n",
       " 0.99900323,\n",
       " 0.33176944,\n",
       " 0.99549735,\n",
       " 0.99899524,\n",
       " 0.969165,\n",
       " 0.6876546,\n",
       " 0.67562634,\n",
       " 0.8832496,\n",
       " 0.66083837,\n",
       " 0.09227599]"
      ]
     },
     "execution_count": 222,
     "metadata": {},
     "output_type": "execute_result"
    }
   ],
   "source": [
    "scores"
   ]
  },
  {
   "cell_type": "code",
   "execution_count": 227,
   "metadata": {},
   "outputs": [
    {
     "data": {
      "text/plain": [
       "0.046057235"
      ]
     },
     "execution_count": 227,
     "metadata": {},
     "output_type": "execute_result"
    }
   ],
   "source": [
    "scores[16]"
   ]
  },
  {
   "cell_type": "code",
   "execution_count": 228,
   "metadata": {},
   "outputs": [
    {
     "data": {
      "text/plain": [
       "'what is L,T,P?'"
      ]
     },
     "execution_count": 228,
     "metadata": {},
     "output_type": "execute_result"
    }
   ],
   "source": [
    "questions[16]"
   ]
  },
  {
   "cell_type": "code",
   "execution_count": 229,
   "metadata": {},
   "outputs": [
    {
     "data": {
      "text/plain": [
       "'What can or should I bring?\\n\\nFlashlight, Batteries Hangers Erasable message board Stationery, stamps Dictionary, Thesaurus Laundry bag/basket Plastic storage crates Alarm clock/Clock radio Pens, Pencils, Erasers, Notebooks Iron Daily Planner Desk lamp Calendar Eating utensils, Tupperware Envelopes, Stamps Towels, washcloths First aid kit Bowls, cups Extension cord Pillows, Mattress pad Stapler, Scissors, Tape Extra-long sheets Umbrella Air fresheners Dust bin Shower slippers Toiletries, hygiene supplies\\n\\nHow can I get involved?Click here\\n\\n\\n\\n\\n\\n\\n\\nDr. LALITHAMBIKA .K.C\\nAsst. Professor - III\\nlalikcleee.sastra.edu\\n\\n\\n\\n\\n\\n\\n\\nSchool School of Electrical and Electronics Engineering\\nDesignation AP - III\\nDepartment Physics\\nEducational QualificationsM.Sc.,M.Phil.,Ph.D.\\nAreas of InterestThin films\\nORCID URL\\n\\nClick here\\n\\n\\n\\n\\n\\n\\n\\nDr. NATARAJAN .S\\nAsst. Professor - III\\nnatarajanseee.sastra.eduEducational QualificationsPh. D - Theoretical Physics - Nonlinear Dynamics\\rCentre for Nonlinear Dynamics, School of Physics, Bharathidasan University, Tiruchirapalli 620 024, India\\r\\rM. Sc., Physics\\rSchool of Physics, Bharathidasan University, Tiruchirapalli 620 024, India\\r\\rB. Sc., Physics\\rGovernment Arts College, Karur, Tamil Nadu, India\\r--------------------------------------------------\\rDetails of Employment and Nature of Duties:\\r--------------------------------------------------\\r> Visiting Research Fellow at the Physics Department, Lancaster University, UK (01-05-2007 to 31-03-2008)\\r\\r>Click here\\n\\n\\n\\n\\n\\n\\n\\nDr. LENIN PRAKASH S\\nAsst. Professor - II\\nleninprakasheee.sastra.edu\\n\\n\\n\\n\\n\\n\\n\\nSchool School of Electrical and Electronics Engineering\\nDesignation AP - II\\nDepartment EEE\\nEducational QualificationsB.Tech., M.E., Ph.D\\nAreas of InterestPower Electronics, Electrical Drives, Electric Vehicles, Power Quality, Renewable Energy Conversion.\\nORCID URL\\n Click here\\n\\n\\n\\n\\n\\n\\n\\nDr. SURESH RAMACHANDRAN\\nAsst. Professor - I - Research\\nsuresheee.sastra.edu'"
      ]
     },
     "execution_count": 229,
     "metadata": {},
     "output_type": "execute_result"
    }
   ],
   "source": [
    "references[16]"
   ]
  },
  {
   "cell_type": "code",
   "execution_count": 230,
   "metadata": {},
   "outputs": [
    {
     "data": {
      "text/plain": [
       "'Based on the provided context, there are no clear definitions or explanations for the letters \"L\", \"T\", and \"P\". Therefore, it is not possible to provide an accurate response to this question without additional context.'"
      ]
     },
     "execution_count": 230,
     "metadata": {},
     "output_type": "execute_result"
    }
   ],
   "source": [
    "Mistral_answers[16]"
   ]
  },
  {
   "cell_type": "code",
   "execution_count": 234,
   "metadata": {},
   "outputs": [
    {
     "data": {
      "text/plain": [
       "0.7073436477531989"
      ]
     },
     "execution_count": 234,
     "metadata": {},
     "output_type": "execute_result"
    }
   ],
   "source": [
    "sum(scores)/(len(scores))"
   ]
  },
  {
   "cell_type": "code",
   "execution_count": 237,
   "metadata": {},
   "outputs": [
    {
     "name": "stdout",
     "output_type": "stream",
     "text": [
      "                                             Question  \\\n",
      "0                                       what is ACRS?   \n",
      "1           what are areas of interest of muthubalan?   \n",
      "2              what is the designation of john bosco?   \n",
      "3   what are the progams offered in B.Tech by sastra?   \n",
      "4   what is the admission process to get seat in B...   \n",
      "5     what are facilities available in sastra hostel?   \n",
      "6   what are the prices of single, double, 4 in 1 ...   \n",
      "7                              How to calculate CGPA?   \n",
      "8                              how to calculate SGPA?   \n",
      "9           what is the contact details of registrar?   \n",
      "10  how can i contact dean of student affairs sastra?   \n",
      "11  what are educational qualifications of anila g...   \n",
      "12  what is the minimum attendance required for at...   \n",
      "13  If i score more than 50 marks what grade i can...   \n",
      "14           what does the letter E means in grading?   \n",
      "15                                       what is SAP?   \n",
      "16                                     what is L,T,P?   \n",
      "17                       how to contact dean of SEEE?   \n",
      "18                        what is speciality of daksh   \n",
      "19  what are different events conducted in kuruksa...   \n",
      "20                    tell me about library in sastra   \n",
      "21  what are different laboratories available in v...   \n",
      "22  is wifi facility available in SASTRA hostel? w...   \n",
      "23    what are services available in sastra hospital?   \n",
      "24  what are innovation opportunities available in...   \n",
      "25     what is NAAC score and NIRF ranking of SASTRA?   \n",
      "26    what are sports facilities available in sastra?   \n",
      "27         what are cocurricular activities in sastra   \n",
      "28  to which department does padmapriya belongs to...   \n",
      "29         what is the email address of betty martin?   \n",
      "\n",
      "                                            Reference  \\\n",
      "0   5.5.6 Students in the B. Tech. programme have ...   \n",
      "1   Click here\\n\\n\\n\\n\\n\\n\\n\\nDr. UMA .D\\nSr. Asst...   \n",
      "2   Faculty Key List\\nSchool of Electrical and Ele...   \n",
      "3   What full-time programmes does SASTRA offer? \\...   \n",
      "4   How are admissions done? \\r\\n\\t\\r\\n\\tThe Admis...   \n",
      "5   SASTRA has always believed in catering to the ...   \n",
      "6   Is hostel facility available?\\r\\n\\t\\r\\n\\tThere...   \n",
      "7   9.5 Calculation of Cumulative Grade Point Aver...   \n",
      "8   9.4 The average performance of a student in a ...   \n",
      "9   S.No School / Office E.Mail Phone 1 Chancellor...   \n",
      "10  How can I get involved?\\n\\nThere are many prog...   \n",
      "11  Dr. ANILA GLORY H\\nAsst. Professor - II\\nanila...   \n",
      "12  remaining semesters \\n \\n8.5 A student who has...   \n",
      "13  ______________________________________________...   \n",
      "14  ______________________________________________...   \n",
      "15  School School of Electrical and Electronics En...   \n",
      "16  What can or should I bring?\\n\\nFlashlight, Bat...   \n",
      "17  Click here\\n\\n\\n\\n\\n\\n\\n\\nDr. SRIDHAR K\\nDean ...   \n",
      "18  DAKSH, the international techno-management fes...   \n",
      "19  EVENTS @ KS\\n\\nDANCE\\n\\nWhether it be the move...   \n",
      "20  Saraswathi Sadan, the Central Library of SASTR...   \n",
      "21  10. Vidya Vihar 28 Class rooms for I years 11....   \n",
      "22  SASTRA has always believed in catering to the ...   \n",
      "23  Hospital\\n\\n\\n\\n\\n\\nSASTRA requires a complete...   \n",
      "24  Each year brings about varying themes ranging ...   \n",
      "25  NAAC Accreditation\\n\\nAs a University, SASTRA ...   \n",
      "26  Sports  \\n \\nIn tune with the popular adage ‘A...   \n",
      "27  The student clubs organize CARPE DIEM – the an...   \n",
      "28  Click here\\n\\n\\n\\n\\n\\n\\n\\nDr. MANJULA KR\\nAsso...   \n",
      "29  Click here\\n\\n\\n\\n\\n\\n\\n\\nDr. BETTY MARTIN\\nSr...   \n",
      "\n",
      "                                     Mistral_Responce  Hallucination_Score  \n",
      "0   ACRS stands for Accelerated Credit Registratio...             0.949655  \n",
      "1   The context provided does not include informat...             0.520313  \n",
      "2   Dr. John Bosco Balaguru R's designation is Ass...             0.996051  \n",
      "3   SASTRA offers the following B.Tech. programs a...             0.827260  \n",
      "4   The admission to B.Tech. programs at SASTRA is...             0.874227  \n",
      "5   The facilities available in SASTRA hostels inc...             0.984837  \n",
      "6   Based on the provided context, the hostel has ...             0.553227  \n",
      "7   To calculate the Cumulative Grade Point Averag...             0.704409  \n",
      "8   To calculate the Semester Grade Point Average ...             0.954899  \n",
      "9   The contact details for the Registrar's Office...             0.235699  \n",
      "10  Based on the provided context, there is no dir...             0.425507  \n",
      "11  Anila Glory's educational qualifications are B...             0.987268  \n",
      "12  The minimum attendance required for a student ...             0.954295  \n",
      "13  If you score more than 50 marks out of 100 in ...             0.464765  \n",
      "14  Based on the context provided, the letter grad...             0.344631  \n",
      "15  In the provided context, SAP stands for Senior...             0.613705  \n",
      "16  Based on the provided context, there are no cl...             0.046057  \n",
      "17  To contact the Dean of the School of Electrica...             0.497483  \n",
      "18  The specialty of DAKSH lies in its role as a h...             0.995302  \n",
      "19  The different events conducted in Kuruksastra ...             0.996644  \n",
      "20  The Central Library of SASTRA, named Saraswath...             0.999003  \n",
      "21  Based on the provided context, the following l...             0.331769  \n",
      "22  Yes, Wi-Fi facility is available in SASTRA hos...             0.995497  \n",
      "23  The services available in SASTRA hospital incl...             0.998995  \n",
      "24  SASTRA University provides several innovation ...             0.969165  \n",
      "25  The NAAC score of SASTRA is 3.76 and it has no...             0.687655  \n",
      "26  SASTRA provides several sports facilities, inc...             0.675626  \n",
      "27  Based on the context provided, cocurricular ac...             0.883250  \n",
      "28  Padmapriya belongs to the School of Computing,...             0.660838  \n",
      "29  The email address of Betty Martin is bettymart...             0.092276  \n"
     ]
    }
   ],
   "source": [
    "# Create 4 lists\n",
    "import pandas as pd\n",
    "# Create a dictionary from the lists\n",
    "data = {'Question': questions, 'Reference': references, 'Mistral_Responce': Mistral_answers, 'Hallucination_Score': scores}\n",
    "\n",
    "# Create a DataFrame from the dictionary\n",
    "df = pd.DataFrame(data)\n",
    "\n",
    "# Print the DataFrame\n",
    "print(df)\n",
    "\n",
    "# Save the DataFrame to a local CSV file\n",
    "df.to_csv('Mistral_test.csv', index=False)"
   ]
  },
  {
   "cell_type": "code",
   "execution_count": 238,
   "metadata": {},
   "outputs": [
    {
     "data": {
      "text/plain": [
       "OpenAIEmbeddings(client=<openai.resources.embeddings.Embeddings object at 0x000001EA23766B50>, async_client=<openai.resources.embeddings.AsyncEmbeddings object at 0x000001EA2377FDC0>, model='text-embedding-ada-002', dimensions=None, deployment='text-embedding-ada-002', openai_api_version='', openai_api_base=None, openai_api_type='', openai_proxy='', embedding_ctx_length=8191, openai_api_key=SecretStr('**********'), openai_organization=None, allowed_special=set(), disallowed_special='all', chunk_size=1000, max_retries=2, request_timeout=None, headers=None, tiktoken_enabled=True, tiktoken_model_name=None, show_progress_bar=False, model_kwargs={}, skip_empty=False, default_headers=None, default_query=None, retry_min_seconds=4, retry_max_seconds=20, http_client=None, http_async_client=None)"
      ]
     },
     "execution_count": 238,
     "metadata": {},
     "output_type": "execute_result"
    }
   ],
   "source": [
    "OpenAIEmbeddings()"
   ]
  },
  {
   "cell_type": "code",
   "execution_count": null,
   "metadata": {},
   "outputs": [],
   "source": []
  }
 ],
 "metadata": {
  "kernelspec": {
   "display_name": "Python 3",
   "language": "python",
   "name": "python3"
  },
  "language_info": {
   "codemirror_mode": {
    "name": "ipython",
    "version": 3
   },
   "file_extension": ".py",
   "mimetype": "text/x-python",
   "name": "python",
   "nbconvert_exporter": "python",
   "pygments_lexer": "ipython3",
   "version": "3.9.19"
  }
 },
 "nbformat": 4,
 "nbformat_minor": 2
}
