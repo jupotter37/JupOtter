{
 "cells": [
  {
   "cell_type": "code",
   "execution_count": 66,
   "metadata": {},
   "outputs": [],
   "source": [
    "import findspark\n",
    "findspark.init('/home/sdmohant/spark-3.0.0-bin-hadoop2.7')\n",
    "\n",
    "import pyspark\n",
    "import random"
   ]
  },
  {
   "cell_type": "code",
   "execution_count": 67,
   "metadata": {},
   "outputs": [],
   "source": [
    "from pyspark.sql import SparkSession"
   ]
  },
  {
   "cell_type": "code",
   "execution_count": 68,
   "metadata": {},
   "outputs": [],
   "source": [
    "from pyspark import SparkContext\n",
    "#from pyspark import SparkConf\n",
    "from pyspark.sql import SQLContext\n",
    "from pyspark.sql.types import *\n"
   ]
  },
  {
   "cell_type": "code",
   "execution_count": 69,
   "metadata": {},
   "outputs": [],
   "source": [
    "#sc = SparkContext('local')"
   ]
  },
  {
   "cell_type": "code",
   "execution_count": 70,
   "metadata": {},
   "outputs": [],
   "source": [
    "spark = SparkSession.builder.appName('Basics').getOrCreate()"
   ]
  },
  {
   "cell_type": "code",
   "execution_count": 71,
   "metadata": {},
   "outputs": [],
   "source": [
    "sc = spark.sparkContext"
   ]
  },
  {
   "cell_type": "code",
   "execution_count": 72,
   "metadata": {},
   "outputs": [],
   "source": [
    "txt_file = sc.textFile(\"../Data/graph/2018-02-02/ConferenceSeries.txt\")"
   ]
  },
  {
   "cell_type": "code",
   "execution_count": 73,
   "metadata": {},
   "outputs": [],
   "source": [
    "sqlContext = SQLContext(sc)"
   ]
  },
  {
   "cell_type": "code",
   "execution_count": 74,
   "metadata": {},
   "outputs": [],
   "source": [
    "header = txt_file.first()"
   ]
  },
  {
   "cell_type": "code",
   "execution_count": 75,
   "metadata": {},
   "outputs": [],
   "source": [
    "fields = [StructField(field_name, StringType(),True) for field_name in header.split(\"\\\\t\") ]"
   ]
  },
  {
   "cell_type": "code",
   "execution_count": 76,
   "metadata": {},
   "outputs": [],
   "source": [
    "schema = StructType(fields)"
   ]
  },
  {
   "cell_type": "code",
   "execution_count": 77,
   "metadata": {},
   "outputs": [],
   "source": [
    "txt_file = txt_file.filter(lambda line : line!= header)"
   ]
  },
  {
   "cell_type": "code",
   "execution_count": 78,
   "metadata": {},
   "outputs": [
    {
     "data": {
      "text/plain": [
       "[u'1141689323\\t11674\\tIEEM\\tIndustrial Engineering and Engineering Management\\t7218\\t7851',\n",
       " u'2727030889\\t13563\\tBigDataSecurity\\tInternational Conference on Big Data Security on Cloud \\t120\\t122',\n",
       " u'2757782454\\t25000\\tSSVM\\tScale Space and Variational Methods in Computer Vision\\t1\\t21',\n",
       " u'2754909024\\t13978\\tICARM\\tInternational Conference on Advanced Robotics and Mechatronics\\t115\\t31',\n",
       " u'2758502524\\t11494\\tGreenCom\\tGreen Computing and Communications\\t417\\t1947',\n",
       " u'2755154462\\t11589\\tBodyNets\\tInternational Conference on Body Area Networks\\t475\\t2605',\n",
       " u'2755191446\\t12332\\tIWDDC\\tInternational Waveform Diversity and Design Conference\\t291\\t1457',\n",
       " u'2755241531\\t10609\\tFG \\tIEEE International Conference on Automatic Face & Gesture Recognition\\t736\\t11601',\n",
       " u'2755283090\\t10519\\tICAI\\tInternational Conference on Artificial Intelligence\\t4485\\t10952',\n",
       " u'1171878286\\t12080\\tVaMoS\\tVariability Modelling of Software-Intensive Systems\\t247\\t2633']"
      ]
     },
     "execution_count": 78,
     "metadata": {},
     "output_type": "execute_result"
    }
   ],
   "source": [
    "txt_file.take(10)"
   ]
  },
  {
   "cell_type": "code",
   "execution_count": 79,
   "metadata": {},
   "outputs": [],
   "source": [
    "temp_var = txt_file.map(lambda k: k.split(\"\\t\"))"
   ]
  },
  {
   "cell_type": "code",
   "execution_count": 80,
   "metadata": {},
   "outputs": [],
   "source": [
    "df = temp_var.toDF()"
   ]
  },
  {
   "cell_type": "code",
   "execution_count": 81,
   "metadata": {},
   "outputs": [
    {
     "name": "stdout",
     "output_type": "stream",
     "text": [
      "+----------+-----+---------------+--------------------+----+------+\n",
      "|        _1|   _2|             _3|                  _4|  _5|    _6|\n",
      "+----------+-----+---------------+--------------------+----+------+\n",
      "|1141689323|11674|           IEEM|Industrial Engine...|7218|  7851|\n",
      "|2727030889|13563|BigDataSecurity|International Con...| 120|   122|\n",
      "|2757782454|25000|           SSVM|Scale Space and V...|   1|    21|\n",
      "|2754909024|13978|          ICARM|International Con...| 115|    31|\n",
      "|2758502524|11494|       GreenCom|Green Computing a...| 417|  1947|\n",
      "|2755154462|11589|       BodyNets|International Con...| 475|  2605|\n",
      "|2755191446|12332|          IWDDC|International Wav...| 291|  1457|\n",
      "|2755241531|10609|            FG |IEEE Internationa...| 736| 11601|\n",
      "|2755283090|10519|           ICAI|International Con...|4485| 10952|\n",
      "|1171878286|12080|          VaMoS|Variability Model...| 247|  2633|\n",
      "|2755858460|13282|           RSMN|IEEE Regional Sym...| 374|   374|\n",
      "|2622835322|10826|          ICUWB|International Con...|1435|  9765|\n",
      "|2759959984|11945|           AIPR|Artificial Intell...| 141|   243|\n",
      "|1187904452| 8577|            DAC|Design Automation...|7503|189352|\n",
      "|1189509541|12726|          APWCS|Asia-Pacific Conf...| 109|   224|\n",
      "|2756045125|12203|            SWT|Wireless Conferen...| 111|   715|\n",
      "|2756137309|12335|          BEAMS|International Con...|1853|  1605|\n",
      "|2756314553|13130|           TCCI|Trans. Computatio...| 267|   516|\n",
      "|2754245976|13052|           ROSE|IEEE Internationa...| 130|   428|\n",
      "|2754374486|13431|          ICDCM|IEEE Internationa...| 170|   285|\n",
      "+----------+-----+---------------+--------------------+----+------+\n",
      "only showing top 20 rows\n",
      "\n"
     ]
    }
   ],
   "source": [
    "df.show()"
   ]
  },
  {
   "cell_type": "code",
   "execution_count": 82,
   "metadata": {},
   "outputs": [
    {
     "name": "stdout",
     "output_type": "stream",
     "text": [
      "root\n",
      " |-- _1: string (nullable = true)\n",
      " |-- _2: string (nullable = true)\n",
      " |-- _3: string (nullable = true)\n",
      " |-- _4: string (nullable = true)\n",
      " |-- _5: string (nullable = true)\n",
      " |-- _6: string (nullable = true)\n",
      "\n"
     ]
    }
   ],
   "source": [
    "df.printSchema()"
   ]
  },
  {
   "cell_type": "code",
   "execution_count": 83,
   "metadata": {},
   "outputs": [],
   "source": [
    "df = df.withColumn(\"ConfSeriesID\",df[\"_1\"].cast(LongType()))"
   ]
  },
  {
   "cell_type": "code",
   "execution_count": 84,
   "metadata": {},
   "outputs": [],
   "source": [
    "df = df.withColumn(\"CSRank\",df[\"_2\"].cast(LongType()))"
   ]
  },
  {
   "cell_type": "code",
   "execution_count": 85,
   "metadata": {},
   "outputs": [],
   "source": [
    "df = df.withColumn(\"CSNormalizedName\",df[\"_3\"].cast(StringType()))"
   ]
  },
  {
   "cell_type": "code",
   "execution_count": 86,
   "metadata": {},
   "outputs": [],
   "source": [
    "df = df.withColumn(\"CSDisplayName\",df[\"_4\"].cast(StringType()))"
   ]
  },
  {
   "cell_type": "code",
   "execution_count": 87,
   "metadata": {},
   "outputs": [],
   "source": [
    "df = df.withColumn(\"CSPaperCount\",df[\"_5\"].cast(IntegerType()))"
   ]
  },
  {
   "cell_type": "code",
   "execution_count": 88,
   "metadata": {},
   "outputs": [],
   "source": [
    "df = df.withColumn(\"CSCitation\",df[\"_6\"].cast(IntegerType()))"
   ]
  },
  {
   "cell_type": "code",
   "execution_count": 89,
   "metadata": {},
   "outputs": [
    {
     "name": "stdout",
     "output_type": "stream",
     "text": [
      "root\n",
      " |-- _1: string (nullable = true)\n",
      " |-- _2: string (nullable = true)\n",
      " |-- _3: string (nullable = true)\n",
      " |-- _4: string (nullable = true)\n",
      " |-- _5: string (nullable = true)\n",
      " |-- _6: string (nullable = true)\n",
      " |-- ConfSeriesID: long (nullable = true)\n",
      " |-- CSRank: long (nullable = true)\n",
      " |-- CSNormalizedName: string (nullable = true)\n",
      " |-- CSDisplayName: string (nullable = true)\n",
      " |-- CSPaperCount: integer (nullable = true)\n",
      " |-- CSCitation: integer (nullable = true)\n",
      "\n"
     ]
    }
   ],
   "source": [
    "df.printSchema()"
   ]
  },
  {
   "cell_type": "code",
   "execution_count": 90,
   "metadata": {},
   "outputs": [
    {
     "name": "stdout",
     "output_type": "stream",
     "text": [
      "+----------+-----+---------------+--------------------+----+-----+------------+------+----------------+--------------------+------------+----------+\n",
      "|        _1|   _2|             _3|                  _4|  _5|   _6|ConfSeriesID|CSRank|CSNormalizedName|       CSDisplayName|CSPaperCount|CSCitation|\n",
      "+----------+-----+---------------+--------------------+----+-----+------------+------+----------------+--------------------+------------+----------+\n",
      "|1141689323|11674|           IEEM|Industrial Engine...|7218| 7851|  1141689323| 11674|            IEEM|Industrial Engine...|        7218|      7851|\n",
      "|2727030889|13563|BigDataSecurity|International Con...| 120|  122|  2727030889| 13563| BigDataSecurity|International Con...|         120|       122|\n",
      "|2757782454|25000|           SSVM|Scale Space and V...|   1|   21|  2757782454| 25000|            SSVM|Scale Space and V...|           1|        21|\n",
      "|2754909024|13978|          ICARM|International Con...| 115|   31|  2754909024| 13978|           ICARM|International Con...|         115|        31|\n",
      "|2758502524|11494|       GreenCom|Green Computing a...| 417| 1947|  2758502524| 11494|        GreenCom|Green Computing a...|         417|      1947|\n",
      "|2755154462|11589|       BodyNets|International Con...| 475| 2605|  2755154462| 11589|        BodyNets|International Con...|         475|      2605|\n",
      "|2755191446|12332|          IWDDC|International Wav...| 291| 1457|  2755191446| 12332|           IWDDC|International Wav...|         291|      1457|\n",
      "|2755241531|10609|            FG |IEEE Internationa...| 736|11601|  2755241531| 10609|             FG |IEEE Internationa...|         736|     11601|\n",
      "|2755283090|10519|           ICAI|International Con...|4485|10952|  2755283090| 10519|            ICAI|International Con...|        4485|     10952|\n",
      "|1171878286|12080|          VaMoS|Variability Model...| 247| 2633|  1171878286| 12080|           VaMoS|Variability Model...|         247|      2633|\n",
      "+----------+-----+---------------+--------------------+----+-----+------------+------+----------------+--------------------+------------+----------+\n",
      "only showing top 10 rows\n",
      "\n"
     ]
    }
   ],
   "source": [
    "df.show(10)"
   ]
  },
  {
   "cell_type": "code",
   "execution_count": 91,
   "metadata": {},
   "outputs": [],
   "source": [
    "drop_columns =[\"_1\",\"_2\",\"_3\",\"_4\",\"_5\",\"_6\"]\n",
    "df = df.drop(*drop_columns)               "
   ]
  },
  {
   "cell_type": "code",
   "execution_count": 92,
   "metadata": {},
   "outputs": [
    {
     "name": "stdout",
     "output_type": "stream",
     "text": [
      "+------------+------+----------------+--------------------+------------+----------+\n",
      "|ConfSeriesID|CSRank|CSNormalizedName|       CSDisplayName|CSPaperCount|CSCitation|\n",
      "+------------+------+----------------+--------------------+------------+----------+\n",
      "|  1141689323| 11674|            IEEM|Industrial Engine...|        7218|      7851|\n",
      "|  2727030889| 13563| BigDataSecurity|International Con...|         120|       122|\n",
      "|  2757782454| 25000|            SSVM|Scale Space and V...|           1|        21|\n",
      "|  2754909024| 13978|           ICARM|International Con...|         115|        31|\n",
      "|  2758502524| 11494|        GreenCom|Green Computing a...|         417|      1947|\n",
      "|  2755154462| 11589|        BodyNets|International Con...|         475|      2605|\n",
      "|  2755191446| 12332|           IWDDC|International Wav...|         291|      1457|\n",
      "|  2755241531| 10609|             FG |IEEE Internationa...|         736|     11601|\n",
      "|  2755283090| 10519|            ICAI|International Con...|        4485|     10952|\n",
      "|  1171878286| 12080|           VaMoS|Variability Model...|         247|      2633|\n",
      "|  2755858460| 13282|            RSMN|IEEE Regional Sym...|         374|       374|\n",
      "|  2622835322| 10826|           ICUWB|International Con...|        1435|      9765|\n",
      "|  2759959984| 11945|            AIPR|Artificial Intell...|         141|       243|\n",
      "|  1187904452|  8577|             DAC|Design Automation...|        7503|    189352|\n",
      "|  1189509541| 12726|           APWCS|Asia-Pacific Conf...|         109|       224|\n",
      "|  2756045125| 12203|             SWT|Wireless Conferen...|         111|       715|\n",
      "|  2756137309| 12335|           BEAMS|International Con...|        1853|      1605|\n",
      "|  2756314553| 13130|            TCCI|Trans. Computatio...|         267|       516|\n",
      "|  2754245976| 13052|            ROSE|IEEE Internationa...|         130|       428|\n",
      "|  2754374486| 13431|           ICDCM|IEEE Internationa...|         170|       285|\n",
      "+------------+------+----------------+--------------------+------------+----------+\n",
      "only showing top 20 rows\n",
      "\n"
     ]
    }
   ],
   "source": [
    "df.show()"
   ]
  },
  {
   "cell_type": "code",
   "execution_count": 93,
   "metadata": {},
   "outputs": [
    {
     "data": {
      "text/plain": [
       "[Row(CSDisplayName=u'Industrial Engineering and Engineering Management'),\n",
       " Row(CSDisplayName=u'International Conference on Big Data Security on Cloud '),\n",
       " Row(CSDisplayName=u'Scale Space and Variational Methods in Computer Vision'),\n",
       " Row(CSDisplayName=u'International Conference on Advanced Robotics and Mechatronics'),\n",
       " Row(CSDisplayName=u'Green Computing and Communications'),\n",
       " Row(CSDisplayName=u'International Conference on Body Area Networks'),\n",
       " Row(CSDisplayName=u'International Waveform Diversity and Design Conference'),\n",
       " Row(CSDisplayName=u'IEEE International Conference on Automatic Face & Gesture Recognition'),\n",
       " Row(CSDisplayName=u'International Conference on Artificial Intelligence'),\n",
       " Row(CSDisplayName=u'Variability Modelling of Software-Intensive Systems'),\n",
       " Row(CSDisplayName=u'IEEE Regional Symposium on Micro and Nanoelectronics'),\n",
       " Row(CSDisplayName=u'International Conference on Ultra-Wideband'),\n",
       " Row(CSDisplayName=u'Artificial Intelligence and Pattern Recognition'),\n",
       " Row(CSDisplayName=u'Design Automation Conference'),\n",
       " Row(CSDisplayName=u'Asia-Pacific Conference on Wearable Computing Systems'),\n",
       " Row(CSDisplayName=u'Wireless Conference - Sustainable Wireless Technologies , European'),\n",
       " Row(CSDisplayName=u'International Conference on High-Power Particle Beams'),\n",
       " Row(CSDisplayName=u'Trans. Computational Collective Intelligence'),\n",
       " Row(CSDisplayName=u'IEEE International Symposium on Robotic and Sensors Environments'),\n",
       " Row(CSDisplayName=u'IEEE International Conference on DC Microgrids'),\n",
       " Row(CSDisplayName=u'Workshop on Applications of Computer Vision'),\n",
       " Row(CSDisplayName=u'Workshop on Trustworthy Embedded Devices'),\n",
       " Row(CSDisplayName=u'International Symposium on the Physical and Failure Analysis of Integrated Circuits'),\n",
       " Row(CSDisplayName=u'Asia-Pacific Network Operations and Management Symposium'),\n",
       " Row(CSDisplayName=u'International Conference on Scale Space and Variational Methods in computer vision'),\n",
       " Row(CSDisplayName=u'National Conference on Communications'),\n",
       " Row(CSDisplayName=u'International Conference on Control, Instrumentation, and Automation'),\n",
       " Row(CSDisplayName=u'Information Management, Innovation Management and Industrial Engineering'),\n",
       " Row(CSDisplayName=u'International Workshop on Wireless Sensor Networks and Applications'),\n",
       " Row(CSDisplayName=u'international workshop on Decentralized Resource Sharing in Mobile Computing and Networking'),\n",
       " Row(CSDisplayName=u'International Conference on Reliability Systems Engineering'),\n",
       " Row(CSDisplayName=u'Conference of European Society for Fuzzy Logic and Technology'),\n",
       " Row(CSDisplayName=u'ACM Symposium on Information, Computer and Communications Security'),\n",
       " Row(CSDisplayName=u'International Symposium on Visual Computing'),\n",
       " Row(CSDisplayName=u'International Symposium on Database Applications in Non-Traditional Environments'),\n",
       " Row(CSDisplayName=u'IEEE International Conference ON Emerging Trends in Computing, Communication and Nanotechnology'),\n",
       " Row(CSDisplayName=u'Soft Computing and Pattern Recognition'),\n",
       " Row(CSDisplayName=u'Symposium on SDN Research'),\n",
       " Row(CSDisplayName=u'International Symposium on Mathematical Morphology and Its Application to Signal and Image Processing'),\n",
       " Row(CSDisplayName=u'International Symposium on Spread Spectrum Techniques and Applications'),\n",
       " Row(CSDisplayName=u'Language and Technology Conference'),\n",
       " Row(CSDisplayName=u'Advances in Mobile Multimedia'),\n",
       " Row(CSDisplayName=u'International Conference on Mechanical and Aerospace Engineering'),\n",
       " Row(CSDisplayName=u'International Conference on Emerging Security Information, Systems and Technologies'),\n",
       " Row(CSDisplayName=u'IFIP International Conference on Programming Concepts and Methods'),\n",
       " Row(CSDisplayName=u'Indian Conference on Computer Vision, Graphics and Image Processing'),\n",
       " Row(CSDisplayName=u'Applied Cryptography and Network Security'),\n",
       " Row(CSDisplayName=u'International Conference on Advances in Electronics Computers and Communications'),\n",
       " Row(CSDisplayName=u'Biological Knowledge Discovery and Data Mining'),\n",
       " Row(CSDisplayName=u'Integrating Technology into Computer Science Education'),\n",
       " Row(CSDisplayName=u'Annual Conference on Computers'),\n",
       " Row(CSDisplayName=u'IEEE International Conference on Technologies for Practical Robot Applications'),\n",
       " Row(CSDisplayName=u'European Conference on Computer Systems'),\n",
       " Row(CSDisplayName=u'Conference on Electronic voting technology/workshop on trustworthy elections'),\n",
       " Row(CSDisplayName=u'IEEE Students Conference on Electrical, Electronics and Computer Science'),\n",
       " Row(CSDisplayName=u'International Conference on Computer Modeling and Simulation'),\n",
       " Row(CSDisplayName=u'International Workshop on Functional Art, Music, Modelling and Design'),\n",
       " Row(CSDisplayName=u'Social and Personal Computing for Web-Supported Learning Communities'),\n",
       " Row(CSDisplayName=u'Clemson University Power Systems Conference'),\n",
       " Row(CSDisplayName=u'International Electron Devices Meeting'),\n",
       " Row(CSDisplayName=u'International Scientific Conference on Electric Power Engineering'),\n",
       " Row(CSDisplayName=u'International Behavioral Modeling and Simulation Workshop'),\n",
       " Row(CSDisplayName=u'Cairo International Biomedical Engineering Conference'),\n",
       " Row(CSDisplayName=u'Conference on Organizational Computing Systems'),\n",
       " Row(CSDisplayName=u'IFIP International Conference on Intelligence in Networks: Telecommunication Network Intelligence'),\n",
       " Row(CSDisplayName=u'IEEE International Conference on Software Security and Reliability Companion'),\n",
       " Row(CSDisplayName=u'String Processing and Information Retrieval'),\n",
       " Row(CSDisplayName=u'International Conference on Large-Scale Scientific Computing'),\n",
       " Row(CSDisplayName=u'IEEE International Conference on Wireless Information Technology and Systems'),\n",
       " Row(CSDisplayName=u'Hybrid Artificial Intelligence Systems'),\n",
       " Row(CSDisplayName=u'European Software Engineering Conference'),\n",
       " Row(CSDisplayName=u'Computational Models of Argument'),\n",
       " Row(CSDisplayName=u'Advances in Model-Based Software Testing'),\n",
       " Row(CSDisplayName=u'High Performance Embedded Architectures and Compilers'),\n",
       " Row(CSDisplayName=u'International Conference on Data Science and Engineering'),\n",
       " Row(CSDisplayName=u'International Conference on Neural Networks and Brain'),\n",
       " Row(CSDisplayName=u'IEEE International Conference on Technologies for Homeland Security'),\n",
       " Row(CSDisplayName=u'International Conference on Computers Helping People with Special Needs'),\n",
       " Row(CSDisplayName=u'International Journal of Next-Generation Computing'),\n",
       " Row(CSDisplayName=u'COMmunication System softWAre and MiddlewaRE'),\n",
       " Row(CSDisplayName=u'IEEE MTT-S International Microwave Workshop Series on Advanced Materials and Processes for RF and THz Applications'),\n",
       " Row(CSDisplayName=u'IEEE Power Engineering and Automation Conference'),\n",
       " Row(CSDisplayName=u'International Conference on Virtual Reality'),\n",
       " Row(CSDisplayName=u'Knowledge Science, Engineering and Management'),\n",
       " Row(CSDisplayName=u'International Conference on Energy, Automation and Signal'),\n",
       " Row(CSDisplayName=u'International Conference on Information Security and Cryptology'),\n",
       " Row(CSDisplayName=u'International Conference on Communication, Computing & Security'),\n",
       " Row(CSDisplayName=u'Sensor Array and Multichannel Signal Processing Workshop'),\n",
       " Row(CSDisplayName=u'Formal Methods for Industrial Critical Systems'),\n",
       " Row(CSDisplayName=u'IEEE International Symposium on Electrical Insulation'),\n",
       " Row(CSDisplayName=u'IEEE Frequency Control Symposium'),\n",
       " Row(CSDisplayName=u'International Conference on Internet Technology and Applications'),\n",
       " Row(CSDisplayName=u'Business Modeling and Software Design'),\n",
       " Row(CSDisplayName=u'Technical Symposium on Computer Science Education'),\n",
       " Row(CSDisplayName=u'Theoretical Issues In Natural Language Processing'),\n",
       " Row(CSDisplayName=u'World Summit on the Knowledge Society'),\n",
       " Row(CSDisplayName=u'Workshop on Management of Replicated Data'),\n",
       " Row(CSDisplayName=u'International Conference on e-Infrastructure and e-Services for Developing Countries'),\n",
       " Row(CSDisplayName=u'Workshop on Parallel and Distributed Simulation'),\n",
       " Row(CSDisplayName=u'International Conference on Computer, Mechatronics, Control and Electronic Engineering'),\n",
       " Row(CSDisplayName=u'International Conference on Optical Internet'),\n",
       " Row(CSDisplayName=u'International Conference on Green Computing and Communications'),\n",
       " Row(CSDisplayName=u'Web Information and Data Management'),\n",
       " Row(CSDisplayName=u'Database Systems for Advanced Applications'),\n",
       " Row(CSDisplayName=u'Symbolic and Numeric Algorithms for Scientific Computing'),\n",
       " Row(CSDisplayName=u'Theory and Practice of Algorithms in (Computer) Systems'),\n",
       " Row(CSDisplayName=u'International Conference on Objects and Databases'),\n",
       " Row(CSDisplayName=u'Artificial Intelligence and Symbolic Computation'),\n",
       " Row(CSDisplayName=u'International Colloquium on Grammatical Inference'),\n",
       " Row(CSDisplayName=u'International Conference on Advanced Nanomaterials & Emerging Engineering Technologies'),\n",
       " Row(CSDisplayName=u'International Conference on Shape Modeling and Applications'),\n",
       " Row(CSDisplayName=u'IEEE International Conference on Electronics Information and Emergency Communication'),\n",
       " Row(CSDisplayName=u'Fast Software Encryption'),\n",
       " Row(CSDisplayName=u'International Conference on Wavelet Analysis and Pattern Recognition'),\n",
       " Row(CSDisplayName=u'International Conference on Electronic Computer Technology'),\n",
       " Row(CSDisplayName=u'Engineering of Computer-Based Systems'),\n",
       " Row(CSDisplayName=u'IEEE Conference on Biomedical Engineering and Sciences'),\n",
       " Row(CSDisplayName=u'International Conference on Image and Graphics'),\n",
       " Row(CSDisplayName=u'Visualization for Computer Security'),\n",
       " Row(CSDisplayName=u'Adaptive Agents and Multi-Agents Systems'),\n",
       " Row(CSDisplayName=u'International Conference on Systems and Networks Communications'),\n",
       " Row(CSDisplayName=u'International Conference on Performance Engineering'),\n",
       " Row(CSDisplayName=u'IEEE International Radar Conference'),\n",
       " Row(CSDisplayName=u'Foundational and Practical Aspects of Resource Analysis'),\n",
       " Row(CSDisplayName=u'Workshop in Information Security Theory and Practice'),\n",
       " Row(CSDisplayName=u'ACM/IEEE International Conference on Mobile Computing and Networking'),\n",
       " Row(CSDisplayName=u'International Conference on Multimedia and Expo'),\n",
       " Row(CSDisplayName=u'Field Programmable Gate Arrays'),\n",
       " Row(CSDisplayName=u'Workshop on Program Analysis For Software Tools and Engineering'),\n",
       " Row(CSDisplayName=u'Biomedical Engineering International Conference'),\n",
       " Row(CSDisplayName=u'GeoSensor Networks'),\n",
       " Row(CSDisplayName=u'Distributed Autonomous Robotic Systems'),\n",
       " Row(CSDisplayName=u'International Symposium on Environmentally Conscious Design and Inverse Manufacturing'),\n",
       " Row(CSDisplayName=u'IEEE International Conference on Data Science in Cyberspace'),\n",
       " Row(CSDisplayName=u'workshop on Middleware for Pervasive and Ad-hoc Computing'),\n",
       " Row(CSDisplayName=u'IEEE/SICE International Symposium on System Integration'),\n",
       " Row(CSDisplayName=u'International Conference on Speech and Computer'),\n",
       " Row(CSDisplayName=u'Simulation of Adaptive Behavior'),\n",
       " Row(CSDisplayName=u'International Conference on Acoustics, Speech, and Signal Processing'),\n",
       " Row(CSDisplayName=u'National Foundation for Science and Technology Development Conference on Information and Computer Science'),\n",
       " Row(CSDisplayName=u'International Conference on Microelectronics'),\n",
       " Row(CSDisplayName=u'International Seminar on Business and Information Management'),\n",
       " Row(CSDisplayName=u'Euromicro Workshop on Parallel and Distributed Processing'),\n",
       " Row(CSDisplayName=u'International Conference on Networking'),\n",
       " Row(CSDisplayName=u'International Symposium on Microarchitecture'),\n",
       " Row(CSDisplayName=u'International Conference on Innovations in Information Technology'),\n",
       " Row(CSDisplayName=u'International Conference on Engineering and Technology Management'),\n",
       " Row(CSDisplayName=u'International Vacuum Electronics Conference'),\n",
       " Row(CSDisplayName=u'Applied Perception in Graphics and Visualization'),\n",
       " Row(CSDisplayName=u'Verified Software: Theories, Tools, Experiments'),\n",
       " Row(CSDisplayName=u'USENIX Windows NT Workshop'),\n",
       " Row(CSDisplayName=u'Conference on Computer Architectures for Machine Perception'),\n",
       " Row(CSDisplayName=u'International Conference on Electronics, Circuits, and Systems'),\n",
       " Row(CSDisplayName=u'Intelligent Agents'),\n",
       " Row(CSDisplayName=u'International Conference on Mechatronics and Machine Vision in Practice'),\n",
       " Row(CSDisplayName=u'Serious Games Development and Applications'),\n",
       " Row(CSDisplayName=u'International Joint Conference on Artificial Intelligence'),\n",
       " Row(CSDisplayName=u'International Symposium on Electronics and the Environment'),\n",
       " Row(CSDisplayName=u'IEEE Uttar Pradesh Section International Conference on Electrical, Computer and Electronics Engineering'),\n",
       " Row(CSDisplayName=u'International Conference on Sensor Networks'),\n",
       " Row(CSDisplayName=u'International Conference on Electrical Engineering, Computing Science and Automatic Control'),\n",
       " Row(CSDisplayName=u'Multi-disciplinary Trends in Artificial Intelligence'),\n",
       " Row(CSDisplayName=u'ISAF-ECAPD-PFM'),\n",
       " Row(CSDisplayName=u'International Conference on Information Sciences and Interaction Sciences'),\n",
       " Row(CSDisplayName=u'International Symposium on Computer, Communication, Control and Automation'),\n",
       " Row(CSDisplayName=u'International Workshop on High-Performance Reconfigurable Computing Technology and Applications'),\n",
       " Row(CSDisplayName=u'International Workshop on Data-intensive Distributed Computing'),\n",
       " Row(CSDisplayName=u'World Congress on Engineering'),\n",
       " Row(CSDisplayName=u'International Conference on Thermal, Mechanial and Multi-Physics Simulation and Experiments in Micro-Electronics and Micro-Systems'),\n",
       " Row(CSDisplayName=u'Conference on Information Visualization'),\n",
       " Row(CSDisplayName=u'IEEE Biennial Congress of Argentina'),\n",
       " Row(CSDisplayName=u'Network Conference on Creativity and Innovation in Design'),\n",
       " Row(CSDisplayName=u'International Conference on Control, Engineering & Information Technology'),\n",
       " Row(CSDisplayName=u'Symposium on VLSI Circuits'),\n",
       " Row(CSDisplayName=u'General Purpose Processing on Graphics Processing Units'),\n",
       " Row(CSDisplayName=u'Workshop on Positioning Navigation and Communication'),\n",
       " Row(CSDisplayName=u'IEEE International Conference on Ubiquitous Wireless Broadband'),\n",
       " Row(CSDisplayName=u'IEEE PES Power Systems Conference and Exposition'),\n",
       " Row(CSDisplayName=u'International Conference on Software and Systems Process'),\n",
       " Row(CSDisplayName=u'High-Performance Computer Architecture'),\n",
       " Row(CSDisplayName=u'Perception and Interactive Technologies'),\n",
       " Row(CSDisplayName=u'International Conference on Microwave, Optical and Communication Engineering'),\n",
       " Row(CSDisplayName=u'International Conference on Cryptology in Africa'),\n",
       " Row(CSDisplayName=u'High Performance Transaction Systems Workshop'),\n",
       " Row(CSDisplayName=u'International Symposium on Communications, Control and Signal Processing'),\n",
       " Row(CSDisplayName=u'International Symposium on Antennas and Propagation'),\n",
       " Row(CSDisplayName=u'International Conference on Program Comprehension'),\n",
       " Row(CSDisplayName=u'International Symposium on Computers and Communications'),\n",
       " Row(CSDisplayName=u'International Conference on Software Maintenance'),\n",
       " Row(CSDisplayName=u'Computer Aided Verification'),\n",
       " Row(CSDisplayName=u'International Symposium on Semiconductor Manufacturing'),\n",
       " Row(CSDisplayName=u'Optical Interconnects Conference'),\n",
       " Row(CSDisplayName=u'Self-Sustaining Systems'),\n",
       " Row(CSDisplayName=u'Quantum Electronics and Laser Science Conference'),\n",
       " Row(CSDisplayName=u'Conference on Human Interface'),\n",
       " Row(CSDisplayName=u'International Conference on Intelligent Computation Technology and Automation'),\n",
       " Row(CSDisplayName=u'Symposium on Languages, Applications and Technologies'),\n",
       " Row(CSDisplayName=u'International Conference on Distributed Computing Systems'),\n",
       " Row(CSDisplayName=u'Semantic Wiki Workshop'),\n",
       " Row(CSDisplayName=u'European Conference on Computer Vision'),\n",
       " Row(CSDisplayName=u'European Symposium on Programming'),\n",
       " Row(CSDisplayName=u'International Conference on Advanced Cloud and Big Data'),\n",
       " Row(CSDisplayName=u'North Atlantic Test Workshop'),\n",
       " Row(CSDisplayName=u'International conference on Construction and Analysis of Safe, Secure, and Interoperable Smart Devices'),\n",
       " Row(CSDisplayName=u'International Conference on Electrical Engineering/Electronics, Computer, Telecommunications and Information Technology'),\n",
       " Row(CSDisplayName=u'European Workshop on Multi-Agent Systems'),\n",
       " Row(CSDisplayName=u'Smart Grid Conference'),\n",
       " Row(CSDisplayName=u'International Symposium on Intelligent Multimedia, Video and Speech Processing'),\n",
       " Row(CSDisplayName=u'International C* Conference on Computer Science & Software Engineering'),\n",
       " Row(CSDisplayName=u'Federated Conference on Computer Science and Information Systems'),\n",
       " Row(CSDisplayName=u'SOCO-CISIS-ICEUTE'),\n",
       " Row(CSDisplayName=u'Conference of the European Chapter of the Association for Computational Linguistics'),\n",
       " Row(CSDisplayName=u'New Interfaces for Musical Expression'),\n",
       " Row(CSDisplayName=u'International Conference and Seminar on Micro/Nanotechnologies and Electron Devices'),\n",
       " Row(CSDisplayName=u'Symposium on Parallel and Distributed Tools'),\n",
       " Row(CSDisplayName=u'Applications and Theory of Petri Nets'),\n",
       " Row(CSDisplayName=u'Wireless Multimedia Networking and Performance Modeling'),\n",
       " Row(CSDisplayName=u'Security of ad hoc and Sensor Networks'),\n",
       " Row(CSDisplayName=u'Local Computer Networks'),\n",
       " Row(CSDisplayName=u'International Conference on Signal Acquisition and Processing'),\n",
       " Row(CSDisplayName=u'Workshop on Generic Programming'),\n",
       " Row(CSDisplayName=u'International Conference on Information Technology Systems and Innovation'),\n",
       " Row(CSDisplayName=u'European Design Automation Conference'),\n",
       " Row(CSDisplayName=u'Information Processing in Sensor Networks'),\n",
       " Row(CSDisplayName=u'International SoC Design Conference'),\n",
       " Row(CSDisplayName=u'International Symposium on Electromagnetic Theory'),\n",
       " Row(CSDisplayName=u'Symposium on Product Compliance Engineering'),\n",
       " Row(CSDisplayName=u'Workshop on Information Processing and Control'),\n",
       " Row(CSDisplayName=u'Industrial Conference on Data Mining'),\n",
       " Row(CSDisplayName=u'Logic Programming and Non-Monotonic Reasoning'),\n",
       " Row(CSDisplayName=u'Computer Graphics, Imaging and Visualization'),\n",
       " Row(CSDisplayName=u'International Workshop on Combinatorial Algorithms'),\n",
       " Row(CSDisplayName=u'International Symposium on Artificial Intelligence'),\n",
       " Row(CSDisplayName=u'International Conference on Pairing-based Cryptography'),\n",
       " Row(CSDisplayName=u'International Conference on Mobile Multimedia Communications'),\n",
       " Row(CSDisplayName=u'Future Multimedia Networking'),\n",
       " Row(CSDisplayName=u'International Conference on Testing (of Software and) Communication Systems'),\n",
       " Row(CSDisplayName=u'ACM Conference on Hypertext'),\n",
       " Row(CSDisplayName=u'Spring Congress on Engineering and Technology'),\n",
       " Row(CSDisplayName=u'International Conference on Mathematical and Computational Methods in Science and Engineering'),\n",
       " Row(CSDisplayName=u'Doctoral Conference on Computing, Electrical and Industrial Systems'),\n",
       " Row(CSDisplayName=u'IEEE International Workshop on Biomedical Circuits and Systems'),\n",
       " Row(CSDisplayName=u'Italian Information Retrieval Workshop'),\n",
       " Row(CSDisplayName=u'Electrical/Electronics Insulation Conference'),\n",
       " Row(CSDisplayName=u'Working Conference on Virtual Enterprises'),\n",
       " Row(CSDisplayName=u'Power Engineering Society Summer Meeting'),\n",
       " Row(CSDisplayName=u'International Conference on Industrial Applications of Holonic and Multi-Agent Systems'),\n",
       " Row(CSDisplayName=u'International Conference on Legal Knowledge and Information Systems'),\n",
       " Row(CSDisplayName=u'IEEE International Conference on Teaching, Assessment, and Learning for Engineering'),\n",
       " Row(CSDisplayName=u'ARCS Workshops'),\n",
       " Row(CSDisplayName=u'IFIP Conference on Optimization Techniques Modeling and Optimization in service of man'),\n",
       " Row(CSDisplayName=u'Audio Mostly Conference'),\n",
       " Row(CSDisplayName=u'Web Intelligence, Mining and Semantics'),\n",
       " Row(CSDisplayName=u'International Conference on Future Generation Information Technology'),\n",
       " Row(CSDisplayName=u'International Conference on Hybrid Systems: computation and control'),\n",
       " Row(CSDisplayName=u'IEEE Conference of Russian Young Researchers in Electrical and Electronic Engineering'),\n",
       " Row(CSDisplayName=u'Rules and Rule Markup Languages for the Semantic Web'),\n",
       " Row(CSDisplayName=u'Machine Vision Applications'),\n",
       " Row(CSDisplayName=u'European Conference on Smart Sensing and Context'),\n",
       " Row(CSDisplayName=u'Cross-Language Evaluation Forum'),\n",
       " Row(CSDisplayName=u'Computer Vision and Pattern Recognition'),\n",
       " Row(CSDisplayName=u'Designing for User eXperiences'),\n",
       " Row(CSDisplayName=u'Digital Games Research Association Conference'),\n",
       " Row(CSDisplayName=u'IEEE/EMBS Special Topic Conference on Microtechnology in Medicine and Biology'),\n",
       " Row(CSDisplayName=u'International Conference on Advanced Technologies for Communications'),\n",
       " Row(CSDisplayName=u'International Conference on Computer and Computing Technologies in Agriculture'),\n",
       " Row(CSDisplayName=u'Mobile Ad-hoc and Sensor Networks'),\n",
       " Row(CSDisplayName=u'International Conference Mixed Design of Integrated Circuits and Systems'),\n",
       " Row(CSDisplayName=u'Biennial Baltic Electronics Conference'),\n",
       " Row(CSDisplayName=u'IEEE International Symposium on Asynchronous Circuits and Systems'),\n",
       " Row(CSDisplayName=u'International Conference on Mobile Networks and Management'),\n",
       " Row(CSDisplayName=u'International Conference on Ubiquitous and Future Networks'),\n",
       " Row(CSDisplayName=u'IEEE Workshop on Wide Bandgap Power Devices and Applications'),\n",
       " Row(CSDisplayName=u'Panhellenic Conference on Informatics'),\n",
       " Row(CSDisplayName=u'International Conference on New Trends in Information Science and Service Science'),\n",
       " Row(CSDisplayName=u'IEEE International Conference on Dielectrics'),\n",
       " Row(CSDisplayName=u'Cooperative Distributed Systems'),\n",
       " Row(CSDisplayName=u'IEEE Power, Communication and Information Technology Conference'),\n",
       " Row(CSDisplayName=u'International Conference on Bioinformatics'),\n",
       " Row(CSDisplayName=u'International Workshop on Graph-Grammars and Their Application to Computer Science'),\n",
       " Row(CSDisplayName=u'International Conference on Advances in Electrical Engineering'),\n",
       " Row(CSDisplayName=u'International Workshop on Discrete Event Systems'),\n",
       " Row(CSDisplayName=u'European Conference on Radiation and Its Effects on Components and Systems'),\n",
       " Row(CSDisplayName=u'Tangible and Embedded Interaction'),\n",
       " Row(CSDisplayName=u'International Conference on Networked Sensing Systems'),\n",
       " Row(CSDisplayName=u'Annual Symposium on Frequency Control'),\n",
       " Row(CSDisplayName=u'Wireless Communications and Networking Conference'),\n",
       " Row(CSDisplayName=u'Chinese Control Conference'),\n",
       " Row(CSDisplayName=u'Workshop on Microelectronics and Electron Devices'),\n",
       " Row(CSDisplayName=u'Annual ACIS International Conference on Computer and Information Science'),\n",
       " Row(CSDisplayName=u'Interactive Theorem Proving'),\n",
       " Row(CSDisplayName=u'International Conference on Anti-counterfeiting, Security, and Identification'),\n",
       " Row(CSDisplayName=u'Applied Imagery Pattern Recognition Workshop'),\n",
       " Row(CSDisplayName=u'Algorithmic Learning Theory'),\n",
       " Row(CSDisplayName=u'Utility and Cloud Computing'),\n",
       " Row(CSDisplayName=u'International Conference on Applied Informatics and Communication'),\n",
       " Row(CSDisplayName=u'International Conference on Mathematical Foundations of Programming Semantics'),\n",
       " Row(CSDisplayName=u'Workshop on Web 2.0 for Software Engineering'),\n",
       " Row(CSDisplayName=u'Large Engineering Systems Conference on Power Engineering'),\n",
       " Row(CSDisplayName=u'IEEE International Forum on Research and Technologies for Society and Industry Leveraging a better tomorrow'),\n",
       " Row(CSDisplayName=u'ACM international conference on Digital libraries'),\n",
       " Row(CSDisplayName=u'ACM Southeast Regional Conference'),\n",
       " Row(CSDisplayName=u'International Symposium on Environment Identities and Mediterranean Area'),\n",
       " Row(CSDisplayName=u'IEEE International Conference on Power Electronics, Drives and Energy Systems'),\n",
       " Row(CSDisplayName=u'International Symposium on Intelligent Control'),\n",
       " Row(CSDisplayName=u'ASME/IFToMM International Conference on Reconfigurable Mechanisms and Robots'),\n",
       " Row(CSDisplayName=u'International Conference on Orange Technologies'),\n",
       " Row(CSDisplayName=u'International Conference for Internet Technology and Secured Transactions'),\n",
       " Row(CSDisplayName=u'Communication Systems and Networks'),\n",
       " Row(CSDisplayName=u'Advanced Information Management and Service'),\n",
       " Row(CSDisplayName=u'IEEE/LEOS International Conference on Optical MEMS'),\n",
       " Row(CSDisplayName=u'International Conference on Antenna Theory and Techniques'),\n",
       " Row(CSDisplayName=u'Computer Science and Information Engineering'),\n",
       " Row(CSDisplayName=u'Pacific Rim International Symposium on Dependable Computing'),\n",
       " Row(CSDisplayName=u'International Conference on Information Technology and Electrical Engineering'),\n",
       " Row(CSDisplayName=u'Constraint Solving and Language Processing'),\n",
       " Row(CSDisplayName=u'Conference on Computer Supported Cooperative Work'),\n",
       " Row(CSDisplayName=u'International Conference on Advanced Software Engineering and Its Applications'),\n",
       " Row(CSDisplayName=u'German Conference on Robotics'),\n",
       " Row(CSDisplayName=u'International Conference on Convergence Information Technology'),\n",
       " Row(CSDisplayName=u'International Conference on Energy Aware Computing'),\n",
       " Row(CSDisplayName=u'Trading Agent Design and Analysis'),\n",
       " Row(CSDisplayName=u'USENIX Conference on Object-Oriented Technologies and Systems'),\n",
       " Row(CSDisplayName=u'TeraGrid Conference'),\n",
       " Row(CSDisplayName=u'International Conference on Access Networks'),\n",
       " Row(CSDisplayName=u'International Conference on Computer Vision'),\n",
       " Row(CSDisplayName=u'Conference on Organizing Workshops, Conferences, and Symposia for Computer Systems'),\n",
       " Row(CSDisplayName=u'International Conference on Advanced Computer Science and Information Systems'),\n",
       " Row(CSDisplayName=u'Workshop on Automated Control for Datacenters and Clouds'),\n",
       " Row(CSDisplayName=u'Pervasive Technologies Related to Assistive Environments'),\n",
       " Row(CSDisplayName=u'Conference on E-business Technology and Strategy'),\n",
       " Row(CSDisplayName=u'International Conference on Cognitive Informatics'),\n",
       " Row(CSDisplayName=u'Hellenic-European Conference on Computer Mathematics and its Applications'),\n",
       " Row(CSDisplayName=u'Asia Pacific Conference on Circuits and Systems'),\n",
       " Row(CSDisplayName=u'Web Personalization and Recommender Systems'),\n",
       " Row(CSDisplayName=u'IEEE International Conference on Image Information Processing'),\n",
       " Row(CSDisplayName=u'Scandinavian Workshop on Algorithm Theory'),\n",
       " Row(CSDisplayName=u'International Universal Communication Symposium'),\n",
       " Row(CSDisplayName=u'IEEE Signal Processing in Medicine and Biology Symposium'),\n",
       " Row(CSDisplayName=u'Global Software Development for the Practitioner'),\n",
       " Row(CSDisplayName=u'Information Security and Cryptology'),\n",
       " Row(CSDisplayName=u'Workshop on Research on Enterprise Networking'),\n",
       " Row(CSDisplayName=u'International Symposium on Robotics'),\n",
       " Row(CSDisplayName=u'IEEE International Conference on Network Infrastructure and Digital Content'),\n",
       " Row(CSDisplayName=u'Asia-Pacific Services Computing Conference'),\n",
       " Row(CSDisplayName=u'International Conference on Electrical Engineering'),\n",
       " Row(CSDisplayName=u'International Conference on Computer Vision Theory and Applications'),\n",
       " Row(CSDisplayName=u'Computer Animation and Social Agents'),\n",
       " Row(CSDisplayName=u'International Conference on Computer Supported Education'),\n",
       " Row(CSDisplayName=u'International Symposium on Electromagnetic Compatibility'),\n",
       " Row(CSDisplayName=u'Open Research Problems in Network Security'),\n",
       " Row(CSDisplayName=u'Asia-Pacific Radio Science Conference'),\n",
       " Row(CSDisplayName=u'International Conference on Laser and Fiber-Optical Networks Modeling'),\n",
       " Row(CSDisplayName=u'International Conference on Virtual Reality and Visualization'),\n",
       " Row(CSDisplayName=u'International Conference on Auditory Display'),\n",
       " Row(CSDisplayName=u'Quantitative Evaluation of Systems'),\n",
       " Row(CSDisplayName=u'Bioinformatics Research and Development'),\n",
       " Row(CSDisplayName=u'International Cryptology Conference'),\n",
       " Row(CSDisplayName=u'Types for Proofs and Programs'),\n",
       " Row(CSDisplayName=u'International Conference on Cyber Conflict'),\n",
       " Row(CSDisplayName=u'International Multi-Topic Conference'),\n",
       " Row(CSDisplayName=u'International Conference on Computer and Communication Technology'),\n",
       " Row(CSDisplayName=u'Defect and Fault Tolerance in VLSI and Nanotechnology Systems'),\n",
       " Row(CSDisplayName=u'Computer-Aided Design and Computer Graphics'),\n",
       " Row(CSDisplayName=u'International Workshop on Advanced Computational Intelligence'),\n",
       " Row(CSDisplayName=u'International Engineering Management Conference'),\n",
       " Row(CSDisplayName=u'Job Scheduling Strategies for Parallel Processing'),\n",
       " Row(CSDisplayName=u'International Conference on Information Fusion'),\n",
       " Row(CSDisplayName=u'Workshop on Algorithms and Computation'),\n",
       " Row(CSDisplayName=u'High Performance Graphics'),\n",
       " Row(CSDisplayName=u'IEEE Chinese Guidance, Navigation and Control Conference'),\n",
       " Row(CSDisplayName=u'Bled eConference'),\n",
       " Row(CSDisplayName=u'IRE International Convention Record'),\n",
       " Row(CSDisplayName=u'International Conference on Heterogeneous Networking for Quality, Reliability, Security and Robustness'),\n",
       " Row(CSDisplayName=u'Automated Software Engineering'),\n",
       " Row(CSDisplayName=u'International Conference on Mechanical Engineering, Automation and Control Systems'),\n",
       " Row(CSDisplayName=u'International Conference of Distributed Computing and Networking'),\n",
       " Row(CSDisplayName=u'North American Chapter of the Association for Computational Linguistics'),\n",
       " Row(CSDisplayName=u'Extended Semantic Web Conference'),\n",
       " Row(CSDisplayName=u'International Conference on Green Computing, Technology and Innovation'),\n",
       " Row(CSDisplayName=u'International Symposium on Discharges and Electrical Insulation in Vacuum'),\n",
       " Row(CSDisplayName=u'International Conference on IC Design and Technology'),\n",
       " Row(CSDisplayName=u'Information Security Conference'),\n",
       " Row(CSDisplayName=u'International Workshop on Education Technology and Training & International Workshop on Geoscience and Remote Sensing'),\n",
       " Row(CSDisplayName=u'International Scientific Conference on Power and Electrical Engineering of Riga Technical University'),\n",
       " Row(CSDisplayName=u'International Symposium on Computational Intelligence and Informatics'),\n",
       " Row(CSDisplayName=u'Conference on Human System Interactions'),\n",
       " Row(CSDisplayName=u'European-Japanese Conference on Information Modelling and Knowledge Bases'),\n",
       " Row(CSDisplayName=u'International Conference on Feature Interactions in Software and Communication Systems'),\n",
       " Row(CSDisplayName=u'International Workshop on Chaos-fractals Theories and Applications'),\n",
       " Row(CSDisplayName=u'International Conference on Systems Engineering'),\n",
       " Row(CSDisplayName=u'International IEEE/EMBS Conference on Neural Engineering'),\n",
       " Row(CSDisplayName=u'Dependable Autonomic and Secure Computing'),\n",
       " Row(CSDisplayName=u'Conference on ENTERprise Information Systems'),\n",
       " Row(CSDisplayName=u'IEEE International Conference on Microwaves, Communications, Antennas and Electronic Systems'),\n",
       " Row(CSDisplayName=u'ACM Workshop on Programming Languages and Analysis for Security'),\n",
       " Row(CSDisplayName=u'Human Vision and Electronic Imaging Conference'),\n",
       " Row(CSDisplayName=u'International Power Electronics Congress'),\n",
       " Row(CSDisplayName=u'European conference on Evolutionary Computation in Combinatorial Optimization'),\n",
       " Row(CSDisplayName=u'International Symposium on Switching'),\n",
       " Row(CSDisplayName=u'International Workshop on Peer-to-Peer Systems'),\n",
       " Row(CSDisplayName=u'International Conference on Signal Processing and Multimedia Applications'),\n",
       " Row(CSDisplayName=u'International Conference on Learning Representations'),\n",
       " Row(CSDisplayName=u'International Conference on MEMS, NANO, and Smart Systems'),\n",
       " Row(CSDisplayName=u'International Symposium on Plasma Process-Induced Damage'),\n",
       " Row(CSDisplayName=u'International Conference on Advanced Communication Control and Computing Technologies'),\n",
       " Row(CSDisplayName=u'International Conference on Artificial Intelligence and Statistics'),\n",
       " Row(CSDisplayName=u'Advances in Computing and Communications'),\n",
       " Row(CSDisplayName=u'International Conference on Communication Software and Networks'),\n",
       " Row(CSDisplayName=u'IEEE Sarnoff Symposium'),\n",
       " Row(CSDisplayName=u'International Conference Physics and Control'),\n",
       " Row(CSDisplayName=u'International Workshop on Smalltalk Technology'),\n",
       " Row(CSDisplayName=u'International Conference on Logistics, Informatics and Service Sciences'),\n",
       " Row(CSDisplayName=u'IEEE International Conference on Shape Modeling and Applications'),\n",
       " Row(CSDisplayName=u'IEEE International Conference on Power Electronics, Intelligent Control and Energy Systems'),\n",
       " Row(CSDisplayName=u'Pulp and Paper Industry Conference'),\n",
       " Row(CSDisplayName=u'Asia-Pacific Workshop on Systems'),\n",
       " Row(CSDisplayName=u'Innovative Applications of Artificial Intelligence'),\n",
       " Row(CSDisplayName=u'International Green and Sustainable Computing Conference'),\n",
       " Row(CSDisplayName=u'International Joint Conference on Computational Cybernetics and Technical Informatics'),\n",
       " Row(CSDisplayName=u'Automation of Software Test'),\n",
       " Row(CSDisplayName=u'International Conference on Computational Techniques in Information and Communication Technologies'),\n",
       " Row(CSDisplayName=u'IEEE Radio and Wireless Conference'),\n",
       " Row(CSDisplayName=u'Parallel and Distributed Computing Systems (ISCA)'),\n",
       " Row(CSDisplayName=u'Pacific Asia Workshop on Intelligence and Security Informatics'),\n",
       " Row(CSDisplayName=u'Structure in Complexity Theory Annual Conference'),\n",
       " Row(CSDisplayName=u'International Workshop on System-on-Chip for Real-Time Applications'),\n",
       " Row(CSDisplayName=u'International Conference on Sensing Technology'),\n",
       " Row(CSDisplayName=u'International Colloquium on Theoretical Aspects of Computing'),\n",
       " Row(CSDisplayName=u'International Symposium on Electromagnetic Launch Technology'),\n",
       " Row(CSDisplayName=u'International Conference on Emerging Applications of Information Technology'),\n",
       " Row(CSDisplayName=u'Logic and the Foundations of Game and Decision Theory'),\n",
       " Row(CSDisplayName=u'International Conference on Web and Information Technologies'),\n",
       " Row(CSDisplayName=u'International Conference on Energy and Environment Technology'),\n",
       " Row(CSDisplayName=u'Trust and Privacy in Digital Business'),\n",
       " Row(CSDisplayName=u'International Symposium on Advanced Control of Industrial Processes'),\n",
       " Row(CSDisplayName=u'Wissensbasierte Systeme, . Internationaler GI-Kongress'),\n",
       " Row(CSDisplayName=u'Revue Internationale de G\\xe9omatique'),\n",
       " Row(CSDisplayName=u'USENIX Security Symposium'),\n",
       " Row(CSDisplayName=u'International Conference on Systems'),\n",
       " Row(CSDisplayName=u'Saint Petersburg International Conference on Integrated Navigation Systems'),\n",
       " Row(CSDisplayName=u'Systems and Frameworks for Computational Morphology'),\n",
       " Row(CSDisplayName=u'International Conference on Connected Vehicles and Expo'),\n",
       " Row(CSDisplayName=u'Inductive Logic Programming'),\n",
       " Row(CSDisplayName=u'Software Visualization'),\n",
       " Row(CSDisplayName=u'International Conference on Rehabilitation Robotics'),\n",
       " Row(CSDisplayName=u'IEEE International Power Modulator and High Voltage Conference'),\n",
       " Row(CSDisplayName=u'Coordination, Organizations, Institutions, and Norms in Agent Systems'),\n",
       " Row(CSDisplayName=u'IEEE/ASME Joint Railroad Conference'),\n",
       " Row(CSDisplayName=u'European Conference on Genetic Programming'),\n",
       " Row(CSDisplayName=u'Computer Software and Applications Conference'),\n",
       " Row(CSDisplayName=u'International Teletraffic Congress'),\n",
       " Row(CSDisplayName=u'IEEE International Conference on Microwave Technology & Computational Electromagnetics'),\n",
       " Row(CSDisplayName=u'Research in Adaptive and Convergent Systems'),\n",
       " Row(CSDisplayName=u'International Conference on Mechatronic Science, Electric Engineering and Computer'),\n",
       " Row(CSDisplayName=u'European Conference on Power Electronics and Applications'),\n",
       " Row(CSDisplayName=u'Nordic Signal Processing Symposium'),\n",
       " Row(CSDisplayName=u'Electronic Packaging Technology Conference'),\n",
       " Row(CSDisplayName=u'International Conference on Digital Information Processing and Communications'),\n",
       " Row(CSDisplayName=u'International Conference on E-learning and Games'),\n",
       " Row(CSDisplayName=u'International Conference on Green Computing, Communication and Conservation of Energy'),\n",
       " Row(CSDisplayName=u'Theory and Practice of Digital Libraries'),\n",
       " Row(CSDisplayName=u'International Symposium on Wireless Communication Systems'),\n",
       " Row(CSDisplayName=u'International Conference on E-Learning, E-Business, Enterprise Information Systems, and E-Government'),\n",
       " Row(CSDisplayName=u'Security in Information Systems'),\n",
       " Row(CSDisplayName=u'International Conference on Culture and Computing'),\n",
       " Row(CSDisplayName=u'European Conference on Networks and Communications'),\n",
       " Row(CSDisplayName=u'Probabilistic Graphical Models'),\n",
       " Row(CSDisplayName=u'International Conference on Advanced Computer Control'),\n",
       " Row(CSDisplayName=u'International Conference on Technological Advances in Electrical, Electronics and Computer Engineering'),\n",
       " Row(CSDisplayName=u'Identity and Trust on the Internet'),\n",
       " Row(CSDisplayName=u'ACIS/JNU International Conference on Computers, Networks, Systems and Industrial Engineering'),\n",
       " Row(CSDisplayName=u'International Microwave Symposium'),\n",
       " Row(CSDisplayName=u'International Conference on Computing & Informatics'),\n",
       " Row(CSDisplayName=u'IEEE International Conference on Healthcare Informatics'),\n",
       " Row(CSDisplayName=u'Computer Supported Cooperative Work in Design'),\n",
       " Row(CSDisplayName=u'New Zealand International Two-Stream Conference on Artificial Neural Networks and Expert Systems'),\n",
       " Row(CSDisplayName=u'REX Workshop on Stepwise Refinement of Distributed Systems, Models, Formalisms, Correctness'),\n",
       " Row(CSDisplayName=u'Virtual Reality International Conference'),\n",
       " Row(CSDisplayName=u'European Workshop on Computational Geometry'),\n",
       " Row(CSDisplayName=u'World Conference on WWW and Internet'),\n",
       " Row(CSDisplayName=u'International Symposium on Systems and Control in Aeronautics and Astronautics'),\n",
       " Row(CSDisplayName=u'International Conference on Energy Management and Power Delivery'),\n",
       " Row(CSDisplayName=u'Conference on Steps to Reducing Unwanted Traffic on Internet'),\n",
       " Row(CSDisplayName=u'International Conference on Thermoelectrics'),\n",
       " Row(CSDisplayName=u'International Conference on VLSI and CAD'),\n",
       " Row(CSDisplayName=u'Data Compression Conference'),\n",
       " Row(CSDisplayName=u'Mexican International Conference on Artificial Intelligence'),\n",
       " Row(CSDisplayName=u'International Conference on Critical Infrastructure'),\n",
       " Row(CSDisplayName=u'International Conference on Application of Concurrency to System Design'),\n",
       " Row(CSDisplayName=u'Twente Data Management Workshop'),\n",
       " Row(CSDisplayName=u'Next Generation Mobile Applications, Services and Technologies'),\n",
       " Row(CSDisplayName=u'IEEE/PES Transmission and Distribution Conference and Exposition'),\n",
       " Row(CSDisplayName=u'International Conference on Instrumentation and Measurement, Computer, Communication and Control'),\n",
       " Row(CSDisplayName=u'IEEE/OES Autonomous Underwater Vehicles'),\n",
       " Row(CSDisplayName=u'Computational Aspects of Social Networks'),\n",
       " Row(CSDisplayName=u'Advanced Concepts for Intelligent Vision Systems'),\n",
       " Row(CSDisplayName=u'International Conference on Multisensor Fusion and Integration for Intelligent Systems'),\n",
       " Row(CSDisplayName=u'IEEE International Conference on eScience'),\n",
       " Row(CSDisplayName=u'Information and Communication Technologies in Tourism'),\n",
       " Row(CSDisplayName=u'Databases, Knowledge, and Data Applications'),\n",
       " Row(CSDisplayName=u'German Workshop on Artificial Intelligence'),\n",
       " Row(CSDisplayName=u'Information Assurance and Security'),\n",
       " Row(CSDisplayName=u'Experiment@International Conference'),\n",
       " Row(CSDisplayName=u'Latin American Symposium on Theoretical Informatics'),\n",
       " Row(CSDisplayName=u'Soft Computing for Problem Solving'),\n",
       " Row(CSDisplayName=u'IEEE International Conference on Progress in Informatics and Computing'),\n",
       " Row(CSDisplayName=u'High Performance Computing and Communications'),\n",
       " Row(CSDisplayName=u'International Conference on Computer Assisted Learning'),\n",
       " Row(CSDisplayName=u'Principles of Advanced Discrete Simulation'),\n",
       " Row(CSDisplayName=u'Midwest Symposium on Circuits and Systems'),\n",
       " Row(CSDisplayName=u'International Scientific-Practical Conference Problems of Infocommunications Science and Technology'),\n",
       " Row(CSDisplayName=u'IEEE-RAS International Conference on Humanoid Robots'),\n",
       " Row(CSDisplayName=u'IEEE International Future Energy Electronics Conference and ECCE Asia'),\n",
       " Row(CSDisplayName=u'International Conference on Image and Signal Processing'),\n",
       " Row(CSDisplayName=u'Computers and Their Applications'),\n",
       " Row(CSDisplayName=u'International Conference on Informatics and Analytics'),\n",
       " Row(CSDisplayName=u'Europe Oceans'),\n",
       " Row(CSDisplayName=u'Iranian Conference on Fuzzy Systems'),\n",
       " Row(CSDisplayName=u'International Conference on Computer Science and Education'),\n",
       " Row(CSDisplayName=u'Business Process Modeling, Development and Support'),\n",
       " Row(CSDisplayName=u'International Conference on Computing and Convergence Technology'),\n",
       " Row(CSDisplayName=u'Conference on Advanced Information Systems Engineering'),\n",
       " Row(CSDisplayName=u'International Workshop on Signal Processing Advances in Wireless Communications'),\n",
       " Row(CSDisplayName=u'Joint Conference on Lexical and Computational Semantics'),\n",
       " Row(CSDisplayName=u'IEEE Symposium on Industrial Electronics and Applications'),\n",
       " Row(CSDisplayName=u'IEEE International Conference on Data Science and Advanced Analytics'),\n",
       " Row(CSDisplayName=u'IEEE International Conference on Cognitive Informatics'),\n",
       " Row(CSDisplayName=u'Network Operations and Management Symposium'),\n",
       " Row(CSDisplayName=u'International Conference Stability and Control Processes'),\n",
       " Row(CSDisplayName=u'East-West Design and Test Symposium'),\n",
       " Row(CSDisplayName=u'Future Technologies Conference'),\n",
       " Row(CSDisplayName=u'Web Intelligence'),\n",
       " Row(CSDisplayName=u'International Conference on Future BioMedical Information Engineering'),\n",
       " Row(CSDisplayName=u'International Conference on Web Intelligence, Mining and Semantics'),\n",
       " Row(CSDisplayName=u'International Conference on Formal Engineering Methods'),\n",
       " Row(CSDisplayName=u'Data-Intensive Software Management and Mining'),\n",
       " Row(CSDisplayName=u'Conference on Automation Science and Engineering'),\n",
       " Row(CSDisplayName=u'IEEE Workshop on Statistical Signal and Array Processing'),\n",
       " Row(CSDisplayName=u'IEEE Conference on Electron Devices and Solid-State Circuits'),\n",
       " Row(CSDisplayName=u'International Forum on Strategic Technologies'),\n",
       " Row(CSDisplayName=u'IEEE Workshop on Electrical Machines Design, Control and Diagnosis'),\n",
       " Row(CSDisplayName=u'IEEE International Conference on Computing, Control and Industrial Engineering'),\n",
       " Row(CSDisplayName=u'Pacific Asia Conference on Information Systems'),\n",
       " Row(CSDisplayName=u'Information Security Practice and Experience'),\n",
       " Row(CSDisplayName=u'International Conference on Robots & Intelligent System'),\n",
       " Row(CSDisplayName=u'Intelligent Technologies for Interactive Entertainment'),\n",
       " Row(CSDisplayName=u'IEEE Workshop on Neural Networks for Signal Processing'),\n",
       " Row(CSDisplayName=u'Technologies Applied to Electronics Teaching'),\n",
       " Row(CSDisplayName=u'Meeting of the Association for Computational Linguistics'),\n",
       " Row(CSDisplayName=u'Knowledge Acquisition from Multimedia Content'),\n",
       " Row(CSDisplayName=u'North American Fuzzy Information Processing Society'),\n",
       " Row(CSDisplayName=u'International Symposium on Communications and Information Technologies'),\n",
       " Row(CSDisplayName=u'IEEE International Conference on Computer Science and Automation Engineering'),\n",
       " Row(CSDisplayName=u'International Conference on Computing: Theory and Applications'),\n",
       " Row(CSDisplayName=u'IEEE International Conference on Prognostics and Health Management'),\n",
       " Row(CSDisplayName=u'Radiation Effects Data Workshop'),\n",
       " Row(CSDisplayName=u'IEEE Computer Society International Conference'),\n",
       " Row(CSDisplayName=u'IEEE Advanced Information Technology, Electronic and Automation Control Conference'),\n",
       " Row(CSDisplayName=u'Euro-American Workshop on Information Optics'),\n",
       " Row(CSDisplayName=u'ACM Special Interest Group on Data Communication'),\n",
       " Row(CSDisplayName=u'Information Security and Assurance'),\n",
       " Row(CSDisplayName=u'Model-based Methodologies for Pervasive and Embedded Software'),\n",
       " Row(CSDisplayName=u'International IEEE VLSI Multilevel Interconnection Conference'),\n",
       " Row(CSDisplayName=u'International Conference on Advanced Technologies for Signal and Image Processing'),\n",
       " Row(CSDisplayName=u'International Conference on Geo-Informatics in Resource Management and Sustainable Ecosystems'),\n",
       " Row(CSDisplayName=u'Personal Satellite Services'),\n",
       " Row(CSDisplayName=u'Asia-Pacific Conference on Environmental Electromagnetics'),\n",
       " Row(CSDisplayName=u'Southcon Conference'),\n",
       " Row(CSDisplayName=u'International Symposium on Educational Technology'),\n",
       " Row(CSDisplayName=u'International Conference on Electrical Machines and Systems'),\n",
       " Row(CSDisplayName=u'International Conference on Hardware/Software Codesign and System Synthesis'),\n",
       " Row(CSDisplayName=u'International Symposium on Universal Communication'),\n",
       " Row(CSDisplayName=u'International Conference on Advances in Production Management Systems'),\n",
       " Row(CSDisplayName=u'Biomedical Circuits and Systems Conference'),\n",
       " Row(CSDisplayName=u'Privacy in Statistical Databases'),\n",
       " Row(CSDisplayName=u'NORCHIP'),\n",
       " Row(CSDisplayName=u'International Conference on Electric Technology and Civil Engineering'),\n",
       " Row(CSDisplayName=u'International Embedded Systems Symposium'),\n",
       " Row(CSDisplayName=u'International Conference on Molecular Bean Epitaxy'),\n",
       " Row(CSDisplayName=u'Integrated Communications, Navigation and Surveillance Conference'),\n",
       " Row(CSDisplayName=u'USENIX conference on Hot Topics in Cloud Ccomputing'),\n",
       " Row(CSDisplayName=u'Services Science, Management and Engineering'),\n",
       " Row(CSDisplayName=u'Workshop on Recent Trends in Algebraic Development Techniques'),\n",
       " Row(CSDisplayName=u'International Conference on Green Circuits and Systems'),\n",
       " Row(CSDisplayName=u'International Conference on Instrumentation, Measurement, Circuits and Systems'),\n",
       " Row(CSDisplayName=u'Integrated Formal Methods'),\n",
       " Row(CSDisplayName=u'Information Interaction in Context'),\n",
       " Row(CSDisplayName=u'IEEE Workshop on Wireless Mesh Networks'),\n",
       " Row(CSDisplayName=u'IEEE International Symposium on Sustainable Systems and Technology'),\n",
       " Row(CSDisplayName=u'IEEE International Conference on Models and Technologies for Intelligent Transportation Systems'),\n",
       " Row(CSDisplayName=u'Working Conference on Reverse Engineering'),\n",
       " Row(CSDisplayName=u'Feature-oriented software development'),\n",
       " Row(CSDisplayName=u'Analytics for Noisy Unstructured Text Data'),\n",
       " Row(CSDisplayName=u'IEEE International Symposium on Phased Array Systems and Technology'),\n",
       " Row(CSDisplayName=u'International Conference on Image, Vision and Computing'),\n",
       " Row(CSDisplayName=u'Challenges of Large Applications in Distributed Environments'),\n",
       " Row(CSDisplayName=u'International Seminar on Future BioMedical Information Engineering'),\n",
       " Row(CSDisplayName=u'Analysis and Modeling of Faces and Gestures'),\n",
       " Row(CSDisplayName=u'Symbolic Numeric Computation'),\n",
       " Row(CSDisplayName=u'Congress of the Italian Association for Artificial Intelligence'),\n",
       " Row(CSDisplayName=u'Berkeley Workshop'),\n",
       " Row(CSDisplayName=u'International Conference on Electrical Machines'),\n",
       " Row(CSDisplayName=u'European Conference on Computer Supported Cooperative Work'),\n",
       " Row(CSDisplayName=u'International Conference on Virtual Rehabilitation'),\n",
       " Row(CSDisplayName=u'Future Network & Mobile Summit'),\n",
       " Row(CSDisplayName=u'Power Systems Computation Conference'),\n",
       " Row(CSDisplayName=u'International Conference on Evolutionary Computation Theory and Applications'),\n",
       " Row(CSDisplayName=u'Combinatorial Pattern Matching'),\n",
       " Row(CSDisplayName=u'Intelligent Sensors, Sensor Networks and Information Processing Conference'),\n",
       " Row(CSDisplayName=u'International Conference on Information Technology, Computer, and Electrical Engineering'),\n",
       " Row(CSDisplayName=u'European Workshop on 3D Structure from Multiple Images of Large-Scale Environments'),\n",
       " Row(CSDisplayName=u'Computational Methods in Systems Biology'),\n",
       " Row(CSDisplayName=u'European Conference on Mobile Robots'),\n",
       " Row(CSDisplayName=u'URSI Atlantic Radio Science Conference'),\n",
       " Row(CSDisplayName=u'Interplay between Usability Evaluation and Software Development'),\n",
       " Row(CSDisplayName=u'Patent Information Retrieval'),\n",
       " Row(CSDisplayName=u'Software Configuration Management Workshop'),\n",
       " Row(CSDisplayName=u'IEEE International Conference on Actual Problems of Electronics Instrument Engineering'),\n",
       " Row(CSDisplayName=u'Workshop on the Economics of Information Security'),\n",
       " Row(CSDisplayName=u'IEEE International NEWCAS Conference'),\n",
       " Row(CSDisplayName=u'Information Processing and Trusted Computing'),\n",
       " Row(CSDisplayName=u'International Conference on Management Science and Engineering'),\n",
       " Row(CSDisplayName=u'International Conference on Genetic and Evolutionary Computing'),\n",
       " Row(CSDisplayName=u'Conceptions of Library and Information Sciences'),\n",
       " Row(CSDisplayName=u'International Conference on Simulation and Modeling Methodologies, Technologies and Applications'),\n",
       " Row(CSDisplayName=u'German Conference on Bioinformatics'),\n",
       " Row(CSDisplayName=u'International Conference on Computer Engineering and Applications'),\n",
       " Row(CSDisplayName=u'Business/IT Alignment and Interoperability'),\n",
       " Row(CSDisplayName=u'Latin American Networking Conference'),\n",
       " Row(CSDisplayName=u'Network and System Support for Games'),\n",
       " Row(CSDisplayName=u'Workshop on Parallel & Distributed Debugging'),\n",
       " Row(CSDisplayName=u'International Power Modulator Symposium, and High-Voltage Workshop'),\n",
       " Row(CSDisplayName=u'International Conference on Computational Logistics'),\n",
       " Row(CSDisplayName=u'International Symposium on Advanced Packaging Materials. Processes, Properties and Interfaces'),\n",
       " Row(CSDisplayName=u'Software Engineering Theory and Practice'),\n",
       " Row(CSDisplayName=u'ACM Symposium on Applied Perception'),\n",
       " Row(CSDisplayName=u'Knowledge Management for Health Care Procedures'),\n",
       " Row(CSDisplayName=u'Canadian Conference on Computer and Robot Vision'),\n",
       " Row(CSDisplayName=u'Computer Aided Modeling and Design of Communication Links and Networks'),\n",
       " Row(CSDisplayName=u'International Conference on WAA'),\n",
       " Row(CSDisplayName=u'International Congress on Advanced Electromagnetic Materials in Microwaves and Optics'),\n",
       " Row(CSDisplayName=u'International Conference on System of Systems Engineering'),\n",
       " Row(CSDisplayName=u'International Symposium on Radio-Frequency Integration Technology'),\n",
       " Row(CSDisplayName=u'International Conference on Business Computing and Global Informatization'),\n",
       " Row(CSDisplayName=u'IEEE/NPSS Symposium on Fusion Engineering'),\n",
       " Row(CSDisplayName=u'Uncertainty Reasoning for the Semantic Web'),\n",
       " Row(CSDisplayName=u'Symposium on Volume Visualization'),\n",
       " Row(CSDisplayName=u\"New Zealand Chapter's International Conference on Computer-Human Interaction\"),\n",
       " Row(CSDisplayName=u'International Conference on Concurrency Theory'),\n",
       " Row(CSDisplayName=u'Workshop on Recent Advances on Intrusiton-Tolerant Systems'),\n",
       " Row(CSDisplayName=u'Quality of Multimedia Experience'),\n",
       " Row(CSDisplayName=u'Articulated Motion and Deformable Objects'),\n",
       " Row(CSDisplayName=u'Joint International Conference on Power System Technology and IEEE Power India Conference'),\n",
       " Row(CSDisplayName=u'Language Resources and Evaluation'),\n",
       " Row(CSDisplayName=u'Latin American Web Congress'),\n",
       " Row(CSDisplayName=u'Symposium/Workshop on Electronic Design, Test and Applications'),\n",
       " Row(CSDisplayName=u'Modeling, Analysis, and Simulation On Computer and Telecommunication Systems'),\n",
       " Row(CSDisplayName=u'Conference of the Centre for Advanced Studies on Collaborative Research'),\n",
       " Row(CSDisplayName=u'Theorem Proving in Higher Order Logics'),\n",
       " Row(CSDisplayName=u'Visualizing Software for Understanding and Analysis'),\n",
       " Row(CSDisplayName=u'Virtual Machines and Intermediate Languages for Emerging Modularization Mechanisms'),\n",
       " Row(CSDisplayName=u'Compound Semiconductor Integrated Circuit Symposium'),\n",
       " Row(CSDisplayName=u'International Conference on Industrial Control and Electronics Engineering'),\n",
       " Row(CSDisplayName=u'International Conference on Information Visualization Theory and Applications'),\n",
       " Row(CSDisplayName=u'Conference on Innovative Data Systems Research'),\n",
       " Row(CSDisplayName=u'International Workshop on Principles of Software Evolution'),\n",
       " Row(CSDisplayName=u'China International Forum on Solid State Lighting'),\n",
       " Row(CSDisplayName=u'Information Processing in Medical Imaging'),\n",
       " Row(CSDisplayName=u'International Conference on Software Technology and Engineering'),\n",
       " Row(CSDisplayName=u'International Workshop on Hot Topics in Planet-Scale Measurement'),\n",
       " Row(CSDisplayName=u'IEEE International Conference on Grey systems and Intelligent Services'),\n",
       " Row(CSDisplayName=u'International Conference on Sampling Theory and Applications'),\n",
       " Row(CSDisplayName=u'IEEE MTT-S International Microwave Workshop Series on RF and Wireless Technologies for Biomedical and Healthcare Applications'),\n",
       " Row(CSDisplayName=u'Formal Methods in Computer-Aided Design'),\n",
       " Row(CSDisplayName=u'European Conference and Exhibition on Optical Communications'),\n",
       " Row(CSDisplayName=u'The Power Electronics, Drive Systems & Technologies Conference'),\n",
       " Row(CSDisplayName=u'Conference on Advanced Signal Processing : Algorithms, Architectures, and Implemenations'),\n",
       " Row(CSDisplayName=u'International Conference on Agents and Artificial Intelligence'),\n",
       " Row(CSDisplayName=u'International Conference on Nanoscience and Nanotechnology'),\n",
       " Row(CSDisplayName=u'IEEE Symposium on Large Data Analysis and Visualization'),\n",
       " Row(CSDisplayName=u'Conference on Innovations in Theoretical Computer Science'),\n",
       " Row(CSDisplayName=u'International Symposium on Temporal Representation and Reasoning'),\n",
       " Row(CSDisplayName=u'International Symposium on Fundamentals of Electrical Engineering'),\n",
       " Row(CSDisplayName=u'IEEE Industry Applications Society Annual Meeting'),\n",
       " Row(CSDisplayName=u'IEEE Symposium on Adaptive Dynamic Programming and Reinforcement Learning'),\n",
       " Row(CSDisplayName=u'International Conference on Computer Engineering and Technology'),\n",
       " Row(CSDisplayName=u'Application-Specific Systems, Architectures, and Processors'),\n",
       " Row(CSDisplayName=u'Networking, Systems, and Applications for Mobile Handhelds'),\n",
       " Row(CSDisplayName=u'Conference on Data and Application Security and Privacy'),\n",
       " Row(CSDisplayName=u'International Conference on Engineering Applications of Neural Networks'),\n",
       " Row(CSDisplayName=u'Atlantic Web Intelligence Conference'),\n",
       " Row(CSDisplayName=u'International Symposium on Water Resource and Environmental Protection'),\n",
       " Row(CSDisplayName=u'Network-aware Data Management'),\n",
       " Row(CSDisplayName=u'World Conference on Complex Systems'),\n",
       " Row(CSDisplayName=u\"l'Interaction Homme-Machine\"),\n",
       " Row(CSDisplayName=u'Computer and Communications Security'),\n",
       " Row(CSDisplayName=u'Applied Sciences on Biomedical and Communication Technologies'),\n",
       " Row(CSDisplayName=u'Biologically Inspired Cognitive Architectures'),\n",
       " Row(CSDisplayName=u'International Symposium on Computer and Information Sciences'),\n",
       " Row(CSDisplayName=u'International Conference on eHealth, Telemedicine, and Social Medicine'),\n",
       " Row(CSDisplayName=u'Programming Language Design and Implementation'),\n",
       " Row(CSDisplayName=u'Randomization and Approximation Techniques in Computer Science'),\n",
       " Row(CSDisplayName=u'European Workshop on Software Process Technology'),\n",
       " Row(CSDisplayName=u'Intelligent Information Technology Application'),\n",
       " Row(CSDisplayName=u'International Conference on Communications, Circuits and Systems'),\n",
       " Row(CSDisplayName=u'Digital Interactive Media in Entertainment and Arts'),\n",
       " Row(CSDisplayName=u'Computer-Based Medical Systems'),\n",
       " Row(CSDisplayName=u'Conference on Image and video communications and processing'),\n",
       " Row(CSDisplayName=u'Topical Conference on Antennas and Propagation in Wireless Communications'),\n",
       " Row(CSDisplayName=u'Ad-Hoc, Mobile and Wireless Networks'),\n",
       " Row(CSDisplayName=u'Virtual Reality Software and Technology'),\n",
       " Row(CSDisplayName=u'Collaboration Technologies and Systems'),\n",
       " Row(CSDisplayName=u'International Workshop on Distributed Algorithms'),\n",
       " Row(CSDisplayName=u'Geographic Information Retrieval'),\n",
       " Row(CSDisplayName=u'Joint IEEE International Conference on Development and Learning and Epigenetic Robotics'),\n",
       " Row(CSDisplayName=u'Concept Lattices and their Applications'),\n",
       " Row(CSDisplayName=u'IEEE Conference on Mass Storage Systems and Technologies'),\n",
       " Row(CSDisplayName=u'International Symposium on Intelligent Information Technology and Security Informatics'),\n",
       " Row(CSDisplayName=u'Australasian Telecommunication Networks and Applications Conference'),\n",
       " Row(CSDisplayName=u'European Conference on Circuit Theory and Design'),\n",
       " Row(CSDisplayName=u'WRI Global Congress on Intelligent Systems'),\n",
       " Row(CSDisplayName=u'Agile Processes in Software Engineering and Extreme Programming'),\n",
       " Row(CSDisplayName=u'International Conference on Internet Computing and Information Services'),\n",
       " Row(CSDisplayName=u'International Conference - Cloud System and Big Data Engineering'),\n",
       " Row(CSDisplayName=u'IEEE Nuclear Science Symposium'),\n",
       " Row(CSDisplayName=u'IEEE European Symposium on Security and Privacy'),\n",
       " Row(CSDisplayName=u'Scalable Trusted Computing'),\n",
       " Row(CSDisplayName=u'IEEE/LEOS International Conference on Optical MEMS and Their Applications Conference'),\n",
       " Row(CSDisplayName=u'IEEE Symposium on Human Centric Computing Languages and Environments'),\n",
       " Row(CSDisplayName=u'Multikonferenz Wirtschaftsinformatik'),\n",
       " Row(CSDisplayName=u'Workshop on Automated Specification and Verification of Web Sites'),\n",
       " Row(CSDisplayName=u'IEEE International Conference on Advanced Networks and Telecommunications Systems'),\n",
       " Row(CSDisplayName=u'Logic-based Program Synthesis and Transformation'),\n",
       " Row(CSDisplayName=u'IEEE Energytech'),\n",
       " Row(CSDisplayName=u'IEEE Conference on Network Softwarization'),\n",
       " Row(CSDisplayName=u'The Impact of Virtual, Remote, and Real Logistics Labs'),\n",
       " Row(CSDisplayName=u'Decision Support Systems'),\n",
       " Row(CSDisplayName=u'Multiagent System Technologies'),\n",
       " Row(CSDisplayName=u'RFID-Technologies and Applications'),\n",
       " Row(CSDisplayName=u'IEEE International Conference on Information and Financial Engineering'),\n",
       " Row(CSDisplayName=u'European Solid-State Circuits Conference'),\n",
       " Row(CSDisplayName=u'Computational Intelligence for Modelling, Control and Automation'),\n",
       " Row(CSDisplayName=u'Signal Processing: Algorithms, Architectures, Arrangements, and Applications'),\n",
       " Row(CSDisplayName=u'International Conference on E-health Networking, Application & Services'),\n",
       " Row(CSDisplayName=u'International Conference on e-Business Engineering'),\n",
       " Row(CSDisplayName=u'System-on-Chip Conference'),\n",
       " Row(CSDisplayName=u'SEI Conference on Software Engineering Education'),\n",
       " Row(CSDisplayName=u'International University Conference Electronics and Radiophysics of Ultra-High Frequencies'),\n",
       " Row(CSDisplayName=u'International Conference on Solid-State and Integrated Circuits Technology'),\n",
       " Row(CSDisplayName=u'International Workshop on Larch'),\n",
       " Row(CSDisplayName=u'Digital Image Computing: Techniques and Applications'),\n",
       " Row(CSDisplayName=u'IEEE International Conference on Semiconductor Electronics'),\n",
       " Row(CSDisplayName=u'International Conference on Localization and GNSS'),\n",
       " Row(CSDisplayName=u'IEEE International Future Energy Electronics Conference'),\n",
       " Row(CSDisplayName=u'International Workshop on Advanced Ground Penetrating Radar'),\n",
       " Row(CSDisplayName=u'International Conference on Human-Computer Interaction'),\n",
       " Row(CSDisplayName=u'International Symposium on Power Electronics for Distributed Generation Systems'),\n",
       " Row(CSDisplayName=u'International Conference on Infrastructure Systems and Services: Building Networks for a Brighter Future'),\n",
       " Row(CSDisplayName=u'Performance Evaluation of Wireless Ad Hoc, Sensor, and Ubiquitous Networks'),\n",
       " Row(CSDisplayName=u'International Conference on Electronics, Communications, and Computers'),\n",
       " Row(CSDisplayName=u'IEEE International Pulsed Power Conference'),\n",
       " Row(CSDisplayName=u'Empirical Software Engineering and Measurement'),\n",
       " Row(CSDisplayName=u'China-Japan Joint Microwave Conference'),\n",
       " Row(CSDisplayName=u'National Computer Conference'),\n",
       " Row(CSDisplayName=u'USENIX workshop on Tackling computer systems problems with machine learning techniques'),\n",
       " Row(CSDisplayName=u'Software - Science, Technology and Engineering'),\n",
       " Row(CSDisplayName=u'World Congress on Information and Communication Technologies'),\n",
       " Row(CSDisplayName=u'Quality in Databases'),\n",
       " Row(CSDisplayName=u'Workshop on Logic, Language, Information and Computation'),\n",
       " Row(CSDisplayName=u'IEEE International Conference on Advanced Communications, Control and Computing Technologies'),\n",
       " Row(CSDisplayName=u'Cologne Twente Workshop on Graphs and Combinatorial Optimization'),\n",
       " Row(CSDisplayName=u'International Symposium on Information Technology Convergence'),\n",
       " Row(CSDisplayName=u'URSI General Assembly and Scientific Symposium'),\n",
       " Row(CSDisplayName=u'IEEE International Caracas Conference on Devices, Circuits and Systems'),\n",
       " Row(CSDisplayName=u'IEEE International Workshop on Policies for Distributed Systems and Networks'),\n",
       " Row(CSDisplayName=u'Power Electronics Specialists Conference'),\n",
       " Row(CSDisplayName=u'International Symposium on Artificial Intelligence and Mathematics'),\n",
       " Row(CSDisplayName=u'IASTED Conference on Software Engineering and Applications'),\n",
       " Row(CSDisplayName=u'IEEE International Conference on Electric Utility Deregulation, Restructuring and Power Technologies'),\n",
       " Row(CSDisplayName=u'International Vacuum Microelectronics Conference'),\n",
       " Row(CSDisplayName=u'Amrita ACM-W Celebration on Women in Computing in India'),\n",
       " Row(CSDisplayName=u'IEEE International Conference on Recent Trends in Information Systems'),\n",
       " Row(CSDisplayName=u'Frontier of Computer Science and Technology'),\n",
       " Row(CSDisplayName=u'Memory Performance: Dealing With Applications, Systems And Architecture'),\n",
       " Row(CSDisplayName=u'Health Information Science'),\n",
       " Row(CSDisplayName=u'International Conference on Critical Infrastructure Protection'),\n",
       " Row(CSDisplayName=u'International Conference on Modeling, Simulation and Visualization Methods'),\n",
       " Row(CSDisplayName=u'IEEE International Conference on Serious Games and Applications for Health'),\n",
       " Row(CSDisplayName=u'Australian Information Security Management Conference'),\n",
       " Row(CSDisplayName=u'AIED Workshops'),\n",
       " Row(CSDisplayName=u'IEEE Circuits and Systems Symposium on Emerging Technologies'),\n",
       " Row(CSDisplayName=u'Digital Processing Applications'),\n",
       " Row(CSDisplayName=u'International Conference on Information Science and Technology'),\n",
       " Row(CSDisplayName=u'ACM SIGCPR/SIGMIS conference on Computer Personnel Research'),\n",
       " Row(CSDisplayName=u'APPIA-GULP-PRODE'),\n",
       " Row(CSDisplayName=u'Mediterranean Electrotechnical Conference'),\n",
       " Row(CSDisplayName=u'Mathematical Methods for Curves and Surfaces'),\n",
       " Row(CSDisplayName=u'International Telecommunications Energy Conference'),\n",
       " Row(CSDisplayName=u'ACM Symposium on Parallel Algorithms and Architectures'),\n",
       " Row(CSDisplayName=u'International Conference on Ultimate Integration on Silicon'),\n",
       " Row(CSDisplayName=u'IEEE International Conference on Space Science and Communication'),\n",
       " Row(CSDisplayName=u'International Conference on Distributed Smart Cameras'),\n",
       " Row(CSDisplayName=u'International Conference on Swarm Intelligence'),\n",
       " Row(CSDisplayName=u'Forum on specification and Design Languages'),\n",
       " Row(CSDisplayName=u'International Symposium on Fusion Engineering'),\n",
       " Row(CSDisplayName=u'International Conference Microwave and Telecommunication Technology'),\n",
       " Row(CSDisplayName=u'The Cryptographers\\u2019 Track at the RSA Conference'),\n",
       " Row(CSDisplayName=u'Adaptive and Learning Agents'),\n",
       " Row(CSDisplayName=u'Algorithms, Models and Tools for Parallel Computing on Heterogeneous Platforms'),\n",
       " Row(CSDisplayName=u'Conference on Recommender Systems'),\n",
       " Row(CSDisplayName=u'Asia-Pacific Symposium on Internetware'),\n",
       " Row(CSDisplayName=u'Interpreters, Virtual Machines And Emulators'),\n",
       " Row(CSDisplayName=u'Dynamics of Systems, Mechanisms and Machines'),\n",
       " Row(CSDisplayName=u'Autonomic Computing Workshop'),\n",
       " Row(CSDisplayName=u'International Conference on Education and e-Learning Innovations'),\n",
       " Row(CSDisplayName=u'International Conference on Software and System Process'),\n",
       " Row(CSDisplayName=u'Modeling and Optimization in Mobile, Ad-Hoc and Wireless Networks'),\n",
       " Row(CSDisplayName=u'IEEE Conference on Aerospace and Electronics'),\n",
       " Row(CSDisplayName=u'International Conference on Advances in Electrical, Electronics, Information, Communication and Bio-Informatics'),\n",
       " Row(CSDisplayName=u'International Conference on Engineering of Complex Computer Systems'),\n",
       " Row(CSDisplayName=u'International Workshop on Mobile Object Systems'),\n",
       " Row(CSDisplayName=u'Network Computing and Applications'),\n",
       " Row(CSDisplayName=u'Evaluation and Assessment in Software Engineering'),\n",
       " Row(CSDisplayName=u'Symposium on the Theory of Computing'),\n",
       " Row(CSDisplayName=u'International Symposium on Safety, Security, and Rescue Robotics'),\n",
       " Row(CSDisplayName=u'Data Management on New Hardware'),\n",
       " Row(CSDisplayName=u'International Conference on Systems for Energy-Efficient Built Environments'),\n",
       " Row(CSDisplayName=u'Allerton Conference on Communication, Control, and Computing'),\n",
       " Row(CSDisplayName=u'Cyber Security and Information Intelligence Research Workshop'),\n",
       " Row(CSDisplayName=u'International Symposium on Quality Electronic Design'),\n",
       " Row(CSDisplayName=u'IEEE International Symposium on Knowledge Acquisition and Modeling Workshop'),\n",
       " Row(CSDisplayName=u'Nanotechnology Materials and Devices Conference'),\n",
       " Row(CSDisplayName=u'International Conference on Software Engineering'),\n",
       " Row(CSDisplayName=u'IEEE ECCE Asia Downunder'),\n",
       " Row(CSDisplayName=u'International Conference on Vehicular Electronics and Safety'),\n",
       " Row(CSDisplayName=u'eChallenges Conference'),\n",
       " Row(CSDisplayName=u'Principles, Systems and Applications of IP Telecommunications'),\n",
       " Row(CSDisplayName=u'3DTV-Conference: The True Vision - Capture, Transmission and Display of 3D Video'),\n",
       " Row(CSDisplayName=u'International Conference on Logic Programming'),\n",
       " Row(CSDisplayName=u'International Conference on Interactive Digital Storytelling'),\n",
       " Row(CSDisplayName=u'Australasian Universities Power Engineering Conference'),\n",
       " Row(CSDisplayName=u'International Conference on Health Informatics'),\n",
       " Row(CSDisplayName=u'European Microwave Integrated Circuit Conference'),\n",
       " Row(CSDisplayName=u'EDBT/ICDT Workshops'),\n",
       " Row(CSDisplayName=u'Multimedia and Ubiquitous Engineering'),\n",
       " Row(CSDisplayName=u'International Conference on Telecommunication in Modern Satellite, Cable and Broadcasting Services'),\n",
       " Row(CSDisplayName=u'International Conference on Information Communication and Embedded Systems'),\n",
       " Row(CSDisplayName=u'International Conference on Global Trends in Signal Processing, Information Computing and Communication'),\n",
       " Row(CSDisplayName=u'IEEE EUROCON'),\n",
       " Row(CSDisplayName=u'Cognition and Exploratory Learning in Digital Age'),\n",
       " Row(CSDisplayName=u'International Conference on Biomedical Engineering and Biotechnology'),\n",
       " Row(CSDisplayName=u'European Solid-State Device Research Conference'),\n",
       " Row(CSDisplayName=u'International Andrei Ershov Memorial Conference on Perspectives of System Informatics'),\n",
       " Row(CSDisplayName=u'AEIT International Annual Conference'),\n",
       " Row(CSDisplayName=u'International Conference on Digital Information Management'),\n",
       " Row(CSDisplayName=u'International Conference on Computer Science and Information Processing'),\n",
       " Row(CSDisplayName=u'International Conference on Artificial Intelligence Planning Systems'),\n",
       " Row(CSDisplayName=u'Congress on Image and Signal Processing'),\n",
       " Row(CSDisplayName=u'Computational Intelligence and Games'),\n",
       " Row(CSDisplayName=u'Network on Chip Architectures'),\n",
       " Row(CSDisplayName=u'Enterprise Information Systems and Web Technologies'),\n",
       " Row(CSDisplayName=u'Computer Games'),\n",
       " Row(CSDisplayName=u'International Conference on Advances in Engineering & Technology Research'),\n",
       " Row(CSDisplayName=u'International Joint Conference on Automated Reasoning'),\n",
       " Row(CSDisplayName=u'International Conference of Manufacturing Value-Chain'),\n",
       " Row(CSDisplayName=u'Brazilian Symposium on Bioinformatics'),\n",
       " Row(CSDisplayName=u'Software Process Improvement and Capability Determination'),\n",
       " Row(CSDisplayName=u'Workflows in Support of Large-Scale Science'),\n",
       " Row(CSDisplayName=u'International Conference on Computational Intelligence, Modelling and Simulation'),\n",
       " Row(CSDisplayName=u'Formal Aspects of Component Software'),\n",
       " Row(CSDisplayName=u'International Conference on Interoperability for Enterprise Software and Applications China'),\n",
       " Row(CSDisplayName=u'International Conference on Risk Management & Engineering Management'),\n",
       " Row(CSDisplayName=u'International Conference on Learning and Collaboration Technologies'),\n",
       " Row(CSDisplayName=u'World Conference on Photovoltaic Energy Conversion'),\n",
       " Row(CSDisplayName=u'ACM SIGOPS European Workshop'),\n",
       " Row(CSDisplayName=u'International Conference on Power and Energy Systems: Towards Sustainable Energy'),\n",
       " Row(CSDisplayName=u'Digital Forensic Research Workshop'),\n",
       " Row(CSDisplayName=u'International Conference on Mechatronics'),\n",
       " Row(CSDisplayName=u'Embedded and Ubiquitous Computing'),\n",
       " Row(CSDisplayName=u'Embedded Software'),\n",
       " Row(CSDisplayName=u'Hawaii International Conference on System Sciences'),\n",
       " Row(CSDisplayName=u'Conference on USENIX Windows NT Symposium'),\n",
       " Row(CSDisplayName=u'International Conference on Design and Technology of Integrated Systems in Nanoscale Era'),\n",
       " Row(CSDisplayName=u'Logical and Computational Complexity'),\n",
       " Row(CSDisplayName=u'Medical Technologies National Conference'),\n",
       " Row(CSDisplayName=u'Design, Automation, and Test in Europe'),\n",
       " Row(CSDisplayName=u'IEEE International Workshop on Electromagnetics: Applications and Student Innovation Competition'),\n",
       " Row(CSDisplayName=u'International Conference on Research Challenges in Computer Science'),\n",
       " Row(CSDisplayName=u'Grid Computing Environments'),\n",
       " Row(CSDisplayName=u'International Workshop on Robot Motion and Control'),\n",
       " Row(CSDisplayName=u'Intelligent Tutoring Systems'),\n",
       " Row(CSDisplayName=u'High Performance Computational Finance'),\n",
       " Row(CSDisplayName=u'International Conference on Computer Science, Environment, Ecoinformatics, and Education'),\n",
       " Row(CSDisplayName=u'International Conference on Distributed Computing'),\n",
       " Row(CSDisplayName=u'International Conference on New Trends in Information Science, Service Science and Data Mining'),\n",
       " Row(CSDisplayName=u'International Meeting for Future of Electron Devices, Kansai'),\n",
       " Row(CSDisplayName=u'IEEE PowerTech Conference'),\n",
       " Row(CSDisplayName=u'User Centric Media'),\n",
       " Row(CSDisplayName=u'Distributed Memory Computing Conference'),\n",
       " Row(CSDisplayName=u'Self-Adaptive and Self-Organizing Systems'),\n",
       " Row(CSDisplayName=u'International Conference on Wireless Communications and Applied Computational Electromagnetics'),\n",
       " Row(CSDisplayName=u'International Workshop on Satisfiability Modulo Theories'),\n",
       " Row(CSDisplayName=u'international conference on Modelling and simulation'),\n",
       " Row(CSDisplayName=u'Foundations\\xa0of\\xa0Aspect-Oriented\\xa0Languages'),\n",
       " Row(CSDisplayName=u'Very Large Data Bases'),\n",
       " Row(CSDisplayName=u'Computer Science Symposium in Russia'),\n",
       " Row(CSDisplayName=u'International Conference on Modelling, Identification and Control'),\n",
       " Row(CSDisplayName=u'International Conference on Move to Meaningful Internet Systems'),\n",
       " Row(CSDisplayName=u'Software Language Engineering'),\n",
       " Row(CSDisplayName=u'Computer Assisted Radiology and Surgery'),\n",
       " Row(CSDisplayName=u'International Professional Communication Conference'),\n",
       " Row(CSDisplayName=u'IEEE Workshop on Speech Coding for Telecommunications'),\n",
       " Row(CSDisplayName=u'Automated Decision Making for Active Cyber Defense'),\n",
       " Row(CSDisplayName=u'International Workshop on Computer Architecture for Machine Perception'),\n",
       " Row(CSDisplayName=u'European Modelling Symposium'),\n",
       " Row(CSDisplayName=u'International Conference on Devices, Circuits and Systems'),\n",
       " Row(CSDisplayName=u'International Conference on Industrial Informatics'),\n",
       " Row(CSDisplayName=u'European Conference on Optical Communication'),\n",
       " Row(CSDisplayName=u'Information Security and Digital Forensics'),\n",
       " Row(CSDisplayName=u'International Conference on Computer and Communication Engineering'),\n",
       " Row(CSDisplayName=u'Eurographics Conference on Graphics Hardware'),\n",
       " Row(CSDisplayName=u'Simplifying Complex Networks for Practitioners'),\n",
       " Row(CSDisplayName=u'Explanation-aware Computing'),\n",
       " Row(CSDisplayName=u'Innovations in Theoretical Computer Science'),\n",
       " Row(CSDisplayName=u'International Journal of Manufacturing, Materials, and Mechanical Engineering'),\n",
       " Row(CSDisplayName=u'International Symposium on Image and Data Fusion'),\n",
       " Row(CSDisplayName=u'International Conference on Design of Communication'),\n",
       " Row(CSDisplayName=u'International Conference on Automatic Control and Dynamic Optimization Techniques'),\n",
       " Row(CSDisplayName=u'Western Canadian Conference on Computing Education'),\n",
       " Row(CSDisplayName=u'Next Generation Information Technologies and Systems'),\n",
       " Row(CSDisplayName=u'Mobile Networks and Management'),\n",
       " Row(CSDisplayName=u'International Conference on Transport Systems Telematics'),\n",
       " Row(CSDisplayName=u'Pervasive Computing Technologies for Healthcare'),\n",
       " Row(CSDisplayName=u'DepCoS-RELCOMEX'),\n",
       " Row(CSDisplayName=u'IEEE Students\\u2019 Technology Symposium'),\n",
       " Row(CSDisplayName=u'International Conference on Artificial Intelligence in Theory and Practice'),\n",
       " Row(CSDisplayName=u'International Workshop on Brainlesion: Glioma, Multiple Sclerosis, Stroke and Traumatic Brain Injuries'),\n",
       " Row(CSDisplayName=u'Knowledge Discovery and Data Mining'),\n",
       " Row(CSDisplayName=u'Technology of Object-Oriented Languages and Systems'),\n",
       " Row(CSDisplayName=u'Algorithmic Aspects of Wireless Sensor Networks'),\n",
       " Row(CSDisplayName=u'International Conference of Learning Sciences'),\n",
       " Row(CSDisplayName=u'Biennial Symposium on Communications'),\n",
       " Row(CSDisplayName=u'International Conference on the European Energy Market'),\n",
       " Row(CSDisplayName=u'IEEE Workshop on Embedded Networked Sensors'),\n",
       " Row(CSDisplayName=u'USENIX Large Installation Systems Administration Conference'),\n",
       " Row(CSDisplayName=u'European Quantum Electronics Conference'),\n",
       " Row(CSDisplayName=u'Artificial Neural Networks in Pattern Recognition'),\n",
       " Row(CSDisplayName=u'International Conference on Applied System Innovation'),\n",
       " Row(CSDisplayName=u'Software Engineering Research and Applications'),\n",
       " Row(CSDisplayName=u'Human-Computer Interaction with Mobile Devices and Services'),\n",
       " Row(CSDisplayName=u'Asia-Pacific Conference on Conceptual Modelling'),\n",
       " Row(CSDisplayName=u'International Workshop on Requirements Engineering and Law'),\n",
       " Row(CSDisplayName=u'International Conference on Application Specific Array Processors'),\n",
       " Row(CSDisplayName=u'Security of Information and Networks'),\n",
       " Row(CSDisplayName=u'Electrical Overstress/Electrostatic Discharge Symposium'),\n",
       " Row(CSDisplayName=u'Adaptive and Reflective Middleware'),\n",
       " Row(CSDisplayName=u'Workshop on Approximation and Online Algorithms'),\n",
       " Row(CSDisplayName=u'Symposium on Frontiers of Massively Parallel Computation'),\n",
       " Row(CSDisplayName=u'Annual Symposium on Computer Application in Medical Care'),\n",
       " Row(CSDisplayName=u'International Conference on Intelligent Transportation Systems'),\n",
       " Row(CSDisplayName=u'Mediterranean Conference on Control and Automation'),\n",
       " Row(CSDisplayName=u'International Conference on Conduction and Breakdown in Solid Dielectrics'),\n",
       " Row(CSDisplayName=u'Wireless Communications, Networking and Information Security'),\n",
       " Row(CSDisplayName=u'Spring Simulation Multiconference'),\n",
       " Row(CSDisplayName=u'Languages in Biology and Medicine'),\n",
       " Row(CSDisplayName=u'International Conference on Smart Manufacturing Application'),\n",
       " Row(CSDisplayName=u'Intelligent User Interfaces'),\n",
       " Row(CSDisplayName=u'International Conference on Fluid Power and Mechatronics'),\n",
       " Row(CSDisplayName=u'Symposium on Access Control Models and Technologies'),\n",
       " Row(CSDisplayName=u'Machines, Computations, and Universality'),\n",
       " Row(CSDisplayName=u'SIGGRAPH/EUROGRAPHICS Conference On Graphics Hardware'),\n",
       " Row(CSDisplayName=u'IEEE International Conference on Power Systems'),\n",
       " Row(CSDisplayName=u'International Conference on Computer Sciences and Convergence Information Technology'),\n",
       " Row(CSDisplayName=u'International Conference on Autonomic and Autonomous Systems'),\n",
       " Row(CSDisplayName=u'International Conference on E-Learning and E-Technologies in Education'),\n",
       " Row(CSDisplayName=u'International Conference on the Theory and Application of Cryptology and Information Security'),\n",
       " Row(CSDisplayName=u'Conference of the Association for Machine Translation in the Americas'),\n",
       " Row(CSDisplayName=u'International Conference on Wireless and Mobile Communications'),\n",
       " Row(CSDisplayName=u'International Conference on Hot topics in autonomic computing'),\n",
       " Row(CSDisplayName=u'Modeling and Retrieval of Context'),\n",
       " Row(CSDisplayName=u'International Conference on Information Technology'),\n",
       " Row(CSDisplayName=u'Network-Based Information Systems'),\n",
       " Row(CSDisplayName=u'Declarative Aspects and Applications of Multicore Programming'),\n",
       " Row(CSDisplayName=u'IEEE International Smart Cities Conference'),\n",
       " Row(CSDisplayName=u'International Conference on Robotics and Mechatronics'),\n",
       " Row(CSDisplayName=u'International Conference on Knowledge Discovery and Information Retrieval'),\n",
       " Row(CSDisplayName=u'International Conference on Computer Communication and Informatics'),\n",
       " Row(CSDisplayName=u'IEEE International Conference on Computer Applications and Industrial Electronics'),\n",
       " Row(CSDisplayName=u'Deontic Logic in Computer Science'),\n",
       " Row(CSDisplayName=u'Computers in Cardiology Conference'),\n",
       " Row(CSDisplayName=u'Australasian Joint Conference on Artificial Intelligence'),\n",
       " Row(CSDisplayName=u'Asian and Pacific Rim Symposium on Biophotonics'),\n",
       " Row(CSDisplayName=u'International Symposium on Performance Analysis of Systems and Software'),\n",
       " Row(CSDisplayName=u'Computational Science and Engineering'),\n",
       " Row(CSDisplayName=u'International Caribbean Conference on Devices, Circuits and Systems'),\n",
       " Row(CSDisplayName=u'International Conference on Optoelectronics and Microelectronics'),\n",
       " Row(CSDisplayName=u'British HCI Conference'),\n",
       " Row(CSDisplayName=u'Networks for Grid Applications'),\n",
       " Row(CSDisplayName=u'International Conference on Intelligent Science and Big Data Engineering'),\n",
       " ...]"
      ]
     },
     "execution_count": 93,
     "metadata": {},
     "output_type": "execute_result"
    }
   ],
   "source": [
    "df.select(\"CSDisplayName\").collect()"
   ]
  },
  {
   "cell_type": "code",
   "execution_count": 94,
   "metadata": {},
   "outputs": [
    {
     "data": {
      "text/plain": [
       "3741"
      ]
     },
     "execution_count": 94,
     "metadata": {},
     "output_type": "execute_result"
    }
   ],
   "source": [
    "df.select(\"CSNormalizedName\").distinct().count()"
   ]
  },
  {
   "cell_type": "code",
   "execution_count": 95,
   "metadata": {},
   "outputs": [
    {
     "name": "stdout",
     "output_type": "stream",
     "text": [
      "+-------+-------------------+------------------+----------------+--------------------+------------------+------------------+\n",
      "|summary|       ConfSeriesID|            CSRank|CSNormalizedName|       CSDisplayName|      CSPaperCount|        CSCitation|\n",
      "+-------+-------------------+------------------+----------------+--------------------+------------------+------------------+\n",
      "|  count|               4025|              4025|            4025|                4025|              4025|              4025|\n",
      "|   mean|2.231268664235528E9|12096.311801242236|            null|                null|1009.2136645962732| 7998.033788819876|\n",
      "| stddev|7.289105282795117E8|1440.8539098345286|            null|                null|2542.1383528697484|31757.625927609926|\n",
      "|    min|         1119369170|              6941|             3CA|3DTV-Conference: ...|                 1|                 0|\n",
      "|    max|         2760805818|             25000|     sensorcomm |workshop on Middl...|             45543|            645856|\n",
      "+-------+-------------------+------------------+----------------+--------------------+------------------+------------------+\n",
      "\n"
     ]
    }
   ],
   "source": [
    "df.describe().show()"
   ]
  },
  {
   "cell_type": "code",
   "execution_count": 96,
   "metadata": {},
   "outputs": [],
   "source": [
    "from pyspark.sql.functions import isnan,when,count,col"
   ]
  },
  {
   "cell_type": "code",
   "execution_count": 97,
   "metadata": {},
   "outputs": [
    {
     "name": "stdout",
     "output_type": "stream",
     "text": [
      "+------------+------+----------------+-------------+------------+----------+\n",
      "|ConfSeriesID|CSRank|CSNormalizedName|CSDisplayName|CSPaperCount|CSCitation|\n",
      "+------------+------+----------------+-------------+------------+----------+\n",
      "|           0|     0|               0|            0|           0|         0|\n",
      "+------------+------+----------------+-------------+------------+----------+\n",
      "\n"
     ]
    }
   ],
   "source": [
    "df.select([count(when(isnan(c) | col(c).isNull(),c)).alias(c) for c in df.columns]).show()"
   ]
  },
  {
   "cell_type": "code",
   "execution_count": 98,
   "metadata": {},
   "outputs": [],
   "source": [
    "df.coalesce(1).write.format('com.databricks.spark.csv').mode('overwrite').save('ConferenceSeries.csv',header = 'true')"
   ]
  },
  {
   "cell_type": "markdown",
   "metadata": {},
   "source": [
    "# Conference Instances"
   ]
  },
  {
   "cell_type": "code",
   "execution_count": 35,
   "metadata": {},
   "outputs": [],
   "source": [
    "txt_file_ci = sc.textFile(\"../Data/graph/2018-02-02/ConferenceInstances.txt\")"
   ]
  },
  {
   "cell_type": "code",
   "execution_count": 36,
   "metadata": {},
   "outputs": [
    {
     "data": {
      "text/plain": [
       "[u'2312404054\\t25000\\tsiggraph 2016\\tSIGGRAPH 2016\\t1164321581\\tAnaheim, California\\thttp://s2016.siggraph.org/call-submissions\\t2016-07-24\\t2016-07-28\\t\\t2016-01-18\\t\\t2016-01-19\\t846\\t1741',\n",
       " u'121793801\\t25000\\twsdm 2012\\tWSDM 2012\\t1120384002\\tSeattle, WA\\thttp://wsdm2012.org/\\t2012-02-08\\t2012-02-12\\t2011-08-04\\t2011-08-11\\t2011-10-26\\t\\t87\\t3496',\n",
       " u'2625789444\\t25000\\tiprm 2006\\tIPRM 2006\\t2621445615\\tPrinceton, NJ, USA\\t\\t\\t\\t\\t\\t\\t\\t\\t',\n",
       " u'82574969\\t25000\\tfoga 2009\\tFOGA 2009\\t1159491267\\tOrlando, FL, USA\\thttp://www.sigevo.org/foga-2009\\t2009-01-09\\t2009-01-11\\t\\t2008-09-01\\t\\t\\t19\\t382',\n",
       " u'196500321\\t25000\\tkmis 2013\\tKMIS 2013\\t1158252963\\tVilamoura, Algarve, Portugal\\thttp://www.kmis.ic3k.org\\t2013-09-19\\t2013-09-22\\t\\t2013-05-16\\t2013-06-24\\t2013-07-05\\t32\\t12']"
      ]
     },
     "execution_count": 36,
     "metadata": {},
     "output_type": "execute_result"
    }
   ],
   "source": [
    "txt_file_ci.take(5)"
   ]
  },
  {
   "cell_type": "code",
   "execution_count": 37,
   "metadata": {},
   "outputs": [],
   "source": [
    "temp_var_ci = txt_file_ci.map(lambda k : k.split(\"\\t\"))"
   ]
  },
  {
   "cell_type": "code",
   "execution_count": 38,
   "metadata": {},
   "outputs": [],
   "source": [
    "df_ci=temp_var_ci.toDF()"
   ]
  },
  {
   "cell_type": "code",
   "execution_count": 39,
   "metadata": {},
   "outputs": [
    {
     "data": {
      "text/plain": [
       "[Row(_1=u'2312404054', _2=u'25000', _3=u'siggraph 2016', _4=u'SIGGRAPH 2016', _5=u'1164321581', _6=u'Anaheim, California', _7=u'http://s2016.siggraph.org/call-submissions', _8=u'2016-07-24', _9=u'2016-07-28', _10=u'', _11=u'2016-01-18', _12=u'', _13=u'2016-01-19', _14=u'846', _15=u'1741'),\n",
       " Row(_1=u'121793801', _2=u'25000', _3=u'wsdm 2012', _4=u'WSDM 2012', _5=u'1120384002', _6=u'Seattle, WA', _7=u'http://wsdm2012.org/', _8=u'2012-02-08', _9=u'2012-02-12', _10=u'2011-08-04', _11=u'2011-08-11', _12=u'2011-10-26', _13=u'', _14=u'87', _15=u'3496'),\n",
       " Row(_1=u'2625789444', _2=u'25000', _3=u'iprm 2006', _4=u'IPRM 2006', _5=u'2621445615', _6=u'Princeton, NJ, USA', _7=u'', _8=u'', _9=u'', _10=u'', _11=u'', _12=u'', _13=u'', _14=u'', _15=u''),\n",
       " Row(_1=u'82574969', _2=u'25000', _3=u'foga 2009', _4=u'FOGA 2009', _5=u'1159491267', _6=u'Orlando, FL, USA', _7=u'http://www.sigevo.org/foga-2009', _8=u'2009-01-09', _9=u'2009-01-11', _10=u'', _11=u'2008-09-01', _12=u'', _13=u'', _14=u'19', _15=u'382'),\n",
       " Row(_1=u'196500321', _2=u'25000', _3=u'kmis 2013', _4=u'KMIS 2013', _5=u'1158252963', _6=u'Vilamoura, Algarve, Portugal', _7=u'http://www.kmis.ic3k.org', _8=u'2013-09-19', _9=u'2013-09-22', _10=u'', _11=u'2013-05-16', _12=u'2013-06-24', _13=u'2013-07-05', _14=u'32', _15=u'12')]"
      ]
     },
     "execution_count": 39,
     "metadata": {},
     "output_type": "execute_result"
    }
   ],
   "source": [
    "df_ci.take(5)"
   ]
  },
  {
   "cell_type": "code",
   "execution_count": 40,
   "metadata": {},
   "outputs": [
    {
     "name": "stdout",
     "output_type": "stream",
     "text": [
      "+----------+-----+-------------+-------------+----------+--------------------+--------------------+----------+----------+----------+----------+----------+----------+---+----+\n",
      "|        _1|   _2|           _3|           _4|        _5|                  _6|                  _7|        _8|        _9|       _10|       _11|       _12|       _13|_14| _15|\n",
      "+----------+-----+-------------+-------------+----------+--------------------+--------------------+----------+----------+----------+----------+----------+----------+---+----+\n",
      "|2312404054|25000|siggraph 2016|SIGGRAPH 2016|1164321581| Anaheim, California|http://s2016.sigg...|2016-07-24|2016-07-28|          |2016-01-18|          |2016-01-19|846|1741|\n",
      "| 121793801|25000|    wsdm 2012|    WSDM 2012|1120384002|         Seattle, WA|http://wsdm2012.org/|2012-02-08|2012-02-12|2011-08-04|2011-08-11|2011-10-26|          | 87|3496|\n",
      "|2625789444|25000|    iprm 2006|    IPRM 2006|2621445615|  Princeton, NJ, USA|                    |          |          |          |          |          |          |   |    |\n",
      "|  82574969|25000|    foga 2009|    FOGA 2009|1159491267|    Orlando, FL, USA|http://www.sigevo...|2009-01-09|2009-01-11|          |2008-09-01|          |          | 19| 382|\n",
      "| 196500321|25000|    kmis 2013|    KMIS 2013|1158252963|Vilamoura, Algarv...|http://www.kmis.i...|2013-09-19|2013-09-22|          |2013-05-16|2013-06-24|2013-07-05| 32|  12|\n",
      "+----------+-----+-------------+-------------+----------+--------------------+--------------------+----------+----------+----------+----------+----------+----------+---+----+\n",
      "only showing top 5 rows\n",
      "\n"
     ]
    }
   ],
   "source": [
    "df_ci.show(5)"
   ]
  },
  {
   "cell_type": "code",
   "execution_count": 41,
   "metadata": {},
   "outputs": [],
   "source": [
    "#df_ci.printSchema()#shows that all are type of string and nullable=true"
   ]
  },
  {
   "cell_type": "code",
   "execution_count": 42,
   "metadata": {},
   "outputs": [],
   "source": [
    "df_ci = df_ci.withColumn(\"ConfInstanceID\",df_ci[\"_1\"].cast(LongType()))"
   ]
  },
  {
   "cell_type": "code",
   "execution_count": 43,
   "metadata": {},
   "outputs": [],
   "source": [
    "df_ci = df_ci.withColumn(\"CIRank\",df_ci[\"_2\"].cast(IntegerType()))"
   ]
  },
  {
   "cell_type": "code",
   "execution_count": 44,
   "metadata": {},
   "outputs": [],
   "source": [
    "df_ci = df_ci.withColumn(\"CINormalizedNm\",df_ci[\"_3\"].cast(StringType()))"
   ]
  },
  {
   "cell_type": "code",
   "execution_count": 45,
   "metadata": {},
   "outputs": [],
   "source": [
    "df_ci = df_ci.withColumn(\"CIDisplayNm\",df_ci[\"_4\"].cast(StringType()))"
   ]
  },
  {
   "cell_type": "code",
   "execution_count": 46,
   "metadata": {},
   "outputs": [],
   "source": [
    "df_ci = df_ci.withColumn(\"CICSID\",df_ci[\"_5\"].cast(LongType()))"
   ]
  },
  {
   "cell_type": "code",
   "execution_count": 47,
   "metadata": {},
   "outputs": [],
   "source": [
    "df_ci = df_ci.withColumn(\"Location\",df_ci[\"_6\"].cast(StringType()))"
   ]
  },
  {
   "cell_type": "code",
   "execution_count": 48,
   "metadata": {},
   "outputs": [],
   "source": [
    "df_ci = df_ci.withColumn(\"CIOfficialURL\",df_ci[\"_7\"].cast(StringType()))"
   ]
  },
  {
   "cell_type": "code",
   "execution_count": 49,
   "metadata": {},
   "outputs": [],
   "source": [
    "df_ci = df_ci.withColumn(\"StartDate\",df_ci[\"_8\"].cast(DateType()))"
   ]
  },
  {
   "cell_type": "code",
   "execution_count": 50,
   "metadata": {},
   "outputs": [],
   "source": [
    "df_ci = df_ci.withColumn(\"EndDate\",df_ci[\"_9\"].cast(DateType()))"
   ]
  },
  {
   "cell_type": "code",
   "execution_count": 51,
   "metadata": {},
   "outputs": [],
   "source": [
    "df_ci = df_ci.withColumn(\"AbstractRegDate\",df_ci[\"_10\"].cast(DateType()))"
   ]
  },
  {
   "cell_type": "code",
   "execution_count": 52,
   "metadata": {},
   "outputs": [],
   "source": [
    "df_ci = df_ci.withColumn(\"SubDeadlineDate\",df_ci[\"_11\"].cast(DateType()))"
   ]
  },
  {
   "cell_type": "code",
   "execution_count": 53,
   "metadata": {},
   "outputs": [],
   "source": [
    "df_ci = df_ci.withColumn(\"NotificationDueDate\",df_ci[\"_12\"].cast(DateType()))"
   ]
  },
  {
   "cell_type": "code",
   "execution_count": 54,
   "metadata": {},
   "outputs": [],
   "source": [
    "df_ci = df_ci.withColumn(\"FinalVersionDueDate\",df_ci[\"_13\"].cast(DateType()))"
   ]
  },
  {
   "cell_type": "code",
   "execution_count": 55,
   "metadata": {},
   "outputs": [],
   "source": [
    "df_ci = df_ci.withColumn(\"CIPaperCount\",df_ci[\"_14\"].cast(IntegerType()))"
   ]
  },
  {
   "cell_type": "code",
   "execution_count": 56,
   "metadata": {},
   "outputs": [],
   "source": [
    "df_ci = df_ci.withColumn(\"CIPaperCitationCnt\",df_ci[\"_15\"].cast(IntegerType()))"
   ]
  },
  {
   "cell_type": "code",
   "execution_count": 57,
   "metadata": {},
   "outputs": [
    {
     "name": "stdout",
     "output_type": "stream",
     "text": [
      "+----------+-----+-------------+-------------+----------+-------------------+--------------------+----------+----------+----------+----------+----------+----------+---+----+--------------+------+--------------+-------------+----------+-------------------+--------------------+----------+----------+---------------+---------------+-------------------+-------------------+------------+------------------+\n",
      "|        _1|   _2|           _3|           _4|        _5|                 _6|                  _7|        _8|        _9|       _10|       _11|       _12|       _13|_14| _15|ConfInstanceID|CIRank|CINormalizedNm|  CIDisplayNm|    CICSID|           Location|       CIOfficialURL| StartDate|   EndDate|AbstractRegDate|SubDeadlineDate|NotificationDueDate|FinalVersionDueDate|CIPaperCount|CIPaperCitationCnt|\n",
      "+----------+-----+-------------+-------------+----------+-------------------+--------------------+----------+----------+----------+----------+----------+----------+---+----+--------------+------+--------------+-------------+----------+-------------------+--------------------+----------+----------+---------------+---------------+-------------------+-------------------+------------+------------------+\n",
      "|2312404054|25000|siggraph 2016|SIGGRAPH 2016|1164321581|Anaheim, California|http://s2016.sigg...|2016-07-24|2016-07-28|          |2016-01-18|          |2016-01-19|846|1741|    2312404054| 25000| siggraph 2016|SIGGRAPH 2016|1164321581|Anaheim, California|http://s2016.sigg...|2016-07-24|2016-07-28|           null|     2016-01-18|               null|         2016-01-19|         846|              1741|\n",
      "| 121793801|25000|    wsdm 2012|    WSDM 2012|1120384002|        Seattle, WA|http://wsdm2012.org/|2012-02-08|2012-02-12|2011-08-04|2011-08-11|2011-10-26|          | 87|3496|     121793801| 25000|     wsdm 2012|    WSDM 2012|1120384002|        Seattle, WA|http://wsdm2012.org/|2012-02-08|2012-02-12|     2011-08-04|     2011-08-11|         2011-10-26|               null|          87|              3496|\n",
      "+----------+-----+-------------+-------------+----------+-------------------+--------------------+----------+----------+----------+----------+----------+----------+---+----+--------------+------+--------------+-------------+----------+-------------------+--------------------+----------+----------+---------------+---------------+-------------------+-------------------+------------+------------------+\n",
      "only showing top 2 rows\n",
      "\n"
     ]
    }
   ],
   "source": [
    "df_ci.show(2)"
   ]
  },
  {
   "cell_type": "code",
   "execution_count": 58,
   "metadata": {},
   "outputs": [],
   "source": [
    "drop_columns =[\"_1\",\"_2\",\"_3\",\"_4\",\"_5\",\"_6\",\"_7\",\"_8\",\"_9\",\"_10\",\"_11\",\"_12\",\"_13\",\"_14\",\"_15\"]\n",
    "df_ci = df_ci.drop(*drop_columns)    "
   ]
  },
  {
   "cell_type": "code",
   "execution_count": 59,
   "metadata": {},
   "outputs": [
    {
     "name": "stdout",
     "output_type": "stream",
     "text": [
      "+--------------+------+--------------+-------------+----------+-------------------+--------------------+----------+----------+---------------+---------------+-------------------+-------------------+------------+------------------+\n",
      "|ConfInstanceID|CIRank|CINormalizedNm|  CIDisplayNm|    CICSID|           Location|       CIOfficialURL| StartDate|   EndDate|AbstractRegDate|SubDeadlineDate|NotificationDueDate|FinalVersionDueDate|CIPaperCount|CIPaperCitationCnt|\n",
      "+--------------+------+--------------+-------------+----------+-------------------+--------------------+----------+----------+---------------+---------------+-------------------+-------------------+------------+------------------+\n",
      "|    2312404054| 25000| siggraph 2016|SIGGRAPH 2016|1164321581|Anaheim, California|http://s2016.sigg...|2016-07-24|2016-07-28|           null|     2016-01-18|               null|         2016-01-19|         846|              1741|\n",
      "|     121793801| 25000|     wsdm 2012|    WSDM 2012|1120384002|        Seattle, WA|http://wsdm2012.org/|2012-02-08|2012-02-12|     2011-08-04|     2011-08-11|         2011-10-26|               null|          87|              3496|\n",
      "+--------------+------+--------------+-------------+----------+-------------------+--------------------+----------+----------+---------------+---------------+-------------------+-------------------+------------+------------------+\n",
      "only showing top 2 rows\n",
      "\n"
     ]
    }
   ],
   "source": [
    "df_ci.show(2)"
   ]
  },
  {
   "cell_type": "code",
   "execution_count": 60,
   "metadata": {},
   "outputs": [
    {
     "name": "stdout",
     "output_type": "stream",
     "text": [
      "+-------+--------------------+-------+--------------+-------------+--------------------+--------------+--------------------+------------------+------------------+\n",
      "|summary|      ConfInstanceID| CIRank|CINormalizedNm|  CIDisplayNm|              CICSID|      Location|       CIOfficialURL|      CIPaperCount|CIPaperCitationCnt|\n",
      "+-------+--------------------+-------+--------------+-------------+--------------------+--------------+--------------------+------------------+------------------+\n",
      "|  count|               13632|  13632|         13632|        13632|               13632|         13632|               13632|              9958|              9958|\n",
      "|   mean| 1.250923939761517E9|25000.0|          null|         null|1.8119981032470658E9|          null|                null|125.96153846153847| 862.6626832697328|\n",
      "| stddev|1.1853717357293985E9|    0.0|          null|         null| 7.435169239046494E8|          null|                null|224.74227934025276| 2360.415811174456|\n",
      "|    min|               26101|  25000| 3dtv-con 2007|3DTV-CON 2007|          1119369170|              |                    |                 1|                 0|\n",
      "|    max|          2785298140|  25000|     zeus 2015|   types 2011|          2760803309|Örebro, Sweden|https://www2018.t...|              3362|             44961|\n",
      "+-------+--------------------+-------+--------------+-------------+--------------------+--------------+--------------------+------------------+------------------+\n",
      "\n"
     ]
    }
   ],
   "source": [
    "df_ci.describe().show()"
   ]
  },
  {
   "cell_type": "code",
   "execution_count": 61,
   "metadata": {},
   "outputs": [
    {
     "name": "stdout",
     "output_type": "stream",
     "text": [
      "+--------------+------+--------------+-----------+------+--------+-------------+---------+-------+---------------+---------------+-------------------+-------------------+------------+------------------+\n",
      "|ConfInstanceID|CIRank|CINormalizedNm|CIDisplayNm|CICSID|Location|CIOfficialURL|StartDate|EndDate|AbstractRegDate|SubDeadlineDate|NotificationDueDate|FinalVersionDueDate|CIPaperCount|CIPaperCitationCnt|\n",
      "+--------------+------+--------------+-----------+------+--------+-------------+---------+-------+---------------+---------------+-------------------+-------------------+------------+------------------+\n",
      "|             0|     0|             0|          0|     0|       0|            0|     2549|   2548|          11754|           4471|               7607|               8577|        3674|              3674|\n",
      "+--------------+------+--------------+-----------+------+--------+-------------+---------+-------+---------------+---------------+-------------------+-------------------+------------+------------------+\n",
      "\n"
     ]
    }
   ],
   "source": [
    "df_ci.select([count(when(col(c).isNull(),c)).alias(c) for c in df_ci.columns]).show()"
   ]
  },
  {
   "cell_type": "code",
   "execution_count": 62,
   "metadata": {},
   "outputs": [
    {
     "data": {
      "text/plain": [
       "2549"
      ]
     },
     "execution_count": 62,
     "metadata": {},
     "output_type": "execute_result"
    }
   ],
   "source": [
    "df_ci.filter((df_ci[\"StartDate\"] == \"\") | df_ci[\"StartDate\"].isNull()).count()"
   ]
  },
  {
   "cell_type": "code",
   "execution_count": 63,
   "metadata": {},
   "outputs": [
    {
     "data": {
      "text/plain": [
       "3674"
      ]
     },
     "execution_count": 63,
     "metadata": {},
     "output_type": "execute_result"
    }
   ],
   "source": [
    "df_ci.filter((df_ci[\"CIPaperCitationCnt\"] == \"\") | df_ci[\"CIPaperCitationCnt\"].isNull()).count()"
   ]
  },
  {
   "cell_type": "code",
   "execution_count": 64,
   "metadata": {},
   "outputs": [
    {
     "data": {
      "text/plain": [
       "7607"
      ]
     },
     "execution_count": 64,
     "metadata": {},
     "output_type": "execute_result"
    }
   ],
   "source": [
    "df_ci.filter((df_ci[\"NotificationDueDate\"] == \"\") | df_ci[\"NotificationDueDate\"].isNull()).count()"
   ]
  },
  {
   "cell_type": "code",
   "execution_count": null,
   "metadata": {},
   "outputs": [],
   "source": []
  }
 ],
 "metadata": {
  "kernelspec": {
   "display_name": "Python 2",
   "language": "python",
   "name": "python2"
  },
  "language_info": {
   "codemirror_mode": {
    "name": "ipython",
    "version": 2
   },
   "file_extension": ".py",
   "mimetype": "text/x-python",
   "name": "python",
   "nbconvert_exporter": "python",
   "pygments_lexer": "ipython2",
   "version": "2.7.15rc1"
  }
 },
 "nbformat": 4,
 "nbformat_minor": 2
}
