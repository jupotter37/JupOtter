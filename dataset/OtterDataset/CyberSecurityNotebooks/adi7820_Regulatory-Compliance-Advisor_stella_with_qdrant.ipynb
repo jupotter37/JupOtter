{
  "cells": [
    {
      "cell_type": "markdown",
      "metadata": {
        "id": "QnjdW7tgMlCm"
      },
      "source": [
        "## Financial Services"
      ]
    },
    {
      "cell_type": "code",
      "execution_count": 1,
      "metadata": {
        "colab": {
          "base_uri": "https://localhost:8080/"
        },
        "id": "pbPJEbjyKA-e",
        "outputId": "ba6324bc-4212-4051-f608-27b60648551f"
      },
      "outputs": [
        {
          "name": "stdout",
          "output_type": "stream",
          "text": [
            "qdrant.txt  sample_data\n"
          ]
        }
      ],
      "source": [
        "!ls"
      ]
    },
    {
      "cell_type": "code",
      "execution_count": 2,
      "metadata": {
        "colab": {
          "base_uri": "https://localhost:8080/"
        },
        "id": "Rz3ZR4OtMylp",
        "outputId": "c58bac76-cfbb-4871-99c8-2e3dffc9030f"
      },
      "outputs": [
        {
          "name": "stdout",
          "output_type": "stream",
          "text": [
            "Requirement already satisfied: pypdf in /usr/local/lib/python3.10/dist-packages (from -r qdrant.txt (line 1)) (4.3.1)\n",
            "Requirement already satisfied: qdrant-client==1.10.0 in /usr/local/lib/python3.10/dist-packages (from -r qdrant.txt (line 2)) (1.10.0)\n",
            "Requirement already satisfied: langchain in /usr/local/lib/python3.10/dist-packages (from -r qdrant.txt (line 3)) (0.2.12)\n",
            "Requirement already satisfied: langchain-community in /usr/local/lib/python3.10/dist-packages (from -r qdrant.txt (line 4)) (0.2.11)\n",
            "Requirement already satisfied: transformers in /usr/local/lib/python3.10/dist-packages (from -r qdrant.txt (line 5)) (4.42.4)\n",
            "Requirement already satisfied: sentence-transformers in /usr/local/lib/python3.10/dist-packages (from -r qdrant.txt (line 6)) (3.0.1)\n",
            "Requirement already satisfied: langchain-huggingface in /usr/local/lib/python3.10/dist-packages (from -r qdrant.txt (line 7)) (0.0.3)\n",
            "Requirement already satisfied: langchain-qdrant in /usr/local/lib/python3.10/dist-packages (from -r qdrant.txt (line 8)) (0.1.1)\n",
            "Requirement already satisfied: unstructured==0.7.12 in /usr/local/lib/python3.10/dist-packages (from -r qdrant.txt (line 9)) (0.7.12)\n",
            "Requirement already satisfied: clean-text in /usr/local/lib/python3.10/dist-packages (from -r qdrant.txt (line 10)) (0.6.0)\n",
            "Requirement already satisfied: wikipedia in /usr/local/lib/python3.10/dist-packages (from -r qdrant.txt (line 11)) (1.4.0)\n",
            "Requirement already satisfied: torch in /usr/local/lib/python3.10/dist-packages (from -r qdrant.txt (line 12)) (2.3.1+cu121)\n",
            "Requirement already satisfied: torchvision in /usr/local/lib/python3.10/dist-packages (from -r qdrant.txt (line 13)) (0.18.1+cu121)\n",
            "Requirement already satisfied: torchaudio in /usr/local/lib/python3.10/dist-packages (from -r qdrant.txt (line 14)) (2.3.1+cu121)\n",
            "Requirement already satisfied: langchain_openai in /usr/local/lib/python3.10/dist-packages (from -r qdrant.txt (line 15)) (0.1.20)\n",
            "Requirement already satisfied: xformers==0.0.27 in /usr/local/lib/python3.10/dist-packages (from -r qdrant.txt (line 16)) (0.0.27)\n",
            "Requirement already satisfied: python-dotenv in /usr/local/lib/python3.10/dist-packages (from -r qdrant.txt (line 17)) (1.0.1)\n",
            "Requirement already satisfied: grpcio>=1.41.0 in /usr/local/lib/python3.10/dist-packages (from qdrant-client==1.10.0->-r qdrant.txt (line 2)) (1.65.4)\n",
            "Requirement already satisfied: grpcio-tools>=1.41.0 in /usr/local/lib/python3.10/dist-packages (from qdrant-client==1.10.0->-r qdrant.txt (line 2)) (1.65.4)\n",
            "Requirement already satisfied: httpx>=0.20.0 in /usr/local/lib/python3.10/dist-packages (from httpx[http2]>=0.20.0->qdrant-client==1.10.0->-r qdrant.txt (line 2)) (0.27.0)\n",
            "Requirement already satisfied: numpy>=1.21 in /usr/local/lib/python3.10/dist-packages (from qdrant-client==1.10.0->-r qdrant.txt (line 2)) (1.26.4)\n",
            "Requirement already satisfied: portalocker<3.0.0,>=2.7.0 in /usr/local/lib/python3.10/dist-packages (from qdrant-client==1.10.0->-r qdrant.txt (line 2)) (2.10.1)\n",
            "Requirement already satisfied: pydantic>=1.10.8 in /usr/local/lib/python3.10/dist-packages (from qdrant-client==1.10.0->-r qdrant.txt (line 2)) (2.8.2)\n",
            "Requirement already satisfied: urllib3<3,>=1.26.14 in /usr/local/lib/python3.10/dist-packages (from qdrant-client==1.10.0->-r qdrant.txt (line 2)) (2.0.7)\n",
            "Requirement already satisfied: argilla in /usr/local/lib/python3.10/dist-packages (from unstructured==0.7.12->-r qdrant.txt (line 9)) (2.0.0)\n",
            "Requirement already satisfied: chardet in /usr/local/lib/python3.10/dist-packages (from unstructured==0.7.12->-r qdrant.txt (line 9)) (5.2.0)\n",
            "Requirement already satisfied: filetype in /usr/local/lib/python3.10/dist-packages (from unstructured==0.7.12->-r qdrant.txt (line 9)) (1.2.0)\n",
            "Requirement already satisfied: lxml in /usr/local/lib/python3.10/dist-packages (from unstructured==0.7.12->-r qdrant.txt (line 9)) (4.9.4)\n",
            "Requirement already satisfied: msg-parser in /usr/local/lib/python3.10/dist-packages (from unstructured==0.7.12->-r qdrant.txt (line 9)) (1.2.0)\n",
            "Requirement already satisfied: nltk in /usr/local/lib/python3.10/dist-packages (from unstructured==0.7.12->-r qdrant.txt (line 9)) (3.8.1)\n",
            "Requirement already satisfied: openpyxl in /usr/local/lib/python3.10/dist-packages (from unstructured==0.7.12->-r qdrant.txt (line 9)) (3.1.5)\n",
            "Requirement already satisfied: pandas in /usr/local/lib/python3.10/dist-packages (from unstructured==0.7.12->-r qdrant.txt (line 9)) (2.1.4)\n",
            "Requirement already satisfied: pdf2image in /usr/local/lib/python3.10/dist-packages (from unstructured==0.7.12->-r qdrant.txt (line 9)) (1.17.0)\n",
            "Requirement already satisfied: pdfminer.six in /usr/local/lib/python3.10/dist-packages (from unstructured==0.7.12->-r qdrant.txt (line 9)) (20240706)\n",
            "Requirement already satisfied: pillow in /usr/local/lib/python3.10/dist-packages (from unstructured==0.7.12->-r qdrant.txt (line 9)) (9.4.0)\n",
            "Requirement already satisfied: pypandoc in /usr/local/lib/python3.10/dist-packages (from unstructured==0.7.12->-r qdrant.txt (line 9)) (1.13)\n",
            "Requirement already satisfied: python-docx in /usr/local/lib/python3.10/dist-packages (from unstructured==0.7.12->-r qdrant.txt (line 9)) (1.1.2)\n",
            "Requirement already satisfied: python-pptx in /usr/local/lib/python3.10/dist-packages (from unstructured==0.7.12->-r qdrant.txt (line 9)) (0.6.23)\n",
            "Requirement already satisfied: python-magic in /usr/local/lib/python3.10/dist-packages (from unstructured==0.7.12->-r qdrant.txt (line 9)) (0.4.27)\n",
            "Requirement already satisfied: markdown in /usr/local/lib/python3.10/dist-packages (from unstructured==0.7.12->-r qdrant.txt (line 9)) (3.6)\n",
            "Requirement already satisfied: requests in /usr/local/lib/python3.10/dist-packages (from unstructured==0.7.12->-r qdrant.txt (line 9)) (2.32.3)\n",
            "Requirement already satisfied: tabulate in /usr/local/lib/python3.10/dist-packages (from unstructured==0.7.12->-r qdrant.txt (line 9)) (0.9.0)\n",
            "Requirement already satisfied: xlrd in /usr/local/lib/python3.10/dist-packages (from unstructured==0.7.12->-r qdrant.txt (line 9)) (2.0.1)\n",
            "Requirement already satisfied: filelock in /usr/local/lib/python3.10/dist-packages (from torch->-r qdrant.txt (line 12)) (3.15.4)\n",
            "Requirement already satisfied: typing-extensions>=4.8.0 in /usr/local/lib/python3.10/dist-packages (from torch->-r qdrant.txt (line 12)) (4.12.2)\n",
            "Requirement already satisfied: sympy in /usr/local/lib/python3.10/dist-packages (from torch->-r qdrant.txt (line 12)) (1.13.1)\n",
            "Requirement already satisfied: networkx in /usr/local/lib/python3.10/dist-packages (from torch->-r qdrant.txt (line 12)) (3.3)\n",
            "Requirement already satisfied: jinja2 in /usr/local/lib/python3.10/dist-packages (from torch->-r qdrant.txt (line 12)) (3.1.4)\n",
            "Requirement already satisfied: fsspec in /usr/local/lib/python3.10/dist-packages (from torch->-r qdrant.txt (line 12)) (2024.5.0)\n",
            "Requirement already satisfied: nvidia-cuda-nvrtc-cu12==12.1.105 in /usr/local/lib/python3.10/dist-packages (from torch->-r qdrant.txt (line 12)) (12.1.105)\n",
            "Requirement already satisfied: nvidia-cuda-runtime-cu12==12.1.105 in /usr/local/lib/python3.10/dist-packages (from torch->-r qdrant.txt (line 12)) (12.1.105)\n",
            "Requirement already satisfied: nvidia-cuda-cupti-cu12==12.1.105 in /usr/local/lib/python3.10/dist-packages (from torch->-r qdrant.txt (line 12)) (12.1.105)\n",
            "Requirement already satisfied: nvidia-cudnn-cu12==8.9.2.26 in /usr/local/lib/python3.10/dist-packages (from torch->-r qdrant.txt (line 12)) (8.9.2.26)\n",
            "Requirement already satisfied: nvidia-cublas-cu12==12.1.3.1 in /usr/local/lib/python3.10/dist-packages (from torch->-r qdrant.txt (line 12)) (12.1.3.1)\n",
            "Requirement already satisfied: nvidia-cufft-cu12==11.0.2.54 in /usr/local/lib/python3.10/dist-packages (from torch->-r qdrant.txt (line 12)) (11.0.2.54)\n",
            "Requirement already satisfied: nvidia-curand-cu12==10.3.2.106 in /usr/local/lib/python3.10/dist-packages (from torch->-r qdrant.txt (line 12)) (10.3.2.106)\n",
            "Requirement already satisfied: nvidia-cusolver-cu12==11.4.5.107 in /usr/local/lib/python3.10/dist-packages (from torch->-r qdrant.txt (line 12)) (11.4.5.107)\n",
            "Requirement already satisfied: nvidia-cusparse-cu12==12.1.0.106 in /usr/local/lib/python3.10/dist-packages (from torch->-r qdrant.txt (line 12)) (12.1.0.106)\n",
            "Requirement already satisfied: nvidia-nccl-cu12==2.20.5 in /usr/local/lib/python3.10/dist-packages (from torch->-r qdrant.txt (line 12)) (2.20.5)\n",
            "Requirement already satisfied: nvidia-nvtx-cu12==12.1.105 in /usr/local/lib/python3.10/dist-packages (from torch->-r qdrant.txt (line 12)) (12.1.105)\n",
            "Requirement already satisfied: triton==2.3.1 in /usr/local/lib/python3.10/dist-packages (from torch->-r qdrant.txt (line 12)) (2.3.1)\n",
            "Requirement already satisfied: nvidia-nvjitlink-cu12 in /usr/local/lib/python3.10/dist-packages (from nvidia-cusolver-cu12==11.4.5.107->torch->-r qdrant.txt (line 12)) (12.6.20)\n",
            "Requirement already satisfied: PyYAML>=5.3 in /usr/local/lib/python3.10/dist-packages (from langchain->-r qdrant.txt (line 3)) (6.0.1)\n",
            "Requirement already satisfied: SQLAlchemy<3,>=1.4 in /usr/local/lib/python3.10/dist-packages (from langchain->-r qdrant.txt (line 3)) (2.0.31)\n",
            "Requirement already satisfied: aiohttp<4.0.0,>=3.8.3 in /usr/local/lib/python3.10/dist-packages (from langchain->-r qdrant.txt (line 3)) (3.9.5)\n",
            "Requirement already satisfied: async-timeout<5.0.0,>=4.0.0 in /usr/local/lib/python3.10/dist-packages (from langchain->-r qdrant.txt (line 3)) (4.0.3)\n",
            "Requirement already satisfied: langchain-core<0.3.0,>=0.2.27 in /usr/local/lib/python3.10/dist-packages (from langchain->-r qdrant.txt (line 3)) (0.2.28)\n",
            "Requirement already satisfied: langchain-text-splitters<0.3.0,>=0.2.0 in /usr/local/lib/python3.10/dist-packages (from langchain->-r qdrant.txt (line 3)) (0.2.2)\n",
            "Requirement already satisfied: langsmith<0.2.0,>=0.1.17 in /usr/local/lib/python3.10/dist-packages (from langchain->-r qdrant.txt (line 3)) (0.1.96)\n",
            "Requirement already satisfied: tenacity!=8.4.0,<9.0.0,>=8.1.0 in /usr/local/lib/python3.10/dist-packages (from langchain->-r qdrant.txt (line 3)) (8.5.0)\n",
            "Requirement already satisfied: dataclasses-json<0.7,>=0.5.7 in /usr/local/lib/python3.10/dist-packages (from langchain-community->-r qdrant.txt (line 4)) (0.6.7)\n",
            "Requirement already satisfied: huggingface-hub<1.0,>=0.23.2 in /usr/local/lib/python3.10/dist-packages (from transformers->-r qdrant.txt (line 5)) (0.23.5)\n",
            "Requirement already satisfied: packaging>=20.0 in /usr/local/lib/python3.10/dist-packages (from transformers->-r qdrant.txt (line 5)) (24.1)\n",
            "Requirement already satisfied: regex!=2019.12.17 in /usr/local/lib/python3.10/dist-packages (from transformers->-r qdrant.txt (line 5)) (2024.5.15)\n",
            "Requirement already satisfied: safetensors>=0.4.1 in /usr/local/lib/python3.10/dist-packages (from transformers->-r qdrant.txt (line 5)) (0.4.3)\n",
            "Requirement already satisfied: tokenizers<0.20,>=0.19 in /usr/local/lib/python3.10/dist-packages (from transformers->-r qdrant.txt (line 5)) (0.19.1)\n",
            "Requirement already satisfied: tqdm>=4.27 in /usr/local/lib/python3.10/dist-packages (from transformers->-r qdrant.txt (line 5)) (4.66.4)\n",
            "Requirement already satisfied: scikit-learn in /usr/local/lib/python3.10/dist-packages (from sentence-transformers->-r qdrant.txt (line 6)) (1.3.2)\n",
            "Requirement already satisfied: scipy in /usr/local/lib/python3.10/dist-packages (from sentence-transformers->-r qdrant.txt (line 6)) (1.13.1)\n",
            "Requirement already satisfied: emoji<2.0.0,>=1.0.0 in /usr/local/lib/python3.10/dist-packages (from clean-text->-r qdrant.txt (line 10)) (1.7.0)\n",
            "Requirement already satisfied: ftfy<7.0,>=6.0 in /usr/local/lib/python3.10/dist-packages (from clean-text->-r qdrant.txt (line 10)) (6.2.0)\n",
            "Requirement already satisfied: beautifulsoup4 in /usr/local/lib/python3.10/dist-packages (from wikipedia->-r qdrant.txt (line 11)) (4.12.3)\n",
            "Requirement already satisfied: openai<2.0.0,>=1.32.0 in /usr/local/lib/python3.10/dist-packages (from langchain_openai->-r qdrant.txt (line 15)) (1.38.0)\n",
            "Requirement already satisfied: tiktoken<1,>=0.7 in /usr/local/lib/python3.10/dist-packages (from langchain_openai->-r qdrant.txt (line 15)) (0.7.0)\n",
            "Requirement already satisfied: aiosignal>=1.1.2 in /usr/local/lib/python3.10/dist-packages (from aiohttp<4.0.0,>=3.8.3->langchain->-r qdrant.txt (line 3)) (1.3.1)\n",
            "Requirement already satisfied: attrs>=17.3.0 in /usr/local/lib/python3.10/dist-packages (from aiohttp<4.0.0,>=3.8.3->langchain->-r qdrant.txt (line 3)) (23.2.0)\n",
            "Requirement already satisfied: frozenlist>=1.1.1 in /usr/local/lib/python3.10/dist-packages (from aiohttp<4.0.0,>=3.8.3->langchain->-r qdrant.txt (line 3)) (1.4.1)\n",
            "Requirement already satisfied: multidict<7.0,>=4.5 in /usr/local/lib/python3.10/dist-packages (from aiohttp<4.0.0,>=3.8.3->langchain->-r qdrant.txt (line 3)) (6.0.5)\n",
            "Requirement already satisfied: yarl<2.0,>=1.0 in /usr/local/lib/python3.10/dist-packages (from aiohttp<4.0.0,>=3.8.3->langchain->-r qdrant.txt (line 3)) (1.9.4)\n",
            "Requirement already satisfied: marshmallow<4.0.0,>=3.18.0 in /usr/local/lib/python3.10/dist-packages (from dataclasses-json<0.7,>=0.5.7->langchain-community->-r qdrant.txt (line 4)) (3.21.3)\n",
            "Requirement already satisfied: typing-inspect<1,>=0.4.0 in /usr/local/lib/python3.10/dist-packages (from dataclasses-json<0.7,>=0.5.7->langchain-community->-r qdrant.txt (line 4)) (0.9.0)\n",
            "Requirement already satisfied: wcwidth<0.3.0,>=0.2.12 in /usr/local/lib/python3.10/dist-packages (from ftfy<7.0,>=6.0->clean-text->-r qdrant.txt (line 10)) (0.2.13)\n",
            "Requirement already satisfied: protobuf<6.0dev,>=5.26.1 in /usr/local/lib/python3.10/dist-packages (from grpcio-tools>=1.41.0->qdrant-client==1.10.0->-r qdrant.txt (line 2)) (5.27.3)\n",
            "Requirement already satisfied: setuptools in /usr/local/lib/python3.10/dist-packages (from grpcio-tools>=1.41.0->qdrant-client==1.10.0->-r qdrant.txt (line 2)) (71.0.4)\n",
            "Requirement already satisfied: anyio in /usr/local/lib/python3.10/dist-packages (from httpx>=0.20.0->httpx[http2]>=0.20.0->qdrant-client==1.10.0->-r qdrant.txt (line 2)) (3.7.1)\n",
            "Requirement already satisfied: certifi in /usr/local/lib/python3.10/dist-packages (from httpx>=0.20.0->httpx[http2]>=0.20.0->qdrant-client==1.10.0->-r qdrant.txt (line 2)) (2024.7.4)\n",
            "Requirement already satisfied: httpcore==1.* in /usr/local/lib/python3.10/dist-packages (from httpx>=0.20.0->httpx[http2]>=0.20.0->qdrant-client==1.10.0->-r qdrant.txt (line 2)) (1.0.5)\n",
            "Requirement already satisfied: idna in /usr/local/lib/python3.10/dist-packages (from httpx>=0.20.0->httpx[http2]>=0.20.0->qdrant-client==1.10.0->-r qdrant.txt (line 2)) (3.7)\n",
            "Requirement already satisfied: sniffio in /usr/local/lib/python3.10/dist-packages (from httpx>=0.20.0->httpx[http2]>=0.20.0->qdrant-client==1.10.0->-r qdrant.txt (line 2)) (1.3.1)\n",
            "Requirement already satisfied: h11<0.15,>=0.13 in /usr/local/lib/python3.10/dist-packages (from httpcore==1.*->httpx>=0.20.0->httpx[http2]>=0.20.0->qdrant-client==1.10.0->-r qdrant.txt (line 2)) (0.14.0)\n",
            "Requirement already satisfied: h2<5,>=3 in /usr/local/lib/python3.10/dist-packages (from httpx[http2]>=0.20.0->qdrant-client==1.10.0->-r qdrant.txt (line 2)) (4.1.0)\n",
            "Requirement already satisfied: jsonpatch<2.0,>=1.33 in /usr/local/lib/python3.10/dist-packages (from langchain-core<0.3.0,>=0.2.27->langchain->-r qdrant.txt (line 3)) (1.33)\n",
            "Requirement already satisfied: orjson<4.0.0,>=3.9.14 in /usr/local/lib/python3.10/dist-packages (from langsmith<0.2.0,>=0.1.17->langchain->-r qdrant.txt (line 3)) (3.10.6)\n",
            "Requirement already satisfied: distro<2,>=1.7.0 in /usr/lib/python3/dist-packages (from openai<2.0.0,>=1.32.0->langchain_openai->-r qdrant.txt (line 15)) (1.7.0)\n",
            "Requirement already satisfied: annotated-types>=0.4.0 in /usr/local/lib/python3.10/dist-packages (from pydantic>=1.10.8->qdrant-client==1.10.0->-r qdrant.txt (line 2)) (0.7.0)\n",
            "Requirement already satisfied: pydantic-core==2.20.1 in /usr/local/lib/python3.10/dist-packages (from pydantic>=1.10.8->qdrant-client==1.10.0->-r qdrant.txt (line 2)) (2.20.1)\n",
            "Requirement already satisfied: charset-normalizer<4,>=2 in /usr/local/lib/python3.10/dist-packages (from requests->unstructured==0.7.12->-r qdrant.txt (line 9)) (3.3.2)\n",
            "Requirement already satisfied: greenlet!=0.4.17 in /usr/local/lib/python3.10/dist-packages (from SQLAlchemy<3,>=1.4->langchain->-r qdrant.txt (line 3)) (3.0.3)\n",
            "Requirement already satisfied: rich>=10.0.0 in /usr/local/lib/python3.10/dist-packages (from argilla->unstructured==0.7.12->-r qdrant.txt (line 9)) (13.7.1)\n",
            "Requirement already satisfied: datasets>=2.0.0 in /usr/local/lib/python3.10/dist-packages (from argilla->unstructured==0.7.12->-r qdrant.txt (line 9)) (2.20.0)\n",
            "Requirement already satisfied: soupsieve>1.2 in /usr/local/lib/python3.10/dist-packages (from beautifulsoup4->wikipedia->-r qdrant.txt (line 11)) (2.5)\n",
            "Requirement already satisfied: MarkupSafe>=2.0 in /usr/local/lib/python3.10/dist-packages (from jinja2->torch->-r qdrant.txt (line 12)) (2.1.5)\n",
            "Requirement already satisfied: olefile>=0.46 in /usr/local/lib/python3.10/dist-packages (from msg-parser->unstructured==0.7.12->-r qdrant.txt (line 9)) (0.47)\n",
            "Requirement already satisfied: click in /usr/local/lib/python3.10/dist-packages (from nltk->unstructured==0.7.12->-r qdrant.txt (line 9)) (8.1.7)\n",
            "Requirement already satisfied: joblib in /usr/local/lib/python3.10/dist-packages (from nltk->unstructured==0.7.12->-r qdrant.txt (line 9)) (1.4.2)\n",
            "Requirement already satisfied: et-xmlfile in /usr/local/lib/python3.10/dist-packages (from openpyxl->unstructured==0.7.12->-r qdrant.txt (line 9)) (1.1.0)\n",
            "Requirement already satisfied: python-dateutil>=2.8.2 in /usr/local/lib/python3.10/dist-packages (from pandas->unstructured==0.7.12->-r qdrant.txt (line 9)) (2.8.2)\n",
            "Requirement already satisfied: pytz>=2020.1 in /usr/local/lib/python3.10/dist-packages (from pandas->unstructured==0.7.12->-r qdrant.txt (line 9)) (2024.1)\n",
            "Requirement already satisfied: tzdata>=2022.1 in /usr/local/lib/python3.10/dist-packages (from pandas->unstructured==0.7.12->-r qdrant.txt (line 9)) (2024.1)\n",
            "Requirement already satisfied: cryptography>=36.0.0 in /usr/local/lib/python3.10/dist-packages (from pdfminer.six->unstructured==0.7.12->-r qdrant.txt (line 9)) (42.0.8)\n",
            "Requirement already satisfied: XlsxWriter>=0.5.7 in /usr/local/lib/python3.10/dist-packages (from python-pptx->unstructured==0.7.12->-r qdrant.txt (line 9)) (3.2.0)\n",
            "Requirement already satisfied: threadpoolctl>=2.0.0 in /usr/local/lib/python3.10/dist-packages (from scikit-learn->sentence-transformers->-r qdrant.txt (line 6)) (3.5.0)\n",
            "Requirement already satisfied: mpmath<1.4,>=1.1.0 in /usr/local/lib/python3.10/dist-packages (from sympy->torch->-r qdrant.txt (line 12)) (1.3.0)\n",
            "Requirement already satisfied: exceptiongroup in /usr/local/lib/python3.10/dist-packages (from anyio->httpx>=0.20.0->httpx[http2]>=0.20.0->qdrant-client==1.10.0->-r qdrant.txt (line 2)) (1.2.2)\n",
            "Requirement already satisfied: cffi>=1.12 in /usr/local/lib/python3.10/dist-packages (from cryptography>=36.0.0->pdfminer.six->unstructured==0.7.12->-r qdrant.txt (line 9)) (1.16.0)\n",
            "Requirement already satisfied: pyarrow>=15.0.0 in /usr/local/lib/python3.10/dist-packages (from datasets>=2.0.0->argilla->unstructured==0.7.12->-r qdrant.txt (line 9)) (17.0.0)\n",
            "Requirement already satisfied: pyarrow-hotfix in /usr/local/lib/python3.10/dist-packages (from datasets>=2.0.0->argilla->unstructured==0.7.12->-r qdrant.txt (line 9)) (0.6)\n",
            "Requirement already satisfied: dill<0.3.9,>=0.3.0 in /usr/local/lib/python3.10/dist-packages (from datasets>=2.0.0->argilla->unstructured==0.7.12->-r qdrant.txt (line 9)) (0.3.8)\n",
            "Requirement already satisfied: xxhash in /usr/local/lib/python3.10/dist-packages (from datasets>=2.0.0->argilla->unstructured==0.7.12->-r qdrant.txt (line 9)) (3.4.1)\n",
            "Requirement already satisfied: multiprocess in /usr/local/lib/python3.10/dist-packages (from datasets>=2.0.0->argilla->unstructured==0.7.12->-r qdrant.txt (line 9)) (0.70.16)\n",
            "Requirement already satisfied: hyperframe<7,>=6.0 in /usr/local/lib/python3.10/dist-packages (from h2<5,>=3->httpx[http2]>=0.20.0->qdrant-client==1.10.0->-r qdrant.txt (line 2)) (6.0.1)\n",
            "Requirement already satisfied: hpack<5,>=4.0 in /usr/local/lib/python3.10/dist-packages (from h2<5,>=3->httpx[http2]>=0.20.0->qdrant-client==1.10.0->-r qdrant.txt (line 2)) (4.0.0)\n",
            "Requirement already satisfied: jsonpointer>=1.9 in /usr/local/lib/python3.10/dist-packages (from jsonpatch<2.0,>=1.33->langchain-core<0.3.0,>=0.2.27->langchain->-r qdrant.txt (line 3)) (3.0.0)\n",
            "Requirement already satisfied: six>=1.5 in /usr/local/lib/python3.10/dist-packages (from python-dateutil>=2.8.2->pandas->unstructured==0.7.12->-r qdrant.txt (line 9)) (1.16.0)\n",
            "Requirement already satisfied: markdown-it-py>=2.2.0 in /usr/local/lib/python3.10/dist-packages (from rich>=10.0.0->argilla->unstructured==0.7.12->-r qdrant.txt (line 9)) (3.0.0)\n",
            "Requirement already satisfied: pygments<3.0.0,>=2.13.0 in /usr/local/lib/python3.10/dist-packages (from rich>=10.0.0->argilla->unstructured==0.7.12->-r qdrant.txt (line 9)) (2.16.1)\n",
            "Requirement already satisfied: mypy-extensions>=0.3.0 in /usr/local/lib/python3.10/dist-packages (from typing-inspect<1,>=0.4.0->dataclasses-json<0.7,>=0.5.7->langchain-community->-r qdrant.txt (line 4)) (1.0.0)\n",
            "Requirement already satisfied: pycparser in /usr/local/lib/python3.10/dist-packages (from cffi>=1.12->cryptography>=36.0.0->pdfminer.six->unstructured==0.7.12->-r qdrant.txt (line 9)) (2.22)\n",
            "Requirement already satisfied: mdurl~=0.1 in /usr/local/lib/python3.10/dist-packages (from markdown-it-py>=2.2.0->rich>=10.0.0->argilla->unstructured==0.7.12->-r qdrant.txt (line 9)) (0.1.2)\n"
          ]
        }
      ],
      "source": [
        "!pip install -r qdrant.txt"
      ]
    },
    {
      "cell_type": "code",
      "execution_count": 3,
      "metadata": {
        "colab": {
          "base_uri": "https://localhost:8080/"
        },
        "id": "fOASNVdZMlCo",
        "outputId": "2d790275-5088-4272-ebe3-ab77ab8f97a3"
      },
      "outputs": [
        {
          "name": "stderr",
          "output_type": "stream",
          "text": [
            "WARNING:root:Since the GPL-licensed package `unidecode` is not installed, using Python's `unicodedata` package which yields worse results.\n"
          ]
        }
      ],
      "source": [
        "from langchain.text_splitter import RecursiveCharacterTextSplitter\n",
        "from langchain.docstore.document import Document\n",
        "from langchain.document_loaders import UnstructuredURLLoader\n",
        "from langchain.chains.qa_with_sources import load_qa_with_sources_chain\n",
        "from langchain_community.vectorstores import Qdrant\n",
        "from langchain.chains import RetrievalQA\n",
        "from qdrant_client import QdrantClient\n",
        "from qdrant_client.http.models import VectorParams\n",
        "from langchain_huggingface import HuggingFaceEmbeddings\n",
        "from cleantext import clean"
      ]
    },
    {
      "cell_type": "code",
      "execution_count": 4,
      "metadata": {
        "id": "okv3EFL8MlCp"
      },
      "outputs": [],
      "source": [
        "from dotenv import load_dotenv\n",
        "import os\n",
        "import nltk\n",
        "import time"
      ]
    },
    {
      "cell_type": "code",
      "execution_count": 5,
      "metadata": {
        "id": "hI_HR917OEts"
      },
      "outputs": [],
      "source": [
        "from google.colab import userdata"
      ]
    },
    {
      "cell_type": "code",
      "execution_count": 6,
      "metadata": {
        "id": "nybAOyFiMlCq"
      },
      "outputs": [],
      "source": [
        "# Load environment variables from .env file\n",
        "#load_dotenv()\n",
        "\n",
        "# Access the environment variables\n",
        "qdrant_api_key = userdata.get('QDRANT_API_KEY')\n",
        "hf_token = userdata.get('HF_TOKEN')\n"
      ]
    },
    {
      "cell_type": "markdown",
      "metadata": {
        "id": "IqkxPT6mMlCq"
      },
      "source": [
        "#### Wikipedia"
      ]
    },
    {
      "cell_type": "code",
      "execution_count": 7,
      "metadata": {
        "id": "9SI4TVmKMlCq"
      },
      "outputs": [],
      "source": [
        "from langchain_community.document_loaders import WikipediaLoader"
      ]
    },
    {
      "cell_type": "code",
      "execution_count": 8,
      "metadata": {
        "id": "fjgT8qSRMlCq"
      },
      "outputs": [],
      "source": [
        "docs = WikipediaLoader(query=\"International Financial Services Centres Authority\", doc_content_chars_max = 100000, load_max_docs=1).load()"
      ]
    },
    {
      "cell_type": "code",
      "execution_count": 9,
      "metadata": {
        "colab": {
          "base_uri": "https://localhost:8080/"
        },
        "id": "K5VpiesKMlCq",
        "outputId": "d8d44f04-9db4-4af4-b851-183d419c4c50"
      },
      "outputs": [
        {
          "data": {
            "text/plain": [
              "{'title': 'International Financial Services Centres Authority',\n",
              " 'summary': 'The International Financial Services Centres Authority (IFSCA) is the regulatory body for the Indian special economic zones such as the GIFT International Financial Services Centre for International Financial Services and commodity markets under the ownership of the Government of India. It was established in 2020, under the International Financial Services Centres Authority Act, 2019. The International Financial Services Centre (IFSC) is located in Gujarat International Finance Tec-City (GIFT City).',\n",
              " 'source': 'https://en.wikipedia.org/wiki/International_Financial_Services_Centres_Authority'}"
            ]
          },
          "execution_count": 9,
          "metadata": {},
          "output_type": "execute_result"
        }
      ],
      "source": [
        "docs[0].metadata  # meta-information of the Document"
      ]
    },
    {
      "cell_type": "code",
      "execution_count": 10,
      "metadata": {
        "colab": {
          "base_uri": "https://localhost:8080/",
          "height": 36
        },
        "id": "93k1QGTTyslR",
        "outputId": "eda611e9-ebdd-4f02-dffd-d63fcbf429f3"
      },
      "outputs": [
        {
          "data": {
            "application/vnd.google.colaboratory.intrinsic+json": {
              "type": "string"
            },
            "text/plain": [
              "'https://en.wikipedia.org/wiki/International_Financial_Services_Centres_Authority'"
            ]
          },
          "execution_count": 10,
          "metadata": {},
          "output_type": "execute_result"
        }
      ],
      "source": [
        "docs[0].metadata['source']"
      ]
    },
    {
      "cell_type": "code",
      "execution_count": 11,
      "metadata": {
        "colab": {
          "base_uri": "https://localhost:8080/"
        },
        "id": "f4k5Dcj6yHKj",
        "outputId": "26ea1107-1e81-4fa3-92c6-ccce9d6f8e28"
      },
      "outputs": [
        {
          "data": {
            "text/plain": [
              "9374"
            ]
          },
          "execution_count": 11,
          "metadata": {},
          "output_type": "execute_result"
        }
      ],
      "source": [
        "raw_text =docs[0].page_content\n",
        "len(raw_text)"
      ]
    },
    {
      "cell_type": "code",
      "execution_count": 12,
      "metadata": {
        "id": "9RCpZlJoy4VX"
      },
      "outputs": [],
      "source": [
        "clean_text = clean(text=raw_text,\n",
        "            fix_unicode=True,\n",
        "            to_ascii=True,\n",
        "            lower=True,\n",
        "            no_line_breaks=False,\n",
        "            no_urls=False,\n",
        "            no_emails=False,\n",
        "            no_phone_numbers=False,\n",
        "            no_numbers=False,\n",
        "            no_digits=False,\n",
        "            no_currency_symbols=False,\n",
        "            no_punct=False,\n",
        "            lang=\"en\"\n",
        "            )"
      ]
    },
    {
      "cell_type": "code",
      "execution_count": 13,
      "metadata": {
        "colab": {
          "base_uri": "https://localhost:8080/"
        },
        "id": "a_VG3dmSy6JK",
        "outputId": "132c905a-25d5-455e-f7d9-55ad355cb9ab"
      },
      "outputs": [
        {
          "data": {
            "text/plain": [
              "9347"
            ]
          },
          "execution_count": 13,
          "metadata": {},
          "output_type": "execute_result"
        }
      ],
      "source": [
        "len(clean_text)"
      ]
    },
    {
      "cell_type": "code",
      "execution_count": 14,
      "metadata": {
        "id": "qM4huf3uzGI8"
      },
      "outputs": [],
      "source": [
        "from langchain.schema import Document\n",
        "metadata = {\n",
        "    \"source\": docs[0].metadata['source'],\n",
        "    \"title\": docs[0].metadata['title']\n",
        "}\n",
        "\n",
        "custom_doc = Document(page_content=clean_text, metadata=metadata)\n",
        "document =[custom_doc]"
      ]
    },
    {
      "cell_type": "code",
      "execution_count": 15,
      "metadata": {
        "colab": {
          "base_uri": "https://localhost:8080/"
        },
        "id": "4s_Qag65zGMX",
        "outputId": "f1c4fa36-0db7-4bc7-d0e2-6c38224749f7"
      },
      "outputs": [
        {
          "data": {
            "text/plain": [
              "[Document(metadata={'source': 'https://en.wikipedia.org/wiki/International_Financial_Services_Centres_Authority', 'title': 'International Financial Services Centres Authority'}, page_content='the international financial services centres authority (ifsca) is the regulatory body for the indian special economic zones such as the gift international financial services centre for international financial services and commodity markets under the ownership of the government of india. it was established in 2020, under the international financial services centres authority act, 2019. the international financial services centre (ifsc) is located in gujarat international finance tec-city (gift city).\\n== history ==\\n=== developments that led to the ifsca ===\\nin december 2015 the first international financial services centre (ifsc) in india was set up in gujarat international finance tec-city (gift city).\\nin 2019 the government of india enacted an act of parliament called the international financial services centres authority act, 2019.\\n=== establishment ===\\non april 27, 2020, the ifsca was established as a statutory body under the international financial services centres authority act, 2019. on april 27, 2020, inauguration of the ifsca by the finance minister of india, nirmala sitharaman.\\non may 27, 2020, the ifsca released its first set of regulations, namely the ifsca (banking) regulations, 2020.\\n=== developments ===\\non june 17, 2020, the ifsca signed an mou with the monetary authority of singapore (mas) to strengthen cooperation in financial services between india and singapore.\\non july 1, 2020, the ifsca announced the launch of its regulatory sandbox framework for testing innovative financial products, services, and business models.\\non september 1, 2020, the ifsca issued the ifsca (insurance) regulations, 2020, for regulating the insurance sector in the ifsc.\\non december 7, 2020, the ifsca signed an mou with the abu dhabi global market (adgm) to promote and develop the financial services industry in their respective jurisdictions.\\non february 17, 2021, the ifsca issued the ifsca (capital market intermediaries) regulations, 2021, for regulating capital market intermediaries in the ifsc. on march 16, 2021, the ifsca issued the ifsca (investment advisors) regulations, 2021, for regulating investment advisors in the ifsca.\\n== organisation structure ==\\nthe international financial services centres authority (ifsca) is headed by a chairperson who is appointed by the government of india. the chairperson is assisted by a full-time member (finance) and such number of other members as may be appointed by the central government.\\n== subsidiary ==\\nthe international financial services centres authority (ifsca) has several child agencies or subsidiary bodies that help it carry out its functions. some of these agencies are:\\ninternational financial services centres authority advisory committee (ifsca-ac) - this committee advises the ifsca on various issues related to the development and regulation of financial services in ifscs.\\ninternational financial services centres authority committee on fund administration (ifsca-cfa) - this committee regulates and oversees the functioning of fund administration services in ifscs.\\ninternational financial services centres authority committee on depository receipts (ifsca-cdr) - this committee regulates and oversees the issuance and trading of depository receipts in ifscs.\\ninternational financial services centres authority committee on market infrastructure institutions (ifsca-cmii) - this committee regulates and oversees the functioning of market infrastructure institutions like stock exchanges, clearing corporations, and depositories in ifscs.\\ninternational financial services centres authority committee on financial benchmarks (ifsca-cfb) - this committee regulates and oversees the functioning of financial benchmarks in ifscs.\\ninternational financial services centres authority committee on investment advisers (ifsca-cia) - this committee regulates and oversees the functioning of investment advisers in ifscs.\\ninternational financial services centres authority committee on commodity derivatives markets (ifsca-ccdm) - this committee regulates and oversees the functioning of commodity derivatives markets in ifscs.\\ninternational financial services centres authority committee on regulatory sandbox (ifsca-crs) - this committee facilitates the testing and experimentation of innovative financial products, services, and technologies in a controlled environment in ifscs.\\ninternational financial services centres authority committee on financial services (ifsca-cfs) - this committee regulates and oversees the functioning of all financial services in ifscs.\\ninternational financial services centres authority committee on regulation of depositories (ifsca-crd) - this committee regulates and oversees the functioning of depositories in ifscs.\\ninternational financial services centres authority committee on accounting standards (ifsca-cas) - this committee regulates and oversees the adoption of accounting standards in ifscs.\\ninternational financial services centres authority committee on cyber security (ifsca-ccs) - this committee regulates and oversees the cyber security and data protection measures taken by entities in ifscs.\\ninternational financial services centres authority committee on money market and foreign exchange markets (ifsca-cmfm) - this committee regulates and oversees the functioning of money market and foreign exchange markets in ifscs.\\ninternational financial services centres authority committee on governance and ethics (ifsca-cge) - this committee promotes good governance and ethical practices in entities operating in ifscs.\\ninternational financial services centres authority committee on risk management (ifsca-crm) - this committee regulates and oversees the risk management practices adopted by entities in ifscs.\\ninternational financial services centres authority committee on insurance (ifsca-ci) - this committee regulates and oversees the functioning of insurance services in ifscs.\\ninternational financial services centres authority committee on retail business development (ifsca-crbd) - to develop international retail business along with potential strategies for making ifsc attractive for international financial services .\\n== functions and responsibilities ==\\nthe international financial services centres authority (ifsca) has been established to regulate and develop financial services in the international financial services centres (ifscs) located in india. here are the key functions and responsibilities of ifsca:\\nregulatory and development functions: the ifsca is responsible for regulating financial services and products offered in the ifscs, including banking, insurance, securities markets, and other financial products and services. it is also responsible for promoting and developing the ifscs in india.\\ngranting of approvals and permissions: the ifsca has the power to grant approvals and permissions to entities operating in the ifscs, including financial institutions, intermediaries, and other service providers.\\npromoting international financial services centre: the ifsca is responsible for promoting ifscs and developing them into world-class financial centers. it has the power to enter into mous with other regulatory bodies, financial institutions, and governments of foreign countries to promote financial services in ifscs.\\nframing of regulations and rules: the ifsca has the power to frame regulations and rules for the conduct of financial services and products in the ifscs. it can also make recommendations to the central government on matters related to the regulation and development of financial services in the ifscs.\\nregulating capital markets: the ifsca regulates capital markets in ifscs and has the power to issue regulations, guidelines, and directions for entities operating in these markets.\\nregulating banking services: the ifsca regulates banking services in ifscs and has the power to issue regulations, guidelines, and directions for entities operating in these services.\\nregulating insurance services: the ifsca regulates insurance services in ifscs and has the power to issue regulations, guidelines, and directions for entities operating in these services.\\nmonitoring and surveillance: the ifsca is responsible for monitoring and conducting surveillance of the financial services and products offered in the ifscs to ensure compliance with regulations and rules.\\ndispute resolution: the ifsca has the power to resolve disputes arising out of financial transactions in the ifscs, including between parties located in the ifscs and parties located outside the ifscs.\\ninternational cooperation: the ifsca can enter into agreements with other regulatory bodies and organizations outside india to promote and develop the financial services industry in the ifscs and to enhance international cooperation in this regard.\\n== departments ==\\nthe international financial services centres authority (ifsca) is a regulatory authority established by the government of india to develop and regulate the financial services market. the ifsca has several departments to oversee different areas of financial services.\\n== see also ==\\nsecurities and exchange board of india\\nreserve bank of india\\nlist of financial regulatory authorities by jurisdiction\\n== references ==\\n== external links ==\\nofficial website\\ninternational financial services centres authority headquarters at gift city')]"
            ]
          },
          "execution_count": 15,
          "metadata": {},
          "output_type": "execute_result"
        }
      ],
      "source": [
        "document"
      ]
    },
    {
      "cell_type": "code",
      "execution_count": 16,
      "metadata": {
        "colab": {
          "base_uri": "https://localhost:8080/"
        },
        "id": "am75bVu1MlCr",
        "outputId": "f4edca41-aabd-472d-a6fc-1eef04b0560a"
      },
      "outputs": [
        {
          "name": "stdout",
          "output_type": "stream",
          "text": [
            "the international financial services centres authority (ifsca) is the regulatory body for the indian special economic zones such as the gift international financial services centre for international financial services and commodity markets under the ownership of the government of india. it was established in 2020, under the international financial services centres authority act, 2019. the international financial services centre (ifsc) is located in gujarat international finance tec-city (gift city).\n",
            "== history ==\n",
            "=== developments that led to the ifsca ===\n",
            "in december 2015 the first international financial services centre (ifsc) in india was set up in gujarat international finance tec-city (gift city).\n",
            "in 2019 the government of india enacted an act of parliament called the international financial services centres authority act, 2019.\n",
            "=== establishment ===\n",
            "on april 27, 2020, the ifsca was established as a statutory body under the international financial services centres authority act, 2019. on april 27, 2020, inauguration of the ifsca by the finance minister of india, nirmala sitharaman.\n",
            "on may 27, 2020, the ifsca released its first set of regulations, namely the ifsca (banking) regulations, 2020.\n",
            "=== developments ===\n",
            "on june 17, 2020, the ifsca signed an mou with the monetary authority of singapore (mas) to strengthen cooperation in financial services between india and singapore.\n",
            "on july 1, 2020, the ifsca announced the launch of its regulatory sandbox framework for testing innovative financial products, services, and business models.\n",
            "on september 1, 2020, the ifsca issued the ifsca (insurance) regulations, 2020, for regulating the insurance sector in the ifsc.\n",
            "on december 7, 2020, the ifsca signed an mou with the abu dhabi global market (adgm) to promote and develop the financial services industry in their respective jurisdictions.\n",
            "on february 17, 2021, the ifsca issued the ifsca (capital market intermediaries) regulations, 2021, for regulating capital market intermediaries in the ifsc. on march 16, 2021, the ifsca issued the ifsca (investment advisors) regulations, 2021, for regulating investment advisors in the ifsca.\n",
            "== organisation structure ==\n",
            "the international financial services centres authority (ifsca) is headed by a chairperson who is appointed by the government of india. the chairperson is assisted by a full-time member (finance) and such number of other members as may be appointed by the central government.\n",
            "== subsidiary ==\n",
            "the international financial services centres authority (ifsca) has several child agencies or subsidiary bodies that help it carry out its functions. some of these agencies are:\n",
            "international financial services centres authority advisory committee (ifsca-ac) - this committee advises the ifsca on various issues related to the development and regulation of financial services in ifscs.\n",
            "international financial services centres authority committee on fund administration (ifsca-cfa) - this committee regulates and oversees the functioning of fund administration services in ifscs.\n",
            "international financial services centres authority committee on depository receipts (ifsca-cdr) - this committee regulates and oversees the issuance and trading of depository receipts in ifscs.\n",
            "international financial services centres authority committee on market infrastructure institutions (ifsca-cmii) - this committee regulates and oversees the functioning of market infrastructure institutions like stock exchanges, clearing corporations, and depositories in ifscs.\n",
            "international financial services centres authority committee on financial benchmarks (ifsca-cfb) - this committee regulates and oversees the functioning of financial benchmarks in ifscs.\n",
            "international financial services centres authority committee on investment advisers (ifsca-cia) - this committee regulates and oversees the functioning of investment advisers in ifscs.\n",
            "international financial services centres authority committee on commodity derivatives markets (ifsca-ccdm) - this committee regulates and oversees the functioning of commodity derivatives markets in ifscs.\n",
            "international financial services centres authority committee on regulatory sandbox (ifsca-crs) - this committee facilitates the testing and experimentation of innovative financial products, services, and technologies in a controlled environment in ifscs.\n",
            "international financial services centres authority committee on financial services (ifsca-cfs) - this committee regulates and oversees the functioning of all financial services in ifscs.\n",
            "international financial services centres authority committee on regulation of depositories (ifsca-crd) - this committee regulates and oversees the functioning of depositories in ifscs.\n",
            "international financial services centres authority committee on accounting standards (ifsca-cas) - this committee regulates and oversees the adoption of accounting standards in ifscs.\n",
            "international financial services centres authority committee on cyber security (ifsca-ccs) - this committee regulates and oversees the cyber security and data protection measures taken by entities in ifscs.\n",
            "international financial services centres authority committee on money market and foreign exchange markets (ifsca-cmfm) - this committee regulates and oversees the functioning of money market and foreign exchange markets in ifscs.\n",
            "international financial services centres authority committee on governance and ethics (ifsca-cge) - this committee promotes good governance and ethical practices in entities operating in ifscs.\n",
            "international financial services centres authority committee on risk management (ifsca-crm) - this committee regulates and oversees the risk management practices adopted by entities in ifscs.\n",
            "international financial services centres authority committee on insurance (ifsca-ci) - this committee regulates and oversees the functioning of insurance services in ifscs.\n",
            "international financial services centres authority committee on retail business development (ifsca-crbd) - to develop international retail business along with potential strategies for making ifsc attractive for international financial services .\n",
            "== functions and responsibilities ==\n",
            "the international financial services centres authority (ifsca) has been established to regulate and develop financial services in the international financial services centres (ifscs) located in india. here are the key functions and responsibilities of ifsca:\n",
            "regulatory and development functions: the ifsca is responsible for regulating financial services and products offered in the ifscs, including banking, insurance, securities markets, and other financial products and services. it is also responsible for promoting and developing the ifscs in india.\n",
            "granting of approvals and permissions: the ifsca has the power to grant approvals and permissions to entities operating in the ifscs, including financial institutions, intermediaries, and other service providers.\n",
            "promoting international financial services centre: the ifsca is responsible for promoting ifscs and developing them into world-class financial centers. it has the power to enter into mous with other regulatory bodies, financial institutions, and governments of foreign countries to promote financial services in ifscs.\n",
            "framing of regulations and rules: the ifsca has the power to frame regulations and rules for the conduct of financial services and products in the ifscs. it can also make recommendations to the central government on matters related to the regulation and development of financial services in the ifscs.\n",
            "regulating capital markets: the ifsca regulates capital markets in ifscs and has the power to issue regulations, guidelines, and directions for entities operating in these markets.\n",
            "regulating banking services: the ifsca regulates banking services in ifscs and has the power to issue regulations, guidelines, and directions for entities operating in these services.\n",
            "regulating insurance services: the ifsca regulates insurance services in ifscs and has the power to issue regulations, guidelines, and directions for entities operating in these services.\n",
            "monitoring and surveillance: the ifsca is responsible for monitoring and conducting surveillance of the financial services and products offered in the ifscs to ensure compliance with regulations and rules.\n",
            "dispute resolution: the ifsca has the power to resolve disputes arising out of financial transactions in the ifscs, including between parties located in the ifscs and parties located outside the ifscs.\n",
            "international cooperation: the ifsca can enter into agreements with other regulatory bodies and organizations outside india to promote and develop the financial services industry in the ifscs and to enhance international cooperation in this regard.\n",
            "== departments ==\n",
            "the international financial services centres authority (ifsca) is a regulatory authority established by the government of india to develop and regulate the financial services market. the ifsca has several departments to oversee different areas of financial services.\n",
            "== see also ==\n",
            "securities and exchange board of india\n",
            "reserve bank of india\n",
            "list of financial regulatory authorities by jurisdiction\n",
            "== references ==\n",
            "== external links ==\n",
            "official website\n",
            "international financial services centres authority headquarters at gift city\n"
          ]
        }
      ],
      "source": [
        "print(document[0].page_content)"
      ]
    },
    {
      "cell_type": "code",
      "execution_count": 17,
      "metadata": {
        "colab": {
          "base_uri": "https://localhost:8080/"
        },
        "id": "jZJZv7MjMlCr",
        "outputId": "72c0010f-c326-41f3-9366-8925a6b5250f"
      },
      "outputs": [
        {
          "data": {
            "text/plain": [
              "1"
            ]
          },
          "execution_count": 17,
          "metadata": {},
          "output_type": "execute_result"
        }
      ],
      "source": [
        "len(document)"
      ]
    },
    {
      "cell_type": "code",
      "execution_count": 18,
      "metadata": {
        "colab": {
          "base_uri": "https://localhost:8080/"
        },
        "id": "FJOVwJdOMlCr",
        "outputId": "8ec77756-a25b-41ff-8b29-436cd86cb019"
      },
      "outputs": [
        {
          "data": {
            "text/plain": [
              "[Document(metadata={'source': 'https://en.wikipedia.org/wiki/International_Financial_Services_Centres_Authority', 'title': 'International Financial Services Centres Authority'}, page_content='the international financial services centres authority (ifsca) is the regulatory body for the indian special economic zones such as the gift international financial services centre for international financial services and commodity markets under the ownership of the government of india. it was established in 2020, under the international financial services centres authority act, 2019. the international financial services centre (ifsc) is located in gujarat international finance tec-city (gift'),\n",
              " Document(metadata={'source': 'https://en.wikipedia.org/wiki/International_Financial_Services_Centres_Authority', 'title': 'International Financial Services Centres Authority'}, page_content='tec-city (gift city).'),\n",
              " Document(metadata={'source': 'https://en.wikipedia.org/wiki/International_Financial_Services_Centres_Authority', 'title': 'International Financial Services Centres Authority'}, page_content='== history ==\\n=== developments that led to the ifsca ===\\nin december 2015 the first international financial services centre (ifsc) in india was set up in gujarat international finance tec-city (gift city).\\nin 2019 the government of india enacted an act of parliament called the international financial services centres authority act, 2019.\\n=== establishment ==='),\n",
              " Document(metadata={'source': 'https://en.wikipedia.org/wiki/International_Financial_Services_Centres_Authority', 'title': 'International Financial Services Centres Authority'}, page_content='on april 27, 2020, the ifsca was established as a statutory body under the international financial services centres authority act, 2019. on april 27, 2020, inauguration of the ifsca by the finance minister of india, nirmala sitharaman.\\non may 27, 2020, the ifsca released its first set of regulations, namely the ifsca (banking) regulations, 2020.\\n=== developments ==='),\n",
              " Document(metadata={'source': 'https://en.wikipedia.org/wiki/International_Financial_Services_Centres_Authority', 'title': 'International Financial Services Centres Authority'}, page_content='on june 17, 2020, the ifsca signed an mou with the monetary authority of singapore (mas) to strengthen cooperation in financial services between india and singapore.\\non july 1, 2020, the ifsca announced the launch of its regulatory sandbox framework for testing innovative financial products, services, and business models.\\non september 1, 2020, the ifsca issued the ifsca (insurance) regulations, 2020, for regulating the insurance sector in the ifsc.'),\n",
              " Document(metadata={'source': 'https://en.wikipedia.org/wiki/International_Financial_Services_Centres_Authority', 'title': 'International Financial Services Centres Authority'}, page_content='on december 7, 2020, the ifsca signed an mou with the abu dhabi global market (adgm) to promote and develop the financial services industry in their respective jurisdictions.\\non february 17, 2021, the ifsca issued the ifsca (capital market intermediaries) regulations, 2021, for regulating capital market intermediaries in the ifsc. on march 16, 2021, the ifsca issued the ifsca (investment advisors) regulations, 2021, for regulating investment advisors in the ifsca.\\n== organisation structure =='),\n",
              " Document(metadata={'source': 'https://en.wikipedia.org/wiki/International_Financial_Services_Centres_Authority', 'title': 'International Financial Services Centres Authority'}, page_content='the international financial services centres authority (ifsca) is headed by a chairperson who is appointed by the government of india. the chairperson is assisted by a full-time member (finance) and such number of other members as may be appointed by the central government.\\n== subsidiary ==\\nthe international financial services centres authority (ifsca) has several child agencies or subsidiary bodies that help it carry out its functions. some of these agencies are:'),\n",
              " Document(metadata={'source': 'https://en.wikipedia.org/wiki/International_Financial_Services_Centres_Authority', 'title': 'International Financial Services Centres Authority'}, page_content='international financial services centres authority advisory committee (ifsca-ac) - this committee advises the ifsca on various issues related to the development and regulation of financial services in ifscs.\\ninternational financial services centres authority committee on fund administration (ifsca-cfa) - this committee regulates and oversees the functioning of fund administration services in ifscs.'),\n",
              " Document(metadata={'source': 'https://en.wikipedia.org/wiki/International_Financial_Services_Centres_Authority', 'title': 'International Financial Services Centres Authority'}, page_content='international financial services centres authority committee on depository receipts (ifsca-cdr) - this committee regulates and oversees the issuance and trading of depository receipts in ifscs.\\ninternational financial services centres authority committee on market infrastructure institutions (ifsca-cmii) - this committee regulates and oversees the functioning of market infrastructure institutions like stock exchanges, clearing corporations, and depositories in ifscs.'),\n",
              " Document(metadata={'source': 'https://en.wikipedia.org/wiki/International_Financial_Services_Centres_Authority', 'title': 'International Financial Services Centres Authority'}, page_content='international financial services centres authority committee on financial benchmarks (ifsca-cfb) - this committee regulates and oversees the functioning of financial benchmarks in ifscs.\\ninternational financial services centres authority committee on investment advisers (ifsca-cia) - this committee regulates and oversees the functioning of investment advisers in ifscs.'),\n",
              " Document(metadata={'source': 'https://en.wikipedia.org/wiki/International_Financial_Services_Centres_Authority', 'title': 'International Financial Services Centres Authority'}, page_content='international financial services centres authority committee on commodity derivatives markets (ifsca-ccdm) - this committee regulates and oversees the functioning of commodity derivatives markets in ifscs.\\ninternational financial services centres authority committee on regulatory sandbox (ifsca-crs) - this committee facilitates the testing and experimentation of innovative financial products, services, and technologies in a controlled environment in ifscs.'),\n",
              " Document(metadata={'source': 'https://en.wikipedia.org/wiki/International_Financial_Services_Centres_Authority', 'title': 'International Financial Services Centres Authority'}, page_content='international financial services centres authority committee on financial services (ifsca-cfs) - this committee regulates and oversees the functioning of all financial services in ifscs.\\ninternational financial services centres authority committee on regulation of depositories (ifsca-crd) - this committee regulates and oversees the functioning of depositories in ifscs.'),\n",
              " Document(metadata={'source': 'https://en.wikipedia.org/wiki/International_Financial_Services_Centres_Authority', 'title': 'International Financial Services Centres Authority'}, page_content='international financial services centres authority committee on accounting standards (ifsca-cas) - this committee regulates and oversees the adoption of accounting standards in ifscs.\\ninternational financial services centres authority committee on cyber security (ifsca-ccs) - this committee regulates and oversees the cyber security and data protection measures taken by entities in ifscs.'),\n",
              " Document(metadata={'source': 'https://en.wikipedia.org/wiki/International_Financial_Services_Centres_Authority', 'title': 'International Financial Services Centres Authority'}, page_content='international financial services centres authority committee on money market and foreign exchange markets (ifsca-cmfm) - this committee regulates and oversees the functioning of money market and foreign exchange markets in ifscs.\\ninternational financial services centres authority committee on governance and ethics (ifsca-cge) - this committee promotes good governance and ethical practices in entities operating in ifscs.'),\n",
              " Document(metadata={'source': 'https://en.wikipedia.org/wiki/International_Financial_Services_Centres_Authority', 'title': 'International Financial Services Centres Authority'}, page_content='international financial services centres authority committee on risk management (ifsca-crm) - this committee regulates and oversees the risk management practices adopted by entities in ifscs.\\ninternational financial services centres authority committee on insurance (ifsca-ci) - this committee regulates and oversees the functioning of insurance services in ifscs.'),\n",
              " Document(metadata={'source': 'https://en.wikipedia.org/wiki/International_Financial_Services_Centres_Authority', 'title': 'International Financial Services Centres Authority'}, page_content='international financial services centres authority committee on retail business development (ifsca-crbd) - to develop international retail business along with potential strategies for making ifsc attractive for international financial services .\\n== functions and responsibilities =='),\n",
              " Document(metadata={'source': 'https://en.wikipedia.org/wiki/International_Financial_Services_Centres_Authority', 'title': 'International Financial Services Centres Authority'}, page_content='the international financial services centres authority (ifsca) has been established to regulate and develop financial services in the international financial services centres (ifscs) located in india. here are the key functions and responsibilities of ifsca:'),\n",
              " Document(metadata={'source': 'https://en.wikipedia.org/wiki/International_Financial_Services_Centres_Authority', 'title': 'International Financial Services Centres Authority'}, page_content='regulatory and development functions: the ifsca is responsible for regulating financial services and products offered in the ifscs, including banking, insurance, securities markets, and other financial products and services. it is also responsible for promoting and developing the ifscs in india.'),\n",
              " Document(metadata={'source': 'https://en.wikipedia.org/wiki/International_Financial_Services_Centres_Authority', 'title': 'International Financial Services Centres Authority'}, page_content='granting of approvals and permissions: the ifsca has the power to grant approvals and permissions to entities operating in the ifscs, including financial institutions, intermediaries, and other service providers.'),\n",
              " Document(metadata={'source': 'https://en.wikipedia.org/wiki/International_Financial_Services_Centres_Authority', 'title': 'International Financial Services Centres Authority'}, page_content='promoting international financial services centre: the ifsca is responsible for promoting ifscs and developing them into world-class financial centers. it has the power to enter into mous with other regulatory bodies, financial institutions, and governments of foreign countries to promote financial services in ifscs.'),\n",
              " Document(metadata={'source': 'https://en.wikipedia.org/wiki/International_Financial_Services_Centres_Authority', 'title': 'International Financial Services Centres Authority'}, page_content='framing of regulations and rules: the ifsca has the power to frame regulations and rules for the conduct of financial services and products in the ifscs. it can also make recommendations to the central government on matters related to the regulation and development of financial services in the ifscs.\\nregulating capital markets: the ifsca regulates capital markets in ifscs and has the power to issue regulations, guidelines, and directions for entities operating in these markets.'),\n",
              " Document(metadata={'source': 'https://en.wikipedia.org/wiki/International_Financial_Services_Centres_Authority', 'title': 'International Financial Services Centres Authority'}, page_content='regulating banking services: the ifsca regulates banking services in ifscs and has the power to issue regulations, guidelines, and directions for entities operating in these services.\\nregulating insurance services: the ifsca regulates insurance services in ifscs and has the power to issue regulations, guidelines, and directions for entities operating in these services.'),\n",
              " Document(metadata={'source': 'https://en.wikipedia.org/wiki/International_Financial_Services_Centres_Authority', 'title': 'International Financial Services Centres Authority'}, page_content='monitoring and surveillance: the ifsca is responsible for monitoring and conducting surveillance of the financial services and products offered in the ifscs to ensure compliance with regulations and rules.\\ndispute resolution: the ifsca has the power to resolve disputes arising out of financial transactions in the ifscs, including between parties located in the ifscs and parties located outside the ifscs.'),\n",
              " Document(metadata={'source': 'https://en.wikipedia.org/wiki/International_Financial_Services_Centres_Authority', 'title': 'International Financial Services Centres Authority'}, page_content='international cooperation: the ifsca can enter into agreements with other regulatory bodies and organizations outside india to promote and develop the financial services industry in the ifscs and to enhance international cooperation in this regard.\\n== departments =='),\n",
              " Document(metadata={'source': 'https://en.wikipedia.org/wiki/International_Financial_Services_Centres_Authority', 'title': 'International Financial Services Centres Authority'}, page_content='== departments ==\\nthe international financial services centres authority (ifsca) is a regulatory authority established by the government of india to develop and regulate the financial services market. the ifsca has several departments to oversee different areas of financial services.\\n== see also ==\\nsecurities and exchange board of india\\nreserve bank of india\\nlist of financial regulatory authorities by jurisdiction\\n== references ==\\n== external links ==\\nofficial website'),\n",
              " Document(metadata={'source': 'https://en.wikipedia.org/wiki/International_Financial_Services_Centres_Authority', 'title': 'International Financial Services Centres Authority'}, page_content='official website\\ninternational financial services centres authority headquarters at gift city')]"
            ]
          },
          "execution_count": 18,
          "metadata": {},
          "output_type": "execute_result"
        }
      ],
      "source": [
        "text_splitter = RecursiveCharacterTextSplitter(chunk_size=500, chunk_overlap=20)\n",
        "texts = text_splitter.split_documents(document)\n",
        "texts"
      ]
    },
    {
      "cell_type": "code",
      "execution_count": 19,
      "metadata": {
        "colab": {
          "base_uri": "https://localhost:8080/"
        },
        "id": "4KuipRh40Qyl",
        "outputId": "72a4ef4f-d2f8-42cc-e57f-2b62528ef3b7"
      },
      "outputs": [
        {
          "data": {
            "text/plain": [
              "26"
            ]
          },
          "execution_count": 19,
          "metadata": {},
          "output_type": "execute_result"
        }
      ],
      "source": [
        "len(texts)"
      ]
    },
    {
      "cell_type": "code",
      "execution_count": 20,
      "metadata": {
        "id": "HZqHKI9sMlCr"
      },
      "outputs": [],
      "source": [
        "model_name = 'dunzhang/stella_en_400M_v5'"
      ]
    },
    {
      "cell_type": "code",
      "execution_count": 21,
      "metadata": {
        "colab": {
          "base_uri": "https://localhost:8080/"
        },
        "id": "iSqJN-2PMlCr",
        "outputId": "15c3ce13-2308-4261-cb82-0b7454793ed1"
      },
      "outputs": [
        {
          "name": "stderr",
          "output_type": "stream",
          "text": [
            "/usr/local/lib/python3.10/dist-packages/sentence_transformers/cross_encoder/CrossEncoder.py:11: TqdmExperimentalWarning: Using `tqdm.autonotebook.tqdm` in notebook mode. Use `tqdm.tqdm` instead to force console mode (e.g. in jupyter console)\n",
            "  from tqdm.autonotebook import tqdm, trange\n",
            "Some weights of the model checkpoint at dunzhang/stella_en_400M_v5 were not used when initializing NewModel: ['new.pooler.dense.bias', 'new.pooler.dense.weight']\n",
            "- This IS expected if you are initializing NewModel from the checkpoint of a model trained on another task or with another architecture (e.g. initializing a BertForSequenceClassification model from a BertForPreTraining model).\n",
            "- This IS NOT expected if you are initializing NewModel from the checkpoint of a model that you expect to be exactly identical (initializing a BertForSequenceClassification model from a BertForSequenceClassification model).\n"
          ]
        }
      ],
      "source": [
        "# Define model parameters\n",
        "model_kwargs = {'device': 'cuda', 'trust_remote_code': True}\n",
        "encode_kwargs = {'normalize_embeddings': True}\n",
        "\n",
        "# Initialize HuggingFace embeddings\n",
        "embeddings_model = HuggingFaceEmbeddings(model_name=model_name,model_kwargs=model_kwargs,encode_kwargs=encode_kwargs)"
      ]
    },
    {
      "cell_type": "code",
      "execution_count": 22,
      "metadata": {
        "id": "iFP_Lp44MlCs"
      },
      "outputs": [],
      "source": [
        "# Define the URL for Qdrant\n",
        "url=\"https://a1fbbfce-ca47-437d-b308-e79724650692.us-east4-0.gcp.cloud.qdrant.io:6333\""
      ]
    },
    {
      "cell_type": "code",
      "execution_count": 23,
      "metadata": {
        "id": "xo_ynw2VMlCs"
      },
      "outputs": [],
      "source": [
        "# Initialize Qdrant client\n",
        "client =  QdrantClient(url=url, api_key=qdrant_api_key)"
      ]
    },
    {
      "cell_type": "code",
      "execution_count": 24,
      "metadata": {
        "id": "LpiIZrysMlCs"
      },
      "outputs": [],
      "source": [
        "# Get vector size by embedding a test query\n",
        "vector_size = len(embeddings_model.embed_query(\"test\"))\n",
        "# Collection name\n",
        "collection_name = \"finance_collection\""
      ]
    },
    {
      "cell_type": "code",
      "execution_count": 25,
      "metadata": {
        "id": "3VRSBie-MlCs"
      },
      "outputs": [],
      "source": [
        "# Check if the collection already exists\n",
        "if client.collection_exists(collection_name):\n",
        "    # Create a collection with the calculated vector size\n",
        "    client.delete_collection(collection_name=collection_name)\n",
        "    client.create_collection(\n",
        "            collection_name=collection_name,\n",
        "            vectors_config=VectorParams(size=vector_size, distance=\"Dot\")\n",
        "        )\n",
        "else:\n",
        "    client.create_collection(\n",
        "            collection_name=collection_name,\n",
        "            vectors_config=VectorParams(size=vector_size, distance=\"Dot\")\n",
        "        )"
      ]
    },
    {
      "cell_type": "code",
      "execution_count": 26,
      "metadata": {
        "colab": {
          "base_uri": "https://localhost:8080/"
        },
        "id": "KGXw3h84MlCs",
        "outputId": "8a793890-dc2a-4a47-d9b0-128866107321"
      },
      "outputs": [
        {
          "name": "stdout",
          "output_type": "stream",
          "text": [
            "Time taken is: 1.233602523803711 seconds\n"
          ]
        }
      ],
      "source": [
        "start =time.time()\n",
        "# Insert documents into the collection\n",
        "qdrant = Qdrant.from_documents(texts,embeddings_model,url=url,prefer_grpc=False,api_key=qdrant_api_key,collection_name=collection_name,force_recreate=False,distance_func=\"Dot\")\n",
        "end =time.time()\n",
        "print(\"Time taken is:\", end-start,\"seconds\")"
      ]
    },
    {
      "cell_type": "code",
      "execution_count": 27,
      "metadata": {
        "id": "81pQ_HWFMlCs"
      },
      "outputs": [],
      "source": [
        "query = \"IN which year the first IFSC wa set up in india?\"\n",
        "query_vector = embeddings_model.embed_query(query)"
      ]
    },
    {
      "cell_type": "code",
      "execution_count": 28,
      "metadata": {
        "id": "_eN7yncy1pIo"
      },
      "outputs": [],
      "source": [
        "scored_points = client.search( collection_name=collection_name,\n",
        "                        query_vector=query_vector,\n",
        "                        limit=3,\n",
        "                        with_payload=True\n",
        "                        )"
      ]
    },
    {
      "cell_type": "code",
      "execution_count": 29,
      "metadata": {
        "colab": {
          "base_uri": "https://localhost:8080/"
        },
        "id": "cctZvcYB228I",
        "outputId": "a90fb852-0ca5-4aaa-95f7-ca9f0b3f3601"
      },
      "outputs": [
        {
          "data": {
            "text/plain": [
              "ScoredPoint(id='555bd481-c84e-4fed-8145-61436551c463', version=0, score=0.6917827, payload={'metadata': {'source': 'https://en.wikipedia.org/wiki/International_Financial_Services_Centres_Authority', 'title': 'International Financial Services Centres Authority'}, 'page_content': '== history ==\\n=== developments that led to the ifsca ===\\nin december 2015 the first international financial services centre (ifsc) in india was set up in gujarat international finance tec-city (gift city).\\nin 2019 the government of india enacted an act of parliament called the international financial services centres authority act, 2019.\\n=== establishment ==='}, vector=None, shard_key=None, order_value=None)"
            ]
          },
          "execution_count": 29,
          "metadata": {},
          "output_type": "execute_result"
        }
      ],
      "source": [
        "scored_points[0]"
      ]
    },
    {
      "cell_type": "code",
      "execution_count": 30,
      "metadata": {
        "colab": {
          "base_uri": "https://localhost:8080/"
        },
        "id": "bcuo-lLa1-yO",
        "outputId": "413a4608-2548-43fe-d9e2-115443c89b58"
      },
      "outputs": [
        {
          "name": "stdout",
          "output_type": "stream",
          "text": [
            "Score: 0.6917827\n",
            "Page Content: == history ==\n",
            "=== developments that led to the ifsca ===\n",
            "in december 2015 the first international financial services centre (ifsc) in india was set up in gujarat international finance tec-city (gift city).\n",
            "in 2019 the government of india enacted an act of parliament called the international financial services centres authority act, 2019.\n",
            "=== establishment ===\n",
            "\n",
            "Score: 0.61307615\n",
            "Page Content: on april 27, 2020, the ifsca was established as a statutory body under the international financial services centres authority act, 2019. on april 27, 2020, inauguration of the ifsca by the finance minister of india, nirmala sitharaman.\n",
            "on may 27, 2020, the ifsca released its first set of regulations, namely the ifsca (banking) regulations, 2020.\n",
            "=== developments ===\n",
            "\n",
            "Score: 0.5648826\n",
            "Page Content: the international financial services centres authority (ifsca) has been established to regulate and develop financial services in the international financial services centres (ifscs) located in india. here are the key functions and responsibilities of ifsca:\n",
            "\n"
          ]
        }
      ],
      "source": [
        "for point in scored_points:\n",
        "    score = point.score\n",
        "    page_content = point.payload['page_content']\n",
        "    print(f\"Score: {score}\")\n",
        "    print(f\"Page Content: {page_content}\\n\")"
      ]
    },
    {
      "cell_type": "markdown",
      "metadata": {
        "id": "wFLRLEx8MlCs"
      },
      "source": [
        "## LLM result"
      ]
    },
    {
      "cell_type": "code",
      "execution_count": 31,
      "metadata": {
        "id": "mrDM1ZEkMlCt"
      },
      "outputs": [],
      "source": [
        "# from langchain_openai import ChatOpenAI\n",
        "# from langchain.chains import RetrievalQA\n",
        "# # completion llm\n",
        "# llm = ChatOpenAI(\n",
        "#     openai_api_key=os.getenv(\"OPENAI_API_KEY\"),\n",
        "#     model_name='gpt-4o-mini',\n",
        "#     temperature=0.0\n",
        "# )\n",
        "# qa = RetrievalQA.from_chain_type(\n",
        "#     llm=llm,\n",
        "#     chain_type=\"stuff\",\n",
        "#     retriever=qdrant.as_retriever()\n",
        "# )\n",
        "# qa.run(query)"
      ]
    },
    {
      "cell_type": "markdown",
      "metadata": {
        "id": "tuFxESonMlCt"
      },
      "source": [
        "#### URL"
      ]
    },
    {
      "cell_type": "code",
      "execution_count": 32,
      "metadata": {
        "colab": {
          "base_uri": "https://localhost:8080/"
        },
        "id": "IjUs-c28MlCt",
        "outputId": "a02c3725-25db-4ca3-d519-b898603aeb09"
      },
      "outputs": [
        {
          "name": "stdout",
          "output_type": "stream",
          "text": [
            "Enter Link:https://finance.ec.europa.eu/financial-crime/anti-money-laundering-and-countering-financing-terrorism-eu-level_en#legislation\n",
            "URL: ['https://finance.ec.europa.eu/financial-crime/anti-money-laundering-and-countering-financing-terrorism-eu-level_en#legislation']\n"
          ]
        }
      ],
      "source": [
        "#n_weblinks = int(input(\"How many web links you want the RAG agent to refer for response generation & insights? Enter here: \"))\n",
        "urls = []\n",
        "inp = input(\"Enter Link:\")\n",
        "urls.append(inp)\n",
        "print(\"URL:\", urls)"
      ]
    },
    {
      "cell_type": "code",
      "execution_count": 33,
      "metadata": {
        "colab": {
          "base_uri": "https://localhost:8080/"
        },
        "id": "_Hnm7dvCMlCt",
        "outputId": "54bc2d6d-799b-4522-9c3d-0ec49794c5c3"
      },
      "outputs": [
        {
          "name": "stderr",
          "output_type": "stream",
          "text": [
            "100%|██████████| 1/1 [00:00<00:00,  2.43it/s]\n"
          ]
        }
      ],
      "source": [
        "loader = UnstructuredURLLoader(urls=urls, show_progress_bar=True)\n",
        "loaded_url = loader.load()"
      ]
    },
    {
      "cell_type": "code",
      "execution_count": 34,
      "metadata": {
        "colab": {
          "base_uri": "https://localhost:8080/"
        },
        "id": "FXPBuyqa3ydY",
        "outputId": "1a570768-a424-4ce1-c50a-d942c0162aad"
      },
      "outputs": [
        {
          "data": {
            "text/plain": [
              "{'source': 'https://finance.ec.europa.eu/financial-crime/anti-money-laundering-and-countering-financing-terrorism-eu-level_en#legislation'}"
            ]
          },
          "execution_count": 34,
          "metadata": {},
          "output_type": "execute_result"
        }
      ],
      "source": [
        "loaded_url[0].metadata"
      ]
    },
    {
      "cell_type": "code",
      "execution_count": 35,
      "metadata": {
        "colab": {
          "base_uri": "https://localhost:8080/"
        },
        "id": "wDLLicbB347y",
        "outputId": "4d856559-e49f-4a7e-bdfb-cd74cafd5eeb"
      },
      "outputs": [
        {
          "data": {
            "text/plain": [
              "17220"
            ]
          },
          "execution_count": 35,
          "metadata": {},
          "output_type": "execute_result"
        }
      ],
      "source": [
        "raw_text =loaded_url[0].page_content\n",
        "len(raw_text)"
      ]
    },
    {
      "cell_type": "code",
      "execution_count": 36,
      "metadata": {
        "id": "2pg95oSz34_Z"
      },
      "outputs": [],
      "source": [
        "clean_url_text = clean(text=raw_text,\n",
        "            fix_unicode=True,\n",
        "            to_ascii=True,\n",
        "            lower=True,\n",
        "            no_line_breaks=False,\n",
        "            no_urls=False,\n",
        "            no_emails=False,\n",
        "            no_phone_numbers=False,\n",
        "            no_numbers=False,\n",
        "            no_digits=False,\n",
        "            no_currency_symbols=False,\n",
        "            no_punct=False,\n",
        "            lang=\"en\"\n",
        "            )"
      ]
    },
    {
      "cell_type": "code",
      "execution_count": 37,
      "metadata": {
        "colab": {
          "base_uri": "https://localhost:8080/"
        },
        "id": "RT2Zr7cq4Cj8",
        "outputId": "d616d79a-d8fe-4daf-b49b-9ccd658390fe"
      },
      "outputs": [
        {
          "data": {
            "text/plain": [
              "17037"
            ]
          },
          "execution_count": 37,
          "metadata": {},
          "output_type": "execute_result"
        }
      ],
      "source": [
        "len(clean_url_text)"
      ]
    },
    {
      "cell_type": "code",
      "execution_count": 38,
      "metadata": {
        "id": "D7RsZ9Ga4Cnc"
      },
      "outputs": [],
      "source": [
        "from langchain.schema import Document\n",
        "metadata = {\n",
        "    \"source\": loaded_url[0].metadata['source']\n",
        "}\n",
        "\n",
        "url_doc = Document(page_content=clean_url_text, metadata=metadata)\n",
        "url_document =[url_doc]"
      ]
    },
    {
      "cell_type": "code",
      "execution_count": 39,
      "metadata": {
        "colab": {
          "base_uri": "https://localhost:8080/"
        },
        "id": "M2u1OnTlMlCt",
        "outputId": "24727468-315f-42d6-ddad-1ae905ea77fb"
      },
      "outputs": [
        {
          "name": "stdout",
          "output_type": "stream",
          "text": [
            "page contents\n",
            "what the eu is doing and why\n",
            "it is essential that gatekeepers (banks and other obliged entities) apply measures to prevent money laundering and terrorist financing. traceability of financial information has an important deterrent effect.\n",
            "the european commission carries out risk assessments in order to identify and respond to risks affecting the euinternal market.the european union adopted robust legislation to fight against money laundering and terrorist financing (aml). the first anti-money laundering directive was adopted in 1990 in order to prevent the misuse of the financial system for the purpose of money laundering. it provides that obliged entities shall apply customer due diligence requirements when entering into a business relationship (i.e. identify and verify the identity of clients, monitor transactions and report suspicious transactions).\n",
            "the eulaws have been constantly revised in order to mitigate new risks relating to money laundering and terrorist financing.\n",
            "the legislative framework not only covers a range of areas posing such risks, including virtual assets and crowdfunding, but also complements other regulations such as markets in crypto-assets regulation (mica).\n",
            "the new regulation on the traceability of transfers of funds (tfr) ensures the traceability of crypto-assets transfers and the authentication of users, aligning with fatf standards. it will apply as of december2024.\n",
            "the commission ensures effective application of this legislation by reviewing transposition of eulaw and cooperating with competent authorities.\n",
            "enhancing access to financial information by law enforcement\n",
            "terrorists and criminals have demonstrated their ability to transfer funds quickly between different banks, often in different countries, but lack of timely access to financial information means that many investigations come to a dead end. there is therefore a clear need to enhance cooperation between authorities responsible for combating terrorism and serious crime when financial information is a key part of an investigation.\n",
            "directive (eu) 2019/1153 enhances the use of financial information by giving law-enforcement authorities direct access to information about the identity of bank-account holders contained in national centralised registries. in addition, it gives law enforcement the possibility to access certain information from national financial intelligence units (fius) including data on financial transactions and also improves the information exchange between fius as well as their access to law enforcement information necessary for the performance of their tasks. these measures will speed up criminal investigations and enable authorities to combat cross-border crime more effectively.\n",
            "risk assessment\n",
            "the commission publishes every year a supranational risk assessment report. it assesses the vulnerability of financial products and services to risks of money laundering and terrorist financing. this risk analysis is conceived as a key tool to identify, analyse and address money laundering and terrorist financing risks in the eu. it aims at providing a comprehensive mapping of risks on all relevant areas, as well as recommendations to member states, european supervisory authorities and obliged entities to mitigate these risks. this risk analysis support member states and obliged entities when carrying out their respective risk assessments.\n",
            "supervision and regulatory technical standards\n",
            "the commission's services work closely with the european supervisory authorities in the implementation of the aml/cft rules. the joint committee of the european supervisory authorities on aml/cft issues guidelines and opinions to help national competent authorities to understand the regulatory expectations.\n",
            "as part of its legal obligation stemming from the 4th anti-money laundering directive the commission adopted delegated regulations in relation to the following regulatory technical standards that have been developed by the european supervisory authorities (esas)\n",
            "regulatory technical standards for the minimum action and the type of additional measures credit and financial institutions must take to mitigate money laundering and terrorist financing risk in certain third countries\n",
            "regulatory technical standards on the criteria for the appointment of central contact points for electronic money issuers and payment service providers and with rules on their functions\n",
            "the new regulation on the anti-money laundering authority (amla) will create a new euauthority (amla). it will transform aml/cft supervision in theeu and support the cooperation among financial intelligence units (fius). furthermore, it will be the central authority coordinating national authorities to ensure the private sector correctly and consistently applies eurules.\n",
            "anti-money laundering authority (amla)\n",
            "the new regulation on the anti-money laundering authority (amla) will create a new eu authority. it will establish a new coordination mechanism for aml/cft supervision in the eu and support cooperation amongst financial intelligence units (fius).\n",
            "more information on the amla\n",
            "eu-wide cooperation\n",
            "an expert group on money laundering and terrorist financing meets regularly to share views and help the commission define policy and draft new legislation\n",
            "a committee on the prevention of money laundering and terrorist financing may also be convened to give its opinion on implementing measures put forward by the commission\n",
            "the european commission also organises meetings of an expert group (the eu fiu's platform) that brings financial intelligence units together in order to facilitate cooperation among national fius and to provide advice and expertise to the commission\n",
            "the european commission organises meetings of an expert group on eid and remote know-your-customer (kyc) processes that brings public and private experts together to explore issues relating to electronic identification and remote kyc processes to provide advice and expertise to the commission\n",
            "aml explained\n",
            "eu finance podcast\n",
            "episode 5 - the one about amla\n",
            "stronger eu aml rules\n",
            "factsheet on fighting financial crime\n",
            "anti-money laundering\n",
            "finance news hub article\n",
            "fighting financial crime?\n",
            "youtube video\n",
            "policy making timeline\n",
            "24 april 2024european parliament plenary votes on the reports on anti-money laundering and countering the financing of terrorism legislative packagelatest update on the legislative package on anti-money laundering and countering the financing of terrorism\n",
            "22 march 2024report - amld ivpublication of a report from the commission to the european parliament and the council on the implementation of the 4thanti-money laundering directivetext of the report\n",
            "staff working document accompanying the report\n",
            "study by the council of europe on the assessment of the concrete implementation and effective application of the 4th anti-money laundering directive in the european union\n",
            "22 february 2024seat selection procedure - amlapolitical agreement between the european parliament and the council on the location of the seat of amla in frankfurt.read the remarks by commissioner mcguinness at the press conference on the selection of the amla seat.\n",
            "18 january 2024legislation - financial crimepolitical agreement between the european parliament and the council on commission's package of legislative proposals to strengthen the eu's anti-money laundering and countering the financing of terrorism (aml/cft) rules.\n",
            "10 january 2024seat selection procedure - amla commission submitted its assessments of the applications to host amla.\n",
            "18 december 2023call for application - amlapolitical agreement reached by co-legislators on the procedure to select the seat for amla.\n",
            "13 december 2023legislation - amlapolitical agreement between the european parliament and the council on commission's proposal to establish an euanti-money laundering and countering terrorism financing authority (amla).\n",
            "10 november 2023call for application - amlathe call for applications to member states came to an end, with applications for the selection of the seat of amla received from 9countries.\n",
            "28 september 2023call for application - amlaat the request of the co-legislators, which have agreed on the selection criteria, the commission has launched a call for applications to member states for the selection of the seat of amla.\n",
            "deadline: 10november2023\n",
            "27 october 2022staff working document - public-private partnershipscommission staff working document on the use of public-private partnerships in the framework of preventing and fighting money laundering and terrorist financing.\n",
            "29 june 2022legislation - transfer of funds regulationpolitical agreement reached by co-legislators on commission's proposal to amend the transfer of funds regulation (tfr).the agreement provides for an obligation for all crypto service providers involved in crypto transfers to collect data on the originators and beneficiaries of the crypto-assets transfers they operate, and make them available to the competent authorities in charge of the fight against money laundering and terrorism financing.\n",
            "22 february 2022manuals - financial crimethe european commission presented a trainers' manual and its corresponding user's manual for those who train lawyers on anti-money laundering (aml) and counter terrorist financing (ctf) rules at eulevel.\n",
            "20 july 2021legislative proposal - financial crimethe european commission presented an ambitious package of legislative proposals to strengthen the eu's anti-money laundering and countering the financing of terrorism (aml/cft) rules. the package harmonises aml/cft rules across theeu. it also proposes the creation of a new euauthority to fight money laundering (amla).\n",
            "16 september 2020report - trusts and similar legal arrangementsthe european commission adopted a report assessing whether member states have duly identified and made subject to the obligations of directive (eu) 2015/849 all trusts and similar legal arrangements governed under their laws. directive (eu) 2015/849 (the 5th anti-money laundering directive) indeed extended to trusts and similar legal arrangements the transparency rules and obligations applicable to legal entities, requiring member states to identify and notify trusts or trust-like arrangements governed under their legal framework.\n",
            "7 may 2020action plan - financial crimethe european commission adopted an action plan for a comprehensive union policy on preventing money laundering and the financing of terrorism built on six pillars. to gather the views of citizens and stakeholder on these measures, the commission launched a public consultation in parallel to the adoption of this action plan.\n",
            "24 july 2019communication - financial crimethe european commission adopted a communication entitled 'towards better implementation of the eu's anti-money laundering and countering the financing of terrorism framework' accompanied by 4reports.\n",
            "8 november 2018opinion - maltacommission opinion of 8 november 2018 addressed to the financial intelligence analysis unit of malta, based on article 17(4) of regulation (eu) no 1093/2010, on the action necessary to comply with union law.\n",
            "12 september 2018communication - anti-money laundering supervisioncommunication on strengthening the union framework for prudential and anti-money laundering supervision, including targeted changes to the three regulations establishing the supervisory authorities.\n",
            "9 july 2018legislation - amld ventry into force of the 5th anti-money laundering directive (directive (eu) 2018/843), which amends the 4th anti-money laundering directive.these amendments introduced substantial improvement to better equip the union to prevent the financial system from being used for money laundering and for funding terrorist activities.these amendments were introduced toenhance transparency by setting up publicly available registers for companies, trusts and other legal arrangementsenhance the powers of eu financial intelligence units, and provide them with access to broad information for the carrying out of their taskslimit the anonymity related to virtual currencies and wallet providers, but also for pre-paid cardsbroaden the criteria for the assessment of high-risk third countries and improve the safeguards for financial transactions to and from such countriesset up central bank account registries or retrieval systems in all member statesimprove the cooperation and enhance of information between anti-money laundering supervisors between them and between them and prudential supervisors and the european central banksee also the factsheet on the main changes of the 5th anti-money laundering directive\n",
            "26 june 2017guidelines - esaspublication of the final guidelines on anti-money laundering and countering the financing of terrorism by the joint committee of the three european supervisory authorities (eba, eiopa and esma - esas).\n",
            "25 june 2015legislation - amld iventry into force of the 4th anti-money laundering directive (directive (eu) 2015/849).\n",
            "show 18 more items\n",
            "2012recommendations - fatfrecommendations of the financial action task force (fatf).\n",
            "relevant legislation\n",
            "anti-money laundering and terrorist financing directive vi (amld vi) - 2024/1640/eu\n",
            "basic information\n",
            "text of the amldvi (2024/1640/eu)\n",
            "legislative history\n",
            "original legislative proposal for the amldvi\n",
            "impact assessment accompanying the legislative proposal for the amldvi\n",
            "executive summary of the impact assessment accompanying the legislative proposal for the amldvi\n",
            "aml legislative package\n",
            "history of the legislative initiative on new national mechanisms for preventing money laundering and counter-terrorist financing\n",
            "anti-money laundering and terrorist financing regulation (amlr) - 2024/1624/eu\n",
            "basic information\n",
            "text of the amlr (2024/1624/eu)\n",
            "legislative history\n",
            "original legislative proposal for the amlr\n",
            "impact assessment accompanying the legislative proposal for the amlr\n",
            "executive summary of the impact assessment accompanying the legislative proposal for the amlr\n",
            "aml legislative package\n",
            "history of the legislative initiative on new rules for the private sector for preventing money laundering and counter-terrorist financing\n",
            "regulation establishing the authority for anti-money laundering and countering the financing of terrorism (amla regulation) - 2024/1620/eu\n",
            "basic information\n",
            "text of the amla regulation (2024/1620/eu)\n",
            "legislative history\n",
            "original legislative proposal for the amla regulation\n",
            "impact assessment accompanying the legislative proposal for the amla regulation\n",
            "executive summary of the impact assessment accompanying the legislative proposal for the amla regulation\n",
            "aml legislative package\n",
            "history of the legislative initiative on a new eu authority for preventing money laundering and counter-terrorist financing\n",
            "anti-money laundering and terrorist financing directive v (amld v) - 2018/843/eu\n",
            "basic information\n",
            "text of the amldv (2018/843/eu)\n",
            "transposition by eumember states\n",
            "transposition status of the amldv by eumember states\n",
            "transposition history of the amldv by eumember states\n",
            "legislative history\n",
            "original legislative proposal for the amldv\n",
            "impact assessment accompanying the legislative proposal for the amldv\n",
            "executive summary of the impact assessment accompanying the legislative proposal for the amldv\n",
            "anti-money laundering and terrorist financing directive iv (amld iv) - 2015/849/eu\n",
            "basic information\n",
            "text of the amldiv (2015/849/eu)\n",
            "summary of the legislation: preventing abuse of the financial system for money laundering and terrorism purposes\n",
            "delegated and implementing acts\n",
            "delegated and implementing acts to the amldiv\n",
            "transposition by eumember states\n",
            "the amldiv was transposed by all eumember states into their national law.\n",
            "transposition history of the amldiv by eumember states\n",
            "monitoring and enforcement\n",
            "list of competent authorities under article 48(1a) of the amldiv\n",
            "ongoing revision\n",
            "ongoing revision of the amldiv\n",
            "legislative initiative on the review of amldiv\n",
            "legislative history\n",
            "original legislative proposal for the amldiv\n",
            "impact assessment accompanying the legislative proposal for the amldiv\n",
            "executive summary of the impact assessment accompanying the legislative proposal for the amldiv\n",
            "use of financial information directive - 2019/1153/eu\n",
            "basic information\n",
            "text of the use of financial information directive (2019/1153/eu)\n",
            "summary of the legislation: using financial information for preventing, detecting, investigating and prosecuting criminal offences\n",
            "transposition by eumember states\n",
            "transposition history of the use of financial information directive by eumember states\n",
            "legislative history\n",
            "original legislative proposal for the use of financial information directive\n",
            "impact assessment accompanying the legislative proposal for the use of financial information directive\n",
            "executive summary of the impact assessment accompanying the legislative proposal for the use of financial information directive\n",
            "related links\n",
            "anti-money laundering/countering the financing of terrorism authority (amla)\n",
            "financial action task force\n",
            "share this page\n"
          ]
        }
      ],
      "source": [
        "print(url_document[0].page_content)"
      ]
    },
    {
      "cell_type": "code",
      "execution_count": 40,
      "metadata": {
        "id": "NM1oqVDpMlCt"
      },
      "outputs": [],
      "source": [
        "text_splitter = RecursiveCharacterTextSplitter(chunk_size=500, chunk_overlap=20)\n",
        "url_texts = text_splitter.split_documents(url_document)\n"
      ]
    },
    {
      "cell_type": "code",
      "execution_count": 41,
      "metadata": {
        "colab": {
          "base_uri": "https://localhost:8080/"
        },
        "id": "4YhemXaSVxsz",
        "outputId": "23962aaa-20ad-4444-e7a4-94654732789b"
      },
      "outputs": [
        {
          "data": {
            "text/plain": [
              "45"
            ]
          },
          "execution_count": 41,
          "metadata": {},
          "output_type": "execute_result"
        }
      ],
      "source": [
        "len(url_texts)"
      ]
    },
    {
      "cell_type": "code",
      "execution_count": 42,
      "metadata": {
        "id": "CqaOZbsOMlCu"
      },
      "outputs": [],
      "source": [
        "collection_name = \"finance_collection\""
      ]
    },
    {
      "cell_type": "code",
      "execution_count": 43,
      "metadata": {
        "colab": {
          "base_uri": "https://localhost:8080/"
        },
        "id": "cwsxcL9FMlCu",
        "outputId": "4c322761-1032-4f38-afe9-0ccf7d7b08d0"
      },
      "outputs": [
        {
          "name": "stdout",
          "output_type": "stream",
          "text": [
            "Time taken is: 2.0419375896453857 seconds\n"
          ]
        }
      ],
      "source": [
        "start =time.time()\n",
        "# Insert documents into the collection\n",
        "qdrant = Qdrant.from_documents(url_texts,embeddings_model,url=url,prefer_grpc=False,api_key=qdrant_api_key,collection_name=collection_name,force_recreate=False,distance_func=\"Dot\")\n",
        "end =time.time()\n",
        "print(\"Time taken is:\", end-start,\"seconds\")"
      ]
    },
    {
      "cell_type": "code",
      "execution_count": 44,
      "metadata": {
        "id": "ED6LCWDVMlCu"
      },
      "outputs": [],
      "source": [
        "query = \"What the EU is doing and why?\"\n",
        "query_vector = embeddings_model.embed_query(query)"
      ]
    },
    {
      "cell_type": "code",
      "execution_count": 45,
      "metadata": {
        "id": "Xrb1M6PO5gZq"
      },
      "outputs": [],
      "source": [
        "scored_points = client.search( collection_name=collection_name,\n",
        "                        query_vector=query_vector,\n",
        "                        limit=3,\n",
        "                        with_payload=True\n",
        "                        )"
      ]
    },
    {
      "cell_type": "code",
      "execution_count": 46,
      "metadata": {
        "colab": {
          "base_uri": "https://localhost:8080/"
        },
        "id": "z9Snk7AT5gdD",
        "outputId": "62119923-f801-4acd-f995-e430f08be09b"
      },
      "outputs": [
        {
          "data": {
            "text/plain": [
              "ScoredPoint(id='bb506bcd-35d6-4a26-96d4-af445cbf9cb5', version=1, score=0.59980524, payload={'metadata': {'source': 'https://finance.ec.europa.eu/financial-crime/anti-money-laundering-and-countering-financing-terrorism-eu-level_en#legislation'}, 'page_content': 'page contents\\nwhat the eu is doing and why\\nit is essential that gatekeepers (banks and other obliged entities) apply measures to prevent money laundering and terrorist financing. traceability of financial information has an important deterrent effect.'}, vector=None, shard_key=None, order_value=None)"
            ]
          },
          "execution_count": 46,
          "metadata": {},
          "output_type": "execute_result"
        }
      ],
      "source": [
        "scored_points[0]"
      ]
    },
    {
      "cell_type": "code",
      "execution_count": 47,
      "metadata": {
        "colab": {
          "base_uri": "https://localhost:8080/"
        },
        "id": "9YBA3M9O5pKi",
        "outputId": "43875ff4-a224-4c7c-ed6f-552604583e6f"
      },
      "outputs": [
        {
          "name": "stdout",
          "output_type": "stream",
          "text": [
            "Score: 0.59980524\n",
            "Page Content: page contents\n",
            "what the eu is doing and why\n",
            "it is essential that gatekeepers (banks and other obliged entities) apply measures to prevent money laundering and terrorist financing. traceability of financial information has an important deterrent effect.\n",
            "\n",
            "Score: 0.56939924\n",
            "Page Content: 7 may 2020action plan - financial crimethe european commission adopted an action plan for a comprehensive union policy on preventing money laundering and the financing of terrorism built on six pillars. to gather the views of citizens and stakeholder on these measures, the commission launched a public consultation in parallel to the adoption of this action plan.\n",
            "\n",
            "Score: 0.56109047\n",
            "Page Content: the new regulation on the anti-money laundering authority (amla) will create a new eu authority. it will establish a new coordination mechanism for aml/cft supervision in the eu and support cooperation amongst financial intelligence units (fius).\n",
            "more information on the amla\n",
            "eu-wide cooperation\n",
            "an expert group on money laundering and terrorist financing meets regularly to share views and help the commission define policy and draft new legislation\n",
            "\n"
          ]
        }
      ],
      "source": [
        "for point in scored_points:\n",
        "    score = point.score\n",
        "    page_content = point.payload['page_content']\n",
        "    print(f\"Score: {score}\")\n",
        "    print(f\"Page Content: {page_content}\\n\")"
      ]
    },
    {
      "cell_type": "code",
      "execution_count": 48,
      "metadata": {
        "id": "rT-ih2AtMlCu"
      },
      "outputs": [],
      "source": [
        "# from langchain_openai import ChatOpenAI\n",
        "# from langchain.chains import RetrievalQA\n",
        "# # completion llm\n",
        "# llm = ChatOpenAI(\n",
        "#     openai_api_key=os.getenv(\"OPENAI_API_KEY\"),\n",
        "#     model_name='gpt-3.5-turbo',\n",
        "#     temperature=0.0\n",
        "# )\n",
        "# qa = RetrievalQA.from_chain_type(\n",
        "#     llm=llm,\n",
        "#     chain_type=\"stuff\",\n",
        "#     retriever=vectorstore.as_retriever()\n",
        "# )\n",
        "# print(qa.run(query))"
      ]
    },
    {
      "cell_type": "markdown",
      "metadata": {
        "id": "kw_Iof00MlCz"
      },
      "source": [
        "## Data Privacy\n"
      ]
    },
    {
      "cell_type": "markdown",
      "metadata": {
        "id": "y74Q5MCCMlCz"
      },
      "source": [
        "#### Wikipedia"
      ]
    },
    {
      "cell_type": "code",
      "execution_count": 49,
      "metadata": {
        "id": "2vv_qyOrMlCz"
      },
      "outputs": [],
      "source": [
        "from langchain_community.document_loaders import WikipediaLoader"
      ]
    },
    {
      "cell_type": "code",
      "execution_count": 50,
      "metadata": {
        "id": "oEpZD16wMlC0"
      },
      "outputs": [],
      "source": [
        "docs = WikipediaLoader(query=\"General Data Protection Regulation\", doc_content_chars_max = 100000, load_max_docs=1).load()"
      ]
    },
    {
      "cell_type": "code",
      "execution_count": 51,
      "metadata": {
        "colab": {
          "base_uri": "https://localhost:8080/"
        },
        "id": "FWcxATfSMlC0",
        "outputId": "718fa098-126a-42e1-e5cd-740e3d169b1a"
      },
      "outputs": [
        {
          "data": {
            "text/plain": [
              "{'title': 'General Data Protection Regulation',\n",
              " 'summary': 'The General Data Protection Regulation (Regulation (EU) 2016/679, abbreviated GDPR) is a European Union regulation on information privacy in the European Union (EU) and the European Economic Area (EEA). The GDPR is an important component of EU privacy law and human rights law, in particular Article 8(1) of the Charter of Fundamental Rights of the European Union. It also governs the transfer of personal data outside the EU and EEA. The GDPR\\'s goals are to enhance individuals\\' control and rights over their personal information and to simplify the regulations for international business.  It supersedes the Data Protection Directive 95/46/EC and, among other things, simplifies the terminology.\\nThe European Parliament and Council of the European Union adopted the GDPR on 14 April 2016, to become effective on 25 May 2018. As an EU regulation (instead of a directive), GDPR is directly applicable with force of law on its own without the need of transposition. However, it also provides flexibility for individual member states to modify (derogate from) some of its provisions.\\nAs an example of the Brussels effect, the regulation became a model for many other laws around the world, including in Brazil, Japan, Singapore, South Africa, South Korea, Sri Lanka, and Thailand. After leaving the European Union the United Kingdom enacted its \"UK GDPR\", identical to the GDPR. The California Consumer Privacy Act (CCPA), adopted on 28 June 2018, has many similarities with the GDPR.',\n",
              " 'source': 'https://en.wikipedia.org/wiki/General_Data_Protection_Regulation'}"
            ]
          },
          "execution_count": 51,
          "metadata": {},
          "output_type": "execute_result"
        }
      ],
      "source": [
        "docs[0].metadata  # meta-information of the Document"
      ]
    },
    {
      "cell_type": "code",
      "execution_count": 52,
      "metadata": {
        "colab": {
          "base_uri": "https://localhost:8080/"
        },
        "id": "LPSod8047wHq",
        "outputId": "2ef916f6-4df6-4fe7-9dab-b5d3aec3b735"
      },
      "outputs": [
        {
          "data": {
            "text/plain": [
              "50878"
            ]
          },
          "execution_count": 52,
          "metadata": {},
          "output_type": "execute_result"
        }
      ],
      "source": [
        "raw_text =docs[0].page_content\n",
        "len(raw_text)"
      ]
    },
    {
      "cell_type": "code",
      "execution_count": 53,
      "metadata": {
        "id": "p9gfEw-d71Tc"
      },
      "outputs": [],
      "source": [
        "clean_text = clean(text=raw_text,\n",
        "            fix_unicode=True,\n",
        "            to_ascii=True,\n",
        "            lower=True,\n",
        "            no_line_breaks=False,\n",
        "            no_urls=False,\n",
        "            no_emails=False,\n",
        "            no_phone_numbers=False,\n",
        "            no_numbers=False,\n",
        "            no_digits=False,\n",
        "            no_currency_symbols=False,\n",
        "            no_punct=False,\n",
        "            lang=\"en\"\n",
        "            )"
      ]
    },
    {
      "cell_type": "code",
      "execution_count": 54,
      "metadata": {
        "colab": {
          "base_uri": "https://localhost:8080/"
        },
        "id": "C7rrDgbb71W5",
        "outputId": "87d27438-63ed-483d-e1ae-c396199c7a34"
      },
      "outputs": [
        {
          "data": {
            "text/plain": [
              "50763"
            ]
          },
          "execution_count": 54,
          "metadata": {},
          "output_type": "execute_result"
        }
      ],
      "source": [
        "len(clean_text)"
      ]
    },
    {
      "cell_type": "code",
      "execution_count": 55,
      "metadata": {
        "id": "uFK6cQjh75Pj"
      },
      "outputs": [],
      "source": [
        "from langchain.schema import Document\n",
        "metadata = {\n",
        "    \"source\": docs[0].metadata['source'],\n",
        "    \"title\": docs[0].metadata['title']\n",
        "}\n",
        "\n",
        "custom_doc = Document(page_content=clean_text, metadata=metadata)\n",
        "document =[custom_doc]"
      ]
    },
    {
      "cell_type": "code",
      "execution_count": 56,
      "metadata": {
        "colab": {
          "base_uri": "https://localhost:8080/"
        },
        "id": "MeF19h4Z75TM",
        "outputId": "7fde1369-99d9-4319-b652-67f825551ac9"
      },
      "outputs": [
        {
          "data": {
            "text/plain": [
              "[Document(metadata={'source': 'https://en.wikipedia.org/wiki/General_Data_Protection_Regulation', 'title': 'General Data Protection Regulation'}, page_content='the general data protection regulation (regulation (eu) 2016/679, abbreviated gdpr) is a european union regulation on information privacy in the european union (eu) and the european economic area (eea). the gdpr is an important component of eu privacy law and human rights law, in particular article 8(1) of the charter of fundamental rights of the european union. it also governs the transfer of personal data outside the eu and eea. the gdpr\\'s goals are to enhance individuals\\' control and rights over their personal information and to simplify the regulations for international business. it supersedes the data protection directive 95/46/ec and, among other things, simplifies the terminology.\\nthe european parliament and council of the european union adopted the gdpr on 14 april 2016, to become effective on 25 may 2018. as an eu regulation (instead of a directive), gdpr is directly applicable with force of law on its own without the need of transposition. however, it also provides flexibility for individual member states to modify (derogate from) some of its provisions.\\nas an example of the brussels effect, the regulation became a model for many other laws around the world, including in brazil, japan, singapore, south africa, south korea, sri lanka, and thailand. after leaving the european union the united kingdom enacted its \"uk gdpr\", identical to the gdpr. the california consumer privacy act (ccpa), adopted on 28 june 2018, has many similarities with the gdpr.\\n== contents ==\\nthe gdpr 2016 has eleven chapters, concerning general provisions, principles, rights of the data subject, duties of data controllers or processors, transfers of personal data to third countries, supervisory authorities, cooperation among member states, remedies, liability or penalties for breach of rights, and miscellaneous final provisions. recital 4 proclaims that \\'processing of personal data should be designed to serve mankind\\'.\\n=== general provisions ===\\nthe regulation applies if the data controller (an organisation that collects information about living people, whether they are in the eu or not), or processor (an organisation that processes data on behalf of a data controller like cloud service providers), or the data subject (person) is based in the eu. under certain circumstances, the regulation also applies to organisations based outside the eu if they collect or process personal data of individuals located inside the eu. the regulation does not apply to the processing of data by a person for a \"purely personal or household activity and thus with no connection to a professional or commercial activity.\" (recital 18).\\naccording to the european commission, \"personal data is information that relates to an identified or identifiable individual. if you cannot directly identify an individual from that information, then you need to consider whether the individual is still identifiable. you should take into account the information you are processing together with all the means reasonably likely to be used by either you or any other person to identify that individual.\" the precise definitions of terms such as \"personal data\", \"processing\", \"data subject\", \"controller\", and \"processor\" are stated in article 4 of the regulation.\\nthe regulation does not purport to apply to the processing of personal data for national security activities or law enforcement of the eu; however, industry groups concerned about facing a potential conflict of laws have questioned whether article 48 of the gdpr could be invoked to seek to prevent a data controller subject to a third country\\'s laws from complying with a legal order from that country\\'s law enforcement, judicial, or national security authorities to disclose to such authorities the personal data of an eu person, regardless of whether the data resides in or out of the eu. article 48 states that any judgement of a court or tribunal and any decision of an administrative authority of a third country requiring a controller or processor to transfer or disclose personal data may not be recognised or enforceable in any manner unless based on an international agreement, like a mutual legal assistance treaty in force between the requesting third (non-eu) country and the eu or a member state. the data protection reform package also includes a separate data protection directive for the police and criminal justice sector that provides rules on personal data exchanges at state level, union level, and international levels.\\na single set of rules applies to all eu member states. each member state establishes an independent supervisory authority (sa) to hear and investigate complaints, sanction administrative offences, etc. sas in each member state co-operate with other sas, providing mutual assistance and organising joint operations. if a business has multiple establishments in the eu, it must have a single sa as its \"lead authority\", based on the location of its \"main establishment\" where the main processing activities take place. the lead authority thus acts as a \"one-stop shop\" to supervise all the processing activities of that business throughout the eu (articles 4655 of the gdpr). a european data protection board (edpb) co-ordinates the sas. edpb thus replaces the article 29 data protection working party. there are exceptions for data processed in an employment context or in national security that still might be subject to individual country regulations (articles 2(2)(a) and 88 of the gdpr).\\n=== principles and lawful purposes ===\\narticle 5 sets out six principles relating to the lawfulness of processing personal data. the first of these specifies that data must be processed lawfully, fairly and in a transparent manner. article 6 develops this principle by specifying that personal data may not be processed unless there is at least one legal basis for doing so. the other principles refer to \"purpose limitation\", \"data minimisation\", \"accuracy\", \"storage limitation\", and \"integrity and confidentiality\".:article 5\\narticle 6 states that the lawful purposes are::article 6\\n(a) if the data subject has given consent to the processing of his or her personal data;\\n(b) to fulfill contractual obligations with a data subject, or for tasks at the request of a data subject who is in the process of entering into a contract;\\n(c) to comply with a data controller\\'s legal obligations;\\n(d) to protect the vital interests of a data subject or another individual;\\n(e) to perform a task in the public interest or in official authority;\\n(f) for the legitimate interests of a data controller or a third party, unless these interests are overridden by interests of the data subject or her or his rights according to the charter of fundamental rights (especially in the case of children).\\nif informed consent is used as the lawful basis for processing, consent must have been explicit for data collected and each purpose data is used for (article 7; defined in article 4). consent must be a specific, freely given, plainly worded, and unambiguous affirmation given by the data subject; an online form which has consent options structured as an opt-out selected by default is a violation of the gdpr, as the consent is not unambiguously affirmed by the user. in addition, multiple types of processing may not be \"bundled\" together into a single affirmation prompt, as this is not specific to each use of data, and the individual permissions are not freely given. (recital 32).\\ndata subjects must be allowed to withdraw this consent at any time, and the process of doing so must not be harder than it was to opt in. (article 7(3)) a data controller may not refuse service to users who decline consent to processing that is not strictly necessary in order to use the service. (article 8) consent for children, defined in the regulation as being less than 16 years old (although with the option for member states to individually make it as low as 13 years old (article 8(1)), must be given by the child\\'s parent or custodian, and verifiable (article 8).\\nif consent to processing was already provided under the data protection directive, a data controller does not have to re-obtain consent if the processing is documented and obtained in compliance with the gdpr\\'s requirements (recital 171).\\n=== rights of the data subject ===\\n==== transparency and modalities ====\\narticle 12 requires the data controller to provide information to the \"data subject in a concise, transparent, intelligible and easily accessible form, using clear and plain language, in particular for any information addressed specifically to a child.\"\\n==== information and access ====\\nthe right of access (article 15) is a data subject right. it gives people the right to access their personal data and information about how this personal data is being processed. a data controller must provide, upon request, an overview of the categories of data that are being processed (article 15(1)(b)) as well as a copy of the actual data (article 15(3)); furthermore, the data controller has to inform the data subject on details about the processing, such as the purposes of the processing (article 15(1)(a)), with whom the data is shared (article 15(1)(c)), and how it acquired the data (article 15(1)(g)).\\na data subject must be able to transfer personal data from one electronic processing system to and into another, without being prevented from doing so by the data controller. data that has been sufficiently anonymised is excluded, but data that has been only de-identified but remains possible to link to the individual in question, such as by providing the relevant identifier, is not. in practice, however, providing such identifiers can be challenging, such as in the case of apple\\'s siri, where voice and transcript data is stored with a personal identifier that the manufacturer restricts access to, or in online behavioural targeting, which relies heavily on device fingerprints that can be challenging to capture, send, and verify.\\nboth data being \\'provided\\' by the data subject and data being \\'observed\\', such as about behaviour, are included. in addition, the data must be provided by the controller in a structured and commonly used standard electronic format. the right to data portability is provided by article 20 of the gdpr.\\n==== rectification and erasure ====\\na right to be forgotten was replaced by a more limited right of erasure in the version of the gdpr that was adopted by the european parliament in march 2014. article 17 provides that the data subject has the right to request erasure of personal data related to them on any one of a number of grounds, including noncompliance with article 6(1) (lawfulness) that includes a case (f) if the legitimate interests of the controller are overridden by the interests or fundamental rights and freedoms of the data subject, which require protection of personal data (see also google spain sl, google inc. v agencia espanola de proteccion de datos, mario costeja gonzalez).\\n==== right to object and automated decisions ====\\narticle 21 of the gdpr allows an individual to object to processing personal information for marketing or non-service related purposes. this means the data controller must allow an individual the right to stop or prevent controller from processing their personal data.\\nthere are some instances where this objection does not apply. for example, if:\\nlegal or official authority is being carried out\\n\"legitimate interest\", where the organisation needs to process data in order to provide the data subject with a service they signed up for\\na task being carried out for public interest.\\ngdpr is also clear that the data controller must inform individuals of their right to object from the first communication the controller has with them. this should be clear and separate from any other information the controller is providing and give them their options for how best to object to the processing of their data.\\nthere are instances the controller can refuse a request, in the circumstances that the objection request is \"manifestly unfounded\" or \"excessive\", so each case of objection must be looked at individually. other countries such as canada are also, following the gdpr, considering legislation to regulate automated decision making under privacy laws, even though there are policy questions as to whether this is the best way to regulate ai.\\n==== right to compensation ====\\narticle 82 of the gdpr stipulates that any person who has suffered material or non-material damage as a result of an infringement of this regulation shall have the right to receive compensation from the controller or processor for the damage suffered.\\nin the judgment osterreichische post (c-300/21) the court of justice of the european union gave an interpretation of the right to compensation. article 82(1) gdpr requires for the award of damages (i) an infringement of the gdpr, (ii) (actual) damage suffered and (iii) a causal link between the infringement and the damage suffered. it is not necessary that the damage suffered reaches a certain degree of seriousness. there is no european defined concept of damage. compensation is determined nationally in accordance with national law. the principles of equivalence and effectiveness must be taken into account.\\nsee also the opinion of the advocate general in the case krankenversicherung nordrhein (c-667/21).\\n=== controller and processor ===\\ndata controllers must clearly disclose any data collection, declare the lawful basis and purpose for data processing, and state how long data is being retained and if it is being shared with any third parties or outside of the eea. firms have the obligation to protect data of employees and consumers to the degree where only the necessary data is extracted with minimum interference with data privacy from employees, consumers, or third parties. firms should have internal controls and regulations for various departments such as audit, internal controls, and operations. data subjects have the right to request a portable copy of the data collected by a controller in a common format, as well as the right to have their data erased under certain circumstances. public authorities, and businesses whose core activities consist of regular or systematic processing of personal data, are required to employ a data protection officer (dpo), who is responsible for managing compliance with the gdpr. data controllers must report data breaches to national supervisory authorities within 72 hours if they have an adverse effect on user privacy. in some cases, violators of the gdpr may be fined up to 20 million or up to 4% of the annual worldwide turnover of the preceding financial year in case of an enterprise, whichever is greater.\\nto be able to demonstrate compliance with the gdpr, the data controller must implement measures that meet the principles of data protection by design and by default. article 25 requires data protection measures to be designed into the development of business processes for products and services. such measures include pseudonymising personal data, by the controller, as soon as possible (recital 78). it is the responsibility and the liability of the data controller to implement effective measures and be able to demonstrate the compliance of processing activities even if the processing is carried out by a data processor on behalf of the controller (recital 74).\\nwhen data is collected, data subjects must be clearly informed about the extent of data collection, the legal basis for the processing of personal data, how long data is retained, if data is being transferred to a third-party and/or outside the eu, and any automated decision-making that is made on a solely algorithmic basis. data subjects must be informed of their privacy rights under the gdpr, including their right to revoke consent to data processing at any time, their right to view their personal data and access an overview of how it is being processed, their right to obtain a portable copy of the stored data, their right to erasure of their data under certain circumstances, their right to contest any automated decision-making that was made on a solely algorithmic basis, and their right to file complaints with a data protection authority. as such, the data subject must also be provided with contact details for the data controller and their designated data protection officer, where applicable.\\ndata protection impact assessments (article 35) have to be conducted when specific risks occur to the rights and freedoms of data subjects. risk assessment and mitigation is required and prior approval of the data protection authorities is required for high risks.\\narticle 25 requires data protection to be designed into the development of business processes for products and services. privacy settings must therefore be set at a high level by default, and technical and procedural measures shall be taken by the controller to make sure that the processing, throughout the whole processing lifecycle, complies with the regulation. controllers shall also implement mechanisms to ensure that personal data is not processed unless necessary for each specific purpose. this is known as data minimisation.\\na report by the european union agency for network and information security elaborates on what needs to be done to achieve privacy and data protection by default. it specifies that encryption and decryption operations must be carried out locally, not by remote service, because both keys and data must remain in the power of the data owner if any privacy is to be achieved. the report specifies that outsourced data storage on remote clouds is practical and relatively safe if only the data owner, not the cloud service, holds the decryption keys.\\n==== pseudonymisation ====\\naccording to the gdpr, pseudonymisation is a required process for stored data that transforms personal data in such a way that the resulting data cannot be attributed to a specific data subject without the use of additional information (as an alternative to the other option of complete data anonymisation). an example is encryption, which renders the original data unintelligible in a process that cannot be reversed without access to the correct decryption key. the gdpr requires for the additional information (such as the decryption key) to be kept separately from the pseudonymised data.\\nanother example of pseudonymisation is tokenisation, which is a non-mathematical approach to protecting data at rest that replaces sensitive data with non-sensitive substitutes, referred to as tokens. while the tokens have no extrinsic or exploitable meaning or value, they allow for specific data to be fully or partially visible for processing and analytics while sensitive information is kept hidden. tokenisation does not alter the type or length of data, which means it can be processed by legacy systems such as databases that may be sensitive to data length and type. this also requires much fewer computational resources to process and less storage space in databases than traditionally encrypted data.\\npseudonymisation is a privacy-enhancing technology and is recommended to reduce the risks to the concerned data subjects and also to help controllers and processors to meet their data protection obligations (recital 28).\\n==== records of processing activities ====\\naccording to article 30, records of processing activities have to be maintained by each organisation matching one of following criteria:\\nemploying more than 250 people;\\nthe processing it carries out is likely to result in a risk to the rights and freedoms of data subjects;\\nthe processing is not occasional;\\nprocessing includes special categories of data as referred to in article 9(1) or personal data relating to criminal convictions and offences referred to in article 10.\\nsuch requirements may be modified by each eu country. the records shall be in electronic form and the controller or the processor and, where applicable, the controller\\'s or the processor\\'s representative, shall make the record available to the supervisory authority on request.\\nrecords of controller shall contain all of the following information:\\nthe name and contact details of the controller and, where applicable, the joint controller, the controller\\'s representative and the data protection officer;\\nthe purposes of the processing;\\na description of the categories of data subjects and of the categories of personal data;\\nthe categories of recipients to whom the personal data have been or will be disclosed including recipients in third countries or international organisations;\\nwhere applicable, transfers of personal data to a third country or an international organisation, including the identification of that third country or international organisation and, in the case of transfers referred to in the second subparagraph of article 49(1), the documentation of suitable safeguards;\\nwhere possible, the envisaged time limits for erasure of the different categories of data;\\nwhere possible, a general description of the technical and organisational security measures referred to in article 32(1).\\nrecords of processor shall contain all of the following information:\\nthe name and contact details of the processor or processors and of each controller on behalf of which the processor is acting, and, where applicable, of the controller\\'s or the processor\\'s representative, and the data protection officer;\\nthe categories of processing carried out on behalf of each controller;\\nwhere applicable, transfers of personal data to a third country or an international organisation, including the identification of that third country or international organisation and, in the case of transfers referred to in the second subparagraph of article 49(1), the\\ndocumentation of suitable safeguards;\\nwhere possible, a general description of the technical and organisational security measures referred to in article 32(1).\\n==== security of personal data ====\\ncontrollers and processors of personal data must put in place appropriate technical and organizational measures to implement the data protection principles. business processes that handle personal data must be designed and built with consideration of the principles and provide safeguards to protect data (for example, using pseudonymization or full anonymization where appropriate). data controllers must design information systems with privacy in mind. for instance, using the highest-possible privacy settings by default, so that the datasets are not publicly available by default and cannot be used to identify a subject. no personal data may be processed unless this processing is done under one of the six lawful bases specified by the regulation (consent, contract, public task, vital interest, legitimate interest or legal requirement). when the processing is based on consent the data subject has the right to revoke it at any time.\\narticle 33 states the data controller is under a legal obligation to notify the supervisory authority without undue delay unless the breach is unlikely to result in a risk to the rights and freedoms of the individuals. there is a maximum of 72 hours after becoming aware of the data breach to make the report. individuals have to be notified if a high risk of an adverse impact is determined (article 34). in addition, the data processor will have to notify the controller without undue delay after becoming aware of a personal data breach (article 33).\\nhowever, the notice to data subjects is not required if the data controller has implemented appropriate technical and organisational protection measures that render the personal data unintelligible to any person who is not authorised to access it, such as encryption (article 34).\\n==== data protection officer ====\\narticle 37 requires appointment of a data protection officer. if processing is carried out by a public authority (except for courts or independent judicial authorities when acting in their judicial capacity), or if processing operations involve regular and systematic monitoring of data subjects on a large scale, or if processing on a large scale of special categories of data and personal data relating to criminal convictions and offences (articles 9 and article 10,) a data protection officer (dpo)a person with expert knowledge of data protection law and practicesmust be designated to assist the controller or processor in monitoring their internal compliance with the regulation.\\na designated dpo can be a current member of staff of a controller or processor, or the role can be outsourced to an external person or agency through a service contract. in any case, the processing body must make sure that there is no conflict of interest in other roles or interests that a dpo may hold. the contact details for the dpo must be published by the processing organisation (for example, in a privacy notice) and registered with the supervisory authority.\\nthe dpo is similar to a compliance officer and is also expected to be proficient at managing it processes, data security (including dealing with cyberattacks) and other critical business continuity issues associated with the holding and processing of personal and sensitive data. the skill set required stretches beyond understanding legal compliance with data protection laws and regulations. the dpo must maintain a living data inventory of all data collected and stored on behalf of the organization. more details on the function and the role of data protection officer were given on 13 december 2016 (revised 5 april 2017) in a guideline document.\\norganisations based outside the eu must also appoint an eu-based person as a representative and point of contact for their gdpr obligations (article 27). this is a distinct role from a dpo, although there is overlap in responsibilities that suggest that this role can also be held by the designated dpo.\\n=== remedies, liability and penalties ===\\nbesides the definitions as a criminal offence according to national law following article 83 gdpr the following sanctions can be imposed:\\na warning in writing in cases of first and non-intentional noncompliance\\nregular periodic data protection audits\\na fine up to 10 million or up to 2% of the annual worldwide turnover of the preceding financial year in case of an enterprise, whichever is greater, if there has been an infringement of the following provisions (article 83, paragraph 4):\\nthe obligations of the controller and the processor pursuant to articles 8, 11, 25 to 39, and 42 and 43\\nthe obligations of the certification body pursuant to articles 42 and 43\\nthe obligations of the monitoring body pursuant to article 41(4)\\na fine up to 20 million or up to 4% of the annual worldwide turnover of the preceding financial year in case of an enterprise, whichever is greater, if there has been an infringement of the following provisions (article 83, paragraph 5 & 6):\\nthe basic principles for processing, including conditions for consent, pursuant to articles 5, 6, 7, and 9\\nthe data subjects\\' rights pursuant to articles 12 to 22\\nthe transfers of personal data to a recipient in a third country or an international organisation pursuant to articles 44 to 49\\nany obligations pursuant to member state law adopted under chapter ix\\nnoncompliance with an order or a temporary or definitive limitation on processing or the suspension of data flows by the supervisory authority pursuant to article 58(2) or failure to provide access in violation of article 58(1)\\n== exemptions ==\\nthese are some cases which are not addressed in the gdpr specifically, thus are treated as exemptions.\\npersonal or household activities\\nlaw enforcement\\nnational security\\nwhen the gdpr was being created, it was strictly created for the regulation of personal data which goes into the hands of companies. what is not covered by the gdpr is non-commercial information or household activities. an example of these household activities may be emails between two high school friends.\\nconversely, an entity or more precisely an \"enterprise\" has to be engaged in \"economic activity\" to be covered by the gdpr. economic activity is defined broadly under european union competition law.\\n== applicability outside of the european union ==\\nthe gdpr also applies to data controllers and processors outside of the european economic area (eea) if they are engaged in the \"offering of goods or services\" (regardless of whether a payment is required) to data subjects within the eea, or are monitoring the behaviour of data subjects within the eea (article 3(2)). the regulation applies regardless of where the processing takes place. this has been interpreted as intentionally giving gdpr extraterritorial jurisdiction for non-eu establishments if they are doing business with people located in the eu. it is questionable whether the eu or its member states will in practice be able to enforce gdpr against organisations which have no establishment in the eu.\\n=== eu representative ===\\nunder article 27, non-eu establishments subject to gdpr are obliged to have a designee within the european union, an \"eu representative\", to serve as a point of contact for their obligations under the regulation. the eu representative is the controller\\'s or processor\\'s contact person vis-a-vis european privacy supervisors and data subjects, in all matters relating to processing, to ensure compliance with this gdpr. a natural (individual) or legal (corporation) person can play the role of an eu representative. the non-eu establishment must issue a duly signed document (letter of accreditation) designating a given individual or company as its eu representative. the said designation can only be given in writing.\\nan establishment\\'s failure to designate an eu representative is considered ignorance of the regulation and relevant obligations, which itself is a violation of the gdpr subject to fines of up to 10 million or up to 2% of the annual worldwide turnover of the preceding financial year in case of an enterprise, whichever is greater. the intentional or negligent (willful blindness) character of the infringement (failure to designate an eu representative) may rather constitute aggravating factors.\\nan establishment does not need to name an eu representative if they only engage in occasional processing that does not include, on a large scale, processing of special categories of data as referred to in article 9(1) of gdpr or processing of personal data relating to criminal convictions and offences referred to in article 10, and such processing is unlikely to result in a risk to the rights and freedoms of natural persons, taking into account the nature, context, scope and purposes of the processing. non-eu public authorities and bodies are equally exempted.\\n=== third countries ===\\nchapter v of the gdpr forbids the transfer of the personal data of eu data subjects to countries outside of the eea known as third countries unless appropriate safeguards are imposed, or the third country\\'s data protection regulations are formally considered adequate by the european commission (article 45). binding corporate rules, standard contractual clauses for data protection issued by a data processing agreement (dpa), or a scheme of binding and enforceable commitments by the data controller or processor situated in a third country, are among examples.\\n=== united kingdom implementation ===\\nthe applicability of gdpr in the united kingdom is affected by brexit. although the united kingdom formally withdrew from the european union on 31 january 2020, it remained subject to eu law, including gdpr, until the end of the transition period on 31 december 2020. the united kingdom granted royal assent to the data protection act 2018 on 23 may 2018, which augmented the gdpr, including aspects of the regulation that are to be determined by national law, and criminal offences for knowingly or recklessly obtaining, redistributing, or retaining personal data without the consent of the data controller.\\nunder the european union (withdrawal) act 2018, existing and relevant eu law was transposed into local law upon completion of the transition, and the gdpr was amended by statutory instrument to remove certain provisions no longer needed due to the uk\\'s non-membership in the eu. thereafter, the regulation will be referred to as \"uk gdpr\". the uk will not restrict the transfer of personal data to countries within the eea under uk gdpr. however, the uk will become a third country under the eu gdpr, meaning that personal data may not be transferred to the country unless appropriate safeguards are imposed, or the european commission performs an adequacy decision on the suitability of british data protection legislation (chapter v). as part of the withdrawal agreement, the european commission committed to perform an adequacy assessment.\\nin april 2019, the uk information commissioner\\'s office (ico) issued a children\\'s code of practice for social networking services when used by minors, enforceable under gdpr, which also includes restrictions on \"like\" and \"streak\" mechanisms in order to discourage social media addiction and on the use of this data for processing interests.\\nin march 2021, secretary of state for digital, culture, media and sport oliver dowden stated that the uk was exploring divergence from the eu gdpr in order to \"[focus] more on the outcomes that we want to have and less on the burdens of the rules imposed on individual businesses\".\\n== misconceptions ==\\nsome common misconceptions about gdpr include:\\nall processing of personal data requires consent of the data subject\\nin fact, data can be processed without consent if one of the other five lawful bases for processing applies, and obtaining consent may often be inappropriate.\\nindividuals have an absolute right to have their data deleted (right to be forgotten)\\nwhilst there is an absolute right to opt-out of direct marketing, data controllers can continue to process personal data where they have a lawful basis to do so, as long as the data remain necessary for the purpose for which it was originally collected.\\nremoving individuals\\' names from records takes them out of scope of gdpr\\n\"pseudonymous\" data where an individual is identified by a number can still be personal data if the data controller is capable of tying that data back to an individual in another way.\\ngdpr applies to anyone processing personal data of eu citizens anywhere in the world\\nin fact, it applies to non-eu established organizations only where they are processing data of data subjects located in the eu (irrespective of their citizenship) and then only when supplying goods or services to them, or monitoring their behaviour.\\n== reception ==\\nas per a study conducted by deloitte in 2018, 92% of companies believe they are able to comply with gdpr in their business practices in the long run.\\ncompanies operating outside of the eu have invested heavily to align their business practices with gdpr. the area of gdpr consent has a number of implications for businesses who record calls as a matter of practice. a typical disclaimer is not considered sufficient to gain assumed consent to record calls. additionally, when recording has commenced, should the caller withdraw their consent, then the agent receiving the call must be able to stop a previously started recording and ensure the recording does not get stored.\\nit professionals expect that compliance with the gdpr will require additional investment overall: over 80 percent of those surveyed expected gdpr-related spending to be at least us$100,000. the concerns were echoed in a report commissioned by the law firm baker & mckenzie that found that \"around 70 percent of respondents believe that organizations will need to invest additional budget/effort to comply with the consent, data mapping and cross-border data transfer requirements under the gdpr.\" the total cost for eu companies is estimated at 200 billion while for us companies the estimate is for $41.7 billion. it has been argued that smaller businesses and startup companies might not have the financial resources to adequately comply with the gdpr, unlike the larger international technology firms (such as facebook and google) that the regulation is ostensibly meant to target first and foremost. a lack of knowledge and understanding of the regulations has also been a concern in the lead-up to its adoption. a counter-argument to this has been that companies were made aware of these changes two years prior to them coming into effect and should have had enough time to prepare.\\nthe regulations, including whether an enterprise must have a data protection officer, have been criticized for potential administrative burden and unclear compliance requirements. although data minimisation is a requirement, with pseudonymisation being one of the possible means, the regulation provides no guidance on how or what constitutes an effective data de-identification scheme, with a grey area on what would be considered as inadequate pseudonymisation subject to section 5 enforcement actions. there is also concern regarding the implementation of the gdpr in blockchain systems, as the transparent and fixed record of blockchain transactions contradicts the very nature of the gdpr. many media outlets have commented on the introduction of a \"right to explanation\" of algorithmic decisions, but legal scholars have since argued that the existence of such a right is highly unclear without judicial tests and is limited at best.\\nthe gdpr has garnered support from businesses who regard it as an opportunity to improve their data management. mark zuckerberg has also called it a \"very positive step for the internet\", and has called for gdpr-style laws to be adopted in the us. consumer rights groups such as the european consumer organisation are among the most vocal proponents of the legislation. other supporters have attributed its passage to the whistleblower edward snowden. free software advocate richard stallman has praised some aspects of the gdpr but called for additional safeguards to prevent technology companies from \"manufacturing consent\".\\n== impact ==\\nacademic experts who participated in the formulation of the gdpr wrote that the law \"is the most consequential regulatory development in information policy in a generation. the gdpr brings personal data into a complex and protective regulatory regime.\"\\ndespite having had at least two years to prepare and do so, many companies and websites changed their privacy policies and features worldwide directly prior to gdpr\\'s implementation, and customarily provided email and other notifications discussing these changes. this was criticised for resulting in a fatiguing number of communications, while experts noted that some reminder emails incorrectly asserted that new consent for data processing had to be obtained for when the gdpr took effect (any previously obtained consent to processing is valid as long as it met the regulation\\'s requirements). phishing scams also emerged using falsified versions of gdpr-related emails, and it was also argued that some gdpr notice emails may have actually been sent in violation of anti-spam laws. in march 2019, a provider of compliance software found that many websites operated by eu member state governments contained embedded tracking from ad technology providers.\\nthe deluge of gdpr-related notices also inspired memes, including those surrounding privacy policy notices being delivered by atypical means (such as a ouija board or star wars opening crawl), suggesting that santa claus\\'s \"naughty or nice\" list was a violation, and a recording of excerpts from the regulation by a former bbc radio 4 shipping forecast announcer. a blog, gdpr hall of shame, was also created to showcase unusual delivery of gdpr notices, and attempts at compliance that contained egregious violations of the regulation\\'s requirements. its author remarked that the regulation \"has a lot of nitty gritty, in-the-weeds details, but not a lot of information about how to comply\", but also acknowledged that businesses had two years to comply, making some of its responses unjustified.\\nresearch indicates that approximately 25% of software vulnerabilities have gdpr implications. since article 33 emphasizes breaches, not bugs, security experts advise companies to invest in processes and capabilities to identify vulnerabilities before they can be exploited, including coordinated vulnerability disclosure processes. an investigation of android apps\\' privacy policies, data access capabilities, and data access behaviour has shown that numerous apps display a somewhat privacy-friendlier behaviour since the gdpr was implemented, although they still retain most of their data access privileges in their code. an investigation of the norwegian consumer council into the post-gdpr data subject dashboards on social media platforms (such as google dashboard) has concluded that large social media firms deploy deceptive tactics in order to discourage their customers from sharpening their privacy settings.\\non the effective date, some websites began to block visitors from eu countries entirely (including instapaper, unroll.me, and tribune publishing-owned newspapers, such as the chicago tribune and the los angeles times) or redirect them to stripped-down versions of their services (in the case of national public radio and usa today) with limited functionality and/or no advertising so that they will not be liable. some companies, such as klout, and several online video games, ceased operations entirely to coincide with its implementation, citing the gdpr as a burden on their continued operations, especially due to the business model of the former. the volume of online behavioural advertising placements in europe fell 2540% on 25 may 2018.\\nin 2020, two years after the gdpr began its implementation, the european commission assessed that users across the eu had increased their knowledge about their rights, stating that \"69% of the population above the age of 16 in the eu have heard about the gdpr and 71% of people heard about their national data protection authority.\" the commission also found that privacy has become a competitive quality for companies which consumers are taking into account in their decisionmaking processes.\\n=== enforcement and inconsistency ===\\nfacebook and subsidiaries whatsapp and instagram, as well as google llc (targeting android), were immediately sued by max schrems\\'s non-profit noyb just hours after midnight on 25 may 2018, for their use of \"forced consent\". schrems asserts that both companies violated article 7(4) by not presenting opt-ins for data processing consent on an individualized basis, and requiring users to consent to all data processing activities (including those not strictly necessary) or would be forbidden from using the services. on 21 january 2019, google was fined 50 million by the french dpa for showing insufficient control, consent, and transparency over use of personal data for behavioural advertising. in november 2018, following a journalistic investigation into liviu dragnea, the romanian dpa (anspdcp) used a gdpr request to demand information on the rise project\\'s sources.\\nin july 2019, the british information commissioner\\'s office issued an intention to fine british airways a record 183 million (1.5% of turnover) for poor security arrangements that enabled a 2018 web skimming attack affecting around 380,000 transactions. british airways was ultimately fined a reduced amount of 20m, with the ico noting that they had \"considered both representations from ba and the economic impact of covid-19 on their business before setting a final penalty\".\\nin december 2019, politico reported that ireland and luxembourg two smaller eu countries that have had a reputation as a tax havens and (especially in the case of ireland) as a base for european subsidiaries of u.s. big tech companies were facing significant backlogs in their investigations of major foreign companies under gdpr, with ireland citing the complexity of the regulation as a factor. critics interviewed by politico also argued that enforcement was also being hampered by varying interpretations between member states, the prioritisation of guidance over enforcement by some authorities, and a lack of cooperation between member states.\\nin november 2021, irish council for civil liberties lodged a formal complaint of the commission that it is in breach of its obligation under eu law to carefully monitor how ireland applies the gdpr. until january 2023, the commission published a new commitment based on the complaint of iccl.\\nwhile companies are now subject to legal obligations, there are still various inconsistencies in the practical and technical implementation of gdpr. as an example, according to the gdpr\\'s right to access, the companies are obliged to provide data subjects with the data they gather about them. however, in a study on loyalty cards in germany, companies did not provide the data subjects with the exact information of the purchased articles. one might argue that such companies do not collect the information of the purchased articles, which does not conform with their business models. therefore, data subjects tend to see that as a gdpr violation. as a result, studies have suggested for a better control through authorities.\\naccording to the gdpr, end-users\\' consent should be valid, freely given, specific, informed and active. however, the lack of enforceability regarding obtaining lawful consents has been a challenge. as an example, a 2020 study, showed that the big tech, i.e. google, amazon, facebook, apple, and microsoft (gafam), use dark patterns in their consent obtaining mechanisms, which raises doubts regarding the lawfulness of the acquired consent.\\nin march 2021, eu member states led by france were reported to be attempting to modify the impact of the privacy regulation in europe by exempting national security agencies.\\nafter around 160 million euros in gdpr fines were imposed in 2020, the figure was already over one billion euros in 2021.\\n=== influence on foreign laws ===\\nmass adoption of these new privacy standards by multinational companies has been cited as an example of the \"brussels effect\", a phenomenon wherein european laws and regulations are used as a baseline due to their gravitas.\\nthe u.s. state of california passed the california consumer privacy act on 28 june 2018, taking effect on 1 january 2020; it grants rights to transparency and control over the collection of personal information by companies in a similar means to gdpr. critics have argued that such laws need to be implemented at the federal level to be effective, as a collection of state-level laws would have varying standards that would complicate compliance. two other u.s. states have since enacted similar legislation: virginia passed the consumer data privacy act on 2 march 2021, and colorado enacted the colorado privacy act on 8 july 2021.\\nthe republic of turkey, a candidate for european union membership, has adopted the law on the protection of personal data on 24 march 2016 in compliance with the eu acquis.\\nchina\\'s 2021 personal information protection law is the country\\'s first comprehensive law on personal data rights and is modeled after the gdpr.:131\\nswitzerland will also adopt a new data protection law that largely follows eu\\'s gdpr.\\n=== website views and revenue ===\\na 2024 study found that gdpr reduced both eu user website page views and website revenue by 12%.\\n== timeline ==\\n25 january 2012: the proposal for the gdpr was released.\\n21 october 2013: the european parliament committee on civil liberties, justice and home affairs (libe) had its orientation vote.\\n15 december 2015: negotiations between the european parliament, council and commission (formal trilogue meeting) resulted in a joint proposal.\\n17 december 2015: the european parliament\\'s libe committee voted for the negotiations between the three parties.\\n8 april 2016: adoption by the council of the european union. the only member state voting against was austria, which argued that the level of data protection in some respects falls short compared to the 1995 directive.\\n14 april 2016: adoption by the european parliament.\\n24 may 2016: the regulation entered into force, 20 days after its publication in the official journal of the european union.\\n6 may 2018: data protection directive for the police and justice sectors into national legislation applicable from this day.\\n25 may 2018: its provisions became directly applicable in all member states, two years after the regulations enter into force.\\n20 july 2018: the gdpr became valid in the eea countries (iceland, liechtenstein, and norway), after the eea joint committee and the three countries agreed to follow the regulation.\\n== eu digital single market ==\\nthe eu digital single market strategy relates to \"digital economy\" activities related to businesses and people in the eu. as part of the strategy, the gdpr and the nis directive all apply from 25 may 2018. the proposed eprivacy regulation was also planned to be applicable from 25 may 2018, but will be delayed for several months. the eidas regulation is also part of the strategy.\\nin an initial assessment, the european council has stated that the gdpr should be considered \"a prerequisite for the development of future digital policy initiatives\".\\n== see also ==\\nsimilar privacy laws in other countries:\\ngeneral personal data protection law (lgpd) (brazil)\\ncalifornia consumer privacy act (ccpa)\\nchildren\\'s online privacy protection act (coppa) (usa)\\npersonal information protection law (pipl) (china)\\nnigeria data protection act, 2023 (ndp act) (nigeria)\\npersonal data protection act 2012 (pdpa) (singapore)\\nprotection of personal information act (popia) (south africa)\\npersonal data protection act, no. 9 of 2022 (pdpa) (sri lanka)\\nrelated eu regulation:\\ndata act, proposed eu law from 2022\\ndata governance act, proposed eu law from 2020\\ndigital markets act\\ndigital services act\\neuus privacy shield\\neuropean data protection board (edpb)\\neuropean health data space\\nprivacy and electronic communications directive 2002 (eprivacy directive, epd)\\nrelated concepts:\\nconvention on cybercrime\\ndata portability\\ndo not track legislation\\neprivacy regulation\\nprivacy impact assessment\\ncompliance tactics by certain companies:\\nconsent or pay\\n== footnotes ==\\n== references ==\\n== external links ==\\ngeneral data protection regulation consolidated text on eur-lex\\ngeneral data protection regulation initial legal act in the ojeu\\ndata protection, european commission\\nprocedure 2012/0011/cod, eur-lex\\nhandbook on european data protection law, european union agency for fundamental rights')]"
            ]
          },
          "execution_count": 56,
          "metadata": {},
          "output_type": "execute_result"
        }
      ],
      "source": [
        "document"
      ]
    },
    {
      "cell_type": "code",
      "execution_count": 57,
      "metadata": {
        "id": "gUj7_pv1MlC0"
      },
      "outputs": [],
      "source": [
        "text_splitter = RecursiveCharacterTextSplitter(chunk_size=500, chunk_overlap=20)\n",
        "texts = text_splitter.split_documents(document)"
      ]
    },
    {
      "cell_type": "code",
      "execution_count": 58,
      "metadata": {
        "colab": {
          "base_uri": "https://localhost:8080/"
        },
        "id": "HHw8cBBR99P2",
        "outputId": "fccc95db-83b7-4fd5-8a49-1038b77d105f"
      },
      "outputs": [
        {
          "data": {
            "text/plain": [
              "145"
            ]
          },
          "execution_count": 58,
          "metadata": {},
          "output_type": "execute_result"
        }
      ],
      "source": [
        "len(texts)"
      ]
    },
    {
      "cell_type": "code",
      "execution_count": 59,
      "metadata": {
        "id": "v7ZlBfmTZjfx"
      },
      "outputs": [],
      "source": [
        "# Collection name\n",
        "collection_name = \"DataProtection_collection\""
      ]
    },
    {
      "cell_type": "code",
      "execution_count": 60,
      "metadata": {
        "id": "C0jEPd3VZjjF"
      },
      "outputs": [],
      "source": [
        "# Check if the collection already exists\n",
        "if client.collection_exists(collection_name):\n",
        "    # Create a collection with the calculated vector size\n",
        "    client.delete_collection(collection_name=collection_name)\n",
        "    client.create_collection(\n",
        "            collection_name=collection_name,\n",
        "            vectors_config=VectorParams(size=vector_size, distance=\"Dot\")\n",
        "        )\n",
        "else:\n",
        "    client.create_collection(\n",
        "            collection_name=collection_name,\n",
        "            vectors_config=VectorParams(size=vector_size, distance=\"Dot\")\n",
        "        )"
      ]
    },
    {
      "cell_type": "code",
      "execution_count": 61,
      "metadata": {
        "colab": {
          "base_uri": "https://localhost:8080/"
        },
        "id": "pmqJjWUGaYww",
        "outputId": "201f2a34-7e41-4fb8-a249-9f8318adbf97"
      },
      "outputs": [
        {
          "name": "stdout",
          "output_type": "stream",
          "text": [
            "Time taken is: 4.9224090576171875 seconds\n"
          ]
        }
      ],
      "source": [
        "start =time.time()\n",
        "# Insert documents into the collection\n",
        "qdrant = Qdrant.from_documents(texts,embeddings_model,url=url,prefer_grpc=False,api_key=qdrant_api_key,collection_name=collection_name,force_recreate=False,distance_func=\"Dot\")\n",
        "end =time.time()\n",
        "print(\"Time taken is:\", end-start,\"seconds\")"
      ]
    },
    {
      "cell_type": "code",
      "execution_count": 62,
      "metadata": {
        "id": "3OJ8EBi-MlC2"
      },
      "outputs": [],
      "source": [
        "query = \"What is GDPR?\"\n",
        "query_vector = embeddings_model.embed_query(query)"
      ]
    },
    {
      "cell_type": "code",
      "execution_count": 63,
      "metadata": {
        "id": "LEMu3dJU-Lxf"
      },
      "outputs": [],
      "source": [
        "scored_points = client.search( collection_name=collection_name,\n",
        "                        query_vector=query_vector,\n",
        "                        limit=3,\n",
        "                        with_payload=True\n",
        "                        )"
      ]
    },
    {
      "cell_type": "code",
      "execution_count": 64,
      "metadata": {
        "colab": {
          "base_uri": "https://localhost:8080/"
        },
        "id": "iCH2QlK7-L5Q",
        "outputId": "1a28448d-2008-4291-a61b-f5092924bddd"
      },
      "outputs": [
        {
          "data": {
            "text/plain": [
              "ScoredPoint(id='24a79b3e-a972-45eb-9835-5908a5dc0387', version=0, score=0.70240414, payload={'metadata': {'source': 'https://en.wikipedia.org/wiki/General_Data_Protection_Regulation', 'title': 'General Data Protection Regulation'}, 'page_content': \"the general data protection regulation (regulation (eu) 2016/679, abbreviated gdpr) is a european union regulation on information privacy in the european union (eu) and the european economic area (eea). the gdpr is an important component of eu privacy law and human rights law, in particular article 8(1) of the charter of fundamental rights of the european union. it also governs the transfer of personal data outside the eu and eea. the gdpr's goals are to enhance individuals' control and rights\"}, vector=None, shard_key=None, order_value=None)"
            ]
          },
          "execution_count": 64,
          "metadata": {},
          "output_type": "execute_result"
        }
      ],
      "source": [
        "scored_points[0]"
      ]
    },
    {
      "cell_type": "code",
      "execution_count": 65,
      "metadata": {
        "colab": {
          "base_uri": "https://localhost:8080/"
        },
        "id": "mQt7qR3_-L7c",
        "outputId": "ee046d93-20c3-4ee7-deee-c127032f95e1"
      },
      "outputs": [
        {
          "name": "stdout",
          "output_type": "stream",
          "text": [
            "Score: 0.70240414\n",
            "Page Content: the general data protection regulation (regulation (eu) 2016/679, abbreviated gdpr) is a european union regulation on information privacy in the european union (eu) and the european economic area (eea). the gdpr is an important component of eu privacy law and human rights law, in particular article 8(1) of the charter of fundamental rights of the european union. it also governs the transfer of personal data outside the eu and eea. the gdpr's goals are to enhance individuals' control and rights\n",
            "\n",
            "Score: 0.6717965\n",
            "Page Content: 2(2)(a) and 88 of the gdpr).\n",
            "\n",
            "Score: 0.636055\n",
            "Page Content: related concepts:\n",
            "convention on cybercrime\n",
            "data portability\n",
            "do not track legislation\n",
            "eprivacy regulation\n",
            "privacy impact assessment\n",
            "compliance tactics by certain companies:\n",
            "consent or pay\n",
            "== footnotes ==\n",
            "== references ==\n",
            "== external links ==\n",
            "general data protection regulation consolidated text on eur-lex\n",
            "general data protection regulation initial legal act in the ojeu\n",
            "data protection, european commission\n",
            "procedure 2012/0011/cod, eur-lex\n",
            "\n"
          ]
        }
      ],
      "source": [
        "for point in scored_points:\n",
        "    score = point.score\n",
        "    page_content = point.payload['page_content']\n",
        "    print(f\"Score: {score}\")\n",
        "    print(f\"Page Content: {page_content}\\n\")"
      ]
    },
    {
      "cell_type": "code",
      "execution_count": 65,
      "metadata": {
        "id": "9aP0zpOm-L9T"
      },
      "outputs": [],
      "source": []
    },
    {
      "cell_type": "code",
      "execution_count": 66,
      "metadata": {
        "id": "zpSdLJ0tMlC2"
      },
      "outputs": [],
      "source": [
        "# from langchain_openai import ChatOpenAI\n",
        "# from langchain.chains import RetrievalQA\n",
        "# # completion llm\n",
        "# llm = ChatOpenAI(\n",
        "#     openai_api_key=os.getenv(\"OPENAI_API_KEY\"),\n",
        "#     model_name='gpt-4o-mini',\n",
        "#     temperature=0.0\n",
        "# )\n",
        "# qa = RetrievalQA.from_chain_type(\n",
        "#     llm=llm,\n",
        "#     chain_type=\"stuff\",\n",
        "#     retriever=vectorstore.as_retriever()\n",
        "# )\n",
        "# qa.run(query)"
      ]
    },
    {
      "cell_type": "markdown",
      "metadata": {
        "id": "RSzfBULxMlC2"
      },
      "source": [
        "#### URLs"
      ]
    },
    {
      "cell_type": "code",
      "execution_count": 67,
      "metadata": {
        "colab": {
          "base_uri": "https://localhost:8080/"
        },
        "id": "UJ4PburhMlC2",
        "outputId": "6ec7634a-b6b2-43f7-cc56-75119aa0aa97"
      },
      "outputs": [
        {
          "name": "stdout",
          "output_type": "stream",
          "text": [
            "Enter Link:https://www.proofpoint.com/us/threat-reference/ccpa-compliance#:~:text=CCPA%20compliance%20is%20a%20set%20of%20regulations%20that,implement%20reasonable%20security%20measures%20to%20protect%20user%20data\n",
            "URL: ['https://www.proofpoint.com/us/threat-reference/ccpa-compliance#:~:text=CCPA%20compliance%20is%20a%20set%20of%20regulations%20that,implement%20reasonable%20security%20measures%20to%20protect%20user%20data']\n"
          ]
        }
      ],
      "source": [
        "#n_weblinks = int(input(\"How many web links you want the RAG agent to refer for response generation & insights? Enter here: \"))\n",
        "urls = []\n",
        "inp = input(\"Enter Link:\")\n",
        "urls.append(inp)\n",
        "print(\"URL:\", urls)"
      ]
    },
    {
      "cell_type": "code",
      "execution_count": 68,
      "metadata": {
        "colab": {
          "base_uri": "https://localhost:8080/"
        },
        "id": "gVs0xB0GMlC2",
        "outputId": "0e20ff36-3526-4aa0-a0eb-78d4dc8ef12e"
      },
      "outputs": [
        {
          "name": "stderr",
          "output_type": "stream",
          "text": [
            "100%|██████████| 1/1 [00:00<00:00,  4.15it/s]\n"
          ]
        }
      ],
      "source": [
        "loader = UnstructuredURLLoader(urls=urls, show_progress_bar=True)\n",
        "loaded_url= loader.load()"
      ]
    },
    {
      "cell_type": "code",
      "execution_count": 69,
      "metadata": {
        "colab": {
          "base_uri": "https://localhost:8080/"
        },
        "id": "745B72Ao_I_m",
        "outputId": "865991de-9f98-4ccb-8c03-22c47b6e829f"
      },
      "outputs": [
        {
          "data": {
            "text/plain": [
              "{'source': 'https://www.proofpoint.com/us/threat-reference/ccpa-compliance#:~:text=CCPA%20compliance%20is%20a%20set%20of%20regulations%20that,implement%20reasonable%20security%20measures%20to%20protect%20user%20data'}"
            ]
          },
          "execution_count": 69,
          "metadata": {},
          "output_type": "execute_result"
        }
      ],
      "source": [
        "loaded_url[0].metadata"
      ]
    },
    {
      "cell_type": "code",
      "execution_count": 70,
      "metadata": {
        "colab": {
          "base_uri": "https://localhost:8080/"
        },
        "id": "oqXZSyjG_JCN",
        "outputId": "ae2de094-9144-4e99-c35d-ddbb86471324"
      },
      "outputs": [
        {
          "data": {
            "text/plain": [
              "14402"
            ]
          },
          "execution_count": 70,
          "metadata": {},
          "output_type": "execute_result"
        }
      ],
      "source": [
        "raw_text =loaded_url[0].page_content\n",
        "len(raw_text)"
      ]
    },
    {
      "cell_type": "code",
      "execution_count": 71,
      "metadata": {
        "id": "mVTV-sKZ_JEq"
      },
      "outputs": [],
      "source": [
        "clean_url_text = clean(text=raw_text,\n",
        "            fix_unicode=True,\n",
        "            to_ascii=True,\n",
        "            lower=True,\n",
        "            no_line_breaks=False,\n",
        "            no_urls=False,\n",
        "            no_emails=False,\n",
        "            no_phone_numbers=False,\n",
        "            no_numbers=False,\n",
        "            no_digits=False,\n",
        "            no_currency_symbols=False,\n",
        "            no_punct=False,\n",
        "            lang=\"en\"\n",
        "            )"
      ]
    },
    {
      "cell_type": "code",
      "execution_count": 72,
      "metadata": {
        "colab": {
          "base_uri": "https://localhost:8080/"
        },
        "id": "bS3tU0hC_JH3",
        "outputId": "a65fb430-96b6-48b0-efe0-32530dd6ddde"
      },
      "outputs": [
        {
          "data": {
            "text/plain": [
              "14270"
            ]
          },
          "execution_count": 72,
          "metadata": {},
          "output_type": "execute_result"
        }
      ],
      "source": [
        "len(clean_url_text)"
      ]
    },
    {
      "cell_type": "code",
      "execution_count": 73,
      "metadata": {
        "id": "il6Ri8qP_kLf"
      },
      "outputs": [],
      "source": [
        "from langchain.schema import Document\n",
        "metadata = {\n",
        "    \"source\": loaded_url[0].metadata['source']\n",
        "}\n",
        "\n",
        "doc = Document(page_content=clean_url_text, metadata=metadata)\n",
        "document =[doc]"
      ]
    },
    {
      "cell_type": "code",
      "execution_count": 74,
      "metadata": {
        "id": "kzCc68m-MlC2"
      },
      "outputs": [],
      "source": [
        "text_splitter = RecursiveCharacterTextSplitter(chunk_size=500, chunk_overlap=20)\n",
        "url_texts = text_splitter.split_documents(document)\n",
        "#texts"
      ]
    },
    {
      "cell_type": "code",
      "execution_count": 75,
      "metadata": {
        "colab": {
          "base_uri": "https://localhost:8080/"
        },
        "id": "CA3SOjg7cRV9",
        "outputId": "b1b6e84a-b0e4-4b7c-f271-065a0bfd0a13"
      },
      "outputs": [
        {
          "data": {
            "text/plain": [
              "37"
            ]
          },
          "execution_count": 75,
          "metadata": {},
          "output_type": "execute_result"
        }
      ],
      "source": [
        "len(url_texts)"
      ]
    },
    {
      "cell_type": "code",
      "execution_count": 76,
      "metadata": {
        "colab": {
          "base_uri": "https://localhost:8080/"
        },
        "id": "LUllgEuTcRZa",
        "outputId": "87c8fa1b-91d3-4504-d0ce-d22973096b8a"
      },
      "outputs": [
        {
          "name": "stdout",
          "output_type": "stream",
          "text": [
            "Time taken is: 1.606715440750122 seconds\n"
          ]
        }
      ],
      "source": [
        "start =time.time()\n",
        "# Insert documents into the collection\n",
        "qdrant = Qdrant.from_documents(url_texts,embeddings_model,url=url,prefer_grpc=False,api_key=qdrant_api_key,collection_name=collection_name,force_recreate=False,distance_func=\"Dot\")\n",
        "end =time.time()\n",
        "print(\"Time taken is:\", end-start,\"seconds\")"
      ]
    },
    {
      "cell_type": "code",
      "execution_count": 77,
      "metadata": {
        "id": "RGzSDS6kMlC3"
      },
      "outputs": [],
      "source": [
        "query = \"What is CCPA?\"\n",
        "query_vector = embeddings_model.embed_query(query)"
      ]
    },
    {
      "cell_type": "code",
      "execution_count": 78,
      "metadata": {
        "id": "yhYvDJU3A5cT"
      },
      "outputs": [],
      "source": [
        "scored_points = client.search( collection_name=collection_name,\n",
        "                        query_vector=query_vector,\n",
        "                        limit=3,\n",
        "                        with_payload=True\n",
        "                        )"
      ]
    },
    {
      "cell_type": "code",
      "execution_count": 79,
      "metadata": {
        "colab": {
          "base_uri": "https://localhost:8080/"
        },
        "id": "hMs46K-oA5go",
        "outputId": "f6d0c21d-9361-4d63-e238-8c9879f8d7e0"
      },
      "outputs": [
        {
          "data": {
            "text/plain": [
              "ScoredPoint(id='923ff0d4-9338-48e5-a614-5b5356b5b5e0', version=3, score=0.6975296, payload={'metadata': {'source': 'https://www.proofpoint.com/us/threat-reference/ccpa-compliance#:~:text=CCPA%20compliance%20is%20a%20set%20of%20regulations%20that,implement%20reasonable%20security%20measures%20to%20protect%20user%20data'}, 'page_content': \"glossary\\nwhat is ccpa compliance?\\nwhat is ccpa compliance?\\naccess the archiving & compliance solution brief\\nstart your free trial\\ntable of contents\\ndefinition\\nwho must comply with ccpa?\\nwhat does ccpa cover?\\nwhat are key privacy provisions in ccpa?\\nwhat's the difference between ccpa vs. gdpr?\\nwhat is ccpa compliance training?\\nwhat are ccpa penalties for violating compliance requirements?\\nwhat does ccpa mean for cybersecurity?\\nhow to become ccpa compliant\\nhow proofpoint can help\\ndefinition\"}, vector=None, shard_key=None, order_value=None)"
            ]
          },
          "execution_count": 79,
          "metadata": {},
          "output_type": "execute_result"
        }
      ],
      "source": [
        "scored_points[0]"
      ]
    },
    {
      "cell_type": "code",
      "execution_count": 80,
      "metadata": {
        "colab": {
          "base_uri": "https://localhost:8080/"
        },
        "id": "N1r5jFhCA5iW",
        "outputId": "686b8e9a-7cb4-433d-e384-56c6fe9a6740"
      },
      "outputs": [
        {
          "name": "stdout",
          "output_type": "stream",
          "text": [
            "Score: 0.6975296\n",
            "Page Content: glossary\n",
            "what is ccpa compliance?\n",
            "what is ccpa compliance?\n",
            "access the archiving & compliance solution brief\n",
            "start your free trial\n",
            "table of contents\n",
            "definition\n",
            "who must comply with ccpa?\n",
            "what does ccpa cover?\n",
            "what are key privacy provisions in ccpa?\n",
            "what's the difference between ccpa vs. gdpr?\n",
            "what is ccpa compliance training?\n",
            "what are ccpa penalties for violating compliance requirements?\n",
            "what does ccpa mean for cybersecurity?\n",
            "how to become ccpa compliant\n",
            "how proofpoint can help\n",
            "definition\n",
            "\n",
            "Score: 0.6972457\n",
            "Page Content: ccpa compliance is a set of regulations that organizations must follow to protect the data privacy rights of california residents. it requires organizations to be transparent about their data collection and usage practices, to respond to consumer requests, and to implement reasonable security measures to protect user data.\n",
            "cybersecurity education and training begins here\n",
            "start a free trial\n",
            "here's how your free trial works:\n",
            "\n",
            "Score: 0.6650616\n",
            "Page Content: definition\n",
            "the california consumer privacy act (ccpa) was enacted in 2018 to combat the numerous data breaches in big tech from poorly defined access controls and privacy management. modeled after the european union (eu) general data protection regulation (gdpr), the new regulations give users the right to know when and how their information is being collected and sold, as well as the ability to opt-out.\n",
            "\n"
          ]
        }
      ],
      "source": [
        "for point in scored_points:\n",
        "    score = point.score\n",
        "    page_content = point.payload['page_content']\n",
        "    print(f\"Score: {score}\")\n",
        "    print(f\"Page Content: {page_content}\\n\")"
      ]
    },
    {
      "cell_type": "code",
      "execution_count": 81,
      "metadata": {
        "id": "k0bJX2SuMlC3"
      },
      "outputs": [],
      "source": [
        "# from langchain_openai import ChatOpenAI\n",
        "# from langchain.chains import RetrievalQA\n",
        "# # completion llm\n",
        "# llm = ChatOpenAI(\n",
        "#     openai_api_key=os.getenv(\"OPENAI_API_KEY\"),\n",
        "#     model_name='gpt-4o-mini',\n",
        "#     temperature=0.0\n",
        "# )\n",
        "# qa = RetrievalQA.from_chain_type(\n",
        "#     llm=llm,\n",
        "#     chain_type=\"stuff\",\n",
        "#     retriever=vectorstore.as_retriever()\n",
        "# )\n",
        "# print(qa.run(query))"
      ]
    },
    {
      "cell_type": "markdown",
      "metadata": {
        "id": "-6oRBDjtBzlq"
      },
      "source": [
        "**HEALTHCARE**"
      ]
    },
    {
      "cell_type": "markdown",
      "metadata": {
        "id": "mglQ3Md-emD4"
      },
      "source": [
        "**WIKIPEDIA**"
      ]
    },
    {
      "cell_type": "code",
      "execution_count": 82,
      "metadata": {
        "id": "TaApZSS0eoPT"
      },
      "outputs": [],
      "source": [
        "#Food_and_Drug_Administration\n",
        "docs = WikipediaLoader(query=\"Food_and_Drug_Administration\", doc_content_chars_max = 100000, load_max_docs=1).load()\n",
        "\n"
      ]
    },
    {
      "cell_type": "code",
      "execution_count": 83,
      "metadata": {
        "colab": {
          "base_uri": "https://localhost:8080/"
        },
        "id": "BSTkLzBWfXEK",
        "outputId": "c4cdaeb3-72b9-4ec6-9abc-85338a9b5ed1"
      },
      "outputs": [
        {
          "data": {
            "text/plain": [
              "{'title': 'Food and Drug Administration',\n",
              " 'summary': \"The United States Food and Drug Administration (FDA or US FDA) is a federal agency of the Department of Health and Human Services. The FDA is responsible for protecting and promoting public health through the control and supervision of food safety, tobacco products, caffeine products, dietary supplements, prescription and over-the-counter pharmaceutical drugs (medications), vaccines, biopharmaceuticals, blood transfusions, medical devices, electromagnetic radiation emitting devices (ERED), cosmetics, animal foods & feed and veterinary products.\\nThe FDA's primary focus is enforcement of the Federal Food, Drug, and Cosmetic Act (FD&C). However, the agency also enforces other laws, notably Section 361 of the Public Health Service Act as well as associated regulations. Much of this regulatory-enforcement work is not directly related to food or drugs but involves other factors like regulating lasers, cellular phones, and condoms. In addition, the FDA takes control of diseases in the contexts varying from household pets to human sperm donated for use in assisted reproduction.\\nThe FDA is led by the Commissioner of Food and Drugs, appointed by the President with the advice and consent of the Senate. The Commissioner reports to the Secretary of Health and Human Services. Robert Califf is the current Commissioner as of 17 February 2022.\\nThe FDA's headquarters is located in the White Oak area of Silver Spring, Maryland. The agency has 223 field offices and 13 laboratories located across the 50 states, the United States Virgin Islands, and Puerto Rico. In 2008, the FDA began to post employees to foreign countries, including China, India, Costa Rica, Chile, Belgium, and the United Kingdom.\",\n",
              " 'source': 'https://en.wikipedia.org/wiki/Food_and_Drug_Administration'}"
            ]
          },
          "execution_count": 83,
          "metadata": {},
          "output_type": "execute_result"
        }
      ],
      "source": [
        "docs[0].metadata  # meta-information of the Document"
      ]
    },
    {
      "cell_type": "code",
      "execution_count": 84,
      "metadata": {
        "colab": {
          "base_uri": "https://localhost:8080/",
          "height": 36
        },
        "id": "hQ8tvPPOPN1L",
        "outputId": "ec5a0a5b-5e71-41a9-9a94-018423d2b8e5"
      },
      "outputs": [
        {
          "data": {
            "application/vnd.google.colaboratory.intrinsic+json": {
              "type": "string"
            },
            "text/plain": [
              "'https://en.wikipedia.org/wiki/Food_and_Drug_Administration'"
            ]
          },
          "execution_count": 84,
          "metadata": {},
          "output_type": "execute_result"
        }
      ],
      "source": [
        "docs[0].metadata['source']"
      ]
    },
    {
      "cell_type": "code",
      "execution_count": 85,
      "metadata": {
        "colab": {
          "base_uri": "https://localhost:8080/"
        },
        "id": "iTVHI1ViPN3t",
        "outputId": "4ef48542-01f2-4128-f993-fad2476c43fb"
      },
      "outputs": [
        {
          "data": {
            "text/plain": [
              "50519"
            ]
          },
          "execution_count": 85,
          "metadata": {},
          "output_type": "execute_result"
        }
      ],
      "source": [
        "raw_text =docs[0].page_content\n",
        "len(raw_text)"
      ]
    },
    {
      "cell_type": "code",
      "execution_count": 86,
      "metadata": {
        "id": "YRHXD3BePN6b"
      },
      "outputs": [],
      "source": [
        "clean_text = clean(text=raw_text,\n",
        "            fix_unicode=True,\n",
        "            to_ascii=True,\n",
        "            lower=True,\n",
        "            no_line_breaks=False,\n",
        "            no_urls=False,\n",
        "            no_emails=False,\n",
        "            no_phone_numbers=False,\n",
        "            no_numbers=False,\n",
        "            no_digits=False,\n",
        "            no_currency_symbols=False,\n",
        "            no_punct=False,\n",
        "            lang=\"en\"\n",
        "            )"
      ]
    },
    {
      "cell_type": "code",
      "execution_count": 87,
      "metadata": {
        "colab": {
          "base_uri": "https://localhost:8080/"
        },
        "id": "cKoitTWoPN93",
        "outputId": "f86fd416-da7e-426a-da70-116fb37b76a2"
      },
      "outputs": [
        {
          "data": {
            "text/plain": [
              "50388"
            ]
          },
          "execution_count": 87,
          "metadata": {},
          "output_type": "execute_result"
        }
      ],
      "source": [
        "len(clean_text)"
      ]
    },
    {
      "cell_type": "code",
      "execution_count": 88,
      "metadata": {
        "id": "ISAlE0U6QAcY"
      },
      "outputs": [],
      "source": [
        "from langchain.schema import Document\n",
        "metadata = {\n",
        "    \"source\": docs[0].metadata['source'],\n",
        "    \"title\": docs[0].metadata['title']\n",
        "}\n",
        "\n",
        "custom_doc = Document(page_content=clean_text, metadata=metadata)\n",
        "document =[custom_doc]"
      ]
    },
    {
      "cell_type": "code",
      "execution_count": 89,
      "metadata": {
        "colab": {
          "base_uri": "https://localhost:8080/"
        },
        "id": "gZpve71Pfe9k",
        "outputId": "6e773b8b-303d-44e7-fa2d-fad2d6f883e1"
      },
      "outputs": [
        {
          "data": {
            "text/plain": [
              "1"
            ]
          },
          "execution_count": 89,
          "metadata": {},
          "output_type": "execute_result"
        }
      ],
      "source": [
        "len(document)"
      ]
    },
    {
      "cell_type": "code",
      "execution_count": 90,
      "metadata": {
        "id": "Gs9Fpu2nfe_x"
      },
      "outputs": [],
      "source": [
        "text_splitter = RecursiveCharacterTextSplitter(chunk_size=500, chunk_overlap=20)\n",
        "texts = text_splitter.split_documents(document)"
      ]
    },
    {
      "cell_type": "code",
      "execution_count": 91,
      "metadata": {
        "colab": {
          "base_uri": "https://localhost:8080/"
        },
        "id": "BNieh-FlffDT",
        "outputId": "f3b5668d-7fc2-4ed7-d6d6-591f657feae3"
      },
      "outputs": [
        {
          "data": {
            "text/plain": [
              "152"
            ]
          },
          "execution_count": 91,
          "metadata": {},
          "output_type": "execute_result"
        }
      ],
      "source": [
        "len(texts)"
      ]
    },
    {
      "cell_type": "code",
      "execution_count": 92,
      "metadata": {
        "id": "6Rz9KgKNfz2d"
      },
      "outputs": [],
      "source": [
        "collection_name = \"Healthcare_collection\""
      ]
    },
    {
      "cell_type": "code",
      "execution_count": 93,
      "metadata": {
        "id": "fJT-drwOg0sJ"
      },
      "outputs": [],
      "source": [
        "# Check if the collection already exists\n",
        "if client.collection_exists(collection_name):\n",
        "    # Create a collection with the calculated vector size\n",
        "    client.delete_collection(collection_name=collection_name)\n",
        "    client.create_collection(\n",
        "            collection_name=collection_name,\n",
        "            vectors_config=VectorParams(size=vector_size, distance=\"Dot\")\n",
        "        )\n",
        "else:\n",
        "    client.create_collection(\n",
        "            collection_name=collection_name,\n",
        "            vectors_config=VectorParams(size=vector_size, distance=\"Dot\")\n",
        "        )"
      ]
    },
    {
      "cell_type": "code",
      "execution_count": 94,
      "metadata": {
        "colab": {
          "base_uri": "https://localhost:8080/"
        },
        "id": "rLbhvhXSg6ZJ",
        "outputId": "f667b7e6-5d70-486a-ad50-7b4c6f8cfd05"
      },
      "outputs": [
        {
          "name": "stdout",
          "output_type": "stream",
          "text": [
            "Time taken is: 3.8517978191375732 seconds\n"
          ]
        }
      ],
      "source": [
        "start =time.time()\n",
        "# Insert documents into the collection\n",
        "qdrant = Qdrant.from_documents(texts,embeddings_model,url=url,prefer_grpc=False,api_key=qdrant_api_key,collection_name=collection_name,force_recreate=False,distance_func=\"Dot\")\n",
        "end =time.time()\n",
        "print(\"Time taken is:\", end-start,\"seconds\")"
      ]
    },
    {
      "cell_type": "code",
      "execution_count": 95,
      "metadata": {
        "id": "_5fvgJiZg-ij"
      },
      "outputs": [],
      "source": [
        "query = \"Summarize Post-market safety surveillance?\"\n",
        "query_vector = embeddings_model.embed_query(query)"
      ]
    },
    {
      "cell_type": "code",
      "execution_count": 96,
      "metadata": {
        "id": "tBeOFNtYhotx"
      },
      "outputs": [],
      "source": [
        "scored_points = client.search( collection_name=collection_name,\n",
        "                        query_vector=query_vector,\n",
        "                        limit=3,\n",
        "                        with_payload=True\n",
        "                        )"
      ]
    },
    {
      "cell_type": "code",
      "execution_count": 97,
      "metadata": {
        "colab": {
          "base_uri": "https://localhost:8080/"
        },
        "id": "Kj_9iuo1Qr28",
        "outputId": "81cc5d4c-5d96-4b5f-9a55-382bc2c27fd8"
      },
      "outputs": [
        {
          "data": {
            "text/plain": [
              "ScoredPoint(id='807862dc-63d5-4779-a386-1113d526b260', version=1, score=0.79561704, payload={'metadata': {'source': 'https://en.wikipedia.org/wiki/Food_and_Drug_Administration', 'title': 'Food and Drug Administration'}, 'page_content': '=== post-marketing drug safety monitoring ==='}, vector=None, shard_key=None, order_value=None)"
            ]
          },
          "execution_count": 97,
          "metadata": {},
          "output_type": "execute_result"
        }
      ],
      "source": [
        "scored_points[0]"
      ]
    },
    {
      "cell_type": "code",
      "execution_count": 98,
      "metadata": {
        "colab": {
          "base_uri": "https://localhost:8080/"
        },
        "id": "MQpGEmAHQr5B",
        "outputId": "0a677b7a-acef-41d7-f1ca-40b32d17971c"
      },
      "outputs": [
        {
          "name": "stdout",
          "output_type": "stream",
          "text": [
            "Score: 0.79561704\n",
            "Page Content: === post-marketing drug safety monitoring ===\n",
            "\n",
            "Score: 0.68829995\n",
            "Page Content: fda's procedures for pre- and post-market drug safety regulation.\n",
            "\n",
            "Score: 0.5879502\n",
            "Page Content: while this remains the primary tool of post-market safety surveillance, fda requirements for post-marketing risk management are increasing. as a condition of approval, a sponsor may be required to conduct additional clinical trials, called phase iv trials. in some cases, the fda requires risk management plans called risk evaluation and mitigation strategies (rems) for some drugs that require actions to be taken to ensure that the drug is used safely. for example, thalidomide can cause birth\n",
            "\n"
          ]
        }
      ],
      "source": [
        "for point in scored_points:\n",
        "    score = point.score\n",
        "    page_content = point.payload['page_content']\n",
        "    print(f\"Score: {score}\")\n",
        "    print(f\"Page Content: {page_content}\\n\")"
      ]
    },
    {
      "cell_type": "markdown",
      "metadata": {
        "id": "D_oB5kiuhsHA"
      },
      "source": [
        "**URLS**"
      ]
    },
    {
      "cell_type": "code",
      "execution_count": 99,
      "metadata": {
        "colab": {
          "base_uri": "https://localhost:8080/"
        },
        "id": "KLrJX5TththE",
        "outputId": "6dd7715f-3979-4059-ef77-9e450ae440ed"
      },
      "outputs": [
        {
          "name": "stdout",
          "output_type": "stream",
          "text": [
            "Enter Link:https://burgeon.co.in/blog/regulatory-compliance-in-healthcare-industry/\n",
            "URL: ['https://burgeon.co.in/blog/regulatory-compliance-in-healthcare-industry/']\n"
          ]
        }
      ],
      "source": [
        "#n_weblinks = int(input(\"How many web links you want the RAG agent to refer for response generation & insights? Enter here: \"))\n",
        "urls = []\n",
        "inp = input(\"Enter Link:\")\n",
        "urls.append(inp)\n",
        "print(\"URL:\", urls)"
      ]
    },
    {
      "cell_type": "code",
      "execution_count": 100,
      "metadata": {
        "colab": {
          "base_uri": "https://localhost:8080/"
        },
        "id": "skn3elIQhzyL",
        "outputId": "3de056b1-b026-473b-b273-8f0314d5e22c"
      },
      "outputs": [
        {
          "name": "stderr",
          "output_type": "stream",
          "text": [
            "100%|██████████| 1/1 [00:05<00:00,  5.60s/it]\n"
          ]
        }
      ],
      "source": [
        "loader = UnstructuredURLLoader(urls=urls, show_progress_bar=True)\n",
        "loaded_url = loader.load()"
      ]
    },
    {
      "cell_type": "code",
      "execution_count": 101,
      "metadata": {
        "colab": {
          "base_uri": "https://localhost:8080/"
        },
        "id": "ReL9s4yARRON",
        "outputId": "679332a8-b908-4438-b99e-287ade19ff5b"
      },
      "outputs": [
        {
          "data": {
            "text/plain": [
              "{'source': 'https://burgeon.co.in/blog/regulatory-compliance-in-healthcare-industry/'}"
            ]
          },
          "execution_count": 101,
          "metadata": {},
          "output_type": "execute_result"
        }
      ],
      "source": [
        "loaded_url[0].metadata"
      ]
    },
    {
      "cell_type": "code",
      "execution_count": 102,
      "metadata": {
        "colab": {
          "base_uri": "https://localhost:8080/"
        },
        "id": "yeJL1kkdRRQ0",
        "outputId": "65a1a20c-bf06-46ac-ce25-1127abb23231"
      },
      "outputs": [
        {
          "data": {
            "text/plain": [
              "16831"
            ]
          },
          "execution_count": 102,
          "metadata": {},
          "output_type": "execute_result"
        }
      ],
      "source": [
        "raw_text =loaded_url[0].page_content\n",
        "len(raw_text)"
      ]
    },
    {
      "cell_type": "code",
      "execution_count": 103,
      "metadata": {
        "id": "gNHwokrvRRUC"
      },
      "outputs": [],
      "source": [
        "clean_url_text = clean(text=raw_text,\n",
        "            fix_unicode=True,\n",
        "            to_ascii=True,\n",
        "            lower=True,\n",
        "            no_line_breaks=False,\n",
        "            no_urls=False,\n",
        "            no_emails=False,\n",
        "            no_phone_numbers=False,\n",
        "            no_numbers=False,\n",
        "            no_digits=False,\n",
        "            no_currency_symbols=False,\n",
        "            no_punct=False,\n",
        "            lang=\"en\"\n",
        "            )"
      ]
    },
    {
      "cell_type": "code",
      "execution_count": 104,
      "metadata": {
        "colab": {
          "base_uri": "https://localhost:8080/"
        },
        "id": "Y1HZwvbYRdeX",
        "outputId": "137de388-f788-4a94-dc15-2a7becee9809"
      },
      "outputs": [
        {
          "data": {
            "text/plain": [
              "16658"
            ]
          },
          "execution_count": 104,
          "metadata": {},
          "output_type": "execute_result"
        }
      ],
      "source": [
        "len(clean_url_text)"
      ]
    },
    {
      "cell_type": "code",
      "execution_count": 105,
      "metadata": {
        "id": "yqg-UGEXRgLi"
      },
      "outputs": [],
      "source": [
        "from langchain.schema import Document\n",
        "metadata = {\n",
        "    \"source\": loaded_url[0].metadata['source']\n",
        "}\n",
        "\n",
        "url_doc = Document(page_content=clean_url_text, metadata=metadata)\n",
        "url_document =[url_doc]"
      ]
    },
    {
      "cell_type": "code",
      "execution_count": 106,
      "metadata": {
        "id": "tUC76O2jiPYN"
      },
      "outputs": [],
      "source": [
        "text_splitter = RecursiveCharacterTextSplitter(chunk_size=500, chunk_overlap=20)\n",
        "url_texts = text_splitter.split_documents(url_document)"
      ]
    },
    {
      "cell_type": "code",
      "execution_count": 107,
      "metadata": {
        "colab": {
          "base_uri": "https://localhost:8080/"
        },
        "id": "qgd21eqyiUdC",
        "outputId": "ae5f2dac-6a2d-43fd-a2c3-ea9950c9f2b5"
      },
      "outputs": [
        {
          "data": {
            "text/plain": [
              "44"
            ]
          },
          "execution_count": 107,
          "metadata": {},
          "output_type": "execute_result"
        }
      ],
      "source": [
        "len(url_texts)"
      ]
    },
    {
      "cell_type": "code",
      "execution_count": 108,
      "metadata": {
        "colab": {
          "base_uri": "https://localhost:8080/"
        },
        "id": "xSvVuKJEifP9",
        "outputId": "2d9fe02b-c221-4faa-c1de-c4acc4eeae78"
      },
      "outputs": [
        {
          "name": "stdout",
          "output_type": "stream",
          "text": [
            "Time taken is: 1.7285022735595703 seconds\n"
          ]
        }
      ],
      "source": [
        "start =time.time()\n",
        "# Insert documents into the collection\n",
        "qdrant = Qdrant.from_documents(url_texts,embeddings_model,url=url,prefer_grpc=False,api_key=qdrant_api_key,collection_name=collection_name,force_recreate=False,distance_func=\"Dot\")\n",
        "end =time.time()\n",
        "print(\"Time taken is:\", end-start,\"seconds\")"
      ]
    },
    {
      "cell_type": "code",
      "execution_count": 109,
      "metadata": {
        "id": "VUaaC2SYik-X"
      },
      "outputs": [],
      "source": [
        "query = \"Summarize The Information Technology Act, 2000 ?\"\n",
        "query_vector = embeddings_model.embed_query(query)"
      ]
    },
    {
      "cell_type": "code",
      "execution_count": 110,
      "metadata": {
        "id": "qr07NMNSizzS"
      },
      "outputs": [],
      "source": [
        "scored_points = client.search( collection_name=collection_name,\n",
        "                        query_vector=query_vector,\n",
        "                        limit=3,\n",
        "                        with_payload=True\n",
        "                        )"
      ]
    },
    {
      "cell_type": "code",
      "execution_count": 111,
      "metadata": {
        "colab": {
          "base_uri": "https://localhost:8080/"
        },
        "id": "zG9-xpsHTH-l",
        "outputId": "90bca288-60d0-46fc-e823-cf4c5627b3b9"
      },
      "outputs": [
        {
          "data": {
            "text/plain": [
              "ScoredPoint(id='e51b7da5-a0b3-4886-97d4-1a8fa5e2a576', version=3, score=0.60609996, payload={'metadata': {'source': 'https://burgeon.co.in/blog/regulatory-compliance-in-healthcare-industry/'}, 'page_content': 'compliance with the information technology act, 2000 is essential for healthcare industries handling sensitive patient information, as it mandates the implementation of robust data protection measures and ensures the confidentiality and integrity of patient data.\\nthis act requires healthcare industries to implement robust data protection measures to safeguard patient data against unauthorized access, disclosure, or misuse.'}, vector=None, shard_key=None, order_value=None)"
            ]
          },
          "execution_count": 111,
          "metadata": {},
          "output_type": "execute_result"
        }
      ],
      "source": [
        "scored_points[0]"
      ]
    },
    {
      "cell_type": "code",
      "execution_count": 112,
      "metadata": {
        "colab": {
          "base_uri": "https://localhost:8080/"
        },
        "id": "2niTM64eTLkK",
        "outputId": "a024b21b-cea1-423e-f18d-a7701c72ba19"
      },
      "outputs": [
        {
          "name": "stdout",
          "output_type": "stream",
          "text": [
            "Score: 0.60609996\n",
            "Page Content: compliance with the information technology act, 2000 is essential for healthcare industries handling sensitive patient information, as it mandates the implementation of robust data protection measures and ensures the confidentiality and integrity of patient data.\n",
            "this act requires healthcare industries to implement robust data protection measures to safeguard patient data against unauthorized access, disclosure, or misuse.\n",
            "\n",
            "Score: 0.5472753\n",
            "Page Content: the guidelines lay down specific requirements for ensuring the confidentiality, integrity, and security of patient health information during virtual consultations.\n",
            "healthcare professionals offering telemedicine services are bound by professional codes of conduct and ethics.\n",
            "compliance with the telemedicine practice guidelines is essential for healthcare industries to operate legally and ethically in the telemedicine space.\n",
            "5. the information technology act, 2000\n",
            "\n",
            "Score: 0.51332283\n",
            "Page Content: key regulations affecting healthcare businesses in india include:\n",
            "drugs and cosmetics act, 1940\n",
            "clinical establishments (registration and regulation) act, 2010\n",
            "telemedicine practice guidelines, 2020\n",
            "consumer protection act, 2019\n",
            "medical device rules, 2017\n",
            "information technology act, 2000\n",
            "3. how can healthcare businesses ensure compliance with safety regulations?\n",
            "healthcare businesses can ensure compliance with safety regulations by:\n",
            "\n"
          ]
        }
      ],
      "source": [
        "for point in scored_points:\n",
        "    score = point.score\n",
        "    page_content = point.payload['page_content']\n",
        "    print(f\"Score: {score}\")\n",
        "    print(f\"Page Content: {page_content}\\n\")"
      ]
    },
    {
      "cell_type": "code",
      "execution_count": 113,
      "metadata": {
        "id": "fqubW_UgUFwV"
      },
      "outputs": [],
      "source": [
        "# from langchain_huggingface import HuggingFaceEndpoint\n",
        "# repo_id=\"google/flan-t5-xxl\"\n",
        "# llm=HuggingFaceEndpoint(repo_id=repo_id,max_new_token=512,temperature=0.4,token=hf_token)\n",
        "# query ='What is regulatory compliance in the healthcare industry?'\n",
        "# from langchain.chains import RetrievalQA\n",
        "\n",
        "# qa = RetrievalQA.from_chain_type(\n",
        "#      llm=llm,\n",
        "#      chain_type=\"stuff\",\n",
        "#      retriever=qdrant.as_retriever()\n",
        "#  )\n",
        "# qa.run(query)"
      ]
    }
  ],
  "metadata": {
    "accelerator": "GPU",
    "colab": {
      "gpuType": "T4",
      "provenance": []
    },
    "kernelspec": {
      "display_name": "Python 3",
      "name": "python3"
    },
    "language_info": {
      "codemirror_mode": {
        "name": "ipython",
        "version": 3
      },
      "file_extension": ".py",
      "mimetype": "text/x-python",
      "name": "python",
      "nbconvert_exporter": "python",
      "pygments_lexer": "ipython3",
      "version": "3.12.3"
    }
  },
  "nbformat": 4,
  "nbformat_minor": 0
}
