{
 "cells": [
  {
   "cell_type": "markdown",
   "metadata": {
    "id": "XKMBN_j9fVWb"
   },
   "source": [
    "\n",
    "\n",
    "# CS-456, Fall 2024, Modern Cyber Security\n",
    "---\n",
    "\n",
    "## TLS (Transport Layer Security) and HTTPS (Secure HyperText Transfer Protocol)\n",
    "### Due by:\n",
    "\n",
    "\n",
    "Deliverable: \\[28 points\\] <font color =red> Thursday, Dec 9, 11:59pm </font>"
   ]
  },
  {
   "cell_type": "markdown",
   "metadata": {
    "id": "QArD3WiM2XIm"
   },
   "source": [
    "### Setup\n",
    "---\n",
    "All of the python libraries and command dependencies to successfully run this lab should already be installed and available on the CS lab machines.  This jupyter notebook can be run on a CS lab machine and you can use SSH tunnels to view the notebook on your local laptop (more details on [CS SNA web page](https://sna.cs.colostate.edu/software/jupyter/)).\n",
    "\n",
    "If you are using the lab machines, take heed of the following:\n",
    "\n",
    "In order to use both flask (anaconda-distributed) and cryptography (python3.8 site package) in lab machines we need following two exports exactly in this format, since python should use system-installed-python3.8's cryptography package before it reaches to anaconda distributed openssl. The anaconda/bin has to be appended at the end of PATH.\n",
    "\n",
    "\n",
    ">`export PYTHONPATH=\"/usr/lib64/python3.8/site-packages:/usr/local/anaconda/lib/python3.8/site-packages:$PYTHONPATH\"`\n",
    "\n",
    ">`export PATH=$PATH:/usr/local/anaconda/bin`\n",
    "\n",
    "This project requires you to call api from certificate authority server and repository server that are hosted on a lab machine. Due to this, whenevr you are calling any api from these servers, that must be done from a lab machine.\n",
    "\n",
    "### References\n",
    "you can look into these links for help with this assignment:\n",
    "\n",
    "1.   [*Exploring HTTPS with Python*](  https://realpython.com/python-https/)\n",
    "2.   [OPENSSL Cheat Sheet](https://www.freecodecamp.org/news/openssl-command-cheatsheet-b441be1e8c4a/)\n",
    "3.   [X509 Certificates Reference](https://cryptography.io/en/latest/x509/reference/#x-509-reference)\n",
    "\n",
    "\n",
    "\n",
    "\n",
    "\n"
   ]
  },
  {
   "cell_type": "markdown",
   "metadata": {
    "id": "JaF2JvNO30cJ"
   },
   "source": [
    "\n",
    "<a id='deploy_web_server'></a>\n",
    "## 1. Create and deploy a simple FLASK web server\n",
    "---\n",
    "In this section you are going to create a simple web server using FLASK.  We can then use `wget`, `curl` or simply use a web browser to fetch the contents of the web page.  \n",
    "\n",
    "\n",
    "Use SHIFT-EXECUTE to execute the following code cell.  This first cell will simply write the python code to a file named `simple-server.py`.  \n",
    "\n",
    "**Next, use a new terminal window (or tab) to run the program by typing `python simple-server.py`.  Leave the program running and come back to this notebook.**\n",
    "\n",
    "*Note: you may have to `pip install flask` if it is not installed in your system.  The lab systems should already have it installed.  Do this installation in a separate terminal window.*"
   ]
  },
  {
   "cell_type": "code",
   "execution_count": 1,
   "metadata": {
    "id": "ibG5MvVl4HtL"
   },
   "outputs": [
    {
     "name": "stdout",
     "output_type": "stream",
     "text": [
      "Writing simple-server.py\n"
     ]
    }
   ],
   "source": [
    "%%writefile simple-server.py\n",
    "\n",
    "# web-server.py\n",
    "# secret message about squirrels!\n",
    "\n",
    "from flask import Flask\n",
    "\n",
    "#Put your secret message\n",
    "SECRET_MESSAGE = \"secret message\"\n",
    "app = Flask(__name__)\n",
    "\n",
    "@app.route(\"/\")\n",
    "def get_secret_message():\n",
    "    return SECRET_MESSAGE\n",
    "\n",
    "if __name__ == \"__main__\":\n",
    "    app.run(port=4567)"
   ]
  },
  {
   "cell_type": "markdown",
   "metadata": {
    "id": "rALy7y-MABa0"
   },
   "source": [
    "Let's make sure the server is running. Go to a web browser and enter the following URL:\n",
    "\n",
    "> `http://localhost:4567`\n",
    "\n",
    "You should get the following super-exciting response to your HTTP request:\n",
    "\n",
    "<div>\n",
    "<img src=\"attachment:image.png\" width=\"600\">\n",
    "</div>\n",
    "\n",
    "You can also use `wget` and `curl` commands to fetch the data from your tiny web server.  Execute the following shell commands in the next two cells using SHIFT-EXECUTE. In both cases the web server should return the secret message.  "
   ]
  },
  {
   "cell_type": "code",
   "execution_count": null,
   "metadata": {
    "id": "0wLqcdUMAQYM"
   },
   "outputs": [],
   "source": [
    "! wget -qO- localhost:4567"
   ]
  },
  {
   "cell_type": "code",
   "execution_count": null,
   "metadata": {
    "id": "9BBqff9kASvp"
   },
   "outputs": [],
   "source": [
    "! curl http://localhost:4567"
   ]
  },
  {
   "cell_type": "markdown",
   "metadata": {
    "id": "QJR0qvCoAbzM"
   },
   "source": [
    "Run one of the cells again, but this time capture the network traffic on localhost using wireshark.  Your wireshark data should look like the screen capture shown below.  Notice that anyone listening in can see the secret message.  This is definitely not a good state of affairs...\n",
    "\n",
    "----\n"
   ]
  },
  {
   "cell_type": "markdown",
   "metadata": {
    "id": "qTJ07P79Afnm"
   },
   "source": [
    "<div>\n",
    "<img src=\"attachment:image.png\" width=\"700\">\n",
    "</div>"
   ]
  },
  {
   "cell_type": "markdown",
   "metadata": {
    "id": "dipW_9QHAmOi"
   },
   "source": [
    "**You should stop the web server now by using CTL-C in the terminal window.  We will start it up again later with TLS enabled.**"
   ]
  },
  {
   "cell_type": "markdown",
   "metadata": {
    "id": "GgCU569UApSk"
   },
   "source": [
    "<a id='create_certificates'></a>\n",
    "\n",
    "## Task 1 [5 points]\n",
    "---\n",
    "\n",
    "\n",
    "1.   Get the simple server running on your machine and Submit a screenshot of the network traffic on localhost while using wireshark in the below cell. <font color='purple'> [2 point]\n",
    "\n"
   ]
  },
  {
   "cell_type": "markdown",
   "metadata": {
    "id": "3pbziP7vUypw"
   },
   "source": [
    "<img src=\"images/Task1.png\" width=\"75%\" />"
   ]
  },
  {
   "cell_type": "markdown",
   "metadata": {
    "id": "d6s1CocSUy9J"
   },
   "source": [
    "2.   Exlain why you could see the the secret mesage? <font color='purple'> [3 points]"
   ]
  },
  {
   "cell_type": "markdown",
   "metadata": {
    "id": "PuWCt-9XU3_A"
   },
   "source": [
    "Using normal http, everything is sent in plaintext. So anyone can packet sniff and find this data."
   ]
  },
  {
   "cell_type": "markdown",
   "metadata": {
    "id": "Yk1DszSpr6QL"
   },
   "source": [
    "\n",
    "<a id='create_certificates'></a>\n",
    "\n",
    "## 2. Create the x.509 Certificates needed by TLS\n",
    "---\n",
    "\n",
    "\n",
    "x.509 certificates are digital documents that serve as electronic passports in the world of internet security. They are fundamental components of TLS (Transport Layer Security), which is the protocol that ensures secure communication over the internet.\n",
    "\n",
    "TLS (Transport Layer Security) is a cryptographic protocol designed to provide secure communication between computer systems, particularly for web browsing, email, instant messaging, and other data transfers. When you see \"https://\" in your browser's address bar, it means TLS is being used to protect your connection.\n",
    "\n",
    "x.509 certificates work within TLS by:\n",
    "1. Verifying the identity of websites (authentication)\n",
    "2. Enabling encrypted communication (confidentiality)\n",
    "3. Ensuring data hasn't been tampered with (integrity)\n",
    "\n",
    "These certificates contain:\n",
    "- The website's public key\n",
    "- Information about the website (domain name, organization, etc.)\n",
    "- Digital signature from a trusted Certificate Authority (CA)\n",
    "- Validity period\n",
    "\n",
    "How many CAs are there on planet Earth? There are hundreds of CAs throughout the globe. Your web browser keeps a list of trusted CA's in your web browser's trust-store. In Firefox you can view the list of trusted CAs by going to Preferences, Security & Privacy, View Certificates. There are similar mechanisms in other browsers.\n",
    "\n",
    "A sample screen-shot showing just a few of the trusted CAs in Firefox is shown below:"
   ]
  },
  {
   "cell_type": "markdown",
   "metadata": {
    "id": "0IomzMySNtQo"
   },
   "source": [
    "<img src=\"http://cs.colostate.edu/~cs456/images/TLS_CA_List.png\" width='700px' />"
   ]
  },
  {
   "cell_type": "markdown",
   "metadata": {
    "id": "UswOdnf_ORjL"
   },
   "source": [
    "<a id='create_web_certificate'> </a>\n",
    "### 2.1. Create Your Web Server Certificate\n",
    "----\n",
    "\n",
    "A Certificate Signing Request (CSR) is a formal request to a Certificate Authority (CA) to create a digital certificate. Think of it like applying for a passport:\n",
    "- You fill out an application with your personal information (CSR contains your server's information)\n",
    "- You provide proof of identity (CSR contains your public key)\n",
    "- You submit the application to the passport office (CSR is sent to CA)\n",
    "- The passport office verifies and issues your passport (CA verifies and issues certificate)\n",
    "\n",
    "The CSR contains:\n",
    "- Your public key\n",
    "- Your organization's information\n",
    "- Domain name(s) the certificate will secure\n",
    "- Contact information\n",
    "\n",
    "There are several steps required to generate your site's web server certificate:\n",
    "\n",
    "1. Create a Certificate Signing Request (CSR) which contains your public key: This is like filling out the information for your visa.\n",
    "2. Send the CSR to a \"Trusted Third Party (TTP)\" Certificate Authority (CA): This is like sending your information into a visa application office.\n",
    "3. The CA will verify your information:  CAs use a variety of verification techniques.\n",
    "4. The CA  then approves your Public Key by digitally signing your CSR. This is equivalent to the TTP signing your visa.\n",
    "5. Issue the verified Public Key certificate: This is equivalent to you receiving your visa in the mail."
   ]
  },
  {
   "cell_type": "markdown",
   "metadata": {
    "id": "ICUIXYIohnNQ"
   },
   "source": [
    "\n",
    "<a id='deploy_web_server'></a>\n",
    "## 2.1.A. Create a Certificate Signing Request (CSR)\n",
    "\n",
    "----\n",
    "\n",
    "<a id='create_CSR'> </a>\n",
    "#### Create a Certificate Signing Request (CSR)\n",
    "\n",
    "The first step to your web server becoming trusted is for you to generate a Certificate Signing Request (CSR). In the real world, the CSR would be sent to an actual Certificate Authority like Verisign or Let’s Encrypt. In this lab assignment, We have created our own CA which you will be using.\n",
    "\n",
    "### Make sure to use your name or student ID in your certificate\n",
    "* For \"organizational unit name\", use your own name so the TAs can verify you did your own work.\n",
    "\n",
    "### CSR uses PUBLIC KEY associated with PRIVATE KEY internally, make sure to save your PRIVATE KEY"
   ]
  },
  {
   "cell_type": "code",
   "execution_count": 10,
   "metadata": {
    "id": "w69C8d0FWSTc"
   },
   "outputs": [],
   "source": [
    "# Complete the following code to generate private key and CSR\n",
    "from cryptography.hazmat.backends import default_backend\n",
    "from cryptography.hazmat.primitives import serialization\n",
    "from cryptography.hazmat.primitives.asymmetric import rsa\n",
    "from cryptography import x509\n",
    "from cryptography.x509.oid import NameOID\n",
    "from cryptography.hazmat.primitives import hashes\n",
    "\n",
    "# Generate a private key\n",
    "private_key = rsa.generate_private_key(\n",
    "    public_exponent=65537,\n",
    "    key_size=2048,\n",
    "    backend=default_backend()\n",
    ")\n",
    "\n",
    "# Get the public key\n",
    "public_key = private_key.public_key()\n",
    "\n",
    "# Save private key to file\n",
    "with open(\"server-private-key.key\", \"wb\") as f:\n",
    "    f.write(private_key.private_bytes(\n",
    "        encoding=serialization.Encoding.PEM,\n",
    "        format=serialization.PrivateFormat.PKCS8,\n",
    "        encryption_algorithm=serialization.NoEncryption()\n",
    "    ))\n",
    "\n",
    "# Save public key to file\n",
    "with open(\"server-public-key.pem\", \"wb\") as f:\n",
    "    f.write(public_key.public_bytes(\n",
    "        encoding=serialization.Encoding.PEM,\n",
    "        format=serialization.PublicFormat.SubjectPublicKeyInfo\n",
    "    ))\n",
    "\n",
    "# Create CSR builder and add subject information\n",
    "builder = x509.CertificateSigningRequestBuilder()\n",
    "builder = builder.subject_name(x509.Name([\n",
    "    x509.NameAttribute(NameOID.COMMON_NAME, \"localhost\"),\n",
    "    x509.NameAttribute(NameOID.ORGANIZATIONAL_UNIT_NAME, \"Aidan Michalos\"),\n",
    "    x509.NameAttribute(NameOID.ORGANIZATION_NAME, \"CSU\"),\n",
    "    x509.NameAttribute(NameOID.COUNTRY_NAME, \"US\"),\n",
    "    x509.NameAttribute(NameOID.STATE_OR_PROVINCE_NAME, \"Colorado\"),\n",
    "    x509.NameAttribute(NameOID.LOCALITY_NAME, \"Fort Collins\")\n",
    "]))\n",
    "\n",
    "# Add Subject Alternative Names (SAN) extension\n",
    "builder = builder.add_extension(\n",
    "    x509.SubjectAlternativeName([\n",
    "        x509.DNSName(\"localhost\")\n",
    "    ]),\n",
    "    critical=False\n",
    ")\n",
    "\n",
    "# Sign the CSR with your private key\n",
    "csr = builder.sign(\n",
    "    private_key,\n",
    "    hashes.SHA256(),\n",
    "    default_backend()\n",
    ")\n",
    "\n",
    "# Save CSR to file\n",
    "with open(\"CSR.csr\", \"wb\") as f:\n",
    "    f.write(csr.public_bytes(serialization.Encoding.PEM))"
   ]
  },
  {
   "cell_type": "markdown",
   "metadata": {
    "id": "_5olhXcViytZ"
   },
   "source": [
    "\n",
    "<a id='deploy_web_server'></a>\n",
    "## 2.1.B. Verify the CSR\n",
    "\n",
    "----\n",
    "Next, make sure the CSR got created properly. Execute the following cell to view the contents of the CSR. If you don't like what you see, just re-execute the python code/OPENSSL request to re-create the CSR"
   ]
  },
  {
   "cell_type": "code",
   "execution_count": 5,
   "metadata": {
    "id": "fbngL7Qv0NNt"
   },
   "outputs": [
    {
     "name": "stderr",
     "output_type": "stream",
     "text": [
      "'openssl' is not recognized as an internal or external command,\n",
      "operable program or batch file.\n"
     ]
    }
   ],
   "source": [
    "! openssl req -text -noout -verify -in CSR.csr"
   ]
  },
  {
   "cell_type": "markdown",
   "metadata": {
    "id": "jLnAGXLJuCj-"
   },
   "source": [
    "\n",
    "<a id='deploy_web_server'></a>\n",
    "## 2.2. Certificate Authority Server\n",
    "\n",
    "----\n",
    "\n",
    "We have created our own certificate authrity server. Like any other trusted CA, this will sign your CSR and create a public key certificate for the public key you sent in your CSR.\n",
    "\n",
    "N0te: Make sure you have the right private key stored before sending your CSR for signing. "
   ]
  },
  {
   "cell_type": "markdown",
   "metadata": {
    "id": "GanF-ZP29CFJ"
   },
   "source": [
    "\n",
    "## 2.2.A. Activate account\n",
    "\n",
    "----\n",
    "For each student, there is an inactive account created in our CA server. You need to use your `eid` as username and `csu id` as password.\n",
    "\n",
    "Use the following URL to access the activation api on our CA server:\n",
    "> `https://10.1.44.154:10200/active-account?username=your_eid&password=your_csu_id`\n",
    "\n",
    "This will activate your account and return your `account id` in the response. This id will be used in later communications.\n",
    "In case you forget your account`id`, you can call the same api again. You will get a response like this:\n",
    "\n",
    "\n",
    "\n",
    "<div border=1>\n",
    "<img src=\"attachment:image.png\" width=\"700\">\n",
    "</div>"
   ]
  },
  {
   "cell_type": "markdown",
   "metadata": {
    "id": "iwI5hEYgv71h"
   },
   "source": [
    "For future use you have to use the Id after the prefix string `‘SID#’`. In above case my Id is 96.\n"
   ]
  },
  {
   "cell_type": "markdown",
   "metadata": {
    "id": "UE7aEbhw3aQj"
   },
   "source": [
    "<a id='deploy_web_server'></a>\n",
    "## 2.2.B. Submit the CSR to be digitally signed by the CA and get your X509 Certificate\n",
    "\n",
    "----\n",
    "In the real world, the CA would make sure that the information in your CSR are correct, like you owned invykta.com (or whatever you called your web-site) and ask you to prove it in various ways.\n",
    "\n",
    "So when you call the CA server api to sign the CSR, it will verify your CSR and respond with x509 publick key certificate signed by the CA. So, you need to save the x509 certificate of your server you recieved from the CA in your machine.\n",
    "\n",
    "Complete the python code below to call the CA server and get your x509 server public key certificate. This cell will write the python code to a file named `sign-csr.py`, so you need to run the code in a terminal. **In the submission this code should be completed.**\n",
    "\n"
   ]
  },
  {
   "cell_type": "code",
   "execution_count": 11,
   "metadata": {
    "colab": {
     "base_uri": "https://localhost:8080/"
    },
    "id": "hiBroF4Lt6se",
    "outputId": "1067b0a2-7306-4792-ee39-d4a66509ec42"
   },
   "outputs": [
    {
     "name": "stdout",
     "output_type": "stream",
     "text": [
      "Overwriting sign-csr.py\n"
     ]
    }
   ],
   "source": [
    "%%writefile sign-csr.py\n",
    "\n",
    "import requests\n",
    "from cryptography import x509\n",
    "from cryptography.hazmat.primitives import serialization\n",
    "\n",
    "# Load The CSR content\n",
    "csr_file = open(\"CSR.csr\", \"rb\")\n",
    "csr_content = x509.load_pem_x509_csr(csr_file.read())\n",
    "\n",
    "# URL of the API endpoint\n",
    "url = \"https://10.1.44.154:10200/sign-csr?sid=53\"  # id (53)\n",
    "\n",
    "# Sending the request with csr_content as form data\n",
    "response = requests.get(url, data={'csr_content': csr_content.public_bytes(serialization.Encoding.PEM)}, verify=False)\n",
    "\n",
    "# Check if the request was successful\n",
    "if response.status_code == 200:\n",
    "    filename = \"signed-server-public-key.pem\"\n",
    "    \n",
    "    with open(filename, 'wb') as f:\n",
    "        f.write(response.content)\n",
    "    print(f\"Certificate saved to {filename}\")\n",
    "\n",
    "else:\n",
    "    print(f\"Error with status code: {response.status_code}\")\n",
    "    print(response.text)"
   ]
  },
  {
   "cell_type": "markdown",
   "metadata": {
    "id": "KdsjQdnruZvF"
   },
   "source": [
    "Next, use a new terminal window (or tab) to run the program by typing: `python sign-csr.py`. This will generate a server certificate file in the specified directory. Make sure your CSR.csr file is in accessable directory."
   ]
  },
  {
   "cell_type": "markdown",
   "metadata": {
    "id": "r1zYTTQFIKaC"
   },
   "source": [
    "## Task 2 [19 Points]\n",
    "\n",
    "----\n",
    "\n",
    "\n",
    "1. Activating your account through calling the CA server api. Submit a screenshot of the response in the below cell. <font color='purple'> [2 points]\n"
   ]
  },
  {
   "cell_type": "markdown",
   "metadata": {
    "id": "AK1gA5PuW7Dp"
   },
   "source": [
    "<img src=\"images/Task2-response.png\" width=\"75%\" />"
   ]
  },
  {
   "cell_type": "markdown",
   "metadata": {
    "id": "ZX0HuzCMXGw1"
   },
   "source": [
    "2. Take a screenshot of the response of CSR verification command (in 2.1.B) of your CSR that you generated in 2.1.A. <font color='purple'> [10 points]"
   ]
  },
  {
   "cell_type": "markdown",
   "metadata": {
    "id": "eKaUtL8JXMZB"
   },
   "source": [
    "<img src=\"images/Task2-CLI.png\" width=\"75%\" />"
   ]
  },
  {
   "cell_type": "markdown",
   "metadata": {
    "id": "owCQ65EQXUBI"
   },
   "source": [
    "3. Use our CA api to send your csr to the CA to get your signed x509 public key certificate. Our CA server will store all the information passed through this api call. So apart from completing the sign-csr.py script and calling the api,  no further action is required. The code should save your x509 certificate in the specified file <font color='purple'> [5 points]\n"
   ]
  },
  {
   "cell_type": "markdown",
   "metadata": {
    "id": "pqzAHMoYXX1Y"
   },
   "source": [
    "4.   To verify your server's certificate, execute the cell below. <font color='purple'> [2 points]"
   ]
  },
  {
   "cell_type": "code",
   "execution_count": null,
   "metadata": {
    "id": "VugsBrcbIxGz"
   },
   "outputs": [],
   "source": [
    "# make sure the new server certificate file has been created and examine it in BASE64 and with openSSL. \n",
    "# Use the right certificate file name\n",
    "! ls server*\n",
    "! cat your_server_cert.pem\n",
    "! openssl x509 -in your_server_cert.pem -text -noout"
   ]
  },
  {
   "cell_type": "markdown",
   "metadata": {
    "id": "gLMSCS3J-pDL"
   },
   "source": [
    "## 3  Test your TLS certificate with your web server\n",
    "\n",
    "We have to make a minor adjustment to the FLASK web server to enable TLS/HTTPS. You will see this adjustment in the last line of code below.\n",
    "\n",
    "Use SHIFT-EXECUTE to execute the following code cell to over-write `simple-server.py` with TLS enabled.  \n",
    "\n",
    "**Next, use a new terminal window (or tab) to run the program by typing `python simple-server.py`.  In the code below the web server will read the private key from `'server-private-key.key'` and the public key from your certificate file `'server-public-key.pem'`.**\n",
    "\n",
    "\n",
    "**Leave the program running and come back to this notebook.**"
   ]
  },
  {
   "cell_type": "code",
   "execution_count": 12,
   "metadata": {
    "id": "vXaQ_xY9DIMB"
   },
   "outputs": [
    {
     "name": "stdout",
     "output_type": "stream",
     "text": [
      "Overwriting simple-server.py\n"
     ]
    }
   ],
   "source": [
    "%%writefile simple-server.py\n",
    "\n",
    "from flask import Flask\n",
    "\n",
    "SECRET_MESSAGE = \"Secret Message\"\n",
    "app = Flask(__name__)\n",
    "\n",
    "@app.route(\"/\")\n",
    "def get_secret_message():\n",
    "    return SECRET_MESSAGE\n",
    "\n",
    "if __name__ == \"__main__\":\n",
    "    #Please check whether the key and cert names are correct\n",
    "    app.run(port=4567, ssl_context=( 'signed-server-public-key.pem', 'server-private-key.key') )  #ssl_context=('cert.crt', 'key.pem'))"
   ]
  },
  {
   "cell_type": "markdown",
   "metadata": {
    "id": "yNZSCmxWFRaR"
   },
   "source": [
    "Now bring up a web browser and enter the following into the URL bar:\n",
    "\n",
    ">`http://localhost:4567`\n",
    "\n",
    "This command __should fail__ to bring up the web page because it didn't specify HTTPS.  Try again with the following, and capture the web traffic with wireshark.\n",
    "\n",
    ">`https://localhost:4567`\n",
    "\n",
    "your browser may not trust the certificate yet, so you need to go through the browser options to \"view the certificate\" and take a screenshot to submit to Canvas.  \n",
    "\n",
    "Tell your browser that you \"accept the risk\" and proceed to view your simple web page with HTTPS.\n",
    "\n",
    "Examine the wireshark output and you will notice that the TLS handshake has occurred and the data has been encrypted. submit a screenshot of the wireshark highlighting the encrypted server response.\n"
   ]
  },
  {
   "cell_type": "markdown",
   "metadata": {
    "id": "jrQQKMvnHkDl"
   },
   "source": [
    "## Task 3 [4 points]\n",
    "----\n",
    "1. submit screenshot of your signed certificate used to access the web server in browser view <font color='purple'> [2 points]\n"
   ]
  },
  {
   "cell_type": "markdown",
   "metadata": {
    "id": "DD4eeQWxYXIL"
   },
   "source": [
    "<img src=\"images/Task3-https.png\" height=\"75%\"/>"
   ]
  },
  {
   "cell_type": "markdown",
   "metadata": {
    "id": "QttBKn9hYXZ6"
   },
   "source": [
    "2. submit screenshot showing the TLs handshake and encrypted trafic in  wireshark <font color='purple'> [2 points]"
   ]
  },
  {
   "cell_type": "markdown",
   "metadata": {
    "id": "DwsHF5QRYX6C"
   },
   "source": [
    "\n",
    "\n",
    "<img src=\"images/Task3-wire.png\" height=\"75%\"/>"
   ]
  },
  {
   "cell_type": "markdown",
   "metadata": {},
   "source": [
    "---\n",
    "## <font color =blue> Deliverable \\[28 points\\]:  Thursday, Dec 9, 11:59pm </font>\n",
    "1. Complete all the tasks above, task 1 to task 3. In the code cell below each task, submit your answers.\n",
    "2. Make sure you are maintaining proper directory for all the additional files.\n",
    "3. Zip all the required files along with this notebook. Name the notebook and the zip file as `your_eid_D1`  and submit to canvas.\n",
    "---\n"
   ]
  },
  {
   "cell_type": "markdown",
   "metadata": {},
   "source": []
  }
 ],
 "metadata": {
  "colab": {
   "provenance": [],
   "toc_visible": true
  },
  "kernelspec": {
   "display_name": "Python 3 (ipykernel)",
   "language": "python",
   "name": "python3"
  },
  "language_info": {
   "codemirror_mode": {
    "name": "ipython",
    "version": 3
   },
   "file_extension": ".py",
   "mimetype": "text/x-python",
   "name": "python",
   "nbconvert_exporter": "python",
   "pygments_lexer": "ipython3",
   "version": "3.12.3"
  }
 },
 "nbformat": 4,
 "nbformat_minor": 1
}
