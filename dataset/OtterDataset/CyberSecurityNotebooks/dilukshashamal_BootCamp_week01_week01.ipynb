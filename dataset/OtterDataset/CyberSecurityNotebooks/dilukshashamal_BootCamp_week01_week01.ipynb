{
 "cells": [
  {
   "cell_type": "code",
   "execution_count": 1,
   "metadata": {},
   "outputs": [],
   "source": [
    "import pymupdf"
   ]
  },
  {
   "cell_type": "code",
   "execution_count": 2,
   "metadata": {},
   "outputs": [],
   "source": [
    "pdf = pymupdf.open(\"research_paper.pdf\")"
   ]
  },
  {
   "cell_type": "code",
   "execution_count": 3,
   "metadata": {},
   "outputs": [
    {
     "name": "stdout",
     "output_type": "stream",
     "text": [
      "Number of pages in the PDF document:  17\n"
     ]
    }
   ],
   "source": [
    "print(\"Number of pages in the PDF document: \", pdf.page_count)"
   ]
  },
  {
   "cell_type": "code",
   "execution_count": 4,
   "metadata": {},
   "outputs": [
    {
     "name": "stdout",
     "output_type": "stream",
     "text": [
      "Height of the first page:  782.9290161132812\n",
      "Width of the first page:  576.0\n"
     ]
    }
   ],
   "source": [
    "# 2. What is the height of the first page?\n",
    "first_page = pdf[0]\n",
    "print(\"Height of the first page: \", first_page.mediabox[3])\n",
    "\n",
    "# 3. What is the width of the first page?\n",
    "print(\"Width of the first page: \", first_page.mediabox[2])"
   ]
  },
  {
   "cell_type": "code",
   "execution_count": 5,
   "metadata": {},
   "outputs": [
    {
     "name": "stdout",
     "output_type": "stream",
     "text": [
      "Width: 800.0 pixels, Height: 1087.401411268446 pixels at 100 PPI\n"
     ]
    }
   ],
   "source": [
    "# Select the first page (index 0)\n",
    "first_page = pdf[0]\n",
    "\n",
    "# Get the page size in points\n",
    "page_size = first_page.mediabox_size\n",
    "\n",
    "# Convert points to inches (1 point = 1/72 inch)\n",
    "width_in_inches = page_size[0] / 72\n",
    "height_in_inches = page_size[1] / 72\n",
    "\n",
    "# Convert inches to pixels at 100 PPI\n",
    "ppi = 100\n",
    "width_in_pixels = width_in_inches * ppi\n",
    "height_in_pixels = height_in_inches * ppi\n",
    "\n",
    "print(f\"Width: {width_in_pixels} pixels, Height: {height_in_pixels} pixels at {ppi} PPI\")"
   ]
  },
  {
   "cell_type": "code",
   "execution_count": 6,
   "metadata": {},
   "outputs": [],
   "source": [
    "first_page = pdf.load_page(0)\n",
    "ppi = 100\n",
    "pix = first_page.get_pixmap(dpi=ppi)\n",
    "output_path=\"first_page_image.png\"\n",
    "pix.save(output_path)"
   ]
  },
  {
   "cell_type": "code",
   "execution_count": 11,
   "metadata": {},
   "outputs": [
    {
     "name": "stdout",
     "output_type": "stream",
     "text": [
      "Page 1 saved as PNG at png\\page_1.png\n",
      "Page 2 saved as PNG at png\\page_2.png\n",
      "Page 3 saved as PNG at png\\page_3.png\n",
      "Page 4 saved as PNG at png\\page_4.png\n",
      "Page 5 saved as PNG at png\\page_5.png\n",
      "Page 6 saved as PNG at png\\page_6.png\n",
      "Page 7 saved as PNG at png\\page_7.png\n",
      "Page 8 saved as PNG at png\\page_8.png\n",
      "Page 9 saved as PNG at png\\page_9.png\n",
      "Page 10 saved as PNG at png\\page_10.png\n",
      "Page 11 saved as PNG at png\\page_11.png\n",
      "Page 12 saved as PNG at png\\page_12.png\n",
      "Page 13 saved as PNG at png\\page_13.png\n",
      "Page 14 saved as PNG at png\\page_14.png\n",
      "Page 15 saved as PNG at png\\page_15.png\n",
      "Page 16 saved as PNG at png\\page_16.png\n",
      "Page 17 saved as PNG at png\\page_17.png\n"
     ]
    }
   ],
   "source": [
    "# Define the resolution\n",
    "ppi = 100  # Pixels per inch\n",
    "pdf = pymupdf.open(\"research_paper.pdf\")\n",
    "# Loop through each page in the PDF\n",
    "for page_num in range(pdf.page_count):\n",
    "    # Load the page\n",
    "    page = pdf.load_page(page_num)\n",
    "\n",
    "    # Render the page as an image\n",
    "    pix = page.get_pixmap(dpi=ppi)\n",
    "\n",
    "    # Define the output image path\n",
    "    output_image_path = f\"png\\page_{page_num + 1}.png\"\n",
    "\n",
    "    # Save the image\n",
    "    pix.save(output_image_path)\n",
    "\n",
    "    print(f\"Page {page_num + 1} saved as PNG at {output_image_path}\")"
   ]
  },
  {
   "cell_type": "code",
   "execution_count": 7,
   "metadata": {},
   "outputs": [],
   "source": [
    "first_page_text = first_page.get_text().encode(\"utf8\")\n",
    "\n",
    "with open(\"first_page_text.txt\", \"wb\") as out:\n",
    "    out.write(first_page_text)"
   ]
  },
  {
   "cell_type": "code",
   "execution_count": 8,
   "metadata": {},
   "outputs": [],
   "source": [
    "second_page = pdf.load_page(1)\n",
    "\n",
    "page_2_text = second_page.get_text().encode(\"utf8\")\n",
    "\n",
    "# Write the extracted text to a .txt file\n",
    "with open(\"page_2.txt\", \"wb\") as out:\n",
    "    out.write(page_2_text)"
   ]
  },
  {
   "cell_type": "code",
   "execution_count": 9,
   "metadata": {},
   "outputs": [],
   "source": [
    "from paddleocr import PaddleOCR,draw_ocr"
   ]
  },
  {
   "cell_type": "code",
   "execution_count": 10,
   "metadata": {},
   "outputs": [
    {
     "name": "stdout",
     "output_type": "stream",
     "text": [
      "[2024/10/03 09:21:07] ppocr DEBUG: Namespace(help='==SUPPRESS==', use_gpu=False, use_xpu=False, use_npu=False, use_mlu=False, ir_optim=True, use_tensorrt=False, min_subgraph_size=15, precision='fp32', gpu_mem=500, gpu_id=0, image_dir=None, page_num=0, det_algorithm='DB', det_model_dir='C:\\\\Users\\\\Diluksha Shamal/.paddleocr/whl\\\\det\\\\en\\\\en_PP-OCRv3_det_infer', det_limit_side_len=960, det_limit_type='max', det_box_type='quad', det_db_thresh=0.3, det_db_box_thresh=0.6, det_db_unclip_ratio=1.5, max_batch_size=10, use_dilation=False, det_db_score_mode='fast', det_east_score_thresh=0.8, det_east_cover_thresh=0.1, det_east_nms_thresh=0.2, det_sast_score_thresh=0.5, det_sast_nms_thresh=0.2, det_pse_thresh=0, det_pse_box_thresh=0.85, det_pse_min_area=16, det_pse_scale=1, scales=[8, 16, 32], alpha=1.0, beta=1.0, fourier_degree=5, rec_algorithm='SVTR_LCNet', rec_model_dir='C:\\\\Users\\\\Diluksha Shamal/.paddleocr/whl\\\\rec\\\\en\\\\en_PP-OCRv4_rec_infer', rec_image_inverse=True, rec_image_shape='3, 48, 320', rec_batch_num=6, max_text_length=25, rec_char_dict_path='c:\\\\Users\\\\Diluksha Shamal\\\\anaconda3\\\\envs\\\\venv\\\\lib\\\\site-packages\\\\paddleocr\\\\ppocr\\\\utils\\\\en_dict.txt', use_space_char=True, vis_font_path='./doc/fonts/simfang.ttf', drop_score=0.5, e2e_algorithm='PGNet', e2e_model_dir=None, e2e_limit_side_len=768, e2e_limit_type='max', e2e_pgnet_score_thresh=0.5, e2e_char_dict_path='./ppocr/utils/ic15_dict.txt', e2e_pgnet_valid_set='totaltext', e2e_pgnet_mode='fast', use_angle_cls=True, cls_model_dir='C:\\\\Users\\\\Diluksha Shamal/.paddleocr/whl\\\\cls\\\\ch_ppocr_mobile_v2.0_cls_infer', cls_image_shape='3, 48, 192', label_list=['0', '180'], cls_batch_num=6, cls_thresh=0.9, enable_mkldnn=False, cpu_threads=10, use_pdserving=False, warmup=False, sr_model_dir=None, sr_image_shape='3, 32, 128', sr_batch_num=1, draw_img_save_dir='./inference_results', save_crop_res=False, crop_res_save_dir='./output', use_mp=False, total_process_num=1, process_id=0, benchmark=False, save_log_path='./log_output/', show_log=True, use_onnx=False, return_word_box=False, output='./output', table_max_len=488, table_algorithm='TableAttn', table_model_dir=None, merge_no_span_structure=True, table_char_dict_path=None, layout_model_dir=None, layout_dict_path=None, layout_score_threshold=0.5, layout_nms_threshold=0.5, kie_algorithm='LayoutXLM', ser_model_dir=None, re_model_dir=None, use_visual_backbone=True, ser_dict_path='../train_data/XFUND/class_list_xfun.txt', ocr_order_method=None, mode='structure', image_orientation=False, layout=True, table=True, ocr=True, recovery=False, use_pdf2docx_api=False, invert=False, binarize=False, alphacolor=(255, 255, 255), lang='en', det=True, rec=True, type='ocr', savefile=False, ocr_version='PP-OCRv4', structure_version='PP-StructureV2')\n"
     ]
    }
   ],
   "source": [
    "ocr = PaddleOCR(use_angle_cls=True, lang='en')"
   ]
  },
  {
   "cell_type": "code",
   "execution_count": 11,
   "metadata": {},
   "outputs": [
    {
     "name": "stdout",
     "output_type": "stream",
     "text": [
      "[2024/10/03 09:21:17] ppocr DEBUG: dt_boxes num : 58, elapsed : 0.9153759479522705\n",
      "[2024/10/03 09:21:18] ppocr DEBUG: cls num  : 58, elapsed : 0.3026721477508545\n",
      "[2024/10/03 09:21:44] ppocr DEBUG: rec_res num  : 58, elapsed : 25.840128421783447\n",
      "[[[615.0, 21.0], [742.0, 24.0], [742.0, 48.0], [615.0, 45.0]], ('IEEEAccess', 0.9908890724182129)]\n",
      "[[[49.0, 86.0], [635.0, 86.0], [635.0, 101.0], [49.0, 101.0]], ('Received December 9, 2020, accepted January 9, 2021, date of publication January 19, 2021, date of current version February 22, 2021.', 0.9877128005027771)]\n",
      "[[[49.0, 107.0], [243.0, 107.0], [243.0, 118.0], [49.0, 118.0]], ('Digital Object Identifier 10. 1109/ACCESS.2021.3052867', 0.9849089980125427)]\n",
      "[[[49.0, 155.0], [543.0, 154.0], [543.0, 185.0], [49.0, 186.0]], ('Lightweight Cryptography Algorithms for.', 0.9783073663711548)]\n",
      "[[[51.0, 192.0], [584.0, 193.0], [584.0, 216.0], [51.0, 215.0]], ('Resource-Constrained IoT Devices: A Review', 0.995331346988678)]\n",
      "[[[51.0, 227.0], [534.0, 227.0], [534.0, 253.0], [51.0, 253.0]], ('Comparison and Research Opportunities', 0.9687739014625549)]\n",
      "[[[48.0, 278.0], [522.0, 279.0], [522.0, 298.0], [48.0, 297.0]], ('VISHAL A. THAKOR, MOHAMMAD ABDUR RAZZAQUEO1, (Member, IEEE),', 0.9566749334335327)]\n",
      "[[[49.0, 297.0], [458.0, 297.0], [458.0, 316.0], [49.0, 316.0]], ('AND MUHAMMAD R. A. KHANDAKERO2, (Senior Member, IEEE)', 0.9721999168395996)]\n",
      "[[[50.0, 314.0], [474.0, 313.0], [474.0, 328.0], [50.0, 329.0]], ('School of Computing, Engineering, and Digital Technologies, Teesside University, Middlesbrough TS1 3BX, U.K.', 0.990105926990509)]\n",
      "[[[49.0, 325.0], [415.0, 325.0], [415.0, 340.0], [49.0, 340.0]], ('School of Engineering and Physical Sciences, Heriot-Watt University, Edinburgh EH14 4AS, U.K.', 0.9893286824226379)]\n",
      "[[[49.0, 341.0], [386.0, 342.0], [386.0, 355.0], [49.0, 354.0]], ('Corresponding author: Mohammad Abdur Razzaque (m.razzaque@tees.ac.uk)', 0.9874973297119141)]\n",
      "[[[49.0, 362.0], [615.0, 362.0], [615.0, 376.0], [49.0, 376.0]], ('This research was partially funded by the Newton Fund - Institutional Links from British Council and National Research Council of', 0.9901986122131348)]\n",
      "[[[50.0, 376.0], [226.0, 376.0], [226.0, 388.0], [50.0, 388.0]], ('Thailand with the grant ID is 527643161.', 0.9856602549552917)]\n",
      "[[[49.0, 425.0], [653.0, 427.0], [653.0, 443.0], [49.0, 441.0]], (': ABsTRAcT IoT is becoming more common and popular due to its wide range of applications in various.', 0.9814027547836304)]\n",
      "[[[58.0, 444.0], [652.0, 445.0], [652.0, 460.0], [58.0, 459.0]], ('domains. They collect data from the real environment and transfer it over the networks. There are many', 0.985603392124176)]\n",
      "[[[59.0, 462.0], [653.0, 462.0], [653.0, 477.0], [59.0, 477.0]], ('challenges while deploying IoT in a real-world, varying from tiny sensors to servers. Security is considered', 0.9958785176277161)]\n",
      "[[[59.0, 478.0], [652.0, 478.0], [652.0, 493.0], [59.0, 493.0]], ('as the number one challenge in IoT deployments, as most of the IoT devices are physically accessible in', 0.9957963228225708)]\n",
      "[[[59.0, 495.0], [655.0, 495.0], [655.0, 510.0], [59.0, 510.0]], ('the real world and many of them are limited in resources (such as energy, memory, processing power and', 0.9930518865585327)]\n",
      "[[[60.0, 511.0], [653.0, 511.0], [653.0, 526.0], [60.0, 526.0]], ('even physical space). In this paper, we are focusing on these resource-constrained IoT devices (such as', 0.9932327270507812)]\n",
      "[[[60.0, 528.0], [651.0, 528.0], [651.0, 543.0], [60.0, 543.0]], ('RFID tags, sensors, smart cards, etc.) as securing them in such circumstances is a challenging task. The', 0.9993162751197815)]\n",
      "[[[59.0, 545.0], [652.0, 545.0], [652.0, 560.0], [59.0, 560.0]], ('communication from such devices can be secured by a mean of lightweight cryptography, a lighter version', 0.9990051984786987)]\n",
      "[[[59.0, 561.0], [652.0, 561.0], [652.0, 576.0], [59.0, 576.0]], ('of cryptography. More than fifty lightweight cryptography (plain encryption) algorithms are available in', 0.9947072267532349)]\n",
      "[[[59.0, 578.0], [655.0, 578.0], [655.0, 593.0], [59.0, 593.0]], ('the market with a focus on a specific application(s), and another 57 algorithms have been submitted by the', 0.9921771883964539)]\n",
      "[[[59.0, 594.0], [653.0, 594.0], [653.0, 609.0], [59.0, 609.0]], ('researchers to the NIST competition recently. To provide a holistic view of the area, in this paper, we have', 0.9911587238311768)]\n",
      "[[[59.0, 611.0], [655.0, 611.0], [655.0, 626.0], [59.0, 626.0]], ('compared the existing algorithms in terms of implementation cost, hardware and software performances and', 0.996140718460083)]\n",
      "[[[59.0, 628.0], [655.0, 628.0], [655.0, 643.0], [59.0, 643.0]], ('attack resistance properties. Also, we have discussed the demand and a direction for new research in the area', 0.9949613809585571)]\n",
      "[[[58.0, 643.0], [555.0, 644.0], [555.0, 660.0], [58.0, 658.0]], ('of lightweight cryptography to optimize balance amongst cost, performance and security.', 0.993323028087616)]\n",
      "[[[48.0, 681.0], [485.0, 683.0], [485.0, 703.0], [48.0, 700.0]], (' INDEX TERMS IoT, lightweight, cryptography, sensors, RFID, smart cards.', 0.981033444404602)]\n",
      "[[[49.0, 714.0], [157.0, 714.0], [157.0, 729.0], [49.0, 729.0]], ('I. INTRODUCTION', 0.9758617281913757)]\n",
      "[[[555.0, 719.0], [605.0, 722.0], [604.0, 739.0], [554.0, 736.0]], ('IoT Devices', 0.979454755783081)]\n",
      "[[[49.0, 731.0], [156.0, 731.0], [156.0, 746.0], [49.0, 746.0]], ('A. IoT OVERVIEW', 0.9026165008544922)]\n",
      "[[[49.0, 750.0], [388.0, 750.0], [388.0, 765.0], [49.0, 765.0]], ('Internet of Things (IoT) has already become a dominant', 0.9996147155761719)]\n",
      "[[[50.0, 767.0], [388.0, 767.0], [388.0, 782.0], [50.0, 782.0]], ('research era because of its applications in various domains', 0.995070219039917)]\n",
      "[[[49.0, 783.0], [388.0, 783.0], [388.0, 798.0], [49.0, 798.0]], ('such as smart transport & logistics, smart healthcare, smart', 0.9943397045135498)]\n",
      "[[[50.0, 800.0], [385.0, 800.0], [385.0, 815.0], [50.0, 815.0]], ('environment, smart infrastructure (smart cities, smart homes,', 0.9969825744628906)]\n",
      "[[[50.0, 817.0], [386.0, 817.0], [386.0, 832.0], [50.0, 832.0]], ('smart offices, smart malls, Industry 4.0), smart agriculture', 0.978818953037262)]\n",
      "[[[644.0, 814.0], [712.0, 814.0], [712.0, 822.0], [644.0, 822.0]], ('Poor in Resource:.', 0.9504664540290833)]\n",
      "[[[50.0, 833.0], [388.0, 833.0], [388.0, 848.0], [50.0, 848.0]], ('and many more. Many researchers and industry experts have', 0.9994800686836243)]\n",
      "[[[50.0, 850.0], [385.0, 850.0], [385.0, 865.0], [50.0, 865.0]], ('given various definitions of IoT depending on their applica-', 0.9987548589706421)]\n",
      "[[[411.0, 845.0], [626.0, 845.0], [626.0, 860.0], [411.0, 860.0]], ('FIGURE 1. Two main categories of loT Devices.', 0.9863499402999878)]\n",
      "[[[50.0, 866.0], [388.0, 866.0], [388.0, 881.0], [50.0, 881.0]], ('tions and implementation area, but in simple words, IoT is', 0.9967041015625)]\n",
      "[[[50.0, 883.0], [384.0, 883.0], [384.0, 898.0], [50.0, 898.0]], ('a network of connected things, each with a unique identifi-', 0.9934653639793396)]\n",
      "[[[411.0, 887.0], [749.0, 887.0], [749.0, 902.0], [411.0, 902.0]], ('rich in resources such as servers, personal computers, tablets', 0.9995648264884949)]\n",
      "[[[49.0, 900.0], [388.0, 900.0], [388.0, 915.0], [49.0, 915.0]], ('cation, able to collect and exchange data over the Internet', 0.9921480417251587)]\n",
      "[[[410.0, 904.0], [747.0, 904.0], [747.0, 919.0], [410.0, 919.0]], ('and smartphones, etc. and limited in resources (resource-', 0.9909836649894714)]\n",
      "[[[50.0, 916.0], [386.0, 916.0], [386.0, 930.0], [50.0, 930.0]], ('with or without human interaction [1][5]. In any IoT solution', 0.9787818193435669)]\n",
      "[[[411.0, 921.0], [748.0, 921.0], [748.0, 936.0], [411.0, 936.0]], ('constrained) such as industrial sensors or sensor nodes, RFID', 0.9954925179481506)]\n",
      "[[[49.0, 933.0], [386.0, 933.0], [386.0, 947.0], [49.0, 947.0]], ('or application, IoT devices are the key elements. These IoT', 0.9899763464927673)]\n",
      "[[[48.0, 947.0], [386.0, 949.0], [386.0, 964.0], [48.0, 963.0]], ('devices could be divided into two main categories (Figure 1):', 0.9857091903686523)]\n",
      "[[[411.0, 938.0], [749.0, 938.0], [749.0, 953.0], [411.0, 953.0]], ('tags, actuators, etc., [6]. In this paper, we focus on the second', 0.9904604554176331)]\n",
      "[[[411.0, 954.0], [747.0, 954.0], [747.0, 969.0], [411.0, 969.0]], ('category of IoT devices. These connected devices are becom-', 0.9901841878890991)]\n",
      "[[[411.0, 970.0], [748.0, 970.0], [748.0, 985.0], [411.0, 985.0]], ('ing more popular due to their use in various application and', 0.9877443313598633)]\n",
      "[[[61.0, 985.0], [388.0, 986.0], [387.0, 1002.0], [61.0, 1001.0]], ('The associate editor coordinating the review of this manuscript and', 0.9908550977706909)]\n",
      "[[[410.0, 986.0], [748.0, 987.0], [748.0, 1003.0], [410.0, 1002.0]], ('will flood the market with the emergence of IoT [6], leading', 0.979678213596344)]\n",
      "[[[409.0, 1003.0], [664.0, 1004.0], [664.0, 1020.0], [409.0, 1019.0]], ('an enormous data exchange rate amongst [7].', 0.9954002499580383)]\n",
      "[[[49.0, 1042.0], [115.0, 1042.0], [115.0, 1054.0], [49.0, 1054.0]], ('VOLUME 9, 2021', 0.9886577725410461)]\n",
      "[[[125.0, 1036.0], [669.0, 1036.0], [669.0, 1051.0], [125.0, 1051.0]], ('This work is licensed under a Creative Commons Attribution 4.0 License. For more information, see https:/creativecommons.org/licenses/by/4.0/', 0.9817826151847839)]\n",
      "[[[716.0, 1040.0], [750.0, 1040.0], [750.0, 1056.0], [716.0, 1056.0]], ('28177', 0.9990459680557251)]\n"
     ]
    }
   ],
   "source": [
    "from PIL import Image\n",
    "\n",
    "image_path =\"first_page_image.png\"\n",
    "\n",
    "ocr_result = ocr.ocr(image_path, cls=True)\n",
    "\n",
    "for idx in range(len(ocr_result)):\n",
    "    res = ocr_result[idx]\n",
    "    for line in res:\n",
    "        print(line)"
   ]
  },
  {
   "cell_type": "code",
   "execution_count": 19,
   "metadata": {},
   "outputs": [
    {
     "name": "stdout",
     "output_type": "stream",
     "text": [
      "[2024/10/03 09:25:17] ppocr DEBUG: dt_boxes num : 156, elapsed : 0.7667241096496582\n",
      "[2024/10/03 09:25:17] ppocr DEBUG: cls num  : 156, elapsed : 0.43958473205566406\n",
      "[2024/10/03 09:25:28] ppocr DEBUG: rec_res num  : 156, elapsed : 10.958950757980347\n",
      "[[[48.0, 20.0], [155.0, 23.0], [154.0, 45.0], [48.0, 43.0]], ('IEEEAccess', 0.9937908053398132)]\n",
      "[[[342.0, 33.0], [749.0, 33.0], [749.0, 48.0], [342.0, 48.0]], ('V. A. Thakor et al.: Lightweight Cryptography Algorithms for Resource-Constrained loT Devices', 0.9825554490089417)]\n",
      "[[[49.0, 88.0], [261.0, 88.0], [261.0, 103.0], [49.0, 103.0]], ('TABLE 1. List of Abbreviations and Acronyms.', 0.9900095462799072)]\n",
      "[[[439.0, 92.0], [508.0, 95.0], [507.0, 111.0], [438.0, 107.0]], ('IoT Challenges', 0.982211172580719)]\n",
      "[[[561.0, 97.0], [686.0, 97.0], [686.0, 109.0], [561.0, 109.0]], ('Security Requirements of IoT', 0.9910973310470581)]\n",
      "[[[57.0, 118.0], [113.0, 120.0], [112.0, 132.0], [57.0, 129.0]], ('Acronyms', 0.9938541650772095)]\n",
      "[[[115.0, 119.0], [182.0, 119.0], [182.0, 130.0], [115.0, 130.0]], ('Abbreviations', 0.9958264827728271)]\n",
      "[[[55.0, 130.0], [89.0, 130.0], [89.0, 142.0], [55.0, 142.0]], ('RFID', 0.9872277975082397)]\n",
      "[[[116.0, 129.0], [247.0, 129.0], [247.0, 144.0], [116.0, 144.0]], ('Radio Frequency IDentification', 0.9844635128974915)]\n",
      "[[[451.0, 129.0], [502.0, 129.0], [502.0, 142.0], [451.0, 142.0]], ('Cyber Security', 0.9953705668449402)]\n",
      "[[[56.0, 142.0], [86.0, 142.0], [86.0, 153.0], [56.0, 153.0]], ('LWC', 0.9565781950950623)]\n",
      "[[[119.0, 142.0], [226.0, 143.0], [226.0, 154.0], [119.0, 153.0]], ('Lightweight Cryptography', 0.9999022483825684)]\n",
      "[[[461.0, 143.0], [492.0, 143.0], [492.0, 151.0], [461.0, 151.0]], ('J#1 Challenge)', 0.7740758061408997)]\n",
      "[[[56.0, 153.0], [90.0, 153.0], [90.0, 165.0], [56.0, 165.0]], ('FPGA', 0.9322203397750854)]\n",
      "[[[120.0, 154.0], [251.0, 154.0], [251.0, 165.0], [120.0, 165.0]], ('Field Programmable Gate Arrays', 0.9902945756912231)]\n",
      "[[[55.0, 164.0], [84.0, 164.0], [84.0, 177.0], [55.0, 177.0]], ('SPN', 0.9930482506752014)]\n",
      "[[[119.0, 164.0], [257.0, 165.0], [257.0, 178.0], [119.0, 177.0]], ('Substitution-Permutation Network', 0.984817385673523)]\n",
      "[[[643.0, 169.0], [670.0, 169.0], [670.0, 186.0], [643.0, 186.0]], ('Integrity', 0.841032862663269)]\n",
      "[[[649.0, 165.0], [665.0, 165.0], [665.0, 173.0], [649.0, 173.0]], ('Data', 0.9867287874221802)]\n",
      "[[[56.0, 178.0], [77.0, 178.0], [77.0, 187.0], [56.0, 187.0]], ('FN', 0.9849956035614014)]\n",
      "[[[119.0, 177.0], [185.0, 177.0], [185.0, 188.0], [119.0, 188.0]], ('Feistel Network', 0.9999189972877502)]\n",
      "[[[56.0, 188.0], [85.0, 188.0], [85.0, 201.0], [56.0, 201.0]], ('GFN', 0.9920622706413269)]\n",
      "[[[120.0, 189.0], [218.0, 189.0], [218.0, 201.0], [120.0, 201.0]], ('General Feistel Network', 0.9730384945869446)]\n",
      "[[[56.0, 199.0], [85.0, 199.0], [85.0, 212.0], [56.0, 212.0]], ('ARX', 0.9905768036842346)]\n",
      "[[[122.0, 199.0], [192.0, 199.0], [192.0, 212.0], [122.0, 212.0]], ('Add-Rotate-XOR', 0.9982256889343262)]\n",
      "[[[447.0, 201.0], [503.0, 201.0], [503.0, 212.0], [447.0, 212.0]], ('Longevity & Support', 0.9780694246292114)]\n",
      "[[[55.0, 212.0], [95.0, 212.0], [95.0, 223.0], [55.0, 223.0]], ('NLFSR', 0.9989118576049805)]\n",
      "[[[119.0, 211.0], [260.0, 212.0], [260.0, 224.0], [119.0, 223.0]], ('NonLinear-Feedback Shift Register', 0.9988537430763245)]\n",
      "[[[55.0, 222.0], [93.0, 222.0], [93.0, 235.0], [55.0, 235.0]], ('AEAD', 0.999176025390625)]\n",
      "[[[116.0, 232.0], [293.0, 233.0], [293.0, 248.0], [116.0, 247.0]], ('Global System for Mobile Communications', 0.9981379508972168)]\n",
      "[[[122.0, 224.0], [309.0, 224.0], [309.0, 236.0], [122.0, 236.0]], ('Authenticated Encryption with Associated Data', 0.9997959733009338)]\n",
      "[[[536.0, 223.0], [562.0, 223.0], [562.0, 232.0], [536.0, 232.0]], ('Privacy &', 0.9710862040519714)]\n",
      "[[[55.0, 235.0], [88.0, 235.0], [88.0, 247.0], [55.0, 247.0]], ('GSM', 0.9840863347053528)]\n",
      "[[[460.0, 233.0], [495.0, 233.0], [495.0, 245.0], [460.0, 245.0]], ('Technologies', 0.9668434262275696)]\n",
      "[[[56.0, 247.0], [92.0, 247.0], [92.0, 258.0], [56.0, 258.0]], ('UMTS', 0.8502039313316345)]\n",
      "[[[119.0, 246.0], [306.0, 247.0], [306.0, 260.0], [119.0, 258.0]], ('Universal Mobile Telecommunications System', 0.9898688197135925)]\n",
      "[[[55.0, 258.0], [90.0, 258.0], [90.0, 270.0], [55.0, 270.0]], ('GPRS', 0.9882453083992004)]\n",
      "[[[117.0, 258.0], [240.0, 258.0], [240.0, 270.0], [117.0, 270.0]], ('General Packet Radio Service', 0.999914824962616)]\n",
      "[[[588.0, 257.0], [620.0, 257.0], [620.0, 270.0], [588.0, 270.0]], ('Availability', 0.8188724517822266)]\n",
      "[[[56.0, 270.0], [88.0, 270.0], [88.0, 282.0], [56.0, 282.0]], ('NIST', 0.9972681999206543)]\n",
      "[[[119.0, 271.0], [335.0, 271.0], [335.0, 282.0], [119.0, 282.0]], ('National Institute of Standards and Technology (USA)', 0.9851694107055664)]\n",
      "[[[61.0, 287.0], [99.0, 287.0], [99.0, 299.0], [61.0, 299.0]], ('ISO/IEC', 0.9999145269393921)]\n",
      "[[[122.0, 282.0], [370.0, 282.0], [370.0, 294.0], [122.0, 294.0]], ('International Organization of Standardization and the Interna', 0.9850717186927795)]\n",
      "[[[56.0, 303.0], [85.0, 303.0], [85.0, 315.0], [56.0, 315.0]], ('IETF', 0.915247917175293)]\n",
      "[[[119.0, 294.0], [262.0, 294.0], [262.0, 305.0], [119.0, 305.0]], ('tional Electrotechnical Commission', 0.9926700592041016)]\n",
      "[[[120.0, 305.0], [249.0, 305.0], [249.0, 316.0], [120.0, 316.0]], ('Internet Engineering Task Force', 0.999945878982544)]\n",
      "[[[410.0, 298.0], [569.0, 299.0], [569.0, 314.0], [410.0, 313.0]], ('FIGURE 2. loT Security Challenges', 0.9759405851364136)]\n",
      "[[[56.0, 316.0], [99.0, 316.0], [99.0, 328.0], [56.0, 328.0]], ('NESSIE', 0.9779852032661438)]\n",
      "[[[118.0, 315.0], [375.0, 316.0], [375.0, 329.0], [118.0, 328.0]], ('New European Schemes for Signatures, Integrity and Encryption', 0.991286039352417)]\n",
      "[[[55.0, 329.0], [99.0, 329.0], [99.0, 341.0], [55.0, 341.0]], ('Cryptrec', 0.986672043800354)]\n",
      "[[[117.0, 326.0], [356.0, 325.0], [356.0, 341.0], [117.0, 342.0]], ('Cryptography Research and Evaluation Committes (Japan)', 0.9966683387756348)]\n",
      "[[[56.0, 336.0], [93.0, 340.0], [91.0, 353.0], [54.0, 349.0]], ('Ecrypt', 0.973383903503418)]\n",
      "[[[56.0, 350.0], [86.0, 350.0], [86.0, 363.0], [56.0, 363.0]], ('NSA', 0.9945241808891296)]\n",
      "[[[120.0, 351.0], [253.0, 351.0], [253.0, 363.0], [120.0, 363.0]], ('National Security Agency (USA)', 0.9945192933082581)]\n",
      "[[[57.0, 362.0], [92.0, 362.0], [92.0, 374.0], [57.0, 374.0]], ('MITM', 0.9915145635604858)]\n",
      "[[[120.0, 363.0], [225.0, 363.0], [225.0, 374.0], [120.0, 374.0]], ('Man-in-the-Middle Attack', 0.9975399374961853)]\n",
      "[[[56.0, 375.0], [78.0, 375.0], [78.0, 384.0], [56.0, 384.0]], ('GE', 0.9900649785995483)]\n",
      "[[[120.0, 375.0], [190.0, 375.0], [190.0, 386.0], [120.0, 386.0]], ('Gate Equivalents', 0.9998683929443359)]\n",
      "[[[583.0, 368.0], [603.0, 368.0], [603.0, 383.0], [583.0, 383.0]], ('RAM', 0.9806537628173828)]\n",
      "[[[55.0, 385.0], [89.0, 385.0], [89.0, 398.0], [55.0, 398.0]], ('S-box', 0.9799925684928894)]\n",
      "[[[119.0, 384.0], [188.0, 385.0], [187.0, 398.0], [119.0, 397.0]], ('Substitution box', 0.9990816116333008)]\n",
      "[[[55.0, 397.0], [86.0, 397.0], [86.0, 409.0], [55.0, 409.0]], ('LED', 0.9971675276756287)]\n",
      "[[[120.0, 398.0], [245.0, 398.0], [245.0, 409.0], [120.0, 409.0]], ('Lightweight Encryption Device', 0.9998885989189148)]\n",
      "[[[562.0, 400.0], [599.0, 403.0], [598.0, 415.0], [561.0, 412.0]], ('Memory', 0.9987325668334961)]\n",
      "[[[568.0, 392.0], [594.0, 392.0], [594.0, 401.0], [568.0, 401.0]], ('Small', 0.9967678785324097)]\n",
      "[[[57.0, 409.0], [95.0, 409.0], [95.0, 420.0], [57.0, 420.0]], ('EPCBC', 0.9898188710212708)]\n",
      "[[[119.0, 408.0], [273.0, 409.0], [273.0, 422.0], [119.0, 420.0]], ('Electronic Product Code Block Cipher', 0.9891316890716553)]\n",
      "[[[56.0, 422.0], [84.0, 422.0], [84.0, 432.0], [56.0, 432.0]], ('DES', 0.9608784317970276)]\n",
      "[[[117.0, 419.0], [223.0, 421.0], [223.0, 433.0], [117.0, 432.0]], ('Data Encryption Standard', 0.9967247843742371)]\n",
      "[[[57.0, 433.0], [83.0, 433.0], [83.0, 442.0], [57.0, 442.0]], ('AES', 0.9885652661323547)]\n",
      "[[[121.0, 431.0], [264.0, 432.0], [264.0, 444.0], [120.0, 443.0]], ('Advanced data Encryption Standard', 0.9960319995880127)]\n",
      "[[[56.0, 443.0], [84.0, 443.0], [84.0, 456.0], [56.0, 456.0]], ('TEA', 0.998596727848053)]\n",
      "[[[122.0, 444.0], [230.0, 444.0], [230.0, 456.0], [122.0, 456.0]], ('Tiny Encryption Algorithm', 0.9995328783988953)]\n",
      "[[[55.0, 456.0], [91.0, 456.0], [91.0, 468.0], [55.0, 468.0]], ('XTEA', 0.998882532119751)]\n",
      "[[[118.0, 456.0], [183.0, 456.0], [183.0, 467.0], [118.0, 467.0]], ('eXtended TEA', 0.9742791652679443)]\n",
      "[[[447.0, 448.0], [490.0, 448.0], [490.0, 460.0], [447.0, 460.0]], ('Real-time', 0.9969581961631775)]\n",
      "[[[655.0, 449.0], [730.0, 451.0], [729.0, 461.0], [654.0, 459.0]], ('Small Computing', 0.9840964674949646)]\n",
      "[[[57.0, 468.0], [83.0, 468.0], [83.0, 477.0], [57.0, 477.0]], ('SEA', 0.9837004542350769)]\n",
      "[[[119.0, 466.0], [244.0, 467.0], [244.0, 479.0], [119.0, 478.0]], ('Scalable Encryption Algorithm', 0.9998147487640381)]\n",
      "[[[447.0, 459.0], [489.0, 459.0], [489.0, 470.0], [447.0, 470.0]], ('Response', 0.9979792833328247)]\n",
      "[[[557.0, 464.0], [603.0, 467.0], [602.0, 483.0], [556.0, 480.0]], ('Cryptograes', 0.893254816532135)]\n",
      "[[[680.0, 461.0], [706.0, 461.0], [706.0, 470.0], [680.0, 470.0]], ('Power', 0.9981478452682495)]\n",
      "[[[55.0, 478.0], [89.0, 478.0], [89.0, 491.0], [55.0, 491.0]], ('IDEA', 0.9987181425094604)]\n",
      "[[[119.0, 478.0], [283.0, 478.0], [283.0, 493.0], [119.0, 493.0]], ('International Data Encryption Algorithm', 0.9857901334762573)]\n",
      "[[[57.0, 490.0], [94.0, 490.0], [94.0, 502.0], [57.0, 502.0]], ('LHOIH', 0.7124153971672058)]\n",
      "[[[120.0, 491.0], [240.0, 491.0], [240.0, 502.0], [120.0, 502.0]], ('High security and lightweight', 0.9999657869338989)]\n",
      "[[[557.0, 486.0], [603.0, 486.0], [603.0, 502.0], [557.0, 502.0]], ('IoT devices', 0.9505075216293335)]\n",
      "[[[55.0, 502.0], [95.0, 502.0], [95.0, 513.0], [55.0, 513.0]], ('BEST-1', 0.9894276261329651)]\n",
      "[[[119.0, 500.0], [277.0, 501.0], [277.0, 516.0], [119.0, 515.0]], ('Better Encryption Security Technique-1', 0.9807355999946594)]\n",
      "[[[55.0, 512.0], [84.0, 512.0], [84.0, 525.0], [55.0, 525.0]], ('LEA', 0.9993961453437805)]\n",
      "[[[120.0, 512.0], [284.0, 512.0], [284.0, 527.0], [120.0, 527.0]], ('Lightweight block Encryption Algorithm', 0.9907720685005188)]\n",
      "[[[56.0, 524.0], [93.0, 524.0], [93.0, 536.0], [56.0, 536.0]], ('ETRIK', 0.9964249730110168)]\n",
      "[[[119.0, 526.0], [375.0, 526.0], [375.0, 537.0], [119.0, 537.0]], ('Electronics and Telecommunication Research Institute of Korea', 0.9897979497909546)]\n",
      "[[[469.0, 569.0], [520.0, 569.0], [520.0, 580.0], [469.0, 580.0]], ('Low Battery', 0.9986740350723267)]\n",
      "[[[630.0, 564.0], [692.0, 566.0], [692.0, 578.0], [629.0, 577.0]], ('Small Physical', 0.9963244199752808)]\n",
      "[[[481.0, 579.0], [511.0, 579.0], [511.0, 590.0], [481.0, 590.0]], ('Power', 0.998792290687561)]\n",
      "[[[651.0, 578.0], [673.0, 578.0], [673.0, 587.0], [651.0, 587.0]], ('Area', 0.9998652935028076)]\n",
      "[[[51.0, 588.0], [372.0, 588.0], [372.0, 600.0], [51.0, 600.0]], ('B.SECURITY CONCERNS OF RESOURCE-CONSTRAINED', 0.968013346195221)]\n",
      "[[[50.0, 605.0], [298.0, 605.0], [298.0, 617.0], [50.0, 617.0]], ('IOT DEVICES: CHALLENGESAND SECURITY', 0.9442530870437622)]\n",
      "[[[49.0, 620.0], [147.0, 620.0], [147.0, 635.0], [49.0, 635.0]], ('REQUIREMENTS', 0.9977967739105225)]\n",
      "[[[410.0, 611.0], [683.0, 613.0], [683.0, 628.0], [410.0, 626.0]], ('FIGURE 3. Key Challenges with Conventional Cryptography.', 0.9764879941940308)]\n",
      "[[[50.0, 638.0], [384.0, 638.0], [384.0, 653.0], [50.0, 653.0]], ('When billions of smart devices (connected devices) work-', 0.9874262809753418)]\n",
      "[[[49.0, 655.0], [386.0, 655.0], [386.0, 670.0], [49.0, 670.0]], ('ing in a diverse set of platforms, especially when shifting', 0.9868559837341309)]\n",
      "[[[50.0, 672.0], [386.0, 672.0], [386.0, 687.0], [50.0, 687.0]], ('from server to sensors, gives birth to various unprecedented', 0.9998083710670471)]\n",
      "[[[411.0, 663.0], [748.0, 663.0], [748.0, 678.0], [411.0, 678.0]], ('cryptography, can address these challenges to secure the com-', 0.9987577795982361)]\n",
      "[[[50.0, 688.0], [385.0, 688.0], [385.0, 703.0], [50.0, 703.0]], ('challenges to their owners or users [6] such as security &', 0.9900182485580444)]\n",
      "[[[410.0, 679.0], [681.0, 679.0], [681.0, 694.0], [410.0, 694.0]], ('munication in resource-constrained IoT devices.', 0.998772382736206)]\n",
      "[[[49.0, 705.0], [386.0, 705.0], [386.0, 720.0], [49.0, 720.0]], ('privacy, interoperability, longevity & support, technologies', 0.9958476424217224)]\n",
      "[[[49.0, 721.0], [386.0, 721.0], [386.0, 736.0], [49.0, 736.0]], ('and many more [8]. Also, IoT devices are easily accessible', 0.9946340322494507)]\n",
      "[[[415.0, 714.0], [676.0, 714.0], [676.0, 725.0], [415.0, 725.0]], ('C.KEY CHALLENGES WHILE IMPLEMENTING', 0.9594044089317322)]\n",
      "[[[49.0, 738.0], [388.0, 738.0], [388.0, 753.0], [49.0, 753.0]], ('and exposed to many security attacks [9] as they interact', 0.985231339931488)]\n",
      "[[[412.0, 731.0], [624.0, 731.0], [624.0, 742.0], [412.0, 742.0]], ('CONVENTIONAL CRYPTOGRAPHY IN', 0.9646410346031189)]\n",
      "[[[410.0, 745.0], [641.0, 745.0], [641.0, 759.0], [410.0, 759.0]], ('RESOURCE-CONSTRAINED IOT DEVICES', 0.966812014579773)]\n",
      "[[[50.0, 755.0], [386.0, 755.0], [386.0, 770.0], [50.0, 770.0]], ('directly with the physical world to collect confidential data or', 0.9995837211608887)]\n",
      "[[[49.0, 771.0], [388.0, 771.0], [388.0, 785.0], [49.0, 785.0]], ('to control physical environment variables, which makes them', 0.9995521903038025)]\n",
      "[[[411.0, 764.0], [745.0, 764.0], [745.0, 779.0], [411.0, 779.0]], ('The key challenges while implementing conventional cryp.', 0.9832854866981506)]\n",
      "[[[49.0, 788.0], [388.0, 788.0], [388.0, 802.0], [49.0, 802.0]], ('an attractive target for attackers [10]. All these circumstances', 0.9903782606124878)]\n",
      "[[[411.0, 780.0], [714.0, 780.0], [714.0, 794.0], [411.0, 794.0]], ('tography in IoT devices (Figure 3) are as follows [11]:', 0.9947152733802795)]\n",
      "[[[49.0, 804.0], [388.0, 804.0], [388.0, 818.0], [49.0, 818.0]], ('make cybersecurity as a major challenge in IoT devices with.', 0.9858261942863464)]\n",
      "[[[425.0, 800.0], [669.0, 799.0], [669.0, 815.0], [425.0, 816.0]], (' Limited memory (registers, RAM, ROM)', 0.9901169538497925)]\n",
      "[[[50.0, 822.0], [386.0, 822.0], [386.0, 836.0], [50.0, 836.0]], ('demands of confidentiality, data integrity, authentication &', 0.9929357171058655)]\n",
      "[[[438.0, 818.0], [591.0, 818.0], [591.0, 833.0], [438.0, 833.0]], ('Reduced computing power', 0.9851438999176025)]\n",
      "[[[50.0, 840.0], [386.0, 840.0], [386.0, 851.0], [50.0, 851.0]], ('authorization, availability, privacy & regulation standards and', 0.9969159364700317)]\n",
      "[[[425.0, 834.0], [700.0, 834.0], [700.0, 849.0], [425.0, 849.0]], ('Small physical area to implement the assembly', 0.9987726211547852)]\n",
      "[[[51.0, 856.0], [384.0, 856.0], [384.0, 867.0], [51.0, 867.0]], ('regular system updates [8]. The Figure 2 depicts IoT security', 0.9836047887802124)]\n",
      "[[[426.0, 851.0], [630.0, 851.0], [630.0, 867.0], [426.0, 867.0]], (' Low battery power (or no battery)', 0.955947756767273)]\n",
      "[[[51.0, 873.0], [275.0, 873.0], [275.0, 884.0], [51.0, 884.0]], ('challenges and its security requirements.', 0.9999159574508667)]\n",
      "[[[425.0, 867.0], [549.0, 867.0], [549.0, 882.0], [425.0, 882.0]], ('Real-time response', 0.9995389580726624)]\n",
      "[[[61.0, 887.0], [385.0, 887.0], [385.0, 902.0], [61.0, 902.0]], ('In this scenario, cryptography could be one of the effec-', 0.9921334385871887)]\n",
      "[[[411.0, 886.0], [749.0, 886.0], [749.0, 901.0], [411.0, 901.0]], ('Most of the IoT devices (such as RFIDs and sensors) are small', 0.9959412813186646)]\n",
      "[[[49.0, 904.0], [388.0, 904.0], [388.0, 919.0], [49.0, 919.0]], ('tive measures to guarantee confidentiality, integrity and', 0.9906034469604492)]\n",
      "[[[410.0, 904.0], [749.0, 904.0], [749.0, 919.0], [410.0, 919.0]], ('in size and are equipped with limited resources such as small', 0.9934396743774414)]\n",
      "[[[49.0, 921.0], [386.0, 921.0], [386.0, 936.0], [49.0, 936.0]], ('authentication & authorization of the traversing data through', 0.9904472231864929)]\n",
      "[[[410.0, 921.0], [748.0, 921.0], [748.0, 936.0], [410.0, 936.0]], ('memory (RAM, ROM) to store and to run the application,', 0.9966102838516235)]\n",
      "[[[49.0, 937.0], [385.0, 937.0], [385.0, 952.0], [49.0, 952.0]], ('IoT devices [7]. It could also be a solution to secure the', 0.9985705018043518)]\n",
      "[[[410.0, 936.0], [748.0, 937.0], [748.0, 953.0], [410.0, 952.0]], ('low computing power to process the data, limited battery', 0.992297351360321)]\n",
      "[[[49.0, 954.0], [385.0, 954.0], [385.0, 969.0], [49.0, 969.0]], ('stored or traversing data over the network. However, con-', 0.9885048866271973)]\n",
      "[[[411.0, 954.0], [749.0, 954.0], [749.0, 969.0], [411.0, 969.0]], ('power (or no battery in case of passive RFID tags) [6], small', 0.9991419911384583)]\n",
      "[[[49.0, 970.0], [388.0, 970.0], [388.0, 985.0], [49.0, 985.0]], ('ventional PC based cryptography algorithms do not fit into', 0.9946465492248535)]\n",
      "[[[411.0, 970.0], [749.0, 970.0], [749.0, 985.0], [411.0, 985.0]], ('physical area to fit-in the assembly [6], [11]. Moreover, most', 0.9997603893280029)]\n",
      "[[[49.0, 987.0], [388.0, 987.0], [388.0, 1002.0], [49.0, 1002.0]], ('resource-constrained IoT devices due to their high resource.', 0.9783738255500793)]\n",
      "[[[411.0, 987.0], [748.0, 987.0], [748.0, 1002.0], [411.0, 1002.0]], ('of the IoT devices deal with the real-time application where', 0.987486720085144)]\n",
      "[[[49.0, 1004.0], [386.0, 1004.0], [386.0, 1019.0], [49.0, 1019.0]], ('demands. A lighter version of these solutions, lightweight', 0.9901213049888611)]\n",
      "[[[409.0, 1003.0], [749.0, 1004.0], [749.0, 1020.0], [409.0, 1019.0]], ('quick and accurate response with essential security using', 0.9989014863967896)]\n",
      "[[[49.0, 1035.0], [81.0, 1035.0], [81.0, 1047.0], [49.0, 1047.0]], ('28178', 0.9999562501907349)]\n",
      "[[[683.0, 1036.0], [748.0, 1036.0], [748.0, 1047.0], [683.0, 1047.0]], ('VOLUME 9, 2021', 0.9843501448631287)]\n"
     ]
    }
   ],
   "source": [
    "from PIL import Image\n",
    "\n",
    "image_path_2 =\"png/page_2.png\"\n",
    "\n",
    "ocr_result_2 = ocr.ocr(image_path_2, cls=True)\n",
    "\n",
    "for idx in range(len(ocr_result_2)):\n",
    "    res = ocr_result_2[idx]\n",
    "    for line in res:\n",
    "        print(line)"
   ]
  },
  {
   "cell_type": "code",
   "execution_count": 20,
   "metadata": {},
   "outputs": [],
   "source": [
    "# draw result\n",
    "result = ocr_result_2[0]\n",
    "image = Image.open(image_path_2).convert('RGB')\n",
    "\n",
    "boxes = [elements[0] for elements in result]\n",
    "txts = [elements[1][0] for elements in result]\n",
    "scores = [elements[1][1] for elements in result]\n",
    "\n",
    "im_show = draw_ocr(image, boxes, txts, scores, font_path='Ubuntu-L.ttf')\n",
    "im_show = Image.fromarray(im_show)\n",
    "im_show.save(\"second_page_annotation.png\")"
   ]
  },
  {
   "cell_type": "code",
   "execution_count": 14,
   "metadata": {},
   "outputs": [
    {
     "data": {
      "text/plain": [
       "58"
      ]
     },
     "execution_count": 14,
     "metadata": {},
     "output_type": "execute_result"
    }
   ],
   "source": [
    "len(ocr_result[0])"
   ]
  },
  {
   "cell_type": "code",
   "execution_count": 21,
   "metadata": {},
   "outputs": [
    {
     "data": {
      "text/plain": [
       "146"
      ]
     },
     "execution_count": 21,
     "metadata": {},
     "output_type": "execute_result"
    }
   ],
   "source": [
    "len(ocr_result_2[0])"
   ]
  },
  {
   "cell_type": "code",
   "execution_count": 24,
   "metadata": {},
   "outputs": [
    {
     "name": "stdout",
     "output_type": "stream",
     "text": [
      "[2024/10/03 09:32:55] ppocr DEBUG: Namespace(help='==SUPPRESS==', use_gpu=False, use_xpu=False, use_npu=False, use_mlu=False, ir_optim=True, use_tensorrt=False, min_subgraph_size=15, precision='fp32', gpu_mem=500, gpu_id=0, image_dir=None, page_num=0, det_algorithm='DB', det_model_dir='C:\\\\Users\\\\Diluksha Shamal/.paddleocr/whl\\\\det\\\\en\\\\en_PP-OCRv3_det_infer', det_limit_side_len=960, det_limit_type='max', det_box_type='quad', det_db_thresh=0.3, det_db_box_thresh=0.6, det_db_unclip_ratio=1.5, max_batch_size=10, use_dilation=False, det_db_score_mode='fast', det_east_score_thresh=0.8, det_east_cover_thresh=0.1, det_east_nms_thresh=0.2, det_sast_score_thresh=0.5, det_sast_nms_thresh=0.2, det_pse_thresh=0, det_pse_box_thresh=0.85, det_pse_min_area=16, det_pse_scale=1, scales=[8, 16, 32], alpha=1.0, beta=1.0, fourier_degree=5, rec_algorithm='SVTR_LCNet', rec_model_dir='C:\\\\Users\\\\Diluksha Shamal/.paddleocr/whl\\\\rec\\\\en\\\\en_PP-OCRv4_rec_infer', rec_image_inverse=True, rec_image_shape='3, 48, 320', rec_batch_num=6, max_text_length=25, rec_char_dict_path='c:\\\\Users\\\\Diluksha Shamal\\\\anaconda3\\\\envs\\\\venv\\\\lib\\\\site-packages\\\\paddleocr\\\\ppocr\\\\utils\\\\en_dict.txt', use_space_char=True, vis_font_path='./doc/fonts/simfang.ttf', drop_score=0.5, e2e_algorithm='PGNet', e2e_model_dir=None, e2e_limit_side_len=768, e2e_limit_type='max', e2e_pgnet_score_thresh=0.5, e2e_char_dict_path='./ppocr/utils/ic15_dict.txt', e2e_pgnet_valid_set='totaltext', e2e_pgnet_mode='fast', use_angle_cls=False, cls_model_dir=None, cls_image_shape='3, 48, 192', label_list=['0', '180'], cls_batch_num=6, cls_thresh=0.9, enable_mkldnn=False, cpu_threads=10, use_pdserving=False, warmup=False, sr_model_dir=None, sr_image_shape='3, 32, 128', sr_batch_num=1, draw_img_save_dir='./inference_results', save_crop_res=False, crop_res_save_dir='./output', use_mp=False, total_process_num=1, process_id=0, benchmark=False, save_log_path='./log_output/', show_log=True, use_onnx=False, return_word_box=False, output='./output', table_max_len=488, table_algorithm='TableAttn', table_model_dir='C:\\\\Users\\\\Diluksha Shamal/.paddleocr/whl\\\\table\\\\en_ppstructure_mobile_v2.0_SLANet_infer', merge_no_span_structure=True, table_char_dict_path='c:\\\\Users\\\\Diluksha Shamal\\\\anaconda3\\\\envs\\\\venv\\\\lib\\\\site-packages\\\\paddleocr\\\\ppocr\\\\utils\\\\dict\\\\table_structure_dict.txt', layout_model_dir='C:\\\\Users\\\\Diluksha Shamal/.paddleocr/whl\\\\layout\\\\picodet_lcnet_x1_0_fgd_layout_infer', layout_dict_path='c:\\\\Users\\\\Diluksha Shamal\\\\anaconda3\\\\envs\\\\venv\\\\lib\\\\site-packages\\\\paddleocr\\\\ppocr\\\\utils\\\\dict\\\\layout_dict\\\\layout_publaynet_dict.txt', layout_score_threshold=0.5, layout_nms_threshold=0.5, kie_algorithm='LayoutXLM', ser_model_dir=None, re_model_dir=None, use_visual_backbone=True, ser_dict_path='../train_data/XFUND/class_list_xfun.txt', ocr_order_method=None, mode='structure', image_orientation=False, layout=True, table=True, ocr=True, recovery=False, use_pdf2docx_api=False, invert=False, binarize=False, alphacolor=(255, 255, 255), lang='en', det=True, rec=True, type='ocr', savefile=False, ocr_version='PP-OCRv4', structure_version='PP-StructureV2')\n",
      "[2024/10/03 09:33:00] ppocr DEBUG: dt_boxes num : 58, elapsed : 0.9230964183807373\n",
      "[2024/10/03 09:33:22] ppocr DEBUG: rec_res num  : 58, elapsed : 21.987325191497803\n"
     ]
    }
   ],
   "source": [
    "from paddleocr import PPStructure, draw_structure_result, save_structure_res\n",
    "import cv2\n",
    "from PIL import Image\n",
    "\n",
    "# Initialize the PPStructure object for layout detection\n",
    "model = PPStructure(layout=True, lang='en')\n",
    "\n",
    "# Path to your input image\n",
    "image_path = \"first_page_image.png\"\n",
    "\n",
    "# Read the image\n",
    "image = cv2.imread(image_path)\n",
    "\n",
    "# Perform layout detection\n",
    "result = model(image)\n",
    "\n",
    "# Save the structured results (layout detection results)\n",
    "save_folder = 'output_results'\n",
    "save_structure_res(result, save_folder, image_path.split('/')[-1].split('.')[0])\n",
    "\n",
    "# Visualize the detection results\n",
    "image = Image.open(image_path).convert('RGB')\n",
    "im_show = draw_structure_result(image, result, font_path='Ubuntu-L.ttf')\n",
    "\n",
    "# Convert the output from numpy array to PIL Image and save\n",
    "im_show_pil = Image.fromarray(im_show)\n",
    "im_show_pil.save(\"first_page_image_layout.png\")"
   ]
  },
  {
   "cell_type": "code",
   "execution_count": null,
   "metadata": {},
   "outputs": [],
   "source": []
  }
 ],
 "metadata": {
  "kernelspec": {
   "display_name": "venv",
   "language": "python",
   "name": "python3"
  },
  "language_info": {
   "codemirror_mode": {
    "name": "ipython",
    "version": 3
   },
   "file_extension": ".py",
   "mimetype": "text/x-python",
   "name": "python",
   "nbconvert_exporter": "python",
   "pygments_lexer": "ipython3",
   "version": "3.10.15"
  }
 },
 "nbformat": 4,
 "nbformat_minor": 2
}
