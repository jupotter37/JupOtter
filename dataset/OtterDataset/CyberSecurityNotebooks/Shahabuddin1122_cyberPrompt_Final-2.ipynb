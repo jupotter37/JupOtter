{
  "nbformat": 4,
  "nbformat_minor": 0,
  "metadata": {
    "colab": {
      "provenance": []
    },
    "kernelspec": {
      "name": "python3",
      "display_name": "Python 3"
    },
    "language_info": {
      "name": "python"
    },
    "widgets": {
      "application/vnd.jupyter.widget-state+json": {
        "93dfb141e34b42248d7de8e36c26a923": {
          "model_module": "@jupyter-widgets/controls",
          "model_name": "HBoxModel",
          "model_module_version": "1.5.0",
          "state": {
            "_dom_classes": [],
            "_model_module": "@jupyter-widgets/controls",
            "_model_module_version": "1.5.0",
            "_model_name": "HBoxModel",
            "_view_count": null,
            "_view_module": "@jupyter-widgets/controls",
            "_view_module_version": "1.5.0",
            "_view_name": "HBoxView",
            "box_style": "",
            "children": [
              "IPY_MODEL_13f5c2ec27e74cafaaca7f8ac63cb182",
              "IPY_MODEL_0fa160c959e34b06b4e3b884da2cc7de",
              "IPY_MODEL_c0358602475b4692a7f4f5137a60b9a7"
            ],
            "layout": "IPY_MODEL_312b322df28848ee8947d6226c2fcb3e"
          }
        },
        "13f5c2ec27e74cafaaca7f8ac63cb182": {
          "model_module": "@jupyter-widgets/controls",
          "model_name": "HTMLModel",
          "model_module_version": "1.5.0",
          "state": {
            "_dom_classes": [],
            "_model_module": "@jupyter-widgets/controls",
            "_model_module_version": "1.5.0",
            "_model_name": "HTMLModel",
            "_view_count": null,
            "_view_module": "@jupyter-widgets/controls",
            "_view_module_version": "1.5.0",
            "_view_name": "HTMLView",
            "description": "",
            "description_tooltip": null,
            "layout": "IPY_MODEL_dc34898b14594ef4975b4a7700326d5e",
            "placeholder": "​",
            "style": "IPY_MODEL_2a4229a9917d4e3388c294964a4e09f4",
            "value": "vocab.json: 100%"
          }
        },
        "0fa160c959e34b06b4e3b884da2cc7de": {
          "model_module": "@jupyter-widgets/controls",
          "model_name": "FloatProgressModel",
          "model_module_version": "1.5.0",
          "state": {
            "_dom_classes": [],
            "_model_module": "@jupyter-widgets/controls",
            "_model_module_version": "1.5.0",
            "_model_name": "FloatProgressModel",
            "_view_count": null,
            "_view_module": "@jupyter-widgets/controls",
            "_view_module_version": "1.5.0",
            "_view_name": "ProgressView",
            "bar_style": "success",
            "description": "",
            "description_tooltip": null,
            "layout": "IPY_MODEL_7a82af5c3c1c4a2cbd6dbd01161d7828",
            "max": 898823,
            "min": 0,
            "orientation": "horizontal",
            "style": "IPY_MODEL_352bebc44f0d43529244990028cf7c10",
            "value": 898823
          }
        },
        "c0358602475b4692a7f4f5137a60b9a7": {
          "model_module": "@jupyter-widgets/controls",
          "model_name": "HTMLModel",
          "model_module_version": "1.5.0",
          "state": {
            "_dom_classes": [],
            "_model_module": "@jupyter-widgets/controls",
            "_model_module_version": "1.5.0",
            "_model_name": "HTMLModel",
            "_view_count": null,
            "_view_module": "@jupyter-widgets/controls",
            "_view_module_version": "1.5.0",
            "_view_name": "HTMLView",
            "description": "",
            "description_tooltip": null,
            "layout": "IPY_MODEL_5bc1b1d7c2314e588293d98c98edbfa1",
            "placeholder": "​",
            "style": "IPY_MODEL_0d780fb6105f482f8b0c2ccb174896b8",
            "value": " 899k/899k [00:00&lt;00:00, 4.81MB/s]"
          }
        },
        "312b322df28848ee8947d6226c2fcb3e": {
          "model_module": "@jupyter-widgets/base",
          "model_name": "LayoutModel",
          "model_module_version": "1.2.0",
          "state": {
            "_model_module": "@jupyter-widgets/base",
            "_model_module_version": "1.2.0",
            "_model_name": "LayoutModel",
            "_view_count": null,
            "_view_module": "@jupyter-widgets/base",
            "_view_module_version": "1.2.0",
            "_view_name": "LayoutView",
            "align_content": null,
            "align_items": null,
            "align_self": null,
            "border": null,
            "bottom": null,
            "display": null,
            "flex": null,
            "flex_flow": null,
            "grid_area": null,
            "grid_auto_columns": null,
            "grid_auto_flow": null,
            "grid_auto_rows": null,
            "grid_column": null,
            "grid_gap": null,
            "grid_row": null,
            "grid_template_areas": null,
            "grid_template_columns": null,
            "grid_template_rows": null,
            "height": null,
            "justify_content": null,
            "justify_items": null,
            "left": null,
            "margin": null,
            "max_height": null,
            "max_width": null,
            "min_height": null,
            "min_width": null,
            "object_fit": null,
            "object_position": null,
            "order": null,
            "overflow": null,
            "overflow_x": null,
            "overflow_y": null,
            "padding": null,
            "right": null,
            "top": null,
            "visibility": null,
            "width": null
          }
        },
        "dc34898b14594ef4975b4a7700326d5e": {
          "model_module": "@jupyter-widgets/base",
          "model_name": "LayoutModel",
          "model_module_version": "1.2.0",
          "state": {
            "_model_module": "@jupyter-widgets/base",
            "_model_module_version": "1.2.0",
            "_model_name": "LayoutModel",
            "_view_count": null,
            "_view_module": "@jupyter-widgets/base",
            "_view_module_version": "1.2.0",
            "_view_name": "LayoutView",
            "align_content": null,
            "align_items": null,
            "align_self": null,
            "border": null,
            "bottom": null,
            "display": null,
            "flex": null,
            "flex_flow": null,
            "grid_area": null,
            "grid_auto_columns": null,
            "grid_auto_flow": null,
            "grid_auto_rows": null,
            "grid_column": null,
            "grid_gap": null,
            "grid_row": null,
            "grid_template_areas": null,
            "grid_template_columns": null,
            "grid_template_rows": null,
            "height": null,
            "justify_content": null,
            "justify_items": null,
            "left": null,
            "margin": null,
            "max_height": null,
            "max_width": null,
            "min_height": null,
            "min_width": null,
            "object_fit": null,
            "object_position": null,
            "order": null,
            "overflow": null,
            "overflow_x": null,
            "overflow_y": null,
            "padding": null,
            "right": null,
            "top": null,
            "visibility": null,
            "width": null
          }
        },
        "2a4229a9917d4e3388c294964a4e09f4": {
          "model_module": "@jupyter-widgets/controls",
          "model_name": "DescriptionStyleModel",
          "model_module_version": "1.5.0",
          "state": {
            "_model_module": "@jupyter-widgets/controls",
            "_model_module_version": "1.5.0",
            "_model_name": "DescriptionStyleModel",
            "_view_count": null,
            "_view_module": "@jupyter-widgets/base",
            "_view_module_version": "1.2.0",
            "_view_name": "StyleView",
            "description_width": ""
          }
        },
        "7a82af5c3c1c4a2cbd6dbd01161d7828": {
          "model_module": "@jupyter-widgets/base",
          "model_name": "LayoutModel",
          "model_module_version": "1.2.0",
          "state": {
            "_model_module": "@jupyter-widgets/base",
            "_model_module_version": "1.2.0",
            "_model_name": "LayoutModel",
            "_view_count": null,
            "_view_module": "@jupyter-widgets/base",
            "_view_module_version": "1.2.0",
            "_view_name": "LayoutView",
            "align_content": null,
            "align_items": null,
            "align_self": null,
            "border": null,
            "bottom": null,
            "display": null,
            "flex": null,
            "flex_flow": null,
            "grid_area": null,
            "grid_auto_columns": null,
            "grid_auto_flow": null,
            "grid_auto_rows": null,
            "grid_column": null,
            "grid_gap": null,
            "grid_row": null,
            "grid_template_areas": null,
            "grid_template_columns": null,
            "grid_template_rows": null,
            "height": null,
            "justify_content": null,
            "justify_items": null,
            "left": null,
            "margin": null,
            "max_height": null,
            "max_width": null,
            "min_height": null,
            "min_width": null,
            "object_fit": null,
            "object_position": null,
            "order": null,
            "overflow": null,
            "overflow_x": null,
            "overflow_y": null,
            "padding": null,
            "right": null,
            "top": null,
            "visibility": null,
            "width": null
          }
        },
        "352bebc44f0d43529244990028cf7c10": {
          "model_module": "@jupyter-widgets/controls",
          "model_name": "ProgressStyleModel",
          "model_module_version": "1.5.0",
          "state": {
            "_model_module": "@jupyter-widgets/controls",
            "_model_module_version": "1.5.0",
            "_model_name": "ProgressStyleModel",
            "_view_count": null,
            "_view_module": "@jupyter-widgets/base",
            "_view_module_version": "1.2.0",
            "_view_name": "StyleView",
            "bar_color": null,
            "description_width": ""
          }
        },
        "5bc1b1d7c2314e588293d98c98edbfa1": {
          "model_module": "@jupyter-widgets/base",
          "model_name": "LayoutModel",
          "model_module_version": "1.2.0",
          "state": {
            "_model_module": "@jupyter-widgets/base",
            "_model_module_version": "1.2.0",
            "_model_name": "LayoutModel",
            "_view_count": null,
            "_view_module": "@jupyter-widgets/base",
            "_view_module_version": "1.2.0",
            "_view_name": "LayoutView",
            "align_content": null,
            "align_items": null,
            "align_self": null,
            "border": null,
            "bottom": null,
            "display": null,
            "flex": null,
            "flex_flow": null,
            "grid_area": null,
            "grid_auto_columns": null,
            "grid_auto_flow": null,
            "grid_auto_rows": null,
            "grid_column": null,
            "grid_gap": null,
            "grid_row": null,
            "grid_template_areas": null,
            "grid_template_columns": null,
            "grid_template_rows": null,
            "height": null,
            "justify_content": null,
            "justify_items": null,
            "left": null,
            "margin": null,
            "max_height": null,
            "max_width": null,
            "min_height": null,
            "min_width": null,
            "object_fit": null,
            "object_position": null,
            "order": null,
            "overflow": null,
            "overflow_x": null,
            "overflow_y": null,
            "padding": null,
            "right": null,
            "top": null,
            "visibility": null,
            "width": null
          }
        },
        "0d780fb6105f482f8b0c2ccb174896b8": {
          "model_module": "@jupyter-widgets/controls",
          "model_name": "DescriptionStyleModel",
          "model_module_version": "1.5.0",
          "state": {
            "_model_module": "@jupyter-widgets/controls",
            "_model_module_version": "1.5.0",
            "_model_name": "DescriptionStyleModel",
            "_view_count": null,
            "_view_module": "@jupyter-widgets/base",
            "_view_module_version": "1.2.0",
            "_view_name": "StyleView",
            "description_width": ""
          }
        },
        "7cedc63c4199418f813a5d345bae166c": {
          "model_module": "@jupyter-widgets/controls",
          "model_name": "HBoxModel",
          "model_module_version": "1.5.0",
          "state": {
            "_dom_classes": [],
            "_model_module": "@jupyter-widgets/controls",
            "_model_module_version": "1.5.0",
            "_model_name": "HBoxModel",
            "_view_count": null,
            "_view_module": "@jupyter-widgets/controls",
            "_view_module_version": "1.5.0",
            "_view_name": "HBoxView",
            "box_style": "",
            "children": [
              "IPY_MODEL_bf8568158d944b1e86f1e987ddc18d74",
              "IPY_MODEL_7213b5bfd5644497a264e6a120d29a8a",
              "IPY_MODEL_4124830158aa468cb04f403a08047045"
            ],
            "layout": "IPY_MODEL_d79650a49a08459ca96ba25387d9b1a3"
          }
        },
        "bf8568158d944b1e86f1e987ddc18d74": {
          "model_module": "@jupyter-widgets/controls",
          "model_name": "HTMLModel",
          "model_module_version": "1.5.0",
          "state": {
            "_dom_classes": [],
            "_model_module": "@jupyter-widgets/controls",
            "_model_module_version": "1.5.0",
            "_model_name": "HTMLModel",
            "_view_count": null,
            "_view_module": "@jupyter-widgets/controls",
            "_view_module_version": "1.5.0",
            "_view_name": "HTMLView",
            "description": "",
            "description_tooltip": null,
            "layout": "IPY_MODEL_d887d7f556fc4ac29f647dc59e4047d1",
            "placeholder": "​",
            "style": "IPY_MODEL_5b06fc0031a94a26a232a008e421f6d2",
            "value": "merges.txt: 100%"
          }
        },
        "7213b5bfd5644497a264e6a120d29a8a": {
          "model_module": "@jupyter-widgets/controls",
          "model_name": "FloatProgressModel",
          "model_module_version": "1.5.0",
          "state": {
            "_dom_classes": [],
            "_model_module": "@jupyter-widgets/controls",
            "_model_module_version": "1.5.0",
            "_model_name": "FloatProgressModel",
            "_view_count": null,
            "_view_module": "@jupyter-widgets/controls",
            "_view_module_version": "1.5.0",
            "_view_name": "ProgressView",
            "bar_style": "success",
            "description": "",
            "description_tooltip": null,
            "layout": "IPY_MODEL_f87e8c10797145f89079d2dcbcf5dc45",
            "max": 456318,
            "min": 0,
            "orientation": "horizontal",
            "style": "IPY_MODEL_8afaad8b94e14bbd95c27ba1ff8e2026",
            "value": 456318
          }
        },
        "4124830158aa468cb04f403a08047045": {
          "model_module": "@jupyter-widgets/controls",
          "model_name": "HTMLModel",
          "model_module_version": "1.5.0",
          "state": {
            "_dom_classes": [],
            "_model_module": "@jupyter-widgets/controls",
            "_model_module_version": "1.5.0",
            "_model_name": "HTMLModel",
            "_view_count": null,
            "_view_module": "@jupyter-widgets/controls",
            "_view_module_version": "1.5.0",
            "_view_name": "HTMLView",
            "description": "",
            "description_tooltip": null,
            "layout": "IPY_MODEL_ee4209459bf24621a68de7fdc3dbe14f",
            "placeholder": "​",
            "style": "IPY_MODEL_ac4f6ee146774f86b2b0ae7cea6ac180",
            "value": " 456k/456k [00:00&lt;00:00, 3.58MB/s]"
          }
        },
        "d79650a49a08459ca96ba25387d9b1a3": {
          "model_module": "@jupyter-widgets/base",
          "model_name": "LayoutModel",
          "model_module_version": "1.2.0",
          "state": {
            "_model_module": "@jupyter-widgets/base",
            "_model_module_version": "1.2.0",
            "_model_name": "LayoutModel",
            "_view_count": null,
            "_view_module": "@jupyter-widgets/base",
            "_view_module_version": "1.2.0",
            "_view_name": "LayoutView",
            "align_content": null,
            "align_items": null,
            "align_self": null,
            "border": null,
            "bottom": null,
            "display": null,
            "flex": null,
            "flex_flow": null,
            "grid_area": null,
            "grid_auto_columns": null,
            "grid_auto_flow": null,
            "grid_auto_rows": null,
            "grid_column": null,
            "grid_gap": null,
            "grid_row": null,
            "grid_template_areas": null,
            "grid_template_columns": null,
            "grid_template_rows": null,
            "height": null,
            "justify_content": null,
            "justify_items": null,
            "left": null,
            "margin": null,
            "max_height": null,
            "max_width": null,
            "min_height": null,
            "min_width": null,
            "object_fit": null,
            "object_position": null,
            "order": null,
            "overflow": null,
            "overflow_x": null,
            "overflow_y": null,
            "padding": null,
            "right": null,
            "top": null,
            "visibility": null,
            "width": null
          }
        },
        "d887d7f556fc4ac29f647dc59e4047d1": {
          "model_module": "@jupyter-widgets/base",
          "model_name": "LayoutModel",
          "model_module_version": "1.2.0",
          "state": {
            "_model_module": "@jupyter-widgets/base",
            "_model_module_version": "1.2.0",
            "_model_name": "LayoutModel",
            "_view_count": null,
            "_view_module": "@jupyter-widgets/base",
            "_view_module_version": "1.2.0",
            "_view_name": "LayoutView",
            "align_content": null,
            "align_items": null,
            "align_self": null,
            "border": null,
            "bottom": null,
            "display": null,
            "flex": null,
            "flex_flow": null,
            "grid_area": null,
            "grid_auto_columns": null,
            "grid_auto_flow": null,
            "grid_auto_rows": null,
            "grid_column": null,
            "grid_gap": null,
            "grid_row": null,
            "grid_template_areas": null,
            "grid_template_columns": null,
            "grid_template_rows": null,
            "height": null,
            "justify_content": null,
            "justify_items": null,
            "left": null,
            "margin": null,
            "max_height": null,
            "max_width": null,
            "min_height": null,
            "min_width": null,
            "object_fit": null,
            "object_position": null,
            "order": null,
            "overflow": null,
            "overflow_x": null,
            "overflow_y": null,
            "padding": null,
            "right": null,
            "top": null,
            "visibility": null,
            "width": null
          }
        },
        "5b06fc0031a94a26a232a008e421f6d2": {
          "model_module": "@jupyter-widgets/controls",
          "model_name": "DescriptionStyleModel",
          "model_module_version": "1.5.0",
          "state": {
            "_model_module": "@jupyter-widgets/controls",
            "_model_module_version": "1.5.0",
            "_model_name": "DescriptionStyleModel",
            "_view_count": null,
            "_view_module": "@jupyter-widgets/base",
            "_view_module_version": "1.2.0",
            "_view_name": "StyleView",
            "description_width": ""
          }
        },
        "f87e8c10797145f89079d2dcbcf5dc45": {
          "model_module": "@jupyter-widgets/base",
          "model_name": "LayoutModel",
          "model_module_version": "1.2.0",
          "state": {
            "_model_module": "@jupyter-widgets/base",
            "_model_module_version": "1.2.0",
            "_model_name": "LayoutModel",
            "_view_count": null,
            "_view_module": "@jupyter-widgets/base",
            "_view_module_version": "1.2.0",
            "_view_name": "LayoutView",
            "align_content": null,
            "align_items": null,
            "align_self": null,
            "border": null,
            "bottom": null,
            "display": null,
            "flex": null,
            "flex_flow": null,
            "grid_area": null,
            "grid_auto_columns": null,
            "grid_auto_flow": null,
            "grid_auto_rows": null,
            "grid_column": null,
            "grid_gap": null,
            "grid_row": null,
            "grid_template_areas": null,
            "grid_template_columns": null,
            "grid_template_rows": null,
            "height": null,
            "justify_content": null,
            "justify_items": null,
            "left": null,
            "margin": null,
            "max_height": null,
            "max_width": null,
            "min_height": null,
            "min_width": null,
            "object_fit": null,
            "object_position": null,
            "order": null,
            "overflow": null,
            "overflow_x": null,
            "overflow_y": null,
            "padding": null,
            "right": null,
            "top": null,
            "visibility": null,
            "width": null
          }
        },
        "8afaad8b94e14bbd95c27ba1ff8e2026": {
          "model_module": "@jupyter-widgets/controls",
          "model_name": "ProgressStyleModel",
          "model_module_version": "1.5.0",
          "state": {
            "_model_module": "@jupyter-widgets/controls",
            "_model_module_version": "1.5.0",
            "_model_name": "ProgressStyleModel",
            "_view_count": null,
            "_view_module": "@jupyter-widgets/base",
            "_view_module_version": "1.2.0",
            "_view_name": "StyleView",
            "bar_color": null,
            "description_width": ""
          }
        },
        "ee4209459bf24621a68de7fdc3dbe14f": {
          "model_module": "@jupyter-widgets/base",
          "model_name": "LayoutModel",
          "model_module_version": "1.2.0",
          "state": {
            "_model_module": "@jupyter-widgets/base",
            "_model_module_version": "1.2.0",
            "_model_name": "LayoutModel",
            "_view_count": null,
            "_view_module": "@jupyter-widgets/base",
            "_view_module_version": "1.2.0",
            "_view_name": "LayoutView",
            "align_content": null,
            "align_items": null,
            "align_self": null,
            "border": null,
            "bottom": null,
            "display": null,
            "flex": null,
            "flex_flow": null,
            "grid_area": null,
            "grid_auto_columns": null,
            "grid_auto_flow": null,
            "grid_auto_rows": null,
            "grid_column": null,
            "grid_gap": null,
            "grid_row": null,
            "grid_template_areas": null,
            "grid_template_columns": null,
            "grid_template_rows": null,
            "height": null,
            "justify_content": null,
            "justify_items": null,
            "left": null,
            "margin": null,
            "max_height": null,
            "max_width": null,
            "min_height": null,
            "min_width": null,
            "object_fit": null,
            "object_position": null,
            "order": null,
            "overflow": null,
            "overflow_x": null,
            "overflow_y": null,
            "padding": null,
            "right": null,
            "top": null,
            "visibility": null,
            "width": null
          }
        },
        "ac4f6ee146774f86b2b0ae7cea6ac180": {
          "model_module": "@jupyter-widgets/controls",
          "model_name": "DescriptionStyleModel",
          "model_module_version": "1.5.0",
          "state": {
            "_model_module": "@jupyter-widgets/controls",
            "_model_module_version": "1.5.0",
            "_model_name": "DescriptionStyleModel",
            "_view_count": null,
            "_view_module": "@jupyter-widgets/base",
            "_view_module_version": "1.2.0",
            "_view_name": "StyleView",
            "description_width": ""
          }
        },
        "ffeea654e02144a4b776121b793cef46": {
          "model_module": "@jupyter-widgets/controls",
          "model_name": "HBoxModel",
          "model_module_version": "1.5.0",
          "state": {
            "_dom_classes": [],
            "_model_module": "@jupyter-widgets/controls",
            "_model_module_version": "1.5.0",
            "_model_name": "HBoxModel",
            "_view_count": null,
            "_view_module": "@jupyter-widgets/controls",
            "_view_module_version": "1.5.0",
            "_view_name": "HBoxView",
            "box_style": "",
            "children": [
              "IPY_MODEL_ff4e9c895cfd42238e6706a501853b26",
              "IPY_MODEL_1ad9d12c8a78446f843531fc67f2e036",
              "IPY_MODEL_6b9da611a0944a80a119ccc094766bef"
            ],
            "layout": "IPY_MODEL_25e04a75da9b44c096038dc7229cf46f"
          }
        },
        "ff4e9c895cfd42238e6706a501853b26": {
          "model_module": "@jupyter-widgets/controls",
          "model_name": "HTMLModel",
          "model_module_version": "1.5.0",
          "state": {
            "_dom_classes": [],
            "_model_module": "@jupyter-widgets/controls",
            "_model_module_version": "1.5.0",
            "_model_name": "HTMLModel",
            "_view_count": null,
            "_view_module": "@jupyter-widgets/controls",
            "_view_module_version": "1.5.0",
            "_view_name": "HTMLView",
            "description": "",
            "description_tooltip": null,
            "layout": "IPY_MODEL_a2cb2cc87330460ca99a52647a594bf3",
            "placeholder": "​",
            "style": "IPY_MODEL_5c5b3cba6835435296b1339df522125e",
            "value": "tokenizer.json: 100%"
          }
        },
        "1ad9d12c8a78446f843531fc67f2e036": {
          "model_module": "@jupyter-widgets/controls",
          "model_name": "FloatProgressModel",
          "model_module_version": "1.5.0",
          "state": {
            "_dom_classes": [],
            "_model_module": "@jupyter-widgets/controls",
            "_model_module_version": "1.5.0",
            "_model_name": "FloatProgressModel",
            "_view_count": null,
            "_view_module": "@jupyter-widgets/controls",
            "_view_module_version": "1.5.0",
            "_view_name": "ProgressView",
            "bar_style": "success",
            "description": "",
            "description_tooltip": null,
            "layout": "IPY_MODEL_505b77b6ab7547f58ea0dfba03a355c5",
            "max": 1355863,
            "min": 0,
            "orientation": "horizontal",
            "style": "IPY_MODEL_3913ccee035643f59e281ca58cbfd140",
            "value": 1355863
          }
        },
        "6b9da611a0944a80a119ccc094766bef": {
          "model_module": "@jupyter-widgets/controls",
          "model_name": "HTMLModel",
          "model_module_version": "1.5.0",
          "state": {
            "_dom_classes": [],
            "_model_module": "@jupyter-widgets/controls",
            "_model_module_version": "1.5.0",
            "_model_name": "HTMLModel",
            "_view_count": null,
            "_view_module": "@jupyter-widgets/controls",
            "_view_module_version": "1.5.0",
            "_view_name": "HTMLView",
            "description": "",
            "description_tooltip": null,
            "layout": "IPY_MODEL_04d61e09905e4a1b8fbc14641998d28f",
            "placeholder": "​",
            "style": "IPY_MODEL_a430c9f2b876487a80a72a3b063591e7",
            "value": " 1.36M/1.36M [00:00&lt;00:00, 4.16MB/s]"
          }
        },
        "25e04a75da9b44c096038dc7229cf46f": {
          "model_module": "@jupyter-widgets/base",
          "model_name": "LayoutModel",
          "model_module_version": "1.2.0",
          "state": {
            "_model_module": "@jupyter-widgets/base",
            "_model_module_version": "1.2.0",
            "_model_name": "LayoutModel",
            "_view_count": null,
            "_view_module": "@jupyter-widgets/base",
            "_view_module_version": "1.2.0",
            "_view_name": "LayoutView",
            "align_content": null,
            "align_items": null,
            "align_self": null,
            "border": null,
            "bottom": null,
            "display": null,
            "flex": null,
            "flex_flow": null,
            "grid_area": null,
            "grid_auto_columns": null,
            "grid_auto_flow": null,
            "grid_auto_rows": null,
            "grid_column": null,
            "grid_gap": null,
            "grid_row": null,
            "grid_template_areas": null,
            "grid_template_columns": null,
            "grid_template_rows": null,
            "height": null,
            "justify_content": null,
            "justify_items": null,
            "left": null,
            "margin": null,
            "max_height": null,
            "max_width": null,
            "min_height": null,
            "min_width": null,
            "object_fit": null,
            "object_position": null,
            "order": null,
            "overflow": null,
            "overflow_x": null,
            "overflow_y": null,
            "padding": null,
            "right": null,
            "top": null,
            "visibility": null,
            "width": null
          }
        },
        "a2cb2cc87330460ca99a52647a594bf3": {
          "model_module": "@jupyter-widgets/base",
          "model_name": "LayoutModel",
          "model_module_version": "1.2.0",
          "state": {
            "_model_module": "@jupyter-widgets/base",
            "_model_module_version": "1.2.0",
            "_model_name": "LayoutModel",
            "_view_count": null,
            "_view_module": "@jupyter-widgets/base",
            "_view_module_version": "1.2.0",
            "_view_name": "LayoutView",
            "align_content": null,
            "align_items": null,
            "align_self": null,
            "border": null,
            "bottom": null,
            "display": null,
            "flex": null,
            "flex_flow": null,
            "grid_area": null,
            "grid_auto_columns": null,
            "grid_auto_flow": null,
            "grid_auto_rows": null,
            "grid_column": null,
            "grid_gap": null,
            "grid_row": null,
            "grid_template_areas": null,
            "grid_template_columns": null,
            "grid_template_rows": null,
            "height": null,
            "justify_content": null,
            "justify_items": null,
            "left": null,
            "margin": null,
            "max_height": null,
            "max_width": null,
            "min_height": null,
            "min_width": null,
            "object_fit": null,
            "object_position": null,
            "order": null,
            "overflow": null,
            "overflow_x": null,
            "overflow_y": null,
            "padding": null,
            "right": null,
            "top": null,
            "visibility": null,
            "width": null
          }
        },
        "5c5b3cba6835435296b1339df522125e": {
          "model_module": "@jupyter-widgets/controls",
          "model_name": "DescriptionStyleModel",
          "model_module_version": "1.5.0",
          "state": {
            "_model_module": "@jupyter-widgets/controls",
            "_model_module_version": "1.5.0",
            "_model_name": "DescriptionStyleModel",
            "_view_count": null,
            "_view_module": "@jupyter-widgets/base",
            "_view_module_version": "1.2.0",
            "_view_name": "StyleView",
            "description_width": ""
          }
        },
        "505b77b6ab7547f58ea0dfba03a355c5": {
          "model_module": "@jupyter-widgets/base",
          "model_name": "LayoutModel",
          "model_module_version": "1.2.0",
          "state": {
            "_model_module": "@jupyter-widgets/base",
            "_model_module_version": "1.2.0",
            "_model_name": "LayoutModel",
            "_view_count": null,
            "_view_module": "@jupyter-widgets/base",
            "_view_module_version": "1.2.0",
            "_view_name": "LayoutView",
            "align_content": null,
            "align_items": null,
            "align_self": null,
            "border": null,
            "bottom": null,
            "display": null,
            "flex": null,
            "flex_flow": null,
            "grid_area": null,
            "grid_auto_columns": null,
            "grid_auto_flow": null,
            "grid_auto_rows": null,
            "grid_column": null,
            "grid_gap": null,
            "grid_row": null,
            "grid_template_areas": null,
            "grid_template_columns": null,
            "grid_template_rows": null,
            "height": null,
            "justify_content": null,
            "justify_items": null,
            "left": null,
            "margin": null,
            "max_height": null,
            "max_width": null,
            "min_height": null,
            "min_width": null,
            "object_fit": null,
            "object_position": null,
            "order": null,
            "overflow": null,
            "overflow_x": null,
            "overflow_y": null,
            "padding": null,
            "right": null,
            "top": null,
            "visibility": null,
            "width": null
          }
        },
        "3913ccee035643f59e281ca58cbfd140": {
          "model_module": "@jupyter-widgets/controls",
          "model_name": "ProgressStyleModel",
          "model_module_version": "1.5.0",
          "state": {
            "_model_module": "@jupyter-widgets/controls",
            "_model_module_version": "1.5.0",
            "_model_name": "ProgressStyleModel",
            "_view_count": null,
            "_view_module": "@jupyter-widgets/base",
            "_view_module_version": "1.2.0",
            "_view_name": "StyleView",
            "bar_color": null,
            "description_width": ""
          }
        },
        "04d61e09905e4a1b8fbc14641998d28f": {
          "model_module": "@jupyter-widgets/base",
          "model_name": "LayoutModel",
          "model_module_version": "1.2.0",
          "state": {
            "_model_module": "@jupyter-widgets/base",
            "_model_module_version": "1.2.0",
            "_model_name": "LayoutModel",
            "_view_count": null,
            "_view_module": "@jupyter-widgets/base",
            "_view_module_version": "1.2.0",
            "_view_name": "LayoutView",
            "align_content": null,
            "align_items": null,
            "align_self": null,
            "border": null,
            "bottom": null,
            "display": null,
            "flex": null,
            "flex_flow": null,
            "grid_area": null,
            "grid_auto_columns": null,
            "grid_auto_flow": null,
            "grid_auto_rows": null,
            "grid_column": null,
            "grid_gap": null,
            "grid_row": null,
            "grid_template_areas": null,
            "grid_template_columns": null,
            "grid_template_rows": null,
            "height": null,
            "justify_content": null,
            "justify_items": null,
            "left": null,
            "margin": null,
            "max_height": null,
            "max_width": null,
            "min_height": null,
            "min_width": null,
            "object_fit": null,
            "object_position": null,
            "order": null,
            "overflow": null,
            "overflow_x": null,
            "overflow_y": null,
            "padding": null,
            "right": null,
            "top": null,
            "visibility": null,
            "width": null
          }
        },
        "a430c9f2b876487a80a72a3b063591e7": {
          "model_module": "@jupyter-widgets/controls",
          "model_name": "DescriptionStyleModel",
          "model_module_version": "1.5.0",
          "state": {
            "_model_module": "@jupyter-widgets/controls",
            "_model_module_version": "1.5.0",
            "_model_name": "DescriptionStyleModel",
            "_view_count": null,
            "_view_module": "@jupyter-widgets/base",
            "_view_module_version": "1.2.0",
            "_view_name": "StyleView",
            "description_width": ""
          }
        },
        "0c37acef3fbe4af0983c7824b7f17935": {
          "model_module": "@jupyter-widgets/controls",
          "model_name": "HBoxModel",
          "model_module_version": "1.5.0",
          "state": {
            "_dom_classes": [],
            "_model_module": "@jupyter-widgets/controls",
            "_model_module_version": "1.5.0",
            "_model_name": "HBoxModel",
            "_view_count": null,
            "_view_module": "@jupyter-widgets/controls",
            "_view_module_version": "1.5.0",
            "_view_name": "HBoxView",
            "box_style": "",
            "children": [
              "IPY_MODEL_734b3c998f844503a259f1a1c1dfc744",
              "IPY_MODEL_c97b13ebcbe94650a177bc53e5281f1f",
              "IPY_MODEL_f5bc27fa96164c1f908bd4345328e606"
            ],
            "layout": "IPY_MODEL_46935153a6b84a32b49507d4160c3f94"
          }
        },
        "734b3c998f844503a259f1a1c1dfc744": {
          "model_module": "@jupyter-widgets/controls",
          "model_name": "HTMLModel",
          "model_module_version": "1.5.0",
          "state": {
            "_dom_classes": [],
            "_model_module": "@jupyter-widgets/controls",
            "_model_module_version": "1.5.0",
            "_model_name": "HTMLModel",
            "_view_count": null,
            "_view_module": "@jupyter-widgets/controls",
            "_view_module_version": "1.5.0",
            "_view_name": "HTMLView",
            "description": "",
            "description_tooltip": null,
            "layout": "IPY_MODEL_55022ef9908e4234a67726147e2d6939",
            "placeholder": "​",
            "style": "IPY_MODEL_4445a0d0bbd3479da31ecd3c034f2ad5",
            "value": "config.json: 100%"
          }
        },
        "c97b13ebcbe94650a177bc53e5281f1f": {
          "model_module": "@jupyter-widgets/controls",
          "model_name": "FloatProgressModel",
          "model_module_version": "1.5.0",
          "state": {
            "_dom_classes": [],
            "_model_module": "@jupyter-widgets/controls",
            "_model_module_version": "1.5.0",
            "_model_name": "FloatProgressModel",
            "_view_count": null,
            "_view_module": "@jupyter-widgets/controls",
            "_view_module_version": "1.5.0",
            "_view_name": "ProgressView",
            "bar_style": "success",
            "description": "",
            "description_tooltip": null,
            "layout": "IPY_MODEL_30bdb0ab94794c249100db3cbe23ef25",
            "max": 1585,
            "min": 0,
            "orientation": "horizontal",
            "style": "IPY_MODEL_d19856d20509423e842e8f89c8b87496",
            "value": 1585
          }
        },
        "f5bc27fa96164c1f908bd4345328e606": {
          "model_module": "@jupyter-widgets/controls",
          "model_name": "HTMLModel",
          "model_module_version": "1.5.0",
          "state": {
            "_dom_classes": [],
            "_model_module": "@jupyter-widgets/controls",
            "_model_module_version": "1.5.0",
            "_model_name": "HTMLModel",
            "_view_count": null,
            "_view_module": "@jupyter-widgets/controls",
            "_view_module_version": "1.5.0",
            "_view_name": "HTMLView",
            "description": "",
            "description_tooltip": null,
            "layout": "IPY_MODEL_f84b49b9eafa4768bf597e52946fb819",
            "placeholder": "​",
            "style": "IPY_MODEL_1367f9cd80a34180b188fad3fd0edda0",
            "value": " 1.58k/1.58k [00:00&lt;00:00, 41.0kB/s]"
          }
        },
        "46935153a6b84a32b49507d4160c3f94": {
          "model_module": "@jupyter-widgets/base",
          "model_name": "LayoutModel",
          "model_module_version": "1.2.0",
          "state": {
            "_model_module": "@jupyter-widgets/base",
            "_model_module_version": "1.2.0",
            "_model_name": "LayoutModel",
            "_view_count": null,
            "_view_module": "@jupyter-widgets/base",
            "_view_module_version": "1.2.0",
            "_view_name": "LayoutView",
            "align_content": null,
            "align_items": null,
            "align_self": null,
            "border": null,
            "bottom": null,
            "display": null,
            "flex": null,
            "flex_flow": null,
            "grid_area": null,
            "grid_auto_columns": null,
            "grid_auto_flow": null,
            "grid_auto_rows": null,
            "grid_column": null,
            "grid_gap": null,
            "grid_row": null,
            "grid_template_areas": null,
            "grid_template_columns": null,
            "grid_template_rows": null,
            "height": null,
            "justify_content": null,
            "justify_items": null,
            "left": null,
            "margin": null,
            "max_height": null,
            "max_width": null,
            "min_height": null,
            "min_width": null,
            "object_fit": null,
            "object_position": null,
            "order": null,
            "overflow": null,
            "overflow_x": null,
            "overflow_y": null,
            "padding": null,
            "right": null,
            "top": null,
            "visibility": null,
            "width": null
          }
        },
        "55022ef9908e4234a67726147e2d6939": {
          "model_module": "@jupyter-widgets/base",
          "model_name": "LayoutModel",
          "model_module_version": "1.2.0",
          "state": {
            "_model_module": "@jupyter-widgets/base",
            "_model_module_version": "1.2.0",
            "_model_name": "LayoutModel",
            "_view_count": null,
            "_view_module": "@jupyter-widgets/base",
            "_view_module_version": "1.2.0",
            "_view_name": "LayoutView",
            "align_content": null,
            "align_items": null,
            "align_self": null,
            "border": null,
            "bottom": null,
            "display": null,
            "flex": null,
            "flex_flow": null,
            "grid_area": null,
            "grid_auto_columns": null,
            "grid_auto_flow": null,
            "grid_auto_rows": null,
            "grid_column": null,
            "grid_gap": null,
            "grid_row": null,
            "grid_template_areas": null,
            "grid_template_columns": null,
            "grid_template_rows": null,
            "height": null,
            "justify_content": null,
            "justify_items": null,
            "left": null,
            "margin": null,
            "max_height": null,
            "max_width": null,
            "min_height": null,
            "min_width": null,
            "object_fit": null,
            "object_position": null,
            "order": null,
            "overflow": null,
            "overflow_x": null,
            "overflow_y": null,
            "padding": null,
            "right": null,
            "top": null,
            "visibility": null,
            "width": null
          }
        },
        "4445a0d0bbd3479da31ecd3c034f2ad5": {
          "model_module": "@jupyter-widgets/controls",
          "model_name": "DescriptionStyleModel",
          "model_module_version": "1.5.0",
          "state": {
            "_model_module": "@jupyter-widgets/controls",
            "_model_module_version": "1.5.0",
            "_model_name": "DescriptionStyleModel",
            "_view_count": null,
            "_view_module": "@jupyter-widgets/base",
            "_view_module_version": "1.2.0",
            "_view_name": "StyleView",
            "description_width": ""
          }
        },
        "30bdb0ab94794c249100db3cbe23ef25": {
          "model_module": "@jupyter-widgets/base",
          "model_name": "LayoutModel",
          "model_module_version": "1.2.0",
          "state": {
            "_model_module": "@jupyter-widgets/base",
            "_model_module_version": "1.2.0",
            "_model_name": "LayoutModel",
            "_view_count": null,
            "_view_module": "@jupyter-widgets/base",
            "_view_module_version": "1.2.0",
            "_view_name": "LayoutView",
            "align_content": null,
            "align_items": null,
            "align_self": null,
            "border": null,
            "bottom": null,
            "display": null,
            "flex": null,
            "flex_flow": null,
            "grid_area": null,
            "grid_auto_columns": null,
            "grid_auto_flow": null,
            "grid_auto_rows": null,
            "grid_column": null,
            "grid_gap": null,
            "grid_row": null,
            "grid_template_areas": null,
            "grid_template_columns": null,
            "grid_template_rows": null,
            "height": null,
            "justify_content": null,
            "justify_items": null,
            "left": null,
            "margin": null,
            "max_height": null,
            "max_width": null,
            "min_height": null,
            "min_width": null,
            "object_fit": null,
            "object_position": null,
            "order": null,
            "overflow": null,
            "overflow_x": null,
            "overflow_y": null,
            "padding": null,
            "right": null,
            "top": null,
            "visibility": null,
            "width": null
          }
        },
        "d19856d20509423e842e8f89c8b87496": {
          "model_module": "@jupyter-widgets/controls",
          "model_name": "ProgressStyleModel",
          "model_module_version": "1.5.0",
          "state": {
            "_model_module": "@jupyter-widgets/controls",
            "_model_module_version": "1.5.0",
            "_model_name": "ProgressStyleModel",
            "_view_count": null,
            "_view_module": "@jupyter-widgets/base",
            "_view_module_version": "1.2.0",
            "_view_name": "StyleView",
            "bar_color": null,
            "description_width": ""
          }
        },
        "f84b49b9eafa4768bf597e52946fb819": {
          "model_module": "@jupyter-widgets/base",
          "model_name": "LayoutModel",
          "model_module_version": "1.2.0",
          "state": {
            "_model_module": "@jupyter-widgets/base",
            "_model_module_version": "1.2.0",
            "_model_name": "LayoutModel",
            "_view_count": null,
            "_view_module": "@jupyter-widgets/base",
            "_view_module_version": "1.2.0",
            "_view_name": "LayoutView",
            "align_content": null,
            "align_items": null,
            "align_self": null,
            "border": null,
            "bottom": null,
            "display": null,
            "flex": null,
            "flex_flow": null,
            "grid_area": null,
            "grid_auto_columns": null,
            "grid_auto_flow": null,
            "grid_auto_rows": null,
            "grid_column": null,
            "grid_gap": null,
            "grid_row": null,
            "grid_template_areas": null,
            "grid_template_columns": null,
            "grid_template_rows": null,
            "height": null,
            "justify_content": null,
            "justify_items": null,
            "left": null,
            "margin": null,
            "max_height": null,
            "max_width": null,
            "min_height": null,
            "min_width": null,
            "object_fit": null,
            "object_position": null,
            "order": null,
            "overflow": null,
            "overflow_x": null,
            "overflow_y": null,
            "padding": null,
            "right": null,
            "top": null,
            "visibility": null,
            "width": null
          }
        },
        "1367f9cd80a34180b188fad3fd0edda0": {
          "model_module": "@jupyter-widgets/controls",
          "model_name": "DescriptionStyleModel",
          "model_module_version": "1.5.0",
          "state": {
            "_model_module": "@jupyter-widgets/controls",
            "_model_module_version": "1.5.0",
            "_model_name": "DescriptionStyleModel",
            "_view_count": null,
            "_view_module": "@jupyter-widgets/base",
            "_view_module_version": "1.2.0",
            "_view_name": "StyleView",
            "description_width": ""
          }
        },
        "8bee52a93cad4674b1464d76731d7920": {
          "model_module": "@jupyter-widgets/controls",
          "model_name": "HBoxModel",
          "model_module_version": "1.5.0",
          "state": {
            "_dom_classes": [],
            "_model_module": "@jupyter-widgets/controls",
            "_model_module_version": "1.5.0",
            "_model_name": "HBoxModel",
            "_view_count": null,
            "_view_module": "@jupyter-widgets/controls",
            "_view_module_version": "1.5.0",
            "_view_name": "HBoxView",
            "box_style": "",
            "children": [
              "IPY_MODEL_60af6d1253e9410c8240ec38a17d3e0e",
              "IPY_MODEL_78514ebe54f240a58b4aa0641a53f277",
              "IPY_MODEL_72ce9f10d4f34ea593f6d208aeb0390a"
            ],
            "layout": "IPY_MODEL_9134daa9666d40a68680f52acb29e6da"
          }
        },
        "60af6d1253e9410c8240ec38a17d3e0e": {
          "model_module": "@jupyter-widgets/controls",
          "model_name": "HTMLModel",
          "model_module_version": "1.5.0",
          "state": {
            "_dom_classes": [],
            "_model_module": "@jupyter-widgets/controls",
            "_model_module_version": "1.5.0",
            "_model_name": "HTMLModel",
            "_view_count": null,
            "_view_module": "@jupyter-widgets/controls",
            "_view_module_version": "1.5.0",
            "_view_name": "HTMLView",
            "description": "",
            "description_tooltip": null,
            "layout": "IPY_MODEL_c9d521857dab46e6896b5928da059b9e",
            "placeholder": "​",
            "style": "IPY_MODEL_069ba9e0c2794065aac1ed708c874c14",
            "value": "model.safetensors: 100%"
          }
        },
        "78514ebe54f240a58b4aa0641a53f277": {
          "model_module": "@jupyter-widgets/controls",
          "model_name": "FloatProgressModel",
          "model_module_version": "1.5.0",
          "state": {
            "_dom_classes": [],
            "_model_module": "@jupyter-widgets/controls",
            "_model_module_version": "1.5.0",
            "_model_name": "FloatProgressModel",
            "_view_count": null,
            "_view_module": "@jupyter-widgets/controls",
            "_view_module_version": "1.5.0",
            "_view_name": "ProgressView",
            "bar_style": "success",
            "description": "",
            "description_tooltip": null,
            "layout": "IPY_MODEL_d7f84d88b238485abf3999082902871a",
            "max": 1625222120,
            "min": 0,
            "orientation": "horizontal",
            "style": "IPY_MODEL_15eb2ba4cf794d0bae83eb76c8d72274",
            "value": 1625222120
          }
        },
        "72ce9f10d4f34ea593f6d208aeb0390a": {
          "model_module": "@jupyter-widgets/controls",
          "model_name": "HTMLModel",
          "model_module_version": "1.5.0",
          "state": {
            "_dom_classes": [],
            "_model_module": "@jupyter-widgets/controls",
            "_model_module_version": "1.5.0",
            "_model_name": "HTMLModel",
            "_view_count": null,
            "_view_module": "@jupyter-widgets/controls",
            "_view_module_version": "1.5.0",
            "_view_name": "HTMLView",
            "description": "",
            "description_tooltip": null,
            "layout": "IPY_MODEL_00cc73510b954b3bbb2bd0c720b0373e",
            "placeholder": "​",
            "style": "IPY_MODEL_933692e4503e4ba08519139b8f58ba8d",
            "value": " 1.63G/1.63G [00:16&lt;00:00, 157MB/s]"
          }
        },
        "9134daa9666d40a68680f52acb29e6da": {
          "model_module": "@jupyter-widgets/base",
          "model_name": "LayoutModel",
          "model_module_version": "1.2.0",
          "state": {
            "_model_module": "@jupyter-widgets/base",
            "_model_module_version": "1.2.0",
            "_model_name": "LayoutModel",
            "_view_count": null,
            "_view_module": "@jupyter-widgets/base",
            "_view_module_version": "1.2.0",
            "_view_name": "LayoutView",
            "align_content": null,
            "align_items": null,
            "align_self": null,
            "border": null,
            "bottom": null,
            "display": null,
            "flex": null,
            "flex_flow": null,
            "grid_area": null,
            "grid_auto_columns": null,
            "grid_auto_flow": null,
            "grid_auto_rows": null,
            "grid_column": null,
            "grid_gap": null,
            "grid_row": null,
            "grid_template_areas": null,
            "grid_template_columns": null,
            "grid_template_rows": null,
            "height": null,
            "justify_content": null,
            "justify_items": null,
            "left": null,
            "margin": null,
            "max_height": null,
            "max_width": null,
            "min_height": null,
            "min_width": null,
            "object_fit": null,
            "object_position": null,
            "order": null,
            "overflow": null,
            "overflow_x": null,
            "overflow_y": null,
            "padding": null,
            "right": null,
            "top": null,
            "visibility": null,
            "width": null
          }
        },
        "c9d521857dab46e6896b5928da059b9e": {
          "model_module": "@jupyter-widgets/base",
          "model_name": "LayoutModel",
          "model_module_version": "1.2.0",
          "state": {
            "_model_module": "@jupyter-widgets/base",
            "_model_module_version": "1.2.0",
            "_model_name": "LayoutModel",
            "_view_count": null,
            "_view_module": "@jupyter-widgets/base",
            "_view_module_version": "1.2.0",
            "_view_name": "LayoutView",
            "align_content": null,
            "align_items": null,
            "align_self": null,
            "border": null,
            "bottom": null,
            "display": null,
            "flex": null,
            "flex_flow": null,
            "grid_area": null,
            "grid_auto_columns": null,
            "grid_auto_flow": null,
            "grid_auto_rows": null,
            "grid_column": null,
            "grid_gap": null,
            "grid_row": null,
            "grid_template_areas": null,
            "grid_template_columns": null,
            "grid_template_rows": null,
            "height": null,
            "justify_content": null,
            "justify_items": null,
            "left": null,
            "margin": null,
            "max_height": null,
            "max_width": null,
            "min_height": null,
            "min_width": null,
            "object_fit": null,
            "object_position": null,
            "order": null,
            "overflow": null,
            "overflow_x": null,
            "overflow_y": null,
            "padding": null,
            "right": null,
            "top": null,
            "visibility": null,
            "width": null
          }
        },
        "069ba9e0c2794065aac1ed708c874c14": {
          "model_module": "@jupyter-widgets/controls",
          "model_name": "DescriptionStyleModel",
          "model_module_version": "1.5.0",
          "state": {
            "_model_module": "@jupyter-widgets/controls",
            "_model_module_version": "1.5.0",
            "_model_name": "DescriptionStyleModel",
            "_view_count": null,
            "_view_module": "@jupyter-widgets/base",
            "_view_module_version": "1.2.0",
            "_view_name": "StyleView",
            "description_width": ""
          }
        },
        "d7f84d88b238485abf3999082902871a": {
          "model_module": "@jupyter-widgets/base",
          "model_name": "LayoutModel",
          "model_module_version": "1.2.0",
          "state": {
            "_model_module": "@jupyter-widgets/base",
            "_model_module_version": "1.2.0",
            "_model_name": "LayoutModel",
            "_view_count": null,
            "_view_module": "@jupyter-widgets/base",
            "_view_module_version": "1.2.0",
            "_view_name": "LayoutView",
            "align_content": null,
            "align_items": null,
            "align_self": null,
            "border": null,
            "bottom": null,
            "display": null,
            "flex": null,
            "flex_flow": null,
            "grid_area": null,
            "grid_auto_columns": null,
            "grid_auto_flow": null,
            "grid_auto_rows": null,
            "grid_column": null,
            "grid_gap": null,
            "grid_row": null,
            "grid_template_areas": null,
            "grid_template_columns": null,
            "grid_template_rows": null,
            "height": null,
            "justify_content": null,
            "justify_items": null,
            "left": null,
            "margin": null,
            "max_height": null,
            "max_width": null,
            "min_height": null,
            "min_width": null,
            "object_fit": null,
            "object_position": null,
            "order": null,
            "overflow": null,
            "overflow_x": null,
            "overflow_y": null,
            "padding": null,
            "right": null,
            "top": null,
            "visibility": null,
            "width": null
          }
        },
        "15eb2ba4cf794d0bae83eb76c8d72274": {
          "model_module": "@jupyter-widgets/controls",
          "model_name": "ProgressStyleModel",
          "model_module_version": "1.5.0",
          "state": {
            "_model_module": "@jupyter-widgets/controls",
            "_model_module_version": "1.5.0",
            "_model_name": "ProgressStyleModel",
            "_view_count": null,
            "_view_module": "@jupyter-widgets/base",
            "_view_module_version": "1.2.0",
            "_view_name": "StyleView",
            "bar_color": null,
            "description_width": ""
          }
        },
        "00cc73510b954b3bbb2bd0c720b0373e": {
          "model_module": "@jupyter-widgets/base",
          "model_name": "LayoutModel",
          "model_module_version": "1.2.0",
          "state": {
            "_model_module": "@jupyter-widgets/base",
            "_model_module_version": "1.2.0",
            "_model_name": "LayoutModel",
            "_view_count": null,
            "_view_module": "@jupyter-widgets/base",
            "_view_module_version": "1.2.0",
            "_view_name": "LayoutView",
            "align_content": null,
            "align_items": null,
            "align_self": null,
            "border": null,
            "bottom": null,
            "display": null,
            "flex": null,
            "flex_flow": null,
            "grid_area": null,
            "grid_auto_columns": null,
            "grid_auto_flow": null,
            "grid_auto_rows": null,
            "grid_column": null,
            "grid_gap": null,
            "grid_row": null,
            "grid_template_areas": null,
            "grid_template_columns": null,
            "grid_template_rows": null,
            "height": null,
            "justify_content": null,
            "justify_items": null,
            "left": null,
            "margin": null,
            "max_height": null,
            "max_width": null,
            "min_height": null,
            "min_width": null,
            "object_fit": null,
            "object_position": null,
            "order": null,
            "overflow": null,
            "overflow_x": null,
            "overflow_y": null,
            "padding": null,
            "right": null,
            "top": null,
            "visibility": null,
            "width": null
          }
        },
        "933692e4503e4ba08519139b8f58ba8d": {
          "model_module": "@jupyter-widgets/controls",
          "model_name": "DescriptionStyleModel",
          "model_module_version": "1.5.0",
          "state": {
            "_model_module": "@jupyter-widgets/controls",
            "_model_module_version": "1.5.0",
            "_model_name": "DescriptionStyleModel",
            "_view_count": null,
            "_view_module": "@jupyter-widgets/base",
            "_view_module_version": "1.2.0",
            "_view_name": "StyleView",
            "description_width": ""
          }
        },
        "ca30aafc58614a7b9692ffc50a32126a": {
          "model_module": "@jupyter-widgets/controls",
          "model_name": "HBoxModel",
          "model_module_version": "1.5.0",
          "state": {
            "_dom_classes": [],
            "_model_module": "@jupyter-widgets/controls",
            "_model_module_version": "1.5.0",
            "_model_name": "HBoxModel",
            "_view_count": null,
            "_view_module": "@jupyter-widgets/controls",
            "_view_module_version": "1.5.0",
            "_view_name": "HBoxView",
            "box_style": "",
            "children": [
              "IPY_MODEL_687d86edc93d46c9aa62c3741d2b9426",
              "IPY_MODEL_f5483f283a1043b49eb2840e80124aa7",
              "IPY_MODEL_e78cbb5edd43441196d92fc88f690afd"
            ],
            "layout": "IPY_MODEL_e7cf011e49664a1e8788dcf3f0f1c773"
          }
        },
        "687d86edc93d46c9aa62c3741d2b9426": {
          "model_module": "@jupyter-widgets/controls",
          "model_name": "HTMLModel",
          "model_module_version": "1.5.0",
          "state": {
            "_dom_classes": [],
            "_model_module": "@jupyter-widgets/controls",
            "_model_module_version": "1.5.0",
            "_model_name": "HTMLModel",
            "_view_count": null,
            "_view_module": "@jupyter-widgets/controls",
            "_view_module_version": "1.5.0",
            "_view_name": "HTMLView",
            "description": "",
            "description_tooltip": null,
            "layout": "IPY_MODEL_c335b4887c1b490a844929df2d7077a3",
            "placeholder": "​",
            "style": "IPY_MODEL_10af1105274b4e94bef016bd2e48c27b",
            "value": "generation_config.json: 100%"
          }
        },
        "f5483f283a1043b49eb2840e80124aa7": {
          "model_module": "@jupyter-widgets/controls",
          "model_name": "FloatProgressModel",
          "model_module_version": "1.5.0",
          "state": {
            "_dom_classes": [],
            "_model_module": "@jupyter-widgets/controls",
            "_model_module_version": "1.5.0",
            "_model_name": "FloatProgressModel",
            "_view_count": null,
            "_view_module": "@jupyter-widgets/controls",
            "_view_module_version": "1.5.0",
            "_view_name": "ProgressView",
            "bar_style": "success",
            "description": "",
            "description_tooltip": null,
            "layout": "IPY_MODEL_ea9ad076db9e4376bb9c9bac9e04825b",
            "max": 363,
            "min": 0,
            "orientation": "horizontal",
            "style": "IPY_MODEL_aad3eec784924366b2752dc13eafe5bc",
            "value": 363
          }
        },
        "e78cbb5edd43441196d92fc88f690afd": {
          "model_module": "@jupyter-widgets/controls",
          "model_name": "HTMLModel",
          "model_module_version": "1.5.0",
          "state": {
            "_dom_classes": [],
            "_model_module": "@jupyter-widgets/controls",
            "_model_module_version": "1.5.0",
            "_model_name": "HTMLModel",
            "_view_count": null,
            "_view_module": "@jupyter-widgets/controls",
            "_view_module_version": "1.5.0",
            "_view_name": "HTMLView",
            "description": "",
            "description_tooltip": null,
            "layout": "IPY_MODEL_6ac35b6a5c8648f289e2486cb1d55511",
            "placeholder": "​",
            "style": "IPY_MODEL_fc5fd8c365d240269f89e7e3a5c18e04",
            "value": " 363/363 [00:00&lt;00:00, 5.52kB/s]"
          }
        },
        "e7cf011e49664a1e8788dcf3f0f1c773": {
          "model_module": "@jupyter-widgets/base",
          "model_name": "LayoutModel",
          "model_module_version": "1.2.0",
          "state": {
            "_model_module": "@jupyter-widgets/base",
            "_model_module_version": "1.2.0",
            "_model_name": "LayoutModel",
            "_view_count": null,
            "_view_module": "@jupyter-widgets/base",
            "_view_module_version": "1.2.0",
            "_view_name": "LayoutView",
            "align_content": null,
            "align_items": null,
            "align_self": null,
            "border": null,
            "bottom": null,
            "display": null,
            "flex": null,
            "flex_flow": null,
            "grid_area": null,
            "grid_auto_columns": null,
            "grid_auto_flow": null,
            "grid_auto_rows": null,
            "grid_column": null,
            "grid_gap": null,
            "grid_row": null,
            "grid_template_areas": null,
            "grid_template_columns": null,
            "grid_template_rows": null,
            "height": null,
            "justify_content": null,
            "justify_items": null,
            "left": null,
            "margin": null,
            "max_height": null,
            "max_width": null,
            "min_height": null,
            "min_width": null,
            "object_fit": null,
            "object_position": null,
            "order": null,
            "overflow": null,
            "overflow_x": null,
            "overflow_y": null,
            "padding": null,
            "right": null,
            "top": null,
            "visibility": null,
            "width": null
          }
        },
        "c335b4887c1b490a844929df2d7077a3": {
          "model_module": "@jupyter-widgets/base",
          "model_name": "LayoutModel",
          "model_module_version": "1.2.0",
          "state": {
            "_model_module": "@jupyter-widgets/base",
            "_model_module_version": "1.2.0",
            "_model_name": "LayoutModel",
            "_view_count": null,
            "_view_module": "@jupyter-widgets/base",
            "_view_module_version": "1.2.0",
            "_view_name": "LayoutView",
            "align_content": null,
            "align_items": null,
            "align_self": null,
            "border": null,
            "bottom": null,
            "display": null,
            "flex": null,
            "flex_flow": null,
            "grid_area": null,
            "grid_auto_columns": null,
            "grid_auto_flow": null,
            "grid_auto_rows": null,
            "grid_column": null,
            "grid_gap": null,
            "grid_row": null,
            "grid_template_areas": null,
            "grid_template_columns": null,
            "grid_template_rows": null,
            "height": null,
            "justify_content": null,
            "justify_items": null,
            "left": null,
            "margin": null,
            "max_height": null,
            "max_width": null,
            "min_height": null,
            "min_width": null,
            "object_fit": null,
            "object_position": null,
            "order": null,
            "overflow": null,
            "overflow_x": null,
            "overflow_y": null,
            "padding": null,
            "right": null,
            "top": null,
            "visibility": null,
            "width": null
          }
        },
        "10af1105274b4e94bef016bd2e48c27b": {
          "model_module": "@jupyter-widgets/controls",
          "model_name": "DescriptionStyleModel",
          "model_module_version": "1.5.0",
          "state": {
            "_model_module": "@jupyter-widgets/controls",
            "_model_module_version": "1.5.0",
            "_model_name": "DescriptionStyleModel",
            "_view_count": null,
            "_view_module": "@jupyter-widgets/base",
            "_view_module_version": "1.2.0",
            "_view_name": "StyleView",
            "description_width": ""
          }
        },
        "ea9ad076db9e4376bb9c9bac9e04825b": {
          "model_module": "@jupyter-widgets/base",
          "model_name": "LayoutModel",
          "model_module_version": "1.2.0",
          "state": {
            "_model_module": "@jupyter-widgets/base",
            "_model_module_version": "1.2.0",
            "_model_name": "LayoutModel",
            "_view_count": null,
            "_view_module": "@jupyter-widgets/base",
            "_view_module_version": "1.2.0",
            "_view_name": "LayoutView",
            "align_content": null,
            "align_items": null,
            "align_self": null,
            "border": null,
            "bottom": null,
            "display": null,
            "flex": null,
            "flex_flow": null,
            "grid_area": null,
            "grid_auto_columns": null,
            "grid_auto_flow": null,
            "grid_auto_rows": null,
            "grid_column": null,
            "grid_gap": null,
            "grid_row": null,
            "grid_template_areas": null,
            "grid_template_columns": null,
            "grid_template_rows": null,
            "height": null,
            "justify_content": null,
            "justify_items": null,
            "left": null,
            "margin": null,
            "max_height": null,
            "max_width": null,
            "min_height": null,
            "min_width": null,
            "object_fit": null,
            "object_position": null,
            "order": null,
            "overflow": null,
            "overflow_x": null,
            "overflow_y": null,
            "padding": null,
            "right": null,
            "top": null,
            "visibility": null,
            "width": null
          }
        },
        "aad3eec784924366b2752dc13eafe5bc": {
          "model_module": "@jupyter-widgets/controls",
          "model_name": "ProgressStyleModel",
          "model_module_version": "1.5.0",
          "state": {
            "_model_module": "@jupyter-widgets/controls",
            "_model_module_version": "1.5.0",
            "_model_name": "ProgressStyleModel",
            "_view_count": null,
            "_view_module": "@jupyter-widgets/base",
            "_view_module_version": "1.2.0",
            "_view_name": "StyleView",
            "bar_color": null,
            "description_width": ""
          }
        },
        "6ac35b6a5c8648f289e2486cb1d55511": {
          "model_module": "@jupyter-widgets/base",
          "model_name": "LayoutModel",
          "model_module_version": "1.2.0",
          "state": {
            "_model_module": "@jupyter-widgets/base",
            "_model_module_version": "1.2.0",
            "_model_name": "LayoutModel",
            "_view_count": null,
            "_view_module": "@jupyter-widgets/base",
            "_view_module_version": "1.2.0",
            "_view_name": "LayoutView",
            "align_content": null,
            "align_items": null,
            "align_self": null,
            "border": null,
            "bottom": null,
            "display": null,
            "flex": null,
            "flex_flow": null,
            "grid_area": null,
            "grid_auto_columns": null,
            "grid_auto_flow": null,
            "grid_auto_rows": null,
            "grid_column": null,
            "grid_gap": null,
            "grid_row": null,
            "grid_template_areas": null,
            "grid_template_columns": null,
            "grid_template_rows": null,
            "height": null,
            "justify_content": null,
            "justify_items": null,
            "left": null,
            "margin": null,
            "max_height": null,
            "max_width": null,
            "min_height": null,
            "min_width": null,
            "object_fit": null,
            "object_position": null,
            "order": null,
            "overflow": null,
            "overflow_x": null,
            "overflow_y": null,
            "padding": null,
            "right": null,
            "top": null,
            "visibility": null,
            "width": null
          }
        },
        "fc5fd8c365d240269f89e7e3a5c18e04": {
          "model_module": "@jupyter-widgets/controls",
          "model_name": "DescriptionStyleModel",
          "model_module_version": "1.5.0",
          "state": {
            "_model_module": "@jupyter-widgets/controls",
            "_model_module_version": "1.5.0",
            "_model_name": "DescriptionStyleModel",
            "_view_count": null,
            "_view_module": "@jupyter-widgets/base",
            "_view_module_version": "1.2.0",
            "_view_name": "StyleView",
            "description_width": ""
          }
        }
      }
    }
  },
  "cells": [
    {
      "cell_type": "code",
      "execution_count": null,
      "metadata": {
        "colab": {
          "base_uri": "https://localhost:8080/"
        },
        "id": "j9oqcDNYBJTD",
        "outputId": "80181d41-1323-4bfc-f2f5-e6e3cf217045"
      },
      "outputs": [
        {
          "output_type": "stream",
          "name": "stdout",
          "text": [
            "Requirement already satisfied: tensorflow-addons in /usr/local/lib/python3.10/dist-packages (0.23.0)\n",
            "Requirement already satisfied: packaging in /usr/local/lib/python3.10/dist-packages (from tensorflow-addons) (24.1)\n",
            "Requirement already satisfied: typeguard<3.0.0,>=2.7 in /usr/local/lib/python3.10/dist-packages (from tensorflow-addons) (2.13.3)\n",
            "Requirement already satisfied: transformers in /usr/local/lib/python3.10/dist-packages (4.44.2)\n",
            "Collecting datasets\n",
            "  Using cached datasets-3.0.1-py3-none-any.whl.metadata (20 kB)\n",
            "Collecting sklearn\n",
            "  Using cached sklearn-0.0.post12.tar.gz (2.6 kB)\n",
            "  \u001b[1;31merror\u001b[0m: \u001b[1msubprocess-exited-with-error\u001b[0m\n",
            "  \n",
            "  \u001b[31m×\u001b[0m \u001b[32mpython setup.py egg_info\u001b[0m did not run successfully.\n",
            "  \u001b[31m│\u001b[0m exit code: \u001b[1;36m1\u001b[0m\n",
            "  \u001b[31m╰─>\u001b[0m See above for output.\n",
            "  \n",
            "  \u001b[1;35mnote\u001b[0m: This error originates from a subprocess, and is likely not a problem with pip.\n",
            "  Preparing metadata (setup.py) ... \u001b[?25l\u001b[?25herror\n",
            "\u001b[1;31merror\u001b[0m: \u001b[1mmetadata-generation-failed\u001b[0m\n",
            "\n",
            "\u001b[31m×\u001b[0m Encountered error while generating package metadata.\n",
            "\u001b[31m╰─>\u001b[0m See above for output.\n",
            "\n",
            "\u001b[1;35mnote\u001b[0m: This is an issue with the package mentioned above, not pip.\n",
            "\u001b[1;36mhint\u001b[0m: See above for details.\n"
          ]
        }
      ],
      "source": [
        "#https://www.analyticsvidhya.com/blog/2021/12/text-classification-using-bert-and-tensorflow/?utm_source=related_WP&utm_medium=https://www.analyticsvidhya.com/blog/2021/12/text-classification-of-news-articles/\n",
        "import os\n",
        "!pip install tensorflow-addons\n",
        "!pip install transformers datasets sklearn torch\n",
        "from scipy.stats import randint\n",
        "import seaborn as sns\n",
        "import matplotlib.pyplot as plt\n",
        "import seaborn as sns\n",
        "from io import StringIO\n",
        "from sklearn.feature_extraction.text import TfidfVectorizer\n",
        "from sklearn.feature_selection import chi2\n",
        "from IPython.display import display\n",
        "from sklearn.model_selection import train_test_split\n",
        "from sklearn.feature_extraction.text import TfidfTransformer\n",
        "from sklearn.naive_bayes import MultinomialNB\n",
        "from sklearn.linear_model import LogisticRegression\n",
        "from sklearn.ensemble import RandomForestClassifier\n",
        "from sklearn.svm import LinearSVC\n",
        "from sklearn.model_selection import cross_val_score\n",
        "from sklearn.metrics import confusion_matrix\n",
        "from sklearn import metrics\n",
        "import logging\n",
        "import pandas as pd\n",
        "import numpy as np\n",
        "from numpy import random\n",
        "import gensim\n",
        "import nltk\n",
        "from sklearn.model_selection import train_test_split\n",
        "from sklearn.feature_extraction.text import CountVectorizer, TfidfVectorizer\n",
        "from sklearn.metrics import accuracy_score, confusion_matrix\n",
        "import matplotlib.pyplot as plt\n",
        "from nltk.corpus import stopwords\n",
        "import re\n",
        "from bs4 import BeautifulSoup\n",
        "\n",
        "%matplotlib inline"
      ]
    },
    {
      "cell_type": "code",
      "source": [
        "df = pd.read_csv('/content/drive/MyDrive/1/data_set.csv')\n",
        "\n",
        "print(df.shape)"
      ],
      "metadata": {
        "colab": {
          "base_uri": "https://localhost:8080/"
        },
        "id": "jUlrnjm_BkCL",
        "outputId": "23822178-8bd7-453d-cceb-787679b0b850"
      },
      "execution_count": null,
      "outputs": [
        {
          "output_type": "stream",
          "name": "stdout",
          "text": [
            "(12680, 10)\n"
          ]
        }
      ]
    },
    {
      "cell_type": "markdown",
      "source": [
        "# **Pre-processing:**"
      ],
      "metadata": {
        "id": "W1dPQSz2ElRb"
      }
    },
    {
      "cell_type": "code",
      "source": [
        "df = df.dropna()\n",
        "\n",
        "df = df.dropna(subset=['Final_Category'])"
      ],
      "metadata": {
        "id": "zZTDlUfZBq6p"
      },
      "execution_count": null,
      "outputs": []
    },
    {
      "cell_type": "code",
      "source": [
        "df = df.drop_duplicates(subset='Title', keep='first')\n",
        "\n",
        "df.head(2)"
      ],
      "metadata": {
        "colab": {
          "base_uri": "https://localhost:8080/",
          "height": 199
        },
        "collapsed": true,
        "id": "4HoPOV5LBxcS",
        "outputId": "2b77d48e-c1ad-42bf-cdc3-e8f63205ce49"
      },
      "execution_count": null,
      "outputs": [
        {
          "output_type": "execute_result",
          "data": {
            "text/plain": [
              "   SL no                                              Title  \\\n",
              "0      1  British LAPSUS$ Teen Members Sentenced for Hig...   \n",
              "1      2  Operation RusticWeb: Rust-Based Malware Target...   \n",
              "\n",
              "                                                Link          Date  \\\n",
              "0  https://thehackernews.com/2023/12/british-laps...  Dec 24, 2023   \n",
              "1  https://thehackernews.com/2023/12/operation-ru...  Dec 22, 2023   \n",
              "\n",
              "             Double_Category Priority_Category      Category Final_Category  \\\n",
              "0  Cyber Crime / Data Breach       Data Breach  Cyber Attack   Cyber Attack   \n",
              "1     Malware / Cyber Threat      Cyber Threat       Malware        Malware   \n",
              "\n",
              "                                             Content  \\\n",
              "0  Two British teens part of the LAPSUS$ cyber cr...   \n",
              "1  Indian government entities and the defense sec...   \n",
              "\n",
              "                                             Summary  \n",
              "0  two teens from the gang have been sentenced to...  \n",
              "1  a phishing campaign has been engineered to dro...  "
            ],
            "text/html": [
              "\n",
              "  <div id=\"df-d42052aa-b6a1-477b-83dc-637083bbce73\" class=\"colab-df-container\">\n",
              "    <div>\n",
              "<style scoped>\n",
              "    .dataframe tbody tr th:only-of-type {\n",
              "        vertical-align: middle;\n",
              "    }\n",
              "\n",
              "    .dataframe tbody tr th {\n",
              "        vertical-align: top;\n",
              "    }\n",
              "\n",
              "    .dataframe thead th {\n",
              "        text-align: right;\n",
              "    }\n",
              "</style>\n",
              "<table border=\"1\" class=\"dataframe\">\n",
              "  <thead>\n",
              "    <tr style=\"text-align: right;\">\n",
              "      <th></th>\n",
              "      <th>SL no</th>\n",
              "      <th>Title</th>\n",
              "      <th>Link</th>\n",
              "      <th>Date</th>\n",
              "      <th>Double_Category</th>\n",
              "      <th>Priority_Category</th>\n",
              "      <th>Category</th>\n",
              "      <th>Final_Category</th>\n",
              "      <th>Content</th>\n",
              "      <th>Summary</th>\n",
              "    </tr>\n",
              "  </thead>\n",
              "  <tbody>\n",
              "    <tr>\n",
              "      <th>0</th>\n",
              "      <td>1</td>\n",
              "      <td>British LAPSUS$ Teen Members Sentenced for Hig...</td>\n",
              "      <td>https://thehackernews.com/2023/12/british-laps...</td>\n",
              "      <td>Dec 24, 2023</td>\n",
              "      <td>Cyber Crime / Data Breach</td>\n",
              "      <td>Data Breach</td>\n",
              "      <td>Cyber Attack</td>\n",
              "      <td>Cyber Attack</td>\n",
              "      <td>Two British teens part of the LAPSUS$ cyber cr...</td>\n",
              "      <td>two teens from the gang have been sentenced to...</td>\n",
              "    </tr>\n",
              "    <tr>\n",
              "      <th>1</th>\n",
              "      <td>2</td>\n",
              "      <td>Operation RusticWeb: Rust-Based Malware Target...</td>\n",
              "      <td>https://thehackernews.com/2023/12/operation-ru...</td>\n",
              "      <td>Dec 22, 2023</td>\n",
              "      <td>Malware / Cyber Threat</td>\n",
              "      <td>Cyber Threat</td>\n",
              "      <td>Malware</td>\n",
              "      <td>Malware</td>\n",
              "      <td>Indian government entities and the defense sec...</td>\n",
              "      <td>a phishing campaign has been engineered to dro...</td>\n",
              "    </tr>\n",
              "  </tbody>\n",
              "</table>\n",
              "</div>\n",
              "    <div class=\"colab-df-buttons\">\n",
              "\n",
              "  <div class=\"colab-df-container\">\n",
              "    <button class=\"colab-df-convert\" onclick=\"convertToInteractive('df-d42052aa-b6a1-477b-83dc-637083bbce73')\"\n",
              "            title=\"Convert this dataframe to an interactive table.\"\n",
              "            style=\"display:none;\">\n",
              "\n",
              "  <svg xmlns=\"http://www.w3.org/2000/svg\" height=\"24px\" viewBox=\"0 -960 960 960\">\n",
              "    <path d=\"M120-120v-720h720v720H120Zm60-500h600v-160H180v160Zm220 220h160v-160H400v160Zm0 220h160v-160H400v160ZM180-400h160v-160H180v160Zm440 0h160v-160H620v160ZM180-180h160v-160H180v160Zm440 0h160v-160H620v160Z\"/>\n",
              "  </svg>\n",
              "    </button>\n",
              "\n",
              "  <style>\n",
              "    .colab-df-container {\n",
              "      display:flex;\n",
              "      gap: 12px;\n",
              "    }\n",
              "\n",
              "    .colab-df-convert {\n",
              "      background-color: #E8F0FE;\n",
              "      border: none;\n",
              "      border-radius: 50%;\n",
              "      cursor: pointer;\n",
              "      display: none;\n",
              "      fill: #1967D2;\n",
              "      height: 32px;\n",
              "      padding: 0 0 0 0;\n",
              "      width: 32px;\n",
              "    }\n",
              "\n",
              "    .colab-df-convert:hover {\n",
              "      background-color: #E2EBFA;\n",
              "      box-shadow: 0px 1px 2px rgba(60, 64, 67, 0.3), 0px 1px 3px 1px rgba(60, 64, 67, 0.15);\n",
              "      fill: #174EA6;\n",
              "    }\n",
              "\n",
              "    .colab-df-buttons div {\n",
              "      margin-bottom: 4px;\n",
              "    }\n",
              "\n",
              "    [theme=dark] .colab-df-convert {\n",
              "      background-color: #3B4455;\n",
              "      fill: #D2E3FC;\n",
              "    }\n",
              "\n",
              "    [theme=dark] .colab-df-convert:hover {\n",
              "      background-color: #434B5C;\n",
              "      box-shadow: 0px 1px 3px 1px rgba(0, 0, 0, 0.15);\n",
              "      filter: drop-shadow(0px 1px 2px rgba(0, 0, 0, 0.3));\n",
              "      fill: #FFFFFF;\n",
              "    }\n",
              "  </style>\n",
              "\n",
              "    <script>\n",
              "      const buttonEl =\n",
              "        document.querySelector('#df-d42052aa-b6a1-477b-83dc-637083bbce73 button.colab-df-convert');\n",
              "      buttonEl.style.display =\n",
              "        google.colab.kernel.accessAllowed ? 'block' : 'none';\n",
              "\n",
              "      async function convertToInteractive(key) {\n",
              "        const element = document.querySelector('#df-d42052aa-b6a1-477b-83dc-637083bbce73');\n",
              "        const dataTable =\n",
              "          await google.colab.kernel.invokeFunction('convertToInteractive',\n",
              "                                                    [key], {});\n",
              "        if (!dataTable) return;\n",
              "\n",
              "        const docLinkHtml = 'Like what you see? Visit the ' +\n",
              "          '<a target=\"_blank\" href=https://colab.research.google.com/notebooks/data_table.ipynb>data table notebook</a>'\n",
              "          + ' to learn more about interactive tables.';\n",
              "        element.innerHTML = '';\n",
              "        dataTable['output_type'] = 'display_data';\n",
              "        await google.colab.output.renderOutput(dataTable, element);\n",
              "        const docLink = document.createElement('div');\n",
              "        docLink.innerHTML = docLinkHtml;\n",
              "        element.appendChild(docLink);\n",
              "      }\n",
              "    </script>\n",
              "  </div>\n",
              "\n",
              "\n",
              "<div id=\"df-1a7b3fa4-9cfa-4ebd-be37-3caef8934f93\">\n",
              "  <button class=\"colab-df-quickchart\" onclick=\"quickchart('df-1a7b3fa4-9cfa-4ebd-be37-3caef8934f93')\"\n",
              "            title=\"Suggest charts\"\n",
              "            style=\"display:none;\">\n",
              "\n",
              "<svg xmlns=\"http://www.w3.org/2000/svg\" height=\"24px\"viewBox=\"0 0 24 24\"\n",
              "     width=\"24px\">\n",
              "    <g>\n",
              "        <path d=\"M19 3H5c-1.1 0-2 .9-2 2v14c0 1.1.9 2 2 2h14c1.1 0 2-.9 2-2V5c0-1.1-.9-2-2-2zM9 17H7v-7h2v7zm4 0h-2V7h2v10zm4 0h-2v-4h2v4z\"/>\n",
              "    </g>\n",
              "</svg>\n",
              "  </button>\n",
              "\n",
              "<style>\n",
              "  .colab-df-quickchart {\n",
              "      --bg-color: #E8F0FE;\n",
              "      --fill-color: #1967D2;\n",
              "      --hover-bg-color: #E2EBFA;\n",
              "      --hover-fill-color: #174EA6;\n",
              "      --disabled-fill-color: #AAA;\n",
              "      --disabled-bg-color: #DDD;\n",
              "  }\n",
              "\n",
              "  [theme=dark] .colab-df-quickchart {\n",
              "      --bg-color: #3B4455;\n",
              "      --fill-color: #D2E3FC;\n",
              "      --hover-bg-color: #434B5C;\n",
              "      --hover-fill-color: #FFFFFF;\n",
              "      --disabled-bg-color: #3B4455;\n",
              "      --disabled-fill-color: #666;\n",
              "  }\n",
              "\n",
              "  .colab-df-quickchart {\n",
              "    background-color: var(--bg-color);\n",
              "    border: none;\n",
              "    border-radius: 50%;\n",
              "    cursor: pointer;\n",
              "    display: none;\n",
              "    fill: var(--fill-color);\n",
              "    height: 32px;\n",
              "    padding: 0;\n",
              "    width: 32px;\n",
              "  }\n",
              "\n",
              "  .colab-df-quickchart:hover {\n",
              "    background-color: var(--hover-bg-color);\n",
              "    box-shadow: 0 1px 2px rgba(60, 64, 67, 0.3), 0 1px 3px 1px rgba(60, 64, 67, 0.15);\n",
              "    fill: var(--button-hover-fill-color);\n",
              "  }\n",
              "\n",
              "  .colab-df-quickchart-complete:disabled,\n",
              "  .colab-df-quickchart-complete:disabled:hover {\n",
              "    background-color: var(--disabled-bg-color);\n",
              "    fill: var(--disabled-fill-color);\n",
              "    box-shadow: none;\n",
              "  }\n",
              "\n",
              "  .colab-df-spinner {\n",
              "    border: 2px solid var(--fill-color);\n",
              "    border-color: transparent;\n",
              "    border-bottom-color: var(--fill-color);\n",
              "    animation:\n",
              "      spin 1s steps(1) infinite;\n",
              "  }\n",
              "\n",
              "  @keyframes spin {\n",
              "    0% {\n",
              "      border-color: transparent;\n",
              "      border-bottom-color: var(--fill-color);\n",
              "      border-left-color: var(--fill-color);\n",
              "    }\n",
              "    20% {\n",
              "      border-color: transparent;\n",
              "      border-left-color: var(--fill-color);\n",
              "      border-top-color: var(--fill-color);\n",
              "    }\n",
              "    30% {\n",
              "      border-color: transparent;\n",
              "      border-left-color: var(--fill-color);\n",
              "      border-top-color: var(--fill-color);\n",
              "      border-right-color: var(--fill-color);\n",
              "    }\n",
              "    40% {\n",
              "      border-color: transparent;\n",
              "      border-right-color: var(--fill-color);\n",
              "      border-top-color: var(--fill-color);\n",
              "    }\n",
              "    60% {\n",
              "      border-color: transparent;\n",
              "      border-right-color: var(--fill-color);\n",
              "    }\n",
              "    80% {\n",
              "      border-color: transparent;\n",
              "      border-right-color: var(--fill-color);\n",
              "      border-bottom-color: var(--fill-color);\n",
              "    }\n",
              "    90% {\n",
              "      border-color: transparent;\n",
              "      border-bottom-color: var(--fill-color);\n",
              "    }\n",
              "  }\n",
              "</style>\n",
              "\n",
              "  <script>\n",
              "    async function quickchart(key) {\n",
              "      const quickchartButtonEl =\n",
              "        document.querySelector('#' + key + ' button');\n",
              "      quickchartButtonEl.disabled = true;  // To prevent multiple clicks.\n",
              "      quickchartButtonEl.classList.add('colab-df-spinner');\n",
              "      try {\n",
              "        const charts = await google.colab.kernel.invokeFunction(\n",
              "            'suggestCharts', [key], {});\n",
              "      } catch (error) {\n",
              "        console.error('Error during call to suggestCharts:', error);\n",
              "      }\n",
              "      quickchartButtonEl.classList.remove('colab-df-spinner');\n",
              "      quickchartButtonEl.classList.add('colab-df-quickchart-complete');\n",
              "    }\n",
              "    (() => {\n",
              "      let quickchartButtonEl =\n",
              "        document.querySelector('#df-1a7b3fa4-9cfa-4ebd-be37-3caef8934f93 button');\n",
              "      quickchartButtonEl.style.display =\n",
              "        google.colab.kernel.accessAllowed ? 'block' : 'none';\n",
              "    })();\n",
              "  </script>\n",
              "</div>\n",
              "\n",
              "    </div>\n",
              "  </div>\n"
            ],
            "application/vnd.google.colaboratory.intrinsic+json": {
              "type": "dataframe",
              "variable_name": "df",
              "summary": "{\n  \"name\": \"df\",\n  \"rows\": 12317,\n  \"fields\": [\n    {\n      \"column\": \"SL no\",\n      \"properties\": {\n        \"dtype\": \"number\",\n        \"std\": 3652,\n        \"min\": 1,\n        \"max\": 12679,\n        \"num_unique_values\": 12317,\n        \"samples\": [\n          4433,\n          4162,\n          1137\n        ],\n        \"semantic_type\": \"\",\n        \"description\": \"\"\n      }\n    },\n    {\n      \"column\": \"Title\",\n      \"properties\": {\n        \"dtype\": \"string\",\n        \"num_unique_values\": 12317,\n        \"samples\": [\n          \"US Government Warns of a New Strain of Chinese 'Taidoor' Virus\",\n          \"Authorities Seize Dark-Web Site Linked to the Netwalker Ransomware\",\n          \"CopperStealer Malware Crew Resurfaces with New Rootkit and Phishing Kit Modules\"\n        ],\n        \"semantic_type\": \"\",\n        \"description\": \"\"\n      }\n    },\n    {\n      \"column\": \"Link\",\n      \"properties\": {\n        \"dtype\": \"string\",\n        \"num_unique_values\": 12317,\n        \"samples\": [\n          \"https://thehackernews.com/2020/08/chinese-hacking-malware.html\",\n          \"https://thehackernews.com/2021/01/authorities-seize-dark-web-site-linked.html\",\n          \"https://thehackernews.com/2023/05/water-orthrus-copperstealer-malware.html\"\n        ],\n        \"semantic_type\": \"\",\n        \"description\": \"\"\n      }\n    },\n    {\n      \"column\": \"Date\",\n      \"properties\": {\n        \"dtype\": \"category\",\n        \"num_unique_values\": 3816,\n        \"samples\": [\n          \"Jun 02, 2020\",\n          \"Jan 05, 2017\",\n          \"Jul 26, 2014\"\n        ],\n        \"semantic_type\": \"\",\n        \"description\": \"\"\n      }\n    },\n    {\n      \"column\": \"Double_Category\",\n      \"properties\": {\n        \"dtype\": \"category\",\n        \"num_unique_values\": 4595,\n        \"samples\": [\n          \"Vulnerability / iOS Security            \",\n          \"Mobile Operating System / Business       \",\n          \"DevSecOps / Product Security\"\n        ],\n        \"semantic_type\": \"\",\n        \"description\": \"\"\n      }\n    },\n    {\n      \"column\": \"Priority_Category\",\n      \"properties\": {\n        \"dtype\": \"category\",\n        \"num_unique_values\": 402,\n        \"samples\": [\n          \"Crypto Mining\",\n          \"Mobile Network Security\",\n          \"Brandjacking\"\n        ],\n        \"semantic_type\": \"\",\n        \"description\": \"\"\n      }\n    },\n    {\n      \"column\": \"Category\",\n      \"properties\": {\n        \"dtype\": \"category\",\n        \"num_unique_values\": 4,\n        \"samples\": [\n          \"Malware\",\n          \"Vulnerability\",\n          \"Cyber Attack\"\n        ],\n        \"semantic_type\": \"\",\n        \"description\": \"\"\n      }\n    },\n    {\n      \"column\": \"Final_Category\",\n      \"properties\": {\n        \"dtype\": \"category\",\n        \"num_unique_values\": 4,\n        \"samples\": [\n          \"Malware\",\n          \"Data Breach\",\n          \"Cyber Attack\"\n        ],\n        \"semantic_type\": \"\",\n        \"description\": \"\"\n      }\n    },\n    {\n      \"column\": \"Content\",\n      \"properties\": {\n        \"dtype\": \"string\",\n        \"num_unique_values\": 12317,\n        \"samples\": [\n          \"Intelligence agencies in the US have released information about a new variant of 12-year-old computer virus used by China's state-sponsored hackers targeting governments, corporations, and think tanks.\\n \\n Named \\\"Taidoor,\\\" the malware has done an 'excellent' job of compromising systems as early as 2008, with the actors deploying it on victim networks for stealthy remote access.\\n \\n \\\"[The] FBI has high confidence that Chinese government actors are using malware variants in conjunction with proxy servers to maintain a presence on victim networks and to further network exploitation,\\\" the US Cybersecurity and Infrastructure Security Agency (CISA), the Federal Bureau of Investigation (FBI), and the Department of Defense (DoD) said in a joint advisory.\\n \\n The US Cyber Command has also uploaded four samples of the Taidoor RAT on the public malware repository VirusTotal to let 50+ Antivirus companies check the virus's involvement in other unattributed campaigns.\\n \\n However, the malware itself is not new. In an analysis by Trend Micro researchers in 2012, the actors behind Taidoor were found to leverage socially engineered emails with malicious PDF attachments to target the Taiwanese government.\\n \\n Calling it a \\\"constantly evolving, persistent threat,\\\" FireEye noted significant changes in its tactics in 2013, wherein \\\"the malicious email attachments did not drop the Taidoor malware directly, but instead dropped a 'downloader' that then grabbed the traditional Taidoor malware from the Internet.\\\"\\n \\n Then last year, NTT Security uncovered evidence of the backdoor being used against Japanese organizations via Microsoft Word documents. When opened, it executes the malware to establish communication with an attacker-controlled server and run arbitrary commands.\\n \\n According to the latest advisory, this technique of using decoy documents containing malicious content attached to spear-phishing emails hasn't changed.\\n \\n \\\"Taidoor is installed on a target's system as a service dynamic link library (DLL) and is comprised of two files,\\\" the agencies said. \\\"The first file is a loader, which is started as a service. The loader (ml.dll) decrypts the second file (svchost.dll), and executes it in memory, which is the main Remote Access Trojan (RAT).\\\"\\n \\n In addition to executing remote commands, Taidoor comes with features that allow it to collect file system data, capture screenshots, and carry out file operations necessary to exfiltrate the gathered information.\\n \\n CISA recommends that users and administrators keep their operating system patches up-to-date, disable File and Printer sharing services, enforce a strong password policy, and exercise caution when opening email attachments.\\n \\n You can find the full list of best practices here.\",\n          \"U.S. and Bulgarian authorities this week took control of the dark web site used by the NetWalker ransomware cybercrime group to publish data stolen from its victims.\\n \\\"We are striking back against the growing threat of ransomware by not only bringing criminal charges against the responsible actors, but also disrupting criminal online infrastructure and, wherever possible, recovering ransom payments extorted from victims,\\\" said Acting Assistant Attorney General Nicholas L. McQuaid of the Justice Department's Criminal Division.\\n \\\"Ransomware victims should know that coming forward to law enforcement as soon as possible after an attack can lead to significant results like those achieved in today's multi-faceted operation.\\\"\\n In connection with the takedown, a Canadian national named Sebastien Vachon-Desjardins from the city of Gatineau was charged in the U.S. state of Florida for extorting $27.6 million in cryptocurrency from ransom payments.\\n Separately, the Bulgarian National Investigation Service and General Directorate Combating Organized Crime seized a dark web hidden resource used by NetWalker ransomware affiliates \\u00e2\\u20ac\\u201d i.e., cybercrime groups responsible for identifying and attacking high-value victims using the ransomware \\u00e2\\u20ac\\u201d to provide payment instructions and communicate with victims.\\n Visitors to the website will now be greeted by a seizure banner notifying them that it has been taken over by law enforcement authorities.\\n Chainalysis, which aided in the investigation, said it has \\\"traced more than $46 million worth of funds in NetWalker ransoms since it first came on the scene in August 2019,\\\" adding \\\"it picked up steam in mid-2020, growing the average ransom to $65,000 last year, up from $18,800 in 2019.\\\"\\n In recent months, Netwalker emerged as a popular choice of ransomware strain besides Ryuk, Maze, Doppelpaymer, and Sodinokibi, with numerous companies, municipalities, hospitals, schools, and universities targeted by the cybercriminals to extort victims.\\n Before the takedown, the NetWalker administrator, who goes by the moniker \\\"Bugatti\\\" on darknet forums, is said to have posted an advertisement in May 2020 looking for additional Russian-speaking affiliates as part of a transition to a ransomware-as-a-service (RaaS) model, using the partners to compromise targets and steal data before encrypting the files.\\n The NetWalker operators have also been part of a growing ransomware trend called double extortion, where the attackers hold the stolen data hostage and threaten to publish the information should the target refuse to pay the ransom.\\n \\\"After a victim pays, developers and affiliates split the ransom,\\\" the U.S. Department of Justice (DoJ) said.\\n Chainalysis researchers suspect that besides involving in at least 91 attacks using NetWalker since April 2020, Vachon-Desjardins worked as an affiliate for other RaaS operators such as Sodinokibi, Suncrypt, and Ragnarlocker.\\n The NetWalker disruption comes on the same day that European authorities announced a coordinated takedown targeting the Emotet crimeware-as-a-service network. The botnet has been used by several cybercrime groups to deploy second-stage malware \\u00e2\\u20ac\\u201d most notably Ryuk and TrickBot.\",\n          \"The threat actors behind the CopperStealer malware resurfaced with two new campaigns in March and April 2023 that are designed to deliver two novel payloads dubbed CopperStealth and CopperPhish.\\n Trend Micro is tracking the financially motivated group under the name Water Orthrus. The adversary is also assessed to be behind another campaign known as Scranos, which was detailed by Bitdefender in 2019.\\n Active since at least 2021, Water Orthrus has a track record of leveraging pay-per-install (PPI) networks to redirect victims landing on cracked software download sites to drop an information stealer codenamed CopperStealer.\\n Another campaign spotted in August 2022 entailed the use of CopperStealer to distribute Chromium-based web browser extensions that are capable of performing unauthorized transactions and transferring cryptocurrency from victims' wallets to ones under attackers' control.\\n The latest attack sequences documented by Trend Micro don't mark much of a deviation, propagating CopperStealth by packaging it as installers for free tools on Chinese software-sharing websites.\\n \\\"CopperStealth's infection chain involves dropping and loading a rootkit, which later injects its payload into explorer.exe and another system process,\\\" security researchers Jaromir Horejsi and Joseph C Chen said in a technical report.\\n \\\"These payloads are responsible for downloading and running additional tasks. The rootkit also blocks access to blocklisted registry keys and prevents certain executables and drivers from running.\\\"\\n The driver denylist contains byte sequences pertaining to Chinese security software companies like Huorong, Kingsoft, and Qihoo 360.\\n CopperStealth also incorporates a task module that enables it to call out to a remote server and retrieve the command to be executed on the infected machine, equipping the malware to drop more payloads.\\n File Sharing Websites Act as Conduit for CopperPhish Phishing Kit\\n The CopperPhish campaign, detected worldwide in April 2023, takes advantage of an analogous process to deploy the malware via PPI networks behind free anonymous file-sharing websites.\\n \\\"Visitors will be redirected to a download page designed by the PPI network after clicking on its advertisements, which pretended to be a download link,\\\" the researchers said. \\\"The downloaded file is PrivateLoader, which downloads and runs many different malware.\\\"\\n The downloader service, which is also offered on a PPI basis, is then used to retrieve and launch CopperPhish, a phishing kit that's responsible for harvesting credit card information.\\n It achieves this by \\\"starting a rundll32 process and injecting a simple program with a browser window (written in Visual Basic) in it,\\\" which loads a phishing page urging victims to scan a QR code in order to verify their identity and enter a confirmation code to \\\"restore your device's network.\\\"\\n \\\"The window has no controls that can be used to minimize or close it,\\\" the researchers explained. \\\"The victim could close the browser's process in Task Manager or Process Explorer, but they would also need to terminate the main payload process, otherwise the browser process will happen again due to the persistence thread.\\\"\\n Once the sensitive details are entered in the page, the CopperPhish malware displays the message \\\"the identity verification has passed\\\" alongside a confirmation code that the victim can enter on the aforementioned screen.\\n Providing the correct confirmation code also causes the malware to uninstall itself and delete all the dropped phishing files from the machine.\\n \\\"The credential verification and confirmation code are two useful features that make this phishing kit more successful, as the victim cannot simply close the window or enter fake information just to get rid of the window,\\\" the researchers said.\\n The attribution to Water Orthrus is based on the fact that both CopperStealth and CopperPhish share similar source code characteristics as that of CopperStealer, raising the possibility that all three strains may have been developed by the same author.\\n The disparate objectives of the campaigns represent the evolution of the threat actor's tactics, indicating an attempt to add new capabilities to its arsenal and expand its financial horizons.\\n The findings come as malicious Google ads are being used to entice users into downloading fake installers for AI tools like Midjourney and OpenAI's ChatGPT that ultimately drop stealers such as Vidar and RedLine.\\n They also follow the discovery of a new traffic-monetizing service called TrafficStealer that leverages misconfigurations containers to redirect traffic to websites and generate fake ad clicks as part of an illicit money-making scheme.\"\n        ],\n        \"semantic_type\": \"\",\n        \"description\": \"\"\n      }\n    },\n    {\n      \"column\": \"Summary\",\n      \"properties\": {\n        \"dtype\": \"string\",\n        \"num_unique_values\": 12314,\n        \"samples\": [\n          \"a 17-year-old vulnerability is being exploited in the wild to distribute a backdoor malware. the vulnerability is a memory-corruption issue that allows unauthenticated, remote attackers to execute malicious code on the targeted system when opened a malicious file. the vulnerability is delivered through spam emails disguised as a notification from Visa regarding rule changes in Russia.\",\n          \"Perfect Money' is a private digital currency that has emerged to meet the demand of criminals and hackers. it allows users to transfer money anonymously by buying and exchanging the proprietary currency for dollars, euros and gold. it was thought Bitcoin would be a handy replacement for Liberty Reserve.\",\n          \"copperStealth and copperPhish resurfaced with two new campaigns in march and April 2023. the threat actors behind the malware are also assessed to be behind another campaign known as Scranos. another campaign spotted in august 2022 entailed the use of copperStealer to distribute chrome-based web browser extensions.\"\n        ],\n        \"semantic_type\": \"\",\n        \"description\": \"\"\n      }\n    }\n  ]\n}"
            }
          },
          "metadata": {},
          "execution_count": 4
        }
      ]
    },
    {
      "cell_type": "markdown",
      "source": [
        "Creating a duplicate dataset:\n",
        "\n",
        "\n",
        "\n",
        "\n"
      ],
      "metadata": {
        "id": "gNkpVNPtCnPq"
      }
    },
    {
      "cell_type": "code",
      "source": [
        "df1 = df[['Title', 'Date', 'Link', 'Final_Category', 'Content', 'Double_Category']].copy()\n",
        "\n",
        "df1 = df1[pd.notnull(df1['Final_Category'])]\n",
        "\n",
        "df1.columns = ['Title', 'Date', 'Link', 'Category', 'Content', 'Initial_Lable']\n",
        "\n",
        "print(df1.shape)\n"
      ],
      "metadata": {
        "colab": {
          "base_uri": "https://localhost:8080/"
        },
        "id": "SLzx5BoFClYC",
        "outputId": "c8a161f1-9b92-436c-ab22-3a38661f4bf8"
      },
      "execution_count": null,
      "outputs": [
        {
          "output_type": "stream",
          "name": "stdout",
          "text": [
            "(12317, 7)\n"
          ]
        }
      ]
    },
    {
      "cell_type": "code",
      "source": [
        "double_unique_labels = df1['Initial_Lable'].unique()\n",
        "\n",
        "unique_labels = df1['Category'].unique()\n",
        "\n",
        "\n",
        "print(unique_labels)\n",
        "\n",
        "print(len(unique_labels))\n",
        "\n",
        "print('===================================')\n",
        "\n",
        "print(double_unique_labels)\n",
        "\n",
        "print(len(double_unique_labels))"
      ],
      "metadata": {
        "colab": {
          "base_uri": "https://localhost:8080/"
        },
        "id": "NWDZ2M1zDE1r",
        "outputId": "04d46fd4-03b7-40b3-9ee6-73d063776642"
      },
      "execution_count": null,
      "outputs": [
        {
          "output_type": "stream",
          "name": "stdout",
          "text": [
            "['Cyber Crime / Data Breach' 'Malware / Cyber Threat'\n",
            " 'Skimming / Web Security' ... 'Online Scam / Cyber Threat'\n",
            " 'Skimming / Banking Trojan' 'Network Security / Threat Analysis']\n",
            "4595\n"
          ]
        }
      ]
    },
    {
      "cell_type": "code",
      "source": [
        "df1['Content_Length'] = df1['Content'].apply(len)\n",
        "\n",
        "shortest_content = df1.loc[df1['Content_Length'].idxmin()]\n",
        "\n",
        "longest_content = df1.loc[df1['Content_Length'].idxmax()]\n",
        "\n",
        "df1 = df1.drop('Content_Length', axis=1)\n",
        "\n",
        "\n",
        "print(\"Shortest Content length:\")\n",
        "print(len(shortest_content['Content']))\n",
        "print(shortest_content['Content'])\n",
        "\n",
        "print('-------------------------------------')\n",
        "\n",
        "print(\"\\nLongest Content length:\")\n",
        "print(len(longest_content['Content']))\n"
      ],
      "metadata": {
        "colab": {
          "base_uri": "https://localhost:8080/"
        },
        "id": "uSCChPMGDQey",
        "outputId": "053443d3-3000-47fa-86c6-228ec054a95e"
      },
      "execution_count": null,
      "outputs": [
        {
          "output_type": "stream",
          "name": "stdout",
          "text": [
            "Shortest Content length:\n",
            "2\n",
            "\n",
            "\n",
            "\n",
            "-------------------------------------\n",
            "\n",
            "Longest Content length:\n",
            "33578\n"
          ]
        }
      ]
    },
    {
      "cell_type": "code",
      "source": [
        "df1['Content_Length'] = df1['Content'].apply(len)\n",
        "\n",
        "min_length = 200\n",
        "max_length = 33578\n",
        "\n",
        "for index, row in df1.iterrows():\n",
        "    if row['Content_Length'] < min_length or row['Content_Length'] > max_length:\n",
        "        df1 = df1.drop(index)\n",
        "\n",
        "df1 = df1.drop('Content_Length', axis=1)\n",
        "\n",
        "print(df1.shape)\n"
      ],
      "metadata": {
        "colab": {
          "base_uri": "https://localhost:8080/"
        },
        "id": "uCrexJj7D8P7",
        "outputId": "dde33e24-1882-4a53-cb7d-3b0d40fe60ae"
      },
      "execution_count": null,
      "outputs": [
        {
          "output_type": "stream",
          "name": "stdout",
          "text": [
            "(12108, 7)\n"
          ]
        }
      ]
    },
    {
      "cell_type": "code",
      "source": [
        "category_mapping = {\n",
        "    'Cyber Attack': 0,\n",
        "    'Malware': 1,\n",
        "    'Vulnerability': 2,\n",
        "    'Data Breach': 3\n",
        "}\n",
        "\n",
        "df1['category_id'] = df1['Category'].map(category_mapping)\n",
        "\n",
        "mapping_series = pd.Series(category_mapping)\n",
        "print(mapping_series)\n"
      ],
      "metadata": {
        "colab": {
          "base_uri": "https://localhost:8080/"
        },
        "id": "uen_l1r9FRSz",
        "outputId": "4593b9e5-8edf-4cbf-b87a-aacf499bb951"
      },
      "execution_count": null,
      "outputs": [
        {
          "output_type": "stream",
          "name": "stdout",
          "text": [
            "Cyber Attack     0\n",
            "Malware          1\n",
            "Vulnerability    2\n",
            "Data Breach      3\n",
            "dtype: int64\n"
          ]
        }
      ]
    },
    {
      "cell_type": "code",
      "source": [
        "import pandas as pd\n",
        "import numpy as np\n",
        "import re\n",
        "import torch\n",
        "from sklearn.model_selection import train_test_split\n",
        "from sklearn.metrics import classification_report\n",
        "from torch.utils.data import Dataset, DataLoader\n",
        "import gensim\n",
        "from gensim.models import Word2Vec\n",
        "from sklearn.feature_extraction.text import CountVectorizer\n",
        "from sklearn.metrics import accuracy_score, classification_report\n",
        "from nltk.corpus import stopwords\n",
        "from nltk.stem import WordNetLemmatizer\n",
        "import nltk\n",
        "nltk.download('wordnet')\n",
        "nltk.download('stopwords')"
      ],
      "metadata": {
        "colab": {
          "base_uri": "https://localhost:8080/"
        },
        "id": "sER0DvPEFZV7",
        "outputId": "aab1ca44-41a5-425e-bfff-51bd7d9e380d"
      },
      "execution_count": null,
      "outputs": [
        {
          "output_type": "stream",
          "name": "stderr",
          "text": [
            "[nltk_data] Downloading package wordnet to /root/nltk_data...\n",
            "[nltk_data]   Package wordnet is already up-to-date!\n",
            "[nltk_data] Downloading package stopwords to /root/nltk_data...\n",
            "[nltk_data]   Package stopwords is already up-to-date!\n"
          ]
        },
        {
          "output_type": "execute_result",
          "data": {
            "text/plain": [
              "True"
            ]
          },
          "metadata": {},
          "execution_count": 10
        }
      ]
    },
    {
      "cell_type": "code",
      "source": [
        "def preprocess_text(text):\n",
        "    text = re.sub(r'\\W', ' ', text)\n",
        "    text = text.lower()\n",
        "    # Remove URLs\n",
        "    text = re.sub(r\"http\\S+|www\\S+|https\\S+\", '', text, flags=re.MULTILINE)\n",
        "    text = re.sub(r'\\s+', ' ', text)\n",
        "    text = text.strip()\n",
        "    return text\n",
        "\n",
        "df1['Clean_Content'] = df1['Content'].apply(preprocess_text)"
      ],
      "metadata": {
        "id": "0nBrH4UTFaRq"
      },
      "execution_count": null,
      "outputs": []
    },
    {
      "cell_type": "markdown",
      "source": [
        "# **System internal code:**"
      ],
      "metadata": {
        "id": "msZShUFkGj2E"
      }
    },
    {
      "cell_type": "markdown",
      "source": [
        "-> Previous query (initially empty)"
      ],
      "metadata": {
        "id": "9a8CzTA9JkyD"
      }
    },
    {
      "cell_type": "code",
      "source": [
        "previous_query = \"\""
      ],
      "metadata": {
        "id": "Zkj-8MU7HsQj"
      },
      "execution_count": null,
      "outputs": []
    },
    {
      "cell_type": "markdown",
      "source": [
        "->user given query"
      ],
      "metadata": {
        "id": "0WbpuNTDJt0b"
      }
    },
    {
      "cell_type": "code",
      "source": [
        "active_query = \"Give analysis about the threat of Cyber Security\""
      ],
      "metadata": {
        "id": "AQkIAhLgHzCi"
      },
      "execution_count": null,
      "outputs": []
    },
    {
      "cell_type": "markdown",
      "source": [
        "-> User id and Session start time"
      ],
      "metadata": {
        "id": "3kh8ohh4JY80"
      }
    },
    {
      "cell_type": "code",
      "source": [
        "import uuid\n",
        "from datetime import datetime\n",
        "\n",
        "def initialize_session():\n",
        "    user_id = str(uuid.uuid4())\n",
        "\n",
        "    session_start_time = datetime.now()\n",
        "\n",
        "    print(f\"User ID: {user_id}\")\n",
        "    print(f\"Session started at: {session_start_time}\")\n",
        "\n",
        "    return user_id, session_start_time\n",
        "\n",
        "def session_duration(session_start_time):\n",
        "    current_time = datetime.now()\n",
        "\n",
        "    duration = current_time - session_start_time\n",
        "\n",
        "    print(f\"Active session duration: {duration.seconds} seconds\")\n",
        "\n",
        "user_id, session_start_time = initialize_session()\n",
        "\n"
      ],
      "metadata": {
        "colab": {
          "base_uri": "https://localhost:8080/"
        },
        "id": "TkjkR8XjHGVi",
        "outputId": "e06b5856-53c0-44c3-f73f-b031aa231e8a"
      },
      "execution_count": null,
      "outputs": [
        {
          "output_type": "stream",
          "name": "stdout",
          "text": [
            "User ID: 7504f317-7be9-40b5-8237-45ac6fbbd033\n",
            "Session started at: 2024-10-10 16:01:16.100964\n"
          ]
        }
      ]
    },
    {
      "cell_type": "markdown",
      "source": [
        "------------------------------------------------------------------------------"
      ],
      "metadata": {
        "id": "45-93s0LJ-gD"
      }
    },
    {
      "cell_type": "markdown",
      "source": [
        "# **-> Module 1 (query checking and correcting the word)**"
      ],
      "metadata": {
        "id": "3aOlF5bdKGvj"
      }
    },
    {
      "cell_type": "code",
      "source": [
        "!pip install symspellpy\n",
        "!python -m spacy download en_core_web_sm\n",
        "!pip install langdetect"
      ],
      "metadata": {
        "colab": {
          "base_uri": "https://localhost:8080/"
        },
        "collapsed": true,
        "id": "2O6MlMzbIIU6",
        "outputId": "facbffbe-0e82-4041-fe8f-938b2e56b8fc"
      },
      "execution_count": null,
      "outputs": [
        {
          "output_type": "stream",
          "name": "stdout",
          "text": [
            "Collecting symspellpy\n",
            "  Downloading symspellpy-6.7.8-py3-none-any.whl.metadata (3.9 kB)\n",
            "Collecting editdistpy>=0.1.3 (from symspellpy)\n",
            "  Downloading editdistpy-0.1.5-cp310-cp310-manylinux_2_5_x86_64.manylinux1_x86_64.manylinux_2_17_x86_64.manylinux2014_x86_64.whl.metadata (7.9 kB)\n",
            "Downloading symspellpy-6.7.8-py3-none-any.whl (2.6 MB)\n",
            "\u001b[2K   \u001b[90m━━━━━━━━━━━━━━━━━━━━━━━━━━━━━━━━━━━━━━━━\u001b[0m \u001b[32m2.6/2.6 MB\u001b[0m \u001b[31m21.3 MB/s\u001b[0m eta \u001b[36m0:00:00\u001b[0m\n",
            "\u001b[?25hDownloading editdistpy-0.1.5-cp310-cp310-manylinux_2_5_x86_64.manylinux1_x86_64.manylinux_2_17_x86_64.manylinux2014_x86_64.whl (144 kB)\n",
            "\u001b[2K   \u001b[90m━━━━━━━━━━━━━━━━━━━━━━━━━━━━━━━━━━━━━━━━\u001b[0m \u001b[32m144.1/144.1 kB\u001b[0m \u001b[31m10.7 MB/s\u001b[0m eta \u001b[36m0:00:00\u001b[0m\n",
            "\u001b[?25hInstalling collected packages: editdistpy, symspellpy\n",
            "Successfully installed editdistpy-0.1.5 symspellpy-6.7.8\n",
            "Collecting langdetect\n",
            "  Downloading langdetect-1.0.9.tar.gz (981 kB)\n",
            "\u001b[2K     \u001b[90m━━━━━━━━━━━━━━━━━━━━━━━━━━━━━━━━━━━━━━━━\u001b[0m \u001b[32m981.5/981.5 kB\u001b[0m \u001b[31m11.4 MB/s\u001b[0m eta \u001b[36m0:00:00\u001b[0m\n",
            "\u001b[?25h  Preparing metadata (setup.py) ... \u001b[?25l\u001b[?25hdone\n",
            "Requirement already satisfied: six in /usr/local/lib/python3.10/dist-packages (from langdetect) (1.16.0)\n",
            "Building wheels for collected packages: langdetect\n",
            "  Building wheel for langdetect (setup.py) ... \u001b[?25l\u001b[?25hdone\n",
            "  Created wheel for langdetect: filename=langdetect-1.0.9-py3-none-any.whl size=993221 sha256=6314024be35fdd59267d1053d09fddaecaa82ae0a8b81a8601049e062d904557\n",
            "  Stored in directory: /root/.cache/pip/wheels/95/03/7d/59ea870c70ce4e5a370638b5462a7711ab78fba2f655d05106\n",
            "Successfully built langdetect\n",
            "Installing collected packages: langdetect\n",
            "Successfully installed langdetect-1.0.9\n",
            "Requirement already satisfied: spacy in /usr/local/lib/python3.10/dist-packages (3.7.5)\n",
            "Requirement already satisfied: spacy-legacy<3.1.0,>=3.0.11 in /usr/local/lib/python3.10/dist-packages (from spacy) (3.0.12)\n",
            "Requirement already satisfied: spacy-loggers<2.0.0,>=1.0.0 in /usr/local/lib/python3.10/dist-packages (from spacy) (1.0.5)\n",
            "Requirement already satisfied: murmurhash<1.1.0,>=0.28.0 in /usr/local/lib/python3.10/dist-packages (from spacy) (1.0.10)\n",
            "Requirement already satisfied: cymem<2.1.0,>=2.0.2 in /usr/local/lib/python3.10/dist-packages (from spacy) (2.0.8)\n",
            "Requirement already satisfied: preshed<3.1.0,>=3.0.2 in /usr/local/lib/python3.10/dist-packages (from spacy) (3.0.9)\n",
            "Requirement already satisfied: thinc<8.3.0,>=8.2.2 in /usr/local/lib/python3.10/dist-packages (from spacy) (8.2.5)\n",
            "Requirement already satisfied: wasabi<1.2.0,>=0.9.1 in /usr/local/lib/python3.10/dist-packages (from spacy) (1.1.3)\n",
            "Requirement already satisfied: srsly<3.0.0,>=2.4.3 in /usr/local/lib/python3.10/dist-packages (from spacy) (2.4.8)\n",
            "Requirement already satisfied: catalogue<2.1.0,>=2.0.6 in /usr/local/lib/python3.10/dist-packages (from spacy) (2.0.10)\n",
            "Requirement already satisfied: weasel<0.5.0,>=0.1.0 in /usr/local/lib/python3.10/dist-packages (from spacy) (0.4.1)\n",
            "Requirement already satisfied: typer<1.0.0,>=0.3.0 in /usr/local/lib/python3.10/dist-packages (from spacy) (0.12.5)\n",
            "Requirement already satisfied: tqdm<5.0.0,>=4.38.0 in /usr/local/lib/python3.10/dist-packages (from spacy) (4.66.5)\n",
            "Requirement already satisfied: requests<3.0.0,>=2.13.0 in /usr/local/lib/python3.10/dist-packages (from spacy) (2.32.3)\n",
            "Requirement already satisfied: pydantic!=1.8,!=1.8.1,<3.0.0,>=1.7.4 in /usr/local/lib/python3.10/dist-packages (from spacy) (2.9.2)\n",
            "Requirement already satisfied: jinja2 in /usr/local/lib/python3.10/dist-packages (from spacy) (3.1.4)\n",
            "Requirement already satisfied: setuptools in /usr/local/lib/python3.10/dist-packages (from spacy) (71.0.4)\n",
            "Requirement already satisfied: packaging>=20.0 in /usr/local/lib/python3.10/dist-packages (from spacy) (24.1)\n",
            "Requirement already satisfied: langcodes<4.0.0,>=3.2.0 in /usr/local/lib/python3.10/dist-packages (from spacy) (3.4.1)\n",
            "Requirement already satisfied: numpy>=1.19.0 in /usr/local/lib/python3.10/dist-packages (from spacy) (1.26.4)\n",
            "Requirement already satisfied: language-data>=1.2 in /usr/local/lib/python3.10/dist-packages (from langcodes<4.0.0,>=3.2.0->spacy) (1.2.0)\n",
            "Requirement already satisfied: annotated-types>=0.6.0 in /usr/local/lib/python3.10/dist-packages (from pydantic!=1.8,!=1.8.1,<3.0.0,>=1.7.4->spacy) (0.7.0)\n",
            "Requirement already satisfied: pydantic-core==2.23.4 in /usr/local/lib/python3.10/dist-packages (from pydantic!=1.8,!=1.8.1,<3.0.0,>=1.7.4->spacy) (2.23.4)\n",
            "Requirement already satisfied: typing-extensions>=4.6.1 in /usr/local/lib/python3.10/dist-packages (from pydantic!=1.8,!=1.8.1,<3.0.0,>=1.7.4->spacy) (4.12.2)\n",
            "Requirement already satisfied: charset-normalizer<4,>=2 in /usr/local/lib/python3.10/dist-packages (from requests<3.0.0,>=2.13.0->spacy) (3.3.2)\n",
            "Requirement already satisfied: idna<4,>=2.5 in /usr/local/lib/python3.10/dist-packages (from requests<3.0.0,>=2.13.0->spacy) (3.10)\n",
            "Requirement already satisfied: urllib3<3,>=1.21.1 in /usr/local/lib/python3.10/dist-packages (from requests<3.0.0,>=2.13.0->spacy) (2.2.3)\n",
            "Requirement already satisfied: certifi>=2017.4.17 in /usr/local/lib/python3.10/dist-packages (from requests<3.0.0,>=2.13.0->spacy) (2024.8.30)\n",
            "Requirement already satisfied: blis<0.8.0,>=0.7.8 in /usr/local/lib/python3.10/dist-packages (from thinc<8.3.0,>=8.2.2->spacy) (0.7.11)\n",
            "Requirement already satisfied: confection<1.0.0,>=0.0.1 in /usr/local/lib/python3.10/dist-packages (from thinc<8.3.0,>=8.2.2->spacy) (0.1.5)\n",
            "Requirement already satisfied: click>=8.0.0 in /usr/local/lib/python3.10/dist-packages (from typer<1.0.0,>=0.3.0->spacy) (8.1.7)\n",
            "Requirement already satisfied: shellingham>=1.3.0 in /usr/local/lib/python3.10/dist-packages (from typer<1.0.0,>=0.3.0->spacy) (1.5.4)\n",
            "Requirement already satisfied: rich>=10.11.0 in /usr/local/lib/python3.10/dist-packages (from typer<1.0.0,>=0.3.0->spacy) (13.9.1)\n",
            "Requirement already satisfied: cloudpathlib<1.0.0,>=0.7.0 in /usr/local/lib/python3.10/dist-packages (from weasel<0.5.0,>=0.1.0->spacy) (0.19.0)\n",
            "Requirement already satisfied: smart-open<8.0.0,>=5.2.1 in /usr/local/lib/python3.10/dist-packages (from weasel<0.5.0,>=0.1.0->spacy) (7.0.4)\n",
            "Requirement already satisfied: MarkupSafe>=2.0 in /usr/local/lib/python3.10/dist-packages (from jinja2->spacy) (2.1.5)\n",
            "Requirement already satisfied: marisa-trie>=0.7.7 in /usr/local/lib/python3.10/dist-packages (from language-data>=1.2->langcodes<4.0.0,>=3.2.0->spacy) (1.2.0)\n",
            "Requirement already satisfied: markdown-it-py>=2.2.0 in /usr/local/lib/python3.10/dist-packages (from rich>=10.11.0->typer<1.0.0,>=0.3.0->spacy) (3.0.0)\n",
            "Requirement already satisfied: pygments<3.0.0,>=2.13.0 in /usr/local/lib/python3.10/dist-packages (from rich>=10.11.0->typer<1.0.0,>=0.3.0->spacy) (2.18.0)\n",
            "Requirement already satisfied: wrapt in /usr/local/lib/python3.10/dist-packages (from smart-open<8.0.0,>=5.2.1->weasel<0.5.0,>=0.1.0->spacy) (1.16.0)\n",
            "Requirement already satisfied: mdurl~=0.1 in /usr/local/lib/python3.10/dist-packages (from markdown-it-py>=2.2.0->rich>=10.11.0->typer<1.0.0,>=0.3.0->spacy) (0.1.2)\n",
            "Collecting en-core-web-sm==3.7.1\n",
            "  Downloading https://github.com/explosion/spacy-models/releases/download/en_core_web_sm-3.7.1/en_core_web_sm-3.7.1-py3-none-any.whl (12.8 MB)\n",
            "\u001b[2K     \u001b[90m━━━━━━━━━━━━━━━━━━━━━━━━━━━━━━━━━━━━━━━━\u001b[0m \u001b[32m12.8/12.8 MB\u001b[0m \u001b[31m46.8 MB/s\u001b[0m eta \u001b[36m0:00:00\u001b[0m\n",
            "\u001b[?25hRequirement already satisfied: spacy<3.8.0,>=3.7.2 in /usr/local/lib/python3.10/dist-packages (from en-core-web-sm==3.7.1) (3.7.5)\n",
            "Requirement already satisfied: spacy-legacy<3.1.0,>=3.0.11 in /usr/local/lib/python3.10/dist-packages (from spacy<3.8.0,>=3.7.2->en-core-web-sm==3.7.1) (3.0.12)\n",
            "Requirement already satisfied: spacy-loggers<2.0.0,>=1.0.0 in /usr/local/lib/python3.10/dist-packages (from spacy<3.8.0,>=3.7.2->en-core-web-sm==3.7.1) (1.0.5)\n",
            "Requirement already satisfied: murmurhash<1.1.0,>=0.28.0 in /usr/local/lib/python3.10/dist-packages (from spacy<3.8.0,>=3.7.2->en-core-web-sm==3.7.1) (1.0.10)\n",
            "Requirement already satisfied: cymem<2.1.0,>=2.0.2 in /usr/local/lib/python3.10/dist-packages (from spacy<3.8.0,>=3.7.2->en-core-web-sm==3.7.1) (2.0.8)\n",
            "Requirement already satisfied: preshed<3.1.0,>=3.0.2 in /usr/local/lib/python3.10/dist-packages (from spacy<3.8.0,>=3.7.2->en-core-web-sm==3.7.1) (3.0.9)\n",
            "Requirement already satisfied: thinc<8.3.0,>=8.2.2 in /usr/local/lib/python3.10/dist-packages (from spacy<3.8.0,>=3.7.2->en-core-web-sm==3.7.1) (8.2.5)\n",
            "Requirement already satisfied: wasabi<1.2.0,>=0.9.1 in /usr/local/lib/python3.10/dist-packages (from spacy<3.8.0,>=3.7.2->en-core-web-sm==3.7.1) (1.1.3)\n",
            "Requirement already satisfied: srsly<3.0.0,>=2.4.3 in /usr/local/lib/python3.10/dist-packages (from spacy<3.8.0,>=3.7.2->en-core-web-sm==3.7.1) (2.4.8)\n",
            "Requirement already satisfied: catalogue<2.1.0,>=2.0.6 in /usr/local/lib/python3.10/dist-packages (from spacy<3.8.0,>=3.7.2->en-core-web-sm==3.7.1) (2.0.10)\n",
            "Requirement already satisfied: weasel<0.5.0,>=0.1.0 in /usr/local/lib/python3.10/dist-packages (from spacy<3.8.0,>=3.7.2->en-core-web-sm==3.7.1) (0.4.1)\n",
            "Requirement already satisfied: typer<1.0.0,>=0.3.0 in /usr/local/lib/python3.10/dist-packages (from spacy<3.8.0,>=3.7.2->en-core-web-sm==3.7.1) (0.12.5)\n",
            "Requirement already satisfied: tqdm<5.0.0,>=4.38.0 in /usr/local/lib/python3.10/dist-packages (from spacy<3.8.0,>=3.7.2->en-core-web-sm==3.7.1) (4.66.5)\n",
            "Requirement already satisfied: requests<3.0.0,>=2.13.0 in /usr/local/lib/python3.10/dist-packages (from spacy<3.8.0,>=3.7.2->en-core-web-sm==3.7.1) (2.32.3)\n",
            "Requirement already satisfied: pydantic!=1.8,!=1.8.1,<3.0.0,>=1.7.4 in /usr/local/lib/python3.10/dist-packages (from spacy<3.8.0,>=3.7.2->en-core-web-sm==3.7.1) (2.9.2)\n",
            "Requirement already satisfied: jinja2 in /usr/local/lib/python3.10/dist-packages (from spacy<3.8.0,>=3.7.2->en-core-web-sm==3.7.1) (3.1.4)\n",
            "Requirement already satisfied: setuptools in /usr/local/lib/python3.10/dist-packages (from spacy<3.8.0,>=3.7.2->en-core-web-sm==3.7.1) (71.0.4)\n",
            "Requirement already satisfied: packaging>=20.0 in /usr/local/lib/python3.10/dist-packages (from spacy<3.8.0,>=3.7.2->en-core-web-sm==3.7.1) (24.1)\n",
            "Requirement already satisfied: langcodes<4.0.0,>=3.2.0 in /usr/local/lib/python3.10/dist-packages (from spacy<3.8.0,>=3.7.2->en-core-web-sm==3.7.1) (3.4.1)\n",
            "Requirement already satisfied: numpy>=1.19.0 in /usr/local/lib/python3.10/dist-packages (from spacy<3.8.0,>=3.7.2->en-core-web-sm==3.7.1) (1.26.4)\n",
            "Requirement already satisfied: language-data>=1.2 in /usr/local/lib/python3.10/dist-packages (from langcodes<4.0.0,>=3.2.0->spacy<3.8.0,>=3.7.2->en-core-web-sm==3.7.1) (1.2.0)\n",
            "Requirement already satisfied: annotated-types>=0.6.0 in /usr/local/lib/python3.10/dist-packages (from pydantic!=1.8,!=1.8.1,<3.0.0,>=1.7.4->spacy<3.8.0,>=3.7.2->en-core-web-sm==3.7.1) (0.7.0)\n",
            "Requirement already satisfied: pydantic-core==2.23.4 in /usr/local/lib/python3.10/dist-packages (from pydantic!=1.8,!=1.8.1,<3.0.0,>=1.7.4->spacy<3.8.0,>=3.7.2->en-core-web-sm==3.7.1) (2.23.4)\n",
            "Requirement already satisfied: typing-extensions>=4.6.1 in /usr/local/lib/python3.10/dist-packages (from pydantic!=1.8,!=1.8.1,<3.0.0,>=1.7.4->spacy<3.8.0,>=3.7.2->en-core-web-sm==3.7.1) (4.12.2)\n",
            "Requirement already satisfied: charset-normalizer<4,>=2 in /usr/local/lib/python3.10/dist-packages (from requests<3.0.0,>=2.13.0->spacy<3.8.0,>=3.7.2->en-core-web-sm==3.7.1) (3.3.2)\n",
            "Requirement already satisfied: idna<4,>=2.5 in /usr/local/lib/python3.10/dist-packages (from requests<3.0.0,>=2.13.0->spacy<3.8.0,>=3.7.2->en-core-web-sm==3.7.1) (3.10)\n",
            "Requirement already satisfied: urllib3<3,>=1.21.1 in /usr/local/lib/python3.10/dist-packages (from requests<3.0.0,>=2.13.0->spacy<3.8.0,>=3.7.2->en-core-web-sm==3.7.1) (2.2.3)\n",
            "Requirement already satisfied: certifi>=2017.4.17 in /usr/local/lib/python3.10/dist-packages (from requests<3.0.0,>=2.13.0->spacy<3.8.0,>=3.7.2->en-core-web-sm==3.7.1) (2024.8.30)\n",
            "Requirement already satisfied: blis<0.8.0,>=0.7.8 in /usr/local/lib/python3.10/dist-packages (from thinc<8.3.0,>=8.2.2->spacy<3.8.0,>=3.7.2->en-core-web-sm==3.7.1) (0.7.11)\n",
            "Requirement already satisfied: confection<1.0.0,>=0.0.1 in /usr/local/lib/python3.10/dist-packages (from thinc<8.3.0,>=8.2.2->spacy<3.8.0,>=3.7.2->en-core-web-sm==3.7.1) (0.1.5)\n",
            "Requirement already satisfied: click>=8.0.0 in /usr/local/lib/python3.10/dist-packages (from typer<1.0.0,>=0.3.0->spacy<3.8.0,>=3.7.2->en-core-web-sm==3.7.1) (8.1.7)\n",
            "Requirement already satisfied: shellingham>=1.3.0 in /usr/local/lib/python3.10/dist-packages (from typer<1.0.0,>=0.3.0->spacy<3.8.0,>=3.7.2->en-core-web-sm==3.7.1) (1.5.4)\n",
            "Requirement already satisfied: rich>=10.11.0 in /usr/local/lib/python3.10/dist-packages (from typer<1.0.0,>=0.3.0->spacy<3.8.0,>=3.7.2->en-core-web-sm==3.7.1) (13.9.1)\n",
            "Requirement already satisfied: cloudpathlib<1.0.0,>=0.7.0 in /usr/local/lib/python3.10/dist-packages (from weasel<0.5.0,>=0.1.0->spacy<3.8.0,>=3.7.2->en-core-web-sm==3.7.1) (0.19.0)\n",
            "Requirement already satisfied: smart-open<8.0.0,>=5.2.1 in /usr/local/lib/python3.10/dist-packages (from weasel<0.5.0,>=0.1.0->spacy<3.8.0,>=3.7.2->en-core-web-sm==3.7.1) (7.0.4)\n",
            "Requirement already satisfied: MarkupSafe>=2.0 in /usr/local/lib/python3.10/dist-packages (from jinja2->spacy<3.8.0,>=3.7.2->en-core-web-sm==3.7.1) (2.1.5)\n",
            "Requirement already satisfied: marisa-trie>=0.7.7 in /usr/local/lib/python3.10/dist-packages (from language-data>=1.2->langcodes<4.0.0,>=3.2.0->spacy<3.8.0,>=3.7.2->en-core-web-sm==3.7.1) (1.2.0)\n",
            "Requirement already satisfied: markdown-it-py>=2.2.0 in /usr/local/lib/python3.10/dist-packages (from rich>=10.11.0->typer<1.0.0,>=0.3.0->spacy<3.8.0,>=3.7.2->en-core-web-sm==3.7.1) (3.0.0)\n",
            "Requirement already satisfied: pygments<3.0.0,>=2.13.0 in /usr/local/lib/python3.10/dist-packages (from rich>=10.11.0->typer<1.0.0,>=0.3.0->spacy<3.8.0,>=3.7.2->en-core-web-sm==3.7.1) (2.18.0)\n",
            "Requirement already satisfied: wrapt in /usr/local/lib/python3.10/dist-packages (from smart-open<8.0.0,>=5.2.1->weasel<0.5.0,>=0.1.0->spacy<3.8.0,>=3.7.2->en-core-web-sm==3.7.1) (1.16.0)\n",
            "Requirement already satisfied: mdurl~=0.1 in /usr/local/lib/python3.10/dist-packages (from markdown-it-py>=2.2.0->rich>=10.11.0->typer<1.0.0,>=0.3.0->spacy<3.8.0,>=3.7.2->en-core-web-sm==3.7.1) (0.1.2)\n",
            "\u001b[38;5;2m✔ Download and installation successful\u001b[0m\n",
            "You can now load the package via spacy.load('en_core_web_sm')\n",
            "\u001b[38;5;3m⚠ Restart to reload dependencies\u001b[0m\n",
            "If you are in a Jupyter or Colab notebook, you may need to restart Python in\n",
            "order to load all the package's dependencies. You can do this by selecting the\n",
            "'Restart kernel' or 'Restart runtime' option.\n",
            "Requirement already satisfied: langdetect in /usr/local/lib/python3.10/dist-packages (1.0.9)\n",
            "Requirement already satisfied: six in /usr/local/lib/python3.10/dist-packages (from langdetect) (1.16.0)\n"
          ]
        }
      ]
    },
    {
      "cell_type": "code",
      "source": [
        "!pip install transformers\n",
        "!pip install torch\n",
        "!pip install spacy symspellpy language-tool-python transformers torch\n",
        "!pip install pyspellchecker langdetect\n",
        "!pip install langid"
      ],
      "metadata": {
        "colab": {
          "base_uri": "https://localhost:8080/"
        },
        "collapsed": true,
        "id": "NG8FbZiFH7_M",
        "outputId": "6a7a37d4-afa2-49e0-9969-f3d18dfbc73d"
      },
      "execution_count": null,
      "outputs": [
        {
          "output_type": "stream",
          "name": "stdout",
          "text": [
            "Requirement already satisfied: transformers in /usr/local/lib/python3.10/dist-packages (4.44.2)\n",
            "Requirement already satisfied: filelock in /usr/local/lib/python3.10/dist-packages (from transformers) (3.16.1)\n",
            "Requirement already satisfied: huggingface-hub<1.0,>=0.23.2 in /usr/local/lib/python3.10/dist-packages (from transformers) (0.24.7)\n",
            "Requirement already satisfied: numpy>=1.17 in /usr/local/lib/python3.10/dist-packages (from transformers) (1.26.4)\n",
            "Requirement already satisfied: packaging>=20.0 in /usr/local/lib/python3.10/dist-packages (from transformers) (24.1)\n",
            "Requirement already satisfied: pyyaml>=5.1 in /usr/local/lib/python3.10/dist-packages (from transformers) (6.0.2)\n",
            "Requirement already satisfied: regex!=2019.12.17 in /usr/local/lib/python3.10/dist-packages (from transformers) (2024.9.11)\n",
            "Requirement already satisfied: requests in /usr/local/lib/python3.10/dist-packages (from transformers) (2.32.3)\n",
            "Requirement already satisfied: safetensors>=0.4.1 in /usr/local/lib/python3.10/dist-packages (from transformers) (0.4.5)\n",
            "Requirement already satisfied: tokenizers<0.20,>=0.19 in /usr/local/lib/python3.10/dist-packages (from transformers) (0.19.1)\n",
            "Requirement already satisfied: tqdm>=4.27 in /usr/local/lib/python3.10/dist-packages (from transformers) (4.66.5)\n",
            "Requirement already satisfied: fsspec>=2023.5.0 in /usr/local/lib/python3.10/dist-packages (from huggingface-hub<1.0,>=0.23.2->transformers) (2024.6.1)\n",
            "Requirement already satisfied: typing-extensions>=3.7.4.3 in /usr/local/lib/python3.10/dist-packages (from huggingface-hub<1.0,>=0.23.2->transformers) (4.12.2)\n",
            "Requirement already satisfied: charset-normalizer<4,>=2 in /usr/local/lib/python3.10/dist-packages (from requests->transformers) (3.3.2)\n",
            "Requirement already satisfied: idna<4,>=2.5 in /usr/local/lib/python3.10/dist-packages (from requests->transformers) (3.10)\n",
            "Requirement already satisfied: urllib3<3,>=1.21.1 in /usr/local/lib/python3.10/dist-packages (from requests->transformers) (2.2.3)\n",
            "Requirement already satisfied: certifi>=2017.4.17 in /usr/local/lib/python3.10/dist-packages (from requests->transformers) (2024.8.30)\n",
            "Requirement already satisfied: torch in /usr/local/lib/python3.10/dist-packages (2.4.1+cu121)\n",
            "Requirement already satisfied: filelock in /usr/local/lib/python3.10/dist-packages (from torch) (3.16.1)\n",
            "Requirement already satisfied: typing-extensions>=4.8.0 in /usr/local/lib/python3.10/dist-packages (from torch) (4.12.2)\n",
            "Requirement already satisfied: sympy in /usr/local/lib/python3.10/dist-packages (from torch) (1.13.3)\n",
            "Requirement already satisfied: networkx in /usr/local/lib/python3.10/dist-packages (from torch) (3.3)\n",
            "Requirement already satisfied: jinja2 in /usr/local/lib/python3.10/dist-packages (from torch) (3.1.4)\n",
            "Requirement already satisfied: fsspec in /usr/local/lib/python3.10/dist-packages (from torch) (2024.6.1)\n",
            "Requirement already satisfied: MarkupSafe>=2.0 in /usr/local/lib/python3.10/dist-packages (from jinja2->torch) (2.1.5)\n",
            "Requirement already satisfied: mpmath<1.4,>=1.1.0 in /usr/local/lib/python3.10/dist-packages (from sympy->torch) (1.3.0)\n",
            "Requirement already satisfied: spacy in /usr/local/lib/python3.10/dist-packages (3.7.5)\n",
            "Requirement already satisfied: symspellpy in /usr/local/lib/python3.10/dist-packages (6.7.8)\n",
            "Requirement already satisfied: language-tool-python in /usr/local/lib/python3.10/dist-packages (2.8.1)\n",
            "Requirement already satisfied: transformers in /usr/local/lib/python3.10/dist-packages (4.44.2)\n",
            "Requirement already satisfied: torch in /usr/local/lib/python3.10/dist-packages (2.4.1+cu121)\n",
            "Requirement already satisfied: spacy-legacy<3.1.0,>=3.0.11 in /usr/local/lib/python3.10/dist-packages (from spacy) (3.0.12)\n",
            "Requirement already satisfied: spacy-loggers<2.0.0,>=1.0.0 in /usr/local/lib/python3.10/dist-packages (from spacy) (1.0.5)\n",
            "Requirement already satisfied: murmurhash<1.1.0,>=0.28.0 in /usr/local/lib/python3.10/dist-packages (from spacy) (1.0.10)\n",
            "Requirement already satisfied: cymem<2.1.0,>=2.0.2 in /usr/local/lib/python3.10/dist-packages (from spacy) (2.0.8)\n",
            "Requirement already satisfied: preshed<3.1.0,>=3.0.2 in /usr/local/lib/python3.10/dist-packages (from spacy) (3.0.9)\n",
            "Requirement already satisfied: thinc<8.3.0,>=8.2.2 in /usr/local/lib/python3.10/dist-packages (from spacy) (8.2.5)\n",
            "Requirement already satisfied: wasabi<1.2.0,>=0.9.1 in /usr/local/lib/python3.10/dist-packages (from spacy) (1.1.3)\n",
            "Requirement already satisfied: srsly<3.0.0,>=2.4.3 in /usr/local/lib/python3.10/dist-packages (from spacy) (2.4.8)\n",
            "Requirement already satisfied: catalogue<2.1.0,>=2.0.6 in /usr/local/lib/python3.10/dist-packages (from spacy) (2.0.10)\n",
            "Requirement already satisfied: weasel<0.5.0,>=0.1.0 in /usr/local/lib/python3.10/dist-packages (from spacy) (0.4.1)\n",
            "Requirement already satisfied: typer<1.0.0,>=0.3.0 in /usr/local/lib/python3.10/dist-packages (from spacy) (0.12.5)\n",
            "Requirement already satisfied: tqdm<5.0.0,>=4.38.0 in /usr/local/lib/python3.10/dist-packages (from spacy) (4.66.5)\n",
            "Requirement already satisfied: requests<3.0.0,>=2.13.0 in /usr/local/lib/python3.10/dist-packages (from spacy) (2.32.3)\n",
            "Requirement already satisfied: pydantic!=1.8,!=1.8.1,<3.0.0,>=1.7.4 in /usr/local/lib/python3.10/dist-packages (from spacy) (2.9.2)\n",
            "Requirement already satisfied: jinja2 in /usr/local/lib/python3.10/dist-packages (from spacy) (3.1.4)\n",
            "Requirement already satisfied: setuptools in /usr/local/lib/python3.10/dist-packages (from spacy) (71.0.4)\n",
            "Requirement already satisfied: packaging>=20.0 in /usr/local/lib/python3.10/dist-packages (from spacy) (24.1)\n",
            "Requirement already satisfied: langcodes<4.0.0,>=3.2.0 in /usr/local/lib/python3.10/dist-packages (from spacy) (3.4.1)\n",
            "Requirement already satisfied: numpy>=1.19.0 in /usr/local/lib/python3.10/dist-packages (from spacy) (1.26.4)\n",
            "Requirement already satisfied: editdistpy>=0.1.3 in /usr/local/lib/python3.10/dist-packages (from symspellpy) (0.1.5)\n",
            "Requirement already satisfied: pip in /usr/local/lib/python3.10/dist-packages (from language-tool-python) (24.1.2)\n",
            "Requirement already satisfied: wheel in /usr/local/lib/python3.10/dist-packages (from language-tool-python) (0.44.0)\n",
            "Requirement already satisfied: filelock in /usr/local/lib/python3.10/dist-packages (from transformers) (3.16.1)\n",
            "Requirement already satisfied: huggingface-hub<1.0,>=0.23.2 in /usr/local/lib/python3.10/dist-packages (from transformers) (0.24.7)\n",
            "Requirement already satisfied: pyyaml>=5.1 in /usr/local/lib/python3.10/dist-packages (from transformers) (6.0.2)\n",
            "Requirement already satisfied: regex!=2019.12.17 in /usr/local/lib/python3.10/dist-packages (from transformers) (2024.9.11)\n",
            "Requirement already satisfied: safetensors>=0.4.1 in /usr/local/lib/python3.10/dist-packages (from transformers) (0.4.5)\n",
            "Requirement already satisfied: tokenizers<0.20,>=0.19 in /usr/local/lib/python3.10/dist-packages (from transformers) (0.19.1)\n",
            "Requirement already satisfied: typing-extensions>=4.8.0 in /usr/local/lib/python3.10/dist-packages (from torch) (4.12.2)\n",
            "Requirement already satisfied: sympy in /usr/local/lib/python3.10/dist-packages (from torch) (1.13.3)\n",
            "Requirement already satisfied: networkx in /usr/local/lib/python3.10/dist-packages (from torch) (3.3)\n",
            "Requirement already satisfied: fsspec in /usr/local/lib/python3.10/dist-packages (from torch) (2024.6.1)\n",
            "Requirement already satisfied: language-data>=1.2 in /usr/local/lib/python3.10/dist-packages (from langcodes<4.0.0,>=3.2.0->spacy) (1.2.0)\n",
            "Requirement already satisfied: annotated-types>=0.6.0 in /usr/local/lib/python3.10/dist-packages (from pydantic!=1.8,!=1.8.1,<3.0.0,>=1.7.4->spacy) (0.7.0)\n",
            "Requirement already satisfied: pydantic-core==2.23.4 in /usr/local/lib/python3.10/dist-packages (from pydantic!=1.8,!=1.8.1,<3.0.0,>=1.7.4->spacy) (2.23.4)\n",
            "Requirement already satisfied: charset-normalizer<4,>=2 in /usr/local/lib/python3.10/dist-packages (from requests<3.0.0,>=2.13.0->spacy) (3.3.2)\n",
            "Requirement already satisfied: idna<4,>=2.5 in /usr/local/lib/python3.10/dist-packages (from requests<3.0.0,>=2.13.0->spacy) (3.10)\n",
            "Requirement already satisfied: urllib3<3,>=1.21.1 in /usr/local/lib/python3.10/dist-packages (from requests<3.0.0,>=2.13.0->spacy) (2.2.3)\n",
            "Requirement already satisfied: certifi>=2017.4.17 in /usr/local/lib/python3.10/dist-packages (from requests<3.0.0,>=2.13.0->spacy) (2024.8.30)\n",
            "Requirement already satisfied: blis<0.8.0,>=0.7.8 in /usr/local/lib/python3.10/dist-packages (from thinc<8.3.0,>=8.2.2->spacy) (0.7.11)\n",
            "Requirement already satisfied: confection<1.0.0,>=0.0.1 in /usr/local/lib/python3.10/dist-packages (from thinc<8.3.0,>=8.2.2->spacy) (0.1.5)\n",
            "Requirement already satisfied: click>=8.0.0 in /usr/local/lib/python3.10/dist-packages (from typer<1.0.0,>=0.3.0->spacy) (8.1.7)\n",
            "Requirement already satisfied: shellingham>=1.3.0 in /usr/local/lib/python3.10/dist-packages (from typer<1.0.0,>=0.3.0->spacy) (1.5.4)\n",
            "Requirement already satisfied: rich>=10.11.0 in /usr/local/lib/python3.10/dist-packages (from typer<1.0.0,>=0.3.0->spacy) (13.9.1)\n",
            "Requirement already satisfied: cloudpathlib<1.0.0,>=0.7.0 in /usr/local/lib/python3.10/dist-packages (from weasel<0.5.0,>=0.1.0->spacy) (0.19.0)\n",
            "Requirement already satisfied: smart-open<8.0.0,>=5.2.1 in /usr/local/lib/python3.10/dist-packages (from weasel<0.5.0,>=0.1.0->spacy) (7.0.4)\n",
            "Requirement already satisfied: MarkupSafe>=2.0 in /usr/local/lib/python3.10/dist-packages (from jinja2->spacy) (2.1.5)\n",
            "Requirement already satisfied: mpmath<1.4,>=1.1.0 in /usr/local/lib/python3.10/dist-packages (from sympy->torch) (1.3.0)\n",
            "Requirement already satisfied: marisa-trie>=0.7.7 in /usr/local/lib/python3.10/dist-packages (from language-data>=1.2->langcodes<4.0.0,>=3.2.0->spacy) (1.2.0)\n",
            "Requirement already satisfied: markdown-it-py>=2.2.0 in /usr/local/lib/python3.10/dist-packages (from rich>=10.11.0->typer<1.0.0,>=0.3.0->spacy) (3.0.0)\n",
            "Requirement already satisfied: pygments<3.0.0,>=2.13.0 in /usr/local/lib/python3.10/dist-packages (from rich>=10.11.0->typer<1.0.0,>=0.3.0->spacy) (2.18.0)\n",
            "Requirement already satisfied: wrapt in /usr/local/lib/python3.10/dist-packages (from smart-open<8.0.0,>=5.2.1->weasel<0.5.0,>=0.1.0->spacy) (1.16.0)\n",
            "Requirement already satisfied: mdurl~=0.1 in /usr/local/lib/python3.10/dist-packages (from markdown-it-py>=2.2.0->rich>=10.11.0->typer<1.0.0,>=0.3.0->spacy) (0.1.2)\n",
            "Collecting pyspellchecker\n",
            "  Downloading pyspellchecker-0.8.1-py3-none-any.whl.metadata (9.4 kB)\n",
            "Requirement already satisfied: langdetect in /usr/local/lib/python3.10/dist-packages (1.0.9)\n",
            "Requirement already satisfied: six in /usr/local/lib/python3.10/dist-packages (from langdetect) (1.16.0)\n",
            "Downloading pyspellchecker-0.8.1-py3-none-any.whl (6.8 MB)\n",
            "\u001b[2K   \u001b[90m━━━━━━━━━━━━━━━━━━━━━━━━━━━━━━━━━━━━━━━━\u001b[0m \u001b[32m6.8/6.8 MB\u001b[0m \u001b[31m33.5 MB/s\u001b[0m eta \u001b[36m0:00:00\u001b[0m\n",
            "\u001b[?25hInstalling collected packages: pyspellchecker\n",
            "Successfully installed pyspellchecker-0.8.1\n",
            "Collecting langid\n",
            "  Downloading langid-1.1.6.tar.gz (1.9 MB)\n",
            "\u001b[2K     \u001b[90m━━━━━━━━━━━━━━━━━━━━━━━━━━━━━━━━━━━━━━━━\u001b[0m \u001b[32m1.9/1.9 MB\u001b[0m \u001b[31m18.5 MB/s\u001b[0m eta \u001b[36m0:00:00\u001b[0m\n",
            "\u001b[?25h  Preparing metadata (setup.py) ... \u001b[?25l\u001b[?25hdone\n",
            "Requirement already satisfied: numpy in /usr/local/lib/python3.10/dist-packages (from langid) (1.26.4)\n",
            "Building wheels for collected packages: langid\n",
            "  Building wheel for langid (setup.py) ... \u001b[?25l\u001b[?25hdone\n",
            "  Created wheel for langid: filename=langid-1.1.6-py3-none-any.whl size=1941171 sha256=6395a9bbb620236a7c6bf66dec517eb291f75c704ebe17a9ab69600a2941ceb3\n",
            "  Stored in directory: /root/.cache/pip/wheels/23/c8/c6/eed80894918490a175677414d40bd7c851413bbe03d4856c3c\n",
            "Successfully built langid\n",
            "Installing collected packages: langid\n",
            "Successfully installed langid-1.1.6\n"
          ]
        }
      ]
    },
    {
      "cell_type": "code",
      "source": [
        "import language_tool_python\n",
        "import langid\n",
        "from langdetect import detect, LangDetectException\n",
        "import logging\n",
        "\n",
        "tool = language_tool_python.LanguageTool('en-US')"
      ],
      "metadata": {
        "colab": {
          "base_uri": "https://localhost:8080/"
        },
        "id": "hQ1SkgnVJGwS",
        "outputId": "21f1ab35-7c0c-4270-dc6b-77c9a2eab2d8"
      },
      "execution_count": null,
      "outputs": [
        {
          "output_type": "stream",
          "name": "stderr",
          "text": [
            "Downloading LanguageTool 6.4: 100%|██████████| 246M/246M [00:03<00:00, 61.7MB/s]\n",
            "INFO:language_tool_python.download_lt:Unzipping /tmp/tmpuovvuo6z.zip to /root/.cache/language_tool_python.\n",
            "INFO:language_tool_python.download_lt:Downloaded https://www.languagetool.org/download/LanguageTool-6.4.zip to /root/.cache/language_tool_python.\n"
          ]
        }
      ]
    },
    {
      "cell_type": "code",
      "source": [
        "def correct_grammar_spelling(text):\n",
        "    try:\n",
        "        matches = tool.check(text)\n",
        "        corrected_text = language_tool_python.utils.correct(text, matches)\n",
        "        return corrected_text\n",
        "    except Exception as e:\n",
        "        logging.error(f\"Error during grammar correction: {e}\")\n",
        "        return None\n",
        "\n",
        "def analyze_query(query):\n",
        "    try:\n",
        "        lang = detect(query)\n",
        "    except LangDetectException:\n",
        "        print(\"Could not detect language. Please use English words.\")\n",
        "        return None\n",
        "    except Exception as e:\n",
        "        logging.error(f\"Error during language detection: {e}\")\n",
        "        return None\n",
        "\n",
        "    logging.info(f\"Detected language: {lang}\")\n",
        "\n",
        "    if lang != 'en':\n",
        "        print(f\"Detected language: {lang}. Please use English words or complete the sentence.\")\n",
        "        return None\n",
        "\n",
        "    corrected_text = correct_grammar_spelling(query)\n",
        "    return corrected_text\n",
        "\n",
        "current_query = analyze_query(active_query)\n",
        "\n",
        "if current_query:\n",
        "    print(f\"Active Query: {active_query}\")\n",
        "    print(f\"Corrected Query: {current_query}\")\n",
        "else:\n",
        "    print(\"The query was not in English or couldn't be processed.\")"
      ],
      "metadata": {
        "colab": {
          "base_uri": "https://localhost:8080/"
        },
        "id": "sj3YPmZPH1HD",
        "outputId": "19ff91c6-111d-4339-ee64-5c23604d6ca2"
      },
      "execution_count": null,
      "outputs": [
        {
          "output_type": "stream",
          "name": "stdout",
          "text": [
            "Active Query: Give analysis about the threat of Cyber Security\n",
            "Corrected Query: Give analysis of the threat of Cybersecurity\n"
          ]
        }
      ]
    },
    {
      "cell_type": "markdown",
      "source": [
        "--------------------------------------------------------------------------------"
      ],
      "metadata": {
        "id": "MBnhwJLEKAYD"
      }
    },
    {
      "cell_type": "markdown",
      "source": [
        "# **-> Module 2 (queries sequence maintainance)**"
      ],
      "metadata": {
        "id": "xvXvhxqpLqGi"
      }
    },
    {
      "cell_type": "code",
      "source": [
        "PRONOUNS = [\"it\", \"this\", \"that\", \"these\", \"those\", \"he\", \"she\", \"they\", \"his\", \"her\", \"their\", \"its\"]\n",
        "\n",
        "QUESTION_WORDS = {\"what\", \"how\", \"why\", \"which\", \"where\", \"when\", \"who\", \"whose\", \"whom\"}\n",
        "\n",
        "DESCRIPTIVE_WORDS = {'patching', 'influences', 'malfunctions', 'authentication issue', 'importance', 'role', 'concerns', 'scope', 'dangers', 'privacy concern', 'consequences', 'purposes', 'security flaw', 'data vulnerability', 'technical difficulty', 'NLP challenge', 'problem', 'issues', 'applications', 'availability', 'exploit', 'solutions', 'exploits', 'risk factor', 'buffer overflow', 'mitigation', 'attack surface', 'necessities', 'detection rate', 'injection', 'objectives', 'integrity', 'drawbacks', 'effects', 'false positive', 'benefits', 'issue', 'significance', 'considerations', 'limitation', 'security threat', 'weaknesses', 'danger', 'problems', 'impact', 'opportunities', 'backdoor', 'risks', 'implications', 'firewall', 'impacts', 'limitations', 'potential', 'exposures', 'confidentiality', 'strengths', 'relevance', 'machine learning issue', 'penetration', 'challenges', 'barriers', 'glitches', 'system performance', 'system breach', 'feasibility', 'threats', 'risk mitigation', 'vulnerabilities', 'penetration test', 'response', 'data leak', 'breaches', 'outcomes', 'bug', 'disadvantages', 'defense', 'security risk', 'factors', 'constraints', 'accuracy issue', 'security gap', 'AI challenge', 'advantages', 'AI limitation', 'priorities', 'issue mitigation', 'requirements', 'use'}\n",
        "\n",
        "IRRELEVANT_WORDS = {'tell','the', 'example', 'best', 'bit', 'note', 'something', 'thing', 'output', 'the concept', 'input', 'type', 'subject', 'detail', 'result', 'process', 'anything', 'another', 'whatever', 'other', 'topic', 'section', 'aspect', 'different', 'matter', 'generic', 'context', 'me', 'specific', 'particular', 'individual', 'basic', 'general', 'piece', 'information', 'content', 'various', 'text', 'element', 'page', 'concept', 'item', 'an example', 'certain', 'more'}\n",
        "\n",
        "\n",
        "KNOWN_MWES = {\n",
        "    \"cyber attack\", \"data breach\", \"network security\", \"ransomware attack\", \"phishing scam\", \"denial of service\",\n",
        "    \"distributed denial of service\", \"social engineering\", \"firewall configuration\",\n",
        "    \"intrusion detection\", \"identity theft\", \"vulnerability assessment\", \"cyber threat intelligence\",\n",
        "    \"man-in-the-middle attack\", \"zero-day vulnerability\", \"malware infection\", \"command injection\",\n",
        "    \"SQL injection\", \"cross-site scripting\", \"buffer overflow\", \"backdoor attack\",\n",
        "    \"brute force attack\", \"credential stuffing\", \"password spraying\", \"honeypot trap\",\n",
        "    \"advanced persistent threat\", \"cyber espionage\", \"insider threat\", \"session hijacking\",\n",
        "    \"keylogging\", \"rootkit\", \"spyware\", \"adware\", \"botnet\", \"cloud misconfiguration\",\n",
        "    \"remote code execution\", \"cryptojacking\", \"data exfiltration\", \"exploit kit\",\n",
        "    \"sandbox evasion\", \"cyber warfare\", \"ethical hacking\", \"penetration testing\", \"fuzz testing\",\n",
        "    \"network intrusion\", \"black hat hacking\", \"phishing detection\", \"security patch\",\n",
        "    \"two-factor authentication\", \"zero trust architecture\", \"cryptography\", \"public key infrastructure\",\n",
        "    \"machine learning\", \"cyber security\", 'data loss', 'validation loss', 'data breach softwares', 'malware attacks'\n",
        "}\n"
      ],
      "metadata": {
        "id": "absoVSwdMI7D"
      },
      "execution_count": null,
      "outputs": []
    },
    {
      "cell_type": "code",
      "source": [
        "import re\n",
        "import spacy\n",
        "import torch\n",
        "from transformers import BertTokenizer, BertForNextSentencePrediction\n",
        "from difflib import SequenceMatcher\n",
        "\n",
        "nlp = spacy.load(\"en_core_web_sm\")\n",
        "\n",
        "tokenizer = BertTokenizer.from_pretrained('bert-base-uncased')\n",
        "model = BertForNextSentencePrediction.from_pretrained('bert-base-uncased')"
      ],
      "metadata": {
        "id": "Ed0noGNDPZGI"
      },
      "execution_count": null,
      "outputs": []
    },
    {
      "cell_type": "code",
      "source": [
        "def detect_and_preserve_mwes(query):\n",
        "    mwes = set()\n",
        "    for mwe in KNOWN_MWES:\n",
        "        if mwe in query.lower():\n",
        "            mwes.add(mwe)\n",
        "            query = query.lower().replace(mwe, \"\")\n",
        "    return mwes, query\n",
        "\n",
        "def extract_topics_using_dependencies(query):\n",
        "    mwes, processed_query = detect_and_preserve_mwes(query)\n",
        "    doc = nlp(processed_query)\n",
        "    topics = set()\n",
        "\n",
        "    for token in doc:\n",
        "        if token.pos_ in (\"NOUN\", \"PROPN\") and token.text.lower() not in DESCRIPTIVE_WORDS and token.text.lower() not in IRRELEVANT_WORDS:\n",
        "            topics.add(token.text.strip())\n",
        "\n",
        "    topics.update(mwes)\n",
        "\n",
        "    return list(topics)\n",
        "\n",
        "def expand_current_topics_with_previous(current_topics, previous_topics, current_query):\n",
        "    for topic in previous_topics:\n",
        "        if topic.lower() in current_query.lower() and topic.lower() not in current_topics:\n",
        "            current_topics.append(topic)\n",
        "    return current_topics\n",
        "\n",
        "def detect_pronouns(query):\n",
        "    doc = nlp(query)\n",
        "    pronouns = [token.text for token in doc if token.pos_ == \"PRON\" and token.text.lower() in PRONOUNS]\n",
        "    return pronouns if pronouns else None\n",
        "\n",
        "def replace_pronouns_in_query(current_query, main_topics_str):\n",
        "    placeholder_replaced = False\n",
        "    for placeholder in PRONOUNS:\n",
        "        if re.search(rf\"\\b{placeholder}\\b\", current_query, flags=re.IGNORECASE):\n",
        "            current_query = re.sub(rf\"\\b{placeholder}\\b\", main_topics_str, current_query, flags=re.IGNORECASE)\n",
        "            placeholder_replaced = True\n",
        "    return current_query, placeholder_replaced\n",
        "\n",
        "def calculate_similarity(previous_query, current_query):\n",
        "    return SequenceMatcher(None, previous_query.lower(), current_query.lower()).ratio()\n",
        "\n",
        "def calculate_nsp_score(previous_query, current_query):\n",
        "    inputs = tokenizer.encode_plus(previous_query, current_query, return_tensors='pt')\n",
        "    outputs = model(**inputs)\n",
        "    logits = outputs.logits\n",
        "    probs = torch.softmax(logits, dim=1)\n",
        "    is_next_prob = probs[0][0].item()\n",
        "    return is_next_prob\n",
        "\n",
        "def is_query_related(previous_query, current_query):\n",
        "\n",
        "    if previous_query != \"\":\n",
        "\n",
        "        previous_topics = extract_topics_using_dependencies(previous_query)\n",
        "        current_topics = extract_topics_using_dependencies(current_query)\n",
        "\n",
        "        current_topics = expand_current_topics_with_previous(current_topics, previous_topics, current_query)\n",
        "\n",
        "        previous_topics_str = \", \".join(previous_topics)\n",
        "        current_topics_str = \", \".join(current_topics)\n",
        "\n",
        "        print(f\"Previous Topics: {previous_topics_str}\")\n",
        "        print(f\"Current Topics: {current_topics_str}\")\n",
        "\n",
        "        #1. Condition: Check if there is a keyword match and a pronoun\n",
        "        detected_pronouns = detect_pronouns(current_query)\n",
        "        if previous_topics and current_topics and any(topic in current_topics for topic in previous_topics) and detected_pronouns:\n",
        "            print(f\"Pronouns detected: {', '.join(detected_pronouns)}\")\n",
        "            modified_query, _ = replace_pronouns_in_query(current_query, \" and \".join(current_topics))\n",
        "            print(\"Related: First Condition - Keyword match and pronoun present.\")\n",
        "            return True, modified_query\n",
        "\n",
        "        #2. Condition: If no keyword match but there is a pronoun, not related\n",
        "        if previous_topics and current_topics and not any(topic in current_topics for topic in previous_topics) and detected_pronouns:\n",
        "            print(f\"Pronouns detected: {', '.join(detected_pronouns)}\")\n",
        "            modified_query, _ = replace_pronouns_in_query(current_query, \" and \".join(current_topics))\n",
        "            print(\"Not Related: Second Condition - No keyword match but pronoun detected.\")\n",
        "            return False, modified_query\n",
        "\n",
        "        #3. Condition: If no keyword match, check for pronouns\n",
        "        if not current_topics and detected_pronouns:\n",
        "            modified_query, _ = replace_pronouns_in_query(current_query, \" and \".join(previous_topics))\n",
        "            print(\"Related: Third Condition - No keyword match but pronoun present.\")\n",
        "            return True, modified_query\n",
        "\n",
        "        #4. Condition: If no pronouns and no valid topics\n",
        "        if not current_topics:\n",
        "            modified_query = current_query + \" of \" + \" and \".join(previous_topics)\n",
        "            print(\"Related: Fourth Condition - No valid topics and no pronouns.\")\n",
        "            return True, modified_query\n",
        "        elif current_topics:\n",
        "            modified_query = current_query\n",
        "            print(\"Not Related: Fourth Condition - Valid topics present in current query.\")\n",
        "            return False, modified_query\n",
        "\n",
        "        #5. Condition: If all other conditions fail, use similarity or NSP score\n",
        "        similarity_score = calculate_similarity(previous_query, current_query)\n",
        "        if similarity_score > 0.85:  # Similarity threshold\n",
        "            modified_query = current_query\n",
        "            print(f\"Related: Fifth Condition - Similarity score indicates relatedness. Score: {similarity_score:.2f}\")\n",
        "            return True, modified_query\n",
        "\n",
        "        print(f\"Not Related: Fifth Condition - Similarity score too low. Score: {similarity_score:.2f}\")\n",
        "        return False, current_query\n",
        "\n",
        "    else:\n",
        "        #If previous query is empty and the current query has pronouns and keywords\n",
        "        detected_pronouns = detect_pronouns(current_query)\n",
        "        current_topics = extract_topics_using_dependencies(current_query)\n",
        "        if detected_pronouns and current_topics:\n",
        "            modified_query, _ = replace_pronouns_in_query(current_query, \" and \".join(current_topics))\n",
        "            print(f\"Pronouns detected: {', '.join(detected_pronouns)}\")\n",
        "            previous_query = modified_query\n",
        "            return False, modified_query\n",
        "        else:\n",
        "            modified_query = current_query\n",
        "            previous_query = current_query\n",
        "            return False, modified_query\n",
        "\n",
        "\n",
        "related, modified_query = is_query_related(previous_query, current_query)\n",
        "\n",
        "if related:\n",
        "    print(\"The current query is related to the previous query.\")\n",
        "    print(f\"Modified Query: {modified_query}\")\n",
        "    related = 'yes'\n",
        "\n",
        "else:\n",
        "    print(\"The current query is NOT related to the previous query.\")\n",
        "    print(f\"Modified Query: {modified_query}\")\n",
        "    previous_query = \"\"\n",
        "    related = 'no'\n"
      ],
      "metadata": {
        "colab": {
          "base_uri": "https://localhost:8080/"
        },
        "id": "H3A9urEwLpHS",
        "outputId": "84e184f8-3ddc-4c9d-aae3-78f7ce566c16"
      },
      "execution_count": null,
      "outputs": [
        {
          "output_type": "stream",
          "name": "stdout",
          "text": [
            "The current query is NOT related to the previous query.\n",
            "Modified Query: Give analysis of the threat of Cybersecurity\n"
          ]
        }
      ]
    },
    {
      "cell_type": "code",
      "source": [
        "print(related)"
      ],
      "metadata": {
        "colab": {
          "base_uri": "https://localhost:8080/"
        },
        "id": "18NNlkXiMfIT",
        "outputId": "411e0eb8-f89d-4442-c946-acdce8b22e9f"
      },
      "execution_count": null,
      "outputs": [
        {
          "output_type": "stream",
          "name": "stdout",
          "text": [
            "no\n"
          ]
        }
      ]
    },
    {
      "cell_type": "markdown",
      "source": [
        "---------------------------------------------------------------------------------------------"
      ],
      "metadata": {
        "id": "Y4zERBzyMlGs"
      }
    },
    {
      "cell_type": "markdown",
      "source": [
        "# **-> Module 3 (Top 10 Rows generation based on query)** need GPU"
      ],
      "metadata": {
        "id": "Y6TZog-dNIZ7"
      }
    },
    {
      "cell_type": "code",
      "source": [
        "!pip install rank-bm25 transformers gensim scikit-learn numpy pandas"
      ],
      "metadata": {
        "colab": {
          "base_uri": "https://localhost:8080/"
        },
        "collapsed": true,
        "id": "w3B2GtZ_M0WD",
        "outputId": "61db28a8-4b65-4d9c-ea3c-8ac09ad18e84"
      },
      "execution_count": null,
      "outputs": [
        {
          "output_type": "stream",
          "name": "stdout",
          "text": [
            "Collecting rank-bm25\n",
            "  Downloading rank_bm25-0.2.2-py3-none-any.whl.metadata (3.2 kB)\n",
            "Requirement already satisfied: transformers in /usr/local/lib/python3.10/dist-packages (4.44.2)\n",
            "Requirement already satisfied: gensim in /usr/local/lib/python3.10/dist-packages (4.3.3)\n",
            "Requirement already satisfied: scikit-learn in /usr/local/lib/python3.10/dist-packages (1.5.2)\n",
            "Requirement already satisfied: numpy in /usr/local/lib/python3.10/dist-packages (1.26.4)\n",
            "Requirement already satisfied: pandas in /usr/local/lib/python3.10/dist-packages (2.2.2)\n",
            "Requirement already satisfied: filelock in /usr/local/lib/python3.10/dist-packages (from transformers) (3.16.1)\n",
            "Requirement already satisfied: huggingface-hub<1.0,>=0.23.2 in /usr/local/lib/python3.10/dist-packages (from transformers) (0.24.7)\n",
            "Requirement already satisfied: packaging>=20.0 in /usr/local/lib/python3.10/dist-packages (from transformers) (24.1)\n",
            "Requirement already satisfied: pyyaml>=5.1 in /usr/local/lib/python3.10/dist-packages (from transformers) (6.0.2)\n",
            "Requirement already satisfied: regex!=2019.12.17 in /usr/local/lib/python3.10/dist-packages (from transformers) (2024.9.11)\n",
            "Requirement already satisfied: requests in /usr/local/lib/python3.10/dist-packages (from transformers) (2.32.3)\n",
            "Requirement already satisfied: safetensors>=0.4.1 in /usr/local/lib/python3.10/dist-packages (from transformers) (0.4.5)\n",
            "Requirement already satisfied: tokenizers<0.20,>=0.19 in /usr/local/lib/python3.10/dist-packages (from transformers) (0.19.1)\n",
            "Requirement already satisfied: tqdm>=4.27 in /usr/local/lib/python3.10/dist-packages (from transformers) (4.66.5)\n",
            "Requirement already satisfied: scipy<1.14.0,>=1.7.0 in /usr/local/lib/python3.10/dist-packages (from gensim) (1.13.1)\n",
            "Requirement already satisfied: smart-open>=1.8.1 in /usr/local/lib/python3.10/dist-packages (from gensim) (7.0.4)\n",
            "Requirement already satisfied: joblib>=1.2.0 in /usr/local/lib/python3.10/dist-packages (from scikit-learn) (1.4.2)\n",
            "Requirement already satisfied: threadpoolctl>=3.1.0 in /usr/local/lib/python3.10/dist-packages (from scikit-learn) (3.5.0)\n",
            "Requirement already satisfied: python-dateutil>=2.8.2 in /usr/local/lib/python3.10/dist-packages (from pandas) (2.8.2)\n",
            "Requirement already satisfied: pytz>=2020.1 in /usr/local/lib/python3.10/dist-packages (from pandas) (2024.2)\n",
            "Requirement already satisfied: tzdata>=2022.7 in /usr/local/lib/python3.10/dist-packages (from pandas) (2024.2)\n",
            "Requirement already satisfied: fsspec>=2023.5.0 in /usr/local/lib/python3.10/dist-packages (from huggingface-hub<1.0,>=0.23.2->transformers) (2024.6.1)\n",
            "Requirement already satisfied: typing-extensions>=3.7.4.3 in /usr/local/lib/python3.10/dist-packages (from huggingface-hub<1.0,>=0.23.2->transformers) (4.12.2)\n",
            "Requirement already satisfied: six>=1.5 in /usr/local/lib/python3.10/dist-packages (from python-dateutil>=2.8.2->pandas) (1.16.0)\n",
            "Requirement already satisfied: wrapt in /usr/local/lib/python3.10/dist-packages (from smart-open>=1.8.1->gensim) (1.16.0)\n",
            "Requirement already satisfied: charset-normalizer<4,>=2 in /usr/local/lib/python3.10/dist-packages (from requests->transformers) (3.3.2)\n",
            "Requirement already satisfied: idna<4,>=2.5 in /usr/local/lib/python3.10/dist-packages (from requests->transformers) (3.10)\n",
            "Requirement already satisfied: urllib3<3,>=1.21.1 in /usr/local/lib/python3.10/dist-packages (from requests->transformers) (2.2.3)\n",
            "Requirement already satisfied: certifi>=2017.4.17 in /usr/local/lib/python3.10/dist-packages (from requests->transformers) (2024.8.30)\n",
            "Downloading rank_bm25-0.2.2-py3-none-any.whl (8.6 kB)\n",
            "Installing collected packages: rank-bm25\n",
            "Successfully installed rank-bm25-0.2.2\n"
          ]
        }
      ]
    },
    {
      "cell_type": "markdown",
      "source": [
        "need to run only one:"
      ],
      "metadata": {
        "id": "2rtQ46umNu9z"
      }
    },
    {
      "cell_type": "code",
      "source": [
        "import numpy as np\n",
        "import pandas as pd\n",
        "from rank_bm25 import BM25Okapi\n",
        "from gensim.utils import simple_preprocess\n",
        "from transformers import BertTokenizer, BertModel\n",
        "from sklearn.metrics.pairwise import cosine_similarity\n",
        "import torch\n",
        "\n",
        "generated_title_history = []\n",
        "\n",
        "tokenizer = BertTokenizer.from_pretrained('bert-large-uncased')\n",
        "bert_model = BertModel.from_pretrained('bert-large-uncased')\n",
        "\n",
        "def tokenize_and_initialize_bm25(df1):\n",
        "    tokenized_corpus = [simple_preprocess(doc) for doc in df1['Clean_Content'].dropna()]\n",
        "    bm25_model = BM25Okapi(tokenized_corpus)\n",
        "    return bm25_model, tokenized_corpus\n",
        "\n",
        "bm25_model, tokenized_corpus = tokenize_and_initialize_bm25(df1)"
      ],
      "metadata": {
        "id": "l2azz6SlOYRy"
      },
      "execution_count": null,
      "outputs": []
    },
    {
      "cell_type": "code",
      "source": [
        "device = torch.device(\"cuda\" if torch.cuda.is_available() else \"cpu\")"
      ],
      "metadata": {
        "id": "LXO82TDtIYWv"
      },
      "execution_count": null,
      "outputs": []
    },
    {
      "cell_type": "code",
      "source": [
        "def get_bert_embedding(text, tokenizer, model, device):\n",
        "    model.to(device)\n",
        "    inputs = tokenizer(text, return_tensors=\"pt\", truncation=True, max_length=1024, padding=True).to(device)\n",
        "    outputs = model(**inputs)\n",
        "\n",
        "    cls_embedding = outputs.last_hidden_state[:, 0, :]\n",
        "    return cls_embedding.cpu().detach().numpy()\n",
        "\n",
        "def bm25_pipeline_faster(bm25_model, query, df1, top_n=10, exclude_titles=None):\n",
        "\n",
        "    tokenized_query = simple_preprocess(query)\n",
        "    bm25_scores = bm25_model.get_scores(tokenized_query)\n",
        "\n",
        "    top_indices = np.argsort(bm25_scores)[-top_n*3:][::-1]\n",
        "    top_n_candidates_df = df1.iloc[top_indices][['Title', 'Clean_Content', 'Link', 'Initial_Lable', 'category_id']]\n",
        "\n",
        "    if exclude_titles:\n",
        "        top_n_candidates_df = top_n_candidates_df[~top_n_candidates_df['Title'].isin(exclude_titles)]\n",
        "\n",
        "    return top_n_candidates_df.head(top_n)\n",
        "\n",
        "def re_rank_with_bert(top_n_contents_df, query, tokenizer, model):\n",
        "\n",
        "    query_embedding = get_bert_embedding(query, tokenizer, model, device)\n",
        "\n",
        "    document_embeddings = np.array([get_bert_embedding(doc, tokenizer, model,device) for doc in top_n_contents_df['Clean_Content']])\n",
        "\n",
        "    document_embeddings = document_embeddings.squeeze(1)\n",
        "\n",
        "    similarities = cosine_similarity(query_embedding, document_embeddings).flatten()\n",
        "\n",
        "    top_n_contents_df['similarity'] = similarities\n",
        "    top_n_contents_df = top_n_contents_df.sort_values(by='similarity', ascending=False)\n",
        "\n",
        "    return top_n_contents_df\n",
        "\n",
        "def bm25_bert_hybrid_pipeline(modified_query, df1, bm25_model, related='no', top_n=10):\n",
        "    if related == 'no':\n",
        "\n",
        "        top_10_contents_df = bm25_pipeline_faster(bm25_model, modified_query, df1, top_n=top_n)\n",
        "\n",
        "        if not generated_title_history:\n",
        "\n",
        "            generated_title_history.extend(top_10_contents_df['Title'].tolist())\n",
        "        else:\n",
        "\n",
        "            generated_title_history.clear()\n",
        "            generated_title_history.extend(top_10_contents_df['Title'].tolist())\n",
        "    elif related == 'yes':\n",
        "\n",
        "        top_10_contents_df = bm25_pipeline_faster(bm25_model, modified_query, df1, top_n=top_n, exclude_titles=generated_title_history)\n",
        "        generated_title_history.extend(top_10_contents_df['Title'].tolist())\n",
        "\n",
        "    re_ranked_results = re_rank_with_bert(top_10_contents_df, modified_query, tokenizer, bert_model)\n",
        "\n",
        "    return re_ranked_results\n",
        "\n",
        "\n",
        "top_10_contents_df = bm25_bert_hybrid_pipeline(modified_query, df1, bm25_model, related=related, top_n=10)\n",
        "\n",
        "top_10_contents_df"
      ],
      "metadata": {
        "colab": {
          "base_uri": "https://localhost:8080/",
          "height": 536
        },
        "id": "htGq_OgLOZZr",
        "outputId": "0a594f2a-b968-4e5d-a80a-2d35d336c03a"
      },
      "execution_count": null,
      "outputs": [
        {
          "output_type": "execute_result",
          "data": {
            "text/plain": [
              "                                                   Title  \\\n",
              "3363   Critical Flaws in Philips TASY EMR Could Expos...   \n",
              "3393   Hackers Using Squirrelwaffle Loader to Deploy ...   \n",
              "5223   Get 10 Popular Books To Learn Advanced Hacking...   \n",
              "10017   Pentagon boosts contractor cybersecurity program   \n",
              "4147   Guide: How Security Consolidation Helps Small ...   \n",
              "1417   FakeCalls Vishing Malware Targets South Korean...   \n",
              "2053   How To Build a Career as a Freelance Cybersecu...   \n",
              "4499   New USBCulprit Espionage Tool Steals Data From...   \n",
              "2631   Researchers Find New Malware Attacks Targeting...   \n",
              "4724   The Hacker News 2020 Cybersecurity Salary Surv...   \n",
              "\n",
              "                                           Clean_Content  \\\n",
              "3363   the u s cybersecurity and infrastructure secur...   \n",
              "3393   a new spam email campaign has emerged as a con...   \n",
              "5223   it should come as no surprise that cybersecuri...   \n",
              "10017  pentagon boosts contractor cybersecurity progr...   \n",
              "4147   the dynamic nature of cybersecurity the change...   \n",
              "1417   an android voice phishing aka vishing malware ...   \n",
              "2053   with each passing year the cybersecurity threa...   \n",
              "4499   a chinese threat actor has developed new capab...   \n",
              "2631   an unknown advanced persistent threat apt grou...   \n",
              "4724   for the first time the hacker news launches a ...   \n",
              "\n",
              "                                                    Link  \\\n",
              "3363   https://thehackernews.com/2021/11/critical-fla...   \n",
              "3393   https://thehackernews.com/2021/10/hackers-usin...   \n",
              "5223   https://thehackernews.com/2019/01/cybersecurit...   \n",
              "10017  https://thehackernews.com/2012/05/pentagon-boo...   \n",
              "4147   https://thehackernews.com/2021/02/guide-how-se...   \n",
              "1417   https://thehackernews.com/2023/03/fakecalls-vi...   \n",
              "2053   https://thehackernews.com/2022/10/how-to-build...   \n",
              "4499   https://thehackernews.com/2020/06/air-gap-malw...   \n",
              "2631   https://thehackernews.com/2022/05/researchers-...   \n",
              "4724   https://thehackernews.com/2019/11/cybersecurit...   \n",
              "\n",
              "                              Initial_Lable  category_id  \n",
              "3363       Vulnerability / Medical Software            2  \n",
              "3393              Malware / Loader Exploits            1  \n",
              "5223       Cybercrime / Threat Intelligence            3  \n",
              "10017   Cybersecurity / Government Security            2  \n",
              "4147   Cybersecurity Training / IT Security            0  \n",
              "1417           Mobile Security / Scam Alert            3  \n",
              "2053   Cybersecurity Training / IT Security            0  \n",
              "4499         Cyber Espionage / Cyber Attack            3  \n",
              "2631              Malware / Cyber Espionage            0  \n",
              "4724   Cybersecurity Training / IT Security            3  "
            ],
            "text/html": [
              "\n",
              "  <div id=\"df-4ce77034-dd88-418a-9803-5a10165519fe\" class=\"colab-df-container\">\n",
              "    <div>\n",
              "<style scoped>\n",
              "    .dataframe tbody tr th:only-of-type {\n",
              "        vertical-align: middle;\n",
              "    }\n",
              "\n",
              "    .dataframe tbody tr th {\n",
              "        vertical-align: top;\n",
              "    }\n",
              "\n",
              "    .dataframe thead th {\n",
              "        text-align: right;\n",
              "    }\n",
              "</style>\n",
              "<table border=\"1\" class=\"dataframe\">\n",
              "  <thead>\n",
              "    <tr style=\"text-align: right;\">\n",
              "      <th></th>\n",
              "      <th>Title</th>\n",
              "      <th>Clean_Content</th>\n",
              "      <th>Link</th>\n",
              "      <th>Initial_Lable</th>\n",
              "      <th>category_id</th>\n",
              "    </tr>\n",
              "  </thead>\n",
              "  <tbody>\n",
              "    <tr>\n",
              "      <th>3363</th>\n",
              "      <td>Critical Flaws in Philips TASY EMR Could Expos...</td>\n",
              "      <td>the u s cybersecurity and infrastructure secur...</td>\n",
              "      <td>https://thehackernews.com/2021/11/critical-fla...</td>\n",
              "      <td>Vulnerability / Medical Software</td>\n",
              "      <td>2</td>\n",
              "    </tr>\n",
              "    <tr>\n",
              "      <th>3393</th>\n",
              "      <td>Hackers Using Squirrelwaffle Loader to Deploy ...</td>\n",
              "      <td>a new spam email campaign has emerged as a con...</td>\n",
              "      <td>https://thehackernews.com/2021/10/hackers-usin...</td>\n",
              "      <td>Malware / Loader Exploits</td>\n",
              "      <td>1</td>\n",
              "    </tr>\n",
              "    <tr>\n",
              "      <th>5223</th>\n",
              "      <td>Get 10 Popular Books To Learn Advanced Hacking...</td>\n",
              "      <td>it should come as no surprise that cybersecuri...</td>\n",
              "      <td>https://thehackernews.com/2019/01/cybersecurit...</td>\n",
              "      <td>Cybercrime / Threat Intelligence</td>\n",
              "      <td>3</td>\n",
              "    </tr>\n",
              "    <tr>\n",
              "      <th>10017</th>\n",
              "      <td>Pentagon boosts contractor cybersecurity program</td>\n",
              "      <td>pentagon boosts contractor cybersecurity progr...</td>\n",
              "      <td>https://thehackernews.com/2012/05/pentagon-boo...</td>\n",
              "      <td>Cybersecurity / Government Security</td>\n",
              "      <td>2</td>\n",
              "    </tr>\n",
              "    <tr>\n",
              "      <th>4147</th>\n",
              "      <td>Guide: How Security Consolidation Helps Small ...</td>\n",
              "      <td>the dynamic nature of cybersecurity the change...</td>\n",
              "      <td>https://thehackernews.com/2021/02/guide-how-se...</td>\n",
              "      <td>Cybersecurity Training / IT Security</td>\n",
              "      <td>0</td>\n",
              "    </tr>\n",
              "    <tr>\n",
              "      <th>1417</th>\n",
              "      <td>FakeCalls Vishing Malware Targets South Korean...</td>\n",
              "      <td>an android voice phishing aka vishing malware ...</td>\n",
              "      <td>https://thehackernews.com/2023/03/fakecalls-vi...</td>\n",
              "      <td>Mobile Security / Scam Alert</td>\n",
              "      <td>3</td>\n",
              "    </tr>\n",
              "    <tr>\n",
              "      <th>2053</th>\n",
              "      <td>How To Build a Career as a Freelance Cybersecu...</td>\n",
              "      <td>with each passing year the cybersecurity threa...</td>\n",
              "      <td>https://thehackernews.com/2022/10/how-to-build...</td>\n",
              "      <td>Cybersecurity Training / IT Security</td>\n",
              "      <td>0</td>\n",
              "    </tr>\n",
              "    <tr>\n",
              "      <th>4499</th>\n",
              "      <td>New USBCulprit Espionage Tool Steals Data From...</td>\n",
              "      <td>a chinese threat actor has developed new capab...</td>\n",
              "      <td>https://thehackernews.com/2020/06/air-gap-malw...</td>\n",
              "      <td>Cyber Espionage / Cyber Attack</td>\n",
              "      <td>3</td>\n",
              "    </tr>\n",
              "    <tr>\n",
              "      <th>2631</th>\n",
              "      <td>Researchers Find New Malware Attacks Targeting...</td>\n",
              "      <td>an unknown advanced persistent threat apt grou...</td>\n",
              "      <td>https://thehackernews.com/2022/05/researchers-...</td>\n",
              "      <td>Malware / Cyber Espionage</td>\n",
              "      <td>0</td>\n",
              "    </tr>\n",
              "    <tr>\n",
              "      <th>4724</th>\n",
              "      <td>The Hacker News 2020 Cybersecurity Salary Surv...</td>\n",
              "      <td>for the first time the hacker news launches a ...</td>\n",
              "      <td>https://thehackernews.com/2019/11/cybersecurit...</td>\n",
              "      <td>Cybersecurity Training / IT Security</td>\n",
              "      <td>3</td>\n",
              "    </tr>\n",
              "  </tbody>\n",
              "</table>\n",
              "</div>\n",
              "    <div class=\"colab-df-buttons\">\n",
              "\n",
              "  <div class=\"colab-df-container\">\n",
              "    <button class=\"colab-df-convert\" onclick=\"convertToInteractive('df-4ce77034-dd88-418a-9803-5a10165519fe')\"\n",
              "            title=\"Convert this dataframe to an interactive table.\"\n",
              "            style=\"display:none;\">\n",
              "\n",
              "  <svg xmlns=\"http://www.w3.org/2000/svg\" height=\"24px\" viewBox=\"0 -960 960 960\">\n",
              "    <path d=\"M120-120v-720h720v720H120Zm60-500h600v-160H180v160Zm220 220h160v-160H400v160Zm0 220h160v-160H400v160ZM180-400h160v-160H180v160Zm440 0h160v-160H620v160ZM180-180h160v-160H180v160Zm440 0h160v-160H620v160Z\"/>\n",
              "  </svg>\n",
              "    </button>\n",
              "\n",
              "  <style>\n",
              "    .colab-df-container {\n",
              "      display:flex;\n",
              "      gap: 12px;\n",
              "    }\n",
              "\n",
              "    .colab-df-convert {\n",
              "      background-color: #E8F0FE;\n",
              "      border: none;\n",
              "      border-radius: 50%;\n",
              "      cursor: pointer;\n",
              "      display: none;\n",
              "      fill: #1967D2;\n",
              "      height: 32px;\n",
              "      padding: 0 0 0 0;\n",
              "      width: 32px;\n",
              "    }\n",
              "\n",
              "    .colab-df-convert:hover {\n",
              "      background-color: #E2EBFA;\n",
              "      box-shadow: 0px 1px 2px rgba(60, 64, 67, 0.3), 0px 1px 3px 1px rgba(60, 64, 67, 0.15);\n",
              "      fill: #174EA6;\n",
              "    }\n",
              "\n",
              "    .colab-df-buttons div {\n",
              "      margin-bottom: 4px;\n",
              "    }\n",
              "\n",
              "    [theme=dark] .colab-df-convert {\n",
              "      background-color: #3B4455;\n",
              "      fill: #D2E3FC;\n",
              "    }\n",
              "\n",
              "    [theme=dark] .colab-df-convert:hover {\n",
              "      background-color: #434B5C;\n",
              "      box-shadow: 0px 1px 3px 1px rgba(0, 0, 0, 0.15);\n",
              "      filter: drop-shadow(0px 1px 2px rgba(0, 0, 0, 0.3));\n",
              "      fill: #FFFFFF;\n",
              "    }\n",
              "  </style>\n",
              "\n",
              "    <script>\n",
              "      const buttonEl =\n",
              "        document.querySelector('#df-4ce77034-dd88-418a-9803-5a10165519fe button.colab-df-convert');\n",
              "      buttonEl.style.display =\n",
              "        google.colab.kernel.accessAllowed ? 'block' : 'none';\n",
              "\n",
              "      async function convertToInteractive(key) {\n",
              "        const element = document.querySelector('#df-4ce77034-dd88-418a-9803-5a10165519fe');\n",
              "        const dataTable =\n",
              "          await google.colab.kernel.invokeFunction('convertToInteractive',\n",
              "                                                    [key], {});\n",
              "        if (!dataTable) return;\n",
              "\n",
              "        const docLinkHtml = 'Like what you see? Visit the ' +\n",
              "          '<a target=\"_blank\" href=https://colab.research.google.com/notebooks/data_table.ipynb>data table notebook</a>'\n",
              "          + ' to learn more about interactive tables.';\n",
              "        element.innerHTML = '';\n",
              "        dataTable['output_type'] = 'display_data';\n",
              "        await google.colab.output.renderOutput(dataTable, element);\n",
              "        const docLink = document.createElement('div');\n",
              "        docLink.innerHTML = docLinkHtml;\n",
              "        element.appendChild(docLink);\n",
              "      }\n",
              "    </script>\n",
              "  </div>\n",
              "\n",
              "\n",
              "<div id=\"df-b4016833-b029-4fb2-9ba4-6cf502d64f8d\">\n",
              "  <button class=\"colab-df-quickchart\" onclick=\"quickchart('df-b4016833-b029-4fb2-9ba4-6cf502d64f8d')\"\n",
              "            title=\"Suggest charts\"\n",
              "            style=\"display:none;\">\n",
              "\n",
              "<svg xmlns=\"http://www.w3.org/2000/svg\" height=\"24px\"viewBox=\"0 0 24 24\"\n",
              "     width=\"24px\">\n",
              "    <g>\n",
              "        <path d=\"M19 3H5c-1.1 0-2 .9-2 2v14c0 1.1.9 2 2 2h14c1.1 0 2-.9 2-2V5c0-1.1-.9-2-2-2zM9 17H7v-7h2v7zm4 0h-2V7h2v10zm4 0h-2v-4h2v4z\"/>\n",
              "    </g>\n",
              "</svg>\n",
              "  </button>\n",
              "\n",
              "<style>\n",
              "  .colab-df-quickchart {\n",
              "      --bg-color: #E8F0FE;\n",
              "      --fill-color: #1967D2;\n",
              "      --hover-bg-color: #E2EBFA;\n",
              "      --hover-fill-color: #174EA6;\n",
              "      --disabled-fill-color: #AAA;\n",
              "      --disabled-bg-color: #DDD;\n",
              "  }\n",
              "\n",
              "  [theme=dark] .colab-df-quickchart {\n",
              "      --bg-color: #3B4455;\n",
              "      --fill-color: #D2E3FC;\n",
              "      --hover-bg-color: #434B5C;\n",
              "      --hover-fill-color: #FFFFFF;\n",
              "      --disabled-bg-color: #3B4455;\n",
              "      --disabled-fill-color: #666;\n",
              "  }\n",
              "\n",
              "  .colab-df-quickchart {\n",
              "    background-color: var(--bg-color);\n",
              "    border: none;\n",
              "    border-radius: 50%;\n",
              "    cursor: pointer;\n",
              "    display: none;\n",
              "    fill: var(--fill-color);\n",
              "    height: 32px;\n",
              "    padding: 0;\n",
              "    width: 32px;\n",
              "  }\n",
              "\n",
              "  .colab-df-quickchart:hover {\n",
              "    background-color: var(--hover-bg-color);\n",
              "    box-shadow: 0 1px 2px rgba(60, 64, 67, 0.3), 0 1px 3px 1px rgba(60, 64, 67, 0.15);\n",
              "    fill: var(--button-hover-fill-color);\n",
              "  }\n",
              "\n",
              "  .colab-df-quickchart-complete:disabled,\n",
              "  .colab-df-quickchart-complete:disabled:hover {\n",
              "    background-color: var(--disabled-bg-color);\n",
              "    fill: var(--disabled-fill-color);\n",
              "    box-shadow: none;\n",
              "  }\n",
              "\n",
              "  .colab-df-spinner {\n",
              "    border: 2px solid var(--fill-color);\n",
              "    border-color: transparent;\n",
              "    border-bottom-color: var(--fill-color);\n",
              "    animation:\n",
              "      spin 1s steps(1) infinite;\n",
              "  }\n",
              "\n",
              "  @keyframes spin {\n",
              "    0% {\n",
              "      border-color: transparent;\n",
              "      border-bottom-color: var(--fill-color);\n",
              "      border-left-color: var(--fill-color);\n",
              "    }\n",
              "    20% {\n",
              "      border-color: transparent;\n",
              "      border-left-color: var(--fill-color);\n",
              "      border-top-color: var(--fill-color);\n",
              "    }\n",
              "    30% {\n",
              "      border-color: transparent;\n",
              "      border-left-color: var(--fill-color);\n",
              "      border-top-color: var(--fill-color);\n",
              "      border-right-color: var(--fill-color);\n",
              "    }\n",
              "    40% {\n",
              "      border-color: transparent;\n",
              "      border-right-color: var(--fill-color);\n",
              "      border-top-color: var(--fill-color);\n",
              "    }\n",
              "    60% {\n",
              "      border-color: transparent;\n",
              "      border-right-color: var(--fill-color);\n",
              "    }\n",
              "    80% {\n",
              "      border-color: transparent;\n",
              "      border-right-color: var(--fill-color);\n",
              "      border-bottom-color: var(--fill-color);\n",
              "    }\n",
              "    90% {\n",
              "      border-color: transparent;\n",
              "      border-bottom-color: var(--fill-color);\n",
              "    }\n",
              "  }\n",
              "</style>\n",
              "\n",
              "  <script>\n",
              "    async function quickchart(key) {\n",
              "      const quickchartButtonEl =\n",
              "        document.querySelector('#' + key + ' button');\n",
              "      quickchartButtonEl.disabled = true;  // To prevent multiple clicks.\n",
              "      quickchartButtonEl.classList.add('colab-df-spinner');\n",
              "      try {\n",
              "        const charts = await google.colab.kernel.invokeFunction(\n",
              "            'suggestCharts', [key], {});\n",
              "      } catch (error) {\n",
              "        console.error('Error during call to suggestCharts:', error);\n",
              "      }\n",
              "      quickchartButtonEl.classList.remove('colab-df-spinner');\n",
              "      quickchartButtonEl.classList.add('colab-df-quickchart-complete');\n",
              "    }\n",
              "    (() => {\n",
              "      let quickchartButtonEl =\n",
              "        document.querySelector('#df-b4016833-b029-4fb2-9ba4-6cf502d64f8d button');\n",
              "      quickchartButtonEl.style.display =\n",
              "        google.colab.kernel.accessAllowed ? 'block' : 'none';\n",
              "    })();\n",
              "  </script>\n",
              "</div>\n",
              "\n",
              "  <div id=\"id_fe710ea0-a56e-4c27-8912-3d4221fe42df\">\n",
              "    <style>\n",
              "      .colab-df-generate {\n",
              "        background-color: #E8F0FE;\n",
              "        border: none;\n",
              "        border-radius: 50%;\n",
              "        cursor: pointer;\n",
              "        display: none;\n",
              "        fill: #1967D2;\n",
              "        height: 32px;\n",
              "        padding: 0 0 0 0;\n",
              "        width: 32px;\n",
              "      }\n",
              "\n",
              "      .colab-df-generate:hover {\n",
              "        background-color: #E2EBFA;\n",
              "        box-shadow: 0px 1px 2px rgba(60, 64, 67, 0.3), 0px 1px 3px 1px rgba(60, 64, 67, 0.15);\n",
              "        fill: #174EA6;\n",
              "      }\n",
              "\n",
              "      [theme=dark] .colab-df-generate {\n",
              "        background-color: #3B4455;\n",
              "        fill: #D2E3FC;\n",
              "      }\n",
              "\n",
              "      [theme=dark] .colab-df-generate:hover {\n",
              "        background-color: #434B5C;\n",
              "        box-shadow: 0px 1px 3px 1px rgba(0, 0, 0, 0.15);\n",
              "        filter: drop-shadow(0px 1px 2px rgba(0, 0, 0, 0.3));\n",
              "        fill: #FFFFFF;\n",
              "      }\n",
              "    </style>\n",
              "    <button class=\"colab-df-generate\" onclick=\"generateWithVariable('top_10_contents_df')\"\n",
              "            title=\"Generate code using this dataframe.\"\n",
              "            style=\"display:none;\">\n",
              "\n",
              "  <svg xmlns=\"http://www.w3.org/2000/svg\" height=\"24px\"viewBox=\"0 0 24 24\"\n",
              "       width=\"24px\">\n",
              "    <path d=\"M7,19H8.4L18.45,9,17,7.55,7,17.6ZM5,21V16.75L18.45,3.32a2,2,0,0,1,2.83,0l1.4,1.43a1.91,1.91,0,0,1,.58,1.4,1.91,1.91,0,0,1-.58,1.4L9.25,21ZM18.45,9,17,7.55Zm-12,3A5.31,5.31,0,0,0,4.9,8.1,5.31,5.31,0,0,0,1,6.5,5.31,5.31,0,0,0,4.9,4.9,5.31,5.31,0,0,0,6.5,1,5.31,5.31,0,0,0,8.1,4.9,5.31,5.31,0,0,0,12,6.5,5.46,5.46,0,0,0,6.5,12Z\"/>\n",
              "  </svg>\n",
              "    </button>\n",
              "    <script>\n",
              "      (() => {\n",
              "      const buttonEl =\n",
              "        document.querySelector('#id_fe710ea0-a56e-4c27-8912-3d4221fe42df button.colab-df-generate');\n",
              "      buttonEl.style.display =\n",
              "        google.colab.kernel.accessAllowed ? 'block' : 'none';\n",
              "\n",
              "      buttonEl.onclick = () => {\n",
              "        google.colab.notebook.generateWithVariable('top_10_contents_df');\n",
              "      }\n",
              "      })();\n",
              "    </script>\n",
              "  </div>\n",
              "\n",
              "    </div>\n",
              "  </div>\n"
            ],
            "application/vnd.google.colaboratory.intrinsic+json": {
              "type": "dataframe",
              "variable_name": "top_10_contents_df",
              "summary": "{\n  \"name\": \"top_10_contents_df\",\n  \"rows\": 10,\n  \"fields\": [\n    {\n      \"column\": \"Title\",\n      \"properties\": {\n        \"dtype\": \"string\",\n        \"num_unique_values\": 10,\n        \"samples\": [\n          \"Researchers Find New Malware Attacks Targeting Russian Government Entities\",\n          \"Hackers Using Squirrelwaffle Loader to Deploy Qakbot and Cobalt Strike\",\n          \"FakeCalls Vishing Malware Targets South Korean Users via Popular Financial Apps\"\n        ],\n        \"semantic_type\": \"\",\n        \"description\": \"\"\n      }\n    },\n    {\n      \"column\": \"Clean_Content\",\n      \"properties\": {\n        \"dtype\": \"string\",\n        \"num_unique_values\": 10,\n        \"samples\": [\n          \"an unknown advanced persistent threat apt group has been linked to a series of spear phishing attacks targeting russian government entities since the onset of the russo ukrainian war in late february 2022 the campaigns are designed to implant a remote access trojan rat that can be used to surveil the computers it infects and run commands on them remotely malwarebytes said in a technical report published tuesday the cybersecurity company attributed the attacks with low confidence to a chinese hacking group citing infrastructure overlaps between the rat and sakula rat malware used by a threat actor known as deep panda the attack chains while leveraging different lures over the course of two months all employed the same malware barring small differences in the source code the campaign is said to have commenced around february 26 days after russia s military invasion of ukraine with the emails distributing the rat under the guise of an interactive map of ukraine interactive_map_ua exe the development once again demonstrates threat actors capabilities to adapt and adjust their attacks to world events using the most relevant and up to date lures to maximize their chances of success a second early march attack wave primarily targeted the state controlled rt tv and involved the use of a rogue software fix for the log4shell vulnerability that made headlines in late 2021 besides including the patch in the form of a compressed tar file the email message also came with a pdf document with instructions to install the patch and listed the best security practices to follow including enabling two factor authentication using kaspersky antivirus and refraining from opening or replying to suspicious emails in a further attempt to boost the authenticity of the email the document also contained a virustotal url pointing to an unrelated file to give the impression that the log4j patch file is not malicious what s more the email featured links to an attacker controlled domain rostec digital along with fraudulent profiles created on facebook and instagram alluding to the russian defense conglomerate interestingly the threat actor created the facebook page in june 2021 nine months before it was used in this campaign the researchers said this was probably an attempt to attract followers to make the page look more legitimate and it suggests the apt group were planning this campaign long before the invasion of ukraine the third iteration of the attack that followed made use of another malicious executable file \\u00e2 this time build_rosteh4 exe \\u00e2 in an attempt to pass off the malware as though it s from rostec lastly in mid april 2022 the attackers pivoted to a job themed phishing bait for saudi aramco a saudi arabian petroleum and natural gas company the weaponized microsoft word document acting as a trigger for an infection sequence to deploy the rat the dll payload employs a variety of advanced tricks to thwart analysis including control flow flattening and string obfuscation while also incorporating features that allow it to arbitrary files sent from a remote server to the infected host and execute command line instructions the findings closely follow findings from check point that a chinese adversarial collective with connections to stone panda and mustang panda targeted at least two research institutes located in russia with a previously undocumented backdoor called spinner\",\n          \"a new spam email campaign has emerged as a conduit for a previously undocumented malware loader that enables the attackers to gain an initial foothold into enterprise networks and drop malicious payloads on compromised systems these infections are also used to facilitate the delivery of additional malware such as qakbot and cobalt strike two of the most common threats regularly observed targeting organizations around the world said researchers with cisco talos in a technical write up the malspam campaign is believed to have commenced in mid september 2021 via laced microsoft office documents that when opened triggers an infection chain that leads to the machines getting infected with a malware dubbed squirrelwaffle mirroring a technique that s consistent with other phishing attacks of this kind the latest operation leverages stolen email threads to give it a veil of legitimacy and trick unsuspecting users into opening the attachments what s more the language employed in the reply messages matches the language used in the original email thread demonstrating a case of dynamic localization put in place to increase the likelihood of success of the campaign the top five languages used to deliver the loader are english 76 followed by french 10 german 7 dutch 4 and polish 3 email distribution volumes capitalizing on the new threat peaked around september 26 based on data compiled by the cybersecurity firm while previously compromised web servers primarily running versions of the wordpress content management system cms function as the malware distribution infrastructure an interesting technique observed is the use of antibot scripts to block web requests that originate from ip addresses not belonging to victims but rather automated analysis platforms and security research organizations the malware loader besides deploying qakbot and the infamous penetration testing tool cobalt strike on the infected endpoints also establishes communications with a remote attacker controlled server to retrieve secondary payloads making it a potent multi purpose utility after the emotet botnet takedown earlier this year criminal threat actors are filling that void zscaler noted in an analysis of the same malware last month squirrelwaffle appears to be a new loader taking advantage of this gap it is not yet clear if squirrelwaffle is developed and distributed by a known threat actor or a new group however similar distribution techniques were previously used by emotet\",\n          \"an android voice phishing aka vishing malware campaign known as fakecalls has reared its head once again to target south korean users under the guise of over 20 popular financial apps fakecalls malware possesses the functionality of a swiss army knife able not only to conduct its primary aim but also to extract private data from the victim s device cybersecurity firm check point said fakecalls was previously documented by kaspersky in april 2022 describing the malware s capabilities to imitate phone conversations with a bank customer support agent in the observed attacks users who install the rogue banking app are enticed into calling the financial institution by offering a fake low interest loan at the point where the phone call actually happens a pre recorded audio with instructions from the real bank is played simultaneously the malware conceals the phone number with the bank s legitimate number to give the impression that a conversation is happening with an actual bank employee on the other end the ultimate goal of the campaign to get the victim s credit card information which the threat actors claim is required to qualify for the non existent loan the malicious app also requests for intrusive permissions so as to harvest sensitive data including live audio and video streams from the compromised device which are then exfiltrated to a remote server the latest fakecalls samples further implement various techniques to stay under the radar one of the methods involves adding a large number of files inside nested directories to the apk s asset folder causing the length of the file name and path to breach the 300 character limit the malware developers took special care with the technical aspects of their creation as well as implementing several unique and effective anti analysis techniques check point said in addition they devised mechanisms for disguised resolution of the command and control servers behind the operations while the attack exclusively focuses on south korea the cybersecurity company has warned that the same tactics can be repurposed to target other regions across the world the findings also come as cyble shed light on two android banking trojans dubbed nexus and goatrat that can harvest valuable data and carry out financial fraud nexus a rebranded version of sova also incorporates a ransomware module that encrypts the stored files and can abuse android s accessibility services to extract seed phrases from cryptocurrency wallets in contrast goatrat is designed to target brazilian banks and joins the likes of brasdex and pixpirate to commit fraudulent money transfer over the pix payments platform while displaying a fake overlay window to hide the activity the development is part of a growing trend where threat actors have unleashed increasingly sophisticated banking malware to automate the whole process of unauthorized money transfers on infected devices cybersecurity company kaspersky said it detected 196 476 new mobile banking trojans and 10 543 new mobile ransomware trojans in 2022 with china syria iran yemen and iraq emerging as the top countries attacked by mobile malware including adware spain saudi arabia australia turkey china switzerland japan colombia italy and india lead the list of top countries infected by mobile financial threats despite the decline in overall malware installers the continued growth of mobile banking trojans is a clear indication that cybercriminals are focusing on financial gain kaspersky researcher tatyana shishkova said\"\n        ],\n        \"semantic_type\": \"\",\n        \"description\": \"\"\n      }\n    },\n    {\n      \"column\": \"Link\",\n      \"properties\": {\n        \"dtype\": \"string\",\n        \"num_unique_values\": 10,\n        \"samples\": [\n          \"https://thehackernews.com/2022/05/researchers-find-new-malware-attacks.html\",\n          \"https://thehackernews.com/2021/10/hackers-using-squirrelwaffle-loader-to.html\",\n          \"https://thehackernews.com/2023/03/fakecalls-vishing-malware-targets-south.html\"\n        ],\n        \"semantic_type\": \"\",\n        \"description\": \"\"\n      }\n    },\n    {\n      \"column\": \"Initial_Lable\",\n      \"properties\": {\n        \"dtype\": \"string\",\n        \"num_unique_values\": 8,\n        \"samples\": [\n          \"Malware / Loader Exploits\",\n          \"Mobile Security / Scam Alert\",\n          \"Vulnerability / Medical Software\"\n        ],\n        \"semantic_type\": \"\",\n        \"description\": \"\"\n      }\n    },\n    {\n      \"column\": \"category_id\",\n      \"properties\": {\n        \"dtype\": \"number\",\n        \"std\": 1,\n        \"min\": 0,\n        \"max\": 3,\n        \"num_unique_values\": 4,\n        \"samples\": [\n          1,\n          0,\n          2\n        ],\n        \"semantic_type\": \"\",\n        \"description\": \"\"\n      }\n    }\n  ]\n}"
            }
          },
          "metadata": {},
          "execution_count": 32
        }
      ]
    },
    {
      "cell_type": "markdown",
      "source": [
        "can create a csv file from these top 10:"
      ],
      "metadata": {
        "id": "OzDM0DoBP1yD"
      }
    },
    {
      "cell_type": "code",
      "source": [
        "#location\n",
        "file_path = '/content/drive/MyDrive/1/CSV/top_10_results.csv'\n",
        "\n",
        "#saving the top_10_contents_df to the location\n",
        "top_10_contents_df.to_csv(file_path, index=False)"
      ],
      "metadata": {
        "id": "9kCACO5nP_Yb"
      },
      "execution_count": null,
      "outputs": []
    },
    {
      "cell_type": "markdown",
      "source": [
        "------------------------------------------------------------------------------------------"
      ],
      "metadata": {
        "id": "HIRJ80djNgMj"
      }
    },
    {
      "cell_type": "markdown",
      "source": [
        "# -> Module 4 (Classification)"
      ],
      "metadata": {
        "id": "Ve_5ASqfQgjc"
      }
    },
    {
      "cell_type": "code",
      "source": [
        "#run one time\n",
        "import pandas as pd\n",
        "import numpy as np\n",
        "from sklearn.metrics.pairwise import cosine_similarity\n",
        "from nltk.tokenize import word_tokenize\n",
        "import nltk\n",
        "\n",
        "nltk.download('punkt')\n",
        "\n",
        "def load_glove_embeddings(glove_file):\n",
        "    embeddings_index = {}\n",
        "    with open(glove_file, 'r', encoding='utf-8') as f:\n",
        "        for line in f:\n",
        "            values = line.split()\n",
        "            word = values[0]\n",
        "            coefs = np.asarray(values[1:], dtype='float32')\n",
        "            embeddings_index[word] = coefs\n",
        "    return embeddings_index\n",
        "\n",
        "glove_file = '/content/drive/MyDrive/1/glove.6B.300d.txt'\n",
        "glove_embeddings = load_glove_embeddings(glove_file)"
      ],
      "metadata": {
        "colab": {
          "base_uri": "https://localhost:8080/"
        },
        "id": "eIhhzWgOQuCT",
        "outputId": "81ba9979-15a1-4625-82a9-272dda7e4f26"
      },
      "execution_count": null,
      "outputs": [
        {
          "output_type": "stream",
          "name": "stdout",
          "text": [
            "[==================================================] 100.0% 1662.8/1662.8MB downloaded\n"
          ]
        }
      ]
    },
    {
      "cell_type": "code",
      "source": [
        "top_10_contents_df['Clean_Content_Tokens'] = top_10_contents_df['Clean_Content'].apply(word_tokenize)\n",
        "\n",
        "def get_avg_glove_vector(tokens, embeddings_index, vector_size):\n",
        "    vectors = []\n",
        "    for token in tokens:\n",
        "        if token in embeddings_index:\n",
        "            vectors.append(embeddings_index[token])\n",
        "    if len(vectors) > 0:\n",
        "        return np.mean(vectors, axis=0)\n",
        "    else:\n",
        "        return np.zeros(vector_size)\n",
        "\n",
        "vector_size = 300\n",
        "top_10_contents_df['Clean_Content_Vector'] = top_10_contents_df['Clean_Content_Tokens'].apply(lambda x: get_avg_glove_vector(x, glove_embeddings, vector_size))\n",
        "\n",
        "\n",
        "modified_query_tokens = word_tokenize(modified_query)\n",
        "\n",
        "modified_query_vector = get_avg_glove_vector(modified_query_tokens, glove_embeddings, vector_size).reshape(1, -1)\n",
        "\n",
        "clean_content_vectors = np.stack(top_10_contents_df['Clean_Content_Vector'].values)\n",
        "similarity_scores = cosine_similarity(clean_content_vectors, modified_query_vector).flatten()\n",
        "\n",
        "top_10_contents_df['similarity'] = similarity_scores\n",
        "\n",
        "top_10_contents_df = top_10_contents_df.sort_values(by='similarity', ascending=False)\n",
        "\n",
        "top_match = top_10_contents_df.iloc[0]\n",
        "\n",
        "predicted_initial_label = top_match['Initial_Lable']\n",
        "predicted_category_id = top_match['category_id']\n",
        "\n",
        "print(f\"Predicted Initial_Lable: {predicted_initial_label}\")\n",
        "print(f\"Predicted category_id: {predicted_category_id}\")\n"
      ],
      "metadata": {
        "colab": {
          "base_uri": "https://localhost:8080/"
        },
        "id": "KroBPf6MQwy1",
        "outputId": "a7535d8b-bf06-4906-a79f-128de07b3bfb"
      },
      "execution_count": null,
      "outputs": [
        {
          "output_type": "stream",
          "name": "stdout",
          "text": [
            "Most frequent category_id: 3\n",
            "Predicted Initial_Lable for the query: Cybercrime / Threat Intelligence\n"
          ]
        }
      ]
    },
    {
      "cell_type": "markdown",
      "source": [
        "------------------------------------------------------------------------------------"
      ],
      "metadata": {
        "id": "34yZhhsEQsNq"
      }
    },
    {
      "cell_type": "markdown",
      "source": [
        "# **Module 5 (Text generation from top 10 content)**"
      ],
      "metadata": {
        "id": "P3vfI5syaqMD"
      }
    },
    {
      "cell_type": "code",
      "source": [
        "import torch\n",
        "from transformers import BartForConditionalGeneration, BartTokenizer\n",
        "\n",
        "#Checking if GPU is available\n",
        "device = torch.device('cuda' if torch.cuda.is_available() else 'cpu')\n",
        "print(f\"Using device: {device}\")\n",
        "\n",
        "#loding the BART-base model and tokenizer\n",
        "tokenizer = BartTokenizer.from_pretrained('facebook/bart-large-cnn')\n",
        "model = BartForConditionalGeneration.from_pretrained('facebook/bart-large-cnn')\n",
        "\n",
        "#moving the model to the GPU\n",
        "model.to(device)"
      ],
      "metadata": {
        "colab": {
          "base_uri": "https://localhost:8080/",
          "height": 1000,
          "referenced_widgets": [
            "93dfb141e34b42248d7de8e36c26a923",
            "13f5c2ec27e74cafaaca7f8ac63cb182",
            "0fa160c959e34b06b4e3b884da2cc7de",
            "c0358602475b4692a7f4f5137a60b9a7",
            "312b322df28848ee8947d6226c2fcb3e",
            "dc34898b14594ef4975b4a7700326d5e",
            "2a4229a9917d4e3388c294964a4e09f4",
            "7a82af5c3c1c4a2cbd6dbd01161d7828",
            "352bebc44f0d43529244990028cf7c10",
            "5bc1b1d7c2314e588293d98c98edbfa1",
            "0d780fb6105f482f8b0c2ccb174896b8",
            "7cedc63c4199418f813a5d345bae166c",
            "bf8568158d944b1e86f1e987ddc18d74",
            "7213b5bfd5644497a264e6a120d29a8a",
            "4124830158aa468cb04f403a08047045",
            "d79650a49a08459ca96ba25387d9b1a3",
            "d887d7f556fc4ac29f647dc59e4047d1",
            "5b06fc0031a94a26a232a008e421f6d2",
            "f87e8c10797145f89079d2dcbcf5dc45",
            "8afaad8b94e14bbd95c27ba1ff8e2026",
            "ee4209459bf24621a68de7fdc3dbe14f",
            "ac4f6ee146774f86b2b0ae7cea6ac180",
            "ffeea654e02144a4b776121b793cef46",
            "ff4e9c895cfd42238e6706a501853b26",
            "1ad9d12c8a78446f843531fc67f2e036",
            "6b9da611a0944a80a119ccc094766bef",
            "25e04a75da9b44c096038dc7229cf46f",
            "a2cb2cc87330460ca99a52647a594bf3",
            "5c5b3cba6835435296b1339df522125e",
            "505b77b6ab7547f58ea0dfba03a355c5",
            "3913ccee035643f59e281ca58cbfd140",
            "04d61e09905e4a1b8fbc14641998d28f",
            "a430c9f2b876487a80a72a3b063591e7",
            "0c37acef3fbe4af0983c7824b7f17935",
            "734b3c998f844503a259f1a1c1dfc744",
            "c97b13ebcbe94650a177bc53e5281f1f",
            "f5bc27fa96164c1f908bd4345328e606",
            "46935153a6b84a32b49507d4160c3f94",
            "55022ef9908e4234a67726147e2d6939",
            "4445a0d0bbd3479da31ecd3c034f2ad5",
            "30bdb0ab94794c249100db3cbe23ef25",
            "d19856d20509423e842e8f89c8b87496",
            "f84b49b9eafa4768bf597e52946fb819",
            "1367f9cd80a34180b188fad3fd0edda0",
            "8bee52a93cad4674b1464d76731d7920",
            "60af6d1253e9410c8240ec38a17d3e0e",
            "78514ebe54f240a58b4aa0641a53f277",
            "72ce9f10d4f34ea593f6d208aeb0390a",
            "9134daa9666d40a68680f52acb29e6da",
            "c9d521857dab46e6896b5928da059b9e",
            "069ba9e0c2794065aac1ed708c874c14",
            "d7f84d88b238485abf3999082902871a",
            "15eb2ba4cf794d0bae83eb76c8d72274",
            "00cc73510b954b3bbb2bd0c720b0373e",
            "933692e4503e4ba08519139b8f58ba8d",
            "ca30aafc58614a7b9692ffc50a32126a",
            "687d86edc93d46c9aa62c3741d2b9426",
            "f5483f283a1043b49eb2840e80124aa7",
            "e78cbb5edd43441196d92fc88f690afd",
            "e7cf011e49664a1e8788dcf3f0f1c773",
            "c335b4887c1b490a844929df2d7077a3",
            "10af1105274b4e94bef016bd2e48c27b",
            "ea9ad076db9e4376bb9c9bac9e04825b",
            "aad3eec784924366b2752dc13eafe5bc",
            "6ac35b6a5c8648f289e2486cb1d55511",
            "fc5fd8c365d240269f89e7e3a5c18e04"
          ]
        },
        "collapsed": true,
        "id": "EeIT8yOMa2fb",
        "outputId": "a5ee7c5c-75b4-4eb9-fab9-bea88f87db6d"
      },
      "execution_count": null,
      "outputs": [
        {
          "output_type": "stream",
          "name": "stdout",
          "text": [
            "Using device: cpu\n"
          ]
        },
        {
          "output_type": "stream",
          "name": "stderr",
          "text": [
            "/usr/local/lib/python3.10/dist-packages/huggingface_hub/utils/_token.py:89: UserWarning: \n",
            "The secret `HF_TOKEN` does not exist in your Colab secrets.\n",
            "To authenticate with the Hugging Face Hub, create a token in your settings tab (https://huggingface.co/settings/tokens), set it as secret in your Google Colab and restart your session.\n",
            "You will be able to reuse this secret in all of your notebooks.\n",
            "Please note that authentication is recommended but still optional to access public models or datasets.\n",
            "  warnings.warn(\n"
          ]
        },
        {
          "output_type": "display_data",
          "data": {
            "text/plain": [
              "vocab.json:   0%|          | 0.00/899k [00:00<?, ?B/s]"
            ],
            "application/vnd.jupyter.widget-view+json": {
              "version_major": 2,
              "version_minor": 0,
              "model_id": "93dfb141e34b42248d7de8e36c26a923"
            }
          },
          "metadata": {}
        },
        {
          "output_type": "display_data",
          "data": {
            "text/plain": [
              "merges.txt:   0%|          | 0.00/456k [00:00<?, ?B/s]"
            ],
            "application/vnd.jupyter.widget-view+json": {
              "version_major": 2,
              "version_minor": 0,
              "model_id": "7cedc63c4199418f813a5d345bae166c"
            }
          },
          "metadata": {}
        },
        {
          "output_type": "display_data",
          "data": {
            "text/plain": [
              "tokenizer.json:   0%|          | 0.00/1.36M [00:00<?, ?B/s]"
            ],
            "application/vnd.jupyter.widget-view+json": {
              "version_major": 2,
              "version_minor": 0,
              "model_id": "ffeea654e02144a4b776121b793cef46"
            }
          },
          "metadata": {}
        },
        {
          "output_type": "display_data",
          "data": {
            "text/plain": [
              "config.json:   0%|          | 0.00/1.58k [00:00<?, ?B/s]"
            ],
            "application/vnd.jupyter.widget-view+json": {
              "version_major": 2,
              "version_minor": 0,
              "model_id": "0c37acef3fbe4af0983c7824b7f17935"
            }
          },
          "metadata": {}
        },
        {
          "output_type": "stream",
          "name": "stderr",
          "text": [
            "/usr/local/lib/python3.10/dist-packages/transformers/tokenization_utils_base.py:1601: FutureWarning: `clean_up_tokenization_spaces` was not set. It will be set to `True` by default. This behavior will be depracted in transformers v4.45, and will be then set to `False` by default. For more details check this issue: https://github.com/huggingface/transformers/issues/31884\n",
            "  warnings.warn(\n"
          ]
        },
        {
          "output_type": "display_data",
          "data": {
            "text/plain": [
              "model.safetensors:   0%|          | 0.00/1.63G [00:00<?, ?B/s]"
            ],
            "application/vnd.jupyter.widget-view+json": {
              "version_major": 2,
              "version_minor": 0,
              "model_id": "8bee52a93cad4674b1464d76731d7920"
            }
          },
          "metadata": {}
        },
        {
          "output_type": "display_data",
          "data": {
            "text/plain": [
              "generation_config.json:   0%|          | 0.00/363 [00:00<?, ?B/s]"
            ],
            "application/vnd.jupyter.widget-view+json": {
              "version_major": 2,
              "version_minor": 0,
              "model_id": "ca30aafc58614a7b9692ffc50a32126a"
            }
          },
          "metadata": {}
        },
        {
          "output_type": "execute_result",
          "data": {
            "text/plain": [
              "BartForConditionalGeneration(\n",
              "  (model): BartModel(\n",
              "    (shared): BartScaledWordEmbedding(50264, 1024, padding_idx=1)\n",
              "    (encoder): BartEncoder(\n",
              "      (embed_tokens): BartScaledWordEmbedding(50264, 1024, padding_idx=1)\n",
              "      (embed_positions): BartLearnedPositionalEmbedding(1026, 1024)\n",
              "      (layers): ModuleList(\n",
              "        (0-11): 12 x BartEncoderLayer(\n",
              "          (self_attn): BartSdpaAttention(\n",
              "            (k_proj): Linear(in_features=1024, out_features=1024, bias=True)\n",
              "            (v_proj): Linear(in_features=1024, out_features=1024, bias=True)\n",
              "            (q_proj): Linear(in_features=1024, out_features=1024, bias=True)\n",
              "            (out_proj): Linear(in_features=1024, out_features=1024, bias=True)\n",
              "          )\n",
              "          (self_attn_layer_norm): LayerNorm((1024,), eps=1e-05, elementwise_affine=True)\n",
              "          (activation_fn): GELUActivation()\n",
              "          (fc1): Linear(in_features=1024, out_features=4096, bias=True)\n",
              "          (fc2): Linear(in_features=4096, out_features=1024, bias=True)\n",
              "          (final_layer_norm): LayerNorm((1024,), eps=1e-05, elementwise_affine=True)\n",
              "        )\n",
              "      )\n",
              "      (layernorm_embedding): LayerNorm((1024,), eps=1e-05, elementwise_affine=True)\n",
              "    )\n",
              "    (decoder): BartDecoder(\n",
              "      (embed_tokens): BartScaledWordEmbedding(50264, 1024, padding_idx=1)\n",
              "      (embed_positions): BartLearnedPositionalEmbedding(1026, 1024)\n",
              "      (layers): ModuleList(\n",
              "        (0-11): 12 x BartDecoderLayer(\n",
              "          (self_attn): BartSdpaAttention(\n",
              "            (k_proj): Linear(in_features=1024, out_features=1024, bias=True)\n",
              "            (v_proj): Linear(in_features=1024, out_features=1024, bias=True)\n",
              "            (q_proj): Linear(in_features=1024, out_features=1024, bias=True)\n",
              "            (out_proj): Linear(in_features=1024, out_features=1024, bias=True)\n",
              "          )\n",
              "          (activation_fn): GELUActivation()\n",
              "          (self_attn_layer_norm): LayerNorm((1024,), eps=1e-05, elementwise_affine=True)\n",
              "          (encoder_attn): BartSdpaAttention(\n",
              "            (k_proj): Linear(in_features=1024, out_features=1024, bias=True)\n",
              "            (v_proj): Linear(in_features=1024, out_features=1024, bias=True)\n",
              "            (q_proj): Linear(in_features=1024, out_features=1024, bias=True)\n",
              "            (out_proj): Linear(in_features=1024, out_features=1024, bias=True)\n",
              "          )\n",
              "          (encoder_attn_layer_norm): LayerNorm((1024,), eps=1e-05, elementwise_affine=True)\n",
              "          (fc1): Linear(in_features=1024, out_features=4096, bias=True)\n",
              "          (fc2): Linear(in_features=4096, out_features=1024, bias=True)\n",
              "          (final_layer_norm): LayerNorm((1024,), eps=1e-05, elementwise_affine=True)\n",
              "        )\n",
              "      )\n",
              "      (layernorm_embedding): LayerNorm((1024,), eps=1e-05, elementwise_affine=True)\n",
              "    )\n",
              "  )\n",
              "  (lm_head): Linear(in_features=1024, out_features=50264, bias=False)\n",
              ")"
            ]
          },
          "metadata": {},
          "execution_count": 1
        }
      ]
    },
    {
      "cell_type": "code",
      "source": [
        "def summarize_content_with_bart(content, query, max_length=100, min_length=30, num_beams=4, batch_size=4):\n",
        "\n",
        "    input_texts = [f\"query: {query} document: {content_part}\" for content_part in content]\n",
        "\n",
        "    inputs = tokenizer(input_texts, return_tensors=\"pt\", max_length=1024, truncation=True, padding=True).to(device)  #Move inputs to GPU\n",
        "\n",
        "    summary_ids = model.generate(\n",
        "        inputs['input_ids'],\n",
        "        max_length=max_length,\n",
        "        min_length=min_length,\n",
        "        temperature=0.8,\n",
        "        repetition_penalty=2.9,\n",
        "        num_beams=num_beams,\n",
        "        length_penalty=2.0,\n",
        "        early_stopping=True\n",
        "    )\n",
        "\n",
        "    summaries = [tokenizer.decode(g, skip_special_tokens=True, clean_up_tokenization_spaces=False) for g in summary_ids]\n",
        "\n",
        "    return summaries\n",
        "\n",
        "\n",
        "relevant_texts = top_10_contents_df['Clean_Content'].tolist()\n",
        "\n",
        "batch_size = 4\n",
        "summarized_texts = []\n",
        "for i in range(0, len(relevant_texts), batch_size):\n",
        "    batch_content = relevant_texts[i:i+batch_size]\n",
        "    summaries = summarize_content_with_bart(batch_content, modified_query, max_length=100, min_length=30, num_beams=6)\n",
        "    summarized_texts.extend(summaries)\n",
        "\n",
        "final_combined_text = ' '.join(summarized_texts)\n",
        "\n",
        "print(\"Query-Focused Combined Summary:\")\n",
        "print(final_combined_text)\n"
      ],
      "metadata": {
        "colab": {
          "base_uri": "https://localhost:8080/"
        },
        "id": "E89meP63bMfM",
        "outputId": "5ef60f2c-b6a9-4837-9b30-c29617f08520"
      },
      "execution_count": null,
      "outputs": [
        {
          "output_type": "stream",
          "name": "stdout",
          "text": [
            "Query-Focused Combined Summary:\n",
            "Digital forensics deals with the analysis of artifacts on all types of digital devices. One of the most prevalent analysis techniques performed is that of the registry hives contained in microsoft windows operating systems. The security intelligence report sir is an investigation of the current threat landscape. It analyzes exploits vulnerabilities and malware based on data from over 600 million systems worldwide as well as internet services. The latest edition of blackberry s quarterly cybersecurity benchmarking guide covering events between march and may 2023 provides new information for the cybersecurity industry worldwide. Based on a detailed geopolitical analysis blackberry observed and stopped 1 5 million attacks within the 90 day period. The healthcare and financial services industries continue to be among the most targeted sectors.  symantec provide overview and analysis of the year in global threat activity via its internet security threat report istr with a exclusive details. 400 million new variants of malware were created in 2011 which is an average of 33 million new variant of malware a month. united states was the number one source of all activities except for malicious code and spam zombies where india took first place. The blackberryâ threat research and intelligence team recently analyzed 90 days of real world data to answer these questions full results are in the latest blackberry global threat intelligence report. During that time blackberry s ai powered endpoint protection solution detected and blocked a total of 1 578 733 malware based cyberattacks targeting customers. The most targeted industries during the study period included financial institutions healthcare services and equipment including hospitals clinics and medical devices.  panda security will provide endpoint protection to 37 500 computers belonging to the army s military commands to counter malware targeted attacks and web threats. The collaboration will involve the exchange of malware samples and panda will provide a rapid response. The mandiantâ intelligence centerâ released an shocking report that reveals an enterprise scale computer espionage campaign dubbed apt1. The operation have been started in the distant 2006 targeting 141 victims across multiple industries during the attacks the attackers have took over apt1 malware families. The mandiant has also identified more than 3 000 indicators to improve defenses against apt1 operations. Security experts are confident that the chinese hackers group known as comment crew is still operating under cover. mandiant security firm had monitored the group during last years and report details its operations. fireeye has released today an interesting report titled digital bread crumbs seven clues to identifying who s behind advanced cyber attacks. As the digital age evolves and continues to shape the business landscape corporate networks have become increasingly complex and distributed the amount of data a company collects to detect malicious behaviour constantly increases. Organizations are turning to predictive analytics and machine learning ml driven network security solutions as essential tools for securing their networks. Researchers at the laboratory of cryptography and system security crysys in hungary confirmed the existence of the zero day vulnerability in the windows kernel according to security researchers tracking the stuxnet like cyber surveillance trojan. The toolkit contains signature and heuristics based methods and it is able to find traces of infections where components of the malware are already removed from the system.\n"
          ]
        }
      ]
    },
    {
      "cell_type": "code",
      "source": [
        "for text in summarized_texts:\n",
        "    print(len(text))\n",
        "    print()\n",
        "    print(text)\n",
        "    print('=================================')\n",
        "    print()"
      ],
      "metadata": {
        "colab": {
          "base_uri": "https://localhost:8080/"
        },
        "id": "6Lof7TrahJ1d",
        "outputId": "0ec31700-b51b-4396-a613-95aa4a078fe5"
      },
      "execution_count": null,
      "outputs": [
        {
          "output_type": "stream",
          "name": "stdout",
          "text": [
            "223\n",
            "\n",
            "Digital forensics deals with the analysis of artifacts on all types of digital devices. One of the most prevalent analysis techniques performed is that of the registry hives contained in microsoft windows operating systems.\n",
            "=================================\n",
            "\n",
            "222\n",
            "\n",
            "The security intelligence report sir is an investigation of the current threat landscape. It analyzes exploits vulnerabilities and malware based on data from over 600 million systems worldwide as well as internet services.\n",
            "=================================\n",
            "\n",
            "404\n",
            "\n",
            "The latest edition of blackberry s quarterly cybersecurity benchmarking guide covering events between march and may 2023 provides new information for the cybersecurity industry worldwide. Based on a detailed geopolitical analysis blackberry observed and stopped 1 5 million attacks within the 90 day period. The healthcare and financial services industries continue to be among the most targeted sectors.\n",
            "=================================\n",
            "\n",
            "402\n",
            "\n",
            " symantec provide overview and analysis of the year in global threat activity via its internet security threat report istr with a exclusive details. 400 million new variants of malware were created in 2011 which is an average of 33 million new variant of malware a month. united states was the number one source of all activities except for malicious code and spam zombies where india took first place.\n",
            "=================================\n",
            "\n",
            "529\n",
            "\n",
            "The blackberryâ threat research and intelligence team recently analyzed 90 days of real world data to answer these questions full results are in the latest blackberry global threat intelligence report. During that time blackberry s ai powered endpoint protection solution detected and blocked a total of 1 578 733 malware based cyberattacks targeting customers. The most targeted industries during the study period included financial institutions healthcare services and equipment including hospitals clinics and medical devices.\n",
            "=================================\n",
            "\n",
            "267\n",
            "\n",
            " panda security will provide endpoint protection to 37 500 computers belonging to the army s military commands to counter malware targeted attacks and web threats. The collaboration will involve the exchange of malware samples and panda will provide a rapid response.\n",
            "=================================\n",
            "\n",
            "413\n",
            "\n",
            "The mandiantâ intelligence centerâ released an shocking report that reveals an enterprise scale computer espionage campaign dubbed apt1. The operation have been started in the distant 2006 targeting 141 victims across multiple industries during the attacks the attackers have took over apt1 malware families. The mandiant has also identified more than 3 000 indicators to improve defenses against apt1 operations.\n",
            "=================================\n",
            "\n",
            "356\n",
            "\n",
            "Security experts are confident that the chinese hackers group known as comment crew is still operating under cover. mandiant security firm had monitored the group during last years and report details its operations. fireeye has released today an interesting report titled digital bread crumbs seven clues to identifying who s behind advanced cyber attacks.\n",
            "=================================\n",
            "\n",
            "386\n",
            "\n",
            "As the digital age evolves and continues to shape the business landscape corporate networks have become increasingly complex and distributed the amount of data a company collects to detect malicious behaviour constantly increases. Organizations are turning to predictive analytics and machine learning ml driven network security solutions as essential tools for securing their networks.\n",
            "=================================\n",
            "\n",
            "419\n",
            "\n",
            "Researchers at the laboratory of cryptography and system security crysys in hungary confirmed the existence of the zero day vulnerability in the windows kernel according to security researchers tracking the stuxnet like cyber surveillance trojan. The toolkit contains signature and heuristics based methods and it is able to find traces of infections where components of the malware are already removed from the system.\n",
            "=================================\n",
            "\n"
          ]
        }
      ]
    },
    {
      "cell_type": "markdown",
      "source": [
        "-------------------------------------------------------------------------------------"
      ],
      "metadata": {
        "id": "eiNZmMWva0br"
      }
    },
    {
      "cell_type": "markdown",
      "source": [
        "-------------------------------------------------------------------------------"
      ],
      "metadata": {
        "id": "lOxqZGa6oB-E"
      }
    },
    {
      "cell_type": "markdown",
      "source": [
        "# **Module 7 (Response)**"
      ],
      "metadata": {
        "id": "CUeTqPp3pG5A"
      }
    },
    {
      "cell_type": "code",
      "source": [
        "!pip install sentence-transformers\n",
        "!pip install datasets\n",
        "!pip install transformers"
      ],
      "metadata": {
        "colab": {
          "base_uri": "https://localhost:8080/"
        },
        "collapsed": true,
        "id": "DygRz3Z2qnu2",
        "outputId": "c842e07b-909f-4cc6-ca1e-552402f7a0e9"
      },
      "execution_count": null,
      "outputs": [
        {
          "output_type": "stream",
          "name": "stdout",
          "text": [
            "Collecting sentence-transformers\n",
            "  Downloading sentence_transformers-3.2.0-py3-none-any.whl.metadata (10 kB)\n",
            "Requirement already satisfied: transformers<5.0.0,>=4.41.0 in /usr/local/lib/python3.10/dist-packages (from sentence-transformers) (4.44.2)\n",
            "Requirement already satisfied: tqdm in /usr/local/lib/python3.10/dist-packages (from sentence-transformers) (4.66.5)\n",
            "Requirement already satisfied: torch>=1.11.0 in /usr/local/lib/python3.10/dist-packages (from sentence-transformers) (2.4.1+cu121)\n",
            "Requirement already satisfied: scikit-learn in /usr/local/lib/python3.10/dist-packages (from sentence-transformers) (1.5.2)\n",
            "Requirement already satisfied: scipy in /usr/local/lib/python3.10/dist-packages (from sentence-transformers) (1.13.1)\n",
            "Requirement already satisfied: huggingface-hub>=0.20.0 in /usr/local/lib/python3.10/dist-packages (from sentence-transformers) (0.24.7)\n",
            "Requirement already satisfied: Pillow in /usr/local/lib/python3.10/dist-packages (from sentence-transformers) (10.4.0)\n",
            "Requirement already satisfied: filelock in /usr/local/lib/python3.10/dist-packages (from huggingface-hub>=0.20.0->sentence-transformers) (3.16.1)\n",
            "Requirement already satisfied: fsspec>=2023.5.0 in /usr/local/lib/python3.10/dist-packages (from huggingface-hub>=0.20.0->sentence-transformers) (2024.6.1)\n",
            "Requirement already satisfied: packaging>=20.9 in /usr/local/lib/python3.10/dist-packages (from huggingface-hub>=0.20.0->sentence-transformers) (24.1)\n",
            "Requirement already satisfied: pyyaml>=5.1 in /usr/local/lib/python3.10/dist-packages (from huggingface-hub>=0.20.0->sentence-transformers) (6.0.2)\n",
            "Requirement already satisfied: requests in /usr/local/lib/python3.10/dist-packages (from huggingface-hub>=0.20.0->sentence-transformers) (2.32.3)\n",
            "Requirement already satisfied: typing-extensions>=3.7.4.3 in /usr/local/lib/python3.10/dist-packages (from huggingface-hub>=0.20.0->sentence-transformers) (4.12.2)\n",
            "Requirement already satisfied: sympy in /usr/local/lib/python3.10/dist-packages (from torch>=1.11.0->sentence-transformers) (1.13.3)\n",
            "Requirement already satisfied: networkx in /usr/local/lib/python3.10/dist-packages (from torch>=1.11.0->sentence-transformers) (3.3)\n",
            "Requirement already satisfied: jinja2 in /usr/local/lib/python3.10/dist-packages (from torch>=1.11.0->sentence-transformers) (3.1.4)\n",
            "Requirement already satisfied: numpy>=1.17 in /usr/local/lib/python3.10/dist-packages (from transformers<5.0.0,>=4.41.0->sentence-transformers) (1.26.4)\n",
            "Requirement already satisfied: regex!=2019.12.17 in /usr/local/lib/python3.10/dist-packages (from transformers<5.0.0,>=4.41.0->sentence-transformers) (2024.9.11)\n",
            "Requirement already satisfied: safetensors>=0.4.1 in /usr/local/lib/python3.10/dist-packages (from transformers<5.0.0,>=4.41.0->sentence-transformers) (0.4.5)\n",
            "Requirement already satisfied: tokenizers<0.20,>=0.19 in /usr/local/lib/python3.10/dist-packages (from transformers<5.0.0,>=4.41.0->sentence-transformers) (0.19.1)\n",
            "Requirement already satisfied: joblib>=1.2.0 in /usr/local/lib/python3.10/dist-packages (from scikit-learn->sentence-transformers) (1.4.2)\n",
            "Requirement already satisfied: threadpoolctl>=3.1.0 in /usr/local/lib/python3.10/dist-packages (from scikit-learn->sentence-transformers) (3.5.0)\n",
            "Requirement already satisfied: MarkupSafe>=2.0 in /usr/local/lib/python3.10/dist-packages (from jinja2->torch>=1.11.0->sentence-transformers) (2.1.5)\n",
            "Requirement already satisfied: charset-normalizer<4,>=2 in /usr/local/lib/python3.10/dist-packages (from requests->huggingface-hub>=0.20.0->sentence-transformers) (3.3.2)\n",
            "Requirement already satisfied: idna<4,>=2.5 in /usr/local/lib/python3.10/dist-packages (from requests->huggingface-hub>=0.20.0->sentence-transformers) (3.10)\n",
            "Requirement already satisfied: urllib3<3,>=1.21.1 in /usr/local/lib/python3.10/dist-packages (from requests->huggingface-hub>=0.20.0->sentence-transformers) (2.2.3)\n",
            "Requirement already satisfied: certifi>=2017.4.17 in /usr/local/lib/python3.10/dist-packages (from requests->huggingface-hub>=0.20.0->sentence-transformers) (2024.8.30)\n",
            "Requirement already satisfied: mpmath<1.4,>=1.1.0 in /usr/local/lib/python3.10/dist-packages (from sympy->torch>=1.11.0->sentence-transformers) (1.3.0)\n",
            "Downloading sentence_transformers-3.2.0-py3-none-any.whl (255 kB)\n",
            "\u001b[2K   \u001b[90m━━━━━━━━━━━━━━━━━━━━━━━━━━━━━━━━━━━━━━━━\u001b[0m \u001b[32m255.2/255.2 kB\u001b[0m \u001b[31m3.9 MB/s\u001b[0m eta \u001b[36m0:00:00\u001b[0m\n",
            "\u001b[?25hInstalling collected packages: sentence-transformers\n",
            "Successfully installed sentence-transformers-3.2.0\n"
          ]
        }
      ]
    },
    {
      "cell_type": "code",
      "source": [
        "import json\n",
        "import os\n",
        "\n",
        "config_path = '/content/drive/MyDrive/1/Trained model/BERT_five_main/config.json'\n",
        "with open(config_path, 'r') as f:\n",
        "    config_data = json.load(f)\n",
        "\n",
        "if config_data.get('early_stopping') is None:\n",
        "    config_data['early_stopping'] = True\n",
        "if config_data.get('num_beams') is None:\n",
        "    config_data['num_beams'] = 6\n",
        "\n",
        "\n",
        "with open(config_path, 'w') as f:\n",
        "    json.dump(config_data, f)\n",
        "\n",
        "print(\"Config file updated successfully!\")\n"
      ],
      "metadata": {
        "id": "GZUaHkm1q17W"
      },
      "execution_count": null,
      "outputs": []
    },
    {
      "cell_type": "code",
      "source": [
        "from transformers import BartTokenizer, BartForConditionalGeneration\n",
        "import torch\n",
        "\n",
        "load_directory = '/content/drive/MyDrive/1/Trained model/BERT_five_main'\n",
        "\n",
        "model = BartForConditionalGeneration.from_pretrained(load_directory)\n",
        "tokenizer = BartTokenizer.from_pretrained(load_directory)\n",
        "device = torch.device('cuda' if torch.cuda.is_available() else 'cpu')\n",
        "model.to(device)\n",
        "\n",
        "print(\"Model and tokenizer loaded successfully!\")\n"
      ],
      "metadata": {
        "id": "u1IxL8jR_UuX"
      },
      "execution_count": null,
      "outputs": []
    },
    {
      "cell_type": "code",
      "source": [
        "input_text = \" \".join(summarized_texts)\n",
        "\n",
        "prompt = modified_query + \" \" + input_text"
      ],
      "metadata": {
        "id": "dAJqmMoq_eAA"
      },
      "execution_count": null,
      "outputs": []
    },
    {
      "cell_type": "code",
      "source": [
        "inputs = tokenizer(prompt, return_tensors=\"pt\").to(device)\n",
        "\n",
        "generated_ids = model.generate(\n",
        "    inputs['input_ids'],\n",
        "    max_length=600,\n",
        "    min_length=400,\n",
        "    num_beams=6,\n",
        "    no_repeat_ngram_size=3,\n",
        "    repetition_penalty=2.0,\n",
        "    length_penalty=1.5,\n",
        "    early_stopping=False\n",
        ")\n",
        "\n",
        "response = tokenizer.decode(generated_ids[0], skip_special_tokens=True)\n",
        "\n",
        "formatted_response = response\n",
        "print(f\"Generated Response: {formatted_response}\")"
      ],
      "metadata": {
        "id": "0EBoj4O6q9zN"
      },
      "execution_count": null,
      "outputs": []
    },
    {
      "cell_type": "markdown",
      "source": [
        "Punchuation:"
      ],
      "metadata": {
        "id": "nqhJEply_2DR"
      }
    },
    {
      "cell_type": "code",
      "source": [
        "!pip install deepmultilingualpunctuation"
      ],
      "metadata": {
        "id": "kOTiKs4N_8hv"
      },
      "execution_count": null,
      "outputs": []
    },
    {
      "cell_type": "code",
      "source": [
        "from deepmultilingualpunctuation import PunctuationModel\n",
        "import nltk\n",
        "nltk.download('punkt')\n",
        "from nltk.tokenize import sent_tokenize\n",
        "\n",
        "punctuation_model = PunctuationModel()\n",
        "\n",
        "bart_response = formatted_response\n",
        "\n",
        "sentences = sent_tokenize(bart_response)\n",
        "\n",
        "punctuated_sentences = [punctuation_model.restore_punctuation(sentence) for sentence in sentences]\n",
        "\n",
        "punctuated_response = \" \".join(punctuated_sentences)\n",
        "print(f\"Punctuated Response: {punctuated_response}\")\n",
        "\n",
        "def capitalize_sentences(text):\n",
        "    sentences = sent_tokenize(text)\n",
        "    capitalized_sentences = [sentence.capitalize() for sentence in sentences]\n",
        "    return \" \".join(capitalized_sentences)\n",
        "\n",
        "final_response = capitalize_sentences(punctuated_response)\n",
        "print(f\"Final Response: {final_response}\")"
      ],
      "metadata": {
        "id": "jjCqWYWq_9_B"
      },
      "execution_count": null,
      "outputs": []
    },
    {
      "cell_type": "markdown",
      "source": [
        "----------------------------------------------------------------------------------------"
      ],
      "metadata": {
        "id": "hQB5bf3appv0"
      }
    },
    {
      "cell_type": "markdown",
      "source": [
        "# **Module 8 (Link and Summary)**"
      ],
      "metadata": {
        "id": "Sz5cpasnDeF5"
      }
    },
    {
      "cell_type": "code",
      "source": [
        "#initially\n",
        "summary = 'no'"
      ],
      "metadata": {
        "id": "plDAvRtTGLrC"
      },
      "execution_count": null,
      "outputs": []
    },
    {
      "cell_type": "code",
      "source": [
        "if summary == 'no':\n",
        "        for l in range(1, 11):\n",
        "            print(f\"Link {l}: {top_10_contents_df['Link'].iloc[l-1]}\")"
      ],
      "metadata": {
        "colab": {
          "base_uri": "https://localhost:8080/"
        },
        "id": "44SsJnyBEJpn",
        "outputId": "cbe14d84-9068-4c84-9afe-c580d341a9c9"
      },
      "execution_count": null,
      "outputs": [
        {
          "output_type": "stream",
          "name": "stdout",
          "text": [
            "Link 1: https://thehackernews.com/2011/09/registry-decoder-digital-forensics-tool.html\n",
            "Link 2: https://thehackernews.com/2011/05/microsoft-release-security-intelligence.html\n",
            "Link 3: https://thehackernews.com/2023/08/malware-unleashed-public-sector-hit-in.html\n",
            "Link 4: https://thehackernews.com/2012/10/400-million-new-variants-of-malware.html\n",
            "Link 5: https://thehackernews.com/2023/08/numbers-dont-lie-exposing-harsh-truths.html\n",
            "Link 6: https://thehackernews.com/2010/10/panda-security-brazilian-army-join.html\n",
            "Link 7: https://thehackernews.com/2013/02/mandiant-revealed-chinese-apt1-cyber.html\n",
            "Link 8: https://thehackernews.com/2013/06/Comment-Crew-Chinese-Hackers.html\n",
            "Link 9: https://thehackernews.com/2023/02/the-future-of-network-security.html\n",
            "Link 10: https://thehackernews.com/2011/11/crysys-duqu-detector-open-source.html\n"
          ]
        }
      ]
    },
    {
      "cell_type": "markdown",
      "source": [
        "Say user wants to cheack summary of the link. so cliking on the link summary"
      ],
      "metadata": {
        "id": "MMw3DNpzD0kn"
      }
    },
    {
      "cell_type": "code",
      "source": [
        "summary = 'yes'\n",
        "\n",
        "if summary == 'yes':\n",
        "        for l, t in zip(range(1, 11), range(10)):\n",
        "            print(f\"Link {l}: {top_10_contents_df['Link'].iloc[l-1]}\")\n",
        "            print(f\"Summary {t+1}: {summarized_texts[t]}\")\n",
        "            print('========================================================================')\n",
        "            print()"
      ],
      "metadata": {
        "colab": {
          "base_uri": "https://localhost:8080/"
        },
        "id": "dAnMMlsNDsAd",
        "outputId": "c0d5e097-6bb5-4fcb-cf49-42e2bae84bb1",
        "collapsed": true
      },
      "execution_count": null,
      "outputs": [
        {
          "output_type": "stream",
          "name": "stdout",
          "text": [
            "Link 1: https://thehackernews.com/2011/09/registry-decoder-digital-forensics-tool.html\n",
            "Summary 1: Digital forensics deals with the analysis of artifacts on all types of digital devices. One of the most prevalent analysis techniques performed is that of the registry hives contained in microsoft windows operating systems.\n",
            "========================================================================\n",
            "\n",
            "Link 2: https://thehackernews.com/2011/05/microsoft-release-security-intelligence.html\n",
            "Summary 2: The security intelligence report sir is an investigation of the current threat landscape. It analyzes exploits vulnerabilities and malware based on data from over 600 million systems worldwide as well as internet services.\n",
            "========================================================================\n",
            "\n",
            "Link 3: https://thehackernews.com/2023/08/malware-unleashed-public-sector-hit-in.html\n",
            "Summary 3: The latest edition of blackberry s quarterly cybersecurity benchmarking guide covering events between march and may 2023 provides new information for the cybersecurity industry worldwide. Based on a detailed geopolitical analysis blackberry observed and stopped 1 5 million attacks within the 90 day period. The healthcare and financial services industries continue to be among the most targeted sectors.\n",
            "========================================================================\n",
            "\n",
            "Link 4: https://thehackernews.com/2012/10/400-million-new-variants-of-malware.html\n",
            "Summary 4:  symantec provide overview and analysis of the year in global threat activity via its internet security threat report istr with a exclusive details. 400 million new variants of malware were created in 2011 which is an average of 33 million new variant of malware a month. united states was the number one source of all activities except for malicious code and spam zombies where india took first place.\n",
            "========================================================================\n",
            "\n",
            "Link 5: https://thehackernews.com/2023/08/numbers-dont-lie-exposing-harsh-truths.html\n",
            "Summary 5: The blackberryâ threat research and intelligence team recently analyzed 90 days of real world data to answer these questions full results are in the latest blackberry global threat intelligence report. During that time blackberry s ai powered endpoint protection solution detected and blocked a total of 1 578 733 malware based cyberattacks targeting customers. The most targeted industries during the study period included financial institutions healthcare services and equipment including hospitals clinics and medical devices.\n",
            "========================================================================\n",
            "\n",
            "Link 6: https://thehackernews.com/2010/10/panda-security-brazilian-army-join.html\n",
            "Summary 6:  panda security will provide endpoint protection to 37 500 computers belonging to the army s military commands to counter malware targeted attacks and web threats. The collaboration will involve the exchange of malware samples and panda will provide a rapid response.\n",
            "========================================================================\n",
            "\n",
            "Link 7: https://thehackernews.com/2013/02/mandiant-revealed-chinese-apt1-cyber.html\n",
            "Summary 7: The mandiantâ intelligence centerâ released an shocking report that reveals an enterprise scale computer espionage campaign dubbed apt1. The operation have been started in the distant 2006 targeting 141 victims across multiple industries during the attacks the attackers have took over apt1 malware families. The mandiant has also identified more than 3 000 indicators to improve defenses against apt1 operations.\n",
            "========================================================================\n",
            "\n",
            "Link 8: https://thehackernews.com/2013/06/Comment-Crew-Chinese-Hackers.html\n",
            "Summary 8: Security experts are confident that the chinese hackers group known as comment crew is still operating under cover. mandiant security firm had monitored the group during last years and report details its operations. fireeye has released today an interesting report titled digital bread crumbs seven clues to identifying who s behind advanced cyber attacks.\n",
            "========================================================================\n",
            "\n",
            "Link 9: https://thehackernews.com/2023/02/the-future-of-network-security.html\n",
            "Summary 9: As the digital age evolves and continues to shape the business landscape corporate networks have become increasingly complex and distributed the amount of data a company collects to detect malicious behaviour constantly increases. Organizations are turning to predictive analytics and machine learning ml driven network security solutions as essential tools for securing their networks.\n",
            "========================================================================\n",
            "\n",
            "Link 10: https://thehackernews.com/2011/11/crysys-duqu-detector-open-source.html\n",
            "Summary 10: Researchers at the laboratory of cryptography and system security crysys in hungary confirmed the existence of the zero day vulnerability in the windows kernel according to security researchers tracking the stuxnet like cyber surveillance trojan. The toolkit contains signature and heuristics based methods and it is able to find traces of infections where components of the malware are already removed from the system.\n",
            "========================================================================\n",
            "\n"
          ]
        }
      ]
    },
    {
      "cell_type": "markdown",
      "source": [
        "--------------------------------------------------------------------------------"
      ],
      "metadata": {
        "id": "Cawe8D88Dp_2"
      }
    },
    {
      "cell_type": "markdown",
      "source": [
        "# **Module 9 (Response History)**"
      ],
      "metadata": {
        "id": "joJPNfifGaS6"
      }
    },
    {
      "cell_type": "code",
      "source": [
        "import os"
      ],
      "metadata": {
        "id": "TKk4neNkG_vx"
      },
      "execution_count": null,
      "outputs": []
    },
    {
      "cell_type": "code",
      "source": [
        "#initial CSV file path\n",
        "response_history = '/content/drive/MyDrive/1/query_response.csv'\n",
        "\n",
        "def append_to_csv(modified_query, input_text, generated_text, cat_label, response_history):\n",
        "    if os.path.exists(response_history):\n",
        "\n",
        "        dummy_df = pd.read_csv(response_history)\n",
        "\n",
        "        if 'SL_no' not in dummy_df.columns:\n",
        "            dummy_df.insert(0, 'SL_no', range(1, len(dummy_df) + 1))\n",
        "\n",
        "        next_sl_no = dummy_df['SL_no'].max() + 1\n",
        "\n",
        "    else:\n",
        "        dummy_df = pd.DataFrame(columns=['SL_no', 'user_query', 'summarized_texts', 'response', 'label'])\n",
        "        next_sl_no = 1\n",
        "\n",
        "    new_row = pd.DataFrame({\n",
        "        'SL_no': [next_sl_no],\n",
        "        'user_query': [modified_query],\n",
        "        'summarized_texts': [input_text],\n",
        "        'response': [generated_text],\n",
        "        'label': [predicted_initial_label]\n",
        "    })\n",
        "\n",
        "    dummy_df = pd.concat([dummy_df, new_row], ignore_index=True)\n",
        "\n",
        "    dummy_df.to_csv(response_history, index=False)\n",
        "\n",
        "\n",
        "append_to_csv(modified_query, input_text, generated_text, predicted_initial_label, response_history)\n"
      ],
      "metadata": {
        "id": "dFZ08Z4ZGvig"
      },
      "execution_count": null,
      "outputs": []
    },
    {
      "cell_type": "markdown",
      "source": [
        "-------------------------------------------------------------------------------------"
      ],
      "metadata": {
        "id": "d6O7m5csGkY5"
      }
    },
    {
      "cell_type": "code",
      "source": [
        "previous_query = modified_query\n",
        "modified_query = \"\""
      ],
      "metadata": {
        "id": "L0zRV-VQHGQD"
      },
      "execution_count": null,
      "outputs": []
    },
    {
      "cell_type": "code",
      "source": [
        "session_duration(session_start_time)"
      ],
      "metadata": {
        "colab": {
          "base_uri": "https://localhost:8080/"
        },
        "id": "ZdVry0MAHbqS",
        "outputId": "08174408-c7f0-4dc8-ffb3-67193816e919"
      },
      "execution_count": null,
      "outputs": [
        {
          "output_type": "stream",
          "name": "stdout",
          "text": [
            "Active session duration: 97 seconds\n"
          ]
        }
      ]
    },
    {
      "cell_type": "markdown",
      "source": [
        "# **=====================================================================================**"
      ],
      "metadata": {
        "id": "5Q74rbWoHlVB"
      }
    },
    {
      "cell_type": "markdown",
      "source": [
        "## **Module 10 (Real time based):**"
      ],
      "metadata": {
        "id": "aX1jdJCNHc0Z"
      }
    },
    {
      "cell_type": "code",
      "source": [
        "scrapped_data = pd.read_csv('/content/drive/MyDrive/1/Scrapped datasets/scrapped_data_set.csv')\n",
        "main_data = pd.read_csv('/content/drive/MyDrive/1/CSV/data_set.csv')"
      ],
      "metadata": {
        "id": "T6xhMB4hICaJ"
      },
      "execution_count": null,
      "outputs": []
    },
    {
      "cell_type": "code",
      "source": [
        "print(main_data.shape)\n",
        "print(scrapped_data.shape)"
      ],
      "metadata": {
        "id": "ZOazCRMQIOTC"
      },
      "execution_count": null,
      "outputs": []
    },
    {
      "cell_type": "markdown",
      "source": [
        "**Pre-proccessing**"
      ],
      "metadata": {
        "id": "NE1ONUkSIfbL"
      }
    },
    {
      "cell_type": "code",
      "source": [
        "print(\"Original Scraped Data Columns:\", scrapped_data.columns)\n",
        "scrapped_data.columns = scrapped_data.columns.str.strip()\n",
        "\n",
        "if scrapped_data.columns[0] == '' or scrapped_data.columns[0] == 'Unnamed: 0':\n",
        "    scrapped_data.rename(columns={scrapped_data.columns[0]: 'SL no'}, inplace=True)\n",
        "\n",
        "scrapped_data = scrapped_data.rename(columns={\"Category\": \"Double_Category\"})\n",
        "print(\"Cleaned Scraped Data Columns:\", scrapped_data.columns)"
      ],
      "metadata": {
        "id": "08IKwsz-IOyS"
      },
      "execution_count": null,
      "outputs": []
    },
    {
      "cell_type": "code",
      "source": [
        "scrapped_data['Priority_Category'] = ''\n",
        "scrapped_data['Final_Category'] = ''\n",
        "scrapped_data['Category'] = ''\n",
        "\n",
        "scrapped_data = scrapped_data[['SL no', 'Title', 'Link', 'Date', 'Double_Category', 'Priority_Category', 'Category', 'Final_Category', 'Content']]"
      ],
      "metadata": {
        "id": "cSHfMXH8IOoY"
      },
      "execution_count": null,
      "outputs": []
    },
    {
      "cell_type": "markdown",
      "source": [
        "**K-Means Clustering:**"
      ],
      "metadata": {
        "id": "hTADrMjHKL5i"
      }
    },
    {
      "cell_type": "code",
      "source": [
        "!pip install sentence_transformers"
      ],
      "metadata": {
        "id": "dcJvraSvDiK2"
      },
      "execution_count": null,
      "outputs": []
    },
    {
      "cell_type": "code",
      "source": [
        "import torch\n",
        "import torch.nn as nn\n",
        "from sklearn.cluster import KMeans\n",
        "from sklearn.metrics import silhouette_score, davies_bouldin_score\n",
        "from sklearn.decomposition import PCA\n",
        "from sklearn.manifold import TSNE\n",
        "import matplotlib.pyplot as plt\n",
        "from sentence_transformers import SentenceTransformer\n",
        "import pandas as pd"
      ],
      "metadata": {
        "id": "dRnZUhoNKUxz"
      },
      "execution_count": null,
      "outputs": []
    },
    {
      "cell_type": "code",
      "source": [
        "scrapped_data['Text'] = scrapped_data['Title'] + ' ' + scrapped_data['Content']\n",
        "\n",
        "model = SentenceTransformer('all-MiniLM-L6-v2')\n",
        "X_embeddings = model.encode(scrapped_data['Text'], convert_to_tensor=True)\n",
        "\n",
        "X_tensor = torch.tensor(X_embeddings.cpu().detach().numpy(), dtype=torch.float32)\n",
        "\n",
        "class EnhancedAutoencoderWithBatchNorm(nn.Module):\n",
        "    def __init__(self, input_dim, latent_dim):\n",
        "        super(EnhancedAutoencoderWithBatchNorm, self).__init__()\n",
        "        self.encoder = nn.Sequential(\n",
        "            nn.Linear(input_dim, 512),\n",
        "            nn.BatchNorm1d(512),\n",
        "            nn.ReLU(),\n",
        "            nn.Linear(512, 256),\n",
        "            nn.BatchNorm1d(256),\n",
        "            nn.ReLU(),\n",
        "            nn.Linear(256, latent_dim)\n",
        "        )\n",
        "        self.decoder = nn.Sequential(\n",
        "            nn.Linear(latent_dim, 256),\n",
        "            nn.BatchNorm1d(256),\n",
        "            nn.ReLU(),\n",
        "            nn.Linear(256, 512),\n",
        "            nn.BatchNorm1d(512),\n",
        "            nn.ReLU(),\n",
        "            nn.Linear(512, input_dim),\n",
        "            nn.Sigmoid()\n",
        "        )\n",
        "\n",
        "    def forward(self, x):\n",
        "        latent = self.encoder(x)\n",
        "        reconstructed = self.decoder(latent)\n",
        "        return reconstructed\n",
        "\n",
        "input_dim = X_tensor.shape[1]\n",
        "latent_dim = 4\n",
        "\n",
        "autoencoder = EnhancedAutoencoderWithBatchNorm(input_dim, latent_dim)\n",
        "\n",
        "criterion = nn.MSELoss()\n",
        "optimizer = torch.optim.Adam(autoencoder.parameters(), lr=1e-3)\n",
        "\n",
        "num_epochs = 100\n",
        "for epoch in range(num_epochs):\n",
        "    reconstructed = autoencoder(X_tensor)\n",
        "    loss = criterion(reconstructed, X_tensor)\n",
        "    optimizer.zero_grad()\n",
        "    loss.backward()\n",
        "    optimizer.step()\n",
        "    if epoch % 10 == 0:\n",
        "        print(f'Epoch [{epoch}/{num_epochs}], Loss: {loss.item():.4f}')\n",
        "\n",
        "with torch.no_grad():\n",
        "    latent_features = autoencoder.encoder(X_tensor).numpy()\n",
        "\n",
        "pca = PCA(n_components=2)\n",
        "latent_features_pca = pca.fit_transform(latent_features)\n",
        "\n",
        "kmeans = KMeans(n_clusters=4, random_state=42)\n",
        "kmeans_labels = kmeans.fit_predict(latent_features_pca)\n",
        "\n",
        "silhouette_avg_kmeans = silhouette_score(latent_features_pca, kmeans_labels)\n",
        "dbi_kmeans = davies_bouldin_score(latent_features_pca, kmeans_labels)\n",
        "print(f\"K-Means Silhouette Score: {silhouette_avg_kmeans}\")\n",
        "print(f\"K-Means Davies-Bouldin Index: {dbi_kmeans}\")\n",
        "\n",
        "tsne = TSNE(n_components=2, random_state=42)\n",
        "latent_features_tsne = tsne.fit_transform(latent_features_pca)\n",
        "\n",
        "plt.figure(figsize=(8, 6))\n",
        "plt.scatter(latent_features_tsne[:, 0], latent_features_tsne[:, 1], c=kmeans_labels, cmap='plasma')\n",
        "plt.title('K-Means on 1.3k real time Datapoint (4 clusters)')\n",
        "plt.show()\n"
      ],
      "metadata": {
        "id": "eF8D4XuZKgMp"
      },
      "execution_count": null,
      "outputs": []
    },
    {
      "cell_type": "code",
      "source": [
        "scrapped_data['Cluster'] = kmeans_labels\n",
        "\n",
        "cluster_to_category = {\n",
        "    0: 'Cyber Attack',\n",
        "    1: 'Malware',\n",
        "    2: 'Vulnerability',\n",
        "    3: 'Data Breach'\n",
        "}\n",
        "\n",
        "scrapped_data['Final_Category'] = scrapped_data['Cluster'].map(cluster_to_category)\n",
        "\n",
        "scrapped_data.drop(columns=['Text', 'Cluster'], inplace=True)\n",
        "\n",
        "scrapped_data.to_csv('/content/drive/MyDrive/1/Scrapped datasets/kmeans_final_clusters.csv', index=False)\n",
        "\n",
        "print(\"K-Means clustering completed and labels assigned.\")"
      ],
      "metadata": {
        "id": "lBCiazBTDxju"
      },
      "execution_count": null,
      "outputs": []
    },
    {
      "cell_type": "code",
      "source": [
        "klabeled_scrapped_data_set = pd.read_csv('/content/drive/MyDrive/1/Scrapped datasets/kmeans_final_clusters.csv')\n",
        "print(klabeled_scrapped_data_set.shape)"
      ],
      "metadata": {
        "id": "IX0KtbjoKtKJ"
      },
      "execution_count": null,
      "outputs": []
    },
    {
      "cell_type": "code",
      "source": [
        "klabeled_scrapped_data_set.head()"
      ],
      "metadata": {
        "id": "KXbCxwcRKwsV"
      },
      "execution_count": null,
      "outputs": []
    },
    {
      "cell_type": "markdown",
      "source": [
        "------------------------------------------------------------------------------------------"
      ],
      "metadata": {
        "id": "rkrIuQWUK3Nb"
      }
    },
    {
      "cell_type": "code",
      "source": [
        "klabeled_scrapped_data_set.reset_index(drop=True, inplace=True)\n",
        "main_data.reset_index(drop=True, inplace=True)\n",
        "\n",
        "print(\"Scrapped Data Columns:\", klabeled_scrapped_data_set.columns)\n",
        "print(\"Main Data Columns:\", main_data.columns)"
      ],
      "metadata": {
        "id": "ztHE3NxoK831"
      },
      "execution_count": null,
      "outputs": []
    },
    {
      "cell_type": "code",
      "source": [
        "merged_data = pd.concat([klabeled_scrapped_data_set, main_data], ignore_index=True)\n",
        "\n",
        "merged_data['SL no'] = range(1, len(merged_data) + 1)"
      ],
      "metadata": {
        "id": "afLA4A21LJXL"
      },
      "execution_count": null,
      "outputs": []
    },
    {
      "cell_type": "markdown",
      "source": [
        "**Save the scrapped data to main data**"
      ],
      "metadata": {
        "id": "f9ZYKJbkLYvy"
      }
    },
    {
      "cell_type": "code",
      "source": [
        "merged_data.to_csv('/content/drive/MyDrive/1/CSV/data_set.csv', index=False)\n",
        "\n",
        "print(\"success\")"
      ],
      "metadata": {
        "id": "GOAUXp0QLXWx"
      },
      "execution_count": null,
      "outputs": []
    },
    {
      "cell_type": "code",
      "source": [
        "print(main_data.shape)"
      ],
      "metadata": {
        "id": "qoI2Xph_LnnK"
      },
      "execution_count": null,
      "outputs": []
    },
    {
      "cell_type": "code",
      "source": [
        "main_data.head()"
      ],
      "metadata": {
        "id": "LUsk-U_YLn-S"
      },
      "execution_count": null,
      "outputs": []
    }
  ]
}