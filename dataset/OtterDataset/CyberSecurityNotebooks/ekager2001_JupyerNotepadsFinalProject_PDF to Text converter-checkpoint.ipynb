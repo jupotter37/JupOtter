{
 "cells": [
  {
   "cell_type": "code",
   "execution_count": 1,
   "id": "5cd4f673",
   "metadata": {},
   "outputs": [],
   "source": [
    "import pdfplumber\n",
    "class PDFconverter:\n",
    "    def __init__(self):\n",
    "        self.PATH =\"\"\n",
    "    \n",
    "    def setPATH(self, PATH):\n",
    "        self.PATH = PATH\n",
    "\n",
    "    def extract(self, PATH, words=False):\n",
    "        self.setPATH(PATH)\n",
    "        with pdfplumber.open(PATH) as pdf:\n",
    "            pages = self.pdfToText(pdf)\n",
    "            if(words):     \n",
    "                words = self.extractWords(pages)\n",
    "                return pages\n",
    "            text = self.extractText(pages)\n",
    "            return text\n",
    "\n",
    "    def pdfToText(self, pdf):   \n",
    "        pages = pdf.pages\n",
    "        return pages\n",
    "\n",
    "    def extractWords(self, pages):\n",
    "        extractedWords = []\n",
    "        for p in pages:\n",
    "            pageWords = p.extract_words(x_tolerance=2, y_tolerance=3, keep_blank_chars=False, use_text_flow=False, horizontal_ltr=True, vertical_ttb=True)\n",
    "            for w in pageWords:\n",
    "                extractedWords.append(w['text'])\n",
    "        return extractedWords\n",
    "\n",
    "    def extractText(self, pages):\n",
    "        text = \"\"\n",
    "        for p in pages:\n",
    "            extractedText = p.extract_text(x_tolerance=2, y_tolerance=3, keep_blank_chars=False, use_text_flow=False, horizontal_ltr=True, vertical_ttb=True)\n",
    "            text = text + extractedText\n",
    "        return text"
   ]
  },
  {
   "cell_type": "code",
   "execution_count": 5,
   "id": "0b12e782",
   "metadata": {},
   "outputs": [
    {
     "data": {
      "text/plain": [
       "\"EDGAR KAGER \\n2 St Etheldreda's Drv, \\nHatfield, Hertfordshire AL10 \\n  8BZ  \\n    \\n07938799369 \\nPROFESSIONAL SUMMARY \\n \\nTwilightStruggle1991@outloo\\nk.com \\nAn aspiring cyber-security professional and, currently top 3% on try-\\n \\nhack me from regular studying of network security/fundamentals, \\nweb-hacking, and malware analysis. I love reading books on all \\nSKILLS \\nthings cyber-security related, from network structure, to secure code \\ndevelopment. On the pathway to complete the CISSIP and become \\nPenetration testing \\n• \\nan associate of (ISC)2. \\nVulnerability analysis \\n• \\nEthical hacking \\n• \\nPython Programming \\nWORK HISTORY  • \\nC Programming \\n• \\nJava Programming \\nCyber Security Student, 07/2021 - 08/2021   • \\nLinux operating system \\nAttended government-sponsored summer Academy during which  • \\nFundamentals \\nincluded programming, a group project, pen-testing theory, and \\nProblem Solving  \\npractice.  • \\nCryptography  \\nSEO analyst, 10/2018  • \\nNetworking Structure and \\n• \\nPi Datametrics \\nExploitation \\nGave precise and insightful analysis on SEO trends for companies \\nWeb Technologies fundamentals \\n• \\nlooking to grow their organic search reach. \\nThreat intelligence \\n• \\nIT Desk Support, 03/2016  \\nProject management  \\n• \\nUniversity of Hertfordshire \\nTeamworking and Communication \\n• \\nAcquired interpersonal skills helping university clients solve serious \\n \\nproblems they encountered using university software and \\nequipment. \\nEDUCATION \\nMaster of Science, Computer Science, Expected in 06/2023  \\nQueen Mary University of London - London, ENG  \\nRelevant Coursework Completed:  \\nStudied and analysed network structure and fundamentals of \\n• \\nweb technologies.  \\nCompleted numerous group projects requiring team-coordination \\n• \\nand the software-engineering methodology  \\nA-Levels, 07/2019  \\nStanborough School - Welwyn Garden City, Hertfordshire \\nAchieved the following grades: \\nMathematics  \\nFurther Mathematics  \\nPhysics  \\nChemistry  \\n \\n \\n.\""
      ]
     },
     "execution_count": 5,
     "metadata": {},
     "output_type": "execute_result"
    }
   ],
   "source": [
    "PDFc =PDFconverter()\n",
    "PDFc.extract(\"Edgar_Kager_cv.pdf\")"
   ]
  },
  {
   "cell_type": "code",
   "execution_count": null,
   "id": "7da1c853",
   "metadata": {},
   "outputs": [],
   "source": [
    "f = open(\"Edgar_Kager_cv.txt\", \"w\")\n",
    "f.write(\"Now the file has more content!\")\n",
    "f.close()"
   ]
  }
 ],
 "metadata": {
  "kernelspec": {
   "display_name": "Python 3 (ipykernel)",
   "language": "python",
   "name": "python3"
  },
  "language_info": {
   "codemirror_mode": {
    "name": "ipython",
    "version": 3
   },
   "file_extension": ".py",
   "mimetype": "text/x-python",
   "name": "python",
   "nbconvert_exporter": "python",
   "pygments_lexer": "ipython3",
   "version": "3.9.7"
  }
 },
 "nbformat": 4,
 "nbformat_minor": 5
}
