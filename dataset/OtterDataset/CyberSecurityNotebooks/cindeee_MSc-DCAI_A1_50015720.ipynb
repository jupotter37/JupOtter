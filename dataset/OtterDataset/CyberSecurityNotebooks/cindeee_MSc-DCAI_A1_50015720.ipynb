{
 "cells": [
  {
   "cell_type": "markdown",
   "metadata": {},
   "source": [
    "# Assignment 1: Web Scraping"
   ]
  },
  {
   "cell_type": "markdown",
   "metadata": {},
   "source": [
    "## Objective"
   ]
  },
  {
   "cell_type": "markdown",
   "metadata": {},
   "source": [
    "Data scientists often need to crawl data from websites and turn the crawled data (HTML pages) to structured data (tables). Thus, web scraping is an essential skill that every data scientist should master. In this assignment, you will learn the followings:\n",
    "\n",
    "\n",
    "* How to download HTML pages from a website?\n",
    "* How to extract relevant content from an HTML page? \n",
    "\n",
    "Furthermore, you will gain a deeper understanding of the data science lifecycle.\n",
    "\n",
    "**Requirements:**\n",
    "\n",
    "1. Please use [pandas.DataFrame](http://pandas.pydata.org/pandas-docs/stable/generated/pandas.DataFrame.html) rather than spark.DataFrame to manipulate data.\n",
    "\n",
    "2. Please use [BeautifulSoup](https://www.crummy.com/software/BeautifulSoup/) rather than [lxml](http://lxml.de/) to parse an HTML page and extract data from the page.\n",
    "\n",
    "3. Please follow the python code style (https://www.python.org/dev/peps/pep-0008/). If TA finds your code hard to read, you will lose points. This requirement will stay for the whole semester."
   ]
  },
  {
   "cell_type": "markdown",
   "metadata": {},
   "source": [
    "## Preliminary"
   ]
  },
  {
   "cell_type": "markdown",
   "metadata": {},
   "source": [
    "If this is your first time to write a web scraper, you need to learn some basic knowledge of this topic. I found that this is a good resource: [Tutorial: Web Scraping and BeautifulSoup](https://realpython.com/beautiful-soup-web-scraper-python/). \n",
    "\n",
    "Please let me know if you find a better resource. I'll share it with the other students."
   ]
  },
  {
   "cell_type": "markdown",
   "metadata": {},
   "source": [
    "## Overview"
   ]
  },
  {
   "cell_type": "markdown",
   "metadata": {},
   "source": [
    "Imagine you are a data scientist working at HKUST(GZ). Your job is to extract insights from HKUST(GZ) data to answer questions. \n",
    "\n",
    "In this assignment, you will do two tasks. Please recall the high-level data science lifecycle from Lecture 1. I suggest that when doing this assignment, please remind yourself of what data you collected and what questions you tried to answer."
   ]
  },
  {
   "cell_type": "markdown",
   "metadata": {},
   "source": [
    "## Task 1: HKUST(GZ) Information Hub Faculty Members"
   ]
  },
  {
   "cell_type": "markdown",
   "metadata": {},
   "source": [
    "Sometimes you don't know what questions to ask. No worries. Start collecting data first. \n",
    "\n",
    "In Task 1, your job is to write a web scraper to extract the faculty information from this page: [https://facultyprofiles.hkust-gz.edu.cn/](https://facultyprofiles.hkust-gz.edu.cn/).\n",
    "\n",
    "\n"
   ]
  },
  {
   "cell_type": "markdown",
   "metadata": {},
   "source": [
    "### (a) Crawl Web Page"
   ]
  },
  {
   "cell_type": "markdown",
   "metadata": {},
   "source": [
    "A web page is essentially a file stored in a remote machine (called web server). Please write code to download the HTML page and save it as a text file (\"infhfaculty.html\")."
   ]
  },
  {
   "cell_type": "markdown",
   "metadata": {},
   "source": [
    "### My answer:"
   ]
  },
  {
   "cell_type": "code",
   "execution_count": 1,
   "metadata": {
    "scrolled": false
   },
   "outputs": [
    {
     "name": "stdout",
     "output_type": "stream",
     "text": [
      "Requirement already satisfied: selenium in c:\\users\\cindy\\anaconda3\\lib\\site-packages (3.3.0)\n",
      "Requirement already satisfied: webdriver_manager in c:\\users\\cindy\\anaconda3\\lib\\site-packages (4.0.0)\n",
      "Requirement already satisfied: requests in c:\\users\\cindy\\anaconda3\\lib\\site-packages (from webdriver_manager) (2.31.0)\n",
      "Requirement already satisfied: python-dotenv in c:\\users\\cindy\\anaconda3\\lib\\site-packages (from webdriver_manager) (1.0.0)\n",
      "Requirement already satisfied: packaging in c:\\users\\cindy\\appdata\\roaming\\python\\python311\\site-packages (from webdriver_manager) (23.1)\n",
      "Requirement already satisfied: charset-normalizer<4,>=2 in c:\\users\\cindy\\anaconda3\\lib\\site-packages (from requests->webdriver_manager) (2.0.4)\n",
      "Requirement already satisfied: idna<4,>=2.5 in c:\\users\\cindy\\anaconda3\\lib\\site-packages (from requests->webdriver_manager) (3.4)\n",
      "Requirement already satisfied: urllib3<3,>=1.21.1 in c:\\users\\cindy\\anaconda3\\lib\\site-packages (from requests->webdriver_manager) (1.26.16)\n",
      "Requirement already satisfied: certifi>=2017.4.17 in c:\\users\\cindy\\anaconda3\\lib\\site-packages (from requests->webdriver_manager) (2023.7.22)\n",
      "Requirement already satisfied: beautifulsoup4 in c:\\users\\cindy\\anaconda3\\lib\\site-packages (4.12.2)\n",
      "Requirement already satisfied: soupsieve>1.2 in c:\\users\\cindy\\anaconda3\\lib\\site-packages (from beautifulsoup4) (2.4)\n"
     ]
    }
   ],
   "source": [
    "# install relevant packages\n",
    "!pip install selenium \n",
    "!pip install webdriver_manager\n",
    "!pip install beautifulsoup4"
   ]
  },
  {
   "cell_type": "code",
   "execution_count": 2,
   "metadata": {
    "ExecuteTime": {
     "end_time": "2023-09-11T16:15:23.442923Z",
     "start_time": "2023-09-11T16:15:23.439607Z"
    }
   },
   "outputs": [],
   "source": [
    "# import relevant / sufficient packages \n",
    "from bs4 import BeautifulSoup\n",
    "import codecs\n",
    "import re\n",
    "import requests\n",
    "import copy\n",
    "import csv\n",
    "import time\n",
    "import os\n",
    "import pandas as pd\n",
    "from selenium import webdriver\n",
    "from selenium.webdriver.chrome.service import Service\n",
    "from selenium.webdriver.support.ui import WebDriverWait\n",
    "from selenium.webdriver.support import expected_conditions as EC\n",
    "from selenium.webdriver.common.by import By\n",
    "from selenium.webdriver.chrome.options import Options\n",
    "from selenium.webdriver.support.ui import Select"
   ]
  },
  {
   "cell_type": "code",
   "execution_count": 3,
   "metadata": {},
   "outputs": [
    {
     "name": "stdout",
     "output_type": "stream",
     "text": [
      "HTML content saved as 'infhfaculty.html'\n"
     ]
    }
   ],
   "source": [
    "# getting data from the required webpage\n",
    "response = requests.get('https://facultyprofiles.hkust-gz.edu.cn/')\n",
    "\n",
    "# Check if the request was successful (status code 200)\n",
    "if response.status_code == 200:\n",
    "    # Parse the HTML content using BeautifulSoup\n",
    "    soup = BeautifulSoup(response.text, 'html.parser')\n",
    "\n",
    "    # Save the HTML content to a file\n",
    "    with open(\"infhfaculty.html\", \"w\", encoding=\"utf-8\") as html_file:\n",
    "        html_file.write(str(soup))\n",
    "    \n",
    "    print(\"HTML content saved as 'infhfaculty.html'\")\n",
    "\n",
    "else:\n",
    "    print(\"Failed to retrieve the web page. Status code:\", response.status_code)\n"
   ]
  },
  {
   "cell_type": "code",
   "execution_count": 4,
   "metadata": {},
   "outputs": [
    {
     "name": "stdout",
     "output_type": "stream",
     "text": [
      "<!DOCTYPE html>\n",
      "<html lang=\"\">\n",
      " <head>\n",
      "  <meta charset=\"utf-8\"/>\n",
      "  <meta content=\"IE=edge\" http-equiv=\"X-UA-Compatible\"/>\n",
      "  <meta content=\"width=device-width,initial-scale=1,minimum-scale=1,maximum-scale=1,user-scalable=no\" name=\"viewport\"/>\n",
      "  <link href=\"/favicon.ico\" rel=\"icon\"/>\n",
      "  <title>\n",
      "   Faculty Profile | HKUST(GZ)\n",
      "  </title>\n",
      "  <link href=\"/css/chunk-68bc8d83.24b819a5.css\" rel=\"prefetch\"/>\n",
      "  <link href=\"/css/chunk-75f8e0d6.59edb571.css\" rel=\"prefetch\"/>\n",
      "  <link href=\"/css/chunk-876f85d2.de927588.css\" rel=\"prefetch\"/>\n",
      "  <link href=\"/js/chunk-17674ada.8e51a3a0.js\" rel=\"prefetch\"/>\n",
      "  <link href=\"/js/chunk-68bc8d83.99ebc600.js\" rel=\"prefetch\"/>\n",
      "  <link href=\"/js/chunk-75f8e0d6.6e100b20.js\" rel=\"prefetch\"/>\n",
      "  <link href=\"/js/chunk-876f85d2.869022b3.js\" rel=\"prefetch\"/>\n",
      "  <link as=\"style\" href=\"/css/app.d4c609ae.css\" rel=\"preload\"/>\n",
      "  <link as=\"style\" href=\"/css/chunk-vendors.70e18e9e.css\" rel=\"preload\"/>\n",
      "  <link as=\"script\" href=\"/js/app.83fc59d3.js\" rel=\"preload\"/>\n",
      "  <link as=\"script\" href=\"/js/chunk-vendors.e8ec9803.js\" rel=\"preload\"/>\n",
      "  <link href=\"/css/chunk-vendors.70e18e9e.css\" rel=\"stylesheet\"/>\n",
      "  <link href=\"/css/app.d4c609ae.css\" rel=\"stylesheet\"/>\n",
      " </head>\n",
      " <body>\n",
      "  <noscript>\n",
      "   <strong>\n",
      "    We're sorry but `Faculty Profile | HKUST(GZ)` doesn't work properly without JavaScript enabled. Please enable it to continue.\n",
      "   </strong>\n",
      "  </noscript>\n",
      "  <div id=\"app\">\n",
      "  </div>\n",
      "  <script src=\"/js/chunk-vendors.e8ec9803.js\">\n",
      "  </script>\n",
      "  <script src=\"/js/app.83fc59d3.js\">\n",
      "  </script>\n",
      " </body>\n",
      "</html>\n",
      "\n"
     ]
    }
   ],
   "source": [
    "print(soup.prettify())"
   ]
  },
  {
   "cell_type": "markdown",
   "metadata": {},
   "source": [
    "Beautiful soup is primarily designed for parsing and navigating HTML and XML documents but not extracting JavaScript. Here we use webdrivers with Selenium to interact with JS script. "
   ]
  },
  {
   "cell_type": "code",
   "execution_count": 5,
   "metadata": {
    "scrolled": true
   },
   "outputs": [],
   "source": [
    "# Use Wdgedriver\n",
    "driver = webdriver.Edge(executable_path='C:/Users/cindy/OneDrive - HKUST (Guangzhou)/DSC/msedgedriver.exe')\n",
    "driver.get('https://facultyprofiles.hkust-gz.edu.cn/')\n",
    "\n",
    "# click info hub\n",
    "driver.find_element_by_xpath('//*[@id=\"app\"]/section/section/div/ul[1]/li[3]').click()\n",
    "time.sleep(5)\n",
    "\n",
    "#scrape with BeautifulSoup\n",
    "page_source = driver.page_source\n",
    "soup = BeautifulSoup(page_source, \"html.parser\")\n",
    "#find corresponding table for faculty table\n",
    "table = soup.find('table', class_='el-table__body')\n",
    "driver.quit()"
   ]
  },
  {
   "cell_type": "markdown",
   "metadata": {},
   "source": [
    "### (b) Extract Structured Data"
   ]
  },
  {
   "cell_type": "markdown",
   "metadata": {},
   "source": [
    "Please write code to extract relevant content (name, rank, area, profile, homepage, ...) from \"infhfaculty.html\" and save them as a CSV file (save as \"faculty_table.csv\"). "
   ]
  },
  {
   "cell_type": "markdown",
   "metadata": {},
   "source": [
    "### My answer: \n",
    "According to the CSV template provided, the result requires something like this: \n",
    "| Name       | Rank               | Area                                                                         | Profile                                                                                     | Homepage            | Email                  | Office    |\n",
    "|------------|--------------------|-------------------------------------------------------------------------------|---------------------------------------------------------------------------------------------|---------------------|------------------------|-----------|\n",
    "| Yuyu LUO  | Assistant Professor | Intelligent Visualization and Visual Analytics, Orchestrating Data Analytics Pipelines, Data-centric Artificial Intelligence, Data Management for Data Science | https://facultyprofiles.hkust-gz.edu.cn/faculty-personal-page/LUO-Yuyu/yuyuluo | https://luoyuyu.vip/ | yuyuluo@hkust-gz.edu.cn | E2 L6 615 |\n",
    "\n",
    "Here, we will try to create one.\n",
    "To get the area of interest, link to personal homepage and office locations, we have to click into each faculty members' personal profile to extract data."
   ]
  },
  {
   "cell_type": "code",
   "execution_count": 68,
   "metadata": {},
   "outputs": [],
   "source": [
    "# Initialize lists to store data\n",
    "names = []\n",
    "ranks = []\n",
    "areas = []\n",
    "profiles = []\n",
    "homepages = []\n",
    "emails = []\n",
    "offices = []"
   ]
  },
  {
   "cell_type": "code",
   "execution_count": 69,
   "metadata": {
    "scrolled": false
   },
   "outputs": [
    {
     "name": "stderr",
     "output_type": "stream",
     "text": [
      "C:\\Users\\cindy\\AppData\\Local\\Temp\\ipykernel_66964\\1256321869.py:45: DeprecationWarning: The 'text' argument to find()-type methods is deprecated. Use 'string' instead.\n",
      "  homepage_element = soup2.find('a', text='Personal Web')\n"
     ]
    },
    {
     "name": "stdout",
     "output_type": "stream",
     "text": [
      "Lei CHEN, Dean, Data-driven machine learning, Crowdsourcing-based data processing, Uncertain and probabilistic databases, Web information management, Multimedia systems, https://facultyprofiles.hkust-gz.edu.cn/faculty-personal-page/CHEN-Lei/leichen, https://facultyprofiles.ust.hk/profiles.php?profile=lei-chen-leichen, mailto:leichen@hkust-gz.edu.cn, E3 L5 511\n",
      "Pan HUI, Chair Professor, Mobile computing, Computer networking, Data analytics, Human-computer interaction, https://facultyprofiles.hkust-gz.edu.cn/faculty-personal-page/HUI-Pan/panhui, https://panhui.people.ust.hk, mailto:panhui@hkust-gz.edu.cn, E1 L6 605\n",
      "Vincent Kin Nang LAU, Chair Professor, Stochastic Optimization and Analysis for wireless systems, Massive MIMO Systems, Sparse Recovery, Bayesian Inferencing, Mission-Critical IoT, PHY Caching for Wireless Networks, https://facultyprofiles.hkust-gz.edu.cn/faculty-personal-page/LAU-KinNang/eeknlau, https://eeknlau.home.ece.ust.hk/HKUST-Office-HomePage/HKUST_Home.html, mailto:eeknlau@ust.hk, CWB Room 2416\n",
      "Irene Man Chi Lo, Chair Professor, Nanotechnology for environmental application, Wastewater treatment, Soil and groundwater remediation, Solid waste treatment and disposal, Fate and transport of nanoparticles, https://facultyprofiles.hkust-gz.edu.cn/faculty-personal-page/Lo-ManChi/cemclo, http://cemclo.people.ust.hk/, mailto:cemclo@ust.hk, CWB Campus, Room 3570\n",
      "Lionel Ming-Shuan NI, President, Big data, High-performance computing, Internet technologies, Mobile computing, Wireless networking, Intelligent computing, https://facultyprofiles.hkust-gz.edu.cn/faculty-personal-page/NI-LionelMing-Shuan/ni, https://president.hkust-gz.edu.cn/, mailto:ni@hkust-gz.edu.cn, C1 E L7\n",
      "Huamin QU, Chair Professor, , https://facultyprofiles.hkust-gz.edu.cn/faculty-personal-page/QU-Huamin/huamin, https://facultyprofiles.ust.hk/profiles.php?profile=huamin-qu-huamin, mailto:huamin@ust.hk, \n",
      "Fu-Gee TSUNG, Chair Professor, Industrial big data, Data Analytics, Statistical process control and monitoring, Quality engineering and management, https://facultyprofiles.hkust-gz.edu.cn/faculty-personal-page/TSUNG-Fu-Gee/season, https://facultyprofiles.ust.hk/profiles.php?profile=fugee-tsung-season, mailto:season@hkust-gz.edu.cn, E3 L4 402\n",
      "Hui XIONG, Associate Vice President (Knowledge Transfer), Data mining and knowledge discovery, big data analytics, mobile computing, business intelligence, information asurance, https://facultyprofiles.hkust-gz.edu.cn/faculty-personal-page/XIONG-Hui/xionghui, , mailto:xionghui@hkust-gz.edu.cn, E4 L3 314\n",
      "Liuqing YANG, Acting Thrust Head, Theory and applications of wireless communications and networking, Synergy of communications, sensing, and information processing, Multi-entity intelligence with applications to transportation and energy systems, https://facultyprofiles.hkust-gz.edu.cn/faculty-personal-page/YANG-Liuqing/lqyang, https://personal.hkust-gz.edu.cn/lqyang/, mailto:lqyang@hkust-gz.edu.cn, W1 L5 516\n",
      "Qiang YANG, Chair Professor, , https://facultyprofiles.hkust-gz.edu.cn/faculty-personal-page/YANG-Qiang/qyang, https://facultyprofiles.ust.hk/profiles.php?profile=qiang-yang-qyang, mailto:qyang@ust.hk, Room 3563\n",
      "Qian ZHANG, Chair Professor, Internet of Things (IoT), Smart Healthcare, Mobile computing and sensing, Blockchain infrastructure construction, Next-generation wireless networks, Cyber security, Cognitive radio networks and dynamic spectrum management, Network economics, Multimedia delivery over Internet, wireless, and wireless Internet, https://facultyprofiles.hkust-gz.edu.cn/faculty-personal-page/ZHANG-Qian/qianzh, https://cse.hkust.edu.hk/~qianzh/, mailto:qianzh@ust.hk, CWB Campus, Room 3544\n",
      "Xiaowen CHU, Acting Thrust Head, GPU computing, Distributed machine learning systems (including federated learning), Computer vision for autonomous vehicles, Vehicular networks, https://facultyprofiles.hkust-gz.edu.cn/faculty-personal-page/CHU-Xiaowen/xwchu, , mailto:xwchu@hkust-gz.edu.cn, E1 L6 603\n",
      "Qiong LUO, Professor, Database systems, Parallel and distributed systems, Accelerating data-intensive applications, https://facultyprofiles.hkust-gz.edu.cn/faculty-personal-page/LUO-Qiong/luo, , mailto:luo@hkust-gz.edu.cn, E1 L4 401\n",
      "Danny Hin Kwok TSANG, Thrust Head, Smart grids, Networking, Wireless networking, Cloud/Edge computing, https://facultyprofiles.hkust-gz.edu.cn/faculty-personal-page/TSANG-HinKwok/eetsang, http://c2e.ece.ust.hk/main/, mailto:eetsang@hkust-gz.edu.cn, W1 L6 605\n",
      "Wei WANG, Professor, Understanding high-dimensional data, Integration of database and artificial intelligence technologies, Knowledge graphs, Security issues of deep learning models, Cross-disciplinary research and applications, https://facultyprofiles.hkust-gz.edu.cn/faculty-personal-page/WANG-Wei/weiwcs, https://www.cse.ust.hk/~weiwcs/, mailto:weiwcs@hkust-gz.edu.cn, W4 L5 515\n",
      "Kaishun WU, Professor, Internet of Things, Wireless Networks, Wireless Communication, Mobile and Ubiquitous Computing, Pervasive Computing, Big Data, Smart e-Health, Industrial Networks, My recent research focuses on four main areas:   • Intelligent Sensing and Applications: device-free sensing of humans, acoustic sensing, vibration sensing • AI for Wireless: bringing AI to wireless networking, mobile cloud computing and edge computing, Federated Learning and Wireless Networks, AI for Wireless Resource Management and Optimization • IoT + AI Systems and Applications: building Internet of Things (IoT) systems with the AI technology to deepen and broaden the ways that we sense the physical world and enable innovative human-computer interactions • Data Science from Mobile and Ubiquitous Computing Perspectives with Applications to Smart Cities, https://facultyprofiles.hkust-gz.edu.cn/faculty-personal-page/WU-Kaishun/wuks, , mailto:wuks@hkust-gz.edu.cn, W4 L3 318\n",
      "Yang YANG, Associate Vice President (Teaching & Learning), (1)\tWireless sensor networks and Internet of Things., (2)\tMulti-tier computing networks., (3)\t5G/6G mobile communications., https://facultyprofiles.hkust-gz.edu.cn/faculty-personal-page/YANG-Yang/yyiot, , mailto:yyiot@hkust-gz.edu.cn, E1 L4 417, C1 E L7 718\n",
      "Kang ZHANG, Acting Thrust Head, Visual Languages可视化语言, Graph Grammars and Their Applications图文法及其应用, Computational Aesthetics计算美学, Generative Art生成艺术, Architectural Design建筑设计, Software Engineering软件工程, https://facultyprofiles.hkust-gz.edu.cn/faculty-personal-page/ZHANG-Kang/kzhangcma, , mailto:kzhangcma@hkust-gz.edu.cn, E4 L6 603\n",
      "Ying CUI, Associate Professor, Theory and applications of optimization and learning, Theory and applications of wireless communications, networking, and signal processing, IoT systems and communications, Mobile edge caching and computing, Federated learning and distributed learning, Multimedia transmission, https://facultyprofiles.hkust-gz.edu.cn/faculty-personal-page/CUI-Ying/yingcui, https://personal.hkust-gz.edu.cn/yingcui/index.html, mailto:yingcui@hkust-gz.edu.cn, E2 L6 602\n",
      "Xinyi HUANG, Associate Thrust Head, AI Security and Privacy, Blockchain, Applied Cryptography, https://facultyprofiles.hkust-gz.edu.cn/faculty-personal-page/HUANG-Xinyi/xinyi, , mailto:xinyi@hkust-gz.edu.cn, W3 L3 311\n",
      "Sung Hun KIM, Associate Professor, Programmer productivity, Identifying faults in program development or in deployed programs by mining software repositories, Source code (static analysis), Program execution (dynamic analysis), https://facultyprofiles.hkust-gz.edu.cn/faculty-personal-page/KIM-SungHun/hunkim, https://cse.hkust.edu.hk/~hunkim/, mailto:hunkim@hkust-gz.edu.cn, E3(C9) L5 507\n",
      "DIRK KUTSCHER, Associate Professor, Distributed computing and networking, Information-Centric networking, Infrastructure for data science and machine learning, Internet evolution, https://facultyprofiles.hkust-gz.edu.cn/faculty-personal-page/KUTSCHER-DIRK/dku, https://dirk-kutscher.info/, mailto:dku@ust.hk, \n",
      "Nan TANG, Associate Professor, Data-centric AI, AI for data preparation, https://facultyprofiles.hkust-gz.edu.cn/faculty-personal-page/TANG-Nan/nantang, https://nantang.github.io/research/, mailto:nantang@hkust-gz.edu.cn, E3 L6 601\n",
      "Felix Xin WANG, Associate Professor, 量子计算 Quantum Computing, 量子信息 Quantum Information, 量子纠错与缓释 Quantum Error Correction and Mitigation, 人工智能 Artificial Intelligence, 量子机器学习 Quantum Machine Learning, 量子软件与体系结构 Quantum Software and Architecture, https://facultyprofiles.hkust-gz.edu.cn/faculty-personal-page/WANG-Xin/felixxinwang, https://www.xinwang.info/, mailto:felixxinwang@hkust-gz.edu.cn, W2 L5 503\n"
     ]
    },
    {
     "name": "stdout",
     "output_type": "stream",
     "text": [
      "Sean Sihong XIE, Associate Professor, Responsible machine learning on graphs, Data-Centric AI, Misinformation detection, https://facultyprofiles.hkust-gz.edu.cn/faculty-personal-page/XIE-Sihong/sihongxie, , mailto:sihongxie@hkust-gz.edu.cn, E4 L3 306\n",
      "Tengfei CHANG, Assistant Professor, Low-Power Wireless Mesh Networks, Indoor Wireless Localization, Sensor Fusion, Swarm Robotics/Intelligence, https://facultyprofiles.hkust-gz.edu.cn/faculty-personal-page/CHANG-Tengfei/tengfeichang, , mailto:tengfeichang@hkust-gz.edu.cn, W2(C8) L6 606\n",
      "Huangxun CHEN, Assistant Professor, Internet of Things, Cyber-physical/AI Security, Intelligent Network OAM, Human-centered Interaction System, https://facultyprofiles.hkust-gz.edu.cn/faculty-personal-page/CHEN-Huangxun/huangxunchen, https://www.chenhuangxun.com/, mailto:huangxunchen@hkust-gz.edu.cn, E1 L6 606\n",
      "Yingcong CHEN, Assistant Professor, Computer Vision, Machine Learning, https://facultyprofiles.hkust-gz.edu.cn/faculty-personal-page/CHEN-Yingcong/yingcongchen, https://www.yingcong.me/, mailto:yingcongchen@hkust-gz.edu.cn, W1 L5 504\n",
      "Mingming FAN, Assistant Professor, Human-Computer Interaction (HCI), Virtual Reality (VR) / Augmented Reality (AR) / Metaverse: Input/Output techniques, Novel Applications, and Empirical Studies, Accessibility and Aging (especially Assistive Technology Design for People with Different Types of Disabilities and Older Adults), Human-AI Collaboration, Ubiquitous Sensing Techniques and Applications, User Experience (UX), Social Computing and Computational Social Science, Creativity Support Tool Design, https://facultyprofiles.hkust-gz.edu.cn/faculty-personal-page/FAN-Mingming/mingmingfan, https://www.mingmingfan.com, mailto:mingmingfan@hkust-gz.edu.cn, E2 L6 611\n",
      "Zijun GONG, Assistant Professor, Signal processing for wireless communications, Channel estimation and channel tracking, Array signal processing for communications and localization, Stochastic signal process and optimization, Target detection recognition, localization and tracking (Radar and Sonar), https://facultyprofiles.hkust-gz.edu.cn/faculty-personal-page/GONG-Zijun/gongzijun, , mailto:gongzijun@hkust-gz.edu.cn, W4 L6 617\n",
      "Varvara GULJAJEVA, Assistant Professor, , https://facultyprofiles.hkust-gz.edu.cn/faculty-personal-page/GULJAJEVA-Varvara/varvarag, http://var-mar.info/, mailto:varvarag@hkust-gz.edu.cn, E1 L6 613\n",
      "Guobiao HU, Assistant Professor, Vibration energy harvesting, Acoustic-elastic metamaterials, Smart materials and structures, Nonlinear dynamics and vibration, Structural health monitoring, https://facultyprofiles.hkust-gz.edu.cn/faculty-personal-page/HU-Guobiao/guobiaohu, , mailto:guobiaohu@hkust-gz.edu.cn, W4 L4 409\n",
      "Zhilu LAI, Assistant Professor, , https://facultyprofiles.hkust-gz.edu.cn/faculty-personal-page/LAI-Zhilu/zhilulai, https://zlaidyn.github.io/, mailto:zhilulai@ust.hk, E1 (C9) L6 614\n",
      "Jia LI, Assistant Professor, Graph Learning, e.g., Hierarchical Graph Neural Networks, Deconvolutional Networks on graph, Data Mining, e.g., anomaly detection, AI for Science, e.g., drug discovery, healthcare, https://facultyprofiles.hkust-gz.edu.cn/faculty-personal-page/LI-Jia/jialee, https://sites.google.com/view/lijia, mailto:jialee@hkust-gz.edu.cn, W2 L6 605\n",
      "Lei LI, Assistant Professor, Spatial Database Management, Graph, Machine Learning, Distributed Database, https://facultyprofiles.hkust-gz.edu.cn/faculty-personal-page/LI-Lei/thorli, , mailto:thorli@hkust-gz.edu.cn, W4 L6 611\n",
      "Junwei LIANG, Assistant Professor, Human trajectory forecasting, Action recognition, Large-scale computer vision, Video analytics in general, https://facultyprofiles.hkust-gz.edu.cn/faculty-personal-page/LIANG-Junwei/junweiliang, , mailto:junweiliang@hkust-gz.edu.cn, E4(C9) L3 304\n",
      "Yuxuan LIANG, Assistant Professor, , https://facultyprofiles.hkust-gz.edu.cn/faculty-personal-page/LIANG-Yuxuan/yuxuanliang, https://citymind.top/, mailto:yuxuanliang@hkust-gz.edu.cn, W2 L5 511\n",
      "Hao LIU, Assistant Professor, data mining, machine learning, ig data management, with a special focus on mobile analytics and urban computing, https://facultyprofiles.hkust-gz.edu.cn/faculty-personal-page/LIU-Hao/liuh, https://raymondhliu.github.io/, mailto:liuh@hkust-gz.edu.cn, E3 L5 503\n",
      "Li LIU, Assistant Professor, · Few-shot Learning, · AI Security and Transferability, · AI for Medical Imaging, · Audio-visual Cued Speech Recognition/Generation, https://facultyprofiles.hkust-gz.edu.cn/faculty-personal-page/LIU-Li/avrillliu, https://liliu-avril.github.io/, mailto:avrillliu@hkust-gz.edu.cn, E4 L4 405\n",
      "Yuyu LUO, Assistant Professor, Intelligent Visualization and Visual Analytics, Orchestrating Data Analytics Pipelines, Data-centric Artificial Intelligence, Data Management for Data Science, https://facultyprofiles.hkust-gz.edu.cn/faculty-personal-page/LUO-Yuyu/yuyuluo, https://luoyuyu.vip/, mailto:yuyuluo@hkust-gz.edu.cn, E2 L6 615\n",
      "RAUL GIANCARLO MARIA MASU, Assistant Professor, New Interfaces for musical expression, Human-Computer Interaction, Sustainable HCI, Embodied Interaction, Sonic Interaction Design, Computer Music, https://facultyprofiles.hkust-gz.edu.cn/faculty-personal-page/MASU-RAULGIANCARLOMARIA/raulmasu, , mailto:raulmasu@hkust-gz.edu.cn, E4 L4 415\n",
      "Ying SUN, Assistant Professor, Explainable Artificial Intelligence, Data Mining, Machine Learning, https://facultyprofiles.hkust-gz.edu.cn/faculty-personal-page/SUN-Ying/yings, , mailto:yings@hkust-gz.edu.cn, E4(C9)  L3 308\n",
      "Jing TANG, Assistant Professor, Big Data Management and Analytics, Social Network and Graph Analysis, Machine Learning, Blockchains, https://facultyprofiles.hkust-gz.edu.cn/faculty-personal-page/TANG-Jing/jingtang, https://sites.google.com/view/jtang, mailto:jingtang@hkust-gz.edu.cn, E3 L5 508\n",
      "Gareth John TYSON, Assistant Professor, Internet Measurements, Social Computing, Web, Cybersafety, https://facultyprofiles.hkust-gz.edu.cn/faculty-personal-page/TYSON-GarethJohn/gtyson, , mailto:gtyson@hkust-gz.edu.cn, E1 L5 504\n",
      "Hao WANG, Assistant Professor, Multimodal Learning, Computer Vision, Generative AI, https://facultyprofiles.hkust-gz.edu.cn/faculty-personal-page/WANG-Hao/haowang, https://wanghao.tech, mailto:haowang@hkust-gz.edu.cn, E4 L5 503\n",
      "Addison Lin WANG, Assistant Professor, Computer vision, Computational photography, Deep learning, Intelligent systems, https://facultyprofiles.hkust-gz.edu.cn/faculty-personal-page/WANG-Lin/linwang, https://vlislab22.github.io/vlislab, mailto:linwang@hkust-gz.edu.cn, E1 L4 407\n",
      "Wenjia WANG, Assistant Professor, Uncertainty Quantification, Stochastic Simulation, Machine learning, Nonparametric Statistics, Computer Experiments, https://facultyprofiles.hkust-gz.edu.cn/faculty-personal-page/WANG-Wenjia/wenjiawang, https://www.wenjia-w.com/biography, mailto:wenjiawang@hkust-gz.edu.cn, W4 L3 310\n",
      "Zeyu WANG, Assistant Professor, Drawing analysis and intelligent interfaces, including non-photorealistic rendering and sketch-based modeling, Virtual/augmented/extended reality, including 3D scene capture, processing, and editing using LiDAR data, Procedural modeling, including parametric generation of visual media like 3D shapes, appearances, and videos, AI-based content generation, including neural rendering, digital humans, multimodal creation with text-audio-visual information, Applications in art, design, perception, and cultural heritage, such as digitization of Longmen Grottoes and Dunhuang dance, https://facultyprofiles.hkust-gz.edu.cn/faculty-personal-page/WANG-Zeyu/zeyuwang, https://zachzeyuwang.github.io/, mailto:zeyuwang@ust.hk, E2 L3 309\n",
      "Zeyi WEN, Assistant Professor, Machine Learning Systems, Automatic Machine Learning, and High-Performance Computing, https://facultyprofiles.hkust-gz.edu.cn/faculty-personal-page/WEN-Zeyi/wenzeyi, , mailto:wenzeyi@hkust-gz.edu.cn, E2 L3 312\n",
      "Hong XING, Assistant Professor, , https://facultyprofiles.hkust-gz.edu.cn/faculty-personal-page/XING-Hong/hongxing, , mailto:hongxing@hkust-gz.edu.cn, W4 (C8) L4 416\n",
      "David Kei Man YIP, Assistant Professor, , https://facultyprofiles.hkust-gz.edu.cn/faculty-personal-page/YIP-DavidKeiMan/daveyip, https://www.daveyip.com/, mailto:daveyip@hkust-gz.edu.cn, E2 L3 302\n",
      "Luwen YU, Assistant Professor, , https://facultyprofiles.hkust-gz.edu.cn/faculty-personal-page/YU-Luwen/luwenyu, , mailto:luwenyu@hkust-gz.edu.cn, E3 L3 307\n"
     ]
    },
    {
     "name": "stdout",
     "output_type": "stream",
     "text": [
      "Wei ZENG, Assistant Professor, , https://facultyprofiles.hkust-gz.edu.cn/faculty-personal-page/ZENG-Wei/weizeng, http://zeng-wei.com/, mailto:weizeng@hkust-gz.edu.cn, W1 L6 601\n",
      "Theodoros PAPATHEODOROU, Associate Thrust Head, , https://facultyprofiles.hkust-gz.edu.cn/faculty-personal-page/PAPATHEODOROU-Theodoros/theodoros, , mailto:theodoros@hkust-gz.edu.cn, E2 L3 308\n",
      "Rui HU, Lecturer I, Media Arts (applied computer graphics in art, simulation, game, and virtual reality in art; film and animation; installation art), Philosophy (time, causation, process, simulation), https://facultyprofiles.hkust-gz.edu.cn/faculty-personal-page/HU-Rui/ruihu, https://hurui.ooo/, mailto:ruihu@hkust-gz.edu.cn, E1 L4 406\n",
      "Jake Junjie ZHANG, Lecturer I, , https://facultyprofiles.hkust-gz.edu.cn/faculty-personal-page/ZHANG-Junjie/jakezhang, https://www.jakeanime.com/, mailto:jakezhang@hkust-gz.edu.cn, E2 L5 506\n",
      "Meihui ZHANG, Visiting Professor, , https://facultyprofiles.hkust-gz.edu.cn/faculty-personal-page/ZHANG-Meihui/meihuizhang, , mailto:meihuizhang@hkust-gz.edu.cn, \n",
      "Xiao Fang ZHOU, Affiliate Professor, , https://facultyprofiles.hkust-gz.edu.cn/faculty-personal-page/ZHOU-XiaoFang/zxf, https://sites.google.com/view/xiaofang-zhou, mailto:zxf@ust.hk, Room 2542\n",
      "Xiang CHENG, Adjunct Professor, , https://facultyprofiles.hkust-gz.edu.cn/faculty-personal-page/CHENG-Xiang/2259, , mailto:null, \n",
      "Jian GUO, Adjunct Professor, , https://facultyprofiles.hkust-gz.edu.cn/faculty-personal-page/GUO-Jian/jianguo, , mailto:jianguo@hkust-gz.edu.cn, \n",
      "Feifei LI, Adjunct Professor, , https://facultyprofiles.hkust-gz.edu.cn/faculty-personal-page/LI-Feifei/983, , mailto:null, \n",
      "Hang LI, Adjunct Professor, , https://facultyprofiles.hkust-gz.edu.cn/faculty-personal-page/LI-Hang/982, , mailto:null, \n",
      "Shipeng LI, Adjunct Professor, , https://facultyprofiles.hkust-gz.edu.cn/faculty-personal-page/LI-Shipeng/shipengli, , mailto:shipengli@hkust-gz.edu.cn, \n",
      "Jiangchuan LIU, Adjunct Professor, , https://facultyprofiles.hkust-gz.edu.cn/faculty-personal-page/LIU-Jiangchuan/2452, , mailto:null, \n",
      "Tie-Yan LIU, Adjunct Professor, , https://facultyprofiles.hkust-gz.edu.cn/faculty-personal-page/LIU-Tie-Yan/987, , mailto:null, \n",
      "Dou SHEN, Adjunct Professor, , https://facultyprofiles.hkust-gz.edu.cn/faculty-personal-page/SHEN-Dou/989, , mailto:null, \n",
      "Keyang TANG, Adjunct Professor, , https://facultyprofiles.hkust-gz.edu.cn/faculty-personal-page/TANG-Keyang/keyangtang, , mailto:keyangtang@hkust-gz.edu.cn, \n",
      "Da Cheng TAO, Adjunct Professor, , https://facultyprofiles.hkust-gz.edu.cn/faculty-personal-page/TAO-DaCheng/988, , mailto:null, \n",
      "Xiaoyu WANG, Adjunct Professor, , https://facultyprofiles.hkust-gz.edu.cn/faculty-personal-page/WANG-Xiaoyu/kevinxywang, , mailto:kevinxywang@hkust-gz.edu.cn, \n",
      "Xing XIE, Adjunct Professor, , https://facultyprofiles.hkust-gz.edu.cn/faculty-personal-page/XIE-Xing/xingxie, , mailto:xingxie@hkust-gz.edu.cn, \n",
      "Jie Ping YE, Adjunct Professor, , https://facultyprofiles.hkust-gz.edu.cn/faculty-personal-page/YE-JiePing/990, , mailto:null, \n",
      "Jing YUAN, Adjunct Professor, , https://facultyprofiles.hkust-gz.edu.cn/faculty-personal-page/YUAN-Jing/jingyuan, , mailto:jingyuan@hkust-gz.edu.cn, \n",
      "Liang TAN, Adjunct Associate Professor, , https://facultyprofiles.hkust-gz.edu.cn/faculty-personal-page/TAN-Liang/1654969293621956610, , mailto:null, \n",
      "Qian XU, Adjunct Associate Professor, , https://facultyprofiles.hkust-gz.edu.cn/faculty-personal-page/XU-Qian/1704616451664777216, , mailto:null, \n",
      "Dian ZHANG, Adjunct Associate Professor, , https://facultyprofiles.hkust-gz.edu.cn/faculty-personal-page/ZHANG-Dian/1701354998665056256, , mailto:null, \n",
      "Haijie HU, Professor of Practice, 1）Narrative Space Design, 2）Hybrid Field, 3）Shy-tech, https://facultyprofiles.hkust-gz.edu.cn/faculty-personal-page/HU-Haijie/1599886379146547200, , mailto:null, \n",
      "Bo Wen ZHOU, Professor of Practice, , https://facultyprofiles.hkust-gz.edu.cn/faculty-personal-page/ZHOU-BoWen/bowenzhou, , mailto:bowenzhou@hkust-gz.edu.cn, \n",
      "Chen ZHANG, Associate Professor of Practice, , https://facultyprofiles.hkust-gz.edu.cn/faculty-personal-page/ZHANG-Chen/chenzhang, , mailto:chenzhang@hkust-gz.edu.cn, \n"
     ]
    }
   ],
   "source": [
    "# execute with my edgedrive from PATH\n",
    "driver = webdriver.Edge(executable_path='C:/Users/cindy/OneDrive - HKUST (Guangzhou)/DSC/msedgedriver.exe')\n",
    "# get data from faculty webpage\n",
    "driver.get('https://facultyprofiles.hkust-gz.edu.cn/')\n",
    "\n",
    "#press 'info hub' to extract relevant hub\n",
    "driver.find_element_by_xpath('//*[@id=\"app\"]/section/section/div/ul[1]/li[3]').click()\n",
    "time.sleep(2)\n",
    "# 'links' indicate the 'More' buttons\n",
    "links = driver.find_elements_by_css_selector('button.el-button.el-button--text.more-btn')\n",
    "\n",
    "# Go to each personal webpage by redirecting with the 'More' button \n",
    "for i,link in enumerate(links,start=1): \n",
    "    try: \n",
    "        # click 'More' and shift driver to new tab\n",
    "        link.click()  \n",
    "        time.sleep(2)\n",
    "        all_handles = driver.window_handles\n",
    "        driver.switch_to.window(all_handles[1])\n",
    "\n",
    "        # click 'Research interests' and scrape using ccs selecter (differ for each page)\n",
    "        time.sleep(3)\n",
    "        driver.element = driver.find_element_by_xpath(\"//div[contains(text(), 'RESEARCH INTEREST')]\").click()\n",
    "        time.sleep(3)\n",
    "        new_page_source = driver.page_source\n",
    "        soup2 = BeautifulSoup(new_page_source, \"html.parser\")\n",
    "        \n",
    "        # get name\n",
    "        name = soup2.find('h2', {'class': 'english-name'}).get_text(strip=True)\n",
    "        \n",
    "        # get rank\n",
    "        rank = soup2.find('p', {'class': 'positions-class'}).get_text(strip=True)\n",
    "        \n",
    "        # get area by finding the div with class \"overview-div\"\n",
    "        area_div = soup2.find('div', {'class': 'overview-div'})\n",
    "        if area_div:\n",
    "            # Find all <p> elements within the div with class \"content\" and extract their text\n",
    "            area_elements = area_div.find_all('p', {'class': 'content'})\n",
    "            # Extract the text from each <p> element and join them with a comma\n",
    "            area = ', '.join([element.get_text(strip=True) for element in area_elements])\n",
    "        else:\n",
    "            area = ''\n",
    "\n",
    "        # get profile (this webpage link)\n",
    "        profile = driver.current_url\n",
    "        #get personal webpage\n",
    "        homepage_element = soup2.find('a', text='Personal Web')\n",
    "        homepage = homepage_element['href'] \n",
    "        \n",
    "        # get email\n",
    "        mailto_link =  soup2.find('a', class_='icon-text', href=lambda x: x.startswith('mailto:'))\n",
    "        email = mailto_link['href']\n",
    "\n",
    "        # get office location\n",
    "        office =  soup2.find('p', {'class': 'icon-text'}).get_text(strip=True)\n",
    "        print(name + ', '+ rank +', '+ area +', '+ profile+', '+\n",
    "              homepage +', '+ email +', '+ office)\n",
    "        \n",
    "        #put each element into the list \n",
    "        names.append(name)\n",
    "        ranks.append(rank)\n",
    "        areas.append(area)  \n",
    "        profiles.append(profile)  \n",
    "        homepages.append(homepage)\n",
    "        emails.append(email)\n",
    "        offices.append(office)\n",
    "        \n",
    "        driver.close()\n",
    "        # Switch back to the first window or tab (index 0)\n",
    "        driver.switch_to.window(driver.window_handles[0])\n",
    "        \n",
    "    except Exception as e:\n",
    "        print(f\"An error occurred: {str(e)}\")\n",
    "\n",
    "# close the webdiver\n",
    "driver.quit()"
   ]
  },
  {
   "cell_type": "code",
   "execution_count": 74,
   "metadata": {},
   "outputs": [],
   "source": [
    "# make it as csv file\n",
    "with open('faculty_data.csv', 'w', newline='', encoding=\"utf-8\") as csvfile:\n",
    "    fieldnames = ['Name', 'Rank', 'Area', 'Profile', 'Homepage', 'Email', 'Office']\n",
    "    writer = csv.DictWriter(csvfile, fieldnames=fieldnames)\n",
    "\n",
    "    writer.writeheader()\n",
    "    \n",
    "    for i in range(len(names)):\n",
    "        # remove the 'mailto:' in emaila\n",
    "        email_without_prefix = emails[i].replace('mailto:', '')\n",
    "        # write the csv \n",
    "        writer.writerow({\n",
    "            'Name': names[i],\n",
    "            'Rank': ranks[i],\n",
    "            'Area': areas[i],\n",
    "            'Profile': profiles[i],\n",
    "            'Homepage': homepages[i],\n",
    "            'Email': email_without_prefix,\n",
    "            'Office': offices[i]\n",
    "        })\n"
   ]
  },
  {
   "cell_type": "code",
   "execution_count": 75,
   "metadata": {},
   "outputs": [
    {
     "data": {
      "text/html": [
       "<div>\n",
       "<style scoped>\n",
       "    .dataframe tbody tr th:only-of-type {\n",
       "        vertical-align: middle;\n",
       "    }\n",
       "\n",
       "    .dataframe tbody tr th {\n",
       "        vertical-align: top;\n",
       "    }\n",
       "\n",
       "    .dataframe thead th {\n",
       "        text-align: right;\n",
       "    }\n",
       "</style>\n",
       "<table border=\"1\" class=\"dataframe\">\n",
       "  <thead>\n",
       "    <tr style=\"text-align: right;\">\n",
       "      <th></th>\n",
       "      <th>Name</th>\n",
       "      <th>Rank</th>\n",
       "      <th>Area</th>\n",
       "      <th>Profile</th>\n",
       "      <th>Homepage</th>\n",
       "      <th>Email</th>\n",
       "      <th>Office</th>\n",
       "    </tr>\n",
       "  </thead>\n",
       "  <tbody>\n",
       "    <tr>\n",
       "      <th>0</th>\n",
       "      <td>Lei CHEN</td>\n",
       "      <td>Dean</td>\n",
       "      <td>Data-driven machine learning, Crowdsourcing-ba...</td>\n",
       "      <td>https://facultyprofiles.hkust-gz.edu.cn/facult...</td>\n",
       "      <td>https://facultyprofiles.ust.hk/profiles.php?pr...</td>\n",
       "      <td>leichen@hkust-gz.edu.cn</td>\n",
       "      <td>E3 L5 511</td>\n",
       "    </tr>\n",
       "    <tr>\n",
       "      <th>1</th>\n",
       "      <td>Pan HUI</td>\n",
       "      <td>Chair Professor</td>\n",
       "      <td>Mobile computing, Computer networking, Data an...</td>\n",
       "      <td>https://facultyprofiles.hkust-gz.edu.cn/facult...</td>\n",
       "      <td>https://panhui.people.ust.hk</td>\n",
       "      <td>panhui@hkust-gz.edu.cn</td>\n",
       "      <td>E1 L6 605</td>\n",
       "    </tr>\n",
       "    <tr>\n",
       "      <th>2</th>\n",
       "      <td>Vincent Kin Nang LAU</td>\n",
       "      <td>Chair Professor</td>\n",
       "      <td>Stochastic Optimization and Analysis for wirel...</td>\n",
       "      <td>https://facultyprofiles.hkust-gz.edu.cn/facult...</td>\n",
       "      <td>https://eeknlau.home.ece.ust.hk/HKUST-Office-H...</td>\n",
       "      <td>eeknlau@ust.hk</td>\n",
       "      <td>CWB Room 2416</td>\n",
       "    </tr>\n",
       "    <tr>\n",
       "      <th>3</th>\n",
       "      <td>Irene Man Chi Lo</td>\n",
       "      <td>Chair Professor</td>\n",
       "      <td>Nanotechnology for environmental application, ...</td>\n",
       "      <td>https://facultyprofiles.hkust-gz.edu.cn/facult...</td>\n",
       "      <td>http://cemclo.people.ust.hk/</td>\n",
       "      <td>cemclo@ust.hk</td>\n",
       "      <td>CWB Campus, Room 3570</td>\n",
       "    </tr>\n",
       "    <tr>\n",
       "      <th>4</th>\n",
       "      <td>Lionel Ming-Shuan NI</td>\n",
       "      <td>President</td>\n",
       "      <td>Big data, High-performance computing, Internet...</td>\n",
       "      <td>https://facultyprofiles.hkust-gz.edu.cn/facult...</td>\n",
       "      <td>https://president.hkust-gz.edu.cn/</td>\n",
       "      <td>ni@hkust-gz.edu.cn</td>\n",
       "      <td>C1 E L7</td>\n",
       "    </tr>\n",
       "  </tbody>\n",
       "</table>\n",
       "</div>"
      ],
      "text/plain": [
       "                   Name             Rank  \\\n",
       "0              Lei CHEN             Dean   \n",
       "1               Pan HUI  Chair Professor   \n",
       "2  Vincent Kin Nang LAU  Chair Professor   \n",
       "3      Irene Man Chi Lo  Chair Professor   \n",
       "4  Lionel Ming-Shuan NI        President   \n",
       "\n",
       "                                                Area  \\\n",
       "0  Data-driven machine learning, Crowdsourcing-ba...   \n",
       "1  Mobile computing, Computer networking, Data an...   \n",
       "2  Stochastic Optimization and Analysis for wirel...   \n",
       "3  Nanotechnology for environmental application, ...   \n",
       "4  Big data, High-performance computing, Internet...   \n",
       "\n",
       "                                             Profile  \\\n",
       "0  https://facultyprofiles.hkust-gz.edu.cn/facult...   \n",
       "1  https://facultyprofiles.hkust-gz.edu.cn/facult...   \n",
       "2  https://facultyprofiles.hkust-gz.edu.cn/facult...   \n",
       "3  https://facultyprofiles.hkust-gz.edu.cn/facult...   \n",
       "4  https://facultyprofiles.hkust-gz.edu.cn/facult...   \n",
       "\n",
       "                                            Homepage                    Email  \\\n",
       "0  https://facultyprofiles.ust.hk/profiles.php?pr...  leichen@hkust-gz.edu.cn   \n",
       "1                       https://panhui.people.ust.hk   panhui@hkust-gz.edu.cn   \n",
       "2  https://eeknlau.home.ece.ust.hk/HKUST-Office-H...           eeknlau@ust.hk   \n",
       "3                       http://cemclo.people.ust.hk/            cemclo@ust.hk   \n",
       "4                 https://president.hkust-gz.edu.cn/       ni@hkust-gz.edu.cn   \n",
       "\n",
       "                  Office  \n",
       "0              E3 L5 511  \n",
       "1              E1 L6 605  \n",
       "2          CWB Room 2416  \n",
       "3  CWB Campus, Room 3570  \n",
       "4                C1 E L7  "
      ]
     },
     "execution_count": 75,
     "metadata": {},
     "output_type": "execute_result"
    }
   ],
   "source": [
    "# check first few rows of csv file\n",
    "df = pd.read_csv('faculty_data.csv')\n",
    "df.head()"
   ]
  },
  {
   "cell_type": "markdown",
   "metadata": {},
   "source": [
    "Please see the attachment for details."
   ]
  },
  {
   "cell_type": "markdown",
   "metadata": {},
   "source": [
    "### (c) Interesting Finding"
   ]
  },
  {
   "cell_type": "markdown",
   "metadata": {},
   "source": [
    "Note that you don't need to do anything for Task 1(c). The purpose of this part is to give you some sense about how to leverage Exploratory Data Analysis (EDA) to come up with interesting questions about the data. EDA is an important topic in data science; you will  learn it soon from this course. \n",
    "\n",
    "\n",
    "First, please install [dataprep](http://dataprep.ai).\n",
    "Then, run the cell below. \n",
    "It shows a bar chart for every column. What interesting findings can you get from these visualizations? "
   ]
  },
  {
   "cell_type": "markdown",
   "metadata": {},
   "source": [
    "### My answer: "
   ]
  },
  {
   "cell_type": "markdown",
   "metadata": {},
   "source": [
    "Since markupsafe remove unicode, I tried downgrading markupsafe to 2.0.1, but this version is incompatible with python v3.11 or above."
   ]
  },
  {
   "cell_type": "code",
   "execution_count": null,
   "metadata": {},
   "outputs": [],
   "source": [
    "'''# since markupsafe remove unicode, marksafe has to be downgraded\n",
    "#downgraded version is incompatible with python v3.11 or above\n",
    "!pip install MarkupSafe==2.0.1\n",
    "!pip install dataprep\n",
    "'''"
   ]
  },
  {
   "cell_type": "code",
   "execution_count": null,
   "metadata": {
    "scrolled": true
   },
   "outputs": [],
   "source": [
    "'''from dataprep.eda import plot\n",
    "\n",
    "df = pd.read_csv(\"faculty_table.csv\")\n",
    "plot(df)'''"
   ]
  },
  {
   "cell_type": "markdown",
   "metadata": {},
   "source": [
    "Below are some examples:\n",
    "\n",
    "**Finding 1:** Assistant Professor# (~76) is more than 5x larger than Associate Professor# (10). \n",
    "\n",
    "**Questions:** Why did it happen? Is it common in all CS schools in the world? Will the gap go larger or smaller in five years? What actions can be taken to enlarge/shrink the gap?\n",
    "\n",
    "\n",
    "**Finding 2:** The Homepage has 22% missing values. \n",
    "\n",
    "**Questions:** Why are there so many missing values? Is it because many faculty do not have their own homepages or do not add their homepages to the school page? What actions can be taken to avoid this to happen in the future? "
   ]
  },
  {
   "cell_type": "markdown",
   "metadata": {},
   "source": [
    "## Task 2: Age Follows Normal Distribution?"
   ]
  },
  {
   "cell_type": "markdown",
   "metadata": {},
   "source": [
    "In this task, you start with a question and then figure out what data to collect.\n",
    "\n",
    "The question that you are interested in is `Does HKUST(GZ) Info Hub faculty age follow a normal distribution?`\n",
    "\n",
    "To estimate the age of a faculty member, you can collect the year in which s/he graduates from a university (`gradyear`) and then estimate `age` using the following equation:\n",
    "\n",
    "$$age \\approx 2023+23 - gradyear$$\n",
    "\n",
    "For example, if one graduates from a university in 1990, then the age is estimated as 2023+23-1990 = 56. \n",
    "\n"
   ]
  },
  {
   "cell_type": "markdown",
   "metadata": {},
   "source": [
    "### (a) Crawl Web Page"
   ]
  },
  {
   "cell_type": "markdown",
   "metadata": {},
   "source": [
    "You notice that faculty profile pages contain graduation information. For example, you can see that Dr. Yuyu LUO graduated from Tsinghua University in 2023 at [https://facultyprofiles.hkust-gz.edu.cn/faculty-personal-page/LUO-Yuyu/yuyuluo](https://facultyprofiles.hkust-gz.edu.cn/faculty-personal-page/LUO-Yuyu/yuyuluo). \n",
    "\n",
    "\n",
    "Please write code to download the profile pages (info hub faculties) and save each page as a text file. "
   ]
  },
  {
   "cell_type": "markdown",
   "metadata": {},
   "source": [
    "### My answer:"
   ]
  },
  {
   "cell_type": "code",
   "execution_count": 7,
   "metadata": {
    "scrolled": false
   },
   "outputs": [],
   "source": [
    "# call Edgedriver\n",
    "driver = webdriver.Edge(executable_path='C:/Users/cindy/OneDrive - HKUST (Guangzhou)/DSC/msedgedriver.exe')\n",
    "\n",
    "# go to desired webpage\n",
    "try: \n",
    "    driver.get('https://facultyprofiles.hkust-gz.edu.cn/')\n",
    "    #go to info hub\n",
    "    driver.find_element_by_xpath('//*[@id=\"app\"]/section/section/div/ul[1]/li[3]').click()\n",
    "    time.sleep(3)\n",
    "    links = driver.find_elements_by_css_selector('button.el-button.el-button--text.more-btn')\n",
    "\n",
    "    for i,link in enumerate(links,start=1): \n",
    "        #scroll to the n-th link, it may be out of the initially visible area\n",
    "        link.click()  \n",
    "        time.sleep(1)\n",
    "        all_handles = driver.window_handles\n",
    "        driver.switch_to.window(all_handles[1])\n",
    "        new_page_source = driver.page_source\n",
    "        #find corresponding table for info\n",
    "        with open(f'profile_{i}.txt', 'w', encoding='utf-8') as file:\n",
    "            file.write(new_page_source)\n",
    "        time.sleep(1)\n",
    "        driver.close()\n",
    "        # Switch back to the first window or tab (index 0)\n",
    "        driver.switch_to.window(driver.window_handles[0])\n",
    "\n",
    "except Exception as e:\n",
    "    print(f'An error has occurred: {str(e)}')\n",
    "\n",
    "finally:\n",
    "    # Close the WebDriver\n",
    "    driver.quit()\n",
    "\n"
   ]
  },
  {
   "cell_type": "markdown",
   "metadata": {},
   "source": [
    "### (b) Extract Structured Data"
   ]
  },
  {
   "cell_type": "markdown",
   "metadata": {},
   "source": [
    "Please write code to extract the earliest graduation year (e.g., 2023 for Dr. Yuyu LUO) from each profile page, and create a csv file like [faculty_grad_year.csv](./faculty_grad_year.csv). "
   ]
  },
  {
   "cell_type": "markdown",
   "metadata": {},
   "source": [
    "### My answer:"
   ]
  },
  {
   "cell_type": "code",
   "execution_count": 50,
   "metadata": {},
   "outputs": [],
   "source": [
    "# locate the path\n",
    "directory = 'C:/Users/cindy/OneDrive - HKUST (Guangzhou)/DSC/A1'"
   ]
  },
  {
   "cell_type": "code",
   "execution_count": 59,
   "metadata": {},
   "outputs": [
    {
     "name": "stdout",
     "output_type": "stream",
     "text": [
      "Data has been written to faculty_grad_year.csv\n"
     ]
    }
   ],
   "source": [
    "\n",
    "# Initialize an empty list to store the data\n",
    "data = []\n",
    "\n",
    "# Iterate over each text file in the directory\n",
    "for filename in os.listdir(directory):\n",
    "    if filename.endswith(\".txt\"):\n",
    "        # Read the text file\n",
    "        with open(os.path.join(directory, filename), 'r', encoding='utf-8') as file:\n",
    "            soup = BeautifulSoup(file, 'html.parser')\n",
    "\n",
    "            # Find the second <p> tag within the specified <div>\n",
    "            degree_detail_div = soup.find('div', {'class': 'degree-detail', 'data-v-bbc02c4e': ''})\n",
    "            second_p_tag = degree_detail_div.find_all('p')[1]\n",
    "\n",
    "            # Extract the text from the second <p> tag\n",
    "            name = soup.find('h2', {'class': 'english-name'}).get_text(strip=True)\n",
    "            # get the year\n",
    "            graduation = second_p_tag.get_text(strip=True)\n",
    "            year = re.sub(r'\\D', '', graduation)  # Strip out non-digit characters\n",
    "            data.append({'name': name, 'gradyear': year})\n",
    "            \n",
    "csv_filename = 'faculty_grad_year.csv'\n",
    "\n",
    "# Write the data to a CSV file\n",
    "with open(csv_filename, mode='w', newline='') as csv_file:\n",
    "    fieldnames = ['name', 'gradyear']\n",
    "    writer = csv.DictWriter(csv_file, fieldnames=fieldnames)\n",
    "\n",
    "    # Write the header row\n",
    "    writer.writeheader()\n",
    "\n",
    "    # Write the data rows\n",
    "    writer.writerows(data)\n",
    "\n",
    "print(f'Data has been written to {csv_filename}')\n"
   ]
  },
  {
   "cell_type": "markdown",
   "metadata": {},
   "source": [
    "Please see the attachment for details."
   ]
  },
  {
   "cell_type": "markdown",
   "metadata": {},
   "source": [
    "### (c) Interesting Finding"
   ]
  },
  {
   "cell_type": "markdown",
   "metadata": {},
   "source": [
    "### My answer: \n"
   ]
  },
  {
   "cell_type": "code",
   "execution_count": null,
   "metadata": {},
   "outputs": [],
   "source": [
    "# Add data to the list\n",
    "data.append({'Name': filename, 'Earliest Graduation Year': earliest_year})\n",
    "\n",
    "# Create a DataFrame from the collected data\n",
    "df = pd.DataFrame(data)\n",
    "\n",
    "# Save the DataFrame to a CSV file\n",
    "csv_filename = 'faculty_grad_year.csv'\n",
    "df.to_csv(csv_filename, index=False)\n",
    "\n",
    "print(f'Data saved to {csv_filename}')"
   ]
  },
  {
   "cell_type": "markdown",
   "metadata": {},
   "source": [
    "Similar to Task 1(c), you don't need to do anything here. Just look at different visualizations w.r.t. age and give yourself an answer to the question: `Does HKUST(GZ) Info Hub faculty age follow a normal distribution?`"
   ]
  },
  {
   "cell_type": "code",
   "execution_count": null,
   "metadata": {
    "scrolled": true
   },
   "outputs": [],
   "source": [
    "from dataprep.eda import plot\n",
    "import pandas as pd\n",
    "\n",
    "df = pd.read_csv(\"faculty_grad_year.csv\")\n",
    "df[\"age\"] = 2023+23-df[\"gradyear\"]\n",
    "\n",
    "plot(df, \"age\")"
   ]
  },
  {
   "cell_type": "markdown",
   "metadata": {},
   "source": [
    "## Submission"
   ]
  },
  {
   "cell_type": "markdown",
   "metadata": {},
   "source": [
    "Complete the code in this notebook, and submit it to the Canvas assignment `Assignment 1`."
   ]
  }
 ],
 "metadata": {
  "kernelspec": {
   "display_name": "Python 3 (ipykernel)",
   "language": "python",
   "name": "python3"
  },
  "language_info": {
   "codemirror_mode": {
    "name": "ipython",
    "version": 3
   },
   "file_extension": ".py",
   "mimetype": "text/x-python",
   "name": "python",
   "nbconvert_exporter": "python",
   "pygments_lexer": "ipython3",
   "version": "3.11.4"
  },
  "latex_envs": {
   "LaTeX_envs_menu_present": true,
   "autoclose": false,
   "autocomplete": true,
   "bibliofile": "biblio.bib",
   "cite_by": "apalike",
   "current_citInitial": 1,
   "eqLabelWithNumbers": true,
   "eqNumInitial": 1,
   "hotkeys": {
    "equation": "Ctrl-E",
    "itemize": "Ctrl-I"
   },
   "labels_anchors": false,
   "latex_user_defs": false,
   "report_style_numbering": false,
   "user_envs_cfg": false
  },
  "toc": {
   "base_numbering": 1,
   "nav_menu": {},
   "number_sections": true,
   "sideBar": true,
   "skip_h1_title": false,
   "title_cell": "Table of Contents",
   "title_sidebar": "Contents",
   "toc_cell": false,
   "toc_position": {},
   "toc_section_display": true,
   "toc_window_display": false
  },
  "vscode": {
   "interpreter": {
    "hash": "1a1af0ee75eeea9e2e1ee996c87e7a2b11a0bebd85af04bb136d915cefc0abce"
   }
  }
 },
 "nbformat": 4,
 "nbformat_minor": 1
}
