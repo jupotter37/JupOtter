{
 "cells": [
  {
   "cell_type": "markdown",
   "id": "bff55802",
   "metadata": {},
   "source": [
    "# EXCEPTION HANDLING"
   ]
  },
  {
   "cell_type": "code",
   "execution_count": 4,
   "id": "6e3f6b1c",
   "metadata": {},
   "outputs": [
    {
     "ename": "SyntaxError",
     "evalue": "expected ':' (397536168.py, line 2)",
     "output_type": "error",
     "traceback": [
      "\u001b[1;36m  Cell \u001b[1;32mIn[4], line 2\u001b[1;36m\u001b[0m\n\u001b[1;33m    for i in range(5)\u001b[0m\n\u001b[1;37m                     ^\u001b[0m\n\u001b[1;31mSyntaxError\u001b[0m\u001b[1;31m:\u001b[0m expected ':'\n"
     ]
    }
   ],
   "source": [
    "#Syntaxerror\n",
    "for i in range(5)\n"
   ]
  },
  {
   "cell_type": "code",
   "execution_count": 8,
   "id": "1fe8ca0a",
   "metadata": {},
   "outputs": [
    {
     "ename": "SyntaxError",
     "evalue": "invalid syntax (522378128.py, line 3)",
     "output_type": "error",
     "traceback": [
      "\u001b[1;36m  Cell \u001b[1;32mIn[8], line 3\u001b[1;36m\u001b[0m\n\u001b[1;33m    print('rrr'):\u001b[0m\n\u001b[1;37m                ^\u001b[0m\n\u001b[1;31mSyntaxError\u001b[0m\u001b[1;31m:\u001b[0m invalid syntax\n"
     ]
    }
   ],
   "source": [
    "#we can't handle some Syntax error like this\n",
    "try:\n",
    "    print('rrr'):\n",
    "except SyntaxError:\n",
    "    print(\"Syntax error\")"
   ]
  },
  {
   "cell_type": "code",
   "execution_count": null,
   "id": "d8f6de92",
   "metadata": {},
   "outputs": [],
   "source": [
    "#Logicalerror"
   ]
  },
  {
   "cell_type": "code",
   "execution_count": 29,
   "id": "c6b020e0",
   "metadata": {},
   "outputs": [
    {
     "name": "stdout",
     "output_type": "stream",
     "text": [
      "division by zero\n",
      "--------------------------------------------------\n",
      "(34, 'Result too large') <class 'OverflowError'> <class 'OverflowError'>\n"
     ]
    }
   ],
   "source": [
    "#Arithimeticerror\n",
    "try:\n",
    "    a=80/0\n",
    "    print(a)   \n",
    "except ArithmeticError as e:\n",
    "    print(e)#ZeroDivisionError also part of ArithemeticError\n",
    "print('-'*50)\n",
    "try:\n",
    "    j=5.0\n",
    "    for i in range(1,1000):\n",
    "        j=j**i\n",
    "    print(j)\n",
    "except ArithmeticError as s:\n",
    "    print(s,s.__class__,type(s)) #OverflowError also part of ArithemeticError"
   ]
  },
  {
   "cell_type": "code",
   "execution_count": 45,
   "id": "ed07d607",
   "metadata": {},
   "outputs": [
    {
     "ename": "ZeroDivisionError",
     "evalue": "division by zero",
     "output_type": "error",
     "traceback": [
      "\u001b[1;31m---------------------------------------------------------------------------\u001b[0m",
      "\u001b[1;31mZeroDivisionError\u001b[0m                         Traceback (most recent call last)",
      "Cell \u001b[1;32mIn[45], line 2\u001b[0m\n\u001b[0;32m      1\u001b[0m \u001b[38;5;66;03m#ZeroDivisionError\u001b[39;00m\n\u001b[1;32m----> 2\u001b[0m a\u001b[38;5;241m=\u001b[39m\u001b[38;5;241;43m80\u001b[39;49m\u001b[38;5;241;43m/\u001b[39;49m\u001b[38;5;241;43m0\u001b[39;49m\n\u001b[0;32m      3\u001b[0m \u001b[38;5;28mprint\u001b[39m(a)\n",
      "\u001b[1;31mZeroDivisionError\u001b[0m: division by zero"
     ]
    }
   ],
   "source": [
    "#ZeroDivisionError\n",
    "a=80/0\n",
    "print(a)"
   ]
  },
  {
   "cell_type": "code",
   "execution_count": 46,
   "id": "2f494923",
   "metadata": {},
   "outputs": [
    {
     "ename": "NameError",
     "evalue": "name 'c' is not defined",
     "output_type": "error",
     "traceback": [
      "\u001b[1;31m---------------------------------------------------------------------------\u001b[0m",
      "\u001b[1;31mNameError\u001b[0m                                 Traceback (most recent call last)",
      "Cell \u001b[1;32mIn[46], line 4\u001b[0m\n\u001b[0;32m      2\u001b[0m a\u001b[38;5;241m=\u001b[39m\u001b[38;5;241m90\u001b[39m\n\u001b[0;32m      3\u001b[0m b\u001b[38;5;241m=\u001b[39m\u001b[38;5;241m78\u001b[39m\n\u001b[1;32m----> 4\u001b[0m \u001b[38;5;28mprint\u001b[39m(\u001b[43mc\u001b[49m)\n",
      "\u001b[1;31mNameError\u001b[0m: name 'c' is not defined"
     ]
    }
   ],
   "source": [
    "#NameError\n",
    "a=90\n",
    "b=78\n",
    "print(c)"
   ]
  },
  {
   "cell_type": "code",
   "execution_count": 50,
   "id": "a10423fd",
   "metadata": {},
   "outputs": [
    {
     "name": "stdout",
     "output_type": "stream",
     "text": [
      "[3, 8, 89, 90]\n"
     ]
    },
    {
     "ename": "IndexError",
     "evalue": "list index out of range",
     "output_type": "error",
     "traceback": [
      "\u001b[1;31m---------------------------------------------------------------------------\u001b[0m",
      "\u001b[1;31mIndexError\u001b[0m                                Traceback (most recent call last)",
      "Cell \u001b[1;32mIn[50], line 6\u001b[0m\n\u001b[0;32m      4\u001b[0m li\u001b[38;5;241m.\u001b[39mextend([\u001b[38;5;241m89\u001b[39m,\u001b[38;5;241m90\u001b[39m])\n\u001b[0;32m      5\u001b[0m \u001b[38;5;28mprint\u001b[39m(li)\n\u001b[1;32m----> 6\u001b[0m \u001b[38;5;28mprint\u001b[39m(\u001b[43mli\u001b[49m\u001b[43m[\u001b[49m\u001b[38;5;241;43m6\u001b[39;49m\u001b[43m]\u001b[49m)\n",
      "\u001b[1;31mIndexError\u001b[0m: list index out of range"
     ]
    }
   ],
   "source": [
    "#IndexError\n",
    "li=[3]\n",
    "li.append(8)\n",
    "li.extend([89,90])\n",
    "print(li)\n",
    "print(li[6])"
   ]
  },
  {
   "cell_type": "code",
   "execution_count": 74,
   "id": "a67610b2",
   "metadata": {},
   "outputs": [
    {
     "name": "stdout",
     "output_type": "stream",
     "text": [
      "Enter the number:yjkui\n"
     ]
    },
    {
     "ename": "ValueError",
     "evalue": "invalid literal for int() with base 10: 'yjkui'",
     "output_type": "error",
     "traceback": [
      "\u001b[1;31m---------------------------------------------------------------------------\u001b[0m",
      "\u001b[1;31mValueError\u001b[0m                                Traceback (most recent call last)",
      "Cell \u001b[1;32mIn[74], line 2\u001b[0m\n\u001b[0;32m      1\u001b[0m \u001b[38;5;66;03m#ValueError\u001b[39;00m\n\u001b[1;32m----> 2\u001b[0m inp\u001b[38;5;241m=\u001b[39m\u001b[38;5;28;43mint\u001b[39;49m\u001b[43m(\u001b[49m\u001b[38;5;28;43minput\u001b[39;49m\u001b[43m(\u001b[49m\u001b[38;5;124;43m\"\u001b[39;49m\u001b[38;5;124;43mEnter the number:\u001b[39;49m\u001b[38;5;124;43m\"\u001b[39;49m\u001b[43m)\u001b[49m\u001b[43m)\u001b[49m\n",
      "\u001b[1;31mValueError\u001b[0m: invalid literal for int() with base 10: 'yjkui'"
     ]
    }
   ],
   "source": [
    "#ValueError\n",
    "inp=int(input(\"Enter the number:\"))\n"
   ]
  },
  {
   "cell_type": "code",
   "execution_count": 53,
   "id": "96406162",
   "metadata": {},
   "outputs": [
    {
     "ename": "KeyError",
     "evalue": "2",
     "output_type": "error",
     "traceback": [
      "\u001b[1;31m---------------------------------------------------------------------------\u001b[0m",
      "\u001b[1;31mKeyError\u001b[0m                                  Traceback (most recent call last)",
      "Cell \u001b[1;32mIn[53], line 3\u001b[0m\n\u001b[0;32m      1\u001b[0m \u001b[38;5;66;03m#KeyError\u001b[39;00m\n\u001b[0;32m      2\u001b[0m dic\u001b[38;5;241m=\u001b[39m{\u001b[38;5;241m0\u001b[39m:\u001b[38;5;124m'\u001b[39m\u001b[38;5;124mkk\u001b[39m\u001b[38;5;124m'\u001b[39m,\u001b[38;5;241m1\u001b[39m:\u001b[38;5;241m90\u001b[39m}\n\u001b[1;32m----> 3\u001b[0m \u001b[38;5;28mprint\u001b[39m(\u001b[43mdic\u001b[49m\u001b[43m[\u001b[49m\u001b[38;5;241;43m2\u001b[39;49m\u001b[43m]\u001b[49m)\n",
      "\u001b[1;31mKeyError\u001b[0m: 2"
     ]
    }
   ],
   "source": [
    "#KeyError\n",
    "dic={0:'kk',1:90}\n",
    "print(dic[2])"
   ]
  },
  {
   "cell_type": "code",
   "execution_count": 54,
   "id": "5b1dce53",
   "metadata": {},
   "outputs": [
    {
     "ename": "TypeError",
     "evalue": "can only concatenate str (not \"int\") to str",
     "output_type": "error",
     "traceback": [
      "\u001b[1;31m---------------------------------------------------------------------------\u001b[0m",
      "\u001b[1;31mTypeError\u001b[0m                                 Traceback (most recent call last)",
      "Cell \u001b[1;32mIn[54], line 4\u001b[0m\n\u001b[0;32m      2\u001b[0m s\u001b[38;5;241m=\u001b[39m\u001b[38;5;124m'\u001b[39m\u001b[38;5;124mkkk\u001b[39m\u001b[38;5;124m'\u001b[39m\n\u001b[0;32m      3\u001b[0m s1\u001b[38;5;241m=\u001b[39m\u001b[38;5;241m90\u001b[39m\n\u001b[1;32m----> 4\u001b[0m \u001b[38;5;28mprint\u001b[39m(\u001b[43ms\u001b[49m\u001b[38;5;241;43m+\u001b[39;49m\u001b[43ms1\u001b[49m)\n",
      "\u001b[1;31mTypeError\u001b[0m: can only concatenate str (not \"int\") to str"
     ]
    }
   ],
   "source": [
    "#TypeError\n",
    "s='kkk'\n",
    "s1=90\n",
    "print(s+s1)"
   ]
  },
  {
   "cell_type": "code",
   "execution_count": 6,
   "id": "aec6c51d",
   "metadata": {},
   "outputs": [
    {
     "name": "stdout",
     "output_type": "stream",
     "text": [
      "This module not present\n"
     ]
    },
    {
     "ename": "ModuleNotFoundError",
     "evalue": "No module named 'MODULESs'",
     "output_type": "error",
     "traceback": [
      "\u001b[1;31m---------------------------------------------------------------------------\u001b[0m",
      "\u001b[1;31mModuleNotFoundError\u001b[0m                       Traceback (most recent call last)",
      "Cell \u001b[1;32mIn[6], line 7\u001b[0m\n\u001b[0;32m      5\u001b[0m     \u001b[38;5;28mprint\u001b[39m(\u001b[38;5;124m\"\u001b[39m\u001b[38;5;124mThis module not present\u001b[39m\u001b[38;5;124m\"\u001b[39m)\n\u001b[0;32m      6\u001b[0m \u001b[38;5;28;01mfinally\u001b[39;00m:\n\u001b[1;32m----> 7\u001b[0m     \u001b[38;5;28;01mimport\u001b[39;00m \u001b[38;5;21;01mMODULESs\u001b[39;00m\n",
      "\u001b[1;31mModuleNotFoundError\u001b[0m: No module named 'MODULESs'"
     ]
    }
   ],
   "source": [
    "#ImportError\n",
    "try:\n",
    "    import MODULESs#no module \n",
    "except ImportError:\n",
    "    print(\"This module not present\")\n",
    "finally:\n",
    "    import MODULESs#ModuleNotFoundError also part of the ImportError"
   ]
  },
  {
   "cell_type": "code",
   "execution_count": 5,
   "id": "f0c45852",
   "metadata": {},
   "outputs": [
    {
     "ename": "AttributeError",
     "evalue": "'k' object has no attribute 'b'",
     "output_type": "error",
     "traceback": [
      "\u001b[1;31m---------------------------------------------------------------------------\u001b[0m",
      "\u001b[1;31mAttributeError\u001b[0m                            Traceback (most recent call last)",
      "Cell \u001b[1;32mIn[5], line 5\u001b[0m\n\u001b[0;32m      3\u001b[0m     a\u001b[38;5;241m=\u001b[39m\u001b[38;5;124m'\u001b[39m\u001b[38;5;124mkkk\u001b[39m\u001b[38;5;124m'\u001b[39m\n\u001b[0;32m      4\u001b[0m k1\u001b[38;5;241m=\u001b[39mk()\n\u001b[1;32m----> 5\u001b[0m \u001b[38;5;28mprint\u001b[39m(\u001b[43mk1\u001b[49m\u001b[38;5;241;43m.\u001b[39;49m\u001b[43mb\u001b[49m)\n",
      "\u001b[1;31mAttributeError\u001b[0m: 'k' object has no attribute 'b'"
     ]
    }
   ],
   "source": [
    "#Attribute error\n",
    "class k:\n",
    "    a='kkk'\n",
    "k1=k()\n",
    "print(k1.b)"
   ]
  },
  {
   "cell_type": "code",
   "execution_count": 5,
   "id": "1030d3a4",
   "metadata": {},
   "outputs": [
    {
     "name": "stdout",
     "output_type": "stream",
     "text": [
      "[Errno 2] No such file or directory: 'E:/PYTHON/FILE/k22.txt'\n"
     ]
    },
    {
     "ename": "FileNotFoundError",
     "evalue": "[Errno 2] No such file or directory: 'E:/PYTHON/FILE/k22.txt'",
     "output_type": "error",
     "traceback": [
      "\u001b[1;31m---------------------------------------------------------------------------\u001b[0m",
      "\u001b[1;31mFileNotFoundError\u001b[0m                         Traceback (most recent call last)",
      "Cell \u001b[1;32mIn[5], line 7\u001b[0m\n\u001b[0;32m      5\u001b[0m     \u001b[38;5;28mprint\u001b[39m(a)\n\u001b[0;32m      6\u001b[0m \u001b[38;5;28;01mfinally\u001b[39;00m:\n\u001b[1;32m----> 7\u001b[0m     r\u001b[38;5;241m=\u001b[39m\u001b[38;5;28;43mopen\u001b[39;49m\u001b[43m(\u001b[49m\u001b[38;5;124;43m\"\u001b[39;49m\u001b[38;5;124;43mE:/PYTHON/FILE/k22.txt\u001b[39;49m\u001b[38;5;124;43m\"\u001b[39;49m\u001b[43m,\u001b[49m\u001b[38;5;124;43m'\u001b[39;49m\u001b[38;5;124;43mr\u001b[39;49m\u001b[38;5;124;43m'\u001b[39;49m\u001b[43m)\u001b[49m\n",
      "File \u001b[1;32mC:\\ProgramData\\anaconda3\\lib\\site-packages\\IPython\\core\\interactiveshell.py:282\u001b[0m, in \u001b[0;36m_modified_open\u001b[1;34m(file, *args, **kwargs)\u001b[0m\n\u001b[0;32m    275\u001b[0m \u001b[38;5;28;01mif\u001b[39;00m file \u001b[38;5;129;01min\u001b[39;00m {\u001b[38;5;241m0\u001b[39m, \u001b[38;5;241m1\u001b[39m, \u001b[38;5;241m2\u001b[39m}:\n\u001b[0;32m    276\u001b[0m     \u001b[38;5;28;01mraise\u001b[39;00m \u001b[38;5;167;01mValueError\u001b[39;00m(\n\u001b[0;32m    277\u001b[0m         \u001b[38;5;124mf\u001b[39m\u001b[38;5;124m\"\u001b[39m\u001b[38;5;124mIPython won\u001b[39m\u001b[38;5;124m'\u001b[39m\u001b[38;5;124mt let you open fd=\u001b[39m\u001b[38;5;132;01m{\u001b[39;00mfile\u001b[38;5;132;01m}\u001b[39;00m\u001b[38;5;124m by default \u001b[39m\u001b[38;5;124m\"\u001b[39m\n\u001b[0;32m    278\u001b[0m         \u001b[38;5;124m\"\u001b[39m\u001b[38;5;124mas it is likely to crash IPython. If you know what you are doing, \u001b[39m\u001b[38;5;124m\"\u001b[39m\n\u001b[0;32m    279\u001b[0m         \u001b[38;5;124m\"\u001b[39m\u001b[38;5;124myou can use builtins\u001b[39m\u001b[38;5;124m'\u001b[39m\u001b[38;5;124m open.\u001b[39m\u001b[38;5;124m\"\u001b[39m\n\u001b[0;32m    280\u001b[0m     )\n\u001b[1;32m--> 282\u001b[0m \u001b[38;5;28;01mreturn\u001b[39;00m io_open(file, \u001b[38;5;241m*\u001b[39margs, \u001b[38;5;241m*\u001b[39m\u001b[38;5;241m*\u001b[39mkwargs)\n",
      "\u001b[1;31mFileNotFoundError\u001b[0m: [Errno 2] No such file or directory: 'E:/PYTHON/FILE/k22.txt'"
     ]
    }
   ],
   "source": [
    "#IoError# IoError and  OSError both same error\n",
    "try:\n",
    "    r=open(\"E:/PYTHON/FILE/k22.txt\",'r')#k22.txt file was not present\n",
    "except OSError as a:\n",
    "    print(a)\n",
    "finally:\n",
    "    r=open(\"E:/PYTHON/FILE/k22.txt\",'r')#FileNotFoundError also one part of OSError "
   ]
  },
  {
   "cell_type": "code",
   "execution_count": null,
   "id": "e86f3aa6",
   "metadata": {},
   "outputs": [],
   "source": []
  },
  {
   "cell_type": "code",
   "execution_count": 34,
   "id": "2cb47145",
   "metadata": {},
   "outputs": [
    {
     "name": "stdout",
     "output_type": "stream",
     "text": [
      "<class 'str'>\n",
      "<class 'int'>\n",
      "<class 'float'>\n",
      "<class 'bool'>\n",
      "<class 'complex'>\n",
      "<class 'list'>\n",
      "<class 'tuple'>\n",
      "<class 'dict'>\n",
      "<class 'set'>\n"
     ]
    }
   ],
   "source": [
    "s='kk'\n",
    "print(s.__class__)\n",
    "s=90\n",
    "print(s.__class__)\n",
    "s=32.0\n",
    "print(s.__class__)\n",
    "s=True\n",
    "print(s.__class__)\n",
    "s=33j\n",
    "print(s.__class__)\n",
    "s=[56,56,43,3]\n",
    "print(s.__class__)\n",
    "s=(56,78,0)\n",
    "print(s.__class__)\n",
    "s={7:'dcf',1:'kkk'}\n",
    "print(s.__class__)\n",
    "s={78,5,'kkk'}\n",
    "print(s.__class__)"
   ]
  },
  {
   "cell_type": "code",
   "execution_count": 37,
   "id": "1d01844d",
   "metadata": {},
   "outputs": [
    {
     "name": "stdout",
     "output_type": "stream",
     "text": [
      "Enter the Number1:50\n",
      "Enter the Number2:0\n"
     ]
    },
    {
     "ename": "ZeroDivisionError",
     "evalue": "division by zero",
     "output_type": "error",
     "traceback": [
      "\u001b[1;31m---------------------------------------------------------------------------\u001b[0m",
      "\u001b[1;31mZeroDivisionError\u001b[0m                         Traceback (most recent call last)",
      "Cell \u001b[1;32mIn[37], line 4\u001b[0m\n\u001b[0;32m      2\u001b[0m num1\u001b[38;5;241m=\u001b[39m\u001b[38;5;28mint\u001b[39m(\u001b[38;5;28minput\u001b[39m(\u001b[38;5;124m\"\u001b[39m\u001b[38;5;124mEnter the Number1:\u001b[39m\u001b[38;5;124m\"\u001b[39m))\n\u001b[0;32m      3\u001b[0m num2\u001b[38;5;241m=\u001b[39m\u001b[38;5;28mint\u001b[39m(\u001b[38;5;28minput\u001b[39m(\u001b[38;5;124m\"\u001b[39m\u001b[38;5;124mEnter the Number2:\u001b[39m\u001b[38;5;124m\"\u001b[39m))\n\u001b[1;32m----> 4\u001b[0m total\u001b[38;5;241m=\u001b[39m\u001b[43mnum1\u001b[49m\u001b[38;5;241;43m/\u001b[39;49m\u001b[43mnum2\u001b[49m\n\u001b[0;32m      5\u001b[0m \u001b[38;5;28mprint\u001b[39m(total)\n",
      "\u001b[1;31mZeroDivisionError\u001b[0m: division by zero"
     ]
    }
   ],
   "source": [
    "#ERROR HANNDLING\n",
    "num1=int(input(\"Enter the Number1:\"))\n",
    "num2=int(input(\"Enter the Number2:\"))\n",
    "total=num1/num2\n",
    "print(total)\n",
    "#Python Giving error if we want to handle this error as we expected we can use exception handling"
   ]
  },
  {
   "cell_type": "code",
   "execution_count": 42,
   "id": "c87c1604",
   "metadata": {},
   "outputs": [
    {
     "name": "stdout",
     "output_type": "stream",
     "text": [
      "Enter the Number1:20\n",
      "Enter the Number2:0\n",
      "YOu Entered 0 value for division,but we can't use 0 for division\n"
     ]
    }
   ],
   "source": [
    "#as we expectecd output we can give using exception handling \n",
    "try:\n",
    "    num1=int(input(\"Enter the Number1:\"))\n",
    "    num2=int(input(\"Enter the Number2:\"))\n",
    "    total=num1/num2\n",
    "    print(total)\n",
    "except ZeroDivisionError:\n",
    "    print(\"YOu Entered 0 value for division,but we can't use 0 for division\")"
   ]
  },
  {
   "cell_type": "code",
   "execution_count": 43,
   "id": "4790ed41",
   "metadata": {},
   "outputs": [
    {
     "name": "stdout",
     "output_type": "stream",
     "text": [
      "Enter the Number1:100\n",
      "Enter the Number2:0\n",
      "division by zero\n"
     ]
    }
   ],
   "source": [
    "#how to make system to give output\n",
    "try:\n",
    "    num1=int(input(\"Enter the Number1:\"))\n",
    "    num2=int(input(\"Enter the Number2:\"))\n",
    "    total=num1/num2\n",
    "    print(total)\n",
    "except ZeroDivisionError as a:\n",
    "    print(a)#system only give output"
   ]
  },
  {
   "cell_type": "code",
   "execution_count": 44,
   "id": "de63c100",
   "metadata": {},
   "outputs": [
    {
     "name": "stdout",
     "output_type": "stream",
     "text": [
      "Enter the Number1:34\n",
      "Enter the Number2:8\n",
      "name 'num3' is not defined\n"
     ]
    }
   ],
   "source": [
    "#make system ouput for Name error\n",
    "try:\n",
    "    num1=int(input(\"Enter the Number1:\"))\n",
    "    num2=int(input(\"Enter the Number2:\"))\n",
    "    total=num1/num3\n",
    "    print(total)\n",
    "except NameError as a:\n",
    "    print(a)"
   ]
  },
  {
   "cell_type": "code",
   "execution_count": 10,
   "id": "b7a5a905",
   "metadata": {},
   "outputs": [
    {
     "name": "stdout",
     "output_type": "stream",
     "text": [
      "name 'd' is not defined\n"
     ]
    }
   ],
   "source": [
    "#if we not aware of error we can Exception \n",
    "try:\n",
    "    def fun(a,b):\n",
    "        print(a+d)\n",
    "    fun(10,10)\n",
    "except Exception as a1:\n",
    "    print(a1)"
   ]
  },
  {
   "cell_type": "code",
   "execution_count": 12,
   "id": "82a85681",
   "metadata": {},
   "outputs": [
    {
     "name": "stdout",
     "output_type": "stream",
     "text": [
      "ZeroDivision Error found\n"
     ]
    }
   ],
   "source": [
    "#how to handle multiple exception\n",
    "try:\n",
    "    def fun(a,b):\n",
    "        c=a/0\n",
    "        print(c)\n",
    "    fun(10,10)\n",
    "except NameError:\n",
    "    print(\"Name Error found\")\n",
    "except ZeroDivisionError:\n",
    "    print(\"ZeroDivision Error found\")\n",
    "except Exception as a:\n",
    "    print(a)"
   ]
  },
  {
   "cell_type": "code",
   "execution_count": 15,
   "id": "c16046dc",
   "metadata": {},
   "outputs": [
    {
     "name": "stdout",
     "output_type": "stream",
     "text": [
      "3\n",
      "8\n",
      "[35, 50.45, 'Karthik', 90, 25, 3, 23, 67]\n",
      "1\n"
     ]
    }
   ],
   "source": [
    "#how handle the error in list datatype\n",
    "li=[35,50.45,'Karthik',90,25]\n",
    "try:\n",
    "    li.append(3)\n",
    "    li.extend([23,67])\n",
    "    print(li[5])\n",
    "except IndexError as a:\n",
    "    print(a)\n",
    "else:\n",
    "    print(len(li))#it was executed because except part not excecuted\n",
    "finally:\n",
    "    print(li)\n",
    "    print(li.count(50.45))#it will excute always"
   ]
  },
  {
   "cell_type": "code",
   "execution_count": 16,
   "id": "a34577d1",
   "metadata": {},
   "outputs": [
    {
     "name": "stdout",
     "output_type": "stream",
     "text": [
      "list index out of range\n",
      "[35, 50.45, 'Karthik', 90, 25, 3, 23, 67]\n",
      "1\n"
     ]
    }
   ],
   "source": [
    "#how handle the error in list datatype\n",
    "li=[35,50.45,'Karthik',90,25]\n",
    "try:\n",
    "    li.append(3)\n",
    "    li.extend([23,67])\n",
    "    print(li[15])\n",
    "except IndexError as a:\n",
    "    print(a)\n",
    "else:\n",
    "    print(len(li))#it was not executed because except part excecuted\n",
    "finally:\n",
    "    print(li)\n",
    "    print(li.count(50.45))#it will excute always"
   ]
  },
  {
   "cell_type": "code",
   "execution_count": 19,
   "id": "c9c6a77d",
   "metadata": {},
   "outputs": [
    {
     "name": "stdout",
     "output_type": "stream",
     "text": [
      "[Errno 2] No such file or directory: 'E:/PYTHON/FILE/kkk'\n"
     ]
    }
   ],
   "source": [
    "#how to handle error in Filehandling\n",
    "try:\n",
    "    with open('E:/PYTHON/FILE/kkk','r')as f:\n",
    "        print(f.read())\n",
    "except IOError as a:\n",
    "    print(a)"
   ]
  },
  {
   "cell_type": "code",
   "execution_count": 21,
   "id": "26e82813",
   "metadata": {},
   "outputs": [
    {
     "name": "stdout",
     "output_type": "stream",
     "text": [
      "must have exactly one of create/read/write/append mode\n"
     ]
    }
   ],
   "source": [
    "#how to handle error in Filehandling\n",
    "try:\n",
    "    with open('E:/PYTHON/FILE/kkk','r+w')as f:\n",
    "        print(f.read())\n",
    "except Exception as a:\n",
    "    print(a)"
   ]
  },
  {
   "cell_type": "code",
   "execution_count": 23,
   "id": "28983044",
   "metadata": {},
   "outputs": [
    {
     "name": "stdout",
     "output_type": "stream",
     "text": [
      "Enter the Number:-9\n",
      "Please enter corrct value\n"
     ]
    }
   ],
   "source": [
    "#how to handle error in Math modules\n",
    "try:    \n",
    "    from math import *\n",
    "    inp=int(input(\"Enter the Number:\"))\n",
    "    fact=factorial(inp)\n",
    "    print(\"The Factorial value is:\",fact)\n",
    "except ValueError:\n",
    "    print(\"Please enter corrct value\")\n",
    "except NameError as a:\n",
    "    print(a)"
   ]
  },
  {
   "cell_type": "code",
   "execution_count": 24,
   "id": "5f98741e",
   "metadata": {},
   "outputs": [
    {
     "name": "stdout",
     "output_type": "stream",
     "text": [
      "Enter the Number:5\n",
      "name 'fact2' is not defined\n"
     ]
    }
   ],
   "source": [
    "#how to handle error in Math modules\n",
    "try:    \n",
    "    from math import *\n",
    "    inp=int(input(\"Enter the Number:\"))\n",
    "    fact=factorial(inp)\n",
    "    print(\"The Factorial value is:\",fact2)\n",
    "except ValueError:\n",
    "    print(\"Please enter corrct value\")\n",
    "except NameError as a:\n",
    "    print(a)"
   ]
  },
  {
   "cell_type": "code",
   "execution_count": 30,
   "id": "8a69b9a7",
   "metadata": {},
   "outputs": [
    {
     "name": "stdout",
     "output_type": "stream",
     "text": [
      "Enter the date:23 06 2022\n",
      "Enter value is incoorrct please enter corrcct value\n"
     ]
    }
   ],
   "source": [
    "#A python program to handle the syntax error given by the eval function\n",
    "try:\n",
    "    inp=eval(input(\"Enter the date:\"))\n",
    "except SyntaxError:\n",
    "    print(\"Enter value is incoorrct please enter corrcct value\")\n",
    "else:\n",
    "    print(\"Enterd value is corrct\")"
   ]
  },
  {
   "cell_type": "code",
   "execution_count": 31,
   "id": "a84dc19d",
   "metadata": {},
   "outputs": [
    {
     "name": "stdout",
     "output_type": "stream",
     "text": [
      "Enter the number:30*3\n",
      "90\n"
     ]
    }
   ],
   "source": [
    "#A python program to handle the syntax error given by the eval function\n",
    "try:\n",
    "    inp=eval(input(\"Enter the number:\"))\n",
    "except SyntaxError:\n",
    "    print(\"Enter value is incoorrct please enter corrcct value\")\n",
    "else:\n",
    "    print(inp)"
   ]
  },
  {
   "cell_type": "code",
   "execution_count": 36,
   "id": "7044003c",
   "metadata": {},
   "outputs": [
    {
     "name": "stdout",
     "output_type": "stream",
     "text": [
      "-5.0\n",
      "a/b result in 0\n"
     ]
    }
   ],
   "source": [
    "#exception handling inside the function\n",
    "def fun(a,b):\n",
    "    try:\n",
    "        c=((a+b)//(a-b))\n",
    "    except ZeroDivisionError:\n",
    "        print(\"a/b result in 0\")\n",
    "    else:\n",
    "        print(c)\n",
    "fun(2.0,3.0)\n",
    "fun(2.0,2.0)"
   ]
  },
  {
   "cell_type": "code",
   "execution_count": 39,
   "id": "50c84c3c",
   "metadata": {},
   "outputs": [
    {
     "name": "stdout",
     "output_type": "stream",
     "text": [
      "Enter the number1:23\n",
      "Enter the number2:0\n",
      "please enter the correct number value\n",
      "Enter the number1:ffff\n",
      "please enter the correct number value\n",
      "Enter the number1:edd\n",
      "please enter the correct number value\n",
      "Enter the number1:d\\34\n",
      "please enter the correct number value\n",
      "Enter the number1:23\n",
      "Enter the number2:3\n",
      "Division value is: 7\n"
     ]
    }
   ],
   "source": [
    "#exception handling inside the function\n",
    "def division():\n",
    "    try:\n",
    "        a=int(input(\"Enter the number1:\"))\n",
    "        b=int(input(\"Enter the number2:\"))\n",
    "        c=a//b\n",
    "        print(\"Division value is:\",c)\n",
    "    except (ZeroDivisionError,ValueError):\n",
    "        print(\"please enter the correct number value\")\n",
    "        division()\n",
    "division()"
   ]
  },
  {
   "cell_type": "code",
   "execution_count": null,
   "id": "6d41d791",
   "metadata": {},
   "outputs": [],
   "source": []
  }
 ],
 "metadata": {
  "kernelspec": {
   "display_name": "Python 3 (ipykernel)",
   "language": "python",
   "name": "python3"
  },
  "language_info": {
   "codemirror_mode": {
    "name": "ipython",
    "version": 3
   },
   "file_extension": ".py",
   "mimetype": "text/x-python",
   "name": "python",
   "nbconvert_exporter": "python",
   "pygments_lexer": "ipython3",
   "version": "3.10.9"
  }
 },
 "nbformat": 4,
 "nbformat_minor": 5
}
