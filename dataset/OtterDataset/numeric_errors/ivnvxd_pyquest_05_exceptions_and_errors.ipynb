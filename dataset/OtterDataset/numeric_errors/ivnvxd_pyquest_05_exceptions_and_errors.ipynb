{
 "cells": [
  {
   "cell_type": "markdown",
   "metadata": {},
   "source": [
    "# Part V: Exceptions and Error Handling <a id=\"5-exceptions-and-errors\"></a>"
   ]
  },
  {
   "cell_type": "markdown",
   "metadata": {},
   "source": [
    "1. [Python Exceptions](#python-exceptions)\n",
    "    - [Built-in Exceptions](#built-in-exceptions)\n",
    "    - [Exception hierarchy](#exception-hierarchy)\n",
    "2. [Handling Exceptions](#handling-exceptions)\n",
    "    - [try, except, else, finally blocks](#try-except-else-finally-blocks)\n",
    "    - [Catching multiple exceptions](#catching-multiple-exceptions)\n",
    "3. [Raising Exceptions](#raising-exceptions)\n",
    "    - [raise statement](#raise-statement)\n",
    "    - [assert statement](#assert-statement)\n",
    "4. [User-Defined Exceptions](#user-defined-exceptions)"
   ]
  },
  {
   "cell_type": "markdown",
   "metadata": {},
   "source": [
    "\n",
    "Python uses exceptions to manage errors that arise during execution. An exception is an event that disrupts the normal flow of a program's instructions. Python's approach to exceptions ensures that programs can deal with unforeseen errors gracefully and can recover from them."
   ]
  },
  {
   "cell_type": "markdown",
   "metadata": {},
   "source": [
    "## 1. Python Exceptions <a id=\"python-exceptions\"></a>\n",
    "\n",
    "_Python exceptions_ are errors detected during execution that interrupt the normal flow of a program. These errors can be caused by various issues, such as attempting to divide by zero, accessing a non-existent file, or trying to access a list element out of its bounds. When an exception occurs, the program immediately stops executing and raises an exception. If the exception is not handled, the program will crash."
   ]
  },
  {
   "cell_type": "markdown",
   "metadata": {},
   "source": [
    "### Built-in Exceptions <a id=\"built-in-exceptions\"></a>\n",
    "\n",
    "Python has a set of built-in exceptions that can be raised when an error occurs. These exceptions are defined in the `builtins` module and are inherited by all other exceptions.\n",
    "\n",
    "There are several common built-in exceptions that you'll frequently encounter, including:\n",
    "- `SyntaxError`: Raised when the parser encounters a syntax error.\n",
    "- `IndexError`: Occurs when a sequence subscript (index) is out of range.\n",
    "- `KeyError`: Raised when a dictionary key is not found.\n",
    "- `ValueError`: Occurs when an operation receives an argument with the right type but an inappropriate value.\n",
    "- `TypeError`: Raised when an operation or function is applied to an object of an inappropriate type.\n",
    "- `FileNotFoundError`: Triggered when an attempt to open a file fails because it does not exist.\n",
    "- `ZeroDivisionError`: Occurs when the second argument of a division or modulo operation is zero.\n",
    "\n",
    "Python allows you to handle these exceptions using `try`, `except` blocks. This provides a way to respond to errors instead of allowing the program to crash."
   ]
  },
  {
   "cell_type": "code",
   "execution_count": 12,
   "metadata": {},
   "outputs": [
    {
     "name": "stdout",
     "output_type": "stream",
     "text": [
      "Cannot divide by zero.\n"
     ]
    }
   ],
   "source": [
    "def divide(a, b):\n",
    "    try:\n",
    "        return a / b\n",
    "    except ZeroDivisionError:\n",
    "        return \"Cannot divide by zero.\"\n",
    "\n",
    "\n",
    "print(divide(10, 0))"
   ]
  },
  {
   "cell_type": "markdown",
   "metadata": {},
   "source": [
    "### Exception hierarchy <a id=\"exception-hierarchy\"></a>\n",
    "\n",
    "The exception hierarchy in Python organizes the various built-in exceptions into a structured tree, allowing for both specific and general exception handling strategies.\n",
    "\n",
    "The base class for all built-in exceptions is `BaseException`. This class is inherited by `Exception`, which is the base class for all non-system-exiting exceptions. The `Exception` class is further subclassed into various exception types, such as `ArithmeticError`, `LookupError`, and `EnvironmentError`.\n",
    "\n",
    "Example of Exception Hierarchy:\n",
    "```\n",
    "BaseException\n",
    "├── SystemExit\n",
    "├── KeyboardInterrupt\n",
    "├── GeneratorExit\n",
    "└── Exception\n",
    "      ├── StopIteration\n",
    "      ├── ArithmeticError\n",
    "      │    ├── FloatingPointError\n",
    "      │    ├── OverflowError\n",
    "      │    └── ZeroDivisionError\n",
    "      ├── LookupError\n",
    "      │    ├── IndexError\n",
    "      │    └── KeyError\n",
    "      └── EnvironmentError\n",
    "           ├── IOError\n",
    "           └── OSError\n",
    "```\n",
    "\n",
    "Users can define their own exceptions by inheriting from any existing exception class, typically Exception or one of its child classes, to create custom error conditions relevant to their applications."
   ]
  },
  {
   "cell_type": "markdown",
   "metadata": {},
   "source": [
    "## 2. Handling Exceptions <a id=\"handling-exceptions\"></a>\n",
    "\n",
    "Handling exceptions in Python is crucial for writing robust and resilient programs. It allows your code to gracefully deal with unexpected situations without crashing. Python provides `try`, `except`, `else`, and `finally` blocks for this purpose."
   ]
  },
  {
   "cell_type": "markdown",
   "metadata": {},
   "source": [
    "### try, except, else, finally blocks <a id=\"try-except-else-finally-blocks\"></a>\n",
    "\n",
    "- `try` Block: You start by wrapping the code that might raise an exception in a `try` block. This is the code that Python will attempt to execute, and if an exception occurs, Python looks for an `except` block to handle it.\n",
    "- `except` Block: The `except` block catches exceptions raised by the `try` block. You can specify the type of exception you want to catch, allowing for multiple `except` blocks to handle different exceptions differently. If an exception is caught, the code inside the `except` block is executed.\n",
    "- `else` Block: An optional `else` block can follow the `except` blocks. The code inside the `else` block is executed only if the code in the `try` block did not raise an exception. It's a good place to put code that should run only if the `try` block was successful.\n",
    "- `finally` Block: Finally, a `finally` block can be used to define cleanup actions that must be executed under all circumstances, such as releasing external resources. The code inside the `finally` block runs whether an exception was raised or not, and even if an `except` or `else` block has a return statement."
   ]
  },
  {
   "cell_type": "code",
   "execution_count": 13,
   "metadata": {},
   "outputs": [
    {
     "name": "stdout",
     "output_type": "stream",
     "text": [
      "Attempted to divide by zero.\n",
      "This always executes.\n"
     ]
    }
   ],
   "source": [
    "try:\n",
    "    # Code that might raise an exception\n",
    "    x = int(input(\"Enter a number: \"))\n",
    "    y = 10 / x\n",
    "except ValueError:\n",
    "    print(\"You did not enter a valid number.\")\n",
    "except ZeroDivisionError:\n",
    "    print(\"Attempted to divide by zero.\")\n",
    "else:\n",
    "    print(f\"Everything went well. The result is {y}.\")\n",
    "finally:\n",
    "    print(\"This always executes.\")"
   ]
  },
  {
   "cell_type": "markdown",
   "metadata": {},
   "source": [
    "### Catching multiple exceptions <a id=\"catching-multiple-exceptions\"></a>\n",
    "\n",
    "You might encounter situations where a block of code could raise more than one type of exception. To handle this, Python allows you to catch multiple exceptions in a single `try` block. You can achieve this in two ways: by specifying multiple `except` blocks, each catching a different type of exception, or by catching multiple exceptions in a single `except` block using a tuple."
   ]
  },
  {
   "cell_type": "code",
   "execution_count": 14,
   "metadata": {},
   "outputs": [
    {
     "name": "stdout",
     "output_type": "stream",
     "text": [
      "Division by zero is not allowed.\n"
     ]
    }
   ],
   "source": [
    "try:\n",
    "    # Code that could raise multiple exceptions\n",
    "    value = input(\"Enter a number: \")\n",
    "    number = int(value)\n",
    "    result = 10 / number\n",
    "except ValueError:\n",
    "    # Handles incorrect input type (e.g., a letter instead of a number)\n",
    "    print(\"Please enter a valid integer.\")\n",
    "except ZeroDivisionError:\n",
    "    # Handles division by zero\n",
    "    print(\"Division by zero is not allowed.\")\n",
    "except (TypeError, OverflowError) as e:\n",
    "    # Handles multiple exceptions similarly\n",
    "    print(f\"An error occurred: {e}\")"
   ]
  },
  {
   "cell_type": "markdown",
   "metadata": {},
   "source": [
    "## 3. Raising Exceptions <a id=\"raising-exceptions\"></a>\n",
    "\n",
    "Raising exceptions is a core aspect of Python programming, allowing you to explicitly signal an error condition when a specific issue occurs in your code. This can be particularly useful for enforcing constraints, indicating invalid states, or signaling errors in API usage to other developers."
   ]
  },
  {
   "cell_type": "markdown",
   "metadata": {},
   "source": [
    "### raise statement <a id=\"raise-statement\"></a>\n",
    "\n",
    "The `raise` statement is used to trigger an exception in Python. You can raise a built-in exception or a user-defined exception by specifying the exception class or an instance of the exception. Optionally, you can add a message to provide more context about the error."
   ]
  },
  {
   "cell_type": "code",
   "execution_count": 15,
   "metadata": {},
   "outputs": [],
   "source": [
    "# Raising a built-in exception with a message\n",
    "def divide(x, y):\n",
    "    if y == 0:\n",
    "        raise ZeroDivisionError(\"Division by zero is not allowed.\")\n",
    "    return x / y"
   ]
  },
  {
   "cell_type": "markdown",
   "metadata": {},
   "source": [
    "### assert statement <a id=\"assert-statement\"></a>\n",
    "\n",
    "The `assert` statement is a debugging aid that tests a condition as an expression. If the condition is `True`, nothing happens, and your program continues to execute. If the condition is `False`, Python raises an `AssertionError` exception. The `assert` statement can also include an optional message to be displayed with the error, making the cause of the assertion failure clearer."
   ]
  },
  {
   "cell_type": "code",
   "execution_count": 16,
   "metadata": {},
   "outputs": [
    {
     "name": "stdout",
     "output_type": "stream",
     "text": [
      "Division by zero is not allowed.\n",
      "Cannot take the square root of a negative number.\n"
     ]
    }
   ],
   "source": [
    "# Using assert to ensure a condition holds true\n",
    "def square_root(value):\n",
    "    assert value >= 0, \"Cannot take the square root of a negative number.\"\n",
    "    return value**0.5\n",
    "\n",
    "\n",
    "try:\n",
    "    result = divide(10, 0)\n",
    "except ZeroDivisionError as e:\n",
    "    print(e)\n",
    "\n",
    "try:\n",
    "    result = square_root(-1)\n",
    "except AssertionError as e:\n",
    "    print(e)"
   ]
  },
  {
   "cell_type": "markdown",
   "metadata": {},
   "source": [
    "## 4. User-Defined Exceptions <a id=\"user-defined-exceptions\"></a>\n",
    "\n",
    "User-defined exceptions allow you to create and use custom exceptions that are specific to your application's requirements. By defining your own exceptions, you can make your code more readable and ensure that it handles errors and special conditions in a clear and consistent manner.\n",
    "\n",
    "To create a user-defined exception, you typically inherit from the `Exception` class or one of its subclasses. This custom exception can then be raised using the `raise` statement, just like any built-in exception. User-defined exceptions are especially useful for signaling errors in application-specific contexts."
   ]
  },
  {
   "cell_type": "code",
   "execution_count": 17,
   "metadata": {},
   "outputs": [
    {
     "name": "stdout",
     "output_type": "stream",
     "text": [
      "Received -1; expected a non-negative number.\n"
     ]
    }
   ],
   "source": [
    "# Defining a custom exception\n",
    "class NegativeNumberError(Exception):\n",
    "    def __init__(self, value):\n",
    "        super().__init__(f\"Received {value}; expected a non-negative number.\")\n",
    "\n",
    "\n",
    "# Using the custom exception\n",
    "def square_root(value):\n",
    "    if value < 0:\n",
    "        raise NegativeNumberError(value)\n",
    "    return value**0.5\n",
    "\n",
    "\n",
    "try:\n",
    "    result = square_root(-1)\n",
    "except NegativeNumberError as e:\n",
    "    print(e)"
   ]
  }
 ],
 "metadata": {
  "kernelspec": {
   "display_name": "Python 3",
   "language": "python",
   "name": "python3"
  },
  "language_info": {
   "codemirror_mode": {
    "name": "ipython",
    "version": 3
   },
   "file_extension": ".py",
   "mimetype": "text/x-python",
   "name": "python",
   "nbconvert_exporter": "python",
   "pygments_lexer": "ipython3",
   "version": "3.11.7"
  }
 },
 "nbformat": 4,
 "nbformat_minor": 2
}
