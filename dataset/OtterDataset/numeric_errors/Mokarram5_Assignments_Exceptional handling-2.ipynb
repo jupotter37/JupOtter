{
 "cells": [
  {
   "cell_type": "markdown",
   "id": "00c0085e-54ae-48bc-b4a2-57920b3767a6",
   "metadata": {},
   "source": [
    "## Assignment: 𝙀𝙭𝙘𝙚𝙥𝙩𝙞𝙤𝙣 𝙝𝙖𝙣𝙙𝙡𝙞𝙣𝙜-➋"
   ]
  },
  {
   "cell_type": "markdown",
   "id": "ee847c7a-e34e-4e7e-96c1-eb7e9d00ffb0",
   "metadata": {},
   "source": [
    "#### Q1. Explain why we have to use the Exception class while creating a Custom Exception."
   ]
  },
  {
   "cell_type": "markdown",
   "id": "5e3fd94a-e805-4f59-83ce-7ebe05f6e307",
   "metadata": {},
   "source": [
    "#### Answer:"
   ]
  },
  {
   "cell_type": "markdown",
   "id": "3c1d5c28-d09a-4aff-9972-0cd9ea95c682",
   "metadata": {},
   "source": [
    "We use Exception class while creating a custom exception because, The Exception class is part of a well-structured hierarchy of exception classes in Python. This hierarchy organizes exceptions based on their types and relationships. By creating our custom exception within this hierarchy, we make it easier to understand where our exception fits in and how it relates to other exceptions.\n",
    "using try and except blocks,\n",
    "When we raise a custom exception that inherits from Exception, we can catch it just like we would with any other exception. This allows us to handle our custom exceptions in a standardized way alongside the built-in exceptions.\n",
    "Depending on your requirements, we can also subclass more specific built-in exception classes like ValueError, ZeroDivisionError, or even create our own custom base exception class if we need more specialized handling"
   ]
  },
  {
   "cell_type": "markdown",
   "id": "0106662b-d653-43e7-abca-d32727423111",
   "metadata": {},
   "source": [
    "#### Q2. Write a python program to print Python Exception Hierarchy."
   ]
  },
  {
   "cell_type": "markdown",
   "id": "898f25a1-5113-408c-9b78-2169fe68f27b",
   "metadata": {},
   "source": [
    "#### Answer:"
   ]
  },
  {
   "cell_type": "code",
   "execution_count": 7,
   "id": "873ab1aa-571e-4645-acb5-1fd5728dbcc3",
   "metadata": {},
   "outputs": [],
   "source": [
    "def print_exception_hierarchy(exception_class):\n",
    "    print(f'{exception_class.__name__}')\n",
    "    for i in exception_class.__subclasses__():\n",
    "        print_exception_hierarchy(i)"
   ]
  },
  {
   "cell_type": "code",
   "execution_count": 8,
   "id": "6046184d-7697-45d3-af02-a80b49cd9bfc",
   "metadata": {},
   "outputs": [
    {
     "name": "stdout",
     "output_type": "stream",
     "text": [
      "BaseException\n",
      "BaseExceptionGroup\n",
      "ExceptionGroup\n",
      "Exception\n",
      "ArithmeticError\n",
      "FloatingPointError\n",
      "OverflowError\n",
      "ZeroDivisionError\n",
      "DivisionByZero\n",
      "DivisionUndefined\n",
      "DecimalException\n",
      "Clamped\n",
      "Rounded\n",
      "Underflow\n",
      "Overflow\n",
      "Inexact\n",
      "Underflow\n",
      "Overflow\n",
      "Subnormal\n",
      "Underflow\n",
      "DivisionByZero\n",
      "FloatOperation\n",
      "InvalidOperation\n",
      "ConversionSyntax\n",
      "DivisionImpossible\n",
      "DivisionUndefined\n",
      "InvalidContext\n",
      "AssertionError\n",
      "AttributeError\n",
      "FrozenInstanceError\n",
      "BufferError\n",
      "EOFError\n",
      "IncompleteReadError\n",
      "ImportError\n",
      "ModuleNotFoundError\n",
      "PackageNotFoundError\n",
      "ZipImportError\n",
      "LookupError\n",
      "IndexError\n",
      "KeyError\n",
      "NoSuchKernel\n",
      "UnknownBackend\n",
      "CodecRegistryError\n",
      "MemoryError\n",
      "NameError\n",
      "UnboundLocalError\n",
      "OSError\n",
      "BlockingIOError\n",
      "ChildProcessError\n",
      "ConnectionError\n",
      "BrokenPipeError\n",
      "ConnectionAbortedError\n",
      "ConnectionRefusedError\n",
      "ConnectionResetError\n",
      "RemoteDisconnected\n",
      "FileExistsError\n",
      "FileNotFoundError\n",
      "InterruptedError\n",
      "InterruptedSystemCall\n",
      "IsADirectoryError\n",
      "NotADirectoryError\n",
      "PermissionError\n",
      "ProcessLookupError\n",
      "TimeoutError\n",
      "UnsupportedOperation\n",
      "herror\n",
      "gaierror\n",
      "SSLError\n",
      "SSLCertVerificationError\n",
      "SSLZeroReturnError\n",
      "SSLWantWriteError\n",
      "SSLWantReadError\n",
      "SSLSyscallError\n",
      "SSLEOFError\n",
      "Error\n",
      "SameFileError\n",
      "SpecialFileError\n",
      "ExecError\n",
      "ReadError\n",
      "URLError\n",
      "HTTPError\n",
      "ContentTooShortError\n",
      "BadGzipFile\n",
      "ReferenceError\n",
      "RuntimeError\n",
      "NotImplementedError\n",
      "ZMQVersionError\n",
      "StdinNotImplementedError\n",
      "RecursionError\n",
      "_DeadlockError\n",
      "BrokenBarrierError\n",
      "BrokenExecutor\n",
      "BrokenThreadPool\n",
      "SendfileNotAvailableError\n",
      "BrokenBarrierError\n",
      "ExtractionError\n",
      "VariableError\n",
      "StopAsyncIteration\n",
      "StopIteration\n",
      "SyntaxError\n",
      "IndentationError\n",
      "TabError\n",
      "SystemError\n",
      "CodecRegistryError\n",
      "TypeError\n",
      "FloatOperation\n",
      "MultipartConversionError\n",
      "ValueError\n",
      "UnicodeError\n",
      "UnicodeDecodeError\n",
      "UnicodeEncodeError\n",
      "UnicodeTranslateError\n",
      "UnsupportedOperation\n",
      "JSONDecodeError\n",
      "SSLCertVerificationError\n",
      "Error\n",
      "AddressValueError\n",
      "NetmaskValueError\n",
      "UnsupportedDigestmodError\n",
      "IllegalMonthError\n",
      "IllegalWeekdayError\n",
      "ParserError\n",
      "MessageDefect\n",
      "NoBoundaryInMultipartDefect\n",
      "StartBoundaryNotFoundDefect\n",
      "CloseBoundaryNotFoundDefect\n",
      "FirstHeaderLineIsContinuationDefect\n",
      "MisplacedEnvelopeHeaderDefect\n",
      "MissingHeaderBodySeparatorDefect\n",
      "MultipartInvariantViolationDefect\n",
      "InvalidMultipartContentTransferEncodingDefect\n",
      "UndecodableBytesDefect\n",
      "InvalidBase64PaddingDefect\n",
      "InvalidBase64CharactersDefect\n",
      "InvalidBase64LengthDefect\n",
      "HeaderDefect\n",
      "InvalidHeaderDefect\n",
      "HeaderMissingRequiredValue\n",
      "NonPrintableDefect\n",
      "ObsoleteHeaderDefect\n",
      "NonASCIILocalPartDefect\n",
      "InvalidDateDefect\n",
      "ClassNotFound\n",
      "ClipboardEmpty\n",
      "MacroToEdit\n",
      "InvalidFileException\n",
      "UnequalIterablesError\n",
      "InvalidVersion\n",
      "_InvalidELFFileHeader\n",
      "InvalidWheelFilename\n",
      "InvalidSdistFilename\n",
      "InvalidSpecifier\n",
      "InvalidMarker\n",
      "UndefinedComparison\n",
      "UndefinedEnvironmentName\n",
      "InvalidRequirement\n",
      "RequirementParseError\n",
      "InvalidVersion\n",
      "Warning\n",
      "BytesWarning\n",
      "DeprecationWarning\n",
      "ProvisionalWarning\n",
      "EncodingWarning\n",
      "FutureWarning\n",
      "ProvisionalCompleterWarning\n",
      "ImportWarning\n",
      "PendingDeprecationWarning\n",
      "ResourceWarning\n",
      "RuntimeWarning\n",
      "ProactorSelectorThreadWarning\n",
      "UnknownTimezoneWarning\n",
      "PEP440Warning\n",
      "SyntaxWarning\n",
      "UnicodeWarning\n",
      "UserWarning\n",
      "GetPassWarning\n",
      "FormatterWarning\n",
      "DeprecatedTzFormatWarning\n",
      "PkgResourcesDeprecationWarning\n",
      "ExceptionGroup\n",
      "_OptionError\n",
      "_Error\n",
      "error\n",
      "Error\n",
      "SubprocessError\n",
      "CalledProcessError\n",
      "TimeoutExpired\n",
      "ZMQBaseError\n",
      "ZMQError\n",
      "ContextTerminated\n",
      "Again\n",
      "InterruptedSystemCall\n",
      "ZMQBindError\n",
      "NotDone\n",
      "Error\n",
      "error\n",
      "PickleError\n",
      "PicklingError\n",
      "UnpicklingError\n",
      "_Stop\n",
      "TokenError\n",
      "StopTokenizing\n",
      "Error\n",
      "CancelledError\n",
      "InvalidStateError\n",
      "_GiveupOnSendfile\n",
      "Incomplete\n",
      "ClassFoundException\n",
      "EndOfBlock\n",
      "InvalidStateError\n",
      "LimitOverrunError\n",
      "QueueEmpty\n",
      "QueueFull\n",
      "error\n",
      "LZMAError\n",
      "RegistryError\n",
      "_GiveupOnFastCopy\n",
      "TraitError\n",
      "Empty\n",
      "Full\n",
      "ArgumentError\n",
      "COMError\n",
      "ReturnValueIgnoredError\n",
      "ArgumentError\n",
      "ArgumentTypeError\n",
      "ConfigError\n",
      "ConfigLoaderError\n",
      "ArgumentError\n",
      "ConfigFileNotFound\n",
      "ConfigurableError\n",
      "MultipleInstanceError\n",
      "ApplicationError\n",
      "InvalidPortNumber\n",
      "NoIPAddresses\n",
      "Error\n",
      "BadZipFile\n",
      "LargeZipFile\n",
      "MessageError\n",
      "MessageParseError\n",
      "HeaderParseError\n",
      "BoundaryError\n",
      "MultipartConversionError\n",
      "CharsetError\n",
      "DuplicateKernelError\n",
      "ErrorDuringImport\n",
      "NotOneValueFound\n",
      "KnownIssue\n",
      "VerifierFailure\n",
      "CannotEval\n",
      "OptionError\n",
      "BdbQuit\n",
      "Restart\n",
      "FindCmdError\n",
      "HomeDirError\n",
      "ProfileDirError\n",
      "IPythonCoreError\n",
      "TryNext\n",
      "UsageError\n",
      "StdinNotImplementedError\n",
      "InputRejected\n",
      "GetoptError\n",
      "ErrorToken\n",
      "PrefilterError\n",
      "AliasError\n",
      "InvalidAliasError\n",
      "Error\n",
      "InterfaceError\n",
      "DatabaseError\n",
      "InternalError\n",
      "OperationalError\n",
      "ProgrammingError\n",
      "IntegrityError\n",
      "DataError\n",
      "NotSupportedError\n",
      "Warning\n",
      "SpaceInInput\n",
      "DOMException\n",
      "IndexSizeErr\n",
      "DomstringSizeErr\n",
      "HierarchyRequestErr\n",
      "WrongDocumentErr\n",
      "InvalidCharacterErr\n",
      "NoDataAllowedErr\n",
      "NoModificationAllowedErr\n",
      "NotFoundErr\n",
      "NotSupportedErr\n",
      "InuseAttributeErr\n",
      "InvalidStateErr\n",
      "SyntaxErr\n",
      "InvalidModificationErr\n",
      "NamespaceErr\n",
      "InvalidAccessErr\n",
      "ValidationErr\n",
      "ValidationError\n",
      "EditReadOnlyBuffer\n",
      "_Retry\n",
      "InvalidLayoutError\n",
      "HeightIsUnknownError\n",
      "GuardRejection\n",
      "ParserSyntaxError\n",
      "InternalParseError\n",
      "_PositionUpdatingFinished\n",
      "SimpleGetItemNotFound\n",
      "UncaughtAttributeError\n",
      "HasNoContext\n",
      "ParamIssue\n",
      "_JediError\n",
      "InternalError\n",
      "WrongVersion\n",
      "RefactoringError\n",
      "OnErrorLeaf\n",
      "InvalidPythonEnvironment\n",
      "HTTPException\n",
      "NotConnected\n",
      "InvalidURL\n",
      "UnknownProtocol\n",
      "UnknownTransferEncoding\n",
      "UnimplementedFileMode\n",
      "IncompleteRead\n",
      "ImproperConnectionState\n",
      "CannotSendRequest\n",
      "CannotSendHeader\n",
      "ResponseNotReady\n",
      "BadStatusLine\n",
      "RemoteDisconnected\n",
      "LineTooLong\n",
      "InteractivelyDefined\n",
      "KillEmbedded\n",
      "Error\n",
      "NoSuchProcess\n",
      "ZombieProcess\n",
      "AccessDenied\n",
      "TimeoutExpired\n",
      "Error\n",
      "TimeoutExpired\n",
      "TimeoutAbandoned\n",
      "KeyReuseError\n",
      "UnknownKeyError\n",
      "LeakedCallbackError\n",
      "BadYieldError\n",
      "ReturnValueIgnoredError\n",
      "Return\n",
      "QueueEmpty\n",
      "QueueFull\n",
      "DebuggerInitializationError\n",
      "ExpatError\n",
      "Error\n",
      "ProtocolError\n",
      "ResponseError\n",
      "Fault\n",
      "error\n",
      "com_error\n",
      "internal_error\n",
      "ParseBaseException\n",
      "ParseException\n",
      "ParseFatalException\n",
      "ParseSyntaxException\n",
      "RecursiveGrammarException\n",
      "ResolutionError\n",
      "VersionConflict\n",
      "ContextualVersionConflict\n",
      "DistributionNotFound\n",
      "UnknownExtra\n",
      "_Error\n",
      "UnableToResolveVariableException\n",
      "InvalidTypeInArgsException\n",
      "GeneratorExit\n",
      "KeyboardInterrupt\n",
      "SystemExit\n",
      "CancelledError\n",
      "AbortThread\n"
     ]
    }
   ],
   "source": [
    "print_exception_hierarchy(BaseException)"
   ]
  },
  {
   "cell_type": "markdown",
   "id": "86a74656-f99f-4ce2-92a9-300f00d55dbc",
   "metadata": {},
   "source": [
    "#### Q3. What errors are defined in the ArithmeticError class? Explain any two with an example."
   ]
  },
  {
   "cell_type": "markdown",
   "id": "75349c72-e9a4-4933-9911-41203fd45316",
   "metadata": {},
   "source": [
    "#### Answer:"
   ]
  },
  {
   "cell_type": "markdown",
   "id": "5120533e-f5eb-4362-b7e3-ac16c78f88a8",
   "metadata": {},
   "source": [
    "the ArithmeticError class serves as a parent class for more specific arithmetic related exceptions. The Two exceptions that are defined as subclasses of ArithmeticError are ZeroDivisionError and OverflowError."
   ]
  },
  {
   "cell_type": "markdown",
   "id": "4989ac4c-04e6-40cb-aebb-9cb9339c2a45",
   "metadata": {},
   "source": [
    "1. ZeroDivisionError: This exception is raised when we try to divide a number by zero.\n",
    "example:"
   ]
  },
  {
   "cell_type": "code",
   "execution_count": 3,
   "id": "dc47f8f2-c9d6-4fc7-a3ed-ed525ac9bae7",
   "metadata": {},
   "outputs": [],
   "source": [
    "def Division(a,b):\n",
    "    result = a / b\n",
    "    return result"
   ]
  },
  {
   "cell_type": "code",
   "execution_count": 6,
   "id": "4ab3bcea-1d34-46a4-999e-e6712b9904a7",
   "metadata": {},
   "outputs": [
    {
     "name": "stdout",
     "output_type": "stream",
     "text": [
      "Error: division by zero\n"
     ]
    }
   ],
   "source": [
    "try:\n",
    "    print(Division(10,0))\n",
    "except ZeroDivisionError as e:\n",
    "    print(\"Error:\", e)"
   ]
  },
  {
   "cell_type": "markdown",
   "id": "458d4647-c8b0-4ce7-abc8-d127537fe896",
   "metadata": {},
   "source": [
    "#### Q4. Why LookupError class is used? Explain with an example KeyError and IndexError."
   ]
  },
  {
   "cell_type": "markdown",
   "id": "99a3f7dc-0173-496c-b08c-ea342f3f2f51",
   "metadata": {},
   "source": [
    "#### Answer:"
   ]
  },
  {
   "cell_type": "markdown",
   "id": "4f0094e2-1027-46e0-a2f3-887653a2d681",
   "metadata": {},
   "source": [
    "the LookupError class is a base class for exceptions that occur when a specified key or index is not found in a sequence, mapping. LookupError class is used Because, it provides a way to catch and handle errors related to looking up values in collections like lists, dictionaries. KeyError and IndexError are the subclass of LookupError."
   ]
  },
  {
   "cell_type": "markdown",
   "id": "3d7f8e05-0474-41ec-880a-b7a47071bfe2",
   "metadata": {},
   "source": [
    "1. KeyError: KeyError is raised when we try to access a dictionary using a key that doesn't exist in the dictionary. Example:"
   ]
  },
  {
   "cell_type": "code",
   "execution_count": 7,
   "id": "421b7931-b982-4766-a8cf-727778034f98",
   "metadata": {},
   "outputs": [
    {
     "name": "stdout",
     "output_type": "stream",
     "text": [
      "KeyError: 'Teacher'\n"
     ]
    }
   ],
   "source": [
    "my_dict = {'course': 'Data_Science', 'Tutor': 'Sudhanshu_sir', 'Platform': 'Pwskills'}\n",
    "\n",
    "try:\n",
    "    value = my_dict['Teacher']\n",
    "except KeyError as e:\n",
    "    print(f\"KeyError: {e}\")"
   ]
  },
  {
   "cell_type": "markdown",
   "id": "a3bc5800-63c2-41ac-a351-ad77a0b1a251",
   "metadata": {},
   "source": [
    "2. IndexError: IndexError is raised when we try to access an index in a sequence (i.e a list or a string) which is out of range. Example:"
   ]
  },
  {
   "cell_type": "code",
   "execution_count": 8,
   "id": "4c56f2f0-0678-49d4-a696-40b94ffec212",
   "metadata": {},
   "outputs": [
    {
     "name": "stdout",
     "output_type": "stream",
     "text": [
      "IndexError: list index out of range\n"
     ]
    }
   ],
   "source": [
    "my_list = [1,2,3,4,5]\n",
    "\n",
    "try:\n",
    "    value = my_list[9]\n",
    "except IndexError as e:\n",
    "    print(f\"IndexError: {e}\")"
   ]
  },
  {
   "cell_type": "markdown",
   "id": "b8b535eb-5d69-413e-b847-5ea71dff0250",
   "metadata": {},
   "source": [
    "#### Q5. Explain ImportError. What is ModuleNotFoundError?"
   ]
  },
  {
   "cell_type": "markdown",
   "id": "9abecde9-4c26-429a-a19d-95b63cec5b5a",
   "metadata": {},
   "source": [
    "#### Answer:"
   ]
  },
  {
   "cell_type": "markdown",
   "id": "8c0acdfe-2375-4765-a90f-7c69bdea7e73",
   "metadata": {},
   "source": [
    "ImportError is a built-in exception and occurs when there is a problem importing a module. This error indicates that Python cannot locate or load the specified module."
   ]
  },
  {
   "cell_type": "code",
   "execution_count": 10,
   "id": "cb566528-5cf7-4fb2-b5e0-73fe8f1b6286",
   "metadata": {},
   "outputs": [
    {
     "name": "stdout",
     "output_type": "stream",
     "text": [
      "ImportError: No module named 'sudhanshu_sir_files'\n"
     ]
    }
   ],
   "source": [
    "try:\n",
    "    import sudhanshu_sir_files\n",
    "except ImportError as e:\n",
    "    print(\"ImportError:\", e)"
   ]
  },
  {
   "cell_type": "markdown",
   "id": "7e2a75d4-cbdd-4c9e-9119-b9079341d54e",
   "metadata": {},
   "source": [
    "ModuleNotFoundError is a subclass of ImportError. It is raised when a module cannot be found in the Python search path. This error is raised when you try to import a module that does not exist."
   ]
  },
  {
   "cell_type": "markdown",
   "id": "f6169302-adef-456c-a692-7410a10c8e3f",
   "metadata": {},
   "source": [
    "#### Q6. List down some best practices for exception handling in python."
   ]
  },
  {
   "cell_type": "markdown",
   "id": "33b5745a-6e38-474d-bc38-74262f5de686",
   "metadata": {},
   "source": [
    "#### Answer:"
   ]
  },
  {
   "cell_type": "markdown",
   "id": "fc326377-e046-4c7d-95c3-09d422bdacad",
   "metadata": {},
   "source": [
    "The best practices for python exception handling are:"
   ]
  },
  {
   "cell_type": "markdown",
   "id": "6a95ea14-3fa4-4096-ab9b-5ecb916445b5",
   "metadata": {},
   "source": [
    "1. We should always use specific exceptions rather than the Superclass Exception"
   ]
  },
  {
   "cell_type": "markdown",
   "id": "5932e6b6-4fb1-4e99-b839-f30da1b114a4",
   "metadata": {},
   "source": [
    "2. print always a proper message. for example: If you are handling a ZeroDivision Error, print a proper message. This increases the code Readability and makes it userfriendly"
   ]
  },
  {
   "cell_type": "markdown",
   "id": "67114aac-22ff-4e07-92cf-0cb00b1eae11",
   "metadata": {},
   "source": [
    "3. Always try to log your error. Logging your error will help you find errors in large blocks of code. So always make sure to log your error."
   ]
  },
  {
   "cell_type": "markdown",
   "id": "b6910d01-7487-4d30-98ed-125ea54f98fb",
   "metadata": {},
   "source": [
    "4. Always avoid to write multiple Exception Handling. As we know, Python reads code line by line. If you try to use multiple exception. Python will consider the first one, rather than the second. So avoid to write multiple Exception Handling "
   ]
  },
  {
   "cell_type": "markdown",
   "id": "29f0127c-c747-4cfa-941b-d0d89c22ce17",
   "metadata": {},
   "source": [
    "5. Document all the error. Remember, your code should be Neat and clean. The front end user reading it should not face difficulty to understand. So always do a proper documentation with a proper meaning."
   ]
  },
  {
   "cell_type": "markdown",
   "id": "a0e3437e-d26d-41d6-958d-129912d4695c",
   "metadata": {},
   "source": [
    "6. Cleanup all the resources. For example: If you are opening a file to do some work. Don't forget it to close or shutdown. This will ensure your resource is not underutilized or over utilized in any circumstances."
   ]
  }
 ],
 "metadata": {
  "kernelspec": {
   "display_name": "Python 3 (ipykernel)",
   "language": "python",
   "name": "python3"
  },
  "language_info": {
   "codemirror_mode": {
    "name": "ipython",
    "version": 3
   },
   "file_extension": ".py",
   "mimetype": "text/x-python",
   "name": "python",
   "nbconvert_exporter": "python",
   "pygments_lexer": "ipython3",
   "version": "3.11.4"
  }
 },
 "nbformat": 4,
 "nbformat_minor": 5
}
