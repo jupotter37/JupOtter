{
 "cells": [
  {
   "cell_type": "code",
   "execution_count": 2,
   "id": "7d916107-49f4-47c2-93fb-a0d3851f32a6",
   "metadata": {},
   "outputs": [],
   "source": [
    "import logging\n",
    "logging.basicConfig(filename= \"excetionalop.log:\", level= logging.DEBUG, format= '%(asctime)s %(message)s')"
   ]
  },
  {
   "cell_type": "markdown",
   "id": "b3ee4ce4-1d79-489d-92ea-a8f8199c6c73",
   "metadata": {},
   "source": [
    "# Question 1"
   ]
  },
  {
   "cell_type": "markdown",
   "id": "e3d60c94-f3ff-4c62-81e6-aa87baca4bf6",
   "metadata": {},
   "source": [
    " While we create custom Exception class it should basically inherit prior existing exceptions which is already defined in the build in exception class. <br>\n",
    " Hence, we use Exception class."
   ]
  },
  {
   "cell_type": "markdown",
   "id": "e072a27d-6b70-4911-9105-14b079c25816",
   "metadata": {},
   "source": [
    "# Question 2"
   ]
  },
  {
   "cell_type": "code",
   "execution_count": 3,
   "id": "973e9dd2-03b1-4871-a61a-764fccee5cbb",
   "metadata": {},
   "outputs": [
    {
     "name": "stdout",
     "output_type": "stream",
     "text": [
      "BaseException\n",
      "object\n"
     ]
    }
   ],
   "source": [
    "import sys\n",
    "\n",
    "def print_exception_heirarchy():\n",
    "    \n",
    "    exc = BaseException\n",
    "    while exc:\n",
    "        print(exc.__name__)\n",
    "        logging.info(exc.__name__)\n",
    "        exc = exc.__base__\n",
    "        \n",
    "\n",
    "if __name__ == '__main__':\n",
    "    print_exception_heirarchy()"
   ]
  },
  {
   "cell_type": "markdown",
   "id": "ae4bb588-4bcf-4c53-8cb3-0079158f96f4",
   "metadata": {},
   "source": [
    "# Question 3"
   ]
  },
  {
   "cell_type": "markdown",
   "id": "caa84b2d-eb3f-439d-b25d-57e3532fc71e",
   "metadata": {},
   "source": [
    "The two types of ArithmeticError class are \n",
    "1) ZeroDivisionError\n",
    "2) OverflowError\n"
   ]
  },
  {
   "cell_type": "markdown",
   "id": "4226d2a4-59f6-4085-b9c0-10cae8853f87",
   "metadata": {},
   "source": [
    "1) ZeroDivisionError"
   ]
  },
  {
   "cell_type": "markdown",
   "id": "db9670f5-7ed8-462c-8afc-ec770598dd43",
   "metadata": {},
   "source": [
    "In this whenever a number is divided by zero the program raise an error."
   ]
  },
  {
   "cell_type": "markdown",
   "id": "ce5b23aa-88dd-4e57-8af2-ed94db8d6978",
   "metadata": {},
   "source": [
    "2) OverflowError"
   ]
  },
  {
   "cell_type": "markdown",
   "id": "87571879-258b-4482-9784-74bb34246dbf",
   "metadata": {},
   "source": [
    "It is raised when the result of an arithmetic operation is too large to be represented by the numeric type."
   ]
  },
  {
   "cell_type": "code",
   "execution_count": 5,
   "id": "a728bb69-afac-427f-9af3-b57cd4183b23",
   "metadata": {},
   "outputs": [
    {
     "name": "stdin",
     "output_type": "stream",
     "text": [
      "Enter the first no 4587\n",
      "Enter the second no 69\n"
     ]
    },
    {
     "name": "stdout",
     "output_type": "stream",
     "text": [
      "Result is too large\n"
     ]
    }
   ],
   "source": [
    "var1 = int(input(\"Enter the first no\"))\n",
    "var2 = int(input(\"Enter the second no\"))\n",
    "           \n",
    "try:\n",
    "     \n",
    "    res = var1**var2\n",
    "    if res>1e10:\n",
    "        raise OverflowError(\"Result is too large\")\n",
    "except OverflowError as e:\n",
    "    logging.warning(e)\n",
    "    print(e)\n",
    "else:\n",
    "    logging.info(res)\n",
    "    print(res)"
   ]
  },
  {
   "cell_type": "markdown",
   "id": "23e5efa6-0b62-47ad-936f-81de1563e3c6",
   "metadata": {},
   "source": [
    "# Question 4"
   ]
  },
  {
   "cell_type": "markdown",
   "id": "092f64b7-0561-4a8a-b096-f5c365627b3b",
   "metadata": {},
   "source": [
    "LookupError is a type of exception where a key or index usde on a mapping or sequence of list or a dictionary is invalid or does not exists"
   ]
  },
  {
   "cell_type": "markdown",
   "id": "3205011d-33e7-4cf1-9b96-cb18e8902db2",
   "metadata": {},
   "source": [
    "<b> Key Error </b>"
   ]
  },
  {
   "cell_type": "code",
   "execution_count": 9,
   "id": "02fe5b3f-4a3c-470c-a0c8-c04b350e8e74",
   "metadata": {},
   "outputs": [
    {
     "name": "stdout",
     "output_type": "stream",
     "text": [
      "Key does not exist\n"
     ]
    }
   ],
   "source": [
    "d = {'a' : 1, 'b' : 2 , 'c' : 3}\n",
    "\n",
    "try: \n",
    "    \n",
    "    if 'd' in d:\n",
    "        logging.info(d['d'])\n",
    "        print(d['d'])\n",
    "    else: \n",
    "        raise LookupError(\"Key does not exist\")\n",
    "except LookupError as e:\n",
    "    logging.warning(e)\n",
    "    print(e)"
   ]
  },
  {
   "cell_type": "markdown",
   "id": "32db7468-3aac-4319-9ed4-60ba12eec3e8",
   "metadata": {},
   "source": [
    "<b> IndexError </b>"
   ]
  },
  {
   "cell_type": "code",
   "execution_count": 11,
   "id": "5263f45a-c8d5-4528-92c3-0f903ae36c2f",
   "metadata": {},
   "outputs": [
    {
     "name": "stdout",
     "output_type": "stream",
     "text": [
      "list index out of range\n"
     ]
    }
   ],
   "source": [
    "l = [1,2,3,4,5]\n",
    "\n",
    "try:\n",
    "    print(l[5])\n",
    "    logging.info(l[5])\n",
    "except LookupError as e:\n",
    "    logging.warning(e)\n",
    "    print(e)"
   ]
  },
  {
   "cell_type": "markdown",
   "id": "baeb90f7-0a22-47eb-b3a0-8bfdab659330",
   "metadata": {},
   "source": [
    "# Quesiton 5"
   ]
  },
  {
   "cell_type": "markdown",
   "id": "934e71a0-db5c-4e5e-8a8f-f9dee6f00954",
   "metadata": {},
   "source": [
    "ImportError occure when a programmer tries to import a module which doesnot exists and ModuleNotFoundError also serves as importerror however it is more specific."
   ]
  },
  {
   "cell_type": "code",
   "execution_count": 13,
   "id": "6269d1d0-4cc5-43fb-9e73-7eebc2ca56c1",
   "metadata": {},
   "outputs": [
    {
     "name": "stdout",
     "output_type": "stream",
     "text": [
      "No module named 'syst'\n"
     ]
    }
   ],
   "source": [
    "try:\n",
    "    import syst\n",
    "except ModuleNotFoundError as e:\n",
    "    logging.error(e)\n",
    "    print(e)"
   ]
  },
  {
   "cell_type": "markdown",
   "id": "00a39de0-e347-4f49-af5a-e508ab2bca39",
   "metadata": {},
   "source": [
    "# Question 6"
   ]
  },
  {
   "cell_type": "markdown",
   "id": "35e6edab-61e1-41f6-95c9-f686c200b50f",
   "metadata": {},
   "source": [
    "Some of the best practices for exception handling in python are as follows:-"
   ]
  },
  {
   "cell_type": "markdown",
   "id": "a7b5917f-33b5-40f7-9d1e-125fdf838278",
   "metadata": {},
   "source": [
    "- Always use specific exception\n",
    "- Always print a proper message.\n",
    "- Always try to log your error.\n",
    "- Always avoid to write a multiple exception handling.\n",
    "- Document all the error.\n",
    "- Clean up all the resources."
   ]
  },
  {
   "cell_type": "markdown",
   "id": "a769acae-4a66-4942-9911-b7d4b2756b0a",
   "metadata": {},
   "source": [
    "# END"
   ]
  }
 ],
 "metadata": {
  "kernelspec": {
   "display_name": "Python 3 (ipykernel)",
   "language": "python",
   "name": "python3"
  },
  "language_info": {
   "codemirror_mode": {
    "name": "ipython",
    "version": 3
   },
   "file_extension": ".py",
   "mimetype": "text/x-python",
   "name": "python",
   "nbconvert_exporter": "python",
   "pygments_lexer": "ipython3",
   "version": "3.10.8"
  }
 },
 "nbformat": 4,
 "nbformat_minor": 5
}
