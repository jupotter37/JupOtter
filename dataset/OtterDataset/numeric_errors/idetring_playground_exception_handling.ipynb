{
 "cells": [
  {
   "cell_type": "markdown",
   "metadata": {},
   "source": [
    "# Exception handling in Python"
   ]
  },
  {
   "cell_type": "markdown",
   "metadata": {},
   "source": [
    "<img src=\"https://realpython.com/cdn-cgi/image/width=1920,format=auto/https://files.realpython.com/media/LBYL-vs-EAPF-in-Python_Watermarked.9dea6e043766.jpg\" width=\"800\" height=\"400\">\n"
   ]
  },
  {
   "cell_type": "markdown",
   "metadata": {},
   "source": [
    "Exceptions are events that can disrupt the normal flow of a program. They are raised whenever the Python interpreter encounters an error.\n",
    "\n",
    "There are multiple types of exceptions in Python. Some of the common exceptions are: \n",
    "- `ZeroDivisionError`: Raised when division or modulo by zero takes place for all numeric types.\n",
    "- `NameError`: Raised when a local or global name is not found.\n",
    "- `TypeError`: Raised when an operation or function is applied to an object of an inappropriate type.\n",
    "- `ValueError`: Raised when a built-in operation or function receives an argument that has the right type but an inappropriate value.\n",
    "- `IndexError`: Raised when a sequence subscript is out of range.\n",
    "- `KeyError`: Raised when a dictionary key is not found.\n",
    "- `FileNotFoundError`: Raised when a file or directory is requested but can't be found.\n",
    "- `ImportError`: Raised when an import statement has trouble successfully importing a module.\n",
    "\n",
    "In this notebook, we will dive a bit deeper into exceptions and will discuss how to handle exceptions in Python using the `try`, `except`, `else`, and `finally` blocks."
   ]
  },
  {
   "cell_type": "code",
   "execution_count": 43,
   "metadata": {},
   "outputs": [
    {
     "ename": "FileNotFoundError",
     "evalue": "[Errno 2] No such file or directory: 'nofile.txt'",
     "output_type": "error",
     "traceback": [
      "\u001b[0;31m---------------------------------------------------------------------------\u001b[0m",
      "\u001b[0;31mFileNotFoundError\u001b[0m                         Traceback (most recent call last)",
      "Cell \u001b[0;32mIn[43], line 9\u001b[0m\n\u001b[1;32m      1\u001b[0m \u001b[38;5;66;03m# ZeroDivision\u001b[39;00m\n\u001b[1;32m      2\u001b[0m \u001b[38;5;66;03m# 1/0\u001b[39;00m\n\u001b[1;32m      3\u001b[0m \u001b[38;5;66;03m# Value\u001b[39;00m\n\u001b[0;32m   (...)\u001b[0m\n\u001b[1;32m      7\u001b[0m \u001b[38;5;66;03m# a['key']\u001b[39;00m\n\u001b[1;32m      8\u001b[0m \u001b[38;5;66;03m## FileNotFOundError\u001b[39;00m\n\u001b[0;32m----> 9\u001b[0m \u001b[38;5;28;01mwith\u001b[39;00m \u001b[38;5;28;43mopen\u001b[39;49m\u001b[43m(\u001b[49m\u001b[38;5;124;43m'\u001b[39;49m\u001b[38;5;124;43mnofile.txt\u001b[39;49m\u001b[38;5;124;43m'\u001b[39;49m\u001b[43m)\u001b[49m \u001b[38;5;28;01mas\u001b[39;00m f:\n\u001b[1;32m     10\u001b[0m     f\u001b[38;5;241m.\u001b[39mread()\n",
      "File \u001b[0;32m/usr/local/Caskroom/mambaforge/base/lib/python3.10/site-packages/IPython/core/interactiveshell.py:286\u001b[0m, in \u001b[0;36m_modified_open\u001b[0;34m(file, *args, **kwargs)\u001b[0m\n\u001b[1;32m    279\u001b[0m \u001b[38;5;28;01mif\u001b[39;00m file \u001b[38;5;129;01min\u001b[39;00m {\u001b[38;5;241m0\u001b[39m, \u001b[38;5;241m1\u001b[39m, \u001b[38;5;241m2\u001b[39m}:\n\u001b[1;32m    280\u001b[0m     \u001b[38;5;28;01mraise\u001b[39;00m \u001b[38;5;167;01mValueError\u001b[39;00m(\n\u001b[1;32m    281\u001b[0m         \u001b[38;5;124mf\u001b[39m\u001b[38;5;124m\"\u001b[39m\u001b[38;5;124mIPython won\u001b[39m\u001b[38;5;124m'\u001b[39m\u001b[38;5;124mt let you open fd=\u001b[39m\u001b[38;5;132;01m{\u001b[39;00mfile\u001b[38;5;132;01m}\u001b[39;00m\u001b[38;5;124m by default \u001b[39m\u001b[38;5;124m\"\u001b[39m\n\u001b[1;32m    282\u001b[0m         \u001b[38;5;124m\"\u001b[39m\u001b[38;5;124mas it is likely to crash IPython. If you know what you are doing, \u001b[39m\u001b[38;5;124m\"\u001b[39m\n\u001b[1;32m    283\u001b[0m         \u001b[38;5;124m\"\u001b[39m\u001b[38;5;124myou can use builtins\u001b[39m\u001b[38;5;124m'\u001b[39m\u001b[38;5;124m open.\u001b[39m\u001b[38;5;124m\"\u001b[39m\n\u001b[1;32m    284\u001b[0m     )\n\u001b[0;32m--> 286\u001b[0m \u001b[38;5;28;01mreturn\u001b[39;00m \u001b[43mio_open\u001b[49m\u001b[43m(\u001b[49m\u001b[43mfile\u001b[49m\u001b[43m,\u001b[49m\u001b[43m \u001b[49m\u001b[38;5;241;43m*\u001b[39;49m\u001b[43margs\u001b[49m\u001b[43m,\u001b[49m\u001b[43m \u001b[49m\u001b[38;5;241;43m*\u001b[39;49m\u001b[38;5;241;43m*\u001b[39;49m\u001b[43mkwargs\u001b[49m\u001b[43m)\u001b[49m\n",
      "\u001b[0;31mFileNotFoundError\u001b[0m: [Errno 2] No such file or directory: 'nofile.txt'"
     ]
    }
   ],
   "source": [
    "### ZeroDivision\n",
    "# 1/0\n",
    "### Value\n",
    "# int('one')\n",
    "### Key\n",
    "# a = {}\n",
    "# a['key']\n",
    "### FileNotFound\n",
    "with open('nofile.txt') as f:\n",
    "    f.read()"
   ]
  },
  {
   "cell_type": "code",
   "execution_count": 92,
   "metadata": {},
   "outputs": [
    {
     "data": {
      "text/plain": [
       "['ArithmeticError',\n",
       " 'AssertionError',\n",
       " 'AttributeError',\n",
       " 'BaseException',\n",
       " 'BlockingIOError',\n",
       " 'BrokenPipeError',\n",
       " 'BufferError',\n",
       " 'BytesWarning',\n",
       " 'ChildProcessError',\n",
       " 'ConnectionAbortedError',\n",
       " 'ConnectionError',\n",
       " 'ConnectionRefusedError',\n",
       " 'ConnectionResetError',\n",
       " 'DeprecationWarning',\n",
       " 'EOFError',\n",
       " 'Ellipsis',\n",
       " 'EncodingWarning',\n",
       " 'EnvironmentError',\n",
       " 'Exception',\n",
       " 'False',\n",
       " 'FileExistsError',\n",
       " 'FileNotFoundError',\n",
       " 'FloatingPointError',\n",
       " 'FutureWarning',\n",
       " 'GeneratorExit',\n",
       " 'IOError',\n",
       " 'ImportError',\n",
       " 'ImportWarning',\n",
       " 'IndentationError',\n",
       " 'IndexError',\n",
       " 'InterruptedError',\n",
       " 'IsADirectoryError',\n",
       " 'KeyError',\n",
       " 'KeyboardInterrupt',\n",
       " 'LookupError',\n",
       " 'MemoryError',\n",
       " 'ModuleNotFoundError',\n",
       " 'NameError',\n",
       " 'None',\n",
       " 'NotADirectoryError',\n",
       " 'NotImplemented',\n",
       " 'NotImplementedError',\n",
       " 'OSError',\n",
       " 'OverflowError',\n",
       " 'PendingDeprecationWarning',\n",
       " 'PermissionError',\n",
       " 'ProcessLookupError',\n",
       " 'RecursionError',\n",
       " 'ReferenceError',\n",
       " 'ResourceWarning',\n",
       " 'RuntimeError',\n",
       " 'RuntimeWarning',\n",
       " 'StopAsyncIteration',\n",
       " 'StopIteration',\n",
       " 'SyntaxError',\n",
       " 'SyntaxWarning',\n",
       " 'SystemError',\n",
       " 'SystemExit',\n",
       " 'TabError',\n",
       " 'TimeoutError',\n",
       " 'True',\n",
       " 'TypeError',\n",
       " 'UnboundLocalError',\n",
       " 'UnicodeDecodeError',\n",
       " 'UnicodeEncodeError',\n",
       " 'UnicodeError',\n",
       " 'UnicodeTranslateError',\n",
       " 'UnicodeWarning',\n",
       " 'UserWarning',\n",
       " 'ValueError',\n",
       " 'Warning',\n",
       " 'ZeroDivisionError',\n",
       " '__IPYTHON__',\n",
       " '__build_class__',\n",
       " '__debug__',\n",
       " '__doc__',\n",
       " '__import__',\n",
       " '__loader__',\n",
       " '__name__',\n",
       " '__package__',\n",
       " '__spec__',\n",
       " 'abs',\n",
       " 'aiter',\n",
       " 'all',\n",
       " 'anext',\n",
       " 'any',\n",
       " 'ascii',\n",
       " 'bin',\n",
       " 'bool',\n",
       " 'breakpoint',\n",
       " 'bytearray',\n",
       " 'bytes',\n",
       " 'callable',\n",
       " 'chr',\n",
       " 'classmethod',\n",
       " 'compile',\n",
       " 'complex',\n",
       " 'copyright',\n",
       " 'credits',\n",
       " 'delattr',\n",
       " 'dict',\n",
       " 'dir',\n",
       " 'display',\n",
       " 'divmod',\n",
       " 'enumerate',\n",
       " 'eval',\n",
       " 'exec',\n",
       " 'execfile',\n",
       " 'filter',\n",
       " 'float',\n",
       " 'format',\n",
       " 'frozenset',\n",
       " 'get_ipython',\n",
       " 'getattr',\n",
       " 'globals',\n",
       " 'hasattr',\n",
       " 'hash',\n",
       " 'help',\n",
       " 'hex',\n",
       " 'id',\n",
       " 'input',\n",
       " 'int',\n",
       " 'isinstance',\n",
       " 'issubclass',\n",
       " 'iter',\n",
       " 'len',\n",
       " 'license',\n",
       " 'list',\n",
       " 'locals',\n",
       " 'map',\n",
       " 'max',\n",
       " 'memoryview',\n",
       " 'min',\n",
       " 'next',\n",
       " 'object',\n",
       " 'oct',\n",
       " 'open',\n",
       " 'ord',\n",
       " 'pow',\n",
       " 'print',\n",
       " 'property',\n",
       " 'range',\n",
       " 'repr',\n",
       " 'reversed',\n",
       " 'round',\n",
       " 'runfile',\n",
       " 'set',\n",
       " 'setattr',\n",
       " 'slice',\n",
       " 'sorted',\n",
       " 'staticmethod',\n",
       " 'str',\n",
       " 'sum',\n",
       " 'super',\n",
       " 'tuple',\n",
       " 'type',\n",
       " 'vars',\n",
       " 'zip']"
      ]
     },
     "execution_count": 92,
     "metadata": {},
     "output_type": "execute_result"
    }
   ],
   "source": [
    "dir(locals()['__builtins__']) # returns a list of all inbuilt objects, including Exceptions"
   ]
  },
  {
   "cell_type": "markdown",
   "metadata": {},
   "source": [
    "### Raise Exceptions"
   ]
  },
  {
   "cell_type": "code",
   "execution_count": 44,
   "metadata": {},
   "outputs": [
    {
     "ename": "KeyError",
     "evalue": "'some random error message'",
     "output_type": "error",
     "traceback": [
      "\u001b[0;31m---------------------------------------------------------------------------\u001b[0m",
      "\u001b[0;31mKeyError\u001b[0m                                  Traceback (most recent call last)",
      "Cell \u001b[0;32mIn[44], line 2\u001b[0m\n\u001b[1;32m      1\u001b[0m \u001b[38;5;66;03m## raise exceptions on your own\u001b[39;00m\n\u001b[0;32m----> 2\u001b[0m \u001b[38;5;28;01mraise\u001b[39;00m \u001b[38;5;167;01mKeyError\u001b[39;00m(\u001b[38;5;124m'\u001b[39m\u001b[38;5;124msome random error message\u001b[39m\u001b[38;5;124m'\u001b[39m)\n",
      "\u001b[0;31mKeyError\u001b[0m: 'some random error message'"
     ]
    }
   ],
   "source": [
    "## raise exceptions on your own\n",
    "raise KeyError('some random error message')"
   ]
  },
  {
   "cell_type": "markdown",
   "metadata": {},
   "source": [
    "Exceptions are raised by the Python interpreter when an error is encountered. We can also raise exceptions explicitly using the `raise` statement. Typically a programmer tends to prevent exceptions - this is called the **'look before you leap'** approach. But sometimes it is beneficial to ask for forgiveness than permission instead - this is called the **'easier to ask for forgiveness than permission'** approach."
   ]
  },
  {
   "cell_type": "markdown",
   "metadata": {},
   "source": [
    "## LBYL (Look Before You Leap) or EAFP (Easier to Ask for Forgiveness than Permission)\n",
    "\n",
    "Python supports two different philosophies for handling exceptions: LBYL (Look Before You Leap) and EAFP (Easier to Ask for Forgiveness than Permission).\n",
    "\n",
    "- LBYL: This approach suggests that you should check if an operation can be performed before actually performing it. This is done by checking if the operation is valid for the given input. If the operation is valid, then the operation is performed. Otherwise, an exception is raised or an alternative approach is chosen.\n",
    "\n",
    "- EAFP: This approach suggests that you should just perform the operation and handle the exception if it occurs. This is done by performing the operation and handling the exception if it occurs. This is considered more Pythonic and is often more readable and concise.\n",
    "\n",
    "\n",
    "| LBYL 'Look before you leap' | EAFP 'Easier to ask for forgiveness than permission'  |\n",
    "| --- | --- |\n",
    "| Check if an operation can be performed before actually performing it | Perform the operation and handle the exception if it occurs |\n",
    "| Often involves multiple checks and conditional statements | Often involves try-except blocks |\n",
    "| Runs into problems when multiple threads are involved | Works well with multiple threads |\n",
    "| More verbose and less concise | More Pythonic and concise |\n"
   ]
  },
  {
   "cell_type": "markdown",
   "metadata": {},
   "source": [
    "#### Typical examples for the two approaches"
   ]
  },
  {
   "cell_type": "code",
   "execution_count": 40,
   "metadata": {},
   "outputs": [
    {
     "name": "stdout",
     "output_type": "stream",
     "text": [
      "zero division detected\n",
      "zero division detected\n"
     ]
    }
   ],
   "source": [
    "## ZeroDivisionError\n",
    "\n",
    "def divide_lbyl(a, b, default=None):\n",
    "    if b == 0:  # Exceptional situation\n",
    "        print(\"zero division detected\")  # Error handling\n",
    "        return default\n",
    "    return a / b  # Most common situation\n",
    "\n",
    "def divide_eafp(a, b, default=None):\n",
    "    try:\n",
    "        return a / b  # Most common situation\n",
    "    except ZeroDivisionError:  # Exceptional situation\n",
    "        print(\"zero division detected\")  # Error handling\n",
    "        return default\n",
    "    \n",
    "\n",
    "assert divide_lbyl(1,0) == divide_eafp(1,0)\n",
    "assert divide_lbyl(1,1) == divide_eafp(1,1)"
   ]
  },
  {
   "cell_type": "code",
   "execution_count": 41,
   "metadata": {},
   "outputs": [
    {
     "ename": "AssertionError",
     "evalue": "",
     "output_type": "error",
     "traceback": [
      "\u001b[0;31m---------------------------------------------------------------------------\u001b[0m",
      "\u001b[0;31mAssertionError\u001b[0m                            Traceback (most recent call last)",
      "Cell \u001b[0;32mIn[41], line 1\u001b[0m\n\u001b[0;32m----> 1\u001b[0m \u001b[38;5;28;01massert\u001b[39;00m divide_lbyl(\u001b[38;5;241m1\u001b[39m,\u001b[38;5;241m1\u001b[39m) \u001b[38;5;241m==\u001b[39m divide_eafp(\u001b[38;5;241m1\u001b[39m,\u001b[38;5;241m2\u001b[39m)\n",
      "\u001b[0;31mAssertionError\u001b[0m: "
     ]
    }
   ],
   "source": [
    "assert divide_lbyl(1,1) == divide_eafp(1,2)"
   ]
  },
  {
   "cell_type": "markdown",
   "metadata": {},
   "source": [
    "##### A short note on AssertionErrors:\n",
    "\n",
    "AssertionErrors are raised when an `assert` statement fails. The `assert` statement is used to check if an expression is `True`. If the expression is `False`, an `AssertionError` is raised. The `assert` statement is used during debugging to check if an expression is `True`. Those are not exceptions in the sense of the other exceptions, but they are used to raise an exception if a condition is not met. **BUT** since they can be disabled (i think even, they are disabled) with the `-O` flag when running the script, they should be used for debugging purposes only. \n"
   ]
  },
  {
   "cell_type": "code",
   "execution_count": 33,
   "metadata": {},
   "outputs": [],
   "source": [
    "## KeyError\n",
    "\n",
    "data_dict = {'possible_key':10}\n",
    "\n",
    "## LBYL\n",
    "def get_key_lbyl(key,datadict,default=None):\n",
    "    if key in datadict:\n",
    "        return data_dict[key]\n",
    "    else:\n",
    "        return default\n",
    "\n",
    "## EAFP\n",
    "def get_key_eafp(key,datadict,default=None):\n",
    "    try:\n",
    "        return datadict[key]\n",
    "    except KeyError:\n",
    "        return default\n",
    "\n",
    "assert get_key_lbyl('possible_key2',data_dict) == get_key_eafp('possible_key2',data_dict)"
   ]
  },
  {
   "cell_type": "markdown",
   "metadata": {},
   "source": [
    "#### Try...except...else...finally\n",
    "\n",
    "- The try block lets you test a block of code for errors.\n",
    "- The except block lets you handle the error.\n",
    "- The else block lets you execute code if the try block does not raise an exception.\n",
    "- The finally block lets you execute code, regardless of the result of the try- and except blocks."
   ]
  },
  {
   "cell_type": "code",
   "execution_count": 14,
   "metadata": {},
   "outputs": [
    {
     "name": "stdout",
     "output_type": "stream",
     "text": [
      "try - This block is executed until an exception occured\n",
      "else - This line is executed if no exception occured\n",
      "finally- This line is always executed\n"
     ]
    }
   ],
   "source": [
    "## General structure of try...except...else...finally... blocks\n",
    "\n",
    "try:\n",
    "    print('try - This block is executed until an exception occured')\n",
    "except:\n",
    "    print('except - This block is executed if an excetions occured')\n",
    "else:\n",
    "    print('else - This line is executed if no exception occured')\n",
    "finally:\n",
    "    print('finally- This line is always executed')\n"
   ]
  },
  {
   "cell_type": "markdown",
   "metadata": {},
   "source": [
    "### There are multiple things to consider when using try-except blocks: \n",
    "\n",
    "- You can have multiple except blocks to handle different exceptions.\n",
    "```python\n",
    "try:\n",
    "    # code that might raise an exception\n",
    "except ValueError:\n",
    "    # handle ValueError\n",
    "except ZeroDivisionError:\n",
    "    # handle ZeroDivisionError\n",
    "```"
   ]
  },
  {
   "cell_type": "markdown",
   "metadata": {},
   "source": [
    "- If the exception is not handled, the program will terminate."
   ]
  },
  {
   "cell_type": "code",
   "execution_count": null,
   "metadata": {},
   "outputs": [],
   "source": [
    "try:\n",
    "    # code that might raise an exception\n",
    "    1/0\n",
    "except ValueError:\n",
    "    print('Only ValueErrors get handled')"
   ]
  },
  {
   "cell_type": "markdown",
   "metadata": {},
   "source": [
    "- Everything in the try block is executed until an exception is encountered."
   ]
  },
  {
   "cell_type": "code",
   "execution_count": 15,
   "metadata": {},
   "outputs": [
    {
     "name": "stdout",
     "output_type": "stream",
     "text": [
      "try - This block is executed until an exception occured\n",
      "except - This block is executed if an excetions occured\n",
      "1\n"
     ]
    }
   ],
   "source": [
    "try:\n",
    "    print('try - This block is executed until an exception occured')\n",
    "    value = 1\n",
    "    1/0\n",
    "except:\n",
    "    print('except - This block is executed if an excetions occured')\n",
    "\n",
    "print(value)"
   ]
  },
  {
   "cell_type": "markdown",
   "metadata": {},
   "source": [
    "### Defining your own exceptions\n",
    "\n",
    "You can define your own exceptions by creating a new class that inherits from the `Exception` class. This allows you to create custom exceptions that can be raised in your code, when certain conditions are met. \n"
   ]
  },
  {
   "cell_type": "code",
   "execution_count": 93,
   "metadata": {},
   "outputs": [
    {
     "ename": "SelfDefinedException",
     "evalue": "message",
     "output_type": "error",
     "traceback": [
      "\u001b[0;31m---------------------------------------------------------------------------\u001b[0m",
      "\u001b[0;31mSelfDefinedException\u001b[0m                      Traceback (most recent call last)",
      "Cell \u001b[0;32mIn[93], line 9\u001b[0m\n\u001b[1;32m      6\u001b[0m         \u001b[38;5;28msuper\u001b[39m()\u001b[38;5;241m.\u001b[39m\u001b[38;5;21m__init__\u001b[39m(message) \u001b[38;5;66;03m# super-charging the class with its parents methods\u001b[39;00m\n\u001b[1;32m      7\u001b[0m         \u001b[38;5;28mself\u001b[39m\u001b[38;5;241m.\u001b[39mmessage \u001b[38;5;241m=\u001b[39m message\n\u001b[0;32m----> 9\u001b[0m \u001b[38;5;28;01mraise\u001b[39;00m SelfDefinedException(\u001b[38;5;124m'\u001b[39m\u001b[38;5;124mmessage\u001b[39m\u001b[38;5;124m'\u001b[39m)\n",
      "\u001b[0;31mSelfDefinedException\u001b[0m: message"
     ]
    }
   ],
   "source": [
    "class SelfDefinedException(Exception):\n",
    "    pass\n",
    "\n",
    "class SelfDefinedException(Exception):\n",
    "    def __init__(self,message):\n",
    "        super().__init__(message) # super-charging the class with its parents methods\n",
    "        self.message = message\n",
    "\n",
    "raise SelfDefinedException('message')"
   ]
  },
  {
   "cell_type": "code",
   "execution_count": 53,
   "metadata": {},
   "outputs": [],
   "source": [
    "import numpy as np\n",
    "def get_random_number():\n",
    "    value = np.random.randn()    \n",
    "    if round(value) % 2  != 0: raise SelfDefinedException('Value rounds to odd number')\n",
    "    return value"
   ]
  },
  {
   "cell_type": "code",
   "execution_count": 91,
   "metadata": {},
   "outputs": [
    {
     "name": "stdout",
     "output_type": "stream",
     "text": [
      "-0.011284033782787153\n"
     ]
    }
   ],
   "source": [
    "try:\n",
    "    value = get_random_number()\n",
    "except SelfDefinedException:\n",
    "    value = 0\n",
    "\n",
    "print(value)\n"
   ]
  },
  {
   "cell_type": "code",
   "execution_count": null,
   "metadata": {},
   "outputs": [],
   "source": []
  },
  {
   "cell_type": "code",
   "execution_count": 94,
   "metadata": {},
   "outputs": [
    {
     "name": "stdout",
     "output_type": "stream",
     "text": [
      "NotImplementedError: area() method not implemented for Square\n"
     ]
    }
   ],
   "source": [
    "from abc import ABC, abstractmethod\n",
    " \n",
    "class Shape(ABC):\n",
    "    @abstractmethod\n",
    "    def area(self):\n",
    "        pass\n",
    " \n",
    "class Square(Shape):\n",
    "    def area(self):\n",
    "        raise NotImplementedError(\"area() method not implemented for Square\")\n",
    " \n",
    "# Attempting to instantiate Square and call area()\n",
    "try:\n",
    "    square = Square()\n",
    "    square.area()  # This will raise a NotImplementedError\n",
    "except NotImplementedError as e:\n",
    "    print(\"NotImplementedError:\", e)"
   ]
  },
  {
   "cell_type": "markdown",
   "metadata": {},
   "source": [
    "Closing Remarks:\n",
    "\n",
    "- Data analysis and data science projects often involve reading and writing files, working with APIs, and handling large datasets. All of these tasks can raise exceptions. Therefore, it is important to understand how to handle exceptions in Python.\n",
    "- The common, (since intuitive) LBYL approach involves checking if an operation can be performed before actually performing it. This sometimes needs a lot of thoughts, lines of code and identification of all the edge cases. Hence, this approach is often more verbose and less concise.\n",
    "- The EAFP approach is more Pythonic and concise. It involves performing the operation and handling the exception only if it occurs.\n",
    "- Exception handling is a powerful tool in Python that allows you to write robust and reliable code. It helps you to gracefully handle errors and prevent your program from crashing when an exception is raised - especially in cases where you can't predict the exact error that will occur. \n",
    "- As a rule of thumb, you should only catch exceptions that you can handle. Catching all exceptions can make it difficult to debug your code and can hide errors that should be fixed. \n",
    "```python\n",
    "try:\n",
    "    # code that might raise an exception\n",
    "except:\n",
    "    # handle all exceptions - not recommended!\n",
    "\n",
    "try:\n",
    "    # code that might raise an exception\n",
    "except KeyError as e:\n",
    "    # handle only KeyErrors! - recommended!\n",
    "```\n",
    "- There is no one-size-fits-all solution for exception handling. The best approach depends on the specific use case and the requirements of your project. But, the more complex it gets, the more you should consider the EAFP approach."
   ]
  },
  {
   "cell_type": "markdown",
   "metadata": {},
   "source": []
  }
 ],
 "metadata": {
  "kernelspec": {
   "display_name": "base",
   "language": "python",
   "name": "python3"
  },
  "language_info": {
   "codemirror_mode": {
    "name": "ipython",
    "version": 3
   },
   "file_extension": ".py",
   "mimetype": "text/x-python",
   "name": "python",
   "nbconvert_exporter": "python",
   "pygments_lexer": "ipython3",
   "version": "3.10.12"
  }
 },
 "nbformat": 4,
 "nbformat_minor": 2
}
