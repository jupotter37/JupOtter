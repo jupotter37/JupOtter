{
 "cells": [
  {
   "attachments": {},
   "cell_type": "markdown",
   "metadata": {},
   "source": [
    "# Question 1"
   ]
  },
  {
   "attachments": {},
   "cell_type": "markdown",
   "metadata": {},
   "source": [
    "#### In Python, all exceptions must be instances of a class that derives from BaseException . In a try statement with an except clause that mentions a particular class, that clause also handles any exception classes derived from that class (but not exception classes from which it is derived)."
   ]
  },
  {
   "attachments": {},
   "cell_type": "markdown",
   "metadata": {},
   "source": [
    "# Question 2"
   ]
  },
  {
   "cell_type": "code",
   "execution_count": 1,
   "metadata": {},
   "outputs": [
    {
     "name": "stdout",
     "output_type": "stream",
     "text": [
      "Hierarchy for Built-in exceptions is : \n",
      " BaseException\n",
      "___ Exception\n",
      "______ TypeError\n",
      "_________ FloatOperation\n",
      "_________ MultipartConversionError\n",
      "______ StopAsyncIteration\n",
      "______ StopIteration\n",
      "______ ImportError\n",
      "_________ ModuleNotFoundError\n",
      "_________ ZipImportError\n",
      "______ OSError\n",
      "_________ ConnectionError\n",
      "____________ BrokenPipeError\n",
      "____________ ConnectionAbortedError\n",
      "____________ ConnectionRefusedError\n",
      "____________ ConnectionResetError\n",
      "_______________ RemoteDisconnected\n",
      "_________ BlockingIOError\n",
      "_________ ChildProcessError\n",
      "_________ FileExistsError\n",
      "_________ FileNotFoundError\n",
      "_________ IsADirectoryError\n",
      "_________ NotADirectoryError\n",
      "_________ InterruptedError\n",
      "____________ InterruptedSystemCall\n",
      "_________ PermissionError\n",
      "_________ ProcessLookupError\n",
      "_________ TimeoutError\n",
      "_________ UnsupportedOperation\n",
      "_________ herror\n",
      "_________ gaierror\n",
      "_________ timeout\n",
      "_________ SSLError\n",
      "____________ SSLCertVerificationError\n",
      "____________ SSLZeroReturnError\n",
      "____________ SSLWantReadError\n",
      "____________ SSLWantWriteError\n",
      "____________ SSLSyscallError\n",
      "____________ SSLEOFError\n",
      "_________ Error\n",
      "____________ SameFileError\n",
      "_________ SpecialFileError\n",
      "_________ ExecError\n",
      "_________ ReadError\n",
      "_________ URLError\n",
      "____________ HTTPError\n",
      "____________ ContentTooShortError\n",
      "_________ BadGzipFile\n",
      "______ EOFError\n",
      "_________ IncompleteReadError\n",
      "______ RuntimeError\n",
      "_________ RecursionError\n",
      "_________ NotImplementedError\n",
      "____________ ZMQVersionError\n",
      "____________ StdinNotImplementedError\n",
      "_________ _DeadlockError\n",
      "_________ BrokenBarrierError\n",
      "_________ BrokenExecutor\n",
      "_________ SendfileNotAvailableError\n",
      "_________ ExtractionError\n",
      "_________ VariableError\n",
      "______ NameError\n",
      "_________ UnboundLocalError\n",
      "______ AttributeError\n",
      "_________ FrozenInstanceError\n",
      "______ SyntaxError\n",
      "_________ IndentationError\n",
      "____________ TabError\n",
      "______ LookupError\n",
      "_________ IndexError\n",
      "_________ KeyError\n",
      "____________ NoSuchKernel\n",
      "____________ UnknownBackend\n",
      "_________ CodecRegistryError\n",
      "______ ValueError\n",
      "_________ UnicodeError\n",
      "____________ UnicodeEncodeError\n",
      "____________ UnicodeDecodeError\n",
      "____________ UnicodeTranslateError\n",
      "_________ UnsupportedOperation\n",
      "_________ JSONDecodeError\n",
      "_________ SSLCertVerificationError\n",
      "_________ Error\n",
      "_________ IllegalMonthError\n",
      "_________ IllegalWeekdayError\n",
      "_________ ParserError\n",
      "_________ ClassNotFound\n",
      "_________ ClipboardEmpty\n",
      "_________ MessageDefect\n",
      "____________ NoBoundaryInMultipartDefect\n",
      "____________ StartBoundaryNotFoundDefect\n",
      "____________ CloseBoundaryNotFoundDefect\n",
      "____________ FirstHeaderLineIsContinuationDefect\n",
      "____________ MisplacedEnvelopeHeaderDefect\n",
      "____________ MissingHeaderBodySeparatorDefect\n",
      "____________ MultipartInvariantViolationDefect\n",
      "____________ InvalidMultipartContentTransferEncodingDefect\n",
      "____________ UndecodableBytesDefect\n",
      "____________ InvalidBase64PaddingDefect\n",
      "____________ InvalidBase64CharactersDefect\n",
      "____________ InvalidBase64LengthDefect\n",
      "____________ HeaderDefect\n",
      "_______________ InvalidHeaderDefect\n",
      "_______________ HeaderMissingRequiredValue\n",
      "_______________ NonPrintableDefect\n",
      "_______________ ObsoleteHeaderDefect\n",
      "_______________ NonASCIILocalPartDefect\n",
      "_________ MacroToEdit\n",
      "_________ InvalidFileException\n",
      "_________ InvalidVersion\n",
      "_________ InvalidSpecifier\n",
      "_________ InvalidMarker\n",
      "_________ UndefinedComparison\n",
      "_________ UndefinedEnvironmentName\n",
      "_________ InvalidRequirement\n",
      "____________ RequirementParseError\n",
      "______ AssertionError\n",
      "______ ArithmeticError\n",
      "_________ FloatingPointError\n",
      "_________ OverflowError\n",
      "_________ ZeroDivisionError\n",
      "____________ DivisionByZero\n",
      "____________ DivisionUndefined\n",
      "_________ DecimalException\n",
      "____________ Clamped\n",
      "____________ Rounded\n",
      "_______________ Underflow\n",
      "_______________ Overflow\n",
      "____________ Inexact\n",
      "_______________ Underflow\n",
      "_______________ Overflow\n",
      "____________ Subnormal\n",
      "_______________ Underflow\n",
      "____________ DivisionByZero\n",
      "____________ FloatOperation\n",
      "____________ InvalidOperation\n",
      "_______________ ConversionSyntax\n",
      "_______________ DivisionImpossible\n",
      "_______________ DivisionUndefined\n",
      "_______________ InvalidContext\n",
      "______ SystemError\n",
      "_________ CodecRegistryError\n",
      "______ ReferenceError\n",
      "______ MemoryError\n",
      "______ BufferError\n",
      "______ Warning\n",
      "_________ UserWarning\n",
      "____________ GetPassWarning\n",
      "____________ FormatterWarning\n",
      "_________ DeprecationWarning\n",
      "____________ ProvisionalWarning\n",
      "_________ PendingDeprecationWarning\n",
      "_________ SyntaxWarning\n",
      "_________ RuntimeWarning\n",
      "____________ ProactorSelectorThreadWarning\n",
      "____________ UnknownTimezoneWarning\n",
      "____________ PEP440Warning\n",
      "_________ FutureWarning\n",
      "____________ ProvisionalCompleterWarning\n",
      "_________ ImportWarning\n",
      "_________ UnicodeWarning\n",
      "_________ BytesWarning\n",
      "_________ ResourceWarning\n",
      "_________ DeprecatedTzFormatWarning\n",
      "_________ PkgResourcesDeprecationWarning\n",
      "______ Error\n",
      "______ _OptionError\n",
      "______ error\n",
      "______ Verbose\n",
      "______ _Error\n",
      "______ SubprocessError\n",
      "_________ CalledProcessError\n",
      "_________ TimeoutExpired\n",
      "______ TokenError\n",
      "______ StopTokenizing\n",
      "______ ClassFoundException\n",
      "______ EndOfBlock\n",
      "______ TraitError\n",
      "______ Error\n",
      "______ Error\n",
      "_________ CancelledError\n",
      "_________ TimeoutError\n",
      "_________ InvalidStateError\n",
      "______ _GiveupOnSendfile\n",
      "______ error\n",
      "______ Incomplete\n",
      "______ TimeoutError\n",
      "______ InvalidStateError\n",
      "______ LimitOverrunError\n",
      "______ QueueEmpty\n",
      "______ QueueFull\n",
      "______ error\n",
      "______ LZMAError\n",
      "______ RegistryError\n",
      "______ _GiveupOnFastCopy\n",
      "______ Empty\n",
      "______ Full\n",
      "______ ZMQBaseError\n",
      "_________ ZMQError\n",
      "____________ ContextTerminated\n",
      "____________ Again\n",
      "____________ InterruptedSystemCall\n",
      "_________ ZMQBindError\n",
      "_________ NotDone\n",
      "______ PickleError\n",
      "_________ PicklingError\n",
      "_________ UnpicklingError\n",
      "______ _Stop\n",
      "______ ArgumentError\n",
      "______ ArgumentTypeError\n",
      "______ ConfigError\n",
      "_________ ConfigLoaderError\n",
      "____________ ArgumentError\n",
      "_________ ConfigFileNotFound\n",
      "______ ConfigurableError\n",
      "_________ MultipleInstanceError\n",
      "______ ApplicationError\n",
      "______ TimeoutError\n",
      "______ COMError\n",
      "______ ArgumentError\n",
      "______ ReturnValueIgnoredError\n",
      "______ KeyReuseError\n",
      "______ UnknownKeyError\n",
      "______ LeakedCallbackError\n",
      "______ BadYieldError\n",
      "______ ReturnValueIgnoredError\n",
      "______ Return\n",
      "______ InvalidPortNumber\n",
      "______ NoIPAddresses\n",
      "______ BadZipFile\n",
      "______ LargeZipFile\n",
      "______ Error\n",
      "_________ NoSectionError\n",
      "_________ DuplicateSectionError\n",
      "_________ DuplicateOptionError\n",
      "_________ NoOptionError\n",
      "_________ InterpolationError\n",
      "____________ InterpolationMissingOptionError\n",
      "____________ InterpolationSyntaxError\n",
      "____________ InterpolationDepthError\n",
      "_________ ParsingError\n",
      "____________ MissingSectionHeaderError\n",
      "______ BadEntryPoint\n",
      "______ NoSuchEntryPoint\n",
      "______ DuplicateKernelError\n",
      "______ ErrorDuringImport\n",
      "______ BdbQuit\n",
      "______ Restart\n",
      "______ FindCmdError\n",
      "______ HomeDirError\n",
      "______ ProfileDirError\n",
      "______ IPythonCoreError\n",
      "_________ TryNext\n",
      "_________ UsageError\n",
      "_________ StdinNotImplementedError\n",
      "______ InputRejected\n",
      "______ GetoptError\n",
      "______ OptionError\n",
      "______ ErrorToken\n",
      "______ PrefilterError\n",
      "______ AliasError\n",
      "_________ InvalidAliasError\n",
      "______ Error\n",
      "_________ InterfaceError\n",
      "_________ DatabaseError\n",
      "____________ InternalError\n",
      "____________ OperationalError\n",
      "____________ ProgrammingError\n",
      "____________ IntegrityError\n",
      "____________ DataError\n",
      "____________ NotSupportedError\n",
      "______ Warning\n",
      "______ SpaceInInput\n",
      "______ DOMException\n",
      "_________ IndexSizeErr\n",
      "_________ DomstringSizeErr\n",
      "_________ HierarchyRequestErr\n",
      "_________ WrongDocumentErr\n",
      "_________ InvalidCharacterErr\n",
      "_________ NoDataAllowedErr\n",
      "_________ NoModificationAllowedErr\n",
      "_________ NotFoundErr\n",
      "_________ NotSupportedErr\n",
      "_________ InuseAttributeErr\n",
      "_________ InvalidStateErr\n",
      "_________ SyntaxErr\n",
      "_________ InvalidModificationErr\n",
      "_________ NamespaceErr\n",
      "_________ InvalidAccessErr\n",
      "_________ ValidationErr\n",
      "______ ValidationError\n",
      "______ EditReadOnlyBuffer\n",
      "______ _Retry\n",
      "______ InvalidLayoutError\n",
      "______ HeightIsUnknownError\n",
      "______ ParserSyntaxError\n",
      "______ InternalParseError\n",
      "______ _PositionUpdatingFinished\n",
      "______ SimpleGetItemNotFound\n",
      "______ UncaughtAttributeError\n",
      "______ ParamIssue\n",
      "______ _JediError\n",
      "_________ InternalError\n",
      "_________ WrongVersion\n",
      "_________ RefactoringError\n",
      "______ OnErrorLeaf\n",
      "______ InvalidPythonEnvironment\n",
      "______ MessageError\n",
      "_________ MessageParseError\n",
      "____________ HeaderParseError\n",
      "____________ BoundaryError\n",
      "_________ MultipartConversionError\n",
      "_________ CharsetError\n",
      "______ Error\n",
      "______ HTTPException\n",
      "_________ NotConnected\n",
      "_________ InvalidURL\n",
      "_________ UnknownProtocol\n",
      "_________ UnknownTransferEncoding\n",
      "_________ UnimplementedFileMode\n",
      "_________ IncompleteRead\n",
      "_________ ImproperConnectionState\n",
      "____________ CannotSendRequest\n",
      "____________ CannotSendHeader\n",
      "____________ ResponseNotReady\n",
      "_________ BadStatusLine\n",
      "____________ RemoteDisconnected\n",
      "_________ LineTooLong\n",
      "______ InteractivelyDefined\n",
      "______ KillEmbedded\n",
      "______ QueueEmpty\n",
      "______ QueueFull\n",
      "______ ExpatError\n",
      "______ Error\n",
      "_________ ProtocolError\n",
      "_________ ResponseError\n",
      "_________ Fault\n",
      "______ error\n",
      "______ com_error\n",
      "______ internal_error\n",
      "______ ParseBaseException\n",
      "_________ ParseException\n",
      "_________ ParseFatalException\n",
      "____________ ParseSyntaxException\n",
      "______ RecursiveGrammarException\n",
      "______ ResolutionError\n",
      "_________ VersionConflict\n",
      "____________ ContextualVersionConflict\n",
      "_________ DistributionNotFound\n",
      "_________ UnknownExtra\n",
      "______ UnableToResolveVariableException\n",
      "______ InvalidTypeInArgsException\n",
      "___ GeneratorExit\n",
      "___ SystemExit\n",
      "___ KeyboardInterrupt\n",
      "___ CancelledError\n",
      "___ DebuggerInitializationError\n"
     ]
    }
   ],
   "source": [
    "import inspect\n",
    "\n",
    "def treeClass(cls, ind = 0):\n",
    "\n",
    "\tprint ('_' * ind, cls.__name__)\n",
    "\t\n",
    "\tfor i in cls.__subclasses__():\n",
    "\t\ttreeClass(i, ind + 3)\n",
    "\n",
    "print(\"Hierarchy for Built-in exceptions is : \")\n",
    "\n",
    "inspect.getclasstree(inspect.getmro(BaseException))\n",
    "\n",
    "treeClass(BaseException)\n"
   ]
  },
  {
   "attachments": {},
   "cell_type": "markdown",
   "metadata": {},
   "source": [
    "# Qeustion 3"
   ]
  },
  {
   "attachments": {},
   "cell_type": "markdown",
   "metadata": {},
   "source": [
    "ArithmeticError is simply an error that occurs during numeric calculations. ArithmeticError types in Python include: OverFlowError, ZeroDivisionError and FloatingPointError"
   ]
  },
  {
   "cell_type": "code",
   "execution_count": 2,
   "metadata": {},
   "outputs": [
    {
     "name": "stdout",
     "output_type": "stream",
     "text": [
      "division by zero\n"
     ]
    }
   ],
   "source": [
    "try:\n",
    "    a = 0\n",
    "    b = 10\n",
    "    print(b/a)\n",
    "except ArithmeticError as e:\n",
    "    print(e)"
   ]
  },
  {
   "cell_type": "code",
   "execution_count": 13,
   "metadata": {},
   "outputs": [
    {
     "name": "stdout",
     "output_type": "stream",
     "text": [
      "5.0\n",
      "25.0\n",
      "15625.0\n",
      "5.960464477539062e+16\n",
      "7.52316384526264e+83\n",
      "Error(OverflowError)----> (34, 'Result too large')\n"
     ]
    }
   ],
   "source": [
    "try:\n",
    "    j = 5.0\n",
    "\n",
    "    for i in range(1, 1000):\n",
    "        j = j**i\n",
    "        print(j)\n",
    "except ArithmeticError as e:\n",
    "    print(\"Error(OverflowError)---->\", e)"
   ]
  },
  {
   "attachments": {},
   "cell_type": "markdown",
   "metadata": {},
   "source": [
    "# Question 4"
   ]
  },
  {
   "attachments": {},
   "cell_type": "markdown",
   "metadata": {},
   "source": [
    "#### Lookup Error acts as a base class for the exceptions that occur when a key or index used on a mapping or sequence of a list/dictionary is invalid or does not exists. The two types of exceptions raised are: IndexError. KeyError."
   ]
  },
  {
   "cell_type": "code",
   "execution_count": 15,
   "metadata": {},
   "outputs": [
    {
     "name": "stdout",
     "output_type": "stream",
     "text": [
      "KeyError---> 'key3'\n"
     ]
    }
   ],
   "source": [
    "try:\n",
    "    dict1 = {\"key1\" : 1, \"key2\" : 2}\n",
    "    print(dict1[\"key3\"])\n",
    "except LookupError as e:\n",
    "    print(\"KeyError--->\", e)"
   ]
  },
  {
   "cell_type": "code",
   "execution_count": 16,
   "metadata": {},
   "outputs": [
    {
     "name": "stdout",
     "output_type": "stream",
     "text": [
      "IndexError---> list index out of range\n"
     ]
    }
   ],
   "source": [
    "try:\n",
    "    lst = [1, 2, 3, 4]\n",
    "    print(lst[10])\n",
    "except LookupError as e:\n",
    "    print(\"IndexError--->\", e)"
   ]
  },
  {
   "attachments": {},
   "cell_type": "markdown",
   "metadata": {},
   "source": [
    "# Question 5"
   ]
  },
  {
   "attachments": {},
   "cell_type": "markdown",
   "metadata": {},
   "source": [
    "#### ImportError is raised when a module, or member of a module, cannot be imported. There are a two conditions where an ImportError might be raised."
   ]
  },
  {
   "cell_type": "code",
   "execution_count": 17,
   "metadata": {},
   "outputs": [
    {
     "name": "stdout",
     "output_type": "stream",
     "text": [
      "ImportError---> cannot import name 'datetime' from 'time' (unknown location)\n"
     ]
    }
   ],
   "source": [
    "try:\n",
    "    from time import datetime\n",
    "except ImportError as e:\n",
    "    print(\"ImportError--->\", e)"
   ]
  },
  {
   "cell_type": "code",
   "execution_count": 19,
   "metadata": {},
   "outputs": [
    {
     "name": "stdout",
     "output_type": "stream",
     "text": [
      "Module not installed:  No module named 'tflite'\n"
     ]
    }
   ],
   "source": [
    "try:\n",
    "    import tflite\n",
    "except ModuleNotFoundError as e:\n",
    "    print(\"Module not installed: \", e)"
   ]
  },
  {
   "attachments": {},
   "cell_type": "markdown",
   "metadata": {},
   "source": [
    "# Question 6"
   ]
  },
  {
   "attachments": {},
   "cell_type": "markdown",
   "metadata": {},
   "source": [
    "#### i. Always use specific exception\n",
    "#### ii. Print always a proper message\n",
    "#### iii. Always try to log your error\n",
    "#### iv. Always try to write a multiple exception handling\n",
    "#### v. Document all the error\n",
    "#### vi. Cleanup all the resources"
   ]
  },
  {
   "cell_type": "code",
   "execution_count": null,
   "metadata": {},
   "outputs": [],
   "source": []
  }
 ],
 "metadata": {
  "kernelspec": {
   "display_name": "Python 3",
   "language": "python",
   "name": "python3"
  },
  "language_info": {
   "codemirror_mode": {
    "name": "ipython",
    "version": 3
   },
   "file_extension": ".py",
   "mimetype": "text/x-python",
   "name": "python",
   "nbconvert_exporter": "python",
   "pygments_lexer": "ipython3",
   "version": "3.9.7"
  },
  "orig_nbformat": 4,
  "vscode": {
   "interpreter": {
    "hash": "146ad12ad804e51233bd8e0e4750bbd5b1ea650c2a554e98761327ccb594fe93"
   }
  }
 },
 "nbformat": 4,
 "nbformat_minor": 2
}
