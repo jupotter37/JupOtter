{
 "cells": [
  {
   "cell_type": "markdown",
   "metadata": {},
   "source": [
    "# Отслеживание ошибок"
   ]
  },
  {
   "cell_type": "markdown",
   "metadata": {},
   "source": [
    "Для отладки программы обычно используются принты или встроенный в IDE дебаг\n",
    "\n",
    "Такой способ имеет место быть в небольших и простых проектах"
   ]
  },
  {
   "cell_type": "markdown",
   "metadata": {},
   "source": [
    "## Сложность реальных приложений"
   ]
  },
  {
   "cell_type": "markdown",
   "metadata": {},
   "source": [
    "Возьмем для примера типичный сайт. Что он в себя включает:\n",
    "\n",
    "+ DNS. Система трансляции имени сайта в ip-адрес сервера.\n",
    "+ Веб-сервер. Программа, обслуживающая входящие запросы, перенаправляет их в код приложения и забирает от приложения данные для пользователей.\n",
    "+ Физический сервер (или виртуальный) с его окружением. Включает в себя операционную систему, установленные и запущенные обслуживающие программы, например, мониторинг.\n",
    "+ База данных. Внешнее хранилище, с которым связывается код приложения и обменивается информацией.\n",
    "+ Само приложение. Помимо кода, который пишут программисты, приложение включает в себя сотни тысяч и миллионы строк кода сторонних библиотек. Кроме этого, код работает внутри фреймворка, у которого свои собственные правила обработки входящих запросов.\n",
    "+ Фронтенд часть. Код, который выполняется в браузере пользователя. И системы сборки для разработки, например, Webpack.\n",
    "\n",
    "И это только самый простой случай. Реальность же значительно сложнее: множество разноплановых серверов, системы кеширования (ускорения доступа), асинхронный код, очереди, внешние сервисы, облачные сервисы. Все это выглядит как многослойный пирог, внутри которого где-то работает написанный нами код. И этот код составляет лишь небольшую часть всего происходящего. Как в такой ситуации понять, на каком этапе был сбой, или все пошло не по плану? Для этого, как минимум, нужно определить, в каком слое произошла ошибка. Но даже это не самое сложное. Об ошибках в работающем приложении узнают не сразу, а уже потом, — когда ошибка случилась и, иногда, больше не воспроизводится."
   ]
  },
  {
   "cell_type": "markdown",
   "metadata": {},
   "source": [
    "## Логирование"
   ]
  },
  {
   "cell_type": "markdown",
   "metadata": {},
   "source": [
    "И для всего этого многообразия систем существует единое решение — логирование. В простейшем случае логирование сводится к файлу на диске, куда разные программы записывают (логируют) свои действия во время работы. Такой файл называют логом или журналом. Как правило, внутри лога одна строчка соответствует одному действию.\n",
    "\n",
    "```173.245.52.110 - [19/Jan/2021:01:54:20 +0000] \"GET /my HTTP/1.1\" 200 46018\n",
    "108.162.219.13 - [19/Jan/2021:01:54:20 +0000] \"GET /sockjs-node/244/gdt1vvwa/websocket HTTP/1.1\" 0 0\n",
    "162.158.62.12 - [19/Jan/2021:01:54:20 +0000] \"GET /packs/css/application.css HTTP/1.1\" 304 0\n",
    "162.158.62.84 - [19/Jan/2021:01:54:20 +0000] \"GET /packs/js/runtime-eb0a99abbe8cf813f110.js HTTP/1.1\" 304 0\n",
    "108.162.219.111 - [19/Jan/2021:01:54:20 +0000] \"GET /packs/js/application-2cba5619945c4e5946f1.js HTTP/1.1\" 304 0\n",
    "108.162.219.21 - [19/Jan/2021:01:54:20 +0000] \"GET /packs/js/0564a7b5d773bab52e53.js HTTP/1.1\" 304 0\n",
    "108.162.219.243 - [19/Jan/2021:01:54:20 +0000] \"GET /packs/js/6fb7e908211839fac06e.js HTTP/1.1\" 304 0"
   ]
  },
  {
   "cell_type": "markdown",
   "metadata": {},
   "source": [
    "Выше небольшой кусок лога веб-сервера Хекслета. Из него видно ip-адрес, с которого выполнялся запрос на страницу и какие ресурсы загружались, метод HTTP, ответ бекенда (кода) и размер тела ответа в HTTP. Очень важно наличие даты. "
   ]
  },
  {
   "cell_type": "markdown",
   "metadata": {},
   "source": [
    "Многие программы логируют прямо в консоль, например Webpack показывает процесс и результаты сборки:\n",
    "\n",
    "```｢wds｣: Project is running at http://hexletdev4.com/\n",
    "｢wds｣: webpack output is served from /packs/\n",
    "｢wds｣: Content not from webpack is served from /root/hexlet/public/packs\n",
    "｢wds｣: 404s will fallback to /index.html\n",
    "｢wdm｣: assets by chunk 10.8 MiB (auxiliary name: application) 115 assets\n",
    "sets by path js/ 13.8 MiB\n",
    "assets by path js/*.js 13.8 MiB 52 assets\n",
    "assets by path js/pages/*.js 5.1 KiB\n",
    "  asset js/pages/da223d3affe56711f31f.js 2.6 KiB [emitted] [immutable] (name: pages/my_learning) 1 related asset\n",
    "  asset js/pages/04adacfdd660803b19f1.js 2.5 KiB [emitted] [immutable] (name: pages/referral) 1 related asset\n",
    "sets by chunk 9.14 KiB (auxiliary id hint: vendors)"
   ]
  },
  {
   "cell_type": "markdown",
   "metadata": {},
   "source": [
    "### Уровни логирования"
   ]
  },
  {
   "cell_type": "markdown",
   "metadata": {},
   "source": [
    "Чем больше информации выводится в логах, тем лучше и проще отладка, но когда данных слишком много, то в них тяжело искать нужное. В особо сложных случаях логи могут генерироваться с огромной скоростью и в гигантских размерах. Работать в такой ситуации нелегко. Чтобы как-то сгладить ситуацию, системы логирования вводят разные уровни. Обычно это:\n",
    "\n",
    "+ debug - самый низкий уровень логирования, предназначенный для отладочных сообщений, для вывода диагностической информации о приложении\n",
    "+ info - этот уровень предназначен для вывода данных о фрагментах кода, работающих так, как ожидается\n",
    "+ warning - этот уровень логирования предусматривает вывод предупреждений, он применяется для записи сведений о событиях, на которые программист обычно обращает внимание. Такие события вполне могут привести к проблемам при работе приложения\n",
    "+ error - этот уровень логирования предусматривает вывод сведений об ошибках — о том, что часть приложения работает не так как ожидается, о том, что программа не смогла правильно выполниться\n",
    "+ critical - этот уровень используется для вывода сведений об очень серьёзных ошибках, наличие которых угрожает нормальному функционированию всего приложения. Если не исправить такую ошибку — это может привести к тому, что приложение прекратит работу\n"
   ]
  },
  {
   "cell_type": "markdown",
   "metadata": {},
   "source": [
    "### Типы логов"
   ]
  },
  {
   "cell_type": "markdown",
   "metadata": {},
   "source": [
    "Для удобной работы с логами их делят на типы. Это помогает быстрее находить нужные и выбирать правильные инструменты для работы с ними. Например, выделяют:\n",
    "\n",
    "+ системные логи, то есть те, которые связаны с системными событиями\n",
    "+ серверные логи, регистрирующие обращения к серверу и возникшие при этом ошибки\n",
    "+ логи баз данных, фиксирующие запросы к базам данных\n",
    "+ почтовые логи, относящиеся к входящим/исходящим письмам и отслеживающие ошибки, из-за которых письма не были доставлены\n",
    "+ логи авторизации\n",
    "+ логи аутентификации\n",
    "+ логи приложений, установленных на этих операционных системах\n"
   ]
  },
  {
   "cell_type": "markdown",
   "metadata": {},
   "source": [
    "### Логирование в Python"
   ]
  },
  {
   "cell_type": "markdown",
   "metadata": {},
   "source": [
    "В Python имеется встроенный модуль logging, применяемый для решения задач логирования. "
   ]
  },
  {
   "cell_type": "code",
   "execution_count": 1,
   "metadata": {},
   "outputs": [],
   "source": [
    "import logging"
   ]
  },
  {
   "cell_type": "markdown",
   "metadata": {},
   "source": [
    "Встроенный модуль логирования Python даёт нам простой в использовании функционал и предусматривает пять уровней логирования"
   ]
  },
  {
   "cell_type": "code",
   "execution_count": 2,
   "metadata": {},
   "outputs": [
    {
     "name": "stderr",
     "output_type": "stream",
     "text": [
      "WARNING:root:A WARNING\n",
      "ERROR:root:An ERROR\n",
      "CRITICAL:root:A message of CRITICAL severity\n"
     ]
    }
   ],
   "source": [
    "logging.debug(\"A DEBUG Message\")\n",
    "logging.info(\"An INFO\")\n",
    "logging.warning(\"A WARNING\")\n",
    "logging.error(\"An ERROR\")\n",
    "logging.critical(\"A message of CRITICAL severity\")"
   ]
  },
  {
   "cell_type": "markdown",
   "metadata": {},
   "source": [
    "Как видите, сообщения, выведенные с уровнями логирования warning, error и critical, попадают в консоль. А сообщения с уровнями debug и info — не попадают.\n",
    "\n",
    "Это так из-за того, что в консоль выводятся лишь сообщения с уровнями от warning и выше. Но это можно изменить, настроив логгер и указав ему, что в консоль надо выводить сообщения, начиная с некоего, заданного вами, уровня логирования.\n",
    "\n",
    "Подобный подход к логированию, когда данные выводятся в консоль, не особо лучше использования print(). На практике может понадобиться записывать логируемые сообщения в файл. Этот файл будет хранить данные и после того, как работа программы завершится. Такой файл можно использовать в качестве журнала отладки."
   ]
  },
  {
   "cell_type": "markdown",
   "metadata": {},
   "source": [
    "#### Логирование в файл"
   ]
  },
  {
   "cell_type": "markdown",
   "metadata": {},
   "source": [
    "Для того чтобы настроить простую систему логирования в файл — можно воспользоваться конструктором basicConfig(). Вот как это выглядит:"
   ]
  },
  {
   "cell_type": "code",
   "execution_count": 2,
   "metadata": {},
   "outputs": [],
   "source": [
    "logging.basicConfig(level=logging.INFO, filename=\"py_log.log\", filemode=\"w\", force=True)\n",
    "\n",
    "logging.debug(\"A DEBUG Message\")\n",
    "logging.info(\"An INFO\")\n",
    "logging.warning(\"A WARNING\")\n",
    "logging.error(\"An ERROR\")\n",
    "logging.critical(\"A message of CRITICAL severity\")"
   ]
  },
  {
   "cell_type": "markdown",
   "metadata": {},
   "source": [
    "Поговорим о логгере root, рассмотрим параметры basicConfig():\n",
    "\n",
    "+ level: это — уровень, на котором нужно начинать логирование. Если он установлен в info — это значит, что все сообщения с уровнем debug игнорируются.\n",
    "+ filename: этот параметр указывает на объект обработчика файла. Тут можно указать имя файла, в который нужно осуществлять логирование.\n",
    "+ filemode: это — необязательный параметр, указывающий режим, в котором предполагается работать с файлом журнала, заданным параметром filename. Установка filemode в значение w (write, запись) приводит к тому, что логи перезаписываются при каждом запуске модуля. По умолчанию параметр filemode установлен в значение a (append, присоединение), то есть — в файл будут попадать записи из всех сеансов работы программы.\n",
    "+ force: удаление корневых обработчиков"
   ]
  },
  {
   "cell_type": "markdown",
   "metadata": {},
   "source": [
    "Помимо базовой информации, выводимой в лог, может понадобится снабдить записи отметками времени, указывающими на момент вывода той или иной записи. Это упрощает анализ логов. Сделать это можно, воспользовавшись параметром конструктора format:"
   ]
  },
  {
   "cell_type": "code",
   "execution_count": 3,
   "metadata": {},
   "outputs": [],
   "source": [
    "logging.basicConfig(level=logging.INFO, filename=\"py_log.log\", filemode=\"w\", format=\"%(asctime)s %(levelname)s %(message)s\", force=True)\n",
    "\n",
    "logging.debug(\"A DEBUG Message\")\n",
    "logging.info(\"An INFO\")\n",
    "logging.warning(\"A WARNING\")\n",
    "logging.error(\"An ERROR\")\n",
    "logging.critical(\"A message of CRITICAL severity\")"
   ]
  },
  {
   "cell_type": "markdown",
   "metadata": {},
   "source": [
    "Больше форматов: https://docs.python.org/3/library/logging.html#logrecord-attributes"
   ]
  },
  {
   "cell_type": "markdown",
   "metadata": {},
   "source": [
    "#### Логирование значений переменных и исключений"
   ]
  },
  {
   "cell_type": "markdown",
   "metadata": {},
   "source": [
    "Исключительные ситуации или исключения (exceptions) – это ошибки, обнаруженные при исполнении. Например, к чему приведет попытка чтения несуществующего файла? Или если файл был случайно удален пока программа работала? Такие ситуации обрабатываются при помощи исключений.\n",
    "\n",
    "Если же Python не может понять, как обойти сложившуюся ситуацию, то ему не остается ничего кроме как поднять руки и сообщить, что обнаружил ошибку. В общем, исключения необходимы, чтобы сообщать программисту об ошибках."
   ]
  },
  {
   "cell_type": "code",
   "execution_count": 4,
   "metadata": {},
   "outputs": [
    {
     "ename": "ZeroDivisionError",
     "evalue": "division by zero",
     "output_type": "error",
     "traceback": [
      "\u001b[1;31m---------------------------------------------------------------------------\u001b[0m",
      "\u001b[1;31mZeroDivisionError\u001b[0m                         Traceback (most recent call last)",
      "Cell \u001b[1;32mIn [4], line 1\u001b[0m\n\u001b[1;32m----> 1\u001b[0m \u001b[39m100\u001b[39;49m \u001b[39m/\u001b[39;49m \u001b[39m0\u001b[39;49m\n",
      "\u001b[1;31mZeroDivisionError\u001b[0m: division by zero"
     ]
    }
   ],
   "source": [
    "100 / 0"
   ]
  },
  {
   "cell_type": "code",
   "execution_count": null,
   "metadata": {},
   "outputs": [
    {
     "ename": "TypeError",
     "evalue": "unsupported operand type(s) for +: 'int' and 'str'",
     "output_type": "error",
     "traceback": [
      "\u001b[1;31m---------------------------------------------------------------------------\u001b[0m",
      "\u001b[1;31mTypeError\u001b[0m                                 Traceback (most recent call last)",
      "Cell \u001b[1;32mIn [14], line 1\u001b[0m\n\u001b[1;32m----> 1\u001b[0m \u001b[39m2\u001b[39;49m \u001b[39m+\u001b[39;49m \u001b[39m'\u001b[39;49m\u001b[39m3\u001b[39;49m\u001b[39m'\u001b[39;49m\n",
      "\u001b[1;31mTypeError\u001b[0m: unsupported operand type(s) for +: 'int' and 'str'"
     ]
    }
   ],
   "source": [
    "2 + '3'"
   ]
  },
  {
   "cell_type": "code",
   "execution_count": null,
   "metadata": {},
   "outputs": [
    {
     "ename": "ValueError",
     "evalue": "could not convert string to float: 'abc'",
     "output_type": "error",
     "traceback": [
      "\u001b[1;31m---------------------------------------------------------------------------\u001b[0m",
      "\u001b[1;31mValueError\u001b[0m                                Traceback (most recent call last)",
      "Cell \u001b[1;32mIn [18], line 1\u001b[0m\n\u001b[1;32m----> 1\u001b[0m \u001b[39mfloat\u001b[39;49m(\u001b[39m'\u001b[39;49m\u001b[39mabc\u001b[39;49m\u001b[39m'\u001b[39;49m)\n",
      "\u001b[1;31mValueError\u001b[0m: could not convert string to float: 'abc'"
     ]
    }
   ],
   "source": [
    "float('abc')"
   ]
  },
  {
   "cell_type": "markdown",
   "metadata": {},
   "source": [
    "В этих двух примерах генерируются исключения TypeError и ValueError соответственно. Подсказки дают нам полную информацию о том, где порождено исключение, и с чем оно связано."
   ]
  },
  {
   "cell_type": "markdown",
   "metadata": {},
   "source": [
    "Рассмотрим иерархию встроенных в python исключений, хотя иногда вам могут встретиться и другие, так как программисты могут создавать собственные исключения.+ BaseException - базовое исключение, от которого берут начало все остальные.+ SystemExit - исключение, порождаемое функцией sys.exit при выходе из программы.+ KeyboardInterrupt - порождается при прерывании программы пользователем (обычно сочетанием клавиш Ctrl+C).+ GeneratorExit - порождается при вызове метода close объекта generator.+ Exception - а вот тут уже заканчиваются полностью системные исключения (которые лучше не трогать) и начинаются обыкновенные, с которыми можно работать.\n",
    "\n",
    "+ StopIteration - порождается встроенной функцией next, если в итераторе больше нет элементов.\n",
    "+ ArithmeticError - арифметическая ошибка.\n",
    "    + FloatingPointError - порождается при неудачном выполнении операции с плавающей запятой. На практике встречается нечасто.\n",
    "    + OverflowError - возникает, когда результат арифметической операции слишком велик для представления. Не появляется при обычной работе с целыми числами (так как pyth+ поддерживает длинные числа), но может возникать в некоторых других случаях.\n",
    "    + ZeroDivisionError - деление на ноль.\n",
    "+ AssertionError - выражение в функции assert ложно.\n",
    "+ AttributeError - объект не имеет данного атрибута (значения или метода).\n",
    "+ BufferError - операция, связанная с буфером, не может быть выполнена.\n",
    "+ EOFError - функция наткнулась на конец файла и не смогла прочитать то, что хотела.\n",
    "+ ImportError - не удалось импортирование модуля или его атрибута.\n",
    "+ LookupError - некорректный индекс или ключ.\n",
    "    + IndexError - индекс не входит в диапазон элементов.\n",
    "    + KeyError - несуществующий ключ (в словаре, множестве или другом объекте). \n",
    "+ MemoryError - недостаточно памяти.\n",
    "+ NameError - не найдено переменной с таким именем.\n",
    "    + UnboundLocalError - сделана ссылка на локальную переменную в функции, но переменная не определена ранее. \n",
    "+ OSError - ошибка, связанная с системой.\n",
    "    + BlockingIOError\n",
    "    + ChildProcessError - неудача при операции с дочерним процессом.\n",
    "    + ConnectionError - базовый класс для исключений, связанных с подключениями.\n",
    "        + BrokenPipeError\n",
    "        + ConnectionAbortedError\n",
    "        + ConnectionRefusedError\n",
    "        + ConnectionResetError\n",
    "    + FileExistsError - попытка создания файла или директории, которая уже существует.\n",
    "    + FileNotFoundError - файл или директория не существует.\n",
    "    + InterruptedError - системный вызов прерван входящим сигналом.\n",
    "    + IsADirectoryError - ожидался файл, но это директория.\n",
    "    + NotADirectoryError - ожидалась директория, но это файл.\n",
    "    + PermissionError - не хватает прав доступа.\n",
    "    + ProcessLookupError - указанного процесса не существует.\n",
    "    + TimeoutError - закончилось время ожидания.\n",
    "+ ReferenceError - попытка доступа к атрибуту со слабой ссылкой.\n",
    "+ RuntimeError - возникает, когда исключение не попадает ни под одну из других категорий.\n",
    "+ NotImplementedError - возникает, когда абстрактные методы класса требуют переопределения в дочерних классах.\n",
    "+ SyntaxError - синтаксическая ошибка.\n",
    "    + IndentationError - неправильные отступы.\n",
    "        + TabError - смешивание в отступах табуляции и пробелов.\n",
    "+ SystemError - внутренняя ошибка.\n",
    "+ TypeError - операция применена к объекту несоответствующего типа.\n",
    "+ ValueError - функция получает аргумент правильного типа, но некорректного значения.\n",
    "+ UnicodeError - ошибка, связанная с кодированием / раскодированием unicode в строках.\n",
    "    + UnicodeEncodeError - исключение, связанное с кодированием unicode.\n",
    "    + UnicodeDecodeError - исключение, связанное с декодированием unicode.\n",
    "    + UnicodeTranslateError - исключение, связанное с переводом unicode.\n",
    "+ Warning - предупреждение."
   ]
  },
  {
   "cell_type": "markdown",
   "metadata": {},
   "source": [
    "Для обработки исключений используется конструкция try - except"
   ]
  },
  {
   "cell_type": "code",
   "execution_count": 5,
   "metadata": {},
   "outputs": [
    {
     "name": "stdout",
     "output_type": "stream",
     "text": [
      "0.5\n"
     ]
    }
   ],
   "source": [
    "try:\n",
    "    k = 1 / 2\n",
    "except ZeroDivisionError:\n",
    "    k = 0\n",
    "\n",
    "print(k)"
   ]
  },
  {
   "cell_type": "markdown",
   "metadata": {},
   "source": [
    "В блоке try мы выполняем инструкцию, которая может породить исключение, а в блоке except мы перехватываем их. При этом перехватываются как само исключение, так и его потомки. Например, перехватывая ArithmeticError, мы также перехватываем FloatingPointError, OverflowError и ZeroDivisionError."
   ]
  },
  {
   "cell_type": "code",
   "execution_count": 7,
   "metadata": {},
   "outputs": [
    {
     "name": "stdout",
     "output_type": "stream",
     "text": [
      "0\n"
     ]
    }
   ],
   "source": [
    "try:\n",
    "    k = 1 / 0\n",
    "except ArithmeticError:\n",
    "    k = 0\n",
    "\n",
    "print(k)"
   ]
  },
  {
   "cell_type": "markdown",
   "metadata": {},
   "source": [
    "Также возможна инструкция except без аргументов, которая перехватывает вообще всё (и прерывание с клавиатуры, и системный выход и т. д.). Поэтому в такой форме инструкция except практически не используется, а используется except Exception. Однако чаще всего перехватывают исключения по одному, для упрощения отладки (вдруг вы ещё другую ошибку сделаете, а except её перехватит).\n",
    "\n",
    "Ещё две инструкции, относящиеся к нашей проблеме, это finally и else. Finally выполняет блок инструкций в любом случае, было ли исключение, или нет (применима, когда нужно непременно что-то сделать, к примеру, закрыть файл). Инструкция else выполняется в том случае, если исключения не было."
   ]
  },
  {
   "cell_type": "code",
   "execution_count": 7,
   "metadata": {},
   "outputs": [
    {
     "name": "stdout",
     "output_type": "stream",
     "text": [
      "Это не число. Выходим.\n",
      "Я закрыл файл.\n"
     ]
    }
   ],
   "source": [
    "f = open('test.txt')\n",
    "ints = []\n",
    "try:\n",
    "    for line in f:\n",
    "        ints.append(int(line))\n",
    "except ValueError:\n",
    "    print('Это не число. Выходим.')\n",
    "except Exception:\n",
    "    print('Это что ещё такое?')\n",
    "else:\n",
    "    print('Всё хорошо.')\n",
    "finally:\n",
    "    f.close()\n",
    "    print('Я закрыл файл.')"
   ]
  },
  {
   "cell_type": "code",
   "execution_count": null,
   "metadata": {},
   "outputs": [],
   "source": [
    "x = 3\n",
    "y = 0\n",
    "\n",
    "logging.info(f\"The values of x and y are {x} and {y}.\")\n",
    "try:\n",
    "    x / y\n",
    "    logging.info(f\"x / y successful with result: {x / y}.\")\n",
    "except ZeroDivisionError as err:\n",
    "    logging.error(\"ZeroDivisionError\")"
   ]
  },
  {
   "cell_type": "code",
   "execution_count": 10,
   "metadata": {},
   "outputs": [],
   "source": [
    "x_vals = [2, 3, 6, 4, 10]\n",
    "y_vals = [5, 7, 12, 0, 1]\n",
    "\n",
    "for x_val, y_val in zip(x_vals, y_vals):\n",
    "    x, y = x_val, y_val\n",
    "    logging.info(f\"The values of x and y are {x} and {y}.\")\n",
    "    try:\n",
    "        x / y\n",
    "        logging.info(f\"x / y successful with result: {x / y}.\")\n",
    "    except ZeroDivisionError as err:\n",
    "        logging.exception(\"ZeroDivisionError\")"
   ]
  },
  {
   "cell_type": "markdown",
   "metadata": {},
   "source": [
    "Настройка логирования с помощью пользовательских логгеров, обработчиков и форматировщиков"
   ]
  },
  {
   "cell_type": "code",
   "execution_count": 11,
   "metadata": {},
   "outputs": [],
   "source": [
    "import logging\n",
    "\n",
    "logger2 = logging.getLogger(__name__)\n",
    "logger2.setLevel(logging.INFO)\n",
    "\n",
    "handler2 = logging.FileHandler(f\"{__name__}.log\", mode='w')\n",
    "formatter2 = logging.Formatter(\"%(name)s %(asctime)s %(levelname)s %(message)s\")\n",
    "\n",
    "handler2.setFormatter(formatter2)\n",
    "logger2.addHandler(handler2)\n",
    "\n",
    "logger2.info(f\"Testing the custom logger for module {__name__}...\")"
   ]
  },
  {
   "cell_type": "code",
   "execution_count": null,
   "metadata": {},
   "outputs": [],
   "source": [
    "import logging\n",
    "\n",
    "\n",
    "def test_division(x,y):\n",
    "    try:\n",
    "        x / y\n",
    "        logger2.info(f\"x / y successful with result: {x / y}.\")\n",
    "    except ZeroDivisionError as err:\n",
    "        logger2.exception(\"ZeroDivisionError\")\n",
    "\n",
    "py_logger = logging.getLogger(__name__)\n",
    "py_logger.setLevel(logging.INFO)\n",
    "\n",
    "py_handler = logging.FileHandler(f\"{__name__}.log\", mode='w')\n",
    "py_formatter = logging.Formatter(\"%(name)s %(asctime)s %(levelname)s %(message)s\")\n",
    "\n",
    "py_handler.setFormatter(py_formatter)\n",
    "py_logger.addHandler(py_handler)\n",
    "\n",
    "py_logger.info(f\"Testing the custom logger for module {__name__}...\")\n",
    "\n",
    "x_vals = [2, 3, 6, 4, 10]\n",
    "y_vals = [5, 7, 12, 0, 1]\n",
    "\n",
    "for x_val, y_val in zip(x_vals, y_vals):\n",
    "    x, y = x_val, y_val\n",
    "    test_division(x, y)\n",
    "    py_logger.info(f\"Call test_division with args {x} and {y}\")"
   ]
  },
  {
   "cell_type": "markdown",
   "metadata": {},
   "source": [
    "Сначала мы получаем логгер и задаём уровень логирования. Команда logging.getLogger(name) возвращает логгер с заданным именем в том случае, если он существует. В противном случае она создаёт логгер с заданным именем. На практике имя логгера устанавливают с использованием специальной переменной name, которая соответствует имени модуля. Мы назначаем объект логгера переменной. Затем мы, используя команду logging.setLevel(level), устанавливаем нужный нам уровень логирования.\n",
    "\n",
    "Далее мы настраиваем обработчик. Так как мы хотим записывать сведения о событиях в файл, мы пользуемся FileHandler. Конструкция logging.FileHandler(filename) возвращает объект обработчика файла. Помимо имени лог-файла, можно, что необязательно, задать режим работы с этим файлом. В данном примере режим (mode) установлен в значение write. Есть и другие обработчики, например — StreamHandler, HTTPHandler, SMTPHandler.\n",
    "\n",
    "Затем мы создаём объект форматировщика, используя конструкцию logging.Formatter(format). В этом примере мы помещаем имя логгера (строку) в начале форматной строки, а потом идёт то, чем мы уже пользовались ранее при оформлении сообщений.\n",
    "\n",
    "Потом мы добавляем форматировщик к обработчику, пользуясь конструкцией вида <handler>.setFormatter(<formatter>). А в итоге добавляем обработчик к объекту логгера, пользуясь конструкцией <logger>.addHandler(<handler>)."
   ]
  },
  {
   "cell_type": "markdown",
   "metadata": {},
   "source": [
    "#### Рекомендации по организации логирования в Python"
   ]
  },
  {
   "cell_type": "markdown",
   "metadata": {},
   "source": [
    "+ Устанавливайте оптимальный уровень логирования. Логи полезны лишь тогда, когда их можно использовать для отслеживания важных ошибок, которые нужно исправлять. Подберите такой уровень логирования, который соответствует специфике конкретного приложения. Вывод в лог сообщений о слишком большом количестве событий может быть, с точки зрения отладки, не самой удачной стратегией. Дело в том, что при таком подходе возникнут сложности с фильтрацией логов при поиске ошибок, которым нужно немедленно уделить внимание.\n",
    "\n",
    "+ Конфигурируйте логгеры на уровне модуля. Когда вы работаете над приложением, состоящим из множества модулей — вам стоит задуматься о том, чтобы настроить свой логгер для каждого модуля. Установка имени логгера в name помогает идентифицировать модуль приложения, в котором имеются проблемы, нуждающиеся в решении.\n",
    "\n",
    "+ Включайте в состав сообщений логов отметку времени и обеспечьте единообразное форматирование сообщений. Всегда включайте в сообщения логов отметки времени, так как они полезны в деле поиска того момента, когда произошла ошибка. Единообразно форматируйте сообщения логов, придерживаясь одного и того же подхода в разных модулях.\n",
    "\n",
    "+ Применяйте ротацию лог-файлов ради упрощения отладки. При работе над большим приложением, в состав которого входит несколько модулей, вы, вполне вероятно, столкнётесь с тем, что размер ваших лог-файлов окажется очень большим. Очень длинные логи сложно просматривать в поисках ошибок. Поэтому стоит подумать о ротации лог-файлов. Сделать это можно, воспользовавшись обработчиком RotatingFileHandler, применив конструкцию, которая строится по следующей схеме: ```logging.handlers.RotatingFileHandler(filename, maxBytes, backupCount)```. Когда размер текущего лог-файла достигнет размера maxBytes, следующие записи будут попадать в другие файлы, количество которых зависит от значения параметра backupCount. Если установить этот параметр в значение K — у вас будет K файлов журнала."
   ]
  },
  {
   "cell_type": "code",
   "execution_count": null,
   "metadata": {},
   "outputs": [],
   "source": []
  }
 ],
 "metadata": {
  "kernelspec": {
   "display_name": "Python 3.11.0 64-bit",
   "language": "python",
   "name": "python3"
  },
  "language_info": {
   "codemirror_mode": {
    "name": "ipython",
    "version": 3
   },
   "file_extension": ".py",
   "mimetype": "text/x-python",
   "name": "python",
   "nbconvert_exporter": "python",
   "pygments_lexer": "ipython3",
   "version": "3.11.0"
  },
  "orig_nbformat": 4,
  "vscode": {
   "interpreter": {
    "hash": "1b032452825cfb918ba2aa96def1bfe72203d70ad656b993aaacfcdaaaef8735"
   }
  }
 },
 "nbformat": 4,
 "nbformat_minor": 2
}
