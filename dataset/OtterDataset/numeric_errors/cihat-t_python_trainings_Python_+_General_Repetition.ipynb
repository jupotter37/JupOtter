{
  "nbformat": 4,
  "nbformat_minor": 0,
  "metadata": {
    "colab": {
      "provenance": []
    },
    "kernelspec": {
      "name": "python3",
      "display_name": "Python 3"
    },
    "language_info": {
      "name": "python"
    }
  },
  "cells": [
    {
      "cell_type": "markdown",
      "metadata": {
        "id": "ChBrMvbmjbcv"
      },
      "source": [
        "FONKSİYON NEDİR ?"
      ]
    },
    {
      "cell_type": "code",
      "metadata": {
        "colab": {
          "base_uri": "https://localhost:8080/"
        },
        "id": "KjSSdHRujfD3",
        "outputId": "a1fb5c1f-be27-487e-862f-d2bbcc9083d3"
      },
      "source": [
        "#  Çağrıldığında çalışan bir işlevdir fonksiyon. Arka planda çalışan kod satırlarının toplanmış hâli.\n",
        "# () içine yazdığımız şeyler parametreler oluyor ve bize bir şey döndürüyor.\n",
        "\n",
        "print(*range(5))\n",
        "#  print veya range fonksiyonun adıdır. içinde hangi işlevin yapılacağının tanımlanması da argument 'dir."
      ],
      "execution_count": null,
      "outputs": [
        {
          "output_type": "stream",
          "text": [
            "0 1 2 3 4\n"
          ],
          "name": "stdout"
        }
      ]
    },
    {
      "cell_type": "code",
      "metadata": {
        "colab": {
          "base_uri": "https://localhost:8080/"
        },
        "id": "DjoLBJ8XoLVQ",
        "outputId": "67bbc953-b416-49dd-dac3-e818ab8f0a7d"
      },
      "source": [
        "all([\"\", \"dolu\", 1])  # all() fonksiyonu True ya da False çıktı verir.\n",
        "#  and mantığıyla çalışır.\n",
        "# any() fonksiyonu ise all fonksiyonunun tam tersidir ve or mantığıyla çalışır."
      ],
      "execution_count": null,
      "outputs": [
        {
          "output_type": "execute_result",
          "data": {
            "text/plain": [
              "False"
            ]
          },
          "metadata": {
            "tags": []
          },
          "execution_count": 2
        }
      ]
    },
    {
      "cell_type": "code",
      "metadata": {
        "colab": {
          "base_uri": "https://localhost:8080/"
        },
        "id": "ltmbNWxuofGN",
        "outputId": "a69fce42-fc89-4425-8219-95eabac810ca"
      },
      "source": [
        "all([])"
      ],
      "execution_count": null,
      "outputs": [
        {
          "output_type": "execute_result",
          "data": {
            "text/plain": [
              "True"
            ]
          },
          "metadata": {
            "tags": []
          },
          "execution_count": 3
        }
      ]
    },
    {
      "cell_type": "code",
      "metadata": {
        "colab": {
          "base_uri": "https://localhost:8080/"
        },
        "id": "PMyoEpifo1VK",
        "outputId": "58a76cf8-3328-451e-d34c-23349e8f3a28"
      },
      "source": [
        "all(())"
      ],
      "execution_count": null,
      "outputs": [
        {
          "output_type": "execute_result",
          "data": {
            "text/plain": [
              "True"
            ]
          },
          "metadata": {
            "tags": []
          },
          "execution_count": 4
        }
      ]
    },
    {
      "cell_type": "code",
      "metadata": {
        "colab": {
          "base_uri": "https://localhost:8080/"
        },
        "id": "xyzBxzVGpP0i",
        "outputId": "61eb17ae-8a71-40a6-d822-d00a41485e9d"
      },
      "source": [
        "all([\"\"])"
      ],
      "execution_count": null,
      "outputs": [
        {
          "output_type": "execute_result",
          "data": {
            "text/plain": [
              "False"
            ]
          },
          "metadata": {
            "tags": []
          },
          "execution_count": 5
        }
      ]
    },
    {
      "cell_type": "code",
      "metadata": {
        "colab": {
          "base_uri": "https://localhost:8080/"
        },
        "id": "Y09_FK9RpTGa",
        "outputId": "47dd13f3-5c6d-4a70-9097-62e7cfede5e5"
      },
      "source": [
        "all([[]])"
      ],
      "execution_count": null,
      "outputs": [
        {
          "output_type": "execute_result",
          "data": {
            "text/plain": [
              "False"
            ]
          },
          "metadata": {
            "tags": []
          },
          "execution_count": 6
        }
      ]
    },
    {
      "cell_type": "code",
      "metadata": {
        "id": "dUOIpfFApV_4"
      },
      "source": [
        "listem = [None, \"0\", \"istanbul\", ()] # filter(function, iterable)\n",
        "# filter(None, iterable) olursa True dödürür."
      ],
      "execution_count": null,
      "outputs": []
    },
    {
      "cell_type": "code",
      "metadata": {
        "id": "WnJP9-rTqfp9"
      },
      "source": [
        "filtered = filter(None, listem)"
      ],
      "execution_count": null,
      "outputs": []
    },
    {
      "cell_type": "code",
      "metadata": {
        "colab": {
          "base_uri": "https://localhost:8080/"
        },
        "id": "MNLY4exuqh1F",
        "outputId": "8b03516f-7a94-4913-e647-e09ddae5c2fc"
      },
      "source": [
        "filtered"
      ],
      "execution_count": null,
      "outputs": [
        {
          "output_type": "execute_result",
          "data": {
            "text/plain": [
              "<filter at 0x7f989c136890>"
            ]
          },
          "metadata": {
            "tags": []
          },
          "execution_count": 16
        }
      ]
    },
    {
      "cell_type": "code",
      "metadata": {
        "colab": {
          "base_uri": "https://localhost:8080/"
        },
        "id": "ZXEL54_JqkaC",
        "outputId": "453f1804-50e8-4c9e-92e7-2cbcd5568aba"
      },
      "source": [
        "print(* filtered)"
      ],
      "execution_count": null,
      "outputs": [
        {
          "output_type": "stream",
          "text": [
            "0 istanbul\n"
          ],
          "name": "stdout"
        }
      ]
    },
    {
      "cell_type": "code",
      "metadata": {
        "id": "_4RO6qEAz6QQ"
      },
      "source": [
        "filtered = filter(None, listem)"
      ],
      "execution_count": null,
      "outputs": []
    },
    {
      "cell_type": "code",
      "metadata": {
        "colab": {
          "base_uri": "https://localhost:8080/"
        },
        "id": "VkueOSeuz_iz",
        "outputId": "f8e547a0-002a-41e0-9ad5-b9451fb9dfc7"
      },
      "source": [
        "for i in filtered :\n",
        "    print(i)"
      ],
      "execution_count": null,
      "outputs": [
        {
          "output_type": "stream",
          "text": [
            "0\n",
            "istanbul\n"
          ],
          "name": "stdout"
        }
      ]
    },
    {
      "cell_type": "code",
      "metadata": {
        "id": "1Iz-Kas10I97"
      },
      "source": [
        "enum = enumerate(listem) # Bu fonksiyon bir pair üretir. Tuple tuple üretir."
      ],
      "execution_count": null,
      "outputs": []
    },
    {
      "cell_type": "code",
      "metadata": {
        "colab": {
          "base_uri": "https://localhost:8080/"
        },
        "id": "VqVjoapy0TSw",
        "outputId": "aa92856f-bf21-420b-c4b3-642fafd71882"
      },
      "source": [
        "type(enum) # Type'ı enumerate dir."
      ],
      "execution_count": null,
      "outputs": [
        {
          "output_type": "execute_result",
          "data": {
            "text/plain": [
              "enumerate"
            ]
          },
          "metadata": {
            "tags": []
          },
          "execution_count": 21
        }
      ]
    },
    {
      "cell_type": "code",
      "metadata": {
        "colab": {
          "base_uri": "https://localhost:8080/"
        },
        "id": "Ekm1IBO60eo6",
        "outputId": "5dc2b73d-ad71-4be8-d7af-71f99478246a"
      },
      "source": [
        "enum"
      ],
      "execution_count": null,
      "outputs": [
        {
          "output_type": "execute_result",
          "data": {
            "text/plain": [
              "<enumerate at 0x7f9898717b40>"
            ]
          },
          "metadata": {
            "tags": []
          },
          "execution_count": 22
        }
      ]
    },
    {
      "cell_type": "code",
      "metadata": {
        "colab": {
          "base_uri": "https://localhost:8080/"
        },
        "id": "p6d2qEpl0fod",
        "outputId": "0b6cb80c-1639-45f4-8afa-c8d5742d36a3"
      },
      "source": [
        "print(* enum)"
      ],
      "execution_count": null,
      "outputs": [
        {
          "output_type": "stream",
          "text": [
            "(0, None) (1, '0') (2, 'istanbul') (3, ())\n"
          ],
          "name": "stdout"
        }
      ]
    },
    {
      "cell_type": "code",
      "metadata": {
        "colab": {
          "base_uri": "https://localhost:8080/",
          "height": 35
        },
        "id": "VmqYvgCV0i3F",
        "outputId": "1697de93-39cb-4951-8495-3e8210247892"
      },
      "source": [
        "min(\"ahmet\") # Ascii koduna göre en küçük değeri alır"
      ],
      "execution_count": null,
      "outputs": [
        {
          "output_type": "execute_result",
          "data": {
            "application/vnd.google.colaboratory.intrinsic+json": {
              "type": "string"
            },
            "text/plain": [
              "'a'"
            ]
          },
          "metadata": {
            "tags": []
          },
          "execution_count": 24
        }
      ]
    },
    {
      "cell_type": "code",
      "metadata": {
        "colab": {
          "base_uri": "https://localhost:8080/",
          "height": 35
        },
        "id": "XcXVl1aw0nlQ",
        "outputId": "b8bed1f4-6e9f-44c6-c508-d25942f93e13"
      },
      "source": [
        "max(\"ahmet\") # Ascii koduna göre en büyük değeri alır."
      ],
      "execution_count": null,
      "outputs": [
        {
          "output_type": "execute_result",
          "data": {
            "application/vnd.google.colaboratory.intrinsic+json": {
              "type": "string"
            },
            "text/plain": [
              "'t'"
            ]
          },
          "metadata": {
            "tags": []
          },
          "execution_count": 25
        }
      ]
    },
    {
      "cell_type": "code",
      "metadata": {
        "colab": {
          "base_uri": "https://localhost:8080/"
        },
        "id": "lKLtipyy0q5p",
        "outputId": "4da5efb3-c591-494f-def5-39f7bf1869a7"
      },
      "source": [
        "ord(\"a\")"
      ],
      "execution_count": null,
      "outputs": [
        {
          "output_type": "execute_result",
          "data": {
            "text/plain": [
              "97"
            ]
          },
          "metadata": {
            "tags": []
          },
          "execution_count": 26
        }
      ]
    },
    {
      "cell_type": "code",
      "metadata": {
        "colab": {
          "base_uri": "https://localhost:8080/"
        },
        "id": "dkohiZZo0ud9",
        "outputId": "b0aef8a7-f275-4183-d540-dd86ac06d2bd"
      },
      "source": [
        "ord(\"t\")"
      ],
      "execution_count": null,
      "outputs": [
        {
          "output_type": "execute_result",
          "data": {
            "text/plain": [
              "116"
            ]
          },
          "metadata": {
            "tags": []
          },
          "execution_count": 27
        }
      ]
    },
    {
      "cell_type": "code",
      "metadata": {
        "colab": {
          "base_uri": "https://localhost:8080/"
        },
        "id": "BFcgQNv90xh0",
        "outputId": "bb766ab4-5d71-4dc2-a3df-9e70a5cf4997"
      },
      "source": [
        "sum([1,2,3,4,5]) # sayısal olan iterable'ı toplar."
      ],
      "execution_count": null,
      "outputs": [
        {
          "output_type": "execute_result",
          "data": {
            "text/plain": [
              "15"
            ]
          },
          "metadata": {
            "tags": []
          },
          "execution_count": 28
        }
      ]
    },
    {
      "cell_type": "code",
      "metadata": {
        "colab": {
          "base_uri": "https://localhost:8080/",
          "height": 166
        },
        "id": "MzoJdEDC1U3G",
        "outputId": "d348ebe3-5420-423a-873c-b3f3bd494e62"
      },
      "source": [
        "sum(1,2,3,4,5) # Beş tane integer iterable değildir. bu nedenle toplamaz."
      ],
      "execution_count": null,
      "outputs": [
        {
          "output_type": "error",
          "ename": "TypeError",
          "evalue": "ignored",
          "traceback": [
            "\u001b[0;31m---------------------------------------------------------------------------\u001b[0m",
            "\u001b[0;31mTypeError\u001b[0m                                 Traceback (most recent call last)",
            "\u001b[0;32m<ipython-input-29-3f6d0bc3c9eb>\u001b[0m in \u001b[0;36m<module>\u001b[0;34m()\u001b[0m\n\u001b[0;32m----> 1\u001b[0;31m \u001b[0msum\u001b[0m\u001b[0;34m(\u001b[0m\u001b[0;36m1\u001b[0m\u001b[0;34m,\u001b[0m\u001b[0;36m2\u001b[0m\u001b[0;34m,\u001b[0m\u001b[0;36m3\u001b[0m\u001b[0;34m,\u001b[0m\u001b[0;36m4\u001b[0m\u001b[0;34m,\u001b[0m\u001b[0;36m5\u001b[0m\u001b[0;34m)\u001b[0m\u001b[0;34m\u001b[0m\u001b[0;34m\u001b[0m\u001b[0m\n\u001b[0m",
            "\u001b[0;31mTypeError\u001b[0m: sum expected at most 2 arguments, got 5"
          ]
        }
      ]
    },
    {
      "cell_type": "code",
      "metadata": {
        "colab": {
          "base_uri": "https://localhost:8080/"
        },
        "id": "pLvbQjI52eCY",
        "outputId": "05798893-08e1-4fb0-e3f2-523d9aef116a"
      },
      "source": [
        "# round(number, ndigits) mesela :\n",
        "print(round(12)) # 12 ye yuvarlar\n",
        "print(round(10.8)) # 11 e yuvarlar\n",
        "print(round(3.665,2)) # 3.67 'ye yuvarlar\n",
        "\n",
        "print(round(3.675,2)) # 3.67 'ye yuvarlar çünkü python binary'i kullanır. Bir ondalık rakamı Float'la tam ifade edemeyiz.\n",
        "#ancak integer ile ifade edebiliriz."
      ],
      "execution_count": null,
      "outputs": [
        {
          "output_type": "stream",
          "text": [
            "12\n",
            "11\n",
            "3.67\n",
            "3.67\n"
          ],
          "name": "stdout"
        }
      ]
    },
    {
      "cell_type": "markdown",
      "metadata": {
        "id": "y-vq9k4O2Hez"
      },
      "source": [
        "KULLANICI TANIMLI FONKSİYONLAR:"
      ]
    },
    {
      "cell_type": "code",
      "metadata": {
        "id": "vRe7gfvT1Vf4"
      },
      "source": [
        "def function_name(arguments) : # arguments ile parametre arasında çok ufak bir fark var.\n",
        "    execution body"
      ],
      "execution_count": null,
      "outputs": []
    },
    {
      "cell_type": "code",
      "metadata": {
        "id": "yaNqtFZ91lEM"
      },
      "source": [
        "def first_function(argument_1, argument_2) : #Fonksiyonu yazarken kullandığımız değişkenler parametrelerdir.\n",
        "    print(argument_1**2 + argument_2**2)     # fonksiyon execute edilirken bu değişkenlerin aldığı değerler de arguments'dir."
      ],
      "execution_count": null,
      "outputs": []
    },
    {
      "cell_type": "code",
      "metadata": {
        "colab": {
          "base_uri": "https://localhost:8080/"
        },
        "id": "F_8dOUGG7Kn7",
        "outputId": "bace7e46-833a-437f-b8a7-db314af4ad6d"
      },
      "source": [
        "def multiply(a, b) :\n",
        "    print(a * b)\n",
        "\n",
        "multiply(3, 5) # fonksiyon tanımlamanın bittiği yerden itibaren girinti 0 olur.\n",
        "multiply(-1, 2.5)\n",
        "multiply('amazing ', 3)  # it's really amazing, right?"
      ],
      "execution_count": null,
      "outputs": [
        {
          "output_type": "stream",
          "text": [
            "15\n",
            "-2.5\n",
            "amazing amazing amazing \n"
          ],
          "name": "stdout"
        }
      ]
    },
    {
      "cell_type": "code",
      "metadata": {
        "colab": {
          "base_uri": "https://localhost:8080/"
        },
        "id": "Zfvxwucz7aPb",
        "outputId": "62da2c8e-e787-43e6-c2e1-99de40455317"
      },
      "source": [
        "def mevlana() :\n",
        "    print(\"\"\"Duydum ki bizi bırakmaya azmediyorsun, etme.\n",
        "Başka bir yar, başka bir dosta meylediyorsun, etme.\"\"\")\n",
        "mevlana() # mevlana() isimli bir fonksiyon tanımladık."
      ],
      "execution_count": null,
      "outputs": [
        {
          "output_type": "stream",
          "text": [
            "Duydum ki bizi bırakmaya azmediyorsun, etme.\n",
            "Başka bir yar, başka bir dosta meylediyorsun, etme.\n"
          ],
          "name": "stdout"
        }
      ]
    },
    {
      "cell_type": "code",
      "metadata": {
        "colab": {
          "base_uri": "https://localhost:8080/"
        },
        "id": "BufgF41Q8Nml",
        "outputId": "bd032596-c395-44db-b3ed-91c687685d53"
      },
      "source": [
        "def motto() :\n",
        "    print(\"Don't hesitate to reinvent yourself!\")\n",
        "\n",
        "motto()  # it takes no argument"
      ],
      "execution_count": null,
      "outputs": [
        {
          "output_type": "stream",
          "text": [
            "Don't hesitate to reinvent yourself!\n"
          ],
          "name": "stdout"
        }
      ]
    },
    {
      "cell_type": "code",
      "metadata": {
        "colab": {
          "base_uri": "https://localhost:8080/"
        },
        "id": "Eg975QzL8RBH",
        "outputId": "eeab10ff-a9b8-4c76-f443-95ba7953215a"
      },
      "source": [
        "def add(a,b):\n",
        "    print(a+b)\n",
        "add(2,4)"
      ],
      "execution_count": null,
      "outputs": [
        {
          "output_type": "stream",
          "text": [
            "6\n"
          ],
          "name": "stdout"
        }
      ]
    },
    {
      "cell_type": "code",
      "metadata": {
        "id": "2f9AzEtt84qw",
        "colab": {
          "base_uri": "https://localhost:8080/"
        },
        "outputId": "610f8c84-0b92-43f7-cbea-1910409b6863"
      },
      "source": [
        "def calculator(x, y, opr) :\n",
        "    if opr == \"+\" :\n",
        "        print(x + y)\n",
        "    elif opr == \"-\" :\n",
        "        print(x - y)\n",
        "    elif opr == \"*\" :\n",
        "        print(x * y)\n",
        "    elif opr == \"/\" :\n",
        "        print(x / y)\n",
        "    else:\n",
        "        print(\"Enter a valid operator!\")\n",
        ""
      ],
      "execution_count": null,
      "outputs": [
        {
          "output_type": "stream",
          "text": [
            "40\n"
          ],
          "name": "stdout"
        }
      ]
    },
    {
      "cell_type": "code",
      "metadata": {
        "colab": {
          "base_uri": "https://localhost:8080/"
        },
        "id": "OkcC4gij_RIB",
        "outputId": "2acb49af-6c75-4b32-bba4-d3dbd52d5268"
      },
      "source": [
        "calculator(12, 3, \"!\")"
      ],
      "execution_count": null,
      "outputs": [
        {
          "output_type": "stream",
          "text": [
            "Enter a valid operator!\n"
          ],
          "name": "stdout"
        }
      ]
    },
    {
      "cell_type": "code",
      "metadata": {
        "colab": {
          "base_uri": "https://localhost:8080/"
        },
        "id": "1PGKStZL_S5P",
        "outputId": "e85910dd-0cd5-47f5-c8e6-c0665b524c96"
      },
      "source": [
        "calculator(12, 3, \"/\")"
      ],
      "execution_count": null,
      "outputs": [
        {
          "output_type": "stream",
          "text": [
            "4.0\n"
          ],
          "name": "stdout"
        }
      ]
    },
    {
      "cell_type": "code",
      "metadata": {
        "colab": {
          "base_uri": "https://localhost:8080/"
        },
        "id": "kJE_bEmG_l3X",
        "outputId": "903206af-ae81-4896-8803-a81c4aaac683"
      },
      "source": [
        "calculator(25,15,\"+\")"
      ],
      "execution_count": null,
      "outputs": [
        {
          "output_type": "execute_result",
          "data": {
            "text/plain": [
              "40"
            ]
          },
          "metadata": {
            "tags": []
          },
          "execution_count": 11
        }
      ]
    },
    {
      "cell_type": "code",
      "metadata": {
        "colab": {
          "base_uri": "https://localhost:8080/"
        },
        "id": "TWupBIdO_xcV",
        "outputId": "2dcc4feb-8267-421e-f81e-ebcb0e511aaa"
      },
      "source": [
        "calculator(10,5,\"*\")"
      ],
      "execution_count": null,
      "outputs": [
        {
          "output_type": "stream",
          "text": [
            "50\n"
          ],
          "name": "stdout"
        }
      ]
    },
    {
      "cell_type": "code",
      "metadata": {
        "colab": {
          "base_uri": "https://localhost:8080/"
        },
        "id": "m-tTQm3mCJVX",
        "outputId": "0e11bdc8-1d76-45f9-fa61-6fff53cfbc5f"
      },
      "source": [
        "def multiply_2(a, b) :\n",
        "    return a * b  # returns any numeric data type value\n",
        "print(multiply_2(10, 5))"
      ],
      "execution_count": null,
      "outputs": [
        {
          "output_type": "stream",
          "text": [
            "50\n"
          ],
          "name": "stdout"
        }
      ]
    },
    {
      "cell_type": "code",
      "metadata": {
        "colab": {
          "base_uri": "https://localhost:8080/"
        },
        "id": "s8Yy8o7UFrrf",
        "outputId": "2137bd1c-4683-44b4-9ff5-42c5efe7f7d2"
      },
      "source": [
        "def my_function(a,b):\n",
        "    print(a*b)\n",
        "my_function(10,20)"
      ],
      "execution_count": null,
      "outputs": [
        {
          "output_type": "stream",
          "text": [
            "200\n"
          ],
          "name": "stdout"
        }
      ]
    },
    {
      "cell_type": "code",
      "metadata": {
        "id": "h5zReB8YeH2P"
      },
      "source": [
        "def mul(x, y) :\n",
        "    return x+y"
      ],
      "execution_count": null,
      "outputs": []
    },
    {
      "cell_type": "code",
      "metadata": {
        "colab": {
          "base_uri": "https://localhost:8080/"
        },
        "id": "fTVibYyGeKKb",
        "outputId": "1e2aa9c4-977b-43cf-9d66-521d0b526929"
      },
      "source": [
        "aa = mul(2, 5)\n",
        "print(aa)"
      ],
      "execution_count": null,
      "outputs": [
        {
          "output_type": "stream",
          "text": [
            "7\n"
          ],
          "name": "stdout"
        }
      ]
    },
    {
      "cell_type": "code",
      "metadata": {
        "colab": {
          "base_uri": "https://localhost:8080/"
        },
        "id": "x5ZdYmdqeMtg",
        "outputId": "3eeb96a1-c556-49d3-ccac-6bec12f7c356"
      },
      "source": [
        "print(mul(3,6))"
      ],
      "execution_count": null,
      "outputs": [
        {
          "output_type": "stream",
          "text": [
            "9\n"
          ],
          "name": "stdout"
        }
      ]
    },
    {
      "cell_type": "code",
      "metadata": {
        "colab": {
          "base_uri": "https://localhost:8080/"
        },
        "id": "tW_rzVQzeZGh",
        "outputId": "9b653a83-4b1c-4ba1-8e9a-3e98165b567b"
      },
      "source": [
        "print(type(print(\"hello\")))"
      ],
      "execution_count": null,
      "outputs": [
        {
          "output_type": "stream",
          "text": [
            "hello\n",
            "<class 'NoneType'>\n"
          ],
          "name": "stdout"
        }
      ]
    },
    {
      "cell_type": "code",
      "metadata": {
        "colab": {
          "base_uri": "https://localhost:8080/"
        },
        "id": "-P05uVDeeZx8",
        "outputId": "8a8e1bc9-ad8d-49d5-f2af-d2caa382b908"
      },
      "source": [
        "print(type(10*5))"
      ],
      "execution_count": null,
      "outputs": [
        {
          "output_type": "stream",
          "text": [
            "<class 'int'>\n"
          ],
          "name": "stdout"
        }
      ]
    },
    {
      "cell_type": "code",
      "metadata": {
        "id": "Sa10VLL0ekHU"
      },
      "source": [
        "def string() :\n",
        "    return \"ahmet\""
      ],
      "execution_count": null,
      "outputs": []
    },
    {
      "cell_type": "code",
      "metadata": {
        "colab": {
          "base_uri": "https://localhost:8080/"
        },
        "id": "W_FmewN9e1tU",
        "outputId": "ad869a1a-7523-460c-e936-85514c1b5703"
      },
      "source": [
        "print(string())"
      ],
      "execution_count": null,
      "outputs": [
        {
          "output_type": "stream",
          "text": [
            "ahmet\n"
          ],
          "name": "stdout"
        }
      ]
    },
    {
      "cell_type": "code",
      "metadata": {
        "colab": {
          "base_uri": "https://localhost:8080/"
        },
        "id": "ujdKBHGPe6qF",
        "outputId": "b49ced4e-d462-4c6a-d42d-1ddef711c189"
      },
      "source": [
        "type(string())"
      ],
      "execution_count": null,
      "outputs": [
        {
          "output_type": "execute_result",
          "data": {
            "text/plain": [
              "str"
            ]
          },
          "metadata": {
            "tags": []
          },
          "execution_count": 70
        }
      ]
    },
    {
      "cell_type": "code",
      "metadata": {
        "id": "PjvuQ8Y3e-ji"
      },
      "source": [
        "def integer() :\n",
        "    return 15"
      ],
      "execution_count": null,
      "outputs": []
    },
    {
      "cell_type": "code",
      "metadata": {
        "colab": {
          "base_uri": "https://localhost:8080/"
        },
        "id": "WyTg588ufDyJ",
        "outputId": "b5092686-32aa-493c-d6c0-1cc1f6588052"
      },
      "source": [
        "print(integer())"
      ],
      "execution_count": null,
      "outputs": [
        {
          "output_type": "stream",
          "text": [
            "15\n"
          ],
          "name": "stdout"
        }
      ]
    },
    {
      "cell_type": "code",
      "metadata": {
        "id": "In8DCptcfGWI"
      },
      "source": [
        "def boolean() :\n",
        "    return True"
      ],
      "execution_count": null,
      "outputs": []
    },
    {
      "cell_type": "code",
      "metadata": {
        "colab": {
          "base_uri": "https://localhost:8080/"
        },
        "id": "EHAmcighfKu8",
        "outputId": "8aa395e3-23bc-4d82-996b-38c2763ff038"
      },
      "source": [
        "type(boolean())"
      ],
      "execution_count": null,
      "outputs": [
        {
          "output_type": "execute_result",
          "data": {
            "text/plain": [
              "bool"
            ]
          },
          "metadata": {
            "tags": []
          },
          "execution_count": 16
        }
      ]
    },
    {
      "cell_type": "code",
      "metadata": {
        "colab": {
          "base_uri": "https://localhost:8080/"
        },
        "id": "mZAhtJJdfPLs",
        "outputId": "2d05be8c-a6d0-4cbc-eb70-59e3686b0c23"
      },
      "source": [
        "print(boolean())"
      ],
      "execution_count": null,
      "outputs": [
        {
          "output_type": "stream",
          "text": [
            "True\n"
          ],
          "name": "stdout"
        }
      ]
    },
    {
      "cell_type": "code",
      "metadata": {
        "id": "D9Qt6WkvfVew",
        "colab": {
          "base_uri": "https://localhost:8080/"
        },
        "outputId": "b215b9ad-a401-4c5f-e6cb-7bf64e1da4a3"
      },
      "source": [
        "if boolean():\n",
        "    print(\"ben çalıştım\")\n",
        "else :\n",
        "    print(\"beni rahatsız etmeyesen.\")"
      ],
      "execution_count": null,
      "outputs": [
        {
          "output_type": "stream",
          "text": [
            "ben çalıştım\n"
          ],
          "name": "stdout"
        }
      ]
    },
    {
      "cell_type": "code",
      "metadata": {
        "id": "EWalQwXGfY4c"
      },
      "source": [
        "def listem() :\n",
        "    return [1,2,3,4,5]"
      ],
      "execution_count": null,
      "outputs": []
    },
    {
      "cell_type": "code",
      "metadata": {
        "colab": {
          "base_uri": "https://localhost:8080/"
        },
        "id": "BA36Ae9XfdlL",
        "outputId": "2efd818e-a084-4fe8-967d-9205b7828749"
      },
      "source": [
        "print(listem())"
      ],
      "execution_count": null,
      "outputs": [
        {
          "output_type": "stream",
          "text": [
            "[1, 2, 3, 4, 5]\n"
          ],
          "name": "stdout"
        }
      ]
    },
    {
      "cell_type": "code",
      "metadata": {
        "colab": {
          "base_uri": "https://localhost:8080/"
        },
        "id": "wkV9OV6xfgk8",
        "outputId": "2b97e76e-cf7c-40ea-91a2-4aadff94d6b6"
      },
      "source": [
        "for i in listem() :\n",
        "    print(i)"
      ],
      "execution_count": null,
      "outputs": [
        {
          "output_type": "stream",
          "text": [
            "1\n",
            "2\n",
            "3\n",
            "4\n",
            "5\n"
          ],
          "name": "stdout"
        }
      ]
    },
    {
      "cell_type": "code",
      "metadata": {
        "colab": {
          "base_uri": "https://localhost:8080/"
        },
        "id": "-i_7_FcYfrKc",
        "outputId": "fe173d17-bc00-49ed-93bf-69b7ecc5d3af"
      },
      "source": [
        "tuple(listem())"
      ],
      "execution_count": null,
      "outputs": [
        {
          "output_type": "execute_result",
          "data": {
            "text/plain": [
              "(1, 2, 3, 4, 5)"
            ]
          },
          "metadata": {
            "tags": []
          },
          "execution_count": 22
        }
      ]
    },
    {
      "cell_type": "code",
      "metadata": {
        "colab": {
          "base_uri": "https://localhost:8080/"
        },
        "id": "CSUbumNzfxW_",
        "outputId": "689281fe-a0b1-4d4e-dd97-f56fe9ce58a3"
      },
      "source": [
        "tuple([1,2,3,4,5])"
      ],
      "execution_count": null,
      "outputs": [
        {
          "output_type": "execute_result",
          "data": {
            "text/plain": [
              "(1, 2, 3, 4, 5)"
            ]
          },
          "metadata": {
            "tags": []
          },
          "execution_count": 23
        }
      ]
    },
    {
      "cell_type": "code",
      "metadata": {
        "colab": {
          "base_uri": "https://localhost:8080/"
        },
        "id": "Xm9U6Cyjf4hk",
        "outputId": "700b1aca-0009-4b90-e4d0-5da623d6039c"
      },
      "source": [
        "def calculator(a,b,opr):\n",
        "    if opr == \"+\" :\n",
        "        return a + b\n",
        "    elif opr == \"-\" :\n",
        "        return a-b\n",
        "    elif opr == \"/\":\n",
        "        return a / b\n",
        "    elif opr == \"*\" :\n",
        "        return a*b\n",
        "\n",
        "print(calculator(8,9,\"*\"))"
      ],
      "execution_count": null,
      "outputs": [
        {
          "output_type": "stream",
          "text": [
            "72\n"
          ],
          "name": "stdout"
        }
      ]
    },
    {
      "cell_type": "markdown",
      "metadata": {
        "id": "TWU1x-aHlUSl"
      },
      "source": [
        "ARMSTRONG NUMBER"
      ]
    },
    {
      "cell_type": "code",
      "metadata": {
        "colab": {
          "base_uri": "https://localhost:8080/"
        },
        "id": "ThwCqNVCgS6R",
        "outputId": "d4047322-9a57-46cc-a6bb-f923450b551a"
      },
      "source": [
        "while True :\n",
        "    number = input(\"enter a positive number.\")\n",
        "    digits = len(number)\n",
        "    summ = 0\n",
        "    if not number.isdigit() :\n",
        "        print(number, \"is invalid entry. enter numberic value!\")\n",
        "    elif int(number) >= 0 :\n",
        "        for i in range(digits) :\n",
        "            summ = summ + int(number[i]) ** digits\n",
        "        if summ == int(number) :\n",
        "            print(number, \"is an Armstrong Number.\")\n",
        "            break\n",
        "        else :\n",
        "            print(number, \"is not an Armstrong Number.\")\n",
        "            break"
      ],
      "execution_count": null,
      "outputs": [
        {
          "output_type": "stream",
          "text": [
            "enter a positive number.458795412563214578\n",
            "458795412563214578 is not an Armstrong Number.\n"
          ],
          "name": "stdout"
        }
      ]
    },
    {
      "cell_type": "markdown",
      "metadata": {
        "id": "ZCTYj1E_ldiH"
      },
      "source": [
        "PRİME NUMBER"
      ]
    },
    {
      "cell_type": "code",
      "metadata": {
        "id": "zVbrFw3Ulfvm"
      },
      "source": [
        "n = int(input(\"Enter a number to check if it is a prime number.\"))\n",
        "count = 0\n",
        "for i in range(1, n+1) :\n",
        "    if n % i == 0 :\n",
        "        count += 1\n",
        "if (n == 0) or (n == 1) or (count >=3) :\n",
        "    print(n, \"is not a prime number.\")\n",
        "else:\n",
        "    print(n, \"is a prime number\")"
      ],
      "execution_count": null,
      "outputs": []
    },
    {
      "cell_type": "code",
      "metadata": {
        "id": "BYwy5YRWmBqU"
      },
      "source": [
        "filter()\n"
      ],
      "execution_count": null,
      "outputs": []
    },
    {
      "cell_type": "code",
      "metadata": {
        "id": "1Y4fCeBRmDyo"
      },
      "source": [
        "def filterVowels(letter) :\n",
        "    vowels = [\"a\", \"e\", \"i\", \"o\", \"u\"]\n",
        "\n",
        "    if letter.lower() in vowels :\n",
        "        return True\n",
        "    else :\n",
        "        return False\n"
      ],
      "execution_count": null,
      "outputs": []
    },
    {
      "cell_type": "code",
      "metadata": {
        "id": "obQwlasb2YFG"
      },
      "source": [
        "vowels = [\"a\", \"e\", \"i\", \"o\", \"u\"]"
      ],
      "execution_count": null,
      "outputs": []
    },
    {
      "cell_type": "code",
      "metadata": {
        "colab": {
          "base_uri": "https://localhost:8080/"
        },
        "id": "p01-izHv2Y6B",
        "outputId": "3597547f-6965-496d-e1ec-80c59256e5fa"
      },
      "source": [
        "\"b\" in vowels"
      ],
      "execution_count": null,
      "outputs": [
        {
          "output_type": "execute_result",
          "data": {
            "text/plain": [
              "False"
            ]
          },
          "metadata": {
            "tags": []
          },
          "execution_count": 26
        }
      ]
    },
    {
      "cell_type": "code",
      "metadata": {
        "colab": {
          "base_uri": "https://localhost:8080/"
        },
        "id": "ZYSP7rht2eSL",
        "outputId": "615428f0-a868-4864-f2e7-5f1323310686"
      },
      "source": [
        "filterVowels(\"U\")"
      ],
      "execution_count": null,
      "outputs": [
        {
          "output_type": "execute_result",
          "data": {
            "text/plain": [
              "True"
            ]
          },
          "metadata": {
            "tags": []
          },
          "execution_count": 29
        }
      ]
    },
    {
      "cell_type": "code",
      "metadata": {
        "colab": {
          "base_uri": "https://localhost:8080/"
        },
        "id": "soergk812iJb",
        "outputId": "a6896d87-f10f-4486-bfdc-18ef33a811e0"
      },
      "source": [
        "\"a\" in vowels"
      ],
      "execution_count": null,
      "outputs": [
        {
          "output_type": "execute_result",
          "data": {
            "text/plain": [
              "True"
            ]
          },
          "metadata": {
            "tags": []
          },
          "execution_count": 30
        }
      ]
    },
    {
      "cell_type": "code",
      "metadata": {
        "colab": {
          "base_uri": "https://localhost:8080/"
        },
        "id": "Zdt97oSR2rOX",
        "outputId": "c85674cf-df17-4005-886a-7535a70f2306"
      },
      "source": [
        "filterVowels(\"b\")"
      ],
      "execution_count": null,
      "outputs": [
        {
          "output_type": "execute_result",
          "data": {
            "text/plain": [
              "False"
            ]
          },
          "metadata": {
            "tags": []
          },
          "execution_count": 31
        }
      ]
    },
    {
      "cell_type": "code",
      "metadata": {
        "id": "GFtp0crQ2uCa"
      },
      "source": [
        "sentence = \"the clarusway is the best.\""
      ],
      "execution_count": null,
      "outputs": []
    },
    {
      "cell_type": "code",
      "metadata": {
        "id": "DpFBnTMO2wWT"
      },
      "source": [
        "filtered_vowels = filter(filterVowels, sentence)"
      ],
      "execution_count": null,
      "outputs": []
    },
    {
      "cell_type": "code",
      "metadata": {
        "colab": {
          "base_uri": "https://localhost:8080/"
        },
        "id": "TDXk2va62zZi",
        "outputId": "216a22a6-7645-4dc6-938a-e02b37b65595"
      },
      "source": [
        "print(* filtered_vowels)"
      ],
      "execution_count": null,
      "outputs": [
        {
          "output_type": "stream",
          "text": [
            "e a u a i e e\n"
          ],
          "name": "stdout"
        }
      ]
    },
    {
      "cell_type": "code",
      "metadata": {
        "id": "DXtj2Bl3217Y"
      },
      "source": [
        "def absolute(num) :\n",
        "    \"\"\"\n",
        "This function returns the absolute\n",
        "value of the entered number\n",
        "    \"\"\"\n",
        "    if num >= 0 :\n",
        "        return num\n",
        "    else:\n",
        "        return -num"
      ],
      "execution_count": null,
      "outputs": []
    },
    {
      "cell_type": "code",
      "metadata": {
        "id": "jvJPRm_H3hKd",
        "colab": {
          "base_uri": "https://localhost:8080/"
        },
        "outputId": "e6f460b9-b801-4d7e-dad1-6eae09b8f923"
      },
      "source": [
        "print(absolute.__doc__)\n",
        "print(abs.__doc__) # built in function larda tanımlanan docstring ise bu."
      ],
      "execution_count": null,
      "outputs": [
        {
          "output_type": "stream",
          "text": [
            "\n",
            "This function returns the absolute\n",
            "value of the entered number\n",
            "    \n",
            "Return the absolute value of the argument.\n"
          ],
          "name": "stdout"
        }
      ]
    },
    {
      "cell_type": "code",
      "metadata": {
        "colab": {
          "base_uri": "https://localhost:8080/"
        },
        "id": "w-0s2HB1xTO9",
        "outputId": "b37c13df-3849-44c0-a5c1-2c1ded357ff6"
      },
      "source": [
        "absolute(-11)"
      ],
      "execution_count": null,
      "outputs": [
        {
          "output_type": "execute_result",
          "data": {
            "text/plain": [
              "11"
            ]
          },
          "metadata": {
            "tags": []
          },
          "execution_count": 16
        }
      ]
    },
    {
      "cell_type": "code",
      "metadata": {
        "colab": {
          "base_uri": "https://localhost:8080/"
        },
        "id": "WQcICEHVzPj4",
        "outputId": "bf9e1bda-8c6e-4298-d473-12404367f10f"
      },
      "source": [
        "def who(first, last) :  # 'first' and 'last' are the parameters(or variables)\n",
        "    print('Your first name is :', first)\n",
        "    print('Your last name is :', last)\n",
        "\n",
        "who('Guido', 'van Rossum')  # 'Guido' and 'van Rossum' are the arguments\n",
        "print()\n",
        "who('Marry', 'Bold')  # 'Marry' and 'Bold' are also the arguments"
      ],
      "execution_count": null,
      "outputs": [
        {
          "output_type": "stream",
          "text": [
            "Your first name is : Guido\n",
            "Your last name is : van Rossum\n",
            "\n",
            "Your first name is : Marry\n",
            "Your last name is : Bold\n"
          ],
          "name": "stdout"
        }
      ]
    },
    {
      "cell_type": "code",
      "metadata": {
        "colab": {
          "base_uri": "https://localhost:8080/"
        },
        "id": "mrmI9q6VzS-G",
        "outputId": "dbe6d9a8-5045-4950-96b5-b96f9cd667f8"
      },
      "source": [
        "def pos_args(a, b):\n",
        "    print(a, 'is the first argument')\n",
        "    print(b, 'is the second argument')\n",
        "\n",
        "pos_args(3,4) # positional arguments fonksiyon içini sırayla döndürür.\n",
        "print()\n",
        "pos_args(4,3)"
      ],
      "execution_count": null,
      "outputs": [
        {
          "output_type": "stream",
          "text": [
            "3 is the first argument\n",
            "4 is the second argument\n",
            "\n",
            "4 is the first argument\n",
            "3 is the second argument\n"
          ],
          "name": "stdout"
        }
      ]
    },
    {
      "cell_type": "code",
      "metadata": {
        "colab": {
          "base_uri": "https://localhost:8080/"
        },
        "id": "OgbLxpEInOhD",
        "outputId": "f7b47c53-3ab0-473e-b1c4-3706202ea272"
      },
      "source": [
        "pos_arg([1,2, \"1\"], {2,44})"
      ],
      "execution_count": null,
      "outputs": [
        {
          "output_type": "stream",
          "text": [
            "[1, 2, '1'] is the first arg\n",
            "{2, 44} is the second arg\n"
          ],
          "name": "stdout"
        }
      ]
    },
    {
      "cell_type": "code",
      "metadata": {
        "colab": {
          "base_uri": "https://localhost:8080/"
        },
        "id": "ZOnmBkHUDssK",
        "outputId": "44490325-d8ff-429a-bc5a-ea6a85468e6f"
      },
      "source": [
        "def texter(a,b,c):\n",
        "      print(f\"{c} {b} {a}\")\n",
        "texter(\"you\",\"love\",\"i\")\n"
      ],
      "execution_count": null,
      "outputs": [
        {
          "output_type": "stream",
          "text": [
            "i love you\n"
          ],
          "name": "stdout"
        }
      ]
    },
    {
      "cell_type": "code",
      "metadata": {
        "id": "ryYGhBknnOhD"
      },
      "source": [
        "def concat(a, b) :\n",
        "    print(a + b)"
      ],
      "execution_count": null,
      "outputs": []
    },
    {
      "cell_type": "code",
      "metadata": {
        "id": "_am-eMSynOhE",
        "outputId": "b195bb60-fac3-49e1-bf22-7e38e338fd75"
      },
      "source": [
        "concat(a = \"istanbul \", b = \"erzurum \")"
      ],
      "execution_count": null,
      "outputs": [
        {
          "output_type": "stream",
          "text": [
            "istanbul erzurum \n"
          ],
          "name": "stdout"
        }
      ]
    },
    {
      "cell_type": "code",
      "metadata": {
        "id": "qkEBpnaWnOhE",
        "outputId": "a75d4e70-15b4-4d56-b726-a2a4f688f0eb"
      },
      "source": [
        "concat(b = \"erzurum \", a = \"istanbul \")"
      ],
      "execution_count": null,
      "outputs": [
        {
          "output_type": "stream",
          "text": [
            "istanbul erzurum \n"
          ],
          "name": "stdout"
        }
      ]
    },
    {
      "cell_type": "code",
      "metadata": {
        "id": "UrPUU9J5nOhE",
        "outputId": "e0d77d32-66f6-4270-dff6-a620d1f33d40"
      },
      "source": [
        "concat(a = \"london \", b = \"seoul \")"
      ],
      "execution_count": null,
      "outputs": [
        {
          "output_type": "stream",
          "text": [
            "london seoul \n"
          ],
          "name": "stdout"
        }
      ]
    },
    {
      "cell_type": "code",
      "metadata": {
        "id": "MK2-xwu-nOhE",
        "outputId": "006fd66b-0414-4f06-b2fb-59f8312008c6"
      },
      "source": [
        "concat(\"london \", \"seoul\")"
      ],
      "execution_count": null,
      "outputs": [
        {
          "output_type": "stream",
          "text": [
            "london seoul\n"
          ],
          "name": "stdout"
        }
      ]
    },
    {
      "cell_type": "code",
      "metadata": {
        "id": "wvqZXkjlnOhF"
      },
      "source": [
        "def default(a = \"ali\", b = 33) :\n",
        "    print(a, \"is\", b, \"years old.\")"
      ],
      "execution_count": null,
      "outputs": []
    },
    {
      "cell_type": "code",
      "metadata": {
        "id": "RTrJHxLqnOhF",
        "colab": {
          "base_uri": "https://localhost:8080/"
        },
        "outputId": "435ec2d4-0e53-40d6-fd44-c68159cf0a1a"
      },
      "source": [
        "default()"
      ],
      "execution_count": null,
      "outputs": [
        {
          "output_type": "stream",
          "text": [
            "ali is 33 years old.\n"
          ],
          "name": "stdout"
        }
      ]
    },
    {
      "cell_type": "code",
      "metadata": {
        "id": "X0nU-SNpnOhF",
        "outputId": "73768da4-8927-42b3-e5a3-01f10329e3a9"
      },
      "source": [
        "default(\"mehmet\", 44)"
      ],
      "execution_count": null,
      "outputs": [
        {
          "output_type": "stream",
          "text": [
            "mehmet is 44 years old.\n"
          ],
          "name": "stdout"
        }
      ]
    },
    {
      "cell_type": "code",
      "metadata": {
        "id": "alazp4g9nOhF",
        "outputId": "342b7eb9-ddff-4d7f-d40e-fb7065da65e0"
      },
      "source": [
        "default(\"selvi\")"
      ],
      "execution_count": null,
      "outputs": [
        {
          "output_type": "stream",
          "text": [
            "selvi is 33 years old.\n"
          ],
          "name": "stdout"
        }
      ]
    },
    {
      "cell_type": "code",
      "metadata": {
        "id": "ItjcVmWDnOhF",
        "outputId": "757a09a5-b629-4248-dfa9-3c4455f60fd9"
      },
      "source": [
        "default(b = 55)"
      ],
      "execution_count": null,
      "outputs": [
        {
          "output_type": "stream",
          "text": [
            "ali is 55 years old.\n"
          ],
          "name": "stdout"
        }
      ]
    },
    {
      "cell_type": "code",
      "metadata": {
        "id": "YmC-jB82nOhG",
        "outputId": "b401ca52-c444-47e9-fd62-b549108067a7"
      },
      "source": [
        "default(a = \"songül\", b = 22)"
      ],
      "execution_count": null,
      "outputs": [
        {
          "output_type": "stream",
          "text": [
            "songül is 22 years old.\n"
          ],
          "name": "stdout"
        }
      ]
    },
    {
      "cell_type": "code",
      "metadata": {
        "id": "igSCFD4FnOhG"
      },
      "source": [
        "def default(x, a = \"ali\", b = 33) :\n",
        "    print(a, \"and\",x, \"is\", b, \"years old.\")"
      ],
      "execution_count": null,
      "outputs": []
    },
    {
      "cell_type": "code",
      "metadata": {
        "id": "tZNTpgxEnOhG",
        "outputId": "ee3ba112-2cce-426e-c79a-69717d492e1d"
      },
      "source": [
        "default(\"gonca\")"
      ],
      "execution_count": null,
      "outputs": [
        {
          "output_type": "stream",
          "text": [
            "ali and gonca is 33 years old.\n"
          ],
          "name": "stdout"
        }
      ]
    },
    {
      "cell_type": "code",
      "metadata": {
        "id": "9jKfxjJjnOhH"
      },
      "source": [
        "def parrot(voltage, state=\"a stiff\", action=\"voom\", typed=\"Norwegian Blue\"):\n",
        "    print(\"-- This parrot wouldn't\", action, end=\" \")\n",
        "    print(\"if you put\", voltage, \"volts through it.\")\n",
        "    print(\"-- Lovely plumage, the\", typed)\n",
        "    print(\"-- It's\", state, \"!\")"
      ],
      "execution_count": null,
      "outputs": []
    },
    {
      "cell_type": "code",
      "metadata": {
        "id": "NmCQbFuDnOhH",
        "colab": {
          "base_uri": "https://localhost:8080/",
          "height": 167
        },
        "outputId": "8a7627af-6e90-4a66-f0b3-df9a65bfdbef"
      },
      "source": [
        "parrot()"
      ],
      "execution_count": null,
      "outputs": [
        {
          "output_type": "error",
          "ename": "TypeError",
          "evalue": "ignored",
          "traceback": [
            "\u001b[0;31m---------------------------------------------------------------------------\u001b[0m",
            "\u001b[0;31mTypeError\u001b[0m                                 Traceback (most recent call last)",
            "\u001b[0;32m<ipython-input-5-1fa32faf15ff>\u001b[0m in \u001b[0;36m<module>\u001b[0;34m()\u001b[0m\n\u001b[0;32m----> 1\u001b[0;31m \u001b[0mparrot\u001b[0m\u001b[0;34m(\u001b[0m\u001b[0;34m)\u001b[0m\u001b[0;34m\u001b[0m\u001b[0;34m\u001b[0m\u001b[0m\n\u001b[0m",
            "\u001b[0;31mTypeError\u001b[0m: parrot() missing 1 required positional argument: 'voltage'"
          ]
        }
      ]
    },
    {
      "cell_type": "code",
      "metadata": {
        "id": "M_yMH0eXnOhH",
        "outputId": "c78b4d10-d577-4e67-cc30-202ddffc857f"
      },
      "source": [
        "parrot(1000)"
      ],
      "execution_count": null,
      "outputs": [
        {
          "output_type": "stream",
          "text": [
            "-- This parrot wouldn't voom if you put 1000 volts through it.\n",
            "-- Lovely plumage, the Norwegian Blue\n",
            "-- It's a stiff !\n"
          ],
          "name": "stdout"
        }
      ]
    },
    {
      "cell_type": "code",
      "metadata": {
        "id": "I7dq3hb1nOhH",
        "outputId": "88503eb4-4b5c-4eac-b2a5-957e2d02b8a8"
      },
      "source": [
        "parrot(voltage = 10000000, action = \"VOOOOOOM\")"
      ],
      "execution_count": null,
      "outputs": [
        {
          "output_type": "stream",
          "text": [
            "-- This parrot wouldn't VOOOOOOM if you put 10000000 volts through it.\n",
            "-- Lovely plumage, the Norwegian Blue\n",
            "-- It's a stiff !\n"
          ],
          "name": "stdout"
        }
      ]
    },
    {
      "cell_type": "code",
      "metadata": {
        "id": "qTiXhyN9nOhH",
        "outputId": "1edf6012-d0e1-4bbe-8c30-a04021447f8a"
      },
      "source": [
        "parrot(action = \"VOOOOOOM\", voltage = 10000000)"
      ],
      "execution_count": null,
      "outputs": [
        {
          "output_type": "stream",
          "text": [
            "-- This parrot wouldn't VOOOOOOM if you put 10000000 volts through it.\n",
            "-- Lovely plumage, the Norwegian Blue\n",
            "-- It's a stiff !\n"
          ],
          "name": "stdout"
        }
      ]
    },
    {
      "cell_type": "code",
      "metadata": {
        "id": "bYZehv4jnOhI",
        "colab": {
          "base_uri": "https://localhost:8080/",
          "height": 132
        },
        "outputId": "57d9e437-b1d2-44ce-e678-6e5fe4a2c1a0"
      },
      "source": [
        "def parrot(state = \"a stiff\", voltage, action=\"voom\", typed=\"Norwegian Blue\"): # yanlış tanımlanan fonksiyon\n",
        "    print(\"-- This parrot wouldn't\", action, end=\" \")\n",
        "    print(\"if you put\", voltage, \"volts through it.\")\n",
        "    print(\"-- Lovely plumage, the\", typed)\n",
        "    print(\"-- It's\", state, \"!\")"
      ],
      "execution_count": null,
      "outputs": [
        {
          "output_type": "error",
          "ename": "SyntaxError",
          "evalue": "ignored",
          "traceback": [
            "\u001b[0;36m  File \u001b[0;32m\"<ipython-input-8-eab25ad23b5c>\"\u001b[0;36m, line \u001b[0;32m1\u001b[0m\n\u001b[0;31m    def parrot(state = \"a stiff\", voltage, action=\"voom\", typed=\"Norwegian Blue\"):\u001b[0m\n\u001b[0m              ^\u001b[0m\n\u001b[0;31mSyntaxError\u001b[0m\u001b[0;31m:\u001b[0m non-default argument follows default argument\n"
          ]
        }
      ]
    },
    {
      "cell_type": "code",
      "metadata": {
        "id": "0uBd_NO2nOhI",
        "outputId": "99222eb7-63cb-4577-f88e-35dbc599245c"
      },
      "source": [
        "def argu(a, b = \"dünya\", c, d = \"satürn\") : # Yanlış tanımlanmış fonksiyon. Çünkü tüm positional olanlar sırayla başa gelmelidir.\n",
        "    print(a, b, c, d, sep = \"\\n\") # araya positional kaçmamalıdır."
      ],
      "execution_count": null,
      "outputs": [
        {
          "output_type": "error",
          "ename": "SyntaxError",
          "evalue": "non-default argument follows default argument (<ipython-input-48-a16aa314c4e9>, line 1)",
          "traceback": [
            "\u001b[0;36m  File \u001b[0;32m\"<ipython-input-48-a16aa314c4e9>\"\u001b[0;36m, line \u001b[0;32m1\u001b[0m\n\u001b[0;31m    def argu(a, b = \"dünya\", c, d = \"satürn\") :\u001b[0m\n\u001b[0m             ^\u001b[0m\n\u001b[0;31mSyntaxError\u001b[0m\u001b[0;31m:\u001b[0m non-default argument follows default argument\n"
          ]
        }
      ]
    },
    {
      "cell_type": "code",
      "metadata": {
        "id": "7-X3FW6wnOhI"
      },
      "source": [
        "def argu(a, c, b = \"dünya\", d = \"satürn\") :\n",
        "    print(a, b, c, d, sep = \"\\n\")"
      ],
      "execution_count": null,
      "outputs": []
    },
    {
      "cell_type": "code",
      "metadata": {
        "id": "MG1rYncdnOhI",
        "colab": {
          "base_uri": "https://localhost:8080/",
          "height": 163
        },
        "outputId": "46d2ab29-9655-44dd-d167-1d8273e0d442"
      },
      "source": [
        "argu()"
      ],
      "execution_count": null,
      "outputs": [
        {
          "output_type": "error",
          "ename": "TypeError",
          "evalue": "ignored",
          "traceback": [
            "\u001b[0;31m---------------------------------------------------------------------------\u001b[0m",
            "\u001b[0;31mTypeError\u001b[0m                                 Traceback (most recent call last)",
            "\u001b[0;32m<ipython-input-5-2743aba80a34>\u001b[0m in \u001b[0;36m<module>\u001b[0;34m()\u001b[0m\n\u001b[0;32m----> 1\u001b[0;31m \u001b[0margu\u001b[0m\u001b[0;34m(\u001b[0m\u001b[0;34m)\u001b[0m\u001b[0;34m\u001b[0m\u001b[0;34m\u001b[0m\u001b[0m\n\u001b[0m",
            "\u001b[0;31mTypeError\u001b[0m: argu() missing 2 required positional arguments: 'a' and 'c'"
          ]
        }
      ]
    },
    {
      "cell_type": "code",
      "metadata": {
        "id": "1dX_3hO7nOhI",
        "colab": {
          "base_uri": "https://localhost:8080/"
        },
        "outputId": "2cbcaa20-0cb6-4cf5-e670-a327d23c9eff"
      },
      "source": [
        "argu(\"uranüs\", \"jüpiter\")"
      ],
      "execution_count": null,
      "outputs": [
        {
          "output_type": "stream",
          "text": [
            "uranüs\n",
            "dünya\n",
            "jüpiter\n",
            "satürn\n"
          ],
          "name": "stdout"
        }
      ]
    },
    {
      "cell_type": "code",
      "metadata": {
        "id": "BQO47oCEnOhJ",
        "colab": {
          "base_uri": "https://localhost:8080/"
        },
        "outputId": "3c280c9c-545c-4b43-993c-b9f5b076f16e"
      },
      "source": [
        "argu(d = \"güneş\", a = \"dünya\", c = \"pluto\", b = \"mars\")"
      ],
      "execution_count": null,
      "outputs": [
        {
          "output_type": "stream",
          "text": [
            "dünya\n",
            "mars\n",
            "pluto\n",
            "güneş\n"
          ],
          "name": "stdout"
        }
      ]
    },
    {
      "cell_type": "code",
      "metadata": {
        "id": "bHVJFHhZnOhJ",
        "colab": {
          "base_uri": "https://localhost:8080/",
          "height": 129
        },
        "outputId": "12a15489-9e37-4465-e285-13decfa54907"
      },
      "source": [
        "argu(a = \"dünya\", c = \"merkür\", \"uranüs\")"
      ],
      "execution_count": null,
      "outputs": [
        {
          "output_type": "error",
          "ename": "SyntaxError",
          "evalue": "ignored",
          "traceback": [
            "\u001b[0;36m  File \u001b[0;32m\"<ipython-input-8-8b3e802bea27>\"\u001b[0;36m, line \u001b[0;32m1\u001b[0m\n\u001b[0;31m    argu(a = \"dünya\", c = \"merkür\", \"uranüs\")\u001b[0m\n\u001b[0m                                     ^\u001b[0m\n\u001b[0;31mSyntaxError\u001b[0m\u001b[0;31m:\u001b[0m positional argument follows keyword argument\n"
          ]
        }
      ]
    },
    {
      "cell_type": "code",
      "metadata": {
        "id": "MFwZg--rnOhJ",
        "colab": {
          "base_uri": "https://localhost:8080/",
          "height": 163
        },
        "outputId": "c92afe87-cc58-4a4a-de10-9a43cadfe6a8"
      },
      "source": [
        "argu(\"uranüs\", a = \"dünya\", c = \"merkür\")"
      ],
      "execution_count": null,
      "outputs": [
        {
          "output_type": "error",
          "ename": "TypeError",
          "evalue": "ignored",
          "traceback": [
            "\u001b[0;31m---------------------------------------------------------------------------\u001b[0m",
            "\u001b[0;31mTypeError\u001b[0m                                 Traceback (most recent call last)",
            "\u001b[0;32m<ipython-input-9-34087e19cc44>\u001b[0m in \u001b[0;36m<module>\u001b[0;34m()\u001b[0m\n\u001b[0;32m----> 1\u001b[0;31m \u001b[0margu\u001b[0m\u001b[0;34m(\u001b[0m\u001b[0;34m\"uranüs\"\u001b[0m\u001b[0;34m,\u001b[0m \u001b[0ma\u001b[0m \u001b[0;34m=\u001b[0m \u001b[0;34m\"dünya\"\u001b[0m\u001b[0;34m,\u001b[0m \u001b[0mc\u001b[0m \u001b[0;34m=\u001b[0m \u001b[0;34m\"merkür\"\u001b[0m\u001b[0;34m)\u001b[0m\u001b[0;34m\u001b[0m\u001b[0;34m\u001b[0m\u001b[0m\n\u001b[0m",
            "\u001b[0;31mTypeError\u001b[0m: argu() got multiple values for argument 'a'"
          ]
        }
      ]
    },
    {
      "cell_type": "code",
      "metadata": {
        "colab": {
          "base_uri": "https://localhost:8080/",
          "height": 203
        },
        "id": "tKP1Sd1Id1kG",
        "outputId": "1c7c1c9c-5ddd-439a-dfa0-18952b9ce986"
      },
      "source": [
        "def function(a):\n",
        "    pass  # actually, 'pass' does nothing. it just moves to the next line of code\n",
        "\n",
        "function(0, a=0)"
      ],
      "execution_count": null,
      "outputs": [
        {
          "output_type": "error",
          "ename": "TypeError",
          "evalue": "ignored",
          "traceback": [
            "\u001b[0;31m---------------------------------------------------------------------------\u001b[0m",
            "\u001b[0;31mTypeError\u001b[0m                                 Traceback (most recent call last)",
            "\u001b[0;32m<ipython-input-10-25a27cb536b4>\u001b[0m in \u001b[0;36m<module>\u001b[0;34m()\u001b[0m\n\u001b[1;32m      2\u001b[0m     \u001b[0;32mpass\u001b[0m  \u001b[0;31m# actually, 'pass' does nothing. it just moves to the next line of code\u001b[0m\u001b[0;34m\u001b[0m\u001b[0;34m\u001b[0m\u001b[0m\n\u001b[1;32m      3\u001b[0m \u001b[0;34m\u001b[0m\u001b[0m\n\u001b[0;32m----> 4\u001b[0;31m \u001b[0mfunction\u001b[0m\u001b[0;34m(\u001b[0m\u001b[0;36m0\u001b[0m\u001b[0;34m,\u001b[0m \u001b[0ma\u001b[0m\u001b[0;34m=\u001b[0m\u001b[0;36m0\u001b[0m\u001b[0;34m)\u001b[0m\u001b[0;34m\u001b[0m\u001b[0;34m\u001b[0m\u001b[0m\n\u001b[0m",
            "\u001b[0;31mTypeError\u001b[0m: function() got multiple values for argument 'a'"
          ]
        }
      ]
    },
    {
      "cell_type": "code",
      "metadata": {
        "id": "DF2B0QGMnOhJ"
      },
      "source": [
        "pass"
      ],
      "execution_count": null,
      "outputs": []
    },
    {
      "cell_type": "code",
      "metadata": {
        "id": "YUPi6od4nOhJ",
        "colab": {
          "base_uri": "https://localhost:8080/"
        },
        "outputId": "fd82401e-ca95-441e-e36b-5d618f99b17a"
      },
      "source": [
        "if 10 > 0 :\n",
        "    pass\n",
        "    print(\"ben ikinci satırım\")"
      ],
      "execution_count": null,
      "outputs": [
        {
          "output_type": "stream",
          "text": [
            "ben ikinci satırım\n"
          ],
          "name": "stdout"
        }
      ]
    },
    {
      "cell_type": "markdown",
      "metadata": {
        "id": "bnYifzJUj57Y"
      },
      "source": [
        "ARBİTRARY ARGUMENTS"
      ]
    },
    {
      "cell_type": "code",
      "metadata": {
        "id": "Chg-lbMQj5iF"
      },
      "source": [
        "#  fonksiyon tanımlanırken bir den fazla parametre tanımlayacaksak parametrenin başına * koyarız:\n",
        "# yani def name(*parameter) şeklinde yaparız: name(multiple args)"
      ],
      "execution_count": null,
      "outputs": []
    },
    {
      "cell_type": "code",
      "metadata": {
        "colab": {
          "base_uri": "https://localhost:8080/"
        },
        "id": "UuYYgC7ZksOm",
        "outputId": "8477c513-0f7c-4822-cdb9-850665f68ffb"
      },
      "source": [
        "def fruiterer(fruit1, fruit2) : # manavda birden fazla alınacak meyve sebze için tek tek tanımlama yerine aşağıdaki gibi yaparız.\n",
        "    print('I want to get', fruit1, 'and', fruit2)\n",
        "\n",
        "fruiterer('orange', 'banana')"
      ],
      "execution_count": null,
      "outputs": [
        {
          "output_type": "stream",
          "text": [
            "I want to get orange and banana\n"
          ],
          "name": "stdout"
        }
      ]
    },
    {
      "cell_type": "code",
      "metadata": {
        "id": "gOPNiuLsnOhK"
      },
      "source": [
        "def slicer(*num) :\n",
        "    print(\"evens :\", [i for i in num if i%2 == 0])\n",
        "    print(\"odd :\", [i for i in num if not i%2 == 0])"
      ],
      "execution_count": null,
      "outputs": []
    },
    {
      "cell_type": "code",
      "metadata": {
        "colab": {
          "base_uri": "https://localhost:8080/"
        },
        "id": "HChJBsiNlE-X",
        "outputId": "707fb66b-8486-4890-d591-2bdcf5825704"
      },
      "source": [
        "def fruiterer(*fruit) :\n",
        "    print('I want to get :')\n",
        "    for i in fruit :\n",
        "        print('-', i)\n",
        "\n",
        "fruiterer('orange', 'banana', 'melon', 'ananas')\n"
      ],
      "execution_count": null,
      "outputs": [
        {
          "output_type": "stream",
          "text": [
            "I want to get :\n",
            "- orange\n",
            "- banana\n",
            "- melon\n",
            "- ananas\n"
          ],
          "name": "stdout"
        }
      ]
    },
    {
      "cell_type": "code",
      "metadata": {
        "colab": {
          "base_uri": "https://localhost:8080/"
        },
        "id": "pyG1ZiQ3l3Ck",
        "outputId": "46c999f6-5a63-464a-bef4-50b87c145462"
      },
      "source": [
        "def fruiterer(*fruit) :\n",
        "    print('I want to get :')\n",
        "    for i in fruit :\n",
        "        print('-', i)\n",
        "\n",
        "fruiterer(['orange', 'banana', 'melon', 'ananas'])"
      ],
      "execution_count": null,
      "outputs": [
        {
          "output_type": "stream",
          "text": [
            "I want to get :\n",
            "- ['orange', 'banana', 'melon', 'ananas']\n"
          ],
          "name": "stdout"
        }
      ]
    },
    {
      "cell_type": "code",
      "metadata": {
        "id": "0b0So3Oiolov"
      },
      "source": [
        "def slicer(*num) :\n",
        "    evens = []\n",
        "    odds = []\n",
        "    for i in num :\n",
        "        if i % 2 == 0 :\n",
        "            evens.append(i)\n",
        "        else :\n",
        "            odds.append(i)\n",
        "    print(\"even list : \", evens)\n",
        "    print(\"odd list : \", odds)\n"
      ],
      "execution_count": null,
      "outputs": []
    },
    {
      "cell_type": "code",
      "metadata": {
        "id": "tVgrJdaTnOhK",
        "colab": {
          "base_uri": "https://localhost:8080/"
        },
        "outputId": "101b36ff-b586-4cfb-8335-998681ae47d0"
      },
      "source": [
        "slicer(0,1,2,3,4,5,6,7,8,9)"
      ],
      "execution_count": null,
      "outputs": [
        {
          "output_type": "stream",
          "text": [
            "even list :  [0, 2, 4, 6, 8]\n",
            "odd list :  [1, 3, 5, 7, 9]\n"
          ],
          "name": "stdout"
        }
      ]
    },
    {
      "cell_type": "markdown",
      "metadata": {
        "id": "4Iq3nBy_qvoH"
      },
      "source": [
        "**kwargs"
      ]
    },
    {
      "cell_type": "code",
      "metadata": {
        "id": "McmJJXhiqvAw"
      },
      "source": [
        "# def name(**kwargs) ** alır ve dict iterable dır."
      ],
      "execution_count": null,
      "outputs": []
    },
    {
      "cell_type": "code",
      "metadata": {
        "id": "pVTS9yteqkTs",
        "colab": {
          "base_uri": "https://localhost:8080/"
        },
        "outputId": "2225ed99-0995-4743-aa5d-c5acd157b987"
      },
      "source": [
        "def animals(**kwargs):\n",
        "    for key, value in kwargs.items():\n",
        "        print(value, \"are\", key)\n",
        "\n",
        "animals(Carnivores=\"Lions\", Omnivores=\"Bears\", Herbivores=\"Deers\", Nomnivores=\"Human\")\n"
      ],
      "execution_count": null,
      "outputs": [
        {
          "output_type": "stream",
          "text": [
            "Lions are Carnivores\n",
            "Bears are Omnivores\n",
            "Deers are Herbivores\n",
            "Human are Nomnivores\n"
          ],
          "name": "stdout"
        }
      ]
    },
    {
      "cell_type": "code",
      "metadata": {
        "id": "rQP2kHx1nOhK"
      },
      "source": [
        "sözlük = dict(ahmet = \"bacanak\", mehmet = \"ağabey\", ceyda = \"baldız\", meryem = \"anne\")"
      ],
      "execution_count": null,
      "outputs": []
    },
    {
      "cell_type": "code",
      "metadata": {
        "id": "FkSgyLX6nOhK",
        "colab": {
          "base_uri": "https://localhost:8080/"
        },
        "outputId": "af663ab5-2d22-4359-f18c-5ac6eeffe9e6"
      },
      "source": [
        "sözlük"
      ],
      "execution_count": null,
      "outputs": [
        {
          "output_type": "execute_result",
          "data": {
            "text/plain": [
              "{'ahmet': 'bacanak', 'ceyda': 'baldız', 'mehmet': 'ağabey', 'meryem': 'anne'}"
            ]
          },
          "metadata": {
            "tags": []
          },
          "execution_count": 15
        }
      ]
    },
    {
      "cell_type": "code",
      "metadata": {
        "id": "YPo9zxcVnOhK"
      },
      "source": [
        "def sözlük(**a) :\n",
        "    for key, value in a.items() :\n",
        "        print(key, value)"
      ],
      "execution_count": null,
      "outputs": []
    },
    {
      "cell_type": "code",
      "metadata": {
        "id": "xBmz0vOznOhL",
        "colab": {
          "base_uri": "https://localhost:8080/"
        },
        "outputId": "8adefd97-8ccc-4958-866b-7f18d9d2772a"
      },
      "source": [
        "sözlük(ahmet = \"bacanak\", mehmet = \"ağabey\", ceyda = \"baldız\")"
      ],
      "execution_count": null,
      "outputs": [
        {
          "output_type": "stream",
          "text": [
            "ahmet bacanak\n",
            "mehmet ağabey\n",
            "ceyda baldız\n"
          ],
          "name": "stdout"
        }
      ]
    },
    {
      "cell_type": "code",
      "metadata": {
        "id": "QEnPr5W1nOhL",
        "colab": {
          "base_uri": "https://localhost:8080/"
        },
        "outputId": "1097ae1e-99e6-400b-ef59-58a0409c0063"
      },
      "source": [
        "sözlük(ahmet = \"bacanak\", mehmet = \"ağabey\", ceyda = \"baldız\", leyla = \"komşu\", zeyno = \"bebek\")"
      ],
      "execution_count": null,
      "outputs": [
        {
          "output_type": "stream",
          "text": [
            "ahmet bacanak\n",
            "mehmet ağabey\n",
            "ceyda baldız\n",
            "leyla komşu\n",
            "zeyno bebek\n"
          ],
          "name": "stdout"
        }
      ]
    },
    {
      "cell_type": "code",
      "metadata": {
        "id": "6yjwS2VjuqMe"
      },
      "source": [
        "def organizer(**people) :\n",
        "    names = []\n",
        "    ages = []\n",
        "    for key, value in people.items():\n",
        "        names.append(key)\n",
        "        ages.append(value)\n",
        "    print(names, ages, sep = \"\\n\")"
      ],
      "execution_count": null,
      "outputs": []
    },
    {
      "cell_type": "code",
      "metadata": {
        "colab": {
          "base_uri": "https://localhost:8080/"
        },
        "id": "TYdrybh5uuOC",
        "outputId": "841fa63e-7759-4f35-db12-68eb2ed90dd1"
      },
      "source": [
        "organizer(Beth=26, Oscar=42, Justin=18, Frank=33)"
      ],
      "execution_count": null,
      "outputs": [
        {
          "output_type": "stream",
          "text": [
            "['Beth', 'Oscar', 'Justin', 'Frank']\n",
            "[26, 42, 18, 33]\n"
          ],
          "name": "stdout"
        }
      ]
    },
    {
      "cell_type": "code",
      "metadata": {
        "id": "-H8oXSj5nOhL"
      },
      "source": [
        "def defa(**x) :\n",
        "    for t, z in x.items():\n",
        "        print(t, \"is\", z, \"years old.\")"
      ],
      "execution_count": null,
      "outputs": []
    },
    {
      "cell_type": "code",
      "metadata": {
        "id": "mf9X5AgjnOhL",
        "colab": {
          "base_uri": "https://localhost:8080/"
        },
        "outputId": "aaeb60f9-21f2-4070-fb3d-65d3d23d6dbd"
      },
      "source": [
        "defa(ali = 33, veli = 44, deli = 100, ayşe = 22, nazan = 77)"
      ],
      "execution_count": null,
      "outputs": [
        {
          "output_type": "stream",
          "text": [
            "ali is 33 years old.\n",
            "veli is 44 years old.\n",
            "deli is 100 years old.\n",
            "ayşe is 22 years old.\n",
            "nazan is 77 years old.\n"
          ],
          "name": "stdout"
        }
      ]
    },
    {
      "cell_type": "code",
      "metadata": {
        "id": "5QhhjbigAmz9",
        "colab": {
          "base_uri": "https://localhost:8080/"
        },
        "outputId": "af56a2f8-f2a5-46d7-992b-96ce2747f223"
      },
      "source": [
        "def brothers(bro1, bro2, bro3):\n",
        "    print('Here are the names of brothers :')\n",
        "    print(bro1, bro2, bro3, sep='\\n')\n",
        "family = ['tom', 'sue', 'tim']\n",
        "brothers(*family)"
      ],
      "execution_count": null,
      "outputs": [
        {
          "output_type": "stream",
          "text": [
            "Here are the names of brothers :\n",
            "tom\n",
            "sue\n",
            "tim\n"
          ],
          "name": "stdout"
        }
      ]
    },
    {
      "cell_type": "code",
      "metadata": {
        "id": "1YqfE8bAAm0H",
        "colab": {
          "base_uri": "https://localhost:8080/"
        },
        "outputId": "5c8afaad-d493-4608-ff10-66aa5f9c1473"
      },
      "source": [
        "brothers(family, family, family)"
      ],
      "execution_count": null,
      "outputs": [
        {
          "output_type": "stream",
          "text": [
            "Here are the names of brothers :\n",
            "['tom', 'sue', 'tim']\n",
            "['tom', 'sue', 'tim']\n",
            "['tom', 'sue', 'tim']\n"
          ],
          "name": "stdout"
        }
      ]
    },
    {
      "cell_type": "code",
      "metadata": {
        "id": "tAiA41pqAm0I"
      },
      "source": [
        "genius = (\"Bill\", \"Rossum\", \"Guido van\", \"Gates\")"
      ],
      "execution_count": null,
      "outputs": []
    },
    {
      "cell_type": "code",
      "metadata": {
        "id": "5_IV_ZDQAm0I"
      },
      "source": [
        "# For me, Bill Gates and Guido van Rossum are geniuses."
      ],
      "execution_count": null,
      "outputs": []
    },
    {
      "cell_type": "code",
      "metadata": {
        "id": "C9ImDmKfAm0J"
      },
      "source": [
        "def merger(par1, par2, par3, par4) :\n",
        "    print(f\"For me, {par1} {par4} and {par3} {par2} are geniuses.\")"
      ],
      "execution_count": null,
      "outputs": []
    },
    {
      "cell_type": "code",
      "metadata": {
        "colab": {
          "base_uri": "https://localhost:8080/"
        },
        "id": "5DAyePd2Am0J",
        "outputId": "406da96c-a237-4978-b2d0-6efcc0708566"
      },
      "source": [
        "merger(*genius)"
      ],
      "execution_count": null,
      "outputs": [
        {
          "output_type": "stream",
          "text": [
            "For me, Bill Gates and Guido van Rossum are geniuses.\n"
          ],
          "name": "stdout"
        }
      ]
    },
    {
      "cell_type": "code",
      "metadata": {
        "id": "FVEUCdjWAm0K"
      },
      "source": [
        "def önceki(**parametre) :\n",
        "    for x, y in parametre.items() :\n",
        "        print(x, y)"
      ],
      "execution_count": null,
      "outputs": []
    },
    {
      "cell_type": "code",
      "metadata": {
        "id": "N6hnSm0ZAm0K",
        "colab": {
          "base_uri": "https://localhost:8080/"
        },
        "outputId": "1bf8ef43-831d-4078-e992-14f18e886c67"
      },
      "source": [
        "önceki(a = \"ahmet\", b = \"mehmet\", c = \"selamet\")"
      ],
      "execution_count": null,
      "outputs": [
        {
          "output_type": "stream",
          "text": [
            "a ahmet\n",
            "b mehmet\n",
            "c selamet\n"
          ],
          "name": "stdout"
        }
      ]
    },
    {
      "cell_type": "code",
      "metadata": {
        "id": "BK0GRbMRAm0L",
        "colab": {
          "base_uri": "https://localhost:8080/"
        },
        "outputId": "3b1ba6a6-b0ae-449f-a670-feec5d233639"
      },
      "source": [
        "def gene(x='Solomon', y='David'):  # defined by kwargs (default values assigned to x and y)\n",
        "    print(x, \"belongs to Generation X\")\n",
        "    print(y, \"belongs to Generation Y\")\n",
        "dict_gene = {\"y\" : \"Marry\", 'x' : \"Fred\"}\n",
        "gene(**dict_gene)"
      ],
      "execution_count": null,
      "outputs": [
        {
          "output_type": "stream",
          "text": [
            "Fred belongs to Generation X\n",
            "Marry belongs to Generation Y\n"
          ],
          "name": "stdout"
        }
      ]
    },
    {
      "cell_type": "code",
      "metadata": {
        "id": "KC6xPgo1Am0L",
        "colab": {
          "base_uri": "https://localhost:8080/"
        },
        "outputId": "90086fc6-d8f9-4087-94fb-7faa892c5457"
      },
      "source": [
        "gene()"
      ],
      "execution_count": null,
      "outputs": [
        {
          "output_type": "stream",
          "text": [
            "Solomon belongs to Generation X\n",
            "David belongs to Generation Y\n"
          ],
          "name": "stdout"
        }
      ]
    },
    {
      "cell_type": "markdown",
      "metadata": {
        "id": "7QHfhjQuAm0M"
      },
      "source": [
        "<img src=\"https://i.pinimg.com/originals/e6/87/61/e687614048a36165dd49b6fb18a12b5d.png\" height = \"100\" width =\"200\" alt = \"izdivac\">"
      ]
    },
    {
      "cell_type": "code",
      "metadata": {
        "id": "PQlKFgi8Am0N"
      },
      "source": [
        "#[(\"mary\", \"rye\"), (\"bella\", \"fred\"), (\"linda\", \"roland\")]"
      ],
      "execution_count": null,
      "outputs": []
    },
    {
      "cell_type": "code",
      "metadata": {
        "id": "OQAwRRuLAm0N"
      },
      "source": [
        "dict_couple = {\"bride\" : [\"mary\", \"bella\", \"linda\"],\n",
        "               \"groom\" : [\"rye\", \"fred\", \"roland\"]}"
      ],
      "execution_count": null,
      "outputs": []
    },
    {
      "cell_type": "code",
      "metadata": {
        "id": "xULKQ91uAm0N"
      },
      "source": [
        "def couples(bride, groom) :\n",
        "    couple_list = []\n",
        "    for x in zip(bride, groom) :\n",
        "        couple_list.append(x)\n",
        "    return couple_list"
      ],
      "execution_count": null,
      "outputs": []
    },
    {
      "cell_type": "code",
      "metadata": {
        "id": "c3GjN3Y3Am0O",
        "colab": {
          "base_uri": "https://localhost:8080/"
        },
        "outputId": "da1986fa-c860-4737-c704-8b2f8172904c"
      },
      "source": [
        "couples(**dict_couple)"
      ],
      "execution_count": null,
      "outputs": [
        {
          "output_type": "execute_result",
          "data": {
            "text/plain": [
              "[('mary', 'rye'), ('bella', 'fred'), ('linda', 'roland')]"
            ]
          },
          "metadata": {
            "tags": []
          },
          "execution_count": 41
        }
      ]
    },
    {
      "cell_type": "code",
      "metadata": {
        "id": "w1uFS1UbAm0O"
      },
      "source": [
        "def couples(bride, groom) :\n",
        "    return [x for x in zip(bride, groom)]"
      ],
      "execution_count": null,
      "outputs": []
    },
    {
      "cell_type": "code",
      "metadata": {
        "id": "j8cIbBI0Am0R",
        "colab": {
          "base_uri": "https://localhost:8080/"
        },
        "outputId": "224f75da-f881-4613-86a4-0b0dd72676d4"
      },
      "source": [
        "couples(**dict_couple)"
      ],
      "execution_count": null,
      "outputs": [
        {
          "output_type": "execute_result",
          "data": {
            "text/plain": [
              "[('mary', 'rye'), ('bella', 'fred'), ('linda', 'roland')]"
            ]
          },
          "metadata": {
            "tags": []
          },
          "execution_count": 43
        }
      ]
    },
    {
      "cell_type": "code",
      "metadata": {
        "id": "_9j7X0SrAm0S"
      },
      "source": [
        "def meaner(ahmed, joseph, linda) :\n",
        "    average = (ahmed + joseph + linda) / 3\n",
        "    print(\"The average of their ages is :\", average)"
      ],
      "execution_count": null,
      "outputs": []
    },
    {
      "cell_type": "code",
      "metadata": {
        "id": "ysGty1JkAm0S"
      },
      "source": [
        "friends = {\"ahmed\" : 44, \"joseph\" : 39, \"linda\" : 55}"
      ],
      "execution_count": null,
      "outputs": []
    },
    {
      "cell_type": "code",
      "metadata": {
        "id": "C3TpkKkgAm0S",
        "colab": {
          "base_uri": "https://localhost:8080/"
        },
        "outputId": "bfbb3a8c-1b5f-4c75-9d2a-08cf73477661"
      },
      "source": [
        "friends[\"ahmed\"]"
      ],
      "execution_count": null,
      "outputs": [
        {
          "output_type": "execute_result",
          "data": {
            "text/plain": [
              "44"
            ]
          },
          "metadata": {
            "tags": []
          },
          "execution_count": 76
        }
      ]
    },
    {
      "cell_type": "code",
      "metadata": {
        "id": "vmR1IoQ4Am0T",
        "colab": {
          "base_uri": "https://localhost:8080/"
        },
        "outputId": "6b2581ca-5543-4caf-a97b-931aa008abf3"
      },
      "source": [
        "meaner(**friends)"
      ],
      "execution_count": null,
      "outputs": [
        {
          "output_type": "stream",
          "text": [
            "The average of their ages is : 46.0\n"
          ],
          "name": "stdout"
        }
      ]
    },
    {
      "cell_type": "code",
      "metadata": {
        "id": "r5Grn7g3Am0T",
        "colab": {
          "base_uri": "https://localhost:8080/"
        },
        "outputId": "345e7887-846c-432e-e0df-20286d7972f4"
      },
      "source": [
        "meaner(44, 39, 55)"
      ],
      "execution_count": null,
      "outputs": [
        {
          "output_type": "stream",
          "text": [
            "The average of their ages is : 46.0\n"
          ],
          "name": "stdout"
        }
      ]
    },
    {
      "cell_type": "code",
      "metadata": {
        "id": "ZY9jKQwIAm0U"
      },
      "source": [
        "# \"()\" --> True"
      ],
      "execution_count": null,
      "outputs": []
    },
    {
      "cell_type": "markdown",
      "metadata": {
        "id": "EQZV98rPAm0U"
      },
      "source": [
        "```\n",
        "Input        Output\n",
        "--------:    ------:\n",
        "\"()\"         True\n",
        "\"()[]{}\"     True\n",
        "\"(]\"         False\n",
        "\"([)]\"       False\n",
        "\"{[]}\"       True\n",
        "\"\"           True\n",
        "```"
      ]
    },
    {
      "cell_type": "code",
      "metadata": {
        "id": "rsJdowQRAm0U"
      },
      "source": [
        "x = \"([)]([)]\""
      ],
      "execution_count": null,
      "outputs": []
    },
    {
      "cell_type": "code",
      "metadata": {
        "id": "gooDtjbiAm0V"
      },
      "source": [
        "def isValid(s):\n",
        "    while \"()\" in s or \"{}\" in s or \"[]\" in s:\n",
        "        s = s.replace(\"()\", \"\").replace(\"[]\", \"\").replace(\"{}\", \"\")\n",
        "    return s == \"\""
      ],
      "execution_count": null,
      "outputs": []
    },
    {
      "cell_type": "code",
      "metadata": {
        "id": "l2g5pwM2Am0V",
        "colab": {
          "base_uri": "https://localhost:8080/"
        },
        "outputId": "5438c89b-f304-411d-e162-d4b5a1bd98ee"
      },
      "source": [
        "isValid(x)"
      ],
      "execution_count": null,
      "outputs": [
        {
          "output_type": "execute_result",
          "data": {
            "text/plain": [
              "False"
            ]
          },
          "metadata": {
            "tags": []
          },
          "execution_count": 47
        }
      ]
    },
    {
      "cell_type": "code",
      "metadata": {
        "id": "G1aS02wpAm0W"
      },
      "source": [
        "x = \"{()[{}]}\""
      ],
      "execution_count": null,
      "outputs": []
    },
    {
      "cell_type": "code",
      "metadata": {
        "id": "J9w0YJq2Am0W",
        "colab": {
          "base_uri": "https://localhost:8080/"
        },
        "outputId": "e3c81d9f-c157-49d5-9a28-f42f5475840b"
      },
      "source": [
        "isValid(x)"
      ],
      "execution_count": null,
      "outputs": [
        {
          "output_type": "execute_result",
          "data": {
            "text/plain": [
              "True"
            ]
          },
          "metadata": {
            "tags": []
          },
          "execution_count": 49
        }
      ]
    },
    {
      "cell_type": "markdown",
      "metadata": {
        "id": "X5x3HGc0BcOW"
      },
      "source": [
        "LAMBDA FONKSİYONU"
      ]
    },
    {
      "cell_type": "code",
      "metadata": {
        "id": "fatXUZFvBjjM"
      },
      "source": [
        "# mahallinde kulllanıp atıyoruz, bir daha çağırmıyoruz.\n",
        "# anonim fonksiyon olarak bilinir.\n",
        "# syntax is : lambda parameters : expression(body)\n",
        "# örnek: lambda x: x**2\n",
        "# lambda fonksiyonu virgüllerle ayrılmak koşuluyla birden çok argument alabilir: lambda x, y: (x+y)/2  # takes two numbers, returns the result\n",
        "#  ancak sadece bir expression alabilir.\n",
        "# return ile birlikte kullanılmamalıdır.\n",
        "#"
      ],
      "execution_count": null,
      "outputs": []
    },
    {
      "cell_type": "code",
      "metadata": {
        "id": "nSyABr8aPPtm"
      },
      "source": [
        "lambda x: 'odd' if x % 2 != 0 else 'even' # lambda parameters : first_result if conditional statement else second_result"
      ],
      "execution_count": null,
      "outputs": []
    },
    {
      "cell_type": "code",
      "metadata": {
        "id": "1-KeWuHTXkxJ"
      },
      "source": [
        "# You can use it with its own syntax using parentheses,\n",
        "# You can also assign it to a variable,\n",
        "# You can use it in several built-in functions,\n",
        "# It can be useful inside user-defined functions (def)."
      ],
      "execution_count": null,
      "outputs": []
    },
    {
      "cell_type": "code",
      "metadata": {
        "id": "BZ1o4V22Am0X",
        "colab": {
          "base_uri": "https://localhost:8080/",
          "height": 35
        },
        "outputId": "0a58a64c-a1d1-4365-de7e-164f7e0502c4"
      },
      "source": [
        "(lambda x : \"odd\" if x%2 else \"even\")(3)"
      ],
      "execution_count": null,
      "outputs": [
        {
          "output_type": "execute_result",
          "data": {
            "application/vnd.google.colaboratory.intrinsic+json": {
              "type": "string"
            },
            "text/plain": [
              "'odd'"
            ]
          },
          "metadata": {
            "tags": []
          },
          "execution_count": 50
        }
      ]
    },
    {
      "cell_type": "code",
      "metadata": {
        "id": "7uNx4o3lAm0X",
        "colab": {
          "base_uri": "https://localhost:8080/",
          "height": 35
        },
        "outputId": "37aac9bc-4c54-4183-d6cd-9b027c67680b"
      },
      "source": [
        "(lambda x : \"odd\" if x%2 else \"even\")(10)"
      ],
      "execution_count": null,
      "outputs": [
        {
          "output_type": "execute_result",
          "data": {
            "application/vnd.google.colaboratory.intrinsic+json": {
              "type": "string"
            },
            "text/plain": [
              "'even'"
            ]
          },
          "metadata": {
            "tags": []
          },
          "execution_count": 51
        }
      ]
    },
    {
      "cell_type": "code",
      "metadata": {
        "id": "3u7lIdHmAm0Y",
        "colab": {
          "base_uri": "https://localhost:8080/"
        },
        "outputId": "de35866d-ecca-4fbf-9121-8a89c115c849"
      },
      "source": [
        "print((lambda x : \"odd\" if x%2 else \"even\")(10))"
      ],
      "execution_count": null,
      "outputs": [
        {
          "output_type": "stream",
          "text": [
            "even\n"
          ],
          "name": "stdout"
        }
      ]
    },
    {
      "cell_type": "code",
      "metadata": {
        "id": "3Y7znKCOAm0Y"
      },
      "source": [
        "average = (lambda a, b : a**2 + b**2)(3, 5)"
      ],
      "execution_count": null,
      "outputs": []
    },
    {
      "cell_type": "code",
      "metadata": {
        "id": "gmgpcNvrAm0Z",
        "colab": {
          "base_uri": "https://localhost:8080/"
        },
        "outputId": "e13ef352-61fb-429d-f4cd-e3d8b5a84548"
      },
      "source": [
        "print(average)"
      ],
      "execution_count": null,
      "outputs": [
        {
          "output_type": "stream",
          "text": [
            "34\n"
          ],
          "name": "stdout"
        }
      ]
    },
    {
      "cell_type": "code",
      "metadata": {
        "id": "9UaEI6kSAm0Z"
      },
      "source": [
        "iterable = \"clarusway\"\n",
        "reverser = (lambda x : x[::-1])(iterable)"
      ],
      "execution_count": null,
      "outputs": []
    },
    {
      "cell_type": "code",
      "metadata": {
        "id": "B2-IDPWlAm0Z",
        "colab": {
          "base_uri": "https://localhost:8080/"
        },
        "outputId": "e91bb6fc-3e40-497a-ec54-64bec956f604"
      },
      "source": [
        "print(reverser)"
      ],
      "execution_count": null,
      "outputs": [
        {
          "output_type": "stream",
          "text": [
            "yawsuralc\n"
          ],
          "name": "stdout"
        }
      ]
    },
    {
      "cell_type": "code",
      "metadata": {
        "id": "B_vWHlMnAm0a",
        "colab": {
          "base_uri": "https://localhost:8080/",
          "height": 35
        },
        "outputId": "01bf45a9-d476-43fa-bde1-0b15b98b8540"
      },
      "source": [
        "iterable[::-1]"
      ],
      "execution_count": null,
      "outputs": [
        {
          "output_type": "execute_result",
          "data": {
            "application/vnd.google.colaboratory.intrinsic+json": {
              "type": "string"
            },
            "text/plain": [
              "'yawsuralc'"
            ]
          },
          "metadata": {
            "tags": []
          },
          "execution_count": 57
        }
      ]
    },
    {
      "cell_type": "code",
      "metadata": {
        "id": "pajYz1iWAm0a",
        "colab": {
          "base_uri": "https://localhost:8080/"
        },
        "outputId": "da540cd2-f2ef-4a68-b574-2f0d89bdf0ea"
      },
      "source": [
        "for i in [1,2,3,4,5,6] :\n",
        "    print(i, \":\", (lambda x : \"odd\" if x%2 != 0 else \"even\")(i))"
      ],
      "execution_count": null,
      "outputs": [
        {
          "output_type": "stream",
          "text": [
            "1 : odd\n",
            "2 : even\n",
            "3 : odd\n",
            "4 : even\n",
            "5 : odd\n",
            "6 : even\n"
          ],
          "name": "stdout"
        }
      ]
    },
    {
      "cell_type": "code",
      "metadata": {
        "id": "DpsxAiG1Am0b"
      },
      "source": [
        "abuzittinefendininsopası = lambda a, b : a**2 + b**2"
      ],
      "execution_count": null,
      "outputs": []
    },
    {
      "cell_type": "code",
      "metadata": {
        "id": "Iup912e6Am0b",
        "colab": {
          "base_uri": "https://localhost:8080/"
        },
        "outputId": "11f435b1-0052-4453-87c8-60a9eaf3a647"
      },
      "source": [
        "abuzittinefendininsopası(3,5)"
      ],
      "execution_count": null,
      "outputs": [
        {
          "output_type": "execute_result",
          "data": {
            "text/plain": [
              "34"
            ]
          },
          "metadata": {
            "tags": []
          },
          "execution_count": 61
        }
      ]
    },
    {
      "cell_type": "code",
      "metadata": {
        "id": "5qPxpNvxAm0b"
      },
      "source": [
        "iterable = [1,2,3,4,5]"
      ],
      "execution_count": null,
      "outputs": []
    },
    {
      "cell_type": "markdown",
      "metadata": {
        "id": "nZ6WyTi-f29L"
      },
      "source": [
        "map() fonksiyonu"
      ]
    },
    {
      "cell_type": "code",
      "metadata": {
        "id": "XWN2TqkFf06W"
      },
      "source": [
        "# her iterable'ı fonksiyonla yine itarable olarak döndürür.\n",
        "# The basic formula syntax is : map(function, iterable)\n",
        "# yani map() içine hangi fonksiyonu yazarsak o fonksiyonu map() içindeki iterable'ın elemanlarına teker teker o kadar tatbik eder\n",
        "#"
      ],
      "execution_count": null,
      "outputs": []
    },
    {
      "cell_type": "code",
      "metadata": {
        "colab": {
          "base_uri": "https://localhost:8080/"
        },
        "id": "yKeToTQRIb7k",
        "outputId": "e1aaae09-129b-4a05-aa99-61e1ca4013e1"
      },
      "source": [
        "iterable = [1, 2, 3, 4, 5]\n",
        "map(lambda x:x**2, iterable)\n",
        "result = map(lambda x:x**2, iterable)\n",
        "print(type(result))  # it's a map type\n",
        "\n",
        "print(list(result))  # we've converted it to list type to print\n",
        "\n",
        "print(list(map(lambda x:x**2, iterable)))  # you can print directly"
      ],
      "execution_count": null,
      "outputs": [
        {
          "output_type": "stream",
          "text": [
            "<class 'map'>\n",
            "[1, 4, 9, 16, 25]\n",
            "[1, 4, 9, 16, 25]\n"
          ],
          "name": "stdout"
        }
      ]
    },
    {
      "cell_type": "code",
      "metadata": {
        "id": "_SJ6JFZgAm0c"
      },
      "source": [
        "result = map(lambda x : x **2, iterable)"
      ],
      "execution_count": null,
      "outputs": []
    },
    {
      "cell_type": "code",
      "metadata": {
        "id": "XnbHYegcAm0c",
        "colab": {
          "base_uri": "https://localhost:8080/"
        },
        "outputId": "33825b64-02d3-4c1a-fc6f-29759cc84e4c"
      },
      "source": [
        "print(result)"
      ],
      "execution_count": null,
      "outputs": [
        {
          "output_type": "stream",
          "text": [
            "<map object at 0x7f5a7d215d50>\n"
          ],
          "name": "stdout"
        }
      ]
    },
    {
      "cell_type": "code",
      "metadata": {
        "id": "hmvAaXKMAm0c",
        "colab": {
          "base_uri": "https://localhost:8080/"
        },
        "outputId": "0f37c33e-b380-4d11-8282-b30039766a3f"
      },
      "source": [
        "print(*result)"
      ],
      "execution_count": null,
      "outputs": [
        {
          "output_type": "stream",
          "text": [
            "1 4 9 16 25\n"
          ],
          "name": "stdout"
        }
      ]
    },
    {
      "cell_type": "code",
      "metadata": {
        "id": "850M2cGQAm0d",
        "colab": {
          "base_uri": "https://localhost:8080/"
        },
        "outputId": "bb525862-1f95-4a7b-849d-7d154a6dbf7b"
      },
      "source": [
        "for i in result :\n",
        "    print(i)"
      ],
      "execution_count": null,
      "outputs": [
        {
          "output_type": "stream",
          "text": [
            "1\n",
            "4\n",
            "9\n",
            "16\n",
            "25\n"
          ],
          "name": "stdout"
        }
      ]
    },
    {
      "cell_type": "code",
      "metadata": {
        "id": "-Ud2D9PjAm0d"
      },
      "source": [
        "def karesinial(x) :\n",
        "    return x ** 2"
      ],
      "execution_count": null,
      "outputs": []
    },
    {
      "cell_type": "code",
      "metadata": {
        "id": "uRybhlQMAm0d"
      },
      "source": [
        "result = map(karesinial, iterable)"
      ],
      "execution_count": null,
      "outputs": []
    },
    {
      "cell_type": "code",
      "metadata": {
        "id": "LTJKDnDxAm0e",
        "colab": {
          "base_uri": "https://localhost:8080/"
        },
        "outputId": "03e4e561-f3c9-45d5-d033-4caa53dd9c14"
      },
      "source": [
        "print(*result)"
      ],
      "execution_count": null,
      "outputs": [
        {
          "output_type": "stream",
          "text": [
            "1 4 9 16 25\n"
          ],
          "name": "stdout"
        }
      ]
    },
    {
      "cell_type": "code",
      "metadata": {
        "id": "DoFzyJtYAm0e"
      },
      "source": [
        "iterable_2 = [\"ahmet\", \"mehmet ve kuzeni\", \"cemilin bacısı\"]"
      ],
      "execution_count": null,
      "outputs": []
    },
    {
      "cell_type": "code",
      "metadata": {
        "id": "9foa4O4KAm0f"
      },
      "source": [
        "result_2 = map(len, iterable_2)"
      ],
      "execution_count": null,
      "outputs": []
    },
    {
      "cell_type": "code",
      "metadata": {
        "id": "qj6wEMxVAm0f",
        "colab": {
          "base_uri": "https://localhost:8080/"
        },
        "outputId": "ea8d3bd9-b0c8-436c-e256-ee6b0b014eb2"
      },
      "source": [
        "print(*result_2)"
      ],
      "execution_count": null,
      "outputs": [
        {
          "output_type": "stream",
          "text": [
            "5 16 14\n"
          ],
          "name": "stdout"
        }
      ]
    },
    {
      "cell_type": "code",
      "metadata": {
        "colab": {
          "base_uri": "https://localhost:8080/"
        },
        "id": "JkCGIPtAL_3Q",
        "outputId": "c0c085a2-d9c7-465c-a76e-3db92ef370cf"
      },
      "source": [
        "letter1 = ['o', 's', 't', 't']  #\n",
        "letter2 = ['n', 'i', 'e', 'w']\n",
        "letter3 = ['e', 'x', 'n', 'o']\n",
        "numbers = map(lambda x, y, z: x+y+z, letter1, letter2, letter3)\n",
        "\n",
        "print(list(numbers))"
      ],
      "execution_count": null,
      "outputs": [
        {
          "output_type": "stream",
          "text": [
            "['one', 'six', 'ten', 'two']\n"
          ],
          "name": "stdout"
        }
      ]
    },
    {
      "cell_type": "code",
      "metadata": {
        "id": "90iAnpGQAm0g"
      },
      "source": [
        "letter1 = [\"a\", \"b\", \"c\"]\n",
        "letter2 = [\"x\", \"y\", \"z\"]"
      ],
      "execution_count": null,
      "outputs": []
    },
    {
      "cell_type": "code",
      "metadata": {
        "id": "VhpoPv0UAm0g"
      },
      "source": [
        "yapıştır = map(zip, letter1,letter2)"
      ],
      "execution_count": null,
      "outputs": []
    },
    {
      "cell_type": "code",
      "metadata": {
        "id": "GsgsOtP-Am0h",
        "colab": {
          "base_uri": "https://localhost:8080/"
        },
        "outputId": "cc70e4e0-48e2-440d-b90e-3a5962ef557f"
      },
      "source": [
        "for i in yapıştır:\n",
        "    for j in i:\n",
        "        print(j)"
      ],
      "execution_count": null,
      "outputs": [
        {
          "output_type": "stream",
          "text": [
            "('a', 'x')\n",
            "('b', 'y')\n",
            "('c', 'z')\n"
          ],
          "name": "stdout"
        }
      ]
    },
    {
      "cell_type": "code",
      "metadata": {
        "colab": {
          "base_uri": "https://localhost:8080/"
        },
        "id": "yZNHJzqlAm0h",
        "outputId": "d47d6e88-b2e3-4577-c273-875f6c88ece5"
      },
      "source": [
        "def make_sentence(**kwargs):\n",
        "    result = \"\"\n",
        "    # Iterating over the Python kwargs dictionary\n",
        "    for i in kwargs.values():\n",
        "        result += i\n",
        "    return result\n",
        "\n",
        "print(make_sentence(a=\"I \", b=\"love \", c=\"Clarusway!\"))"
      ],
      "execution_count": null,
      "outputs": [
        {
          "output_type": "stream",
          "text": [
            "I love Clarusway!\n"
          ],
          "name": "stdout"
        }
      ]
    },
    {
      "cell_type": "code",
      "metadata": {
        "id": "DnDn6KWeu30k"
      },
      "source": [],
      "execution_count": null,
      "outputs": []
    },
    {
      "cell_type": "code",
      "metadata": {
        "id": "yPgrMqHZRlG6",
        "outputId": "17dc5102-5e53-477a-ab5f-71078f57a1f6"
      },
      "source": [
        "(lambda x, y : (x+y)/2)(5,3)"
      ],
      "execution_count": null,
      "outputs": [
        {
          "output_type": "execute_result",
          "data": {
            "text/plain": [
              "4.0"
            ]
          },
          "metadata": {
            "tags": []
          },
          "execution_count": 1
        }
      ]
    },
    {
      "cell_type": "code",
      "metadata": {
        "id": "HanmhR84RlHa"
      },
      "source": [
        "num1 = [9, 6, 7, 4]\n",
        "num2 = [3, 6, 5, 8]"
      ],
      "execution_count": null,
      "outputs": []
    },
    {
      "cell_type": "code",
      "metadata": {
        "id": "03VjIdOJRlHd"
      },
      "source": [
        "numbers = map(lambda x, y : (x+y)/2, num1, num2)"
      ],
      "execution_count": null,
      "outputs": []
    },
    {
      "cell_type": "code",
      "metadata": {
        "id": "okzFRwYZRlHf",
        "outputId": "6db2bccf-a325-4829-fb66-28af457c59c5"
      },
      "source": [
        "print(* numbers)"
      ],
      "execution_count": null,
      "outputs": [
        {
          "output_type": "stream",
          "text": [
            "6.0 6.0 6.0 6.0\n"
          ],
          "name": "stdout"
        }
      ]
    },
    {
      "cell_type": "code",
      "metadata": {
        "id": "DH4TvtnFRlHh"
      },
      "source": [
        "words1=[\"you\", \"much\", \"hard\"]\n",
        "words2=[\"i\", \"you\", \"he\"]\n",
        "words3=[\"love\", \"ate\", \"works\"]"
      ],
      "execution_count": null,
      "outputs": []
    },
    {
      "cell_type": "code",
      "metadata": {
        "id": "0AJ-VN_xRlHi"
      },
      "source": [
        "sentence = map(lambda x, y, z : x + \" \" + y + \" \" + z, words2, words3, words1)"
      ],
      "execution_count": null,
      "outputs": []
    },
    {
      "cell_type": "code",
      "metadata": {
        "id": "25JSUgaURlHk",
        "outputId": "ee9fe14a-5b75-479f-b109-3f6bf101a545"
      },
      "source": [
        "for i in map(lambda x, y, z : x + \" \" + y + \" \" + z, words2, words3, words1) :\n",
        "    print(i)"
      ],
      "execution_count": null,
      "outputs": [
        {
          "output_type": "stream",
          "text": [
            "i love you\n",
            "you ate much\n",
            "he works hard\n"
          ],
          "name": "stdout"
        }
      ]
    },
    {
      "cell_type": "code",
      "metadata": {
        "id": "iuG_WExDRlHl",
        "outputId": "85d03327-0ce2-4675-e6d8-dafc52fe0eec"
      },
      "source": [
        "for i in sentence :\n",
        "    print(i)"
      ],
      "execution_count": null,
      "outputs": [
        {
          "output_type": "stream",
          "text": [
            "i love you\n",
            "you ate much\n",
            "he works hard\n"
          ],
          "name": "stdout"
        }
      ]
    },
    {
      "cell_type": "markdown",
      "metadata": {
        "id": "PuaBJnR7VIqH"
      },
      "source": [
        "filter( ) FONKSİYONU"
      ]
    },
    {
      "cell_type": "code",
      "metadata": {
        "id": "hwFfjQStVH70"
      },
      "source": [
        "# The basic formula syntax is : filter(function, sequence)\n",
        "# filter fonksiyonu da fonksiyon ve iterable alır.\n",
        "# Fonksiyonu iterable'ın elemanlarına teker teker uygular ve fonksiyon True olursa elemanı döndürür, False olursa elemanı döndürmez.\n",
        "#"
      ],
      "execution_count": null,
      "outputs": []
    },
    {
      "cell_type": "code",
      "metadata": {
        "colab": {
          "base_uri": "https://localhost:8080/"
        },
        "id": "BLrWVC1YWC_O",
        "outputId": "644cd98e-5120-4b3a-c576-06b51612c3e2"
      },
      "source": [
        "first_ten = [0, 1, 2, 3, 4, 5, 6, 7, 8, 9]\n",
        "\n",
        "even = filter(lambda x:x%2==0, first_ten)\n",
        "print(type(even))  # it's 'filter' type,\n",
        "                   # in order to print the result,\n",
        "                   # we'd better convert it into the list type\n",
        "\n",
        "print('Even numbers are :', list(even))"
      ],
      "execution_count": null,
      "outputs": [
        {
          "output_type": "stream",
          "text": [
            "<class 'filter'>\n",
            "Even numbers are : [0, 2, 4, 6, 8]\n"
          ],
          "name": "stdout"
        }
      ]
    },
    {
      "cell_type": "code",
      "metadata": {
        "colab": {
          "base_uri": "https://localhost:8080/"
        },
        "id": "UjWDrdw7WboG",
        "outputId": "61ee30d9-bc10-450b-9b5c-30f828b3ea45"
      },
      "source": [
        "vowel_list = ['a', 'e', 'i', 'o', 'u']\n",
        "first_ten = ['a', 'b', 'c', 'd', 'e', 'f', 'g', 'h', 'i', 'j']\n",
        "\n",
        "vowels = filter(lambda x: True if x in vowel_list else False, first_ten)\n",
        "\n",
        "print('Vowels are :', list(vowels))"
      ],
      "execution_count": null,
      "outputs": [
        {
          "output_type": "stream",
          "text": [
            "Vowels are : ['a', 'e', 'i']\n"
          ],
          "name": "stdout"
        }
      ]
    },
    {
      "cell_type": "code",
      "metadata": {
        "id": "jRuOmOkTRlHn"
      },
      "source": [
        "# ==\n",
        "# <\n",
        "# >\n",
        "# !=\n",
        "# in\n",
        "# not"
      ],
      "execution_count": null,
      "outputs": []
    },
    {
      "cell_type": "code",
      "metadata": {
        "id": "wcNzQD1rRlHp"
      },
      "source": [
        "words = ['apple', 'swim', \"clock\", \"me\", \"kiwi\", \"banana\"]"
      ],
      "execution_count": null,
      "outputs": []
    },
    {
      "cell_type": "code",
      "metadata": {
        "id": "-Zy-lZ-nRlHq",
        "outputId": "8ab79858-8c74-4ddd-8e78-ccbaefe25d12"
      },
      "source": [
        "for i in filter(lambda x : len(x) < 5, words) :\n",
        "    print(i)"
      ],
      "execution_count": null,
      "outputs": [
        {
          "output_type": "stream",
          "text": [
            "swim\n",
            "me\n",
            "kiwi\n"
          ],
          "name": "stdout"
        }
      ]
    },
    {
      "cell_type": "code",
      "metadata": {
        "id": "CV_XhKCqRlHs",
        "outputId": "16988e49-1cec-4e0d-8790-920aba967102"
      },
      "source": [
        "\"a\" in [\"a\", \"b\", \"x\"]"
      ],
      "execution_count": null,
      "outputs": [
        {
          "output_type": "execute_result",
          "data": {
            "text/plain": [
              "True"
            ]
          },
          "metadata": {
            "tags": []
          },
          "execution_count": 13
        }
      ]
    },
    {
      "cell_type": "code",
      "metadata": {
        "colab": {
          "base_uri": "https://localhost:8080/"
        },
        "id": "KceZtc5wZiuM",
        "outputId": "a16b360b-5653-49d5-81b6-4d8c68dd9711"
      },
      "source": [
        "def modular_function(n):\n",
        "    return lambda x: x ** n\n",
        "\n",
        "power_of_2 = modular_function(2)  # first sub-function derived from def\n",
        "power_of_3 = modular_function(3)  # second sub-function derived from def\n",
        "power_of_4 = modular_function(4)  # third sub-function derived from def\n",
        "\n",
        "print(power_of_2(2))  # 2 to the power of 2\n",
        "print(power_of_3(2))  # 2 to the power of 3\n",
        "print(power_of_4(2))  # 2 to the power of 4"
      ],
      "execution_count": null,
      "outputs": [
        {
          "output_type": "stream",
          "text": [
            "4\n",
            "8\n",
            "16\n"
          ],
          "name": "stdout"
        }
      ]
    },
    {
      "cell_type": "code",
      "metadata": {
        "id": "VPkCwJv4RlHu"
      },
      "source": [
        "def modular(n) :\n",
        "    return n**2"
      ],
      "execution_count": null,
      "outputs": []
    },
    {
      "cell_type": "code",
      "metadata": {
        "id": "EhiCvC6URlHv",
        "outputId": "8528aa43-fb4e-4453-8034-df510ca6fe2e"
      },
      "source": [
        "lambda x : x ** 5"
      ],
      "execution_count": null,
      "outputs": [
        {
          "output_type": "execute_result",
          "data": {
            "text/plain": [
              "<function __main__.<lambda>(x)>"
            ]
          },
          "metadata": {
            "tags": []
          },
          "execution_count": 5
        }
      ]
    },
    {
      "cell_type": "code",
      "metadata": {
        "id": "iW6zIBAxRlHw"
      },
      "source": [
        "üzeribeş = lambda x : x ** 5"
      ],
      "execution_count": null,
      "outputs": []
    },
    {
      "cell_type": "code",
      "metadata": {
        "id": "-lB9h9dgRlHx",
        "outputId": "a709d5c2-4ebe-464e-9951-f02a47ca301d"
      },
      "source": [
        "üzeribeş(2)"
      ],
      "execution_count": null,
      "outputs": [
        {
          "output_type": "execute_result",
          "data": {
            "text/plain": [
              "32"
            ]
          },
          "metadata": {
            "tags": []
          },
          "execution_count": 7
        }
      ]
    },
    {
      "cell_type": "code",
      "metadata": {
        "id": "iN8j9eJbRlHy"
      },
      "source": [
        "def modular_function(n):\n",
        "    return lambda x: x ** n"
      ],
      "execution_count": null,
      "outputs": []
    },
    {
      "cell_type": "code",
      "metadata": {
        "id": "l8LSHAvKRlHz"
      },
      "source": [
        "karesinial = modular_function(2)"
      ],
      "execution_count": null,
      "outputs": []
    },
    {
      "cell_type": "code",
      "metadata": {
        "id": "VPwuH4mDRlH0",
        "outputId": "db80806f-4ec3-4d75-cb56-1f6dd68c4a9c"
      },
      "source": [
        "karesinial(4)"
      ],
      "execution_count": null,
      "outputs": [
        {
          "output_type": "execute_result",
          "data": {
            "text/plain": [
              "16"
            ]
          },
          "metadata": {
            "tags": []
          },
          "execution_count": 9
        }
      ]
    },
    {
      "cell_type": "code",
      "metadata": {
        "id": "LeuepUHBRlH2"
      },
      "source": [
        "küpünüal = modular_function(3)"
      ],
      "execution_count": null,
      "outputs": []
    },
    {
      "cell_type": "code",
      "metadata": {
        "id": "ARybhb-_RlH3",
        "outputId": "a48f86a8-8fa0-415f-8549-b05c400a1731"
      },
      "source": [
        "küpünüal(2)"
      ],
      "execution_count": null,
      "outputs": [
        {
          "output_type": "execute_result",
          "data": {
            "text/plain": [
              "8"
            ]
          },
          "metadata": {
            "tags": []
          },
          "execution_count": 11
        }
      ]
    },
    {
      "cell_type": "code",
      "metadata": {
        "id": "syDf9XGhRlH4",
        "outputId": "9a592bd9-21d7-4aea-ff64-fa331972f645"
      },
      "source": [
        "power_of_2 = modular_function(2)  # first sub-function derived from def\n",
        "power_of_3 = modular_function(3)  # second sub-function derived from def\n",
        "power_of_4 = modular_function(4)  # third sub-function derived from def\n",
        "print(power_of_2(2))  # 2 to the power of 2\n",
        "print(power_of_3(2))  # 2 to the power of 3\n",
        "print(power_of_4(2))  # 2 to the power of 4"
      ],
      "execution_count": null,
      "outputs": [
        {
          "output_type": "stream",
          "text": [
            "4\n",
            "8\n",
            "16\n"
          ],
          "name": "stdout"
        }
      ]
    },
    {
      "cell_type": "code",
      "metadata": {
        "colab": {
          "base_uri": "https://localhost:8080/"
        },
        "id": "EC-hoDlndl5g",
        "outputId": "fc57cba1-e3b2-461e-aa00-77ccd05c13fc"
      },
      "source": [
        "def repeater(n):\n",
        "    return lambda x: x * n\n",
        "\n",
        "repeat_2_times = repeater(2)  # repeats 2 times\n",
        "repeat_3_times = repeater(3)  # repeats 3 times\n",
        "repeat_4_times = repeater(4)  # repeats 4 times\n",
        "\n",
        "print(repeat_2_times('alex '))\n",
        "print(repeat_3_times('lara '))\n",
        "print(repeat_4_times('linda '))"
      ],
      "execution_count": null,
      "outputs": [
        {
          "output_type": "stream",
          "text": [
            "alex alex \n",
            "lara lara lara \n",
            "linda linda linda linda \n"
          ],
          "name": "stdout"
        }
      ]
    },
    {
      "cell_type": "code",
      "metadata": {
        "id": "_OYuXiEzRlH6",
        "outputId": "7435e652-d568-4ffb-e900-8de55c466439"
      },
      "source": [
        "\"alex\" * 3"
      ],
      "execution_count": null,
      "outputs": [
        {
          "output_type": "execute_result",
          "data": {
            "text/plain": [
              "'alexalexalex'"
            ]
          },
          "metadata": {
            "tags": []
          },
          "execution_count": 12
        }
      ]
    },
    {
      "cell_type": "code",
      "metadata": {
        "id": "tG8zjNfmRlH7"
      },
      "source": [
        "tekrarlayıcı4 = lambda x : x * 4"
      ],
      "execution_count": null,
      "outputs": []
    },
    {
      "cell_type": "code",
      "metadata": {
        "id": "egvcM_XxRlH8",
        "outputId": "2710c7f2-70fe-4232-9a6e-f6b380de69e5"
      },
      "source": [
        "tekrarlayıcı4(\"lara \")"
      ],
      "execution_count": null,
      "outputs": [
        {
          "output_type": "execute_result",
          "data": {
            "text/plain": [
              "'lara lara lara lara '"
            ]
          },
          "metadata": {
            "tags": []
          },
          "execution_count": 14
        }
      ]
    },
    {
      "cell_type": "code",
      "metadata": {
        "colab": {
          "base_uri": "https://localhost:8080/",
          "height": 374
        },
        "id": "6PVv7vLEf8tS",
        "outputId": "109caca8-1c7a-4ecc-8efb-074703dbea4b"
      },
      "source": [
        "def functioner(n):\n",
        "    return lambda x: x+n\n",
        "\n",
        "gülenyüz = functioner(\":)\")\n",
        "üzgün = functioner(\":(\")\n",
        "nötr = functioner(\":|\")\n",
        "print(gülenyüz(\"hello \"))\n",
        "print(üzgün(\"hello \"))\n",
        "print(nötr(\"hello\"))"
      ],
      "execution_count": null,
      "outputs": [
        {
          "output_type": "stream",
          "text": [
            "hello \n"
          ],
          "name": "stdout"
        },
        {
          "output_type": "error",
          "ename": "TypeError",
          "evalue": "ignored",
          "traceback": [
            "\u001b[0;31m---------------------------------------------------------------------------\u001b[0m",
            "\u001b[0;31mTypeError\u001b[0m                                 Traceback (most recent call last)",
            "\u001b[0;32m<ipython-input-17-824413f6793c>\u001b[0m in \u001b[0;36m<module>\u001b[0;34m()\u001b[0m\n\u001b[1;32m      5\u001b[0m \u001b[0müzgün\u001b[0m \u001b[0;34m=\u001b[0m \u001b[0mfunctioner\u001b[0m\u001b[0;34m(\u001b[0m\u001b[0;34m\":(\"\u001b[0m\u001b[0;34m)\u001b[0m\u001b[0;34m\u001b[0m\u001b[0;34m\u001b[0m\u001b[0m\n\u001b[1;32m      6\u001b[0m \u001b[0mnötr\u001b[0m \u001b[0;34m=\u001b[0m \u001b[0mfunctioner\u001b[0m\u001b[0;34m(\u001b[0m\u001b[0;34m\":|\"\u001b[0m\u001b[0;34m)\u001b[0m\u001b[0;34m\u001b[0m\u001b[0;34m\u001b[0m\u001b[0m\n\u001b[0;32m----> 7\u001b[0;31m \u001b[0mprint\u001b[0m\u001b[0;34m(\u001b[0m\u001b[0mgülenyüz\u001b[0m\u001b[0;34m(\u001b[0m\u001b[0;34m\"hello \"\u001b[0m\u001b[0;34m)\u001b[0m\u001b[0;34m)\u001b[0m\u001b[0;34m\u001b[0m\u001b[0;34m\u001b[0m\u001b[0m\n\u001b[0m\u001b[1;32m      8\u001b[0m \u001b[0mprint\u001b[0m\u001b[0;34m(\u001b[0m\u001b[0müzgün\u001b[0m\u001b[0;34m(\u001b[0m\u001b[0;34m\"hello \"\u001b[0m\u001b[0;34m)\u001b[0m\u001b[0;34m)\u001b[0m\u001b[0;34m\u001b[0m\u001b[0;34m\u001b[0m\u001b[0m\n\u001b[1;32m      9\u001b[0m \u001b[0mprint\u001b[0m\u001b[0;34m(\u001b[0m\u001b[0mnötr\u001b[0m\u001b[0;34m(\u001b[0m\u001b[0;34m\"hello\"\u001b[0m\u001b[0;34m)\u001b[0m\u001b[0;34m)\u001b[0m\u001b[0;34m\u001b[0m\u001b[0;34m\u001b[0m\u001b[0m\n",
            "\u001b[0;32m<ipython-input-17-824413f6793c>\u001b[0m in \u001b[0;36m<lambda>\u001b[0;34m(x)\u001b[0m\n\u001b[1;32m      1\u001b[0m \u001b[0;32mdef\u001b[0m \u001b[0mfunctioner\u001b[0m\u001b[0;34m(\u001b[0m\u001b[0mn\u001b[0m\u001b[0;34m)\u001b[0m\u001b[0;34m:\u001b[0m\u001b[0;34m\u001b[0m\u001b[0;34m\u001b[0m\u001b[0m\n\u001b[0;32m----> 2\u001b[0;31m     \u001b[0;32mreturn\u001b[0m \u001b[0;32mlambda\u001b[0m \u001b[0mx\u001b[0m\u001b[0;34m:\u001b[0m \u001b[0mprint\u001b[0m\u001b[0;34m(\u001b[0m\u001b[0mx\u001b[0m\u001b[0;34m)\u001b[0m\u001b[0;34m+\u001b[0m\u001b[0mn\u001b[0m\u001b[0;34m\u001b[0m\u001b[0;34m\u001b[0m\u001b[0m\n\u001b[0m\u001b[1;32m      3\u001b[0m \u001b[0;34m\u001b[0m\u001b[0m\n\u001b[1;32m      4\u001b[0m \u001b[0mgülenyüz\u001b[0m \u001b[0;34m=\u001b[0m \u001b[0mfunctioner\u001b[0m\u001b[0;34m(\u001b[0m\u001b[0;34m\":)\"\u001b[0m\u001b[0;34m)\u001b[0m\u001b[0;34m\u001b[0m\u001b[0;34m\u001b[0m\u001b[0m\n\u001b[1;32m      5\u001b[0m \u001b[0müzgün\u001b[0m \u001b[0;34m=\u001b[0m \u001b[0mfunctioner\u001b[0m\u001b[0;34m(\u001b[0m\u001b[0;34m\":(\"\u001b[0m\u001b[0;34m)\u001b[0m\u001b[0;34m\u001b[0m\u001b[0;34m\u001b[0m\u001b[0m\n",
            "\u001b[0;31mTypeError\u001b[0m: unsupported operand type(s) for +: 'NoneType' and 'str'"
          ]
        }
      ]
    },
    {
      "cell_type": "code",
      "metadata": {
        "id": "j11Btxc8RlH9"
      },
      "source": [
        "def functioner(emoji = None) :\n",
        "    return lambda message : print(message, emoji)"
      ],
      "execution_count": null,
      "outputs": []
    },
    {
      "cell_type": "code",
      "metadata": {
        "id": "YT_XcebmRlH9",
        "outputId": "f7c7eea5-72d8-456c-ee62-e8aaea347460"
      },
      "source": [
        "(lambda message : print(message, \":)\"))(66)"
      ],
      "execution_count": null,
      "outputs": [
        {
          "output_type": "stream",
          "text": [
            "66 :)\n"
          ],
          "name": "stdout"
        }
      ]
    },
    {
      "cell_type": "code",
      "metadata": {
        "id": "Sta3dKmXRlH_",
        "outputId": "ef40e35d-c069-4686-c3f2-62d20ae7ff1f"
      },
      "source": [
        "(lambda message : print(message, \":)\"))([66])"
      ],
      "execution_count": null,
      "outputs": [
        {
          "output_type": "stream",
          "text": [
            "[66] :)\n"
          ],
          "name": "stdout"
        }
      ]
    },
    {
      "cell_type": "code",
      "metadata": {
        "id": "OpWeGvDqRlIA"
      },
      "source": [
        "print_smile = functioner(\":)\")"
      ],
      "execution_count": null,
      "outputs": []
    },
    {
      "cell_type": "code",
      "metadata": {
        "id": "LBQJIm6CRlIA",
        "outputId": "a137acc5-5004-4cad-bd5b-0112235a7458"
      },
      "source": [
        "print_smile([66])"
      ],
      "execution_count": null,
      "outputs": [
        {
          "output_type": "stream",
          "text": [
            "[66] :)\n"
          ],
          "name": "stdout"
        }
      ]
    },
    {
      "cell_type": "code",
      "metadata": {
        "id": "Z4pMYMaoRlIB"
      },
      "source": [
        "print_üzgün = functioner(\":(\")"
      ],
      "execution_count": null,
      "outputs": []
    },
    {
      "cell_type": "code",
      "metadata": {
        "id": "b077NK3dRlIC",
        "outputId": "ff405214-9363-420e-9ef3-3d9b0cffaae4"
      },
      "source": [
        "print_üzgün(\"bugünkü dersteki yüz ifadem -->\")"
      ],
      "execution_count": null,
      "outputs": [
        {
          "output_type": "stream",
          "text": [
            "bugünkü dersteki yüz ifadem --> :(\n"
          ],
          "name": "stdout"
        }
      ]
    },
    {
      "cell_type": "code",
      "metadata": {
        "id": "4B23l2g-RlID",
        "outputId": "d30ec36e-7cee-4da9-c00a-82ef081dc433"
      },
      "source": [
        "(lambda x : print(x))(33 + 22)"
      ],
      "execution_count": null,
      "outputs": [
        {
          "output_type": "stream",
          "text": [
            "55\n"
          ],
          "name": "stdout"
        }
      ]
    },
    {
      "cell_type": "code",
      "metadata": {
        "id": "XAGIm_gTRlIE"
      },
      "source": [
        "def func_generator(func_name) :\n",
        "    return lambda x : func_name(x)"
      ],
      "execution_count": null,
      "outputs": []
    },
    {
      "cell_type": "code",
      "metadata": {
        "id": "NXAq3SPzRlIF"
      },
      "source": [
        "# ali_print() --> print()\n",
        "# ali_max() --> max()\n",
        "# ali_bool() --> bool()\n",
        "# ali_sorted() --> sorted()"
      ],
      "execution_count": null,
      "outputs": []
    },
    {
      "cell_type": "code",
      "metadata": {
        "id": "67_xtkZdRlIG"
      },
      "source": [
        "cihat_max = func_generator(max)"
      ],
      "execution_count": null,
      "outputs": []
    },
    {
      "cell_type": "code",
      "metadata": {
        "colab": {
          "base_uri": "https://localhost:8080/"
        },
        "id": "2K7URIDvRlIG",
        "outputId": "fecc05b5-072b-4e4f-f576-7f6665890695"
      },
      "source": [
        "(lambda x : max(x))((1,6,99))"
      ],
      "execution_count": null,
      "outputs": [
        {
          "output_type": "execute_result",
          "data": {
            "text/plain": [
              "99"
            ]
          },
          "metadata": {
            "tags": []
          },
          "execution_count": 24
        }
      ]
    },
    {
      "cell_type": "code",
      "metadata": {
        "id": "kUVNLaDGRlIH"
      },
      "source": [
        "cihat_sorted = func_generator(sorted)"
      ],
      "execution_count": null,
      "outputs": []
    },
    {
      "cell_type": "code",
      "metadata": {
        "colab": {
          "base_uri": "https://localhost:8080/"
        },
        "id": "dSQHp1p6RlII",
        "outputId": "c4be8820-0138-4814-ec05-6bfef2cdf1bb"
      },
      "source": [
        "cihat_sorted([1,6,8,3,1])"
      ],
      "execution_count": null,
      "outputs": [
        {
          "output_type": "execute_result",
          "data": {
            "text/plain": [
              "[1, 1, 3, 6, 8]"
            ]
          },
          "metadata": {
            "tags": []
          },
          "execution_count": 27
        }
      ]
    },
    {
      "cell_type": "code",
      "metadata": {
        "id": "F1UQdvKxRlIJ"
      },
      "source": [
        "cihat_bool = func_generator(bool)"
      ],
      "execution_count": null,
      "outputs": []
    },
    {
      "cell_type": "code",
      "metadata": {
        "colab": {
          "base_uri": "https://localhost:8080/"
        },
        "id": "re0QsbhyRlIK",
        "outputId": "1052010a-e3bb-42af-d204-253c63673bc0"
      },
      "source": [
        "cihat_bool(\"\")  # lambda x : bool(x)"
      ],
      "execution_count": null,
      "outputs": [
        {
          "output_type": "execute_result",
          "data": {
            "text/plain": [
              "False"
            ]
          },
          "metadata": {
            "tags": []
          },
          "execution_count": 29
        }
      ]
    },
    {
      "cell_type": "code",
      "metadata": {
        "colab": {
          "base_uri": "https://localhost:8080/"
        },
        "id": "Dm00y7KsRlIL",
        "outputId": "9c60c52d-6334-4241-957e-c132123bfdcf"
      },
      "source": [
        "def modular_function(n):\n",
        "    return lambda x: x ** n\n",
        "\n",
        "power_of_2 = modular_function(2)  # first sub-function derived from def\n",
        "power_of_3 = modular_function(3)  # second sub-function derived from def\n",
        "power_of_4 = modular_function(4)  # third sub-function derived from def\n",
        "print(power_of_2(2))  # 2 to the power of 2\n",
        "print(power_of_3(2))  # 2 to the power of 3\n",
        "print(power_of_4(2))  # 2 to the power of 4\n",
        "#\n",
        "#\n",
        "#\n",
        "#\n",
        "##\n",
        "#\n",
        "#\n",
        "#\n"
      ],
      "execution_count": null,
      "outputs": [
        {
          "output_type": "stream",
          "text": [
            "4\n",
            "8\n",
            "16\n"
          ],
          "name": "stdout"
        }
      ]
    },
    {
      "cell_type": "markdown",
      "metadata": {
        "id": "--Db1Y9xRlIM"
      },
      "source": [
        "ben buraya metin yazabiliyorum"
      ]
    },
    {
      "cell_type": "code",
      "metadata": {
        "id": "jPOq-hloRlIN"
      },
      "source": [
        "import math"
      ],
      "execution_count": null,
      "outputs": []
    },
    {
      "cell_type": "code",
      "metadata": {
        "colab": {
          "base_uri": "https://localhost:8080/"
        },
        "id": "5Y9RfL4dRlIO",
        "outputId": "aa9f75bd-d023-4611-913d-841f1638eaf2"
      },
      "source": [
        "math.factorial(5)"
      ],
      "execution_count": null,
      "outputs": [
        {
          "output_type": "execute_result",
          "data": {
            "text/plain": [
              "120"
            ]
          },
          "metadata": {
            "tags": []
          },
          "execution_count": 5
        }
      ]
    },
    {
      "cell_type": "code",
      "metadata": {
        "id": "Zfv8JFA5RlIP"
      },
      "source": [
        "import math as matematik"
      ],
      "execution_count": null,
      "outputs": []
    },
    {
      "cell_type": "code",
      "metadata": {
        "id": "h9NbXbX8RlIQ",
        "colab": {
          "base_uri": "https://localhost:8080/"
        },
        "outputId": "eb9a7d61-0841-4493-925d-33a776590a92"
      },
      "source": [
        "matematik.pi"
      ],
      "execution_count": null,
      "outputs": [
        {
          "output_type": "execute_result",
          "data": {
            "text/plain": [
              "3.141592653589793"
            ]
          },
          "metadata": {
            "tags": []
          },
          "execution_count": 12
        }
      ]
    },
    {
      "cell_type": "code",
      "metadata": {
        "id": "1Ay3Y9IIRlIR",
        "outputId": "146b94f7-f018-4678-d4a1-1283f4e3083d"
      },
      "source": [
        "matematik.factorial(5)"
      ],
      "execution_count": null,
      "outputs": [
        {
          "output_type": "execute_result",
          "data": {
            "text/plain": [
              "120"
            ]
          },
          "metadata": {
            "tags": []
          },
          "execution_count": 42
        }
      ]
    },
    {
      "cell_type": "code",
      "metadata": {
        "id": "VdUXjmzVRlIR",
        "colab": {
          "base_uri": "https://localhost:8080/"
        },
        "outputId": "4bc190ce-e0ce-49f9-f2a4-a1da479b40ea"
      },
      "source": [
        "dir(matematik)"
      ],
      "execution_count": null,
      "outputs": [
        {
          "output_type": "execute_result",
          "data": {
            "text/plain": [
              "['__doc__',\n",
              " '__loader__',\n",
              " '__name__',\n",
              " '__package__',\n",
              " '__spec__',\n",
              " 'acos',\n",
              " 'acosh',\n",
              " 'asin',\n",
              " 'asinh',\n",
              " 'atan',\n",
              " 'atan2',\n",
              " 'atanh',\n",
              " 'ceil',\n",
              " 'copysign',\n",
              " 'cos',\n",
              " 'cosh',\n",
              " 'degrees',\n",
              " 'e',\n",
              " 'erf',\n",
              " 'erfc',\n",
              " 'exp',\n",
              " 'expm1',\n",
              " 'fabs',\n",
              " 'factorial',\n",
              " 'floor',\n",
              " 'fmod',\n",
              " 'frexp',\n",
              " 'fsum',\n",
              " 'gamma',\n",
              " 'gcd',\n",
              " 'hypot',\n",
              " 'inf',\n",
              " 'isclose',\n",
              " 'isfinite',\n",
              " 'isinf',\n",
              " 'isnan',\n",
              " 'ldexp',\n",
              " 'lgamma',\n",
              " 'log',\n",
              " 'log10',\n",
              " 'log1p',\n",
              " 'log2',\n",
              " 'modf',\n",
              " 'nan',\n",
              " 'pi',\n",
              " 'pow',\n",
              " 'radians',\n",
              " 'remainder',\n",
              " 'sin',\n",
              " 'sinh',\n",
              " 'sqrt',\n",
              " 'tan',\n",
              " 'tanh',\n",
              " 'tau',\n",
              " 'trunc']"
            ]
          },
          "metadata": {
            "tags": []
          },
          "execution_count": 13
        }
      ]
    },
    {
      "cell_type": "code",
      "metadata": {
        "id": "gM8SeQW8RlIS"
      },
      "source": [
        "from math import pi, log10, factorial # sadece lazım olan fonksiyonları import edersek hafızamızda daha az yer kaplar."
      ],
      "execution_count": null,
      "outputs": []
    },
    {
      "cell_type": "code",
      "metadata": {
        "id": "IszHfExURlIT",
        "colab": {
          "base_uri": "https://localhost:8080/"
        },
        "outputId": "dc9bef64-e809-43e9-85a9-b2b52c12b65f"
      },
      "source": [
        "print(pi)"
      ],
      "execution_count": null,
      "outputs": [
        {
          "output_type": "stream",
          "text": [
            "3.141592653589793\n"
          ],
          "name": "stdout"
        }
      ]
    },
    {
      "cell_type": "code",
      "metadata": {
        "id": "cRBCBWwTRlIU",
        "colab": {
          "base_uri": "https://localhost:8080/"
        },
        "outputId": "21eddce0-0fe2-4d5c-bc8e-ade3cd4aecce"
      },
      "source": [
        "print(log10(1000))"
      ],
      "execution_count": null,
      "outputs": [
        {
          "output_type": "stream",
          "text": [
            "3.0\n"
          ],
          "name": "stdout"
        }
      ]
    },
    {
      "cell_type": "code",
      "metadata": {
        "id": "99r2XSBBRlIV",
        "colab": {
          "base_uri": "https://localhost:8080/"
        },
        "outputId": "7f083259-7aa2-40df-e62c-ecc30ea15a2e"
      },
      "source": [
        "print(factorial(4))"
      ],
      "execution_count": null,
      "outputs": [
        {
          "output_type": "stream",
          "text": [
            "24\n"
          ],
          "name": "stdout"
        }
      ]
    },
    {
      "cell_type": "code",
      "metadata": {
        "id": "H3NPB2A_RlIW",
        "colab": {
          "base_uri": "https://localhost:8080/"
        },
        "outputId": "2c8e38c2-f61d-4901-8f86-184363e3a81b"
      },
      "source": [
        "matematik.pi"
      ],
      "execution_count": null,
      "outputs": [
        {
          "output_type": "execute_result",
          "data": {
            "text/plain": [
              "3.141592653589793"
            ]
          },
          "metadata": {
            "tags": []
          },
          "execution_count": 18
        }
      ]
    },
    {
      "cell_type": "code",
      "metadata": {
        "id": "_H4v30piRlIX",
        "colab": {
          "base_uri": "https://localhost:8080/"
        },
        "outputId": "ac7286f3-1498-48a9-a2b7-c4a3c71f1f3c"
      },
      "source": [
        "matematik.factorial(4)"
      ],
      "execution_count": null,
      "outputs": [
        {
          "output_type": "execute_result",
          "data": {
            "text/plain": [
              "24"
            ]
          },
          "metadata": {
            "tags": []
          },
          "execution_count": 19
        }
      ]
    },
    {
      "cell_type": "code",
      "metadata": {
        "id": "aUdXzvFhRlIY"
      },
      "source": [
        "import string"
      ],
      "execution_count": null,
      "outputs": []
    },
    {
      "cell_type": "code",
      "metadata": {
        "id": "EgZCV133RlIY",
        "colab": {
          "base_uri": "https://localhost:8080/",
          "height": 35
        },
        "outputId": "222d56d9-1801-41d9-e0db-ec30f6f43c72"
      },
      "source": [
        "string.punctuation"
      ],
      "execution_count": null,
      "outputs": [
        {
          "output_type": "execute_result",
          "data": {
            "application/vnd.google.colaboratory.intrinsic+json": {
              "type": "string"
            },
            "text/plain": [
              "'!\"#$%&\\'()*+,-./:;<=>?@[\\\\]^_`{|}~'"
            ]
          },
          "metadata": {
            "tags": []
          },
          "execution_count": 21
        }
      ]
    },
    {
      "cell_type": "code",
      "metadata": {
        "id": "PIMA_kgBRlIZ",
        "outputId": "fe602141-9784-4127-e6a8-fb51faa7040d"
      },
      "source": [
        "dir(string)"
      ],
      "execution_count": null,
      "outputs": [
        {
          "output_type": "execute_result",
          "data": {
            "text/plain": [
              "['Formatter',\n",
              " 'Template',\n",
              " '_ChainMap',\n",
              " '_TemplateMetaclass',\n",
              " '__all__',\n",
              " '__builtins__',\n",
              " '__cached__',\n",
              " '__doc__',\n",
              " '__file__',\n",
              " '__loader__',\n",
              " '__name__',\n",
              " '__package__',\n",
              " '__spec__',\n",
              " '_re',\n",
              " '_string',\n",
              " 'ascii_letters',\n",
              " 'ascii_lowercase',\n",
              " 'ascii_uppercase',\n",
              " 'capwords',\n",
              " 'digits',\n",
              " 'hexdigits',\n",
              " 'octdigits',\n",
              " 'printable',\n",
              " 'punctuation',\n",
              " 'whitespace']"
            ]
          },
          "metadata": {
            "tags": []
          },
          "execution_count": 4
        }
      ]
    },
    {
      "cell_type": "code",
      "metadata": {
        "id": "z-rv7vaTRlIa",
        "outputId": "1743571f-754b-4ed1-cf04-b344271e69ba"
      },
      "source": [
        "string.digits"
      ],
      "execution_count": null,
      "outputs": [
        {
          "output_type": "execute_result",
          "data": {
            "text/plain": [
              "'0123456789'"
            ]
          },
          "metadata": {
            "tags": []
          },
          "execution_count": 5
        }
      ]
    },
    {
      "cell_type": "code",
      "metadata": {
        "id": "YWqiSfS1RlIa"
      },
      "source": [
        "import datetime"
      ],
      "execution_count": null,
      "outputs": []
    },
    {
      "cell_type": "code",
      "metadata": {
        "id": "_TTEA6DCRlIb",
        "colab": {
          "base_uri": "https://localhost:8080/"
        },
        "outputId": "290edd97-ab87-4c11-e462-302afbdd02e7"
      },
      "source": [
        "print(datetime.date.today())"
      ],
      "execution_count": null,
      "outputs": [
        {
          "output_type": "stream",
          "text": [
            "2021-05-12\n"
          ],
          "name": "stdout"
        }
      ]
    },
    {
      "cell_type": "code",
      "metadata": {
        "id": "wy0KSsWGRlIb",
        "colab": {
          "base_uri": "https://localhost:8080/"
        },
        "outputId": "b33a13d7-f798-4f50-bebb-e29a2974ec2e"
      },
      "source": [
        "print(datetime.datetime.now())"
      ],
      "execution_count": null,
      "outputs": [
        {
          "output_type": "stream",
          "text": [
            "2021-05-12 12:35:21.478864\n"
          ],
          "name": "stdout"
        }
      ]
    },
    {
      "cell_type": "code",
      "metadata": {
        "id": "I8PP7IarRlIc"
      },
      "source": [
        "from datetime import date"
      ],
      "execution_count": null,
      "outputs": []
    },
    {
      "cell_type": "code",
      "metadata": {
        "id": "VA65SNYmRlId"
      },
      "source": [
        "birt = date(571, 4, 22)"
      ],
      "execution_count": null,
      "outputs": []
    },
    {
      "cell_type": "code",
      "metadata": {
        "id": "UsoWg-8tRlId",
        "colab": {
          "base_uri": "https://localhost:8080/"
        },
        "outputId": "de4b0534-b676-49f6-c476-9b2e7656ac57"
      },
      "source": [
        "print(birt)"
      ],
      "execution_count": null,
      "outputs": [
        {
          "output_type": "stream",
          "text": [
            "0571-04-22\n"
          ],
          "name": "stdout"
        }
      ]
    },
    {
      "cell_type": "code",
      "metadata": {
        "id": "YLFpfLA6RlIe"
      },
      "source": [
        "death = date(632, 6, 8)"
      ],
      "execution_count": null,
      "outputs": []
    },
    {
      "cell_type": "code",
      "metadata": {
        "id": "JCBjCnWyRlIe",
        "colab": {
          "base_uri": "https://localhost:8080/"
        },
        "outputId": "350a114c-de41-4292-dfb5-c1391e95b776"
      },
      "source": [
        "date.toordinal(death) - date.toordinal(birt)"
      ],
      "execution_count": null,
      "outputs": [
        {
          "output_type": "execute_result",
          "data": {
            "text/plain": [
              "22327"
            ]
          },
          "metadata": {
            "tags": []
          },
          "execution_count": 34
        }
      ]
    },
    {
      "cell_type": "code",
      "metadata": {
        "colab": {
          "base_uri": "https://localhost:8080/"
        },
        "id": "gcc7FUrEmBMA",
        "outputId": "04c9d82f-9601-44b1-da1a-59700a86ce75"
      },
      "source": [
        "from random import choice\n",
        "tercih = [\"data science\", \"AWS devops\", \"Full Stack\"]\n",
        "print(choice(tercih))"
      ],
      "execution_count": null,
      "outputs": [
        {
          "output_type": "stream",
          "text": [
            "data science\n"
          ],
          "name": "stdout"
        }
      ]
    },
    {
      "cell_type": "code",
      "metadata": {
        "colab": {
          "base_uri": "https://localhost:8080/"
        },
        "id": "bFTrbLzjmc8X",
        "outputId": "aa6dfbb3-1368-4c35-b3ec-40c92d88c384"
      },
      "source": [
        "from random import choice\n",
        "çekiliş = [\"data science\", \"AWS devops\", \"Full Stack\"]\n",
        "print(choice(tercih))"
      ],
      "execution_count": null,
      "outputs": [
        {
          "output_type": "stream",
          "text": [
            "Full Stack\n"
          ],
          "name": "stdout"
        }
      ]
    },
    {
      "cell_type": "code",
      "metadata": {
        "colab": {
          "base_uri": "https://localhost:8080/"
        },
        "id": "Cc8687Xumhj9",
        "outputId": "c10d444d-871d-4024-c08b-6503ebc02a2b"
      },
      "source": [
        "from random import choice\n",
        "tercih = [\"data science\", \"AWS devops\", \"Full Stack\"]\n",
        "print(choice(tercih))"
      ],
      "execution_count": null,
      "outputs": [
        {
          "output_type": "stream",
          "text": [
            "data science\n"
          ],
          "name": "stdout"
        }
      ]
    },
    {
      "cell_type": "markdown",
      "metadata": {
        "id": "_oyszjdfyKXR"
      },
      "source": [
        "*****MODULES AND PACKAGES****"
      ]
    },
    {
      "cell_type": "code",
      "metadata": {
        "colab": {
          "base_uri": "https://localhost:8080/",
          "height": 35
        },
        "id": "W2JYyqOfwrhX",
        "outputId": "a8a53249-8bdb-400a-b3c0-f983671fbb50"
      },
      "source": [
        "pwd"
      ],
      "execution_count": null,
      "outputs": [
        {
          "output_type": "execute_result",
          "data": {
            "application/vnd.google.colaboratory.intrinsic+json": {
              "type": "string"
            },
            "text/plain": [
              "'/content'"
            ]
          },
          "metadata": {
            "tags": []
          },
          "execution_count": 6
        }
      ]
    },
    {
      "cell_type": "code",
      "metadata": {
        "id": "SRhUIPbBwrhb"
      },
      "source": [
        "from upper_package import my_package1, my_package2"
      ],
      "execution_count": null,
      "outputs": []
    },
    {
      "cell_type": "code",
      "metadata": {
        "id": "WYbIkAEjwrhd"
      },
      "source": [
        "from upper_package.my_package1 import my_module_1, my_module_2"
      ],
      "execution_count": null,
      "outputs": []
    },
    {
      "cell_type": "code",
      "metadata": {
        "id": "3tJxi5FXwrhe",
        "colab": {
          "base_uri": "https://localhost:8080/"
        },
        "outputId": "f00f6f5c-a042-4c62-f771-15ba5f3eeeb9"
      },
      "source": [
        "dir(my_package1)"
      ],
      "execution_count": null,
      "outputs": [
        {
          "output_type": "execute_result",
          "data": {
            "text/plain": [
              "['__builtins__',\n",
              " '__cached__',\n",
              " '__doc__',\n",
              " '__file__',\n",
              " '__loader__',\n",
              " '__name__',\n",
              " '__package__',\n",
              " '__path__',\n",
              " '__spec__',\n",
              " 'my_module_1',\n",
              " 'my_module_2']"
            ]
          },
          "metadata": {
            "tags": []
          },
          "execution_count": 9
        }
      ]
    },
    {
      "cell_type": "code",
      "metadata": {
        "id": "pvdv45K7wrhf"
      },
      "source": [
        "from upper_package.my_package2 import my_module_3, my_module_4"
      ],
      "execution_count": null,
      "outputs": []
    },
    {
      "cell_type": "code",
      "metadata": {
        "id": "PN2xXxSVwrhg",
        "colab": {
          "base_uri": "https://localhost:8080/"
        },
        "outputId": "ce0aa74f-5d93-4587-af30-af92a74667ec"
      },
      "source": [
        "dir(my_package2)"
      ],
      "execution_count": null,
      "outputs": [
        {
          "output_type": "execute_result",
          "data": {
            "text/plain": [
              "['__builtins__',\n",
              " '__cached__',\n",
              " '__doc__',\n",
              " '__file__',\n",
              " '__loader__',\n",
              " '__name__',\n",
              " '__package__',\n",
              " '__path__',\n",
              " '__spec__',\n",
              " 'my_module_3',\n",
              " 'my_module_4']"
            ]
          },
          "metadata": {
            "tags": []
          },
          "execution_count": 11
        }
      ]
    },
    {
      "cell_type": "code",
      "metadata": {
        "id": "0qkfjqBwwrhh",
        "colab": {
          "base_uri": "https://localhost:8080/"
        },
        "outputId": "284f3ab7-8014-47fd-c9ae-2e925958a538"
      },
      "source": [
        "my_module_2.divide(10, 5)"
      ],
      "execution_count": null,
      "outputs": [
        {
          "output_type": "execute_result",
          "data": {
            "text/plain": [
              "2.0"
            ]
          },
          "metadata": {
            "tags": []
          },
          "execution_count": 12
        }
      ]
    },
    {
      "cell_type": "code",
      "metadata": {
        "id": "gziCOWoQwrhi",
        "colab": {
          "base_uri": "https://localhost:8080/"
        },
        "outputId": "639eaae6-8e70-4af3-db3e-38036eb3ea7c"
      },
      "source": [
        "my_module_1.addition(4,5)"
      ],
      "execution_count": null,
      "outputs": [
        {
          "output_type": "execute_result",
          "data": {
            "text/plain": [
              "9"
            ]
          },
          "metadata": {
            "tags": []
          },
          "execution_count": 13
        }
      ]
    },
    {
      "cell_type": "code",
      "metadata": {
        "id": "3BsoO3Hwwrhj",
        "colab": {
          "base_uri": "https://localhost:8080/",
          "height": 35
        },
        "outputId": "e5c74f2d-a742-4884-9f8d-35fa4933747f"
      },
      "source": [
        "my_module_3.repeater(\"clarusway \", 3)"
      ],
      "execution_count": null,
      "outputs": [
        {
          "output_type": "execute_result",
          "data": {
            "application/vnd.google.colaboratory.intrinsic+json": {
              "type": "string"
            },
            "text/plain": [
              "'clarusway clarusway clarusway '"
            ]
          },
          "metadata": {
            "tags": []
          },
          "execution_count": 90
        }
      ]
    },
    {
      "cell_type": "code",
      "metadata": {
        "id": "SlVT0mSXwrhk",
        "colab": {
          "base_uri": "https://localhost:8080/"
        },
        "outputId": "cbb639ac-fa51-4383-cf92-1ac2031933e3"
      },
      "source": [
        "my_module_4.sqroot(25)"
      ],
      "execution_count": null,
      "outputs": [
        {
          "output_type": "execute_result",
          "data": {
            "text/plain": [
              "5.0"
            ]
          },
          "metadata": {
            "tags": []
          },
          "execution_count": 92
        }
      ]
    },
    {
      "cell_type": "code",
      "metadata": {
        "id": "Mnp30dVawrhl",
        "colab": {
          "base_uri": "https://localhost:8080/"
        },
        "outputId": "c144b273-0d8c-4f52-f5a7-9b625acd39b5"
      },
      "source": [
        "my_package1.__spec__"
      ],
      "execution_count": null,
      "outputs": [
        {
          "output_type": "execute_result",
          "data": {
            "text/plain": [
              "ModuleSpec(name='upper_package.my_package1', loader=<_frozen_importlib_external.SourceFileLoader object at 0x7f5a840a2150>, origin='/content/upper_package/my_package1/__init__.py', submodule_search_locations=['/content/upper_package/my_package1'])"
            ]
          },
          "metadata": {
            "tags": []
          },
          "execution_count": 93
        }
      ]
    },
    {
      "cell_type": "code",
      "metadata": {
        "id": "965_gKzewrhm"
      },
      "source": [
        "import upper_package"
      ],
      "execution_count": null,
      "outputs": []
    },
    {
      "cell_type": "code",
      "metadata": {
        "id": "E6kBsM53wrhn",
        "colab": {
          "base_uri": "https://localhost:8080/"
        },
        "outputId": "1cbc1081-ad26-431f-c774-615f5a5f0c19"
      },
      "source": [
        "dir(upper_package)"
      ],
      "execution_count": null,
      "outputs": [
        {
          "output_type": "execute_result",
          "data": {
            "text/plain": [
              "['__builtins__',\n",
              " '__cached__',\n",
              " '__doc__',\n",
              " '__file__',\n",
              " '__loader__',\n",
              " '__name__',\n",
              " '__package__',\n",
              " '__path__',\n",
              " '__spec__',\n",
              " 'my_package1',\n",
              " 'my_package2']"
            ]
          },
          "metadata": {
            "tags": []
          },
          "execution_count": 95
        }
      ]
    },
    {
      "cell_type": "code",
      "metadata": {
        "id": "1z7T45fcwrhn"
      },
      "source": [
        "from upper_package.my_package1.my_module_2 import divide, hello\n",
        "# colab'de ctrl + space yaparak modül içindeki fonksiyonları görebiliriz.\n",
        "# Soldaki dosya bölümünden de modüle çift tıklayarak içeriği komple görebiliriz."
      ],
      "execution_count": null,
      "outputs": []
    },
    {
      "cell_type": "code",
      "metadata": {
        "id": "0MzD-G9fwrho",
        "colab": {
          "base_uri": "https://localhost:8080/"
        },
        "outputId": "e6acaeb8-ebba-4a8a-ae03-e5705444a554"
      },
      "source": [
        "hello()"
      ],
      "execution_count": null,
      "outputs": [
        {
          "output_type": "stream",
          "text": [
            "hello\n"
          ],
          "name": "stdout"
        }
      ]
    },
    {
      "cell_type": "code",
      "metadata": {
        "id": "qACOINegwrhp",
        "colab": {
          "base_uri": "https://localhost:8080/"
        },
        "outputId": "a2d2832f-850c-4c2b-cb7e-aaf1c44db877"
      },
      "source": [
        "divide(22, 11)"
      ],
      "execution_count": null,
      "outputs": [
        {
          "output_type": "execute_result",
          "data": {
            "text/plain": [
              "2.0"
            ]
          },
          "metadata": {
            "tags": []
          },
          "execution_count": 100
        }
      ]
    },
    {
      "cell_type": "code",
      "metadata": {
        "id": "D3og2yLswrhq"
      },
      "source": [
        "import math"
      ],
      "execution_count": null,
      "outputs": []
    },
    {
      "cell_type": "code",
      "metadata": {
        "id": "8_amddTNwrhq"
      },
      "source": [
        "from math import log10"
      ],
      "execution_count": null,
      "outputs": []
    },
    {
      "cell_type": "code",
      "metadata": {
        "id": "gg0tyftswrhr",
        "outputId": "c42b9039-ca47-4521-c352-7d04cfd3185e"
      },
      "source": [
        "log10(1000)"
      ],
      "execution_count": null,
      "outputs": [
        {
          "output_type": "execute_result",
          "data": {
            "text/plain": [
              "3.0"
            ]
          },
          "metadata": {
            "tags": []
          },
          "execution_count": 20
        }
      ]
    },
    {
      "cell_type": "code",
      "metadata": {
        "id": "c_A__tl7wrhs",
        "colab": {
          "base_uri": "https://localhost:8080/"
        },
        "outputId": "81877144-cd7c-47fc-a18d-b9dffa01cbaf"
      },
      "source": [
        "print(math.__doc__)"
      ],
      "execution_count": null,
      "outputs": [
        {
          "output_type": "stream",
          "text": [
            "This module provides access to the mathematical functions\n",
            "defined by the C standard.\n"
          ],
          "name": "stdout"
        }
      ]
    },
    {
      "cell_type": "code",
      "metadata": {
        "id": "xghEXWNbwrht",
        "colab": {
          "base_uri": "https://localhost:8080/"
        },
        "outputId": "d98a5bc3-8fbd-4696-e51b-81e0e0eb1f0f"
      },
      "source": [
        "print(my_module_2.__doc__)"
      ],
      "execution_count": null,
      "outputs": [
        {
          "output_type": "stream",
          "text": [
            "\n",
            "This is module 2. Welcome!\n",
            "\n"
          ],
          "name": "stdout"
        }
      ]
    },
    {
      "cell_type": "code",
      "metadata": {
        "id": "R3lbgxEbwrhu",
        "colab": {
          "base_uri": "https://localhost:8080/"
        },
        "outputId": "f5e24f70-d8c2-47e5-ccf2-9e5d915b7644"
      },
      "source": [
        "!pip list # bir library'imiz yoksa pip install edip onu kullanabiliriz.\n",
        "# Başına ! işareti de koyabiliriz. Hangi library varsa onu görebiliriz."
      ],
      "execution_count": null,
      "outputs": [
        {
          "output_type": "stream",
          "text": [
            "Package                       Version       \n",
            "----------------------------- --------------\n",
            "absl-py                       0.12.0        \n",
            "alabaster                     0.7.12        \n",
            "albumentations                0.1.12        \n",
            "altair                        4.1.0         \n",
            "appdirs                       1.4.4         \n",
            "argon2-cffi                   20.1.0        \n",
            "arviz                         0.11.2        \n",
            "astor                         0.8.1         \n",
            "astropy                       4.2.1         \n",
            "astunparse                    1.6.3         \n",
            "async-generator               1.10          \n",
            "atari-py                      0.2.6         \n",
            "atomicwrites                  1.4.0         \n",
            "attrs                         21.2.0        \n",
            "audioread                     2.1.9         \n",
            "autograd                      1.3           \n",
            "Babel                         2.9.1         \n",
            "backcall                      0.2.0         \n",
            "beautifulsoup4                4.6.3         \n",
            "bleach                        3.3.0         \n",
            "blis                          0.4.1         \n",
            "bokeh                         2.3.2         \n",
            "Bottleneck                    1.3.2         \n",
            "branca                        0.4.2         \n",
            "bs4                           0.0.1         \n",
            "CacheControl                  0.12.6        \n",
            "cachetools                    4.2.2         \n",
            "catalogue                     1.0.0         \n",
            "certifi                       2020.12.5     \n",
            "cffi                          1.14.5        \n",
            "cftime                        1.4.1         \n",
            "chainer                       7.4.0         \n",
            "chardet                       3.0.4         \n",
            "click                         8.0.0         \n",
            "cloudpickle                   1.3.0         \n",
            "cmake                         3.12.0        \n",
            "cmdstanpy                     0.9.5         \n",
            "colorcet                      2.0.6         \n",
            "colorlover                    0.3.0         \n",
            "community                     1.0.0b1       \n",
            "contextlib2                   0.5.5         \n",
            "convertdate                   2.3.2         \n",
            "coverage                      3.7.1         \n",
            "coveralls                     0.5           \n",
            "crcmod                        1.7           \n",
            "cufflinks                     0.17.3        \n",
            "cvxopt                        1.2.6         \n",
            "cvxpy                         1.0.31        \n",
            "cycler                        0.10.0        \n",
            "cymem                         2.0.5         \n",
            "Cython                        0.29.23       \n",
            "daft                          0.0.4         \n",
            "dask                          2.12.0        \n",
            "datascience                   0.10.6        \n",
            "debugpy                       1.0.0         \n",
            "decorator                     4.4.2         \n",
            "defusedxml                    0.7.1         \n",
            "descartes                     1.1.0         \n",
            "dill                          0.3.3         \n",
            "distributed                   1.25.3        \n",
            "dlib                          19.18.0       \n",
            "dm-tree                       0.1.6         \n",
            "docopt                        0.6.2         \n",
            "docutils                      0.17.1        \n",
            "dopamine-rl                   1.0.5         \n",
            "earthengine-api               0.1.264       \n",
            "easydict                      1.9           \n",
            "ecos                          2.0.7.post1   \n",
            "editdistance                  0.5.3         \n",
            "en-core-web-sm                2.2.5         \n",
            "entrypoints                   0.3           \n",
            "ephem                         3.7.7.1       \n",
            "et-xmlfile                    1.1.0         \n",
            "fa2                           0.3.5         \n",
            "fancyimpute                   0.4.3         \n",
            "fastai                        1.0.61        \n",
            "fastdtw                       0.3.4         \n",
            "fastprogress                  1.0.0         \n",
            "fastrlock                     0.6           \n",
            "fbprophet                     0.7.1         \n",
            "feather-format                0.4.1         \n",
            "filelock                      3.0.12        \n",
            "firebase-admin                4.4.0         \n",
            "fix-yahoo-finance             0.0.22        \n",
            "Flask                         1.1.2         \n",
            "flatbuffers                   1.12          \n",
            "folium                        0.8.3         \n",
            "future                        0.16.0        \n",
            "gast                          0.3.3         \n",
            "GDAL                          2.2.2         \n",
            "gdown                         3.6.4         \n",
            "gensim                        3.6.0         \n",
            "geographiclib                 1.50          \n",
            "geopy                         1.17.0        \n",
            "gin-config                    0.4.0         \n",
            "glob2                         0.7           \n",
            "google                        2.0.3         \n",
            "google-api-core               1.26.3        \n",
            "google-api-python-client      1.12.8        \n",
            "google-auth                   1.30.0        \n",
            "google-auth-httplib2          0.0.4         \n",
            "google-auth-oauthlib          0.4.4         \n",
            "google-cloud-bigquery         1.21.0        \n",
            "google-cloud-bigquery-storage 1.1.0         \n",
            "google-cloud-core             1.0.3         \n",
            "google-cloud-datastore        1.8.0         \n",
            "google-cloud-firestore        1.7.0         \n",
            "google-cloud-language         1.2.0         \n",
            "google-cloud-storage          1.18.1        \n",
            "google-cloud-translate        1.5.0         \n",
            "google-colab                  1.0.0         \n",
            "google-pasta                  0.2.0         \n",
            "google-resumable-media        0.4.1         \n",
            "googleapis-common-protos      1.53.0        \n",
            "googledrivedownloader         0.4           \n",
            "graphviz                      0.10.1        \n",
            "greenlet                      1.1.0         \n",
            "grpcio                        1.32.0        \n",
            "gspread                       3.0.1         \n",
            "gspread-dataframe             3.0.8         \n",
            "gym                           0.17.3        \n",
            "h5py                          2.10.0        \n",
            "HeapDict                      1.0.1         \n",
            "hijri-converter               2.1.1         \n",
            "holidays                      0.10.5.2      \n",
            "holoviews                     1.14.3        \n",
            "html5lib                      1.0.1         \n",
            "httpimport                    0.5.18        \n",
            "httplib2                      0.17.4        \n",
            "httplib2shim                  0.0.3         \n",
            "humanize                      0.5.1         \n",
            "hyperopt                      0.1.2         \n",
            "ideep4py                      2.0.0.post3   \n",
            "idna                          2.10          \n",
            "imageio                       2.4.1         \n",
            "imagesize                     1.2.0         \n",
            "imbalanced-learn              0.4.3         \n",
            "imblearn                      0.0           \n",
            "imgaug                        0.2.9         \n",
            "importlib-metadata            4.0.1         \n",
            "importlib-resources           5.1.2         \n",
            "imutils                       0.5.4         \n",
            "inflect                       2.1.0         \n",
            "iniconfig                     1.1.1         \n",
            "intel-openmp                  2021.2.0      \n",
            "intervaltree                  2.1.0         \n",
            "ipykernel                     4.10.1        \n",
            "ipython                       5.5.0         \n",
            "ipython-genutils              0.2.0         \n",
            "ipython-sql                   0.3.9         \n",
            "ipywidgets                    7.6.3         \n",
            "itsdangerous                  2.0.0         \n",
            "jax                           0.2.13        \n",
            "jaxlib                        0.1.66+cuda110\n",
            "jdcal                         1.4.1         \n",
            "jedi                          0.18.0        \n",
            "jieba                         0.42.1        \n",
            "Jinja2                        2.11.3        \n",
            "joblib                        1.0.1         \n",
            "jpeg4py                       0.1.4         \n",
            "jsonschema                    2.6.0         \n",
            "jupyter                       1.0.0         \n",
            "jupyter-client                5.3.5         \n",
            "jupyter-console               5.2.0         \n",
            "jupyter-core                  4.7.1         \n",
            "jupyterlab-pygments           0.1.2         \n",
            "jupyterlab-widgets            1.0.0         \n",
            "kaggle                        1.5.12        \n",
            "kapre                         0.1.3.1       \n",
            "Keras                         2.4.3         \n",
            "Keras-Preprocessing           1.1.2         \n",
            "keras-vis                     0.4.1         \n",
            "kiwisolver                    1.3.1         \n",
            "knnimpute                     0.1.0         \n",
            "korean-lunar-calendar         0.2.1         \n",
            "librosa                       0.8.0         \n",
            "lightgbm                      2.2.3         \n",
            "llvmlite                      0.34.0        \n",
            "lmdb                          0.99          \n",
            "LunarCalendar                 0.0.9         \n",
            "lxml                          4.2.6         \n",
            "Markdown                      3.3.4         \n",
            "MarkupSafe                    2.0.0         \n",
            "matplotlib                    3.2.2         \n",
            "matplotlib-inline             0.1.2         \n",
            "matplotlib-venn               0.11.6        \n",
            "missingno                     0.4.2         \n",
            "mistune                       0.8.4         \n",
            "mizani                        0.6.0         \n",
            "mkl                           2019.0        \n",
            "mlxtend                       0.14.0        \n",
            "more-itertools                8.7.0         \n",
            "moviepy                       0.2.3.5       \n",
            "mpmath                        1.2.1         \n",
            "msgpack                       1.0.2         \n",
            "multiprocess                  0.70.11.1     \n",
            "multitasking                  0.0.9         \n",
            "murmurhash                    1.0.5         \n",
            "music21                       5.5.0         \n",
            "natsort                       5.5.0         \n",
            "nbclient                      0.5.3         \n",
            "nbconvert                     5.6.1         \n",
            "nbformat                      5.1.3         \n",
            "nest-asyncio                  1.5.1         \n",
            "netCDF4                       1.5.6         \n",
            "networkx                      2.5.1         \n",
            "nibabel                       3.0.2         \n",
            "nltk                          3.2.5         \n",
            "notebook                      5.3.1         \n",
            "np-utils                      0.5.12.1      \n",
            "numba                         0.51.2        \n",
            "numexpr                       2.7.3         \n",
            "numpy                         1.19.5        \n",
            "nvidia-ml-py3                 7.352.0       \n",
            "oauth2client                  4.1.3         \n",
            "oauthlib                      3.1.0         \n",
            "okgrade                       0.4.3         \n",
            "opencv-contrib-python         4.1.2.30      \n",
            "opencv-python                 4.1.2.30      \n",
            "openpyxl                      2.5.9         \n",
            "opt-einsum                    3.3.0         \n",
            "osqp                          0.6.2.post0   \n",
            "packaging                     20.9          \n",
            "palettable                    3.3.0         \n",
            "pandas                        1.1.5         \n",
            "pandas-datareader             0.9.0         \n",
            "pandas-gbq                    0.13.3        \n",
            "pandas-profiling              1.4.1         \n",
            "pandocfilters                 1.4.3         \n",
            "panel                         0.11.3        \n",
            "param                         1.10.1        \n",
            "parso                         0.8.2         \n",
            "pathlib                       1.0.1         \n",
            "patsy                         0.5.1         \n",
            "pexpect                       4.8.0         \n",
            "pickleshare                   0.7.5         \n",
            "Pillow                        7.1.2         \n",
            "pip                           19.3.1        \n",
            "pip-tools                     4.5.1         \n",
            "plac                          1.1.3         \n",
            "plotly                        4.4.1         \n",
            "plotnine                      0.6.0         \n",
            "pluggy                        0.7.1         \n",
            "pooch                         1.3.0         \n",
            "portpicker                    1.3.9         \n",
            "prefetch-generator            1.0.1         \n",
            "preshed                       3.0.5         \n",
            "prettytable                   2.1.0         \n",
            "progressbar2                  3.38.0        \n",
            "prometheus-client             0.10.1        \n",
            "promise                       2.3           \n",
            "prompt-toolkit                1.0.18        \n",
            "protobuf                      3.12.4        \n",
            "psutil                        5.4.8         \n",
            "psycopg2                      2.7.6.1       \n",
            "ptyprocess                    0.7.0         \n",
            "py                            1.10.0        \n",
            "pyarrow                       3.0.0         \n",
            "pyasn1                        0.4.8         \n",
            "pyasn1-modules                0.2.8         \n",
            "pycocotools                   2.0.2         \n",
            "pycparser                     2.20          \n",
            "pyct                          0.4.8         \n",
            "pydata-google-auth            1.2.0         \n",
            "pydot                         1.3.0         \n",
            "pydot-ng                      2.0.0         \n",
            "pydotplus                     2.0.2         \n",
            "PyDrive                       1.3.1         \n",
            "pyemd                         0.5.1         \n",
            "pyerfa                        1.7.3         \n",
            "pyglet                        1.5.0         \n",
            "Pygments                      2.6.1         \n",
            "pygobject                     3.26.1        \n",
            "pymc3                         3.11.2        \n",
            "PyMeeus                       0.5.11        \n",
            "pymongo                       3.11.4        \n",
            "pymystem3                     0.2.0         \n",
            "PyOpenGL                      3.1.5         \n",
            "pyparsing                     2.4.7         \n",
            "pyrsistent                    0.17.3        \n",
            "pysndfile                     1.3.8         \n",
            "PySocks                       1.7.1         \n",
            "pystan                        2.19.1.1      \n",
            "pytest                        3.6.4         \n",
            "python-apt                    0.0.0         \n",
            "python-chess                  0.23.11       \n",
            "python-dateutil               2.8.1         \n",
            "python-louvain                0.15          \n",
            "python-slugify                5.0.2         \n",
            "python-utils                  2.5.6         \n",
            "pytz                          2018.9        \n",
            "pyviz-comms                   2.0.1         \n",
            "PyWavelets                    1.1.1         \n",
            "PyYAML                        3.13          \n",
            "pyzmq                         22.0.3        \n",
            "qdldl                         0.1.5.post0   \n",
            "qtconsole                     5.1.0         \n",
            "QtPy                          1.9.0         \n",
            "regex                         2019.12.20    \n",
            "requests                      2.23.0        \n",
            "requests-oauthlib             1.3.0         \n",
            "resampy                       0.2.2         \n",
            "retrying                      1.3.3         \n",
            "rpy2                          3.4.4         \n",
            "rsa                           4.7.2         \n",
            "scikit-image                  0.16.2        \n",
            "scikit-learn                  0.22.2.post1  \n",
            "scipy                         1.4.1         \n",
            "screen-resolution-extra       0.0.0         \n",
            "scs                           2.1.3         \n",
            "seaborn                       0.11.1        \n",
            "semver                        2.13.0        \n",
            "Send2Trash                    1.5.0         \n",
            "setuptools                    56.1.0        \n",
            "setuptools-git                1.2           \n",
            "Shapely                       1.7.1         \n",
            "simplegeneric                 0.8.1         \n",
            "six                           1.15.0        \n",
            "sklearn                       0.0           \n",
            "sklearn-pandas                1.8.0         \n",
            "smart-open                    5.0.0         \n",
            "snowballstemmer               2.1.0         \n",
            "sortedcontainers              2.3.0         \n",
            "SoundFile                     0.10.3.post1  \n",
            "spacy                         2.2.4         \n",
            "Sphinx                        1.8.5         \n",
            "sphinxcontrib-serializinghtml 1.1.4         \n",
            "sphinxcontrib-websupport      1.2.4         \n",
            "SQLAlchemy                    1.4.15        \n",
            "sqlparse                      0.4.1         \n",
            "srsly                         1.0.5         \n",
            "statsmodels                   0.10.2        \n",
            "sympy                         1.7.1         \n",
            "tables                        3.4.4         \n",
            "tabulate                      0.8.9         \n",
            "tblib                         1.7.0         \n",
            "tensorboard                   2.4.1         \n",
            "tensorboard-plugin-wit        1.8.0         \n",
            "tensorflow                    2.4.1         \n",
            "tensorflow-datasets           4.0.1         \n",
            "tensorflow-estimator          2.4.0         \n",
            "tensorflow-gcs-config         2.4.0         \n",
            "tensorflow-hub                0.12.0        \n",
            "tensorflow-metadata           0.30.0        \n",
            "tensorflow-probability        0.12.1        \n",
            "termcolor                     1.1.0         \n",
            "terminado                     0.9.5         \n",
            "testpath                      0.4.4         \n",
            "text-unidecode                1.3           \n",
            "textblob                      0.15.3        \n",
            "textgenrnn                    1.4.1         \n",
            "Theano-PyMC                   1.1.2         \n",
            "thinc                         7.4.0         \n",
            "tifffile                      2021.4.8      \n",
            "toml                          0.10.2        \n",
            "toolz                         0.11.1        \n",
            "torch                         1.8.1+cu101   \n",
            "torchsummary                  1.5.1         \n",
            "torchtext                     0.9.1         \n",
            "torchvision                   0.9.1+cu101   \n",
            "tornado                       5.1.1         \n",
            "tqdm                          4.41.1        \n",
            "traitlets                     5.0.5         \n",
            "tweepy                        3.10.0        \n",
            "typeguard                     2.7.1         \n",
            "typing-extensions             3.7.4.3       \n",
            "tzlocal                       1.5.1         \n",
            "uritemplate                   3.0.1         \n",
            "urllib3                       1.24.3        \n",
            "vega-datasets                 0.9.0         \n",
            "wasabi                        0.8.2         \n",
            "wcwidth                       0.2.5         \n",
            "webencodings                  0.5.1         \n",
            "Werkzeug                      2.0.0         \n",
            "wheel                         0.36.2        \n",
            "widgetsnbextension            3.5.1         \n",
            "wordcloud                     1.5.0         \n",
            "wrapt                         1.12.1        \n",
            "xarray                        0.18.0        \n",
            "xgboost                       0.90          \n",
            "xkit                          0.0.0         \n",
            "xlrd                          1.1.0         \n",
            "xlwt                          1.3.0         \n",
            "yellowbrick                   0.9.1         \n",
            "zict                          2.0.0         \n",
            "zipp                          3.4.1         \n"
          ],
          "name": "stdout"
        }
      ]
    },
    {
      "cell_type": "code",
      "metadata": {
        "id": "Mhj6N1Imwrhu",
        "colab": {
          "base_uri": "https://localhost:8080/"
        },
        "outputId": "95d62a36-c9c3-48c8-eb53-d22bedb1a12b"
      },
      "source": [
        "pip --version # versionu görebiliriz."
      ],
      "execution_count": null,
      "outputs": [
        {
          "output_type": "stream",
          "text": [
            "pip 19.3.1 from /usr/local/lib/python3.7/dist-packages/pip (python 3.7)\n"
          ],
          "name": "stdout"
        }
      ]
    },
    {
      "cell_type": "code",
      "metadata": {
        "collapsed": true,
        "id": "wbC_BRF6wrhv",
        "colab": {
          "base_uri": "https://localhost:8080/"
        },
        "outputId": "1bb9fe23-0754-4e4f-ca37-6ea78eaeb516"
      },
      "source": [
        "pip install kaggle"
      ],
      "execution_count": null,
      "outputs": [
        {
          "output_type": "stream",
          "text": [
            "Requirement already satisfied: kaggle in /usr/local/lib/python3.7/dist-packages (1.5.12)\n",
            "Requirement already satisfied: six>=1.10 in /usr/local/lib/python3.7/dist-packages (from kaggle) (1.15.0)\n",
            "Requirement already satisfied: requests in /usr/local/lib/python3.7/dist-packages (from kaggle) (2.23.0)\n",
            "Requirement already satisfied: python-slugify in /usr/local/lib/python3.7/dist-packages (from kaggle) (5.0.2)\n",
            "Requirement already satisfied: tqdm in /usr/local/lib/python3.7/dist-packages (from kaggle) (4.41.1)\n",
            "Requirement already satisfied: python-dateutil in /usr/local/lib/python3.7/dist-packages (from kaggle) (2.8.1)\n",
            "Requirement already satisfied: urllib3 in /usr/local/lib/python3.7/dist-packages (from kaggle) (1.24.3)\n",
            "Requirement already satisfied: certifi in /usr/local/lib/python3.7/dist-packages (from kaggle) (2020.12.5)\n",
            "Requirement already satisfied: idna<3,>=2.5 in /usr/local/lib/python3.7/dist-packages (from requests->kaggle) (2.10)\n",
            "Requirement already satisfied: chardet<4,>=3.0.2 in /usr/local/lib/python3.7/dist-packages (from requests->kaggle) (3.0.4)\n",
            "Requirement already satisfied: text-unidecode>=1.3 in /usr/local/lib/python3.7/dist-packages (from python-slugify->kaggle) (1.3)\n"
          ],
          "name": "stdout"
        }
      ]
    },
    {
      "cell_type": "code",
      "metadata": {
        "id": "RHrT7jHBwrhw"
      },
      "source": [
        "import itertools\n"
      ],
      "execution_count": null,
      "outputs": []
    },
    {
      "cell_type": "code",
      "metadata": {
        "colab": {
          "base_uri": "https://localhost:8080/"
        },
        "id": "v4HxdvScrQzN",
        "outputId": "54ce8762-1a49-4855-b894-569e401aca5a"
      },
      "source": [
        "pip install pep8"
      ],
      "execution_count": null,
      "outputs": [
        {
          "output_type": "stream",
          "text": [
            "Collecting pep8\n",
            "\u001b[?25l  Downloading https://files.pythonhosted.org/packages/42/3f/669429ce58de2c22d8d2c542752e137ec4b9885fff398d3eceb1a7f5acb4/pep8-1.7.1-py2.py3-none-any.whl (41kB)\n",
            "\r\u001b[K     |████████                        | 10kB 19.5MB/s eta 0:00:01\r\u001b[K     |███████████████▉                | 20kB 23.9MB/s eta 0:00:01\r\u001b[K     |███████████████████████▊        | 30kB 26.9MB/s eta 0:00:01\r\u001b[K     |███████████████████████████████▋| 40kB 30.7MB/s eta 0:00:01\r\u001b[K     |████████████████████████████████| 51kB 6.6MB/s \n",
            "\u001b[?25hInstalling collected packages: pep8\n",
            "Successfully installed pep8-1.7.1\n"
          ],
          "name": "stdout"
        }
      ]
    },
    {
      "cell_type": "code",
      "metadata": {
        "id": "C1i6hZNxwrhw",
        "colab": {
          "base_uri": "https://localhost:8080/"
        },
        "outputId": "c00b82e6-b28d-4b03-db72-b4ce9a0194cc"
      },
      "source": [
        "pip show pep8 # herhangi bir kütüphanenin spesifik özelliklerini gösterebilmek için show kullanılır."
      ],
      "execution_count": null,
      "outputs": [
        {
          "output_type": "stream",
          "text": [
            "Name: pep8\n",
            "Version: 1.7.1\n",
            "Summary: Python style guide checker\n",
            "Home-page: http://pep8.readthedocs.org/\n",
            "Author: Ian Lee\n",
            "Author-email: IanLee1521@gmail.com\n",
            "License: Expat license\n",
            "Location: /usr/local/lib/python3.7/dist-packages\n",
            "Requires: \n",
            "Required-by: \n"
          ],
          "name": "stdout"
        }
      ]
    },
    {
      "cell_type": "code",
      "metadata": {
        "id": "26VZgh7Vwrhx",
        "colab": {
          "base_uri": "https://localhost:8080/"
        },
        "outputId": "5cb095aa-e6ea-4632-b1ec-557b53f84b85"
      },
      "source": [
        "\n",
        "pip uninstall kaggle # pip uninstall install ettiğimiz package'ı  kaldırır."
      ],
      "execution_count": null,
      "outputs": [
        {
          "output_type": "stream",
          "text": [
            "Uninstalling kaggle-1.5.12:\n",
            "  Would remove:\n",
            "    /usr/local/bin/kaggle\n",
            "    /usr/local/lib/python3.7/dist-packages/kaggle-1.5.12.dist-info/*\n",
            "    /usr/local/lib/python3.7/dist-packages/kaggle/*\n",
            "Proceed (y/n)? \u001b[31mERROR: Operation cancelled by user\u001b[0m\n"
          ],
          "name": "stdout"
        }
      ]
    },
    {
      "cell_type": "code",
      "metadata": {
        "id": "rjJIYX_Swrhy"
      },
      "source": [
        "import math"
      ],
      "execution_count": null,
      "outputs": []
    },
    {
      "cell_type": "markdown",
      "metadata": {
        "id": "OcWcGULwZVxG"
      },
      "source": [
        "EXCEPTİON HANDLİNG"
      ]
    },
    {
      "cell_type": "code",
      "metadata": {
        "id": "yi-q9MRWwrhy",
        "colab": {
          "base_uri": "https://localhost:8080/",
          "height": 166
        },
        "outputId": "2520cae7-7805-4e22-bde1-86d957129d63"
      },
      "source": [
        "print(math.sqrt(-25)) # karekök alma değerinin içinne - bir değer koyduğumuz için value error verecek."
      ],
      "execution_count": null,
      "outputs": [
        {
          "output_type": "error",
          "ename": "ValueError",
          "evalue": "ignored",
          "traceback": [
            "\u001b[0;31m---------------------------------------------------------------------------\u001b[0m",
            "\u001b[0;31mValueError\u001b[0m                                Traceback (most recent call last)",
            "\u001b[0;32m<ipython-input-2-bd96441ed035>\u001b[0m in \u001b[0;36m<module>\u001b[0;34m()\u001b[0m\n\u001b[0;32m----> 1\u001b[0;31m \u001b[0mprint\u001b[0m\u001b[0;34m(\u001b[0m\u001b[0mmath\u001b[0m\u001b[0;34m.\u001b[0m\u001b[0msqrt\u001b[0m\u001b[0;34m(\u001b[0m\u001b[0;34m-\u001b[0m\u001b[0;36m25\u001b[0m\u001b[0;34m)\u001b[0m\u001b[0;34m)\u001b[0m\u001b[0;34m\u001b[0m\u001b[0;34m\u001b[0m\u001b[0m\n\u001b[0m",
            "\u001b[0;31mValueError\u001b[0m: math domain error"
          ]
        }
      ]
    },
    {
      "cell_type": "code",
      "metadata": {
        "id": "Rb4ojIlwwrhz",
        "outputId": "ce44b194-3a56-4e7e-e52a-4c95f3147ddd"
      },
      "source": [
        "math.factorial(-3) # - bir sayının faktöriyeli olmayacağı için value errror verir."
      ],
      "execution_count": null,
      "outputs": [
        {
          "output_type": "error",
          "ename": "ValueError",
          "evalue": "factorial() not defined for negative values",
          "traceback": [
            "\u001b[1;31m---------------------------------------------------------------------------\u001b[0m",
            "\u001b[1;31mValueError\u001b[0m                                Traceback (most recent call last)",
            "\u001b[1;32m<ipython-input-33-8f05d4f1138b>\u001b[0m in \u001b[0;36m<module>\u001b[1;34m\u001b[0m\n\u001b[1;32m----> 1\u001b[1;33m \u001b[0mmath\u001b[0m\u001b[1;33m.\u001b[0m\u001b[0mfactorial\u001b[0m\u001b[1;33m(\u001b[0m\u001b[1;33m-\u001b[0m\u001b[1;36m3\u001b[0m\u001b[1;33m)\u001b[0m\u001b[1;33m\u001b[0m\u001b[1;33m\u001b[0m\u001b[0m\n\u001b[0m",
            "\u001b[1;31mValueError\u001b[0m: factorial() not defined for negative values"
          ]
        }
      ]
    },
    {
      "cell_type": "code",
      "metadata": {
        "id": "kp4XomZfwrh0",
        "outputId": "65bf7ada-f83a-484d-86fd-e48276495fe8"
      },
      "source": [
        "printt() # name error. çnden tanımlamadığımız ve atama yapmadığımız herşey name error olur."
      ],
      "execution_count": null,
      "outputs": [
        {
          "output_type": "error",
          "ename": "NameError",
          "evalue": "name 'printt' is not defined",
          "traceback": [
            "\u001b[1;31m---------------------------------------------------------------------------\u001b[0m",
            "\u001b[1;31mNameError\u001b[0m                                 Traceback (most recent call last)",
            "\u001b[1;32m<ipython-input-34-170c3a814236>\u001b[0m in \u001b[0;36m<module>\u001b[1;34m\u001b[0m\n\u001b[1;32m----> 1\u001b[1;33m \u001b[0mprintt\u001b[0m\u001b[1;33m(\u001b[0m\u001b[1;33m)\u001b[0m\u001b[1;33m\u001b[0m\u001b[1;33m\u001b[0m\u001b[0m\n\u001b[0m",
            "\u001b[1;31mNameError\u001b[0m: name 'printt' is not defined"
          ]
        }
      ]
    },
    {
      "cell_type": "code",
      "metadata": {
        "id": "AK0LwvCnwrh1",
        "outputId": "7dfdf9c5-83ba-46df-c7e3-bc150b72f18e"
      },
      "source": [
        "print(2 + \"2\") # str ve int toplanamayacağı için type error alacağız."
      ],
      "execution_count": null,
      "outputs": [
        {
          "output_type": "error",
          "ename": "TypeError",
          "evalue": "unsupported operand type(s) for +: 'int' and 'str'",
          "traceback": [
            "\u001b[1;31m---------------------------------------------------------------------------\u001b[0m",
            "\u001b[1;31mTypeError\u001b[0m                                 Traceback (most recent call last)",
            "\u001b[1;32m<ipython-input-35-96788054896b>\u001b[0m in \u001b[0;36m<module>\u001b[1;34m\u001b[0m\n\u001b[1;32m----> 1\u001b[1;33m \u001b[0mprint\u001b[0m\u001b[1;33m(\u001b[0m\u001b[1;36m2\u001b[0m \u001b[1;33m+\u001b[0m \u001b[1;34m\"2\"\u001b[0m\u001b[1;33m)\u001b[0m\u001b[1;33m\u001b[0m\u001b[1;33m\u001b[0m\u001b[0m\n\u001b[0m",
            "\u001b[1;31mTypeError\u001b[0m: unsupported operand type(s) for +: 'int' and 'str'"
          ]
        }
      ]
    },
    {
      "cell_type": "code",
      "metadata": {
        "id": "6wKeCudYwrh2",
        "colab": {
          "base_uri": "https://localhost:8080/"
        },
        "outputId": "4a8164a5-f34c-492d-dd29-191cb9b01942"
      },
      "source": [
        "print(2 * \"2\")"
      ],
      "execution_count": null,
      "outputs": [
        {
          "output_type": "stream",
          "text": [
            "22\n"
          ],
          "name": "stdout"
        }
      ]
    },
    {
      "cell_type": "code",
      "metadata": {
        "colab": {
          "base_uri": "https://localhost:8080/"
        },
        "id": "VX7FeGrTS8LI",
        "outputId": "d508e310-49a2-4164-b324-ec41f5d15f65"
      },
      "source": [
        "while True:\n",
        "    no_one = int(input(\"The first number please : \"))\n",
        "    no_two = int(input(\"The second number please : \"))\n",
        "    division = no_one / no_two\n",
        "    print(\"The result of the division is : \", division)\n",
        "    break"
      ],
      "execution_count": null,
      "outputs": [
        {
          "output_type": "stream",
          "text": [
            "The first number please : 12\n",
            "The second number please : 15\n",
            "The result of the division is :  0.8\n"
          ],
          "name": "stdout"
        }
      ]
    },
    {
      "cell_type": "code",
      "metadata": {
        "id": "1KDNC73uwrh3",
        "colab": {
          "base_uri": "https://localhost:8080/",
          "height": 201
        },
        "outputId": "699a420d-8737-410d-c569-6015da1b7f37"
      },
      "source": [
        "print(\"hello\")\n",
        "print(4/0)"
      ],
      "execution_count": null,
      "outputs": [
        {
          "output_type": "stream",
          "text": [
            "hello\n"
          ],
          "name": "stdout"
        },
        {
          "output_type": "error",
          "ename": "ZeroDivisionError",
          "evalue": "ignored",
          "traceback": [
            "\u001b[0;31m---------------------------------------------------------------------------\u001b[0m",
            "\u001b[0;31mZeroDivisionError\u001b[0m                         Traceback (most recent call last)",
            "\u001b[0;32m<ipython-input-6-15256f0d2731>\u001b[0m in \u001b[0;36m<module>\u001b[0;34m()\u001b[0m\n\u001b[1;32m      1\u001b[0m \u001b[0mprint\u001b[0m\u001b[0;34m(\u001b[0m\u001b[0;34m\"hello\"\u001b[0m\u001b[0;34m)\u001b[0m\u001b[0;34m\u001b[0m\u001b[0;34m\u001b[0m\u001b[0m\n\u001b[0;32m----> 2\u001b[0;31m \u001b[0mprint\u001b[0m\u001b[0;34m(\u001b[0m\u001b[0;36m4\u001b[0m\u001b[0;34m/\u001b[0m\u001b[0;36m0\u001b[0m\u001b[0;34m)\u001b[0m\u001b[0;34m\u001b[0m\u001b[0;34m\u001b[0m\u001b[0m\n\u001b[0m",
            "\u001b[0;31mZeroDivisionError\u001b[0m: division by zero"
          ]
        }
      ]
    },
    {
      "cell_type": "code",
      "metadata": {
        "id": "4GYuL6nMwrh5",
        "colab": {
          "base_uri": "https://localhost:8080/"
        },
        "outputId": "758e5272-7372-4dd3-c1c2-b2e2d9d7f3b3"
      },
      "source": [
        "while True :\n",
        "    a = int(input(\"ilk sayı :\"))\n",
        "    b = int(input(\"ikinci sayı :\"))\n",
        "    c = a / b\n",
        "    print(c)\n",
        "    break"
      ],
      "execution_count": null,
      "outputs": [
        {
          "output_type": "stream",
          "text": [
            "ilk sayı :12\n",
            "ikinci sayı :6\n",
            "2.0\n"
          ],
          "name": "stdout"
        }
      ]
    },
    {
      "cell_type": "code",
      "metadata": {
        "id": "U1Y2hmeBwrh6",
        "colab": {
          "base_uri": "https://localhost:8080/"
        },
        "outputId": "57e2a69c-a7c1-42c5-b7c0-2d4ff603683e"
      },
      "source": [
        "while True :\n",
        "    a = int(input(\"ilk sayı :\"))\n",
        "    b = int(input(\"ikinci sayı :\"))\n",
        "\n",
        "    try:\n",
        "        c = a / b\n",
        "        print(c)\n",
        "        break\n",
        "    except :\n",
        "        print(\"Bir şeyler ters gitti.\")"
      ],
      "execution_count": null,
      "outputs": [
        {
          "output_type": "stream",
          "text": [
            "ilk sayı :6\n",
            "ikinci sayı :0\n",
            "Bir şeyler ters gitti.\n",
            "ilk sayı :14\n",
            "ikinci sayı :10\n",
            "1.4\n"
          ],
          "name": "stdout"
        }
      ]
    },
    {
      "cell_type": "code",
      "metadata": {
        "id": "7kZQXI16wrh7",
        "colab": {
          "base_uri": "https://localhost:8080/"
        },
        "outputId": "3b5c9ba5-e45d-4997-b286-89edd6a1994b"
      },
      "source": [
        "try :\n",
        "    print(\"4\" + 4)\n",
        "except :\n",
        "    print(\"muhtemelen yanlış birşeyler yaptın.\")"
      ],
      "execution_count": null,
      "outputs": [
        {
          "output_type": "stream",
          "text": [
            "muhtemelen yanlış birşeyler yaptın.\n"
          ],
          "name": "stdout"
        }
      ]
    },
    {
      "cell_type": "code",
      "metadata": {
        "id": "_XmA_05Uwrh8",
        "colab": {
          "base_uri": "https://localhost:8080/"
        },
        "outputId": "9488e326-48cc-481c-9003-d2fc8ab024a2"
      },
      "source": [
        "try :\n",
        "    print(\"4\" + \"4\")\n",
        "except :\n",
        "    print(\"muhtemelen yanlış birşeyler yaptın.\")"
      ],
      "execution_count": null,
      "outputs": [
        {
          "output_type": "stream",
          "text": [
            "44\n"
          ],
          "name": "stdout"
        }
      ]
    },
    {
      "cell_type": "code",
      "metadata": {
        "id": "Z467r8fWwrh9",
        "outputId": "95aa68f4-01c1-4758-99c7-c7498adf3af1"
      },
      "source": [
        "while True :\n",
        "    a = int(input(\"ilk sayı :\"))\n",
        "    b = int(input(\"ikinci sayı :\"))\n",
        "\n",
        "    try:\n",
        "        c = a / b\n",
        "        print(c)\n",
        "        break\n",
        "    except ZeroDivisionError:\n",
        "        print(\"Sıfıra bölünememe kuralını hatırla. İkinci sayıyı sıfır girme lütfen.\")"
      ],
      "execution_count": null,
      "outputs": [
        {
          "output_type": "stream",
          "text": [
            "ilk sayı :6\n",
            "ikinci sayı :0\n",
            "Sıfıra bölünememe kuralını hatırla. İkinci sayıyı sıfır girme lütfen.\n",
            "ilk sayı :8\n",
            "ikinci sayı :4\n",
            "2.0\n"
          ],
          "name": "stdout"
        }
      ]
    },
    {
      "cell_type": "markdown",
      "metadata": {
        "id": "dwCZ0OaBZgao"
      },
      "source": [
        "Full 'Exception Handling Block'"
      ]
    },
    {
      "cell_type": "code",
      "metadata": {
        "colab": {
          "base_uri": "https://localhost:8080/"
        },
        "id": "jisR3-fYbGyY",
        "outputId": "289a1028-d369-48d5-cfd2-0183200b143e"
      },
      "source": [
        "while True:\n",
        "    no_one = int(input(\"The first number please : \"))\n",
        "    no_two = int(input(\"The second number please : \"))\n",
        "    try:\n",
        "        division = no_one / no_two  # normal part of the program\n",
        "    except ZeroDivisionError:\n",
        "        print(\"You can't divide by zero! Try again.\")  # executes when division by zero\n",
        "    else:\n",
        "        print(\"The result of the division is : \", division)  # executes if there is no exception\n",
        "    finally:\n",
        "        print(\"Thanks for using our mini divison calculator! Come again!\")\n",
        "        break  # exits the while loop"
      ],
      "execution_count": null,
      "outputs": [
        {
          "output_type": "stream",
          "text": [
            "The first number please : 10\n",
            "The second number please : 2\n",
            "The result of the division is :  5.0\n",
            "Thanks for using our mini divison calculator! Come again!\n"
          ],
          "name": "stdout"
        }
      ]
    },
    {
      "cell_type": "code",
      "metadata": {
        "colab": {
          "base_uri": "https://localhost:8080/"
        },
        "id": "oJRGeb4qbUBL",
        "outputId": "5a5ddca3-bc1c-4c7e-e735-c087fad8b057"
      },
      "source": [
        "while True:\n",
        "    no_one = int(input(\"The first number please : \"))\n",
        "    no_two = int(input(\"The second number please : \"))\n",
        "    try:\n",
        "        division = no_one / no_two  # normal part of the program\n",
        "    except ZeroDivisionError:\n",
        "        print(\"You can't divide by zero! Try again.\")  # executes when division by zero\n",
        "    else:\n",
        "        print(\"The result of the division is : \", division)  # executes if there is no exception\n",
        "    finally:\n",
        "        print(\"Thanks for using our mini divison calculator! Come again!\")\n",
        "        break  # exits the while loop"
      ],
      "execution_count": null,
      "outputs": [
        {
          "output_type": "stream",
          "text": [
            "The first number please : 10\n",
            "The second number please : 0\n",
            "You can't divide by zero! Try again.\n",
            "Thanks for using our mini divison calculator! Come again!\n"
          ],
          "name": "stdout"
        }
      ]
    },
    {
      "cell_type": "code",
      "metadata": {
        "id": "_zu_Znzrwrh-",
        "outputId": "badcb7ca-d5db-4e65-8cc6-483eadd2a237"
      },
      "source": [
        "#\n",
        "try :\n",
        "    print(\"4\" + 4)\n",
        "except TypeError:\n",
        "    print(\"Type hatası var. Tipi kontrol etsen iyi olur.\")\n",
        "else :\n",
        "    print(\"Aaaa demek ki exception yükselmemiş. MMmm. Super.\")\n",
        "finally:\n",
        "    print(\"Eh nihayet bana sıra geldi. Ben çalıştım.\")"
      ],
      "execution_count": null,
      "outputs": [
        {
          "output_type": "stream",
          "text": [
            "Type hatası var. Tipi kontrol etsen iyi olur.\n",
            "Eh nihayet bana sıra geldi. Ben çalıştım.\n"
          ],
          "name": "stdout"
        }
      ]
    },
    {
      "cell_type": "code",
      "metadata": {
        "id": "TXztcOEawrh_",
        "outputId": "20b0908b-0e99-4b35-b046-48e434acb8e4"
      },
      "source": [
        "try :\n",
        "    print(\"4\" + \"4\")\n",
        "except TypeError:\n",
        "    print(\"Type hatası var. Tipi kontrol etsen iyi olur.\")\n",
        "else :\n",
        "    print(\"Aaaa demek ki exception yükselmemiş. MMmm. Super.\")\n",
        "finally:\n",
        "    print(\"Eh nihayet bana sıra geldi. Ben çalıştım.\")"
      ],
      "execution_count": null,
      "outputs": [
        {
          "output_type": "stream",
          "text": [
            "44\n",
            "Aaaa demek ki exception yükselmemiş. MMmm. Super.\n",
            "Eh nihayet bana sıra geldi. Ben çalıştım.\n"
          ],
          "name": "stdout"
        }
      ]
    },
    {
      "cell_type": "code",
      "metadata": {
        "id": "_3_8RZ0KwriA",
        "outputId": "f3a88433-7d68-48fc-ac26-3885b90c4890"
      },
      "source": [
        "try :\n",
        "    print(\"4\" + 4)\n",
        "except ValueError:\n",
        "    print(\"Type hatası var. Tipi kontrol etsen iyi olur.\")\n",
        "else :\n",
        "    print(\"Aaaa demek ki exception yükselmemiş. MMmm. Super.\")\n",
        "finally:\n",
        "    print(\"Eh nihayet bana sıra geldi. Ben çalıştım.\")"
      ],
      "execution_count": null,
      "outputs": [
        {
          "output_type": "stream",
          "text": [
            "Eh nihayet bana sıra geldi. Ben çalıştım.\n"
          ],
          "name": "stdout"
        },
        {
          "output_type": "error",
          "ename": "TypeError",
          "evalue": "can only concatenate str (not \"int\") to str",
          "traceback": [
            "\u001b[1;31m---------------------------------------------------------------------------\u001b[0m",
            "\u001b[1;31mTypeError\u001b[0m                                 Traceback (most recent call last)",
            "\u001b[1;32m<ipython-input-46-9d2de3020bc7>\u001b[0m in \u001b[0;36m<module>\u001b[1;34m\u001b[0m\n\u001b[0;32m      1\u001b[0m \u001b[1;32mtry\u001b[0m \u001b[1;33m:\u001b[0m\u001b[1;33m\u001b[0m\u001b[1;33m\u001b[0m\u001b[0m\n\u001b[1;32m----> 2\u001b[1;33m     \u001b[0mprint\u001b[0m\u001b[1;33m(\u001b[0m\u001b[1;34m\"4\"\u001b[0m \u001b[1;33m+\u001b[0m \u001b[1;36m4\u001b[0m\u001b[1;33m)\u001b[0m\u001b[1;33m\u001b[0m\u001b[1;33m\u001b[0m\u001b[0m\n\u001b[0m\u001b[0;32m      3\u001b[0m \u001b[1;32mexcept\u001b[0m \u001b[0mValueError\u001b[0m\u001b[1;33m:\u001b[0m\u001b[1;33m\u001b[0m\u001b[1;33m\u001b[0m\u001b[0m\n\u001b[0;32m      4\u001b[0m     \u001b[0mprint\u001b[0m\u001b[1;33m(\u001b[0m\u001b[1;34m\"Type hatası var. Tipi kontrol etsen iyi olur.\"\u001b[0m\u001b[1;33m)\u001b[0m\u001b[1;33m\u001b[0m\u001b[1;33m\u001b[0m\u001b[0m\n\u001b[0;32m      5\u001b[0m \u001b[1;32melse\u001b[0m \u001b[1;33m:\u001b[0m\u001b[1;33m\u001b[0m\u001b[1;33m\u001b[0m\u001b[0m\n",
            "\u001b[1;31mTypeError\u001b[0m: can only concatenate str (not \"int\") to str"
          ]
        }
      ]
    },
    {
      "cell_type": "markdown",
      "metadata": {
        "id": "A9QqqojMcbBE"
      },
      "source": [
        "Implementation of the Full 'Exception Handling Block'-2"
      ]
    },
    {
      "cell_type": "code",
      "metadata": {
        "colab": {
          "base_uri": "https://localhost:8080/"
        },
        "id": "Kopp5fA7cdqw",
        "outputId": "2a023645-ccee-4025-c085-9e39aa63c207"
      },
      "source": [
        "try:\n",
        "    x = 4 / 1\n",
        "except:\n",
        "    print('Something went wrong')\n",
        "else:\n",
        "    print('Nothing went wrong') # istisnalar ortaya çıkmazsa sadece else bloğu döndürürlür."
      ],
      "execution_count": null,
      "outputs": [
        {
          "output_type": "stream",
          "text": [
            "Nothing went wrong\n"
          ],
          "name": "stdout"
        }
      ]
    },
    {
      "cell_type": "code",
      "metadata": {
        "id": "r0Sz9PbswriB",
        "outputId": "fb517adb-bb12-4444-a883-cd3304a268a5"
      },
      "source": [
        "try :\n",
        "    isim = input(\"isminiz :\")\n",
        "    print(a)\n",
        "except Exception as hatam :\n",
        "    print(hatam)\n",
        "    print(type(hatam))"
      ],
      "execution_count": null,
      "outputs": [
        {
          "output_type": "stream",
          "text": [
            "isminiz :mm\n",
            "name 'a' is not defined\n",
            "<class 'NameError'>\n"
          ],
          "name": "stdout"
        }
      ]
    },
    {
      "cell_type": "code",
      "metadata": {
        "colab": {
          "base_uri": "https://localhost:8080/"
        },
        "id": "8zGAZvbsfr7q",
        "outputId": "8344be09-cf5b-43c2-a622-fd3758333e07"
      },
      "source": [
        "try:\n",
        "    x = 2/0\n",
        "except ZeroDivisionError:\n",
        "    print('Attempt to divide by zero')\n",
        "except:\n",
        "    print('Something else went wrong')"
      ],
      "execution_count": null,
      "outputs": [
        {
          "output_type": "stream",
          "text": [
            "Attempt to divide by zero\n"
          ],
          "name": "stdout"
        }
      ]
    },
    {
      "cell_type": "code",
      "metadata": {
        "id": "YM7dU6GtftmX"
      },
      "source": [
        "except ZeroDivisionError: # except blokları için hiyerarşi örneği\n",
        "   print(\"You can't divide by zero!!\")\n",
        "except ValueError:\n",
        "   print(\"You can only enter numbers consisting of digits, not text!!\")"
      ],
      "execution_count": null,
      "outputs": []
    },
    {
      "cell_type": "code",
      "metadata": {
        "id": "4FeFvD4dgf7g"
      },
      "source": [
        "# except blokları için hiyerarşi örneği\n",
        "except (ValueError, TypeError):\n",
        "    print(\"You can only enter numbers consisting of digits, not text!!\")"
      ],
      "execution_count": null,
      "outputs": []
    },
    {
      "cell_type": "code",
      "metadata": {
        "id": "2mWxrxLGgkGS"
      },
      "source": [
        "# except blokları için hiyerarşi örneği\n",
        "....\n",
        "except ArithmeticError:\n",
        "    print(\"I will also catch OverflowError, FloatingPointError and ZeroDivisionError\")"
      ],
      "execution_count": null,
      "outputs": []
    },
    {
      "cell_type": "code",
      "metadata": {
        "id": "6d5qwFROiU1O"
      },
      "source": [
        "fruits = [\"banana\", \"mango\", \"pear\", \"apple\", \"kiwi\", \"grape\"]"
      ],
      "execution_count": null,
      "outputs": []
    },
    {
      "cell_type": "code",
      "metadata": {
        "id": "E6swSyz-iU1P",
        "colab": {
          "base_uri": "https://localhost:8080/"
        },
        "outputId": "be3b88c2-6f47-4263-9801-1713c9772d05"
      },
      "source": [
        "while True :\n",
        "\n",
        "    try :\n",
        "        index = int(input(\"Favori meyve indexini girer misin? : \"))\n",
        "        print(\"Benim favori meyvem {}'dir.\".format(fruits[index]))\n",
        "        break\n",
        "\n",
        "    except IndexError :\n",
        "        print(\"Böyle bir index bulunmamaktadır. Lütfen doğru giriş yapınız.\")\n",
        "\n",
        "    except ValueError :\n",
        "        print(\"Integer yani numeric bir değer giriniz. Tekrar deneyin.\")"
      ],
      "execution_count": null,
      "outputs": [
        {
          "output_type": "stream",
          "text": [
            "Favori meyve indexini girer misin? : 7\n",
            "Böyle bir index bulunmamaktadır. Lütfen doğru giriş yapınız.\n",
            "Favori meyve indexini girer misin? : iki\n",
            "Integer yani numeric bir değer giriniz. Tekrar deneyin.\n",
            "Favori meyve indexini girer misin? : 1\n",
            "Benim favori meyvem mango'dir.\n"
          ],
          "name": "stdout"
        }
      ]
    },
    {
      "cell_type": "code",
      "metadata": {
        "id": "7lOAf7fPiU1R",
        "colab": {
          "base_uri": "https://localhost:8080/"
        },
        "outputId": "586247ca-3576-4432-ad0d-d01f1fe46edc"
      },
      "source": [
        "count = 3\n",
        "\n",
        "while count > 0 :\n",
        "\n",
        "    try :\n",
        "        index = int(input(\"Favori meyve indexini girer misin? : \"))\n",
        "        print(\"Benim favori meyvem {}'dir.\".format(fruits[index]))\n",
        "\n",
        "    except IndexError :\n",
        "        count -= 1\n",
        "        print(f\"Böyle bir index bulunmamaktadır. {count} adet giriş hakkınız kaldı. Lütfen doğru giriş yapınız.\")\n",
        "\n",
        "    except ValueError :\n",
        "        count -= 1\n",
        "        print(f\"Integer yani numeric bir değer giriniz. {count} adet giriş hakkınız kaldı. Tekrar deneyin.\")\n",
        "\n",
        "    else :\n",
        "        print(\"Tebrikler.. Doğru giriş yaptınız.\")\n",
        "        break\n",
        "\n",
        "    finally :\n",
        "        print(\"Meyvelerim tazedir. Afiyet ossun.\")"
      ],
      "execution_count": null,
      "outputs": [
        {
          "output_type": "stream",
          "text": [
            "Favori meyve indexini girer misin? : 8\n",
            "Böyle bir index bulunmamaktadır. 2 adet giriş hakkınız kaldı. Lütfen doğru giriş yapınız.\n",
            "Meyvelerim tazedir. Afiyet ossun.\n",
            "Favori meyve indexini girer misin? : iki\n",
            "Integer yani numeric bir değer giriniz. 1 adet giriş hakkınız kaldı. Tekrar deneyin.\n",
            "Meyvelerim tazedir. Afiyet ossun.\n",
            "Favori meyve indexini girer misin? : 0\n",
            "Benim favori meyvem banana'dir.\n",
            "Tebrikler.. Doğru giriş yaptınız.\n",
            "Meyvelerim tazedir. Afiyet ossun.\n"
          ],
          "name": "stdout"
        }
      ]
    },
    {
      "cell_type": "markdown",
      "metadata": {
        "id": "RxWTp1Du55HA"
      },
      "source": [
        "open() FUNCTİON"
      ]
    },
    {
      "cell_type": "code",
      "metadata": {
        "id": "Vau-iimlB7Ya"
      },
      "source": [
        "# open (file, mode='r', buffering=-1, encoding=None, errors=None, newline=None, closefd=True, opener=None)\n",
        "# file: dosya derken text dosyaları kastedilir. .txt , .csv , .json , .conll uzantılı dosyalar olabilir.\n",
        "# encoding\n",
        "# mode:\n",
        "#  open(\"file_name_and_path\") yazdığımızda açmak istediğimiz dosyayı otomatik açabiliriz. Yani dosya adı ve dosya yolu yazılacak.\n",
        "\n",
        "\n",
        "my_file = open(\"first_file.txt\")  # this syntax opens a 'txt' file\n",
        "\n",
        "print(type(my_file))\n",
        "#  <class '_io.TextIOWrapper'> tipine baktığımızda soldaki şekildeki gibi bir obje üretiriz.\n",
        "#  Bu obje üzerinde kullanılabilecek bir sürü metod vardır.\n",
        "# my_file = open(\"first_file.txt\", encoding=\"utf-8\") utf-8 kullanımına dikkat\n",
        "\n"
      ],
      "execution_count": null,
      "outputs": []
    },
    {
      "cell_type": "code",
      "metadata": {
        "id": "qEkgx37nF0Z9"
      },
      "source": [
        "open()\n",
        "#  mode parameter: Character Meaning\n",
        "\n",
        "'r'       open for reading (default) # reading; mevcut bir dosyayı okumamıza yarar\n",
        "'w'       open for writing, truncating the file first # Dosyayı yazdırmamıza yarar ama üstüne yazıldığı veriyi siler\n",
        "'x'       create a new file and open it for writing\n",
        "'a'       open for writing, appending to the end of the file if it exists  # dosyayı yazdırmamıza yarar\n",
        "'b'       binary mode\n",
        "'t'       text mode (default)\n",
        "'+'       open a disk file for updating (reading and writing)\n",
        "# en önemlileri yukarıdaki 3 mode dur. bunların dışındakileri şimdilik bilmeye gerek yoktur."
      ],
      "execution_count": null,
      "outputs": []
    },
    {
      "cell_type": "code",
      "metadata": {
        "id": "8gK9qLBSiU1S",
        "colab": {
          "base_uri": "https://localhost:8080/",
          "height": 35
        },
        "outputId": "c10aa771-05fa-465f-8ac0-e06450a3396c"
      },
      "source": [
        "pwd"
      ],
      "execution_count": null,
      "outputs": [
        {
          "output_type": "execute_result",
          "data": {
            "application/vnd.google.colaboratory.intrinsic+json": {
              "type": "string"
            },
            "text/plain": [
              "'/content'"
            ]
          },
          "metadata": {
            "tags": []
          },
          "execution_count": 16
        }
      ]
    },
    {
      "cell_type": "code",
      "metadata": {
        "id": "O4tIIH_eiU1T",
        "colab": {
          "base_uri": "https://localhost:8080/"
        },
        "outputId": "683135f3-c9a4-4148-e6be-44bb11e044c6"
      },
      "source": [
        "sea = open(\"/content/sample_data/fishes.txt\", \"r\")\n",
        "\n",
        "print(sea.read()) # sea.txt adlı dosyamızı okuduk\n",
        "\n",
        "sea.close() # sea.txt adlı dosyamızı şimdi kapatıyoruz."
      ],
      "execution_count": null,
      "outputs": [
        {
          "output_type": "stream",
          "text": [
            "Orca is a kind of Dolphin.\n",
            "Blue Whale is the largest animal known on earth.\n",
            "Sharks are the sister group to the Rays (batoids).\n",
            "The Tuna Fish can weigh up to 260 kg.\n",
            "Squid and Octopus are in the same class.\n"
          ],
          "name": "stdout"
        }
      ]
    },
    {
      "cell_type": "code",
      "metadata": {
        "id": "i2lSxMeDiU1T",
        "colab": {
          "base_uri": "https://localhost:8080/"
        },
        "outputId": "fede9bb2-f890-4b20-f316-3bbed3b467b9"
      },
      "source": [
        "sea = open(\"/content/sample_data/fishes.txt\", \"r\")\n",
        "\n",
        "print(sea.read(33))\n",
        "\n",
        "sea.close()"
      ],
      "execution_count": null,
      "outputs": [
        {
          "output_type": "stream",
          "text": [
            "Orca is a kind of Dolphin.\n",
            "Blue W\n"
          ],
          "name": "stdout"
        }
      ]
    },
    {
      "cell_type": "code",
      "metadata": {
        "id": "LPIUB7s1iU1U",
        "colab": {
          "base_uri": "https://localhost:8080/"
        },
        "outputId": "3c5bbe4a-dafd-41f8-cc50-056a7511e666"
      },
      "source": [
        "sea = open(\"/content/sample_data/fishes.txt\", \"r\")\n",
        "\n",
        "print(sea.read(33)) # her satır sonundaki \\n da bir karakter olarak değerlendiriliyor.\n",
        "print(sea.read(33)) # ilk otuzüç karakteri okur sonra cursor'ın kaldığı yerden devam ederek yeni bir 33 karakter okur.\n",
        "\n",
        "sea.close()"
      ],
      "execution_count": null,
      "outputs": [
        {
          "output_type": "stream",
          "text": [
            "Orca is a kind of Dolphin.\n",
            "Blue W\n",
            "hale is the largest animal known \n"
          ],
          "name": "stdout"
        }
      ]
    },
    {
      "cell_type": "code",
      "metadata": {
        "id": "O8saKxDIiU1V",
        "colab": {
          "base_uri": "https://localhost:8080/"
        },
        "outputId": "4149b74f-e788-4ec0-ab7f-5a08187aa82e"
      },
      "source": [
        "sea = open(\"/content/sample_data/fishes.txt\", \"r\")\n",
        "\n",
        "print(sea.read(33))\n",
        "print(sea.read(33))\n",
        "sea.seek(0)  # .seek() methodu cursor'ı istediğimiz yere götürmemizi sağlar. 0 olduğu için en başa getirecek.\n",
        "print(sea.read(33))\n",
        "\n",
        "sea.close()"
      ],
      "execution_count": null,
      "outputs": [
        {
          "output_type": "stream",
          "text": [
            "Orca is a kind of Dolphin.\n",
            "Blue W\n",
            "hale is the largest animal known \n",
            "Orca is a kind of Dolphin.\n",
            "Blue W\n"
          ],
          "name": "stdout"
        }
      ]
    },
    {
      "cell_type": "code",
      "metadata": {
        "id": "LTxsRQ6wiU1V",
        "colab": {
          "base_uri": "https://localhost:8080/"
        },
        "outputId": "2b43b52a-8261-4dfe-b5d2-803d1d54e93c"
      },
      "source": [
        "sea = open(\"/content/sample_data/fishes.txt\", \"r\")\n",
        "\n",
        "print(sea.read(33))\n",
        "print(sea.read(33))\n",
        "sea.seek(0)\n",
        "print(sea.read(33))\n",
        "print(sea.tell()) # .tell() metodu cursor'ımızın nerede kaldığı söyler bize.\n",
        "\n",
        "sea.close()"
      ],
      "execution_count": null,
      "outputs": [
        {
          "output_type": "stream",
          "text": [
            "Orca is a kind of Dolphin.\n",
            "Blue W\n",
            "hale is the largest animal known \n",
            "Orca is a kind of Dolphin.\n",
            "Blue W\n",
            "34\n"
          ],
          "name": "stdout"
        }
      ]
    },
    {
      "cell_type": "code",
      "metadata": {
        "id": "Hx8zbcw-iU1W",
        "colab": {
          "base_uri": "https://localhost:8080/"
        },
        "outputId": "2340e062-a16e-4562-d399-3b720683df4b"
      },
      "source": [
        "rumi = open(\"/content/sample_data/rumi.txt\", \"r\")\n",
        "\n",
        "print(rumi.read(35))\n",
        "print(rumi.read(13))\n",
        "print(rumi.tell())\n",
        "rumi.seek(15)\n",
        "print(rumi.read(22))\n",
        "\n",
        "\n",
        "rumi.close()"
      ],
      "execution_count": null,
      "outputs": [
        {
          "output_type": "stream",
          "text": [
            "I want to sing.\n",
            "Likte the birds sin\n",
            "g,\n",
            "Not worryi\n",
            "50\n",
            "\n",
            "Likte the birds sing,\n"
          ],
          "name": "stdout"
        }
      ]
    },
    {
      "cell_type": "code",
      "metadata": {
        "id": "IdyeiMS8iU1W",
        "colab": {
          "base_uri": "https://localhost:8080/"
        },
        "outputId": "c2dbbe7a-b1fb-4a9e-fd2b-b9cc9cbfd9a3"
      },
      "source": [
        "sea = open(\"/content/sample_data/fishes.txt\", \"r\")\n",
        "\n",
        "print(sea.readline()) # readline satır okur ve her satırdan sonra bir enter vurur.\n",
        "\n",
        "sea.close()"
      ],
      "execution_count": null,
      "outputs": [
        {
          "output_type": "stream",
          "text": [
            "Orca is a kind of Dolphin.\n",
            "\n"
          ],
          "name": "stdout"
        }
      ]
    },
    {
      "cell_type": "code",
      "metadata": {
        "id": "LFMu-AACiU1X",
        "colab": {
          "base_uri": "https://localhost:8080/"
        },
        "outputId": "d3620868-c38c-493a-9db0-332c2ad3976d"
      },
      "source": [
        "sea = open(\"/content/sample_data/fishes.txt\", \"r\")\n",
        "\n",
        "print(sea.readline()) # Satırı okuduktan sonra enter vurduğu için her satır arasında bir satır boşluk var.\n",
        "print(sea.readline()) # cursor'ın kaldığı yerden devam eder.\n",
        "print(sea.readline())\n",
        "print(sea.readline())\n",
        "\n",
        "sea.close()"
      ],
      "execution_count": null,
      "outputs": [
        {
          "output_type": "stream",
          "text": [
            "Orca is a kind of Dolphin.\n",
            "\n",
            "Blue Whale is the largest animal known on earth.\n",
            "\n",
            "Sharks are the sister group to the Rays (batoids).\n",
            "\n",
            "The Tuna Fish can weigh up to 260 kg.\n",
            "\n"
          ],
          "name": "stdout"
        }
      ]
    },
    {
      "cell_type": "code",
      "metadata": {
        "id": "HwaBI-XyiU1Y",
        "colab": {
          "base_uri": "https://localhost:8080/"
        },
        "outputId": "dded952c-f957-4baf-8da6-439a0ed1021a"
      },
      "source": [
        "sea = open(\"/content/sample_data/fishes.txt\", \"r\")\n",
        "\n",
        "print(sea.readline(13))\n",
        "print(sea.readline(13))\n",
        "print(sea.readline(13))\n",
        "print(sea.readline(13))\n",
        "\n",
        "sea.close()"
      ],
      "execution_count": null,
      "outputs": [
        {
          "output_type": "stream",
          "text": [
            "Orca is a kin\n",
            "d of Dolphin.\n",
            "\n",
            "\n",
            "Blue Whale is\n"
          ],
          "name": "stdout"
        }
      ]
    },
    {
      "cell_type": "code",
      "metadata": {
        "colab": {
          "base_uri": "https://localhost:8080/"
        },
        "id": "QhmRQvqJVl53",
        "outputId": "424375b4-7844-4602-f558-221656f27a9f"
      },
      "source": [
        "sea = open(\"/content/sample_data/fishes.txt\", \"r\")\n",
        "\n",
        "print(sea.readline(13))\n",
        "print(sea.readline(13))\n",
        "print(sea.readline())\n",
        "print(sea.readline(13))\n",
        "\n",
        "sea.close()"
      ],
      "execution_count": null,
      "outputs": [
        {
          "output_type": "stream",
          "text": [
            "Orca is a kin\n",
            "d of Dolphin.\n",
            "\n",
            "\n",
            "Blue Whale is\n"
          ],
          "name": "stdout"
        }
      ]
    },
    {
      "cell_type": "code",
      "metadata": {
        "id": "KErNPrUMiU1Y",
        "colab": {
          "base_uri": "https://localhost:8080/"
        },
        "outputId": "0ade4b7e-32b2-466c-db38-717b14765641"
      },
      "source": [
        "rumi = open(\"/content/sample_data/rumi.txt\", \"r\")\n",
        "\n",
        "print(rumi.readline())\n",
        "print(rumi.readline())\n",
        "print(rumi.readline(19))    #  .readline() içine de size parametresi yazılabilir.\n",
        "                            # Bu nedenle 3. satırda 19 karakter okudu ve enter vurmadı.\n",
        "rumi.close()"
      ],
      "execution_count": null,
      "outputs": [
        {
          "output_type": "stream",
          "text": [
            "I want to sing.\n",
            "\n",
            "Likte the birds sing,\n",
            "\n",
            "Not worrying about\n",
            "\n"
          ],
          "name": "stdout"
        }
      ]
    },
    {
      "cell_type": "code",
      "metadata": {
        "id": "WZ_-z3Q3iU1Z",
        "outputId": "312f21d8-5265-4eb6-e91a-4473c8919585"
      },
      "source": [
        "rumi = open(\"/content/sample_data/rumi.txt\", \"r\")\n",
        "\n",
        "for line in rumi:\n",
        "    print(line)\n",
        "\n",
        "rumi.close()"
      ],
      "execution_count": null,
      "outputs": [
        {
          "output_type": "stream",
          "text": [
            "I want to sing\n",
            "\n",
            "Like the birds sing,\n",
            "\n",
            "Not worrying about\n",
            "\n",
            "Who hears or\n",
            "\n",
            "What they think.\n"
          ],
          "name": "stdout"
        }
      ]
    },
    {
      "cell_type": "code",
      "metadata": {
        "id": "rhCm5oRmiU1Z",
        "colab": {
          "base_uri": "https://localhost:8080/"
        },
        "outputId": "441d6186-514b-4bb2-f10f-73d660eb9acf"
      },
      "source": [
        "rumi = open(\"/content/sample_data/rumi.txt\", \"r\")\n",
        "\n",
        "for line in rumi.readlines(): # readlines() metodu tüm satırları liste içinde toplar.\n",
        "    print(line)\n",
        "print() # tipini görmek için bu iki satırı ben ekledim.\n",
        "print(type(rumi.readlines()))\n",
        "rumi.close()"
      ],
      "execution_count": null,
      "outputs": [
        {
          "output_type": "stream",
          "text": [
            "I want to sing.\n",
            "\n",
            "Likte the birds sing,\n",
            "\n",
            "Not worrying about\n",
            "\n",
            "Who hears or\n",
            "\n",
            "What they think.\n",
            "\n",
            "<class 'list'>\n"
          ],
          "name": "stdout"
        }
      ]
    },
    {
      "cell_type": "code",
      "metadata": {
        "id": "OqhmeUgwaUoO"
      },
      "source": [
        "# with open(\"fishes.txt\", \"r\") as sea:\n",
        "#     print(sea.read())\n",
        "# needs indented code block. Bu şekilde dosyayı komple okutup kapatabilirim."
      ],
      "execution_count": null,
      "outputs": []
    },
    {
      "cell_type": "code",
      "metadata": {
        "id": "GEiwYgBGiU1a",
        "colab": {
          "base_uri": "https://localhost:8080/"
        },
        "outputId": "471aac32-7a95-4568-c249-0c15a003c67f"
      },
      "source": [
        "with open(\"/content/sample_data/fishes.txt\", \"r\") as sea :\n",
        "    print(sea.read())"
      ],
      "execution_count": null,
      "outputs": [
        {
          "output_type": "stream",
          "text": [
            "Orca is a kind of Dolphin.\n",
            "Blue Whale is the largest animal known on earth.\n",
            "Sharks are the sister group to the Rays (batoids).\n",
            "The Tuna Fish can weigh up to 260 kg.\n",
            "Squid and Octopus are in the same class.\n"
          ],
          "name": "stdout"
        }
      ]
    },
    {
      "cell_type": "code",
      "metadata": {
        "id": "HOL9Nn21iU1a",
        "colab": {
          "base_uri": "https://localhost:8080/"
        },
        "outputId": "ade230f7-5e28-4798-cff3-e8fe7d95ff29"
      },
      "source": [
        "with open(\"/content/sample_data/fishes.txt\", \"r\") as sea :\n",
        "    print(sea.read(33))\n",
        "    print(sea.read(33))\n",
        "    sea.seek(0)\n",
        "    print(sea.read(33))\n",
        "    print(sea.tell())"
      ],
      "execution_count": null,
      "outputs": [
        {
          "output_type": "stream",
          "text": [
            "Orca is a kind of Dolphin.\n",
            "Blue W\n",
            "hale is the largest animal known \n",
            "Orca is a kind of Dolphin.\n",
            "Blue W\n",
            "34\n"
          ],
          "name": "stdout"
        }
      ]
    },
    {
      "cell_type": "markdown",
      "metadata": {
        "id": "Q8lZJX6xlKRH"
      },
      "source": [
        "\"w\" writing or \"a\" mode"
      ]
    },
    {
      "cell_type": "code",
      "metadata": {
        "id": "UcNU4bpniU1b"
      },
      "source": [
        "#  \"w\" ile yazmak için bir dosya oluşturulur ve dosya_adı.write() metoduyla da\n",
        "#  oluşturulan bu dosyaya text yazılır. ancak bu her seferinde üzerine yzar ve öncekini siler.\n",
        "# 'w' modunu her kullandığımızda dosyanın içeriği silinir ve yeni içerik yazılır.\n",
        "# Herhangi bir dosya yoksa otomatik olarak oluşturulur.\n",
        "with open(\"benim_ilk_dosyam.txt\", \"w\", encoding = \"utf-8\") as dosyam :\n",
        "    dosyam.write(\"bu benim ilk satırım.\")"
      ],
      "execution_count": null,
      "outputs": []
    },
    {
      "cell_type": "code",
      "metadata": {
        "id": "xD_Z7z6BiU1b",
        "colab": {
          "base_uri": "https://localhost:8080/"
        },
        "outputId": "b2d00f12-c7cd-4a8a-e4a4-1a91382f5370"
      },
      "source": [
        "with open(\"benim_ilk_dosyam.txt\", \"r\", encoding = \"utf-8\") as dosyam : # as : file-like object\n",
        "    print(dosyam.read())"
      ],
      "execution_count": null,
      "outputs": [
        {
          "output_type": "stream",
          "text": [
            "bu benim ilk satırım. amma aslında ikinci satırım.\n",
            "\n"
          ],
          "name": "stdout"
        }
      ]
    },
    {
      "cell_type": "code",
      "metadata": {
        "id": "DifpSZA2iU1b"
      },
      "source": [
        "with open(\"benim_ilk_dosyam.txt\", \"w\", encoding = \"utf-8\") as dosyam :\n",
        "    dosyam.write(\"bu benim ilk satırım. amma aslında ikinci satırım.\\n\")"
      ],
      "execution_count": null,
      "outputs": []
    },
    {
      "cell_type": "code",
      "metadata": {
        "id": "kzGyPLhgiU1c"
      },
      "source": [
        "with open(\"benim_ilk_dosyam.txt\", \"w\", encoding = \"utf-8\") as dosyam :\n",
        "    dosyam.write(\"bu benim ilk satırım.\\namma aslında ikinci satırım.\\nBu da benim üçüncü satırım.\")"
      ],
      "execution_count": null,
      "outputs": []
    },
    {
      "cell_type": "code",
      "metadata": {
        "colab": {
          "base_uri": "https://localhost:8080/"
        },
        "id": "qUk6fLYmpNud",
        "outputId": "93ecafcb-d966-446a-86a2-384108d33354"
      },
      "source": [
        "with open(\"dummy_file.txt\", 'w', encoding=\"utf-8\") as file:\n",
        "# we create and open the file\n",
        "\n",
        "    file.write('This is the first line of my text file')\n",
        "    # writes str data into file\n",
        "\n",
        "with open(\"dummy_file.txt\", 'r', encoding=\"utf-8\") as file:\n",
        "    print(file.read())  # reads the content of the 'dummy_file'"
      ],
      "execution_count": null,
      "outputs": [
        {
          "output_type": "stream",
          "text": [
            "This is the first line of my text file\n"
          ],
          "name": "stdout"
        }
      ]
    },
    {
      "cell_type": "code",
      "metadata": {
        "colab": {
          "base_uri": "https://localhost:8080/"
        },
        "id": "z8L2S63IpPqz",
        "outputId": "4021eb09-cccf-403e-f07d-c96c125b4000"
      },
      "source": [
        "with open(\"dummy_file.txt\", 'w', encoding=\"utf-8\") as file:\n",
        "    file.write('This is the new line for my dummy_file')\n",
        "    # we write new str data into it\n",
        "\n",
        "with open(\"dummy_file.txt\", 'r', encoding=\"utf-8\") as file:\n",
        "    print(file.read())  # reads the content of the 'dummy_file'"
      ],
      "execution_count": null,
      "outputs": [
        {
          "output_type": "stream",
          "text": [
            "This is the new line for my dummy_file\n"
          ],
          "name": "stdout"
        }
      ]
    },
    {
      "cell_type": "code",
      "metadata": {
        "colab": {
          "base_uri": "https://localhost:8080/"
        },
        "id": "ne1j48BVnLjX",
        "outputId": "2e906f32-b39a-4a0e-ed77-e7da9a928c73"
      },
      "source": [
        "with open(\"dummy_file.txt\", 'w', encoding=\"utf-8\") as file:\n",
        "    file.write('My first sentence')\n",
        "    file.write('My second sentence,')\n",
        "    file.write('My third sentence\\n')\n",
        "    file.write('My fourth sentence ')\n",
        "    file.write('My last sentence')\n",
        "\n",
        "with open(\"dummy_file.txt\", 'r', encoding=\"utf-8\") as file:\n",
        "    print(file.read())"
      ],
      "execution_count": null,
      "outputs": [
        {
          "output_type": "stream",
          "text": [
            "My first sentenceMy second sentence,My third sentence\n",
            "My fourth sentence My last sentence\n"
          ],
          "name": "stdout"
        }
      ]
    },
    {
      "cell_type": "code",
      "metadata": {
        "colab": {
          "base_uri": "https://localhost:8080/"
        },
        "id": "hFV8GagvpzB7",
        "outputId": "1e888198-7ee2-4d1e-e213-f9c07007fb84"
      },
      "source": [
        "fruits = ['Banana', 'Orange', 'Apple', 'Strawberry', 'Cherry']\n",
        "\n",
        "with open(\"fruits.txt\", 'w', encoding=\"utf-8\") as file:\n",
        "    for basket in fruits:\n",
        "        file.write(basket + '\\n')  # adds a newline character to each string\n",
        "\n",
        "with open(\"fruits.txt\", 'r', encoding=\"utf-8\") as file:\n",
        "    print(file.read())\n",
        "\n",
        "with open(\"fruits.txt\", 'r', encoding=\"utf-8\") as file:\n",
        "    print(file.readlines())  # reads and displays entire lines in a list"
      ],
      "execution_count": null,
      "outputs": [
        {
          "output_type": "stream",
          "text": [
            "Banana\n",
            "Orange\n",
            "Apple\n",
            "Strawberry\n",
            "Cherry\n",
            "\n",
            "['Banana\\n', 'Orange\\n', 'Apple\\n', 'Strawberry\\n', 'Cherry\\n']\n"
          ],
          "name": "stdout"
        }
      ]
    },
    {
      "cell_type": "code",
      "metadata": {
        "colab": {
          "base_uri": "https://localhost:8080/"
        },
        "id": "zgSOuieOq57R",
        "outputId": "a3618e42-2a98-4c17-f109-75b479544fa7"
      },
      "source": [
        "# .writelines() Method :\n",
        "\n",
        "fruits = ['Banana\\n', 'Orange\\n', 'Apple\\n', 'Strawberry\\n', 'Cherry\\n']\n",
        "\n",
        "with open(\"fruits.txt\", 'w', encoding=\"utf-8\") as file:\n",
        "    file.writelines(fruits)  # takes an iterator for writing\n",
        "\n",
        "with open(\"fruits.txt\", 'r', encoding=\"utf-8\") as file:\n",
        "    print(file.read())\n",
        "\n",
        "with open(\"fruits.txt\", 'r', encoding=\"utf-8\") as file:\n",
        "    print(file.readlines())"
      ],
      "execution_count": null,
      "outputs": [
        {
          "output_type": "stream",
          "text": [
            "Banana\n",
            "Orange\n",
            "Apple\n",
            "Strawberry\n",
            "Cherry\n",
            "\n",
            "['Banana\\n', 'Orange\\n', 'Apple\\n', 'Strawberry\\n', 'Cherry\\n']\n"
          ],
          "name": "stdout"
        }
      ]
    },
    {
      "cell_type": "code",
      "metadata": {
        "colab": {
          "base_uri": "https://localhost:8080/"
        },
        "id": "6BReJimHX8xE",
        "outputId": "2b4666b3-c001-4e52-e57d-ecc319c25530"
      },
      "source": [
        "flowers = ['Jasmine\\n\\n', 'Rose\\n\\n', 'Lily\\n\\n', 'Daisy\\n\\n', 'Tulip']\n",
        "\n",
        "with open(\"flowers.txt\", 'w', encoding=\"utf-8\") as file:\n",
        "    file.writelines(flowers)  # takes an iterator for writing\n",
        "\n",
        "with open(\"flowers.txt\", 'r', encoding=\"utf-8\") as file:\n",
        "    print(file.read())\n",
        "\n"
      ],
      "execution_count": null,
      "outputs": [
        {
          "output_type": "stream",
          "text": [
            "Jasmine\n",
            "\n",
            "Rose\n",
            "\n",
            "Lily\n",
            "\n",
            "Daisy\n",
            "\n",
            "Tulip\n"
          ],
          "name": "stdout"
        }
      ]
    },
    {
      "cell_type": "code",
      "metadata": {
        "colab": {
          "base_uri": "https://localhost:8080/"
        },
        "id": "OLREOlTuZSfD",
        "outputId": "54c0baa0-0c20-446b-e9e5-2512f6330ee7"
      },
      "source": [
        "flowers = ['Jasmine\\n', 'Rose\\n', 'Lily\\n', 'Daisy\\n', 'Tulip\\n']\n",
        "\n",
        "with open(\"flowers.txt\", 'w', encoding=\"utf-8\") as file:\n",
        "    file.writelines(flowers)  # takes an iterator for writing, liste aldı\n",
        "\n",
        "with open(\"flowers.txt\", 'r', encoding=\"utf-8\") as file:\n",
        "    print(file.read())"
      ],
      "execution_count": null,
      "outputs": [
        {
          "output_type": "stream",
          "text": [
            "Jasmine\n",
            "Rose\n",
            "Lily\n",
            "Daisy\n",
            "Tulip\n",
            "\n"
          ],
          "name": "stdout"
        }
      ]
    },
    {
      "cell_type": "markdown",
      "metadata": {
        "id": "OmVJdxXfa10z"
      },
      "source": [
        "\"a\" append anlamına gelir. yazılanın üstüne ekleyerek yazar"
      ]
    },
    {
      "cell_type": "code",
      "metadata": {
        "colab": {
          "base_uri": "https://localhost:8080/"
        },
        "id": "GW0VDK7ea0Ae",
        "outputId": "2470570b-915d-4654-cf8a-d8e09ade0242"
      },
      "source": [
        "fruits = ['Banana', 'Orange', 'Apple', 'Strawberry', 'Cherry']\n",
        "\n",
        "with open(\"fruits.txt\", 'a', encoding=\"utf-8\") as file:\n",
        "        file.write(\"Melon\")  # adds a newline character to each string\n",
        "\n",
        "with open(\"fruits.txt\", 'r', encoding=\"utf-8\") as file:\n",
        "    meyveler = print(file.read().title())\n",
        "\n"
      ],
      "execution_count": null,
      "outputs": [
        {
          "output_type": "stream",
          "text": [
            "Banana\n",
            "Orange\n",
            "Apple\n",
            "Strawberry\n",
            "Cherry\n",
            "Melonmelonmelonmelonmelonmelonmelonmelon\n"
          ],
          "name": "stdout"
        }
      ]
    }
  ]
}