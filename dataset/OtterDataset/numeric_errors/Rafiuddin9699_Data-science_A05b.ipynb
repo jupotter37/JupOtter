{
 "cells": [
  {
   "cell_type": "code",
   "execution_count": null,
   "id": "7b1e7350-f72f-4168-b6cd-a21bc55153ac",
   "metadata": {},
   "outputs": [],
   "source": [
    "Q1. Explain why we have to use the Exception class while creating a Custom Exception.\n",
    "Note: Here Exception class refers to the base class for all the exceptions.\n",
    "A1. In Python, when creating a custom exception, it is recommended to inherit from the Exception class or one of its subclasses.\n",
    "The Exception class serves as the base class for all built-in exceptions in Python.\n",
    "Here's why it's a good idea to use the Exception class as the base class for custom exceptions:\n",
    "    1. Consistency\n",
    "    2. Compatibility\n",
    "    3. standardization\n",
    "    4. Error Handling\n",
    "    5. Documentation\n",
    "    "
   ]
  },
  {
   "cell_type": "code",
   "execution_count": null,
   "id": "2ae559e3-e3cb-4a3f-92fb-e9c7c5be2527",
   "metadata": {},
   "outputs": [],
   "source": [
    "Q2. Write a python program to print Python Exception Hierarchy.\n",
    "A2. def print_exception_hierarchy(exception_class, indent=0):\n",
    "        print (\" \" * indent + str(exception_class.__name__))\n",
    "        for subclass in exception_class.__subclass__():\n",
    "            print_exception_hierarchy(subclass, indent=4)\n",
    "            print_exception_hierarchy(Exception)"
   ]
  },
  {
   "cell_type": "code",
   "execution_count": 3,
   "id": "95ec0c3b-727a-4b24-9542-a7bccdc0737d",
   "metadata": {},
   "outputs": [],
   "source": [
    "Q3. What errors are defined in the ArithmeticError class? Explain any two with an example.\n",
    "A3. The ArithmeticError class in Python represents errors that occur during arithmetic operations. It serves as the base class for various arithmetic-related exception classes. Two commonly encountered errors defined in the \n",
    "ArithmeticError class are ZeroDivisionError and OverflowError.\n",
    "1.ZeroDivisionError:\n",
    "\n",
    "This error occurs when attempting to divide a number by zero.\n",
    "Example:\n",
    "try:\n",
    "    result = 10 / 0  # Division by zero\n",
    "except ZeroDivisionError:\n",
    "    print(\"Error: Division by zero\")\n",
    "\n",
    "2.OverflowError:\n",
    "\n",
    "This error occurs when the result of an arithmetic operation exceeds the maximum representable value for a numeric type.\n",
    "Example:\n",
    "\n",
    "import sys\n",
    "\n",
    "try:\n",
    "    large_number = sys.maxsize\n",
    "    result = large_number * 2  # Attempting to exceed maximum integer value\n",
    "except OverflowError:\n",
    "    print(\"Error: Arithmetic operation resulted in overflow\")\n"
   ]
  },
  {
   "cell_type": "code",
   "execution_count": null,
   "id": "b55456f2-64cd-4293-bbce-0897ca60f016",
   "metadata": {},
   "outputs": [],
   "source": [
    "Q4. Why LookupError class is used? Explain with an example KeyError and IndexError.\n",
    "A4.  The LookupError class in Python is used to handle errors related to looking up or accessing elements in collections such as lists, dictionaries, and tuples. It serves as the base class for several exception classes that represent lookup-related errors, including KeyError and IndexError\n",
    "1. KeyError:\n",
    "\n",
    "This error occurs when attempting to access a key that does not exist in a dictionary.\n",
    "Example:\n",
    "python\n",
    "Copy code\n",
    "my_dict = {'a': 1, 'b': 2, 'c': 3}\n",
    "try:\n",
    "    value = my_dict['d']  # Attempting to access a non-existent key\n",
    "except KeyError:\n",
    "    print(\"Error: Key does not exist in the dictionary\")\n",
    "\n",
    "2. IndexError:\n",
    "\n",
    "This error occurs when attempting to access an index that is out of range in a sequence such as a list or tuple.\n",
    "Example:\n",
    "\n",
    "my_list = [1, 2, 3]\n",
    "try:\n",
    "    value = my_list[3]  # Attempting to access an index beyond the length of the list\n",
    "except IndexError:\n",
    "    print(\"Error: Index is out of range\")"
   ]
  },
  {
   "cell_type": "code",
   "execution_count": null,
   "id": "e52f15c9-e434-4aa4-ade6-9bac2f0ce384",
   "metadata": {},
   "outputs": [],
   "source": [
    "Q5. Explain ImportError. What is ModuleNotFoundError?\n",
    "A5. ImportError is an exception that occurs when there is an error while attempting to import a module. It serves as a generic exception for all import-related errors.\n",
    "\n",
    "ModuleNotFoundError is a subclass of ImportError introduced in Python 3.6.\n",
    "It specifically indicates that the module being imported could not be found.\n",
    "Prior to Python 3.6, ImportError was used for both cases of missing modules and other import-related errors. \n",
    "However, to provide more precise error messages and improve clarity, ModuleNotFoundError was introduced to specifically handle cases where the module cannot be located."
   ]
  },
  {
   "cell_type": "code",
   "execution_count": null,
   "id": "b44dea37-70e6-4972-84cf-dff705e3f812",
   "metadata": {},
   "outputs": [],
   "source": [
    "Q6. List down some best practices for exception handling in python.\n"
   ]
  }
 ],
 "metadata": {
  "kernelspec": {
   "display_name": "Python 3 (ipykernel)",
   "language": "python",
   "name": "python3"
  },
  "language_info": {
   "codemirror_mode": {
    "name": "ipython",
    "version": 3
   },
   "file_extension": ".py",
   "mimetype": "text/x-python",
   "name": "python",
   "nbconvert_exporter": "python",
   "pygments_lexer": "ipython3",
   "version": "3.10.8"
  }
 },
 "nbformat": 4,
 "nbformat_minor": 5
}
