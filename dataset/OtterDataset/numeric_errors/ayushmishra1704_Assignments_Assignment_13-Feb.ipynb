{
 "cells": [
  {
   "cell_type": "code",
   "execution_count": 3,
   "id": "91dfa72c-4b1b-4fb9-bdfd-cce7a5b15100",
   "metadata": {},
   "outputs": [
    {
     "data": {
      "text/plain": [
       "'We use Exception base class while creating a custom exception because:-\\n1. Good Practice: It is considered a good practice to use exception class as base class and build custom class on base exception class .\\n2. Compatibility: Compatibilit of Custom Exception class with base exception class: While creating a custom exception class developer must ensure that our custom exception class is compatible with standard base exception class.\\n3. Clarity: Anyone reviewing at the code after some time should be able to understand that we have inherited our custom exception class from base exception class.\\n4. Readable and Understandable by other Developers: Other developers familiar with the standard exception hierarchy should be able to undertsand our code.'"
      ]
     },
     "execution_count": 3,
     "metadata": {},
     "output_type": "execute_result"
    }
   ],
   "source": [
    "# Q.1. \n",
    "\"\"\"We use Exception base class while creating a custom exception because:-\n",
    "1. Good Practice: It is considered a good practice to use exception class as base class and build custom class on base exception class .\n",
    "2. Compatibility of Custom Exception class with base exception class: While creating a custom exception class developer must ensure that our custom exception class is compatible with standard base exception class.\n",
    "3. Clarity: Anyone reviewing at the code after some time should be able to understand that we have inherited our custom exception class from base exception class.\n",
    "4. Readable and Understandable by other Developers: Custom exception handling must seamlessly integrate with Standard exception handling so that other developers familiar with the standard exception hierarchy should be able to undertsand our code.\n",
    "5. Catching exceptions of standard exception class instead of writing sperate class for all those base exceptions: For e.g. If we want to catch all exceptions like ZeroDivisionError, KeyError, IndexError. then we can catch them from base Exception class, otherwise we have to write seperate class for all those base exceptions."
   ]
  },
  {
   "cell_type": "code",
   "execution_count": 4,
   "id": "406898ba-b435-4c16-b9e5-c00800a92c51",
   "metadata": {},
   "outputs": [],
   "source": [
    "#e.g.\n",
    "import logging\n",
    "logging.basicConfig(filename = \"Exception7.log\" ,level = logging.DEBUG, format = '%(asctime)s %(name)s %(levelname)s %(message)s' )\n",
    "class validatePrice(Exception):\n",
    "    def __init__(self, msg):\n",
    "        self.msg = msg"
   ]
  },
  {
   "cell_type": "code",
   "execution_count": 5,
   "id": "923cd4c9-9e64-44d4-85d8-295a3a415814",
   "metadata": {},
   "outputs": [],
   "source": [
    "def validatePrice1(Price):\n",
    "    if Price < 0:\n",
    "        raise validatePrice(\" Price caannot be negative\")\n",
    "    elif Price > 100:\n",
    "        raise validatePrice(\" Price caannot be greater than 100\")\n",
    "    else:\n",
    "        logging.info(\"Price is valid\")"
   ]
  },
  {
   "cell_type": "code",
   "execution_count": 6,
   "id": "a86dcb4e-190a-429f-9ac8-e9e165e08598",
   "metadata": {},
   "outputs": [
    {
     "name": "stdin",
     "output_type": "stream",
     "text": [
      "Enter the price -900\n"
     ]
    }
   ],
   "source": [
    "try:\n",
    "    Price = int(input(\"Enter the price\"))\n",
    "    validatePrice1(Price)\n",
    "except validatePrice as e:\n",
    "    logging.exception(e)"
   ]
  },
  {
   "cell_type": "code",
   "execution_count": 1,
   "id": "e8187e1a-eebb-47fe-8712-991ac76e879d",
   "metadata": {},
   "outputs": [],
   "source": [
    "import logging\n",
    "logging.basicConfig(filename = \"Exception563.log\", level = logging.DEBUG, format = \"%(asctime)s %(name)s %(levelname)s %(message)s\" )"
   ]
  },
  {
   "cell_type": "code",
   "execution_count": 2,
   "id": "89b5e5c9-d323-457d-8085-740d830cf3f7",
   "metadata": {},
   "outputs": [],
   "source": [
    "#Q.2.\n",
    "def print_exception_hierarchy(base_exception_class, indentation=0):\n",
    "     \n",
    "    logging.info(\" \" * indentation + base_exception_class.__name__)\n",
    "    \n",
    "    # Get the subclasses  of base_exception_class and print hierarchy recursively\n",
    "    for subclass in base_exception_class.__subclasses__():\n",
    "        print_exception_hierarchy(subclass, indentation + 2)\n",
    "    \n",
    "# Start with the base Exception class to print the entire hierarchy\n",
    "print_exception_hierarchy(Exception)"
   ]
  },
  {
   "cell_type": "code",
   "execution_count": 17,
   "id": "93035b91-94dc-4a29-bcfc-ef1a15789143",
   "metadata": {},
   "outputs": [],
   "source": [
    "#Q.3.\n",
    "\"\"\"ArithmeticError class -  Error that occurs during numeric calculation.\"\"\"\n",
    "\"e.g of an arithmetic error.-\"\n",
    "try:\n",
    "    a = 10/0\n",
    "except ZeroDivisionError as e:\n",
    "    logging.exception(e)"
   ]
  },
  {
   "cell_type": "code",
   "execution_count": 2,
   "id": "1dc60b92-4d65-4cf4-87f8-3b61c1b54385",
   "metadata": {},
   "outputs": [
    {
     "data": {
      "text/plain": [
       "'There are four types of errors are defined in the ArithmeticError class:-\\n1. FloatingPointError:-\\n2. ZeroDivisionError:-\\n3. OverflowError:-\\n4. DecimalException:-\\n'"
      ]
     },
     "execution_count": 2,
     "metadata": {},
     "output_type": "execute_result"
    }
   ],
   "source": [
    "\"\"\"There are four types of errors are defined in the ArithmeticError class:-\n",
    "1. FloatingPointError:-\n",
    "2. ZeroDivisionError:-\n",
    "3. OverflowError:-\n",
    "4. DecimalException:-\n",
    "\"\"\""
   ]
  },
  {
   "cell_type": "code",
   "execution_count": 7,
   "id": "3561aff4-6264-4874-868e-0e0dbdb4b0a4",
   "metadata": {},
   "outputs": [
    {
     "data": {
      "text/plain": [
       "'1. OverflowError:-OverflowError exception is an error that rises when result of an operation is out of range. \\nResult of the operation is too large to be represented, so it raises an error.\\n'"
      ]
     },
     "execution_count": 7,
     "metadata": {},
     "output_type": "execute_result"
    }
   ],
   "source": [
    "\"\"\"1. OverflowError:-OverflowError exception is an error that rises when result of an operation is out of range. \n",
    "Result of the operation is too large to be represented, so it raises an error.\n",
    "\"\"\""
   ]
  },
  {
   "cell_type": "code",
   "execution_count": 3,
   "id": "e7303122-b658-4972-9254-34e05da914fb",
   "metadata": {},
   "outputs": [],
   "source": [
    "import logging\n",
    "logging.basicConfig(filename = \"Exception569.log\", level = logging.DEBUG, format = \"%(asctime)s %(name)s %(levelname)s %(message)s\" )"
   ]
  },
  {
   "cell_type": "code",
   "execution_count": 5,
   "id": "e95cbc3d-121c-4048-93cf-4177a4ab2a50",
   "metadata": {},
   "outputs": [],
   "source": [
    "import math\n",
    "try:\n",
    "    a = 22/7\n",
    "    logging.info(a**444444444)\n",
    "except OverflowError as e:\n",
    "    logging.exception(e)"
   ]
  },
  {
   "cell_type": "code",
   "execution_count": 5,
   "id": "49fc4bb9-6d6b-4f09-ae9b-fe82df8f3bbd",
   "metadata": {},
   "outputs": [],
   "source": [
    "import logging\n",
    "logging.basicConfig(filename = \"Exception569.log\", level = logging.DEBUG, format = \"%(asctime)s %(name)s %(levelname)s %(message)s\" )"
   ]
  },
  {
   "cell_type": "code",
   "execution_count": 6,
   "id": "2df6757e-ca4d-49d3-bbbe-8383ad5915c8",
   "metadata": {},
   "outputs": [],
   "source": [
    "\"\"\"2. ZeroDivisionError:- This exception raised when the second argument of a division or modulo operation is zero.\n",
    "In Mathematics, when a number is divided by a zero, the result is an infinite number. It is impossible to write an Infinite number physically.\n",
    "Python interpreter throws “ZeroDivisionError: division by zero” error if the result is infinite number.\n",
    "If we have variables  x & y such that y == 0 and x != 0 . then z = x/y gives zero division error.\n",
    "Subclasses of ZeroDivision Error are:-\n",
    "1. DivisionByZero\n",
    "2. DivisionUndefined\n",
    "e.g.\"\"\"\n",
    "try:\n",
    "    a = 10/0\n",
    "except ZeroDivisionError as e:\n",
    "    logging.info(e)"
   ]
  },
  {
   "cell_type": "code",
   "execution_count": 7,
   "id": "2f3f7e10-a26a-43ae-984a-f3d7ca0017db",
   "metadata": {},
   "outputs": [],
   "source": [
    "#Q.4.\n",
    "\"\"\"LookupError - It is a type of Error which is raised when a particular key or index is not found.\n",
    "It is not raised directly rather its subclasses like KeyError, IndexError is raised.\n",
    "It serves as parent class to raise all 3 exceptions at one place .\n",
    "It is used because:\n",
    "1. For raising AttributeError: -  AttributeError is raised when we are trying to access a method or variable of an object but that particular variable or method does not exist for that object.\n",
    "e.g. i. Accessing an Non-Existing Attribute -  \"\"\"\n",
    "try:\n",
    "    \n",
    "    class Car:\n",
    "        pass\n",
    "    obj_car = Car()\n",
    "    logging.info(obj_car.speed)\n",
    "\n",
    "except AttributeError as e:\n",
    "    logging.exception(e)"
   ]
  },
  {
   "cell_type": "code",
   "execution_count": 8,
   "id": "830c6554-fbb8-4add-ada7-52258be92395",
   "metadata": {},
   "outputs": [],
   "source": [
    "\"ii. Accessing a missplled attribute:\"\n",
    "try:\n",
    "    class Car:\n",
    "        speed = 45\n",
    "    obj_Car = Car() \n",
    "    logging.info(obj_Car.sped)\n",
    "\n",
    "except AttributeError as e:\n",
    "    logging.exception(e)"
   ]
  },
  {
   "cell_type": "code",
   "execution_count": 11,
   "id": "336acba9-f571-4e1f-98df-1f06dfa3f323",
   "metadata": {},
   "outputs": [],
   "source": [
    "\"iii. using wrong data type: here tring doesnt have an append method\"\n",
    "try: \n",
    "    string = \"Speed\" \n",
    "    string.append(\"123\")\n",
    "except AttributeError as e:\n",
    "    logging.exception(e)"
   ]
  },
  {
   "cell_type": "code",
   "execution_count": 14,
   "id": "1ccfd674-d199-42a3-ba69-82ca7fcbbb25",
   "metadata": {},
   "outputs": [
    {
     "data": {
      "text/plain": [
       "'2. Clarity and precise error handling: Catching lookup errors and handling exceptions helps in making code readable.\\nHandling key error in dictionary can be precisely done.'"
      ]
     },
     "execution_count": 14,
     "metadata": {},
     "output_type": "execute_result"
    }
   ],
   "source": [
    "\"\"\"2. Clarity and precise error handling: Catching lookup errors and handling exceptions \n",
    "helps in making code readable. Handling key error in dictionary can be precisely done.\"\"\""
   ]
  },
  {
   "cell_type": "code",
   "execution_count": 14,
   "id": "00e9fed6-6e0c-4695-ac03-3a13f8efc9a6",
   "metadata": {},
   "outputs": [],
   "source": [
    "\"\"\"3. KeyError: KeyError is raised when in a dictionary a key and its values are not present ,\n",
    "but we are trying to access the values of that key then it throws an exception.\n",
    "\"\"\"\n",
    "d = { \"Name\" : \"Ayush\",\n",
    "\"Age\" : 26, \n",
    "\"Weight in Kg\" : 67         \n",
    "}\n",
    "try:\n",
    "    logging.info(d[\"Height\"])\n",
    "except KeyError as e:\n",
    "    logging.exception(e)"
   ]
  },
  {
   "cell_type": "code",
   "execution_count": 16,
   "id": "22c3a733-3532-4ba4-8d62-d067444a1ad0",
   "metadata": {},
   "outputs": [],
   "source": [
    "\"\"\"4. IndexError: IndexError is raised  when index which user wants to access is not present in list or tuples\n",
    "but we are trying to access the index which is not in range then it throws an exception.\"\"\"\n",
    "l = [1,2,3,4,5]\n",
    "try:\n",
    "    logging.info(l[7])\n",
    "except IndexError as e:\n",
    "    logging.exception(e)  "
   ]
  },
  {
   "cell_type": "code",
   "execution_count": 1,
   "id": "1466471f-b5bf-4dc3-92fb-e8552bcca019",
   "metadata": {},
   "outputs": [],
   "source": [
    "import logging\n",
    "logging.basicConfig(filename = \"Exception572.log\", level = logging.DEBUG, format = \"%(asctime)s %(name)s %(levelname)s %(message)s\" )"
   ]
  },
  {
   "cell_type": "code",
   "execution_count": 2,
   "id": "116620f1-3342-4412-8b66-57f2b735b367",
   "metadata": {},
   "outputs": [
    {
     "data": {
      "text/plain": [
       "'3. When two or more modules import each other directly.\\n4. Pythonpathnot environment variable is not set correctly. '"
      ]
     },
     "execution_count": 2,
     "metadata": {},
     "output_type": "execute_result"
    }
   ],
   "source": [
    "#Q.5.\n",
    "\"\"\"ImportError- ImportError is raised when we are trying to import a module which is not present .\n",
    "Import error serves as parent error which is not raised directly, rather its subclasses are raised.\n",
    "It serves as parent class to raise both exceptions at one place\n",
    "\n",
    "Some reasons why ImportError is raised are:-\n",
    "1. Module/Package is not installed on Python\"\"\"\n",
    "try:\n",
    "    import Error\n",
    "except ImportError as e:\n",
    "    logging.exception(e)  \n"
   ]
  },
  {
   "cell_type": "code",
   "execution_count": 3,
   "id": "351051a3-62f6-40a5-a4ca-5e5a778c59d7",
   "metadata": {},
   "outputs": [],
   "source": [
    "\"2. User is trying to import with incorrect modulename\"\n",
    "try:\n",
    "    import loggin\n",
    "except ImportError as e:\n",
    "    logging.exception"
   ]
  },
  {
   "cell_type": "code",
   "execution_count": null,
   "id": "c7008a1b-c506-42e3-a0ca-0f1db368f5d4",
   "metadata": {},
   "outputs": [],
   "source": [
    "\"\"\"3. When two or more modules import each other directly.\n",
    "4. Pythonpathnot environment variable is not set correctly. \"\"\"\n"
   ]
  },
  {
   "cell_type": "code",
   "execution_count": 9,
   "id": "1913f129-75b9-4b91-acc5-0959513e566a",
   "metadata": {},
   "outputs": [],
   "source": [
    "\"\"\"ImportError contain two subclasses:\n",
    "1. ModuleNotFoundError - ModuleNotFoundError is raised when Module is not found \n",
    "Common causes of ModuleNotFoundError are:-\n",
    "1. Incorrect name of module imported:\n",
    "\"\"\"\n",
    "try:\n",
    "    import lofggin\n",
    "except ImportError as e:\n",
    "    logging.exception(e)  \n",
    "    "
   ]
  },
  {
   "cell_type": "code",
   "execution_count": 10,
   "id": "ee50bae7-ad7e-4efe-8547-3b9c066712e7",
   "metadata": {},
   "outputs": [],
   "source": [
    "\"\"\"\n",
    "2.No such module exist\n",
    "\"\"\"\n",
    "try:\n",
    "    import Ayush\n",
    "except ImportError as e:\n",
    "    logging.exception(e)"
   ]
  },
  {
   "cell_type": "code",
   "execution_count": 11,
   "id": "3aaf1abd-163f-4785-9c8c-a66a8e93f1d7",
   "metadata": {},
   "outputs": [
    {
     "data": {
      "text/plain": [
       "'2. ZipImportError- ZipImportError is raised when python is trying to import a module from zip file.\\nCommon causes of ZipImportError are:-\\n1. Invalid zip file\\n2. Module not found in Zip Archive '"
      ]
     },
     "execution_count": 11,
     "metadata": {},
     "output_type": "execute_result"
    }
   ],
   "source": [
    "\"\"\"2. ZipImportError- ZipImportError is raised when python is trying to import a module from zip file.\n",
    "Common causes of ZipImportError are:-\n",
    "1. Invalid zip file\n",
    "2. Module not found in Zip Archive \"\"\""
   ]
  },
  {
   "cell_type": "code",
   "execution_count": 15,
   "id": "768a8164-79fa-44c2-83e6-310e352add15",
   "metadata": {},
   "outputs": [],
   "source": [
    "#Q.6.\n",
    "\"1. Always log your errors.\"\n",
    "\"2. Always use single specific exception.\"\n",
    "import logging\n",
    "logging.basicConfig(filename = \"Exception333.log\", level = logging.DEBUG)\n",
    "\n",
    "try:\n",
    "    a = 10/0\n",
    "    logging.info(a)\n",
    "except Exception as e:\n",
    "    logging.exception(e)\n",
    "    "
   ]
  },
  {
   "cell_type": "code",
   "execution_count": 1,
   "id": "55a0b798-0dbe-4cfe-aea2-ec7cefa92741",
   "metadata": {},
   "outputs": [
    {
     "name": "stdout",
     "output_type": "stream",
     "text": [
      "I am trying to handle a ZeroDivisionError division by zero\n"
     ]
    }
   ],
   "source": [
    "\"3. Print always specific message  \"\n",
    "import logging\n",
    "logging.basicConfig(filename = \"Exception334.log\", level = logging.DEBUG)\n",
    "\n",
    "try:\n",
    "    a = 10/0\n",
    "    logging.info(a)\n",
    "except Exception as e:\n",
    "    print(\"I am trying to handle a ZeroDivisionError\", e)"
   ]
  },
  {
   "cell_type": "code",
   "execution_count": 2,
   "id": "d047a6fb-a936-40b4-adee-27972f473602",
   "metadata": {},
   "outputs": [],
   "source": [
    "\"4. ALways clean up the resources after use so that they are not overutilized.\"\n",
    "try:\n",
    "    f = open(\"test324.txt\", \"r\")\n",
    "    f.write(\"This is a text file\")\n",
    "except FileNotFoundError as e:\n",
    "    logging.exception(e)"
   ]
  },
  {
   "cell_type": "code",
   "execution_count": 3,
   "id": "b6e806ed-17c6-4481-ab09-68db3817060c",
   "metadata": {},
   "outputs": [],
   "source": [
    "\"5. Always avoid multiple exception handling, and never user superclass Exception on top as it stops other subclass from handling errors. It will  only handle superclass error \"\n",
    "try:\n",
    "    a = 10/0\n",
    "except Exception as e:\n",
    "    logging.exception(e)\n",
    "except ZeroDivisionError as e:\n",
    "    logging.exception(e)"
   ]
  },
  {
   "cell_type": "code",
   "execution_count": null,
   "id": "ca523e1f-4da1-465c-98a3-c27a75380112",
   "metadata": {},
   "outputs": [],
   "source": [
    "\"6. Document all the error. \""
   ]
  }
 ],
 "metadata": {
  "kernelspec": {
   "display_name": "Python 3 (ipykernel)",
   "language": "python",
   "name": "python3"
  },
  "language_info": {
   "codemirror_mode": {
    "name": "ipython",
    "version": 3
   },
   "file_extension": ".py",
   "mimetype": "text/x-python",
   "name": "python",
   "nbconvert_exporter": "python",
   "pygments_lexer": "ipython3",
   "version": "3.10.8"
  }
 },
 "nbformat": 4,
 "nbformat_minor": 5
}
