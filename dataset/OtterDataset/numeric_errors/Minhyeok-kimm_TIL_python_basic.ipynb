{
 "cells": [
  {
   "attachments": {},
   "cell_type": "markdown",
   "metadata": {},
   "source": [
    "## python 기초\n",
    "- pep https://peps.python.org/pep-0008/"
   ]
  },
  {
   "attachments": {},
   "cell_type": "markdown",
   "metadata": {},
   "source": [
    "## 05/30(화)"
   ]
  },
  {
   "attachments": {},
   "cell_type": "markdown",
   "metadata": {},
   "source": [
    "### 1. 일반 자료형"
   ]
  },
  {
   "cell_type": "code",
   "execution_count": 1,
   "metadata": {},
   "outputs": [
    {
     "name": "stdout",
     "output_type": "stream",
     "text": [
      "1.정수:  0\n",
      "1.정수(음수):  -10\n",
      "1.정수(10진수):  10\n",
      "1.정수(2진수):  2\n",
      "1.정수(8진수):  8\n",
      "1.정수(16진수):  16\n",
      "2.실수:  3.14\n",
      "2.실수(지수표기법):  300000.0\n",
      "3.논리:  True\n",
      "3.논리:  False\n",
      "4.None:  None\n",
      "5.함수: fun\n"
     ]
    }
   ],
   "source": [
    "# 자료형\n",
    "# 1) 일반 자료형(scalar 타입): 값 변경 불가(immutable)\n",
    "print(\"1.정수: \", 0)\n",
    "print(\"1.정수(음수): \", -10)\n",
    "print(\"1.정수(10진수): \", 10)\n",
    "print(\"1.정수(2진수): \", 0b10)   # 2\n",
    "print(\"1.정수(8진수): \", 0o10)  # 8\n",
    "print(\"1.정수(16진수): \", 0x10) # 16\n",
    "\n",
    "print(\"2.실수: \", 3.14)\n",
    "print(\"2.실수(지수표기법): \", 3e+5)\n",
    "\n",
    "print(\"3.논리: \", True)\n",
    "print(\"3.논리: \", False)\n",
    "print(\"4.None: \", None)\n",
    "\n",
    "# 함수\n",
    "def fun():\n",
    "    print(\"5.함수: fun\")\n",
    "\n",
    "fun()"
   ]
  },
  {
   "cell_type": "code",
   "execution_count": 2,
   "metadata": {},
   "outputs": [
    {
     "name": "stdout",
     "output_type": "stream",
     "text": [
      "1. 문자열:  hello\n",
      "1. 문자열:  hello\n",
      "1. 문자열:  hello\n",
      "1. 문자열:  hello\n",
      "2. 리스트(list):  [1, 2, 3, 4, 4, 'hello']\n",
      "3. 셋(set):  {1, 2, 3, 4, 'hello'}\n",
      "4. 튜플(tuple):  (1, 2, 3, 4, 4, 'hello')\n",
      "5. 딕트(dict):  {'name': '홍길동', 'age': 20}\n"
     ]
    }
   ],
   "source": [
    "# 2) 집합 자료형\n",
    "print(\"1. 문자열: \", \"hello\")\n",
    "print(\"1. 문자열: \", 'hello')\n",
    "print(\"1. 문자열: \", \"\"\"hello\"\"\") # triple 가능, 특별한 경우 사용\n",
    "print(\"1. 문자열: \", '''hello''')\n",
    "print(\"2. 리스트(list): \", [1, 2, 3, 4, 4, \"hello\"]) # 순서 있음\n",
    "print(\"3. 셋(set): \", {1, 2, 3, 4, 4, \"hello\"}) # 순서 없음, 중복 불가, immutable한 데이터만 저장 가능\n",
    "print(\"4. 튜플(tuple): \", (1, 2, 3, 4, 4, \"hello\")) # list와 특징은 동일, 단 immutable한 특징을 가짐\n",
    "print(\"5. 딕트(dict): \", {\"name\": \"홍길동\", \"age\": 20})"
   ]
  },
  {
   "cell_type": "code",
   "execution_count": 3,
   "metadata": {},
   "outputs": [
    {
     "name": "stdout",
     "output_type": "stream",
     "text": [
      "c:\\temp\n",
      "Hello\n",
      "world\n",
      "Hello\tworld\n",
      "'\n",
      "\"\n",
      "c:\\\\temp\n",
      "c:\\temp\n",
      "Hello\\nworld\n",
      "Hello\\tworld\n",
      "\\'\n",
      "\\\"\n"
     ]
    }
   ],
   "source": [
    "# 이스케이프 문자 (escape 문자)\n",
    "print(\"c:\\\\temp\") # 파일 경로 지정\n",
    "print(\"Hello\\nworld\") # 엔터\n",
    "print(\"Hello\\tworld\") # 탭\n",
    "print(\"\\'\")\n",
    "print(\"\\\"\")\n",
    "\n",
    "# raw string: 이스케이프 문자를 무시한다. \n",
    "# 정규표현식(regular expression): 패턴매칭, *?+^() 특별한 의미\n",
    "print(r\"c:\\\\temp\") # 파일 경로 지정\n",
    "print(r\"c:\\temp\")\n",
    "print(r\"Hello\\nworld\") # 엔터\n",
    "print(r\"Hello\\tworld\") # 탭\n",
    "print(r\"\\'\")\n",
    "print(r\"\\\"\")\n"
   ]
  },
  {
   "cell_type": "code",
   "execution_count": 4,
   "metadata": {},
   "outputs": [
    {
     "name": "stdout",
     "output_type": "stream",
     "text": [
      "키워드 목록:  ['False', 'None', 'True', 'and', 'as', 'assert', 'async', 'await', 'break', 'class', 'continue', 'def', 'del', 'elif', 'else', 'except', 'finally', 'for', 'from', 'global', 'if', 'import', 'in', 'is', 'lambda', 'nonlocal', 'not', 'or', 'pass', 'raise', 'return', 'try', 'while', 'with', 'yield']\n"
     ]
    }
   ],
   "source": [
    "# 예약어\n",
    "import keyword\n",
    "print('키워드 목록: ', keyword.kwlist)\n",
    "\n",
    "\n",
    "# ['False', 'None', 'True', 'and', 'as', 'assert', 'async', 'await',\n",
    "# 'break', 'class', 'continue', 'def', 'del', 'elif', 'else', 'except',\n",
    "# 'finally', 'for', 'from', 'global', 'if', 'import', 'in', 'is', 'lambda',\n",
    "# 'nonlocal', 'not', 'or', 'pass', 'raise', 'return', 'try', 'while', 'with', 'yield']\n"
   ]
  },
  {
   "attachments": {},
   "cell_type": "markdown",
   "metadata": {},
   "source": [
    "### 2. 변수"
   ]
  },
  {
   "cell_type": "code",
   "execution_count": 5,
   "metadata": {},
   "outputs": [
    {
     "name": "stdout",
     "output_type": "stream",
     "text": [
      "4 140711662248840\n",
      "홍길동 1824208896528\n",
      "서울 1824208900944\n",
      "174.2 1824208558960\n",
      "True 140711660723048\n",
      "['aa@daum.net', 'bb@google.com'] 1824209003520\n",
      "{'핸드폰': ['010', '011'], '애완동물': ['강아지', '고양이']} 1824208785920\n"
     ]
    }
   ],
   "source": [
    "# 1) 기본\n",
    "num = 4\n",
    "name = \"홍길동\"\n",
    "address = \"서울\"\n",
    "height = 174.2\n",
    "isMarried = True\n",
    "email =[\"aa@daum.net\",\"bb@google.com\"]\n",
    "info ={\n",
    "    \"핸드폰\":[\"010\", \"011\"],\n",
    "    \"애완동물\":[\"강아지\",\"고양이\"]\n",
    "}\n",
    "# id는 주소값을 확인할 수 있는 함수\n",
    "print(num, id(num)) # 4 140711047390088\n",
    "print(name, id(name))\n",
    "print(address, id(address))\n",
    "print(height, id(height))\n",
    "print(isMarried, id(isMarried))\n",
    "print(email, id(email))\n",
    "print(info, id(info))"
   ]
  },
  {
   "cell_type": "code",
   "execution_count": 6,
   "metadata": {},
   "outputs": [
    {
     "name": "stdout",
     "output_type": "stream",
     "text": [
      "10 10 10\n",
      "홍길동 20 서울\n",
      "10 20\n",
      "x y\n"
     ]
    }
   ],
   "source": [
    "# 2) 동시할당\n",
    "# 값 하나를 여러개 변수에 할당\n",
    "n=n1=n2=10\n",
    "print(n, n1, n2)\n",
    "\n",
    "# 반드시 갯수가 일치해야 된다. (중요)\n",
    "name, age, address = \"홍길동\",20,\"서울\"\n",
    "print(name,age,address)\n",
    "\n",
    "# dummy variable ==> _(underscore) 이용\n",
    "a, b, _ = 10, 20, 30\n",
    "print(a, b)\n",
    "\n",
    "a, b = {\"x\":\"홍길동\", 'y':'이순신'} # key 값 저장\n",
    "print(a, b)"
   ]
  },
  {
   "cell_type": "code",
   "execution_count": 7,
   "metadata": {},
   "outputs": [
    {
     "name": "stdout",
     "output_type": "stream",
     "text": [
      "10 <class 'int'>\n",
      "3.14 <class 'float'>\n",
      "True <class 'bool'>\n",
      "None <class 'NoneType'>\n",
      "<function <lambda> at 0x000001A8BB5189A0> <class 'function'>\n",
      "[10, 20, 30] <class 'list'>\n",
      "(10, 20, 30) <class 'tuple'>\n",
      "{10, 20, 30} <class 'set'>\n",
      "{'key': 100} <class 'dict'>\n",
      "hello <class 'str'>\n",
      "b'hello' <class 'bytes'>\n",
      "True\n",
      "False\n"
     ]
    }
   ],
   "source": [
    "# 3) 변수 타입 체크\n",
    "a = 10\n",
    "b = 3.14\n",
    "c = True\n",
    "x = None\n",
    "y = lambda: print(\"hello\")\n",
    "d = [10, 20, 30]\n",
    "e = (10, 20, 30)\n",
    "f = {10, 20, 30}\n",
    "g = {'key': 100}\n",
    "h = \"hello\"     # unicode string\n",
    "h2 = b\"hello\"   # byte string (웹에서 문자열을 가지고 올 때 사용/크롤링)\n",
    "\n",
    "print(a, type(a)) # 10 <class 'int'>\n",
    "print(b, type(b)) # 3.14 <class 'float'>\n",
    "print(c, type(c)) # True <class 'bool'>\n",
    "print(x, type(x)) # None <class 'NoneType'>\n",
    "print(y, type(y)) # <function <lambda> at 0x0000018CDDD9E020> <class 'function'>\n",
    "print(d, type(d)) # [10, 20, 30] <class 'list'>\n",
    "print(e, type(e)) # (10, 20, 30) <class 'tuple'>\n",
    "print(f, type(f)) # {10, 20, 30} <class 'set'>\n",
    "print(g, type(g)) # {'key': 100} <class 'dict'>     \n",
    "print(h, type(h)) # hello <class 'str'>\n",
    "print(h2, type(h2)) # b'hello' <class 'bytes'>\n",
    "\n",
    "# 비교\n",
    "print(isinstance(a,int))\n",
    "print(isinstance(a,str))"
   ]
  },
  {
   "attachments": {},
   "cell_type": "markdown",
   "metadata": {},
   "source": [
    "### 3. 표준출력"
   ]
  },
  {
   "cell_type": "code",
   "execution_count": 22,
   "metadata": {},
   "outputs": [
    {
     "name": "stdout",
     "output_type": "stream",
     "text": [
      "Help on built-in function print in module builtins:\n",
      "\n",
      "print(*args, sep=' ', end='\\n', file=None, flush=False)\n",
      "    Prints the values to a stream, or to sys.stdout by default.\n",
      "    \n",
      "    sep\n",
      "      string inserted between values, default a space.\n",
      "    end\n",
      "      string appended after the last value, default a newline.\n",
      "    file\n",
      "      a file-like object (stream); defaults to the current sys.stdout.\n",
      "    flush\n",
      "      whether to forcibly flush the stream.\n",
      "\n"
     ]
    }
   ],
   "source": [
    "help(print)"
   ]
  },
  {
   "cell_type": "code",
   "execution_count": 8,
   "metadata": {},
   "outputs": [
    {
     "name": "stdout",
     "output_type": "stream",
     "text": [
      "1 2 3 4\n",
      "1,2,3,4\t1 2 3 4 1 2 3 4\n"
     ]
    }
   ],
   "source": [
    "print(1, 2, 3, 4)\n",
    "print(1, 2, 3, 4, sep=',', end='\\t')\n",
    "print(1, 2, 3, 4, end=' ')\n",
    "print(1, 2, 3, 4)"
   ]
  },
  {
   "attachments": {},
   "cell_type": "markdown",
   "metadata": {},
   "source": [
    "#### 함수 확인"
   ]
  },
  {
   "cell_type": "code",
   "execution_count": null,
   "metadata": {},
   "outputs": [],
   "source": [
    "# 객체 안의 함수 보기\n",
    "print(dir(str)) # 문자열 객체\n",
    "# 'capitalize', 'casefold', 'center', 'count', 'encode', 'endswith', 'expandtabs',\n",
    "# 'find', 'format', 'format_map', 'index', 'isalnum', 'isalpha', 'isascii', 'isdecimal', 'isdigit', 'isidentifier',\n",
    "# 'islower', 'isnumeric', 'isprintable', 'isspace', 'istitle', 'isupper', 'join', 'ljust', 'lower',\n",
    "# 'lstrip', 'maketrans', 'partition', 'removeprefix', 'removesuffix', 'replace', 'rfind', 'rindex',\n",
    "# 'rjust', 'rpartition', 'rsplit', 'rstrip', 'split', 'splitlines', 'startswith', 'strip', 'swapcase',\n",
    "# 'title', 'translate', 'upper', 'zfill']\n",
    "\n",
    "print(dir(list)) # 리스트 객체(클래스), list\n",
    "# 'append', 'clear', 'copy', 'count', 'extend', 'index', 'insert', 'pop', 'remove', 'reverse', 'sort'\n",
    "\n",
    "print(dir(tuple)) # 튜플 객체(클래스), tuple. 수정 함수가 제공되지 않음\n",
    "# 'count', 'index'\n",
    "\n",
    "print(dir(set)) # 셋 객체(클래스), set\n",
    "# 'add', 'clear', 'copy', 'difference', 'difference_update', 'discard', 'intersection',\n",
    "# 'intersection_update', 'isdisjoint', 'issubset', 'issuperset', 'pop', 'remove', 'symmetric_difference',\n",
    "# 'symmetric_difference_update', 'union', 'update'\n",
    "\n",
    "print(dir(dict)) # 딕셔너리 객체(클래스, dict)\n",
    "# 'clear', 'copy', 'fromkeys', 'get', 'items', 'keys', 'pop', 'popitem', 'setdefault', 'update', 'values'\n",
    "\n",
    "print(dir(int))\n",
    "# 'as_integer_ratio', 'bit_count', 'bit_length', 'conjugate', 'denominator', 'from_bytes',\n",
    "# 'imag', 'numerator', 'real', 'to_bytes'\n",
    "\n",
    "# builtins 객체 ==> . 없이 사용 가능한 함수들\n",
    "print(dir(__builtins__))\n",
    "# 'ArithmeticError', 'AssertionError', 'AttributeError', 'BaseException', 'BaseExceptionGroup',\n",
    "# 'BlockingIOError', 'BrokenPipeError', 'BufferError', 'BytesWarning', 'ChildProcessError', 'ConnectionAbortedError',\n",
    "# 'ConnectionError', 'ConnectionRefusedError', 'ConnectionResetError', 'DeprecationWarning', 'EOFError', 'Ellipsis', \n",
    "# 'EncodingWarning', 'EnvironmentError', 'Exception', 'ExceptionGroup', 'False', 'FileExistsError', 'FileNotFoundError',\n",
    "# 'FloatingPointError', 'FutureWarning', 'GeneratorExit', 'IOError', 'ImportError', 'ImportWarning', 'IndentationError',\n",
    "# 'IndexError', 'InterruptedError', 'IsADirectoryError', 'KeyError', 'KeyboardInterrupt', 'LookupError', 'MemoryError',\n",
    "# 'ModuleNotFoundError', 'NameError', 'None', 'NotADirectoryError', 'NotImplemented', 'NotImplementedError', 'OSError',\n",
    "# 'OverflowError', 'PendingDeprecationWarning', 'PermissionError', 'ProcessLookupError', 'RecursionError',\n",
    "# 'ReferenceError', 'ResourceWarning', 'RuntimeError', 'RuntimeWarning', 'StopAsyncIteration', 'StopIteration',\n",
    "# 'SyntaxError', 'SyntaxWarning', 'SystemError', 'SystemExit', 'TabError', 'TimeoutError', 'True', 'TypeError',\n",
    "# 'UnboundLocalError', 'UnicodeDecodeError', 'UnicodeEncodeError', 'UnicodeError', 'UnicodeTranslateError',\n",
    "# 'UnicodeWarning', 'UserWarning', 'ValueError', 'Warning', 'WindowsError', 'ZeroDivisionError',\n",
    "# 'abs', 'aiter', 'all', 'anext', 'any', 'ascii', 'bin', 'bool', 'breakpoint', 'bytearray', 'bytes', 'callable',\n",
    "# 'chr', 'classmethod', 'compile', 'complex', 'copyright', 'credits', 'delattr', 'dict', 'dir', 'display', 'divmod',\n",
    "# 'enumerate', 'eval', 'exec', 'execfile', 'filter', 'float', 'format', 'frozenset', 'get_ipython', 'getattr',\n",
    "# 'globals', 'hasattr', 'hash', 'help', 'hex', 'id', 'input', 'int', 'isinstance', 'issubclass', 'iter', 'len',\n",
    "# 'license', 'list', 'locals', 'map', 'max', 'memoryview', 'min', 'next', 'object', 'oct', 'open', 'ord', 'pow',\n",
    "# 'print', 'property', 'range', 'repr', 'reversed', 'round', 'runfile', 'set', 'setattr', 'slice', 'sorted',\n",
    "# 'staticmethod', 'str', 'sum', 'super', 'tuple', 'type', 'vars', 'zip'\n",
    "\n",
    "print(dir(bytes))\n",
    "# 'capitalize', 'center', 'count', 'decode', 'endswith', 'expandtabs', 'find', 'fromhex', 'hex',\n",
    "# 'index', 'isalnum', 'isalpha', 'isascii', 'isdigit', 'islower', 'isspace', 'istitle', 'isupper', 'join',\n",
    "# 'ljust', 'lower', 'lstrip', 'maketrans', 'partition', 'removeprefix', 'removesuffix', 'replace', 'rfind',\n",
    "# 'rindex', 'rjust', 'rpartition', 'rsplit', 'rstrip', 'split', 'splitlines', 'startswith', 'strip', 'swapcase',\n",
    "# 'title', 'translate', 'upper', 'zfill'"
   ]
  },
  {
   "cell_type": "code",
   "execution_count": 9,
   "metadata": {},
   "outputs": [
    {
     "name": "stdout",
     "output_type": "stream",
     "text": [
      "이름:홍길동\n",
      "이름:홍길동\n",
      "이름:홍길동, 나이:20\n",
      "이름:홍길동  , 나이:20\n"
     ]
    }
   ],
   "source": [
    "# 1. 문자열 데이터 표현\n",
    "mesg = \"이름:{}\".format('홍길동') # 홍길동이 바로 출력\n",
    "print(mesg)\n",
    "mesg = '이름:{0}'.format('홍길동') # index 번호 지정, 생략 가능\n",
    "print(mesg)\n",
    "mesg = '이름:{0}, 나이:{1}'.format('홍길동',20) # index 번호 지정, 생략 가능\n",
    "print(mesg)\n",
    "mesg = '이름:{0:5s}, 나이:{1}'.format('홍길동',20) # :5s는 자릿수 지정한 것\n",
    "print(mesg)"
   ]
  },
  {
   "cell_type": "code",
   "execution_count": 10,
   "metadata": {},
   "outputs": [
    {
     "name": "stdout",
     "output_type": "stream",
     "text": [
      "123456789.000000\n",
      "123.457,123.456700000\n",
      "123,456,789\n"
     ]
    }
   ],
   "source": [
    "# 2. 수치 데이터 표현\n",
    "mesg = '{0:f}'.format(123456789)\n",
    "print(mesg)\n",
    "\n",
    "mesg = '{0:.3f},{0:.9f}'.format(123.4567) # 소수점 자릿수 지정\n",
    "print(mesg)\n",
    "\n",
    "mesg = '{0:,}'.format(123456789) # 자릿수 표기 콤마 지정\n",
    "print(mesg)"
   ]
  },
  {
   "cell_type": "code",
   "execution_count": 11,
   "metadata": {},
   "outputs": [
    {
     "name": "stdout",
     "output_type": "stream",
     "text": [
      "이름: 홍길동, 나이: 20\n"
     ]
    }
   ],
   "source": [
    "# 3. key 사용 (중요)\n",
    "mesg = '이름: {username}, 나이: {age}'.format(username='홍길동', age=20)\n",
    "print(mesg)"
   ]
  },
  {
   "cell_type": "code",
   "execution_count": 12,
   "metadata": {},
   "outputs": [
    {
     "name": "stdout",
     "output_type": "stream",
     "text": [
      "홍:길:동\n",
      "홍길동:이순신:강감찬\n"
     ]
    }
   ],
   "source": [
    "# 4. unpacking - 문자열/리스트\n",
    "mesg = '{0}:{1}:{2}'.format(*'홍길동')\n",
    "print(mesg)  # 홍:길:동\n",
    "\n",
    "mesg = '{0}:{1}:{2}'.format(*['홍길동', '이순신', '강감찬'])\n",
    "print(mesg) # 홍길동:이순신:강감찬"
   ]
  },
  {
   "cell_type": "code",
   "execution_count": 13,
   "metadata": {},
   "outputs": [
    {
     "name": "stdout",
     "output_type": "stream",
     "text": [
      "이름: 홍길동, 나이: 20\n"
     ]
    }
   ],
   "source": [
    "# 4. unpacking - dict\n",
    "person = {'username': '홍길동', 'age': 20} # username='홍길동', age=20으로 unpacking\n",
    "mesg = '이름: {username}, 나이: {age}'.format(**person)\n",
    "print(mesg)"
   ]
  },
  {
   "cell_type": "code",
   "execution_count": null,
   "metadata": {},
   "outputs": [],
   "source": [
    "# 정렬, 채우기\n",
    "help('FORMATTING')"
   ]
  },
  {
   "cell_type": "code",
   "execution_count": 14,
   "metadata": {},
   "outputs": [
    {
     "name": "stdout",
     "output_type": "stream",
     "text": [
      "이름: 홍길동 나이: 200 신장: 178.60 결혼여부:True 성별:남\n"
     ]
    }
   ],
   "source": [
    "# 5. % 지정 방식 (고전방식)\n",
    "print(\"이름: %s 나이: %d 신장: %.2f 결혼여부:%s 성별:%c\"\n",
    "       % (\"홍길동\", 200, 178.5987, True, '남'))\n"
   ]
  },
  {
   "cell_type": "code",
   "execution_count": 15,
   "metadata": {},
   "outputs": [
    {
     "name": "stdout",
     "output_type": "stream",
     "text": [
      "이름:{name} 나이:{age}\n",
      "이름:KyIN 나이:20\n",
      "이름:KyIN 나이:21\n",
      "이름:KyIN 나이:False\n",
      "이름:kyin 나이:False\n"
     ]
    }
   ],
   "source": [
    "# 6. format string 방식\n",
    "name = \"KyIN\"\n",
    "age = 20\n",
    "\n",
    "print(\"이름:{name} 나이:{age}\")\n",
    "print(f\"이름:{name} 나이:{age}\")\n",
    "print(f\"이름:{name} 나이:{age+1}\") # 산술 연산 가능\n",
    "print(f\"이름:{name} 나이:{age > 30}\") # 비교 연산 가능\n",
    "print(f\"이름:{name.lower()} 나이:{age > 30}\") # 함수 사용 가능"
   ]
  },
  {
   "attachments": {},
   "cell_type": "markdown",
   "metadata": {},
   "source": [
    "### 4. 표준 입력"
   ]
  },
  {
   "cell_type": "code",
   "execution_count": 29,
   "metadata": {},
   "outputs": [
    {
     "name": "stdout",
     "output_type": "stream",
     "text": [
      "Help on method raw_input in module ipykernel.kernelbase:\n",
      "\n",
      "raw_input(prompt='') method of ipykernel.ipkernel.IPythonKernel instance\n",
      "    Forward raw_input to frontends\n",
      "    \n",
      "    Raises\n",
      "    ------\n",
      "    StdinNotImplementedError if active frontend doesn't support stdin.\n",
      "\n"
     ]
    }
   ],
   "source": [
    "help(input)"
   ]
  },
  {
   "cell_type": "code",
   "execution_count": 16,
   "metadata": {},
   "outputs": [
    {
     "name": "stdout",
     "output_type": "stream",
     "text": [
      "홍길동 25\n"
     ]
    }
   ],
   "source": [
    "name = input('이름 입력')\n",
    "age = input('나이 입력')\n",
    "print(name, age)"
   ]
  },
  {
   "cell_type": "code",
   "execution_count": 11,
   "metadata": {},
   "outputs": [
    {
     "name": "stdout",
     "output_type": "stream",
     "text": [
      "홍길동 21\n"
     ]
    }
   ],
   "source": [
    "name = input(\"이름 입력\")\n",
    "age = input(\"나이 입력\") # 문자열로 받음 -> input을 int() 안에 넣으면 숫자로 받음\n",
    "print(name, int(age) + 1) # int() 사용해서 숫자로 변경"
   ]
  },
  {
   "attachments": {},
   "cell_type": "markdown",
   "metadata": {},
   "source": [
    "### 5. 연산자"
   ]
  },
  {
   "cell_type": "code",
   "execution_count": 17,
   "metadata": {},
   "outputs": [
    {
     "name": "stdout",
     "output_type": "stream",
     "text": [
      "13\n",
      "7\n",
      "30\n",
      "hhhhhhhhhh\n",
      "3.3333333333333335\n",
      "1\n",
      "3\n",
      "1000\n",
      "(3, 1)\n",
      "3 1\n"
     ]
    }
   ],
   "source": [
    "# 1) 산술 연산자\n",
    "a = 10\n",
    "b = 3\n",
    "print(a+b)\n",
    "print(a-b)\n",
    "print(a*b)\n",
    "print(\"h\"*10)\n",
    "print(a/b)    # 3.3333333333333335, 소수점까지 출력\n",
    "print(a % b)  # 1  ,  Modulus\n",
    "print(a//b)   # 3  ,  Floor Division   소수점 버림 / python에만 있는 연산자\n",
    "print(a**b)   # square ( 제곱 ) / python에만 있는 연산자\n",
    "\n",
    "# 몫과 나머지를 한 번에 반환하는 함수 (tuple로 반환)\n",
    "result = divmod(a, b)\n",
    "print(result)\n",
    "x, y = divmod(a, b) # 일반적인 사용법\n",
    "print(x, y)"
   ]
  },
  {
   "cell_type": "code",
   "execution_count": 18,
   "metadata": {},
   "outputs": [
    {
     "name": "stdout",
     "output_type": "stream",
     "text": [
      "14 4\n",
      "10 4\n",
      "40 4\n",
      "10.0 4\n",
      "2.0 4\n",
      "16.0 4\n"
     ]
    }
   ],
   "source": [
    "# 2) 대입 연산자\n",
    "\n",
    "n = 10\n",
    "n2 = 4\n",
    "n += n2 # n = n + n2\n",
    "print(n,n2) # 14 4\n",
    "n -= n2 # n = n - n2\n",
    "print(n,n2) # 10 4\n",
    "n *= n2 # n = n * n2\n",
    "print(n,n2) # 40 4\n",
    "n /= n2 # n = n / n2\n",
    "print(n,n2) # 10.0 4\n",
    "n //= n2 # n = n // n2\n",
    "print(n,n2) # 2.0 4\n",
    "n **= n2 # n = n ** n2\n",
    "print(n,n2) # 16.0  4"
   ]
  },
  {
   "cell_type": "code",
   "execution_count": 19,
   "metadata": {},
   "outputs": [
    {
     "name": "stdout",
     "output_type": "stream",
     "text": [
      "[10, 20, 30] 1\n",
      "10 20 30\n",
      "10 [20, 30]\n",
      "10 [20, 30]\n",
      "10 [20, 30]\n",
      "[10, 20, 30, 54] 5 6\n"
     ]
    }
   ],
   "source": [
    "x = [10, 20, 30]\n",
    "print(x, y)\n",
    "\n",
    "x, y, z = [10, 20, 30]\n",
    "print(x, y, z)\n",
    "\n",
    "x, *y = [10, 20, 30]\n",
    "print(x, y)\n",
    "\n",
    "x, *y = (10, 20, 30)\n",
    "print(x, y)\n",
    "\n",
    "x, *y = {10, 20, 30}\n",
    "print(x, y)\n",
    "\n",
    "*x, y, z = (10, 20, 30, 54, 5, 6) # 앞에 지정 가능\n",
    "print(x, y, z)"
   ]
  },
  {
   "cell_type": "code",
   "execution_count": 20,
   "metadata": {},
   "outputs": [
    {
     "name": "stdout",
     "output_type": "stream",
     "text": [
      "1 1 1\n",
      "홍길동 20 서울\n",
      "10 [20, 30]\n",
      "a ['b', 'c']\n",
      "x ['y', 'z']\n"
     ]
    }
   ],
   "source": [
    "# 대입 연산자 심화\n",
    "a = b = c = 1\n",
    "print(a, b, c)\n",
    "name, age, address = \"홍길동\",20,\"서울\" # 많이 사용(중요), 개수가 반드시 일치해야 함\n",
    "print(name,age,address)\n",
    "\n",
    "v1, *v2 = [10,20,30] # unpack의 개념으로 넘어감. 변수의 갯수가 적을 경우 사용\n",
    "print(v1,v2)  # 10 [20, 30]\n",
    "\n",
    "v1,*v2={'a':100,'b':200 ,'c':300}\n",
    "print(v1,v2)  # a ['b', 'c']\n",
    "\n",
    "# dict는 key 값이 저장된다\n",
    "a, *b = {'x':'홍길동', 'y':'이순신', 'z':'유관순'}\n",
    "print(a, b)"
   ]
  },
  {
   "cell_type": "code",
   "execution_count": 21,
   "metadata": {},
   "outputs": [
    {
     "name": "stdout",
     "output_type": "stream",
     "text": [
      "False\n",
      "True\n",
      "True\n",
      "True\n",
      "False\n",
      "False\n",
      "True\n",
      "True\n",
      "True\n"
     ]
    }
   ],
   "source": [
    "# 3) 비교 연산자 \n",
    "k = 10\n",
    "k2 = 5\n",
    "print( k == k2 ) # SQL에서는 =\n",
    "print( k != k2 )\n",
    "print( k > k2 )\n",
    "print( k >= k2 )\n",
    "print( k < k2 )\n",
    "print( k <= k2 )\n",
    "\n",
    "# None 비교\n",
    "xyz = None\n",
    "print( xyz is None ) # 권장\n",
    "\n",
    "# n값이 5보다 크고 20보다 작은지?\n",
    "n = 10\n",
    "result = (n > 5) and (n < 20) # 일반적인 프로그램 언어에서 작성하는 문법\n",
    "print(result)\n",
    "result = 5 < n < 20 # python만 가능\n",
    "print(result)"
   ]
  },
  {
   "cell_type": "code",
   "execution_count": 22,
   "metadata": {},
   "outputs": [
    {
     "name": "stdout",
     "output_type": "stream",
     "text": [
      "[1, 2, 3, 4, 5] 1824209008896\n",
      "[1, 2, 3, 4, 5] 1824209008896\n",
      "True True\n",
      "[1, 2, 3, 4, 5] 1824209002240\n",
      "True False\n"
     ]
    }
   ],
   "source": [
    "# 동등 비교\n",
    "a = [1, 2, 3, 4, 5]\n",
    "b = a\n",
    "print(a, id(a))\n",
    "print(b, id(b))\n",
    "print(a == b, a is b) # is는 id 비교\n",
    "c = a[:]\n",
    "print(c, id(c))\n",
    "print(a == c, a is c)"
   ]
  },
  {
   "cell_type": "code",
   "execution_count": 23,
   "metadata": {},
   "outputs": [
    {
     "name": "stdout",
     "output_type": "stream",
     "text": [
      "True\n",
      "False\n",
      "False\n",
      "False\n",
      "\n",
      "True\n",
      "True\n",
      "True\n",
      "False\n",
      "\n",
      "False\n",
      "True\n",
      "\n",
      "True\n"
     ]
    }
   ],
   "source": [
    "# 4) 논리 연산자\n",
    "print(True and True)   # True\n",
    "print(True and False)  # False\n",
    "print(False and True)  # False\n",
    "print(False and False) # False\n",
    "print()\n",
    "print(True or True)    # True\n",
    "print(True or False)   # True\n",
    "print(False or True)   # True\n",
    "print(False or False)  # False\n",
    "print()\n",
    "print(not True)        # False\n",
    "print(not False)       # True\n",
    "\n",
    "n = 10\n",
    "result = (n > 5) and (n < 20)\n",
    "print('\\n', result, sep='')"
   ]
  },
  {
   "cell_type": "code",
   "execution_count": 24,
   "metadata": {},
   "outputs": [
    {
     "name": "stdout",
     "output_type": "stream",
     "text": [
      "공백문자: True\n",
      "0 문자: True\n",
      "None: True\n",
      "[]: True\n",
      "(): True\n",
      "{}: True\n",
      "set():  True\n",
      "\n",
      "일반문자: False\n",
      "10 문자: False\n",
      "리스트:  False\n",
      "딕셔너리:  False\n"
     ]
    }
   ],
   "source": [
    "# 논리 연산자 심화\n",
    "# Fasle로 처리되는 데이터\n",
    "print(\"공백문자:\", not \"\" ) # True\n",
    "print(\"0 문자:\", not 0 )   # True\n",
    "print(\"None:\", not None ) # True\n",
    "print(\"[]:\", not [] )     # True\n",
    "print(\"():\", not () )     # True\n",
    "print(\"{}:\", not {} )     # True\n",
    "print(\"set(): \", not set())\n",
    "print()\n",
    "print(\"일반문자:\", not \"Hello\" )  # False\n",
    "print(\"10 문자:\", not 10 )       # False\n",
    "print(\"리스트: \", not [1, 2])\n",
    "print(\"딕셔너리: \", not {\"age\":20})"
   ]
  },
  {
   "cell_type": "code",
   "execution_count": 25,
   "metadata": {},
   "outputs": [
    {
     "name": "stdout",
     "output_type": "stream",
     "text": [
      "10 포함 여부:  True\n",
      "10 포함 여부:  True\n",
      "10 포함 여부:  True\n",
      "name2 키포함 여부:  False\n"
     ]
    }
   ],
   "source": [
    "# 5) 멤버쉽 연산자 ( in 연산자 )\n",
    "\n",
    "n = [10,9,8]\n",
    "result = 10 in n\n",
    "print(\"10 포함 여부: \", result)\n",
    "\n",
    "n = (10,9,8)\n",
    "result = 10 in n\n",
    "print(\"10 포함 여부: \", result)\n",
    "\n",
    "n = {10,9,8}\n",
    "result = 10 in n\n",
    "print(\"10 포함 여부: \", result)\n",
    "\n",
    "# dict는 키 존재 여부 확인\n",
    "n = {\"name\":\"홍길동\",\"age\":20}\n",
    "result = \"name2\" in n\n",
    "print(\"name2 키포함 여부: \", result)"
   ]
  },
  {
   "attachments": {},
   "cell_type": "markdown",
   "metadata": {},
   "source": [
    "### 6. 형변환"
   ]
  },
  {
   "cell_type": "code",
   "execution_count": 26,
   "metadata": {},
   "outputs": [
    {
     "name": "stdout",
     "output_type": "stream",
     "text": [
      "123 <class 'str'>\n",
      "3.14\n",
      "True\n"
     ]
    }
   ],
   "source": [
    "# 4. str 로 변환\n",
    "print(str(123), type(str(123)))  \n",
    "print(str(3.14))  \n",
    "print(str(True))  "
   ]
  },
  {
   "cell_type": "code",
   "execution_count": 27,
   "metadata": {},
   "outputs": [
    {
     "name": "stdout",
     "output_type": "stream",
     "text": [
      "3\n",
      "-3\n",
      "1\n",
      "0\n",
      "123\n",
      "3.0\n",
      "-3.0\n",
      "1.0\n",
      "0.0\n",
      "123.34\n",
      "123.0\n",
      "False\n",
      "False\n",
      "False\n",
      "False\n",
      "False\n",
      "False\n",
      "\n",
      "True\n",
      "True\n",
      "True\n",
      "True\n",
      "True\n",
      "123 <class 'str'>\n",
      "3.14\n",
      "True\n"
     ]
    }
   ],
   "source": [
    "# 일반형 데이터의 형 변환\n",
    "\n",
    "# int(값) : int로 변경\n",
    "# float(값) : float로 변경\n",
    "# bool(값) : bool로 변경\n",
    "\n",
    "# 1. int 로 변환\n",
    "print( int(3.5) )    # 3\n",
    "print( int(-3.5) )   # -3\n",
    "print( int(True) )   # 1\n",
    "print( int(False) )  # 0\n",
    "print( int(\"123\") )  # 123\n",
    "\n",
    "# 2. float 로 변환\n",
    "print( float(3) )                     # 3.0\n",
    "print( float(-3) )                    # -3.0\n",
    "print( float(True) )                  # 1.0\n",
    "print( float(False) )                 # 0.0\n",
    "print( float(\"123.34\") )              # 123.34\n",
    "print( float(\"123\") )                 # 123.0\n",
    "\n",
    "# 3. bool 로 변환\n",
    "print( bool(0) )     # False\n",
    "print( bool(\"\") )    # False\n",
    "print( bool(None) )  # False\n",
    "print( bool([]) )    # False\n",
    "print( bool({}) )    # False\n",
    "print( bool() )      # False\n",
    "print()\n",
    "print( bool(10) )          # True\n",
    "print( bool(\"123\") )       # True\n",
    "print( bool([10,20,30]) )  # True\n",
    "print( bool({\"age\":20}) )  # True\n",
    "print( bool(10,) )         # True\n",
    "\n",
    "# 4. str 로 변환\n",
    "print(str(123), type(str(123)))   # \"123\"\n",
    "print(str(3.14))  # \"3.14\"\n",
    "print(str(True))  # \"True\""
   ]
  },
  {
   "cell_type": "code",
   "execution_count": 61,
   "metadata": {},
   "outputs": [],
   "source": [
    "# 집합형 데이터의 형변환\n",
    "# str(값) : str로 변경\n",
    "# list(값) : list로 변경\n",
    "# tuple(값) : tuple로 변경\n",
    "# set(값) : set로 변경\n",
    "# dict(값) : dict로 변경"
   ]
  },
  {
   "attachments": {},
   "cell_type": "markdown",
   "metadata": {},
   "source": [
    "## 05/31(수)"
   ]
  },
  {
   "attachments": {},
   "cell_type": "markdown",
   "metadata": {},
   "source": [
    "### 1. 문자열"
   ]
  },
  {
   "cell_type": "code",
   "execution_count": 28,
   "metadata": {},
   "outputs": [
    {
     "name": "stdout",
     "output_type": "stream",
     "text": [
      "<class 'str'>\n",
      "<class 'str'>\n",
      "<class 'str'>\n",
      "<class 'str'>\n",
      "<class 'str'>\n"
     ]
    }
   ],
   "source": [
    "# 1. 문자열 생성 방법\n",
    "s = 'sequence'\n",
    "print(type(s))\n",
    "s = '''sequence'''\n",
    "print(type(s))\n",
    "s = \"\"\"sequence\"\"\"\n",
    "print(type(s))\n",
    "s = str(10)\n",
    "print(type(s))\n",
    "s = \"sequence\"\n",
    "print(type(s))"
   ]
  },
  {
   "cell_type": "code",
   "execution_count": 29,
   "metadata": {},
   "outputs": [
    {
     "name": "stdout",
     "output_type": "stream",
     "text": [
      "\n",
      "   <html>\n",
      "     <body>\n",
      "       <p>\n",
      "\n",
      "<html<body><p>\n"
     ]
    }
   ],
   "source": [
    "# triple(''' ''') 사용용도 : 정형화된 문자열 처리\n",
    "s2 = \"\"\"\n",
    "   <html>\n",
    "     <body>\n",
    "       <p>\n",
    "\"\"\"\n",
    "print(s2)\n",
    "# 홑따옴표, 쌍따옴표를 줄바꿈하려면 \\ (역슬래시) 사용\n",
    "s2 = \"<html\"\\\n",
    "    \"<body>\"\\\n",
    "        \"<p>\"\n",
    "print(s2)"
   ]
  },
  {
   "cell_type": "code",
   "execution_count": 30,
   "metadata": {},
   "outputs": [
    {
     "name": "stdout",
     "output_type": "stream",
     "text": [
      "1. 문자열 길이: 8\n",
      "2. 특정문자 포함횟수: 3\n",
      "3. 소문자로: hello\n",
      "4. 대문자로: HELLO\n",
      "5. swap 문자로: hEllO\n"
     ]
    }
   ],
   "source": [
    "# 2. 문자열 함수\n",
    "# 문자열은 str 객체로 관리\n",
    "s = \"sequence\"\n",
    "print(\"1. 문자열 길이:\", len(s)) # 8\n",
    "print(\"2. 특정문자 포함횟수:\", s.count('e')) # 3\n",
    "print(\"3. 소문자로:\", \"HeLLo\".lower()) # hello\n",
    "print(\"4. 대문자로:\", \"HeLLo\".upper()) # HELLO\n",
    "print(\"5. swap 문자로:\", \"HeLLo\".swapcase()) # hEllO"
   ]
  },
  {
   "cell_type": "code",
   "execution_count": 31,
   "metadata": {},
   "outputs": [
    {
     "name": "stdout",
     "output_type": "stream",
     "text": [
      "6. 공백제거 및 특정문자 제거:\n",
      "\n",
      "HeLLo    \n",
      "eLLH\n",
      "9\n",
      "    HeLLo\n",
      "HHeLL\n",
      "HeLLo\n",
      "eLL\n",
      "5\n"
     ]
    }
   ],
   "source": [
    "# 공백제거 및 특정문자 제거\n",
    "print(\"6. 공백제거 및 특정문자 제거:\\n\") # SQL에서 ltrim, rtrim, trim 기능과 유사\n",
    "print(\"    HeLLo    \".lstrip()) #\n",
    "print(\"HHeLLH\".lstrip(\"H\")) # eLLH\n",
    "print(len(\"    HeLLo    \".lstrip())) # 9\n",
    "print(\"    HeLLo    \".rstrip()) #\n",
    "print(\"HHeLLHH\".rstrip(\"H\")) # HHeLL\n",
    "print(\"    HeLLo    \".strip()) #\n",
    "print(\"HHeLLHH\".strip(\"H\")) # eLL\n",
    "print(len(\"    HeLLo    \".strip())) # 5"
   ]
  },
  {
   "cell_type": "code",
   "execution_count": 32,
   "metadata": {},
   "outputs": [
    {
     "name": "stdout",
     "output_type": "stream",
     "text": [
      "7. 문자열 변경: AeLAO\n",
      "8. 구분자: ['aaa', 'bbb', 'ccc']\n",
      "9. 특정 글자 시작 :  True False\n",
      "10. 특정 글자 끝 :  True False\n"
     ]
    }
   ],
   "source": [
    "print(\"7. 문자열 변경:\", \"HeLHO\".replace('H', 'A')) # AeLAO\n",
    "print(\"8. 구분자:\", \"aaa/bbb/ccc\".split(\"/\")) # ['aaa', 'bbb', 'ccc']\n",
    "print('9. 특정 글자 시작 : ', s.startswith('s'), s.startswith('a')) # True False\n",
    "print('10. 특정 글자 끝 : ', s.endswith('e'), s.endswith('x')) # True False"
   ]
  },
  {
   "cell_type": "code",
   "execution_count": 33,
   "metadata": {},
   "outputs": [
    {
     "name": "stdout",
     "output_type": "stream",
     "text": [
      "11. 문자로만 구성? True\n",
      "11. 문자로만 구성? False\n",
      "11. 숫자로만 구성? True\n"
     ]
    }
   ],
   "source": [
    "print(\"11. 문자로만 구성?\", \"대한Heloo\".isalpha())  # True\n",
    "print(\"11. 문자로만 구성?\", \"12\".isalpha())   # False\n",
    "print(\"11. 숫자로만 구성?\", \"12\".isnumeric())   # True"
   ]
  },
  {
   "cell_type": "code",
   "execution_count": 34,
   "metadata": {},
   "outputs": [
    {
     "name": "stdout",
     "output_type": "stream",
     "text": [
      "12. S.find(sub[, start[, end]]) -> int\n",
      "12. 검색위치1: 1\n",
      "12. 검색위치2: 4\n",
      "12. 검색위치2: -1\n",
      "12. 검색위치3: 7\n"
     ]
    }
   ],
   "source": [
    "print(\"12. S.find(sub[, start[, end]]) -> int\")\n",
    "print(\"12. 검색위치1:\", s.find('e')) # 1\n",
    "print(\"12. 검색위치2:\", s.find('e', 2)) # 4\n",
    "print(\"12. 검색위치2:\", s.find('x', 2)) # 없으면 -1 출력\n",
    "print(\"12. 검색위치3:\", s.rfind('e')) # 7, 가장 큰 index 값을 반환"
   ]
  },
  {
   "cell_type": "code",
   "execution_count": 35,
   "metadata": {},
   "outputs": [
    {
     "name": "stdout",
     "output_type": "stream",
     "text": [
      "13. join: A,B,C\n",
      "13. join: A 와 B 와 C\n",
      "14. center: _______Hello________\n",
      "15. rjust: _______________Hello\n",
      "16. ljust: Hello_______________\n",
      "17. capitalize: Hellox\n"
     ]
    }
   ],
   "source": [
    "print(\"13. join:\", \",\".join([\"A\", \"B\", \"C\"])) # A,B,C / 많이 사용\n",
    "print(\"13. join:\", \" 와 \".join([\"A\", \"B\", \"C\"]))\n",
    "\n",
    "# SQL의 lpad, rpad와 비슷한 기능\n",
    "print(\"14. center:\", \"Hello\".center(20, \"_\")) # 20 자리수로 표시하고 _로 마킹(중앙 정렬)\n",
    "print(\"15. rjust:\", \"Hello\".rjust(20, \"_\")) # 20 자리수로 표시하고 _로 마킹(오른쪽 정렬)\n",
    "print(\"16. ljust:\", \"Hello\".ljust(20, \"_\")) # 20 자리수로 표시하고 _로 마킹(왼쪽 정렬)\n",
    "print(\"17. capitalize:\", \"heLLOX\".capitalize()) # 첫글자 대문자"
   ]
  },
  {
   "cell_type": "code",
   "execution_count": 36,
   "metadata": {},
   "outputs": [
    {
     "name": "stdout",
     "output_type": "stream",
     "text": [
      "18. 멤버쉽 연산자1: True\n",
      "19. 멤버쉽 연산자2: False\n"
     ]
    }
   ],
   "source": [
    "print(\"18. 멤버쉽 연산자1:\", \"H\" in \"Hello\") # True\n",
    "print(\"19. 멤버쉽 연산자2:\", \"X\" in \"Hello\") # False"
   ]
  },
  {
   "cell_type": "code",
   "execution_count": 37,
   "metadata": {},
   "outputs": [
    {
     "name": "stdout",
     "output_type": "stream",
     "text": [
      "hello안녕하세요 b'hello\\xec\\x95\\x88\\xeb\\x85\\x95\\xed\\x95\\x98\\xec\\x84\\xb8\\xec\\x9a\\x94'\n",
      "b'hello\\xec\\x95\\x88\\xeb\\x85\\x95\\xed\\x95\\x98\\xec\\x84\\xb8\\xec\\x9a\\x94' hello안녕하세요\n"
     ]
    }
   ],
   "source": [
    "# 문자열 종류\n",
    "# s = 'hello' => unicode string, 일반적으로 사용하는 문자열 / 텍스트 기반\n",
    "# s = b'hello' => bytes string, 네트워크를 이용하는 경우에는 bytes string으로 처리 / binary 기반\n",
    "# 1) unicode -> bytes 변경 (encode 함수, 암호화 작업)\n",
    "s = \"hello안녕하세요\"\n",
    "s2 = s.encode('utf-8')\n",
    "print(s, s2)\n",
    "# 2) bytes -> unicode 변경 (decode 함수, 복호화 작업)\n",
    "s3 = s2.decode('utf-8')\n",
    "print(s2, s3)"
   ]
  },
  {
   "cell_type": "code",
   "execution_count": 21,
   "metadata": {},
   "outputs": [
    {
     "name": "stdout",
     "output_type": "stream",
     "text": [
      "Help on method_descriptor:\n",
      "\n",
      "encode(self, /, encoding='utf-8', errors='strict')\n",
      "    Encode the string using the codec registered for encoding.\n",
      "    \n",
      "    encoding\n",
      "      The encoding in which to encode the string.\n",
      "    errors\n",
      "      The error handling scheme to use for encoding errors.\n",
      "      The default is 'strict' meaning that encoding errors raise a\n",
      "      UnicodeEncodeError.  Other possible values are 'ignore', 'replace' and\n",
      "      'xmlcharrefreplace' as well as any other name registered with\n",
      "      codecs.register_error that can handle UnicodeEncodeErrors.\n",
      "\n"
     ]
    }
   ],
   "source": [
    "help(str.encode)"
   ]
  },
  {
   "cell_type": "code",
   "execution_count": 38,
   "metadata": {},
   "outputs": [
    {
     "name": "stdout",
     "output_type": "stream",
     "text": [
      "1: 대\n",
      "2: 국\n",
      "2: 민\n",
      "2: 한\n",
      "3: 대한민\n",
      "4: 한민국\n",
      "5: 대한\n",
      "6: 한민\n",
      "7: 한민국\n",
      "7: 대한민\n",
      "8: 대민\n",
      "9: 대한민국\n",
      "10: 대한민국대한민국\n",
      "11: 국민한대\n",
      "11: 국한\n"
     ]
    }
   ],
   "source": [
    "# 2. 문자열 인덱싱과 슬라이싱\n",
    "m = \"대한민국\"\n",
    "\n",
    "# 1) 인덱싱(indexing)\n",
    "print(\"1:\", m[0])  \n",
    "print(\"2:\", m[-1]) \n",
    "print(\"2:\", m[2])\n",
    "print(\"2:\", m[-3])\n",
    "\n",
    "# 2) 슬라이싱\n",
    "# [start:end:step] / start: 시작 idx 값, end: 끝 idx 값. 포함되지 않음, step: default 1, 모든 값 생략 가능\n",
    "print(\"3:\", m[0:3]) \n",
    "print(\"4:\", m[1:]) \n",
    "print(\"5:\", m[:2]) \n",
    "print(\"6:\", m[-3:-1])\n",
    "print(\"7:\", m[-3:]) \n",
    "print(\"7:\", m[:-1]) \n",
    "print(\"8:\", m[0:3:2]) \n",
    "print(\"9:\", m[:])   \n",
    "print(\"10:\", m*2)    \n",
    "print(\"11:\", m[::-1])    # reverse와 동일\n",
    "print(\"11:\", m[::-2])"
   ]
  },
  {
   "attachments": {},
   "cell_type": "markdown",
   "metadata": {},
   "source": [
    "### 2. List"
   ]
  },
  {
   "cell_type": "code",
   "execution_count": 39,
   "metadata": {},
   "outputs": [
    {
     "name": "stdout",
     "output_type": "stream",
     "text": [
      "[1, 2, 3, 4]\n",
      "[]\n",
      "[1, 2, 3, 4, 1, 2, 3, 4]\n",
      "['h', 'e', 'l', 'l', 'o'] [10, 20, 30]\n"
     ]
    }
   ],
   "source": [
    "# 1. 리스트 \n",
    "# 1)리스트 생성\n",
    "string_list = ['abc', 'defghi']\n",
    "int_list = [1, 2, 3, 4]\n",
    "empty_list = []\n",
    "mixed_list = [1, 'abc', True, 2.34, None] # 거의 사용하지 않음\n",
    "nested_list = [['a', 'b', 'c'], [1, 2, 3]] # 중첩 가능\n",
    "\n",
    "# list(집합형)\n",
    "xxx = list('hello') \n",
    "xxx2 = list((10,20,30)) \n",
    "\n",
    "print(int_list)\n",
    "print(empty_list)\n",
    "print(int_list*2) # 반복출력\n",
    "print(xxx, xxx2)"
   ]
  },
  {
   "cell_type": "code",
   "execution_count": 40,
   "metadata": {},
   "outputs": [
    {
     "name": "stdout",
     "output_type": "stream",
     "text": [
      "1. append: [1, 2, 3, 10, [9, 8], (100, 200)]\n",
      "2. insert: [[4, 5, 6], 100, 1, 2, 3, 10, [9, 8], (100, 200)]\n",
      "3. extend: [1, 2, 3, 10]\n",
      "3. extend: [1, 2, 3, 10, 9, 8]\n",
      "3. extend: [1, 2, 3, 10, 9, 8, 'X', 'Y', 'Z']\n",
      "3. extend: [1, 2, 3, 10, 9, 8, 'X', 'Y', 'Z', 7]\n",
      "<class 'int'> <class 'tuple'>\n"
     ]
    }
   ],
   "source": [
    "# 2) 리스트 추가,삽입,병합,삭제\n",
    "m = [1,2,3]\n",
    "\n",
    "# 추가: 가장 마지막에 추가\n",
    "m.append(10)\n",
    "m.append([9,8])\n",
    "m.append((100,200))\n",
    "print(\"1. append:\",m) \n",
    "\n",
    "# 삽입\n",
    "m.insert(0,100) # 0번 인덱스에 100을 삽입\n",
    "m.insert(0,[4,5,6])\n",
    "print(\"2. insert:\",m) \n",
    "\n",
    "# 병합 ( extend 또는  + ) / 집합형으로 인수를 전달해야 한다\n",
    "x = [1,2,3]\n",
    "x.extend([10])\n",
    "print(\"3. extend:\",x)\n",
    "x.extend([9,8])\n",
    "print(\"3. extend:\",x)\n",
    "x.extend(\"XYZ\")\n",
    "print(\"3. extend:\",x)\n",
    "x.extend((7,))  # tuple\n",
    "print(\"3. extend:\",x) \n",
    "\n",
    "k = (10)\n",
    "k2 = (10,)\n",
    "print(type(k), type(k2))\n"
   ]
  },
  {
   "cell_type": "code",
   "execution_count": 41,
   "metadata": {},
   "outputs": [
    {
     "name": "stdout",
     "output_type": "stream",
     "text": [
      "9. pop 함수(위치) [2, 3]\n",
      "\n",
      "10. remove(값):  [3]\n",
      "11. del(위치) []\n",
      "12. clear:  []\n"
     ]
    }
   ],
   "source": [
    "# 리스트 삭제\n",
    "kk4 = [1,2,3,4]\n",
    "# list.pop(idx)\n",
    "kk4.pop()  # pop(-1) 과 동일\n",
    "kk4.pop(0)\n",
    "print(\"9. pop 함수(위치)\",kk4)\n",
    "print()\n",
    "\n",
    "# list.remove(values)\n",
    "kk4.remove(2)  # 값에 의한 삭제\n",
    "print(\"10. remove(값): \", kk4)\n",
    "\n",
    "# del list[idx] -> 수업 때 안 함\n",
    "del kk4[0]  # 위치에 의한 삭제\n",
    "print(\"11. del(위치)\", kk4)\n",
    "\n",
    "# list.clear() -> 전체 삭제\n",
    "kk4.clear()\n",
    "print(\"12. clear: \" , kk4)\n"
   ]
  },
  {
   "cell_type": "code",
   "execution_count": 42,
   "metadata": {},
   "outputs": [
    {
     "name": "stdout",
     "output_type": "stream",
     "text": [
      "4. 리스트 길이: 4\n",
      "5. 포함 갯수: 3\n",
      "6. 특정 위치: 1\n",
      "7. 포함 여부1: True\n",
      "7. 포함 여부2: False\n"
     ]
    }
   ],
   "source": [
    "# etc\n",
    "print(\"4. 리스트 길이:\" , len([1,2,3,4]))\n",
    "print(\"5. 포함 갯수:\" , [10,2,3,2,9,2].count(2))\n",
    "x3 = [100,200,300]\n",
    "print(\"6. 특정 위치:\" , x3.index(200)) # 문자열에서는 find\n",
    "print(\"7. 포함 여부1:\" , 9 in [9,8,7])\n",
    "print(\"7. 포함 여부2:\" , 6 in [9,8,7])"
   ]
  },
  {
   "cell_type": "code",
   "execution_count": 43,
   "metadata": {},
   "outputs": [
    {
     "name": "stdout",
     "output_type": "stream",
     "text": [
      "8. 거꾸로(자신이 변경): [3, 2, 1]\n",
      "\n",
      "8. 거꾸로(새로운 객체반환): [3, 2, 1] <list_reverseiterator object at 0x000001A8BB4A2E00> [1, 2, 3]\n"
     ]
    }
   ],
   "source": [
    "# list.reverse() / revesed(list)\n",
    "# list.sort() / sorted(list)\n",
    "# built-in(__builtins__) 함수들은 원본 유지 후 복사본 반환, list 메서드는 원본을 변형시킴\n",
    "\n",
    "x = [1,2,3]\n",
    "x.reverse() # 원본을 거꾸로 변경\n",
    "print(\"8. 거꾸로(자신이 변경):\" , x) \n",
    "print()\n",
    "y = reversed(x)  # 원본 유지 + 거꾸로 된 복사본을 반환 / 뒤집힌 새로운 객체 반환\n",
    "print(\"8. 거꾸로(새로운 객체반환):\", x, y, list(y))"
   ]
  },
  {
   "cell_type": "code",
   "execution_count": 44,
   "metadata": {},
   "outputs": [
    {
     "name": "stdout",
     "output_type": "stream",
     "text": [
      "13. 오름차순 정렬: [2, 3, 5, 7, 9, 10, 88]\n",
      "13. 내림차순 정렬: [88, 10, 9, 7, 5, 3, 2]\n",
      "14. 기본 문자열 정렬: ['123', '43', '9999']\n",
      "14. 문자형을 수치형으로 변환하여  정렬: ['43', '123', '9999']\n",
      "14. 길이에 따라서  정렬: ['박혁거세', '홍길동', '김']\n",
      "15. 정렬전: [3, 1, 2]\n",
      "15. 정렬후 1: [1, 2, 3]\n",
      "15. 정렬후 2: [3, 2, 1]\n",
      "15. 원본 정렬후: [3, 1, 2]\n"
     ]
    }
   ],
   "source": [
    "# 3) 리스트 정렬1- sort 함수\n",
    "xxx = [88,2,5,3,9,7,10]\n",
    "xxx.sort() # in-place로 동작\n",
    "print(\"13. 오름차순 정렬:\",  xxx)\n",
    "xxx.sort(reverse=True)       # 역순으로 정렬\n",
    "print(\"13. 내림차순 정렬:\",  xxx)\n",
    "\n",
    "yyy = ['123', '9999', '43']\n",
    "yyy.sort()\n",
    "print(\"14. 기본 문자열 정렬:\",  yyy)\n",
    "yyy.sort(key=int) # key=함수명\n",
    "print(\"14. 문자형을 수치형으로 변환하여  정렬:\",  yyy)  # 문자열이지만 숫자형으로 정렬\n",
    "zz = ['홍길동','김', '박혁거세']\n",
    "zz.sort(key=len, reverse=True)\n",
    "print(\"14. 길이에 따라서  정렬:\",  zz)\n",
    "\n",
    "# 3) 리스트 정렬2- sorted 함수\n",
    "zzz = [3,1,2]\n",
    "zzz2 = sorted(zzz)\n",
    "zzz3 = sorted(zzz,reverse=True)\n",
    "print(\"15. 정렬전:\",  zzz )\n",
    "print(\"15. 정렬후 1:\",  zzz2 )\n",
    "print(\"15. 정렬후 2:\",  zzz3 )\n",
    "print(\"15. 원본 정렬후:\",  zzz)"
   ]
  },
  {
   "cell_type": "code",
   "execution_count": 45,
   "metadata": {},
   "outputs": [
    {
     "name": "stdout",
     "output_type": "stream",
     "text": [
      "맨 마지막:  10\n",
      "맨 마지막에서 두번째 :  9\n",
      "original:  [1, 2, 3, 4, 5, 6, 7, 8, 9, 10]\n",
      "all:  [1, 2, 3, 4, 5, 6, 7, 8, 9, 10]\n",
      "reverse:  [10, 9, 8, 7, 6, 5, 4, 3, 2, 1]\n",
      "1 부터 끝까지:  [2, 3, 4, 5, 6, 7, 8, 9, 10]\n",
      "0 부터 5까지:  [1, 2, 3, 4, 5, 6]\n",
      "2 부터 5까지:  [3, 4, 5, 6]\n"
     ]
    }
   ],
   "source": [
    "# 4) 리스트 인덱싱과 슬라이싱 (문자열과 동일)\n",
    "# 1차원 리스트\n",
    "arr = [1,2,3,4,5,6,7,8,9,10]\n",
    "print(\"맨 마지막: \", arr[-1])   \n",
    "print(\"맨 마지막에서 두번째 : \", arr[-2])   \n",
    "\n",
    "print(\"original: \", arr)  \n",
    "print(\"all: \", arr[:])    \n",
    "print(\"reverse: \", arr[::-1])  \n",
    "print(\"1 부터 끝까지: \", arr[1:])  \n",
    "print(\"0 부터 5까지: \", arr[:6])   \n",
    "print(\"2 부터 5까지: \", arr[2:6])  "
   ]
  },
  {
   "cell_type": "code",
   "execution_count": 46,
   "metadata": {},
   "outputs": [
    {
     "name": "stdout",
     "output_type": "stream",
     "text": [
      "original: [[1, 2, 3, 4, 5], [10, 20, 30, 40, 50]]\n",
      "all: [[1, 2, 3, 4, 5], [10, 20, 30, 40, 50]]\n",
      "arr[0]: [1, 2, 3, 4, 5]\n",
      "arr[1]: [10, 20, 30, 40, 50]\n",
      "arr[0][:3]: [1, 2, 3]\n",
      "값 50 얻기: 50\n"
     ]
    }
   ],
   "source": [
    "# 2차원 리스트 (중첩)\n",
    "arr = [[1,2,3,4,5], [10,20,30,40,50]]\n",
    "print(\"original:\", arr)\n",
    "print(\"all:\", arr[:])\n",
    "print(\"arr[0]:\", arr[0]) \n",
    "print(\"arr[1]:\", arr[1]) \n",
    "print(\"arr[0][:3]:\", arr[0][:3] ) \n",
    "print(\"값 50 얻기:\", arr[1][-1])"
   ]
  },
  {
   "cell_type": "code",
   "execution_count": 47,
   "metadata": {},
   "outputs": [
    {
     "name": "stdout",
     "output_type": "stream",
     "text": [
      "[1, 2, 3] 1824209506432 [1, 2, 3] 1824209506432\n",
      "[100, 2, 3] [100, 2, 3]\n",
      "[1, 2, 3] [1, 2, 3] 1824208788032 1824209016512\n",
      "[100, 2, 3] [1, 2, 3]\n"
     ]
    }
   ],
   "source": [
    "# 깊은 복사, 앝은 복사\n",
    "n = [1, 2, 3]\n",
    "# 1) 얕은 복사\n",
    "m = n\n",
    "print(n, id(n), m, id(m))\n",
    "n[0] = 100\n",
    "print(n, m)\n",
    "\n",
    "# 2) 깊은 복사\n",
    "n = [1, 2, 3]\n",
    "# m = n[:]\n",
    "# m = n.copy()\n",
    "m = list(n)\n",
    "print(n, m, id(n), id(m))\n",
    "n[0] = 100\n",
    "print(n, m)"
   ]
  },
  {
   "attachments": {},
   "cell_type": "markdown",
   "metadata": {},
   "source": [
    "### 3. Tuple"
   ]
  },
  {
   "cell_type": "code",
   "execution_count": 48,
   "metadata": {},
   "outputs": [
    {
     "name": "stdout",
     "output_type": "stream",
     "text": [
      "(10, 20, 30, 43) (9, 8, 7, 7, 6, 8, 9) (100,)\n",
      "('h', 'e', 'l', 'l', 'o')\n"
     ]
    }
   ],
   "source": [
    "# 1) 튜플 생성\n",
    "xx = (10,20,30,43)\n",
    "xx2 = tuple([9,8,7,7,6,8,9])\n",
    "xx3 = (100,)  # 값 하나 가진 튜플 생성\n",
    "print(xx, xx2, xx3) \n",
    "print(tuple(\"hello\"))"
   ]
  },
  {
   "cell_type": "code",
   "execution_count": 72,
   "metadata": {},
   "outputs": [
    {
     "name": "stdout",
     "output_type": "stream",
     "text": [
      "튜플 길이: 4\n",
      "포함 갯수: 3\n",
      "특정 위치: 1\n",
      "포함 여부1: True\n",
      "포함 여부2: False\n",
      "\n"
     ]
    }
   ],
   "source": [
    "# 2) 튜플 함수\n",
    "print(\"튜플 길이:\" , len((1,2,3,4)))\n",
    "print(\"포함 갯수:\" , (10,2,3,2,9,2).count(2))\n",
    "x3 = (100,200,300)\n",
    "print(\"특정 위치:\" , x3.index(200))\n",
    "print(\"포함 여부1:\" , 9 in (9,8,7))\n",
    "print(\"포함 여부2:\" , 6 in (9,8,7))\n",
    "print()"
   ]
  },
  {
   "cell_type": "code",
   "execution_count": 131,
   "metadata": {},
   "outputs": [
    {
     "name": "stdout",
     "output_type": "stream",
     "text": [
      "특정 값: 1\n",
      "slice: (1, 2, 3)\n",
      "slice: (1, 2, 3, 4, 5)\n",
      "slice: (4, 5)\n",
      "slice: (1, 2, 3, 4, 5)\n",
      "\n",
      "중첩 : (1, 2, 3, (9, 8, 7))\n",
      "특정 값 출력1: 9\n",
      "특정 값 출력2: (7,)\n",
      "특정 값 출력3: (9, 8)\n"
     ]
    }
   ],
   "source": [
    "# 3) 인덱싱 및 슬라이싱\n",
    "kk = (1,2,3,4,5)\n",
    "print(\"특정 값:\" , kk[0])\n",
    "print(\"slice:\" , kk[0:3])\n",
    "print(\"slice:\" , kk[:6])\n",
    "print(\"slice:\" , kk[3:])\n",
    "print(\"slice:\" , kk[:])\n",
    "print()\n",
    "kk3 =(1,2,3,(9,8,7))\n",
    "print(\"중첩 :\" , kk3)\n",
    "print(\"특정 값 출력1:\" , kk3[3][0])\n",
    "print(\"특정 값 출력2:\" , kk3[3][2:])\n",
    "print(\"특정 값 출력3:\" , kk3[3][:2])"
   ]
  },
  {
   "attachments": {},
   "cell_type": "markdown",
   "metadata": {},
   "source": [
    "### 4. Set"
   ]
  },
  {
   "cell_type": "code",
   "execution_count": 132,
   "metadata": {},
   "outputs": [
    {
     "name": "stdout",
     "output_type": "stream",
     "text": [
      "{1, 2, 3} set()\n",
      "{'o', 'e', 'h', 'l'}\n",
      "{10, 20, (100, 200), '홍길동'}\n"
     ]
    }
   ],
   "source": [
    "# 1.셋 생성\n",
    "m = {1,2,3,1}\n",
    "m2 = set() \n",
    "print(m, m2)\n",
    "print(set(\"hello\"))\n",
    "\n",
    "# 여러 요소값 저장 가능하지만 mutable 값 저장 불가 \n",
    "m3 = {10,20,\"홍길동\",(100,200)}\n",
    "print(m3) \n",
    "# m4 = {10,20,\"홍길동\",[1,2]}  # mutable 데이터인 리스트 저장 불가\n",
    "# print(m4)  # 에러\n",
    "# print(m*2) # error , 반복출력 불가"
   ]
  },
  {
   "cell_type": "code",
   "execution_count": 134,
   "metadata": {},
   "outputs": [
    {
     "name": "stdout",
     "output_type": "stream",
     "text": [
      "add1: {10, 1, 2, 3}\n",
      "add2: {1, 2, 3, 10, '홍길동'}\n",
      "add3: {1, 2, 3, 10, (9, 8), '홍길동'}\n"
     ]
    }
   ],
   "source": [
    "# 2. set 함수\n",
    "# 가. 값 추가 ==> 반드시 immutable 만 가능\n",
    "m = {1,2,3}\n",
    "m.add(10)\n",
    "print(\"add1:\",m) \n",
    "m.add(\"홍길동\")\n",
    "print(\"add2:\",m) \n",
    "m.add((9,8))\n",
    "print(\"add3:\",m) "
   ]
  },
  {
   "cell_type": "code",
   "execution_count": 79,
   "metadata": {},
   "outputs": [
    {
     "name": "stdout",
     "output_type": "stream",
     "text": [
      "update1_set: {1, 2, 3, 4}\n",
      "update2_list: {1, 2, 3, 4, 5, 6, 7}\n",
      "update3_tuple: {1, 2, 3, 4, 5, 6, 7, 9, 10}\n"
     ]
    }
   ],
   "source": [
    "# 나. union 연산되는 update(병합: 집합형에 저장된 데이터를 꺼내서 처리)\n",
    "m2 = {1,2}\n",
    "m2.update({3,4})\n",
    "print(\"update1_set:\" , m2)\n",
    "m2.update([5,6,7])\n",
    "print(\"update2_list:\" , m2)\n",
    "m2.update((9,10))\n",
    "print(\"update3_tuple:\" , m2)"
   ]
  },
  {
   "cell_type": "code",
   "execution_count": 91,
   "metadata": {},
   "outputs": [
    {
     "name": "stdout",
     "output_type": "stream",
     "text": [
      "{1, 2, 3}\n",
      "{1, 2, 3}\n",
      "{1, 2}\n",
      ">>>>>>>>>>>>>>>>> {2}\n"
     ]
    }
   ],
   "source": [
    "# 다. 삭제 ==> discard, remove, pop\n",
    "m2 = {1,2,3,4}\n",
    "m2.discard(4)  #  If the element is not a member, do nothing. (없는 값을 넣으면 아무 작업도 하지 않음)\n",
    "print(m2)\n",
    "m2.discard(14)\n",
    "print(m2)\n",
    "m2.remove(3)  #  If the element is not a member, raise a KeyError. (없는 값을 넣으면 에러)\n",
    "print(m2)\n",
    "m2.pop()      #  Raises KeyError if the set is empty. (임의의 값을 삭제하며, 비어있을 경우 에러)\n",
    "print(\">>>>>>>>>>>>>>>>>\", m2)"
   ]
  },
  {
   "cell_type": "code",
   "execution_count": 92,
   "metadata": {},
   "outputs": [
    {
     "name": "stdout",
     "output_type": "stream",
     "text": [
      "set 길이: 5\n",
      "포함 여부1: True\n",
      "포함 여부2: False\n",
      "\n",
      "set()\n",
      "\n",
      "union: {1, 2, 3, 4}\n",
      "intersection: {3}\n",
      "difference: 차집합 {1, 2}\n",
      "exclusive difference: 대칭 차집합 {1, 2, 4}\n"
     ]
    }
   ],
   "source": [
    "# 라. set 함수\n",
    "print(\"set 길이:\" , len({1,2,3,4,5}))\n",
    "x3 = {100,200,300}\n",
    "print(\"포함 여부1:\" , 9 in {9,8,7})\n",
    "print(\"포함 여부2:\" , 6 in {9,8,7})\n",
    "print()\n",
    "x3.clear()\n",
    "print(x3)\n",
    "print()\n",
    "\n",
    "# 6) set 연산자 및 함수\n",
    "a = {1,2,3,1}\n",
    "b = {3,4}\n",
    "print(\"union:\" , a.union(b))\n",
    "print(\"intersection:\" , a.intersection(b))\n",
    "print(\"difference: 차집합\" , a.difference(b))\n",
    "print(\"exclusive difference: 대칭 차집합\" ,\n",
    "      a.symmetric_difference(b))"
   ]
  },
  {
   "attachments": {},
   "cell_type": "markdown",
   "metadata": {},
   "source": [
    "### 5. Dict"
   ]
  },
  {
   "cell_type": "code",
   "execution_count": 94,
   "metadata": {},
   "outputs": [
    {
     "name": "stdout",
     "output_type": "stream",
     "text": [
      "{} {} {'name': '홍길동1', 'age': 20} {'name': '홍길동2', 'age': 20}\n"
     ]
    }
   ],
   "source": [
    "# 1) 딕트 ( dict ) 생성 : immutable한 키와 mutable한 값으로 구성\n",
    "m0 = {}\n",
    "m1 = dict()\n",
    "m2 = {'name':'홍길동1','age':20} # 일반적인 생성 방법\n",
    "m3 = dict(name='홍길동2', age=20)\n",
    "print(m0, m1, m2, m3)"
   ]
  },
  {
   "cell_type": "code",
   "execution_count": 95,
   "metadata": {},
   "outputs": [
    {
     "name": "stdout",
     "output_type": "stream",
     "text": [
      "{'espresso': '에스프레소', 'latte': '라떼'}\n",
      "요소추가: {'espresso': '에스프레소', 'latte': '라떼', 'lungo': '룽고'}\n"
     ]
    }
   ],
   "source": [
    "# 2) 딕셔너리 함수\n",
    "# (1) dict 추가\n",
    "coffee = {'espresso':'에스프레소', 'latte':'라떼'}\n",
    "print(coffee)\n",
    "coffee['lungo'] = '룽고'    #요소를 추가\n",
    "print(\"요소추가:\", coffee)"
   ]
  },
  {
   "cell_type": "code",
   "execution_count": 96,
   "metadata": {},
   "outputs": [
    {
     "name": "stdout",
     "output_type": "stream",
     "text": [
      "요소변경: {'espresso': '에스프레소', 'latte': '라떼2', 'lungo': '룽고'}\n"
     ]
    }
   ],
   "source": [
    "# (2) dict 변경 ==> 내부적으로 union으로 처리된다.\n",
    "coffee['latte'] = '라떼2'\n",
    "print(\"요소변경:\",coffee)"
   ]
  },
  {
   "cell_type": "code",
   "execution_count": 97,
   "metadata": {},
   "outputs": [
    {
     "name": "stdout",
     "output_type": "stream",
     "text": [
      "요소삭제1: {'espresso': '에스프레소', 'latte': '라떼2'}\n",
      "요소삭제2: {'espresso': '에스프레소'}\n",
      "요소전체삭제: {}\n"
     ]
    }
   ],
   "source": [
    "# (3) dict 삭제 ==> del\n",
    "del coffee['lungo']        #요소를 삭제\n",
    "print(\"요소삭제1:\",coffee)\n",
    "coffee.pop('latte')        #요소를 삭제\n",
    "print(\"요소삭제2:\",coffee)\n",
    "\n",
    "coffee.clear()            #요소 전체 삭제\n",
    "print(\"요소전체삭제:\",coffee)"
   ]
  },
  {
   "cell_type": "code",
   "execution_count": 101,
   "metadata": {},
   "outputs": [
    {
     "name": "stdout",
     "output_type": "stream",
     "text": [
      "병합1: {'name': '유관순', 'age': 20, 'address': 'seoul'}\n",
      "한꺼번에 병합2: {'name': 'aaa2', 'age': 202, 'address': 'seoul'}\n"
     ]
    }
   ],
   "source": [
    "# (4) 병합 또는 한꺼번에 수정: update\n",
    "x = {'name':'유관순','age':20}\n",
    "y = {'address':'seoul'}\n",
    "x.update(y)\n",
    "print(\"병합1:\",x)\n",
    "\n",
    "# 수정 역할(한꺼번에 많은 value 값을 수정)\n",
    "x.update({'name':'aaa2','age':202})\n",
    "print(\"한꺼번에 병합2:\",x)"
   ]
  },
  {
   "cell_type": "code",
   "execution_count": 110,
   "metadata": {},
   "outputs": [
    {
     "name": "stdout",
     "output_type": "stream",
     "text": [
      "{'espresso': '에스프레소', 'latte': '라떼'}\n",
      "2\n",
      "에스프레소\n",
      "라떼\n",
      "Not a Coffee\n",
      "None\n",
      "\n",
      "dict_keys(['espresso', 'latte']) ['espresso', 'latte']\n",
      "에스프레소 에스프레소 에스프레소\n",
      "dict_values(['에스프레소', '라떼']) ['에스프레소', '라떼']\n",
      "dict_items([('espresso', '에스프레소'), ('latte', '라떼')]) [('espresso', '에스프레소'), ('latte', '라떼')]\n"
     ]
    }
   ],
   "source": [
    "#  (5) dict  정보 얻기\n",
    "coffee = {'espresso': '에스프레소', 'latte': '라떼'}\n",
    "print(coffee)\n",
    "print(len(coffee))  # 길이 출력, 2\n",
    "\n",
    "# key 값을 알고 있는 경우 사용\n",
    "print(coffee['espresso'])  # 키를 이용해 값을 조회,  없으면 에러 , 에스프레소\n",
    "print(coffee.get('latte'))  # key로 value 얻기 , 라떼\n",
    "print(coffee.get('latt2e', 'Not a Coffee'))  #  없으면 기본값 출력 , 기본값 지정안하면 None 출력\n",
    "print(coffee.get('latt2e'))  #  없으면 기본값 출력 , 기본값 지정안하면 None 출력\n",
    "print()\n",
    "\n",
    "# key값이 너무 많거나 모르는 경우 사용\n",
    "print(coffee.keys(), list(coffee.keys()))  # key 목록 출력\n",
    "keys = list(coffee.keys())\n",
    "print(coffee[keys[0]], coffee['espresso'], coffee.get(keys[0]))\n",
    "\n",
    "# value만 가져오는 경우 사용\n",
    "print(coffee.values(), list(coffee.values()))  # value 목록 출력\n",
    "\n",
    "# key, value 쌍으로 함께 가져오는 경우 사용\n",
    "print(coffee.items(), list(coffee.items()))  # key, value 출력"
   ]
  },
  {
   "cell_type": "code",
   "execution_count": 111,
   "metadata": {},
   "outputs": [
    {
     "name": "stdout",
     "output_type": "stream",
     "text": [
      "{'a': 10, 'b': 20, 'c': 30}\n"
     ]
    }
   ],
   "source": [
    "# (6) 두 개의 자료구조를 하나로 묶음 ==> 짝이 안맞는 것은 제외됨.\n",
    "a = ['a','b','c']\n",
    "b = [10,20,30,40]\n",
    "print(dict(zip(a,b)))"
   ]
  },
  {
   "attachments": {},
   "cell_type": "markdown",
   "metadata": {},
   "source": [
    "### 6. 집합형 형변환\n",
    "- 집합형 데이터의 형변환\n",
    "1.  str(값) : str로 변경\n",
    "1.  list(값) : list로 변경\n",
    "1.  tuple(값) : tuple로 변경\n",
    "1. set(값) : set로 변경\n",
    "1.  dict(값) : dict로 변경"
   ]
  },
  {
   "cell_type": "code",
   "execution_count": 118,
   "metadata": {},
   "outputs": [
    {
     "name": "stdout",
     "output_type": "stream",
     "text": [
      "list: [10, 20, 30, 30]\n",
      "list -> tuple: (10, 20, 30, 30)\n",
      "list -> set: {10, 20, 30} \n",
      "\n",
      "set: {10, 20, 30}\n",
      "set -> list: [10, 20, 30]\n",
      "set -> tuple: (10, 20, 30)\n"
     ]
    }
   ],
   "source": [
    "# list -> tuple,set\n",
    "a = [10,20,30,30]\n",
    "a2 = tuple(a)\n",
    "a3 = set(a)\n",
    "print(\"list:\",a)\n",
    "print(\"list -> tuple:\", a2)\n",
    "print(\"list -> set:\", a3, '\\n')\n",
    "\n",
    "\n",
    "# set -> list, tuple\n",
    "a = {10,20,30}\n",
    "a2 = list(a)\n",
    "a3 = tuple(a)\n",
    "print(\"set:\", a)\n",
    "print(\"set -> list:\", a2)\n",
    "print(\"set -> tuple:\", a3)"
   ]
  },
  {
   "cell_type": "code",
   "execution_count": 119,
   "metadata": {},
   "outputs": [
    {
     "name": "stdout",
     "output_type": "stream",
     "text": [
      "tuple: (10, 20, 30, 30)\n",
      "tuple -> list: [10, 20, 30, 30]\n",
      "tuple -> set: {10, 20, 30} \n",
      "\n",
      "dict: {'name': '홍길동', 'age': 100}\n",
      "dict -> list: ['name', 'age']\n",
      "dict -> set: {'age', 'name'}\n",
      "dict -> tuple: ('name', 'age') \n",
      "\n",
      "str -> list: ['홍', '길', '동', '길']\n",
      "str -> tuple: ('홍', '길', '동', '길')\n",
      "str -> set: {'길', '동', '홍'}\n"
     ]
    }
   ],
   "source": [
    "# tuple -> list, set\n",
    "a = (10,20,30,30)\n",
    "a2 = list(a)\n",
    "a3 = set(a)\n",
    "print(\"tuple:\", a)\n",
    "print(\"tuple -> list:\", a2)\n",
    "print(\"tuple -> set:\", a3, '\\n')\n",
    "\n",
    "# dict -> list,set,tuple (키만 추출)\n",
    "a = {\"name\":\"홍길동\",\"age\":100}\n",
    "a2 = list(a)\n",
    "a3 = set(a)\n",
    "a4 = tuple(a)\n",
    "print(\"dict:\", a)\n",
    "print(\"dict -> list:\", a2)\n",
    "print(\"dict -> set:\", a3)\n",
    "print(\"dict -> tuple:\", a4, '\\n')\n",
    "\n",
    "\n",
    "# str --> list, tuple, set\n",
    "print(\"str -> list:\", list(\"홍길동길\"))\n",
    "print(\"str -> tuple:\", tuple(\"홍길동길\"))\n",
    "print(\"str -> set:\", set(\"홍길동길\"))"
   ]
  },
  {
   "attachments": {},
   "cell_type": "markdown",
   "metadata": {},
   "source": [
    "## 06/01(목)"
   ]
  },
  {
   "attachments": {},
   "cell_type": "markdown",
   "metadata": {},
   "source": [
    "### 1. 조건문(분기문)\n",
    "- 조건에 따라 실행되거나 실행되지 않는 문장을 작성"
   ]
  },
  {
   "cell_type": "code",
   "execution_count": 2,
   "metadata": {},
   "outputs": [
    {
     "name": "stdout",
     "output_type": "stream",
     "text": [
      "1\n",
      "2\n",
      "3\n",
      "4\n",
      "5\n",
      "\n",
      "True\n",
      "-------------------------\n"
     ]
    }
   ],
   "source": [
    "# 1. 단일 if문\n",
    "print(\"1\")\n",
    "if 3==4:\n",
    "    print(\"2\")\n",
    "    print(\"3\")\n",
    "    print(\"4\")\n",
    "print(\"5\")\n",
    "print()\n",
    "\n",
    "# 1. 단일 if 문2\n",
    "if 3 == 3: print(\"True\")"
   ]
  },
  {
   "cell_type": "code",
   "execution_count": 4,
   "metadata": {},
   "outputs": [
    {
     "name": "stdout",
     "output_type": "stream",
     "text": [
      "hello\n"
     ]
    }
   ],
   "source": [
    "# 문제: 키보드로 숫자를 입력받아서 짝수인 경우만 출력하는 프로그램을 작성하시오\n",
    "if int(input(\"숫자입력:\"))%2 == 0:# 3. 다중 if ~ else 문\n",
    "n = int(input(\"점수입력\"))\n",
    "if n>90:\n",
    "    print(\"A 학점\")\n",
    "elif n>80:\n",
    "        print(\"B 학점\")\n",
    "elif n>70:\n",
    "        print(\"C 학점\")\n",
    "else:\n",
    "    print(\"F 학점\")\n",
    "print(\"end\")\n",
    "    print(\"hello\")"
   ]
  },
  {
   "cell_type": "code",
   "execution_count": 7,
   "metadata": {},
   "outputs": [],
   "source": [
    "# 문제2: xxx 리스트 안에 값의 유무를 확인하여 있을 경우에만 'list에 값 있음'을 출력하는 프로그램을 작성하시오\n",
    "xxx = []\n",
    "if len(xxx):\n",
    "    print('list에 값 있음')\n",
    "\n",
    "if xxx:\n",
    "    print('list에 값 있음')"
   ]
  },
  {
   "cell_type": "code",
   "execution_count": 8,
   "metadata": {},
   "outputs": [
    {
     "name": "stdout",
     "output_type": "stream",
     "text": [
      "짝수\n",
      "end\n"
     ]
    }
   ],
   "source": [
    "# 2. if ~ else 문\n",
    "n = int(input(\"정수입력\"))\n",
    "if n%2==0:\n",
    "    print(\"짝수\")\n",
    "else:\n",
    "    print(\"홀수\")\n",
    "print(\"end\")"
   ]
  },
  {
   "cell_type": "code",
   "execution_count": 10,
   "metadata": {},
   "outputs": [
    {
     "name": "stdout",
     "output_type": "stream",
     "text": [
      "None\n"
     ]
    }
   ],
   "source": [
    "# in 리스트 활용\n",
    "pocket = ['paper','card','tel']\n",
    "if 'tel2' in pocket:\n",
    "    print(\"tel\")\n",
    "else:\n",
    "    print(\"None\")"
   ]
  },
  {
   "cell_type": "code",
   "execution_count": 12,
   "metadata": {},
   "outputs": [
    {
     "name": "stdout",
     "output_type": "stream",
     "text": [
      "F 학점\n",
      "end\n"
     ]
    }
   ],
   "source": [
    "# 3. 다중 if ~ else 문\n",
    "# 조건이 여러개인 경우 사용\n",
    "n = int(input(\"점수입력\"))\n",
    "if n>90:\n",
    "    print(\"A 학점\")\n",
    "elif n>80:\n",
    "    print(\"B 학점\")\n",
    "elif n>70:\n",
    "    print(\"C 학점\")\n",
    "else:\n",
    "    print(\"F 학점\")\n",
    "print(\"end\")"
   ]
  },
  {
   "cell_type": "code",
   "execution_count": 14,
   "metadata": {},
   "outputs": [
    {
     "name": "stdout",
     "output_type": "stream",
     "text": [
      "보통\n"
     ]
    }
   ],
   "source": [
    "# 중첩 가능\n",
    "num = 85\n",
    "if num >= 90:\n",
    "    print(\"우수\")\n",
    "else:\n",
    "    if num >= 70:\n",
    "        print(\"보통\")\n",
    "    else:\n",
    "        print(\"저조\")"
   ]
  },
  {
   "cell_type": "code",
   "execution_count": 16,
   "metadata": {},
   "outputs": [
    {
     "name": "stdout",
     "output_type": "stream",
     "text": [
      "합격\n",
      "[2, 3, 4]\n",
      "B\n"
     ]
    }
   ],
   "source": [
    "# 4. 3항 연산자\n",
    "jumsu = int(input('점수-->'))\n",
    "\n",
    "res = '합격' if jumsu >= 60 else '불합격'\n",
    "print(res)\n",
    "res = [2, 3, 4] if jumsu >= 60 else [-1,2]\n",
    "print(res)\n",
    "\n",
    "# 5. 중첩 3항 연산자\n",
    "n = 89\n",
    "m = \"A\" if n > 90 else \"B\" if n > 80 else \"C\"\n",
    "print(m)"
   ]
  },
  {
   "attachments": {},
   "cell_type": "markdown",
   "metadata": {},
   "source": [
    "### 2. 반복문 - for문"
   ]
  },
  {
   "cell_type": "code",
   "execution_count": 27,
   "metadata": {},
   "outputs": [
    {
     "name": "stdout",
     "output_type": "stream",
     "text": [
      "happy\n",
      "happy\n",
      "happy\n",
      "1\n",
      "2\n",
      "3\n",
      "10 20 30 \n",
      "10 20 30 \n",
      "a\n",
      "b\n",
      "c\n",
      "d\n",
      "e\n"
     ]
    }
   ],
   "source": [
    "# for문\n",
    "# 1) 특정 문장을 반복하게 처리하는 기본 코드\n",
    "for _ in range(3):\n",
    "    print(\"happy\")\n",
    "\n",
    "# 2) 집합형에 저장된 데이터 얻기\n",
    "for n in [1, 2, 3]:\n",
    "    print(n)\n",
    "\n",
    "for n in (10, 20, 30):\n",
    "    print(n, end= \" \")\n",
    "\n",
    "print()\n",
    "for n in {10, 20, 30, 30}:\n",
    "    print(n, end = \" \")\n",
    "\n",
    "print()\n",
    "for s in \"abcde\":\n",
    "    print(s)"
   ]
  },
  {
   "cell_type": "code",
   "execution_count": 104,
   "metadata": {},
   "outputs": [
    {
     "name": "stdout",
     "output_type": "stream",
     "text": [
      "0 10\n",
      "1 20\n",
      "2 30\n",
      "\n",
      "0 a\n",
      "1 b\n",
      "2 c\n",
      "3 d\n",
      "4 e\n",
      "\n",
      "1 10\n",
      "2 20\n",
      "3 30\n"
     ]
    }
   ],
   "source": [
    "# 반복할 때 idx 값 얻기\n",
    "for idx, n in enumerate([10, 20, 30]):\n",
    "    print(idx, n)\n",
    "print()\n",
    "for idx, n in enumerate(\"abcde\"):\n",
    "    print(idx, n)\n",
    "print()\n",
    "for idx, n in enumerate([10, 20, 30], 1):\n",
    "    print(idx, n)"
   ]
  },
  {
   "cell_type": "code",
   "execution_count": 35,
   "metadata": {},
   "outputs": [
    {
     "name": "stdout",
     "output_type": "stream",
     "text": [
      "java: 웹용\n",
      "python: 만능언어\n",
      "oracle: db처리\n",
      "\n",
      "java python oracle \n",
      "웹용 만능언어 db처리 \n"
     ]
    }
   ],
   "source": [
    "# dict의 반복문\n",
    "soft = {'java':'웹용', 'python':'만능언어', 'oracle':'db처리'}\n",
    "for key, value in soft.items():\n",
    "    print(key + ': ' + value)\n",
    "print()\n",
    "\n",
    "for key in soft.keys():\n",
    "    print(key, end=' ')\n",
    "print()\n",
    "\n",
    "for value in soft.values():\n",
    "    print(value, end=' ')\n",
    "print()"
   ]
  },
  {
   "cell_type": "code",
   "execution_count": null,
   "metadata": {},
   "outputs": [],
   "source": [
    "# range 함수\n",
    "help(range)\n",
    "\n",
    "# range(stop) -> range object\n",
    "# range(start, stop[, step]) -> range object\n",
    "# start 포함, stop 미포함"
   ]
  },
  {
   "cell_type": "code",
   "execution_count": 42,
   "metadata": {},
   "outputs": [
    {
     "name": "stdout",
     "output_type": "stream",
     "text": [
      "[0, 1, 2, 3, 4, 5, 6, 7, 8, 9]\n",
      "[1, 2, 3, 4]\n",
      "[1, 3, 5, 7, 9]\n"
     ]
    }
   ],
   "source": [
    "print(list(range(10)))\n",
    "print(list(range(1, 5)))\n",
    "print(list(range(1, 10, 2)))"
   ]
  },
  {
   "cell_type": "code",
   "execution_count": 109,
   "metadata": {},
   "outputs": [
    {
     "name": "stdout",
     "output_type": "stream",
     "text": [
      "1 2 4 5 정상종료\n"
     ]
    }
   ],
   "source": [
    "# break, continue, else\n",
    "datas = [1, 2, 3, 4, 5]\n",
    "\n",
    "for i in datas:\n",
    "    if i == 3: continue\n",
    "    # if i == 4: break\n",
    "    print(i, end=' ')\n",
    "else:   # 정상적인 반복문 종료시 실행됨(break가 되지 않으면 실행)\n",
    "    print(\"정상종료\")\n",
    "# print(\"end\")"
   ]
  },
  {
   "attachments": {},
   "cell_type": "markdown",
   "metadata": {},
   "source": [
    "### 3. Comprehension"
   ]
  },
  {
   "cell_type": "code",
   "execution_count": 110,
   "metadata": {},
   "outputs": [
    {
     "name": "stdout",
     "output_type": "stream",
     "text": [
      "[2, 3, 4]\n",
      "[False, False, True]\n",
      "['A', 'B', 'C']\n"
     ]
    }
   ],
   "source": [
    "# 1) List Comprehension\n",
    "# List로부터 가공한 새로운 List를 생성하여 반환\n",
    "x = [n+1 for n in [1, 2, 3]]\n",
    "print(x)\n",
    "x = [n > 2 for n in [1, 2, 3]]\n",
    "print(x)\n",
    "\n",
    "x = [n.upper() for n in [\"A\", \"b\", \"C\"]]\n",
    "print(x)\n",
    "\n",
    "# 아래 코드를 간단히 작성하면 위의 코드가 된다.\n",
    "# m = [\"A\",\"b\",\"C\"]\n",
    "# k = []\n",
    "# for m2 in m:\n",
    "#     m3 = m2.upper()\n",
    "#     k.append(m3)\n",
    "# print(k)\n"
   ]
  },
  {
   "cell_type": "code",
   "execution_count": 111,
   "metadata": {},
   "outputs": [
    {
     "name": "stdout",
     "output_type": "stream",
     "text": [
      "[2, 4, 6, 8, 10]\n",
      "[1, 0, 1, 0, 1, 0, 1, 0, 1, 0]\n"
     ]
    }
   ],
   "source": [
    "x = [n for n in range(1, 11) if n%2==0]\n",
    "print(x)\n",
    "x = [0 if n%2==0 else 1 for n in range(1, 11)]\n",
    "print(x)"
   ]
  },
  {
   "cell_type": "code",
   "execution_count": 59,
   "metadata": {},
   "outputs": [
    {
     "name": "stdout",
     "output_type": "stream",
     "text": [
      "{'서울': '대한민국', '워싱턴': '미국', '베이징': '중국'}\n",
      "{'대한민국': 2, '미국': 3, '중국': 3}\n"
     ]
    }
   ],
   "source": [
    "# 2)Dict Comprehension\n",
    "x = {\"대한민국\":\"서울\", \"미국\":\"워싱턴\",\"중국\":\"베이징\"}\n",
    "x2 = {v:k for k, v in x.items()}\n",
    "print(x2)\n",
    "x2 = {k:len(v) for k, v in x.items()}\n",
    "print(x2)"
   ]
  },
  {
   "cell_type": "code",
   "execution_count": 65,
   "metadata": {},
   "outputs": [
    {
     "name": "stdout",
     "output_type": "stream",
     "text": [
      "국가명이 두 글자인 경우: {'미국': '워싱턴', '중국': '베이징'}\n",
      "대한민국은 korea로 표시: {'미국', '중국', 'korea'}\n"
     ]
    }
   ],
   "source": [
    "x = {\"대한민국\":\"서울\", \"미국\":\"워싱턴\",\"중국\":\"베이징\"}\n",
    "x2 = {k:v for k, v in x.items() if len(k)==2}\n",
    "print(\"국가명이 두 글자인 경우:\", x2)\n",
    "x2 = {'korea' if k==\"대한민국\" else k for k, v in x.items()}\n",
    "print(\"대한민국은 korea로 표시:\", x2)\n"
   ]
  },
  {
   "cell_type": "code",
   "execution_count": 72,
   "metadata": {},
   "outputs": [
    {
     "name": "stdout",
     "output_type": "stream",
     "text": [
      "List Comprehension [1, 2, 3]\n",
      "Generator Comprehension: <generator object <genexpr> at 0x000001D4DCBED080>\n",
      "1\n",
      "2\n",
      "3\n"
     ]
    }
   ],
   "source": [
    "# Generator Comprehension\n",
    "list_x = [n for n in [1, 2, 3]]\n",
    "generator_x = (n for n in [1, 2, 3])\n",
    "print(\"List Comprehension\", list_x)\n",
    "print(\"Generator Comprehension:\", generator_x)\n",
    "print(next(generator_x))\n",
    "print(next(generator_x))\n",
    "print(next(generator_x))\n"
   ]
  },
  {
   "attachments": {},
   "cell_type": "markdown",
   "metadata": {},
   "source": [
    "### 4. 반복문 - While문"
   ]
  },
  {
   "cell_type": "code",
   "execution_count": 75,
   "metadata": {},
   "outputs": [
    {
     "name": "stdout",
     "output_type": "stream",
     "text": [
      "hello\n",
      "hello\n",
      "hello\n",
      "hello\n",
      "hello\n",
      "End\n"
     ]
    }
   ],
   "source": [
    "# 기본\n",
    "n = 1\n",
    "while n<6:\n",
    "    print(\"hello\")\n",
    "    n+=1\n",
    "print(\"End\")"
   ]
  },
  {
   "cell_type": "code",
   "execution_count": 79,
   "metadata": {},
   "outputs": [
    {
     "name": "stdout",
     "output_type": "stream",
     "text": [
      "입력한 이름: aaa\n",
      "입력한 이름: bbb\n",
      "입력한 이름: ccc\n",
      "입력한 이름: ddd\n",
      "입력한 이름: eee\n",
      "입력한 이름: fff\n",
      "입력한 이름: ggg\n",
      "입력한 이름: hhh\n",
      "입력한 이름: iii\n",
      "입력한 이름: jjj\n",
      "입력한 이름: Q\n",
      "종료\n"
     ]
    }
   ],
   "source": [
    "# while문을 이용한 무한루프\n",
    "while True:\n",
    "    name = input(\"이름을 입력하시오, 중지하려면 Q를 입력하시오\")\n",
    "    print(\"입력한 이름:\", name)\n",
    "    if name == 'Q': break\n",
    "print(\"종료\")"
   ]
  },
  {
   "attachments": {},
   "cell_type": "markdown",
   "metadata": {},
   "source": [
    "### 5. 함수"
   ]
  },
  {
   "cell_type": "code",
   "execution_count": 82,
   "metadata": {},
   "outputs": [
    {
     "name": "stdout",
     "output_type": "stream",
     "text": [
      "fun\n",
      "end\n"
     ]
    }
   ],
   "source": [
    "# 1) 파라미터가 없고, 리턴값도 없는 함수\n",
    "def fun():\n",
    "    print(\"fun\")\n",
    "\n",
    "fun()\n",
    "print(\"end\")"
   ]
  },
  {
   "cell_type": "code",
   "execution_count": 83,
   "metadata": {},
   "outputs": [
    {
     "name": "stdout",
     "output_type": "stream",
     "text": [
      "fun2 10 홍길동\n",
      "fun2 [1, 2, 3] {'a': 20}\n"
     ]
    }
   ],
   "source": [
    "# 2) 파라미터가 있고, 리턴값은 없는 함수\n",
    "def fun2(n, n2):\n",
    "    print(\"fun2\", n, n2)\n",
    "\n",
    "fun2(10, \"홍길동\")\n",
    "fun2([1, 2, 3], {'a':20})"
   ]
  },
  {
   "cell_type": "code",
   "execution_count": 88,
   "metadata": {},
   "outputs": [
    {
     "name": "stdout",
     "output_type": "stream",
     "text": [
      "fun3\n",
      "100\n",
      "fun3\n",
      "(100, 200) <class 'tuple'>\n"
     ]
    }
   ],
   "source": [
    "# 3) 파라미터가 없고, 리턴값은 있는 함수\n",
    "# 리턴값이 있기 때문에 리턴값을 저장할 변수를 지정하는 것이 필요\n",
    "def fun3():\n",
    "    print(\"fun3\")\n",
    "    return 100\n",
    "\n",
    "result = fun3()\n",
    "print(result)\n",
    "\n",
    "def fun4():\n",
    "    print(\"fun4\")\n",
    "    return 100, 200\n",
    "\n",
    "result = fun4()\n",
    "print(result, type(result))"
   ]
  },
  {
   "cell_type": "code",
   "execution_count": 89,
   "metadata": {},
   "outputs": [
    {
     "name": "stdout",
     "output_type": "stream",
     "text": [
      "fun5\n",
      "30\n"
     ]
    }
   ],
   "source": [
    "# 4) 파라미터와 리턴값이 모두 있는 함수\n",
    "def fun5(n, n2):\n",
    "    print(\"fun5\")\n",
    "    return n+n2\n",
    "\n",
    "result = fun5(10, 20)\n",
    "print(result)"
   ]
  },
  {
   "cell_type": "code",
   "execution_count": 114,
   "metadata": {},
   "outputs": [
    {
     "name": "stdout",
     "output_type": "stream",
     "text": [
      "n: 10 n2: 10\n",
      "n: 10\n"
     ]
    },
    {
     "ename": "NameError",
     "evalue": "name 'z' is not defined",
     "output_type": "error",
     "traceback": [
      "\u001b[1;31m---------------------------------------------------------------------------\u001b[0m",
      "\u001b[1;31mNameError\u001b[0m                                 Traceback (most recent call last)",
      "Cell \u001b[1;32mIn[114], line 9\u001b[0m\n\u001b[0;32m      7\u001b[0m fun()\n\u001b[0;32m      8\u001b[0m \u001b[39mprint\u001b[39m(\u001b[39m\"\u001b[39m\u001b[39mn:\u001b[39m\u001b[39m\"\u001b[39m, n)\n\u001b[1;32m----> 9\u001b[0m \u001b[39mprint\u001b[39m(\u001b[39m\"\u001b[39m\u001b[39mx:\u001b[39m\u001b[39m\"\u001b[39m, z) \u001b[39m# 에러 발생\u001b[39;00m\n",
      "\u001b[1;31mNameError\u001b[0m: name 'z' is not defined"
     ]
    }
   ],
   "source": [
    "# Python의 변수는 함수 scope를 따른다\n",
    "n = 10 # 전역 변수\n",
    "def fun():\n",
    "    z = 10 # 지역 변수\n",
    "    print(\"n:\", n, \"n2:\", z)\n",
    "\n",
    "fun()\n",
    "print(\"n:\", n)\n",
    "print(\"x:\", z) # 에러 발생"
   ]
  },
  {
   "cell_type": "code",
   "execution_count": 94,
   "metadata": {},
   "outputs": [
    {
     "name": "stdout",
     "output_type": "stream",
     "text": [
      "10 20\n",
      "100 20\n",
      "100 200\n"
     ]
    }
   ],
   "source": [
    "# Default 파라미터\n",
    "def fun(n=10, n2=20):\n",
    "    print(n, n2)\n",
    "\n",
    "fun()\n",
    "fun(100)\n",
    "fun(100, 200)"
   ]
  },
  {
   "cell_type": "code",
   "execution_count": 115,
   "metadata": {},
   "outputs": [
    {
     "name": "stdout",
     "output_type": "stream",
     "text": [
      "1 [2, 3, 4, 5]\n",
      "---------------------\n",
      "10 (20,)\n",
      "10 (20, 30)\n",
      "10 20 (4, 5, 6)\n"
     ]
    }
   ],
   "source": [
    "# Packing 파라미터\n",
    "\n",
    "# 변수 선언\n",
    "n, *n2 = 1,2,3,4,5\n",
    "print(n, n2)\n",
    "print('---------------------')\n",
    "\n",
    "# 나머지 값을 모두 tuple로 저장해서 전달\n",
    "def fun(n, *n2):\n",
    "    print(n, n2)\n",
    "\n",
    "fun(10, 20)\n",
    "fun(10, 20, 30)\n",
    "\n",
    "def fun2(n, x, *n2):\n",
    "    print(n, x, n2)\n",
    "\n",
    "fun2(10, 20, 4, 5, 6)"
   ]
  },
  {
   "cell_type": "code",
   "execution_count": 98,
   "metadata": {},
   "outputs": [
    {
     "name": "stdout",
     "output_type": "stream",
     "text": [
      "10 20 ()\n",
      "1 2 (3, 3, 4, 5)\n"
     ]
    }
   ],
   "source": [
    "# Default + Packing 혼합 가능\n",
    "def fun3(n=10, x=20, *n2):\n",
    "    print(n, x, n2)\n",
    "\n",
    "fun3()\n",
    "fun3(1, 2, 3, 3, 4, 5)"
   ]
  },
  {
   "cell_type": "code",
   "execution_count": 101,
   "metadata": {},
   "outputs": [
    {
     "name": "stdout",
     "output_type": "stream",
     "text": [
      "age: 10 username: 홍길동\n",
      "age: 10 username: 홍길동\n",
      "age: 10 username: 홍길동\n",
      "{'age': 10}\n",
      "{'age': 10, 'username': '홍길동'}\n",
      "{'age': 10, 'username': '홍길동', 'address': '서울'}\n"
     ]
    }
   ],
   "source": [
    "# Named 파라미터\n",
    "def fun(age, username):\n",
    "    print('age:', age, 'username:', username)\n",
    "\n",
    "fun(10, \"홍길동\")\n",
    "fun(age=10, username='홍길동')\n",
    "fun(username='홍길동', age=10)\n",
    "\n",
    "def fun2(**n):\n",
    "    print(n)\n",
    "\n",
    "fun2(age=10)\n",
    "fun2(age=10, username='홍길동')\n",
    "fun2(age=10, username='홍길동',address=\"서울\")"
   ]
  },
  {
   "cell_type": "code",
   "execution_count": 103,
   "metadata": {},
   "outputs": [
    {
     "name": "stdout",
     "output_type": "stream",
     "text": [
      "10 20 (30,) {'age': 10, 'username': '홍길동'}\n",
      "10 20 (30, 40, 50) {'age': 10, 'username': '홍길동'}\n",
      "1 2 () {}\n"
     ]
    }
   ],
   "source": [
    "# 혼합\n",
    "def fun3(n=1, n2=2, *n3, **n4): # 순서가 중요\n",
    "    print(n, n2, n3, n4)\n",
    "\n",
    "fun3(10,20,30, age=10, username='홍길동')\n",
    "fun3(10,20,30,40,50, age=10, username='홍길동')\n",
    "fun3()"
   ]
  },
  {
   "attachments": {},
   "cell_type": "markdown",
   "metadata": {},
   "source": [
    "## 06/02(금)"
   ]
  },
  {
   "attachments": {},
   "cell_type": "markdown",
   "metadata": {},
   "source": [
    "### 1. 일급객체(first-class)\n",
    "- 개념: 기능을 담당하는 함수를 정수 및 문자열과 같은 데이터로 처리하는 것"
   ]
  },
  {
   "cell_type": "code",
   "execution_count": 1,
   "metadata": {},
   "outputs": [
    {
     "name": "stdout",
     "output_type": "stream",
     "text": [
      "<function fun at 0x000001D65CC89260>\n",
      "<function fun at 0x000001D65CC89260>\n"
     ]
    }
   ],
   "source": [
    "# 함수를 생성 시 함수를 인식하고, 함수 이름으로 된 변수를 만든다\n",
    "# x에 해당하는 함수객체가 생성이 된다.(x는 실행 가능)\n",
    "# fun = x\n",
    "\n",
    "# 1. 함수는 데이터기 때문에 변수에 저장 가능하다.\n",
    "def fun():\n",
    "    print(\"fun\")\n",
    "\n",
    "print(fun)\n",
    "\n",
    "n = fun\n",
    "print(n)\n"
   ]
  },
  {
   "cell_type": "code",
   "execution_count": 2,
   "metadata": {},
   "outputs": [
    {
     "name": "stdout",
     "output_type": "stream",
     "text": [
      "x\n"
     ]
    }
   ],
   "source": [
    "# 2. 함수는 데이터이기 때문에 함수 호출시 인자값으로 사용이 가능하다.\n",
    "# 함수를 호출했지만, 실제 반응은 x 함수. => 트리거 형태\n",
    "# 콜백함수(callback) 구현이 가능(트리거 형태를 이용)\n",
    "# 콜백함수는 사용자가 호출한 함수가 아니고 특정 시점에 시스템이 호출하는 함수를 의미한다.\n",
    "# 콜백함수를 구현하는 방법은 직접 함수명을 알려줘야 된다.\n",
    "def x():\n",
    "    print(\"x\")\n",
    "\n",
    "def y(n):\n",
    "    n()\n",
    "\n",
    "y(x)"
   ]
  },
  {
   "cell_type": "code",
   "execution_count": 7,
   "metadata": {},
   "outputs": [
    {
     "name": "stdout",
     "output_type": "stream",
     "text": [
      "k\n"
     ]
    }
   ],
   "source": [
    "# 3. 함수는 데이터이기 때문에 함수 리턴값으로 사용이 가능하다.\n",
    "def k():\n",
    "    print(\"k\")\n",
    "\n",
    "def k2():\n",
    "    return k\n",
    "\n",
    "result = k2()\n",
    "result()"
   ]
  },
  {
   "attachments": {},
   "cell_type": "markdown",
   "metadata": {},
   "source": [
    "### 2. lambda 함수"
   ]
  },
  {
   "cell_type": "code",
   "execution_count": 9,
   "metadata": {},
   "outputs": [
    {
     "name": "stdout",
     "output_type": "stream",
     "text": [
      "fun\n"
     ]
    }
   ],
   "source": [
    "# 1)파라미터 없고 리턴값 없음\n",
    "# def fun():\n",
    "#     print(\"fun\")\n",
    "\n",
    "# lambda 표현식\n",
    "fun = lambda : print(\"fun\")\n",
    "fun()"
   ]
  },
  {
   "cell_type": "code",
   "execution_count": 16,
   "metadata": {},
   "outputs": [
    {
     "name": "stdout",
     "output_type": "stream",
     "text": [
      "lambda fun2 10 20\n",
      "lambda fun2 10 20\n",
      "lambda fun2 10 23 (4, 4, 5, 6, 5)\n",
      "lambda fun2 10 23 (4, 4, 5, 6, 5) {'age': 20, 'addr': '서울'}\n"
     ]
    }
   ],
   "source": [
    "# 2) 파라미터가 있고 리턴값 없음\n",
    "# def fun2(n, n2):\n",
    "#     print(\"fun2\", n, n2)\n",
    "\n",
    "# lambda 표현식\n",
    "fun2 = lambda n, n2: print(\"lambda fun2\", n, n2)\n",
    "fun2(10, 20)\n",
    "\n",
    "# Default 지정 가능\n",
    "fun2 = lambda n=10, n2=20: print(\"lambda fun2\", n, n2)\n",
    "fun2()\n",
    "\n",
    "# Packing 지정 가능\n",
    "fun2 = lambda n=10, n2=20, *n3: print(\"lambda fun2\", n, n2, n3)\n",
    "fun2(10, 23, 4, 4, 5, 6, 5)\n",
    "\n",
    "fun2=lambda n=10,n2=20, *n3, **n4:print(\"lambda fun2\",n, n2, n3, n4)\n",
    "fun2(10, 23, 4, 4, 5, 6, 5, age=20, addr=\"서울\")"
   ]
  },
  {
   "cell_type": "code",
   "execution_count": 20,
   "metadata": {},
   "outputs": [
    {
     "name": "stdout",
     "output_type": "stream",
     "text": [
      "lambda fun3 100\n"
     ]
    }
   ],
   "source": [
    "# 3) 파라미터가 없고 리턴값 있음\n",
    "# def fun3():\n",
    "#     return 100\n",
    "\n",
    "# lambda 표현식(return은 생략)\n",
    "fun3 = lambda : 100\n",
    "result = fun3()\n",
    "print(\"lambda fun3\", result)"
   ]
  },
  {
   "cell_type": "code",
   "execution_count": 21,
   "metadata": {},
   "outputs": [
    {
     "name": "stdout",
     "output_type": "stream",
     "text": [
      "lambda fun4 30\n"
     ]
    }
   ],
   "source": [
    "# 4) 파라미터 있고, 리턴값 있음\n",
    "# def fun4(n, n2):\n",
    "#     return n+n2\n",
    "\n",
    "# lambda 표현식\n",
    "fun4 = lambda n, n2: n+n2\n",
    "result = fun4(10, 20)\n",
    "print(\"lambda fun4\", result)"
   ]
  },
  {
   "attachments": {},
   "cell_type": "markdown",
   "metadata": {},
   "source": [
    "### 3. generator 함수"
   ]
  },
  {
   "cell_type": "code",
   "execution_count": 3,
   "metadata": {},
   "outputs": [
    {
     "name": "stdout",
     "output_type": "stream",
     "text": [
      "1\n",
      "2\n",
      "3\n",
      "None <class 'NoneType'>\n",
      "----------------------------------------------------------------------------------------------------\n",
      "<generator object fun2 at 0x000001D65CBB6200> <class 'generator'>\n",
      "10\n",
      "20\n",
      "30\n"
     ]
    },
    {
     "ename": "StopIteration",
     "evalue": "",
     "output_type": "error",
     "traceback": [
      "\u001b[1;31m---------------------------------------------------------------------------\u001b[0m",
      "\u001b[1;31mStopIteration\u001b[0m                             Traceback (most recent call last)",
      "Cell \u001b[1;32mIn[3], line 25\u001b[0m\n\u001b[0;32m     23\u001b[0m \u001b[39mnext\u001b[39m(f2)\n\u001b[0;32m     24\u001b[0m \u001b[39mnext\u001b[39m(f2)\n\u001b[1;32m---> 25\u001b[0m \u001b[39mprint\u001b[39m(\u001b[39m\"\u001b[39m\u001b[39m모두 실행후 채우지 않고 다시 호출한 결과:\u001b[39m\u001b[39m\"\u001b[39m, \u001b[39mnext\u001b[39;49m(f2))\n",
      "\u001b[1;31mStopIteration\u001b[0m: "
     ]
    }
   ],
   "source": [
    "# 1) 일반 함수\n",
    "def fun():\n",
    "    print(\"1\")\n",
    "    print(\"2\")\n",
    "    print(\"3\")\n",
    "\n",
    "f = fun()\n",
    "print(f, type(f))\n",
    "print(\"-\"*100)\n",
    "\n",
    "# 2) generator 함수 (yield 키워드 이용)\n",
    "def fun2():\n",
    "    print(\"10\")\n",
    "    yield\n",
    "    print(\"20\")\n",
    "    yield\n",
    "    print(\"30\")\n",
    "    yield\n",
    "\n",
    "f2 = fun2()\n",
    "print(f2, type(f2))\n",
    "next(f2)\n",
    "next(f2)\n",
    "next(f2)\n",
    "print(\"모두 실행후 채우지 않고 다시 호출한 결과:\", next(f2))"
   ]
  },
  {
   "attachments": {},
   "cell_type": "markdown",
   "metadata": {},
   "source": [
    "### 4. 내장함수(built-in)"
   ]
  },
  {
   "cell_type": "code",
   "execution_count": 37,
   "metadata": {},
   "outputs": [
    {
     "name": "stdout",
     "output_type": "stream",
     "text": [
      "1. 합계: 10\n",
      "2. 평균: 2.5\n",
      "3. 리스트 최대값, 최소값: 4 1\n",
      "4. 딕셔너리 최대값 100\n",
      "5. 딕셔너리 최소값 4\n",
      "6. 절대값: 100\n",
      "7. 아스키코드값: A a\n",
      "7. 아스키코드값: 65 97\n",
      "8. 몫과 나머지: (3, 1)\n",
      "9. 반올림: 5\n",
      "10. 반올림: 4.7\n"
     ]
    }
   ],
   "source": [
    "# 빌트인 함수\n",
    "print(\"1. 합계:\", sum([1,2,3,4]))\n",
    "print(\"2. 평균:\", sum([1,2,3,4])/len([1,2,3,4]))\n",
    "print(\"3. 리스트 최대값, 최소값:\", max([1,2,3,4]), min([1,2,3,4]))\n",
    "print(\"4. 딕셔너리 최대값\", max({10:'aaa',4:'bbb',100:'ccc'}))\n",
    "print(\"5. 딕셔너리 최소값\", min({10:'aaa',4:'bbb',100:'ccc'}))\n",
    "print(\"6. 절대값:\", abs(-100))\n",
    "print(\"7. 아스키코드값:\", chr(65), chr(97))\n",
    "print(\"7. 아스키코드값:\", ord(\"A\"), ord(\"a\"))\n",
    "print(\"8. 몫과 나머지:\", divmod(10,3))\n",
    "print(\"9. 반올림:\",  round(4.67))  # 소수점 0 자리 반올림, 즉 정수 반올림\n",
    "print(\"10. 반올림:\",  round(4.67, 1)) # 소수점 1자리 반올림"
   ]
  },
  {
   "cell_type": "code",
   "execution_count": 38,
   "metadata": {},
   "outputs": [
    {
     "name": "stdout",
     "output_type": "stream",
     "text": [
      "12. zip: [('name', '홍길동'), ('age', 20), ('address', '서울')]\n",
      "13. zip: {'name': '홍길동', 'age': 20, 'address': '서울'}\n"
     ]
    }
   ],
   "source": [
    "# zip 함수\n",
    "x=['name',\"age\", \"address\"]\n",
    "y=[\"홍길동\", 20, \"서울\"]\n",
    "print(\"12. zip:\",list(zip(x,y)))\n",
    "print(\"13. zip:\",dict(zip(x,y)))"
   ]
  },
  {
   "cell_type": "code",
   "execution_count": 44,
   "metadata": {},
   "outputs": [
    {
     "name": "stdout",
     "output_type": "stream",
     "text": [
      "가장 비싼 제품: (3000, 'TV')\n"
     ]
    }
   ],
   "source": [
    "# 실습\n",
    "p = {\"냉장고\":1000, \"TV\":3000, \"컴퓨터\":2500}\n",
    "print(\"가장 비싼 제품:\", max(zip(p.values(), p.keys())))"
   ]
  },
  {
   "cell_type": "code",
   "execution_count": 45,
   "metadata": {},
   "outputs": [
    {
     "name": "stdout",
     "output_type": "stream",
     "text": [
      "False\n",
      "False\n",
      "True\n"
     ]
    }
   ],
   "source": [
    "# all, any  ==> 전부 또는 일부가 맞으면 True/False\n",
    "b_list = [True, 1, False]\n",
    "print(all(b_list))          #iterable data들 중 모두 참이면 참\n",
    "print(all([1,1,0]))          #iterable data들 중 모두 참이면 참\n",
    "print(any(b_list))"
   ]
  },
  {
   "cell_type": "code",
   "execution_count": 47,
   "metadata": {},
   "outputs": [
    {
     "name": "stdout",
     "output_type": "stream",
     "text": [
      "b_list 값이 모두 10 미만이냐? True\n",
      "b_list 값 중에서 3 미만의 값이 있냐? True\n"
     ]
    }
   ],
   "source": [
    "b_list =[1, 3, 2, 5, 7, 6]\n",
    "print(\"b_list 값이 모두 10 미만이냐?\", all([True if i < 10 else False for i in b_list])) # [n < 10 for n in b_list]\n",
    "print(\"b_list 값 중에서 3 미만의 값이 있냐?\", any([i < 3 for i in b_list]))"
   ]
  },
  {
   "cell_type": "code",
   "execution_count": 64,
   "metadata": {},
   "outputs": [
    {
     "name": "stdout",
     "output_type": "stream",
     "text": [
      "[2, 6]\n",
      "[2, 6]\n"
     ]
    }
   ],
   "source": [
    "# filter: 내장된 함수에서 반환된 값이 참인 경우에 반환\n",
    "# filter(function or None, iterable) => 콜백함수\n",
    "b_list =[1, 3, 2, 5, 7, 6]\n",
    "\n",
    "# def fun(n):\n",
    "#     return n%2==0\n",
    "\n",
    "fun = lambda n: n%2==0\n",
    "result = filter(fun, b_list)\n",
    "print(list(result))\n",
    "\n",
    "# lambda 함수를 직접 작성할 수도 있음(일반적)\n",
    "result = filter(lambda n: n%2==0, b_list)\n",
    "print(list(result))"
   ]
  },
  {
   "cell_type": "code",
   "execution_count": 85,
   "metadata": {},
   "outputs": [
    {
     "name": "stdout",
     "output_type": "stream",
     "text": [
      "abdeAbCdeDgdd\n"
     ]
    }
   ],
   "source": [
    "# 실습: 다음 문자열에서 영문자만 뽑아서 리스트로 출력\n",
    "xxx = \"abde1234AbCde24Dgdd22\"\n",
    "\n",
    "result = filter(lambda n: n.isalpha(), xxx)\n",
    "# print(list(result))\n",
    "\n",
    "# 영문자만 str로 출력\n",
    "l = list(result)\n",
    "print(\"\".join(l))"
   ]
  },
  {
   "cell_type": "code",
   "execution_count": 91,
   "metadata": {},
   "outputs": [
    {
     "name": "stdout",
     "output_type": "stream",
     "text": [
      "['ABC', 'EBAEEG']\n"
     ]
    }
   ],
   "source": [
    "# map 함수: 내장된 함수에서 다른 함수 적용(가공) 후 반환\n",
    "# map(func, *iterables)\n",
    "\n",
    "xxx = [\"Abc\",\"EbAeEG\"]\n",
    "# result = map(lambda n: n.upper(), xxx)\n",
    "result = map(str.upper, xxx)\n",
    "print(list(result))"
   ]
  },
  {
   "cell_type": "code",
   "execution_count": 90,
   "metadata": {},
   "outputs": [
    {
     "name": "stdout",
     "output_type": "stream",
     "text": [
      "[3, 6]\n",
      "[10, 234, 42]\n"
     ]
    }
   ],
   "source": [
    "# 문제: xxx의 글자 길이를 출력하시오\n",
    "xxx = [\"Abc\",\"EbAeEG\"]\n",
    "result = map(len, xxx)\n",
    "print(list(result))\n",
    "\n",
    "# xxx2의 문자를 정수로 변환하여 출력하시오\n",
    "xxx2 = ['10', '234', '42']\n",
    "result = map(int, xxx2)\n",
    "print(list(result))"
   ]
  },
  {
   "attachments": {},
   "cell_type": "markdown",
   "metadata": {},
   "source": [
    "#### 랜덤함수\n",
    "- import random 필수"
   ]
  },
  {
   "cell_type": "code",
   "execution_count": 92,
   "metadata": {},
   "outputs": [
    {
     "name": "stdout",
     "output_type": "stream",
     "text": [
      "['BPF', 'LOG4', 'NV_MAGICCONST', 'RECIP_BPF', 'Random', 'SG_MAGICCONST', 'SystemRandom', 'TWOPI', '_ONE', '_Sequence', '_Set', '__all__', '__builtins__', '__cached__', '__doc__', '__file__', '__loader__', '__name__', '__package__', '__spec__', '_accumulate', '_acos', '_bisect', '_ceil', '_cos', '_e', '_exp', '_floor', '_index', '_inst', '_isfinite', '_log', '_os', '_pi', '_random', '_repeat', '_sha512', '_sin', '_sqrt', '_test', '_test_generator', '_urandom', '_warn', 'betavariate', 'choice', 'choices', 'expovariate', 'gammavariate', 'gauss', 'getrandbits', 'getstate', 'lognormvariate', 'normalvariate', 'paretovariate', 'randbytes', 'randint', 'random', 'randrange', 'sample', 'seed', 'setstate', 'shuffle', 'triangular', 'uniform', 'vonmisesvariate', 'weibullvariate']\n"
     ]
    }
   ],
   "source": [
    "# 랜덤함수\n",
    "import random\n",
    "# help(random)\n",
    "print(dir(random))"
   ]
  },
  {
   "cell_type": "code",
   "execution_count": 203,
   "metadata": {},
   "outputs": [
    {
     "name": "stdout",
     "output_type": "stream",
     "text": [
      "1. randint: 1\n",
      "2. random: 0.5875285081310694\n",
      "3. randrange: 2\n",
      "4. shuffle: ['b', 'c', 'a']\n",
      "5. choice: b\n"
     ]
    }
   ],
   "source": [
    "import random\n",
    "random.setstate\n",
    "#1. randint(a, b)  # a <= N <= b. Alias for randrange(a, b+1).\n",
    "n = random.randint(1, 7)\n",
    "print(\"1. randint:\", n)\n",
    "\n",
    "# 2. random()  # 0 ~ 1 사이의 랜덤 실수\n",
    "n = random.random()\n",
    "print(\"2. random:\", n)\n",
    "\n",
    "# 3. randrange(a, b)  #a <= N < b\n",
    "n = random.randrange(1,7)\n",
    "print(\"3. randrange:\", n)\n",
    "\n",
    "# 4. shuffle(x)\n",
    "random.seed(1234) # seed 값을 고정하면 항상 동일한 결과를 반환 / 많이 사용하는 seed 값 존재\n",
    "x = ['a','b','c']\n",
    "random.shuffle(x)\n",
    "print(\"4. shuffle:\", x)\n",
    "\n",
    "# 5. choice(x)\n",
    "print(\"5. choice:\", random.choice(x))"
   ]
  },
  {
   "attachments": {},
   "cell_type": "markdown",
   "metadata": {},
   "source": [
    "### 5. 클래스"
   ]
  },
  {
   "cell_type": "code",
   "execution_count": 4,
   "metadata": {},
   "outputs": [],
   "source": [
    "# class  클래스명:\n",
    "#        문장\n",
    "\n",
    "#    사용? 객체생성\n",
    "   \n",
    "#         변수 = 클래스명()\n",
    "\n",
    "# 애완동물관리 프로그램 개발 구축\n",
    "class Cat:\n",
    "    pass\n",
    "\n",
    "c = Cat() # 하나의 고양이 생성"
   ]
  },
  {
   "cell_type": "code",
   "execution_count": 5,
   "metadata": {},
   "outputs": [
    {
     "name": "stdout",
     "output_type": "stream",
     "text": [
      "__init__ 생성자 2020191418064\n",
      "2020191418064\n"
     ]
    }
   ],
   "source": [
    "# 생성자: 클래스 내의 메서드\n",
    "\n",
    "class Cat:\n",
    "    \n",
    "    def __init__(self):\n",
    "        print(\"__init__ 생성자\", id(self))\n",
    "\n",
    "c = Cat()\n",
    "print(id(c))"
   ]
  },
  {
   "cell_type": "code",
   "execution_count": 216,
   "metadata": {},
   "outputs": [
    {
     "name": "stdout",
     "output_type": "stream",
     "text": [
      "__init__ 생성자 2209401358160\n",
      "2209401358160 <class '__main__.Cat'>\n",
      "야옹이 2\n"
     ]
    }
   ],
   "source": [
    "# 변수 생성\n",
    "# self.변수명 으로 만든다.\n",
    "\n",
    "class Cat:\n",
    "    \n",
    "    def __init__(self):\n",
    "        print(\"__init__ 생성자\", id(self))\n",
    "        self.username = \"야옹이\"\n",
    "        self.age=2\n",
    "\n",
    "c = Cat()\n",
    "print(id(c), type(c))\n",
    "print(c.username, c.age)"
   ]
  },
  {
   "cell_type": "code",
   "execution_count": 219,
   "metadata": {},
   "outputs": [
    {
     "name": "stdout",
     "output_type": "stream",
     "text": [
      "__init__ 생성자 2209394547088\n",
      "나비 1\n"
     ]
    }
   ],
   "source": [
    "# 저장되는 인스턴스 변수 변경할 수 있게 만들기\n",
    "\n",
    "class Cat:\n",
    "    \n",
    "    def __init__(self, n, a):\n",
    "        print(\"__init__ 생성자\", id(self))\n",
    "        self.username = n\n",
    "        self.age = a\n",
    "\n",
    "c2 = Cat(\"나비\", 1)\n",
    "print(c2.username, c2.age)"
   ]
  },
  {
   "cell_type": "code",
   "execution_count": 2,
   "metadata": {},
   "outputs": [
    {
     "name": "stdout",
     "output_type": "stream",
     "text": [
      "야옹이 2\n",
      "야옹이 2\n",
      "----------------------------------------------------------------------------------------------------\n",
      "나비 1\n",
      "나비 1\n"
     ]
    }
   ],
   "source": [
    "# 메서드 추가\n",
    "class Cat:\n",
    "    \n",
    "    # 생성자\n",
    "    def __init__(self, n, a):\n",
    "        # 인스턴스 변수\n",
    "        self.username = n\n",
    "        self.age = a\n",
    "    \n",
    "    # method\n",
    "    def setage(self, n):\n",
    "        self.age = n\n",
    "    \n",
    "    def getage(self):\n",
    "        return self.age\n",
    "\n",
    "# 실제 고양이(인스턴스)\n",
    "c = Cat(\"야옹이\", 2)\n",
    "print(c.username, c.age)\n",
    "print(c.username, c.getage())\n",
    "print('-'*100)\n",
    "\n",
    "c2 = Cat(\"나비\", 1)\n",
    "print(c2.username, c2.age)\n",
    "print(c2.username, c2.getage())"
   ]
  },
  {
   "attachments": {},
   "cell_type": "markdown",
   "metadata": {},
   "source": [
    "## 06/05(월)"
   ]
  },
  {
   "attachments": {},
   "cell_type": "markdown",
   "metadata": {},
   "source": [
    "### 1. 상속"
   ]
  },
  {
   "cell_type": "code",
   "execution_count": 2,
   "metadata": {},
   "outputs": [
    {
     "name": "stdout",
     "output_type": "stream",
     "text": [
      "고양이: ('야옹이', 2)\n",
      "강아지: ('망치', 1, '수컷')\n"
     ]
    }
   ],
   "source": [
    "# 상속 미적용\n",
    "class Cat:\n",
    "    \n",
    "    def __init__(self, n, a):\n",
    "        self.username = n\n",
    "        self.age = a\n",
    "    \n",
    "    # 추가 메서드 지정 가능\n",
    "    def info(self):\n",
    "        return self.username, self.age\n",
    "\n",
    "class Dog:\n",
    "    \n",
    "    def __init__(self, n, a, g):\n",
    "        self.username = n\n",
    "        self.age = a\n",
    "        self.gender = g\n",
    "    \n",
    "    # 추가 메서드 지정 가능\n",
    "    def info(self):\n",
    "        return self.username, self.age, self.gender\n",
    "\n",
    "c = Cat(\"야옹이\", 2)\n",
    "d = Dog(\"망치\", 1, \"수컷\")\n",
    "\n",
    "print(\"고양이:\", c.info())\n",
    "print(\"강아지:\", d.info())\n"
   ]
  },
  {
   "cell_type": "code",
   "execution_count": 4,
   "metadata": {},
   "outputs": [
    {
     "name": "stdout",
     "output_type": "stream",
     "text": [
      "고양이: ('야옹이', 2)\n",
      "강아지: ('망치', 1, '수컷')\n"
     ]
    }
   ],
   "source": [
    "# 상속 적용\n",
    "# 공통적인 속성 및 동작을 추출해서 큰 개념의 클래스 작성\n",
    "\n",
    "class Pet:\n",
    "    def __init__(self, n, a):\n",
    "        self.usernsme = n\n",
    "        self.age = a\n",
    "    \n",
    "class Cat(Pet): # Cat is a Pet\n",
    "    def __init__(self, n, a):\n",
    "        # 부모에서 초기화\n",
    "        super().__init__(n, a)\n",
    "    \n",
    "    def info(self):\n",
    "        return self.usernsme, self.age\n",
    "\n",
    "class Dog(Pet):\n",
    "    def __init__(self, n, a, g):\n",
    "        super().__init__(n, a)\n",
    "        self.gender = g\n",
    "    \n",
    "    def info(self):\n",
    "        return self.usernsme, self.age, self.gender\n",
    "\n",
    "c = Cat(\"야옹이\", 2)\n",
    "d = Dog(\"망치\", 1, \"수컷\")\n",
    "\n",
    "print(\"고양이:\", c.info())\n",
    "print(\"강아지:\", d.info())\n"
   ]
  },
  {
   "cell_type": "code",
   "execution_count": 9,
   "metadata": {},
   "outputs": [
    {
     "name": "stdout",
     "output_type": "stream",
     "text": [
      "[<class '__main__.Cat'>, <class '__main__.Pet'>, <class 'object'>]\n"
     ]
    }
   ],
   "source": [
    "# 상속의 계층구조 확인\n",
    "print(Cat.mro())"
   ]
  },
  {
   "attachments": {},
   "cell_type": "markdown",
   "metadata": {},
   "source": [
    "### 2. class 변수 & 메서드"
   ]
  },
  {
   "cell_type": "code",
   "execution_count": 8,
   "metadata": {},
   "outputs": [
    {
     "name": "stdout",
     "output_type": "stream",
     "text": [
      "p: ('홍길동', 20, '서울')\n",
      "p2: ('이순신', 44, '서울')\n",
      "----------------------------------------------------------------------------------------------------\n",
      "p: ('홍길동', 20, '제주')\n",
      "p2: ('이순신', 44, '제주')\n"
     ]
    }
   ],
   "source": [
    "class Person:\n",
    "    \n",
    "    address = \"서울\" # class 변수, 단 한 번 생성 (목적: 여러 인스턴스가 공유 가능)\n",
    "    \n",
    "    def __init__(self, n, a):\n",
    "        # 인스턴스 변수, 생성할 때마다 생성\n",
    "        self.username = n\n",
    "        self.age = a\n",
    "    \n",
    "    def info(self):\n",
    "        return self.username, self.age, Person.address\n",
    "\n",
    "p = Person(\"홍길동\", 20)\n",
    "p2 = Person(\"이순신\", 44)\n",
    "\n",
    "print(\"p:\", p.info())\n",
    "print(\"p2:\", p2.info())\n",
    "print(\"-\"*100)\n",
    "\n",
    "# 값 변경을 한 번에 할 수 있다\n",
    "Person.address = \"제주\"\n",
    "p = Person(\"홍길동\", 20)\n",
    "p2 = Person(\"이순신\", 44)\n",
    "\n",
    "print(\"p:\", p.info())\n",
    "print(\"p2:\", p2.info())"
   ]
  },
  {
   "cell_type": "code",
   "execution_count": 7,
   "metadata": {},
   "outputs": [
    {
     "name": "stdout",
     "output_type": "stream",
     "text": [
      "p: ('홍길동', 20, '서울') 서울\n",
      "p2: ('이순신', 44, '서울') 서울\n"
     ]
    }
   ],
   "source": [
    "# 클래스 메서드\n",
    "class Person:\n",
    "    \n",
    "    address = \"서울\" # class 변수\n",
    "    \n",
    "    def __init__(self, n, a):\n",
    "        # 인스턴스 변수, 생성할 때마다 생성\n",
    "        self.username = n\n",
    "        self.age = a\n",
    "    \n",
    "    def info(self):\n",
    "        return self.username, self.age, Person.address\n",
    "    \n",
    "    @classmethod\n",
    "    def get_address(cls):\n",
    "        return Person.address\n",
    "    \n",
    "\n",
    "p = Person(\"홍길동\", 20)\n",
    "p2 = Person(\"이순신\", 44)\n",
    "\n",
    "print(\"p:\", p.info(), Person.get_address())\n",
    "print(\"p2:\", p2.info(), Person.get_address())"
   ]
  },
  {
   "cell_type": "code",
   "execution_count": null,
   "metadata": {},
   "outputs": [],
   "source": [
    "# 모듈: sample 폴더에 파일 추가한 것들이 패키지가 되고, exam1~4를 실행하면 적용"
   ]
  },
  {
   "attachments": {},
   "cell_type": "markdown",
   "metadata": {},
   "source": [
    "### 3. 예외처리"
   ]
  },
  {
   "cell_type": "code",
   "execution_count": 14,
   "metadata": {},
   "outputs": [
    {
     "name": "stdout",
     "output_type": "stream",
     "text": [
      "1\n",
      "2\n"
     ]
    },
    {
     "ename": "ZeroDivisionError",
     "evalue": "division by zero",
     "output_type": "error",
     "traceback": [
      "\u001b[1;31m---------------------------------------------------------------------------\u001b[0m",
      "\u001b[1;31mZeroDivisionError\u001b[0m                         Traceback (most recent call last)",
      "Cell \u001b[1;32mIn[14], line 5\u001b[0m\n\u001b[0;32m      2\u001b[0m \u001b[39mprint\u001b[39m(\u001b[39m\"\u001b[39m\u001b[39m2\u001b[39m\u001b[39m\"\u001b[39m)\n\u001b[0;32m      4\u001b[0m n \u001b[39m=\u001b[39m \u001b[39m0\u001b[39m\n\u001b[1;32m----> 5\u001b[0m result \u001b[39m=\u001b[39m \u001b[39m10\u001b[39;49m\u001b[39m/\u001b[39;49mn\n\u001b[0;32m      6\u001b[0m \u001b[39mprint\u001b[39m(\u001b[39m\"\u001b[39m\u001b[39m결과값:\u001b[39m\u001b[39m\"\u001b[39m, result)\n\u001b[0;32m      8\u001b[0m \u001b[39mprint\u001b[39m(\u001b[39m\"\u001b[39m\u001b[39m3\u001b[39m\u001b[39m\"\u001b[39m)\n",
      "\u001b[1;31mZeroDivisionError\u001b[0m: division by zero"
     ]
    }
   ],
   "source": [
    "# 비정상 종료\n",
    "print(\"1\")\n",
    "print(\"2\")\n",
    "\n",
    "n = 0\n",
    "result = 10/n\n",
    "print(\"결과값:\", result)\n",
    "\n",
    "print(\"3\")\n",
    "print(\"end. 정상종료\")"
   ]
  },
  {
   "cell_type": "code",
   "execution_count": 16,
   "metadata": {},
   "outputs": [
    {
     "name": "stdout",
     "output_type": "stream",
     "text": [
      "1\n",
      "2\n",
      "0으로 나누어 예외 발생\n",
      "3\n",
      "end. 정상종료\n"
     ]
    }
   ],
   "source": [
    "# 예외 처리\n",
    "\n",
    "print(\"1\")\n",
    "print(\"2\")\n",
    "\n",
    "try:\n",
    "    n = 0\n",
    "    result = 10/n\n",
    "    print(\"결과값:\", result)\n",
    "except ZeroDivisionError as e:\n",
    "    print(\"0으로 나누어 예외 발생\")\n",
    "\n",
    "print(\"3\")\n",
    "print(\"end. 정상종료\")"
   ]
  },
  {
   "cell_type": "code",
   "execution_count": 17,
   "metadata": {},
   "outputs": [
    {
     "name": "stdout",
     "output_type": "stream",
     "text": [
      "1\n",
      "2\n"
     ]
    },
    {
     "ename": "ZeroDivisionError",
     "evalue": "division by zero",
     "output_type": "error",
     "traceback": [
      "\u001b[1;31m---------------------------------------------------------------------------\u001b[0m",
      "\u001b[1;31mZeroDivisionError\u001b[0m                         Traceback (most recent call last)",
      "Cell \u001b[1;32mIn[17], line 8\u001b[0m\n\u001b[0;32m      6\u001b[0m \u001b[39mtry\u001b[39;00m:\n\u001b[0;32m      7\u001b[0m     n \u001b[39m=\u001b[39m \u001b[39m0\u001b[39m\n\u001b[1;32m----> 8\u001b[0m     result \u001b[39m=\u001b[39m \u001b[39m10\u001b[39;49m\u001b[39m/\u001b[39;49mn\n\u001b[0;32m      9\u001b[0m     \u001b[39mprint\u001b[39m(\u001b[39m\"\u001b[39m\u001b[39m결과값:\u001b[39m\u001b[39m\"\u001b[39m, result)\n\u001b[0;32m     10\u001b[0m \u001b[39mexcept\u001b[39;00m \u001b[39mTypeError\u001b[39;00m \u001b[39mas\u001b[39;00m e:\n",
      "\u001b[1;31mZeroDivisionError\u001b[0m: division by zero"
     ]
    }
   ],
   "source": [
    "# 예외 처리\n",
    "# 해당하는 에러를 추가하지 않으면 비정상 종료 발생 -> 적합한 예외 클래스를 사용해야 함\n",
    "\n",
    "print(\"1\")\n",
    "print(\"2\")\n",
    "\n",
    "try:\n",
    "    n = 0\n",
    "    result = 10/n\n",
    "    print(\"결과값:\", result)\n",
    "except TypeError as e:\n",
    "    print(\"0으로 나누어 예외 발생\")\n",
    "\n",
    "print(\"3\")\n",
    "print(\"end. 정상종료\")"
   ]
  },
  {
   "cell_type": "code",
   "execution_count": 98,
   "metadata": {},
   "outputs": [
    {
     "name": "stdout",
     "output_type": "stream",
     "text": [
      "1\n",
      "2\n",
      "0으로 나누어 예외 발생\n",
      "3\n",
      "end. 정상종료\n"
     ]
    }
   ],
   "source": [
    "# 예외 처리\n",
    "# 부모 예외 클래스를 적용하면 해당 예외처리가 적용이 된다(다형성)\n",
    "# 해당하는 클래스를 적용하는 것을 권장\n",
    "\n",
    "print(\"1\")\n",
    "print(\"2\")\n",
    "\n",
    "try:\n",
    "    n = 0\n",
    "    result = 10/n\n",
    "    print(\"결과값:\", result)\n",
    "except Exception as e: # + ArithmeticError\n",
    "    print(\"0으로 나누어 예외 발생\")\n",
    "\n",
    "print(\"3\")\n",
    "print(\"end. 정상종료\")"
   ]
  },
  {
   "cell_type": "code",
   "execution_count": 2,
   "metadata": {},
   "outputs": [
    {
     "name": "stdout",
     "output_type": "stream",
     "text": [
      "1\n",
      "2\n",
      "error:  division by zero\n",
      "3\n",
      "end. 정상종료\n"
     ]
    }
   ],
   "source": [
    "print(\"1\")\n",
    "print(\"2\")\n",
    "\n",
    "try:\n",
    "    n = 0\n",
    "    result = 10/n\n",
    "    print(\"결과값:\", result)\n",
    "except ZeroDivisionError as e:\n",
    "    print(\"error: \", e)\n",
    "except ValueError as e:\n",
    "    print(\"error: \", e)\n",
    "except Exception as e:\n",
    "    print(\"error: \", e)\n",
    "\n",
    "print(\"3\")\n",
    "print(\"end. 정상종료\")"
   ]
  },
  {
   "cell_type": "code",
   "execution_count": 4,
   "metadata": {},
   "outputs": [
    {
     "name": "stdout",
     "output_type": "stream",
     "text": [
      "1\n",
      "2\n",
      "error:  division by zero\n",
      "반드시 실행\n",
      "3\n",
      "end. 정상종료\n"
     ]
    }
   ],
   "source": [
    "print(\"1\")\n",
    "print(\"2\")\n",
    "\n",
    "try:\n",
    "    n = 0\n",
    "    result = 10/n\n",
    "    print(\"결과값:\", result)\n",
    "except ZeroDivisionError as e:\n",
    "    print(\"error: \", e)\n",
    "except ValueError as e:\n",
    "    print(\"error: \", e)\n",
    "except Exception as e:\n",
    "    print(\"error: \", e)\n",
    "finally:\n",
    "    print(\"반드시 실행\")\n",
    "\n",
    "print(\"3\")\n",
    "print(\"end. 정상종료\")"
   ]
  },
  {
   "attachments": {},
   "cell_type": "markdown",
   "metadata": {},
   "source": [
    "### 4. 파일 읽기"
   ]
  },
  {
   "cell_type": "code",
   "execution_count": 12,
   "metadata": {},
   "outputs": [
    {
     "name": "stdout",
     "output_type": "stream",
     "text": [
      "hello\n",
      "world\n",
      "홍길동\n",
      "----------------------------------------------------------------------------------------------------\n",
      "hello\n",
      "\n",
      "----------------------------------------------------------------------------------------------------\n",
      "hello\n",
      "world\n",
      "홍길동"
     ]
    }
   ],
   "source": [
    "# D:/sample.txt 읽어오기\n",
    "# mode: r(read, 읽기), w(write, 쓰기, 덮어쓰기), a(append, 쓰기, 추가)\n",
    "# 1. f.read()는 한 번에 str로 반환\n",
    "with open(r\"D:\\sample.txt\", \"r\", encoding=\"UTF-8\") as f:\n",
    "    contents = f.read()\n",
    "    print(contents)\n",
    "print(\"-\"*100)\n",
    "\n",
    "# 2. f.readline()은 첫 줄만 읽음 --> 반복적으로 읽기\n",
    "with open(r\"D:\\sample.txt\", \"r\", encoding=\"UTF-8\") as f:\n",
    "    line = f.readline()\n",
    "    print(line)\n",
    "print(\"-\"*100)\n",
    "\n",
    "with open(r\"D:\\sample.txt\", \"r\", encoding=\"UTF-8\") as f:\n",
    "    while True:\n",
    "        line = f.readline()\n",
    "        if not line: break # EOF(End Of File)\n",
    "        print(line, end=\"\") # txt 파일에서 줄을 바꿀 때 사용한 엔터 '\\n'을 인식"
   ]
  },
  {
   "cell_type": "code",
   "execution_count": 22,
   "metadata": {},
   "outputs": [
    {
     "name": "stdout",
     "output_type": "stream",
     "text": [
      "['hello\\n', 'world\\n', '홍길동']\n",
      "hello\n",
      "world\n",
      "홍길동\n",
      " ----------------------------------------------------------------------------------------------------\n",
      "error: [Errno 2] No such file or directory: 'D:\\\\sample2.txt'\n",
      "end. 정상종료\n"
     ]
    }
   ],
   "source": [
    "# 3. f.readlines()는 한 번에 리스트로 반환\n",
    "with open(r\"D:\\sample.txt\", \"r\", encoding=\"UTF-8\") as f:\n",
    "    list_line = f.readlines()\n",
    "    print(list_line)\n",
    "    for line in list_line:\n",
    "        print(line, end=\"\")\n",
    "\n",
    "print(\"\\n\", \"-\"*100)\n",
    "\n",
    "# 예외처리\n",
    "try:\n",
    "    with open(r\"D:\\sample2.txt\", \"r\", encoding=\"UTF-8\") as f:\n",
    "        while True:\n",
    "            line = f.readline()\n",
    "            if not line: break\n",
    "            print(line, end=\"\")\n",
    "except FileNotFoundError as e:\n",
    "    print(\"error:\", e)\n",
    "print(\"end. 정상종료\")"
   ]
  },
  {
   "cell_type": "code",
   "execution_count": 99,
   "metadata": {},
   "outputs": [
    {
     "name": "stdout",
     "output_type": "stream",
     "text": [
      "end. 정상종료\n",
      "end. 정상종료\n"
     ]
    }
   ],
   "source": [
    "# 파일 쓰기(파일이 없으면 자동 생성)\n",
    "with open(r\"D:\\sample2.txt\", \"w\", encoding=\"UTF-8\") as f: # \"w\": 덮어쓰기\n",
    "    f.write(\"numpy\")\n",
    "print(\"end. 정상종료\")\n",
    "\n",
    "with open(r\"D:\\sample2.txt\", \"a\", encoding=\"UTF-8\") as f: # \"a\": 추가\n",
    "    f.write(\"numpy\\n\")\n",
    "print(\"end. 정상종료\")"
   ]
  },
  {
   "cell_type": "code",
   "execution_count": 46,
   "metadata": {},
   "outputs": [
    {
     "name": "stdout",
     "output_type": "stream",
     "text": [
      "<_csv.reader object at 0x000001BD3565F2E0>\n",
      "['홍길동1', '40', '서울1'] 홍길동1 홍길동1 40 서울1\n",
      "['홍길동2', '20', '서울2'] 홍길동2 홍길동2 20 서울2\n",
      "['홍길동3', '20', '서울3'] 홍길동3 홍길동3 20 서울3\n",
      "----------------------------------------------------------------------------------------------------\n",
      "<_csv.reader object at 0x000001BD35773040>\n",
      "['홍길동1', '40', '서울1'] 홍길동1 홍길동1 40 서울1\n",
      "['홍길동2', '20', '서울2'] 홍길동2 홍길동2 20 서울2\n",
      "['홍길동3', '20', '서울3'] 홍길동3 홍길동3 20 서울3\n",
      "----------------------------------------------------------------------------------------------------\n",
      "<_csv.reader object at 0x000001BD357CC100>\n",
      "['홍길동1', '40', '서울1'] 홍길동1 홍길동1 40 서울1\n",
      "['홍길동2', '20', '서울2'] 홍길동2 홍길동2 20 서울2\n",
      "['홍길동3', '20', '서울3'] 홍길동3 홍길동3 20 서울3\n"
     ]
    }
   ],
   "source": [
    "# csv 파일 읽기\n",
    "# sample3.csv 파일 읽기\n",
    "import csv\n",
    "with open(r\"D:\\sample3.csv\", mode=\"r\", encoding=\"UTF-8\") as f:\n",
    "    data = csv.reader(f)\n",
    "    print(data)\n",
    "    for line in data:\n",
    "        print(line, line[0], \" \".join(line))\n",
    "\n",
    "print(\"-\"*100)\n",
    "# 구분자가 | 인 csv 파일 열기\n",
    "import csv\n",
    "with open(r\"D:\\sample4.csv\", mode=\"r\", encoding=\"UTF-8\") as f:\n",
    "    data = csv.reader(f, delimiter=\"|\")\n",
    "    print(data)\n",
    "    for line in data:\n",
    "        print(line, line[0], \" \".join(line))\n",
    "\n",
    "print(\"-\"*100)\n",
    "# 컬럼 헤더가 있는 csv 파일 열기\n",
    "import csv\n",
    "with open(r\"D:\\sample5.csv\", mode=\"r\", encoding=\"UTF-8\") as f:\n",
    "    next(f) # 헤더를 읽어버림 -> 이후에 print에서 헤더가 보이지 않음\n",
    "    data = csv.reader(f)\n",
    "    print(data)\n",
    "    for line in data:\n",
    "        print(line, line[0], \" \".join(line))"
   ]
  },
  {
   "cell_type": "code",
   "execution_count": 57,
   "metadata": {},
   "outputs": [
    {
     "name": "stdout",
     "output_type": "stream",
     "text": [
      "end. 정상종료\n",
      "end. 정상종료\n"
     ]
    }
   ],
   "source": [
    "# csv 파일 쓰기\n",
    "# 한 줄 작성\n",
    "with open(r\"D:\\sample6.csv\", mode=\"w\", encoding=\"utf-8\") as f:\n",
    "    data = csv.writer(f)\n",
    "    data.writerow([\"홍길동\", 20, \"서울\"])\n",
    "\n",
    "print(\"end. 정상종료\")\n",
    "\n",
    "# 여러 줄 작성\n",
    "with open(r\"D:\\sample7.csv\", mode=\"w\", newline=\"\", encoding=\"utf-8\") as f:\n",
    "    data = csv.writer(f)\n",
    "    data.writerows([[\"홍길동1\", 20, \"서울1\"], [\"홍길동2\", 20, \"서울2\"]])\n",
    "\n",
    "print(\"end. 정상종료\")"
   ]
  },
  {
   "cell_type": "code",
   "execution_count": 65,
   "metadata": {},
   "outputs": [
    {
     "name": "stdout",
     "output_type": "stream",
     "text": [
      "{\"username\":\"홍길동\",\"age\":20} <class 'str'>\n",
      "\n",
      "{'username': '홍길동', 'age': 20} <class 'dict'>\n",
      "홍길동 20\n",
      "\n",
      "[10, 20, 30] <class 'str'>\n",
      "[10, 20, 30] <class 'list'>\n",
      "10 20 30\n"
     ]
    }
   ],
   "source": [
    "# JSON 변환\n",
    "import json\n",
    "\n",
    "# 문자열 -> JSON\n",
    "s = '{\"username\":\"홍길동\",\"age\":20}'\n",
    "print(s, type(s))\n",
    "print()\n",
    "\n",
    "s_json = json.loads(s)\n",
    "print(s_json, type(s_json))\n",
    "print(s_json[\"username\"], s_json[\"age\"])\n",
    "print()\n",
    "\n",
    "l_s = \"[10, 20, 30]\"\n",
    "print(l_s, type(l_s))\n",
    "l_s_json = json.loads(l_s)\n",
    "print(l_s_json, type(l_s_json))\n",
    "print(l_s_json[0], l_s_json[1], l_s_json[2])"
   ]
  },
  {
   "cell_type": "code",
   "execution_count": 67,
   "metadata": {},
   "outputs": [
    {
     "name": "stdout",
     "output_type": "stream",
     "text": [
      "{'username': '홍길동', 'age': 20} <class 'dict'>\n",
      "{\"username\": \"\\ud64d\\uae38\\ub3d9\", \"age\": 20} <class 'str'>\n"
     ]
    }
   ],
   "source": [
    "# JSON -> 문자열\n",
    "s_json = {\"username\":\"홍길동\",\"age\":20}\n",
    "print(s_json, type(s_json))\n",
    "s = json.dumps(s_json)\n",
    "print(s, type(s))"
   ]
  },
  {
   "attachments": {},
   "cell_type": "markdown",
   "metadata": {},
   "source": [
    "### 5. 날짜 데이터"
   ]
  },
  {
   "cell_type": "code",
   "execution_count": 71,
   "metadata": {},
   "outputs": [
    {
     "name": "stdout",
     "output_type": "stream",
     "text": [
      "1. 현재 날짜: 2023-06-05 16:12:42.913118\n",
      "1. 현재 날짜: 2023-06-05 16:12:42.913119\n",
      "2. 년도: 2023\n",
      "2. 월: 6\n",
      "2. 일: 5\n",
      "2. 시간: 16\n",
      "2. 분: 12\n",
      "2. 초: 42\n"
     ]
    }
   ],
   "source": [
    "from datetime import datetime\n",
    "\n",
    "print(\"1. 현재 날짜:\", datetime.now())\n",
    "print(\"1. 현재 날짜:\", datetime.today())\n",
    "\n",
    "print(\"2. 년도:\", datetime.today().year)\n",
    "print(\"2. 월:\", datetime.today().month)\n",
    "print(\"2. 일:\", datetime.today().day)\n",
    "print(\"2. 시간:\", datetime.today().hour)\n",
    "print(\"2. 분:\", datetime.today().minute)\n",
    "print(\"2. 초:\", datetime.today().second)\n"
   ]
  },
  {
   "cell_type": "code",
   "execution_count": 74,
   "metadata": {},
   "outputs": [
    {
     "name": "stdout",
     "output_type": "stream",
     "text": [
      "Help on class datetime in module datetime:\n",
      "\n",
      "class datetime(date)\n",
      " |  datetime(year, month, day[, hour[, minute[, second[, microsecond[,tzinfo]]]]])\n",
      " |  \n",
      " |  The year, month and day arguments are required. tzinfo may be None, or an\n",
      " |  instance of a tzinfo subclass. The remaining arguments may be ints.\n",
      " |  \n",
      " |  Method resolution order:\n",
      " |      datetime\n",
      " |      date\n",
      " |      builtins.object\n",
      " |  \n",
      " |  Methods defined here:\n",
      " |  \n",
      " |  __add__(self, value, /)\n",
      " |      Return self+value.\n",
      " |  \n",
      " |  __eq__(self, value, /)\n",
      " |      Return self==value.\n",
      " |  \n",
      " |  __ge__(self, value, /)\n",
      " |      Return self>=value.\n",
      " |  \n",
      " |  __getattribute__(self, name, /)\n",
      " |      Return getattr(self, name).\n",
      " |  \n",
      " |  __gt__(self, value, /)\n",
      " |      Return self>value.\n",
      " |  \n",
      " |  __hash__(self, /)\n",
      " |      Return hash(self).\n",
      " |  \n",
      " |  __le__(self, value, /)\n",
      " |      Return self<=value.\n",
      " |  \n",
      " |  __lt__(self, value, /)\n",
      " |      Return self<value.\n",
      " |  \n",
      " |  __ne__(self, value, /)\n",
      " |      Return self!=value.\n",
      " |  \n",
      " |  __radd__(self, value, /)\n",
      " |      Return value+self.\n",
      " |  \n",
      " |  __reduce__(...)\n",
      " |      __reduce__() -> (cls, state)\n",
      " |  \n",
      " |  __reduce_ex__(...)\n",
      " |      __reduce_ex__(proto) -> (cls, state)\n",
      " |  \n",
      " |  __repr__(self, /)\n",
      " |      Return repr(self).\n",
      " |  \n",
      " |  __rsub__(self, value, /)\n",
      " |      Return value-self.\n",
      " |  \n",
      " |  __str__(self, /)\n",
      " |      Return str(self).\n",
      " |  \n",
      " |  __sub__(self, value, /)\n",
      " |      Return self-value.\n",
      " |  \n",
      " |  astimezone(...)\n",
      " |      tz -> convert to local time in new timezone tz\n",
      " |  \n",
      " |  ctime(...)\n",
      " |      Return ctime() style string.\n",
      " |  \n",
      " |  date(...)\n",
      " |      Return date object with same year, month and day.\n",
      " |  \n",
      " |  dst(...)\n",
      " |      Return self.tzinfo.dst(self).\n",
      " |  \n",
      " |  isoformat(...)\n",
      " |      [sep] -> string in ISO 8601 format, YYYY-MM-DDT[HH[:MM[:SS[.mmm[uuu]]]]][+HH:MM].\n",
      " |      sep is used to separate the year from the time, and defaults to 'T'.\n",
      " |      The optional argument timespec specifies the number of additional terms\n",
      " |      of the time to include. Valid options are 'auto', 'hours', 'minutes',\n",
      " |      'seconds', 'milliseconds' and 'microseconds'.\n",
      " |  \n",
      " |  replace(...)\n",
      " |      Return datetime with new specified fields.\n",
      " |  \n",
      " |  time(...)\n",
      " |      Return time object with same time but with tzinfo=None.\n",
      " |  \n",
      " |  timestamp(...)\n",
      " |      Return POSIX timestamp as float.\n",
      " |  \n",
      " |  timetuple(...)\n",
      " |      Return time tuple, compatible with time.localtime().\n",
      " |  \n",
      " |  timetz(...)\n",
      " |      Return time object with same time and tzinfo.\n",
      " |  \n",
      " |  tzname(...)\n",
      " |      Return self.tzinfo.tzname(self).\n",
      " |  \n",
      " |  utcoffset(...)\n",
      " |      Return self.tzinfo.utcoffset(self).\n",
      " |  \n",
      " |  utctimetuple(...)\n",
      " |      Return UTC time tuple, compatible with time.localtime().\n",
      " |  \n",
      " |  ----------------------------------------------------------------------\n",
      " |  Class methods defined here:\n",
      " |  \n",
      " |  combine(...) from builtins.type\n",
      " |      date, time -> datetime with same date and time fields\n",
      " |  \n",
      " |  fromisoformat(...) from builtins.type\n",
      " |      string -> datetime from a string in most ISO 8601 formats\n",
      " |  \n",
      " |  fromtimestamp(...) from builtins.type\n",
      " |      timestamp[, tz] -> tz's local time from POSIX timestamp.\n",
      " |  \n",
      " |  now(tz=None) from builtins.type\n",
      " |      Returns new datetime object representing current time local to tz.\n",
      " |      \n",
      " |        tz\n",
      " |          Timezone object.\n",
      " |      \n",
      " |      If no tz is specified, uses local timezone.\n",
      " |  \n",
      " |  strptime(...) from builtins.type\n",
      " |      string, format -> new datetime parsed from a string (like time.strptime()).\n",
      " |  \n",
      " |  utcfromtimestamp(...) from builtins.type\n",
      " |      Construct a naive UTC datetime from a POSIX timestamp.\n",
      " |  \n",
      " |  utcnow(...) from builtins.type\n",
      " |      Return a new datetime representing UTC day and time.\n",
      " |  \n",
      " |  ----------------------------------------------------------------------\n",
      " |  Static methods defined here:\n",
      " |  \n",
      " |  __new__(*args, **kwargs) from builtins.type\n",
      " |      Create and return a new object.  See help(type) for accurate signature.\n",
      " |  \n",
      " |  ----------------------------------------------------------------------\n",
      " |  Data descriptors defined here:\n",
      " |  \n",
      " |  fold\n",
      " |  \n",
      " |  hour\n",
      " |  \n",
      " |  microsecond\n",
      " |  \n",
      " |  minute\n",
      " |  \n",
      " |  second\n",
      " |  \n",
      " |  tzinfo\n",
      " |  \n",
      " |  ----------------------------------------------------------------------\n",
      " |  Data and other attributes defined here:\n",
      " |  \n",
      " |  max = datetime.datetime(9999, 12, 31, 23, 59, 59, 999999)\n",
      " |  \n",
      " |  min = datetime.datetime(1, 1, 1, 0, 0)\n",
      " |  \n",
      " |  resolution = datetime.timedelta(microseconds=1)\n",
      " |  \n",
      " |  ----------------------------------------------------------------------\n",
      " |  Methods inherited from date:\n",
      " |  \n",
      " |  __format__(...)\n",
      " |      Formats self with strftime.\n",
      " |  \n",
      " |  isocalendar(...)\n",
      " |      Return a named tuple containing ISO year, week number, and weekday.\n",
      " |  \n",
      " |  isoweekday(...)\n",
      " |      Return the day of the week represented by the date.\n",
      " |      Monday == 1 ... Sunday == 7\n",
      " |  \n",
      " |  strftime(...)\n",
      " |      format -> strftime() style string.\n",
      " |  \n",
      " |  toordinal(...)\n",
      " |      Return proleptic Gregorian ordinal.  January 1 of year 1 is day 1.\n",
      " |  \n",
      " |  weekday(...)\n",
      " |      Return the day of the week represented by the date.\n",
      " |      Monday == 0 ... Sunday == 6\n",
      " |  \n",
      " |  ----------------------------------------------------------------------\n",
      " |  Class methods inherited from date:\n",
      " |  \n",
      " |  fromisocalendar(...) from builtins.type\n",
      " |      int, int, int -> Construct a date from the ISO year, week number and weekday.\n",
      " |      \n",
      " |      This is the inverse of the date.isocalendar() function\n",
      " |  \n",
      " |  fromordinal(...) from builtins.type\n",
      " |      int -> date corresponding to a proleptic Gregorian ordinal.\n",
      " |  \n",
      " |  today(...) from builtins.type\n",
      " |      Current date or datetime:  same as self.__class__.fromtimestamp(time.time()).\n",
      " |  \n",
      " |  ----------------------------------------------------------------------\n",
      " |  Data descriptors inherited from date:\n",
      " |  \n",
      " |  day\n",
      " |  \n",
      " |  month\n",
      " |  \n",
      " |  year\n",
      "\n"
     ]
    }
   ],
   "source": [
    "help(datetime)"
   ]
  },
  {
   "cell_type": "code",
   "execution_count": 80,
   "metadata": {},
   "outputs": [
    {
     "name": "stdout",
     "output_type": "stream",
     "text": [
      "2022-05-19 12:20:00\n"
     ]
    }
   ],
   "source": [
    "# 특정 날짜 생성\n",
    "new_date = datetime(2022, 5, 19)\n",
    "new_date = datetime(year=2022, month=5, day=19)\n",
    "new_date = datetime(year=2022, month=5, day=19, hour=12, minute=20)\n",
    "print(new_date)"
   ]
  },
  {
   "cell_type": "code",
   "execution_count": 86,
   "metadata": {},
   "outputs": [
    {
     "name": "stdout",
     "output_type": "stream",
     "text": [
      "2022년12월23일 12:24:13 2022-12-23 12:24:13\n",
      "2022년12월23일 12:24:13 <class 'str'>\n"
     ]
    }
   ],
   "source": [
    "# 문자열 형식의 날짜 -> 날짜로 변경\n",
    "# help('FORMATTING')\n",
    "# datetime.strptime('문자열', '포맷')\n",
    "s = \"2022년12월23일 12:24:13\"\n",
    "s_date = datetime.strptime(s, \"%Y년%m월%d일 %H:%M:%S\")\n",
    "print(s, s_date)\n",
    "\n",
    "# 날짜 --> 문자열로 변경\n",
    "# 날짜타입변수.strftime('포맷')\n",
    "s = s_date.strftime(\"%Y년%m월%d일 %H:%M:%S\")\n",
    "print(s, type(s))"
   ]
  },
  {
   "attachments": {},
   "cell_type": "markdown",
   "metadata": {},
   "source": [
    "### 6. 경로"
   ]
  },
  {
   "cell_type": "code",
   "execution_count": 92,
   "metadata": {},
   "outputs": [
    {
     "name": "stdout",
     "output_type": "stream",
     "text": [
      "d:\\Multicampus\\python\n",
      "c:\\Users\\xxx\n",
      "d:\\Multicampus\\python\\aaa.txt\n",
      "d:\\Multicampus\\python\n",
      "aaa.txt\n",
      "d:\\Multicampus\\python aaa.txt\n"
     ]
    }
   ],
   "source": [
    "import os\n",
    "\n",
    "# 1. 현재 작업 경로\n",
    "print(os.getcwd()) #d:\\Multicampus\\python\n",
    "\n",
    "# 2. 임의의 경로 생성하기 c:\\users\\xxx\n",
    "print(os.path.join(\"c:\\\\\", \"Users\", \"xxx\"))\n",
    "\n",
    "# 현재 작업 경로에 aaa.txt 파일 경로 추가\n",
    "print(os.path.join(os.getcwd(), \"aaa.txt\"))\n",
    "\n",
    "# 3. 특정 경로에서 디렉토리 경로 얻기\n",
    "p = r\"d:\\Multicampus\\python\\aaa.txt\"\n",
    "print(os.path.dirname(p))\n",
    "\n",
    "# 4. 특정 경로에서 파일명 얻기\n",
    "p = r\"d:\\Multicampus\\python\\aaa.txt\"\n",
    "print(os.path.basename(p))\n",
    "\n",
    "# 5. 특정 경로에서 디렉토리와 파일명 한꺼번에 분리하기\n",
    "p = r\"d:\\Multicampus\\python\\aaa.txt\"\n",
    "dir, file = os.path.split(p)\n",
    "print(dir, file)"
   ]
  },
  {
   "cell_type": "code",
   "execution_count": 96,
   "metadata": {},
   "outputs": [
    {
     "name": "stdout",
     "output_type": "stream",
     "text": [
      "aaa .txt\n",
      "['.idea', '20230530_datatype1_일반.py', '20230530_datatype2_집합.py', '20230530_datatype3_이스케이프문자.py', 'exam1.py', 'exam2.py', 'exam3.py', 'exam4.py', 'helloText.py', 'python_basic.ipynb', 'sample1', 'workshop']\n"
     ]
    }
   ],
   "source": [
    "# 6. 파일에서 파일명과 확장자 분리\n",
    "p = r\"d:\\Multicampus\\python\\aaa.txt\"\n",
    "file = os.path.basename(p)\n",
    "file_name, extend_name = os.path.splitext(file)\n",
    "print(file_name, extend_name)\n",
    "\n",
    "# 7. 특정 디렉토리 목록 보기\n",
    "dir_list = os.listdir(os.getcwd())\n",
    "print(dir_list)"
   ]
  },
  {
   "cell_type": "code",
   "execution_count": null,
   "metadata": {},
   "outputs": [],
   "source": []
  }
 ],
 "metadata": {
  "kernelspec": {
   "display_name": "Python 3",
   "language": "python",
   "name": "python3"
  },
  "language_info": {
   "codemirror_mode": {
    "name": "ipython",
    "version": 3
   },
   "file_extension": ".py",
   "mimetype": "text/x-python",
   "name": "python",
   "nbconvert_exporter": "python",
   "pygments_lexer": "ipython3",
   "version": "3.11.3"
  },
  "orig_nbformat": 4
 },
 "nbformat": 4,
 "nbformat_minor": 2
}
