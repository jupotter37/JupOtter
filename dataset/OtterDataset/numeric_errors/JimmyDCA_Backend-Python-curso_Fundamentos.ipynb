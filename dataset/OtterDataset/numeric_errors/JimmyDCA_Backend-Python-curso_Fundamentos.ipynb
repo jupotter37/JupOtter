{
 "cells": [
  {
   "cell_type": "code",
   "execution_count": 1,
   "id": "d49f614a-3574-488c-a969-3322e6e8bd77",
   "metadata": {},
   "outputs": [],
   "source": [
    "# Python distingue entre mayusculas y minusculas"
   ]
  },
  {
   "cell_type": "code",
   "execution_count": 3,
   "id": "53d7f265-2f27-4c8e-949f-899aa882d339",
   "metadata": {},
   "outputs": [
    {
     "name": "stdout",
     "output_type": "stream",
     "text": [
      "El curso es:  Backend python\n"
     ]
    }
   ],
   "source": [
    "A = \"Backend python\"\n",
    "print(\"El curso es: \", A)"
   ]
  },
  {
   "cell_type": "markdown",
   "id": "f0cf3414-4569-4794-8091-bee16b139d46",
   "metadata": {},
   "source": [
    "## Palabras reservadas en Python"
   ]
  },
  {
   "cell_type": "code",
   "execution_count": 8,
   "id": "ea47d258-37ff-437f-884b-ae58fb544574",
   "metadata": {},
   "outputs": [
    {
     "name": "stdout",
     "output_type": "stream",
     "text": [
      "\n",
      "Here is a list of the Python keywords.  Enter any keyword to get more help.\n",
      "\n",
      "False               class               from                or\n",
      "None                continue            global              pass\n",
      "True                def                 if                  raise\n",
      "and                 del                 import              return\n",
      "as                  elif                in                  try\n",
      "assert              else                is                  while\n",
      "async               except              lambda              with\n",
      "await               finally             nonlocal            yield\n",
      "break               for                 not                 \n",
      "\n"
     ]
    }
   ],
   "source": [
    "help(\"keywords\")"
   ]
  },
  {
   "cell_type": "markdown",
   "id": "f6de010b-fc70-4844-8a36-76621c337fb7",
   "metadata": {},
   "source": [
    "## Caractéres de escape en Python"
   ]
  },
  {
   "cell_type": "markdown",
   "id": "b2fbdcd3-32a4-46fd-bd3f-9371e1ecfa72",
   "metadata": {},
   "source": [
    "##sSalto de linea"
   ]
  },
  {
   "cell_type": "code",
   "execution_count": 12,
   "id": "672e74bc-c3d2-4a12-a277-c76c1307672f",
   "metadata": {},
   "outputs": [
    {
     "data": {
      "text/plain": [
       "'\\n'"
      ]
     },
     "execution_count": 12,
     "metadata": {},
     "output_type": "execute_result"
    }
   ],
   "source": [
    "\"\\n\""
   ]
  },
  {
   "cell_type": "code",
   "execution_count": 28,
   "id": "fa5b9cc4-b903-426e-8968-7365b2feeefc",
   "metadata": {},
   "outputs": [],
   "source": [
    "my_course = \"Backen Python de EBAC\""
   ]
  },
  {
   "cell_type": "code",
   "execution_count": 26,
   "id": "247a26bd-81ab-4e83-b841-0f823baccf32",
   "metadata": {},
   "outputs": [
    {
     "name": "stdout",
     "output_type": "stream",
     "text": [
      "Backend Python\n",
      "de EBAC\n"
     ]
    }
   ],
   "source": [
    "print (my_course)"
   ]
  },
  {
   "cell_type": "code",
   "execution_count": 22,
   "id": "b0b1da9a-b3e2-43db-861e-bc9ff5ea8daa",
   "metadata": {},
   "outputs": [],
   "source": [
    "my_course = \"Backend Python\\nde EBAC\""
   ]
  },
  {
   "cell_type": "code",
   "execution_count": 24,
   "id": "3af82ec2-8ff6-47f4-961a-b47609b2ad9f",
   "metadata": {},
   "outputs": [
    {
     "name": "stdout",
     "output_type": "stream",
     "text": [
      "Backend Python\n",
      "de EBAC\n"
     ]
    }
   ],
   "source": [
    "print (my_course)"
   ]
  },
  {
   "cell_type": "markdown",
   "id": "4707c53b-9014-4466-8c2b-b79b39061783",
   "metadata": {},
   "source": [
    "## Tab"
   ]
  },
  {
   "cell_type": "code",
   "execution_count": 34,
   "id": "e680f6a4-d62e-4dda-a13f-981708d0b2b0",
   "metadata": {},
   "outputs": [],
   "source": [
    "my_course= \"Backend \\t Python \\t de EBAC\""
   ]
  },
  {
   "cell_type": "code",
   "execution_count": 36,
   "id": "4c021161-e849-4c73-9506-dc9fef3a1a78",
   "metadata": {},
   "outputs": [
    {
     "name": "stdout",
     "output_type": "stream",
     "text": [
      "Backend \t Python \t de EBAC\n"
     ]
    }
   ],
   "source": [
    "print (my_course)"
   ]
  },
  {
   "cell_type": "markdown",
   "id": "41302120-3b4d-42ea-9d9e-4dafb7f56fb9",
   "metadata": {},
   "source": [
    "## carriage return/retorno de carro"
   ]
  },
  {
   "cell_type": "code",
   "execution_count": 41,
   "id": "48bd26be-4236-4661-a615-2c8131cebda0",
   "metadata": {},
   "outputs": [],
   "source": [
    "my_course= \"Backend \\r Python \\t de EBAC\""
   ]
  },
  {
   "cell_type": "code",
   "execution_count": 43,
   "id": "adc2f04f-cee1-4966-ae2c-8c56437c736e",
   "metadata": {},
   "outputs": [
    {
     "name": "stdout",
     "output_type": "stream",
     "text": [
      " Python \t de EBAC\n"
     ]
    }
   ],
   "source": [
    "print (my_course)"
   ]
  },
  {
   "cell_type": "markdown",
   "id": "16b8cf90-c825-4982-b203-e4995d9ae1fc",
   "metadata": {},
   "source": [
    "## Backspace/Retorno"
   ]
  },
  {
   "cell_type": "markdown",
   "id": "33d0651e-cc79-4ee8-bd22-cc7caa13259e",
   "metadata": {},
   "source": [
    "### Elimina el caracter previo"
   ]
  },
  {
   "cell_type": "code",
   "execution_count": 47,
   "id": "0c4e79cc-b29a-40c2-95e5-b2893c5e9221",
   "metadata": {},
   "outputs": [],
   "source": [
    "my_course= \"Backend\\b Python \\t de EBAC\""
   ]
  },
  {
   "cell_type": "code",
   "execution_count": 51,
   "id": "80cd183d-99af-4ba0-90e7-57ec60c23098",
   "metadata": {},
   "outputs": [
    {
     "name": "stdout",
     "output_type": "stream",
     "text": [
      "Backen Python \t de EBAC\n"
     ]
    }
   ],
   "source": [
    "print(my_course)"
   ]
  },
  {
   "cell_type": "markdown",
   "id": "454a2673-fa35-4850-a1fe-0a45098cb60b",
   "metadata": {},
   "source": [
    "## Octal"
   ]
  },
  {
   "cell_type": "markdown",
   "id": "b8cce9d2-699f-4794-b701-5a21cef5325c",
   "metadata": {},
   "source": [
    "## Funcion eval"
   ]
  },
  {
   "cell_type": "code",
   "execution_count": 55,
   "id": "c710a0c8-1c92-40d1-8417-7ac9029cf777",
   "metadata": {},
   "outputs": [
    {
     "name": "stdout",
     "output_type": "stream",
     "text": [
      "122\n"
     ]
    }
   ],
   "source": [
    "my_number = 22\n",
    "print(eval(\"my_number+100\"))"
   ]
  },
  {
   "cell_type": "code",
   "execution_count": 57,
   "id": "1825950b-082c-4af5-9740-1a21e154c0ec",
   "metadata": {},
   "outputs": [
    {
     "name": "stdin",
     "output_type": "stream",
     "text": [
      "Ingresa un número:  57875\n"
     ]
    },
    {
     "name": "stdout",
     "output_type": "stream",
     "text": [
      "57875\n",
      "<class 'int'>\n"
     ]
    }
   ],
   "source": [
    "my_input = eval(input(\"Ingresa un número: \"))\n",
    "print (my_input)\n",
    "print (type(my_input))"
   ]
  },
  {
   "cell_type": "markdown",
   "id": "a8cb82e7-368b-4e46-a77f-a4112b04ad9c",
   "metadata": {},
   "source": [
    "## Función range() y xrange()"
   ]
  },
  {
   "cell_type": "code",
   "execution_count": 60,
   "id": "e53abddf-74bd-4c3a-8d21-c958ec8b0d41",
   "metadata": {},
   "outputs": [
    {
     "name": "stdout",
     "output_type": "stream",
     "text": [
      "0\n",
      "1\n",
      "2\n",
      "3\n",
      "4\n",
      "5\n",
      "6\n",
      "7\n",
      "8\n",
      "9\n"
     ]
    }
   ],
   "source": [
    "x = range(10)\n",
    "for number in x: print (number)"
   ]
  },
  {
   "cell_type": "code",
   "execution_count": 62,
   "id": "ef9c0b15-0a7e-4438-8455-bd568eb9c46d",
   "metadata": {},
   "outputs": [
    {
     "name": "stdout",
     "output_type": "stream",
     "text": [
      "3\n",
      "4\n",
      "5\n"
     ]
    }
   ],
   "source": [
    "x = range(3,6)\n",
    "for number in x: print (number)"
   ]
  },
  {
   "cell_type": "code",
   "execution_count": 64,
   "id": "51416f6c-4470-4b29-9bd2-ec611f8f232a",
   "metadata": {},
   "outputs": [
    {
     "name": "stdout",
     "output_type": "stream",
     "text": [
      "3\n",
      "5\n",
      "7\n",
      "9\n",
      "11\n",
      "13\n",
      "15\n",
      "17\n",
      "19\n"
     ]
    }
   ],
   "source": [
    "x = range(3,20,2)\n",
    "for number in x: print (number)"
   ]
  },
  {
   "cell_type": "markdown",
   "id": "aa07d318-70f8-4b2d-86a3-bd12eca6824c",
   "metadata": {},
   "source": [
    "## Mutabilidad e Imutabilllidad"
   ]
  },
  {
   "cell_type": "code",
   "execution_count": 67,
   "id": "25bd36a1-8281-4b4d-ab9f-f7ed21a0ef59",
   "metadata": {},
   "outputs": [],
   "source": [
    "tuplel = (1,2,3,4,5)"
   ]
  },
  {
   "cell_type": "code",
   "execution_count": 69,
   "id": "876f4e37-95c7-4416-8849-4487e6b0977c",
   "metadata": {},
   "outputs": [
    {
     "data": {
      "text/plain": [
       "(1, 2, 3, 4, 5)"
      ]
     },
     "execution_count": 69,
     "metadata": {},
     "output_type": "execute_result"
    }
   ],
   "source": [
    "tuplel"
   ]
  },
  {
   "cell_type": "markdown",
   "id": "6bf1aa89-6508-4c0c-9344-b1a261b7d6ef",
   "metadata": {},
   "source": [
    "#### inmutabilidad = imposibilidad de sufrir cambios\n"
   ]
  },
  {
   "cell_type": "markdown",
   "id": "5edcc057-a6ac-464e-9e66-a73dfb96e97d",
   "metadata": {},
   "source": [
    "## Función Print"
   ]
  },
  {
   "cell_type": "code",
   "execution_count": 73,
   "id": "54b3f185-5443-4204-ac93-301b477e0979",
   "metadata": {},
   "outputs": [
    {
     "name": "stdout",
     "output_type": "stream",
     "text": [
      "El valor es : 800\n"
     ]
    }
   ],
   "source": [
    "a = 100\n",
    "b = 500\n",
    "c = 200\n",
    "d = a+b+c\n",
    "print(\"El valor es :\", d)"
   ]
  },
  {
   "cell_type": "code",
   "execution_count": 75,
   "id": "578eee86-0c42-4478-b111-4f951086da84",
   "metadata": {},
   "outputs": [],
   "source": [
    "import builtins"
   ]
  },
  {
   "cell_type": "code",
   "execution_count": 77,
   "id": "cabf71e9-e8f2-46cc-a910-8e21b897e99b",
   "metadata": {},
   "outputs": [
    {
     "name": "stdout",
     "output_type": "stream",
     "text": [
      "Help on built-in function print in module builtins:\n",
      "\n",
      "print(*args, sep=' ', end='\\n', file=None, flush=False)\n",
      "    Prints the values to a stream, or to sys.stdout by default.\n",
      "\n",
      "    sep\n",
      "      string inserted between values, default a space.\n",
      "    end\n",
      "      string appended after the last value, default a newline.\n",
      "    file\n",
      "      a file-like object (stream); defaults to the current sys.stdout.\n",
      "    flush\n",
      "      whether to forcibly flush the stream.\n",
      "\n"
     ]
    }
   ],
   "source": [
    "help (builtins.print)"
   ]
  },
  {
   "cell_type": "code",
   "execution_count": 79,
   "id": "fb2d4c59-1ba9-4bac-948c-a273a36a0556",
   "metadata": {},
   "outputs": [
    {
     "name": "stdout",
     "output_type": "stream",
     "text": [
      "Help on built-in function print in module builtins:\n",
      "\n",
      "print(*args, sep=' ', end='\\n', file=None, flush=False)\n",
      "    Prints the values to a stream, or to sys.stdout by default.\n",
      "\n",
      "    sep\n",
      "      string inserted between values, default a space.\n",
      "    end\n",
      "      string appended after the last value, default a newline.\n",
      "    file\n",
      "      a file-like object (stream); defaults to the current sys.stdout.\n",
      "    flush\n",
      "      whether to forcibly flush the stream.\n",
      "\n"
     ]
    }
   ],
   "source": [
    "help(print)"
   ]
  },
  {
   "cell_type": "code",
   "execution_count": 81,
   "id": "252a137f-6eeb-4c60-b9f0-1b1590ed3ab0",
   "metadata": {},
   "outputs": [
    {
     "data": {
      "text/plain": [
       "['ArithmeticError',\n",
       " 'AssertionError',\n",
       " 'AttributeError',\n",
       " 'BaseException',\n",
       " 'BaseExceptionGroup',\n",
       " 'BlockingIOError',\n",
       " 'BrokenPipeError',\n",
       " 'BufferError',\n",
       " 'BytesWarning',\n",
       " 'ChildProcessError',\n",
       " 'ConnectionAbortedError',\n",
       " 'ConnectionError',\n",
       " 'ConnectionRefusedError',\n",
       " 'ConnectionResetError',\n",
       " 'DeprecationWarning',\n",
       " 'EOFError',\n",
       " 'Ellipsis',\n",
       " 'EncodingWarning',\n",
       " 'EnvironmentError',\n",
       " 'Exception',\n",
       " 'ExceptionGroup',\n",
       " 'False',\n",
       " 'FileExistsError',\n",
       " 'FileNotFoundError',\n",
       " 'FloatingPointError',\n",
       " 'FutureWarning',\n",
       " 'GeneratorExit',\n",
       " 'IOError',\n",
       " 'ImportError',\n",
       " 'ImportWarning',\n",
       " 'IndentationError',\n",
       " 'IndexError',\n",
       " 'InterruptedError',\n",
       " 'IsADirectoryError',\n",
       " 'KeyError',\n",
       " 'KeyboardInterrupt',\n",
       " 'LookupError',\n",
       " 'MemoryError',\n",
       " 'ModuleNotFoundError',\n",
       " 'NameError',\n",
       " 'None',\n",
       " 'NotADirectoryError',\n",
       " 'NotImplemented',\n",
       " 'NotImplementedError',\n",
       " 'OSError',\n",
       " 'OverflowError',\n",
       " 'PendingDeprecationWarning',\n",
       " 'PermissionError',\n",
       " 'ProcessLookupError',\n",
       " 'RecursionError',\n",
       " 'ReferenceError',\n",
       " 'ResourceWarning',\n",
       " 'RuntimeError',\n",
       " 'RuntimeWarning',\n",
       " 'StopAsyncIteration',\n",
       " 'StopIteration',\n",
       " 'SyntaxError',\n",
       " 'SyntaxWarning',\n",
       " 'SystemError',\n",
       " 'SystemExit',\n",
       " 'TabError',\n",
       " 'TimeoutError',\n",
       " 'True',\n",
       " 'TypeError',\n",
       " 'UnboundLocalError',\n",
       " 'UnicodeDecodeError',\n",
       " 'UnicodeEncodeError',\n",
       " 'UnicodeError',\n",
       " 'UnicodeTranslateError',\n",
       " 'UnicodeWarning',\n",
       " 'UserWarning',\n",
       " 'ValueError',\n",
       " 'Warning',\n",
       " 'WindowsError',\n",
       " 'ZeroDivisionError',\n",
       " '__IPYTHON__',\n",
       " '__build_class__',\n",
       " '__debug__',\n",
       " '__doc__',\n",
       " '__import__',\n",
       " '__loader__',\n",
       " '__name__',\n",
       " '__package__',\n",
       " '__spec__',\n",
       " 'abs',\n",
       " 'aiter',\n",
       " 'all',\n",
       " 'anext',\n",
       " 'any',\n",
       " 'ascii',\n",
       " 'bin',\n",
       " 'bool',\n",
       " 'breakpoint',\n",
       " 'bytearray',\n",
       " 'bytes',\n",
       " 'callable',\n",
       " 'chr',\n",
       " 'classmethod',\n",
       " 'compile',\n",
       " 'complex',\n",
       " 'copyright',\n",
       " 'credits',\n",
       " 'delattr',\n",
       " 'dict',\n",
       " 'dir',\n",
       " 'display',\n",
       " 'divmod',\n",
       " 'enumerate',\n",
       " 'eval',\n",
       " 'exec',\n",
       " 'execfile',\n",
       " 'filter',\n",
       " 'float',\n",
       " 'format',\n",
       " 'frozenset',\n",
       " 'get_ipython',\n",
       " 'getattr',\n",
       " 'globals',\n",
       " 'hasattr',\n",
       " 'hash',\n",
       " 'help',\n",
       " 'hex',\n",
       " 'id',\n",
       " 'input',\n",
       " 'int',\n",
       " 'isinstance',\n",
       " 'issubclass',\n",
       " 'iter',\n",
       " 'len',\n",
       " 'license',\n",
       " 'list',\n",
       " 'locals',\n",
       " 'map',\n",
       " 'max',\n",
       " 'memoryview',\n",
       " 'min',\n",
       " 'next',\n",
       " 'object',\n",
       " 'oct',\n",
       " 'open',\n",
       " 'ord',\n",
       " 'pow',\n",
       " 'print',\n",
       " 'property',\n",
       " 'range',\n",
       " 'repr',\n",
       " 'reversed',\n",
       " 'round',\n",
       " 'runfile',\n",
       " 'set',\n",
       " 'setattr',\n",
       " 'slice',\n",
       " 'sorted',\n",
       " 'staticmethod',\n",
       " 'str',\n",
       " 'sum',\n",
       " 'super',\n",
       " 'tuple',\n",
       " 'type',\n",
       " 'vars',\n",
       " 'zip']"
      ]
     },
     "execution_count": 81,
     "metadata": {},
     "output_type": "execute_result"
    }
   ],
   "source": [
    "dir(builtins)"
   ]
  },
  {
   "cell_type": "markdown",
   "id": "1cae736a-ae16-4032-99a7-64de47eb9210",
   "metadata": {},
   "source": [
    "## Fubción Type"
   ]
  },
  {
   "cell_type": "code",
   "execution_count": 84,
   "id": "ee889c2f-1c62-4d4d-b780-5bfc99dc12bc",
   "metadata": {},
   "outputs": [
    {
     "name": "stdout",
     "output_type": "stream",
     "text": [
      "570\n"
     ]
    }
   ],
   "source": [
    "my_number = 570\n",
    "print(my_number)"
   ]
  },
  {
   "cell_type": "code",
   "execution_count": 86,
   "id": "f82dd721-1c40-4b82-9138-3d4db118391b",
   "metadata": {},
   "outputs": [
    {
     "name": "stdout",
     "output_type": "stream",
     "text": [
      "570\n",
      "<class 'int'>\n"
     ]
    }
   ],
   "source": [
    "my_number = 570\n",
    "print(my_number)\n",
    "print(type(my_number))"
   ]
  },
  {
   "cell_type": "code",
   "execution_count": 92,
   "id": "6f4e9136-76c1-4b50-beea-6e5f5cc6f953",
   "metadata": {},
   "outputs": [
    {
     "name": "stdout",
     "output_type": "stream",
     "text": [
      "570\n",
      "<class 'int'>\n"
     ]
    }
   ],
   "source": [
    "my_string = \"Hola mundo\"\n",
    "print(my_number)\n",
    "print(type(my_number))"
   ]
  },
  {
   "cell_type": "code",
   "execution_count": 94,
   "id": "a022288c-a8f6-40c1-92d4-36feeffee3ba",
   "metadata": {},
   "outputs": [
    {
     "name": "stdout",
     "output_type": "stream",
     "text": [
      "570.56\n",
      "<class 'float'>\n"
     ]
    }
   ],
   "source": [
    "my_number = 570.56\n",
    "print(my_number)\n",
    "print(type(my_number))"
   ]
  },
  {
   "cell_type": "code",
   "execution_count": 96,
   "id": "ade3c0b9-3eaf-4836-a31a-946c059a0965",
   "metadata": {},
   "outputs": [
    {
     "name": "stdout",
     "output_type": "stream",
     "text": [
      "True\n",
      "<class 'bool'>\n"
     ]
    }
   ],
   "source": [
    "my_boolean = True\n",
    "print(my_boolean)\n",
    "print(type(my_boolean))"
   ]
  },
  {
   "cell_type": "code",
   "execution_count": 98,
   "id": "04fddb60-1c08-4e78-a37e-19e5cfc90fc7",
   "metadata": {},
   "outputs": [
    {
     "name": "stdout",
     "output_type": "stream",
     "text": [
      "True\n",
      "<class 'str'>\n"
     ]
    }
   ],
   "source": [
    "my_boolean = \"True\"\n",
    "print(my_boolean)\n",
    "print(type(my_boolean))"
   ]
  },
  {
   "cell_type": "code",
   "execution_count": 102,
   "id": "efabe95c-8459-41c0-8040-b865b95cea0e",
   "metadata": {},
   "outputs": [
    {
     "name": "stdout",
     "output_type": "stream",
     "text": [
      "[1, 2, 3, 4]\n",
      "<class 'list'>\n"
     ]
    }
   ],
   "source": [
    "# listas\n",
    "my_list = [1,2,3,4,]\n",
    "print (my_list)\n",
    "print (type(my_list))"
   ]
  },
  {
   "cell_type": "markdown",
   "id": "957d737f-11f0-41fe-ad52-26359a1123ed",
   "metadata": {},
   "source": [
    "## Función ID"
   ]
  },
  {
   "cell_type": "code",
   "execution_count": 105,
   "id": "bb1e5ca8-713a-4ea0-8af9-59ee08ed885b",
   "metadata": {},
   "outputs": [
    {
     "name": "stdout",
     "output_type": "stream",
     "text": [
      "python\n",
      "<class 'str'>\n",
      "2403673226432\n"
     ]
    }
   ],
   "source": [
    "# cadena \n",
    "my_string = \"python\"\n",
    "print(my_string)\n",
    "print(type(my_string))\n",
    "print(id(my_string))"
   ]
  },
  {
   "cell_type": "code",
   "execution_count": null,
   "id": "255037dd-2013-4b37-aabb-27deb06f744a",
   "metadata": {},
   "outputs": [],
   "source": []
  }
 ],
 "metadata": {
  "kernelspec": {
   "display_name": "Python 3 (ipykernel)",
   "language": "python",
   "name": "python3"
  },
  "language_info": {
   "codemirror_mode": {
    "name": "ipython",
    "version": 3
   },
   "file_extension": ".py",
   "mimetype": "text/x-python",
   "name": "python",
   "nbconvert_exporter": "python",
   "pygments_lexer": "ipython3",
   "version": "3.12.4"
  }
 },
 "nbformat": 4,
 "nbformat_minor": 5
}
