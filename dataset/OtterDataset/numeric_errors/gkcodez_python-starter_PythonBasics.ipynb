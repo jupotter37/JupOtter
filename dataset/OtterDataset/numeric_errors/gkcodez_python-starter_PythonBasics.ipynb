{
 "cells": [
  {
   "cell_type": "markdown",
   "metadata": {},
   "source": [
    "# Python Basics"
   ]
  },
  {
   "cell_type": "markdown",
   "metadata": {},
   "source": [
    "## Imports"
   ]
  },
  {
   "cell_type": "code",
   "execution_count": 13,
   "metadata": {},
   "outputs": [],
   "source": [
    "import sys\n",
    "import keyword\n",
    "import operator\n",
    "from datetime import datetime\n",
    "import os"
   ]
  },
  {
   "cell_type": "markdown",
   "metadata": {},
   "source": [
    "## Keywords"
   ]
  },
  {
   "cell_type": "markdown",
   "metadata": {},
   "source": [
    "Keywords are reserved words in python and cannot be used as identifiers\n"
   ]
  },
  {
   "cell_type": "code",
   "execution_count": 14,
   "metadata": {},
   "outputs": [
    {
     "name": "stdout",
     "output_type": "stream",
     "text": [
      "['False', 'None', 'True', 'and', 'as', 'assert', 'async', 'await', 'break', 'class', 'continue', 'def', 'del', 'elif', 'else', 'except', 'finally', 'for', 'from', 'global', 'if', 'import', 'in', 'is', 'lambda', 'nonlocal', 'not', 'or', 'pass', 'raise', 'return', 'try', 'while', 'with', 'yield']\n"
     ]
    },
    {
     "data": {
      "text/plain": [
       "35"
      ]
     },
     "execution_count": 14,
     "metadata": {},
     "output_type": "execute_result"
    }
   ],
   "source": [
    "print(keyword.kwlist)\n",
    "len(keyword.kwlist) # Python contains 36 keywords"
   ]
  },
  {
   "cell_type": "markdown",
   "metadata": {},
   "source": [
    "## Identifiers"
   ]
  },
  {
   "cell_type": "markdown",
   "metadata": {},
   "source": [
    "An identifier is a name given to entities like class, functions, variables, etc. It helps to differentiate one entity from another."
   ]
  },
  {
   "cell_type": "code",
   "execution_count": 15,
   "metadata": {},
   "outputs": [
    {
     "ename": "SyntaxError",
     "evalue": "invalid decimal literal (2183624609.py, line 1)",
     "output_type": "error",
     "traceback": [
      "\u001b[1;36m  Input \u001b[1;32mIn [15]\u001b[1;36m\u001b[0m\n\u001b[1;33m    1var = 10 # Identifier cannot start with a digit\u001b[0m\n\u001b[1;37m    ^\u001b[0m\n\u001b[1;31mSyntaxError\u001b[0m\u001b[1;31m:\u001b[0m invalid decimal literal\n"
     ]
    }
   ],
   "source": [
    "1var = 10 # Identifier cannot start with a digit"
   ]
  },
  {
   "cell_type": "code",
   "execution_count": 16,
   "metadata": {},
   "outputs": [
    {
     "ename": "SyntaxError",
     "evalue": "invalid syntax (3271491916.py, line 1)",
     "output_type": "error",
     "traceback": [
      "\u001b[1;36m  Input \u001b[1;32mIn [16]\u001b[1;36m\u001b[0m\n\u001b[1;33m    var2@ = 10 # Identifier cannot use special symbols\u001b[0m\n\u001b[1;37m          ^\u001b[0m\n\u001b[1;31mSyntaxError\u001b[0m\u001b[1;31m:\u001b[0m invalid syntax\n"
     ]
    }
   ],
   "source": [
    "var2@ = 10 # Identifier cannot use special symbols"
   ]
  },
  {
   "cell_type": "code",
   "execution_count": 17,
   "metadata": {},
   "outputs": [
    {
     "ename": "SyntaxError",
     "evalue": "invalid syntax (1687524801.py, line 1)",
     "output_type": "error",
     "traceback": [
      "\u001b[1;36m  Input \u001b[1;32mIn [17]\u001b[1;36m\u001b[0m\n\u001b[1;33m    import = 10 # Keywords cannot be used as identifiers\u001b[0m\n\u001b[1;37m           ^\u001b[0m\n\u001b[1;31mSyntaxError\u001b[0m\u001b[1;31m:\u001b[0m invalid syntax\n"
     ]
    }
   ],
   "source": [
    "import = 10 # Keywords cannot be used as identifiers"
   ]
  },
  {
   "cell_type": "markdown",
   "metadata": {},
   "source": [
    "An identifier can be a combination of letters, numbers and underscore."
   ]
  },
  {
   "cell_type": "code",
   "execution_count": 18,
   "metadata": {},
   "outputs": [],
   "source": [
    "# Some valid identifiers\n",
    "var = 10\n",
    "var2 = 20\n",
    "var_ = 30"
   ]
  },
  {
   "cell_type": "markdown",
   "metadata": {},
   "source": [
    "## Comments"
   ]
  },
  {
   "cell_type": "markdown",
   "metadata": {},
   "source": [
    "Comments can be used to explain the code for more readability"
   ]
  },
  {
   "cell_type": "code",
   "execution_count": 19,
   "metadata": {},
   "outputs": [
    {
     "data": {
      "text/plain": [
       "'\\nMultiple\\nline\\ncomment\\n'"
      ]
     },
     "execution_count": 19,
     "metadata": {},
     "output_type": "execute_result"
    }
   ],
   "source": [
    "# Single line comment\n",
    "\n",
    "'''\n",
    "Multiple\n",
    "line\n",
    "comment\n",
    "'''\n",
    "\n",
    "\"\"\"\n",
    "Multiple\n",
    "line\n",
    "comment\n",
    "\"\"\""
   ]
  },
  {
   "cell_type": "markdown",
   "metadata": {},
   "source": [
    "## Statements"
   ]
  },
  {
   "cell_type": "code",
   "execution_count": 20,
   "metadata": {},
   "outputs": [
    {
     "data": {
      "text/plain": [
       "30"
      ]
     },
     "execution_count": 20,
     "metadata": {},
     "output_type": "execute_result"
    }
   ],
   "source": [
    "sum1 = 10 + 20\n",
    "sum1"
   ]
  },
  {
   "cell_type": "code",
   "execution_count": 21,
   "metadata": {},
   "outputs": [
    {
     "data": {
      "text/plain": [
       "['one', 'two', 'three', 'four']"
      ]
     },
     "execution_count": 21,
     "metadata": {},
     "output_type": "execute_result"
    }
   ],
   "source": [
    "plist = ['one', 'two', 'three', 'four']\n",
    "plist"
   ]
  },
  {
   "cell_type": "code",
   "execution_count": 22,
   "metadata": {},
   "outputs": [
    {
     "data": {
      "text/plain": [
       "100"
      ]
     },
     "execution_count": 22,
     "metadata": {},
     "output_type": "execute_result"
    }
   ],
   "source": [
    "add = 10 \\\n",
    "    + 20 \\\n",
    "    + 30 \\\n",
    "    + 40\n",
    "add\n",
    "        "
   ]
  },
  {
   "cell_type": "markdown",
   "metadata": {},
   "source": [
    "## Indentation"
   ]
  },
  {
   "cell_type": "markdown",
   "metadata": {},
   "source": [
    "Indentation is important in python as it indicates the block of code."
   ]
  },
  {
   "cell_type": "code",
   "execution_count": 23,
   "metadata": {},
   "outputs": [
    {
     "name": "stdout",
     "output_type": "stream",
     "text": [
      "A is equal to 10\n"
     ]
    }
   ],
   "source": [
    "a = 10\n",
    "if a == 10:\n",
    "    print ('A is equal to 10') # Correct indentation"
   ]
  },
  {
   "cell_type": "code",
   "execution_count": 24,
   "metadata": {},
   "outputs": [
    {
     "ename": "IndentationError",
     "evalue": "expected an indented block after 'if' statement on line 2 (1932055555.py, line 3)",
     "output_type": "error",
     "traceback": [
      "\u001b[1;36m  Input \u001b[1;32mIn [24]\u001b[1;36m\u001b[0m\n\u001b[1;33m    print (\"A is equal to 10\") #IndentationError expected an indented block\u001b[0m\n\u001b[1;37m    ^\u001b[0m\n\u001b[1;31mIndentationError\u001b[0m\u001b[1;31m:\u001b[0m expected an indented block after 'if' statement on line 2\n"
     ]
    }
   ],
   "source": [
    "a = 10\n",
    "if a == 10:\n",
    "print (\"A is equal to 10\") #IndentationError expected an indented block"
   ]
  },
  {
   "cell_type": "code",
   "execution_count": 25,
   "metadata": {},
   "outputs": [
    {
     "name": "stdout",
     "output_type": "stream",
     "text": [
      "0\n",
      "1\n",
      "2\n",
      "3\n",
      "4\n",
      "5\n",
      "6\n",
      "7\n",
      "8\n",
      "9\n"
     ]
    }
   ],
   "source": [
    "for i in range(10):\n",
    "    print(i) # Correct indentation"
   ]
  },
  {
   "cell_type": "code",
   "execution_count": 26,
   "metadata": {},
   "outputs": [
    {
     "ename": "IndentationError",
     "evalue": "expected an indented block after 'for' statement on line 1 (705952513.py, line 2)",
     "output_type": "error",
     "traceback": [
      "\u001b[1;36m  Input \u001b[1;32mIn [26]\u001b[1;36m\u001b[0m\n\u001b[1;33m    print(i) # IndentationError expected an indented block\u001b[0m\n\u001b[1;37m    ^\u001b[0m\n\u001b[1;31mIndentationError\u001b[0m\u001b[1;31m:\u001b[0m expected an indented block after 'for' statement on line 1\n"
     ]
    }
   ],
   "source": [
    "for i in range(10):\n",
    "print(i) # IndentationError expected an indented block"
   ]
  },
  {
   "cell_type": "markdown",
   "metadata": {},
   "source": [
    "## Docstrings"
   ]
  },
  {
   "cell_type": "markdown",
   "metadata": {},
   "source": [
    "Docstrings provide a convenient way of associating documentation to functions, class or module </br>\n",
    "It appears right after the function definition"
   ]
  },
  {
   "cell_type": "code",
   "execution_count": 27,
   "metadata": {},
   "outputs": [
    {
     "data": {
      "text/plain": [
       "36"
      ]
     },
     "execution_count": 27,
     "metadata": {},
     "output_type": "execute_result"
    }
   ],
   "source": [
    "def square(num):\n",
    "    '''Returns the square of the given number.'''\n",
    "    return num * num\n",
    "\n",
    "square(6)"
   ]
  },
  {
   "cell_type": "code",
   "execution_count": 28,
   "metadata": {},
   "outputs": [
    {
     "data": {
      "text/plain": [
       "'Returns the square of the given number.'"
      ]
     },
     "execution_count": 28,
     "metadata": {},
     "output_type": "execute_result"
    }
   ],
   "source": [
    "square.__doc__ # Documention of the function can be accessed with __doc__"
   ]
  },
  {
   "cell_type": "code",
   "execution_count": 29,
   "metadata": {},
   "outputs": [
    {
     "name": "stdout",
     "output_type": "stream",
     "text": [
      "Finds if the given number is add or even.\n",
      "3 is odd number\n",
      "6 is even number\n"
     ]
    }
   ],
   "source": [
    "def evenorodd(num):\n",
    "    '''Finds if the given number is add or even.'''\n",
    "    if num % 2 == 0:\n",
    "        print(str(num) + ' is even number')\n",
    "    else:\n",
    "        print(str(num) + ' is odd number')\n",
    "\n",
    "print(evenorodd.__doc__)\n",
    "\n",
    "evenorodd(3)\n",
    "evenorodd(6)"
   ]
  },
  {
   "cell_type": "markdown",
   "metadata": {},
   "source": [
    "## Variables"
   ]
  },
  {
   "cell_type": "markdown",
   "metadata": {},
   "source": [
    "A Python variable is a reserved memory location to store values. A variable is created at the moment you assign a value to it."
   ]
  },
  {
   "cell_type": "code",
   "execution_count": 30,
   "metadata": {},
   "outputs": [
    {
     "name": "stdout",
     "output_type": "stream",
     "text": [
      "10\n",
      "1598153556496\n",
      "0x17419600210\n"
     ]
    }
   ],
   "source": [
    "a = 10\n",
    "print(a)\n",
    "print(id(a)) # ID is always an integer, unique and constant during its lifetime.\n",
    "print(hex(id(a))) # Memory address of the variable"
   ]
  },
  {
   "cell_type": "code",
   "execution_count": 31,
   "metadata": {},
   "outputs": [
    {
     "name": "stdout",
     "output_type": "stream",
     "text": [
      "10 <class 'int'> 1598153556496 0x17419600210\n",
      "10 <class 'int'> 1598153556496 0x17419600210\n",
      "10 <class 'int'> 1598153556496 0x17419600210\n"
     ]
    }
   ],
   "source": [
    "p = 10\n",
    "q = 10\n",
    "r = q\n",
    "print(p, type(p), id(p), hex(id(p)))\n",
    "print(q, type(q), id(q), hex(id(q)))\n",
    "print(r, type(r), id(r), hex(id(r)))"
   ]
  },
  {
   "cell_type": "code",
   "execution_count": 32,
   "metadata": {},
   "outputs": [
    {
     "data": {
      "text/plain": [
       "20"
      ]
     },
     "execution_count": 32,
     "metadata": {},
     "output_type": "execute_result"
    }
   ],
   "source": [
    "p = p + 10 # Variable overwriting\n",
    "p"
   ]
  },
  {
   "cell_type": "code",
   "execution_count": 33,
   "metadata": {},
   "outputs": [
    {
     "name": "stdout",
     "output_type": "stream",
     "text": [
      "10\n",
      "10.5\n",
      "String variable\n"
     ]
    }
   ],
   "source": [
    "intvar = 10\n",
    "floatvar = 10.5\n",
    "stringvar = 'String variable'\n",
    "\n",
    "print(intvar)\n",
    "print(floatvar)\n",
    "print(stringvar)\n"
   ]
  },
  {
   "cell_type": "code",
   "execution_count": 34,
   "metadata": {},
   "outputs": [
    {
     "name": "stdout",
     "output_type": "stream",
     "text": [
      "10\n",
      "10.5\n",
      "String variable\n"
     ]
    }
   ],
   "source": [
    "intvar, floatvar, stringvar = 10, 10.5, 'String variable'\n",
    "\n",
    "print(intvar)\n",
    "print(floatvar)\n",
    "print(stringvar)\n"
   ]
  },
  {
   "cell_type": "code",
   "execution_count": 35,
   "metadata": {},
   "outputs": [
    {
     "name": "stdout",
     "output_type": "stream",
     "text": [
      "10 10 10 10\n"
     ]
    }
   ],
   "source": [
    "a = b = c = d = 10\n",
    "print(a, b, c, d)"
   ]
  },
  {
   "cell_type": "markdown",
   "metadata": {},
   "source": [
    "## Datatypes"
   ]
  },
  {
   "cell_type": "markdown",
   "metadata": {},
   "source": [
    "### Numeric"
   ]
  },
  {
   "cell_type": "code",
   "execution_count": 36,
   "metadata": {},
   "outputs": [
    {
     "name": "stdout",
     "output_type": "stream",
     "text": [
      "10\n",
      "<class 'int'>\n",
      "28\n",
      "10 Is Integer? True\n"
     ]
    }
   ],
   "source": [
    "val1 = 10 # Integer data type\n",
    "print(val1)\n",
    "print(type(val1))\n",
    "print(sys.getsizeof(val1))\n",
    "print(val1, 'Is Integer?', isinstance(val1, int))"
   ]
  },
  {
   "cell_type": "code",
   "execution_count": 37,
   "metadata": {},
   "outputs": [
    {
     "name": "stdout",
     "output_type": "stream",
     "text": [
      "10.5\n",
      "<class 'float'>\n",
      "24\n",
      "10.5 Is Float? True\n"
     ]
    }
   ],
   "source": [
    "val1 = 10.5 # Float data type\n",
    "print(val1)\n",
    "print(type(val1))\n",
    "print(sys.getsizeof(val1))\n",
    "print(val1, 'Is Float?', isinstance(val1, float))"
   ]
  },
  {
   "cell_type": "code",
   "execution_count": 38,
   "metadata": {},
   "outputs": [
    {
     "name": "stdout",
     "output_type": "stream",
     "text": [
      "10j\n",
      "<class 'complex'>\n",
      "32\n",
      "10j Is Complex? True\n"
     ]
    }
   ],
   "source": [
    "val1 = 10j # Complex data type\n",
    "print(val1)\n",
    "print(type(val1))\n",
    "print(sys.getsizeof(val1))\n",
    "print(val1, 'Is Complex?', isinstance(val1, complex))"
   ]
  },
  {
   "cell_type": "code",
   "execution_count": 39,
   "metadata": {},
   "outputs": [
    {
     "name": "stdout",
     "output_type": "stream",
     "text": [
      "24\n",
      "24\n",
      "32\n"
     ]
    }
   ],
   "source": [
    "print(sys.getsizeof(int()))\n",
    "print(sys.getsizeof(float()))\n",
    "print(sys.getsizeof(complex()))"
   ]
  },
  {
   "cell_type": "markdown",
   "metadata": {},
   "source": [
    "### Boolean"
   ]
  },
  {
   "cell_type": "markdown",
   "metadata": {},
   "source": [
    "Boolean can have only two values. Either true or false."
   ]
  },
  {
   "cell_type": "code",
   "execution_count": 40,
   "metadata": {},
   "outputs": [
    {
     "name": "stdout",
     "output_type": "stream",
     "text": [
      "True False\n"
     ]
    }
   ],
   "source": [
    "bool1 = True\n",
    "bool2 = False\n",
    "\n",
    "print(bool1, bool2)"
   ]
  },
  {
   "cell_type": "code",
   "execution_count": 41,
   "metadata": {},
   "outputs": [
    {
     "name": "stdout",
     "output_type": "stream",
     "text": [
      "False\n",
      "False\n",
      "False\n",
      "False\n",
      "True\n",
      "True\n",
      "True\n"
     ]
    }
   ],
   "source": [
    "print(bool(0))\n",
    "print(bool(None))\n",
    "print(bool(False))\n",
    "print(bool(''))\n",
    "print(bool(1))\n",
    "print(bool(True))\n",
    "print(bool('Hello'))"
   ]
  },
  {
   "cell_type": "markdown",
   "metadata": {},
   "source": [
    "### Strings"
   ]
  },
  {
   "cell_type": "markdown",
   "metadata": {},
   "source": [
    "#### String Creation"
   ]
  },
  {
   "cell_type": "code",
   "execution_count": 42,
   "metadata": {},
   "outputs": [
    {
     "name": "stdout",
     "output_type": "stream",
     "text": [
      "Hello Python\n",
      "Hello Python\n",
      "Hello\n",
      "Python\n",
      "Hello\n",
      "Python\n",
      "('Happy', 'Weekend', 'Everyone')\n"
     ]
    }
   ],
   "source": [
    "str1 = 'Hello Python' # Using single quotes\n",
    "str2 = \"Hello Python\" # Using double quotes\n",
    "str3 = '''Hello\n",
    "Python''' # Using triple single quotes\n",
    "str4 = \"\"\"Hello\n",
    "Python\"\"\" # Using triple double quotes\n",
    "str5 =('Happy',\n",
    "       'Weekend',\n",
    "       'Everyone')\n",
    "print(str1)\n",
    "print(str2)\n",
    "print(str3)\n",
    "print(str4)\n",
    "print(str5)"
   ]
  },
  {
   "cell_type": "code",
   "execution_count": 43,
   "metadata": {},
   "outputs": [
    {
     "name": "stdout",
     "output_type": "stream",
     "text": [
      "Woohoo \n",
      "7\n",
      "Woohoo Woohoo Woohoo Woohoo Woohoo \n",
      "35\n"
     ]
    }
   ],
   "source": [
    "mystr = 'Woohoo '\n",
    "print(mystr)\n",
    "print(len(mystr))\n",
    "mystr = mystr * 5\n",
    "print(mystr)\n",
    "print(len(mystr))"
   ]
  },
  {
   "cell_type": "markdown",
   "metadata": {},
   "source": [
    "#### String Indexing"
   ]
  },
  {
   "cell_type": "code",
   "execution_count": 44,
   "metadata": {},
   "outputs": [
    {
     "name": "stdout",
     "output_type": "stream",
     "text": [
      "H\n",
      "n\n",
      "n\n",
      "P\n"
     ]
    }
   ],
   "source": [
    "str1 = 'Hello Python'\n",
    "print(str1[0]) # Print first character\n",
    "print(str1[len(str1) - 1]) # Print last character\n",
    "print(str1[-1]) # Print last character\n",
    "print(str1[6]) # Print 7th character"
   ]
  },
  {
   "cell_type": "markdown",
   "metadata": {},
   "source": [
    "#### String Slicing"
   ]
  },
  {
   "cell_type": "code",
   "execution_count": 45,
   "metadata": {},
   "outputs": [
    {
     "name": "stdout",
     "output_type": "stream",
     "text": [
      "Hello\n",
      "Python\n",
      "thon\n",
      "Python\n",
      "Hell\n",
      "Hello \n"
     ]
    }
   ],
   "source": [
    "str1 = 'Hello Python'\n",
    "print(str1[0:5]) # Fetch from index 0 to index 4\n",
    "print(str1[6:12]) # Fetch from index 6 to index 11\n",
    "print(str1[-4:]) # Fetch last 4 characters\n",
    "print(str1[-6:]) # Fetch last 4 characters\n",
    "print(str1[:4]) # Fetch first 4 characters\n",
    "print(str1[:6]) # Fetch first 6 characters"
   ]
  },
  {
   "cell_type": "markdown",
   "metadata": {},
   "source": [
    "#### Update & Delete String"
   ]
  },
  {
   "cell_type": "markdown",
   "metadata": {},
   "source": [
    "Strings are immutable and the value cannot be changed once it is assigned"
   ]
  },
  {
   "cell_type": "code",
   "execution_count": 46,
   "metadata": {},
   "outputs": [
    {
     "ename": "TypeError",
     "evalue": "'str' object does not support item assignment",
     "output_type": "error",
     "traceback": [
      "\u001b[1;31m---------------------------------------------------------------------------\u001b[0m",
      "\u001b[1;31mTypeError\u001b[0m                                 Traceback (most recent call last)",
      "\u001b[1;32md:\\Projects\\Python\\python-starter\\PythonBasics.ipynb Cell 60'\u001b[0m in \u001b[0;36m<cell line: 2>\u001b[1;34m()\u001b[0m\n\u001b[0;32m      <a href='vscode-notebook-cell:/d%3A/Projects/Python/python-starter/PythonBasics.ipynb#ch0000059?line=0'>1</a>\u001b[0m str1 \u001b[39m=\u001b[39m \u001b[39m'\u001b[39m\u001b[39mHello Python\u001b[39m\u001b[39m'\u001b[39m\n\u001b[1;32m----> <a href='vscode-notebook-cell:/d%3A/Projects/Python/python-starter/PythonBasics.ipynb#ch0000059?line=1'>2</a>\u001b[0m str1[\u001b[39m0\u001b[39m:\u001b[39m5\u001b[39m] \u001b[39m=\u001b[39m \u001b[39m'\u001b[39m\u001b[39mHolaa\u001b[39m\u001b[39m'\u001b[39m\n",
      "\u001b[1;31mTypeError\u001b[0m: 'str' object does not support item assignment"
     ]
    }
   ],
   "source": [
    "str1 = 'Hello Python'\n",
    "str1[0:5] = 'Holaa'"
   ]
  },
  {
   "cell_type": "code",
   "execution_count": 47,
   "metadata": {},
   "outputs": [
    {
     "ename": "NameError",
     "evalue": "name 'str1' is not defined",
     "output_type": "error",
     "traceback": [
      "\u001b[1;31m---------------------------------------------------------------------------\u001b[0m",
      "\u001b[1;31mNameError\u001b[0m                                 Traceback (most recent call last)",
      "\u001b[1;32md:\\Projects\\Python\\python-starter\\PythonBasics.ipynb Cell 61'\u001b[0m in \u001b[0;36m<cell line: 2>\u001b[1;34m()\u001b[0m\n\u001b[0;32m      <a href='vscode-notebook-cell:/d%3A/Projects/Python/python-starter/PythonBasics.ipynb#ch0000060?line=0'>1</a>\u001b[0m \u001b[39mdel\u001b[39;00m(str1) \u001b[39m# Delete a string\u001b[39;00m\n\u001b[1;32m----> <a href='vscode-notebook-cell:/d%3A/Projects/Python/python-starter/PythonBasics.ipynb#ch0000060?line=1'>2</a>\u001b[0m str1\n",
      "\u001b[1;31mNameError\u001b[0m: name 'str1' is not defined"
     ]
    }
   ],
   "source": [
    "del(str1) # Delete a string\n",
    "str1"
   ]
  },
  {
   "cell_type": "markdown",
   "metadata": {},
   "source": [
    "#### String Concatenation"
   ]
  },
  {
   "cell_type": "code",
   "execution_count": 48,
   "metadata": {},
   "outputs": [
    {
     "name": "stdout",
     "output_type": "stream",
     "text": [
      "Hello Python\n"
     ]
    }
   ],
   "source": [
    "s1 = 'Hello'\n",
    "s2 = 'Python'\n",
    "s3 = s1 + \" \" + s2\n",
    "print(s3)"
   ]
  },
  {
   "cell_type": "markdown",
   "metadata": {},
   "source": [
    "#### Iterating through a string"
   ]
  },
  {
   "cell_type": "code",
   "execution_count": 49,
   "metadata": {},
   "outputs": [
    {
     "name": "stdout",
     "output_type": "stream",
     "text": [
      "H\n",
      "e\n",
      "l\n",
      "l\n",
      "o\n",
      " \n",
      "P\n",
      "y\n",
      "t\n",
      "h\n",
      "o\n",
      "n\n"
     ]
    }
   ],
   "source": [
    "str1 = 'Hello Python'\n",
    "for i in str1:\n",
    "    print(i)"
   ]
  },
  {
   "cell_type": "code",
   "execution_count": 50,
   "metadata": {},
   "outputs": [
    {
     "name": "stdout",
     "output_type": "stream",
     "text": [
      "(0, 'H')\n",
      "(1, 'e')\n",
      "(2, 'l')\n",
      "(3, 'l')\n",
      "(4, 'o')\n",
      "(5, ' ')\n",
      "(6, 'P')\n",
      "(7, 'y')\n",
      "(8, 't')\n",
      "(9, 'h')\n",
      "(10, 'o')\n",
      "(11, 'n')\n"
     ]
    }
   ],
   "source": [
    "for i in enumerate(str1): # Enumerate method adds a counter to an iterable.\n",
    "    print(i)"
   ]
  },
  {
   "cell_type": "code",
   "execution_count": 51,
   "metadata": {},
   "outputs": [
    {
     "data": {
      "text/plain": [
       "[(0, 'H'),\n",
       " (1, 'e'),\n",
       " (2, 'l'),\n",
       " (3, 'l'),\n",
       " (4, 'o'),\n",
       " (5, ' '),\n",
       " (6, 'P'),\n",
       " (7, 'y'),\n",
       " (8, 't'),\n",
       " (9, 'h'),\n",
       " (10, 'o'),\n",
       " (11, 'n')]"
      ]
     },
     "execution_count": 51,
     "metadata": {},
     "output_type": "execute_result"
    }
   ],
   "source": [
    "list(enumerate(str1))"
   ]
  },
  {
   "cell_type": "markdown",
   "metadata": {},
   "source": [
    "#### String Membership"
   ]
  },
  {
   "cell_type": "code",
   "execution_count": 52,
   "metadata": {},
   "outputs": [
    {
     "name": "stdout",
     "output_type": "stream",
     "text": [
      "True\n",
      "True\n",
      "True\n",
      "False\n",
      "False\n"
     ]
    }
   ],
   "source": [
    "str1 = 'Hello Python'\n",
    "print('o' in str1)\n",
    "print('el' in str1) # Multiple characters\n",
    "print('h' in str1) # Case insensitive\n",
    "print('i' in str1)\n",
    "print('pt' in str1) # Order is important"
   ]
  },
  {
   "cell_type": "markdown",
   "metadata": {},
   "source": [
    "#### String Partitioning"
   ]
  },
  {
   "cell_type": "markdown",
   "metadata": {},
   "source": [
    "Partioning searches a specific string and splits the string multiple partitions\n",
    "\n",
    "1) First part is the string before the argument string\n",
    "2) Second part is the argument string\n",
    "3) Third part is the string after the argument string"
   ]
  },
  {
   "cell_type": "code",
   "execution_count": 53,
   "metadata": {},
   "outputs": [
    {
     "name": "stdout",
     "output_type": "stream",
     "text": [
      "('Natural language processing with Python ', 'and', ' R and Java')\n",
      "('Natural language processing with Python and R ', 'and', ' Java')\n"
     ]
    }
   ],
   "source": [
    "str1 = 'Natural language processing with Python and R and Java'\n",
    "str2 = str1.partition('and') # Partition from the left side\n",
    "print(str2)\n",
    "str3 = str1.rpartition('and') # Partition from the right side\n",
    "print(str3)"
   ]
  },
  {
   "cell_type": "markdown",
   "metadata": {},
   "source": [
    "#### String Functions"
   ]
  },
  {
   "cell_type": "markdown",
   "metadata": {},
   "source": [
    "##### Strip"
   ]
  },
  {
   "cell_type": "code",
   "execution_count": 54,
   "metadata": {},
   "outputs": [
    {
     "name": "stdout",
     "output_type": "stream",
     "text": [
      "     Hello Python         \n",
      "Hello Python\n",
      "Hello Python         \n",
      "     Hello Python\n",
      " Hello Python *************** All the Best \n",
      " Hello Python *************** All the Best ***************\n",
      "*************** Hello Python *************** All the Best \n"
     ]
    }
   ],
   "source": [
    "str2 = '     Hello Python         '\n",
    "print(str2)\n",
    "print(str2.strip()) # Removes the extra spaces on both sides \n",
    "print(str2.lstrip()) # Removes the extra spaces on the left side\n",
    "print(str2.rstrip()) # Removes the extra spaces on the right side\n",
    "str3 = '*************** Hello Python *************** All the Best ***************'\n",
    "print(str3.strip('*'))\n",
    "print(str3.lstrip('*'))\n",
    "print(str3.rstrip('*'))\n"
   ]
  },
  {
   "cell_type": "markdown",
   "metadata": {},
   "source": [
    "##### Lower and Upper"
   ]
  },
  {
   "cell_type": "code",
   "execution_count": 55,
   "metadata": {},
   "outputs": [
    {
     "name": "stdout",
     "output_type": "stream",
     "text": [
      "hello python\n",
      "HELLO PYTHON\n"
     ]
    }
   ],
   "source": [
    "str1 = 'Hello Python'\n",
    "# Change case\n",
    "print(str1.lower())\n",
    "print(str1.upper())"
   ]
  },
  {
   "cell_type": "markdown",
   "metadata": {},
   "source": [
    "##### Replace"
   ]
  },
  {
   "cell_type": "code",
   "execution_count": 56,
   "metadata": {},
   "outputs": [
    {
     "name": "stdout",
     "output_type": "stream",
     "text": [
      "Hola Python\n",
      "Hello Python\n",
      "HelloPython\n"
     ]
    }
   ],
   "source": [
    "print(str1.replace('Hello', 'Hola'))\n",
    "print(str1.replace('hello', 'Hola')) # Replace function is case sensitive\n",
    "print(str1.replace(' ', '')) # Removing white spaces using replace function"
   ]
  },
  {
   "cell_type": "markdown",
   "metadata": {},
   "source": [
    "##### Count"
   ]
  },
  {
   "cell_type": "code",
   "execution_count": 57,
   "metadata": {},
   "outputs": [
    {
     "name": "stdout",
     "output_type": "stream",
     "text": [
      "4\n",
      "0\n",
      "0\n"
     ]
    }
   ],
   "source": [
    "str1 = 'one two three four three one two one two one two'\n",
    "print(str1.count('one'))\n",
    "print(str1.count('One')) # Case sensitive\n",
    "print(str1.count('five'))"
   ]
  },
  {
   "cell_type": "markdown",
   "metadata": {},
   "source": [
    "##### Starts with / Ends with\n"
   ]
  },
  {
   "cell_type": "code",
   "execution_count": 58,
   "metadata": {},
   "outputs": [
    {
     "name": "stdout",
     "output_type": "stream",
     "text": [
      "True\n",
      "False\n",
      "True\n",
      "False\n"
     ]
    }
   ],
   "source": [
    "str1 = 'one two three four three one two one two one two'\n",
    "print(str1.startswith('one'))\n",
    "print(str1.startswith('One')) # Case Insensitive\n",
    "print(str1.endswith('two'))\n",
    "print(str1.endswith('Two')) # Case Insensitive"
   ]
  },
  {
   "cell_type": "markdown",
   "metadata": {},
   "source": [
    "##### Split"
   ]
  },
  {
   "cell_type": "code",
   "execution_count": 59,
   "metadata": {},
   "outputs": [
    {
     "name": "stdout",
     "output_type": "stream",
     "text": [
      "['one', 'two', 'three', 'four', 'three', 'one', 'two', 'one', 'two', 'one', 'two']\n"
     ]
    }
   ],
   "source": [
    "str1 = 'one two three four three one two one two one two'\n",
    "list1 = str1.split()\n",
    "print(list1)"
   ]
  },
  {
   "cell_type": "markdown",
   "metadata": {},
   "source": [
    "##### Format"
   ]
  },
  {
   "cell_type": "code",
   "execution_count": 60,
   "metadata": {},
   "outputs": [
    {
     "name": "stdout",
     "output_type": "stream",
     "text": [
      "The three numbers are 10, 20 and 30\n",
      "The three numbers are 30, 20 and 10\n"
     ]
    }
   ],
   "source": [
    "num1 = 10\n",
    "num2 = 20\n",
    "num3 = 30\n",
    "\n",
    "str1 = 'The three numbers are {}, {} and {}'\n",
    "str2 = 'The three numbers are {2}, {1} and {0}'\n",
    "\n",
    "print(str1.format(num1, num2, num3))\n",
    "print(str2.format(num1, num2, num3))"
   ]
  },
  {
   "cell_type": "markdown",
   "metadata": {},
   "source": [
    "##### Justify"
   ]
  },
  {
   "cell_type": "code",
   "execution_count": 61,
   "metadata": {},
   "outputs": [
    {
     "name": "stdout",
     "output_type": "stream",
     "text": [
      "                                            Hello Python                                            \n",
      "******************************************* Hello Python *******************************************\n",
      " Hello Python                                                                                       \n",
      " Hello Python **************************************************************************************\n",
      "                                                                                       Hello Python \n",
      "************************************************************************************** Hello Python \n"
     ]
    }
   ],
   "source": [
    "str1 = ' Hello Python '\n",
    "print(str1.center(100))\n",
    "print(str1.center(100, '*'))\n",
    "print(str1.ljust(100))\n",
    "print(str1.ljust(100, '*'))\n",
    "print(str1.rjust(100))\n",
    "print(str1.rjust(100, '*'))"
   ]
  },
  {
   "cell_type": "markdown",
   "metadata": {},
   "source": [
    "##### Find & Index"
   ]
  },
  {
   "cell_type": "code",
   "execution_count": 62,
   "metadata": {},
   "outputs": [
    {
     "name": "stdout",
     "output_type": "stream",
     "text": [
      "4\n",
      "45\n",
      "4\n",
      "45\n"
     ]
    }
   ],
   "source": [
    "str1 = 'one two three four three one two one two one two'\n",
    "# Find\n",
    "# Returns -1 if not found.\n",
    "# Can be applied only to strings.\n",
    "print(str1.find('two'))\n",
    "print(str1.rfind('two'))\n",
    "# Index\n",
    "# Returns exception if not found.\n",
    "# Can be applied only to strings, lists and tuples.\n",
    "print(str1.index('two'))\n",
    "print(str1.rindex('two'))\n"
   ]
  },
  {
   "cell_type": "markdown",
   "metadata": {},
   "source": [
    "##### Miscellaneous (IsAlpha, IsAlNum, IsNumeric, IsDigit, IsDecimal, IsUpper, IsLower)"
   ]
  },
  {
   "cell_type": "code",
   "execution_count": 63,
   "metadata": {},
   "outputs": [
    {
     "name": "stdout",
     "output_type": "stream",
     "text": [
      "123456789\n",
      "IsAlpha: False\n",
      "IsNumeric: True\n",
      "IsAlphaNumeric: True\n",
      "IsDigit: True\n",
      "IsDecimal: True\n",
      "\n",
      "abcde\n",
      "IsAlpha: True\n",
      "IsNumeric: False\n",
      "IsAlphaNumeric: True\n",
      "IsDigit: False\n",
      "IsDecimal: False\n",
      "\n",
      "hello python\n",
      "IsUpper: False\n",
      "IsLower: True\n"
     ]
    }
   ],
   "source": [
    "str1 = '123456789'\n",
    "print(str1)\n",
    "print('IsAlpha:', str1.isalpha()) # Returns true if the input is all letters\n",
    "print('IsNumeric:', str1.isnumeric()) # Returns true if the input is all numbers\n",
    "print('IsAlphaNumeric:', str1.isalnum()) # Returns true if the input contains mix of letters and numbers\n",
    "print('IsDigit:', str1.isdigit()) # Returns true if the input is all numbers\n",
    "print('IsDecimal:', str1.isdecimal()) # Returns true if the input is all numbers or decimal\n",
    "str1 = 'abcde'\n",
    "print()\n",
    "print(str1)\n",
    "print('IsAlpha:', str1.isalpha())\n",
    "print('IsNumeric:', str1.isnumeric())\n",
    "print('IsAlphaNumeric:', str1.isalnum())\n",
    "print('IsDigit:', str1.isdigit())\n",
    "print('IsDecimal:', str1.isdecimal())\n",
    "\n",
    "str1 = 'hello python'\n",
    "print()\n",
    "print(str1)\n",
    "print('IsUpper:', str1.isupper())\n",
    "print('IsLower:', str1.islower())"
   ]
  },
  {
   "cell_type": "markdown",
   "metadata": {},
   "source": [
    "#### Using escape characters"
   ]
  },
  {
   "cell_type": "code",
   "execution_count": 64,
   "metadata": {},
   "outputs": [
    {
     "name": "stdout",
     "output_type": "stream",
     "text": [
      "My favorite tv series is \"Game of thrones\"\n",
      "My favorite tv series is 'Game of thrones'\n"
     ]
    }
   ],
   "source": [
    "str1 = 'My favorite tv series is \"Game of thrones\"'\n",
    "print(str1)\n",
    "str1 = 'My favorite tv series is \\'Game of thrones\\''\n",
    "print(str1)"
   ]
  },
  {
   "cell_type": "markdown",
   "metadata": {},
   "source": [
    "### List"
   ]
  },
  {
   "cell_type": "markdown",
   "metadata": {},
   "source": [
    "List is an ordered collection of items.\n",
    "\n",
    "List can have different data types in it."
   ]
  },
  {
   "cell_type": "code",
   "execution_count": 65,
   "metadata": {},
   "outputs": [
    {
     "name": "stdout",
     "output_type": "stream",
     "text": [
      "[]\n",
      "[1, 2, 3, 4, 5]\n",
      "[1.5, 2.5, 3.5, 4.5, 5.5]\n",
      "['one', 'two', 'three', 'four', 'five']\n",
      "[1, 2, [3, 4]]\n",
      "[1, 'two', 3.5, [4, 'five', 6.5]]\n"
     ]
    }
   ],
   "source": [
    "list1 = [] # Empty list\n",
    "print(list1)\n",
    "list2 = [1, 2, 3, 4, 5] # Integer list\n",
    "print(list2)\n",
    "list3 = [1.5, 2.5, 3.5, 4.5, 5.5] # Float list\n",
    "print(list3)\n",
    "list4 = ['one', 'two', 'three', 'four', 'five'] # String list\n",
    "print(list4)\n",
    "list5 = [1, 2 , [3, 4]] # Nested list\n",
    "print(list5)\n",
    "list6 = [1, 'two', 3.5, [4, 'five', 6.5]] # Mixed list\n",
    "print(list6)"
   ]
  },
  {
   "cell_type": "code",
   "execution_count": 66,
   "metadata": {},
   "outputs": [
    {
     "name": "stdout",
     "output_type": "stream",
     "text": [
      "4\n"
     ]
    }
   ],
   "source": [
    "list1 = [1, 2, 3, [4,5]]\n",
    "print(len(list1))"
   ]
  },
  {
   "cell_type": "markdown",
   "metadata": {},
   "source": [
    "#### List Indexing"
   ]
  },
  {
   "cell_type": "code",
   "execution_count": 67,
   "metadata": {},
   "outputs": [
    {
     "name": "stdout",
     "output_type": "stream",
     "text": [
      "1\n",
      "[4, 5]\n",
      "5\n",
      "[4, 5]\n",
      "4\n"
     ]
    }
   ],
   "source": [
    "list1 = [1, 2, 3, [4,5]]\n",
    "print(list1[0])\n",
    "print(list1[3])\n",
    "print(list1[3][1]) # Nested Indexing\n",
    "print(list1[-1]) # Reverse Indexing\n",
    "print(list1[-1][0])"
   ]
  },
  {
   "cell_type": "markdown",
   "metadata": {},
   "source": [
    "#### List Slicing"
   ]
  },
  {
   "cell_type": "code",
   "execution_count": 68,
   "metadata": {},
   "outputs": [
    {
     "name": "stdout",
     "output_type": "stream",
     "text": [
      "['one', 'two', 'three', 'four', 'five', 'six', 'seven', 'eight', 'nine', 'ten']\n",
      "['three', 'four', 'five']\n",
      "['one', 'two', 'three']\n",
      "['four', 'five', 'six', 'seven', 'eight', 'nine', 'ten']\n",
      "['eight', 'nine', 'ten']\n",
      "['one', 'two', 'three', 'four', 'five', 'six', 'seven', 'eight', 'nine', 'ten']\n"
     ]
    }
   ],
   "source": [
    "list1 = ['one', 'two', 'three', 'four', 'five', 'six', 'seven', 'eight', 'nine', 'ten']\n",
    "print(list1)\n",
    "print(list1[2:5]) # from 2nd index to 4th index\n",
    "print(list1[:3]) # from 0 index to 3rd index in list\n",
    "print(list1[3:]) # From 3rd index to end of list\n",
    "print(list1[-3:]) # Last 3 items\n",
    "print(list1[:]) # Return whole list"
   ]
  },
  {
   "cell_type": "markdown",
   "metadata": {},
   "source": [
    "#### Add / Change Items"
   ]
  },
  {
   "cell_type": "code",
   "execution_count": 69,
   "metadata": {},
   "outputs": [
    {
     "name": "stdout",
     "output_type": "stream",
     "text": [
      "[1, 2, 3, 4, 5, 6]\n",
      "[1, 2, 2.5, 3, 4, 5, 6]\n"
     ]
    }
   ],
   "source": [
    "list1 = [1, 2, 3, 4, 5]\n",
    "list1.append(6) # Appending new items to list\n",
    "print(list1)\n",
    "list1.insert(2, 2.5) # Insert new elements at a given position\n",
    "print(list1)"
   ]
  },
  {
   "cell_type": "code",
   "execution_count": 70,
   "metadata": {},
   "outputs": [
    {
     "name": "stdout",
     "output_type": "stream",
     "text": [
      "['one', 'two', 'three', 'four', 'five']\n",
      "['one', 'two', 'four', 'five']\n",
      "['one', 'two', 'three', 'four']\n",
      "['one', 'three', 'four', 'five']\n",
      "['one', 'three', 'four', 'five']\n",
      "['one', 2, 'three', 'four', 'five']\n",
      "[]\n"
     ]
    },
    {
     "ename": "NameError",
     "evalue": "name 'list1' is not defined",
     "output_type": "error",
     "traceback": [
      "\u001b[1;31m---------------------------------------------------------------------------\u001b[0m",
      "\u001b[1;31mNameError\u001b[0m                                 Traceback (most recent call last)",
      "\u001b[1;32md:\\Projects\\Python\\python-starter\\PythonBasics.ipynb Cell 106'\u001b[0m in \u001b[0;36m<cell line: 20>\u001b[1;34m()\u001b[0m\n\u001b[0;32m     <a href='vscode-notebook-cell:/d%3A/Projects/Python/python-starter/PythonBasics.ipynb#ch0000105?line=17'>18</a>\u001b[0m \u001b[39mprint\u001b[39m(list1)\n\u001b[0;32m     <a href='vscode-notebook-cell:/d%3A/Projects/Python/python-starter/PythonBasics.ipynb#ch0000105?line=18'>19</a>\u001b[0m \u001b[39mdel\u001b[39;00m list1 \u001b[39m# Deletes the list\u001b[39;00m\n\u001b[1;32m---> <a href='vscode-notebook-cell:/d%3A/Projects/Python/python-starter/PythonBasics.ipynb#ch0000105?line=19'>20</a>\u001b[0m \u001b[39mprint\u001b[39m(list1)\n",
      "\u001b[1;31mNameError\u001b[0m: name 'list1' is not defined"
     ]
    }
   ],
   "source": [
    "list1 = ['one', 'two', 'three', 'four', 'five']\n",
    "print(list1)\n",
    "list1.remove('three') # Removes the specified element\n",
    "print(list1)\n",
    "list1 = ['one', 'two', 'three', 'four', 'five']\n",
    "list1.pop() # Removes the last item\n",
    "print(list1)\n",
    "list1 = ['one', 'two', 'three', 'four', 'five']\n",
    "list1.pop(1) # Removes item at index\n",
    "print(list1)\n",
    "list1 = ['one', 'two', 'three', 'four', 'five']\n",
    "del list1[1] # Removes item at index\n",
    "print(list1)\n",
    "list1 = ['one', 'two', 'three', 'four', 'five']\n",
    "list1[1] = 2 # Change value in list\n",
    "print(list1)\n",
    "list1.clear() # Clears the list\n",
    "print(list1)\n",
    "del list1 # Deletes the list\n",
    "print(list1)"
   ]
  },
  {
   "cell_type": "markdown",
   "metadata": {},
   "source": [
    "#### Copy List"
   ]
  },
  {
   "cell_type": "code",
   "execution_count": 71,
   "metadata": {},
   "outputs": [
    {
     "name": "stdout",
     "output_type": "stream",
     "text": [
      "1598259814272 1598259814272\n",
      "1598259814272 1598259864128\n",
      "[1, 'two', 3, 4, 5]\n",
      "[1, 'two', 3, 4, 5]\n",
      "[1, 2, 3, 4, 5]\n"
     ]
    }
   ],
   "source": [
    "list1 = [1, 2, 3 , 4, 5]\n",
    "list2 = list1\n",
    "print(id(list1), id(list2)) # Points to the same reference\n",
    "list3 = list1.copy()\n",
    "print(id(list1), id(list3)) # Points to different reference\n",
    "list1[1] = 'two'\n",
    "print(list1)\n",
    "print(list2)\n",
    "print(list3)"
   ]
  },
  {
   "cell_type": "markdown",
   "metadata": {},
   "source": [
    "#### Join Lists"
   ]
  },
  {
   "cell_type": "code",
   "execution_count": 72,
   "metadata": {},
   "outputs": [
    {
     "name": "stdout",
     "output_type": "stream",
     "text": [
      "[1, 2, 3, 4, 5]\n",
      "[6, 7, 8, 9, 10]\n",
      "[1, 2, 3, 4, 5, 6, 7, 8, 9, 10]\n",
      "[1, 2, 3, 4, 5, 6, 7, 8, 9, 10]\n"
     ]
    }
   ],
   "source": [
    "list1 = [1, 2, 3 , 4, 5]\n",
    "list2 = [6, 7, 8 , 9, 10]\n",
    "list3 = list1 + list2 # Join lists.\n",
    "print(list1)\n",
    "print(list2)\n",
    "print(list3)\n",
    "\n",
    "# This is different from append. \n",
    "# Append adds the list as a new element in the current list.\n",
    "list1.extend(list2) \n",
    "print(list1)\n"
   ]
  },
  {
   "cell_type": "markdown",
   "metadata": {},
   "source": [
    "#### List Membership"
   ]
  },
  {
   "cell_type": "code",
   "execution_count": 73,
   "metadata": {},
   "outputs": [
    {
     "name": "stdout",
     "output_type": "stream",
     "text": [
      "True\n",
      "False\n"
     ]
    }
   ],
   "source": [
    "list1 = [1, 2, 3 , 4, 5]\n",
    "print(4 in list1)\n",
    "print(6 in list1)"
   ]
  },
  {
   "cell_type": "markdown",
   "metadata": {},
   "source": [
    "#### Reverse and Sort lists"
   ]
  },
  {
   "cell_type": "code",
   "execution_count": 74,
   "metadata": {},
   "outputs": [
    {
     "name": "stdout",
     "output_type": "stream",
     "text": [
      "[1, 2, 3, 4, 5]\n",
      "[5, 4, 3, 2, 1]\n",
      "[1, 2, 3, 4, 5]\n"
     ]
    }
   ],
   "source": [
    "list1 = [1, 2, 3 , 4, 5]\n",
    "print(list1)\n",
    "list1.reverse() # Reverses the list\n",
    "print(list1)\n",
    "list1 = list1[::-1] # Reverses the list\n",
    "print(list1)\n"
   ]
  },
  {
   "cell_type": "code",
   "execution_count": 75,
   "metadata": {},
   "outputs": [
    {
     "name": "stdout",
     "output_type": "stream",
     "text": [
      "[1, 2, 3, 4, 5]\n",
      "[1, 2, 3, 4, 5]\n",
      "[5, 4, 3, 2, 1]\n",
      "[1, 2, 3, 4, 5]\n"
     ]
    }
   ],
   "source": [
    "list2 = [4, 2, 1, 5, 3]\n",
    "list2.sort()\n",
    "print(list1)\n",
    "list2.sort(reverse=True)\n",
    "print(list1)\n",
    "list3 = sorted(list2) # Returns a new copy of the list. Does not change the original list\n",
    "print(list2) # Original list\n",
    "print(list3) # Sorted list"
   ]
  },
  {
   "cell_type": "markdown",
   "metadata": {},
   "source": [
    "#### Loop through a list"
   ]
  },
  {
   "cell_type": "code",
   "execution_count": 76,
   "metadata": {},
   "outputs": [
    {
     "name": "stdout",
     "output_type": "stream",
     "text": [
      "1\n",
      "2\n",
      "3\n",
      "4\n",
      "5\n"
     ]
    }
   ],
   "source": [
    "list1 = [1, 2, 3 , 4, 5]\n",
    "for i in list1:\n",
    "    print(i)"
   ]
  },
  {
   "cell_type": "code",
   "execution_count": 77,
   "metadata": {},
   "outputs": [
    {
     "name": "stdout",
     "output_type": "stream",
     "text": [
      "(0, 1)\n",
      "(1, 2)\n",
      "(2, 3)\n",
      "(3, 4)\n",
      "(4, 5)\n"
     ]
    }
   ],
   "source": [
    "for i in enumerate(list1): # Returns list with index\n",
    "    print(i)"
   ]
  },
  {
   "cell_type": "markdown",
   "metadata": {},
   "source": [
    "#### Count"
   ]
  },
  {
   "cell_type": "code",
   "execution_count": 78,
   "metadata": {},
   "outputs": [
    {
     "name": "stdout",
     "output_type": "stream",
     "text": [
      "2\n",
      "1\n",
      "0\n"
     ]
    }
   ],
   "source": [
    "list1 = ['one', 'three', 'seven', 'two', 'one', 'three', 'four', 'three']\n",
    "print(list1.count('one'))\n",
    "print(list1.count('four'))\n",
    "print(list1.count('six'))\n"
   ]
  },
  {
   "cell_type": "markdown",
   "metadata": {},
   "source": [
    "#### All / Any"
   ]
  },
  {
   "cell_type": "code",
   "execution_count": 79,
   "metadata": {},
   "outputs": [
    {
     "name": "stdout",
     "output_type": "stream",
     "text": [
      "['one', 'two', 'three', 'four', 'five']\n",
      "True\n",
      "True\n",
      "['one', 'two', 'three', 'four', 'five', '']\n",
      "False\n",
      "True\n"
     ]
    }
   ],
   "source": [
    "list1 = ['one', 'two', 'three', 'four', 'five']\n",
    "print(list1)\n",
    "print(all(list1))\n",
    "print(any(list1))\n",
    "list1.append('')\n",
    "print(list1)\n",
    "print(all(list1))\n",
    "print(any(list1))"
   ]
  },
  {
   "cell_type": "markdown",
   "metadata": {},
   "source": [
    "#### List Comprehension"
   ]
  },
  {
   "cell_type": "code",
   "execution_count": null,
   "metadata": {},
   "outputs": [],
   "source": []
  },
  {
   "cell_type": "markdown",
   "metadata": {},
   "source": [
    "List Comprehensions provide an elegant way to create new lists.\n",
    "\n",
    "It consists of brackets containing an expression followed by a for clause, then zero or more foror if clauses."
   ]
  },
  {
   "cell_type": "code",
   "execution_count": 80,
   "metadata": {},
   "outputs": [
    {
     "name": "stdout",
     "output_type": "stream",
     "text": [
      "[1, 2, 3, 4, 5, 6, 7, 8, 9, 10]\n"
     ]
    }
   ],
   "source": [
    "list1 = list(range(1, 11))\n",
    "print(list1)\n"
   ]
  },
  {
   "cell_type": "code",
   "execution_count": 81,
   "metadata": {},
   "outputs": [
    {
     "name": "stdout",
     "output_type": "stream",
     "text": [
      "[1, 4, 9, 16, 25, 36, 49, 64, 81, 100]\n"
     ]
    }
   ],
   "source": [
    " # List with squares of each number\n",
    "list2 = [i * i for i in list1]\n",
    "print(list2)"
   ]
  },
  {
   "cell_type": "code",
   "execution_count": 82,
   "metadata": {},
   "outputs": [
    {
     "name": "stdout",
     "output_type": "stream",
     "text": [
      "[10, 20, 30, 40, 50, 60, 70, 80, 90, 100]\n"
     ]
    }
   ],
   "source": [
    " # Multiple each item by 10\n",
    "list2 = [i * 10 for i in list1]\n",
    "print(list2)"
   ]
  },
  {
   "cell_type": "code",
   "execution_count": 83,
   "metadata": {},
   "outputs": [
    {
     "name": "stdout",
     "output_type": "stream",
     "text": [
      "[2, 4, 6, 8, 10]\n"
     ]
    }
   ],
   "source": [
    "# List with even numbers\n",
    "list2 = [i for i in list1 if i % 2 == 0] \n",
    "print(list2)"
   ]
  },
  {
   "cell_type": "code",
   "execution_count": 84,
   "metadata": {},
   "outputs": [
    {
     "name": "stdout",
     "output_type": "stream",
     "text": [
      "[9]\n"
     ]
    }
   ],
   "source": [
    "# Numbers divisible by 3 and 9\n",
    "list2 = [i for i in list1 if i % 3 == 0 if i % 9 == 0] \n",
    "print(list2)"
   ]
  },
  {
   "cell_type": "code",
   "execution_count": 85,
   "metadata": {},
   "outputs": [
    {
     "name": "stdout",
     "output_type": "stream",
     "text": [
      "1 is an odd number\n",
      "2 is an even number\n",
      "3 is an odd number\n",
      "4 is an even number\n",
      "5 is an odd number\n",
      "6 is an even number\n",
      "7 is an odd number\n",
      "8 is an even number\n",
      "9 is an odd number\n",
      "10 is an even number\n"
     ]
    }
   ],
   "source": [
    "# Odd or Even\n",
    "list2 = [print('{} is an even number'.format(i)) \n",
    "         if i % 2 == 0 \n",
    "         else print('{} is an odd number'.format(i)) \n",
    "         for i in list1]"
   ]
  },
  {
   "cell_type": "code",
   "execution_count": 86,
   "metadata": {},
   "outputs": [
    {
     "name": "stdout",
     "output_type": "stream",
     "text": [
      "[1, 2, 3, 4, 5, 6, 7, 8, 9]\n"
     ]
    }
   ],
   "source": [
    "# Extract numbers from a string\n",
    "str1 = 'One 1 two 2 three 3 four 4 five 5 six 6789'\n",
    "numlist1 = [int(i) for i in str1 if i.isdigit()]\n",
    "print(numlist1)"
   ]
  },
  {
   "cell_type": "code",
   "execution_count": 87,
   "metadata": {},
   "outputs": [
    {
     "name": "stdout",
     "output_type": "stream",
     "text": [
      "['O', 'n', 'e', 't', 'w', 'o', 't', 'h', 'r', 'e', 'e', 'f', 'o', 'u', 'r', 'f', 'i', 'v', 'e', 's', 'i', 'x']\n"
     ]
    }
   ],
   "source": [
    "# Extract letters from a string\n",
    "str1 = 'One 1 two 2 three 3 four 4 five 5 six 6789'\n",
    "numlist1 = [i for i in str1 if i.isalpha()]\n",
    "print(numlist1)"
   ]
  },
  {
   "cell_type": "markdown",
   "metadata": {},
   "source": [
    "### Tuples"
   ]
  },
  {
   "cell_type": "markdown",
   "metadata": {},
   "source": [
    "Tuple is similar to List except that the objects in tuple are immutable which means we cannot change the elements of a tuple once assigned.\n",
    "\n",
    "When we do not want to change the data over time, tuple is a preferred data type.\n",
    "\n",
    "Iterating over the elements of a tuple is faster compared to iterating over a list."
   ]
  },
  {
   "cell_type": "markdown",
   "metadata": {},
   "source": [
    "#### Tuple Creation"
   ]
  },
  {
   "cell_type": "code",
   "execution_count": 88,
   "metadata": {},
   "outputs": [
    {
     "name": "stdout",
     "output_type": "stream",
     "text": [
      "()\n"
     ]
    }
   ],
   "source": [
    "tup1 = ()\n",
    "print(tup1)"
   ]
  },
  {
   "cell_type": "code",
   "execution_count": 89,
   "metadata": {},
   "outputs": [
    {
     "name": "stdout",
     "output_type": "stream",
     "text": [
      "(1, 2, 3, 4, 5)\n",
      "(1.5, 2.5, 3.5, 4.5, 5.5)\n",
      "('one', 'two', 'three', 'four', 'five')\n",
      "(1, 2, 3, 4, 5, (1, 2))\n",
      "(1, 2, 3, 4.5, 'five', (1, 2), [1, 2], {1, 2})\n"
     ]
    }
   ],
   "source": [
    "# Tuple of integers\n",
    "tup1 = (1, 2, 3, 4 , 5)\n",
    "print(tup1)\n",
    "# Tuple of floats\n",
    "tup1 = (1.5, 2.5, 3.5, 4.5 , 5.5)\n",
    "print(tup1)\n",
    "# Tuple of strings\n",
    "tup1 = ('one', 'two', 'three', 'four', 'five')\n",
    "print(tup1)\n",
    "# Nested Tuple\n",
    "tup1 = (1, 2, 3, 4 , 5, (1,2)) \n",
    "print(tup1)\n",
    "# Mixed Tuple\n",
    "tup1 = (1, 2, 3, 4.5 , 'five', (1,2), [1,2], {1,2}) \n",
    "print(tup1)"
   ]
  },
  {
   "cell_type": "code",
   "execution_count": 90,
   "metadata": {},
   "outputs": [
    {
     "name": "stdout",
     "output_type": "stream",
     "text": [
      "8\n"
     ]
    }
   ],
   "source": [
    "# Length of tuple\n",
    "tup1 = (1, 2, 3, 4.5 , 'five', (1,2), [1,2], {1,2}) \n",
    "print(len(tup1))"
   ]
  },
  {
   "cell_type": "markdown",
   "metadata": {},
   "source": [
    "#### Tuple Indexing"
   ]
  },
  {
   "cell_type": "code",
   "execution_count": 91,
   "metadata": {},
   "outputs": [
    {
     "name": "stdout",
     "output_type": "stream",
     "text": [
      "[1, 2]\n",
      "2\n",
      "{1, 2}\n"
     ]
    }
   ],
   "source": [
    "tup1 = (1, 2, 3, 4.5, 'five', (1,2), [1,2], {1,2}) \n",
    "print(tup1[6])\n",
    "print(tup1[6][1])\n",
    "print(tup1[-1])"
   ]
  },
  {
   "cell_type": "markdown",
   "metadata": {},
   "source": [
    "#### Tuple Slicing"
   ]
  },
  {
   "cell_type": "code",
   "execution_count": 92,
   "metadata": {},
   "outputs": [
    {
     "name": "stdout",
     "output_type": "stream",
     "text": [
      "(2, 3, 4)\n",
      "(1, 2, 3, 4)\n",
      "(3, 4, 5)\n",
      "(4, 5)\n",
      "(1, 2, 3, 4, 5)\n"
     ]
    }
   ],
   "source": [
    "tup1 = (1, 2, 3, 4, 5)\n",
    "print(tup1[1:4])\n",
    "print(tup1[:4])\n",
    "print(tup1[2:])\n",
    "print(tup1[-2:])\n",
    "print(tup1[:])"
   ]
  },
  {
   "cell_type": "markdown",
   "metadata": {},
   "source": [
    "#### Remove and Change Items"
   ]
  },
  {
   "cell_type": "code",
   "execution_count": 93,
   "metadata": {},
   "outputs": [
    {
     "name": "stdout",
     "output_type": "stream",
     "text": [
      "(1, 2, 3, 4, 5)\n"
     ]
    },
    {
     "ename": "TypeError",
     "evalue": "'tuple' object doesn't support item deletion",
     "output_type": "error",
     "traceback": [
      "\u001b[1;31m---------------------------------------------------------------------------\u001b[0m",
      "\u001b[1;31mTypeError\u001b[0m                                 Traceback (most recent call last)",
      "\u001b[1;32md:\\Projects\\Python\\python-starter\\PythonBasics.ipynb Cell 145'\u001b[0m in \u001b[0;36m<cell line: 2>\u001b[1;34m()\u001b[0m\n\u001b[0;32m      <a href='vscode-notebook-cell:/d%3A/Projects/Python/python-starter/PythonBasics.ipynb#ch0000144?line=0'>1</a>\u001b[0m \u001b[39mprint\u001b[39m(tup1)\n\u001b[1;32m----> <a href='vscode-notebook-cell:/d%3A/Projects/Python/python-starter/PythonBasics.ipynb#ch0000144?line=1'>2</a>\u001b[0m \u001b[39mdel\u001b[39;00m tup1[\u001b[39m1\u001b[39m]\n",
      "\u001b[1;31mTypeError\u001b[0m: 'tuple' object doesn't support item deletion"
     ]
    }
   ],
   "source": [
    "print(tup1)\n",
    "del tup1[1] # Tuples are immutable so the elements cannot be deleted"
   ]
  },
  {
   "cell_type": "code",
   "execution_count": 94,
   "metadata": {},
   "outputs": [
    {
     "ename": "TypeError",
     "evalue": "'tuple' object does not support item assignment",
     "output_type": "error",
     "traceback": [
      "\u001b[1;31m---------------------------------------------------------------------------\u001b[0m",
      "\u001b[1;31mTypeError\u001b[0m                                 Traceback (most recent call last)",
      "\u001b[1;32md:\\Projects\\Python\\python-starter\\PythonBasics.ipynb Cell 146'\u001b[0m in \u001b[0;36m<cell line: 1>\u001b[1;34m()\u001b[0m\n\u001b[1;32m----> <a href='vscode-notebook-cell:/d%3A/Projects/Python/python-starter/PythonBasics.ipynb#ch0000145?line=0'>1</a>\u001b[0m tup1[\u001b[39m1\u001b[39m] \u001b[39m=\u001b[39m \u001b[39m10\u001b[39m\n",
      "\u001b[1;31mTypeError\u001b[0m: 'tuple' object does not support item assignment"
     ]
    }
   ],
   "source": [
    "tup1[1] = 10 # Tuples are immutable so the elements cannot be modified"
   ]
  },
  {
   "cell_type": "code",
   "execution_count": 95,
   "metadata": {},
   "outputs": [
    {
     "ename": "NameError",
     "evalue": "name 'tup1' is not defined",
     "output_type": "error",
     "traceback": [
      "\u001b[1;31m---------------------------------------------------------------------------\u001b[0m",
      "\u001b[1;31mNameError\u001b[0m                                 Traceback (most recent call last)",
      "\u001b[1;32md:\\Projects\\Python\\python-starter\\PythonBasics.ipynb Cell 147'\u001b[0m in \u001b[0;36m<cell line: 2>\u001b[1;34m()\u001b[0m\n\u001b[0;32m      <a href='vscode-notebook-cell:/d%3A/Projects/Python/python-starter/PythonBasics.ipynb#ch0000146?line=0'>1</a>\u001b[0m \u001b[39mdel\u001b[39;00m tup1 \u001b[39m# Delete the tuple\u001b[39;00m\n\u001b[1;32m----> <a href='vscode-notebook-cell:/d%3A/Projects/Python/python-starter/PythonBasics.ipynb#ch0000146?line=1'>2</a>\u001b[0m \u001b[39mprint\u001b[39m(tup1)\n",
      "\u001b[1;31mNameError\u001b[0m: name 'tup1' is not defined"
     ]
    }
   ],
   "source": [
    "del tup1 # Delete the tuple\n",
    "print(tup1)"
   ]
  },
  {
   "cell_type": "markdown",
   "metadata": {},
   "source": [
    "#### Loop through a tuple"
   ]
  },
  {
   "cell_type": "code",
   "execution_count": 96,
   "metadata": {},
   "outputs": [
    {
     "name": "stdout",
     "output_type": "stream",
     "text": [
      "1\n",
      "2\n",
      "3\n",
      "4\n",
      "5\n",
      "2\n",
      "3\n",
      "2\n",
      "4\n"
     ]
    }
   ],
   "source": [
    "tup1 = (1, 2, 3, 4, 5, 2, 3, 2, 4,)\n",
    "for i in tup1:\n",
    "    print(i)"
   ]
  },
  {
   "cell_type": "code",
   "execution_count": 97,
   "metadata": {},
   "outputs": [
    {
     "name": "stdout",
     "output_type": "stream",
     "text": [
      "(0, 1)\n",
      "(1, 2)\n",
      "(2, 3)\n",
      "(3, 4)\n",
      "(4, 5)\n",
      "(5, 2)\n",
      "(6, 3)\n",
      "(7, 2)\n",
      "(8, 4)\n"
     ]
    }
   ],
   "source": [
    "for i in enumerate(tup1):\n",
    "    print(i)"
   ]
  },
  {
   "cell_type": "code",
   "execution_count": 98,
   "metadata": {},
   "outputs": [
    {
     "name": "stdout",
     "output_type": "stream",
     "text": [
      "2\n",
      "3\n"
     ]
    }
   ],
   "source": [
    "print(tup1.count(4))\n",
    "print(tup1.count(2))"
   ]
  },
  {
   "cell_type": "markdown",
   "metadata": {},
   "source": [
    "#### Tuple Membership"
   ]
  },
  {
   "cell_type": "code",
   "execution_count": 99,
   "metadata": {},
   "outputs": [
    {
     "name": "stdout",
     "output_type": "stream",
     "text": [
      "True\n",
      "False\n"
     ]
    }
   ],
   "source": [
    "tup1 = (1, 2, 3, 4, 5)\n",
    "print(2 in tup1)\n",
    "print(6 in tup1)"
   ]
  },
  {
   "cell_type": "markdown",
   "metadata": {},
   "source": [
    "#### Index Position"
   ]
  },
  {
   "cell_type": "code",
   "execution_count": 100,
   "metadata": {},
   "outputs": [
    {
     "data": {
      "text/plain": [
       "1"
      ]
     },
     "execution_count": 100,
     "metadata": {},
     "output_type": "execute_result"
    }
   ],
   "source": [
    "tup1 = ('one', 'two', 'three', 'four', 'five')\n",
    "tup1.index('two')"
   ]
  },
  {
   "cell_type": "code",
   "execution_count": 101,
   "metadata": {},
   "outputs": [
    {
     "ename": "ValueError",
     "evalue": "tuple.index(x): x not in tuple",
     "output_type": "error",
     "traceback": [
      "\u001b[1;31m---------------------------------------------------------------------------\u001b[0m",
      "\u001b[1;31mValueError\u001b[0m                                Traceback (most recent call last)",
      "\u001b[1;32md:\\Projects\\Python\\python-starter\\PythonBasics.ipynb Cell 156'\u001b[0m in \u001b[0;36m<cell line: 1>\u001b[1;34m()\u001b[0m\n\u001b[1;32m----> <a href='vscode-notebook-cell:/d%3A/Projects/Python/python-starter/PythonBasics.ipynb#ch0000155?line=0'>1</a>\u001b[0m tup1\u001b[39m.\u001b[39;49mindex(\u001b[39m'\u001b[39;49m\u001b[39msix\u001b[39;49m\u001b[39m'\u001b[39;49m)\n",
      "\u001b[1;31mValueError\u001b[0m: tuple.index(x): x not in tuple"
     ]
    }
   ],
   "source": [
    "tup1.index('six')"
   ]
  },
  {
   "cell_type": "markdown",
   "metadata": {},
   "source": [
    "#### Sorting"
   ]
  },
  {
   "cell_type": "code",
   "execution_count": 102,
   "metadata": {},
   "outputs": [
    {
     "name": "stdout",
     "output_type": "stream",
     "text": [
      "['apple', 'ball', 'cat', 'dog', 'elephant']\n",
      "['elephant', 'dog', 'cat', 'ball', 'apple']\n"
     ]
    }
   ],
   "source": [
    "tup1 =  ('ball', 'apple', 'dog', 'elephant', 'cat')\n",
    "print(sorted(tup1))\n",
    "print(sorted(tup1, reverse=True))"
   ]
  },
  {
   "cell_type": "markdown",
   "metadata": {},
   "source": [
    "### Sets"
   ]
  },
  {
   "cell_type": "markdown",
   "metadata": {},
   "source": [
    "Unordered & Unindexed collection of items.\n",
    "\n",
    "Set elements are unique. Duplicate elements are not allowed.\n",
    "\n",
    "Set elements are immutable (cannot be changed).\n",
    "\n",
    "Set itself is mutable. We can add or remove items from it."
   ]
  },
  {
   "cell_type": "markdown",
   "metadata": {},
   "source": [
    "#### Set Creation"
   ]
  },
  {
   "cell_type": "code",
   "execution_count": 103,
   "metadata": {},
   "outputs": [
    {
     "name": "stdout",
     "output_type": "stream",
     "text": [
      "{}\n",
      "set()\n"
     ]
    }
   ],
   "source": [
    "# Empty set\n",
    "set1 = {}\n",
    "print(set1)\n",
    "# Empty set\n",
    "set1 = set()\n",
    "print(set1)"
   ]
  },
  {
   "cell_type": "code",
   "execution_count": 104,
   "metadata": {},
   "outputs": [
    {
     "name": "stdout",
     "output_type": "stream",
     "text": [
      "{1, 2, 3, 4, 5}\n",
      "5\n"
     ]
    }
   ],
   "source": [
    "set1 = {1, 2, 3, 4, 5, 5, 1}\n",
    "print(set1)\n",
    "print(len(set1))"
   ]
  },
  {
   "cell_type": "code",
   "execution_count": 105,
   "metadata": {},
   "outputs": [
    {
     "name": "stdout",
     "output_type": "stream",
     "text": [
      "{1, 2, 3, 4, 5, (1, 2)}\n"
     ]
    }
   ],
   "source": [
    "set1 = {1, 2, 3, 4, 5, (1, 2)}\n",
    "print(set1)"
   ]
  },
  {
   "cell_type": "code",
   "execution_count": 106,
   "metadata": {},
   "outputs": [
    {
     "ename": "TypeError",
     "evalue": "unhashable type: 'set'",
     "output_type": "error",
     "traceback": [
      "\u001b[1;31m---------------------------------------------------------------------------\u001b[0m",
      "\u001b[1;31mTypeError\u001b[0m                                 Traceback (most recent call last)",
      "\u001b[1;32md:\\Projects\\Python\\python-starter\\PythonBasics.ipynb Cell 165'\u001b[0m in \u001b[0;36m<cell line: 1>\u001b[1;34m()\u001b[0m\n\u001b[1;32m----> <a href='vscode-notebook-cell:/d%3A/Projects/Python/python-starter/PythonBasics.ipynb#ch0000164?line=0'>1</a>\u001b[0m set1 \u001b[39m=\u001b[39m {\u001b[39m1\u001b[39m, \u001b[39m2\u001b[39m, \u001b[39m3\u001b[39m, \u001b[39m4\u001b[39m, \u001b[39m5\u001b[39m, {\u001b[39m1\u001b[39m, \u001b[39m2\u001b[39m}}  \u001b[39m# Set does not allow mutable types like list or set inside it\u001b[39;00m\n\u001b[0;32m      <a href='vscode-notebook-cell:/d%3A/Projects/Python/python-starter/PythonBasics.ipynb#ch0000164?line=1'>2</a>\u001b[0m \u001b[39mprint\u001b[39m(set1)\n",
      "\u001b[1;31mTypeError\u001b[0m: unhashable type: 'set'"
     ]
    }
   ],
   "source": [
    "set1 = {1, 2, 3, 4, 5, {1, 2}}  # Set does not allow mutable types like list or set inside it\n",
    "print(set1)"
   ]
  },
  {
   "cell_type": "code",
   "execution_count": 107,
   "metadata": {},
   "outputs": [
    {
     "ename": "TypeError",
     "evalue": "unhashable type: 'list'",
     "output_type": "error",
     "traceback": [
      "\u001b[1;31m---------------------------------------------------------------------------\u001b[0m",
      "\u001b[1;31mTypeError\u001b[0m                                 Traceback (most recent call last)",
      "\u001b[1;32md:\\Projects\\Python\\python-starter\\PythonBasics.ipynb Cell 166'\u001b[0m in \u001b[0;36m<cell line: 1>\u001b[1;34m()\u001b[0m\n\u001b[1;32m----> <a href='vscode-notebook-cell:/d%3A/Projects/Python/python-starter/PythonBasics.ipynb#ch0000165?line=0'>1</a>\u001b[0m set1 \u001b[39m=\u001b[39m {\u001b[39m1\u001b[39m, \u001b[39m2\u001b[39m, \u001b[39m3\u001b[39m, \u001b[39m4\u001b[39m, \u001b[39m5\u001b[39m, [\u001b[39m1\u001b[39m, \u001b[39m2\u001b[39m]} \u001b[39m# Set does not allow mutable types like list or set inside it\u001b[39;00m\n\u001b[0;32m      <a href='vscode-notebook-cell:/d%3A/Projects/Python/python-starter/PythonBasics.ipynb#ch0000165?line=1'>2</a>\u001b[0m \u001b[39mprint\u001b[39m(set1)\n",
      "\u001b[1;31mTypeError\u001b[0m: unhashable type: 'list'"
     ]
    }
   ],
   "source": [
    "set1 = {1, 2, 3, 4, 5, [1, 2]} # Set does not allow mutable types like list or set inside it\n",
    "print(set1)"
   ]
  },
  {
   "cell_type": "code",
   "execution_count": 108,
   "metadata": {},
   "outputs": [
    {
     "name": "stdout",
     "output_type": "stream",
     "text": [
      "{1, 2, 3, 4, 5}\n"
     ]
    }
   ],
   "source": [
    "set1 = set((1, 2, 3, 4, 5))\n",
    "print(set1)"
   ]
  },
  {
   "cell_type": "markdown",
   "metadata": {},
   "source": [
    "#### Loop through a set"
   ]
  },
  {
   "cell_type": "code",
   "execution_count": 109,
   "metadata": {},
   "outputs": [
    {
     "name": "stdout",
     "output_type": "stream",
     "text": [
      "1\n",
      "2\n",
      "3\n",
      "4\n",
      "5\n"
     ]
    }
   ],
   "source": [
    "for i in set1:\n",
    "    print(i)"
   ]
  },
  {
   "cell_type": "code",
   "execution_count": 110,
   "metadata": {},
   "outputs": [
    {
     "name": "stdout",
     "output_type": "stream",
     "text": [
      "(0, 1)\n",
      "(1, 2)\n",
      "(2, 3)\n",
      "(3, 4)\n",
      "(4, 5)\n"
     ]
    }
   ],
   "source": [
    "for i in enumerate(set1):\n",
    "    print(i)"
   ]
  },
  {
   "cell_type": "markdown",
   "metadata": {},
   "source": [
    "#### Set Membership"
   ]
  },
  {
   "cell_type": "code",
   "execution_count": 111,
   "metadata": {},
   "outputs": [
    {
     "name": "stdout",
     "output_type": "stream",
     "text": [
      "True\n",
      "False\n"
     ]
    }
   ],
   "source": [
    "print(1 in set1)\n",
    "print(6 in set1)"
   ]
  },
  {
   "cell_type": "markdown",
   "metadata": {},
   "source": [
    "#### Add / Remove Items"
   ]
  },
  {
   "cell_type": "code",
   "execution_count": 112,
   "metadata": {},
   "outputs": [
    {
     "name": "stdout",
     "output_type": "stream",
     "text": [
      "{1, 2, 3, 4, 5}\n"
     ]
    }
   ],
   "source": [
    "set1 = {1, 2, 3, 4, 5}\n",
    "print(set1)\n"
   ]
  },
  {
   "cell_type": "code",
   "execution_count": 113,
   "metadata": {},
   "outputs": [
    {
     "name": "stdout",
     "output_type": "stream",
     "text": [
      "{1, 2, 3, 4, 5, 6}\n"
     ]
    }
   ],
   "source": [
    "# Add single item\n",
    "set1.add(6)\n",
    "print(set1)"
   ]
  },
  {
   "cell_type": "code",
   "execution_count": 114,
   "metadata": {},
   "outputs": [
    {
     "name": "stdout",
     "output_type": "stream",
     "text": [
      "{1, 2, 3, 4, 5, 6, 7, 8, 9}\n"
     ]
    }
   ],
   "source": [
    "# Add multiple item\n",
    "set1.update([7, 8, 9])\n",
    "print(set1)"
   ]
  },
  {
   "cell_type": "code",
   "execution_count": 115,
   "metadata": {},
   "outputs": [
    {
     "name": "stdout",
     "output_type": "stream",
     "text": [
      "{1, 2, 3, 4, 5, 6, 7, 8}\n",
      "{1, 2, 3, 4, 5, 6, 7}\n",
      "set()\n"
     ]
    }
   ],
   "source": [
    "set1 = {1, 2, 3, 4, 5, 6, 7, 8, 9}\n",
    "# Remove items using remove method\n",
    "set1.remove(9)\n",
    "print(set1)\n",
    "# Remove items using discard method\n",
    "set1.discard(8)\n",
    "print(set1)\n",
    "# Remove all items in a set\n",
    "set1.clear()\n",
    "print(set1)\n"
   ]
  },
  {
   "cell_type": "code",
   "execution_count": 116,
   "metadata": {},
   "outputs": [
    {
     "ename": "NameError",
     "evalue": "name 'set1' is not defined",
     "output_type": "error",
     "traceback": [
      "\u001b[1;31m---------------------------------------------------------------------------\u001b[0m",
      "\u001b[1;31mNameError\u001b[0m                                 Traceback (most recent call last)",
      "\u001b[1;32md:\\Projects\\Python\\python-starter\\PythonBasics.ipynb Cell 178'\u001b[0m in \u001b[0;36m<cell line: 3>\u001b[1;34m()\u001b[0m\n\u001b[0;32m      <a href='vscode-notebook-cell:/d%3A/Projects/Python/python-starter/PythonBasics.ipynb#ch0000177?line=0'>1</a>\u001b[0m \u001b[39m# Delete a set\u001b[39;00m\n\u001b[0;32m      <a href='vscode-notebook-cell:/d%3A/Projects/Python/python-starter/PythonBasics.ipynb#ch0000177?line=1'>2</a>\u001b[0m \u001b[39mdel\u001b[39;00m set1\n\u001b[1;32m----> <a href='vscode-notebook-cell:/d%3A/Projects/Python/python-starter/PythonBasics.ipynb#ch0000177?line=2'>3</a>\u001b[0m \u001b[39mprint\u001b[39m(set1)\n",
      "\u001b[1;31mNameError\u001b[0m: name 'set1' is not defined"
     ]
    }
   ],
   "source": [
    "# Delete a set\n",
    "del set1\n",
    "print(set1)"
   ]
  },
  {
   "cell_type": "markdown",
   "metadata": {},
   "source": [
    "#### Copy a set"
   ]
  },
  {
   "cell_type": "code",
   "execution_count": 117,
   "metadata": {},
   "outputs": [
    {
     "name": "stdout",
     "output_type": "stream",
     "text": [
      "1598260905120 1598260905120\n",
      "1598260905120 1598260904448\n",
      "{1, 2, 3, 4, 5, 6}\n",
      "{1, 2, 3, 4, 5, 6}\n",
      "{1, 2, 3, 4, 5}\n"
     ]
    }
   ],
   "source": [
    "set1 = {1, 2, 3, 4, 5}\n",
    "set2 = set1\n",
    "print(id(set1), id(set2)) # Same reference\n",
    "set3 = set1.copy()\n",
    "print(id(set1), id(set3)) # Different reference\n",
    "set1.add(6)\n",
    "print(set1)\n",
    "print(set2)\n",
    "print(set3)\n"
   ]
  },
  {
   "cell_type": "markdown",
   "metadata": {},
   "source": [
    "#### Set Operations"
   ]
  },
  {
   "cell_type": "markdown",
   "metadata": {},
   "source": [
    "##### Union"
   ]
  },
  {
   "cell_type": "code",
   "execution_count": 118,
   "metadata": {},
   "outputs": [
    {
     "name": "stdout",
     "output_type": "stream",
     "text": [
      "{1, 2, 3, 4, 5, 6, 7, 8}\n",
      "{1, 2, 3, 4, 5}\n",
      "{1, 2, 3, 4, 5, 6, 7, 8}\n"
     ]
    }
   ],
   "source": [
    "A = {1, 2, 3}\n",
    "B = {3, 4, 5}\n",
    "C = {5, 6, 7, 8}\n",
    "# Union of A and B (All elements from both sets. NO DUPLICATES)\n",
    "print(A | B | C)\n",
    "print(A.union(B))\n",
    "print(A.union(B, C))\n"
   ]
  },
  {
   "cell_type": "markdown",
   "metadata": {},
   "source": [
    "##### Intersection"
   ]
  },
  {
   "cell_type": "code",
   "execution_count": 119,
   "metadata": {},
   "outputs": [
    {
     "name": "stdout",
     "output_type": "stream",
     "text": [
      "{3}\n",
      "{3}\n",
      "{3}\n"
     ]
    }
   ],
   "source": [
    "A = {1, 2, 3}\n",
    "B = {3, 4, 5}\n",
    "C = {5, 6, 7, 8}\n",
    "# Intersection of A and B (Common items in both sets)\n",
    "print(A & B) \n",
    "print(A.intersection(B))\n",
    "A.intersection_update(B)\n",
    "print(A)\n"
   ]
  },
  {
   "cell_type": "markdown",
   "metadata": {},
   "source": [
    "##### Difference"
   ]
  },
  {
   "cell_type": "code",
   "execution_count": 120,
   "metadata": {},
   "outputs": [
    {
     "name": "stdout",
     "output_type": "stream",
     "text": [
      "{1, 2}\n",
      "{1, 2}\n",
      "{1, 2, 3}\n",
      "{1, 2}\n"
     ]
    }
   ],
   "source": [
    "A = {1, 2, 3}\n",
    "B = {3, 4, 5}\n",
    "C = {5, 6, 7, 8}\n",
    "# set of elements that are only in B but not in A\n",
    "print(A - B)\n",
    "print(A.difference(B))\n",
    "print(A)\n",
    "A.difference_update(B)\n",
    "print(A)"
   ]
  },
  {
   "cell_type": "code",
   "execution_count": 121,
   "metadata": {},
   "outputs": [
    {
     "name": "stdout",
     "output_type": "stream",
     "text": [
      "{1, 2}\n",
      "{1, 2}\n",
      "{1, 2, 3}\n",
      "{1, 2}\n"
     ]
    }
   ],
   "source": [
    "A = {1, 2, 3}\n",
    "B = {3, 4, 5}\n",
    "C = {5, 6, 7, 8}\n",
    "# set of elements that are only in B but not in A\n",
    "print(A - B)\n",
    "print(A.difference(B))\n",
    "print(A)\n",
    "A.difference_update(B)\n",
    "print(A)"
   ]
  },
  {
   "cell_type": "markdown",
   "metadata": {},
   "source": [
    "##### Symmetric Difference"
   ]
  },
  {
   "cell_type": "code",
   "execution_count": 122,
   "metadata": {},
   "outputs": [
    {
     "name": "stdout",
     "output_type": "stream",
     "text": [
      "{1, 2, 4, 5}\n",
      "{1, 2, 4, 5}\n",
      "{1, 2, 3}\n",
      "{1, 2, 4, 5}\n"
     ]
    }
   ],
   "source": [
    "A = {1, 2, 3}\n",
    "B = {3, 4, 5}\n",
    "C = {5, 6, 7, 8}\n",
    "# Symmetric difference (Set of elements in A and B but not in both. \"EXCLUDED\")\n",
    "print(A ^ B)\n",
    "print(A.symmetric_difference(B))\n",
    "print(A)\n",
    "A.symmetric_difference_update(B)\n",
    "print(A)"
   ]
  },
  {
   "cell_type": "markdown",
   "metadata": {},
   "source": [
    "##### Subset, Superset & Disjoint"
   ]
  },
  {
   "cell_type": "code",
   "execution_count": 123,
   "metadata": {},
   "outputs": [
    {
     "name": "stdout",
     "output_type": "stream",
     "text": [
      "True\n",
      "True\n",
      "True\n",
      "False\n"
     ]
    }
   ],
   "source": [
    "A = {1, 2, 3, 4, 5, 6, 7, 8, 9}\n",
    "B = {3, 4, 5, 4, 5}\n",
    "C = {10, 20, 30}\n",
    "print(A.issuperset(B)) # A is superset if it contains all elements of B\n",
    "print(B.issubset(A)) # B is subset is all elements are available in A\n",
    "print(C.isdisjoint(A)) # C is disjoint of A since there are no common elements\n",
    "print(B.isdisjoint(A))"
   ]
  },
  {
   "cell_type": "markdown",
   "metadata": {},
   "source": [
    "##### Other Built-In Functions"
   ]
  },
  {
   "cell_type": "code",
   "execution_count": 124,
   "metadata": {},
   "outputs": [
    {
     "name": "stdout",
     "output_type": "stream",
     "text": [
      "1\n",
      "9\n",
      "45\n",
      "9\n"
     ]
    }
   ],
   "source": [
    "A = {1, 2, 3, 4, 5, 6, 7, 8, 9}\n",
    "B = {3, 4, 5, 4, 5}\n",
    "C = {10, 20, 30}\n",
    "print(min(A))\n",
    "print(max(A))\n",
    "print(sum(A))\n",
    "print(len(A))\n"
   ]
  },
  {
   "cell_type": "markdown",
   "metadata": {},
   "source": [
    "### Dictionary"
   ]
  },
  {
   "cell_type": "markdown",
   "metadata": {},
   "source": [
    "Dictionary is a mutable data type in Python.\n",
    "\n",
    "A python dictionary is a collection of key and value pairs separated by a colon (:) & enclosedin curly braces {}.\n",
    "\n",
    "Keys must be unique in a dictionary, duplicate values are allowed."
   ]
  },
  {
   "cell_type": "markdown",
   "metadata": {},
   "source": [
    "##### Create Dictionary"
   ]
  },
  {
   "cell_type": "code",
   "execution_count": 125,
   "metadata": {},
   "outputs": [
    {
     "name": "stdout",
     "output_type": "stream",
     "text": [
      "{}\n",
      "{}\n"
     ]
    }
   ],
   "source": [
    "dict1 = dict()\n",
    "print(dict1)\n",
    "dict1 = {}\n",
    "print(dict1)"
   ]
  },
  {
   "cell_type": "code",
   "execution_count": 126,
   "metadata": {},
   "outputs": [
    {
     "name": "stdout",
     "output_type": "stream",
     "text": [
      "{1: 'one', 2: 'two', 3: 'three', 4: 'four', 5: 'five'}\n",
      "{1: 'one', 2: 'two', 3: 'three', 4: 'four', 5: 'five'}\n"
     ]
    }
   ],
   "source": [
    "# Dictionary with integer keys\n",
    "dict1 = {1: 'one', 2: 'two', 3: 'three', 4: 'four', 5: 'five'}\n",
    "print(dict1)\n",
    "# Dictionary with integer keys using dict method\n",
    "dict1 = dict({1: 'one', 2: 'two', 3: 'three', 4: 'four', 5: 'five'})\n",
    "print(dict1)"
   ]
  },
  {
   "cell_type": "code",
   "execution_count": 127,
   "metadata": {},
   "outputs": [
    {
     "name": "stdout",
     "output_type": "stream",
     "text": [
      "{'A': 'Apple', 'B': 'Ball', 'C': 'Cat', 'D': 'Dog', 'E': 'Elephant'}\n",
      "{'A': 'Apple', 'B': 'Ball', 'C': 'Cat', 'D': 'Dog', 'E': 'Elephant'}\n"
     ]
    }
   ],
   "source": [
    "# Dictionary with character keys\n",
    "dict1 = {'A': 'Apple', 'B': 'Ball', 'C': 'Cat', 'D': 'Dog', 'E': 'Elephant'}\n",
    "print(dict1)\n",
    "# Dictionary with character keys using dict method\n",
    "dict1 = dict({'A': 'Apple', 'B': 'Ball', 'C': 'Cat', 'D': 'Dog', 'E': 'Elephant'})\n",
    "print(dict1)"
   ]
  },
  {
   "cell_type": "code",
   "execution_count": 128,
   "metadata": {},
   "outputs": [
    {
     "name": "stdout",
     "output_type": "stream",
     "text": [
      "{1: 'one', 'A': {'Axe', 'Apple'}, 'B': ('Ball', 'Box'), 'C': ['Cat', 'Cartoon']}\n"
     ]
    }
   ],
   "source": [
    "# Dictionary with mixed keys and values\n",
    "dict1 = {1: 'one', 'A': {'Apple', 'Axe'}, 'B': ('Ball', 'Box'), 'C': ['Cat', 'Cartoon']}\n",
    "print(dict1)"
   ]
  },
  {
   "cell_type": "code",
   "execution_count": 129,
   "metadata": {},
   "outputs": [
    {
     "name": "stdout",
     "output_type": "stream",
     "text": [
      "dict_keys([1, 'A', 'B', 'C'])\n",
      "dict_values(['one', {'Axe', 'Apple'}, ('Ball', 'Box'), ['Cat', 'Cartoon']])\n",
      "dict_items([(1, 'one'), ('A', {'Axe', 'Apple'}), ('B', ('Ball', 'Box')), ('C', ['Cat', 'Cartoon'])])\n"
     ]
    }
   ],
   "source": [
    "print(dict1.keys())\n",
    "print(dict1.values())\n",
    "print(dict1.items())\n"
   ]
  },
  {
   "cell_type": "code",
   "execution_count": 130,
   "metadata": {},
   "outputs": [
    {
     "name": "stdout",
     "output_type": "stream",
     "text": [
      "{1: None, 2: None, 3: None, 4: None, 5: None}\n",
      "{1: 10, 2: 10, 3: 10, 4: 10, 5: 10}\n",
      "{1: [10, 20, 30], 2: [10, 20, 30], 3: [10, 20, 30], 4: [10, 20, 30], 5: [10, 20, 30]}\n",
      "{1: [10, 20, 30, 40], 2: [10, 20, 30, 40], 3: [10, 20, 30, 40], 4: [10, 20, 30, 40], 5: [10, 20, 30, 40]}\n"
     ]
    }
   ],
   "source": [
    "keys = {1, 2, 3, 4, 5} # Set of keys\n",
    "dict2 = dict.fromkeys(keys) # None is assigned if there are no values supplied.\n",
    "print(dict2)\n",
    "value = 10\n",
    "dict3 = dict.fromkeys(keys, value) # Passing the value when creating a dictionary\n",
    "print(dict3)\n",
    "list1 = [10, 20, 30]\n",
    "dict4 = dict.fromkeys(keys, list1)\n",
    "print(dict4)\n",
    "list1.append(40) # Updated the reference in dictionary\n",
    "print(dict4)"
   ]
  },
  {
   "cell_type": "markdown",
   "metadata": {},
   "source": [
    "##### Accessing Items"
   ]
  },
  {
   "cell_type": "code",
   "execution_count": 131,
   "metadata": {},
   "outputs": [
    {
     "name": "stdout",
     "output_type": "stream",
     "text": [
      "{1: 'one', 2: 'two', 3: 'three', 4: 'four', 5: 'five'}\n",
      "one\n",
      "two\n"
     ]
    }
   ],
   "source": [
    "dict1 = {1: 'one', 2: 'two', 3: 'three', 4: 'four', 5: 'five'}\n",
    "print(dict1)\n",
    "print(dict1[1]) # Access with the keys\n",
    "print(dict1.get(2)) # Access with the get method"
   ]
  },
  {
   "cell_type": "markdown",
   "metadata": {},
   "source": [
    "##### Add or Change Items"
   ]
  },
  {
   "cell_type": "code",
   "execution_count": 132,
   "metadata": {},
   "outputs": [
    {
     "name": "stdout",
     "output_type": "stream",
     "text": [
      "{'A': 'Apple', 'B': 'Ball', 'C': 'Cat', 'D': 'Dog', 'E': 'Elephant'}\n",
      "{'A': 'Apple', 'B': 'Basket', 'C': 'Cat', 'D': 'Dog', 'E': 'Elephant'}\n",
      "{'A': 'Apple', 'B': 'Basket', 'C': 'Cat', 'D': 'Dog', 'E': 'Elephant', 'F': 'Forest'}\n",
      "{'A': 'Apple', 'B': 'Basket', 'C': 'Cat', 'D': 'Dog', 'E': 'Elephant', 'F': 'Food', 'G': 'Gallery'}\n"
     ]
    }
   ],
   "source": [
    "dict1 = {'A': 'Apple', 'B': 'Ball', 'C': 'Cat', 'D': 'Dog', 'E': 'Elephant'}\n",
    "print(dict1)\n",
    "dict1['B'] = 'Basket' # Updating a dictionary key value\n",
    "print(dict1)\n",
    "dict1['F'] = 'Forest' # Update adds a new item if not available and updates if available\n",
    "print(dict1)\n",
    "dict2 = {'F': 'Food', 'G': 'Gallery'}\n",
    "dict1.update(dict2) # Update adds a new item if not available and updates if available\n",
    "print(dict1)\n"
   ]
  },
  {
   "cell_type": "markdown",
   "metadata": {},
   "source": [
    "#### Remove Items"
   ]
  },
  {
   "cell_type": "code",
   "execution_count": 133,
   "metadata": {},
   "outputs": [
    {
     "name": "stdout",
     "output_type": "stream",
     "text": [
      "{'A': 'Apple', 'B': 'Ball', 'C': 'Cat', 'D': 'Dog'}\n",
      "{'A': 'Apple', 'B': 'Ball', 'C': 'Cat'}\n",
      "{'A': 'Apple', 'B': 'Ball'}\n",
      "{}\n"
     ]
    },
    {
     "ename": "NameError",
     "evalue": "name 'dict1' is not defined",
     "output_type": "error",
     "traceback": [
      "\u001b[1;31m---------------------------------------------------------------------------\u001b[0m",
      "\u001b[1;31mNameError\u001b[0m                                 Traceback (most recent call last)",
      "\u001b[1;32md:\\Projects\\Python\\python-starter\\PythonBasics.ipynb Cell 209'\u001b[0m in \u001b[0;36m<cell line: 11>\u001b[1;34m()\u001b[0m\n\u001b[0;32m      <a href='vscode-notebook-cell:/d%3A/Projects/Python/python-starter/PythonBasics.ipynb#ch0000208?line=8'>9</a>\u001b[0m \u001b[39mprint\u001b[39m(dict1)\n\u001b[0;32m     <a href='vscode-notebook-cell:/d%3A/Projects/Python/python-starter/PythonBasics.ipynb#ch0000208?line=9'>10</a>\u001b[0m \u001b[39mdel\u001b[39;00m dict1 \u001b[39m# Deleting the dictionary with del\u001b[39;00m\n\u001b[1;32m---> <a href='vscode-notebook-cell:/d%3A/Projects/Python/python-starter/PythonBasics.ipynb#ch0000208?line=10'>11</a>\u001b[0m \u001b[39mprint\u001b[39m(dict1)\n",
      "\u001b[1;31mNameError\u001b[0m: name 'dict1' is not defined"
     ]
    }
   ],
   "source": [
    "dict1 = {'A': 'Apple', 'B': 'Ball', 'C': 'Cat', 'D': 'Dog', 'E': 'Elephant'}\n",
    "dict1.pop('E') # Removes the item with keys\n",
    "print(dict1)\n",
    "dict1.popitem() # Removes the last item\n",
    "print(dict1)\n",
    "del[dict1['C']] # Removing item with del\n",
    "print(dict1)\n",
    "dict1.clear() # Removing all items with clear()\n",
    "print(dict1)\n",
    "del dict1 # Deleting the dictionary with del\n",
    "print(dict1)"
   ]
  },
  {
   "cell_type": "markdown",
   "metadata": {},
   "source": [
    "#### Copy Dictionary"
   ]
  },
  {
   "cell_type": "code",
   "execution_count": 134,
   "metadata": {},
   "outputs": [
    {
     "name": "stdout",
     "output_type": "stream",
     "text": [
      "{'A': 'Apple', 'B': 'Brain', 'C': 'Cat', 'D': 'Dog', 'E': 'Elephant'} 0x1741fc4de00\n",
      "{'A': 'Apple', 'B': 'Brain', 'C': 'Cat', 'D': 'Dog', 'E': 'Elephant'} 0x1741fc4de00\n",
      "{'A': 'Apple', 'B': 'Ball', 'C': 'Cat', 'D': 'Dog', 'E': 'Elephant'} 0x1741dfd5b00\n"
     ]
    }
   ],
   "source": [
    "dict1 = {'A': 'Apple', 'B': 'Ball', 'C': 'Cat', 'D': 'Dog', 'E': 'Elephant'}\n",
    "dict2 = dict1 # Same reference\n",
    "dict3 = dict1.copy() # Different reference\n",
    "dict1['B'] = 'Brain'\n",
    "\n",
    "print(dict1, hex(id(dict1)))\n",
    "print(dict2, hex(id(dict2))) # This is updated since the reference is same\n",
    "print(dict3, hex(id(dict3))) # This is not updated since the reference is different"
   ]
  },
  {
   "cell_type": "markdown",
   "metadata": {},
   "source": [
    "#### Loop through a dictionary"
   ]
  },
  {
   "cell_type": "code",
   "execution_count": 135,
   "metadata": {},
   "outputs": [
    {
     "name": "stdout",
     "output_type": "stream",
     "text": [
      "A\n",
      "B\n",
      "C\n",
      "D\n",
      "E\n",
      "Apple\n",
      "Ball\n",
      "Cat\n",
      "Dog\n",
      "Elephant\n",
      "('A', 'Apple')\n",
      "('B', 'Ball')\n",
      "('C', 'Cat')\n",
      "('D', 'Dog')\n",
      "('E', 'Elephant')\n",
      "['A', 'Apple']\n",
      "['B', 'Ball']\n",
      "['C', 'Cat']\n",
      "['D', 'Dog']\n",
      "['E', 'Elephant']\n"
     ]
    }
   ],
   "source": [
    "dict1 = {'A': 'Apple', 'B': 'Ball', 'C': 'Cat', 'D': 'Dog', 'E': 'Elephant'}\n",
    "\n",
    "# Printing only the keys\n",
    "for i in dict1.keys():\n",
    "    print(i)\n",
    "    \n",
    "# Printing only the values\n",
    "for i in dict1.values():\n",
    "    print(i)\n",
    "    \n",
    "# Printing keys and values\n",
    "for i in dict1.items():\n",
    "    print(i)\n",
    "\n",
    "# Printing keys and values as list\n",
    "for i in dict1.keys():\n",
    "    print([i, dict1[i]])\n"
   ]
  },
  {
   "cell_type": "markdown",
   "metadata": {},
   "source": [
    "#### Dictionary Membership"
   ]
  },
  {
   "cell_type": "code",
   "execution_count": 136,
   "metadata": {},
   "outputs": [
    {
     "name": "stdout",
     "output_type": "stream",
     "text": [
      "True\n",
      "False\n"
     ]
    }
   ],
   "source": [
    "dict1 = {'A': 'Apple', 'B': 'Ball', 'C': 'Cat', 'D': 'Dog', 'E': 'Elephant'}\n",
    "print('A' in dict1) \n",
    "print('Apple' in dict1) # Only the keys can be checked in dictionary membership"
   ]
  },
  {
   "cell_type": "markdown",
   "metadata": {},
   "source": [
    "#### All / Any"
   ]
  },
  {
   "cell_type": "code",
   "execution_count": 137,
   "metadata": {},
   "outputs": [
    {
     "name": "stdout",
     "output_type": "stream",
     "text": [
      "True\n",
      "True\n",
      "{1: 'one', 2: 'two', 3: 'three', 4: 'four', 5: 'five', 0: 1}\n",
      "False\n",
      "True\n"
     ]
    }
   ],
   "source": [
    "dict1 = {1: 'one', 2: 'two', 3: 'three', 4: 'four', 5: 'five'}\n",
    "print(all(dict1)) # Prints true if all keys are truthy\n",
    "print(any(dict1)) # Prints true if any one of the keys is truthy\n",
    "dict1.update({0: 1})\n",
    "print(dict1)\n",
    "print(all(dict1))\n",
    "print(any(dict1))"
   ]
  },
  {
   "cell_type": "markdown",
   "metadata": {},
   "source": [
    "#### Dictionary Comprehension"
   ]
  },
  {
   "cell_type": "code",
   "execution_count": 138,
   "metadata": {},
   "outputs": [
    {
     "name": "stdout",
     "output_type": "stream",
     "text": [
      "{1: 'one', 2: 'two', 3: 'three', 4: 'four', 5: 'five'}\n",
      "{1: 'one - 1', 2: 'two - 2', 3: 'three - 3', 4: 'four - 4', 5: 'five - 5'}\n",
      "{0: 0, 1: 1, 2: 4, 3: 9, 4: 16, 5: 25, 6: 36, 7: 49, 8: 64, 9: 81}\n",
      "{'one': 1, 'two': 2, 'three': 3, 'four': 4, 'five': 5}\n",
      "{'one': 0.1, 'two': 0.2, 'three': 0.3, 'four': 0.4, 'five': 0.5}\n",
      "{0: 'H', 1: 'e', 2: 'l', 3: 'l', 4: 'o', 5: ' ', 6: 'P', 7: 'y', 8: 't', 9: 'h', 10: 'o', 11: 'n'}\n"
     ]
    }
   ],
   "source": [
    "dict1 = {1: 'one', 2: 'two', 3: 'three', 4: 'four', 5: 'five'}\n",
    "print(dict1)\n",
    "print({i: dict1[i] + ' - ' + str(i) for i in dict1.keys()})\n",
    "print({i: i * i for i in range(10)}) # Dictionary of squares\n",
    "\n",
    "keys = ['one', 'two', 'three', 'four', 'five']\n",
    "values = (1, 2, 3, 4, 5)\n",
    "dict1 = {k:v for (k, v) in zip(keys, values)} # Combining a tuple and list to create a dictionary\n",
    "print(dict1)\n",
    "dict2 = {k:v/10 for (k,v) in dict1.items()} # Dividing each item in a dictionary\n",
    "print(dict2)\n",
    "str1 = 'Hello Python'\n",
    "dict3 = {k:v for (k,v) in enumerate(str1)} # Index and the character in dictionary\n",
    "print(dict3)\n",
    "dict4 = {i:i.upper() for i in str1} # Convert to upper and store in dictionary"
   ]
  },
  {
   "cell_type": "code",
   "execution_count": 139,
   "metadata": {},
   "outputs": [
    {
     "name": "stdout",
     "output_type": "stream",
     "text": [
      "['one', 'two', 'three', 'four', 'one', 'two', 'two', 'three', 'five', 'five', 'six', 'seven', 'six', 'seven', 'one']\n",
      "{'six', 'two', 'seven', 'four', 'five', 'one', 'three'}\n",
      "{'six': 0, 'two': 0, 'seven': 0, 'four': 0, 'five': 0, 'one': 0, 'three': 0}\n",
      "{'six': 2, 'two': 3, 'seven': 2, 'four': 1, 'five': 2, 'one': 3, 'three': 2}\n"
     ]
    }
   ],
   "source": [
    "# Word frequency using dictionary\n",
    "str1 = 'one two three four one two two three five five six seven six seven one'\n",
    "list1 = str1.split()\n",
    "print(list1)\n",
    "set1 = set(list1)\n",
    "print(set1)\n",
    "initial_count = 0\n",
    "word_freq_dict1 = {i: initial_count for i in set1}\n",
    "print(word_freq_dict1)\n",
    "for i in set1:\n",
    "    for j in list1:\n",
    "        if(i == j):\n",
    "            word_freq_dict1[i] = word_freq_dict1[i]+1\n",
    "\n",
    "print(word_freq_dict1)\n",
    "            \n",
    "            \n",
    "            "
   ]
  },
  {
   "cell_type": "markdown",
   "metadata": {},
   "source": [
    "## Operators"
   ]
  },
  {
   "cell_type": "markdown",
   "metadata": {},
   "source": [
    "Operators are special symbols in Python which are used to perform operations on variables/values."
   ]
  },
  {
   "cell_type": "markdown",
   "metadata": {},
   "source": [
    "### Arithmetic Operators "
   ]
  },
  {
   "cell_type": "code",
   "execution_count": 140,
   "metadata": {},
   "outputs": [
    {
     "name": "stdout",
     "output_type": "stream",
     "text": [
      "10 20 30 40 50\n"
     ]
    }
   ],
   "source": [
    "a = 10\n",
    "b = 20\n",
    "c = 30\n",
    "d = 40\n",
    "e = 50\n",
    "print(a, b, c, d, e)\n"
   ]
  },
  {
   "cell_type": "code",
   "execution_count": 141,
   "metadata": {},
   "outputs": [
    {
     "name": "stdout",
     "output_type": "stream",
     "text": [
      "Adding 10 and 20 will give 30\n",
      "Subracting 10 and 20 will give -10\n",
      "Multiplying 10 and 20 will give 200\n",
      "Dividing 10 and 20 will give 0.5\n",
      "Modulo of 10 and 20 will give 10\n",
      "10 power 20 will give 100000000000000000000\n",
      "Floor division of 10 and 20 will give 0\n"
     ]
    }
   ],
   "source": [
    "print('Adding {} and {} will give {}'.format(a, b, a + b))\n",
    "print('Subracting {} and {} will give {}'.format(a, b, a - b))\n",
    "print('Multiplying {} and {} will give {}'.format(a, b, a * b))\n",
    "print('Dividing {} and {} will give {}'.format(a, b, a / b))\n",
    "print('Modulo of {} and {} will give {}'.format(a, b, a % b))\n",
    "print('{} power {} will give {}'.format(a, b, a ** b))\n",
    "print('Floor division of {} and {} will give {}'.format(a, b, a // b))"
   ]
  },
  {
   "cell_type": "markdown",
   "metadata": {},
   "source": [
    "### Comparison Operators"
   ]
  },
  {
   "cell_type": "code",
   "execution_count": 142,
   "metadata": {},
   "outputs": [
    {
     "name": "stdout",
     "output_type": "stream",
     "text": [
      "Is 10 greater than 20: False\n",
      "Is 10 less than 20: True\n",
      "Is 10 equals to 20: False\n",
      "Is 10 not equals to 20: True\n",
      "Is 10 greater than or equal to 20: False\n",
      "Is 10 less than or equal to 20: True\n"
     ]
    }
   ],
   "source": [
    "print('Is {} greater than {}: {}'.format(a, b, a > b))\n",
    "print('Is {} less than {}: {}'.format(a, b, a < b))\n",
    "print('Is {} equals to {}: {}'.format(a, b, a == b))\n",
    "print('Is {} not equals to {}: {}'.format(a, b, a != b))\n",
    "print('Is {} greater than or equal to {}: {}'.format(a, b, a >= b))\n",
    "print('Is {} less than or equal to {}: {}'.format(a, b, a <= b))"
   ]
  },
  {
   "cell_type": "code",
   "execution_count": 143,
   "metadata": {},
   "outputs": [
    {
     "name": "stdout",
     "output_type": "stream",
     "text": [
      "Is Apple equals to Orange: False\n",
      "Is Apple equals to Apple: True\n",
      "Is Apple equals to apple: False\n"
     ]
    }
   ],
   "source": [
    "# String comparison\n",
    "str1 = 'Apple'\n",
    "str2 = 'Orange'\n",
    "str3 = 'Apple'\n",
    "str4 = 'apple'\n",
    "print('Is {} equals to {}: {}'.format(str1, str2, str1 == str2))\n",
    "print('Is {} equals to {}: {}'.format(str1, str3, str1 == str3))\n",
    "print('Is {} equals to {}: {}'.format(str1, str4, str1 == str4)) # Case sensitive"
   ]
  },
  {
   "cell_type": "markdown",
   "metadata": {},
   "source": [
    "### Assignment Operators"
   ]
  },
  {
   "cell_type": "code",
   "execution_count": 144,
   "metadata": {},
   "outputs": [
    {
     "name": "stdout",
     "output_type": "stream",
     "text": [
      "10\n",
      "20\n",
      "0\n",
      "100\n",
      "1.0\n",
      "10000000000\n",
      "1\n",
      "0\n"
     ]
    }
   ],
   "source": [
    "x = 10\n",
    "print(x)\n",
    "\n",
    "x = 10\n",
    "x += 10\n",
    "print(x)\n",
    "\n",
    "x = 10\n",
    "x -= 10\n",
    "print(x)\n",
    "\n",
    "x = 10\n",
    "x *= 10\n",
    "print(x)\n",
    "\n",
    "x = 10\n",
    "x /= 10\n",
    "print(x)\n",
    "\n",
    "x = 10\n",
    "x **= 10\n",
    "print(x)\n",
    "\n",
    "x = 10\n",
    "x //= 10\n",
    "print(x)\n",
    "\n",
    "x = 10\n",
    "x %= 10\n",
    "print(x)"
   ]
  },
  {
   "cell_type": "code",
   "execution_count": 145,
   "metadata": {},
   "outputs": [
    {
     "name": "stdout",
     "output_type": "stream",
     "text": [
      "2\n",
      "10\n",
      "8\n",
      "40\n",
      "2\n"
     ]
    }
   ],
   "source": [
    "# Bitwise assignment operations\n",
    "y = 10\n",
    "y &= 2\n",
    "print(y)\n",
    "\n",
    "y = 10\n",
    "y |= 2\n",
    "print(y)\n",
    "\n",
    "y = 10\n",
    "y ^= 2\n",
    "print(y)\n",
    "\n",
    "y = 10\n",
    "y <<= 2\n",
    "print(y)\n",
    "\n",
    "y = 10\n",
    "y >>= 2\n",
    "print(y)"
   ]
  },
  {
   "cell_type": "markdown",
   "metadata": {},
   "source": [
    "### Membership Operators"
   ]
  },
  {
   "cell_type": "code",
   "execution_count": 146,
   "metadata": {},
   "outputs": [
    {
     "name": "stdout",
     "output_type": "stream",
     "text": [
      "True\n",
      "True\n"
     ]
    }
   ],
   "source": [
    "str1 = 'Hello Python'\n",
    "print('Python' in str1)\n",
    "print('Java' not in str1)"
   ]
  },
  {
   "cell_type": "markdown",
   "metadata": {},
   "source": [
    "## Functions"
   ]
  },
  {
   "cell_type": "markdown",
   "metadata": {},
   "source": [
    "A function is a block of organized code written to carry out a specified task.\n",
    "\n",
    "Functions help break our program into smaller and modular chunks for better readability.\n",
    "\n",
    "Information can be passed into a function as arguments.\n",
    "\n",
    "Parameters are specified after the function name inside the parentheses.\n",
    "\n",
    "We can add as many parameters as we want. Parameters must be separated with a comma.\n",
    "\n",
    "A function may or may not return data.\n",
    "\n",
    "In Python a function is defined using the def keyword"
   ]
  },
  {
   "cell_type": "markdown",
   "metadata": {},
   "source": [
    "### Parameter vs Argument"
   ]
  },
  {
   "cell_type": "markdown",
   "metadata": {},
   "source": [
    "A parameter is the variable listed inside the parentheses in the function definition.\n",
    "\n",
    "An argument is the value that is sent to the function when it is called."
   ]
  },
  {
   "cell_type": "markdown",
   "metadata": {},
   "source": [
    "### Types of functions"
   ]
  },
  {
   "cell_type": "markdown",
   "metadata": {},
   "source": [
    "Built-in function: Python predefined functions that are readily available for use like min() ,max() , sum() , print() etc.\n",
    "\n",
    "User-Defined Functions: Function that we define ourselves to perform a specific task.\n",
    "\n",
    "Anonymous functions: Function that is defined without a name. Anonymous functions are also called as lambda functions. They are not declared with the def keyword."
   ]
  },
  {
   "cell_type": "code",
   "execution_count": 147,
   "metadata": {},
   "outputs": [
    {
     "name": "stdout",
     "output_type": "stream",
     "text": [
      "Greets the user.\n",
      "Hello!\n",
      "841\n"
     ]
    }
   ],
   "source": [
    "def greet_user():\n",
    "    '''Greets the user.'''\n",
    "    print('Hello!')\n",
    "\n",
    "print(greet_user.__doc__)\n",
    "greet_user()\n",
    "\n",
    "def square(num):\n",
    "    '''Prints the square of the number.'''\n",
    "    print(num * num)\n",
    "    \n",
    "square(29)"
   ]
  },
  {
   "cell_type": "code",
   "execution_count": 148,
   "metadata": {},
   "outputs": [
    {
     "name": "stdout",
     "output_type": "stream",
     "text": [
      "Hello guest!\n",
      "Hello krishna!\n"
     ]
    }
   ],
   "source": [
    "# Function with default values\n",
    "def whoami(name='guest'):\n",
    "    '''Prints the passed username with a greeting message'''\n",
    "    print('Hello {}!'.format(name))\n",
    "    \n",
    "whoami()\n",
    "whoami('krishna')"
   ]
  },
  {
   "cell_type": "code",
   "execution_count": 149,
   "metadata": {},
   "outputs": [
    {
     "name": "stdout",
     "output_type": "stream",
     "text": [
      "you are krishna\n",
      "you are guest\n"
     ]
    }
   ],
   "source": [
    "# Variables\n",
    "name = 'guest'\n",
    "def login(name):\n",
    "    print('you are {}'.format(name))\n",
    "\n",
    "login('krishna') # Local variable\n",
    "print('you are {}'.format(name)) # Global variable"
   ]
  },
  {
   "cell_type": "code",
   "execution_count": 150,
   "metadata": {},
   "outputs": [
    {
     "name": "stdout",
     "output_type": "stream",
     "text": [
      "[1, 2, 3, 4, 5]\n",
      "[1, 2, 3, 4, 5, 6]\n"
     ]
    }
   ],
   "source": [
    "def insert_to_list(list1, num):\n",
    "    list1.append(num)\n",
    "\n",
    "list1 = [1,2,3,4,5]\n",
    "print(list1) # Before calling the list.\n",
    "insert_to_list(list1, 6) # Called by reference so the actual list is updated.\n",
    "print(list1)"
   ]
  },
  {
   "cell_type": "code",
   "execution_count": 151,
   "metadata": {},
   "outputs": [
    {
     "name": "stdout",
     "output_type": "stream",
     "text": [
      "15\n"
     ]
    }
   ],
   "source": [
    "# Sum of first N natural numbers\n",
    "def sum_of_natural_numbers(num):\n",
    "    if(num == 0):\n",
    "        return 0\n",
    "    else:\n",
    "        return num + sum_of_natural_numbers(num - 1)\n",
    "    \n",
    "print(sum_of_natural_numbers(5))"
   ]
  },
  {
   "cell_type": "code",
   "execution_count": 152,
   "metadata": {},
   "outputs": [
    {
     "name": "stdout",
     "output_type": "stream",
     "text": [
      "\n",
      "****************************************************************************************************\n",
      "\n"
     ]
    }
   ],
   "source": [
    "def print_border():\n",
    "    print('\\n' + str().center(100, '*') + '\\n')\n",
    "    \n",
    "print_border()\n"
   ]
  },
  {
   "cell_type": "markdown",
   "metadata": {},
   "source": [
    "## args and kwargs"
   ]
  },
  {
   "cell_type": "markdown",
   "metadata": {},
   "source": [
    "### *args"
   ]
  },
  {
   "cell_type": "markdown",
   "metadata": {},
   "source": [
    "When we are not sure about the number of arguments being passed to a function then we canuse *args as function parameter.\n",
    "\n",
    "*args allow us to pass the variable number of\n",
    "\n",
    "Non Keyword Arguments to function.\n",
    "\n",
    "We can simply use an asterisk * before the parameter name to pass variable lengtharguments.\n",
    "\n",
    "The arguments are always passed as a tuple.\n",
    "\n",
    "We can rename it to anything as long as it is preceded by a single asterisk (*). It's bestpractice to keep naming it args to make it immediately recognizable."
   ]
  },
  {
   "cell_type": "code",
   "execution_count": 153,
   "metadata": {},
   "outputs": [
    {
     "name": "stdout",
     "output_type": "stream",
     "text": [
      "15\n",
      "150\n",
      "1500\n",
      "6\n"
     ]
    }
   ],
   "source": [
    "def print_sum(*args):\n",
    "    print(sum(args))\n",
    "    \n",
    "print_sum(1,2,3,4,5)\n",
    "\n",
    "list1 = [10,20,30,40,50]\n",
    "tup1 = (100,200,300,400,500)\n",
    "set1 = {1,2,3}\n",
    "print_sum(*list1) # Add asterisk before when passing a collection like list, tuple or set.\n",
    "print_sum(*tup1)\n",
    "print_sum(*set1)"
   ]
  },
  {
   "cell_type": "code",
   "execution_count": 154,
   "metadata": {},
   "outputs": [
    {
     "name": "stdout",
     "output_type": "stream",
     "text": [
      "(1, 'Krishna', 'India', 'Freelancer')\n"
     ]
    }
   ],
   "source": [
    "def print_args(*args):\n",
    "    print(args)\n",
    "    \n",
    "print_args(1, 'Krishna', 'India', 'Freelancer') # If we need to add a key for each value we need kwargs"
   ]
  },
  {
   "cell_type": "markdown",
   "metadata": {},
   "source": [
    "### **kwargs"
   ]
  },
  {
   "cell_type": "markdown",
   "metadata": {},
   "source": [
    "**kwargs allows us to pass the variable number of Keyword Arguments to the function.\n",
    "\n",
    "We can simply use an double asterisk ** before the parameter name to pass variable lengtharguments.\n",
    "\n",
    "The arguments are passed as a dictionary.\n",
    "\n",
    "We can rename it to anything as long as it is preceded by a double asterisk (**). It's bestpractice to keep naming it kwargs to make it immediately recognizable."
   ]
  },
  {
   "cell_type": "code",
   "execution_count": 155,
   "metadata": {},
   "outputs": [
    {
     "name": "stdout",
     "output_type": "stream",
     "text": [
      "{'id': 1, 'name': 'Krishna', 'country': 'India', 'job': 'Freelancer'}\n"
     ]
    }
   ],
   "source": [
    "def print_kwargs(**kwargs):\n",
    "    print(kwargs)\n",
    "    \n",
    "print_kwargs(id=1, name='Krishna', country='India', job='Freelancer') "
   ]
  },
  {
   "cell_type": "code",
   "execution_count": 156,
   "metadata": {},
   "outputs": [
    {
     "name": "stdout",
     "output_type": "stream",
     "text": [
      "id: 1\n",
      "name: Krishna\n",
      "country: India\n",
      "job: Freelancer\n"
     ]
    }
   ],
   "source": [
    "def print_kwargs(**kwargs):\n",
    "    for k,v in kwargs.items():\n",
    "        print('{}: {}'.format(k,v))\n",
    "    \n",
    "print_kwargs(id=1, name='Krishna', country='India', job='Freelancer') "
   ]
  },
  {
   "cell_type": "markdown",
   "metadata": {},
   "source": [
    "** Note: Order of arguments should be (positional, args, default, kwargs)"
   ]
  },
  {
   "cell_type": "markdown",
   "metadata": {},
   "source": [
    "## Lambda, Filter, Map, Reduce"
   ]
  },
  {
   "cell_type": "markdown",
   "metadata": {},
   "source": [
    "### Lambda"
   ]
  },
  {
   "cell_type": "markdown",
   "metadata": {},
   "source": [
    "A lambda function is an anonymous function (function without a name).\n",
    "\n",
    "Lambda functions can have any number of arguments but only one expression. The expression is evaluated and returned.\n",
    "\n",
    "We use lambda functions when we require a nameless function for a short period of time."
   ]
  },
  {
   "cell_type": "code",
   "execution_count": 157,
   "metadata": {},
   "outputs": [
    {
     "name": "stdout",
     "output_type": "stream",
     "text": [
      "15\n",
      "60\n"
     ]
    }
   ],
   "source": [
    "addition = lambda *args : sum(args)\n",
    "print(addition(1,2,3,4,5))\n",
    "\n",
    "addition = lambda **kwargs : sum(kwargs.values())\n",
    "print(addition(a = 10, b = 20, c = 30))"
   ]
  },
  {
   "cell_type": "markdown",
   "metadata": {},
   "source": [
    "### Filter"
   ]
  },
  {
   "cell_type": "markdown",
   "metadata": {},
   "source": [
    "It is used to filter the iterables/sequence as per the conditions.\n",
    "\n",
    "Filter function filters the original iterable and passes the items that returns True for the functionprovided to filter.\n",
    "\n",
    "It is normally used with Lambda functions to filter list, tuple, or sets.\n",
    "\n",
    "filter() method takes two parameters:\n",
    "\n",
    "Function\n",
    "\n",
    "- function tests if elements of an iterable returns true or false\n",
    "\n",
    "Iterable\n",
    "\n",
    "- Sequence which needs to be filtered, could be sets, lists, tuples, or any iterators"
   ]
  },
  {
   "cell_type": "code",
   "execution_count": 158,
   "metadata": {},
   "outputs": [
    {
     "name": "stdout",
     "output_type": "stream",
     "text": [
      "[1, 3, 5, 7, 9]\n"
     ]
    }
   ],
   "source": [
    "nums = [1,2,3,4,5,6,7,8,9]\n",
    "odd_nums = list(filter(lambda x: x % 2 != 0, nums))\n",
    "print(odd_nums)"
   ]
  },
  {
   "cell_type": "code",
   "execution_count": 159,
   "metadata": {},
   "outputs": [
    {
     "name": "stdout",
     "output_type": "stream",
     "text": [
      "[2, 4, 6, 8]\n"
     ]
    }
   ],
   "source": [
    "even_nums = list(filter(lambda x: x % 2 == 0, nums))\n",
    "print(even_nums)"
   ]
  },
  {
   "cell_type": "markdown",
   "metadata": {},
   "source": [
    "### Map"
   ]
  },
  {
   "cell_type": "markdown",
   "metadata": {},
   "source": [
    "The map() function applies a given function to each item of an iterable (list, tuple etc.) andreturns a list of the results.\n",
    "\n",
    "map() function takes two Parameters :\n",
    "\n",
    "Function: The function to execute for each item of given iterable.\n",
    "\n",
    "Iterable: It is a iterable which is to be mapped.\n",
    "\n",
    "Returns: Returns a list of the results after applying the given function to each item of a giveniterable (list, tuple etc.)"
   ]
  },
  {
   "cell_type": "code",
   "execution_count": 160,
   "metadata": {},
   "outputs": [
    {
     "name": "stdout",
     "output_type": "stream",
     "text": [
      "[2, 4, 6, 8, 10, 12, 14, 16, 18]\n"
     ]
    }
   ],
   "source": [
    "double_nums = list(map(lambda x: x * 2, nums))\n",
    "print(double_nums)"
   ]
  },
  {
   "cell_type": "markdown",
   "metadata": {},
   "source": [
    "### Reduce"
   ]
  },
  {
   "cell_type": "markdown",
   "metadata": {},
   "source": [
    "The reduce() function is defined in the functools python module. The reduce() function receives two arguments, a function and an iterable. However, it doesn't return another iterable, instead it returns a single value.\n",
    "\n",
    "\n",
    "Working:\n",
    "\n",
    "1) Apply a function to the first two items in an iterable and generate a partial result.\n",
    "\n",
    "2) The function is then called again with the result obtained in step 1 and the next value in the sequence. This process keeps on repeating until there are items in the sequence.\n",
    "\n",
    "3) The final returned result is returned and printed on console."
   ]
  },
  {
   "cell_type": "code",
   "execution_count": 161,
   "metadata": {},
   "outputs": [
    {
     "name": "stdout",
     "output_type": "stream",
     "text": [
      "90\n"
     ]
    }
   ],
   "source": [
    "from functools import reduce\n",
    "\n",
    "def add(a, b):\n",
    "    return a + b\n",
    "\n",
    "sum_all = reduce(lambda a,b : a + b, double_nums)\n",
    "print(sum_all)\n"
   ]
  },
  {
   "cell_type": "markdown",
   "metadata": {},
   "source": [
    "## Classes & Objects"
   ]
  },
  {
   "cell_type": "markdown",
   "metadata": {},
   "source": [
    "A Class is an object constructor or a \"blueprint\" for creating objects.\n",
    "\n",
    "Objects are nothing but an encapsulation of variables and functions into a single entity.\n",
    "\n",
    "Objects get their variables and functions from classes.\n",
    "\n",
    "To create a class we use the keyword class.\n",
    "\n",
    "The first string inside the class is called docstring which gives the brief description about the class.\n",
    "\n",
    "All classes have a function called ___init()___ which is always executed when the class is being initiated.\n",
    "\n",
    "We can use function ___init()___ to assign values to object properties or other operations that are necessary to perform when the object is being created \n",
    "\n",
    "The self parameter is a reference to the current instance of the class and is used to access class variables. \n",
    "\n",
    "self must be the first parameter of any function in the class\n",
    "\n",
    "The super() builtin function returns a temporary object of the superclass that allows us to access methods of the base class.\n",
    "\n",
    "super() allows us to avoid using the base class name explicitly and to enable multiple inheritance."
   ]
  },
  {
   "cell_type": "code",
   "execution_count": 162,
   "metadata": {},
   "outputs": [
    {
     "name": "stdout",
     "output_type": "stream",
     "text": [
      "10\n"
     ]
    }
   ],
   "source": [
    "# Create a class with variable var1\n",
    "class class1:\n",
    "    var1 = 10\n",
    "\n",
    "# Create object obj1 for class1\n",
    "obj1 = class1()\n",
    "\n",
    "# Access variable var1 with obj1\n",
    "print(obj1.var1)"
   ]
  },
  {
   "cell_type": "code",
   "execution_count": 163,
   "metadata": {},
   "outputs": [
    {
     "name": "stdout",
     "output_type": "stream",
     "text": [
      "Hello Krishna! \n",
      "Your id is 1\n"
     ]
    }
   ],
   "source": [
    "# Create an employee class\n",
    "class Employee:\n",
    "    # Constructor\n",
    "    def __init__(self, name, empid): # Self contains the instance of the specific class\n",
    "        self.name = name\n",
    "        self.empid = empid\n",
    "    def greet(self):\n",
    "        print('Hello {}! \\nYour id is {}'.format(self.name, self.empid))\n",
    "\n",
    "emp1 = Employee('Krishna', 1)\n",
    "emp1.greet()"
   ]
  },
  {
   "cell_type": "code",
   "execution_count": 164,
   "metadata": {},
   "outputs": [
    {
     "name": "stdout",
     "output_type": "stream",
     "text": [
      "Hello Gopi! \n",
      "Your id is 1\n"
     ]
    }
   ],
   "source": [
    "# Modify object properties\n",
    "emp1.name = 'Gopi'\n",
    "emp1.greet()"
   ]
  },
  {
   "cell_type": "code",
   "execution_count": 165,
   "metadata": {},
   "outputs": [
    {
     "ename": "AttributeError",
     "evalue": "'Employee' object has no attribute 'empid'",
     "output_type": "error",
     "traceback": [
      "\u001b[1;31m---------------------------------------------------------------------------\u001b[0m",
      "\u001b[1;31mAttributeError\u001b[0m                            Traceback (most recent call last)",
      "\u001b[1;32md:\\Projects\\Python\\python-starter\\PythonBasics.ipynb Cell 275'\u001b[0m in \u001b[0;36m<cell line: 3>\u001b[1;34m()\u001b[0m\n\u001b[0;32m      <a href='vscode-notebook-cell:/d%3A/Projects/Python/python-starter/PythonBasics.ipynb#ch0000274?line=0'>1</a>\u001b[0m \u001b[39m# Delete object properties\u001b[39;00m\n\u001b[0;32m      <a href='vscode-notebook-cell:/d%3A/Projects/Python/python-starter/PythonBasics.ipynb#ch0000274?line=1'>2</a>\u001b[0m \u001b[39mdel\u001b[39;00m emp1\u001b[39m.\u001b[39mempid\n\u001b[1;32m----> <a href='vscode-notebook-cell:/d%3A/Projects/Python/python-starter/PythonBasics.ipynb#ch0000274?line=2'>3</a>\u001b[0m emp1\u001b[39m.\u001b[39;49mgreet()\n",
      "\u001b[1;32md:\\Projects\\Python\\python-starter\\PythonBasics.ipynb Cell 273'\u001b[0m in \u001b[0;36mEmployee.greet\u001b[1;34m(self)\u001b[0m\n\u001b[0;32m      <a href='vscode-notebook-cell:/d%3A/Projects/Python/python-starter/PythonBasics.ipynb#ch0000272?line=6'>7</a>\u001b[0m \u001b[39mdef\u001b[39;00m \u001b[39mgreet\u001b[39m(\u001b[39mself\u001b[39m):\n\u001b[1;32m----> <a href='vscode-notebook-cell:/d%3A/Projects/Python/python-starter/PythonBasics.ipynb#ch0000272?line=7'>8</a>\u001b[0m     \u001b[39mprint\u001b[39m(\u001b[39m'\u001b[39m\u001b[39mHello \u001b[39m\u001b[39m{}\u001b[39;00m\u001b[39m! \u001b[39m\u001b[39m\\n\u001b[39;00m\u001b[39mYour id is \u001b[39m\u001b[39m{}\u001b[39;00m\u001b[39m'\u001b[39m\u001b[39m.\u001b[39mformat(\u001b[39mself\u001b[39m\u001b[39m.\u001b[39mname, \u001b[39mself\u001b[39;49m\u001b[39m.\u001b[39;49mempid))\n",
      "\u001b[1;31mAttributeError\u001b[0m: 'Employee' object has no attribute 'empid'"
     ]
    }
   ],
   "source": [
    "# Delete object properties\n",
    "del emp1.empid\n",
    "emp1.greet()"
   ]
  },
  {
   "cell_type": "code",
   "execution_count": 166,
   "metadata": {},
   "outputs": [
    {
     "ename": "NameError",
     "evalue": "name 'emp1' is not defined",
     "output_type": "error",
     "traceback": [
      "\u001b[1;31m---------------------------------------------------------------------------\u001b[0m",
      "\u001b[1;31mNameError\u001b[0m                                 Traceback (most recent call last)",
      "\u001b[1;32md:\\Projects\\Python\\python-starter\\PythonBasics.ipynb Cell 276'\u001b[0m in \u001b[0;36m<cell line: 2>\u001b[1;34m()\u001b[0m\n\u001b[0;32m      <a href='vscode-notebook-cell:/d%3A/Projects/Python/python-starter/PythonBasics.ipynb#ch0000275?line=0'>1</a>\u001b[0m \u001b[39mdel\u001b[39;00m emp1\n\u001b[1;32m----> <a href='vscode-notebook-cell:/d%3A/Projects/Python/python-starter/PythonBasics.ipynb#ch0000275?line=1'>2</a>\u001b[0m emp1\u001b[39m.\u001b[39mgreet()\n",
      "\u001b[1;31mNameError\u001b[0m: name 'emp1' is not defined"
     ]
    }
   ],
   "source": [
    "del emp1\n",
    "emp1.greet()"
   ]
  },
  {
   "cell_type": "code",
   "execution_count": 167,
   "metadata": {},
   "outputs": [
    {
     "name": "stdout",
     "output_type": "stream",
     "text": [
      "Hello John! \n",
      "Your id is 2\n",
      "India\n"
     ]
    }
   ],
   "source": [
    "emp2 = Employee('John', 2)\n",
    "emp2.greet()\n",
    "\n",
    "# Create instance variable manually\n",
    "\n",
    "emp2.country = 'India'\n",
    "print(emp2.country)"
   ]
  },
  {
   "cell_type": "markdown",
   "metadata": {},
   "source": [
    "## Inheritance"
   ]
  },
  {
   "cell_type": "markdown",
   "metadata": {},
   "source": [
    "Inheritance is a powerful feature in object oriented programming.\n",
    "\n",
    "Inheritance provides code reusability in the program because we can use an existing class(Super Class/ \n",
    "\n",
    "Parent Class / Base Class) to create a new class (Sub Class / Child Class /Derived Class) instead of creating it from scratch.\n",
    "\n",
    "The child class inherits data definitions and methods from the parent class which facilitates there use of features already available. The child class can add few more definitions or redefine a base class method.\n",
    "\n",
    "Inheritance comes into picture when a new class possesses the 'IS A' relationship with an existing class. \n",
    "\n",
    "E.g Student is a person. Hence person is the base class and student is derived class.\n"
   ]
  },
  {
   "cell_type": "code",
   "execution_count": 168,
   "metadata": {},
   "outputs": [
    {
     "name": "stdout",
     "output_type": "stream",
     "text": [
      "Name is Krish\n",
      "Gender is Male\n",
      "Age is 23\n",
      "Student Id is 1\n",
      "Fees is 10000\n"
     ]
    }
   ],
   "source": [
    "class person:\n",
    "    def __init__(self, name, gender, age):\n",
    "        self.name= name\n",
    "        self.gender = gender\n",
    "        self.age = age\n",
    "    def info(self):\n",
    "        print('Name is {}'.format(self.name))\n",
    "        print('Gender is {}'.format(self.gender))\n",
    "        print('Age is {}'.format(self.age))\n",
    "\n",
    "class student(person): # Pass the name of base class inside paranthesis for inheritance\n",
    "    def __init__(self, name, gender, age, student_id, fees):\n",
    "        super().__init__(name, gender, age) # Access the base class members with super()\n",
    "        self.student_id = student_id\n",
    "        self.fees = fees\n",
    "    def info(self):\n",
    "        super().info()\n",
    "        print('Student Id is {}'.format(self.student_id))\n",
    "        print('Fees is {}'.format(self.fees))\n",
    "\n",
    "class teacher(person):\n",
    "    def __init__(self, name, gender, age, emp_id, salary):\n",
    "        super().__init__(name, gender, age)\n",
    "        self.emp_id = emp_id\n",
    "        self.salary = salary\n",
    "    def info(self):\n",
    "        super().info()\n",
    "        print('Employee Id is {}'.format(self.emp_id))\n",
    "        print('Salary is {}'.format(self.salary))\n",
    "        \n",
    "stud1 = student('Krish', 'Male', 23, 1, 10000)\n",
    "stud1.info()    "
   ]
  },
  {
   "cell_type": "markdown",
   "metadata": {},
   "source": [
    "### Multi level Inheritance"
   ]
  },
  {
   "cell_type": "markdown",
   "metadata": {},
   "source": [
    "In this type of inheritance, a class can inherit from a child class or derived class.\n",
    "\n",
    "Multilevel Inheritance can be of any depth in python\n"
   ]
  },
  {
   "cell_type": "code",
   "execution_count": 169,
   "metadata": {},
   "outputs": [
    {
     "name": "stdout",
     "output_type": "stream",
     "text": [
      "\n",
      "************************************ Full Time Employee Details ************************************\n",
      "\n",
      "Name is Hemanth\n",
      "Gender is Male\n",
      "Age is 23\n",
      "Employee Id is 101\n",
      "Salary is 100000\n",
      "Experience is 1 years\n",
      "\n",
      "*********************************** Contractual Employee Details ***********************************\n",
      "\n",
      "Name is Siddharth\n",
      "Gender is Male\n",
      "Age is 20\n",
      "Employee Id is 102\n",
      "Salary is 10000\n",
      "Expiry is 5 years\n"
     ]
    }
   ],
   "source": [
    "class person:\n",
    "    def __init__(self, name, gender, age):\n",
    "        self.name = name\n",
    "        self.gender = gender\n",
    "        self.age = age\n",
    "    \n",
    "    def info(self):\n",
    "        print('Name is {}'.format(self.name))\n",
    "        print('Gender is {}'.format(self.gender))\n",
    "        print('Age is {}'.format(self.age))    \n",
    "    \n",
    "class employee(person):\n",
    "    def __init__(self, name, gender, age, emp_id, salary):\n",
    "        super().__init__(name, gender, age)\n",
    "        self.emp_id = emp_id\n",
    "        self.salary = salary\n",
    "    def info(self):\n",
    "        super().info()\n",
    "        print('Employee Id is {}'.format(self.emp_id))\n",
    "        print('Salary is {}'.format(self.salary))\n",
    "        \n",
    "class fulltime(employee): # Fulltime inherits from employee and employee inherits from person\n",
    "    def __init__(self, name, gender, age, emp_id, salary, experience):\n",
    "        super().__init__(name, gender, age, emp_id, salary)\n",
    "        self.experience = experience\n",
    "    def info(self):\n",
    "        print('\\n' + ' Full Time Employee Details '.center(100, '*') + '\\n')\n",
    "        super().info()\n",
    "        print('Experience is {} years'.format(self.experience))\n",
    "        \n",
    "class contractual(employee):\n",
    "    def __init__(self, name, gender, age, emp_id, salary, expiry):\n",
    "        super().__init__(name, gender, age, emp_id, salary)\n",
    "        self.expiry = expiry\n",
    "    def info(self):\n",
    "        print('\\n' + ' Contractual Employee Details '.center(100, '*') + '\\n')\n",
    "        super().info()\n",
    "        print('Expiry is {} years'.format(self.expiry))\n",
    "        \n",
    "empft1 = fulltime('Hemanth', 'Male', 23, 101, 100000, 1)\n",
    "empft1.info()\n",
    "\n",
    "empct1 = contractual('Siddharth', 'Male', 20, 102, 10000, 5)\n",
    "empct1.info()"
   ]
  },
  {
   "cell_type": "markdown",
   "metadata": {},
   "source": [
    "### Multiple Inheritance"
   ]
  },
  {
   "cell_type": "markdown",
   "metadata": {},
   "source": [
    "Multiple inheritance is a feature in which a class (derived class) can inherit attributes andmethods from more than one parent class.\n",
    "\n",
    "The derived class inherits all the features of the base case."
   ]
  },
  {
   "cell_type": "code",
   "execution_count": 170,
   "metadata": {},
   "outputs": [
    {
     "name": "stdout",
     "output_type": "stream",
     "text": [
      "Father name is Alex\n",
      "Mother name is Tanya\n",
      "My name is Rudy\n"
     ]
    }
   ],
   "source": [
    "class father:\n",
    "    def __init__(self):\n",
    "        self.father_name = str()\n",
    "        \n",
    "class mother:\n",
    "    def __init__(self):\n",
    "        self.mother_name = str()\n",
    "        \n",
    "class son(father, mother): # Inherits from both father and mother - Multiple inheritance\n",
    "    def __init__(self):\n",
    "        self.name = str()\n",
    "                \n",
    "    def show(self):\n",
    "        print('Father name is {}'.format(self.father_name))\n",
    "        print('Mother name is {}'.format(self.mother_name))\n",
    "        print('My name is {}'.format(self.name))\n",
    "        \n",
    "            \n",
    "s1 = son()\n",
    "s1.father_name = 'Alex'            \n",
    "s1.mother_name = 'Tanya'            \n",
    "s1.name = 'Rudy'\n",
    "\n",
    "s1.show()"
   ]
  },
  {
   "cell_type": "markdown",
   "metadata": {},
   "source": [
    "## Method Overriding"
   ]
  },
  {
   "cell_type": "markdown",
   "metadata": {},
   "source": [
    "Overriding is a very important part of object oriented programming because it makes inheritance exploit its full power.\n",
    "\n",
    "Overriding is the ability of a class (Sub Class / Child Class / Derived Class) to change the implementation of a method provided by one of its parent classes.\n",
    "\n",
    "When a method in a subclass has the same name, same parameter and same return type as a method in its super-class, then the method in the subclass is said to override the method in the super-class.\n",
    "\n",
    "The version of a method that is executed will be determined by the object that is used to invoke it.\n",
    "\n",
    "If an object of a parent class is used to invoke the method, then the version in the parent class will be executed, but if an object of the subclass is used to invoke the method, then the version in the child class will be executed."
   ]
  },
  {
   "cell_type": "code",
   "execution_count": 171,
   "metadata": {},
   "outputs": [
    {
     "name": "stdout",
     "output_type": "stream",
     "text": [
      "Hello Krishna\n",
      "Hi Krishna\n"
     ]
    }
   ],
   "source": [
    "class person:\n",
    "    def __init__(self, name):\n",
    "        self.name = name\n",
    "    \n",
    "    def greet(self):\n",
    "        print(f'Hello {self.name}') \n",
    "    \n",
    "class employee(person):\n",
    "    def __init__(self, name):\n",
    "        self.name = name\n",
    "\n",
    "    def greet(self):\n",
    "        print(f'Hi {self.name}') \n",
    "\n",
    "p1 = person('Krishna')\n",
    "p1.greet()\n",
    "\n",
    "e1 = employee('Krishna')\n",
    "e1.greet()"
   ]
  },
  {
   "cell_type": "markdown",
   "metadata": {},
   "source": [
    "## Container"
   ]
  },
  {
   "cell_type": "markdown",
   "metadata": {},
   "source": [
    "Containers are data structures that hold data values.\n",
    "\n",
    "They support membership tests which means we can check whether a value exists in the container or not.\n",
    "\n",
    "Generally containers provide a way to access the contained objects and to iterate over them.\n",
    "\n",
    "Examples of containers include tuple, list, set, dict, str"
   ]
  },
  {
   "cell_type": "code",
   "execution_count": 172,
   "metadata": {},
   "outputs": [
    {
     "name": "stdout",
     "output_type": "stream",
     "text": [
      "True\n",
      "True\n"
     ]
    }
   ],
   "source": [
    "list1 = [1, 2, 3, 4, 5]\n",
    "str1 = 'I love python'\n",
    "\n",
    "print(1 in list1)\n",
    "print('ov' in str1) # Substring membership"
   ]
  },
  {
   "cell_type": "code",
   "execution_count": 173,
   "metadata": {},
   "outputs": [],
   "source": [
    "assert 1 in list1 # Nothing will happen when the condition passes"
   ]
  },
  {
   "cell_type": "code",
   "execution_count": 174,
   "metadata": {},
   "outputs": [
    {
     "ename": "AssertionError",
     "evalue": "",
     "output_type": "error",
     "traceback": [
      "\u001b[1;31m---------------------------------------------------------------------------\u001b[0m",
      "\u001b[1;31mAssertionError\u001b[0m                            Traceback (most recent call last)",
      "\u001b[1;32md:\\Projects\\Python\\python-starter\\PythonBasics.ipynb Cell 294'\u001b[0m in \u001b[0;36m<cell line: 1>\u001b[1;34m()\u001b[0m\n\u001b[1;32m----> <a href='vscode-notebook-cell:/d%3A/Projects/Python/python-starter/PythonBasics.ipynb#ch0000293?line=0'>1</a>\u001b[0m \u001b[39massert\u001b[39;00m \u001b[39m6\u001b[39m \u001b[39min\u001b[39;00m list1\n",
      "\u001b[1;31mAssertionError\u001b[0m: "
     ]
    }
   ],
   "source": [
    "assert 6 in list1 # Exception is thrown when the condition fails"
   ]
  },
  {
   "cell_type": "markdown",
   "metadata": {},
   "source": [
    "## Iterable and Iterator"
   ]
  },
  {
   "cell_type": "markdown",
   "metadata": {},
   "source": [
    "An iterable is an object that can be iterated upon. It can return an iterator object with the purpose of traversing through all the elements of an iterable.\n",
    "\n",
    "An iterable object implements __iter()__ which is expected to return an iterator object. The iterator object uses the __next()__ method. \n",
    "\n",
    "Every time next() is called next element in the iterator stream is returned. \n",
    "\n",
    "When there are no more elements available StopIterationexception is encountered. So any object that has a __next()__ method is called an iterator"
   ]
  },
  {
   "cell_type": "code",
   "execution_count": 175,
   "metadata": {},
   "outputs": [
    {
     "name": "stdout",
     "output_type": "stream",
     "text": [
      "1\n",
      "2\n",
      "3\n",
      "4\n",
      "5\n"
     ]
    },
    {
     "ename": "StopIteration",
     "evalue": "",
     "output_type": "error",
     "traceback": [
      "\u001b[1;31m---------------------------------------------------------------------------\u001b[0m",
      "\u001b[1;31mStopIteration\u001b[0m                             Traceback (most recent call last)",
      "\u001b[1;32md:\\Projects\\Python\\python-starter\\PythonBasics.ipynb Cell 297'\u001b[0m in \u001b[0;36m<cell line: 10>\u001b[1;34m()\u001b[0m\n\u001b[0;32m      <a href='vscode-notebook-cell:/d%3A/Projects/Python/python-starter/PythonBasics.ipynb#ch0000296?line=7'>8</a>\u001b[0m \u001b[39mprint\u001b[39m(\u001b[39mnext\u001b[39m(iter1)) \n\u001b[0;32m      <a href='vscode-notebook-cell:/d%3A/Projects/Python/python-starter/PythonBasics.ipynb#ch0000296?line=8'>9</a>\u001b[0m \u001b[39mprint\u001b[39m(\u001b[39mnext\u001b[39m(iter1)) \n\u001b[1;32m---> <a href='vscode-notebook-cell:/d%3A/Projects/Python/python-starter/PythonBasics.ipynb#ch0000296?line=9'>10</a>\u001b[0m \u001b[39mprint\u001b[39m(\u001b[39mnext\u001b[39;49m(iter1))\n",
      "\u001b[1;31mStopIteration\u001b[0m: "
     ]
    }
   ],
   "source": [
    "list1 = [1, 2, 3, 4, 5]\n",
    "\n",
    "iter1 = iter(list1)\n",
    "\n",
    "print(next(iter1)) # Prints the first item in the list\n",
    "print(next(iter1)) # Prints the next item in the list\n",
    "print(next(iter1)) \n",
    "print(next(iter1)) \n",
    "print(next(iter1)) \n",
    "print(next(iter1)) # Stop iteration exception when there are no more elements to traverse"
   ]
  },
  {
   "cell_type": "code",
   "execution_count": 176,
   "metadata": {},
   "outputs": [
    {
     "name": "stdout",
     "output_type": "stream",
     "text": [
      "1\n",
      "2\n",
      "3\n",
      "4\n",
      "5\n",
      "6\n",
      "7\n",
      "8\n",
      "9\n",
      "10\n"
     ]
    }
   ],
   "source": [
    "# User defined iterator to print natural numbers from 1 to 10\n",
    "\n",
    "class numiter:\n",
    "    def __init__(self):\n",
    "        self.num = 0\n",
    "        \n",
    "    def __iter__(self): # Should return an iterator object\n",
    "        return self\n",
    "    \n",
    "    def __next__(self): # Should return the next element in the iteration\n",
    "        if self.num < 10:\n",
    "            self.num += 1\n",
    "            return self.num\n",
    "        else:\n",
    "            raise StopIteration\n",
    "\n",
    "num1 = numiter()\n",
    "iter1 = iter(num1)\n",
    "for i in iter1:\n",
    "    print(i)\n",
    "    "
   ]
  },
  {
   "cell_type": "markdown",
   "metadata": {},
   "source": [
    "## Generators"
   ]
  },
  {
   "cell_type": "markdown",
   "metadata": {},
   "source": [
    "Python generators are easy way of creating iterators. It generates values one at a time from a given sequence instead of returning the entire sequence at once.\n",
    "\n",
    "It is a special type of function which returns an iterator object.\n",
    "\n",
    "In a generator function, a yield statement is used rather than a return statement.\n",
    "\n",
    "The generator function cannot include the return keyword. If we include it then it will terminate the execution of the function.\n",
    "\n",
    "Methods like iter () and next () are implemented automatically in generator function.\n",
    "\n",
    "Simple generators can be easily created using generator expressions. Generator expressions create anonymous generator functions like lambda.\n",
    "\n",
    "The syntax for generator expression is similar to that of a list comprehension but the only difference is square brackets are replaced with round parentheses. Also list comprehension produces the entire list while the generator expression produces one item at a time which is more memory efficient than list comprehension."
   ]
  },
  {
   "cell_type": "code",
   "execution_count": 177,
   "metadata": {},
   "outputs": [
    {
     "name": "stdout",
     "output_type": "stream",
     "text": [
      "1\n",
      "2\n",
      "3\n",
      "4\n",
      "5\n",
      "6\n",
      "7\n",
      "8\n",
      "9\n"
     ]
    }
   ],
   "source": [
    "# Simple generator function to generate natural numbers from 1 to 10\n",
    "def gen():\n",
    "    for i in range(1, 10):\n",
    "        yield i\n",
    "\n",
    "gen1 = gen() # Creating a generator object\n",
    "\n",
    "for i in gen1: # Printing the elements generated by the generator object\n",
    "    print(i) "
   ]
  },
  {
   "cell_type": "code",
   "execution_count": 178,
   "metadata": {},
   "outputs": [
    {
     "name": "stdout",
     "output_type": "stream",
     "text": [
      "[1, 2, 3, 4, 5, 6, 7, 8, 9]\n"
     ]
    }
   ],
   "source": [
    "list1 = list(gen()) # Storing the elements genrated by the generator function into a list\n",
    "print(list1)"
   ]
  },
  {
   "cell_type": "code",
   "execution_count": 179,
   "metadata": {},
   "outputs": [
    {
     "name": "stdout",
     "output_type": "stream",
     "text": [
      "[2, 4, 6, 8, 10, 12, 14, 16, 18, 20, 22, 24, 26, 28, 30, 32, 34, 36, 38, 40, 42, 44, 46, 48, 50, 52, 54, 56, 58, 60, 62, 64, 66, 68, 70, 72, 74, 76, 78, 80, 82, 84, 86, 88, 90, 92, 94, 96, 98, 100]\n"
     ]
    }
   ],
   "source": [
    "# Generator function to generate even numbers from 1\n",
    "\n",
    "def even(num):\n",
    "    for i in range(1, num + 1):\n",
    "        if i % 2 == 0:\n",
    "            yield i\n",
    "        \n",
    "even1 = list(even(100))\n",
    "print(even1)"
   ]
  },
  {
   "cell_type": "code",
   "execution_count": 180,
   "metadata": {},
   "outputs": [
    {
     "name": "stdout",
     "output_type": "stream",
     "text": [
      "[0, 1, 1, 2, 3, 5, 8, 13, 21, 34]\n"
     ]
    }
   ],
   "source": [
    "# Fibonacci Series\n",
    "\n",
    "def fibonacci(limit):\n",
    "    num1 = 0\n",
    "    num2 = 1\n",
    "    # num3 = 1\n",
    "    num = 0\n",
    "    while num < limit:\n",
    "        yield num1\n",
    "        num1, num2 = num2, num1 + num2 # Right side values are evaluated before assigning them\n",
    "        # num1 = num2\n",
    "        # num2 = num3\n",
    "        # num3 = num1 + num2\n",
    "        num += 1\n",
    "        \n",
    "fibolist = list(fibonacci(10))\n",
    "\n",
    "print(fibolist)"
   ]
  },
  {
   "cell_type": "markdown",
   "metadata": {},
   "source": [
    "### Generator Expressions"
   ]
  },
  {
   "cell_type": "code",
   "execution_count": 181,
   "metadata": {},
   "outputs": [
    {
     "name": "stdout",
     "output_type": "stream",
     "text": [
      "[1, 2, 3, 4, 5, 6, 7, 8, 9, 10]\n",
      "<generator object <genexpr> at 0x000001741FCB3DF0>\n",
      "1\n",
      "2\n",
      "3\n",
      "4\n",
      "5\n",
      "6\n",
      "7\n",
      "8\n",
      "9\n",
      "10\n"
     ]
    }
   ],
   "source": [
    "list1 = [i for i in range(1, 11)] # List comprehension\n",
    "print(list1)\n",
    "\n",
    " # Generators are efficient compared to list comprehensions.\n",
    " # This is because the values are returned one by one only when needed.\n",
    "gen1 = (i for i in range(1, 11))\n",
    "print(gen1) # Prints the generator object\n",
    "\n",
    "print(next(gen1)) # Printing individually\n",
    "print(next(gen1))\n",
    "print(next(gen1))\n",
    "\n",
    "# Prints all the remaining items\n",
    "for i in gen1:\n",
    "    print(i)\n"
   ]
  },
  {
   "cell_type": "markdown",
   "metadata": {},
   "source": [
    "## Decorators"
   ]
  },
  {
   "cell_type": "markdown",
   "metadata": {},
   "source": [
    "Decorator is very powerful and useful tool in Python as it allows us to wrap another function in order to extend the behavior of wrapped function without permanently modifying it.\n",
    "\n",
    "In Decorators functions are taken as the argument into another function and then called inside the wrapper function.\n",
    "\n",
    "Advantages\n",
    "- Logging & debugging\n",
    "- Access control and authentication"
   ]
  },
  {
   "cell_type": "code",
   "execution_count": 182,
   "metadata": {},
   "outputs": [
    {
     "name": "stdout",
     "output_type": "stream",
     "text": [
      "100\n",
      "-100\n"
     ]
    }
   ],
   "source": [
    "def subtract(num1, num2):\n",
    "    print(num1 - num2)\n",
    "\n",
    "subtract(200, 100)\n",
    "subtract(100, 200) # We can use decorator to always subtract smaller number from bigger number."
   ]
  },
  {
   "cell_type": "code",
   "execution_count": 183,
   "metadata": {},
   "outputs": [
    {
     "name": "stdout",
     "output_type": "stream",
     "text": [
      "100\n"
     ]
    }
   ],
   "source": [
    "def sub_decorator(func):\n",
    "    def sub_wrapper(num1, num2):\n",
    "        if(num1 < num2):\n",
    "            num1, num2 = num2, num1\n",
    "            return func(num1, num2)\n",
    "    return sub_wrapper\n",
    "\n",
    "sub = sub_decorator(subtract)\n",
    "\n",
    "sub(100, 200)"
   ]
  },
  {
   "cell_type": "code",
   "execution_count": 184,
   "metadata": {},
   "outputs": [
    {
     "name": "stdout",
     "output_type": "stream",
     "text": [
      "100\n"
     ]
    }
   ],
   "source": [
    "# We can use @ syntax to apply a decorator to a function.\n",
    "@sub_decorator\n",
    "def subtract(num1, num2):\n",
    "    print(num1 - num2)\n",
    "    \n",
    "subtract(100, 200) # Here the decorator is applied to the function"
   ]
  },
  {
   "cell_type": "code",
   "execution_count": 185,
   "metadata": {},
   "outputs": [
    {
     "name": "stdout",
     "output_type": "stream",
     "text": [
      "Linux installation started!\n",
      "Windows installation started!\n",
      "\n",
      "****************************************************************************************************\n",
      "\n",
      "Please accept the terms and conditions!\n",
      "Linux installation started!\n",
      "Please accept the terms and conditions!\n",
      "Windows installation started!\n"
     ]
    }
   ],
   "source": [
    "def install_linux():\n",
    "    print('Linux installation started!')\n",
    "    \n",
    "def install_windows():\n",
    "    print('Windows installation started!')\n",
    "\n",
    "install_linux()\n",
    "install_windows()\n",
    "\n",
    "print_border()\n",
    "\n",
    "# Installation Decorator\n",
    "def install_decorator(func):\n",
    "    def wrapper():\n",
    "        print('Please accept the terms and conditions!')\n",
    "        return func()\n",
    "    return wrapper()\n",
    "\n",
    "\n",
    "@install_decorator\n",
    "def install_linux():\n",
    "    print('Linux installation started!')\n",
    " \n",
    "@install_decorator   \n",
    "def install_windows():\n",
    "    print('Windows installation started!')"
   ]
  },
  {
   "cell_type": "markdown",
   "metadata": {},
   "source": [
    "## File Management"
   ]
  },
  {
   "cell_type": "markdown",
   "metadata": {},
   "source": [
    "### Open file"
   ]
  },
  {
   "cell_type": "code",
   "execution_count": 186,
   "metadata": {},
   "outputs": [],
   "source": [
    "file1 = open('files/test.txt') # Open file in read / text mode\n",
    "file2 = open('files/test.txt', 'r') # Open file in read mode\n",
    "\n",
    "# Creates a new file if not exists\n",
    "# Open file in append mode\n",
    "file3 = open('files/test.txt', 'a')\n",
    "\n",
    "# Creates a new file if not exists and overwrites the contents in it\n",
    "# Open file in write mode.\n",
    "file4 = open('files/test2.txt', 'w')\n"
   ]
  },
  {
   "cell_type": "code",
   "execution_count": 187,
   "metadata": {},
   "outputs": [
    {
     "data": {
      "text/plain": [
       "'I Love python\\nI love java\\nI love c#'"
      ]
     },
     "execution_count": 187,
     "metadata": {},
     "output_type": "execute_result"
    }
   ],
   "source": [
    "file1.read()"
   ]
  },
  {
   "cell_type": "code",
   "execution_count": 188,
   "metadata": {},
   "outputs": [
    {
     "data": {
      "text/plain": [
       "''"
      ]
     },
     "execution_count": 188,
     "metadata": {},
     "output_type": "execute_result"
    }
   ],
   "source": [
    "file1.read() # Reading again will not print anything since the cursor is at the end"
   ]
  },
  {
   "cell_type": "code",
   "execution_count": 189,
   "metadata": {},
   "outputs": [
    {
     "name": "stdout",
     "output_type": "stream",
     "text": [
      "I Love python\n",
      "I love java\n",
      "I love c#\n",
      "e python\n",
      "I love java\n",
      "I love c#\n"
     ]
    }
   ],
   "source": [
    "file1.seek(0) # Moving the cursor to the beginning and print the contents\n",
    "print(file1.read())\n",
    "file1.seek(5)\n",
    "print(file1.read())"
   ]
  },
  {
   "cell_type": "code",
   "execution_count": 190,
   "metadata": {},
   "outputs": [
    {
     "data": {
      "text/plain": [
       "'I Lov'"
      ]
     },
     "execution_count": 190,
     "metadata": {},
     "output_type": "execute_result"
    }
   ],
   "source": [
    "file1.seek(0)\n",
    "file1.read(5) # Read the first 5 characters in a file"
   ]
  },
  {
   "cell_type": "code",
   "execution_count": 191,
   "metadata": {},
   "outputs": [
    {
     "data": {
      "text/plain": [
       "5"
      ]
     },
     "execution_count": 191,
     "metadata": {},
     "output_type": "execute_result"
    }
   ],
   "source": [
    "file1.tell() # Tells the cursor position"
   ]
  },
  {
   "cell_type": "code",
   "execution_count": 192,
   "metadata": {},
   "outputs": [
    {
     "name": "stdout",
     "output_type": "stream",
     "text": [
      "I Love python\n",
      "I love java\n"
     ]
    }
   ],
   "source": [
    "# Read line by line\n",
    "file1.seek(0)\n",
    "print(file1.readline().strip()) # Prints the first line\n",
    "print(file1.readline().strip()) # Prints the second line"
   ]
  },
  {
   "cell_type": "code",
   "execution_count": 193,
   "metadata": {},
   "outputs": [
    {
     "data": {
      "text/plain": [
       "['I Love python\\n', 'I love java\\n', 'I love c#']"
      ]
     },
     "execution_count": 193,
     "metadata": {},
     "output_type": "execute_result"
    }
   ],
   "source": [
    "file1.seek(0)\n",
    "file1.readlines()"
   ]
  },
  {
   "cell_type": "code",
   "execution_count": 194,
   "metadata": {},
   "outputs": [
    {
     "name": "stdout",
     "output_type": "stream",
     "text": [
      "I Love python\n",
      "\n",
      "I love java\n",
      "\n"
     ]
    }
   ],
   "source": [
    "# Print first two lines in a file\n",
    "file1.seek(0)\n",
    "contents = file1.readlines()\n",
    "for i in contents:\n",
    "    if contents.index(i) < 2:\n",
    "        print(i)"
   ]
  },
  {
   "cell_type": "code",
   "execution_count": 195,
   "metadata": {},
   "outputs": [],
   "source": [
    "file1.close() # Closes the file\n",
    "file2.close() # Closes the file\n",
    "file3.close() # Closes the file\n",
    "file4.close() # Closes the file"
   ]
  },
  {
   "cell_type": "markdown",
   "metadata": {},
   "source": [
    "### Write File"
   ]
  },
  {
   "cell_type": "code",
   "execution_count": 196,
   "metadata": {},
   "outputs": [
    {
     "name": "stdout",
     "output_type": "stream",
     "text": [
      "['New content replaced the old contents in this file!Appending new contents to the newly written file!']\n"
     ]
    }
   ],
   "source": [
    "# Writing the contents to the file\n",
    "file4 = open('files/test2.txt', 'w')\n",
    "file4.write('New content replaced the old contents in this file!')\n",
    "file4.close()\n",
    "\n",
    "# Appending the contents to the newly written file\n",
    "file4 = open('files/test2.txt', 'a')\n",
    "file4.write('Appending new contents to the newly written file!')\n",
    "file4.close()\n",
    "\n",
    "# File should be opened in read mode to read the contents of it\n",
    "file4 = open('files/test2.txt')\n",
    "print(file4.readlines())"
   ]
  },
  {
   "cell_type": "markdown",
   "metadata": {},
   "source": [
    "### Deleting the files and folder"
   ]
  },
  {
   "cell_type": "code",
   "execution_count": 197,
   "metadata": {},
   "outputs": [
    {
     "ename": "FileNotFoundError",
     "evalue": "[WinError 2] The system cannot find the file specified: 'files/filetobedeleted.txt'",
     "output_type": "error",
     "traceback": [
      "\u001b[1;31m---------------------------------------------------------------------------\u001b[0m",
      "\u001b[1;31mFileNotFoundError\u001b[0m                         Traceback (most recent call last)",
      "\u001b[1;32md:\\Projects\\Python\\python-starter\\PythonBasics.ipynb Cell 328'\u001b[0m in \u001b[0;36m<cell line: 4>\u001b[1;34m()\u001b[0m\n\u001b[0;32m      <a href='vscode-notebook-cell:/d%3A/Projects/Python/python-starter/PythonBasics.ipynb#ch0000327?line=1'>2</a>\u001b[0m file5\u001b[39m.\u001b[39mclose()\n\u001b[0;32m      <a href='vscode-notebook-cell:/d%3A/Projects/Python/python-starter/PythonBasics.ipynb#ch0000327?line=2'>3</a>\u001b[0m os\u001b[39m.\u001b[39mremove(\u001b[39m'\u001b[39m\u001b[39mfiles/filetobedeleted.txt\u001b[39m\u001b[39m'\u001b[39m) \u001b[39m# Deleting the file\u001b[39;00m\n\u001b[1;32m----> <a href='vscode-notebook-cell:/d%3A/Projects/Python/python-starter/PythonBasics.ipynb#ch0000327?line=3'>4</a>\u001b[0m os\u001b[39m.\u001b[39;49mremove(\u001b[39m'\u001b[39;49m\u001b[39mfiles/filetobedeleted.txt\u001b[39;49m\u001b[39m'\u001b[39;49m)\n",
      "\u001b[1;31mFileNotFoundError\u001b[0m: [WinError 2] The system cannot find the file specified: 'files/filetobedeleted.txt'"
     ]
    }
   ],
   "source": [
    "file5 = open('files/filetobedeleted.txt', 'w')\n",
    "file5.close()\n",
    "os.remove('files/filetobedeleted.txt') # Deleting the file\n",
    "os.remove('files/filetobedeleted.txt') # File deleted already and throws exception here"
   ]
  },
  {
   "cell_type": "code",
   "execution_count": 198,
   "metadata": {},
   "outputs": [],
   "source": [
    "os.makedirs('foldertoberemoved') # Creating folder\n",
    "os.rmdir('foldertoberemoved/') # Removing folder"
   ]
  },
  {
   "cell_type": "markdown",
   "metadata": {},
   "source": [
    "## Error and Exception handling"
   ]
  },
  {
   "cell_type": "markdown",
   "metadata": {},
   "source": [
    "Python has many built-in exceptions (ArithmeticError, ZeroDivisionError, EOFError, IndexError, KeyError, SyntaxError, IndentationError, FileNotFoundError etc) that are raised when your program encounters an error.\n",
    "\n",
    "When the exception occurs Python interpreter stops the current process and passes it to the calling process until it is handled. If exception is not handled the program will crash.\n",
    "\n",
    "Exceptions in python can be handled using a try statement. The try block lets you test a block of code for errors.\n",
    "\n",
    "The block of code which can raise an exception is placed inside the try clause. The code that will handle the exceptions is written in the except clause.\n",
    "\n",
    "The finally code block will execute regardless of the result of the try and except blocks.\n",
    "We can also use the else keyword to define a block of code to be executed if no exceptions were raised.\n",
    "\n",
    "Python also allows us to create our own exceptions that can be raised from the program using the\n",
    "raise keyword and caught using the except clause. We can define what kind of error to raise, and the text to print to the user."
   ]
  },
  {
   "cell_type": "code",
   "execution_count": 210,
   "metadata": {},
   "outputs": [
    {
     "name": "stdout",
     "output_type": "stream",
     "text": [
      "division by zero exception occurred!\n",
      "Run this block of code always!\n"
     ]
    }
   ],
   "source": [
    "try:\n",
    "    print(100/0)\n",
    "except:\n",
    "    print(sys.exc_info()[1], 'exception occurred!')\n",
    "else:\n",
    "    print('No exception occurred!')\n",
    "finally:\n",
    "    print('Run this block of code always!')"
   ]
  },
  {
   "cell_type": "code",
   "execution_count": 221,
   "metadata": {},
   "outputs": [
    {
     "name": "stdout",
     "output_type": "stream",
     "text": [
      "Cannot find the file to be removed!\n",
      "Thank you!\n",
      "\n",
      "****************************************************************************************************\n",
      "\n",
      "DIVISION BY ZERO EXCEPTION!\n",
      "Thank you!\n"
     ]
    }
   ],
   "source": [
    "# Handling specific exceptions\n",
    "\n",
    "try:\n",
    "    os.remove('files/filewhichisnotpresent.txt')\n",
    "except FileNotFoundError:\n",
    "    print('Cannot find the file to be removed!')\n",
    "else:\n",
    "    print('File removed!')\n",
    "finally:\n",
    "    print('Thank you!')\n",
    "print_border()\n",
    "try:\n",
    "    print(100/0)\n",
    "    os.remove('files/filewhichisnotpresent.txt')\n",
    "except FileNotFoundError:\n",
    "    print('Cannot find the file to be removed!')\n",
    "except:\n",
    "    print( str(sys.exc_info()[1]).swapcase(), 'EXCEPTION!')\n",
    "else:\n",
    "    print('File removed!')\n",
    "finally:\n",
    "    print('Thank you!')"
   ]
  },
  {
   "cell_type": "markdown",
   "metadata": {},
   "source": [
    "#### Built-In Exception "
   ]
  },
  {
   "cell_type": "markdown",
   "metadata": {},
   "source": [
    "##### Overflow Error"
   ]
  },
  {
   "cell_type": "code",
   "execution_count": 222,
   "metadata": {},
   "outputs": [
    {
     "name": "stdout",
     "output_type": "stream",
     "text": [
      "The value exceeded the maximum supported value!\n",
      "(<class 'OverflowError'>, OverflowError('math range error'), <traceback object at 0x000001741FCA9D40>)\n",
      "Thank you!\n"
     ]
    }
   ],
   "source": [
    "try:\n",
    "    import math\n",
    "    print(math.exp(1000))\n",
    "except OverflowError:\n",
    "    print('The value exceeded the maximum supported value!')\n",
    "    print(sys.exc_info())\n",
    "finally:\n",
    "    print('Thank you!')"
   ]
  },
  {
   "cell_type": "markdown",
   "metadata": {},
   "source": [
    "##### Zero Division Error "
   ]
  },
  {
   "cell_type": "code",
   "execution_count": 223,
   "metadata": {},
   "outputs": [
    {
     "name": "stdout",
     "output_type": "stream",
     "text": [
      "Divide by zero is not supported!\n",
      "(<class 'ZeroDivisionError'>, ZeroDivisionError('division by zero'), <traceback object at 0x000001741FC89D40>)\n",
      "Thank you!\n"
     ]
    }
   ],
   "source": [
    "try:\n",
    "    print(100/0)\n",
    "except ZeroDivisionError:\n",
    "    print('Divide by zero is not supported!')\n",
    "    print(sys.exc_info())\n",
    "finally:\n",
    "    print('Thank you!')"
   ]
  },
  {
   "cell_type": "markdown",
   "metadata": {},
   "source": [
    "##### Name Error "
   ]
  },
  {
   "cell_type": "code",
   "execution_count": 224,
   "metadata": {},
   "outputs": [
    {
     "name": "stdout",
     "output_type": "stream",
     "text": [
      "40\n",
      "Thank you!\n"
     ]
    }
   ],
   "source": [
    "try:\n",
    "    print(d)\n",
    "except NameError:\n",
    "    print('Could not find an identifier with the provided name')\n",
    "    print(sys.exc_info())\n",
    "finally:\n",
    "    print('Thank you!')"
   ]
  },
  {
   "cell_type": "markdown",
   "metadata": {},
   "source": [
    "##### Assertion Error"
   ]
  },
  {
   "cell_type": "code",
   "execution_count": 225,
   "metadata": {},
   "outputs": [
    {
     "name": "stdout",
     "output_type": "stream",
     "text": [
      "Assert failed!\n",
      "(<class 'AssertionError'>, AssertionError(), <traceback object at 0x000001741E070340>)\n",
      "Thank you!\n"
     ]
    }
   ],
   "source": [
    "try:\n",
    "    list1 = [1, 2, 3, 4, 5]\n",
    "    assert 10 in list1\n",
    "except AssertionError:\n",
    "    print('Assert failed!')\n",
    "    print(sys.exc_info())\n",
    "finally:\n",
    "    print('Thank you!')"
   ]
  },
  {
   "cell_type": "markdown",
   "metadata": {},
   "source": [
    "##### Module not found"
   ]
  },
  {
   "cell_type": "code",
   "execution_count": 226,
   "metadata": {},
   "outputs": [
    {
     "name": "stdout",
     "output_type": "stream",
     "text": [
      "The module to be imported is not known!\n",
      "(<class 'ModuleNotFoundError'>, ModuleNotFoundError(\"No module named 'UnknownModule'\"), <traceback object at 0x000001741FB2F480>)\n",
      "Thank you!\n"
     ]
    }
   ],
   "source": [
    "try:\n",
    "    import UnknownModule\n",
    "except ModuleNotFoundError:\n",
    "    print('The module to be imported is not known!')\n",
    "    print(sys.exc_info())\n",
    "finally:\n",
    "    print('Thank you!')"
   ]
  },
  {
   "cell_type": "markdown",
   "metadata": {},
   "source": [
    "##### Key Error"
   ]
  },
  {
   "cell_type": "code",
   "execution_count": 227,
   "metadata": {},
   "outputs": [
    {
     "name": "stdout",
     "output_type": "stream",
     "text": [
      "Given key is not present in the dictionary\n",
      "(<class 'KeyError'>, KeyError('E'), <traceback object at 0x000001741FC22700>)\n",
      "Thank you!\n"
     ]
    }
   ],
   "source": [
    "try:\n",
    "    dict1 = {'A': 'Apple', 'B': 'Ball', 'C': 'Cat'}\n",
    "    print(dict1['E'])\n",
    "except KeyError:\n",
    "    print('Given key is not present in the dictionary')\n",
    "    print(sys.exc_info())\n",
    "finally:\n",
    "    print('Thank you!')"
   ]
  },
  {
   "cell_type": "markdown",
   "metadata": {},
   "source": [
    "##### Index Error "
   ]
  },
  {
   "cell_type": "code",
   "execution_count": 228,
   "metadata": {},
   "outputs": [
    {
     "name": "stdout",
     "output_type": "stream",
     "text": [
      "Index out of bound!\n",
      "(<class 'IndexError'>, IndexError('list index out of range'), <traceback object at 0x000001741FCDFAC0>)\n",
      "Thank you!\n"
     ]
    }
   ],
   "source": [
    "try:\n",
    "    list1 = [1, 2, 3, 4, 5]\n",
    "    print(list1[6])\n",
    "except IndexError:\n",
    "    print('Index out of bound!')\n",
    "    print(sys.exc_info())\n",
    "finally:\n",
    "    print('Thank you!')"
   ]
  },
  {
   "cell_type": "markdown",
   "metadata": {},
   "source": [
    "##### Type Error "
   ]
  },
  {
   "cell_type": "code",
   "execution_count": 229,
   "metadata": {},
   "outputs": [
    {
     "name": "stdout",
     "output_type": "stream",
     "text": [
      "Incorrect type provided!\n",
      "(<class 'TypeError'>, TypeError(\"unsupported operand type(s) for /: 'int' and 'str'\"), <traceback object at 0x000001741FC20FC0>)\n",
      "Thank you!\n"
     ]
    }
   ],
   "source": [
    "try:\n",
    "    a = 10\n",
    "    b = 'Python'\n",
    "    c = a / b\n",
    "except TypeError:\n",
    "    print('Incorrect type provided!')\n",
    "    print(sys.exc_info())\n",
    "finally:\n",
    "    print('Thank you!')"
   ]
  },
  {
   "cell_type": "markdown",
   "metadata": {},
   "source": [
    "##### Attribute Error "
   ]
  },
  {
   "cell_type": "code",
   "execution_count": 230,
   "metadata": {},
   "outputs": [
    {
     "name": "stdout",
     "output_type": "stream",
     "text": [
      "Invalid attribute supplied!\n",
      "(<class 'AttributeError'>, AttributeError(\"'int' object has no attribute 'upper'\"), <traceback object at 0x000001741FC21700>)\n",
      "Thank you!\n"
     ]
    }
   ],
   "source": [
    "try:\n",
    "    a = 10\n",
    "    a.upper()\n",
    "except AttributeError:\n",
    "    print('Invalid attribute supplied!')\n",
    "    print(sys.exc_info())\n",
    "finally:\n",
    "    print('Thank you!')"
   ]
  },
  {
   "cell_type": "markdown",
   "metadata": {},
   "source": [
    "# Python Basics Completed"
   ]
  }
 ],
 "metadata": {
  "interpreter": {
   "hash": "7b7e0a8c9ff043c060aedb818728f6f6da4174339a068fb6178fbfc4d265092d"
  },
  "kernelspec": {
   "display_name": "Python 3.9.7 64-bit",
   "language": "python",
   "name": "python3"
  },
  "language_info": {
   "codemirror_mode": {
    "name": "ipython",
    "version": 3
   },
   "file_extension": ".py",
   "mimetype": "text/x-python",
   "name": "python",
   "nbconvert_exporter": "python",
   "pygments_lexer": "ipython3",
   "version": "3.10.4"
  },
  "orig_nbformat": 4
 },
 "nbformat": 4,
 "nbformat_minor": 2
}
