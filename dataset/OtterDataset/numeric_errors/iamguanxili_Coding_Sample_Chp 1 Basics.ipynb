{
 "cells": [
  {
   "cell_type": "markdown",
   "id": "ad19d7a5",
   "metadata": {},
   "source": [
    "# Chp1 Basics"
   ]
  },
  {
   "cell_type": "markdown",
   "id": "ad365621",
   "metadata": {},
   "source": [
    "## Lec 1"
   ]
  },
  {
   "cell_type": "markdown",
   "id": "f4ae0288",
   "metadata": {},
   "source": [
    "## Python基础知识\n",
    "\n",
    "* 解释器、编译器\n",
    "\n",
    "    解释器（Interpreter）：\n",
    "    * 解释器是一种逐行解释执行程序的程序。它读取源代码，逐行分析并执行代码。\n",
    "    * 解释器会将源代码的每一行转换为机器语言或直接在虚拟机上执行。\n",
    "    * 解释器逐行执行代码，每执行一行就会输出对应的结果或执行对应的操作。\n",
    "    * 解释器通常更容易调试，因为它们可以在运行时提供详细的错误信息和输出。\n",
    "    \n",
    "    编译器（Compiler）：\n",
    "    * 编译器是一种将源代码一次性转换为目标代码（通常是机器语言或中间代码）的程序。\n",
    "    * 编译器将整个源代码文件分析、优化并转换为目标代码，然后输出可执行文件或其他形式的中间代码。\n",
    "    * 编译器生成的目标代码可以独立于源代码执行，不需要编译器在运行时的支持。\n",
    "    * 编译器通常会进行更多的优化，因为它们可以在编译阶段对整个程序进行分析和优化。\n",
    "    * C、C++、Java等静态类型语言通常使用编译器编译代码。\n",
    "    \n",
    "    主要区别：\n",
    "    * 解释器逐行解释和执行源代码，而编译器一次性将整个源代码转换为目标代码。\n",
    "    * 解释器在运行时逐行执行代码，而编译器生成的目标代码可以独立运行，不需要编译器在运行时的支持。\n",
    "    * 解释器通常更容易调试，因为它们可以提供更详细的运行时信息和错误消息，而编译器生成的目标代码则更高效  \n",
    "    \n",
    "* 运算器、存储器、控制器\n",
    "\n",
    "    * 控制器负责从存储器中读取指令并解析指令，然后向运算器发送控制信号，控制运算器执行相应的操作。\n",
    "    * 运算器执行指令中包含的算术和逻辑运算，将结果存入存储器。\n",
    "    * 存储器存储运算器执行的指令和数据，并根据控制器的指令完成读写操作。\n",
    "    * 总之，运算器执行控制器指定的操作，操作的数据来自存储器，控制器负责协调和控制整个计算机的运行\n",
    "    \n",
    "* 数据表达\n",
    "    * 1Byte = 8bits：一个字节=8个比特，可以表示0-255的整数或一个ASCII字符\n",
    "    * 1kB = 2^10b = 1024bytes, 1MB = 2^20b = 1024kB, 1GB = 1024MB, 1TB = 1024GB\n",
    "    \n",
    "### 1. 对象（Objects）\n",
    "#### 1.1 对象的基本概念\n",
    "* 内置对象类型：数字、字符串、列表、字典、元组、文件、集合、布尔型、空类型、编程单元类型\n",
    "* 描述和引用对象：字面值（Literal）、表达式（Expression，表示各个对象通过运算符（operator）运算后的结果）、变量（Variable，表示对于某个<b style=\"color: red;\">对象</b>的引用（reference））\n",
    "\n",
    "* 对象的三个性质：\n",
    "\n",
    "1、标识id(identity): 对象一旦创建其ID不再改变，可以看成该对象在内存中的<b style=\"color: red;\">地址</b>；"
   ]
  },
  {
   "cell_type": "code",
   "execution_count": 10,
   "id": "db4ccd3f",
   "metadata": {},
   "outputs": [
    {
     "data": {
      "text/plain": [
       "4369687832"
      ]
     },
     "execution_count": 10,
     "metadata": {},
     "output_type": "execute_result"
    }
   ],
   "source": [
    "x = 3\n",
    "id(x) # 返回对象“3”的ID，而不是x "
   ]
  },
  {
   "cell_type": "markdown",
   "id": "9eba4698",
   "metadata": {},
   "source": [
    "2、类型(type)：决定了对象可能取值范围以及支持的操作。强类型语言\n",
    "  * 对象是类型的一个实例（instance）"
   ]
  },
  {
   "cell_type": "code",
   "execution_count": 11,
   "id": "2efb9c5a",
   "metadata": {},
   "outputs": [
    {
     "data": {
      "text/plain": [
       "int"
      ]
     },
     "execution_count": 11,
     "metadata": {},
     "output_type": "execute_result"
    }
   ],
   "source": [
    "x = 3\n",
    "type(x)  # 返回对象“3”的类型"
   ]
  },
  {
   "cell_type": "markdown",
   "id": "d0a34985",
   "metadata": {},
   "source": [
    "3、值(value): 值可能改变或者不可变，决定于其类型\n",
    "  * 不可变(immutable)：有些对象一旦创建其值不可变，比如数字、字符串、元组等\n",
    "  * 可变(mutable): 对象的值可以改变，比如列表、字典等\n",
    "    * 对于不可变对象，一个取值对应着内存中的唯一一个对象，即在内存中仅存放一个值\n",
    "    * 如果不同变量为相同值，分别保存了对于同一个对象的引用\n",
    "    * Python对一些常用数值进行了优化，在内存中唯一，对变量赋其他值，其实是产生新的对象。<b style=\"color: red;\">然而，字符串也许也是这样，整数仅-5～256才是这样，但同为不可变的元组却不是这样。事实是：Python对一些常用数值进行了优化，在内存中唯一，对变量赋其他值，其实是产生新的对象，对于超出这个范围的整数对象、其他数据类型的对象以及可变对象（如列表、字典等），Python 并不会进行这种优化，每次赋值都会创建一个新的对象，即使其值相同也会有不同的内存地址</b>"
   ]
  },
  {
   "cell_type": "code",
   "execution_count": 12,
   "id": "514d5cee",
   "metadata": {},
   "outputs": [
    {
     "name": "stdout",
     "output_type": "stream",
     "text": [
      "3\n",
      "9\n",
      "False\n",
      "3\n",
      "4369688024\n",
      "4369687832\n"
     ]
    }
   ],
   "source": [
    "a = 3\n",
    "b = 3\n",
    "print(a)\n",
    "a += 6 # 一个变量赋予新的值后，该变量指向新的对象\n",
    "print(a)\n",
    "print(a is b) # 判别变量a和变量b是否同一个对象（ID是否相同）\n",
    "print(b) # 变量b引用的依旧是对象3\n",
    "print(id(a))\n",
    "print(id(b))"
   ]
  },
  {
   "cell_type": "code",
   "execution_count": 13,
   "id": "991097da",
   "metadata": {},
   "outputs": [
    {
     "name": "stdout",
     "output_type": "stream",
     "text": [
      "False\n",
      "True\n",
      "True\n",
      "False\n",
      "False\n"
     ]
    }
   ],
   "source": [
    "a = -6\n",
    "b = -6\n",
    "print(a is b)\n",
    "a = 256\n",
    "b = 256\n",
    "print(a is b)\n",
    "print(id(a) == id(b))\n",
    "print(id(a) is id(b)) # id(a)和id(b)对应的整数值远超[-5, 256]的范围\n",
    "a = 257\n",
    "b = 257\n",
    "print(a is b)"
   ]
  },
  {
   "cell_type": "markdown",
   "id": "4125eb93",
   "metadata": {},
   "source": [
    "#### 1.2 变量\n",
    "* 变量只是对存放指定值的内存区域的引用，赋值是引用另一块存放新值的内存区域"
   ]
  },
  {
   "cell_type": "code",
   "execution_count": 14,
   "id": "99a7d02b",
   "metadata": {},
   "outputs": [
    {
     "name": "stdout",
     "output_type": "stream",
     "text": [
      "<class 'int'>\n",
      "<class 'str'>\n",
      "<class 'list'>\n",
      "True\n",
      "True\n"
     ]
    }
   ],
   "source": [
    "x = 3\n",
    "print(type(x)) # 内置函数type(object)用来返回object的类型\n",
    "\n",
    "x = 'Hello world.'\n",
    "print(type(x)) # 字符str\n",
    "\n",
    "x = [1,2,3]\n",
    "print(type(x)) # 列表list\n",
    "\n",
    "print(isinstance(3, int)) # 内置函数isinstance(obj,class)用来测试对象obj是否为指定类型class的实例\n",
    "print(isinstance('Hello world', str))"
   ]
  },
  {
   "cell_type": "markdown",
   "id": "60100e99",
   "metadata": {},
   "source": [
    "* Python具有自动内存管理功能\n",
    "  * 跟踪所有的对象，并自动删除不再有变量指向的对象。\n",
    "  * 可以显式使用del语句回收那些不再需要的对象所占用的资源\n",
    "* help(thing): 查看对象thing相关的帮助 \n",
    "* dir([object]): 查看object相关的属性列表\n",
    "* [n for n in dir([object]) if not n.startswith(‘_’)]  过滤掉以_开头的属性"
   ]
  },
  {
   "cell_type": "code",
   "execution_count": 15,
   "id": "b0ed3a59",
   "metadata": {},
   "outputs": [
    {
     "name": "stdout",
     "output_type": "stream",
     "text": [
      "No value\n"
     ]
    },
    {
     "data": {
      "text/plain": [
       "['as_integer_ratio',\n",
       " 'bit_count',\n",
       " 'bit_length',\n",
       " 'conjugate',\n",
       " 'denominator',\n",
       " 'from_bytes',\n",
       " 'imag',\n",
       " 'numerator',\n",
       " 'real',\n",
       " 'to_bytes']"
      ]
     },
     "execution_count": 15,
     "metadata": {},
     "output_type": "execute_result"
    }
   ],
   "source": [
    "x = 3\n",
    "del x\n",
    "try: \n",
    "    print(id(x))\n",
    "except:\n",
    "    print(\"No value\")\n",
    "    \n",
    "[n for n in dir(3) if not n.startswith('_')]"
   ]
  },
  {
   "cell_type": "markdown",
   "id": "9ff07eb5",
   "metadata": {},
   "source": [
    "#### 1.3 变量名\n",
    "* 标识符是变量、函数、类、模块和其他对象的名字 \n",
    "* 必须以<b style=\"color: red;\">字母或下划线</b>开头，其后的字符可以是<b style=\"color: red;\">字母、下划线或数字</b>\n",
    "* 标识符对英文字母的大小写敏感，例如student和Student是不同的变量\n",
    "* 建议使用有意义的名字，i,j,k仅仅用在较短的循环等结构，比如area、keys等\n",
    "* 建议使用小写字母表示变量名,多个单词时以下划线隔开: lower_case_with_underscores\n",
    "* 一些特殊的标识保留为Python的关键词，不能用作变量名："
   ]
  },
  {
   "cell_type": "code",
   "execution_count": 16,
   "id": "5e68e9eb",
   "metadata": {},
   "outputs": [
    {
     "name": "stdout",
     "output_type": "stream",
     "text": [
      "['False', 'None', 'True', 'and', 'as', 'assert', 'async', 'await', 'break', 'class', 'continue', 'def', 'del', 'elif', 'else', 'except', 'finally', 'for', 'from', 'global', 'if', 'import', 'in', 'is', 'lambda', 'nonlocal', 'not', 'or', 'pass', 'raise', 'return', 'try', 'while', 'with', 'yield']\n",
      "True\n",
      "False\n"
     ]
    }
   ],
   "source": [
    "import keyword\n",
    "print(keyword.kwlist)\n",
    "print(keyword.iskeyword('None'))\n",
    "print(keyword.iskeyword('I_love_cat'))\n",
    "# help()"
   ]
  },
  {
   "cell_type": "markdown",
   "id": "3578ebfe",
   "metadata": {},
   "source": [
    "* 不建议使用系统内置的模块名、类型名或函数名以及已导入的模块名及其成员名作变量名，这将会改变其类型和含义，可以通过dir(\\__builtins\\__)查看所有内置模块、类型和函数："
   ]
  },
  {
   "cell_type": "code",
   "execution_count": 17,
   "id": "6b9876b7",
   "metadata": {},
   "outputs": [
    {
     "data": {
      "text/plain": [
       "['ArithmeticError',\n",
       " 'AssertionError',\n",
       " 'AttributeError',\n",
       " 'BaseException',\n",
       " 'BaseExceptionGroup',\n",
       " 'BlockingIOError',\n",
       " 'BrokenPipeError',\n",
       " 'BufferError',\n",
       " 'BytesWarning',\n",
       " 'ChildProcessError',\n",
       " 'ConnectionAbortedError',\n",
       " 'ConnectionError',\n",
       " 'ConnectionRefusedError',\n",
       " 'ConnectionResetError',\n",
       " 'DeprecationWarning',\n",
       " 'EOFError',\n",
       " 'Ellipsis',\n",
       " 'EncodingWarning',\n",
       " 'EnvironmentError',\n",
       " 'Exception',\n",
       " 'ExceptionGroup',\n",
       " 'False',\n",
       " 'FileExistsError',\n",
       " 'FileNotFoundError',\n",
       " 'FloatingPointError',\n",
       " 'FutureWarning',\n",
       " 'GeneratorExit',\n",
       " 'IOError',\n",
       " 'ImportError',\n",
       " 'ImportWarning',\n",
       " 'IndentationError',\n",
       " 'IndexError',\n",
       " 'InterruptedError',\n",
       " 'IsADirectoryError',\n",
       " 'KeyError',\n",
       " 'KeyboardInterrupt',\n",
       " 'LookupError',\n",
       " 'MemoryError',\n",
       " 'ModuleNotFoundError',\n",
       " 'NameError',\n",
       " 'None',\n",
       " 'NotADirectoryError',\n",
       " 'NotImplemented',\n",
       " 'NotImplementedError',\n",
       " 'OSError',\n",
       " 'OverflowError',\n",
       " 'PendingDeprecationWarning',\n",
       " 'PermissionError',\n",
       " 'ProcessLookupError',\n",
       " 'RecursionError',\n",
       " 'ReferenceError',\n",
       " 'ResourceWarning',\n",
       " 'RuntimeError',\n",
       " 'RuntimeWarning',\n",
       " 'StopAsyncIteration',\n",
       " 'StopIteration',\n",
       " 'SyntaxError',\n",
       " 'SyntaxWarning',\n",
       " 'SystemError',\n",
       " 'SystemExit',\n",
       " 'TabError',\n",
       " 'TimeoutError',\n",
       " 'True',\n",
       " 'TypeError',\n",
       " 'UnboundLocalError',\n",
       " 'UnicodeDecodeError',\n",
       " 'UnicodeEncodeError',\n",
       " 'UnicodeError',\n",
       " 'UnicodeTranslateError',\n",
       " 'UnicodeWarning',\n",
       " 'UserWarning',\n",
       " 'ValueError',\n",
       " 'Warning',\n",
       " 'ZeroDivisionError',\n",
       " '__IPYTHON__',\n",
       " '__build_class__',\n",
       " '__debug__',\n",
       " '__doc__',\n",
       " '__import__',\n",
       " '__loader__',\n",
       " '__name__',\n",
       " '__package__',\n",
       " '__spec__',\n",
       " 'abs',\n",
       " 'aiter',\n",
       " 'all',\n",
       " 'anext',\n",
       " 'any',\n",
       " 'ascii',\n",
       " 'bin',\n",
       " 'bool',\n",
       " 'breakpoint',\n",
       " 'bytearray',\n",
       " 'bytes',\n",
       " 'callable',\n",
       " 'chr',\n",
       " 'classmethod',\n",
       " 'compile',\n",
       " 'complex',\n",
       " 'copyright',\n",
       " 'credits',\n",
       " 'delattr',\n",
       " 'dict',\n",
       " 'dir',\n",
       " 'display',\n",
       " 'divmod',\n",
       " 'enumerate',\n",
       " 'eval',\n",
       " 'exec',\n",
       " 'execfile',\n",
       " 'filter',\n",
       " 'float',\n",
       " 'format',\n",
       " 'frozenset',\n",
       " 'get_ipython',\n",
       " 'getattr',\n",
       " 'globals',\n",
       " 'hasattr',\n",
       " 'hash',\n",
       " 'help',\n",
       " 'hex',\n",
       " 'id',\n",
       " 'input',\n",
       " 'int',\n",
       " 'isinstance',\n",
       " 'issubclass',\n",
       " 'iter',\n",
       " 'len',\n",
       " 'license',\n",
       " 'list',\n",
       " 'locals',\n",
       " 'map',\n",
       " 'max',\n",
       " 'memoryview',\n",
       " 'min',\n",
       " 'next',\n",
       " 'object',\n",
       " 'oct',\n",
       " 'open',\n",
       " 'ord',\n",
       " 'pow',\n",
       " 'print',\n",
       " 'property',\n",
       " 'range',\n",
       " 'repr',\n",
       " 'reversed',\n",
       " 'round',\n",
       " 'runfile',\n",
       " 'set',\n",
       " 'setattr',\n",
       " 'slice',\n",
       " 'sorted',\n",
       " 'staticmethod',\n",
       " 'str',\n",
       " 'sum',\n",
       " 'super',\n",
       " 'tuple',\n",
       " 'type',\n",
       " 'vars',\n",
       " 'zip']"
      ]
     },
     "execution_count": 17,
     "metadata": {},
     "output_type": "execute_result"
    }
   ],
   "source": [
    "dir(__builtins__)"
   ]
  },
  {
   "cell_type": "markdown",
   "id": "c6fc8ba2",
   "metadata": {},
   "source": [
    "### <b style=\"color: red;\">HW1</b>"
   ]
  },
  {
   "cell_type": "code",
   "execution_count": 18,
   "id": "5ef4f847",
   "metadata": {},
   "outputs": [
    {
     "ename": "ValueError",
     "evalue": "could not convert string to float: ''",
     "output_type": "error",
     "traceback": [
      "\u001b[0;31m---------------------------------------------------------------------------\u001b[0m",
      "\u001b[0;31mValueError\u001b[0m                                Traceback (most recent call last)",
      "Cell \u001b[0;32mIn[18], line 4\u001b[0m\n\u001b[1;32m      1\u001b[0m \u001b[38;5;28;01mimport\u001b[39;00m \u001b[38;5;21;01mmath\u001b[39;00m\n\u001b[1;32m      3\u001b[0m radius_str \u001b[38;5;241m=\u001b[39m \u001b[38;5;28minput\u001b[39m(\u001b[38;5;124m\"\u001b[39m\u001b[38;5;124mRadius? 等待用户输入:\u001b[39m\u001b[38;5;124m\"\u001b[39m)\n\u001b[0;32m----> 4\u001b[0m radius \u001b[38;5;241m=\u001b[39m \u001b[38;5;28mfloat\u001b[39m(radius_str) \u001b[38;5;66;03m# 将输入转为浮点数，保留小数\u001b[39;00m\n\u001b[1;32m      5\u001b[0m area \u001b[38;5;241m=\u001b[39m math\u001b[38;5;241m.\u001b[39mpi \u001b[38;5;241m*\u001b[39m radius\u001b[38;5;241m*\u001b[39m\u001b[38;5;241m*\u001b[39m\u001b[38;5;241m2\u001b[39m\n\u001b[1;32m      6\u001b[0m integer_part_length \u001b[38;5;241m=\u001b[39m \u001b[38;5;28mlen\u001b[39m(\u001b[38;5;28mstr\u001b[39m(\u001b[38;5;28mint\u001b[39m(area))) \u001b[38;5;66;03m# 取整后先转为字符串，再计算有几位\u001b[39;00m\n",
      "\u001b[0;31mValueError\u001b[0m: could not convert string to float: ''"
     ]
    }
   ],
   "source": [
    "import math\n",
    "\n",
    "radius_str = input(\"Radius? 等待用户输入:\")\n",
    "radius = float(radius_str) # 将输入转为浮点数，保留小数\n",
    "area = math.pi * radius**2\n",
    "integer_part_length = len(str(int(area))) # 取整后先转为字符串，再计算有几位\n",
    "\n",
    "print(f\"面积为: {area}\\\n",
    "      \\n面积整数部分是{integer_part_length}位数。\")"
   ]
  },
  {
   "cell_type": "markdown",
   "id": "aeb2672d",
   "metadata": {},
   "source": [
    "## Lec 2"
   ]
  },
  {
   "cell_type": "markdown",
   "id": "6a10abad",
   "metadata": {},
   "source": [
    "#### 1.4 数字\n",
    "* 整数int、浮点float、复数complex、布尔bool\n",
    "\n",
    "1、整数inc：十进制、十六进制（0x开头，0-9以及[a-f]）、八进制（0o开头）、二进制（0b开头）\n",
    "\n",
    "2、（有限精度）浮点数float：用于表示实数，在内部用科学计数法表示\n",
    "  * 科学计数法：15e-2 ( = 15*10-2 = 0.15)\n",
    "  * 计算机内部采用IEEE574双精度表示浮点数时，存在精度误差"
   ]
  },
  {
   "cell_type": "code",
   "execution_count": null,
   "id": "248f96b9",
   "metadata": {},
   "outputs": [
    {
     "data": {
      "text/plain": [
       "False"
      ]
     },
     "execution_count": 11,
     "metadata": {},
     "output_type": "execute_result"
    }
   ],
   "source": [
    "a = 0.1 + 0.1 + 0.1\n",
    "a == 0.3 #结果为false"
   ]
  },
  {
   "cell_type": "markdown",
   "id": "6b504cfa",
   "metadata": {},
   "source": [
    "  * 在Python中，Decimal() 是 decimal 模块中的一个构造函数，用于创建Decimal类型的对象。decimal模块提供了一个精确的十进制浮点数实现，相较于内置的浮点数类型float，Decimal 类型能够避免浮点数运算时的精度问题\n",
    "  * Fraction模块用于表示分数"
   ]
  },
  {
   "cell_type": "code",
   "execution_count": null,
   "id": "f7ee3621",
   "metadata": {},
   "outputs": [
    {
     "name": "stdout",
     "output_type": "stream",
     "text": [
      "0.1000000000000000055511151231257827021181583404541015625\n"
     ]
    },
    {
     "data": {
      "text/plain": [
       "Fraction(3, 7)"
      ]
     },
     "execution_count": 17,
     "metadata": {},
     "output_type": "execute_result"
    }
   ],
   "source": [
    "from decimal import Decimal\n",
    "print(Decimal(0.1))\n",
    "from fractions import Fraction\n",
    "Fraction('3/7')"
   ]
  },
  {
   "cell_type": "markdown",
   "id": "984510d2",
   "metadata": {},
   "source": [
    "3、复数complex\n",
    "  * 浮点数或者整数，后面为j（或者J）\n",
    "  * 3+4j, 1.1+2.2j, 3+4.2j, 3-4.2j, 2.5j+3, 4j, 0j  \n",
    "  * 注意j，4*j都不是复数"
   ]
  },
  {
   "cell_type": "code",
   "execution_count": null,
   "id": "30fbc7d5",
   "metadata": {},
   "outputs": [
    {
     "name": "stdout",
     "output_type": "stream",
     "text": [
      "1.1\n",
      "2.2\n",
      "(1.1-2.2j)\n",
      "(-5.940000000000001+11.22j)\n",
      "(0.4707207207207207+0.07432432432432433j)\n"
     ]
    }
   ],
   "source": [
    "c = 3+4.2j\n",
    "b = 1.1+2.2j\n",
    "print(b.real) # 实部\n",
    "print(b.imag) # 虚部\n",
    "print(b.conjugate()) # 共轭\n",
    "print(b*c)\n",
    "print(b/c)"
   ]
  },
  {
   "cell_type": "markdown",
   "id": "982e7ecf",
   "metadata": {},
   "source": [
    "5、算术运算符\n",
    "  * 整除//，向下取整（floor vs. ceiling）<b style=\"color: red;\">5//2=2，因为5=2\\*2+1；-5//2=-3，因为-5=2\\*(-3)+1</b>\n",
    "  * 浮点除法/（真除法），结果为浮点数\n",
    "  * 幂运算**：4**0.5 = 2\n",
    "  * 求模%：-20%3 = 1\n",
    "  * 优先级：<b style=\"color: red;\">**</b> > <b style=\"color: red;\">+-（一元的，用于改变符号）</b> > <b style=\"color: red;\">* / // %</b> > <b style=\"color: red;\">+-</b>\n",
    "  * []，{}不能用于数学计算\n",
    "  * 支持混合运算：如浮点数+整数\n",
    "    * 如果其中包含complex对象，则其他数字类型转换为complex对象，结果为complex对象\n",
    "    * 如果其中包含float对象，则其他数字类型转换为float对象，结果为float对象\n",
    "    \n",
    "6、比较运算符\n",
    "  * 结果为bool值（True or False）\n",
    "  * 不等号连用不考虑传递性，仅比较相邻数"
   ]
  },
  {
   "cell_type": "code",
   "execution_count": null,
   "id": "736498d6",
   "metadata": {},
   "outputs": [
    {
     "name": "stdout",
     "output_type": "stream",
     "text": [
      "True True False False\n",
      "False True\n",
      "False\n",
      "True\n"
     ]
    }
   ],
   "source": [
    "x,y,z = 12,18,13\n",
    "print(x<y,x<=y,x>y,x>=y) #(T,T,F,F)\n",
    "print(x<y<z,x<y>z) #(F,T)\n",
    "print(x==y)\n",
    "print(x!=y)"
   ]
  },
  {
   "cell_type": "markdown",
   "id": "a069dd95",
   "metadata": {},
   "source": [
    "7、内置数学函数"
   ]
  },
  {
   "cell_type": "code",
   "execution_count": null,
   "id": "e6192bf0",
   "metadata": {},
   "outputs": [
    {
     "name": "stdout",
     "output_type": "stream",
     "text": [
      "2.23606797749979\n",
      "(1, 2)\n",
      "4\n",
      "3.1416\n",
      "5\n",
      "50\n"
     ]
    }
   ],
   "source": [
    "print(abs(1-2j))\n",
    "print(divmod(5,3)) # 商和余数\n",
    "print(pow(2,10,10)) # x**y%z，幂运算再求模\n",
    "print(round(3.14159,4)) # 保留小数\n",
    "print(max(1,2,3,4,5))\n",
    "print(sum((1,2,3),44)) # 再加上最后一个数'start'"
   ]
  },
  {
   "cell_type": "markdown",
   "id": "07b13014",
   "metadata": {},
   "source": [
    "8、<b style=\"color: red;\">math模块</b>"
   ]
  },
  {
   "cell_type": "code",
   "execution_count": null,
   "id": "18d4c0a3",
   "metadata": {},
   "outputs": [
    {
     "name": "stdout",
     "output_type": "stream",
     "text": [
      "3.0\n",
      "2 -1\n",
      "1 -2\n",
      "1 -1\n",
      "120\n",
      "2.0\n",
      "0.7853981633974483\n",
      "180.0\n",
      "1.5707963267948966\n"
     ]
    }
   ],
   "source": [
    "import math\n",
    "print(math.fabs(-3))\n",
    "print(math.ceil(1.2),math.ceil(-1.6)) # 大于等于x的最小整数\n",
    "print(math.floor(1.2),math.floor(-1.6)) # 小于等于x的最小整数\n",
    "print(math.trunc(1.2),math.trunc(-1.6)) # 截取为最接近0的整数\n",
    "print(math.factorial(5)) # 阶乘\n",
    "print(math.log(4, 2))\n",
    "print(math.atan(1))\n",
    "print(math.degrees(math.pi)) # 弧度转角度\n",
    "print(math.radians(90)) # 角度转弧度"
   ]
  },
  {
   "cell_type": "markdown",
   "id": "dcef020d",
   "metadata": {},
   "source": [
    "9、布尔bools\n",
    "  * 所有非0整数转变为bool时都是True\n",
    "  * True等价于非0，False等价于0"
   ]
  },
  {
   "cell_type": "code",
   "execution_count": null,
   "id": "54890702",
   "metadata": {},
   "outputs": [
    {
     "name": "stdout",
     "output_type": "stream",
     "text": [
      "1\n",
      "0\n",
      "True\n",
      "False\n"
     ]
    }
   ],
   "source": [
    "print(int(True))\n",
    "print(int(False)) #int(True)=1,  int(False) = 0 \n",
    "print(bool(4))\n",
    "print(bool(0)) #bool(4)=True,  bool(0) = False"
   ]
  },
  {
   "cell_type": "markdown",
   "id": "03a0b980",
   "metadata": {},
   "source": [
    "#### 1.4.4 字符串（str）\n",
    "* 字符串属于不可变序列\n",
    "  * 默认为Unicode字符串，可以包含中文字符串\n",
    "  * 不能跨越多行，一般建议采用单引号定义\n",
    "  * 如果字符串中有双引号，则使用单引号定义，反之亦然 \n",
    "    * 'abc'  \"Python程序设计基础\"   \"What's your name?\"   '\"Thank you!\" she said. '\n",
    "  * 空串：' ', \" \"\n",
    "    * 注意：包含空格不再是空串\n",
    "  * 字符串转译用同样引号，希望消除配对，可以用\\\n",
    "    * \\', \\\", \\\\, \\t, \\n, \\ddd（3位八进制数对应的字符）, \\xhh（2位十六进制数对应的字符）\n"
   ]
  },
  {
   "cell_type": "code",
   "execution_count": null,
   "id": "6e30a857",
   "metadata": {},
   "outputs": [
    {
     "name": "stdout",
     "output_type": "stream",
     "text": [
      "first line \n",
      "line 2\n",
      "line 3\n",
      "last line.\n"
     ]
    },
    {
     "data": {
      "text/plain": [
       "'first line \\nline 2\\nline 3\\nlast line.'"
      ]
     },
     "execution_count": 70,
     "metadata": {},
     "output_type": "execute_result"
    }
   ],
   "source": [
    "a = '''first line \\nline 2\n",
    "line 3\n",
    "last line.''' #用三个单引号，而非一个双引号+一个单引号，Python允许这样表示多行内容\n",
    "print(a)\n",
    "a"
   ]
  },
  {
   "cell_type": "code",
   "execution_count": null,
   "id": "6cc43625",
   "metadata": {},
   "outputs": [
    {
     "name": "stdout",
     "output_type": "stream",
     "text": [
      "'first line \n",
      "line 2\n",
      "line 3\n",
      "last line.'\n"
     ]
    },
    {
     "data": {
      "text/plain": [
       "\"'first line \\nline 2\\nline 3\\nlast line.'\""
      ]
     },
     "execution_count": 71,
     "metadata": {},
     "output_type": "execute_result"
    }
   ],
   "source": [
    "# 对比两个引号无法主动换行\n",
    "a = \"'first line \\nline 2\\nline 3\\nlast line.'\"\n",
    "print(a)\n",
    "a"
   ]
  },
  {
   "cell_type": "markdown",
   "id": "45597883",
   "metadata": {},
   "source": [
    "  * 字符串转义：在特殊字符前加\\"
   ]
  },
  {
   "cell_type": "code",
   "execution_count": null,
   "id": "0e1fc9c3",
   "metadata": {},
   "outputs": [
    {
     "data": {
      "text/plain": [
       "\"apple 'mac' \""
      ]
     },
     "execution_count": 20,
     "metadata": {},
     "output_type": "execute_result"
    }
   ],
   "source": [
    "a = 'apple \\'mac\\' '\n",
    "a"
   ]
  },
  {
   "cell_type": "markdown",
   "id": "084f3512",
   "metadata": {},
   "source": [
    "  * 字符串界定符前面加字母r表示原始字符串，其中的特殊字符不进行转义，但字符串的最后一个字符不能是\\"
   ]
  },
  {
   "cell_type": "code",
   "execution_count": null,
   "id": "e772c7b4",
   "metadata": {},
   "outputs": [
    {
     "name": "stdout",
     "output_type": "stream",
     "text": [
      "C:\\Program Files (x86)\\Python35\\Lib\n"
     ]
    },
    {
     "data": {
      "text/plain": [
       "'\\x08'"
      ]
     },
     "execution_count": 88,
     "metadata": {},
     "output_type": "execute_result"
    }
   ],
   "source": [
    "a = r'C:\\Program Files (x86)\\Python35\\Lib'\n",
    "print(a)\n",
    "a = '\\b' # \\b表示退格符，该对象复制给a后是表示退格符的ASCII码\n",
    "a"
   ]
  },
  {
   "cell_type": "markdown",
   "id": "1cf1d5e5",
   "metadata": {},
   "source": [
    "  * 字符串相关内置函数\n",
    "    * <b style=\"color: red;\">交互式console中，表达式输出的实际上是print(repr(expression))，一般可以通过eval()得到原来的对象</b>"
   ]
  },
  {
   "cell_type": "code",
   "execution_count": null,
   "id": "7c14f88c",
   "metadata": {},
   "outputs": [
    {
     "name": "stdout",
     "output_type": "stream",
     "text": [
      "0b100\n",
      "0o4\n",
      "0x4\n",
      "4 0.5\n",
      "3\n",
      "255\n",
      "0.12\n",
      "11\n",
      "97 65 20320\n",
      "a A 你\n",
      "D\n"
     ]
    }
   ],
   "source": [
    "print(bin(4)) # 转换为二进制字符串\n",
    "print(oct(4)) # 转换为八进制\n",
    "print(hex(4)) # 转换为十六进制\n",
    "print(str(4), str(0.5)) # 转换为字符串\n",
    "print(int(3.15))\n",
    "print(int('ff', 16)) # 把ff看作十六进制数，再转化为十进制\n",
    "print(float('12e-2')) #别忘记打''\n",
    "print(len('Hello World'))\n",
    "print(ord('a'), ord('A'), ord('你')) # 返回长度为1的字符串中的字符对应的Unicode码\n",
    "print(chr(97), chr(65), chr(20320)) # 返回Unicode编码为x的字符串，字符串的len()=1\n",
    "print(chr(ord('d')-ord('a')+ord('A'))) # 注意这个"
   ]
  },
  {
   "cell_type": "markdown",
   "id": "e879e2dd",
   "metadata": {},
   "source": [
    "  * 字符串支持的运算符+*%"
   ]
  },
  {
   "cell_type": "code",
   "execution_count": null,
   "id": "647c305f",
   "metadata": {},
   "outputs": [
    {
     "name": "stdout",
     "output_type": "stream",
     "text": [
      "abc123\n",
      "aba123\n",
      "*-*-*-*-*-*-*-*-*-*-*-*-*-*-*-*-*-*-*-*-*-*-*-*-*-*-*-*-*-*-\n",
      "NENENENE\n"
     ]
    }
   ],
   "source": [
    "a = 'abc' + '123' #生成新对象'abc123'\n",
    "print(a) \n",
    "\n",
    "# 转义字符后面跟一个整形常量，必须是八进制或者以x为前缀的十六进制\n",
    "b='\\141b\\x61' + '123'  #'aba123'， ord('a')=97，八进制为141，十六进制为61\n",
    "print(b)\n",
    "\n",
    "#字符串和整数相乘相当于字符串的内容重复多次，整数小于等于0时生成空字符串' ' \n",
    "a='*-' * 30 \n",
    "print(a)\n",
    "\n",
    "a= 4*'NE' \n",
    "print(a)"
   ]
  },
  {
   "cell_type": "markdown",
   "id": "360381c8",
   "metadata": {},
   "source": [
    "  * 格式字符：<b style=\"color: red;\">以%s为例</b>\n",
    "    * %s：是占位符，表示在该位置插入一个字符串\n",
    "    * %：是格式化操作符，用于将指定的值插入到格式化字符串中的占位符处"
   ]
  },
  {
   "cell_type": "code",
   "execution_count": null,
   "id": "9eb8ef39",
   "metadata": {},
   "outputs": [
    {
     "name": "stdout",
     "output_type": "stream",
     "text": [
      "Hello Mike\n",
      "Length:45\n",
      "A\n",
      " 3.1416\n"
     ]
    }
   ],
   "source": [
    "print('Hello %s'%'Mike') # %s输出字符串\n",
    "print('Length:%d'%45) # %d输出整数\n",
    "print('%c'%65) # %c输出字符chr(num)\n",
    "\n",
    "print('%7.4f'%math.pi) # %[width][.precision]f输出浮点数，字符串长度width，小数点后precision位\n",
    "# 这里保留4位小数后只有6位数字，故再于第一位的位置补一个空格，以凑满7位"
   ]
  },
  {
   "cell_type": "markdown",
   "id": "333bf9ea",
   "metadata": {},
   "source": [
    "  * <b style=\"color: red;\">字符串格式化：就是上面的%f</b>\n",
    "    * format_string % obj  把对象obj按格式要求format_string转换为字符串"
   ]
  },
  {
   "cell_type": "code",
   "execution_count": null,
   "id": "d8be6142",
   "metadata": {},
   "outputs": [
    {
     "name": "stdout",
     "output_type": "stream",
     "text": [
      "  3.667\n",
      "65:A\n",
      "My name is Dong Fuguo, and my age is 38\n"
     ]
    }
   ],
   "source": [
    "a = 3.6674\n",
    "print('%7.3f'%a)\n",
    "\n",
    "print('%d:%c'%(65, 65)) # 输出“整数”和“字符”\n",
    "print('''My name is %s, and my age is %d'''%('Dong Fuguo', 38))"
   ]
  },
  {
   "cell_type": "markdown",
   "id": "65070d89",
   "metadata": {},
   "source": [
    "#### 1.4.5 运算符和表达式\n",
    "* or：当两个条件中至少有一个为True（布尔型中，1 = True）时，整个表达式就会返回True\n",
    "* and: 只有当两个条件都为True时，整个表达式才返回True\n",
    "* xor（异或）：当两个条件中有且仅有一个为True时，整个表达式返回True\n",
    "* not x：逻辑非\n",
    "* x in y：成员测试运算符\n",
    "* x is y, x is not y：对象实体同一性测试（地址）\n",
    "* | ^ & << >> ~：位运算符\n",
    "* & | ^：集合交集、并集、对称差集"
   ]
  },
  {
   "cell_type": "code",
   "execution_count": null,
   "id": "ee21fd7b",
   "metadata": {},
   "outputs": [
    {
     "name": "stdout",
     "output_type": "stream",
     "text": [
      "True\n",
      "False\n",
      "False\n",
      "True\n"
     ]
    }
   ],
   "source": [
    "# xor（异或）的例子\n",
    "a = True\n",
    "b = False\n",
    "print(a ^ b)\n",
    "print(a ^ a) # 任何数字和自己异或都是0\n",
    "print(a ^ (not b))\n",
    "\n",
    "# 逻辑运算的例子\n",
    "a = True\n",
    "b = False\n",
    "\n",
    "result = (a and not b) or (not a and b)\n",
    "print(result)  # 输出: True"
   ]
  },
  {
   "cell_type": "markdown",
   "id": "8f3dbd78",
   "metadata": {},
   "source": [
    "#### 1.4.6 常用内置函数（不需要导入模块就能直接使用的函数）\n",
    "* dir(\\_\\_builtins\\_\\_)以查看\n",
    "* 对于初学者来说，dir()和help()两个内置函数很有用\n",
    "  * import math\n",
    "  * dir(math)\n",
    "  * help(math.sqrt)\n",
    "* <b style=\"color: red;\">random模块</b>"
   ]
  },
  {
   "cell_type": "code",
   "execution_count": null,
   "id": "adb8b6a1",
   "metadata": {},
   "outputs": [
    {
     "name": "stdout",
     "output_type": "stream",
     "text": [
      "[11, 23, 50, 61, 18, 5, 7, 20, 40, 72]\n",
      "72 5 307 30.7\n"
     ]
    }
   ],
   "source": [
    "import random\n",
    "a = [random.randint(1,100) for i in range(10)] # 注意这里的编写，另外，range(10)是0到9\n",
    "print(a)\n",
    "print(max(a), min(a), sum(a), sum(a)/len(a))"
   ]
  },
  {
   "cell_type": "markdown",
   "id": "6df8f8c2",
   "metadata": {},
   "source": [
    "  * <b style=\"color: red;\">random模块应用：随机小写英文字母</b>\n",
    "    * chr(ord(' '))"
   ]
  },
  {
   "cell_type": "code",
   "execution_count": null,
   "id": "b2d115f5",
   "metadata": {},
   "outputs": [
    {
     "name": "stdout",
     "output_type": "stream",
     "text": [
      "The character is v\n",
      "The character is u\n"
     ]
    }
   ],
   "source": [
    "import random \n",
    "r=random.randint(0,25)\n",
    "print(\"The character is\",chr(r+ord('a')))  # 随机小写英文字母\n",
    "\n",
    "# 再加入string模块实现\n",
    "import string\n",
    "print(\"The character is\",random.choice(string.ascii_lowercase))"
   ]
  },
  {
   "cell_type": "markdown",
   "id": "f49c7f10",
   "metadata": {},
   "source": [
    "  * <b style=\"color: red;\">random模块应用：1到100之间随机4个不同整数\n",
    "    * random(): 返回在\\[0,1)区间的随机实数\n",
    "    * uniform(a,b): 返回在\\[a,b\\]区间的随机实数\n",
    "    * randint(a,b): 返回在\\[a,b\\]区间的随机整数\n",
    "    * choice(seq): 返回序列seq中的随机一个元素\n",
    "    * sample(seq,n): 从序列seq中随机选择n个不同的元素</b>"
   ]
  },
  {
   "cell_type": "code",
   "execution_count": null,
   "id": "e1ed545e",
   "metadata": {},
   "outputs": [
    {
     "name": "stdout",
     "output_type": "stream",
     "text": [
      "[83, 46, 28, 76]\n"
     ]
    }
   ],
   "source": [
    "import random\n",
    "print(random.sample(range(1,100),4))  #1到100之间随机4个不同的整数"
   ]
  },
  {
   "cell_type": "markdown",
   "id": "ffc75902",
   "metadata": {},
   "source": [
    "#### 1.4.7 对象的删除"
   ]
  },
  {
   "cell_type": "code",
   "execution_count": null,
   "id": "923b602c",
   "metadata": {},
   "outputs": [
    {
     "name": "stdout",
     "output_type": "stream",
     "text": [
      "3\n",
      "3\n",
      "[1, 3, 4, 5, 6]\n"
     ]
    },
    {
     "ename": "NameError",
     "evalue": "name 'y' is not defined",
     "output_type": "error",
     "traceback": [
      "\u001b[0;31m---------------------------------------------------------------------------\u001b[0m",
      "\u001b[0;31mNameError\u001b[0m                                 Traceback (most recent call last)",
      "Cell \u001b[0;32mIn[185], line 9\u001b[0m\n\u001b[1;32m      7\u001b[0m \u001b[38;5;28;01mdel\u001b[39;00m x[\u001b[38;5;241m1\u001b[39m] \u001b[38;5;66;03m# x中第2个元素被删除\u001b[39;00m\n\u001b[1;32m      8\u001b[0m \u001b[38;5;28mprint\u001b[39m(x)\n\u001b[0;32m----> 9\u001b[0m \u001b[38;5;28mprint\u001b[39m(y)\n",
      "\u001b[0;31mNameError\u001b[0m: name 'y' is not defined"
     ]
    }
   ],
   "source": [
    "x = [1,2,3,4,5,6]\n",
    "y = 3\n",
    "z = y\n",
    "print(y)\n",
    "del y\n",
    "print(z) # z与对象3的绑定没被解除\n",
    "del x[1] # x中第2个元素被删除\n",
    "print(x)\n",
    "print(y) # y与对象3的绑定被解除"
   ]
  },
  {
   "cell_type": "markdown",
   "id": "0b28b646",
   "metadata": {},
   "source": [
    "#### 1.4.8 基本输入输出\n",
    "* input(prompt)函数：首先输出promp，等待用户输入，直到用户按回车结束，返回用户输入的字符串（不包括最后的回车）\n",
    "* print(value1,value2,…,sep=' ',end='\\n',file=sys.stdout)：将多个值转换为字符串并且输出到相应的文件file，这些值之间以sep分隔，最后以end结束，sep缺省为空格，end缺省为换行，file缺省为标准输出 "
   ]
  },
  {
   "cell_type": "code",
   "execution_count": null,
   "id": "550137e0",
   "metadata": {},
   "outputs": [
    {
     "name": "stdout",
     "output_type": "stream",
     "text": [
      "Please input:3\n",
      "<class 'str'>\n",
      "3\n"
     ]
    }
   ],
   "source": [
    "x = input('Please input:')\n",
    "print(type(x))\n",
    "print(int(x))"
   ]
  },
  {
   "cell_type": "code",
   "execution_count": null,
   "id": "9746b780",
   "metadata": {},
   "outputs": [
    {
     "name": "stdout",
     "output_type": "stream",
     "text": [
      "Please input:3\n",
      "<class 'int'>\n"
     ]
    }
   ],
   "source": [
    "x = eval(input('Please input:'))\n",
    "print(type(x))"
   ]
  },
  {
   "cell_type": "code",
   "execution_count": null,
   "id": "fb4f1190",
   "metadata": {},
   "outputs": [
    {
     "name": "stdout",
     "output_type": "stream",
     "text": [
      "Mike 4 3.14\n",
      "Mike, 4, 3.14\n",
      "Mike, 4, 3.14****"
     ]
    }
   ],
   "source": [
    "x,y,z = 'Mike',4,3.14\n",
    "print(x,y,z)\n",
    "print(x,y,z,sep=', ')\n",
    "print(x,y,z,sep=', ',end='****')"
   ]
  },
  {
   "cell_type": "markdown",
   "id": "49a9af39",
   "metadata": {},
   "source": [
    "#### 1.4.9 模块（modules）的导入与使用\n",
    "* 可以使用sys.modules.items()显示所有预加载模块的相关信息\n",
    "* from math import *  \n",
    "  * 从模块中导入所有的对象\n",
    "  * 多个模块中有同样的对象名时造成混乱，因此谨慎使用"
   ]
  },
  {
   "cell_type": "code",
   "execution_count": null,
   "id": "3a4fff62",
   "metadata": {},
   "outputs": [
    {
     "data": {
      "text/plain": [
       "0.7978180950661204"
      ]
     },
     "execution_count": 211,
     "metadata": {},
     "output_type": "execute_result"
    }
   ],
   "source": [
    "import random as rnd\n",
    "x = rnd.random() # 生成[0, 1)内的随机小数\n",
    "x"
   ]
  },
  {
   "cell_type": "code",
   "execution_count": null,
   "id": "4019c9ce",
   "metadata": {},
   "outputs": [
    {
     "data": {
      "text/plain": [
       "0.1411200080598672"
      ]
     },
     "execution_count": 213,
     "metadata": {},
     "output_type": "execute_result"
    }
   ],
   "source": [
    "from math import sin as f\n",
    "f(3)"
   ]
  },
  {
   "cell_type": "code",
   "execution_count": null,
   "id": "9dc687a8",
   "metadata": {},
   "outputs": [
    {
     "data": {
      "text/plain": [
       "['/Users/liguanxi/Dropbox/00 大学/大三下/课程（大三下）/Python/Python note',\n",
       " '/Users/liguanxi/anaconda3/lib/python311.zip',\n",
       " '/Users/liguanxi/anaconda3/lib/python3.11',\n",
       " '/Users/liguanxi/anaconda3/lib/python3.11/lib-dynload',\n",
       " '',\n",
       " '/Users/liguanxi/anaconda3/lib/python3.11/site-packages',\n",
       " '/Users/liguanxi/anaconda3/lib/python3.11/site-packages/aeosa']"
      ]
     },
     "execution_count": 215,
     "metadata": {},
     "output_type": "execute_result"
    }
   ],
   "source": [
    "import sys # 导入模块spam时会从sys.path给出的目录列表中查找\n",
    "sys.path"
   ]
  },
  {
   "cell_type": "markdown",
   "id": "5265dbd7",
   "metadata": {},
   "source": [
    "* Python代码编写规范\n",
    "  * 如果一行语句太长，可以在行尾加上\\来换行分成多行，但是更建议使用括号来包含多行内容\n",
    "  * 注释"
   ]
  },
  {
   "cell_type": "code",
   "execution_count": null,
   "id": "cd8dad7c",
   "metadata": {},
   "outputs": [
    {
     "name": "stdout",
     "output_type": "stream",
     "text": [
      "True if the connection is closed.\n"
     ]
    }
   ],
   "source": [
    "def isclosed(self):\n",
    "    '''True if the connection is closed.''' # 这是一个长注释作为docstring\n",
    "    return self.fp is None\n",
    "print(isclosed.__doc__)"
   ]
  },
  {
   "cell_type": "markdown",
   "id": "0bf6884c",
   "metadata": {},
   "source": [
    "#### 1.7 __name__属性\n",
    "* 每个Python程序在运行时都有一个“\\_\\_name\\_\\_”属性。\n",
    "  * 如果程序作为模块被导入，则其“\\_\\_name\\_\\_”属性的值被自动设置为模块名\n",
    "  * 如果程序独立运行，则其“\\_\\_name\\_\\_”属性值被自动设置为“\\_\\_main\\_\\_”\n",
    "  \n",
    "<b style=\"color: red;\">例如，假设文件nametest.py中只包含下面一行代码：</b>\n",
    "\n",
    "print(\\_\\_name\\_\\_) \n",
    "\n",
    "<b style=\"color: red;\">直接运行时，结果为：</b>\n",
    "\n",
    "    \\_\\_main\\_\\_（结果）\n",
    "\n",
    "<b style=\"color: red;\">而将该文件作为模块导入时得到如下执行结果：</b>\n",
    "\n",
    "import nametest\n",
    "\n",
    "    nametest（运行结果）\n",
    "\n",
    "<b style=\"color: red;\">模块最后一句话通常是</b>\n",
    "\n",
    "if \\_\\_name\\_\\_ == '\\_\\_main\\_\\_':\n",
    "\n",
    "    function() ＃希望自动运行的函数"
   ]
  },
  {
   "cell_type": "code",
   "execution_count": null,
   "id": "7368447e",
   "metadata": {},
   "outputs": [
    {
     "name": "stdout",
     "output_type": "stream",
     "text": [
      "请输入一个数：321\n",
      "3 2 1\n",
      "输入两边长及夹角，以逗号分隔：1,1,90\n",
      "c= 1.414213562373095\n",
      "x,y,z=c,a,e\n",
      "a c e\n"
     ]
    }
   ],
   "source": [
    "## Chp 1 Practice\n",
    "# Question 1\n",
    "x = int(input(\"请输入一个数：\"))\n",
    "a = x//100\n",
    "b = x//10%10\n",
    "c = x%10\n",
    "print(a,b,c)\n",
    "\n",
    "# Question 2\n",
    "import math\n",
    "x = input('输入两边长及夹角，以逗号分隔：')\n",
    "a,b,theta = eval(x)\n",
    "c = math.sqrt(a**2 + b**2 -2*a*b*math.cos(theta*math.pi/180))\n",
    "# c = math.sqrt(a**2 + b**2 -2*a*b*math.cos(math.radians(theta))\n",
    "print('c=',c)\n",
    "\n",
    "# Question 3\n",
    "s = input('x,y,z=')\n",
    "x,y,z = s.split(',') # 记住\n",
    "if x > y:\n",
    "    x,y = y,x\n",
    "if x > z:\n",
    "    x,z = z,x\n",
    "if y > z:\n",
    "    y,z = z,y\n",
    "print(x,y,z)\n",
    "\n",
    "# Question 4还没做"
   ]
  }
 ],
 "metadata": {
  "kernelspec": {
   "display_name": "Python 3 (ipykernel)",
   "language": "python",
   "name": "python3"
  },
  "language_info": {
   "codemirror_mode": {
    "name": "ipython",
    "version": 3
   },
   "file_extension": ".py",
   "mimetype": "text/x-python",
   "name": "python",
   "nbconvert_exporter": "python",
   "pygments_lexer": "ipython3",
   "version": "3.11.5"
  }
 },
 "nbformat": 4,
 "nbformat_minor": 5
}
