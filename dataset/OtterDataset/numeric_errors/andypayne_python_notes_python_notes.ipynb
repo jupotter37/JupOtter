{
 "cells": [
  {
   "cell_type": "markdown",
   "metadata": {},
   "source": [
    "## Strings - accessing substrings"
   ]
  },
  {
   "cell_type": "code",
   "execution_count": 26,
   "metadata": {},
   "outputs": [
    {
     "name": "stdout",
     "output_type": "stream",
     "text": [
      "With\n",
      "view\n",
      "qualification. qualification\n"
     ]
    }
   ],
   "source": [
    "s1 = \"With regard to the view that all things are for the sake of an end and nothing is in vain, the assignation of ends is in general not easy, as it is usually stated to be ... we must set certain limits to purposiveness and to the effort after the best, and not assert it to exist in all cases without qualification.\"\n",
    "\n",
    "print(s1[0:4])\n",
    "print(s1[19:23])\n",
    "print(s1[-14:], s1[-14:-1])"
   ]
  },
  {
   "cell_type": "markdown",
   "metadata": {},
   "source": [
    "## Numbers"
   ]
  },
  {
   "cell_type": "code",
   "execution_count": 5,
   "metadata": {},
   "outputs": [
    {
     "name": "stdout",
     "output_type": "stream",
     "text": [
      "0x4d2\n",
      "0b10011010010\n",
      "0o2322\n"
     ]
    }
   ],
   "source": [
    "a_num = 1234\n",
    "\n",
    "# Hexadecimal\n",
    "print(hex(a_num))\n",
    "\n",
    "# Binary\n",
    "print(bin(a_num))\n",
    "\n",
    "# Octal\n",
    "print(oct(a_num))"
   ]
  },
  {
   "cell_type": "markdown",
   "metadata": {},
   "source": [
    "## Arrays, Lists, etc"
   ]
  },
  {
   "cell_type": "code",
   "execution_count": 1,
   "metadata": {},
   "outputs": [
    {
     "data": {
      "text/plain": [
       "[22, 44, 66]"
      ]
     },
     "execution_count": 1,
     "metadata": {},
     "output_type": "execute_result"
    }
   ],
   "source": [
    "# Limit the size of a list comprehension\n",
    "\n",
    "from itertools import islice\n",
    "\n",
    "evens_list = (x for x in [11,22,33,44,55,66,77,88,99,1010] if x % 2 == 0)\n",
    "list(islice(evens_list, 3))"
   ]
  },
  {
   "cell_type": "code",
   "execution_count": 4,
   "metadata": {},
   "outputs": [
    {
     "data": {
      "text/plain": [
       "{'field1': 'bar', 'field2': 'foo', 'field3': 456}"
      ]
     },
     "execution_count": 4,
     "metadata": {},
     "output_type": "execute_result"
    }
   ],
   "source": [
    "# Find an element in a list of dictionaries\n",
    "\n",
    "items = [\n",
    "    {'field1': 'foo',  'field2': 'bar',  'field3': 123},\n",
    "    {'field1': 'bar',  'field2': 'foo',  'field3': 456},\n",
    "    {'field1': 'baz',  'field2': 'quux', 'field3': 789},\n",
    "    {'field1': 'quux', 'field2': 'baz',  'field3': 101},\n",
    "]\n",
    "\n",
    "[item for item in items if item['field2'] == 'foo'][0]"
   ]
  },
  {
   "cell_type": "code",
   "execution_count": 19,
   "metadata": {},
   "outputs": [
    {
     "data": {
      "text/plain": [
       "'not found'"
      ]
     },
     "execution_count": 19,
     "metadata": {},
     "output_type": "execute_result"
    }
   ],
   "source": [
    "# Account for no match using an iterator and a default value\n",
    "next((item for item in items if item['field2'] == 'shazam'), \"not found\")"
   ]
  },
  {
   "cell_type": "markdown",
   "metadata": {},
   "source": [
    "### List comprehension with an assignment expression"
   ]
  },
  {
   "cell_type": "code",
   "execution_count": 7,
   "metadata": {},
   "outputs": [
    {
     "data": {
      "text/plain": [
       "[('4', 'apples'), ('23', 'pears'), ('10', 'bananas')]"
      ]
     },
     "execution_count": 7,
     "metadata": {},
     "output_type": "execute_result"
    }
   ],
   "source": [
    "# PEP: https://peps.python.org/pep-0572\n",
    "\n",
    "import re\n",
    "\n",
    "fruits_list = [ \"4 apples\", \"23 pears\", \"10 bananas\"]\n",
    "fruit_pairs = [\n",
    "    (m[0], m[1]) for f in fruits_list if (m:= re.match(r\"(\\d+)\\s+(\\w+)\", f).groups())\n",
    "]\n",
    "fruit_pairs"
   ]
  },
  {
   "cell_type": "markdown",
   "metadata": {},
   "source": [
    "### Bisect - maintain a list in sorted order"
   ]
  },
  {
   "cell_type": "markdown",
   "metadata": {},
   "source": [
    "[bisect documentation](https://docs.python.org/3/library/bisect.html)"
   ]
  },
  {
   "cell_type": "code",
   "execution_count": 7,
   "metadata": {},
   "outputs": [
    {
     "data": {
      "text/plain": [
       "[7, 7, 27, 51, 59, 66, 76, 81, 82, 88]"
      ]
     },
     "execution_count": 7,
     "metadata": {},
     "output_type": "execute_result"
    }
   ],
   "source": [
    "import bisect\n",
    "import random\n",
    "arr = []\n",
    "\n",
    "# bisect.insort - insert in order\n",
    "[bisect.insort(arr, int(100 * random.random())) for _ in range(10)]\n",
    "arr"
   ]
  },
  {
   "cell_type": "code",
   "execution_count": 8,
   "metadata": {},
   "outputs": [
    {
     "name": "stdout",
     "output_type": "stream",
     "text": [
      "index where 35 would fit into arr: 3\n",
      "new arr: [7, 7, 27, 35, 51, 59, 66, 76, 81, 82, 88]\n"
     ]
    }
   ],
   "source": [
    "# bisect.bisect to find the index value, then list.insert to insert:\n",
    "n = 35\n",
    "idx = bisect.bisect(arr, n)\n",
    "print(f\"index where {n} would fit into arr: {idx}\")\n",
    "arr.insert(idx, n)\n",
    "print(f\"new arr: {arr}\")"
   ]
  },
  {
   "cell_type": "code",
   "execution_count": 10,
   "metadata": {},
   "outputs": [
    {
     "name": "stdout",
     "output_type": "stream",
     "text": [
      "left bisect: 1\n",
      "right bisect: 4\n"
     ]
    }
   ],
   "source": [
    "# bisect.bisect_left and bisect.bisect_right for the leftmost or\n",
    "# rightmost index in the case of equal values in the list:\n",
    "arr = [1, 2, 2, 2, 3, 4]\n",
    "n = 2\n",
    "print(f\"left bisect: {bisect.bisect_left(arr, n)}\")\n",
    "print(f\"right bisect: {bisect.bisect_right(arr, n)}\")"
   ]
  },
  {
   "cell_type": "markdown",
   "metadata": {},
   "source": [
    "## Dictionaries"
   ]
  },
  {
   "cell_type": "code",
   "execution_count": 1,
   "metadata": {},
   "outputs": [
    {
     "data": {
      "text/plain": [
       "11"
      ]
     },
     "execution_count": 1,
     "metadata": {},
     "output_type": "execute_result"
    }
   ],
   "source": [
    "h = {\n",
    "    'one': {\n",
    "        'a': 10,\n",
    "        'b': 20\n",
    "    },\n",
    "    'two': {\n",
    "        'a': 100,\n",
    "        'b': 10\n",
    "    },\n",
    "    'three': {\n",
    "        'a': 123,\n",
    "        'b': 1\n",
    "    },\n",
    "    'four': {\n",
    "        'a': 50,\n",
    "        'b': 75\n",
    "    },\n",
    "    'five': {\n",
    "        'a': 21,\n",
    "        'b': 43\n",
    "    },\n",
    "    'six': {\n",
    "        'a': 22,\n",
    "        'b': 11\n",
    "    },\n",
    "    'seven': {\n",
    "        'a': 66,\n",
    "        'b': 44\n",
    "    }\n",
    "}\n",
    "\n",
    "h['six']['b']"
   ]
  },
  {
   "cell_type": "code",
   "execution_count": 3,
   "metadata": {},
   "outputs": [
    {
     "data": {
      "text/plain": [
       "dict_items([('one', {'a': 10, 'b': 20}), ('two', {'a': 100, 'b': 10}), ('three', {'a': 123, 'b': 1}), ('four', {'a': 50, 'b': 75}), ('five', {'a': 21, 'b': 43}), ('six', {'a': 22, 'b': 11}), ('seven', {'a': 66, 'b': 44})])"
      ]
     },
     "execution_count": 3,
     "metadata": {},
     "output_type": "execute_result"
    }
   ],
   "source": [
    "# Values\n",
    "h.items()"
   ]
  },
  {
   "cell_type": "code",
   "execution_count": 4,
   "metadata": {},
   "outputs": [
    {
     "data": {
      "text/plain": [
       "{'three': {'a': 123, 'b': 1},\n",
       " 'two': {'a': 100, 'b': 10},\n",
       " 'six': {'a': 22, 'b': 11},\n",
       " 'one': {'a': 10, 'b': 20},\n",
       " 'five': {'a': 21, 'b': 43},\n",
       " 'seven': {'a': 66, 'b': 44},\n",
       " 'four': {'a': 50, 'b': 75}}"
      ]
     },
     "execution_count": 4,
     "metadata": {},
     "output_type": "execute_result"
    }
   ],
   "source": [
    "# Sort a dictionary by a value\n",
    "{k: v for k, v in sorted(h.items(), key=lambda item: item[1]['b'])}"
   ]
  },
  {
   "cell_type": "code",
   "execution_count": 6,
   "metadata": {},
   "outputs": [
    {
     "data": {
      "text/plain": [
       "[('four', {'a': 50, 'b': 75}),\n",
       " ('seven', {'a': 66, 'b': 44}),\n",
       " ('five', {'a': 21, 'b': 43}),\n",
       " ('one', {'a': 10, 'b': 20}),\n",
       " ('six', {'a': 22, 'b': 11}),\n",
       " ('two', {'a': 100, 'b': 10}),\n",
       " ('three', {'a': 123, 'b': 1})]"
      ]
     },
     "execution_count": 6,
     "metadata": {},
     "output_type": "execute_result"
    }
   ],
   "source": [
    "# Reverse sort\n",
    "sorted(h.items(), key=lambda item: item[1]['b'], reverse=True)"
   ]
  },
  {
   "cell_type": "code",
   "execution_count": 3,
   "metadata": {},
   "outputs": [
    {
     "data": {
      "text/plain": [
       "[12, 44, 321, 456, 10101]"
      ]
     },
     "execution_count": 3,
     "metadata": {},
     "output_type": "execute_result"
    }
   ],
   "source": [
    "# More sorting\n",
    "\n",
    "h2 = {\n",
    "    'one': {\n",
    "        'a1': 456,\n",
    "        'a2': 4321\n",
    "    },\n",
    "    'two': {\n",
    "        'a1': 321,\n",
    "        'a2': 1234\n",
    "    },\n",
    "    'three': {\n",
    "        'a1': 12,\n",
    "        'a2': 505\n",
    "    },\n",
    "    'four': {\n",
    "        'a1': 10101,\n",
    "        'b1': 8\n",
    "    },\n",
    "    'five': {\n",
    "        'a1': 44,\n",
    "        'b1': 555\n",
    "    }\n",
    "}\n",
    "\n",
    "# Sort by sub-key a1\n",
    "sorted_keys = sorted(h2.keys(), key=lambda k: h2[k]['a1'])\n",
    "[h2[k]['a1'] for k in sorted_keys]"
   ]
  },
  {
   "cell_type": "code",
   "execution_count": 4,
   "metadata": {},
   "outputs": [
    {
     "data": {
      "text/plain": [
       "['three', 'one', 'five', 'two', 'four']"
      ]
     },
     "execution_count": 4,
     "metadata": {},
     "output_type": "execute_result"
    }
   ],
   "source": [
    "# Sort by the reverse of each key\n",
    "sorted_keys = sorted(h2.keys(), key=lambda k: k[::-1])\n",
    "sorted_keys"
   ]
  },
  {
   "cell_type": "markdown",
   "metadata": {},
   "source": [
    "### Dictionary default values"
   ]
  },
  {
   "cell_type": "code",
   "execution_count": 4,
   "metadata": {},
   "outputs": [
    {
     "data": {
      "text/plain": [
       "{'pizza': {'basil', 'cheese', 'dough', 'tomato sauce'},\n",
       " 'burger': {'bun', 'cheese', 'mayo', 'patty', 'pickles'},\n",
       " 'snowcone': {'ice', 'syrup'},\n",
       " 'mac and cheese': {'cheese', 'milk', 'pasta'}}"
      ]
     },
     "execution_count": 4,
     "metadata": {},
     "output_type": "execute_result"
    }
   ],
   "source": [
    "# For a predefined dictionary (here a dictionary of sets):\n",
    "dishes_dict = {\n",
    "    'pizza': {'cheese', 'dough', 'tomato sauce', 'basil'},\n",
    "    'burger': {'bun', 'cheese', 'patty', 'pickles', 'mayo'},\n",
    "    'snowcone': {'ice', 'syrup'},\n",
    "}\n",
    "\n",
    "# Use setdefault for a dictionary out of our control\n",
    "# Add a set of ingredients for a dish if it doesn't exist\n",
    "dishes_dict.setdefault('mac and cheese', set()).add('pasta')\n",
    "dishes_dict.setdefault('mac and cheese', set()).add('cheese')\n",
    "dishes_dict.setdefault('mac and cheese', set()).add('milk')\n",
    "dishes_dict"
   ]
  },
  {
   "cell_type": "code",
   "execution_count": 8,
   "metadata": {},
   "outputs": [
    {
     "name": "stdout",
     "output_type": "stream",
     "text": [
      "Dishes(defaultdict(<class 'set'>, {'pizza': {'dough', 'cheese'}, 'burger': {'bun'}, 'toast': {'bread'}}))\n"
     ]
    }
   ],
   "source": [
    "# For a dictionary we control, we can use defaultdict\n",
    "from collections import defaultdict\n",
    "\n",
    "\n",
    "# Wrap in a class\n",
    "class Dishes:\n",
    "    def __init__(self):\n",
    "        # Note: defaultdict can also take a custom function to run and\n",
    "        # return the default value to be used.\n",
    "        self.data = defaultdict(set)\n",
    "\n",
    "    def __repr__(self):\n",
    "        return f'Dishes({self.data})'\n",
    "\n",
    "    def add(self, dish, ingredients):\n",
    "        self.data[dish].add(ingredients)\n",
    "\n",
    "dishes = Dishes()\n",
    "dishes.add('pizza', 'dough')\n",
    "dishes.add('pizza', 'cheese')\n",
    "dishes.add('burger', 'bun')\n",
    "dishes.add('toast', 'bread')\n",
    "print(dishes)"
   ]
  },
  {
   "cell_type": "markdown",
   "metadata": {},
   "source": [
    "## Enums"
   ]
  },
  {
   "cell_type": "code",
   "execution_count": 3,
   "metadata": {},
   "outputs": [],
   "source": [
    "from enum import Enum, auto\n",
    "\n",
    "class ChessPiece(Enum):\n",
    "    \"\"\"\n",
    "    Chess pieces\n",
    "    \"\"\"\n",
    "\n",
    "    PAWN = auto()\n",
    "    KNIGHT = auto()\n",
    "    BISHOP = auto()\n",
    "    ROOK = auto()\n",
    "    QUEEN = auto()\n",
    "    KING = auto()\n",
    "    "
   ]
  },
  {
   "cell_type": "code",
   "execution_count": 9,
   "metadata": {},
   "outputs": [
    {
     "name": "stdout",
     "output_type": "stream",
     "text": [
      "piece: ChessPiece.ROOK\n",
      "piece is a rook: True\n",
      "piece is a queen: False\n"
     ]
    }
   ],
   "source": [
    "my_piece: ChessPiece = ChessPiece.ROOK\n",
    "print(f\"piece: {my_piece}\")\n",
    "print(f\"piece is a rook: {my_piece == ChessPiece.ROOK}\")\n",
    "print(f\"piece is a queen: {my_piece == ChessPiece.QUEEN}\")"
   ]
  },
  {
   "cell_type": "markdown",
   "metadata": {},
   "source": [
    "## Regular Expressions (Regex)"
   ]
  },
  {
   "cell_type": "code",
   "execution_count": 2,
   "metadata": {},
   "outputs": [],
   "source": [
    "import re"
   ]
  },
  {
   "cell_type": "code",
   "execution_count": 3,
   "metadata": {},
   "outputs": [
    {
     "data": {
      "text/plain": [
       "'123 Anywhere _Lane_, Springfield, USA. 456 Snowy _Road_, Pueblo, CO.'"
      ]
     },
     "execution_count": 3,
     "metadata": {},
     "output_type": "execute_result"
    }
   ],
   "source": [
    "# regex replace\n",
    "s = '123 Anywhere Lane, Springfield, USA. 456 Snowy Road, Pueblo, CO.'\n",
    "re.sub(r'(Lane|Road)', r'_\\1_', s)"
   ]
  },
  {
   "cell_type": "code",
   "execution_count": 7,
   "metadata": {},
   "outputs": [
    {
     "data": {
      "text/plain": [
       "'this sentence has 2 many title-case words!'"
      ]
     },
     "execution_count": 7,
     "metadata": {},
     "output_type": "execute_result"
    }
   ],
   "source": [
    "# Using lambda for operating on match groups - case transform example\n",
    "s = 'This Sentence Has 2 many Title-case words!'\n",
    "re.sub(r'\\b([A-Z]\\w+)\\b', lambda m: m.group(1).lower(), s)"
   ]
  },
  {
   "cell_type": "markdown",
   "metadata": {},
   "source": [
    "## Paths"
   ]
  },
  {
   "cell_type": "code",
   "execution_count": 2,
   "metadata": {},
   "outputs": [
    {
     "data": {
      "text/plain": [
       "'filename.txt'"
      ]
     },
     "execution_count": 2,
     "metadata": {},
     "output_type": "execute_result"
    }
   ],
   "source": [
    "from pathlib import Path\n",
    "\n",
    "p = Path(\"/path/to/some/filename.txt\")\n",
    "\n",
    "# Path basename\n",
    "p.name"
   ]
  },
  {
   "cell_type": "code",
   "execution_count": 3,
   "metadata": {},
   "outputs": [
    {
     "data": {
      "text/plain": [
       "PosixPath('/Users/andy')"
      ]
     },
     "execution_count": 3,
     "metadata": {},
     "output_type": "execute_result"
    }
   ],
   "source": [
    "# Home\n",
    "Path.home()"
   ]
  },
  {
   "cell_type": "code",
   "execution_count": 4,
   "metadata": {},
   "outputs": [
    {
     "data": {
      "text/plain": [
       "PosixPath('output/some_file_out.txt')"
      ]
     },
     "execution_count": 4,
     "metadata": {},
     "output_type": "execute_result"
    }
   ],
   "source": [
    "# Join paths portably with the / operator\n",
    "new_path = Path('./output') / ('some_file' + '_out.txt')\n",
    "new_path"
   ]
  },
  {
   "cell_type": "markdown",
   "metadata": {},
   "source": [
    "## Parsing XML\n",
    "\n",
    "Using [xml.etree.ElementTree](https://docs.python.org/3/library/xml.etree.elementtree.html)"
   ]
  },
  {
   "cell_type": "code",
   "execution_count": 12,
   "metadata": {},
   "outputs": [
    {
     "name": "stdout",
     "output_type": "stream",
     "text": [
      "country {'name': 'Liechtenstein'} 2008\n",
      "country {'name': 'Singapore'} 2011\n",
      "country {'name': 'Panama'} 2011\n"
     ]
    }
   ],
   "source": [
    "\n",
    "import xml.etree.ElementTree as ET\n",
    "\n",
    "xml_str = \"\"\"<?xml version=\"1.0\"?>\n",
    "<data>\n",
    "    <country name=\"Liechtenstein\">\n",
    "        <rank>1</rank>\n",
    "        <year>2008</year>\n",
    "        <gdppc>141100</gdppc>\n",
    "        <neighbor name=\"Austria\" direction=\"E\"/>\n",
    "        <neighbor name=\"Switzerland\" direction=\"W\"/>\n",
    "    </country>\n",
    "    <country name=\"Singapore\">\n",
    "        <rank>4</rank>\n",
    "        <year>2011</year>\n",
    "        <gdppc>59900</gdppc>\n",
    "        <neighbor name=\"Malaysia\" direction=\"N\"/>\n",
    "    </country>\n",
    "    <country name=\"Panama\">\n",
    "        <rank>68</rank>\n",
    "        <year>2011</year>\n",
    "        <gdppc>13600</gdppc>\n",
    "        <neighbor name=\"Costa Rica\" direction=\"W\"/>\n",
    "        <neighbor name=\"Colombia\" direction=\"E\"/>\n",
    "    </country>\n",
    "</data>\n",
    "\"\"\"\n",
    "\n",
    "# From a string:\n",
    "docroot = ET.fromstring(xml_str)\n",
    "\n",
    "# From a file:\n",
    "#tree = ET.parse('some_file.xml')\n",
    "#docroot = tree.getroot()\n",
    "\n",
    "for el in docroot:\n",
    "    # tag names, attributes, child elements\n",
    "    print(el.tag, el.attrib, el.find(\"year\").text)"
   ]
  },
  {
   "cell_type": "markdown",
   "metadata": {},
   "source": [
    "## Re-import a module in the repl"
   ]
  },
  {
   "cell_type": "code",
   "execution_count": 4,
   "metadata": {},
   "outputs": [
    {
     "data": {
      "text/plain": [
       "<module 're' from '/opt/anaconda3/lib/python3.8/re.py'>"
      ]
     },
     "execution_count": 4,
     "metadata": {},
     "output_type": "execute_result"
    }
   ],
   "source": [
    "# Use re as an example\n",
    "import importlib\n",
    "importlib.reload(re)"
   ]
  },
  {
   "cell_type": "markdown",
   "metadata": {},
   "source": [
    "## Reference a global and scope capture"
   ]
  },
  {
   "cell_type": "code",
   "execution_count": 2,
   "metadata": {},
   "outputs": [
    {
     "name": "stdout",
     "output_type": "stream",
     "text": [
      "123\n",
      "246\n",
      "246\n"
     ]
    }
   ],
   "source": [
    "# local capture\n",
    "\n",
    "def some_outer_fn():\n",
    "    a = 123\n",
    "    def some_inner_fn():\n",
    "        nonlocal a\n",
    "        a *= 2\n",
    "        print(a)\n",
    "    print(a)\n",
    "    some_inner_fn()\n",
    "    print(a)\n",
    "\n",
    "some_outer_fn()"
   ]
  },
  {
   "cell_type": "code",
   "execution_count": 3,
   "metadata": {},
   "outputs": [
    {
     "name": "stdout",
     "output_type": "stream",
     "text": [
      "foo\n",
      "foo bar\n"
     ]
    }
   ],
   "source": [
    "# globals\n",
    "\n",
    "some_var = 'foo'\n",
    "\n",
    "def a_func():\n",
    "    global some_var\n",
    "    some_var += ' bar'\n",
    "\n",
    "print(some_var)\n",
    "a_func()\n",
    "print(some_var)"
   ]
  },
  {
   "cell_type": "markdown",
   "metadata": {},
   "source": [
    "## The __dict__ and dot notation"
   ]
  },
  {
   "cell_type": "code",
   "execution_count": 1,
   "metadata": {},
   "outputs": [
    {
     "data": {
      "text/plain": [
       "19"
      ]
     },
     "execution_count": 1,
     "metadata": {},
     "output_type": "execute_result"
    }
   ],
   "source": [
    "def some_func(x):\n",
    "    a = 2\n",
    "    b = 5\n",
    "    c = a + b + x\n",
    "    return c\n",
    "\n",
    "some_func(12)"
   ]
  },
  {
   "cell_type": "code",
   "execution_count": 2,
   "metadata": {},
   "outputs": [
    {
     "data": {
      "text/plain": [
       "{}"
      ]
     },
     "execution_count": 2,
     "metadata": {},
     "output_type": "execute_result"
    }
   ],
   "source": [
    "some_func.__dict__"
   ]
  },
  {
   "cell_type": "code",
   "execution_count": 3,
   "metadata": {},
   "outputs": [
    {
     "data": {
      "text/plain": [
       "dict_keys([])"
      ]
     },
     "execution_count": 3,
     "metadata": {},
     "output_type": "execute_result"
    }
   ],
   "source": [
    "some_func.__dict__.keys()"
   ]
  },
  {
   "cell_type": "code",
   "execution_count": 4,
   "metadata": {},
   "outputs": [],
   "source": [
    "some_func.__dict__['bar'] = 'baz'"
   ]
  },
  {
   "cell_type": "code",
   "execution_count": 5,
   "metadata": {},
   "outputs": [
    {
     "data": {
      "text/plain": [
       "{'bar': 'baz'}"
      ]
     },
     "execution_count": 5,
     "metadata": {},
     "output_type": "execute_result"
    }
   ],
   "source": [
    "some_func.__dict__"
   ]
  },
  {
   "cell_type": "code",
   "execution_count": 6,
   "metadata": {},
   "outputs": [
    {
     "data": {
      "text/plain": [
       "'baz'"
      ]
     },
     "execution_count": 6,
     "metadata": {},
     "output_type": "execute_result"
    }
   ],
   "source": [
    "some_func.bar"
   ]
  },
  {
   "cell_type": "markdown",
   "metadata": {},
   "source": [
    "## Scope rules - LEGB\n",
    "\n",
    "### https://realpython.com/python-scope-legb-rule/\n",
    "\n",
    "LEGB - Local (Function), Enclosing, Global, Built-in"
   ]
  },
  {
   "cell_type": "code",
   "execution_count": 2,
   "metadata": {},
   "outputs": [
    {
     "ename": "NameError",
     "evalue": "name 'a_var' is not defined",
     "output_type": "error",
     "traceback": [
      "\u001b[0;31m---------------------------------------------------------------------------\u001b[0m",
      "\u001b[0;31mNameError\u001b[0m                                 Traceback (most recent call last)",
      "\u001b[0;32m<ipython-input-2-c695018e8f12>\u001b[0m in \u001b[0;36m<module>\u001b[0;34m\u001b[0m\n\u001b[1;32m      7\u001b[0m \u001b[0;34m\u001b[0m\u001b[0m\n\u001b[1;32m      8\u001b[0m \u001b[0;31m# Not defined\u001b[0m\u001b[0;34m\u001b[0m\u001b[0;34m\u001b[0m\u001b[0;34m\u001b[0m\u001b[0m\n\u001b[0;32m----> 9\u001b[0;31m \u001b[0ma_var\u001b[0m\u001b[0;34m\u001b[0m\u001b[0;34m\u001b[0m\u001b[0m\n\u001b[0m",
      "\u001b[0;31mNameError\u001b[0m: name 'a_var' is not defined"
     ]
    }
   ],
   "source": [
    "# Local\n",
    "# This is really function or lambda scope.\n",
    "def func_with_local():\n",
    "    a_var = 123\n",
    "\n",
    "# Not defined\n",
    "a_var"
   ]
  },
  {
   "cell_type": "code",
   "execution_count": 3,
   "metadata": {},
   "outputs": [
    {
     "data": {
      "text/plain": [
       "111"
      ]
     },
     "execution_count": 3,
     "metadata": {},
     "output_type": "execute_result"
    }
   ],
   "source": [
    "# Enclosing\n",
    "# Only for nested functions\n",
    "def func_with_local_func():\n",
    "    a_var_1 = 101\n",
    "    def local_func():\n",
    "        a_var_2 = a_var_1 + 10\n",
    "        return a_var_2\n",
    "    return local_func()\n",
    "\n",
    "func_with_local_func()"
   ]
  },
  {
   "cell_type": "code",
   "execution_count": 7,
   "metadata": {},
   "outputs": [
    {
     "data": {
      "text/plain": [
       "('local_func',)"
      ]
     },
     "execution_count": 7,
     "metadata": {},
     "output_type": "execute_result"
    }
   ],
   "source": [
    "# Vars\n",
    "func_with_local_func.__code__.co_varnames"
   ]
  },
  {
   "cell_type": "code",
   "execution_count": 9,
   "metadata": {},
   "outputs": [
    {
     "data": {
      "text/plain": [
       "(None,\n",
       " 101,\n",
       " <code object local_func at 0x7fe638a60450, file \"<ipython-input-3-3fce2557458a>\", line 5>,\n",
       " 'func_with_local_func.<locals>.local_func')"
      ]
     },
     "execution_count": 9,
     "metadata": {},
     "output_type": "execute_result"
    }
   ],
   "source": [
    "# Constants\n",
    "func_with_local_func.__code__.co_consts"
   ]
  },
  {
   "cell_type": "code",
   "execution_count": 5,
   "metadata": {},
   "outputs": [
    {
     "data": {
      "text/plain": [
       "'foo'"
      ]
     },
     "execution_count": 5,
     "metadata": {},
     "output_type": "execute_result"
    }
   ],
   "source": [
    "# Global\n",
    "# Obvious\n",
    "a_global_var = \"foo\"\n",
    "a_global_var"
   ]
  },
  {
   "cell_type": "code",
   "execution_count": 10,
   "metadata": {},
   "outputs": [
    {
     "data": {
      "text/plain": [
       "['In',\n",
       " 'Out',\n",
       " '_',\n",
       " '_3',\n",
       " '_5',\n",
       " '_6',\n",
       " '_7',\n",
       " '_9',\n",
       " '__',\n",
       " '___',\n",
       " '__builtin__',\n",
       " '__builtins__',\n",
       " '__doc__',\n",
       " '__loader__',\n",
       " '__name__',\n",
       " '__package__',\n",
       " '__spec__',\n",
       " '_dh',\n",
       " '_i',\n",
       " '_i1',\n",
       " '_i10',\n",
       " '_i2',\n",
       " '_i3',\n",
       " '_i4',\n",
       " '_i5',\n",
       " '_i6',\n",
       " '_i7',\n",
       " '_i8',\n",
       " '_i9',\n",
       " '_ih',\n",
       " '_ii',\n",
       " '_iii',\n",
       " '_oh',\n",
       " 'a_global_var',\n",
       " 'exit',\n",
       " 'func_with_local',\n",
       " 'func_with_local_func',\n",
       " 'get_ipython',\n",
       " 'quit']"
      ]
     },
     "execution_count": 10,
     "metadata": {},
     "output_type": "execute_result"
    }
   ],
   "source": [
    "# Built-in\n",
    "dir()"
   ]
  },
  {
   "cell_type": "code",
   "execution_count": 11,
   "metadata": {},
   "outputs": [
    {
     "data": {
      "text/plain": [
       "['ArithmeticError',\n",
       " 'AssertionError',\n",
       " 'AttributeError',\n",
       " 'BaseException',\n",
       " 'BlockingIOError',\n",
       " 'BrokenPipeError',\n",
       " 'BufferError',\n",
       " 'BytesWarning',\n",
       " 'ChildProcessError',\n",
       " 'ConnectionAbortedError',\n",
       " 'ConnectionError',\n",
       " 'ConnectionRefusedError',\n",
       " 'ConnectionResetError',\n",
       " 'DeprecationWarning',\n",
       " 'EOFError',\n",
       " 'Ellipsis',\n",
       " 'EnvironmentError',\n",
       " 'Exception',\n",
       " 'False',\n",
       " 'FileExistsError',\n",
       " 'FileNotFoundError',\n",
       " 'FloatingPointError',\n",
       " 'FutureWarning',\n",
       " 'GeneratorExit',\n",
       " 'IOError',\n",
       " 'ImportError',\n",
       " 'ImportWarning',\n",
       " 'IndentationError',\n",
       " 'IndexError',\n",
       " 'InterruptedError',\n",
       " 'IsADirectoryError',\n",
       " 'KeyError',\n",
       " 'KeyboardInterrupt',\n",
       " 'LookupError',\n",
       " 'MemoryError',\n",
       " 'ModuleNotFoundError',\n",
       " 'NameError',\n",
       " 'None',\n",
       " 'NotADirectoryError',\n",
       " 'NotImplemented',\n",
       " 'NotImplementedError',\n",
       " 'OSError',\n",
       " 'OverflowError',\n",
       " 'PendingDeprecationWarning',\n",
       " 'PermissionError',\n",
       " 'ProcessLookupError',\n",
       " 'RecursionError',\n",
       " 'ReferenceError',\n",
       " 'ResourceWarning',\n",
       " 'RuntimeError',\n",
       " 'RuntimeWarning',\n",
       " 'StopAsyncIteration',\n",
       " 'StopIteration',\n",
       " 'SyntaxError',\n",
       " 'SyntaxWarning',\n",
       " 'SystemError',\n",
       " 'SystemExit',\n",
       " 'TabError',\n",
       " 'TimeoutError',\n",
       " 'True',\n",
       " 'TypeError',\n",
       " 'UnboundLocalError',\n",
       " 'UnicodeDecodeError',\n",
       " 'UnicodeEncodeError',\n",
       " 'UnicodeError',\n",
       " 'UnicodeTranslateError',\n",
       " 'UnicodeWarning',\n",
       " 'UserWarning',\n",
       " 'ValueError',\n",
       " 'Warning',\n",
       " 'ZeroDivisionError',\n",
       " '__IPYTHON__',\n",
       " '__build_class__',\n",
       " '__debug__',\n",
       " '__doc__',\n",
       " '__import__',\n",
       " '__loader__',\n",
       " '__name__',\n",
       " '__package__',\n",
       " '__spec__',\n",
       " 'abs',\n",
       " 'all',\n",
       " 'any',\n",
       " 'ascii',\n",
       " 'bin',\n",
       " 'bool',\n",
       " 'breakpoint',\n",
       " 'bytearray',\n",
       " 'bytes',\n",
       " 'callable',\n",
       " 'chr',\n",
       " 'classmethod',\n",
       " 'compile',\n",
       " 'complex',\n",
       " 'copyright',\n",
       " 'credits',\n",
       " 'delattr',\n",
       " 'dict',\n",
       " 'dir',\n",
       " 'display',\n",
       " 'divmod',\n",
       " 'enumerate',\n",
       " 'eval',\n",
       " 'exec',\n",
       " 'filter',\n",
       " 'float',\n",
       " 'format',\n",
       " 'frozenset',\n",
       " 'get_ipython',\n",
       " 'getattr',\n",
       " 'globals',\n",
       " 'hasattr',\n",
       " 'hash',\n",
       " 'help',\n",
       " 'hex',\n",
       " 'id',\n",
       " 'input',\n",
       " 'int',\n",
       " 'isinstance',\n",
       " 'issubclass',\n",
       " 'iter',\n",
       " 'len',\n",
       " 'license',\n",
       " 'list',\n",
       " 'locals',\n",
       " 'map',\n",
       " 'max',\n",
       " 'memoryview',\n",
       " 'min',\n",
       " 'next',\n",
       " 'object',\n",
       " 'oct',\n",
       " 'open',\n",
       " 'ord',\n",
       " 'pow',\n",
       " 'print',\n",
       " 'property',\n",
       " 'range',\n",
       " 'repr',\n",
       " 'reversed',\n",
       " 'round',\n",
       " 'set',\n",
       " 'setattr',\n",
       " 'slice',\n",
       " 'sorted',\n",
       " 'staticmethod',\n",
       " 'str',\n",
       " 'sum',\n",
       " 'super',\n",
       " 'tuple',\n",
       " 'type',\n",
       " 'vars',\n",
       " 'zip']"
      ]
     },
     "execution_count": 11,
     "metadata": {},
     "output_type": "execute_result"
    }
   ],
   "source": [
    "dir(__builtins__)"
   ]
  },
  {
   "cell_type": "markdown",
   "metadata": {},
   "source": [
    "## Formatting/printing\n",
    "\n",
    "### f-strings"
   ]
  },
  {
   "cell_type": "markdown",
   "metadata": {},
   "source": [
    "### Basic"
   ]
  },
  {
   "cell_type": "code",
   "execution_count": 5,
   "metadata": {},
   "outputs": [
    {
     "name": "stdout",
     "output_type": "stream",
     "text": [
      "one = 1\n",
      "this is a key = 123.4567\n",
      "twenty = 20\n",
      "pi = 3.141592653\n"
     ]
    }
   ],
   "source": [
    "h1 = {\n",
    "    'one': 1,\n",
    "    'this is a key': 123.4567,\n",
    "    'twenty': 20,\n",
    "    'pi': 3.141592653,\n",
    "}\n",
    "\n",
    "for k, v in h1.items():\n",
    "    print(f'{k} = {v}')"
   ]
  },
  {
   "cell_type": "markdown",
   "metadata": {},
   "source": [
    "### More formatting"
   ]
  },
  {
   "cell_type": "code",
   "execution_count": 33,
   "metadata": {},
   "outputs": [
    {
     "name": "stdout",
     "output_type": "stream",
     "text": [
      "'one'                = 1.00\n",
      "'this is a key'      = 123.46\n",
      "'twenty'             = 20.00\n",
      "'pi'                 = 3.14\n"
     ]
    }
   ],
   "source": [
    "# Pad quoted key strings and round value floats\n",
    "for k, v in h1.items():\n",
    "    print(f'{k!r:<20} = {v:.2f}')"
   ]
  },
  {
   "cell_type": "code",
   "execution_count": 34,
   "metadata": {},
   "outputs": [
    {
     "name": "stdout",
     "output_type": "stream",
     "text": [
      "               'one' = 1.0\n",
      "     'this is a key' = 123.5\n",
      "            'twenty' = 20.0\n",
      "                'pi' = 3.1\n"
     ]
    }
   ],
   "source": [
    "# Right align quoted key strings\n",
    "for k, v in h1.items():\n",
    "    print(f'{k!r:>20} = {v:.1f}')"
   ]
  },
  {
   "cell_type": "code",
   "execution_count": 36,
   "metadata": {},
   "outputs": [
    {
     "name": "stdout",
     "output_type": "stream",
     "text": [
      "one             = 1.000\n",
      "this is a key   = 123.457\n",
      "twenty          = 20.000\n",
      "pi              = 3.142\n"
     ]
    }
   ],
   "source": [
    "# Use a variable for decimal places\n",
    "decs = 3\n",
    "for k, v in h1.items():\n",
    "    print(f'{k:<15} = {v:.{decs}f}')"
   ]
  },
  {
   "cell_type": "markdown",
   "metadata": {},
   "source": [
    "#### format()\n",
    "\n",
    "The [format()](https://docs.python.org/2/library/functions.html#format) built-in function uses the [format specification mini-language](https://docs.python.org/2/library/string.html#formatspec), similar to f-strings."
   ]
  },
  {
   "cell_type": "code",
   "execution_count": 7,
   "metadata": {},
   "outputs": [
    {
     "data": {
      "text/plain": [
       "'0b000110'"
      ]
     },
     "execution_count": 7,
     "metadata": {},
     "output_type": "execute_result"
    }
   ],
   "source": [
    "# Format as a zero-padded binary number 8 digits in length with \"0b\" prefix.\n",
    "format(6, \"#08b\")"
   ]
  },
  {
   "cell_type": "code",
   "execution_count": 9,
   "metadata": {},
   "outputs": [
    {
     "data": {
      "text/plain": [
       "'00111'"
      ]
     },
     "execution_count": 9,
     "metadata": {},
     "output_type": "execute_result"
    }
   ],
   "source": [
    "# Omit the prefix by removing \"#\".\n",
    "format(7, \"05b\")"
   ]
  },
  {
   "cell_type": "code",
   "execution_count": 11,
   "metadata": {},
   "outputs": [
    {
     "data": {
      "text/plain": [
       "'00111'"
      ]
     },
     "execution_count": 11,
     "metadata": {},
     "output_type": "execute_result"
    }
   ],
   "source": [
    "n = 7\n",
    "f\"{n:05b}\""
   ]
  },
  {
   "cell_type": "code",
   "execution_count": 15,
   "metadata": {},
   "outputs": [
    {
     "name": "stdout",
     "output_type": "stream",
     "text": [
      "abc                 foo def\n"
     ]
    }
   ],
   "source": [
    "s = \"foo\"\n",
    "print(f\"abc{s:>20} def\")"
   ]
  },
  {
   "cell_type": "code",
   "execution_count": 19,
   "metadata": {},
   "outputs": [
    {
     "data": {
      "text/plain": [
       "'                  foo                   '"
      ]
     },
     "execution_count": 19,
     "metadata": {},
     "output_type": "execute_result"
    }
   ],
   "source": [
    "# Center `s` within a 40 character wide field.\n",
    "f\"{s:^40}\""
   ]
  },
  {
   "cell_type": "markdown",
   "metadata": {},
   "source": [
    "## chr/ord/etc"
   ]
  },
  {
   "cell_type": "code",
   "execution_count": 3,
   "metadata": {},
   "outputs": [
    {
     "name": "stdout",
     "output_type": "stream",
     "text": [
      "['0', '1', '2', '3', '4', '5', '6', '7', '8', '9', 'A', 'B', 'C', 'D', 'E', 'F', 'G', 'H', 'I', 'J', 'K', 'L', 'M', 'N', 'O', 'P', 'Q', 'R', 'S', 'T', 'U', 'V', 'W', 'X', 'Y', 'Z', 'a', 'b', 'c', 'd', 'e', 'f', 'g', 'h', 'i', 'j', 'k', 'l', 'm', 'n', 'o', 'p', 'q', 'r', 's', 't', 'u', 'v', 'w', 'x', 'y']\n"
     ]
    }
   ],
   "source": [
    "print([chr(x) for x in range(ord('0'), ord('z')) if chr(x).isalnum()])"
   ]
  },
  {
   "cell_type": "code",
   "execution_count": 4,
   "metadata": {},
   "outputs": [],
   "source": [
    "chars = [chr(x) for x in range(ord('0'), ord('z')) if chr(x).isalnum()]"
   ]
  },
  {
   "cell_type": "code",
   "execution_count": 8,
   "metadata": {},
   "outputs": [
    {
     "data": {
      "text/plain": [
       "'y'"
      ]
     },
     "execution_count": 8,
     "metadata": {},
     "output_type": "execute_result"
    }
   ],
   "source": [
    "import random\n",
    "chars[int(random.random() * len(chars))]"
   ]
  },
  {
   "cell_type": "code",
   "execution_count": 16,
   "metadata": {},
   "outputs": [
    {
     "data": {
      "text/plain": [
       "'ZIYA9dMmfb'"
      ]
     },
     "execution_count": 16,
     "metadata": {},
     "output_type": "execute_result"
    }
   ],
   "source": [
    "''.join([chars[int(random.random() * len(chars))] for x in range(10)])"
   ]
  },
  {
   "cell_type": "markdown",
   "metadata": {},
   "source": [
    "## Dates, times, arrow, etc"
   ]
  },
  {
   "cell_type": "code",
   "execution_count": 1,
   "metadata": {},
   "outputs": [
    {
     "name": "stdout",
     "output_type": "stream",
     "text": [
      "Requirement already satisfied: arrow in /Users/andy/opt/anaconda3/lib/python3.9/site-packages (1.1.1)\n",
      "Collecting arrow\n",
      "  Downloading arrow-1.2.2-py3-none-any.whl (64 kB)\n",
      "\u001b[2K     \u001b[38;2;114;156;31m━━━━━━━━━━━━━━━━━━━━━━━━━━━━━━━━━━━━━━━━\u001b[0m \u001b[32m64.0/64.0 kB\u001b[0m \u001b[31m1.1 MB/s\u001b[0m eta \u001b[36m0:00:00\u001b[0m MB/s\u001b[0m eta \u001b[36m0:00:01\u001b[0m\n",
      "\u001b[?25hRequirement already satisfied: python-dateutil>=2.7.0 in /Users/andy/opt/anaconda3/lib/python3.9/site-packages (from arrow) (2.8.1)\n",
      "Requirement already satisfied: six>=1.5 in /Users/andy/opt/anaconda3/lib/python3.9/site-packages (from python-dateutil>=2.7.0->arrow) (1.16.0)\n",
      "Installing collected packages: arrow\n",
      "  Attempting uninstall: arrow\n",
      "    Found existing installation: arrow 1.1.1\n",
      "    Uninstalling arrow-1.1.1:\n",
      "      Successfully uninstalled arrow-1.1.1\n",
      "\u001b[31mERROR: pip's dependency resolver does not currently take into account all the packages that are installed. This behaviour is the source of the following dependency conflicts.\n",
      "cookiecutter 1.7.2 requires MarkupSafe<2.0.0, but you have markupsafe 2.0.1 which is incompatible.\u001b[0m\u001b[31m\n",
      "\u001b[0mSuccessfully installed arrow-1.2.2\n"
     ]
    }
   ],
   "source": [
    "# https://arrow.readthedocs.io/en/latest/\n",
    "!pip install -U arrow"
   ]
  },
  {
   "cell_type": "code",
   "execution_count": 2,
   "metadata": {},
   "outputs": [],
   "source": [
    "import arrow"
   ]
  },
  {
   "cell_type": "code",
   "execution_count": 3,
   "metadata": {},
   "outputs": [
    {
     "data": {
      "text/plain": [
       "<Arrow [2022-08-17T18:07:28.550213+00:00]>"
      ]
     },
     "execution_count": 3,
     "metadata": {},
     "output_type": "execute_result"
    }
   ],
   "source": [
    "now_utc = arrow.utcnow()\n",
    "now_utc"
   ]
  },
  {
   "cell_type": "code",
   "execution_count": 10,
   "metadata": {},
   "outputs": [
    {
     "name": "stdout",
     "output_type": "stream",
     "text": [
      "1660759648.550213\n",
      "2022-08-17 11:07:28-07:00\n",
      "a minute ago\n"
     ]
    }
   ],
   "source": [
    "now_tz = now_utc.to('US/Pacific')\n",
    "print(now_tz.timestamp())\n",
    "print(now_tz.format())\n",
    "print(now_tz.humanize())"
   ]
  },
  {
   "cell_type": "code",
   "execution_count": 14,
   "metadata": {},
   "outputs": [
    {
     "name": "stdout",
     "output_type": "stream",
     "text": [
      "2022-08-17T11:10:23.146027-07:00\n"
     ]
    }
   ],
   "source": [
    "print(arrow.now())"
   ]
  },
  {
   "cell_type": "code",
   "execution_count": 15,
   "metadata": {},
   "outputs": [
    {
     "data": {
      "text/plain": [
       "<Arrow [2022-08-17T18:07:28+00:00]>"
      ]
     },
     "execution_count": 15,
     "metadata": {},
     "output_type": "execute_result"
    }
   ],
   "source": [
    "# From an int timestamp\n",
    "arrow.get(1660759648)"
   ]
  },
  {
   "cell_type": "code",
   "execution_count": 16,
   "metadata": {},
   "outputs": [
    {
     "data": {
      "text/plain": [
       "<Arrow [2013-05-05T12:30:45+00:00]>"
      ]
     },
     "execution_count": 16,
     "metadata": {},
     "output_type": "execute_result"
    }
   ],
   "source": [
    "arrow.get('2013-05-05 12:30:45', 'YYYY-MM-DD HH:mm:ss')"
   ]
  },
  {
   "cell_type": "markdown",
   "metadata": {},
   "source": [
    "## ChainMap"
   ]
  },
  {
   "cell_type": "markdown",
   "metadata": {},
   "source": [
    "### For combining dictionaries"
   ]
  },
  {
   "cell_type": "code",
   "execution_count": 1,
   "metadata": {},
   "outputs": [],
   "source": [
    "from collections import ChainMap"
   ]
  },
  {
   "cell_type": "code",
   "execution_count": 3,
   "metadata": {},
   "outputs": [
    {
     "data": {
      "text/plain": [
       "ChainMap({'a': 10, 'b': 20, 'c': 30, 'd': 40}, {'c': 40, 'd': 50, 'e': 60})"
      ]
     },
     "execution_count": 3,
     "metadata": {},
     "output_type": "execute_result"
    }
   ],
   "source": [
    "d1 = {'a': 10, 'b': 20, 'c': 30, 'd': 40}\n",
    "d2 = {'c': 40, 'd': 50, 'e': 60}\n",
    "cmdict = ChainMap(d1, d2)\n",
    "cmdict"
   ]
  },
  {
   "cell_type": "code",
   "execution_count": 4,
   "metadata": {},
   "outputs": [
    {
     "data": {
      "text/plain": [
       "10"
      ]
     },
     "execution_count": 4,
     "metadata": {},
     "output_type": "execute_result"
    }
   ],
   "source": [
    "cmdict['a']"
   ]
  },
  {
   "cell_type": "code",
   "execution_count": 5,
   "metadata": {},
   "outputs": [
    {
     "data": {
      "text/plain": [
       "60"
      ]
     },
     "execution_count": 5,
     "metadata": {},
     "output_type": "execute_result"
    }
   ],
   "source": [
    "cmdict['e']"
   ]
  },
  {
   "cell_type": "code",
   "execution_count": 6,
   "metadata": {},
   "outputs": [
    {
     "data": {
      "text/plain": [
       "30"
      ]
     },
     "execution_count": 6,
     "metadata": {},
     "output_type": "execute_result"
    }
   ],
   "source": [
    "cmdict['c']"
   ]
  },
  {
   "cell_type": "code",
   "execution_count": 7,
   "metadata": {},
   "outputs": [
    {
     "data": {
      "text/plain": [
       "True"
      ]
     },
     "execution_count": 7,
     "metadata": {},
     "output_type": "execute_result"
    }
   ],
   "source": [
    "cmdict['c'] == d1['c']"
   ]
  },
  {
   "cell_type": "code",
   "execution_count": 8,
   "metadata": {},
   "outputs": [
    {
     "data": {
      "text/plain": [
       "False"
      ]
     },
     "execution_count": 8,
     "metadata": {},
     "output_type": "execute_result"
    }
   ],
   "source": [
    "cmdict['c'] == d2['c']"
   ]
  },
  {
   "cell_type": "markdown",
   "metadata": {},
   "source": [
    "## Counter"
   ]
  },
  {
   "cell_type": "markdown",
   "metadata": {},
   "source": [
    "### For counting frequencies of occurrence in lists, etc"
   ]
  },
  {
   "cell_type": "code",
   "execution_count": 11,
   "metadata": {},
   "outputs": [],
   "source": [
    "from collections import Counter"
   ]
  },
  {
   "cell_type": "code",
   "execution_count": 21,
   "metadata": {},
   "outputs": [
    {
     "data": {
      "text/plain": [
       "Counter({3: 3,\n",
       "         45: 1,\n",
       "         6: 4,\n",
       "         4: 2,\n",
       "         2: 2,\n",
       "         34: 1,\n",
       "         5: 3,\n",
       "         7: 3,\n",
       "         8: 2,\n",
       "         24: 1,\n",
       "         89: 1,\n",
       "         9: 1,\n",
       "         1: 1})"
      ]
     },
     "execution_count": 21,
     "metadata": {},
     "output_type": "execute_result"
    }
   ],
   "source": [
    "a = [3,45,6,4,3,2,34,5,6,7,8,7,6,5,4,3,2,24,5,6,7,8,89,9,1]\n",
    "c = Counter(a)\n",
    "c"
   ]
  },
  {
   "cell_type": "code",
   "execution_count": 27,
   "metadata": {},
   "outputs": [
    {
     "name": "stdout",
     "output_type": "stream",
     "text": [
      "7 occurs 3 time(s)\n",
      "24 occurs 1 time(s)\n",
      "1234 occurs 0 time(s)\n"
     ]
    }
   ],
   "source": [
    "# Access the frequency associated with a value\n",
    "print(f\"7 occurs {c[7]} time(s)\")\n",
    "print(f\"24 occurs {c[24]} time(s)\")\n",
    "print(f\"1234 occurs {c[1234]} time(s)\")"
   ]
  },
  {
   "cell_type": "code",
   "execution_count": 14,
   "metadata": {},
   "outputs": [
    {
     "name": "stdout",
     "output_type": "stream",
     "text": [
      "dict_keys([3, 45, 6, 4, 2, 34, 5, 7, 8, 24, 89, 9, 1])\n",
      "dict_values([3, 1, 4, 2, 2, 1, 3, 3, 2, 1, 1, 1, 1])\n"
     ]
    }
   ],
   "source": [
    "# Keys are numbers encountered. Values are frequencies of occurrence.\n",
    "print(c.keys())\n",
    "print(c.values())"
   ]
  },
  {
   "cell_type": "code",
   "execution_count": 15,
   "metadata": {},
   "outputs": [
    {
     "data": {
      "text/plain": [
       "89"
      ]
     },
     "execution_count": 15,
     "metadata": {},
     "output_type": "execute_result"
    }
   ],
   "source": [
    "# Max value (not frequency of occurrence)\n",
    "max(c)"
   ]
  },
  {
   "cell_type": "code",
   "execution_count": 17,
   "metadata": {},
   "outputs": [
    {
     "data": {
      "text/plain": [
       "True"
      ]
     },
     "execution_count": 17,
     "metadata": {},
     "output_type": "execute_result"
    }
   ],
   "source": [
    "max(c) == max(a)"
   ]
  },
  {
   "cell_type": "code",
   "execution_count": 19,
   "metadata": {},
   "outputs": [
    {
     "data": {
      "text/plain": [
       "[(6, 4)]"
      ]
     },
     "execution_count": 19,
     "metadata": {},
     "output_type": "execute_result"
    }
   ],
   "source": [
    "# Most common element(s) with count(s)\n",
    "c.most_common(1)"
   ]
  },
  {
   "cell_type": "code",
   "execution_count": 20,
   "metadata": {},
   "outputs": [
    {
     "data": {
      "text/plain": [
       "[(6, 4), (3, 3), (5, 3)]"
      ]
     },
     "execution_count": 20,
     "metadata": {},
     "output_type": "execute_result"
    }
   ],
   "source": [
    "c.most_common(3)"
   ]
  },
  {
   "cell_type": "code",
   "execution_count": 29,
   "metadata": {},
   "outputs": [
    {
     "data": {
      "text/plain": [
       "25"
      ]
     },
     "execution_count": 29,
     "metadata": {},
     "output_type": "execute_result"
    }
   ],
   "source": [
    "# In python 3.10+\n",
    "# c.total()\n",
    "# In python 3.9\n",
    "sum(c.values())"
   ]
  },
  {
   "cell_type": "code",
   "execution_count": 34,
   "metadata": {},
   "outputs": [
    {
     "data": {
      "text/plain": [
       "[3, 3, 3, 45, 6, 6, 6, 6, 4, 4, 2, 2, 34, 5, 5, 5, 7, 7, 7, 8, 8, 24, 89, 9, 1]"
      ]
     },
     "execution_count": 34,
     "metadata": {},
     "output_type": "execute_result"
    }
   ],
   "source": [
    "# An iterator over the elements, repeating each as many times as it occurs\n",
    "# in the source list. Elements are listed in order of first occurrence.\n",
    "list(c.elements())"
   ]
  },
  {
   "cell_type": "markdown",
   "metadata": {},
   "source": [
    "## namedtuple"
   ]
  },
  {
   "cell_type": "code",
   "execution_count": 2,
   "metadata": {},
   "outputs": [],
   "source": [
    "from collections import namedtuple"
   ]
  },
  {
   "cell_type": "code",
   "execution_count": 4,
   "metadata": {},
   "outputs": [
    {
     "name": "stdout",
     "output_type": "stream",
     "text": [
      "dish1: Dish(name='salad', course='first', price=5)\n",
      "dish1 price: 5\n",
      "dish2 name: ice cream\n",
      "dish2 course: dessert\n"
     ]
    }
   ],
   "source": [
    "Dish = namedtuple(\"Dish\", [\"name\", \"course\", \"price\"])\n",
    "\n",
    "dish1 = Dish(\"salad\", \"first\", 5)\n",
    "dish2 = Dish(\"ice cream\", \"dessert\", 3)\n",
    "\n",
    "print(f\"dish1: {dish1}\")\n",
    "print(f\"dish1 price: {dish1[2]}\")\n",
    "print(f\"dish2 name: {dish2.name}\")\n",
    "print(f\"dish2 course: {dish2.course}\")"
   ]
  },
  {
   "cell_type": "markdown",
   "metadata": {},
   "source": [
    "## Dataclasses"
   ]
  },
  {
   "cell_type": "code",
   "execution_count": 2,
   "metadata": {},
   "outputs": [],
   "source": [
    "class SomeBoilerplateClass:\n",
    "    def __init__(self, id: int, text: str):\n",
    "        # Immutable with properties\n",
    "        self.__id: int = id\n",
    "        self.__text: str = text\n",
    "            \n",
    "    @property\n",
    "    def id(self):\n",
    "        return self.__id\n",
    "    \n",
    "    @property\n",
    "    def text(self):\n",
    "        return self.__text\n",
    "\n",
    "    # Display\n",
    "    def __repr__(self):\n",
    "        return f\"{self.__class__.__name__}(id={self.id}, text={self.text})\"\n",
    "\n",
    "    # Equality\n",
    "    def __eq__(self, other):\n",
    "        if other.__class__ is self.__class__:\n",
    "            return (self.id, self.text) == (other.id, other.text)\n",
    "        else:\n",
    "            return NotImplemented\n",
    "\n",
    "    # Inequality - optimization\n",
    "    def __ne__(self, other):\n",
    "        result = self.__eq__(other)\n",
    "        if result is NotImplemented:\n",
    "            return NotImplemented\n",
    "        return not result\n",
    "\n",
    "    # Sortability (could use total_ordering from functools with just one)\n",
    "    def __lt__(self, other):\n",
    "        if other.__class__ is self.__class__:\n",
    "            return (self.id, self.text) < (other.id, other.text)\n",
    "        return NotImplemented\n",
    "\n",
    "    def __le__(self, other):\n",
    "        if other.__class__ is self.__class__:\n",
    "            return (self.id, self.text) <= (other.id, other.text)\n",
    "        return NotImplemented\n",
    "\n",
    "    def __gt__(self, other):\n",
    "        if other.__class__ is self.__class__:\n",
    "            return (self.id, self.text) > (other.id, other.text)\n",
    "        return NotImplemented\n",
    "\n",
    "    def __ge__(self, other):\n",
    "        if other.__class__ is self.__class__:\n",
    "            return (self.id, self.text) >= (other.id, other.text)\n",
    "        return NotImplemented\n",
    "\n",
    "    # For storing in a dict\n",
    "    def __hash__(self):\n",
    "        return hash((self.__class__, self.id, self.text))"
   ]
  },
  {
   "cell_type": "code",
   "execution_count": 10,
   "metadata": {},
   "outputs": [
    {
     "name": "stdout",
     "output_type": "stream",
     "text": [
      "SomeBoilerplateClass(id=123, text=foo)\n"
     ]
    },
    {
     "data": {
      "text/plain": [
       "123"
      ]
     },
     "execution_count": 10,
     "metadata": {},
     "output_type": "execute_result"
    }
   ],
   "source": [
    "sbc = SomeBoilerplateClass(123, \"foo\")\n",
    "print(sbc)\n",
    "sbc.id"
   ]
  },
  {
   "cell_type": "code",
   "execution_count": 21,
   "metadata": {},
   "outputs": [],
   "source": [
    "# With dataclasses:\n",
    "\n",
    "from dataclasses import dataclass\n",
    "\n",
    "# frozen --> immutable\n",
    "# order --> sortable\n",
    "@dataclass(frozen=True, order=True)\n",
    "class LessBoilerplateClass:\n",
    "    id: int\n",
    "    text: str\n",
    "    # Set default values with:\n",
    "    # text: str = \"\""
   ]
  },
  {
   "cell_type": "code",
   "execution_count": 9,
   "metadata": {},
   "outputs": [
    {
     "name": "stdout",
     "output_type": "stream",
     "text": [
      "LessBoilerplateClass(id=456, text='bar')\n"
     ]
    },
    {
     "data": {
      "text/plain": [
       "456"
      ]
     },
     "execution_count": 9,
     "metadata": {},
     "output_type": "execute_result"
    }
   ],
   "source": [
    "lbc = LessBoilerplateClass(456, \"bar\")\n",
    "print(lbc)\n",
    "lbc.id"
   ]
  },
  {
   "cell_type": "code",
   "execution_count": 13,
   "metadata": {},
   "outputs": [
    {
     "name": "stdout",
     "output_type": "stream",
     "text": [
      "(456, 'bar')\n",
      "{'id': 456, 'text': 'bar'}\n"
     ]
    }
   ],
   "source": [
    "from dataclasses import astuple, asdict\n",
    "print(astuple(lbc))\n",
    "print(asdict(lbc))"
   ]
  },
  {
   "cell_type": "code",
   "execution_count": 18,
   "metadata": {},
   "outputs": [
    {
     "name": "stdout",
     "output_type": "stream",
     "text": [
      "[('__delattr__',\n",
      "  <function __create_fn__.<locals>.__delattr__ at 0x7fd3103f0820>),\n",
      " ('__eq__', <function __create_fn__.<locals>.__eq__ at 0x7fd3103f04c0>),\n",
      " ('__ge__', <function __create_fn__.<locals>.__ge__ at 0x7fd3103f0700>),\n",
      " ('__gt__', <function __create_fn__.<locals>.__gt__ at 0x7fd3103f0670>),\n",
      " ('__hash__', <function __create_fn__.<locals>.__hash__ at 0x7fd3103f08b0>),\n",
      " ('__init__', <function __create_fn__.<locals>.__init__ at 0x7fd3103f0310>),\n",
      " ('__le__', <function __create_fn__.<locals>.__le__ at 0x7fd3103f05e0>),\n",
      " ('__lt__', <function __create_fn__.<locals>.__lt__ at 0x7fd3103f0550>),\n",
      " ('__repr__', <function __create_fn__.<locals>.__repr__ at 0x7fd331abdca0>),\n",
      " ('__setattr__',\n",
      "  <function __create_fn__.<locals>.__setattr__ at 0x7fd3103f0790>)]\n"
     ]
    }
   ],
   "source": [
    "import inspect\n",
    "from pprint import pprint\n",
    "pprint(inspect.getmembers(LessBoilerplateClass, inspect.isfunction))"
   ]
  },
  {
   "cell_type": "code",
   "execution_count": 24,
   "metadata": {},
   "outputs": [
    {
     "name": "stdout",
     "output_type": "stream",
     "text": [
      "LessBoilerplateClass(id=789, text='bar')\n"
     ]
    }
   ],
   "source": [
    "# Make a copy of the immutable class with a modification\n",
    "import dataclasses\n",
    "lbc2 = dataclasses.replace(lbc, id=789)\n",
    "print(lbc2)"
   ]
  },
  {
   "cell_type": "code",
   "execution_count": 25,
   "metadata": {},
   "outputs": [],
   "source": [
    "# For providing default values for composite types like list:\n",
    "@dataclass(frozen=True, order=True)\n",
    "class ClassWithDefList:\n",
    "    id: int\n",
    "    # This would cause all instances to share the same default list:\n",
    "    # lst: list[int] = []\n",
    "    # Instead:\n",
    "    lst: list[int] = dataclasses.field(default_factory=list)"
   ]
  },
  {
   "cell_type": "markdown",
   "metadata": {},
   "source": [
    "## Default mutable arguments"
   ]
  },
  {
   "cell_type": "code",
   "execution_count": 36,
   "metadata": {},
   "outputs": [
    {
     "name": "stdout",
     "output_type": "stream",
     "text": [
      "lst1 = [123]\n",
      "lst2 = [123, 456]\n",
      "lst1 = [123, 456]\n"
     ]
    }
   ],
   "source": [
    "# Default arguments that are mutable\n",
    "def append(x, lst=[]):\n",
    "    lst.append(x)\n",
    "    return lst\n",
    "\n",
    "lst1 = append(123)\n",
    "print(f\"lst1 = {lst1}\")\n",
    "lst2 = append(456)\n",
    "print(f\"lst2 = {lst2}\")\n",
    "print(f\"lst1 = {lst1}\")\n",
    "# lst's default is defined when the function is defined, not when it's called. So it's shared by all callers."
   ]
  },
  {
   "cell_type": "code",
   "execution_count": 31,
   "metadata": {},
   "outputs": [
    {
     "name": "stdout",
     "output_type": "stream",
     "text": [
      "lst1 = [123]\n",
      "lst2 = [456]\n"
     ]
    }
   ],
   "source": [
    "def better_append(x, lst=None):\n",
    "    if lst is None:\n",
    "        lst = []\n",
    "    lst.append(x)\n",
    "    return lst\n",
    "\n",
    "lst1 = better_append(123)\n",
    "lst2 = better_append(456)\n",
    "print(f\"lst1 = {lst1}\")\n",
    "print(f\"lst2 = {lst2}\")"
   ]
  },
  {
   "cell_type": "markdown",
   "metadata": {},
   "source": [
    "## Type checking, Liskov substitution awareness"
   ]
  },
  {
   "cell_type": "code",
   "execution_count": 42,
   "metadata": {},
   "outputs": [
    {
     "name": "stdout",
     "output_type": "stream",
     "text": [
      "type equality: True\n",
      "isinstance:    True\n"
     ]
    }
   ],
   "source": [
    "x = (12, 34)\n",
    "print(f\"type equality: {type(x) == tuple}\")\n",
    "print(f\"isinstance:    {isinstance(x, tuple)}\")"
   ]
  },
  {
   "cell_type": "code",
   "execution_count": 43,
   "metadata": {},
   "outputs": [
    {
     "name": "stdout",
     "output_type": "stream",
     "text": [
      "type equality: False\n",
      "isinstance:    True\n"
     ]
    }
   ],
   "source": [
    "class SubTuple(tuple):\n",
    "    def __new__(self, x, y):\n",
    "        return tuple.__new__(SubTuple, (x, y))\n",
    "\n",
    "x2 = SubTuple(12, 34)\n",
    "print(f\"type equality: {type(x2) == tuple}\")\n",
    "print(f\"isinstance:    {isinstance(x2, tuple)}\")"
   ]
  },
  {
   "cell_type": "markdown",
   "metadata": {},
   "source": [
    "## Timing code"
   ]
  },
  {
   "cell_type": "code",
   "execution_count": 46,
   "metadata": {},
   "outputs": [
    {
     "name": "stdout",
     "output_type": "stream",
     "text": [
      "time taken = 2.006207166999957 sec\n"
     ]
    }
   ],
   "source": [
    "import time\n",
    "\n",
    "start = time.perf_counter()\n",
    "time.sleep(2)\n",
    "end = time.perf_counter()\n",
    "print(f\"time taken = {end - start} sec\")"
   ]
  },
  {
   "cell_type": "markdown",
   "metadata": {},
   "source": [
    "## weakref and reference counting"
   ]
  },
  {
   "cell_type": "code",
   "execution_count": 14,
   "metadata": {},
   "outputs": [],
   "source": [
    "class Cls:\n",
    "    def __del__(self):\n",
    "        print(f\"*del* {self=}\")"
   ]
  },
  {
   "cell_type": "code",
   "execution_count": 17,
   "metadata": {},
   "outputs": [
    {
     "data": {
      "text/plain": [
       "<__main__.Cls at 0x7fd981a67880>"
      ]
     },
     "execution_count": 17,
     "metadata": {},
     "output_type": "execute_result"
    }
   ],
   "source": [
    "Cls()"
   ]
  },
  {
   "cell_type": "code",
   "execution_count": 15,
   "metadata": {},
   "outputs": [],
   "source": [
    "c = Cls()"
   ]
  },
  {
   "cell_type": "code",
   "execution_count": 9,
   "metadata": {},
   "outputs": [
    {
     "data": {
      "text/plain": [
       "2"
      ]
     },
     "execution_count": 9,
     "metadata": {},
     "output_type": "execute_result"
    }
   ],
   "source": [
    "import sys\n",
    "sys.getrefcount(c)"
   ]
  },
  {
   "cell_type": "code",
   "execution_count": 10,
   "metadata": {},
   "outputs": [
    {
     "data": {
      "text/plain": [
       "3"
      ]
     },
     "execution_count": 10,
     "metadata": {},
     "output_type": "execute_result"
    }
   ],
   "source": [
    "d = c\n",
    "sys.getrefcount(c)"
   ]
  },
  {
   "cell_type": "code",
   "execution_count": 11,
   "metadata": {},
   "outputs": [
    {
     "data": {
      "text/plain": [
       "3"
      ]
     },
     "execution_count": 11,
     "metadata": {},
     "output_type": "execute_result"
    }
   ],
   "source": [
    "sys.getrefcount(c)"
   ]
  },
  {
   "cell_type": "code",
   "execution_count": 12,
   "metadata": {},
   "outputs": [
    {
     "data": {
      "text/plain": [
       "2"
      ]
     },
     "execution_count": 12,
     "metadata": {},
     "output_type": "execute_result"
    }
   ],
   "source": [
    "d = None\n",
    "sys.getrefcount(c)"
   ]
  },
  {
   "cell_type": "code",
   "execution_count": 16,
   "metadata": {},
   "outputs": [
    {
     "name": "stdout",
     "output_type": "stream",
     "text": [
      "*del* self=<__main__.Cls object at 0x7fd981a67280>\n"
     ]
    }
   ],
   "source": [
    "c = None"
   ]
  },
  {
   "cell_type": "code",
   "execution_count": 49,
   "metadata": {},
   "outputs": [],
   "source": [
    "import weakref\n",
    "c = Cls()\n",
    "d = weakref.ref(c)"
   ]
  },
  {
   "cell_type": "code",
   "execution_count": 50,
   "metadata": {},
   "outputs": [
    {
     "data": {
      "text/plain": [
       "2"
      ]
     },
     "execution_count": 50,
     "metadata": {},
     "output_type": "execute_result"
    }
   ],
   "source": [
    "# The reference count is not incremented with d's weakref\n",
    "sys.getrefcount(c)"
   ]
  },
  {
   "cell_type": "code",
   "execution_count": 51,
   "metadata": {},
   "outputs": [
    {
     "data": {
      "text/plain": [
       "<weakref at 0x7fd950111f90; to 'Cls' at 0x7fd981a67700>"
      ]
     },
     "execution_count": 51,
     "metadata": {},
     "output_type": "execute_result"
    }
   ],
   "source": [
    "d"
   ]
  },
  {
   "cell_type": "code",
   "execution_count": 52,
   "metadata": {},
   "outputs": [
    {
     "data": {
      "text/plain": [
       "<__main__.Cls at 0x7fd981a67700>"
      ]
     },
     "execution_count": 52,
     "metadata": {},
     "output_type": "execute_result"
    }
   ],
   "source": [
    "# The target object (or None if the object has been garbage collected)\n",
    "d()"
   ]
  },
  {
   "cell_type": "code",
   "execution_count": 53,
   "metadata": {},
   "outputs": [
    {
     "name": "stdout",
     "output_type": "stream",
     "text": [
      "<__main__.Cls object at 0x7fd981a67700>\n"
     ]
    }
   ],
   "source": [
    "# Reassign c, then d() will be `None`\n",
    "# NOTE: I think this doesn't work due to jupyter notebook holding a reference to c, even after _ changes.\n",
    "c = 123\n",
    "print(d())"
   ]
  },
  {
   "cell_type": "code",
   "execution_count": 54,
   "metadata": {},
   "outputs": [
    {
     "data": {
      "text/plain": [
       "<__main__.Cls at 0x7fd981a67700>"
      ]
     },
     "execution_count": 54,
     "metadata": {},
     "output_type": "execute_result"
    }
   ],
   "source": [
    "_"
   ]
  },
  {
   "cell_type": "code",
   "execution_count": 55,
   "metadata": {},
   "outputs": [
    {
     "data": {
      "text/plain": [
       "1234"
      ]
     },
     "execution_count": 55,
     "metadata": {},
     "output_type": "execute_result"
    }
   ],
   "source": [
    "1234"
   ]
  },
  {
   "cell_type": "code",
   "execution_count": 56,
   "metadata": {},
   "outputs": [
    {
     "data": {
      "text/plain": [
       "1234"
      ]
     },
     "execution_count": 56,
     "metadata": {},
     "output_type": "execute_result"
    }
   ],
   "source": [
    "_"
   ]
  },
  {
   "cell_type": "code",
   "execution_count": 57,
   "metadata": {},
   "outputs": [
    {
     "data": {
      "text/plain": [
       "<__main__.Cls at 0x7fd981a67700>"
      ]
     },
     "execution_count": 57,
     "metadata": {},
     "output_type": "execute_result"
    }
   ],
   "source": [
    "d()"
   ]
  },
  {
   "cell_type": "markdown",
   "metadata": {},
   "source": [
    "## Collecting the starting positions of characters in a string\n",
    "\n",
    "Given a string `s`, we want to build a dictionary of the first occurrences of all characters in `s`."
   ]
  },
  {
   "cell_type": "code",
   "execution_count": 1,
   "metadata": {},
   "outputs": [],
   "source": [
    "s = \"abcdabedefgabdacxfkabksxoqakslmptshnedalf\""
   ]
  },
  {
   "cell_type": "code",
   "execution_count": 7,
   "metadata": {},
   "outputs": [
    {
     "data": {
      "text/plain": [
       "defaultdict(int,\n",
       "            {'a': 7,\n",
       "             'b': 4,\n",
       "             'c': 2,\n",
       "             'd': 4,\n",
       "             'e': 3,\n",
       "             'f': 3,\n",
       "             'g': 1,\n",
       "             'x': 2,\n",
       "             'k': 3,\n",
       "             's': 3,\n",
       "             'o': 1,\n",
       "             'q': 1,\n",
       "             'l': 2,\n",
       "             'm': 1,\n",
       "             'p': 1,\n",
       "             't': 1,\n",
       "             'h': 1,\n",
       "             'n': 1})"
      ]
     },
     "execution_count": 7,
     "metadata": {},
     "output_type": "execute_result"
    }
   ],
   "source": [
    "# To count all characters, either a defaultdict can be used:\n",
    "from collections import defaultdict\n",
    "counts = defaultdict(int)\n",
    "for c in s:\n",
    "    counts[c] += 1\n",
    "counts"
   ]
  },
  {
   "cell_type": "code",
   "execution_count": 8,
   "metadata": {},
   "outputs": [
    {
     "data": {
      "text/plain": [
       "Counter({'a': 7,\n",
       "         'b': 4,\n",
       "         'c': 2,\n",
       "         'd': 4,\n",
       "         'e': 3,\n",
       "         'f': 3,\n",
       "         'g': 1,\n",
       "         'x': 2,\n",
       "         'k': 3,\n",
       "         's': 3,\n",
       "         'o': 1,\n",
       "         'q': 1,\n",
       "         'l': 2,\n",
       "         'm': 1,\n",
       "         'p': 1,\n",
       "         't': 1,\n",
       "         'h': 1,\n",
       "         'n': 1})"
      ]
     },
     "execution_count": 8,
     "metadata": {},
     "output_type": "execute_result"
    }
   ],
   "source": [
    "# Or a Counter:\n",
    "from collections import Counter\n",
    "counts = Counter(s)\n",
    "counts"
   ]
  },
  {
   "cell_type": "code",
   "execution_count": 9,
   "metadata": {},
   "outputs": [
    {
     "data": {
      "text/plain": [
       "{'a': 38,\n",
       " 'b': 20,\n",
       " 'c': 15,\n",
       " 'd': 37,\n",
       " 'e': 36,\n",
       " 'f': 40,\n",
       " 'g': 10,\n",
       " 'x': 23,\n",
       " 'k': 27,\n",
       " 's': 33,\n",
       " 'o': 24,\n",
       " 'q': 25,\n",
       " 'l': 39,\n",
       " 'm': 30,\n",
       " 'p': 31,\n",
       " 't': 32,\n",
       " 'h': 34,\n",
       " 'n': 35}"
      ]
     },
     "execution_count": 9,
     "metadata": {},
     "output_type": "execute_result"
    }
   ],
   "source": [
    "# To build a dictionary of the final occurrences of each character, a simple dict comprehension will work:\n",
    "last_indices = {c: i for i, c in enumerate(s)}\n",
    "last_indices"
   ]
  },
  {
   "cell_type": "code",
   "execution_count": 11,
   "metadata": {},
   "outputs": [
    {
     "data": {
      "text/plain": [
       "{'f': 9,\n",
       " 'l': 29,\n",
       " 'a': 0,\n",
       " 'd': 3,\n",
       " 'e': 6,\n",
       " 'n': 35,\n",
       " 'h': 34,\n",
       " 's': 22,\n",
       " 't': 32,\n",
       " 'p': 31,\n",
       " 'm': 30,\n",
       " 'k': 18,\n",
       " 'q': 25,\n",
       " 'o': 24,\n",
       " 'x': 16,\n",
       " 'b': 1,\n",
       " 'c': 2,\n",
       " 'g': 10}"
      ]
     },
     "execution_count": 11,
     "metadata": {},
     "output_type": "execute_result"
    }
   ],
   "source": [
    "# Since there's no way to reference the dictionary while it is being built in the comprehension,\n",
    "# subsequent indices will overwrite initial indices. So to find the first indices for each char,\n",
    "# the string must be reversed before the comprehension runs. And then the index must be reversed\n",
    "# again to get the index in the original, unreversed string.\n",
    "first_indices = {c: len(s) - 1 - i for i, c in enumerate(s[::-1])}\n",
    "first_indices"
   ]
  },
  {
   "cell_type": "markdown",
   "metadata": {},
   "source": [
    "## Loguru - logging"
   ]
  },
  {
   "cell_type": "code",
   "execution_count": 1,
   "metadata": {},
   "outputs": [],
   "source": [
    "# https://github.com/Delgan/loguru\n",
    "\n",
    "from loguru import logger"
   ]
  },
  {
   "cell_type": "code",
   "execution_count": 2,
   "metadata": {},
   "outputs": [
    {
     "name": "stderr",
     "output_type": "stream",
     "text": [
      "\u001b[32m2023-10-08 21:40:58.734\u001b[0m | \u001b[34m\u001b[1mDEBUG   \u001b[0m | \u001b[36m__main__\u001b[0m:\u001b[36m<module>\u001b[0m:\u001b[36m1\u001b[0m - \u001b[34m\u001b[1mThis is a debug message.\u001b[0m\n"
     ]
    }
   ],
   "source": [
    "logger.debug(\"This is a debug message.\")"
   ]
  },
  {
   "cell_type": "code",
   "execution_count": 3,
   "metadata": {},
   "outputs": [
    {
     "name": "stderr",
     "output_type": "stream",
     "text": [
      "\u001b[32m2023-10-08 21:41:10.332\u001b[0m | \u001b[1mINFO    \u001b[0m | \u001b[36m__main__\u001b[0m:\u001b[36m<module>\u001b[0m:\u001b[36m1\u001b[0m - \u001b[1mInfo message\u001b[0m\n"
     ]
    }
   ],
   "source": [
    "logger.info(\"Info message\")"
   ]
  },
  {
   "cell_type": "code",
   "execution_count": 5,
   "metadata": {},
   "outputs": [
    {
     "name": "stderr",
     "output_type": "stream",
     "text": [
      "\u001b[32m2023-10-08 21:43:57.630\u001b[0m | \u001b[31m\u001b[1mERROR   \u001b[0m | \u001b[36m__main__\u001b[0m:\u001b[36m<module>\u001b[0m:\u001b[36m5\u001b[0m - \u001b[31m\u001b[1mAn error has been caught in function '<module>', process 'MainProcess' (18474), thread 'MainThread' (8611132032):\u001b[0m\n",
      "\u001b[33m\u001b[1mTraceback (most recent call last):\u001b[0m\n",
      "\n",
      "  File \"/Users/andy/opt/anaconda3/lib/python3.10/runpy.py\", line 196, in _run_module_as_main\n",
      "    return _run_code(code, main_globals, None,\n",
      "           │         │     └ {'__name__': '__main__', '__doc__': 'Entry point for launching an IPython kernel.\\n\\nThis is separate from the ipykernel pack...\n",
      "           │         └ <code object <module> at 0x109e626b0, file \"/Users/andy/Documents/src/python_notes/env/lib/python3.10/site-packages/ipykernel...\n",
      "           └ <function _run_code at 0x109ed97e0>\n",
      "  File \"/Users/andy/opt/anaconda3/lib/python3.10/runpy.py\", line 86, in _run_code\n",
      "    exec(code, run_globals)\n",
      "         │     └ {'__name__': '__main__', '__doc__': 'Entry point for launching an IPython kernel.\\n\\nThis is separate from the ipykernel pack...\n",
      "         └ <code object <module> at 0x109e626b0, file \"/Users/andy/Documents/src/python_notes/env/lib/python3.10/site-packages/ipykernel...\n",
      "  File \"/Users/andy/Documents/src/python_notes/env/lib/python3.10/site-packages/ipykernel_launcher.py\", line 17, in <module>\n",
      "    app.launch_new_instance()\n",
      "    │   └ <bound method Application.launch_instance of <class 'ipykernel.kernelapp.IPKernelApp'>>\n",
      "    └ <module 'ipykernel.kernelapp' from '/Users/andy/Documents/src/python_notes/env/lib/python3.10/site-packages/ipykernel/kernela...\n",
      "  File \"/Users/andy/Documents/src/python_notes/env/lib/python3.10/site-packages/traitlets/config/application.py\", line 978, in launch_instance\n",
      "    app.start()\n",
      "    │   └ <function IPKernelApp.start at 0x10d6a8790>\n",
      "    └ <ipykernel.kernelapp.IPKernelApp object at 0x109dc1c00>\n",
      "  File \"/Users/andy/Documents/src/python_notes/env/lib/python3.10/site-packages/ipykernel/kernelapp.py\", line 712, in start\n",
      "    self.io_loop.start()\n",
      "    │    │       └ <function BaseAsyncIOLoop.start at 0x10b733520>\n",
      "    │    └ <tornado.platform.asyncio.AsyncIOMainLoop object at 0x10d6ca1d0>\n",
      "    └ <ipykernel.kernelapp.IPKernelApp object at 0x109dc1c00>\n",
      "  File \"/Users/andy/Documents/src/python_notes/env/lib/python3.10/site-packages/tornado/platform/asyncio.py\", line 215, in start\n",
      "    self.asyncio_loop.run_forever()\n",
      "    │    │            └ <function BaseEventLoop.run_forever at 0x10a557d00>\n",
      "    │    └ <_UnixSelectorEventLoop running=True closed=False debug=False>\n",
      "    └ <tornado.platform.asyncio.AsyncIOMainLoop object at 0x10d6ca1d0>\n",
      "  File \"/Users/andy/opt/anaconda3/lib/python3.10/asyncio/base_events.py\", line 603, in run_forever\n",
      "    self._run_once()\n",
      "    │    └ <function BaseEventLoop._run_once at 0x10a561870>\n",
      "    └ <_UnixSelectorEventLoop running=True closed=False debug=False>\n",
      "  File \"/Users/andy/opt/anaconda3/lib/python3.10/asyncio/base_events.py\", line 1899, in _run_once\n",
      "    handle._run()\n",
      "    │      └ <function Handle._run at 0x10a4fcb80>\n",
      "    └ <Handle Task.task_wakeup(<Future finis...400>, ...],))>)>\n",
      "  File \"/Users/andy/opt/anaconda3/lib/python3.10/asyncio/events.py\", line 80, in _run\n",
      "    self._context.run(self._callback, *self._args)\n",
      "    │    │            │    │           │    └ <member '_args' of 'Handle' objects>\n",
      "    │    │            │    │           └ <Handle Task.task_wakeup(<Future finis...400>, ...],))>)>\n",
      "    │    │            │    └ <member '_callback' of 'Handle' objects>\n",
      "    │    │            └ <Handle Task.task_wakeup(<Future finis...400>, ...],))>)>\n",
      "    │    └ <member '_context' of 'Handle' objects>\n",
      "    └ <Handle Task.task_wakeup(<Future finis...400>, ...],))>)>\n",
      "  File \"/Users/andy/Documents/src/python_notes/env/lib/python3.10/site-packages/ipykernel/kernelbase.py\", line 510, in dispatch_queue\n",
      "    await self.process_one()\n",
      "          │    └ <function Kernel.process_one at 0x10ce0e320>\n",
      "          └ <ipykernel.ipkernel.IPythonKernel object at 0x10d6ca7d0>\n",
      "  File \"/Users/andy/Documents/src/python_notes/env/lib/python3.10/site-packages/ipykernel/kernelbase.py\", line 499, in process_one\n",
      "    await dispatch(*args)\n",
      "          │         └ ([<zmq.sugar.frame.Frame object at 0x10d6b1f30>, <zmq.sugar.frame.Frame object at 0x10a1ae4b0>, <zmq.sugar.frame.Frame object...\n",
      "          └ <bound method Kernel.dispatch_shell of <ipykernel.ipkernel.IPythonKernel object at 0x10d6ca7d0>>\n",
      "  File \"/Users/andy/Documents/src/python_notes/env/lib/python3.10/site-packages/ipykernel/kernelbase.py\", line 406, in dispatch_shell\n",
      "    await result\n",
      "          └ <coroutine object Kernel.execute_request at 0x10d7654d0>\n",
      "  File \"/Users/andy/Documents/src/python_notes/env/lib/python3.10/site-packages/ipykernel/kernelbase.py\", line 730, in execute_request\n",
      "    reply_content = await reply_content\n",
      "                          └ <coroutine object IPythonKernel.do_execute at 0x10d764ba0>\n",
      "  File \"/Users/andy/Documents/src/python_notes/env/lib/python3.10/site-packages/ipykernel/ipkernel.py\", line 383, in do_execute\n",
      "    res = shell.run_cell(\n",
      "          │     └ <function ZMQInteractiveShell.run_cell at 0x10d6960e0>\n",
      "          └ <ipykernel.zmqshell.ZMQInteractiveShell object at 0x10d6cac80>\n",
      "  File \"/Users/andy/Documents/src/python_notes/env/lib/python3.10/site-packages/ipykernel/zmqshell.py\", line 528, in run_cell\n",
      "    return super().run_cell(*args, **kwargs)\n",
      "                             │       └ {'store_history': True, 'silent': False, 'cell_id': None}\n",
      "                             └ ('@logger.catch\\ndef fn1(x, y):\\n    return x / y\\n\\nfn1(123, 0)',)\n",
      "  File \"/Users/andy/Documents/src/python_notes/env/lib/python3.10/site-packages/IPython/core/interactiveshell.py\", line 2885, in run_cell\n",
      "    result = self._run_cell(\n",
      "             │    └ <function InteractiveShell._run_cell at 0x10bffc820>\n",
      "             └ <ipykernel.zmqshell.ZMQInteractiveShell object at 0x10d6cac80>\n",
      "  File \"/Users/andy/Documents/src/python_notes/env/lib/python3.10/site-packages/IPython/core/interactiveshell.py\", line 2940, in _run_cell\n",
      "    return runner(coro)\n",
      "           │      └ <coroutine object InteractiveShell.run_cell_async at 0x10d7f4190>\n",
      "           └ <function _pseudo_sync_runner at 0x10bfec310>\n",
      "  File \"/Users/andy/Documents/src/python_notes/env/lib/python3.10/site-packages/IPython/core/async_helpers.py\", line 129, in _pseudo_sync_runner\n",
      "    coro.send(None)\n",
      "    │    └ <method 'send' of 'coroutine' objects>\n",
      "    └ <coroutine object InteractiveShell.run_cell_async at 0x10d7f4190>\n",
      "  File \"/Users/andy/Documents/src/python_notes/env/lib/python3.10/site-packages/IPython/core/interactiveshell.py\", line 3139, in run_cell_async\n",
      "    has_raised = await self.run_ast_nodes(code_ast.body, cell_name,\n",
      "                       │    │             │        │     └ '/var/folders/3x/xqgs5zlj3hg2dknhx6_qzdnh0000gn/T/ipykernel_18474/3501646835.py'\n",
      "                       │    │             │        └ [<ast.FunctionDef object at 0x10da582b0>, <ast.Expr object at 0x10da5b220>]\n",
      "                       │    │             └ <ast.Module object at 0x10da58670>\n",
      "                       │    └ <function InteractiveShell.run_ast_nodes at 0x10bffcaf0>\n",
      "                       └ <ipykernel.zmqshell.ZMQInteractiveShell object at 0x10d6cac80>\n",
      "  File \"/Users/andy/Documents/src/python_notes/env/lib/python3.10/site-packages/IPython/core/interactiveshell.py\", line 3318, in run_ast_nodes\n",
      "    if await self.run_code(code, result, async_=asy):\n",
      "             │    │        │     │              └ False\n",
      "             │    │        │     └ <ExecutionResult object at 10da6d330, execution_count=5 error_before_exec=None error_in_exec=None info=<ExecutionInfo object ...\n",
      "             │    │        └ <code object <module> at 0x10d7fa340, file \"/var/folders/3x/xqgs5zlj3hg2dknhx6_qzdnh0000gn/T/ipykernel_18474/3501646835.py\", ...\n",
      "             │    └ <function InteractiveShell.run_code at 0x10bffcb80>\n",
      "             └ <ipykernel.zmqshell.ZMQInteractiveShell object at 0x10d6cac80>\n",
      "  File \"/Users/andy/Documents/src/python_notes/env/lib/python3.10/site-packages/IPython/core/interactiveshell.py\", line 3378, in run_code\n",
      "    exec(code_obj, self.user_global_ns, self.user_ns)\n",
      "         │         │    │               │    └ {'__name__': '__main__', '__doc__': 'Automatically created module for IPython interactive environment', '__package__': None, ...\n",
      "         │         │    │               └ <ipykernel.zmqshell.ZMQInteractiveShell object at 0x10d6cac80>\n",
      "         │         │    └ <property object at 0x10bfe5fd0>\n",
      "         │         └ <ipykernel.zmqshell.ZMQInteractiveShell object at 0x10d6cac80>\n",
      "         └ <code object <module> at 0x10d7fa340, file \"/var/folders/3x/xqgs5zlj3hg2dknhx6_qzdnh0000gn/T/ipykernel_18474/3501646835.py\", ...\n",
      "\n",
      "> File \"\u001b[32m/var/folders/3x/xqgs5zlj3hg2dknhx6_qzdnh0000gn/T/ipykernel_18474/\u001b[0m\u001b[32m\u001b[1m3501646835.py\u001b[0m\", line \u001b[33m5\u001b[0m, in \u001b[35m<module>\u001b[0m\n",
      "    \u001b[1mfn1\u001b[0m\u001b[1m(\u001b[0m\u001b[34m\u001b[1m123\u001b[0m\u001b[1m,\u001b[0m \u001b[34m\u001b[1m0\u001b[0m\u001b[1m)\u001b[0m\n",
      "    \u001b[36m└ \u001b[0m\u001b[36m\u001b[1m<function fn1 at 0x10e23edd0>\u001b[0m\n",
      "\n",
      "  File \"\u001b[32m/var/folders/3x/xqgs5zlj3hg2dknhx6_qzdnh0000gn/T/ipykernel_18474/\u001b[0m\u001b[32m\u001b[1m3501646835.py\u001b[0m\", line \u001b[33m3\u001b[0m, in \u001b[35mfn1\u001b[0m\n",
      "    \u001b[35m\u001b[1mreturn\u001b[0m \u001b[1mx\u001b[0m \u001b[35m\u001b[1m/\u001b[0m \u001b[1my\u001b[0m\n",
      "    \u001b[36m       │   └ \u001b[0m\u001b[36m\u001b[1m0\u001b[0m\n",
      "    \u001b[36m       └ \u001b[0m\u001b[36m\u001b[1m123\u001b[0m\n",
      "\n",
      "\u001b[31m\u001b[1mZeroDivisionError\u001b[0m:\u001b[1m division by zero\u001b[0m\n"
     ]
    }
   ],
   "source": [
    "@logger.catch\n",
    "def fn1(x, y):\n",
    "    return x / y\n",
    "\n",
    "fn1(123, 0)"
   ]
  },
  {
   "cell_type": "code",
   "execution_count": 7,
   "metadata": {},
   "outputs": [
    {
     "name": "stderr",
     "output_type": "stream",
     "text": [
      "\u001b[32m2023-10-08 21:47:07.582\u001b[0m | \u001b[33m\u001b[1mWARNING \u001b[0m | \u001b[36m__main__\u001b[0m:\u001b[36m<module>\u001b[0m:\u001b[36m1\u001b[0m - \u001b[33m\u001b[1mTesting \u001b[34mcolors in\u001b[0m\u001b[33m\u001b[1m \u001b[31mmessages\u001b[0m\u001b[33m\u001b[1m\u001b[0m\n"
     ]
    }
   ],
   "source": [
    "logger.opt(colors=True).warning(\"Testing <blue>colors in</blue> <red>messages</red>\")"
   ]
  },
  {
   "cell_type": "markdown",
   "metadata": {},
   "source": [
    "## Pendulum - dates"
   ]
  },
  {
   "cell_type": "code",
   "execution_count": 1,
   "metadata": {},
   "outputs": [],
   "source": [
    "# pip install -U pendulum\n",
    "import pendulum"
   ]
  },
  {
   "cell_type": "code",
   "execution_count": 3,
   "metadata": {},
   "outputs": [
    {
     "data": {
      "text/plain": [
       "DateTime(2023, 10, 11, 23, 51, 8, 363274, tzinfo=Timezone('America/Toronto'))"
      ]
     },
     "execution_count": 3,
     "metadata": {},
     "output_type": "execute_result"
    }
   ],
   "source": [
    "now = pendulum.now()\n",
    "now.in_timezone(\"America/Toronto\")"
   ]
  },
  {
   "cell_type": "code",
   "execution_count": 6,
   "metadata": {},
   "outputs": [
    {
     "data": {
      "text/plain": [
       "DateTime(2023, 10, 11, 20, 51, 8, 363274, tzinfo=Timezone('America/Los_Angeles'))"
      ]
     },
     "execution_count": 6,
     "metadata": {},
     "output_type": "execute_result"
    }
   ],
   "source": [
    "now"
   ]
  },
  {
   "cell_type": "code",
   "execution_count": 7,
   "metadata": {},
   "outputs": [
    {
     "data": {
      "text/plain": [
       "'2023-10-11T20:51:08.363274-07:00'"
      ]
     },
     "execution_count": 7,
     "metadata": {},
     "output_type": "execute_result"
    }
   ],
   "source": [
    "now.to_iso8601_string()"
   ]
  },
  {
   "cell_type": "code",
   "execution_count": 8,
   "metadata": {},
   "outputs": [
    {
     "data": {
      "text/plain": [
       "DateTime(2023, 10, 11, 20, 53, 22, 86165, tzinfo=Timezone('America/Los_Angeles'))"
      ]
     },
     "execution_count": 8,
     "metadata": {},
     "output_type": "execute_result"
    }
   ],
   "source": [
    "dt = pendulum.now()\n",
    "dt"
   ]
  },
  {
   "cell_type": "code",
   "execution_count": 10,
   "metadata": {},
   "outputs": [
    {
     "data": {
      "text/plain": [
       "<Period [2023-10-08T20:53:22.086165-07:00 -> 2023-10-11T20:53:22.086165-07:00]>"
      ]
     },
     "execution_count": 10,
     "metadata": {},
     "output_type": "execute_result"
    }
   ],
   "source": [
    "p = dt - dt.subtract(days=3)\n",
    "p"
   ]
  },
  {
   "cell_type": "code",
   "execution_count": 14,
   "metadata": {},
   "outputs": [
    {
     "data": {
      "text/plain": [
       "Timezone('America/Los_Angeles')"
      ]
     },
     "execution_count": 14,
     "metadata": {},
     "output_type": "execute_result"
    }
   ],
   "source": [
    "tz = pendulum.timezone(\"America/Los_Angeles\")\n",
    "tz"
   ]
  },
  {
   "cell_type": "code",
   "execution_count": 16,
   "metadata": {},
   "outputs": [
    {
     "data": {
      "text/plain": [
       "DateTime(2023, 10, 12, 6, 42, 34, 781407, tzinfo=Timezone('America/Los_Angeles'))"
      ]
     },
     "execution_count": 16,
     "metadata": {},
     "output_type": "execute_result"
    }
   ],
   "source": [
    "now = pendulum.now()\n",
    "now"
   ]
  },
  {
   "cell_type": "code",
   "execution_count": 17,
   "metadata": {},
   "outputs": [
    {
     "data": {
      "text/plain": [
       "DateTime(2023, 10, 12, 7, 12, 34, 781407, tzinfo=Timezone('America/Los_Angeles'))"
      ]
     },
     "execution_count": 17,
     "metadata": {},
     "output_type": "execute_result"
    }
   ],
   "source": [
    "now.add(minutes=30)"
   ]
  },
  {
   "cell_type": "code",
   "execution_count": null,
   "metadata": {},
   "outputs": [],
   "source": []
  }
 ],
 "metadata": {
  "kernelspec": {
   "display_name": "Python 3 (ipykernel)",
   "language": "python",
   "name": "python3"
  },
  "language_info": {
   "codemirror_mode": {
    "name": "ipython",
    "version": 3
   },
   "file_extension": ".py",
   "mimetype": "text/x-python",
   "name": "python",
   "nbconvert_exporter": "python",
   "pygments_lexer": "ipython3",
   "version": "3.10.8"
  }
 },
 "nbformat": 4,
 "nbformat_minor": 4
}
