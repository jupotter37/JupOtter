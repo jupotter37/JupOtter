{
 "cells": [
  {
   "cell_type": "code",
   "execution_count": null,
   "id": "69d3fa33-5df9-4e9d-89da-e34fb580cf8b",
   "metadata": {},
   "outputs": [],
   "source": [
    "#When creating a custom exception in Python, it is recommended to inherit from the built-in Exception class or one of its subclasses. Here are a few reasons why we use the Exception class as the base class for custom exceptions:\n",
    "\n",
    "#Inheritance: The Exception class serves as the base class for all built-in exceptions in Python. By inheriting from it, we establish a hierarchy of exceptions, making it easier to organize and handle them in a structured manner.\n",
    "\n",
    "#Compatibility: By inheriting from Exception, our custom exception becomes compatible with the existing exception handling mechanisms in Python. It allows us to catch and handle our custom exception using the same syntax and techniques used for built-in exceptions.\n",
    "\n",
    "#Consistency: Using the Exception class as the base class ensures consistency with other exceptions in the language. It provides the necessary attributes and methods that are expected from an exception, such as __str__() for string representation and __init__() for initialization.\n",
    "\n",
    "#Exception Handling: By inheriting from Exception, our custom exception can be caught by catch blocks specifically targeting the base Exception class. This allows us to handle our custom exception along with other exceptions using a single except block, improving code readability and maintainability."
   ]
  },
  {
   "cell_type": "code",
   "execution_count": null,
   "id": "777cfc81-ea28-4734-9e31-722a6f77271d",
   "metadata": {},
   "outputs": [],
   "source": []
  },
  {
   "cell_type": "code",
   "execution_count": null,
   "id": "44cc180d-1e1a-47c0-ac96-a6bf9f8d1954",
   "metadata": {},
   "outputs": [],
   "source": []
  },
  {
   "cell_type": "code",
   "execution_count": null,
   "id": "4566c3ed-ba8a-4d32-ac45-ba6d5daae1d0",
   "metadata": {},
   "outputs": [],
   "source": []
  },
  {
   "cell_type": "code",
   "execution_count": 6,
   "id": "b2e1006a-7716-4175-a996-f7358d7f4c77",
   "metadata": {},
   "outputs": [],
   "source": [
    "#The ArithmeticError class is a subclass of Exception and serves as the base class for arithmetic-related exceptions in Python.\n",
    "\n",
    "#ZeroDivisionError\n",
    "import logging\n",
    "logging.basicConfig(filename='file.log', level=logging.ERROR, format='%(asctime)s %(levelname)s: %(message)s')\n",
    "try:\n",
    "    result = 10 / 0\n",
    "except ZeroDivisionError as e:\n",
    "    logging.error(\"Error: %s\", str(e))"
   ]
  },
  {
   "cell_type": "code",
   "execution_count": null,
   "id": "e2ecdcde-9531-4940-b135-3812f72a5555",
   "metadata": {},
   "outputs": [],
   "source": [
    "#OverflowError\n",
    "import logging\n",
    "logging.basicConfig(filename='Error.log', level=logging.ERROR, format='%(asctime)s %(levelname)s: %(message)s')\n",
    "try:\n",
    "    result = 9999999999999999999999999999999999999 ** 9999999999999999999999999999999999999\n",
    "except OverflowError as e:\n",
    "    logging.error(\"Error: %s\", str(e))"
   ]
  },
  {
   "cell_type": "code",
   "execution_count": null,
   "id": "b7e24ad4-8e8e-4c62-95eb-aac794b17092",
   "metadata": {},
   "outputs": [],
   "source": []
  },
  {
   "cell_type": "code",
   "execution_count": 3,
   "id": "19aa6550-878a-4e7a-9400-67e1d1df0023",
   "metadata": {},
   "outputs": [],
   "source": [
    "#The LookupError class is a subclass of Exception and serves as the base class for exceptions that occur when a key or index is not found. It encompasses errors related to searching and retrieving elements from collections or sequences.\n",
    "\n",
    "#KeyError\n",
    "import logging\n",
    "logging.basicConfig(filename='Error.log', level=logging.ERROR, format='%(asctime)s %(levelname)s: %(message)s')\n",
    "my_dict = {\"key1\": \"value1\", \"key2\": \"value2\"}\n",
    "try:\n",
    "    value = my_dict[\"key3\"]\n",
    "except KeyError as e:\n",
    "    logging.error(\"Error: %s\", str(e))\n"
   ]
  },
  {
   "cell_type": "code",
   "execution_count": 6,
   "id": "b05b8575-54b2-4936-a060-8b6bfa5efc5b",
   "metadata": {},
   "outputs": [],
   "source": [
    "#indexerror\n",
    "import logging\n",
    "logging.basicConfig(filename='Error.log', level=logging.ERROR, format='%(asctime)s %(levelname)s: %(message)s')\n",
    "my_list = [1, 2, 3]\n",
    "try:\n",
    "    value = my_list[3]\n",
    "except IndexError as e:\n",
    "    logging.error(\"Error: %s\", str(e))"
   ]
  },
  {
   "cell_type": "code",
   "execution_count": null,
   "id": "d08005b3-e807-4ebe-aa6a-de92a5fd430a",
   "metadata": {},
   "outputs": [],
   "source": []
  },
  {
   "cell_type": "code",
   "execution_count": 7,
   "id": "22b72ed8-2af7-435a-9574-b03d448c1b4e",
   "metadata": {},
   "outputs": [
    {
     "name": "stdout",
     "output_type": "stream",
     "text": [
      "Error: No module named 'non_existent_module'\n"
     ]
    }
   ],
   "source": [
    "#ImportError is a built-in exception class in Python that is raised when an imported module or a part of it cannot be found or loaded. It occurs when there are issues with importing and loading modules.\n",
    "\n",
    "#ModuleNotFoundError is a subclass of ImportError that specifically indicates that a module could not be found. \n",
    "\n",
    "try:\n",
    "    import non_existent_module\n",
    "except ImportError as e:\n",
    "    print(\"Error:\", str(e))\n"
   ]
  },
  {
   "cell_type": "code",
   "execution_count": null,
   "id": "1af71064-4e8b-477b-8e80-ff5475f9b4f0",
   "metadata": {},
   "outputs": [],
   "source": []
  },
  {
   "cell_type": "code",
   "execution_count": null,
   "id": "fdfbb1fe-c9ce-4e26-bc41-617a044a77e2",
   "metadata": {},
   "outputs": [],
   "source": [
    "#Here are some best practices for exception handling in Python:\n",
    "\n",
    "#Be specific in exception handling: Catch only the exceptions you can handle and provide appropriate error messages. Avoid using broad exception handlers like except Exception: without proper handling, as it can hide bugs or unexpected behaviors.\n",
    "\n",
    "#Use multiple except blocks: When handling multiple exceptions, use separate except blocks for each exception instead of catching them all at once. This allows you to handle different exceptions differently, providing more targeted error handling.\n",
    "\n",
    "#Use finally block for cleanup: If you need to perform cleanup actions, such as closing files or releasing resources, use a finally block. It ensures that the code within it executes regardless of whether an exception occurred or not.\n",
    "\n",
    "#Use specific exception types: Whenever possible, catch and handle specific exception types instead of catching the base Exception class. This helps in making your code more robust and maintainable.\n",
    "\n",
    "#Avoid silent errors: Avoid catching exceptions without taking any action or just printing a generic error message. Log or report the exceptions appropriately and consider handling or re-raising them if necessary.\n",
    "\n",
    "#Handle exceptions at the right level: Handle exceptions at the appropriate level in your code. It is generally better to catch and handle exceptions closer to the source of the error, rather than letting them propagate up the call stack without any meaningful handling.\n",
    "\n",
    "#Understand exception hierarchy: Familiarize yourself with the built-in exception hierarchy in Python. This helps in identifying the appropriate exception types to catch and handle for specific situations.\n",
    "\n",
    "#Use context managers: Utilize context managers, such as the with statement, to automatically handle resource acquisition and release. Context managers ensure proper cleanup even if exceptions occur within the block.\n",
    "\n",
    "#Document exception behavior: When defining custom exceptions, provide clear documentation on how they should be used and handled. Describe the scenarios in which the exception should be raised and provide guidance on appropriate handling techniques."
   ]
  }
 ],
 "metadata": {
  "kernelspec": {
   "display_name": "Python 3 (ipykernel)",
   "language": "python",
   "name": "python3"
  },
  "language_info": {
   "codemirror_mode": {
    "name": "ipython",
    "version": 3
   },
   "file_extension": ".py",
   "mimetype": "text/x-python",
   "name": "python",
   "nbconvert_exporter": "python",
   "pygments_lexer": "ipython3",
   "version": "3.10.8"
  }
 },
 "nbformat": 4,
 "nbformat_minor": 5
}
