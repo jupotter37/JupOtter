{
 "cells": [
  {
   "cell_type": "markdown",
   "metadata": {},
   "source": [
    "<div style=\"border-radius:10px;\n",
    "            border:#0b0265 solid;\n",
    "           background-color:#0077be;\n",
    "           font-size:110%;\n",
    "           letter-spacing:0.5px;\n",
    "            text-align: center\">\n",
    "\n",
    "<center><h1 style=\"padding: 25px 0px; background color:#0077be; font-weight: bold; font-family: Cursive\">\n",
    "Data Science Masters 2.0 Exception Handling-2</h1></center>\n",
    "\n",
    "</div>"
   ]
  },
  {
   "cell_type": "markdown",
   "metadata": {},
   "source": [
    "## Q1. Explain why we have to use the Exception class while creating a Custom Exception."
   ]
  },
  {
   "cell_type": "markdown",
   "metadata": {},
   "source": [
    "When creating a custom exception in Python, it is recommended to derive your custom exception class from the Exception class or one of its subclasses. The Exception class serves as the base class for all built-in exceptions in Python. Here are a few reasons why it is advisable to use the Exception class as the base for custom exceptions:\n",
    "\n",
    "**Inheritance and Compatibility:** Deriving from the Exception class ensures that your custom exception inherits all the essential properties and behaviors of the base class. This includes the ability to catch your custom exception using a generic except statement, along with other built-in exceptions. It also ensures compatibility with existing exception handling mechanisms and libraries in Python.\n",
    "\n",
    "**Consistency and Readability:** By using the Exception class as the base, you maintain consistency with the language's exception hierarchy. Developers familiar with Python will recognize and understand your custom exception as part of the larger exception class hierarchy. This consistency enhances code readability and makes it easier for others to comprehend and work with your code.\n",
    "\n",
    "**Exception Handling Best Practices:** The Exception class provides a set of methods and attributes that facilitate proper exception handling. These include __str__ for string representation of the exception, args to store exception arguments, and with_traceback for associating a traceback with the exception. By inheriting from the Exception class, your custom exception inherits these best practices, promoting consistent and effective exception handling in your code.\n",
    "\n",
    "**Extension and Customization:** Deriving from the Exception class allows you to extend and customize your custom exception as needed. You can add additional attributes, methods, or behaviors to your custom exception class to suit your specific requirements. This flexibility empowers you to create meaningful and specialized exceptions that accurately represent exceptional conditions in your application.\n",
    "\n",
    "By leveraging the Exception class as the base for your custom exception, you benefit from the established exception hierarchy, compatibility with existing exception handling practices, and the ability to customize your exception class while adhering to best practices."
   ]
  },
  {
   "cell_type": "markdown",
   "metadata": {},
   "source": [
    "## Q2. Write a python program to print Python Exception Hierarchy."
   ]
  },
  {
   "cell_type": "code",
   "execution_count": 3,
   "metadata": {},
   "outputs": [
    {
     "name": "stdout",
     "output_type": "stream",
     "text": [
      "BaseException\n",
      "    Exception\n",
      "        TypeError\n",
      "            MultipartConversionError\n",
      "            FloatOperation\n",
      "        StopAsyncIteration\n",
      "        StopIteration\n",
      "        ImportError\n",
      "            ModuleNotFoundError\n",
      "            ZipImportError\n",
      "        OSError\n",
      "            ConnectionError\n",
      "                BrokenPipeError\n",
      "                ConnectionAbortedError\n",
      "                ConnectionRefusedError\n",
      "                ConnectionResetError\n",
      "                    RemoteDisconnected\n",
      "            BlockingIOError\n",
      "            ChildProcessError\n",
      "            FileExistsError\n",
      "            FileNotFoundError\n",
      "            IsADirectoryError\n",
      "            NotADirectoryError\n",
      "            InterruptedError\n",
      "                InterruptedSystemCall\n",
      "            PermissionError\n",
      "            ProcessLookupError\n",
      "            TimeoutError\n",
      "            UnsupportedOperation\n",
      "            Error\n",
      "                SameFileError\n",
      "            SpecialFileError\n",
      "            ExecError\n",
      "            ReadError\n",
      "            herror\n",
      "            gaierror\n",
      "            timeout\n",
      "            SSLError\n",
      "                SSLCertVerificationError\n",
      "                SSLZeroReturnError\n",
      "                SSLWantReadError\n",
      "                SSLWantWriteError\n",
      "                SSLSyscallError\n",
      "                SSLEOFError\n",
      "            URLError\n",
      "                HTTPError\n",
      "                ContentTooShortError\n",
      "        EOFError\n",
      "            IncompleteReadError\n",
      "        RuntimeError\n",
      "            RecursionError\n",
      "            NotImplementedError\n",
      "                StdinNotImplementedError\n",
      "                ZMQVersionError\n",
      "            _DeadlockError\n",
      "            BrokenBarrierError\n",
      "            BrokenExecutor\n",
      "            SendfileNotAvailableError\n",
      "        NameError\n",
      "            UnboundLocalError\n",
      "        AttributeError\n",
      "        SyntaxError\n",
      "            IndentationError\n",
      "                TabError\n",
      "        LookupError\n",
      "            IndexError\n",
      "            KeyError\n",
      "                UnknownBackend\n",
      "                NoSuchKernel\n",
      "            CodecRegistryError\n",
      "        ValueError\n",
      "            UnicodeError\n",
      "                UnicodeEncodeError\n",
      "                UnicodeDecodeError\n",
      "                UnicodeTranslateError\n",
      "            UnsupportedOperation\n",
      "            JSONDecodeError\n",
      "            Error\n",
      "            ClassNotFound\n",
      "            SSLCertVerificationError\n",
      "            ClipboardEmpty\n",
      "            MessageDefect\n",
      "                NoBoundaryInMultipartDefect\n",
      "                StartBoundaryNotFoundDefect\n",
      "                CloseBoundaryNotFoundDefect\n",
      "                FirstHeaderLineIsContinuationDefect\n",
      "                MisplacedEnvelopeHeaderDefect\n",
      "                MissingHeaderBodySeparatorDefect\n",
      "                MultipartInvariantViolationDefect\n",
      "                InvalidMultipartContentTransferEncodingDefect\n",
      "                UndecodableBytesDefect\n",
      "                InvalidBase64PaddingDefect\n",
      "                InvalidBase64CharactersDefect\n",
      "                InvalidBase64LengthDefect\n",
      "                HeaderDefect\n",
      "                    InvalidHeaderDefect\n",
      "                    HeaderMissingRequiredValue\n",
      "                    NonPrintableDefect\n",
      "                    ObsoleteHeaderDefect\n",
      "                    NonASCIILocalPartDefect\n",
      "            IllegalMonthError\n",
      "            IllegalWeekdayError\n",
      "            MacroToEdit\n",
      "            ParserError\n",
      "        AssertionError\n",
      "        ArithmeticError\n",
      "            FloatingPointError\n",
      "            OverflowError\n",
      "            ZeroDivisionError\n",
      "                DivisionByZero\n",
      "                DivisionUndefined\n",
      "            DecimalException\n",
      "                Clamped\n",
      "                Rounded\n",
      "                    Underflow\n",
      "                    Overflow\n",
      "                Inexact\n",
      "                    Underflow\n",
      "                    Overflow\n",
      "                Subnormal\n",
      "                    Underflow\n",
      "                DivisionByZero\n",
      "                FloatOperation\n",
      "                InvalidOperation\n",
      "                    ConversionSyntax\n",
      "                    DivisionImpossible\n",
      "                    DivisionUndefined\n",
      "                    InvalidContext\n",
      "        SystemError\n",
      "            CodecRegistryError\n",
      "        ReferenceError\n",
      "        MemoryError\n",
      "        BufferError\n",
      "        Warning\n",
      "            UserWarning\n",
      "                GetPassWarning\n",
      "                FormatterWarning\n",
      "            DeprecationWarning\n",
      "                ProvisionalWarning\n",
      "            PendingDeprecationWarning\n",
      "            SyntaxWarning\n",
      "            RuntimeWarning\n",
      "                UnknownTimezoneWarning\n",
      "            FutureWarning\n",
      "                ProvisionalCompleterWarning\n",
      "            ImportWarning\n",
      "            UnicodeWarning\n",
      "            BytesWarning\n",
      "            ResourceWarning\n",
      "            DeprecatedTzFormatWarning\n",
      "        Error\n",
      "        _OptionError\n",
      "        _Error\n",
      "        error\n",
      "        Verbose\n",
      "        SubprocessError\n",
      "            CalledProcessError\n",
      "            TimeoutExpired\n",
      "        Error\n",
      "        TokenError\n",
      "        StopTokenizing\n",
      "        error\n",
      "        LZMAError\n",
      "        RegistryError\n",
      "        _GiveupOnFastCopy\n",
      "        EndOfBlock\n",
      "        TraitError\n",
      "        ArgumentError\n",
      "        ArgumentTypeError\n",
      "        ConfigError\n",
      "            ConfigLoaderError\n",
      "                ArgumentError\n",
      "            ConfigFileNotFound\n",
      "        ConfigurableError\n",
      "            MultipleInstanceError\n",
      "        ApplicationError\n",
      "        ErrorDuringImport\n",
      "        BdbQuit\n",
      "        Restart\n",
      "        COMError\n",
      "        ArgumentError\n",
      "        error\n",
      "        FindCmdError\n",
      "        HomeDirError\n",
      "        ProfileDirError\n",
      "        IPythonCoreError\n",
      "            TryNext\n",
      "            UsageError\n",
      "            StdinNotImplementedError\n",
      "        InputRejected\n",
      "        GetoptError\n",
      "        Incomplete\n",
      "        OptionError\n",
      "        ErrorToken\n",
      "        PickleError\n",
      "            PicklingError\n",
      "            UnpicklingError\n",
      "        _Stop\n",
      "        PrefilterError\n",
      "        AliasError\n",
      "            InvalidAliasError\n",
      "        Error\n",
      "            InterfaceError\n",
      "            DatabaseError\n",
      "                InternalError\n",
      "                OperationalError\n",
      "                ProgrammingError\n",
      "                IntegrityError\n",
      "                DataError\n",
      "                NotSupportedError\n",
      "        Warning\n",
      "        SpaceInInput\n",
      "        Error\n",
      "            CancelledError\n",
      "            TimeoutError\n",
      "            InvalidStateError\n",
      "        _GiveupOnSendfile\n",
      "        TimeoutError\n",
      "        InvalidStateError\n",
      "        LimitOverrunError\n",
      "        QueueEmpty\n",
      "        QueueFull\n",
      "        DOMException\n",
      "            IndexSizeErr\n",
      "            DomstringSizeErr\n",
      "            HierarchyRequestErr\n",
      "            WrongDocumentErr\n",
      "            InvalidCharacterErr\n",
      "            NoDataAllowedErr\n",
      "            NoModificationAllowedErr\n",
      "            NotFoundErr\n",
      "            NotSupportedErr\n",
      "            InuseAttributeErr\n",
      "            InvalidStateErr\n",
      "            SyntaxErr\n",
      "            InvalidModificationErr\n",
      "            NamespaceErr\n",
      "            InvalidAccessErr\n",
      "            ValidationErr\n",
      "        ValidationError\n",
      "        EditReadOnlyBuffer\n",
      "        _Retry\n",
      "        InvalidLayoutError\n",
      "        HeightIsUnknownError\n",
      "        ParserSyntaxError\n",
      "        InternalParseError\n",
      "        _PositionUpdatingFinished\n",
      "        Empty\n",
      "        Full\n",
      "        SimpleGetItemNotFound\n",
      "        UncaughtAttributeError\n",
      "        ParamIssue\n",
      "        OnErrorLeaf\n",
      "        _JediError\n",
      "            InternalError\n",
      "            WrongVersion\n",
      "            RefactoringError\n",
      "        InvalidPythonEnvironment\n",
      "        MessageError\n",
      "            MessageParseError\n",
      "                HeaderParseError\n",
      "                BoundaryError\n",
      "            MultipartConversionError\n",
      "            CharsetError\n",
      "        Error\n",
      "        HTTPException\n",
      "            NotConnected\n",
      "            InvalidURL\n",
      "            UnknownProtocol\n",
      "            UnknownTransferEncoding\n",
      "            UnimplementedFileMode\n",
      "            IncompleteRead\n",
      "            ImproperConnectionState\n",
      "                CannotSendRequest\n",
      "                CannotSendHeader\n",
      "                ResponseNotReady\n",
      "            BadStatusLine\n",
      "                RemoteDisconnected\n",
      "            LineTooLong\n",
      "        InteractivelyDefined\n",
      "        KillEmbedded\n",
      "        ZMQBaseError\n",
      "            ZMQError\n",
      "                ContextTerminated\n",
      "                Again\n",
      "                InterruptedSystemCall\n",
      "            ZMQBindError\n",
      "            NotDone\n",
      "        NoIPAddresses\n",
      "        DistutilsError\n",
      "            DistutilsModuleError\n",
      "            DistutilsClassError\n",
      "            DistutilsGetoptError\n",
      "            DistutilsArgError\n",
      "            DistutilsFileError\n",
      "            DistutilsOptionError\n",
      "            DistutilsSetupError\n",
      "            DistutilsPlatformError\n",
      "            DistutilsExecError\n",
      "            DistutilsInternalError\n",
      "            DistutilsTemplateError\n",
      "            DistutilsByteCompileError\n",
      "        CCompilerError\n",
      "            PreprocessError\n",
      "            CompileError\n",
      "            LibError\n",
      "            LinkError\n",
      "            UnknownFileError\n",
      "        InvalidPortNumber\n",
      "        DuplicateKernelError\n",
      "        TimeoutError\n",
      "        ReturnValueIgnoredError\n",
      "        KeyReuseError\n",
      "        UnknownKeyError\n",
      "        LeakedCallbackError\n",
      "        BadYieldError\n",
      "        ReturnValueIgnoredError\n",
      "        Return\n",
      "        QueueEmpty\n",
      "        QueueFull\n",
      "        error\n",
      "        com_error\n",
      "    GeneratorExit\n",
      "    SystemExit\n",
      "    KeyboardInterrupt\n",
      "    CancelledError\n"
     ]
    }
   ],
   "source": [
    "def print_exception_hierarchy(exception_class, indent=0):\n",
    "    print(\" \" * indent + exception_class.__name__)\n",
    "    for subclass in exception_class.__subclasses__():\n",
    "        print_exception_hierarchy(subclass, indent + 4)\n",
    "\n",
    "print_exception_hierarchy(BaseException)"
   ]
  },
  {
   "cell_type": "markdown",
   "metadata": {},
   "source": [
    "## Q3. What errors are defined in the ArithmeticError class? Explain any two with an example."
   ]
  },
  {
   "cell_type": "markdown",
   "metadata": {},
   "source": [
    "The ArithmeticError class in Python is a base class for exceptions that occur during arithmetic operations. It serves as a parent class for various arithmetic-related exception classes. Here are two commonly used errors defined in the ArithmeticError class:\n",
    "\n",
    "**ZeroDivisionError:** This error occurs when attempting to divide a number by zero, which is mathematically undefined."
   ]
  },
  {
   "cell_type": "code",
   "execution_count": 4,
   "metadata": {},
   "outputs": [
    {
     "name": "stdout",
     "output_type": "stream",
     "text": [
      "Error: Division by zero is not allowed.\n"
     ]
    }
   ],
   "source": [
    "numerator = 10\n",
    "denominator = 0\n",
    "\n",
    "try:\n",
    "    result = numerator / denominator\n",
    "    print(\"Result:\", result)\n",
    "except ZeroDivisionError:\n",
    "    print(\"Error: Division by zero is not allowed.\")"
   ]
  },
  {
   "cell_type": "markdown",
   "metadata": {},
   "source": [
    "**OverflowError:** This error occurs when the result of an arithmetic operation exceeds the maximum representable value for a numeric type."
   ]
  },
  {
   "cell_type": "code",
   "execution_count": 5,
   "metadata": {},
   "outputs": [
    {
     "name": "stdout",
     "output_type": "stream",
     "text": [
      "Result: 18446744073709551614\n"
     ]
    }
   ],
   "source": [
    "import sys\n",
    "\n",
    "max_value = sys.maxsize\n",
    "result = max_value + max_value\n",
    "\n",
    "try:\n",
    "    print(\"Result:\", result)\n",
    "except OverflowError:\n",
    "    print(\"Error: Arithmetic operation resulted in overflow.\")"
   ]
  },
  {
   "cell_type": "markdown",
   "metadata": {},
   "source": [
    "## Q4. Why LookupError class is used? Explain with an example KeyError and IndexError."
   ]
  },
  {
   "cell_type": "markdown",
   "metadata": {},
   "source": [
    "The LookupError class in Python is a base class for exceptions that occur when a lookup or indexing operation fails. It serves as a parent class for various lookup-related exception classes. Here are two commonly used errors defined in the LookupError class: KeyError and IndexError.\n",
    "\n",
    "**KeyError:** This error occurs when attempting to access a dictionary using a key that doesn't exist."
   ]
  },
  {
   "cell_type": "code",
   "execution_count": 6,
   "metadata": {},
   "outputs": [
    {
     "name": "stdout",
     "output_type": "stream",
     "text": [
      "Error: Key not found in the dictionary.\n"
     ]
    }
   ],
   "source": [
    "my_dict = {\"apple\": 1, \"banana\": 2, \"orange\": 3}\n",
    "\n",
    "try:\n",
    "    value = my_dict[\"grape\"]\n",
    "    print(\"Value:\", value)\n",
    "except KeyError:\n",
    "    print(\"Error: Key not found in the dictionary.\")"
   ]
  },
  {
   "cell_type": "markdown",
   "metadata": {},
   "source": [
    "**IndexError:** This error occurs when attempting to access a sequence (such as a list or tuple) using an index that is out of range."
   ]
  },
  {
   "cell_type": "code",
   "execution_count": 7,
   "metadata": {},
   "outputs": [
    {
     "name": "stdout",
     "output_type": "stream",
     "text": [
      "Error: Index out of range.\n"
     ]
    }
   ],
   "source": [
    "my_list = [1, 2, 3]\n",
    "\n",
    "try:\n",
    "    value = my_list[3]\n",
    "    print(\"Value:\", value)\n",
    "except IndexError:\n",
    "    print(\"Error: Index out of range.\")"
   ]
  },
  {
   "cell_type": "markdown",
   "metadata": {},
   "source": [
    "## Q5. Explain ImportError. What is ModuleNotFoundError?"
   ]
  },
  {
   "cell_type": "markdown",
   "metadata": {},
   "source": [
    "Both ImportError and ModuleNotFoundError are exceptions that occur when importing modules in Python, but they have slight differences. Here's an explanation of each:\n",
    "\n",
    "**ImportError:** This exception is raised when an import statement fails to import a module. It is a base class for various import-related exceptions. The ImportError can occur due to several reasons, including:\n",
    "\n",
    "The module being imported does not exist.\n",
    "The module name is misspelled or does not match the actual module name.\n",
    "The module is located in a directory that is not included in the Python module search path.\n",
    "There is an error within the module being imported."
   ]
  },
  {
   "cell_type": "code",
   "execution_count": 8,
   "metadata": {},
   "outputs": [
    {
     "name": "stdout",
     "output_type": "stream",
     "text": [
      "Error: Failed to import the module.\n"
     ]
    }
   ],
   "source": [
    "try:\n",
    "    import non_existent_module\n",
    "except ImportError:\n",
    "    print(\"Error: Failed to import the module.\")"
   ]
  },
  {
   "cell_type": "markdown",
   "metadata": {},
   "source": [
    "**ModuleNotFoundError:** This exception is a subclass of ImportError and is raised when an import statement fails to locate a module. It specifically indicates that the module being imported was not found."
   ]
  },
  {
   "cell_type": "code",
   "execution_count": 9,
   "metadata": {},
   "outputs": [
    {
     "name": "stdout",
     "output_type": "stream",
     "text": [
      "Error: Module not found.\n"
     ]
    }
   ],
   "source": [
    "try:\n",
    "    import non_existent_module\n",
    "except ModuleNotFoundError:\n",
    "    print(\"Error: Module not found.\")"
   ]
  },
  {
   "cell_type": "markdown",
   "metadata": {},
   "source": [
    "## Q6. List down some best practices for exception handling in python."
   ]
  },
  {
   "cell_type": "markdown",
   "metadata": {},
   "source": [
    "1. **Catch Specific Exceptions:** Catch specific exceptions rather than using a broad `except` statement. This allows you to handle different exceptions differently and provides better error handling. Be as specific as possible when catching exceptions.\n",
    "\n",
    "2. **Use Multiple Except Blocks:** Use multiple `except` blocks to handle different exceptions separately. This helps in providing appropriate error messages or performing specific actions based on the type of exception.\n",
    "\n",
    "3. **Avoid Bare Except:** Avoid using a bare `except` statement without specifying the exception type. It can mask errors and make it difficult to identify and debug issues. Instead, catch specific exceptions or use the `Exception` base class if necessary.\n",
    "\n",
    "4. **Handle Exceptions Locally:** Handle exceptions at the appropriate level where you can take appropriate action or provide meaningful error messages. Avoid catching exceptions too broadly or at a higher level where you may not have the necessary context to handle them effectively.\n",
    "\n",
    "5. **Use Finally Block:** Use a `finally` block to clean up resources or perform necessary actions that should always execute, regardless of whether an exception occurred or not. The `finally` block ensures that the cleanup code is executed even if an exception is raised.\n",
    "\n",
    "6. **Reraise Exceptions:** If you catch an exception but cannot handle it completely, it is recommended to re-raise the exception using the `raise` statement. This allows the exception to propagate up the call stack for further handling or logging.\n",
    "\n",
    "7. **Use Exception Chaining:** When raising a new exception, you can chain the original exception using the `from` keyword to provide additional context about the root cause of the exception.\n",
    "\n",
    "8. **Avoid Silencing Exceptions:** Avoid silencing exceptions without proper handling. If you encounter an exception that you cannot handle immediately, it is better to let it propagate up the call stack rather than ignoring it completely.\n",
    "\n",
    "9. **Log Exceptions:** Consider logging exceptions or reporting them to aid in troubleshooting and debugging. Logging exceptions can provide valuable information for identifying and fixing issues.\n",
    "\n",
    "10. **Follow PEP 8 Guidelines:** Follow the PEP 8 guidelines for writing clean and readable code, including exception handling. Maintain consistent indentation, use meaningful exception names, and provide clear and informative error messages.\n",
    "\n",
    "By following these best practices, you can improve the reliability, maintainability, and readability of your code, and handle exceptions effectively in your Python applications."
   ]
  }
 ],
 "metadata": {
  "kernelspec": {
   "display_name": "Python 3",
   "language": "python",
   "name": "python3"
  },
  "language_info": {
   "codemirror_mode": {
    "name": "ipython",
    "version": 3
   },
   "file_extension": ".py",
   "mimetype": "text/x-python",
   "name": "python",
   "nbconvert_exporter": "python",
   "pygments_lexer": "ipython3",
   "version": "3.8.5"
  }
 },
 "nbformat": 4,
 "nbformat_minor": 4
}
