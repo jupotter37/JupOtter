{
 "cells": [
  {
   "cell_type": "markdown",
   "id": "9634208b-d349-4074-900f-ba7eab303210",
   "metadata": {},
   "source": [
    "Ans1 : When creating a custom exception in Python, it is recommended to inherit from the built-in Exception class. This is because the Exception class provides a lot of useful functionality that can be used in custom exceptions, such as error message formatting and traceback handling."
   ]
  },
  {
   "cell_type": "code",
   "execution_count": 1,
   "id": "1f5526de-62c1-4475-9516-4be2307b475f",
   "metadata": {},
   "outputs": [
    {
     "name": "stdout",
     "output_type": "stream",
     "text": [
      "(<class '__main__.MyCustomException'>, <class 'Exception'>, <class 'BaseException'>, <class 'object'>)\n"
     ]
    }
   ],
   "source": [
    "# Question 2\n",
    "\n",
    "class MyCustomException(Exception):\n",
    "    pass\n",
    "\n",
    "print(MyCustomException.__mro__)\n"
   ]
  },
  {
   "cell_type": "code",
   "execution_count": 2,
   "id": "a0224890-090c-4576-8a70-9883bc60a343",
   "metadata": {},
   "outputs": [
    {
     "name": "stdout",
     "output_type": "stream",
     "text": [
      "Division by zero!\n"
     ]
    }
   ],
   "source": [
    "# Question 3 \n",
    "\n",
    "\"\"\"The ArithmeticError is a built-in class in Python that represents errors that occur during arithmetic operations. \n",
    "Some common errors that are defined in the ArithmeticError class are:\n",
    "\n",
    "1. ZeroDivisionError: This error occurs when an attempt is made to divide a number by zero. \n",
    "2. OverflowError: This error occurs when a calculation exceeds the maximum limit for a numeric type. \"\"\"\n",
    "\n",
    "x = 10\n",
    "y = 0\n",
    "try:\n",
    "    result = x / y\n",
    "except ZeroDivisionError:\n",
    "    print(\"Division by zero!\")\n"
   ]
  },
  {
   "cell_type": "code",
   "execution_count": 5,
   "id": "a66af547-6a62-4eb4-a001-9db5f653cfcb",
   "metadata": {},
   "outputs": [
    {
     "name": "stdout",
     "output_type": "stream",
     "text": [
      "Number is too large!\n"
     ]
    }
   ],
   "source": [
    "import sys\n",
    "\n",
    "try:\n",
    "    x = sys.float_info.max\n",
    "    result = x**2\n",
    "except OverflowError:\n",
    "    print(\"Number is too large!\")\n"
   ]
  },
  {
   "cell_type": "code",
   "execution_count": 6,
   "id": "1be3b0b6-d2c3-4e04-bc24-4fc31256139a",
   "metadata": {},
   "outputs": [
    {
     "name": "stdout",
     "output_type": "stream",
     "text": [
      "KeyError: Key 'd' is not found in the dictionary.\n"
     ]
    }
   ],
   "source": [
    "# Question 4 \n",
    "\n",
    "\"\"\" The LookupError class is the base class for all the lookup errors in Python. \n",
    "It is used when an index or a key is not found in a sequence or a mapping.\"\"\"\n",
    "\n",
    "my_dict = {'a': 1, 'b': 2, 'c': 3}\n",
    "try:\n",
    "    print(my_dict['d'])\n",
    "except KeyError:\n",
    "    print(\"KeyError: Key 'd' is not found in the dictionary.\")\n"
   ]
  },
  {
   "cell_type": "code",
   "execution_count": 8,
   "id": "3a999610-b761-4a2f-a9e0-4c9e24abeef2",
   "metadata": {},
   "outputs": [
    {
     "name": "stdout",
     "output_type": "stream",
     "text": [
      "IndexError: Index is out of range.\n"
     ]
    }
   ],
   "source": [
    "my_list = [1, 2, 3]\n",
    "try:\n",
    "    print(my_list[-4])\n",
    "except IndexError:\n",
    "    print(\"IndexError: Index is out of range.\")\n"
   ]
  },
  {
   "cell_type": "markdown",
   "id": "73d3fd95-4efe-485c-ad1e-763060245e81",
   "metadata": {},
   "source": [
    "Ans5: ImportError is an exception raised when a module, that is being imported, cannot be found or loaded successfully. This may occur if the module is not installed or if there is a problem with the path or the file itself.\n",
    "\n",
    "ModuleNotFoundError is a subclass of ImportError, which is raised when a module could not be found during the import process."
   ]
  },
  {
   "cell_type": "markdown",
   "id": "e8377ad3-46fc-4544-b9a5-ab0882085edc",
   "metadata": {},
   "source": [
    "Ans6: \n",
    "\n",
    "1. Catch only the exceptions that you can handle: It's best to catch only the exceptions that you know how to handle. Catching too many exceptions can make your code more complicated and harder to debug.\n",
    "\n",
    "2. Use specific exception types instead of catching all exceptions: Instead of catching all exceptions, it's better to catch specific exception types that you know how to handle.\n",
    "\n",
    "3. Always use the finally block for clean-up code: The finally block is used for code that needs to be executed whether or not an exception was raised. This is useful for clean-up tasks like closing files, releasing resources, or closing database connections."
   ]
  },
  {
   "cell_type": "code",
   "execution_count": null,
   "id": "a70ada19-3c54-4649-b1bc-b1b396e4a7f8",
   "metadata": {},
   "outputs": [],
   "source": []
  }
 ],
 "metadata": {
  "kernelspec": {
   "display_name": "Python 3 (ipykernel)",
   "language": "python",
   "name": "python3"
  },
  "language_info": {
   "codemirror_mode": {
    "name": "ipython",
    "version": 3
   },
   "file_extension": ".py",
   "mimetype": "text/x-python",
   "name": "python",
   "nbconvert_exporter": "python",
   "pygments_lexer": "ipython3",
   "version": "3.10.8"
  }
 },
 "nbformat": 4,
 "nbformat_minor": 5
}
