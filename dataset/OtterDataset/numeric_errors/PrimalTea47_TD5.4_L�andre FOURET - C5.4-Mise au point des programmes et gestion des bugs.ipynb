{
 "cells": [
  {
   "cell_type": "markdown",
   "metadata": {
    "id": "THztv5fR2soY"
   },
   "source": [
    " <p align =center> <img src=\"https://github.com/esabahi/NSI_Images/blob/main/NSI-Image.png?raw=true\" width=350>\n",
    "    </p>"
   ]
  },
  {
   "cell_type": "markdown",
   "metadata": {
    "id": "FcUyT9XJtUhN"
   },
   "source": [
    "<h1 style=\"font-size:2.5em; text-align:center\">C5.4-Mise au point des programmes et gestion des bugs\n",
    "\n",
    "\n",
    "---"
   ]
  },
  {
   "cell_type": "markdown",
   "metadata": {
    "id": "Ps0IRY5atUhR"
   },
   "source": [
    "\n",
    "# Introduction\n",
    "\n",
    "\n",
    "Lorsqu'on *utilise* une fonction, il n'est pas utile de connaître ni même de comprendre le code qui la définit mais on a absolument besoin de connaître son rôle, autrement dit de savoir ce que *fait* cette fonction. Cela signifie que le programmeur ne peut donc pas se contenter d'écrire uniquement le code de la fonction mais il doit s'assurer d'**expliquer ce que fait son programme** afin que d'autres puissent l'utiliser : pour cela, le programmeur doit créer une **documentation**.\n",
    "\n",
    "De plus, pour écrire sa fonction, le programmeur doit s'assurer que **son programme se comporte convenablement**, autrement dit que la fonction renvoie la (ou les) valeur(s) attendue(s), et ce quelles que soient les valeurs (admissibles) des paramètres. Pour cela, le programmeur doit écrire un ou plusieurs **jeux de tests** et s'assurer que les tests passent avec succès. C'est une étape importante voire cruciale s'il s'agit par exemple d'un programme intervenant dans le pilotage d'un avion.\n",
    "\n",
    "Vous aller découvrir dans ce TD les bonnes pratiques qui permettent au programmeur d'effectuer ces deux tâches."
   ]
  },
  {
   "cell_type": "markdown",
   "metadata": {
    "id": "VH6hkCOItUhS"
   },
   "source": [
    "# Que « fait » un programme ?\n",
    "\n",
    "Considérons la fonction Python suivante qui a été codée par l'un de vos camarades et que vous devez utiliser dans votre projet."
   ]
  },
  {
   "cell_type": "code",
   "execution_count": 15,
   "metadata": {
    "id": "ryJBmH-jtUhT",
    "ExecuteTime": {
     "end_time": "2023-10-11T14:55:53.898807300Z",
     "start_time": "2023-10-11T14:55:51.724154337Z"
    }
   },
   "outputs": [],
   "source": [
    "def f(x, n):\n",
    "    r = 1\n",
    "    for i in range(n):\n",
    "        r = r * x\n",
    "    return r"
   ]
  },
  {
   "cell_type": "markdown",
   "metadata": {
    "id": "IU4MEHdMtUhU"
   },
   "source": [
    "En la recevant telle quelle, il n'est pas évident que vous sachiez à quoi elle sert. En l'analysant un peu il est possible de comprendre ce que fait cette fonction mais on n'en a pas toujours ni le temps ni l'envie (surtout si ce n'est pas notre travail !)\n",
    "\n",
    "> <span style=\"font-size:1.5em\">🤔</span> Alors, elle fait quoi selon vous ?\n",
    "\n",
    "Ainsi, le version ci-dessous aurait déjà été plus parlante :"
   ]
  },
  {
   "cell_type": "code",
   "execution_count": 16,
   "metadata": {
    "id": "ejobeK5rtUhU",
    "ExecuteTime": {
     "end_time": "2023-10-11T14:55:53.951437201Z",
     "start_time": "2023-10-11T14:55:51.778536023Z"
    }
   },
   "outputs": [],
   "source": [
    "def puissance(x, n):\n",
    "    r = 1\n",
    "    for i in range(n):\n",
    "        r = r * x\n",
    "    return r"
   ]
  },
  {
   "cell_type": "markdown",
   "metadata": {
    "id": "K1TGaC39tUhU"
   },
   "source": [
    "Un nommage explicite est donc une première (bonne) étape mais elle n'est pas suffisante. En effet, on se doute désormais que cette fonction calcule une puissance mais c'est à peu près tout :\n",
    "\n",
    "- est-ce $x^n$ ? ou  $n^x$ ? ou autre chose ? ...\n",
    "- est-ce que cela marche pour n'importe quelles valeurs de `x` et de `n` ? ..."
   ]
  },
  {
   "cell_type": "markdown",
   "metadata": {
    "id": "S5si6g4UtUhV"
   },
   "source": [
    "# Documenter son programme\n",
    "\n",
    "La bonne pratique pour un codeur est de toujours expliquer son programme (ici sa fonction). Pour cela, une première méthode peut consister à commenter son code de la façon suivante."
   ]
  },
  {
   "cell_type": "code",
   "execution_count": 17,
   "metadata": {
    "id": "c15RZQrPtUhV",
    "ExecuteTime": {
     "end_time": "2023-10-11T14:55:53.982765087Z",
     "start_time": "2023-10-11T14:55:51.819411123Z"
    }
   },
   "outputs": [
    {
     "name": "stdout",
     "output_type": "stream",
     "text": [
      "8\n"
     ]
    }
   ],
   "source": [
    "# fonction qui renvoie la valeur de x^n\n",
    "def puissance(x, n):\n",
    "    r = 1\n",
    "    for i in range(n):\n",
    "        r = r * x\n",
    "    return r\n",
    "print(puissance(2,3))"
   ]
  },
  {
   "cell_type": "markdown",
   "metadata": {
    "id": "4a0M0QhKtUhV"
   },
   "source": [
    "Cela donne l'information à celui qui a accès au code mais pas aux autres : si par exemple cette fonction appartient à une bibliothèque que l'on importe, nous n'avons pas directement accès au code de la fonction ni à ce commentaire et donc nous ne serions pas beaucoup plus avancé..."
   ]
  },
  {
   "cell_type": "markdown",
   "metadata": {
    "id": "uDS1dq2RtUhV"
   },
   "source": [
    "## Écrire son propre texte d'aide dans la *chaîne de documentation*\n",
    "\n",
    "Il existe une meilleure façon d'expliquer son code. Pour cela, on associera une *documentation* à notre fonction sous la forme d'une chaîne de caractères écrites entre triples guillemets."
   ]
  },
  {
   "cell_type": "code",
   "execution_count": 18,
   "metadata": {
    "id": "_ZZ7jQ4_tUhV",
    "ExecuteTime": {
     "end_time": "2023-10-11T14:55:54.063782330Z",
     "start_time": "2023-10-11T14:55:51.835213042Z"
    }
   },
   "outputs": [],
   "source": [
    "def puissance(x, n):\n",
    "    \"\"\"\n",
    "    Renvoie la valeur de x^n.\n",
    "    \"\"\"\n",
    "    r = 1\n",
    "    for i in range(n):\n",
    "        r = r * x\n",
    "    return r"
   ]
  },
  {
   "cell_type": "markdown",
   "metadata": {
    "id": "r5g47mx5tUhW"
   },
   "source": [
    "On appelle cela la **chaîne de documentation** de la fonction (ou **docstring** en anglais). En procédant ainsi, le programmeur de la fonction permet à quiconque d'afficher cette chaîne de caractères en utilisant la fonction `help`."
   ]
  },
  {
   "cell_type": "code",
   "execution_count": 19,
   "metadata": {
    "id": "oLU7g4a5tUhW",
    "outputId": "50c9530a-6f79-4910-d1fe-64d8f2e67698",
    "scrolled": true,
    "ExecuteTime": {
     "end_time": "2023-10-11T14:55:54.131475733Z",
     "start_time": "2023-10-11T14:55:51.877237016Z"
    }
   },
   "outputs": [
    {
     "name": "stdout",
     "output_type": "stream",
     "text": [
      "Help on function puissance in module __main__:\n",
      "\n",
      "puissance(x, n)\n",
      "    Renvoie la valeur de x^n.\n"
     ]
    }
   ],
   "source": [
    "help(puissance)"
   ]
  },
  {
   "cell_type": "markdown",
   "metadata": {
    "id": "H-haNplJtUhX"
   },
   "source": [
    "Vous pouvez essayer d'afficher la docstring de fonctions connues."
   ]
  },
  {
   "cell_type": "code",
   "execution_count": 20,
   "metadata": {
    "id": "sXwOYgXJtUhX",
    "outputId": "9e5712a9-3f52-4a48-ae8c-fc4e140b254d",
    "ExecuteTime": {
     "end_time": "2023-10-11T14:55:54.227357342Z",
     "start_time": "2023-10-11T14:55:51.888791478Z"
    }
   },
   "outputs": [
    {
     "name": "stdout",
     "output_type": "stream",
     "text": [
      "Help on built-in function abs in module builtins:\n",
      "\n",
      "abs(x, /)\n",
      "    Return the absolute value of the argument.\n"
     ]
    }
   ],
   "source": [
    "help(abs)  # abs est la fonction valeur absolue"
   ]
  },
  {
   "cell_type": "code",
   "execution_count": 21,
   "metadata": {
    "id": "fNNLJq7etUhY",
    "outputId": "10ec8216-03d2-4832-fcf3-a8992ee09134",
    "ExecuteTime": {
     "end_time": "2023-10-11T14:55:54.277254011Z",
     "start_time": "2023-10-11T14:55:51.905454747Z"
    }
   },
   "outputs": [
    {
     "name": "stdout",
     "output_type": "stream",
     "text": [
      "Help on built-in function len in module builtins:\n",
      "\n",
      "len(obj, /)\n",
      "    Return the number of items in a container.\n"
     ]
    }
   ],
   "source": [
    "help(len)"
   ]
  },
  {
   "cell_type": "markdown",
   "metadata": {
    "id": "K8J0MpJftUhY"
   },
   "source": [
    "Maintenant que l'on sait mieux ce que fait cette fonction on peut facilement l'utiliser pour calculer par exemple $2^3$, $\\left(\\dfrac{1}{2}\\right)^2$, $(-2)^5$ :"
   ]
  },
  {
   "cell_type": "code",
   "execution_count": 22,
   "metadata": {
    "id": "Kf2FhpIutUhY",
    "outputId": "25eed71e-4030-4937-c9b9-94d4d9d63b27",
    "ExecuteTime": {
     "end_time": "2023-10-11T14:55:54.428859264Z",
     "start_time": "2023-10-11T14:55:51.935840961Z"
    }
   },
   "outputs": [
    {
     "data": {
      "text/plain": "8"
     },
     "execution_count": 22,
     "metadata": {},
     "output_type": "execute_result"
    }
   ],
   "source": [
    "puissance(2, 3) # renvoie bien la valeur de 2^3"
   ]
  },
  {
   "cell_type": "code",
   "execution_count": 23,
   "metadata": {
    "id": "dfCfMBEutUhY",
    "outputId": "208c8bed-ca73-43ad-83e7-add7cce2a0bc",
    "ExecuteTime": {
     "end_time": "2023-10-11T14:55:54.455374254Z",
     "start_time": "2023-10-11T14:55:51.964604745Z"
    }
   },
   "outputs": [
    {
     "data": {
      "text/plain": "0.25"
     },
     "execution_count": 23,
     "metadata": {},
     "output_type": "execute_result"
    }
   ],
   "source": [
    "puissance(0.5, 2) # renvoie bien la valeur de (1/2)^2 = 1/4"
   ]
  },
  {
   "cell_type": "code",
   "execution_count": 24,
   "metadata": {
    "id": "MMrXU4HYtUhZ",
    "outputId": "5649ade0-00d3-4bba-ee14-8564c598e6d2",
    "ExecuteTime": {
     "end_time": "2023-10-11T14:55:54.456803488Z",
     "start_time": "2023-10-11T14:55:51.965910245Z"
    }
   },
   "outputs": [
    {
     "data": {
      "text/plain": "-32"
     },
     "execution_count": 24,
     "metadata": {},
     "output_type": "execute_result"
    }
   ],
   "source": [
    "puissance(-2, 5) # renvoie bien la valeur de (-2)^5 = -32"
   ]
  },
  {
   "cell_type": "markdown",
   "metadata": {
    "id": "o4Mq5flEtUhZ"
   },
   "source": [
    "Cependant, en faisant d'autres tests on se rend vite compte que l'on ne peut pas calculer certaines puissances avec la fonction :"
   ]
  },
  {
   "cell_type": "code",
   "execution_count": 25,
   "metadata": {
    "id": "sPq51_W5tUhZ",
    "outputId": "d657dca6-1ed0-42aa-9191-0c6dcc4e19f8",
    "ExecuteTime": {
     "end_time": "2023-10-11T14:55:54.493955233Z",
     "start_time": "2023-10-11T14:55:51.967024363Z"
    }
   },
   "outputs": [
    {
     "data": {
      "text/plain": "1"
     },
     "execution_count": 25,
     "metadata": {},
     "output_type": "execute_result"
    }
   ],
   "source": [
    "puissance(2, -3)  # ne renvoie pas la valeur de 2^(-3) = 1/8"
   ]
  },
  {
   "cell_type": "code",
   "execution_count": 26,
   "metadata": {
    "id": "4vEgoELFtUhZ",
    "outputId": "4adb7319-67b6-4c08-fe4e-16a0a23382d2",
    "ExecuteTime": {
     "end_time": "2023-10-11T14:55:54.530294350Z",
     "start_time": "2023-10-11T14:55:51.992684024Z"
    }
   },
   "outputs": [
    {
     "ename": "TypeError",
     "evalue": "'float' object cannot be interpreted as an integer",
     "output_type": "error",
     "traceback": [
      "\u001B[0;31m---------------------------------------------------------------------------\u001B[0m",
      "\u001B[0;31mTypeError\u001B[0m                                 Traceback (most recent call last)",
      "Cell \u001B[0;32mIn[26], line 1\u001B[0m\n\u001B[0;32m----> 1\u001B[0m \u001B[43mpuissance\u001B[49m\u001B[43m(\u001B[49m\u001B[38;5;241;43m4\u001B[39;49m\u001B[43m,\u001B[49m\u001B[43m \u001B[49m\u001B[38;5;241;43m1\u001B[39;49m\u001B[38;5;241;43m/\u001B[39;49m\u001B[38;5;241;43m2\u001B[39;49m\u001B[43m)\u001B[49m \u001B[38;5;66;03m# ne renvoie pas la valeur de 4^(1/2) = 2 mais lève une erreur\u001B[39;00m\n",
      "Cell \u001B[0;32mIn[18], line 6\u001B[0m, in \u001B[0;36mpuissance\u001B[0;34m(x, n)\u001B[0m\n\u001B[1;32m      2\u001B[0m \u001B[38;5;250m\u001B[39m\u001B[38;5;124;03m\"\"\"\u001B[39;00m\n\u001B[1;32m      3\u001B[0m \u001B[38;5;124;03mRenvoie la valeur de x^n.\u001B[39;00m\n\u001B[1;32m      4\u001B[0m \u001B[38;5;124;03m\"\"\"\u001B[39;00m\n\u001B[1;32m      5\u001B[0m r \u001B[38;5;241m=\u001B[39m \u001B[38;5;241m1\u001B[39m\n\u001B[0;32m----> 6\u001B[0m \u001B[38;5;28;01mfor\u001B[39;00m i \u001B[38;5;129;01min\u001B[39;00m \u001B[38;5;28mrange\u001B[39m(n):\n\u001B[1;32m      7\u001B[0m     r \u001B[38;5;241m=\u001B[39m r \u001B[38;5;241m*\u001B[39m x\n\u001B[1;32m      8\u001B[0m \u001B[38;5;28;01mreturn\u001B[39;00m r\n",
      "\u001B[0;31mTypeError\u001B[0m: 'float' object cannot be interpreted as an integer"
     ]
    }
   ],
   "source": [
    "puissance(4, 1/2) # ne renvoie pas la valeur de 4^(1/2) = 2 mais lève une erreur"
   ]
  },
  {
   "cell_type": "markdown",
   "metadata": {
    "id": "ZcPQA3vBtUha"
   },
   "source": [
    "## Être précis dans sa documentation\n",
    "\n",
    "L'objectif d'une **chaîne de documentation** est d'être courte mais aussi *précise*.\n",
    "\n",
    "On voit sur les deux derniers appels que la fonction ne permet pas de calculer correctement une puissance si l'exposant est négatif ou si l'exposant n'est pas entier. La chaîne de documentation de la fonction n'était donc pas assez précise.\n",
    "\n",
    "De manière générale, la chaîne de documentation d'une fonction doit contenir sa **spécification**, c'est-à-dire :\n",
    "\n",
    "- son __rôle__\n",
    "- les paramètres ainsi que les valeurs acceptées de ces paramètres (= **précondition**)\n",
    "- la (les) valeur(s) qu'elle renvoie ainsi que d'éventuelles conditions sur ces valeurs (= **postcondition**)\n",
    "\n",
    "\n",
    "Ainsi, la version suivante de notre chaine de documentation est bien meilleure car elle indique quelles sont les conditions (sur les paramètres) d'utilisation de la fonction."
   ]
  },
  {
   "cell_type": "code",
   "execution_count": null,
   "metadata": {
    "id": "mDVNuSKKtUha",
    "ExecuteTime": {
     "start_time": "2023-10-11T14:55:52.033380726Z"
    }
   },
   "outputs": [],
   "source": [
    "def puissance(x, n):\n",
    "    \"\"\"\n",
    "    Renvoie la valeur de x^n, où x est un flottant et n est un entier positif ou nul.\n",
    "    \"\"\"\n",
    "    r = 1\n",
    "    for i in range(n):\n",
    "        r = r * x\n",
    "    return r\n"
   ]
  },
  {
   "cell_type": "markdown",
   "metadata": {
    "id": "LsUmITpitUha"
   },
   "source": [
    "Ou encore, de manière plus \"professionnelle\", on peut écrire :"
   ]
  },
  {
   "cell_type": "code",
   "execution_count": null,
   "metadata": {
    "id": "_87LexUPtUha",
    "ExecuteTime": {
     "start_time": "2023-10-11T14:55:52.062170920Z"
    }
   },
   "outputs": [],
   "source": [
    "def puissance(x, n):\n",
    "    \"\"\"\n",
    "    Renvoie la valeur de x^n.\n",
    "\n",
    "    Paramètres\n",
    "    ----------\n",
    "        x : float\n",
    "        n : int\n",
    "            n doit être positif ou nul\n",
    "    \"\"\"\n",
    "    r = 1\n",
    "    for i in range(n):\n",
    "        r = r * x\n",
    "    return r"
   ]
  },
  {
   "cell_type": "markdown",
   "metadata": {
    "id": "5AMpq_6vtUha"
   },
   "source": [
    "> <span style=\"font-size:1.5em\">✍️</span> **À FAIRE :** Exercices 1 et 2"
   ]
  },
  {
   "cell_type": "markdown",
   "metadata": {
    "id": "sm_h2G3qtUha"
   },
   "source": [
    "# Programmation défensive\n",
    "\n",
    "Si une fonction est bien documentée et qu'elle est correcte, on peut considérer que le travail du programmeur (de la fonction) a été fait correctement. Cependant, rien n'empêche d'utiliser cette fonction avec des paramètres d'entrée ne respectant pas les préconditions définies dans la docstring : mais l'erreur incombe alors à l'utilisateur qui, soit n'a pas lu correctement la documentation, soit a volontairement testé la fonction avec des valeurs non admises.\n",
    "\n",
    "Pour parer à cela, le programmeur a la possibilité d'utiliser la construction `assert` suivie d'une condition à tester.\n",
    "\n",
    "Si cette condition est vraie, alors il ne se passe rien et le programme poursuit son exécution :"
   ]
  },
  {
   "cell_type": "code",
   "execution_count": 27,
   "metadata": {
    "id": "Ugb9jXcxtUha",
    "outputId": "a7e5eba8-a6cc-4490-8d9d-8cdeac9fdc22",
    "ExecuteTime": {
     "end_time": "2023-10-11T14:55:54.599506467Z",
     "start_time": "2023-10-11T14:55:52.063101451Z"
    }
   },
   "outputs": [
    {
     "name": "stdout",
     "output_type": "stream",
     "text": [
      "-2\n"
     ]
    }
   ],
   "source": [
    "# Cas d'un test valide\n",
    "a = -2\n",
    "assert a < 0\n",
    "print(a)  # est exécuté car l'assertion précédente est vraie"
   ]
  },
  {
   "cell_type": "markdown",
   "metadata": {
    "id": "iaZBz2VVtUhb"
   },
   "source": [
    "En revanche, si la condition est fausse, alors une erreur (de type `AssetionError`, soit *erreur d'assertion*) est détectée et stoppe l'exécution du reste du programme.\n",
    "\n",
    "Par exemple, le test invalide suivant produit l'affichage d'un message d'erreur et stoppe le programme (ici la dernière ligne n'est pas exécutée)"
   ]
  },
  {
   "cell_type": "code",
   "execution_count": 28,
   "metadata": {
    "id": "CooJSOeatUhb",
    "outputId": "63568767-5ac7-4323-c343-fe84ef698a28",
    "ExecuteTime": {
     "start_time": "2023-10-11T14:55:52.089829263Z"
    }
   },
   "outputs": [
    {
     "ename": "AssertionError",
     "evalue": "",
     "output_type": "error",
     "traceback": [
      "\u001B[0;31m---------------------------------------------------------------------------\u001B[0m",
      "\u001B[0;31mAssertionError\u001B[0m                            Traceback (most recent call last)",
      "Cell \u001B[0;32mIn[28], line 3\u001B[0m\n\u001B[1;32m      1\u001B[0m \u001B[38;5;66;03m# Cas d'un test invalide\u001B[39;00m\n\u001B[1;32m      2\u001B[0m a \u001B[38;5;241m=\u001B[39m \u001B[38;5;241m-\u001B[39m\u001B[38;5;241m2\u001B[39m\n\u001B[0;32m----> 3\u001B[0m \u001B[38;5;28;01massert\u001B[39;00m a \u001B[38;5;241m>\u001B[39m\u001B[38;5;241m=\u001B[39m \u001B[38;5;241m0\u001B[39m\n\u001B[1;32m      4\u001B[0m \u001B[38;5;28mprint\u001B[39m(a)  \u001B[38;5;66;03m# n'est pas exécuté car l'assertion précédente est fausse\u001B[39;00m\n",
      "\u001B[0;31mAssertionError\u001B[0m: "
     ]
    }
   ],
   "source": [
    "# Cas d'un test invalide\n",
    "a = -2\n",
    "assert a >= 0\n",
    "print(a)  # n'est pas exécuté car l'assertion précédente est fausse"
   ]
  },
  {
   "cell_type": "markdown",
   "metadata": {
    "id": "qcU9BSaCtUhb"
   },
   "source": [
    "On peut faire suivre la condition à tester d'un message pour expliquer l'erreur"
   ]
  },
  {
   "cell_type": "code",
   "execution_count": null,
   "metadata": {
    "id": "Tpnr5DAftUhc",
    "outputId": "37d669b9-ed2c-4f06-b73c-d23b30d614d7",
    "ExecuteTime": {
     "start_time": "2023-10-11T14:55:52.125228061Z"
    }
   },
   "outputs": [],
   "source": [
    "# ajout du message à afficher en cas d'erreur\n",
    "a = -2\n",
    "assert a >= 0, \"le nombre a n'est pas positif\""
   ]
  },
  {
   "cell_type": "markdown",
   "metadata": {
    "id": "MHfZkQ7LtUhc"
   },
   "source": [
    "On pourrait donc utiliser ce mécanisme d'assertion dans notre fonction `puissance(x, n)` de la façon suivante."
   ]
  },
  {
   "cell_type": "code",
   "execution_count": 29,
   "metadata": {
    "id": "rr1wrw5TtUhc",
    "ExecuteTime": {
     "end_time": "2023-10-11T14:55:54.761961329Z",
     "start_time": "2023-10-11T14:55:52.149806055Z"
    }
   },
   "outputs": [],
   "source": [
    "def puissance(x, n):\n",
    "    \"\"\"\n",
    "    Renvoie la valeur de x^n, où x est un flottant et n est un entier positif ou nul.\n",
    "    \"\"\"\n",
    "    assert type(n) == int and n >= 0, \"n n'est pas un entier positif ou nul\"\n",
    "    r = 1\n",
    "    for i in range(n):\n",
    "        r = r * x\n",
    "    return r"
   ]
  },
  {
   "cell_type": "markdown",
   "metadata": {
    "id": "6oeQIz71tUhd"
   },
   "source": [
    "Avant l'écriture du corps de la fonction, on a ajouté une assertion (ligne 5) qui va au préalable tester si le paramètre `n` est bien un entier et que c'est bien un entier positif. Si ce n'est pas le cas, la fonction est interrompue (à la ligne 5) et le message d'erreur sera affiché (sinon, le programme se poursuit)."
   ]
  },
  {
   "cell_type": "code",
   "execution_count": 30,
   "metadata": {
    "id": "gUcKgzFYtUhd",
    "outputId": "16edef5d-53fe-4be9-eed1-d36f2677470b",
    "ExecuteTime": {
     "start_time": "2023-10-11T14:55:52.164761312Z"
    }
   },
   "outputs": [
    {
     "ename": "AssertionError",
     "evalue": "n n'est pas un entier positif ou nul",
     "output_type": "error",
     "traceback": [
      "\u001B[0;31m---------------------------------------------------------------------------\u001B[0m",
      "\u001B[0;31mAssertionError\u001B[0m                            Traceback (most recent call last)",
      "Cell \u001B[0;32mIn[30], line 1\u001B[0m\n\u001B[0;32m----> 1\u001B[0m \u001B[43mpuissance\u001B[49m\u001B[43m(\u001B[49m\u001B[38;5;241;43m2\u001B[39;49m\u001B[43m,\u001B[49m\u001B[43m \u001B[49m\u001B[38;5;241;43m-\u001B[39;49m\u001B[38;5;241;43m3\u001B[39;49m\u001B[43m)\u001B[49m  \u001B[38;5;66;03m# précondition non vérifiée\u001B[39;00m\n",
      "Cell \u001B[0;32mIn[29], line 5\u001B[0m, in \u001B[0;36mpuissance\u001B[0;34m(x, n)\u001B[0m\n\u001B[1;32m      1\u001B[0m \u001B[38;5;28;01mdef\u001B[39;00m \u001B[38;5;21mpuissance\u001B[39m(x, n):\n\u001B[1;32m      2\u001B[0m \u001B[38;5;250m    \u001B[39m\u001B[38;5;124;03m\"\"\"\u001B[39;00m\n\u001B[1;32m      3\u001B[0m \u001B[38;5;124;03m    Renvoie la valeur de x^n, où x est un flottant et n est un entier positif ou nul.\u001B[39;00m\n\u001B[1;32m      4\u001B[0m \u001B[38;5;124;03m    \"\"\"\u001B[39;00m\n\u001B[0;32m----> 5\u001B[0m     \u001B[38;5;28;01massert\u001B[39;00m \u001B[38;5;28mtype\u001B[39m(n) \u001B[38;5;241m==\u001B[39m \u001B[38;5;28mint\u001B[39m \u001B[38;5;129;01mand\u001B[39;00m n \u001B[38;5;241m>\u001B[39m\u001B[38;5;241m=\u001B[39m \u001B[38;5;241m0\u001B[39m, \u001B[38;5;124m\"\u001B[39m\u001B[38;5;124mn n\u001B[39m\u001B[38;5;124m'\u001B[39m\u001B[38;5;124mest pas un entier positif ou nul\u001B[39m\u001B[38;5;124m\"\u001B[39m\n\u001B[1;32m      6\u001B[0m     r \u001B[38;5;241m=\u001B[39m \u001B[38;5;241m1\u001B[39m\n\u001B[1;32m      7\u001B[0m     \u001B[38;5;28;01mfor\u001B[39;00m i \u001B[38;5;129;01min\u001B[39;00m \u001B[38;5;28mrange\u001B[39m(n):\n",
      "\u001B[0;31mAssertionError\u001B[0m: n n'est pas un entier positif ou nul"
     ]
    }
   ],
   "source": [
    "puissance(2, -3)  # précondition non vérifiée"
   ]
  },
  {
   "cell_type": "code",
   "execution_count": null,
   "metadata": {
    "id": "k-h9A4R2tUhe",
    "outputId": "0564ac5e-d5e4-472e-85fe-025383ea15d8",
    "ExecuteTime": {
     "start_time": "2023-10-11T14:55:52.206017724Z"
    }
   },
   "outputs": [],
   "source": [
    "puissance(2, 3)  # précondition vérifiée"
   ]
  },
  {
   "cell_type": "markdown",
   "metadata": {
    "id": "0Z53xAIwtUhf"
   },
   "source": [
    "En écrivant cette assertion, le programmeur teste au préalable si les *préconditions sont valides* avant d'exécuter le reste du programme. On parle alors de *programmation défensive*."
   ]
  },
  {
   "cell_type": "markdown",
   "metadata": {
    "id": "8qUU4HWAtUhf"
   },
   "source": [
    "> **Remarque :** il est possible de combiner plusieurs assertions. Par exemple, l'assertion précédente aurait pu être \"séparée\" en les deux assertions suivantes :\n",
    ">```python\n",
    ">assert type(n) == int, \"n n'est pas un entier\"\n",
    ">assert n >= 0, \"n n'est pas positif\"\n",
    ">```"
   ]
  },
  {
   "cell_type": "markdown",
   "metadata": {
    "id": "3ur9UzSytUhf"
   },
   "source": [
    "> <span style=\"font-size:1.5em\">✍️</span> **À FAIRE :** Exercices 3 et 4"
   ]
  },
  {
   "cell_type": "markdown",
   "metadata": {
    "id": "dp1tftuktUhg"
   },
   "source": [
    "# Tester ses programmes pour (se) convaincre\n",
    "\n",
    "On peut tout à fait avoir bien spécifié et documenté sa fonction sans que celle-ci ne fonctionne comme prévu. En effet, il n'est pas rare de se tromper dans le code. Pour repérer les éventuelles erreurs, le programmeur peut utiliser sa fonction sur des cas concrets et vérifier que celle-ci renvoie la (ou les) bonne(s) valeur(s). On appelle cela le *test*."
   ]
  },
  {
   "cell_type": "markdown",
   "metadata": {
    "id": "HkdlLUKWtUhg"
   },
   "source": [
    "## Utiliser des jeux de tests\n",
    "\n",
    "Plutôt que de faire les tests manuellement un par un, il est possible d'utiliser la construction `assert` directement dans le fichier contenant le programme."
   ]
  },
  {
   "cell_type": "code",
   "execution_count": 31,
   "metadata": {
    "id": "tWn71v0ntUhg",
    "ExecuteTime": {
     "end_time": "2023-10-11T14:55:54.854983777Z",
     "start_time": "2023-10-11T14:55:52.251283060Z"
    }
   },
   "outputs": [],
   "source": [
    "def puissance(x, n):\n",
    "    \"\"\"\n",
    "    Renvoie la valeur de x^n, où x est un flottant et n est un entier positif ou nul.\n",
    "    \"\"\"\n",
    "    r = 1\n",
    "    for i in range(n):\n",
    "        r = r * x\n",
    "    return r\n",
    "\n",
    "# jeu de tests :\n",
    "assert puissance(2, 3) == 8\n",
    "assert puissance(0, 2) == 0\n",
    "assert puissance(5, 0) == 1\n",
    "assert puissance(-2, 5) == -32\n",
    "assert puissance(0.5, 2) == 0.25"
   ]
  },
  {
   "cell_type": "markdown",
   "metadata": {
    "id": "sTHxRHKytUhg"
   },
   "source": [
    "Si l'un de ces tests échoue, un message indique le premier échec et la fonction doit être corrigée. Une fois que la correction a été faite, il faut relancer *tous* les tests. En effet, en corrigeant la fonction il est possible d'introduire une autre erreur (et donc qu'un des tests qui passait avec succès, échoue avec la correction apportée)."
   ]
  },
  {
   "cell_type": "markdown",
   "metadata": {
    "id": "umWfCQeutUhg"
   },
   "source": [
    "## Écrire ses tests avant le code de la fonction\n",
    "\n",
    "Une pratique courante consiste à **écrire des tests *avant* même d'écrire le code de la fonction**.\n",
    "\n",
    "En effet, si la spécification de la fonction est claire, on sait quel doit être le comportement de celle-ci. Par exemple, supposons que l'on veuille écrire une fonction `appartient(v, T)` dont la spécification, écrite dans sa docstring, est la suivante :\n",
    "\n",
    "```python\n",
    "def appartient(v, t):\n",
    "    \"\"\"\n",
    "    Renvoie True si l'entier v appartient à tableau d'entiers t, et False sinon.\n",
    "    \"\"\"\n",
    "    # CODE A ECRIRE\n",
    "```\n",
    "On connaît son comportement et on peut tout suite écrire les tests suivants."
   ]
  },
  {
   "cell_type": "code",
   "execution_count": 50,
   "metadata": {
    "id": "pmSRDfp4tUhg",
    "scrolled": true,
    "ExecuteTime": {
     "end_time": "2023-10-11T14:58:30.451918103Z",
     "start_time": "2023-10-11T14:58:30.408341350Z"
    }
   },
   "outputs": [],
   "source": [
    "def appartient(v, t):\n",
    "    \"\"\"\n",
    "    Renvoie True si l'entier v appartient à tableau d'entiers t, et False sinon.\n",
    "    \"\"\"\n",
    "    # CODE DE LA FONCTION À ÉCRIRE\n",
    "    for i in t:\n",
    "        if v == i:\n",
    "            return True\n",
    "    return False\n",
    "\n",
    "# jeu de tests\n",
    "assert appartient(2, [2, 4, 7, 5]) == True\n",
    "assert appartient(2, [0, 4, 7, 5]) == False\n",
    "assert appartient(2, [2]) == True"
   ]
  },
  {
   "cell_type": "markdown",
   "metadata": {
    "id": "t4XS7c5YtUhh"
   },
   "source": [
    "Ensuite, on peut écrire le code de la fonction et exécuter le programme. Si l'un des tests échoue on est certain d'avoir fait une erreur et il faut la corriger. Cependant, si tous nos tests *passent*, nous ne sommes pas sûr que notre fonction est bien écrite pour autant."
   ]
  },
  {
   "cell_type": "markdown",
   "metadata": {
    "id": "9yGkRBnCtUhh"
   },
   "source": [
    "## L'importance de la qualité du jeu de tests\n",
    "\n",
    "Il est souvent impossible d'écrire de manière exhaustive tous les tests possibles car il y en a bien souvent une infinité. Pour se convaincre que notre fonction est bien écrite, l'enjeu consiste donc à trouver un ensemble de tests qui couvrent les différents comportements du programme.\n",
    "\n",
    "Par exemple, avec le code suivant pour la fonction `appartient` aucun des tests proposés n'échoue."
   ]
  },
  {
   "cell_type": "code",
   "execution_count": 53,
   "metadata": {
    "id": "WhsVlt7ZtUhh",
    "ExecuteTime": {
     "end_time": "2023-10-11T15:02:07.600020916Z",
     "start_time": "2023-10-11T15:02:07.493356255Z"
    }
   },
   "outputs": [],
   "source": [
    "def appartient(v, t):\n",
    "    \"\"\"\n",
    "    Renvoie True si l'entier v appartient à tableau d'entiers t, et False sinon.\n",
    "    \"\"\"\n",
    "    for i in range(len(t)):\n",
    "        if t[i] == v:\n",
    "            return True\n",
    "        else:\n",
    "            return False\n",
    "\n",
    "\n",
    "# jeu de tests\n",
    "assert appartient(2, [2, 4, 7, 5]) == True\n",
    "assert appartient(2, [0, 4, 7, 5]) == False\n",
    "assert appartient(2, [2]) == True"
   ]
  },
  {
   "cell_type": "markdown",
   "metadata": {
    "id": "Qgq50b2ntUhh"
   },
   "source": [
    "Tous les tests de notre jeu de tests passent avec succès, super notre fonction est correcte ! 😎💪\n",
    "\n",
    "... Et pourtant, avec l'appel suivant c'est le drame ... 😲😱"
   ]
  },
  {
   "cell_type": "code",
   "execution_count": 55,
   "metadata": {
    "id": "0E_UDIgatUhh",
    "outputId": "6bca069e-f0af-47aa-a2ff-1e9453072127",
    "ExecuteTime": {
     "end_time": "2023-10-11T15:02:20.145791255Z",
     "start_time": "2023-10-11T15:02:20.040758504Z"
    }
   },
   "outputs": [
    {
     "data": {
      "text/plain": "False"
     },
     "execution_count": 55,
     "metadata": {},
     "output_type": "execute_result"
    }
   ],
   "source": [
    "appartient(2, [0, 4, 2, 5])"
   ]
  },
  {
   "cell_type": "markdown",
   "metadata": {
    "id": "L7J-Pe3UtUhi"
   },
   "source": [
    "Cet appel met en évidence que **le code de notre fonction est incorrect** puisque 2 appartient bien au tableau `[0, 4, 2, 5]`.\n",
    "\n",
    "Pire, l'appel ci-dessous ne renvoie rien alors qu'il devrait renvoyer `False` 😲😱..."
   ]
  },
  {
   "cell_type": "code",
   "execution_count": 59,
   "metadata": {
    "id": "KiLlZDwMtUhi",
    "ExecuteTime": {
     "end_time": "2023-10-11T15:02:40.431305244Z",
     "start_time": "2023-10-11T15:02:40.403449144Z"
    }
   },
   "outputs": [],
   "source": [
    "appartient(2, [])"
   ]
  },
  {
   "cell_type": "markdown",
   "metadata": {
    "id": "iHOyAPO-tUhi"
   },
   "source": [
    "Notre code est donc (au moins) doublement incorrect !! Et pourtant tous les tests de notre jeu de tests sont passés avec succès... Cela montre que notre jeu de tests n'était pas bon et que la qualité du jeu de tests est primordiale !\n",
    "\n",
    "<blockquote class=\"question\">\n",
    "    <p>Mais qu'est-ce qu'un <em>bon</em> jeu de tests ?</p>\n",
    "</blockquote>\n",
    "\n",
    "Il n'est pas simple de définir ce qu'est un ***bon* jeu de tests** mais de  manière générale, voici quelques règles que l'on peut appliquer :\n",
    "\n",
    "- si la spécification mentionne plusieurs cas, il faut s'assurer de tous les tester ;\n",
    "- si la fonction renvoie un booléen, il faut s'assurer de tester les deux résultats possibles ;\n",
    "- si la fonction s'applique à un tableau, il faut tester le cas où le tableau est vide ;\n",
    "- si la fonction doit parcourir un tableau en entier, il faut s'assurer que celui-ci est parcouru entièrement ;\n",
    "- si la fonction s'applique à un nombre, il faut s'assurer de tester des cas où le nombre est positif, où le nombre négatif et où le nombre vaut zéro ;\n",
    "- si la fonction s'applique à un nombre appartenant à un intervalle, il faut s'assurer de tester les cas où le nombre est égal aux bornes de l'intervalle.\n",
    "\n",
    "> Essayons d'améliorer notre jeu de tests pour la fonction `appartient` en suivant ces préconisations !"
   ]
  },
  {
   "cell_type": "markdown",
   "metadata": {
    "id": "mshMkmiXtUhi"
   },
   "source": [
    "## Améliorer le jeu de tests\n",
    "\n",
    "Notre jeu de tests est pour le moment le suivant :\n",
    "\n",
    "```python\n",
    "# jeu de tests\n",
    "assert appartient(2, [2, 4, 7, 5]) == True\n",
    "assert appartient(2, [0, 4, 7, 5]) == False\n",
    "assert appartient(2, [2]) == True\n",
    "```\n",
    "\n",
    "On a bien écrit un test pour lequel la fonction renvoie `True` et un autre pour lequel la fonction renvoie `False`. On a pensé à faire un test pour un tableau particuler : celui réduit à un seul élément (le troisième test). Par ailleurs, nos deux tests pour lesquels la fonction renvoie `True` sont particuliers car à chaque fois la valeur `v` cherchée se trouve en première position (d'indice 0) dans le tableau.\n",
    "\n",
    "Améliorons cela en partant des deux appels `appartient(2, [0, 4, 2, 5])` et `appartient(2, [])` effectués précédemment et qui ont montré que notre fonction était incorrecte. Si on a analyse ces deux exemples, on se rend compte que :\n",
    "\n",
    "- notre fonction ne renvoie pas la bonne valeur dans le cas d'un tableau vide. Il faudra donc intégrer un test pour le cas très particulier du tableau vide :\n",
    "\n",
    "```python\n",
    "assert appartient(2, []) == False\n",
    "```\n",
    "\n",
    "- notre fonction ne renvoie pas la bonne valeur dans le cas où la valeur cherchée se trouve en \"milieu\" de tableau. On va intégrer un tel test à notre jeu de tests :\n",
    "\n",
    "```python\n",
    "assert appartient(2, [0, 4, 2, 5]) == True\n",
    "```\n",
    "\n",
    "Tant qu'à faire, on peut ajouter un dernier test où la valeur `v` se trouve en dernière position du tableau, ce qui est aussi un cas particulier à considérer. Voici donc le jeu tests amélioré proposé (qui ne passera pas avec succès puisque nous n'avons toujours pas modifié le code de notre fonction `appartient`) :\n"
   ]
  },
  {
   "cell_type": "code",
   "execution_count": 62,
   "metadata": {
    "id": "3sZw_i4jtUhj",
    "ExecuteTime": {
     "end_time": "2023-10-11T15:05:05.954452318Z",
     "start_time": "2023-10-11T15:05:05.843627279Z"
    }
   },
   "outputs": [
    {
     "ename": "AssertionError",
     "evalue": "",
     "output_type": "error",
     "traceback": [
      "\u001B[0;31m---------------------------------------------------------------------------\u001B[0m",
      "\u001B[0;31mAssertionError\u001B[0m                            Traceback (most recent call last)",
      "Cell \u001B[0;32mIn[62], line 15\u001B[0m\n\u001B[1;32m     13\u001B[0m \u001B[38;5;28;01massert\u001B[39;00m appartient(\u001B[38;5;241m2\u001B[39m, [\u001B[38;5;241m0\u001B[39m, \u001B[38;5;241m4\u001B[39m, \u001B[38;5;241m7\u001B[39m, \u001B[38;5;241m5\u001B[39m]) \u001B[38;5;241m==\u001B[39m \u001B[38;5;28;01mFalse\u001B[39;00m\n\u001B[1;32m     14\u001B[0m \u001B[38;5;28;01massert\u001B[39;00m appartient(\u001B[38;5;241m2\u001B[39m, [\u001B[38;5;241m2\u001B[39m]) \u001B[38;5;241m==\u001B[39m \u001B[38;5;28;01mTrue\u001B[39;00m\n\u001B[0;32m---> 15\u001B[0m \u001B[38;5;28;01massert\u001B[39;00m appartient(\u001B[38;5;241m2\u001B[39m, [\u001B[38;5;241m0\u001B[39m, \u001B[38;5;241m4\u001B[39m, \u001B[38;5;241m2\u001B[39m, \u001B[38;5;241m5\u001B[39m]) \u001B[38;5;241m==\u001B[39m \u001B[38;5;28;01mTrue\u001B[39;00m  \u001B[38;5;66;03m# cas où v est au \"milieu du tableau\"\u001B[39;00m\n\u001B[1;32m     16\u001B[0m \u001B[38;5;28;01massert\u001B[39;00m appartient(\u001B[38;5;241m2\u001B[39m, [\u001B[38;5;241m0\u001B[39m, \u001B[38;5;241m4\u001B[39m, \u001B[38;5;241m5\u001B[39m, \u001B[38;5;241m2\u001B[39m]) \u001B[38;5;241m==\u001B[39m \u001B[38;5;28;01mTrue\u001B[39;00m  \u001B[38;5;66;03m# cas où v est en dernière position\u001B[39;00m\n\u001B[1;32m     17\u001B[0m \u001B[38;5;28;01massert\u001B[39;00m appartient(\u001B[38;5;241m2\u001B[39m, []) \u001B[38;5;241m==\u001B[39m \u001B[38;5;28;01mFalse\u001B[39;00m  \u001B[38;5;66;03m# cas du tableau vide\u001B[39;00m\n",
      "\u001B[0;31mAssertionError\u001B[0m: "
     ]
    }
   ],
   "source": [
    "def appartient(v, t):\n",
    "    \"\"\"\n",
    "    Renvoie True si l'entier v appartient à tableau d'entiers t, et False sinon.\n",
    "    \"\"\"\n",
    "    for i in range(len(t)):\n",
    "        if t[i] == v:\n",
    "            return True\n",
    "        else:\n",
    "            return False\n",
    "\n",
    "# un meilleur jeu de tests :\n",
    "assert appartient(2, [2, 4, 7, 5]) == True\n",
    "assert appartient(2, [0, 4, 7, 5]) == False\n",
    "assert appartient(2, [2]) == True\n",
    "assert appartient(2, [0, 4, 2, 5]) == True  # cas où v est au \"milieu du tableau\"\n",
    "assert appartient(2, [0, 4, 5, 2]) == True  # cas où v est en dernière position\n",
    "assert appartient(2, []) == False  # cas du tableau vide"
   ]
  },
  {
   "cell_type": "markdown",
   "metadata": {
    "id": "9tJdheXOtUhj"
   },
   "source": [
    "> On va terminer en corrigeant notre fonction pour tous les tests soient validés !"
   ]
  },
  {
   "cell_type": "markdown",
   "metadata": {
    "id": "RX8uYssvtUhj"
   },
   "source": [
    "## Corriger sa fonction\n",
    "\n",
    "Il n'est pas toujours évident de trouver pourquoi notre code ne fonctionne pas. Les tests qui échouent nous donne cependant de précieux éléments sur les erreurs dans le programme. En effet, **c'est souvent en partant d'un test qui échoue que l'on trouve les erreurs en suivant l'état des variables**.\n",
    "\n",
    "Ceci peut se faire mentalement ou sur papier mais il également possible d'utiliser des outils numériques.\n",
    "\n",
    "### Première possibilité : afficher les valeurs de certaines variables\n",
    "\n",
    "Pour un programmeur débutant, la première idée à mettre en oeuvre est souvent d'afficher les valeurs de certaines variables à des endroits stratégiques du programme. Par exemple, on peut afficher la valeur de la variable `i` à chaque tour de boucle, et afficher le message `\"ici\"` ou `\"là\"` selon que l'on passe dans le `if` ou dans le `else` :"
   ]
  },
  {
   "cell_type": "code",
   "execution_count": 37,
   "metadata": {
    "id": "gOg-MqtgtUhj",
    "ExecuteTime": {
     "end_time": "2023-10-11T14:55:55.343016767Z",
     "start_time": "2023-10-11T14:55:52.509192783Z"
    }
   },
   "outputs": [],
   "source": [
    "def appartient(v, t):\n",
    "    \"\"\"\n",
    "    Renvoie True si l'entier v appartient à tableau d'entiers t, et False sinon.\n",
    "    \"\"\"\n",
    "    for i in range(1, len(t)):\n",
    "        print(\"i =\", i)\n",
    "        if t[i] == v:\n",
    "            print(\"ici\")\n",
    "            return True\n",
    "        else:\n",
    "            print(\"là\")\n",
    "            return False"
   ]
  },
  {
   "cell_type": "markdown",
   "metadata": {
    "id": "VE5zCQl0tUhj"
   },
   "source": [
    "On utilise le premier appel qui posait problème :"
   ]
  },
  {
   "cell_type": "code",
   "execution_count": 38,
   "metadata": {
    "id": "SfFbzHUZtUhk",
    "outputId": "2d73bf2f-eed8-4346-dee4-faf5ba2fd671",
    "ExecuteTime": {
     "end_time": "2023-10-11T14:55:55.560360404Z",
     "start_time": "2023-10-11T14:55:52.538549118Z"
    }
   },
   "outputs": [
    {
     "name": "stdout",
     "output_type": "stream",
     "text": [
      "i = 1\n",
      "là\n"
     ]
    },
    {
     "data": {
      "text/plain": "False"
     },
     "execution_count": 38,
     "metadata": {},
     "output_type": "execute_result"
    }
   ],
   "source": [
    "appartient(2, [0, 4, 2, 5])"
   ]
  },
  {
   "cell_type": "markdown",
   "metadata": {
    "id": "vSy9du5dtUhk"
   },
   "source": [
    "On se rend compte que la variable `i` ne prend que la valeur `0`, autrement dit que l'on ne fait qu'un seul tour de boucle : le premier (celui d'indice `0`). De plus, lors de ce premier tour de boucle, on voit que le message `\"là\"` est affiché, autrement dit que l'on passe dans le `else`. Or, si on arrive dans le `else` notre fonction renvoie `False`.\n",
    "\n",
    "Or, il ne faut pas renvoyer `False` mais poursuivre la recherche si la valeur `v` n'est pas en première position (ni à une autre position d'ailleurs). On peut alors corriger notre programme en retirant le `else` et en renvoyant `False` **après** la boucle `for` !"
   ]
  },
  {
   "cell_type": "code",
   "execution_count": 39,
   "metadata": {
    "id": "xMtIu94FtUhk",
    "ExecuteTime": {
     "end_time": "2023-10-11T14:55:55.620197773Z",
     "start_time": "2023-10-11T14:55:52.545895118Z"
    }
   },
   "outputs": [],
   "source": [
    "def appartient(v, t):\n",
    "    \"\"\"\n",
    "    Renvoie True si l'entier v appartient à tableau d'entiers t, et False sinon.\n",
    "    \"\"\"\n",
    "    for i in range(len(t)):\n",
    "        print(\"i =\", i)\n",
    "        if t[i] == v:\n",
    "            print(\"ici\")\n",
    "            return True\n",
    "    print(\"là\")\n",
    "    return False"
   ]
  },
  {
   "cell_type": "code",
   "execution_count": 40,
   "metadata": {
    "id": "ZECxQ0rotUhk",
    "outputId": "131841e5-c001-4a0b-f748-63d9fc3a48c0",
    "ExecuteTime": {
     "end_time": "2023-10-11T14:55:55.675000505Z",
     "start_time": "2023-10-11T14:55:52.562079891Z"
    }
   },
   "outputs": [
    {
     "name": "stdout",
     "output_type": "stream",
     "text": [
      "i = 0\n",
      "i = 1\n",
      "i = 2\n",
      "ici\n"
     ]
    },
    {
     "data": {
      "text/plain": "True"
     },
     "execution_count": 40,
     "metadata": {},
     "output_type": "execute_result"
    }
   ],
   "source": [
    "appartient(2, [0, 4, 2, 5])"
   ]
  },
  {
   "cell_type": "markdown",
   "metadata": {
    "id": "rcc2L5xxtUhl"
   },
   "source": [
    "On peut essayer à nouveau notre jeu de tests (en enlevant les affichages) :"
   ]
  },
  {
   "cell_type": "code",
   "execution_count": 41,
   "metadata": {
    "id": "_pU2hh9mtUhp",
    "ExecuteTime": {
     "end_time": "2023-10-11T14:55:55.676195576Z",
     "start_time": "2023-10-11T14:55:52.602678608Z"
    }
   },
   "outputs": [],
   "source": [
    "def appartient(v, t):\n",
    "    \"\"\"\n",
    "    Renvoie True si l'entier v appartient à tableau d'entiers t, et False sinon.\n",
    "    \"\"\"\n",
    "    for i in range(len(t)):\n",
    "        if t[i] == v:\n",
    "            return True\n",
    "    return False\n",
    "\n",
    "# un meilleur jeu de tests :\n",
    "assert appartient(2, [2, 4, 7, 5]) == True\n",
    "assert appartient(2, [0, 4, 7, 5]) == False\n",
    "assert appartient(2, [2]) == True\n",
    "assert appartient(2, [0, 4, 2, 5]) == True  # cas où v est au \"milieu du tableau\"\n",
    "assert appartient(2, [0, 4, 5, 2]) == True  # cas où v est en dernière position\n",
    "assert appartient(2, []) == False  # cas du tableau vide"
   ]
  },
  {
   "cell_type": "markdown",
   "metadata": {
    "id": "yi1c7BPTtUhp"
   },
   "source": [
    "Super, tous les tests passent avec succès, et comme notre jeu de tests couvre tous les cas particuliers, on peut considérer que notre fonction est *a priori* correcte 👍."
   ]
  },
  {
   "cell_type": "markdown",
   "metadata": {
    "id": "jVAbwWwvtUhq"
   },
   "source": [
    "### Deuxième possibilité : exécuter un programme ligne par ligne\n",
    "\n",
    "Il existe des outils efficaces permettant d'exécuter ligne par ligne un programme pour y déceler une erreur. L'un d'entre eux se nomme *Python tutor*. Il n'est alors plus nécessaire d'utiliser des `print` pour faire des affichages.\n",
    "\n",
    "Voici <a href=\"https://pythontutor.com/visualize.html#code=def%20appartient%28v,%20t%29%3A%0A%20%20%20%20%22%22%22%0A%20%20%20%20Renvoie%20True%20si%20v%20appartient%20%C3%A0%20t,%20et%20False%20sinon.%0A%20%20%20%20%22%22%22%0A%20%20%20%20for%20i%20in%20range%28len%28t%29%29%3A%0A%20%20%20%20%20%20%20%20print%28i%29%0A%20%20%20%20%20%20%20%20if%20t%5Bi%5D%20%3D%3D%20v%3A%0A%20%20%20%20%20%20%20%20%20%20%20%20return%20True%0A%20%20%20%20%20%20%20%20else%3A%0A%20%20%20%20%20%20%20%20%20%20%20%20return%20False%0A%0Aappartient%282,%20%5B0,%204,%202,%205%5D%29&cumulative=false&curInstr=0&heapPrimitives=nevernest&mode=display&origin=opt-frontend.js&py=3&rawInputLstJSON=%5B%5D&textReferences=false\" target=\"_blank\">un lien vers Python tutor</a> pour exécuter l'appel `appartient(2, [0, 4, 2, 5])` avec la version incorrecte de la fonction `appartient`. On peut alors suivre les exécutions ligne après ligne pour se rendre compte qu'il n'y a qu'un seul tour de boucle avec renvoi de la valeur `False` dès ce premier tour.\n"
   ]
  },
  {
   "cell_type": "markdown",
   "metadata": {
    "id": "ZX5qa7b0tUhq"
   },
   "source": [
    "### Troisième possibilité : utiliser des outils de débogage\n",
    "\n",
    "Enfin, les IDE les plus récents proposent généralement des *débogueurs* (ou *debugger*) qui permettent d'exécuter les programmes ligne par ligne et d'insérer des *points d'arrêts* pour stopper l'exécution du programme à certains endroits. On peut ainsi suivre les valeurs des variables pas à pas pour trouver la ou les erreurs."
   ]
  },
  {
   "cell_type": "markdown",
   "metadata": {
    "id": "eqXXGl87tUhq"
   },
   "source": [
    "> <span style=\"font-size:1.5em\">✍️</span> **À FAIRE :** Exercices 5, 6, 7 et 8"
   ]
  },
  {
   "cell_type": "markdown",
   "metadata": {
    "id": "EiSPaRx3tUhq"
   },
   "source": [
    "## Intégration des tests à la chaîne de documentation\n",
    "\n",
    "Choisir et vérifier des tests pertinents est un travail précieux, dont il est important de garder une trace. De plus, des tests bien choisis peuvent constituer une explication très efficace de l'effet d'une fonction.\n",
    "\n",
    "Une pratique fréquente est d'inclure une série de tests directement dans la chaîne d'aide d'une fonction."
   ]
  },
  {
   "cell_type": "code",
   "execution_count": 64,
   "metadata": {
    "id": "bU4pEVoDtUhq",
    "ExecuteTime": {
     "end_time": "2023-10-11T15:06:59.259046936Z",
     "start_time": "2023-10-11T15:06:59.162089901Z"
    }
   },
   "outputs": [],
   "source": [
    "def puissance(x, n):\n",
    "    '''\n",
    "    Renvoie la valeur de x^n, où n est un entier positif ou nul\n",
    "\n",
    "    >>> puissance(2, 3)\n",
    "    8\n",
    "\n",
    "    >>> puissance(0, 2)\n",
    "    0\n",
    "\n",
    "    >>> puissance(5, 0)\n",
    "    1\n",
    "\n",
    "    >>> puissance(-2, 5)\n",
    "    -32\n",
    "\n",
    "    >>> puissance(0.5, 2)\n",
    "    0.25\n",
    "\n",
    "    etc.\n",
    "\n",
    "    '''\n",
    "    r = 1\n",
    "    for i in range(n):\n",
    "        r = r * x\n",
    "    return r\n"
   ]
  },
  {
   "cell_type": "markdown",
   "metadata": {
    "id": "Fi1eih7ItUhr"
   },
   "source": [
    "Par convention, les tests prennent la forme d'expressions Python précédées de la syntaxe `>>>`, qui représente l'invite de commande de l'interpréteur Python classique. Chaque expression est suivi de l'affichage (éventuellement vide) qui serait provoqué si elle était évaluée dans l'interpréteur."
   ]
  },
  {
   "cell_type": "markdown",
   "metadata": {
    "id": "h25dEeP1tUhr"
   },
   "source": [
    "## Extraction et vérification automatique de tests : le module *doctest*\n",
    "\n",
    "Un outil prédéfini, accessible par le biais du module `doctest`, permet d'extraire automatiquement et de vérifier chacun des tests présents dans les chaînes de documentation, dans toutes les fonctions d'un module par exemple (par défaut, les tests du module courant sont extraits et vérifiés)."
   ]
  },
  {
   "cell_type": "code",
   "execution_count": 43,
   "metadata": {
    "id": "9KUjCyd9tUhr",
    "ExecuteTime": {
     "end_time": "2023-10-11T14:55:55.888766423Z",
     "start_time": "2023-10-11T14:55:52.687646015Z"
    }
   },
   "outputs": [],
   "source": [
    "import doctest"
   ]
  },
  {
   "cell_type": "code",
   "execution_count": 44,
   "metadata": {
    "id": "KeGWlWhstUhr",
    "outputId": "8e11b486-0c24-42e0-bfe8-11afd38a35bb",
    "ExecuteTime": {
     "end_time": "2023-10-11T14:55:55.890688329Z",
     "start_time": "2023-10-11T14:55:52.762433661Z"
    }
   },
   "outputs": [
    {
     "data": {
      "text/plain": "TestResults(failed=0, attempted=5)"
     },
     "execution_count": 44,
     "metadata": {},
     "output_type": "execute_result"
    }
   ],
   "source": [
    "doctest.testmod()"
   ]
  },
  {
   "cell_type": "markdown",
   "metadata": {
    "id": "Z_SMmFuktUhr"
   },
   "source": [
    "Ici, il n'y a qu'une fonction qui contient des tests inclus dans sa chaîne de documentation. On se rend compte que les 5 tests pour la fonction `puissance(x, n)` sont passés avec succès.\n",
    "\n",
    "Il est possible d'ajouter un paramètre optionnel à la fonction `testmod` afin d'obtenir plus d'informations sur les tests effectués, même en cas de succès."
   ]
  },
  {
   "cell_type": "code",
   "execution_count": 45,
   "metadata": {
    "id": "GpORrbzDtUhs",
    "outputId": "b283611a-273d-4d45-8778-d717e37ea52f",
    "ExecuteTime": {
     "end_time": "2023-10-11T14:55:55.915422619Z",
     "start_time": "2023-10-11T14:55:52.763066729Z"
    }
   },
   "outputs": [
    {
     "name": "stdout",
     "output_type": "stream",
     "text": [
      "Trying:\n",
      "    puissance(2, 3)\n",
      "Expecting:\n",
      "    8\n",
      "ok\n",
      "Trying:\n",
      "    puissance(0, 2)\n",
      "Expecting:\n",
      "    0\n",
      "ok\n",
      "Trying:\n",
      "    puissance(5, 0)\n",
      "Expecting:\n",
      "    1\n",
      "ok\n",
      "Trying:\n",
      "    puissance(-2, 5)\n",
      "Expecting:\n",
      "    -32\n",
      "ok\n",
      "Trying:\n",
      "    puissance(0.5, 2)\n",
      "Expecting:\n",
      "    0.25\n",
      "ok\n",
      "3 items had no tests:\n",
      "    __main__\n",
      "    __main__.appartient\n",
      "    __main__.f\n",
      "1 items passed all tests:\n",
      "   5 tests in __main__.puissance\n",
      "5 tests in 4 items.\n",
      "5 passed and 0 failed.\n",
      "Test passed.\n"
     ]
    },
    {
     "data": {
      "text/plain": "TestResults(failed=0, attempted=5)"
     },
     "execution_count": 45,
     "metadata": {},
     "output_type": "execute_result"
    }
   ],
   "source": [
    "doctest.testmod(verbose = True)"
   ]
  },
  {
   "cell_type": "markdown",
   "metadata": {
    "id": "LF0jAaa1tUhs"
   },
   "source": [
    "> <span style=\"font-size:1.5em\">✍️</span> **À FAIRE :** Exercice 9."
   ]
  },
  {
   "cell_type": "markdown",
   "metadata": {
    "id": "s8MkNRM25Ypy"
   },
   "source": [
    "# **Gestion des bug**\n",
    "\n",
    "\n",
    "\n"
   ]
  },
  {
   "cell_type": "markdown",
   "metadata": {
    "id": "_9C1nUnv8vGB"
   },
   "source": [
    "**Les classes exception**\n",
    "Lors de l'écriture de code Python, vous ferez fréquemment des erreurs, qui vous serons «gentiment» rappelées par l'interpréteur Python à l'exécution du code.\n",
    "En Python, les erreurs détectées durant l’exécution d’un script sont appelées des exceptions car elles correspondent à un état “exceptionnel” du script.\n",
    "\n",
    "<a href=\"https://docs.python.org/fr/3/tutorial/errors.html\" target=\"_blank\"> Consulter les Erreurs les plus courantes en Python</a>.\n",
    "\n",
    "Si vous essayez de déclencher des erreurs manuellement, vous pouvez constater que Python analyse le type d’erreur et renvoie un message différent selon l’erreur détectée\n",
    "\n",
    "\n"
   ]
  },
  {
   "cell_type": "code",
   "execution_count": 46,
   "metadata": {
    "id": "rvQFPE7drqEF",
    "outputId": "fc7cd69b-e7de-4e8a-9041-4ad03091423d",
    "ExecuteTime": {
     "start_time": "2023-10-11T14:55:52.808034383Z"
    }
   },
   "outputs": [
    {
     "ename": "NameError",
     "evalue": "name 'test' is not defined",
     "output_type": "error",
     "traceback": [
      "\u001B[0;31m---------------------------------------------------------------------------\u001B[0m",
      "\u001B[0;31mNameError\u001B[0m                                 Traceback (most recent call last)",
      "Cell \u001B[0;32mIn[46], line 1\u001B[0m\n\u001B[0;32m----> 1\u001B[0m \u001B[43mtest\u001B[49m\n",
      "\u001B[0;31mNameError\u001B[0m: name 'test' is not defined"
     ]
    }
   ],
   "source": [
    "test"
   ]
  },
  {
   "cell_type": "code",
   "execution_count": null,
   "metadata": {
    "id": "HtQdmaBxrqEF",
    "outputId": "209c20c8-23c7-4dbd-d341-51958967a975",
    "ExecuteTime": {
     "start_time": "2023-10-11T14:55:52.824545934Z"
    }
   },
   "outputs": [],
   "source": [
    "10/0"
   ]
  },
  {
   "cell_type": "code",
   "execution_count": null,
   "metadata": {
    "id": "3OjWwPo0rqEG",
    "outputId": "e62b2264-66b7-47cb-edb3-65c9c4805e47",
    "ExecuteTime": {
     "start_time": "2023-10-11T14:55:52.824996918Z"
    }
   },
   "outputs": [],
   "source": [
    "dix/10"
   ]
  },
  {
   "cell_type": "markdown",
   "metadata": {
    "id": "zojVaZpgrqEG"
   },
   "source": [
    "\n",
    "\n",
    "**Les classes natives Python de type Exception:**\n",
    "\n",
    "On peut citer trois types d’exceptions différentes : une exception NameError, une exception ZeroDivisionError et une exception TypeError. Comment fait Python pour analyser les types d’erreurs et renvoyer des messages différents en fonction ?\n",
    "\n",
    "En fait, vous devez savoir que Python possède de nombreuses classes d’exceptions natives et que toute exception est une instance (un objet) créé à partir d’une classe exception.\n",
    "\n",
    "Afin de bien comprendre la hiérarchie des classes d’exceptions, vous pouvez retenir que la classe d’exception de base pour les exceptions natives est BaseException. Toutes les autres classes d’exception vont dériver de cette classe. Ensuite, nous avons également quatre autres classes d’exception de base (qui dérivent de BaseException) :\n",
    "\n",
    "* La classe Exception est la classe de base pour toutes les exceptions natives\n",
    "qui n’entraînent pas une sortie du système et pour toutes les exceptions définies par l’utilisateur (nous sommes l’utilisateur dans ce cas) ;\n",
    "\n",
    "\n",
    "\n",
    "\n",
    "* La classe ArithmeticError est la classe de base pour les exceptions natives qui sont levées pour diverses erreurs arithmétiques et notamment pour les classes OverflowError, ZeroDivisionError et FloatingPointError ;\n",
    "* La classe BufferError est la classe de base pour les exceptions levées lorsqu’une opération liée à un tampon (“buffer”) ne peut pas être exécutée ;\n",
    "* La classe LookupError est la classe de base pour les exceptions qui sont levées lorsqu’une clé ou un index utilisé sur un tableau de correspondances ou une séquence est invalide.\n",
    "\n",
    "De nombreuses classes dérivent ensuite de ces classes de base. En fonction de l’erreur rencontrée par l’analyseur Python, un objet exception appartenant à telle ou telle classe exception va être crée et renvoyé. C’est cet objet là que nous allons pouvoir intercepter et manipuler.\n",
    "\n",
    "Pour la liste complète des classes d’exception, vous pouvez consulter la  <a href=\"https://docs.python.org/fr/3/library/exceptions.html\" target=\"_blank\">documentation Python</a>."
   ]
  },
  {
   "cell_type": "markdown",
   "metadata": {
    "id": "rWuKLyGp9vAD"
   },
   "source": [
    "**L’instruction try… except**\n",
    "\n",
    "\n",
    "Les clauses try et except fonctionnent ensemble. Elles permettent de tester (try) un code qui peut potentiellement poser problème et de définir les actions à prendre si une exception est effectivement rencontrée (except).\n",
    "Le code suivant déclenche une  erreur si l'utilisateur répond \"seize ans\", vous obtenez le message d'erreur ci dessus."
   ]
  },
  {
   "cell_type": "code",
   "execution_count": 66,
   "metadata": {
    "id": "sUU5cfUu-O7g",
    "ExecuteTime": {
     "end_time": "2023-10-11T15:10:32.838651571Z",
     "start_time": "2023-10-11T15:10:28.679080946Z"
    }
   },
   "outputs": [
    {
     "ename": "ValueError",
     "evalue": "invalid literal for int() with base 10: 'seize ans'",
     "output_type": "error",
     "traceback": [
      "\u001B[0;31m---------------------------------------------------------------------------\u001B[0m",
      "\u001B[0;31mValueError\u001B[0m                                Traceback (most recent call last)",
      "Cell \u001B[0;32mIn[66], line 1\u001B[0m\n\u001B[0;32m----> 1\u001B[0m age \u001B[38;5;241m=\u001B[39m \u001B[38;5;28;43mint\u001B[39;49m\u001B[43m(\u001B[49m\u001B[38;5;28;43minput\u001B[39;49m\u001B[43m(\u001B[49m\u001B[38;5;124;43m\"\u001B[39;49m\u001B[38;5;124;43mQuel âge avez-vous? \u001B[39;49m\u001B[38;5;124;43m\"\u001B[39;49m\u001B[43m)\u001B[49m\u001B[43m)\u001B[49m\n\u001B[1;32m      2\u001B[0m \u001B[38;5;28;01mif\u001B[39;00m age \u001B[38;5;241m>\u001B[39m\u001B[38;5;241m=\u001B[39m \u001B[38;5;241m13\u001B[39m:\n\u001B[1;32m      3\u001B[0m     \u001B[38;5;28mprint\u001B[39m(\u001B[38;5;124m\"\u001B[39m\u001B[38;5;124mVous pouvez vous inscrire\u001B[39m\u001B[38;5;124m\"\u001B[39m)\n",
      "\u001B[0;31mValueError\u001B[0m: invalid literal for int() with base 10: 'seize ans'"
     ]
    }
   ],
   "source": [
    "age = int(input(\"Quel âge avez-vous? \"))\n",
    "if age >= 13:\n",
    "    print(\"Vous pouvez vous inscrire\")\n",
    "else:\n",
    "    print(\"Les réseaux sociaux sont interdits aux moins de 13 ans.\")"
   ]
  },
  {
   "cell_type": "markdown",
   "metadata": {
    "id": "Wxg9-Fmx-j3e"
   },
   "source": [
    "Si l'utilisateur répond \"seize ans\", vous obtenez le message d'erreur ci dessus."
   ]
  },
  {
   "cell_type": "markdown",
   "metadata": {
    "id": "_CcfTgP1_hOj"
   },
   "source": [
    "Un while avec **try..except..** peut permettre de reposer la question en cas de besoin."
   ]
  },
  {
   "cell_type": "code",
   "execution_count": 68,
   "metadata": {
    "colab": {
     "background_save": true,
     "base_uri": "https://localhost:8080/"
    },
    "id": "FahGjC3S_Mbi",
    "outputId": "aa81b91a-00c9-4de1-9353-c6346550c716",
    "ExecuteTime": {
     "end_time": "2023-10-11T15:11:08.318898694Z",
     "start_time": "2023-10-11T15:10:53.469552634Z"
    }
   },
   "outputs": [
    {
     "name": "stdout",
     "output_type": "stream",
     "text": [
      "Veuillez entrer votre âge sous forme de chiffres\n",
      "Les réseaux sociaux sont interdits aux moins de 13 ans.\n"
     ]
    }
   ],
   "source": [
    "\n",
    "age = None\n",
    "\n",
    "while not age:\n",
    "\n",
    "    try:\n",
    "\n",
    "        age = int(input(\"Quel âge avez-vous? \"))\n",
    "\n",
    "    except ValueError:\n",
    "\n",
    "        print(\"Veuillez entrer votre âge sous forme de chiffres\")\n",
    "\n",
    "\n",
    "# on est sur d'avoir un age entier ici\n",
    "\n",
    "if age >= 13:\n",
    "\n",
    "    print(\"Vous pouvez vous inscrire\")\n",
    "\n",
    "else:\n",
    "\n",
    "    print(\"Les réseaux sociaux sont interdits aux moins de 13 ans.\")"
   ]
  },
  {
   "cell_type": "markdown",
   "metadata": {
    "id": "rpBMlVI4rqEM"
   },
   "source": [
    "Pour la suite des clauses voir <a href=\" : https://docs.python.org/fr/3.5/tutorial/errors.html \" target=\"_blank\">cette documentation Python</a>."
   ]
  },
  {
   "cell_type": "markdown",
   "metadata": {
    "id": "51W0lvcorqEM"
   },
   "source": [
    "**La clause else**\n",
    "\n",
    "Il est également possible d'ajouter une clause else en fin d’instruction try… except. Le code contenu dans cette clause sera exécuté dans le cas où aucune exception n’a été levée par la clause try.\n",
    "\n",
    "Il est considéré comme une bonne pratique de placer le code “non problématique” dans la clause else plutôt que dans la clause try."
   ]
  },
  {
   "cell_type": "markdown",
   "metadata": {
    "id": "1Z9i77iprqEM"
   },
   "source": [
    "**La clause finally**\n",
    "\n",
    "La dernière clause à connaitre est la clause finally. Le code qu’elle contient sera exécuté dans tous les cas, qu’une exception ait été levée par la clause try ou pas.\n",
    "\n",
    "Cette clause va s’avérer très utile lorsqu’on voudra terminer certaines opérations (fermer un fichier par exemple) quel que soit l’état du script."
   ]
  },
  {
   "cell_type": "markdown",
   "metadata": {
    "id": "zZAn-LY4rqEM"
   },
   "source": [
    "**Définir nos propres classes d’exception**\n",
    "\n",
    "\n",
    "Pour finir, vous devez savoir que Python nous laisse la possibilité de créer nos propres classes d’exception.\n",
    "\n",
    "Pour cela, nous allons toujours créer des classes à partir de la classe de base Exception.\n",
    "\n",
    "Définition d'une classe d'exceptions personnalisée en Python\n",
    "\n",
    "Définir nos propres exceptions va s’avérer être une fonctionnalité très utile notamment dans le cas où on souhaite distribuer un module Python et que certaines de nos fonctions peuvent déclencher des exceptions non prises en charge par les classes d’exception standard Python."
   ]
  },
  {
   "cell_type": "markdown",
   "metadata": {
    "id": "Y30kAZ2dtUhs"
   },
   "source": [
    "# Conclusion\n",
    "Nous avons vu :\n",
    "- comment *documenter* une fonction en spécifiant son comportement de manière concise et précise dans sa docstring. Cette pratique permet aux autres utilisateurs de comprendre le rôle de la fonction et son domaine d'utilisation (préconditions sur les paramètres) ;\n",
    "- que la construction `assert` était un bon moyen d'effectuer une série de *tests* pour se convaincre que notre programme est correct et, éventuellement, de mettre en évidence des erreurs ;\n",
    "- qu'il est possible de rechercher les erreurs en *affichant les valeurs* de certaines variables à des endroits stratégiques ou, de manière plus professionnelle, utiliser des *debogueurs* ;\n",
    "- qu'il n'y a pas de méthode systématique pour s'assurer qu'on a pensé à tous les tests importants : il faut donc être particulièrement vigilant pour élaborer un _jeu de tests de qualité_ ;\n",
    "- en particulier, le succès d’un jeu de tests ne garantit pas qu'un programme est correct ;\n",
    "- qu'il existe une syntaxe permettant d'inclure les tests dans la chaîne de documentation et un outil (comme le module `doctest`) permettant de les extraire et de les vérifier automatiquement.\n",
    "- Les classes qui hérite de la classe Exception de Python\n",
    "- Comment lever des exception avec try ..execpt.\n",
    "\n",
    "**Pour aller plus loin**\n",
    "\n",
    "- Il existe bien d'autres outils de documentation (pydoc, Sphinx) et de test (pytest, unittest), pour des usages plus complexes.\n",
    "\n",
    "- Il est possible, de manière optionnelle, d'indiquer dans l'en-tête d'une fonction le type de certains paramètres et / ou du résultat. Cela peut être utile par exemple pour alléger la chaîne de documentation. Il existe aussi des outils externes qui permettent de vérifier que ces annotations de types sont vérifiées."
   ]
  },
  {
   "cell_type": "markdown",
   "metadata": {
    "id": "LQTHxiwEtUht"
   },
   "source": [
    "---\n",
    "\n",
    "**Références :**\n",
    "- Documents ressources du DIU EIL, Université de Nantes, C. DECLERCQ.\n",
    "- Numérique et Sciences Informatiques, 1re, T. BALABONSKI, S. CONCHON, J.-C. FILLIATRE, K. NGUYEN, éditions ELLIPSES : [Site du livre](https://www.nsi-premiere.fr/)\n",
    "- Ressource Eduscol : [Mise au point de programmes testés](https://cache.media.eduscol.education.fr/file/NSI/77/3/RA_Lycee_G_NSI_lang_tests_1170773.pdf)\n",
    "- Germain BECKER & Sébastien POINT, Lycée Mounier, ANGERS"
   ]
  },
  {
   "cell_type": "markdown",
   "metadata": {
    "id": "iEslG45j4Lrx"
   },
   "source": [
    "| <span style='color:Blue'> L.H & E.S |  | |   | |     |<span style='color:Blue'> NSI Terminale | |   | ||<span style='color:Blue'> Lycée Ozanam (Lille)|\n",
    "| --- | --- |--- |--- |--- |--- | --- | --- |--- |--- | --- | --- |"
   ]
  },
  {
   "cell_type": "code",
   "execution_count": null,
   "outputs": [],
   "source": [],
   "metadata": {
    "collapsed": false
   }
  }
 ],
 "metadata": {
  "colab": {
   "provenance": []
  },
  "kernelspec": {
   "display_name": "Python 3",
   "language": "python",
   "name": "python3"
  },
  "language_info": {
   "codemirror_mode": {
    "name": "ipython",
    "version": 3
   },
   "file_extension": ".py",
   "mimetype": "text/x-python",
   "name": "python",
   "nbconvert_exporter": "python",
   "pygments_lexer": "ipython3",
   "version": "3.11.5"
  }
 },
 "nbformat": 4,
 "nbformat_minor": 0
}
