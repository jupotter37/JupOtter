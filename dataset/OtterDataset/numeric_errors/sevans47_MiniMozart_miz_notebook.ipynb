{
 "cells": [
  {
   "cell_type": "markdown",
   "id": "42a55bbd",
   "metadata": {
    "heading_collapsed": true
   },
   "source": [
    "# one"
   ]
  },
  {
   "cell_type": "code",
   "execution_count": null,
   "id": "248c6630",
   "metadata": {
    "hidden": true
   },
   "outputs": [],
   "source": [
    "from music21 import converter, environment"
   ]
  },
  {
   "cell_type": "code",
   "execution_count": null,
   "id": "357e8b10",
   "metadata": {
    "hidden": true
   },
   "outputs": [],
   "source": [
    "us = environment.UserSettings()\n",
    "print(us['musescoreDirectPNGPath'])"
   ]
  },
  {
   "cell_type": "code",
   "execution_count": null,
   "id": "d49968a6",
   "metadata": {
    "hidden": true
   },
   "outputs": [],
   "source": [
    "us['midiPath']"
   ]
  },
  {
   "cell_type": "code",
   "execution_count": null,
   "id": "05344f19",
   "metadata": {
    "hidden": true
   },
   "outputs": [],
   "source": [
    "s = converter.parse('tinyNotation: 4/8 C4_hi D-4 E#4 F8 trip{G4 A4 B4} c4')\n",
    "s.show('midi')"
   ]
  },
  {
   "cell_type": "code",
   "execution_count": null,
   "id": "c5520a61",
   "metadata": {
    "hidden": true
   },
   "outputs": [],
   "source": [
    "us.getSettingsPath()"
   ]
  },
  {
   "cell_type": "code",
   "execution_count": null,
   "id": "cae8b073",
   "metadata": {
    "hidden": true
   },
   "outputs": [],
   "source": [
    "type(s.show('midi'))"
   ]
  },
  {
   "cell_type": "code",
   "execution_count": null,
   "id": "582046a8",
   "metadata": {
    "hidden": true
   },
   "outputs": [],
   "source": [
    "s = '[[73, 16],[74, 16],[75, 8],[0, 8],[78, 4]]'"
   ]
  },
  {
   "cell_type": "code",
   "execution_count": null,
   "id": "baeccac7",
   "metadata": {
    "hidden": true
   },
   "outputs": [],
   "source": [
    "import ast"
   ]
  },
  {
   "cell_type": "code",
   "execution_count": null,
   "id": "0e9f0ec4",
   "metadata": {
    "hidden": true
   },
   "outputs": [],
   "source": [
    "res = ast.literal_eval(s)"
   ]
  },
  {
   "cell_type": "code",
   "execution_count": null,
   "id": "449784a6",
   "metadata": {
    "hidden": true
   },
   "outputs": [],
   "source": [
    "res[0][0]"
   ]
  },
  {
   "cell_type": "markdown",
   "id": "18389d5f",
   "metadata": {
    "heading_collapsed": true
   },
   "source": [
    "# Two"
   ]
  },
  {
   "cell_type": "code",
   "execution_count": null,
   "id": "96ec9200",
   "metadata": {
    "hidden": true
   },
   "outputs": [],
   "source": [
    "# return predictions from sample\n",
    "sample = X_norm[0].reshape(1, length, 2)\n",
    "pitch_pred, duration_pred = model.predict(sample)\n",
    "\n",
    "# get log of predictions\n",
    "pitch_pred = np.log(pitch_pred[0]) / 1.0  # diversity?\n",
    "duration_pred = np.log(duration_pred[0])\n",
    "\n",
    "# un-log predictions (not sure why we logged them...)\n",
    "exp_pitch_preds = np.exp(pitch_pred)\n",
    "exp_duration_preds = np.exp(duration_pred)\n",
    "\n",
    "# make odds of all predictions = 1.0\n",
    "pitch_pred = exp_pitch_preds / np.sum(exp_pitch_preds)\n",
    "duration_pred = exp_duration_preds / np.sum(exp_duration_preds)\n",
    "\n",
    "# get top 3 pitch predictions and top 2 duration predictions\n",
    "pitch_index_top_3 = np.argpartition(pitch_pred, -3)[-3:]\n",
    "dur_index_top_2 = np.argpartition(duration_pred, -2)[-2:]\n",
    "\n",
    "# return three notes as [pitch, duration] pairs\n",
    "three_notes = [[pitch, np.random.choice(dur_index_top_2)] for pitch in pitch_index_top_3]\n",
    "three_notes_mapped = [[pitch_reverse_mapping[pitch], reverse_len_in_64th_notes[duration_reverse_mapping[duration]]] for pitch, duration in three_notes]\n",
    "\n",
    "three_notes_mapped"
   ]
  },
  {
   "cell_type": "markdown",
   "id": "5f94827f",
   "metadata": {
    "heading_collapsed": true
   },
   "source": [
    "# Midi to dataframe\n",
    "\n",
    "tons of midi files\n",
    "https://www.kunstderfuge.com/mozart.htm"
   ]
  },
  {
   "cell_type": "code",
   "execution_count": null,
   "id": "db3be216",
   "metadata": {
    "hidden": true
   },
   "outputs": [],
   "source": [
    "import music21\n",
    "\n",
    "music21.corpus.getComposer('mozart')"
   ]
  },
  {
   "cell_type": "code",
   "execution_count": null,
   "id": "2bae3742",
   "metadata": {
    "hidden": true
   },
   "outputs": [],
   "source": [
    "k155_m1 = open('/Users/mizukinakano/.pyenv/versions/3.8.12/envs/CoolMelodyProject/lib/python3.8/site-packages/music21/corpus/mozart/k155/movement1.mxl')"
   ]
  },
  {
   "cell_type": "code",
   "execution_count": null,
   "id": "e1ca4f5b",
   "metadata": {
    "hidden": true
   },
   "outputs": [],
   "source": [
    "k155_m1"
   ]
  },
  {
   "cell_type": "code",
   "execution_count": null,
   "id": "5231e690",
   "metadata": {
    "hidden": true
   },
   "outputs": [],
   "source": [
    "!pip install git+https://github.com/vishnubob/python-midi.git@feature/python3\n",
    "\n",
    "pip install git+https://github.com/TaylorPeer/midi-to-dataframe"
   ]
  },
  {
   "cell_type": "code",
   "execution_count": 1,
   "id": "413e4eaf",
   "metadata": {
    "hidden": true
   },
   "outputs": [],
   "source": [
    "from midi_to_dataframe import NoteMapper, MidiReader, MidiWriter"
   ]
  },
  {
   "cell_type": "code",
   "execution_count": 2,
   "id": "9d720a90",
   "metadata": {
    "hidden": true
   },
   "outputs": [
    {
     "name": "stdout",
     "output_type": "stream",
     "text": [
      "/Users/mizukinakano/code/sevans47/CoolMelodyProject/notebooks\r\n"
     ]
    }
   ],
   "source": [
    "!pwd"
   ]
  },
  {
   "cell_type": "code",
   "execution_count": 9,
   "id": "f48659b6",
   "metadata": {
    "hidden": true
   },
   "outputs": [],
   "source": [
    "note_mapping_config_path = \"/Users/mizukinakano/code/sevans47/json/config/map-to-group.json\"\n",
    "note_mapper = NoteMapper(note_mapping_config_path)"
   ]
  },
  {
   "cell_type": "code",
   "execution_count": 14,
   "id": "33cb8009",
   "metadata": {
    "hidden": true
   },
   "outputs": [],
   "source": [
    "path = '/Users/mizukinakano/code/sevans47/piano_sonata_310_1_(c)oguri.midi'"
   ]
  },
  {
   "cell_type": "code",
   "execution_count": 15,
   "id": "a1b91b8b",
   "metadata": {
    "hidden": true
   },
   "outputs": [],
   "source": [
    "midi_file = path\n",
    "reader = MidiReader(note_mapper)\n",
    "df = reader.convert_to_dataframe(midi_file)"
   ]
  },
  {
   "cell_type": "code",
   "execution_count": 21,
   "id": "c2006b58",
   "metadata": {
    "hidden": true
   },
   "outputs": [
    {
     "data": {
      "text/html": [
       "<div>\n",
       "<style scoped>\n",
       "    .dataframe tbody tr th:only-of-type {\n",
       "        vertical-align: middle;\n",
       "    }\n",
       "\n",
       "    .dataframe tbody tr th {\n",
       "        vertical-align: top;\n",
       "    }\n",
       "\n",
       "    .dataframe thead th {\n",
       "        text-align: right;\n",
       "    }\n",
       "</style>\n",
       "<table border=\"1\" class=\"dataframe\">\n",
       "  <thead>\n",
       "    <tr style=\"text-align: right;\">\n",
       "      <th></th>\n",
       "      <th>timestamp</th>\n",
       "      <th>bpm</th>\n",
       "      <th>time_signature</th>\n",
       "      <th>measure</th>\n",
       "      <th>beat</th>\n",
       "      <th>notes</th>\n",
       "    </tr>\n",
       "  </thead>\n",
       "  <tbody>\n",
       "    <tr>\n",
       "      <th>22</th>\n",
       "      <td>1320</td>\n",
       "      <td>122.000069</td>\n",
       "      <td>4/4</td>\n",
       "      <td>2</td>\n",
       "      <td>2.50</td>\n",
       "      <td>piano_d#6_0.25,piano_e5_0.25,piano_c5_0.25,pia...</td>\n",
       "    </tr>\n",
       "    <tr>\n",
       "      <th>24</th>\n",
       "      <td>1440</td>\n",
       "      <td>122.000069</td>\n",
       "      <td>4/4</td>\n",
       "      <td>2</td>\n",
       "      <td>3.00</td>\n",
       "      <td>piano_e5_0.25,piano_a4_0.25,piano_c5_0.25</td>\n",
       "    </tr>\n",
       "    <tr>\n",
       "      <th>26</th>\n",
       "      <td>1560</td>\n",
       "      <td>122.000069</td>\n",
       "      <td>4/4</td>\n",
       "      <td>2</td>\n",
       "      <td>3.50</td>\n",
       "      <td>piano_e5_0.25,piano_e6_0.25,piano_a4_0.25,pian...</td>\n",
       "    </tr>\n",
       "    <tr>\n",
       "      <th>28</th>\n",
       "      <td>1680</td>\n",
       "      <td>122.000069</td>\n",
       "      <td>4/4</td>\n",
       "      <td>2</td>\n",
       "      <td>4.00</td>\n",
       "      <td>piano_e5_0.25,piano_a4_0.25,piano_c5_0.25</td>\n",
       "    </tr>\n",
       "    <tr>\n",
       "      <th>29</th>\n",
       "      <td>1740</td>\n",
       "      <td>122.000069</td>\n",
       "      <td>4/4</td>\n",
       "      <td>2</td>\n",
       "      <td>4.25</td>\n",
       "      <td>piano_e6_0.25</td>\n",
       "    </tr>\n",
       "    <tr>\n",
       "      <th>...</th>\n",
       "      <td>...</td>\n",
       "      <td>...</td>\n",
       "      <td>...</td>\n",
       "      <td>...</td>\n",
       "      <td>...</td>\n",
       "      <td>...</td>\n",
       "    </tr>\n",
       "    <tr>\n",
       "      <th>1998</th>\n",
       "      <td>119880</td>\n",
       "      <td>122.000069</td>\n",
       "      <td>4/4</td>\n",
       "      <td>125</td>\n",
       "      <td>4.50</td>\n",
       "      <td>piano_c3_0.25,piano_b2_0.5</td>\n",
       "    </tr>\n",
       "    <tr>\n",
       "      <th>1999</th>\n",
       "      <td>119940</td>\n",
       "      <td>122.000069</td>\n",
       "      <td>4/4</td>\n",
       "      <td>125</td>\n",
       "      <td>4.75</td>\n",
       "      <td>piano_b5_0.25,piano_e6_0.25,piano_g#6_0.25</td>\n",
       "    </tr>\n",
       "    <tr>\n",
       "      <th>2000</th>\n",
       "      <td>120000</td>\n",
       "      <td>122.000069</td>\n",
       "      <td>4/4</td>\n",
       "      <td>126</td>\n",
       "      <td>1.00</td>\n",
       "      <td>piano_a2_0.5,piano_c6_0.25,piano_a6_0.25,piano...</td>\n",
       "    </tr>\n",
       "    <tr>\n",
       "      <th>2004</th>\n",
       "      <td>120240</td>\n",
       "      <td>122.000069</td>\n",
       "      <td>4/4</td>\n",
       "      <td>126</td>\n",
       "      <td>2.00</td>\n",
       "      <td>piano_e6_0.25,piano_c6_0.25,piano_a3_0.25,pian...</td>\n",
       "    </tr>\n",
       "    <tr>\n",
       "      <th>2008</th>\n",
       "      <td>120480</td>\n",
       "      <td>122.000069</td>\n",
       "      <td>4/4</td>\n",
       "      <td>126</td>\n",
       "      <td>3.00</td>\n",
       "      <td>piano_e5_0.25,piano_c6_0.25,piano_a5_0.25,pian...</td>\n",
       "    </tr>\n",
       "  </tbody>\n",
       "</table>\n",
       "<p>1712 rows × 6 columns</p>\n",
       "</div>"
      ],
      "text/plain": [
       "      timestamp         bpm time_signature  measure  beat  \\\n",
       "22         1320  122.000069            4/4        2  2.50   \n",
       "24         1440  122.000069            4/4        2  3.00   \n",
       "26         1560  122.000069            4/4        2  3.50   \n",
       "28         1680  122.000069            4/4        2  4.00   \n",
       "29         1740  122.000069            4/4        2  4.25   \n",
       "...         ...         ...            ...      ...   ...   \n",
       "1998     119880  122.000069            4/4      125  4.50   \n",
       "1999     119940  122.000069            4/4      125  4.75   \n",
       "2000     120000  122.000069            4/4      126  1.00   \n",
       "2004     120240  122.000069            4/4      126  2.00   \n",
       "2008     120480  122.000069            4/4      126  3.00   \n",
       "\n",
       "                                                  notes  \n",
       "22    piano_d#6_0.25,piano_e5_0.25,piano_c5_0.25,pia...  \n",
       "24            piano_e5_0.25,piano_a4_0.25,piano_c5_0.25  \n",
       "26    piano_e5_0.25,piano_e6_0.25,piano_a4_0.25,pian...  \n",
       "28            piano_e5_0.25,piano_a4_0.25,piano_c5_0.25  \n",
       "29                                        piano_e6_0.25  \n",
       "...                                                 ...  \n",
       "1998                         piano_c3_0.25,piano_b2_0.5  \n",
       "1999         piano_b5_0.25,piano_e6_0.25,piano_g#6_0.25  \n",
       "2000  piano_a2_0.5,piano_c6_0.25,piano_a6_0.25,piano...  \n",
       "2004  piano_e6_0.25,piano_c6_0.25,piano_a3_0.25,pian...  \n",
       "2008  piano_e5_0.25,piano_c6_0.25,piano_a5_0.25,pian...  \n",
       "\n",
       "[1712 rows x 6 columns]"
      ]
     },
     "execution_count": 21,
     "metadata": {},
     "output_type": "execute_result"
    }
   ],
   "source": [
    "df[df['notes']!='rest']"
   ]
  },
  {
   "cell_type": "code",
   "execution_count": 22,
   "id": "4070f212",
   "metadata": {
    "hidden": true
   },
   "outputs": [
    {
     "data": {
      "text/plain": [
       "2010"
      ]
     },
     "execution_count": 22,
     "metadata": {},
     "output_type": "execute_result"
    }
   ],
   "source": [
    "len(df)"
   ]
  },
  {
   "cell_type": "code",
   "execution_count": 7,
   "id": "ffca6181",
   "metadata": {
    "hidden": true
   },
   "outputs": [],
   "source": [
    "!open /Users/mizukinakano/.pyenv/versions/3.8.12/envs/CoolMelodyProject/lib/python3.8/site-packages/midi_to_dataframe"
   ]
  },
  {
   "cell_type": "code",
   "execution_count": 25,
   "id": "cc3eccd8",
   "metadata": {
    "hidden": true
   },
   "outputs": [],
   "source": [
    "import music21"
   ]
  },
  {
   "cell_type": "code",
   "execution_count": 28,
   "id": "8d0cedb9",
   "metadata": {
    "hidden": true
   },
   "outputs": [
    {
     "data": {
      "text/plain": [
       "PosixPath('/Users/mizukinakano/.pyenv/versions/3.8.12/envs/CoolMelodyProject/lib/python3.8/site-packages/music21/corpus/mozart/k155/movement1.mxl')"
      ]
     },
     "execution_count": 28,
     "metadata": {},
     "output_type": "execute_result"
    }
   ],
   "source": [
    "music21.corpus.getComposer('mozart')[0]"
   ]
  },
  {
   "cell_type": "code",
   "execution_count": null,
   "id": "761e9b36",
   "metadata": {
    "hidden": true
   },
   "outputs": [],
   "source": [
    "k155_m1_xml = pd.read_xml"
   ]
  },
  {
   "cell_type": "markdown",
   "id": "168d4f07",
   "metadata": {
    "heading_collapsed": true
   },
   "source": [
    "# mxl to midi"
   ]
  },
  {
   "cell_type": "code",
   "execution_count": null,
   "id": "3fe4d373",
   "metadata": {
    "hidden": true
   },
   "outputs": [],
   "source": []
  },
  {
   "cell_type": "code",
   "execution_count": 32,
   "id": "e94ac003",
   "metadata": {
    "hidden": true
   },
   "outputs": [],
   "source": [
    "parsed = music21.converter.parse('/Users/mizukinakano/code/sevans47/movement1.mxl')"
   ]
  },
  {
   "cell_type": "code",
   "execution_count": 35,
   "id": "0a7a50da",
   "metadata": {
    "hidden": true
   },
   "outputs": [],
   "source": [
    "midi_file = music21.midi.translate.streamToMidiFile(parsed)"
   ]
  },
  {
   "cell_type": "markdown",
   "id": "8d77d074",
   "metadata": {
    "heading_collapsed": true
   },
   "source": [
    "# More data\n",
    "\n",
    "1. midi data from a website ('https://www.kunstderfuge.com/mozart.htm')\n",
    "2. From music21. movements are in mxl format"
   ]
  },
  {
   "cell_type": "markdown",
   "id": "b7fa7a7e",
   "metadata": {
    "heading_collapsed": true,
    "hidden": true
   },
   "source": [
    "## from music21, movements are in mxl format"
   ]
  },
  {
   "cell_type": "code",
   "execution_count": 54,
   "id": "07ce47e6",
   "metadata": {
    "hidden": true,
    "scrolled": true
   },
   "outputs": [
    {
     "data": {
      "text/plain": [
       "[PosixPath('/Users/mizukinakano/.pyenv/versions/3.8.12/envs/CoolMelodyProject/lib/python3.8/site-packages/music21/corpus/mozart/k155/movement1.mxl'),\n",
       " PosixPath('/Users/mizukinakano/.pyenv/versions/3.8.12/envs/CoolMelodyProject/lib/python3.8/site-packages/music21/corpus/mozart/k155/movement2.mxl'),\n",
       " PosixPath('/Users/mizukinakano/.pyenv/versions/3.8.12/envs/CoolMelodyProject/lib/python3.8/site-packages/music21/corpus/mozart/k155/movement3.mxl'),\n",
       " PosixPath('/Users/mizukinakano/.pyenv/versions/3.8.12/envs/CoolMelodyProject/lib/python3.8/site-packages/music21/corpus/mozart/k156/movement1.mxl'),\n",
       " PosixPath('/Users/mizukinakano/.pyenv/versions/3.8.12/envs/CoolMelodyProject/lib/python3.8/site-packages/music21/corpus/mozart/k156/movement2.mxl'),\n",
       " PosixPath('/Users/mizukinakano/.pyenv/versions/3.8.12/envs/CoolMelodyProject/lib/python3.8/site-packages/music21/corpus/mozart/k156/movement3.mxl'),\n",
       " PosixPath('/Users/mizukinakano/.pyenv/versions/3.8.12/envs/CoolMelodyProject/lib/python3.8/site-packages/music21/corpus/mozart/k156/movement4.mxl'),\n",
       " PosixPath('/Users/mizukinakano/.pyenv/versions/3.8.12/envs/CoolMelodyProject/lib/python3.8/site-packages/music21/corpus/mozart/k458/movement1.mxl'),\n",
       " PosixPath('/Users/mizukinakano/.pyenv/versions/3.8.12/envs/CoolMelodyProject/lib/python3.8/site-packages/music21/corpus/mozart/k458/movement2.mxl'),\n",
       " PosixPath('/Users/mizukinakano/.pyenv/versions/3.8.12/envs/CoolMelodyProject/lib/python3.8/site-packages/music21/corpus/mozart/k458/movement3.mxl'),\n",
       " PosixPath('/Users/mizukinakano/.pyenv/versions/3.8.12/envs/CoolMelodyProject/lib/python3.8/site-packages/music21/corpus/mozart/k458/movement4.mxl'),\n",
       " PosixPath('/Users/mizukinakano/.pyenv/versions/3.8.12/envs/CoolMelodyProject/lib/python3.8/site-packages/music21/corpus/mozart/k545/movement1_exposition.mxl'),\n",
       " PosixPath('/Users/mizukinakano/.pyenv/versions/3.8.12/envs/CoolMelodyProject/lib/python3.8/site-packages/music21/corpus/mozart/k80/movement1.mxl'),\n",
       " PosixPath('/Users/mizukinakano/.pyenv/versions/3.8.12/envs/CoolMelodyProject/lib/python3.8/site-packages/music21/corpus/mozart/k80/movement2.mxl'),\n",
       " PosixPath('/Users/mizukinakano/.pyenv/versions/3.8.12/envs/CoolMelodyProject/lib/python3.8/site-packages/music21/corpus/mozart/k80/movement3.mxl'),\n",
       " PosixPath('/Users/mizukinakano/.pyenv/versions/3.8.12/envs/CoolMelodyProject/lib/python3.8/site-packages/music21/corpus/mozart/k80/movement4.mxl')]"
      ]
     },
     "execution_count": 54,
     "metadata": {},
     "output_type": "execute_result"
    }
   ],
   "source": [
    "import music21\n",
    "\n",
    "music21.corpus.getComposer('mozart') #returns all the path to mozart movements"
   ]
  },
  {
   "cell_type": "code",
   "execution_count": 55,
   "id": "1c69d1c6",
   "metadata": {
    "hidden": true
   },
   "outputs": [],
   "source": [
    "k155_m1 = music21.corpus.getComposer('mozart')[0] #path to the mxl\n",
    "parsed = music21.converter.parse(k155_m1) #parse the mxl\n",
    "midi_file = music21.midi.translate.streamToMidiFile(parsed) #convert the parsed mxl to midi"
   ]
  },
  {
   "cell_type": "markdown",
   "id": "3ddbe9a4",
   "metadata": {
    "heading_collapsed": true,
    "hidden": true
   },
   "source": [
    "##  midi to df"
   ]
  },
  {
   "cell_type": "code",
   "execution_count": null,
   "id": "be86c401",
   "metadata": {
    "hidden": true
   },
   "outputs": [],
   "source": [
    "#installing midi to dataframe module\n",
    "# !pip install git+https://github.com/vishnubob/python-midi.git@feature/python3\n",
    "# !pip install git+https://github.com/TaylorPeer/midi-to-dataframe"
   ]
  },
  {
   "cell_type": "code",
   "execution_count": null,
   "id": "4bb8b164",
   "metadata": {
    "hidden": true
   },
   "outputs": [],
   "source": [
    "from midi_to_dataframe import NoteMapper, MidiReader, MidiWriter"
   ]
  },
  {
   "cell_type": "code",
   "execution_count": null,
   "id": "e3f03db8",
   "metadata": {
    "hidden": true
   },
   "outputs": [],
   "source": [
    "#specify notemapper from directory\n",
    "note_mapping_config_path = \"/Users/mizukinakano/code/sevans47/json/config/map-to-group.json\"\n",
    "note_mapper = NoteMapper(note_mapping_config_path)"
   ]
  },
  {
   "cell_type": "code",
   "execution_count": 45,
   "id": "8e450bd0",
   "metadata": {
    "collapsed": true,
    "hidden": true
   },
   "outputs": [
    {
     "ename": "TypeError",
     "evalue": "can only concatenate str (not \"MidiFile\") to str",
     "output_type": "error",
     "traceback": [
      "\u001b[0;31m---------------------------------------------------------------------------\u001b[0m",
      "\u001b[0;31mTypeError\u001b[0m                                 Traceback (most recent call last)",
      "File \u001b[0;32m~/.pyenv/versions/3.8.12/envs/CoolMelodyProject/lib/python3.8/site-packages/midi_to_dataframe/midi_reader.py:102\u001b[0m, in \u001b[0;36mMidiReader.convert_to_dataframe\u001b[0;34m(self, path)\u001b[0m\n\u001b[1;32m    101\u001b[0m \u001b[38;5;28;01mtry\u001b[39;00m:\n\u001b[0;32m--> 102\u001b[0m     pattern \u001b[38;5;241m=\u001b[39m \u001b[43mmidi\u001b[49m\u001b[38;5;241;43m.\u001b[39;49m\u001b[43mread_midifile\u001b[49m\u001b[43m(\u001b[49m\u001b[43mpath\u001b[49m\u001b[43m)\u001b[49m\n\u001b[1;32m    103\u001b[0m \u001b[38;5;28;01mexcept\u001b[39;00m (\u001b[38;5;167;01mTypeError\u001b[39;00m, \u001b[38;5;167;01mRuntimeWarning\u001b[39;00m):\n",
      "File \u001b[0;32m~/.pyenv/versions/3.8.12/envs/CoolMelodyProject/lib/python3.8/site-packages/midi/fileio.py:178\u001b[0m, in \u001b[0;36mread_midifile\u001b[0;34m(midifile)\u001b[0m\n\u001b[1;32m    177\u001b[0m reader \u001b[38;5;241m=\u001b[39m FileReader()\n\u001b[0;32m--> 178\u001b[0m \u001b[38;5;28;01mreturn\u001b[39;00m \u001b[43mreader\u001b[49m\u001b[38;5;241;43m.\u001b[39;49m\u001b[43mread\u001b[49m\u001b[43m(\u001b[49m\u001b[43mmidifile\u001b[49m\u001b[43m)\u001b[49m\n",
      "File \u001b[0;32m~/.pyenv/versions/3.8.12/envs/CoolMelodyProject/lib/python3.8/site-packages/midi/fileio.py:9\u001b[0m, in \u001b[0;36mFileReader.read\u001b[0;34m(self, midifile)\u001b[0m\n\u001b[1;32m      8\u001b[0m \u001b[38;5;28;01mdef\u001b[39;00m \u001b[38;5;21mread\u001b[39m(\u001b[38;5;28mself\u001b[39m, midifile):\n\u001b[0;32m----> 9\u001b[0m     pattern \u001b[38;5;241m=\u001b[39m \u001b[38;5;28;43mself\u001b[39;49m\u001b[38;5;241;43m.\u001b[39;49m\u001b[43mparse_file_header\u001b[49m\u001b[43m(\u001b[49m\u001b[43mmidifile\u001b[49m\u001b[43m)\u001b[49m\n\u001b[1;32m     10\u001b[0m     \u001b[38;5;28;01mfor\u001b[39;00m track \u001b[38;5;129;01min\u001b[39;00m pattern:\n",
      "File \u001b[0;32m~/.pyenv/versions/3.8.12/envs/CoolMelodyProject/lib/python3.8/site-packages/midi/fileio.py:16\u001b[0m, in \u001b[0;36mFileReader.parse_file_header\u001b[0;34m(self, midifile)\u001b[0m\n\u001b[1;32m     14\u001b[0m \u001b[38;5;28;01mdef\u001b[39;00m \u001b[38;5;21mparse_file_header\u001b[39m(\u001b[38;5;28mself\u001b[39m, midifile):\n\u001b[1;32m     15\u001b[0m     \u001b[38;5;66;03m# First four bytes are MIDI header\u001b[39;00m\n\u001b[0;32m---> 16\u001b[0m     magic \u001b[38;5;241m=\u001b[39m \u001b[43mmidifile\u001b[49m\u001b[38;5;241;43m.\u001b[39;49m\u001b[43mread\u001b[49m\u001b[43m(\u001b[49m\u001b[38;5;241;43m4\u001b[39;49m\u001b[43m)\u001b[49m\n\u001b[1;32m     17\u001b[0m     \u001b[38;5;28;01mif\u001b[39;00m magic \u001b[38;5;241m!=\u001b[39m \u001b[38;5;124mb\u001b[39m\u001b[38;5;124m'\u001b[39m\u001b[38;5;124mMThd\u001b[39m\u001b[38;5;124m'\u001b[39m:\n",
      "\u001b[0;31mTypeError\u001b[0m: read() takes 1 positional argument but 2 were given",
      "\nDuring handling of the above exception, another exception occurred:\n",
      "\u001b[0;31mTypeError\u001b[0m                                 Traceback (most recent call last)",
      "Input \u001b[0;32mIn [45]\u001b[0m, in \u001b[0;36m<cell line: 2>\u001b[0;34m()\u001b[0m\n\u001b[1;32m      1\u001b[0m reader \u001b[38;5;241m=\u001b[39m MidiReader(note_mapper)\n\u001b[0;32m----> 2\u001b[0m df \u001b[38;5;241m=\u001b[39m \u001b[43mreader\u001b[49m\u001b[38;5;241;43m.\u001b[39;49m\u001b[43mconvert_to_dataframe\u001b[49m\u001b[43m(\u001b[49m\u001b[43mmidi_file\u001b[49m\u001b[43m)\u001b[49m\n",
      "File \u001b[0;32m~/.pyenv/versions/3.8.12/envs/CoolMelodyProject/lib/python3.8/site-packages/midi_to_dataframe/midi_reader.py:104\u001b[0m, in \u001b[0;36mMidiReader.convert_to_dataframe\u001b[0;34m(self, path)\u001b[0m\n\u001b[1;32m    102\u001b[0m     pattern \u001b[38;5;241m=\u001b[39m midi\u001b[38;5;241m.\u001b[39mread_midifile(path)\n\u001b[1;32m    103\u001b[0m \u001b[38;5;28;01mexcept\u001b[39;00m (\u001b[38;5;167;01mTypeError\u001b[39;00m, \u001b[38;5;167;01mRuntimeWarning\u001b[39;00m):\n\u001b[0;32m--> 104\u001b[0m     \u001b[38;5;28mself\u001b[39m\u001b[38;5;241m.\u001b[39m_logger\u001b[38;5;241m.\u001b[39merror(\u001b[38;5;124;43m\"\u001b[39;49m\u001b[38;5;124;43mCould not load MIDI file: \u001b[39;49m\u001b[38;5;124;43m\"\u001b[39;49m\u001b[43m \u001b[49m\u001b[38;5;241;43m+\u001b[39;49m\u001b[43m \u001b[49m\u001b[43mpath\u001b[49m)\n\u001b[1;32m    105\u001b[0m     \u001b[38;5;28mself\u001b[39m\u001b[38;5;241m.\u001b[39m_reset_intermediary_variables()\n\u001b[1;32m    106\u001b[0m     \u001b[38;5;28;01mreturn\u001b[39;00m pd\u001b[38;5;241m.\u001b[39mDataFrame()\n",
      "\u001b[0;31mTypeError\u001b[0m: can only concatenate str (not \"MidiFile\") to str"
     ]
    }
   ],
   "source": [
    "reader = MidiReader(note_mapper)\n",
    "df = reader.convert_to_dataframe(midi_file)"
   ]
  },
  {
   "cell_type": "markdown",
   "id": "5a573269",
   "metadata": {
    "heading_collapsed": true,
    "hidden": true
   },
   "source": [
    "##  midi to note"
   ]
  },
  {
   "cell_type": "code",
   "execution_count": 58,
   "id": "c42515bb",
   "metadata": {
    "hidden": true
   },
   "outputs": [
    {
     "name": "stdout",
     "output_type": "stream",
     "text": [
      "\u001b[31mERROR: Could not find a version that satisfies the requirement csvcombiner (from versions: none)\u001b[0m\u001b[31m\r\n",
      "\u001b[0m\u001b[31mERROR: No matching distribution found for csvcombiner\u001b[0m\u001b[31m\r\n",
      "\u001b[0m"
     ]
    }
   ],
   "source": []
  },
  {
   "cell_type": "code",
   "execution_count": 68,
   "id": "11fe7ce7",
   "metadata": {
    "hidden": true
   },
   "outputs": [
    {
     "ename": "ModuleNotFoundError",
     "evalue": "No module named 'csvcombiner'",
     "output_type": "error",
     "traceback": [
      "\u001b[0;31m---------------------------------------------------------------------------\u001b[0m",
      "\u001b[0;31mModuleNotFoundError\u001b[0m                       Traceback (most recent call last)",
      "Input \u001b[0;32mIn [68]\u001b[0m, in \u001b[0;36m<cell line: 1>\u001b[0;34m()\u001b[0m\n\u001b[0;32m----> 1\u001b[0m \u001b[38;5;28;01mimport\u001b[39;00m \u001b[38;5;21;01mCoolMelodyProject\u001b[39;00m\u001b[38;5;21;01m.\u001b[39;00m\u001b[38;5;21;01mcsvcleaner\u001b[39;00m\n",
      "File \u001b[0;32m~/code/sevans47/CoolMelodyProject/CoolMelodyProject/csvcleaner.py:6\u001b[0m, in \u001b[0;36m<module>\u001b[0;34m\u001b[0m\n\u001b[1;32m      3\u001b[0m \u001b[38;5;28;01mimport\u001b[39;00m \u001b[38;5;21;01mpretty_midi\u001b[39;00m\n\u001b[1;32m      4\u001b[0m \u001b[38;5;28;01mimport\u001b[39;00m \u001b[38;5;21;01mcollections\u001b[39;00m\n\u001b[0;32m----> 6\u001b[0m \u001b[38;5;28;01mfrom\u001b[39;00m \u001b[38;5;21;01mcsvcombiner\u001b[39;00m \u001b[38;5;28;01mimport\u001b[39;00m get_movement_filenames\n\u001b[1;32m      9\u001b[0m \u001b[38;5;66;03m### set up dictionaries\u001b[39;00m\n\u001b[1;32m     10\u001b[0m \n\u001b[1;32m     11\u001b[0m \u001b[38;5;66;03m# movement key: # of half steps to add to get to c major / a minor\u001b[39;00m\n\u001b[1;32m     12\u001b[0m maj_key_converter_dict \u001b[38;5;241m=\u001b[39m {\u001b[38;5;124m'\u001b[39m\u001b[38;5;124mgb major\u001b[39m\u001b[38;5;124m'\u001b[39m: \u001b[38;5;241m6\u001b[39m, \u001b[38;5;124m'\u001b[39m\u001b[38;5;124mg major\u001b[39m\u001b[38;5;124m'\u001b[39m: \u001b[38;5;241m5\u001b[39m, \u001b[38;5;124m'\u001b[39m\u001b[38;5;124mab major\u001b[39m\u001b[38;5;124m'\u001b[39m: \u001b[38;5;241m4\u001b[39m, \u001b[38;5;124m'\u001b[39m\u001b[38;5;124ma major\u001b[39m\u001b[38;5;124m'\u001b[39m: \u001b[38;5;241m3\u001b[39m,\n\u001b[1;32m     13\u001b[0m                           \u001b[38;5;124m'\u001b[39m\u001b[38;5;124mbb major\u001b[39m\u001b[38;5;124m'\u001b[39m: \u001b[38;5;241m2\u001b[39m, \u001b[38;5;124m'\u001b[39m\u001b[38;5;124mb major\u001b[39m\u001b[38;5;124m'\u001b[39m: \u001b[38;5;241m1\u001b[39m, \u001b[38;5;124m'\u001b[39m\u001b[38;5;124mc major\u001b[39m\u001b[38;5;124m'\u001b[39m: \u001b[38;5;241m0\u001b[39m, \u001b[38;5;124m'\u001b[39m\u001b[38;5;124mdb major\u001b[39m\u001b[38;5;124m'\u001b[39m: \u001b[38;5;241m-\u001b[39m\u001b[38;5;241m1\u001b[39m,\n\u001b[1;32m     14\u001b[0m                           \u001b[38;5;124m'\u001b[39m\u001b[38;5;124md major\u001b[39m\u001b[38;5;124m'\u001b[39m: \u001b[38;5;241m-\u001b[39m\u001b[38;5;241m2\u001b[39m, \u001b[38;5;124m'\u001b[39m\u001b[38;5;124meb major\u001b[39m\u001b[38;5;124m'\u001b[39m: \u001b[38;5;241m-\u001b[39m\u001b[38;5;241m3\u001b[39m, \u001b[38;5;124m'\u001b[39m\u001b[38;5;124me major\u001b[39m\u001b[38;5;124m'\u001b[39m: \u001b[38;5;241m-\u001b[39m\u001b[38;5;241m4\u001b[39m, \u001b[38;5;124m'\u001b[39m\u001b[38;5;124mf major\u001b[39m\u001b[38;5;124m'\u001b[39m: \u001b[38;5;241m-\u001b[39m\u001b[38;5;241m5\u001b[39m, \u001b[38;5;124m'\u001b[39m\u001b[38;5;124mf# major\u001b[39m\u001b[38;5;124m'\u001b[39m: \u001b[38;5;241m-\u001b[39m\u001b[38;5;241m6\u001b[39m}\n",
      "\u001b[0;31mModuleNotFoundError\u001b[0m: No module named 'csvcombiner'"
     ]
    }
   ],
   "source": [
    "import CoolMelodyProject.csvcleaner"
   ]
  },
  {
   "cell_type": "code",
   "execution_count": 66,
   "id": "b8b80ac9",
   "metadata": {
    "hidden": true
   },
   "outputs": [
    {
     "data": {
      "text/plain": [
       "<function posixpath.dirname(p)>"
      ]
     },
     "execution_count": 66,
     "metadata": {},
     "output_type": "execute_result"
    }
   ],
   "source": [
    "CoolMelodyProject.dirname"
   ]
  },
  {
   "cell_type": "code",
   "execution_count": 67,
   "id": "f014b77b",
   "metadata": {
    "collapsed": true,
    "hidden": true
   },
   "outputs": [
    {
     "data": {
      "text/plain": [
       "{'__name__': 'CoolMelodyProject',\n",
       " '__doc__': None,\n",
       " '__package__': 'CoolMelodyProject',\n",
       " '__loader__': <_frozen_importlib_external.SourceFileLoader at 0x121be8bb0>,\n",
       " '__spec__': ModuleSpec(name='CoolMelodyProject', loader=<_frozen_importlib_external.SourceFileLoader object at 0x121be8bb0>, origin='/Users/mizukinakano/code/sevans47/CoolMelodyProject/CoolMelodyProject/__init__.py', submodule_search_locations=['/Users/mizukinakano/code/sevans47/CoolMelodyProject/CoolMelodyProject']),\n",
       " '__path__': ['/Users/mizukinakano/code/sevans47/CoolMelodyProject/CoolMelodyProject'],\n",
       " '__file__': '/Users/mizukinakano/code/sevans47/CoolMelodyProject/CoolMelodyProject/__init__.py',\n",
       " '__cached__': '/Users/mizukinakano/code/sevans47/CoolMelodyProject/CoolMelodyProject/__pycache__/__init__.cpython-38.pyc',\n",
       " '__builtins__': {'__name__': 'builtins',\n",
       "  '__doc__': \"Built-in functions, exceptions, and other objects.\\n\\nNoteworthy: None is the `nil' object; Ellipsis represents `...' in slices.\",\n",
       "  '__package__': '',\n",
       "  '__loader__': _frozen_importlib.BuiltinImporter,\n",
       "  '__spec__': ModuleSpec(name='builtins', loader=<class '_frozen_importlib.BuiltinImporter'>),\n",
       "  '__build_class__': <function __build_class__>,\n",
       "  '__import__': <function __import__>,\n",
       "  'abs': <function abs(x, /)>,\n",
       "  'all': <function all(iterable, /)>,\n",
       "  'any': <function any(iterable, /)>,\n",
       "  'ascii': <function ascii(obj, /)>,\n",
       "  'bin': <function bin(number, /)>,\n",
       "  'breakpoint': <function breakpoint>,\n",
       "  'callable': <function callable(obj, /)>,\n",
       "  'chr': <function chr(i, /)>,\n",
       "  'compile': <function compile(source, filename, mode, flags=0, dont_inherit=False, optimize=-1, *, _feature_version=-1)>,\n",
       "  'delattr': <function delattr(obj, name, /)>,\n",
       "  'dir': <function dir>,\n",
       "  'divmod': <function divmod(x, y, /)>,\n",
       "  'eval': <function eval(source, globals=None, locals=None, /)>,\n",
       "  'exec': <function exec(source, globals=None, locals=None, /)>,\n",
       "  'format': <function format(value, format_spec='', /)>,\n",
       "  'getattr': <function getattr>,\n",
       "  'globals': <function globals()>,\n",
       "  'hasattr': <function hasattr(obj, name, /)>,\n",
       "  'hash': <function hash(obj, /)>,\n",
       "  'hex': <function hex(number, /)>,\n",
       "  'id': <function id(obj, /)>,\n",
       "  'input': <bound method Kernel.raw_input of <ipykernel.ipkernel.IPythonKernel object at 0x10e813490>>,\n",
       "  'isinstance': <function isinstance(obj, class_or_tuple, /)>,\n",
       "  'issubclass': <function issubclass(cls, class_or_tuple, /)>,\n",
       "  'iter': <function iter>,\n",
       "  'len': <function len(obj, /)>,\n",
       "  'locals': <function locals()>,\n",
       "  'max': <function max>,\n",
       "  'min': <function min>,\n",
       "  'next': <function next>,\n",
       "  'oct': <function oct(number, /)>,\n",
       "  'ord': <function ord(c, /)>,\n",
       "  'pow': <function pow(base, exp, mod=None)>,\n",
       "  'print': <function print>,\n",
       "  'repr': <function repr(obj, /)>,\n",
       "  'round': <function round(number, ndigits=None)>,\n",
       "  'setattr': <function setattr(obj, name, value, /)>,\n",
       "  'sorted': <function sorted(iterable, /, *, key=None, reverse=False)>,\n",
       "  'sum': <function sum(iterable, /, start=0)>,\n",
       "  'vars': <function vars>,\n",
       "  'None': None,\n",
       "  'Ellipsis': Ellipsis,\n",
       "  'NotImplemented': NotImplemented,\n",
       "  'False': False,\n",
       "  'True': True,\n",
       "  'bool': bool,\n",
       "  'memoryview': memoryview,\n",
       "  'bytearray': bytearray,\n",
       "  'bytes': bytes,\n",
       "  'classmethod': classmethod,\n",
       "  'complex': complex,\n",
       "  'dict': dict,\n",
       "  'enumerate': enumerate,\n",
       "  'filter': filter,\n",
       "  'float': float,\n",
       "  'frozenset': frozenset,\n",
       "  'property': property,\n",
       "  'int': int,\n",
       "  'list': list,\n",
       "  'map': map,\n",
       "  'object': object,\n",
       "  'range': range,\n",
       "  'reversed': reversed,\n",
       "  'set': set,\n",
       "  'slice': slice,\n",
       "  'staticmethod': staticmethod,\n",
       "  'str': str,\n",
       "  'super': super,\n",
       "  'tuple': tuple,\n",
       "  'type': type,\n",
       "  'zip': zip,\n",
       "  '__debug__': True,\n",
       "  'BaseException': BaseException,\n",
       "  'Exception': Exception,\n",
       "  'TypeError': TypeError,\n",
       "  'StopAsyncIteration': StopAsyncIteration,\n",
       "  'StopIteration': StopIteration,\n",
       "  'GeneratorExit': GeneratorExit,\n",
       "  'SystemExit': SystemExit,\n",
       "  'KeyboardInterrupt': KeyboardInterrupt,\n",
       "  'ImportError': ImportError,\n",
       "  'ModuleNotFoundError': ModuleNotFoundError,\n",
       "  'OSError': OSError,\n",
       "  'EnvironmentError': OSError,\n",
       "  'IOError': OSError,\n",
       "  'EOFError': EOFError,\n",
       "  'RuntimeError': RuntimeError,\n",
       "  'RecursionError': RecursionError,\n",
       "  'NotImplementedError': NotImplementedError,\n",
       "  'NameError': NameError,\n",
       "  'UnboundLocalError': UnboundLocalError,\n",
       "  'AttributeError': AttributeError,\n",
       "  'SyntaxError': SyntaxError,\n",
       "  'IndentationError': IndentationError,\n",
       "  'TabError': TabError,\n",
       "  'LookupError': LookupError,\n",
       "  'IndexError': IndexError,\n",
       "  'KeyError': KeyError,\n",
       "  'ValueError': ValueError,\n",
       "  'UnicodeError': UnicodeError,\n",
       "  'UnicodeEncodeError': UnicodeEncodeError,\n",
       "  'UnicodeDecodeError': UnicodeDecodeError,\n",
       "  'UnicodeTranslateError': UnicodeTranslateError,\n",
       "  'AssertionError': AssertionError,\n",
       "  'ArithmeticError': ArithmeticError,\n",
       "  'FloatingPointError': FloatingPointError,\n",
       "  'OverflowError': OverflowError,\n",
       "  'ZeroDivisionError': ZeroDivisionError,\n",
       "  'SystemError': SystemError,\n",
       "  'ReferenceError': ReferenceError,\n",
       "  'MemoryError': MemoryError,\n",
       "  'BufferError': BufferError,\n",
       "  'Warning': Warning,\n",
       "  'UserWarning': UserWarning,\n",
       "  'DeprecationWarning': DeprecationWarning,\n",
       "  'PendingDeprecationWarning': PendingDeprecationWarning,\n",
       "  'SyntaxWarning': SyntaxWarning,\n",
       "  'RuntimeWarning': RuntimeWarning,\n",
       "  'FutureWarning': FutureWarning,\n",
       "  'ImportWarning': ImportWarning,\n",
       "  'UnicodeWarning': UnicodeWarning,\n",
       "  'BytesWarning': BytesWarning,\n",
       "  'ResourceWarning': ResourceWarning,\n",
       "  'ConnectionError': ConnectionError,\n",
       "  'BlockingIOError': BlockingIOError,\n",
       "  'BrokenPipeError': BrokenPipeError,\n",
       "  'ChildProcessError': ChildProcessError,\n",
       "  'ConnectionAbortedError': ConnectionAbortedError,\n",
       "  'ConnectionRefusedError': ConnectionRefusedError,\n",
       "  'ConnectionResetError': ConnectionResetError,\n",
       "  'FileExistsError': FileExistsError,\n",
       "  'FileNotFoundError': FileNotFoundError,\n",
       "  'IsADirectoryError': IsADirectoryError,\n",
       "  'NotADirectoryError': NotADirectoryError,\n",
       "  'InterruptedError': InterruptedError,\n",
       "  'PermissionError': PermissionError,\n",
       "  'ProcessLookupError': ProcessLookupError,\n",
       "  'TimeoutError': TimeoutError,\n",
       "  'open': <function io.open(file, mode='r', buffering=-1, encoding=None, errors=None, newline=None, closefd=True, opener=None)>,\n",
       "  'copyright': Copyright (c) 2001-2021 Python Software Foundation.\n",
       "  All Rights Reserved.\n",
       "  \n",
       "  Copyright (c) 2000 BeOpen.com.\n",
       "  All Rights Reserved.\n",
       "  \n",
       "  Copyright (c) 1995-2001 Corporation for National Research Initiatives.\n",
       "  All Rights Reserved.\n",
       "  \n",
       "  Copyright (c) 1991-1995 Stichting Mathematisch Centrum, Amsterdam.\n",
       "  All Rights Reserved.,\n",
       "  'credits':     Thanks to CWI, CNRI, BeOpen.com, Zope Corporation and a cast of thousands\n",
       "      for supporting Python development.  See www.python.org for more information.,\n",
       "  'license': Type license() to see the full license text,\n",
       "  'help': Type help() for interactive help, or help(object) for help about object.,\n",
       "  'execfile': <function _pydev_imps._pydev_execfile.execfile(file, glob=None, loc=None)>,\n",
       "  'runfile': <function _pydev_bundle.pydev_umd.runfile(filename, args=None, wdir=None, namespace=None)>,\n",
       "  '__IPYTHON__': True,\n",
       "  'display': <function IPython.core.display_functions.display(*objs, include=None, exclude=None, metadata=None, transient=None, display_id=None, raw=False, clear=False, **kwargs)>,\n",
       "  'get_ipython': <bound method InteractiveShell.get_ipython of <ipykernel.zmqshell.ZMQInteractiveShell object at 0x10e821670>>},\n",
       " 'isfile': <function genericpath.isfile(path)>,\n",
       " 'dirname': <function posixpath.dirname(p)>,\n",
       " 'version_file': '/Users/mizukinakano/code/sevans47/CoolMelodyProject/CoolMelodyProject/version.txt'}"
      ]
     },
     "execution_count": 67,
     "metadata": {},
     "output_type": "execute_result"
    }
   ],
   "source": [
    "CoolMelodyProject."
   ]
  },
  {
   "cell_type": "code",
   "execution_count": 64,
   "id": "22134d29",
   "metadata": {
    "hidden": true
   },
   "outputs": [],
   "source": [
    "import pandas as pd"
   ]
  },
  {
   "cell_type": "code",
   "execution_count": 53,
   "id": "7644a688",
   "metadata": {
    "hidden": true
   },
   "outputs": [],
   "source": [
    "def midi_to_notes(filename: str) -> pd.DataFrame:\n",
    "\n",
    "    \"\"\"from the csv's filename, create a clean dataframe for training\"\"\"\n",
    "\n",
    "    midi = notes_to_midi(filename)\n",
    "\n",
    "    instrument = midi.instruments[0]\n",
    "    notes = collections.defaultdict(list)\n",
    "\n",
    "    # Sort the notes by start time\n",
    "    sorted_notes = sorted(instrument.notes, key=lambda note: note.start)\n",
    "    prev_start = sorted_notes[0].start\n",
    "\n",
    "    for note in sorted_notes:\n",
    "        start = note.start\n",
    "        end = note.end\n",
    "        notes['pitch'].append(note.pitch)\n",
    "        notes['start'].append(start)\n",
    "        notes['end'].append(end)\n",
    "        notes['step'].append(start-prev_start)\n",
    "        notes['duration'].append(end - start)\n",
    "        prev_start = start\n",
    "\n",
    "    return pd.DataFrame({name: np.array(value) for name, value in notes.items()})"
   ]
  },
  {
   "cell_type": "code",
   "execution_count": 56,
   "id": "abc4c855",
   "metadata": {
    "collapsed": true,
    "hidden": true
   },
   "outputs": [
    {
     "ename": "NameError",
     "evalue": "name 'notes_to_midi' is not defined",
     "output_type": "error",
     "traceback": [
      "\u001b[0;31m---------------------------------------------------------------------------\u001b[0m",
      "\u001b[0;31mNameError\u001b[0m                                 Traceback (most recent call last)",
      "Input \u001b[0;32mIn [56]\u001b[0m, in \u001b[0;36m<cell line: 1>\u001b[0;34m()\u001b[0m\n\u001b[0;32m----> 1\u001b[0m df \u001b[38;5;241m=\u001b[39m \u001b[43mmidi_to_notes\u001b[49m\u001b[43m(\u001b[49m\u001b[43mmidi_file\u001b[49m\u001b[43m)\u001b[49m\n",
      "Input \u001b[0;32mIn [53]\u001b[0m, in \u001b[0;36mmidi_to_notes\u001b[0;34m(filename)\u001b[0m\n\u001b[1;32m      1\u001b[0m \u001b[38;5;28;01mdef\u001b[39;00m \u001b[38;5;21mmidi_to_notes\u001b[39m(filename: \u001b[38;5;28mstr\u001b[39m) \u001b[38;5;241m-\u001b[39m\u001b[38;5;241m>\u001b[39m pd\u001b[38;5;241m.\u001b[39mDataFrame:\n\u001b[1;32m      3\u001b[0m     \u001b[38;5;124;03m\"\"\"from the csv's filename, create a clean dataframe for training\"\"\"\u001b[39;00m\n\u001b[0;32m----> 5\u001b[0m     midi \u001b[38;5;241m=\u001b[39m \u001b[43mnotes_to_midi\u001b[49m(filename)\n\u001b[1;32m      7\u001b[0m     instrument \u001b[38;5;241m=\u001b[39m midi\u001b[38;5;241m.\u001b[39minstruments[\u001b[38;5;241m0\u001b[39m]\n\u001b[1;32m      8\u001b[0m     notes \u001b[38;5;241m=\u001b[39m collections\u001b[38;5;241m.\u001b[39mdefaultdict(\u001b[38;5;28mlist\u001b[39m)\n",
      "\u001b[0;31mNameError\u001b[0m: name 'notes_to_midi' is not defined"
     ]
    }
   ],
   "source": [
    "df = midi_to_notes(midi_file)"
   ]
  },
  {
   "cell_type": "markdown",
   "id": "7bef432b",
   "metadata": {
    "heading_collapsed": true
   },
   "source": [
    "# transform input sequence  "
   ]
  },
  {
   "cell_type": "code",
   "execution_count": null,
   "id": "474bb5ac",
   "metadata": {
    "hidden": true
   },
   "outputs": [],
   "source": [
    "def note(sequence):\n",
    "    #-----grabbing the model-----\n",
    "    model = keras.models.load_model(\"model/model.keras\")\n",
    "\n",
    "    #-----transform the sequence to the format model can take in-----\n",
    "    #sequence example : [actual pitch, actual duration]\n",
    "    input_sequence = ast.literal_eval(sequence)\n",
    "\n",
    "    #-----take in the sequence-----\n",
    "\n",
    "    prediction = model.predict(input_sequence)\n",
    "\n",
    "    #-----transform the prediction into the notes the front-end can take in-----\n",
    "    #----> grab it from stephen\n",
    "\n",
    "    return {'predictions': }"
   ]
  },
  {
   "cell_type": "code",
   "execution_count": 130,
   "id": "3268db19",
   "metadata": {
    "hidden": true
   },
   "outputs": [],
   "source": [
    "pitch_symb = ['0',\n",
    " '49',\n",
    " '50',\n",
    " '51',\n",
    " '52',\n",
    " '53',\n",
    " '54',\n",
    " '55',\n",
    " '56',\n",
    " '57',\n",
    " '58',\n",
    " '59',\n",
    " '60',\n",
    " '61',\n",
    " '62',\n",
    " '63',\n",
    " '64',\n",
    " '65',\n",
    " '66',\n",
    " '67',\n",
    " '68',\n",
    " '69',\n",
    " '70',\n",
    " '71',\n",
    " '72',\n",
    " '73',\n",
    " '74',\n",
    " '75',\n",
    " '76',\n",
    " '77',\n",
    " '78',\n",
    " '79',\n",
    " '80',\n",
    " '81',\n",
    " '82',\n",
    " '83',\n",
    " '84',\n",
    " '85',\n",
    " '86',\n",
    " '87',\n",
    " '88',\n",
    " '89',\n",
    " '90',\n",
    " '91',\n",
    " '92']\n",
    "duration_symb = ['1', '16', '16d', '2', '2d', '32', '32d', '4', '4d', '64', '8', '8d', '8dd']\n",
    "\n",
    "L_pitch_symb = len(pitch_symb)\n",
    "L_duration_symb = len(duration_symb)"
   ]
  },
  {
   "cell_type": "code",
   "execution_count": 131,
   "id": "44ac2089",
   "metadata": {
    "hidden": true
   },
   "outputs": [],
   "source": [
    "len_in_64th_notes = {'64': 1, '32': 2, '32d': 3, '16': 4, '16d': 6, '8': 8, '8d': 12, \n",
    "                     '8dd': 14, '4': 16, '4d': 24, '2': 32, '2d': 48, '1': 64}\n",
    "duration_mapping = {1: 9,\n",
    " 2: 5,\n",
    " 3: 6,\n",
    " 4: 1,\n",
    " 6: 2,\n",
    " 8: 10,\n",
    " 12: 11,\n",
    " 14: 12,\n",
    " 16: 7,\n",
    " 24: 8,\n",
    " 32: 3,\n",
    " 48: 4,\n",
    " 64: 0}\n",
    "pitch_mapping = {0: 0,\n",
    " 49: 1,\n",
    " 50: 2,\n",
    " 51: 3,\n",
    " 52: 4,\n",
    " 53: 5,\n",
    " 54: 6,\n",
    " 55: 7,\n",
    " 56: 8,\n",
    " 57: 9,\n",
    " 58: 10,\n",
    " 59: 11,\n",
    " 60: 12,\n",
    " 61: 13,\n",
    " 62: 14,\n",
    " 63: 15,\n",
    " 64: 16,\n",
    " 65: 17,\n",
    " 66: 18,\n",
    " 67: 19,\n",
    " 68: 20,\n",
    " 69: 21,\n",
    " 70: 22,\n",
    " 71: 23,\n",
    " 72: 24,\n",
    " 73: 25,\n",
    " 74: 26,\n",
    " 75: 27,\n",
    " 76: 28,\n",
    " 77: 29,\n",
    " 78: 30,\n",
    " 79: 31,\n",
    " 80: 32,\n",
    " 81: 33,\n",
    " 82: 34,\n",
    " 83: 35,\n",
    " 84: 36,\n",
    " 85: 37,\n",
    " 86: 38,\n",
    " 87: 39,\n",
    " 88: 40,\n",
    " 89: 41,\n",
    " 90: 42,\n",
    " 91: 43,\n",
    " 92: 44}"
   ]
  },
  {
   "cell_type": "code",
   "execution_count": 132,
   "id": "fd27e444",
   "metadata": {
    "hidden": true
   },
   "outputs": [
    {
     "data": {
      "text/plain": [
       "{0: 0,\n",
       " 49: 1,\n",
       " 50: 2,\n",
       " 51: 3,\n",
       " 52: 4,\n",
       " 53: 5,\n",
       " 54: 6,\n",
       " 55: 7,\n",
       " 56: 8,\n",
       " 57: 9,\n",
       " 58: 10,\n",
       " 59: 11,\n",
       " 60: 12,\n",
       " 61: 13,\n",
       " 62: 14,\n",
       " 63: 15,\n",
       " 64: 16,\n",
       " 65: 17,\n",
       " 66: 18,\n",
       " 67: 19,\n",
       " 68: 20,\n",
       " 69: 21,\n",
       " 70: 22,\n",
       " 71: 23,\n",
       " 72: 24,\n",
       " 73: 25,\n",
       " 74: 26,\n",
       " 75: 27,\n",
       " 76: 28,\n",
       " 77: 29,\n",
       " 78: 30,\n",
       " 79: 31,\n",
       " 80: 32,\n",
       " 81: 33,\n",
       " 82: 34,\n",
       " 83: 35,\n",
       " 84: 36,\n",
       " 85: 37,\n",
       " 86: 38,\n",
       " 87: 39,\n",
       " 88: 40,\n",
       " 89: 41,\n",
       " 90: 42,\n",
       " 91: 43,\n",
       " 92: 44}"
      ]
     },
     "execution_count": 132,
     "metadata": {},
     "output_type": "execute_result"
    }
   ],
   "source": [
    "L_pitch_symb\n",
    "L_duration_symb\n",
    "len_in_64th_notes\n",
    "duration_mapping\n",
    "pitch_mapping"
   ]
  },
  {
   "cell_type": "code",
   "execution_count": 3,
   "id": "2acaeb8e",
   "metadata": {
    "hidden": true
   },
   "outputs": [],
   "source": [
    "sample_note = [75, '4']"
   ]
  },
  {
   "cell_type": "code",
   "execution_count": 8,
   "id": "a9ad7f57",
   "metadata": {
    "hidden": true
   },
   "outputs": [],
   "source": [
    "dur_len_in_64th_notes = len_in_64th_notes[sample_note[1]]\n",
    "dur_mapped = duration_mapping[dur_len_in_64th_notes]\n",
    "pitch_mapped = pitch_mapping[sample_note[0]]\n",
    "mapped_note = [pitch_mapped, dur_mapped]\n",
    "note_normalized = [mapped_note[0]/float(L_pitch_symb), mapped_note[1]/float(L_duration_symb)]"
   ]
  },
  {
   "cell_type": "code",
   "execution_count": 9,
   "id": "eba5bbd5",
   "metadata": {
    "hidden": true
   },
   "outputs": [
    {
     "data": {
      "text/plain": [
       "[0.6, 0.5384615384615384]"
      ]
     },
     "execution_count": 9,
     "metadata": {},
     "output_type": "execute_result"
    }
   ],
   "source": [
    "note_normalized"
   ]
  },
  {
   "cell_type": "code",
   "execution_count": 36,
   "id": "7be99bb3",
   "metadata": {
    "hidden": true
   },
   "outputs": [],
   "source": [
    "sequence = '[[73, 16],[74, 16],[75, 8],[0, 8],[78, 4]]'"
   ]
  },
  {
   "cell_type": "code",
   "execution_count": 37,
   "id": "c04bfaa0",
   "metadata": {
    "hidden": true
   },
   "outputs": [],
   "source": [
    "list_sequence = ast.literal_eval(sequence)\n",
    "input_sequence = []\n",
    "\n",
    "for note in list_sequence:\n",
    "    dur_len_in_64th_notes = len_in_64th_notes[str(note[1])]\n",
    "    dur_mapped = duration_mapping[dur_len_in_64th_notes]\n",
    "    pitch_mapped = pitch_mapping[note[0]]\n",
    "    mapped_note = [pitch_mapped, dur_mapped]\n",
    "    note_normalized = [mapped_note[0]/float(L_pitch_symb), mapped_note[1]/float(L_duration_symb)]\n",
    "    input_sequence.append(note_normalized)"
   ]
  },
  {
   "cell_type": "code",
   "execution_count": 38,
   "id": "76e36813",
   "metadata": {
    "hidden": true
   },
   "outputs": [
    {
     "data": {
      "text/plain": [
       "[[0.5555555555555556, 0.07692307692307693],\n",
       " [0.5777777777777777, 0.07692307692307693],\n",
       " [0.6, 0.7692307692307693],\n",
       " [0.0, 0.7692307692307693],\n",
       " [0.6666666666666666, 0.5384615384615384]]"
      ]
     },
     "execution_count": 38,
     "metadata": {},
     "output_type": "execute_result"
    }
   ],
   "source": [
    "input_sequence"
   ]
  },
  {
   "cell_type": "code",
   "execution_count": 25,
   "id": "d35a3bd1",
   "metadata": {
    "hidden": true
   },
   "outputs": [],
   "source": [
    "from tensorflow import keras"
   ]
  },
  {
   "cell_type": "code",
   "execution_count": 29,
   "id": "428ee8d3",
   "metadata": {
    "hidden": true
   },
   "outputs": [],
   "source": [
    "model = keras.models.load_model(\"../model/model.h5\")"
   ]
  },
  {
   "cell_type": "code",
   "execution_count": 27,
   "id": "03d68f52",
   "metadata": {
    "hidden": true
   },
   "outputs": [
    {
     "name": "stdout",
     "output_type": "stream",
     "text": [
      "/Users/mizukinakano/code/sevans47/CoolMelodyProject/notebooks\r\n"
     ]
    }
   ],
   "source": [
    "!pwd"
   ]
  },
  {
   "cell_type": "code",
   "execution_count": 40,
   "id": "9827b164",
   "metadata": {
    "hidden": true
   },
   "outputs": [],
   "source": [
    "input_sequence.append([0.5777777777777777, 0.07692307692307693])"
   ]
  },
  {
   "cell_type": "code",
   "execution_count": 41,
   "id": "f1051319",
   "metadata": {
    "hidden": true
   },
   "outputs": [
    {
     "data": {
      "text/plain": [
       "[[0.5555555555555556, 0.07692307692307693],\n",
       " [0.5777777777777777, 0.07692307692307693],\n",
       " [0.6, 0.7692307692307693],\n",
       " [0.0, 0.7692307692307693],\n",
       " [0.6666666666666666, 0.5384615384615384],\n",
       " [0.5777777777777777, 0.07692307692307693]]"
      ]
     },
     "execution_count": 41,
     "metadata": {},
     "output_type": "execute_result"
    }
   ],
   "source": [
    "input_sequence"
   ]
  },
  {
   "cell_type": "code",
   "execution_count": 42,
   "id": "4413456f",
   "metadata": {
    "hidden": true
   },
   "outputs": [],
   "source": [
    "input_sequence.append([0.6, 0.7692307692307693])"
   ]
  },
  {
   "cell_type": "code",
   "execution_count": 43,
   "id": "042849c3",
   "metadata": {
    "hidden": true
   },
   "outputs": [],
   "source": [
    "input_sequence.append([0.5555555555555556, 0.07692307692307693])"
   ]
  },
  {
   "cell_type": "code",
   "execution_count": 47,
   "id": "9017b843",
   "metadata": {
    "hidden": true
   },
   "outputs": [],
   "source": [
    "import numpy as np"
   ]
  },
  {
   "cell_type": "code",
   "execution_count": 50,
   "id": "52b9fa3a",
   "metadata": {
    "hidden": true
   },
   "outputs": [],
   "source": [
    "input_sequence = np.array(input_sequence).reshape(1,8,2)"
   ]
  },
  {
   "cell_type": "code",
   "execution_count": 51,
   "id": "87ed352f",
   "metadata": {
    "hidden": true
   },
   "outputs": [],
   "source": [
    "prediction = model.predict(input_sequence[:5])"
   ]
  },
  {
   "cell_type": "code",
   "execution_count": 52,
   "id": "c49af0d1",
   "metadata": {
    "hidden": true
   },
   "outputs": [
    {
     "data": {
      "text/plain": [
       "[array([[7.1636513e-02, 1.4398268e-05, 1.4324828e-05, 2.0796995e-05,\n",
       "         1.8241848e-05, 2.7134174e-05, 3.8186612e-05, 4.2817581e-05,\n",
       "         6.9997310e-05, 8.0687780e-05, 1.3717616e-04, 1.8876101e-04,\n",
       "         2.7410270e-04, 4.9841817e-04, 8.2683639e-04, 1.4681969e-03,\n",
       "         2.4124472e-03, 4.4659474e-03, 9.0543134e-03, 1.5056992e-02,\n",
       "         2.7606096e-02, 4.1665722e-02, 6.0963288e-02, 8.2122311e-02,\n",
       "         9.4085164e-02, 1.0242275e-01, 1.0310391e-01, 9.4703607e-02,\n",
       "         7.7614844e-02, 6.0999036e-02, 4.4097610e-02, 3.3657335e-02,\n",
       "         2.2087052e-02, 1.7593274e-02, 1.0836941e-02, 6.2474492e-03,\n",
       "         5.0022057e-03, 2.6283711e-03, 2.2780893e-03, 1.3815314e-03,\n",
       "         1.1191706e-03, 8.1271160e-04, 2.9385090e-04, 2.4796932e-04,\n",
       "         8.3474071e-05]], dtype=float32),\n",
       " array([[7.0720044e-04, 5.7390606e-01, 1.2262919e-03, 1.2424681e-02,\n",
       "         3.5756200e-03, 6.5040976e-02, 2.5177389e-08, 1.8726599e-01,\n",
       "         1.9524718e-02, 2.5400764e-08, 1.0904512e-01, 2.7283240e-02]],\n",
       "       dtype=float32)]"
      ]
     },
     "execution_count": 52,
     "metadata": {},
     "output_type": "execute_result"
    }
   ],
   "source": [
    "prediction"
   ]
  },
  {
   "cell_type": "code",
   "execution_count": 54,
   "id": "e45719fc",
   "metadata": {
    "hidden": true
   },
   "outputs": [
    {
     "data": {
      "text/plain": [
       "0.999999947918153"
      ]
     },
     "execution_count": 54,
     "metadata": {},
     "output_type": "execute_result"
    }
   ],
   "source": [
    "np.sum([7.0720044e-04, 5.7390606e-01, 1.2262919e-03, 1.2424681e-02,\n",
    "         3.5756200e-03, 6.5040976e-02, 2.5177389e-08, 1.8726599e-01,\n",
    "         1.9524718e-02, 2.5400764e-08, 1.0904512e-01, 2.7283240e-02])"
   ]
  },
  {
   "cell_type": "code",
   "execution_count": 56,
   "id": "c2f238cb",
   "metadata": {
    "hidden": true
   },
   "outputs": [],
   "source": [
    "# return predictions from sample\n",
    "pitch_pred, duration_pred = prediction"
   ]
  },
  {
   "cell_type": "code",
   "execution_count": 66,
   "id": "f519111c",
   "metadata": {
    "hidden": true
   },
   "outputs": [
    {
     "data": {
      "text/plain": [
       "(array([7.16365129e-02, 1.43982734e-05, 1.43248208e-05, 2.07970024e-05,\n",
       "        1.82418389e-05, 2.71341869e-05, 3.81866266e-05, 4.28176027e-05,\n",
       "        6.99973098e-05, 8.06877433e-05, 1.37176219e-04, 1.88761100e-04,\n",
       "        2.74102815e-04, 4.98418172e-04, 8.26836389e-04, 1.46819674e-03,\n",
       "        2.41244771e-03, 4.46594693e-03, 9.05431341e-03, 1.50569910e-02,\n",
       "        2.76060980e-02, 4.16657217e-02, 6.09632879e-02, 8.21223110e-02,\n",
       "        9.40851569e-02, 1.02422744e-01, 1.03103913e-01, 9.47036073e-02,\n",
       "        7.76148364e-02, 6.09990396e-02, 4.40976024e-02, 3.36573347e-02,\n",
       "        2.20870543e-02, 1.75932702e-02, 1.08369412e-02, 6.24744920e-03,\n",
       "        5.00220573e-03, 2.62837112e-03, 2.27808929e-03, 1.38153124e-03,\n",
       "        1.11917057e-03, 8.12711543e-04, 2.93851015e-04, 2.47969438e-04,\n",
       "        8.34741077e-05], dtype=float32),\n",
       " array([7.07200263e-04, 5.73906124e-01, 1.22629164e-03, 1.24246795e-02,\n",
       "        3.57561954e-03, 6.50409833e-02, 2.51773749e-08, 1.87266022e-01,\n",
       "        1.95247196e-02, 2.54007482e-08, 1.09045126e-01, 2.72832438e-02],\n",
       "       dtype=float32))"
      ]
     },
     "execution_count": 66,
     "metadata": {},
     "output_type": "execute_result"
    }
   ],
   "source": [
    "pitch_pred,duration_pred"
   ]
  },
  {
   "cell_type": "code",
   "execution_count": 59,
   "id": "4474d584",
   "metadata": {
    "hidden": true
   },
   "outputs": [],
   "source": [
    "# get log of predictions\n",
    "pitch_pred = np.log(pitch_pred[0]) / 1.0  # diversity?\n",
    "duration_pred = np.log(duration_pred[0])"
   ]
  },
  {
   "cell_type": "code",
   "execution_count": 61,
   "id": "83342bf5",
   "metadata": {
    "hidden": true
   },
   "outputs": [],
   "source": [
    "# un-log predictions (not sure why we logged them...)\n",
    "exp_pitch_preds = np.exp(pitch_pred)\n",
    "exp_duration_preds = np.exp(duration_pred)"
   ]
  },
  {
   "cell_type": "code",
   "execution_count": 63,
   "id": "7e0f5c57",
   "metadata": {
    "hidden": true
   },
   "outputs": [],
   "source": [
    "# make odds of all predictions = 1.0\n",
    "pitch_pred = exp_pitch_preds / np.sum(exp_pitch_preds)\n",
    "duration_pred = exp_duration_preds / np.sum(exp_duration_preds)"
   ]
  },
  {
   "cell_type": "code",
   "execution_count": 65,
   "id": "e54b836f",
   "metadata": {
    "hidden": true
   },
   "outputs": [],
   "source": [
    "# get top 3 pitch predictions and top 2 duration predictions\n",
    "pitch_index_top_3 = np.argpartition(pitch_pred, -3)[-3:]\n",
    "dur_index_top_2 = np.argpartition(duration_pred, -2)[-2:]"
   ]
  },
  {
   "cell_type": "code",
   "execution_count": 67,
   "id": "254be3fa",
   "metadata": {
    "hidden": true
   },
   "outputs": [
    {
     "data": {
      "text/plain": [
       "(array([27, 25, 26]), array([7, 1]))"
      ]
     },
     "execution_count": 67,
     "metadata": {},
     "output_type": "execute_result"
    }
   ],
   "source": [
    "pitch_index_top_3, dur_index_top_2"
   ]
  },
  {
   "cell_type": "code",
   "execution_count": 76,
   "id": "7916d2da",
   "metadata": {
    "hidden": true
   },
   "outputs": [
    {
     "name": "stdout",
     "output_type": "stream",
     "text": [
      "[[75, '16'], [73, '16'], [74, '4']]\n"
     ]
    }
   ],
   "source": [
    "# return three notes as [pitch, duration] pairs\n",
    "three_notes = [[pitch, np.random.choice(dur_index_top_2)] for pitch in pitch_index_top_3]\n",
    "three_notes_mapped = [[pitch_reverse_mapping[pitch], reverse_len_in_64th_notes[duration_reverse_mapping[duration]]] for pitch, duration in three_notes]    \n",
    "\n",
    "\n",
    "print(three_notes_mapped)"
   ]
  },
  {
   "cell_type": "code",
   "execution_count": 74,
   "id": "6b187215",
   "metadata": {
    "hidden": true
   },
   "outputs": [],
   "source": [
    "duration_reverse_mapping = {0: 64,\n",
    " 1: 4,\n",
    " 2: 6,\n",
    " 3: 32,\n",
    " 4: 48,\n",
    " 5: 2,\n",
    " 6: 3,\n",
    " 7: 16,\n",
    " 8: 24,\n",
    " 9: 1,\n",
    " 10: 8,\n",
    " 11: 12,\n",
    " 12: 14}\n",
    "reverse_len_in_64th_notes = {v: k for k, v in len_in_64th_notes.items()}\n",
    "pitch_reverse_mapping = {0: 0,\n",
    " 1: 49,\n",
    " 2: 50,\n",
    " 3: 51,\n",
    " 4: 52,\n",
    " 5: 53,\n",
    " 6: 54,\n",
    " 7: 55,\n",
    " 8: 56,\n",
    " 9: 57,\n",
    " 10: 58,\n",
    " 11: 59,\n",
    " 12: 60,\n",
    " 13: 61,\n",
    " 14: 62,\n",
    " 15: 63,\n",
    " 16: 64,\n",
    " 17: 65,\n",
    " 18: 66,\n",
    " 19: 67,\n",
    " 20: 68,\n",
    " 21: 69,\n",
    " 22: 70,\n",
    " 23: 71,\n",
    " 24: 72,\n",
    " 25: 73,\n",
    " 26: 74,\n",
    " 27: 75,\n",
    " 28: 76,\n",
    " 29: 77,\n",
    " 30: 78,\n",
    " 31: 79,\n",
    " 32: 80,\n",
    " 33: 81,\n",
    " 34: 82,\n",
    " 35: 83,\n",
    " 36: 84,\n",
    " 37: 85,\n",
    " 38: 86,\n",
    " 39: 87,\n",
    " 40: 88,\n",
    " 41: 89,\n",
    " 42: 90,\n",
    " 43: 91,\n",
    " 44: 92}"
   ]
  },
  {
   "cell_type": "code",
   "execution_count": 70,
   "id": "9eebab6a",
   "metadata": {
    "hidden": true
   },
   "outputs": [
    {
     "ename": "NameError",
     "evalue": "name 'X_norm' is not defined",
     "output_type": "error",
     "traceback": [
      "\u001b[0;31m---------------------------------------------------------------------------\u001b[0m",
      "\u001b[0;31mNameError\u001b[0m                                 Traceback (most recent call last)",
      "Input \u001b[0;32mIn [70]\u001b[0m, in \u001b[0;36m<cell line: 5>\u001b[0;34m()\u001b[0m\n\u001b[1;32m      3\u001b[0m Music \u001b[38;5;241m=\u001b[39m []\n\u001b[1;32m      4\u001b[0m notes_generated \u001b[38;5;241m=\u001b[39m []\n\u001b[0;32m----> 5\u001b[0m sample \u001b[38;5;241m=\u001b[39m \u001b[43mX_norm\u001b[49m[\u001b[38;5;241m0\u001b[39m]\u001b[38;5;241m.\u001b[39mreshape(\u001b[38;5;241m1\u001b[39m, length, \u001b[38;5;241m2\u001b[39m)\n\u001b[1;32m      6\u001b[0m \u001b[38;5;28;01mfor\u001b[39;00m i \u001b[38;5;129;01min\u001b[39;00m \u001b[38;5;28mrange\u001b[39m(note_count):\n\u001b[1;32m      7\u001b[0m \n\u001b[1;32m      8\u001b[0m     \u001b[38;5;66;03m# return predictions from sample\u001b[39;00m\n\u001b[1;32m      9\u001b[0m     pitch_pred, duration_pred \u001b[38;5;241m=\u001b[39m model\u001b[38;5;241m.\u001b[39mpredict(sample)\n",
      "\u001b[0;31mNameError\u001b[0m: name 'X_norm' is not defined"
     ]
    }
   ],
   "source": [
    "note_count = 5\n",
    "note_choices = []\n",
    "Music = []\n",
    "notes_generated = []\n",
    "sample = X_norm[0].reshape(1, length, 2)\n",
    "for i in range(note_count):\n",
    "\n",
    "    # return predictions from sample\n",
    "    pitch_pred, duration_pred = model.predict(sample)\n",
    "\n",
    "    # get log of predictions\n",
    "    pitch_pred = np.log(pitch_pred[0]) / 1.0  # diversity?\n",
    "    duration_pred = np.log(duration_pred[0])\n",
    "\n",
    "    # un-log predictions (not sure why we logged them...)\n",
    "    exp_pitch_preds = np.exp(pitch_pred)\n",
    "    exp_duration_preds = np.exp(duration_pred)\n",
    "\n",
    "    # make odds of all predictions = 1.0\n",
    "    pitch_pred = exp_pitch_preds / np.sum(exp_pitch_preds)\n",
    "    duration_pred = exp_duration_preds / np.sum(exp_duration_preds)\n",
    "\n",
    "    # get top 3 pitch predictions and top 2 duration predictions\n",
    "    pitch_index_top_3 = np.argpartition(pitch_pred, -3)[-3:]\n",
    "    dur_index_top_2 = np.argpartition(duration_pred, -2)[-2:]\n",
    "\n",
    "    # return three notes as [pitch, duration] pairs\n",
    "    three_notes = [[pitch, np.random.choice(dur_index_top_2)] for pitch in pitch_index_top_3]\n",
    "    three_notes_mapped = [[pitch_reverse_mapping[pitch], reverse_len_in_64th_notes[duration_reverse_mapping[duration]]] for pitch, duration in three_notes]    \n",
    "    note_choices.append(three_notes_mapped)\n",
    "\n",
    "    print(three_notes_mapped)\n",
    "    choice = input('choose 0, 1, or 2:')\n",
    "\n",
    "    next_note = three_notes_mapped[int(choice)]\n",
    "    Music.append(next_note)\n",
    "\n",
    "    next_note_mapped = [pitch_mapping[next_note[0]], duration_reverse_mapping[len_in_64th_notes[next_note[1]]]]\n",
    "    notes_generated.append(next_note_mapped)\n",
    "\n",
    "    next_note_norm = [next_note_mapped[0] / float(L_pitch_symb), next_note_mapped[1] / float(L_duration_symb)]\n",
    "    sample = np.insert(sample[0], len(sample[0]), next_note_norm, axis=0)[1:].reshape(1, length, 2)"
   ]
  },
  {
   "cell_type": "code",
   "execution_count": 77,
   "id": "c957da0a",
   "metadata": {
    "hidden": true
   },
   "outputs": [
    {
     "data": {
      "text/plain": [
       "8"
      ]
     },
     "execution_count": 77,
     "metadata": {},
     "output_type": "execute_result"
    }
   ],
   "source": [
    "[[73, 16],[74, 16],[75, 8],[0, 8],[78, 4],[73, 16],[0, 8],[75, 8]]"
   ]
  },
  {
   "cell_type": "code",
   "execution_count": 83,
   "id": "bd59de26",
   "metadata": {
    "hidden": true
   },
   "outputs": [],
   "source": [
    "from CoolMelodyProject import csvcleaner, csvcombiner"
   ]
  },
  {
   "cell_type": "code",
   "execution_count": 84,
   "id": "e89376d4",
   "metadata": {
    "hidden": true
   },
   "outputs": [
    {
     "name": "stdout",
     "output_type": "stream",
     "text": [
      "/Users/mizukinakano/code/sevans47/CoolMelodyProject/notebooks\r\n"
     ]
    }
   ],
   "source": [
    "!pwd"
   ]
  },
  {
   "cell_type": "code",
   "execution_count": 88,
   "id": "2f112a42",
   "metadata": {
    "hidden": true
   },
   "outputs": [
    {
     "ename": "AttributeError",
     "evalue": "'list' object has no attribute 'split'",
     "output_type": "error",
     "traceback": [
      "\u001b[0;31m---------------------------------------------------------------------------\u001b[0m",
      "\u001b[0;31mAttributeError\u001b[0m                            Traceback (most recent call last)",
      "Input \u001b[0;32mIn [88]\u001b[0m, in \u001b[0;36m<cell line: 2>\u001b[0;34m()\u001b[0m\n\u001b[1;32m      1\u001b[0m filenames \u001b[38;5;241m=\u001b[39m csvcombiner\u001b[38;5;241m.\u001b[39mget_movement_filenames()\n\u001b[0;32m----> 2\u001b[0m df \u001b[38;5;241m=\u001b[39m \u001b[43mcsvcleaner\u001b[49m\u001b[38;5;241;43m.\u001b[39;49m\u001b[43mmidi_to_notes\u001b[49m\u001b[43m(\u001b[49m\u001b[43mfilenames\u001b[49m\u001b[43m)\u001b[49m\n",
      "File \u001b[0;32m~/code/sevans47/CoolMelodyProject/CoolMelodyProject/csvcleaner.py:115\u001b[0m, in \u001b[0;36mmidi_to_notes\u001b[0;34m(filename)\u001b[0m\n\u001b[1;32m    111\u001b[0m \u001b[38;5;28;01mdef\u001b[39;00m \u001b[38;5;21mmidi_to_notes\u001b[39m(filename: \u001b[38;5;28mstr\u001b[39m) \u001b[38;5;241m-\u001b[39m\u001b[38;5;241m>\u001b[39m pd\u001b[38;5;241m.\u001b[39mDataFrame:\n\u001b[1;32m    113\u001b[0m     \u001b[38;5;124;03m\"\"\"from the csv's filename, create a clean dataframe for training\"\"\"\u001b[39;00m\n\u001b[0;32m--> 115\u001b[0m     midi \u001b[38;5;241m=\u001b[39m \u001b[43mnotes_to_midi\u001b[49m\u001b[43m(\u001b[49m\u001b[43mfilename\u001b[49m\u001b[43m)\u001b[49m\n\u001b[1;32m    117\u001b[0m     instrument \u001b[38;5;241m=\u001b[39m midi\u001b[38;5;241m.\u001b[39minstruments[\u001b[38;5;241m0\u001b[39m]\n\u001b[1;32m    118\u001b[0m     notes \u001b[38;5;241m=\u001b[39m collections\u001b[38;5;241m.\u001b[39mdefaultdict(\u001b[38;5;28mlist\u001b[39m)\n",
      "File \u001b[0;32m~/code/sevans47/CoolMelodyProject/CoolMelodyProject/csvcleaner.py:83\u001b[0m, in \u001b[0;36mnotes_to_midi\u001b[0;34m(filename)\u001b[0m\n\u001b[1;32m     79\u001b[0m \u001b[38;5;28;01mdef\u001b[39;00m \u001b[38;5;21mnotes_to_midi\u001b[39m(filename: \u001b[38;5;28mstr\u001b[39m) \u001b[38;5;241m-\u001b[39m\u001b[38;5;241m>\u001b[39m pretty_midi\u001b[38;5;241m.\u001b[39mPrettyMIDI:\n\u001b[1;32m     81\u001b[0m     \u001b[38;5;124;03m\"\"\"from the csv's filename, create a pretty midi object with the midi data for the piece\"\"\"\u001b[39;00m\n\u001b[0;32m---> 83\u001b[0m     notes \u001b[38;5;241m=\u001b[39m \u001b[43mprocess_df\u001b[49m\u001b[43m(\u001b[49m\u001b[43mfilename\u001b[49m\u001b[43m)\u001b[49m\n\u001b[1;32m     85\u001b[0m     pm \u001b[38;5;241m=\u001b[39m pretty_midi\u001b[38;5;241m.\u001b[39mPrettyMIDI()\n\u001b[1;32m     86\u001b[0m     instrument \u001b[38;5;241m=\u001b[39m pretty_midi\u001b[38;5;241m.\u001b[39mInstrument(\n\u001b[1;32m     87\u001b[0m         program\u001b[38;5;241m=\u001b[39mpretty_midi\u001b[38;5;241m.\u001b[39minstrument_name_to_program(\n\u001b[1;32m     88\u001b[0m             \u001b[38;5;124m'\u001b[39m\u001b[38;5;124mAcoustic Guitar (nylon)\u001b[39m\u001b[38;5;124m'\u001b[39m))\n",
      "File \u001b[0;32m~/code/sevans47/CoolMelodyProject/CoolMelodyProject/csvcleaner.py:58\u001b[0m, in \u001b[0;36mprocess_df\u001b[0;34m(filename)\u001b[0m\n\u001b[1;32m     55\u001b[0m pieces_df \u001b[38;5;241m=\u001b[39m pd\u001b[38;5;241m.\u001b[39mread_csv(\u001b[38;5;124m'\u001b[39m\u001b[38;5;124m../raw_data/mozart_sonatas/mps - pieces.csv\u001b[39m\u001b[38;5;124m'\u001b[39m)\n\u001b[1;32m     57\u001b[0m \u001b[38;5;66;03m# extract the K number\u001b[39;00m\n\u001b[0;32m---> 58\u001b[0m k_num \u001b[38;5;241m=\u001b[39m \u001b[43mfilename\u001b[49m\u001b[38;5;241;43m.\u001b[39;49m\u001b[43msplit\u001b[49m(\u001b[38;5;124m'\u001b[39m\u001b[38;5;124m - \u001b[39m\u001b[38;5;124m'\u001b[39m)[\u001b[38;5;241m1\u001b[39m]\u001b[38;5;241m.\u001b[39msplit(\u001b[38;5;124m'\u001b[39m\u001b[38;5;124m.csv\u001b[39m\u001b[38;5;124m'\u001b[39m)[\u001b[38;5;241m0\u001b[39m]\u001b[38;5;241m.\u001b[39mstrip(\u001b[38;5;124m'\u001b[39m\u001b[38;5;124m \u001b[39m\u001b[38;5;124m'\u001b[39m)\n\u001b[1;32m     60\u001b[0m \u001b[38;5;66;03m# create df\u001b[39;00m\n\u001b[1;32m     61\u001b[0m path \u001b[38;5;241m=\u001b[39m \u001b[38;5;124m'\u001b[39m\u001b[38;5;124m../raw_data/mozart_sonatas/\u001b[39m\u001b[38;5;124m'\u001b[39m\n",
      "\u001b[0;31mAttributeError\u001b[0m: 'list' object has no attribute 'split'"
     ]
    }
   ],
   "source": [
    "filenames = csvcombiner.get_movement_filenames()\n",
    "df = csvcleaner.midi_to_notes(filenames[12])"
   ]
  },
  {
   "cell_type": "code",
   "execution_count": 89,
   "id": "6b6cbc59",
   "metadata": {
    "hidden": true
   },
   "outputs": [
    {
     "data": {
      "text/plain": [
       "['mps - K311-I.csv',\n",
       " 'mps - K545-III.csv',\n",
       " 'mps - K310-III.csv',\n",
       " 'mps - K332-II.csv',\n",
       " 'mps - K309-III.csv',\n",
       " 'mps - K457-II.csv',\n",
       " 'mps - K284-III.csv',\n",
       " 'mps - K545-II.csv',\n",
       " 'mps - K457-III.csv',\n",
       " 'mps - K330-II.csv',\n",
       " 'mps - K333-I.csv',\n",
       " 'mps - K284-II.csv',\n",
       " 'mps - K331-I.csv',\n",
       " 'mps - K279-III.csv',\n",
       " 'mps - K311-III.csv',\n",
       " 'mps - K570-III.csv',\n",
       " 'mps - K310-II.csv',\n",
       " 'mps - K310-I.csv',\n",
       " 'mps - K309-I.csv',\n",
       " 'mps - K280-II.csv',\n",
       " 'mps - K498a-IV.csv',\n",
       " 'mps - K330-I.csv',\n",
       " 'mps - K545-I.csv',\n",
       " 'mps - K282-II.csv',\n",
       " 'mps - K332-I.csv',\n",
       " 'mps - K333-II.csv',\n",
       " 'mps - K576-I.csv',\n",
       " 'mps - K533-I.csv',\n",
       " 'mps - K570-II.csv',\n",
       " 'mps - K331-III.csv',\n",
       " 'mps - K309-II.csv',\n",
       " 'mps - K282-III.csv',\n",
       " 'mps - K282-I.csv',\n",
       " 'mps - K280-I.csv',\n",
       " 'mps - K498a-III.csv',\n",
       " 'mps - K547a-I.csv',\n",
       " 'mps - K570-I.csv',\n",
       " 'mps - K279-I.csv',\n",
       " 'mps - K284-I.csv',\n",
       " 'mps - K498a-II.csv',\n",
       " 'mps - K331-II.csv',\n",
       " 'mps - K330-III.csv',\n",
       " 'mps - K283-III.csv',\n",
       " 'mps - K281-II.csv',\n",
       " 'mps - K533-III.csv',\n",
       " 'mps - K311-II.csv',\n",
       " 'mps - K457-I.csv',\n",
       " 'mps - K281-III.csv',\n",
       " 'mps - K283-I.csv',\n",
       " 'mps - K576-II.csv',\n",
       " 'mps - K332-III.csv',\n",
       " 'mps - K533-II.csv',\n",
       " 'mps - K498a-I.csv',\n",
       " 'mps - K280-III.csv',\n",
       " 'mps - K576-III.csv',\n",
       " 'mps - K333-III.csv',\n",
       " 'mps - K283-II.csv']"
      ]
     },
     "execution_count": 89,
     "metadata": {},
     "output_type": "execute_result"
    }
   ],
   "source": [
    "filenames"
   ]
  },
  {
   "cell_type": "code",
   "execution_count": 86,
   "id": "796178b2",
   "metadata": {
    "hidden": true
   },
   "outputs": [
    {
     "data": {
      "text/html": [
       "<div>\n",
       "<style scoped>\n",
       "    .dataframe tbody tr th:only-of-type {\n",
       "        vertical-align: middle;\n",
       "    }\n",
       "\n",
       "    .dataframe tbody tr th {\n",
       "        vertical-align: top;\n",
       "    }\n",
       "\n",
       "    .dataframe thead th {\n",
       "        text-align: right;\n",
       "    }\n",
       "</style>\n",
       "<table border=\"1\" class=\"dataframe\">\n",
       "  <thead>\n",
       "    <tr style=\"text-align: right;\">\n",
       "      <th></th>\n",
       "      <th>pitch</th>\n",
       "      <th>start</th>\n",
       "      <th>end</th>\n",
       "      <th>step</th>\n",
       "      <th>duration</th>\n",
       "    </tr>\n",
       "  </thead>\n",
       "  <tbody>\n",
       "    <tr>\n",
       "      <th>0</th>\n",
       "      <td>76</td>\n",
       "      <td>0.00</td>\n",
       "      <td>0.75</td>\n",
       "      <td>0.00</td>\n",
       "      <td>0.75</td>\n",
       "    </tr>\n",
       "    <tr>\n",
       "      <th>1</th>\n",
       "      <td>77</td>\n",
       "      <td>0.75</td>\n",
       "      <td>1.00</td>\n",
       "      <td>0.75</td>\n",
       "      <td>0.25</td>\n",
       "    </tr>\n",
       "    <tr>\n",
       "      <th>2</th>\n",
       "      <td>76</td>\n",
       "      <td>1.00</td>\n",
       "      <td>1.50</td>\n",
       "      <td>0.25</td>\n",
       "      <td>0.50</td>\n",
       "    </tr>\n",
       "    <tr>\n",
       "      <th>3</th>\n",
       "      <td>79</td>\n",
       "      <td>1.50</td>\n",
       "      <td>2.50</td>\n",
       "      <td>0.50</td>\n",
       "      <td>1.00</td>\n",
       "    </tr>\n",
       "    <tr>\n",
       "      <th>4</th>\n",
       "      <td>79</td>\n",
       "      <td>2.50</td>\n",
       "      <td>3.00</td>\n",
       "      <td>1.00</td>\n",
       "      <td>0.50</td>\n",
       "    </tr>\n",
       "  </tbody>\n",
       "</table>\n",
       "</div>"
      ],
      "text/plain": [
       "   pitch  start   end  step  duration\n",
       "0     76   0.00  0.75  0.00      0.75\n",
       "1     77   0.75  1.00  0.75      0.25\n",
       "2     76   1.00  1.50  0.25      0.50\n",
       "3     79   1.50  2.50  0.50      1.00\n",
       "4     79   2.50  3.00  1.00      0.50"
      ]
     },
     "execution_count": 86,
     "metadata": {},
     "output_type": "execute_result"
    }
   ],
   "source": [
    "df.head()"
   ]
  },
  {
   "cell_type": "code",
   "execution_count": 87,
   "id": "b75a00b3",
   "metadata": {
    "hidden": true
   },
   "outputs": [
    {
     "name": "stdout",
     "output_type": "stream",
     "text": [
      "mps - K331-I.csv\n"
     ]
    }
   ],
   "source": [
    "print(filenames[12])"
   ]
  },
  {
   "cell_type": "code",
   "execution_count": 90,
   "id": "bb5ed7fa",
   "metadata": {
    "hidden": true
   },
   "outputs": [
    {
     "name": "stdout",
     "output_type": "stream",
     "text": [
      "/Users/mizukinakano/code/sevans47/CoolMelodyProject/notebooks\r\n"
     ]
    }
   ],
   "source": [
    "!pwd"
   ]
  },
  {
   "cell_type": "code",
   "execution_count": 93,
   "id": "41d6d4c3",
   "metadata": {
    "hidden": true
   },
   "outputs": [],
   "source": [
    "import pandas as pd"
   ]
  },
  {
   "cell_type": "code",
   "execution_count": 100,
   "id": "218e8851",
   "metadata": {
    "hidden": true
   },
   "outputs": [],
   "source": [
    "df = pd.read_csv('../raw_data/clean_csvs/csv_0', sep='\\t')"
   ]
  },
  {
   "cell_type": "code",
   "execution_count": 102,
   "id": "1b1d274a",
   "metadata": {
    "hidden": true
   },
   "outputs": [
    {
     "data": {
      "text/plain": [
       "0     76-8d\n",
       "1     77-16\n",
       "2      74-8\n",
       "3      72-8\n",
       "4      72-4\n",
       "5      72-4\n",
       "6      71-4\n",
       "7       0-4\n",
       "8     77-8d\n",
       "9     79-16\n",
       "10     76-8\n",
       "11     74-8\n",
       "12     74-4\n",
       "13     74-4\n",
       "14     72-4\n",
       "15      0-4\n",
       "Name: pitch_dur0, dtype: object"
      ]
     },
     "execution_count": 102,
     "metadata": {},
     "output_type": "execute_result"
    }
   ],
   "source": []
  },
  {
   "cell_type": "code",
   "execution_count": 104,
   "id": "01083cf6",
   "metadata": {
    "hidden": true
   },
   "outputs": [],
   "source": [
    "df_list = []\n",
    "for i in range(57):\n",
    "    df = pd.read_csv(f'../raw_data/clean_csvs/csv_{i}', sep='\\t')\n",
    "    df_list.append(df)"
   ]
  },
  {
   "cell_type": "code",
   "execution_count": 108,
   "id": "1f771fcc",
   "metadata": {
    "hidden": true
   },
   "outputs": [],
   "source": [
    "import random"
   ]
  },
  {
   "cell_type": "code",
   "execution_count": 115,
   "id": "04d864ac",
   "metadata": {
    "hidden": true
   },
   "outputs": [
    {
     "data": {
      "text/plain": [
       "17"
      ]
     },
     "execution_count": 115,
     "metadata": {},
     "output_type": "execute_result"
    }
   ],
   "source": []
  },
  {
   "cell_type": "code",
   "execution_count": 167,
   "id": "e074ebef",
   "metadata": {
    "hidden": true
   },
   "outputs": [],
   "source": [
    "random_value = random.randint(0,56)\n",
    "first_sequence= df_list[random_value]['pitch_dur0'][:8]\n",
    "lis_first_sequence = list(first_sequence)"
   ]
  },
  {
   "cell_type": "code",
   "execution_count": 168,
   "id": "a666a2aa",
   "metadata": {
    "hidden": true
   },
   "outputs": [
    {
     "data": {
      "text/plain": [
       "['76-2', '72-4', '69-2', '68-4', '77-2', '76-4', '74-2', '72-4']"
      ]
     },
     "execution_count": 168,
     "metadata": {},
     "output_type": "execute_result"
    }
   ],
   "source": [
    "lis_first_sequence"
   ]
  },
  {
   "cell_type": "code",
   "execution_count": 169,
   "id": "9e972bf3",
   "metadata": {
    "hidden": true
   },
   "outputs": [],
   "source": [
    "lis_first_sequence = list(first_sequence)\n",
    "before_normaliz_input_sequence = []\n",
    "for note in lis_first_sequence:\n",
    "    note = note.split('-')\n",
    "    note[0] = int(note[0])\n",
    "    before_normaliz_input_sequence.append(note)"
   ]
  },
  {
   "cell_type": "code",
   "execution_count": 165,
   "id": "7bbd141e",
   "metadata": {
    "hidden": true
   },
   "outputs": [
    {
     "data": {
      "text/plain": [
       "[[60, '2'],\n",
       " [64, '4'],\n",
       " [67, '2'],\n",
       " [64, '4'],\n",
       " [65, '2'],\n",
       " [74, '4'],\n",
       " [72, '8'],\n",
       " [71, '8']]"
      ]
     },
     "execution_count": 165,
     "metadata": {},
     "output_type": "execute_result"
    }
   ],
   "source": [
    "input_sequence"
   ]
  },
  {
   "cell_type": "code",
   "execution_count": 146,
   "id": "e8a091a9",
   "metadata": {
    "hidden": true
   },
   "outputs": [
    {
     "ename": "KeyError",
     "evalue": "'5'",
     "output_type": "error",
     "traceback": [
      "\u001b[0;31m---------------------------------------------------------------------------\u001b[0m",
      "\u001b[0;31mKeyError\u001b[0m                                  Traceback (most recent call last)",
      "Input \u001b[0;32mIn [146]\u001b[0m, in \u001b[0;36m<cell line: 1>\u001b[0;34m()\u001b[0m\n\u001b[1;32m      1\u001b[0m \u001b[38;5;28;01mfor\u001b[39;00m note \u001b[38;5;129;01min\u001b[39;00m list_sequence:\n\u001b[0;32m----> 2\u001b[0m     dur_len_in_64th_notes \u001b[38;5;241m=\u001b[39m \u001b[43mlen_in_64th_notes\u001b[49m\u001b[43m[\u001b[49m\u001b[38;5;28;43mstr\u001b[39;49m\u001b[43m(\u001b[49m\u001b[43mnote\u001b[49m\u001b[43m[\u001b[49m\u001b[38;5;241;43m1\u001b[39;49m\u001b[43m]\u001b[49m\u001b[43m)\u001b[49m\u001b[43m]\u001b[49m\n\u001b[1;32m      3\u001b[0m     dur_mapped \u001b[38;5;241m=\u001b[39m duration_mapping[dur_len_in_64th_notes]\n\u001b[1;32m      4\u001b[0m     pitch_mapped \u001b[38;5;241m=\u001b[39m pitch_mapping[note[\u001b[38;5;241m0\u001b[39m]]\n",
      "\u001b[0;31mKeyError\u001b[0m: '5'"
     ]
    }
   ],
   "source": [
    "for note in list_sequence:\n",
    "    dur_len_in_64th_notes = len_in_64th_notes[str(note[1])]\n",
    "    dur_mapped = duration_mapping[dur_len_in_64th_notes]\n",
    "    pitch_mapped = pitch_mapping[note[0]]\n",
    "    mapped_note = [pitch_mapped, dur_mapped]\n",
    "    note_normalized = [mapped_note[0]/float(L_pitch_symb), mapped_note[1]/float(L_duration_symb)]\n",
    "    input_sequence.append(note_normalized)"
   ]
  },
  {
   "cell_type": "code",
   "execution_count": 137,
   "id": "72376f30",
   "metadata": {
    "hidden": true
   },
   "outputs": [
    {
     "data": {
      "text/plain": [
       "['72-4', '0-4', '65-16', '64-16', '62-16', '60-16', '65-16', '64-16']"
      ]
     },
     "execution_count": 137,
     "metadata": {},
     "output_type": "execute_result"
    }
   ],
   "source": []
  },
  {
   "cell_type": "code",
   "execution_count": 153,
   "id": "3e8fd142",
   "metadata": {
    "hidden": true
   },
   "outputs": [
    {
     "data": {
      "text/plain": [
       "['72', '4']"
      ]
     },
     "execution_count": 153,
     "metadata": {},
     "output_type": "execute_result"
    }
   ],
   "source": []
  },
  {
   "cell_type": "code",
   "execution_count": 142,
   "id": "c1cbc884",
   "metadata": {
    "hidden": true
   },
   "outputs": [
    {
     "data": {
      "text/plain": [
       "72"
      ]
     },
     "execution_count": 142,
     "metadata": {},
     "output_type": "execute_result"
    }
   ],
   "source": [
    "int(converted[0])"
   ]
  },
  {
   "cell_type": "code",
   "execution_count": 158,
   "id": "7f09f2c5",
   "metadata": {
    "hidden": true
   },
   "outputs": [],
   "source": []
  },
  {
   "cell_type": "code",
   "execution_count": 161,
   "id": "6009761a",
   "metadata": {
    "hidden": true,
    "scrolled": true
   },
   "outputs": [
    {
     "data": {
      "text/plain": [
       "[[72, '4'],\n",
       " [0, '8'],\n",
       " [72, '16'],\n",
       " [71, '16'],\n",
       " [74, '16'],\n",
       " [72, '16'],\n",
       " [76, '16'],\n",
       " [74, '16'],\n",
       " [0.5333333333333333, 0.5384615384615384],\n",
       " [0.0, 0.7692307692307693],\n",
       " [0.5333333333333333, 0.07692307692307693],\n",
       " [0.5111111111111111, 0.07692307692307693],\n",
       " [0.5777777777777777, 0.07692307692307693],\n",
       " [0.5333333333333333, 0.07692307692307693],\n",
       " [0.6222222222222222, 0.07692307692307693],\n",
       " [0.5777777777777777, 0.07692307692307693]]"
      ]
     },
     "execution_count": 161,
     "metadata": {},
     "output_type": "execute_result"
    }
   ],
   "source": [
    "input_sequence"
   ]
  },
  {
   "cell_type": "code",
   "execution_count": 170,
   "id": "4bf8ef95",
   "metadata": {
    "hidden": true
   },
   "outputs": [],
   "source": [
    "normalized_input_sequence = []\n",
    "for note in before_normaliz_input_sequence:\n",
    "    dur_len_in_64th_notes = len_in_64th_notes[str(note[1])]\n",
    "    dur_mapped = duration_mapping[dur_len_in_64th_notes]\n",
    "    pitch_mapped = pitch_mapping[note[0]]\n",
    "    mapped_note = [pitch_mapped, dur_mapped]\n",
    "    note_normalized = [mapped_note[0]/float(L_pitch_symb), mapped_note[1]/float(L_duration_symb)]\n",
    "    normalized_input_sequence.append(note_normalized)"
   ]
  },
  {
   "cell_type": "code",
   "execution_count": 171,
   "id": "4e0adb20",
   "metadata": {
    "hidden": true
   },
   "outputs": [
    {
     "data": {
      "text/plain": [
       "[[0.6222222222222222, 0.23076923076923078],\n",
       " [0.5333333333333333, 0.5384615384615384],\n",
       " [0.4666666666666667, 0.23076923076923078],\n",
       " [0.4444444444444444, 0.5384615384615384],\n",
       " [0.6444444444444445, 0.23076923076923078],\n",
       " [0.6222222222222222, 0.5384615384615384],\n",
       " [0.5777777777777777, 0.23076923076923078],\n",
       " [0.5333333333333333, 0.5384615384615384]]"
      ]
     },
     "execution_count": 171,
     "metadata": {},
     "output_type": "execute_result"
    }
   ],
   "source": [
    "normalized_input_sequence"
   ]
  },
  {
   "cell_type": "markdown",
   "id": "a3ca6db3",
   "metadata": {
    "heading_collapsed": true
   },
   "source": [
    "# presentation "
   ]
  },
  {
   "cell_type": "code",
   "execution_count": 3,
   "id": "182dc7d5",
   "metadata": {
    "hidden": true
   },
   "outputs": [],
   "source": [
    "import music21 \n",
    "from music21 import converter"
   ]
  },
  {
   "cell_type": "code",
   "execution_count": 8,
   "id": "2dd1d02b",
   "metadata": {
    "hidden": true
   },
   "outputs": [
    {
     "data": {
      "image/png": "[encoded data removed]",
      "text/plain": [
       "<IPython.core.display.Image object>"
      ]
     },
     "metadata": {
      "image/png": {
       "height": 52,
       "width": 674
      }
     },
     "output_type": "display_data"
    }
   ],
   "source": [
    "s = converter.parse('tinyNotation: 4/4 C4 D-4 E#4 F8 trip{G4 A4 B4} c4 D-4 E#4 E#4 F8 E4')\n",
    "s.show()"
   ]
  },
  {
   "cell_type": "code",
   "execution_count": null,
   "id": "78eae7e8",
   "metadata": {
    "hidden": true
   },
   "outputs": [],
   "source": [
    "'C7 D-4 F8 F4 C4 E4 E6 trip{A4 B4 G4}'"
   ]
  },
  {
   "cell_type": "code",
   "execution_count": 13,
   "id": "70736bb8",
   "metadata": {
    "hidden": true
   },
   "outputs": [
    {
     "data": {
      "text/html": [
       "\n",
       "                <div id='midiPlayerDiv1715'></div>\n",
       "                <link rel=\"stylesheet\" href=\"//cuthbertLab.github.io/music21j/css/m21.css\"\n",
       "                    type=\"text/css\" />\n",
       "                <script>\n",
       "                require.config({\n",
       "                    paths: {'music21': '//cuthbertLab.github.io/music21j/src/music21'}\n",
       "                });\n",
       "                require(['music21'], function() {\n",
       "                               mp = new music21.miditools.MidiPlayer();\n",
       "                               mp.addPlayer('#midiPlayerDiv1715');\n",
       "                               mp.base64Load('data:audio/midi;base64,TVRoZAAAAAYAAQACBABNVHJrAAAAFAD/UQMHoSAA/1gEBAIYCIgA/y8ATVRyawAAAIMA/wMAAOAAQIgAkDBaiACAMAAAkDFaiACAMQAAkDVaiACANQAAkDVahACANQAAkDdahSuANwAAkDFahSqQNVoBgDEAg3+ANQAAkDVaiACANQAAkDBaiACAMAAAkDRaiACANAAAkDlahSuAOQAAkDtahSuAOwAAkDdahSuANwCIAP8vAA==');\n",
       "                        });\n",
       "                </script>"
      ],
      "text/plain": [
       "<IPython.core.display.HTML object>"
      ]
     },
     "metadata": {},
     "output_type": "display_data"
    }
   ],
   "source": [
    "s = converter.parse('tinyNotation: 4/4 C4 D-4 E#4 F8 trip{G4 C7 D-4} F8 F4 C4 E4 E6 trip{A4 B4 G4}')\n",
    "s.show('midi')"
   ]
  },
  {
   "cell_type": "code",
   "execution_count": null,
   "id": "f3bfbdce",
   "metadata": {
    "hidden": true
   },
   "outputs": [],
   "source": []
  },
  {
   "cell_type": "markdown",
   "id": "683d1284",
   "metadata": {
    "heading_collapsed": true
   },
   "source": [
    "# API fix"
   ]
  },
  {
   "cell_type": "code",
   "execution_count": 1,
   "id": "c9c28586",
   "metadata": {
    "hidden": true
   },
   "outputs": [],
   "source": [
    "a = {\n",
    "  \"first_sequence\": [\n",
    "    [\n",
    "      76,\n",
    "      \"8d\"\n",
    "    ],\n",
    "    [\n",
    "      77,\n",
    "      \"32\"\n",
    "    ],\n",
    "    [\n",
    "      79,\n",
    "      \"32\"\n",
    "    ],\n",
    "    [\n",
    "      72,\n",
    "      \"8\"\n",
    "    ],\n",
    "    [\n",
    "      74,\n",
    "      \"8\"\n",
    "    ],\n",
    "    [\n",
    "      74,\n",
    "      \"8\"\n",
    "    ],\n",
    "    [\n",
    "      77,\n",
    "      \"16\"\n",
    "    ],\n",
    "    [\n",
    "      76,\n",
    "      \"16\"\n",
    "    ]\n",
    "  ]\n",
    "}"
   ]
  },
  {
   "cell_type": "code",
   "execution_count": 2,
   "id": "3e41f2dc",
   "metadata": {
    "hidden": true
   },
   "outputs": [
    {
     "data": {
      "text/plain": [
       "{'first_sequence': [[76, '8d'],\n",
       "  [77, '32'],\n",
       "  [79, '32'],\n",
       "  [72, '8'],\n",
       "  [74, '8'],\n",
       "  [74, '8'],\n",
       "  [77, '16'],\n",
       "  [76, '16']]}"
      ]
     },
     "execution_count": 2,
     "metadata": {},
     "output_type": "execute_result"
    }
   ],
   "source": [
    "a"
   ]
  },
  {
   "cell_type": "code",
   "execution_count": 5,
   "id": "565be2f8",
   "metadata": {
    "hidden": true
   },
   "outputs": [
    {
     "ename": "JSONDecodeError",
     "evalue": "[Errno Expecting value] Internal Server Error: 0",
     "output_type": "error",
     "traceback": [
      "\u001b[0;31m---------------------------------------------------------------------------\u001b[0m",
      "\u001b[0;31mJSONDecodeError\u001b[0m                           Traceback (most recent call last)",
      "File \u001b[0;32m~/.pyenv/versions/3.8.12/envs/CoolMelodyProject/lib/python3.8/site-packages/requests/models.py:910\u001b[0m, in \u001b[0;36mResponse.json\u001b[0;34m(self, **kwargs)\u001b[0m\n\u001b[1;32m    909\u001b[0m \u001b[38;5;28;01mtry\u001b[39;00m:\n\u001b[0;32m--> 910\u001b[0m     \u001b[38;5;28;01mreturn\u001b[39;00m \u001b[43mcomplexjson\u001b[49m\u001b[38;5;241;43m.\u001b[39;49m\u001b[43mloads\u001b[49m\u001b[43m(\u001b[49m\u001b[38;5;28;43mself\u001b[39;49m\u001b[38;5;241;43m.\u001b[39;49m\u001b[43mtext\u001b[49m\u001b[43m,\u001b[49m\u001b[43m \u001b[49m\u001b[38;5;241;43m*\u001b[39;49m\u001b[38;5;241;43m*\u001b[39;49m\u001b[43mkwargs\u001b[49m\u001b[43m)\u001b[49m\n\u001b[1;32m    911\u001b[0m \u001b[38;5;28;01mexcept\u001b[39;00m JSONDecodeError \u001b[38;5;28;01mas\u001b[39;00m e:\n\u001b[1;32m    912\u001b[0m     \u001b[38;5;66;03m# Catch JSON-related errors and raise as requests.JSONDecodeError\u001b[39;00m\n\u001b[1;32m    913\u001b[0m     \u001b[38;5;66;03m# This aliases json.JSONDecodeError and simplejson.JSONDecodeError\u001b[39;00m\n",
      "File \u001b[0;32m~/.pyenv/versions/3.8.12/lib/python3.8/json/__init__.py:357\u001b[0m, in \u001b[0;36mloads\u001b[0;34m(s, cls, object_hook, parse_float, parse_int, parse_constant, object_pairs_hook, **kw)\u001b[0m\n\u001b[1;32m    354\u001b[0m \u001b[38;5;28;01mif\u001b[39;00m (\u001b[38;5;28mcls\u001b[39m \u001b[38;5;129;01mis\u001b[39;00m \u001b[38;5;28;01mNone\u001b[39;00m \u001b[38;5;129;01mand\u001b[39;00m object_hook \u001b[38;5;129;01mis\u001b[39;00m \u001b[38;5;28;01mNone\u001b[39;00m \u001b[38;5;129;01mand\u001b[39;00m\n\u001b[1;32m    355\u001b[0m         parse_int \u001b[38;5;129;01mis\u001b[39;00m \u001b[38;5;28;01mNone\u001b[39;00m \u001b[38;5;129;01mand\u001b[39;00m parse_float \u001b[38;5;129;01mis\u001b[39;00m \u001b[38;5;28;01mNone\u001b[39;00m \u001b[38;5;129;01mand\u001b[39;00m\n\u001b[1;32m    356\u001b[0m         parse_constant \u001b[38;5;129;01mis\u001b[39;00m \u001b[38;5;28;01mNone\u001b[39;00m \u001b[38;5;129;01mand\u001b[39;00m object_pairs_hook \u001b[38;5;129;01mis\u001b[39;00m \u001b[38;5;28;01mNone\u001b[39;00m \u001b[38;5;129;01mand\u001b[39;00m \u001b[38;5;129;01mnot\u001b[39;00m kw):\n\u001b[0;32m--> 357\u001b[0m     \u001b[38;5;28;01mreturn\u001b[39;00m \u001b[43m_default_decoder\u001b[49m\u001b[38;5;241;43m.\u001b[39;49m\u001b[43mdecode\u001b[49m\u001b[43m(\u001b[49m\u001b[43ms\u001b[49m\u001b[43m)\u001b[49m\n\u001b[1;32m    358\u001b[0m \u001b[38;5;28;01mif\u001b[39;00m \u001b[38;5;28mcls\u001b[39m \u001b[38;5;129;01mis\u001b[39;00m \u001b[38;5;28;01mNone\u001b[39;00m:\n",
      "File \u001b[0;32m~/.pyenv/versions/3.8.12/lib/python3.8/json/decoder.py:337\u001b[0m, in \u001b[0;36mJSONDecoder.decode\u001b[0;34m(self, s, _w)\u001b[0m\n\u001b[1;32m    333\u001b[0m \u001b[38;5;124;03m\"\"\"Return the Python representation of ``s`` (a ``str`` instance\u001b[39;00m\n\u001b[1;32m    334\u001b[0m \u001b[38;5;124;03mcontaining a JSON document).\u001b[39;00m\n\u001b[1;32m    335\u001b[0m \n\u001b[1;32m    336\u001b[0m \u001b[38;5;124;03m\"\"\"\u001b[39;00m\n\u001b[0;32m--> 337\u001b[0m obj, end \u001b[38;5;241m=\u001b[39m \u001b[38;5;28;43mself\u001b[39;49m\u001b[38;5;241;43m.\u001b[39;49m\u001b[43mraw_decode\u001b[49m\u001b[43m(\u001b[49m\u001b[43ms\u001b[49m\u001b[43m,\u001b[49m\u001b[43m \u001b[49m\u001b[43midx\u001b[49m\u001b[38;5;241;43m=\u001b[39;49m\u001b[43m_w\u001b[49m\u001b[43m(\u001b[49m\u001b[43ms\u001b[49m\u001b[43m,\u001b[49m\u001b[43m \u001b[49m\u001b[38;5;241;43m0\u001b[39;49m\u001b[43m)\u001b[49m\u001b[38;5;241;43m.\u001b[39;49m\u001b[43mend\u001b[49m\u001b[43m(\u001b[49m\u001b[43m)\u001b[49m\u001b[43m)\u001b[49m\n\u001b[1;32m    338\u001b[0m end \u001b[38;5;241m=\u001b[39m _w(s, end)\u001b[38;5;241m.\u001b[39mend()\n",
      "File \u001b[0;32m~/.pyenv/versions/3.8.12/lib/python3.8/json/decoder.py:355\u001b[0m, in \u001b[0;36mJSONDecoder.raw_decode\u001b[0;34m(self, s, idx)\u001b[0m\n\u001b[1;32m    354\u001b[0m \u001b[38;5;28;01mexcept\u001b[39;00m \u001b[38;5;167;01mStopIteration\u001b[39;00m \u001b[38;5;28;01mas\u001b[39;00m err:\n\u001b[0;32m--> 355\u001b[0m     \u001b[38;5;28;01mraise\u001b[39;00m JSONDecodeError(\u001b[38;5;124m\"\u001b[39m\u001b[38;5;124mExpecting value\u001b[39m\u001b[38;5;124m\"\u001b[39m, s, err\u001b[38;5;241m.\u001b[39mvalue) \u001b[38;5;28;01mfrom\u001b[39;00m \u001b[38;5;28mNone\u001b[39m\n\u001b[1;32m    356\u001b[0m \u001b[38;5;28;01mreturn\u001b[39;00m obj, end\n",
      "\u001b[0;31mJSONDecodeError\u001b[0m: Expecting value: line 1 column 1 (char 0)",
      "\nDuring handling of the above exception, another exception occurred:\n",
      "\u001b[0;31mJSONDecodeError\u001b[0m                           Traceback (most recent call last)",
      "Input \u001b[0;32mIn [5]\u001b[0m, in \u001b[0;36m<cell line: 3>\u001b[0;34m()\u001b[0m\n\u001b[1;32m      1\u001b[0m \u001b[38;5;28;01mimport\u001b[39;00m \u001b[38;5;21;01mrequests\u001b[39;00m\n\u001b[1;32m      2\u001b[0m p \u001b[38;5;241m=\u001b[39m \u001b[38;5;124m\"\u001b[39m\u001b[38;5;124m[[76, 8d],[77, 32],[79, 32],[72, 8],[74, 8],[74, 8],[77, 16],[76, 16]]\u001b[39m\u001b[38;5;124m\"\u001b[39m\n\u001b[0;32m----> 3\u001b[0m response \u001b[38;5;241m=\u001b[39m \u001b[43mrequests\u001b[49m\u001b[38;5;241;43m.\u001b[39;49m\u001b[43mget\u001b[49m\u001b[43m(\u001b[49m\u001b[38;5;124;43m\"\u001b[39;49m\u001b[38;5;124;43mhttps://tmp-api-7wc6zc723a-ew.a.run.app/predict\u001b[39;49m\u001b[38;5;124;43m\"\u001b[39;49m\u001b[43m,\u001b[49m\u001b[43m \u001b[49m\u001b[43mparams\u001b[49m\u001b[38;5;241;43m=\u001b[39;49m\u001b[43m{\u001b[49m\u001b[38;5;124;43m'\u001b[39;49m\u001b[38;5;124;43msequence\u001b[39;49m\u001b[38;5;124;43m'\u001b[39;49m\u001b[43m:\u001b[49m\u001b[43m \u001b[49m\u001b[43mp\u001b[49m\u001b[43m}\u001b[49m\u001b[43m)\u001b[49m\u001b[38;5;241;43m.\u001b[39;49m\u001b[43mjson\u001b[49m\u001b[43m(\u001b[49m\u001b[43m)\u001b[49m\n\u001b[1;32m      4\u001b[0m response\n",
      "File \u001b[0;32m~/.pyenv/versions/3.8.12/envs/CoolMelodyProject/lib/python3.8/site-packages/requests/models.py:917\u001b[0m, in \u001b[0;36mResponse.json\u001b[0;34m(self, **kwargs)\u001b[0m\n\u001b[1;32m    915\u001b[0m     \u001b[38;5;28;01mraise\u001b[39;00m RequestsJSONDecodeError(e\u001b[38;5;241m.\u001b[39mmessage)\n\u001b[1;32m    916\u001b[0m \u001b[38;5;28;01melse\u001b[39;00m:\n\u001b[0;32m--> 917\u001b[0m     \u001b[38;5;28;01mraise\u001b[39;00m RequestsJSONDecodeError(e\u001b[38;5;241m.\u001b[39mmsg, e\u001b[38;5;241m.\u001b[39mdoc, e\u001b[38;5;241m.\u001b[39mpos)\n",
      "\u001b[0;31mJSONDecodeError\u001b[0m: [Errno Expecting value] Internal Server Error: 0"
     ]
    }
   ],
   "source": [
    "import requests\n",
    "p = \"[[76, 8d],[77, 32],[79, 32],[72, 8],[74, 8],[74, 8],[77, 16],[76, 16]]\"\n",
    "response = requests.get(\"https://tmp-api-7wc6zc723a-ew.a.run.app/predict\", params={'sequence': p}).json()\n",
    "response"
   ]
  },
  {
   "cell_type": "code",
   "execution_count": 7,
   "id": "f41b0363",
   "metadata": {
    "hidden": true
   },
   "outputs": [
    {
     "data": {
      "text/plain": [
       "{'predictions': [[74, '16'], [76, '8'], [75, '16']]}"
      ]
     },
     "execution_count": 7,
     "metadata": {},
     "output_type": "execute_result"
    }
   ],
   "source": [
    "import requests\n",
    "p = \"[[76, '8d'],[77, '32'],[79, '32'],[72, '8'],[74, '8'],[74, '8'],[77, '16'],[76, '16']]\"\n",
    "response = requests.get(\"http://127.0.0.1:8000/predict\", params={'sequence': p}).json()\n",
    "response"
   ]
  },
  {
   "cell_type": "code",
   "execution_count": 8,
   "id": "acbb10d4",
   "metadata": {
    "hidden": true
   },
   "outputs": [],
   "source": [
    "import ast"
   ]
  },
  {
   "cell_type": "code",
   "execution_count": 10,
   "id": "4a5977a1",
   "metadata": {
    "hidden": true
   },
   "outputs": [
    {
     "data": {
      "text/plain": [
       "[[76, '8d'],\n",
       " [77, '32'],\n",
       " [79, '32'],\n",
       " [72, '8'],\n",
       " [74, '8'],\n",
       " [74, '8'],\n",
       " [77, '16'],\n",
       " [76, '16']]"
      ]
     },
     "execution_count": 10,
     "metadata": {},
     "output_type": "execute_result"
    }
   ],
   "source": []
  },
  {
   "cell_type": "code",
   "execution_count": 12,
   "id": "1ff7e894",
   "metadata": {
    "hidden": true
   },
   "outputs": [
    {
     "data": {
      "text/plain": [
       "'8d'"
      ]
     },
     "execution_count": 12,
     "metadata": {},
     "output_type": "execute_result"
    }
   ],
   "source": [
    "str([76, '8d'][1])"
   ]
  },
  {
   "cell_type": "code",
   "execution_count": 13,
   "id": "b87a21ab",
   "metadata": {
    "hidden": true
   },
   "outputs": [],
   "source": [
    "len_in_64th_notes = {'64': 1, '32': 2, '32d': 3, '16': 4, '16d': 6, '8': 8, '8d': 12,\n",
    "                     '8dd': 14, '4': 16, '4d': 24, '2': 32, '2d': 48, '1': 64}"
   ]
  },
  {
   "cell_type": "code",
   "execution_count": 14,
   "id": "1473e4f7",
   "metadata": {
    "hidden": true
   },
   "outputs": [
    {
     "data": {
      "text/plain": [
       "12"
      ]
     },
     "execution_count": 14,
     "metadata": {},
     "output_type": "execute_result"
    }
   ],
   "source": [
    "len_in_64th_notes['8d']"
   ]
  },
  {
   "cell_type": "code",
   "execution_count": 15,
   "id": "18b96683",
   "metadata": {
    "hidden": true
   },
   "outputs": [],
   "source": [
    "\n",
    "pitch_symb = ['0',\n",
    " '49',\n",
    " '50',\n",
    " '51',\n",
    " '52',\n",
    " '53',\n",
    " '54',\n",
    " '55',\n",
    " '56',\n",
    " '57',\n",
    " '58',\n",
    " '59',\n",
    " '60',\n",
    " '61',\n",
    " '62',\n",
    " '63',\n",
    " '64',\n",
    " '65',\n",
    " '66',\n",
    " '67',\n",
    " '68',\n",
    " '69',\n",
    " '70',\n",
    " '71',\n",
    " '72',\n",
    " '73',\n",
    " '74',\n",
    " '75',\n",
    " '76',\n",
    " '77',\n",
    " '78',\n",
    " '79',\n",
    " '80',\n",
    " '81',\n",
    " '82',\n",
    " '83',\n",
    " '84',\n",
    " '85',\n",
    " '86',\n",
    " '87',\n",
    " '88',\n",
    " '89',\n",
    " '90',\n",
    " '91',\n",
    " '92']\n",
    "duration_symb = ['1', '16', '16d', '2', '2d', '32', '32d', '4', '4d', '64', '8', '8d', '8dd']\n",
    "\n",
    "L_pitch_symb = len(pitch_symb)\n",
    "L_duration_symb = len(duration_symb)\n",
    "\n",
    "len_in_64th_notes = {'64': 1, '32': 2, '32d': 3, '16': 4, '16d': 6, '8': 8, '8d': 12,\n",
    "                     '8dd': 14, '4': 16, '4d': 24, '2': 32, '2d': 48, '1': 64}\n",
    "duration_mapping = {1: 9,\n",
    " 2: 5,\n",
    " 3: 6,\n",
    " 4: 1,\n",
    " 6: 2,\n",
    " 8: 10,\n",
    " 12: 11,\n",
    " 14: 12,\n",
    " 16: 7,\n",
    " 24: 8,\n",
    " 32: 3,\n",
    " 48: 4,\n",
    " 64: 0}\n",
    "pitch_mapping = {0: 0,\n",
    " 49: 1,\n",
    " 50: 2,\n",
    " 51: 3,\n",
    " 52: 4,\n",
    " 53: 5,\n",
    " 54: 6,\n",
    " 55: 7,\n",
    " 56: 8,\n",
    " 57: 9,\n",
    " 58: 10,\n",
    " 59: 11,\n",
    " 60: 12,\n",
    " 61: 13,\n",
    " 62: 14,\n",
    " 63: 15,\n",
    " 64: 16,\n",
    " 65: 17,\n",
    " 66: 18,\n",
    " 67: 19,\n",
    " 68: 20,\n",
    " 69: 21,\n",
    " 70: 22,\n",
    " 71: 23,\n",
    " 72: 24,\n",
    " 73: 25,\n",
    " 74: 26,\n",
    " 75: 27,\n",
    " 76: 28,\n",
    " 77: 29,\n",
    " 78: 30,\n",
    " 79: 31,\n",
    " 80: 32,\n",
    " 81: 33,\n",
    " 82: 34,\n",
    " 83: 35,\n",
    " 84: 36,\n",
    " 85: 37,\n",
    " 86: 38,\n",
    " 87: 39,\n",
    " 88: 40,\n",
    " 89: 41,\n",
    " 90: 42,\n",
    " 91: 43,\n",
    " 92: 44}\n",
    "\n",
    "duration_reverse_mapping = {0: 64,\n",
    " 1: 4,\n",
    " 2: 6,\n",
    " 3: 32,\n",
    " 4: 48,\n",
    " 5: 2,\n",
    " 6: 3,\n",
    " 7: 16,\n",
    " 8: 24,\n",
    " 9: 1,\n",
    " 10: 8,\n",
    " 11: 12,\n",
    " 12: 14}\n",
    "reverse_len_in_64th_notes = {v: k for k, v in len_in_64th_notes.items()}\n",
    "pitch_reverse_mapping = {0: 0,\n",
    " 1: 49,\n",
    " 2: 50,\n",
    " 3: 51,\n",
    " 4: 52,\n",
    " 5: 53,\n",
    " 6: 54,\n",
    " 7: 55,\n",
    " 8: 56,\n",
    " 9: 57,\n",
    " 10: 58,\n",
    " 11: 59,\n",
    " 12: 60,\n",
    " 13: 61,\n",
    " 14: 62,\n",
    " 15: 63,\n",
    " 16: 64,\n",
    " 17: 65,\n",
    " 18: 66,\n",
    " 19: 67,\n",
    " 20: 68,\n",
    " 21: 69,\n",
    " 22: 70,\n",
    " 23: 71,\n",
    " 24: 72,\n",
    " 25: 73,\n",
    " 26: 74,\n",
    " 27: 75,\n",
    " 28: 76,\n",
    " 29: 77,\n",
    " 30: 78,\n",
    " 31: 79,\n",
    " 32: 80,\n",
    " 33: 81,\n",
    " 34: 82,\n",
    " 35: 83,\n",
    " 36: 84,\n",
    " 37: 85,\n",
    " 38: 86,\n",
    " 39: 87,\n",
    " 40: 88,\n",
    " 41: 89,\n",
    " 42: 90,\n",
    " 43: 91,\n",
    " 44: 92}"
   ]
  },
  {
   "cell_type": "code",
   "execution_count": null,
   "id": "ddd03a6a",
   "metadata": {
    "hidden": true
   },
   "outputs": [],
   "source": [
    "\n",
    "\n",
    "#-----convert the first sequence to list of notes----\n",
    "lis_first_sequence = list(first_sequence)\n",
    "first_input_sequence = []\n",
    "for note in lis_first_sequence:\n",
    "    note = note.split('-')\n",
    "    note[0] = int(note[0])\n",
    "    first_input_sequence.append(note)"
   ]
  },
  {
   "cell_type": "code",
   "execution_count": 16,
   "id": "6852be9e",
   "metadata": {
    "hidden": true
   },
   "outputs": [
    {
     "data": {
      "text/plain": [
       "[[76, '8d'],\n",
       " [77, '32'],\n",
       " [79, '32'],\n",
       " [72, '8'],\n",
       " [74, '8'],\n",
       " [74, '8'],\n",
       " [77, '16'],\n",
       " [76, '16']]"
      ]
     },
     "execution_count": 16,
     "metadata": {},
     "output_type": "execute_result"
    }
   ],
   "source": [
    "list_sequence = \"[[76, '8d'],[77, '32'],[79, '32'],[72, '8'],[74, '8'],[74, '8'],[77, '16'],[76, '16']]\"\n",
    "list_sequence = ast.literal_eval(list_sequence)\n",
    "list_sequence"
   ]
  },
  {
   "cell_type": "code",
   "execution_count": 25,
   "id": "284363b7",
   "metadata": {
    "hidden": true
   },
   "outputs": [],
   "source": [
    "input_sequence = []\n",
    "for note in list_sequence:\n",
    "    dur_len_in_64th_notes = len_in_64th_notes[str(note[1])]\n",
    "    dur_mapped = duration_mapping[dur_len_in_64th_notes]\n",
    "    pitch_mapped = pitch_mapping[note[0]]\n",
    "    mapped_note = [pitch_mapped, dur_mapped]\n",
    "    note_normalized = [mapped_note[0]/float(L_pitch_symb), mapped_note[1]/float(L_duration_symb)]\n",
    "    input_sequence.append(note_normalized)"
   ]
  },
  {
   "cell_type": "code",
   "execution_count": 26,
   "id": "dac44c5c",
   "metadata": {
    "hidden": true
   },
   "outputs": [
    {
     "data": {
      "text/plain": [
       "[[0.6222222222222222, 0.8461538461538461],\n",
       " [0.6444444444444445, 0.38461538461538464],\n",
       " [0.6888888888888889, 0.38461538461538464],\n",
       " [0.5333333333333333, 0.7692307692307693],\n",
       " [0.5777777777777777, 0.7692307692307693],\n",
       " [0.5777777777777777, 0.7692307692307693],\n",
       " [0.6444444444444445, 0.07692307692307693],\n",
       " [0.6222222222222222, 0.07692307692307693]]"
      ]
     },
     "execution_count": 26,
     "metadata": {},
     "output_type": "execute_result"
    }
   ],
   "source": [
    "input_sequence"
   ]
  },
  {
   "cell_type": "code",
   "execution_count": 27,
   "id": "195230bb",
   "metadata": {
    "hidden": true
   },
   "outputs": [],
   "source": [
    "sequence= \"[[76, '8d'],[77, '32'],[79, '32'],[72, '8'],[74, '8'],[74, '8'],[77, '16'],[76, '16']]\""
   ]
  },
  {
   "cell_type": "code",
   "execution_count": 28,
   "id": "47088050",
   "metadata": {
    "hidden": true
   },
   "outputs": [],
   "source": [
    "list_sequence = ast.literal_eval(sequence)"
   ]
  },
  {
   "cell_type": "code",
   "execution_count": 29,
   "id": "be7eab51",
   "metadata": {
    "hidden": true
   },
   "outputs": [
    {
     "data": {
      "text/plain": [
       "[[76, '8d'],\n",
       " [77, '32'],\n",
       " [79, '32'],\n",
       " [72, '8'],\n",
       " [74, '8'],\n",
       " [74, '8'],\n",
       " [77, '16'],\n",
       " [76, '16']]"
      ]
     },
     "execution_count": 29,
     "metadata": {},
     "output_type": "execute_result"
    }
   ],
   "source": [
    "list_sequence"
   ]
  },
  {
   "cell_type": "code",
   "execution_count": 5,
   "id": "859d9b96",
   "metadata": {
    "hidden": true
   },
   "outputs": [
    {
     "data": {
      "text/plain": [
       "{'predictions': [[74, '16'], [76, '8'], [75, '8']]}"
      ]
     },
     "execution_count": 5,
     "metadata": {},
     "output_type": "execute_result"
    }
   ],
   "source": [
    "import requests\n",
    "res = requests.get(\"https://tmp-api-7wc6zc723a-ew.a.run.app/predict\", params={\"sequence\": \"[[76, '8d'],[77, '32'],[79, '32'],[72, '8'],[74, '8'],[74, '8'],[77, '16'],[76, '16']]\"})\n",
    "res.json()"
   ]
  },
  {
   "cell_type": "code",
   "execution_count": null,
   "id": "84a73e84",
   "metadata": {
    "hidden": true
   },
   "outputs": [],
   "source": [
    "note_count = 5\n",
    "temperature = 0.05  # randomness\n",
    "note_choices = []\n",
    "Music = []\n",
    "notes_generated = []\n",
    "sample = X_norm[0].reshape(1, length, 2)\n",
    "for i in range(note_count):\n",
    "\n",
    "    # return predictions from sample\n",
    "    pitch_pred, duration_pred = prediction\n",
    "\n",
    "    # apply randomness level to pitch\n",
    "    pitch_pred[0] /= temperature\n",
    "\n",
    "    # get 3 random (weighted) indexes from top 12 pitch logits\n",
    "    pitch_index_top_12 = np.argpartition(pitch_pred[0], -12)[-12:]\n",
    "    pitch_logits_top_12 = np.array([pitch_pred[0][i] for i in pitch_index_top_12]).reshape(-1, 12)\n",
    "    pitch_3_logit_ind = np.array(random.categorical(pitch_logits_top_10, 3)).reshape(-1)\n",
    "    pitch_index_top_3 = [pitch_index_top_12[i] for i in pitch_3_logit_ind]\n",
    "    \n",
    "    dur_index_top_2 = np.argpartition(duration_pred[0], -2)[-2:]  \n",
    "\n",
    "    # return three notes as [pitch, duration] pairs\n",
    "    three_notes = [[pitch, np.random.choice(dur_index_top_2)] for pitch in pitch_index_top_3]\n",
    "    three_notes_mapped = [[pitch_reverse_mapping[pitch], duration_reverse_mapping[duration]] for pitch, duration in three_notes]    \n",
    "    note_choices.append(three_notes_mapped)\n",
    "\n",
    "    # prompt user to choose notes\n",
    "    print(three_notes_mapped)\n",
    "    choice = input('choose 0, 1, or 2:')\n",
    "\n",
    "    # next note (user friendly)\n",
    "    next_note = three_notes_mapped[int(choice)]\n",
    "    Music.append(next_note)\n",
    "\n",
    "    # next note (model friendly)\n",
    "    next_note_mapped = [pitch_mapping[next_note[0]], duration_mapping[next_note[1]]]\n",
    "    notes_generated.append(next_note_mapped)\n",
    "    next_note_norm = [next_note_mapped[0] / float(L_pitch_symb), next_note_mapped[1] / float(L_duration_symb)]\n",
    "    \n",
    "    # update sample with next note\n",
    "    sample = np.insert(sample[0], len(sample[0]), next_note_norm, axis=0)[1:].reshape(1, length, 2)"
   ]
  },
  {
   "cell_type": "markdown",
   "id": "6e464c6a",
   "metadata": {},
   "source": [
    "# numpy challenge"
   ]
  },
  {
   "cell_type": "code",
   "execution_count": 1,
   "id": "c9feec7e",
   "metadata": {},
   "outputs": [],
   "source": [
    "import numpy as np"
   ]
  },
  {
   "cell_type": "code",
   "execution_count": 8,
   "id": "be0fe014",
   "metadata": {},
   "outputs": [
    {
     "ename": "AttributeError",
     "evalue": "module 'numpy.random' has no attribute 'randomint'",
     "output_type": "error",
     "traceback": [
      "\u001b[0;31m---------------------------------------------------------------------------\u001b[0m",
      "\u001b[0;31mAttributeError\u001b[0m                            Traceback (most recent call last)",
      "Input \u001b[0;32mIn [8]\u001b[0m, in \u001b[0;36m<cell line: 1>\u001b[0;34m()\u001b[0m\n\u001b[0;32m----> 1\u001b[0m array \u001b[38;5;241m=\u001b[39m \u001b[43mnp\u001b[49m\u001b[38;5;241;43m.\u001b[39;49m\u001b[43mrandom\u001b[49m\u001b[38;5;241;43m.\u001b[39;49m\u001b[43mrandomint\u001b[49m((\u001b[38;5;241m100\u001b[39m,\u001b[38;5;241m8\u001b[39m,\u001b[38;5;241m2\u001b[39m))\n",
      "\u001b[0;31mAttributeError\u001b[0m: module 'numpy.random' has no attribute 'randomint'"
     ]
    }
   ],
   "source": [
    "array = np.random.randomint((100,8,2)) "
   ]
  },
  {
   "cell_type": "code",
   "execution_count": 13,
   "id": "47ca2a51",
   "metadata": {},
   "outputs": [
    {
     "data": {
      "text/plain": [
       "6"
      ]
     },
     "execution_count": 13,
     "metadata": {},
     "output_type": "execute_result"
    }
   ],
   "source": [
    "import random\n",
    "random.randint(1,100)"
   ]
  },
  {
   "cell_type": "code",
   "execution_count": 25,
   "id": "ab94a047",
   "metadata": {},
   "outputs": [],
   "source": [
    "sequence = []\n",
    "notes = []\n",
    "for i in range(100):\n",
    "    notes = []\n",
    "    for y in range(8):\n",
    "        note = []\n",
    "        note.append(random.randint(60,100))\n",
    "        note.append(random.randint(1,4))\n",
    "        notes.append(note)\n",
    "    sequence.append(notes)"
   ]
  },
  {
   "cell_type": "code",
   "execution_count": 27,
   "id": "d3810fa3",
   "metadata": {},
   "outputs": [
    {
     "data": {
      "text/plain": [
       "[[[89, 1], [95, 1], [89, 1], [82, 1], [91, 4], [61, 1], [76, 2], [62, 1]],\n",
       " [[78, 2], [97, 2], [84, 3], [68, 4], [85, 2], [87, 4], [80, 3], [74, 1]],\n",
       " [[74, 2], [88, 1], [92, 4], [74, 1], [61, 2], [73, 4], [98, 1], [68, 1]],\n",
       " [[73, 3], [75, 1], [71, 3], [74, 2], [79, 2], [63, 3], [65, 1], [99, 3]],\n",
       " [[84, 4], [95, 4], [92, 4], [84, 2], [67, 3], [97, 3], [71, 2], [96, 1]],\n",
       " [[100, 1], [68, 3], [63, 4], [66, 1], [99, 3], [75, 3], [100, 4], [86, 1]],\n",
       " [[80, 2], [95, 1], [61, 1], [62, 1], [75, 1], [79, 3], [63, 4], [92, 2]],\n",
       " [[86, 4], [82, 4], [90, 1], [60, 1], [83, 2], [84, 4], [69, 1], [100, 1]],\n",
       " [[100, 1], [87, 4], [98, 3], [79, 1], [80, 2], [80, 4], [83, 3], [80, 4]],\n",
       " [[79, 4], [96, 2], [87, 1], [65, 2], [63, 1], [86, 2], [99, 2], [87, 4]],\n",
       " [[71, 1], [66, 3], [70, 1], [80, 1], [76, 3], [71, 2], [84, 2], [100, 2]],\n",
       " [[87, 1], [98, 2], [72, 1], [81, 2], [76, 1], [95, 3], [98, 2], [66, 2]],\n",
       " [[91, 4], [96, 3], [78, 2], [95, 4], [74, 1], [99, 1], [99, 1], [92, 2]],\n",
       " [[95, 4], [61, 2], [74, 3], [77, 3], [88, 3], [86, 4], [99, 4], [70, 2]],\n",
       " [[64, 4], [86, 4], [75, 4], [97, 1], [83, 4], [86, 4], [70, 4], [72, 4]],\n",
       " [[98, 2], [90, 4], [65, 3], [95, 4], [88, 2], [73, 4], [93, 4], [96, 4]],\n",
       " [[71, 4], [79, 1], [86, 2], [79, 4], [88, 2], [99, 4], [92, 2], [74, 3]],\n",
       " [[77, 3], [98, 3], [90, 3], [89, 4], [97, 3], [78, 3], [73, 2], [86, 4]],\n",
       " [[95, 1], [63, 3], [95, 2], [76, 2], [79, 1], [75, 1], [100, 1], [93, 1]],\n",
       " [[70, 3], [97, 2], [80, 2], [75, 2], [87, 2], [79, 1], [93, 1], [88, 3]],\n",
       " [[96, 4], [95, 2], [81, 1], [100, 1], [64, 3], [69, 2], [67, 1], [98, 2]],\n",
       " [[99, 2], [78, 4], [69, 4], [79, 1], [65, 2], [96, 4], [95, 3], [69, 2]],\n",
       " [[96, 4], [62, 3], [62, 2], [68, 2], [69, 4], [80, 3], [89, 3], [90, 1]],\n",
       " [[87, 2], [99, 1], [60, 2], [74, 2], [76, 2], [91, 3], [98, 4], [86, 1]],\n",
       " [[87, 3], [95, 3], [75, 1], [64, 3], [64, 1], [97, 3], [99, 2], [91, 2]],\n",
       " [[96, 2], [96, 3], [77, 4], [94, 1], [68, 4], [76, 2], [96, 4], [72, 4]],\n",
       " [[98, 4], [94, 2], [73, 3], [96, 4], [76, 3], [66, 1], [76, 4], [80, 4]],\n",
       " [[67, 3], [70, 3], [81, 4], [68, 1], [72, 3], [94, 1], [72, 4], [98, 1]],\n",
       " [[92, 3], [64, 2], [63, 2], [94, 2], [72, 1], [90, 3], [60, 4], [75, 4]],\n",
       " [[98, 2], [77, 1], [82, 1], [82, 2], [76, 2], [79, 2], [74, 1], [66, 2]],\n",
       " [[94, 3], [89, 1], [60, 3], [92, 3], [63, 3], [73, 4], [80, 4], [73, 3]],\n",
       " [[80, 2], [72, 2], [91, 3], [76, 4], [92, 4], [66, 2], [84, 3], [61, 1]],\n",
       " [[73, 3], [76, 2], [100, 4], [81, 1], [87, 2], [96, 2], [64, 1], [80, 4]],\n",
       " [[77, 4], [73, 1], [70, 2], [74, 2], [72, 1], [88, 4], [60, 2], [67, 4]],\n",
       " [[66, 3], [77, 4], [73, 2], [76, 1], [75, 2], [78, 3], [67, 2], [78, 2]],\n",
       " [[86, 3], [100, 3], [92, 2], [82, 2], [79, 1], [96, 2], [67, 1], [100, 3]],\n",
       " [[65, 3], [62, 4], [95, 3], [97, 3], [86, 4], [80, 3], [67, 3], [89, 4]],\n",
       " [[80, 1], [99, 3], [70, 4], [93, 4], [98, 1], [77, 4], [100, 3], [98, 1]],\n",
       " [[71, 3], [95, 1], [91, 1], [89, 1], [67, 1], [85, 2], [69, 3], [76, 2]],\n",
       " [[81, 2], [63, 4], [71, 4], [65, 1], [96, 4], [76, 1], [61, 1], [66, 1]],\n",
       " [[100, 4], [83, 4], [62, 3], [66, 3], [89, 4], [96, 3], [85, 4], [95, 4]],\n",
       " [[76, 4], [94, 2], [65, 2], [96, 4], [67, 1], [85, 2], [81, 3], [72, 4]],\n",
       " [[97, 4], [77, 1], [66, 3], [89, 4], [96, 2], [70, 3], [85, 2], [80, 4]],\n",
       " [[85, 2], [75, 3], [98, 1], [68, 1], [63, 1], [74, 2], [68, 4], [91, 4]],\n",
       " [[98, 1], [68, 1], [63, 4], [93, 1], [93, 3], [63, 2], [93, 1], [62, 2]],\n",
       " [[100, 4], [89, 2], [78, 2], [84, 3], [79, 2], [88, 1], [70, 2], [67, 1]],\n",
       " [[94, 2], [93, 4], [62, 3], [94, 2], [63, 1], [85, 3], [79, 3], [63, 2]],\n",
       " [[79, 4], [88, 3], [99, 3], [93, 3], [65, 1], [68, 4], [64, 4], [96, 1]],\n",
       " [[96, 1], [98, 3], [91, 4], [98, 4], [82, 2], [60, 2], [65, 2], [98, 4]],\n",
       " [[65, 1], [80, 3], [91, 3], [62, 4], [84, 3], [88, 3], [99, 1], [74, 1]],\n",
       " [[90, 3], [96, 1], [83, 2], [97, 4], [75, 4], [93, 3], [71, 4], [65, 3]],\n",
       " [[72, 4], [87, 1], [70, 4], [100, 4], [94, 1], [96, 3], [65, 2], [80, 4]],\n",
       " [[62, 2], [69, 4], [80, 3], [90, 2], [87, 2], [99, 3], [90, 1], [76, 3]],\n",
       " [[73, 4], [85, 1], [69, 2], [69, 2], [75, 2], [62, 2], [80, 1], [93, 2]],\n",
       " [[96, 3], [80, 3], [78, 4], [91, 1], [73, 2], [82, 2], [74, 4], [67, 1]],\n",
       " [[98, 3], [61, 4], [99, 1], [99, 3], [94, 3], [61, 1], [90, 3], [72, 1]],\n",
       " [[91, 2], [70, 2], [94, 2], [64, 3], [84, 3], [86, 3], [60, 1], [80, 1]],\n",
       " [[81, 3], [72, 1], [84, 2], [98, 4], [78, 2], [98, 4], [98, 4], [72, 4]],\n",
       " [[72, 1], [67, 4], [95, 3], [91, 4], [97, 3], [61, 2], [99, 3], [88, 3]],\n",
       " [[74, 2], [93, 2], [79, 1], [70, 1], [62, 2], [71, 4], [87, 2], [60, 3]],\n",
       " [[84, 2], [94, 4], [65, 1], [88, 3], [98, 1], [73, 2], [74, 1], [87, 1]],\n",
       " [[89, 1], [61, 1], [98, 1], [81, 1], [78, 1], [94, 3], [95, 2], [75, 1]],\n",
       " [[65, 4], [63, 3], [66, 3], [73, 4], [62, 4], [69, 3], [95, 4], [86, 2]],\n",
       " [[83, 4], [81, 4], [80, 2], [69, 4], [99, 2], [69, 1], [94, 2], [61, 2]],\n",
       " [[82, 4], [85, 3], [72, 4], [79, 3], [96, 3], [63, 4], [73, 2], [78, 1]],\n",
       " [[69, 1], [81, 1], [70, 3], [75, 2], [78, 4], [68, 4], [87, 1], [70, 2]],\n",
       " [[75, 3], [86, 1], [73, 4], [83, 1], [96, 2], [74, 4], [61, 3], [63, 2]],\n",
       " [[94, 2], [73, 2], [76, 1], [85, 3], [61, 4], [90, 3], [63, 3], [79, 1]],\n",
       " [[70, 3], [99, 3], [85, 4], [76, 1], [72, 1], [86, 1], [69, 3], [98, 1]],\n",
       " [[85, 4], [70, 1], [62, 3], [71, 2], [61, 3], [71, 1], [71, 1], [88, 3]],\n",
       " [[83, 2], [90, 2], [85, 4], [68, 3], [71, 3], [93, 2], [86, 1], [98, 4]],\n",
       " [[65, 4], [73, 2], [95, 3], [84, 2], [96, 2], [97, 1], [76, 4], [78, 4]],\n",
       " [[63, 3], [63, 3], [73, 1], [76, 4], [66, 4], [87, 3], [98, 1], [99, 4]],\n",
       " [[75, 1], [63, 3], [78, 2], [68, 1], [90, 3], [74, 3], [90, 1], [75, 4]],\n",
       " [[93, 3], [100, 3], [100, 1], [86, 1], [63, 3], [90, 1], [94, 2], [76, 2]],\n",
       " [[70, 3], [64, 3], [82, 2], [93, 1], [62, 1], [87, 3], [64, 1], [95, 1]],\n",
       " [[71, 2], [96, 2], [77, 4], [98, 4], [77, 1], [63, 3], [64, 1], [63, 1]],\n",
       " [[69, 4], [85, 2], [74, 3], [69, 1], [97, 3], [93, 3], [63, 1], [96, 4]],\n",
       " [[78, 3], [92, 1], [93, 3], [95, 1], [87, 2], [99, 1], [87, 3], [96, 3]],\n",
       " [[79, 2], [77, 2], [78, 2], [93, 2], [85, 3], [69, 1], [75, 4], [78, 3]],\n",
       " [[85, 1], [99, 1], [95, 3], [60, 4], [70, 4], [99, 2], [98, 4], [81, 4]],\n",
       " [[64, 4], [87, 1], [91, 1], [89, 1], [73, 1], [80, 3], [83, 1], [91, 2]],\n",
       " [[97, 1], [62, 2], [61, 3], [89, 4], [96, 3], [90, 1], [81, 1], [78, 2]],\n",
       " [[62, 1], [73, 1], [99, 4], [65, 4], [61, 3], [90, 2], [91, 1], [97, 4]],\n",
       " [[94, 2], [84, 4], [97, 4], [72, 4], [100, 1], [85, 2], [71, 4], [100, 3]],\n",
       " [[81, 2], [95, 4], [80, 1], [98, 3], [65, 3], [66, 1], [65, 4], [93, 1]],\n",
       " [[64, 2], [95, 3], [95, 1], [78, 4], [98, 4], [78, 1], [72, 3], [87, 4]],\n",
       " [[72, 3], [74, 2], [89, 4], [93, 2], [86, 4], [74, 2], [80, 4], [97, 1]],\n",
       " [[99, 3], [80, 3], [74, 2], [82, 1], [61, 4], [84, 2], [76, 4], [66, 3]],\n",
       " [[93, 2], [94, 1], [84, 4], [68, 1], [85, 2], [88, 2], [96, 3], [60, 1]],\n",
       " [[62, 3], [91, 4], [74, 3], [79, 1], [65, 1], [95, 2], [73, 3], [93, 2]],\n",
       " [[85, 1], [85, 3], [93, 4], [67, 2], [62, 2], [99, 3], [66, 4], [98, 1]],\n",
       " [[97, 2], [76, 4], [95, 4], [86, 3], [82, 2], [77, 4], [88, 2], [91, 3]],\n",
       " [[86, 1], [83, 4], [98, 3], [66, 2], [83, 4], [87, 2], [71, 1], [60, 2]],\n",
       " [[84, 2], [82, 1], [71, 2], [74, 2], [85, 1], [65, 1], [91, 2], [80, 4]],\n",
       " [[100, 4], [84, 3], [84, 1], [67, 4], [71, 3], [80, 2], [81, 1], [69, 2]],\n",
       " [[98, 2], [62, 2], [86, 2], [99, 3], [100, 3], [84, 4], [73, 3], [86, 2]],\n",
       " [[73, 2], [99, 2], [84, 2], [68, 2], [81, 4], [83, 4], [88, 1], [70, 2]],\n",
       " [[78, 4], [71, 1], [85, 1], [73, 4], [70, 2], [98, 3], [84, 4], [93, 2]],\n",
       " [[70, 4], [84, 4], [98, 1], [95, 1], [94, 2], [93, 4], [72, 1], [70, 4]]]"
      ]
     },
     "execution_count": 27,
     "metadata": {},
     "output_type": "execute_result"
    }
   ],
   "source": [
    "sequence"
   ]
  },
  {
   "cell_type": "code",
   "execution_count": 31,
   "id": "bd4ef750",
   "metadata": {},
   "outputs": [],
   "source": [
    "added = [[70, 4], [84, 4], [98, 1], [95, 1], [94, 2], [93, 4], [72, 1], [70, 4]]"
   ]
  },
  {
   "cell_type": "code",
   "execution_count": 35,
   "id": "4ec7c19a",
   "metadata": {},
   "outputs": [
    {
     "data": {
      "text/plain": [
       "101"
      ]
     },
     "execution_count": 35,
     "metadata": {},
     "output_type": "execute_result"
    }
   ],
   "source": [
    "len(sequence)#.append(added)"
   ]
  },
  {
   "cell_type": "code",
   "execution_count": 34,
   "id": "0eb022a8",
   "metadata": {},
   "outputs": [
    {
     "data": {
      "text/plain": [
       "100"
      ]
     },
     "execution_count": 34,
     "metadata": {},
     "output_type": "execute_result"
    }
   ],
   "source": [
    "len(np.unique(sequence, axis=0))"
   ]
  },
  {
   "cell_type": "code",
   "execution_count": 34,
   "id": "ad311d66",
   "metadata": {},
   "outputs": [],
   "source": [
    "sequence_w_dup = np.array(sequence_w_dup)"
   ]
  },
  {
   "cell_type": "code",
   "execution_count": 41,
   "id": "18e35544",
   "metadata": {},
   "outputs": [
    {
     "data": {
      "text/plain": [
       "array([[ 86,   3],\n",
       "       [ 94,   2],\n",
       "       [ 83,   4],\n",
       "       [100,   4],\n",
       "       [ 72,   4],\n",
       "       [ 76,   3],\n",
       "       [ 95,   1],\n",
       "       [ 79,   3]])"
      ]
     },
     "execution_count": 41,
     "metadata": {},
     "output_type": "execute_result"
    }
   ],
   "source": [
    "sequence_w_dup[0]"
   ]
  },
  {
   "cell_type": "code",
   "execution_count": 52,
   "id": "ccb797e3",
   "metadata": {},
   "outputs": [
    {
     "data": {
      "text/plain": [
       "True"
      ]
     },
     "execution_count": 52,
     "metadata": {},
     "output_type": "execute_result"
    }
   ],
   "source": [
    "np.allclose(sequence_w_dup[99], sequence_w_dup[100])"
   ]
  },
  {
   "cell_type": "code",
   "execution_count": 85,
   "id": "8118d81e",
   "metadata": {},
   "outputs": [
    {
     "data": {
      "text/plain": [
       "'f402457dc09173e6647b314cee6dfd6dd24250e89ef31d45450c30c2'"
      ]
     },
     "execution_count": 85,
     "metadata": {},
     "output_type": "execute_result"
    }
   ],
   "source": [
    "import hashlib\n",
    "hashlib.sha224(sequence_w_dup[99]).hexdigest()"
   ]
  },
  {
   "cell_type": "code",
   "execution_count": 94,
   "id": "44ea29ba",
   "metadata": {},
   "outputs": [
    {
     "ename": "TypeError",
     "evalue": "object supporting the buffer API required",
     "output_type": "error",
     "traceback": [
      "\u001b[0;31m---------------------------------------------------------------------------\u001b[0m",
      "\u001b[0;31mTypeError\u001b[0m                                 Traceback (most recent call last)",
      "Input \u001b[0;32mIn [94]\u001b[0m, in \u001b[0;36m<cell line: 1>\u001b[0;34m()\u001b[0m\n\u001b[0;32m----> 1\u001b[0m \u001b[43mhashlib\u001b[49m\u001b[38;5;241;43m.\u001b[39;49m\u001b[43msha256\u001b[49m\u001b[43m(\u001b[49m\u001b[43mb\u001b[49m\u001b[43m)\u001b[49m\u001b[38;5;241m.\u001b[39mdigest()\n",
      "\u001b[0;31mTypeError\u001b[0m: object supporting the buffer API required"
     ]
    }
   ],
   "source": [
    "hashlib.sha256(b).digest()"
   ]
  },
  {
   "cell_type": "code",
   "execution_count": 87,
   "id": "677c1c52",
   "metadata": {},
   "outputs": [],
   "source": [
    "a = tuple(sequence_w_dup[99])"
   ]
  },
  {
   "cell_type": "code",
   "execution_count": 30,
   "id": "4c4908ee",
   "metadata": {},
   "outputs": [
    {
     "data": {
      "text/plain": [
       "100"
      ]
     },
     "execution_count": 30,
     "metadata": {},
     "output_type": "execute_result"
    }
   ],
   "source": [
    "len(np.unique(sequence_w_dup, axis=0))"
   ]
  },
  {
   "cell_type": "code",
   "execution_count": 36,
   "id": "5ceb3897",
   "metadata": {},
   "outputs": [],
   "source": [
    "u, c = np.unique(sequence_w_dup, return_counts=True)\n",
    "dup = u[c > 1]"
   ]
  },
  {
   "cell_type": "code",
   "execution_count": 37,
   "id": "a0e78355",
   "metadata": {},
   "outputs": [
    {
     "data": {
      "text/plain": [
       "array([  1,   2,   3,   4,  60,  61,  62,  63,  64,  65,  66,  67,  68,\n",
       "        69,  70,  71,  72,  73,  74,  75,  76,  77,  78,  79,  80,  81,\n",
       "        82,  83,  84,  85,  86,  87,  88,  89,  90,  91,  92,  93,  94,\n",
       "        95,  96,  97,  98,  99, 100])"
      ]
     },
     "execution_count": 37,
     "metadata": {},
     "output_type": "execute_result"
    }
   ],
   "source": [
    "dup"
   ]
  },
  {
   "cell_type": "code",
   "execution_count": null,
   "id": "a3a16809",
   "metadata": {},
   "outputs": [],
   "source": [
    "#Same pair, Same sequence, same order"
   ]
  },
  {
   "cell_type": "code",
   "execution_count": 39,
   "id": "30f88f63",
   "metadata": {},
   "outputs": [
    {
     "ename": "NameError",
     "evalue": "name 'OrderedList' is not defined",
     "output_type": "error",
     "traceback": [
      "\u001b[0;31m---------------------------------------------------------------------------\u001b[0m",
      "\u001b[0;31mNameError\u001b[0m                                 Traceback (most recent call last)",
      "Input \u001b[0;32mIn [39]\u001b[0m, in \u001b[0;36m<cell line: 1>\u001b[0;34m()\u001b[0m\n\u001b[0;32m----> 1\u001b[0m \u001b[43mOrderedList\u001b[49m(sequence_w_dup[\u001b[38;5;241m0\u001b[39m])\n",
      "\u001b[0;31mNameError\u001b[0m: name 'OrderedList' is not defined"
     ]
    }
   ],
   "source": [
    "OrderedList(sequence_w_dup[0])"
   ]
  },
  {
   "cell_type": "code",
   "execution_count": 2,
   "id": "ff4e2df0",
   "metadata": {},
   "outputs": [],
   "source": [
    "import random\n",
    "import pandas as pd"
   ]
  },
  {
   "cell_type": "code",
   "execution_count": 7,
   "id": "1811a594",
   "metadata": {},
   "outputs": [],
   "source": [
    "random_value = random.randint(0,32)\n",
    "\n",
    "df = pd.read_csv(f'../raw_data/clean_csvs/csv_{random_value}.csv')\n",
    "first_sequence = df['pitch_dur0'][:8]"
   ]
  },
  {
   "cell_type": "code",
   "execution_count": 9,
   "id": "c17ad8aa",
   "metadata": {},
   "outputs": [
    {
     "data": {
      "text/plain": [
       "0     0-8\n",
       "1    79-8\n",
       "2    77-8\n",
       "3    76-8\n",
       "4    74-8\n",
       "5    72-8\n",
       "6    71-8\n",
       "7    69-8\n",
       "Name: pitch_dur0, dtype: object"
      ]
     },
     "execution_count": 9,
     "metadata": {},
     "output_type": "execute_result"
    }
   ],
   "source": [
    "df['pitch_dur0'][:8]"
   ]
  },
  {
   "cell_type": "code",
   "execution_count": 18,
   "id": "276cb71a",
   "metadata": {},
   "outputs": [],
   "source": [
    "import numpy as np\n",
    "ar = np.array([\n",
    "    [\n",
    "      76,\n",
    "      \"4\"\n",
    "    ],\n",
    "    [\n",
    "      76,\n",
    "      \"8d\"\n",
    "    ],\n",
    "    [\n",
    "      76,\n",
    "      \"16\"\n",
    "    ],\n",
    "    [\n",
    "      76,\n",
    "      \"4\"\n",
    "    ],\n",
    "    [\n",
    "      72,\n",
    "      \"8d\"\n",
    "    ],\n",
    "    [\n",
    "      69,\n",
    "      \"16\"\n",
    "    ],\n",
    "    [\n",
    "      69,\n",
    "      \"8\"\n",
    "    ],\n",
    "    [\n",
    "      68,\n",
    "      \"8\"\n",
    "    ]\n",
    "  ])"
   ]
  },
  {
   "cell_type": "code",
   "execution_count": 16,
   "id": "2abc148e",
   "metadata": {},
   "outputs": [],
   "source": [
    "bpm_dict = {1: 4, 2: 2, 4: 1, 8: 0.5, 16: 0.25, 32: 0.125, \n",
    "            64: 0.0625, '1': 4, '1d': 6, '2': 2, '2d': 3, '4': 1, \n",
    "            '4d': 1.5, '8': 0.5, '8d': 0.75, '16': 0.25, '16d': 0.375, \n",
    "            '32': 0.125, '32d': 0.1875, '64': 0.0625, '64d': 0.09375}"
   ]
  },
  {
   "cell_type": "code",
   "execution_count": 19,
   "id": "6b8cbcd3",
   "metadata": {},
   "outputs": [
    {
     "data": {
      "text/plain": [
       "array([['76', '4'],\n",
       "       ['76', '8d'],\n",
       "       ['76', '16'],\n",
       "       ['76', '4'],\n",
       "       ['72', '8d'],\n",
       "       ['69', '16'],\n",
       "       ['69', '8'],\n",
       "       ['68', '8']], dtype='<U21')"
      ]
     },
     "execution_count": 19,
     "metadata": {},
     "output_type": "execute_result"
    }
   ],
   "source": [
    "ar"
   ]
  },
  {
   "cell_type": "code",
   "execution_count": null,
   "id": "336815ef",
   "metadata": {},
   "outputs": [],
   "source": [
    "[[76, '1'],[76, '0.75'],[76, '0.25'],[76, '1'],[72, '0.75'],[69, '0.25'],[69, '0.5'],[68, '0.5']]"
   ]
  },
  {
   "cell_type": "code",
   "execution_count": null,
   "id": "302227e0",
   "metadata": {},
   "outputs": [],
   "source": [
    "[\n",
    "    [\n",
    "      72,\n",
    "      \"2\"\n",
    "    ],\n",
    "    [\n",
    "      76,\n",
    "      \"4\"\n",
    "    ],\n",
    "    [\n",
    "      79,\n",
    "      \"4\"\n",
    "    ],\n",
    "    [\n",
    "      71,\n",
    "      \"4d\"\n",
    "    ],\n",
    "    [\n",
    "      72,\n",
    "      \"16\"\n",
    "    ],\n",
    "    [\n",
    "      74,\n",
    "      \"16\"\n",
    "    ],\n",
    "    [\n",
    "      72,\n",
    "      \"4\"\n",
    "    ],\n",
    "    [\n",
    "      0,\n",
    "      \"4\"\n",
    "    ]\n",
    "  ]"
   ]
  },
  {
   "cell_type": "code",
   "execution_count": 40,
   "id": "b11a9583",
   "metadata": {},
   "outputs": [],
   "source": [
    "import music21\n",
    "from midi2audio import FluidSynth"
   ]
  },
  {
   "cell_type": "code",
   "execution_count": 39,
   "id": "869dc8ff",
   "metadata": {},
   "outputs": [
    {
     "name": "stdout",
     "output_type": "stream",
     "text": [
      "Collecting midi2audio\n",
      "  Using cached midi2audio-0.1.1-py2.py3-none-any.whl (8.7 kB)\n",
      "Installing collected packages: midi2audio\n",
      "Successfully installed midi2audio-0.1.1\n",
      "\u001b[33mWARNING: You are using pip version 22.0.3; however, version 22.0.4 is available.\n",
      "You should consider upgrading via the '/Users/mizukinakano/.pyenv/versions/3.8.12/envs/CoolMelodyProject/bin/python -m pip install --upgrade pip' command.\u001b[0m\u001b[33m\n",
      "\u001b[0m"
     ]
    }
   ],
   "source": [
    "!pip install midi2audio"
   ]
  },
  {
   "cell_type": "code",
   "execution_count": 41,
   "id": "4485c22e",
   "metadata": {},
   "outputs": [
    {
     "name": "stdout",
     "output_type": "stream",
     "text": [
      "zsh:1: command not found: path\r\n"
     ]
    }
   ],
   "source": [
    "!path fluidsynth"
   ]
  },
  {
   "cell_type": "code",
   "execution_count": null,
   "id": "756abbad",
   "metadata": {},
   "outputs": [],
   "source": []
  }
 ],
 "metadata": {
  "kernelspec": {
   "display_name": "Python 3 (ipykernel)",
   "language": "python",
   "name": "python3"
  },
  "language_info": {
   "codemirror_mode": {
    "name": "ipython",
    "version": 3
   },
   "file_extension": ".py",
   "mimetype": "text/x-python",
   "name": "python",
   "nbconvert_exporter": "python",
   "pygments_lexer": "ipython3",
   "version": "3.8.12"
  },
  "toc": {
   "base_numbering": 1,
   "nav_menu": {},
   "number_sections": true,
   "sideBar": true,
   "skip_h1_title": false,
   "title_cell": "Table of Contents",
   "title_sidebar": "Contents",
   "toc_cell": false,
   "toc_position": {},
   "toc_section_display": true,
   "toc_window_display": false
  }
 },
 "nbformat": 4,
 "nbformat_minor": 5
}
