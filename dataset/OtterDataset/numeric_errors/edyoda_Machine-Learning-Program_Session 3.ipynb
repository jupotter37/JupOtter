{
 "cells": [
  {
   "cell_type": "code",
   "execution_count": 14,
   "metadata": {},
   "outputs": [
    {
     "name": "stdout",
     "output_type": "stream",
     "text": [
      "['__add__', '__class__', '__delattr__', '__dict__', '__dir__', '__doc__', '__eq__', '__format__', '__ge__', '__getattribute__', '__gt__', '__hash__', '__init__', '__init_subclass__', '__le__', '__lt__', '__module__', '__ne__', '__new__', '__reduce__', '__reduce_ex__', '__repr__', '__setattr__', '__sizeof__', '__str__', '__subclasshook__', '__weakref__', 'add_emp', 'count', 'emps', 'get_name', 'incr_count', 'print_val', 'set_dept', 'set_name']\n",
      "101 ABC\n",
      "ABCPQR\n"
     ]
    }
   ],
   "source": [
    "class Emp:\n",
    "    count = 100\n",
    "    emps = []\n",
    "    \n",
    "    @classmethod\n",
    "    def incr_count(cls):\n",
    "        cls.count += 1\n",
    "    @classmethod\n",
    "    def add_emp(cls,obj):\n",
    "        cls.emps.append(obj)\n",
    "        \n",
    "    @staticmethod\n",
    "    def print_val(num1,num2):\n",
    "        print(num1 + num2)\n",
    "        \n",
    "    \n",
    "    def __init__(self,id,name,email):\n",
    "        self.__emp_id = id\n",
    "        self.__name = name\n",
    "        self.email = email\n",
    "        Emp.add_emp(self)\n",
    "        \n",
    "    def get_name(self):\n",
    "        return self.__name\n",
    "    \n",
    "    def set_name(self,name):\n",
    "        self.__name = name\n",
    "        \n",
    "    def set_dept(self,dept):       \n",
    "        self.dept_name =  dept\n",
    "    \n",
    "    def __str__(self):\n",
    "        return \"{} {}\".format(self.__emp_id,self.__name)\n",
    "    \n",
    "    def __add__(self,a):\n",
    "        return self.__name + a.__name\n",
    "        \n",
    "\n",
    "# __str__\n",
    "print(dir(Emp))\n",
    "emp1 = Emp(101,\"ABC\",\"abc@xyz.com\")\n",
    "emp2 = Emp(102,\"PQR\",\"pqr@xyz.com\")\n",
    "print(emp1)\n",
    "\n",
    "print(emp1 + emp2)\n",
    "\n",
    "# help(emp1)\n",
    "# print(Emp.emps)\n",
    "# Emp(emp1,101,\"ABC\",\"abc@xyz.com\")\n",
    "\n",
    "# emp1.set_dept(\"HR\")\n",
    "# emp2.set_dept(\"Admin\")\n",
    "\n",
    "# print(emp1._Emp__emp_id)\n",
    "# print(emp1.__dict__)\n",
    "\n",
    "# print(Emp.count)\n",
    "# print(emp1.count)\n",
    "\n",
    "# emp1.count = 500\n",
    "# print(emp1.__dict__)\n",
    "# # print(emp1.count)\n",
    "# # print(Emp.count)\n",
    "# print(emp1.print_val(10,20))\n",
    "# print(Emp.count)\n",
    "# emp1.incr_count()\n",
    "# print(Emp.count)\n"
   ]
  },
  {
   "cell_type": "code",
   "execution_count": 15,
   "metadata": {},
   "outputs": [
    {
     "name": "stdout",
     "output_type": "stream",
     "text": [
      "['ArithmeticError', 'AssertionError', 'AttributeError', 'BaseException', 'BlockingIOError', 'BrokenPipeError', 'BufferError', 'BytesWarning', 'ChildProcessError', 'ConnectionAbortedError', 'ConnectionError', 'ConnectionRefusedError', 'ConnectionResetError', 'DeprecationWarning', 'EOFError', 'Ellipsis', 'EnvironmentError', 'Exception', 'False', 'FileExistsError', 'FileNotFoundError', 'FloatingPointError', 'FutureWarning', 'GeneratorExit', 'IOError', 'ImportError', 'ImportWarning', 'IndentationError', 'IndexError', 'InterruptedError', 'IsADirectoryError', 'KeyError', 'KeyboardInterrupt', 'LookupError', 'MemoryError', 'ModuleNotFoundError', 'NameError', 'None', 'NotADirectoryError', 'NotImplemented', 'NotImplementedError', 'OSError', 'OverflowError', 'PendingDeprecationWarning', 'PermissionError', 'ProcessLookupError', 'RecursionError', 'ReferenceError', 'ResourceWarning', 'RuntimeError', 'RuntimeWarning', 'StopAsyncIteration', 'StopIteration', 'SyntaxError', 'SyntaxWarning', 'SystemError', 'SystemExit', 'TabError', 'TimeoutError', 'True', 'TypeError', 'UnboundLocalError', 'UnicodeDecodeError', 'UnicodeEncodeError', 'UnicodeError', 'UnicodeTranslateError', 'UnicodeWarning', 'UserWarning', 'ValueError', 'Warning', 'WindowsError', 'ZeroDivisionError', '__IPYTHON__', '__build_class__', '__debug__', '__doc__', '__import__', '__loader__', '__name__', '__package__', '__spec__', 'abs', 'all', 'any', 'ascii', 'bin', 'bool', 'bytearray', 'bytes', 'callable', 'chr', 'classmethod', 'compile', 'complex', 'copyright', 'credits', 'delattr', 'dict', 'dir', 'display', 'divmod', 'enumerate', 'eval', 'exec', 'filter', 'float', 'format', 'frozenset', 'get_ipython', 'getattr', 'globals', 'hasattr', 'hash', 'help', 'hex', 'id', 'input', 'int', 'isinstance', 'issubclass', 'iter', 'len', 'license', 'list', 'locals', 'map', 'max', 'memoryview', 'min', 'next', 'object', 'oct', 'open', 'ord', 'pow', 'print', 'property', 'range', 'repr', 'reversed', 'round', 'set', 'setattr', 'slice', 'sorted', 'staticmethod', 'str', 'sum', 'super', 'tuple', 'type', 'vars', 'zip']\n"
     ]
    }
   ],
   "source": [
    "print(dir(__builtins__))"
   ]
  },
  {
   "cell_type": "code",
   "execution_count": null,
   "metadata": {},
   "outputs": [],
   "source": [
    "Class User \n",
    "__str__\n",
    "\n",
    "id name \n",
    "id name \n",
    "Admin "
   ]
  },
  {
   "cell_type": "code",
   "execution_count": null,
   "metadata": {},
   "outputs": [],
   "source": [
    "MRO => \n",
    "Diamond Problem :\n",
    "    A       B\n",
    "     interface \n",
    "        C"
   ]
  },
  {
   "cell_type": "code",
   "execution_count": null,
   "metadata": {},
   "outputs": [],
   "source": [
    "User :\n",
    "    id\n",
    "    fisrt_name\n",
    "    last_name\n",
    "    email\n",
    "    passsword\n",
    "    \n",
    "    getdetails \n",
    "    \n",
    "Admin\n",
    "    getdetails \n",
    "    \n",
    "Profile(User,Admin):     \n",
    "LinkinURL \n",
    "KYC details\n",
    "    super().get_deatils()"
   ]
  },
  {
   "cell_type": "code",
   "execution_count": 7,
   "metadata": {},
   "outputs": [
    {
     "name": "stdout",
     "output_type": "stream",
     "text": [
      "From user Admin\n",
      "Help on Profile in module __main__ object:\n",
      "\n",
      "class Profile(Admin, User)\n",
      " |  Method resolution order:\n",
      " |      Profile\n",
      " |      Admin\n",
      " |      User\n",
      " |      builtins.object\n",
      " |  \n",
      " |  Methods defined here:\n",
      " |  \n",
      " |  get_details(self)\n",
      " |  \n",
      " |  ----------------------------------------------------------------------\n",
      " |  Data descriptors inherited from Admin:\n",
      " |  \n",
      " |  __dict__\n",
      " |      dictionary for instance variables (if defined)\n",
      " |  \n",
      " |  __weakref__\n",
      " |      list of weak references to the object (if defined)\n",
      "\n"
     ]
    }
   ],
   "source": [
    "class User:\n",
    "    def __init__(self,name):\n",
    "        self._name = name\n",
    "        \n",
    "    def get_details(self):\n",
    "        print(\"From user class\")\n",
    "\n",
    "class Admin:\n",
    "    def get_details(self):\n",
    "        print(\"From user Admin\")\n",
    "        \n",
    "class Profile(Admin,User):\n",
    "    def get_details(self):\n",
    "        super().get_details()\n",
    "\n",
    "p1 = Profile()\n",
    "p1.get_details()\n",
    "help(p1)\n",
    "\n",
    "# User Admin \n",
    "#    profile "
   ]
  },
  {
   "cell_type": "code",
   "execution_count": 9,
   "metadata": {},
   "outputs": [
    {
     "name": "stdout",
     "output_type": "stream",
     "text": [
      "10 20 30\n"
     ]
    }
   ],
   "source": [
    "def add(num1,num2):\n",
    "    print(num1,num2)\n",
    "    \n",
    "def add(*args):\n",
    "    if \n",
    "    print(num1,num2,num3)\n",
    "\n",
    "# add(10,20)    \n",
    "add(10,20,30)\n",
    "method overloading => two methods same name but \n",
    "        1 no of parameter \n",
    "        2 type of pameter \n"
   ]
  },
  {
   "cell_type": "code",
   "execution_count": 1,
   "metadata": {},
   "outputs": [
    {
     "name": "stdout",
     "output_type": "stream",
     "text": [
      "<class 'type'>\n",
      "<class 'type'>\n"
     ]
    }
   ],
   "source": [
    "class A:\n",
    "    pass\n",
    "print(type(A))\n",
    "\n",
    "class B(object):\n",
    "    pass\n",
    "print(type(B))\n",
    "\n",
    "slots \n",
    "\n",
    "del "
   ]
  },
  {
   "cell_type": "code",
   "execution_count": null,
   "metadata": {},
   "outputs": [],
   "source": [
    "Type : A\n",
    "    \n",
    "List "
   ]
  },
  {
   "cell_type": "code",
   "execution_count": null,
   "metadata": {},
   "outputs": [],
   "source": [
    "Type   Object => new class style   "
   ]
  },
  {
   "cell_type": "code",
   "execution_count": 22,
   "metadata": {},
   "outputs": [
    {
     "name": "stdout",
     "output_type": "stream",
     "text": [
      "<class 'list'>\n"
     ]
    }
   ],
   "source": [
    "l = [10,20,30]\n",
    "print(type(l))"
   ]
  },
  {
   "cell_type": "code",
   "execution_count": null,
   "metadata": {},
   "outputs": [],
   "source": [
    "\n",
    "{\n",
    "    \"name\" :[\"number fount\",\"special char found \"].\n",
    "    \n",
    "}\n",
    "\n"
   ]
  },
  {
   "cell_type": "code",
   "execution_count": 23,
   "metadata": {},
   "outputs": [
    {
     "ename": "SyntaxError",
     "evalue": "unexpected EOF while parsing (<ipython-input-23-4ba3c0b388c3>, line 15)",
     "output_type": "error",
     "traceback": [
      "\u001b[1;36m  File \u001b[1;32m\"<ipython-input-23-4ba3c0b388c3>\"\u001b[1;36m, line \u001b[1;32m15\u001b[0m\n\u001b[1;33m    #     print(\"Something went wrong\",e)\u001b[0m\n\u001b[1;37m                                         ^\u001b[0m\n\u001b[1;31mSyntaxError\u001b[0m\u001b[1;31m:\u001b[0m unexpected EOF while parsing\n"
     ]
    }
   ],
   "source": [
    "\n",
    "\n",
    "try:\n",
    "#     raise IndexError\n",
    "    print(a)\n",
    "#     print(a)\n",
    "#     print(10 / 0)\n",
    "#     l = [10,20,30,40]\n",
    "#     print(l[100])\n",
    "# except IndexError as e:\n",
    "#     print(\"Invalid index\",e)\n",
    "# except ZeroDivisionError:\n",
    "#     print(\"can not deivide by zero\")\n",
    "# except Exception as e:\n",
    "#     print(\"Something went wrong\",e)"
   ]
  },
  {
   "cell_type": "code",
   "execution_count": 29,
   "metadata": {},
   "outputs": [
    {
     "name": "stdout",
     "output_type": "stream",
     "text": [
      "getting here\n",
      "Hello\n"
     ]
    }
   ],
   "source": [
    "try:\n",
    "    print(10/0)\n",
    "except:\n",
    "    pass\n",
    "finally:\n",
    "    print(\"getting here\")\n",
    "print(\"Hello\")"
   ]
  },
  {
   "cell_type": "code",
   "execution_count": 30,
   "metadata": {},
   "outputs": [
    {
     "name": "stdout",
     "output_type": "stream",
     "text": [
      "UDE Getting User define exception\n"
     ]
    }
   ],
   "source": [
    "class ValueLessThan50(Exception):\n",
    "    pass\n",
    "\n",
    "a = 10\n",
    "try:\n",
    "    if a< 50:\n",
    "        raise ValueLessThan50(\"Getting User define exception\")\n",
    "except ValueLessThan50 as e:\n",
    "    print(\"UDE\",e)"
   ]
  },
  {
   "cell_type": "code",
   "execution_count": 26,
   "metadata": {},
   "outputs": [],
   "source": [
    "try:\n",
    "    try:\n",
    "        print(10/0)\n",
    "    except:\n",
    "        pass\n",
    "except:\n",
    "    print(\"Check\")"
   ]
  },
  {
   "cell_type": "code",
   "execution_count": 22,
   "metadata": {},
   "outputs": [
    {
     "name": "stdout",
     "output_type": "stream",
     "text": [
      "['ArithmeticError', 'AssertionError', 'AttributeError', 'BaseException', 'BlockingIOError', 'BrokenPipeError', 'BufferError', 'BytesWarning', 'ChildProcessError', 'ConnectionAbortedError', 'ConnectionError', 'ConnectionRefusedError', 'ConnectionResetError', 'DeprecationWarning', 'EOFError', 'Ellipsis', 'EnvironmentError', 'Exception', 'False', 'FileExistsError', 'FileNotFoundError', 'FloatingPointError', 'FutureWarning', 'GeneratorExit', 'IOError', 'ImportError', 'ImportWarning', 'IndentationError', 'IndexError', 'InterruptedError', 'IsADirectoryError', 'KeyError', 'KeyboardInterrupt', 'LookupError', 'MemoryError', 'ModuleNotFoundError', 'NameError', 'None', 'NotADirectoryError', 'NotImplemented', 'NotImplementedError', 'OSError', 'OverflowError', 'PendingDeprecationWarning', 'PermissionError', 'ProcessLookupError', 'RecursionError', 'ReferenceError', 'ResourceWarning', 'RuntimeError', 'RuntimeWarning', 'StopAsyncIteration', 'StopIteration', 'SyntaxError', 'SyntaxWarning', 'SystemError', 'SystemExit', 'TabError', 'TimeoutError', 'True', 'TypeError', 'UnboundLocalError', 'UnicodeDecodeError', 'UnicodeEncodeError', 'UnicodeError', 'UnicodeTranslateError', 'UnicodeWarning', 'UserWarning', 'ValueError', 'Warning', 'WindowsError', 'ZeroDivisionError', '__IPYTHON__', '__build_class__', '__debug__', '__doc__', '__import__', '__loader__', '__name__', '__package__', '__spec__', 'abs', 'all', 'any', 'ascii', 'bin', 'bool', 'bytearray', 'bytes', 'callable', 'chr', 'classmethod', 'compile', 'complex', 'copyright', 'credits', 'delattr', 'dict', 'dir', 'display', 'divmod', 'enumerate', 'eval', 'exec', 'filter', 'float', 'format', 'frozenset', 'get_ipython', 'getattr', 'globals', 'hasattr', 'hash', 'help', 'hex', 'id', 'input', 'int', 'isinstance', 'issubclass', 'iter', 'len', 'license', 'list', 'locals', 'map', 'max', 'memoryview', 'min', 'next', 'object', 'oct', 'open', 'ord', 'pow', 'print', 'property', 'range', 'repr', 'reversed', 'round', 'set', 'setattr', 'slice', 'sorted', 'staticmethod', 'str', 'sum', 'super', 'tuple', 'type', 'vars', 'zip']\n"
     ]
    }
   ],
   "source": [
    "print(dir(__builtins__))"
   ]
  },
  {
   "cell_type": "code",
   "execution_count": null,
   "metadata": {},
   "outputs": [],
   "source": [
    "raise "
   ]
  },
  {
   "cell_type": "code",
   "execution_count": null,
   "metadata": {},
   "outputs": [],
   "source": [
    "Exception "
   ]
  },
  {
   "cell_type": "code",
   "execution_count": null,
   "metadata": {},
   "outputs": [],
   "source": [
    "Iterators,Gen,Decorators \n",
    "List Comprehension, Map,Filer \n",
    "Web Scraping\n",
    "Db Access \n",
    "\n",
    "sys \n",
    "os \n",
    "csv\n",
    "packaging \n",
    "pdb \n"
   ]
  },
  {
   "cell_type": "code",
   "execution_count": 1,
   "metadata": {},
   "outputs": [
    {
     "name": "stdout",
     "output_type": "stream",
     "text": [
      "Automatic pdb calling has been turned ON\n",
      "10 20\n"
     ]
    }
   ],
   "source": [
    "%pdb\n",
    "\n",
    "def add(num1,num2):\n",
    "    print(num1,num2)\n",
    "    num3 = num1 + num2 \n",
    "    return num3\n",
    "\n",
    "def main():\n",
    "    add(10,20)    \n",
    "\n",
    "if __name__ == '__main__':\n",
    "    main()"
   ]
  }
 ],
 "metadata": {
  "kernelspec": {
   "display_name": "Python 3",
   "language": "python",
   "name": "python3"
  },
  "language_info": {
   "codemirror_mode": {
    "name": "ipython",
    "version": 3
   },
   "file_extension": ".py",
   "mimetype": "text/x-python",
   "name": "python",
   "nbconvert_exporter": "python",
   "pygments_lexer": "ipython3",
   "version": "3.6.5"
  }
 },
 "nbformat": 4,
 "nbformat_minor": 2
}
