{
  "nbformat": 4,
  "nbformat_minor": 0,
  "metadata": {
    "colab": {
      "provenance": []
    },
    "kernelspec": {
      "name": "python3",
      "display_name": "Python 3"
    },
    "language_info": {
      "name": "python"
    }
  },
  "cells": [
    {
      "cell_type": "code",
      "execution_count": null,
      "metadata": {
        "id": "NcF2fTg1lbKp"
      },
      "outputs": [],
      "source": []
    },
    {
      "cell_type": "markdown",
      "source": [
        "Q1. Explain why we have to use the Exception class while creating a Custom Exception.\n",
        "\n",
        "Ans:\n",
        "- We use the Exception class as the base class while creating a custom exception because it provides the basic functionality and structure needed for an exception. By inheriting from the Exception class, our custom exception inherits all the properties and methods of the Exception class, making it easier to handle and manage exceptions in our code."
      ],
      "metadata": {
        "id": "eD4mm_bLl02c"
      }
    },
    {
      "cell_type": "markdown",
      "source": [
        "Q2. Write a Python program to print Python Exception Hierarchy."
      ],
      "metadata": {
        "id": "5ciZMbvbl-my"
      }
    },
    {
      "cell_type": "code",
      "source": [
        "for cls in Exception.__subclasses__():\n",
        "  print(cls.__name__)"
      ],
      "metadata": {
        "colab": {
          "base_uri": "https://localhost:8080/"
        },
        "id": "-kfwgUskmHRM",
        "outputId": "49c8dcef-1844-433d-9e7f-9fbd88dbece9"
      },
      "execution_count": 1,
      "outputs": [
        {
          "output_type": "stream",
          "name": "stdout",
          "text": [
            "TypeError\n",
            "StopAsyncIteration\n",
            "StopIteration\n",
            "ImportError\n",
            "OSError\n",
            "EOFError\n",
            "RuntimeError\n",
            "NameError\n",
            "AttributeError\n",
            "SyntaxError\n",
            "LookupError\n",
            "ValueError\n",
            "AssertionError\n",
            "ArithmeticError\n",
            "SystemError\n",
            "ReferenceError\n",
            "MemoryError\n",
            "BufferError\n",
            "Warning\n",
            "_OptionError\n",
            "error\n",
            "Verbose\n",
            "Error\n",
            "_Error\n",
            "SubprocessError\n",
            "Error\n",
            "TokenError\n",
            "StopTokenizing\n",
            "error\n",
            "LZMAError\n",
            "RegistryError\n",
            "_GiveupOnFastCopy\n",
            "ClassFoundException\n",
            "EndOfBlock\n",
            "TraitError\n",
            "_GiveupOnSendfile\n",
            "error\n",
            "PickleError\n",
            "_Stop\n",
            "Empty\n",
            "Full\n",
            "ArgumentError\n",
            "ArgumentTypeError\n",
            "ConfigError\n",
            "ConfigurableError\n",
            "ApplicationError\n",
            "ErrorDuringImport\n",
            "BdbQuit\n",
            "Restart\n",
            "ExceptionPexpect\n",
            "error\n",
            "PtyProcessError\n",
            "FindCmdError\n",
            "HomeDirError\n",
            "ProfileDirError\n",
            "IPythonCoreError\n",
            "InputRejected\n",
            "GetoptError\n",
            "Incomplete\n",
            "OptionError\n",
            "ErrorToken\n",
            "PrefilterError\n",
            "AliasError\n",
            "Error\n",
            "Warning\n",
            "Error\n",
            "TimeoutError\n",
            "InvalidStateError\n",
            "LimitOverrunError\n",
            "QueueEmpty\n",
            "QueueFull\n",
            "SpaceInInput\n",
            "DOMException\n",
            "ValidationError\n",
            "EditReadOnlyBuffer\n",
            "_Retry\n",
            "InvalidLayoutError\n",
            "HeightIsUnknownError\n",
            "MessageError\n",
            "Error\n",
            "HTTPException\n",
            "InteractivelyDefined\n",
            "KillEmbedded\n",
            "ArgumentError\n",
            "ZMQBaseError\n",
            "NoIPAddresses\n",
            "Error\n",
            "InvalidPortNumber\n",
            "DuplicateKernelError\n",
            "error\n",
            "ReturnValueIgnoredError\n",
            "KeyReuseError\n",
            "UnknownKeyError\n",
            "LeakedCallbackError\n",
            "BadYieldError\n",
            "ReturnValueIgnoredError\n",
            "Return\n",
            "QueueEmpty\n",
            "QueueFull\n",
            "DistutilsError\n",
            "CCompilerError\n",
            "BadZipFile\n",
            "LargeZipFile\n",
            "Error\n",
            "ParserSyntaxError\n",
            "Error\n",
            "WidgetException\n",
            "JsException\n",
            "ConverterError\n",
            "MAError\n",
            "FormattedTracebackError\n",
            "Error\n",
            "_Ipv6UnsupportedError\n",
            "ParseBaseException\n",
            "RecursiveGrammarException\n",
            "HttpLib2Error\n",
            "ExpatError\n",
            "DecompressionBombError\n",
            "FFIError\n",
            "CDefError\n",
            "VerificationError\n",
            "VerificationMissing\n",
            "PkgConfigError\n",
            "BadRequiredStrength\n",
            "DuplicateConstraint\n",
            "DuplicateEditVariable\n",
            "UnknownConstraint\n",
            "UnknownEditVariable\n",
            "UnsatisfiableConstraint\n",
            "NonGuiException\n",
            "InvalidIndexError\n",
            "TerminateTrajectory\n",
            "NoFreePortFoundError\n",
            "DebuggerInitializationError\n",
            "Error\n",
            "ParserSyntaxError\n",
            "ResolutionError\n",
            "_Error\n",
            "UnableToResolveVariableException\n",
            "InvalidTypeInArgsException\n"
          ]
        }
      ]
    },
    {
      "cell_type": "markdown",
      "source": [
        "Q3. What errors are defined in the ArithmeticError class? Explain any two with an example.\n",
        "\n",
        "Ans:\n",
        "- The ArithmeticError class defines errors that occur during arithmetic operations. Two common errors are:\n",
        "1. OverflowError: Raised when the result of an arithmetic operation is too large to be represented."
      ],
      "metadata": {
        "id": "AujKSDKdmSVd"
      }
    },
    {
      "cell_type": "code",
      "source": [
        "try:\n",
        "    result = 10 ** 1000\n",
        "except OverflowError as e:\n",
        "    print(f\"OverflowError: {e}\")\n"
      ],
      "metadata": {
        "id": "RBh-YckdmQzb"
      },
      "execution_count": 3,
      "outputs": []
    },
    {
      "cell_type": "markdown",
      "source": [
        "2. ZeroDivisionError: Raised when division or modulo operation is performed with zero as the divisor."
      ],
      "metadata": {
        "id": "NOZX4PRjm3xe"
      }
    },
    {
      "cell_type": "code",
      "source": [
        "try:\n",
        "    result = 10 / 0\n",
        "except ZeroDivisionError as e:\n",
        "    print(f\"ZeroDivisionError: {e}\")\n"
      ],
      "metadata": {
        "colab": {
          "base_uri": "https://localhost:8080/"
        },
        "id": "7fTnrYqFm71Z",
        "outputId": "b7403d68-3822-4d5b-ec0d-18328df9e087"
      },
      "execution_count": 4,
      "outputs": [
        {
          "output_type": "stream",
          "name": "stdout",
          "text": [
            "ZeroDivisionError: division by zero\n"
          ]
        }
      ]
    },
    {
      "cell_type": "markdown",
      "source": [
        "Q4. Why is the LookupError class used? Explain with an example KeyError and IndexError.\n",
        "\n",
        "Ans:\n",
        "- The LookupError class is used to handle errors related to accessing elements from a sequence or mapping. Two common errors are:\n",
        "1. KeyError: Raised when a dictionary key is not found.\n",
        "python\n"
      ],
      "metadata": {
        "id": "_vXF5fIunACt"
      }
    },
    {
      "cell_type": "code",
      "source": [
        "try:\n",
        "    dictionary = {'a': 1, 'b': 2}\n",
        "    value = dictionary['c']\n",
        "except KeyError as e:\n",
        "    print(f\"KeyError: {e}\")\n"
      ],
      "metadata": {
        "colab": {
          "base_uri": "https://localhost:8080/"
        },
        "id": "Ghjx3k29mvK8",
        "outputId": "3643a82c-da7b-4687-88da-4d07162dbe37"
      },
      "execution_count": 5,
      "outputs": [
        {
          "output_type": "stream",
          "name": "stdout",
          "text": [
            "KeyError: 'c'\n"
          ]
        }
      ]
    },
    {
      "cell_type": "markdown",
      "source": [
        "2. IndexError: Raised when trying to access an index that is out of range."
      ],
      "metadata": {
        "id": "H1FHYGfMnJmQ"
      }
    },
    {
      "cell_type": "code",
      "source": [
        "try:\n",
        "    lst = [1, 2, 3]\n",
        "    value = lst[3]\n",
        "except IndexError as e:\n",
        "    print(f\"IndexError: {e}\")\n"
      ],
      "metadata": {
        "colab": {
          "base_uri": "https://localhost:8080/"
        },
        "id": "WYccEeernOoE",
        "outputId": "d044adea-6ed6-4a7d-c756-4995d4324cee"
      },
      "execution_count": 6,
      "outputs": [
        {
          "output_type": "stream",
          "name": "stdout",
          "text": [
            "IndexError: list index out of range\n"
          ]
        }
      ]
    },
    {
      "cell_type": "markdown",
      "source": [
        "Q5. Explain ImportError. What is ModuleNotFoundError?\n",
        "\n",
        "Ans:\n",
        "- ImportError is raised when an import statement fails to find the specified module.\n",
        "- ModuleNotFoundError is a subclass of ImportError and is raised specifically when the requested module cannot be found."
      ],
      "metadata": {
        "id": "CClJOezCnS9T"
      }
    },
    {
      "cell_type": "code",
      "source": [
        "try:\n",
        "    import non_existing_module\n",
        "except ImportError as e:\n",
        "    print(f\"ImportError: {e}\")\n",
        "except ModuleNotFoundError as e:\n",
        "    print(f\"ModuleNotFoundError: {e}\")\n"
      ],
      "metadata": {
        "colab": {
          "base_uri": "https://localhost:8080/"
        },
        "id": "1uyeFh7wnQQi",
        "outputId": "a7f0a5c6-5152-42dc-b658-551f6da2adc3"
      },
      "execution_count": 7,
      "outputs": [
        {
          "output_type": "stream",
          "name": "stdout",
          "text": [
            "ImportError: No module named 'non_existing_module'\n"
          ]
        }
      ]
    },
    {
      "cell_type": "markdown",
      "source": [
        "Q6. List down some best practices for exception handling in Python.\n",
        "\n",
        "Ans:\n",
        "- Be specific in handling exceptions.\n",
        "- Use try-except blocks only where exceptions are expected.\n",
        "- Avoid catching generic exceptions like Exception or BaseException.\n",
        "- Use finally block for cleanup tasks.\n",
        "- Provide informative error messages.\n",
        "- Use context managers (with statement) for resource management.\n",
        "- Use custom exceptions for specific error conditions.\n",
        "- Document exception handling strategies in code comments."
      ],
      "metadata": {
        "id": "F9mmORD5nb-0"
      }
    },
    {
      "cell_type": "code",
      "source": [],
      "metadata": {
        "id": "ioYxeReNnZdg"
      },
      "execution_count": null,
      "outputs": []
    }
  ]
}