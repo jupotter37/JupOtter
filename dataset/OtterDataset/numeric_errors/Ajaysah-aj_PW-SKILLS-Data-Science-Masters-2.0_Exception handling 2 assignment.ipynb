{
 "cells": [
  {
   "cell_type": "markdown",
   "id": "9a49f78c-02ee-4caa-9857-00cee38f01a2",
   "metadata": {},
   "source": [
    "Q1. Explain why we have to use the Exception class while creating a Custom Exception.\n",
    "Note: Here Exception class refers to the base class for all the exceptions."
   ]
  },
  {
   "cell_type": "markdown",
   "id": "d4776c8f-bf48-4feb-bc08-07b4db455819",
   "metadata": {},
   "source": [
    "When creating a custom exception in Python, you subclass the Exception class (or another more specific exception class) because Exception is the base class for all standard exceptions in Python. Subclassing Exception allows your custom exception to integrate seamlessly with Python's exception-handling mechanisms. Here’s why this is important:\n",
    "\n",
    "1. Inheritance of Exception Behavior\n",
    "By subclassing Exception, your custom exception inherits all the functionality and behavior of a standard Python exception, including:\n",
    "\n",
    "Error Propagation: The ability to propagate up the call stack when not caught, just like built-in exceptions.\n",
    "Traceback Generation: When an exception is raised, Python generates a traceback, which helps identify where the error occurred. This feature is automatically inherited.\n",
    "Exception Handling: Your custom exception can be caught and handled using try, except, else, and finally blocks, just like any other exception.\n",
    "2. Consistency with Built-in Exceptions\n",
    "Subclassing Exception ensures that your custom exceptions behave consistently with Python's built-in exceptions. This includes:\n",
    "\n",
    "Standard Interface: Custom exceptions will work with any Python code that expects exceptions to derive from Exception, making them easier to use in a broader context (e.g., in libraries or frameworks).\n",
    "Readability and Maintainability: Other developers (or even you in the future) will expect custom exceptions to behave like standard exceptions. Subclassing Exception adheres to this expectation.\n",
    "3. Customizing Exception Handling\n",
    "When you subclass Exception, you can override methods (such as __str__ or __repr__) to provide custom error messages or behaviors, while still maintaining the core functionality of exceptions. This allows for greater flexibility in how errors are reported and handled."
   ]
  },
  {
   "cell_type": "code",
   "execution_count": 1,
   "id": "efa2e7b4-d889-488d-89aa-903d70d1484a",
   "metadata": {},
   "outputs": [],
   "source": [
    "class InvalidAgeError(Exception):\n",
    "    def __init__(self, age, message=\"Age must be between 0 and 120\"):\n",
    "        self.age = age\n",
    "        self.message = message\n",
    "        super().__init__(self.message)\n",
    "\n",
    "    def __str__(self):\n",
    "        return f'{self.age}: {self.message}'\n"
   ]
  },
  {
   "cell_type": "markdown",
   "id": "42e53187-99fa-494a-88cf-ac7a8b7e9416",
   "metadata": {},
   "source": [
    "Q2. Write a python program to print Python Exception Hierarchy."
   ]
  },
  {
   "cell_type": "code",
   "execution_count": 2,
   "id": "3d6edd06-3f11-49df-a2f4-f0d47e48f487",
   "metadata": {},
   "outputs": [
    {
     "name": "stdout",
     "output_type": "stream",
     "text": [
      "BaseException\n",
      "  Exception\n",
      "    TypeError\n",
      "      FloatOperation\n",
      "      MultipartConversionError\n",
      "    StopAsyncIteration\n",
      "    StopIteration\n",
      "    ImportError\n",
      "      ModuleNotFoundError\n",
      "      ZipImportError\n",
      "    OSError\n",
      "      ConnectionError\n",
      "        BrokenPipeError\n",
      "        ConnectionAbortedError\n",
      "        ConnectionRefusedError\n",
      "        ConnectionResetError\n",
      "          RemoteDisconnected\n",
      "      BlockingIOError\n",
      "      ChildProcessError\n",
      "      FileExistsError\n",
      "      FileNotFoundError\n",
      "      IsADirectoryError\n",
      "      NotADirectoryError\n",
      "      InterruptedError\n",
      "        InterruptedSystemCall\n",
      "      PermissionError\n",
      "      ProcessLookupError\n",
      "      TimeoutError\n",
      "      UnsupportedOperation\n",
      "      itimer_error\n",
      "      herror\n",
      "      gaierror\n",
      "      SSLError\n",
      "        SSLCertVerificationError\n",
      "        SSLZeroReturnError\n",
      "        SSLWantWriteError\n",
      "        SSLWantReadError\n",
      "        SSLSyscallError\n",
      "        SSLEOFError\n",
      "      Error\n",
      "        SameFileError\n",
      "      SpecialFileError\n",
      "      ExecError\n",
      "      ReadError\n",
      "      URLError\n",
      "        HTTPError\n",
      "        ContentTooShortError\n",
      "      BadGzipFile\n",
      "    EOFError\n",
      "      IncompleteReadError\n",
      "    RuntimeError\n",
      "      RecursionError\n",
      "      NotImplementedError\n",
      "        ZMQVersionError\n",
      "        StdinNotImplementedError\n",
      "      _DeadlockError\n",
      "      BrokenBarrierError\n",
      "      BrokenExecutor\n",
      "        BrokenThreadPool\n",
      "      SendfileNotAvailableError\n",
      "      ExtractionError\n",
      "      VariableError\n",
      "    NameError\n",
      "      UnboundLocalError\n",
      "    AttributeError\n",
      "      FrozenInstanceError\n",
      "    SyntaxError\n",
      "      IndentationError\n",
      "        TabError\n",
      "    LookupError\n",
      "      IndexError\n",
      "      KeyError\n",
      "        NoSuchKernel\n",
      "        UnknownBackend\n",
      "      CodecRegistryError\n",
      "    ValueError\n",
      "      UnicodeError\n",
      "        UnicodeEncodeError\n",
      "        UnicodeDecodeError\n",
      "        UnicodeTranslateError\n",
      "      UnsupportedOperation\n",
      "      JSONDecodeError\n",
      "      SSLCertVerificationError\n",
      "      Error\n",
      "      UnsupportedDigestmodError\n",
      "      IllegalMonthError\n",
      "      IllegalWeekdayError\n",
      "      ParserError\n",
      "      ClassNotFound\n",
      "      ClipboardEmpty\n",
      "      MessageDefect\n",
      "        NoBoundaryInMultipartDefect\n",
      "        StartBoundaryNotFoundDefect\n",
      "        CloseBoundaryNotFoundDefect\n",
      "        FirstHeaderLineIsContinuationDefect\n",
      "        MisplacedEnvelopeHeaderDefect\n",
      "        MissingHeaderBodySeparatorDefect\n",
      "        MultipartInvariantViolationDefect\n",
      "        InvalidMultipartContentTransferEncodingDefect\n",
      "        UndecodableBytesDefect\n",
      "        InvalidBase64PaddingDefect\n",
      "        InvalidBase64CharactersDefect\n",
      "        InvalidBase64LengthDefect\n",
      "        HeaderDefect\n",
      "          InvalidHeaderDefect\n",
      "          HeaderMissingRequiredValue\n",
      "          NonPrintableDefect\n",
      "          ObsoleteHeaderDefect\n",
      "          NonASCIILocalPartDefect\n",
      "          InvalidDateDefect\n",
      "      MacroToEdit\n",
      "      InvalidFileException\n",
      "      UnequalIterablesError\n",
      "      InvalidVersion\n",
      "      _InvalidELFFileHeader\n",
      "      InvalidWheelFilename\n",
      "      InvalidSdistFilename\n",
      "      InvalidSpecifier\n",
      "      InvalidMarker\n",
      "      UndefinedComparison\n",
      "      UndefinedEnvironmentName\n",
      "      InvalidRequirement\n",
      "        RequirementParseError\n",
      "      InvalidVersion\n",
      "    AssertionError\n",
      "    ArithmeticError\n",
      "      FloatingPointError\n",
      "      OverflowError\n",
      "      ZeroDivisionError\n",
      "        DivisionByZero\n",
      "        DivisionUndefined\n",
      "      DecimalException\n",
      "        Clamped\n",
      "        Rounded\n",
      "          Underflow\n",
      "          Overflow\n",
      "        Inexact\n",
      "          Underflow\n",
      "          Overflow\n",
      "        Subnormal\n",
      "          Underflow\n",
      "        DivisionByZero\n",
      "        FloatOperation\n",
      "        InvalidOperation\n",
      "          ConversionSyntax\n",
      "          DivisionImpossible\n",
      "          DivisionUndefined\n",
      "          InvalidContext\n",
      "    SystemError\n",
      "      CodecRegistryError\n",
      "    ReferenceError\n",
      "    MemoryError\n",
      "    BufferError\n",
      "    Warning\n",
      "      UserWarning\n",
      "        GetPassWarning\n",
      "        FormatterWarning\n",
      "      EncodingWarning\n",
      "      DeprecationWarning\n",
      "        ProvisionalWarning\n",
      "      PendingDeprecationWarning\n",
      "      SyntaxWarning\n",
      "      RuntimeWarning\n",
      "        ProactorSelectorThreadWarning\n",
      "        UnknownTimezoneWarning\n",
      "        PEP440Warning\n",
      "      FutureWarning\n",
      "        ProvisionalCompleterWarning\n",
      "      ImportWarning\n",
      "      UnicodeWarning\n",
      "      BytesWarning\n",
      "      ResourceWarning\n",
      "      DeprecatedTzFormatWarning\n",
      "      PkgResourcesDeprecationWarning\n",
      "    _OptionError\n",
      "    _Error\n",
      "    error\n",
      "    Verbose\n",
      "    Error\n",
      "    SubprocessError\n",
      "      CalledProcessError\n",
      "      TimeoutExpired\n",
      "    TokenError\n",
      "    StopTokenizing\n",
      "    ClassFoundException\n",
      "    EndOfBlock\n",
      "    TraitError\n",
      "    Error\n",
      "    Error\n",
      "      CancelledError\n",
      "      TimeoutError\n",
      "      InvalidStateError\n",
      "    _GiveupOnSendfile\n",
      "    error\n",
      "    Incomplete\n",
      "    TimeoutError\n",
      "    InvalidStateError\n",
      "    LimitOverrunError\n",
      "    QueueEmpty\n",
      "    QueueFull\n",
      "    Empty\n",
      "    Full\n",
      "    ArgumentError\n",
      "    ZMQBaseError\n",
      "      ZMQError\n",
      "        ContextTerminated\n",
      "        Again\n",
      "        InterruptedSystemCall\n",
      "      ZMQBindError\n",
      "      NotDone\n",
      "    PickleError\n",
      "      PicklingError\n",
      "      UnpicklingError\n",
      "    _Stop\n",
      "    ArgumentError\n",
      "    ArgumentTypeError\n",
      "    ConfigError\n",
      "      ConfigLoaderError\n",
      "        ArgumentError\n",
      "      ConfigFileNotFound\n",
      "    ConfigurableError\n",
      "      MultipleInstanceError\n",
      "    ApplicationError\n",
      "    error\n",
      "    TimeoutError\n",
      "    error\n",
      "    ReturnValueIgnoredError\n",
      "    KeyReuseError\n",
      "    UnknownKeyError\n",
      "    LeakedCallbackError\n",
      "    BadYieldError\n",
      "    ReturnValueIgnoredError\n",
      "    Return\n",
      "    InvalidPortNumber\n",
      "    error\n",
      "    LZMAError\n",
      "    RegistryError\n",
      "    _GiveupOnFastCopy\n",
      "    Error\n",
      "      NoSectionError\n",
      "      DuplicateSectionError\n",
      "      DuplicateOptionError\n",
      "      NoOptionError\n",
      "      InterpolationError\n",
      "        InterpolationMissingOptionError\n",
      "        InterpolationSyntaxError\n",
      "        InterpolationDepthError\n",
      "      ParsingError\n",
      "        MissingSectionHeaderError\n",
      "    NoIPAddresses\n",
      "    BadZipFile\n",
      "    LargeZipFile\n",
      "    BadEntryPoint\n",
      "    NoSuchEntryPoint\n",
      "    DuplicateKernelError\n",
      "    ErrorDuringImport\n",
      "    NotOneValueFound\n",
      "    CannotEval\n",
      "    OptionError\n",
      "    BdbQuit\n",
      "    Restart\n",
      "    ExceptionPexpect\n",
      "      EOF\n",
      "      TIMEOUT\n",
      "    PtyProcessError\n",
      "    FindCmdError\n",
      "    HomeDirError\n",
      "    ProfileDirError\n",
      "    IPythonCoreError\n",
      "      TryNext\n",
      "      UsageError\n",
      "      StdinNotImplementedError\n",
      "    InputRejected\n",
      "    GetoptError\n",
      "    ErrorToken\n",
      "    PrefilterError\n",
      "    AliasError\n",
      "      InvalidAliasError\n",
      "    Error\n",
      "      InterfaceError\n",
      "      DatabaseError\n",
      "        InternalError\n",
      "        OperationalError\n",
      "        ProgrammingError\n",
      "        IntegrityError\n",
      "        DataError\n",
      "        NotSupportedError\n",
      "    Warning\n",
      "    SpaceInInput\n",
      "    DOMException\n",
      "      IndexSizeErr\n",
      "      DomstringSizeErr\n",
      "      HierarchyRequestErr\n",
      "      WrongDocumentErr\n",
      "      InvalidCharacterErr\n",
      "      NoDataAllowedErr\n",
      "      NoModificationAllowedErr\n",
      "      NotFoundErr\n",
      "      NotSupportedErr\n",
      "      InuseAttributeErr\n",
      "      InvalidStateErr\n",
      "      SyntaxErr\n",
      "      InvalidModificationErr\n",
      "      NamespaceErr\n",
      "      InvalidAccessErr\n",
      "      ValidationErr\n",
      "    ValidationError\n",
      "    EditReadOnlyBuffer\n",
      "    _Retry\n",
      "    InvalidLayoutError\n",
      "    HeightIsUnknownError\n",
      "    ParserSyntaxError\n",
      "    InternalParseError\n",
      "    _PositionUpdatingFinished\n",
      "    SimpleGetItemNotFound\n",
      "    UncaughtAttributeError\n",
      "    HasNoContext\n",
      "    ParamIssue\n",
      "    _JediError\n",
      "      InternalError\n",
      "      WrongVersion\n",
      "      RefactoringError\n",
      "    OnErrorLeaf\n",
      "    InvalidPythonEnvironment\n",
      "    MessageError\n",
      "      MessageParseError\n",
      "        HeaderParseError\n",
      "        BoundaryError\n",
      "      MultipartConversionError\n",
      "      CharsetError\n",
      "    Error\n",
      "    HTTPException\n",
      "      NotConnected\n",
      "      InvalidURL\n",
      "      UnknownProtocol\n",
      "      UnknownTransferEncoding\n",
      "      UnimplementedFileMode\n",
      "      IncompleteRead\n",
      "      ImproperConnectionState\n",
      "        CannotSendRequest\n",
      "        CannotSendHeader\n",
      "        ResponseNotReady\n",
      "      BadStatusLine\n",
      "        RemoteDisconnected\n",
      "      LineTooLong\n",
      "    InteractivelyDefined\n",
      "    KillEmbedded\n",
      "    Error\n",
      "      NoSuchProcess\n",
      "        ZombieProcess\n",
      "      AccessDenied\n",
      "      TimeoutExpired\n",
      "    _Ipv6UnsupportedError\n",
      "    QueueEmpty\n",
      "    QueueFull\n",
      "    DebuggerInitializationError\n",
      "    ExpatError\n",
      "    Error\n",
      "      ProtocolError\n",
      "      ResponseError\n",
      "      Fault\n",
      "    ParseBaseException\n",
      "      ParseException\n",
      "      ParseFatalException\n",
      "        ParseSyntaxException\n",
      "    RecursiveGrammarException\n",
      "    ResolutionError\n",
      "      VersionConflict\n",
      "        ContextualVersionConflict\n",
      "      DistributionNotFound\n",
      "      UnknownExtra\n",
      "    _Error\n",
      "    UnableToResolveVariableException\n",
      "    InvalidTypeInArgsException\n",
      "    InvalidAgeError\n",
      "  GeneratorExit\n",
      "  SystemExit\n",
      "  KeyboardInterrupt\n",
      "  CancelledError\n",
      "  AbortThread\n"
     ]
    }
   ],
   "source": [
    "import inspect\n",
    "\n",
    "def print_exception_hierarchy(cls, indent=0):\n",
    "    print(' ' * indent + cls.__name__)\n",
    "    for subclass in cls.__subclasses__():\n",
    "        print_exception_hierarchy(subclass, indent + 2)\n",
    "\n",
    "# Start from BaseException which is the root of the exception hierarchy\n",
    "print_exception_hierarchy(BaseException)\n"
   ]
  },
  {
   "cell_type": "markdown",
   "id": "b435336b-8861-4e37-98d9-9ac5f2322644",
   "metadata": {},
   "source": [
    "Q3. What errors are defined in the ArithmeticError class? Explain any two with an example."
   ]
  },
  {
   "cell_type": "markdown",
   "id": "0692cb45-8b7b-4451-b045-c035dff4e619",
   "metadata": {},
   "source": [
    "The ArithmeticError class in Python is a built-in exception class that serves as the base class for errors that occur during numeric calculations. Several specific exceptions inherit from ArithmeticError, including:\n",
    "\n",
    "1.ZeroDivisionError: Raised when an attempt is made to divide by zero.\n",
    "2.OverflowError: Raised when the result of an arithmetic operation exceeds the maximum limit for a numeric type.\n",
    "3.FloatingPointError: Raised when a floating-point operation fails. This is rarely encountered in Python, as floating-point operations generally do not raise exceptions but may return special values like inf or `NaN."
   ]
  },
  {
   "cell_type": "markdown",
   "id": "ac7c2206-373c-4cf1-ae7a-8c960e83f117",
   "metadata": {},
   "source": [
    "1. ZeroDivisionError\n",
    "This error is raised when there is an attempt to divide a number by zero."
   ]
  },
  {
   "cell_type": "code",
   "execution_count": 3,
   "id": "9cd78323-a396-4c09-9dc8-5d2dbd7d790e",
   "metadata": {},
   "outputs": [
    {
     "name": "stdout",
     "output_type": "stream",
     "text": [
      "Error: division by zero\n"
     ]
    }
   ],
   "source": [
    "#Example:\n",
    "def divide(a, b):\n",
    "    return a / b\n",
    "\n",
    "try:\n",
    "    result = divide(10, 0)\n",
    "except ZeroDivisionError as e:\n",
    "    print(f\"Error: {e}\")\n",
    "\n"
   ]
  },
  {
   "cell_type": "markdown",
   "id": "58319878-8772-4b11-9651-f272e91f7d34",
   "metadata": {},
   "source": [
    "2. OverflowError\n",
    "This error is raised when the result of an arithmetic operation is too large to be represented within the available range of a numeric type."
   ]
  },
  {
   "cell_type": "code",
   "execution_count": 4,
   "id": "94aa7c6b-f5af-4f3b-bebe-052318645464",
   "metadata": {},
   "outputs": [
    {
     "name": "stdout",
     "output_type": "stream",
     "text": [
      "Error: math range error\n"
     ]
    }
   ],
   "source": [
    "#Example:\n",
    "import math\n",
    "\n",
    "try:\n",
    "    result = math.exp(1000)  # Attempt to calculate e^1000\n",
    "except OverflowError as e:\n",
    "    print(f\"Error: {e}\")\n",
    "\n"
   ]
  },
  {
   "cell_type": "markdown",
   "id": "fac20b65-839d-4467-af7d-86da5d0892ea",
   "metadata": {},
   "source": [
    "Q4. Why LookupError class is used? Explain with an example KeyError and IndexError."
   ]
  },
  {
   "cell_type": "markdown",
   "id": "8f0705b5-1946-4eb0-8867-8cb63b6c39bd",
   "metadata": {},
   "source": [
    "The LookupError class in Python is a built-in exception class that serves as the base class for errors that occur when a lookup operation fails. This can happen when you try to access an element in a data structure like a list, dictionary, or tuple, using an invalid key or index.\n",
    "\n",
    "The LookupError class itself is not typically raised directly but is instead a superclass for more specific exceptions like IndexError and KeyError."
   ]
  },
  {
   "cell_type": "markdown",
   "id": "b610327b-c1c0-4054-ba84-2757bbb8ed7d",
   "metadata": {},
   "source": [
    "1. KeyError\n",
    "A KeyError is raised when you try to access a dictionary with a key that doesn’t exist."
   ]
  },
  {
   "cell_type": "code",
   "execution_count": 5,
   "id": "20ee7cb6-7183-49f3-822a-1d712834d25f",
   "metadata": {},
   "outputs": [
    {
     "name": "stdout",
     "output_type": "stream",
     "text": [
      "KeyError: The key ''address'' does not exist in the dictionary.\n"
     ]
    }
   ],
   "source": [
    "#Example:\n",
    "my_dict = {'name': 'Ajay', 'age': 24}\n",
    "\n",
    "try:\n",
    "    value = my_dict['address']  # Attempting to access a non-existent key\n",
    "except KeyError as e:\n",
    "    print(f\"KeyError: The key '{e}' does not exist in the dictionary.\")\n"
   ]
  },
  {
   "cell_type": "markdown",
   "id": "9c6e94e4-f899-473e-97a8-9a743feac537",
   "metadata": {},
   "source": [
    "2. IndexError\n",
    "An IndexError is raised when you try to access an index in a list or a tuple that is out of the valid range."
   ]
  },
  {
   "cell_type": "code",
   "execution_count": 6,
   "id": "89b8f0e7-68b5-4049-b5da-39bebd6ade15",
   "metadata": {},
   "outputs": [
    {
     "name": "stdout",
     "output_type": "stream",
     "text": [
      "IndexError: list index out of range\n"
     ]
    }
   ],
   "source": [
    "my_list = [1, 2, 3]\n",
    "\n",
    "try:\n",
    "    value = my_list[5]  # Attempting to access an index that is out of range\n",
    "except IndexError as e:\n",
    "    print(f\"IndexError: {e}\")\n"
   ]
  },
  {
   "cell_type": "markdown",
   "id": "a8b25626-6c41-4216-902a-39ddf5f3a12f",
   "metadata": {},
   "source": [
    "Q5. Explain ImportError. What is ModuleNotFoundError?"
   ]
  },
  {
   "cell_type": "markdown",
   "id": "b0e60ef2-cd34-40e5-b8b4-21e89f827c74",
   "metadata": {},
   "source": [
    "ImportError\n",
    "ImportError is a built-in exception in Python that is raised when an import statement fails to find the module or when the imported module or its attributes cannot be loaded correctly. This error typically occurs in the following scenarios:\n",
    "\n",
    "1.Module Not Found: The module you are trying to import does not exist.\n",
    "2.Import Failure: The module exists, but there’s an issue within the module (like a syntax error or a missing dependency) that prevents it from being imported.\n",
    "3.Name Import Failure: You might be trying to import a specific name (function, class, or variable) from a module, and that name does not exist in the module.\n",
    "Example of ImportError:"
   ]
  },
  {
   "cell_type": "code",
   "execution_count": 7,
   "id": "2f010f85-0edc-45d4-8a55-f0acbb5d2bf1",
   "metadata": {},
   "outputs": [
    {
     "name": "stdout",
     "output_type": "stream",
     "text": [
      "ImportError: No module named 'non_existent_module'\n"
     ]
    }
   ],
   "source": [
    "try:\n",
    "    import non_existent_module  # Attempting to import a module that does not exist\n",
    "except ImportError as e:\n",
    "    print(f\"ImportError: {e}\")\n"
   ]
  },
  {
   "cell_type": "markdown",
   "id": "8cd1c629-25f1-4cd4-94f2-d7d4a3468984",
   "metadata": {},
   "source": [
    "ModuleNotFoundError\n",
    "ModuleNotFoundError is a subclass of ImportError that specifically occurs when the module you're trying to import cannot be found. This exception was introduced in Python 3.6 to provide a more specific error when a module is not found, making debugging easier.\n",
    "\n",
    "Before Python 3.6, failing to import a non-existent module would raise a general ImportError. From Python 3.6 onward, ModuleNotFoundError is used in cases where the module is not found.\n",
    "\n",
    "Example of ModuleNotFoundError:"
   ]
  },
  {
   "cell_type": "code",
   "execution_count": 8,
   "id": "0acad179-a55c-4dd1-8dcf-ceaf38bbb5f1",
   "metadata": {},
   "outputs": [
    {
     "name": "stdout",
     "output_type": "stream",
     "text": [
      "ModuleNotFoundError: No module named 'non_existent_module'\n"
     ]
    }
   ],
   "source": [
    "try:\n",
    "    import non_existent_module  # This raises ModuleNotFoundError\n",
    "except ModuleNotFoundError as e:\n",
    "    print(f\"ModuleNotFoundError: {e}\")\n"
   ]
  },
  {
   "cell_type": "markdown",
   "id": "d42aa493-d9fa-45fb-aa1c-2c3890e895cb",
   "metadata": {},
   "source": [
    "Q6. List down some best practices for exception handling in python."
   ]
  },
  {
   "cell_type": "markdown",
   "id": "db316e35-66dd-481a-bc01-02c3c9ec9cd9",
   "metadata": {},
   "source": [
    "Effective exception handling is crucial for writing robust, maintainable, and readable Python code. Here are some best practices for exception handling in Python:\n",
    "\n",
    "1. Use Specific Exceptions\n",
    "Why: Catching specific exceptions rather than using a general except clause helps in identifying and handling only the errors you expect.\n"
   ]
  },
  {
   "cell_type": "code",
   "execution_count": 9,
   "id": "30dfb99f-081a-48bb-8fc9-a920e97203f8",
   "metadata": {},
   "outputs": [
    {
     "name": "stdout",
     "output_type": "stream",
     "text": [
      "Cannot divide by zero!\n"
     ]
    }
   ],
   "source": [
    "#Example\n",
    "try:\n",
    "    result = 10 / 0\n",
    "except ZeroDivisionError:\n",
    "    print(\"Cannot divide by zero!\")\n"
   ]
  },
  {
   "cell_type": "markdown",
   "id": "00264de2-36d4-477f-82a7-3784d8630f21",
   "metadata": {},
   "source": [
    "2. Avoid Bare except Clauses\n",
    "Why: Bare except clauses (i.e., except:) catch all exceptions, including system-exiting exceptions like SystemExit and KeyboardInterrupt, which can make debugging difficult and lead to unexpected behavior.\n"
   ]
  },
  {
   "cell_type": "code",
   "execution_count": 10,
   "id": "2c667edb-5156-4491-87c5-da70792b3555",
   "metadata": {},
   "outputs": [
    {
     "name": "stdout",
     "output_type": "stream",
     "text": [
      "An error occurred: name 'some_function' is not defined\n"
     ]
    }
   ],
   "source": [
    "#Example\n",
    "try:\n",
    "    result = some_function()\n",
    "except Exception as e:\n",
    "    print(f\"An error occurred: {e}\")\n"
   ]
  },
  {
   "cell_type": "code",
   "execution_count": 11,
   "id": "b43dd87c-b8c6-4a67-9a43-c8798bbf01ed",
   "metadata": {},
   "outputs": [
    {
     "name": "stdout",
     "output_type": "stream",
     "text": [
      "An error occurred.\n"
     ]
    }
   ],
   "source": [
    "#Instead of:\n",
    "try:\n",
    "    result = some_function()\n",
    "except:\n",
    "    print(\"An error occurred.\")\n"
   ]
  },
  {
   "cell_type": "markdown",
   "id": "7a6f89a0-e9b1-469f-98d9-bd0f5f9d9ccd",
   "metadata": {},
   "source": [
    "3. Use finally for Cleanup Actions\n",
    "Why: The finally block is always executed, whether an exception was raised or not, making it ideal for cleanup actions like closing files or releasing resources."
   ]
  },
  {
   "cell_type": "code",
   "execution_count": 12,
   "id": "98864e3b-bae5-4e33-bd17-fc00fa436d58",
   "metadata": {},
   "outputs": [
    {
     "ename": "FileNotFoundError",
     "evalue": "[Errno 2] No such file or directory: 'example.txt'",
     "output_type": "error",
     "traceback": [
      "\u001b[0;31m---------------------------------------------------------------------------\u001b[0m",
      "\u001b[0;31mFileNotFoundError\u001b[0m                         Traceback (most recent call last)",
      "Cell \u001b[0;32mIn[12], line 2\u001b[0m\n\u001b[1;32m      1\u001b[0m \u001b[38;5;66;03m#Example\u001b[39;00m\n\u001b[0;32m----> 2\u001b[0m file \u001b[38;5;241m=\u001b[39m \u001b[38;5;28;43mopen\u001b[39;49m\u001b[43m(\u001b[49m\u001b[38;5;124;43m'\u001b[39;49m\u001b[38;5;124;43mexample.txt\u001b[39;49m\u001b[38;5;124;43m'\u001b[39;49m\u001b[43m,\u001b[49m\u001b[43m \u001b[49m\u001b[38;5;124;43m'\u001b[39;49m\u001b[38;5;124;43mr\u001b[39;49m\u001b[38;5;124;43m'\u001b[39;49m\u001b[43m)\u001b[49m\n\u001b[1;32m      3\u001b[0m \u001b[38;5;28;01mtry\u001b[39;00m:\n\u001b[1;32m      4\u001b[0m     content \u001b[38;5;241m=\u001b[39m file\u001b[38;5;241m.\u001b[39mread()\n",
      "File \u001b[0;32m/opt/conda/lib/python3.10/site-packages/IPython/core/interactiveshell.py:282\u001b[0m, in \u001b[0;36m_modified_open\u001b[0;34m(file, *args, **kwargs)\u001b[0m\n\u001b[1;32m    275\u001b[0m \u001b[38;5;28;01mif\u001b[39;00m file \u001b[38;5;129;01min\u001b[39;00m {\u001b[38;5;241m0\u001b[39m, \u001b[38;5;241m1\u001b[39m, \u001b[38;5;241m2\u001b[39m}:\n\u001b[1;32m    276\u001b[0m     \u001b[38;5;28;01mraise\u001b[39;00m \u001b[38;5;167;01mValueError\u001b[39;00m(\n\u001b[1;32m    277\u001b[0m         \u001b[38;5;124mf\u001b[39m\u001b[38;5;124m\"\u001b[39m\u001b[38;5;124mIPython won\u001b[39m\u001b[38;5;124m'\u001b[39m\u001b[38;5;124mt let you open fd=\u001b[39m\u001b[38;5;132;01m{\u001b[39;00mfile\u001b[38;5;132;01m}\u001b[39;00m\u001b[38;5;124m by default \u001b[39m\u001b[38;5;124m\"\u001b[39m\n\u001b[1;32m    278\u001b[0m         \u001b[38;5;124m\"\u001b[39m\u001b[38;5;124mas it is likely to crash IPython. If you know what you are doing, \u001b[39m\u001b[38;5;124m\"\u001b[39m\n\u001b[1;32m    279\u001b[0m         \u001b[38;5;124m\"\u001b[39m\u001b[38;5;124myou can use builtins\u001b[39m\u001b[38;5;124m'\u001b[39m\u001b[38;5;124m open.\u001b[39m\u001b[38;5;124m\"\u001b[39m\n\u001b[1;32m    280\u001b[0m     )\n\u001b[0;32m--> 282\u001b[0m \u001b[38;5;28;01mreturn\u001b[39;00m \u001b[43mio_open\u001b[49m\u001b[43m(\u001b[49m\u001b[43mfile\u001b[49m\u001b[43m,\u001b[49m\u001b[43m \u001b[49m\u001b[38;5;241;43m*\u001b[39;49m\u001b[43margs\u001b[49m\u001b[43m,\u001b[49m\u001b[43m \u001b[49m\u001b[38;5;241;43m*\u001b[39;49m\u001b[38;5;241;43m*\u001b[39;49m\u001b[43mkwargs\u001b[49m\u001b[43m)\u001b[49m\n",
      "\u001b[0;31mFileNotFoundError\u001b[0m: [Errno 2] No such file or directory: 'example.txt'"
     ]
    }
   ],
   "source": [
    "#Example\n",
    "file = open('example.txt', 'r')\n",
    "try:\n",
    "    content = file.read()\n",
    "finally:\n",
    "    file.close()\n"
   ]
  },
  {
   "cell_type": "markdown",
   "id": "a47b1fee-5f62-413e-b53d-e3f09c536b8c",
   "metadata": {},
   "source": [
    "4. Use else to Handle Code That Should Run If No Exception Occurs\n",
    "Why: The else block runs only if the try block does not raise an exception, making it clear that this code should execute only on success."
   ]
  },
  {
   "cell_type": "code",
   "execution_count": 13,
   "id": "ab32abe9-13c3-4d7f-9ae9-2d120dcd7536",
   "metadata": {},
   "outputs": [
    {
     "name": "stdout",
     "output_type": "stream",
     "text": [
      "Division successful: 5.0\n"
     ]
    }
   ],
   "source": [
    "#Example\n",
    "try:\n",
    "    result = 10 / 2\n",
    "except ZeroDivisionError:\n",
    "    print(\"Cannot divide by zero!\")\n",
    "else:\n",
    "    print(\"Division successful:\", result)\n"
   ]
  },
  {
   "cell_type": "markdown",
   "id": "b6277bf6-9715-45a9-b94c-d2c2b3e79aed",
   "metadata": {},
   "source": [
    "5. Raise Exceptions with Descriptive Messages\n",
    "Why: When raising exceptions, use descriptive messages to provide context about the error, making debugging easier."
   ]
  },
  {
   "cell_type": "code",
   "execution_count": 14,
   "id": "a659fdca-a6ef-4e34-9ac5-1edbd6dc338e",
   "metadata": {},
   "outputs": [
    {
     "ename": "NameError",
     "evalue": "name 'age' is not defined",
     "output_type": "error",
     "traceback": [
      "\u001b[0;31m---------------------------------------------------------------------------\u001b[0m",
      "\u001b[0;31mNameError\u001b[0m                                 Traceback (most recent call last)",
      "Cell \u001b[0;32mIn[14], line 2\u001b[0m\n\u001b[1;32m      1\u001b[0m \u001b[38;5;66;03m#Example\u001b[39;00m\n\u001b[0;32m----> 2\u001b[0m \u001b[38;5;28;01mif\u001b[39;00m \u001b[43mage\u001b[49m \u001b[38;5;241m<\u001b[39m \u001b[38;5;241m0\u001b[39m:\n\u001b[1;32m      3\u001b[0m     \u001b[38;5;28;01mraise\u001b[39;00m \u001b[38;5;167;01mValueError\u001b[39;00m(\u001b[38;5;124m\"\u001b[39m\u001b[38;5;124mAge cannot be negative.\u001b[39m\u001b[38;5;124m\"\u001b[39m)\n",
      "\u001b[0;31mNameError\u001b[0m: name 'age' is not defined"
     ]
    }
   ],
   "source": [
    "#Example\n",
    "if age < 0:\n",
    "    raise ValueError(\"Age cannot be negative.\")\n"
   ]
  },
  {
   "cell_type": "markdown",
   "id": "aa825594-1629-4385-975c-e738019fa3d5",
   "metadata": {},
   "source": [
    "6. Create Custom Exceptions for Specific Error Conditions\n",
    "Why: Custom exceptions allow you to handle specific error conditions more precisely, making your code more readable and easier to debug.\n"
   ]
  },
  {
   "cell_type": "code",
   "execution_count": 15,
   "id": "3de3436c-3e71-4bb6-bdb0-34de274dda8c",
   "metadata": {},
   "outputs": [],
   "source": [
    "#Example\n",
    "class InvalidInputError(Exception):\n",
    "    pass\n",
    "\n",
    "def process_input(input_value):\n",
    "    if not isinstance(input_value, int):\n",
    "        raise InvalidInputError(\"Input must be an integer.\")\n"
   ]
  },
  {
   "cell_type": "markdown",
   "id": "ebf904bd-cdc8-48a5-98e7-f6bbfa7d6f52",
   "metadata": {},
   "source": [
    "7. Log Exceptions Instead of Silencing Them\n",
    "Why: Silently catching exceptions can hide problems in your code. Instead, log the exception or take appropriate action."
   ]
  },
  {
   "cell_type": "code",
   "execution_count": 16,
   "id": "f934b748-b3a7-4f18-9c84-45c4613dd1a4",
   "metadata": {},
   "outputs": [
    {
     "name": "stderr",
     "output_type": "stream",
     "text": [
      "ERROR:root:An error occurred\n",
      "Traceback (most recent call last):\n",
      "  File \"/tmp/ipykernel_70/1564623564.py\", line 5, in <module>\n",
      "    result = some_function()\n",
      "NameError: name 'some_function' is not defined\n"
     ]
    }
   ],
   "source": [
    "#Example\n",
    "import logging\n",
    "\n",
    "try:\n",
    "    result = some_function()\n",
    "except Exception as e:\n",
    "    logging.error(\"An error occurred\", exc_info=True)\n"
   ]
  },
  {
   "cell_type": "markdown",
   "id": "c43979cb-fe14-42ad-a339-489dfd9a39be",
   "metadata": {},
   "source": [
    "8. Handle Exceptions at the Appropriate Level\n",
    "Why: Exceptions should be caught and handled at the level where you can take meaningful action. Don’t catch exceptions too early or too late."
   ]
  },
  {
   "cell_type": "code",
   "execution_count": 17,
   "id": "b6c67017-a661-4c20-a5db-a1465c70637a",
   "metadata": {},
   "outputs": [],
   "source": [
    "def read_file(file_path):\n",
    "    try:\n",
    "        with open(file_path, 'r') as file:\n",
    "            return file.read()\n",
    "    except FileNotFoundError:\n",
    "        print(f\"File not found: {file_path}\")\n"
   ]
  },
  {
   "cell_type": "markdown",
   "id": "0a92d291-04db-42de-afa1-7474f442a52f",
   "metadata": {},
   "source": [
    "9. Avoid Using Exceptions for Flow Control\n",
    "Why: Using exceptions for regular control flow (e.g., breaking out of loops) is a bad practice because it can make code less readable and slower."
   ]
  },
  {
   "cell_type": "code",
   "execution_count": 18,
   "id": "334c26ef-f266-407e-9579-594ad2d2c2b8",
   "metadata": {},
   "outputs": [],
   "source": [
    "# Bad Practice\n",
    "try:\n",
    "    for i in range(10):\n",
    "        if i == 5:\n",
    "            raise StopIteration\n",
    "except StopIteration:\n",
    "    pass\n",
    "\n",
    "# Better Practice\n",
    "for i in range(10):\n",
    "    if i == 5:\n",
    "        break\n"
   ]
  },
  {
   "cell_type": "markdown",
   "id": "133da246-c943-4071-8979-ae4c58a422cb",
   "metadata": {},
   "source": [
    "10. Document Exception Handling in Your Code\n",
    "Why: Clearly document which exceptions your functions can raise and how they should be handled, making your code easier to understand and use."
   ]
  },
  {
   "cell_type": "code",
   "execution_count": 19,
   "id": "08c9d0bb-0290-403d-a91c-5cfb14d9a67d",
   "metadata": {},
   "outputs": [],
   "source": [
    "#Example\n",
    "def divide(a, b):\n",
    "    \"\"\"\n",
    "    Divide two numbers.\n",
    "\n",
    "    :param a: Numerator\n",
    "    :param b: Denominator\n",
    "    :raises ZeroDivisionError: If b is zero.\n",
    "    :return: Result of division\n",
    "    \"\"\"\n",
    "    if b == 0:\n",
    "        raise ZeroDivisionError(\"Denominator cannot be zero.\")\n",
    "    return a / b\n"
   ]
  },
  {
   "cell_type": "code",
   "execution_count": null,
   "id": "f4b94bd3-e315-4055-971c-13acefb699d8",
   "metadata": {},
   "outputs": [],
   "source": []
  }
 ],
 "metadata": {
  "kernelspec": {
   "display_name": "Python 3 (ipykernel)",
   "language": "python",
   "name": "python3"
  },
  "language_info": {
   "codemirror_mode": {
    "name": "ipython",
    "version": 3
   },
   "file_extension": ".py",
   "mimetype": "text/x-python",
   "name": "python",
   "nbconvert_exporter": "python",
   "pygments_lexer": "ipython3",
   "version": "3.10.8"
  }
 },
 "nbformat": 4,
 "nbformat_minor": 5
}
