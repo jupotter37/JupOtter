{
 "cells": [
  {
   "cell_type": "markdown",
   "id": "ed1db51a-1434-4668-a462-ed7f808cc07e",
   "metadata": {},
   "source": [
    "Q1. Explain why we have to use the Exception class while creating a Custom Exception."
   ]
  },
  {
   "cell_type": "code",
   "execution_count": null,
   "id": "61b040d4-94ef-4b16-9fe2-bb554eee1bad",
   "metadata": {},
   "outputs": [],
   "source": [
    "'''\n",
    "When creating a custom exception in Python, it's essential to inherit from the Exception class because Exception is the base class for all built-in exceptions in Python. \n",
    "By inheriting from the Exception class, our custom exception inherits all the properties and behaviors of the standard exception types. This includes features like stack traces, \n",
    "error messages, and the ability to be caught by generic except blocks. Without inheriting from Exception, our custom exception might not behave as expected when used in exception\n",
    "handling constructs.\n",
    "'''"
   ]
  },
  {
   "cell_type": "markdown",
   "id": "bf8ac61a-6a2f-4a8a-a33c-95f73c94a1d5",
   "metadata": {},
   "source": [
    "Q2. Write a python program to print Python Exception Hierarchy."
   ]
  },
  {
   "cell_type": "code",
   "execution_count": null,
   "id": "b1d3aaa6-1d3a-401b-a608-e35e88fa23af",
   "metadata": {},
   "outputs": [],
   "source": [
    "import builtins\n",
    "\n",
    "def print_exception_hierarchy(exception_class, indent=0):\n",
    "    print(\" \" * indent + str(exception_class))\n",
    "    for subclass in exception_class.__subclasses__():\n",
    "        print_exception_hierarchy(subclass, indent + 4)\n",
    "\n",
    "print_exception_hierarchy(builtins.BaseException)\n"
   ]
  },
  {
   "cell_type": "markdown",
   "id": "ac03cb2b-14de-499b-b521-04085ab604da",
   "metadata": {},
   "source": [
    "Q3. What errors are defined in the ArithmeticError class? Explain any two with an example."
   ]
  },
  {
   "cell_type": "code",
   "execution_count": null,
   "id": "faaaa5f0-951a-4d04-b67d-112ccc61527a",
   "metadata": {},
   "outputs": [],
   "source": [
    "'''\n",
    "The ArithmeticError class in Python defines errors related to arithmetic operations. Two errors defined in the ArithmeticError class are ZeroDivisionError and OverflowError.\n",
    "\n",
    "ZeroDivisionError: This error occurs when attempting to divide a number by zero.\n",
    "'''\n",
    "try:\n",
    "    result = 10 / 0\n",
    "except ZeroDivisionError as e:\n",
    "    print(\"Error:\", e)\n",
    "    \n",
    "import sys\n",
    "\n",
    "try:\n",
    "    result = sys.maxsize + 1\n",
    "except OverflowError as e:\n",
    "    print(\"Error:\", e)\n"
   ]
  },
  {
   "cell_type": "markdown",
   "id": "15fc71cc-328c-457e-bcad-7dac0e7f687b",
   "metadata": {},
   "source": [
    "Q4. Why LookupError class is used? Explain with an example KeyError and IndexError."
   ]
  },
  {
   "cell_type": "code",
   "execution_count": null,
   "id": "d989846e-7d77-4ec1-83df-f50739508db3",
   "metadata": {},
   "outputs": [],
   "source": [
    "'''\n",
    "The LookupError class in Python is used for errors related to dictionary or sequence lookup operations, such as accessing a non-existent key in a dictionary or an \n",
    "index that is out of range in a sequence.\n",
    "\n",
    "KeyError: This error occurs when attempting to access a key in a dictionary that does not exist.\n",
    "'''\n",
    "try:\n",
    "    my_dict = {\"a\": 1, \"b\": 2}\n",
    "    value = my_dict[\"c\"]\n",
    "except KeyError as e:\n",
    "    print(\"Error:\", e)\n",
    "try:\n",
    "    my_list = [1, 2, 3]\n",
    "    value = my_list[3]\n",
    "except IndexError as e:\n",
    "    print(\"Error:\", e)"
   ]
  },
  {
   "cell_type": "markdown",
   "id": "28f263d7-0fba-4991-a08b-eb38f3d98bcd",
   "metadata": {},
   "source": [
    "Q5. Explain ImportError. What is ModuleNotFoundError?"
   ]
  },
  {
   "cell_type": "code",
   "execution_count": null,
   "id": "78cae1c0-8d28-4851-bbe3-98aed527676d",
   "metadata": {},
   "outputs": [],
   "source": [
    "'''\n",
    "ImportError in Python occurs when an import statement fails to find and load the requested module. It can happen due to various reasons, \n",
    "such as the module not being installed, the module name being misspelled, or the module file being inaccessible.\n",
    "\n",
    "ModuleNotFoundError is a subclass of ImportError introduced in Python 3.6. It specifically indicates that the requested module could not be found.\n",
    "'''\n",
    "try:\n",
    "    import nonexistent_module\n",
    "except ImportError as e:\n",
    "    print(\"Error:\", e)\n",
    "\n",
    "try:\n",
    "    import nonexistent_module\n",
    "except ModuleNotFoundError as e:\n",
    "    print(\"Error:\", e)\n"
   ]
  }
 ],
 "metadata": {
  "kernelspec": {
   "display_name": "Python 3 (ipykernel)",
   "language": "python",
   "name": "python3"
  },
  "language_info": {
   "codemirror_mode": {
    "name": "ipython",
    "version": 3
   },
   "file_extension": ".py",
   "mimetype": "text/x-python",
   "name": "python",
   "nbconvert_exporter": "python",
   "pygments_lexer": "ipython3",
   "version": "3.10.8"
  }
 },
 "nbformat": 4,
 "nbformat_minor": 5
}
