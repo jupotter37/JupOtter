{
 "cells": [
  {
   "cell_type": "markdown",
   "id": "d029de85",
   "metadata": {},
   "source": [
    "# Exception handling-2"
   ]
  },
  {
   "cell_type": "raw",
   "id": "4da44e14",
   "metadata": {},
   "source": [
    "Q1. Explain why we have to use the Exception class while creating a Custom Exception.\n",
    "Note: Here Exception class refers to the base class for all the exceptions.\n",
    "Q2. Write a python program to print Python Exception Hierarchy.\n",
    "Q3. What errors are defined in the ArithmeticError class? Explain any two with an example.\n",
    "Q4. Why LookupError class is used? Explain with an example KeyError and IndexError.\n",
    "Q5. Explain ImportError. What is ModuleNotFoundError?\n",
    "Q6. List down some best practices for exception handling in python."
   ]
  },
  {
   "cell_type": "raw",
   "id": "1c581a03",
   "metadata": {},
   "source": [
    "Q1 Ans\n",
    "\n",
    "In Python, custom exceptions are created by defining a new class that inherits from the built-in Exception class or one of its subclasses. Here are some reasons why we use the Exception class while creating a custom exception in Python:\n",
    "\n",
    "Inheriting from the Exception class: The Exception class provides a set of methods and properties that are useful for handling and propagating errors in a Python program. By inheriting from the Exception class, our custom exception can take advantage of these features.\n",
    "\n",
    "Standardization: By inheriting from the Exception class, our custom exception can be caught by a generic try-except block that catches exceptions of type Exception. This helps to standardize the handling of exceptions in Python programs and makes our code more readable.\n",
    "\n",
    "Clarity: When we create a custom exception that inherits from the Exception class, it is immediately clear to other programmers that our exception is intended to be used for error handling. This can make our code more maintainable and reduce the risk of bugs.\n",
    "\n",
    "Organization: By creating a custom exception that inherits from the Exception class, we can organize our code in a more logical way. For example, we can create a hierarchy of exceptions that inherit from each other to represent different types of errors in our program.\n",
    "\n",
    "In summary, by inheriting from the Exception class when creating custom exceptions in Python, we can take advantage of the built-in error handling features of the language, standardize our exception handling, and make our code more organized and maintainable"
   ]
  },
  {
   "cell_type": "raw",
   "id": "a43db2c4",
   "metadata": {},
   "source": [
    "Q2 Ans\n",
    "\n",
    "In Python, the built-in exception hierarchy can be printed by calling the help() function with the BaseException class as its argument. Here's an example program to print the Python exception hierarchy:"
   ]
  },
  {
   "cell_type": "code",
   "execution_count": 1,
   "id": "db39eec6",
   "metadata": {},
   "outputs": [
    {
     "name": "stdout",
     "output_type": "stream",
     "text": [
      "Help on class BaseException in module builtins:\n",
      "\n",
      "class BaseException(object)\n",
      " |  Common base class for all exceptions\n",
      " |  \n",
      " |  Built-in subclasses:\n",
      " |      Exception\n",
      " |      GeneratorExit\n",
      " |      KeyboardInterrupt\n",
      " |      SystemExit\n",
      " |  \n",
      " |  Methods defined here:\n",
      " |  \n",
      " |  __delattr__(self, name, /)\n",
      " |      Implement delattr(self, name).\n",
      " |  \n",
      " |  __getattribute__(self, name, /)\n",
      " |      Return getattr(self, name).\n",
      " |  \n",
      " |  __init__(self, /, *args, **kwargs)\n",
      " |      Initialize self.  See help(type(self)) for accurate signature.\n",
      " |  \n",
      " |  __reduce__(...)\n",
      " |      Helper for pickle.\n",
      " |  \n",
      " |  __repr__(self, /)\n",
      " |      Return repr(self).\n",
      " |  \n",
      " |  __setattr__(self, name, value, /)\n",
      " |      Implement setattr(self, name, value).\n",
      " |  \n",
      " |  __setstate__(...)\n",
      " |  \n",
      " |  __str__(self, /)\n",
      " |      Return str(self).\n",
      " |  \n",
      " |  with_traceback(...)\n",
      " |      Exception.with_traceback(tb) --\n",
      " |      set self.__traceback__ to tb and return self.\n",
      " |  \n",
      " |  ----------------------------------------------------------------------\n",
      " |  Static methods defined here:\n",
      " |  \n",
      " |  __new__(*args, **kwargs) from builtins.type\n",
      " |      Create and return a new object.  See help(type) for accurate signature.\n",
      " |  \n",
      " |  ----------------------------------------------------------------------\n",
      " |  Data descriptors defined here:\n",
      " |  \n",
      " |  __cause__\n",
      " |      exception cause\n",
      " |  \n",
      " |  __context__\n",
      " |      exception context\n",
      " |  \n",
      " |  __dict__\n",
      " |  \n",
      " |  __suppress_context__\n",
      " |  \n",
      " |  __traceback__\n",
      " |  \n",
      " |  args\n",
      "\n"
     ]
    }
   ],
   "source": [
    "help(BaseException)"
   ]
  },
  {
   "cell_type": "raw",
   "id": "da078884",
   "metadata": {},
   "source": [
    "Q3 Answer\n",
    "\n",
    " >> The ArithmeticError is a built-in Python exception class that represents errors that occur during arithmetic operations. It is the base class for various arithmetic-related exceptions such as ZeroDivisionError, OverflowError, FloatingPointError, etc."
   ]
  },
  {
   "cell_type": "raw",
   "id": "8a5d8621",
   "metadata": {},
   "source": [
    "Q4 >Why LookupError class is used? Explain with an example KeyError and IndexError\n",
    "The LookupError is a built-in Python exception class that serves as the base class for exceptions that are raised when a key or index is not found in a collection. It is a subclass of the Exception class and is used to handle lookup-related errors in Python.\n",
    "\n",
    ">> KeyError: This error is raised when a dictionary key is not found in the dictionary.\n",
    "\n",
    "my_dict = {'a': 1, 'b': 2, 'c': 3}\n",
    "value = my_dict['d'] # This will raise a KeyError\n",
    "\n",
    "\n",
    ">IndexError: This error is raised when an index is not found in a list, tuple, or other sequence types.\n",
    "\n",
    "my_list = [1, 2, 3]\n",
    "value = my_list[3] # This will raise an IndexError"
   ]
  },
  {
   "cell_type": "raw",
   "id": "e74842bb",
   "metadata": {},
   "source": [
    "Q5 Explain ImportError. What is ModuleNotFoundError?\n",
    "\n",
    ">> ImportError is a built-in Python exception class that is raised when an import statement fails to find a module or when a module cannot be imported for some other reason. This error can occur for several reasons, such as a missing module, a syntax error in the module code, or an incompatible version of the module.\n",
    "\n",
    ">> ModuleNotFoundError is a subclass of the ImportError class that was introduced in Python 3.6. It is raised specifically when a module could not be found during an import statement. This error is more specific than the general ImportError and makes it easier to debug import-related issues."
   ]
  },
  {
   "cell_type": "markdown",
   "id": "8f463a71",
   "metadata": {},
   "source": [
    "Q6. List down some best practices for exception handling in python\n",
    "\n",
    "1. Specify the specific exception rather than generic exception.\n",
    "\n",
    "2.Print always the exact manner. Explain your code in proper manner\n",
    "\n",
    "3.Try to log all the code in systematic manner - Try to Log every error, warning and issue.\n",
    "\n",
    "4.Always Try to proper documentation.\n",
    "\n",
    "5.Every time try to close up file or memoryu that you have opened up.\n"
   ]
  }
 ],
 "metadata": {
  "kernelspec": {
   "display_name": "Python 3 (ipykernel)",
   "language": "python",
   "name": "python3"
  },
  "language_info": {
   "codemirror_mode": {
    "name": "ipython",
    "version": 3
   },
   "file_extension": ".py",
   "mimetype": "text/x-python",
   "name": "python",
   "nbconvert_exporter": "python",
   "pygments_lexer": "ipython3",
   "version": "3.9.12"
  }
 },
 "nbformat": 4,
 "nbformat_minor": 5
}
