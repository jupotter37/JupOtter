{
 "cells": [
  {
   "cell_type": "markdown",
   "metadata": {
    "slideshow": {
     "slide_type": "slide"
    }
   },
   "source": [
    "OOP shortcuts\n",
    "* Built-in functions that take care of common tasks in one call (so useful)\n",
    "* File I/O and context managers\n",
    "* An alternative to method overloading\n",
    "* Functions as objects"
   ]
  },
  {
   "cell_type": "markdown",
   "metadata": {
    "slideshow": {
     "slide_type": "slide"
    }
   },
   "source": [
    "*len, reverse, enumerate*..., *all, any*..., *eval, exec, compile* (I don't use these...)\n",
    "\n",
    "*hasattr, getattr, setattr, and delattr*, which allow attributes on an\n",
    "object to be manipulated by their string names.\n",
    "\n",
    "*zip*, which takes two or more sequences and returns a new sequence of tuples, where each tuple contains a single value from each sequence.\n",
    "\n",
    "And many more! See the interpreter help documentation for each of the functions listed in dir(\\__builtins__). \n"
   ]
  },
  {
   "cell_type": "code",
   "execution_count": 18,
   "metadata": {
    "slideshow": {
     "slide_type": "subslide"
    }
   },
   "outputs": [
    {
     "name": "stdout",
     "output_type": "stream",
     "text": [
      "len() builtin: 5\n",
      "__len__ attr: 5\n",
      "\n"
     ]
    }
   ],
   "source": [
    "a_list = [1,2,3,4,5]\n",
    "print('len() builtin: {}'.format(len(a_list)))\n",
    "print('__len__ attr: {}'.format(a_list.__len__()))\n",
    "print()"
   ]
  },
  {
   "cell_type": "code",
   "execution_count": 19,
   "metadata": {
    "slideshow": {
     "slide_type": "subslide"
    }
   },
   "outputs": [
    {
     "name": "stdout",
     "output_type": "stream",
     "text": [
      "look at reversed\n",
      "a_list: [1, 2, 3, 4, 5]\n",
      "reversed(a_list): <list_reverseiterator object at 0x000002E0542530F0>\n",
      "the reversed list: [5, 4, 3, 2, 1]\n",
      "\n",
      "5\n",
      "4\n",
      "3\n",
      "2\n",
      "1\n"
     ]
    }
   ],
   "source": [
    "print('look at reversed')\n",
    "print('a_list: {}'.format(a_list))\n",
    "print('reversed(a_list): {}'.format(reversed(a_list)))\n",
    "print('the reversed list: {}'.format(list(reversed(a_list))))\n",
    "print()\n",
    "\n",
    "for item in reversed(a_list):\n",
    "    print(item)"
   ]
  },
  {
   "cell_type": "code",
   "execution_count": 22,
   "metadata": {
    "scrolled": false,
    "slideshow": {
     "slide_type": "subslide"
    }
   },
   "outputs": [
    {
     "name": "stdout",
     "output_type": "stream",
     "text": [
      "item 0: one\n",
      "item 1: two\n",
      "item 2: three\n",
      "item 3: four\n",
      "item 4: five\n",
      "\n",
      "item 1: one\n",
      "item 2: two\n",
      "item 3: three\n",
      "item 4: four\n",
      "item 5: five\n",
      "\n",
      "item 2: one\n",
      "item 3: two\n"
     ]
    }
   ],
   "source": [
    "a_string_list = ['one', 'two', 'three', 'four', 'five']\n",
    "for i,item in enumerate(a_string_list):\n",
    "    print('item {}: {}'.format(i, item))\n",
    "\n",
    "print()\n",
    "for i,item in zip(a_list, a_string_list):\n",
    "    print('item {}: {}'.format(i, item))\n",
    "\n",
    "print('mismatched lengths: takes first n-elements of second item in zip')\n",
    "for i,item in zip(a_list[1:3], a_string_list):\n",
    "    print('item {}: {}'.format(i, item))"
   ]
  },
  {
   "cell_type": "code",
   "execution_count": 7,
   "metadata": {
    "scrolled": false,
    "slideshow": {
     "slide_type": "subslide"
    }
   },
   "outputs": [
    {
     "data": {
      "text/plain": [
       "['ArithmeticError',\n",
       " 'AssertionError',\n",
       " 'AttributeError',\n",
       " 'BaseException',\n",
       " 'BlockingIOError',\n",
       " 'BrokenPipeError',\n",
       " 'BufferError',\n",
       " 'BytesWarning',\n",
       " 'ChildProcessError',\n",
       " 'ConnectionAbortedError',\n",
       " 'ConnectionError',\n",
       " 'ConnectionRefusedError',\n",
       " 'ConnectionResetError',\n",
       " 'DeprecationWarning',\n",
       " 'EOFError',\n",
       " 'Ellipsis',\n",
       " 'EnvironmentError',\n",
       " 'Exception',\n",
       " 'False',\n",
       " 'FileExistsError',\n",
       " 'FileNotFoundError',\n",
       " 'FloatingPointError',\n",
       " 'FutureWarning',\n",
       " 'GeneratorExit',\n",
       " 'IOError',\n",
       " 'ImportError',\n",
       " 'ImportWarning',\n",
       " 'IndentationError',\n",
       " 'IndexError',\n",
       " 'InterruptedError',\n",
       " 'IsADirectoryError',\n",
       " 'KeyError',\n",
       " 'KeyboardInterrupt',\n",
       " 'LookupError',\n",
       " 'MemoryError',\n",
       " 'ModuleNotFoundError',\n",
       " 'NameError',\n",
       " 'None',\n",
       " 'NotADirectoryError',\n",
       " 'NotImplemented',\n",
       " 'NotImplementedError',\n",
       " 'OSError',\n",
       " 'OverflowError',\n",
       " 'PendingDeprecationWarning',\n",
       " 'PermissionError',\n",
       " 'ProcessLookupError',\n",
       " 'RecursionError',\n",
       " 'ReferenceError',\n",
       " 'ResourceWarning',\n",
       " 'RuntimeError',\n",
       " 'RuntimeWarning',\n",
       " 'StopAsyncIteration',\n",
       " 'StopIteration',\n",
       " 'SyntaxError',\n",
       " 'SyntaxWarning',\n",
       " 'SystemError',\n",
       " 'SystemExit',\n",
       " 'TabError',\n",
       " 'TimeoutError',\n",
       " 'True',\n",
       " 'TypeError',\n",
       " 'UnboundLocalError',\n",
       " 'UnicodeDecodeError',\n",
       " 'UnicodeEncodeError',\n",
       " 'UnicodeError',\n",
       " 'UnicodeTranslateError',\n",
       " 'UnicodeWarning',\n",
       " 'UserWarning',\n",
       " 'ValueError',\n",
       " 'Warning',\n",
       " 'WindowsError',\n",
       " 'ZeroDivisionError',\n",
       " '__IPYTHON__',\n",
       " '__build_class__',\n",
       " '__debug__',\n",
       " '__doc__',\n",
       " '__import__',\n",
       " '__loader__',\n",
       " '__name__',\n",
       " '__package__',\n",
       " '__spec__',\n",
       " 'abs',\n",
       " 'all',\n",
       " 'any',\n",
       " 'ascii',\n",
       " 'bin',\n",
       " 'bool',\n",
       " 'bytearray',\n",
       " 'bytes',\n",
       " 'callable',\n",
       " 'chr',\n",
       " 'classmethod',\n",
       " 'compile',\n",
       " 'complex',\n",
       " 'copyright',\n",
       " 'credits',\n",
       " 'delattr',\n",
       " 'dict',\n",
       " 'dir',\n",
       " 'display',\n",
       " 'divmod',\n",
       " 'enumerate',\n",
       " 'eval',\n",
       " 'exec',\n",
       " 'filter',\n",
       " 'float',\n",
       " 'format',\n",
       " 'frozenset',\n",
       " 'get_ipython',\n",
       " 'getattr',\n",
       " 'globals',\n",
       " 'hasattr',\n",
       " 'hash',\n",
       " 'help',\n",
       " 'hex',\n",
       " 'id',\n",
       " 'input',\n",
       " 'int',\n",
       " 'isinstance',\n",
       " 'issubclass',\n",
       " 'iter',\n",
       " 'len',\n",
       " 'license',\n",
       " 'list',\n",
       " 'locals',\n",
       " 'map',\n",
       " 'max',\n",
       " 'memoryview',\n",
       " 'min',\n",
       " 'next',\n",
       " 'object',\n",
       " 'oct',\n",
       " 'open',\n",
       " 'ord',\n",
       " 'pow',\n",
       " 'print',\n",
       " 'property',\n",
       " 'range',\n",
       " 'repr',\n",
       " 'reversed',\n",
       " 'round',\n",
       " 'set',\n",
       " 'setattr',\n",
       " 'slice',\n",
       " 'sorted',\n",
       " 'staticmethod',\n",
       " 'str',\n",
       " 'sum',\n",
       " 'super',\n",
       " 'tuple',\n",
       " 'type',\n",
       " 'vars',\n",
       " 'zip']"
      ]
     },
     "execution_count": 7,
     "metadata": {},
     "output_type": "execute_result"
    }
   ],
   "source": [
    "dir(__builtins__)"
   ]
  },
  {
   "cell_type": "code",
   "execution_count": 23,
   "metadata": {
    "slideshow": {
     "slide_type": "skip"
    }
   },
   "outputs": [
    {
     "data": {
      "text/plain": [
       "['__call__',\n",
       " '__class__',\n",
       " '__delattr__',\n",
       " '__dir__',\n",
       " '__doc__',\n",
       " '__eq__',\n",
       " '__format__',\n",
       " '__ge__',\n",
       " '__getattribute__',\n",
       " '__gt__',\n",
       " '__hash__',\n",
       " '__init__',\n",
       " '__init_subclass__',\n",
       " '__le__',\n",
       " '__lt__',\n",
       " '__module__',\n",
       " '__name__',\n",
       " '__ne__',\n",
       " '__new__',\n",
       " '__qualname__',\n",
       " '__reduce__',\n",
       " '__reduce_ex__',\n",
       " '__repr__',\n",
       " '__self__',\n",
       " '__setattr__',\n",
       " '__sizeof__',\n",
       " '__str__',\n",
       " '__subclasshook__',\n",
       " '__text_signature__']"
      ]
     },
     "execution_count": 23,
     "metadata": {},
     "output_type": "execute_result"
    }
   ],
   "source": [
    "dir(sum)"
   ]
  },
  {
   "cell_type": "markdown",
   "metadata": {
    "slideshow": {
     "slide_type": "slide"
    }
   },
   "source": [
    "File I/O and context managers\n",
    "* writing\n",
    "* reading\n",
    "* context managers"
   ]
  },
  {
   "cell_type": "code",
   "execution_count": 28,
   "metadata": {
    "slideshow": {
     "slide_type": "slide"
    }
   },
   "outputs": [
    {
     "data": {
      "text/plain": [
       "['_CHUNK_SIZE',\n",
       " '__class__',\n",
       " '__del__',\n",
       " '__delattr__',\n",
       " '__dict__',\n",
       " '__dir__',\n",
       " '__doc__',\n",
       " '__enter__',\n",
       " '__eq__',\n",
       " '__exit__',\n",
       " '__format__',\n",
       " '__ge__',\n",
       " '__getattribute__',\n",
       " '__getstate__',\n",
       " '__gt__',\n",
       " '__hash__',\n",
       " '__init__',\n",
       " '__init_subclass__',\n",
       " '__iter__',\n",
       " '__le__',\n",
       " '__lt__',\n",
       " '__ne__',\n",
       " '__new__',\n",
       " '__next__',\n",
       " '__reduce__',\n",
       " '__reduce_ex__',\n",
       " '__repr__',\n",
       " '__setattr__',\n",
       " '__sizeof__',\n",
       " '__str__',\n",
       " '__subclasshook__',\n",
       " '_checkClosed',\n",
       " '_checkReadable',\n",
       " '_checkSeekable',\n",
       " '_checkWritable',\n",
       " '_finalizing',\n",
       " 'buffer',\n",
       " 'close',\n",
       " 'closed',\n",
       " 'detach',\n",
       " 'encoding',\n",
       " 'errors',\n",
       " 'fileno',\n",
       " 'flush',\n",
       " 'isatty',\n",
       " 'line_buffering',\n",
       " 'mode',\n",
       " 'name',\n",
       " 'newlines',\n",
       " 'read',\n",
       " 'readable',\n",
       " 'readline',\n",
       " 'readlines',\n",
       " 'seek',\n",
       " 'seekable',\n",
       " 'tell',\n",
       " 'truncate',\n",
       " 'writable',\n",
       " 'write',\n",
       " 'writelines']"
      ]
     },
     "execution_count": 28,
     "metadata": {},
     "output_type": "execute_result"
    }
   ],
   "source": [
    "contents = \"Some file contents\\n\"\n",
    "file = open(\"filename.txt\", \"w\")\n",
    "file.write(contents)\n",
    "file.close()\n",
    "\n",
    "file = open(\"filename2.txt\", \"w\")\n",
    "file.writelines([contents]*3)\n",
    "file.close()\n",
    "\n",
    "# this overwrites every time... also explicit management of open and close\n",
    "# binary add wb, rb\n",
    "\n",
    "dir(file)"
   ]
  },
  {
   "cell_type": "markdown",
   "metadata": {
    "slideshow": {
     "slide_type": "slide"
    }
   },
   "source": [
    "context managers\n",
    "* with open(...) as file... calls __enter__ and __exit__ methods on the file object\n",
    "* cleans up need for 'startup' and 'cleanup' code\n"
   ]
  },
  {
   "cell_type": "code",
   "execution_count": null,
   "metadata": {
    "slideshow": {
     "slide_type": "slide"
    }
   },
   "outputs": [],
   "source": [
    "with open(\"filename.txt\", \"w\") as file:\n",
    "    file.write(contents)\n",
    "    \n",
    "with open(\"filename_seq_cm.txt\", \"w\") as file:\n",
    "    file.writelines([contents]*3)"
   ]
  },
  {
   "cell_type": "code",
   "execution_count": 4,
   "metadata": {
    "slideshow": {
     "slide_type": "slide"
    }
   },
   "outputs": [
    {
     "name": "stdout",
     "output_type": "stream",
     "text": [
      "line 1: how many lines does it take to make a text document?\n",
      "\n",
      "line 2: one line.\n",
      "\n",
      "line 3: two lines..\n",
      "\n",
      "line 4: three lines....\n",
      "\n",
      "line 5: @#$%@$Q@$E\n",
      "\n",
      "line 6: Three lines!\n",
      "\n"
     ]
    }
   ],
   "source": [
    "with open(\"./a-text-file.txt\", \"r\") as file:\n",
    "    for i,  line in enumerate(file.readlines()):\n",
    "        print(\"line {}: {}\".format(i+1, line))"
   ]
  },
  {
   "cell_type": "code",
   "execution_count": 29,
   "metadata": {
    "slideshow": {
     "slide_type": "slide"
    }
   },
   "outputs": [],
   "source": [
    "# custom string joiner\n",
    "class StringJoiner(list):\n",
    "    def __enter__(self):\n",
    "        return self\n",
    "    \n",
    "    def __exit__(self, type, value, tb):\n",
    "        self.result = \"\".join(self)\n"
   ]
  },
  {
   "cell_type": "code",
   "execution_count": 30,
   "metadata": {
    "slideshow": {
     "slide_type": "slide"
    }
   },
   "outputs": [
    {
     "name": "stdout",
     "output_type": "stream",
     "text": [
      "VjMLIieQzDfnaDl\n",
      "QkxyOnpvtLqjdFA\n"
     ]
    }
   ],
   "source": [
    "import random, string\n",
    "\n",
    "with StringJoiner() as joiner:\n",
    "    for i in range(15):\n",
    "        joiner.append(random.choice(string.ascii_letters))\n",
    "\n",
    "print(joiner.result)\n",
    "\n",
    "# but...\n",
    "same_thing = ''.join([random.choice(string.ascii_letters) for i in range(15)])\n",
    "print(same_thing)"
   ]
  },
  {
   "cell_type": "markdown",
   "metadata": {
    "slideshow": {
     "slide_type": "slide"
    }
   },
   "source": [
    "An alternative to method overloading\n",
    "* Python doesn't permit multiple methods with the same name!!\n",
    "* instead, write the function with expectation of argument type"
   ]
  },
  {
   "cell_type": "code",
   "execution_count": 31,
   "metadata": {
    "slideshow": {
     "slide_type": "slide"
    }
   },
   "outputs": [
    {
     "name": "stdout",
     "output_type": "stream",
     "text": [
      "the function has been replaced\n"
     ]
    }
   ],
   "source": [
    "def func1(arg1):\n",
    "    print('original func1')\n",
    "    pass\n",
    "\n",
    "def func1(arg2):\n",
    "    print('the function has been replaced')\n",
    "    pass\n",
    "\n",
    "func1('some arg')"
   ]
  },
  {
   "cell_type": "code",
   "execution_count": null,
   "metadata": {
    "slideshow": {
     "slide_type": "slide"
    }
   },
   "outputs": [],
   "source": [
    "Python functions accept:\n",
    "* positional arguments\n",
    "* keyword arguments (with default values)"
   ]
  },
  {
   "cell_type": "code",
   "execution_count": 36,
   "metadata": {
    "slideshow": {
     "slide_type": "slide"
    }
   },
   "outputs": [
    {
     "name": "stdout",
     "output_type": "stream",
     "text": [
      "pos1: ['hi']\n",
      "pos2: 2\n",
      "kwd1: ('a', 'tuple')\n",
      "kwd2: {'some': 'key-value'}\n"
     ]
    }
   ],
   "source": [
    "def function(pos1, pos2, kwd1='None', kwd2=5):\n",
    "    print('pos1: {}'.format(pos1))\n",
    "    print('pos2: {}'.format(pos2))\n",
    "    print('kwd1: {}'.format(kwd1))\n",
    "    print('kwd2: {}'.format(kwd2))\n",
    "    pass\n",
    "\n",
    "#function(1)\n",
    "#function(1,2)\n",
    "#function(1, 2, kwd1='2')\n",
    "#function(2,['hi'], kwd1={'some':'key-value'}, kwd2=('a', 'tuple'))\n",
    "\n",
    "# specify all inputs out of order\n",
    "function(pos2=2, pos1=['hi'], kwd2={'some':'key-value'}, kwd1=('a', 'tuple'))"
   ]
  },
  {
   "cell_type": "code",
   "execution_count": 46,
   "metadata": {
    "slideshow": {
     "slide_type": "slide"
    }
   },
   "outputs": [
    {
     "name": "stdout",
     "output_type": "stream",
     "text": [
      "()\n",
      "((0, 1, 2, 3, 4, 5, 6, 7, 8, 9),)\n",
      "(0, 1, 2, 3, 4, 5, 6, 7, 8, 9)\n"
     ]
    }
   ],
   "source": [
    "# variable argument lists\n",
    "def extract_list(*somelist):\n",
    "    \n",
    "    print(somelist)\n",
    "    for item in somelist:\n",
    "        print(item)\n",
    "\n",
    "extract_list()\n",
    "#extract_list(1)\n",
    "#extract_list(tuple(range(10))) # feel free to fiddle with this one\n",
    "#extract_list(1,2,3,4)\n",
    "#extract_list('item1', 'item2', 'item3')"
   ]
  },
  {
   "cell_type": "code",
   "execution_count": 48,
   "metadata": {
    "slideshow": {
     "slide_type": "slide"
    }
   },
   "outputs": [
    {
     "name": "stdout",
     "output_type": "stream",
     "text": [
      "{'port': 21, 'host': 'localhost', 'username': None, 'password': None, 'debug': False}\n"
     ]
    },
    {
     "data": {
      "text/plain": [
       "21"
      ]
     },
     "execution_count": 48,
     "metadata": {},
     "output_type": "execute_result"
    }
   ],
   "source": [
    "class Options:\n",
    "    default_options = {\n",
    "        'port': 21,\n",
    "        'host': 'localhost',\n",
    "        'username': None,\n",
    "        'password': None,\n",
    "        'debug': False\n",
    "    }\n",
    "    \n",
    "    def __init__(self, **kwargs):\n",
    "        self.options = dict(Options.default_options) # set the default options\n",
    "        self.options.update(kwargs) # update based on user input, can also add keys for the options\n",
    "        \n",
    "    def __getitem__(self, key):\n",
    "        return self.options[key]\n",
    "    \n",
    "    \n",
    "# sample1 = Options(username='dusty', password='drowssap', some_other_option=True)\n",
    "# print(sample1.options)\n",
    "\n",
    "sample2 = Options()\n",
    "print(sample2.options)\n",
    "sample2['port']"
   ]
  },
  {
   "cell_type": "markdown",
   "metadata": {
    "slideshow": {
     "slide_type": "slide"
    }
   },
   "source": [
    "Ordering of arguments:\n",
    "* positional\n",
    "* \\*list argument\n",
    "* keyword arguments\n",
    "* \\** dictionary to hold anything else"
   ]
  },
  {
   "cell_type": "code",
   "execution_count": 52,
   "metadata": {
    "slideshow": {
     "slide_type": "slide"
    }
   },
   "outputs": [
    {
     "name": "stdout",
     "output_type": "stream",
     "text": [
      "target_folder: target_folder\n",
      "filenames: ('one',)\n",
      "verbose: True\n",
      "specific: {'two': 'ignore', 'three': 'ignore'}\n",
      "Moving one...\n",
      "file one does not exist\n",
      "Ignoring two\n",
      "Ignoring three\n"
     ]
    }
   ],
   "source": [
    "import shutil\n",
    "import os.path\n",
    "def augmented_move(target_folder, *filenames, verbose=False, **specific):\n",
    "    '''Move all filenames into the target_folder, allowing specific treatment of certain files.'''\n",
    "    \n",
    "#     # print args\n",
    "    print('target_folder: {}'.format(target_folder))\n",
    "    print('filenames: {}'.format(filenames))\n",
    "    print('verbose: {}'.format(verbose))\n",
    "    print('specific: {}'.format(specific))\n",
    "    \n",
    "    def print_verbose(message, filename):\n",
    "        '''print the  message only if verbose is enabled'''\n",
    "        \n",
    "        if verbose:\n",
    "            print(message.format(filename))\n",
    "    \n",
    "    ## augmented_move block\n",
    "    # to get the example to work...\n",
    "    filenames = list(filenames)          # comes in as a tuple\n",
    "    filenames.extend(specific.keys())    # use list.extend\n",
    "    \n",
    "    for filename in filenames:\n",
    "        target_path = os.path.join(target_folder, filename)\n",
    "        if filename in specific:\n",
    "            if specific[filename] == 'ignore':\n",
    "                print_verbose(\"Ignoring {}\", filename)\n",
    "                \n",
    "            elif specific[filename] == 'copy':\n",
    "                print_verbose(\"Copying {}\", filename)\n",
    "                shutil.copyfile(filename, target_path)\n",
    "\n",
    "        else:\n",
    "\n",
    "            try:\n",
    "                print_verbose(\"Moving {}...\", filename)\n",
    "                shutil.move(filename, target_path)\n",
    "            except:\n",
    "                print('file {} does not exist'.format(filename))\n",
    "                \n",
    "augmented_move(\"target_folder\", \"one\", verbose=True, two=\"ignore\", three=\"ignore\")"
   ]
  },
  {
   "cell_type": "markdown",
   "metadata": {
    "slideshow": {
     "slide_type": "slide"
    }
   },
   "source": [
    "Unpacking arguments\n",
    "* can provide arguments as sequence, list, or dictionary"
   ]
  },
  {
   "cell_type": "code",
   "execution_count": 53,
   "metadata": {
    "slideshow": {
     "slide_type": "slide"
    }
   },
   "outputs": [
    {
     "name": "stdout",
     "output_type": "stream",
     "text": [
      "0 1 THREE\n",
      "ONE TWO THREE\n"
     ]
    }
   ],
   "source": [
    "def show_args(arg1, arg2, arg3=\"THREE\"):\n",
    "    print(arg1, arg2, arg3)\n",
    "    \n",
    "some_args = range(2)\n",
    "more_args = {\n",
    "    \"arg1\": \"ONE\",\n",
    "    \"arg2\": \"TWO\"\n",
    "}\n",
    "\n",
    "\n",
    "show_args(*some_args)\n",
    "show_args(**more_args)"
   ]
  },
  {
   "cell_type": "code",
   "execution_count": 56,
   "metadata": {
    "slideshow": {
     "slide_type": "slide"
    }
   },
   "outputs": [
    {
     "data": {
      "image/svg+xml": [
       "<svg xmlns=\"http://www.w3.org/2000/svg\" xmlns:xlink=\"http://www.w3.org/1999/xlink\" width=\"100.0\" height=\"100.0\" viewBox=\"-0.4 -0.4 5.800000000000001 10.8\" preserveAspectRatio=\"xMinYMin meet\"><g transform=\"matrix(1,0,0,-1,0,10.0)\"><path fill-rule=\"evenodd\" fill=\"#66cc99\" stroke=\"#555555\" stroke-width=\"0.21600000000000003\" opacity=\"0.6\" d=\"M 5.0,0.0 L 5.0,10.0 L 0.0,10.0 L 0.0,0.0 L 5.0,0.0 z\" /></g></svg>"
      ],
      "text/plain": [
       "<shapely.geometry.polygon.Polygon at 0x2e053c56d30>"
      ]
     },
     "execution_count": 56,
     "metadata": {},
     "output_type": "execute_result"
    }
   ],
   "source": [
    "# a more practical example for us...\n",
    "from shapely.geometry import box\n",
    "bounds = [0,0,5,10]\n",
    "box(*bounds)\n",
    "# help(box)"
   ]
  },
  {
   "cell_type": "markdown",
   "metadata": {
    "slideshow": {
     "slide_type": "slide"
    }
   },
   "source": [
    "Treating functions like objects\n",
    "* if you want, you can set descriptions or any other named attribute on a function\n",
    "    * why would you want to do this?\n",
    "* you have access to the \\__name__ attribute\n",
    "\n",
    "Let's go through the timer example because I found it odd..."
   ]
  },
  {
   "cell_type": "code",
   "execution_count": 61,
   "metadata": {},
   "outputs": [
    {
     "data": {
      "text/plain": [
       "('something', 'function_object')"
      ]
     },
     "execution_count": 61,
     "metadata": {},
     "output_type": "execute_result"
    }
   ],
   "source": [
    "def function_object():\n",
    "    '''help doc'''\n",
    "    pass\n",
    "\n",
    "function_object.whatever = 'something'\n",
    "function_object.whatever, function_object.__name__\n",
    "# help(function_object)"
   ]
  },
  {
   "cell_type": "markdown",
   "metadata": {
    "slideshow": {
     "slide_type": "slide"
    }
   },
   "source": [
    "PyTorch DataLoader example - Sampling an image -- won't work if you don't have the data/libraries... so don't worry about it!! I've kept it for the figures."
   ]
  },
  {
   "cell_type": "code",
   "execution_count": 62,
   "metadata": {
    "slideshow": {
     "slide_type": "slide"
    }
   },
   "outputs": [],
   "source": [
    "from test_unet_helpers import get_points_list, gtDatasetSampler2\n",
    "\n",
    "gt_image_2 = '../smart_cities/rasters/union_impervious_raster_2_0_0_wgs84.tif'\n",
    "dg_id = '1030010057062200'\n",
    "shpfile = '../smart_cities/union/union.shp'\n",
    "\n",
    "coords = get_points_list(gt_image_2, dg_id, shpfile, num=100)"
   ]
  },
  {
   "cell_type": "code",
   "execution_count": 63,
   "metadata": {},
   "outputs": [
    {
     "data": {
      "text/plain": [
       "[(1136, 2676),\n",
       " (1721, 568),\n",
       " (1074, 1871),\n",
       " (1241, 2710),\n",
       " (1485, 544),\n",
       " (980, 1800),\n",
       " (1240, 2196),\n",
       " (1329, 2055),\n",
       " (1691, 976),\n",
       " (1574, 2323),\n",
       " (395, 1808),\n",
       " (1428, 1774),\n",
       " (721, 1966),\n",
       " (1423, 1343),\n",
       " (1308, 993),\n",
       " (648, 1599),\n",
       " (2030, 2758),\n",
       " (681, 2004),\n",
       " (556, 1722),\n",
       " (679, 2288),\n",
       " (1700, 144),\n",
       " (207, 1432),\n",
       " (570, 1878),\n",
       " (1345, 2660),\n",
       " (1478, 2437),\n",
       " (797, 1747),\n",
       " (1263, 1899),\n",
       " (2139, 2959),\n",
       " (1089, 2447),\n",
       " (1492, 474),\n",
       " (1736, 2497),\n",
       " (226, 1425),\n",
       " (1043, 1475),\n",
       " (1157, 1911),\n",
       " (1204, 2074),\n",
       " (1079, 1657),\n",
       " (1808, 2619),\n",
       " (1398, 1429),\n",
       " (1134, 1976),\n",
       " (2211, 2948),\n",
       " (1659, 690),\n",
       " (1702, 2951),\n",
       " (1342, 2668),\n",
       " (1624, 2499),\n",
       " (1531, 1156),\n",
       " (302, 1727),\n",
       " (785, 2332),\n",
       " (65, 1607),\n",
       " (824, 1389),\n",
       " (781, 2141),\n",
       " (1414, 672),\n",
       " (596, 1821),\n",
       " (1849, 2959),\n",
       " (1810, 2474),\n",
       " (1773, 2626),\n",
       " (778, 2334),\n",
       " (1273, 914),\n",
       " (175, 1621),\n",
       " (798, 2013),\n",
       " (1917, 3183),\n",
       " (2102, 2628),\n",
       " (1624, 484),\n",
       " (1731, 2956),\n",
       " (1187, 2185),\n",
       " (405, 1415),\n",
       " (1001, 2181),\n",
       " (1582, 2840),\n",
       " (2090, 2609),\n",
       " (194, 1468),\n",
       " (1328, 2561),\n",
       " (1582, 2517),\n",
       " (1777, 3024),\n",
       " (1541, 2368),\n",
       " (1375, 760),\n",
       " (141, 1633),\n",
       " (1493, 2727),\n",
       " (1263, 576),\n",
       " (1063, 2601),\n",
       " (864, 2193),\n",
       " (1715, 618),\n",
       " (110, 1532),\n",
       " (2114, 2741),\n",
       " (473, 1957),\n",
       " (1226, 1901),\n",
       " (1649, 2495),\n",
       " (630, 1849),\n",
       " (2075, 2740),\n",
       " (1594, 681),\n",
       " (1923, 2875),\n",
       " (1447, 2677),\n",
       " (1299, 532),\n",
       " (1370, 2162),\n",
       " (1556, 2498),\n",
       " (1499, 1782),\n",
       " (277, 1500),\n",
       " (1275, 727),\n",
       " (639, 1565),\n",
       " (893, 2111),\n",
       " (2004, 2810),\n",
       " (2192, 2987)]"
      ]
     },
     "execution_count": 63,
     "metadata": {},
     "output_type": "execute_result"
    }
   ],
   "source": [
    "coords"
   ]
  },
  {
   "cell_type": "code",
   "execution_count": 74,
   "metadata": {
    "slideshow": {
     "slide_type": "slide"
    }
   },
   "outputs": [],
   "source": [
    "from torch.utils.data import Dataset\n",
    "import rasterio \n",
    "import numpy as np\n",
    "import torch\n",
    "\n",
    "class gtDatasetSampler2(Dataset):\n",
    "    \"\"\"DG Dataset\"\"\"\n",
    "    def __init__(self, gtfile, coord_pair, window_size=64, transform=None):\n",
    "        \"\"\" \n",
    "        Args:\n",
    "            image_dir(string): the folder containing the DG images\n",
    "            transform (callable, optional): Optional transform to  be applies\n",
    "        \"\"\"\n",
    "        self.image_file = gtfile\n",
    "        self.transform = transform\n",
    "        self.coords = coord_pair\n",
    "        self.window_size = window_size\n",
    "        \n",
    "    \n",
    "    def __getitem__(self, idx):\n",
    "        \n",
    "        with rasterio.open(self.image_file, 'r') as src:\n",
    "            temp = src.read()\n",
    "        \n",
    "        # get the window\n",
    "        r,c = self.coords[idx]\n",
    "        r_start = int(r - self.window_size/2)\n",
    "        r_end = int(r_start + self.window_size)\n",
    "        c_start = int(c - self.window_size/2)\n",
    "        c_end = int(c_start + self.window_size)\n",
    "        \n",
    "        # extract the window\n",
    "        img_arr = temp[0,r_start:r_end, c_start:c_end]\n",
    "        img_arr = np.expand_dims(img_arr, axis=0)\n",
    "\n",
    "        # set no data to 0\n",
    "        img_arr[img_arr == 3] = 0\n",
    "        \n",
    "        # convert to tensor\n",
    "        img_arr = torch.from_numpy(img_arr).float()\n",
    "        \n",
    "        return img_arr\n",
    "    \n",
    "    def __len__(self):\n",
    "        return len(self.coords)\n"
   ]
  },
  {
   "cell_type": "code",
   "execution_count": 70,
   "metadata": {
    "slideshow": {
     "slide_type": "slide"
    }
   },
   "outputs": [
    {
     "data": {
      "text/plain": [
       "(100, 100)"
      ]
     },
     "execution_count": 70,
     "metadata": {},
     "output_type": "execute_result"
    }
   ],
   "source": [
    "from torchvision.transforms import ToTensor, Normalize, Compose\n",
    "from torch.utils.data import DataLoader\n",
    "\n",
    "gt_transform = Compose([\n",
    "    ToTensor()\n",
    "    ])\n",
    "\n",
    "gt_dataset_train = gtDatasetSampler2(gt_image_2, coords, transform=gt_transform) \n",
    "# gt_dl_train = DataLoader(gt_dataset_train, batch_size=5, shuffle=False)\n",
    "\n",
    "len(gt_dataset_train), len(coords)"
   ]
  },
  {
   "cell_type": "code",
   "execution_count": 77,
   "metadata": {
    "slideshow": {
     "slide_type": "slide"
    }
   },
   "outputs": [
    {
     "data": {
      "image/png": "[encoded data removed]",
      "text/plain": [
       "<matplotlib.figure.Figure at 0x2e0542c5e80>"
      ]
     },
     "metadata": {},
     "output_type": "display_data"
    }
   ],
   "source": [
    "from matplotlib import pyplot as plt\n",
    "plt.imshow(gt_dataset_train[0][0])\n",
    "plt.show()"
   ]
  },
  {
   "cell_type": "code",
   "execution_count": 76,
   "metadata": {},
   "outputs": [
    {
     "data": {
      "text/plain": [
       "torch.Size([1, 64, 64])"
      ]
     },
     "execution_count": 76,
     "metadata": {},
     "output_type": "execute_result"
    }
   ],
   "source": [
    "gt_dataset_train[1].shape"
   ]
  },
  {
   "cell_type": "code",
   "execution_count": null,
   "metadata": {},
   "outputs": [],
   "source": []
  }
 ],
 "metadata": {
  "celltoolbar": "Slideshow",
  "kernelspec": {
   "display_name": "Python [conda env:eapy_gbdx]",
   "language": "python",
   "name": "conda-env-eapy_gbdx-py"
  },
  "language_info": {
   "codemirror_mode": {
    "name": "ipython",
    "version": 3
   },
   "file_extension": ".py",
   "mimetype": "text/x-python",
   "name": "python",
   "nbconvert_exporter": "python",
   "pygments_lexer": "ipython3",
   "version": "3.6.4"
  }
 },
 "nbformat": 4,
 "nbformat_minor": 2
}
