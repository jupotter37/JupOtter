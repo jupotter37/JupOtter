{
 "cells": [
  {
   "cell_type": "markdown",
   "metadata": {},
   "source": [
    "This is an early exploration to get runtime support for `Generics` to work in MicroPython \n"
   ]
  },
  {
   "cell_type": "code",
   "execution_count": 13,
   "metadata": {},
   "outputs": [
    {
     "name": "stdout",
     "output_type": "stream",
     "text": [
      "Install __future__\n",
      "Installing __future__ (latest) from https://micropython.org/pi/v2 to /lib\n",
      "Installing: /lib/__future__.mpy\n",
      "Done\n",
      "d:\\mypython\\!-stubtestprojects\\rt_typing\\mp\n"
     ]
    },
    {
     "name": "stderr",
     "output_type": "stream",
     "text": [
      "d:\\mypython\\!-stubtestprojects\\rt_typing\\.venv\\Lib\\site-packages\\IPython\\core\\magics\\osm.py:417: UserWarning: This is now an optional IPython functionality, setting dhist requires you to install the `pickleshare` library.\n",
      "  self.shell.db['dhist'] = compress_dhist(dhist)[-100:]\n"
     ]
    },
    {
     "name": "stdout",
     "output_type": "stream",
     "text": [
      "d:\\mypython\\!-stubtestprojects\\rt_typing\n",
      "ls :/\n",
      "           0 lib/\n",
      "ls :/lib\n",
      "         202 __future__.mpy\n",
      "          70 abc.mpy\n",
      "           0 collections/\n",
      "         381 typing.mpy\n",
      "          66 typing_extensions.mpy\n",
      "ls :/lib/collections\n",
      "          82 abc.mpy\n",
      "True\n"
     ]
    }
   ],
   "source": [
    "%run ./deploy.ipynb"
   ]
  },
  {
   "cell_type": "markdown",
   "metadata": {},
   "source": [
    "### Generics in MicroPython"
   ]
  },
  {
   "cell_type": "code",
   "execution_count": 12,
   "metadata": {},
   "outputs": [
    {
     "name": "stdout",
     "output_type": "stream",
     "text": [
      "a\n",
      "str\n",
      "a\n",
      "1\n",
      "int\n",
      "1\n"
     ]
    }
   ],
   "source": [
    "# %%micropython\n",
    "from typing import List, TypeVar, reveal_type\n",
    "\n",
    "T = TypeVar(\"T\")\n",
    "\n",
    "\n",
    "def first(container: List[T]) -> T:\n",
    "    return container[0]\n",
    "\n",
    "\n",
    "list_one: List[str] = [\"a\", \"b\", \"c\"]\n",
    "print(first(list_one))\n",
    "print(reveal_type(first(list_one)))\n",
    "\n",
    "list_two: List[int] = [1, 2, 3]\n",
    "print(first(list_two))\n",
    "print(reveal_type(first(list_two)))"
   ]
  },
  {
   "cell_type": "code",
   "execution_count": 16,
   "metadata": {},
   "outputs": [
    {
     "name": "stdout",
     "output_type": "stream",
     "text": [
      "1\n"
     ]
    }
   ],
   "source": [
    "# python\n",
    "\n",
    "from typing import Dict, TypeVar\n",
    "\n",
    "K = TypeVar(\"K\")\n",
    "V = TypeVar(\"V\")\n",
    "\n",
    "\n",
    "def get_item(key: K, container: Dict[K, V]) -> V:\n",
    "    return container[key]\n",
    "\n",
    "\n",
    "test: Dict[str, int] = {\"k\": 1}\n",
    "print(get_item(\"k\", test))\n",
    "assert isinstance(get_item(\"k\", test), int), \"Expected int\""
   ]
  },
  {
   "cell_type": "code",
   "execution_count": 36,
   "metadata": {},
   "outputs": [
    {
     "name": "stdout",
     "output_type": "stream",
     "text": [
      "1\n"
     ]
    }
   ],
   "source": [
    "# %%micropython\n",
    "\n",
    "from typing import Dict, TypeVar\n",
    "\n",
    "K = TypeVar(\"K\")\n",
    "V = TypeVar(\"V\")\n",
    "\n",
    "\n",
    "def get_item(key: K, container: Dict[K, V]) -> V:\n",
    "    return container[key]\n",
    "\n",
    "\n",
    "test: Dict[str, int] = {\"k\": 1}\n",
    "print(get_item(\"k\", test))\n",
    "assert isinstance(get_item(\"k\", test), int), \"Expected int\""
   ]
  },
  {
   "cell_type": "markdown",
   "metadata": {},
   "source": [
    "### User defined Generic Types\n"
   ]
  },
  {
   "cell_type": "code",
   "execution_count": 21,
   "metadata": {},
   "outputs": [
    {
     "name": "stdout",
     "output_type": "stream",
     "text": [
      "{'_store': {'husband': 'steve', 'dad': 'john'}, '__orig_class__': __main__.Registry[str]}\n"
     ]
    }
   ],
   "source": [
    "# python\n",
    "from typing import Dict, Generic, TypeVar\n",
    "\n",
    "T = TypeVar(\"T\")\n",
    "\n",
    "\n",
    "class Registry(Generic[T]):\n",
    "    def __init__(self) -> None:\n",
    "        self._store: Dict[str, T] = {}\n",
    "\n",
    "    def set_item(self, k: str, v: T) -> None:\n",
    "        self._store[k] = v\n",
    "\n",
    "    def get_item(self, k: str) -> T:\n",
    "        return self._store[k]\n",
    "\n",
    "\n",
    "family_name_reg = Registry[str]()\n",
    "family_age_reg = Registry[int]()\n",
    "\n",
    "family_name_reg.set_item(\"husband\", \"steve\")\n",
    "family_name_reg.set_item(\"dad\", \"john\")\n",
    "\n",
    "family_age_reg.set_item(\"steve\", 30)\n",
    "\n",
    "print(repr(family_name_reg.__dict__))"
   ]
  },
  {
   "cell_type": "code",
   "execution_count": 26,
   "metadata": {},
   "outputs": [],
   "source": [
    "# %%micropython\n",
    "def trace(func):\n",
    "\n",
    "    def wrapper(*args, **kwargs):\n",
    "        print(f\"Trace: {func.__name__} called with args={args}, kwargs={kwargs}\")\n",
    "        return func(*args, **kwargs)\n",
    "\n",
    "    return wrapper"
   ]
  },
  {
   "cell_type": "code",
   "execution_count": 30,
   "metadata": {},
   "outputs": [
    {
     "name": "stdout",
     "output_type": "stream",
     "text": [
      "1\n",
      "2\n"
     ]
    },
    {
     "ename": "MCUException",
     "evalue": "TypeError: 'type' object isn't subscriptable\r\n",
     "output_type": "error",
     "traceback": [
      "\u001b[1;31mMCUException\u001b[0m\u001b[1;31m:\u001b[0m TypeError: 'type' object isn't subscriptable\r\n\n"
     ]
    }
   ],
   "source": [
    "# %%micropython\n",
    "from typing import Dict, Generic, TypeVar\n",
    "\n",
    "\n",
    "class Generic:\n",
    "    \"\"\"A class to ignore type hints in code.\"\"\"\n",
    "\n",
    "    @trace\n",
    "    def __init__(*args, **kwargs):\n",
    "        pass\n",
    "\n",
    "    @trace\n",
    "    def __call__(*args, **kwargs):\n",
    "        # May need some guardrails here\n",
    "        pass\n",
    "\n",
    "    @trace\n",
    "    def get_item(self, k):\n",
    "\n",
    "        return \"foo\"\n",
    "\n",
    "    @trace\n",
    "    def __getitem__(self, arg):\n",
    "        # May need some guardrails here\n",
    "        return __ignore\n",
    "\n",
    "    # @trace\n",
    "    def __getattr__(self, name):\n",
    "        if name in self.__dict__:\n",
    "            return self.__dict__[name]\n",
    "        # return __ignore\n",
    "\n",
    "\n",
    "print(1)\n",
    "T = TypeVar(\"T\")\n",
    "\n",
    "print(2)\n",
    "\n",
    "class Registry(Generic[T]):\n",
    "    def __init__(self) -> None:\n",
    "\n",
    "        # self._store: Dict[str, T] = {}\n",
    "        pass\n",
    "\n",
    "    def set_item(self, k: str, v: T) -> None:\n",
    "        # self._store[k] = v\n",
    "        pass\n",
    "\n",
    "    def get_item(self, k: str) -> T:\n",
    "        # return self._store[k]\n",
    "        pass\n",
    "\n",
    "print(3)\n",
    "\n",
    "family_name_reg = Registry[str]()\n",
    "family_age_reg = Registry[int]()\n",
    "\n",
    "family_name_reg.set_item(\"husband\", \"steve\")\n",
    "family_name_reg.set_item(\"dad\", \"john\")\n",
    "\n",
    "family_age_reg.set_item(\"steve\", 30)\n",
    "\n",
    "print(repr(family_name_reg.__dict__))"
   ]
  },
  {
   "cell_type": "code",
   "execution_count": 49,
   "metadata": {},
   "outputs": [
    {
     "name": "stdout",
     "output_type": "stream",
     "text": [
      "True\n",
      "<__Ignore object at 20008d90> ['__dir__', '\\n', ' ', '*', '/', '<module>', '_', '__call__', '__class__', '__delitem__', '__enter__', '__exit__', '__getattr__', '__getitem__', '__hash__', '__init__', '__int__', '__iter__', '__len__', '__main__', '__module__', '__name__', '__new__', '__next__', '__qualname__', '__repr__', '__setitem__', '__str__', 'ArithmeticError', 'AssertionError', 'AttributeError', 'BaseException', 'EOFError', 'Ellipsis', 'Exception', 'GeneratorExit', 'ImportError', 'IndentationError', 'IndexError', 'KeyError', 'KeyboardInterrupt', 'LookupError', 'MemoryError', 'NameError', 'NoneType', 'NotImplementedError', 'OSError', 'OverflowError', 'RuntimeError', 'StopIteration', 'SyntaxError', 'SystemExit', 'TypeError', 'ValueError', 'ZeroDivisionError', 'abs', 'all', 'any', 'append', 'args', 'bool', 'builtins', 'bytearray', 'bytecode', 'bytes', 'callable', 'chr', 'classmethod', 'clear', 'close', 'const', 'copy', 'count', 'dict', 'dir', 'divmod', 'end', 'endswith', 'eval', 'exec', 'extend', 'find', 'format', 'from_bytes', 'get', 'getattr', 'globals', 'hasattr', 'hash', 'id', 'index', 'insert', 'int', 'isalpha', 'isdigit', 'isinstance', 'islower', 'isspace', 'issubclass', 'isupper', 'items', 'iter', 'join', 'key', 'keys', 'len', 'list', 'little', 'locals', 'lower', 'lstrip', 'main', 'map', 'micropython', 'next', 'object', 'open', 'ord', 'pop', 'popitem', 'pow', 'print', 'range', 'read', 'readinto', 'readline', 'remove', 'replace', 'repr', 'reverse', 'rfind', 'rindex', 'round', 'rsplit', 'rstrip', 'self', 'send', 'sep', 'set', 'setattr', 'setdefault', 'sort', 'sorted', 'split', 'start', 'startswith', 'staticmethod', 'step', 'stop', 'str', 'strip', 'sum', 'super', 'throw', 'to_bytes', 'tuple', 'type', 'update', 'upper', 'utf-8', 'value', 'values', 'write', 'zip', '<dictcomp>', '<genexpr>', '<lambda>', '<listcomp>', '<setcomp>', '__abs__', '__add__', '__and__', '__bool__', '__complex__', '__contains__', '__delete__', '__divmod__', '__eq__', '__float__', '__floordiv__', '__ge__', '__get__', '__gt__', '__iadd__', '__invert__', '__isub__', '__le__', '__lshift__', '__lt__', '__matmul__', '__mod__', '__mul__', '__ne__', '__neg__', '__or__', '__pos__', '__pow__', '__radd__', '__rand__', '__rfloordiv__', '__rlshift__', '__rmatmul__', '__rmod__', '__rmul__', '__ror__', '__rpow__', '__rrshift__', '__rshift__', '__rsub__', '__rtruediv__', '__rxor__', '__set__', '__sub__', '__truediv__', '__xor__', '%#o', '%#x', '... ', '.frozen', '/lib', '<stdin>', '<string>', '>>> ', 'ADC', 'ALT', 'ALT_GPCK', 'ALT_I2C', 'ALT_PIO0', 'ALT_PIO1', 'ALT_PWM', 'ALT_SIO', 'ALT_SPI', 'ALT_UART', 'ALT_USB', 'ARRAY', 'AUTO', 'BFINT16', 'BFINT32', 'BFINT8', 'BFUINT16', 'BFUINT32', 'BFUINT8', 'BF_LEN', 'BF_POS', 'BIG_ENDIAN', 'BUILTIN_CDC', 'BUILTIN_DEFAULT', 'BUILTIN_NONE', 'BytesIO', 'CORE_TEMP', 'CTS', 'CancelledError', 'DMA', 'DeflateIO', 'EACCES', 'EADDRINUSE', 'EAGAIN', 'EALREADY', 'EBADF', 'ECONNABORTED', 'ECONNREFUSED', 'ECONNRESET', 'EEXIST', 'EHOSTUNREACH', 'EINPROGRESS', 'EINVAL', 'EIO', 'EISDIR', 'ENOBUFS', 'ENODEV', 'ENOENT', 'ENOMEM', 'ENOTCONN', 'EOPNOTSUPP', 'EPERM', 'ETIMEDOUT', 'FLOAT32', 'FLOAT64', 'FileIO', 'Flash', 'FrameBuffer', 'FrameBuffer1', 'GP0', 'GP1', 'GP10', 'GP11', 'GP12', 'GP13', 'GP14', 'GP15', 'GP16', 'GP17', 'GP18', 'GP19', 'GP2', 'GP20', 'GP21', 'GP22', 'GP25', 'GP26', 'GP27', 'GP28', 'GP3', 'GP4', 'GP5', 'GP6', 'GP7', 'GP8', 'GP9', 'GPCK', 'GPIO0', 'GPIO1', 'GPIO10', 'GPIO11', 'GPIO12', 'GPIO13', 'GPIO14', 'GPIO15', 'GPIO16', 'GPIO17', 'GPIO18', 'GPIO19', 'GPIO2', 'GPIO20', 'GPIO21', 'GPIO22', 'GPIO23', 'GPIO24', 'GPIO25', 'GPIO26', 'GPIO27', 'GPIO28', 'GPIO29', 'GPIO3', 'GPIO4', 'GPIO5', 'GPIO6', 'GPIO7', 'GPIO8', 'GPIO9', 'GS2_HMSB', 'GS4_HMSB', 'GS8', 'GZIP', 'I2C', 'I2S', 'IN', 'INT', 'INT16', 'INT32', 'INT64', 'INT8', 'INV_RX', 'INV_TX', 'IN_HIGH', 'IN_LOW', 'IOBase', 'IRQ_FALLING', 'IRQ_RISING', 'IRQ_SM0', 'IRQ_SM1', 'IRQ_SM2', 'IRQ_SM3', 'JOIN_NONE', 'JOIN_RX', 'JOIN_TX', 'LED', 'LITTLE_ENDIAN', 'LONG', 'LONGLONG', 'LSB', 'LockType', 'MONO', 'MONO_HLSB', 'MONO_HMSB', 'MONO_VLSB', 'MSB', 'MVLSB', 'NATIVE', 'None', 'NotImplemented', 'ONE_SHOT', 'OPEN_DRAIN', 'OUT', 'OUT_HIGH', 'OUT_LOW', 'OrderedDict', 'PERIODIC', 'PIO', 'PIO0', 'PIO1', 'POLLERR', 'POLLHUP', 'POLLIN', 'POLLOUT', 'PTR', 'PULL_DOWN', 'PULL_UP', 'PWM', 'PWRON_RESET', 'Pin', 'PinAF', 'RAW', 'RGB565', 'RTC', 'RTS', 'RX', 'SHIFT_LEFT', 'SHIFT_RIGHT', 'SHORT', 'SIO', 'SPI', 'STEREO', 'Signal', 'SoftI2C', 'SoftSPI', 'StateMachine', 'StopAsyncIteration', 'StringIO', 'TX', 'Task', 'TaskQueue', 'TextIOWrapper', 'Timer', 'UART', 'UINT', 'UINT16', 'UINT32', 'UINT64', 'UINT8', 'ULONG', 'ULONGLONG', 'USB', 'USBDevice', 'USHORT', 'UnicodeError', 'VOID', 'VfsFat', 'VfsLfs2', 'ViperTypeError', 'WDT', 'WDT_RESET', 'ZLIB', '__aenter__', '__aexit__', '__aiter__', '__anext__', '__bases__', '__build_class__', '__del__', '__dict__', '__file__', '__globals__', '__import__', '__path__', '__repl_print__', '__reversed__', '__traceback__', '_asyncio', '_machine', '_mpy', '_onewire', '_rp2', '_task_queue', '_thread', 'a2b_base64', 'abs_tol', 'acos', 'acosh', 'acquire', 'active', 'add', 'add_program', 'addr', 'addressof', 'addrsize', 'aes', 'ahb_err', 'align', 'alloc_emergency_exception_buf', 'allocate_lock', 'alt', 'and_', 'appendleft', 'arg', 'argv', 'array', 'asin', 'asinh', 'asm_pio_encode', 'asm_thumb', 'asr', 'atan', 'atan2', 'atanh', 'b', 'b2a_base64', 'baudrate', 'bin', 'binascii', 'bits', 'bitstream', 'bl', 'blit', 'board', 'bootloader', 'bootsel_button', 'bound_method', 'bswap', 'buf', 'buffer', 'buffering', 'builtin_driver', 'busy', 'bx', 'bytearray_at', 'byteorder', 'bytes_at', 'calcsize', 'callback', 'cancel', 'ceil', 'center', 'chain_to', 'channel', 'chdir', 'choice', 'closure', 'clz', 'cmath', 'cmp', 'code', 'collect', 'collections', 'compile', 'complex', 'config', 'control_xfer_cb', 'copysign', 'coro', 'cos', 'cosh', 'cpsid', 'cpsie', 'cpu', 'crc32', 'crc8', 'cryptolib', 'ctrl', 'cts', 'cur_task', 'data', 'datetime', 'decode', 'decrypt', 'deepsleep', 'default', 'deflate', 'degrees', 'deinit', 'delattr', 'deleter', 'deque', 'desc_cfg', 'desc_dev', 'desc_strs', 'dht_readinto', 'dict_view', 'difference', 'difference_update', 'digest', 'disable', 'disable_irq', 'discard', 'doc', 'done', 'dump', 'dumps', 'dupterm', 'dupterm_notify', 'duty_ns', 'duty_u16', 'e', 'ellipse', 'enable', 'enable_irq', 'encode', 'encoding', 'encrypt', 'enumerate', 'ep_max', 'erf', 'erfc', 'errno', 'errorcode', 'execfile', 'exit', 'exp', 'expm1', 'fabs', 'factorial', 'feed', 'file', 'fill', 'fill_rect', 'filter', 'firstbit', 'flags', 'float', 'floor', 'flow', 'flush', 'fmod', 'framebuf', 'freq', 'frexp', 'fromhex', 'fromkeys', 'frozenset', 'function', 'gamma', 'gc', 'generator', 'get_ident', 'getcwd', 'getrandbits', 'getter', 'getvalue', 'gmtime', 'group', 'groups', 'handler', 'hard', 'hashlib', 'heap_lock', 'heap_unlock', 'heapify', 'heappop', 'heappush', 'heapq', 'help', 'hex', 'hexlify', 'high', 'high_pri', 'hline', 'ibuf', 'idle', 'ilistdir', 'imag', 'implementation', 'in_base', 'in_shiftdir', 'inc_read', 'inc_write', 'indices', 'inf', 'init', 'input', 'intersection', 'intersection_update', 'invert', 'io', 'ioctl', 'ipoll', 'irq', 'irq_quiet', 'isclose', 'isdisjoint', 'isenabled', 'isfinite', 'isinf', 'isnan', 'issubset', 'issuperset', 'iterable', 'iterator', 'itf_max', 'jmp_pin', 'json', 'kbd_intr', 'keepends', 'label', 'ldexp', 'ldr', 'ldrb', 'ldrex', 'ldrh', 'lgamma', 'libc_ver', 'lightsleep', 'line', 'listdir', 'load', 'loads', 'localtime', 'lock', 'locked', 'log', 'log10', 'log2', 'lookahead', 'low', 'lsl', 'lsr', 'machine', 'match', 'math', 'max', 'maximum recursion depth exceeded', 'maxsize', 'mem', 'mem16', 'mem32', 'mem8', 'mem_alloc', 'mem_free', 'mem_info', 'memaddr', 'memoryview', 'min', 'miso', 'mkdir', 'mkfs', 'mktime', 'mode', 'modf', 'modify', 'module', 'modules', 'mosi', 'mount', 'mov', 'movt', 'movw', 'movwt', 'mrs', 'mtime', 'name', 'namedtuple', 'nan', 'native', 'newline', 'nodename', 'nop', 'oct', 'off', 'on', 'onewire', 'open_itf_cb', 'opt_level', 'os', 'out_base', 'out_shiftdir', 'pack', 'pack_ctrl', 'pack_into', 'parity', 'partition', 'path', 'peek', 'pend_throw', 'period', 'ph_key', 'phase', 'pi', 'pixel', 'platform', 'polar', 'polarity', 'poll', 'poly', 'popleft', 'print_exception', 'prog', 'progsize', 'property', 'ps1', 'ps2', 'ptr', 'ptr16', 'ptr32', 'ptr8', 'pull', 'pull_thresh', 'push', 'push_thresh', 'put', 'python_compiler', 'qstr_info', 'r', 'radians', 'randint', 'random', 'randrange', 'rate', 'rb', 'rbit', 're', 'read_err', 'read_u16', 'readbit', 'readblocks', 'readbyte', 'readfrom', 'readfrom_into', 'readfrom_mem', 'readfrom_mem_into', 'readlines', 'readonly', 'readsize', 'real', 'rect', 'register', 'registers', 'rel_tol', 'release', 'remove_program', 'rename', 'reset', 'reset_cause', 'reset_cb', 'restart', 'reversed', 'ring_sel', 'ring_size', 'rmdir', 'rp2', 'rpartition', 'rts', 'rx', 'rx_fifo', 'rxbuf', 'scan', 'schedule', 'sck', 'scl', 'scroll', 'sd', 'sda', 'sdiv', 'search', 'seed', 'seek', 'select', 'sendbreak', 'separators', 'set_base', 'setter', 'sha1', 'sha256', 'shift', 'sideset_base', 'sin', 'single', 'sinh', 'size', 'sizeof', 'sleep', 'sleep_ms', 'sleep_us', 'slice', 'sniff_en', 'soft_reset', 'span', 'splitlines', 'sqrt', 'stack_size', 'stack_use', 'stall', 'start_new_thread', 'stat', 'state', 'state_machine', 'statvfs', 'stderr', 'stdin', 'stdout', 'str_max', 'strb', 'strex', 'strh', 'struct', 'sub', 'submit_xfer', 'symmetric_difference', 'symmetric_difference_update', 'sync', 'sys', 'sysname', 'tan', 'tanh', 'tau', 'tell', 'text', 'threshold', 'tick_hz', 'ticks_add', 'ticks_cpu', 'ticks_diff', 'ticks_ms', 'ticks_us', 'time', 'time_ns', 'time_pulse_us', 'timeout', 'timeout_char', 'toggle', 'treq_sel', 'trigger', 'trunc', 'tx', 'tx_fifo', 'txbuf', 'txdone', 'uctypes', 'udiv', 'uint', 'umount', 'uname', 'unhexlify', 'uniform', 'union', 'unique_id', 'unlink', 'unpack', 'unpack_ctrl', 'unpack_from', 'unregister', 'urandom', 'usys', 'vcmp', 'vcvt_f32_s32', 'vcvt_s32_f32', 'version', 'version_info', 'vfs', 'viper', 'vldr', 'vline', 'vmov', 'vmrs', 'vneg', 'vsqrt', 'vstr', 'wfi', 'write_err', 'write_readinto', 'writebit', 'writeblocks', 'writebyte', 'writeto', 'writeto_mem', 'writevto', 'ws', 'xfer_cb', '{:#b}', '0.1.0', 'CRC error', 'DHT11', 'DHT22', 'DHTBase', 'DS18X20', 'Event', 'H', 'IOQueue', 'Lock', 'Lock not acquired', 'Loop', 'MATCH_ROM', 'NeoPixel', 'ORDER', 'OneWire', 'OneWireError', 'PIOASMEmit', 'PIOASMError', 'PROTOCOL_TLS_CLIENT', 'SEARCH_ROM', 'SKIP_ROM', 'SOCK_STREAM', 'SOL_SOCKET', 'SO_REUSEADDR', 'SSLContext', 'Server', 'SingletonGenerator', 'Stream', 'StreamReader', 'StreamWriter', 'ThreadSafeFlag', 'TimeoutError', '_Remove', '__version__', '_attrs', '_boot.py', '_boot_fat.py', '_dequeue', '_enqueue', '_exc_context', '_exc_handler', '_io_queue', '_ow', '_pio_funcs', '_promote_to_task', '_run', '_search_rom', '_serve', '_stop_task', '_stopper', 'accept', 'aclose', 'asm_pio', 'asyncio', 'asyncio/__init__.py', 'asyncio/core.py', 'asyncio/event.py', 'asyncio/funcs.py', 'asyncio/lock.py', 'asyncio/stream.py', 'attr', 'autopull', 'autopush', 'aw', 'awrite', 'awritestr', 'backlog', 'bdev', 'bind', 'block', 'bpp', 'call_exception_handler', \"can't gather\", 'cb', 'checksum error', 'cond', 'connect', 'context', 'convert_temp', 'core', 'coro=', 'coroutine expected', 'create_task', 'current_task', 'dec', 'default_exception_handler', 'delay', 'delay too large', 'delay_max', 'dest', 'dht.py', 'diff', 'do_handshake_on_connect', 'drain', 'ds18x20.py', 'dt', 'duplicate label {}', 'er', 'esp', 'event', 'exc', 'exc_type', 'exception', 'f', 'fifo_join', 'fs', 'funcs', 'future', 'future:', 'gather', 'get_event_loop', 'get_exception_handler', 'get_extra_info', 'getaddrinfo', 'gpio', 'host', 'humidity', 'i', 'idx', 'ifempty', 'iffull', 'in_', 'instr', 'invalid bit count {}', 'is_set', 'isr', 'jmp', 'l_rom', 'labels', 'listen', 'loop', 'main_task', 'measure', 'message', 'mod', 'n', 'neopixel.py', 'new_event_loop', 'no running event loop', 'no sideset', 'noblock', 'not_osre', 'not_x', 'not_y', 'null', 'num_instr', 'num_sideset', 'onewire.py', 'open_connection', 'osr', 'out', 'out_buf', 'out_init', 'ow', 'pass_', 'pc', 'peername', 'pin', 'pindirs', 'pins', 'poller', 'port', 'pyb', 'pyboard', 'queue_read', 'queue_write', 'read_scratch', 'read_temp', 'readexactly', 'rel', 'req', 'required', 'return_exceptions', 'rom', 'rp2.py', 'run', 'run_forever', 'run_until_complete', 'runq_len', 's', 'select_rom', 'server_hostname', 'server_side', 'set_exception_handler', 'set_init', 'setblocking', 'setsockopt', 'sgen', 'side', 'sideset too large', 'sideset_count', 'sideset_init', 'sideset_opt', 'socket', 'src', 'ssl', 'start_pass', 'start_server', 'status', 'stream', 'stream_awrite', 'sz', 't', 'task', 'tb', 'temperature', 'ticks', 'timing', 'uasyncio.py', 'unknown label {}', 'v', 'value2', 'wait', 'wait_closed', 'wait_for', 'wait_for_ms', 'wait_io_event', 'waiter', 'waiting', 'waitq_len', 'word', 'wrap', 'wrap_socket', 'wrap_target', 'wrap_used', 'write_scratch', 'x', 'x_dec', 'x_not_y', 'y', 'y_dec', 'typing', 'TypeVar', '__ignore', 'Generic', 'T', '/lib/typing.mpy', 'typing.py', '__Ignore', 'cast', 'reveal_type', 'get_args', 'no_type_check', 'final', 'overload', 'NewType', 'DEBUG', 'val', 'func']\n",
      "['__class__'] None\n",
      "<class '__Ignore'>\n",
      "['__dir__', '\\n', ' ', '*', '/', '<module>', '_', '__call__', '__class__', '__delitem__', '__enter__', '__exit__', '__getattr__', '__getitem__', '__hash__', '__init__', '__int__', '__iter__', '__len__', '__main__', '__module__', '__name__', '__new__', '__next__', '__qualname__', '__repr__', '__setitem__', '__str__', 'ArithmeticError', 'AssertionError', 'AttributeError', 'BaseException', 'EOFError', 'Ellipsis', 'Exception', 'GeneratorExit', 'ImportError', 'IndentationError', 'IndexError', 'KeyError', 'KeyboardInterrupt', 'LookupError', 'MemoryError', 'NameError', 'NoneType', 'NotImplementedError', 'OSError', 'OverflowError', 'RuntimeError', 'StopIteration', 'SyntaxError', 'SystemExit', 'TypeError', 'ValueError', 'ZeroDivisionError', 'abs', 'all', 'any', 'append', 'args', 'bool', 'builtins', 'bytearray', 'bytecode', 'bytes', 'callable', 'chr', 'classmethod', 'clear', 'close', 'const', 'copy', 'count', 'dict', 'dir', 'divmod', 'end', 'endswith', 'eval', 'exec', 'extend', 'find', 'format', 'from_bytes', 'get', 'getattr', 'globals', 'hasattr', 'hash', 'id', 'index', 'insert', 'int', 'isalpha', 'isdigit', 'isinstance', 'islower', 'isspace', 'issubclass', 'isupper', 'items', 'iter', 'join', 'key', 'keys', 'len', 'list', 'little', 'locals', 'lower', 'lstrip', 'main', 'map', 'micropython', 'next', 'object', 'open', 'ord', 'pop', 'popitem', 'pow', 'print', 'range', 'read', 'readinto', 'readline', 'remove', 'replace', 'repr', 'reverse', 'rfind', 'rindex', 'round', 'rsplit', 'rstrip', 'self', 'send', 'sep', 'set', 'setattr', 'setdefault', 'sort', 'sorted', 'split', 'start', 'startswith', 'staticmethod', 'step', 'stop', 'str', 'strip', 'sum', 'super', 'throw', 'to_bytes', 'tuple', 'type', 'update', 'upper', 'utf-8', 'value', 'values', 'write', 'zip', '<dictcomp>', '<genexpr>', '<lambda>', '<listcomp>', '<setcomp>', '__abs__', '__add__', '__and__', '__bool__', '__complex__', '__contains__', '__delete__', '__divmod__', '__eq__', '__float__', '__floordiv__', '__ge__', '__get__', '__gt__', '__iadd__', '__invert__', '__isub__', '__le__', '__lshift__', '__lt__', '__matmul__', '__mod__', '__mul__', '__ne__', '__neg__', '__or__', '__pos__', '__pow__', '__radd__', '__rand__', '__rfloordiv__', '__rlshift__', '__rmatmul__', '__rmod__', '__rmul__', '__ror__', '__rpow__', '__rrshift__', '__rshift__', '__rsub__', '__rtruediv__', '__rxor__', '__set__', '__sub__', '__truediv__', '__xor__', '%#o', '%#x', '... ', '.frozen', '/lib', '<stdin>', '<string>', '>>> ', 'ADC', 'ALT', 'ALT_GPCK', 'ALT_I2C', 'ALT_PIO0', 'ALT_PIO1', 'ALT_PWM', 'ALT_SIO', 'ALT_SPI', 'ALT_UART', 'ALT_USB', 'ARRAY', 'AUTO', 'BFINT16', 'BFINT32', 'BFINT8', 'BFUINT16', 'BFUINT32', 'BFUINT8', 'BF_LEN', 'BF_POS', 'BIG_ENDIAN', 'BUILTIN_CDC', 'BUILTIN_DEFAULT', 'BUILTIN_NONE', 'BytesIO', 'CORE_TEMP', 'CTS', 'CancelledError', 'DMA', 'DeflateIO', 'EACCES', 'EADDRINUSE', 'EAGAIN', 'EALREADY', 'EBADF', 'ECONNABORTED', 'ECONNREFUSED', 'ECONNRESET', 'EEXIST', 'EHOSTUNREACH', 'EINPROGRESS', 'EINVAL', 'EIO', 'EISDIR', 'ENOBUFS', 'ENODEV', 'ENOENT', 'ENOMEM', 'ENOTCONN', 'EOPNOTSUPP', 'EPERM', 'ETIMEDOUT', 'FLOAT32', 'FLOAT64', 'FileIO', 'Flash', 'FrameBuffer', 'FrameBuffer1', 'GP0', 'GP1', 'GP10', 'GP11', 'GP12', 'GP13', 'GP14', 'GP15', 'GP16', 'GP17', 'GP18', 'GP19', 'GP2', 'GP20', 'GP21', 'GP22', 'GP25', 'GP26', 'GP27', 'GP28', 'GP3', 'GP4', 'GP5', 'GP6', 'GP7', 'GP8', 'GP9', 'GPCK', 'GPIO0', 'GPIO1', 'GPIO10', 'GPIO11', 'GPIO12', 'GPIO13', 'GPIO14', 'GPIO15', 'GPIO16', 'GPIO17', 'GPIO18', 'GPIO19', 'GPIO2', 'GPIO20', 'GPIO21', 'GPIO22', 'GPIO23', 'GPIO24', 'GPIO25', 'GPIO26', 'GPIO27', 'GPIO28', 'GPIO29', 'GPIO3', 'GPIO4', 'GPIO5', 'GPIO6', 'GPIO7', 'GPIO8', 'GPIO9', 'GS2_HMSB', 'GS4_HMSB', 'GS8', 'GZIP', 'I2C', 'I2S', 'IN', 'INT', 'INT16', 'INT32', 'INT64', 'INT8', 'INV_RX', 'INV_TX', 'IN_HIGH', 'IN_LOW', 'IOBase', 'IRQ_FALLING', 'IRQ_RISING', 'IRQ_SM0', 'IRQ_SM1', 'IRQ_SM2', 'IRQ_SM3', 'JOIN_NONE', 'JOIN_RX', 'JOIN_TX', 'LED', 'LITTLE_ENDIAN', 'LONG', 'LONGLONG', 'LSB', 'LockType', 'MONO', 'MONO_HLSB', 'MONO_HMSB', 'MONO_VLSB', 'MSB', 'MVLSB', 'NATIVE', 'None', 'NotImplemented', 'ONE_SHOT', 'OPEN_DRAIN', 'OUT', 'OUT_HIGH', 'OUT_LOW', 'OrderedDict', 'PERIODIC', 'PIO', 'PIO0', 'PIO1', 'POLLERR', 'POLLHUP', 'POLLIN', 'POLLOUT', 'PTR', 'PULL_DOWN', 'PULL_UP', 'PWM', 'PWRON_RESET', 'Pin', 'PinAF', 'RAW', 'RGB565', 'RTC', 'RTS', 'RX', 'SHIFT_LEFT', 'SHIFT_RIGHT', 'SHORT', 'SIO', 'SPI', 'STEREO', 'Signal', 'SoftI2C', 'SoftSPI', 'StateMachine', 'StopAsyncIteration', 'StringIO', 'TX', 'Task', 'TaskQueue', 'TextIOWrapper', 'Timer', 'UART', 'UINT', 'UINT16', 'UINT32', 'UINT64', 'UINT8', 'ULONG', 'ULONGLONG', 'USB', 'USBDevice', 'USHORT', 'UnicodeError', 'VOID', 'VfsFat', 'VfsLfs2', 'ViperTypeError', 'WDT', 'WDT_RESET', 'ZLIB', '__aenter__', '__aexit__', '__aiter__', '__anext__', '__bases__', '__build_class__', '__del__', '__dict__', '__file__', '__globals__', '__import__', '__path__', '__repl_print__', '__reversed__', '__traceback__', '_asyncio', '_machine', '_mpy', '_onewire', '_rp2', '_task_queue', '_thread', 'a2b_base64', 'abs_tol', 'acos', 'acosh', 'acquire', 'active', 'add', 'add_program', 'addr', 'addressof', 'addrsize', 'aes', 'ahb_err', 'align', 'alloc_emergency_exception_buf', 'allocate_lock', 'alt', 'and_', 'appendleft', 'arg', 'argv', 'array', 'asin', 'asinh', 'asm_pio_encode', 'asm_thumb', 'asr', 'atan', 'atan2', 'atanh', 'b', 'b2a_base64', 'baudrate', 'bin', 'binascii', 'bits', 'bitstream', 'bl', 'blit', 'board', 'bootloader', 'bootsel_button', 'bound_method', 'bswap', 'buf', 'buffer', 'buffering', 'builtin_driver', 'busy', 'bx', 'bytearray_at', 'byteorder', 'bytes_at', 'calcsize', 'callback', 'cancel', 'ceil', 'center', 'chain_to', 'channel', 'chdir', 'choice', 'closure', 'clz', 'cmath', 'cmp', 'code', 'collect', 'collections', 'compile', 'complex', 'config', 'control_xfer_cb', 'copysign', 'coro', 'cos', 'cosh', 'cpsid', 'cpsie', 'cpu', 'crc32', 'crc8', 'cryptolib', 'ctrl', 'cts', 'cur_task', 'data', 'datetime', 'decode', 'decrypt', 'deepsleep', 'default', 'deflate', 'degrees', 'deinit', 'delattr', 'deleter', 'deque', 'desc_cfg', 'desc_dev', 'desc_strs', 'dht_readinto', 'dict_view', 'difference', 'difference_update', 'digest', 'disable', 'disable_irq', 'discard', 'doc', 'done', 'dump', 'dumps', 'dupterm', 'dupterm_notify', 'duty_ns', 'duty_u16', 'e', 'ellipse', 'enable', 'enable_irq', 'encode', 'encoding', 'encrypt', 'enumerate', 'ep_max', 'erf', 'erfc', 'errno', 'errorcode', 'execfile', 'exit', 'exp', 'expm1', 'fabs', 'factorial', 'feed', 'file', 'fill', 'fill_rect', 'filter', 'firstbit', 'flags', 'float', 'floor', 'flow', 'flush', 'fmod', 'framebuf', 'freq', 'frexp', 'fromhex', 'fromkeys', 'frozenset', 'function', 'gamma', 'gc', 'generator', 'get_ident', 'getcwd', 'getrandbits', 'getter', 'getvalue', 'gmtime', 'group', 'groups', 'handler', 'hard', 'hashlib', 'heap_lock', 'heap_unlock', 'heapify', 'heappop', 'heappush', 'heapq', 'help', 'hex', 'hexlify', 'high', 'high_pri', 'hline', 'ibuf', 'idle', 'ilistdir', 'imag', 'implementation', 'in_base', 'in_shiftdir', 'inc_read', 'inc_write', 'indices', 'inf', 'init', 'input', 'intersection', 'intersection_update', 'invert', 'io', 'ioctl', 'ipoll', 'irq', 'irq_quiet', 'isclose', 'isdisjoint', 'isenabled', 'isfinite', 'isinf', 'isnan', 'issubset', 'issuperset', 'iterable', 'iterator', 'itf_max', 'jmp_pin', 'json', 'kbd_intr', 'keepends', 'label', 'ldexp', 'ldr', 'ldrb', 'ldrex', 'ldrh', 'lgamma', 'libc_ver', 'lightsleep', 'line', 'listdir', 'load', 'loads', 'localtime', 'lock', 'locked', 'log', 'log10', 'log2', 'lookahead', 'low', 'lsl', 'lsr', 'machine', 'match', 'math', 'max', 'maximum recursion depth exceeded', 'maxsize', 'mem', 'mem16', 'mem32', 'mem8', 'mem_alloc', 'mem_free', 'mem_info', 'memaddr', 'memoryview', 'min', 'miso', 'mkdir', 'mkfs', 'mktime', 'mode', 'modf', 'modify', 'module', 'modules', 'mosi', 'mount', 'mov', 'movt', 'movw', 'movwt', 'mrs', 'mtime', 'name', 'namedtuple', 'nan', 'native', 'newline', 'nodename', 'nop', 'oct', 'off', 'on', 'onewire', 'open_itf_cb', 'opt_level', 'os', 'out_base', 'out_shiftdir', 'pack', 'pack_ctrl', 'pack_into', 'parity', 'partition', 'path', 'peek', 'pend_throw', 'period', 'ph_key', 'phase', 'pi', 'pixel', 'platform', 'polar', 'polarity', 'poll', 'poly', 'popleft', 'print_exception', 'prog', 'progsize', 'property', 'ps1', 'ps2', 'ptr', 'ptr16', 'ptr32', 'ptr8', 'pull', 'pull_thresh', 'push', 'push_thresh', 'put', 'python_compiler', 'qstr_info', 'r', 'radians', 'randint', 'random', 'randrange', 'rate', 'rb', 'rbit', 're', 'read_err', 'read_u16', 'readbit', 'readblocks', 'readbyte', 'readfrom', 'readfrom_into', 'readfrom_mem', 'readfrom_mem_into', 'readlines', 'readonly', 'readsize', 'real', 'rect', 'register', 'registers', 'rel_tol', 'release', 'remove_program', 'rename', 'reset', 'reset_cause', 'reset_cb', 'restart', 'reversed', 'ring_sel', 'ring_size', 'rmdir', 'rp2', 'rpartition', 'rts', 'rx', 'rx_fifo', 'rxbuf', 'scan', 'schedule', 'sck', 'scl', 'scroll', 'sd', 'sda', 'sdiv', 'search', 'seed', 'seek', 'select', 'sendbreak', 'separators', 'set_base', 'setter', 'sha1', 'sha256', 'shift', 'sideset_base', 'sin', 'single', 'sinh', 'size', 'sizeof', 'sleep', 'sleep_ms', 'sleep_us', 'slice', 'sniff_en', 'soft_reset', 'span', 'splitlines', 'sqrt', 'stack_size', 'stack_use', 'stall', 'start_new_thread', 'stat', 'state', 'state_machine', 'statvfs', 'stderr', 'stdin', 'stdout', 'str_max', 'strb', 'strex', 'strh', 'struct', 'sub', 'submit_xfer', 'symmetric_difference', 'symmetric_difference_update', 'sync', 'sys', 'sysname', 'tan', 'tanh', 'tau', 'tell', 'text', 'threshold', 'tick_hz', 'ticks_add', 'ticks_cpu', 'ticks_diff', 'ticks_ms', 'ticks_us', 'time', 'time_ns', 'time_pulse_us', 'timeout', 'timeout_char', 'toggle', 'treq_sel', 'trigger', 'trunc', 'tx', 'tx_fifo', 'txbuf', 'txdone', 'uctypes', 'udiv', 'uint', 'umount', 'uname', 'unhexlify', 'uniform', 'union', 'unique_id', 'unlink', 'unpack', 'unpack_ctrl', 'unpack_from', 'unregister', 'urandom', 'usys', 'vcmp', 'vcvt_f32_s32', 'vcvt_s32_f32', 'version', 'version_info', 'vfs', 'viper', 'vldr', 'vline', 'vmov', 'vmrs', 'vneg', 'vsqrt', 'vstr', 'wfi', 'write_err', 'write_readinto', 'writebit', 'writeblocks', 'writebyte', 'writeto', 'writeto_mem', 'writevto', 'ws', 'xfer_cb', '{:#b}', '0.1.0', 'CRC error', 'DHT11', 'DHT22', 'DHTBase', 'DS18X20', 'Event', 'H', 'IOQueue', 'Lock', 'Lock not acquired', 'Loop', 'MATCH_ROM', 'NeoPixel', 'ORDER', 'OneWire', 'OneWireError', 'PIOASMEmit', 'PIOASMError', 'PROTOCOL_TLS_CLIENT', 'SEARCH_ROM', 'SKIP_ROM', 'SOCK_STREAM', 'SOL_SOCKET', 'SO_REUSEADDR', 'SSLContext', 'Server', 'SingletonGenerator', 'Stream', 'StreamReader', 'StreamWriter', 'ThreadSafeFlag', 'TimeoutError', '_Remove', '__version__', '_attrs', '_boot.py', '_boot_fat.py', '_dequeue', '_enqueue', '_exc_context', '_exc_handler', '_io_queue', '_ow', '_pio_funcs', '_promote_to_task', '_run', '_search_rom', '_serve', '_stop_task', '_stopper', 'accept', 'aclose', 'asm_pio', 'asyncio', 'asyncio/__init__.py', 'asyncio/core.py', 'asyncio/event.py', 'asyncio/funcs.py', 'asyncio/lock.py', 'asyncio/stream.py', 'attr', 'autopull', 'autopush', 'aw', 'awrite', 'awritestr', 'backlog', 'bdev', 'bind', 'block', 'bpp', 'call_exception_handler', \"can't gather\", 'cb', 'checksum error', 'cond', 'connect', 'context', 'convert_temp', 'core', 'coro=', 'coroutine expected', 'create_task', 'current_task', 'dec', 'default_exception_handler', 'delay', 'delay too large', 'delay_max', 'dest', 'dht.py', 'diff', 'do_handshake_on_connect', 'drain', 'ds18x20.py', 'dt', 'duplicate label {}', 'er', 'esp', 'event', 'exc', 'exc_type', 'exception', 'f', 'fifo_join', 'fs', 'funcs', 'future', 'future:', 'gather', 'get_event_loop', 'get_exception_handler', 'get_extra_info', 'getaddrinfo', 'gpio', 'host', 'humidity', 'i', 'idx', 'ifempty', 'iffull', 'in_', 'instr', 'invalid bit count {}', 'is_set', 'isr', 'jmp', 'l_rom', 'labels', 'listen', 'loop', 'main_task', 'measure', 'message', 'mod', 'n', 'neopixel.py', 'new_event_loop', 'no running event loop', 'no sideset', 'noblock', 'not_osre', 'not_x', 'not_y', 'null', 'num_instr', 'num_sideset', 'onewire.py', 'open_connection', 'osr', 'out', 'out_buf', 'out_init', 'ow', 'pass_', 'pc', 'peername', 'pin', 'pindirs', 'pins', 'poller', 'port', 'pyb', 'pyboard', 'queue_read', 'queue_write', 'read_scratch', 'read_temp', 'readexactly', 'rel', 'req', 'required', 'return_exceptions', 'rom', 'rp2.py', 'run', 'run_forever', 'run_until_complete', 'runq_len', 's', 'select_rom', 'server_hostname', 'server_side', 'set_exception_handler', 'set_init', 'setblocking', 'setsockopt', 'sgen', 'side', 'sideset too large', 'sideset_count', 'sideset_init', 'sideset_opt', 'socket', 'src', 'ssl', 'start_pass', 'start_server', 'status', 'stream', 'stream_awrite', 'sz', 't', 'task', 'tb', 'temperature', 'ticks', 'timing', 'uasyncio.py', 'unknown label {}', 'v', 'value2', 'wait', 'wait_closed', 'wait_for', 'wait_for_ms', 'wait_io_event', 'waiter', 'waiting', 'waitq_len', 'word', 'wrap', 'wrap_socket', 'wrap_target', 'wrap_used', 'write_scratch', 'x', 'x_dec', 'x_not_y', 'y', 'y_dec', 'typing', 'TypeVar', '__ignore', 'Generic', 'T', '/lib/typing.mpy', 'typing.py', '__Ignore', 'cast', 'reveal_type', 'get_args', 'no_type_check', 'final', 'overload', 'NewType', 'DEBUG', 'val', 'func']\n",
      "['__dir__', '\\n', ' ', '*', '/', '<module>', '_', '__call__', '__class__', '__delitem__', '__enter__', '__exit__', '__getattr__', '__getitem__', '__hash__', '__init__', '__int__', '__iter__', '__len__', '__main__', '__module__', '__name__', '__new__', '__next__', '__qualname__', '__repr__', '__setitem__', '__str__', 'ArithmeticError', 'AssertionError', 'AttributeError', 'BaseException', 'EOFError', 'Ellipsis', 'Exception', 'GeneratorExit', 'ImportError', 'IndentationError', 'IndexError', 'KeyError', 'KeyboardInterrupt', 'LookupError', 'MemoryError', 'NameError', 'NoneType', 'NotImplementedError', 'OSError', 'OverflowError', 'RuntimeError', 'StopIteration', 'SyntaxError', 'SystemExit', 'TypeError', 'ValueError', 'ZeroDivisionError', 'abs', 'all', 'any', 'append', 'args', 'bool', 'builtins', 'bytearray', 'bytecode', 'bytes', 'callable', 'chr', 'classmethod', 'clear', 'close', 'const', 'copy', 'count', 'dict', 'dir', 'divmod', 'end', 'endswith', 'eval', 'exec', 'extend', 'find', 'format', 'from_bytes', 'get', 'getattr', 'globals', 'hasattr', 'hash', 'id', 'index', 'insert', 'int', 'isalpha', 'isdigit', 'isinstance', 'islower', 'isspace', 'issubclass', 'isupper', 'items', 'iter', 'join', 'key', 'keys', 'len', 'list', 'little', 'locals', 'lower', 'lstrip', 'main', 'map', 'micropython', 'next', 'object', 'open', 'ord', 'pop', 'popitem', 'pow', 'print', 'range', 'read', 'readinto', 'readline', 'remove', 'replace', 'repr', 'reverse', 'rfind', 'rindex', 'round', 'rsplit', 'rstrip', 'self', 'send', 'sep', 'set', 'setattr', 'setdefault', 'sort', 'sorted', 'split', 'start', 'startswith', 'staticmethod', 'step', 'stop', 'str', 'strip', 'sum', 'super', 'throw', 'to_bytes', 'tuple', 'type', 'update', 'upper', 'utf-8', 'value', 'values', 'write', 'zip', '<dictcomp>', '<genexpr>', '<lambda>', '<listcomp>', '<setcomp>', '__abs__', '__add__', '__and__', '__bool__', '__complex__', '__contains__', '__delete__', '__divmod__', '__eq__', '__float__', '__floordiv__', '__ge__', '__get__', '__gt__', '__iadd__', '__invert__', '__isub__', '__le__', '__lshift__', '__lt__', '__matmul__', '__mod__', '__mul__', '__ne__', '__neg__', '__or__', '__pos__', '__pow__', '__radd__', '__rand__', '__rfloordiv__', '__rlshift__', '__rmatmul__', '__rmod__', '__rmul__', '__ror__', '__rpow__', '__rrshift__', '__rshift__', '__rsub__', '__rtruediv__', '__rxor__', '__set__', '__sub__', '__truediv__', '__xor__', '%#o', '%#x', '... ', '.frozen', '/lib', '<stdin>', '<string>', '>>> ', 'ADC', 'ALT', 'ALT_GPCK', 'ALT_I2C', 'ALT_PIO0', 'ALT_PIO1', 'ALT_PWM', 'ALT_SIO', 'ALT_SPI', 'ALT_UART', 'ALT_USB', 'ARRAY', 'AUTO', 'BFINT16', 'BFINT32', 'BFINT8', 'BFUINT16', 'BFUINT32', 'BFUINT8', 'BF_LEN', 'BF_POS', 'BIG_ENDIAN', 'BUILTIN_CDC', 'BUILTIN_DEFAULT', 'BUILTIN_NONE', 'BytesIO', 'CORE_TEMP', 'CTS', 'CancelledError', 'DMA', 'DeflateIO', 'EACCES', 'EADDRINUSE', 'EAGAIN', 'EALREADY', 'EBADF', 'ECONNABORTED', 'ECONNREFUSED', 'ECONNRESET', 'EEXIST', 'EHOSTUNREACH', 'EINPROGRESS', 'EINVAL', 'EIO', 'EISDIR', 'ENOBUFS', 'ENODEV', 'ENOENT', 'ENOMEM', 'ENOTCONN', 'EOPNOTSUPP', 'EPERM', 'ETIMEDOUT', 'FLOAT32', 'FLOAT64', 'FileIO', 'Flash', 'FrameBuffer', 'FrameBuffer1', 'GP0', 'GP1', 'GP10', 'GP11', 'GP12', 'GP13', 'GP14', 'GP15', 'GP16', 'GP17', 'GP18', 'GP19', 'GP2', 'GP20', 'GP21', 'GP22', 'GP25', 'GP26', 'GP27', 'GP28', 'GP3', 'GP4', 'GP5', 'GP6', 'GP7', 'GP8', 'GP9', 'GPCK', 'GPIO0', 'GPIO1', 'GPIO10', 'GPIO11', 'GPIO12', 'GPIO13', 'GPIO14', 'GPIO15', 'GPIO16', 'GPIO17', 'GPIO18', 'GPIO19', 'GPIO2', 'GPIO20', 'GPIO21', 'GPIO22', 'GPIO23', 'GPIO24', 'GPIO25', 'GPIO26', 'GPIO27', 'GPIO28', 'GPIO29', 'GPIO3', 'GPIO4', 'GPIO5', 'GPIO6', 'GPIO7', 'GPIO8', 'GPIO9', 'GS2_HMSB', 'GS4_HMSB', 'GS8', 'GZIP', 'I2C', 'I2S', 'IN', 'INT', 'INT16', 'INT32', 'INT64', 'INT8', 'INV_RX', 'INV_TX', 'IN_HIGH', 'IN_LOW', 'IOBase', 'IRQ_FALLING', 'IRQ_RISING', 'IRQ_SM0', 'IRQ_SM1', 'IRQ_SM2', 'IRQ_SM3', 'JOIN_NONE', 'JOIN_RX', 'JOIN_TX', 'LED', 'LITTLE_ENDIAN', 'LONG', 'LONGLONG', 'LSB', 'LockType', 'MONO', 'MONO_HLSB', 'MONO_HMSB', 'MONO_VLSB', 'MSB', 'MVLSB', 'NATIVE', 'None', 'NotImplemented', 'ONE_SHOT', 'OPEN_DRAIN', 'OUT', 'OUT_HIGH', 'OUT_LOW', 'OrderedDict', 'PERIODIC', 'PIO', 'PIO0', 'PIO1', 'POLLERR', 'POLLHUP', 'POLLIN', 'POLLOUT', 'PTR', 'PULL_DOWN', 'PULL_UP', 'PWM', 'PWRON_RESET', 'Pin', 'PinAF', 'RAW', 'RGB565', 'RTC', 'RTS', 'RX', 'SHIFT_LEFT', 'SHIFT_RIGHT', 'SHORT', 'SIO', 'SPI', 'STEREO', 'Signal', 'SoftI2C', 'SoftSPI', 'StateMachine', 'StopAsyncIteration', 'StringIO', 'TX', 'Task', 'TaskQueue', 'TextIOWrapper', 'Timer', 'UART', 'UINT', 'UINT16', 'UINT32', 'UINT64', 'UINT8', 'ULONG', 'ULONGLONG', 'USB', 'USBDevice', 'USHORT', 'UnicodeError', 'VOID', 'VfsFat', 'VfsLfs2', 'ViperTypeError', 'WDT', 'WDT_RESET', 'ZLIB', '__aenter__', '__aexit__', '__aiter__', '__anext__', '__bases__', '__build_class__', '__del__', '__dict__', '__file__', '__globals__', '__import__', '__path__', '__repl_print__', '__reversed__', '__traceback__', '_asyncio', '_machine', '_mpy', '_onewire', '_rp2', '_task_queue', '_thread', 'a2b_base64', 'abs_tol', 'acos', 'acosh', 'acquire', 'active', 'add', 'add_program', 'addr', 'addressof', 'addrsize', 'aes', 'ahb_err', 'align', 'alloc_emergency_exception_buf', 'allocate_lock', 'alt', 'and_', 'appendleft', 'arg', 'argv', 'array', 'asin', 'asinh', 'asm_pio_encode', 'asm_thumb', 'asr', 'atan', 'atan2', 'atanh', 'b', 'b2a_base64', 'baudrate', 'bin', 'binascii', 'bits', 'bitstream', 'bl', 'blit', 'board', 'bootloader', 'bootsel_button', 'bound_method', 'bswap', 'buf', 'buffer', 'buffering', 'builtin_driver', 'busy', 'bx', 'bytearray_at', 'byteorder', 'bytes_at', 'calcsize', 'callback', 'cancel', 'ceil', 'center', 'chain_to', 'channel', 'chdir', 'choice', 'closure', 'clz', 'cmath', 'cmp', 'code', 'collect', 'collections', 'compile', 'complex', 'config', 'control_xfer_cb', 'copysign', 'coro', 'cos', 'cosh', 'cpsid', 'cpsie', 'cpu', 'crc32', 'crc8', 'cryptolib', 'ctrl', 'cts', 'cur_task', 'data', 'datetime', 'decode', 'decrypt', 'deepsleep', 'default', 'deflate', 'degrees', 'deinit', 'delattr', 'deleter', 'deque', 'desc_cfg', 'desc_dev', 'desc_strs', 'dht_readinto', 'dict_view', 'difference', 'difference_update', 'digest', 'disable', 'disable_irq', 'discard', 'doc', 'done', 'dump', 'dumps', 'dupterm', 'dupterm_notify', 'duty_ns', 'duty_u16', 'e', 'ellipse', 'enable', 'enable_irq', 'encode', 'encoding', 'encrypt', 'enumerate', 'ep_max', 'erf', 'erfc', 'errno', 'errorcode', 'execfile', 'exit', 'exp', 'expm1', 'fabs', 'factorial', 'feed', 'file', 'fill', 'fill_rect', 'filter', 'firstbit', 'flags', 'float', 'floor', 'flow', 'flush', 'fmod', 'framebuf', 'freq', 'frexp', 'fromhex', 'fromkeys', 'frozenset', 'function', 'gamma', 'gc', 'generator', 'get_ident', 'getcwd', 'getrandbits', 'getter', 'getvalue', 'gmtime', 'group', 'groups', 'handler', 'hard', 'hashlib', 'heap_lock', 'heap_unlock', 'heapify', 'heappop', 'heappush', 'heapq', 'help', 'hex', 'hexlify', 'high', 'high_pri', 'hline', 'ibuf', 'idle', 'ilistdir', 'imag', 'implementation', 'in_base', 'in_shiftdir', 'inc_read', 'inc_write', 'indices', 'inf', 'init', 'input', 'intersection', 'intersection_update', 'invert', 'io', 'ioctl', 'ipoll', 'irq', 'irq_quiet', 'isclose', 'isdisjoint', 'isenabled', 'isfinite', 'isinf', 'isnan', 'issubset', 'issuperset', 'iterable', 'iterator', 'itf_max', 'jmp_pin', 'json', 'kbd_intr', 'keepends', 'label', 'ldexp', 'ldr', 'ldrb', 'ldrex', 'ldrh', 'lgamma', 'libc_ver', 'lightsleep', 'line', 'listdir', 'load', 'loads', 'localtime', 'lock', 'locked', 'log', 'log10', 'log2', 'lookahead', 'low', 'lsl', 'lsr', 'machine', 'match', 'math', 'max', 'maximum recursion depth exceeded', 'maxsize', 'mem', 'mem16', 'mem32', 'mem8', 'mem_alloc', 'mem_free', 'mem_info', 'memaddr', 'memoryview', 'min', 'miso', 'mkdir', 'mkfs', 'mktime', 'mode', 'modf', 'modify', 'module', 'modules', 'mosi', 'mount', 'mov', 'movt', 'movw', 'movwt', 'mrs', 'mtime', 'name', 'namedtuple', 'nan', 'native', 'newline', 'nodename', 'nop', 'oct', 'off', 'on', 'onewire', 'open_itf_cb', 'opt_level', 'os', 'out_base', 'out_shiftdir', 'pack', 'pack_ctrl', 'pack_into', 'parity', 'partition', 'path', 'peek', 'pend_throw', 'period', 'ph_key', 'phase', 'pi', 'pixel', 'platform', 'polar', 'polarity', 'poll', 'poly', 'popleft', 'print_exception', 'prog', 'progsize', 'property', 'ps1', 'ps2', 'ptr', 'ptr16', 'ptr32', 'ptr8', 'pull', 'pull_thresh', 'push', 'push_thresh', 'put', 'python_compiler', 'qstr_info', 'r', 'radians', 'randint', 'random', 'randrange', 'rate', 'rb', 'rbit', 're', 'read_err', 'read_u16', 'readbit', 'readblocks', 'readbyte', 'readfrom', 'readfrom_into', 'readfrom_mem', 'readfrom_mem_into', 'readlines', 'readonly', 'readsize', 'real', 'rect', 'register', 'registers', 'rel_tol', 'release', 'remove_program', 'rename', 'reset', 'reset_cause', 'reset_cb', 'restart', 'reversed', 'ring_sel', 'ring_size', 'rmdir', 'rp2', 'rpartition', 'rts', 'rx', 'rx_fifo', 'rxbuf', 'scan', 'schedule', 'sck', 'scl', 'scroll', 'sd', 'sda', 'sdiv', 'search', 'seed', 'seek', 'select', 'sendbreak', 'separators', 'set_base', 'setter', 'sha1', 'sha256', 'shift', 'sideset_base', 'sin', 'single', 'sinh', 'size', 'sizeof', 'sleep', 'sleep_ms', 'sleep_us', 'slice', 'sniff_en', 'soft_reset', 'span', 'splitlines', 'sqrt', 'stack_size', 'stack_use', 'stall', 'start_new_thread', 'stat', 'state', 'state_machine', 'statvfs', 'stderr', 'stdin', 'stdout', 'str_max', 'strb', 'strex', 'strh', 'struct', 'sub', 'submit_xfer', 'symmetric_difference', 'symmetric_difference_update', 'sync', 'sys', 'sysname', 'tan', 'tanh', 'tau', 'tell', 'text', 'threshold', 'tick_hz', 'ticks_add', 'ticks_cpu', 'ticks_diff', 'ticks_ms', 'ticks_us', 'time', 'time_ns', 'time_pulse_us', 'timeout', 'timeout_char', 'toggle', 'treq_sel', 'trigger', 'trunc', 'tx', 'tx_fifo', 'txbuf', 'txdone', 'uctypes', 'udiv', 'uint', 'umount', 'uname', 'unhexlify', 'uniform', 'union', 'unique_id', 'unlink', 'unpack', 'unpack_ctrl', 'unpack_from', 'unregister', 'urandom', 'usys', 'vcmp', 'vcvt_f32_s32', 'vcvt_s32_f32', 'version', 'version_info', 'vfs', 'viper', 'vldr', 'vline', 'vmov', 'vmrs', 'vneg', 'vsqrt', 'vstr', 'wfi', 'write_err', 'write_readinto', 'writebit', 'writeblocks', 'writebyte', 'writeto', 'writeto_mem', 'writevto', 'ws', 'xfer_cb', '{:#b}', '0.1.0', 'CRC error', 'DHT11', 'DHT22', 'DHTBase', 'DS18X20', 'Event', 'H', 'IOQueue', 'Lock', 'Lock not acquired', 'Loop', 'MATCH_ROM', 'NeoPixel', 'ORDER', 'OneWire', 'OneWireError', 'PIOASMEmit', 'PIOASMError', 'PROTOCOL_TLS_CLIENT', 'SEARCH_ROM', 'SKIP_ROM', 'SOCK_STREAM', 'SOL_SOCKET', 'SO_REUSEADDR', 'SSLContext', 'Server', 'SingletonGenerator', 'Stream', 'StreamReader', 'StreamWriter', 'ThreadSafeFlag', 'TimeoutError', '_Remove', '__version__', '_attrs', '_boot.py', '_boot_fat.py', '_dequeue', '_enqueue', '_exc_context', '_exc_handler', '_io_queue', '_ow', '_pio_funcs', '_promote_to_task', '_run', '_search_rom', '_serve', '_stop_task', '_stopper', 'accept', 'aclose', 'asm_pio', 'asyncio', 'asyncio/__init__.py', 'asyncio/core.py', 'asyncio/event.py', 'asyncio/funcs.py', 'asyncio/lock.py', 'asyncio/stream.py', 'attr', 'autopull', 'autopush', 'aw', 'awrite', 'awritestr', 'backlog', 'bdev', 'bind', 'block', 'bpp', 'call_exception_handler', \"can't gather\", 'cb', 'checksum error', 'cond', 'connect', 'context', 'convert_temp', 'core', 'coro=', 'coroutine expected', 'create_task', 'current_task', 'dec', 'default_exception_handler', 'delay', 'delay too large', 'delay_max', 'dest', 'dht.py', 'diff', 'do_handshake_on_connect', 'drain', 'ds18x20.py', 'dt', 'duplicate label {}', 'er', 'esp', 'event', 'exc', 'exc_type', 'exception', 'f', 'fifo_join', 'fs', 'funcs', 'future', 'future:', 'gather', 'get_event_loop', 'get_exception_handler', 'get_extra_info', 'getaddrinfo', 'gpio', 'host', 'humidity', 'i', 'idx', 'ifempty', 'iffull', 'in_', 'instr', 'invalid bit count {}', 'is_set', 'isr', 'jmp', 'l_rom', 'labels', 'listen', 'loop', 'main_task', 'measure', 'message', 'mod', 'n', 'neopixel.py', 'new_event_loop', 'no running event loop', 'no sideset', 'noblock', 'not_osre', 'not_x', 'not_y', 'null', 'num_instr', 'num_sideset', 'onewire.py', 'open_connection', 'osr', 'out', 'out_buf', 'out_init', 'ow', 'pass_', 'pc', 'peername', 'pin', 'pindirs', 'pins', 'poller', 'port', 'pyb', 'pyboard', 'queue_read', 'queue_write', 'read_scratch', 'read_temp', 'readexactly', 'rel', 'req', 'required', 'return_exceptions', 'rom', 'rp2.py', 'run', 'run_forever', 'run_until_complete', 'runq_len', 's', 'select_rom', 'server_hostname', 'server_side', 'set_exception_handler', 'set_init', 'setblocking', 'setsockopt', 'sgen', 'side', 'sideset too large', 'sideset_count', 'sideset_init', 'sideset_opt', 'socket', 'src', 'ssl', 'start_pass', 'start_server', 'status', 'stream', 'stream_awrite', 'sz', 't', 'task', 'tb', 'temperature', 'ticks', 'timing', 'uasyncio.py', 'unknown label {}', 'v', 'value2', 'wait', 'wait_closed', 'wait_for', 'wait_for_ms', 'wait_io_event', 'waiter', 'waiting', 'waitq_len', 'word', 'wrap', 'wrap_socket', 'wrap_target', 'wrap_used', 'write_scratch', 'x', 'x_dec', 'x_not_y', 'y', 'y_dec', 'typing', 'TypeVar', '__ignore', 'Generic', 'T', '/lib/typing.mpy', 'typing.py', '__Ignore', 'cast', 'reveal_type', 'get_args', 'no_type_check', 'final', 'overload', 'NewType', 'DEBUG', 'val', 'func']\n"
     ]
    }
   ],
   "source": [
    "# %%micropython --reset\n",
    "\n",
    "from typing import  TypeVar\n",
    "# from typing import __Ignore as Generic\n",
    "from typing import __ignore as Generic\n",
    "\n",
    "T = TypeVar(\"T\")\n",
    "print(Generic, dir(Generic))\n",
    "\n",
    "print(dir(T), T)\n",
    "\n",
    "print(type(Generic))\n",
    "print(dir(Generic[0]))\n",
    "print(dir(Generic[1]))"
   ]
  },
  {
   "cell_type": "code",
   "execution_count": null,
   "metadata": {},
   "outputs": [
    {
     "name": "stdout",
     "output_type": "stream",
     "text": [
      "{'_store': {'husband': 'steve', 'dad': 'john'}, '__orig_class__': __main__.Registry[str]}\n"
     ]
    }
   ],
   "source": [
    "# python\n",
    "from typing import Dict, Generic, TypeVar\n",
    "\n",
    "T = TypeVar(\"T\")\n",
    "\n",
    "\n",
    "class Registry(Generic[T]):\n",
    "    def __init__(self) -> None:\n",
    "        self._store: Dict[str, T] = {}\n",
    "\n",
    "    def set_item(self, k: str, v: T) -> None:\n",
    "        self._store[k] = v\n",
    "\n",
    "    def get_item(self, k: str) -> T:\n",
    "        return self._store[k]\n",
    "\n",
    "\n",
    "family_name_reg = Registry[str]()\n",
    "family_age_reg = Registry[int]()\n",
    "\n",
    "family_name_reg.set_item(\"husband\", \"steve\")\n",
    "family_name_reg.set_item(\"dad\", \"john\")\n",
    "\n",
    "family_age_reg.set_item(\"steve\", 30)\n",
    "\n",
    "print(repr(family_name_reg.__dict__))"
   ]
  },
  {
   "cell_type": "markdown",
   "metadata": {},
   "source": [
    "Example code in Python 3"
   ]
  },
  {
   "cell_type": "code",
   "execution_count": 9,
   "metadata": {},
   "outputs": [
    {
     "name": "stdout",
     "output_type": "stream",
     "text": [
      "step 1 -------------------\n",
      "~T\n",
      "step 2 -------------------\n",
      "step 3 -------------------\n",
      "Trace: __init_subclass__ called with args=(<class '__main__.SomeBaseClass'>,), kwargs={}\n",
      "step 4 -------------------\n",
      "<class '__main__.SomeBaseClass'>\n",
      "step 5 -------------------\n",
      "Trace: __init__ called with args=(<__main__.SomeBaseClass object at 0x0000018F6190E910>,), kwargs={}\n",
      "<class 'int'>\n",
      "<__main__.SomeBaseClass object at 0x0000018F6190E910>\n"
     ]
    }
   ],
   "source": [
    "from typing import Any, get_args\n",
    "from typing import Generic, TypeVar\n",
    "\n",
    "\n",
    "def trace(func):\n",
    "    def wrapper(*args, **kwargs):\n",
    "        print(f\"Trace: {func.__name__} called with args={args}, kwargs={kwargs}\")\n",
    "        return func(*args, **kwargs)\n",
    "\n",
    "    return wrapper\n",
    "\n",
    "\n",
    "print(\"step 1 -------------------\")\n",
    "T = TypeVar(\"T\")\n",
    "\n",
    "print(repr(T))\n",
    "print(\"step 2 -------------------\")\n",
    "\n",
    "# Generic[T]\n",
    "\n",
    "\n",
    "class MyGenericClass(Generic[T]):\n",
    "    _type_T: Any\n",
    "\n",
    "    @trace\n",
    "    def __init_subclass__(cls) -> None:\n",
    "        cls._type_T = get_args(cls.__orig_bases__[0])[0]  # type: ignore\n",
    "\n",
    "\n",
    "print(\"step 3 -------------------\")\n",
    "\n",
    "\n",
    "class SomeBaseClass(MyGenericClass[int]):\n",
    "    @trace\n",
    "    def __init__(self) -> None:\n",
    "        print(self._type_T)\n",
    "\n",
    "\n",
    "print(\"step 4 -------------------\")\n",
    "\n",
    "print(repr(SomeBaseClass))\n",
    "\n",
    "print(\"step 5 -------------------\")\n",
    "print(SomeBaseClass())"
   ]
  },
  {
   "cell_type": "code",
   "execution_count": 2,
   "metadata": {},
   "outputs": [
    {
     "name": "stdout",
     "output_type": "stream",
     "text": [
      "step 1 -------------------\n",
      "Trace: __init__ called with args=(<TypeVar object at 2000b410>, 'T'), kwargs={}\n",
      "step 2 -------------------\n"
     ]
    },
    {
     "ename": "MCUException",
     "evalue": "TypeError: 'type' object isn't subscriptable\r\n",
     "output_type": "error",
     "traceback": [
      "\u001b[1;31mMCUException\u001b[0m\u001b[1;31m:\u001b[0m TypeError: 'type' object isn't subscriptable\r\n\n"
     ]
    }
   ],
   "source": [
    "# %%micropython\n",
    "from typing import Any, get_args\n",
    "\n",
    "# from typing import  Generic, TypeVar\n",
    "\n",
    "\n",
    "def trace(func):\n",
    "    def wrapper(*args, **kwargs):\n",
    "        print(f\"Trace: {func.__name__} called with args={args}, kwargs={kwargs}\")\n",
    "        return func(*args, **kwargs)\n",
    "\n",
    "    return wrapper\n",
    "\n",
    "\n",
    "###########################################\n",
    "class TypeVar:\n",
    "    @trace\n",
    "    def __init__(self, name, *constraints, bound=None, covariant=False, contravariant=False):\n",
    "        self.__name__ = name\n",
    "\n",
    "\n",
    "class _Final:\n",
    "    \"\"\"Mixin to prohibit subclassing.\"\"\"\n",
    "\n",
    "    __slots__ = (\"__weakref__\",)\n",
    "\n",
    "    def __init_subclass__(cls, *args, **kwds):\n",
    "        if \"_root\" not in kwds:\n",
    "            raise TypeError(\"Cannot subclass special typing classes\")\n",
    "\n",
    "\n",
    "def _is_dunder(attr):\n",
    "    return attr.startswith(\"__\") and attr.endswith(\"__\")\n",
    "\n",
    "\n",
    "class _BaseGenericAlias(_Final):  # , _root=True):\n",
    "    \"\"\"The central part of the internal API.\n",
    "\n",
    "    This represents a generic version of type 'origin' with type arguments 'params'.\n",
    "    There are two kind of these aliases: user defined and special. The special ones\n",
    "    are wrappers around builtin collections and ABCs in collections.abc. These must\n",
    "    have 'name' always set. If 'inst' is False, then the alias can't be instantiated;\n",
    "    this is used by e.g. typing.List and typing.Dict.\n",
    "    \"\"\"\n",
    "\n",
    "    @trace\n",
    "    def __init__(self, origin, *, inst=True, name=None):\n",
    "        self._inst = inst\n",
    "        self._name = name\n",
    "        self.__origin__ = origin\n",
    "        self.__slots__ = None  # This is not documented.\n",
    "\n",
    "    @trace\n",
    "    def __call__(self, *args, **kwargs):\n",
    "        if not self._inst:\n",
    "            raise TypeError(f\"Type {self._name} cannot be instantiated; \")\n",
    "        result = self.__origin__(*args, **kwargs)\n",
    "        try:\n",
    "            result.__orig_class__ = self\n",
    "        # Some objects raise TypeError (or something even more exotic)\n",
    "        # if you try to set attributes on them; we guard against that here\n",
    "        except Exception:\n",
    "            pass\n",
    "        return result\n",
    "\n",
    "    @trace\n",
    "    def __mro_entries__(self, bases):\n",
    "        res = []\n",
    "        if self.__origin__ not in bases:\n",
    "            res.append(self.__origin__)\n",
    "        i = bases.index(self)\n",
    "        for b in bases[i + 1 :]:\n",
    "            if isinstance(b, _BaseGenericAlias) or issubclass(b, Generic):\n",
    "                break\n",
    "        else:\n",
    "            res.append(Generic)\n",
    "        return tuple(res)\n",
    "\n",
    "    @trace\n",
    "    def __getattr__(self, attr):\n",
    "        if attr in {\"__name__\", \"__qualname__\"}:\n",
    "            return self._name or self.__origin__.__name__\n",
    "\n",
    "        # We are careful for copy and pickle.\n",
    "        # Also for simplicity we don't relay any dunder names\n",
    "        if \"__origin__\" in self.__dict__ and not _is_dunder(attr):\n",
    "            return getattr(self.__origin__, attr)\n",
    "        raise AttributeError(attr)\n",
    "\n",
    "    @trace\n",
    "    def __setattr__(self, attr, val):\n",
    "        if _is_dunder(attr) or attr in {\"_name\", \"_inst\", \"_nparams\", \"_paramspec_tvars\"}:\n",
    "            super().__setattr__(attr, val)\n",
    "        else:\n",
    "            setattr(self.__origin__, attr, val)\n",
    "\n",
    "    @trace\n",
    "    def __instancecheck__(self, obj):\n",
    "        return self.__subclasscheck__(type(obj))\n",
    "\n",
    "    @trace\n",
    "    def __subclasscheck__(self, cls):\n",
    "        raise TypeError(\"Subscripted generics cannot be used with\" \" class and instance checks\")\n",
    "\n",
    "    @trace\n",
    "    def __dir__(self):\n",
    "        return list(\n",
    "            set(\n",
    "                super().__dir__() + [attr for attr in dir(self.__origin__) if not _is_dunder(attr)]\n",
    "            )\n",
    "        )\n",
    "\n",
    "\n",
    "class Generic:\n",
    "    @trace\n",
    "    def __init__(self, origin, *, inst=True, name=None):\n",
    "        self._inst = inst\n",
    "        self._name = name\n",
    "        self.__origin__ = origin\n",
    "        self.__slots__ = None  # This is not documented.\n",
    "\n",
    "    @trace\n",
    "    def __call__(self, *args, **kwargs):\n",
    "        if not self._inst:\n",
    "            raise TypeError(f\"Type {self._name} cannot be instantiated; \")\n",
    "        result = self.__origin__(*args, **kwargs)\n",
    "        try:\n",
    "            result.__orig_class__ = self\n",
    "        # Some objects raise TypeError (or something even more exotic)\n",
    "        # if you try to set attributes on them; we guard against that here\n",
    "        except Exception:\n",
    "            pass\n",
    "        return result\n",
    "\n",
    "    @trace\n",
    "    def __getitem__(self, arg):\n",
    "        return type(object)\n",
    "\n",
    "    @trace\n",
    "    def __class_getitem__(cls, params):\n",
    "        return type(object)\n",
    "\n",
    "    @trace\n",
    "    def __init_subclass__(cls, *args, **kwargs):\n",
    "        super().__init_subclass__(*args, **kwargs)\n",
    "\n",
    "    @trace\n",
    "    def __instancecheck__(self, obj):\n",
    "        return self.__subclasscheck__(type(obj))\n",
    "\n",
    "    @trace\n",
    "    def __subclasscheck__(self, cls):\n",
    "        raise TypeError(\"Subscripted generics cannot be used with\" \" class and instance checks\")\n",
    "\n",
    "\n",
    "###########################################\n",
    "print(\"step 1 -------------------\")\n",
    "T = TypeVar(\"T\")\n",
    "\n",
    "print(\"step 2 -------------------\")\n",
    "\n",
    "Generic[int]\n",
    "\n",
    "\n",
    "# class MyGenericClass(Generic[T]):\n",
    "class MyGenericClass(Generic[int]):\n",
    "    _type_T: Any\n",
    "\n",
    "    @trace\n",
    "    def __init_subclass__(cls) -> None:\n",
    "        cls._type_T = get_args(cls.__orig_bases__[0])[0]  # type: ignore\n",
    "\n",
    "\n",
    "print(\"step 3 -------------------\")\n",
    "\n",
    "\n",
    "class SomeBaseClass(MyGenericClass[int]):\n",
    "    @trace\n",
    "    def __init__(self) -> None:\n",
    "        print(self._type_T)\n",
    "\n",
    "\n",
    "print(\"step 4 -------------------\")\n",
    "\n",
    "print(repr(SomeBaseClass))\n",
    "\n",
    "print(\"step 5 -------------------\")\n",
    "print(SomeBaseClass())"
   ]
  }
 ],
 "metadata": {
  "kernelspec": {
   "display_name": ".venv",
   "language": "python",
   "name": "python3"
  },
  "language_info": {
   "codemirror_mode": {
    "name": "ipython",
    "version": 3
   },
   "file_extension": ".py",
   "mimetype": "text/x-python",
   "name": "python",
   "nbconvert_exporter": "python",
   "pygments_lexer": "ipython3",
   "version": "3.11.9"
  }
 },
 "nbformat": 4,
 "nbformat_minor": 2
}
