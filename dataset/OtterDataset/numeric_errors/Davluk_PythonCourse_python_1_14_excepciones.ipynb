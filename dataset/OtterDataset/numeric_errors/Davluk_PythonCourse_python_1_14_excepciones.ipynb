{
 "cells": [
  {
   "cell_type": "markdown",
   "metadata": {},
   "source": [
    "# Exceptions"
   ]
  },
  {
   "cell_type": "code",
   "execution_count": 5,
   "metadata": {},
   "outputs": [
    {
     "name": "stdout",
     "output_type": "stream",
     "text": [
      "division by zero\n",
      "lo bueno es que esto siempre se ejecuta, menos mal\n"
     ]
    }
   ],
   "source": [
    "try:\n",
    "    result = 2 / 0\n",
    "    print( f\"the value is: {result}\" )\n",
    "except ZeroDivisionError as e:\n",
    "    print(e)\n",
    "else:\n",
    "    print(\"EL codigo se ejecuto gloriosamente\")\n",
    "finally:\n",
    "    print(\"lo bueno es que esto siempre se ejecuta, menos mal\")"
   ]
  },
  {
   "cell_type": "markdown",
   "metadata": {},
   "source": [
    "class CustomExcept(Exception):\n",
    "    pass"
   ]
  },
  {
   "cell_type": "code",
   "execution_count": 10,
   "metadata": {},
   "outputs": [
    {
     "name": "stdout",
     "output_type": "stream",
     "text": [
      "el valor era 0\n"
     ]
    }
   ],
   "source": [
    "try:\n",
    "    value = 0\n",
    "    if(value == 0):\n",
    "        raise ValueError(\"el valor era 0\")\n",
    "except ValueError as e:\n",
    "    print(e)"
   ]
  },
  {
   "cell_type": "code",
   "execution_count": 52,
   "metadata": {},
   "outputs": [
    {
     "ename": "NumberNotInRange",
     "evalue": "ERROR:30\n■════════════════════════════════════════════════════════════════════════════════════■\n║ MESSAGE: value is not in (1,20) range. Lorem ipsum dolor sit amet, consectetuer    ║\n║ adipiscing elit. Aenean commodo ligula eget dolor. Aenean massa. Cum sociis nato   ║\n║ que penatibus et magnis dis parturient montes, nascetur ridiculus mus. Donec qua   ║\n║ m felis, ultricies nec, pellentesque eu, pretium quis, sem. Nulla consequat mass   ║\n║ a quis enim. Donec pede justo, fringilla vel, aliquet nec, vulputate eget, arcu.   ║\n║  In enim justo, rhoncus ut, imperdiet a, venenatis vitae, justo. Nullam dictum f   ║\n║ elis eu pede mollis pretium. Integer tincidunt. Cras dapibus. Vivamus elementum    ║\n║ semper nisi. Aenean vulputate eleifend tellus. Aenean leo ligula, porttitor eu,    ║\n║ consequat vitae, eleifend ac, enim. Aliquam lorem ante, dapibus in, viverra quis   ║\n║ , feugiat a, tellus. Phasellus viverra nulla ut metus varius laoreet. Quisque ru   ║\n║ trum. Aenean imperdiet. Etiam ultricies nisi vel augue. Curabitur ullamcorper ul   ║\n║ tricies nisi. Nam eget dui. Etiam rhoncus. Maecenas tempus, tellus eget condimen   ║\n║ tum rhoncus, sem quam semper libero, sit amet adipiscing sem neque sed ipsum. Na   ║\n║ m quam nunc, blandit vel, luctus pulvinar, hendrerit id, lorem. Maecenas nec odi   ║\n║ o et ante tincidunt tempus. Donec vitae sapien ut libero venenatis faucibus. Nul   ║\n║ lam quis ante. Etiam sit amet orci eget eros faucibus tincidunt. Duis leo. Sed f   ║\n║ ringilla mauris sit amet nibh. Donec sodales sagittis magna. Sed consequat, leo    ║\n║ eget bibendum sodales, augue velit cursus nunc,                                    ║\n■════════════════════════════════════════════════════════════════════════════════════■\n",
     "output_type": "error",
     "traceback": [
      "\u001b[1;31m---------------------------------------------------------------------------\u001b[0m",
      "\u001b[1;31mNumberNotInRange\u001b[0m                          Traceback (most recent call last)",
      "\u001b[1;32m<ipython-input-52-f7bf8db165e0>\u001b[0m in \u001b[0;36m<module>\u001b[1;34m\u001b[0m\n\u001b[0;32m     22\u001b[0m     \u001b[1;32mraise\u001b[0m \u001b[0mCustomExcept\u001b[0m\u001b[1;33m(\u001b[0m\u001b[1;34m\"value must'nt be 0\"\u001b[0m\u001b[1;33m)\u001b[0m\u001b[1;33m\u001b[0m\u001b[1;33m\u001b[0m\u001b[0m\n\u001b[0;32m     23\u001b[0m \u001b[1;32melif\u001b[0m\u001b[1;33m(\u001b[0m\u001b[0mvalue\u001b[0m\u001b[1;33m>\u001b[0m\u001b[1;36m20\u001b[0m \u001b[1;32mor\u001b[0m \u001b[0mvalue\u001b[0m\u001b[1;33m<\u001b[0m\u001b[1;36m0\u001b[0m\u001b[1;33m)\u001b[0m\u001b[1;33m:\u001b[0m\u001b[1;33m\u001b[0m\u001b[1;33m\u001b[0m\u001b[0m\n\u001b[1;32m---> 24\u001b[1;33m     \u001b[1;32mraise\u001b[0m \u001b[0mNumberNotInRange\u001b[0m\u001b[1;33m(\u001b[0m\u001b[0mvalue\u001b[0m\u001b[1;33m)\u001b[0m\u001b[1;33m\u001b[0m\u001b[1;33m\u001b[0m\u001b[0m\n\u001b[0m",
      "\u001b[1;31mNumberNotInRange\u001b[0m: ERROR:30\n■════════════════════════════════════════════════════════════════════════════════════■\n║ MESSAGE: value is not in (1,20) range. Lorem ipsum dolor sit amet, consectetuer    ║\n║ adipiscing elit. Aenean commodo ligula eget dolor. Aenean massa. Cum sociis nato   ║\n║ que penatibus et magnis dis parturient montes, nascetur ridiculus mus. Donec qua   ║\n║ m felis, ultricies nec, pellentesque eu, pretium quis, sem. Nulla consequat mass   ║\n║ a quis enim. Donec pede justo, fringilla vel, aliquet nec, vulputate eget, arcu.   ║\n║  In enim justo, rhoncus ut, imperdiet a, venenatis vitae, justo. Nullam dictum f   ║\n║ elis eu pede mollis pretium. Integer tincidunt. Cras dapibus. Vivamus elementum    ║\n║ semper nisi. Aenean vulputate eleifend tellus. Aenean leo ligula, porttitor eu,    ║\n║ consequat vitae, eleifend ac, enim. Aliquam lorem ante, dapibus in, viverra quis   ║\n║ , feugiat a, tellus. Phasellus viverra nulla ut metus varius laoreet. Quisque ru   ║\n║ trum. Aenean imperdiet. Etiam ultricies nisi vel augue. Curabitur ullamcorper ul   ║\n║ tricies nisi. Nam eget dui. Etiam rhoncus. Maecenas tempus, tellus eget condimen   ║\n║ tum rhoncus, sem quam semper libero, sit amet adipiscing sem neque sed ipsum. Na   ║\n║ m quam nunc, blandit vel, luctus pulvinar, hendrerit id, lorem. Maecenas nec odi   ║\n║ o et ante tincidunt tempus. Donec vitae sapien ut libero venenatis faucibus. Nul   ║\n║ lam quis ante. Etiam sit amet orci eget eros faucibus tincidunt. Duis leo. Sed f   ║\n║ ringilla mauris sit amet nibh. Donec sodales sagittis magna. Sed consequat, leo    ║\n║ eget bibendum sodales, augue velit cursus nunc,                                    ║\n■════════════════════════════════════════════════════════════════════════════════════■\n"
     ]
    }
   ],
   "source": [
    "class NumberNotInRange(Exception):\n",
    "    def __init__(self,value,message=\"value is not in (1,20) range\"):\n",
    "        self.value = value\n",
    "        self.message = message\n",
    "        super().__init__(self.message)\n",
    "\n",
    "    def __str__(self):\n",
    "        message_size = 80\n",
    "        separator = \"\\n■══\"+\"\".join([\"═\" for i in range(message_size)])+\"══■\\n\"\n",
    "        msg_init = \"MESSAGE: \"\n",
    "        relleno = msg_init+self.message+\". Lorem ipsum dolor sit amet, consectetuer adipiscing elit. Aenean commodo ligula eget dolor. Aenean massa. Cum sociis natoque penatibus et magnis dis parturient montes, nascetur ridiculus mus. Donec quam felis, ultricies nec, pellentesque eu, pretium quis, sem. Nulla consequat massa quis enim. Donec pede justo, fringilla vel, aliquet nec, vulputate eget, arcu. In enim justo, rhoncus ut, imperdiet a, venenatis vitae, justo. Nullam dictum felis eu pede mollis pretium. Integer tincidunt. Cras dapibus. Vivamus elementum semper nisi. Aenean vulputate eleifend tellus. Aenean leo ligula, porttitor eu, consequat vitae, eleifend ac, enim. Aliquam lorem ante, dapibus in, viverra quis, feugiat a, tellus. Phasellus viverra nulla ut metus varius laoreet. Quisque rutrum. Aenean imperdiet. Etiam ultricies nisi vel augue. Curabitur ullamcorper ultricies nisi. Nam eget dui. Etiam rhoncus. Maecenas tempus, tellus eget condimentum rhoncus, sem quam semper libero, sit amet adipiscing sem neque sed ipsum. Nam quam nunc, blandit vel, luctus pulvinar, hendrerit id, lorem. Maecenas nec odio et ante tincidunt tempus. Donec vitae sapien ut libero venenatis faucibus. Nullam quis ante. Etiam sit amet orci eget eros faucibus tincidunt. Duis leo. Sed fringilla mauris sit amet nibh. Donec sodales sagittis magna. Sed consequat, leo eget bibendum sodales, augue velit cursus nunc,\"\n",
    "        chunks = [relleno[i:i+message_size] for i in range(0, len(relleno), message_size)]\n",
    "        relleno_str = \"║ \".join([item+\"\".join([\" \" for i in range(message_size-len(item))])+(\"   ║\\n\" if len(item)==message_size else \"   ║\") for item in chunks])\n",
    "        return f\"ERROR:{self.value}\"+separator+\"║ \"+relleno_str+separator\n",
    "\n",
    "\n",
    "class CustomExcept(Exception):\n",
    "    pass\n",
    "\n",
    "value = 30\n",
    "if(value == 0):\n",
    "    raise CustomExcept(\"value must'nt be 0\")\n",
    "elif(value>20 or value<0):\n",
    "    raise NumberNotInRange(value)"
   ]
  },
  {
   "cell_type": "markdown",
   "metadata": {},
   "source": [
    "## built-in exceptions"
   ]
  },
  {
   "cell_type": "code",
   "execution_count": 18,
   "metadata": {},
   "outputs": [],
   "source": [
    "try:\n",
    "    pass\n",
    "except Exception:\n",
    "    pass\n",
    "except ArithmeticError:\n",
    "    pass\n",
    "except BufferError:\n",
    "    pass\n",
    "except LookupError:\n",
    "    pass\n",
    "except AssertionError:\n",
    "    pass\n",
    "except AttributeError:\n",
    "    pass\n",
    "except EOFError:\n",
    "    pass\n",
    "except FloatingPointError:\n",
    "    pass\n",
    "except GeneratorExit:\n",
    "    pass\n",
    "except ImportError:\n",
    "    pass \n",
    "except ModuleNotFoundError:\n",
    "    pass\n",
    "except IndexError:\n",
    "    pass\n",
    "except KeyError:\n",
    "    pass \n",
    "except KeyboardInterrupt:\n",
    "    pass\n",
    "except MemoryError:\n",
    "    pass\n",
    "except NameError:\n",
    "    pass\n",
    "except NotImplementedError:\n",
    "    pass\n",
    "except OSError:\n",
    "    pass\n",
    "except OverflowError:\n",
    "    pass\n",
    "except RecursionError:\n",
    "    pass\n",
    "except ReferenceError:\n",
    "    pass\n",
    "except RuntimeError:\n",
    "    pass\n",
    "except StopIteration:\n",
    "    pass \n",
    "except StopAsyncIteration:\n",
    "    pass\n",
    "except SyntaxError:\n",
    "    pass\n",
    "except IndentationError:\n",
    "    pass\n",
    "except TabError:\n",
    "    pass\n",
    "except SystemError:\n",
    "    pass\n",
    "except SystemExit:\n",
    "    pass\n",
    "except TypeError:\n",
    "    pass\n",
    "except UnboundLocalError:\n",
    "    pass\n",
    "except UnicodeError:\n",
    "    pass\n",
    "except UnicodeEncodeError:\n",
    "    pass\n",
    "except UnicodeDecodeError:\n",
    "    pass\n",
    "except UnicodeTranslateError:\n",
    "    pass\n",
    "except ValueError:\n",
    "    pass\n",
    "except ZeroDivisionError:\n",
    "    pass\n",
    "except EnvironmentError:\n",
    "    pass\n",
    "except IOError:\n",
    "    pass\n",
    "except WindowsError:\n",
    "    pass\n",
    "except BlockingIOError:\n",
    "    pass\n",
    "except ChildProcessError:\n",
    "    pass\n",
    "except ConnectionError:\n",
    "    pass\n",
    "except BrokenPipeError:\n",
    "    pass\n",
    "except ConnectionAbortedError:\n",
    "    pass\n",
    "except ConnectionRefusedError:\n",
    "    pass\n",
    "except ConnectionResetError:\n",
    "    pass\n",
    "except FileExistsError:\n",
    "    pass\n",
    "except FileNotFoundError:\n",
    "    pass\n",
    "except InterruptedError:\n",
    "    pass\n",
    "except IsADirectoryError:\n",
    "    pass\n",
    "except NotADirectoryError:\n",
    "    pass\n",
    "except PermissionError:\n",
    "    pass\n",
    "except ProcessLookupError:\n",
    "    pass\n",
    "except TimeoutError:\n",
    "    pass"
   ]
  },
  {
   "cell_type": "code",
   "execution_count": null,
   "metadata": {},
   "outputs": [],
   "source": []
  }
 ],
 "metadata": {
  "kernelspec": {
   "display_name": "Python 3",
   "language": "python",
   "name": "python3"
  },
  "language_info": {
   "codemirror_mode": {
    "name": "ipython",
    "version": 3
   },
   "file_extension": ".py",
   "mimetype": "text/x-python",
   "name": "python",
   "nbconvert_exporter": "python",
   "pygments_lexer": "ipython3",
   "version": "3.8.5"
  }
 },
 "nbformat": 4,
 "nbformat_minor": 4
}
