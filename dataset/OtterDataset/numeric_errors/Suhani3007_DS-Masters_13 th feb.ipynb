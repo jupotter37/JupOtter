{
 "cells": [
  {
   "cell_type": "code",
   "execution_count": null,
   "id": "e09650c1-309b-4d50-a6a2-4c26ff3151ef",
   "metadata": {},
   "outputs": [],
   "source": [
    "#Q1. Explain why we have to use the Exception class while creating a Custom Exception.\n",
    "Ans-\n",
    "    we use the Exception class as the base for custom exceptions because it provides a consistent \n",
    "and standardized way to represent and handle exceptions in a programming language. It ensures \n",
    "that the custom exception behaves like a typical exception, can be caught and handled separately, \n",
    "is interoperable with other exceptions, and improves code readability and maintainability."
   ]
  },
  {
   "cell_type": "code",
   "execution_count": 5,
   "id": "c649f9e0-d437-4084-aa16-4e11621dbd0d",
   "metadata": {},
   "outputs": [
    {
     "name": "stdin",
     "output_type": "stream",
     "text": [
      "Enter a number : 1\n"
     ]
    },
    {
     "name": "stdout",
     "output_type": "stream",
     "text": [
      "This is positive number\n"
     ]
    }
   ],
   "source": [
    "#Q2. Write a python program to print Python Exception Hierarchy.\n",
    "class validmsg(Exception):\n",
    "    def __init__(self,msg):\n",
    "        self.msg=msg\n",
    "\n",
    "def validnum(num):\n",
    "    if num<0:\n",
    "        raise validmsg(\"This is negative number\")\n",
    "    elif num>=0:\n",
    "        raise validmsg(\"This is positive number\")\n",
    "    else:\n",
    "        print(\"Enter a valid Number..!\")\n",
    "\n",
    "try:\n",
    "    n=int(input(\"Enter a number :\"))\n",
    "    validnum(n)\n",
    "except validmsg as e:\n",
    "    print(e)"
   ]
  },
  {
   "cell_type": "code",
   "execution_count": 39,
   "id": "9119e289-e5c5-4793-8885-4710a400d739",
   "metadata": {},
   "outputs": [
    {
     "data": {
      "text/plain": [
       "'Ans.\\n    i.  Zerodivision Error and \\n    ii. Floating point error\\n    iii.OverflowError\\n    iv.ValueError'"
      ]
     },
     "execution_count": 39,
     "metadata": {},
     "output_type": "execute_result"
    }
   ],
   "source": [
    "\"\"\"Q3. What errors are defined in the ArithmeticError class? Explain any two with an example.\"\"\"\n",
    "\n",
    "\"\"\"Ans.\n",
    "    i.  Zerodivision Error and \n",
    "    ii. Floating point error\n",
    "    iii.OverflowError\n",
    "    iv.ValueError\"\"\"\n",
    "\n"
   ]
  },
  {
   "cell_type": "code",
   "execution_count": 37,
   "id": "d6e2abe6-4213-4a01-824a-ea5dfcba996a",
   "metadata": {},
   "outputs": [
    {
     "name": "stdout",
     "output_type": "stream",
     "text": [
      "division by zero\n"
     ]
    }
   ],
   "source": [
    "try:\n",
    "    11/0\n",
    "except ZeroDivisionError as e:\n",
    "    print(e)"
   ]
  },
  {
   "cell_type": "code",
   "execution_count": 28,
   "id": "e390a44f-4267-43dd-9046-183c5a8ff652",
   "metadata": {},
   "outputs": [
    {
     "name": "stdout",
     "output_type": "stream",
     "text": [
      "Error: Invalid value for conversion!\n"
     ]
    }
   ],
   "source": [
    "try:\n",
    "    a=int('abc')\n",
    "except ValueError as e:\n",
    "    print(\"Error: Invalid value for conversion!\")"
   ]
  },
  {
   "cell_type": "code",
   "execution_count": null,
   "id": "7530d60a-a63a-46c0-87b9-267c2078922e",
   "metadata": {},
   "outputs": [],
   "source": [
    "\"\"\"Q4. Why LookupError class is used? Explain with an example KeyError and IndexError.\"\"\"\n",
    "Ans\n",
    "    The \"LookupError\" class in Python serves as a base class for exceptions that occur when a lookup \n",
    "or indexing operation fails. It is designed to handle errors related to accessing elements or values \n",
    "from sequences, mappings, or other data structures. Here are two examples of specific exceptions derived \n",
    "from the \"LookupError\" class: KeyError and IndexError."
   ]
  },
  {
   "cell_type": "code",
   "execution_count": 34,
   "id": "c3f4faf0-0ad8-4690-9a41-d5ab2d84f2bb",
   "metadata": {},
   "outputs": [
    {
     "name": "stdout",
     "output_type": "stream",
     "text": [
      "Error: Key not found in dictionary!\n"
     ]
    }
   ],
   "source": [
    "\"\"\"KeyError:\n",
    "The \"KeyError\" exception is raised when a dictionary key or set element is not found during a \n",
    "lookup operation. It occurs when you try to access a key that does not exist in a dictionary or a set.\"\"\"\n",
    "try:\n",
    "    dic={'a':1,'b':2,'c':3}\n",
    "    a=dic['d']\n",
    "except KeyError as e:\n",
    "    print(\"Error: Key not found in dictionary!\")\n"
   ]
  },
  {
   "cell_type": "code",
   "execution_count": 35,
   "id": "6eaf0a0d-6b21-4f5f-a8d5-800361777a88",
   "metadata": {},
   "outputs": [
    {
     "name": "stdout",
     "output_type": "stream",
     "text": [
      "list index out of range\n"
     ]
    }
   ],
   "source": [
    "\"\"\"IndexError:\n",
    "The \"IndexError\" exception is raised when a sequence (such as a list, tuple, or string) is\n",
    "accessed with an invalid index. It occurs when you try to access an element at an index that is \n",
    "outside the valid range of the sequence.\"\"\"\n",
    "try:\n",
    "    a=[1,2,3,4]\n",
    "    b=a[10]\n",
    "    print(b)\n",
    "except IndexError as e:\n",
    "    print(e)"
   ]
  },
  {
   "cell_type": "code",
   "execution_count": null,
   "id": "36ec6086-7598-4699-adea-05cd081f71ce",
   "metadata": {},
   "outputs": [],
   "source": [
    "\"\"\"Q5. Explain ImportError. What is ModuleNotFoundError?\"\"\"\n",
    "Ans\n",
    "  \"ImportError\" is a built-in Python exception that is raised when an import statement fails to \n",
    "    find and load a module. It occurs when there is an issue locating or importing the desired module.\n",
    "    \n",
    "     \"ModuleNotFoundError\" is a subclass of \"ImportError\" that specifically indicates that the requested \n",
    "        module cannot be found.When a module cannot be located during an import operation, Python raises a \n",
    "        \"ModuleNotFoundError\" to provide clearer information about the issue."
   ]
  },
  {
   "cell_type": "code",
   "execution_count": null,
   "id": "dac43ee2-11aa-44a8-b7fe-317518ab894b",
   "metadata": {},
   "outputs": [],
   "source": [
    "\"\"\"Q6. List down some best practices for exception handling in python.\"\"\"\n"
   ]
  },
  {
   "cell_type": "code",
   "execution_count": 36,
   "id": "77b78757-e66f-4626-bd3e-7206ee8148f7",
   "metadata": {},
   "outputs": [
    {
     "name": "stdout",
     "output_type": "stream",
     "text": [
      "list index out of range\n"
     ]
    }
   ],
   "source": [
    "try:\n",
    "    a=[1,2,3,4]\n",
    "    b=a[10]\n",
    "    print(b)\n",
    "except IndexError as e:\n",
    "    print(e)"
   ]
  },
  {
   "cell_type": "code",
   "execution_count": 40,
   "id": "754c7c9f-a2a8-4c05-adc4-0d7ed2c030ce",
   "metadata": {},
   "outputs": [
    {
     "name": "stdout",
     "output_type": "stream",
     "text": [
      "division by zero\n"
     ]
    }
   ],
   "source": [
    "try:\n",
    "    11/0\n",
    "except ZeroDivisionError as e:\n",
    "    print(e)"
   ]
  },
  {
   "cell_type": "code",
   "execution_count": 41,
   "id": "3bea4357-657f-4c14-8507-f1f1cc209865",
   "metadata": {},
   "outputs": [
    {
     "name": "stdout",
     "output_type": "stream",
     "text": [
      "Error: Key not found in dictionary!\n"
     ]
    }
   ],
   "source": [
    "try:\n",
    "    dic={'a':1,'b':2,'c':3}\n",
    "    a=dic['d']\n",
    "except KeyError as e:\n",
    "    print(\"Error: Key not found in dictionary!\")"
   ]
  },
  {
   "cell_type": "code",
   "execution_count": 42,
   "id": "2b922d84-f088-45c7-a698-9f622c89efd9",
   "metadata": {},
   "outputs": [
    {
     "name": "stdout",
     "output_type": "stream",
     "text": [
      "Error: Invalid value for conversion!\n"
     ]
    }
   ],
   "source": [
    "try:\n",
    "    a=int('abc')\n",
    "except ValueError as e:\n",
    "    print(\"Error: Invalid value for conversion!\")"
   ]
  },
  {
   "cell_type": "code",
   "execution_count": 44,
   "id": "8f1c9a3a-7244-4307-b02e-2f9021ecca42",
   "metadata": {},
   "outputs": [
    {
     "name": "stdout",
     "output_type": "stream",
     "text": [
      "[Errno 2] No such file or directory: 'text.txt'\n"
     ]
    }
   ],
   "source": [
    "try:\n",
    "    a=open(\"text.txt\",'r')\n",
    "except FileNotFoundError as e:\n",
    "    print(e)"
   ]
  },
  {
   "cell_type": "code",
   "execution_count": 45,
   "id": "aa896d0e-558d-45e9-9882-a949fd8e8331",
   "metadata": {},
   "outputs": [
    {
     "name": "stdout",
     "output_type": "stream",
     "text": [
      "'list' object has no attribute 'test'\n"
     ]
    }
   ],
   "source": [
    "try:\n",
    "    a.test()\n",
    "except AttributeError as e:\n",
    "    print(e)"
   ]
  },
  {
   "cell_type": "code",
   "execution_count": null,
   "id": "938b7f0b-f081-480a-96a7-085ab748bdc6",
   "metadata": {},
   "outputs": [],
   "source": []
  }
 ],
 "metadata": {
  "kernelspec": {
   "display_name": "Python 3 (ipykernel)",
   "language": "python",
   "name": "python3"
  },
  "language_info": {
   "codemirror_mode": {
    "name": "ipython",
    "version": 3
   },
   "file_extension": ".py",
   "mimetype": "text/x-python",
   "name": "python",
   "nbconvert_exporter": "python",
   "pygments_lexer": "ipython3",
   "version": "3.10.8"
  }
 },
 "nbformat": 4,
 "nbformat_minor": 5
}
