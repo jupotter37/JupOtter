{
 "cells": [
  {
   "cell_type": "markdown",
   "id": "f290ea0c",
   "metadata": {},
   "source": [
    "# Chapter 7"
   ]
  },
  {
   "cell_type": "markdown",
   "id": "a483008c",
   "metadata": {},
   "source": [
    "### File Handling"
   ]
  },
  {
   "cell_type": "markdown",
   "id": "a51a0004",
   "metadata": {},
   "source": [
    "#### create a file"
   ]
  },
  {
   "cell_type": "code",
   "execution_count": 1,
   "id": "6f0bf38a",
   "metadata": {},
   "outputs": [],
   "source": [
    "# create a empty text file\n",
    "# in current directory\n",
    "fp = open('Chemistry.txt', 'w')\n",
    "fp.close()"
   ]
  },
  {
   "cell_type": "code",
   "execution_count": 2,
   "id": "87d98c9a",
   "metadata": {},
   "outputs": [
    {
     "name": "stdout",
     "output_type": "stream",
     "text": [
      " Volume in drive C is Windows\n",
      " Volume Serial Number is 3A44-38D3\n",
      "\n",
      " Directory of C:\\Users\\BalaS\n",
      "\n",
      "01-11-2022  14:24    <DIR>          .\n",
      "01-11-2022  14:24    <DIR>          ..\n",
      "02-08-2022  10:01    <DIR>          .anaconda\n",
      "27-07-2022  12:03    <DIR>          .cache\n",
      "01-11-2022  14:24    <DIR>          .conda\n",
      "10-10-2022  11:44                25 .condarc\n",
      "15-07-2022  12:14    <DIR>          .continuum\n",
      "11-08-2022  11:34    <DIR>          .dotnet\n",
      "01-11-2022  14:22    <DIR>          .ipynb_checkpoints\n",
      "14-09-2022  16:29    <DIR>          .ipython\n",
      "25-08-2022  14:15    <DIR>          .jchempaint\n",
      "25-08-2022  11:44    <DIR>          .jnati\n",
      "19-07-2022  10:10    <DIR>          .jupyter\n",
      "28-07-2022  14:50    <DIR>          .keras\n",
      "28-07-2022  14:52    <DIR>          .matplotlib\n",
      "15-07-2022  11:20    <DIR>          .ms-ad\n",
      "11-08-2022  11:42    <DIR>          .templateengine\n",
      "11-08-2022  12:13                 0 __init__.py\n",
      "06-06-2022  06:20    <DIR>          3D Objects\n",
      "10-10-2022  11:45    <DIR>          anaconda3\n",
      "18-08-2022  15:45           257,110 BioActivity Prediction.ipynb\n",
      "25-08-2022  14:01            32,479 BioActivity Prediction-Copy1.ipynb\n",
      "27-08-2022  11:50           260,609 BioActivity Prediction-Copy2.ipynb\n",
      "03-08-2022  12:17            15,221 bioactivity.ipynb\n",
      "04-08-2022  12:42           686,928 brd3.csv\n",
      "03-08-2022  12:47         7,544,540 brd4.csv\n",
      "27-08-2022  11:37         3,868,640 brd4_fp.npy\n",
      "27-08-2022  11:37            27,516 brd4_labelled.smi\n",
      "21-09-2022  11:05           117,055 Builtin function.ipynb\n",
      "19-09-2022  19:49                33 chem.txt\n",
      "10-10-2022  11:55            51,219 Chemistry.ipynb\n",
      "01-11-2022  14:24                 0 Chemistry.txt\n",
      "28-10-2022  17:21             9,853 classes.ipynb\n",
      "06-06-2022  06:20    <DIR>          Contacts\n",
      "24-08-2022  10:43                68 data.txt\n",
      "29-10-2022  11:31    <DIR>          Desktop\n",
      "27-09-2022  19:40    <DIR>          Documents\n",
      "29-10-2022  14:43    <DIR>          Downloads\n",
      "06-06-2022  06:20    <DIR>          Favorites\n",
      "01-11-2022  14:24               719 file handling.ipynb\n",
      "19-09-2022  19:44                29 geeksforgeeks.txt\n",
      "06-06-2022  06:20    <DIR>          Links\n",
      "13-10-2022  17:44            59,516 list function.ipynb\n",
      "06-06-2022  06:20    <DIR>          Music\n",
      "12-08-2022  12:25                71 oe_license.txt\n",
      "06-06-2022  06:22    <DIR>          OneDrive\n",
      "11-08-2022  12:00                81 OpenEye-toolkits-python3.10-win64-2022.1.1.zip.md5\n",
      "07-06-2022  15:39    <DIR>          OpenEye-toolkits-python3.8-win64-2022.1.1\n",
      "18-10-2022  14:01            13,167 Operators.ipynb\n",
      "12-08-2022  09:43    <DIR>          Pictures\n",
      "02-09-2022  11:35    <DIR>          PycharmProjects\n",
      "19-09-2022  21:52                13 python.txt\n",
      "25-08-2022  10:26        18,505,536 qsar_oral_toxicity.csv\n",
      "18-08-2022  15:42           529,914 rf_model_brd4.pkl\n",
      "06-06-2022  06:07    <DIR>          Roaming\n",
      "06-06-2022  06:20    <DIR>          Saved Games\n",
      "06-06-2022  06:21    <DIR>          Searches\n",
      "11-08-2022  11:43    <DIR>          source\n",
      "27-09-2022  17:39            73,417 String Functions.ipynb\n",
      "04-08-2022  12:02           405,126 tcm600_nr.smi\n",
      "24-08-2022  17:20             1,184 Tox Predict.ipynb\n",
      "24-08-2022  10:48        24,728,393 tox21_10k_data_all.sdf\n",
      "24-08-2022  12:29            20,417 Toxicity Prediction.ipynb\n",
      "02-09-2022  16:42            11,790 Untitled.ipynb\n",
      "03-08-2022  11:08             7,738 Untitled1.ipynb\n",
      "03-08-2022  12:39             7,461 Untitled2.ipynb\n",
      "11-08-2022  15:16               589 Untitled3.ipynb\n",
      "03-08-2022  14:57             2,294 Untitled4.ipynb\n",
      "02-09-2022  12:24             2,404 Untitled5.ipynb\n",
      "23-08-2022  16:20           138,502 Untitled6.ipynb\n",
      "24-08-2022  10:59            16,848 Untitled7.ipynb\n",
      "12-07-2022  07:16    <DIR>          Videos\n",
      "28-10-2022  09:35                19 write_demo.txt\n",
      "              39 File(s)     57,396,524 bytes\n",
      "              34 Dir(s)  375,603,195,904 bytes free\n"
     ]
    }
   ],
   "source": [
    "ls"
   ]
  },
  {
   "cell_type": "code",
   "execution_count": 4,
   "id": "57ada18a",
   "metadata": {},
   "outputs": [
    {
     "name": "stdout",
     "output_type": "stream",
     "text": [
      "True\n"
     ]
    }
   ],
   "source": [
    "import os\n",
    "\n",
    "# verify file exist\n",
    "print(os.path.isfile('Chemistry.txt'))"
   ]
  },
  {
   "cell_type": "markdown",
   "id": "26c3dc56",
   "metadata": {},
   "source": [
    "### Create a file in specific directory"
   ]
  },
  {
   "cell_type": "code",
   "execution_count": 11,
   "id": "797db372",
   "metadata": {},
   "outputs": [],
   "source": [
    "# create a text file for writing\n",
    "with open(r'C:\\Users\\BalaS\\Documents\\Chem.txt', 'w') as fp:\n",
    "    fp.write('Welcome to Python for Chemistry')"
   ]
  },
  {
   "cell_type": "code",
   "execution_count": 12,
   "id": "631517b2",
   "metadata": {},
   "outputs": [
    {
     "name": "stdout",
     "output_type": "stream",
     "text": [
      "['Chem.txt', 'Custom Office Templates', 'desktop.ini', 'IISExpress', 'My Music', 'My Pictures', 'My Videos', 'My Web Sites', 'Pivot Animator v5', 'Python Scripts', 'Visual Studio 2022']\n",
      "True\n"
     ]
    }
   ],
   "source": [
    "import os\n",
    "\n",
    "# list files a directory\n",
    "print(os.listdir(r'C:\\Users\\BalaS\\Documents'))\n",
    "\n",
    "# verify file exist\n",
    "print(os.path.isfile(r'C:\\Users\\BalaS\\Documents\\Chem.txt'))"
   ]
  },
  {
   "cell_type": "markdown",
   "id": "a54da166",
   "metadata": {},
   "source": [
    "### Open a file"
   ]
  },
  {
   "cell_type": "code",
   "execution_count": 13,
   "id": "3853bf14",
   "metadata": {},
   "outputs": [
    {
     "name": "stdout",
     "output_type": "stream",
     "text": [
      "Welcome to Python for Chemistry\n"
     ]
    }
   ],
   "source": [
    "# Opening the file with absolute path\n",
    "fp = open(r'C:\\Users\\BalaS\\Documents\\Chem.txt', 'r')\n",
    "# read file\n",
    "print(fp.read())\n",
    "# Closing the file after reading\n",
    "fp.close()"
   ]
  },
  {
   "cell_type": "code",
   "execution_count": 17,
   "id": "44e85a90",
   "metadata": {},
   "outputs": [],
   "source": [
    "# create a text file for writing\n",
    "with open('Chemistry.txt', 'w') as fp:\n",
    "    fp.write('Python for Chemistry.\\n')\n",
    "    fp.write('Python is a high-level, general-purpose programming language.\\n')\n",
    "    fp.write('Python is dynamically-typed and garbage-collected.\\n')"
   ]
  },
  {
   "cell_type": "code",
   "execution_count": 16,
   "id": "bc08382b",
   "metadata": {},
   "outputs": [
    {
     "name": "stdout",
     "output_type": "stream",
     "text": [
      "Python for Chemistry\n"
     ]
    }
   ],
   "source": [
    "# Opening the file with absolute path\n",
    "fp = open('Chemistry.txt', 'r')\n",
    "# read file\n",
    "print(fp.read())\n",
    "# Closing the file after reading\n",
    "fp.close()"
   ]
  },
  {
   "cell_type": "code",
   "execution_count": 5,
   "id": "2a18b995",
   "metadata": {},
   "outputs": [
    {
     "ename": "FileNotFoundError",
     "evalue": "[Errno 2] No such file or directory: 'C:\\\\Users\\\\BalaS\\\\Documents\\\\Che.txt'",
     "output_type": "error",
     "traceback": [
      "\u001b[1;31m---------------------------------------------------------------------------\u001b[0m",
      "\u001b[1;31mFileNotFoundError\u001b[0m                         Traceback (most recent call last)",
      "\u001b[1;32m~\\AppData\\Local\\Temp\\ipykernel_1788\\2301863412.py\u001b[0m in \u001b[0;36m<module>\u001b[1;34m\u001b[0m\n\u001b[0;32m      1\u001b[0m \u001b[1;31m# Opening the not exists file\u001b[0m\u001b[1;33m\u001b[0m\u001b[1;33m\u001b[0m\u001b[1;33m\u001b[0m\u001b[0m\n\u001b[1;32m----> 2\u001b[1;33m \u001b[0mfp\u001b[0m \u001b[1;33m=\u001b[0m \u001b[0mopen\u001b[0m\u001b[1;33m(\u001b[0m\u001b[1;34mr'C:\\Users\\BalaS\\Documents\\Che.txt'\u001b[0m\u001b[1;33m,\u001b[0m \u001b[1;34m'r'\u001b[0m\u001b[1;33m)\u001b[0m\u001b[1;33m\u001b[0m\u001b[1;33m\u001b[0m\u001b[0m\n\u001b[0m\u001b[0;32m      3\u001b[0m \u001b[1;31m# read file\u001b[0m\u001b[1;33m\u001b[0m\u001b[1;33m\u001b[0m\u001b[1;33m\u001b[0m\u001b[0m\n\u001b[0;32m      4\u001b[0m \u001b[0mprint\u001b[0m\u001b[1;33m(\u001b[0m\u001b[0mfp\u001b[0m\u001b[1;33m.\u001b[0m\u001b[0mread\u001b[0m\u001b[1;33m(\u001b[0m\u001b[1;33m)\u001b[0m\u001b[1;33m)\u001b[0m\u001b[1;33m\u001b[0m\u001b[1;33m\u001b[0m\u001b[0m\n",
      "\u001b[1;31mFileNotFoundError\u001b[0m: [Errno 2] No such file or directory: 'C:\\\\Users\\\\BalaS\\\\Documents\\\\Che.txt'"
     ]
    }
   ],
   "source": [
    "# Opening the not exists file \n",
    "fp = open(r'C:\\Users\\BalaS\\Documents\\Che.txt', 'r')\n",
    "# read file\n",
    "print(fp.read())"
   ]
  },
  {
   "cell_type": "markdown",
   "id": "d74dac1a",
   "metadata": {},
   "source": [
    "### Read A File"
   ]
  },
  {
   "cell_type": "code",
   "execution_count": 19,
   "id": "b6b81807",
   "metadata": {},
   "outputs": [
    {
     "name": "stdout",
     "output_type": "stream",
     "text": [
      "Python \n",
      "for Chemistry.\n",
      "Python is a high-level, general-purpose programming language.\n",
      "Python is dynamically-typed and garbage-collected.\n",
      "\n"
     ]
    }
   ],
   "source": [
    "# Opening the file with absolute path\n",
    "fp = open('Chemistry.txt', 'r')\n",
    "\n",
    "# read first 6 data\n",
    "print(fp.read(7))\n",
    "\n",
    "#read the rest of the file\n",
    "print(fp.read())\n",
    "\n",
    "# Closing the file after reading\n",
    "fp.close()"
   ]
  },
  {
   "cell_type": "markdown",
   "id": "6764330d",
   "metadata": {},
   "source": [
    "### Write to a file"
   ]
  },
  {
   "cell_type": "code",
   "execution_count": 24,
   "id": "f6d4fab5",
   "metadata": {},
   "outputs": [
    {
     "name": "stdout",
     "output_type": "stream",
     "text": [
      "Writing Finished\n",
      "The periodic table is a tabular display of the chemical elements.\n",
      "\n"
     ]
    }
   ],
   "source": [
    "# create a text file for writing\n",
    "fp = open('Chemist.txt', 'w')\n",
    "fp.write('The periodic table is a tabular display of the chemical elements.\\n')\n",
    "print(\"Writing Finished\")\n",
    "fp.close()\n",
    "\n",
    "#Reading the file\n",
    "fp = open('Chemist.txt', 'r')\n",
    "print(fp.read())\n",
    "fp.close()"
   ]
  },
  {
   "cell_type": "code",
   "execution_count": 26,
   "id": "9f445748",
   "metadata": {},
   "outputs": [
    {
     "name": "stdout",
     "output_type": "stream",
     "text": [
      "The periodic table is a tabular display of the chemical elements.\n",
      "\n",
      "Opening file again..\n",
      "\n",
      "Periodic table is widely used in chemistry, physics, and other sciences\n"
     ]
    }
   ],
   "source": [
    "#Opening a file\n",
    "fp = open('Chemist.txt', 'r')\n",
    "print(fp.read())\n",
    "fp.close()\n",
    "\n",
    "# overwriting existing content of a file\n",
    "fp = open('Chemist.txt', 'w')\n",
    "fp.write(\"\\nPeriodic table is widely used in chemistry, physics, and other sciences\")\n",
    "fp.close()\n",
    "\n",
    "# Read file\n",
    "fp = open('Chemist.txt', 'r')\n",
    "print(\"Opening file again..\")\n",
    "print(fp.read())\n",
    "fp.close()\n"
   ]
  },
  {
   "cell_type": "markdown",
   "id": "f4938327",
   "metadata": {},
   "source": [
    "### Closing a file"
   ]
  },
  {
   "cell_type": "code",
   "execution_count": 27,
   "id": "d1a8c269",
   "metadata": {},
   "outputs": [
    {
     "name": "stdout",
     "output_type": "stream",
     "text": [
      "\n",
      "Periodic table is widely used in chemistry, physics, and other sciences\n"
     ]
    }
   ],
   "source": [
    "#Opening a file\n",
    "fp = open('Chemist.txt', 'r')\n",
    "print(fp.read())\n",
    "fp.close()"
   ]
  },
  {
   "cell_type": "code",
   "execution_count": 28,
   "id": "19ffcc31",
   "metadata": {},
   "outputs": [
    {
     "name": "stdout",
     "output_type": "stream",
     "text": [
      "\n",
      "Periodic table is widely used in chemistry, physics, and other sciences\n"
     ]
    }
   ],
   "source": [
    "#Opening a file\n",
    "with open('Chemist.txt', 'r') as fp:\n",
    "    print(fp.read())"
   ]
  },
  {
   "cell_type": "markdown",
   "id": "bb67915b",
   "metadata": {},
   "source": [
    "## File Directory"
   ]
  },
  {
   "cell_type": "markdown",
   "id": "efc83bac",
   "metadata": {},
   "source": [
    "### Getting the current directory"
   ]
  },
  {
   "cell_type": "code",
   "execution_count": 37,
   "id": "f8b921f0",
   "metadata": {},
   "outputs": [
    {
     "name": "stdout",
     "output_type": "stream",
     "text": [
      "C:\\Users\\BalaS\n",
      "b'C:\\\\Users\\\\BalaS'\n"
     ]
    },
    {
     "name": "stderr",
     "output_type": "stream",
     "text": [
      "C:\\Users\\BalaS\\anaconda3\\envs\\my-rdkit-env\\lib\\site-packages\\ipykernel_launcher.py:6: DeprecationWarning: The Windows bytes API has been deprecated, use Unicode filenames instead\n",
      "  \n"
     ]
    }
   ],
   "source": [
    "import os\n",
    "#Get the current directory\n",
    "print(os.getcwd())\n",
    "\n",
    "#Get the current directory as byte object\n",
    "print(os.getcwdb())\n"
   ]
  },
  {
   "cell_type": "markdown",
   "id": "1aae3737",
   "metadata": {},
   "source": [
    "### Changing the directory"
   ]
  },
  {
   "cell_type": "code",
   "execution_count": 38,
   "id": "3c0a8d06",
   "metadata": {},
   "outputs": [
    {
     "name": "stdout",
     "output_type": "stream",
     "text": [
      "C:\\Users\\BalaS\\Documents\n"
     ]
    }
   ],
   "source": [
    "import os\n",
    "#Change the current directory\n",
    "os.chdir('C:\\\\Users\\\\BalaS\\\\Documents')\n",
    "print(os.getcwd())"
   ]
  },
  {
   "cell_type": "markdown",
   "id": "5cbaa22d",
   "metadata": {},
   "source": [
    "### Listing the directory files and folders"
   ]
  },
  {
   "cell_type": "code",
   "execution_count": 43,
   "id": "6118c57c",
   "metadata": {},
   "outputs": [
    {
     "name": "stdout",
     "output_type": "stream",
     "text": [
      "C:\\Users\\BalaS\\Documents\n",
      "['Chem.txt', 'Custom Office Templates', 'desktop.ini', 'IISExpress', 'My Music', 'My Pictures', 'My Videos', 'My Web Sites', 'Pivot Animator v5', 'pyhton.txt', 'Python Scripts', 'Visual Studio 2022']\n",
      "\n",
      " C:\\Users\\BalaS \n",
      "['.anaconda', '.cache', '.conda', '.condarc', '.continuum', '.dotnet', '.ipynb_checkpoints', '.ipython', '.jchempaint', '.jnati', '.jupyter', '.keras', '.matplotlib', '.ms-ad', '.templateengine', '3D Objects', 'anaconda3', 'AppData', 'Application Data', 'BioActivity Prediction-Copy1.ipynb', 'BioActivity Prediction-Copy2.ipynb', 'BioActivity Prediction.ipynb', 'bioactivity.ipynb', 'brd3.csv', 'brd4.csv', 'brd4_fp.npy', 'brd4_labelled.smi', 'Builtin function.ipynb', 'chem.txt', 'Chemist.txt', 'Chemistry.ipynb', 'Chemistry.txt', 'classes.ipynb', 'Contacts', 'Cookies', 'data.txt', 'Desktop', 'Documents', 'Downloads', 'Favorites', 'file handling.ipynb', 'geeksforgeeks.txt', 'IntelGraphicsProfiles', 'Links', 'list function.ipynb', 'Local Settings', 'Music', 'My Documents', 'NetHood', 'NTUSER.DAT', 'ntuser.dat.LOG1', 'ntuser.dat.LOG2', 'NTUSER.DAT{cdc96f85-e538-11ec-90d1-f18af454f0e1}.TM.blf', 'NTUSER.DAT{cdc96f85-e538-11ec-90d1-f18af454f0e1}.TMContainer00000000000000000001.regtrans-ms', 'NTUSER.DAT{cdc96f85-e538-11ec-90d1-f18af454f0e1}.TMContainer00000000000000000002.regtrans-ms', 'ntuser.ini', 'oe_license.txt', 'OneDrive', 'OpenEye-toolkits-python3.10-win64-2022.1.1.zip.md5', 'OpenEye-toolkits-python3.8-win64-2022.1.1', 'Operators.ipynb', 'Pictures', 'PrintHood', 'PycharmProjects', 'python.txt', 'qsar_oral_toxicity.csv', 'Recent', 'rf_model_brd4.pkl', 'Roaming', 'Saved Games', 'Searches', 'SendTo', 'source', 'Start Menu', 'String Functions.ipynb', 'tcm600_nr.smi', 'Templates', 'Tox Predict.ipynb', 'tox21_10k_data_all.sdf', 'Toxicity Prediction.ipynb', 'Untitled.ipynb', 'Untitled1.ipynb', 'Untitled2.ipynb', 'Untitled3.ipynb', 'Untitled4.ipynb', 'Untitled5.ipynb', 'Untitled6.ipynb', 'Untitled7.ipynb', 'Videos', 'write_demo.txt', '__init__.py']\n"
     ]
    }
   ],
   "source": [
    "import os\n",
    "#Get the current directory\n",
    "print(os.getcwd())\n",
    "\n",
    "#List the files and folders\n",
    "print(os.listdir())\n",
    "\n",
    "#list the directory\n",
    "print('\\n C:\\\\Users\\\\BalaS ')\n",
    "print(os.listdir('C:\\\\Users\\\\BalaS'))"
   ]
  },
  {
   "cell_type": "markdown",
   "id": "0e26a823",
   "metadata": {},
   "source": [
    "### Creating a new directory"
   ]
  },
  {
   "cell_type": "code",
   "execution_count": 44,
   "id": "c50a8ce9",
   "metadata": {},
   "outputs": [
    {
     "name": "stdout",
     "output_type": "stream",
     "text": [
      "['Chem.txt', 'Custom Office Templates', 'desktop.ini', 'IISExpress', 'My Music', 'My Pictures', 'My Videos', 'My Web Sites', 'Pivot Animator v5', 'Program', 'pyhton.txt', 'Python Scripts', 'Visual Studio 2022']\n"
     ]
    }
   ],
   "source": [
    "import os\n",
    "\n",
    "#Create a new directory\n",
    "os.mkdir('Program')\n",
    "\n",
    "#Print the new directory\n",
    "print(os.listdir())"
   ]
  },
  {
   "cell_type": "markdown",
   "id": "27ff31d2",
   "metadata": {},
   "source": [
    "### Renaming the directory"
   ]
  },
  {
   "cell_type": "code",
   "execution_count": 45,
   "id": "2f660c3d",
   "metadata": {},
   "outputs": [
    {
     "name": "stdout",
     "output_type": "stream",
     "text": [
      "['Chem.txt', 'Custom Office Templates', 'desktop.ini', 'IISExpress', 'My Music', 'My Pictures', 'My Videos', 'My Web Sites', 'Pivot Animator v5', 'pyhton.txt', 'Python Scripts', 'Test', 'Visual Studio 2022']\n"
     ]
    }
   ],
   "source": [
    "import os\n",
    "\n",
    "#Renaming a directory directory\n",
    "os.rename('Program','Test')\n",
    "\n",
    "#Print the new directory\n",
    "print(os.listdir())"
   ]
  },
  {
   "cell_type": "markdown",
   "id": "cb14b223",
   "metadata": {},
   "source": [
    "### Removing the directory"
   ]
  },
  {
   "cell_type": "code",
   "execution_count": 46,
   "id": "63da26b5",
   "metadata": {},
   "outputs": [
    {
     "name": "stdout",
     "output_type": "stream",
     "text": [
      "['Chem.txt', 'Custom Office Templates', 'desktop.ini', 'IISExpress', 'My Music', 'My Pictures', 'My Videos', 'My Web Sites', 'Pivot Animator v5', 'pyhton.txt', 'Python Scripts', 'Visual Studio 2022']\n"
     ]
    }
   ],
   "source": [
    "import os\n",
    "\n",
    "#Remove the directory\n",
    "os.rmdir('Test')\n",
    "print(os.listdir())"
   ]
  },
  {
   "cell_type": "code",
   "execution_count": 47,
   "id": "d1f565a1",
   "metadata": {},
   "outputs": [
    {
     "ename": "OSError",
     "evalue": "[WinError 145] The directory is not empty: 'Chemistry'",
     "output_type": "error",
     "traceback": [
      "\u001b[1;31m---------------------------------------------------------------------------\u001b[0m",
      "\u001b[1;31mOSError\u001b[0m                                   Traceback (most recent call last)",
      "\u001b[1;32m~\\AppData\\Local\\Temp\\ipykernel_1788\\2633484179.py\u001b[0m in \u001b[0;36m<module>\u001b[1;34m\u001b[0m\n\u001b[0;32m      2\u001b[0m \u001b[1;33m\u001b[0m\u001b[0m\n\u001b[0;32m      3\u001b[0m \u001b[1;31m#Remove the directory\u001b[0m\u001b[1;33m\u001b[0m\u001b[1;33m\u001b[0m\u001b[1;33m\u001b[0m\u001b[0m\n\u001b[1;32m----> 4\u001b[1;33m \u001b[0mos\u001b[0m\u001b[1;33m.\u001b[0m\u001b[0mrmdir\u001b[0m\u001b[1;33m(\u001b[0m\u001b[1;34m'Chemistry'\u001b[0m\u001b[1;33m)\u001b[0m\u001b[1;33m\u001b[0m\u001b[1;33m\u001b[0m\u001b[0m\n\u001b[0m\u001b[0;32m      5\u001b[0m \u001b[0mprint\u001b[0m\u001b[1;33m(\u001b[0m\u001b[0mos\u001b[0m\u001b[1;33m.\u001b[0m\u001b[0mlistdir\u001b[0m\u001b[1;33m(\u001b[0m\u001b[1;33m)\u001b[0m\u001b[1;33m)\u001b[0m\u001b[1;33m\u001b[0m\u001b[1;33m\u001b[0m\u001b[0m\n",
      "\u001b[1;31mOSError\u001b[0m: [WinError 145] The directory is not empty: 'Chemistry'"
     ]
    }
   ],
   "source": [
    "import os\n",
    "\n",
    "#Remove the directory\n",
    "os.rmdir('Chemistry')\n",
    "print(os.listdir())"
   ]
  },
  {
   "cell_type": "code",
   "execution_count": 48,
   "id": "ad29c095",
   "metadata": {},
   "outputs": [
    {
     "name": "stdout",
     "output_type": "stream",
     "text": [
      "['Chem.txt', 'Custom Office Templates', 'desktop.ini', 'IISExpress', 'My Music', 'My Pictures', 'My Videos', 'My Web Sites', 'Pivot Animator v5', 'pyhton.txt', 'Python Scripts', 'Visual Studio 2022']\n"
     ]
    }
   ],
   "source": [
    "import os\n",
    "import shutil\n",
    "\n",
    "#Removing the non empty folder \n",
    "shutil.rmtree('Chemistry')\n",
    "print(os.listdir())"
   ]
  },
  {
   "cell_type": "markdown",
   "id": "e82f5d40",
   "metadata": {},
   "source": [
    "### File Exception"
   ]
  },
  {
   "cell_type": "markdown",
   "id": "963300f0",
   "metadata": {},
   "source": [
    "### Syntax Errors"
   ]
  },
  {
   "cell_type": "code",
   "execution_count": 6,
   "id": "01c86743",
   "metadata": {},
   "outputs": [
    {
     "ename": "SyntaxError",
     "evalue": "invalid syntax (3062633363.py, line 1)",
     "output_type": "error",
     "traceback": [
      "\u001b[1;36m  File \u001b[1;32m\"C:\\Users\\BalaS\\AppData\\Local\\Temp\\ipykernel_18096\\3062633363.py\"\u001b[1;36m, line \u001b[1;32m1\u001b[0m\n\u001b[1;33m    print(Welcome to Python for Chemistry)\u001b[0m\n\u001b[1;37m                   ^\u001b[0m\n\u001b[1;31mSyntaxError\u001b[0m\u001b[1;31m:\u001b[0m invalid syntax\n"
     ]
    }
   ],
   "source": [
    "print(Welcome to Python for Chemistry)"
   ]
  },
  {
   "cell_type": "code",
   "execution_count": 7,
   "id": "a962d9fc",
   "metadata": {},
   "outputs": [
    {
     "ename": "SyntaxError",
     "evalue": "invalid syntax (2316953614.py, line 3)",
     "output_type": "error",
     "traceback": [
      "\u001b[1;36m  File \u001b[1;32m\"C:\\Users\\BalaS\\AppData\\Local\\Temp\\ipykernel_18096\\2316953614.py\"\u001b[1;36m, line \u001b[1;32m3\u001b[0m\n\u001b[1;33m    if(a>b)\u001b[0m\n\u001b[1;37m           ^\u001b[0m\n\u001b[1;31mSyntaxError\u001b[0m\u001b[1;31m:\u001b[0m invalid syntax\n"
     ]
    }
   ],
   "source": [
    "a=10\n",
    "b=15\n",
    "if(a>b)\n",
    "    print(\"a is greater\")\n",
    "else:\n",
    "    print(\"b is greater\")"
   ]
  },
  {
   "cell_type": "markdown",
   "id": "e60b4874",
   "metadata": {},
   "source": [
    "### Logical Errors"
   ]
  },
  {
   "cell_type": "code",
   "execution_count": 8,
   "id": "464bc72a",
   "metadata": {},
   "outputs": [
    {
     "ename": "ZeroDivisionError",
     "evalue": "division by zero",
     "output_type": "error",
     "traceback": [
      "\u001b[1;31m---------------------------------------------------------------------------\u001b[0m",
      "\u001b[1;31mZeroDivisionError\u001b[0m                         Traceback (most recent call last)",
      "\u001b[1;32m~\\AppData\\Local\\Temp\\ipykernel_18096\\1678069621.py\u001b[0m in \u001b[0;36m<module>\u001b[1;34m\u001b[0m\n\u001b[0;32m      1\u001b[0m \u001b[0ma\u001b[0m\u001b[1;33m=\u001b[0m\u001b[1;36m10\u001b[0m\u001b[1;33m\u001b[0m\u001b[1;33m\u001b[0m\u001b[0m\n\u001b[0;32m      2\u001b[0m \u001b[0mb\u001b[0m\u001b[1;33m=\u001b[0m\u001b[1;36m0\u001b[0m\u001b[1;33m\u001b[0m\u001b[1;33m\u001b[0m\u001b[0m\n\u001b[1;32m----> 3\u001b[1;33m \u001b[0mc\u001b[0m\u001b[1;33m=\u001b[0m \u001b[0ma\u001b[0m\u001b[1;33m/\u001b[0m\u001b[0mb\u001b[0m\u001b[1;33m\u001b[0m\u001b[1;33m\u001b[0m\u001b[0m\n\u001b[0m\u001b[0;32m      4\u001b[0m \u001b[0mprint\u001b[0m\u001b[1;33m(\u001b[0m\u001b[0mc\u001b[0m\u001b[1;33m)\u001b[0m\u001b[1;33m\u001b[0m\u001b[1;33m\u001b[0m\u001b[0m\n",
      "\u001b[1;31mZeroDivisionError\u001b[0m: division by zero"
     ]
    }
   ],
   "source": [
    "a=10\n",
    "b=0\n",
    "c= a/b\n",
    "print(c)"
   ]
  },
  {
   "cell_type": "code",
   "execution_count": 9,
   "id": "063fa303",
   "metadata": {},
   "outputs": [
    {
     "ename": "FileNotFoundError",
     "evalue": "[Errno 2] No such file or directory: 'example.txt'",
     "output_type": "error",
     "traceback": [
      "\u001b[1;31m---------------------------------------------------------------------------\u001b[0m",
      "\u001b[1;31mFileNotFoundError\u001b[0m                         Traceback (most recent call last)",
      "\u001b[1;32m~\\AppData\\Local\\Temp\\ipykernel_18096\\3610754015.py\u001b[0m in \u001b[0;36m<module>\u001b[1;34m\u001b[0m\n\u001b[0;32m      1\u001b[0m \u001b[1;31m#Opening a file\u001b[0m\u001b[1;33m\u001b[0m\u001b[1;33m\u001b[0m\u001b[1;33m\u001b[0m\u001b[0m\n\u001b[1;32m----> 2\u001b[1;33m \u001b[0mfp\u001b[0m \u001b[1;33m=\u001b[0m \u001b[0mopen\u001b[0m\u001b[1;33m(\u001b[0m\u001b[1;34m'example.txt'\u001b[0m\u001b[1;33m,\u001b[0m \u001b[1;34m'r'\u001b[0m\u001b[1;33m)\u001b[0m\u001b[1;33m\u001b[0m\u001b[1;33m\u001b[0m\u001b[0m\n\u001b[0m\u001b[0;32m      3\u001b[0m \u001b[0mprint\u001b[0m\u001b[1;33m(\u001b[0m\u001b[0mfp\u001b[0m\u001b[1;33m.\u001b[0m\u001b[0mread\u001b[0m\u001b[1;33m(\u001b[0m\u001b[1;33m)\u001b[0m\u001b[1;33m)\u001b[0m\u001b[1;33m\u001b[0m\u001b[1;33m\u001b[0m\u001b[0m\n\u001b[0;32m      4\u001b[0m \u001b[0mfp\u001b[0m\u001b[1;33m.\u001b[0m\u001b[0mclose\u001b[0m\u001b[1;33m(\u001b[0m\u001b[1;33m)\u001b[0m\u001b[1;33m\u001b[0m\u001b[1;33m\u001b[0m\u001b[0m\n",
      "\u001b[1;31mFileNotFoundError\u001b[0m: [Errno 2] No such file or directory: 'example.txt'"
     ]
    }
   ],
   "source": [
    "#Opening a file\n",
    "fp = open('example.txt', 'r')\n",
    "print(fp.read())\n",
    "fp.close()"
   ]
  },
  {
   "cell_type": "markdown",
   "id": "e755b154",
   "metadata": {},
   "source": [
    "### Built in exceptions"
   ]
  },
  {
   "cell_type": "code",
   "execution_count": 12,
   "id": "b6fc447e",
   "metadata": {},
   "outputs": [
    {
     "name": "stdout",
     "output_type": "stream",
     "text": [
      "['ArithmeticError', 'AssertionError', 'AttributeError', 'BaseException', 'BlockingIOError', 'BrokenPipeError', 'BufferError', 'BytesWarning', 'ChildProcessError', 'ConnectionAbortedError', 'ConnectionError', 'ConnectionRefusedError', 'ConnectionResetError', 'DeprecationWarning', 'EOFError', 'Ellipsis', 'EnvironmentError', 'Exception', 'False', 'FileExistsError', 'FileNotFoundError', 'FloatingPointError', 'FutureWarning', 'GeneratorExit', 'IOError', 'ImportError', 'ImportWarning', 'IndentationError', 'IndexError', 'InterruptedError', 'IsADirectoryError', 'KeyError', 'KeyboardInterrupt', 'LookupError', 'MemoryError', 'ModuleNotFoundError', 'NameError', 'None', 'NotADirectoryError', 'NotImplemented', 'NotImplementedError', 'OSError', 'OverflowError', 'PendingDeprecationWarning', 'PermissionError', 'ProcessLookupError', 'RecursionError', 'ReferenceError', 'ResourceWarning', 'RuntimeError', 'RuntimeWarning', 'StopAsyncIteration', 'StopIteration', 'SyntaxError', 'SyntaxWarning', 'SystemError', 'SystemExit', 'TabError', 'TimeoutError', 'True', 'TypeError', 'UnboundLocalError', 'UnicodeDecodeError', 'UnicodeEncodeError', 'UnicodeError', 'UnicodeTranslateError', 'UnicodeWarning', 'UserWarning', 'ValueError', 'Warning', 'WindowsError', 'ZeroDivisionError', '__IPYTHON__', '__build_class__', '__debug__', '__doc__', '__import__', '__loader__', '__name__', '__package__', '__spec__', 'abs', 'all', 'any', 'ascii', 'bin', 'bool', 'breakpoint', 'bytearray', 'bytes', 'callable', 'chr', 'classmethod', 'compile', 'complex', 'copyright', 'credits', 'delattr', 'dict', 'dir', 'display', 'divmod', 'enumerate', 'eval', 'exec', 'execfile', 'filter', 'float', 'format', 'frozenset', 'get_ipython', 'getattr', 'globals', 'hasattr', 'hash', 'help', 'hex', 'id', 'input', 'int', 'isinstance', 'issubclass', 'iter', 'len', 'license', 'list', 'locals', 'map', 'max', 'memoryview', 'min', 'next', 'object', 'oct', 'open', 'ord', 'pow', 'print', 'property', 'range', 'repr', 'reversed', 'round', 'runfile', 'set', 'setattr', 'slice', 'sorted', 'staticmethod', 'str', 'sum', 'super', 'tuple', 'type', 'vars', 'zip']\n"
     ]
    }
   ],
   "source": [
    "print(dir(locals()['__builtins__']))"
   ]
  },
  {
   "cell_type": "markdown",
   "id": "5958b863",
   "metadata": {},
   "source": [
    "### Exception handling"
   ]
  },
  {
   "cell_type": "markdown",
   "id": "2c364804",
   "metadata": {},
   "source": [
    "#### The try and except statement"
   ]
  },
  {
   "cell_type": "code",
   "execution_count": 1,
   "id": "a9f27ada",
   "metadata": {},
   "outputs": [
    {
     "name": "stdout",
     "output_type": "stream",
     "text": [
      "The division cannot performed by 0.\n"
     ]
    }
   ],
   "source": [
    "try:\n",
    "    a = 10\n",
    "    b = 0\n",
    "    c = a/b\n",
    "    print(\"The division of a by b is:\", c)\n",
    "except:\n",
    "    print(\"The division cannot performed by 0.\")"
   ]
  },
  {
   "cell_type": "code",
   "execution_count": 6,
   "id": "70941ede",
   "metadata": {},
   "outputs": [
    {
     "name": "stdout",
     "output_type": "stream",
     "text": [
      "Enter value of a:10\n",
      "Enter value of b:0\n",
      "The division cannot performed by 0\n"
     ]
    }
   ],
   "source": [
    "try:\n",
    "    a = int(input(\"Enter value of a:\"))\n",
    "    b = int(input(\"Enter value of b:\"))\n",
    "    c = a/b\n",
    "    print(\"The answer of a divide by b:\", c)\n",
    "except ValueError:\n",
    "    print(\"The given value is wrong\")\n",
    "except ZeroDivisionError:\n",
    "    print(\"The division cannot performed by 0\")"
   ]
  },
  {
   "cell_type": "code",
   "execution_count": 7,
   "id": "6911ec04",
   "metadata": {},
   "outputs": [
    {
     "name": "stdout",
     "output_type": "stream",
     "text": [
      "Enter value of a:10\n",
      "Enter value of b:zero\n",
      "The given value is wrong\n"
     ]
    }
   ],
   "source": [
    "try:\n",
    "    a = int(input(\"Enter value of a:\"))\n",
    "    b = int(input(\"Enter value of b:\"))\n",
    "    c = a/b\n",
    "    print(\"The answer of a divide by b:\", c)\n",
    "except ValueError:\n",
    "    print(\"The given value is wrong\")\n",
    "except ZeroDivisionError:\n",
    "    print(\"The division cannot performed by 0\")"
   ]
  },
  {
   "cell_type": "code",
   "execution_count": 8,
   "id": "ca34deff",
   "metadata": {},
   "outputs": [
    {
     "name": "stdout",
     "output_type": "stream",
     "text": [
      "Enter value of a:10\n",
      "Enter value of b:0\n",
      "Please give the proper value\n"
     ]
    }
   ],
   "source": [
    "try:\n",
    "    a = int(input(\"Enter value of a:\"))\n",
    "    b = int(input(\"Enter value of b:\"))\n",
    "    c = a/b\n",
    "    print(\"The answer of a divide by b:\", c)\n",
    "except (ValueError,ZeroDivisionError):\n",
    "    print(\"Please give the proper value\")"
   ]
  },
  {
   "cell_type": "markdown",
   "id": "1a1ddad7",
   "metadata": {},
   "source": [
    "### The try with else statement"
   ]
  },
  {
   "cell_type": "code",
   "execution_count": 10,
   "id": "49ea92a9",
   "metadata": {},
   "outputs": [
    {
     "name": "stdout",
     "output_type": "stream",
     "text": [
      "Enter value of a:10\n",
      "Enter value of b:5\n",
      "The answer of a divide by b: 2.0\n",
      "Finished without exception\n"
     ]
    }
   ],
   "source": [
    "try:\n",
    "    a = int(input(\"Enter value of a:\"))\n",
    "    b = int(input(\"Enter value of b:\"))\n",
    "    c = a / b\n",
    "    print(\"The answer of a divide by b:\",c)\n",
    "\n",
    "except ZeroDivisionError:\n",
    "    print(\"The division cannot performed by 0\")\n",
    "else:\n",
    "    print(\"Finished without exception\")"
   ]
  },
  {
   "cell_type": "code",
   "execution_count": 11,
   "id": "37c9e58f",
   "metadata": {},
   "outputs": [
    {
     "name": "stdout",
     "output_type": "stream",
     "text": [
      "Enter value of a:10\n",
      "Enter value of b:0\n",
      "The division cannot performed by 0\n"
     ]
    }
   ],
   "source": [
    "try:\n",
    "    a = int(input(\"Enter value of a:\"))\n",
    "    b = int(input(\"Enter value of b:\"))\n",
    "    c = a / b\n",
    "    print(\"The answer of a divide by b:\",c)\n",
    "\n",
    "except ZeroDivisionError:\n",
    "    print(\"The division cannot performed by 0\")\n",
    "else:\n",
    "    print(\"Finished without exception\")"
   ]
  },
  {
   "cell_type": "markdown",
   "id": "f4a97f6a",
   "metadata": {},
   "source": [
    "### The try with finally statement"
   ]
  },
  {
   "cell_type": "code",
   "execution_count": 5,
   "id": "8b5de052",
   "metadata": {},
   "outputs": [
    {
     "name": "stdout",
     "output_type": "stream",
     "text": [
      "Enter value of a:10\n",
      "Enter value of b:5\n",
      "The answer of a divide by b: 2.0\n",
      "Finally block is executed\n"
     ]
    }
   ],
   "source": [
    "try:\n",
    "    a = int(input(\"Enter value of a:\"))\n",
    "    b = int(input(\"Enter value of b:\"))\n",
    "    c = a / b\n",
    "    print(\"The answer of a divide by b:\", c)\n",
    "\n",
    "except ZeroDivisionError:\n",
    "    print(\"The division cannot performed by 0\")\n",
    "finally:\n",
    "    print(\"Finally block is executed\")"
   ]
  },
  {
   "cell_type": "code",
   "execution_count": 4,
   "id": "970beb98",
   "metadata": {},
   "outputs": [
    {
     "name": "stdout",
     "output_type": "stream",
     "text": [
      "Enter value of a:10\n",
      "Enter value of b:0\n",
      "The division cannot performed by 0\n",
      "Finally block is executed\n"
     ]
    }
   ],
   "source": [
    "try:\n",
    "    a = int(input(\"Enter value of a:\"))\n",
    "    b = int(input(\"Enter value of b:\"))\n",
    "    c = a / b\n",
    "    print(\"The answer of a divide by b:\", c)\n",
    "\n",
    "except ZeroDivisionError:\n",
    "    print(\"The division cannot performed by 0\")\n",
    "finally:\n",
    "    print(\"Finally block is executed\")"
   ]
  },
  {
   "cell_type": "markdown",
   "id": "28955fd1",
   "metadata": {},
   "source": [
    "### User defined exception"
   ]
  },
  {
   "cell_type": "markdown",
   "id": "68bf03b5",
   "metadata": {},
   "source": [
    "### Creating custom exception"
   ]
  },
  {
   "cell_type": "code",
   "execution_count": 11,
   "id": "e4881937",
   "metadata": {},
   "outputs": [
    {
     "name": "stdout",
     "output_type": "stream",
     "text": [
      "Enter any value: 10\n",
      "The given value is in correct range.\n"
     ]
    }
   ],
   "source": [
    "class Error(Exception):\n",
    "    \"\"\"Base class for other exceptions\"\"\"\n",
    "    pass\n",
    "\n",
    "class ValueTooSmallError(Error):\n",
    "    \"\"\"Raised when the given input is small\"\"\"\n",
    "    pass\n",
    "\n",
    "class ValueTooLargeError(Error):\n",
    "    \"\"\"Raised when the given input is large\"\"\"\n",
    "    pass\n",
    "\n",
    "while(True):\n",
    "    try:\n",
    "        num = int(input(\"Enter any value: \"))\n",
    "        if num < 10:\n",
    "            raise ValueTooSmallError\n",
    "        elif num > 50:\n",
    "            raise ValueTooLargeError\n",
    "        break\n",
    "    except ValueTooSmallError:\n",
    "            print(\"Value is below range..try again\")\n",
    "\n",
    "    except ValueTooLargeError:\n",
    "            print(\"value out of range...try again\")\n",
    "\n",
    "print(\"The given value is in correct range.\")"
   ]
  },
  {
   "cell_type": "code",
   "execution_count": 12,
   "id": "54c47954",
   "metadata": {},
   "outputs": [
    {
     "name": "stdout",
     "output_type": "stream",
     "text": [
      "Enter any value: 5\n",
      "Value is below range..try again\n",
      "Enter any value: 50\n",
      "The given value is in correct range.\n"
     ]
    }
   ],
   "source": [
    "class Error(Exception):\n",
    "    \"\"\"Base class for other exceptions\"\"\"\n",
    "    pass\n",
    "\n",
    "class ValueTooSmallError(Error):\n",
    "    \"\"\"Raised when the given input is small\"\"\"\n",
    "    pass\n",
    "\n",
    "class ValueTooLargeError(Error):\n",
    "    \"\"\"Raised when the given input is large\"\"\"\n",
    "    pass\n",
    "\n",
    "while(True):\n",
    "    try:\n",
    "        num = int(input(\"Enter any value: \"))\n",
    "        if num < 10:\n",
    "            raise ValueTooSmallError\n",
    "        elif num > 50:\n",
    "            raise ValueTooLargeError\n",
    "        break\n",
    "    except ValueTooSmallError:\n",
    "            print(\"Value is below range..try again\")\n",
    "\n",
    "    except ValueTooLargeError:\n",
    "            print(\"value out of range...try again\")\n",
    "\n",
    "print(\"The given value is in correct range.\")"
   ]
  },
  {
   "cell_type": "markdown",
   "id": "9bdec7df",
   "metadata": {},
   "source": [
    "### Customizing exception classes"
   ]
  },
  {
   "cell_type": "code",
   "execution_count": 16,
   "id": "3b9031a9",
   "metadata": {},
   "outputs": [
    {
     "name": "stdout",
     "output_type": "stream",
     "text": [
      "Enter the atomic number: 10\n"
     ]
    }
   ],
   "source": [
    "class NegativeNumberError(Exception):\n",
    "\n",
    "    def __init__(self, anum, ):\n",
    "        message = \"Atomic number should not be negative\"\n",
    "        self.anum = anum\n",
    "        self.message = message\n",
    "\n",
    "anum = int(input(\"Enter the atomic number: \"))\n",
    "if anum < 0:\n",
    "    raise NegativeNumberError(anum)"
   ]
  },
  {
   "cell_type": "code",
   "execution_count": 17,
   "id": "d0cbc0e7",
   "metadata": {},
   "outputs": [
    {
     "name": "stdout",
     "output_type": "stream",
     "text": [
      "Enter the atomic number: -10\n"
     ]
    },
    {
     "ename": "NegativeNumberError",
     "evalue": "-10",
     "output_type": "error",
     "traceback": [
      "\u001b[1;31m---------------------------------------------------------------------------\u001b[0m",
      "\u001b[1;31mNegativeNumberError\u001b[0m                       Traceback (most recent call last)",
      "\u001b[1;32m~\\AppData\\Local\\Temp\\ipykernel_7904\\1489343372.py\u001b[0m in \u001b[0;36m<module>\u001b[1;34m\u001b[0m\n\u001b[0;32m      8\u001b[0m \u001b[0manum\u001b[0m \u001b[1;33m=\u001b[0m \u001b[0mint\u001b[0m\u001b[1;33m(\u001b[0m\u001b[0minput\u001b[0m\u001b[1;33m(\u001b[0m\u001b[1;34m\"Enter the atomic number: \"\u001b[0m\u001b[1;33m)\u001b[0m\u001b[1;33m)\u001b[0m\u001b[1;33m\u001b[0m\u001b[1;33m\u001b[0m\u001b[0m\n\u001b[0;32m      9\u001b[0m \u001b[1;32mif\u001b[0m \u001b[0manum\u001b[0m \u001b[1;33m<\u001b[0m \u001b[1;36m0\u001b[0m\u001b[1;33m:\u001b[0m\u001b[1;33m\u001b[0m\u001b[1;33m\u001b[0m\u001b[0m\n\u001b[1;32m---> 10\u001b[1;33m     \u001b[1;32mraise\u001b[0m \u001b[0mNegativeNumberError\u001b[0m\u001b[1;33m(\u001b[0m\u001b[0manum\u001b[0m\u001b[1;33m)\u001b[0m\u001b[1;33m\u001b[0m\u001b[1;33m\u001b[0m\u001b[0m\n\u001b[0m",
      "\u001b[1;31mNegativeNumberError\u001b[0m: -10"
     ]
    }
   ],
   "source": [
    "class NegativeNumberError(Exception):\n",
    "\n",
    "    def __init__(self, anum, ):\n",
    "        message = \"Atomic number should not be negative\"\n",
    "        self.anum = anum\n",
    "        self.message = message\n",
    "\n",
    "anum = int(input(\"Enter the atomic number: \"))\n",
    "if anum < 0:\n",
    "    raise NegativeNumberError(anum)"
   ]
  },
  {
   "cell_type": "markdown",
   "id": "bf40cae0",
   "metadata": {},
   "source": [
    "### File Methods"
   ]
  },
  {
   "cell_type": "markdown",
   "id": "e7e5a491",
   "metadata": {},
   "source": [
    "#### close()"
   ]
  },
  {
   "cell_type": "code",
   "execution_count": 22,
   "id": "5527ad21",
   "metadata": {},
   "outputs": [
    {
     "name": "stdout",
     "output_type": "stream",
     "text": [
      "Pyhton for Chemistry    Welcome..\n"
     ]
    },
    {
     "ename": "ValueError",
     "evalue": "I/O operation on closed file.",
     "output_type": "error",
     "traceback": [
      "\u001b[1;31m---------------------------------------------------------------------------\u001b[0m",
      "\u001b[1;31mValueError\u001b[0m                                Traceback (most recent call last)",
      "\u001b[1;32m~\\AppData\\Local\\Temp\\ipykernel_7904\\1444145409.py\u001b[0m in \u001b[0;36m<module>\u001b[1;34m\u001b[0m\n\u001b[0;32m      4\u001b[0m \u001b[1;31m#closing a file\u001b[0m\u001b[1;33m\u001b[0m\u001b[1;33m\u001b[0m\u001b[1;33m\u001b[0m\u001b[0m\n\u001b[0;32m      5\u001b[0m \u001b[0mfp\u001b[0m\u001b[1;33m.\u001b[0m\u001b[0mclose\u001b[0m\u001b[1;33m(\u001b[0m\u001b[1;33m)\u001b[0m\u001b[1;33m\u001b[0m\u001b[1;33m\u001b[0m\u001b[0m\n\u001b[1;32m----> 6\u001b[1;33m \u001b[0mprint\u001b[0m\u001b[1;33m(\u001b[0m\u001b[0mfp\u001b[0m\u001b[1;33m.\u001b[0m\u001b[0mread\u001b[0m\u001b[1;33m(\u001b[0m\u001b[1;33m)\u001b[0m\u001b[1;33m)\u001b[0m\u001b[1;33m\u001b[0m\u001b[1;33m\u001b[0m\u001b[0m\n\u001b[0m",
      "\u001b[1;31mValueError\u001b[0m: I/O operation on closed file."
     ]
    }
   ],
   "source": [
    "#Opening a file\n",
    "fp = open('Chem.txt', 'r')\n",
    "print(fp.read())\n",
    "#closing a file\n",
    "fp.close()\n",
    "print(fp.read())"
   ]
  },
  {
   "cell_type": "markdown",
   "id": "54570204",
   "metadata": {},
   "source": [
    "#### fileno()"
   ]
  },
  {
   "cell_type": "code",
   "execution_count": 23,
   "id": "7526246e",
   "metadata": {},
   "outputs": [
    {
     "name": "stdout",
     "output_type": "stream",
     "text": [
      "4\n"
     ]
    }
   ],
   "source": [
    "f = open(\"Chem.txt\", \"r\")\n",
    "print(f.fileno())"
   ]
  },
  {
   "cell_type": "markdown",
   "id": "df935f61",
   "metadata": {},
   "source": [
    "#### flush()"
   ]
  },
  {
   "cell_type": "code",
   "execution_count": 27,
   "id": "08a34c33",
   "metadata": {},
   "outputs": [
    {
     "name": "stdout",
     "output_type": "stream",
     "text": [
      "Pyhton for Chemistry    Welcome..\n",
      "\n"
     ]
    }
   ],
   "source": [
    "# Open a file\n",
    "fp = open(\"Chem.txt\", \"r\")\n",
    "print(fp.read())\n",
    "\n",
    "#flushing the buffer\n",
    "fp.flush()\n",
    "\n",
    "#After flushing, read the file\n",
    "print(fp.read())\n",
    "\n",
    "# Close the file\n",
    "fp.close()"
   ]
  },
  {
   "cell_type": "markdown",
   "id": "f78463e9",
   "metadata": {},
   "source": [
    "#### isatty()"
   ]
  },
  {
   "cell_type": "code",
   "execution_count": 30,
   "id": "a4fbe72e",
   "metadata": {},
   "outputs": [
    {
     "name": "stdout",
     "output_type": "stream",
     "text": [
      "False\n"
     ]
    }
   ],
   "source": [
    "#opening a file\n",
    "fp = open(\"Chem.txt\", \"r\")\n",
    "\n",
    "#Chem.txt is connected with any device or not\n",
    "print(fp.isatty())"
   ]
  },
  {
   "cell_type": "markdown",
   "id": "2c14d2d2",
   "metadata": {},
   "source": [
    "#### read()"
   ]
  },
  {
   "cell_type": "code",
   "execution_count": 35,
   "id": "4a7d1ee2",
   "metadata": {},
   "outputs": [
    {
     "name": "stdout",
     "output_type": "stream",
     "text": [
      "Pyhton for Chemistry    Welcome..\n"
     ]
    }
   ],
   "source": [
    "#opening a file\n",
    "fp = open(\"Chem.txt\", \"r\")\n",
    "#reading the file\n",
    "print(fp.read())"
   ]
  },
  {
   "cell_type": "code",
   "execution_count": 34,
   "id": "bf3f46c1",
   "metadata": {},
   "outputs": [
    {
     "name": "stdout",
     "output_type": "stream",
     "text": [
      "Pyhton for\n"
     ]
    }
   ],
   "source": [
    "#opening a file\n",
    "fp = open(\"Chem.txt\", \"r\")\n",
    "#reading the file with size\n",
    "print(fp.read(10))"
   ]
  },
  {
   "cell_type": "markdown",
   "id": "abcd3939",
   "metadata": {},
   "source": [
    "### readable()"
   ]
  },
  {
   "cell_type": "code",
   "execution_count": 36,
   "id": "a8338846",
   "metadata": {},
   "outputs": [
    {
     "name": "stdout",
     "output_type": "stream",
     "text": [
      "True\n"
     ]
    }
   ],
   "source": [
    "#opening a file\n",
    "fp = open(\"Chem.txt\", \"r\")\n",
    "#reading the file\n",
    "print(fp.readable())"
   ]
  },
  {
   "cell_type": "code",
   "execution_count": 47,
   "id": "e8a6e868",
   "metadata": {},
   "outputs": [
    {
     "name": "stdout",
     "output_type": "stream",
     "text": [
      "False\n"
     ]
    }
   ],
   "source": [
    "#opening a file\n",
    "fp = open(\"Chem.txt\", \"w\")\n",
    "#reading the file\n",
    "print(fp.readable())\n",
    "fp.close()"
   ]
  },
  {
   "cell_type": "markdown",
   "id": "cf7502e9",
   "metadata": {},
   "source": [
    "#### readline()"
   ]
  },
  {
   "cell_type": "code",
   "execution_count": 54,
   "id": "63d0f31e",
   "metadata": {},
   "outputs": [
    {
     "name": "stdout",
     "output_type": "stream",
     "text": [
      "Welcome! Python for Chemistry\n",
      "\n"
     ]
    }
   ],
   "source": [
    "fp = open(\"Chem.txt\", \"r\")\n",
    "print(fp.readline())"
   ]
  },
  {
   "cell_type": "code",
   "execution_count": 55,
   "id": "03d7920f",
   "metadata": {},
   "outputs": [
    {
     "name": "stdout",
     "output_type": "stream",
     "text": [
      "Welcome!\n"
     ]
    }
   ],
   "source": [
    "fp = open(\"Chem.txt\", \"r\")\n",
    "print(fp.readline(8))"
   ]
  },
  {
   "cell_type": "markdown",
   "id": "3f127184",
   "metadata": {},
   "source": [
    "#### readlines()"
   ]
  },
  {
   "cell_type": "code",
   "execution_count": 56,
   "id": "3a03de36",
   "metadata": {},
   "outputs": [
    {
     "name": "stdout",
     "output_type": "stream",
     "text": [
      "['Welcome! Python for Chemistry\\n', 'Python is a high-level, general-purpose programming language.']\n"
     ]
    }
   ],
   "source": [
    "fp = open(\"Chem.txt\", \"r\")\n",
    "print(fp.readlines())"
   ]
  },
  {
   "cell_type": "code",
   "execution_count": 62,
   "id": "1c6d7ddf",
   "metadata": {},
   "outputs": [
    {
     "name": "stdout",
     "output_type": "stream",
     "text": [
      "['Welcome! Python for Chemistry\\n']\n"
     ]
    }
   ],
   "source": [
    "fp = open(\"Chem.txt\", \"r\")\n",
    "print(fp.readlines(25))"
   ]
  },
  {
   "cell_type": "code",
   "execution_count": 63,
   "id": "549ac22a",
   "metadata": {},
   "outputs": [
    {
     "name": "stdout",
     "output_type": "stream",
     "text": [
      "['Welcome! Python for Chemistry\\n', 'Python is a high-level, general-purpose programming language.']\n"
     ]
    }
   ],
   "source": [
    "fp = open(\"Chem.txt\", \"r\")\n",
    "print(fp.readlines(35))"
   ]
  },
  {
   "cell_type": "markdown",
   "id": "d5cab58a",
   "metadata": {},
   "source": [
    "#### seek()"
   ]
  },
  {
   "cell_type": "code",
   "execution_count": 3,
   "id": "9eafacca",
   "metadata": {},
   "outputs": [
    {
     "name": "stdout",
     "output_type": "stream",
     "text": [
      "5\n",
      "\n"
     ]
    }
   ],
   "source": [
    "fp = open(\"Chem.txt\", \"r\")\n",
    "print(fp.seek(5))\n",
    "print(fp.readline())"
   ]
  },
  {
   "cell_type": "markdown",
   "id": "68af7728",
   "metadata": {},
   "source": [
    "#### seekable()"
   ]
  },
  {
   "cell_type": "code",
   "execution_count": 1,
   "id": "ec2c2b30",
   "metadata": {},
   "outputs": [
    {
     "name": "stdout",
     "output_type": "stream",
     "text": [
      "True\n",
      "True\n",
      "True\n"
     ]
    }
   ],
   "source": [
    "#open a file in read mode\n",
    "fp = open(\"Chem.txt\", \"r\")\n",
    "print(fp.seekable())\n",
    "fp.close()\n",
    "\n",
    "#open a file in write mode\n",
    "fp = open(\"Chem.txt\", \"w\")\n",
    "print(fp.seekable())\n",
    "fp.close()\n",
    "\n",
    "#open a file in append mode\n",
    "fp = open(\"Chem.txt\", \"a\")\n",
    "print(fp.seekable())\n",
    "fp.close()"
   ]
  },
  {
   "cell_type": "markdown",
   "id": "9b70425e",
   "metadata": {},
   "source": [
    "### tell()"
   ]
  },
  {
   "cell_type": "code",
   "execution_count": 4,
   "id": "76ffaac3",
   "metadata": {},
   "outputs": [
    {
     "name": "stdout",
     "output_type": "stream",
     "text": [
      "0\n"
     ]
    }
   ],
   "source": [
    "f = open(\"Chem.txt\", \"r\")\n",
    "print(f.tell())"
   ]
  },
  {
   "cell_type": "code",
   "execution_count": 5,
   "id": "19a01169",
   "metadata": {},
   "outputs": [
    {
     "name": "stdout",
     "output_type": "stream",
     "text": [
      "\n",
      "0\n"
     ]
    }
   ],
   "source": [
    "fp = open(\"Chem.txt\", \"r\")\n",
    "print(fp.readline())\n",
    "print(fp.tell())"
   ]
  },
  {
   "cell_type": "markdown",
   "id": "8d60e299",
   "metadata": {},
   "source": [
    "#### truncate()"
   ]
  },
  {
   "cell_type": "code",
   "execution_count": 76,
   "id": "b28a0ac8",
   "metadata": {},
   "outputs": [
    {
     "name": "stdout",
     "output_type": "stream",
     "text": [
      "Welcome! Python for \n"
     ]
    }
   ],
   "source": [
    "f = open(\"Chem.txt\", \"a\")\n",
    "f.truncate(20)\n",
    "f.close()\n",
    "\n",
    "#open and read the file after the truncate:\n",
    "f = open(\"Chem.txt\", \"r\")\n",
    "print(f.read())"
   ]
  },
  {
   "cell_type": "code",
   "execution_count": 78,
   "id": "171b8fb4",
   "metadata": {},
   "outputs": [
    {
     "name": "stdout",
     "output_type": "stream",
     "text": [
      "Welcome! Python for Chemistry\n",
      "Python is a high-level, general-purpose programming language.\n"
     ]
    }
   ],
   "source": [
    "f = open(\"Chem.txt\", \"a\")\n",
    "f.truncate()\n",
    "f.close()\n",
    "\n",
    "#open and read the file after the truncate:\n",
    "f = open(\"Chem.txt\", \"r\")\n",
    "print(f.read())"
   ]
  },
  {
   "cell_type": "code",
   "execution_count": 79,
   "id": "67ef049b",
   "metadata": {},
   "outputs": [
    {
     "name": "stdout",
     "output_type": "stream",
     "text": [
      "Welcome! Python for \n"
     ]
    }
   ],
   "source": [
    "f = open(\"Chem.txt\", \"a\")\n",
    "f.truncate(20)\n",
    "f.close()\n",
    "\n",
    "#open and read the file after the truncate:\n",
    "f = open(\"Chem.txt\", \"r\")\n",
    "print(f.read())"
   ]
  },
  {
   "cell_type": "markdown",
   "id": "7aead5f3",
   "metadata": {},
   "source": [
    "#### writable()"
   ]
  },
  {
   "cell_type": "code",
   "execution_count": 82,
   "id": "83061451",
   "metadata": {},
   "outputs": [
    {
     "name": "stdout",
     "output_type": "stream",
     "text": [
      "True\n"
     ]
    }
   ],
   "source": [
    "#opening a file\n",
    "fp = open(\"Chem.txt\", \"w\")\n",
    "#reading the file\n",
    "print(fp.writable())\n",
    "fp.close()"
   ]
  },
  {
   "cell_type": "code",
   "execution_count": 83,
   "id": "41cebc8c",
   "metadata": {},
   "outputs": [
    {
     "name": "stdout",
     "output_type": "stream",
     "text": [
      "False\n"
     ]
    }
   ],
   "source": [
    "#opening a file\n",
    "fp = open(\"Chem.txt\", \"r\")\n",
    "#reading the file\n",
    "print(fp.writable())\n",
    "fp.close()"
   ]
  },
  {
   "cell_type": "markdown",
   "id": "6a0aa881",
   "metadata": {},
   "source": [
    "### write()"
   ]
  },
  {
   "cell_type": "code",
   "execution_count": 7,
   "id": "75fc0c5a",
   "metadata": {},
   "outputs": [],
   "source": [
    "fp = open(\"Chem.txt\", \"w\")\n",
    "fp.write(\"Python for Chemistry\")\n",
    "fp.write(\"\\nPython for Chemists does a good job for readers\")\n",
    "fp.write(\"\\nFrom the basic to advanced learning\")\n",
    "fp.close()"
   ]
  },
  {
   "cell_type": "code",
   "execution_count": 8,
   "id": "cd3b5da3",
   "metadata": {},
   "outputs": [],
   "source": [
    "fp = open(\"Chem.txt\", \"a\")\n",
    "fp.write(\"\\nThe main aim is to combine the Python programming with chemistry.\")\n",
    "fp.close()"
   ]
  },
  {
   "cell_type": "markdown",
   "id": "c6189855",
   "metadata": {},
   "source": [
    "#### writelines()"
   ]
  },
  {
   "cell_type": "code",
   "execution_count": 32,
   "id": "f6d9a17b",
   "metadata": {},
   "outputs": [
    {
     "name": "stdout",
     "output_type": "stream",
     "text": [
      "Python for Chemistry\n",
      "Python for Chemists does a good job for readers\n",
      "From the basic to advanced learning\n"
     ]
    }
   ],
   "source": [
    "fp = open(\"Chem.txt\", \"w\")\n",
    "fp.writelines([\"Python for Chemistry\",\n",
    "             \"\\nPython for Chemists does a good job for readers\",\n",
    "             \"\\nFrom the basic to advanced learning\"])\n",
    "fp.close()\n",
    "\n",
    "#Open the file and read the content\n",
    "fp = open(\"Chem.txt\", \"r\")\n",
    "print(fp.read())"
   ]
  },
  {
   "cell_type": "code",
   "execution_count": null,
   "id": "dbb39c17",
   "metadata": {},
   "outputs": [],
   "source": []
  }
 ],
 "metadata": {
  "kernelspec": {
   "display_name": "Python 3 (ipykernel)",
   "language": "python",
   "name": "python3"
  },
  "language_info": {
   "codemirror_mode": {
    "name": "ipython",
    "version": 3
   },
   "file_extension": ".py",
   "mimetype": "text/x-python",
   "name": "python",
   "nbconvert_exporter": "python",
   "pygments_lexer": "ipython3",
   "version": "3.7.13"
  }
 },
 "nbformat": 4,
 "nbformat_minor": 5
}
