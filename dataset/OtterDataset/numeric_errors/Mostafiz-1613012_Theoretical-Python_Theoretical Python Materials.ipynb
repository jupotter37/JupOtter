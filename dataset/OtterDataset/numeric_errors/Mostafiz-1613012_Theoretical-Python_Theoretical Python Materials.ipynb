{
 "cells": [
  {
   "cell_type": "markdown",
   "metadata": {},
   "source": [
    "# <center>  Chapter 1 - The Computer"
   ]
  },
  {
   "cell_type": "markdown",
   "metadata": {},
   "source": [
    "### 1.1 Hardware\n",
    "\n",
    "##### 1.1.1 Input Devices\n",
    "##### 1.1.2 Central Processing Unit\n",
    "##### 1.1.3 Output Devices"
   ]
  },
  {
   "cell_type": "markdown",
   "metadata": {},
   "source": [
    "### 1.2 Software \n",
    "\n",
    "##### 1.2.1 System Software \n",
    "##### 1.2.2 Application Software\n",
    "\n",
    "<pre>     ▶️ Python.exe ➡️ Anaconda.exe/VSCode.exe (Jupyter Notebook) ➡️ Learn Language"
   ]
  },
  {
   "cell_type": "code",
   "execution_count": 1,
   "metadata": {},
   "outputs": [],
   "source": [
    "import builtins;   # print(dir(builtins))\n",
    "import keyword;    # print(keyword.kwlist)\n",
    "import builtins;   # print(dir(builtins.int))"
   ]
  },
  {
   "cell_type": "markdown",
   "metadata": {},
   "source": [
    "['ArithmeticError', 'AssertionError', 'AttributeError', 'BaseException', 'BaseExceptionGroup', 'BlockingIOError', 'BrokenPipeError', 'BufferError', 'BytesWarning', 'ChildProcessError', 'ConnectionAbortedError', 'ConnectionError', 'ConnectionRefusedError', 'ConnectionResetError', 'DeprecationWarning', 'EOFError', 'Ellipsis', 'EncodingWarning', 'EnvironmentError', 'Exception', 'ExceptionGroup', 'False', 'FileExistsError', 'FileNotFoundError', 'FloatingPointError', 'FutureWarning', 'GeneratorExit', 'IOError', 'ImportError', 'ImportWarning', 'IndentationError', 'IndexError', 'InterruptedError', 'IsADirectoryError', 'KeyError', 'KeyboardInterrupt', 'LookupError', 'MemoryError', 'ModuleNotFoundError', 'NameError', 'None', 'NotADirectoryError', 'NotImplemented', 'NotImplementedError', 'OSError', 'OverflowError', 'PendingDeprecationWarning', 'PermissionError', 'ProcessLookupError', 'RecursionError', 'ReferenceError', 'ResourceWarning', 'RuntimeError', 'RuntimeWarning', 'StopAsyncIteration', 'StopIteration', 'SyntaxError', 'SyntaxWarning', 'SystemError', 'SystemExit', 'TabError', 'TimeoutError', 'True', 'TypeError', 'UnboundLocalError', 'UnicodeDecodeError', 'UnicodeEncodeError', 'UnicodeError', 'UnicodeTranslateError', 'UnicodeWarning', 'UserWarning', 'ValueError', 'Warning', 'ZeroDivisionError', '__IPYTHON__', '__build_class__', '__debug__', '__doc__', '__import__', '__loader__', '__name__', '__package__', '__spec__', 'abs', 'aiter', 'all', 'anext', 'any', 'ascii', 'bin', 'bool', 'breakpoint', 'bytearray', 'bytes', 'callable', 'chr', 'classmethod', 'compile', 'complex', 'copyright', 'credits', 'delattr', 'dict', 'dir', 'display', 'divmod', 'enumerate', 'eval', 'exec', 'execfile', 'filter', 'float', 'format', 'frozenset', 'get_ipython', 'getattr', 'globals', 'hasattr', 'hash', 'help', 'hex', 'id', 'input', 'int', 'isinstance', 'issubclass', 'iter', 'len', 'license', 'list', 'locals', 'map', 'max', 'memoryview', 'min', 'next', 'object', 'oct', 'open', 'ord', 'pow', 'print', 'property', 'range', 'repr', 'reversed', 'round', 'runfile', 'set', 'setattr', 'slice', 'sorted', 'staticmethod', 'str', 'sum', 'super', 'tuple', 'type', 'vars', 'zip']\n",
    "\n",
    "['False', 'None', 'True', 'and', 'as', 'assert', 'async', 'await', 'break', 'class', 'continue', 'def', 'del', 'elif', 'else', 'except', 'finally', 'for', 'from', 'global', 'if', 'import', 'in', 'is', 'lambda', 'nonlocal', 'not', 'or', 'pass', 'raise', 'return', 'try', 'while', 'with', 'yield']\n",
    "\n",
    "['__abs__', '__add__', '__and__', '__bool__', '__ceil__', '__class__', '__delattr__', '__dir__', '__divmod__', '__doc__', '__eq__', '__float__', '__floor__', '__floordiv__', '__format__', '__ge__', '__getattribute__', '__getnewargs__', '__getstate__', '__gt__', '__hash__', '__index__', '__init__', '__init_subclass__', '__int__', '__invert__', '__le__', '__lshift__', '__lt__', '__mod__', '__mul__', '__ne__', '__neg__', '__new__', '__or__', '__pos__', '__pow__', '__radd__', '__rand__', '__rdivmod__', '__reduce__', '__reduce_ex__', '__repr__', '__rfloordiv__', '__rlshift__', '__rmod__', '__rmul__', '__ror__', '__round__', '__rpow__', '__rrshift__', '__rshift__', '__rsub__', '__rtruediv__', '__rxor__', '__setattr__', '__sizeof__', '__str__', '__sub__', '__subclasshook__', '__truediv__', '__trunc__', '__xor__', 'as_integer_ratio', 'bit_count', 'bit_length', 'conjugate', 'denominator', 'from_bytes', 'imag', 'is_integer', 'numerator', 'real', 'to_bytes']\n"
   ]
  },
  {
   "cell_type": "markdown",
   "metadata": {},
   "source": [
    "# <center> Chapter 2 - The Expression"
   ]
  },
  {
   "cell_type": "markdown",
   "metadata": {},
   "source": [
    "## 2.1 Data ▶️ variable_name = data_value"
   ]
  },
  {
   "cell_type": "markdown",
   "metadata": {},
   "source": [
    "#### 2.1.1 data_value"
   ]
  },
  {
   "cell_type": "code",
   "execution_count": 3,
   "metadata": {},
   "outputs": [],
   "source": [
    "decimal_int_01       = 568.7\n",
    "binary_int_01        = 0b01110\n",
    "octal_int_01         = 0o56524\n",
    "hexadecimal_int_01   = 0x6AB\n",
    "\n",
    "decimal_float_01     = 3.1416\n",
    "# binary_float_01      = 0b01110.1010 # can't create a float of this data type\n",
    "# octal_float_01       = 0o56524.534  # can't create a float of this data type\n",
    "# hexadecimal_float_01 = 0o56524.534  # can't create a float of this data type\n",
    "\n",
    "complex_01  = 2+3j\n",
    "complex_02  = 1-4j\n",
    "string_01   = 'Read in the name of your lord.'\n",
    "string_02   = \"It's Day by day the demand of enegy is increasing rapidly that is cause of \\\n",
    "              huge burnig of fossil.But it's caused of global warming.\"\n",
    "boolean_01  = True\n",
    "boolean_02  = False\n",
    "\n",
    "tuple_01   = (568, 3.1416, 2+3j, 'Read', \"it's a book\", True, False)\n",
    "set_01     = {568, 3.1416, 2+3j, 'Read a book', \"it's a book\", True, False}\n",
    "dict_01    = {\"name_01\":568, \"name_02\":3.1416, \"name_03\":2+3j, \"name_04\":'Read a book',\n",
    "              \"name_05\":\"it's a book\", \"name_6\":True, \"name_07\":False}\n",
    "list_01    = [568, 3.1416, 2+3j, 'Read a book', \"it's a book\", True, False]"
   ]
  },
  {
   "cell_type": "code",
   "execution_count": 4,
   "metadata": {},
   "outputs": [],
   "source": [
    "tuple_cp   = (568,3.1416, 2+3j, 'Read', \"it's\", True, {568,3.1416, 2+3j, 'Read', \"it's\"}, \\\n",
    "              [568, 3.1416, 2+3j, 'Read', \"it's\"])\n",
    "set_cp     = {3.1416, 2+3j,'Read',\"it's\", True,\"[3.1416, 2+3j,'Read']\", (3.1416, 2+3j, 'Read', \"it's\")}\n",
    "dict_cp    = {\"name_01\":568,\"name_02\":3.1416,  \"name_03\":2+3j, \"name_04\":'Read a book', \\\n",
    "              \"name_05\":\"it's a book\", \"name_6\":True, \"name_07\":False}\n",
    "list_cp    = [3.1416, 2+3j, 'Read', \"it's\", True, [\"it's a book\", True, False],\\\n",
    "              (\"it's a book\", True, False), {3.1416, 2+3j, 'Read', \"it's\"}]"
   ]
  },
  {
   "cell_type": "markdown",
   "metadata": {},
   "source": [
    "#### 2.1.2 var_name[start:end:step] "
   ]
  },
  {
   "cell_type": "code",
   "execution_count": 7,
   "metadata": {},
   "outputs": [
    {
     "data": {
      "text/plain": [
       "568.7"
      ]
     },
     "execution_count": 7,
     "metadata": {},
     "output_type": "execute_result"
    }
   ],
   "source": [
    "decimal_int_01"
   ]
  },
  {
   "cell_type": "code",
   "execution_count": 8,
   "metadata": {},
   "outputs": [
    {
     "data": {
      "text/plain": [
       "3.1416"
      ]
     },
     "execution_count": 8,
     "metadata": {},
     "output_type": "execute_result"
    }
   ],
   "source": [
    "decimal_float_01"
   ]
  },
  {
   "cell_type": "code",
   "execution_count": 9,
   "metadata": {},
   "outputs": [
    {
     "data": {
      "text/plain": [
       "(2+3j)"
      ]
     },
     "execution_count": 9,
     "metadata": {},
     "output_type": "execute_result"
    }
   ],
   "source": [
    "complex_01"
   ]
  },
  {
   "cell_type": "code",
   "execution_count": 10,
   "metadata": {},
   "outputs": [
    {
     "data": {
      "text/plain": [
       "'Read'"
      ]
     },
     "execution_count": 10,
     "metadata": {},
     "output_type": "execute_result"
    }
   ],
   "source": [
    "string_01[:4]"
   ]
  },
  {
   "cell_type": "code",
   "execution_count": 11,
   "metadata": {},
   "outputs": [
    {
     "data": {
      "text/plain": [
       "'i'"
      ]
     },
     "execution_count": 11,
     "metadata": {},
     "output_type": "execute_result"
    }
   ],
   "source": [
    "string_01[5]"
   ]
  },
  {
   "cell_type": "code",
   "execution_count": 12,
   "metadata": {},
   "outputs": [
    {
     "name": "stdout",
     "output_type": "stream",
     "text": [
      "tuple_call_01 : 5\n",
      "tuple_slice_01: (1, 2, 3)\n",
      "tuple_slice_02: (7, 8, 9)\n",
      "tuple_slice_03: (1, 3, 5, 7, 9)\n",
      "tuple_slice_04: (9, 8, 7, 6, 5, 4, 3, 2, 1)\n"
     ]
    }
   ],
   "source": [
    "my_tuple       = (1, 2, 3, 4, 5, 6, 7, 8, 9) # Define a tuple variable\n",
    "tuple_call_01  = my_tuple[4]                 # calling an element from a tuple\n",
    "tuple_slice_01 = my_tuple[:3]                # Get the first three elements of the tuple\n",
    "tuple_slice_02 = my_tuple[-3:]               # Get the last three elements of the tuple\n",
    "tuple_slice_03 = my_tuple[::2]               # Get every other element of the tuple\n",
    "tuple_slice_04 = my_tuple[::-1]              # Reverse the tuple\n",
    "\n",
    "print(\"tuple_call_01 :\", tuple_call_01)   \n",
    "print(\"tuple_slice_01:\", tuple_slice_01)  \n",
    "print(\"tuple_slice_02:\", tuple_slice_02)  \n",
    "print(\"tuple_slice_03:\", tuple_slice_03)  \n",
    "print(\"tuple_slice_04:\", tuple_slice_04)  "
   ]
  },
  {
   "cell_type": "code",
   "execution_count": 13,
   "metadata": {},
   "outputs": [
    {
     "name": "stdout",
     "output_type": "stream",
     "text": [
      "set_slice_01: {3, 4, 5}\n",
      "set_slice_02: {8, 9, 6, 7}\n"
     ]
    }
   ],
   "source": [
    "my_set        = {1, 2, 3, 4, 5, 6, 7, 8, 9}  # Define a set variable\n",
    "# set_call_01 = my_set[4]                    # can't call an element from a tuple \n",
    "my_list       = list(my_set)                 # Convert the set to a list and slice the list\n",
    "sliced_list   = my_list[2:5]\n",
    "set_slice_01  = set(sliced_list)\n",
    "\n",
    "my_tuple      = tuple(my_set)                # Convert the set to a tuple and slice the tuple\n",
    "sliced_tuple  = my_tuple[5:]\n",
    "set_slice_02  = set(sliced_tuple)\n",
    "\n",
    "print(\"set_slice_01:\",set_slice_01)\n",
    "print(\"set_slice_02:\",set_slice_02)  "
   ]
  },
  {
   "cell_type": "code",
   "execution_count": 14,
   "metadata": {},
   "outputs": [
    {
     "name": "stdout",
     "output_type": "stream",
     "text": [
      "list_call_01 : 5\n",
      "list_slice_01: [1, 2, 3]\n",
      "list_slice_02: [7, 8, 9]\n",
      "list_slice_03: [1, 3, 5, 7, 9]\n",
      "list_slice_04: [9, 8, 7, 6, 5, 4, 3, 2, 1]\n",
      "list_slice_05: [4, 5, 6]\n",
      "list_slice_06: [2, 3, 4, 5, 6, 7, 8, 9]\n",
      "list_slice_07: [1, 2, 3, 4]\n",
      "list_slice_08: [7, 8]\n"
     ]
    }
   ],
   "source": [
    "my_list       = [1, 2, 3, 4, 5, 6, 7, 8, 9] # Again define a list variable\n",
    "list_call_01  = my_list[4]                  # calling an element from a tuple \n",
    "list_slice_01 = my_list[:3]                 # Get the first three elements of the list\n",
    "list_slice_02 = my_list[-3:]                # Get the last three elements of the list\n",
    "list_slice_03 = my_list[::2]                # Get every other element of the list\n",
    "list_slice_04 = my_list[::-1]               # Reverse the list\n",
    "\n",
    "my_list       = [1, 2, 3, 4, 5, 6, 7, 8, 9] # Again define a list variable\n",
    "list_slice_05 = my_list[3:6]                # Get the elements from index 3 to index 6 (exclusive)\n",
    "list_slice_06 = my_list[1:]                 # Get the elements from index 1 to the end of the list\n",
    "list_slice_07 = my_list[:4]                 # Get the elements up to index 4 (exclusive)\n",
    "list_slice_08 = my_list[-3:-1]              # Get the elements from index -3 to index -1 (exclusive)\n",
    "\n",
    "print(\"list_call_01 :\", list_call_01)\n",
    "print(\"list_slice_01:\", list_slice_01) \n",
    "print(\"list_slice_02:\", list_slice_02)  \n",
    "print(\"list_slice_03:\", list_slice_03)  \n",
    "print(\"list_slice_04:\", list_slice_04)  \n",
    "print(\"list_slice_05:\", list_slice_05) \n",
    "print(\"list_slice_06:\", list_slice_06) \n",
    "print(\"list_slice_07:\", list_slice_07)  \n",
    "print(\"list_slice_08:\", list_slice_08)  "
   ]
  },
  {
   "cell_type": "code",
   "execution_count": null,
   "metadata": {},
   "outputs": [],
   "source": []
  },
  {
   "cell_type": "markdown",
   "metadata": {},
   "source": [
    "#### 2.1.3 var_name.method_name(input_01, . ,input_0n)"
   ]
  },
  {
   "cell_type": "code",
   "execution_count": 1,
   "metadata": {},
   "outputs": [],
   "source": [
    "my_string_01     = \"hello, world\"\n",
    "my_string_02     = \"hello, world\"\n",
    "my_string_03     = \"HELLO\"\n",
    "my_string_04     = \"Hello, World\"\n",
    "my_string_05     = \"Hello, World\"\n",
    "my_string_06     = \"  hello, world  \"\n",
    "my_string_07     = \"   hello, world   \\n\"\n",
    "my_string_08     = \"   hello, world   \\n\"\n",
    "my_string_09     = \"hello, world\"\n",
    "my_string_10     = \"hello, world\"\n",
    "my_string_11     = \"hello, world\"\n",
    "\n",
    "name             = \"Alice\"\n",
    "age              = 30\n",
    "Formatted_string = (\"My name is {0} and I am {1} years old\".format(name, age))\n",
    "\n",
    "my_string_12     = \"hello, world\"\n",
    "my_string_13     = \"hello, world\"\n",
    "my_string_14     = \"hello, world\"\n",
    "my_string_15     = \"hello\"\n",
    "my_string_16     = \"hello, world\"\n",
    "my_string_17     = \"hello\\tworld\"\n",
    "my_string_18     = [\"hello\", \"world\"]\n",
    "my_string_19     = \"hello, world\"\n",
    "my_string_20     = \"hello, world, again\""
   ]
  },
  {
   "cell_type": "code",
   "execution_count": 2,
   "metadata": {},
   "outputs": [
    {
     "name": "stdout",
     "output_type": "stream",
     "text": [
      "Perform capitalize | my_string_01.capitalize()                 : Hello, world\n",
      "Perform upper      | my_string_02.upper()                      : HELLO, WORLD\n",
      "Perform isupper    | my_string_03.isupper()                    : True\n",
      "Perform lower      | my_string_04.lower()                      : hello, world\n",
      "Perform swapcase   | my_string_05.swapcase()                   : hELLO, wORLD\n",
      "Perform strip      | my_string_06.strip()                      : hello, world\n",
      "Perform lstrip     | my_string_07.lstrip()                     : hello, world   \n",
      "\n",
      "Perform rstip      | my_string_08.rstrip()                     :    hello, world\n",
      "Perform replace    | my_string_09.replace('world', 'Universe') : hello, Universe\n",
      "Perform split      | my_string_10.split(',')                   : ['hello', ' world']\n",
      "Perform index      | my_string_11.index('world')               : 7\n",
      "Perform format     | Format                                    : My name is Alice and I am 30 years old\n",
      "Perform startswith | my_string_12.startswith('hello')          : True\n",
      "Perform endswith   |  my_string_13.endswith('world')           : True\n",
      "Perform count      | my_string_14.count('l')                   : 3\n",
      "Perform center     | my_string_15.center(10, '-')              : --hello---\n",
      "Perform title      | my_string_16.title()                      : Hello, World\n",
      "Perform expand     | my_string_17.expandtabs()                 : hello   world\n",
      "Perform join       | ' '.join(my_string_18)                    : hello world\n",
      "Perform partition  | my_string_19.partition(',')               : ('hello', ',', ' world')\n",
      "Perform rpartition | my_string_20.rpartition(',')              : ('hello, world', ',', ' again')\n"
     ]
    }
   ],
   "source": [
    "print(\"Perform capitalize | my_string_01.capitalize()                 :\", my_string_01.capitalize())  \n",
    "print(\"Perform upper      | my_string_02.upper()                      :\", my_string_02.upper())\n",
    "print(\"Perform isupper    | my_string_03.isupper()                    :\", my_string_03.isupper())\n",
    "print(\"Perform lower      | my_string_04.lower()                      :\", my_string_04.lower())\n",
    "print(\"Perform swapcase   | my_string_05.swapcase()                   :\", my_string_05.swapcase())\n",
    "print(\"Perform strip      | my_string_06.strip()                      :\", my_string_06.strip())\n",
    "print(\"Perform lstrip     | my_string_07.lstrip()                     :\", my_string_07.lstrip())  \n",
    "print(\"Perform rstip      | my_string_08.rstrip()                     :\", my_string_08.rstrip())\n",
    "print(\"Perform replace    | my_string_09.replace('world', 'Universe') :\", my_string_09.replace(\"world\", \"Universe\")) \n",
    "print(\"Perform split      | my_string_10.split(',')                   :\", my_string_10.split(\",\"))\n",
    "print(\"Perform index      | my_string_11.index('world')               :\", my_string_11.index(\"world\"))\n",
    "print(\"Perform format     | Format                                    :\", Formatted_string)\n",
    "print(\"Perform startswith | my_string_12.startswith('hello')          :\", my_string_12.startswith(\"hello\"))\n",
    "print(\"Perform endswith   |  my_string_13.endswith('world')           :\", my_string_13.endswith(\"world\"))\n",
    "print(\"Perform count      | my_string_14.count('l')                   :\", my_string_14.count(\"l\"))\n",
    "print(\"Perform center     | my_string_15.center(10, '-')              :\", my_string_15.center(10, \"-\"))\n",
    "print(\"Perform title      | my_string_16.title()                      :\", my_string_16.title()) \n",
    "print(\"Perform expand     | my_string_17.expandtabs()                 :\", my_string_17.expandtabs())\n",
    "print(\"Perform join       | ' '.join(my_string_18)                    :\", \" \".join(my_string_18))\n",
    "print(\"Perform partition  | my_string_19.partition(',')               :\", my_string_19.partition(\",\"))\n",
    "print(\"Perform rpartition | my_string_20.rpartition(',')              :\", my_string_20.rpartition(\",\"))"
   ]
  },
  {
   "cell_type": "code",
   "execution_count": 3,
   "metadata": {},
   "outputs": [],
   "source": [
    "my_string_21 = \"hello\"\n",
    "my_string_22 = \"1234\"\n",
    "my_string_23 = \"   \"\n",
    "my_string_24 = \"my_var1\"\n",
    "identifier   = my_string_24.isidentifier()\n",
    "my_string_25 = \"1234\"\n",
    "my_string_26 = \"hello123\"\n",
    "my_string_27 = \"hello, world\"\n",
    "my_string_28 = \"hello, world, world\"\n",
    "my_string_29 = \"hello\"\n",
    "my_string_30 = \"hello\""
   ]
  },
  {
   "cell_type": "code",
   "execution_count": 4,
   "metadata": {},
   "outputs": [
    {
     "name": "stdout",
     "output_type": "stream",
     "text": [
      "Perform isalpha      my_string_21.isalpha()      : True\n",
      "Perform isdigit      my_string_22.isdigit()      : True\n",
      "Perform isspace      my_string_23.isspace()      : True\n",
      "Perform isidentifier identifier                  : True\n",
      "Perform isdecimal    my_string_25.isdecimal()    : True\n",
      "Perform isalnum      my_string_26.isalnum()      : True\n",
      "Perform find         my_string_27.find('world')  : 7\n",
      "Perform rfind        my_string_28.rfind('world') : 14\n",
      "Perform ljust        my_string_29.ljust(10, '-') : hello-----\n",
      "Perform rjust        my_string_30.rjust(10, '-') : -----hello\n"
     ]
    }
   ],
   "source": [
    "print(\"Perform isalpha      my_string_21.isalpha()      :\", my_string_21.isalpha())\n",
    "print(\"Perform isdigit      my_string_22.isdigit()      :\", my_string_22.isdigit())\n",
    "print(\"Perform isspace      my_string_23.isspace()      :\", my_string_23.isspace())\n",
    "print(\"Perform isidentifier identifier                  :\", identifier)\n",
    "print(\"Perform isdecimal    my_string_25.isdecimal()    :\", my_string_25.isdecimal())\n",
    "print(\"Perform isalnum      my_string_26.isalnum()      :\", my_string_26.isalnum())\n",
    "print(\"Perform find         my_string_27.find('world')  :\", my_string_27.find(\"world\"))\n",
    "print(\"Perform rfind        my_string_28.rfind('world') :\", my_string_28.rfind(\"world\"))\n",
    "print(\"Perform ljust        my_string_29.ljust(10, '-') :\", my_string_29.ljust(10, \"-\"))\n",
    "print(\"Perform rjust        my_string_30.rjust(10, '-') :\", my_string_30.rjust(10, \"-\"))"
   ]
  },
  {
   "cell_type": "code",
   "execution_count": 5,
   "metadata": {},
   "outputs": [
    {
     "name": "stdout",
     "output_type": "stream",
     "text": [
      "Perform count  my_tuple.count(2): 3\n",
      "Perform index  my_tuple.index(2): 1\n"
     ]
    }
   ],
   "source": [
    "my_tuple = (1, 2, 3, 2, 4, 2) # Define a tuple\n",
    "\n",
    "count = my_tuple.count(2)\n",
    "index = my_tuple.index(2)\n",
    "\n",
    "print(\"Perform count  my_tuple.count(2):\", count) \n",
    "print(\"Perform index  my_tuple.index(2):\", index)"
   ]
  },
  {
   "cell_type": "code",
   "execution_count": 6,
   "metadata": {},
   "outputs": [
    {
     "name": "stdout",
     "output_type": "stream",
     "text": [
      "01. After add                 : {'cherry', 'apple', 'orange', 'banana'}\n",
      "02. After remove              : {'cherry', 'apple', 'orange'}\n",
      "03. After union               : {'orange', 'cherry', 'apple', 'mango', 'banana'}\n",
      "04. After intersection        : {'cherry', 'apple'}\n",
      "05. After difference          : {'orange'}\n",
      "06. After clear               : set()\n",
      "07. After copy                : {'cherry', 'apple', 'banana'}\n",
      "08. After pop element         : cherry\n",
      "09. After pop                 : {'apple', 'banana'}\n",
      "10. After ssubset             : True\n",
      "11. After issuperset          : True\n",
      "12. After clear               : set()\n",
      "13. After isdisjoint          : True\n",
      "14. After symmetric_difference: {'apple', 'orange', 'cherry', 'mango'}\n",
      "15. After difference_update   : {'apple', 'orange', 'cherry', 'mango'}\n",
      "16. After intersection_update : {'cherry', 'apple'}\n"
     ]
    }
   ],
   "source": [
    "fruits = {'apple', 'banana', 'cherry'}\n",
    "add    = fruits.add('orange')\n",
    "print(\"01. After add                 :\", fruits)\n",
    "\n",
    "fruits.remove('banana')\n",
    "print(\"02. After remove              :\", fruits)\n",
    "\n",
    "more_fruits = {'orange', 'mango', 'banana'}\n",
    "all_fruits  = fruits.union(more_fruits)\n",
    "print(\"03. After union               :\", all_fruits)\n",
    "\n",
    "red_fruits    = {'apple', 'cherry', 'strawberry'}\n",
    "common_fruits = fruits.intersection(red_fruits)\n",
    "print(\"04. After intersection        :\", common_fruits)\n",
    "\n",
    "unique_fruits = fruits.difference(red_fruits)\n",
    "print(\"05. After difference          :\", unique_fruits)\n",
    "\n",
    "fruits        = {'apple', 'banana', 'cherry'}\n",
    "fruits.clear()\n",
    "print(\"06. After clear               :\", fruits)\n",
    "\n",
    "fruits        = {'apple', 'banana', 'cherry'}\n",
    "new_fruits = fruits.copy()\n",
    "print(\"07. After copy                :\", new_fruits)\n",
    "\n",
    "fruits        = {'apple', 'banana', 'cherry'}\n",
    "x = fruits.pop()\n",
    "print(\"08. After pop element         :\", x)\n",
    "print(\"09. After pop                 :\", fruits)\n",
    "\n",
    "fruits        = {'apple', 'banana', 'cherry'}\n",
    "my_fruits     = {'banana', 'cherry'}\n",
    "x             = my_fruits.issubset(fruits)\n",
    "print(\"10. After ssubset             :\", x)\n",
    "\n",
    "fruits        = {'apple', 'banana', 'cherry'}\n",
    "my_fruits     = {'banana', 'cherry'}\n",
    "x             = fruits.issuperset(my_fruits)\n",
    "print(\"11. After issuperset          :\", x)\n",
    "\n",
    "fruits        = {'apple', 'banana', 'cherry'}\n",
    "fruits.clear()\n",
    "print(\"12. After clear               :\", fruits)\n",
    "\n",
    "fruits        = {'apple', 'banana', 'cherry'}\n",
    "colors        = {'red', 'green', 'blue'}\n",
    "x             = fruits.isdisjoint(colors)\n",
    "print(\"13. After isdisjoint          :\", x)\n",
    "\n",
    "fruits        = {'apple', 'banana', 'cherry'}\n",
    "more_fruits   = {'orange', 'mango', 'banana'}\n",
    "unique_fruits = fruits.symmetric_difference(more_fruits)\n",
    "print(\"14. After symmetric_difference:\", unique_fruits)\n",
    "\n",
    "fruits        = {'apple', 'banana', 'cherry'}\n",
    "more_fruits   = {'orange', 'mango', 'banana'}\n",
    "fruits.symmetric_difference_update(more_fruits)\n",
    "print(\"15. After difference_update   :\", fruits)\n",
    "\n",
    "fruits        = {'apple', 'banana', 'cherry'}\n",
    "red_fruits    = {'apple', 'cherry', 'strawberry'}\n",
    "fruits.intersection_update(red_fruits)\n",
    "print(\"16. After intersection_update :\", fruits)"
   ]
  },
  {
   "cell_type": "code",
   "execution_count": 7,
   "metadata": {},
   "outputs": [
    {
     "name": "stdout",
     "output_type": "stream",
     "text": [
      "01. After append   : ['apple', 'banana', 'cherry', 'orange']\n",
      "02. After insert   : ['apple', 'kiwi', 'banana', 'cherry', 'orange']\n",
      "03. After extend   : ['apple', 'kiwi', 'banana', 'cherry', 'orange', 'mango', 'grapes']\n",
      "04. After remove   : ['apple', 'cherry', 'banana', 'orange']\n",
      "05. Popped item    : banana\n",
      "06. After pop      : ['apple', 'cherry', 'orange']\n",
      "07. After clear    : []\n",
      "08. Index of banana: 1\n",
      "09. Count of banana: 1\n",
      "10. After sort     : ['apple', 'banana', 'cherry', 'orange']\n",
      "11. After reverse  : ['orange', 'cherry', 'banana', 'apple']\n",
      "12. Copy           : ['orange', 'cherry', 'banana', 'apple']\n",
      "13. Length         : 4\n"
     ]
    }
   ],
   "source": [
    "fruits = [\"apple\", \"banana\", \"cherry\"]\n",
    "fruits.append(\"orange\")\n",
    "print(\"01. After append   :\", fruits) \n",
    "\n",
    "fruits.insert(1, \"kiwi\")\n",
    "print(\"02. After insert   :\", fruits) \n",
    "\n",
    "fruits.extend([\"mango\", \"grapes\"])\n",
    "print(\"03. After extend   :\", fruits) \n",
    "\n",
    "fruits = [\"apple\", \"banana\", \"cherry\", \"banana\", \"orange\"]\n",
    "fruits.remove(\"banana\")\n",
    "print(\"04. After remove   :\", fruits) \n",
    "\n",
    "\n",
    "popped_fruit = fruits.pop(2)\n",
    "print(\"05. Popped item    :\", popped_fruit) \n",
    "\n",
    "print(\"06. After pop      :\", fruits) \n",
    "\n",
    "\n",
    "fruits.clear()\n",
    "print(\"07. After clear    :\", fruits) \n",
    "\n",
    "\n",
    "fruits = [\"apple\", \"banana\", \"cherry\", \"orange\"]\n",
    "index  = fruits.index(\"banana\")\n",
    "print(\"08. Index of banana:\", index) \n",
    "\n",
    "\n",
    "count  = fruits.count(\"banana\")\n",
    "print(\"09. Count of banana:\", count) \n",
    "\n",
    "\n",
    "fruits.sort()\n",
    "print(\"10. After sort     :\", fruits)    \n",
    "\n",
    "\n",
    "fruits.reverse()\n",
    "print(\"11. After reverse  :\", fruits) \n",
    "\n",
    "\n",
    "fruits_copy = fruits.copy()\n",
    "print(\"12. Copy           :\", fruits_copy) \n",
    "\n",
    "\n",
    "length = len(fruits)\n",
    "print(\"13. Length         :\", length) \n"
   ]
  },
  {
   "cell_type": "markdown",
   "metadata": {},
   "source": [
    "### 2.2 Operation ▶️ variable_name = data sign data"
   ]
  },
  {
   "cell_type": "markdown",
   "metadata": {},
   "source": [
    "##### 2.2.1 Simple Operation"
   ]
  },
  {
   "cell_type": "code",
   "execution_count": 8,
   "metadata": {},
   "outputs": [
    {
     "name": "stdout",
     "output_type": "stream",
     "text": [
      "number_result_01: 8\n",
      "number_result_02: 2\n",
      "number_result_03: 15\n",
      "number_result_04: 1.6666666666666667\n",
      "number_result_05: 1\n",
      "number_result_06: 2\n",
      "number_result_07: 125\n"
     ]
    }
   ],
   "source": [
    "x = 5                         # 5\n",
    "y = 3                         # 3\n",
    "\n",
    "number_result_01 = x + y      # Addition\n",
    "number_result_02 = x - y      # Subtraction\n",
    "number_result_03 = x * y      # Multiplication\n",
    "number_result_04 = x / y      # Division\n",
    "number_result_05 = x // y     # Floor Division\n",
    "number_result_06 = x % y      # Modulo - remainder of division\n",
    "number_result_07 = x ** y     # exponentiation\n",
    "\n",
    "\n",
    "\n",
    "print(\"number_result_01:\", number_result_01)   # Output: 8\n",
    "print(\"number_result_02:\", number_result_02)   # Output: 2\n",
    "print(\"number_result_03:\", number_result_03)   # Output: 15\n",
    "print(\"number_result_04:\", number_result_04)   # Output: 1.6666666666666667\n",
    "print(\"number_result_05:\", number_result_05)   # Output: 1\n",
    "print(\"number_result_06:\", number_result_06)   # Output: 2\n",
    "print(\"number_result_07:\", number_result_07)   # Output: 125"
   ]
  },
  {
   "cell_type": "code",
   "execution_count": 9,
   "metadata": {},
   "outputs": [
    {
     "name": "stdout",
     "output_type": "stream",
     "text": [
      "01. : False\n",
      "02. : False\n",
      "03. : True\n",
      "04. : True\n",
      "05. : True\n",
      "06. : False\n"
     ]
    }
   ],
   "source": [
    "x = 5\n",
    "y = 3\n",
    "\n",
    "comparision_result_01 = x < y    # Less than\n",
    "comparision_result_02 = x == y   # Equal to \n",
    "comparision_result_03 = x > y    # Greater than\n",
    "comparision_result_04 = x != y   # Not equal to\n",
    "comparision_result_05 = x >= y   # Greater than or equal to\n",
    "comparision_result_06 = x <= y   # Less than or equal to\n",
    "\n",
    "print(\"01. :\", comparision_result_01)    # Equal to \n",
    "print(\"02. :\", comparision_result_02)    # Not equal to\n",
    "print(\"03. :\", comparision_result_03)    # Greater than\n",
    "print(\"04. :\", comparision_result_04)    # Less than\n",
    "print(\"05. :\", comparision_result_05)    # Greater than or equal to\n",
    "print(\"06. :\", comparision_result_06)    # Less than or equal to"
   ]
  },
  {
   "cell_type": "code",
   "execution_count": 10,
   "metadata": {},
   "outputs": [
    {
     "name": "stdout",
     "output_type": "stream",
     "text": [
      "01. : False\n",
      "02. : True\n",
      "03. : False\n"
     ]
    }
   ],
   "source": [
    "x = True                    # Change here to see wheather it matched with the theory or not: True or Flase\n",
    "y = False                   # Change here to see wheather it matched with the theory or not: True or Flase\n",
    "\n",
    "logical_result_01 = x and y\n",
    "logical_result_02 = x or  y\n",
    "logical_result_03 =   not x\n",
    "print(\"01. :\", logical_result_01)\n",
    "print(\"02. :\", logical_result_02)\n",
    "print(\"03. :\", logical_result_03)"
   ]
  },
  {
   "cell_type": "code",
   "execution_count": 11,
   "metadata": {},
   "outputs": [
    {
     "name": "stdout",
     "output_type": "stream",
     "text": [
      "01. : True\n",
      "02. : False\n",
      "03. : True\n",
      "04. : False\n",
      "05. : True\n",
      "06. : False\n"
     ]
    }
   ],
   "source": [
    "x = [\"apple\", \"banana\"]\n",
    "y = [\"apple\", \"banana\"]\n",
    "z = x\n",
    "\n",
    "logical_result_01 = x is z\n",
    "logical_result_02 = x is y\n",
    "logical_result_03 = x == y\n",
    "logical_result_04 = x is not z\n",
    "logical_result_05 = x is not y\n",
    "logical_result_06 = x != y\n",
    "\n",
    "print(\"01. :\", logical_result_01)     # returns True because z is the same object as x\n",
    "print(\"02. :\", logical_result_02)     # returns False because x is not the same object as y, even if they have the same content\n",
    "print(\"03. :\", logical_result_03)     # this comparison returns True because x is equal to y\n",
    "print(\"04. :\", logical_result_04)     # returns False because z is the same object as x\n",
    "print(\"05. :\", logical_result_05)     # returns True because x is not the same object as y, even if they have the same content\n",
    "print(\"06. :\", logical_result_06)     # this comparison returns False because x is equal to y"
   ]
  },
  {
   "cell_type": "code",
   "execution_count": 12,
   "metadata": {},
   "outputs": [
    {
     "name": "stdout",
     "output_type": "stream",
     "text": [
      "01. : True\n",
      "02. : False\n"
     ]
    }
   ],
   "source": [
    "y = [\"apple\", \"banana\"]\n",
    "x = \"banana\" \n",
    "\n",
    "logical_result_01 = x in y\n",
    "logical_result_02 = x not in y\n",
    "print(\"01. :\", logical_result_01)\n",
    "print(\"02. :\", logical_result_02)"
   ]
  },
  {
   "cell_type": "code",
   "execution_count": 13,
   "metadata": {},
   "outputs": [
    {
     "name": "stdout",
     "output_type": "stream",
     "text": [
      "01. Bitwise AND operator:\n",
      "1100 & 1010 = 1000\n",
      "02. Bitwise OR operator :\n",
      "1100 | 1010 = 1110\n",
      "03. Bitwise XOR operator:\n",
      "1100 ^ 1010 = 110\n",
      "04. Bitwise NOT operator:\n",
      "~1100 = -1101\n",
      "05. Bitwise left shift operator:\n",
      "1100 << 2 = 110000\n",
      "06. Bitwise right shift operator:\n",
      "1010 >> 1 = 101\n"
     ]
    }
   ],
   "source": [
    "x = 0b1100                 # Define two variables with binary values : Decimal, octal, hexadecimal\n",
    "y = 0b1010                 # Define two variables with binary values : Decimal, octal, hexadecimal\n",
    "\n",
    "bitwise_result_01 = x & y  # Bitwise AND operator\n",
    "bitwise_result_02 = x | y  # Bitwise OR operator\n",
    "bitwise_result_03 = x ^ y  # Bitwise XOR operator\n",
    "bitwise_result_04 = ~x     # Bitwise NOT operator (unary)\n",
    "bitwise_result_05 = x << 2 # Bitwise left shift operator\n",
    "bitwise_result_06 = y >> 1 # Bitwise right shift operator\n",
    "\n",
    "print(\"01. Bitwise AND operator:\")\n",
    "print(f\"{x:b} & {y:b} = {bitwise_result_01:b}\") # Output: 1000\n",
    "print(\"02. Bitwise OR operator :\")\n",
    "print(f\"{x:b} | {y:b} = {bitwise_result_02:b}\") # Output: 1110\n",
    "print(\"03. Bitwise XOR operator:\")\n",
    "print(f\"{x:b} ^ {y:b} = {bitwise_result_03:b}\") # Output: 0110\n",
    "print(\"04. Bitwise NOT operator:\")\n",
    "print(f\"~{x:b} = {bitwise_result_04:b}\")        # Output: -1101 (in two's complement form)\n",
    "print(\"05. Bitwise left shift operator:\")\n",
    "print(f\"{x:b} << 2 = {bitwise_result_05:b}\")    # Output: 110000\n",
    "print(\"06. Bitwise right shift operator:\")\n",
    "print(f\"{y:b} >> 1 = {bitwise_result_06:b}\")    # Output: 101"
   ]
  },
  {
   "cell_type": "code",
   "execution_count": null,
   "metadata": {},
   "outputs": [],
   "source": []
  },
  {
   "cell_type": "markdown",
   "metadata": {},
   "source": [
    "##### 2.2.2 Complex Operation"
   ]
  },
  {
   "cell_type": "markdown",
   "metadata": {},
   "source": [
    "<pre>\n",
    "<ol>\n",
    "<li type=\"1\">3 * 4 + 2 * 5\n",
    "Simplification: 12 + 10 = 22\n",
    "<li>5 * 2 - 3 / 3\n",
    "Simplification: 10 - 1 = 9\n",
    "<li>(4 + 3) * 2 - 5\n",
    "Simplification: 7 * 2 - 5 = 9\n",
    "<li>2 ** 3 + 5 % 2 * 4\n",
    "Simplification: 8 + 1 * 4 = 12\n",
    "<li>(6 - 3) * (8 / 4) + 2\n",
    "Simplification: 3 * 2 + 2 = 8\n",
    "<li>4 * (2 + 3) ** 2\n",
    "Simplification: 4 * 25 = 100\n",
    "<li>7 - 3 * 2 ** 2 + 5\n",
    "Simplification: 7 - 12 + 5 = 0\n",
    "<li>8 / 2 * 3 + 2\n",
    "Simplification: 12 + 2 = 14\n",
    "<li>(4 + 2) * (10 / 5 - 1)\n",
    "Simplification: 6 * (2 - 1) = 6\n",
    "<li>5 * (6 - 2) + 1\n",
    "Simplification: 5 * 4 + 1 = 21"
   ]
  },
  {
   "cell_type": "code",
   "execution_count": 31,
   "metadata": {},
   "outputs": [
    {
     "name": "stdout",
     "output_type": "stream",
     "text": [
      "01. : 22\n",
      "02. : 9.0\n",
      "03. : 9\n",
      "04. : 12\n",
      "05. : 8.0\n",
      "06. : 100\n",
      "07. : 0\n",
      "08. : 14.0\n",
      "09. : 6.0\n",
      "10. : 21\n"
     ]
    }
   ],
   "source": [
    "expression_01 = 3 * 4 + 2 * 5\n",
    "expression_02 = 5 * 2 - 3 / 3\n",
    "expression_03 = (4 + 3) * 2 - 5\n",
    "expression_04 = 2 ** 3 + 5 % 2 * 4\n",
    "expression_05 = (6 - 3) * (8 / 4) + 2\n",
    "expression_06 = 4 * (2 + 3) ** 2\n",
    "expression_07 = 7 - 3 * 2 ** 2 + 5\n",
    "expression_08 = 8 / 2 * 3 + 2\n",
    "expression_09 = (4 + 2) * (10 / 5 - 1)\n",
    "expression_10 = 5 * (6 - 2) + 1\n",
    "\n",
    "print(\"01. :\", expression_01)\n",
    "print(\"02. :\", expression_02)\n",
    "print(\"03. :\", expression_03)\n",
    "print(\"04. :\", expression_04)\n",
    "print(\"05. :\", expression_05)\n",
    "print(\"06. :\", expression_06)\n",
    "print(\"07. :\", expression_07)\n",
    "print(\"08. :\", expression_08)\n",
    "print(\"09. :\", expression_09)\n",
    "print(\"10. :\", expression_10)"
   ]
  },
  {
   "cell_type": "markdown",
   "metadata": {},
   "source": [
    "<pre>\n",
    "Let x = 3 and y = 2.\n",
    "<ol>\n",
    "<li type = \"1\">3x + 2y - x + y simplifies to 8 + 4, which is 12.\n",
    "<li>5x + 2y - 3x / 3 simplifies to 15 + 4 - 3, which is 16.\n",
    "<li>(4x + 3y) * 2 - 5x simplifies to 18*2 - 15, which is 21.\n",
    "<li>2x ** 3 + 5y % 2 * 4 simplifies to   54 + 0 ,  which is 54.\n",
    "<li>x + y - x * y simplifies to 3 + 2 - 6, which is -1.\n",
    "<li>(x ** 2 + y ** 2) / (x + y) simplifies to (9 + 4) / 5, which is 2.6.\n",
    "<li>(x + y) ** 2 - (x - y) ** 2 simplifies to 25 - 1, which is 24.\n",
    "<li>(x + y) * (x - y) + x ** 2 - y ** 2 simplifies to 9 - 4 + 9 - 4, which is 10.\n",
    "<li>x ** 3 - y ** 3 + (x - y) ** 3 simplifies to 27 - 8 + 1, which is 20.\n",
    "<li>(x ** 2 + y ** 2) / (x ** 2 - y ** 2) simplifies to (9 + 4) / 5, which is 2.6."
   ]
  },
  {
   "cell_type": "code",
   "execution_count": 32,
   "metadata": {},
   "outputs": [
    {
     "name": "stdout",
     "output_type": "stream",
     "text": [
      "01. : 12\n",
      "02. : 16.0\n",
      "03. : 21\n",
      "04. : 54\n",
      "05. : -1\n",
      "06. : 2.6\n",
      "07. : 24\n",
      "08. : 10\n",
      "09. : 20\n",
      "00. : 2.6\n"
     ]
    }
   ],
   "source": [
    "x = 3 \n",
    "y = 2\n",
    "\n",
    "expresssion_01 = 3*x + 2*y - x + y \n",
    "expresssion_02 = 5*x + 2*y - 3*x / 3 \n",
    "expresssion_03 = (4*x + 3*y) * 2 - 5*x \n",
    "expresssion_04 = 2*x**3 + 5*y % 2 * 4 \n",
    "expresssion_05 = x + y - x * y \n",
    "expresssion_06 = (x ** 2 + y ** 2) / (x + y) \n",
    "expresssion_07 = (x + y) ** 2 - (x - y) ** 2\n",
    "expresssion_08 = (x + y) * (x - y) + x ** 2 - y ** 2 \n",
    "expresssion_09 = x ** 3 - y ** 3 + (x - y) ** 3 \n",
    "expresssion_10 = (x ** 2 + y ** 2) / (x ** 2 - y ** 2)\n",
    "\n",
    "\n",
    "\n",
    "print(\"01. :\", expresssion_01)\n",
    "print(\"02. :\", expresssion_02)\n",
    "print(\"03. :\", expresssion_03)\n",
    "print(\"04. :\", expresssion_04)\n",
    "print(\"05. :\", expresssion_05)\n",
    "print(\"06. :\", expresssion_06)\n",
    "print(\"07. :\", expresssion_07)\n",
    "print(\"08. :\", expresssion_08)\n",
    "print(\"09. :\", expresssion_09)\n",
    "print(\"00. :\", expresssion_10)"
   ]
  },
  {
   "cell_type": "markdown",
   "metadata": {},
   "source": [
    "# <center> Chapter 3 - The Logic: Condition and Loop"
   ]
  },
  {
   "cell_type": "markdown",
   "metadata": {},
   "source": [
    "### 3.1 The Conditional Control Statement"
   ]
  },
  {
   "cell_type": "markdown",
   "metadata": {},
   "source": [
    "##### 3.1.1 if-elif-else Cond Cont Stat Syntax"
   ]
  },
  {
   "cell_type": "markdown",
   "metadata": {},
   "source": [
    "<pre>\n",
    "if expression_01:       # if test\n",
    "    statements_01       # Associated block\n",
    "    statements_02       # Associated block\n",
    "    statements_0n       # Associated block\n",
    "elif expression_02:\n",
    "    statements_03       # Associated block\n",
    "    statements_04       # Associated block\n",
    "    statements_0n       # Associated block\n",
    "elif expression_02:\n",
    "    statements_03       # Associated block\n",
    "    statements_04       # Associated block\n",
    "    statements_0n       # Associated block\n",
    "elif expression_02:\n",
    "    statements_03       # Associated block\n",
    "    statements_04       # Associated block\n",
    "    statements_0n       # Associated block\n",
    "else:                   # Optional else\n",
    "    statements_03       # Associated block\n",
    "    statements_04       # Associated block\n",
    "    statements_0n       # Associated block"
   ]
  },
  {
   "cell_type": "code",
   "execution_count": 33,
   "metadata": {},
   "outputs": [
    {
     "name": "stdout",
     "output_type": "stream",
     "text": [
      "b is greater than a\n"
     ]
    }
   ],
   "source": [
    "a = 200\n",
    "b = 2000\n",
    "if b > a:\n",
    "    print(\"b is greater than a\")\n",
    "elif a == b:\n",
    "    print(\"a and b are equal\")\n",
    "elif a == b:\n",
    "    print(\"a and b are equal equal\")\n",
    "elif a == b:\n",
    "    print(\"a and b are equal equal equal\")\n",
    "else:\n",
    "    print(\"a is greater than b\")"
   ]
  },
  {
   "cell_type": "markdown",
   "metadata": {},
   "source": [
    "##### 3.1.2 try-except-else-finally Cond Cont Stat Synt"
   ]
  },
  {
   "cell_type": "markdown",
   "metadata": {},
   "source": [
    "<pre>\n",
    "try:\n",
    "    statements # Run this main action first\n",
    "except name1:\n",
    "    statements # Run if name1 is raised in try block\n",
    "except (name2, name3):\n",
    "    statements # Run if any of these exceptions occur\n",
    "except name4 as var:\n",
    "    statements # Run if name4 is raised, assign to var\n",
    "except:\n",
    "    statements # Run for all other exceptions raised\n",
    "else:\n",
    "    statements # Run if no exception during try block\n",
    "finally: \n",
    "    statements # Always perform this block on exit."
   ]
  },
  {
   "cell_type": "code",
   "execution_count": 4,
   "metadata": {},
   "outputs": [
    {
     "name": "stdout",
     "output_type": "stream",
     "text": [
      "Error\n",
      "Finally Run\n"
     ]
    }
   ],
   "source": [
    "try:\n",
    "    result = 10 / 0\n",
    "except ZeroDivisionError:\n",
    "    print(\"Error\")\n",
    "except (IOError,OSError):\n",
    "    print(\"IO/OSError\")\n",
    "except Exception as e:\n",
    "    print(\"error:\", e)\n",
    "except:\n",
    "    print(\"An error\")\n",
    "else:\n",
    "    print(\"No Error\")\n",
    "finally:\n",
    "    print(\"Finally Run\")"
   ]
  },
  {
   "cell_type": "code",
   "execution_count": null,
   "metadata": {},
   "outputs": [],
   "source": []
  },
  {
   "cell_type": "markdown",
   "metadata": {},
   "source": [
    "##### 3.1.3 with-as Context Manager Stat Syntax"
   ]
  },
  {
   "cell_type": "markdown",
   "metadata": {},
   "source": [
    "<pre>\n",
    "with context_manager_object as variable:\n",
    "    statements  # Run The block\n",
    "    statements  # Run The block"
   ]
  },
  {
   "cell_type": "code",
   "execution_count": 28,
   "metadata": {},
   "outputs": [
    {
     "name": "stdout",
     "output_type": "stream",
     "text": [
      "mostafiz\n",
      "This is a new line added to the file.\n"
     ]
    }
   ],
   "source": [
    "with open('Example Files/Text/file_01.txt', 'r') as file:\n",
    "    content = file.read()\n",
    "    print(content)"
   ]
  },
  {
   "cell_type": "code",
   "execution_count": 33,
   "metadata": {},
   "outputs": [],
   "source": [
    "with open('Example Files/Image/image_file.png', 'rb') as cont_img_file:\n",
    "    cont_img_vari = cont_img_file.readlines()\n",
    "    # print(cont_img_vari)"
   ]
  },
  {
   "cell_type": "code",
   "execution_count": null,
   "metadata": {},
   "outputs": [],
   "source": []
  },
  {
   "cell_type": "markdown",
   "metadata": {},
   "source": [
    "### 3.2 The Loop Control Statement"
   ]
  },
  {
   "cell_type": "markdown",
   "metadata": {},
   "source": [
    "##### 3.2.1 for-else Loop Control Statement Syntax"
   ]
  },
  {
   "cell_type": "markdown",
   "metadata": {},
   "source": [
    "<pre>\n",
    "for target_vars in data: # Assign data items ⟹ target_var\n",
    "    statements           # Repeated loop body: use target\n",
    "else:                    # Optional else part\n",
    "    statements           # Run if we didn't hit a 'break'"
   ]
  },
  {
   "cell_type": "code",
   "execution_count": null,
   "metadata": {},
   "outputs": [],
   "source": []
  },
  {
   "cell_type": "code",
   "execution_count": 43,
   "metadata": {},
   "outputs": [
    {
     "name": "stdout",
     "output_type": "stream",
     "text": [
      "80\n",
      "100\n"
     ]
    }
   ],
   "source": [
    "fruits = [80,100, 90, 100]\n",
    "\n",
    "for x in fruits:\n",
    "    print(x)"
   ]
  },
  {
   "cell_type": "code",
   "execution_count": 51,
   "metadata": {},
   "outputs": [
    {
     "name": "stdout",
     "output_type": "stream",
     "text": [
      "apple\n",
      "banana\n",
      "orange\n"
     ]
    }
   ],
   "source": [
    "my_list = ['apple', 'banana', 'orange']\n",
    "for index, fruit in enumerate(my_list, start=1):\n",
    "    print(fruit)"
   ]
  },
  {
   "cell_type": "code",
   "execution_count": null,
   "metadata": {},
   "outputs": [],
   "source": []
  },
  {
   "cell_type": "code",
   "execution_count": null,
   "metadata": {},
   "outputs": [],
   "source": []
  },
  {
   "cell_type": "code",
   "execution_count": 3,
   "metadata": {},
   "outputs": [
    {
     "name": "stdout",
     "output_type": "stream",
     "text": [
      "1 11 21\n",
      "2 12 22\n"
     ]
    }
   ],
   "source": [
    "for i, k, l in zip(range(1,3), range(11,13), range(21,23)):\n",
    "    print(i, k, l)"
   ]
  },
  {
   "cell_type": "code",
   "execution_count": 42,
   "metadata": {},
   "outputs": [],
   "source": [
    "# Generator Comprehension Syntax : (expression for item in iterable if condition)                        \n",
    "# Set Comprehension Syntax       : {expression for item in iterable if condition}                        \n",
    "# List Comprehension Syntax      : [expression for item in iterable if condition]                        \n",
    "# Dictionary Comprehension Syntax: {key_expr:val_expr for item in iterable if cond}  \n",
    "\n",
    "square_generator = (x**2 for x in range(5))    # Output: generator object <genexpr>   \n",
    "unique_chars     = {char for char in 'hello'}  # Output: {'e', 'o', 'h', 'l'}\n",
    "squares          = [x**2 for x in range(5)]    # Output: [0, 1, 4, 9, 16]\n",
    "square_dict      = {x: x**2 for x in range(5)} # Output: {0:0, 1:1, 2:4, 3:9, 4:16}"
   ]
  },
  {
   "cell_type": "code",
   "execution_count": 60,
   "metadata": {},
   "outputs": [],
   "source": []
  },
  {
   "cell_type": "code",
   "execution_count": null,
   "metadata": {},
   "outputs": [],
   "source": []
  },
  {
   "cell_type": "code",
   "execution_count": null,
   "metadata": {},
   "outputs": [],
   "source": []
  },
  {
   "cell_type": "markdown",
   "metadata": {},
   "source": [
    "##### 3.2.2 while-else Loop Control Statement Syntax"
   ]
  },
  {
   "cell_type": "markdown",
   "metadata": {},
   "source": [
    "<pre>\n",
    "# Initialize the variable with some initial Data value \n",
    "while expression: # While expression evaluates to True\n",
    "    statements    # Execute statements in the loop body\n",
    "    statements    # Execute statements in the loop body\n",
    "else:             # Optional else block\n",
    "    statements    # Run if didn't exit loop with break"
   ]
  },
  {
   "cell_type": "code",
   "execution_count": 45,
   "metadata": {},
   "outputs": [
    {
     "name": "stdout",
     "output_type": "stream",
     "text": [
      "1 2 3 4 5 no break\n"
     ]
    }
   ],
   "source": [
    "i = 1\n",
    "while i < 6:\n",
    "    print(i, end=' ')\n",
    "    i = i + 1\n",
    "else: \n",
    "    print(\"no break\")"
   ]
  },
  {
   "cell_type": "markdown",
   "metadata": {},
   "source": [
    "# <center> Chapter 4 - The Process: Function and Concurrency"
   ]
  },
  {
   "cell_type": "markdown",
   "metadata": {},
   "source": [
    "### 4.1 Function"
   ]
  },
  {
   "cell_type": "markdown",
   "metadata": {},
   "source": [
    "##### 4.1.1 Builtin Function (Created)"
   ]
  },
  {
   "cell_type": "markdown",
   "metadata": {},
   "source": [
    "'abs', 'aiter',  'all',  'anext', 'any', 'ascii', 'bin', 'bool', 'breakpoint',  'bytearray', 'bytes', 'callable',  'chr', 'classmethod', 'compile', 'complex', 'copyright',  'credits', 'delattr','dict', 'dir', 'display', 'divmod', 'enumerate', 'eval','exec', 'execfile', 'filter', 'float',  'format', 'frozenset','get_ipython','getattr','globals',  'hasattr', 'hash', 'help',  'hex', 'id', 'input', 'int', 'isinstance',  'issubclass',  'iter',  'len', 'license',  'list', 'locals', 'map','max','memoryview','min','next',  'object', 'oct', 'open','ord', 'pow','print','property',  'range', 'repr', 'reversed',  'round', 'runfile', 'set',  'setattr', 'slice', 'sorted','staticmethod','str','sum',  'super', 'tuple', 'type', 'vars', 'zip'."
   ]
  },
  {
   "cell_type": "code",
   "execution_count": 36,
   "metadata": {},
   "outputs": [
    {
     "name": "stdout",
     "output_type": "stream",
     "text": [
      "Sorted list: [1, 3, 4]\n",
      "0\n",
      "1\n",
      "2\n",
      "3\n",
      "4\n",
      "Hello, Hello \n",
      "Squared values: [1, 4, 9]\n",
      "Absolute value of -5: 5\n",
      "Memory address of x: 100520906865864\n"
     ]
    }
   ],
   "source": [
    "# Sorting a list\n",
    "var1 = sorted([3, 4, 1])\n",
    "print(\"Sorted list:\", var1)\n",
    "\n",
    "# Looping through a range\n",
    "for i in range(5):\n",
    "    print(i)\n",
    "\n",
    "# Getting user input\n",
    "name = input(\"Type your name: \")\n",
    "print(\"Hello,\", name)\n",
    "\n",
    "# Using map to apply a function to each item in a list\n",
    "l = [1, 2, 3]\n",
    "v = list(map(lambda x: x**2, l))\n",
    "print(\"Squared values:\", v)\n",
    "\n",
    "# Printing the absolute value of a number\n",
    "print(\"Absolute value of -5:\", abs(-5))\n",
    "\n",
    "# Printing the memory address of a variable\n",
    "x = 42\n",
    "print(\"Memory address of x:\", id(x))\n"
   ]
  },
  {
   "cell_type": "markdown",
   "metadata": {},
   "source": [
    "##### 4.1.2 Unline User Defined Function"
   ]
  },
  {
   "cell_type": "markdown",
   "metadata": {},
   "source": [
    "<pre>\n",
    "fun_name = lambda arg1, ..., argn: expression    # Create\n",
    "var_name = fun_name(arg1, ..., argn)             # Call"
   ]
  },
  {
   "cell_type": "code",
   "execution_count": null,
   "metadata": {},
   "outputs": [],
   "source": [
    "x = lambda a,b,c:a*b**c \n",
    "var_01 = x(1,2,4)"
   ]
  },
  {
   "cell_type": "markdown",
   "metadata": {},
   "source": [
    "##### 4.1.3 Multiline User Defined Function"
   ]
  },
  {
   "cell_type": "markdown",
   "metadata": {},
   "source": [
    "<pre>\n",
    "def fun_name(arg1, arg2, *args, **kargws) # Fun def               \n",
    "    .................................     # Fun Body  - Processing\n",
    "    .................................     # Fun Body  - return, yield\n",
    "fun_name(val1, val2, val3, ..., valn, var1 = valx, ..., varn = varz) "
   ]
  },
  {
   "cell_type": "code",
   "execution_count": null,
   "metadata": {},
   "outputs": [],
   "source": [
    "def my_add(a,b):\n",
    "    c  = a+b\n",
    "    return a,b,c\n",
    "[x,_,y] = my_add(2,3)"
   ]
  },
  {
   "cell_type": "code",
   "execution_count": 3,
   "metadata": {},
   "outputs": [
    {
     "name": "stdout",
     "output_type": "stream",
     "text": [
      "a (normal  arg): 1\n",
      "b (normal  arg): 2\n",
      "c (default arg): 3\n",
      "v (dict    arg): {'x': 6, 'y': 7}\n"
     ]
    }
   ],
   "source": [
    "def fun10(a, b, c=0, *u, **v):\n",
    "    print(\"a (normal  arg):\",a) \n",
    "    print(\"b (normal  arg):\",b)\n",
    "    print(\"c (default arg):\",c)\n",
    "    print(\"v (dict    arg):\",v)\n",
    "fun10(1, 2, 3, 4, 5, x=6, y=7) "
   ]
  },
  {
   "cell_type": "code",
   "execution_count": 4,
   "metadata": {},
   "outputs": [
    {
     "name": "stdout",
     "output_type": "stream",
     "text": [
      "f1: x = 1\n",
      "f2: x = 2\n",
      "O1: x = 0\n",
      "I1: y = 3\n"
     ]
    }
   ],
   "source": [
    "x = 0           # Global \n",
    "def f1():       # Enclosed\n",
    "    x = 1 \n",
    "    print(\"f1: x =\", x)\n",
    "    def f2():   # Local\n",
    "        global y; y = 3\n",
    "        x = 2\n",
    "        print(\"f2: x =\",x)\n",
    "    f2()\n",
    "f1()\n",
    "print(\"O1: x =\", x)\n",
    "print(\"I1: y =\", y)"
   ]
  },
  {
   "cell_type": "code",
   "execution_count": 11,
   "metadata": {},
   "outputs": [
    {
     "name": "stdout",
     "output_type": "stream",
     "text": [
      "01. global Variable: 300\n",
      "02. Local Variable : 200\n",
      "03. global Variable: 300\n",
      "04. global Variable: 10\n"
     ]
    }
   ],
   "source": [
    "x = 300\n",
    "print(\"01. global Variable:\", x)\n",
    "\n",
    "def myfunc():\n",
    "    x = 200\n",
    "    global y \n",
    "    y = 10\n",
    "    print(\"02. Local Variable :\", x)\n",
    "\n",
    "myfunc()\n",
    "print(\"03. global Variable:\", x)\n",
    "print(\"04. global Variable:\", y)"
   ]
  },
  {
   "cell_type": "code",
   "execution_count": 10,
   "metadata": {},
   "outputs": [
    {
     "name": "stdout",
     "output_type": "stream",
     "text": [
      "1\n",
      "8\n",
      "27\n",
      "64\n"
     ]
    }
   ],
   "source": [
    "def cubicvar():  \n",
    "    i = 1;  \n",
    "    yield i*i*i                  \n",
    "    i = i+ 1  \n",
    "    yield i*i*i\n",
    "    i = i+ 1  \n",
    "    yield i*i*i\n",
    "    i = i+ 1  \n",
    "    yield i*i*i\n",
    "\n",
    "for h in cubicvar():\n",
    "    print(h)"
   ]
  },
  {
   "cell_type": "code",
   "execution_count": null,
   "metadata": {},
   "outputs": [],
   "source": []
  },
  {
   "cell_type": "code",
   "execution_count": null,
   "metadata": {},
   "outputs": [],
   "source": []
  },
  {
   "cell_type": "code",
   "execution_count": null,
   "metadata": {},
   "outputs": [],
   "source": []
  },
  {
   "cell_type": "code",
   "execution_count": null,
   "metadata": {},
   "outputs": [],
   "source": []
  },
  {
   "cell_type": "code",
   "execution_count": null,
   "metadata": {},
   "outputs": [],
   "source": []
  },
  {
   "cell_type": "markdown",
   "metadata": {},
   "source": [
    "### 4.2 Concurrency"
   ]
  },
  {
   "cell_type": "markdown",
   "metadata": {},
   "source": [
    "##### 4.2.1 Multithreading"
   ]
  },
  {
   "cell_type": "code",
   "execution_count": 18,
   "metadata": {},
   "outputs": [
    {
     "name": "stdout",
     "output_type": "stream",
     "text": [
      "The Process is Working\n",
      "Task 2: 1, 2, 3\n",
      "Task 1 Part 2: Python\n",
      "Task 1 Part 1: Hi, By\n"
     ]
    }
   ],
   "source": [
    "import time\n",
    "from threading import Thread\n",
    "\n",
    "def task1_part1(arg1, arg2):\n",
    "    time.sleep(5)\n",
    "    print(f\"Task 1 Part 1: {arg1}, {arg2}\")\n",
    "\n",
    "def task1_part2(arg):\n",
    "    time.sleep(3)\n",
    "    print(f\"Task 1 Part 2: {arg}\")\n",
    "\n",
    "def task2(arg1, arg2, arg3):\n",
    "    time.sleep(2)\n",
    "    print(f\"Task 2: {arg1}, {arg2}, {arg3}\")\n",
    "\n",
    "t1 = Thread(target=task1_part1, args=(\"Hi\", \"By\"))\n",
    "t2 = Thread(target=task1_part2, args=(\"Python\",))\n",
    "t3 = Thread(target=task2, args=(1, 2, 3))\n",
    "\n",
    "t1.start()\n",
    "t2.start()\n",
    "t3.start()\n",
    "\n",
    "print(\"The Process is Working\")\n",
    "\n",
    "t1.join()\n",
    "t2.join()\n",
    "t3.join()\n"
   ]
  },
  {
   "cell_type": "code",
   "execution_count": 19,
   "metadata": {},
   "outputs": [
    {
     "name": "stdout",
     "output_type": "stream",
     "text": [
      "Starting download of file1.txt...\n",
      "Starting download of file2.txt...\n",
      "Starting download of file3.txt...\n",
      "The Process is Working\n",
      "Finished download of file3.txt!\n",
      "Finished download of file1.txt!\n",
      "Finished download of file2.txt!\n",
      "All downloads completed!\n"
     ]
    }
   ],
   "source": [
    "import threading\n",
    "import time\n",
    "\n",
    "\n",
    "def download_file(file_name, duration): \n",
    "    print(f\"Starting download of {file_name}...\")\n",
    "    time.sleep(duration)\n",
    "    print(f\"Finished download of {file_name}!\")\n",
    "\n",
    "thread1 = Thread(target=download_file, args=(\"file1.txt\", 3))\n",
    "thread2 = Thread(target=download_file, args=(\"file2.txt\", 5))\n",
    "thread3 = Thread(target=download_file, args=(\"file3.txt\", 2))\n",
    "\n",
    "thread1.start() # Function that simulates downloading a file\n",
    "thread2.start() # ------------------------------------------\n",
    "thread3.start() # ------------------------------------------\n",
    "\n",
    "print(\"The Process is Working\")\n",
    "\n",
    "thread1.join()  # Waiting for all threads to finish\n",
    "thread2.join()  # ---------------------------------\n",
    "thread3.join()  # ---------------------------------\n",
    "\n",
    "print(\"All downloads completed!\")"
   ]
  },
  {
   "cell_type": "markdown",
   "metadata": {},
   "source": [
    "##### 4.2.2 Multiprocessing"
   ]
  },
  {
   "cell_type": "code",
   "execution_count": null,
   "metadata": {},
   "outputs": [],
   "source": []
  },
  {
   "cell_type": "markdown",
   "metadata": {},
   "source": [
    "# <center> Chapter 5 - The Box"
   ]
  },
  {
   "cell_type": "markdown",
   "metadata": {},
   "source": [
    "### 5.1 OOP"
   ]
  },
  {
   "cell_type": "markdown",
   "metadata": {},
   "source": [
    "##### 5.1.1 Attributes and Methods = @property, @staticmethod, @classmethod"
   ]
  },
  {
   "cell_type": "code",
   "execution_count": 20,
   "metadata": {},
   "outputs": [
    {
     "name": "stdout",
     "output_type": "stream",
     "text": [
      "method_01: 15\n",
      "method_02: 12\n",
      "method_03: 300\n",
      "method_04 (property method): 12\n",
      "method_05 (class method): 18\n",
      "method_06 (static method): 10\n"
     ]
    }
   ],
   "source": [
    "class my_class:\n",
    "    attr_01   = 10                              # Public class  attribute\n",
    "    _attr_02  = 20                              # Protected class   attr.\n",
    "    __attr_03 = 30                              # Private class attribute\n",
    "    def __init__(self, attr_04, attr_05, attr_06):\n",
    "        self.attr_04   = attr_04               # Public instance  attribute\n",
    "        self._attr_05  = attr_05               # Protected instance   attr.\n",
    "        self.__attr_06 = attr_06               # Private instance attribute\n",
    "    def method_01(self):                       # Public    method\n",
    "        return self.attr_01 + self.attr_04     # ----------------\n",
    "    def _method_02(self):                      # Protected method\n",
    "        return self._attr_02 - self._attr_05   # ----------------\n",
    "    def __method_03(self):                     # Private   method\n",
    "        return self.__attr_03 * self.__attr_06 # ----------------    \n",
    "    @property                                  # property method\n",
    "    def method_04(self):                       # ---------------\n",
    "        return self.attr_01 + 2                # ---------------\n",
    "    @classmethod                               # Class    method\n",
    "    def method_05(cls):                        # ---------------\n",
    "        return cls._attr_02 - 2                # ---------------\n",
    "    @staticmethod                              # Static   method\n",
    "    def method_06(parameter):                  # ---------------\n",
    "        return parameter * 2                   # ---------------\n",
    "\n",
    "obj = my_class(5, 8, 10) # Creating an object of the my_class class  # -----------\n",
    "print(\"method_01:\", obj.method_01())                                 # Output:  15\n",
    "print(\"method_02:\", obj._method_02())                                # Output:  12\n",
    "print(\"method_03:\", obj._my_class__method_03())                      # Output: 300\n",
    "print(\"method_04 (property method):\", obj.method_04)                 # Output:  12\n",
    "print(\"method_05 (class method):\", my_class.method_05())             # Output:  18\n",
    "print(\"method_06 (static method):\", my_class.method_06(5))           # Output:  10"
   ]
  },
  {
   "cell_type": "markdown",
   "metadata": {},
   "source": [
    "##### 5.1.2 Encapsulation and Polymorphism"
   ]
  },
  {
   "cell_type": "markdown",
   "metadata": {},
   "source": [
    "<center> Encapsulation - The Grouping of Information"
   ]
  },
  {
   "cell_type": "code",
   "execution_count": 21,
   "metadata": {},
   "outputs": [
    {
     "name": "stdout",
     "output_type": "stream",
     "text": [
      "Name: Alice\n",
      "Updated Name: BOB\n",
      "Name: MR,Project: ProjectY,Salary: 70\n"
     ]
    }
   ],
   "source": [
    "def uppercase_name(func):                      # Define a decorator function \n",
    "    def wrapper(self, name):  \n",
    "        uppercase_name = name.upper()  \n",
    "        return func(self, uppercase_name) \n",
    "    return wrapper  \n",
    "\n",
    "class Employee:                                # Define a class called Employee\n",
    "    def __init__(self, name, project, salary): # Define the constructor method\n",
    "        self.name     = name                   # Public member \n",
    "        self._project = project                # Protected member\n",
    "        self.__salary = salary                 # Private member\n",
    "\n",
    "    @property                                  # Define a property for salary\n",
    "    def salary(self):                          # Getter for private member\n",
    "        return self.__salary           \n",
    "\n",
    "    @salary.setter                             # Define a setter for salary\n",
    "    def salary(self, new_salary):              # Setter for private member\n",
    "        self.__salary = new_salary      \n",
    "\n",
    "    @staticmethod                              # Define a static method\n",
    "    def is_valid_salary(salary):               # Static method to check\n",
    "        return salary >= 0             \n",
    "\n",
    "    @classmethod                               # Define a class method\n",
    "    def from_string(cls, emp_str):             # Class method to create \n",
    "        name, project, salary = emp_str.split(\",\")  \n",
    "        return cls(name, project, int(salary))  \n",
    "\n",
    "    def display_info(self): \n",
    "        print(f\"Name: {self.name},Project: {self._project},Salary: {self.salary}\")\n",
    "\n",
    "    @uppercase_name  \n",
    "    def set_name(self, name):                  # Define a method to set the name\n",
    "        self.name = name   \n",
    "\n",
    "emp = Employee(\"Alice\", \"ProjectX\", 50000)     # Create an instance \n",
    "print(\"Name:\", emp.name)                       # Print the employee's name\n",
    "emp.set_name(\"Bob\")                            # Set the employee's name \n",
    "print(\"Updated Name:\", emp.name)               # Print the updated name\n",
    "\n",
    "\n",
    "emp2 = Employee.from_string(\"MR,ProjectY,70\") # Create instance form str  \n",
    "emp2.display_info()                           # Display the informations "
   ]
  },
  {
   "cell_type": "markdown",
   "metadata": {},
   "source": [
    "<center> Polymorphism - The Redefining of Information"
   ]
  },
  {
   "cell_type": "code",
   "execution_count": 23,
   "metadata": {},
   "outputs": [
    {
     "name": "stdout",
     "output_type": "stream",
     "text": [
      "Fraction 1    : 3/4 Fraction 2    : 1/2\n",
      "Addition      : 10/8\n",
      "Subtraction   : 2/8\n",
      "Multiplication: 3/8\n",
      "Division      : 6/4\n"
     ]
    }
   ],
   "source": [
    "class Fraction:\n",
    "    def __init__(self, num, den):\n",
    "        self.num = num\n",
    "        self.den = den      \n",
    "    def __str__(self):\n",
    "        return f\"{self.num}/{self.den}\"\n",
    "    def __add__(self, other):\n",
    "        new_num = self.num * other.den + other.num * self.den\n",
    "        new_den = self.den * other.den\n",
    "        return Fraction(new_num, new_den)\n",
    "    def __sub__(self, other):\n",
    "        new_num = self.num * other.den - other.num * self.den\n",
    "        new_den = self.den * other.den\n",
    "        return Fraction(new_num, new_den)\n",
    "    def __mul__(self, other):\n",
    "        new_num = self.num * other.num\n",
    "        new_den = self.den * other.den\n",
    "        return Fraction(new_num, new_den)\n",
    "    def __truediv__(self, other):\n",
    "        new_num = self.num * other.den\n",
    "        new_den = self.den * other.num\n",
    "        return Fraction(new_num, new_den)\n",
    "fraction_01 = Fraction(3, 4); fraction_02 = Fraction(1, 2)\n",
    "print(\"Fraction 1    :\", fraction_01,\"Fraction 2    :\", fraction_02) # Output: 3/4\n",
    "print(\"Addition      :\", fraction_01 + fraction_02)                  # Output: 5/4\n",
    "print(\"Subtraction   :\", fraction_01 - fraction_02)                  # Output: 1/4\n",
    "print(\"Multiplication:\", fraction_01 * fraction_02)                  # Output: 3/8\n",
    "print(\"Division      :\", fraction_01 / fraction_02)                  # Output: 3/2"
   ]
  },
  {
   "cell_type": "markdown",
   "metadata": {},
   "source": [
    "##### 5.1.3 Inheritance and Abstraction"
   ]
  },
  {
   "cell_type": "markdown",
   "metadata": {},
   "source": [
    "<center> Inheritance - The Sharing of Information "
   ]
  },
  {
   "cell_type": "code",
   "execution_count": null,
   "metadata": {},
   "outputs": [
    {
     "name": "stdout",
     "output_type": "stream",
     "text": [
      "Inside Vehicle class\n",
      "Inside Car class\n",
      "Inside SportsCar class\n",
      "Inside Vehicle class\n",
      "Inside Car class\n",
      "Inside SportsCar class\n",
      "Inside SuperCar class\n",
      "Inside Vehicle class\n",
      "Inside Car class\n",
      "Inside RacingCar class\n"
     ]
    }
   ],
   "source": [
    "class Vehicle:\n",
    "    def vehicle_info(self):     # Base class method\n",
    "        print(\"Inside Vehicle class\")\n",
    "class Car(Vehicle):\n",
    "    def car_info(self):         # Derived class method\n",
    "        print(\"Inside Car class\")\n",
    "class Truck(Vehicle):\n",
    "    def truck_info(self):       # Derived class method\n",
    "        print(\"Inside Truck class\")\n",
    "class SportsCar(Car, Vehicle):  # Multiple Inheritance\n",
    "    def sports_car_info(self):  # Derived class method\n",
    "        print(\"Inside SportsCar class\")\n",
    "class SuperCar(SportsCar):      # Multilevel Inheritance\n",
    "    def super_car_info(self):   # Derived class method\n",
    "        print(\"Inside SuperCar class\")\n",
    "class RacingCar(Car):            # Hierarchical Inheritance\n",
    "    def racing_car_info(self):  # Derived class method\n",
    "        print(\"Inside RacingCar class\")\n",
    "\n",
    "# Instances of each class created and methods called ----------------------------\n",
    "s_car = SportsCar()         # Instance of SportsCar class\n",
    "s_car.vehicle_info()        # Accessing base class method (Single Inheritance)\n",
    "s_car.car_info()            # Accessing derived class method (Single Inheritance)\n",
    "s_car.sports_car_info()     # Accessing derived class method (Hybrid Inheritance)\n",
    "\n",
    "s_upercar = SuperCar()      # Instance of SuperCar class\n",
    "s_upercar.vehicle_info()    # Accessing base class method (Single Inheritance)\n",
    "s_upercar.car_info()        # Accessing derived class method (Single Inheritance)\n",
    "s_upercar.sports_car_info() # Accessing derived class method (Hybrid Inheritance)\n",
    "s_upercar.super_car_info()  # Accessing derived class method (Multilevel Inher. )\n",
    "\n",
    "r_car = RacingCar()         # Instance of RacingCar class\n",
    "r_car.vehicle_info()        # Accessing base class method (Single Inheritance)\n",
    "r_car.car_info()            # Accessing derived class method (Single Inheritance)\n",
    "r_car.racing_car_info()     # Accessing derived class method (Hierarchical Inher)"
   ]
  },
  {
   "cell_type": "markdown",
   "metadata": {},
   "source": [
    "<center> Abstraction - The Hiding of Information"
   ]
  },
  {
   "cell_type": "code",
   "execution_count": null,
   "metadata": {},
   "outputs": [],
   "source": [
    "from abc import ABC, abstractmethod\n",
    "\n",
    "class AbstractClass(ABC):\n",
    "    @abstractmethod\n",
    "    def abstract_method(self):\n",
    "        pass\n",
    "class ConcreteClass(AbstractClass):\n",
    "    def abstract_method(self):\n",
    "        # Implementation of the abstract method\n",
    "        pass"
   ]
  },
  {
   "cell_type": "code",
   "execution_count": 25,
   "metadata": {},
   "outputs": [
    {
     "name": "stdout",
     "output_type": "stream",
     "text": [
      "Circle Area: 78.5\n"
     ]
    }
   ],
   "source": [
    "from abc import ABC, abstractmethod\n",
    "\n",
    "class Shape(ABC):                      # Abstract class defining the interface\n",
    "    @abstractmethod\n",
    "    def area(self):\n",
    "        pass\n",
    "class Circle(Shape):                  # Concrete subclass implementing the Shape\n",
    "    def __init__(self, radius):\n",
    "        self.radius = radius\n",
    "    def area(self):                   # Implementation of the abstract method\n",
    "        return 3.14 * self.radius * self.radius\n",
    "        \n",
    "circle = Circle(5)                    # Create an instance of the concrete subclass\n",
    "print(\"Circle Area:\", circle.area())  # Output: Area of circle: 78.5"
   ]
  },
  {
   "cell_type": "code",
   "execution_count": 12,
   "metadata": {},
   "outputs": [
    {
     "name": "stdout",
     "output_type": "stream",
     "text": [
      "20 18\n",
      "28.274333882308138 18.84955592153876\n"
     ]
    }
   ],
   "source": [
    "import math; from abc import ABC, abstractmethod\n",
    "\n",
    "class Shape(ABC):\n",
    "    @abstractmethod\n",
    "    def area(self):\n",
    "        pass  \n",
    "    @abstractmethod\n",
    "    def perimeter(self):\n",
    "        pass\n",
    "class Rectangle(Shape):  # A class representing a rectangle\n",
    "    def __init__(self, width, height):\n",
    "        self.width  = width\n",
    "        self.height = height\n",
    "    def area(self):      # Calculate the area of the rectangle\n",
    "        return self.width * self.height\n",
    "    def perimeter(self): # Calculate the perimeter of the rectangle\n",
    "        return 2 * (self.width + self.height)\n",
    "class Circle(Shape):     # A class representing a circle\n",
    "    def __init__(self, radius):\n",
    "        self.radius = radius\n",
    "    def area(self):      # Calculate the area of the circle\n",
    "        return math.pi * self.radius ** 2\n",
    "    def perimeter(self): # Calculate the circumference of the circle\n",
    "        return 2 * math.pi * self.radius\n",
    "\n",
    "rectangle = Rectangle(5, 4); circle = Circle(3)       # Create instances \n",
    "print(rectangle.area(), rectangle.perimeter())        # Output:  20, 18\n",
    "print(circle.area(), circle.perimeter())              # Output:  28.274.., 18.849.."
   ]
  },
  {
   "cell_type": "markdown",
   "metadata": {},
   "source": [
    "### 5.2 Group"
   ]
  },
  {
   "cell_type": "markdown",
   "metadata": {},
   "source": [
    "##### 5.2.1 Module_to_Package"
   ]
  },
  {
   "cell_type": "code",
   "execution_count": 16,
   "metadata": {},
   "outputs": [],
   "source": [
    "import mymath2\n",
    "\n",
    "\n",
    "x = mymath2.addition(5, 3)"
   ]
  },
  {
   "cell_type": "code",
   "execution_count": 15,
   "metadata": {},
   "outputs": [
    {
     "data": {
      "text/plain": [
       "8"
      ]
     },
     "execution_count": 15,
     "metadata": {},
     "output_type": "execute_result"
    }
   ],
   "source": [
    "from mymath1 import Calculator\n",
    "\n",
    "calc   = Calculator()\n",
    "result = calc.addi(5, 3)\n",
    "result"
   ]
  },
  {
   "cell_type": "markdown",
   "metadata": {},
   "source": [
    "##### 5.2.2 Library_to_Framework"
   ]
  },
  {
   "cell_type": "markdown",
   "metadata": {},
   "source": [
    "![Example Image](/workspaces/T/Theoretical Python [00]/01. Materials/Example Files/Image/download (4).jpeg)"
   ]
  },
  {
   "cell_type": "markdown",
   "metadata": {},
   "source": [
    "![Example Image](Materials/Example%20Files/Image/Frameworks.jpeg)"
   ]
  },
  {
   "cell_type": "markdown",
   "metadata": {},
   "source": []
  }
 ],
 "metadata": {
  "kernelspec": {
   "display_name": "Python 3",
   "language": "python",
   "name": "python3"
  },
  "language_info": {
   "codemirror_mode": {
    "name": "ipython",
    "version": 3
   },
   "file_extension": ".py",
   "mimetype": "text/x-python",
   "name": "python",
   "nbconvert_exporter": "python",
   "pygments_lexer": "ipython3",
   "version": "3.12.1"
  }
 },
 "nbformat": 4,
 "nbformat_minor": 2
}
