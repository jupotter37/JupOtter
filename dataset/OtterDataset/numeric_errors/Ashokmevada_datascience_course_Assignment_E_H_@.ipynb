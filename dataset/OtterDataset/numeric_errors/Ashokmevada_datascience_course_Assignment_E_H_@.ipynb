{
 "cells": [
  {
   "cell_type": "markdown",
   "metadata": {},
   "source": [
    "### Q1. Explain why we have to use the Exception class while creating a Custom Exception.\n",
    "Answer\n",
    "Using the Exception class as the base class ensures that the custom exception is compatible with Python's exception handling framework. It inherits all the necessary functionality of a standard exception.\n"
   ]
  },
  {
   "cell_type": "code",
   "execution_count": 1,
   "metadata": {},
   "outputs": [
    {
     "name": "stdout",
     "output_type": "stream",
     "text": [
      "Exception\n",
      "BaseException\n",
      "object\n"
     ]
    }
   ],
   "source": [
    "# Q2\n",
    "import inspect\n",
    "\n",
    "def print_exception_hierarchy():\n",
    "    for cls in inspect.getmro(Exception):\n",
    "        print(cls.__name__)\n",
    "\n",
    "print_exception_hierarchy()"
   ]
  },
  {
   "cell_type": "markdown",
   "metadata": {},
   "source": [
    "### Q3. What errors are defined in the ArithmeticError class? Explain any two with an example.\n",
    "Answer\n",
    "The ArithmeticError class includes errors like ZeroDivisionError and OverflowError."
   ]
  },
  {
   "cell_type": "code",
   "execution_count": 2,
   "metadata": {},
   "outputs": [
    {
     "name": "stdout",
     "output_type": "stream",
     "text": [
      "division by zero\n"
     ]
    }
   ],
   "source": [
    "# Example 1: ZeroDivisionError\n",
    "try:\n",
    "    result = 10 / 0\n",
    "except ZeroDivisionError as e:\n",
    "    print(e)\n"
   ]
  },
  {
   "cell_type": "code",
   "execution_count": 3,
   "metadata": {},
   "outputs": [
    {
     "name": "stdout",
     "output_type": "stream",
     "text": [
      "math range error\n"
     ]
    }
   ],
   "source": [
    "\n",
    "# Example 2: OverflowError\n",
    "import math\n",
    "try:\n",
    "    result = math.exp(1000)\n",
    "except OverflowError as e:\n",
    "    print(e)"
   ]
  },
  {
   "cell_type": "markdown",
   "metadata": {},
   "source": [
    "\n",
    "### Q4. Why LookupError class is used? Explain with an example KeyError and IndexError.\n",
    "Answer\n",
    "The LookupError class is the base class for errors raised when a lookup fails, such as KeyError and IndexError."
   ]
  },
  {
   "cell_type": "code",
   "execution_count": 4,
   "metadata": {},
   "outputs": [
    {
     "name": "stdout",
     "output_type": "stream",
     "text": [
      "KeyError: 'missing_key'\n"
     ]
    }
   ],
   "source": [
    "# Example: KeyError\n",
    "try:\n",
    "    my_dict = {\"key\": \"value\"}\n",
    "    print(my_dict[\"missing_key\"])\n",
    "except KeyError as e:\n",
    "    print(f\"KeyError: {e}\")\n"
   ]
  },
  {
   "cell_type": "code",
   "execution_count": 5,
   "metadata": {},
   "outputs": [
    {
     "name": "stdout",
     "output_type": "stream",
     "text": [
      "IndexError: list index out of range\n"
     ]
    }
   ],
   "source": [
    "# Example: IndexError\n",
    "try:\n",
    "    my_list = [1, 2, 3]\n",
    "    print(my_list[5])\n",
    "except IndexError as e:\n",
    "    print(f\"IndexError: {e}\")"
   ]
  },
  {
   "cell_type": "markdown",
   "metadata": {},
   "source": [
    "### Q5. Explain ImportError. What is ModuleNotFoundError?\n",
    "Answer\n",
    "ImportError occurs when a module cannot be imported. ModuleNotFoundError is a subclass of ImportError and occurs specifically when the module cannot be found.\n"
   ]
  },
  {
   "cell_type": "code",
   "execution_count": 6,
   "metadata": {},
   "outputs": [
    {
     "name": "stdout",
     "output_type": "stream",
     "text": [
      "ModuleNotFoundError: No module named 'non_existent_module'\n"
     ]
    }
   ],
   "source": [
    "\n",
    "try:\n",
    "    import non_existent_module\n",
    "except ModuleNotFoundError as e:\n",
    "    print(f\"ModuleNotFoundError: {e}\")"
   ]
  },
  {
   "cell_type": "markdown",
   "metadata": {},
   "source": [
    "### Q6. List down some best practices for exception handling in Python.\n",
    "1. **Catch specific exceptions**: Handle specific exceptions instead of using a general `except` block.\n",
    "2. **Avoid silent failures**: Do not catch exceptions unless you intend to handle them.\n",
    "3. **Clean up resources**: Use a `finally` block or context managers to clean up resources like file handles or database connections.\n",
    "4. **Use custom exceptions**: Define custom exceptions for domain-specific error handling.\n",
    "5. **Log exceptions**: Log exception details for debugging and auditing.\n",
    "6. **Avoid using exceptions for control flow**: Use exceptions for error handling, not for regular program logic.\n",
    "7. **Provide meaningful messages**: Include meaningful error messages to make debugging easier.\n",
    "8. **Reraise exceptions when needed**: Reraise exceptions after logging or performing necessary actions to propagate the error."
   ]
  },
  {
   "cell_type": "code",
   "execution_count": 7,
   "metadata": {},
   "outputs": [
    {
     "name": "stdout",
     "output_type": "stream",
     "text": [
      "Error: [Errno 2] No such file or directory: 'file.txt'\n",
      "Execution complete.\n"
     ]
    }
   ],
   "source": [
    "\n",
    "\n",
    "try:\n",
    "    with open(\"file.txt\", \"r\") as file:\n",
    "        content = file.read()\n",
    "except FileNotFoundError as e:\n",
    "    print(f\"Error: {e}\")\n",
    "    # Log error or perform necessary actions\n",
    "finally:\n",
    "    print(\"Execution complete.\")"
   ]
  },
  {
   "cell_type": "markdown",
   "metadata": {},
   "source": []
  }
 ],
 "metadata": {
  "kernelspec": {
   "display_name": "Python 3",
   "language": "python",
   "name": "python3"
  },
  "language_info": {
   "codemirror_mode": {
    "name": "ipython",
    "version": 3
   },
   "file_extension": ".py",
   "mimetype": "text/x-python",
   "name": "python",
   "nbconvert_exporter": "python",
   "pygments_lexer": "ipython3",
   "version": "3.12.1"
  }
 },
 "nbformat": 4,
 "nbformat_minor": 2
}
