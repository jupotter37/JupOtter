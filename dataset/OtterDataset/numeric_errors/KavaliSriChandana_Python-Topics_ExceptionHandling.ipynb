{
 "cells": [
  {
   "cell_type": "code",
   "execution_count": null,
   "id": "67505c7a-8d4f-4ecb-b0ea-216351bcf039",
   "metadata": {},
   "outputs": [],
   "source": [
    "\"\"\"\n",
    "Exception handling\n",
    "\n",
    ".It is a mechanism in programming to handle runtime errors, which are known as exceptions. \n",
    ".It's a process where you define a block of code that will be executed if an error occurs when the program is running. This allows the program to continue running (or terminate gracefully) even if an error occurs.\n",
    ".Without exception handling, an error occurring in a program would cause the program to immediately stop. This can be very undesirable, especially in production software, as it can lead to a poor user experience or even data loss.\n",
    ".In Python, you use try and except blocks. The try block contains the code that might raise an exception, and the except block contains the code that will be executed if an exception is raised.\n",
    ".The else block allows you run code without errors.\n",
    ".The finally block executes code regardless of the try-and-except blocks.\n",
    "\n",
    "-Some of the most common types of exceptions are:\n",
    "\n",
    ".ZeroDivisionError: Raised when the second argument of a division or modulo operation is zero.\n",
    "\n",
    ".TypeError: Raised when an operation or function is applied to an object of inappropriate type.\n",
    "\n",
    ".ValueError: Raised when a built-in operation or function receives an argument that has the right type but an inappropriate value.\n",
    "\n",
    ".IndexError: Raised when a sequence subscript is out of range.\n",
    "\n",
    ".KeyError: Raised when a dictionary key is not found.\n",
    "\n",
    ".FileNotFoundError: Raised when a file or directory is requested but doesn’t exist.\n",
    "\n",
    ".IOError: Raised when an I/O operation (such as a print statement, the built-in open() function or a method of a file object) fails for an I/O-related reason.\n",
    "\n",
    ".ImportError: Raised when an import statement fails to find the module definition or when a from ... import fails to find a name that is to be imported.\n",
    "\n",
    ".MemoryError: Raised when an operation runs out of memory.\n",
    "\n",
    ".OverflowError: Raised when the result of an arithmetic operation is too large to be expressed by the normal number format.\n",
    "\n",
    ".AttributeError: Raised when an attribute reference or assignment fails.\n",
    "\n",
    ".SyntaxError: Raised when the parser encounters a syntax error.\n",
    "\n",
    ".IndentationError: Raised when there is incorrect indentation.\n",
    "\n",
    ".NameError: Raised when a local or global name is not found.\n",
    "\n",
    "-Role of Try and Except:\n",
    "\n",
    ".try block: The code within the try block contains the statements that may potentially raise an exception. It allows you to specify the section of code that you want to monitor for exceptions.\n",
    "\n",
    ".except block: If an exception occurs within the try block, the corresponding except block(s) are executed. The except block allows you to define the actions or code that should be executed when a specific exception is raised.You can have multiple except blocks to handle different types of exceptions.\n",
    "\n",
    "The else block allows you run code without errors.\n",
    "The finally block executes code regardless of the try-and-except blocks.\n",
    "Use the raise keyword to throw (or raise) an exception.\n",
    "\n",
    "\"\"\""
   ]
  },
  {
   "cell_type": "code",
   "execution_count": 3,
   "id": "a600be8a-a63c-4ba2-851f-a647b5c5a593",
   "metadata": {},
   "outputs": [
    {
     "name": "stdout",
     "output_type": "stream",
     "text": [
      "Some issue with x\n"
     ]
    }
   ],
   "source": [
    "# try raise an exception beca x is not defined\n",
    "try:\n",
    "  print(x)\n",
    "except:\n",
    "  print(\"Some issue with x\")"
   ]
  },
  {
   "cell_type": "code",
   "execution_count": 4,
   "id": "90c5ae3c-05d1-488a-b5a8-a1abf245a4e6",
   "metadata": {},
   "outputs": [
    {
     "name": "stdout",
     "output_type": "stream",
     "text": [
      "Good morning today is 17th June\n",
      "No issues\n"
     ]
    }
   ],
   "source": [
    "\"\"\"You can use the \"else\" keyword to specify a block\n",
    "   of code that will be performed if no errors are raised:\"\"\"\n",
    "try:\n",
    "  print(\"Good morning today is 17th June\")\n",
    "except:\n",
    "  print(\"Some issue\")\n",
    "else:\n",
    "  print(\"No issues\")"
   ]
  },
  {
   "cell_type": "code",
   "execution_count": 5,
   "id": "7d66333d-b66b-4a7b-947b-810eb0f7a9d5",
   "metadata": {},
   "outputs": [
    {
     "name": "stdout",
     "output_type": "stream",
     "text": [
      "2\n",
      "The 'try except' executed\n"
     ]
    }
   ],
   "source": [
    "\"\"\"If the \"finally\" block is supplied,\n",
    "   it will be executed whether or not the try block raises an error.\"\"\"\n",
    "\n",
    "try:\n",
    "  x = 2\n",
    "  print(x)\n",
    "except:\n",
    "  print(\"There is no X\")\n",
    "finally:\n",
    "  print(\"The 'try except' executed\")\n"
   ]
  },
  {
   "cell_type": "code",
   "execution_count": 6,
   "id": "3b4cb3cf-5ed1-4605-bf34-a41dbbb8d9b3",
   "metadata": {},
   "outputs": [
    {
     "ename": "Exception",
     "evalue": "There is a problem: X is below zero",
     "output_type": "error",
     "traceback": [
      "\u001b[1;31m---------------------------------------------------------------------------\u001b[0m",
      "\u001b[1;31mException\u001b[0m                                 Traceback (most recent call last)",
      "Cell \u001b[1;32mIn[6], line 6\u001b[0m\n\u001b[0;32m      3\u001b[0m x \u001b[38;5;241m=\u001b[39m \u001b[38;5;241m2\u001b[39m\n\u001b[0;32m      5\u001b[0m \u001b[38;5;28;01mif\u001b[39;00m x \u001b[38;5;241m<\u001b[39m \u001b[38;5;241m10\u001b[39m:\n\u001b[1;32m----> 6\u001b[0m   \u001b[38;5;28;01mraise\u001b[39;00m \u001b[38;5;167;01mException\u001b[39;00m(\u001b[38;5;124m\"\u001b[39m\u001b[38;5;124mThere is a problem: X is below zero\u001b[39m\u001b[38;5;124m\"\u001b[39m)\n",
      "\u001b[1;31mException\u001b[0m: There is a problem: X is below zero"
     ]
    }
   ],
   "source": [
    "# Use the \"raise\" keyword to throw an exception.\n",
    "\n",
    "x = 2\n",
    "\n",
    "if x < 10:\n",
    "  raise Exception(\"There is a problem: X is below zero\")"
   ]
  },
  {
   "cell_type": "code",
   "execution_count": 7,
   "id": "bfa26837-c71b-49bb-a3bc-016495b4638b",
   "metadata": {},
   "outputs": [
    {
     "name": "stdin",
     "output_type": "stream",
     "text": [
      "Please enter the numerator:  8\n",
      "Please enter the denominator:  0\n"
     ]
    },
    {
     "ename": "ZeroDivisionError",
     "evalue": "division by zero",
     "output_type": "error",
     "traceback": [
      "\u001b[1;31m---------------------------------------------------------------------------\u001b[0m",
      "\u001b[1;31mZeroDivisionError\u001b[0m                         Traceback (most recent call last)",
      "Cell \u001b[1;32mIn[7], line 6\u001b[0m\n\u001b[0;32m      3\u001b[0m n \u001b[38;5;241m=\u001b[39m \u001b[38;5;28mint\u001b[39m(\u001b[38;5;28minput\u001b[39m(\u001b[38;5;124m\"\u001b[39m\u001b[38;5;124mPlease enter the numerator: \u001b[39m\u001b[38;5;124m\"\u001b[39m))\n\u001b[0;32m      4\u001b[0m d \u001b[38;5;241m=\u001b[39m \u001b[38;5;28mint\u001b[39m(\u001b[38;5;28minput\u001b[39m(\u001b[38;5;124m\"\u001b[39m\u001b[38;5;124mPlease enter the denominator: \u001b[39m\u001b[38;5;124m\"\u001b[39m))\n\u001b[1;32m----> 6\u001b[0m result \u001b[38;5;241m=\u001b[39m \u001b[43mn\u001b[49m\u001b[43m \u001b[49m\u001b[38;5;241;43m/\u001b[39;49m\u001b[43m \u001b[49m\u001b[43md\u001b[49m\n\u001b[0;32m      7\u001b[0m \u001b[38;5;28mprint\u001b[39m(\u001b[38;5;124m\"\u001b[39m\u001b[38;5;124mResult:\u001b[39m\u001b[38;5;124m\"\u001b[39m, result)\n",
      "\u001b[1;31mZeroDivisionError\u001b[0m: division by zero"
     ]
    }
   ],
   "source": [
    "# Zero Division Error\n",
    "\n",
    "n = int(input(\"Please enter the numerator: \"))\n",
    "d = int(input(\"Please enter the denominator: \"))\n",
    "\n",
    "result = n / d\n",
    "print(\"Result:\", result)"
   ]
  },
  {
   "cell_type": "code",
   "execution_count": 8,
   "id": "6b1ccde0-a4b7-46e5-8167-8df86e84b41c",
   "metadata": {},
   "outputs": [
    {
     "name": "stdin",
     "output_type": "stream",
     "text": [
      "Please enter the numerator:  8\n",
      "Please enter the denominator:  0\n"
     ]
    },
    {
     "name": "stdout",
     "output_type": "stream",
     "text": [
      "There is an Error: Division by zero is not allowed.\n"
     ]
    }
   ],
   "source": [
    "try:\n",
    "    n = int(input(\"Please enter the numerator: \"))\n",
    "    d = int(input(\"Please enter the denominator: \"))\n",
    "\n",
    "    result = n / d\n",
    "    print(\"Result:\", result)\n",
    "\n",
    "except ZeroDivisionError:\n",
    "    print(\"There is an Error: Division by zero is not allowed.\")"
   ]
  },
  {
   "cell_type": "code",
   "execution_count": 9,
   "id": "e702b97b-491c-4334-866f-d7d85453e08f",
   "metadata": {},
   "outputs": [
    {
     "name": "stdin",
     "output_type": "stream",
     "text": [
      "Please enter the numerator:  9\n",
      "Please enter the denominator:  8.5\n"
     ]
    },
    {
     "ename": "ValueError",
     "evalue": "invalid literal for int() with base 10: '8.5'",
     "output_type": "error",
     "traceback": [
      "\u001b[1;31m---------------------------------------------------------------------------\u001b[0m",
      "\u001b[1;31mValueError\u001b[0m                                Traceback (most recent call last)",
      "Cell \u001b[1;32mIn[9], line 7\u001b[0m\n\u001b[0;32m      3\u001b[0m \u001b[38;5;124;03m\"\"\"Raised when a built-in operation or function receives an\u001b[39;00m\n\u001b[0;32m      4\u001b[0m \u001b[38;5;124;03m   argument that has the right type but an inappropriate value.\"\"\"\u001b[39;00m\n\u001b[0;32m      6\u001b[0m n \u001b[38;5;241m=\u001b[39m \u001b[38;5;28mint\u001b[39m(\u001b[38;5;28minput\u001b[39m(\u001b[38;5;124m\"\u001b[39m\u001b[38;5;124mPlease enter the numerator: \u001b[39m\u001b[38;5;124m\"\u001b[39m))\n\u001b[1;32m----> 7\u001b[0m d \u001b[38;5;241m=\u001b[39m \u001b[38;5;28;43mint\u001b[39;49m\u001b[43m(\u001b[49m\u001b[38;5;28;43minput\u001b[39;49m\u001b[43m(\u001b[49m\u001b[38;5;124;43m\"\u001b[39;49m\u001b[38;5;124;43mPlease enter the denominator: \u001b[39;49m\u001b[38;5;124;43m\"\u001b[39;49m\u001b[43m)\u001b[49m\u001b[43m)\u001b[49m\n\u001b[0;32m      9\u001b[0m result \u001b[38;5;241m=\u001b[39m n \u001b[38;5;241m/\u001b[39m d\n\u001b[0;32m     10\u001b[0m \u001b[38;5;28mprint\u001b[39m(\u001b[38;5;124m\"\u001b[39m\u001b[38;5;124mResult:\u001b[39m\u001b[38;5;124m\"\u001b[39m, result)\n",
      "\u001b[1;31mValueError\u001b[0m: invalid literal for int() with base 10: '8.5'"
     ]
    }
   ],
   "source": [
    "# Value Error\n",
    "\n",
    "\"\"\"Raised when a built-in operation or function receives an\n",
    "   argument that has the right type but an inappropriate value.\"\"\"\n",
    "\n",
    "n = int(input(\"Please enter the numerator: \"))\n",
    "d = int(input(\"Please enter the denominator: \"))\n",
    "\n",
    "result = n / d\n",
    "print(\"Result:\", result)"
   ]
  },
  {
   "cell_type": "code",
   "execution_count": 10,
   "id": "9aa8106f-62d2-4e5a-8604-5232788f0d32",
   "metadata": {},
   "outputs": [
    {
     "name": "stdin",
     "output_type": "stream",
     "text": [
      "Please enter the numerator:  9\n",
      "Please enter the denominator:  8.5\n"
     ]
    },
    {
     "name": "stdout",
     "output_type": "stream",
     "text": [
      "Please enter valid integers for the numerator and denominator.\n"
     ]
    }
   ],
   "source": [
    "try:\n",
    "    n = int(input(\"Please enter the numerator: \"))\n",
    "    d = int(input(\"Please enter the denominator: \"))\n",
    "\n",
    "    result = n / d\n",
    "    print(\"Result:\", result)\n",
    "\n",
    "except ValueError:\n",
    "    print(\"Please enter valid integers for the numerator and denominator.\")"
   ]
  },
  {
   "cell_type": "code",
   "execution_count": null,
   "id": "e8de6ecf-e460-42ce-b649-9d1af3e62bc2",
   "metadata": {},
   "outputs": [],
   "source": [
    "# Multiple exceptions\n",
    "\n",
    "try:\n",
    "    n = int(input(\"Please enter the numerator: \"))\n",
    "    d = int(input(\"Please enter the denominator: \"))\n",
    "\n",
    "    result = n / d\n",
    "    print(\"Result:\", result)\n",
    "\n",
    "except ValueError:\n",
    "    print(\"Please enter valid integers for the numerator and denominator.\")\n",
    "\n",
    "except ZeroDivisionError:\n",
    "    print(\"Division by zero is not allowed.\")\n",
    "\n",
    "\"\"\"\n",
    "op: 1\n",
    "Please enter the numerator: 2\n",
    "Please enter the denominator: 2\n",
    "Result: 1.0\n",
    "\n",
    "op: 2\n",
    "Please enter the numerator:  9\n",
    "Please enter the denominator:  0\n",
    "Division by zero is not allowed.\n",
    "\n",
    "op: 3\n",
    "Please enter the numerator:  8\n",
    "Please enter the denominator:  4.2\n",
    "Please enter valid integers for the numerator and denominator.\n",
    "\"\"\""
   ]
  },
  {
   "cell_type": "code",
   "execution_count": 16,
   "id": "7eaaee3d-5829-4810-9f06-40a42b1f0cbb",
   "metadata": {},
   "outputs": [
    {
     "name": "stdout",
     "output_type": "stream",
     "text": [
      "Data Type mismatch\n"
     ]
    }
   ],
   "source": [
    "# TypeError\n",
    "\n",
    "try:\n",
    "    x='7'\n",
    "    y=3\n",
    "    z=x+y\n",
    "    print(z)\n",
    "except TypeError:\n",
    "    print(\"Data Type mismatch\")"
   ]
  },
  {
   "cell_type": "code",
   "execution_count": 21,
   "id": "28f1f0e6-977e-4505-9afb-787c93e684ab",
   "metadata": {},
   "outputs": [
    {
     "name": "stdout",
     "output_type": "stream",
     "text": [
      "wrong index as index out of range\n"
     ]
    }
   ],
   "source": [
    "# IndexError\n",
    "\n",
    "try:\n",
    "    list=[1,2,3,4]\n",
    "    print(list[4])                     # error: IndexError: list index out of range\n",
    "\n",
    "except IndexError:\n",
    "    print(\"wrong index as index out of range\")"
   ]
  },
  {
   "cell_type": "code",
   "execution_count": 28,
   "id": "17f9f228-5a31-415e-83cc-7e76c1f0e40f",
   "metadata": {},
   "outputs": [
    {
     "name": "stdout",
     "output_type": "stream",
     "text": [
      "hi\n",
      "key not found\n"
     ]
    }
   ],
   "source": [
    "# KeyError\n",
    "try:\n",
    "    mydict={1:'hi',2:'there',3:4}\n",
    "    print(mydict[1])\n",
    "    print(mydict[4])\n",
    "except KeyError:\n",
    "    print(\"key not found\")"
   ]
  },
  {
   "cell_type": "code",
   "execution_count": 3,
   "id": "33d33e9c-3a18-4c60-8c4f-ffc44f5c5f81",
   "metadata": {},
   "outputs": [
    {
     "name": "stdout",
     "output_type": "stream",
     "text": [
      "File not found at the location\n"
     ]
    }
   ],
   "source": [
    "# FileNotFound Error\n",
    "\n",
    "try:\n",
    "    file_location = 'MyFirst.txt'\n",
    "    with open(file_location,'r') as file:            # r-> read only file , w -> write  It simply shows the properties of the file if it can be modify or not\n",
    "    # Looking for the file and setting the permission (r=read, w=write)\n",
    "        contents =file.read()\n",
    "except FileNotFoundError:\n",
    "    print('File not found at the location')"
   ]
  },
  {
   "cell_type": "code",
   "execution_count": null,
   "id": "a63f6ffa-1679-482e-ab2f-3e44d19495df",
   "metadata": {},
   "outputs": [],
   "source": [
    "# IOE Error\n",
    "\n",
    "try:\n",
    "    file_location = \"file123.txt\"\n",
    "\n",
    "    with open(file_location, \"w\") as file:\n",
    "        file.write(\"This is my file\")\n",
    "\n",
    "except IOError:                 # Input And Output error\n",
    "    print(f\"Unable to write to file '{file_location}'.\")"
   ]
  },
  {
   "cell_type": "code",
   "execution_count": 4,
   "id": "3e9952f6-7a45-4671-839d-661d94af39e3",
   "metadata": {},
   "outputs": [
    {
     "name": "stdout",
     "output_type": "stream",
     "text": [
      "particular library missing\n"
     ]
    }
   ],
   "source": [
    "# Imort Error\n",
    "\n",
    "try:\n",
    "    import library123\n",
    "except ImportError:\n",
    "    print(\"particular library missing\")\n",
    "else :\n",
    "    print(\"given correct library\")"
   ]
  },
  {
   "cell_type": "code",
   "execution_count": 1,
   "id": "999b89a3-df84-440d-b66c-4a6ee523bd49",
   "metadata": {},
   "outputs": [
    {
     "name": "stdout",
     "output_type": "stream",
     "text": [
      "Insufficient memory for the list.\n"
     ]
    }
   ],
   "source": [
    "# Memory Error\n",
    "\n",
    "# Creating a large list that consumes a\n",
    "# significant amount of memory\n",
    "try:\n",
    "    large_list = [1] * (10 ** 12)                   # List contaions 1 for = 10^12\n",
    "\n",
    "    \"\"\"The phrase [1] * (10 ** 12) generates a\n",
    "    list by repeatedly repeating the element [1].\"\"\"\n",
    "\n",
    "except MemoryError:\n",
    "    print(\"Insufficient memory for the list.\")"
   ]
  },
  {
   "cell_type": "code",
   "execution_count": 2,
   "id": "23612580-c3b4-4ae1-9771-9fe12024beb2",
   "metadata": {},
   "outputs": [
    {
     "name": "stdout",
     "output_type": "stream",
     "text": [
      "976562500000000000000000000\n"
     ]
    }
   ],
   "source": [
    "# Overflow Error\n",
    "\n",
    "try:\n",
    "    result= 500**10\n",
    "except OverflowError:\n",
    "    print('Too Big to calculate')\n",
    "else:\n",
    "    print(result)"
   ]
  },
  {
   "cell_type": "code",
   "execution_count": 4,
   "id": "2770d618-44d9-4431-8990-73e82bb2d355",
   "metadata": {},
   "outputs": [
    {
     "ename": "AttributeError",
     "evalue": "'int' object has no attribute 'append'",
     "output_type": "error",
     "traceback": [
      "\u001b[1;31m---------------------------------------------------------------------------\u001b[0m",
      "\u001b[1;31mAttributeError\u001b[0m                            Traceback (most recent call last)",
      "Cell \u001b[1;32mIn[4], line 8\u001b[0m\n\u001b[0;32m      5\u001b[0m     age \u001b[38;5;241m=\u001b[39m \u001b[38;5;241m20\u001b[39m\n\u001b[0;32m      7\u001b[0m     \u001b[38;5;66;03m# Using append method\u001b[39;00m\n\u001b[1;32m----> 8\u001b[0m     \u001b[43mage\u001b[49m\u001b[38;5;241;43m.\u001b[39;49m\u001b[43mappend\u001b[49m(\u001b[38;5;241m12\u001b[39m)\n\u001b[0;32m     10\u001b[0m \u001b[38;5;28;01mexcept\u001b[39;00m \u001b[38;5;167;01mOverflowError\u001b[39;00m:\n\u001b[0;32m     11\u001b[0m     \u001b[38;5;28mprint\u001b[39m(\u001b[38;5;124m\"\u001b[39m\u001b[38;5;124m'\u001b[39m\u001b[38;5;124mage\u001b[39m\u001b[38;5;124m'\u001b[39m\u001b[38;5;124m object has no attribute.\u001b[39m\u001b[38;5;124m\"\u001b[39m)\n",
      "\u001b[1;31mAttributeError\u001b[0m: 'int' object has no attribute 'append'"
     ]
    }
   ],
   "source": [
    "# Attribute Error\n",
    "\n",
    "try:\n",
    "\n",
    "    age = 20\n",
    "\n",
    "    # Using append method\n",
    "    age.append(12)\n",
    "\n",
    "except OverflowError:\n",
    "    print(\"'age' object has no attribute.\")\n",
    "else:\n",
    "    print(result)"
   ]
  },
  {
   "cell_type": "code",
   "execution_count": 5,
   "id": "6034abc8-a706-430b-94b9-5343b8021e77",
   "metadata": {},
   "outputs": [
    {
     "ename": "SyntaxError",
     "evalue": "'(' was never closed (2925597068.py, line 4)",
     "output_type": "error",
     "traceback": [
      "\u001b[1;36m  Cell \u001b[1;32mIn[5], line 4\u001b[1;36m\u001b[0m\n\u001b[1;33m    print(\"John age is:\"\u001b[0m\n\u001b[1;37m         ^\u001b[0m\n\u001b[1;31mSyntaxError\u001b[0m\u001b[1;31m:\u001b[0m '(' was never closed\n"
     ]
    }
   ],
   "source": [
    "# Syntax Error\n",
    "\n",
    "try:\n",
    "    print('John age is:'\n",
    "    age = 20\n",
    "\n",
    "except SyntaxError:\n",
    "    print(\"Error: Invalid syntax.\")"
   ]
  },
  {
   "cell_type": "code",
   "execution_count": 6,
   "id": "1b3bc1c7-ab48-4060-9d0f-15e31f111cfd",
   "metadata": {},
   "outputs": [
    {
     "ename": "IndentationError",
     "evalue": "unexpected indent (4075163591.py, line 5)",
     "output_type": "error",
     "traceback": [
      "\u001b[1;36m  Cell \u001b[1;32mIn[6], line 5\u001b[1;36m\u001b[0m\n\u001b[1;33m    age = 50\u001b[0m\n\u001b[1;37m    ^\u001b[0m\n\u001b[1;31mIndentationError\u001b[0m\u001b[1;31m:\u001b[0m unexpected indent\n"
     ]
    }
   ],
   "source": [
    "# Indentation Error\n",
    "\n",
    "try:\n",
    "    name = \"John\"\n",
    "        age = 50\n",
    "\n",
    "except IndentationError:\n",
    "    print(\"There is an IndentationError\")"
   ]
  },
  {
   "cell_type": "code",
   "execution_count": 7,
   "id": "2476d917-893f-4687-b2e9-28f22e592889",
   "metadata": {},
   "outputs": [
    {
     "name": "stdout",
     "output_type": "stream",
     "text": [
      "NameError is there\n"
     ]
    }
   ],
   "source": [
    "# Name Eroor\n",
    "try:\n",
    "    side = \"4\"\n",
    "    print(area)  # Attempting to access an undefined variable\n",
    "\n",
    "except NameError:\n",
    "    print(\"NameError is there\")"
   ]
  },
  {
   "cell_type": "code",
   "execution_count": null,
   "id": "537cbc95-c2a8-45b0-8bed-cb516f6fdb2e",
   "metadata": {},
   "outputs": [],
   "source": [
    "'''\n",
    "\n",
    "Here's a brief description of each exception:\n",
    "\n",
    "BaseException: The base class for all built-in exceptions.\n",
    "Exception: The base class for all non-exit exceptions.\n",
    "ArithmeticError: Raised for any arithmetic errors.\n",
    "BufferError: Raised when operations on a buffer are not possible.\n",
    "LookupError: Raised when a mapping (dictionary) key or sequence index is not found.\n",
    "AssertionError: Raised when an assert statement fails.\n",
    "AttributeError: Raised when attribute reference or assignment fails.\n",
    "EOFError: Raised when the input() function hits an end-of-file condition (EOF).\n",
    "FloatingPointError: Raised when a floating point operation fails.\n",
    "GeneratorExit: Raised when a generator or coroutine is closed.\n",
    "ImportError: Raised when the import statement fails to find the module definition.\n",
    "ModuleNotFoundError: A subclass of ImportError, raised when an import statement fails to find the module.\n",
    "IndexError: Raised when a sequence subscript (index) is out of range.\n",
    "KeyError: Raised when a dictionary key is not found.\n",
    "KeyboardInterrupt: Raised when the user interrupts program execution (usually by pressing Ctrl+C).\n",
    "MemoryError: Raised when an operation runs out of memory.\n",
    "NameError: Raised when a local or global name is not found.\n",
    "NotImplementedError: Raised when an abstract method requiring an override in an inherited class is not provided.\n",
    "OSError: Raised when a system-related error occurs.\n",
    "OverflowError: Raised when the result of an arithmetic operation is too large to be expressed.\n",
    "RecursionError: Raised when the maximum recursion depth has been exceeded.\n",
    "ReferenceError: Raised when a weak reference proxy is used to access a garbage collected referent.\n",
    "RuntimeError: Raised when an error is detected that doesn’t fall in any of the other categories.\n",
    "StopIteration: Raised by built-in function next() and an iterator‘s __next__() method to signal that there are no further items.\n",
    "StopAsyncIteration: Raised by an asynchronous iterator object’s __anext__() method to stop the iteration.\n",
    "SyntaxError: Raised by the parser when a syntax error is encountered.\n",
    "IndentationError: Raised when there is incorrect indentation.\n",
    "TabError: Raised when indentation contains mixed tabs and spaces.\n",
    "SystemError: Raised when the interpreter finds an internal problem.\n",
    "SystemExit: Raised by the sys.exit() function.\n",
    "TypeError: Raised when an operation or function is applied to an object of inappropriate type.\n",
    "UnboundLocalError: Raised when a local variable is referenced before it has been assigned a value.\n",
    "UnicodeError: Raised when a Unicode-related encoding or decoding error occurs.\n",
    "UnicodeEncodeError: Raised when a Unicode-related error occurs during encoding.\n",
    "UnicodeDecodeError: Raised when a Unicode-related error occurs during decoding.\n",
    "UnicodeTranslateError: Raised when a Unicode-related error occurs during translating.\n",
    "ValueError: Raised when a built-in operation or function receives an argument that has the right type but an inappropriate value.\n",
    "ZeroDivisionError: Raised when the second argument of a division or modulo operation is zero.\n",
    "EnvironmentError: Base class for exceptions that can occur outside the Python system.\n",
    "IOError: Raised when an I/O operation (such as a print statement, the built-in open() function or a method of a file object)\n",
    "\n",
    "'''"
   ]
  },
  {
   "cell_type": "code",
   "execution_count": null,
   "id": "1c5ddbc2-3dff-45b1-8532-2968f10d6715",
   "metadata": {},
   "outputs": [],
   "source": [
    "def quiz_on_exception():\n",
    "    # Quiz Questions\n",
    "    quiz_data = [\n",
    "        {\n",
    "            \"question\": \"Which keyword is used for exception handling?\",\n",
    "            \"options\": ['a) raise', 'b) try', 'c) handle', 'd) exception'],\n",
    "            \"answer\": 'b'\n",
    "        },\n",
    "        {\n",
    "            \"question\": \"What is the purpose of the 'finally' clause in Python exception handling?\",\n",
    "            \"options\": ['a) It executes no matter what', 'b) It is executed if an exception occurs', 'c) It is executed if no exception', 'd) None of the above'],\n",
    "            \"answer\": 'a'\n",
    "        },\n",
    "        {\n",
    "            \"question\": \"Which built-in exception is raised when a function or operation is not implemented yet?\",\n",
    "            \"options\": ['a) NotImplementedError', 'b) ArithmeticError', 'c) BufferError', 'd) AssertionError'],\n",
    "            \"answer\": 'a'\n",
    "        },\n",
    "        {\n",
    "            \"question\": \"Which of the following exceptions is NOT raised by Python built-in operations?\",\n",
    "            \"options\": ['a) IOError', 'b) FileNotFoundError', 'c) KeyNotFoundError', 'd) ZeroDivisionError'],\n",
    "            \"answer\": 'c'\n",
    "        },\n",
    "        {\n",
    "            \"question\": \"What exception is raised when a local or global name is not found?\",\n",
    "            \"options\": ['a) AttributeError', 'b) KeyError', 'c) ImportError', 'd) NameError'],\n",
    "            \"answer\": 'd'\n",
    "        },\n",
    "        {\n",
    "            \"question\": \"What exception is raised when the parser encounters a syntax error?\",\n",
    "            \"options\": ['a) AttributeError', 'b) SyntaxError', 'c) IndentationError', 'd) ValueError'],\n",
    "            \"answer\": 'b'\n",
    "        },\n",
    "        {\n",
    "            \"question\": \"What exception is raised when there is incorrect indentation?\",\n",
    "            \"options\": ['a) IndentationError', 'b) ValueError', 'c) SyntaxError', 'd) TypeError'],\n",
    "            \"answer\": 'a'\n",
    "        },\n",
    "        {\n",
    "            \"question\": \"What exception is raised when an operation or function receives an argument of the right type but an inappropriate value?\",\n",
    "            \"options\": ['a) ValueError', 'b) TypeError', 'c) IndexError', 'd) KeyError'],\n",
    "            \"answer\": 'a'\n",
    "        },\n",
    "        {\n",
    "            \"question\": \"What exception is raised when a sequence subscript is out of range?\",\n",
    "            \"options\": ['a) KeyError', 'b) ValueError', 'c) TypeError', 'd) IndexError'],\n",
    "            \"answer\": 'd'\n",
    "        },\n",
    "        {\n",
    "            \"question\": \"What exception is raised when an import statement fails to find the module definition or when a from ... import fails to find a name that is to be imported?\",\n",
    "            \"options\": ['a) ImportError', 'b) ValueError', 'c) FileNotFoundError', 'd) AttributeError'],\n",
    "            \"answer\": 'a'\n",
    "        },\n",
    "        {\n",
    "            \"question\": \"What exception is raised when an operation runs out of memory?\",\n",
    "            \"options\": ['a) MemoryError', 'b) BufferError', 'c) OverflowError', 'd) ArithmeticError'],\n",
    "            \"answer\": 'a'\n",
    "        },\n",
    "        {\n",
    "            \"question\": \"What exception is raised when the result of an arithmetic operation is too large to be expressed by the normal number format?\",\n",
    "            \"options\": ['a) OverflowError', 'b) MemoryError', 'c) IndexError', 'd) ArithmeticError'],\n",
    "            \"answer\": 'a'\n",
    "        },\n",
    "        {\n",
    "            \"question\": \"What exception is raised when an attribute reference or assignment fails?\",\n",
    "            \"options\": ['a) AttributeError', 'b) KeyError', 'c) ImportError', 'd) NameError'],\n",
    "            \"answer\": 'a'\n",
    "        },\n",
    "        {\n",
    "            \"question\": \"What exception is raised when a file or directory is requested but doesn’t exist?\",\n",
    "            \"options\": ['a) FileNotFoundError', 'b) IOError', 'c) ImportError', 'd) KeyError'],\n",
    "            \"answer\": 'a'\n",
    "        },\n",
    "        {\n",
    "            \"question\": \"What exception is raised when a dictionary key is not found?\",\n",
    "            \"options\": ['a) KeyError', 'b) ValueError', 'c) IndexError', 'd) FileNotFoundError'],\n",
    "            \"answer\": 'a'\n",
    "        },\n",
    "    ]\n",
    "\n",
    "    def ask_question(question_data):\n",
    "        print(question_data[\"question\"])\n",
    "        for option in question_data[\"options\"]:\n",
    "            print(option)\n",
    "        while True:\n",
    "            try:\n",
    "                user_answer = input(\"Enter your answer: \")\n",
    "                if user_answer in ['a', 'b', 'c', 'd']:\n",
    "                    correct = user_answer == question_data[\"answer\"]\n",
    "                    if not correct:\n",
    "                        print(f\"Incorrect.\")\n",
    "                    return user_answer, question_data[\"answer\"], correct\n",
    "                else:\n",
    "                    raise ValueError(\"Invalid option. Please enter a, b, c, or d.\")\n",
    "            except ValueError as e:\n",
    "                print(e)\n",
    "\n",
    "    score = 0\n",
    "    all_answers = []  # a list to store all the user's answers and correct answers\n",
    "\n",
    "    for question_data in quiz_data:\n",
    "        user_answer, correct_answer, correct = ask_question(question_data)\n",
    "        all_answers.append((question_data[\"question\"], user_answer, correct_answer, correct))\n",
    "        if correct:\n",
    "            print(\"Correct!\")\n",
    "            score += 1\n",
    "\n",
    "    print(\"\\n\"+\"-\"*30+\"\\nQuiz Results\\n\"+\"-\"*30)\n",
    "    for item in all_answers:\n",
    "        print(f\"Question: {item[0]}\\nYour Answer: {item[1]}\\nCorrect Answer: {item[2]}\\n{'Correct' if item[3] else 'Incorrect'}\")\n",
    "        print(\"-\"*30)\n",
    "    print(f\"You scored {score}/{len(quiz_data)}.\")\n"
   ]
  },
  {
   "cell_type": "code",
   "execution_count": null,
   "id": "e12bc12d-f2f2-4984-bf24-061e5a9bab02",
   "metadata": {},
   "outputs": [],
   "source": [
    "\"\"\"\n",
    "User-defined Exceptions\n",
    "\n",
    "By deriving a new class from the default Exception class in Python, we can define our own exception types."
   ]
  },
  {
   "cell_type": "code",
   "execution_count": 8,
   "id": "70cf92ee-4e86-4ef3-bb27-b1de7977a069",
   "metadata": {},
   "outputs": [],
   "source": [
    "class MyCustomError(Exception):\n",
    "    pass                                 # In the above code, MyCustomError is derived from the built-in Exception class. \n",
    "                                         # You can use this in your code by using the raise statement."
   ]
  },
  {
   "cell_type": "code",
   "execution_count": 9,
   "id": "02f173f3-0a9c-4882-a99d-f3606b169791",
   "metadata": {},
   "outputs": [
    {
     "ename": "MyCustomError",
     "evalue": "This is a custom error",
     "output_type": "error",
     "traceback": [
      "\u001b[1;31m---------------------------------------------------------------------------\u001b[0m",
      "\u001b[1;31mMyCustomError\u001b[0m                             Traceback (most recent call last)",
      "Cell \u001b[1;32mIn[9], line 1\u001b[0m\n\u001b[1;32m----> 1\u001b[0m \u001b[38;5;28;01mraise\u001b[39;00m MyCustomError(\u001b[38;5;124m\"\u001b[39m\u001b[38;5;124mThis is a custom error\u001b[39m\u001b[38;5;124m\"\u001b[39m)\n",
      "\u001b[1;31mMyCustomError\u001b[0m: This is a custom error"
     ]
    }
   ],
   "source": [
    "raise MyCustomError(\"This is a custom error\")"
   ]
  },
  {
   "cell_type": "code",
   "execution_count": 10,
   "id": "f0b6303b-ffac-4c2b-aa4c-74716870f8fb",
   "metadata": {},
   "outputs": [],
   "source": [
    "# define user-defined exceptions\n",
    "class WrongAge(Exception):\n",
    "    \"Raised when the input value is less than 18\"\n",
    "    pass"
   ]
  },
  {
   "cell_type": "code",
   "execution_count": 13,
   "id": "b33a0d59-601f-46bc-a6d9-cd594b8aef63",
   "metadata": {},
   "outputs": [
    {
     "name": "stdin",
     "output_type": "stream",
     "text": [
      "Enter a age:  9\n"
     ]
    },
    {
     "name": "stdout",
     "output_type": "stream",
     "text": [
      "Invalid Age: You are not allowed to work\n"
     ]
    }
   ],
   "source": [
    "# you need to guess the Age\n",
    "\n",
    "n = 18\n",
    "\n",
    "try:\n",
    "    input_num = int(input(\"Enter a age: \"))\n",
    "    if input_num < n:\n",
    "        raise WrongAge # calling your custom exception\n",
    "    else:\n",
    "        print(\"You can work\")\n",
    "except WrongAge:\n",
    "    print(\"Invalid Age: You are not allowed to work\")\n",
    "\n",
    "# Out put:\n",
    "#  Enter a age:  22\n",
    "#  You can work"
   ]
  }
 ],
 "metadata": {
  "kernelspec": {
   "display_name": "Python 3 (ipykernel)",
   "language": "python",
   "name": "python3"
  },
  "language_info": {
   "codemirror_mode": {
    "name": "ipython",
    "version": 3
   },
   "file_extension": ".py",
   "mimetype": "text/x-python",
   "name": "python",
   "nbconvert_exporter": "python",
   "pygments_lexer": "ipython3",
   "version": "3.12.2"
  }
 },
 "nbformat": 4,
 "nbformat_minor": 5
}
