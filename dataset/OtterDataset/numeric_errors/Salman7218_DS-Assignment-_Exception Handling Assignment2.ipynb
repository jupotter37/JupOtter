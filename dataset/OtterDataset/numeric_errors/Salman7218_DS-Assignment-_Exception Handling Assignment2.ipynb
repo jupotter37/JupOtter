{
 "cells": [
  {
   "cell_type": "code",
   "execution_count": null,
   "id": "d38c2133-7dd2-4685-8eb3-0f20bc71f93a",
   "metadata": {},
   "outputs": [],
   "source": [
    "\"\"\"Q1. Explain why we have to use the Exception class while creating a Custom Exception.\n",
    "Note: Here Exception class refers to the base class for all the exceptions.\n",
    "Ans.: In Python, the Exception class is the base class for all built-in exceptions. When you define a custom exception class, you \n",
    "typically want it to behave like a built-in exception class, with a few additional features specific to your use case. By inheriting \n",
    "from the Exception class, your custom exception class inherits all of the behavior of the built-in exception classes.\n",
    "\n",
    "Inheriting from the Exception class ensures that your custom exception class will have the following behavior:\n",
    "\n",
    "1. It can be raised using the raise statement, just like any built-in exception.\n",
    "2. It can be caught using the try-except statement, just like any built-in exception.\n",
    "3. It can be used as a base class for other custom exception classes, allowing you to create a hierarchy of exception classes that can be used \n",
    "to handle different types of errors in your code.\n",
    "\n",
    "In addition to these benefits, inheriting from the Exception class also ensures that your custom exception class will have some basic \n",
    "attributes and methods, such as args, __str__, and __repr__, that are used to represent the exception object in error messages and \n",
    "debugging output.\"\"\""
   ]
  },
  {
   "cell_type": "code",
   "execution_count": 1,
   "id": "87642c30-9635-4546-afa3-d2d5f9a20a37",
   "metadata": {},
   "outputs": [
    {
     "name": "stdout",
     "output_type": "stream",
     "text": [
      "Help on class Exception in module builtins:\n",
      "\n",
      "class Exception(BaseException)\n",
      " |  Common base class for all non-exit exceptions.\n",
      " |  \n",
      " |  Method resolution order:\n",
      " |      Exception\n",
      " |      BaseException\n",
      " |      object\n",
      " |  \n",
      " |  Built-in subclasses:\n",
      " |      ArithmeticError\n",
      " |      AssertionError\n",
      " |      AttributeError\n",
      " |      BufferError\n",
      " |      ... and 15 other subclasses\n",
      " |  \n",
      " |  Methods defined here:\n",
      " |  \n",
      " |  __init__(self, /, *args, **kwargs)\n",
      " |      Initialize self.  See help(type(self)) for accurate signature.\n",
      " |  \n",
      " |  ----------------------------------------------------------------------\n",
      " |  Static methods defined here:\n",
      " |  \n",
      " |  __new__(*args, **kwargs) from builtins.type\n",
      " |      Create and return a new object.  See help(type) for accurate signature.\n",
      " |  \n",
      " |  ----------------------------------------------------------------------\n",
      " |  Methods inherited from BaseException:\n",
      " |  \n",
      " |  __delattr__(self, name, /)\n",
      " |      Implement delattr(self, name).\n",
      " |  \n",
      " |  __getattribute__(self, name, /)\n",
      " |      Return getattr(self, name).\n",
      " |  \n",
      " |  __reduce__(...)\n",
      " |      Helper for pickle.\n",
      " |  \n",
      " |  __repr__(self, /)\n",
      " |      Return repr(self).\n",
      " |  \n",
      " |  __setattr__(self, name, value, /)\n",
      " |      Implement setattr(self, name, value).\n",
      " |  \n",
      " |  __setstate__(...)\n",
      " |  \n",
      " |  __str__(self, /)\n",
      " |      Return str(self).\n",
      " |  \n",
      " |  with_traceback(...)\n",
      " |      Exception.with_traceback(tb) --\n",
      " |      set self.__traceback__ to tb and return self.\n",
      " |  \n",
      " |  ----------------------------------------------------------------------\n",
      " |  Data descriptors inherited from BaseException:\n",
      " |  \n",
      " |  __cause__\n",
      " |      exception cause\n",
      " |  \n",
      " |  __context__\n",
      " |      exception context\n",
      " |  \n",
      " |  __dict__\n",
      " |  \n",
      " |  __suppress_context__\n",
      " |  \n",
      " |  __traceback__\n",
      " |  \n",
      " |  args\n",
      "\n"
     ]
    }
   ],
   "source": [
    "\"\"\"Q2. Write a python program to print Python Exception Hierarchy.\"\"\"\n",
    "\n",
    "# use the help function to print Python Exception Hierarchy\n",
    "help(Exception)\n"
   ]
  },
  {
   "cell_type": "code",
   "execution_count": null,
   "id": "91794afb-6740-4e7a-a25d-73d621de6903",
   "metadata": {},
   "outputs": [
    {
     "name": "stdout",
     "output_type": "stream",
     "text": [
      "Error: division by zero\n"
     ]
    },
    {
     "data": {
      "text/plain": [
       "\"In this example, the try block attempts to multiply a and b, which are both very large numbers. This produces a result that is too \\nlarge to be represented by the computer's hardware, and raises an OverflowError, which is caught by the except block and prints an error \\nmessage.\""
      ]
     },
     "execution_count": 1,
     "metadata": {},
     "output_type": "execute_result"
    }
   ],
   "source": [
    "\"\"\"Q3. What errors are defined in the ArithmeticError class? Explain any two with an example.\n",
    "Ans.: The ArithmeticError class in Python is a base class for errors that occur during arithmetic operations. It is the parent class of \n",
    "several other exception classes that are raised for specific arithmetic errors. Here are two examples of errors defined in the \n",
    "ArithmeticError class:\n",
    "\n",
    "1. ZeroDivisionError: This error is raised when an arithmetic operation attempts to divide a number by zero. For example:\"\"\"\n",
    "a = 5\n",
    "b = 0\n",
    "\n",
    "try:\n",
    "    result = a/b\n",
    "except ZeroDivisionError:\n",
    "    print(\"Error: division by zero\")\n",
    "    \n",
    "\"\"\"In this example, the try block attempts to divide a by b, which is zero. This raises a ZeroDivisionError, which is caught by the \n",
    "except block and prints an error message.\"\"\"\n",
    "\n",
    "\"\"\"2.OverflowError: This error is raised when an arithmetic operation produces a result that is too large to be represented by\n",
    "the computer's hardware. For example:\"\"\"\n",
    "a = 10**1000\n",
    "b = 10**1000\n",
    "\n",
    "try:\n",
    "    result = a * b\n",
    "except OverflowError:\n",
    "    print(\"Error: result too large\")\n",
    "\n",
    "\"\"\"In this example, the try block attempts to multiply a and b, which are both very large numbers. This produces a result that is too \n",
    "large to be represented by the computer's hardware, and raises an OverflowError, which is caught by the except block and prints an error \n",
    "message.\"\"\"\n"
   ]
  },
  {
   "cell_type": "code",
   "execution_count": 2,
   "id": "d07995dc-ece5-46ee-b47c-3fcb1257e77e",
   "metadata": {},
   "outputs": [
    {
     "name": "stdout",
     "output_type": "stream",
     "text": [
      "KeyError or IndexError occurred\n"
     ]
    }
   ],
   "source": [
    "\"\"\"Q4. Why LookupError class is used? Explain with an example KeyError and IndexError.\n",
    "Ans.:The 'LookupError' class is a base class for exceptions that occur when a lookup or indexing operation fails in Python. It is used when \n",
    "a particular key or index is not found in a sequence or mapping.\n",
    "\n",
    "The 'KeyError' and 'IndexError' are two specific exceptions that inherit from the LookupError class and are commonly used in Python.\n",
    "\n",
    "'KeyError' is raised when you try to access a non-existent key in a dictionary. For example, consider the following code:\"\"\"\n",
    "\n",
    "my_dict = {'a': 1, 'b': 2, 'c': 3}\n",
    "\n",
    "try:\n",
    "    value = my_dict['d']\n",
    "except LookupError:\n",
    "    print(\"KeyError or IndexError occurred\")\n",
    "\n",
    "    \"\"\"In this example, if a KeyError or IndexError occurs while accessing the dictionary, the except block will catch the base LookupError\n",
    "    exception and print a message.\"\"\""
   ]
  },
  {
   "cell_type": "code",
   "execution_count": null,
   "id": "24f32c35-9d60-44f9-9802-4aa8ed15f153",
   "metadata": {},
   "outputs": [],
   "source": [
    "\"\"\"Q5. Explain ImportError. What is ModuleNotFoundError?\n",
    "Ans.:In Python, ImportError is an exception that is raised when a module, package or object cannot be imported. It typically occurs when the \n",
    "Python interpreter cannot find the specified module or when the module has some syntax errors.\n",
    "\n",
    "If the my_module file does not exist or has some syntax errors, an ImportError will be raised when the import statement is executed.\n",
    "\n",
    "Another similar exception that can be raised when a module cannot be found is ModuleNotFoundError. It is a subclass of ImportError and was introduced \n",
    "in Python 3.6.\n",
    "\n",
    "ModuleNotFoundError is raised when the module or package that you are trying to import is not found in the current scope.\n",
    "In summary, ImportError is a general exception that is raised when a module or package cannot be imported, while ModuleNotFoundError is a more \n",
    "specific exception that is raised when a module or package is not found in the current scope.\n",
    "\"\"\""
   ]
  },
  {
   "cell_type": "code",
   "execution_count": null,
   "id": "7e604886-25ff-4c93-93f6-a9db47be417d",
   "metadata": {},
   "outputs": [],
   "source": [
    "\"\"\"Q6. List down some best practices for exception handling in python.\n",
    "Ans.: 1. Use specific exceptions: Catching specific exceptions allows you to handle them in a more targeted way. Catching the base Exception class \n",
    "is not recommended as it can catch any type of exception, which can make it harder to debug and maintain your code.\n",
    "\n",
    "2. Use try-except blocks judiciously: Use try-except blocks only when necessary and only for the code that may raise exceptions. Avoid using a \n",
    "try-except block to catch all exceptions within a function or program, as it can hide important errors and make debugging difficult.\n",
    "\n",
    "3. Use finally blocks for cleanup: Use finally blocks to ensure that resources (such as files, network connections, or database connections) are p\n",
    "roperly released, even if an exception is raised.\n",
    "\n",
    "4. Handle exceptions gracefully: Instead of letting your program crash with an unhandled exception, handle exceptions gracefully and provide meaningful\n",
    "error messages to users. This will help users understand the issue and allow them to take appropriate action.\n",
    "\n",
    "5. Don't silence exceptions: Avoid using an empty except block as it can silence exceptions and make it harder to diagnose errors. If you're not sure \n",
    "what exceptions to catch, use a specific exception or the base Exception class.\n",
    "\n",
    "6. Use logging to track exceptions: Use Python's built-in logging module to log exceptions and other errors in your program. This will help you track\n",
    "down issues and diagnose errors more easily.\"\"\""
   ]
  }
 ],
 "metadata": {
  "kernelspec": {
   "display_name": "Python 3 (ipykernel)",
   "language": "python",
   "name": "python3"
  },
  "language_info": {
   "codemirror_mode": {
    "name": "ipython",
    "version": 3
   },
   "file_extension": ".py",
   "mimetype": "text/x-python",
   "name": "python",
   "nbconvert_exporter": "python",
   "pygments_lexer": "ipython3",
   "version": "3.10.8"
  }
 },
 "nbformat": 4,
 "nbformat_minor": 5
}
