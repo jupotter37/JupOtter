{
 "cells": [
  {
   "cell_type": "markdown",
   "metadata": {},
   "source": [
    "Exception : It is an unwanted event/error.\n",
    "\n",
    "Exception handling : It is an alternate way to gracefully terminate our program, it will not fix tha error but will handle it. \n",
    "Exception handling blocks: \n",
    "1. try block - The code which is suspicious is kept inside the try block.\n",
    "2. except block - It handles exception\n",
    "3. finally block - It is used to execute certain block of code regardless of errors.\n",
    "4. else block - It is used to execute certain block of code if there is no error.\n",
    "\n",
    "raise - raise is a keyword which is used to raise an exception, here we can define the kind of error to be raised and the message to be printed."
   ]
  },
  {
   "cell_type": "code",
   "execution_count": 2,
   "metadata": {},
   "outputs": [
    {
     "ename": "TypeError",
     "evalue": "unsupported operand type(s) for +: 'int' and 'str'",
     "output_type": "error",
     "traceback": [
      "\u001b[1;31m---------------------------------------------------------------------------\u001b[0m",
      "\u001b[1;31mTypeError\u001b[0m                                 Traceback (most recent call last)",
      "\u001b[1;32m~\\AppData\\Local\\Temp\\ipykernel_19120\\3943413309.py\u001b[0m in \u001b[0;36m<module>\u001b[1;34m\u001b[0m\n\u001b[0;32m      1\u001b[0m \u001b[0ma\u001b[0m \u001b[1;33m=\u001b[0m \u001b[1;36m10\u001b[0m\u001b[1;33m\u001b[0m\u001b[1;33m\u001b[0m\u001b[0m\n\u001b[0;32m      2\u001b[0m \u001b[0mb\u001b[0m \u001b[1;33m=\u001b[0m \u001b[1;34m\"twenty\"\u001b[0m\u001b[1;33m\u001b[0m\u001b[1;33m\u001b[0m\u001b[0m\n\u001b[1;32m----> 3\u001b[1;33m \u001b[0mc\u001b[0m \u001b[1;33m=\u001b[0m \u001b[0ma\u001b[0m\u001b[1;33m+\u001b[0m\u001b[0mb\u001b[0m\u001b[1;33m\u001b[0m\u001b[1;33m\u001b[0m\u001b[0m\n\u001b[0m\u001b[0;32m      4\u001b[0m \u001b[0mprint\u001b[0m\u001b[1;33m(\u001b[0m\u001b[0mc\u001b[0m\u001b[1;33m)\u001b[0m\u001b[1;33m\u001b[0m\u001b[1;33m\u001b[0m\u001b[0m\n\u001b[0;32m      5\u001b[0m \u001b[0mprint\u001b[0m\u001b[1;33m(\u001b[0m\u001b[1;34m\"Program finished\"\u001b[0m\u001b[1;33m)\u001b[0m\u001b[1;33m\u001b[0m\u001b[1;33m\u001b[0m\u001b[0m\n",
      "\u001b[1;31mTypeError\u001b[0m: unsupported operand type(s) for +: 'int' and 'str'"
     ]
    }
   ],
   "source": [
    "a = 10\n",
    "b = \"twenty\"\n",
    "c = a+b\n",
    "print(c)\n",
    "print(\"Program finished\")\n",
    "print(\"----------------------------\")"
   ]
  },
  {
   "cell_type": "code",
   "execution_count": 5,
   "metadata": {},
   "outputs": [
    {
     "name": "stdout",
     "output_type": "stream",
     "text": [
      "Error occured :  invalid literal for int() with base 10: 'dfggd'\n",
      "Program finished\n",
      "----------------------------\n"
     ]
    }
   ],
   "source": [
    "try:\n",
    "    a = int(input(\"Enter first number\"))\n",
    "    b = int(input(\"Enter second number\"))\n",
    "    c = a+b\n",
    "\n",
    "except Exception as ex: \n",
    "    print(\"Error occured : \",ex)\n",
    "\n",
    "print(\"Program finished\")\n",
    "print(\"----------------------------\")\n",
    "\n"
   ]
  },
  {
   "cell_type": "code",
   "execution_count": 7,
   "metadata": {},
   "outputs": [
    {
     "name": "stdout",
     "output_type": "stream",
     "text": [
      "Please check the file name, This file is not found in system\n"
     ]
    }
   ],
   "source": [
    "\n",
    "try:\n",
    "    with open(\"demo.txt\",\"r\") as file:\n",
    "        data = file.read()\n",
    "        print(data)\n",
    "\n",
    "except Exception as ex:\n",
    "    print(\"Please check the file name, This file is not found in system\")\n",
    "\n"
   ]
  },
  {
   "cell_type": "code",
   "execution_count": 9,
   "metadata": {},
   "outputs": [
    {
     "name": "stdout",
     "output_type": "stream",
     "text": [
      "-----------------Program finished-------------------\n"
     ]
    }
   ],
   "source": [
    "try:\n",
    "    number = int(input(\"Enter the number\"))\n",
    "    divisor = int(input(\"Enter the divisor\"))\n",
    "    result = number/divisor\n",
    "\n",
    "except Exception as ex:\n",
    "    print(f\"Error occured : {ex}\")\n",
    "\n",
    "finally:\n",
    "    print(\"-----------------Program finished-------------------\")"
   ]
  },
  {
   "cell_type": "code",
   "execution_count": 11,
   "metadata": {},
   "outputs": [
    {
     "name": "stdout",
     "output_type": "stream",
     "text": [
      "-----------------No error found-------------------\n"
     ]
    }
   ],
   "source": [
    "try:\n",
    "    number = int(input(\"Enter the number\"))\n",
    "    divisor = int(input(\"Enter the divisor\"))\n",
    "    result = number/divisor\n",
    "\n",
    "except Exception as ex:\n",
    "    print(f\"Error occured : {ex}\")\n",
    "\n",
    "else:\n",
    "    print(\"-----------------No error found-------------------\")"
   ]
  },
  {
   "cell_type": "code",
   "execution_count": 12,
   "metadata": {},
   "outputs": [
    {
     "name": "stdout",
     "output_type": "stream",
     "text": [
      "How are you doing today!!\n",
      "The file is closed\n"
     ]
    }
   ],
   "source": [
    "\n",
    "try:\n",
    "    file = open(\"sample.txt\",\"r\")\n",
    "    data = file.read()\n",
    "    print(data)\n",
    "\n",
    "except Exception as ex:\n",
    "    print(\"Please check the file name, This file is not found in system\")\n",
    "\n",
    "else:\n",
    "    file.close()\n",
    "    print(\"The file is closed\")\n",
    "\n"
   ]
  },
  {
   "cell_type": "code",
   "execution_count": 15,
   "metadata": {},
   "outputs": [
    {
     "ename": "NameError",
     "evalue": "You have entered a non-natural number",
     "output_type": "error",
     "traceback": [
      "\u001b[1;31m---------------------------------------------------------------------------\u001b[0m",
      "\u001b[1;31mNameError\u001b[0m                                 Traceback (most recent call last)",
      "\u001b[1;32m~\\AppData\\Local\\Temp\\ipykernel_19120\\386426857.py\u001b[0m in \u001b[0;36m<module>\u001b[1;34m\u001b[0m\n\u001b[0;32m     18\u001b[0m \u001b[0mn\u001b[0m \u001b[1;33m=\u001b[0m \u001b[0mint\u001b[0m\u001b[1;33m(\u001b[0m\u001b[0minput\u001b[0m\u001b[1;33m(\u001b[0m\u001b[1;34m\"Enter the number : \"\u001b[0m\u001b[1;33m)\u001b[0m\u001b[1;33m)\u001b[0m\u001b[1;33m\u001b[0m\u001b[1;33m\u001b[0m\u001b[0m\n\u001b[0;32m     19\u001b[0m \u001b[1;32mif\u001b[0m \u001b[0mn\u001b[0m\u001b[1;33m<\u001b[0m\u001b[1;36m1\u001b[0m\u001b[1;33m:\u001b[0m\u001b[1;33m\u001b[0m\u001b[1;33m\u001b[0m\u001b[0m\n\u001b[1;32m---> 20\u001b[1;33m     \u001b[1;32mraise\u001b[0m \u001b[0mNameError\u001b[0m\u001b[1;33m(\u001b[0m\u001b[1;34m\"You have entered a non-natural number\"\u001b[0m\u001b[1;33m)\u001b[0m\u001b[1;33m\u001b[0m\u001b[1;33m\u001b[0m\u001b[0m\n\u001b[0m\u001b[0;32m     21\u001b[0m \u001b[0mresult\u001b[0m \u001b[1;33m=\u001b[0m \u001b[0mprime_number\u001b[0m\u001b[1;33m(\u001b[0m\u001b[0mn\u001b[0m\u001b[1;33m)\u001b[0m\u001b[1;33m\u001b[0m\u001b[1;33m\u001b[0m\u001b[0m\n\u001b[0;32m     22\u001b[0m \u001b[1;32mif\u001b[0m \u001b[0mresult\u001b[0m \u001b[1;33m==\u001b[0m \u001b[1;32mTrue\u001b[0m\u001b[1;33m:\u001b[0m\u001b[1;33m\u001b[0m\u001b[1;33m\u001b[0m\u001b[0m\n",
      "\u001b[1;31mNameError\u001b[0m: You have entered a non-natural number"
     ]
    }
   ],
   "source": [
    "def prime_number(num):\n",
    "    if num==1:\n",
    "        return False\n",
    "    \n",
    "    elif num==2:\n",
    "        return True\n",
    "    \n",
    "    elif num >2:\n",
    "        status = True\n",
    "        for i in range(2,num):\n",
    "            if num%i == 0:\n",
    "                status = False\n",
    "                return False\n",
    "            \n",
    "        if status == True:\n",
    "            return True\n",
    "        \n",
    "n = int(input(\"Enter the number : \"))\n",
    "if n<1:\n",
    "    raise NameError(\"You have entered a non-natural number\")\n",
    "result = prime_number(n)\n",
    "if result == True:\n",
    "    print(\"Its a prime number\")\n",
    "\n",
    "else:\n",
    "    print(\"Non-prime number\")\n"
   ]
  },
  {
   "cell_type": "code",
   "execution_count": null,
   "metadata": {},
   "outputs": [],
   "source": []
  },
  {
   "cell_type": "markdown",
   "metadata": {},
   "source": [
    "Write a program for getting the name and contact details from user, if it incorrect, then raise an error using raise keyword.\n"
   ]
  },
  {
   "cell_type": "code",
   "execution_count": 17,
   "metadata": {},
   "outputs": [
    {
     "name": "stdout",
     "output_type": "stream",
     "text": [
      "Contact saved: Name: abc, Phone Number: 9876543213\n"
     ]
    }
   ],
   "source": [
    "import re\n",
    "\n",
    "def contact_details():\n",
    "    while True:\n",
    "        name = input(\"Enter the contact's name: \")\n",
    "        phone_number = input(\"Enter the contact's phone number (e.g., +1234567890): \")\n",
    "        \n",
    "        \n",
    "        if not re.match(\"^[6789]\\d{9}$\", phone_number):\n",
    "            raise ValueError(\"Invalid phone number format. Please use the format '+1234567890'.\")\n",
    "        return name, phone_number\n",
    "\n",
    "name, phone_number = contact_details()\n",
    "print(f\"Contact saved: Name: {name}, Phone Number: {phone_number}\")"
   ]
  },
  {
   "cell_type": "code",
   "execution_count": null,
   "metadata": {},
   "outputs": [],
   "source": [
    "class Invalid_number(Exception):\n",
    "    def __init__(self):\n",
    "        phone_number = input(\"Enter the contact's phone number (e.g., +1234567890): \")\n",
    "        \n",
    "        if not re.match(\"^[6789]\\d{9}$\", phone_number):\n",
    "            raise Invalid_number(\"Invalid phone number format. Please use the format '+1234567890'.\")\n",
    "\n",
    "        \n",
    "\n"
   ]
  },
  {
   "cell_type": "markdown",
   "metadata": {},
   "source": [
    "Python Exceptions List\n",
    "Here is the complete list of Python in-built exceptions.\n",
    "\n",
    "Sr.No.\tName of the Exception\tDescription of the Exception\n",
    "1\tException\tAll exceptions of Python have a base class.\n",
    "2\tStopIteration\tIf the next() method returns null for an iterator, this exception is raised.\n",
    "3\tSystemExit\tThe sys.exit() procedure raises this value.\n",
    "4\tStandardError\tExcluding the StopIteration and SystemExit, this is the base class for all Python built-in exceptions.\n",
    "5\tArithmeticError\tAll mathematical computation errors belong to this base class.\n",
    "6\tOverflowError\tThis exception is raised when a computation surpasses the numeric data type's maximum limit.\n",
    "7\tFloatingPointError\tIf a floating-point operation fails, this exception is raised.\n",
    "8\tZeroDivisionError\tFor all numeric data types, its value is raised whenever a number is attempted to be divided by zero.\n",
    "9\tAssertionError\tIf the Assert statement fails, this exception is raised.\n",
    "10\tAttributeError\tThis exception is raised if a variable reference or assigning a value fails.\n",
    "11\tEOFError\tWhen the endpoint of the file is approached, and the interpreter didn't get any input value by raw_input() or input() functions, this exception is raised.\n",
    "12\tImportError\tThis exception is raised if using the import keyword to import a module fails.\n",
    "13\tKeyboardInterrupt\tIf the user interrupts the execution of a program, generally by hitting Ctrl+C, this exception is raised.\n",
    "14\tLookupError\tLookupErrorBase is the base class for all search errors.\n",
    "15\tIndexError\tThis exception is raised when the index attempted to be accessed is not found.\n",
    "16\tKeyError\tWhen the given key is not found in the dictionary to be found in, this exception is raised.\n",
    "17\tNameError\tThis exception is raised when a variable isn't located in either local or global namespace.\n",
    "18\tUnboundLocalError\tThis exception is raised when we try to access a local variable inside a function, and the variable has not been assigned any value.\n",
    "19\tEnvironmentError\tAll exceptions that arise beyond the Python environment have this base class.\n",
    "20\tIOError\tIf an input or output action fails, like when using the print command or the open() function to access a file that does not exist, this exception is raised.\n",
    "22\tSyntaxError\tThis exception is raised whenever a syntax error occurs in our program.\n",
    "23\tIndentationError\tThis exception was raised when we made an improper indentation.\n",
    "24\tSystemExit\tThis exception is raised when the sys.exit() method is used to terminate the Python interpreter. The parser exits if the situation is not addressed within the code.\n",
    "25\tTypeError\tThis exception is raised whenever a data type-incompatible action or function is tried to be executed.\n",
    "26\tValueError\tThis exception is raised if the parameters for a built-in method for a particular data type are of the correct type but have been given the wrong values.\n",
    "27\tRuntimeError\tThis exception is raised when an error that occurred during the program's execution cannot be classified.\n",
    "28\tNotImplementedError\tIf an abstract function that the user must define in an inherited class is not defined, this exception is raised."
   ]
  }
 ],
 "metadata": {
  "kernelspec": {
   "display_name": "Python 3",
   "language": "python",
   "name": "python3"
  },
  "language_info": {
   "codemirror_mode": {
    "name": "ipython",
    "version": 3
   },
   "file_extension": ".py",
   "mimetype": "text/x-python",
   "name": "python",
   "nbconvert_exporter": "python",
   "pygments_lexer": "ipython3",
   "version": "3.9.13"
  },
  "orig_nbformat": 4
 },
 "nbformat": 4,
 "nbformat_minor": 2
}
